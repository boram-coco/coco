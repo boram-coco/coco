{
  "cells": [
    {
      "cell_type": "markdown",
      "metadata": {},
      "source": [
        "# Practical Synthetic Data Generation\n",
        "\n",
        "김보람  \n",
        "2023-03-10\n",
        "\n",
        "# [Practical Synthetic Data Generation](https://product.kyobobook.co.kr/detail/S000001810338)\n",
        "\n",
        "-   부제: 머신러닝을 위한 실전 데이터셋\n",
        "\n",
        "-   출판사: 한빛미디어\n",
        "\n",
        "-   저자: 칼리드 엘 에맘, 루시 모스케라, 리처드 홉트로프\n",
        "\n",
        "-   옮긴이: 심상진 옮김\n",
        "\n",
        "-   소개글: 머신러닝 모델을 구축하고, 테스트를 진행하려면 크고 다양한\n",
        "    종류의 데이터가 필요하다. 그러나 대부분의 데이터셋은 개인 정보\n",
        "    문제로 사용이 제한적이라 광범위하게 사용할 수 없다. 이 책에서는 실제\n",
        "    데이터로 새로운 데이터를 만드는 실용적인 합성 데이터 기술을\n",
        "    소개한다. 합성 데이터는 이차 분석에 용이하여 데이터 연구, 고객\n",
        "    행동의 이해, 신제품 개발 등 다양한 목적으로 활용될 수 있다. 이 책은\n",
        "    실제 데이터를 합성해 다양한 산업에서 사용할 수 있는 방법을 제공하며,\n",
        "    개인 정보 문제를 해결하는 방법을 다룬다. 또한 실제 데이터셋에서 합성\n",
        "    데이터를 생성하기 위한 원칙과 단계를 배운다. 더 나아가 합성 데이터가\n",
        "    제품이나 솔루션 개발에 드는 시간을 어떻게 단축할 수 있는지를\n",
        "    학습한다.\n",
        "\n",
        "## CHAPTER 1 합성 데이터 생성 소개\n",
        "\n",
        "`-` 합성 데이터 정의\n",
        "\n",
        "-   실제 데이터가 아니라 실제 데이터에서 생성되어 통계속성이 동일한\n",
        "    데이터\n",
        "\n",
        "`-` 합성 데이터 유형\n",
        "\n",
        "1.  실제 데이터로 합성하기\n",
        "\n",
        "2.  실제 데이터 없이 합성하기\n",
        "\n",
        "3.  두 가지 유형을 합친 하이브리드\n",
        "\n",
        "`-` 합성 데이터 이점\n",
        "\n",
        "-   식별 가능한 개인 데이터가 아님 $\\to$ 개인 정보 보호 규정 적용x\n",
        "\n",
        "-   데이터 이차 목적 사용 가능\n",
        "\n",
        "-   수집이 어렵거나 비실용적, 비윤리적인 경우도 사용 가능\n",
        "\n",
        "-   초기 모델을 훈련 $\\to$ 데이터 모델의 정합화 촉진\n",
        "\n",
        "`-` 합성 데이터 활용 사례\n",
        "\n",
        "-   제조/유통\n",
        "\n",
        "-   헬스케어\n",
        "\n",
        "-   금융 서비스\n",
        "\n",
        "-   교통수단\n",
        "\n",
        "`-` 공공 데이터는 통제되지 않는다.\n",
        "\n",
        "`-` [영국 공중보건국 합성 암 등록 데이터](https://bit.ly/2P5VAL0)\n",
        "\n",
        "## CHAPTER 2 데이터 합성\n",
        "\n",
        "`-` 데이터 합성이 데이터에 접근하는 최선의 방식인가?\n",
        "\n",
        "$\\to$ 구현 프로세스 고려\n",
        "\n",
        "`-` 결정기준\n",
        "\n",
        "-   프라이버시, 운영 비용, 데이터 효용성, 소비자 신뢰도\n",
        "\n",
        "## CHAPTER 3 시작: 분포 적합\n",
        "\n",
        "`-` 데이터 합성 방법론과 기술\n",
        "\n",
        "-   분포 모델링(정규 분포/지수 분포 등 고전적인 분포)에 개별 변수를\n",
        "    적합시키거나 데이터 구조 모델링 사용\n",
        "\n",
        "`-` 과적합 해결법\n",
        "\n",
        "-   분포를 중립 지점에서 시작해 데이터에 더 가깝게 더 가까운 쪽으로\n",
        "    이동하여 각 단계별 분포의 단순성과 적합도 사이에서 균형을 이루게\n",
        "    하는 접근법\n",
        "\n",
        "-   최고의 절충점에 언제 도착했는지 측정해서 방지\n",
        "\n",
        "-   분포 적합성 접근법?\n",
        "\n",
        "## CHAPTER 4 합성 데이터의 효용성 평가\n",
        "\n",
        "`-` 일변량\n",
        "\n",
        "-   실제 데이터와 합성 데이터에서 각 변수 간의 분포 차이를 측정하기 위한\n",
        "    헬링거 거리 계산\n",
        "\n",
        "-   0: 분포간에 차이 없음 ~ 1: 분포 차이 많음\n",
        "\n",
        "`-` 이변량\n",
        "\n",
        "-   실제 데이터와 합성 데이터의 모든 변수 쌍 간의 상관관계의 절대적 차이\n",
        "    = 데이터 효용성의 척도\n",
        "\n",
        "`-` 다변량\n",
        "\n",
        "-   `10겹 교차 검증`\n",
        "\n",
        "-   데이터 셋을 10개의 동일한 크기의 서브셋으로 나눔\n",
        "\n",
        "-   서브셋1을 테스트셋으로 하고 나머지 9개 데이터셋 모델을 만든다.\n",
        "\n",
        "-   서브셋1에서 모델 테스트, AUROC 계산\n",
        "\n",
        "-   훈련 데이터로 서브셋2 테스트 사용, AUROC 계산\n",
        "\n",
        "-   … 10회 반복 $\\to$ AUROC 10개 값 $\\to$ 평균계산\n",
        "\n",
        "`-` 합성데이터와 실제 데이터에 대한 대응 모델에 대한 계산\n",
        "\n",
        "`-` 두 AUROC값의 절대적 차이 계산\n",
        "\n",
        "`-` 모든 절대값 차이에 대한 상자 그림 생성\n",
        "\n",
        "`-` 경향점수.. (어렵… 103p)\n",
        "\n",
        "## CHAPTER 5 데이터 합성 방법\n",
        "\n",
        "`-` 방법\n",
        "\n",
        "-   정규분포로부터 샘플링\n",
        "\n",
        "-   샘플링 프로세스 중 상관관계 유도\n",
        "\n",
        "-   코퓰러 사용\n",
        "\n",
        "`-` 코퓰러?\n",
        "\n",
        "-   확률변수들 간의 상관관계 또는 종속성을 나타내는 함수\n",
        "-   흠.. 나중에 찾아보자..\n",
        "\n",
        "`-` 머신러닝 방법 - 의사결정 트리(CART) 사용\n",
        "\n",
        "`-` 딥러닝 방법 - 변이형 오토인코더(VAE) - 생성적 적대 신경망(GAN)\n",
        "\n",
        "`-` GAN - 생성기: 입력 무작위 데이터, 정규 분포 또는 균일 분포로부터\n",
        "샘플링하며 합성 데이터 생성 - 판별기: 합성 데이터와 실제 데이터 비교하여\n",
        "유사한 경향 점수 생성 차이 결과를 생성 기 훈련을 위해 다시 제공\n",
        "\n",
        "## CHAPTER 6 합성 데이터의 신원 식별\n",
        "\n",
        "-   노출 유형\n",
        "-   신원 노출(정보 이득이 0이라면 신원 노출에 아무런 의미가 없음)\n",
        "-   속성 노출\n",
        "\n",
        "# Synthetic Data 참고자료\n",
        "\n",
        "1.  (저널)[합성 데이터(Synthetic data)의\n",
        "    부상](https://www.kisdi.re.kr/report/view.do?key=m2101113025339&masterId=4311435&arrMasterId=4311435&artId=706876)\n",
        "\n",
        "2.  (저널) [합성 데이터의 시대가 오고\n",
        "    있다](https://www.technologyreview.kr/%ED%95%A9%EC%84%B1-%EB%8D%B0%EC%9D%B4%ED%84%B0%EC%9D%98-%EC%8B%9C%EB%8C%80%EA%B0%80-%EC%98%A4%EA%B3%A0-%EC%9E%88%EB%8B%A4/)\n",
        "\n",
        "# [SDV](https://sdv.dev/SDV/index.html)\n",
        "\n",
        "-   The Synthetic Data Vault\n",
        "\n",
        "# [SDMetric](https://docs.sdv.dev/sdmetrics/getting-started/quickstart)"
      ],
      "id": "214358c5-1820-43a7-a24b-202382afede3"
    },
    {
      "cell_type": "code",
      "execution_count": 2,
      "metadata": {},
      "outputs": [
        {
          "output_type": "stream",
          "name": "stdout",
          "text": [
            "Collecting sdmetrics\n",
            "  Downloading sdmetrics-0.9.2-py2.py3-none-any.whl (140 kB)\n",
            "     ━━━━━━━━━━━━━━━━━━━━━━━━━━━━━━━━━━━━━━━ 140.7/140.7 kB 8.7 MB/s eta 0:00:00\n",
            "Requirement already satisfied: plotly<6,>=5.10.0 in /home/koinup4/anaconda3/envs/py37/lib/python3.7/site-packages (from sdmetrics) (5.13.0)\n",
            "Requirement already satisfied: scipy<2,>=1.5.4 in /home/koinup4/anaconda3/envs/py37/lib/python3.7/site-packages (from sdmetrics) (1.7.3)\n",
            "Collecting copulas<0.9,>=0.8.0\n",
            "  Downloading copulas-0.8.0-py2.py3-none-any.whl (53 kB)\n",
            "     ━━━━━━━━━━━━━━━━━━━━━━━━━━━━━━━━━━━━━━━━ 53.6/53.6 kB 8.8 MB/s eta 0:00:00\n",
            "Collecting scikit-learn<2,>=0.24\n",
            "  Downloading scikit_learn-1.0.2-cp37-cp37m-manylinux_2_17_x86_64.manylinux2014_x86_64.whl (24.8 MB)\n",
            "     ━━━━━━━━━━━━━━━━━━━━━━━━━━━━━━━━━━━━━━━━ 24.8/24.8 MB 71.7 MB/s eta 0:00:0000:0100:01\n",
            "Requirement already satisfied: numpy<2,>=1.20.0 in /home/koinup4/anaconda3/envs/py37/lib/python3.7/site-packages (from sdmetrics) (1.21.6)\n",
            "Requirement already satisfied: pandas<2,>=1.1.3 in /home/koinup4/anaconda3/envs/py37/lib/python3.7/site-packages (from sdmetrics) (1.3.5)\n",
            "Requirement already satisfied: tqdm<5,>=4.15 in /home/koinup4/anaconda3/envs/py37/lib/python3.7/site-packages (from sdmetrics) (4.64.1)\n",
            "Requirement already satisfied: matplotlib<4,>=3.4.0 in /home/koinup4/anaconda3/envs/py37/lib/python3.7/site-packages (from copulas<0.9,>=0.8.0->sdmetrics) (3.5.3)\n",
            "Requirement already satisfied: pytz>=2017.3 in /home/koinup4/anaconda3/envs/py37/lib/python3.7/site-packages (from pandas<2,>=1.1.3->sdmetrics) (2022.7.1)\n",
            "Requirement already satisfied: python-dateutil>=2.7.3 in /home/koinup4/anaconda3/envs/py37/lib/python3.7/site-packages (from pandas<2,>=1.1.3->sdmetrics) (2.8.2)\n",
            "Requirement already satisfied: tenacity>=6.2.0 in /home/koinup4/anaconda3/envs/py37/lib/python3.7/site-packages (from plotly<6,>=5.10.0->sdmetrics) (8.2.1)\n",
            "Requirement already satisfied: joblib>=0.11 in /home/koinup4/anaconda3/envs/py37/lib/python3.7/site-packages (from scikit-learn<2,>=0.24->sdmetrics) (1.2.0)\n",
            "Collecting threadpoolctl>=2.0.0\n",
            "  Downloading threadpoolctl-3.1.0-py3-none-any.whl (14 kB)\n",
            "Requirement already satisfied: kiwisolver>=1.0.1 in /home/koinup4/anaconda3/envs/py37/lib/python3.7/site-packages (from matplotlib<4,>=3.4.0->copulas<0.9,>=0.8.0->sdmetrics) (1.4.4)\n",
            "Requirement already satisfied: pyparsing>=2.2.1 in /home/koinup4/anaconda3/envs/py37/lib/python3.7/site-packages (from matplotlib<4,>=3.4.0->copulas<0.9,>=0.8.0->sdmetrics) (3.0.9)\n",
            "Requirement already satisfied: packaging>=20.0 in /home/koinup4/anaconda3/envs/py37/lib/python3.7/site-packages (from matplotlib<4,>=3.4.0->copulas<0.9,>=0.8.0->sdmetrics) (23.0)\n",
            "Requirement already satisfied: fonttools>=4.22.0 in /home/koinup4/anaconda3/envs/py37/lib/python3.7/site-packages (from matplotlib<4,>=3.4.0->copulas<0.9,>=0.8.0->sdmetrics) (4.38.0)\n",
            "Requirement already satisfied: pillow>=6.2.0 in /home/koinup4/anaconda3/envs/py37/lib/python3.7/site-packages (from matplotlib<4,>=3.4.0->copulas<0.9,>=0.8.0->sdmetrics) (9.4.0)\n",
            "Requirement already satisfied: cycler>=0.10 in /home/koinup4/anaconda3/envs/py37/lib/python3.7/site-packages (from matplotlib<4,>=3.4.0->copulas<0.9,>=0.8.0->sdmetrics) (0.11.0)\n",
            "Requirement already satisfied: six>=1.5 in /home/koinup4/anaconda3/envs/py37/lib/python3.7/site-packages (from python-dateutil>=2.7.3->pandas<2,>=1.1.3->sdmetrics) (1.16.0)\n",
            "Requirement already satisfied: typing-extensions in /home/koinup4/anaconda3/envs/py37/lib/python3.7/site-packages (from kiwisolver>=1.0.1->matplotlib<4,>=3.4.0->copulas<0.9,>=0.8.0->sdmetrics) (4.4.0)\n",
            "Installing collected packages: threadpoolctl, scikit-learn, copulas, sdmetrics\n",
            "Successfully installed copulas-0.8.0 scikit-learn-1.0.2 sdmetrics-0.9.2 threadpoolctl-3.1.0"
          ]
        }
      ],
      "source": [
        "!pip install sdmetrics"
      ],
      "id": "2dccfc51-a457-489f-b7a2-5c3f8c96880b"
    },
    {
      "cell_type": "markdown",
      "metadata": {},
      "source": [
        "## data"
      ],
      "id": "2f225f00-9353-49a7-83ba-2eb1046e3ebc"
    },
    {
      "cell_type": "code",
      "execution_count": 3,
      "metadata": {},
      "outputs": [],
      "source": [
        "from sdmetrics import load_demo \n",
        "\n",
        "real_data, synthetic_data, metadata = load_demo(modality='single_table')"
      ],
      "id": "72a5353e-987d-4a55-85f2-082c01f22359"
    },
    {
      "cell_type": "code",
      "execution_count": 18,
      "metadata": {},
      "outputs": [],
      "source": [
        "metadata"
      ],
      "id": "0d0f4f5d-00bd-4e4d-b7b1-19ed1dd8e0c8"
    },
    {
      "cell_type": "code",
      "execution_count": 5,
      "metadata": {},
      "outputs": [],
      "source": [
        "real_data.head()"
      ],
      "id": "63107241-1485-492c-b8e8-9403a989921f"
    },
    {
      "cell_type": "code",
      "execution_count": 6,
      "metadata": {},
      "outputs": [],
      "source": [
        "synthetic_data.head()"
      ],
      "id": "51ae050f-5566-481f-a4aa-8ee8f3db864d"
    },
    {
      "cell_type": "code",
      "execution_count": 7,
      "metadata": {},
      "outputs": [
        {
          "output_type": "stream",
          "name": "stderr",
          "text": [
            "Creating report: 100%|██████████| 4/4 [00:00<00:00, 12.97it/s]"
          ]
        },
        {
          "output_type": "stream",
          "name": "stdout",
          "text": [
            "\n",
            "Overall Quality Score: 81.44%\n",
            "\n",
            "Properties:\n",
            "Column Shapes: 81.56%\n",
            "Column Pair Trends: 81.33%"
          ]
        }
      ],
      "source": [
        "from sdmetrics.reports.single_table import QualityReport\n",
        "\n",
        "report = QualityReport()\n",
        "report.generate(real_data, synthetic_data, metadata)"
      ],
      "id": "d48e21bd-d40d-49be-ae7f-466833eecb90"
    },
    {
      "cell_type": "code",
      "execution_count": 8,
      "metadata": {},
      "outputs": [],
      "source": [
        "report.get_details(property_name='Column Shapes')"
      ],
      "id": "2c2d3624-d0ee-4aec-9534-316d8e8ae5c1"
    },
    {
      "cell_type": "markdown",
      "metadata": {},
      "source": [
        "### 시각화"
      ],
      "id": "8f70e6b9-7972-4feb-9434-a88bb8058259"
    },
    {
      "cell_type": "code",
      "execution_count": 9,
      "metadata": {},
      "outputs": [],
      "source": [
        "report.get_visualization(property_name='Column Shapes')"
      ],
      "id": "69822837-6b08-4d3c-99f1-30df65f655c7"
    },
    {
      "cell_type": "markdown",
      "metadata": {},
      "source": [
        "`-` high Quality"
      ],
      "id": "4acd894c-b491-44f4-829a-852e64adbe84"
    },
    {
      "cell_type": "code",
      "execution_count": 16,
      "metadata": {},
      "outputs": [],
      "source": [
        "get_column_plot?"
      ],
      "id": "364dd15b-fbec-403b-a102-b42529865b8e"
    },
    {
      "cell_type": "code",
      "execution_count": 11,
      "metadata": {},
      "outputs": [],
      "source": [
        "from sdmetrics.reports.utils import get_column_plot\n",
        "\n",
        "fig = get_column_plot(\n",
        "    real_data=real_data,\n",
        "    synthetic_data=synthetic_data,\n",
        "    metadata=metadata,\n",
        "    column_name='mba_spec'\n",
        ")\n",
        "\n",
        "fig.show()"
      ],
      "id": "2d790d57-b741-4d4e-ba96-06020c187072"
    },
    {
      "cell_type": "markdown",
      "metadata": {},
      "source": [
        "`-` low Quality"
      ],
      "id": "69ff7e86-4701-46ae-9a89-2142284090dc"
    },
    {
      "cell_type": "code",
      "execution_count": 13,
      "metadata": {},
      "outputs": [],
      "source": [
        "from sdmetrics.reports.utils import get_column_plot\n",
        "\n",
        "fig = get_column_plot(\n",
        "    real_data=real_data,\n",
        "    synthetic_data=synthetic_data,\n",
        "    metadata=metadata,\n",
        "    column_name='second_perc'\n",
        ")\n",
        "\n",
        "fig.show()"
      ],
      "id": "092724a8-a1c9-47cd-9099-671b17a34a00"
    },
    {
      "cell_type": "code",
      "execution_count": 15,
      "metadata": {},
      "outputs": [],
      "source": [
        "report.get_visualization(property_name='Column Pair Trends')"
      ],
      "id": "b374571e-e115-4653-9fa5-4f6547ab9c45"
    },
    {
      "cell_type": "code",
      "execution_count": 24,
      "metadata": {},
      "outputs": [],
      "source": [
        "from sdmetrics.reports.utils import get_column_pair_plot"
      ],
      "id": "01313682-23a9-47ad-8dbb-78a0b7a9432f"
    },
    {
      "cell_type": "code",
      "execution_count": 26,
      "metadata": {},
      "outputs": [],
      "source": [
        "get_column_pair_plot?"
      ],
      "id": "56e0ee38-4be7-4cfc-82bf-9331b9de3ebd"
    },
    {
      "cell_type": "code",
      "execution_count": 27,
      "metadata": {},
      "outputs": [],
      "source": [
        "fig = get_column_pair_plot(\n",
        "    real_data=real_data,\n",
        "    synthetic_data=synthetic_data,\n",
        "    metadata=metadata,\n",
        "    column_names=['start_date', 'second_perc']\n",
        ")\n",
        "\n",
        "fig.show()"
      ],
      "id": "c0f51436-ed71-4ac9-ac78-3a8a9fb540fe"
    },
    {
      "cell_type": "markdown",
      "metadata": {},
      "source": [
        "### 데이터 보고서 형태로 저장\n",
        "\n",
        "``` python\n",
        "report.save(filepath='sdmetrics_quality_demo.pkl')\n",
        "\n",
        "# load the report at a later time\n",
        "report = QualityReport.load(filepath='sdmetrics_quality_demo.pkl')\n",
        "```"
      ],
      "id": "4c3e8d85-3f04-4d61-9709-cb7bd01dd5a6"
    }
  ],
  "nbformat": 4,
  "nbformat_minor": 5,
  "metadata": {
    "kernelspec": {
      "name": "python3",
      "display_name": "Python 3",
      "language": "python"
    },
    "language_info": {
      "name": "python",
      "codemirror_mode": {
        "name": "ipython",
        "version": "3"
      },
      "file_extension": ".py",
      "mimetype": "text/x-python",
      "nbconvert_exporter": "python",
      "pygments_lexer": "ipython3",
      "version": "3.8.16"
    }
  }
}