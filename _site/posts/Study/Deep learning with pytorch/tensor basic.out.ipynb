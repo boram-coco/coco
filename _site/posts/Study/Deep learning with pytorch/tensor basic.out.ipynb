{
  "cells": [
    {
      "cell_type": "markdown",
      "metadata": {},
      "source": [
        "# Tensor Basic\n",
        "\n",
        "김보람  \n",
        "2023-07-14\n",
        "\n",
        "## Ref\n",
        "\n",
        "-   Book: 딥러닝 파이토치 교과서(서지영 지음, 길벗 출판사)\n",
        "\n",
        "-   github: https://github.com/gilbutITbook/080289/tree/main\n",
        "\n",
        "## Basic"
      ],
      "id": "712521a9-4780-4c24-8111-61375b47a27d"
    },
    {
      "cell_type": "code",
      "execution_count": 1,
      "metadata": {},
      "outputs": [],
      "source": [
        "import torch"
      ],
      "id": "3ca33a6f-15bf-4109-b6bb-316000c41bd1"
    },
    {
      "cell_type": "code",
      "execution_count": 2,
      "metadata": {},
      "outputs": [
        {
          "output_type": "stream",
          "name": "stdout",
          "text": [
            "tensor([[1, 2],\n",
            "        [3, 4]])"
          ]
        }
      ],
      "source": [
        "print(torch.tensor([[1,2],[3,4]]))"
      ],
      "id": "fd0e0dd5-0c20-4293-9396-a6205fbd8c64"
    },
    {
      "cell_type": "code",
      "execution_count": 3,
      "metadata": {},
      "outputs": [
        {
          "output_type": "stream",
          "name": "stdout",
          "text": [
            "tensor([[1, 2],\n",
            "        [3, 4]], device='cuda:0')"
          ]
        }
      ],
      "source": [
        "print(torch.tensor([[1,2],[3,4]],device=\"cuda:0\"))"
      ],
      "id": "1f318921-fbdc-428c-af4b-ec1522fb8a1e"
    },
    {
      "cell_type": "code",
      "execution_count": 4,
      "metadata": {},
      "outputs": [
        {
          "output_type": "stream",
          "name": "stdout",
          "text": [
            "tensor([[1., 2.],\n",
            "        [3., 4.]], dtype=torch.float64)"
          ]
        }
      ],
      "source": [
        "print(torch.tensor([[1,2],[3,4]],dtype=torch.float64))"
      ],
      "id": "2fb06876-a61d-4032-9f5b-e29bce839369"
    },
    {
      "cell_type": "markdown",
      "metadata": {},
      "source": [
        "`-` ndarray 변환"
      ],
      "id": "fcbbe530-85ac-4c6d-9c61-cf41e1c40b05"
    },
    {
      "cell_type": "code",
      "execution_count": 5,
      "metadata": {},
      "outputs": [
        {
          "output_type": "stream",
          "name": "stdout",
          "text": [
            "[[1 2]\n",
            " [3 4]]"
          ]
        }
      ],
      "source": [
        "temp = torch.tensor([[1,2],[3,4]])\n",
        "print(temp.numpy())"
      ],
      "id": "f028b94f-1b54-4ed1-ba3b-adabac1c4571"
    },
    {
      "cell_type": "code",
      "execution_count": 8,
      "metadata": {},
      "outputs": [
        {
          "output_type": "stream",
          "name": "stdout",
          "text": [
            "[[1 2]\n",
            " [3 4]]"
          ]
        }
      ],
      "source": [
        "temp = torch.tensor([[1,2],[3,4]],device=\"cuda:0\")\n",
        "print(temp.to(\"cpu\").numpy())"
      ],
      "id": "8d38dac6-1b2c-42ba-95f5-6812c006bb41"
    },
    {
      "cell_type": "markdown",
      "metadata": {},
      "source": [
        "`-` 텐서 차원 조작"
      ],
      "id": "c8ff2b6e-96f6-4252-8af2-daa710fd589d"
    },
    {
      "cell_type": "code",
      "execution_count": 9,
      "metadata": {},
      "outputs": [],
      "source": [
        "temp = torch.tensor([[1,2],[3,4]])"
      ],
      "id": "09b52b31-1e17-4c61-85e3-409b6f9b662b"
    },
    {
      "cell_type": "code",
      "execution_count": 11,
      "metadata": {},
      "outputs": [],
      "source": [
        "temp.shape"
      ],
      "id": "367af052-d996-4ce6-b6e0-934b2bd50790"
    },
    {
      "cell_type": "code",
      "execution_count": 12,
      "metadata": {},
      "outputs": [],
      "source": [
        "temp.view(4,1)"
      ],
      "id": "7854d8c4-fb53-42d0-a083-af080268d302"
    },
    {
      "cell_type": "code",
      "execution_count": 13,
      "metadata": {},
      "outputs": [],
      "source": [
        "temp.view(-1)"
      ],
      "id": "46ce65df-60e8-4336-a19a-5bb5ea5dc878"
    },
    {
      "cell_type": "code",
      "execution_count": 14,
      "metadata": {},
      "outputs": [],
      "source": [
        "temp.view(1,-1)"
      ],
      "id": "5fa458d1-af58-4d34-bfa9-884935707301"
    },
    {
      "cell_type": "code",
      "execution_count": 15,
      "metadata": {},
      "outputs": [],
      "source": [
        "temp.view(-1,1)"
      ],
      "id": "a34211ec-26c8-4ab4-bbd0-15e1df2a939a"
    },
    {
      "cell_type": "markdown",
      "metadata": {},
      "source": [
        "## 모델 정의\n",
        "\n",
        "`-` nn.Module() 상속하여 정의\n",
        "\n",
        "``` python\n",
        "class MLP(Module):\n",
        "    def __init__(self, inputs):\n",
        "        super(MLP, self).__init__()\n",
        "        self.layer = Linear(inputs,1) # 계층 정의\n",
        "        self.activation = Sigmoid() # 활성화 함수 정의\n",
        "        \n",
        "    def forward(self, X):\n",
        "        X = self.layer(X)\n",
        "        X = self.activation(X)\n",
        "        return X\n",
        "```\n",
        "\n",
        "`-` Sequential 신경망 정의하는 방법\n",
        "\n",
        "``` python\n",
        "import torch.nn as nn\n",
        "class MLP(nn.Module):\n",
        "    def __init__(self):\n",
        "        super(MLP, self).__init__()\n",
        "        self.layer1 = nn.Sequential(\n",
        "            nn.Conv2d(in_channels=3, out_channels=64, kernel_size=5),\n",
        "            nn.ReLU(inplace=True),\n",
        "            nn.MaxPool2d(2))\n",
        "        \n",
        "        self.layer2 = nn.Sequential(\n",
        "            nn.Conv2d(in_channels=64, out_channels=30, kernel_size=5),\n",
        "            nn.ReLU(inplace=True),\n",
        "            nn.MaxPool2d(2))\n",
        "        \n",
        "        self.layer3 = nn.Sequential(\n",
        "            nn.Linear(in_features=30*5*5, out_features=10, bias=True),\n",
        "            nn.ReLU(inplace=True))\n",
        "        \n",
        "        def forward(self,x):\n",
        "            x = self.layer1(x)\n",
        "            x = self.layer2(x)\n",
        "            x = x.view(x.shape[0],-1)\n",
        "            x = slelf.layer3(x)\n",
        "            return x\n",
        "        \n",
        "    model = MLP()   # 모델에 대한 객체 생성\n",
        "        \n",
        "```\n",
        "\n",
        "## 모델의 파라미터 정의\n",
        "\n",
        "`-` 손실 함수 (loss function)\n",
        "\n",
        "-   $y$와 $\\hat y$의 오차를 구해서 모델의 정확성을 측정\n",
        "\n",
        "-   BCELoss: 이진 분류\n",
        "\n",
        "-   CrossEntropyLoss: 다중 클래스 분류\n",
        "\n",
        "-   MSELoss: 회귀 모델\n",
        "\n",
        "`-` 옵티마이저 (optimizer)\n",
        "\n",
        "-   데이터의 손실 함수를 바탕으로 모델의 업데이트 방법 결정\n",
        "\n",
        "-   `torch.optim.Optimizer(params, defaults)`는 옵티마이저 기본 클래스\n",
        "\n",
        "-   `zero_grad()` 옵티마이저 사용된 파라미터의 기울기 0으로\n",
        "\n",
        "-   `torch.optim.lr_scheduler` 에폭에 따라 학습률 조절\n",
        "\n",
        "-   종류\n",
        "\n",
        "\\<optim Adadelta, optim.Adagrad, optim.Adam, optim.SparseAdam,\n",
        "optim.Adamax\\>\n",
        "\n",
        "\\<optim.ASGD, optim.LBFGS\\>\n",
        "\n",
        "\\<optim.RMSProp, optim.Rprop, optim.SGD\\>\n",
        "\n",
        "## 모델 훈련\n",
        "\n",
        "`-` 예시 코드\n",
        "\n",
        "``` python\n",
        "for epoch in range(100):\n",
        "    yhat = model(x_train)\n",
        "    loss = criterion(yhat, y_train)\n",
        "    optimizer.zero_gard()\n",
        "    loss.backward()\n",
        "    optimizer.step()\n",
        "```\n",
        "\n",
        "## 예시"
      ],
      "id": "c6302f55-0e5b-4b05-9dfe-c0f2a690671b"
    },
    {
      "cell_type": "code",
      "execution_count": 1,
      "metadata": {},
      "outputs": [],
      "source": [
        "\n",
        "import torch\n",
        "import torch.nn as nn\n",
        "import numpy as np\n",
        "import pandas as pd\n",
        "import matplotlib.pyplot as plt\n",
        "import seaborn as sns\n",
        "%matplotlib inline"
      ],
      "id": "10e9b966-655c-4c49-b245-47071844b00b"
    },
    {
      "cell_type": "code",
      "execution_count": 2,
      "metadata": {},
      "outputs": [],
      "source": [
        "dataset = pd.read_csv('car_evaluation.csv')"
      ],
      "id": "24a583f5-1e06-4848-a15f-933128b29e33"
    },
    {
      "cell_type": "code",
      "execution_count": 3,
      "metadata": {},
      "outputs": [],
      "source": [
        "dataset.head()"
      ],
      "id": "80e16ddc-fa33-4898-98e2-e4d39a47e843"
    },
    {
      "cell_type": "markdown",
      "metadata": {},
      "source": [
        "-   **output(차상태)**: unacc(허용 불가능한 수준), 양호(good), 매우\n",
        "    좋은(very good, vgood)"
      ],
      "id": "6018f031-e97e-44ee-b1de-d4b7e6892d41"
    },
    {
      "cell_type": "code",
      "execution_count": 4,
      "metadata": {},
      "outputs": [],
      "source": [
        "dataset.head()"
      ],
      "id": "aaf27f44-f507-4122-9ad0-311b0cff1050"
    },
    {
      "cell_type": "code",
      "execution_count": 5,
      "metadata": {},
      "outputs": [
        {
          "output_type": "display_data",
          "metadata": {},
          "data": {
            "image/png": "[encoded data removed]"
          }
        }
      ],
      "source": [
        "fig_size = plt.rcParams[\"figure.figsize\"]\n",
        "fig_size[0] = 8\n",
        "fig_size[1] = 6\n",
        "plt.rcParams[\"figure.figsize\"] = fig_size\n",
        "dataset.output.value_counts().plot(kind='pie', autopct='%0.05f%%', colors=['lightblue', 'lightgreen', 'orange', 'pink'], explode=(0.05, 0.05, 0.05, 0.05))"
      ],
      "id": "e7cc9386-d146-43cc-8662-138ee365094b"
    },
    {
      "cell_type": "code",
      "execution_count": 5,
      "metadata": {},
      "outputs": [],
      "source": [
        "categorical_columns = ['price', 'maint', 'doors', 'persons', 'lug_capacity', 'safety']"
      ],
      "id": "232f4c25-620e-46cf-8991-ecf8642dbac8"
    },
    {
      "cell_type": "code",
      "execution_count": 6,
      "metadata": {},
      "outputs": [],
      "source": [
        "for category in categorical_columns:\n",
        "    dataset[category] = dataset[category].astype('category')"
      ],
      "id": "8d127aa4-6b45-43ee-bd81-ff77d8474234"
    },
    {
      "cell_type": "markdown",
      "metadata": {},
      "source": [
        "-   astype() 메서드를 이용하여 데이터를 범주형으로 변환\n",
        "\n",
        "`-` 범주형 데이터를 텐서로 변환하기 위해서는\n",
        "\n",
        "**범주형 데이터 -\\> dataser\\[category\\] -\\> 넘파이 배열(NumPy array) -\\>\n",
        "텐서(Tensor)**"
      ],
      "id": "10413961-87a0-42cf-9ca2-734767b8c2f8"
    },
    {
      "cell_type": "code",
      "execution_count": 7,
      "metadata": {},
      "outputs": [],
      "source": [
        "price = dataset['price'].cat.codes.values\n",
        "maint = dataset['maint'].cat.codes.values\n",
        "doors = dataset['doors'].cat.codes.values\n",
        "persons = dataset['persons'].cat.codes.values\n",
        "lug_capacity = dataset['lug_capacity'].cat.codes.values\n",
        "safety = dataset['safety'].cat.codes.values\n",
        "\n",
        "categorical_data = np.stack([price, maint, doors, persons, lug_capacity, safety], 1)\n",
        "categorical_data[:10]"
      ],
      "id": "62bdc30f-3b3b-4d9f-9a8d-06d4c706bd9f"
    },
    {
      "cell_type": "markdown",
      "metadata": {},
      "source": [
        "`-` 배열 텐서로 변환"
      ],
      "id": "6a1d0a6d-82d6-4bad-bc75-74cbe240bbf5"
    },
    {
      "cell_type": "code",
      "execution_count": 8,
      "metadata": {},
      "outputs": [],
      "source": [
        "categorical_data = torch.tensor(categorical_data, dtype=torch.int64)\n",
        "categorical_data[:10]"
      ],
      "id": "95c5d757-b666-447e-bac4-50b676e271bb"
    },
    {
      "cell_type": "markdown",
      "metadata": {},
      "source": [
        "`-` 레이블(outputs) 사용할 칼럼을 텐서로 변환"
      ],
      "id": "911fb217-5954-4f39-95ac-8e5e61e1367e"
    },
    {
      "cell_type": "code",
      "execution_count": 9,
      "metadata": {},
      "outputs": [
        {
          "output_type": "stream",
          "name": "stdout",
          "text": [
            "torch.Size([1728, 6])\n",
            "torch.Size([6912])"
          ]
        }
      ],
      "source": [
        "outputs = pd.get_dummies(dataset.output)\n",
        "outputs = outputs.values\n",
        "outputs = torch.tensor(outputs).flatten()\n",
        "\n",
        "print(categorical_data.shape)\n",
        "print(outputs.shape)"
      ],
      "id": "5574a64e-b18e-4180-833d-3b913dfd5459"
    },
    {
      "cell_type": "markdown",
      "metadata": {},
      "source": [
        "> note: **revel(), reshape(), flatten()**\n",
        ">\n",
        "> 텐서 차원 변경"
      ],
      "id": "c9b6518a-8662-4948-9293-2f10938e10ed"
    },
    {
      "cell_type": "code",
      "execution_count": 10,
      "metadata": {},
      "outputs": [
        {
          "output_type": "stream",
          "name": "stdout",
          "text": [
            "[(4, 2), (4, 2), (4, 2), (3, 2), (3, 2), (3, 2)]"
          ]
        }
      ],
      "source": [
        "categorical_column_sizes = [len(dataset[column].cat.categories) for column in categorical_columns]\n",
        "categorical_embedding_sizes = [(col_size, min(50, (col_size+1)//2)) for col_size in categorical_column_sizes]\n",
        "print(categorical_embedding_sizes)"
      ],
      "id": "a6df19e0-249a-40d5-ab88-61b303bad3c1"
    },
    {
      "cell_type": "markdown",
      "metadata": {},
      "source": [
        "`-` test/train"
      ],
      "id": "1f5d2eee-7ecc-45f8-a92f-49adb84f0621"
    },
    {
      "cell_type": "code",
      "execution_count": 11,
      "metadata": {},
      "outputs": [],
      "source": [
        "total_records = 1728\n",
        "test_records = int(total_records * .2)   # 20%만 테스트 용도로 사용\n",
        "\n",
        "categorical_train_data = categorical_data[:total_records-test_records]\n",
        "categorical_test_data = categorical_data[total_records-test_records:total_records]\n",
        "train_outputs = outputs[:total_records-test_records]\n",
        "test_outputs = outputs[total_records-test_records:total_records]"
      ],
      "id": "cf26ec2a-a954-4d25-8e40-d90d601471e9"
    },
    {
      "cell_type": "code",
      "execution_count": 12,
      "metadata": {},
      "outputs": [
        {
          "output_type": "stream",
          "name": "stdout",
          "text": [
            "1383\n",
            "1383\n",
            "345\n",
            "345"
          ]
        }
      ],
      "source": [
        "print(len(categorical_train_data))\n",
        "print(len(train_outputs))\n",
        "print(len(categorical_test_data))\n",
        "print(len(test_outputs))"
      ],
      "id": "8f67d281-ffb8-430d-b5b3-cab4bf1f1d40"
    },
    {
      "cell_type": "markdown",
      "metadata": {},
      "source": [
        "`-` 네트워크 생성"
      ],
      "id": "74999e26-6b7a-4555-a7dd-8ddd8cf1e835"
    },
    {
      "cell_type": "code",
      "execution_count": 13,
      "metadata": {},
      "outputs": [],
      "source": [
        "class Model(nn.Module):\n",
        "    def __init__(self, embedding_size, output_size, layers, p=0.4):\n",
        "        super().__init__()\n",
        "        self.all_embeddings = nn.ModuleList([nn.Embedding(ni, nf) for ni, nf in embedding_size])\n",
        "        self.embedding_dropout = nn.Dropout(p)\n",
        "        \n",
        "        all_layers = []\n",
        "        num_categorical_cols = sum((nf for ni, nf in embedding_size))\n",
        "        input_size = num_categorical_cols \n",
        "\n",
        "        for i in layers:\n",
        "            all_layers.append(nn.Linear(input_size, i))\n",
        "            all_layers.append(nn.ReLU(inplace=True))\n",
        "            all_layers.append(nn.BatchNorm1d(i)) # 배치정규화.. 평균0 분산 1\n",
        "            all_layers.append(nn.Dropout(p))\n",
        "            input_size = i\n",
        "\n",
        "        all_layers.append(nn.Linear(layers[-1], output_size))\n",
        "        self.layers = nn.Sequential(*all_layers)\n",
        "\n",
        "    def forward(self, x_categorical):\n",
        "        embeddings = []\n",
        "        for i,e in enumerate(self.all_embeddings):\n",
        "            embeddings.append(e(x_categorical[:,i]))\n",
        "        x = torch.cat(embeddings, 1)\n",
        "        x = self.embedding_dropout(x)\n",
        "        x = self.layers(x)\n",
        "        return x"
      ],
      "id": "667cc662-61dc-4e48-a950-6d68a3dbed60"
    },
    {
      "cell_type": "code",
      "execution_count": 14,
      "metadata": {},
      "outputs": [
        {
          "output_type": "stream",
          "name": "stdout",
          "text": [
            "Model(\n",
            "  (all_embeddings): ModuleList(\n",
            "    (0-2): 3 x Embedding(4, 2)\n",
            "    (3-5): 3 x Embedding(3, 2)\n",
            "  )\n",
            "  (embedding_dropout): Dropout(p=0.4, inplace=False)\n",
            "  (layers): Sequential(\n",
            "    (0): Linear(in_features=12, out_features=200, bias=True)\n",
            "    (1): ReLU(inplace=True)\n",
            "    (2): BatchNorm1d(200, eps=1e-05, momentum=0.1, affine=True, track_running_stats=True)\n",
            "    (3): Dropout(p=0.4, inplace=False)\n",
            "    (4): Linear(in_features=200, out_features=100, bias=True)\n",
            "    (5): ReLU(inplace=True)\n",
            "    (6): BatchNorm1d(100, eps=1e-05, momentum=0.1, affine=True, track_running_stats=True)\n",
            "    (7): Dropout(p=0.4, inplace=False)\n",
            "    (8): Linear(in_features=100, out_features=50, bias=True)\n",
            "    (9): ReLU(inplace=True)\n",
            "    (10): BatchNorm1d(50, eps=1e-05, momentum=0.1, affine=True, track_running_stats=True)\n",
            "    (11): Dropout(p=0.4, inplace=False)\n",
            "    (12): Linear(in_features=50, out_features=4, bias=True)\n",
            "  )\n",
            ")"
          ]
        }
      ],
      "source": [
        "model = Model(categorical_embedding_sizes, 4, [200,100,50], p=0.4)\n",
        "print(model)"
      ],
      "id": "2e9ddb15-d5ba-4cd5-91f5-2c0320489faa"
    },
    {
      "cell_type": "code",
      "execution_count": 15,
      "metadata": {},
      "outputs": [],
      "source": [
        "\n",
        "loss_function = nn.CrossEntropyLoss()\n",
        "optimizer = torch.optim.Adam(model.parameters(), lr=0.001)"
      ],
      "id": "1cda6450-13fc-415d-a4a5-b7e49d27deff"
    },
    {
      "cell_type": "code",
      "execution_count": 17,
      "metadata": {},
      "outputs": [],
      "source": [
        "if torch.cuda.is_available():\n",
        "    device = torch.device('cuda')\n",
        "else:\n",
        "    device = torch.device('cpu')"
      ],
      "id": "f4d0c2e4-662e-427e-a4c9-44e8490be5b1"
    },
    {
      "cell_type": "code",
      "execution_count": null,
      "metadata": {},
      "outputs": [],
      "source": [
        "epochs = 500\n",
        "aggregated_losses = []\n",
        "train_outputs = train_outputs.to(device=device, dtype=torch.int64)\n",
        "for i in range(epochs):\n",
        "    i += 1\n",
        "    y_pred = model(categorical_train_data)\n",
        "    single_loss = loss_function(y_pred, train_outputs)\n",
        "    aggregated_losses.append(single_loss)   # 반복할 때마다 오차 aggregated_losses에 추가\n",
        "\n",
        "    if i%25 == 1:\n",
        "        print(f'epoch: {i:3} loss: {single_loss.item():10.8f}')\n",
        "\n",
        "    optimizer.zero_grad()\n",
        "    single_loss.backward()   # 가중치 업데이트\n",
        "    optimizer.step()         # 기울기 업데이트\n",
        "\n",
        "print(f'epoch: {i:3} loss: {single_loss.item():10.10f}')"
      ],
      "id": "7ca31c60-4c4d-421b-9237-e486026765f8"
    },
    {
      "cell_type": "code",
      "execution_count": null,
      "metadata": {},
      "outputs": [],
      "source": [
        "test_outputs = test_outputs.to(device=device, dtype=torch.int64)\n",
        "with torch.no_grad():\n",
        "    y_val = model(categorical_test_data)\n",
        "    loss = loss_function(y_val, test_outputs)\n",
        "print(f'Loss: {loss:.8f}')"
      ],
      "id": "be7c0897-fef4-4d6d-b66f-37876e342813"
    },
    {
      "cell_type": "code",
      "execution_count": null,
      "metadata": {},
      "outputs": [],
      "source": [
        "print(y_val[:5])"
      ],
      "id": "400f72ca-7ed6-4566-9685-91d6af159643"
    },
    {
      "cell_type": "code",
      "execution_count": null,
      "metadata": {},
      "outputs": [],
      "source": [
        "y_val = np.argmax(y_val, axis=1)\n",
        "print(y_val[:5])"
      ],
      "id": "b0ef1331-9fd7-46f4-8595-54e6e5bce3ba"
    },
    {
      "cell_type": "code",
      "execution_count": null,
      "metadata": {},
      "outputs": [],
      "source": [
        "\n",
        "from sklearn.metrics import classification_report, confusion_matrix, accuracy_score\n",
        "\n",
        "print(confusion_matrix(test_outputs,y_val))\n",
        "print(classification_report(test_outputs,y_val))\n",
        "print(accuracy_score(test_outputs, y_val))"
      ],
      "id": "a0953739-1cd4-4b91-b994-3fc1d66ffaea"
    }
  ],
  "nbformat": 4,
  "nbformat_minor": 5,
  "metadata": {
    "kernelspec": {
      "name": "python3",
      "display_name": "Python 3 (ipykernel)",
      "language": "python"
    },
    "language_info": {
      "name": "python",
      "codemirror_mode": {
        "name": "ipython",
        "version": "3"
      },
      "file_extension": ".py",
      "mimetype": "text/x-python",
      "nbconvert_exporter": "python",
      "pygments_lexer": "ipython3",
      "version": "3.8.16"
    }
  }
}