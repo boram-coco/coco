{
  "cells": [
    {
      "cell_type": "markdown",
      "metadata": {},
      "source": [
        "# CH8. 신용카드 거래 분석(로지스틱amt+time+city_pop-f1:0.986655)\n",
        "\n",
        "김보람  \n",
        "2023-04-27"
      ],
      "id": "f3fcc574-93f0-484b-94a2-fd7b45953246"
    },
    {
      "cell_type": "code",
      "execution_count": 96,
      "metadata": {},
      "outputs": [],
      "source": [
        "import pandas as pd\n",
        "import numpy as np\n",
        "import matplotlib.pyplot as plt"
      ],
      "id": "684974fd-9c59-4721-a371-2bf29b0197ea"
    },
    {
      "cell_type": "code",
      "execution_count": 97,
      "metadata": {},
      "outputs": [],
      "source": [
        "_df = pd.read_csv(\"fraudTrain.csv\")"
      ],
      "id": "c9575792-7113-4c37-95eb-093fb94e844f"
    },
    {
      "cell_type": "code",
      "execution_count": 98,
      "metadata": {},
      "outputs": [],
      "source": [
        "cus_list = set(_df.query('is_fraud==1').cc_num.tolist())\n",
        "_df2 = _df.query(\"cc_num in @ cus_list\")\n",
        "_df2 = _df2.assign(time= list(map(lambda x: int(x.split(' ')[-1].split(':')[0]), _df2['trans_date_trans_time'])))"
      ],
      "id": "5c580b86-81c7-4abb-8a97-94150569615c"
    },
    {
      "cell_type": "code",
      "execution_count": 99,
      "metadata": {},
      "outputs": [],
      "source": [
        "_df2.shape"
      ],
      "id": "e108fe5b-ecaa-4ee9-b507-c7cdcef39944"
    },
    {
      "cell_type": "code",
      "execution_count": 18,
      "metadata": {},
      "outputs": [],
      "source": [
        "_df2.columns"
      ],
      "id": "5c716391-5a00-4fd8-badf-ec36fae5e498"
    },
    {
      "cell_type": "code",
      "execution_count": 19,
      "metadata": {},
      "outputs": [
        {
          "output_type": "stream",
          "name": "stdout",
          "text": [
            "<class 'pandas.core.frame.DataFrame'>\n",
            "Int64Index: 651430 entries, 3 to 1048574\n",
            "Data columns (total 24 columns):\n",
            " #   Column                 Non-Null Count   Dtype  \n",
            "---  ------                 --------------   -----  \n",
            " 0   Unnamed: 0             651430 non-null  int64  \n",
            " 1   trans_date_trans_time  651430 non-null  object \n",
            " 2   cc_num                 651430 non-null  float64\n",
            " 3   merchant               651430 non-null  object \n",
            " 4   category               651430 non-null  object \n",
            " 5   amt                    651430 non-null  float64\n",
            " 6   first                  651430 non-null  object \n",
            " 7   last                   651430 non-null  object \n",
            " 8   gender                 651430 non-null  object \n",
            " 9   street                 651430 non-null  object \n",
            " 10  city                   651430 non-null  object \n",
            " 11  state                  651430 non-null  object \n",
            " 12  zip                    651430 non-null  int64  \n",
            " 13  lat                    651430 non-null  float64\n",
            " 14  long                   651430 non-null  float64\n",
            " 15  city_pop               651430 non-null  int64  \n",
            " 16  job                    651430 non-null  object \n",
            " 17  dob                    651430 non-null  object \n",
            " 18  trans_num              651430 non-null  object \n",
            " 19  unix_time              651430 non-null  int64  \n",
            " 20  merch_lat              651430 non-null  float64\n",
            " 21  merch_long             651430 non-null  float64\n",
            " 22  is_fraud               651430 non-null  int64  \n",
            " 23  time                   651430 non-null  int64  \n",
            "dtypes: float64(6), int64(6), object(12)\n",
            "memory usage: 124.3+ MB"
          ]
        }
      ],
      "source": [
        "_df2.info()"
      ],
      "id": "712b9c3c-5c29-4f23-b95e-d4bee20b0e57"
    },
    {
      "cell_type": "markdown",
      "metadata": {},
      "source": [
        "`merch_lat`과 `merch_long` 은 상점의 위도 경도, 위의 lat과 long은 고객의\n",
        "??\n",
        "\n",
        "`dob`는 생년월일(date of birth)을 나타내는 변수\n",
        "\n",
        "`unix_time` 1970년 1월 1일 0시 0분 0초(UTC)부터 경과된 시간을 초(second)\n",
        "단위로 표현하는 방법\n",
        "\n",
        "`zip` 우편번호\n",
        "\n",
        "\\`"
      ],
      "id": "c6a8c808-7611-4d74-a90a-856e5196bfbb"
    },
    {
      "cell_type": "code",
      "execution_count": 57,
      "metadata": {},
      "outputs": [],
      "source": [
        "len(set(_df2['city']))"
      ],
      "id": "767c47e3-d2ca-4b37-a80e-cb1264cf0bf9"
    },
    {
      "cell_type": "code",
      "execution_count": 20,
      "metadata": {},
      "outputs": [],
      "source": [
        "_df2[\"is_fraud\"].value_counts()"
      ],
      "id": "10d8945f-8bea-45ad-bbc1-492e303adba3"
    },
    {
      "cell_type": "code",
      "execution_count": 21,
      "metadata": {},
      "outputs": [],
      "source": [
        "_df2[\"is_fraud\"].value_counts()/len(_df2)"
      ],
      "id": "087fdf68-baa5-4ba9-a565-e5c436b21d5b"
    },
    {
      "cell_type": "code",
      "execution_count": 22,
      "metadata": {},
      "outputs": [],
      "source": [
        "_df2.groupby(by=['is_fraud']).agg({'city_pop':np.mean,'amt':np.mean,'time':np.mean})"
      ],
      "id": "f2018f37-0783-4471-864f-f35d7dd42d85"
    },
    {
      "cell_type": "code",
      "execution_count": 41,
      "metadata": {},
      "outputs": [],
      "source": [
        "_df3=_df2[['amt','time','city_pop','is_fraud']]"
      ],
      "id": "f85fe0a2-acfb-451d-98d5-8720547ef3c7"
    },
    {
      "cell_type": "code",
      "execution_count": 42,
      "metadata": {},
      "outputs": [
        {
          "output_type": "stream",
          "name": "stdout",
          "text": [
            "<class 'pandas.core.frame.DataFrame'>\n",
            "Int64Index: 651430 entries, 3 to 1048574\n",
            "Data columns (total 4 columns):\n",
            " #   Column    Non-Null Count   Dtype  \n",
            "---  ------    --------------   -----  \n",
            " 0   amt       651430 non-null  float64\n",
            " 1   time      651430 non-null  int64  \n",
            " 2   city_pop  651430 non-null  int64  \n",
            " 3   is_fraud  651430 non-null  int64  \n",
            "dtypes: float64(1), int64(3)\n",
            "memory usage: 24.9 MB"
          ]
        }
      ],
      "source": [
        "_df3.info()"
      ],
      "id": "048f9420-a24b-4ab5-9e08-fea36104b3a3"
    },
    {
      "cell_type": "code",
      "execution_count": 43,
      "metadata": {},
      "outputs": [],
      "source": [
        "data=np.hstack([_df3.values[:,:]])"
      ],
      "id": "71a5e1c1-0f0f-439b-aa46-ecc5ffc079e4"
    },
    {
      "cell_type": "code",
      "execution_count": 44,
      "metadata": {},
      "outputs": [],
      "source": [
        "data"
      ],
      "id": "2c5bc9fe-5aa4-4d38-a3ea-a6e6570c4c7c"
    },
    {
      "cell_type": "code",
      "execution_count": 45,
      "metadata": {},
      "outputs": [],
      "source": [
        "X = data[:,:-1]\n",
        "y = data[:,-1]"
      ],
      "id": "8ba7c160-4678-44c9-9d66-84ccf0a2f62a"
    },
    {
      "cell_type": "code",
      "execution_count": 46,
      "metadata": {},
      "outputs": [],
      "source": [
        "from sklearn.linear_model import LogisticRegression\n",
        "from sklearn.model_selection import train_test_split\n",
        "from sklearn.metrics import accuracy_score, precision_score, recall_score, f1_score"
      ],
      "id": "d4fb117c-02dc-468c-a717-315828e328d3"
    },
    {
      "cell_type": "code",
      "execution_count": 47,
      "metadata": {},
      "outputs": [],
      "source": [
        "X_train, X_test, y_train, y_test = train_test_split(X,y, test_size=0.2)"
      ],
      "id": "2e6a6e8d-662a-4f03-a69e-43fbe87de15f"
    },
    {
      "cell_type": "code",
      "execution_count": 48,
      "metadata": {},
      "outputs": [],
      "source": [
        "lr = LogisticRegression()"
      ],
      "id": "0f58080e-f0e9-4d7a-8914-fd42b5b23b3d"
    },
    {
      "cell_type": "code",
      "execution_count": 49,
      "metadata": {},
      "outputs": [],
      "source": [
        "lr.fit(X_train, y_train)"
      ],
      "id": "5db39836-9a52-4e8d-a652-8667c65ca056"
    },
    {
      "cell_type": "code",
      "execution_count": 51,
      "metadata": {},
      "outputs": [],
      "source": [
        "y_pred=lr.predict(X_test)"
      ],
      "id": "92b6ae82-76ff-4466-9105-811390641583"
    },
    {
      "cell_type": "code",
      "execution_count": 59,
      "metadata": {},
      "outputs": [
        {
          "output_type": "stream",
          "name": "stdout",
          "text": [
            "Accuracy: 0.9902215126721213\n",
            "Precision: 0.9831134944972946\n",
            "Recall: 0.9902215126721213\n",
            "F1 score: 0.9866547019260462"
          ]
        }
      ],
      "source": [
        "acc= accuracy_score(y_test, y_pred)\n",
        "precision = precision_score(y_test, y_pred, average='weighted')\n",
        "recall = recall_score(y_test, y_pred, average='weighted')\n",
        "f1score = f1_score(y_test, y_pred, average='weighted')\n",
        "print(\"Accuracy: {}\".format(acc))\n",
        "print(\"Precision: {}\".format(precision))\n",
        "print(\"Recall: {}\".format(recall))\n",
        "print(\"F1 score: {}\".format(f1score))"
      ],
      "id": "0060c96a-ec3e-4b50-aaed-41c42cef07cb"
    },
    {
      "cell_type": "code",
      "execution_count": 53,
      "metadata": {
        "tags": []
      },
      "outputs": [
        {
          "output_type": "stream",
          "name": "stdout",
          "text": [
            "Accuracy: 0.9902215126721213\n",
            "Precision:0.4957576316517569\n",
            "Recall: 0.49934201359322505\n",
            "F1 score: 0.49754336709114605"
          ]
        }
      ],
      "source": [
        "acc= accuracy_score(y_test, y_pred)\n",
        "precision = precision_score(y_test, y_pred, average='macro')\n",
        "recall = recall_score(y_test, y_pred, average='macro')\n",
        "f1score = f1_score(y_test, y_pred, average='macro')\n",
        "print(\"Accuracy: {}\".format(acc))\n",
        "print(\"Precision:{}\".format(precision))\n",
        "print(\"Recall: {}\".format(recall))\n",
        "print(\"F1 score: {}\".format(f1score))"
      ],
      "id": "9d2585a0-55dd-40f9-8711-4f43f1141e1b"
    },
    {
      "cell_type": "markdown",
      "metadata": {},
      "source": [
        "> f1 score가 엄청 커졌다. 이유가 뭘까? 처음에 city_pop에 대한 걸\n",
        "> 생각했을때는 사기거래=0과 사기거래=1의 큰 차이가 없어보였는데 갑자기…"
      ],
      "id": "dc847c76-bdb0-4e8d-907b-e935063f69d2"
    }
  ],
  "nbformat": 4,
  "nbformat_minor": 5,
  "metadata": {
    "kernelspec": {
      "name": "python3",
      "display_name": "Python 3 (ipykernel)",
      "language": "python"
    },
    "language_info": {
      "name": "python",
      "codemirror_mode": {
        "name": "ipython",
        "version": "3"
      },
      "file_extension": ".py",
      "mimetype": "text/x-python",
      "nbconvert_exporter": "python",
      "pygments_lexer": "ipython3",
      "version": "3.8.16"
    }
  }
}