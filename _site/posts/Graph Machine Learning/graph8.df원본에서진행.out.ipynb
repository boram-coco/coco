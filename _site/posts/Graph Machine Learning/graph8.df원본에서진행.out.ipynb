{
  "cells": [
    {
      "cell_type": "markdown",
      "metadata": {},
      "source": [
        "# CH8. 신용카드 거래 분석(df원본데이터)\n",
        "\n",
        "김보람  \n",
        "2023-04-27\n",
        "\n",
        "> df에서 그냥 처음부터 샘플뽑지 않고 전체 데이터를 한번 돌려보자.\n",
        "> f1-score가 어떻게 나오는지 기존 샘플한거랑 비교해보기"
      ],
      "id": "81ce98e9-c986-465d-8337-64071f86f1b1"
    },
    {
      "cell_type": "code",
      "execution_count": 1,
      "metadata": {},
      "outputs": [],
      "source": [
        "import pandas as pd\n",
        "import numpy as np\n",
        "import matplotlib.pyplot as plt"
      ],
      "id": "684974fd-9c59-4721-a371-2bf29b0197ea"
    },
    {
      "cell_type": "code",
      "execution_count": 2,
      "metadata": {},
      "outputs": [],
      "source": [
        "_df = pd.read_csv(\"fraudTrain.csv\")"
      ],
      "id": "c9575792-7113-4c37-95eb-093fb94e844f"
    },
    {
      "cell_type": "code",
      "execution_count": 3,
      "metadata": {},
      "outputs": [],
      "source": [
        "_df[\"is_fraud\"].value_counts()"
      ],
      "id": "10d8945f-8bea-45ad-bbc1-492e303adba3"
    },
    {
      "cell_type": "code",
      "execution_count": 5,
      "metadata": {},
      "outputs": [],
      "source": [
        "_df[\"is_fraud\"].value_counts()/len(_df)"
      ],
      "id": "087fdf68-baa5-4ba9-a565-e5c436b21d5b"
    },
    {
      "cell_type": "code",
      "execution_count": 6,
      "metadata": {},
      "outputs": [],
      "source": [
        "df = _df"
      ],
      "id": "6fb7dea4-2caa-4282-bd32-e6d9b4cd8deb"
    },
    {
      "cell_type": "code",
      "execution_count": 7,
      "metadata": {},
      "outputs": [],
      "source": [
        "import os\n",
        "import math\n",
        "import numpy as np\n",
        "import networkx as nx\n",
        "import matplotlib.pyplot as plt\n",
        "%matplotlib inline\n",
        "\n",
        "default_edge_color = 'gray'\n",
        "default_node_color = '#407cc9'\n",
        "enhanced_node_color = '#f5b042'\n",
        "enhanced_edge_color = '#cc2f04'"
      ],
      "id": "f1d07dd1-3f49-44ad-bf2d-78a396eb014c"
    },
    {
      "cell_type": "code",
      "execution_count": 8,
      "metadata": {},
      "outputs": [],
      "source": [
        "def build_graph_bipartite(df_input, graph_type=nx.Graph()):\n",
        "    df=df_input.copy()\n",
        "    mapping={x:node_id for node_id, x in enumerate(set(df[\"cc_num\"].values.tolist()+\\\n",
        "                                                      df[\"merchant\"].values.tolist()))}\n",
        "    \n",
        "    df[\"from\"]=df[\"cc_num\"].apply(lambda x:mapping[x])  #엣지의 출발점\n",
        "    df[\"to\"]=df[\"merchant\"].apply(lambda x:mapping[x])  #엣지의 도착점\n",
        "    \n",
        "    df = df[['from', 'to', \"amt\", \"is_fraud\"]].groupby(['from','to']).agg({\"is_fraud\":\"sum\",\"amt\":\"sum\"}).reset_index()\n",
        "    df[\"is_fraud\"]=df[\"is_fraud\"].apply(lambda x:1 if x>0 else 0)\n",
        "    \n",
        "    G=nx.from_edgelist(df[[\"from\",\"to\"]].values, create_using=graph_type)\n",
        "    \n",
        "    nx.set_edge_attributes(G, {(int(x[\"from\"]),int(x[\"to\"])):x[\"is_fraud\"] for idx, x in df[[\"from\",\"to\",\"is_fraud\"]].iterrows()}, \"label\")  #엣지 속성 설정,각 속성의 사기 여부부 \n",
        "    \n",
        "    nx.set_edge_attributes(G,{(int(x[\"from\"]),int(x[\"to\"])):x[\"amt\"] for idx,x in df[[\"from\",\"to\",\"amt\"]].iterrows()}, \"weight\") # 엣지 속성 설정, 각 엣지의 거래 금액\n",
        "\n",
        "    return G"
      ],
      "id": "b6847d6c-7195-40c0-8db4-9a6510210622"
    },
    {
      "cell_type": "code",
      "execution_count": 9,
      "metadata": {},
      "outputs": [
        {
          "output_type": "stream",
          "name": "stdout",
          "text": [
            "1    6006\n",
            "0    6006\n",
            "Name: is_fraud, dtype: int64"
          ]
        }
      ],
      "source": [
        "from sklearn.utils import resample\n",
        "\n",
        "df_majority = df[df.is_fraud==0]\n",
        "df_minority = df[df.is_fraud==1]\n",
        "\n",
        "df_maj_dowsampled = resample(df_majority,\n",
        "                             n_samples=len(df_minority),\n",
        "                             random_state=42)\n",
        "\n",
        "df_downsampled = pd.concat([df_minority, df_maj_dowsampled])\n",
        "\n",
        "print(df_downsampled.is_fraud.value_counts())\n",
        "G_down = build_graph_bipartite(df_downsampled)"
      ],
      "id": "0666810e-305b-4596-af26-e63326d082c3"
    },
    {
      "cell_type": "code",
      "execution_count": 10,
      "metadata": {},
      "outputs": [],
      "source": [
        "from sklearn.model_selection import train_test_split\n",
        "\n",
        "\n",
        "train_edges, test_edges, train_labels, test_labels = train_test_split(list(range(len(G_down.edges))), \n",
        "                                                                      list(nx.get_edge_attributes(G_down, \"label\").values()), \n",
        "                                                                      test_size=0.20, \n",
        "                                                                      random_state=42)"
      ],
      "id": "3e720f6e-d129-4d96-a467-acfa331cbd9d"
    },
    {
      "cell_type": "code",
      "execution_count": 11,
      "metadata": {},
      "outputs": [],
      "source": [
        "edgs = list(G_down.edges)\n",
        "train_graph = G_down.edge_subgraph([edgs[x] for x in train_edges]).copy()\n",
        "train_graph.add_nodes_from(list(set(G_down.nodes) - set(train_graph.nodes)))"
      ],
      "id": "e2df7135-cbd2-4485-93b4-7a631e8fc7a6"
    },
    {
      "cell_type": "code",
      "execution_count": 12,
      "metadata": {},
      "outputs": [
        {
          "output_type": "stream",
          "name": "stderr",
          "text": [
            "Generating walks (CPU: 1):   0%|          | 0/10 [00:00<?, ?it/s]Generating walks (CPU: 1): 100%|██████████| 10/10 [00:03<00:00,  2.53it/s]"
          ]
        },
        {
          "output_type": "stream",
          "name": "stdout",
          "text": []
        }
      ],
      "source": [
        "from node2vec import Node2Vec\n",
        "from node2vec.edges import HadamardEmbedder, AverageEmbedder, WeightedL1Embedder, WeightedL2Embedder\n",
        "\n",
        "node2vec_train = Node2Vec(train_graph, weight_key='weight')\n",
        "model_train = node2vec_train.fit(window=10)"
      ],
      "id": "682b265a-080c-4050-b4ea-ec5f14b0a89e"
    },
    {
      "cell_type": "code",
      "execution_count": 13,
      "metadata": {},
      "outputs": [
        {
          "output_type": "stream",
          "name": "stdout",
          "text": [
            "<class 'node2vec.edges.HadamardEmbedder'>\n",
            "Precision: 0.7345132743362832\n",
            "Recall: 0.1424892703862661\n",
            "F1-Score: 0.23867721063982747\n",
            "<class 'node2vec.edges.AverageEmbedder'>\n",
            "Precision: 0.6886792452830188\n",
            "Recall: 0.751931330472103\n",
            "F1-Score: 0.7189167008617152\n",
            "<class 'node2vec.edges.WeightedL1Embedder'>\n",
            "Precision: 0.6136363636363636\n",
            "Recall: 0.02317596566523605\n",
            "F1-Score: 0.04466501240694789\n",
            "<class 'node2vec.edges.WeightedL2Embedder'>\n",
            "Precision: 0.66\n",
            "Recall: 0.02832618025751073\n",
            "F1-Score: 0.05432098765432099"
          ]
        }
      ],
      "source": [
        "from sklearn.ensemble import RandomForestClassifier \n",
        "from sklearn import metrics \n",
        "\n",
        "classes = [HadamardEmbedder, AverageEmbedder, WeightedL1Embedder, WeightedL2Embedder]\n",
        "for cl in classes:\n",
        "    embeddings_train = cl(keyed_vectors=model_train.wv) \n",
        "\n",
        "    train_embeddings = [embeddings_train[str(edgs[x][0]), str(edgs[x][1])] for x in train_edges]\n",
        "    test_embeddings = [embeddings_train[str(edgs[x][0]), str(edgs[x][1])] for x in test_edges]\n",
        "    \n",
        "    rf = RandomForestClassifier(n_estimators=1000, random_state=42) \n",
        "    rf.fit(train_embeddings, train_labels); \n",
        "\n",
        "    y_pred = rf.predict(test_embeddings)\n",
        "    print(cl)\n",
        "    print('Precision:', metrics.precision_score(test_labels, y_pred)) \n",
        "    print('Recall:', metrics.recall_score(test_labels, y_pred)) \n",
        "    print('F1-Score:', metrics.f1_score(test_labels, y_pred)) "
      ],
      "id": "ac75676f-b83d-4797-bfec-e8da6cd3d4e7"
    },
    {
      "cell_type": "markdown",
      "metadata": {},
      "source": [
        "-   음 어차피 나중에 downsampled를 하기 때문에 … f1 score값은 샘플을\n",
        "    무얼 하든 큰 차이가 없다. 오히려 더 낮은듯"
      ],
      "id": "42ab6a72-71fe-4f9c-afde-79aa92600fde"
    }
  ],
  "nbformat": 4,
  "nbformat_minor": 5,
  "metadata": {
    "kernelspec": {
      "name": "python3",
      "display_name": "Python 3 (ipykernel)",
      "language": "python"
    },
    "language_info": {
      "name": "python",
      "codemirror_mode": {
        "name": "ipython",
        "version": "3"
      },
      "file_extension": ".py",
      "mimetype": "text/x-python",
      "nbconvert_exporter": "python",
      "pygments_lexer": "ipython3",
      "version": "3.8.16"
    }
  }
}