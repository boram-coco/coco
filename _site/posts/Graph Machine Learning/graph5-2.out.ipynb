{
  "cells": [
    {
      "cell_type": "markdown",
      "metadata": {},
      "source": [
        "# CH5. 그래프에서의 머신러닝 문제(커뮤니티와 같은 의미 있는 구조 감지)\n",
        "\n",
        "김보람  \n",
        "2023-04-07\n",
        "\n",
        "# ref\n",
        "\n",
        "-   [그래프\n",
        "    머신러닝](https://product.kyobobook.co.kr/detail/S000200738068)\n",
        "\n",
        "-   [github](https://github.com/PacktPublishing/Graph-Machine-Learning)\n",
        "\n",
        "# 커뮤니티와 같은 의미 있는 구조 감지\n",
        "\n",
        "-   커뮤니티와 클러시트렁을 식별하는 방법\n",
        "\n",
        "`-` 커뮤니티를 식별하기 위한 몇 가지 전략\n",
        "\n",
        "-   비중첩 커뮤니티 감지 알고리즘: 노드와 커뮤니티 간의 일대일 연결을\n",
        "    제공하여 커뮤니티 간에 노드가 겹치지 않는다.\n",
        "\n",
        "-   중첩 커뮤니티 감지 알고리즘: 노드가 둘 이상의 커뮤니티에 포함될 수\n",
        "    있도록 한다.\n",
        "\n",
        "## 임베딩 기반 커뮤니티 감지\n",
        "\n",
        "-   노드 임베딩에 얕은 클러스터링 기술 적용\n",
        "\n",
        "-   임베딩 방법 사용시 노드 간의 유사성을 나타내는 거리를 정의하는 벡터\n",
        "    공간에 노드를 투영\n",
        "\n",
        "1.  바벨 그래프 생성"
      ],
      "id": "2227e09d-c609-4a08-bd51-f471e0191ef1"
    },
    {
      "cell_type": "code",
      "execution_count": 2,
      "metadata": {},
      "outputs": [],
      "source": [
        "%matplotlib inline\n",
        "from matplotlib import pyplot as plt\n",
        "import numpy as np\n",
        "import pandas as pd"
      ],
      "id": "a5d6a6a4-237a-4cf3-a339-3752b2ea10d3"
    },
    {
      "cell_type": "code",
      "execution_count": 3,
      "metadata": {},
      "outputs": [],
      "source": [
        "import networkx as nx \n",
        "G = nx.barbell_graph(m1=10, m2=4) "
      ],
      "id": "b2dd47a3-0640-4a5c-8115-d466e58af899"
    },
    {
      "cell_type": "markdown",
      "metadata": {},
      "source": [
        "1.  임베딩 알고리즘(HOPE)를 사용해 감소된 밀집 노드 얻기"
      ],
      "id": "2fd359c4-e0f8-454c-b061-738ede9278d3"
    },
    {
      "cell_type": "code",
      "execution_count": 4,
      "metadata": {},
      "outputs": [
        {
          "output_type": "stream",
          "name": "stdout",
          "text": [
            "SVD error (low rank): 0.052092"
          ]
        }
      ],
      "source": [
        "from gem.embedding.hope import HOPE \n",
        "gf = HOPE(d=4, beta=0.01) \n",
        "gf.learn_embedding(G) \n",
        "embeddings = gf.get_embedding() "
      ],
      "id": "549e7743-8b4f-437c-9a3e-372667dd1448"
    },
    {
      "cell_type": "markdown",
      "metadata": {},
      "source": [
        "1.  클러스터링 알고리즘 실행"
      ],
      "id": "21090b24-9a23-4a8e-b855-70a33c2348ee"
    },
    {
      "cell_type": "code",
      "execution_count": 7,
      "metadata": {},
      "outputs": [],
      "source": [
        "from sklearn.mixture import GaussianMixture\n",
        "gm = GaussianMixture(n_components=3, random_state=0) #.(embeddings)\n",
        "labels = gm.fit_predict(embeddings)"
      ],
      "id": "871e81a4-73c5-447f-8455-fb67708c6e78"
    },
    {
      "cell_type": "markdown",
      "metadata": {},
      "source": [
        "1.  다양한 색상으로 강조 표시된 계산된 커뮤니티로 네트워크 그리기\n",
        "\n",
        "``` ptyhon\n",
        "colors = [\"blue\", \"green\", \"red\"]\n",
        "\n",
        "nx.draw_spring(G, node_color=[colors[label] for label in labels])\n",
        "```\n",
        "\n",
        "-   위 코드 자꾸 `'_AxesStack' object is not callable` 이렇게 오류가\n",
        "    난다. ㅇ\n",
        "\n",
        "-   아래와 같이 그림이 표시되어야 함\n",
        "\n",
        "![](data:image/png;base64,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.png)\n",
        "\n",
        "## 스펙트럼 방법 및 행렬 분해\n",
        "\n",
        "-   스펙트럼 클러스터링: 라플라시안 행렬의 고유 벡터에 표준 클러스터링\n",
        "    알고리즘 적용\n",
        "\n",
        "-   임베딩 기술이 라플라시안 행렬의 첫 번쨰 k-고유 벡터롤 고려해 얻은\n",
        "    스펙트럼 임베딩을 이용한 임베딩 기반 커뮤니티 탐지 알고리즘의 특별한\n",
        "    경우 (?)"
      ],
      "id": "98ab797b-7c25-46f4-932a-37a6b064217c"
    },
    {
      "cell_type": "code",
      "execution_count": 13,
      "metadata": {},
      "outputs": [],
      "source": [
        "#pip install communities"
      ],
      "id": "87b70baf-9546-4321-b178-c9be899fdfec"
    },
    {
      "cell_type": "code",
      "execution_count": 14,
      "metadata": {},
      "outputs": [
        {
          "output_type": "stream",
          "name": "stderr",
          "text": [
            "/tmp/ipykernel_1863787/1958540878.py:3: FutureWarning: adjacency_matrix will return a scipy.sparse array instead of a matrix in Networkx 3.0.\n",
            "  adj=np.array(nx.adjacency_matrix(G).todense())"
          ]
        }
      ],
      "source": [
        "from communities.algorithms import spectral_clustering\n",
        "\n",
        "adj=np.array(nx.adjacency_matrix(G).todense())\n",
        "\n",
        "communities = spectral_clustering(adj, k=3)"
      ],
      "id": "32ebb910-4dda-45bd-83ad-0a1eefaee6fd"
    },
    {
      "cell_type": "code",
      "execution_count": 22,
      "metadata": {},
      "outputs": [
        {
          "output_type": "display_data",
          "metadata": {},
          "data": {
            "image/png": "[encoded data removed]"
          }
        }
      ],
      "source": [
        "plt.figure(figsize=(20, 5))\n",
        "\n",
        "for ith, community in enumerate(communities):\n",
        "    cols = [\"red\" if node in community else \"blue\" for node in G.nodes]\n",
        "    plt.subplot(1,3,ith+1)\n",
        "    plt.title(f\"Community {ith}\")\n",
        "    nx.draw_spring(G, node_color=cols)"
      ],
      "id": "2efc9d72-05da-46c1-9a4e-adb46a5add74"
    },
    {
      "cell_type": "markdown",
      "metadata": {},
      "source": [
        "-   그전에 nx.draw가 오류 날때는 nx.draw_networkx로 바꿔서 하니까 되긴\n",
        "    됬는데.. nx.darw_spinrg은 어떻게 해야하누.."
      ],
      "id": "166b00c2-2a0e-4c05-9710-c4ccc3b01468"
    }
  ],
  "nbformat": 4,
  "nbformat_minor": 5,
  "metadata": {
    "kernelspec": {
      "name": "python3",
      "display_name": "Python 3 (ipykernel)",
      "language": "python"
    },
    "language_info": {
      "name": "python",
      "codemirror_mode": {
        "name": "ipython",
        "version": "3"
      },
      "file_extension": ".py",
      "mimetype": "text/x-python",
      "nbconvert_exporter": "python",
      "pygments_lexer": "ipython3",
      "version": "3.8.16"
    }
  }
}