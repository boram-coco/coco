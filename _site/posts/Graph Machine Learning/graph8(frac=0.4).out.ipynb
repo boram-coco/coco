{
  "cells": [
    {
      "cell_type": "markdown",
      "metadata": {},
      "source": [
        "# CH8. 신용카드 거래에 대한 그래프 분석(frac=0.4)\n",
        "\n",
        "김보람  \n",
        "2023-04-04\n",
        "\n",
        "# ref\n",
        "\n",
        "-   [그래프\n",
        "    머신러닝](https://product.kyobobook.co.kr/detail/S000200738068)\n",
        "\n",
        "-   [github](https://github.com/PacktPublishing/Graph-Machine-Learning)\n",
        "\n",
        "-   [Credit Card Transactions Fraud Detection\n",
        "    Dataset](https://www.kaggle.com/datasets/kartik2112/fraud-detection?select=fraudTrain.csv)\n",
        "\n",
        "-   [컬리이미지](https://static.packt-cdn.com/downloads/9781800204492_ColorImages.pdf)\n",
        "\n",
        "-   [networkx](https://networkx.org/documentation/stable/reference/generated/networkx.classes.function.set_edge_attributes.html)\n",
        "\n",
        "# 신용카드 거래에 대한 그래프 분석\n",
        "\n",
        "-   신용카드 거래 그래프 생성\n",
        "\n",
        "-   그래프에서 속성 및 커뮤니티 추출\n",
        "\n",
        "-   사기 거래 분류에 지도 및 비지도 머신러닝 알고리즘 적용"
      ],
      "id": "3dedee85-2442-4188-995d-ed4199a8160d"
    },
    {
      "cell_type": "code",
      "execution_count": 5,
      "metadata": {},
      "outputs": [],
      "source": [
        "import pandas as pd\n",
        "\n",
        "import os\n",
        "import math\n",
        "import numpy as np\n",
        "import networkx as nx\n",
        "import matplotlib.pyplot as plt\n",
        "%matplotlib inline\n",
        "\n",
        "default_edge_color = 'gray'\n",
        "default_node_color = '#407cc9'\n",
        "enhanced_node_color = '#f5b042'\n",
        "enhanced_edge_color = '#cc2f04'"
      ],
      "id": "a2b7b74a-4dc4-42d0-850b-60a18505f945"
    },
    {
      "cell_type": "markdown",
      "metadata": {},
      "source": [
        "# 샘플 = 0.4"
      ],
      "id": "687c8e52-2397-475a-befa-f8a0e23746c4"
    },
    {
      "cell_type": "code",
      "execution_count": 1,
      "metadata": {},
      "outputs": [],
      "source": [
        "import pandas as pd\n",
        "df = pd.read_csv(\"fraudTrain.csv\")\n",
        "df = df[df[\"is_fraud\"]==0].sample(frac=0.40, random_state=42).append(df[df[\"is_fraud\"] == 1])\n",
        "df.head()"
      ],
      "id": "b16bdd74-66b8-483c-bfd8-61d55b3ac6c3"
    },
    {
      "cell_type": "code",
      "execution_count": 2,
      "metadata": {},
      "outputs": [],
      "source": [
        "df[\"is_fraud\"].value_counts()"
      ],
      "id": "44c63d11-f4aa-4ba7-8f9c-318186a08de3"
    },
    {
      "cell_type": "code",
      "execution_count": 3,
      "metadata": {},
      "outputs": [],
      "source": [
        "df[\"is_fraud\"].value_counts()/len(df)"
      ],
      "id": "c07320d2-38c1-4243-9444-b2bdf579ac47"
    },
    {
      "cell_type": "markdown",
      "metadata": {},
      "source": [
        "`-` 이분그래프"
      ],
      "id": "fdf2dc32-ce8f-48da-8de7-641d64088ebc"
    },
    {
      "cell_type": "code",
      "execution_count": 7,
      "metadata": {},
      "outputs": [],
      "source": [
        "def build_graph_bipartite(df_input, graph_type=nx.Graph()):\n",
        "    df=df_input.copy()\n",
        "    mapping={x:node_id for node_id, x in enumerate(set(df[\"cc_num\"].values.tolist()+\\\n",
        "                                                      df[\"merchant\"].values.tolist()))}\n",
        "    \n",
        "    df[\"from\"]=df[\"cc_num\"].apply(lambda x:mapping[x])  #엣지의 출발점\n",
        "    df[\"to\"]=df[\"merchant\"].apply(lambda x:mapping[x])  #엣지의 도착점\n",
        "    \n",
        "    df = df[['from', 'to', \"amt\", \"is_fraud\"]].groupby(['from','to']).agg({\"is_fraud\":\"sum\",\"amt\":\"sum\"}).reset_index()\n",
        "    df[\"is_fraud\"]=df[\"is_fraud\"].apply(lambda x:1 if x>0 else 0)\n",
        "    \n",
        "    G=nx.from_edgelist(df[[\"from\",\"to\"]].values, create_using=graph_type)\n",
        "    \n",
        "    nx.set_edge_attributes(G, {(int(x[\"from\"]),int(x[\"to\"])):x[\"is_fraud\"] for idx, x in df[[\"from\",\"to\",\"is_fraud\"]].iterrows()}, \"label\")  #엣지 속성 설정,각 속성의 사기 여부부 \n",
        "    \n",
        "    nx.set_edge_attributes(G,{(int(x[\"from\"]),int(x[\"to\"])):x[\"amt\"] for idx,x in df[[\"from\",\"to\",\"amt\"]].iterrows()}, \"weight\") # 엣지 속성 설정, 각 엣지의 거래 금액\n",
        "\n",
        "    return G"
      ],
      "id": "44f78797-91db-4943-880f-625f41ff87ff"
    },
    {
      "cell_type": "markdown",
      "metadata": {},
      "source": [
        "-   판매자, 고객에게 node 할당"
      ],
      "id": "337e9bd3-6664-4749-ab13-f138d8eda2b2"
    },
    {
      "cell_type": "code",
      "execution_count": 8,
      "metadata": {},
      "outputs": [],
      "source": [
        "G_bu = build_graph_bipartite(df, nx.Graph(name=\"Bipartite Undirect\"))"
      ],
      "id": "bc51943a-aa8c-4d50-bfe5-370f04da2dbd"
    },
    {
      "cell_type": "markdown",
      "metadata": {},
      "source": [
        "-   무향 그래프 작성\n",
        "\n",
        "`-` 삼분그래프"
      ],
      "id": "7aef7899-cd80-470a-af79-538e68da3cfa"
    },
    {
      "cell_type": "code",
      "execution_count": 9,
      "metadata": {},
      "outputs": [],
      "source": [
        "def build_graph_tripartite(df_input, graph_type=nx.Graph()):\n",
        "    df=df_input.copy()\n",
        "    mapping={x:node_id for node_id, x in enumerate(set(df.index.values.tolist() + #set으로 중복 제거\n",
        "                                                       df[\"cc_num\"].values.tolist() +\n",
        "                                                       df[\"merchant\"].values.tolist()))}\n",
        "    df[\"in_node\"]= df[\"cc_num\"].apply(lambda x: mapping[x])\n",
        "    df[\"out_node\"]=df[\"merchant\"].apply(lambda x:mapping[x])\n",
        "    \n",
        "        \n",
        "    G=nx.from_edgelist([(x[\"in_node\"], mapping[idx]) for idx, x in df.iterrows()] +\\\n",
        "                        [(x[\"out_node\"], mapping[idx]) for idx, x in df.iterrows()], create_using=graph_type)\n",
        "    \n",
        "    nx.set_edge_attributes(G,{(x[\"in_node\"], mapping[idx]):x[\"is_fraud\"] for idx, x in df.iterrows()}, \"label\")\n",
        "     \n",
        "    nx.set_edge_attributes(G,{(x[\"out_node\"], mapping[idx]):x[\"is_fraud\"] for idx, x in df.iterrows()}, \"label\")\n",
        "    \n",
        "    nx.set_edge_attributes(G,{(x[\"in_node\"], mapping[idx]):x[\"amt\"] for idx, x in df.iterrows()}, \"weight\")\n",
        "    \n",
        "    nx.set_edge_attributes(G,{(x[\"out_node\"], mapping[idx]):x[\"amt\"] for idx, x in df.iterrows()}, \"weight\")\n",
        "    \n",
        "    \n",
        "    return G\n",
        "    "
      ],
      "id": "de4f50b6-213c-4b04-b3bd-4ff0a8221ff5"
    },
    {
      "cell_type": "markdown",
      "metadata": {},
      "source": [
        "-   판매자, 고객, 거래에 노드 할당"
      ],
      "id": "f58f6968-17d4-4061-bf13-d970d7fb6e35"
    },
    {
      "cell_type": "code",
      "execution_count": 10,
      "metadata": {},
      "outputs": [],
      "source": [
        "G_tu = build_graph_tripartite(df, nx.Graph())\n"
      ],
      "id": "2be1fed8-bc99-46cd-8946-78e5edffb031"
    },
    {
      "cell_type": "code",
      "execution_count": 11,
      "metadata": {},
      "outputs": [
        {
          "output_type": "stream",
          "name": "stdout",
          "text": [
            "1636\n",
            "424670"
          ]
        }
      ],
      "source": [
        "for G in [G_bu, G_tu]:\n",
        "    print(nx.number_of_nodes(G))"
      ],
      "id": "78fd8dcf-34e6-4a3a-b443-5d92ab157cb5"
    },
    {
      "cell_type": "markdown",
      "metadata": {},
      "source": [
        "## 사기 탐지를 위한 지도 및 비지도 임베딩\n",
        "\n",
        "-   트랜잭션 간선으로 표기\n",
        "\n",
        "-   각 간선을 올바른 클래스(사기 또는 정상)으로 분류\n",
        "\n",
        "### 지도학습"
      ],
      "id": "4bdf4ade-de14-4c22-abb7-056af7fe6a79"
    },
    {
      "cell_type": "code",
      "execution_count": 23,
      "metadata": {},
      "outputs": [
        {
          "output_type": "stream",
          "name": "stdout",
          "text": [
            "1    6006\n",
            "0    6006\n",
            "Name: is_fraud, dtype: int64"
          ]
        }
      ],
      "source": [
        "from sklearn.utils import resample\n",
        "\n",
        "df_majority = df[df.is_fraud==0]\n",
        "df_minority = df[df.is_fraud==1]\n",
        "\n",
        "df_maj_dowsampled = resample(df_majority,\n",
        "                             n_samples=len(df_minority),\n",
        "                             random_state=42)\n",
        "\n",
        "df_downsampled = pd.concat([df_minority, df_maj_dowsampled])\n",
        "\n",
        "print(df_downsampled.is_fraud.value_counts())\n",
        "G_down = build_graph_bipartite(df_downsampled)"
      ],
      "id": "2e9f5acd-e59d-44ca-972c-aba3f14b729c"
    },
    {
      "cell_type": "markdown",
      "metadata": {},
      "source": [
        "-   무작위 언더샘플링 사용\n",
        "\n",
        "-   소수 클래스(사기거래)이 샘플 수 와 일치시키려고 다수\n",
        "    클래스(정상거래)의 하위 샘플을 가져옴\n",
        "\n",
        "-   데이터 불균형을 처리하기 위해서"
      ],
      "id": "042520be-3a00-4ec9-ba27-bcb1d61b2178"
    },
    {
      "cell_type": "code",
      "execution_count": 24,
      "metadata": {},
      "outputs": [],
      "source": [
        "from sklearn.model_selection import train_test_split\n",
        "\n",
        "\n",
        "train_edges, test_edges, train_labels, test_labels = train_test_split(list(range(len(G_down.edges))), \n",
        "                                                                      list(nx.get_edge_attributes(G_down, \"label\").values()), \n",
        "                                                                      test_size=0.20, \n",
        "                                                                      random_state=42)"
      ],
      "id": "b3a43a7b-30ff-4de4-98aa-bef38365830c"
    },
    {
      "cell_type": "code",
      "execution_count": 25,
      "metadata": {},
      "outputs": [],
      "source": [
        "edgs = list(G_down.edges)\n",
        "train_graph = G_down.edge_subgraph([edgs[x] for x in train_edges]).copy()\n",
        "train_graph.add_nodes_from(list(set(G_down.nodes) - set(train_graph.nodes)))"
      ],
      "id": "3ecbfefb-fd75-4b34-b45e-4e6f70cdcff0"
    },
    {
      "cell_type": "markdown",
      "metadata": {},
      "source": [
        "-   데이터 8:2 비율로 학습 검증"
      ],
      "id": "67d79fe6-74ca-4100-9d47-aa065da420e6"
    },
    {
      "cell_type": "code",
      "execution_count": 53,
      "metadata": {},
      "outputs": [
        {
          "output_type": "stream",
          "name": "stdout",
          "text": [
            "Collecting node2vec\n",
            "  Downloading node2vec-0.4.6-py3-none-any.whl (7.0 kB)\n",
            "Requirement already satisfied: joblib<2.0.0,>=1.1.0 in /home/coco/anaconda3/envs/py38/lib/python3.8/site-packages (from node2vec) (1.2.0)\n",
            "Collecting gensim<5.0.0,>=4.1.2\n",
            "  Downloading gensim-4.3.1-cp38-cp38-manylinux_2_17_x86_64.manylinux2014_x86_64.whl (26.5 MB)\n",
            "     ━━━━━━━━━━━━━━━━━━━━━━━━━━━━━━━━━━━━━━━━ 26.5/26.5 MB 71.8 MB/s eta 0:00:0000:0100:01\n",
            "Collecting tqdm<5.0.0,>=4.55.1\n",
            "  Downloading tqdm-4.65.0-py3-none-any.whl (77 kB)\n",
            "     ━━━━━━━━━━━━━━━━━━━━━━━━━━━━━━━━━━━━━━━━ 77.1/77.1 kB 18.6 MB/s eta 0:00:00\n",
            "Collecting networkx<3.0,>=2.5\n",
            "  Downloading networkx-2.8.8-py3-none-any.whl (2.0 MB)\n",
            "     ━━━━━━━━━━━━━━━━━━━━━━━━━━━━━━━━━━━━━━━━ 2.0/2.0 MB 90.4 MB/s eta 0:00:00\n",
            "Requirement already satisfied: numpy<2.0.0,>=1.19.5 in /home/coco/anaconda3/envs/py38/lib/python3.8/site-packages (from node2vec) (1.24.2)\n",
            "Requirement already satisfied: scipy>=1.7.0 in /home/coco/anaconda3/envs/py38/lib/python3.8/site-packages (from gensim<5.0.0,>=4.1.2->node2vec) (1.10.1)\n",
            "Collecting smart-open>=1.8.1\n",
            "  Downloading smart_open-6.3.0-py3-none-any.whl (56 kB)\n",
            "     ━━━━━━━━━━━━━━━━━━━━━━━━━━━━━━━━━━━━━━━━ 56.8/56.8 kB 13.6 MB/s eta 0:00:00\n",
            "Installing collected packages: tqdm, smart-open, networkx, gensim, node2vec\n",
            "  Attempting uninstall: networkx\n",
            "    Found existing installation: networkx 3.0\n",
            "    Uninstalling networkx-3.0:\n",
            "      Successfully uninstalled networkx-3.0\n",
            "Successfully installed gensim-4.3.1 networkx-2.8.8 node2vec-0.4.6 smart-open-6.3.0 tqdm-4.65.0\n",
            "Note: you may need to restart the kernel to use updated packages."
          ]
        }
      ],
      "source": [
        "pip install node2vec"
      ],
      "id": "2a0189fa-7329-4dda-9703-21a1b63e2010"
    },
    {
      "cell_type": "code",
      "execution_count": 26,
      "metadata": {},
      "outputs": [
        {
          "output_type": "stream",
          "name": "stderr",
          "text": [
            "Generating walks (CPU: 1): 100%|██████████| 10/10 [00:03<00:00,  2.62it/s]"
          ]
        }
      ],
      "source": [
        "from node2vec import Node2Vec\n",
        "from node2vec.edges import HadamardEmbedder, AverageEmbedder, WeightedL1Embedder, WeightedL2Embedder\n",
        "\n",
        "node2vec_train = Node2Vec(train_graph, weight_key='weight')\n",
        "model_train = node2vec_train.fit(window=10)"
      ],
      "id": "ab4daf40-17bb-4ddc-a0ae-ddf7b5449d8c"
    },
    {
      "cell_type": "markdown",
      "metadata": {},
      "source": [
        "-   Node2Vec 알고리즘 사용해 특징 공간 구축"
      ],
      "id": "ae8d508a-40a1-44f6-9682-c74949c98813"
    },
    {
      "cell_type": "code",
      "execution_count": 27,
      "metadata": {},
      "outputs": [
        {
          "output_type": "stream",
          "name": "stdout",
          "text": [
            "<class 'node2vec.edges.HadamardEmbedder'>\n",
            "Precision: 0.7451737451737451\n",
            "Recall: 0.16538131962296487\n",
            "F1-Score: 0.270687237026648\n",
            "<class 'node2vec.edges.AverageEmbedder'>\n",
            "Precision: 0.691699604743083\n",
            "Recall: 0.7497857754927164\n",
            "F1-Score: 0.7195723684210527\n",
            "<class 'node2vec.edges.WeightedL1Embedder'>\n",
            "Precision: 0.7142857142857143\n",
            "Recall: 0.029991431019708654\n",
            "F1-Score: 0.0575657894736842\n",
            "<class 'node2vec.edges.WeightedL2Embedder'>\n",
            "Precision: 0.64\n",
            "Recall: 0.027420736932305057\n",
            "F1-Score: 0.052588331963845526"
          ]
        }
      ],
      "source": [
        "from sklearn.ensemble import RandomForestClassifier \n",
        "from sklearn import metrics \n",
        "\n",
        "classes = [HadamardEmbedder, AverageEmbedder, WeightedL1Embedder, WeightedL2Embedder]\n",
        "for cl in classes:\n",
        "    embeddings_train = cl(keyed_vectors=model_train.wv) \n",
        "    # 벡터스페이스 상에 edge를 투영.. \n",
        "\n",
        "    train_embeddings = [embeddings_train[str(edgs[x][0]), str(edgs[x][1])] for x in train_edges]\n",
        "    test_embeddings = [embeddings_train[str(edgs[x][0]), str(edgs[x][1])] for x in test_edges]\n",
        "    \n",
        "    rf = RandomForestClassifier(n_estimators=1000, random_state=42) \n",
        "    rf.fit(train_embeddings, train_labels); \n",
        "\n",
        "    y_pred = rf.predict(test_embeddings)\n",
        "    print(cl)\n",
        "    print('Precision:', metrics.precision_score(test_labels, y_pred)) \n",
        "    print('Recall:', metrics.recall_score(test_labels, y_pred)) \n",
        "    print('F1-Score:', metrics.f1_score(test_labels, y_pred)) "
      ],
      "id": "6182fb3a-d48e-4853-86df-85da6b2173e0"
    },
    {
      "cell_type": "markdown",
      "metadata": {},
      "source": [
        "-   Node2Vec 알고리즘 사용해 각 Edge2Vec 알고리즘으로 특징 공간 생성\n",
        "\n",
        "-   sklearn 파이썬 라이브러리의 RandomForestClassifier은 이전 단계에서\n",
        "    생성한 특징에 대해 학습\n",
        "\n",
        "-   검증 테스트 위해 정밀도, 재현율, F1-score 성능 지표 측정\n",
        "\n",
        "### 비지도학습\n",
        "\n",
        "-   k-means 알고리즘 사용\n",
        "\n",
        "-   지도학습과의 차이점은 특징 공간이 학습-검증 분할을 안함."
      ],
      "id": "da66a2fa-074e-4665-afc9-c95c3d4c8c07"
    },
    {
      "cell_type": "code",
      "execution_count": 28,
      "metadata": {},
      "outputs": [
        {
          "output_type": "stream",
          "name": "stderr",
          "text": [
            "Generating walks (CPU: 1): 100%|██████████| 10/10 [00:04<00:00,  2.32it/s]"
          ]
        }
      ],
      "source": [
        "nod2vec_unsup = Node2Vec(G_down, weight_key='weight')\n",
        "unsup_vals = nod2vec_unsup.fit(window=10)"
      ],
      "id": "ab1996fe-51e5-48ba-b8d0-fef9832a19c1"
    },
    {
      "cell_type": "markdown",
      "metadata": {},
      "source": [
        "-   다운샘플링 절차에 전체 그래프 알고리즘 계산"
      ],
      "id": "53f18dd5-dfb7-4760-8472-92619cf063dc"
    },
    {
      "cell_type": "code",
      "execution_count": 29,
      "metadata": {},
      "outputs": [
        {
          "output_type": "stream",
          "name": "stderr",
          "text": [
            "/home/coco/anaconda3/envs/py38/lib/python3.8/site-packages/sklearn/cluster/_kmeans.py:870: FutureWarning: The default value of `n_init` will change from 10 to 'auto' in 1.4. Set the value of `n_init` explicitly to suppress the warning\n",
            "  warnings.warn(\n",
            "/home/coco/anaconda3/envs/py38/lib/python3.8/site-packages/sklearn/cluster/_kmeans.py:870: FutureWarning: The default value of `n_init` will change from 10 to 'auto' in 1.4. Set the value of `n_init` explicitly to suppress the warning\n",
            "  warnings.warn(\n",
            "/home/coco/anaconda3/envs/py38/lib/python3.8/site-packages/sklearn/cluster/_kmeans.py:870: FutureWarning: The default value of `n_init` will change from 10 to 'auto' in 1.4. Set the value of `n_init` explicitly to suppress the warning\n",
            "  warnings.warn(\n",
            "/home/coco/anaconda3/envs/py38/lib/python3.8/site-packages/sklearn/cluster/_kmeans.py:870: FutureWarning: The default value of `n_init` will change from 10 to 'auto' in 1.4. Set the value of `n_init` explicitly to suppress the warning\n",
            "  warnings.warn("
          ]
        },
        {
          "output_type": "stream",
          "name": "stdout",
          "text": [
            "<class 'node2vec.edges.HadamardEmbedder'>\n",
            "NMI: 0.04336246478827236\n",
            "Homogeneity: 0.0383178531539123\n",
            "Completeness: 0.05011351404941123\n",
            "V-Measure: 0.043428985282038965\n",
            "<class 'node2vec.edges.AverageEmbedder'>\n",
            "NMI: 0.11206093720015026\n",
            "Homogeneity: 0.10817496918905492\n",
            "Completeness: 0.11635805522328385\n",
            "V-Measure: 0.11211739628609738\n",
            "<class 'node2vec.edges.WeightedL1Embedder'>\n",
            "NMI: 0.16558117117175825\n",
            "Homogeneity: 0.16557714823761863\n",
            "Completeness: 0.16568764408717976\n",
            "V-Measure: 0.16563237773404058\n",
            "<class 'node2vec.edges.WeightedL2Embedder'>\n",
            "NMI: 0.1349652677966787\n",
            "Homogeneity: 0.1337881599748603\n",
            "Completeness: 0.1362723387302234\n",
            "V-Measure: 0.13501882386803338"
          ]
        }
      ],
      "source": [
        "from sklearn.cluster import KMeans\n",
        "\n",
        "classes = [HadamardEmbedder, AverageEmbedder, WeightedL1Embedder, WeightedL2Embedder]\n",
        "true_labels = [x for x in nx.get_edge_attributes(G_down, \"label\").values()]\n",
        "\n",
        "for cl in classes:\n",
        "    embedding_edge = cl(keyed_vectors=unsup_vals.wv) \n",
        "\n",
        "    embedding = [embedding_edge[str(x[0]), str(x[1])] for x in G_down.edges()]\n",
        "    kmeans = KMeans(2, random_state=42).fit(embedding)\n",
        "    \n",
        "    \n",
        "    nmi = metrics.adjusted_mutual_info_score(true_labels, kmeans.labels_)\n",
        "    ho = metrics.homogeneity_score(true_labels, kmeans.labels_)\n",
        "    co = metrics.completeness_score(true_labels, kmeans.labels_)\n",
        "    vmeasure = metrics.v_measure_score(true_labels, kmeans.labels_)\n",
        "    \n",
        "    print(cl)\n",
        "    print('NMI:', nmi)\n",
        "    print('Homogeneity:', ho)\n",
        "    print('Completeness:', co)\n",
        "    print('V-Measure:', vmeasure)"
      ],
      "id": "780618b6-d3ff-4d36-a277-5ab6ab3f1c5f"
    },
    {
      "cell_type": "markdown",
      "metadata": {},
      "source": [
        "`-` NMI(Normalized Mutual Information)\n",
        "\n",
        "-   두 개의 군집 결과 비교\n",
        "\n",
        "-   0~1이며 1에 가까울수록 높은 성능\n",
        "\n",
        "`-` Homogeneity\n",
        "\n",
        "-   하나의 실제 군집 내에서 같은 군집에 속한 샘플들이 군집화 결과에서\n",
        "    같은 군집에 속할 비율\n",
        "\n",
        "-   1에 가까울수록 높은 성능\n",
        "\n",
        "`-` Completeness\n",
        "\n",
        "-   하나의 예측 군집 내에서 같은 실제 군집에 속한 샘플들이 군집화\n",
        "    결과에서 같은 군집에 속할 비율\n",
        "\n",
        "-   0~1이며 1에 가까울수록 높은 성능\n",
        "\n",
        "`-` V-measure\n",
        "\n",
        "-   Homogeneity와 Completeness의 조화 평균\n",
        "\n",
        "-   0~1이며 1에 가까울수록 높은 성능\n",
        "\n",
        "-   비지도 학습에 이상치 탐지 방법\n",
        "\n",
        "-   k-means/LOF/One-class SVM 등이 있다.. 한번 같이 해보자.\n",
        "\n",
        "-   조금씩 다 커졌넹..\n",
        "\n",
        "`-` 지도학습에서 정상거래에서 다운샘플링을 했는데\n",
        "\n",
        "만약, 사기거래에서 업샘플링을 하게되면 어떻게 될까?"
      ],
      "id": "a3812f4b-6be8-4b2f-a1a2-0bed36a62bbe"
    }
  ],
  "nbformat": 4,
  "nbformat_minor": 5,
  "metadata": {
    "kernelspec": {
      "name": "python3",
      "display_name": "Python 3 (ipykernel)",
      "language": "python"
    },
    "language_info": {
      "name": "python",
      "codemirror_mode": {
        "name": "ipython",
        "version": "3"
      },
      "file_extension": ".py",
      "mimetype": "text/x-python",
      "nbconvert_exporter": "python",
      "pygments_lexer": "ipython3",
      "version": "3.8.16"
    }
  }
}