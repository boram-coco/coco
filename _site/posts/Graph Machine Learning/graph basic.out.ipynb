{
  "cells": [
    {
      "cell_type": "markdown",
      "metadata": {},
      "source": [
        "# CH1. graph basic\n",
        "\n",
        "김보람  \n",
        "2023-04-01\n",
        "\n",
        "# ref\n",
        "\n",
        "-   [그래프\n",
        "    머신러닝](https://product.kyobobook.co.kr/detail/S000200738068)\n",
        "\n",
        "-   [github](https://github.com/PacktPublishing/Graph-Machine-Learning)\n",
        "\n",
        "# 단순무향그래프 $G=(V,E)$\n",
        "\n",
        "-   노드(꼭지점)의 집합: $V=\\{v_1,\\dots,v_n\\}$\n",
        "\n",
        "-   두 노도 간의 연결 나타내는 간선(변):\n",
        "    $E=\\{(v_k,v_w),\\dots,(v_i,v_j)\\}$\n",
        "\n",
        "-   $E$의 각 원소는 순서쌍이며 각 간선 간에는 순서가 없다.\n",
        "    $\\to (v_k,v_w) = (v_w,v_k)$\n",
        "\n",
        "-   $|V|$:그래프의 위수(order)\n",
        "\n",
        "-   $|E|$: 그래프의 크기(size)\n",
        "\n",
        "-   노드의 차수(degree): 해당 노드에 연결된 간선의 개수\n",
        "\n",
        "-   $v$의 근방(neighbor): $v$에 연결된 모든 노드 $V$의 부분집합"
      ],
      "id": "59fbc171-9482-431c-835f-b425b55815d1"
    },
    {
      "cell_type": "code",
      "execution_count": 22,
      "metadata": {},
      "outputs": [],
      "source": [
        "import networkx as nx\n",
        "import matplotlib.pyplot as plt\n",
        "G=nx.Graph()\n",
        "V={'D','P','M','R'}\n",
        "E=[('M','A'),('M','P'),('P','D'),('M','R')]\n",
        "G.add_nodes_from(V)\n",
        "G.add_edges_from(E)"
      ],
      "id": "a232b621-5b6c-4335-9e8a-d5544fa7022d"
    },
    {
      "cell_type": "code",
      "execution_count": 23,
      "metadata": {},
      "outputs": [
        {
          "output_type": "stream",
          "name": "stdout",
          "text": [
            "V=['M', 'R', 'P', 'D', 'A']\n",
            "E=[('M', 'A'), ('M', 'P'), ('M', 'R'), ('P', 'D')]"
          ]
        }
      ],
      "source": [
        "print(f\"V={G.nodes}\")\n",
        "print(f\"E={G.edges}\")"
      ],
      "id": "88fc7e59-1801-422b-a0c5-a9fe3ae71ac9"
    },
    {
      "cell_type": "code",
      "execution_count": 24,
      "metadata": {},
      "outputs": [],
      "source": [
        "{G.degree(v): v for v in G.nodes}"
      ],
      "id": "e0483157-72b4-4f00-b8ca-7b8e396665a0"
    },
    {
      "cell_type": "code",
      "execution_count": 25,
      "metadata": {},
      "outputs": [
        {
          "output_type": "stream",
          "name": "stdout",
          "text": [
            "Graph Order위수: 5\n",
            "Graph Size크기: 4\n",
            "Degree for nodes노드의 차수: {'M': 3, 'R': 1, 'P': 2, 'D': 1, 'A': 1}\n",
            "Neighbors for nodes근방노드: {'M': ['A', 'P', 'R'], 'R': ['M'], 'P': ['M', 'D'], 'D': ['P'], 'A': ['M']}"
          ]
        }
      ],
      "source": [
        "print(f\"Graph Order위수: {G.number_of_nodes()}\")\n",
        "print(f\"Graph Size크기: {G.number_of_edges()}\")\n",
        "print(f\"Degree for nodes노드의 차수: { {v: G.degree(v) for v in G.nodes} }\")\n",
        "print(f\"Neighbors for nodes근방노드: { {v: list(G.neighbors(v)) for v in G.nodes} }\")"
      ],
      "id": "9694867a-87c6-4211-b02b-ac49c993f458"
    },
    {
      "cell_type": "code",
      "execution_count": 26,
      "metadata": {},
      "outputs": [
        {
          "output_type": "stream",
          "name": "stdout",
          "text": [
            "Nodes: ['M', 'R', 'P', 'A']\n",
            "Edges: [('M', 'A'), ('M', 'P'), ('M', 'R')]"
          ]
        }
      ],
      "source": [
        "ego_graph_milan = nx.ego_graph(G, \"M\")\n",
        "print(f\"Nodes: {ego_graph_milan.nodes}\")\n",
        "print(f\"Edges: {ego_graph_milan.edges}\")"
      ],
      "id": "84e49c75-03e5-4726-96e5-adb5c16b47d3"
    },
    {
      "cell_type": "code",
      "execution_count": 27,
      "metadata": {},
      "outputs": [
        {
          "output_type": "stream",
          "name": "stdout",
          "text": [
            "V = ['M', 'R', 'P', 'D', 'A', 'L']\n",
            "E = [('M', 'A'), ('M', 'P'), ('M', 'R'), ('R', 'L'), ('P', 'D')]"
          ]
        }
      ],
      "source": [
        "# 새로운 노드나 간선 추가\n",
        "new_nodes = {'L', 'M'}\n",
        "new_edges = [('L','R'), ('M','P')]\n",
        "G.add_nodes_from(new_nodes)\n",
        "G.add_edges_from(new_edges)\n",
        "print(f\"V = {G.nodes}\")\n",
        "print(f\"E = {G.edges}\")"
      ],
      "id": "07cbcc55-820b-489a-acd1-34db4aac74e4"
    },
    {
      "cell_type": "code",
      "execution_count": 28,
      "metadata": {},
      "outputs": [
        {
          "output_type": "stream",
          "name": "stdout",
          "text": [
            "V = ['R', 'P', 'D', 'A']\n",
            "E = [('P', 'D')]"
          ]
        }
      ],
      "source": [
        "# 노드 삭제\n",
        "node_remove = {'L', 'M'}\n",
        "G.remove_nodes_from(node_remove)\n",
        "print(f\"V = {G.nodes}\")\n",
        "print(f\"E = {G.edges}\")"
      ],
      "id": "ace23b67-a58f-438c-8b0e-606a04ec0033"
    },
    {
      "cell_type": "code",
      "execution_count": 29,
      "metadata": {},
      "outputs": [
        {
          "output_type": "stream",
          "name": "stdout",
          "text": [
            "V = ['R', 'P', 'D', 'A']\n",
            "E = [('P', 'D')]"
          ]
        }
      ],
      "source": [
        "# 간선 삭제\n",
        "node_edges = [('M','D'), ('M','P')]\n",
        "G.remove_edges_from(node_edges)\n",
        "print(f\"V = {G.nodes}\")\n",
        "print(f\"E = {G.edges}\")"
      ],
      "id": "a6a433d9-be02-47bb-9c34-a7aa09e037da"
    },
    {
      "cell_type": "code",
      "execution_count": 31,
      "metadata": {},
      "outputs": [
        {
          "output_type": "stream",
          "name": "stdout",
          "text": [
            "[('P', 'D', {})]\n",
            "     R    P    D    A\n",
            "R  0.0  0.0  0.0  0.0\n",
            "P  0.0  0.0  1.0  0.0\n",
            "D  0.0  1.0  0.0  0.0\n",
            "A  0.0  0.0  0.0  0.0"
          ]
        }
      ],
      "source": [
        "print(nx.to_edgelist(G))\n",
        "print(nx.to_pandas_adjacency(G))"
      ],
      "id": "8a1eed33-09fa-4ec4-b6b2-22f46eae0765"
    },
    {
      "cell_type": "markdown",
      "metadata": {},
      "source": [
        "# 유향그래프 $G=(V,E)$\n",
        "\n",
        "-   노드(꼭지점)의 집합: $V=\\{v_1,\\dots,v_n\\}$\n",
        "\n",
        "-   두 노도 간의 연결 나타내는 간선(변):\n",
        "    $E=\\{(v_k,v_w),\\dots,(v_i,v_j)\\}$\n",
        "\n",
        "-   $E$의 각 원소는 순서쌍이며 각 간선 간에는 순서가 있다.\n",
        "    $\\to (v_k,v_w) \\neq (v_w,v_k)$\n",
        "\n",
        "-   입력차수(indegree) $deg^-(v)$ : 노드 $v$로 도착하는 간선의 개수\n",
        "\n",
        "-   출력차수(outdegree) $deg^+(v)$: 노드 $v$에서 출발하는 간선의 개수\n",
        "\n",
        "# 다중그래프 $G=(V,E)$\n",
        "\n",
        "-   한 노드에서 출발해서 같은 노드로 도착하는 간선이 여러 개인 다중\n",
        "    간선이 있는 그래프\n",
        "\n",
        "-   $V$: 노드의 집합, $E$: 간선의 다중집합\n",
        "\n",
        "-   유향다중그래프: 순서쌍의 다중집합\n",
        "\n",
        "-   무향다중그래프: 순서가 없는 경우\n",
        "\n",
        "# 가중그래프\n",
        "\n",
        "## 간선가중그래프 $G=(V,E,w)$\n",
        "\n",
        "-   $V$: 노드의 집합, $E$: 간선의 집합, $w: E \\to \\mathbb{R}$: 각 간선을\n",
        "    실수 $e \\in E$ 가중값으로 대중시키는 가중함수\n",
        "\n",
        "## 노드가중그래프 $G=(V,E,w)$\n",
        "\n",
        "-   $V$: 노드의 집합, $E$: 간선의 집합, $w: V \\to \\mathbb{R}$: 각 간선을\n",
        "    실수 $v \\in V$ 가중값으로 대중시키는 가중함수\n",
        "\n",
        "# 다분그래프(k분그래프)\n",
        "\n",
        "-   노드를 각각 2개, 3개, k개의 노드 집합으로 분할할 수 있음\n",
        "\n",
        "# 그래프신호 기본"
      ],
      "id": "3194c301-c963-4a01-9af8-75ea54f11c4d"
    },
    {
      "cell_type": "code",
      "execution_count": 1,
      "metadata": {},
      "outputs": [
        {
          "output_type": "display_data",
          "metadata": {},
          "data": {
            "image/png": "[encoded data removed]"
          }
        }
      ],
      "source": [
        "import matplotlib.pyplot as plt\n",
        "import numpy as np\n",
        "\n",
        "# x축 값 생성\n",
        "x = np.arange(0, 10, 0.1)\n",
        "\n",
        "# y축 값 생성\n",
        "y = np.sin(x)\n",
        "\n",
        "# 그래프 그리기\n",
        "plt.plot(x, y)\n",
        "plt.xlabel('x')\n",
        "plt.ylabel('y')\n",
        "plt.title('Sine Wave')\n",
        "plt.show()\n"
      ],
      "id": "fb4a7268-6eae-48c2-b30c-e4513bb83773"
    },
    {
      "cell_type": "markdown",
      "metadata": {},
      "source": [
        "# 그래프 클러스터링 기본"
      ],
      "id": "33e80dad-0abf-4602-a00a-fc744e0cd963"
    },
    {
      "cell_type": "code",
      "execution_count": 4,
      "metadata": {},
      "outputs": [
        {
          "output_type": "stream",
          "name": "stdout",
          "text": [
            "Cluster 0: frozenset({8, 14, 15, 18, 20, 22, 23, 24, 25, 26, 27, 28, 29, 30, 31, 32, 33})\n",
            "Cluster 1: frozenset({1, 2, 3, 7, 9, 12, 13, 17, 21})\n",
            "Cluster 2: frozenset({0, 16, 19, 4, 5, 6, 10, 11})"
          ]
        },
        {
          "output_type": "display_data",
          "metadata": {},
          "data": {
            "image/png": "[encoded data removed]"
          }
        }
      ],
      "source": [
        "import networkx as nx\n",
        "import matplotlib.pyplot as plt\n",
        "\n",
        "# 그래프 생성\n",
        "G = nx.karate_club_graph()\n",
        "\n",
        "# 클러스터링 수행\n",
        "clusters = nx.algorithms.community.greedy_modularity_communities(G)\n",
        "\n",
        "# 클러스터링 결과 출력\n",
        "for i, c in enumerate(clusters):\n",
        "    print(f\"Cluster {i}: {c}\")\n",
        "    nx.draw_networkx_nodes(G, pos=nx.spring_layout(G), nodelist=list(c), node_color=[i]*len(c), cmap=plt.cm.tab20, node_size=200)\n",
        "\n",
        "nx.draw_networkx_edges(G, pos=nx.spring_layout(G), alpha=0.5)\n",
        "plt.axis(\"off\")\n",
        "plt.show()\n"
      ],
      "id": "dfa3d684-a445-437f-b50f-779a61147e67"
    },
    {
      "cell_type": "markdown",
      "metadata": {},
      "source": [
        "`-` 그래프 클러스터링 논문\n",
        "\n",
        "`-` Newman, M. E. J., & Girvan, M. (2004). Finding and evaluating\n",
        "community structure in networks. Physical Review E, 69(2), 026113. -\n",
        "그래프의 모듈러리티(Modularity)를 최대화하는 방식으로 클러스터링을\n",
        "수행 - Girvan-Newman 알고리즘\n",
        "\n",
        "`-` Blondel, V. D., Guillaume, J.-L., Lambiotte, R., & Lefebvre, E.\n",
        "(2008). Fast unfolding of communities in large networks. Journal of\n",
        "Statistical Mechanics: Theory and Experiment, 2008(10), P10008. -\n",
        "그래프를 분할하는 방식으로 클러스터링을 수행\n",
        "\n",
        "`-` Leskovec, J., Lang, K. J., & Mahoney, M. W. (2010). Empirical\n",
        "comparison of algorithms for network community detection. Proceedings of\n",
        "the 19th international conference on World wide web, 631-640. - 여러\n",
        "그래프 클러스터링 알고리즘을 비교하는 실험을 수행 - 그래프의 크기, 밀도,\n",
        "구조 등에 따라 다양한 알고리즘이 잘 작동\n",
        "\n",
        "`-` [Fortunato, S., & Hric, D. (2016). Community detection in networks:\n",
        "A user guide. Physics Reports, 659,\n",
        "1-44.](https://reader.elsevier.com/reader/sd/pii/S0370157316302964?token=429F171A7EBCC1482C18F9AC5489B707188F66DC15E720E4800B66939EAB2460BE309A539046B4C2286F6D04F0AA7F54&originRegion=us-east-1&originCreation=20230331070121) -\n",
        "그래프 클러스터링의 기본 개념과 다양한 알고리즘을 상세히 설명하고, 이를\n",
        "이용하여 실제 그래프에서의 클러스터링을 수행하는 방법을 제시\n",
        "\n",
        "## 예제(k-means)"
      ],
      "id": "acd1bc24-77d2-468f-adf0-ff3176554ac2"
    },
    {
      "cell_type": "code",
      "execution_count": 5,
      "metadata": {},
      "outputs": [],
      "source": [
        "from sklearn.cluster import KMeans\n",
        "from sklearn.datasets import load_iris\n",
        "import pandas as pd\n",
        "import matplotlib.pyplot as plt\n"
      ],
      "id": "76eabcbd-809b-47ef-8cc5-3760c21967f7"
    },
    {
      "cell_type": "code",
      "execution_count": 6,
      "metadata": {},
      "outputs": [],
      "source": [
        "# 데이터셋 로드\n",
        "iris = load_iris()\n",
        "df = pd.DataFrame(data=iris.data, columns=iris.feature_names)\n"
      ],
      "id": "2e763950-12d3-410e-9148-2d5e87f5df7d"
    },
    {
      "cell_type": "code",
      "execution_count": 7,
      "metadata": {},
      "outputs": [
        {
          "output_type": "stream",
          "name": "stderr",
          "text": [
            "/home/coco/anaconda3/envs/py38/lib/python3.8/site-packages/sklearn/cluster/_kmeans.py:870: FutureWarning: The default value of `n_init` will change from 10 to 'auto' in 1.4. Set the value of `n_init` explicitly to suppress the warning\n",
            "  warnings.warn("
          ]
        }
      ],
      "source": [
        "# 모델 생성 및 학습\n",
        "kmeans = KMeans(n_clusters=3, random_state=0)\n",
        "kmeans.fit(df)"
      ],
      "id": "60fecdab-cbb9-4583-8b0c-a8a37977873e"
    },
    {
      "cell_type": "code",
      "execution_count": 8,
      "metadata": {},
      "outputs": [
        {
          "output_type": "display_data",
          "metadata": {},
          "data": {
            "image/png": "[encoded data removed]"
          }
        }
      ],
      "source": [
        "# 클러스터링 결과 시각화\n",
        "df['cluster'] = kmeans.labels_\n",
        "plt.scatter(df['petal length (cm)'], df['petal width (cm)'], c=df['cluster'])\n",
        "plt.xlabel('petal length (cm)')\n",
        "plt.ylabel('petal width (cm)')\n",
        "plt.show()"
      ],
      "id": "3dba558f-630c-4fed-b214-078d7f9a871b"
    },
    {
      "cell_type": "markdown",
      "metadata": {},
      "source": [
        "`-` ref: \\[출처\\] 클러스터링(Clustering)이란? 클러스터링 특징, 종류,\n",
        "예제 실습\\|작성자 리르시"
      ],
      "id": "b48f4feb-fe3a-43c2-b391-4165bb139008"
    }
  ],
  "nbformat": 4,
  "nbformat_minor": 5,
  "metadata": {
    "kernelspec": {
      "name": "python3",
      "display_name": "Python 3 (ipykernel)",
      "language": "python"
    },
    "language_info": {
      "name": "python",
      "codemirror_mode": {
        "name": "ipython",
        "version": "3"
      },
      "file_extension": ".py",
      "mimetype": "text/x-python",
      "nbconvert_exporter": "python",
      "pygments_lexer": "ipython3",
      "version": "3.8.16"
    }
  }
}