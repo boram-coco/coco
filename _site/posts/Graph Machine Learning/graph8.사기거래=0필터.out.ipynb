{
  "cells": [
    {
      "cell_type": "markdown",
      "metadata": {},
      "source": [
        "# CH8. 신용카드 거래 분석(사기거래=0제외:\\_df2)\n",
        "\n",
        "김보람  \n",
        "2023-04-16\n",
        "\n",
        "> df에서 사기거래가 한 번이라도 있었던 사람의 데이터만 모아서\n",
        "> 학습시켜봄. 즉, 사기거래가 한번이라도 없던 사람의 데이터는 제거했다."
      ],
      "id": "cd0860d0-e61b-4ff6-bac9-f6961644f78b"
    },
    {
      "cell_type": "code",
      "execution_count": 2,
      "metadata": {},
      "outputs": [],
      "source": [
        "import pandas as pd\n",
        "import numpy as np\n",
        "import matplotlib.pyplot as plt"
      ],
      "id": "684974fd-9c59-4721-a371-2bf29b0197ea"
    },
    {
      "cell_type": "code",
      "execution_count": 3,
      "metadata": {},
      "outputs": [],
      "source": [
        "_df = pd.read_csv(\"fraudTrain.csv\")"
      ],
      "id": "c9575792-7113-4c37-95eb-093fb94e844f"
    },
    {
      "cell_type": "code",
      "execution_count": 4,
      "metadata": {},
      "outputs": [],
      "source": [
        "cus_list = set(_df.query('is_fraud==1').cc_num.tolist())\n",
        "_df2 = _df.query(\"cc_num in @ cus_list\")\n",
        "_df2 = _df2.assign(time= list(map(lambda x: int(x.split(' ')[-1].split(':')[0]), _df2['trans_date_trans_time'])))"
      ],
      "id": "5c580b86-81c7-4abb-8a97-94150569615c"
    },
    {
      "cell_type": "code",
      "execution_count": 5,
      "metadata": {},
      "outputs": [],
      "source": [
        "_df2.shape"
      ],
      "id": "e108fe5b-ecaa-4ee9-b507-c7cdcef39944"
    },
    {
      "cell_type": "code",
      "execution_count": 6,
      "metadata": {},
      "outputs": [],
      "source": [
        "_df2.columns"
      ],
      "id": "5c716391-5a00-4fd8-badf-ec36fae5e498"
    },
    {
      "cell_type": "code",
      "execution_count": 7,
      "metadata": {},
      "outputs": [
        {
          "output_type": "stream",
          "name": "stdout",
          "text": [
            "<class 'pandas.core.frame.DataFrame'>\n",
            "Int64Index: 651430 entries, 3 to 1048574\n",
            "Data columns (total 24 columns):\n",
            " #   Column                 Non-Null Count   Dtype  \n",
            "---  ------                 --------------   -----  \n",
            " 0   Unnamed: 0             651430 non-null  int64  \n",
            " 1   trans_date_trans_time  651430 non-null  object \n",
            " 2   cc_num                 651430 non-null  float64\n",
            " 3   merchant               651430 non-null  object \n",
            " 4   category               651430 non-null  object \n",
            " 5   amt                    651430 non-null  float64\n",
            " 6   first                  651430 non-null  object \n",
            " 7   last                   651430 non-null  object \n",
            " 8   gender                 651430 non-null  object \n",
            " 9   street                 651430 non-null  object \n",
            " 10  city                   651430 non-null  object \n",
            " 11  state                  651430 non-null  object \n",
            " 12  zip                    651430 non-null  int64  \n",
            " 13  lat                    651430 non-null  float64\n",
            " 14  long                   651430 non-null  float64\n",
            " 15  city_pop               651430 non-null  int64  \n",
            " 16  job                    651430 non-null  object \n",
            " 17  dob                    651430 non-null  object \n",
            " 18  trans_num              651430 non-null  object \n",
            " 19  unix_time              651430 non-null  int64  \n",
            " 20  merch_lat              651430 non-null  float64\n",
            " 21  merch_long             651430 non-null  float64\n",
            " 22  is_fraud               651430 non-null  int64  \n",
            " 23  time                   651430 non-null  int64  \n",
            "dtypes: float64(6), int64(6), object(12)\n",
            "memory usage: 124.3+ MB"
          ]
        }
      ],
      "source": [
        "_df2.info()"
      ],
      "id": "712b9c3c-5c29-4f23-b95e-d4bee20b0e57"
    },
    {
      "cell_type": "code",
      "execution_count": 8,
      "metadata": {},
      "outputs": [],
      "source": [
        "_df2[\"is_fraud\"].value_counts()"
      ],
      "id": "10d8945f-8bea-45ad-bbc1-492e303adba3"
    },
    {
      "cell_type": "code",
      "execution_count": 9,
      "metadata": {},
      "outputs": [],
      "source": [
        "_df2[\"is_fraud\"].value_counts()/len(_df2)"
      ],
      "id": "087fdf68-baa5-4ba9-a565-e5c436b21d5b"
    },
    {
      "cell_type": "code",
      "execution_count": 11,
      "metadata": {},
      "outputs": [],
      "source": [
        "_df2.head()"
      ],
      "id": "0fe781ee-2742-4c5f-9004-1cd8eed6f137"
    },
    {
      "cell_type": "code",
      "execution_count": 12,
      "metadata": {},
      "outputs": [],
      "source": [
        "df = _df2"
      ],
      "id": "6fb7dea4-2caa-4282-bd32-e6d9b4cd8deb"
    },
    {
      "cell_type": "code",
      "execution_count": 14,
      "metadata": {},
      "outputs": [],
      "source": [
        "import os\n",
        "import math\n",
        "import numpy as np\n",
        "import networkx as nx\n",
        "import matplotlib.pyplot as plt\n",
        "%matplotlib inline\n",
        "\n",
        "default_edge_color = 'gray'\n",
        "default_node_color = '#407cc9'\n",
        "enhanced_node_color = '#f5b042'\n",
        "enhanced_edge_color = '#cc2f04'"
      ],
      "id": "f1d07dd1-3f49-44ad-bf2d-78a396eb014c"
    },
    {
      "cell_type": "code",
      "execution_count": 15,
      "metadata": {},
      "outputs": [],
      "source": [
        "def build_graph_bipartite(df_input, graph_type=nx.Graph()):\n",
        "    df=df_input.copy()\n",
        "    mapping={x:node_id for node_id, x in enumerate(set(df[\"cc_num\"].values.tolist()+\\\n",
        "                                                      df[\"merchant\"].values.tolist()))}\n",
        "    \n",
        "    df[\"from\"]=df[\"cc_num\"].apply(lambda x:mapping[x])  #엣지의 출발점\n",
        "    df[\"to\"]=df[\"merchant\"].apply(lambda x:mapping[x])  #엣지의 도착점\n",
        "    \n",
        "    df = df[['from', 'to', \"amt\", \"is_fraud\"]].groupby(['from','to']).agg({\"is_fraud\":\"sum\",\"amt\":\"sum\"}).reset_index()\n",
        "    df[\"is_fraud\"]=df[\"is_fraud\"].apply(lambda x:1 if x>0 else 0)\n",
        "    \n",
        "    G=nx.from_edgelist(df[[\"from\",\"to\"]].values, create_using=graph_type)\n",
        "    \n",
        "    nx.set_edge_attributes(G, {(int(x[\"from\"]),int(x[\"to\"])):x[\"is_fraud\"] for idx, x in df[[\"from\",\"to\",\"is_fraud\"]].iterrows()}, \"label\")  #엣지 속성 설정,각 속성의 사기 여부부 \n",
        "    \n",
        "    nx.set_edge_attributes(G,{(int(x[\"from\"]),int(x[\"to\"])):x[\"amt\"] for idx,x in df[[\"from\",\"to\",\"amt\"]].iterrows()}, \"weight\") # 엣지 속성 설정, 각 엣지의 거래 금액\n",
        "\n",
        "    return G"
      ],
      "id": "b6847d6c-7195-40c0-8db4-9a6510210622"
    },
    {
      "cell_type": "code",
      "execution_count": 16,
      "metadata": {},
      "outputs": [],
      "source": [
        "def build_graph_tripartite(df_input, graph_type=nx.Graph()):\n",
        "    df=df_input.copy()\n",
        "    mapping={x:node_id for node_id, x in enumerate(set(df.index.values.tolist() + \n",
        "                                                       df[\"cc_num\"].values.tolist() +\n",
        "                                                       df[\"merchant\"].values.tolist()))}\n",
        "    df[\"in_node\"]= df[\"cc_num\"].apply(lambda x: mapping[x])\n",
        "    df[\"out_node\"]=df[\"merchant\"].apply(lambda x:mapping[x])\n",
        "    \n",
        "        \n",
        "    G=nx.from_edgelist([(x[\"in_node\"], mapping[idx]) for idx, x in df.iterrows()] +\\\n",
        "                        [(x[\"out_node\"], mapping[idx]) for idx, x in df.iterrows()], create_using=graph_type)\n",
        "    \n",
        "    nx.set_edge_attributes(G,{(x[\"in_node\"], mapping[idx]):x[\"is_fraud\"] for idx, x in df.iterrows()}, \"label\")\n",
        "     \n",
        "    nx.set_edge_attributes(G,{(x[\"out_node\"], mapping[idx]):x[\"is_fraud\"] for idx, x in df.iterrows()}, \"label\")\n",
        "    \n",
        "    nx.set_edge_attributes(G,{(x[\"in_node\"], mapping[idx]):x[\"amt\"] for idx, x in df.iterrows()}, \"weight\")\n",
        "    \n",
        "    nx.set_edge_attributes(G,{(x[\"out_node\"], mapping[idx]):x[\"amt\"] for idx, x in df.iterrows()}, \"weight\")\n",
        "    \n",
        "    \n",
        "    return G\n",
        "    "
      ],
      "id": "cef15dd1-359b-4959-9891-a9894de80630"
    },
    {
      "cell_type": "code",
      "execution_count": 17,
      "metadata": {},
      "outputs": [],
      "source": [
        "G_bu = build_graph_bipartite(df, nx.Graph(name=\"Bipartite Undirect\"))"
      ],
      "id": "c59d4db1-7b3f-4421-afce-5568a104a806"
    },
    {
      "cell_type": "code",
      "execution_count": 18,
      "metadata": {},
      "outputs": [],
      "source": [
        "G_tu = build_graph_tripartite(df, nx.Graph())"
      ],
      "id": "b425d7bc-400c-4f90-8244-1701229e9fec"
    },
    {
      "cell_type": "code",
      "execution_count": 20,
      "metadata": {},
      "outputs": [
        {
          "output_type": "stream",
          "name": "stdout",
          "text": [
            "nede: 1289\n",
            "nede: 652719\n",
            "edge: 268964\n",
            "edge: 1302860"
          ]
        }
      ],
      "source": [
        "for G in [G_bu, G_tu]:\n",
        "    print(\"nede:\", nx.number_of_nodes(G))\n",
        "for G in [G_bu, G_tu]:\n",
        "    print(\"edge:\",nx.number_of_edges(G))"
      ],
      "id": "067b3de1-26f8-42fb-910f-7812c78f89f3"
    },
    {
      "cell_type": "code",
      "execution_count": 22,
      "metadata": {},
      "outputs": [
        {
          "output_type": "stream",
          "name": "stdout",
          "text": [
            "-0.37874509971252246\n",
            "-0.7222260615980979"
          ]
        }
      ],
      "source": [
        "for G in [G_bu, G_tu]:\n",
        "    print(nx.degree_pearson_correlation_coefficient(G))"
      ],
      "id": "942de23d-5ca5-4d42-8382-f1494479460f"
    },
    {
      "cell_type": "code",
      "execution_count": 23,
      "metadata": {},
      "outputs": [],
      "source": [
        "import networkx as nx\n",
        "import community"
      ],
      "id": "5b3657a8-c130-41f4-b33d-39d7faa25b09"
    },
    {
      "cell_type": "code",
      "execution_count": 24,
      "metadata": {},
      "outputs": [],
      "source": [
        "import community\n",
        "for G in [G_bu, G_tu]:\n",
        "    parts = community.best_partition(G, random_state=42, weight='weight')"
      ],
      "id": "57e76eb6-f5f6-4bb7-a4c6-e45862675532"
    },
    {
      "cell_type": "code",
      "execution_count": 25,
      "metadata": {},
      "outputs": [],
      "source": [
        "communities = pd.Series(parts)"
      ],
      "id": "c2405c57-9829-426e-bb7d-4b0383647e33"
    },
    {
      "cell_type": "code",
      "execution_count": 26,
      "metadata": {},
      "outputs": [
        {
          "output_type": "stream",
          "name": "stdout",
          "text": [
            "2      21225\n",
            "34      9652\n",
            "117     9362\n",
            "3       8477\n",
            "78      8384\n",
            "       ...  \n",
            "127      812\n",
            "110      793\n",
            "121      785\n",
            "103      449\n",
            "95       439\n",
            "Length: 142, dtype: int64"
          ]
        }
      ],
      "source": [
        "print(communities.value_counts().sort_values(ascending=False))"
      ],
      "id": "41b456f7-4876-4645-a9c3-d2d08eaa481d"
    },
    {
      "cell_type": "code",
      "execution_count": 27,
      "metadata": {},
      "outputs": [
        {
          "output_type": "display_data",
          "metadata": {},
          "data": {
            "image/png": "[encoded data removed]"
          }
        }
      ],
      "source": [
        "communities.value_counts().plot.hist(bins=20)"
      ],
      "id": "45310a5a-c7f2-40bc-a2b6-f20665f46841"
    },
    {
      "cell_type": "code",
      "execution_count": 28,
      "metadata": {},
      "outputs": [],
      "source": [
        "graphs = [] # 부분그래프 저장\n",
        "d = {}  # 부정 거래 비율 저장 \n",
        "for x in communities.unique():\n",
        "    tmp = nx.subgraph(G, communities[communities==x].index)\n",
        "    fraud_edges = sum(nx.get_edge_attributes(tmp, \"label\").values())\n",
        "    ratio = 0 if fraud_edges == 0 else (fraud_edges/tmp.number_of_edges())*100\n",
        "    d[x] = ratio\n",
        "    graphs += [tmp]\n",
        "\n",
        "pd.Series(d).sort_values(ascending=False)"
      ],
      "id": "327dff89-38dd-4385-afc8-5d0bb30ad7fa"
    },
    {
      "cell_type": "code",
      "execution_count": 30,
      "metadata": {},
      "outputs": [
        {
          "output_type": "stream",
          "name": "stdout",
          "text": [
            "1    6006\n",
            "0    6006\n",
            "Name: is_fraud, dtype: int64"
          ]
        }
      ],
      "source": [
        "from sklearn.utils import resample\n",
        "\n",
        "df_majority = df[df.is_fraud==0]\n",
        "df_minority = df[df.is_fraud==1]\n",
        "\n",
        "df_maj_dowsampled = resample(df_majority,\n",
        "                             n_samples=len(df_minority),\n",
        "                             random_state=42)\n",
        "\n",
        "df_downsampled = pd.concat([df_minority, df_maj_dowsampled])\n",
        "\n",
        "print(df_downsampled.is_fraud.value_counts())\n",
        "G_down = build_graph_bipartite(df_downsampled)"
      ],
      "id": "0666810e-305b-4596-af26-e63326d082c3"
    },
    {
      "cell_type": "code",
      "execution_count": 31,
      "metadata": {},
      "outputs": [],
      "source": [
        "from sklearn.model_selection import train_test_split\n",
        "\n",
        "\n",
        "train_edges, test_edges, train_labels, test_labels = train_test_split(list(range(len(G_down.edges))), \n",
        "                                                                      list(nx.get_edge_attributes(G_down, \"label\").values()), \n",
        "                                                                      test_size=0.20, \n",
        "                                                                      random_state=42)"
      ],
      "id": "3e720f6e-d129-4d96-a467-acfa331cbd9d"
    },
    {
      "cell_type": "code",
      "execution_count": 32,
      "metadata": {},
      "outputs": [],
      "source": [
        "edgs = list(G_down.edges)\n",
        "train_graph = G_down.edge_subgraph([edgs[x] for x in train_edges]).copy()\n",
        "train_graph.add_nodes_from(list(set(G_down.nodes) - set(train_graph.nodes)))"
      ],
      "id": "e2df7135-cbd2-4485-93b4-7a631e8fc7a6"
    },
    {
      "cell_type": "code",
      "execution_count": 33,
      "metadata": {},
      "outputs": [
        {
          "output_type": "stream",
          "name": "stderr",
          "text": [
            "Generating walks (CPU: 1):   0%|          | 0/10 [00:00<?, ?it/s]Generating walks (CPU: 1): 100%|██████████| 10/10 [00:03<00:00,  3.09it/s]"
          ]
        },
        {
          "output_type": "stream",
          "name": "stdout",
          "text": []
        }
      ],
      "source": [
        "from node2vec import Node2Vec\n",
        "from node2vec.edges import HadamardEmbedder, AverageEmbedder, WeightedL1Embedder, WeightedL2Embedder\n",
        "\n",
        "node2vec_train = Node2Vec(train_graph, weight_key='weight')\n",
        "model_train = node2vec_train.fit(window=10)"
      ],
      "id": "682b265a-080c-4050-b4ea-ec5f14b0a89e"
    },
    {
      "cell_type": "code",
      "execution_count": 34,
      "metadata": {},
      "outputs": [
        {
          "output_type": "stream",
          "name": "stdout",
          "text": [
            "<class 'node2vec.edges.HadamardEmbedder'>\n",
            "Precision: 0.5428571428571428\n",
            "Recall: 0.016725352112676055\n",
            "F1-Score: 0.032450896669513236\n",
            "<class 'node2vec.edges.AverageEmbedder'>\n",
            "Precision: 0.6840981856990395\n",
            "Recall: 0.5642605633802817\n",
            "F1-Score: 0.6184273999035215\n",
            "<class 'node2vec.edges.WeightedL1Embedder'>\n",
            "Precision: 0.45454545454545453\n",
            "Recall: 0.022007042253521125\n",
            "F1-Score: 0.041981528127623846\n",
            "<class 'node2vec.edges.WeightedL2Embedder'>\n",
            "Precision: 0.46296296296296297\n",
            "Recall: 0.022007042253521125\n",
            "F1-Score: 0.04201680672268907"
          ]
        }
      ],
      "source": [
        "from sklearn.ensemble import RandomForestClassifier \n",
        "from sklearn import metrics \n",
        "\n",
        "classes = [HadamardEmbedder, AverageEmbedder, WeightedL1Embedder, WeightedL2Embedder]\n",
        "for cl in classes:\n",
        "    embeddings_train = cl(keyed_vectors=model_train.wv) \n",
        "\n",
        "    train_embeddings = [embeddings_train[str(edgs[x][0]), str(edgs[x][1])] for x in train_edges]\n",
        "    test_embeddings = [embeddings_train[str(edgs[x][0]), str(edgs[x][1])] for x in test_edges]\n",
        "    \n",
        "    rf = RandomForestClassifier(n_estimators=1000, random_state=42) \n",
        "    rf.fit(train_embeddings, train_labels); \n",
        "\n",
        "    y_pred = rf.predict(test_embeddings)\n",
        "    print(cl)\n",
        "    print('Precision:', metrics.precision_score(test_labels, y_pred)) \n",
        "    print('Recall:', metrics.recall_score(test_labels, y_pred)) \n",
        "    print('F1-Score:', metrics.f1_score(test_labels, y_pred)) "
      ],
      "id": "ac75676f-b83d-4797-bfec-e8da6cd3d4e7"
    },
    {
      "cell_type": "markdown",
      "metadata": {},
      "source": [
        "오히려 f1score가 낮아졌다…"
      ],
      "id": "4b1dd323-40a6-4a12-9e2d-b38f1e44e2e1"
    }
  ],
  "nbformat": 4,
  "nbformat_minor": 5,
  "metadata": {
    "kernelspec": {
      "name": "python3",
      "display_name": "Python 3 (ipykernel)",
      "language": "python"
    },
    "language_info": {
      "name": "python",
      "codemirror_mode": {
        "name": "ipython",
        "version": "3"
      },
      "file_extension": ".py",
      "mimetype": "text/x-python",
      "nbconvert_exporter": "python",
      "pygments_lexer": "ipython3",
      "version": "3.8.16"
    }
  }
}