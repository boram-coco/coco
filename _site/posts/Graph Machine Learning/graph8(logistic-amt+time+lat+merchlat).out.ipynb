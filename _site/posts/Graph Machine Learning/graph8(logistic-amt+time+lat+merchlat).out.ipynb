{
  "cells": [
    {
      "cell_type": "markdown",
      "metadata": {},
      "source": [
        "# CH8. 신용카드 거래 분석(로지스틱amt+time+lat+merch_lat-f1:0.98538)\n",
        "\n",
        "김보람  \n",
        "2023-04-27"
      ],
      "id": "8f83e28b-019b-4256-b7c2-654611a24e6b"
    },
    {
      "cell_type": "code",
      "execution_count": 2,
      "metadata": {},
      "outputs": [],
      "source": [
        "import pandas as pd\n",
        "import numpy as np\n",
        "import matplotlib.pyplot as plt"
      ],
      "id": "684974fd-9c59-4721-a371-2bf29b0197ea"
    },
    {
      "cell_type": "code",
      "execution_count": 3,
      "metadata": {},
      "outputs": [],
      "source": [
        "_df = pd.read_csv(\"fraudTrain.csv\")"
      ],
      "id": "c9575792-7113-4c37-95eb-093fb94e844f"
    },
    {
      "cell_type": "code",
      "execution_count": 4,
      "metadata": {},
      "outputs": [],
      "source": [
        "cus_list = set(_df.query('is_fraud==1').cc_num.tolist())\n",
        "_df2 = _df.query(\"cc_num in @ cus_list\")\n",
        "_df2 = _df2.assign(time= list(map(lambda x: int(x.split(' ')[-1].split(':')[0]), _df2['trans_date_trans_time'])))"
      ],
      "id": "5c580b86-81c7-4abb-8a97-94150569615c"
    },
    {
      "cell_type": "code",
      "execution_count": 5,
      "metadata": {},
      "outputs": [
        {
          "output_type": "stream",
          "name": "stdout",
          "text": [
            "<class 'pandas.core.frame.DataFrame'>\n",
            "Int64Index: 651430 entries, 3 to 1048574\n",
            "Data columns (total 24 columns):\n",
            " #   Column                 Non-Null Count   Dtype  \n",
            "---  ------                 --------------   -----  \n",
            " 0   Unnamed: 0             651430 non-null  int64  \n",
            " 1   trans_date_trans_time  651430 non-null  object \n",
            " 2   cc_num                 651430 non-null  float64\n",
            " 3   merchant               651430 non-null  object \n",
            " 4   category               651430 non-null  object \n",
            " 5   amt                    651430 non-null  float64\n",
            " 6   first                  651430 non-null  object \n",
            " 7   last                   651430 non-null  object \n",
            " 8   gender                 651430 non-null  object \n",
            " 9   street                 651430 non-null  object \n",
            " 10  city                   651430 non-null  object \n",
            " 11  state                  651430 non-null  object \n",
            " 12  zip                    651430 non-null  int64  \n",
            " 13  lat                    651430 non-null  float64\n",
            " 14  long                   651430 non-null  float64\n",
            " 15  city_pop               651430 non-null  int64  \n",
            " 16  job                    651430 non-null  object \n",
            " 17  dob                    651430 non-null  object \n",
            " 18  trans_num              651430 non-null  object \n",
            " 19  unix_time              651430 non-null  int64  \n",
            " 20  merch_lat              651430 non-null  float64\n",
            " 21  merch_long             651430 non-null  float64\n",
            " 22  is_fraud               651430 non-null  int64  \n",
            " 23  time                   651430 non-null  int64  \n",
            "dtypes: float64(6), int64(6), object(12)\n",
            "memory usage: 124.3+ MB"
          ]
        }
      ],
      "source": [
        "_df2.info()"
      ],
      "id": "712b9c3c-5c29-4f23-b95e-d4bee20b0e57"
    },
    {
      "cell_type": "markdown",
      "metadata": {},
      "source": [
        "`merch_lat`과 `merch_long` 은 상점의 위도 경도, 위의 lat과 long은 고객의\n",
        "??\n",
        "\n",
        "`dob`는 생년월일(date of birth)을 나타내는 변수\n",
        "\n",
        "`unix_time` 1970년 1월 1일 0시 0분 0초(UTC)부터 경과된 시간을 초(second)\n",
        "단위로 표현하는 방법\n",
        "\n",
        "`zip` 우편번호\n",
        "\n",
        "\\`"
      ],
      "id": "42294ca1-d159-4660-b8dd-c5a42ac1fece"
    },
    {
      "cell_type": "code",
      "execution_count": 6,
      "metadata": {},
      "outputs": [],
      "source": [
        "_df2[\"is_fraud\"].value_counts()"
      ],
      "id": "10d8945f-8bea-45ad-bbc1-492e303adba3"
    },
    {
      "cell_type": "code",
      "execution_count": 7,
      "metadata": {},
      "outputs": [],
      "source": [
        "_df2[\"is_fraud\"].value_counts()/len(_df2)"
      ],
      "id": "087fdf68-baa5-4ba9-a565-e5c436b21d5b"
    },
    {
      "cell_type": "code",
      "execution_count": 8,
      "metadata": {},
      "outputs": [],
      "source": [
        "type(_df2)"
      ],
      "id": "84d364a6-8b70-4b2c-84e4-b3fbc7cffd12"
    },
    {
      "cell_type": "code",
      "execution_count": 9,
      "metadata": {},
      "outputs": [
        {
          "output_type": "stream",
          "name": "stdout",
          "text": [
            "lat: 0.5002190204058765\n",
            "long: 0.5004574515650185"
          ]
        }
      ],
      "source": [
        "diff = _df2['lat'] - _df2['merch_lat']\n",
        "latabs=abs(diff)\n",
        "print(\"lat:\",abs(diff).mean())\n",
        "diff2 = _df2['long'] - _df2['merch_long']\n",
        "longabs=abs(diff2)\n",
        "print(\"long:\",abs(diff2).mean())"
      ],
      "id": "21e611d8-bbe2-4a72-b058-9660c1866faa"
    },
    {
      "cell_type": "code",
      "execution_count": 10,
      "metadata": {},
      "outputs": [],
      "source": [
        "_df2 = _df2.assign(latabs=abs(_df2['lat'] - _df2['merch_lat']))"
      ],
      "id": "7ff15237-2cce-4605-8174-ecb5fa33d24b"
    },
    {
      "cell_type": "code",
      "execution_count": 11,
      "metadata": {},
      "outputs": [],
      "source": [
        "_df2 = _df2.assign(longabs=abs(_df2['long'] - _df2['merch_long']))"
      ],
      "id": "e11ce258-af14-4066-87f4-e1c2bf7f665f"
    },
    {
      "cell_type": "code",
      "execution_count": 12,
      "metadata": {},
      "outputs": [],
      "source": [
        "_df2.groupby(by=['is_fraud']).agg({'city_pop':np.mean,'amt':np.mean,'time':np.mean,'latabs':np.mean, 'longabs':np.mean})"
      ],
      "id": "f2018f37-0783-4471-864f-f35d7dd42d85"
    },
    {
      "cell_type": "code",
      "execution_count": 13,
      "metadata": {},
      "outputs": [],
      "source": [
        "_df3=_df2[['amt','time','lat','merch_lat','is_fraud']]"
      ],
      "id": "f85fe0a2-acfb-451d-98d5-8720547ef3c7"
    },
    {
      "cell_type": "code",
      "execution_count": 14,
      "metadata": {},
      "outputs": [],
      "source": [
        "data=np.hstack([_df3.values[:,:]])"
      ],
      "id": "71a5e1c1-0f0f-439b-aa46-ecc5ffc079e4"
    },
    {
      "cell_type": "code",
      "execution_count": 15,
      "metadata": {},
      "outputs": [],
      "source": [
        "data"
      ],
      "id": "2c5bc9fe-5aa4-4d38-a3ea-a6e6570c4c7c"
    },
    {
      "cell_type": "code",
      "execution_count": 16,
      "metadata": {},
      "outputs": [],
      "source": [
        "X = data[:,:-1]\n",
        "y = data[:,-1]"
      ],
      "id": "8ba7c160-4678-44c9-9d66-84ccf0a2f62a"
    },
    {
      "cell_type": "code",
      "execution_count": 17,
      "metadata": {},
      "outputs": [],
      "source": [
        "from sklearn.linear_model import LogisticRegression\n",
        "from sklearn.model_selection import train_test_split\n",
        "from sklearn.metrics import accuracy_score, precision_score, recall_score, f1_score"
      ],
      "id": "d4fb117c-02dc-468c-a717-315828e328d3"
    },
    {
      "cell_type": "code",
      "execution_count": 47,
      "metadata": {},
      "outputs": [],
      "source": [
        "X_train, X_test, y_train, y_test = train_test_split(X,y, test_size=0.2)"
      ],
      "id": "2e6a6e8d-662a-4f03-a69e-43fbe87de15f"
    },
    {
      "cell_type": "code",
      "execution_count": 48,
      "metadata": {},
      "outputs": [],
      "source": [
        "lr = LogisticRegression()"
      ],
      "id": "0f58080e-f0e9-4d7a-8914-fd42b5b23b3d"
    },
    {
      "cell_type": "code",
      "execution_count": 49,
      "metadata": {},
      "outputs": [],
      "source": [
        "lr.fit(X_train, y_train)"
      ],
      "id": "5db39836-9a52-4e8d-a652-8667c65ca056"
    },
    {
      "cell_type": "code",
      "execution_count": 50,
      "metadata": {},
      "outputs": [],
      "source": [
        "y_pred=lr.predict(X_test)"
      ],
      "id": "92b6ae82-76ff-4466-9105-811390641583"
    },
    {
      "cell_type": "code",
      "execution_count": 51,
      "metadata": {},
      "outputs": [
        {
          "output_type": "stream",
          "name": "stdout",
          "text": [
            "Accuracy: 0.9891776553121594\n",
            "Precision: 0.9810129371194015\n",
            "Recall: 0.9891776553121594\n",
            "F1 score: 0.9850783784050309"
          ]
        }
      ],
      "source": [
        "acc= accuracy_score(y_test, y_pred)\n",
        "precision = precision_score(y_test, y_pred, average='weighted')\n",
        "recall = recall_score(y_test, y_pred, average='weighted')\n",
        "f1score = f1_score(y_test, y_pred, average='weighted')\n",
        "print(\"Accuracy: {}\".format(acc))\n",
        "print(\"Precision: {}\".format(precision))\n",
        "print(\"Recall: {}\".format(recall))\n",
        "print(\"F1 score: {}\".format(f1score))"
      ],
      "id": "0060c96a-ec3e-4b50-aaed-41c42cef07cb"
    },
    {
      "cell_type": "code",
      "execution_count": 52,
      "metadata": {
        "tags": []
      },
      "outputs": [
        {
          "output_type": "stream",
          "name": "stdout",
          "text": [
            "Accuracy: 0.9891776553121594\n",
            "Precision:0.4952274089672451\n",
            "Recall: 0.49934905923560957\n",
            "F1 score: 0.4972796937822675"
          ]
        }
      ],
      "source": [
        "acc= accuracy_score(y_test, y_pred)\n",
        "precision = precision_score(y_test, y_pred, average='macro')\n",
        "recall = recall_score(y_test, y_pred, average='macro')\n",
        "f1score = f1_score(y_test, y_pred, average='macro')\n",
        "print(\"Accuracy: {}\".format(acc))\n",
        "print(\"Precision:{}\".format(precision))\n",
        "print(\"Recall: {}\".format(recall))\n",
        "print(\"F1 score: {}\".format(f1score))"
      ],
      "id": "9d2585a0-55dd-40f9-8711-4f43f1141e1b"
    },
    {
      "cell_type": "markdown",
      "metadata": {},
      "source": [
        "> 간단하게 생각해보면, 고객의 lat과 상점의 lat의 차이가 크다.. 그러면\n",
        "> 사기거래일 가능성이 클 거 같은 느낌.?"
      ],
      "id": "67e2b9ff-20c1-4ec7-a6c3-e4e2802a6581"
    }
  ],
  "nbformat": 4,
  "nbformat_minor": 5,
  "metadata": {
    "kernelspec": {
      "name": "python3",
      "display_name": "Python 3 (ipykernel)",
      "language": "python"
    },
    "language_info": {
      "name": "python",
      "codemirror_mode": {
        "name": "ipython",
        "version": "3"
      },
      "file_extension": ".py",
      "mimetype": "text/x-python",
      "nbconvert_exporter": "python",
      "pygments_lexer": "ipython3",
      "version": "3.8.16"
    }
  }
}