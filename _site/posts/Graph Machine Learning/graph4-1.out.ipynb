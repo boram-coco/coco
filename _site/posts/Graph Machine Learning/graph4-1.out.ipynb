{
  "cells": [
    {
      "cell_type": "markdown",
      "metadata": {},
      "source": [
        "# CH4. 지도 그래프 학습(특징기반방법)\n",
        "\n",
        "김보람  \n",
        "2023-04-06\n",
        "\n",
        "# ref\n",
        "\n",
        "-   [그래프\n",
        "    머신러닝](https://product.kyobobook.co.kr/detail/S000200738068)\n",
        "\n",
        "-   [github](https://github.com/PacktPublishing/Graph-Machine-Learning)\n",
        "\n",
        "# 특징기반방법(Feature based methods)\n",
        "\n",
        "-   설명적인 특징 집합을 특정 출력에 매핑하는 함수 찾기.\n",
        "\n",
        "-   해당 개념을 학습할 만큼 전체를 충분히 대표하도록 주의 깊게 설계.\n",
        "\n",
        "-   평균 차수, 전체 효율성, 특징정인 경로 길이에 의존\n",
        "\n",
        "1.  sellargraph 통해서 데이터셋 로드"
      ],
      "id": "961b59c1-0067-4623-a7d5-40d36cf40e2e"
    },
    {
      "cell_type": "code",
      "execution_count": 1,
      "metadata": {},
      "outputs": [
        {
          "output_type": "stream",
          "name": "stderr",
          "text": [
            "2023-04-06 21:04:18.948281: I tensorflow/core/platform/cpu_feature_guard.cc:193] This TensorFlow binary is optimized with oneAPI Deep Neural Network Library (oneDNN) to use the following CPU instructions in performance-critical operations:  AVX2 FMA\n",
            "To enable them in other operations, rebuild TensorFlow with the appropriate compiler flags."
          ]
        }
      ],
      "source": [
        "from stellargraph import datasets\n",
        "from IPython.display import display, HTML\n",
        "\n",
        "dataset = datasets.PROTEINS()\n",
        "display(HTML(dataset.description))\n",
        "graphs, graph_labels = dataset.load()"
      ],
      "id": "2b729918-ccfa-453d-891e-5c67fa193b37"
    },
    {
      "cell_type": "markdown",
      "metadata": {},
      "source": [
        "1.  stellargraph형식에서 networkx 형식으로 그래프 변환\n",
        "\n",
        "-   stellargraph 표현에서 numpy 인접행렬로 그래프 변환\n",
        "\n",
        "-   인접행렬을 사용해 networkx 표현으로 돌리기"
      ],
      "id": "6a31dcbc-09ea-4eb1-a5b1-b9fb3b9e2ff1"
    },
    {
      "cell_type": "code",
      "execution_count": 2,
      "metadata": {},
      "outputs": [],
      "source": [
        "# tellargraph 형태에서 numpy인접행렬로 변환\n",
        "adjs = [graph.to_adjacency_matrix().A for graph in graphs]\n",
        "\n",
        "# Pandas.Series로 구성된 라벨을 numpy array로 변환\n",
        "labels = graph_labels.to_numpy(dtype=int)"
      ],
      "id": "df28ba3d-3027-4857-96ab-188dd9eb89a0"
    },
    {
      "cell_type": "markdown",
      "metadata": {},
      "source": [
        "1.  각 그래프에 대해 설명하기 위해 전역 측정 지표 계산\n",
        "\n",
        "-   간선수, 평균 클러스터 계수, 전역 효율성 선택"
      ],
      "id": "95fec019-0fb5-4cb0-9dc9-f0c8ea6cdf32"
    },
    {
      "cell_type": "code",
      "execution_count": 3,
      "metadata": {},
      "outputs": [],
      "source": [
        "import numpy as np\n",
        "import networkx as nx\n",
        "\n",
        "metrics = []\n",
        "for adj in adjs:\n",
        "  G = nx.from_numpy_matrix(adj)\n",
        "\n",
        "  # 기본 속성\n",
        "  num_edges = G.number_of_edges()\n",
        "\n",
        "  # 클러스터링 방법\n",
        "  cc = nx.average_clustering(G)\n",
        "\n",
        "  # 효율성 측정\n",
        "  eff = nx.global_efficiency(G)\n",
        "\n",
        "  metrics.append([num_edges, cc, eff])\n"
      ],
      "id": "7456b74f-34f5-4c5d-99a8-815f061c6786"
    },
    {
      "cell_type": "markdown",
      "metadata": {},
      "source": [
        "1.  scikit-learn 유틸리티를 활용해 훈련 및 테스트 세트를 생성\n",
        "\n",
        "데이터셋의 70% 훈련, 30% 테스트"
      ],
      "id": "38d59907-a374-49a2-9ea8-fde55254392d"
    },
    {
      "cell_type": "code",
      "execution_count": 4,
      "metadata": {},
      "outputs": [],
      "source": [
        "from sklearn.model_selection import train_test_split\n",
        "X_train, X_test, y_train, y_test = train_test_split(metrics, labels, test_size=0.3, random_state=42)"
      ],
      "id": "f0d1fdc8-80d4-4042-ae36-60a60af69237"
    },
    {
      "cell_type": "markdown",
      "metadata": {},
      "source": [
        "1.  머신러닝 알고리즘 학습 시작\n",
        "\n",
        "scikit-learn의 SVC모듈 사용"
      ],
      "id": "7b061bc6-02fe-4a1a-b6d5-7225b598badf"
    },
    {
      "cell_type": "code",
      "execution_count": 6,
      "metadata": {},
      "outputs": [],
      "source": [
        "from sklearn.preprocessing import StandardScaler\n",
        "\n",
        "scaler = StandardScaler()\n",
        "scaler.fit(X_train)\n",
        "\n",
        "X_train_scaled = scaler.transform(X_train)\n",
        "X_test_scaled = scaler.transform(X_test)"
      ],
      "id": "6181ba75-1282-415e-a255-a76a0e59ce67"
    },
    {
      "cell_type": "code",
      "execution_count": 7,
      "metadata": {},
      "outputs": [
        {
          "output_type": "stream",
          "name": "stdout",
          "text": [
            "Accuracy 0.7455089820359282\n",
            "Precision 0.7709251101321586\n",
            "Recall 0.8413461538461539\n",
            "F1-score 0.8045977011494253"
          ]
        }
      ],
      "source": [
        "from sklearn import svm\n",
        "from sklearn.metrics import accuracy_score, precision_score, recall_score, f1_score\n",
        "\n",
        "clf = svm.SVC()\n",
        "clf.fit(X_train_scaled, y_train)\n",
        "\n",
        "y_pred = clf.predict(X_test_scaled)\n",
        "\n",
        "print('Accuracy', accuracy_score(y_test,y_pred))\n",
        "print('Precision', precision_score(y_test,y_pred))\n",
        "print('Recall', recall_score(y_test,y_pred))\n",
        "print('F1-score', f1_score(y_test,y_pred))"
      ],
      "id": "5ee10a64-22db-4950-912d-6f2f11a784ae"
    }
  ],
  "nbformat": 4,
  "nbformat_minor": 5,
  "metadata": {
    "kernelspec": {
      "name": "python3",
      "display_name": "Python 3 (ipykernel)",
      "language": "python"
    },
    "language_info": {
      "name": "python",
      "codemirror_mode": {
        "name": "ipython",
        "version": "3"
      },
      "file_extension": ".py",
      "mimetype": "text/x-python",
      "nbconvert_exporter": "python",
      "pygments_lexer": "ipython3",
      "version": "3.8.16"
    }
  }
}