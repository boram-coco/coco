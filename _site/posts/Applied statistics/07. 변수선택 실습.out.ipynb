{
  "cells": [
    {
      "cell_type": "markdown",
      "metadata": {},
      "source": [
        "# 07. 변수선택 실습\n",
        "\n",
        "김보람  \n",
        "2023-05-09\n",
        "\n",
        "> 해당 자료는 전북대학교 이영미 교수님 2023응용통계학 자료임\n",
        "\n",
        "# 변수선택"
      ],
      "id": "61bad808-e7c5-4971-998c-4514ecc5b876"
    },
    {
      "cell_type": "code",
      "execution_count": 2,
      "metadata": {},
      "outputs": [],
      "source": [
        "dt <- data.frame(\n",
        "\n",
        " x1 = c(7,1,11,11,7,11,3,1,2,21,1,11,10),\n",
        " x2 = c(26,29,56,31,52,55,71,31,54,47,40,66,68),\n",
        " x3 = c(6,15,8,8,6,9,17,22,18,4,23,9,8),\n",
        " x4 = c(60,52,20,47,33,22,6,44,22,26,34,12,12),\n",
        " y = c(78.5,74.3,104.3,87.6,95.9,109.2,102.7,72.5,93.1,115.9,83.8,113.3,109.4)\n",
        ")\n"
      ],
      "id": "6b717319-54b0-47ab-b509-c9aecd17f0f5"
    },
    {
      "cell_type": "code",
      "execution_count": 3,
      "metadata": {},
      "outputs": [
        {
          "output_type": "display_data",
          "metadata": {},
          "data": {
            "image/png": "[encoded data removed]"
          }
        }
      ],
      "source": [
        "pairs(dt, pch=16)\n",
        "cor(dt)"
      ],
      "id": "a8fa05cc-2f72-42b5-8dfa-ece155193060"
    },
    {
      "cell_type": "markdown",
      "metadata": {},
      "source": [
        "-   Full Model :\n",
        "    $𝑦 = 𝛽_0 + 𝛽_1𝑥_1 + 𝛽_2𝑥_2 + 𝛽_3𝑥_3 + 𝛽_4𝑥_4 + \\epsilon$"
      ],
      "id": "e4ab23c5-929e-45cc-b579-229b16eb8568"
    },
    {
      "cell_type": "code",
      "execution_count": 4,
      "metadata": {},
      "outputs": [],
      "source": [
        "m <- lm(y~., dt) ##FM\n",
        "summary(m)"
      ],
      "id": "563a2da7-4faa-49b9-b884-e203ae1fa260"
    },
    {
      "cell_type": "markdown",
      "metadata": {},
      "source": [
        "> 모형은 유의하게 나오고 R^2도 값이 크게나오는데, 회귀계수는 하나도\n",
        "> 유의한게 없다? 다중공산성 때문에\n",
        "\n",
        "## 후진제거법"
      ],
      "id": "f8f94401-5190-48f1-b829-6e61f86e8b46"
    },
    {
      "cell_type": "code",
      "execution_count": 5,
      "metadata": {},
      "outputs": [],
      "source": [
        "summary(m)"
      ],
      "id": "a63a1984-823c-4a8b-85af-85d68aa9dd03"
    },
    {
      "cell_type": "markdown",
      "metadata": {},
      "source": [
        "> 부분 F통계량, F통계량 = t^2 (t검정)\n",
        ">\n",
        "> $H_0:\\beta_1= 0$\n",
        ">\n",
        "> 위의 `t value` 제곱하면 부분 F통계량이 됨\n",
        ">\n",
        "> t-value의 절대값이 가장 작은 값을 찾아주면 됨 -\\> x3"
      ],
      "id": "8c0df493-fc5b-42b6-aad3-989dfe75fa95"
    },
    {
      "cell_type": "code",
      "execution_count": 6,
      "metadata": {},
      "outputs": [],
      "source": [
        "drop1(m, test = \"F\") #x3 제거\n",
        "# m에서 F통계량 사요하여 제거한것 확인"
      ],
      "id": "0a242fc6-c0a7-4c26-bbef-b6c0af5d1b7a"
    },
    {
      "cell_type": "markdown",
      "metadata": {},
      "source": [
        "> `RSS`: SSE\n",
        ">\n",
        "> `F value` : $F=\\dfrac{SSE_{RM}-SSE_{FM}}{SSE_{FM}/(n-p-1)}$ F값이\n",
        "> 작을수록 유의하지 않다. 클수록 유의하다.\n",
        ">\n",
        "> 3번째값이 가장 작은 값을 갖다. 유의확률이 제일 크니까 변수가 제거된다."
      ],
      "id": "97190a7c-ba0a-4f5e-9e4f-8269fe918785"
    },
    {
      "cell_type": "code",
      "execution_count": 7,
      "metadata": {},
      "outputs": [],
      "source": [
        "m1 <- update(m, ~ . -x3)\n",
        "summary(m1) #x4 제거"
      ],
      "id": "240c5e0c-5a48-4c98-b5d9-3909fca4b7f2"
    },
    {
      "cell_type": "markdown",
      "metadata": {},
      "source": [
        "> $lm(y$~$x_1+x_2+x_4, dt)$ 라고 표현해도 된다.\n",
        ">\n",
        "> x1이 유의해졌다. (x3과 다중공산성이 심했었다)"
      ],
      "id": "60391b3f-bd10-442c-953a-f7679c546dbb"
    },
    {
      "cell_type": "code",
      "execution_count": 8,
      "metadata": {},
      "outputs": [],
      "source": [
        "drop1(m1, test = \"F\")"
      ],
      "id": "1fdf6ec8-3554-46fc-a0ea-856575643f67"
    },
    {
      "cell_type": "markdown",
      "metadata": {},
      "source": [
        "> Fvalue의 x4가 가장 작으므로 제거하자. 유의하지 않다."
      ],
      "id": "be839c64-96e0-4dd7-814f-3123238ace33"
    },
    {
      "cell_type": "code",
      "execution_count": 9,
      "metadata": {},
      "outputs": [],
      "source": [
        "m2 <- update(m1, ~ . -x4)\n",
        "summary(m2) \n"
      ],
      "id": "fb1742a8-9c1e-4339-a764-9f65fca5b2b8"
    },
    {
      "cell_type": "code",
      "execution_count": 10,
      "metadata": {},
      "outputs": [],
      "source": [
        "drop1(m2, test = \"F\")"
      ],
      "id": "994ce7f3-e13b-495d-9da0-da3c38ce3afa"
    },
    {
      "cell_type": "markdown",
      "metadata": {},
      "source": [
        "> `F value`가 작은 x1을 제거할까? 하고 보니까 통계적으로 유의하므로\n",
        "> 제거하지 않는다.\n",
        "\n",
        "## 전진선택법\n",
        "\n",
        "-   Start model : $𝑦 = 𝛽_0 + \\epsilon$"
      ],
      "id": "651570c5-f246-4b7f-84c1-e637d1833ff9"
    },
    {
      "cell_type": "code",
      "execution_count": 11,
      "metadata": {},
      "outputs": [],
      "source": [
        "m0 = lm(y ~ 1, data = dt)"
      ],
      "id": "0990d114-b671-460b-a76a-328793d4dc4e"
    },
    {
      "cell_type": "code",
      "execution_count": 12,
      "metadata": {},
      "outputs": [],
      "source": [
        "add1(m0,\n",
        " scope = y ~ x1 + x2 + x3+ x4,\n",
        " test = \"F\") ## x4추가"
      ],
      "id": "eca85e12-7703-43fb-a19d-49c9addda259"
    },
    {
      "cell_type": "markdown",
      "metadata": {},
      "source": [
        "> F값이 크면 좋음. x4가 좋으니까 보면 유의하므로 추가하자."
      ],
      "id": "394bfa51-d8e5-459f-8c15-368e59c285cd"
    },
    {
      "cell_type": "code",
      "execution_count": 13,
      "metadata": {},
      "outputs": [],
      "source": [
        "m1 <- update(m0, ~ . +x4)\n",
        "summary(m1)"
      ],
      "id": "f22383d8-4a74-435e-9289-a6b53c658a12"
    },
    {
      "cell_type": "code",
      "execution_count": 14,
      "metadata": {},
      "outputs": [],
      "source": [
        "add1(m1,\n",
        " scope = y ~ x1 + x2 + x3+ x4,\n",
        " test = \"F\") ## x1추가"
      ],
      "id": "66f8922a-9a57-43ff-b701-9eef56700da5"
    },
    {
      "cell_type": "markdown",
      "metadata": {},
      "source": [
        "> x1의 F갑싱 제일 크고 유의하므로 추가"
      ],
      "id": "ea86697b-ee81-4883-a6a7-188981d99d14"
    },
    {
      "cell_type": "code",
      "execution_count": 15,
      "metadata": {},
      "outputs": [],
      "source": [
        "m2 <- update(m1, ~ . +x1)\n",
        "summary(m2)\n"
      ],
      "id": "936bf9be-01f0-4f55-875b-f30884588162"
    },
    {
      "cell_type": "code",
      "execution_count": 16,
      "metadata": {},
      "outputs": [],
      "source": [
        "add1(m2,\n",
        " scope = y ~ x1 + x2 + x3+ x4,\n",
        " test = \"F\") ## stop"
      ],
      "id": "b967813f-e308-45c8-9162-4c3d828982b1"
    },
    {
      "cell_type": "markdown",
      "metadata": {},
      "source": [
        "> x2의 F값이 더 크지만, pr값이 애매해. 유의수준 a=0.05면 유의하지 않다.\n",
        "> 모형에 포함될 수 없으므로 멈춘다.\n",
        ">\n",
        "> 최종 모형은 x1과 x4를 선택한 모형\n",
        "\n",
        "## 단계적선택법"
      ],
      "id": "32fcb989-30a7-44fa-a4ba-e57d7d817842"
    },
    {
      "cell_type": "code",
      "execution_count": 7,
      "metadata": {},
      "outputs": [],
      "source": [
        "m0 = lm(y ~ 1, data = dt)\n",
        "# 절편먼저 시작"
      ],
      "id": "b701b973-96fa-477e-bb85-cdc4306537c9"
    },
    {
      "cell_type": "code",
      "execution_count": 18,
      "metadata": {},
      "outputs": [],
      "source": [
        "add1(m0,\n",
        " scope = y ~ x1 + x2 + x3+ x4,\n",
        " test = \"F\") ## x4추가\n"
      ],
      "id": "b4e9bbbd-9c5e-41c8-8289-9edf523c3547"
    },
    {
      "cell_type": "code",
      "execution_count": 19,
      "metadata": {},
      "outputs": [],
      "source": [
        "m1 <- update(m0, ~ . +x4)\n",
        "summary(m1)"
      ],
      "id": "0dbe64cf-3a47-4a41-a367-5e19d75cadbb"
    },
    {
      "cell_type": "code",
      "execution_count": 20,
      "metadata": {},
      "outputs": [],
      "source": [
        "add1(m1,\n",
        " scope = y ~ x1 + x2 + x3+ x4,\n",
        " test = \"F\") ## x1추가\n"
      ],
      "id": "49242776-c41d-4dda-b553-d04fc8c5204d"
    },
    {
      "cell_type": "code",
      "execution_count": 21,
      "metadata": {},
      "outputs": [],
      "source": [
        "m2 <- update(m1, ~ . +x1)"
      ],
      "id": "6f85d1ed-58d8-40c3-94d4-2af53dca33f9"
    },
    {
      "cell_type": "code",
      "execution_count": 22,
      "metadata": {},
      "outputs": [],
      "source": [
        "drop1(m2, test = \"F\") #제거 없음"
      ],
      "id": "5fd71c79-93cf-4d01-afcf-265d84695605"
    },
    {
      "cell_type": "markdown",
      "metadata": {},
      "source": [
        "> x1,x4 유의하니까 그대로 가져가자"
      ],
      "id": "e9ca4846-6830-45b1-ac56-a6aea676b4aa"
    },
    {
      "cell_type": "code",
      "execution_count": 23,
      "metadata": {},
      "outputs": [],
      "source": [
        "add1(m2,\n",
        " scope = y ~ x1 + x2 + x3+ x4,\n",
        " test = \"F\") ## x2추가"
      ],
      "id": "3303f489-ffa1-4c8e-8d3c-2143cdefb058"
    },
    {
      "cell_type": "markdown",
      "metadata": {},
      "source": [
        "> 유의수준 a=0.1로 보자"
      ],
      "id": "8a52fd5f-b733-445d-8fa7-11b857021dd9"
    },
    {
      "cell_type": "code",
      "execution_count": 24,
      "metadata": {},
      "outputs": [],
      "source": [
        "m3 <- update(m2, ~ . +x2)\n",
        "summary(m3) \n"
      ],
      "id": "71e37e2c-a2d0-46e8-9b87-04f3f9ff8b4d"
    },
    {
      "cell_type": "code",
      "execution_count": 25,
      "metadata": {},
      "outputs": [],
      "source": [
        "drop1(m3, test=\"F\") #x4 제거"
      ],
      "id": "4d6f36d4-c710-46df-b83c-9b286a082157"
    },
    {
      "cell_type": "markdown",
      "metadata": {},
      "source": [
        "> x2를 추가했기 때문에 x2는 보지 않고 x1과 x4만 보면 된다"
      ],
      "id": "c5a6768b-2e81-473a-9616-b42984889afd"
    },
    {
      "cell_type": "code",
      "execution_count": 26,
      "metadata": {},
      "outputs": [],
      "source": [
        "m4 <- update(m3, ~ . -x4)\n",
        "summary(m4)"
      ],
      "id": "f5b12b82-d64a-409b-80d6-d44653d32fa1"
    },
    {
      "cell_type": "code",
      "execution_count": 27,
      "metadata": {},
      "outputs": [],
      "source": [
        "add1(m4,\n",
        " scope = y ~ x1 + x2 + x3+ x4,\n",
        " test = \"F\") #stop"
      ],
      "id": "ca651ed8-3572-478f-add3-766dc59d496b"
    },
    {
      "cell_type": "markdown",
      "metadata": {},
      "source": [
        "## AIC를 이용한 변수 선택법\n",
        "\n",
        "-   모델 선택시 AIC가 작은 모델을 선택\n",
        "\n",
        "### Backward - AIC\n",
        "\n",
        "-   후진제거법 AIC로 해보기\n",
        "\n",
        "-   step 함수: AIC가 기준임"
      ],
      "id": "3b2ad22b-e882-4653-ae93-e45c67d9af08"
    },
    {
      "cell_type": "code",
      "execution_count": 28,
      "metadata": {},
      "outputs": [
        {
          "output_type": "stream",
          "name": "stdout",
          "text": [
            "Start:  AIC=26.94\n",
            "y ~ x1 + x2 + x3 + x4\n",
            "\n",
            "       Df Sum of Sq    RSS    AIC\n",
            "- x3    1    0.1091 47.973 24.974\n",
            "- x4    1    0.2470 48.111 25.011\n",
            "- x2    1    2.9725 50.836 25.728\n",
            "<none>              47.864 26.944\n",
            "- x1    1   25.9509 73.815 30.576\n",
            "\n",
            "Step:  AIC=24.97\n",
            "y ~ x1 + x2 + x4\n",
            "\n",
            "       Df Sum of Sq    RSS    AIC\n",
            "<none>               47.97 24.974\n",
            "- x4    1      9.93  57.90 25.420\n",
            "- x2    1     26.79  74.76 28.742\n",
            "- x1    1    820.91 868.88 60.629"
          ]
        }
      ],
      "source": [
        "model_back = step(m, direction = \"backward\")\n",
        "summary(model_back)"
      ],
      "id": "ec8431f8-c807-4d2c-b6b7-1c680c4567b6"
    },
    {
      "cell_type": "markdown",
      "metadata": {},
      "source": [
        "``` r\n",
        "     Df Sum of Sq    RSS    AIC\n",
        "- x3    1    0.1091 47.973 24.974\n",
        "- x4    1    0.2470 48.111 25.011\n",
        "- x2    1    2.9725 50.836 25.728\n",
        "<none>              47.864 26.944\n",
        "- x1    1   25.9509 73.815 30.576\n",
        "```\n",
        "\n",
        "-x3을 뺐을때 aic.. -x4을 뺏을때 aic…\n",
        "\n",
        "-   AIC가 작으면 작을수록 좋다.그래서 x3빼자\n",
        "\n",
        "-   x2와 x4가 애매하긴 하지만,,\n",
        "\n",
        "### Forward - AIC\n",
        "\n",
        "-   전진선택법"
      ],
      "id": "86db1235-ab6e-4476-905d-372ffc1bc27d"
    },
    {
      "cell_type": "code",
      "execution_count": 29,
      "metadata": {},
      "outputs": [
        {
          "output_type": "stream",
          "name": "stdout",
          "text": [
            "Start:  AIC=71.44\n",
            "y ~ 1\n",
            "\n",
            "       Df Sum of Sq     RSS    AIC\n",
            "+ x4    1   1831.90  883.87 58.852\n",
            "+ x2    1   1809.43  906.34 59.178\n",
            "+ x1    1   1450.08 1265.69 63.519\n",
            "+ x3    1    776.36 1939.40 69.067\n",
            "<none>              2715.76 71.444\n",
            "\n",
            "Step:  AIC=58.85\n",
            "y ~ x4\n",
            "\n",
            "       Df Sum of Sq    RSS    AIC\n",
            "+ x1    1    809.10  74.76 28.742\n",
            "+ x3    1    708.13 175.74 39.853\n",
            "<none>              883.87 58.852\n",
            "+ x2    1     14.99 868.88 60.629\n",
            "\n",
            "Step:  AIC=28.74\n",
            "y ~ x4 + x1\n",
            "\n",
            "       Df Sum of Sq    RSS    AIC\n",
            "+ x2    1    26.789 47.973 24.974\n",
            "+ x3    1    23.926 50.836 25.728\n",
            "<none>              74.762 28.742\n",
            "\n",
            "Step:  AIC=24.97\n",
            "y ~ x4 + x1 + x2\n",
            "\n",
            "       Df Sum of Sq    RSS    AIC\n",
            "<none>              47.973 24.974\n",
            "+ x3    1   0.10909 47.864 26.944"
          ]
        }
      ],
      "source": [
        "model_forward = step(\n",
        " m0,\n",
        " scope = y ~ x1 + x2 + x3+ x4,\n",
        " direction = \"forward\")\n",
        "summary(model_forward)"
      ],
      "id": "e4ce9a36-0f97-46cb-ada8-eeb18bdb5e41"
    },
    {
      "cell_type": "markdown",
      "metadata": {},
      "source": [
        "### Step - AIC"
      ],
      "id": "1e35f27b-f908-4bae-80da-eeca19e8e0e3"
    },
    {
      "cell_type": "code",
      "execution_count": 30,
      "metadata": {},
      "outputs": [
        {
          "output_type": "stream",
          "name": "stdout",
          "text": [
            "Start:  AIC=71.44\n",
            "y ~ 1\n",
            "\n",
            "       Df Sum of Sq     RSS    AIC\n",
            "+ x4    1   1831.90  883.87 58.852\n",
            "+ x2    1   1809.43  906.34 59.178\n",
            "+ x1    1   1450.08 1265.69 63.519\n",
            "+ x3    1    776.36 1939.40 69.067\n",
            "<none>              2715.76 71.444\n",
            "\n",
            "Step:  AIC=58.85\n",
            "y ~ x4\n",
            "\n",
            "       Df Sum of Sq     RSS    AIC\n",
            "+ x1    1    809.10   74.76 28.742\n",
            "+ x3    1    708.13  175.74 39.853\n",
            "<none>               883.87 58.852\n",
            "+ x2    1     14.99  868.88 60.629\n",
            "- x4    1   1831.90 2715.76 71.444\n",
            "\n",
            "Step:  AIC=28.74\n",
            "y ~ x4 + x1\n",
            "\n",
            "       Df Sum of Sq     RSS    AIC\n",
            "+ x2    1     26.79   47.97 24.974\n",
            "+ x3    1     23.93   50.84 25.728\n",
            "<none>                74.76 28.742\n",
            "- x1    1    809.10  883.87 58.852\n",
            "- x4    1   1190.92 1265.69 63.519\n",
            "\n",
            "Step:  AIC=24.97\n",
            "y ~ x4 + x1 + x2\n",
            "\n",
            "       Df Sum of Sq    RSS    AIC\n",
            "<none>               47.97 24.974\n",
            "- x4    1      9.93  57.90 25.420\n",
            "+ x3    1      0.11  47.86 26.944\n",
            "- x2    1     26.79  74.76 28.742\n",
            "- x1    1    820.91 868.88 60.629"
          ]
        }
      ],
      "source": [
        "model_step = step(\n",
        " m0,\n",
        " scope = y ~ x1 + x2 + x3+ x4,\n",
        " direction = \"both\")\n",
        "summary(model_step)"
      ],
      "id": "3b6c77e6-f7bd-4841-bb63-5b33c0deecae"
    },
    {
      "cell_type": "markdown",
      "metadata": {},
      "source": [
        "-   추가하는거랑 빼는거랑 동시에 진행\n",
        "\n",
        "## regsubsets"
      ],
      "id": "4db2e2a6-3c1d-40f6-bcdc-fe03a0191979"
    },
    {
      "cell_type": "code",
      "execution_count": 50,
      "metadata": {},
      "outputs": [],
      "source": [
        "m_full <-lm(y~.,dt)\n",
        "summary(m_full)"
      ],
      "id": "d93e8179-93fc-43d1-99e8-55b4a3180201"
    },
    {
      "cell_type": "markdown",
      "metadata": {},
      "source": [
        "### nbest=1"
      ],
      "id": "f499ec47-ad38-4c03-a8d3-7730ab2f49c8"
    },
    {
      "cell_type": "code",
      "execution_count": 52,
      "metadata": {},
      "outputs": [],
      "source": [
        "fit <- regsubsets(y~., data=dt, nbest=1, nvmax=9, method='exhaustive',)"
      ],
      "id": "5396efa5-4ae3-44a7-99a8-521d2a128277"
    },
    {
      "cell_type": "code",
      "execution_count": 53,
      "metadata": {},
      "outputs": [],
      "source": [
        "summary(fit)"
      ],
      "id": "cda25286-bbab-4014-b89c-a8972235639d"
    },
    {
      "cell_type": "markdown",
      "metadata": {},
      "source": [
        "-   설명변수 1개, 2개, 3개 , 4개썼을때 제일 좋은 모형을 불러와 :nbest=1"
      ],
      "id": "988799ca-b25b-4d76-9885-10b33e362381"
    },
    {
      "cell_type": "code",
      "execution_count": 54,
      "metadata": {},
      "outputs": [],
      "source": [
        "with(summary(fit), round(cbind(which,rss,rsq,adjr2,cp,bic),3))"
      ],
      "id": "43757d10-bf23-4ba6-ae84-54edd72f5e5b"
    },
    {
      "cell_type": "markdown",
      "metadata": {},
      "source": [
        "### nbest=2"
      ],
      "id": "9857a52f-841c-4692-9d53-7f7e13d47bc2"
    },
    {
      "cell_type": "code",
      "execution_count": 55,
      "metadata": {},
      "outputs": [],
      "source": [
        "fit <- regsubsets(y~., data=dt, nbest=2, nvmax=9, method='exhaustive',)"
      ],
      "id": "610fcc39-e05f-4ce7-b888-ef1b11073e78"
    },
    {
      "cell_type": "code",
      "execution_count": 56,
      "metadata": {},
      "outputs": [],
      "source": [
        "summary(fit)"
      ],
      "id": "c1d43ea5-4667-4aa7-9f46-dc95a33f850c"
    },
    {
      "cell_type": "markdown",
      "metadata": {},
      "source": [
        "-   좋았던걸 2개씩 리턴\n",
        "\n",
        "### nbest=6"
      ],
      "id": "76424037-d99c-468c-9462-62ff06b5205a"
    },
    {
      "cell_type": "code",
      "execution_count": 57,
      "metadata": {},
      "outputs": [],
      "source": [
        "fit <- regsubsets(y~., data=dt, nbest=6, nvmax=9, method='exhaustive',)\n",
        "summary(fit)"
      ],
      "id": "57efccb4-d485-4a3b-adfa-f9cfe1b3ecca"
    },
    {
      "cell_type": "code",
      "execution_count": 58,
      "metadata": {},
      "outputs": [],
      "source": [
        "with(summary(fit), round(cbind(which,rss,rsq,adjr2,cp,bic),3))"
      ],
      "id": "16311109-aab4-4fad-9812-f8c58b908ecd"
    },
    {
      "cell_type": "markdown",
      "metadata": {},
      "source": [
        "### nvmax=2\n",
        "\n",
        "-   설명변수 최대 2개까지만"
      ],
      "id": "d7348f46-d16e-407a-ad1f-f4f504b5f02a"
    },
    {
      "cell_type": "code",
      "execution_count": 59,
      "metadata": {},
      "outputs": [],
      "source": [
        "fit <- regsubsets(y~., data=dt, nbest=6, nvmax=2, method='exhaustive',)\n",
        "summary(fit)"
      ],
      "id": "d15627c9-787c-4cc8-9c2f-850204c40754"
    },
    {
      "cell_type": "markdown",
      "metadata": {},
      "source": [
        "# 자동차 연비 자료 분석"
      ],
      "id": "b4f60dc9-25c6-42fd-8de2-aab5969f93f3"
    },
    {
      "cell_type": "code",
      "execution_count": 34,
      "metadata": {},
      "outputs": [
        {
          "output_type": "stream",
          "name": "stdout",
          "text": [
            "'data.frame':   32 obs. of  11 variables:\n",
            " $ mpg : num  21 21 22.8 21.4 18.7 18.1 14.3 24.4 22.8 19.2 ...\n",
            " $ cyl : num  6 6 4 6 8 6 8 4 4 6 ...\n",
            " $ disp: num  160 160 108 258 360 ...\n",
            " $ hp  : num  110 110 93 110 175 105 245 62 95 123 ...\n",
            " $ drat: num  3.9 3.9 3.85 3.08 3.15 2.76 3.21 3.69 3.92 3.92 ...\n",
            " $ wt  : num  2.62 2.88 2.32 3.21 3.44 ...\n",
            " $ qsec: num  16.5 17 18.6 19.4 17 ...\n",
            " $ vs  : num  0 0 1 1 0 1 0 1 1 1 ...\n",
            " $ am  : num  1 1 1 0 0 0 0 0 0 0 ...\n",
            " $ gear: num  4 4 4 3 3 3 3 4 4 4 ...\n",
            " $ carb: num  4 4 1 1 2 1 4 2 2 4 ..."
          ]
        }
      ],
      "source": [
        "str(mtcars)"
      ],
      "id": "4fc7adca-da5c-40cc-9157-895d9e79ca56"
    },
    {
      "cell_type": "code",
      "execution_count": 35,
      "metadata": {},
      "outputs": [],
      "source": [
        "round(cor(mtcars),2)"
      ],
      "id": "edab0890-27fe-4bcf-8a53-20863def2110"
    },
    {
      "cell_type": "markdown",
      "metadata": {},
      "source": [
        "> mpg(연비)가 y이고 y와 상관관계가 가장 높은것은 wt(차무게), hp(마력)"
      ],
      "id": "0d2ab33e-3f41-44b0-b71d-28f5e60b0879"
    },
    {
      "cell_type": "code",
      "execution_count": 36,
      "metadata": {},
      "outputs": [],
      "source": [
        "m_full <- lm(mpg~., mtcars)\n",
        "summary(m_full)\n"
      ],
      "id": "c56522a1-d80a-42d3-b938-f719fcca66b0"
    },
    {
      "cell_type": "markdown",
      "metadata": {},
      "source": [
        "> 다중공산성 떄문에 회귀계수는 다 유의하지 않게 나옴"
      ],
      "id": "f8e2f1ac-c1d9-44eb-b295-83e95b502a64"
    },
    {
      "cell_type": "code",
      "execution_count": 40,
      "metadata": {},
      "outputs": [],
      "source": [
        "library(leaps)"
      ],
      "id": "23ede06a-1a95-4d19-98fe-fd03c68f5cca"
    },
    {
      "cell_type": "code",
      "execution_count": 43,
      "metadata": {},
      "outputs": [],
      "source": [
        "fit<-regsubsets(mpg~., data=mtcars, nbest=1,nvmax=9,\n",
        "# method=c(\"exhaustive\"(모든가능한),\"backward\", \"forward\", \"seqrep\")\n",
        "method='exhaustive',\n",
        ")\n"
      ],
      "id": "b7f1aa54-927e-4a5c-b891-9e405222a55e"
    },
    {
      "cell_type": "code",
      "execution_count": 42,
      "metadata": {},
      "outputs": [],
      "source": [
        "summary(fit)\n"
      ],
      "id": "ea863335-6b97-4280-9789-ac55d4721533"
    },
    {
      "cell_type": "markdown",
      "metadata": {},
      "source": [
        "> 설명변수 2개를 쓴거는 $_{10}C_{2}=45$개 모형을 만들 수 있음. $R^2$을\n",
        "> 봐서 좋은걸 보면 cyl이랑 wt쓴게 제일 좋은 모형이야.\n",
        "\n",
        "> 설명변수 1개를 쓴다면 그 중에서 wt쓴거의 $R^2$가 제일 좋아.\n",
        "\n",
        "> 설명변수 3개는 wt,qsec,am 쓴게 제일 좋아\n",
        "\n",
        "-   `Forced in`: 나는 이 변수가 꼭 들어갔으면 좋겠어\n",
        "\n",
        "-   `Forced out` : 나는 이변수가 꼭 뺐으면 좋겠어\n",
        "\n",
        "-   10개 쓴거가 full model 이고 설명변수를 1개 2개 3개 쓴…"
      ],
      "id": "bdef805d-e5bd-4d3c-8ebc-aee3444278c5"
    },
    {
      "cell_type": "code",
      "execution_count": 44,
      "metadata": {},
      "outputs": [],
      "source": [
        "with(summary(fit),\n",
        "     round(cbind(which,rss,rsq,adjr2,cp,bic),3))"
      ],
      "id": "04148691-2d1a-4029-be18-b759bbf16362"
    },
    {
      "cell_type": "markdown",
      "metadata": {},
      "source": [
        "`which,rss,rsq,adjr2,cp,bic`\n",
        "\n",
        "-   which:어떤 변수를 썼는지?\n",
        "\n",
        "-   rss: sse 작을 수록 좋다. -\\> `147.574` 제일작은데, 원래 제일 복잡한\n",
        "    모형이 제일 작다. 감소하는 차이를 보자..\n",
        "\n",
        "-   rsq : $R^2$ 크면 좋은데 둔화되는 점까지 보자.\n",
        "\n",
        "-   adjr2 : $R^2_{adj}$ 크면 좋다. `0.838` 5개\n",
        "\n",
        "-   cp: 작으면 좋다. $cp \\leq p+1$ `0.103` 3개\n",
        "\n",
        "-   bic: 작으면 좋다. `-46.773` 3개\n",
        "\n",
        "> 3개를 쓰는게 좋을 거 같다."
      ],
      "id": "32449eb4-1ab8-499f-a405-79590f7f4566"
    },
    {
      "cell_type": "code",
      "execution_count": 45,
      "metadata": {},
      "outputs": [],
      "source": [
        "fit_3<-lm(mpg~wt+qsec+am,mtcars)\n",
        "summary(fit_3)"
      ],
      "id": "7e6489d9-ebec-4031-973c-4ece69c8ab06"
    },
    {
      "cell_type": "code",
      "execution_count": 46,
      "metadata": {},
      "outputs": [],
      "source": [
        "fit_4<-lm(mpg~hp+wt+qsec+am,mtcars)\n",
        "summary(fit_4)"
      ],
      "id": "855781e0-4156-4152-a1b1-267dcb1eef33"
    },
    {
      "cell_type": "code",
      "execution_count": 48,
      "metadata": {},
      "outputs": [],
      "source": [
        "fit<-regsubsets(mpg~., data=mtcars, nbest=1,nvmax=9,\n",
        "# method=c(\"exhaustive\"(모든가능한),\"backward\", \"forward\", \"seqrep\")\n",
        "method='backward',\n",
        ")\n",
        "summary(fit)"
      ],
      "id": "36d67640-eeee-4849-9347-299b5c10bb03"
    },
    {
      "cell_type": "markdown",
      "metadata": {},
      "source": [
        "-   10번째부터 시작해서 거꾸로 올라감. 맨처음에 cyl이 빠지고 9개\n",
        "\n",
        "-   그다음 vs가 빠짐\n",
        "\n",
        "-   그다음 carb가 빠짐."
      ],
      "id": "7c48e385-bd28-4011-84ff-f4edfed21b6e"
    },
    {
      "cell_type": "code",
      "execution_count": 60,
      "metadata": {},
      "outputs": [],
      "source": [
        "fit<-regsubsets(mpg~., data=mtcars, nbest=45,nvmax=9,\n",
        "method='exhaustive',\n",
        ")\n",
        "summary(fit)"
      ],
      "id": "f0d39a1d-2bde-4213-a163-380b6c216440"
    },
    {
      "cell_type": "markdown",
      "metadata": {},
      "source": [
        "-   nbest값을 너무 크게 주면 값이 너무 많아져서 에러메시지가뜬다."
      ],
      "id": "bdd79513-9887-4e07-b727-69693b07ccf5"
    },
    {
      "cell_type": "code",
      "execution_count": 61,
      "metadata": {},
      "outputs": [],
      "source": [
        "fit<-regsubsets(mpg~., data=mtcars, nbest=45,nvmax=9,\n",
        "method='exhaustive', really.big=T\n",
        ")\n",
        "summary(fit)"
      ],
      "id": "49818a1d-2973-4932-ace7-35c5e83d997a"
    },
    {
      "cell_type": "code",
      "execution_count": 63,
      "metadata": {},
      "outputs": [],
      "source": [
        "fit<-regsubsets(mpg~., data=mtcars, nbest=1,\n",
        "method='backward',\n",
        ")\n",
        "summary(fit)\n",
        "with(summary(fit),\n",
        "     round(cbind(which,rss,rsq,adjr2,cp,bic),3))"
      ],
      "id": "f4bf1b28-0ab8-4170-83ff-a232f143d462"
    },
    {
      "cell_type": "code",
      "execution_count": 64,
      "metadata": {},
      "outputs": [],
      "source": [
        "fit<-regsubsets(mpg~., data=mtcars, nbest=1,\n",
        "method='forward',\n",
        ")\n",
        "summary(fit)\n",
        "with(summary(fit),\n",
        "     round(cbind(which,rss,rsq,adjr2,cp,bic),3))"
      ],
      "id": "3d056af1-36be-491a-ba7c-49c12cd2bc4b"
    }
  ],
  "nbformat": 4,
  "nbformat_minor": 5,
  "metadata": {
    "kernelspec": {
      "name": "ir",
      "display_name": "R",
      "language": "R"
    },
    "language_info": {
      "name": "R",
      "codemirror_mode": "r",
      "file_extension": ".r",
      "mimetype": "text/x-r-source",
      "pygments_lexer": "r",
      "version": "4.2.2"
    }
  }
}