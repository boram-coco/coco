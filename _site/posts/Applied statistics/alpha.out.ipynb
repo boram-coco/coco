{
  "cells": [
    {
      "cell_type": "markdown",
      "metadata": {},
      "source": [
        "# alpha\n",
        "\n",
        "김보람  \n",
        "2023-04-04\n",
        "\n",
        "# 유의수준 $\\alpha$\n",
        "\n",
        ": 제 1종 오류를 범할 확률\n",
        "\n",
        "즉, $H_0$가 참임에도 $H_0$를 기각할 확률\n",
        "\n",
        "`1` 귀무가설 $H_0$와 대립가설 $H_1$를 설정\n",
        "\n",
        "`2` 검정통계랑 구하기\n",
        "\n",
        "`3` 검정통계량의 기각역 구하기\n",
        "\n",
        "`4` 검정통계량 값이 기각역에 있으면 귀무가설을 기각\n",
        "\n",
        "## F검정\n",
        "\n",
        "임곘값: 주어진 유의수준을 검정통계량의 값으로 환산한 값\n",
        "\n",
        "F검정시 R에서 쓰는 코드\n",
        "\n",
        "``` r\n",
        "qf(100(1-𝛼),df1,df2)\n",
        "```\n",
        "\n",
        "검정통계량 $F_0$\n",
        "\n",
        "$F_0 > F_𝛼$ 이면 귀무가설을 기각\n",
        "\n",
        "만약 df=1, 8, 𝛼=0.05이면"
      ],
      "id": "ec34103d-6eda-44b8-8620-78bbba4a57a0"
    },
    {
      "cell_type": "code",
      "execution_count": 4,
      "metadata": {},
      "outputs": [],
      "source": [
        "qf(0.05,1,8)"
      ],
      "id": "3e7a5045-6833-4361-a2f3-b66cb2a2e794"
    },
    {
      "cell_type": "code",
      "execution_count": 5,
      "metadata": {},
      "outputs": [],
      "source": [
        "qf(0.95,1,8)"
      ],
      "id": "67c26315-99c4-4d2d-801e-4c1c5e6a20a2"
    },
    {
      "cell_type": "markdown",
      "metadata": {},
      "source": [
        "-   오시 pf라는것도 있는데..\n",
        "\n",
        "## T검정\n",
        "\n",
        "t검정시 R에서 쓰는 코드\n",
        "\n",
        "``` r\n",
        "qt(𝛼,df)\n",
        "```\n",
        "\n",
        "t분포에서는 $𝛼/2$를 해줘야 한다.\n",
        "\n",
        "검정통계량 $t_0$\n",
        "\n",
        "$t_0 > t_{𝛼/2}$ 이면 귀무가설을 기각\n",
        "\n",
        "만약 df=8, 𝛼=0.05이면, t분포는 𝛼/2=0.025"
      ],
      "id": "92bc49e2-8a0c-4d6a-82d6-78e8201c1d72"
    },
    {
      "cell_type": "code",
      "execution_count": 1,
      "metadata": {},
      "outputs": [],
      "source": [
        "qt(0.975,8)"
      ],
      "id": "2bc66bbd-062f-4380-aee6-421adbd63561"
    },
    {
      "cell_type": "code",
      "execution_count": 2,
      "metadata": {},
      "outputs": [],
      "source": [
        "qt(0.025,8)"
      ],
      "id": "7870e3d6-af60-4e2e-b96a-c1b795c924b4"
    },
    {
      "cell_type": "markdown",
      "metadata": {},
      "source": [
        "## DW test\n",
        "\n",
        "잔차의 독립성 검정을 위한 test\n",
        "\n",
        "$H_0$:독립이다. $H_1$: not $H_0$\n",
        "\n",
        "DW값이 2에 가까울수록 양의 상관관계, 4에 가까울수록 음의 상관관계, 2를\n",
        "기준으로 2이면 보류\n",
        "\n",
        "p-value의 값이 유의수준(𝛼) 보다 크다면 귀무가설을 기각할 수 없음. 즉\n",
        "독립\n",
        "\n",
        "pvalue \\> 𝛼 이면 귀무가설을 채택한다.\n",
        "\n",
        "## shapiro test\n",
        "\n",
        "정규성을 검증\n",
        "\n",
        "$H_0$:정규분포이다. $H_1$: not $H_0$\n",
        "\n",
        "pvalue \\> 𝛼 이면 귀무가설을 채택한다."
      ],
      "id": "5c36d83d-1702-4325-b7b3-8589f97599c9"
    }
  ],
  "nbformat": 4,
  "nbformat_minor": 5,
  "metadata": {
    "kernelspec": {
      "name": "ir",
      "display_name": "R",
      "language": "R"
    },
    "language_info": {
      "name": "R",
      "codemirror_mode": "r",
      "file_extension": ".r",
      "mimetype": "text/x-r-source",
      "pygments_lexer": "r",
      "version": "4.2.2"
    }
  }
}