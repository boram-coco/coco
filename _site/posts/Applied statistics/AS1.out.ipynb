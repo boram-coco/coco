{
  "cells": [
    {
      "cell_type": "markdown",
      "metadata": {},
      "source": [
        "# AS HW1\n",
        "\n",
        "김보람  \n",
        "2023-03-29\n",
        "\n",
        "# 1번\n",
        "\n",
        "원점을 지나는 회귀모형은 다음과 같이 정의할 수 있다.\n",
        "\n",
        "$$y_i = β_1x_i + ϵ_i,  ϵ_i ∼_{i.i.d.} N(0, σ^2), i = 1, \\dots , n$$\n",
        "\n",
        "## (1)\n",
        "\n",
        "오차제곱합을 정의하고 $β_1$의 최소제곱추정량 $(\\hatβ_1)$을 구하여라.\n",
        "\n",
        "$S=\\sum_{i=1}^n \\epsilon^2 = \\sum_{i=1}^n (y_i-\\beta_1 x_i)^2 = \\sum(y_i^2 + \\beta_1^2 x_i^2 -2 \\beta_1 x_i y_i)$\n",
        "\n",
        "$\\widehat \\beta_1 = argmin \\sum_{i=1}^n(y_i - \\beta_1 x_i)^2$\n",
        "\n",
        "$\\dfrac{\\partial S}{\\partial \\beta_1}= -2 \\sum_{i=1}^n x_i(y_i-\\beta_1 x_i)$\n",
        "\n",
        "= $\\sum x_iy_i - \\beta_1 \\sum x_i^2 = 0$\n",
        "\n",
        "$\\therefore \\widehat \\beta_1 = \\dfrac{\\sum_{i=1}^n x_i y_i}{\\sum_{i=1}^n x_i^2}$\n",
        "\n",
        "## (2)\n",
        "\n",
        "$E(\\hatβ_1)$을 구하여라.\n",
        "\n",
        "$a_i = \\dfrac{x_i}{\\sum_{i=1}^n x_i^2}$라고 놓자.\n",
        "\n",
        "즉, $\\widehat \\beta_1 = \\sum_{i=1}^n a_i y_i$\n",
        "\n",
        "$E(\\widehat \\beta_1)= E(\\sum_{i=1}^n a_i y_i) = \\sum_{i=1}^n a_i E(y_i)=\\sum_{i=1}^n a_i E(\\beta_1 x_i + \\epsilon_i)=\\sum_{i=1}^n a_i \\beta_1 x_i = \\dfrac{\\sum_{i=1}^n x_i^2}{\\sum_{i=1}^n x_i^2} \\beta_1 = \\beta_1$\n",
        "\n",
        "$E(\\hatβ_1)=\\beta_1$이므로 불편추정량\n",
        "\n",
        "## (3)\n",
        "\n",
        "$Var(\\hatβ_1)$을 구하여라.\n",
        "\n",
        "$Var(\\widehat \\beta_1)= Var(\\sum_{i=1}^n a_i y_i) = \\sum_{i=1}^n a_i^2 Var(y_i)=\\dfrac{\\sigma^2}{\\sum_{i=1}^n x_i^2}$\n",
        "\n",
        "$\\because Var(y_i) = \\sigma^2$\n",
        "\n",
        "## (4)\n",
        "\n",
        "제곱합에 대한 분산분석표를 작성하여라.\n",
        "\n",
        "| 요인 | 제곱합(SS) | 자유도(df) |      평균제곱(MS)      |       $F_0$        |    유의확률     |\n",
        "|:----:|:--------:|:--------:|:-----------------:|:--------------:|:------------:|\n",
        "| 회귀 |   $SSR$    |     1      |  $MSR=\\dfrac{SSR}{1}$  | $\\dfrac{MSR}{MSE}$ | $P(F \\geq F_0)$ |\n",
        "| 잔차 |   $SSE$    |   $n-1$    | $MSE=\\dfrac{SSE}{n-1}$ |                    |                 |\n",
        "|  계  |   $SST$    |    $n$     |                        |                    |                 |\n",
        "\n",
        "$SSR=\\sum_{i=1}^n (\\widehat y_i)^2 = \\sum (\\widehat \\beta_1 x_i)^2 = \\widehat \\beta_1^2 \\sum x_i^2$\n",
        "\n",
        "$SSE=\\sum_{i=1}^n(y_i - \\widehat y)^2 = \\sum(y_i - \\widehat \\beta_1 x_i)^2 = \\sum y_i^2 - SSR$\n",
        "\n",
        "$SST=SSE+SSR=\\sum y_i^2$\n",
        "\n",
        "절편이 없는 모형은 평균이 0인 느낌\n",
        "\n",
        "$R^2=\\dfrac{\\sum \\widehat y_i^2}{\\sum y_i^2}$\n",
        "\n",
        "## (5)\n",
        "\n",
        "회귀모형의 유의성 검정을 하기 위한 가설을 설정하고, 검정통계량을\n",
        "제시하여라.\n",
        "\n",
        "-   가설 $H_0: \\beta_1 = 0 \\ vs \\ H_1:\\beta_1 \\neq 0$\n",
        "\n",
        "-   검정통계량\n",
        "    $F=\\dfrac{MSR}{MSE}=\\dfrac{SSR/1}{SSE/(n-1)} \\sim_{H_0} F(1,n-1)$\n",
        "\n",
        "## (6)\n",
        "\n",
        "위의 가설에 대해, 유의수준 $α$에서 검정하는 방법을 기술하여라.\n",
        "\n",
        "$F_0 > F_\\alpha(1,n-1)$이면 귀무가설을 기각(유의함)하고 그 외는\n",
        "귀무가설을 채택\n",
        "\n",
        "혹은,\n",
        "\n",
        "유의확률 = $P(F>F_0) < \\alpha \\to H_0$기각\n",
        "\n",
        "유의확률 = $P(F>F_0) > \\alpha \\to H_0$기각못함\n",
        "\n",
        "## (7)\n",
        "\n",
        "다음의 가설에 대한 검정통계량을 제시하고, 유의수준 $α$에서 가설 검정하는\n",
        "방법을 기술하여라.\n",
        "\n",
        "$$H_0 : β_1 = 0        \\  vs   \\      H_1 : β_1 > 0$$\n",
        "\n",
        "검정통계량\n",
        "$T=\\dfrac{\\widehat \\beta_1 - 0}{\\widehat{s.e}(\\widehat \\beta_1)} \\sim_{H_0} t(n-1)$\n",
        "\n",
        "$s.e(\\widehat \\beta_1)=\\sqrt{Var(\\widehat \\beta_1)} = \\dfrac{\\sigma}{\\sqrt{\\sum x_i^2}}$\n",
        "\n",
        "$\\widehat{s.e}(\\widehat \\beta_1)= \\sqrt{\\dfrac{\\hat {\\sigma^2}}{\\sum x_i^2}}, {\\hat \\sigma^2}=MSE$\n",
        "\\$\n",
        "\n",
        "유의확률 = $P(T > t_0) < \\alpha \\to H_0$기각\n",
        "\n",
        "혹은\n",
        "\n",
        "$t_0>t_{\\alpha}(n-1) \\to H_0$ 기각\n",
        "\n",
        "$t_0<t_{\\alpha}(n-1) \\to H_0$ 기각 못함\n",
        "\n",
        "# 2번\n",
        "\n",
        "‘cars.csv’ 데이터를 이용하여 회귀모형을 적합하려고 한다.\n",
        "\n",
        "이는 자동차의 속도(mph)에 따른 제동거리(ft)를 조사한 데이터이다.\n",
        "\n",
        "다음 물음에 답하여라. (R을 이용하여 풀이)(검정에서는 유의수준 $α = 0.05$\n",
        "사용)"
      ],
      "id": "22d5006b-d6f2-475f-a262-8e0c1bfde742"
    },
    {
      "cell_type": "code",
      "execution_count": 3,
      "metadata": {},
      "outputs": [
        {
          "output_type": "stream",
          "name": "stderr",
          "text": [
            "── Attaching packages ─────────────────────────────────────── tidyverse 1.3.1 ──\n",
            "\n",
            "✔ ggplot2 3.4.1     ✔ purrr   1.0.1\n",
            "✔ tibble  3.2.0     ✔ dplyr   1.1.0\n",
            "✔ tidyr   1.3.0     ✔ stringr 1.5.0\n",
            "✔ readr   2.1.4     ✔ forcats 1.0.0\n",
            "\n",
            "── Conflicts ────────────────────────────────────────── tidyverse_conflicts() ──\n",
            "✖ dplyr::filter() masks stats::filter()\n",
            "✖ dplyr::lag()    masks stats::lag()\n"
          ]
        }
      ],
      "source": [
        "library(tidyverse)"
      ],
      "id": "e1258777-7c6e-4cb5-b19a-106940ed6b2f"
    },
    {
      "cell_type": "code",
      "execution_count": 4,
      "metadata": {},
      "outputs": [],
      "source": [
        "read_csv('cars')"
      ],
      "id": "fd9b6585-c1e2-4674-ae60-cd9bf6f0ca06"
    },
    {
      "cell_type": "markdown",
      "metadata": {},
      "source": [
        "## (1) 산점도\n",
        "\n",
        "이 데이터의 산점도를 그리고 두 변수 사이의 관계를 설명하시오."
      ],
      "id": "0e636466-a0e3-4b83-a9bb-032b1fa6f72a"
    },
    {
      "cell_type": "code",
      "execution_count": 40,
      "metadata": {},
      "outputs": [
        {
          "output_type": "display_data",
          "metadata": {},
          "data": {
            "image/png": "[encoded data removed]"
          }
        }
      ],
      "source": [
        "plot(dist~speed,\n",
        "     data=cars,\n",
        "     xlab=\"speed\",\n",
        "     ylab=\"dist\",\n",
        "     pch=16,\n",
        "     cex=2,\n",
        "     col=\"darkorange\")"
      ],
      "id": "ab3d7a29-57f3-47fa-ad9e-de61235f4f8a"
    },
    {
      "cell_type": "markdown",
      "metadata": {},
      "source": [
        "-   두 변수 사이에 선형관계가 있어 보인다.\n",
        "\n",
        "## (2) 회귀직선\n",
        "\n",
        "최소제곱법의 의한 회귀직선을 적합시키시키고, 모형 적합 결과를\n",
        "설명하시오."
      ],
      "id": "dc66261e-e987-4151-a8a6-650f9c854efe"
    },
    {
      "cell_type": "code",
      "execution_count": 97,
      "metadata": {},
      "outputs": [],
      "source": [
        "dt <- data.frame(\n",
        "  i = 1:nrow(cars),\n",
        "  x = cars$speed,\n",
        "  y = cars$dist,\n",
        "  x_barx = cars$speed - mean(cars$speed),\n",
        "  y_bary = cars$dist - mean(cars$dist)) \n",
        "dt\n"
      ],
      "id": "62db8b7e-d184-45d9-805a-803a380a5957"
    },
    {
      "cell_type": "code",
      "execution_count": 98,
      "metadata": {},
      "outputs": [],
      "source": [
        "dt$x_barx2 <- dt$x_barx^2\n",
        "dt$y_bary2 <- dt$y_bary^2\n",
        "dt$x_barxy_bary <-dt$x_barx * dt$y_bary\n",
        "dt"
      ],
      "id": "feb92f35-fe7d-44ac-8f50-da19f1263fba"
    },
    {
      "cell_type": "code",
      "execution_count": 100,
      "metadata": {},
      "outputs": [],
      "source": [
        "colSums(dt)"
      ],
      "id": "27b827ce-50bc-40a9-a4c3-6faf22050ec3"
    },
    {
      "cell_type": "markdown",
      "metadata": {},
      "source": [
        "$\\beta_1 = \\dfrac{S_{xy}}{S_{xx}}$\n",
        "\n",
        "$\\beta_0 = \\bar y - \\beta_1 \\bar x$"
      ],
      "id": "641e18fb-2979-47bc-a791-df00fc4bbd9e"
    },
    {
      "cell_type": "code",
      "execution_count": 102,
      "metadata": {},
      "outputs": [],
      "source": [
        "beta1 <- as.numeric(colSums(dt)[8]/colSums(dt)[6])\n",
        "beta0 <- mean(cars$dist) - beta1 * mean(cars$speed)\n",
        "beta1\n",
        "beta0"
      ],
      "id": "d29f6a8f-5175-4a1a-b4ec-fe564bee9550"
    },
    {
      "cell_type": "code",
      "execution_count": 41,
      "metadata": {},
      "outputs": [],
      "source": [
        "model <- lm(dist~speed, cars)\n",
        "model"
      ],
      "id": "781a127f-9cba-426c-a022-46d3c1993a0d"
    },
    {
      "cell_type": "code",
      "execution_count": 42,
      "metadata": {},
      "outputs": [],
      "source": [
        "summary(model)"
      ],
      "id": "9ce315bb-76e4-4162-9c2d-60660edd932d"
    },
    {
      "cell_type": "markdown",
      "metadata": {},
      "source": [
        "-   p-value의 값이 1.49$e^{-12}$로 0.05보다 작아 유의하다.\n",
        "\n",
        "-   F검정은 89.57\n",
        "\n",
        "-   $\\mathbb{R^2}$는 0.6511\n",
        "\n",
        "-   $\\beta_0, \\beta_1$의 p-value값은 유의하다.\n",
        "\n",
        "## (3) 산점도 위에 회귀직선\n",
        "\n",
        "데이터의 산점도를 그리고 추정한 회귀직선을 (1)에서 그린 산점도 위에\n",
        "그리시오."
      ],
      "id": "42f8877a-6682-4d75-a62d-144a7b1c53cf"
    },
    {
      "cell_type": "code",
      "execution_count": 103,
      "metadata": {},
      "outputs": [
        {
          "output_type": "display_data",
          "metadata": {},
          "data": {
            "image/png": "[encoded data removed]"
          }
        }
      ],
      "source": [
        "plot(dist~speed,\n",
        "     data=cars,\n",
        "     xlab=\"speed\",\n",
        "     ylab=\"dist\",\n",
        "     pch=16,\n",
        "     cex=2,\n",
        "     col=\"darkorange\")\n",
        "abline(model, col='steelblue', lwd=2)"
      ],
      "id": "d483533f-e885-417a-b515-33bb946cc0a0"
    },
    {
      "cell_type": "markdown",
      "metadata": {},
      "source": [
        "## (4) 분산분석\n",
        "\n",
        "분산분석표를 작성하고 회귀직선의 유의 여부를 검정하시오."
      ],
      "id": "91c48ff9-ce13-4fb8-965f-cb79b54eb986"
    },
    {
      "cell_type": "code",
      "execution_count": 44,
      "metadata": {},
      "outputs": [],
      "source": [
        "anova(model)"
      ],
      "id": "984619ba-6cb9-4609-bebe-39ba8c54d26e"
    },
    {
      "cell_type": "markdown",
      "metadata": {},
      "source": [
        "-   가정: $H_0: \\beta_1 = 0$ vs $H_1: \\beta_1 \\neq 0$"
      ],
      "id": "bf1c7ab7-f67d-4eda-a5e2-a9e88b56b56a"
    },
    {
      "cell_type": "code",
      "execution_count": 45,
      "metadata": {},
      "outputs": [],
      "source": [
        "qf(0.95,1,48)"
      ],
      "id": "fe921d88-e8af-4004-b585-e71a0177968b"
    },
    {
      "cell_type": "markdown",
      "metadata": {},
      "source": [
        "-   $F_0 > F_{0.05}(0.95,1,48) = 4.04$ 이므로 귀무가설을 기각할 수 잇다.\n",
        "    즉 회귀직선이 유의하다.\n",
        "\n",
        "## (5) 결정계수, 상관계수\n",
        "\n",
        "결정계수와 상관계수를 구하고 이 둘의 관계를 설명하시오.\n",
        "\n",
        "$\\mathbb{R^2} = \\dfrac{SSR}{SST} = \\dfrac{21185.46}{32538.98} = 0.651079413060889$\n",
        "\n",
        "`-` 결정계수 직접계산"
      ],
      "id": "a624fda6-b299-4fd1-b5e0-79797f038eed"
    },
    {
      "cell_type": "code",
      "execution_count": 104,
      "metadata": {},
      "outputs": [],
      "source": [
        "SST = sum((dt$y- mean(dt$y))^2)\n",
        "SSR = sum(((-17.57909 + 3.932409*dt$x)-mean(dt$y))^2)"
      ],
      "id": "a5af3c2b-55d6-478e-8e68-6fd90cf6d17b"
    },
    {
      "cell_type": "code",
      "execution_count": 106,
      "metadata": {},
      "outputs": [],
      "source": [
        "SST\n",
        "SSR"
      ],
      "id": "225c18dc-b13e-4052-8121-f3bd6853fad2"
    },
    {
      "cell_type": "code",
      "execution_count": 107,
      "metadata": {},
      "outputs": [],
      "source": [
        "R2=SSR/SST\n",
        "R2"
      ],
      "id": "a58316a0-7601-49d1-bd56-463c2338a199"
    },
    {
      "cell_type": "markdown",
      "metadata": {},
      "source": [
        "`-` 결정계수 코드"
      ],
      "id": "c32a6cec-bb7a-4cf2-9141-7c094c55b6c7"
    },
    {
      "cell_type": "code",
      "execution_count": 69,
      "metadata": {},
      "outputs": [],
      "source": [
        "summary(model)$r.squared"
      ],
      "id": "de9f11ee-89fb-481a-9aad-6d66b0793021"
    },
    {
      "cell_type": "markdown",
      "metadata": {},
      "source": [
        "$r_{xy} = \\dfrac{S_{xy}}{\\sqrt{S{(xx)}S{(yy)}}}$"
      ],
      "id": "1c8c24f6-3940-45e5-8572-da5e37a26df4"
    },
    {
      "cell_type": "code",
      "execution_count": 108,
      "metadata": {},
      "outputs": [],
      "source": [
        "Sxy <- sum((dt$x - mean(dt$x))*(dt$y - mean(dt$y)))\n",
        "Sxx <- sum((dt$x - mean(dt$x))^2)\n",
        "Syy <- sum((dt$y - mean(dt$y))^2)"
      ],
      "id": "a80ad795-bcf0-4c12-ae7c-94db8327d908"
    },
    {
      "cell_type": "code",
      "execution_count": 109,
      "metadata": {},
      "outputs": [],
      "source": [
        "rxy<-Sxy/sqrt(Sxx*Syy)"
      ],
      "id": "e62898be-1df2-483a-a0e4-06cd5061264a"
    },
    {
      "cell_type": "code",
      "execution_count": 110,
      "metadata": {},
      "outputs": [],
      "source": [
        "rxy**2"
      ],
      "id": "4a64a749-1775-4e2a-b1e9-ed34e814504f"
    },
    {
      "cell_type": "markdown",
      "metadata": {},
      "source": [
        "단순선형회귀모형에서는 표본상관계수와 결정계수가 같다.\n",
        "\n",
        "$\\mathbb{R^2} = r_{xy}^2$\n",
        "\n",
        "## (6) 개별 회귀계수 유의성검정\n",
        "\n",
        "$β_0, β_1$에 대한 개별 회귀계수의 유의성검정을 수행하시오.\n",
        "\n",
        "가설 $H_0: \\beta_1 = 0$ vs $H_1: not H_0$\n",
        "\n",
        "`-` 직접구현"
      ],
      "id": "f7273674-55f8-441d-9740-e7e13d1795db"
    },
    {
      "cell_type": "code",
      "execution_count": 112,
      "metadata": {},
      "outputs": [],
      "source": [
        "SSE=SST-SSR\n",
        "MSE=SSE/48"
      ],
      "id": "5359c0ff-f477-44a4-a49e-7412b9bd9cf8"
    },
    {
      "cell_type": "code",
      "execution_count": 113,
      "metadata": {},
      "outputs": [],
      "source": [
        "tvalue1 = beta1/(sqrt((MSE/sum((dt$x-mean(dt$x))^2))))\n",
        "tvalue1"
      ],
      "id": "d90929de-ce5b-46ac-be9c-d885d19e1132"
    },
    {
      "cell_type": "code",
      "execution_count": 114,
      "metadata": {},
      "outputs": [],
      "source": [
        "tvalue0 = beta0/(sqrt((MSE*((1/48)+((mean(dt$x))^2/sum((dt$x-mean(dt$x))^2))))))\n",
        "tvalue0\n"
      ],
      "id": "d7e4affa-32db-4fe2-bd51-a15c83f54dcd"
    },
    {
      "cell_type": "markdown",
      "metadata": {},
      "source": [
        "`-` 코드구현"
      ],
      "id": "6e8ac720-b736-4100-b7ea-b72033445fbc"
    },
    {
      "cell_type": "code",
      "execution_count": 115,
      "metadata": {},
      "outputs": [],
      "source": [
        "summary(model)$coef"
      ],
      "id": "490ad9f7-d322-4c1c-8286-36a6d2b9adda"
    },
    {
      "cell_type": "markdown",
      "metadata": {},
      "source": [
        "`-` 결과"
      ],
      "id": "30a1279a-1d37-4f09-aea3-c64ba79e8091"
    },
    {
      "cell_type": "code",
      "execution_count": 50,
      "metadata": {},
      "outputs": [],
      "source": [
        "qt(0.975,48)"
      ],
      "id": "a6b0f427-cabf-4e25-a336-77a8aceacfd7"
    },
    {
      "cell_type": "code",
      "execution_count": 117,
      "metadata": {},
      "outputs": [],
      "source": [
        "qt(0.025,48)"
      ],
      "id": "67a6c83a-befb-4835-ad13-e3536ac977e5"
    },
    {
      "cell_type": "markdown",
      "metadata": {},
      "source": [
        "-   $\\beta_0$에 대한 $t-vlaue$값이 $-2.601058$\n",
        "\n",
        "-   $\\beta_1$에 대한 $t-vlaue$값이 $9.463990$\n",
        "\n",
        "-   $\\beta_0, \\beta_1$의 t-value는 유의수준 $\\alpha=0.05$에서의\n",
        "    $tvalue=-2.011$보다 크기 때문에 유의하다. 즉 귀무가설을 기각한다.\n",
        "    $\\beta_0, \\beta_1$은 모두 0이 아니다.\n",
        "\n",
        "## (7) 개별 회귀계수 신뢰구간\n",
        "\n",
        "$β_0, β_1$에 대한 90% 신뢰구간을 구하시오.\n",
        "\n",
        "$$\\widehat \\beta_0 \\pm t_{\\alpha/2}(n-2) \\widehat \\sigma \\sqrt{\\dfrac{1}{n}+\\dfrac{\\bar x^2}{S_{xx}}}$$\n",
        "\n",
        "$$\\widehat \\beta_1 \\pm t_{\\alpha/2}(n-2) \\dfrac{\\widehat \\sigma}{\\sqrt{S_{xx}}}$$\n",
        "\n",
        "-   함수사용"
      ],
      "id": "7c049782-9359-4c8a-9cdc-39941c890f21"
    },
    {
      "cell_type": "code",
      "execution_count": 53,
      "metadata": {},
      "outputs": [],
      "source": [
        "confint(model, level=0.9)"
      ],
      "id": "0dfd5ae0-bab8-47f7-b68d-ac9dac77b429"
    },
    {
      "cell_type": "markdown",
      "metadata": {},
      "source": [
        "-   직접계산"
      ],
      "id": "af08b6df-cfe4-4faf-909e-7056f0ab08d1"
    },
    {
      "cell_type": "code",
      "execution_count": 54,
      "metadata": {},
      "outputs": [],
      "source": [
        "coef(model) + qt(0.95, 48) * summary(model)$coef[,2]"
      ],
      "id": "8bae771e-60ce-4e48-b0fd-245bb2b046a8"
    },
    {
      "cell_type": "code",
      "execution_count": 55,
      "metadata": {},
      "outputs": [],
      "source": [
        "coef(model) - qt(0.95, 48) * summary(model)$coef[,2]"
      ],
      "id": "11cb4876-78e6-4c55-baba-c95428c5abb2"
    },
    {
      "cell_type": "markdown",
      "metadata": {},
      "source": [
        "## (8) 평균반응, 신뢰구간\n",
        "\n",
        "속도가 18.5mph 인 차량의 평균 제동거리를 예측하고, 95% 신뢰구간을\n",
        "구하시오.\n",
        "\n",
        "개별 speed = 18,5"
      ],
      "id": "6de73343-657c-4a05-b3e2-b7b319b21fdd"
    },
    {
      "cell_type": "code",
      "execution_count": 125,
      "metadata": {},
      "outputs": [],
      "source": [
        "new_speed <- data.frame(speed=18.5)"
      ],
      "id": "53b3f080-6a40-48e2-bd35-014a4eb94f95"
    },
    {
      "cell_type": "markdown",
      "metadata": {},
      "source": [
        "`-` 코드"
      ],
      "id": "300be936-ca58-4f51-b01e-43ea938ae6c3"
    },
    {
      "cell_type": "code",
      "execution_count": 126,
      "metadata": {},
      "outputs": [],
      "source": [
        "model$coefficients[1] + model$coefficients[2]*18.5"
      ],
      "id": "9bc53c9d-82af-4356-b18f-10853a6e9b17"
    },
    {
      "cell_type": "code",
      "execution_count": 122,
      "metadata": {},
      "outputs": [],
      "source": [
        "predict(model, \n",
        "        newdata = new_speed,\n",
        "        interval = c(\"confidence\"),  #구간추정\n",
        "        level = 0.95)  ##평균반응"
      ],
      "id": "f5da7cf9-245c-43db-b539-0fa5b39a41c7"
    },
    {
      "cell_type": "markdown",
      "metadata": {},
      "source": [
        "`-` 직접계산\n",
        "\n",
        "`-` 평균반응 추정량\n",
        "\n",
        "$$\\widehat \\mu_0 = \\widehat \\beta_0 + \\widehat \\beta_1 x_0$$"
      ],
      "id": "00795ed0-6868-4495-b1fb-eccc05507dd4"
    },
    {
      "cell_type": "code",
      "execution_count": 127,
      "metadata": {},
      "outputs": [],
      "source": [
        "mu0 = beta0+beta1*18.5\n",
        "mu0\n"
      ],
      "id": "71f853a3-dd2c-42e1-bb33-4afc0330475e"
    },
    {
      "cell_type": "markdown",
      "metadata": {},
      "source": [
        "$$Var(\\widehat\\mu_0))=\\sigma^2(\\dfrac{1}{n} + \\dfrac{(x_0 - \\bar x)^2}{S_{xx}})$$"
      ],
      "id": "688bcbfe-d8a8-4385-a9af-ab713150ee45"
    },
    {
      "cell_type": "code",
      "execution_count": 131,
      "metadata": {},
      "outputs": [],
      "source": [
        "varmu=((MSE*((1/48)+((18.5-mean(dt$x))^2/sum((dt$x-mean(dt$x))^2)))))\n",
        "semu=sqrt(varmu)"
      ],
      "id": "3593f039-25de-4b77-a36c-3eb67194ae69"
    },
    {
      "cell_type": "code",
      "execution_count": 132,
      "metadata": {},
      "outputs": [],
      "source": [
        "semu"
      ],
      "id": "ed90ca9e-7d4a-41fe-8de7-5adf91c3a137"
    },
    {
      "cell_type": "code",
      "execution_count": 133,
      "metadata": {},
      "outputs": [],
      "source": [
        "mu0+qt(0.975,48)*semu    "
      ],
      "id": "a65b6df1-a714-47b3-9fde-40ed29092363"
    },
    {
      "cell_type": "code",
      "execution_count": 134,
      "metadata": {},
      "outputs": [],
      "source": [
        "mu0-qt(0.975,48)*semu          \n"
      ],
      "id": "d16e27ef-aab1-47ec-be29-c91d89cd8f2d"
    },
    {
      "cell_type": "markdown",
      "metadata": {},
      "source": [
        "## (9) 개별반응, 신뢰구간\n",
        "\n",
        "속도가 18.5mph 인 차량의 개별 제동거리를 예측하고, 95% 신뢰구간을\n",
        "구하시오.\n",
        "\n",
        "`-` 코드"
      ],
      "id": "55aa6a6e-9e2a-41d0-8de7-4c76725a46b4"
    },
    {
      "cell_type": "code",
      "execution_count": 124,
      "metadata": {},
      "outputs": [],
      "source": [
        "predict(model, newdata = new_speed, \n",
        "        interval = c(\"prediction\"),  \n",
        "        level = 0.95)  ## 개별 y"
      ],
      "id": "7ed43c71-1264-4f21-9516-31d1a63862ef"
    },
    {
      "cell_type": "markdown",
      "metadata": {},
      "source": [
        "`-` 직접계산"
      ],
      "id": "53c3df68-08b0-4cc3-90e4-31c5749f6f6e"
    },
    {
      "cell_type": "code",
      "execution_count": 136,
      "metadata": {},
      "outputs": [],
      "source": [
        "vary0=MSE*(1+(1/48)+(18.5-mean(dt$x))^2/sum((dt$x-mean(dt$x))^2))\n",
        "vary0"
      ],
      "id": "7181bbcf-a2ed-4167-be2d-1a63c29c44a9"
    },
    {
      "cell_type": "code",
      "execution_count": 137,
      "metadata": {},
      "outputs": [],
      "source": [
        "sqrt(vary0)"
      ],
      "id": "7fe32f50-f481-4ab6-ab3d-e606942bd58a"
    },
    {
      "cell_type": "code",
      "execution_count": 138,
      "metadata": {},
      "outputs": [],
      "source": [
        "mu0+qt(0.975,48)*sqrt(vary0)"
      ],
      "id": "b75d22a1-a34b-4cc2-93c2-47ffb1e94c01"
    },
    {
      "cell_type": "code",
      "execution_count": 139,
      "metadata": {},
      "outputs": [],
      "source": [
        "mu0-qt(0.975,48)*sqrt(vary0)"
      ],
      "id": "81ff9cec-1129-48f3-802e-b042bd26ad9a"
    },
    {
      "cell_type": "code",
      "execution_count": 168,
      "metadata": {},
      "outputs": [],
      "source": [
        "qt(0.95,8)"
      ],
      "id": "da696739-0e27-484f-ad1e-792d663ff897"
    },
    {
      "cell_type": "markdown",
      "metadata": {},
      "source": [
        "## (10) 원점 지나는 회귀직선\n",
        "\n",
        "원점을 지나는 회귀직선을 구하시오.\n",
        "\n",
        "`-` 코드"
      ],
      "id": "9e5c9ca2-2de3-441b-a78c-0c7e518e45ef"
    },
    {
      "cell_type": "code",
      "execution_count": 62,
      "metadata": {},
      "outputs": [],
      "source": [
        "model2 <- lm(dist ~ 0 + speed, cars)\n",
        "summary(model2)"
      ],
      "id": "6c6d6054-ef4a-4ed1-a395-2dd5f22146c2"
    },
    {
      "cell_type": "markdown",
      "metadata": {},
      "source": [
        "$\\widehat {dist} = 2.9091 \\widehat {speed}$\n",
        "\n",
        "`-` 직접계산"
      ],
      "id": "2c417aa8-823f-4478-8b91-293c636975a2"
    },
    {
      "cell_type": "code",
      "execution_count": 141,
      "metadata": {},
      "outputs": [],
      "source": [
        "beta1_0 <- sum(dt$x * dt$y)/sum((dt$x^2))\n",
        "beta1_0 "
      ],
      "id": "ebc961b9-d65b-42fb-a9f2-f52e64cc86b3"
    },
    {
      "cell_type": "markdown",
      "metadata": {},
      "source": [
        "## (11) 원점 지나는 회귀계수 신뢰구간\n",
        "\n",
        "위 회귀직선에서 회귀계수(기울기)의 90% 신뢰구간을 구하시오.\n",
        "\n",
        "`-`코드"
      ],
      "id": "3a40d2a2-0483-4a09-967e-70a1950ef790"
    },
    {
      "cell_type": "code",
      "execution_count": 70,
      "metadata": {},
      "outputs": [],
      "source": [
        "confint(model2, level=0.9)"
      ],
      "id": "8907b59f-e688-4d34-aff6-99e65bef5a7a"
    },
    {
      "cell_type": "markdown",
      "metadata": {},
      "source": [
        "`-` 직접계산"
      ],
      "id": "70f2b91f-9282-4e6f-b872-9a7f1e4c6afa"
    },
    {
      "cell_type": "code",
      "execution_count": 143,
      "metadata": {},
      "outputs": [],
      "source": [
        "colSums(dt)[6] #Sxx"
      ],
      "id": "38faf349-113a-46c6-bb58-26d1e7c19f8b"
    },
    {
      "cell_type": "code",
      "execution_count": 146,
      "metadata": {},
      "outputs": [],
      "source": [
        "SSR_0 = sum(((2.909132*dt$x))^2 )"
      ],
      "id": "4257973c-a303-46be-98f6-58af9b8edc13"
    },
    {
      "cell_type": "code",
      "execution_count": 147,
      "metadata": {},
      "outputs": [],
      "source": [
        "SSE_0 = sum((dt$y - 2.909132*dt$x)^2)"
      ],
      "id": "3080d888-d294-4748-9354-dfec8b02ba11"
    },
    {
      "cell_type": "code",
      "execution_count": 148,
      "metadata": {},
      "outputs": [],
      "source": [
        "SST_0 = sum(dt$y^2)"
      ],
      "id": "0998d5a2-3760-4fdb-b5ae-0defd3a9eb30"
    },
    {
      "cell_type": "code",
      "execution_count": 149,
      "metadata": {},
      "outputs": [],
      "source": [
        "MSE_0 = SSE_0/49"
      ],
      "id": "45acff7a-5f09-46fe-8f0a-df333b4029d5"
    },
    {
      "cell_type": "code",
      "execution_count": 150,
      "metadata": {},
      "outputs": [],
      "source": [
        "sigma_0 = sqrt(MSE_0)"
      ],
      "id": "9d3d7185-b61d-40f2-933d-2b7f8647971a"
    },
    {
      "cell_type": "code",
      "execution_count": 158,
      "metadata": {},
      "outputs": [],
      "source": [
        "beta1_0 + qt(0.95,49) * sigma_0/sqrt(1370)"
      ],
      "id": "9addd086-8d78-45a2-b5dc-53f3cdb05c4d"
    },
    {
      "cell_type": "code",
      "execution_count": 159,
      "metadata": {},
      "outputs": [],
      "source": [
        "beta1_0 - qt(0.95,49) * sigma_0/sqrt(1370)"
      ],
      "id": "22590aad-22f5-489d-b12d-1b5d7be78f37"
    },
    {
      "cell_type": "code",
      "execution_count": 160,
      "metadata": {},
      "outputs": [],
      "source": [
        " qt(0.95,49)"
      ],
      "id": "212aaefb-e78d-425e-a487-2beb4973bcc8"
    },
    {
      "cell_type": "markdown",
      "metadata": {},
      "source": [
        "## (12) 원점 지난 회귀직선 분산분석\n",
        "\n",
        "원점을 지나는 회귀직선에 대한 분산분석표를 작성하고, 회귀직선의 유의\n",
        "여부를 검정하시오."
      ],
      "id": "08d393da-0b34-4602-a9bc-ce2a7da6358d"
    },
    {
      "cell_type": "code",
      "execution_count": 63,
      "metadata": {},
      "outputs": [],
      "source": [
        "anova(model2)"
      ],
      "id": "a863ce6e-9462-4203-8f3e-7fdbdcd41f63"
    },
    {
      "cell_type": "markdown",
      "metadata": {},
      "source": [
        "-   가정: $H_0: \\beta_1 = 0$ vs $H_1: \\beta_1 \\neq 0$"
      ],
      "id": "8f1c3067-76cd-4dea-8712-0a0fceb0d987"
    },
    {
      "cell_type": "code",
      "execution_count": 71,
      "metadata": {},
      "outputs": [],
      "source": [
        "qf(0.95,1,49)"
      ],
      "id": "2d9e0f55-99d0-46d4-a022-e8c3d548c4ad"
    },
    {
      "cell_type": "markdown",
      "metadata": {},
      "source": [
        "-   $F_0 > F_{0.05}(0.95,1,49) = 4.04$ 이므로 귀무가설을 기각할 수 잇다.\n",
        "    즉 회귀직선이 유의하다.\n",
        "\n",
        "## (13) 원점 지나는 회귀직선 결정계수\n",
        "\n",
        "원점을 지나는 회귀직선의 결정계수를 구하시오.\n",
        "\n",
        "`-` 코드"
      ],
      "id": "6112e91c-1fe0-40e2-944e-2e0482ae21f3"
    },
    {
      "cell_type": "code",
      "execution_count": 64,
      "metadata": {},
      "outputs": [],
      "source": [
        "summary(model2)$r.squared"
      ],
      "id": "0707d206-7177-40d1-b685-37d9e2207ba4"
    },
    {
      "cell_type": "markdown",
      "metadata": {},
      "source": [
        "`-` 직접계산"
      ],
      "id": "ae528144-07a9-433e-9bc5-7ab67a9cc342"
    },
    {
      "cell_type": "code",
      "execution_count": 161,
      "metadata": {},
      "outputs": [],
      "source": [
        "SSR_0/SST_0\n"
      ],
      "id": "f740bb88-2ec8-4a6c-8143-aaf2d911c6de"
    },
    {
      "cell_type": "markdown",
      "metadata": {},
      "source": [
        "## (14) 회귀직선 결과 비교\n",
        "\n",
        "원점을 포함한 회귀직선과 포함하지 않은 회귀직선의 결과를 비교하여라."
      ],
      "id": "02747f04-401d-4239-be2d-4a0af2a99f52"
    },
    {
      "cell_type": "code",
      "execution_count": 66,
      "metadata": {},
      "outputs": [],
      "source": [
        "summary(model)$r.squared\n",
        "summary(model2)$r.squared"
      ],
      "id": "206caa97-828e-4bf7-93b6-9c05051af394"
    },
    {
      "cell_type": "markdown",
      "metadata": {},
      "source": [
        "원점을 포함한 회귀직선의 R스퀘어값이 더 크므로 model2가 더 좋은 것 같다.\n",
        "\n",
        "## (15) 잔차 산점도\n",
        "\n",
        "잔차에 대한 산점도를 그리고, 결과를 설명하여라."
      ],
      "id": "d9c65e99-f6e0-4267-886d-bfea718e2f88"
    },
    {
      "cell_type": "code",
      "execution_count": 84,
      "metadata": {},
      "outputs": [],
      "source": [
        "cars$disthat <- model$fitted\n",
        "cars$resid <- model$residuals"
      ],
      "id": "bab53863-a7b3-4d04-9f46-0c9766b9cdd9"
    },
    {
      "cell_type": "code",
      "execution_count": 85,
      "metadata": {},
      "outputs": [
        {
          "output_type": "display_data",
          "metadata": {},
          "data": {
            "image/png": "[encoded data removed]"
          }
        }
      ],
      "source": [
        "par(mfrow=c(1,2))\n",
        "plot(resid ~ speed, cars, pch=16, ylab = 'Residual')\n",
        "abline(h=0, lty=2, col='grey')\n",
        "plot(resid ~ disthat, cars, pch=16, ylab = 'Residual')\n",
        "abline(h=0, lty=2, col='grey')"
      ],
      "id": "51a65829-3303-41b0-9fd1-ecff06cca3c7"
    },
    {
      "cell_type": "markdown",
      "metadata": {},
      "source": [
        "## (16) 잔차 등분산성 검정\n",
        "\n",
        "잔차에 대한 등분산성 검정을 수행하시오.\n",
        "\n",
        "가설:"
      ],
      "id": "0e780130-0ead-4de1-920b-ed516ba20ece"
    },
    {
      "cell_type": "code",
      "execution_count": 164,
      "metadata": {},
      "outputs": [],
      "source": [
        "bptest(model)"
      ],
      "id": "8cf12437-2525-4f7c-8ad1-c78bf799b387"
    },
    {
      "cell_type": "markdown",
      "metadata": {},
      "source": [
        "## (17) 잔차 정규성 검정\n",
        "\n",
        "잔차에 대한 히스토그램, QQ plot을 그리고, 정규성 검정을 수행하여라.\n",
        "\n",
        "가설:"
      ],
      "id": "3cb943c0-070c-41ca-bd04-03eafe3a51ab"
    },
    {
      "cell_type": "code",
      "execution_count": 90,
      "metadata": {},
      "outputs": [
        {
          "output_type": "display_data",
          "metadata": {},
          "data": {
            "image/png": "[encoded data removed]"
          }
        },
        {
          "output_type": "display_data",
          "metadata": {},
          "data": {
            "image/png": "[encoded data removed]"
          }
        }
      ],
      "source": [
        "qqnorm(cars$resid, pch=16)\n",
        "qqline(cars$resid, col=2)\n",
        "\n",
        "hist(cars$resid)"
      ],
      "id": "9500bce8-bea9-459e-9cb1-fdb0687ec332"
    },
    {
      "cell_type": "code",
      "execution_count": 91,
      "metadata": {},
      "outputs": [],
      "source": [
        "shapiro.test(resid(model))"
      ],
      "id": "9692d8aa-f9e4-4786-9018-4e2e935c4b8c"
    },
    {
      "cell_type": "markdown",
      "metadata": {},
      "source": [
        "-   $H_0$: 정규성 만족, $H_1$: 정규성만족X\n",
        "\n",
        "-   p-value의 값이 0.05 보다 작으므로 귀무가설을 기각\n",
        "\n",
        "## (18) 잔차 독립성 검정\n",
        "\n",
        "잔차에 대한 독립성 검정을 수행하시오."
      ],
      "id": "312e1db5-0bf7-4a71-9123-66d70afc3d36"
    },
    {
      "cell_type": "code",
      "execution_count": 92,
      "metadata": {},
      "outputs": [],
      "source": [
        "dwtest(model, alternative = \"two.sided\")  #H0 : uncorrelated vs H1 : rho != 0"
      ],
      "id": "3278d245-d42a-437b-b3af-605700cc7fbc"
    },
    {
      "cell_type": "markdown",
      "metadata": {},
      "source": [
        "-   DW TEST의 p-value=0.1904이므로 H0를 기각할 수 없다. 채택. 즉 서로\n",
        "    독립이다."
      ],
      "id": "b235cd1e-f04c-498a-bbab-d01ed0b4302b"
    },
    {
      "cell_type": "code",
      "execution_count": 93,
      "metadata": {},
      "outputs": [],
      "source": [
        "dwtest(model, alternative = \"greater\")  #H0 : uncorrelated vs H1 : rho > 0"
      ],
      "id": "d8138d35-65ce-435c-b28f-aeadc646cb43"
    },
    {
      "cell_type": "code",
      "execution_count": 94,
      "metadata": {},
      "outputs": [],
      "source": [
        "dwtest(model, alternative = \"less\")     #H0 : uncorrelated vs H1 : rho < 0"
      ],
      "id": "a7b29cd2-4742-44b9-863d-a7c39499acd7"
    }
  ],
  "nbformat": 4,
  "nbformat_minor": 5,
  "metadata": {
    "kernelspec": {
      "name": "ir",
      "display_name": "R",
      "language": "R"
    },
    "language_info": {
      "name": "R",
      "codemirror_mode": "r",
      "file_extension": ".r",
      "mimetype": "text/x-r-source",
      "pygments_lexer": "r",
      "version": "4.2.2"
    }
  }
}