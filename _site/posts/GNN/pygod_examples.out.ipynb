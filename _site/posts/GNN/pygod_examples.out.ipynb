{
  "cells": [
    {
      "cell_type": "markdown",
      "metadata": {},
      "source": [
        "# \\[GNN\\] pyogd examples(안되넹)\n",
        "\n",
        "김보람  \n",
        "2024-01-18"
      ],
      "id": "81e8e6c7-9064-40ce-ad06-2c60310ba041"
    },
    {
      "cell_type": "code",
      "execution_count": 1,
      "metadata": {},
      "outputs": [],
      "source": [
        "\n",
        "# import torch_geometric.transforms as T\n",
        "# from torch_geometric.datasets import Planetoid\n",
        "\n",
        "# data = Planetoid('./data/Cora', 'Cora', transform=T.NormalizeFeatures())[0]"
      ],
      "id": "563eb995-4725-48bf-bc41-591068a9cdc9"
    },
    {
      "cell_type": "code",
      "execution_count": 2,
      "metadata": {},
      "outputs": [],
      "source": [
        "# import torch\n",
        "# from pygod.generator import gen_contextual_outlier, gen_structural_outlier"
      ],
      "id": "d891bff8-9420-4931-97c6-31f99b61c620"
    },
    {
      "cell_type": "markdown",
      "metadata": {},
      "source": [
        "# data"
      ],
      "id": "ec71834c-039a-4178-9e6e-6ddd05c4049f"
    },
    {
      "cell_type": "code",
      "execution_count": 3,
      "metadata": {},
      "outputs": [],
      "source": [
        "\n",
        "# data, ya = gen_contextual_outlier(data, n=100, k=50)\n",
        "# data, ys = gen_structural_outlier(data, m=10, n=10)\n",
        "# data.y = torch.logical_or(ys, ya).long()"
      ],
      "id": "bc04b16b-192f-4864-9d8f-3472cc68e571"
    },
    {
      "cell_type": "code",
      "execution_count": 4,
      "metadata": {},
      "outputs": [],
      "source": [
        "# data"
      ],
      "id": "50c84bef-95e8-42ce-a8a1-10253d9d3e76"
    },
    {
      "cell_type": "code",
      "execution_count": 5,
      "metadata": {},
      "outputs": [],
      "source": [
        "# from pygod.utils import load_data\n",
        "\n",
        "# data = load_data('inj_cora')\n",
        "# data.y = data.y.bool()"
      ],
      "id": "6d7ef352-4935-4f9d-89cc-b4dc4539abf1"
    },
    {
      "cell_type": "code",
      "execution_count": 6,
      "metadata": {},
      "outputs": [],
      "source": [
        "# data"
      ],
      "id": "f0592644-e5d9-4397-a620-fa1065c2dbf2"
    },
    {
      "cell_type": "markdown",
      "metadata": {},
      "source": [
        "# Initialization"
      ],
      "id": "3879e08f-5efa-4724-8f1b-5037b09252c8"
    },
    {
      "cell_type": "code",
      "execution_count": 7,
      "metadata": {},
      "outputs": [],
      "source": [
        "# from pygod.detector import DOMINANT\n",
        "\n",
        "# detector = DOMINANT(hid_dim=64, num_layers=4, epoch=100)"
      ],
      "id": "0891c7c4-d37e-4041-95c3-98be2001bf63"
    },
    {
      "cell_type": "code",
      "execution_count": 8,
      "metadata": {},
      "outputs": [],
      "source": [
        "# detector.fit(data)\n"
      ],
      "id": "72f938f0-8590-4119-9370-17a05a8af973"
    }
  ],
  "nbformat": 4,
  "nbformat_minor": 5,
  "metadata": {
    "kernelspec": {
      "name": "python3",
      "display_name": "Python 3",
      "language": "python"
    },
    "language_info": {
      "name": "python",
      "codemirror_mode": {
        "name": "ipython",
        "version": "3"
      },
      "file_extension": ".py",
      "mimetype": "text/x-python",
      "nbconvert_exporter": "python",
      "pygments_lexer": "ipython3",
      "version": "3.8.18"
    }
  }
}