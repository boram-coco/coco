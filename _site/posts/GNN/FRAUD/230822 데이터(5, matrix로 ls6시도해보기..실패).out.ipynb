{
  "cells": [
    {
      "cell_type": "markdown",
      "metadata": {},
      "source": [
        "# \\[FRAUD\\] 데이터정리 시도(matrix로 lesson6따라하기 - 실패ㅎ)\n",
        "\n",
        "김보람  \n",
        "2023-08-22\n",
        "\n",
        "# imports"
      ],
      "id": "053c6968-f208-4328-844b-6315ff0790df"
    },
    {
      "cell_type": "code",
      "execution_count": 2,
      "metadata": {},
      "outputs": [],
      "source": [
        "import numpy as np\n",
        "import pandas as pd\n",
        "import matplotlib.pyplot as plt \n",
        "import networkx as nx\n",
        "import sklearn\n",
        "import torch\n",
        "\n",
        "# sklearn\n",
        "from sklearn import model_selection # split함수이용\n",
        "from sklearn import ensemble # RF,GBM\n",
        "from sklearn import metrics \n",
        "\n",
        "# embedding \n",
        "from node2vec import Node2Vec\n",
        "from node2vec.edges import HadamardEmbedder, AverageEmbedder, WeightedL1Embedder, WeightedL2Embedder"
      ],
      "id": "c36d6b17-9b4c-4aea-b111-133e1afce57e"
    },
    {
      "cell_type": "code",
      "execution_count": 3,
      "metadata": {},
      "outputs": [],
      "source": [
        "def build_graph_bipartite(df_input, graph_type=nx.Graph()):\n",
        "    df=df_input.copy()\n",
        "    mapping={x:node_id for node_id, x in enumerate(set(df[\"cc_num\"].values.tolist()+\\\n",
        "                                                      df[\"merchant\"].values.tolist()))}\n",
        "    \n",
        "    df[\"from\"]=df[\"cc_num\"].apply(lambda x:mapping[x])  #엣지의 출발점\n",
        "    df[\"to\"]=df[\"merchant\"].apply(lambda x:mapping[x])  #엣지의 도착점\n",
        "    \n",
        "    df = df[['from', 'to', \"amt\", \"is_fraud\"]].groupby(['from','to']).agg({\"is_fraud\":\"sum\",\"amt\":\"sum\"}).reset_index()\n",
        "    df[\"is_fraud\"]=df[\"is_fraud\"].apply(lambda x:1 if x>0 else 0)\n",
        "    \n",
        "    G=nx.from_edgelist(df[[\"from\",\"to\"]].values, create_using=graph_type)\n",
        "    \n",
        "    nx.set_edge_attributes(G,{(int(x[\"from\"]),int(x[\"to\"])):x[\"is_fraud\"] for idx, x in df[[\"from\",\"to\",\"is_fraud\"]].iterrows()}, \"label\")  #엣지 속성 설정,각 속성의 사기 여부부     \n",
        "    nx.set_edge_attributes(G,{(int(x[\"from\"]),int(x[\"to\"])):x[\"amt\"] for idx,x in df[[\"from\",\"to\",\"amt\"]].iterrows()}, \"weight\") # 엣지 속성 설정, 각 엣지의 거래 금액\n",
        "\n",
        "    return G\n",
        "\n",
        "\n",
        "def build_graph_tripartite(df_input, graph_type=nx.Graph()):\n",
        "    df=df_input.copy()\n",
        "    mapping={x:node_id for node_id, x in enumerate(set(df.index.values.tolist() + \n",
        "                                                       df[\"cc_num\"].values.tolist() +\n",
        "                                                       df[\"merchant\"].values.tolist()))}\n",
        "    df[\"in_node\"]= df[\"cc_num\"].apply(lambda x: mapping[x])\n",
        "    df[\"out_node\"]=df[\"merchant\"].apply(lambda x:mapping[x])\n",
        "    \n",
        "        \n",
        "    G=nx.from_edgelist([(x[\"in_node\"], mapping[idx]) for idx, x in df.iterrows()] +\\\n",
        "                        [(x[\"out_node\"], mapping[idx]) for idx, x in df.iterrows()], create_using=graph_type)\n",
        "    \n",
        "    nx.set_edge_attributes(G,{(x[\"in_node\"], mapping[idx]):x[\"is_fraud\"] for idx, x in df.iterrows()}, \"label\")     \n",
        "    nx.set_edge_attributes(G,{(x[\"out_node\"], mapping[idx]):x[\"is_fraud\"] for idx, x in df.iterrows()}, \"label\")   \n",
        "    nx.set_edge_attributes(G,{(x[\"in_node\"], mapping[idx]):x[\"amt\"] for idx, x in df.iterrows()}, \"weight\")  \n",
        "    nx.set_edge_attributes(G,{(x[\"out_node\"], mapping[idx]):x[\"amt\"] for idx, x in df.iterrows()}, \"weight\")\n",
        "\n",
        "    return G\n",
        "    \n",
        "    \n",
        "def down_sample_textbook(df):\n",
        "    df_majority = df[df.is_fraud==0].copy()\n",
        "    df_minority = df[df.is_fraud==1].copy()\n",
        "    df_maj_dowsampled = sklearn.utils.resample(df_majority, n_samples=len(df_minority), replace=False, random_state=42)\n",
        "    df_downsampled = pd.concat([df_minority, df_maj_dowsampled])\n",
        "    return df_downsampled\n",
        "\n",
        "def embedding(Graph):\n",
        "    # Graph -> X (feature)\n",
        "    _edgs = list(Graph.edges)\n",
        "    subGraph = Graph.edge_subgraph([_edgs[x] for x in range(len(Graph.edges))]).copy()\n",
        "    subGraph.add_nodes_from(list(set(Graph.nodes) - set(subGraph.nodes)))    \n",
        "    embedded = AverageEmbedder(Node2Vec(subGraph, weight_key='weight').fit(window=10).wv)\n",
        "    X = [embedded[str(_edgs[x][0]), str(_edgs[x][1])] for x in range(len(Graph.edges))]\n",
        "    # Graph -> y (label)\n",
        "    y = np.array(list(nx.get_edge_attributes(Graph, \"label\").values()))\n",
        "    return X,y \n",
        "\n",
        "def anal(df):\n",
        "    Graph = build_graph_bipartite(df)\n",
        "    X,XX,y,yy = embedding(Graph)\n",
        "    lrnr = RandomForestClassifier(n_estimators=100, random_state=42) \n",
        "    lrnr.fit(X,y)\n",
        "    yyhat = lrnr.predict(XX)\n",
        "    df = pd.DataFrame({\n",
        "        'acc':[sklearn.metrics.accuracy_score(yy,yyhat)], \n",
        "        'pre':[sklearn.metrics.precision_score(yy,yyhat)], \n",
        "        'rec':[sklearn.metrics.recall_score(yy,yyhat)],\n",
        "        'f1':[sklearn.metrics.f1_score(yy,yyhat)]}\n",
        "    )    \n",
        "    return df\n",
        "\n",
        "def our_sampling1(df):\n",
        "    cus_list = set(df.query('is_fraud==1').cc_num.tolist())\n",
        "    return df.query(\"cc_num in @ cus_list\")"
      ],
      "id": "2774d96b-b24a-492b-a587-2815ff6e3ead"
    },
    {
      "cell_type": "code",
      "execution_count": 4,
      "metadata": {},
      "outputs": [],
      "source": [
        "fraudTrain = pd.read_csv(\"~/Desktop/fraudTrain.csv\").iloc[:,1:]"
      ],
      "id": "7021dc07-8a06-417b-9fb6-c71b2f05e5eb"
    },
    {
      "cell_type": "code",
      "execution_count": 5,
      "metadata": {},
      "outputs": [],
      "source": [
        "fraudTrain = fraudTrain.assign(trans_date_trans_time= list(map(lambda x: pd.to_datetime(x), fraudTrain.trans_date_trans_time)))\n",
        "fraudTrain"
      ],
      "id": "eb7a9b2b-f984-4bb0-b14b-e523a00d8d38"
    },
    {
      "cell_type": "markdown",
      "metadata": {},
      "source": [
        "## 시도"
      ],
      "id": "7394d131-9d81-449e-af4a-03d430a3928a"
    },
    {
      "cell_type": "code",
      "execution_count": 6,
      "metadata": {},
      "outputs": [],
      "source": [
        "_df1 = fraudTrain[fraudTrain[\"is_fraud\"] == 0].sample(frac=0.20, random_state=42)\n",
        "_df2 = fraudTrain[fraudTrain[\"is_fraud\"] == 1]\n",
        "df02 = pd.concat([_df1,_df2])\n",
        "df02.shape"
      ],
      "id": "adec4c87-7a49-41dd-ba04-879643113486"
    },
    {
      "cell_type": "code",
      "execution_count": 7,
      "metadata": {},
      "outputs": [],
      "source": [
        "df50 = down_sample_textbook(df02)\n",
        "df50.shape"
      ],
      "id": "b1eab03c-9ee2-45e1-95a5-923642e8ce6f"
    },
    {
      "cell_type": "code",
      "execution_count": 8,
      "metadata": {},
      "outputs": [],
      "source": [
        "12012*12012"
      ],
      "id": "0d8983c1-b6c2-4331-9adf-14d799fb8460"
    },
    {
      "cell_type": "code",
      "execution_count": 9,
      "metadata": {},
      "outputs": [],
      "source": [
        "df50 = df50.reset_index()"
      ],
      "id": "4f3c12b1-433f-41ac-85c0-c42ae389ba60"
    },
    {
      "cell_type": "code",
      "execution_count": 10,
      "metadata": {},
      "outputs": [],
      "source": [
        "N = len(df50)"
      ],
      "id": "7cef7094-bd9b-43d1-a1c9-d4b1c9b4241c"
    },
    {
      "cell_type": "markdown",
      "metadata": {},
      "source": [
        "------------------------------------------------------------------------\n",
        "\n",
        "### tr/test"
      ],
      "id": "1dbb7c33-734d-435a-b382-745dc2906101"
    },
    {
      "cell_type": "code",
      "execution_count": 11,
      "metadata": {},
      "outputs": [],
      "source": [
        "df50_tr,df50_test = sklearn.model_selection.train_test_split(df50, random_state=42)"
      ],
      "id": "1746ec92-50c0-402d-8297-92cb67c718d5"
    },
    {
      "cell_type": "code",
      "execution_count": 12,
      "metadata": {},
      "outputs": [],
      "source": [
        "df50_tr.is_fraud.mean().round(5), df50_test.is_fraud.mean().round(5)"
      ],
      "id": "390c18d0-045c-4473-b1b2-3c8314cbdfbc"
    },
    {
      "cell_type": "code",
      "execution_count": 13,
      "metadata": {},
      "outputs": [],
      "source": [
        "df50_tr.shape, df50_test.shape"
      ],
      "id": "ba8e5c8a-e54e-4982-b4db-4e89f5239dfa"
    },
    {
      "cell_type": "code",
      "execution_count": 14,
      "metadata": {},
      "outputs": [
        {
          "output_type": "stream",
          "name": "stdout",
          "text": [
            "Train Mask: [ True  True  True ... False False False]\n",
            "Test Mask: [False False False ...  True  True  True]"
          ]
        }
      ],
      "source": [
        "train_mask = np.concatenate((np.full(9009, True), np.full(3003, False)))\n",
        "test_mask = np.concatenate((np.full(9009, False), np.full(3003, True)))\n",
        "print(\"Train Mask:\", train_mask)\n",
        "print(\"Test Mask:\", test_mask)"
      ],
      "id": "c7632cdd-a4fb-42dc-8c53-b5d731c5278d"
    },
    {
      "cell_type": "code",
      "execution_count": 15,
      "metadata": {},
      "outputs": [],
      "source": [
        "train_mask.shape, test_mask.shape"
      ],
      "id": "88aef965-27b8-4007-956b-b40583d8d5ce"
    },
    {
      "cell_type": "code",
      "execution_count": 16,
      "metadata": {},
      "outputs": [],
      "source": [
        "train_mask.sum(), test_mask.sum()"
      ],
      "id": "1211b810-0238-4256-b14c-00e44833cf9e"
    },
    {
      "cell_type": "code",
      "execution_count": 17,
      "metadata": {},
      "outputs": [],
      "source": [
        "df50_com = pd.concat([df50_tr, df50_test])"
      ],
      "id": "30478e8f-390a-49f0-88ed-2c7a767df7f0"
    },
    {
      "cell_type": "code",
      "execution_count": 18,
      "metadata": {},
      "outputs": [],
      "source": [
        "df50_com = df50_com.reset_index()"
      ],
      "id": "4ee78777-95c8-40c4-acdd-6a0d539c6454"
    },
    {
      "cell_type": "markdown",
      "metadata": {},
      "source": [
        "------------------------------------------------------------------------\n",
        "\n",
        "### aj_matrix"
      ],
      "id": "aa1a2b86-e459-4a4f-b404-9b630951d9b3"
    },
    {
      "cell_type": "code",
      "execution_count": 36,
      "metadata": {},
      "outputs": [],
      "source": [
        "# edge_index_list2_com = []\n",
        "# for i in range(N):\n",
        "#     for j in range(N):\n",
        "#         if df50_com['cc_num'][i] != df50_com['cc_num'][j]:  \n",
        "#             edge = 0\n",
        "#         else:\n",
        "#             edge = 1\n",
        "#         edge_index_list2_com.append([i, j, edge])"
      ],
      "id": "a836d0e0-f2f7-4a91-a95b-16db33aeec4b"
    },
    {
      "cell_type": "code",
      "execution_count": 51,
      "metadata": {},
      "outputs": [],
      "source": [
        "#np.save('edge_index_list2_50_com.npy', edge_index_list2_com)\n",
        "\n",
        "edge_index_list2_com = np.load('edge_index_list2_50_com.npy')"
      ],
      "id": "b78ca033-4f4a-44b8-91d8-b4e619f2b061"
    },
    {
      "cell_type": "code",
      "execution_count": 19,
      "metadata": {},
      "outputs": [],
      "source": [
        "# edge_index_list2_com"
      ],
      "id": "7b00d19a-c5b2-45f7-a38e-ad6962795939"
    },
    {
      "cell_type": "code",
      "execution_count": 52,
      "metadata": {},
      "outputs": [],
      "source": [
        "edge_index_list2_com.shape"
      ],
      "id": "fea3b37b-745c-4d4f-a127-e75ac7be621a"
    },
    {
      "cell_type": "code",
      "execution_count": 53,
      "metadata": {},
      "outputs": [],
      "source": [
        "num_nodes = 12012"
      ],
      "id": "a65f4763-77a5-4da3-94d7-08f8cfcc0526"
    },
    {
      "cell_type": "code",
      "execution_count": 54,
      "metadata": {},
      "outputs": [],
      "source": [
        "aj_matrix = np.zeros((num_nodes, num_nodes))"
      ],
      "id": "799d6d05-12b6-4178-960a-6f5210acd879"
    },
    {
      "cell_type": "code",
      "execution_count": 55,
      "metadata": {},
      "outputs": [],
      "source": [
        "aj_matrix"
      ],
      "id": "f0de5d64-fe57-4a10-8f28-6aa60b77639d"
    },
    {
      "cell_type": "code",
      "execution_count": 56,
      "metadata": {},
      "outputs": [],
      "source": [
        "for i, j ,edge in edge_index_list2_com:\n",
        "    aj_matrix[i][j] = edge"
      ],
      "id": "4e19d96a-34e3-423c-b09f-171399097297"
    },
    {
      "cell_type": "code",
      "execution_count": 57,
      "metadata": {},
      "outputs": [],
      "source": [
        "aj_matrix"
      ],
      "id": "32f53216-fda5-439e-a54a-5f8de62ecd1e"
    },
    {
      "cell_type": "code",
      "execution_count": 37,
      "metadata": {},
      "outputs": [],
      "source": [
        "# aj_matrix.shape"
      ],
      "id": "16c24bc7-4ad2-4734-86b0-9cd517acf3ca"
    },
    {
      "cell_type": "code",
      "execution_count": 39,
      "metadata": {},
      "outputs": [],
      "source": [
        "# np.save('aj_matrix.npy', aj_matrix)"
      ],
      "id": "7e9f1fc6-a4df-4d4c-bb8a-7e746ea5b543"
    },
    {
      "cell_type": "code",
      "execution_count": 41,
      "metadata": {},
      "outputs": [],
      "source": [
        "\n",
        "# aj_matrix = np.load('aj_matrix.npy')"
      ],
      "id": "45647b54-8dc5-4114-8083-320c755a1071"
    },
    {
      "cell_type": "code",
      "execution_count": 42,
      "metadata": {},
      "outputs": [],
      "source": [
        "# aj_matrix"
      ],
      "id": "617f17e2-9ba7-4cd4-9e59-3ab488292027"
    },
    {
      "cell_type": "markdown",
      "metadata": {},
      "source": [
        "------------------------------------------------------------------------\n",
        "\n",
        "------------------------------------------------------------------------\n",
        "\n",
        "### weigt matirx"
      ],
      "id": "426bca73-4adb-4e81-a6b2-8f0388dd7dcd"
    },
    {
      "cell_type": "code",
      "execution_count": 25,
      "metadata": {},
      "outputs": [],
      "source": [
        "# edge_index_list = []\n",
        "# for i in range(N):\n",
        "#     for j in range(N):\n",
        "#         time_difference = (df50_com['trans_date_trans_time'][i] - df50_com['trans_date_trans_time'][j]).total_seconds()\n",
        "#         edge_index_list.append([i, j, time_difference])"
      ],
      "id": "acf610d7-7d28-429a-be47-f57879353a9d"
    },
    {
      "cell_type": "code",
      "execution_count": 41,
      "metadata": {},
      "outputs": [],
      "source": [
        "# np.save('edge_index_list_50_com.npy', edge_index_list)\n",
        "\n",
        "edge_index_list = np.load('edge_index_list_50_com.npy')"
      ],
      "id": "d95b3af4-c6fa-41a5-bbde-92d78c552b46"
    },
    {
      "cell_type": "code",
      "execution_count": 43,
      "metadata": {},
      "outputs": [],
      "source": [
        "edge_index_list[:5]"
      ],
      "id": "d1333cbb-002f-4d9c-8864-a8660a541dd0"
    },
    {
      "cell_type": "code",
      "execution_count": 44,
      "metadata": {},
      "outputs": [],
      "source": [
        "edge_index = np.array(edge_index_list)\n",
        "edge_index[:,2] = np.abs(edge_index[:,2])\n",
        "theta = edge_index[:,2].mean()\n",
        "theta"
      ],
      "id": "be311863-bf55-40a2-ae8d-d3c87e26a164"
    },
    {
      "cell_type": "code",
      "execution_count": 45,
      "metadata": {},
      "outputs": [],
      "source": [
        "edge_index[:,2] = (np.exp(-edge_index[:,2]/theta)!=1) * np.exp(-edge_index[:,2]/theta)\n",
        "edge_index"
      ],
      "id": "de4c0f1a-32df-4069-ae72-8ae6c06dbdb8"
    },
    {
      "cell_type": "markdown",
      "metadata": {},
      "source": [
        "> w_matrix로 바꾸려고 하니까 형식이 \\[i\\]\\[j\\]가 맞지 않는다.!"
      ],
      "id": "4a437a7d-ea3d-4239-96c5-e22e2e540ab4"
    },
    {
      "cell_type": "code",
      "execution_count": 92,
      "metadata": {},
      "outputs": [],
      "source": [
        "# # 출력 형식 변경\n",
        "# np.set_printoptions(formatter={'int': '{:d}'.format})"
      ],
      "id": "f7cbfdae-e97e-4373-b657-57285ff46460"
    },
    {
      "cell_type": "code",
      "execution_count": 91,
      "metadata": {},
      "outputs": [],
      "source": [
        "# # 원래 출력 형식으로 복원\n",
        "# np.set_printoptions(formatter=None)\n"
      ],
      "id": "72f9a208-e205-465a-b00f-400aa24f7039"
    },
    {
      "cell_type": "code",
      "execution_count": 93,
      "metadata": {},
      "outputs": [],
      "source": [
        "w_matrix = np.zeros((num_nodes, num_nodes))"
      ],
      "id": "dfc061e3-0907-44f0-82c2-af28f6485b5e"
    },
    {
      "cell_type": "code",
      "execution_count": 94,
      "metadata": {},
      "outputs": [],
      "source": [
        "w_matrix"
      ],
      "id": "8a65062d-8718-4cbf-a0ba-15c911ef5651"
    },
    {
      "cell_type": "code",
      "execution_count": 97,
      "metadata": {},
      "outputs": [],
      "source": [
        "for i, j ,time_difference in edge_index:\n",
        "    i, j = int(i), int(j)\n",
        "    w_matrix[i][j] = time_difference"
      ],
      "id": "21e0bffc-4305-4d6a-b41f-1d89e9118272"
    },
    {
      "cell_type": "code",
      "execution_count": 98,
      "metadata": {},
      "outputs": [],
      "source": [
        "w_matrix"
      ],
      "id": "9e52964e-3d7d-49ad-bf44-3c14c90b96c2"
    },
    {
      "cell_type": "code",
      "execution_count": 99,
      "metadata": {},
      "outputs": [],
      "source": [
        "w_matrix.shape"
      ],
      "id": "d545e7e7-ffb8-4d89-8f4a-b213fdbe50de"
    },
    {
      "cell_type": "code",
      "execution_count": 100,
      "metadata": {},
      "outputs": [],
      "source": [
        "np.save('w_matrix.npy', w_matrix)"
      ],
      "id": "97321137-d36e-4dc8-9208-e525a9944849"
    },
    {
      "cell_type": "markdown",
      "metadata": {},
      "source": [
        "------------------------------------------------------------------------"
      ],
      "id": "07aeb047-90e9-48a6-a9b8-05ca571fd466"
    },
    {
      "cell_type": "code",
      "execution_count": 19,
      "metadata": {},
      "outputs": [],
      "source": [
        "# np.save('edge_index_list_plus.npy', edge_index_list_plus)\n",
        "\n",
        "edge_index_list_plus = np.load('edge_index_list_plus.npy')"
      ],
      "id": "1741d7ed-bacc-43d2-8d7e-7c12b9a748c3"
    },
    {
      "cell_type": "code",
      "execution_count": 20,
      "metadata": {},
      "outputs": [],
      "source": [
        "edge_index = np.array(edge_index_list_plus)"
      ],
      "id": "285f3e63-2131-43a1-be28-aec41509a22b"
    },
    {
      "cell_type": "code",
      "execution_count": 113,
      "metadata": {},
      "outputs": [],
      "source": [
        "edge_index.shape"
      ],
      "id": "9fbc181f-1fd1-4c18-b03e-3cc419aff71f"
    },
    {
      "cell_type": "code",
      "execution_count": 114,
      "metadata": {},
      "outputs": [],
      "source": [
        "edge_index"
      ],
      "id": "6bbc3d34-a79b-4e76-80c6-f8b5d862cbc3"
    },
    {
      "cell_type": "code",
      "execution_count": 21,
      "metadata": {},
      "outputs": [],
      "source": [
        "edge_index[:,2] = np.abs(edge_index[:,2])\n",
        "theta = edge_index[:,2].mean()\n",
        "theta\n"
      ],
      "id": "780dc3ce-ae84-45e5-a365-e710419f2696"
    },
    {
      "cell_type": "code",
      "execution_count": 22,
      "metadata": {},
      "outputs": [],
      "source": [
        "edge_index[:,2] = (np.exp(-edge_index[:,2]/theta)!=1) * np.exp(-edge_index[:,2]/theta)\n",
        "edge_index"
      ],
      "id": "d14948d3-00f2-46d7-af70-8634e616b879"
    },
    {
      "cell_type": "code",
      "execution_count": 23,
      "metadata": {},
      "outputs": [],
      "source": [
        "edge_index_list_updated = edge_index.tolist()\n",
        "mm = np.array(edge_index_list_updated)[:,2].mean()"
      ],
      "id": "83c5e775-2e54-4fdd-8cc1-48cee28dc96e"
    },
    {
      "cell_type": "code",
      "execution_count": 24,
      "metadata": {},
      "outputs": [],
      "source": [
        "selected_edges = [(int(row[0]), int(row[1])) for row in edge_index_list_updated if row[2] > mm]"
      ],
      "id": "550ebf0e-3148-4eff-b14c-0004595d0d84"
    },
    {
      "cell_type": "code",
      "execution_count": 25,
      "metadata": {},
      "outputs": [],
      "source": [
        "edge_index_selected = torch.tensor(selected_edges, dtype=torch.long).t()"
      ],
      "id": "159e6524-47ea-474a-835a-2f70a34f72da"
    },
    {
      "cell_type": "code",
      "execution_count": 26,
      "metadata": {},
      "outputs": [],
      "source": [
        "edge_index_selected.shape"
      ],
      "id": "c0095246-e11a-456a-8850-c906c175e506"
    },
    {
      "cell_type": "code",
      "execution_count": 27,
      "metadata": {},
      "outputs": [],
      "source": [
        "np.save('edge_index_selected.npy', edge_index_selected)"
      ],
      "id": "78a48b36-cb17-4c03-a1aa-14ffb9cbc41c"
    },
    {
      "cell_type": "markdown",
      "metadata": {},
      "source": [
        "------------------------------------------------------------------------\n",
        "\n",
        "# pyg lesson6 따라하기\n",
        "\n",
        "### data설정(x, edge_index, y)"
      ],
      "id": "a8744c33-165e-4cf6-b38f-aeced48f5313"
    },
    {
      "cell_type": "code",
      "execution_count": 28,
      "metadata": {},
      "outputs": [],
      "source": [
        "x = torch.tensor([df50_com['amt']], dtype=torch.float).reshape(-1,1)"
      ],
      "id": "88504d40-8829-4b6f-93ed-e5bebbf8e508"
    },
    {
      "cell_type": "code",
      "execution_count": 29,
      "metadata": {},
      "outputs": [],
      "source": [
        "x"
      ],
      "id": "7bea7019-b85b-44a7-a9fe-d3bfb63e5f8a"
    },
    {
      "cell_type": "code",
      "execution_count": 30,
      "metadata": {},
      "outputs": [],
      "source": [
        "y = torch.tensor(df50_com['is_fraud'],dtype = torch.int64)"
      ],
      "id": "f2d16b59-91b5-4208-af59-6c7d017ab922"
    },
    {
      "cell_type": "code",
      "execution_count": 31,
      "metadata": {},
      "outputs": [],
      "source": [
        "y"
      ],
      "id": "8866eb60-6989-46e0-9be9-16b1f3961c44"
    },
    {
      "cell_type": "code",
      "execution_count": 32,
      "metadata": {},
      "outputs": [],
      "source": [
        "import torch_geometric"
      ],
      "id": "1bd32099-d17d-4f16-ad61-8c8d79def338"
    },
    {
      "cell_type": "code",
      "execution_count": 34,
      "metadata": {},
      "outputs": [],
      "source": [
        "data = torch_geometric.data.Data(x=x, edge_index = edge_index_selected, y=y)\n",
        "\n",
        "#train_mask = train_mask, test_mask = test_mask"
      ],
      "id": "5e204f74-b36f-4029-b15d-124dc2d18e24"
    },
    {
      "cell_type": "code",
      "execution_count": 35,
      "metadata": {},
      "outputs": [],
      "source": [
        "data"
      ],
      "id": "1ba154a6-c153-498a-8d49-f8be662eb34f"
    },
    {
      "cell_type": "markdown",
      "metadata": {},
      "source": [
        "------------------------------------------------------------------------\n",
        "\n",
        "### GCNConv"
      ],
      "id": "4a389a54-5d44-4dc3-a25b-c3750b50fdeb"
    },
    {
      "cell_type": "code",
      "execution_count": 37,
      "metadata": {},
      "outputs": [],
      "source": [
        "gconv = torch_geometric.nn.GCNConv(1,4)\n",
        "gconv"
      ],
      "id": "8028abc6-d178-49e5-8d95-0162794a3957"
    },
    {
      "cell_type": "code",
      "execution_count": 38,
      "metadata": {},
      "outputs": [],
      "source": [
        "gconv(data.x, data.edge_index)"
      ],
      "id": "3fc5cb1d-526f-4ddf-a7c4-98c60aca00b8"
    },
    {
      "cell_type": "code",
      "execution_count": 39,
      "metadata": {},
      "outputs": [],
      "source": [
        "list(gconv.parameters())"
      ],
      "id": "08366dfe-982c-4129-b201-99eb07320c04"
    },
    {
      "cell_type": "code",
      "execution_count": 40,
      "metadata": {},
      "outputs": [],
      "source": [
        "_,W = list(gconv.parameters())\n",
        "W"
      ],
      "id": "3633b15c-bbab-4a97-abe5-b812458c3638"
    },
    {
      "cell_type": "code",
      "execution_count": 58,
      "metadata": {},
      "outputs": [],
      "source": [
        "A = torch.tensor(aj_matrix, dtype=torch.float32)\n",
        "Atilde = A + torch.eye(12012)"
      ],
      "id": "d2f7985b-2f0f-4eb9-83da-f523443e9284"
    },
    {
      "cell_type": "code",
      "execution_count": 59,
      "metadata": {},
      "outputs": [],
      "source": [
        "Atilde"
      ],
      "id": "44971f15-a663-46fb-8038-aaaa721ebf11"
    },
    {
      "cell_type": "markdown",
      "metadata": {},
      "source": [
        "> 엇? 자기자신은 = 0 을 .. 넣는게 여기든가!"
      ],
      "id": "23571372-d95a-47ea-b967-4f45b996d694"
    },
    {
      "cell_type": "code",
      "execution_count": 60,
      "metadata": {},
      "outputs": [],
      "source": [
        "Atilde@data.x@W.T/3, gconv(data.x,data.edge_index)"
      ],
      "id": "0b4bfb82-27d5-45f4-8e49-8161381a7aca"
    },
    {
      "cell_type": "markdown",
      "metadata": {},
      "source": [
        "------------------------------------------------------------------------\n",
        "\n",
        "> A를 선택하는거에 있어서 생각해보니 ,,,,,,, 잘못했다! 계속 그냥. .\n",
        "> edge만 하는데 GConv에서는 weight를 통해서 edge를 골랐는데 .. 그럼\n",
        "> 여기서도 그 mm값을 통해서 구해야할거같은데……이건 어떻게 계산하는 거지?"
      ],
      "id": "9cb3a286-aa42-4edf-aef1-46a777b91d47"
    },
    {
      "cell_type": "code",
      "execution_count": null,
      "metadata": {},
      "outputs": [],
      "source": [
        "\n"
      ],
      "id": "a66926cf-08cb-4cb8-a1cd-f15bcaa22aa3"
    }
  ],
  "nbformat": 4,
  "nbformat_minor": 5,
  "metadata": {
    "kernelspec": {
      "name": "python3",
      "display_name": "Python 3 (ipykernel)",
      "language": "python"
    },
    "language_info": {
      "name": "python",
      "codemirror_mode": {
        "name": "ipython",
        "version": "3"
      },
      "file_extension": ".py",
      "mimetype": "text/x-python",
      "nbconvert_exporter": "python",
      "pygments_lexer": "ipython3",
      "version": "3.8.16"
    }
  }
}