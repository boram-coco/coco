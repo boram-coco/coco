{
  "cells": [
    {
      "cell_type": "markdown",
      "metadata": {},
      "source": [
        "# **\\[FRAUD\\]** 데이터정리 시도(9.20_df50 autogluon, seed)\n",
        "\n",
        "김보람  \n",
        "2023-09-20\n",
        "\n",
        "# imports"
      ],
      "id": "ad5d4a62-6a41-4a1a-9319-336325198956"
    },
    {
      "cell_type": "code",
      "execution_count": 22,
      "metadata": {},
      "outputs": [
        {
          "output_type": "stream",
          "name": "stderr",
          "text": [
            "/home/coco/anaconda3/envs/ag/lib/python3.10/site-packages/tqdm/auto.py:21: TqdmWarning: IProgress not found. Please update jupyter and ipywidgets. See https://ipywidgets.readthedocs.io/en/stable/user_install.html\n",
            "  from .autonotebook import tqdm as notebook_tqdm"
          ]
        }
      ],
      "source": [
        "import sklearn\n",
        "from sklearn import model_selection\n",
        "\n",
        "from autogluon.tabular import TabularDataset, TabularPredictor"
      ],
      "id": "ad8301cd-db88-4f3e-afc7-895326f62760"
    },
    {
      "cell_type": "code",
      "execution_count": 28,
      "metadata": {},
      "outputs": [],
      "source": [
        "import numpy as np\n",
        "import pandas as pd\n",
        "import matplotlib.pyplot as plt \n",
        "import networkx as nx\n",
        "import sklearn\n",
        "import xgboost as xgb\n",
        "\n",
        "# sklearn\n",
        "from sklearn import model_selection # split함수이용\n",
        "from sklearn import ensemble # RF,GBM\n",
        "from sklearn import metrics\n",
        "from sklearn.metrics import precision_score, recall_score, f1_score\n",
        "from sklearn.svm import SVC\n",
        "from sklearn.ensemble import RandomForestClassifier\n",
        "from sklearn.naive_bayes import GaussianNB\n",
        "\n",
        "# gnn\n",
        "import torch\n",
        "import torch.nn.functional as F\n",
        "import torch_geometric\n",
        "from torch_geometric.nn import GCNConv\n",
        "\n",
        "# autogluon\n"
      ],
      "id": "4eb91738-6398-4ffc-bbec-fc48fcc8f249"
    },
    {
      "cell_type": "code",
      "execution_count": 27,
      "metadata": {},
      "outputs": [],
      "source": [
        "def down_sample_textbook(df):\n",
        "    df_majority = df[df.is_fraud==0].copy()\n",
        "    df_minority = df[df.is_fraud==1].copy()\n",
        "    df_maj_dowsampled = sklearn.utils.resample(df_majority, n_samples=len(df_minority), replace=False, random_state=42)\n",
        "    df_downsampled = pd.concat([df_minority, df_maj_dowsampled])\n",
        "    return df_downsampled\n",
        "\n"
      ],
      "id": "2774d96b-b24a-492b-a587-2815ff6e3ead"
    },
    {
      "cell_type": "code",
      "execution_count": 5,
      "metadata": {},
      "outputs": [],
      "source": [
        "import pandas as pd"
      ],
      "id": "dd96971c-b4be-4d1e-afa5-6dc685e770ec"
    },
    {
      "cell_type": "code",
      "execution_count": 6,
      "metadata": {},
      "outputs": [],
      "source": [
        "fraudTrain = pd.read_csv(\"~/Desktop/fraudTrain.csv\").iloc[:,1:]"
      ],
      "id": "7021dc07-8a06-417b-9fb6-c71b2f05e5eb"
    },
    {
      "cell_type": "code",
      "execution_count": 7,
      "metadata": {},
      "outputs": [],
      "source": [
        "fraudTrain = fraudTrain.assign(trans_date_trans_time= list(map(lambda x: pd.to_datetime(x), fraudTrain.trans_date_trans_time)))\n",
        "fraudTrain"
      ],
      "id": "eb7a9b2b-f984-4bb0-b14b-e523a00d8d38"
    },
    {
      "cell_type": "markdown",
      "metadata": {},
      "source": [
        "## 데이터정리"
      ],
      "id": "a9ac0f14-028d-427f-9ac1-fffeb0a01a18"
    },
    {
      "cell_type": "code",
      "execution_count": 11,
      "metadata": {},
      "outputs": [],
      "source": [
        "_df1 = fraudTrain[fraudTrain[\"is_fraud\"] == 0].sample(frac=0.20, random_state=42)\n",
        "_df2 = fraudTrain[fraudTrain[\"is_fraud\"] == 1]\n",
        "df02 = pd.concat([_df1,_df2])\n",
        "df02.shape"
      ],
      "id": "adec4c87-7a49-41dd-ba04-879643113486"
    },
    {
      "cell_type": "code",
      "execution_count": 12,
      "metadata": {},
      "outputs": [],
      "source": [
        "df50 = down_sample_textbook(df02)\n",
        "df50.shape"
      ],
      "id": "b1eab03c-9ee2-45e1-95a5-923642e8ce6f"
    },
    {
      "cell_type": "code",
      "execution_count": 13,
      "metadata": {},
      "outputs": [],
      "source": [
        "df50 = df50.reset_index()"
      ],
      "id": "4f3c12b1-433f-41ac-85c0-c42ae389ba60"
    },
    {
      "cell_type": "code",
      "execution_count": 14,
      "metadata": {},
      "outputs": [],
      "source": [
        "N = len(df50)"
      ],
      "id": "7cef7094-bd9b-43d1-a1c9-d4b1c9b4241c"
    },
    {
      "cell_type": "code",
      "execution_count": 15,
      "metadata": {},
      "outputs": [],
      "source": [
        "df50 = df50[[\"amt\",\"is_fraud\"]]"
      ],
      "id": "9cc6d4e4-ecaf-49db-b115-5ce238f76f06"
    },
    {
      "cell_type": "code",
      "execution_count": 16,
      "metadata": {},
      "outputs": [],
      "source": [
        "df50[\"amt\"].mean()"
      ],
      "id": "533c49d8-a2af-49ae-937e-e135f1c28b9d"
    },
    {
      "cell_type": "code",
      "execution_count": 17,
      "metadata": {},
      "outputs": [],
      "source": [
        "df50[\"amt\"].describe()"
      ],
      "id": "2a24619c-b355-424b-b651-16d05eb8680b"
    },
    {
      "cell_type": "markdown",
      "metadata": {},
      "source": [
        "------------------------------------------------------------------------\n",
        "\n",
        "### tr/test"
      ],
      "id": "0db0b890-9c75-46cc-8331-6c8e19ee25bb"
    },
    {
      "cell_type": "code",
      "execution_count": 20,
      "metadata": {},
      "outputs": [],
      "source": [
        "df50_tr,df50_test = sklearn.model_selection.train_test_split(df50, random_state=42)"
      ],
      "id": "1746ec92-50c0-402d-8297-92cb67c718d5"
    },
    {
      "cell_type": "markdown",
      "metadata": {},
      "source": [
        "------------------------------------------------------------------------\n",
        "\n",
        "# autogluon\n",
        "\n",
        "## A. 데이터"
      ],
      "id": "d1ade239-b071-4335-a5c3-c0417ded00fc"
    },
    {
      "cell_type": "code",
      "execution_count": 23,
      "metadata": {},
      "outputs": [],
      "source": [
        "tr = TabularDataset(df50_tr)\n",
        "tst = TabularDataset(df50_test)"
      ],
      "id": "2270b055-c69c-4743-a329-6e445b0a66eb"
    },
    {
      "cell_type": "code",
      "execution_count": null,
      "metadata": {},
      "outputs": [],
      "source": [
        "\n"
      ],
      "id": "e2767084-d3ba-4d08-a729-d586b8b62bda"
    },
    {
      "cell_type": "markdown",
      "metadata": {},
      "source": [
        "## B. predictor 생성\n",
        "\n",
        "> ㅇㅇㅇㅇㅇㅇㅇㅇ으잉?"
      ],
      "id": "fbc0c5fc-03ab-4c96-94bf-655344a5105a"
    },
    {
      "cell_type": "code",
      "execution_count": 24,
      "metadata": {},
      "outputs": [
        {
          "output_type": "stream",
          "name": "stderr",
          "text": [
            "No path specified. Models will be saved in: \"AutogluonModels/ag-20231002_072102\""
          ]
        }
      ],
      "source": [
        "predictr = TabularPredictor(\"is_fraud\")"
      ],
      "id": "8a5e656a-1009-4670-969b-9749270a004f"
    },
    {
      "cell_type": "markdown",
      "metadata": {},
      "source": [
        "## C.적합(fit)"
      ],
      "id": "6a79a786-099d-4a28-859a-2171fe8f9b13"
    },
    {
      "cell_type": "code",
      "execution_count": null,
      "metadata": {},
      "outputs": [],
      "source": [
        "> seed 적"
      ],
      "id": "3a1d9446-002a-4f5b-b8de-57f7e38bc4ac"
    },
    {
      "cell_type": "code",
      "execution_count": 25,
      "metadata": {},
      "outputs": [],
      "source": [
        "seed = 202250926"
      ],
      "id": "363148ad-ed63-452d-8b87-40f829374d80"
    },
    {
      "cell_type": "code",
      "execution_count": 26,
      "metadata": {},
      "outputs": [],
      "source": [
        "predictr.fit(tr,seed=seed)"
      ],
      "id": "dde5f1c7-6ec9-4ad2-adbd-34160cd7baf6"
    },
    {
      "cell_type": "code",
      "execution_count": 52,
      "metadata": {},
      "outputs": [],
      "source": [
        "predictr.leaderboard()"
      ],
      "id": "3208e8e7-a06a-4925-8c68-b6a658a09e85"
    },
    {
      "cell_type": "markdown",
      "metadata": {},
      "source": [
        "## D. 예측(predict)"
      ],
      "id": "e2df2015-c597-442e-a059-e5f9595bdced"
    },
    {
      "cell_type": "code",
      "execution_count": 60,
      "metadata": {},
      "outputs": [],
      "source": [
        "(tr.is_fraud == predictr.predict(tr)).mean()"
      ],
      "id": "1b765589-eb7d-4a14-a2ae-d88de73a64bc"
    },
    {
      "cell_type": "code",
      "execution_count": 80,
      "metadata": {},
      "outputs": [],
      "source": [
        "(tst.is_fraud == predictr.predict(tst)).mean()"
      ],
      "id": "5d38f327-71c7-49ed-89d9-64eaf345c70c"
    },
    {
      "cell_type": "code",
      "execution_count": 61,
      "metadata": {},
      "outputs": [],
      "source": [
        "yyhat = predictr.predict(tr)"
      ],
      "id": "787fb090-acfb-4971-b7fb-76f58ca7c932"
    },
    {
      "cell_type": "markdown",
      "metadata": {},
      "source": [
        "> autogluon이렇게 하는게 맞는감…;;;"
      ],
      "id": "b1e5c091-63f5-4ecc-b8ad-583edc7c8552"
    }
  ],
  "nbformat": 4,
  "nbformat_minor": 5,
  "metadata": {
    "kernelspec": {
      "name": "python3",
      "display_name": "Python 3 (ipykernel)",
      "language": "python"
    },
    "language_info": {
      "name": "python",
      "codemirror_mode": {
        "name": "ipython",
        "version": "3"
      },
      "file_extension": ".py",
      "mimetype": "text/x-python",
      "nbconvert_exporter": "python",
      "pygments_lexer": "ipython3",
      "version": "3.10.13"
    }
  }
}