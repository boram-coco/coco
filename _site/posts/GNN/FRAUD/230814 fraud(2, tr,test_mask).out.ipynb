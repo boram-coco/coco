{
  "cells": [
    {
      "cell_type": "markdown",
      "metadata": {},
      "source": [
        "# \\[FRAUD\\] 데이터정리 시도(8.14-망함 tr/test_mask 만들어봄)\n",
        "\n",
        "김보람  \n",
        "2023-08-14\n",
        "\n",
        "# imports"
      ],
      "id": "de95e850-f690-4350-9dc0-59eade5ec335"
    },
    {
      "cell_type": "code",
      "execution_count": 1,
      "metadata": {},
      "outputs": [],
      "source": [
        "import numpy as np\n",
        "import pandas as pd\n",
        "import matplotlib.pyplot as plt \n",
        "import networkx as nx\n",
        "import sklearn\n",
        "import torch\n",
        "\n",
        "# sklearn\n",
        "from sklearn import model_selection # split함수이용\n",
        "from sklearn import ensemble # RF,GBM\n",
        "from sklearn import metrics \n",
        "\n",
        "# embedding \n",
        "from node2vec import Node2Vec\n",
        "from node2vec.edges import HadamardEmbedder, AverageEmbedder, WeightedL1Embedder, WeightedL2Embedder"
      ],
      "id": "c36d6b17-9b4c-4aea-b111-133e1afce57e"
    },
    {
      "cell_type": "code",
      "execution_count": 2,
      "metadata": {},
      "outputs": [],
      "source": [
        "def build_graph_bipartite(df_input, graph_type=nx.Graph()):\n",
        "    df=df_input.copy()\n",
        "    mapping={x:node_id for node_id, x in enumerate(set(df[\"cc_num\"].values.tolist()+\\\n",
        "                                                      df[\"merchant\"].values.tolist()))}\n",
        "    \n",
        "    df[\"from\"]=df[\"cc_num\"].apply(lambda x:mapping[x])  #엣지의 출발점\n",
        "    df[\"to\"]=df[\"merchant\"].apply(lambda x:mapping[x])  #엣지의 도착점\n",
        "    \n",
        "    df = df[['from', 'to', \"amt\", \"is_fraud\"]].groupby(['from','to']).agg({\"is_fraud\":\"sum\",\"amt\":\"sum\"}).reset_index()\n",
        "    df[\"is_fraud\"]=df[\"is_fraud\"].apply(lambda x:1 if x>0 else 0)\n",
        "    \n",
        "    G=nx.from_edgelist(df[[\"from\",\"to\"]].values, create_using=graph_type)\n",
        "    \n",
        "    nx.set_edge_attributes(G,{(int(x[\"from\"]),int(x[\"to\"])):x[\"is_fraud\"] for idx, x in df[[\"from\",\"to\",\"is_fraud\"]].iterrows()}, \"label\")  #엣지 속성 설정,각 속성의 사기 여부부     \n",
        "    nx.set_edge_attributes(G,{(int(x[\"from\"]),int(x[\"to\"])):x[\"amt\"] for idx,x in df[[\"from\",\"to\",\"amt\"]].iterrows()}, \"weight\") # 엣지 속성 설정, 각 엣지의 거래 금액\n",
        "\n",
        "    return G\n",
        "\n",
        "\n",
        "def build_graph_tripartite(df_input, graph_type=nx.Graph()):\n",
        "    df=df_input.copy()\n",
        "    mapping={x:node_id for node_id, x in enumerate(set(df.index.values.tolist() + \n",
        "                                                       df[\"cc_num\"].values.tolist() +\n",
        "                                                       df[\"merchant\"].values.tolist()))}\n",
        "    df[\"in_node\"]= df[\"cc_num\"].apply(lambda x: mapping[x])\n",
        "    df[\"out_node\"]=df[\"merchant\"].apply(lambda x:mapping[x])\n",
        "    \n",
        "        \n",
        "    G=nx.from_edgelist([(x[\"in_node\"], mapping[idx]) for idx, x in df.iterrows()] +\\\n",
        "                        [(x[\"out_node\"], mapping[idx]) for idx, x in df.iterrows()], create_using=graph_type)\n",
        "    \n",
        "    nx.set_edge_attributes(G,{(x[\"in_node\"], mapping[idx]):x[\"is_fraud\"] for idx, x in df.iterrows()}, \"label\")     \n",
        "    nx.set_edge_attributes(G,{(x[\"out_node\"], mapping[idx]):x[\"is_fraud\"] for idx, x in df.iterrows()}, \"label\")   \n",
        "    nx.set_edge_attributes(G,{(x[\"in_node\"], mapping[idx]):x[\"amt\"] for idx, x in df.iterrows()}, \"weight\")  \n",
        "    nx.set_edge_attributes(G,{(x[\"out_node\"], mapping[idx]):x[\"amt\"] for idx, x in df.iterrows()}, \"weight\")\n",
        "\n",
        "    return G\n",
        "    \n",
        "    \n",
        "def down_sample_textbook(df):\n",
        "    df_majority = df[df.is_fraud==0].copy()\n",
        "    df_minority = df[df.is_fraud==1].copy()\n",
        "    df_maj_dowsampled = sklearn.utils.resample(df_majority, n_samples=len(df_minority), replace=False, random_state=42)\n",
        "    df_downsampled = pd.concat([df_minority, df_maj_dowsampled])\n",
        "    return df_downsampled\n",
        "\n",
        "def embedding(Graph):\n",
        "    # Graph -> X (feature)\n",
        "    _edgs = list(Graph.edges)\n",
        "    subGraph = Graph.edge_subgraph([_edgs[x] for x in range(len(Graph.edges))]).copy()\n",
        "    subGraph.add_nodes_from(list(set(Graph.nodes) - set(subGraph.nodes)))    \n",
        "    embedded = AverageEmbedder(Node2Vec(subGraph, weight_key='weight').fit(window=10).wv)\n",
        "    X = [embedded[str(_edgs[x][0]), str(_edgs[x][1])] for x in range(len(Graph.edges))]\n",
        "    # Graph -> y (label)\n",
        "    y = np.array(list(nx.get_edge_attributes(Graph, \"label\").values()))\n",
        "    return X,y \n",
        "\n",
        "def anal(df):\n",
        "    Graph = build_graph_bipartite(df)\n",
        "    X,XX,y,yy = embedding(Graph)\n",
        "    lrnr = RandomForestClassifier(n_estimators=100, random_state=42) \n",
        "    lrnr.fit(X,y)\n",
        "    yyhat = lrnr.predict(XX)\n",
        "    df = pd.DataFrame({\n",
        "        'acc':[sklearn.metrics.accuracy_score(yy,yyhat)], \n",
        "        'pre':[sklearn.metrics.precision_score(yy,yyhat)], \n",
        "        'rec':[sklearn.metrics.recall_score(yy,yyhat)],\n",
        "        'f1':[sklearn.metrics.f1_score(yy,yyhat)]}\n",
        "    )    \n",
        "    return df\n",
        "\n",
        "def our_sampling1(df):\n",
        "    cus_list = set(df.query('is_fraud==1').cc_num.tolist())\n",
        "    return df.query(\"cc_num in @ cus_list\")"
      ],
      "id": "2774d96b-b24a-492b-a587-2815ff6e3ead"
    },
    {
      "cell_type": "code",
      "execution_count": 3,
      "metadata": {},
      "outputs": [],
      "source": [
        "fraudTrain = pd.read_csv(\"~/Desktop/fraudTrain.csv\").iloc[:,1:]"
      ],
      "id": "7021dc07-8a06-417b-9fb6-c71b2f05e5eb"
    },
    {
      "cell_type": "code",
      "execution_count": 4,
      "metadata": {},
      "outputs": [],
      "source": [
        "fraudTrain = fraudTrain.assign(trans_date_trans_time= list(map(lambda x: pd.to_datetime(x), fraudTrain.trans_date_trans_time)))\n",
        "fraudTrain"
      ],
      "id": "eb7a9b2b-f984-4bb0-b14b-e523a00d8d38"
    },
    {
      "cell_type": "markdown",
      "metadata": {},
      "source": [
        "## 시도"
      ],
      "id": "5800dbdb-088d-49f2-8e67-05f892baf544"
    },
    {
      "cell_type": "code",
      "execution_count": 5,
      "metadata": {},
      "outputs": [],
      "source": [
        "_df1 = fraudTrain[fraudTrain[\"is_fraud\"] == 0].sample(frac=0.20, random_state=42)\n",
        "_df2 = fraudTrain[fraudTrain[\"is_fraud\"] == 1]\n",
        "df02 = pd.concat([_df1,_df2])\n",
        "df02.shape"
      ],
      "id": "adec4c87-7a49-41dd-ba04-879643113486"
    },
    {
      "cell_type": "code",
      "execution_count": 6,
      "metadata": {},
      "outputs": [],
      "source": [
        "df50 = down_sample_textbook(df02)\n",
        "df50.shape"
      ],
      "id": "b1eab03c-9ee2-45e1-95a5-923642e8ce6f"
    },
    {
      "cell_type": "code",
      "execution_count": 15,
      "metadata": {},
      "outputs": [],
      "source": [
        "12012*12012"
      ],
      "id": "0d8983c1-b6c2-4331-9adf-14d799fb8460"
    },
    {
      "cell_type": "markdown",
      "metadata": {},
      "source": [
        "### 고려할 것(230810)\n",
        "\n",
        "-   df50 의 shape이 12000개 이므로 9000개의 T, 3000개의 F를 train mask로\n",
        "    만들자.\n",
        "\n",
        "-   고객정보가 동일하면 edge를 1로, 아니면 0으로 놓고 1에대한 weight를\n",
        "    만들자.\n",
        "\n",
        "-   g(V,E,W)에서의 weight"
      ],
      "id": "8efa31eb-a2db-446a-b7e2-43088559cc8a"
    },
    {
      "cell_type": "code",
      "execution_count": 7,
      "metadata": {},
      "outputs": [],
      "source": [
        "df50 = df50.reset_index()"
      ],
      "id": "4f3c12b1-433f-41ac-85c0-c42ae389ba60"
    },
    {
      "cell_type": "code",
      "execution_count": 10,
      "metadata": {},
      "outputs": [],
      "source": [
        "N = len(df50)"
      ],
      "id": "7cef7094-bd9b-43d1-a1c9-d4b1c9b4241c"
    },
    {
      "cell_type": "markdown",
      "metadata": {},
      "source": [
        "### 이건 weight?"
      ],
      "id": "8c327fa8-8201-4f47-a46d-4cc7c5748c83"
    },
    {
      "cell_type": "code",
      "execution_count": null,
      "metadata": {},
      "outputs": [],
      "source": [
        "edge_index_list = []\n",
        "for i in range(N):\n",
        "    for j in range(N):\n",
        "        time_difference = (df50['trans_date_trans_time'][i] - df50['trans_date_trans_time'][j]).total_seconds()\n",
        "        edge_index_list.append([i, j, time_difference])"
      ],
      "id": "acf610d7-7d28-429a-be47-f57879353a9d"
    },
    {
      "cell_type": "code",
      "execution_count": 14,
      "metadata": {},
      "outputs": [],
      "source": [
        "edge_index_list[:5]"
      ],
      "id": "d1333cbb-002f-4d9c-8864-a8660a541dd0"
    },
    {
      "cell_type": "code",
      "execution_count": 15,
      "metadata": {},
      "outputs": [],
      "source": [
        "np.save('edge_index_list_50.npy', edge_index_list)\n",
        "\n",
        "loaded_data = np.load('edge_index_list_50.npy')"
      ],
      "id": "22d6f9c3-43c3-4062-bac3-e1431ab0d2f4"
    },
    {
      "cell_type": "code",
      "execution_count": 16,
      "metadata": {},
      "outputs": [],
      "source": [
        "edge_index = np.array(edge_index_list)\n",
        "edge_index[:,2] = np.abs(edge_index[:,2])\n",
        "theta = edge_index[:,2].mean()\n",
        "theta"
      ],
      "id": "be311863-bf55-40a2-ae8d-d3c87e26a164"
    },
    {
      "cell_type": "code",
      "execution_count": 20,
      "metadata": {},
      "outputs": [],
      "source": [
        "edge_index[:,2] = (np.exp(-edge_index[:,2]/theta)!=1) * np.exp(-edge_index[:,2]/theta)\n",
        "edge_index"
      ],
      "id": "de4c0f1a-32df-4069-ae72-8ae6c06dbdb8"
    },
    {
      "cell_type": "code",
      "execution_count": 22,
      "metadata": {},
      "outputs": [],
      "source": [
        "edge_index[:,2]"
      ],
      "id": "8e7e9081-f842-45ef-bf33-7120091368ec"
    },
    {
      "cell_type": "markdown",
      "metadata": {},
      "source": [
        "Q. 그런데 밑에서 random으로 train하고 test로 나누게 되면.. wieght랑\n",
        "edge를 어떻게 적용시키지?\n",
        "\n",
        "### edge: 같은 cc_num이면 edge=1, 다르면 edge=0"
      ],
      "id": "82b2cae7-bcf8-49aa-9adb-d6eb625b041f"
    },
    {
      "cell_type": "code",
      "execution_count": 17,
      "metadata": {},
      "outputs": [],
      "source": [
        "edge_index_list2 = []\n",
        "for i in range(N):\n",
        "    for j in range(N):\n",
        "        if df50['cc_num'][i] != df50['cc_num'][j]:  \n",
        "            edge = 0\n",
        "        else:\n",
        "            edge = 1\n",
        "        edge_index_list2.append([i, j, edge])"
      ],
      "id": "a836d0e0-f2f7-4a91-a95b-16db33aeec4b"
    },
    {
      "cell_type": "code",
      "execution_count": 21,
      "metadata": {},
      "outputs": [],
      "source": [
        "np.save('edge_index_list2_50.npy', edge_index_list2)\n",
        "\n",
        "loaded_data = np.load('edge_index_list2_50.npy')"
      ],
      "id": "b78ca033-4f4a-44b8-91d8-b4e619f2b061"
    },
    {
      "cell_type": "code",
      "execution_count": 74,
      "metadata": {},
      "outputs": [],
      "source": [
        "edge_index_list2[:5]"
      ],
      "id": "ae0124c8-eea8-4f25-9573-eab9bb09b6d3"
    },
    {
      "cell_type": "code",
      "execution_count": 86,
      "metadata": {},
      "outputs": [],
      "source": [
        "edge_one = [(i, j) for i, j, edge in edge_index_list2 if edge == 1]\n",
        "edge_one[:5]"
      ],
      "id": "c2d19fd1-90ba-4ce3-b9f0-a69474db00c6"
    },
    {
      "cell_type": "code",
      "execution_count": 91,
      "metadata": {},
      "outputs": [],
      "source": [
        "len(edge_one)"
      ],
      "id": "e7bb848d-67a3-4d7b-964b-5924abfedf0a"
    },
    {
      "cell_type": "code",
      "execution_count": 92,
      "metadata": {},
      "outputs": [],
      "source": [
        "edge_one_index = torch.tensor(edge_one, dtype=torch.long).t()"
      ],
      "id": "d8686881-6093-4a7e-9913-a1d49cfea34b"
    },
    {
      "cell_type": "code",
      "execution_count": 93,
      "metadata": {},
      "outputs": [],
      "source": [
        "edge_one_index.shape"
      ],
      "id": "dde2c66a-a3af-4df7-b3b1-1dfd2a6ae67e"
    },
    {
      "cell_type": "markdown",
      "metadata": {},
      "source": [
        "> edge_list2를 만든다 해도.. 밑에서 다시 적용하려면 index가 달라지면\n",
        "> 못하ㅏ는거아닌가?\n",
        "\n",
        "------------------------------------------------------------------------\n",
        "\n",
        "### tr/test"
      ],
      "id": "454e347a-c5f3-4a4b-b3db-c579764a6d23"
    },
    {
      "cell_type": "code",
      "execution_count": 57,
      "metadata": {},
      "outputs": [],
      "source": [
        "df50_tr,df50_test = sklearn.model_selection.train_test_split(df50, random_state=42)"
      ],
      "id": "1746ec92-50c0-402d-8297-92cb67c718d5"
    },
    {
      "cell_type": "code",
      "execution_count": 58,
      "metadata": {},
      "outputs": [],
      "source": [
        "df50_tr.is_fraud.mean().round(5), df50_test.is_fraud.mean().round(5)"
      ],
      "id": "390c18d0-045c-4473-b1b2-3c8314cbdfbc"
    },
    {
      "cell_type": "code",
      "execution_count": 61,
      "metadata": {},
      "outputs": [],
      "source": [
        "df50_tr.shape, df50_test.shape"
      ],
      "id": "ba8e5c8a-e54e-4982-b4db-4e89f5239dfa"
    },
    {
      "cell_type": "code",
      "execution_count": 113,
      "metadata": {},
      "outputs": [
        {
          "output_type": "stream",
          "name": "stdout",
          "text": [
            "Train Mask: [ True  True  True ... False False False]\n",
            "Test Mask: [False False False ...  True  True  True]"
          ]
        }
      ],
      "source": [
        "train_mask = np.concatenate((np.full(9009, True), np.full(3003, False)))\n",
        "test_mask = np.concatenate((np.full(9009, False), np.full(3003, True)))\n",
        "print(\"Train Mask:\", train_mask)\n",
        "print(\"Test Mask:\", test_mask)"
      ],
      "id": "c7632cdd-a4fb-42dc-8c53-b5d731c5278d"
    },
    {
      "cell_type": "code",
      "execution_count": 204,
      "metadata": {},
      "outputs": [],
      "source": [
        "train_mask.shape, test_mask.shape"
      ],
      "id": "88aef965-27b8-4007-956b-b40583d8d5ce"
    },
    {
      "cell_type": "code",
      "execution_count": 205,
      "metadata": {},
      "outputs": [],
      "source": [
        "train_mask.sum(), test_mask.sum()"
      ],
      "id": "1211b810-0238-4256-b14c-00e44833cf9e"
    },
    {
      "cell_type": "markdown",
      "metadata": {},
      "source": [
        "> 여기서 tr/test를 나눠서 하는건 안될거같어.\n",
        "\n",
        "------------------------------------------------------------------------\n",
        "\n",
        "### data설정(x, edge_index, y)"
      ],
      "id": "1b17ccaa-5030-41c2-86c2-352b2b4efe30"
    },
    {
      "cell_type": "code",
      "execution_count": 163,
      "metadata": {},
      "outputs": [],
      "source": [
        "x = df50['amt']"
      ],
      "id": "88504d40-8829-4b6f-93ed-e5bebbf8e508"
    },
    {
      "cell_type": "code",
      "execution_count": 63,
      "metadata": {},
      "outputs": [],
      "source": [
        "a = torch.tensor(x, dtype=torch.float)"
      ],
      "id": "7a8d5ba3-9e58-4896-8ce2-62352b1b9175"
    },
    {
      "cell_type": "code",
      "execution_count": 64,
      "metadata": {},
      "outputs": [],
      "source": [
        "a = a.reshape(-1,1)\n",
        "a"
      ],
      "id": "b343eda7-3c52-4db9-9f51-131869d81378"
    },
    {
      "cell_type": "code",
      "execution_count": 65,
      "metadata": {},
      "outputs": [],
      "source": [
        "y = df50['is_fraud']"
      ],
      "id": "f2d16b59-91b5-4208-af59-6c7d017ab922"
    },
    {
      "cell_type": "code",
      "execution_count": 66,
      "metadata": {},
      "outputs": [],
      "source": [
        "b = torch.tensor(y,dtype=torch.int64)"
      ],
      "id": "da3d4c18-b449-4720-befe-e2ed89e1300e"
    },
    {
      "cell_type": "code",
      "execution_count": 67,
      "metadata": {},
      "outputs": [],
      "source": [
        "b"
      ],
      "id": "8866eb60-6989-46e0-9be9-16b1f3961c44"
    },
    {
      "cell_type": "code",
      "execution_count": 68,
      "metadata": {},
      "outputs": [],
      "source": [
        "import torch_geometric"
      ],
      "id": "1bd32099-d17d-4f16-ad61-8c8d79def338"
    },
    {
      "cell_type": "code",
      "execution_count": 138,
      "metadata": {},
      "outputs": [],
      "source": [
        "data = torch_geometric.data.Data(x=a, edge_index = edge_one_index, y=b, train_mask = train_mask, test_mask = test_mask)"
      ],
      "id": "5e204f74-b36f-4029-b15d-124dc2d18e24"
    },
    {
      "cell_type": "code",
      "execution_count": 139,
      "metadata": {},
      "outputs": [],
      "source": [
        "data"
      ],
      "id": "1ba154a6-c153-498a-8d49-f8be662eb34f"
    },
    {
      "cell_type": "markdown",
      "metadata": {},
      "source": [
        "흠 .. 위의 edge_index에서. 각각의 w를 어떻게 연산해주려나\n",
        "\n",
        "x랑 y의 순서를 무작위로 바꿔야하눈뎀. \\> 음 그럼 일단\n",
        "edge_one_index이거부터 또 다싷..?\n",
        "\n",
        "------------------------------------------------------------------------\n",
        "\n",
        "### data설정 다시?"
      ],
      "id": "c15e5f3c-def7-4b95-9e4d-7e39a837da95"
    },
    {
      "cell_type": "code",
      "execution_count": 178,
      "metadata": {},
      "outputs": [],
      "source": [
        "x = np.concatenate((np.array(df50_tr['amt']), np.array(df50_test['amt'])))"
      ],
      "id": "7f09206f-81a7-4e8d-8d25-8bd33e47dffd"
    },
    {
      "cell_type": "code",
      "execution_count": 179,
      "metadata": {},
      "outputs": [],
      "source": [
        "a = torch.tensor(x2, dtype=torch.float)"
      ],
      "id": "ce35d9ba-e2a5-48c5-a14f-f3b73010527e"
    },
    {
      "cell_type": "code",
      "execution_count": 180,
      "metadata": {},
      "outputs": [],
      "source": [
        "a = a.reshape(-1,1)\n",
        "a"
      ],
      "id": "ed28761d-c313-400f-86f1-ed6c71562db4"
    },
    {
      "cell_type": "code",
      "execution_count": 181,
      "metadata": {},
      "outputs": [],
      "source": [
        "y = np.concatenate((np.array(df50_tr['is_fraud']), np.array(df50_test['is_fraud'])))"
      ],
      "id": "add51a0e-af63-4073-b15f-971f42bf829b"
    },
    {
      "cell_type": "code",
      "execution_count": 182,
      "metadata": {},
      "outputs": [],
      "source": [
        "b = torch.tensor(y,dtype=torch.int64)"
      ],
      "id": "4e2a3705-72e2-454d-93d4-dffc47b20b61"
    },
    {
      "cell_type": "code",
      "execution_count": 183,
      "metadata": {},
      "outputs": [],
      "source": [
        "data = torch_geometric.data.Data(x=a, edge_index = edge_one_index, y=b, train_mask = train_mask, test_mask = test_mask)"
      ],
      "id": "0fd6897a-b218-4906-8a01-ef8084b8e846"
    },
    {
      "cell_type": "code",
      "execution_count": null,
      "metadata": {},
      "outputs": [],
      "source": [
        "바꿔버리면 .."
      ],
      "id": "751a4d4f-dcd9-4547-8240-ed16b33c9cb0"
    },
    {
      "cell_type": "markdown",
      "metadata": {},
      "source": [
        "------------------------------------------------------------------------\n",
        "\n",
        "### gnn"
      ],
      "id": "da3ef9bd-6c1a-492e-9be9-6293cffb8d92"
    },
    {
      "cell_type": "code",
      "execution_count": 198,
      "metadata": {
        "tags": []
      },
      "outputs": [],
      "source": [
        "\n",
        "\n",
        "import torch\n",
        "import torch.nn.functional as F\n",
        "from torch_geometric.nn import GCNConv\n",
        "\n",
        "class GCN(torch.nn.Module):\n",
        "    def __init__(self):\n",
        "        super().__init__()\n",
        "        self.conv1 = GCNConv(1, 16)\n",
        "        self.conv2 = GCNConv(16,2)\n",
        "\n",
        "    def forward(self, data):\n",
        "        x, edge_index = data.x, data.edge_index\n",
        "\n",
        "        x = self.conv1(x, edge_index)\n",
        "        x = F.relu(x)\n",
        "        x = F.dropout(x, training=self.training)\n",
        "        x = self.conv2(x, edge_index)\n",
        "\n",
        "        return F.log_softmax(x, dim=1)"
      ],
      "id": "a056670c-61d7-4056-ae60-e82896654ca3"
    },
    {
      "cell_type": "code",
      "execution_count": 199,
      "metadata": {},
      "outputs": [],
      "source": [
        "model = GCN()"
      ],
      "id": "23811540-0624-42f0-a5b0-fd103b022621"
    },
    {
      "cell_type": "code",
      "execution_count": 200,
      "metadata": {},
      "outputs": [],
      "source": [
        "model"
      ],
      "id": "46883b47-b447-4bc7-b853-27afb6d4e48a"
    },
    {
      "cell_type": "code",
      "execution_count": 201,
      "metadata": {},
      "outputs": [],
      "source": [
        "optimizer = torch.optim.Adam(model.parameters(), lr=0.01, weight_decay=5e-4)\n",
        "model.train()"
      ],
      "id": "80f5bb84-a21e-4a54-bb01-e3249488c2d4"
    },
    {
      "cell_type": "markdown",
      "metadata": {},
      "source": [
        "------------------------------------------------------------------------"
      ],
      "id": "afae287f-e6d5-4167-a315-b63f2a5a9036"
    },
    {
      "cell_type": "code",
      "execution_count": 188,
      "metadata": {},
      "outputs": [],
      "source": [
        "for epoch in range(200):\n",
        "    optimizer.zero_grad()\n",
        "    out = model(data)\n",
        "    loss = F.nll_loss(out[data.train_mask], data.y[data.train_mask])\n",
        "    loss.backward()\n",
        "    optimizer.step()"
      ],
      "id": "d02dd95d-4c9d-4baa-8e1c-ab2866bba701"
    },
    {
      "cell_type": "code",
      "execution_count": 189,
      "metadata": {},
      "outputs": [
        {
          "output_type": "stream",
          "name": "stdout",
          "text": [
            "Accuracy: 0.5758"
          ]
        }
      ],
      "source": [
        "model.eval()\n",
        "pred = model(data).argmax(dim=1)\n",
        "correct = (pred[data.test_mask] == data.y[data.test_mask]).sum()\n",
        "acc = int(correct) / int(data.test_mask.sum())\n",
        "print(f'Accuracy: {acc:.4f}')"
      ],
      "id": "00c231c6-cbd8-424c-8b19-d113472a6954"
    },
    {
      "cell_type": "code",
      "execution_count": 191,
      "metadata": {},
      "outputs": [],
      "source": [
        "out[data.train_mask]"
      ],
      "id": "4376fa3b-fc95-4cbb-99e3-b56506a45f1c"
    },
    {
      "cell_type": "code",
      "execution_count": 193,
      "metadata": {},
      "outputs": [],
      "source": [
        "data.y[data.train_mask].sum()"
      ],
      "id": "db258155-1629-4ed3-b953-ee0753cd0dba"
    },
    {
      "cell_type": "code",
      "execution_count": 194,
      "metadata": {},
      "outputs": [],
      "source": [
        "data.test_mask.sum()"
      ],
      "id": "a6702353-a71a-4b2f-9f5e-631d468875e7"
    },
    {
      "cell_type": "code",
      "execution_count": 196,
      "metadata": {},
      "outputs": [],
      "source": [
        "correct/3003"
      ],
      "id": "e38c6ac4-5c3f-4ecc-986c-c32334c32fee"
    },
    {
      "cell_type": "markdown",
      "metadata": {},
      "source": [
        "------------------------------------------------------------------------\n",
        "\n",
        "------------------------------------------------------------------------"
      ],
      "id": "b2612777-8f62-4cd5-addc-7d7e06906e4e"
    },
    {
      "cell_type": "code",
      "execution_count": null,
      "metadata": {},
      "outputs": [],
      "source": [
        "\n"
      ],
      "id": "a66926cf-08cb-4cb8-a1cd-f15bcaa22aa3"
    },
    {
      "cell_type": "code",
      "execution_count": 135,
      "metadata": {},
      "outputs": [
        {
          "output_type": "stream",
          "name": "stdout",
          "text": [
            "Accuracy: 0.9325"
          ]
        }
      ],
      "source": [
        "model.eval()\n",
        "pred = model(data).argmax(dim=1)\n",
        "correct = (pred == data.y).sum() # 애큐러시는 test\n",
        "acc = int(correct) / 9009\n",
        "print(f'Accuracy: {acc:.4f}')"
      ],
      "id": "b06fad3c-7036-44df-b14e-6ae3f8b83a00"
    },
    {
      "cell_type": "markdown",
      "metadata": {},
      "source": [
        "### 고려할 것(230810)2\n",
        "\n",
        "-   현재 df50의 fraud 비율은 5:5 인데, 다른 비율을 가진 데이터로도\n",
        "    해보자\n",
        "\n",
        "-   GNN으로 돌려본 것과 다른 방법들과 비교를 해보자\n",
        "\n",
        "-   undersampling한 다른 데이터들과 비교해 볼 수 있을 듯(boost, logis,\n",
        "    …)\n",
        "\n",
        "-   9000/3000 데이터를 통해 합성 데이터를 만드는데, 12000개를 그대로\n",
        "    만드는 방법, 고객별로(cc_num) 합성 데이터를 만드는 방법, 똑같은\n",
        "    cc_num로 특이한 데이터가 있다면 normal데이터와 특이 데이터를\n",
        "    생각해서 돌리는 방법 등을 고려하자."
      ],
      "id": "c1c01622-ede4-4dd5-97dc-13c4815aa87b"
    },
    {
      "cell_type": "code",
      "execution_count": 32,
      "metadata": {},
      "outputs": [],
      "source": [
        "edge_index = np.array(edge_index_list)"
      ],
      "id": "3241c7c3-f884-41c2-b6f7-ceabf5ec2db4"
    },
    {
      "cell_type": "code",
      "execution_count": 33,
      "metadata": {},
      "outputs": [],
      "source": [
        "edge_index.shape"
      ],
      "id": "0d9fbf10-bd2a-4f20-b81e-72d3883583f5"
    },
    {
      "cell_type": "code",
      "execution_count": 34,
      "metadata": {},
      "outputs": [],
      "source": [
        "edge_index[:,2] = np.abs(edge_index[:,2])"
      ],
      "id": "fb850e8c-c5cc-4448-9bee-90cfed6b7fce"
    },
    {
      "cell_type": "code",
      "execution_count": 35,
      "metadata": {},
      "outputs": [],
      "source": [
        "theta = edge_index[:,2].mean()\n",
        "theta"
      ],
      "id": "b697e389-0761-4a18-8fde-b316275cb31c"
    },
    {
      "cell_type": "code",
      "execution_count": 36,
      "metadata": {},
      "outputs": [],
      "source": [
        "edge_index[:,2] = (np.exp(-edge_index[:,2]/theta)!=1) * np.exp(-edge_index[:,2]/theta)"
      ],
      "id": "041de342-6e42-4147-82e5-db6f26977a73"
    },
    {
      "cell_type": "code",
      "execution_count": 37,
      "metadata": {},
      "outputs": [],
      "source": [
        "edge_index"
      ],
      "id": "55ef9411-1e70-4551-a3d1-841810c24a28"
    },
    {
      "cell_type": "code",
      "execution_count": 159,
      "metadata": {},
      "outputs": [],
      "source": [
        "eee = edge_index[:,:]"
      ],
      "id": "d3a56010-e4fb-4d0c-9946-c76bf7f50afd"
    },
    {
      "cell_type": "code",
      "execution_count": 161,
      "metadata": {},
      "outputs": [],
      "source": [
        "eee[:,1]"
      ],
      "id": "8a5885b9-b2c7-4352-b288-3658a605d8dc"
    },
    {
      "cell_type": "code",
      "execution_count": 38,
      "metadata": {},
      "outputs": [],
      "source": [
        "edge_index_list_updated = edge_index.tolist()"
      ],
      "id": "6a8bcc96-6de0-4a6a-abba-7862a1271a58"
    },
    {
      "cell_type": "code",
      "execution_count": 39,
      "metadata": {},
      "outputs": [],
      "source": [
        "edge_index_list_updated[:5]"
      ],
      "id": "e6f4bcd2-97e8-4cbf-bddc-8f9f4125960e"
    },
    {
      "cell_type": "markdown",
      "metadata": {},
      "source": [
        "-   cc_num로 그룹별로 묶자."
      ],
      "id": "d8ec8813-a4cc-4e44-88a7-fe1602e06479"
    },
    {
      "cell_type": "code",
      "execution_count": 23,
      "metadata": {},
      "outputs": [],
      "source": [
        "edge_index = np.array(edge_index_list)"
      ],
      "id": "3e030499-3306-4a6b-ae9b-6f143adbf2f2"
    },
    {
      "cell_type": "code",
      "execution_count": 24,
      "metadata": {},
      "outputs": [],
      "source": [
        "edge_index.shape"
      ],
      "id": "c8fa09d1-0195-4545-9045-d4793bd13232"
    },
    {
      "cell_type": "code",
      "execution_count": 25,
      "metadata": {},
      "outputs": [],
      "source": [
        "edge_index"
      ],
      "id": "e580e97f-74e4-4283-b3fd-96d9f76ec569"
    },
    {
      "cell_type": "code",
      "execution_count": 26,
      "metadata": {},
      "outputs": [],
      "source": [
        "edge_index[:,2] = np.abs(edge_index[:,2])"
      ],
      "id": "f0e843e1-6631-47e6-b336-0a2929b45c72"
    },
    {
      "cell_type": "code",
      "execution_count": 27,
      "metadata": {},
      "outputs": [],
      "source": [
        "theta = edge_index[:,2].mean()\n",
        "theta"
      ],
      "id": "710d65ef-adac-4519-be26-c155cf3bb1b5"
    },
    {
      "cell_type": "code",
      "execution_count": 28,
      "metadata": {},
      "outputs": [],
      "source": [
        "edge_index"
      ],
      "id": "e9c57e46-f1c7-4ea3-ad8b-4c022ef6cbc8"
    },
    {
      "cell_type": "code",
      "execution_count": 29,
      "metadata": {},
      "outputs": [],
      "source": [
        "edge_index[:,2] = (np.exp(-edge_index[:,2]/theta)!=1) * np.exp(-edge_index[:,2]/theta)"
      ],
      "id": "74e5c3d5-2ce5-4d4c-90bb-065f5ecfa73e"
    },
    {
      "cell_type": "code",
      "execution_count": 30,
      "metadata": {},
      "outputs": [],
      "source": [
        "edge_index"
      ],
      "id": "e3dc891e-744f-4377-b7a9-9cf57422e34b"
    },
    {
      "cell_type": "code",
      "execution_count": 31,
      "metadata": {},
      "outputs": [],
      "source": [
        "edge_index_list_updated = edge_index.tolist()"
      ],
      "id": "98d41435-adba-451e-afb8-22f90266b0b4"
    },
    {
      "cell_type": "code",
      "execution_count": 32,
      "metadata": {},
      "outputs": [],
      "source": [
        "np.array(edge_index_list_updated)[:,2].mean()"
      ],
      "id": "57fa2122-0cfe-42c5-864c-abb6dfadffc4"
    },
    {
      "cell_type": "code",
      "execution_count": 33,
      "metadata": {},
      "outputs": [],
      "source": [
        "mm = np.array(edge_index_list_updated)[:,2].mean()"
      ],
      "id": "b9dfb42f-5095-4caa-92ba-8043028893ab"
    },
    {
      "cell_type": "markdown",
      "metadata": {},
      "source": [
        "edge_index_list_updated가 w"
      ],
      "id": "55214ecc-17a7-4c2a-8a3d-5957e54e3d90"
    },
    {
      "cell_type": "code",
      "execution_count": 34,
      "metadata": {},
      "outputs": [],
      "source": [
        "selected_edges = [(int(row[0]), int(row[1])) for row in edge_index_list_updated if row[2] > mm]"
      ],
      "id": "afaa3794-c769-4869-9e7a-0dcdff9e5f0c"
    },
    {
      "cell_type": "code",
      "execution_count": 35,
      "metadata": {},
      "outputs": [],
      "source": [
        "edge_index_selected = torch.tensor(selected_edges, dtype=torch.long).t()"
      ],
      "id": "b6dad5d8-aecf-4395-87e0-253da5b8173e"
    },
    {
      "cell_type": "code",
      "execution_count": 36,
      "metadata": {},
      "outputs": [],
      "source": [
        "edge_index_selected.shape"
      ],
      "id": "be2be660-58d4-4347-86f3-8ac70453ae3b"
    },
    {
      "cell_type": "code",
      "execution_count": 59,
      "metadata": {},
      "outputs": [],
      "source": [
        "edge_index"
      ],
      "id": "f36bafc0-04dd-401e-83d9-1acd70ce9a7f"
    },
    {
      "cell_type": "markdown",
      "metadata": {},
      "source": [
        "`-` pyg lesson6"
      ],
      "id": "2193d676-dade-478d-89d6-9920925973dc"
    },
    {
      "cell_type": "code",
      "execution_count": 49,
      "metadata": {},
      "outputs": [],
      "source": [
        "gconv = torch_geometric.nn.GCNConv(1,4)\n",
        "gconv"
      ],
      "id": "ac0dea74-18f7-4de9-a077-9796147193ac"
    },
    {
      "cell_type": "code",
      "execution_count": 50,
      "metadata": {},
      "outputs": [],
      "source": [
        "gconv(data.x, data.edge_index)"
      ],
      "id": "8f270790-9bbc-4c52-92ac-5f2ed7ec50bc"
    },
    {
      "cell_type": "code",
      "execution_count": 51,
      "metadata": {},
      "outputs": [],
      "source": [
        "list(gconv.parameters())"
      ],
      "id": "da14fa5d-4ac4-4e7e-9159-a8355a876750"
    },
    {
      "cell_type": "code",
      "execution_count": 203,
      "metadata": {},
      "outputs": [],
      "source": [
        "_,W = list(gconv.parameters())\n",
        "W"
      ],
      "id": "47ff23f8-125c-4a6d-abbf-7d176cdbaa89"
    },
    {
      "cell_type": "markdown",
      "metadata": {},
      "source": [
        "`-` pyg lesson5"
      ],
      "id": "d57db349-a246-4b5b-a9d5-0d62e0c35c2f"
    },
    {
      "cell_type": "code",
      "execution_count": 53,
      "metadata": {},
      "outputs": [],
      "source": [
        "import torch\n",
        "import torch.nn.functional as F\n",
        "from torch_geometric.nn import GCNConv\n",
        "\n",
        "class GCN(torch.nn.Module):\n",
        "    def __init__(self):\n",
        "        super().__init__()\n",
        "        self.conv1 = GCNConv(1, 16)\n",
        "        self.conv2 = GCNConv(16,2)\n",
        "\n",
        "    def forward(self, data):\n",
        "        x, edge_index = data.x, data.edge_index\n",
        "\n",
        "        x = self.conv1(x, edge_index)\n",
        "        x = F.relu(x)\n",
        "        x = F.dropout(x, training=self.training)\n",
        "        x = self.conv2(x, edge_index)\n",
        "\n",
        "        return F.log_softmax(x, dim=1)"
      ],
      "id": "b471cf53-70de-41a9-a26f-cfc148ae311f"
    },
    {
      "cell_type": "code",
      "execution_count": 54,
      "metadata": {},
      "outputs": [],
      "source": [
        "model = GCN()"
      ],
      "id": "8adecd9c-d973-44af-b151-db488c47c9c8"
    },
    {
      "cell_type": "code",
      "execution_count": 55,
      "metadata": {},
      "outputs": [],
      "source": [
        "model"
      ],
      "id": "171d091b-03a3-420b-851a-209001030dbd"
    },
    {
      "cell_type": "code",
      "execution_count": 57,
      "metadata": {},
      "outputs": [],
      "source": [
        "optimizer = torch.optim.Adam(model.parameters(), lr=0.01, weight_decay=5e-4)\n",
        "model.train()"
      ],
      "id": "5550ba8c-ab9a-4a4f-ac36-eeaf423439ff"
    },
    {
      "cell_type": "code",
      "execution_count": 61,
      "metadata": {},
      "outputs": [],
      "source": [
        "out"
      ],
      "id": "fff5335f-d971-4fed-8ed7-83ad50beb453"
    },
    {
      "cell_type": "code",
      "execution_count": 62,
      "metadata": {},
      "outputs": [],
      "source": [
        "data.y"
      ],
      "id": "4c7449cb-14be-44fc-b93f-bb4e2e6e440f"
    },
    {
      "cell_type": "code",
      "execution_count": 64,
      "metadata": {},
      "outputs": [],
      "source": [
        "for epoch in range(200):\n",
        "    optimizer.zero_grad()\n",
        "    out = model(data)\n",
        "    loss = F.nll_loss(out, data.y)\n",
        "    loss.backward()\n",
        "    optimizer.step()"
      ],
      "id": "75e9e922-27dc-4197-b09a-b35a93d0679e"
    },
    {
      "cell_type": "code",
      "execution_count": 66,
      "metadata": {},
      "outputs": [
        {
          "output_type": "stream",
          "name": "stdout",
          "text": [
            "Accuracy: 0.9633"
          ]
        }
      ],
      "source": [
        "model.eval()\n",
        "pred = model(data).argmax(dim=1)\n",
        "correct = (pred == data.y).sum() # 애큐러시는 test\n",
        "acc = int(correct) / 9009\n",
        "print(f'Accuracy: {acc:.4f}')"
      ],
      "id": "1f3d107c-d20e-43f2-aa0d-0cc466ffc409"
    },
    {
      "cell_type": "code",
      "execution_count": 73,
      "metadata": {},
      "outputs": [],
      "source": [
        "fraud_mask = (data.y == 1)"
      ],
      "id": "846a9ce7-7cd0-4019-b7ae-61c4b7c70e9b"
    },
    {
      "cell_type": "code",
      "execution_count": 77,
      "metadata": {},
      "outputs": [
        {
          "output_type": "stream",
          "name": "stdout",
          "text": [
            "recall: 0.9619"
          ]
        }
      ],
      "source": [
        "model.eval()\n",
        "pred = model(data).argmax(dim=1)\n",
        "correct = (pred[fraud_mask] == data.y[fraud_mask]).sum() # 애큐러시는 test\n",
        "acc = int(correct) / int(fraud_mask.sum())\n",
        "print(f'recall: {acc:.4f}')"
      ],
      "id": "b52a5f5e-0156-4b3f-993c-71584f4da4aa"
    },
    {
      "cell_type": "markdown",
      "metadata": {},
      "source": [
        "-   위의 recall은 test가 없어서 train으로만 했던 거..!"
      ],
      "id": "1a58c22c-e8a8-471f-b611-8157d7aefdd7"
    }
  ],
  "nbformat": 4,
  "nbformat_minor": 5,
  "metadata": {
    "kernelspec": {
      "name": "python3",
      "display_name": "Python 3 (ipykernel)",
      "language": "python"
    },
    "language_info": {
      "name": "python",
      "codemirror_mode": {
        "name": "ipython",
        "version": "3"
      },
      "file_extension": ".py",
      "mimetype": "text/x-python",
      "nbconvert_exporter": "python",
      "pygments_lexer": "ipython3",
      "version": "3.8.16"
    }
  }
}