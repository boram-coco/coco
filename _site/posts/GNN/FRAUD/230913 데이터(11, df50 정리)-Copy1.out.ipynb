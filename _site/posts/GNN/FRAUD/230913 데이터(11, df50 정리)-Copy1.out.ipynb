{
  "cells": [
    {
      "cell_type": "markdown",
      "metadata": {},
      "source": [
        "# **\\[FRAUD\\]** 데이터정리 시도(df50다른것들 시드고정)\n",
        "\n",
        "김보람  \n",
        "2023-09-18\n",
        "\n",
        "# imports"
      ],
      "id": "821a89b6-f7fe-4e07-86c0-100ef540f580"
    },
    {
      "cell_type": "code",
      "execution_count": 1,
      "metadata": {},
      "outputs": [
        {
          "output_type": "stream",
          "name": "stderr",
          "text": [
            "/home/coco/anaconda3/envs/py38/lib/python3.8/site-packages/torch_geometric/typing.py:18: UserWarning: An issue occurred while importing 'pyg-lib'. Disabling its usage. Stacktrace: /home/coco/anaconda3/envs/py38/lib/python3.8/site-packages/libpyg.so: undefined symbol: _ZN2at4_ops12split_Tensor4callERKNS_6TensorEN3c106SymIntEl\n",
            "  warnings.warn(f\"An issue occurred while importing 'pyg-lib'. \"\n",
            "/home/coco/anaconda3/envs/py38/lib/python3.8/site-packages/torch_geometric/typing.py:31: UserWarning: An issue occurred while importing 'torch-scatter'. Disabling its usage. Stacktrace: /home/coco/anaconda3/envs/py38/lib/python3.8/site-packages/torch_scatter/_scatter_cuda.so: undefined symbol: _ZNK3c107SymBool10guard_boolEPKcl\n",
            "  warnings.warn(f\"An issue occurred while importing 'torch-scatter'. \"\n",
            "/home/coco/anaconda3/envs/py38/lib/python3.8/site-packages/torch_geometric/typing.py:42: UserWarning: An issue occurred while importing 'torch-sparse'. Disabling its usage. Stacktrace: /home/coco/anaconda3/envs/py38/lib/python3.8/site-packages/torch_sparse/_diag_cuda.so: undefined symbol: _ZN3c106detail19maybe_wrap_dim_slowIlEET_S2_S2_b\n",
            "  warnings.warn(f\"An issue occurred while importing 'torch-sparse'. \""
          ]
        }
      ],
      "source": [
        "import numpy as np\n",
        "import pandas as pd\n",
        "import matplotlib.pyplot as plt \n",
        "import networkx as nx\n",
        "import sklearn\n",
        "import xgboost as xgb\n",
        "\n",
        "# sklearn\n",
        "from sklearn import model_selection # split함수이용\n",
        "from sklearn import ensemble # RF,GBM\n",
        "from sklearn import metrics\n",
        "from sklearn.metrics import precision_score, recall_score, f1_score\n",
        "from sklearn.svm import SVC\n",
        "from sklearn.ensemble import RandomForestClassifier\n",
        "from sklearn.naive_bayes import GaussianNB\n",
        "\n",
        "# gnn\n",
        "import torch\n",
        "import torch.nn.functional as F\n",
        "import torch_geometric\n",
        "from torch_geometric.nn import GCNConv\n",
        "\n"
      ],
      "id": "4eb91738-6398-4ffc-bbec-fc48fcc8f249"
    },
    {
      "cell_type": "code",
      "execution_count": 2,
      "metadata": {},
      "outputs": [],
      "source": [
        "def down_sample_textbook(df):\n",
        "    df_majority = df[df.is_fraud==0].copy()\n",
        "    df_minority = df[df.is_fraud==1].copy()\n",
        "    df_maj_dowsampled = sklearn.utils.resample(df_majority, n_samples=len(df_minority), replace=False, random_state=42)\n",
        "    df_downsampled = pd.concat([df_minority, df_maj_dowsampled])\n",
        "    return df_downsampled\n",
        "\n",
        "def compute_time_difference(group):\n",
        "    n = len(group)\n",
        "    result = []\n",
        "    for i in range(n):\n",
        "        for j in range(n):\n",
        "            time_difference = abs(group.iloc[i].trans_date_trans_time.value - group.iloc[j].trans_date_trans_time.value)\n",
        "            result.append([group.iloc[i].name, group.iloc[j].name, time_difference])\n",
        "    return result\n",
        "\n",
        "\n",
        "class GCN(torch.nn.Module):\n",
        "    def __init__(self):\n",
        "        super().__init__()\n",
        "        self.conv1 = GCNConv(1, 16)\n",
        "        self.conv2 = GCNConv(16,2)\n",
        "\n",
        "    def forward(self, data):\n",
        "        x, edge_index = data.x, data.edge_index\n",
        "\n",
        "        x = self.conv1(x, edge_index)\n",
        "        x = F.relu(x)\n",
        "        x = F.dropout(x, training=self.training)\n",
        "        x = self.conv2(x, edge_index)\n",
        "\n",
        "        return F.log_softmax(x, dim=1)"
      ],
      "id": "2774d96b-b24a-492b-a587-2815ff6e3ead"
    },
    {
      "cell_type": "code",
      "execution_count": 3,
      "metadata": {},
      "outputs": [],
      "source": [
        "fraudTrain = pd.read_csv(\"~/Desktop/fraudTrain.csv\").iloc[:,1:]"
      ],
      "id": "7021dc07-8a06-417b-9fb6-c71b2f05e5eb"
    },
    {
      "cell_type": "code",
      "execution_count": 4,
      "metadata": {},
      "outputs": [],
      "source": [
        "fraudTrain = fraudTrain.assign(trans_date_trans_time= list(map(lambda x: pd.to_datetime(x), fraudTrain.trans_date_trans_time)))\n",
        "fraudTrain"
      ],
      "id": "eb7a9b2b-f984-4bb0-b14b-e523a00d8d38"
    },
    {
      "cell_type": "markdown",
      "metadata": {},
      "source": [
        "## 데이터정리"
      ],
      "id": "58f527fc-fde4-4b5e-94fb-dc300aad3eb6"
    },
    {
      "cell_type": "code",
      "execution_count": 5,
      "metadata": {},
      "outputs": [],
      "source": [
        "_df1 = fraudTrain[fraudTrain[\"is_fraud\"] == 0].sample(frac=0.20, random_state=42)\n",
        "_df2 = fraudTrain[fraudTrain[\"is_fraud\"] == 1]\n",
        "df02 = pd.concat([_df1,_df2])\n",
        "df02.shape"
      ],
      "id": "adec4c87-7a49-41dd-ba04-879643113486"
    },
    {
      "cell_type": "code",
      "execution_count": 6,
      "metadata": {},
      "outputs": [],
      "source": [
        "df50 = down_sample_textbook(df02)\n",
        "df50 = df50.reset_index()\n",
        "df50.shape"
      ],
      "id": "b1eab03c-9ee2-45e1-95a5-923642e8ce6f"
    },
    {
      "cell_type": "markdown",
      "metadata": {},
      "source": [
        "------------------------------------------------------------------------\n",
        "\n",
        "### tr/test"
      ],
      "id": "77cdd6ec-7dcd-4dfe-a2e6-82c4d6ad98d5"
    },
    {
      "cell_type": "code",
      "execution_count": 7,
      "metadata": {},
      "outputs": [],
      "source": [
        "df50_tr,df50_test = sklearn.model_selection.train_test_split(df50, random_state=42)\n",
        "df50_tr.shape, df50_test.shape"
      ],
      "id": "1746ec92-50c0-402d-8297-92cb67c718d5"
    },
    {
      "cell_type": "code",
      "execution_count": 8,
      "metadata": {},
      "outputs": [],
      "source": [
        "N = len(df50)\n",
        "train_mask = [i in df50_tr.index for i in range(N)]\n",
        "test_mask = [i in df50_test.index for i in range(N)]\n",
        "train_mask = np.array(train_mask)\n",
        "test_mask = np.array(test_mask)\n",
        "train_mask.sum(), test_mask.sum()"
      ],
      "id": "96e898a3-0f22-4e14-9c7b-96aac384fbeb"
    },
    {
      "cell_type": "code",
      "execution_count": 9,
      "metadata": {},
      "outputs": [],
      "source": [
        "train_mask.shape, test_mask.shape"
      ],
      "id": "e3b4a6c0-ae78-4601-9684-2eb876661e36"
    },
    {
      "cell_type": "markdown",
      "metadata": {},
      "source": [
        "------------------------------------------------------------------------\n",
        "\n",
        "### edge_index 설정"
      ],
      "id": "a561d4ea-092a-41ca-ba6a-85921d68e767"
    },
    {
      "cell_type": "code",
      "execution_count": 10,
      "metadata": {},
      "outputs": [],
      "source": [
        "# groups = df50.groupby('cc_num')\n",
        "# edge_index_list_plus = [compute_time_difference(group) for _, group in groups]\n",
        "# edge_index_list_plus_flat = [item for sublist in edge_index_list_plus for item in sublist]\n",
        "# edge_index_list_plus_nparr = np.array(edge_index_list_plus_flat)\n",
        "# np.save('edge_index_list_plus50.npy', edge_index_list_plus_nparr)"
      ],
      "id": "4b6f1a43-7569-4252-9e13-206b2fbc7e47"
    },
    {
      "cell_type": "code",
      "execution_count": 11,
      "metadata": {},
      "outputs": [],
      "source": [
        "edge_index = np.load('edge_index_list_plus50.npy')\n",
        "edge_index.shape"
      ],
      "id": "d21b94dd-4792-441b-a6e4-fbec20fde9dc"
    },
    {
      "cell_type": "code",
      "execution_count": 12,
      "metadata": {},
      "outputs": [],
      "source": [
        "theta = edge_index[:,2].mean()\n",
        "edge_index = np.load('edge_index_list_plus50.npy').astype(np.float64)\n",
        "edge_index[:,2] = (np.exp(-edge_index[:,2]/theta) != 1)*(np.exp(-edge_index[:,2]/theta))\n",
        "edge_index = edge_index.tolist()\n",
        "mean_ = np.array(edge_index)[:,2].mean()\n",
        "mean_"
      ],
      "id": "e8664d91-4590-47bd-9340-dd1c5946091d"
    },
    {
      "cell_type": "code",
      "execution_count": 13,
      "metadata": {},
      "outputs": [],
      "source": [
        "edge_index[:5]"
      ],
      "id": "58cddc91-9e66-457e-8dd6-e70443fb4630"
    },
    {
      "cell_type": "code",
      "execution_count": 14,
      "metadata": {},
      "outputs": [],
      "source": [
        "selected_edges = [(int(row[0]), int(row[1])) for row in edge_index if row[2] > mean_]\n",
        "edge_index_selected = torch.tensor(selected_edges, dtype=torch.long).t()\n",
        "edge_index_selected.shape"
      ],
      "id": "38c9ccd2-aaaf-40ce-9bb9-c48334d57791"
    },
    {
      "cell_type": "markdown",
      "metadata": {},
      "source": [
        "------------------------------------------------------------------------\n",
        "\n",
        "### data설정(x, edge_index, y)"
      ],
      "id": "f0e0d6a1-3fdf-450b-9e9d-92b70089065c"
    },
    {
      "cell_type": "code",
      "execution_count": 15,
      "metadata": {},
      "outputs": [],
      "source": [
        "x = torch.tensor(df50['amt'], dtype=torch.float).reshape(-1,1)\n",
        "y = torch.tensor(df50['is_fraud'],dtype=torch.int64)\n",
        "data = torch_geometric.data.Data(x=x, edge_index = edge_index_selected, y=y, train_mask = train_mask, test_mask = test_mask)\n",
        "data"
      ],
      "id": "cbb02622-2bd3-40d0-abd1-aac0fbd2b152"
    },
    {
      "cell_type": "markdown",
      "metadata": {},
      "source": [
        "------------------------------------------------------------------------\n",
        "\n",
        "# 정리\n",
        "\n",
        "| 구분  | Train   | Test      | 모형          | 설명변수 | 비고 |\n",
        "|-------|---------|-----------|---------------|----------|------|\n",
        "| 분석1 | df50_tr | df50_test | GNN           | amt      |      |\n",
        "| 분석2 | df50_tr | df50_test | 로지스틱 회귀 | amt      |      |\n",
        "| 분석3 | df50_tr | df50_test | SVM           | amt      |      |\n",
        "| 분석4 | df50_tr | df50_test | 랜덤포레스트  | amt      |      |\n",
        "| 분석5 | df50_tr | df50_test | 부스팅        | amt      |      |\n",
        "| 분석6 | df50_tr | df50_test | Naive Bayes   | amt      |      |"
      ],
      "id": "b2cffe51-ba78-469a-8cb7-4471f85975d7"
    },
    {
      "cell_type": "code",
      "execution_count": 46,
      "metadata": {},
      "outputs": [],
      "source": [
        "lst = [_results1, _results2,_results3,_results4,_results5, _results6]\n",
        "pd.concat(lst)"
      ],
      "id": "81169630-00fe-4978-8223-c0661f1759c9"
    },
    {
      "cell_type": "markdown",
      "metadata": {},
      "source": [
        "------------------------------------------------------------------------\n",
        "\n",
        "## 분석 1(GNN)"
      ],
      "id": "9017dc99-55ec-4eef-a4d8-1ccd85102035"
    },
    {
      "cell_type": "code",
      "execution_count": 16,
      "metadata": {},
      "outputs": [],
      "source": [
        "torch.manual_seed(202250926)"
      ],
      "id": "582820b7-95e6-466a-ac72-7a216f41623a"
    },
    {
      "cell_type": "code",
      "execution_count": 17,
      "metadata": {},
      "outputs": [],
      "source": [
        "X = (data.x[data.train_mask]).numpy()\n",
        "XX = (data.x[data.test_mask]).numpy()\n",
        "y = (data.y[data.train_mask]).numpy()\n",
        "yy = (data.y[data.test_mask]).numpy()"
      ],
      "id": "b458e1df-ba6e-411c-bf97-dbab6ae72485"
    },
    {
      "cell_type": "code",
      "execution_count": 18,
      "metadata": {},
      "outputs": [],
      "source": [
        "model = GCN()\n",
        "optimizer = torch.optim.Adam(model.parameters(), lr=0.01, weight_decay=5e-4)\n",
        "model.train()\n",
        "for epoch in range(400):\n",
        "    optimizer.zero_grad()\n",
        "    out = model(data)\n",
        "    loss = F.nll_loss(out[data.train_mask], data.y[data.train_mask])\n",
        "    loss.backward()\n",
        "    optimizer.step()\n",
        "model.eval()"
      ],
      "id": "d02dd95d-4c9d-4baa-8e1c-ab2866bba701"
    },
    {
      "cell_type": "code",
      "execution_count": 19,
      "metadata": {},
      "outputs": [],
      "source": [
        "pred = model(data).argmax(dim=1)\n",
        "yyhat = pred[data.test_mask]"
      ],
      "id": "a97ecbec-64dd-40cc-8d55-e8659c4fe5fb"
    },
    {
      "cell_type": "code",
      "execution_count": 20,
      "metadata": {},
      "outputs": [],
      "source": [
        "metrics = [sklearn.metrics.accuracy_score,\n",
        "           sklearn.metrics.precision_score,\n",
        "           sklearn.metrics.recall_score,\n",
        "           sklearn.metrics.f1_score]"
      ],
      "id": "33a5204e-0be6-4b92-8b25-e1af423a1b26"
    },
    {
      "cell_type": "code",
      "execution_count": 21,
      "metadata": {},
      "outputs": [],
      "source": [
        "_results1= pd.DataFrame({m.__name__:[m(yy,yyhat).round(6)] for m in metrics},index=['분석1'])\n",
        "_results1"
      ],
      "id": "cdb98e1f-2035-4d69-9230-785a65b4e96c"
    },
    {
      "cell_type": "markdown",
      "metadata": {},
      "source": [
        "------------------------------------------------------------------------\n",
        "\n",
        "## 분석2(로지스틱 회귀)"
      ],
      "id": "e785c995-a040-45db-9f20-75b4d5e5f63a"
    },
    {
      "cell_type": "code",
      "execution_count": 22,
      "metadata": {},
      "outputs": [],
      "source": [
        "X = np.array(df50_tr.loc[:,['amt']])\n",
        "XX = np.array(df50_test.loc[:,['amt']])\n",
        "y = np.array(df50_tr.is_fraud)\n",
        "yy = np.array(df50_test.is_fraud)"
      ],
      "id": "ea06ac11-0cd0-4038-8994-6fcf7c80aa1f"
    },
    {
      "cell_type": "code",
      "execution_count": 23,
      "metadata": {},
      "outputs": [],
      "source": [
        "lrnr = sklearn.linear_model.LogisticRegression()"
      ],
      "id": "36e3c701-9f06-450a-b9e0-dfcb45376a56"
    },
    {
      "cell_type": "code",
      "execution_count": 24,
      "metadata": {},
      "outputs": [],
      "source": [
        "lrnr.fit(X,y)"
      ],
      "id": "5e5a71b3-1be7-4196-8f45-e6679297f211"
    },
    {
      "cell_type": "code",
      "execution_count": 25,
      "metadata": {},
      "outputs": [],
      "source": [
        "#thresh = y.mean()\n",
        "#yyhat = (lrnr.predict_proba(XX)> thresh)[:,-1]\n",
        "yyhat = lrnr.predict(XX) "
      ],
      "id": "955bd273-0f31-4584-8376-594628f08604"
    },
    {
      "cell_type": "code",
      "execution_count": 26,
      "metadata": {},
      "outputs": [],
      "source": [
        "yyhat"
      ],
      "id": "8d9c6f7b-99cb-4b00-acf1-0f1b1e711fb8"
    },
    {
      "cell_type": "code",
      "execution_count": 27,
      "metadata": {},
      "outputs": [],
      "source": [
        "metrics = [sklearn.metrics.accuracy_score,\n",
        "           sklearn.metrics.precision_score,\n",
        "           sklearn.metrics.recall_score,\n",
        "           sklearn.metrics.f1_score]"
      ],
      "id": "384db072-7191-41b8-a9da-fb3daad9343c"
    },
    {
      "cell_type": "code",
      "execution_count": 28,
      "metadata": {},
      "outputs": [],
      "source": [
        "_results2= pd.DataFrame({m.__name__:[m(yy,yyhat).round(6)] for m in metrics},index=['분석2'])\n",
        "_results2"
      ],
      "id": "d7f5aeff-78dc-4229-b112-046336a63597"
    },
    {
      "cell_type": "markdown",
      "metadata": {},
      "source": [
        "## 분석3(서포트 벡터 머신)"
      ],
      "id": "a3e47b49-6cdb-4956-b99c-1b587c9ba16b"
    },
    {
      "cell_type": "code",
      "execution_count": 29,
      "metadata": {},
      "outputs": [],
      "source": [
        "X = np.array(df50_tr.loc[:, ['amt']])\n",
        "XX = np.array(df50_test.loc[:, ['amt']])\n",
        "y = np.array(df50_tr.is_fraud)\n",
        "yy = np.array(df50_test.is_fraud)"
      ],
      "id": "993f6531-37c2-4be2-8eab-cd3481e3b780"
    },
    {
      "cell_type": "code",
      "execution_count": 30,
      "metadata": {},
      "outputs": [],
      "source": [
        "lrnr = SVC(kernel='linear')  \n",
        "lrnr.fit(X,y)\n",
        "yyhat = lrnr.predict(XX)\n"
      ],
      "id": "d2fb9e83-8b63-4196-9922-18a8ad450321"
    },
    {
      "cell_type": "code",
      "execution_count": 31,
      "metadata": {},
      "outputs": [],
      "source": [
        "metrics = [sklearn.metrics.accuracy_score,\n",
        "           sklearn.metrics.precision_score,\n",
        "           sklearn.metrics.recall_score,\n",
        "           sklearn.metrics.f1_score]"
      ],
      "id": "f4c7c3d6-23f5-44d2-84dd-045a880b81ae"
    },
    {
      "cell_type": "code",
      "execution_count": 32,
      "metadata": {},
      "outputs": [],
      "source": [
        "_results3= pd.DataFrame({m.__name__:[m(yy,yyhat).round(6)] for m in metrics},index=['분석3'])\n",
        "_results3"
      ],
      "id": "2ef43bcd-4ebe-49ad-95f1-5bf64c7bf1ec"
    },
    {
      "cell_type": "markdown",
      "metadata": {},
      "source": [
        "## 분석4(랜덤 포레스트)"
      ],
      "id": "2a0f472f-ba8a-4fad-bae8-730ea6bddeed"
    },
    {
      "cell_type": "code",
      "execution_count": 33,
      "metadata": {},
      "outputs": [],
      "source": [
        "X = np.array(df50_tr.loc[:, ['amt']])\n",
        "XX = np.array(df50_test.loc[:, ['amt']])\n",
        "y = np.array(df50_tr.is_fraud)\n",
        "yy = np.array(df50_test.is_fraud)"
      ],
      "id": "618fea38-36a7-4051-a5da-a7f2b298aa84"
    },
    {
      "cell_type": "code",
      "execution_count": 34,
      "metadata": {},
      "outputs": [],
      "source": [
        "lrnr = RandomForestClassifier()  \n",
        "lrnr.fit(X, y)\n",
        "yyhat = lrnr.predict(XX)"
      ],
      "id": "4eb89790-194a-46eb-bc53-d190aca58364"
    },
    {
      "cell_type": "code",
      "execution_count": 35,
      "metadata": {},
      "outputs": [],
      "source": [
        "metrics = [sklearn.metrics.accuracy_score,\n",
        "           sklearn.metrics.precision_score,\n",
        "           sklearn.metrics.recall_score,\n",
        "           sklearn.metrics.f1_score]"
      ],
      "id": "9406a5e4-2154-41c4-a723-f337425e812c"
    },
    {
      "cell_type": "code",
      "execution_count": 36,
      "metadata": {},
      "outputs": [],
      "source": [
        "_results4= pd.DataFrame({m.__name__:[m(yy,yyhat).round(6)] for m in metrics},index=['분석4'])\n",
        "_results4"
      ],
      "id": "f9f1cd91-e6c2-4df6-a98c-188466761a5f"
    },
    {
      "cell_type": "markdown",
      "metadata": {},
      "source": [
        "## 분석5(부스팅)"
      ],
      "id": "ff1c1bf6-e750-4e2b-8c15-a03d1c9ecd4c"
    },
    {
      "cell_type": "code",
      "execution_count": 37,
      "metadata": {},
      "outputs": [],
      "source": [
        "X = np.array(df50_tr.loc[:, ['amt']])\n",
        "XX = np.array(df50_test.loc[:, ['amt']])\n",
        "y = np.array(df50_tr.is_fraud)\n",
        "yy = np.array(df50_test.is_fraud)"
      ],
      "id": "3c3e6452-3437-4357-b5da-be81d42f7e32"
    },
    {
      "cell_type": "code",
      "execution_count": 38,
      "metadata": {},
      "outputs": [],
      "source": [
        "lrnr = xgb.XGBClassifier()  \n",
        "lrnr.fit(X, y)\n",
        "yyhat = lrnr.predict(XX)"
      ],
      "id": "7bcc232f-a643-468c-be38-cb21a006f63f"
    },
    {
      "cell_type": "code",
      "execution_count": 39,
      "metadata": {},
      "outputs": [],
      "source": [
        "metrics = [sklearn.metrics.accuracy_score,\n",
        "           sklearn.metrics.precision_score,\n",
        "           sklearn.metrics.recall_score,\n",
        "           sklearn.metrics.f1_score]"
      ],
      "id": "f6872675-e0e8-4256-8ce5-ae2273e067d0"
    },
    {
      "cell_type": "code",
      "execution_count": 40,
      "metadata": {},
      "outputs": [],
      "source": [
        "_results5= pd.DataFrame({m.__name__:[m(yy,yyhat).round(6)] for m in metrics},index=['분석5'])\n",
        "_results5"
      ],
      "id": "572eb435-9165-4608-8d68-fdfa793e549d"
    },
    {
      "cell_type": "markdown",
      "metadata": {},
      "source": [
        "## 분석6(Naive Bayes)"
      ],
      "id": "1232f075-e88b-4081-81ea-562f79f5c018"
    },
    {
      "cell_type": "code",
      "execution_count": 41,
      "metadata": {},
      "outputs": [],
      "source": [
        "X = np.array(df50_tr.loc[:, ['amt']])\n",
        "XX = np.array(df50_test.loc[:, ['amt']])\n",
        "y = np.array(df50_tr.is_fraud)\n",
        "yy = np.array(df50_test.is_fraud)"
      ],
      "id": "a36c16c8-58e1-47be-a5ac-47f6aa8cbf81"
    },
    {
      "cell_type": "code",
      "execution_count": 42,
      "metadata": {},
      "outputs": [],
      "source": [
        "lrnr = GaussianNB() \n",
        "lrnr.fit(X, y)\n",
        "yyhat = lrnr.predict(XX)"
      ],
      "id": "1b0e9378-4ff3-4b7e-9964-90672408044e"
    },
    {
      "cell_type": "code",
      "execution_count": 43,
      "metadata": {},
      "outputs": [],
      "source": [
        "metrics = [sklearn.metrics.accuracy_score,\n",
        "           sklearn.metrics.precision_score,\n",
        "           sklearn.metrics.recall_score,\n",
        "           sklearn.metrics.f1_score]"
      ],
      "id": "a5c9cebf-fd9e-4c88-8483-d2120e396255"
    },
    {
      "cell_type": "code",
      "execution_count": 44,
      "metadata": {},
      "outputs": [],
      "source": [
        "_results6= pd.DataFrame({m.__name__:[m(yy,yyhat).round(6)] for m in metrics},index=['분석6'])\n",
        "_results6"
      ],
      "id": "29b079f7-a07a-4f3c-93fb-d92421c0e6ba"
    }
  ],
  "nbformat": 4,
  "nbformat_minor": 5,
  "metadata": {
    "kernelspec": {
      "name": "python3",
      "display_name": "Python 3 (ipykernel)",
      "language": "python"
    },
    "language_info": {
      "name": "python",
      "codemirror_mode": {
        "name": "ipython",
        "version": "3"
      },
      "file_extension": ".py",
      "mimetype": "text/x-python",
      "nbconvert_exporter": "python",
      "pygments_lexer": "ipython3",
      "version": "3.8.18"
    }
  }
}