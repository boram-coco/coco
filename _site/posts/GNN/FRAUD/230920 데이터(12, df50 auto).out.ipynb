{
  "cells": [
    {
      "cell_type": "markdown",
      "metadata": {},
      "source": [
        "# **\\[FRAUD\\]** 데이터정리 시도(9.20_df50 autogluon)\n",
        "\n",
        "김보람  \n",
        "2023-09-20\n",
        "\n",
        "# imports"
      ],
      "id": "9e9b449f-1582-4d1b-85fb-cef89825e12a"
    },
    {
      "cell_type": "code",
      "execution_count": 66,
      "metadata": {},
      "outputs": [],
      "source": [
        "import numpy as np\n",
        "import pandas as pd\n",
        "import matplotlib.pyplot as plt \n",
        "import networkx as nx\n",
        "import sklearn\n",
        "import xgboost as xgb\n",
        "\n",
        "# sklearn\n",
        "from sklearn import model_selection # split함수이용\n",
        "from sklearn import ensemble # RF,GBM\n",
        "from sklearn import metrics\n",
        "from sklearn.metrics import precision_score, recall_score, f1_score\n",
        "from sklearn.svm import SVC\n",
        "from sklearn.ensemble import RandomForestClassifier\n",
        "from sklearn.naive_bayes import GaussianNB\n",
        "\n",
        "# gnn\n",
        "import torch\n",
        "import torch.nn.functional as F\n",
        "import torch_geometric\n",
        "from torch_geometric.nn import GCNConv\n",
        "\n",
        "# autogluon\n",
        "from autogluon.tabular import TabularDataset, TabularPredictor"
      ],
      "id": "4eb91738-6398-4ffc-bbec-fc48fcc8f249"
    },
    {
      "cell_type": "code",
      "execution_count": 4,
      "metadata": {},
      "outputs": [],
      "source": [
        "def down_sample_textbook(df):\n",
        "    df_majority = df[df.is_fraud==0].copy()\n",
        "    df_minority = df[df.is_fraud==1].copy()\n",
        "    df_maj_dowsampled = sklearn.utils.resample(df_majority, n_samples=len(df_minority), replace=False, random_state=42)\n",
        "    df_downsampled = pd.concat([df_minority, df_maj_dowsampled])\n",
        "    return df_downsampled\n",
        "\n",
        "def compute_time_difference(group):\n",
        "    n = len(group)\n",
        "    result = []\n",
        "    for i in range(n):\n",
        "        for j in range(n):\n",
        "            time_difference = abs(group.iloc[i].trans_date_trans_time.value - group.iloc[j].trans_date_trans_time.value)\n",
        "            result.append([group.iloc[i].name, group.iloc[j].name, time_difference])\n",
        "    return result\n",
        "\n",
        "\n",
        "class GCN(torch.nn.Module):\n",
        "    def __init__(self):\n",
        "        super().__init__()\n",
        "        self.conv1 = GCNConv(1, 16)\n",
        "        self.conv2 = GCNConv(16,2)\n",
        "\n",
        "    def forward(self, data):\n",
        "        x, edge_index = data.x, data.edge_index\n",
        "\n",
        "        x = self.conv1(x, edge_index)\n",
        "        x = F.relu(x)\n",
        "        x = F.dropout(x, training=self.training)\n",
        "        x = self.conv2(x, edge_index)\n",
        "\n",
        "        return F.log_softmax(x, dim=1)"
      ],
      "id": "2774d96b-b24a-492b-a587-2815ff6e3ead"
    },
    {
      "cell_type": "code",
      "execution_count": 5,
      "metadata": {},
      "outputs": [],
      "source": [
        "fraudTrain = pd.read_csv(\"~/Desktop/fraudTrain.csv\").iloc[:,1:]"
      ],
      "id": "7021dc07-8a06-417b-9fb6-c71b2f05e5eb"
    },
    {
      "cell_type": "code",
      "execution_count": 6,
      "metadata": {},
      "outputs": [],
      "source": [
        "fraudTrain = fraudTrain.assign(trans_date_trans_time= list(map(lambda x: pd.to_datetime(x), fraudTrain.trans_date_trans_time)))\n",
        "fraudTrain"
      ],
      "id": "eb7a9b2b-f984-4bb0-b14b-e523a00d8d38"
    },
    {
      "cell_type": "markdown",
      "metadata": {},
      "source": [
        "## 데이터정리"
      ],
      "id": "c58d212d-2f3c-4745-bccb-67e852c1ab74"
    },
    {
      "cell_type": "code",
      "execution_count": 40,
      "metadata": {},
      "outputs": [],
      "source": [
        "_df1 = fraudTrain[fraudTrain[\"is_fraud\"] == 0].sample(frac=0.20, random_state=42)\n",
        "_df2 = fraudTrain[fraudTrain[\"is_fraud\"] == 1]\n",
        "df02 = pd.concat([_df1,_df2])\n",
        "df02.shape"
      ],
      "id": "adec4c87-7a49-41dd-ba04-879643113486"
    },
    {
      "cell_type": "code",
      "execution_count": 41,
      "metadata": {},
      "outputs": [],
      "source": [
        "df50 = down_sample_textbook(df02)\n",
        "df50.shape"
      ],
      "id": "b1eab03c-9ee2-45e1-95a5-923642e8ce6f"
    },
    {
      "cell_type": "code",
      "execution_count": 42,
      "metadata": {},
      "outputs": [],
      "source": [
        "df50 = df50.reset_index()"
      ],
      "id": "4f3c12b1-433f-41ac-85c0-c42ae389ba60"
    },
    {
      "cell_type": "code",
      "execution_count": 43,
      "metadata": {},
      "outputs": [],
      "source": [
        "N = len(df50)"
      ],
      "id": "7cef7094-bd9b-43d1-a1c9-d4b1c9b4241c"
    },
    {
      "cell_type": "code",
      "execution_count": 47,
      "metadata": {},
      "outputs": [],
      "source": [
        "df50 = df50[[\"amt\",\"is_fraud\"]]"
      ],
      "id": "9cc6d4e4-ecaf-49db-b115-5ce238f76f06"
    },
    {
      "cell_type": "code",
      "execution_count": 57,
      "metadata": {},
      "outputs": [],
      "source": [
        "df50[\"amt\"].mean()"
      ],
      "id": "533c49d8-a2af-49ae-937e-e135f1c28b9d"
    },
    {
      "cell_type": "code",
      "execution_count": 58,
      "metadata": {},
      "outputs": [],
      "source": [
        "df50[\"amt\"].describe()"
      ],
      "id": "2a24619c-b355-424b-b651-16d05eb8680b"
    },
    {
      "cell_type": "markdown",
      "metadata": {},
      "source": [
        "------------------------------------------------------------------------\n",
        "\n",
        "### tr/test"
      ],
      "id": "9fb306ae-fc15-4583-809a-6a6211d04599"
    },
    {
      "cell_type": "code",
      "execution_count": 48,
      "metadata": {},
      "outputs": [],
      "source": [
        "df50_tr,df50_test = sklearn.model_selection.train_test_split(df50, random_state=42)"
      ],
      "id": "1746ec92-50c0-402d-8297-92cb67c718d5"
    },
    {
      "cell_type": "code",
      "execution_count": 49,
      "metadata": {},
      "outputs": [],
      "source": [
        "df50_tr.shape, df50_test.shape"
      ],
      "id": "ba8e5c8a-e54e-4982-b4db-4e89f5239dfa"
    },
    {
      "cell_type": "code",
      "execution_count": 50,
      "metadata": {},
      "outputs": [],
      "source": [
        "train_mask = [i in df50_tr.index for i in range(N)]\n",
        "test_mask = [i in df50_test.index for i in range(N)]"
      ],
      "id": "96e898a3-0f22-4e14-9c7b-96aac384fbeb"
    },
    {
      "cell_type": "code",
      "execution_count": 51,
      "metadata": {},
      "outputs": [],
      "source": [
        "train_mask = np.array(train_mask)\n",
        "test_mask = np.array(test_mask)"
      ],
      "id": "e3b4a6c0-ae78-4601-9684-2eb876661e36"
    },
    {
      "cell_type": "code",
      "execution_count": 52,
      "metadata": {},
      "outputs": [],
      "source": [
        "train_mask.sum(), test_mask.sum()"
      ],
      "id": "d7749396-dfc0-401f-8e05-b34693fc585a"
    },
    {
      "cell_type": "code",
      "execution_count": 53,
      "metadata": {},
      "outputs": [],
      "source": [
        "train_mask.shape, test_mask.shape"
      ],
      "id": "2c792d09-7f9b-413c-91c0-a1e6cf6ddac4"
    },
    {
      "cell_type": "markdown",
      "metadata": {},
      "source": [
        "------------------------------------------------------------------------\n",
        "\n",
        "### edge_index 설정"
      ],
      "id": "1ea6f7ce-be39-4ef3-b2ee-49eed900cb54"
    },
    {
      "cell_type": "code",
      "execution_count": 17,
      "metadata": {},
      "outputs": [],
      "source": [
        "# groups = df50.groupby('cc_num')\n",
        "# edge_index_list_plus = [compute_time_difference(group) for _, group in groups]\n",
        "# edge_index_list_plus_flat = [item for sublist in edge_index_list_plus for item in sublist]\n",
        "# edge_index_list_plus_nparr = np.array(edge_index_list_plus_flat)\n",
        "# np.save('edge_index_list_plus50.npy', edge_index_list_plus_nparr)"
      ],
      "id": "4b6f1a43-7569-4252-9e13-206b2fbc7e47"
    },
    {
      "cell_type": "code",
      "execution_count": 78,
      "metadata": {},
      "outputs": [],
      "source": [
        "edge_index = np.load('edge_index_list_plus50.npy')\n",
        "theta = edge_index[:,2].mean()\n",
        "edge_index = np.load('edge_index_list_plus50.npy').astype(np.float64)\n",
        "edge_index[:,2] = (np.exp(-edge_index[:,2]/theta) != 1)*(np.exp(-edge_index[:,2]/theta))\n",
        "edge_index = edge_index.tolist()\n",
        "mean_ = np.array(edge_index)[:,2].mean()\n",
        "selected_edges = [(int(row[0]), int(row[1])) for row in edge_index if row[2] > mean_]\n",
        "edge_index_selected = torch.tensor(selected_edges, dtype=torch.long).t()"
      ],
      "id": "d21b94dd-4792-441b-a6e4-fbec20fde9dc"
    },
    {
      "cell_type": "markdown",
      "metadata": {},
      "source": [
        "------------------------------------------------------------------------\n",
        "\n",
        "### data설정(x, edge_index, y)"
      ],
      "id": "3168aa1a-edf5-45b9-a348-0523d6262ec7"
    },
    {
      "cell_type": "code",
      "execution_count": 79,
      "metadata": {},
      "outputs": [],
      "source": [
        "x = torch.tensor(df50['amt'], dtype=torch.float).reshape(-1,1)\n",
        "y = torch.tensor(df50['is_fraud'],dtype=torch.int64)\n",
        "data = torch_geometric.data.Data(x=x, edge_index = edge_index_selected, y=y, train_mask = train_mask, test_mask = test_mask)\n",
        "data"
      ],
      "id": "cbb02622-2bd3-40d0-abd1-aac0fbd2b152"
    },
    {
      "cell_type": "markdown",
      "metadata": {},
      "source": [
        "------------------------------------------------------------------------\n",
        "\n",
        "# autogluon\n",
        "\n",
        "## A. 데이터"
      ],
      "id": "e8f7f019-3c70-4dcf-b421-c27a08db25e0"
    },
    {
      "cell_type": "code",
      "execution_count": 54,
      "metadata": {},
      "outputs": [],
      "source": [
        "tr = TabularDataset(df50_tr)\n",
        "tst = TabularDataset(df50_test)"
      ],
      "id": "2270b055-c69c-4743-a329-6e445b0a66eb"
    },
    {
      "cell_type": "code",
      "execution_count": null,
      "metadata": {},
      "outputs": [],
      "source": [
        "\n"
      ],
      "id": "e2767084-d3ba-4d08-a729-d586b8b62bda"
    },
    {
      "cell_type": "markdown",
      "metadata": {},
      "source": [
        "## B. predictor 생성"
      ],
      "id": "ed861ad6-bd46-44bd-98fc-da17453ec4e4"
    },
    {
      "cell_type": "code",
      "execution_count": 55,
      "metadata": {},
      "outputs": [
        {
          "output_type": "stream",
          "name": "stderr",
          "text": [
            "No path specified. Models will be saved in: \"AutogluonModels/ag-20230920_153744/\""
          ]
        }
      ],
      "source": [
        "predictr = TabularPredictor(\"is_fraud\")"
      ],
      "id": "8a5e656a-1009-4670-969b-9749270a004f"
    },
    {
      "cell_type": "markdown",
      "metadata": {},
      "source": [
        "## C.적합(fit)"
      ],
      "id": "9fc4eb82-28a4-4fb6-a7e6-ed9d075a78cc"
    },
    {
      "cell_type": "code",
      "execution_count": 56,
      "metadata": {},
      "outputs": [
        {
          "output_type": "stream",
          "name": "stderr",
          "text": [
            "Beginning AutoGluon training ...\n",
            "AutoGluon will save models to \"AutogluonModels/ag-20230920_153744/\"\n",
            "AutoGluon Version:  0.8.2\n",
            "Python Version:     3.8.18\n",
            "Operating System:   Linux\n",
            "Platform Machine:   x86_64\n",
            "Platform Version:   #26~22.04.1-Ubuntu SMP PREEMPT_DYNAMIC Thu Jul 13 16:27:29 UTC 2\n",
            "Disk Space Avail:   774.66 GB / 982.82 GB (78.8%)\n",
            "Train Data Rows:    9009\n",
            "Train Data Columns: 1\n",
            "Label Column: is_fraud\n",
            "Preprocessing data ...\n",
            "AutoGluon infers your prediction problem is: 'binary' (because only two unique label-values observed).\n",
            "    2 unique label values:  [1, 0]\n",
            "    If 'binary' is not the correct problem_type, please manually specify the problem_type parameter during predictor init (You may specify problem_type as one of: ['binary', 'multiclass', 'regression'])\n",
            "Selected class <--> label mapping:  class 1 = 1, class 0 = 0\n",
            "Using Feature Generators to preprocess the data ...\n",
            "Fitting AutoMLPipelineFeatureGenerator...\n",
            "    Available Memory:                    34935.91 MB\n",
            "    Train Data (Original)  Memory Usage: 0.07 MB (0.0% of available memory)\n",
            "    Inferring data type of each feature based on column values. Set feature_metadata_in to manually specify special dtypes of the features.\n",
            "    Stage 1 Generators:\n",
            "        Fitting AsTypeFeatureGenerator...\n",
            "    Stage 2 Generators:\n",
            "        Fitting FillNaFeatureGenerator...\n",
            "    Stage 3 Generators:\n",
            "        Fitting IdentityFeatureGenerator...\n",
            "    Stage 4 Generators:\n",
            "        Fitting DropUniqueFeatureGenerator...\n",
            "    Stage 5 Generators:\n",
            "        Fitting DropDuplicatesFeatureGenerator...\n",
            "    Types of features in original data (raw dtype, special dtypes):\n",
            "        ('float', []) : 1 | ['amt']\n",
            "    Types of features in processed data (raw dtype, special dtypes):\n",
            "        ('float', []) : 1 | ['amt']\n",
            "    0.0s = Fit runtime\n",
            "    1 features in original data used to generate 1 features in processed data.\n",
            "    Train Data (Processed) Memory Usage: 0.07 MB (0.0% of available memory)\n",
            "Data preprocessing and feature engineering runtime = 0.03s ...\n",
            "AutoGluon will gauge predictive performance using evaluation metric: 'accuracy'\n",
            "    To change this, specify the eval_metric parameter of Predictor()\n",
            "Automatically generating train/validation split with holdout_frac=0.1, Train Rows: 8108, Val Rows: 901\n",
            "User-specified model hyperparameters to be fit:\n",
            "{\n",
            "    'NN_TORCH': {},\n",
            "    'GBM': [{'extra_trees': True, 'ag_args': {'name_suffix': 'XT'}}, {}, 'GBMLarge'],\n",
            "    'CAT': {},\n",
            "    'XGB': {},\n",
            "    'FASTAI': {},\n",
            "    'RF': [{'criterion': 'gini', 'ag_args': {'name_suffix': 'Gini', 'problem_types': ['binary', 'multiclass']}}, {'criterion': 'entropy', 'ag_args': {'name_suffix': 'Entr', 'problem_types': ['binary', 'multiclass']}}, {'criterion': 'squared_error', 'ag_args': {'name_suffix': 'MSE', 'problem_types': ['regression', 'quantile']}}],\n",
            "    'XT': [{'criterion': 'gini', 'ag_args': {'name_suffix': 'Gini', 'problem_types': ['binary', 'multiclass']}}, {'criterion': 'entropy', 'ag_args': {'name_suffix': 'Entr', 'problem_types': ['binary', 'multiclass']}}, {'criterion': 'squared_error', 'ag_args': {'name_suffix': 'MSE', 'problem_types': ['regression', 'quantile']}}],\n",
            "    'KNN': [{'weights': 'uniform', 'ag_args': {'name_suffix': 'Unif'}}, {'weights': 'distance', 'ag_args': {'name_suffix': 'Dist'}}],\n",
            "}\n",
            "Fitting 13 L1 models ...\n",
            "Fitting model: KNeighborsUnif ...\n",
            "    0.8779   = Validation score   (accuracy)\n",
            "    0.03s    = Training   runtime\n",
            "    0.01s    = Validation runtime\n",
            "Fitting model: KNeighborsDist ...\n",
            "    0.8635   = Validation score   (accuracy)\n",
            "    0.02s    = Training   runtime\n",
            "    0.01s    = Validation runtime\n",
            "Fitting model: LightGBMXT ...\n",
            "    0.8768   = Validation score   (accuracy)\n",
            "    0.25s    = Training   runtime\n",
            "    0.0s     = Validation runtime\n",
            "Fitting model: LightGBM ...\n",
            "    0.8923   = Validation score   (accuracy)\n",
            "    0.34s    = Training   runtime\n",
            "    0.0s     = Validation runtime\n",
            "Fitting model: RandomForestGini ...\n",
            "    0.8513   = Validation score   (accuracy)\n",
            "    0.32s    = Training   runtime\n",
            "    0.03s    = Validation runtime\n",
            "Fitting model: RandomForestEntr ...\n",
            "    0.8513   = Validation score   (accuracy)\n",
            "    0.34s    = Training   runtime\n",
            "    0.03s    = Validation runtime\n",
            "Fitting model: CatBoost ...\n",
            "    0.8946   = Validation score   (accuracy)\n",
            "    0.65s    = Training   runtime\n",
            "    0.0s     = Validation runtime\n",
            "Fitting model: ExtraTreesGini ...\n",
            "    0.8602   = Validation score   (accuracy)\n",
            "    0.31s    = Training   runtime\n",
            "    0.03s    = Validation runtime\n",
            "Fitting model: ExtraTreesEntr ...\n",
            "    0.8579   = Validation score   (accuracy)\n",
            "    0.31s    = Training   runtime\n",
            "    0.03s    = Validation runtime\n",
            "Fitting model: NeuralNetFastAI ...\n",
            "No improvement since epoch 1: early stopping\n",
            "    0.8635   = Validation score   (accuracy)\n",
            "    2.86s    = Training   runtime\n",
            "    0.01s    = Validation runtime\n",
            "Fitting model: XGBoost ...\n",
            "    0.8935   = Validation score   (accuracy)\n",
            "    0.11s    = Training   runtime\n",
            "    0.0s     = Validation runtime\n",
            "Fitting model: NeuralNetTorch ...\n",
            "    0.8857   = Validation score   (accuracy)\n",
            "    5.19s    = Training   runtime\n",
            "    0.01s    = Validation runtime\n",
            "Fitting model: LightGBMLarge ...\n",
            "    0.8946   = Validation score   (accuracy)\n",
            "    0.41s    = Training   runtime\n",
            "    0.0s     = Validation runtime\n",
            "Fitting model: WeightedEnsemble_L2 ...\n",
            "    0.9023   = Validation score   (accuracy)\n",
            "    0.51s    = Training   runtime\n",
            "    0.0s     = Validation runtime\n",
            "AutoGluon training complete, total runtime = 12.07s ... Best model: \"WeightedEnsemble_L2\"\n",
            "TabularPredictor saved. To load, use: predictor = TabularPredictor.load(\"AutogluonModels/ag-20230920_153744/\")"
          ]
        }
      ],
      "source": [
        "predictr.fit(tr) "
      ],
      "id": "dde5f1c7-6ec9-4ad2-adbd-34160cd7baf6"
    },
    {
      "cell_type": "code",
      "execution_count": 59,
      "metadata": {},
      "outputs": [
        {
          "output_type": "stream",
          "name": "stdout",
          "text": [
            "                  model  score_val  pred_time_val  fit_time  pred_time_val_marginal  fit_time_marginal  stack_level  can_infer  fit_order\n",
            "0   WeightedEnsemble_L2   0.902331       0.051067  7.458454                0.001309           0.513563            2       True         14\n",
            "1         LightGBMLarge   0.894562       0.001894  0.414943                0.001894           0.414943            1       True         13\n",
            "2              CatBoost   0.894562       0.001981  0.653966                0.001981           0.653966            1       True          7\n",
            "3               XGBoost   0.893452       0.003316  0.114061                0.003316           0.114061            1       True         11\n",
            "4              LightGBM   0.892342       0.003488  0.343734                0.003488           0.343734            1       True          4\n",
            "5        NeuralNetTorch   0.885683       0.005610  5.186066                0.005610           5.186066            1       True         12\n",
            "6        KNeighborsUnif   0.877913       0.006206  0.028794                0.006206           0.028794            1       True          1\n",
            "7            LightGBMXT   0.876804       0.002243  0.245948                0.002243           0.245948            1       True          3\n",
            "8        KNeighborsDist   0.863485       0.005649  0.024392                0.005649           0.024392            1       True          2\n",
            "9       NeuralNetFastAI   0.863485       0.008246  2.861539                0.008246           2.861539            1       True         10\n",
            "10       ExtraTreesGini   0.860155       0.029064  0.305516                0.029064           0.305516            1       True          8\n",
            "11       ExtraTreesEntr   0.857936       0.029304  0.306215                0.029304           0.306215            1       True          9\n",
            "12     RandomForestEntr   0.851276       0.028594  0.344763                0.028594           0.344763            1       True          6\n",
            "13     RandomForestGini   0.851276       0.028716  0.321282                0.028716           0.321282            1       True          5"
          ]
        }
      ],
      "source": [
        "predictr.leaderboard()"
      ],
      "id": "3208e8e7-a06a-4925-8c68-b6a658a09e85"
    },
    {
      "cell_type": "markdown",
      "metadata": {},
      "source": [
        "## D. 예측(predict)"
      ],
      "id": "4d43c099-8d00-4e8a-b05e-c4d32d70e662"
    },
    {
      "cell_type": "code",
      "execution_count": 60,
      "metadata": {},
      "outputs": [],
      "source": [
        "(tr.is_fraud == predictr.predict(tr)).mean()"
      ],
      "id": "1b765589-eb7d-4a14-a2ae-d88de73a64bc"
    },
    {
      "cell_type": "code",
      "execution_count": 80,
      "metadata": {},
      "outputs": [],
      "source": [
        "(tst.is_fraud == predictr.predict(tst)).mean()"
      ],
      "id": "5d38f327-71c7-49ed-89d9-64eaf345c70c"
    },
    {
      "cell_type": "code",
      "execution_count": 61,
      "metadata": {},
      "outputs": [],
      "source": [
        "yyhat = predictr.predict(tr)"
      ],
      "id": "787fb090-acfb-4971-b7fb-76f58ca7c932"
    },
    {
      "cell_type": "markdown",
      "metadata": {},
      "source": [
        "> autogluon이렇게 하는게 맞는감…;;;"
      ],
      "id": "ca39fc72-f9cf-4875-8541-e43616545ef5"
    }
  ],
  "nbformat": 4,
  "nbformat_minor": 5,
  "metadata": {
    "kernelspec": {
      "name": "python3",
      "display_name": "Python 3 (ipykernel)",
      "language": "python"
    },
    "language_info": {
      "name": "python",
      "codemirror_mode": {
        "name": "ipython",
        "version": "3"
      },
      "file_extension": ".py",
      "mimetype": "text/x-python",
      "nbconvert_exporter": "python",
      "pygments_lexer": "ipython3",
      "version": "3.8.18"
    }
  }
}