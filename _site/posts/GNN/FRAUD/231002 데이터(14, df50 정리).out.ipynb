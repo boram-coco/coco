{
  "cells": [
    {
      "cell_type": "markdown",
      "metadata": {},
      "source": [
        "# **\\[FRAUD\\]** 데이터정리 시도(GCN)\n",
        "\n",
        "김보람  \n",
        "2023-10-02\n",
        "\n",
        "# imports"
      ],
      "id": "e1fe728b-a23b-4953-9b31-6e18f152f5f4"
    },
    {
      "cell_type": "code",
      "execution_count": 1,
      "metadata": {},
      "outputs": [
        {
          "output_type": "stream",
          "name": "stderr",
          "text": [
            "/home/coco/anaconda3/envs/py38/lib/python3.8/site-packages/torch_geometric/typing.py:18: UserWarning: An issue occurred while importing 'pyg-lib'. Disabling its usage. Stacktrace: /home/coco/anaconda3/envs/py38/lib/python3.8/site-packages/libpyg.so: undefined symbol: _ZN2at4_ops12split_Tensor4callERKNS_6TensorEN3c106SymIntEl\n",
            "  warnings.warn(f\"An issue occurred while importing 'pyg-lib'. \"\n",
            "/home/coco/anaconda3/envs/py38/lib/python3.8/site-packages/torch_geometric/typing.py:31: UserWarning: An issue occurred while importing 'torch-scatter'. Disabling its usage. Stacktrace: /home/coco/anaconda3/envs/py38/lib/python3.8/site-packages/torch_scatter/_scatter_cuda.so: undefined symbol: _ZNK3c107SymBool10guard_boolEPKcl\n",
            "  warnings.warn(f\"An issue occurred while importing 'torch-scatter'. \"\n",
            "/home/coco/anaconda3/envs/py38/lib/python3.8/site-packages/torch_geometric/typing.py:42: UserWarning: An issue occurred while importing 'torch-sparse'. Disabling its usage. Stacktrace: /home/coco/anaconda3/envs/py38/lib/python3.8/site-packages/torch_sparse/_diag_cuda.so: undefined symbol: _ZN3c106detail19maybe_wrap_dim_slowIlEET_S2_S2_b\n",
            "  warnings.warn(f\"An issue occurred while importing 'torch-sparse'. \""
          ]
        }
      ],
      "source": [
        "import numpy as np\n",
        "import pandas as pd\n",
        "import matplotlib.pyplot as plt \n",
        "import networkx as nx\n",
        "import sklearn\n",
        "import xgboost as xgb\n",
        "\n",
        "# sklearn\n",
        "from sklearn import model_selection # split함수이용\n",
        "from sklearn import ensemble # RF,GBM\n",
        "from sklearn import metrics\n",
        "from sklearn.metrics import precision_score, recall_score, f1_score\n",
        "from sklearn.svm import SVC\n",
        "from sklearn.ensemble import RandomForestClassifier\n",
        "from sklearn.naive_bayes import GaussianNB\n",
        "\n",
        "# gnn\n",
        "import torch\n",
        "import torch.nn.functional as F\n",
        "import torch_geometric\n",
        "from torch_geometric.nn import GCNConv\n",
        "\n"
      ],
      "id": "4eb91738-6398-4ffc-bbec-fc48fcc8f249"
    },
    {
      "cell_type": "code",
      "execution_count": 2,
      "metadata": {},
      "outputs": [],
      "source": [
        "def down_sample_textbook(df):\n",
        "    df_majority = df[df.is_fraud==0].copy()\n",
        "    df_minority = df[df.is_fraud==1].copy()\n",
        "    df_maj_dowsampled = sklearn.utils.resample(df_majority, n_samples=len(df_minority), replace=False, random_state=42)\n",
        "    df_downsampled = pd.concat([df_minority, df_maj_dowsampled])\n",
        "    return df_downsampled\n",
        "\n",
        "def compute_time_difference(group):\n",
        "    n = len(group)\n",
        "    result = []\n",
        "    for i in range(n):\n",
        "        for j in range(n):\n",
        "            time_difference = abs(group.iloc[i].trans_date_trans_time.value - group.iloc[j].trans_date_trans_time.value)\n",
        "            result.append([group.iloc[i].name, group.iloc[j].name, time_difference])\n",
        "    return result\n",
        "\n",
        "def mask(df):\n",
        "    df_tr,df_test = sklearn.model_selection.train_test_split(df, random_state=42)\n",
        "    N = len(df)\n",
        "    train_mask = [i in df_tr.index for i in range(N)]\n",
        "    test_mask = [i in df_test.index for i in range(N)]\n",
        "    train_mask = np.array(train_mask)\n",
        "    test_mask = np.array(test_mask)\n",
        "    return train_mask, test_mask\n",
        "\n",
        "def edge_index_selected(edge_index):\n",
        "    theta = edge_index[:,2].mean()\n",
        "    edge_index[:,2] = (np.exp(-edge_index[:,2]/theta) != 1)*(np.exp(-edge_index[:,2]/theta))\n",
        "    edge_index = edge_index.tolist()\n",
        "    mean_ = np.array(edge_index)[:,2].mean()\n",
        "    selected_edges = [(int(row[0]), int(row[1])) for row in edge_index if row[2] > mean_]\n",
        "    edge_index_selected = torch.tensor(selected_edges, dtype=torch.long).t()\n",
        "    return edge_index_selected\n",
        "\n",
        "\n"
      ],
      "id": "2774d96b-b24a-492b-a587-2815ff6e3ead"
    },
    {
      "cell_type": "code",
      "execution_count": 3,
      "metadata": {},
      "outputs": [],
      "source": [
        "fraudTrain = pd.read_csv(\"~/Desktop/fraudTrain.csv\").iloc[:,1:]"
      ],
      "id": "7021dc07-8a06-417b-9fb6-c71b2f05e5eb"
    },
    {
      "cell_type": "code",
      "execution_count": 4,
      "metadata": {},
      "outputs": [],
      "source": [
        "fraudTrain = fraudTrain.assign(trans_date_trans_time= list(map(lambda x: pd.to_datetime(x), fraudTrain.trans_date_trans_time)))\n",
        "fraudTrain"
      ],
      "id": "eb7a9b2b-f984-4bb0-b14b-e523a00d8d38"
    },
    {
      "cell_type": "markdown",
      "metadata": {},
      "source": [
        "## 데이터정리"
      ],
      "id": "4da743bb-b675-4145-8a37-7e5972dd92ba"
    },
    {
      "cell_type": "code",
      "execution_count": 5,
      "metadata": {},
      "outputs": [],
      "source": [
        "_df1 = fraudTrain[fraudTrain[\"is_fraud\"] == 0].sample(frac=0.20, random_state=42)\n",
        "_df2 = fraudTrain[fraudTrain[\"is_fraud\"] == 1]\n",
        "df02 = pd.concat([_df1,_df2])\n",
        "df02.shape"
      ],
      "id": "adec4c87-7a49-41dd-ba04-879643113486"
    },
    {
      "cell_type": "code",
      "execution_count": 6,
      "metadata": {},
      "outputs": [],
      "source": [
        "df50 = down_sample_textbook(df02)\n",
        "df50 = df50.reset_index()\n",
        "df50.shape"
      ],
      "id": "b1eab03c-9ee2-45e1-95a5-923642e8ce6f"
    },
    {
      "cell_type": "markdown",
      "metadata": {},
      "source": [
        "------------------------------------------------------------------------\n",
        "\n",
        "### tr/test"
      ],
      "id": "efccaa2f-3130-4ddf-b766-69c64d592a1b"
    },
    {
      "cell_type": "code",
      "execution_count": 7,
      "metadata": {},
      "outputs": [],
      "source": [
        "mask(df50)"
      ],
      "id": "1b4cefa1-9bd8-4fe5-9e9e-efee00f1576b"
    },
    {
      "cell_type": "code",
      "execution_count": 8,
      "metadata": {},
      "outputs": [],
      "source": [
        "train_mask, test_mask = mask(df50)"
      ],
      "id": "fb6030e7-0b4f-4885-b3a2-b20147ebea2a"
    },
    {
      "cell_type": "markdown",
      "metadata": {},
      "source": [
        "------------------------------------------------------------------------\n",
        "\n",
        "### edge_index 설정"
      ],
      "id": "a820c036-82d2-44f3-8322-5b71974af7a6"
    },
    {
      "cell_type": "code",
      "execution_count": 9,
      "metadata": {},
      "outputs": [],
      "source": [
        "# groups = df50.groupby('cc_num')\n",
        "# edge_index_list_plus = [compute_time_difference(group) for _, group in groups]\n",
        "# edge_index_list_plus_flat = [item for sublist in edge_index_list_plus for item in sublist]\n",
        "# edge_index_list_plus_nparr = np.array(edge_index_list_plus_flat)\n",
        "# np.save('edge_index_list_plus50.npy', edge_index_list_plus_nparr)"
      ],
      "id": "4b6f1a43-7569-4252-9e13-206b2fbc7e47"
    },
    {
      "cell_type": "code",
      "execution_count": 10,
      "metadata": {},
      "outputs": [],
      "source": [
        "edge_index = np.load('edge_index_list_plus50.npy').astype(np.float64)\n",
        "edge_index.shape"
      ],
      "id": "d21b94dd-4792-441b-a6e4-fbec20fde9dc"
    },
    {
      "cell_type": "code",
      "execution_count": 11,
      "metadata": {},
      "outputs": [],
      "source": [
        "edge_index_selected = edge_index_selected(edge_index)"
      ],
      "id": "4910ef24-55e6-49d5-b6ce-f822534892e3"
    },
    {
      "cell_type": "markdown",
      "metadata": {},
      "source": [
        "------------------------------------------------------------------------\n",
        "\n",
        "### data설정(x, edge_index, y)"
      ],
      "id": "b3cb8440-4e7a-4669-93b5-2477504d0ffb"
    },
    {
      "cell_type": "code",
      "execution_count": 12,
      "metadata": {},
      "outputs": [],
      "source": [
        "x = torch.tensor(df50['amt'], dtype=torch.float).reshape(-1,1)\n",
        "y = torch.tensor(df50['is_fraud'],dtype=torch.int64)\n",
        "data = torch_geometric.data.Data(x=x, edge_index = edge_index_selected, y=y, train_mask = train_mask, test_mask = test_mask)\n",
        "data"
      ],
      "id": "cbb02622-2bd3-40d0-abd1-aac0fbd2b152"
    },
    {
      "cell_type": "markdown",
      "metadata": {},
      "source": [
        "------------------------------------------------------------------------\n",
        "\n",
        "# 정리\n",
        "\n",
        "| 구분  | Train   | Test      | 모형 | 변경사항             | 비고 |\n",
        "|-------|---------|-----------|------|----------------------|------|\n",
        "| 분석1 | df50_tr | df50_test | GCN1 | 기본                 |      |\n",
        "| 분석2 | df50_tr | df50_test | GCN2 | GCNConv 16 -\\> 32    |      |\n",
        "| 분석3 | df50_tr | df50_test | GCN3 | GCNConv 16 -\\> 64    |      |\n",
        "| 분석4 | df50_tr | df50_test | GCN1 | 학습률 0.01 -\\> 0.03 |      |\n",
        "| 분석5 | df50_tr | df50_test | GCN1 | 학습률 0.01 -\\> 0.05 |      |\n",
        "| 분석6 | df50_tr | df50_test | GCN1 | 학습률 0.01 -\\> 0.1  |      |\n",
        "| 분석7 | df50_tr | df50_test | GCN1 | range 400 -\\> 1000   |      |\n",
        "\n",
        "`-` 이전에.. seed를 분석1만 잡힌건가/"
      ],
      "id": "b46a7b97-bf85-4a57-92e1-4b84b5462608"
    },
    {
      "cell_type": "code",
      "execution_count": 94,
      "metadata": {},
      "outputs": [],
      "source": [
        "lst = [_results1, _results2,_results3,_results4,_results5, _results6, _results7]\n",
        "pd.concat(lst)"
      ],
      "id": "81169630-00fe-4978-8223-c0661f1759c9"
    },
    {
      "cell_type": "markdown",
      "metadata": {},
      "source": [
        "`-` 이번에 다 seed 고정해놓고 한거"
      ],
      "id": "d9e3aa02-a9d9-4656-baaa-51878aaa7f7a"
    },
    {
      "cell_type": "code",
      "execution_count": 118,
      "metadata": {},
      "outputs": [],
      "source": [
        "lst = [_results1, _results2,_results3,_results4,_results5, _results6, _results7]\n",
        "pd.concat(lst)"
      ],
      "id": "5654cfa8-57fa-4db9-a54b-ec2b983a14b2"
    },
    {
      "cell_type": "markdown",
      "metadata": {},
      "source": [
        "------------------------------------------------------------------------\n",
        "\n",
        "## 분석 1(GCN)"
      ],
      "id": "c04e3d62-86be-4142-a1cf-b818d6eaaf4d"
    },
    {
      "cell_type": "code",
      "execution_count": 106,
      "metadata": {},
      "outputs": [],
      "source": [
        "torch.manual_seed(202250926)\n",
        "\n",
        "class GCN1(torch.nn.Module):\n",
        "    def __init__(self):\n",
        "        super().__init__()\n",
        "        self.conv1 = GCNConv(1, 16)\n",
        "        self.conv2 = GCNConv(16,2)\n",
        "\n",
        "    def forward(self, data):\n",
        "        x, edge_index = data.x, data.edge_index\n",
        "\n",
        "        x = self.conv1(x, edge_index)\n",
        "        x = F.relu(x)\n",
        "        x = F.dropout(x, training=self.training)\n",
        "        x = self.conv2(x, edge_index)\n",
        "\n",
        "        return F.log_softmax(x, dim=1)\n",
        "\n",
        "X = (data.x[data.train_mask]).numpy()\n",
        "XX = (data.x[data.test_mask]).numpy()\n",
        "y = (data.y[data.train_mask]).numpy()\n",
        "yy = (data.y[data.test_mask]).numpy()\n",
        "\n",
        "model = GCN1()\n",
        "optimizer = torch.optim.Adam(model.parameters(), lr=0.01, weight_decay=5e-4)\n",
        "model.train()\n",
        "for epoch in range(400):\n",
        "    optimizer.zero_grad()\n",
        "    out = model(data)\n",
        "    loss = F.nll_loss(out[data.train_mask], data.y[data.train_mask])\n",
        "    loss.backward()\n",
        "    optimizer.step()\n",
        "model.eval()\n",
        "\n",
        "pred = model(data).argmax(dim=1)\n",
        "yyhat = pred[data.test_mask]\n",
        "\n",
        "pred\n",
        "\n",
        "metrics = [sklearn.metrics.accuracy_score,\n",
        "           sklearn.metrics.precision_score,\n",
        "           sklearn.metrics.recall_score,\n",
        "           sklearn.metrics.f1_score]\n",
        "\n",
        "_results1= pd.DataFrame({m.__name__:[m(yy,yyhat).round(6)] for m in metrics},index=['분석1'])\n",
        "_results1"
      ],
      "id": "2d7230a2-7cb8-413d-9352-046f98ef67a5"
    },
    {
      "cell_type": "markdown",
      "metadata": {},
      "source": [
        "------------------------------------------------------------------------\n",
        "\n",
        "## 분석 2(GCN)"
      ],
      "id": "8f9769c8-b2ff-4655-8236-6bb4d0d4ea46"
    },
    {
      "cell_type": "code",
      "execution_count": 107,
      "metadata": {},
      "outputs": [],
      "source": [
        "torch.manual_seed(202250926)\n",
        "class GCN2(torch.nn.Module):\n",
        "    def __init__(self):\n",
        "        super().__init__()\n",
        "        self.conv1 = GCNConv(1, 32)\n",
        "        self.conv2 = GCNConv(32,2)\n",
        "\n",
        "    def forward(self, data):\n",
        "        x, edge_index = data.x, data.edge_index\n",
        "\n",
        "        x = self.conv1(x, edge_index)\n",
        "        x = F.relu(x)\n",
        "        x = F.dropout(x, training=self.training)\n",
        "        x = self.conv2(x, edge_index)\n",
        "\n",
        "        return F.log_softmax(x, dim=1)\n",
        "\n",
        "X = (data.x[data.train_mask]).numpy()\n",
        "XX = (data.x[data.test_mask]).numpy()\n",
        "y = (data.y[data.train_mask]).numpy()\n",
        "yy = (data.y[data.test_mask]).numpy()\n",
        "\n",
        "model = GCN2()\n",
        "optimizer = torch.optim.Adam(model.parameters(), lr=0.01, weight_decay=5e-4)\n",
        "model.train()\n",
        "for epoch in range(400):\n",
        "    optimizer.zero_grad()\n",
        "    out = model(data)\n",
        "    loss = F.nll_loss(out[data.train_mask], data.y[data.train_mask])\n",
        "    loss.backward()\n",
        "    optimizer.step()\n",
        "model.eval()\n",
        "\n",
        "pred = model(data).argmax(dim=1)\n",
        "yyhat = pred[data.test_mask]\n",
        "\n",
        "metrics = [sklearn.metrics.accuracy_score,\n",
        "           sklearn.metrics.precision_score,\n",
        "           sklearn.metrics.recall_score,\n",
        "           sklearn.metrics.f1_score]\n",
        "\n",
        "_results2= pd.DataFrame({m.__name__:[m(yy,yyhat).round(6)] for m in metrics},index=['분석2'])\n",
        "_results2"
      ],
      "id": "a3f182e5-927f-4b32-b52b-168fac9fb6ac"
    },
    {
      "cell_type": "markdown",
      "metadata": {},
      "source": [
        "------------------------------------------------------------------------\n",
        "\n",
        "## 분석 3(GCN)"
      ],
      "id": "3dd60d84-f3b5-479c-96d7-0a1f6165a2b6"
    },
    {
      "cell_type": "code",
      "execution_count": 108,
      "metadata": {},
      "outputs": [],
      "source": [
        "torch.manual_seed(202250926)\n",
        "class GCN3(torch.nn.Module):\n",
        "    def __init__(self):\n",
        "        super().__init__()\n",
        "        self.conv1 = GCNConv(1, 64)\n",
        "        self.conv2 = GCNConv(64,2)\n",
        "\n",
        "    def forward(self, data):\n",
        "        x, edge_index = data.x, data.edge_index\n",
        "\n",
        "        x = self.conv1(x, edge_index)\n",
        "        x = F.relu(x)\n",
        "        x = F.dropout(x, training=self.training)\n",
        "        x = self.conv2(x, edge_index)\n",
        "\n",
        "        return F.log_softmax(x, dim=1)\n",
        "\n",
        "X = (data.x[data.train_mask]).numpy()\n",
        "XX = (data.x[data.test_mask]).numpy()\n",
        "y = (data.y[data.train_mask]).numpy()\n",
        "yy = (data.y[data.test_mask]).numpy()\n",
        "\n",
        "model = GCN3()\n",
        "optimizer = torch.optim.Adam(model.parameters(), lr=0.01, weight_decay=5e-4)\n",
        "model.train()\n",
        "for epoch in range(400):\n",
        "    optimizer.zero_grad()\n",
        "    out = model(data)\n",
        "    loss = F.nll_loss(out[data.train_mask], data.y[data.train_mask])\n",
        "    loss.backward()\n",
        "    optimizer.step()\n",
        "model.eval()\n",
        "\n",
        "pred = model(data).argmax(dim=1)\n",
        "yyhat = pred[data.test_mask]\n",
        "\n",
        "metrics = [sklearn.metrics.accuracy_score,\n",
        "           sklearn.metrics.precision_score,\n",
        "           sklearn.metrics.recall_score,\n",
        "           sklearn.metrics.f1_score]\n",
        "\n",
        "_results3= pd.DataFrame({m.__name__:[m(yy,yyhat).round(6)] for m in metrics},index=['분석3'])\n",
        "_results3"
      ],
      "id": "f7fd2fad-fe65-4c71-a4b4-566942a5302b"
    },
    {
      "cell_type": "markdown",
      "metadata": {},
      "source": [
        "------------------------------------------------------------------------\n",
        "\n",
        "## 분석 4(GCN)"
      ],
      "id": "6798e30e-29d2-497b-b420-8e341af37367"
    },
    {
      "cell_type": "code",
      "execution_count": 109,
      "metadata": {},
      "outputs": [],
      "source": [
        "torch.manual_seed(202250926)\n",
        "X = (data.x[data.train_mask]).numpy()\n",
        "XX = (data.x[data.test_mask]).numpy()\n",
        "y = (data.y[data.train_mask]).numpy()\n",
        "yy = (data.y[data.test_mask]).numpy()\n",
        "\n",
        "model = GCN1()\n",
        "optimizer = torch.optim.Adam(model.parameters(), lr=0.03, weight_decay=5e-4)\n",
        "model.train()\n",
        "for epoch in range(400):\n",
        "    optimizer.zero_grad()\n",
        "    out = model(data)\n",
        "    loss = F.nll_loss(out[data.train_mask], data.y[data.train_mask])\n",
        "    loss.backward()\n",
        "    optimizer.step()\n",
        "model.eval()\n",
        "\n",
        "pred = model(data).argmax(dim=1)\n",
        "yyhat = pred[data.test_mask]\n",
        "\n",
        "metrics = [sklearn.metrics.accuracy_score,\n",
        "           sklearn.metrics.precision_score,\n",
        "           sklearn.metrics.recall_score,\n",
        "           sklearn.metrics.f1_score]\n",
        "\n",
        "_results4= pd.DataFrame({m.__name__:[m(yy,yyhat).round(6)] for m in metrics},index=['분석4'])\n",
        "_results4"
      ],
      "id": "d45c13b7-42ef-4416-9716-615923a7698f"
    },
    {
      "cell_type": "markdown",
      "metadata": {},
      "source": [
        "------------------------------------------------------------------------\n",
        "\n",
        "## 분석 5(GCN)"
      ],
      "id": "255c41b9-3b0c-4b86-9f93-a7ec72d59cf4"
    },
    {
      "cell_type": "code",
      "execution_count": 110,
      "metadata": {},
      "outputs": [],
      "source": [
        "torch.manual_seed(202250926)\n",
        "class GCN1(torch.nn.Module):\n",
        "    def __init__(self):\n",
        "        super().__init__()\n",
        "        self.conv1 = GCNConv(1, 16)\n",
        "        self.conv2 = GCNConv(16,2)\n",
        "\n",
        "    def forward(self, data):\n",
        "        x, edge_index = data.x, data.edge_index\n",
        "\n",
        "        x = self.conv1(x, edge_index)\n",
        "        x = F.relu(x)\n",
        "        x = F.dropout(x, training=self.training)\n",
        "        x = self.conv2(x, edge_index)\n",
        "\n",
        "        return F.log_softmax(x, dim=1)\n",
        "\n",
        "X = (data.x[data.train_mask]).numpy()\n",
        "XX = (data.x[data.test_mask]).numpy()\n",
        "y = (data.y[data.train_mask]).numpy()\n",
        "yy = (data.y[data.test_mask]).numpy()\n",
        "\n",
        "model = GCN1()\n",
        "optimizer = torch.optim.Adam(model.parameters(), lr=0.05, weight_decay=5e-4)\n",
        "model.train()\n",
        "for epoch in range(400):\n",
        "    optimizer.zero_grad()\n",
        "    out = model(data)\n",
        "    loss = F.nll_loss(out[data.train_mask], data.y[data.train_mask])\n",
        "    loss.backward()\n",
        "    optimizer.step()\n",
        "model.eval()\n",
        "\n",
        "pred = model(data).argmax(dim=1)\n",
        "yyhat = pred[data.test_mask]\n",
        "\n",
        "metrics = [sklearn.metrics.accuracy_score,\n",
        "           sklearn.metrics.precision_score,\n",
        "           sklearn.metrics.recall_score,\n",
        "           sklearn.metrics.f1_score]\n",
        "\n",
        "_results5= pd.DataFrame({m.__name__:[m(yy,yyhat).round(6)] for m in metrics},index=['분석5'])\n",
        "_results5"
      ],
      "id": "e2abf589-0e77-4400-8657-8d4908cf2172"
    },
    {
      "cell_type": "markdown",
      "metadata": {},
      "source": [
        "------------------------------------------------------------------------\n",
        "\n",
        "## 분석 6(GCN)"
      ],
      "id": "049f6c5d-090e-49fd-9f03-55c9b7f78c39"
    },
    {
      "cell_type": "code",
      "execution_count": 111,
      "metadata": {},
      "outputs": [],
      "source": [
        "torch.manual_seed(202250926)\n",
        "X = (data.x[data.train_mask]).numpy()\n",
        "XX = (data.x[data.test_mask]).numpy()\n",
        "y = (data.y[data.train_mask]).numpy()\n",
        "yy = (data.y[data.test_mask]).numpy()\n",
        "\n",
        "model = GCN1()\n",
        "optimizer = torch.optim.Adam(model.parameters(), lr=0.01, weight_decay=5e-4)\n",
        "model.train()\n",
        "for epoch in range(400):\n",
        "    optimizer.zero_grad()\n",
        "    out = model(data)\n",
        "    loss = F.nll_loss(out[data.train_mask], data.y[data.train_mask])\n",
        "    loss.backward()\n",
        "    optimizer.step()\n",
        "model.eval()\n",
        "\n",
        "pred = model(data).argmax(dim=1)\n",
        "yyhat = pred[data.test_mask]\n",
        "\n",
        "metrics = [sklearn.metrics.accuracy_score,\n",
        "           sklearn.metrics.precision_score,\n",
        "           sklearn.metrics.recall_score,\n",
        "           sklearn.metrics.f1_score]\n",
        "\n",
        "_results6= pd.DataFrame({m.__name__:[m(yy,yyhat).round(6)] for m in metrics},index=['분석6'])\n",
        "_results6"
      ],
      "id": "3d278a90-cbcc-4c62-b7f6-cf4a8b75ef83"
    },
    {
      "cell_type": "markdown",
      "metadata": {},
      "source": [
        "------------------------------------------------------------------------\n",
        "\n",
        "## 분석 7(GCN)"
      ],
      "id": "c63d3eb9-40dc-4ba3-b6bc-da801c4ffef7"
    },
    {
      "cell_type": "code",
      "execution_count": 117,
      "metadata": {},
      "outputs": [],
      "source": [
        "torch.manual_seed(202250926)\n",
        "X = (data.x[data.train_mask]).numpy()\n",
        "XX = (data.x[data.test_mask]).numpy()\n",
        "y = (data.y[data.train_mask]).numpy()\n",
        "yy = (data.y[data.test_mask]).numpy()\n",
        "\n",
        "model = GCN1()\n",
        "optimizer = torch.optim.Adam(model.parameters(), lr=0.01, weight_decay=5e-4)\n",
        "model.train()\n",
        "for epoch in range(1000):\n",
        "    optimizer.zero_grad()\n",
        "    out = model(data)\n",
        "    loss = F.nll_loss(out[data.train_mask], data.y[data.train_mask])\n",
        "    loss.backward()\n",
        "    optimizer.step()\n",
        "model.eval()\n",
        "\n",
        "pred = model(data).argmax(dim=1)\n",
        "yyhat = pred[data.test_mask]\n",
        "\n",
        "metrics = [sklearn.metrics.accuracy_score,\n",
        "           sklearn.metrics.precision_score,\n",
        "           sklearn.metrics.recall_score,\n",
        "           sklearn.metrics.f1_score]\n",
        "\n",
        "_results7= pd.DataFrame({m.__name__:[m(yy,yyhat).round(6)] for m in metrics},index=['분석7'])\n",
        "_results7"
      ],
      "id": "9f899a2e-8e1f-4c77-95e6-ec153ca953b3"
    }
  ],
  "nbformat": 4,
  "nbformat_minor": 5,
  "metadata": {
    "kernelspec": {
      "name": "python3",
      "display_name": "Python 3 (ipykernel)",
      "language": "python"
    },
    "language_info": {
      "name": "python",
      "codemirror_mode": {
        "name": "ipython",
        "version": "3"
      },
      "file_extension": ".py",
      "mimetype": "text/x-python",
      "nbconvert_exporter": "python",
      "pygments_lexer": "ipython3",
      "version": "3.8.18"
    }
  }
}