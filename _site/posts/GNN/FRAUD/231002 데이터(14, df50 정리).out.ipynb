{
  "cells": [
    {
      "cell_type": "markdown",
      "metadata": {},
      "source": [
        "# **\\[FRAUD\\]** 데이터정리 시도(GCN)\n",
        "\n",
        "김보람  \n",
        "2023-10-02\n",
        "\n",
        "# imports"
      ],
      "id": "bd43e675-19a3-4c6f-a1d0-dc5785c9cb59"
    },
    {
      "cell_type": "code",
      "execution_count": 1,
      "metadata": {},
      "outputs": [
        {
          "output_type": "stream",
          "name": "stderr",
          "text": [
            "/home/coco/anaconda3/envs/py38/lib/python3.8/site-packages/torch_geometric/typing.py:18: UserWarning: An issue occurred while importing 'pyg-lib'. Disabling its usage. Stacktrace: /home/coco/anaconda3/envs/py38/lib/python3.8/site-packages/libpyg.so: undefined symbol: _ZN2at4_ops12split_Tensor4callERKNS_6TensorEN3c106SymIntEl\n",
            "  warnings.warn(f\"An issue occurred while importing 'pyg-lib'. \"\n",
            "/home/coco/anaconda3/envs/py38/lib/python3.8/site-packages/torch_geometric/typing.py:31: UserWarning: An issue occurred while importing 'torch-scatter'. Disabling its usage. Stacktrace: /home/coco/anaconda3/envs/py38/lib/python3.8/site-packages/torch_scatter/_scatter_cuda.so: undefined symbol: _ZNK3c107SymBool10guard_boolEPKcl\n",
            "  warnings.warn(f\"An issue occurred while importing 'torch-scatter'. \"\n",
            "/home/coco/anaconda3/envs/py38/lib/python3.8/site-packages/torch_geometric/typing.py:42: UserWarning: An issue occurred while importing 'torch-sparse'. Disabling its usage. Stacktrace: /home/coco/anaconda3/envs/py38/lib/python3.8/site-packages/torch_sparse/_diag_cuda.so: undefined symbol: _ZN3c106detail19maybe_wrap_dim_slowIlEET_S2_S2_b\n",
            "  warnings.warn(f\"An issue occurred while importing 'torch-sparse'. \""
          ]
        }
      ],
      "source": [
        "import numpy as np\n",
        "import pandas as pd\n",
        "import matplotlib.pyplot as plt \n",
        "import networkx as nx\n",
        "import sklearn\n",
        "import xgboost as xgb\n",
        "\n",
        "# sklearn\n",
        "from sklearn import model_selection # split함수이용\n",
        "from sklearn import ensemble # RF,GBM\n",
        "from sklearn import metrics\n",
        "from sklearn.metrics import precision_score, recall_score, f1_score\n",
        "from sklearn.svm import SVC\n",
        "from sklearn.ensemble import RandomForestClassifier\n",
        "from sklearn.naive_bayes import GaussianNB\n",
        "\n",
        "# gnn\n",
        "import torch\n",
        "import torch.nn.functional as F\n",
        "import torch_geometric\n",
        "from torch_geometric.nn import GCNConv\n",
        "\n"
      ],
      "id": "4eb91738-6398-4ffc-bbec-fc48fcc8f249"
    },
    {
      "cell_type": "code",
      "execution_count": 2,
      "metadata": {},
      "outputs": [],
      "source": [
        "def down_sample_textbook(df):\n",
        "    df_majority = df[df.is_fraud==0].copy()\n",
        "    df_minority = df[df.is_fraud==1].copy()\n",
        "    df_maj_dowsampled = sklearn.utils.resample(df_majority, n_samples=len(df_minority), replace=False, random_state=42)\n",
        "    df_downsampled = pd.concat([df_minority, df_maj_dowsampled])\n",
        "    return df_downsampled\n",
        "\n",
        "def compute_time_difference(group):\n",
        "    n = len(group)\n",
        "    result = []\n",
        "    for i in range(n):\n",
        "        for j in range(n):\n",
        "            time_difference = abs(group.iloc[i].trans_date_trans_time.value - group.iloc[j].trans_date_trans_time.value)\n",
        "            result.append([group.iloc[i].name, group.iloc[j].name, time_difference])\n",
        "    return result\n",
        "\n",
        "def mask(df):\n",
        "    df_tr,df_test = sklearn.model_selection.train_test_split(df, random_state=42)\n",
        "    N = len(df)\n",
        "    train_mask = [i in df_tr.index for i in range(N)]\n",
        "    test_mask = [i in df_test.index for i in range(N)]\n",
        "    train_mask = np.array(train_mask)\n",
        "    test_mask = np.array(test_mask)\n",
        "    return train_mask, test_mask\n",
        "\n",
        "def edge_index_selected(edge_index):\n",
        "    theta = edge_index[:,2].mean()\n",
        "    edge_index[:,2] = (np.exp(-edge_index[:,2]/theta) != 1)*(np.exp(-edge_index[:,2]/theta))\n",
        "    edge_index = edge_index.tolist()\n",
        "    mean_ = np.array(edge_index)[:,2].mean()\n",
        "    selected_edges = [(int(row[0]), int(row[1])) for row in edge_index if row[2] > mean_]\n",
        "    edge_index_selected = torch.tensor(selected_edges, dtype=torch.long).t()\n",
        "    return edge_index_selected\n",
        "\n",
        "\n"
      ],
      "id": "2774d96b-b24a-492b-a587-2815ff6e3ead"
    },
    {
      "cell_type": "code",
      "execution_count": 3,
      "metadata": {},
      "outputs": [],
      "source": [
        "fraudTrain = pd.read_csv(\"~/Desktop/fraudTrain.csv\").iloc[:,1:]"
      ],
      "id": "7021dc07-8a06-417b-9fb6-c71b2f05e5eb"
    },
    {
      "cell_type": "code",
      "execution_count": 4,
      "metadata": {},
      "outputs": [],
      "source": [
        "fraudTrain = fraudTrain.assign(trans_date_trans_time= list(map(lambda x: pd.to_datetime(x), fraudTrain.trans_date_trans_time)))\n",
        "fraudTrain"
      ],
      "id": "eb7a9b2b-f984-4bb0-b14b-e523a00d8d38"
    },
    {
      "cell_type": "markdown",
      "metadata": {},
      "source": [
        "## 데이터정리"
      ],
      "id": "74738fa1-3284-4502-ac4a-c7ceee5a193d"
    },
    {
      "cell_type": "code",
      "execution_count": 5,
      "metadata": {},
      "outputs": [],
      "source": [
        "_df1 = fraudTrain[fraudTrain[\"is_fraud\"] == 0].sample(frac=0.20, random_state=42)\n",
        "_df2 = fraudTrain[fraudTrain[\"is_fraud\"] == 1]\n",
        "df02 = pd.concat([_df1,_df2])\n",
        "df02.shape"
      ],
      "id": "adec4c87-7a49-41dd-ba04-879643113486"
    },
    {
      "cell_type": "code",
      "execution_count": 6,
      "metadata": {},
      "outputs": [],
      "source": [
        "df50 = down_sample_textbook(df02)\n",
        "df50 = df50.reset_index()\n",
        "df50.shape"
      ],
      "id": "b1eab03c-9ee2-45e1-95a5-923642e8ce6f"
    },
    {
      "cell_type": "markdown",
      "metadata": {},
      "source": [
        "------------------------------------------------------------------------\n",
        "\n",
        "### tr/test"
      ],
      "id": "82395c0d-3f07-44d3-ae4c-cca71c00c728"
    },
    {
      "cell_type": "code",
      "execution_count": 7,
      "metadata": {},
      "outputs": [],
      "source": [
        "mask(df50)"
      ],
      "id": "1b4cefa1-9bd8-4fe5-9e9e-efee00f1576b"
    },
    {
      "cell_type": "code",
      "execution_count": 8,
      "metadata": {},
      "outputs": [],
      "source": [
        "train_mask, test_mask = mask(df50)"
      ],
      "id": "fb6030e7-0b4f-4885-b3a2-b20147ebea2a"
    },
    {
      "cell_type": "markdown",
      "metadata": {},
      "source": [
        "------------------------------------------------------------------------\n",
        "\n",
        "### edge_index 설정"
      ],
      "id": "13168c67-e6c7-4765-9efe-0cb9b7abf62a"
    },
    {
      "cell_type": "code",
      "execution_count": 9,
      "metadata": {},
      "outputs": [],
      "source": [
        "# groups = df50.groupby('cc_num')\n",
        "# edge_index_list_plus = [compute_time_difference(group) for _, group in groups]\n",
        "# edge_index_list_plus_flat = [item for sublist in edge_index_list_plus for item in sublist]\n",
        "# edge_index_list_plus_nparr = np.array(edge_index_list_plus_flat)\n",
        "# np.save('edge_index_list_plus50.npy', edge_index_list_plus_nparr)"
      ],
      "id": "4b6f1a43-7569-4252-9e13-206b2fbc7e47"
    },
    {
      "cell_type": "code",
      "execution_count": 10,
      "metadata": {},
      "outputs": [],
      "source": [
        "edge_index = np.load('edge_index_list_plus50.npy').astype(np.float64)\n",
        "edge_index.shape"
      ],
      "id": "d21b94dd-4792-441b-a6e4-fbec20fde9dc"
    },
    {
      "cell_type": "code",
      "execution_count": 11,
      "metadata": {},
      "outputs": [],
      "source": [
        "edge_index_selected = edge_index_selected(edge_index)"
      ],
      "id": "4910ef24-55e6-49d5-b6ce-f822534892e3"
    },
    {
      "cell_type": "markdown",
      "metadata": {},
      "source": [
        "------------------------------------------------------------------------\n",
        "\n",
        "### data설정(x, edge_index, y)"
      ],
      "id": "f87c0fe3-27f6-4c45-ba7c-5c3e98044a47"
    },
    {
      "cell_type": "code",
      "execution_count": 12,
      "metadata": {},
      "outputs": [],
      "source": [
        "x = torch.tensor(df50['amt'], dtype=torch.float).reshape(-1,1)\n",
        "y = torch.tensor(df50['is_fraud'],dtype=torch.int64)\n",
        "data = torch_geometric.data.Data(x=x, edge_index = edge_index_selected, y=y, train_mask = train_mask, test_mask = test_mask)\n",
        "data"
      ],
      "id": "cbb02622-2bd3-40d0-abd1-aac0fbd2b152"
    },
    {
      "cell_type": "markdown",
      "metadata": {},
      "source": [
        "------------------------------------------------------------------------\n",
        "\n",
        "# 정리\n",
        "\n",
        "| 구분  | Train   | Test      | 모형 | 변경사항             | 비고 |\n",
        "|-------|---------|-----------|------|----------------------|------|\n",
        "| 분석1 | df50_tr | df50_test | GCN1 | 기본                 |      |\n",
        "| 분석2 | df50_tr | df50_test | GCN2 | GCNConv 16 -\\> 32    |      |\n",
        "| 분석3 | df50_tr | df50_test | GCN3 | GCNConv 16 -\\> 64    |      |\n",
        "| 분석4 | df50_tr | df50_test | GCN1 | 학습률 0.01 -\\> 0.03 |      |\n",
        "| 분석5 | df50_tr | df50_test | GCN1 | 학습률 0.01 -\\> 0.05 |      |\n",
        "| 분석6 | df50_tr | df50_test | GCN1 | 학습률 0.01 -\\> 0.1  |      |\n",
        "| 분석7 | df50_tr | df50_test | GCN1 | range 400 -\\> 1000   |      |"
      ],
      "id": "b457337c-54c8-4c72-aea8-329d235a0263"
    },
    {
      "cell_type": "code",
      "execution_count": 94,
      "metadata": {},
      "outputs": [],
      "source": [
        "lst = [_results1, _results2,_results3,_results4,_results5, _results6, _results7]\n",
        "pd.concat(lst)"
      ],
      "id": "81169630-00fe-4978-8223-c0661f1759c9"
    },
    {
      "cell_type": "markdown",
      "metadata": {},
      "source": [
        "뭐시여.\n",
        "\n",
        "------------------------------------------------------------------------\n",
        "\n",
        "## 분석 1(GCN)"
      ],
      "id": "7a9b6723-fc31-4926-9753-9325f916ba6c"
    },
    {
      "cell_type": "code",
      "execution_count": 54,
      "metadata": {},
      "outputs": [],
      "source": [
        "torch.manual_seed(202250926)"
      ],
      "id": "03dc40ec-51a9-486a-a0b0-3fffe5d1f613"
    },
    {
      "cell_type": "code",
      "execution_count": 55,
      "metadata": {},
      "outputs": [],
      "source": [
        "class GCN1(torch.nn.Module):\n",
        "    def __init__(self):\n",
        "        super().__init__()\n",
        "        self.conv1 = GCNConv(1, 16)\n",
        "        self.conv2 = GCNConv(16,2)\n",
        "\n",
        "    def forward(self, data):\n",
        "        x, edge_index = data.x, data.edge_index\n",
        "\n",
        "        x = self.conv1(x, edge_index)\n",
        "        x = F.relu(x)\n",
        "        x = F.dropout(x, training=self.training)\n",
        "        x = self.conv2(x, edge_index)\n",
        "\n",
        "        return F.log_softmax(x, dim=1)"
      ],
      "id": "afe84eb1-8d4a-4fd7-915a-bfbe9dbf1cd2"
    },
    {
      "cell_type": "code",
      "execution_count": 56,
      "metadata": {},
      "outputs": [],
      "source": [
        "X = (data.x[data.train_mask]).numpy()\n",
        "XX = (data.x[data.test_mask]).numpy()\n",
        "y = (data.y[data.train_mask]).numpy()\n",
        "yy = (data.y[data.test_mask]).numpy()"
      ],
      "id": "b458e1df-ba6e-411c-bf97-dbab6ae72485"
    },
    {
      "cell_type": "code",
      "execution_count": 57,
      "metadata": {},
      "outputs": [],
      "source": [
        "model = GCN1()\n",
        "optimizer = torch.optim.Adam(model.parameters(), lr=0.01, weight_decay=5e-4)\n",
        "model.train()\n",
        "for epoch in range(400):\n",
        "    optimizer.zero_grad()\n",
        "    out = model(data)\n",
        "    loss = F.nll_loss(out[data.train_mask], data.y[data.train_mask])\n",
        "    loss.backward()\n",
        "    optimizer.step()\n",
        "model.eval()"
      ],
      "id": "d02dd95d-4c9d-4baa-8e1c-ab2866bba701"
    },
    {
      "cell_type": "code",
      "execution_count": 58,
      "metadata": {},
      "outputs": [],
      "source": [
        "pred = model(data).argmax(dim=1)\n",
        "yyhat = pred[data.test_mask]"
      ],
      "id": "a97ecbec-64dd-40cc-8d55-e8659c4fe5fb"
    },
    {
      "cell_type": "code",
      "execution_count": 59,
      "metadata": {},
      "outputs": [],
      "source": [
        "metrics = [sklearn.metrics.accuracy_score,\n",
        "           sklearn.metrics.precision_score,\n",
        "           sklearn.metrics.recall_score,\n",
        "           sklearn.metrics.f1_score]"
      ],
      "id": "33a5204e-0be6-4b92-8b25-e1af423a1b26"
    },
    {
      "cell_type": "code",
      "execution_count": 60,
      "metadata": {},
      "outputs": [],
      "source": [
        "_results1= pd.DataFrame({m.__name__:[m(yy,yyhat).round(6)] for m in metrics},index=['분석1'])\n",
        "_results1"
      ],
      "id": "cdb98e1f-2035-4d69-9230-785a65b4e96c"
    },
    {
      "cell_type": "markdown",
      "metadata": {},
      "source": [
        "------------------------------------------------------------------------\n",
        "\n",
        "## 분석 2(GCN)"
      ],
      "id": "ea7c57bb-0591-4a6f-9610-34474f44e048"
    },
    {
      "cell_type": "code",
      "execution_count": 61,
      "metadata": {},
      "outputs": [],
      "source": [
        "class GCN2(torch.nn.Module):\n",
        "    def __init__(self):\n",
        "        super().__init__()\n",
        "        self.conv1 = GCNConv(1, 32)\n",
        "        self.conv2 = GCNConv(32,2)\n",
        "\n",
        "    def forward(self, data):\n",
        "        x, edge_index = data.x, data.edge_index\n",
        "\n",
        "        x = self.conv1(x, edge_index)\n",
        "        x = F.relu(x)\n",
        "        x = F.dropout(x, training=self.training)\n",
        "        x = self.conv2(x, edge_index)\n",
        "\n",
        "        return F.log_softmax(x, dim=1)"
      ],
      "id": "3ec0c730-9dcf-44ef-92d7-f84511128c00"
    },
    {
      "cell_type": "code",
      "execution_count": 62,
      "metadata": {},
      "outputs": [],
      "source": [
        "X = (data.x[data.train_mask]).numpy()\n",
        "XX = (data.x[data.test_mask]).numpy()\n",
        "y = (data.y[data.train_mask]).numpy()\n",
        "yy = (data.y[data.test_mask]).numpy()"
      ],
      "id": "601c6b14-0827-4b4e-b6aa-1eec305ce1c9"
    },
    {
      "cell_type": "code",
      "execution_count": 63,
      "metadata": {},
      "outputs": [],
      "source": [
        "model = GCN2()\n",
        "optimizer = torch.optim.Adam(model.parameters(), lr=0.01, weight_decay=5e-4)\n",
        "model.train()\n",
        "for epoch in range(400):\n",
        "    optimizer.zero_grad()\n",
        "    out = model(data)\n",
        "    loss = F.nll_loss(out[data.train_mask], data.y[data.train_mask])\n",
        "    loss.backward()\n",
        "    optimizer.step()\n",
        "model.eval()"
      ],
      "id": "74d57e09-c6b2-4f72-b53a-402528894cfa"
    },
    {
      "cell_type": "code",
      "execution_count": 64,
      "metadata": {},
      "outputs": [],
      "source": [
        "pred = model(data).argmax(dim=1)\n",
        "yyhat = pred[data.test_mask]"
      ],
      "id": "b8cb628d-d51f-4339-b03a-78da319506bd"
    },
    {
      "cell_type": "code",
      "execution_count": 65,
      "metadata": {},
      "outputs": [],
      "source": [
        "metrics = [sklearn.metrics.accuracy_score,\n",
        "           sklearn.metrics.precision_score,\n",
        "           sklearn.metrics.recall_score,\n",
        "           sklearn.metrics.f1_score]"
      ],
      "id": "d520ec5e-6414-4683-acb1-c18882b78ce3"
    },
    {
      "cell_type": "code",
      "execution_count": 66,
      "metadata": {},
      "outputs": [],
      "source": [
        "_results2= pd.DataFrame({m.__name__:[m(yy,yyhat).round(6)] for m in metrics},index=['분석2'])\n",
        "_results2"
      ],
      "id": "25c25482-ed68-4f39-8b27-a8c9bc6ee43a"
    },
    {
      "cell_type": "markdown",
      "metadata": {},
      "source": [
        "------------------------------------------------------------------------\n",
        "\n",
        "## 분석 3(GCN)"
      ],
      "id": "09742387-cd6d-41e2-9933-f9c81e8605ad"
    },
    {
      "cell_type": "code",
      "execution_count": 67,
      "metadata": {},
      "outputs": [],
      "source": [
        "class GCN3(torch.nn.Module):\n",
        "    def __init__(self):\n",
        "        super().__init__()\n",
        "        self.conv1 = GCNConv(1, 64)\n",
        "        self.conv2 = GCNConv(64,2)\n",
        "\n",
        "    def forward(self, data):\n",
        "        x, edge_index = data.x, data.edge_index\n",
        "\n",
        "        x = self.conv1(x, edge_index)\n",
        "        x = F.relu(x)\n",
        "        x = F.dropout(x, training=self.training)\n",
        "        x = self.conv2(x, edge_index)\n",
        "\n",
        "        return F.log_softmax(x, dim=1)"
      ],
      "id": "f13f6ec1-c2a0-42bd-a17f-0c025de47a4c"
    },
    {
      "cell_type": "code",
      "execution_count": 68,
      "metadata": {},
      "outputs": [],
      "source": [
        "X = (data.x[data.train_mask]).numpy()\n",
        "XX = (data.x[data.test_mask]).numpy()\n",
        "y = (data.y[data.train_mask]).numpy()\n",
        "yy = (data.y[data.test_mask]).numpy()"
      ],
      "id": "c083cf2f-091c-42e3-9f0e-52c31a0790ea"
    },
    {
      "cell_type": "code",
      "execution_count": 69,
      "metadata": {},
      "outputs": [],
      "source": [
        "model = GCN3()\n",
        "optimizer = torch.optim.Adam(model.parameters(), lr=0.01, weight_decay=5e-4)\n",
        "model.train()\n",
        "for epoch in range(400):\n",
        "    optimizer.zero_grad()\n",
        "    out = model(data)\n",
        "    loss = F.nll_loss(out[data.train_mask], data.y[data.train_mask])\n",
        "    loss.backward()\n",
        "    optimizer.step()\n",
        "model.eval()"
      ],
      "id": "a35c8793-a457-4579-bab9-c5b4c4e05201"
    },
    {
      "cell_type": "code",
      "execution_count": 70,
      "metadata": {},
      "outputs": [],
      "source": [
        "pred = model(data).argmax(dim=1)\n",
        "yyhat = pred[data.test_mask]"
      ],
      "id": "c6dc2d4a-ac2e-41c5-9c2d-1d7487b2567b"
    },
    {
      "cell_type": "code",
      "execution_count": 71,
      "metadata": {},
      "outputs": [],
      "source": [
        "metrics = [sklearn.metrics.accuracy_score,\n",
        "           sklearn.metrics.precision_score,\n",
        "           sklearn.metrics.recall_score,\n",
        "           sklearn.metrics.f1_score]"
      ],
      "id": "d59b24ff-c3a4-429f-9c38-0bd1976ee227"
    },
    {
      "cell_type": "code",
      "execution_count": 72,
      "metadata": {},
      "outputs": [],
      "source": [
        "_results3= pd.DataFrame({m.__name__:[m(yy,yyhat).round(6)] for m in metrics},index=['분석3'])\n",
        "_results3"
      ],
      "id": "ccc278ad-2431-4a4b-b590-98137c7cf1fd"
    },
    {
      "cell_type": "markdown",
      "metadata": {},
      "source": [
        "------------------------------------------------------------------------\n",
        "\n",
        "## 분석 4(GCN)"
      ],
      "id": "2a0b7688-4949-49bc-9222-2c62de250a03"
    },
    {
      "cell_type": "code",
      "execution_count": 73,
      "metadata": {},
      "outputs": [],
      "source": [
        "X = (data.x[data.train_mask]).numpy()\n",
        "XX = (data.x[data.test_mask]).numpy()\n",
        "y = (data.y[data.train_mask]).numpy()\n",
        "yy = (data.y[data.test_mask]).numpy()"
      ],
      "id": "7df5285e-8891-4661-bc33-522c1110fa2e"
    },
    {
      "cell_type": "code",
      "execution_count": 74,
      "metadata": {},
      "outputs": [],
      "source": [
        "model = GCN1()\n",
        "optimizer = torch.optim.Adam(model.parameters(), lr=0.03, weight_decay=5e-4)\n",
        "model.train()\n",
        "for epoch in range(400):\n",
        "    optimizer.zero_grad()\n",
        "    out = model(data)\n",
        "    loss = F.nll_loss(out[data.train_mask], data.y[data.train_mask])\n",
        "    loss.backward()\n",
        "    optimizer.step()\n",
        "model.eval()"
      ],
      "id": "a0290d10-164e-43fe-9244-98c1247c5bb7"
    },
    {
      "cell_type": "code",
      "execution_count": 75,
      "metadata": {},
      "outputs": [],
      "source": [
        "pred = model(data).argmax(dim=1)\n",
        "yyhat = pred[data.test_mask]"
      ],
      "id": "a07a3dd3-98f0-408e-bbde-8b3f8dbaeb36"
    },
    {
      "cell_type": "code",
      "execution_count": 76,
      "metadata": {},
      "outputs": [],
      "source": [
        "metrics = [sklearn.metrics.accuracy_score,\n",
        "           sklearn.metrics.precision_score,\n",
        "           sklearn.metrics.recall_score,\n",
        "           sklearn.metrics.f1_score]"
      ],
      "id": "511cdbce-6054-40c8-af27-440ab1a3fffe"
    },
    {
      "cell_type": "code",
      "execution_count": 77,
      "metadata": {},
      "outputs": [],
      "source": [
        "_results4= pd.DataFrame({m.__name__:[m(yy,yyhat).round(6)] for m in metrics},index=['분석4'])\n",
        "_results4"
      ],
      "id": "f213afe2-b043-40f7-abc2-aed3e2635dc9"
    },
    {
      "cell_type": "markdown",
      "metadata": {},
      "source": [
        "------------------------------------------------------------------------\n",
        "\n",
        "## 분석 5(GCN)"
      ],
      "id": "1b2dc633-2192-440e-acf5-b829e0109efc"
    },
    {
      "cell_type": "code",
      "execution_count": 78,
      "metadata": {},
      "outputs": [],
      "source": [
        "class GCN1(torch.nn.Module):\n",
        "    def __init__(self):\n",
        "        super().__init__()\n",
        "        self.conv1 = GCNConv(1, 16)\n",
        "        self.conv2 = GCNConv(16,2)\n",
        "\n",
        "    def forward(self, data):\n",
        "        x, edge_index = data.x, data.edge_index\n",
        "\n",
        "        x = self.conv1(x, edge_index)\n",
        "        x = F.relu(x)\n",
        "        x = F.dropout(x, training=self.training)\n",
        "        x = self.conv2(x, edge_index)\n",
        "\n",
        "        return F.log_softmax(x, dim=1)"
      ],
      "id": "edc685e8-203e-4ad5-a4f2-b909afb85c27"
    },
    {
      "cell_type": "code",
      "execution_count": 79,
      "metadata": {},
      "outputs": [],
      "source": [
        "X = (data.x[data.train_mask]).numpy()\n",
        "XX = (data.x[data.test_mask]).numpy()\n",
        "y = (data.y[data.train_mask]).numpy()\n",
        "yy = (data.y[data.test_mask]).numpy()"
      ],
      "id": "c4c3b227-b496-4272-b91c-20eb004acddd"
    },
    {
      "cell_type": "code",
      "execution_count": 80,
      "metadata": {},
      "outputs": [],
      "source": [
        "model = GCN1()\n",
        "optimizer = torch.optim.Adam(model.parameters(), lr=0.05, weight_decay=5e-4)\n",
        "model.train()\n",
        "for epoch in range(400):\n",
        "    optimizer.zero_grad()\n",
        "    out = model(data)\n",
        "    loss = F.nll_loss(out[data.train_mask], data.y[data.train_mask])\n",
        "    loss.backward()\n",
        "    optimizer.step()\n",
        "model.eval()"
      ],
      "id": "5ec47269-85d3-47ac-ac5b-cc93ba62953e"
    },
    {
      "cell_type": "code",
      "execution_count": 81,
      "metadata": {},
      "outputs": [],
      "source": [
        "pred = model(data).argmax(dim=1)\n",
        "yyhat = pred[data.test_mask]"
      ],
      "id": "f8ac09ab-0ae6-4d33-929a-20b60de93be4"
    },
    {
      "cell_type": "code",
      "execution_count": 82,
      "metadata": {},
      "outputs": [],
      "source": [
        "metrics = [sklearn.metrics.accuracy_score,\n",
        "           sklearn.metrics.precision_score,\n",
        "           sklearn.metrics.recall_score,\n",
        "           sklearn.metrics.f1_score]"
      ],
      "id": "39ad4d85-f3aa-46cb-8387-f7dfe6114a37"
    },
    {
      "cell_type": "code",
      "execution_count": 83,
      "metadata": {},
      "outputs": [],
      "source": [
        "_results5= pd.DataFrame({m.__name__:[m(yy,yyhat).round(6)] for m in metrics},index=['분석5'])\n",
        "_results5"
      ],
      "id": "3e64b9ad-2b02-44bf-a3de-b174123426e0"
    },
    {
      "cell_type": "markdown",
      "metadata": {},
      "source": [
        "------------------------------------------------------------------------\n",
        "\n",
        "## 분석 6(GCN)"
      ],
      "id": "d833e46f-d815-4f94-bb89-828a68a7377a"
    },
    {
      "cell_type": "code",
      "execution_count": 84,
      "metadata": {},
      "outputs": [],
      "source": [
        "X = (data.x[data.train_mask]).numpy()\n",
        "XX = (data.x[data.test_mask]).numpy()\n",
        "y = (data.y[data.train_mask]).numpy()\n",
        "yy = (data.y[data.test_mask]).numpy()"
      ],
      "id": "3f47b5e9-dbc8-4e44-90bf-a6c0e690918d"
    },
    {
      "cell_type": "code",
      "execution_count": 85,
      "metadata": {},
      "outputs": [],
      "source": [
        "model = GCN1()\n",
        "optimizer = torch.optim.Adam(model.parameters(), lr=0.01, weight_decay=5e-4)\n",
        "model.train()\n",
        "for epoch in range(400):\n",
        "    optimizer.zero_grad()\n",
        "    out = model(data)\n",
        "    loss = F.nll_loss(out[data.train_mask], data.y[data.train_mask])\n",
        "    loss.backward()\n",
        "    optimizer.step()\n",
        "model.eval()"
      ],
      "id": "aa1ea927-d028-4ad8-8203-6d473c5da793"
    },
    {
      "cell_type": "code",
      "execution_count": 86,
      "metadata": {},
      "outputs": [],
      "source": [
        "pred = model(data).argmax(dim=1)\n",
        "yyhat = pred[data.test_mask]"
      ],
      "id": "522531f1-1041-4e80-9e06-af655f2e76e2"
    },
    {
      "cell_type": "code",
      "execution_count": 87,
      "metadata": {},
      "outputs": [],
      "source": [
        "metrics = [sklearn.metrics.accuracy_score,\n",
        "           sklearn.metrics.precision_score,\n",
        "           sklearn.metrics.recall_score,\n",
        "           sklearn.metrics.f1_score]"
      ],
      "id": "8081257f-9ef3-4551-999b-1b6360b5f3f2"
    },
    {
      "cell_type": "code",
      "execution_count": 88,
      "metadata": {},
      "outputs": [],
      "source": [
        "_results6= pd.DataFrame({m.__name__:[m(yy,yyhat).round(6)] for m in metrics},index=['분석6'])\n",
        "_results6"
      ],
      "id": "90c423d2-1f6e-46a7-a3b1-06df47e4aa83"
    },
    {
      "cell_type": "markdown",
      "metadata": {},
      "source": [
        "------------------------------------------------------------------------\n",
        "\n",
        "## 분석 7(GCN)"
      ],
      "id": "c2ae07bf-6619-48c9-a458-ad515fdc8b9f"
    },
    {
      "cell_type": "code",
      "execution_count": 89,
      "metadata": {},
      "outputs": [],
      "source": [
        "X = (data.x[data.train_mask]).numpy()\n",
        "XX = (data.x[data.test_mask]).numpy()\n",
        "y = (data.y[data.train_mask]).numpy()\n",
        "yy = (data.y[data.test_mask]).numpy()"
      ],
      "id": "9004c0e4-295e-4866-9dc9-b2bb22e239b6"
    },
    {
      "cell_type": "code",
      "execution_count": 90,
      "metadata": {},
      "outputs": [],
      "source": [
        "model = GCN1()\n",
        "optimizer = torch.optim.Adam(model.parameters(), lr=0.01, weight_decay=5e-4)\n",
        "model.train()\n",
        "for epoch in range(1000):\n",
        "    optimizer.zero_grad()\n",
        "    out = model(data)\n",
        "    loss = F.nll_loss(out[data.train_mask], data.y[data.train_mask])\n",
        "    loss.backward()\n",
        "    optimizer.step()\n",
        "model.eval()"
      ],
      "id": "78dbdfa1-82cc-460f-bb42-deb4065b8232"
    },
    {
      "cell_type": "code",
      "execution_count": 91,
      "metadata": {},
      "outputs": [],
      "source": [
        "pred = model(data).argmax(dim=1)\n",
        "yyhat = pred[data.test_mask]"
      ],
      "id": "91cc7724-a175-486f-a5c8-d15c39cb702b"
    },
    {
      "cell_type": "code",
      "execution_count": 92,
      "metadata": {},
      "outputs": [],
      "source": [
        "metrics = [sklearn.metrics.accuracy_score,\n",
        "           sklearn.metrics.precision_score,\n",
        "           sklearn.metrics.recall_score,\n",
        "           sklearn.metrics.f1_score]"
      ],
      "id": "7040d53d-3459-43ff-a417-b424ab0da292"
    },
    {
      "cell_type": "code",
      "execution_count": 93,
      "metadata": {},
      "outputs": [],
      "source": [
        "_results7= pd.DataFrame({m.__name__:[m(yy,yyhat).round(6)] for m in metrics},index=['분석7'])\n",
        "_results7"
      ],
      "id": "e0121983-1960-4d11-8a6c-bb5cfbade890"
    }
  ],
  "nbformat": 4,
  "nbformat_minor": 5,
  "metadata": {
    "kernelspec": {
      "name": "python3",
      "display_name": "Python 3 (ipykernel)",
      "language": "python"
    },
    "language_info": {
      "name": "python",
      "codemirror_mode": {
        "name": "ipython",
        "version": "3"
      },
      "file_extension": ".py",
      "mimetype": "text/x-python",
      "nbconvert_exporter": "python",
      "pygments_lexer": "ipython3",
      "version": "3.8.18"
    }
  }
}