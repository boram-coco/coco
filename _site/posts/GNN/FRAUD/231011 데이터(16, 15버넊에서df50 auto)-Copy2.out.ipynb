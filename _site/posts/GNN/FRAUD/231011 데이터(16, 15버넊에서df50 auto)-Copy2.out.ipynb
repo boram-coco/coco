{
  "cells": [
    {
      "cell_type": "markdown",
      "metadata": {},
      "source": [
        "# **\\[FRAUD\\]** 데이터정리 시도(df50 X범주_auto)\n",
        "\n",
        "김보람  \n",
        "2023-10-11\n",
        "\n",
        "# imports"
      ],
      "id": "9b3dcaec-85a0-4d2e-9ca3-f9b7829b4765"
    },
    {
      "cell_type": "code",
      "execution_count": 14,
      "metadata": {},
      "outputs": [],
      "source": [
        "import numpy as np\n",
        "import pandas as pd\n",
        "import matplotlib.pyplot as plt \n",
        "import networkx as nx\n",
        "import sklearn\n",
        "import xgboost as xgb\n",
        "\n",
        "# sklearn\n",
        "from sklearn import model_selection # split함수이용\n",
        "from sklearn import ensemble # RF,GBM\n",
        "from sklearn import metrics\n",
        "from sklearn.metrics import precision_score, recall_score, f1_score\n",
        "from sklearn.svm import SVC\n",
        "from sklearn.ensemble import RandomForestClassifier\n",
        "from sklearn.naive_bayes import GaussianNB\n",
        "\n",
        "# gnn\n",
        "import torch\n",
        "import torch.nn.functional as F\n",
        "import torch_geometric\n",
        "from torch_geometric.nn import GCNConv\n",
        "\n",
        "\n",
        "# autogluon\n",
        "from autogluon.tabular import TabularDataset, TabularPredictor"
      ],
      "id": "4eb91738-6398-4ffc-bbec-fc48fcc8f249"
    },
    {
      "cell_type": "code",
      "execution_count": 15,
      "metadata": {},
      "outputs": [],
      "source": [
        "def down_sample_textbook(df):\n",
        "    df_majority = df[df.is_fraud==0].copy()\n",
        "    df_minority = df[df.is_fraud==1].copy()\n",
        "    df_maj_dowsampled = sklearn.utils.resample(df_majority, n_samples=len(df_minority), replace=False, random_state=42)\n",
        "    df_downsampled = pd.concat([df_minority, df_maj_dowsampled])\n",
        "    return df_downsampled\n",
        "\n",
        "def compute_time_difference(group):\n",
        "    n = len(group)\n",
        "    result = []\n",
        "    for i in range(n):\n",
        "        for j in range(n):\n",
        "            time_difference = abs(group.iloc[i].trans_date_trans_time.value - group.iloc[j].trans_date_trans_time.value)\n",
        "            result.append([group.iloc[i].name, group.iloc[j].name, time_difference])\n",
        "    return result\n",
        "\n",
        "\n",
        "class GCN(torch.nn.Module):\n",
        "    def __init__(self):\n",
        "        super().__init__()\n",
        "        self.conv1 = GCNConv(1, 16)\n",
        "        self.conv2 = GCNConv(16,2)\n",
        "\n",
        "    def forward(self, data):\n",
        "        x, edge_index = data.x, data.edge_index\n",
        "\n",
        "        x = self.conv1(x, edge_index)\n",
        "        x = F.relu(x)\n",
        "        x = F.dropout(x, training=self.training)\n",
        "        x = self.conv2(x, edge_index)\n",
        "\n",
        "        return F.log_softmax(x, dim=1)"
      ],
      "id": "2774d96b-b24a-492b-a587-2815ff6e3ead"
    },
    {
      "cell_type": "code",
      "execution_count": 16,
      "metadata": {},
      "outputs": [],
      "source": [
        "fraudTrain = pd.read_csv(\"~/Desktop/fraudTrain.csv\").iloc[:,1:]"
      ],
      "id": "7021dc07-8a06-417b-9fb6-c71b2f05e5eb"
    },
    {
      "cell_type": "code",
      "execution_count": 17,
      "metadata": {},
      "outputs": [],
      "source": [
        "fraudTrain = fraudTrain.assign(trans_date_trans_time= list(map(lambda x: pd.to_datetime(x), fraudTrain.trans_date_trans_time)))\n",
        "fraudTrain"
      ],
      "id": "eb7a9b2b-f984-4bb0-b14b-e523a00d8d38"
    },
    {
      "cell_type": "markdown",
      "metadata": {},
      "source": [
        "## 데이터정리"
      ],
      "id": "68037178-21c6-420a-821d-325d702d76f3"
    },
    {
      "cell_type": "code",
      "execution_count": 40,
      "metadata": {},
      "outputs": [],
      "source": [
        "_df1 = fraudTrain[fraudTrain[\"is_fraud\"] == 0].sample(frac=0.20, random_state=42)\n",
        "_df2 = fraudTrain[fraudTrain[\"is_fraud\"] == 1]\n",
        "df02 = pd.concat([_df1,_df2])\n",
        "df02.shape"
      ],
      "id": "adec4c87-7a49-41dd-ba04-879643113486"
    },
    {
      "cell_type": "code",
      "execution_count": 41,
      "metadata": {},
      "outputs": [],
      "source": [
        "df50 = down_sample_textbook(df02)\n",
        "df50.shape"
      ],
      "id": "b1eab03c-9ee2-45e1-95a5-923642e8ce6f"
    },
    {
      "cell_type": "code",
      "execution_count": 42,
      "metadata": {},
      "outputs": [],
      "source": [
        "df50 = df50.reset_index()"
      ],
      "id": "4f3c12b1-433f-41ac-85c0-c42ae389ba60"
    },
    {
      "cell_type": "code",
      "execution_count": 43,
      "metadata": {},
      "outputs": [],
      "source": [
        "N = len(df50)"
      ],
      "id": "7cef7094-bd9b-43d1-a1c9-d4b1c9b4241c"
    },
    {
      "cell_type": "markdown",
      "metadata": {},
      "source": [
        "------------------------------------------------------------------------\n",
        "\n",
        "# autogluon1: amt"
      ],
      "id": "13795106-671a-48f5-8eb1-49304c18ef55"
    },
    {
      "cell_type": "code",
      "execution_count": 34,
      "metadata": {},
      "outputs": [],
      "source": [
        "df50 = df50[[\"amt\",\"is_fraud\"]]\n",
        "df50_tr,df50_test = sklearn.model_selection.train_test_split(df50, random_state=42)"
      ],
      "id": "4ecf55c9-126f-4fbd-b295-df2226b33efc"
    },
    {
      "cell_type": "markdown",
      "metadata": {},
      "source": [
        "## A. 데이터"
      ],
      "id": "34f23202-6e6d-4357-90f8-500f2f479ce1"
    },
    {
      "cell_type": "code",
      "execution_count": 35,
      "metadata": {},
      "outputs": [],
      "source": [
        "tr = TabularDataset(df50_tr)\n",
        "tst = TabularDataset(df50_test)"
      ],
      "id": "523d7817-ee32-4d2f-89e8-ad957d9a297c"
    },
    {
      "cell_type": "markdown",
      "metadata": {},
      "source": [
        "## B. predictor 생성"
      ],
      "id": "4da18ea4-9bb7-4858-9c81-8aaf6a8fa42f"
    },
    {
      "cell_type": "code",
      "execution_count": 36,
      "metadata": {},
      "outputs": [
        {
          "output_type": "stream",
          "name": "stderr",
          "text": [
            "No path specified. Models will be saved in: \"AutogluonModels/ag-20231011_124800/\""
          ]
        }
      ],
      "source": [
        "predictr = TabularPredictor(\"is_fraud\")"
      ],
      "id": "27d30077-b095-40a9-9153-9b9c6dde480a"
    },
    {
      "cell_type": "markdown",
      "metadata": {},
      "source": [
        "## C.적합(fit)"
      ],
      "id": "67dcf8ba-796e-443e-885b-2f36901f573b"
    },
    {
      "cell_type": "code",
      "execution_count": 37,
      "metadata": {},
      "outputs": [
        {
          "output_type": "stream",
          "name": "stderr",
          "text": [
            "Beginning AutoGluon training ...\n",
            "AutoGluon will save models to \"AutogluonModels/ag-20231011_124800/\"\n",
            "AutoGluon Version:  0.8.2\n",
            "Python Version:     3.8.18\n",
            "Operating System:   Linux\n",
            "Platform Machine:   x86_64\n",
            "Platform Version:   #26~22.04.1-Ubuntu SMP PREEMPT_DYNAMIC Thu Jul 13 16:27:29 UTC 2\n",
            "Disk Space Avail:   746.82 GB / 982.82 GB (76.0%)\n",
            "Train Data Rows:    9009\n",
            "Train Data Columns: 1\n",
            "Label Column: is_fraud\n",
            "Preprocessing data ...\n",
            "AutoGluon infers your prediction problem is: 'binary' (because only two unique label-values observed).\n",
            "    2 unique label values:  [1, 0]\n",
            "    If 'binary' is not the correct problem_type, please manually specify the problem_type parameter during predictor init (You may specify problem_type as one of: ['binary', 'multiclass', 'regression'])\n",
            "Selected class <--> label mapping:  class 1 = 1, class 0 = 0\n",
            "Using Feature Generators to preprocess the data ...\n",
            "Fitting AutoMLPipelineFeatureGenerator...\n",
            "    Available Memory:                    14427.76 MB\n",
            "    Train Data (Original)  Memory Usage: 0.07 MB (0.0% of available memory)\n",
            "    Inferring data type of each feature based on column values. Set feature_metadata_in to manually specify special dtypes of the features.\n",
            "    Stage 1 Generators:\n",
            "        Fitting AsTypeFeatureGenerator...\n",
            "    Stage 2 Generators:\n",
            "        Fitting FillNaFeatureGenerator...\n",
            "    Stage 3 Generators:\n",
            "        Fitting IdentityFeatureGenerator...\n",
            "    Stage 4 Generators:\n",
            "        Fitting DropUniqueFeatureGenerator...\n",
            "    Stage 5 Generators:\n",
            "        Fitting DropDuplicatesFeatureGenerator...\n",
            "    Types of features in original data (raw dtype, special dtypes):\n",
            "        ('float', []) : 1 | ['amt']\n",
            "    Types of features in processed data (raw dtype, special dtypes):\n",
            "        ('float', []) : 1 | ['amt']\n",
            "    0.0s = Fit runtime\n",
            "    1 features in original data used to generate 1 features in processed data.\n",
            "    Train Data (Processed) Memory Usage: 0.07 MB (0.0% of available memory)\n",
            "Data preprocessing and feature engineering runtime = 0.05s ...\n",
            "AutoGluon will gauge predictive performance using evaluation metric: 'accuracy'\n",
            "    To change this, specify the eval_metric parameter of Predictor()\n",
            "Automatically generating train/validation split with holdout_frac=0.1, Train Rows: 8108, Val Rows: 901\n",
            "User-specified model hyperparameters to be fit:\n",
            "{\n",
            "    'NN_TORCH': {},\n",
            "    'GBM': [{'extra_trees': True, 'ag_args': {'name_suffix': 'XT'}}, {}, 'GBMLarge'],\n",
            "    'CAT': {},\n",
            "    'XGB': {},\n",
            "    'FASTAI': {},\n",
            "    'RF': [{'criterion': 'gini', 'ag_args': {'name_suffix': 'Gini', 'problem_types': ['binary', 'multiclass']}}, {'criterion': 'entropy', 'ag_args': {'name_suffix': 'Entr', 'problem_types': ['binary', 'multiclass']}}, {'criterion': 'squared_error', 'ag_args': {'name_suffix': 'MSE', 'problem_types': ['regression', 'quantile']}}],\n",
            "    'XT': [{'criterion': 'gini', 'ag_args': {'name_suffix': 'Gini', 'problem_types': ['binary', 'multiclass']}}, {'criterion': 'entropy', 'ag_args': {'name_suffix': 'Entr', 'problem_types': ['binary', 'multiclass']}}, {'criterion': 'squared_error', 'ag_args': {'name_suffix': 'MSE', 'problem_types': ['regression', 'quantile']}}],\n",
            "    'KNN': [{'weights': 'uniform', 'ag_args': {'name_suffix': 'Unif'}}, {'weights': 'distance', 'ag_args': {'name_suffix': 'Dist'}}],\n",
            "}\n",
            "Fitting 13 L1 models ...\n",
            "Fitting model: KNeighborsUnif ...\n",
            "    0.8779   = Validation score   (accuracy)\n",
            "    0.01s    = Training   runtime\n",
            "    0.01s    = Validation runtime\n",
            "Fitting model: KNeighborsDist ...\n",
            "    0.8635   = Validation score   (accuracy)\n",
            "    0.0s     = Training   runtime\n",
            "    0.0s     = Validation runtime\n",
            "Fitting model: LightGBMXT ...\n",
            "    0.8768   = Validation score   (accuracy)\n",
            "    0.15s    = Training   runtime\n",
            "    0.0s     = Validation runtime\n",
            "Fitting model: LightGBM ...\n",
            "    0.8923   = Validation score   (accuracy)\n",
            "    0.23s    = Training   runtime\n",
            "    0.0s     = Validation runtime\n",
            "Fitting model: RandomForestGini ...\n",
            "    0.8513   = Validation score   (accuracy)\n",
            "    0.31s    = Training   runtime\n",
            "    0.03s    = Validation runtime\n",
            "Fitting model: RandomForestEntr ...\n",
            "    0.8513   = Validation score   (accuracy)\n",
            "    0.32s    = Training   runtime\n",
            "    0.03s    = Validation runtime\n",
            "Fitting model: CatBoost ...\n",
            "    0.8946   = Validation score   (accuracy)\n",
            "    0.64s    = Training   runtime\n",
            "    0.0s     = Validation runtime\n",
            "Fitting model: ExtraTreesGini ...\n",
            "    0.8602   = Validation score   (accuracy)\n",
            "    0.28s    = Training   runtime\n",
            "    0.03s    = Validation runtime\n",
            "Fitting model: ExtraTreesEntr ...\n",
            "    0.8579   = Validation score   (accuracy)\n",
            "    0.28s    = Training   runtime\n",
            "    0.03s    = Validation runtime\n",
            "Fitting model: NeuralNetFastAI ...\n",
            "No improvement since epoch 1: early stopping\n",
            "    0.8635   = Validation score   (accuracy)\n",
            "    2.93s    = Training   runtime\n",
            "    0.01s    = Validation runtime\n",
            "Fitting model: XGBoost ...\n",
            "    0.8935   = Validation score   (accuracy)\n",
            "    0.11s    = Training   runtime\n",
            "    0.0s     = Validation runtime\n",
            "Fitting model: NeuralNetTorch ...\n",
            "    0.8857   = Validation score   (accuracy)\n",
            "    4.91s    = Training   runtime\n",
            "    0.0s     = Validation runtime\n",
            "Fitting model: LightGBMLarge ...\n",
            "    0.8946   = Validation score   (accuracy)\n",
            "    0.35s    = Training   runtime\n",
            "    0.0s     = Validation runtime\n",
            "Fitting model: WeightedEnsemble_L2 ...\n",
            "    0.9023   = Validation score   (accuracy)\n",
            "    0.48s    = Training   runtime\n",
            "    0.0s     = Validation runtime\n",
            "AutoGluon training complete, total runtime = 11.38s ... Best model: \"WeightedEnsemble_L2\"\n",
            "TabularPredictor saved. To load, use: predictor = TabularPredictor.load(\"AutogluonModels/ag-20231011_124800/\")"
          ]
        }
      ],
      "source": [
        "predictr.fit(tr) "
      ],
      "id": "f8c501b1-1bee-4978-a771-82642655f89d"
    },
    {
      "cell_type": "code",
      "execution_count": 59,
      "metadata": {},
      "outputs": [
        {
          "output_type": "stream",
          "name": "stdout",
          "text": [
            "                  model  score_val  pred_time_val  fit_time  pred_time_val_marginal  fit_time_marginal  stack_level  can_infer  fit_order\n",
            "0   WeightedEnsemble_L2   0.902331       0.051067  7.458454                0.001309           0.513563            2       True         14\n",
            "1         LightGBMLarge   0.894562       0.001894  0.414943                0.001894           0.414943            1       True         13\n",
            "2              CatBoost   0.894562       0.001981  0.653966                0.001981           0.653966            1       True          7\n",
            "3               XGBoost   0.893452       0.003316  0.114061                0.003316           0.114061            1       True         11\n",
            "4              LightGBM   0.892342       0.003488  0.343734                0.003488           0.343734            1       True          4\n",
            "5        NeuralNetTorch   0.885683       0.005610  5.186066                0.005610           5.186066            1       True         12\n",
            "6        KNeighborsUnif   0.877913       0.006206  0.028794                0.006206           0.028794            1       True          1\n",
            "7            LightGBMXT   0.876804       0.002243  0.245948                0.002243           0.245948            1       True          3\n",
            "8        KNeighborsDist   0.863485       0.005649  0.024392                0.005649           0.024392            1       True          2\n",
            "9       NeuralNetFastAI   0.863485       0.008246  2.861539                0.008246           2.861539            1       True         10\n",
            "10       ExtraTreesGini   0.860155       0.029064  0.305516                0.029064           0.305516            1       True          8\n",
            "11       ExtraTreesEntr   0.857936       0.029304  0.306215                0.029304           0.306215            1       True          9\n",
            "12     RandomForestEntr   0.851276       0.028594  0.344763                0.028594           0.344763            1       True          6\n",
            "13     RandomForestGini   0.851276       0.028716  0.321282                0.028716           0.321282            1       True          5"
          ]
        }
      ],
      "source": [
        "predictr.leaderboard()"
      ],
      "id": "c77c457c-a951-4e90-98b4-7ea59ed4b3ed"
    },
    {
      "cell_type": "markdown",
      "metadata": {},
      "source": [
        "------------------------------------------------------------------------\n",
        "\n",
        "# autogluon2: amt, distace"
      ],
      "id": "0a569b34-c7ea-4dd2-8f94-d80722cc12f8"
    },
    {
      "cell_type": "code",
      "execution_count": 46,
      "metadata": {},
      "outputs": [],
      "source": [
        "df50 = df50[[\"amt\",\"distance_km\", \"is_fraud\"]]"
      ],
      "id": "ce8274c8-5a98-4163-844b-fd76cdd305bb"
    },
    {
      "cell_type": "code",
      "execution_count": 47,
      "metadata": {},
      "outputs": [],
      "source": [
        "df50_tr,df50_test = sklearn.model_selection.train_test_split(df50, random_state=42)"
      ],
      "id": "4e8c9546-a5bc-4668-82cb-369e119b3cc8"
    },
    {
      "cell_type": "markdown",
      "metadata": {},
      "source": [
        "## A. 데이터"
      ],
      "id": "3c555814-36e9-4e2e-9916-ecb020305f50"
    },
    {
      "cell_type": "code",
      "execution_count": 48,
      "metadata": {},
      "outputs": [],
      "source": [
        "tr = TabularDataset(df50_tr)\n",
        "tst = TabularDataset(df50_test)"
      ],
      "id": "c55c81e4-673f-4785-9119-b509028b431f"
    },
    {
      "cell_type": "markdown",
      "metadata": {},
      "source": [
        "## B. predictor 생성"
      ],
      "id": "683cf3c1-4540-4404-9b53-251dfad13803"
    },
    {
      "cell_type": "code",
      "execution_count": 49,
      "metadata": {},
      "outputs": [
        {
          "output_type": "stream",
          "name": "stderr",
          "text": [
            "No path specified. Models will be saved in: \"AutogluonModels/ag-20231011_125208/\""
          ]
        }
      ],
      "source": [
        "predictr = TabularPredictor(\"is_fraud\")"
      ],
      "id": "d0f9515a-a829-4ed2-80fa-e6b640a42c9e"
    },
    {
      "cell_type": "markdown",
      "metadata": {},
      "source": [
        "## C.적합(fit)"
      ],
      "id": "b41dc215-8e40-426c-9925-215726cf6e9e"
    },
    {
      "cell_type": "code",
      "execution_count": 50,
      "metadata": {},
      "outputs": [
        {
          "output_type": "stream",
          "name": "stderr",
          "text": [
            "Beginning AutoGluon training ...\n",
            "AutoGluon will save models to \"AutogluonModels/ag-20231011_125208/\"\n",
            "AutoGluon Version:  0.8.2\n",
            "Python Version:     3.8.18\n",
            "Operating System:   Linux\n",
            "Platform Machine:   x86_64\n",
            "Platform Version:   #26~22.04.1-Ubuntu SMP PREEMPT_DYNAMIC Thu Jul 13 16:27:29 UTC 2\n",
            "Disk Space Avail:   746.64 GB / 982.82 GB (76.0%)\n",
            "Train Data Rows:    9009\n",
            "Train Data Columns: 2\n",
            "Label Column: is_fraud\n",
            "Preprocessing data ...\n",
            "AutoGluon infers your prediction problem is: 'binary' (because only two unique label-values observed).\n",
            "    2 unique label values:  [1, 0]\n",
            "    If 'binary' is not the correct problem_type, please manually specify the problem_type parameter during predictor init (You may specify problem_type as one of: ['binary', 'multiclass', 'regression'])\n",
            "Selected class <--> label mapping:  class 1 = 1, class 0 = 0\n",
            "Using Feature Generators to preprocess the data ...\n",
            "Fitting AutoMLPipelineFeatureGenerator...\n",
            "    Available Memory:                    14301.5 MB\n",
            "    Train Data (Original)  Memory Usage: 0.14 MB (0.0% of available memory)\n",
            "    Inferring data type of each feature based on column values. Set feature_metadata_in to manually specify special dtypes of the features.\n",
            "    Stage 1 Generators:\n",
            "        Fitting AsTypeFeatureGenerator...\n",
            "    Stage 2 Generators:\n",
            "        Fitting FillNaFeatureGenerator...\n",
            "    Stage 3 Generators:\n",
            "        Fitting IdentityFeatureGenerator...\n",
            "    Stage 4 Generators:\n",
            "        Fitting DropUniqueFeatureGenerator...\n",
            "    Stage 5 Generators:\n",
            "        Fitting DropDuplicatesFeatureGenerator...\n",
            "    Types of features in original data (raw dtype, special dtypes):\n",
            "        ('float', []) : 2 | ['amt', 'distance_km']\n",
            "    Types of features in processed data (raw dtype, special dtypes):\n",
            "        ('float', []) : 2 | ['amt', 'distance_km']\n",
            "    0.0s = Fit runtime\n",
            "    2 features in original data used to generate 2 features in processed data.\n",
            "    Train Data (Processed) Memory Usage: 0.14 MB (0.0% of available memory)\n",
            "Data preprocessing and feature engineering runtime = 0.04s ...\n",
            "AutoGluon will gauge predictive performance using evaluation metric: 'accuracy'\n",
            "    To change this, specify the eval_metric parameter of Predictor()\n",
            "Automatically generating train/validation split with holdout_frac=0.1, Train Rows: 8108, Val Rows: 901\n",
            "User-specified model hyperparameters to be fit:\n",
            "{\n",
            "    'NN_TORCH': {},\n",
            "    'GBM': [{'extra_trees': True, 'ag_args': {'name_suffix': 'XT'}}, {}, 'GBMLarge'],\n",
            "    'CAT': {},\n",
            "    'XGB': {},\n",
            "    'FASTAI': {},\n",
            "    'RF': [{'criterion': 'gini', 'ag_args': {'name_suffix': 'Gini', 'problem_types': ['binary', 'multiclass']}}, {'criterion': 'entropy', 'ag_args': {'name_suffix': 'Entr', 'problem_types': ['binary', 'multiclass']}}, {'criterion': 'squared_error', 'ag_args': {'name_suffix': 'MSE', 'problem_types': ['regression', 'quantile']}}],\n",
            "    'XT': [{'criterion': 'gini', 'ag_args': {'name_suffix': 'Gini', 'problem_types': ['binary', 'multiclass']}}, {'criterion': 'entropy', 'ag_args': {'name_suffix': 'Entr', 'problem_types': ['binary', 'multiclass']}}, {'criterion': 'squared_error', 'ag_args': {'name_suffix': 'MSE', 'problem_types': ['regression', 'quantile']}}],\n",
            "    'KNN': [{'weights': 'uniform', 'ag_args': {'name_suffix': 'Unif'}}, {'weights': 'distance', 'ag_args': {'name_suffix': 'Dist'}}],\n",
            "}\n",
            "Fitting 13 L1 models ...\n",
            "Fitting model: KNeighborsUnif ...\n",
            "    0.8646   = Validation score   (accuracy)\n",
            "    0.01s    = Training   runtime\n",
            "    0.01s    = Validation runtime\n",
            "Fitting model: KNeighborsDist ...\n",
            "    0.8535   = Validation score   (accuracy)\n",
            "    0.0s     = Training   runtime\n",
            "    0.0s     = Validation runtime\n",
            "Fitting model: LightGBMXT ...\n",
            "    0.8879   = Validation score   (accuracy)\n",
            "    0.33s    = Training   runtime\n",
            "    0.01s    = Validation runtime\n",
            "Fitting model: LightGBM ...\n",
            "    0.8912   = Validation score   (accuracy)\n",
            "    0.22s    = Training   runtime\n",
            "    0.0s     = Validation runtime\n",
            "Fitting model: RandomForestGini ...\n",
            "    0.8701   = Validation score   (accuracy)\n",
            "    0.32s    = Training   runtime\n",
            "    0.03s    = Validation runtime\n",
            "Fitting model: RandomForestEntr ...\n",
            "    0.8735   = Validation score   (accuracy)\n",
            "    0.35s    = Training   runtime\n",
            "    0.03s    = Validation runtime\n",
            "Fitting model: CatBoost ...\n",
            "    0.899    = Validation score   (accuracy)\n",
            "    0.51s    = Training   runtime\n",
            "    0.0s     = Validation runtime\n",
            "Fitting model: ExtraTreesGini ...\n",
            "    0.8613   = Validation score   (accuracy)\n",
            "    0.28s    = Training   runtime\n",
            "    0.03s    = Validation runtime\n",
            "Fitting model: ExtraTreesEntr ...\n",
            "    0.8646   = Validation score   (accuracy)\n",
            "    0.28s    = Training   runtime\n",
            "    0.03s    = Validation runtime\n",
            "Fitting model: NeuralNetFastAI ...\n",
            "No improvement since epoch 1: early stopping\n",
            "    0.8624   = Validation score   (accuracy)\n",
            "    2.94s    = Training   runtime\n",
            "    0.01s    = Validation runtime\n",
            "Fitting model: XGBoost ...\n",
            "    0.889    = Validation score   (accuracy)\n",
            "    0.18s    = Training   runtime\n",
            "    0.0s     = Validation runtime\n",
            "Fitting model: NeuralNetTorch ...\n",
            "    0.8857   = Validation score   (accuracy)\n",
            "    4.49s    = Training   runtime\n",
            "    0.01s    = Validation runtime\n",
            "Fitting model: LightGBMLarge ...\n",
            "    0.8779   = Validation score   (accuracy)\n",
            "    0.38s    = Training   runtime\n",
            "    0.0s     = Validation runtime\n",
            "Fitting model: WeightedEnsemble_L2 ...\n",
            "    0.899    = Validation score   (accuracy)\n",
            "    0.5s     = Training   runtime\n",
            "    0.0s     = Validation runtime\n",
            "AutoGluon training complete, total runtime = 11.21s ... Best model: \"WeightedEnsemble_L2\"\n",
            "TabularPredictor saved. To load, use: predictor = TabularPredictor.load(\"AutogluonModels/ag-20231011_125208/\")"
          ]
        }
      ],
      "source": [
        "predictr.fit(tr) "
      ],
      "id": "34ac0413-bb9a-4dba-a60a-4690fe3187cd"
    },
    {
      "cell_type": "code",
      "execution_count": 51,
      "metadata": {},
      "outputs": [
        {
          "output_type": "stream",
          "name": "stdout",
          "text": [
            "                  model  score_val  pred_time_val  fit_time  pred_time_val_marginal  fit_time_marginal  stack_level  can_infer  fit_order\n",
            "0              CatBoost   0.899001       0.001843  0.508956                0.001843           0.508956            1       True          7\n",
            "1   WeightedEnsemble_L2   0.899001       0.003138  1.012600                0.001295           0.503644            2       True         14\n",
            "2              LightGBM   0.891232       0.002272  0.223588                0.002272           0.223588            1       True          4\n",
            "3               XGBoost   0.889012       0.003450  0.180574                0.003450           0.180574            1       True         11\n",
            "4            LightGBMXT   0.887902       0.006675  0.331872                0.006675           0.331872            1       True          3\n",
            "5        NeuralNetTorch   0.885683       0.005594  4.485880                0.005594           4.485880            1       True         12\n",
            "6         LightGBMLarge   0.877913       0.001962  0.382782                0.001962           0.382782            1       True         13\n",
            "7      RandomForestEntr   0.873474       0.030227  0.347987                0.030227           0.347987            1       True          6\n",
            "8      RandomForestGini   0.870144       0.028919  0.315052                0.028919           0.315052            1       True          5\n",
            "9        KNeighborsUnif   0.864595       0.006738  0.009886                0.006738           0.009886            1       True          1\n",
            "10       ExtraTreesEntr   0.864595       0.029063  0.283869                0.029063           0.283869            1       True          9\n",
            "11      NeuralNetFastAI   0.862375       0.011110  2.937038                0.011110           2.937038            1       True         10\n",
            "12       ExtraTreesGini   0.861265       0.028793  0.284426                0.028793           0.284426            1       True          8\n",
            "13       KNeighborsDist   0.853496       0.004887  0.004544                0.004887           0.004544            1       True          2"
          ]
        }
      ],
      "source": [
        "predictr.leaderboard()"
      ],
      "id": "f248bf87-d12a-439f-94d2-0636d48004f8"
    },
    {
      "cell_type": "markdown",
      "metadata": {},
      "source": [
        "------------------------------------------------------------------------\n",
        "\n",
        "# autogluon3: amt, time, distace"
      ],
      "id": "a2f7612b-4802-456e-aae3-8058aba7a23f"
    },
    {
      "cell_type": "code",
      "execution_count": 45,
      "metadata": {},
      "outputs": [],
      "source": [
        "df50['trans_date_trans_time'] = pd.to_datetime(df50['trans_date_trans_time'])\n",
        "df50['trans_date_trans_time'] = (df50['trans_date_trans_time'] - pd.Timestamp(\"1970-01-01\")) // pd.Timedelta('1s')\n",
        "\n",
        "category_map = {category: index for index, category in enumerate(df50['category'].unique())}\n",
        "df50['category'] = df50['category'].map(category_map)\n",
        "\n",
        "def haversine(lat1, lon1, lat2, lon2):\n",
        "    # 지구의 반지름 (미터)\n",
        "    radius = 6371.0\n",
        "\n",
        "    # 라디안으로 변환\n",
        "    lat1 = np.radians(lat1)\n",
        "    lon1 = np.radians(lon1)\n",
        "    lat2 = np.radians(lat2)\n",
        "    lon2 = np.radians(lon2)\n",
        "\n",
        "    # Haversine 공식 계산\n",
        "    dlon = lon2 - lon1\n",
        "    dlat = lat2 - lat1\n",
        "    a = np.sin(dlat / 2)**2 + np.cos(lat1) * np.cos(lat2) * np.sin(dlon / 2)**2\n",
        "    c = 2 * np.arctan2(np.sqrt(a), np.sqrt(1 - a))\n",
        "    distance = radius * c\n",
        "\n",
        "    return distance\n",
        "\n",
        "customer_lat = df50['lat']\n",
        "customer_lon = df50['long']\n",
        "store_lat = df50['merch_lat']\n",
        "store_lon = df50['merch_long']\n",
        "distances = haversine(customer_lat, customer_lon, store_lat, store_lon)\n",
        "df50['distance_km'] = distances\n"
      ],
      "id": "c2979836-96b2-408f-ab4a-a1403b244f47"
    },
    {
      "cell_type": "code",
      "execution_count": 23,
      "metadata": {},
      "outputs": [],
      "source": [
        "df50 = df50[[\"amt\",'trans_date_trans_time', 'distance_km', \"is_fraud\"]]"
      ],
      "id": "9cc6d4e4-ecaf-49db-b115-5ce238f76f06"
    },
    {
      "cell_type": "code",
      "execution_count": 24,
      "metadata": {},
      "outputs": [],
      "source": [
        "df50_tr,df50_test = sklearn.model_selection.train_test_split(df50, random_state=42)"
      ],
      "id": "1746ec92-50c0-402d-8297-92cb67c718d5"
    },
    {
      "cell_type": "markdown",
      "metadata": {},
      "source": [
        "## A. 데이터"
      ],
      "id": "9a48c302-4620-44cb-a784-c8031f54a732"
    },
    {
      "cell_type": "code",
      "execution_count": 26,
      "metadata": {},
      "outputs": [],
      "source": [
        "tr = TabularDataset(df50_tr)\n",
        "tst = TabularDataset(df50_test)"
      ],
      "id": "2270b055-c69c-4743-a329-6e445b0a66eb"
    },
    {
      "cell_type": "markdown",
      "metadata": {},
      "source": [
        "## B. predictor 생성"
      ],
      "id": "65e86d42-fa4a-444e-8f70-6e9c242d4c4d"
    },
    {
      "cell_type": "code",
      "execution_count": 27,
      "metadata": {},
      "outputs": [
        {
          "output_type": "stream",
          "name": "stderr",
          "text": [
            "No path specified. Models will be saved in: \"AutogluonModels/ag-20231011_124455/\""
          ]
        }
      ],
      "source": [
        "predictr = TabularPredictor(\"is_fraud\")"
      ],
      "id": "8a5e656a-1009-4670-969b-9749270a004f"
    },
    {
      "cell_type": "markdown",
      "metadata": {},
      "source": [
        "## C.적합(fit)"
      ],
      "id": "e78cd34b-700f-49bf-b892-a990c9787ebb"
    },
    {
      "cell_type": "code",
      "execution_count": 28,
      "metadata": {},
      "outputs": [
        {
          "output_type": "stream",
          "name": "stderr",
          "text": [
            "Beginning AutoGluon training ...\n",
            "AutoGluon will save models to \"AutogluonModels/ag-20231011_124455/\"\n",
            "AutoGluon Version:  0.8.2\n",
            "Python Version:     3.8.18\n",
            "Operating System:   Linux\n",
            "Platform Machine:   x86_64\n",
            "Platform Version:   #26~22.04.1-Ubuntu SMP PREEMPT_DYNAMIC Thu Jul 13 16:27:29 UTC 2\n",
            "Disk Space Avail:   747.06 GB / 982.82 GB (76.0%)\n",
            "Train Data Rows:    9009\n",
            "Train Data Columns: 3\n",
            "Label Column: is_fraud\n",
            "Preprocessing data ...\n",
            "AutoGluon infers your prediction problem is: 'binary' (because only two unique label-values observed).\n",
            "    2 unique label values:  [1, 0]\n",
            "    If 'binary' is not the correct problem_type, please manually specify the problem_type parameter during predictor init (You may specify problem_type as one of: ['binary', 'multiclass', 'regression'])\n",
            "Selected class <--> label mapping:  class 1 = 1, class 0 = 0\n",
            "Using Feature Generators to preprocess the data ...\n",
            "Fitting AutoMLPipelineFeatureGenerator...\n",
            "    Available Memory:                    14638.47 MB\n",
            "    Train Data (Original)  Memory Usage: 0.22 MB (0.0% of available memory)\n",
            "    Inferring data type of each feature based on column values. Set feature_metadata_in to manually specify special dtypes of the features.\n",
            "    Stage 1 Generators:\n",
            "        Fitting AsTypeFeatureGenerator...\n",
            "    Stage 2 Generators:\n",
            "        Fitting FillNaFeatureGenerator...\n",
            "    Stage 3 Generators:\n",
            "        Fitting IdentityFeatureGenerator...\n",
            "    Stage 4 Generators:\n",
            "        Fitting DropUniqueFeatureGenerator...\n",
            "    Stage 5 Generators:\n",
            "        Fitting DropDuplicatesFeatureGenerator...\n",
            "    Types of features in original data (raw dtype, special dtypes):\n",
            "        ('float', []) : 2 | ['amt', 'distance_km']\n",
            "        ('int', [])   : 1 | ['trans_date_trans_time']\n",
            "    Types of features in processed data (raw dtype, special dtypes):\n",
            "        ('float', []) : 2 | ['amt', 'distance_km']\n",
            "        ('int', [])   : 1 | ['trans_date_trans_time']\n",
            "    0.0s = Fit runtime\n",
            "    3 features in original data used to generate 3 features in processed data.\n",
            "    Train Data (Processed) Memory Usage: 0.22 MB (0.0% of available memory)\n",
            "Data preprocessing and feature engineering runtime = 0.04s ...\n",
            "AutoGluon will gauge predictive performance using evaluation metric: 'accuracy'\n",
            "    To change this, specify the eval_metric parameter of Predictor()\n",
            "Automatically generating train/validation split with holdout_frac=0.1, Train Rows: 8108, Val Rows: 901\n",
            "User-specified model hyperparameters to be fit:\n",
            "{\n",
            "    'NN_TORCH': {},\n",
            "    'GBM': [{'extra_trees': True, 'ag_args': {'name_suffix': 'XT'}}, {}, 'GBMLarge'],\n",
            "    'CAT': {},\n",
            "    'XGB': {},\n",
            "    'FASTAI': {},\n",
            "    'RF': [{'criterion': 'gini', 'ag_args': {'name_suffix': 'Gini', 'problem_types': ['binary', 'multiclass']}}, {'criterion': 'entropy', 'ag_args': {'name_suffix': 'Entr', 'problem_types': ['binary', 'multiclass']}}, {'criterion': 'squared_error', 'ag_args': {'name_suffix': 'MSE', 'problem_types': ['regression', 'quantile']}}],\n",
            "    'XT': [{'criterion': 'gini', 'ag_args': {'name_suffix': 'Gini', 'problem_types': ['binary', 'multiclass']}}, {'criterion': 'entropy', 'ag_args': {'name_suffix': 'Entr', 'problem_types': ['binary', 'multiclass']}}, {'criterion': 'squared_error', 'ag_args': {'name_suffix': 'MSE', 'problem_types': ['regression', 'quantile']}}],\n",
            "    'KNN': [{'weights': 'uniform', 'ag_args': {'name_suffix': 'Unif'}}, {'weights': 'distance', 'ag_args': {'name_suffix': 'Dist'}}],\n",
            "}\n",
            "Fitting 13 L1 models ...\n",
            "Fitting model: KNeighborsUnif ...\n",
            "    0.727    = Validation score   (accuracy)\n",
            "    0.02s    = Training   runtime\n",
            "    0.01s    = Validation runtime\n",
            "Fitting model: KNeighborsDist ...\n",
            "    0.7236   = Validation score   (accuracy)\n",
            "    0.01s    = Training   runtime\n",
            "    0.0s     = Validation runtime\n",
            "Fitting model: LightGBMXT ...\n",
            "    0.8812   = Validation score   (accuracy)\n",
            "    0.27s    = Training   runtime\n",
            "    0.0s     = Validation runtime\n",
            "Fitting model: LightGBM ...\n",
            "    0.8912   = Validation score   (accuracy)\n",
            "    0.19s    = Training   runtime\n",
            "    0.0s     = Validation runtime\n",
            "Fitting model: RandomForestGini ...\n",
            "    0.8757   = Validation score   (accuracy)\n",
            "    0.33s    = Training   runtime\n",
            "    0.03s    = Validation runtime\n",
            "Fitting model: RandomForestEntr ...\n",
            "    0.8835   = Validation score   (accuracy)\n",
            "    0.36s    = Training   runtime\n",
            "    0.03s    = Validation runtime\n",
            "Fitting model: CatBoost ...\n",
            "    0.8923   = Validation score   (accuracy)\n",
            "    0.89s    = Training   runtime\n",
            "    0.0s     = Validation runtime\n",
            "Fitting model: ExtraTreesGini ...\n",
            "    0.8701   = Validation score   (accuracy)\n",
            "    0.29s    = Training   runtime\n",
            "    0.03s    = Validation runtime\n",
            "Fitting model: ExtraTreesEntr ...\n",
            "    0.8724   = Validation score   (accuracy)\n",
            "    0.3s     = Training   runtime\n",
            "    0.03s    = Validation runtime\n",
            "Fitting model: NeuralNetFastAI ...\n",
            "No improvement since epoch 4: early stopping\n",
            "    0.8602   = Validation score   (accuracy)\n",
            "    3.48s    = Training   runtime\n",
            "    0.01s    = Validation runtime\n",
            "Fitting model: XGBoost ...\n",
            "    0.8923   = Validation score   (accuracy)\n",
            "    0.14s    = Training   runtime\n",
            "    0.0s     = Validation runtime\n",
            "Fitting model: NeuralNetTorch ...\n",
            "    0.8746   = Validation score   (accuracy)\n",
            "    3.71s    = Training   runtime\n",
            "    0.01s    = Validation runtime\n",
            "Fitting model: LightGBMLarge ...\n",
            "    0.8768   = Validation score   (accuracy)\n",
            "    0.35s    = Training   runtime\n",
            "    0.0s     = Validation runtime\n",
            "Fitting model: WeightedEnsemble_L2 ...\n",
            "    0.9279   = Validation score   (accuracy)\n",
            "    0.5s     = Training   runtime\n",
            "    0.0s     = Validation runtime\n",
            "AutoGluon training complete, total runtime = 11.23s ... Best model: \"WeightedEnsemble_L2\"\n",
            "TabularPredictor saved. To load, use: predictor = TabularPredictor.load(\"AutogluonModels/ag-20231011_124455/\")"
          ]
        }
      ],
      "source": [
        "predictr.fit(tr) "
      ],
      "id": "dde5f1c7-6ec9-4ad2-adbd-34160cd7baf6"
    },
    {
      "cell_type": "code",
      "execution_count": 29,
      "metadata": {},
      "outputs": [
        {
          "output_type": "stream",
          "name": "stdout",
          "text": [
            "                  model  score_val  pred_time_val  fit_time  pred_time_val_marginal  fit_time_marginal  stack_level  can_infer  fit_order\n",
            "0   WeightedEnsemble_L2   0.927858       0.034292  9.131091                0.001279           0.502710            2       True         14\n",
            "1              CatBoost   0.892342       0.002311  0.885833                0.002311           0.885833            1       True          7\n",
            "2               XGBoost   0.892342       0.003765  0.143192                0.003765           0.143192            1       True         11\n",
            "3              LightGBM   0.891232       0.002339  0.189846                0.002339           0.189846            1       True          4\n",
            "4      RandomForestEntr   0.883463       0.029521  0.356271                0.029521           0.356271            1       True          6\n",
            "5            LightGBMXT   0.881243       0.003287  0.271952                0.003287           0.271952            1       True          3\n",
            "6         LightGBMLarge   0.876804       0.001867  0.351746                0.001867           0.351746            1       True         13\n",
            "7      RandomForestGini   0.875694       0.030285  0.330684                0.030285           0.330684            1       True          5\n",
            "8        NeuralNetTorch   0.874584       0.005663  3.705228                0.005663           3.705228            1       True         12\n",
            "9        ExtraTreesEntr   0.872364       0.030204  0.300827                0.030204           0.300827            1       True          9\n",
            "10       ExtraTreesGini   0.870144       0.029252  0.293159                0.029252           0.293159            1       True          8\n",
            "11      NeuralNetFastAI   0.860155       0.008793  3.475210                0.008793           3.475210            1       True         10\n",
            "12       KNeighborsUnif   0.726970       0.007053  0.015347                0.007053           0.015347            1       True          1\n",
            "13       KNeighborsDist   0.723640       0.004987  0.005171                0.004987           0.005171            1       True          2"
          ]
        }
      ],
      "source": [
        "predictr.leaderboard()"
      ],
      "id": "3208e8e7-a06a-4925-8c68-b6a658a09e85"
    }
  ],
  "nbformat": 4,
  "nbformat_minor": 5,
  "metadata": {
    "kernelspec": {
      "name": "python3",
      "display_name": "Python 3 (ipykernel)",
      "language": "python"
    },
    "language_info": {
      "name": "python",
      "codemirror_mode": {
        "name": "ipython",
        "version": "3"
      },
      "file_extension": ".py",
      "mimetype": "text/x-python",
      "nbconvert_exporter": "python",
      "pygments_lexer": "ipython3",
      "version": "3.8.18"
    }
  }
}