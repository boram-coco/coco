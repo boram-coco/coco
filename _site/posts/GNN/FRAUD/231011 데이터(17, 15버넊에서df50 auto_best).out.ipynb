{
  "cells": [
    {
      "cell_type": "markdown",
      "metadata": {},
      "source": [
        "# **\\[FRAUD\\]** 데이터정리 시도(df50 X범주_auto)\n",
        "\n",
        "김보람  \n",
        "2023-10-11\n",
        "\n",
        "# imports"
      ],
      "id": "4afd3552-6ec6-4b3f-aa06-73220356c436"
    },
    {
      "cell_type": "code",
      "execution_count": 1,
      "metadata": {},
      "outputs": [
        {
          "output_type": "stream",
          "name": "stderr",
          "text": [
            "/home/coco/anaconda3/envs/py38/lib/python3.8/site-packages/torch_geometric/typing.py:18: UserWarning: An issue occurred while importing 'pyg-lib'. Disabling its usage. Stacktrace: /home/coco/anaconda3/envs/py38/lib/python3.8/site-packages/libpyg.so: undefined symbol: _ZN2at4_ops12split_Tensor4callERKNS_6TensorEN3c106SymIntEl\n",
            "  warnings.warn(f\"An issue occurred while importing 'pyg-lib'. \"\n",
            "/home/coco/anaconda3/envs/py38/lib/python3.8/site-packages/torch_geometric/typing.py:31: UserWarning: An issue occurred while importing 'torch-scatter'. Disabling its usage. Stacktrace: /home/coco/anaconda3/envs/py38/lib/python3.8/site-packages/torch_scatter/_scatter_cuda.so: undefined symbol: _ZNK3c107SymBool10guard_boolEPKcl\n",
            "  warnings.warn(f\"An issue occurred while importing 'torch-scatter'. \"\n",
            "/home/coco/anaconda3/envs/py38/lib/python3.8/site-packages/torch_geometric/typing.py:42: UserWarning: An issue occurred while importing 'torch-sparse'. Disabling its usage. Stacktrace: /home/coco/anaconda3/envs/py38/lib/python3.8/site-packages/torch_sparse/_diag_cuda.so: undefined symbol: _ZN3c106detail19maybe_wrap_dim_slowIlEET_S2_S2_b\n",
            "  warnings.warn(f\"An issue occurred while importing 'torch-sparse'. \""
          ]
        }
      ],
      "source": [
        "import numpy as np\n",
        "import pandas as pd\n",
        "import matplotlib.pyplot as plt \n",
        "import networkx as nx\n",
        "import sklearn\n",
        "import xgboost as xgb\n",
        "\n",
        "# sklearn\n",
        "from sklearn import model_selection # split함수이용\n",
        "from sklearn import ensemble # RF,GBM\n",
        "from sklearn import metrics\n",
        "from sklearn.metrics import precision_score, recall_score, f1_score\n",
        "from sklearn.svm import SVC\n",
        "from sklearn.ensemble import RandomForestClassifier\n",
        "from sklearn.naive_bayes import GaussianNB\n",
        "\n",
        "# gnn\n",
        "import torch\n",
        "import torch.nn.functional as F\n",
        "import torch_geometric\n",
        "from torch_geometric.nn import GCNConv\n",
        "\n",
        "\n",
        "# autogluon\n",
        "from autogluon.tabular import TabularDataset, TabularPredictor"
      ],
      "id": "4eb91738-6398-4ffc-bbec-fc48fcc8f249"
    },
    {
      "cell_type": "code",
      "execution_count": 2,
      "metadata": {},
      "outputs": [],
      "source": [
        "def down_sample_textbook(df):\n",
        "    df_majority = df[df.is_fraud==0].copy()\n",
        "    df_minority = df[df.is_fraud==1].copy()\n",
        "    df_maj_dowsampled = sklearn.utils.resample(df_majority, n_samples=len(df_minority), replace=False, random_state=42)\n",
        "    df_downsampled = pd.concat([df_minority, df_maj_dowsampled])\n",
        "    return df_downsampled\n",
        "\n",
        "def compute_time_difference(group):\n",
        "    n = len(group)\n",
        "    result = []\n",
        "    for i in range(n):\n",
        "        for j in range(n):\n",
        "            time_difference = abs(group.iloc[i].trans_date_trans_time.value - group.iloc[j].trans_date_trans_time.value)\n",
        "            result.append([group.iloc[i].name, group.iloc[j].name, time_difference])\n",
        "    return result\n",
        "\n",
        "\n",
        "class GCN(torch.nn.Module):\n",
        "    def __init__(self):\n",
        "        super().__init__()\n",
        "        self.conv1 = GCNConv(1, 16)\n",
        "        self.conv2 = GCNConv(16,2)\n",
        "\n",
        "    def forward(self, data):\n",
        "        x, edge_index = data.x, data.edge_index\n",
        "\n",
        "        x = self.conv1(x, edge_index)\n",
        "        x = F.relu(x)\n",
        "        x = F.dropout(x, training=self.training)\n",
        "        x = self.conv2(x, edge_index)\n",
        "\n",
        "        return F.log_softmax(x, dim=1)"
      ],
      "id": "2774d96b-b24a-492b-a587-2815ff6e3ead"
    },
    {
      "cell_type": "code",
      "execution_count": 3,
      "metadata": {},
      "outputs": [],
      "source": [
        "fraudTrain = pd.read_csv(\"~/Desktop/fraudTrain.csv\").iloc[:,1:]"
      ],
      "id": "7021dc07-8a06-417b-9fb6-c71b2f05e5eb"
    },
    {
      "cell_type": "code",
      "execution_count": 4,
      "metadata": {},
      "outputs": [],
      "source": [
        "fraudTrain = fraudTrain.assign(trans_date_trans_time= list(map(lambda x: pd.to_datetime(x), fraudTrain.trans_date_trans_time)))\n",
        "fraudTrain"
      ],
      "id": "eb7a9b2b-f984-4bb0-b14b-e523a00d8d38"
    },
    {
      "cell_type": "markdown",
      "metadata": {},
      "source": [
        "## 데이터정리"
      ],
      "id": "75436ecd-6681-4aa1-8100-967288c942d0"
    },
    {
      "cell_type": "code",
      "execution_count": 5,
      "metadata": {},
      "outputs": [],
      "source": [
        "_df1 = fraudTrain[fraudTrain[\"is_fraud\"] == 0].sample(frac=0.20, random_state=42)\n",
        "_df2 = fraudTrain[fraudTrain[\"is_fraud\"] == 1]\n",
        "df02 = pd.concat([_df1,_df2])\n",
        "df02.shape"
      ],
      "id": "adec4c87-7a49-41dd-ba04-879643113486"
    },
    {
      "cell_type": "code",
      "execution_count": 6,
      "metadata": {},
      "outputs": [],
      "source": [
        "df50 = down_sample_textbook(df02)\n",
        "df50.shape"
      ],
      "id": "b1eab03c-9ee2-45e1-95a5-923642e8ce6f"
    },
    {
      "cell_type": "code",
      "execution_count": 7,
      "metadata": {},
      "outputs": [],
      "source": [
        "df50 = df50.reset_index()"
      ],
      "id": "4f3c12b1-433f-41ac-85c0-c42ae389ba60"
    },
    {
      "cell_type": "code",
      "execution_count": 8,
      "metadata": {},
      "outputs": [],
      "source": [
        "N = len(df50)"
      ],
      "id": "7cef7094-bd9b-43d1-a1c9-d4b1c9b4241c"
    },
    {
      "cell_type": "markdown",
      "metadata": {},
      "source": [
        "------------------------------------------------------------------------\n",
        "\n",
        "# autogluon1: amt"
      ],
      "id": "8efcc057-729b-4b25-9f35-8123abb3b8c7"
    },
    {
      "cell_type": "code",
      "execution_count": 9,
      "metadata": {},
      "outputs": [],
      "source": [
        "df50 = df50[[\"amt\",\"is_fraud\"]]\n",
        "df50_tr,df50_test = sklearn.model_selection.train_test_split(df50, random_state=42)"
      ],
      "id": "4ecf55c9-126f-4fbd-b295-df2226b33efc"
    },
    {
      "cell_type": "markdown",
      "metadata": {},
      "source": [
        "## A. 데이터"
      ],
      "id": "79a1b954-c61e-40ba-9c59-bdf3e490f9d8"
    },
    {
      "cell_type": "code",
      "execution_count": 10,
      "metadata": {},
      "outputs": [],
      "source": [
        "tr = TabularDataset(df50_tr)\n",
        "tst = TabularDataset(df50_test)"
      ],
      "id": "523d7817-ee32-4d2f-89e8-ad957d9a297c"
    },
    {
      "cell_type": "markdown",
      "metadata": {},
      "source": [
        "## B. predictor 생성"
      ],
      "id": "5ff017a5-bfb9-480a-8c68-e5c7617d2c91"
    },
    {
      "cell_type": "code",
      "execution_count": 11,
      "metadata": {},
      "outputs": [
        {
          "output_type": "stream",
          "name": "stderr",
          "text": [
            "No path specified. Models will be saved in: \"AutogluonModels/ag-20231011_125519/\""
          ]
        }
      ],
      "source": [
        "predictr = TabularPredictor(\"is_fraud\")"
      ],
      "id": "27d30077-b095-40a9-9153-9b9c6dde480a"
    },
    {
      "cell_type": "markdown",
      "metadata": {},
      "source": [
        "## C.적합(fit)"
      ],
      "id": "55a259fc-5115-44e6-903e-104f079c4ffc"
    },
    {
      "cell_type": "code",
      "execution_count": 12,
      "metadata": {},
      "outputs": [
        {
          "output_type": "stream",
          "name": "stderr",
          "text": [
            "Presets specified: ['best_quality']\n",
            "Stack configuration (auto_stack=True): num_stack_levels=0, num_bag_folds=8, num_bag_sets=1\n",
            "Beginning AutoGluon training ...\n",
            "AutoGluon will save models to \"AutogluonModels/ag-20231011_125519/\"\n",
            "AutoGluon Version:  0.8.2\n",
            "Python Version:     3.8.18\n",
            "Operating System:   Linux\n",
            "Platform Machine:   x86_64\n",
            "Platform Version:   #26~22.04.1-Ubuntu SMP PREEMPT_DYNAMIC Thu Jul 13 16:27:29 UTC 2\n",
            "Disk Space Avail:   746.18 GB / 982.82 GB (75.9%)\n",
            "Train Data Rows:    9009\n",
            "Train Data Columns: 1\n",
            "Label Column: is_fraud\n",
            "Preprocessing data ...\n",
            "AutoGluon infers your prediction problem is: 'binary' (because only two unique label-values observed).\n",
            "    2 unique label values:  [1, 0]\n",
            "    If 'binary' is not the correct problem_type, please manually specify the problem_type parameter during predictor init (You may specify problem_type as one of: ['binary', 'multiclass', 'regression'])\n",
            "Selected class <--> label mapping:  class 1 = 1, class 0 = 0\n",
            "Using Feature Generators to preprocess the data ...\n",
            "Fitting AutoMLPipelineFeatureGenerator...\n",
            "    Available Memory:                    12696.17 MB\n",
            "    Train Data (Original)  Memory Usage: 0.07 MB (0.0% of available memory)\n",
            "    Inferring data type of each feature based on column values. Set feature_metadata_in to manually specify special dtypes of the features.\n",
            "    Stage 1 Generators:\n",
            "        Fitting AsTypeFeatureGenerator...\n",
            "    Stage 2 Generators:\n",
            "        Fitting FillNaFeatureGenerator...\n",
            "    Stage 3 Generators:\n",
            "        Fitting IdentityFeatureGenerator...\n",
            "    Stage 4 Generators:\n",
            "        Fitting DropUniqueFeatureGenerator...\n",
            "    Stage 5 Generators:\n",
            "        Fitting DropDuplicatesFeatureGenerator...\n",
            "    Types of features in original data (raw dtype, special dtypes):\n",
            "        ('float', []) : 1 | ['amt']\n",
            "    Types of features in processed data (raw dtype, special dtypes):\n",
            "        ('float', []) : 1 | ['amt']\n",
            "    0.0s = Fit runtime\n",
            "    1 features in original data used to generate 1 features in processed data.\n",
            "    Train Data (Processed) Memory Usage: 0.07 MB (0.0% of available memory)\n",
            "Data preprocessing and feature engineering runtime = 0.02s ...\n",
            "AutoGluon will gauge predictive performance using evaluation metric: 'accuracy'\n",
            "    To change this, specify the eval_metric parameter of Predictor()\n",
            "User-specified model hyperparameters to be fit:\n",
            "{\n",
            "    'NN_TORCH': {},\n",
            "    'GBM': [{'extra_trees': True, 'ag_args': {'name_suffix': 'XT'}}, {}, 'GBMLarge'],\n",
            "    'CAT': {},\n",
            "    'XGB': {},\n",
            "    'FASTAI': {},\n",
            "    'RF': [{'criterion': 'gini', 'ag_args': {'name_suffix': 'Gini', 'problem_types': ['binary', 'multiclass']}}, {'criterion': 'entropy', 'ag_args': {'name_suffix': 'Entr', 'problem_types': ['binary', 'multiclass']}}, {'criterion': 'squared_error', 'ag_args': {'name_suffix': 'MSE', 'problem_types': ['regression', 'quantile']}}],\n",
            "    'XT': [{'criterion': 'gini', 'ag_args': {'name_suffix': 'Gini', 'problem_types': ['binary', 'multiclass']}}, {'criterion': 'entropy', 'ag_args': {'name_suffix': 'Entr', 'problem_types': ['binary', 'multiclass']}}, {'criterion': 'squared_error', 'ag_args': {'name_suffix': 'MSE', 'problem_types': ['regression', 'quantile']}}],\n",
            "    'KNN': [{'weights': 'uniform', 'ag_args': {'name_suffix': 'Unif'}}, {'weights': 'distance', 'ag_args': {'name_suffix': 'Dist'}}],\n",
            "}\n",
            "Fitting 13 L1 models ...\n",
            "Fitting model: KNeighborsUnif_BAG_L1 ...\n",
            "    0.8782   = Validation score   (accuracy)\n",
            "    0.0s     = Training   runtime\n",
            "    0.01s    = Validation runtime\n",
            "Fitting model: KNeighborsDist_BAG_L1 ...\n",
            "    0.8641   = Validation score   (accuracy)\n",
            "    0.0s     = Training   runtime\n",
            "    0.01s    = Validation runtime\n",
            "Fitting model: LightGBMXT_BAG_L1 ...\n",
            "    Fitting 8 child models (S1F1 - S1F8) | Fitting with ParallelLocalFoldFittingStrategy\n",
            "    0.885    = Validation score   (accuracy)\n",
            "    0.5s     = Training   runtime\n",
            "    0.03s    = Validation runtime\n",
            "Fitting model: LightGBM_BAG_L1 ...\n",
            "    Fitting 8 child models (S1F1 - S1F8) | Fitting with ParallelLocalFoldFittingStrategy\n",
            "    0.894    = Validation score   (accuracy)\n",
            "    0.64s    = Training   runtime\n",
            "    0.02s    = Validation runtime\n",
            "Fitting model: RandomForestGini_BAG_L1 ...\n",
            "    0.856    = Validation score   (accuracy)\n",
            "    0.35s    = Training   runtime\n",
            "    0.19s    = Validation runtime\n",
            "Fitting model: RandomForestEntr_BAG_L1 ...\n",
            "    0.856    = Validation score   (accuracy)\n",
            "    0.6s     = Training   runtime\n",
            "    0.19s    = Validation runtime\n",
            "Fitting model: CatBoost_BAG_L1 ...\n",
            "    Fitting 8 child models (S1F1 - S1F8) | Fitting with ParallelLocalFoldFittingStrategy\n",
            "    0.8947   = Validation score   (accuracy)\n",
            "    1.56s    = Training   runtime\n",
            "    0.0s     = Validation runtime\n",
            "Fitting model: ExtraTreesGini_BAG_L1 ...\n",
            "    0.8622   = Validation score   (accuracy)\n",
            "    0.33s    = Training   runtime\n",
            "    0.21s    = Validation runtime\n",
            "Fitting model: ExtraTreesEntr_BAG_L1 ...\n",
            "    0.8626   = Validation score   (accuracy)\n",
            "    0.31s    = Training   runtime\n",
            "    0.25s    = Validation runtime\n",
            "Fitting model: NeuralNetFastAI_BAG_L1 ...\n",
            "    Fitting 8 child models (S1F1 - S1F8) | Fitting with ParallelLocalFoldFittingStrategy\n",
            "    0.867    = Validation score   (accuracy)\n",
            "    9.1s     = Training   runtime\n",
            "    0.17s    = Validation runtime\n",
            "Fitting model: XGBoost_BAG_L1 ...\n",
            "    Fitting 8 child models (S1F1 - S1F8) | Fitting with ParallelLocalFoldFittingStrategy\n",
            "    0.8944   = Validation score   (accuracy)\n",
            "    0.57s    = Training   runtime\n",
            "    0.02s    = Validation runtime\n",
            "Fitting model: NeuralNetTorch_BAG_L1 ...\n",
            "    Fitting 8 child models (S1F1 - S1F8) | Fitting with ParallelLocalFoldFittingStrategy\n",
            "    0.8888   = Validation score   (accuracy)\n",
            "    18.41s   = Training   runtime\n",
            "    0.09s    = Validation runtime\n",
            "Fitting model: LightGBMLarge_BAG_L1 ...\n",
            "    Fitting 8 child models (S1F1 - S1F8) | Fitting with ParallelLocalFoldFittingStrategy\n",
            "    0.8941   = Validation score   (accuracy)\n",
            "    0.85s    = Training   runtime\n",
            "    0.01s    = Validation runtime\n",
            "Fitting model: WeightedEnsemble_L2 ...\n",
            "    0.8948   = Validation score   (accuracy)\n",
            "    2.26s    = Training   runtime\n",
            "    0.01s    = Validation runtime\n",
            "AutoGluon training complete, total runtime = 45.37s ... Best model: \"WeightedEnsemble_L2\"\n",
            "TabularPredictor saved. To load, use: predictor = TabularPredictor.load(\"AutogluonModels/ag-20231011_125519/\")"
          ]
        }
      ],
      "source": [
        "predictr.fit(tr, presets='best_quality')"
      ],
      "id": "f8c501b1-1bee-4978-a771-82642655f89d"
    },
    {
      "cell_type": "code",
      "execution_count": 13,
      "metadata": {},
      "outputs": [
        {
          "output_type": "stream",
          "name": "stdout",
          "text": [
            "                      model  score_val  pred_time_val   fit_time  pred_time_val_marginal  fit_time_marginal  stack_level  can_infer  fit_order\n",
            "0       WeightedEnsemble_L2   0.894772       0.020864   4.666441                0.009758           2.256641            2       True         14\n",
            "1           CatBoost_BAG_L1   0.894661       0.004361   1.564344                0.004361           1.564344            1       True          7\n",
            "2            XGBoost_BAG_L1   0.894439       0.022174   0.569362                0.022174           0.569362            1       True         11\n",
            "3      LightGBMLarge_BAG_L1   0.894106       0.006745   0.845457                0.006745           0.845457            1       True         13\n",
            "4           LightGBM_BAG_L1   0.893995       0.016963   0.637937                0.016963           0.637937            1       True          4\n",
            "5     NeuralNetTorch_BAG_L1   0.888778       0.089444  18.408010                0.089444          18.408010            1       True         12\n",
            "6         LightGBMXT_BAG_L1   0.885004       0.033841   0.504977                0.033841           0.504977            1       True          3\n",
            "7     KNeighborsUnif_BAG_L1   0.878233       0.009831   0.002898                0.009831           0.002898            1       True          1\n",
            "8    NeuralNetFastAI_BAG_L1   0.867022       0.171568   9.103081                0.171568           9.103081            1       True         10\n",
            "9     KNeighborsDist_BAG_L1   0.864136       0.008431   0.003336                0.008431           0.003336            1       True          2\n",
            "10    ExtraTreesEntr_BAG_L1   0.862582       0.253638   0.310474                0.253638           0.310474            1       True          9\n",
            "11    ExtraTreesGini_BAG_L1   0.862249       0.210405   0.327562                0.210405           0.327562            1       True          8\n",
            "12  RandomForestEntr_BAG_L1   0.856033       0.189045   0.599637                0.189045           0.599637            1       True          6\n",
            "13  RandomForestGini_BAG_L1   0.856033       0.191019   0.349150                0.191019           0.349150            1       True          5"
          ]
        }
      ],
      "source": [
        "predictr.leaderboard()"
      ],
      "id": "c77c457c-a951-4e90-98b4-7ea59ed4b3ed"
    },
    {
      "cell_type": "markdown",
      "metadata": {},
      "source": [
        "------------------------------------------------------------------------\n",
        "\n",
        "# autogluon2: amt, distace"
      ],
      "id": "b0f4fcbc-b579-4442-8d4e-f078228f458f"
    },
    {
      "cell_type": "code",
      "execution_count": 22,
      "metadata": {},
      "outputs": [],
      "source": [
        "_df1 = fraudTrain[fraudTrain[\"is_fraud\"] == 0].sample(frac=0.20, random_state=42)\n",
        "_df2 = fraudTrain[fraudTrain[\"is_fraud\"] == 1]\n",
        "df02 = pd.concat([_df1,_df2])\n",
        "df02.shape"
      ],
      "id": "543bc020-2360-4450-bd45-f94a8fae567b"
    },
    {
      "cell_type": "code",
      "execution_count": 23,
      "metadata": {},
      "outputs": [],
      "source": [
        "df50 = down_sample_textbook(df02)\n",
        "df50.shape"
      ],
      "id": "fc28e090-b4aa-422d-b3a2-08f7b7874068"
    },
    {
      "cell_type": "code",
      "execution_count": 24,
      "metadata": {},
      "outputs": [],
      "source": [
        "df50 = df50.reset_index()"
      ],
      "id": "14bd2066-7f11-4e80-a59a-c2ff47e04e0a"
    },
    {
      "cell_type": "code",
      "execution_count": 25,
      "metadata": {},
      "outputs": [],
      "source": [
        "df50['trans_date_trans_time'] = pd.to_datetime(df50['trans_date_trans_time'])\n",
        "df50['trans_date_trans_time'] = (df50['trans_date_trans_time'] - pd.Timestamp(\"1970-01-01\")) // pd.Timedelta('1s')\n",
        "\n",
        "category_map = {category: index for index, category in enumerate(df50['category'].unique())}\n",
        "df50['category'] = df50['category'].map(category_map)\n",
        "\n",
        "def haversine(lat1, lon1, lat2, lon2):\n",
        "    # 지구의 반지름 (미터)\n",
        "    radius = 6371.0\n",
        "\n",
        "    # 라디안으로 변환\n",
        "    lat1 = np.radians(lat1)\n",
        "    lon1 = np.radians(lon1)\n",
        "    lat2 = np.radians(lat2)\n",
        "    lon2 = np.radians(lon2)\n",
        "\n",
        "    # Haversine 공식 계산\n",
        "    dlon = lon2 - lon1\n",
        "    dlat = lat2 - lat1\n",
        "    a = np.sin(dlat / 2)**2 + np.cos(lat1) * np.cos(lat2) * np.sin(dlon / 2)**2\n",
        "    c = 2 * np.arctan2(np.sqrt(a), np.sqrt(1 - a))\n",
        "    distance = radius * c\n",
        "\n",
        "    return distance\n",
        "\n",
        "customer_lat = df50['lat']\n",
        "customer_lon = df50['long']\n",
        "store_lat = df50['merch_lat']\n",
        "store_lon = df50['merch_long']\n",
        "distances = haversine(customer_lat, customer_lon, store_lat, store_lon)\n",
        "df50['distance_km'] = distances\n"
      ],
      "id": "93861e95-0acf-4fe5-b39b-2d83ad0c0bab"
    },
    {
      "cell_type": "code",
      "execution_count": 26,
      "metadata": {},
      "outputs": [],
      "source": [
        "df50 = df50[[\"amt\",\"distance_km\", \"is_fraud\"]]"
      ],
      "id": "ce8274c8-5a98-4163-844b-fd76cdd305bb"
    },
    {
      "cell_type": "code",
      "execution_count": 27,
      "metadata": {},
      "outputs": [],
      "source": [
        "df50_tr,df50_test = sklearn.model_selection.train_test_split(df50, random_state=42)"
      ],
      "id": "4e8c9546-a5bc-4668-82cb-369e119b3cc8"
    },
    {
      "cell_type": "markdown",
      "metadata": {},
      "source": [
        "## A. 데이터"
      ],
      "id": "d2443254-ae58-47ba-8683-b207dd6a9304"
    },
    {
      "cell_type": "code",
      "execution_count": 28,
      "metadata": {},
      "outputs": [],
      "source": [
        "tr = TabularDataset(df50_tr)\n",
        "tst = TabularDataset(df50_test)"
      ],
      "id": "c55c81e4-673f-4785-9119-b509028b431f"
    },
    {
      "cell_type": "markdown",
      "metadata": {},
      "source": [
        "## B. predictor 생성"
      ],
      "id": "4f98ea7b-10cc-48b6-95a6-8b193080b2a3"
    },
    {
      "cell_type": "code",
      "execution_count": 29,
      "metadata": {},
      "outputs": [
        {
          "output_type": "stream",
          "name": "stderr",
          "text": [
            "No path specified. Models will be saved in: \"AutogluonModels/ag-20231011_125738/\""
          ]
        }
      ],
      "source": [
        "predictr = TabularPredictor(\"is_fraud\")"
      ],
      "id": "d0f9515a-a829-4ed2-80fa-e6b640a42c9e"
    },
    {
      "cell_type": "markdown",
      "metadata": {},
      "source": [
        "## C.적합(fit)"
      ],
      "id": "47ea0e01-16cb-4597-bfae-7b0a88619254"
    },
    {
      "cell_type": "code",
      "execution_count": 30,
      "metadata": {},
      "outputs": [
        {
          "output_type": "stream",
          "name": "stderr",
          "text": [
            "Presets specified: ['best_quality']\n",
            "Stack configuration (auto_stack=True): num_stack_levels=0, num_bag_folds=8, num_bag_sets=1\n",
            "Beginning AutoGluon training ...\n",
            "AutoGluon will save models to \"AutogluonModels/ag-20231011_125738/\"\n",
            "AutoGluon Version:  0.8.2\n",
            "Python Version:     3.8.18\n",
            "Operating System:   Linux\n",
            "Platform Machine:   x86_64\n",
            "Platform Version:   #26~22.04.1-Ubuntu SMP PREEMPT_DYNAMIC Thu Jul 13 16:27:29 UTC 2\n",
            "Disk Space Avail:   738.25 GB / 982.82 GB (75.1%)\n",
            "Train Data Rows:    9009\n",
            "Train Data Columns: 2\n",
            "Label Column: is_fraud\n",
            "Preprocessing data ...\n",
            "AutoGluon infers your prediction problem is: 'binary' (because only two unique label-values observed).\n",
            "    2 unique label values:  [1, 0]\n",
            "    If 'binary' is not the correct problem_type, please manually specify the problem_type parameter during predictor init (You may specify problem_type as one of: ['binary', 'multiclass', 'regression'])\n",
            "Selected class <--> label mapping:  class 1 = 1, class 0 = 0\n",
            "Using Feature Generators to preprocess the data ...\n",
            "Fitting AutoMLPipelineFeatureGenerator...\n",
            "    Available Memory:                    10891.21 MB\n",
            "    Train Data (Original)  Memory Usage: 0.14 MB (0.0% of available memory)\n",
            "    Inferring data type of each feature based on column values. Set feature_metadata_in to manually specify special dtypes of the features.\n",
            "    Stage 1 Generators:\n",
            "        Fitting AsTypeFeatureGenerator...\n",
            "    Stage 2 Generators:\n",
            "        Fitting FillNaFeatureGenerator...\n",
            "    Stage 3 Generators:\n",
            "        Fitting IdentityFeatureGenerator...\n",
            "    Stage 4 Generators:\n",
            "        Fitting DropUniqueFeatureGenerator...\n",
            "    Stage 5 Generators:\n",
            "        Fitting DropDuplicatesFeatureGenerator...\n",
            "    Types of features in original data (raw dtype, special dtypes):\n",
            "        ('float', []) : 2 | ['amt', 'distance_km']\n",
            "    Types of features in processed data (raw dtype, special dtypes):\n",
            "        ('float', []) : 2 | ['amt', 'distance_km']\n",
            "    0.0s = Fit runtime\n",
            "    2 features in original data used to generate 2 features in processed data.\n",
            "    Train Data (Processed) Memory Usage: 0.14 MB (0.0% of available memory)\n",
            "Data preprocessing and feature engineering runtime = 0.03s ...\n",
            "AutoGluon will gauge predictive performance using evaluation metric: 'accuracy'\n",
            "    To change this, specify the eval_metric parameter of Predictor()\n",
            "User-specified model hyperparameters to be fit:\n",
            "{\n",
            "    'NN_TORCH': {},\n",
            "    'GBM': [{'extra_trees': True, 'ag_args': {'name_suffix': 'XT'}}, {}, 'GBMLarge'],\n",
            "    'CAT': {},\n",
            "    'XGB': {},\n",
            "    'FASTAI': {},\n",
            "    'RF': [{'criterion': 'gini', 'ag_args': {'name_suffix': 'Gini', 'problem_types': ['binary', 'multiclass']}}, {'criterion': 'entropy', 'ag_args': {'name_suffix': 'Entr', 'problem_types': ['binary', 'multiclass']}}, {'criterion': 'squared_error', 'ag_args': {'name_suffix': 'MSE', 'problem_types': ['regression', 'quantile']}}],\n",
            "    'XT': [{'criterion': 'gini', 'ag_args': {'name_suffix': 'Gini', 'problem_types': ['binary', 'multiclass']}}, {'criterion': 'entropy', 'ag_args': {'name_suffix': 'Entr', 'problem_types': ['binary', 'multiclass']}}, {'criterion': 'squared_error', 'ag_args': {'name_suffix': 'MSE', 'problem_types': ['regression', 'quantile']}}],\n",
            "    'KNN': [{'weights': 'uniform', 'ag_args': {'name_suffix': 'Unif'}}, {'weights': 'distance', 'ag_args': {'name_suffix': 'Dist'}}],\n",
            "}\n",
            "Fitting 13 L1 models ...\n",
            "Fitting model: KNeighborsUnif_BAG_L1 ...\n",
            "    0.8779   = Validation score   (accuracy)\n",
            "    0.0s     = Training   runtime\n",
            "    0.02s    = Validation runtime\n",
            "Fitting model: KNeighborsDist_BAG_L1 ...\n",
            "    0.8716   = Validation score   (accuracy)\n",
            "    0.0s     = Training   runtime\n",
            "    0.01s    = Validation runtime\n",
            "Fitting model: LightGBMXT_BAG_L1 ...\n",
            "    Fitting 8 child models (S1F1 - S1F8) | Fitting with ParallelLocalFoldFittingStrategy\n",
            "    0.8898   = Validation score   (accuracy)\n",
            "    0.77s    = Training   runtime\n",
            "    0.15s    = Validation runtime\n",
            "Fitting model: LightGBM_BAG_L1 ...\n",
            "    Fitting 8 child models (S1F1 - S1F8) | Fitting with ParallelLocalFoldFittingStrategy\n",
            "    0.894    = Validation score   (accuracy)\n",
            "    0.66s    = Training   runtime\n",
            "    0.01s    = Validation runtime\n",
            "Fitting model: RandomForestGini_BAG_L1 ...\n",
            "    0.8788   = Validation score   (accuracy)\n",
            "    0.41s    = Training   runtime\n",
            "    0.21s    = Validation runtime\n",
            "Fitting model: RandomForestEntr_BAG_L1 ...\n",
            "    0.8793   = Validation score   (accuracy)\n",
            "    0.58s    = Training   runtime\n",
            "    0.23s    = Validation runtime\n",
            "Fitting model: CatBoost_BAG_L1 ...\n",
            "    Fitting 8 child models (S1F1 - S1F8) | Fitting with ParallelLocalFoldFittingStrategy\n",
            "    0.8948   = Validation score   (accuracy)\n",
            "    2.02s    = Training   runtime\n",
            "    0.01s    = Validation runtime\n",
            "Fitting model: ExtraTreesGini_BAG_L1 ...\n",
            "    0.8771   = Validation score   (accuracy)\n",
            "    0.31s    = Training   runtime\n",
            "    0.23s    = Validation runtime\n",
            "Fitting model: ExtraTreesEntr_BAG_L1 ...\n",
            "    0.8766   = Validation score   (accuracy)\n",
            "    0.38s    = Training   runtime\n",
            "    0.23s    = Validation runtime\n",
            "Fitting model: NeuralNetFastAI_BAG_L1 ...\n",
            "    Fitting 8 child models (S1F1 - S1F8) | Fitting with ParallelLocalFoldFittingStrategy\n",
            "    0.8671   = Validation score   (accuracy)\n",
            "    10.03s   = Training   runtime\n",
            "    0.11s    = Validation runtime\n",
            "Fitting model: XGBoost_BAG_L1 ...\n",
            "    Fitting 8 child models (S1F1 - S1F8) | Fitting with ParallelLocalFoldFittingStrategy\n",
            "    0.8955   = Validation score   (accuracy)\n",
            "    0.72s    = Training   runtime\n",
            "    0.03s    = Validation runtime\n",
            "Fitting model: NeuralNetTorch_BAG_L1 ...\n",
            "    Fitting 8 child models (S1F1 - S1F8) | Fitting with ParallelLocalFoldFittingStrategy\n",
            "    0.8869   = Validation score   (accuracy)\n",
            "    14.71s   = Training   runtime\n",
            "    0.07s    = Validation runtime\n",
            "Fitting model: LightGBMLarge_BAG_L1 ...\n",
            "    Fitting 8 child models (S1F1 - S1F8) | Fitting with ParallelLocalFoldFittingStrategy\n",
            "    0.8866   = Validation score   (accuracy)\n",
            "    0.94s    = Training   runtime\n",
            "    0.01s    = Validation runtime\n",
            "Fitting model: WeightedEnsemble_L2 ...\n",
            "    0.8955   = Validation score   (accuracy)\n",
            "    2.32s    = Training   runtime\n",
            "    0.01s    = Validation runtime\n",
            "AutoGluon training complete, total runtime = 42.82s ... Best model: \"WeightedEnsemble_L2\"\n",
            "TabularPredictor saved. To load, use: predictor = TabularPredictor.load(\"AutogluonModels/ag-20231011_125738/\")"
          ]
        }
      ],
      "source": [
        "predictr.fit(tr, presets='best_quality')"
      ],
      "id": "34ac0413-bb9a-4dba-a60a-4690fe3187cd"
    },
    {
      "cell_type": "code",
      "execution_count": 31,
      "metadata": {},
      "outputs": [
        {
          "output_type": "stream",
          "name": "stdout",
          "text": [
            "                      model  score_val  pred_time_val   fit_time  pred_time_val_marginal  fit_time_marginal  stack_level  can_infer  fit_order\n",
            "0            XGBoost_BAG_L1   0.895549       0.026780   0.716487                0.026780           0.716487            1       True         11\n",
            "1       WeightedEnsemble_L2   0.895549       0.036584   3.040059                0.009804           2.323572            2       True         14\n",
            "2           CatBoost_BAG_L1   0.894772       0.007168   2.017300                0.007168           2.017300            1       True          7\n",
            "3           LightGBM_BAG_L1   0.893995       0.009826   0.656309                0.009826           0.656309            1       True          4\n",
            "4         LightGBMXT_BAG_L1   0.889777       0.153301   0.774388                0.153301           0.774388            1       True          3\n",
            "5     NeuralNetTorch_BAG_L1   0.886891       0.067880  14.708995                0.067880          14.708995            1       True         12\n",
            "6      LightGBMLarge_BAG_L1   0.886558       0.011474   0.938887                0.011474           0.938887            1       True         13\n",
            "7   RandomForestEntr_BAG_L1   0.879343       0.227656   0.576854                0.227656           0.576854            1       True          6\n",
            "8   RandomForestGini_BAG_L1   0.878788       0.210062   0.409630                0.210062           0.409630            1       True          5\n",
            "9     KNeighborsUnif_BAG_L1   0.877900       0.019640   0.004492                0.019640           0.004492            1       True          1\n",
            "10    ExtraTreesGini_BAG_L1   0.877123       0.230533   0.311612                0.230533           0.311612            1       True          8\n",
            "11    ExtraTreesEntr_BAG_L1   0.876568       0.228856   0.381866                0.228856           0.381866            1       True          9\n",
            "12    KNeighborsDist_BAG_L1   0.871573       0.010582   0.003571                0.010582           0.003571            1       True          2\n",
            "13   NeuralNetFastAI_BAG_L1   0.867133       0.106724  10.029284                0.106724          10.029284            1       True         10"
          ]
        }
      ],
      "source": [
        "predictr.leaderboard()"
      ],
      "id": "f248bf87-d12a-439f-94d2-0636d48004f8"
    },
    {
      "cell_type": "markdown",
      "metadata": {},
      "source": [
        "------------------------------------------------------------------------\n",
        "\n",
        "# autogluon3: amt, time, distace"
      ],
      "id": "e9a79f19-ccd8-4f7f-95be-37d9929a3f18"
    },
    {
      "cell_type": "code",
      "execution_count": 32,
      "metadata": {},
      "outputs": [],
      "source": [
        "_df1 = fraudTrain[fraudTrain[\"is_fraud\"] == 0].sample(frac=0.20, random_state=42)\n",
        "_df2 = fraudTrain[fraudTrain[\"is_fraud\"] == 1]\n",
        "df02 = pd.concat([_df1,_df2])\n",
        "df02.shape"
      ],
      "id": "ef09a42d-647a-4223-85c3-768fcb5a809a"
    },
    {
      "cell_type": "code",
      "execution_count": 33,
      "metadata": {},
      "outputs": [],
      "source": [
        "df50 = down_sample_textbook(df02)\n",
        "df50.shape"
      ],
      "id": "cd2fb9e0-2bbd-4479-8c82-50b889783564"
    },
    {
      "cell_type": "code",
      "execution_count": 34,
      "metadata": {},
      "outputs": [],
      "source": [
        "df50 = df50.reset_index()"
      ],
      "id": "ac672447-ce08-4ba7-b06a-4f3d36a0a0ef"
    },
    {
      "cell_type": "code",
      "execution_count": 35,
      "metadata": {},
      "outputs": [],
      "source": [
        "df50['trans_date_trans_time'] = pd.to_datetime(df50['trans_date_trans_time'])\n",
        "df50['trans_date_trans_time'] = (df50['trans_date_trans_time'] - pd.Timestamp(\"1970-01-01\")) // pd.Timedelta('1s')\n",
        "\n",
        "category_map = {category: index for index, category in enumerate(df50['category'].unique())}\n",
        "df50['category'] = df50['category'].map(category_map)\n",
        "\n",
        "def haversine(lat1, lon1, lat2, lon2):\n",
        "    # 지구의 반지름 (미터)\n",
        "    radius = 6371.0\n",
        "\n",
        "    # 라디안으로 변환\n",
        "    lat1 = np.radians(lat1)\n",
        "    lon1 = np.radians(lon1)\n",
        "    lat2 = np.radians(lat2)\n",
        "    lon2 = np.radians(lon2)\n",
        "\n",
        "    # Haversine 공식 계산\n",
        "    dlon = lon2 - lon1\n",
        "    dlat = lat2 - lat1\n",
        "    a = np.sin(dlat / 2)**2 + np.cos(lat1) * np.cos(lat2) * np.sin(dlon / 2)**2\n",
        "    c = 2 * np.arctan2(np.sqrt(a), np.sqrt(1 - a))\n",
        "    distance = radius * c\n",
        "\n",
        "    return distance\n",
        "\n",
        "customer_lat = df50['lat']\n",
        "customer_lon = df50['long']\n",
        "store_lat = df50['merch_lat']\n",
        "store_lon = df50['merch_long']\n",
        "distances = haversine(customer_lat, customer_lon, store_lat, store_lon)\n",
        "df50['distance_km'] = distances\n"
      ],
      "id": "c2979836-96b2-408f-ab4a-a1403b244f47"
    },
    {
      "cell_type": "code",
      "execution_count": 36,
      "metadata": {},
      "outputs": [],
      "source": [
        "df50 = df50[[\"amt\",'trans_date_trans_time', 'distance_km', \"is_fraud\"]]"
      ],
      "id": "9cc6d4e4-ecaf-49db-b115-5ce238f76f06"
    },
    {
      "cell_type": "code",
      "execution_count": 37,
      "metadata": {},
      "outputs": [],
      "source": [
        "df50_tr,df50_test = sklearn.model_selection.train_test_split(df50, random_state=42)"
      ],
      "id": "1746ec92-50c0-402d-8297-92cb67c718d5"
    },
    {
      "cell_type": "markdown",
      "metadata": {},
      "source": [
        "## A. 데이터"
      ],
      "id": "5d0b5261-57de-4424-bab0-009d2cffcb06"
    },
    {
      "cell_type": "code",
      "execution_count": 38,
      "metadata": {},
      "outputs": [],
      "source": [
        "tr = TabularDataset(df50_tr)\n",
        "tst = TabularDataset(df50_test)"
      ],
      "id": "2270b055-c69c-4743-a329-6e445b0a66eb"
    },
    {
      "cell_type": "markdown",
      "metadata": {},
      "source": [
        "## B. predictor 생성"
      ],
      "id": "bb62b97c-c430-443b-bf58-0caa464a6b0e"
    },
    {
      "cell_type": "code",
      "execution_count": 39,
      "metadata": {},
      "outputs": [
        {
          "output_type": "stream",
          "name": "stderr",
          "text": [
            "No path specified. Models will be saved in: \"AutogluonModels/ag-20231011_125833/\""
          ]
        }
      ],
      "source": [
        "predictr = TabularPredictor(\"is_fraud\")"
      ],
      "id": "8a5e656a-1009-4670-969b-9749270a004f"
    },
    {
      "cell_type": "markdown",
      "metadata": {},
      "source": [
        "## C.적합(fit)"
      ],
      "id": "a9a3a39a-d47e-4484-8b11-3a070d56598e"
    },
    {
      "cell_type": "code",
      "execution_count": 40,
      "metadata": {},
      "outputs": [
        {
          "output_type": "stream",
          "name": "stderr",
          "text": [
            "Presets specified: ['best_quality']\n",
            "Stack configuration (auto_stack=True): num_stack_levels=0, num_bag_folds=8, num_bag_sets=1\n",
            "Beginning AutoGluon training ...\n",
            "AutoGluon will save models to \"AutogluonModels/ag-20231011_125833/\"\n",
            "AutoGluon Version:  0.8.2\n",
            "Python Version:     3.8.18\n",
            "Operating System:   Linux\n",
            "Platform Machine:   x86_64\n",
            "Platform Version:   #26~22.04.1-Ubuntu SMP PREEMPT_DYNAMIC Thu Jul 13 16:27:29 UTC 2\n",
            "Disk Space Avail:   738.82 GB / 982.82 GB (75.2%)\n",
            "Train Data Rows:    9009\n",
            "Train Data Columns: 3\n",
            "Label Column: is_fraud\n",
            "Preprocessing data ...\n",
            "AutoGluon infers your prediction problem is: 'binary' (because only two unique label-values observed).\n",
            "    2 unique label values:  [1, 0]\n",
            "    If 'binary' is not the correct problem_type, please manually specify the problem_type parameter during predictor init (You may specify problem_type as one of: ['binary', 'multiclass', 'regression'])\n",
            "Selected class <--> label mapping:  class 1 = 1, class 0 = 0\n",
            "Using Feature Generators to preprocess the data ...\n",
            "Fitting AutoMLPipelineFeatureGenerator...\n",
            "    Available Memory:                    12201.29 MB\n",
            "    Train Data (Original)  Memory Usage: 0.22 MB (0.0% of available memory)\n",
            "    Inferring data type of each feature based on column values. Set feature_metadata_in to manually specify special dtypes of the features.\n",
            "    Stage 1 Generators:\n",
            "        Fitting AsTypeFeatureGenerator...\n",
            "    Stage 2 Generators:\n",
            "        Fitting FillNaFeatureGenerator...\n",
            "    Stage 3 Generators:\n",
            "        Fitting IdentityFeatureGenerator...\n",
            "    Stage 4 Generators:\n",
            "        Fitting DropUniqueFeatureGenerator...\n",
            "    Stage 5 Generators:\n",
            "        Fitting DropDuplicatesFeatureGenerator...\n",
            "    Types of features in original data (raw dtype, special dtypes):\n",
            "        ('float', []) : 2 | ['amt', 'distance_km']\n",
            "        ('int', [])   : 1 | ['trans_date_trans_time']\n",
            "    Types of features in processed data (raw dtype, special dtypes):\n",
            "        ('float', []) : 2 | ['amt', 'distance_km']\n",
            "        ('int', [])   : 1 | ['trans_date_trans_time']\n",
            "    0.0s = Fit runtime\n",
            "    3 features in original data used to generate 3 features in processed data.\n",
            "    Train Data (Processed) Memory Usage: 0.22 MB (0.0% of available memory)\n",
            "Data preprocessing and feature engineering runtime = 0.04s ...\n",
            "AutoGluon will gauge predictive performance using evaluation metric: 'accuracy'\n",
            "    To change this, specify the eval_metric parameter of Predictor()\n",
            "User-specified model hyperparameters to be fit:\n",
            "{\n",
            "    'NN_TORCH': {},\n",
            "    'GBM': [{'extra_trees': True, 'ag_args': {'name_suffix': 'XT'}}, {}, 'GBMLarge'],\n",
            "    'CAT': {},\n",
            "    'XGB': {},\n",
            "    'FASTAI': {},\n",
            "    'RF': [{'criterion': 'gini', 'ag_args': {'name_suffix': 'Gini', 'problem_types': ['binary', 'multiclass']}}, {'criterion': 'entropy', 'ag_args': {'name_suffix': 'Entr', 'problem_types': ['binary', 'multiclass']}}, {'criterion': 'squared_error', 'ag_args': {'name_suffix': 'MSE', 'problem_types': ['regression', 'quantile']}}],\n",
            "    'XT': [{'criterion': 'gini', 'ag_args': {'name_suffix': 'Gini', 'problem_types': ['binary', 'multiclass']}}, {'criterion': 'entropy', 'ag_args': {'name_suffix': 'Entr', 'problem_types': ['binary', 'multiclass']}}, {'criterion': 'squared_error', 'ag_args': {'name_suffix': 'MSE', 'problem_types': ['regression', 'quantile']}}],\n",
            "    'KNN': [{'weights': 'uniform', 'ag_args': {'name_suffix': 'Unif'}}, {'weights': 'distance', 'ag_args': {'name_suffix': 'Dist'}}],\n",
            "}\n",
            "Fitting 13 L1 models ...\n",
            "Fitting model: KNeighborsUnif_BAG_L1 ...\n",
            "    0.7325   = Validation score   (accuracy)\n",
            "    0.01s    = Training   runtime\n",
            "    0.01s    = Validation runtime\n",
            "Fitting model: KNeighborsDist_BAG_L1 ...\n",
            "    0.737    = Validation score   (accuracy)\n",
            "    0.0s     = Training   runtime\n",
            "    0.01s    = Validation runtime\n",
            "Fitting model: LightGBMXT_BAG_L1 ...\n",
            "    Fitting 8 child models (S1F1 - S1F8) | Fitting with ParallelLocalFoldFittingStrategy\n",
            "    0.8918   = Validation score   (accuracy)\n",
            "    1.14s    = Training   runtime\n",
            "    0.17s    = Validation runtime\n",
            "Fitting model: LightGBM_BAG_L1 ...\n",
            "    Fitting 8 child models (S1F1 - S1F8) | Fitting with ParallelLocalFoldFittingStrategy\n",
            "    0.9003   = Validation score   (accuracy)\n",
            "    0.79s    = Training   runtime\n",
            "    0.03s    = Validation runtime\n",
            "Fitting model: RandomForestGini_BAG_L1 ...\n",
            "    0.887    = Validation score   (accuracy)\n",
            "    0.39s    = Training   runtime\n",
            "    0.2s     = Validation runtime\n",
            "Fitting model: RandomForestEntr_BAG_L1 ...\n",
            "    0.8876   = Validation score   (accuracy)\n",
            "    0.53s    = Training   runtime\n",
            "    0.21s    = Validation runtime\n",
            "Fitting model: CatBoost_BAG_L1 ...\n",
            "    Fitting 8 child models (S1F1 - S1F8) | Fitting with ParallelLocalFoldFittingStrategy\n",
            "    0.8993   = Validation score   (accuracy)\n",
            "    2.63s    = Training   runtime\n",
            "    0.01s    = Validation runtime\n",
            "Fitting model: ExtraTreesGini_BAG_L1 ...\n",
            "    0.8818   = Validation score   (accuracy)\n",
            "    0.32s    = Training   runtime\n",
            "    0.23s    = Validation runtime\n",
            "Fitting model: ExtraTreesEntr_BAG_L1 ...\n",
            "    0.8813   = Validation score   (accuracy)\n",
            "    0.32s    = Training   runtime\n",
            "    0.24s    = Validation runtime\n",
            "Fitting model: NeuralNetFastAI_BAG_L1 ...\n",
            "    Fitting 8 child models (S1F1 - S1F8) | Fitting with ParallelLocalFoldFittingStrategy\n",
            "    0.8664   = Validation score   (accuracy)\n",
            "    8.79s    = Training   runtime\n",
            "    0.13s    = Validation runtime\n",
            "Fitting model: XGBoost_BAG_L1 ...\n",
            "    Fitting 8 child models (S1F1 - S1F8) | Fitting with ParallelLocalFoldFittingStrategy\n",
            "    0.8993   = Validation score   (accuracy)\n",
            "    0.79s    = Training   runtime\n",
            "    0.04s    = Validation runtime\n",
            "Fitting model: NeuralNetTorch_BAG_L1 ...\n",
            "    Fitting 8 child models (S1F1 - S1F8) | Fitting with ParallelLocalFoldFittingStrategy\n",
            "    0.8862   = Validation score   (accuracy)\n",
            "    15.89s   = Training   runtime\n",
            "    0.07s    = Validation runtime\n",
            "Fitting model: LightGBMLarge_BAG_L1 ...\n",
            "    Fitting 8 child models (S1F1 - S1F8) | Fitting with ParallelLocalFoldFittingStrategy\n",
            "    0.8928   = Validation score   (accuracy)\n",
            "    1.36s    = Training   runtime\n",
            "    0.03s    = Validation runtime\n",
            "Fitting model: WeightedEnsemble_L2 ...\n",
            "    0.922    = Validation score   (accuracy)\n",
            "    2.2s     = Training   runtime\n",
            "    0.01s    = Validation runtime\n",
            "AutoGluon training complete, total runtime = 43.5s ... Best model: \"WeightedEnsemble_L2\"\n",
            "TabularPredictor saved. To load, use: predictor = TabularPredictor.load(\"AutogluonModels/ag-20231011_125833/\")"
          ]
        }
      ],
      "source": [
        "predictr.fit(tr, presets='best_quality')"
      ],
      "id": "dde5f1c7-6ec9-4ad2-adbd-34160cd7baf6"
    },
    {
      "cell_type": "code",
      "execution_count": 41,
      "metadata": {},
      "outputs": [
        {
          "output_type": "stream",
          "name": "stdout",
          "text": [
            "                      model  score_val  pred_time_val   fit_time  pred_time_val_marginal  fit_time_marginal  stack_level  can_infer  fit_order\n",
            "0       WeightedEnsemble_L2   0.921967       1.031116  26.060251                0.009939           2.203469            2       True         14\n",
            "1           LightGBM_BAG_L1   0.900322       0.031546   0.788781                0.031546           0.788781            1       True          4\n",
            "2           CatBoost_BAG_L1   0.899323       0.005555   2.631501                0.005555           2.631501            1       True          7\n",
            "3            XGBoost_BAG_L1   0.899323       0.037676   0.793630                0.037676           0.793630            1       True         11\n",
            "4      LightGBMLarge_BAG_L1   0.892774       0.034059   1.360121                0.034059           1.360121            1       True         13\n",
            "5         LightGBMXT_BAG_L1   0.891775       0.173170   1.136529                0.173170           1.136529            1       True          3\n",
            "6   RandomForestEntr_BAG_L1   0.887557       0.205703   0.534585                0.205703           0.534585            1       True          6\n",
            "7   RandomForestGini_BAG_L1   0.887002       0.204052   0.386727                0.204052           0.386727            1       True          5\n",
            "8     NeuralNetTorch_BAG_L1   0.886225       0.067507  15.891491                0.067507          15.891491            1       True         12\n",
            "9     ExtraTreesGini_BAG_L1   0.881785       0.233411   0.318739                0.233411           0.318739            1       True          8\n",
            "10    ExtraTreesEntr_BAG_L1   0.881341       0.244429   0.322460                0.244429           0.322460            1       True          9\n",
            "11   NeuralNetFastAI_BAG_L1   0.866356       0.129635   8.785419                0.129635           8.785419            1       True         10\n",
            "12    KNeighborsDist_BAG_L1   0.737041       0.008475   0.004331                0.008475           0.004331            1       True          2\n",
            "13    KNeighborsUnif_BAG_L1   0.732490       0.009005   0.006626                0.009005           0.006626            1       True          1"
          ]
        }
      ],
      "source": [
        "predictr.leaderboard()"
      ],
      "id": "3208e8e7-a06a-4925-8c68-b6a658a09e85"
    }
  ],
  "nbformat": 4,
  "nbformat_minor": 5,
  "metadata": {
    "kernelspec": {
      "name": "python3",
      "display_name": "Python 3 (ipykernel)",
      "language": "python"
    },
    "language_info": {
      "name": "python",
      "codemirror_mode": {
        "name": "ipython",
        "version": "3"
      },
      "file_extension": ".py",
      "mimetype": "text/x-python",
      "nbconvert_exporter": "python",
      "pygments_lexer": "ipython3",
      "version": "3.8.18"
    }
  }
}