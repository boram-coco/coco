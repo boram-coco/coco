{
  "cells": [
    {
      "cell_type": "markdown",
      "metadata": {},
      "source": [
        "# **\\[FRAUD\\]** df02 accuracy 0.9707 f1은 망함\n",
        "\n",
        "김보람  \n",
        "2023-09-05"
      ],
      "id": "d3eabce0-7975-47a0-8f8c-de13b54c51c5"
    },
    {
      "cell_type": "code",
      "execution_count": 13,
      "metadata": {},
      "outputs": [],
      "source": [
        "import numpy as np\n",
        "import pandas as pd\n",
        "import matplotlib.pyplot as plt \n",
        "import networkx as nx\n",
        "import sklearn\n",
        "import xgboost as xgb\n",
        "\n",
        "# sklearn\n",
        "from sklearn import model_selection # split함수이용\n",
        "from sklearn import ensemble # RF,GBM\n",
        "from sklearn import metrics\n",
        "from sklearn.metrics import precision_score, recall_score, f1_score\n",
        "from sklearn.svm import SVC\n",
        "from sklearn.ensemble import RandomForestClassifier\n",
        "from sklearn.naive_bayes import GaussianNB\n",
        "\n",
        "# embedding \n",
        "from node2vec import Node2Vec\n",
        "from node2vec.edges import HadamardEmbedder, AverageEmbedder, WeightedL1Embedder, WeightedL2Embedder\n",
        "\n",
        "# gnn\n",
        "import torch\n",
        "import torch_geometric\n",
        "import torch.nn.functional as F\n",
        "from torch_geometric.nn import GCNConv"
      ],
      "id": "e0e9ca09-65f5-441f-adc7-382e93b97960"
    },
    {
      "cell_type": "markdown",
      "metadata": {},
      "source": [
        "`-` fraudTrain"
      ],
      "id": "225e489c-ad68-4301-9948-ded2c5fbdbf4"
    },
    {
      "cell_type": "code",
      "execution_count": 6,
      "metadata": {},
      "outputs": [],
      "source": [
        "fraudTrain = pd.read_csv(\"~/Desktop/fraudTrain.csv\").iloc[:,1:]"
      ],
      "id": "8f7bcc34-1d12-4f8b-908b-ee9a0c7d223a"
    },
    {
      "cell_type": "code",
      "execution_count": 7,
      "metadata": {},
      "outputs": [],
      "source": [
        "fraudTrain = fraudTrain.assign(trans_date_trans_time= list(map(lambda x: pd.to_datetime(x), fraudTrain.trans_date_trans_time)))\n",
        "fraudTrain"
      ],
      "id": "eb7a9b2b-f984-4bb0-b14b-e523a00d8d38"
    },
    {
      "cell_type": "markdown",
      "metadata": {},
      "source": [
        "`-` df02"
      ],
      "id": "92fdfde7-86e1-4d66-84d3-e60d55bd67f6"
    },
    {
      "cell_type": "code",
      "execution_count": 12,
      "metadata": {},
      "outputs": [],
      "source": [
        "_df1 = fraudTrain[fraudTrain[\"is_fraud\"] == 0].sample(frac=0.20, random_state=42)\n",
        "_df2 = fraudTrain[fraudTrain[\"is_fraud\"] == 1]\n",
        "df02 = pd.concat([_df1,_df2])\n",
        "df02 = df02.reset_index()"
      ],
      "id": "adec4c87-7a49-41dd-ba04-879643113486"
    },
    {
      "cell_type": "markdown",
      "metadata": {},
      "source": [
        "`-` df_toy"
      ],
      "id": "b694c763-3091-4793-89c7-fc9d13c662cc"
    },
    {
      "cell_type": "code",
      "execution_count": 13,
      "metadata": {},
      "outputs": [],
      "source": [
        "df_toy=df02[:5].copy()\n",
        "df_toy.cc_num = pd.Series([1,1,1,2,2])\n",
        "df_toy"
      ],
      "id": "32c86926-0749-4955-914b-9b91ce99d0e0"
    },
    {
      "cell_type": "markdown",
      "metadata": {},
      "source": [
        "`-` df_toy 에서 time_difference 구함\n",
        "\n",
        "**고객1**"
      ],
      "id": "83a4b214-fd48-4e83-acca-50366fd90922"
    },
    {
      "cell_type": "code",
      "execution_count": 14,
      "metadata": {},
      "outputs": [],
      "source": [
        "df_toy.iloc[0].trans_date_trans_time.value - df_toy.iloc[1].trans_date_trans_time.value"
      ],
      "id": "d3242e02-faef-4f4d-8c80-f12da58f4076"
    },
    {
      "cell_type": "code",
      "execution_count": 15,
      "metadata": {},
      "outputs": [],
      "source": [
        "df_toy.iloc[0].trans_date_trans_time.value - df_toy.iloc[2].trans_date_trans_time.value"
      ],
      "id": "dad1a45c-c5ba-4edb-ac8f-5e0e6e2de449"
    },
    {
      "cell_type": "code",
      "execution_count": 16,
      "metadata": {},
      "outputs": [],
      "source": [
        "df_toy.iloc[1].trans_date_trans_time.value - df_toy.iloc[2].trans_date_trans_time.value"
      ],
      "id": "01f03d72-82a6-4293-99a2-d40899e93652"
    },
    {
      "cell_type": "markdown",
      "metadata": {},
      "source": [
        "**고객2**"
      ],
      "id": "959b498c-72c7-4f93-bc1f-99fbb3ab9ba5"
    },
    {
      "cell_type": "code",
      "execution_count": 17,
      "metadata": {},
      "outputs": [],
      "source": [
        "df_toy.iloc[3].trans_date_trans_time.value - df_toy.iloc[4].trans_date_trans_time.value"
      ],
      "id": "0606044a-880d-41e9-920f-9c5f8e0a99e9"
    },
    {
      "cell_type": "markdown",
      "metadata": {},
      "source": [
        "**고객1,2**"
      ],
      "id": "acaf269c-6298-4bad-8676-1b4c51e85425"
    },
    {
      "cell_type": "code",
      "execution_count": 18,
      "metadata": {},
      "outputs": [],
      "source": [
        "def compute_time_difference(group):\n",
        "    n = len(group)\n",
        "    result = []\n",
        "    for i in range(n):\n",
        "        for j in range(n):\n",
        "            time_difference = abs(group.iloc[i].trans_date_trans_time.value - group.iloc[j].trans_date_trans_time.value)\n",
        "            result.append([group.iloc[i].name, group.iloc[j].name, time_difference])\n",
        "    return result"
      ],
      "id": "479dd0e2-6b35-4ac8-904e-ac79ab868c40"
    },
    {
      "cell_type": "code",
      "execution_count": 19,
      "metadata": {},
      "outputs": [],
      "source": [
        "groups = df_toy.groupby('cc_num')\n",
        "edge_index_list_plus = [compute_time_difference(group) for _, group in groups]\n",
        "edge_index_list_plus_flat = [item for sublist in edge_index_list_plus for item in sublist]\n",
        "edge_index_list_plus_nparr = np.array(edge_index_list_plus_flat)\n",
        "edge_index_list_plus_nparr"
      ],
      "id": "5081b897-f57f-42f3-97d2-4a48183b8e4a"
    },
    {
      "cell_type": "markdown",
      "metadata": {},
      "source": [
        "`-` df02에서 time_difference 구함"
      ],
      "id": "df3a22e1-5b8f-44e4-8040-781612cc89a8"
    },
    {
      "cell_type": "code",
      "execution_count": 20,
      "metadata": {},
      "outputs": [],
      "source": [
        "# t1 = time.time()\n",
        "# groups = df02.groupby('cc_num')\n",
        "# edge_index_list_plus = [compute_time_difference(group) for _, group in groups]\n",
        "# edge_index_list_plus_flat = [item for sublist in edge_index_list_plus for item in sublist]\n",
        "# edge_index_list_plus_nparr = np.array(edge_index_list_plus_flat)\n",
        "# np.save('edge_index_list_plus02.npy', edge_index_list_plus_nparr)\n",
        "# t2 = time.time()\n",
        "# t2-t1"
      ],
      "id": "4f311ec7-ff33-4d53-a0d2-2085caff2b23"
    },
    {
      "cell_type": "code",
      "execution_count": 162,
      "metadata": {},
      "outputs": [],
      "source": [
        "groups = df02.groupby(\"cc_num\")"
      ],
      "id": "027aeb43-f604-4b0e-9905-22ca430d8c56"
    },
    {
      "cell_type": "code",
      "execution_count": 11,
      "metadata": {},
      "outputs": [],
      "source": [
        "edge_index_list_plus02[:,2] = (np.exp(-edge_index_list_plus02[:,2]/theta) != 1)*(np.exp(-edge_index_list_plus02[:,2]/theta))"
      ],
      "id": "119fb60a-4e14-410d-bcdf-a9028e6e2cbc"
    },
    {
      "cell_type": "code",
      "execution_count": 12,
      "metadata": {},
      "outputs": [],
      "source": [
        "edge_index_list_plus02"
      ],
      "id": "f494e3bb-a7e7-48c8-a2c5-7b9cff7d7ad2"
    },
    {
      "cell_type": "code",
      "execution_count": 9,
      "metadata": {},
      "outputs": [],
      "source": [
        "theta = edge_index_list_plus02[:,2].mean()"
      ],
      "id": "8c54d8b3-c2b5-4131-bd86-647cfab7b6f1"
    },
    {
      "cell_type": "code",
      "execution_count": 48,
      "metadata": {},
      "outputs": [],
      "source": [
        "edge_index_list_plus02 = np.load('edge_index_list_plus02.npy').astype(np.float64)"
      ],
      "id": "fa6edcf9-4d5a-4cb8-bb51-6eed927817ec"
    },
    {
      "cell_type": "code",
      "execution_count": 49,
      "metadata": {},
      "outputs": [],
      "source": [
        "edge_index_list_plus02[:,2] = (np.exp(-edge_index_list_plus02[:,2]/theta) != 1)*(np.exp(-edge_index_list_plus02[:,2]/theta))"
      ],
      "id": "1fc445cf-fe2a-44d2-bbdf-48fea5d03734"
    },
    {
      "cell_type": "code",
      "execution_count": 50,
      "metadata": {},
      "outputs": [],
      "source": [
        "edge_index_list_plus02"
      ],
      "id": "3b5169d0-12ad-471b-8129-5eb5be38d340"
    },
    {
      "cell_type": "markdown",
      "metadata": {},
      "source": [
        "같은 cc_num별로.. 시간 차이를 계산했어."
      ],
      "id": "500402d7-b23f-43f6-b5f7-91debe050680"
    },
    {
      "cell_type": "code",
      "execution_count": 176,
      "metadata": {},
      "outputs": [],
      "source": [
        "weight = (np.exp(-edge_index_list_plus02[:,2]/theta) != 1)*(np.exp(-edge_index_list_plus02[:,2]/theta))"
      ],
      "id": "e9011971-100d-45d8-8df5-1f7f46e28980"
    },
    {
      "cell_type": "code",
      "execution_count": 180,
      "metadata": {},
      "outputs": [],
      "source": [
        "weight"
      ],
      "id": "0db8a395-ba0b-428f-b026-c9bdb1b8dbb9"
    },
    {
      "cell_type": "markdown",
      "metadata": {},
      "source": [
        "자꾸 아래처럼 하면 3열의 값이 다 0나와가지고;; 이상하게 해봄\n",
        "\n",
        "``` python\n",
        "edge_index_list_plus02[:,2] = (np.exp(-edge_index_list_plus02[:,2]/theta) != 1)*(np.exp(-edge_index_list_plus02[:,2]/theta))\n",
        "```"
      ],
      "id": "4d03464c-44ee-4422-83a9-841118bb68bd"
    },
    {
      "cell_type": "code",
      "execution_count": 178,
      "metadata": {},
      "outputs": [],
      "source": [
        "edge_index_list_plus02 = np.column_stack((edge_index_list_plus02, weight))"
      ],
      "id": "741adcc0-a7aa-4a32-8dcd-e347eb9e8ff5"
    },
    {
      "cell_type": "code",
      "execution_count": 179,
      "metadata": {},
      "outputs": [],
      "source": [
        "edge_index_list_plus02"
      ],
      "id": "b7331af8-907b-421b-b3af-a619e175eaca"
    },
    {
      "cell_type": "code",
      "execution_count": 181,
      "metadata": {},
      "outputs": [],
      "source": [
        "edge_index_list_plus02 = np.delete(edge_index_list_plus02, 2, axis=1)"
      ],
      "id": "107caf3f-c59c-4e92-93e3-0925a70b2c91"
    },
    {
      "cell_type": "code",
      "execution_count": 182,
      "metadata": {},
      "outputs": [],
      "source": [
        "edge_index_list_plus02"
      ],
      "id": "f893a1b6-840f-41ca-9475-8ee2072175ed"
    },
    {
      "cell_type": "code",
      "execution_count": 183,
      "metadata": {},
      "outputs": [],
      "source": [
        "edge_index_list_plus02.shape"
      ],
      "id": "419e931b-3a24-4b0d-966c-5a2cce92bf1b"
    },
    {
      "cell_type": "code",
      "execution_count": 184,
      "metadata": {},
      "outputs": [],
      "source": [
        "edge_index_list_updated = edge_index_list_plus02.tolist()"
      ],
      "id": "1f6ceb29-0aaa-4666-a047-fe81d5f7a061"
    },
    {
      "cell_type": "code",
      "execution_count": 186,
      "metadata": {},
      "outputs": [],
      "source": [
        "np.array(edge_index_list_updated)[:,2].mean()"
      ],
      "id": "0fcfa2f7-c524-41ee-9791-57114d1f329c"
    },
    {
      "cell_type": "code",
      "execution_count": 187,
      "metadata": {},
      "outputs": [],
      "source": [
        "mm = np.array(edge_index_list_updated)[:,2].mean()"
      ],
      "id": "65c2330b-bfd0-410e-ba00-b2ff4e295d5a"
    },
    {
      "cell_type": "code",
      "execution_count": 188,
      "metadata": {},
      "outputs": [],
      "source": [
        "selected_edges = [(int(row[0]), int(row[1])) for row in edge_index_list_updated if row[2] > mm]\n",
        "edge_index_selected = torch.tensor(selected_edges, dtype=torch.long).t()\n",
        "edge_index_selected.shape"
      ],
      "id": "1f1554ee-fb10-4321-9e31-0442e510d2a7"
    },
    {
      "cell_type": "markdown",
      "metadata": {},
      "source": [
        "## tr/test"
      ],
      "id": "5d77e55b-ed9d-44c3-a86a-b2ce0fe315e4"
    },
    {
      "cell_type": "code",
      "execution_count": 26,
      "metadata": {},
      "outputs": [],
      "source": [
        "df02_tr,df02_test = sklearn.model_selection.train_test_split(df02, random_state=42)"
      ],
      "id": "6ae1ac14-2922-4baf-a363-df4dabadd701"
    },
    {
      "cell_type": "code",
      "execution_count": 27,
      "metadata": {},
      "outputs": [],
      "source": [
        "df02_tr.shape, df02_test.shape"
      ],
      "id": "73b0e890-d2ed-440d-84c9-d3d2ea4e4452"
    },
    {
      "cell_type": "code",
      "execution_count": 28,
      "metadata": {},
      "outputs": [],
      "source": [
        "N = len(df02)\n",
        "train_mask = [i in df02_tr.index for i in range(N)]\n",
        "test_mask = [i in df02_test.index for i in range(N)]"
      ],
      "id": "0d0d801e-a51d-491e-9279-b2b230701dc1"
    },
    {
      "cell_type": "code",
      "execution_count": 29,
      "metadata": {},
      "outputs": [],
      "source": [
        "train_mask = np.array(train_mask)\n",
        "test_mask = np.array(test_mask)"
      ],
      "id": "e3038bed-06f9-4275-ac32-0f7d3d206b6c"
    },
    {
      "cell_type": "code",
      "execution_count": 31,
      "metadata": {},
      "outputs": [],
      "source": [
        "train_mask.shape, test_mask.shape"
      ],
      "id": "6065f9af-e340-451c-bc1a-46a009990c8a"
    },
    {
      "cell_type": "markdown",
      "metadata": {},
      "source": [
        "## data"
      ],
      "id": "0ec4023f-3c3a-46f0-9036-d53c24ffa9d6"
    },
    {
      "cell_type": "code",
      "execution_count": 192,
      "metadata": {},
      "outputs": [],
      "source": [
        "x = torch.tensor(df02['amt'], dtype=torch.float).reshape(-1,1)\n",
        "y = torch.tensor(df02['is_fraud'],dtype=torch.int64)\n",
        "data = torch_geometric.data.Data(x=x, edge_index = edge_index_selected, y=y, train_mask = train_mask, test_mask = test_mask)"
      ],
      "id": "fba9ec7b-afe1-458c-b4a5-4ee43df73d63"
    },
    {
      "cell_type": "code",
      "execution_count": 193,
      "metadata": {},
      "outputs": [],
      "source": [
        "data"
      ],
      "id": "6d134125-c04c-40aa-a1d9-15f07aaafb72"
    },
    {
      "cell_type": "code",
      "execution_count": 194,
      "metadata": {},
      "outputs": [],
      "source": [
        "\n",
        "class GCN(torch.nn.Module):\n",
        "    def __init__(self):\n",
        "        super().__init__()\n",
        "        self.conv1 = GCNConv(1, 16)\n",
        "        self.conv2 = GCNConv(16,2)\n",
        "\n",
        "    def forward(self, data):\n",
        "        x, edge_index = data.x, data.edge_index\n",
        "\n",
        "        x = self.conv1(x, edge_index)\n",
        "        x = F.relu(x)\n",
        "        x = F.dropout(x, training=self.training)\n",
        "        x = self.conv2(x, edge_index)\n",
        "\n",
        "        return F.log_softmax(x, dim=1)"
      ],
      "id": "212ead65-fba8-45c2-af52-081b163f2dce"
    },
    {
      "cell_type": "code",
      "execution_count": 195,
      "metadata": {},
      "outputs": [],
      "source": [
        "model = GCN()\n",
        "optimizer = torch.optim.Adam(model.parameters(), lr=0.01, weight_decay=5e-4)\n",
        "model.train()\n",
        "for epoch in range(400):\n",
        "    optimizer.zero_grad()\n",
        "    out = model(data)\n",
        "    loss = F.nll_loss(out[data.train_mask], data.y[data.train_mask])\n",
        "    loss.backward()\n",
        "    optimizer.step()"
      ],
      "id": "6f385c77-6434-4517-8409-a3c886dabd35"
    },
    {
      "cell_type": "code",
      "execution_count": 220,
      "metadata": {},
      "outputs": [
        {
          "output_type": "stream",
          "name": "stdout",
          "text": [
            "Accuracy: 0.9707"
          ]
        }
      ],
      "source": [
        "model.eval()\n",
        "pred = model(data).argmax(dim=1)\n",
        "correct = (pred[data.test_mask] == data.y[data.test_mask]).sum()\n",
        "acc = int(correct) / int(np.array(data.test_mask).sum())\n",
        "print(f'Accuracy: {acc:.4f}')"
      ],
      "id": "cffa11f4-4b7b-4ba9-bc95-e27b2e511c59"
    },
    {
      "cell_type": "code",
      "execution_count": 209,
      "metadata": {},
      "outputs": [],
      "source": [
        "predicted_labels = pred[data.test_mask]\n",
        "true_labels = data.y[data.test_mask]"
      ],
      "id": "958f6175-248f-48cd-8442-7ff7ec349632"
    },
    {
      "cell_type": "code",
      "execution_count": 210,
      "metadata": {},
      "outputs": [
        {
          "output_type": "stream",
          "name": "stdout",
          "text": [
            "Precision: 0.4854\n",
            "Recall: 0.5000\n",
            "F1 Score: 0.4926"
          ]
        },
        {
          "output_type": "stream",
          "name": "stderr",
          "text": [
            "/home/coco/anaconda3/envs/py38/lib/python3.8/site-packages/sklearn/metrics/_classification.py:1344: UndefinedMetricWarning: Precision is ill-defined and being set to 0.0 in labels with no predicted samples. Use `zero_division` parameter to control this behavior.\n",
            "  _warn_prf(average, modifier, msg_start, len(result))"
          ]
        }
      ],
      "source": [
        "precision = precision_score(true_labels, predicted_labels, average='macro')\n",
        "recall = recall_score(true_labels, predicted_labels, average='macro')\n",
        "f1 = f1_score(true_labels, predicted_labels, average='macro')\n",
        "print(f'Precision: {precision:.4f}')\n",
        "print(f'Recall: {recall:.4f}')\n",
        "print(f'F1 Score: {f1:.4f}')"
      ],
      "id": "e644cb0e-ded5-49a0-b822-05ce07352ed1"
    }
  ],
  "nbformat": 4,
  "nbformat_minor": 5,
  "metadata": {
    "kernelspec": {
      "name": "python3",
      "display_name": "Python 3 (ipykernel)",
      "language": "python"
    },
    "language_info": {
      "name": "python",
      "codemirror_mode": {
        "name": "ipython",
        "version": "3"
      },
      "file_extension": ".py",
      "mimetype": "text/x-python",
      "nbconvert_exporter": "python",
      "pygments_lexer": "ipython3",
      "version": "3.8.16"
    }
  }
}