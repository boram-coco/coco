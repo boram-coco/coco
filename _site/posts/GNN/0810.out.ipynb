{
  "cells": [
    {
      "cell_type": "markdown",
      "metadata": {},
      "source": [
        "# **\\[FRAUD\\]** 그래프자료로 데이터정리\n",
        "\n",
        "김보람  \n",
        "2023-08-10\n",
        "\n",
        "# imports"
      ],
      "id": "463b468b-8b50-4648-ae1c-e74b3a485c0f"
    },
    {
      "cell_type": "code",
      "execution_count": 2,
      "metadata": {},
      "outputs": [],
      "source": [
        "import numpy as np\n",
        "import pandas as pd\n",
        "import matplotlib.pyplot as plt \n",
        "import networkx as nx\n",
        "import sklearn\n",
        "import torch\n",
        "\n",
        "# sklearn\n",
        "from sklearn import model_selection # split함수이용\n",
        "from sklearn import ensemble # RF,GBM\n",
        "from sklearn import metrics \n",
        "\n",
        "# embedding \n",
        "from node2vec import Node2Vec\n",
        "from node2vec.edges import HadamardEmbedder, AverageEmbedder, WeightedL1Embedder, WeightedL2Embedder"
      ],
      "id": "c36d6b17-9b4c-4aea-b111-133e1afce57e"
    },
    {
      "cell_type": "code",
      "execution_count": 3,
      "metadata": {},
      "outputs": [],
      "source": [
        "def build_graph_bipartite(df_input, graph_type=nx.Graph()):\n",
        "    df=df_input.copy()\n",
        "    mapping={x:node_id for node_id, x in enumerate(set(df[\"cc_num\"].values.tolist()+\\\n",
        "                                                      df[\"merchant\"].values.tolist()))}\n",
        "    \n",
        "    df[\"from\"]=df[\"cc_num\"].apply(lambda x:mapping[x])  #엣지의 출발점\n",
        "    df[\"to\"]=df[\"merchant\"].apply(lambda x:mapping[x])  #엣지의 도착점\n",
        "    \n",
        "    df = df[['from', 'to', \"amt\", \"is_fraud\"]].groupby(['from','to']).agg({\"is_fraud\":\"sum\",\"amt\":\"sum\"}).reset_index()\n",
        "    df[\"is_fraud\"]=df[\"is_fraud\"].apply(lambda x:1 if x>0 else 0)\n",
        "    \n",
        "    G=nx.from_edgelist(df[[\"from\",\"to\"]].values, create_using=graph_type)\n",
        "    \n",
        "    nx.set_edge_attributes(G,{(int(x[\"from\"]),int(x[\"to\"])):x[\"is_fraud\"] for idx, x in df[[\"from\",\"to\",\"is_fraud\"]].iterrows()}, \"label\")  #엣지 속성 설정,각 속성의 사기 여부부     \n",
        "    nx.set_edge_attributes(G,{(int(x[\"from\"]),int(x[\"to\"])):x[\"amt\"] for idx,x in df[[\"from\",\"to\",\"amt\"]].iterrows()}, \"weight\") # 엣지 속성 설정, 각 엣지의 거래 금액\n",
        "\n",
        "    return G\n",
        "\n",
        "\n",
        "def build_graph_tripartite(df_input, graph_type=nx.Graph()):\n",
        "    df=df_input.copy()\n",
        "    mapping={x:node_id for node_id, x in enumerate(set(df.index.values.tolist() + \n",
        "                                                       df[\"cc_num\"].values.tolist() +\n",
        "                                                       df[\"merchant\"].values.tolist()))}\n",
        "    df[\"in_node\"]= df[\"cc_num\"].apply(lambda x: mapping[x])\n",
        "    df[\"out_node\"]=df[\"merchant\"].apply(lambda x:mapping[x])\n",
        "    \n",
        "        \n",
        "    G=nx.from_edgelist([(x[\"in_node\"], mapping[idx]) for idx, x in df.iterrows()] +\\\n",
        "                        [(x[\"out_node\"], mapping[idx]) for idx, x in df.iterrows()], create_using=graph_type)\n",
        "    \n",
        "    nx.set_edge_attributes(G,{(x[\"in_node\"], mapping[idx]):x[\"is_fraud\"] for idx, x in df.iterrows()}, \"label\")     \n",
        "    nx.set_edge_attributes(G,{(x[\"out_node\"], mapping[idx]):x[\"is_fraud\"] for idx, x in df.iterrows()}, \"label\")   \n",
        "    nx.set_edge_attributes(G,{(x[\"in_node\"], mapping[idx]):x[\"amt\"] for idx, x in df.iterrows()}, \"weight\")  \n",
        "    nx.set_edge_attributes(G,{(x[\"out_node\"], mapping[idx]):x[\"amt\"] for idx, x in df.iterrows()}, \"weight\")\n",
        "\n",
        "    return G\n",
        "    \n",
        "    \n",
        "def down_sample_textbook(df):\n",
        "    df_majority = df[df.is_fraud==0].copy()\n",
        "    df_minority = df[df.is_fraud==1].copy()\n",
        "    df_maj_dowsampled = sklearn.utils.resample(df_majority, n_samples=len(df_minority), replace=False, random_state=42)\n",
        "    df_downsampled = pd.concat([df_minority, df_maj_dowsampled])\n",
        "    return df_downsampled\n",
        "\n",
        "def embedding(Graph):\n",
        "    # Graph -> X (feature)\n",
        "    _edgs = list(Graph.edges)\n",
        "    subGraph = Graph.edge_subgraph([_edgs[x] for x in range(len(Graph.edges))]).copy()\n",
        "    subGraph.add_nodes_from(list(set(Graph.nodes) - set(subGraph.nodes)))    \n",
        "    embedded = AverageEmbedder(Node2Vec(subGraph, weight_key='weight').fit(window=10).wv)\n",
        "    X = [embedded[str(_edgs[x][0]), str(_edgs[x][1])] for x in range(len(Graph.edges))]\n",
        "    # Graph -> y (label)\n",
        "    y = np.array(list(nx.get_edge_attributes(Graph, \"label\").values()))\n",
        "    return X,y \n",
        "\n",
        "def anal(df):\n",
        "    Graph = build_graph_bipartite(df)\n",
        "    X,XX,y,yy = embedding(Graph)\n",
        "    lrnr = RandomForestClassifier(n_estimators=100, random_state=42) \n",
        "    lrnr.fit(X,y)\n",
        "    yyhat = lrnr.predict(XX)\n",
        "    df = pd.DataFrame({\n",
        "        'acc':[sklearn.metrics.accuracy_score(yy,yyhat)], \n",
        "        'pre':[sklearn.metrics.precision_score(yy,yyhat)], \n",
        "        'rec':[sklearn.metrics.recall_score(yy,yyhat)],\n",
        "        'f1':[sklearn.metrics.f1_score(yy,yyhat)]}\n",
        "    )    \n",
        "    return df\n",
        "\n",
        "def our_sampling1(df):\n",
        "    cus_list = set(df.query('is_fraud==1').cc_num.tolist())\n",
        "    return df.query(\"cc_num in @ cus_list\")"
      ],
      "id": "2774d96b-b24a-492b-a587-2815ff6e3ead"
    },
    {
      "cell_type": "markdown",
      "metadata": {},
      "source": [
        "`-` 모든엣지를 고려"
      ],
      "id": "94c7c0a1-28f0-4333-977e-5bec0c8bc017"
    },
    {
      "cell_type": "code",
      "execution_count": 19,
      "metadata": {},
      "outputs": [],
      "source": [
        "# N = 10 \n",
        "# edge_index = torch.tensor([[i,j] for i in range(N) for j in range(N)]).T\n",
        "# # edge_attr = 그래프의 웨이트 "
      ],
      "id": "9f3d1be1-60ee-436d-a948-27a3254da476"
    },
    {
      "cell_type": "code",
      "execution_count": 20,
      "metadata": {},
      "outputs": [],
      "source": [
        "# edge_index"
      ],
      "id": "99d85a62-a699-4949-9cd3-b6dc0df90fe6"
    },
    {
      "cell_type": "code",
      "execution_count": 4,
      "metadata": {},
      "outputs": [],
      "source": [
        "fraudTrain = pd.read_csv(\"~/Desktop/fraudTrain.csv\").iloc[:,1:]"
      ],
      "id": "7021dc07-8a06-417b-9fb6-c71b2f05e5eb"
    },
    {
      "cell_type": "code",
      "execution_count": 5,
      "metadata": {},
      "outputs": [],
      "source": [
        "fraudTrain = fraudTrain.assign(trans_date_trans_time= list(map(lambda x: pd.to_datetime(x), fraudTrain.trans_date_trans_time)))\n",
        "fraudTrain"
      ],
      "id": "eb7a9b2b-f984-4bb0-b14b-e523a00d8d38"
    },
    {
      "cell_type": "code",
      "execution_count": 5,
      "metadata": {},
      "outputs": [],
      "source": [
        "# diff = fraudTrain.trans_date_trans_time[101]-fraudTrain.trans_date_trans_time[0]"
      ],
      "id": "cbcddfcc-5807-4d2a-aa9a-630dd85838a5"
    },
    {
      "cell_type": "code",
      "execution_count": 6,
      "metadata": {},
      "outputs": [],
      "source": [
        "# diff"
      ],
      "id": "70034543-3afd-44c5-accd-bc868f5da908"
    },
    {
      "cell_type": "code",
      "execution_count": 93,
      "metadata": {},
      "outputs": [],
      "source": [
        "# diff.total_seconds()"
      ],
      "id": "29ece58c-1ef3-487e-84e6-4cb005cf7dc5"
    },
    {
      "cell_type": "code",
      "execution_count": 55,
      "metadata": {},
      "outputs": [],
      "source": [
        "# theta = 86400*1.2\n",
        "# theta"
      ],
      "id": "db19a1c9-bd90-4766-9b55-62b46134bef6"
    },
    {
      "cell_type": "code",
      "execution_count": 8,
      "metadata": {},
      "outputs": [],
      "source": [
        "# theta = 86400*1.2\n",
        "# np.exp(-diff.total_seconds()/theta)"
      ],
      "id": "9777eb29-ffa1-47ab-b8fe-27ad2170b187"
    },
    {
      "cell_type": "code",
      "execution_count": 13,
      "metadata": {},
      "outputs": [],
      "source": [
        "# !git add .\n",
        "# !git commit -m. \n",
        "# !git push \n",
        "# !quarto publish --no-browser --no-prompt"
      ],
      "id": "39ae6515-12c5-46a0-b0be-e6599adfa13a"
    },
    {
      "cell_type": "markdown",
      "metadata": {},
      "source": [
        "## 해보자"
      ],
      "id": "edf29518-4b4b-4cc5-b20f-ae61f0205055"
    },
    {
      "cell_type": "code",
      "execution_count": 20,
      "metadata": {},
      "outputs": [],
      "source": [
        "fraudTrain = fraudTrain.assign(trans_date_trans_time= list(map(lambda x: pd.to_datetime(x), fraudTrain.trans_date_trans_time)))\n",
        "fraudTrain"
      ],
      "id": "485ede51-0706-4e58-bb23-b73e78388784"
    },
    {
      "cell_type": "code",
      "execution_count": 25,
      "metadata": {},
      "outputs": [],
      "source": [
        "N = len(fraudTrain)\n",
        "N"
      ],
      "id": "ad9c937d-914e-4d4a-85f8-02a7208e3abf"
    },
    {
      "cell_type": "markdown",
      "metadata": {},
      "source": [
        "`-` 시도1"
      ],
      "id": "59a464e3-6fee-4be8-9157-1bd75ac8fcf2"
    },
    {
      "cell_type": "code",
      "execution_count": null,
      "metadata": {},
      "outputs": [],
      "source": [
        "edge_index_list = []\n",
        "for i in range(N):\n",
        "    for j in range(N):\n",
        "        time_difference = (fraudTrain['trans_date_trans_time'][i] - fraudTrain['trans_date_trans_time'][j]).total_seconds()\n",
        "        edge_index_list.append([i, j, time_difference])"
      ],
      "id": "e6df0e96-84f8-469d-a266-61c64fab2570"
    },
    {
      "cell_type": "code",
      "execution_count": null,
      "metadata": {},
      "outputs": [],
      "source": [
        "edge_index = torch.tensor(edge_index_list).T"
      ],
      "id": "e3a01238-31cd-456e-819e-604d740f58b0"
    },
    {
      "cell_type": "markdown",
      "metadata": {},
      "source": [
        "`-` 시도2"
      ],
      "id": "80848f07-758c-481d-9ad9-a8fd0a236ea5"
    },
    {
      "cell_type": "code",
      "execution_count": null,
      "metadata": {},
      "outputs": [],
      "source": [
        "N = len(fraudTrain)\n",
        "edge_index = torch.tensor([[i,j] for i in range(N) for j in range(N)]).T\n",
        "# edge_attr = 그래프의 웨이트 "
      ],
      "id": "6551dc15-2843-4b9f-94e7-951d6d2f0626"
    },
    {
      "cell_type": "markdown",
      "metadata": {},
      "source": [
        "-   너~무 오래걸린다.\n",
        "\n",
        "`-` 시도3\n",
        "\n",
        "-   df02을 이용해서 해보자."
      ],
      "id": "bc85d00b-2ced-4b82-9a0b-7f933a70366e"
    },
    {
      "cell_type": "code",
      "execution_count": 24,
      "metadata": {},
      "outputs": [],
      "source": [
        "_df1 = fraudTrain[fraudTrain[\"is_fraud\"] == 0].sample(frac=0.20, random_state=42)\n",
        "_df2 = fraudTrain[fraudTrain[\"is_fraud\"] == 1]\n",
        "df02 = pd.concat([_df1,_df2])\n",
        "df02.shape"
      ],
      "id": "adec4c87-7a49-41dd-ba04-879643113486"
    },
    {
      "cell_type": "code",
      "execution_count": 12,
      "metadata": {},
      "outputs": [],
      "source": [
        "214520*214520"
      ],
      "id": "7e57bd74-f016-4aa7-a3b4-769caa2483cc"
    },
    {
      "cell_type": "code",
      "execution_count": 16,
      "metadata": {},
      "outputs": [],
      "source": [
        "# N = len(df02)\n",
        "# edge_index = torch.tensor([[i,j] for i in range(N) for j in range(N)]).T"
      ],
      "id": "edd53275-b1d2-474d-97b1-d980c4630dd3"
    },
    {
      "cell_type": "markdown",
      "metadata": {},
      "source": [
        "`-` 시도4: df50"
      ],
      "id": "d4e60030-0cbc-4f3e-9c18-c8484013d718"
    },
    {
      "cell_type": "code",
      "execution_count": 25,
      "metadata": {},
      "outputs": [],
      "source": [
        "df50 = down_sample_textbook(df02)\n",
        "df50.shape"
      ],
      "id": "b1eab03c-9ee2-45e1-95a5-923642e8ce6f"
    },
    {
      "cell_type": "code",
      "execution_count": 26,
      "metadata": {},
      "outputs": [],
      "source": [
        "12012*12012"
      ],
      "id": "0d8983c1-b6c2-4331-9adf-14d799fb8460"
    },
    {
      "cell_type": "code",
      "execution_count": 27,
      "metadata": {},
      "outputs": [],
      "source": [
        "df50 = df50.reset_index()"
      ],
      "id": "4f3c12b1-433f-41ac-85c0-c42ae389ba60"
    },
    {
      "cell_type": "code",
      "execution_count": 28,
      "metadata": {},
      "outputs": [],
      "source": [
        "df50_tr,df50_test = sklearn.model_selection.train_test_split(df50, random_state=42)"
      ],
      "id": "e181f302-3ddb-4fe1-9e7b-3298617a3f34"
    },
    {
      "cell_type": "code",
      "execution_count": 74,
      "metadata": {},
      "outputs": [],
      "source": [
        "df50_tr.is_fraud.mean().round(5), df50_test.is_fraud.mean().round(5)"
      ],
      "id": "3834d100-e0d5-4f6e-a459-249fb4454b18"
    },
    {
      "cell_type": "code",
      "execution_count": 77,
      "metadata": {},
      "outputs": [],
      "source": [
        "df50_tr.shape, df50_test.shape"
      ],
      "id": "4fa01551-1ec3-44b7-8d00-76aed0ff21f6"
    },
    {
      "cell_type": "code",
      "execution_count": 29,
      "metadata": {},
      "outputs": [],
      "source": [
        "N = len(df50_tr)\n",
        "edge_index = torch.tensor([[i,j] for i in range(N) for j in range(N)]).T\n",
        "edge_index"
      ],
      "id": "f684a722-b0c9-4ec0-b5e6-4c3a0b11e20f"
    },
    {
      "cell_type": "code",
      "execution_count": 30,
      "metadata": {},
      "outputs": [],
      "source": [
        "df50_tr = df50_tr.reset_index()"
      ],
      "id": "d8a1fc2c-1de3-4a36-b0b9-8eae2dd29c48"
    },
    {
      "cell_type": "code",
      "execution_count": 31,
      "metadata": {},
      "outputs": [],
      "source": [
        "edge_index_list = []\n",
        "for i in range(N):\n",
        "    for j in range(N):\n",
        "        time_difference = (df50_tr['trans_date_trans_time'][i] - df50_tr['trans_date_trans_time'][j]).total_seconds()\n",
        "        edge_index_list.append([i, j, time_difference])"
      ],
      "id": "993f6531-37c2-4be2-8eab-cd3481e3b780"
    },
    {
      "cell_type": "code",
      "execution_count": 32,
      "metadata": {},
      "outputs": [],
      "source": [
        "edge_index = np.array(edge_index_list)"
      ],
      "id": "3241c7c3-f884-41c2-b6f7-ceabf5ec2db4"
    },
    {
      "cell_type": "code",
      "execution_count": 33,
      "metadata": {},
      "outputs": [],
      "source": [
        "edge_index.shape"
      ],
      "id": "0d9fbf10-bd2a-4f20-b81e-72d3883583f5"
    },
    {
      "cell_type": "code",
      "execution_count": 34,
      "metadata": {},
      "outputs": [],
      "source": [
        "edge_index[:,2] = np.abs(edge_index[:,2])"
      ],
      "id": "fb850e8c-c5cc-4448-9bee-90cfed6b7fce"
    },
    {
      "cell_type": "code",
      "execution_count": 35,
      "metadata": {},
      "outputs": [],
      "source": [
        "theta = edge_index[:,2].mean()\n",
        "theta"
      ],
      "id": "b697e389-0761-4a18-8fde-b316275cb31c"
    },
    {
      "cell_type": "code",
      "execution_count": 36,
      "metadata": {},
      "outputs": [],
      "source": [
        "edge_index[:,2] = (np.exp(-edge_index[:,2]/theta)!=1) * np.exp(-edge_index[:,2]/theta)"
      ],
      "id": "041de342-6e42-4147-82e5-db6f26977a73"
    },
    {
      "cell_type": "code",
      "execution_count": 37,
      "metadata": {},
      "outputs": [],
      "source": [
        "edge_index"
      ],
      "id": "55ef9411-1e70-4551-a3d1-841810c24a28"
    },
    {
      "cell_type": "code",
      "execution_count": 159,
      "metadata": {},
      "outputs": [],
      "source": [
        "eee = edge_index[:,:]"
      ],
      "id": "d3a56010-e4fb-4d0c-9946-c76bf7f50afd"
    },
    {
      "cell_type": "code",
      "execution_count": 161,
      "metadata": {},
      "outputs": [],
      "source": [
        "eee[:,1]"
      ],
      "id": "8a5885b9-b2c7-4352-b288-3658a605d8dc"
    },
    {
      "cell_type": "code",
      "execution_count": 38,
      "metadata": {},
      "outputs": [],
      "source": [
        "edge_index_list_updated = edge_index.tolist()"
      ],
      "id": "6a8bcc96-6de0-4a6a-abba-7862a1271a58"
    },
    {
      "cell_type": "code",
      "execution_count": 39,
      "metadata": {},
      "outputs": [],
      "source": [
        "edge_index_list_updated[:5]"
      ],
      "id": "e6f4bcd2-97e8-4cbf-bddc-8f9f4125960e"
    },
    {
      "cell_type": "code",
      "execution_count": 53,
      "metadata": {},
      "outputs": [],
      "source": [
        "df50_tr"
      ],
      "id": "48bc7895-b670-4431-84bd-598535616183"
    },
    {
      "cell_type": "markdown",
      "metadata": {},
      "source": [
        "-   cc_num로 그룹별로 묶자."
      ],
      "id": "8f2e0a2c-ddc4-4b27-8193-0414499a6ea9"
    },
    {
      "cell_type": "code",
      "execution_count": 88,
      "metadata": {},
      "outputs": [],
      "source": [
        "df50_tr[df50_tr['cc_num']==3.543590e+15]"
      ],
      "id": "75db8478-214f-4c7b-b524-396ceccd146c"
    },
    {
      "cell_type": "code",
      "execution_count": 43,
      "metadata": {},
      "outputs": [],
      "source": [
        "df50_grouped=df50_tr.groupby(by='cc_num')"
      ],
      "id": "3b44a232-8aed-4dea-b59c-44440a3e1e11"
    },
    {
      "cell_type": "code",
      "execution_count": 89,
      "metadata": {},
      "outputs": [],
      "source": [
        "edge_index_list = []\n",
        "for i in range(N):\n",
        "    for j in range(N):\n",
        "        if df50_tr['cc_num'][i] != df50_tr['cc_num'][j]:  # cc_num 값이 같다면\n",
        "            time_difference = 0\n",
        "        else:\n",
        "            time_difference = (df50_tr['trans_date_trans_time'][i] - df50_tr['trans_date_trans_time'][j]).total_seconds()\n",
        "        edge_index_list.append([i, j, time_difference])\n"
      ],
      "id": "2c388201-0cc7-4627-8c7a-086ca0c7cb8c"
    },
    {
      "cell_type": "code",
      "execution_count": 105,
      "metadata": {},
      "outputs": [],
      "source": [
        "edge_index = np.array(edge_index_list)"
      ],
      "id": "3e030499-3306-4a6b-ae9b-6f143adbf2f2"
    },
    {
      "cell_type": "code",
      "execution_count": 106,
      "metadata": {},
      "outputs": [],
      "source": [
        "edge_index.shape"
      ],
      "id": "c8fa09d1-0195-4545-9045-d4793bd13232"
    },
    {
      "cell_type": "code",
      "execution_count": 107,
      "metadata": {},
      "outputs": [],
      "source": [
        "edge_index"
      ],
      "id": "e580e97f-74e4-4283-b3fd-96d9f76ec569"
    },
    {
      "cell_type": "code",
      "execution_count": 108,
      "metadata": {},
      "outputs": [],
      "source": [
        "edge_index[:,2] = np.abs(edge_index[:,2])"
      ],
      "id": "f0e843e1-6631-47e6-b336-0a2929b45c72"
    },
    {
      "cell_type": "code",
      "execution_count": 109,
      "metadata": {},
      "outputs": [],
      "source": [
        "theta = edge_index[:,2].mean()\n",
        "theta"
      ],
      "id": "710d65ef-adac-4519-be26-c155cf3bb1b5"
    },
    {
      "cell_type": "code",
      "execution_count": 110,
      "metadata": {},
      "outputs": [],
      "source": [
        "edge_index"
      ],
      "id": "e9c57e46-f1c7-4ea3-ad8b-4c022ef6cbc8"
    },
    {
      "cell_type": "code",
      "execution_count": 111,
      "metadata": {},
      "outputs": [],
      "source": [
        "edge_index[:,2] = (np.exp(-edge_index[:,2]/theta)!=1) * np.exp(-edge_index[:,2]/theta)"
      ],
      "id": "74e5c3d5-2ce5-4d4c-90bb-065f5ecfa73e"
    },
    {
      "cell_type": "code",
      "execution_count": 112,
      "metadata": {},
      "outputs": [],
      "source": [
        "edge_index"
      ],
      "id": "e3dc891e-744f-4377-b7a9-9cf57422e34b"
    },
    {
      "cell_type": "code",
      "execution_count": 113,
      "metadata": {},
      "outputs": [],
      "source": [
        "edge_index_list_updated = edge_index.tolist()"
      ],
      "id": "98d41435-adba-451e-afb8-22f90266b0b4"
    },
    {
      "cell_type": "code",
      "execution_count": 190,
      "metadata": {},
      "outputs": [],
      "source": [
        "np.array(edge_index_list_updated)[:,2].mean()"
      ],
      "id": "57fa2122-0cfe-42c5-864c-abb6dfadffc4"
    },
    {
      "cell_type": "code",
      "execution_count": 192,
      "metadata": {},
      "outputs": [],
      "source": [
        "mm = np.array(edge_index_list_updated)[:,2].mean()"
      ],
      "id": "b9dfb42f-5095-4caa-92ba-8043028893ab"
    },
    {
      "cell_type": "markdown",
      "metadata": {},
      "source": [
        "edge_index_list_updated가 w"
      ],
      "id": "4ac54d6d-3d0d-4f26-bca6-ffb78fd3640e"
    },
    {
      "cell_type": "code",
      "execution_count": 193,
      "metadata": {},
      "outputs": [],
      "source": [
        "selected_edges = [(int(row[0]), int(row[1])) for row in edge_index_list_updated if row[2] > mm]"
      ],
      "id": "afaa3794-c769-4869-9e7a-0dcdff9e5f0c"
    },
    {
      "cell_type": "code",
      "execution_count": 194,
      "metadata": {},
      "outputs": [],
      "source": [
        "edge_index_selected = torch.tensor(selected_edges, dtype=torch.long).t()"
      ],
      "id": "b6dad5d8-aecf-4395-87e0-253da5b8173e"
    },
    {
      "cell_type": "code",
      "execution_count": 197,
      "metadata": {},
      "outputs": [],
      "source": [
        "edge_index_selected.shape"
      ],
      "id": "be2be660-58d4-4347-86f3-8ac70453ae3b"
    },
    {
      "cell_type": "code",
      "execution_count": 119,
      "metadata": {},
      "outputs": [],
      "source": [
        "x = df50_tr['amt']"
      ],
      "id": "88504d40-8829-4b6f-93ed-e5bebbf8e508"
    },
    {
      "cell_type": "code",
      "execution_count": 129,
      "metadata": {},
      "outputs": [],
      "source": [
        "x"
      ],
      "id": "ca3ed5ac-7593-471d-b920-c8459a3a3c4f"
    },
    {
      "cell_type": "code",
      "execution_count": 130,
      "metadata": {},
      "outputs": [],
      "source": [
        "a = torch.tensor(x, dtype=torch.float)"
      ],
      "id": "7a8d5ba3-9e58-4896-8ce2-62352b1b9175"
    },
    {
      "cell_type": "code",
      "execution_count": 137,
      "metadata": {},
      "outputs": [],
      "source": [
        "a = a.reshape(-1,1)\n",
        "a"
      ],
      "id": "b343eda7-3c52-4db9-9f51-131869d81378"
    },
    {
      "cell_type": "code",
      "execution_count": 162,
      "metadata": {},
      "outputs": [],
      "source": [
        "y = df50_tr['is_fraud']"
      ],
      "id": "f2d16b59-91b5-4208-af59-6c7d017ab922"
    },
    {
      "cell_type": "code",
      "execution_count": 163,
      "metadata": {},
      "outputs": [],
      "source": [
        "b = torch.tensor(y,dtype=torch.int64)"
      ],
      "id": "da3d4c18-b449-4720-befe-e2ed89e1300e"
    },
    {
      "cell_type": "code",
      "execution_count": 164,
      "metadata": {},
      "outputs": [],
      "source": [
        "b"
      ],
      "id": "8866eb60-6989-46e0-9be9-16b1f3961c44"
    },
    {
      "cell_type": "code",
      "execution_count": 142,
      "metadata": {},
      "outputs": [],
      "source": [
        "import torch_geometric"
      ],
      "id": "1bd32099-d17d-4f16-ad61-8c8d79def338"
    },
    {
      "cell_type": "code",
      "execution_count": 198,
      "metadata": {},
      "outputs": [],
      "source": [
        "data = torch_geometric.data.Data(x=a, edge_index = edge_index_selected, y=b)"
      ],
      "id": "5e204f74-b36f-4029-b15d-124dc2d18e24"
    },
    {
      "cell_type": "code",
      "execution_count": 199,
      "metadata": {},
      "outputs": [],
      "source": [
        "data"
      ],
      "id": "1ba154a6-c153-498a-8d49-f8be662eb34f"
    },
    {
      "cell_type": "markdown",
      "metadata": {},
      "source": [
        "-   예시처럼 edge_index 하려햇ㄴ는뎅.. 흠..\n",
        "\n",
        "`-` pyg lesson6"
      ],
      "id": "1d86735a-c7e6-466b-8582-5b810981d138"
    },
    {
      "cell_type": "code",
      "execution_count": 200,
      "metadata": {},
      "outputs": [],
      "source": [
        "gconv = torch_geometric.nn.GCNConv(1,4)\n",
        "gconv"
      ],
      "id": "ac0dea74-18f7-4de9-a077-9796147193ac"
    },
    {
      "cell_type": "code",
      "execution_count": 201,
      "metadata": {},
      "outputs": [],
      "source": [
        "gconv(data.x, data.edge_index)"
      ],
      "id": "8f270790-9bbc-4c52-92ac-5f2ed7ec50bc"
    },
    {
      "cell_type": "code",
      "execution_count": 202,
      "metadata": {},
      "outputs": [],
      "source": [
        "list(gconv.parameters())"
      ],
      "id": "da14fa5d-4ac4-4e7e-9159-a8355a876750"
    },
    {
      "cell_type": "code",
      "execution_count": 203,
      "metadata": {},
      "outputs": [],
      "source": [
        "_,W = list(gconv.parameters())\n",
        "W"
      ],
      "id": "47ff23f8-125c-4a6d-abbf-7d176cdbaa89"
    },
    {
      "cell_type": "markdown",
      "metadata": {},
      "source": [
        "`-` pyg lesson5"
      ],
      "id": "3494076c-7ac3-4a35-be17-386f49679605"
    },
    {
      "cell_type": "code",
      "execution_count": 204,
      "metadata": {},
      "outputs": [],
      "source": [
        "import torch\n",
        "import torch.nn.functional as F\n",
        "from torch_geometric.nn import GCNConv\n",
        "\n",
        "class GCN(torch.nn.Module):\n",
        "    def __init__(self):\n",
        "        super().__init__()\n",
        "        self.conv1 = GCNConv(9009, 16)\n",
        "        self.conv2 = GCNConv(16,2)\n",
        "\n",
        "    def forward(self, data):\n",
        "        x, edge_index = data.x, data.edge_index\n",
        "\n",
        "        x = self.conv1(x, edge_index)\n",
        "        x = F.relu(x)\n",
        "        x = F.dropout(x, training=self.training)\n",
        "        x = self.conv2(x, edge_index)\n",
        "\n",
        "        return F.log_softmax(x, dim=1)"
      ],
      "id": "b471cf53-70de-41a9-a26f-cfc148ae311f"
    },
    {
      "cell_type": "code",
      "execution_count": 205,
      "metadata": {},
      "outputs": [],
      "source": [
        "model = GCN()"
      ],
      "id": "8adecd9c-d973-44af-b151-db488c47c9c8"
    },
    {
      "cell_type": "code",
      "execution_count": 206,
      "metadata": {},
      "outputs": [],
      "source": [
        "model"
      ],
      "id": "171d091b-03a3-420b-851a-209001030dbd"
    },
    {
      "cell_type": "code",
      "execution_count": 210,
      "metadata": {},
      "outputs": [],
      "source": [
        "optimizer = torch.optim.Adam(model.parameters(), lr=0.01, weight_decay=5e-4)\n",
        "model.train()"
      ],
      "id": "5550ba8c-ab9a-4a4f-ac36-eeaf423439ff"
    },
    {
      "cell_type": "code",
      "execution_count": 209,
      "metadata": {},
      "outputs": [],
      "source": [
        "for epoch in range(200):\n",
        "    optimizer.zero_grad()\n",
        "    out = model(data)\n",
        "    loss = F.nll_loss(data.x, data.y)\n",
        "    loss.backward()\n",
        "    optimizer.step()"
      ],
      "id": "75e9e922-27dc-4197-b09a-b35a93d0679e"
    },
    {
      "cell_type": "markdown",
      "metadata": {},
      "source": [
        "-   df50_test"
      ],
      "id": "1fc8dd6e-3b8b-498d-a77c-6afdd2268e30"
    },
    {
      "cell_type": "code",
      "execution_count": 1,
      "metadata": {},
      "outputs": [],
      "source": [
        "df50_test "
      ],
      "id": "fe0af394-ed93-4211-8211-1b4357e4962e"
    },
    {
      "cell_type": "code",
      "execution_count": 216,
      "metadata": {},
      "outputs": [],
      "source": [
        "data"
      ],
      "id": "2a226dbc-fe26-4a4f-bc0b-29d71a9cb8fb"
    },
    {
      "cell_type": "markdown",
      "metadata": {},
      "source": [
        "`x=[9009, 1]` : 9009개의 거래량이 있다. 특징은 걍.. 거래량 하나? \\<-\n",
        "거래자체에 대한 특징을 더 추가해도 좋을듯.. 흠.\n",
        "\n",
        "`edge_index=[2, 28472]`: 거래끼리의 edge값은 28472.. 일단 고객id가 같지\n",
        "않으면 엣지값0으로 하고.."
      ],
      "id": "8442cbf1-9f59-422e-b9d1-01be68baf246"
    },
    {
      "cell_type": "code",
      "execution_count": 220,
      "metadata": {},
      "outputs": [],
      "source": [
        "data.train_mask"
      ],
      "id": "f618f811-7d85-4023-a917-5465e6fed830"
    }
  ],
  "nbformat": 4,
  "nbformat_minor": 5,
  "metadata": {
    "kernelspec": {
      "name": "python3",
      "display_name": "Python 3 (ipykernel)",
      "language": "python"
    },
    "language_info": {
      "name": "python",
      "codemirror_mode": {
        "name": "ipython",
        "version": "3"
      },
      "file_extension": ".py",
      "mimetype": "text/x-python",
      "nbconvert_exporter": "python",
      "pygments_lexer": "ipython3",
      "version": "3.8.16"
    }
  }
}