{
  "cells": [
    {
      "cell_type": "markdown",
      "metadata": {},
      "source": [
        "# **\\[PyG\\]** lesson1: 자료형, 데이터셋\n",
        "\n",
        "신록예찬  \n",
        "2023-07-10"
      ],
      "id": "0ecfba92-b63e-40fd-8864-ab6886a215be"
    },
    {
      "cell_type": "code",
      "execution_count": 17,
      "metadata": {},
      "outputs": [],
      "source": [
        "# pip install --upgrade torch\n"
      ],
      "id": "2a8986a8-899c-438c-b865-18ea6152f2e4"
    },
    {
      "cell_type": "code",
      "execution_count": 1,
      "metadata": {},
      "outputs": [],
      "source": [
        "import torch\n",
        "import torch_geometric"
      ],
      "id": "cd18e877-2065-4b76-961b-e4a1cb083d83"
    },
    {
      "cell_type": "markdown",
      "metadata": {},
      "source": [
        "# PyG 의 Data 자료형\n",
        "\n",
        "> ref:\n",
        "> <https://pytorch-geometric.readthedocs.io/en/latest/notes/introduction.html#data-handling-of-graphs>\n",
        "\n",
        "`-` 자료는 [PyG의 Data\n",
        "오브젝트](https://pytorch-geometric.readthedocs.io/en/latest/notes/introduction.html#data-handling-of-graphs)를\n",
        "기반으로 한다.\n",
        "\n",
        "##### **예제1**: 아래와 같은 그래프자료를 고려하자.\n",
        "\n",
        "![](https://pytorch-geometric.readthedocs.io/en/latest/_images/graph.svg)\n",
        "\n",
        "`-` 이러한 자료형은 아래와 같은 형식으로 저장한다."
      ],
      "id": "8d3e71e1-ad6a-4366-9172-8034bf7d4c10"
    },
    {
      "cell_type": "code",
      "execution_count": 5,
      "metadata": {},
      "outputs": [],
      "source": [
        "edge_index = torch.tensor([[0, 1, 1, 2],\n",
        "                           [1, 0, 2, 1]], dtype=torch.long)\n",
        "x = torch.tensor([[-1], [0], [1]], dtype=torch.float)\n",
        "data = torch_geometric.data.Data(x=x, edge_index=edge_index) # torch_geometric.data.Data는 그래프자료형을 만드는 클래스"
      ],
      "id": "27ade98b-01dd-4808-ae61-c51afcf06863"
    },
    {
      "cell_type": "markdown",
      "metadata": {},
      "source": [
        "> <span style=\"color:blue\"> edge_index의 위가 출발점, 아래가 도착점.\n",
        "> obs들의 연결성을 의미함.\n",
        "\n",
        "> <span style=\"color:blue\"> indegree는 받는거의 화살표만 찾으면 된다.\n",
        "> out-degree는 나가는 거의 화살표 ~\n",
        "\n",
        "`-` data 의 자료형"
      ],
      "id": "2b7fdefe-bd14-45d3-ba91-64129ff38d3b"
    },
    {
      "cell_type": "code",
      "execution_count": 6,
      "metadata": {},
      "outputs": [],
      "source": [
        "type(data)"
      ],
      "id": "a671b4e0-8f7c-4106-afa9-a0e4784ab3ea"
    },
    {
      "cell_type": "markdown",
      "metadata": {},
      "source": [
        "`-` data의 `__str__`"
      ],
      "id": "91470787-8d5b-407e-92a3-67ba99c4fc2c"
    },
    {
      "cell_type": "code",
      "execution_count": 83,
      "metadata": {},
      "outputs": [],
      "source": [
        "data"
      ],
      "id": "3751985b-9c7a-482b-8760-5e58559b6c84"
    },
    {
      "cell_type": "markdown",
      "metadata": {},
      "source": [
        "-   `x=[3, 1]`: 이 자료는 3개의 노드가 있으며, 각 노드에는 1개의\n",
        "    feature가 있음\n",
        "-   `edge_index=[2, 4]`: ${\\cal E}$는 총 4개의 원소가 있음.\n",
        "\n",
        "`-` 각 노드의 feature를 확인하는 방법 (즉\n",
        "$f:{\\cal V} \\to \\mathbb{R}^k$를 확인하는 방법)"
      ],
      "id": "ba2e5b58-ec3e-40e1-9d9a-6da6c0edaa2b"
    },
    {
      "cell_type": "code",
      "execution_count": 46,
      "metadata": {},
      "outputs": [],
      "source": [
        "data.x"
      ],
      "id": "b4955ade-1059-43a8-9841-a0f2a46b0d93"
    },
    {
      "cell_type": "markdown",
      "metadata": {},
      "source": [
        "`-` ${\\cal E}$를 확인하는 방법"
      ],
      "id": "a18bb768-d494-4d75-ad41-846fd7219b06"
    },
    {
      "cell_type": "code",
      "execution_count": 47,
      "metadata": {},
      "outputs": [],
      "source": [
        "data.edge_index"
      ],
      "id": "c8964557-b9ca-4002-8221-f6ae80fdb05c"
    },
    {
      "cell_type": "markdown",
      "metadata": {},
      "source": [
        "`-`"
      ],
      "id": "5e199140-697c-4706-9222-6c323523c0c7"
    },
    {
      "cell_type": "code",
      "execution_count": 86,
      "metadata": {},
      "outputs": [],
      "source": [
        "len(data)"
      ],
      "id": "8a195534-117d-4714-a2db-1151cfa190b4"
    },
    {
      "cell_type": "markdown",
      "metadata": {},
      "source": [
        "##### **예제2**: 잘못된 사용\n",
        "\n",
        "`-` `edge_index`는 예제1과 같이 $[2,|{\\cal E}|]$ 의 shape으로 넣어야\n",
        "한다. 그렇지 않으면 에러가 난다."
      ],
      "id": "d95fca0d-6bee-4689-b0ef-7502c47cd698"
    },
    {
      "cell_type": "code",
      "execution_count": 7,
      "metadata": {},
      "outputs": [],
      "source": [
        "edge_index = torch.tensor([[0, 1],\n",
        "                           [1, 0],\n",
        "                           [1, 2],\n",
        "                           [2, 1]], dtype=torch.long)\n",
        "x = torch.tensor([[-1], [0], [1]], dtype=torch.float)\n",
        "\n",
        "data = torch_geometric.data.Data(x=x, edge_index=edge_index)"
      ],
      "id": "0278aff0-9ff6-4243-92ab-a86be0d189c6"
    },
    {
      "cell_type": "code",
      "execution_count": 8,
      "metadata": {},
      "outputs": [],
      "source": [
        "#data.validate(raise_on_error=True)\n",
        "data.validate()"
      ],
      "id": "e211094b-148a-4f1f-bc96-ea870cc3ad84"
    },
    {
      "cell_type": "markdown",
      "metadata": {},
      "source": [
        "##### **예제3**: 예제2의 수정\n",
        "\n",
        "`-` `edge_index`의 shape이 $[|{\\cal E}|,2]$ 꼴로 저장되어 있었을 경우\n",
        "트랜스포즈이후 countiguous()함수를 사용하면 된다.[1]\n",
        "\n",
        "[1] 그런데 그냥 transpose만 해도되는것 같음"
      ],
      "id": "d6d752b8-af5f-47ac-ad4c-c4f052bbb605"
    },
    {
      "cell_type": "code",
      "execution_count": 9,
      "metadata": {},
      "outputs": [],
      "source": [
        "edge_index = torch.tensor([[0, 1],\n",
        "                           [1, 0],\n",
        "                           [1, 2],\n",
        "                           [2, 1]], dtype=torch.long)\n",
        "x = torch.tensor([[-1], [0], [1]], dtype=torch.float)\n",
        "\n",
        "data = torch_geometric.data.Data(\n",
        "    x=x, \n",
        "    edge_index=edge_index.t().contiguous()\n",
        ")"
      ],
      "id": "0d524691-1adf-498e-b01b-d954ee1dece3"
    },
    {
      "cell_type": "code",
      "execution_count": 10,
      "metadata": {},
      "outputs": [],
      "source": [
        "#data.validate(raise_on_error=True)\n",
        "data.validate()"
      ],
      "id": "13b76fed-bdb4-435a-a287-664b9d8078fc"
    },
    {
      "cell_type": "markdown",
      "metadata": {},
      "source": [
        "# 벤치마크 데이터셋\n",
        "\n",
        "`-` 데이터셋은 아래의 모듈안에 정리되어 있음"
      ],
      "id": "1403857d-a1b5-47dc-9f7f-0132a6afc216"
    },
    {
      "cell_type": "code",
      "execution_count": 55,
      "metadata": {},
      "outputs": [],
      "source": [
        "dir(torch_geometric.datasets)[:5]"
      ],
      "id": "c723c175-93b2-49a3-996f-ec7b31db11a7"
    },
    {
      "cell_type": "markdown",
      "metadata": {},
      "source": [
        "##### **데이터셋1**: TUDataset\n",
        "\n",
        "`-` 다운로드"
      ],
      "id": "bfeddc70-a69d-483d-be1d-a7361d4726d8"
    },
    {
      "cell_type": "code",
      "execution_count": 57,
      "metadata": {},
      "outputs": [
        {
          "output_type": "stream",
          "name": "stderr",
          "text": [
            "Downloading https://www.chrsmrrs.com/graphkerneldatasets/ENZYMES.zip\n",
            "Extracting /tmp/ENZYMES/ENZYMES/ENZYMES.zip\n",
            "Processing...\n",
            "Done!"
          ]
        }
      ],
      "source": [
        "dataset = torch_geometric.datasets.TUDataset(root='/tmp/ENZYMES', name='ENZYMES')"
      ],
      "id": "8e3bce3b-0fd9-4e14-8824-2005855f91f1"
    },
    {
      "cell_type": "code",
      "execution_count": 73,
      "metadata": {},
      "outputs": [
        {
          "output_type": "stream",
          "name": "stdout",
          "text": [
            "ENZYMES\n",
            "quarto-sessiond5b3ef79\n",
            "snap-private-tmp\n",
            "systemd-private-4f024f2d80b94518847be2e97856b876-ModemManager.service-1Qybgi\n",
            "systemd-private-4f024f2d80b94518847be2e97856b876-colord.service-mq8m9i\n",
            "systemd-private-4f024f2d80b94518847be2e97856b876-switcheroo-control.service-Rmqqbh\n",
            "systemd-private-4f024f2d80b94518847be2e97856b876-systemd-logind.service-yAqcVf\n",
            "systemd-private-4f024f2d80b94518847be2e97856b876-systemd-resolved.service-Zl6rij\n",
            "systemd-private-4f024f2d80b94518847be2e97856b876-systemd-timesyncd.service-VuyXbh\n",
            "systemd-private-4f024f2d80b94518847be2e97856b876-upower.service-LtEUgj\n",
            "tracker-extract-files.1000\n",
            "tracker-extract-files.125"
          ]
        }
      ],
      "source": [
        "!ls /tmp"
      ],
      "id": "926f18a8-1d68-464d-b7f3-8dc674f8a9c0"
    },
    {
      "cell_type": "markdown",
      "metadata": {},
      "source": [
        "-   `/tmp` 에 다운로드되어있음\n",
        "\n",
        "`-` 기본정보: ENZYMES dataset\n",
        "\n",
        "> (ChatGPT) ENZYMES는 그래프 분류를 위한 벤치마크 데이터셋 중\n",
        "> 하나입니다. 이 데이터셋은 600개의 그래프로 구성되어 있으며, 6개의\n",
        "> 클래스로 분류됩니다. 각 그래프는 효소(enzyme) 분자의 구조를 나타내며,\n",
        "> 그래프의 노드는 원자(atom)를 나타내고, 엣지(edge)는 원자 간의 연결을\n",
        "> 나타냅니다. ENZYMES 데이터셋은 화학 및 생물 정보학 분야에서 그래프\n",
        "> 분류 알고리즘의 성능을 평가하기 위해 사용될 수 있습니다. 그래프 분류\n",
        "> 알고리즘은 주어진 그래프를 특정 클래스 레이블로 분류하는 작업을\n",
        "> 수행하는데 사용됩니다. 예를 들어, ENZYMES 데이터셋의 그래프는 특정\n",
        "> 효소 종류를 나타내며, 그래프 분류 알고리즘은 주어진 효소 그래프가 어떤\n",
        "> 종류의 효소인지 예측할 수 있습니다. PyG를 사용하여 ENZYMES 데이터셋을\n",
        "> 초기화하면 해당 데이터셋을 다운로드하고 필요한 전처리를 자동으로\n",
        "> 수행할 수 있습니다. 그래프 데이터를 다루는 머신 러닝 모델을 구축하고\n",
        "> 훈련시키기 위해 ENZYMES 데이터셋을 사용할 수 있습니다."
      ],
      "id": "83806377-0740-4484-9463-cc2a228e596b"
    },
    {
      "cell_type": "code",
      "execution_count": 104,
      "metadata": {},
      "outputs": [],
      "source": [
        "dataset # 데이터셋 이름"
      ],
      "id": "d759f993-027b-4bf3-888b-c49f5bfbb679"
    },
    {
      "cell_type": "code",
      "execution_count": 105,
      "metadata": {},
      "outputs": [],
      "source": [
        "len(dataset) # 이 데이터셋에는 600개의 그래프가 있음"
      ],
      "id": "ac487661-258a-44dc-af6c-c0db90ca6c38"
    },
    {
      "cell_type": "code",
      "execution_count": 106,
      "metadata": {},
      "outputs": [],
      "source": [
        "dataset.num_classes # 6개의 클래스"
      ],
      "id": "77dd6aae-f03a-4945-ae29-3271f957359e"
    },
    {
      "cell_type": "code",
      "execution_count": 107,
      "metadata": {},
      "outputs": [],
      "source": [
        "dataset.num_node_features # 각 노드에는 3개의 피처가 있음"
      ],
      "id": "521668ac-f7d9-4a5e-9a68-61643d0a753b"
    },
    {
      "cell_type": "markdown",
      "metadata": {},
      "source": [
        "`-` 600개의 그래프중 첫번째 그래프에 접근"
      ],
      "id": "81f9fd3a-1627-4bf7-a017-76174951f9b7"
    },
    {
      "cell_type": "code",
      "execution_count": 111,
      "metadata": {},
      "outputs": [],
      "source": [
        "dataset[0]"
      ],
      "id": "79e418a1-f0fe-47d9-9f97-612302ece08e"
    },
    {
      "cell_type": "markdown",
      "metadata": {},
      "source": [
        "-   `x=[37, 3]`: $|{\\cal V}|=37$, $f \\in \\mathbb{R}^3$\n",
        "-   `edge_index=[2, 168]`: $|{\\cal E}|=168$\n",
        "\n",
        "`-` 600개의 그래프중 540를 train으로, 60개를 test로"
      ],
      "id": "ebdf12a7-9459-4d40-a221-7228e6c4be64"
    },
    {
      "cell_type": "code",
      "execution_count": 113,
      "metadata": {},
      "outputs": [],
      "source": [
        "train_dataset = dataset[:540]\n",
        "test_dataset = dataset[540:] "
      ],
      "id": "ecb777e1-058c-4d21-9823-74fc61aedef6"
    },
    {
      "cell_type": "markdown",
      "metadata": {},
      "source": [
        "##### **데이터셋2**: Cora\n",
        "\n",
        "> ChatGPT: Cora는 그래프 분류를 위한 벤치마크 데이터셋 중 하나로,\n",
        "> PyG에서도 사용할 수 있습니다. 이 데이터셋은 기계 학습 및 정보 검색\n",
        "> 분야에서 널리 사용되는 학술 논문들의 인용 네트워크를 나타냅니다. Cora\n",
        "> 데이터셋은 컴퓨터 과학 분야의 논문을 대상으로 합니다. 각 논문은\n",
        "> 그래프의 노드로 표현되며, 노드는 논문을 나타냅니다. 노드 간의 엣지는\n",
        "> 논문들 사이의 인용 관계를 나타냅니다. 따라서 Cora 데이터셋은 논문의\n",
        "> 텍스트 기반 정보와 인용 관계에 대한 그래프 구조를 제공합니다. Cora\n",
        "> 데이터셋은 7개의 클래스로 분류되며, 각 논문은 특성 벡터(feature\n",
        "> vector)로 표현됩니다. 이 특성 벡터에는 논문의 단어 등 다양한 정보가\n",
        "> 포함될 수 있습니다. PyG를 사용하여 Cora 데이터셋을 초기화하면 해당\n",
        "> 데이터셋을 다운로드하고 전처리를 자동으로 수행할 수 있습니다. 이를\n",
        "> 통해 머신 러닝 모델을 훈련시켜 Cora 데이터셋의 논문을 분류하거나\n",
        "> 다양한 작업을 수행할 수 있습니다.\n",
        "\n",
        "`-` 다운로드"
      ],
      "id": "1f9e17b3-96e3-46a1-82e0-489ad2808b28"
    },
    {
      "cell_type": "code",
      "execution_count": 114,
      "metadata": {},
      "outputs": [
        {
          "output_type": "stream",
          "name": "stderr",
          "text": [
            "Downloading https://github.com/kimiyoung/planetoid/raw/master/data/ind.cora.x\n",
            "Downloading https://github.com/kimiyoung/planetoid/raw/master/data/ind.cora.tx\n",
            "Downloading https://github.com/kimiyoung/planetoid/raw/master/data/ind.cora.allx\n",
            "Downloading https://github.com/kimiyoung/planetoid/raw/master/data/ind.cora.y\n",
            "Downloading https://github.com/kimiyoung/planetoid/raw/master/data/ind.cora.ty\n",
            "Downloading https://github.com/kimiyoung/planetoid/raw/master/data/ind.cora.ally\n",
            "Downloading https://github.com/kimiyoung/planetoid/raw/master/data/ind.cora.graph\n",
            "Downloading https://github.com/kimiyoung/planetoid/raw/master/data/ind.cora.test.index\n",
            "Processing...\n",
            "Done!"
          ]
        }
      ],
      "source": [
        "dataset = torch_geometric.datasets.Planetoid(root='/tmp/Cora', name='Cora')"
      ],
      "id": "bea3fff7-c391-41be-9a68-d83ec850d482"
    },
    {
      "cell_type": "markdown",
      "metadata": {},
      "source": [
        "`-` 기본정보"
      ],
      "id": "d9524e31-96bd-459c-a917-f2ac77a57762"
    },
    {
      "cell_type": "code",
      "execution_count": 116,
      "metadata": {},
      "outputs": [],
      "source": [
        "len(dataset) # 하나의 그래프가 있음"
      ],
      "id": "6436961b-4acf-4209-bc12-3e2cf79c3839"
    },
    {
      "cell_type": "code",
      "execution_count": 118,
      "metadata": {},
      "outputs": [],
      "source": [
        "dataset.num_classes # 7개의 클래스가 있음"
      ],
      "id": "0a967e22-e557-450a-911f-e6f47a5ca5d9"
    },
    {
      "cell_type": "code",
      "execution_count": 123,
      "metadata": {},
      "outputs": [],
      "source": [
        "dataset.num_node_features # 각 노드는 1433개의 특징이 있음. (논문에 포함된 단어등 다양한 특성이 담겨있을 수 있음) "
      ],
      "id": "7c7840e2-7081-4334-b3b9-06f1ba607c4a"
    },
    {
      "cell_type": "markdown",
      "metadata": {},
      "source": [
        "`-` 그래프에 접근"
      ],
      "id": "bbfef626-d8f5-4de4-848e-0c2b4b244a9e"
    },
    {
      "cell_type": "code",
      "execution_count": 134,
      "metadata": {},
      "outputs": [],
      "source": [
        "dataset[0] # 기본정보"
      ],
      "id": "2e73ca58-0c3c-4bc7-8bc4-74d8f5978b6a"
    },
    {
      "cell_type": "markdown",
      "metadata": {},
      "source": [
        "-   `x=[2708, 1433]`: 2708개의 논문이 있고, 각 논문은 1433개의\n",
        "    특징벡터들로 이루어져 있음.\n",
        "-   `edge_index=[2, 10556]`: 논문간의 인용은 약 10556.\n",
        "-   `y=[2708]`:"
      ],
      "id": "14eacac4-d916-482f-842d-343310dc485f"
    },
    {
      "cell_type": "code",
      "execution_count": 131,
      "metadata": {},
      "outputs": [],
      "source": [
        "dataset[0].x.shape # 2708개의 논문이 있고 1433개의 특징벡터를 가짐"
      ],
      "id": "67314c78-7c0d-4772-8101-69df7ced179e"
    },
    {
      "cell_type": "code",
      "execution_count": 129,
      "metadata": {},
      "outputs": [],
      "source": [
        "dataset[0].y.unique() # 논문이 7개의 카테고리로 분류되는듯"
      ],
      "id": "8e314f95-8826-4d99-98c3-3e2dd8004114"
    },
    {
      "cell_type": "code",
      "execution_count": 138,
      "metadata": {},
      "outputs": [],
      "source": [
        "dataset[0].train_mask \n",
        "# dataset[0].train_mask 는 True, False로 이루어져 있는 길이가 2708(=노드수=논문수)인 벡터\n",
        "# 여기에서 True인 노드만 훈련함"
      ],
      "id": "dbf82b7f-c8f1-42ac-bb62-05037b926b2e"
    },
    {
      "cell_type": "code",
      "execution_count": 141,
      "metadata": {},
      "outputs": [],
      "source": [
        "dataset[0].train_mask.sum() # 140개의 노드만 훈련함? "
      ],
      "id": "0fc01350-2f6d-485e-8d3e-04dc99d3fe61"
    },
    {
      "cell_type": "code",
      "execution_count": 143,
      "metadata": {},
      "outputs": [],
      "source": [
        "dataset[0].val_mask.sum() # val은 500개의 노드?"
      ],
      "id": "6b3d9178-4e85-492d-992e-b5a7c192af91"
    },
    {
      "cell_type": "code",
      "execution_count": 144,
      "metadata": {},
      "outputs": [],
      "source": [
        "dataset[0].test_mask.sum() # test set은 1000?"
      ],
      "id": "e3a326fd-21df-4a59-9cfc-29ab6bd46bf7"
    }
  ],
  "nbformat": 4,
  "nbformat_minor": 5,
  "metadata": {
    "kernelspec": {
      "name": "python3",
      "display_name": "Python 3 (ipykernel)",
      "language": "python"
    },
    "language_info": {
      "name": "python",
      "codemirror_mode": {
        "name": "ipython",
        "version": "3"
      },
      "file_extension": ".py",
      "mimetype": "text/x-python",
      "nbconvert_exporter": "python",
      "pygments_lexer": "ipython3",
      "version": "3.8.16"
    }
  }
}