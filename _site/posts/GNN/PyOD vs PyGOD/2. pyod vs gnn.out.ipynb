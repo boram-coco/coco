{
  "cells": [
    {
      "cell_type": "markdown",
      "metadata": {},
      "source": [
        "# \\[pyod\\] vs gnn code simple example\n",
        "\n",
        "김보람  \n",
        "2023-10-04\n",
        "\n",
        "# import"
      ],
      "id": "4c43c7d7-e093-456b-b8e4-624ee50fb5ea"
    },
    {
      "cell_type": "code",
      "execution_count": 17,
      "metadata": {},
      "outputs": [],
      "source": [
        "import pandas as pd\n",
        "import numpy as np\n",
        "\n",
        "# pyod\n",
        "from pyod.models.knn import KNN\n",
        "from pyod.utils.data import generate_data\n",
        "\n",
        "# sklearn\n",
        "import sklearn\n",
        "from sklearn import metrics\n",
        "from sklearn.metrics import f1_score\n",
        "\n",
        "metrics = [sklearn.metrics.accuracy_score,\n",
        "           sklearn.metrics.precision_score,\n",
        "           sklearn.metrics.recall_score,\n",
        "           sklearn.metrics.f1_score]\n",
        "\n",
        "# gcn\n",
        "import torch\n",
        "import torch.nn.functional as F\n",
        "import torch_geometric\n",
        "from torch_geometric.nn import GCNConv\n",
        "from torch_geometric.data import Data, DataLoader\n",
        "\n",
        "class GCN(torch.nn.Module):\n",
        "    def __init__(self):\n",
        "        super().__init__()\n",
        "        self.conv1 = GCNConv(data.num_node_features, 16)\n",
        "        self.conv2 = GCNConv(16,2)\n",
        "\n",
        "    def forward(self, data):\n",
        "        x, edge_index = data.x, data.edge_index\n",
        "\n",
        "        x = self.conv1(x, edge_index)\n",
        "        x = F.relu(x)\n",
        "        x = F.dropout(x, training=self.training)\n",
        "        x = self.conv2(x, edge_index)\n",
        "\n",
        "        return F.log_softmax(x, dim=1)"
      ],
      "id": "69f3d3a4-489c-43e8-a06f-8735cf7414d8"
    },
    {
      "cell_type": "markdown",
      "metadata": {},
      "source": [
        "# pyod"
      ],
      "id": "6a0f5637-9cfb-43ad-9c14-f2169b097813"
    },
    {
      "cell_type": "code",
      "execution_count": 2,
      "metadata": {},
      "outputs": [],
      "source": [
        "np.random.seed(42)\n",
        "X, XX, y, yy = generate_data(n_train=200, n_test=100, contamination=0.1)\n",
        "clf = KNN()\n",
        "clf.fit(X)\n",
        "yyhat = clf.predict(XX)\n",
        "_results1= pd.DataFrame({m.__name__:[m(yy,yyhat).round(6)] for m in metrics},index=['분석1'])\n",
        "_results1"
      ],
      "id": "ee4a5112-d679-467c-a81f-0a35ff96d9a6"
    },
    {
      "cell_type": "markdown",
      "metadata": {},
      "source": [
        "# GCN"
      ],
      "id": "5e7d8e0b-ef4d-43d3-b5cd-b6b24a7938a1"
    },
    {
      "cell_type": "code",
      "execution_count": 22,
      "metadata": {},
      "outputs": [
        {
          "output_type": "stream",
          "name": "stderr",
          "text": [
            "/home/coco/anaconda3/envs/py38/lib/python3.8/site-packages/torch_geometric/deprecation.py:22: UserWarning: 'data.DataLoader' is deprecated, use 'loader.DataLoader' instead\n",
            "  warnings.warn(out)"
          ]
        },
        {
          "output_type": "stream",
          "name": "stdout",
          "text": [
            "Accuracy: 0.9\n",
            "F1 Score: 0.9\n",
            "Precision: 0.9\n",
            "Recall: 0.9"
          ]
        }
      ],
      "source": [
        "np.random.seed(42)\n",
        "X, XX, y, yy = generate_data(n_train=200, n_test=100, contamination=0.1)\n",
        "X_combined = np.vstack((X, XX))\n",
        "y_combined = np.hstack((y, yy))\n",
        "\n",
        "num_nodes = data.num_nodes\n",
        "edge_index = torch.tensor([(i, j) for i in range(num_nodes) for j in range(num_nodes) if i != j], dtype=torch.long).t()\n",
        "data = Data(x=torch.tensor(X_combined, dtype=torch.float32), y=torch.tensor(y_combined, dtype=torch.long), edge_index=edge_index)\n",
        "\n",
        "model = GCN()\n",
        "optimizer = torch.optim.Adam(model.parameters(), lr=0.01)\n",
        "criterion = torch.nn.NLLLoss()\n",
        "\n",
        "train_loader = DataLoader([data], batch_size=1, shuffle=True)\n",
        "\n",
        "model.train()\n",
        "for epoch in range(100):\n",
        "    for batch in train_loader:\n",
        "        optimizer.zero_grad()\n",
        "        out = model(batch)\n",
        "        loss = criterion(out, batch.y)\n",
        "        loss.backward()\n",
        "        optimizer.step()\n",
        "\n",
        "model.eval() \n",
        "with torch.no_grad():\n",
        "    out = model(data)\n",
        "    yyhat = out.argmax(dim=1)\n",
        "\n",
        "\n",
        "accuracy = accuracy_score(y_combined, predicted)\n",
        "f1 = f1_score(y_combined, predicted, average='micro')\n",
        "precision = precision_score(y_combined, predicted, average='micro')\n",
        "recall = recall_score(y_combined, predicted, average='micro')\n",
        "\n",
        "\n",
        "print(\"Accuracy:\", accuracy)\n",
        "print(\"F1 Score:\", f1)\n",
        "print(\"Precision:\", precision)\n",
        "print(\"Recall:\", recall)\n",
        "    \n",
        "\n",
        "# _results2= pd.DataFrame({m.__name__:[m(yy,yyhat).round(6)] for m in metrics},index=['분석2'])\n",
        "# _results2\n"
      ],
      "id": "3e0c5b4e-5ecc-42b6-b201-dcf41b99eff0"
    }
  ],
  "nbformat": 4,
  "nbformat_minor": 5,
  "metadata": {
    "kernelspec": {
      "name": "python3",
      "display_name": "Python 3 (ipykernel)",
      "language": "python"
    },
    "language_info": {
      "name": "python",
      "codemirror_mode": {
        "name": "ipython",
        "version": "3"
      },
      "file_extension": ".py",
      "mimetype": "text/x-python",
      "nbconvert_exporter": "python",
      "pygments_lexer": "ipython3",
      "version": "3.8.18"
    }
  }
}