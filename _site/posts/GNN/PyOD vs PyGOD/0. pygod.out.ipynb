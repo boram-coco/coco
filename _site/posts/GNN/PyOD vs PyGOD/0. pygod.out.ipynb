{
  "cells": [
    {
      "cell_type": "markdown",
      "metadata": {},
      "source": [
        "# \\[pyGod\\] tutorial\n",
        "\n",
        "김보람  \n",
        "2023-10-04\n",
        "\n",
        "# import"
      ],
      "id": "2f771dd0-8051-4e78-963b-9cb11dc2d005"
    },
    {
      "cell_type": "code",
      "execution_count": 20,
      "metadata": {},
      "outputs": [],
      "source": [
        "import torch\n",
        "from pygod.generator import gen_contextual_outlier, gen_structural_outlier\n",
        "import torch_geometric.transforms as T\n",
        "from torch_geometric.datasets import Planetoid\n",
        "from pygod.utils import load_data\n",
        "from pygod.detector import DOMINANT"
      ],
      "id": "06fbb057-0778-4c69-bc79-01a198189ae0"
    },
    {
      "cell_type": "markdown",
      "metadata": {},
      "source": [
        "# data"
      ],
      "id": "44b4109b-b8fa-4d88-8eee-d25f65844602"
    },
    {
      "cell_type": "code",
      "execution_count": 21,
      "metadata": {},
      "outputs": [
        {
          "output_type": "stream",
          "name": "stderr",
          "text": [
            "Downloading https://github.com/kimiyoung/planetoid/raw/master/data/ind.cora.x"
          ]
        }
      ],
      "source": [
        "data = Planetoid('./data/Cora', 'Cora', transform=T.NormalizeFeatures())[0]"
      ],
      "id": "cb4fb167-d990-4eac-89b2-6715f6c6d74b"
    },
    {
      "cell_type": "code",
      "execution_count": 23,
      "metadata": {},
      "outputs": [],
      "source": [
        "data, ya = gen_contextual_outlier(data, n=100, k=50)\n",
        "data, ys = gen_structural_outlier(data, m=10, n=10)\n",
        "data.y = torch.logical_or(ys, ya).long()"
      ],
      "id": "00915a4b-ece9-45f4-988b-c91c2c621a66"
    },
    {
      "cell_type": "markdown",
      "metadata": {},
      "source": [
        "-   cora dataset에 이상값 없으므로 넣어줌"
      ],
      "id": "c351ce5c-ad14-4464-a4bc-c6ec4ee6712f"
    },
    {
      "cell_type": "code",
      "execution_count": 24,
      "metadata": {},
      "outputs": [],
      "source": [
        "\n",
        "data = load_data('inj_cora')\n",
        "data.y = data.y.bool()"
      ],
      "id": "8d96aa49-6940-4e4f-b5f4-5f12f9e094b7"
    },
    {
      "cell_type": "code",
      "execution_count": 25,
      "metadata": {},
      "outputs": [],
      "source": [
        "data"
      ],
      "id": "a44e060e-a063-4719-8ff1-aacb2508f4bb"
    },
    {
      "cell_type": "code",
      "execution_count": 26,
      "metadata": {},
      "outputs": [],
      "source": [
        "detector = DOMINANT(hid_dim=64, num_layers=4, epoch=100)"
      ],
      "id": "c578d524-82c1-4080-904a-a75bd84f18f3"
    },
    {
      "cell_type": "code",
      "execution_count": 27,
      "metadata": {},
      "outputs": [],
      "source": [
        "detector.fit(data)"
      ],
      "id": "9c9328b7-cab7-42e3-bbec-cc7dc1c9a5f8"
    },
    {
      "cell_type": "markdown",
      "metadata": {},
      "source": [
        "> 오류….ㅜ.ㅜ"
      ],
      "id": "064be9fc-36b1-4baa-a1bb-f2b4fa6001ed"
    },
    {
      "cell_type": "code",
      "execution_count": 8,
      "metadata": {},
      "outputs": [],
      "source": [
        "pred, score, prob, conf = detector.predict(data,\n",
        "                                           return_pred=True,\n",
        "                                           return_score=True,\n",
        "                                           return_prob=True,\n",
        "                                           return_conf=True)\n",
        "print('Labels:')\n",
        "print(pred)\n",
        "\n",
        "print('Raw scores:')\n",
        "print(score)\n",
        "\n",
        "print('Probability:')\n",
        "print(prob)\n",
        "\n",
        "print('Confidence:')\n",
        "print(conf)"
      ],
      "id": "d85eea9e-1007-45d5-b1d3-11e4115f7577"
    },
    {
      "cell_type": "code",
      "execution_count": 28,
      "metadata": {},
      "outputs": [],
      "source": [
        "from pygod.metric import eval_roc_auc\n",
        "\n",
        "auc_score = eval_roc_auc(data.y, score)\n",
        "print('AUC Score:', auc_score)"
      ],
      "id": "ae07ff78-4af3-4388-9b9b-48c1bb53d1b7"
    }
  ],
  "nbformat": 4,
  "nbformat_minor": 5,
  "metadata": {
    "kernelspec": {
      "name": "python3",
      "display_name": "Python 3 (ipykernel)",
      "language": "python"
    },
    "language_info": {
      "name": "python",
      "codemirror_mode": {
        "name": "ipython",
        "version": "3"
      },
      "file_extension": ".py",
      "mimetype": "text/x-python",
      "nbconvert_exporter": "python",
      "pygments_lexer": "ipython3",
      "version": "3.8.18"
    }
  }
}