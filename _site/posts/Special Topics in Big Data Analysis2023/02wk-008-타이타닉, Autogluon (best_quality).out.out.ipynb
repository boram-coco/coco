{
  "cells": [
    {
      "cell_type": "markdown",
      "metadata": {},
      "source": [
        "# \\[STBDA2023\\] 02wk-008: 타이타닉, Autogluon(best_quality)\n",
        "\n",
        "김보람  \n",
        "2023-09-17\n",
        "\n",
        "> 해당 자료는 전북대학교 최규빈 교수님 2023학년도 2학기\n",
        "> [빅데이터분석특강](https://guebin.github.io/STBDA2023/) 자료임\n",
        "\n",
        "# 02wk-008: 타이타닉, Autogluon (best_quality)\n",
        "\n",
        "최규빈  \n",
        "2023-09-12\n",
        "\n",
        "# 1. 강의영상\n",
        "\n",
        "<https://youtu.be/playlist?list=PLQqh36zP38-x6USW3HM9Lm-B19o9qrm19&si=EFy8hdlgDJ-LUFHi>\n",
        "\n",
        "# 2. Import\n",
        "\n",
        "``` python\n",
        "# This Python 3 environment comes with many helpful analytics libraries installed\n",
        "# It is defined by the kaggle/python Docker image: https://github.com/kaggle/docker-python\n",
        "# For example, here's several helpful packages to load\n",
        "\n",
        "import numpy as np # linear algebra\n",
        "import pandas as pd # data processing, CSV file I/O (e.g. pd.read_csv)\n",
        "\n",
        "# Input data files are available in the read-only \"../input/\" directory\n",
        "# For example, running this (by clicking run or pressing Shift+Enter) will list all files under the input directory\n",
        "\n",
        "import os\n",
        "for dirname, _, filenames in os.walk('/kaggle/input'):\n",
        "    for filename in filenames:\n",
        "        print(os.path.join(dirname, filename))\n",
        "\n",
        "# You can write up to 20GB to the current directory (/kaggle/working/) that gets preserved as output when you create a version using \"Save & Run All\" \n",
        "# You can also write temporary files to /kaggle/temp/, but they won't be saved outside of the current session\n",
        "```\n",
        "\n",
        "    /kaggle/input/titanic/train.csv\n",
        "    /kaggle/input/titanic/test.csv\n",
        "    /kaggle/input/titanic/gender_submission.csv"
      ],
      "id": "d23ed73b-7e91-40d3-bf72-710df06fda59"
    },
    {
      "cell_type": "code",
      "execution_count": 11,
      "metadata": {},
      "outputs": [],
      "source": [
        "#pip install autogluon"
      ],
      "id": "5ee63a9f-4df2-46eb-b255-633ad13ef668"
    },
    {
      "cell_type": "code",
      "execution_count": 5,
      "metadata": {},
      "outputs": [],
      "source": [
        "from autogluon.tabular import TabularDataset, TabularPredictor"
      ],
      "id": "4fb9404e-25d7-4a80-8709-69221a7fbc3a"
    },
    {
      "cell_type": "markdown",
      "metadata": {},
      "source": [
        "# 3. 분석의 절차\n",
        "\n",
        "## A. 데이터\n",
        "\n",
        "`-` 비유: 문제를 받아오는 과정으로 비유할 수 있다."
      ],
      "id": "be051bbf-1066-48d9-ba58-873ccf2d18b1"
    },
    {
      "cell_type": "code",
      "execution_count": 6,
      "metadata": {},
      "outputs": [
        {
          "output_type": "stream",
          "name": "stderr",
          "text": [
            "Loaded data from: ~/Desktop/titanic/train.csv | Columns = 12 / 12 | Rows = 891 -> 891\n",
            "Loaded data from: ~/Desktop/titanic/test.csv | Columns = 11 / 11 | Rows = 418 -> 418"
          ]
        }
      ],
      "source": [
        "tr = TabularDataset(\"~/Desktop/titanic/train.csv\")\n",
        "tst = TabularDataset(\"~/Desktop/titanic/test.csv\")"
      ],
      "id": "5ac6c193-2953-419d-ac23-d3d9ea3f40c8"
    },
    {
      "cell_type": "markdown",
      "metadata": {},
      "source": [
        "## B. Predictor 생성\n",
        "\n",
        "`-` 비유: 문제를 풀 학생을 생성하는 과정으로 비유할 수 있다."
      ],
      "id": "368db141-18bc-46e0-a40f-ce7ae12bc2f5"
    },
    {
      "cell_type": "code",
      "execution_count": 7,
      "metadata": {},
      "outputs": [
        {
          "output_type": "stream",
          "name": "stderr",
          "text": [
            "No path specified. Models will be saved in: \"AutogluonModels/ag-20230917_141828/\""
          ]
        }
      ],
      "source": [
        "predictr = TabularPredictor(\"Survived\")"
      ],
      "id": "d14af837-2d5e-4dd3-9348-ade59683b80d"
    },
    {
      "cell_type": "markdown",
      "metadata": {},
      "source": [
        "## C. 적합(fit)\n",
        "\n",
        "`-` 비유: 학생이 공부를 하는 과정으로 비유할 수 있다.\n",
        "\n",
        "`-` 학습"
      ],
      "id": "e9a3e273-5d28-42db-b4df-9c423b42e6e7"
    },
    {
      "cell_type": "code",
      "execution_count": 8,
      "metadata": {},
      "outputs": [
        {
          "output_type": "stream",
          "name": "stderr",
          "text": [
            "Presets specified: ['best_quality']\n",
            "Stack configuration (auto_stack=True): num_stack_levels=0, num_bag_folds=8, num_bag_sets=1\n",
            "Beginning AutoGluon training ...\n",
            "AutoGluon will save models to \"AutogluonModels/ag-20230917_141828/\"\n",
            "AutoGluon Version:  0.8.2\n",
            "Python Version:     3.8.18\n",
            "Operating System:   Linux\n",
            "Platform Machine:   x86_64\n",
            "Platform Version:   #26~22.04.1-Ubuntu SMP PREEMPT_DYNAMIC Thu Jul 13 16:27:29 UTC 2\n",
            "Disk Space Avail:   775.46 GB / 982.82 GB (78.9%)\n",
            "Train Data Rows:    891\n",
            "Train Data Columns: 11\n",
            "Label Column: Survived\n",
            "Preprocessing data ...\n",
            "AutoGluon infers your prediction problem is: 'binary' (because only two unique label-values observed).\n",
            "    2 unique label values:  [0, 1]\n",
            "    If 'binary' is not the correct problem_type, please manually specify the problem_type parameter during predictor init (You may specify problem_type as one of: ['binary', 'multiclass', 'regression'])\n",
            "Selected class <--> label mapping:  class 1 = 1, class 0 = 0\n",
            "Using Feature Generators to preprocess the data ...\n",
            "Fitting AutoMLPipelineFeatureGenerator...\n",
            "    Available Memory:                    37750.16 MB\n",
            "    Train Data (Original)  Memory Usage: 0.31 MB (0.0% of available memory)\n",
            "    Inferring data type of each feature based on column values. Set feature_metadata_in to manually specify special dtypes of the features.\n",
            "    Stage 1 Generators:\n",
            "        Fitting AsTypeFeatureGenerator...\n",
            "            Note: Converting 1 features to boolean dtype as they only contain 2 unique values.\n",
            "    Stage 2 Generators:\n",
            "        Fitting FillNaFeatureGenerator...\n",
            "    Stage 3 Generators:\n",
            "        Fitting IdentityFeatureGenerator...\n",
            "        Fitting CategoryFeatureGenerator...\n",
            "            Fitting CategoryMemoryMinimizeFeatureGenerator...\n",
            "        Fitting TextSpecialFeatureGenerator...\n",
            "            Fitting BinnedFeatureGenerator...\n",
            "            Fitting DropDuplicatesFeatureGenerator...\n",
            "        Fitting TextNgramFeatureGenerator...\n",
            "            Fitting CountVectorizer for text features: ['Name']\n",
            "            CountVectorizer fit with vocabulary size = 8\n",
            "    Stage 4 Generators:\n",
            "        Fitting DropUniqueFeatureGenerator...\n",
            "    Stage 5 Generators:\n",
            "        Fitting DropDuplicatesFeatureGenerator...\n",
            "    Types of features in original data (raw dtype, special dtypes):\n",
            "        ('float', [])        : 2 | ['Age', 'Fare']\n",
            "        ('int', [])          : 4 | ['PassengerId', 'Pclass', 'SibSp', 'Parch']\n",
            "        ('object', [])       : 4 | ['Sex', 'Ticket', 'Cabin', 'Embarked']\n",
            "        ('object', ['text']) : 1 | ['Name']\n",
            "    Types of features in processed data (raw dtype, special dtypes):\n",
            "        ('category', [])                    : 3 | ['Ticket', 'Cabin', 'Embarked']\n",
            "        ('float', [])                       : 2 | ['Age', 'Fare']\n",
            "        ('int', [])                         : 4 | ['PassengerId', 'Pclass', 'SibSp', 'Parch']\n",
            "        ('int', ['binned', 'text_special']) : 9 | ['Name.char_count', 'Name.word_count', 'Name.capital_ratio', 'Name.lower_ratio', 'Name.special_ratio', ...]\n",
            "        ('int', ['bool'])                   : 1 | ['Sex']\n",
            "        ('int', ['text_ngram'])             : 9 | ['__nlp__.henry', '__nlp__.john', '__nlp__.master', '__nlp__.miss', '__nlp__.mr', ...]\n",
            "    0.1s = Fit runtime\n",
            "    11 features in original data used to generate 28 features in processed data.\n",
            "    Train Data (Processed) Memory Usage: 0.07 MB (0.0% of available memory)\n",
            "Data preprocessing and feature engineering runtime = 0.16s ...\n",
            "AutoGluon will gauge predictive performance using evaluation metric: 'accuracy'\n",
            "    To change this, specify the eval_metric parameter of Predictor()\n",
            "User-specified model hyperparameters to be fit:\n",
            "{\n",
            "    'NN_TORCH': {},\n",
            "    'GBM': [{'extra_trees': True, 'ag_args': {'name_suffix': 'XT'}}, {}, 'GBMLarge'],\n",
            "    'CAT': {},\n",
            "    'XGB': {},\n",
            "    'FASTAI': {},\n",
            "    'RF': [{'criterion': 'gini', 'ag_args': {'name_suffix': 'Gini', 'problem_types': ['binary', 'multiclass']}}, {'criterion': 'entropy', 'ag_args': {'name_suffix': 'Entr', 'problem_types': ['binary', 'multiclass']}}, {'criterion': 'squared_error', 'ag_args': {'name_suffix': 'MSE', 'problem_types': ['regression', 'quantile']}}],\n",
            "    'XT': [{'criterion': 'gini', 'ag_args': {'name_suffix': 'Gini', 'problem_types': ['binary', 'multiclass']}}, {'criterion': 'entropy', 'ag_args': {'name_suffix': 'Entr', 'problem_types': ['binary', 'multiclass']}}, {'criterion': 'squared_error', 'ag_args': {'name_suffix': 'MSE', 'problem_types': ['regression', 'quantile']}}],\n",
            "    'KNN': [{'weights': 'uniform', 'ag_args': {'name_suffix': 'Unif'}}, {'weights': 'distance', 'ag_args': {'name_suffix': 'Dist'}}],\n",
            "}\n",
            "Fitting 13 L1 models ...\n",
            "Fitting model: KNeighborsUnif_BAG_L1 ...\n",
            "Exception ignored on calling ctypes callback function: <function _ThreadpoolInfo._find_modules_with_dl_iterate_phdr.<locals>.match_module_callback at 0x7f20705933a0>\n",
            "Traceback (most recent call last):\n",
            "  File \"/home/coco/anaconda3/envs/py38/lib/python3.8/site-packages/threadpoolctl.py\", line 400, in match_module_callback\n",
            "    self._make_module_from_path(filepath)\n",
            "  File \"/home/coco/anaconda3/envs/py38/lib/python3.8/site-packages/threadpoolctl.py\", line 515, in _make_module_from_path\n",
            "    module = module_class(filepath, prefix, user_api, internal_api)\n",
            "  File \"/home/coco/anaconda3/envs/py38/lib/python3.8/site-packages/threadpoolctl.py\", line 606, in __init__\n",
            "    self.version = self.get_version()\n",
            "  File \"/home/coco/anaconda3/envs/py38/lib/python3.8/site-packages/threadpoolctl.py\", line 646, in get_version\n",
            "    config = get_config().split()\n",
            "AttributeError: 'NoneType' object has no attribute 'split'\n",
            "    0.6308   = Validation score   (accuracy)\n",
            "    0.0s     = Training   runtime\n",
            "    0.01s    = Validation runtime\n",
            "Fitting model: KNeighborsDist_BAG_L1 ...\n",
            "Exception ignored on calling ctypes callback function: <function _ThreadpoolInfo._find_modules_with_dl_iterate_phdr.<locals>.match_module_callback at 0x7f20705e85e0>\n",
            "Traceback (most recent call last):\n",
            "  File \"/home/coco/anaconda3/envs/py38/lib/python3.8/site-packages/threadpoolctl.py\", line 400, in match_module_callback\n",
            "    self._make_module_from_path(filepath)\n",
            "  File \"/home/coco/anaconda3/envs/py38/lib/python3.8/site-packages/threadpoolctl.py\", line 515, in _make_module_from_path\n",
            "    module = module_class(filepath, prefix, user_api, internal_api)\n",
            "  File \"/home/coco/anaconda3/envs/py38/lib/python3.8/site-packages/threadpoolctl.py\", line 606, in __init__\n",
            "    self.version = self.get_version()\n",
            "  File \"/home/coco/anaconda3/envs/py38/lib/python3.8/site-packages/threadpoolctl.py\", line 646, in get_version\n",
            "    config = get_config().split()\n",
            "AttributeError: 'NoneType' object has no attribute 'split'\n",
            "    0.6364   = Validation score   (accuracy)\n",
            "    0.0s     = Training   runtime\n",
            "    0.01s    = Validation runtime\n",
            "Fitting model: LightGBMXT_BAG_L1 ...\n",
            "    Fitting 8 child models (S1F1 - S1F8) | Fitting with ParallelLocalFoldFittingStrategy\n",
            "    0.835    = Validation score   (accuracy)\n",
            "    0.64s    = Training   runtime\n",
            "    0.02s    = Validation runtime\n",
            "Fitting model: LightGBM_BAG_L1 ...\n",
            "    Fitting 8 child models (S1F1 - S1F8) | Fitting with ParallelLocalFoldFittingStrategy\n",
            "    0.8406   = Validation score   (accuracy)\n",
            "    0.69s    = Training   runtime\n",
            "    0.02s    = Validation runtime\n",
            "Fitting model: RandomForestGini_BAG_L1 ...\n",
            "    0.8373   = Validation score   (accuracy)\n",
            "    0.25s    = Training   runtime\n",
            "    0.06s    = Validation runtime\n",
            "Fitting model: RandomForestEntr_BAG_L1 ...\n",
            "    0.8361   = Validation score   (accuracy)\n",
            "    0.26s    = Training   runtime\n",
            "    0.06s    = Validation runtime\n",
            "Fitting model: CatBoost_BAG_L1 ...\n",
            "    Fitting 8 child models (S1F1 - S1F8) | Fitting with ParallelLocalFoldFittingStrategy\n",
            "    0.8608   = Validation score   (accuracy)\n",
            "    1.7s     = Training   runtime\n",
            "    0.02s    = Validation runtime\n",
            "Fitting model: ExtraTreesGini_BAG_L1 ...\n",
            "    0.8294   = Validation score   (accuracy)\n",
            "    0.26s    = Training   runtime\n",
            "    0.06s    = Validation runtime\n",
            "Fitting model: ExtraTreesEntr_BAG_L1 ...\n",
            "    0.8328   = Validation score   (accuracy)\n",
            "    0.25s    = Training   runtime\n",
            "    0.06s    = Validation runtime\n",
            "Fitting model: NeuralNetFastAI_BAG_L1 ...\n",
            "    Fitting 8 child models (S1F1 - S1F8) | Fitting with ParallelLocalFoldFittingStrategy\n",
            "    0.853    = Validation score   (accuracy)\n",
            "    2.19s    = Training   runtime\n",
            "    0.07s    = Validation runtime\n",
            "Fitting model: XGBoost_BAG_L1 ...\n",
            "    Fitting 8 child models (S1F1 - S1F8) | Fitting with ParallelLocalFoldFittingStrategy\n",
            "    0.8406   = Validation score   (accuracy)\n",
            "    0.55s    = Training   runtime\n",
            "    0.04s    = Validation runtime\n",
            "Fitting model: NeuralNetTorch_BAG_L1 ...\n",
            "    Fitting 8 child models (S1F1 - S1F8) | Fitting with ParallelLocalFoldFittingStrategy\n",
            "    0.8462   = Validation score   (accuracy)\n",
            "    3.98s    = Training   runtime\n",
            "    0.09s    = Validation runtime\n",
            "Fitting model: LightGBMLarge_BAG_L1 ...\n",
            "    Fitting 8 child models (S1F1 - S1F8) | Fitting with ParallelLocalFoldFittingStrategy\n",
            "    0.8406   = Validation score   (accuracy)\n",
            "    1.04s    = Training   runtime\n",
            "    0.03s    = Validation runtime\n",
            "Fitting model: WeightedEnsemble_L2 ...\n",
            "    0.8608   = Validation score   (accuracy)\n",
            "    0.5s     = Training   runtime\n",
            "    0.0s     = Validation runtime\n",
            "AutoGluon training complete, total runtime = 19.49s ... Best model: \"WeightedEnsemble_L2\"\n",
            "TabularPredictor saved. To load, use: predictor = TabularPredictor.load(\"AutogluonModels/ag-20230917_141828/\")"
          ]
        }
      ],
      "source": [
        "predictr.fit(tr,presets='best_quality') # 학생(predictr)에게 문제(tr)를 줘서 학습을 시킴(predictr.fit())"
      ],
      "id": "d487d466-82e6-4b71-b6c5-037ae26df37e"
    },
    {
      "cell_type": "markdown",
      "metadata": {},
      "source": [
        "`-` 리더보드확인 (모의고사채점)"
      ],
      "id": "95eda9d4-882a-4877-9bc0-be65a6e3340b"
    },
    {
      "cell_type": "code",
      "execution_count": 9,
      "metadata": {},
      "outputs": [
        {
          "output_type": "stream",
          "name": "stdout",
          "text": [
            "                      model  score_val  pred_time_val  fit_time  pred_time_val_marginal  fit_time_marginal  stack_level  can_infer  fit_order\n",
            "0           CatBoost_BAG_L1   0.860831       0.023981  1.700775                0.023981           1.700775            1       True          7\n",
            "1       WeightedEnsemble_L2   0.860831       0.025379  2.204065                0.001398           0.503290            2       True         14\n",
            "2    NeuralNetFastAI_BAG_L1   0.852974       0.067810  2.190649                0.067810           2.190649            1       True         10\n",
            "3     NeuralNetTorch_BAG_L1   0.846240       0.086196  3.984127                0.086196           3.984127            1       True         12\n",
            "4           LightGBM_BAG_L1   0.840629       0.023935  0.687209                0.023935           0.687209            1       True          4\n",
            "5      LightGBMLarge_BAG_L1   0.840629       0.025161  1.040782                0.025161           1.040782            1       True         13\n",
            "6            XGBoost_BAG_L1   0.840629       0.039286  0.545162                0.039286           0.545162            1       True         11\n",
            "7   RandomForestGini_BAG_L1   0.837262       0.058148  0.252888                0.058148           0.252888            1       True          5\n",
            "8   RandomForestEntr_BAG_L1   0.836139       0.058385  0.259539                0.058385           0.259539            1       True          6\n",
            "9         LightGBMXT_BAG_L1   0.835017       0.022836  0.638991                0.022836           0.638991            1       True          3\n",
            "10    ExtraTreesEntr_BAG_L1   0.832772       0.056459  0.251367                0.056459           0.251367            1       True          9\n",
            "11    ExtraTreesGini_BAG_L1   0.829405       0.058829  0.257241                0.058829           0.257241            1       True          8\n",
            "12    KNeighborsDist_BAG_L1   0.636364       0.012997  0.003672                0.012997           0.003672            1       True          2\n",
            "13    KNeighborsUnif_BAG_L1   0.630752       0.011647  0.003759                0.011647           0.003759            1       True          1"
          ]
        }
      ],
      "source": [
        "predictr.leaderboard()"
      ],
      "id": "174c297f-09ab-4fab-8b6a-c1b5f5cc5244"
    },
    {
      "cell_type": "markdown",
      "metadata": {},
      "source": [
        "## D. 예측 (predict)\n",
        "\n",
        "`-` 비유: 학습이후에 문제를 푸는 과정으로 비유할 수 있다.\n",
        "\n",
        "`-` training set 을 풀어봄 (predict) $\\to$ 점수 확인"
      ],
      "id": "f60c656c-fb01-49de-bd73-4157ba0eaf84"
    },
    {
      "cell_type": "code",
      "execution_count": 10,
      "metadata": {},
      "outputs": [],
      "source": [
        "(tr.Survived == predictr.predict(tr)).mean()"
      ],
      "id": "63dde064-62d6-4b36-bade-c3826d031584"
    },
    {
      "cell_type": "markdown",
      "metadata": {},
      "source": [
        "`-` test set 을 풀어봄 (predict) $\\to$ 점수 확인 하러 캐글에 결과제출"
      ],
      "id": "7445f68e-4560-4e93-8e89-06a41a7d7fde"
    },
    {
      "cell_type": "code",
      "execution_count": null,
      "metadata": {},
      "outputs": [],
      "source": [
        "tst.assign(Survived = predictr.predict(tst)).loc[:,['PassengerId','Survived']]\\\n",
        ".to_csv(\"autogluon(best_quality)_submission.csv\",index=False)"
      ],
      "id": "767c5239-4ba5-4a43-873b-dd1575ef8954"
    },
    {
      "cell_type": "markdown",
      "metadata": {},
      "source": [
        "# 3. 숙제\n",
        "\n",
        "`-` 캐글에 제출한 결과를 캡쳐하여 LMS에 제출"
      ],
      "id": "9e7cd52f-ea09-41d9-a7e7-c656b23e16cd"
    }
  ],
  "nbformat": 4,
  "nbformat_minor": 5,
  "metadata": {
    "kernelspec": {
      "name": "python3",
      "display_name": "Python 3 (ipykernel)",
      "language": "python"
    },
    "language_info": {
      "name": "python",
      "codemirror_mode": {
        "name": "ipython",
        "version": "3"
      },
      "file_extension": ".py",
      "mimetype": "text/x-python",
      "nbconvert_exporter": "python",
      "pygments_lexer": "ipython3",
      "version": "3.8.18"
    }
  }
}