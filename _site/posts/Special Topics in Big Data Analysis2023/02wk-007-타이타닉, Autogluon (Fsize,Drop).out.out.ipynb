{
  "cells": [
    {
      "cell_type": "markdown",
      "metadata": {},
      "source": [
        "# \\[STBDA2023\\] 02wk-007: 타이타닉, Autogluon(Fsize,Dropout)\n",
        "\n",
        "김보람  \n",
        "2023-09-17\n",
        "\n",
        "> 해당 자료는 전북대학교 최규빈 교수님 2023학년도 2학기\n",
        "> [빅데이터분석특강](https://guebin.github.io/STBDA2023/) 자료임\n",
        "\n",
        "# 02wk-007: 타이타닉, Autogluon (Fsize,Drop)\n",
        "\n",
        "최규빈  \n",
        "2023-09-12\n",
        "\n",
        "# 1. 강의영상\n",
        "\n",
        "<https://youtu.be/playlist?list=PLQqh36zP38-wiSZXhNO5rMncu6h42SNDi&si=fmqkO_EQek1SgbNQ>\n",
        "\n",
        "# 2. Import\n",
        "\n",
        "``` python\n",
        "# This Python 3 environment comes with many helpful analytics libraries installed\n",
        "# It is defined by the kaggle/python Docker image: https://github.com/kaggle/docker-python\n",
        "# For example, here's several helpful packages to load\n",
        "\n",
        "import numpy as np # linear algebra\n",
        "import pandas as pd # data processing, CSV file I/O (e.g. pd.read_csv)\n",
        "\n",
        "# Input data files are available in the read-only \"../input/\" directory\n",
        "# For example, running this (by clicking run or pressing Shift+Enter) will list all files under the input directory\n",
        "\n",
        "import os\n",
        "for dirname, _, filenames in os.walk('/kaggle/input'):\n",
        "    for filename in filenames:\n",
        "        print(os.path.join(dirname, filename))\n",
        "\n",
        "# You can write up to 20GB to the current directory (/kaggle/working/) that gets preserved as output when you create a version using \"Save & Run All\" \n",
        "# You can also write temporary files to /kaggle/temp/, but they won't be saved outside of the current session\n",
        "```\n",
        "\n",
        "    /kaggle/input/titanic/train.csv\n",
        "    /kaggle/input/titanic/test.csv\n",
        "    /kaggle/input/titanic/gender_submission.csv"
      ],
      "id": "94da37ce-9206-480b-a30f-8feb98620cd7"
    },
    {
      "cell_type": "code",
      "execution_count": 11,
      "metadata": {},
      "outputs": [],
      "source": [
        "#pip install autogluon"
      ],
      "id": "7df920d4-ec5e-4342-b087-fc3c3666c3a5"
    },
    {
      "cell_type": "code",
      "execution_count": 1,
      "metadata": {},
      "outputs": [],
      "source": [
        "from autogluon.tabular import TabularDataset, TabularPredictor"
      ],
      "id": "773d010f-fcd9-496e-8706-b9ca032f33c0"
    },
    {
      "cell_type": "markdown",
      "metadata": {},
      "source": [
        "# 3. 분석의 절차\n",
        "\n",
        "## A. 데이터\n",
        "\n",
        "`-` 비유: 문제를 받아오는 과정으로 비유할 수 있다."
      ],
      "id": "657e75f1-ed87-4592-a88d-279784988073"
    },
    {
      "cell_type": "code",
      "execution_count": 2,
      "metadata": {},
      "outputs": [],
      "source": [
        "tr = TabularDataset(\"~/Desktop/titanic/train.csv\")\n",
        "tst = TabularDataset(\"~/Desktop/titanic/test.csv\")"
      ],
      "id": "561744ad-05bb-48e1-a58d-82429da18171"
    },
    {
      "cell_type": "markdown",
      "metadata": {},
      "source": [
        "`-` 피처엔지니어링"
      ],
      "id": "79e5d675-881c-44cf-9327-08113facd1c5"
    },
    {
      "cell_type": "code",
      "execution_count": 3,
      "metadata": {},
      "outputs": [],
      "source": [
        "_tr = tr.eval('Fsize = SibSp + Parch').drop(['SibSp','Parch'],axis=1)\n",
        "_tst = tst.eval('Fsize = SibSp + Parch').drop(['SibSp','Parch'],axis=1)"
      ],
      "id": "13fb6de0-a801-4b0c-a8da-04d4ea5e0537"
    },
    {
      "cell_type": "markdown",
      "metadata": {},
      "source": [
        "## B. Predictor 생성\n",
        "\n",
        "`-` 비유: 문제를 풀 학생을 생성하는 과정으로 비유할 수 있다."
      ],
      "id": "fcd35fb7-bac6-422f-b6ba-1aee5dc0b07d"
    },
    {
      "cell_type": "code",
      "execution_count": 4,
      "metadata": {},
      "outputs": [
        {
          "output_type": "stream",
          "name": "stderr",
          "text": [
            "No path specified. Models will be saved in: \"AutogluonModels/ag-20230917_141245/\""
          ]
        }
      ],
      "source": [
        "predictr = TabularPredictor(\"Survived\")"
      ],
      "id": "e8a5f51d-726c-4059-97e2-c9e81b05d08e"
    },
    {
      "cell_type": "markdown",
      "metadata": {},
      "source": [
        "## C. 적합(fit)\n",
        "\n",
        "`-` 비유: 학생이 공부를 하는 과정으로 비유할 수 있다.\n",
        "\n",
        "`-` 학습"
      ],
      "id": "db3c00ff-b4df-4648-abd5-ab5be3f86b31"
    },
    {
      "cell_type": "code",
      "execution_count": 5,
      "metadata": {},
      "outputs": [
        {
          "output_type": "stream",
          "name": "stderr",
          "text": [
            "Beginning AutoGluon training ...\n",
            "AutoGluon will save models to \"AutogluonModels/ag-20230917_141245/\"\n",
            "AutoGluon Version:  0.8.2\n",
            "Python Version:     3.8.18\n",
            "Operating System:   Linux\n",
            "Platform Machine:   x86_64\n",
            "Platform Version:   #26~22.04.1-Ubuntu SMP PREEMPT_DYNAMIC Thu Jul 13 16:27:29 UTC 2\n",
            "Disk Space Avail:   775.53 GB / 982.82 GB (78.9%)\n",
            "Train Data Rows:    891\n",
            "Train Data Columns: 10\n",
            "Label Column: Survived\n",
            "Preprocessing data ...\n",
            "AutoGluon infers your prediction problem is: 'binary' (because only two unique label-values observed).\n",
            "    2 unique label values:  [0, 1]\n",
            "    If 'binary' is not the correct problem_type, please manually specify the problem_type parameter during predictor init (You may specify problem_type as one of: ['binary', 'multiclass', 'regression'])\n",
            "Selected class <--> label mapping:  class 1 = 1, class 0 = 0\n",
            "Using Feature Generators to preprocess the data ...\n",
            "Fitting AutoMLPipelineFeatureGenerator...\n",
            "    Available Memory:                    38785.27 MB\n",
            "    Train Data (Original)  Memory Usage: 0.31 MB (0.0% of available memory)\n",
            "    Inferring data type of each feature based on column values. Set feature_metadata_in to manually specify special dtypes of the features.\n",
            "    Stage 1 Generators:\n",
            "        Fitting AsTypeFeatureGenerator...\n",
            "            Note: Converting 1 features to boolean dtype as they only contain 2 unique values.\n",
            "    Stage 2 Generators:\n",
            "        Fitting FillNaFeatureGenerator...\n",
            "    Stage 3 Generators:\n",
            "        Fitting IdentityFeatureGenerator...\n",
            "        Fitting CategoryFeatureGenerator...\n",
            "            Fitting CategoryMemoryMinimizeFeatureGenerator...\n",
            "        Fitting TextSpecialFeatureGenerator...\n",
            "            Fitting BinnedFeatureGenerator...\n",
            "            Fitting DropDuplicatesFeatureGenerator...\n",
            "        Fitting TextNgramFeatureGenerator...\n",
            "            Fitting CountVectorizer for text features: ['Name']\n",
            "            CountVectorizer fit with vocabulary size = 8\n",
            "    Stage 4 Generators:\n",
            "        Fitting DropUniqueFeatureGenerator...\n",
            "    Stage 5 Generators:\n",
            "        Fitting DropDuplicatesFeatureGenerator...\n",
            "    Types of features in original data (raw dtype, special dtypes):\n",
            "        ('float', [])        : 2 | ['Age', 'Fare']\n",
            "        ('int', [])          : 3 | ['PassengerId', 'Pclass', 'Fsize']\n",
            "        ('object', [])       : 4 | ['Sex', 'Ticket', 'Cabin', 'Embarked']\n",
            "        ('object', ['text']) : 1 | ['Name']\n",
            "    Types of features in processed data (raw dtype, special dtypes):\n",
            "        ('category', [])                    : 3 | ['Ticket', 'Cabin', 'Embarked']\n",
            "        ('float', [])                       : 2 | ['Age', 'Fare']\n",
            "        ('int', [])                         : 3 | ['PassengerId', 'Pclass', 'Fsize']\n",
            "        ('int', ['binned', 'text_special']) : 9 | ['Name.char_count', 'Name.word_count', 'Name.capital_ratio', 'Name.lower_ratio', 'Name.special_ratio', ...]\n",
            "        ('int', ['bool'])                   : 1 | ['Sex']\n",
            "        ('int', ['text_ngram'])             : 9 | ['__nlp__.henry', '__nlp__.john', '__nlp__.master', '__nlp__.miss', '__nlp__.mr', ...]\n",
            "    0.2s = Fit runtime\n",
            "    10 features in original data used to generate 27 features in processed data.\n",
            "    Train Data (Processed) Memory Usage: 0.07 MB (0.0% of available memory)\n",
            "Data preprocessing and feature engineering runtime = 0.17s ...\n",
            "AutoGluon will gauge predictive performance using evaluation metric: 'accuracy'\n",
            "    To change this, specify the eval_metric parameter of Predictor()\n",
            "Automatically generating train/validation split with holdout_frac=0.2, Train Rows: 712, Val Rows: 179\n",
            "User-specified model hyperparameters to be fit:\n",
            "{\n",
            "    'NN_TORCH': {},\n",
            "    'GBM': [{'extra_trees': True, 'ag_args': {'name_suffix': 'XT'}}, {}, 'GBMLarge'],\n",
            "    'CAT': {},\n",
            "    'XGB': {},\n",
            "    'FASTAI': {},\n",
            "    'RF': [{'criterion': 'gini', 'ag_args': {'name_suffix': 'Gini', 'problem_types': ['binary', 'multiclass']}}, {'criterion': 'entropy', 'ag_args': {'name_suffix': 'Entr', 'problem_types': ['binary', 'multiclass']}}, {'criterion': 'squared_error', 'ag_args': {'name_suffix': 'MSE', 'problem_types': ['regression', 'quantile']}}],\n",
            "    'XT': [{'criterion': 'gini', 'ag_args': {'name_suffix': 'Gini', 'problem_types': ['binary', 'multiclass']}}, {'criterion': 'entropy', 'ag_args': {'name_suffix': 'Entr', 'problem_types': ['binary', 'multiclass']}}, {'criterion': 'squared_error', 'ag_args': {'name_suffix': 'MSE', 'problem_types': ['regression', 'quantile']}}],\n",
            "    'KNN': [{'weights': 'uniform', 'ag_args': {'name_suffix': 'Unif'}}, {'weights': 'distance', 'ag_args': {'name_suffix': 'Dist'}}],\n",
            "}\n",
            "Fitting 13 L1 models ...\n",
            "Fitting model: KNeighborsUnif ...\n",
            "/home/coco/anaconda3/envs/py38/lib/python3.8/site-packages/torch/cuda/__init__.py:497: UserWarning: Can't initialize NVML\n",
            "  warnings.warn(\"Can't initialize NVML\")\n",
            "Exception ignored on calling ctypes callback function: <function _ThreadpoolInfo._find_modules_with_dl_iterate_phdr.<locals>.match_module_callback at 0x7f2dd48085e0>\n",
            "Traceback (most recent call last):\n",
            "  File \"/home/coco/anaconda3/envs/py38/lib/python3.8/site-packages/threadpoolctl.py\", line 400, in match_module_callback\n",
            "    self._make_module_from_path(filepath)\n",
            "  File \"/home/coco/anaconda3/envs/py38/lib/python3.8/site-packages/threadpoolctl.py\", line 515, in _make_module_from_path\n",
            "    module = module_class(filepath, prefix, user_api, internal_api)\n",
            "  File \"/home/coco/anaconda3/envs/py38/lib/python3.8/site-packages/threadpoolctl.py\", line 606, in __init__\n",
            "    self.version = self.get_version()\n",
            "  File \"/home/coco/anaconda3/envs/py38/lib/python3.8/site-packages/threadpoolctl.py\", line 646, in get_version\n",
            "    config = get_config().split()\n",
            "AttributeError: 'NoneType' object has no attribute 'split'\n",
            "    0.6536   = Validation score   (accuracy)\n",
            "    0.57s    = Training   runtime\n",
            "    0.03s    = Validation runtime\n",
            "Fitting model: KNeighborsDist ...\n",
            "Exception ignored on calling ctypes callback function: <function _ThreadpoolInfo._find_modules_with_dl_iterate_phdr.<locals>.match_module_callback at 0x7f2dd230f0d0>\n",
            "Traceback (most recent call last):\n",
            "  File \"/home/coco/anaconda3/envs/py38/lib/python3.8/site-packages/threadpoolctl.py\", line 400, in match_module_callback\n",
            "    self._make_module_from_path(filepath)\n",
            "  File \"/home/coco/anaconda3/envs/py38/lib/python3.8/site-packages/threadpoolctl.py\", line 515, in _make_module_from_path\n",
            "    module = module_class(filepath, prefix, user_api, internal_api)\n",
            "  File \"/home/coco/anaconda3/envs/py38/lib/python3.8/site-packages/threadpoolctl.py\", line 606, in __init__\n",
            "    self.version = self.get_version()\n",
            "  File \"/home/coco/anaconda3/envs/py38/lib/python3.8/site-packages/threadpoolctl.py\", line 646, in get_version\n",
            "    config = get_config().split()\n",
            "AttributeError: 'NoneType' object has no attribute 'split'\n",
            "    0.6536   = Validation score   (accuracy)\n",
            "    0.02s    = Training   runtime\n",
            "    0.01s    = Validation runtime\n",
            "Fitting model: LightGBMXT ...\n",
            "    0.8101   = Validation score   (accuracy)\n",
            "    0.21s    = Training   runtime\n",
            "    0.0s     = Validation runtime\n",
            "Fitting model: LightGBM ...\n",
            "    0.8268   = Validation score   (accuracy)\n",
            "    0.21s    = Training   runtime\n",
            "    0.0s     = Validation runtime\n",
            "Fitting model: RandomForestGini ...\n",
            "    0.8156   = Validation score   (accuracy)\n",
            "    0.29s    = Training   runtime\n",
            "    0.03s    = Validation runtime\n",
            "Fitting model: RandomForestEntr ...\n",
            "    0.8212   = Validation score   (accuracy)\n",
            "    0.27s    = Training   runtime\n",
            "    0.02s    = Validation runtime\n",
            "Fitting model: CatBoost ...\n",
            "    0.8268   = Validation score   (accuracy)\n",
            "    0.56s    = Training   runtime\n",
            "    0.0s     = Validation runtime\n",
            "Fitting model: ExtraTreesGini ...\n",
            "    0.8045   = Validation score   (accuracy)\n",
            "    0.27s    = Training   runtime\n",
            "    0.02s    = Validation runtime\n",
            "Fitting model: ExtraTreesEntr ...\n",
            "    0.7989   = Validation score   (accuracy)\n",
            "    0.29s    = Training   runtime\n",
            "    0.03s    = Validation runtime\n",
            "Fitting model: NeuralNetFastAI ...\n",
            "No improvement since epoch 9: early stopping\n",
            "    0.8268   = Validation score   (accuracy)\n",
            "    0.62s    = Training   runtime\n",
            "    0.01s    = Validation runtime\n",
            "Fitting model: XGBoost ...\n",
            "    0.8212   = Validation score   (accuracy)\n",
            "    0.2s     = Training   runtime\n",
            "    0.0s     = Validation runtime\n",
            "Fitting model: NeuralNetTorch ...\n",
            "    0.838    = Validation score   (accuracy)\n",
            "    1.67s    = Training   runtime\n",
            "    0.01s    = Validation runtime\n",
            "Fitting model: LightGBMLarge ...\n",
            "    0.8268   = Validation score   (accuracy)\n",
            "    0.34s    = Training   runtime\n",
            "    0.0s     = Validation runtime\n",
            "Fitting model: WeightedEnsemble_L2 ...\n",
            "    0.8603   = Validation score   (accuracy)\n",
            "    0.33s    = Training   runtime\n",
            "    0.0s     = Validation runtime\n",
            "AutoGluon training complete, total runtime = 6.31s ... Best model: \"WeightedEnsemble_L2\"\n",
            "TabularPredictor saved. To load, use: predictor = TabularPredictor.load(\"AutogluonModels/ag-20230917_141245/\")"
          ]
        }
      ],
      "source": [
        "predictr.fit(_tr) # 학생(predictr)에게 문제(tr)를 줘서 학습을 시킴(predictr.fit())"
      ],
      "id": "41979ff5-73f7-458a-9fc7-de56d1690a54"
    },
    {
      "cell_type": "markdown",
      "metadata": {},
      "source": [
        "`-` 리더보드확인 (모의고사 채점)"
      ],
      "id": "760ce8fe-80bb-4391-a179-baf3b1c6a926"
    },
    {
      "cell_type": "code",
      "execution_count": 6,
      "metadata": {},
      "outputs": [
        {
          "output_type": "stream",
          "name": "stdout",
          "text": [
            "                  model  score_val  pred_time_val  fit_time  pred_time_val_marginal  fit_time_marginal  stack_level  can_infer  fit_order\n",
            "0   WeightedEnsemble_L2   0.860335       0.039553  2.707510                0.000509           0.333600            2       True         14\n",
            "1        NeuralNetTorch   0.837989       0.007419  1.666336                0.007419           1.666336            1       True         12\n",
            "2         LightGBMLarge   0.826816       0.002828  0.336571                0.002828           0.336571            1       True         13\n",
            "3              LightGBM   0.826816       0.003033  0.210566                0.003033           0.210566            1       True          4\n",
            "4              CatBoost   0.826816       0.003410  0.561348                0.003410           0.561348            1       True          7\n",
            "5       NeuralNetFastAI   0.826816       0.006794  0.623764                0.006794           0.623764            1       True         10\n",
            "6               XGBoost   0.821229       0.004909  0.202243                0.004909           0.202243            1       True         11\n",
            "7      RandomForestEntr   0.821229       0.022999  0.271596                0.022999           0.271596            1       True          6\n",
            "8      RandomForestGini   0.815642       0.025080  0.294840                0.025080           0.294840            1       True          5\n",
            "9            LightGBMXT   0.810056       0.002956  0.207451                0.002956           0.207451            1       True          3\n",
            "10       ExtraTreesGini   0.804469       0.022679  0.268605                0.022679           0.268605            1       True          8\n",
            "11       ExtraTreesEntr   0.798883       0.025636  0.289557                0.025636           0.289557            1       True          9\n",
            "12       KNeighborsDist   0.653631       0.013097  0.015496                0.013097           0.015496            1       True          2\n",
            "13       KNeighborsUnif   0.653631       0.033604  0.567649                0.033604           0.567649            1       True          1"
          ]
        }
      ],
      "source": [
        "predictr.leaderboard()"
      ],
      "id": "bfacfa9a-7bad-47f9-8cde-29bac3c07f79"
    },
    {
      "cell_type": "markdown",
      "metadata": {},
      "source": [
        "`-` validation set의 의미:\n",
        "\n",
        "## D. 예측 (predict)\n",
        "\n",
        "`-` 비유: 학습이후에 문제를 푸는 과정으로 비유할 수 있다.\n",
        "\n",
        "`-` training set 을 풀어봄 (predict) $\\to$ 점수 확인"
      ],
      "id": "2579f95c-551d-44f3-ac16-fa0cbcac8802"
    },
    {
      "cell_type": "code",
      "execution_count": 7,
      "metadata": {},
      "outputs": [],
      "source": [
        "(tr.Survived == predictr.predict(_tr)).mean()"
      ],
      "id": "36e5d9fc-069b-46c8-8c2f-b75c06e9c19a"
    },
    {
      "cell_type": "markdown",
      "metadata": {},
      "source": [
        "`-` test set 을 풀어봄 (predict) $\\to$ 점수 확인 하러 캐글에 결과제출"
      ],
      "id": "8774c529-34e7-4dac-8b51-b95b04fa5d3d"
    },
    {
      "cell_type": "code",
      "execution_count": 34,
      "metadata": {},
      "outputs": [],
      "source": [
        "tst.assign(Survived = predictr.predict(_tst)).loc[:,['PassengerId','Survived']]\\\n",
        ".to_csv(\"autogluon(Fsize,Drop)_submission.csv\",index=False)"
      ],
      "id": "a059e8ec-d555-4e8d-aa09-32fd909d497a"
    }
  ],
  "nbformat": 4,
  "nbformat_minor": 5,
  "metadata": {
    "kernelspec": {
      "name": "python3",
      "display_name": "Python 3 (ipykernel)",
      "language": "python"
    },
    "language_info": {
      "name": "python",
      "codemirror_mode": {
        "name": "ipython",
        "version": "3"
      },
      "file_extension": ".py",
      "mimetype": "text/x-python",
      "nbconvert_exporter": "python",
      "pygments_lexer": "ipython3",
      "version": "3.8.18"
    }
  }
}