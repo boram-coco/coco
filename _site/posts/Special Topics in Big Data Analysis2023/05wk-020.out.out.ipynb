{
  "cells": [
    {
      "cell_type": "markdown",
      "metadata": {},
      "source": [
        "# \\[STBDA2023\\] 05wk-020: StandardScaler를 이용한 전처리\n",
        "\n",
        "김보람  \n",
        "2023-10-08\n",
        "\n",
        "> 해당 자료는 전북대학교 최규빈 교수님 2023학년도 2학기\n",
        "> [빅데이터분석특강](https://guebin.github.io/STBDA2023/) 자료임\n",
        "\n",
        "# 05wk-020: StandardScaler를 이용한 전처리\n",
        "\n",
        "최규빈  \n",
        "2023-10-05\n",
        "\n",
        "# 1. 강의영상\n",
        "\n",
        "<https://youtu.be/playlist?list=PLQqh36zP38-zF3fkpXnSHg8H9C9VSq-vC&si=2IRrJzFgKagzxtkO>\n",
        "\n",
        "# 2. Imports"
      ],
      "id": "5ca95445-fb9d-4764-86e4-84bbd7b9429e"
    },
    {
      "cell_type": "code",
      "execution_count": 1,
      "metadata": {},
      "outputs": [],
      "source": [
        "import numpy as np\n",
        "import pandas as pd\n",
        "import sklearn.preprocessing "
      ],
      "id": "cell-4"
    },
    {
      "cell_type": "markdown",
      "metadata": {},
      "source": [
        "# 3. `StandardScaler()`\n",
        "\n",
        "`-` 예제자료 로드"
      ],
      "id": "ff7e6934-d7f8-4045-a206-402bb7c6a79a"
    },
    {
      "cell_type": "code",
      "execution_count": 2,
      "metadata": {
        "tags": []
      },
      "outputs": [],
      "source": [
        "df = pd.read_csv('https://raw.githubusercontent.com/guebin/MP2023/main/posts/employment.csv').loc[:7,['toeic','gpa']]\n",
        "df"
      ],
      "id": "cell-7"
    },
    {
      "cell_type": "markdown",
      "metadata": {},
      "source": [
        "`-` 스케일러를 생성"
      ],
      "id": "a1658685-edee-42dd-9f68-b5032d7a32a8"
    },
    {
      "cell_type": "code",
      "execution_count": 3,
      "metadata": {
        "tags": []
      },
      "outputs": [],
      "source": [
        "sclr = sklearn.preprocessing.StandardScaler()\n",
        "sclr.fit_transform(df)"
      ],
      "id": "cell-9"
    },
    {
      "cell_type": "markdown",
      "metadata": {},
      "source": [
        "`-` 계산식"
      ],
      "id": "8614ec9f-fbfb-421c-9de0-e36ec38a5907"
    },
    {
      "cell_type": "code",
      "execution_count": 4,
      "metadata": {
        "tags": []
      },
      "outputs": [],
      "source": [
        "(df.toeic - df.toeic.mean())/df.toeic.std(ddof=0) # 계산식"
      ],
      "id": "cell-11"
    },
    {
      "cell_type": "markdown",
      "metadata": {},
      "source": [
        "ddof: 자유도 설정하는\n",
        "\n",
        "# 4. 비교\n",
        "\n",
        "`-` `MinMaxScaler`와 `StandardScaler`는 데이터의 스케일을 조정하는 두\n",
        "가지 일반적인 방법이다.\n",
        "\n",
        "1.  **MinMaxScaler**:\n",
        "\n",
        "    -   **작동 원리**: 데이터를 0과 1 사이의 값으로 조정\n",
        "    -   **장점**: 원하는 범위 내로 데이터를 조정할 때 유용. 특히\n",
        "        신경망에서는 활성화 함수의 범위와 일치하도록 입력 값을 조정하는\n",
        "        데 유용.\\[1\\]\n",
        "    -   **단점**: 이상치에 매우 민감하다. 이상치 때문에 전체 데이터의\n",
        "        스케일이 크게 영향받을 수 있음.\n",
        "\n",
        "2.  **StandardScaler**:\n",
        "\n",
        "    -   **작동 원리**: 데이터의 평균을 0, 표준편차를 1로 만드는 방식으로\n",
        "        조정.\n",
        "    -   **장점**: 이상치에 MinMaxScaler보다 덜 민감함. 많은 통계적\n",
        "        기법들, 특히 PCA 같은 선형 알고리즘에서 잘 작동함.\\[2\\]\n",
        "    -   **단점**: MinMaxScaler와 달리, 표준화된 데이터의 값이 특정 범위\n",
        "        내에 있음을 보장하지 않음.\\[3\\]\n",
        "\n",
        "`-` 무식한 설명 (1)\n",
        "\n",
        "-   MinMaxScaler: 컴퓨터공학과, 전자공학과 느낌\n",
        "-   StandardScaler: 통계학과 느낌\n",
        "\n",
        "`-` 무식한 설명 (2)\n",
        "\n",
        "-   MinMaxScaler: 데이터가 기본적으로 0~1 혹은 -1 ~ 1 사이의 범위에\n",
        "    있다고 가정한다.\n",
        "-   StandardScaler: 데이터가 기본적으로 정규분포를 따른다고 가정하는\n",
        "    모형들과 잘 맞는다.\n",
        "\n",
        "`-` **둘 중 어느 것을 선택할지 결정하기 위한 고려사항**:\n",
        "\n",
        "-   이상치가 많으면 `StandardScaler`가 더 적합할 수 있다.\n",
        "-   모델의 알고리즘과 특성에 따라 선택해야 한다. 예를 들어, 신경망은\n",
        "    일반적으로 0과 1 사이의 값이나 -1과 1 사이의 값으로 입력을 받는\n",
        "    활성화 함수를 사용하므로 `MinMaxScaler`가 적합할 수 있다.\n",
        "\n",
        "결론적으로, 두 스케일링 방법 중 어느 것이 더 좋은지는 사용 사례와\n",
        "데이터의 특성에 따라 다르기 때문에, 가능한 경우 둘 다 시도해보고 모델의\n",
        "성능을 비교하는 것이 좋다.\n",
        "\n",
        "`-` **둘 중 어느 것을 선택할지 결정하기 위한 고려사항** – 무식한 설명\n",
        "\n",
        "-   보통은 아무거나 해도 큰일 안남.\n",
        "-   아주 특수한 경우\\[4\\]를 제외하고는 어차피 이론적인 선택기준은 없음.\n",
        "\n",
        "\\[1\\] sigmoid, tanh와 같은 활성화 함수의 출력값과 맞추는 용도\n",
        "\n",
        "\\[2\\] 그야 PCA는 정규분포를 가정하고 만든 알고리즘이라~\n",
        "\n",
        "\\[3\\] MinMaxScaler도 딱히 엄격하게 보장하는건 아니야\n",
        "\n",
        "\\[4\\] Classical PCA"
      ],
      "id": "d1490205-b6bd-4520-ba05-665a72e02b5f"
    }
  ],
  "nbformat": 4,
  "nbformat_minor": 5,
  "metadata": {
    "kernelspec": {
      "name": "python3",
      "display_name": "Python 3 (ipykernel)",
      "language": "python"
    },
    "language_info": {
      "name": "python",
      "codemirror_mode": {
        "name": "ipython",
        "version": "3"
      },
      "file_extension": ".py",
      "mimetype": "text/x-python",
      "nbconvert_exporter": "python",
      "pygments_lexer": "ipython3",
      "version": "3.8.18"
    }
  }
}