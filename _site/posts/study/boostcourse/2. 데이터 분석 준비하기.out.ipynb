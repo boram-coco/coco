{
  "cells": [
    {
      "cell_type": "markdown",
      "metadata": {},
      "source": [
        "# 3: 데이터 분석 준비하기\n",
        "\n",
        "김보람  \n",
        "2022-11-24\n",
        "\n",
        "# Zen of Python\n",
        "\n",
        "-   파이썬의 철학이 잘 담겨있는 Zen of Python을 출력해 봅니다. (아래의\n",
        "    실습을 통해 확인해 보세요!)"
      ],
      "id": "a6b64ed7-9c52-410b-a574-107ef734834b"
    },
    {
      "cell_type": "code",
      "execution_count": 9,
      "metadata": {},
      "outputs": [],
      "source": [
        "import this # improt를 통해 파이썬의 라이브러리나 패키지를 가져올 수 있음"
      ],
      "id": "044d162a"
    },
    {
      "cell_type": "markdown",
      "metadata": {},
      "source": [
        "# boolean\n",
        "\n",
        "-   파이썬에서는 명시적인 것이 암시적인 것보다 낫다라는 철학이 있습니다.\n",
        "\n",
        "-   True나 False는 0과 1로도 표현할 수 있으나 명시적으로 표현하기 위해\n",
        "    True와 False를 사용합니다."
      ],
      "id": "d71d1323-d7f8-45a6-8a33-21ea99a446a8"
    },
    {
      "cell_type": "code",
      "execution_count": 10,
      "metadata": {},
      "outputs": [],
      "source": [
        "True"
      ],
      "id": "a99c9f3f"
    },
    {
      "cell_type": "code",
      "execution_count": 11,
      "metadata": {},
      "outputs": [],
      "source": [
        "False"
      ],
      "id": "ae0521c8"
    },
    {
      "cell_type": "code",
      "execution_count": 12,
      "metadata": {},
      "outputs": [],
      "source": [
        "True == 1"
      ],
      "id": "6e6a5836"
    },
    {
      "cell_type": "code",
      "execution_count": 13,
      "metadata": {},
      "outputs": [],
      "source": [
        "False == 0"
      ],
      "id": "4fde07b9"
    },
    {
      "cell_type": "code",
      "execution_count": 14,
      "metadata": {},
      "outputs": [],
      "source": [
        "True == \"1\" # True와 문자 1과는 다르다! 1따옴포=문자열"
      ],
      "id": "e34ac488"
    },
    {
      "cell_type": "code",
      "execution_count": 15,
      "metadata": {},
      "outputs": [],
      "source": [
        "True != \"1\""
      ],
      "id": "f320048c"
    },
    {
      "cell_type": "code",
      "execution_count": 16,
      "metadata": {},
      "outputs": [],
      "source": [
        "False == \"0\""
      ],
      "id": "828806cc"
    },
    {
      "cell_type": "code",
      "execution_count": 20,
      "metadata": {},
      "outputs": [],
      "source": [
        "False != \"0\""
      ],
      "id": "15a5995a"
    },
    {
      "cell_type": "code",
      "execution_count": 21,
      "metadata": {},
      "outputs": [],
      "source": [
        "True and True"
      ],
      "id": "bd5f9962"
    },
    {
      "cell_type": "code",
      "execution_count": 22,
      "metadata": {},
      "outputs": [],
      "source": [
        "True and False"
      ],
      "id": "89cfe749"
    },
    {
      "cell_type": "code",
      "execution_count": 23,
      "metadata": {},
      "outputs": [],
      "source": [
        "True or False #or연산자: 하나만 true여도 true"
      ],
      "id": "d0938ad7"
    },
    {
      "cell_type": "markdown",
      "metadata": {},
      "source": [
        "# number and String\n",
        "\n",
        "-   숫자 1과 문자 “1”은 다르다! 데이터 타입 “type” 사용"
      ],
      "id": "2c762db2-1411-465a-9426-a69f14f10e36"
    },
    {
      "cell_type": "code",
      "execution_count": 24,
      "metadata": {},
      "outputs": [],
      "source": [
        "\"1\""
      ],
      "id": "ba4e0d65"
    },
    {
      "cell_type": "code",
      "execution_count": 25,
      "metadata": {},
      "outputs": [],
      "source": [
        "type(1)"
      ],
      "id": "5418edc8"
    },
    {
      "cell_type": "code",
      "execution_count": 26,
      "metadata": {},
      "outputs": [],
      "source": [
        "type(\"1\")"
      ],
      "id": "04bf7076"
    },
    {
      "cell_type": "markdown",
      "metadata": {},
      "source": [
        "# Strings and Lists"
      ],
      "id": "d02902b5-3f55-48f8-9fc7-1a469e93e994"
    },
    {
      "cell_type": "code",
      "execution_count": 28,
      "metadata": {},
      "outputs": [],
      "source": [
        "til = \"Today I learned\"\n",
        "til"
      ],
      "id": "47010783"
    },
    {
      "cell_type": "code",
      "execution_count": 29,
      "metadata": {},
      "outputs": [],
      "source": [
        "til.lower() #다 소문자로 변경"
      ],
      "id": "569f3b7d"
    },
    {
      "cell_type": "code",
      "execution_count": 30,
      "metadata": {},
      "outputs": [],
      "source": [
        "til.upper() #대문자 변경"
      ],
      "id": "32039054"
    },
    {
      "cell_type": "code",
      "execution_count": 31,
      "metadata": {},
      "outputs": [],
      "source": [
        "# 비어있는 리스트 만들기. lang라는 변수에 담기\n",
        "lang = []\n",
        "lang"
      ],
      "id": "92c4e019"
    },
    {
      "cell_type": "code",
      "execution_count": 32,
      "metadata": {},
      "outputs": [],
      "source": [
        "lang.append(\"python\")\n",
        "lang.append(\"java\")\n",
        "lang.append(\"c\")\n",
        "lang"
      ],
      "id": "5e90f710"
    },
    {
      "cell_type": "code",
      "execution_count": 33,
      "metadata": {},
      "outputs": [],
      "source": [
        "lang[0] #lnag이라는 변수에 담겨있는 언어명을 인덱싱을 통해 가져오기"
      ],
      "id": "ae713fe9"
    },
    {
      "cell_type": "code",
      "execution_count": 35,
      "metadata": {},
      "outputs": [],
      "source": [
        "lang[1]"
      ],
      "id": "58420815"
    },
    {
      "cell_type": "code",
      "execution_count": 36,
      "metadata": {},
      "outputs": [],
      "source": [
        "lang[-1]"
      ],
      "id": "b04378c5"
    },
    {
      "cell_type": "markdown",
      "metadata": {},
      "source": [
        "# Control Flow\n",
        "\n",
        "-   제어문-조건문, 반복문"
      ],
      "id": "b896e792-ce80-44e4-a218-e52999bff4d1"
    },
    {
      "cell_type": "code",
      "execution_count": 39,
      "metadata": {},
      "outputs": [
        {
          "output_type": "stream",
          "name": "stdout",
          "text": [
            "python\n",
            "java\n",
            "c"
          ]
        }
      ],
      "source": [
        "for i in lang:\n",
        "    print(i)"
      ],
      "id": "b0cbc6ee"
    },
    {
      "cell_type": "code",
      "execution_count": 44,
      "metadata": {},
      "outputs": [
        {
          "output_type": "stream",
          "name": "stdout",
          "text": [
            "python\n",
            "기타\n",
            "기타"
          ]
        }
      ],
      "source": [
        "for i in lang:\n",
        "    if i == \"python\":\n",
        "        print(\"python\")\n",
        "    else:\n",
        "            print(\"기타\") # indent를 맞춰줘야 한다."
      ],
      "id": "5a838d6e"
    },
    {
      "cell_type": "code",
      "execution_count": 55,
      "metadata": {},
      "outputs": [
        {
          "output_type": "stream",
          "name": "stdout",
          "text": [
            "python\n",
            "java\n",
            "c"
          ]
        }
      ],
      "source": [
        "# 특정 횟수만큼 반복문 실행\n",
        "count = len(lang)\n",
        "for i in range(count):\n",
        "    print(lang[i]) "
      ],
      "id": "d99b3807"
    },
    {
      "cell_type": "code",
      "execution_count": 58,
      "metadata": {},
      "outputs": [
        {
          "output_type": "stream",
          "name": "stdout",
          "text": [
            "java\n",
            "python\n",
            "java\n",
            "python\n",
            "java\n",
            "python\n",
            "java\n",
            "python\n",
            "java"
          ]
        }
      ],
      "source": [
        "# 짝수일때 python을 홀수일때 java출력\n",
        "for i in range(1,10): # `1에서 9까지\n",
        "    if i % 2 == 0: #짝수만 출력\n",
        "        print(\"python\")\n",
        "    else:\n",
        "        print(\"java\")"
      ],
      "id": "896a4a4a"
    },
    {
      "cell_type": "code",
      "execution_count": 60,
      "metadata": {},
      "outputs": [
        {
          "output_type": "stream",
          "name": "stdout",
          "text": [
            "0 python\n",
            "1 java\n",
            "2 c"
          ]
        }
      ],
      "source": [
        "# enumerate를 사용하면 인덱스 번호와 원소를 같이 가져온다\n",
        "for i, val in enumerate(lang):\n",
        "    print(i,val)"
      ],
      "id": "7332c330"
    },
    {
      "cell_type": "markdown",
      "metadata": {},
      "source": [
        "### 문자열"
      ],
      "id": "61a7facc-97af-4ff1-ab29-d37cdcaf7fac"
    },
    {
      "cell_type": "code",
      "execution_count": 67,
      "metadata": {},
      "outputs": [],
      "source": [
        "address = \" 경기도 성남시 분당구 불정로 6 NAVER 그린팩토리 16층 \"\n",
        "address"
      ],
      "id": "a68d0699"
    },
    {
      "cell_type": "code",
      "execution_count": 68,
      "metadata": {},
      "outputs": [],
      "source": [
        "# 앞뒤 공백 제거 \n",
        "# 데이터 전처리 시 주로 사용\n",
        "address = address.strip() \n",
        "address"
      ],
      "id": "f9df37b3"
    },
    {
      "cell_type": "code",
      "execution_count": 69,
      "metadata": {},
      "outputs": [],
      "source": [
        "# 문자열 길이\n",
        "len(address)"
      ],
      "id": "5d71edf8"
    },
    {
      "cell_type": "code",
      "execution_count": 74,
      "metadata": {},
      "outputs": [],
      "source": [
        "# 공백으로 문자열 분리\n",
        "address_list = address.split()\n",
        "address_list\n"
      ],
      "id": "3ec45755"
    },
    {
      "cell_type": "markdown",
      "metadata": {},
      "source": [
        "### 슬라이싱, startswith, in 을 통해 문자열에 경기아 있는지 확인하기"
      ],
      "id": "920c143e-0554-414f-91c1-0bd04ed3058f"
    },
    {
      "cell_type": "code",
      "execution_count": 76,
      "metadata": {},
      "outputs": [],
      "source": [
        "address[:2]"
      ],
      "id": "8675d3d8"
    },
    {
      "cell_type": "code",
      "execution_count": 77,
      "metadata": {},
      "outputs": [],
      "source": [
        "address.startswith(\"경기\")"
      ],
      "id": "f5170a10"
    },
    {
      "cell_type": "code",
      "execution_count": 78,
      "metadata": {},
      "outputs": [],
      "source": [
        "\"경기\" in address "
      ],
      "id": "0a4ab8ab"
    },
    {
      "cell_type": "markdown",
      "metadata": {},
      "source": [
        "### 리스트\n",
        "\n",
        "-   문자열에서 쓰는 방법과 비슷한 메소드 등을 사용"
      ],
      "id": "e3bbe5db-e2b0-492f-bb22-927009ec8f2f"
    },
    {
      "cell_type": "code",
      "execution_count": 80,
      "metadata": {},
      "outputs": [],
      "source": [
        "address_list[2]"
      ],
      "id": "e3de8dac"
    },
    {
      "cell_type": "code",
      "execution_count": 82,
      "metadata": {},
      "outputs": [],
      "source": [
        "street = address_list[3]\n",
        "street"
      ],
      "id": "975fab9a"
    },
    {
      "cell_type": "code",
      "execution_count": 83,
      "metadata": {},
      "outputs": [],
      "source": [
        "address_list[-1]"
      ],
      "id": "d7f7958a"
    },
    {
      "cell_type": "code",
      "execution_count": 87,
      "metadata": {},
      "outputs": [],
      "source": [
        "# \"\".join(리스트)를 사용하면 리스트를 공백 문자열로 연결 한다\n",
        "\"-\".join(address_list)"
      ],
      "id": "fc45332b"
    },
    {
      "cell_type": "code",
      "execution_count": 88,
      "metadata": {},
      "outputs": [],
      "source": [
        "\"경기\" in address_list"
      ],
      "id": "1b2f8168"
    },
    {
      "cell_type": "code",
      "execution_count": 89,
      "metadata": {},
      "outputs": [],
      "source": [
        "\"경기도\" in address_list"
      ],
      "id": "12c2aac5"
    },
    {
      "cell_type": "code",
      "execution_count": 90,
      "metadata": {},
      "outputs": [],
      "source": [
        "\"분당구\" in address_list"
      ],
      "id": "1a5866ab"
    },
    {
      "cell_type": "code",
      "execution_count": null,
      "metadata": {},
      "outputs": [],
      "source": [
        "# pandas (패널 데이터 앤 시스템의 약자)\n",
        "# 수식과 그래프를 통해 계산 및 시각화하는 도구\n",
        "# 엑셀을 사용 했을때보다 대용량 데이터를 쓸수 있고 소스 코드 파일만 데이터 프레임 로드를 해서 소스코드들을 재사용 할 수 있다.\n",
        "# 월별 작업과 같은 반복작업.. \n",
        "# 아래에 첨부된 10 minutes to pandas를 한 번씩 실행해보시면 판다스의 전반적인 것을 익힐 수 있습니다.\n",
        "\n",
        "\n",
        "# 추가로 같이 첨부된 Pandas Cheat Sheet도 추천드립니다."
      ],
      "id": "ac36c68e"
    },
    {
      "cell_type": "code",
      "execution_count": 1,
      "metadata": {},
      "outputs": [],
      "source": [
        "import pandas as pd"
      ],
      "id": "85830854"
    },
    {
      "cell_type": "code",
      "execution_count": 2,
      "metadata": {},
      "outputs": [],
      "source": [
        "pd.DataFrame?"
      ],
      "id": "6ad8dae5"
    },
    {
      "cell_type": "code",
      "execution_count": 4,
      "metadata": {},
      "outputs": [],
      "source": [
        "# 공식문서 (도움말) 활용하기\n",
        "pd.DataFrame()\n",
        "# shift+tab+tab"
      ],
      "id": "1fbc1d3d"
    },
    {
      "cell_type": "markdown",
      "metadata": {},
      "source": [
        "### DataFrame"
      ],
      "id": "65bf5977-a1be-4000-87c6-1e5debbeeaea"
    },
    {
      "cell_type": "code",
      "execution_count": 37,
      "metadata": {},
      "outputs": [],
      "source": [
        "df = pd.DataFrame(\n",
        "{\"a\" : [4, 5, 6, 6],\n",
        "\"b\" : [7, 8, 9, 9],\n",
        "\"c\" : [10, 11, 12, 12]},\n",
        "index = [1, 2, 3, 4])\n",
        "df"
      ],
      "id": "cef93d26"
    },
    {
      "cell_type": "markdown",
      "metadata": {},
      "source": [
        "### Series"
      ],
      "id": "9098d145-0b12-476a-9c79-a7dcd597e94e"
    },
    {
      "cell_type": "code",
      "execution_count": 9,
      "metadata": {},
      "outputs": [],
      "source": [
        "# 1차원 자료구조.. (벡터!)\n",
        "df[\"a\"]\n",
        "# 출력된 형태: series 데이터"
      ],
      "id": "3e7f00c9"
    },
    {
      "cell_type": "code",
      "execution_count": 10,
      "metadata": {},
      "outputs": [],
      "source": [
        "# dataframe으로 변경 (2차원 자료구조) (행렬!)\n",
        "df[[\"a\"]]"
      ],
      "id": "84a77e54"
    },
    {
      "cell_type": "markdown",
      "metadata": {},
      "source": [
        "### Subset"
      ],
      "id": "f581d732-8694-41a3-a325-69d5191e72df"
    },
    {
      "cell_type": "code",
      "execution_count": 13,
      "metadata": {},
      "outputs": [],
      "source": [
        "df[df[\"a\"] > 4]"
      ],
      "id": "c79a1542"
    },
    {
      "cell_type": "code",
      "execution_count": 14,
      "metadata": {},
      "outputs": [],
      "source": [
        "df[\"a\"]"
      ],
      "id": "bb800c8d"
    },
    {
      "cell_type": "code",
      "execution_count": 17,
      "metadata": {},
      "outputs": [],
      "source": [
        "df[[\"a\",\"b\"]]\n",
        "# df[\"a\",\"b\"] 이렇게 쓰면 오류가 난다. 대괄호를 또 해주기 "
      ],
      "id": "56ab9047"
    },
    {
      "cell_type": "markdown",
      "metadata": {},
      "source": [
        "### Summarize Data"
      ],
      "id": "83f478b7-dc88-4894-9684-d9828f61162e"
    },
    {
      "cell_type": "code",
      "execution_count": 38,
      "metadata": {},
      "outputs": [],
      "source": [
        "df[\"a\"].value_counts()\n",
        "# 빈도수 계산"
      ],
      "id": "63fa8af3"
    },
    {
      "cell_type": "code",
      "execution_count": 39,
      "metadata": {},
      "outputs": [],
      "source": [
        "len(df)"
      ],
      "id": "1a5c608c"
    },
    {
      "cell_type": "markdown",
      "metadata": {},
      "source": [
        "### Reahaping\n",
        "\n",
        "-   sort_values, drop"
      ],
      "id": "6360a0f9-beb9-40d4-b021-e28c3b064e1f"
    },
    {
      "cell_type": "code",
      "execution_count": 40,
      "metadata": {},
      "outputs": [],
      "source": [
        "df.sort_values(\"a\",ascending=False)\n",
        "#ascending= 역수 "
      ],
      "id": "5a25cc9e"
    },
    {
      "cell_type": "code",
      "execution_count": 41,
      "metadata": {},
      "outputs": [],
      "source": [
        "df = df.drop([\"c\"], axis=1)\n",
        "# 기본 설정은 axis=0 으로 되어있으므로 axis를 바꿔줘야 함 \n",
        "df"
      ],
      "id": "fceee050"
    },
    {
      "cell_type": "markdown",
      "metadata": {},
      "source": [
        "### Group Data\n",
        "\n",
        "-   Groupby, pivot_table"
      ],
      "id": "ef8537da-ed17-49bb-b3dd-8abc2c8bede7"
    },
    {
      "cell_type": "code",
      "execution_count": 42,
      "metadata": {},
      "outputs": [],
      "source": [
        "# \"a\" 컬럼값을 Groupby하여 \"b\"의 컬럼값 구하기\n",
        "df.groupby([\"a\"])[\"b\"].mean()"
      ],
      "id": "95fa93c6"
    },
    {
      "cell_type": "code",
      "execution_count": 43,
      "metadata": {},
      "outputs": [],
      "source": [
        "df.groupby([\"a\"])[\"b\"].agg([\"mean\", \"sum\", \"count\"])"
      ],
      "id": "fad4ee21"
    },
    {
      "cell_type": "code",
      "execution_count": 44,
      "metadata": {},
      "outputs": [],
      "source": [
        "df.groupby([\"a\"])[\"b\"].describe() #요약하는거"
      ],
      "id": "2f1cfec1"
    },
    {
      "cell_type": "code",
      "execution_count": 45,
      "metadata": {},
      "outputs": [],
      "source": [
        "pd.pivot_table(df, index=\"a\", values=\"b\", aggfunc=\"sum\")"
      ],
      "id": "4043374e"
    },
    {
      "cell_type": "markdown",
      "metadata": {},
      "source": [
        "### Plotting"
      ],
      "id": "90952a2c-7c62-4608-9c37-f6a6ad87419c"
    },
    {
      "cell_type": "code",
      "execution_count": 48,
      "metadata": {},
      "outputs": [
        {
          "output_type": "display_data",
          "metadata": {},
          "data": {
            "image/png": "[encoded data removed]"
          }
        }
      ],
      "source": [
        "df.plot.bar()"
      ],
      "id": "1c98ec23"
    },
    {
      "cell_type": "code",
      "execution_count": 1,
      "metadata": {},
      "outputs": [
        {
          "output_type": "stream",
          "name": "stdout",
          "text": [
            "# conda environments:\n",
            "#\n",
            "base                     /home/koinup4/anaconda3\n",
            "py37                  *  /home/koinup4/anaconda3/envs/py37\n",
            "py39                     /home/koinup4/anaconda3/envs/py39\n"
          ]
        }
      ],
      "source": [
        "!conda env list"
      ],
      "id": "983524f2"
    }
  ],
  "nbformat": 4,
  "nbformat_minor": 5,
  "metadata": {
    "kernelspec": {
      "name": "python3",
      "display_name": "Python 3",
      "language": "python"
    },
    "language_info": {
      "name": "python",
      "codemirror_mode": {
        "name": "ipython",
        "version": "3"
      },
      "file_extension": ".py",
      "mimetype": "text/x-python",
      "nbconvert_exporter": "python",
      "pygments_lexer": "ipython3",
      "version": "3.7.16"
    },
    "toc": {
      "base_numbering": "1",
      "nav_menu": {},
      "number_sections": true,
      "sideBar": true,
      "skip_h1_title": false,
      "title_cell": "Table of Contents",
      "title_sidebar": "Contents",
      "toc_cell": false,
      "toc_position": {},
      "toc_section_display": true,
      "toc_window_display": false
    }
  }
}