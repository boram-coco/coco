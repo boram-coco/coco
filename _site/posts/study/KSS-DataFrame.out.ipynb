{
  "cells": [
    {
      "cell_type": "markdown",
      "metadata": {},
      "source": [
        "# \\[한국통계학회\\] 통계계산연구회 튜토리얼\n",
        "\n",
        "김보람  \n",
        "2023-06-29\n",
        "\n",
        "## ref\n",
        "\n",
        "해당 자료는 2023 한국통계학회 통계계산연구회 여인권 교수님 자료임\n",
        "\n",
        "https://github.com/statfunny/Bigdata-statistical-Analysis\n",
        "\n",
        "아래 내용 실행하기 전에 깔아야 할 게 엄청 많음……"
      ],
      "id": "8f08488e-d974-4461-b4be-381ce4c42f8a"
    },
    {
      "cell_type": "code",
      "execution_count": 1,
      "metadata": {},
      "outputs": [],
      "source": [
        "# pip install pyarrow pyspark==3.4.0"
      ],
      "id": "060e33cc-28f3-42a5-ae65-3d8182390b48"
    },
    {
      "cell_type": "markdown",
      "metadata": {},
      "source": [
        "## 효율적인 메모리 관리와 프로그램 작성\n",
        "\n",
        "### 빅데이터분석에서의 메모리 관리\n",
        "\n",
        "-   문자열보다는 범주형\n",
        "-   범위가 제한적인 정수형\n",
        "-   최소한의 실수형\n",
        "-   이진(binary)인 경우 Boolean(True/False)"
      ],
      "id": "d2e47052-2976-41e9-a8dd-588737bb3d18"
    },
    {
      "cell_type": "code",
      "execution_count": 5,
      "metadata": {
        "tags": []
      },
      "outputs": [],
      "source": [
        "import pandas as pd\n",
        "import numpy as np\n"
      ],
      "id": "c33d61e0"
    },
    {
      "cell_type": "code",
      "execution_count": 6,
      "metadata": {
        "tags": []
      },
      "outputs": [],
      "source": [
        "def 데이터프레임생성(size):\n",
        "    df = pd.DataFrame()\n",
        "    df[\"나이\"] = np.random.choice(100,size)\n",
        "    df[\"수행평가1\"] = np.random.choice([\"A\",\"B\",\"C\",\"D\",\"F\"], size)\n",
        "    df[\"수행평가2\"] = np.random.choice([\"상\",\"중\",\"하\"], size)    \n",
        "    df[\"학점\"] = np.random.choice([\"[0,3)\",\"[3,3.5)\",\"[3.5,4)\",\"[4,4.3]\"], size)\n",
        "    df[\"합격확률\"] = np.random.uniform(0,1,size)\n",
        "    df[\"결과\"] = np.random.choice([\"합격\",\"불합격\"],size)\n",
        "    return df\n"
      ],
      "id": "0d414f6d"
    },
    {
      "cell_type": "code",
      "execution_count": 7,
      "metadata": {
        "tags": []
      },
      "outputs": [
        {
          "output_type": "stream",
          "name": "stdout",
          "text": [
            "<class 'pandas.core.frame.DataFrame'>\n",
            "RangeIndex: 1000000 entries, 0 to 999999\n",
            "Data columns (total 6 columns):\n",
            " #   Column  Non-Null Count    Dtype  \n",
            "---  ------  --------------    -----  \n",
            " 0   나이      1000000 non-null  int64  \n",
            " 1   수행평가1   1000000 non-null  object \n",
            " 2   수행평가2   1000000 non-null  object \n",
            " 3   학점      1000000 non-null  object \n",
            " 4   합격확률    1000000 non-null  float64\n",
            " 5   결과      1000000 non-null  object \n",
            "dtypes: float64(1), int64(1), object(4)\n",
            "memory usage: 45.8+ MB"
          ]
        }
      ],
      "source": [
        "df = 데이터프레임생성(1000000)\n",
        "# df = 데이터프레임생성(1_000_000) # 컴마 대신에 언더바를 작성해서 나눠주기\n",
        "df1 = df.copy()\n",
        "df2 = df.copy()\n",
        "df1.info()\n"
      ],
      "id": "a367c7e1"
    },
    {
      "cell_type": "markdown",
      "metadata": {},
      "source": [
        "### 수행작업\n",
        "\n",
        "-   수행평가1, 학점에 따라 데이터를 나누고 그 안에서 나이의 순위\n",
        "-   수행평가1, 학점에 따라 데이터를 나누고 그 안에서 합격확률의 순위\n",
        "-   수행평가1, 학점, 결과에 따라 데이터를 나누고 그 안에서 합격확률의\n",
        "    순위\n",
        "-   수행시간계산\n",
        "    -   %timeit : 반복 작업을 하며 해당 프로그램을 수행하는데 걸린\n",
        "        시간의 평균과 표준편차 제고"
      ],
      "id": "6e802e2f-be54-40fa-87c4-69e081400b5b"
    },
    {
      "cell_type": "code",
      "execution_count": 9,
      "metadata": {
        "tags": []
      },
      "outputs": [
        {
          "output_type": "stream",
          "name": "stdout",
          "text": [
            "157 ms ± 533 µs per loop (mean ± std. dev. of 7 runs, 10 loops each)\n",
            "219 ms ± 2.95 ms per loop (mean ± std. dev. of 7 runs, 1 loop each)\n",
            "256 ms ± 384 µs per loop (mean ± std. dev. of 7 runs, 1 loop each)"
          ]
        }
      ],
      "source": [
        "%timeit df1[\"순위1\"] = df1.groupby([\"수행평가1\",\"학점\"])[\"나이\"].rank()\n",
        "%timeit df1[\"순위2\"] = df1.groupby([\"수행평가1\",\"학점\"])[\"합격확률\"].rank()\n",
        "%timeit df1[\"순위3\"] = df1.groupby([\"수행평가1\",\"학점\",\"결과\"])[\"합격확률\"].rank()\n"
      ],
      "id": "46fac89b"
    },
    {
      "cell_type": "markdown",
      "metadata": {},
      "source": [
        "### string $\\rightarrow$ 범주형"
      ],
      "id": "830d3d8d-1d83-40c3-a03c-c87b8cd463b1"
    },
    {
      "cell_type": "code",
      "execution_count": 10,
      "metadata": {
        "tags": []
      },
      "outputs": [
        {
          "output_type": "stream",
          "name": "stdout",
          "text": [
            "<class 'pandas.core.frame.DataFrame'>\n",
            "RangeIndex: 1000000 entries, 0 to 999999\n",
            "Data columns (total 6 columns):\n",
            " #   Column  Non-Null Count    Dtype   \n",
            "---  ------  --------------    -----   \n",
            " 0   나이      1000000 non-null  int64   \n",
            " 1   수행평가1   1000000 non-null  category\n",
            " 2   수행평가2   1000000 non-null  category\n",
            " 3   학점      1000000 non-null  category\n",
            " 4   합격확률    1000000 non-null  float64 \n",
            " 5   결과      1000000 non-null  object  \n",
            "dtypes: category(3), float64(1), int64(1), object(1)\n",
            "memory usage: 25.7+ MB"
          ]
        }
      ],
      "source": [
        "df2[\"수행평가1\"] = df2[\"수행평가1\"].astype('category')\n",
        "df2[\"수행평가2\"] = df2[\"수행평가2\"].astype('category')\n",
        "df2[\"학점\"] = df2[\"학점\"].astype('category')\n",
        "df2.info()"
      ],
      "id": "ecef0612"
    },
    {
      "cell_type": "markdown",
      "metadata": {},
      "source": [
        "### Downcastrng\n",
        "\n",
        "-   int8: -128~127\n",
        "    -   uint8: 0~255\n",
        "-   int16: -32,768 ~ 32,767\n",
        "    -   uint16: 0~65,535\n",
        "-   int32: -2,147,483,648~2,147,483,647\n",
        "    -   uint32: 0~ 4,294,967,295\n",
        "-   int64: -9,223,372,036,854,775,808 ~ -9,223,372,036,854,775,807\n",
        "    -   uint64: 0~18,446,744,073,709,551,615"
      ],
      "id": "dc35bf0c-5351-43d6-8d9b-f91c4b70dc8e"
    },
    {
      "cell_type": "code",
      "execution_count": 11,
      "metadata": {
        "tags": []
      },
      "outputs": [
        {
          "output_type": "stream",
          "name": "stdout",
          "text": [
            "<class 'pandas.core.frame.DataFrame'>\n",
            "RangeIndex: 1000000 entries, 0 to 999999\n",
            "Data columns (total 6 columns):\n",
            " #   Column  Non-Null Count    Dtype   \n",
            "---  ------  --------------    -----   \n",
            " 0   나이      1000000 non-null  int8    \n",
            " 1   수행평가1   1000000 non-null  category\n",
            " 2   수행평가2   1000000 non-null  category\n",
            " 3   학점      1000000 non-null  category\n",
            " 4   합격확률    1000000 non-null  float64 \n",
            " 5   결과      1000000 non-null  object  \n",
            "dtypes: category(3), float64(1), int8(1), object(1)\n",
            "memory usage: 19.1+ MB"
          ]
        }
      ],
      "source": [
        "df2[\"나이\"] = df2[\"나이\"].astype('int8')\n",
        "df2.info()"
      ],
      "id": "8080f6b6"
    },
    {
      "cell_type": "code",
      "execution_count": 12,
      "metadata": {
        "tags": []
      },
      "outputs": [
        {
          "output_type": "stream",
          "name": "stdout",
          "text": [
            "<class 'pandas.core.frame.DataFrame'>\n",
            "RangeIndex: 1000000 entries, 0 to 999999\n",
            "Data columns (total 6 columns):\n",
            " #   Column  Non-Null Count    Dtype   \n",
            "---  ------  --------------    -----   \n",
            " 0   나이      1000000 non-null  int8    \n",
            " 1   수행평가1   1000000 non-null  category\n",
            " 2   수행평가2   1000000 non-null  category\n",
            " 3   학점      1000000 non-null  category\n",
            " 4   합격확률    1000000 non-null  float32 \n",
            " 5   결과      1000000 non-null  object  \n",
            "dtypes: category(3), float32(1), int8(1), object(1)\n",
            "memory usage: 15.3+ MB"
          ]
        }
      ],
      "source": [
        "df2[\"합격확률\"] = df2[\"합격확률\"].astype('float32')\n",
        "df2.info()"
      ],
      "id": "a59028aa"
    },
    {
      "cell_type": "code",
      "execution_count": 13,
      "metadata": {
        "tags": []
      },
      "outputs": [
        {
          "output_type": "stream",
          "name": "stdout",
          "text": [
            "<class 'pandas.core.frame.DataFrame'>\n",
            "RangeIndex: 1000000 entries, 0 to 999999\n",
            "Data columns (total 6 columns):\n",
            " #   Column  Non-Null Count    Dtype   \n",
            "---  ------  --------------    -----   \n",
            " 0   나이      1000000 non-null  int8    \n",
            " 1   수행평가1   1000000 non-null  category\n",
            " 2   수행평가2   1000000 non-null  category\n",
            " 3   학점      1000000 non-null  category\n",
            " 4   합격확률    1000000 non-null  float32 \n",
            " 5   결과      1000000 non-null  bool    \n",
            "dtypes: bool(1), category(3), float32(1), int8(1)\n",
            "memory usage: 8.6 MB"
          ]
        }
      ],
      "source": [
        "df2[\"결과\"] = df2[\"결과\"].map({\"합격\":True,\"불합격\":False})\n",
        "df2.info()"
      ],
      "id": "340a653d"
    },
    {
      "cell_type": "code",
      "execution_count": 14,
      "metadata": {
        "tags": []
      },
      "outputs": [
        {
          "output_type": "stream",
          "name": "stdout",
          "text": [
            "104 ms ± 377 µs per loop (mean ± std. dev. of 7 runs, 10 loops each)\n",
            "164 ms ± 2.18 ms per loop (mean ± std. dev. of 7 runs, 10 loops each)\n",
            "169 ms ± 1.55 ms per loop (mean ± std. dev. of 7 runs, 10 loops each)"
          ]
        }
      ],
      "source": [
        "%timeit df2[\"순위1\"] = df2.groupby([\"수행평가1\",\"학점\"])[\"나이\"].rank()\n",
        "%timeit df2[\"순위2\"] = df2.groupby([\"수행평가1\",\"학점\"])[\"합격확률\"].rank()\n",
        "%timeit df2[\"순위3\"] = df2.groupby([\"수행평가1\",\"학점\",\"결과\"])[\"합격확률\"].rank()"
      ],
      "id": "37084661"
    },
    {
      "cell_type": "code",
      "execution_count": 15,
      "metadata": {
        "tags": []
      },
      "outputs": [],
      "source": [
        "## 파일 저장 및 읽기\n",
        "변수 = [\"나이\",\"수행평가1\",\"수행평가2\",\"학점\",\"합격확률\",\"결과\"] \n",
        "df1 = df1[변수]\n",
        "df2 = df2[변수]\n",
        "df1.to_csv(\"BSA03_df1.csv\",index=False)\n",
        "df2.to_csv('BSA03_df2.csv',index=False)\n",
        "df1csv = pd.read_csv('BSA03_df1.csv')\n",
        "df2csv = pd.read_csv('BSA03_df2.csv')\n"
      ],
      "id": "cde4ae81"
    },
    {
      "cell_type": "markdown",
      "metadata": {},
      "source": [
        "`df1.to_csv` : csv파일로 저장해라."
      ],
      "id": "ad08480b-1d44-40ec-8272-cd12004a7b54"
    },
    {
      "cell_type": "code",
      "execution_count": 16,
      "metadata": {
        "tags": []
      },
      "outputs": [
        {
          "output_type": "stream",
          "name": "stdout",
          "text": [
            "<class 'pandas.core.frame.DataFrame'>\n",
            "RangeIndex: 1000000 entries, 0 to 999999\n",
            "Data columns (total 6 columns):\n",
            " #   Column  Non-Null Count    Dtype  \n",
            "---  ------  --------------    -----  \n",
            " 0   나이      1000000 non-null  int64  \n",
            " 1   수행평가1   1000000 non-null  object \n",
            " 2   수행평가2   1000000 non-null  object \n",
            " 3   학점      1000000 non-null  object \n",
            " 4   합격확률    1000000 non-null  float64\n",
            " 5   결과      1000000 non-null  object \n",
            "dtypes: float64(1), int64(1), object(4)\n",
            "memory usage: 45.8+ MB"
          ]
        }
      ],
      "source": [
        "df1csv.info()"
      ],
      "id": "2dd5e94e"
    },
    {
      "cell_type": "code",
      "execution_count": 17,
      "metadata": {
        "tags": []
      },
      "outputs": [
        {
          "output_type": "stream",
          "name": "stdout",
          "text": [
            "<class 'pandas.core.frame.DataFrame'>\n",
            "RangeIndex: 1000000 entries, 0 to 999999\n",
            "Data columns (total 6 columns):\n",
            " #   Column  Non-Null Count    Dtype  \n",
            "---  ------  --------------    -----  \n",
            " 0   나이      1000000 non-null  int64  \n",
            " 1   수행평가1   1000000 non-null  object \n",
            " 2   수행평가2   1000000 non-null  object \n",
            " 3   학점      1000000 non-null  object \n",
            " 4   합격확률    1000000 non-null  float64\n",
            " 5   결과      1000000 non-null  bool   \n",
            "dtypes: bool(1), float64(1), int64(1), object(3)\n",
            "memory usage: 39.1+ MB"
          ]
        }
      ],
      "source": [
        "df2csv.info()"
      ],
      "id": "3be1740c"
    },
    {
      "cell_type": "code",
      "execution_count": 13,
      "metadata": {
        "tags": []
      },
      "outputs": [
        {
          "output_type": "stream",
          "name": "stdout",
          "text": [
            "<class 'pandas.core.frame.DataFrame'>\n",
            "RangeIndex: 1000000 entries, 0 to 999999\n",
            "Data columns (total 6 columns):\n",
            " #   Column  Non-Null Count    Dtype   \n",
            "---  ------  --------------    -----   \n",
            " 0   나이      1000000 non-null  int8    \n",
            " 1   수행평가1   1000000 non-null  category\n",
            " 2   수행평가2   1000000 non-null  category\n",
            " 3   학점      1000000 non-null  category\n",
            " 4   합격확률    1000000 non-null  float32 \n",
            " 5   결과      1000000 non-null  bool    \n",
            "dtypes: bool(1), category(3), float32(1), int8(1)\n",
            "memory usage: 8.6 MB"
          ]
        }
      ],
      "source": [
        "# pip install pyarrow\n",
        "df2.to_parquet('BSA03_df2.parquet')\n",
        "df2pqt = pd.read_parquet('BSA03_df2.parquet')\n",
        "df2pqt.info()"
      ],
      "id": "acf99203"
    },
    {
      "cell_type": "markdown",
      "metadata": {},
      "source": [
        "-   pandas에서 제공함\n",
        "\n",
        "## 효율적인 프로그램\n",
        "\n",
        "> 반복적인 작업 진행시 for문 말고 아래와 같은 문법 사용\n",
        "\n",
        "### 수행작업\n",
        "\n",
        "“평가”라는 새로운 변수에 - “나이”가 65세 미만이거나 “합격확률”이 0.6\n",
        "이상이고 “학점”이 \\[4,4.3\\]이면 “수행평가1”를 - 위 조건이 아니면\n",
        "“수행평가2”를 대입"
      ],
      "id": "98227795-d502-42ff-a5b0-373a4f4f4e88"
    },
    {
      "cell_type": "code",
      "execution_count": 14,
      "metadata": {
        "tags": []
      },
      "outputs": [],
      "source": [
        "def 변수추가(행자료):\n",
        "    if 행자료[\"나이\"] < 65:\n",
        "        return 행자료[\"수행평가1\"]\n",
        "    if (행자료[\"합격확률\"] >= 0.6) & (행자료[\"학점\"] == \"[4,4.3]\"):\n",
        "        return 행자료[\"수행평가1\"]\n",
        "    return(행자료[\"수행평가2\"])\n"
      ],
      "id": "e9be68e6"
    },
    {
      "cell_type": "markdown",
      "metadata": {},
      "source": [
        "### Loop를 이용한 프로그램"
      ],
      "id": "9355cba9-edaf-471c-89f2-48230ff506fc"
    },
    {
      "cell_type": "code",
      "execution_count": 15,
      "metadata": {
        "tags": []
      },
      "outputs": [],
      "source": [
        "df =데이터프레임생성(100_000)\n",
        "df1 = df.copy()\n",
        "df2 = df.copy()\n",
        "df3 = df.copy()"
      ],
      "id": "a2839d4a"
    },
    {
      "cell_type": "code",
      "execution_count": 16,
      "metadata": {
        "tags": []
      },
      "outputs": [
        {
          "output_type": "stream",
          "name": "stdout",
          "text": [
            "17.3 s ± 1.05 s per loop (mean ± std. dev. of 7 runs, 1 loop each)"
          ]
        }
      ],
      "source": [
        "%%timeit\n",
        "for index, row in df1.iterrows():\n",
        "    df1.loc[index,\"평가\"] = 변수추가(row)"
      ],
      "id": "e3ebc199"
    },
    {
      "cell_type": "markdown",
      "metadata": {},
      "source": [
        "### Apply를 이용한 프로그램"
      ],
      "id": "fba56f50-3355-43a5-87bd-1f69f8052230"
    },
    {
      "cell_type": "code",
      "execution_count": 17,
      "metadata": {
        "tags": []
      },
      "outputs": [
        {
          "output_type": "stream",
          "name": "stdout",
          "text": [
            "1.54 s ± 104 ms per loop (mean ± std. dev. of 7 runs, 1 loop each)"
          ]
        }
      ],
      "source": [
        "%%timeit\n",
        "df2[\"평가\"] = df2.apply(변수추가,axis=1)"
      ],
      "id": "f5ab6861"
    },
    {
      "cell_type": "markdown",
      "metadata": {},
      "source": [
        "### Vectorized를 이용한 프로그램"
      ],
      "id": "caf51a5e-9e72-4923-bc42-6b58f3dc5800"
    },
    {
      "cell_type": "code",
      "execution_count": 18,
      "metadata": {
        "tags": []
      },
      "outputs": [],
      "source": [
        "(df3[\"나이\"] < 65) | ((df3[\"합격확률\"] >= 0.6) & (df3[\"학점\"] == \"[4,4.3]\"))"
      ],
      "id": "3852add4"
    },
    {
      "cell_type": "code",
      "execution_count": 19,
      "metadata": {
        "tags": []
      },
      "outputs": [
        {
          "output_type": "stream",
          "name": "stdout",
          "text": [
            "23.2 ms ± 1.66 ms per loop (mean ± std. dev. of 7 runs, 10 loops each)"
          ]
        }
      ],
      "source": [
        "%%timeit\n",
        "df3[\"평가\"] = df3[\"수행평가2\"]\n",
        "조건 = (df3[\"나이\"] < 65) | ((df3[\"합격확률\"] >= 0.6) & (df3[\"학점\"] == \"[4,4.3]\"))\n",
        "df3.loc[조건,\"평가\"] = df[\"수행평가1\"]"
      ],
      "id": "c41c2f47"
    },
    {
      "cell_type": "markdown",
      "metadata": {},
      "source": [
        "-   Vectorized로 바꾸는게 가장 빠르게 할 수 있음.\n",
        "\n",
        "## Set up the environment variables for Pyspark, Java, Spark, and python\n",
        "\n",
        "-   오류 발생 시\n",
        "\n",
        "``` python\n",
        "import os\n",
        "import sys\n",
        "os.environ['JAVA_HOME'] = \"C:\\Java\"\n",
        "os.environ['SPARK_HOME'] = \"C:\\spark-3.4.0\"\n",
        "os.environ['PYLIB'] = \"C:\\spark-3.4.0\\python\\lib\"\n",
        "sys.path.insert(0,os.environ['PYLIB']+\"\\py4j-0.10.9.7-src.zip\")\n",
        "sys.path.insert(0,os.environ['PYLIB']+\"\\pyspark.zip\")\n",
        "```"
      ],
      "id": "5e0c90a4-bf73-46d6-afc7-20d35aa8a10d"
    },
    {
      "cell_type": "code",
      "execution_count": 20,
      "metadata": {
        "tags": []
      },
      "outputs": [],
      "source": [
        "import pyspark\n",
        "from pyspark.sql import SparkSession"
      ],
      "id": "66e03cff-32f0-46f9-a07e-e61894dc6709"
    },
    {
      "cell_type": "code",
      "execution_count": 21,
      "metadata": {
        "tags": []
      },
      "outputs": [],
      "source": [
        "스파크 = SparkSession.builder.appName('Test').getOrCreate()\n",
        "스파크"
      ],
      "id": "c51f6cd2-f92d-47cb-9890-f261ec29df0a"
    },
    {
      "cell_type": "markdown",
      "metadata": {},
      "source": [
        "### 웹브라우저에서 localhost:4040 연결\n",
        "\n",
        "### Pyspark에서 hdfs 데이터 불러오기\n",
        "\n",
        "-   CMD에서 start-dfs.cmd와 start-yarn.cmd 실행 후\n",
        "-   Spark 경로를 찾지 못하는 경우\n",
        "\n",
        "``` python\n",
        "!pip install findspark\n",
        "import findspark\n",
        "import os\n",
        "findspark.find()\n",
        "findspark.init(os.environ.get(\"SPARK_HOME\"))\n",
        "```"
      ],
      "id": "82e3a096-7c5b-4d77-82d8-67c8b958a580"
    },
    {
      "cell_type": "code",
      "execution_count": 22,
      "metadata": {
        "tags": []
      },
      "outputs": [
        {
          "output_type": "stream",
          "name": "stdout",
          "text": [
            "+----+---------+---------+-------+-------------------+------+\n",
            "| _c0|      _c1|      _c2|    _c3|                _c4|   _c5|\n",
            "+----+---------+---------+-------+-------------------+------+\n",
            "|나이|수행평가1|수행평가2|   학점|           합격확률|  결과|\n",
            "|  19|        C|       하|  [0,3)| 0.1704850998911155|불합격|\n",
            "|  78|        F|       중|[3,3.5)| 0.7007295241834984|불합격|\n",
            "|  78|        F|       중|[4,4.3]|0.06793823954810418|불합격|\n",
            "|  23|        A|       중|[3.5,4)| 0.8262506446089442|  합격|\n",
            "|  97|        C|       하|[4,4.3]| 0.5911258463622218|불합격|\n",
            "|  45|        B|       하|  [0,3)| 0.3677844602679712|  합격|\n",
            "|  66|        A|       하|[3,3.5)| 0.9721303956886912|  합격|\n",
            "|  66|        F|       중|[4,4.3]|0.33333421672000396|  합격|\n",
            "|  61|        A|       상|[3,3.5)| 0.7048925310189916|불합격|\n",
            "+----+---------+---------+-------+-------------------+------+\n",
            "only showing top 10 rows\n"
          ]
        }
      ],
      "source": [
        "sparkDF1 = 스파크.read.csv(\"hdfs://localhost:9000/Spark/BSA03_df1.csv\")\n",
        "sparkDF1.show(10)"
      ],
      "id": "ee7d29e6-cd0d-459d-ab48-8e85242f0306"
    },
    {
      "cell_type": "code",
      "execution_count": 23,
      "metadata": {
        "tags": []
      },
      "outputs": [
        {
          "output_type": "stream",
          "name": "stdout",
          "text": [
            "root\n",
            " |-- _c0: string (nullable = true)\n",
            " |-- _c1: string (nullable = true)\n",
            " |-- _c2: string (nullable = true)\n",
            " |-- _c3: string (nullable = true)\n",
            " |-- _c4: string (nullable = true)\n",
            " |-- _c5: string (nullable = true)\n"
          ]
        }
      ],
      "source": [
        "sparkDF1.printSchema()"
      ],
      "id": "53ae871d-9418-4d02-ae30-cbd6145dd047"
    },
    {
      "cell_type": "code",
      "execution_count": 24,
      "metadata": {
        "tags": []
      },
      "outputs": [
        {
          "output_type": "stream",
          "name": "stdout",
          "text": [
            "root\n",
            " |-- 나이: integer (nullable = true)\n",
            " |-- 수행평가1: string (nullable = true)\n",
            " |-- 수행평가2: string (nullable = true)\n",
            " |-- 학점: string (nullable = true)\n",
            " |-- 합격확률: double (nullable = true)\n",
            " |-- 결과: string (nullable = true)\n"
          ]
        }
      ],
      "source": [
        "sparkDF2 = 스파크.read.csv(\"hdfs://localhost:9000/Spark/BSA03_df1.csv\", header=True, encoding=\"utf-8\", inferSchema=\"true\")\n",
        "#sparkDF2 = 스파크.read.option('encoding','utf-8').option('header',True).option(inferSchema='True') \\\n",
        "#    .csv(\"hdfs://localhost:9000/Spark/BSA03_df1.csv\")\n",
        "sparkDF2.printSchema()"
      ],
      "id": "b1c65417-97f3-40cd-80f6-ca687d478084"
    },
    {
      "cell_type": "markdown",
      "metadata": {},
      "source": [
        "`-` 하둡에 설치된 데이터를 가지고 올 때\n",
        "\n",
        "-   `inferSchema=\"true\"` 설정을 해주면 형태에 맞게 가지고 옴 (위에서는\n",
        "    string으로 다 가져옴)\n",
        "\n",
        "### 여러개의 CSV 파일 읽기\n",
        "\n",
        "-   can also read multiple csv files, just pass all file names by\n",
        "    separating comma as a path\n",
        "\n",
        "``` python\n",
        "sparkDF = 스파크.read.csv(\"path1,path2,path3\")\n",
        "```\n",
        "\n",
        "### 직접 읽을 데이터의 type 지정\n",
        "\n",
        "``` python\n",
        "import pyspark\n",
        "from pyspark.sql.types import StructType,StructField, StringType, IntegerType \n",
        "from pyspark.sql.types import ArrayType, DoubleType, BooleanType\n",
        "\n",
        "스키마 = StructType() \\\n",
        "    .add(\"나이\",IntegerType(),True) \\\n",
        "    .add(\"수행평가1\",StringType(),True) \\\n",
        "    .add(\"수행평가2\",StringType(),True) \\\n",
        "    .add(\"학점\",StringType(),True) \\\n",
        "    .add(\"합격확률\",DoubleType(),True) \\\n",
        "    .add(\"결과\",StringType(),True)\n",
        "\n",
        "sparkDF = 스파크.read.format('csv')\\\n",
        "    .option('header',True).schema(스키마)\\\n",
        "    load(\"hdfs://localhost:9000/Spark/BSA03_df1.csv\")\n",
        "```"
      ],
      "id": "43de0a0f-5c42-45a2-9001-1c44f2da4b4e"
    },
    {
      "cell_type": "code",
      "execution_count": 25,
      "metadata": {
        "tags": []
      },
      "outputs": [
        {
          "output_type": "stream",
          "name": "stdout",
          "text": [
            "+----+---------+---------+-------+----------+-----+\n",
            "|나이|수행평가1|수행평가2|   학점|  합격확률| 결과|\n",
            "+----+---------+---------+-------+----------+-----+\n",
            "|  19|        C|       하|  [0,3)| 0.1704851|false|\n",
            "|  78|        F|       중|[3,3.5)|0.70072955|false|\n",
            "|  78|        F|       중|[4,4.3]|0.06793824|false|\n",
            "|  23|        A|       중|[3.5,4)| 0.8262507| true|\n",
            "|  97|        C|       하|[4,4.3]|0.59112585|false|\n",
            "|  45|        B|       하|  [0,3)|0.36778447| true|\n",
            "|  66|        A|       하|[3,3.5)| 0.9721304| true|\n",
            "|  66|        F|       중|[4,4.3]| 0.3333342| true|\n",
            "|  61|        A|       상|[3,3.5)| 0.7048925|false|\n",
            "|  46|        C|       상|[3,3.5)| 0.8856867|false|\n",
            "+----+---------+---------+-------+----------+-----+\n",
            "only showing top 10 rows\n"
          ]
        }
      ],
      "source": [
        "sparkDF3 = 스파크.read.parquet(\"hdfs://localhost:9000/Spark/BSA03_df2.parquet\")\n",
        "sparkDF3.show(10)"
      ],
      "id": "a0db8e7b-3499-45ee-ac6d-909bd08a8642"
    },
    {
      "cell_type": "markdown",
      "metadata": {},
      "source": [
        "### DataFrame을 다른 형식으로 변환하고 저장/불러오기\n",
        "\n",
        "-   pandas DataFrame $\\Longleftrightarrow$ spark DataFrame\n",
        "-   csv $\\Longleftrightarrow$ parquet"
      ],
      "id": "4ae6968f-37e7-4bef-98b1-e369af362f6c"
    },
    {
      "cell_type": "code",
      "execution_count": 26,
      "metadata": {
        "tags": []
      },
      "outputs": [],
      "source": [
        "pandasDF_spark = sparkDF2.toPandas()\n",
        "pandasDF_spark.head()"
      ],
      "id": "6ef8b49f-f7f9-44e8-a78e-0a959a209fae"
    },
    {
      "cell_type": "markdown",
      "metadata": {},
      "source": [
        "#### pandas DataFrame을 spark DataFrame으로\n",
        "\n",
        "Apache Spark uses Apache Arrow which is an in-memory columnar format to\n",
        "transfer the data between Python and JVM. You need to enable to use\n",
        "Arrow as this is disabled by default and have Apache Arrow (PyArrow)\n",
        "install on all Spark cluster nodes using pip install pyspark\\[sql\\] or\n",
        "by directly downloading from Apache Arrow for Python."
      ],
      "id": "ec9769de-2049-43c4-a035-5618307cc670"
    },
    {
      "cell_type": "code",
      "execution_count": 27,
      "metadata": {
        "tags": []
      },
      "outputs": [],
      "source": [
        "### !pip install pyarrow\n",
        "스파크.conf.set(\"spark.sql.execution.arrow.pyspark.enabled\",\"true\")\n",
        "## pandas 2.0 : AttributeError: 'DataFrame' object has no attribute 'iteritems'\n",
        "## -->  iteritems was removed in pandas 2.0 ==> pandas downgrade \n",
        "#sparkDF_pandas = 스파크.createDataFrame(df1csv)\n",
        "#sparkDF_pandas.show(10)"
      ],
      "id": "642adf00-cf4e-4730-954e-88aa88fe4c79"
    },
    {
      "cell_type": "markdown",
      "metadata": {},
      "source": [
        "#### When an error occurs,\n",
        "\n",
        "Spark automatically fallback to non-Arrow optimization implementation,\n",
        "this can be controlled by\n",
        "spark.sql.execution.arrow.pyspark.fallback.enabled.\n",
        "\n",
        "``` pythpn\n",
        "spark.conf.set(\"spark.sql.execution.arrow.pyspark.fallback.enabled\",\"true\")\n",
        "```\n",
        "\n",
        "### Pyspark vs Python\n",
        "\n",
        "-   pyspark는 scala로 만든 spark의 python 버전\n",
        "-   scala는 JVM object $\\rightarrow$ pyspark 또한 JVM object\n",
        "-   python은 python object\n",
        "-   python(pandas) $\\rightarrow$ py4J $\\rightarrow$ scala(pyspark) :\n",
        "    오류가 자주 발생\n",
        "\n",
        "#### Spark에서\n",
        "\n",
        "-   sparkDF.write.csv(“경로”)\n",
        "-   sparkDF.format(‘csv’).save(“경로”)\n",
        "-   기존 파일이 있는 경우\n",
        "    -   덮어쓰기: sparkDF.write.mode(‘overwrite’).csv(“경로”)\n",
        "    -   추가하기: sparkDF.write.mode(‘append’).csv(“경로”)\n",
        "    -   무시하기: sparkDF.write.mode(‘ignore’).csv(“경로”)\n",
        "    -   오류발생: sparkDF.write.mode(‘error’).csv(“경로”) $\\Leftarrow$\n",
        "        default"
      ],
      "id": "fc26568b-9295-4696-9b86-2e5fe2e371b3"
    },
    {
      "cell_type": "code",
      "execution_count": null,
      "metadata": {
        "tags": []
      },
      "outputs": [],
      "source": [
        "sparkDF3.write.csv(\"hdfs://localhost:9000/Test/csv\")\n",
        "sparkDF3.write.parquet(\"hdfs://localhost:9000/Test/parquet\")"
      ],
      "id": "b1eb46b4-005c-413d-8382-ad6b2fb66c52"
    },
    {
      "cell_type": "markdown",
      "metadata": {},
      "source": [
        "### Pyspark 기본 예제"
      ],
      "id": "d421ecad-a914-4d9a-9763-78beb0b2cbb7"
    },
    {
      "cell_type": "code",
      "execution_count": 28,
      "metadata": {
        "tags": []
      },
      "outputs": [
        {
          "output_type": "stream",
          "name": "stdout",
          "text": [
            "+---+------+----+------+-------+--------+-------+-------+--------+\n",
            "| id|gender|educ|jobcat| salary|salbegin|jobtime|prevexp|minority|\n",
            "+---+------+----+------+-------+--------+-------+-------+--------+\n",
            "|  1|  남성|  15|경영자|57000.0|   27000|     98|    144|      No|\n",
            "|  2|  남성|  16|사무직|40200.0|   18750|     98|     36|      No|\n",
            "|  3|  여성|  12|사무직|21450.0|   12000|     98|    381|      No|\n",
            "|  4|  여성|   8|사무직|21900.0|   13200|     98|    190|      No|\n",
            "|  5|  남성|  15|사무직|45000.0|   21000|     98|    138|      No|\n",
            "|  6|  남성|  15|사무직|32100.0|   13500|     98|     67|      No|\n",
            "|  7|  남성|  15|사무직|36000.0|   18750|     98|    114|      No|\n",
            "|  8|  여성|  12|사무직|21900.0|    9750|     98|      0|      No|\n",
            "|  9|  여성|  15|사무직|27900.0|   12750|     98|    115|      No|\n",
            "| 10|  여성|  12|사무직|24000.0|   13500|     98|    244|      No|\n",
            "+---+------+----+------+-------+--------+-------+-------+--------+\n",
            "only showing top 10 rows\n"
          ]
        }
      ],
      "source": [
        "df_hdfs = 스파크.read.csv(\"hdfs://localhost:9000/Spark/Employee.csv\", header=True, encoding='cp949', inferSchema='true')\n",
        "df_hdfs.show(10)"
      ],
      "id": "de261607-54bf-4b05-a667-b918db6e6188"
    },
    {
      "cell_type": "code",
      "execution_count": 29,
      "metadata": {
        "tags": []
      },
      "outputs": [
        {
          "output_type": "stream",
          "name": "stdout",
          "text": [
            "+---+------+----+------+--------+--------+-------+-------+--------+\n",
            "| id|gender|educ|jobcat|  salary|salbegin|jobtime|prevexp|minority|\n",
            "+---+------+----+------+--------+--------+-------+-------+--------+\n",
            "|  1|  남성|  15|경영자| 57000.0|   27000|     98|    144|      No|\n",
            "| 18|  남성|  16|경영자|103750.0|   27510|     97|     70|      No|\n",
            "| 27|  남성|  19|경영자| 60375.0|   27480|     96|     96|      No|\n",
            "| 29|  남성|  19|경영자|135000.0|   79980|     96|    199|      No|\n",
            "| 32|  남성|  19|경영자|110625.0|   45000|     96|    120|      No|\n",
            "| 34|  남성|  19|경영자| 92000.0|   39990|     96|    175|      No|\n",
            "| 35|  남성|  17|경영자| 81250.0|   30000|     96|     18|      No|\n",
            "| 50|  남성|  16|경영자| 60000.0|   23730|     94|     59|      No|\n",
            "| 53|  남성|  18|경영자| 73750.0|   26250|     94|     56|      No|\n",
            "| 62|  남성|  16|경영자| 48000.0|   21750|     93|     22|      No|\n",
            "+---+------+----+------+--------+--------+-------+-------+--------+\n",
            "only showing top 10 rows\n"
          ]
        }
      ],
      "source": [
        "df_hdfs.where('jobcat==\"경영자\"').show(10)"
      ],
      "id": "031fe264-27d1-45c4-8d33-8c9cf19c054d"
    },
    {
      "cell_type": "code",
      "execution_count": 30,
      "metadata": {
        "tags": []
      },
      "outputs": [
        {
          "output_type": "stream",
          "name": "stdout",
          "text": [
            "+---+------+----+------+-------+--------+-------+-------+--------+------------------+------------------+\n",
            "| id|gender|educ|jobcat| salary|salbegin|jobtime|prevexp|minority|           Lsalary|          LBsalary|\n",
            "+---+------+----+------+-------+--------+-------+-------+--------+------------------+------------------+\n",
            "|  1|  남성|  15|경영자|57000.0|   27000|     98|    144|      No|10.950806546816688|10.203592144986466|\n",
            "|  2|  남성|  16|사무직|40200.0|   18750|     98|     36|      No|10.601622274607113| 9.838949031398556|\n",
            "|  3|  여성|  12|사무직|21450.0|   12000|     98|    381|      No| 9.973479924356162| 9.392661928770137|\n",
            "|  4|  여성|   8|사무직|21900.0|   13200|     98|    190|      No| 9.994241915804592| 9.487972108574462|\n",
            "|  5|  남성|  15|사무직|45000.0|   21000|     98|    138|      No|10.714417768752456|  9.95227771670556|\n",
            "+---+------+----+------+-------+--------+-------+-------+--------+------------------+------------------+\n",
            "only showing top 5 rows\n"
          ]
        }
      ],
      "source": [
        "from pyspark.sql.functions import col, log, exp, when\n",
        "df_hdfs.withColumn(\"Lsalary\",log(\"salary\")).withColumn(\"LBsalary\",log(\"salbegin\")).show(5)"
      ],
      "id": "2f3087e7-8216-47ec-9922-7e12339dfa78"
    },
    {
      "cell_type": "code",
      "execution_count": 31,
      "metadata": {
        "tags": []
      },
      "outputs": [
        {
          "output_type": "stream",
          "name": "stdout",
          "text": [
            "+------+------+\n",
            "|gender|jobcat|\n",
            "+------+------+\n",
            "|  남성|사무직|\n",
            "|  여성|사무직|\n",
            "|  여성|경영자|\n",
            "|  남성|경영자|\n",
            "|  남성|관리직|\n",
            "+------+------+\n"
          ]
        }
      ],
      "source": [
        "df_hdfs.select([\"gender\",\"jobcat\"]).distinct().show()"
      ],
      "id": "28333262-5fce-4714-9032-3be06489124e"
    },
    {
      "cell_type": "code",
      "execution_count": 32,
      "metadata": {
        "tags": []
      },
      "outputs": [
        {
          "output_type": "stream",
          "name": "stdout",
          "text": [
            "+---+------+----+------+-------+--------+-------+-------+--------+----+\n",
            "| id|gender|educ|jobcat| salary|salbegin|jobtime|prevexp|minority| Job|\n",
            "+---+------+----+------+-------+--------+-------+-------+--------+----+\n",
            "|  1|  남성|  15|경영자|57000.0|   27000|     98|    144|      No|임원|\n",
            "|  2|  남성|  16|사무직|40200.0|   18750|     98|     36|      No|사원|\n",
            "|  3|  여성|  12|사무직|21450.0|   12000|     98|    381|      No|사원|\n",
            "|  4|  여성|   8|사무직|21900.0|   13200|     98|    190|      No|사원|\n",
            "|  5|  남성|  15|사무직|45000.0|   21000|     98|    138|      No|사원|\n",
            "+---+------+----+------+-------+--------+-------+-------+--------+----+\n",
            "only showing top 5 rows\n"
          ]
        }
      ],
      "source": [
        "df_hdfs.withColumn(\"Job\",when(col(\"jobcat\")==\"경영자\",\"임원\").otherwise(\"사원\")).show(5)"
      ],
      "id": "ffa4ec78-c262-46c0-9b5f-3b03fb175af2"
    },
    {
      "cell_type": "markdown",
      "metadata": {},
      "source": [
        "### How to use SQL in Pyspark\n",
        "\n",
        "-   DF: DSL(domain specific language)\n",
        "-   Tables: pure SQL(Structured Query Language)\n",
        "-   DF(DataFrame)으로부터 (temporary, permanant) table를 create할 수\n",
        "    있음"
      ],
      "id": "a1718cec-f354-440c-8632-cc9f467e8661"
    },
    {
      "cell_type": "code",
      "execution_count": 33,
      "metadata": {
        "tags": []
      },
      "outputs": [
        {
          "output_type": "stream",
          "name": "stderr",
          "text": [
            "c:\\users\\smu\\appdata\\local\\programs\\python\\python38\\lib\\site-packages\\pyspark\\sql\\dataframe.py:229: FutureWarning: Deprecated in 2.0, use createOrReplaceTempView instead.\n",
            "  warnings.warn(\"Deprecated in 2.0, use createOrReplaceTempView instead.\", FutureWarning)"
          ]
        }
      ],
      "source": [
        "df_hdfs.registerTempTable(\"table1\")"
      ],
      "id": "ccc9a3af-1c49-4359-a47f-50d23540b06f"
    },
    {
      "cell_type": "markdown",
      "metadata": {},
      "source": [
        "-   Database 형태로 만드는 작업"
      ],
      "id": "bcb6f9ac-9f01-41bc-93c8-705f0bc06a35"
    },
    {
      "cell_type": "code",
      "execution_count": 34,
      "metadata": {
        "tags": []
      },
      "outputs": [
        {
          "output_type": "stream",
          "name": "stdout",
          "text": [
            "+--------+\n",
            "|count(1)|\n",
            "+--------+\n",
            "|      27|\n",
            "|      84|\n",
            "|     363|\n",
            "+--------+\n"
          ]
        }
      ],
      "source": [
        "스파크.sql(\"select count(*) from table1 group by jobcat\").show()"
      ],
      "id": "1f26168d-888d-4916-af34-4c43ab5af073"
    },
    {
      "cell_type": "code",
      "execution_count": 35,
      "metadata": {
        "tags": []
      },
      "outputs": [
        {
          "output_type": "stream",
          "name": "stdout",
          "text": [
            "+---------+\n",
            "|namespace|\n",
            "+---------+\n",
            "|  default|\n",
            "+---------+\n"
          ]
        }
      ],
      "source": [
        "스파크.sql(\"show databases\").show()"
      ],
      "id": "05860fe6-3e51-4f3a-a872-92d00baa5d60"
    },
    {
      "cell_type": "code",
      "execution_count": 36,
      "metadata": {
        "tags": []
      },
      "outputs": [
        {
          "output_type": "stream",
          "name": "stdout",
          "text": [
            "+---------+\n",
            "|namespace|\n",
            "+---------+\n",
            "|      db1|\n",
            "|  default|\n",
            "+---------+\n"
          ]
        }
      ],
      "source": [
        "스파크.sql(\"create database db1\")\n",
        "스파크.sql(\"show databases\").show()"
      ],
      "id": "93605d59-7201-4b6e-b170-b58ba547e98f"
    },
    {
      "cell_type": "code",
      "execution_count": 37,
      "metadata": {
        "tags": []
      },
      "outputs": [
        {
          "output_type": "stream",
          "name": "stdout",
          "text": [
            "+---------+---------+-----------+\n",
            "|namespace|tableName|isTemporary|\n",
            "+---------+---------+-----------+\n",
            "|         |   table1|       true|\n",
            "+---------+---------+-----------+\n"
          ]
        }
      ],
      "source": [
        "df_hdfs.registerTempTable(\"table1\") \n",
        "스파크.sql(\"show tables in default\").show()"
      ],
      "id": "840450ff-1ca5-48aa-ac76-aa1a37d8606a"
    },
    {
      "cell_type": "code",
      "execution_count": 40,
      "metadata": {
        "tags": []
      },
      "outputs": [],
      "source": [
        "df_hdfs.registerTempTable(\"table1\")\n",
        "df_hdfs.write.saveAsTable(\"db1.permtable\")  \n",
        "## 현재 jupyter 실행 폴더의 spark-warehouse/db1.db/permtable에 저장\n",
        "## 기존 table이 존재하는 경우 오류"
      ],
      "id": "1ed3106a-b29a-42a9-b792-b145fa811dd8"
    },
    {
      "cell_type": "markdown",
      "metadata": {},
      "source": [
        "#### mode 변경:\n",
        "\n",
        "-   관리자권한\n",
        "-   append, overwrite, error, errorifexists, ignore (default: error) 중\n",
        "    선택\n",
        "\n",
        "``` python\n",
        "df_hdfs.write.mode('overwrite').saveAsTable(\"db1.permtable\")\n",
        "```"
      ],
      "id": "8abc20d4-1216-48c0-9909-fb34ca58d5b6"
    },
    {
      "cell_type": "code",
      "execution_count": 41,
      "metadata": {
        "tags": []
      },
      "outputs": [
        {
          "output_type": "stream",
          "name": "stdout",
          "text": [
            "+---------+---------+-----------+\n",
            "|namespace|tableName|isTemporary|\n",
            "+---------+---------+-----------+\n",
            "|      db1|permtable|      false|\n",
            "|         |   table1|       true|\n",
            "+---------+---------+-----------+\n"
          ]
        }
      ],
      "source": [
        "스파크.sql(\"show tables in db1\").show()"
      ],
      "id": "b0da0ac7-adfb-4aee-b9be-2c0db2daebb6"
    }
  ],
  "nbformat": 4,
  "nbformat_minor": 5,
  "metadata": {
    "kernelspec": {
      "name": "python3",
      "display_name": "Python 3 (ipykernel)",
      "language": "python"
    },
    "language_info": {
      "name": "python",
      "codemirror_mode": {
        "name": "ipython",
        "version": "3"
      },
      "file_extension": ".py",
      "mimetype": "text/x-python",
      "nbconvert_exporter": "python",
      "pygments_lexer": "ipython3",
      "version": "3.8.16"
    }
  }
}