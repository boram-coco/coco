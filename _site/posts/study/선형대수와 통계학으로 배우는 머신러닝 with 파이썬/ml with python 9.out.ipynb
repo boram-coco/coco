{
  "cells": [
    {
      "cell_type": "markdown",
      "metadata": {},
      "source": [
        "# 앙상블 학습\n",
        "\n",
        "김보람  \n",
        "2023-06-01\n",
        "\n",
        "# ref\n",
        "\n",
        "-   선형대수와 통계학으로 배우는 머신러닝 with 파이썬\n",
        "\n",
        "-   [github](https://github.com/bjpublic/MachineLearning)\n",
        "\n",
        "# 보팅\n",
        "\n",
        "## import"
      ],
      "id": "292543a8-206c-49e5-ac2e-ad2dd26137c6"
    },
    {
      "cell_type": "code",
      "execution_count": 5,
      "metadata": {},
      "outputs": [],
      "source": [
        "from sklearn import datasets\n",
        "from sklearn.model_selection import train_test_split\n",
        "from sklearn.preprocessing import StandardScaler\n",
        "\n",
        "from sklearn.linear_model import LogisticRegression\n",
        "from sklearn import svm\n",
        "from sklearn.naive_bayes import GaussianNB\n",
        "from sklearn.ensemble import VotingClassifier\n",
        "\n",
        "from sklearn.metrics import accuracy_score\n",
        "from sklearn.metrics import confusion_matrix\n",
        "from sklearn.metrics import classification_report"
      ],
      "id": "0f8cfac8-ff31-4219-bce9-8687909936c9"
    },
    {
      "cell_type": "markdown",
      "metadata": {},
      "source": [
        "## data"
      ],
      "id": "25b8f964-8820-47aa-9ab0-295b4d365f14"
    },
    {
      "cell_type": "code",
      "execution_count": 7,
      "metadata": {},
      "outputs": [],
      "source": [
        "raw_iris = datasets.load_iris()"
      ],
      "id": "7e6efb4f-462c-4e14-a5ab-40626708871c"
    },
    {
      "cell_type": "code",
      "execution_count": 8,
      "metadata": {},
      "outputs": [],
      "source": [
        "X = raw_iris.data\n",
        "y = raw_iris.target"
      ],
      "id": "ab744e76-df33-47b5-ba21-329f183d6fd1"
    },
    {
      "cell_type": "code",
      "execution_count": 9,
      "metadata": {},
      "outputs": [],
      "source": [
        "X_tn, X_te, y_tn, y_te = train_test_split(X,y, random_state=0)"
      ],
      "id": "3a41435b-cc69-404f-a578-360478837395"
    },
    {
      "cell_type": "code",
      "execution_count": 10,
      "metadata": {},
      "outputs": [],
      "source": [
        "# 데이터 표준화\n",
        "std_scale = StandardScaler()\n",
        "std_scale.fit(X_tn)\n",
        "X_tn_std = std_scale.transform(X_tn)\n",
        "X_te_std  = std_scale.transform(X_te)"
      ],
      "id": "a45d68de-7a3d-4a1f-9e71-224d9b8d560e"
    },
    {
      "cell_type": "markdown",
      "metadata": {},
      "source": [
        "## 학습"
      ],
      "id": "b87f3569-4a5a-47af-8ae9-45efa5f6007d"
    },
    {
      "cell_type": "code",
      "execution_count": 12,
      "metadata": {},
      "outputs": [],
      "source": [
        "# 보팅 학습\n",
        "clf1 = LogisticRegression(multi_class='multinomial', \n",
        "                          random_state=1)\n",
        "clf2 = svm.SVC(kernel='linear', \n",
        "               random_state=1) \n",
        "clf3 = GaussianNB()"
      ],
      "id": "bd9924db-0887-40b1-bdec-4e53a5b61a72"
    },
    {
      "cell_type": "code",
      "execution_count": 13,
      "metadata": {},
      "outputs": [],
      "source": [
        "clf_voting = VotingClassifier(\n",
        "                estimators=[\n",
        "                    ('lr', clf1), \n",
        "                    ('svm', clf2), \n",
        "                    ('gnb', clf3)\n",
        "                ],\n",
        "                voting='hard',\n",
        "                weights=[1,1,1])\n",
        "clf_voting.fit(X_tn_std, y_tn)\n"
      ],
      "id": "f6930ad3-0742-42b2-b3e9-3203ac8d0ea8"
    },
    {
      "cell_type": "markdown",
      "metadata": {},
      "source": [
        "-   estimators는 미리 만든 세가지 모형\n",
        "\n",
        "-   voting 옵션: hard(투표 결과 과반수가 넘는 라벨,defalut)/soft(확률이\n",
        "    가장 높은 라벨)\n",
        "\n",
        "-   weights: 세 가지 모형의 비율\n",
        "\n",
        "## 예측"
      ],
      "id": "dfc0d625-18e6-435b-a6ef-2f90f3c4d156"
    },
    {
      "cell_type": "code",
      "execution_count": 14,
      "metadata": {},
      "outputs": [
        {
          "output_type": "stream",
          "name": "stdout",
          "text": [
            "[2 1 0 2 0 2 0 1 1 1 2 1 1 1 1 0 1 1 0 0 2 1 0 0 2 0 0 1 1 0 2 1 0 2 2 1 0\n",
            " 2]"
          ]
        }
      ],
      "source": [
        "pred_voting = clf_voting.predict(X_te_std)\n",
        "print(pred_voting)"
      ],
      "id": "a76fbaeb-5f81-4b7a-86cb-24204ab11d60"
    },
    {
      "cell_type": "markdown",
      "metadata": {},
      "source": [
        "## 평가"
      ],
      "id": "e66bca9c-1ea6-4bce-943f-341fe0456003"
    },
    {
      "cell_type": "code",
      "execution_count": 15,
      "metadata": {},
      "outputs": [
        {
          "output_type": "stream",
          "name": "stdout",
          "text": [
            "0.9736842105263158"
          ]
        }
      ],
      "source": [
        "accuracy = accuracy_score(y_te, pred_voting)\n",
        "print(accuracy)"
      ],
      "id": "22c55bbf-b4c1-4a93-8365-91d12e2e1cb6"
    },
    {
      "cell_type": "code",
      "execution_count": 16,
      "metadata": {},
      "outputs": [
        {
          "output_type": "stream",
          "name": "stdout",
          "text": [
            "[[13  0  0]\n",
            " [ 0 15  1]\n",
            " [ 0  0  9]]"
          ]
        }
      ],
      "source": [
        "# confusion matrix 확인 \n",
        "conf_matrix = confusion_matrix(y_te, pred_voting)\n",
        "print(conf_matrix)"
      ],
      "id": "4e1ae36e-0adc-45d7-9abd-7637fd45b5dc"
    },
    {
      "cell_type": "code",
      "execution_count": 17,
      "metadata": {},
      "outputs": [
        {
          "output_type": "stream",
          "name": "stdout",
          "text": [
            "              precision    recall  f1-score   support\n",
            "\n",
            "           0       1.00      1.00      1.00        13\n",
            "           1       1.00      0.94      0.97        16\n",
            "           2       0.90      1.00      0.95         9\n",
            "\n",
            "    accuracy                           0.97        38\n",
            "   macro avg       0.97      0.98      0.97        38\n",
            "weighted avg       0.98      0.97      0.97        38\n"
          ]
        }
      ],
      "source": [
        "\n",
        "class_report = classification_report(y_te, pred_voting)\n",
        "print(class_report)"
      ],
      "id": "32d5be3f-f011-473d-a6e5-6196f7ca18b2"
    },
    {
      "cell_type": "markdown",
      "metadata": {},
      "source": [
        "# 랜덤포레스트\n",
        "\n",
        "`-` 배깅\n",
        "\n",
        "-   개별 분류기들의 분류 결과를 종합하여 최종 분류기의 성능 향상\n",
        "\n",
        "-   부스트스트랩(booststrap)\\* 샘플 뽑아서 학습\n",
        "\n",
        "-   \\*:중복을 허용한 랜덤 샘플 방법\n",
        "\n",
        "`-` 랜덤 포레스트\n",
        "\n",
        "1.  n개의 데이터 랜덤 추출(중복가능)\n",
        "\n",
        "2.  p개의 피처 선택(중복 불가능)\n",
        "\n",
        "3.  의사 결정 나무 학습\n",
        "\n",
        "4.  (1)~(3) 반복\n",
        "\n",
        "5.  각 의사 결정 나무별 결과 투표를 통해 클래스 레이블 설정\n",
        "\n",
        "## import"
      ],
      "id": "675e722b-3acc-45a3-a011-04c58ae6d0a1"
    },
    {
      "cell_type": "code",
      "execution_count": 18,
      "metadata": {},
      "outputs": [],
      "source": [
        "from sklearn import datasets\n",
        "from sklearn.model_selection import train_test_split\n",
        "from sklearn.preprocessing import StandardScaler\n",
        "\n",
        "from sklearn.ensemble import RandomForestClassifier\n",
        "\n",
        "from sklearn.metrics import accuracy_score\n",
        "from sklearn.metrics import confusion_matrix\n",
        "from sklearn.metrics import classification_report"
      ],
      "id": "2ba04fc0-8d4f-4c8d-8728-7ee3a27de539"
    },
    {
      "cell_type": "markdown",
      "metadata": {},
      "source": [
        "## data"
      ],
      "id": "4b038ca5-958e-4cec-9ddd-013144d3a579"
    },
    {
      "cell_type": "code",
      "execution_count": 19,
      "metadata": {},
      "outputs": [],
      "source": [
        "raw_wine = datasets.load_wine()"
      ],
      "id": "dfcd932e-4a4e-4c5f-80aa-fdfe8c7561f9"
    },
    {
      "cell_type": "code",
      "execution_count": 20,
      "metadata": {},
      "outputs": [],
      "source": [
        "X = raw_wine.data\n",
        "y = raw_wine.target"
      ],
      "id": "01c559d3-85ff-4ce6-affd-d9e1dc493a0c"
    },
    {
      "cell_type": "code",
      "execution_count": 21,
      "metadata": {},
      "outputs": [],
      "source": [
        "\n",
        "X_tn, X_te, y_tn, y_te=train_test_split(X,y,random_state=0)\n"
      ],
      "id": "ca691807-4a9f-49ae-a9b7-f511a73e9153"
    },
    {
      "cell_type": "code",
      "execution_count": 23,
      "metadata": {},
      "outputs": [],
      "source": [
        "std_scale = StandardScaler()\n",
        "std_scale.fit(X_tn)\n",
        "X_tn_std = std_scale.transform(X_tn)\n",
        "X_te_std= std_scale.transform(X_te)"
      ],
      "id": "88e205e3-37af-49ad-997c-796f03e4a85a"
    },
    {
      "cell_type": "markdown",
      "metadata": {},
      "source": [
        "## 학습"
      ],
      "id": "d3bb4ad9-924d-436a-9c72-8782ea272d2f"
    },
    {
      "cell_type": "code",
      "execution_count": 24,
      "metadata": {},
      "outputs": [],
      "source": [
        "\n",
        "clf_rf = RandomForestClassifier(max_depth=2, \n",
        "                                random_state=0)\n",
        "clf_rf.fit(X_tn_std, y_tn)\n"
      ],
      "id": "452d6df0-deb3-4fdc-a353-21fee4ba2a88"
    },
    {
      "cell_type": "markdown",
      "metadata": {},
      "source": [
        "## 예측"
      ],
      "id": "e8aab7a6-8a74-4f37-83f8-240bc3b6e1c5"
    },
    {
      "cell_type": "code",
      "execution_count": 25,
      "metadata": {},
      "outputs": [
        {
          "output_type": "stream",
          "name": "stdout",
          "text": [
            "[0 2 1 0 1 1 0 2 1 1 2 2 0 1 2 1 0 0 2 0 0 0 0 1 1 1 1 1 1 2 0 0 1 0 0 0 2\n",
            " 1 1 2 0 0 1 1 1]"
          ]
        }
      ],
      "source": [
        "pred_rf = clf_rf.predict(X_te_std)\n",
        "print(pred_rf)"
      ],
      "id": "2afd0345-3b7e-43fb-b8d2-337c0879928c"
    },
    {
      "cell_type": "markdown",
      "metadata": {},
      "source": [
        "## 평가"
      ],
      "id": "7d9650be-4e7f-4e89-b9d1-88a648dfd9b2"
    },
    {
      "cell_type": "code",
      "execution_count": 26,
      "metadata": {},
      "outputs": [
        {
          "output_type": "stream",
          "name": "stdout",
          "text": [
            "0.9555555555555556\n",
            "[[16  0  0]\n",
            " [ 1 19  1]\n",
            " [ 0  0  8]]\n",
            "              precision    recall  f1-score   support\n",
            "\n",
            "           0       0.94      1.00      0.97        16\n",
            "           1       1.00      0.90      0.95        21\n",
            "           2       0.89      1.00      0.94         8\n",
            "\n",
            "    accuracy                           0.96        45\n",
            "   macro avg       0.94      0.97      0.95        45\n",
            "weighted avg       0.96      0.96      0.96        45\n"
          ]
        }
      ],
      "source": [
        "accuracy = accuracy_score(y_te, pred_rf)\n",
        "print(accuracy)\n",
        "\n",
        "conf_matrix = confusion_matrix(y_te, pred_rf)\n",
        "print(conf_matrix)\n",
        "\n",
        "class_report = classification_report(y_te, pred_rf)\n",
        "print(class_report)"
      ],
      "id": "9e781b11-03a9-436e-bb92-8888fc0ecc18"
    },
    {
      "cell_type": "markdown",
      "metadata": {},
      "source": [
        "# 배깅"
      ],
      "id": "6fd129a8-d643-4f42-87e6-8376625e59da"
    },
    {
      "cell_type": "code",
      "execution_count": 27,
      "metadata": {},
      "outputs": [],
      "source": [
        "from sklearn import datasets\n",
        "from sklearn.model_selection import train_test_split\n",
        "from sklearn.preprocessing import StandardScaler\n",
        "\n",
        "from sklearn.naive_bayes import GaussianNB\n",
        "from sklearn.ensemble import BaggingClassifier\n",
        "\n",
        "from sklearn.metrics import accuracy_score\n",
        "from sklearn.metrics import confusion_matrix\n",
        "from sklearn.metrics import classification_report\n"
      ],
      "id": "979c01c2-eff5-4007-b922-c29cd0f37d25"
    },
    {
      "cell_type": "code",
      "execution_count": 28,
      "metadata": {},
      "outputs": [],
      "source": [
        "raw_wine = datasets.load_wine()\n",
        "\n",
        "X = raw_wine.data\n",
        "y = raw_wine.target\n",
        "\n",
        "X_tn, X_te, y_tn, y_te=train_test_split(X,y,random_state=0)\n",
        "\n",
        "std_scale = StandardScaler()\n",
        "std_scale.fit(X_tn)\n",
        "X_tn_std = std_scale.transform(X_tn)\n",
        "X_te_std  = std_scale.transform(X_te)\n"
      ],
      "id": "90bacabb-c90c-4dbb-9b4e-5926490a295a"
    },
    {
      "cell_type": "code",
      "execution_count": 29,
      "metadata": {},
      "outputs": [
        {
          "output_type": "stream",
          "name": "stderr",
          "text": [
            "/home/coco/anaconda3/envs/py38/lib/python3.8/site-packages/sklearn/ensemble/_base.py:166: FutureWarning: `base_estimator` was renamed to `estimator` in version 1.2 and will be removed in 1.4.\n",
            "  warnings.warn("
          ]
        }
      ],
      "source": [
        "clf_bagging = BaggingClassifier(base_estimator=GaussianNB(),\n",
        "                        n_estimators=10, \n",
        "                        random_state=0)\n",
        "clf_bagging.fit(X_tn_std, y_tn)\n"
      ],
      "id": "628470e5-9664-4f8d-92c6-e4c197d82717"
    },
    {
      "cell_type": "code",
      "execution_count": 30,
      "metadata": {},
      "outputs": [
        {
          "output_type": "stream",
          "name": "stdout",
          "text": [
            "[0 2 1 0 1 1 0 2 1 1 2 2 0 1 2 1 0 0 2 0 0 0 0 1 1 1 1 1 1 2 0 0 1 0 0 0 2\n",
            " 1 1 2 0 0 1 1 1]"
          ]
        }
      ],
      "source": [
        "pred_bagging = clf_bagging.predict(X_te_std)\n",
        "print(pred_bagging)\n"
      ],
      "id": "72500ccf-fca6-47f6-bed2-e5a352b4ea45"
    },
    {
      "cell_type": "code",
      "execution_count": 31,
      "metadata": {},
      "outputs": [
        {
          "output_type": "stream",
          "name": "stdout",
          "text": [
            "0.9555555555555556\n",
            "[[16  0  0]\n",
            " [ 1 19  1]\n",
            " [ 0  0  8]]\n",
            "              precision    recall  f1-score   support\n",
            "\n",
            "           0       0.94      1.00      0.97        16\n",
            "           1       1.00      0.90      0.95        21\n",
            "           2       0.89      1.00      0.94         8\n",
            "\n",
            "    accuracy                           0.96        45\n",
            "   macro avg       0.94      0.97      0.95        45\n",
            "weighted avg       0.96      0.96      0.96        45\n"
          ]
        }
      ],
      "source": [
        "\n",
        "accuracy = accuracy_score(y_te, pred_bagging)\n",
        "print(accuracy)\n",
        " \n",
        "conf_matrix = confusion_matrix(y_te, pred_bagging)\n",
        "print(conf_matrix)\n",
        "\n",
        "\n",
        "class_report = classification_report(y_te, pred_bagging)\n",
        "print(class_report)"
      ],
      "id": "0b19b819-d5e1-4744-acb1-04b66f3db45a"
    },
    {
      "cell_type": "markdown",
      "metadata": {},
      "source": [
        "# 부스팅\n",
        "\n",
        "-   초기에는 모든 데이터에 동일한 가중치를 할당하다가 학습 진행되면\n",
        "    올바르게 분류된 데이터의 가중치는 감소하고 잘못 분류된 데이터의\n",
        "    가중치는 증가\n",
        "\n",
        "-   이전 단계에서 만들어진 학습기는 다음 단계에서사용하는 트레이닝 셋의\n",
        "    가중치 변경\n",
        "\n",
        "`-` AdaBoost 알고리즘(이산형)\n",
        "\n",
        "1.  트레이닝 데이터의 각 데이터별 초기 가중치 $w_i=\\dfrac{1}{n}$\n",
        "\n",
        "2.  $j$번째 약한 학습기 $f_j(X_i)$를 이용해 트레이닝 데이터 학습\n",
        "\n",
        "3.  (2)에서 사용한 약한 학습기 $f_j(x_i)$의 가중치가 적용된 오차율\n",
        "    구하기\n",
        "\n",
        "$$e_j=\\sum_{i=1}^n w_iI(y_i \\neq f_j(x_i))$$\n",
        "\n",
        "1.  약한 학습기 전체에 적용될 가중치 $\\alpha_j$를 구하기\n",
        "\n",
        "$$\\alpha_j=\\dfrac{1}{2}log(\\dfrac{1-e_j}{e_j})$$\n",
        "\n",
        "`-` AdaBoost 알고리즘(연속형)\n",
        "\n",
        "-   수정필요\n",
        "\n",
        "## import"
      ],
      "id": "9171ddc9-bd93-42af-b4c1-3013079b0ff3"
    },
    {
      "cell_type": "code",
      "execution_count": 33,
      "metadata": {},
      "outputs": [],
      "source": [
        "from sklearn import datasets\n",
        "from sklearn.model_selection import train_test_split\n",
        "from sklearn.preprocessing import StandardScaler\n",
        "\n",
        "from sklearn.ensemble import AdaBoostClassifier\n",
        "\n",
        "from sklearn.metrics import accuracy_score\n",
        "from sklearn.metrics import confusion_matrix\n",
        "from sklearn.metrics import classification_report"
      ],
      "id": "e839a47f-6e60-492b-8886-8dc421631d37"
    },
    {
      "cell_type": "markdown",
      "metadata": {},
      "source": [
        "## data"
      ],
      "id": "399bfc88-86d6-4cca-9ca1-3d94f386a1ec"
    },
    {
      "cell_type": "code",
      "execution_count": 34,
      "metadata": {},
      "outputs": [],
      "source": [
        "raw_breast_cancer = datasets.load_breast_cancer()\n",
        "\n",
        "X = raw_breast_cancer.data\n",
        "y = raw_breast_cancer.target\n",
        "\n",
        "X_tn, X_te, y_tn, y_te=train_test_split(X,y,random_state=0)\n",
        "\n",
        "std_scale = StandardScaler()\n",
        "std_scale.fit(X_tn)\n",
        "X_tn_std = std_scale.transform(X_tn)\n",
        "X_te_std  = std_scale.transform(X_te)\n"
      ],
      "id": "cb54f3c6-cb49-4882-8b4f-d777a49581d8"
    },
    {
      "cell_type": "markdown",
      "metadata": {},
      "source": [
        "## 학습"
      ],
      "id": "97714f7a-9a4d-462d-aae2-ed9aa97614f5"
    },
    {
      "cell_type": "code",
      "execution_count": 35,
      "metadata": {},
      "outputs": [],
      "source": [
        "clf_ada = AdaBoostClassifier(random_state=0)\n",
        "clf_ada.fit(X_tn_std, y_tn)"
      ],
      "id": "6f00b37f-d189-494f-b9e2-db84937256ff"
    },
    {
      "cell_type": "markdown",
      "metadata": {},
      "source": [
        "## 예측"
      ],
      "id": "838d93ca-12f2-43e8-afd2-1e157f4bbbc6"
    },
    {
      "cell_type": "code",
      "execution_count": 36,
      "metadata": {},
      "outputs": [
        {
          "output_type": "stream",
          "name": "stdout",
          "text": [
            "[0 1 1 1 1 1 1 1 1 1 0 1 1 1 1 0 1 0 0 0 0 0 1 1 0 1 1 0 1 0 1 0 1 0 1 0 1\n",
            " 0 1 0 0 1 0 1 1 0 1 1 1 0 0 0 0 1 1 1 1 1 1 0 0 0 1 1 0 1 0 0 0 1 1 0 1 0\n",
            " 0 1 1 1 1 1 0 0 0 1 0 1 1 1 0 0 1 1 1 0 1 1 0 1 1 1 1 1 1 1 0 1 0 1 0 0 1\n",
            " 0 0 1 1 1 1 1 1 1 1 1 0 1 0 0 1 1 1 1 0 1 1 1 1 1 1 0 0 1 1 1 0]"
          ]
        }
      ],
      "source": [
        "pred_ada = clf_ada.predict(X_te_std)\n",
        "print(pred_ada)"
      ],
      "id": "cff3a4bc-b7e0-4496-83d2-7ead75b64db2"
    },
    {
      "cell_type": "markdown",
      "metadata": {},
      "source": [
        "## 평가"
      ],
      "id": "882ae0b8-3226-403c-ac19-976b75165291"
    },
    {
      "cell_type": "code",
      "execution_count": 37,
      "metadata": {},
      "outputs": [
        {
          "output_type": "stream",
          "name": "stdout",
          "text": [
            "0.9790209790209791\n",
            "[[52  1]\n",
            " [ 2 88]]\n",
            "              precision    recall  f1-score   support\n",
            "\n",
            "           0       0.96      0.98      0.97        53\n",
            "           1       0.99      0.98      0.98        90\n",
            "\n",
            "    accuracy                           0.98       143\n",
            "   macro avg       0.98      0.98      0.98       143\n",
            "weighted avg       0.98      0.98      0.98       143\n"
          ]
        }
      ],
      "source": [
        "accuracy = accuracy_score(y_te, pred_ada)\n",
        "print(accuracy)\n",
        "\n",
        "conf_matrix = confusion_matrix(y_te, pred_ada)\n",
        "print(conf_matrix)\n",
        "\n",
        "class_report = classification_report(y_te, pred_ada)\n",
        "print(class_report)"
      ],
      "id": "c3aec2cb-a3f4-4b65-ab96-9c8ecc45f9c2"
    },
    {
      "cell_type": "markdown",
      "metadata": {},
      "source": [
        "# 그래디언트 부스팅\n",
        "\n",
        "-   비용 함수를 최적화시킴으로써 학습 능력 향상\n",
        "\n",
        "## import"
      ],
      "id": "72e1a37b-1244-4a7e-b243-3e947b971dcf"
    },
    {
      "cell_type": "code",
      "execution_count": 38,
      "metadata": {},
      "outputs": [],
      "source": [
        "from sklearn import datasets\n",
        "from sklearn.model_selection import train_test_split\n",
        "from sklearn.preprocessing import StandardScaler\n",
        "\n",
        "from sklearn.ensemble import GradientBoostingClassifier\n",
        "\n",
        "from sklearn.metrics import accuracy_score\n",
        "from sklearn.metrics import confusion_matrix\n",
        "from sklearn.metrics import classification_report"
      ],
      "id": "bbfb6b4b-5d10-45bc-8c0a-a3b92c595fa0"
    },
    {
      "cell_type": "markdown",
      "metadata": {},
      "source": [
        "## data"
      ],
      "id": "2c6f9cc0-cab5-4b7a-9710-9494ce27746d"
    },
    {
      "cell_type": "code",
      "execution_count": 40,
      "metadata": {},
      "outputs": [],
      "source": [
        "\n",
        "raw_breast_cancer = datasets.load_breast_cancer()\n",
        "\n",
        "X = raw_breast_cancer.data\n",
        "y = raw_breast_cancer.target\n",
        "\n",
        "X_tn, X_te, y_tn, y_te=train_test_split(X,y,random_state=0)\n",
        "\n",
        "std_scale = StandardScaler()\n",
        "std_scale.fit(X_tn)\n",
        "X_tn_std = std_scale.transform(X_tn)\n",
        "X_te_std  = std_scale.transform(X_te)"
      ],
      "id": "3c238c4a-a2df-466b-90da-a7bffa157830"
    },
    {
      "cell_type": "markdown",
      "metadata": {},
      "source": [
        "## 학습"
      ],
      "id": "f536be59-ae36-41a6-b8dd-bceaa1c48527"
    },
    {
      "cell_type": "code",
      "execution_count": 41,
      "metadata": {},
      "outputs": [],
      "source": [
        "clf_gbt = GradientBoostingClassifier(max_depth=2, \n",
        "                                     learning_rate=0.01,\n",
        "                                     random_state=0)\n",
        "clf_gbt.fit(X_tn_std, y_tn)"
      ],
      "id": "0b57f9a8-5c87-466c-8dad-79d6ff9003d1"
    },
    {
      "cell_type": "markdown",
      "metadata": {},
      "source": [
        "## 예측"
      ],
      "id": "c0b30b1c-b4e5-4ab7-b9fc-1462f5fd986d"
    },
    {
      "cell_type": "code",
      "execution_count": 42,
      "metadata": {},
      "outputs": [
        {
          "output_type": "stream",
          "name": "stdout",
          "text": [
            "[0 1 1 1 1 1 1 1 1 1 1 1 1 0 1 0 1 0 0 0 0 0 1 1 0 1 1 0 1 0 1 0 1 0 1 0 1\n",
            " 0 1 0 1 1 1 1 1 0 1 1 1 0 0 0 0 1 1 1 1 1 1 0 0 0 1 1 0 1 0 0 0 1 1 0 1 1\n",
            " 0 1 1 1 1 1 0 0 0 1 0 1 1 1 0 0 1 0 1 0 1 1 0 1 1 1 1 1 1 1 0 1 0 1 0 0 1\n",
            " 0 0 1 1 1 1 1 1 1 1 1 0 1 0 1 1 1 1 1 0 1 1 1 1 1 1 1 0 1 1 1 0]"
          ]
        }
      ],
      "source": [
        "\n",
        "pred_gboost = clf_gbt.predict(X_te_std)\n",
        "print(pred_gboost)"
      ],
      "id": "1baeebc5-65eb-4896-98f0-629ec1f53617"
    },
    {
      "cell_type": "markdown",
      "metadata": {},
      "source": [
        "## 평가"
      ],
      "id": "cd35ea29-05a8-4993-b075-71a4b4286004"
    },
    {
      "cell_type": "code",
      "execution_count": 43,
      "metadata": {},
      "outputs": [
        {
          "output_type": "stream",
          "name": "stdout",
          "text": [
            "0.965034965034965\n",
            "[[49  4]\n",
            " [ 1 89]]\n",
            "              precision    recall  f1-score   support\n",
            "\n",
            "           0       0.98      0.92      0.95        53\n",
            "           1       0.96      0.99      0.97        90\n",
            "\n",
            "    accuracy                           0.97       143\n",
            "   macro avg       0.97      0.96      0.96       143\n",
            "weighted avg       0.97      0.97      0.96       143\n"
          ]
        }
      ],
      "source": [
        "\n",
        "accuracy = accuracy_score(y_te, pred_gboost)\n",
        "print(accuracy)\n",
        "\n",
        "\n",
        "conf_matrix = confusion_matrix(y_te, pred_gboost)\n",
        "print(conf_matrix)\n",
        "\n",
        "class_report = classification_report(y_te, pred_gboost)\n",
        "print(class_report)"
      ],
      "id": "1bf44f4b-6736-45da-8443-bb830330a8f6"
    },
    {
      "cell_type": "markdown",
      "metadata": {},
      "source": [
        "# 스태킹\n",
        "\n",
        "-   베이스 학습기가 먼저 학습한 후 메타 학습기가 베이스 학습기의 예측을\n",
        "    피처로 활용해 최종 예측\n",
        "\n",
        "## import"
      ],
      "id": "68efa589-cff4-44a3-81ed-0f9dfc624676"
    },
    {
      "cell_type": "code",
      "execution_count": 44,
      "metadata": {},
      "outputs": [],
      "source": [
        "from sklearn import datasets\n",
        "from sklearn.model_selection import train_test_split\n",
        "from sklearn.preprocessing import StandardScaler\n",
        "\n",
        "from sklearn import svm\n",
        "from sklearn.naive_bayes import GaussianNB\n",
        "from sklearn.linear_model import LogisticRegression\n",
        "from sklearn.ensemble import StackingClassifier\n",
        "\n",
        "from sklearn.metrics import accuracy_score\n",
        "from sklearn.metrics import confusion_matrix\n",
        "from sklearn.metrics import classification_report\n"
      ],
      "id": "e26b1b2d-5a40-4cfc-8539-923aeb05d9ab"
    },
    {
      "cell_type": "markdown",
      "metadata": {},
      "source": [
        "## data"
      ],
      "id": "56d9f938-caee-4743-bad6-74b6b9c50cba"
    },
    {
      "cell_type": "code",
      "execution_count": 45,
      "metadata": {},
      "outputs": [],
      "source": [
        "raw_breast_cancer = datasets.load_breast_cancer()\n",
        "\n",
        "X = raw_breast_cancer.data\n",
        "y = raw_breast_cancer.target\n",
        "\n",
        "X_tn, X_te, y_tn, y_te=train_test_split(X,y,random_state=0)\n",
        "\n",
        "std_scale = StandardScaler()\n",
        "std_scale.fit(X_tn)\n",
        "X_tn_std = std_scale.transform(X_tn)\n",
        "X_te_std  = std_scale.transform(X_te)\n"
      ],
      "id": "947d8e08-2e4c-4790-8ae0-07ce2cc04bb0"
    },
    {
      "cell_type": "markdown",
      "metadata": {},
      "source": [
        "## 학습"
      ],
      "id": "974f86ee-da9c-44d2-9c88-326f0ee4dddf"
    },
    {
      "cell_type": "code",
      "execution_count": 46,
      "metadata": {},
      "outputs": [],
      "source": [
        "clf1 = svm.SVC(kernel='linear', random_state=1) \n",
        "clf2 = GaussianNB()\n",
        "\n",
        "clf_stkg = StackingClassifier(\n",
        "            estimators=[\n",
        "                ('svm', clf1), \n",
        "                ('gnb', clf2)\n",
        "            ],\n",
        "            final_estimator=LogisticRegression())\n",
        "clf_stkg.fit(X_tn_std, y_tn)"
      ],
      "id": "946cf365-d436-40c9-b9d6-2afb240f38cc"
    },
    {
      "cell_type": "markdown",
      "metadata": {},
      "source": [
        "## 예측"
      ],
      "id": "84fabade-2f35-4461-8e4d-3f3912950bd5"
    },
    {
      "cell_type": "code",
      "execution_count": 47,
      "metadata": {},
      "outputs": [
        {
          "output_type": "stream",
          "name": "stdout",
          "text": [
            "[0 1 1 1 1 1 1 1 1 1 1 1 1 1 1 0 1 0 0 0 0 0 1 1 0 1 1 0 1 0 1 0 1 0 1 0 1\n",
            " 0 1 0 0 1 0 1 1 0 1 1 1 0 0 0 0 1 1 1 1 1 1 0 0 0 1 1 0 1 0 0 0 1 1 0 1 0\n",
            " 0 1 1 1 1 1 0 0 0 1 0 1 1 1 0 0 1 0 0 0 1 1 0 1 1 1 1 1 1 1 0 1 0 1 1 0 1\n",
            " 0 0 1 1 1 1 1 1 1 1 1 1 1 0 1 0 1 1 1 0 1 1 1 1 1 1 1 0 1 1 1 0]"
          ]
        }
      ],
      "source": [
        "pred_stkg = clf_stkg.predict(X_te_std)\n",
        "print(pred_stkg)"
      ],
      "id": "aab6c5d3-c08e-4d14-90df-cb982ddd6ad0"
    },
    {
      "cell_type": "markdown",
      "metadata": {},
      "source": [
        "## 평가"
      ],
      "id": "8ae65a33-7d15-4ff0-8231-d0426318cf07"
    },
    {
      "cell_type": "code",
      "execution_count": 48,
      "metadata": {},
      "outputs": [
        {
          "output_type": "stream",
          "name": "stdout",
          "text": [
            "0.965034965034965\n",
            "[[50  3]\n",
            " [ 2 88]]\n",
            "              precision    recall  f1-score   support\n",
            "\n",
            "           0       0.96      0.94      0.95        53\n",
            "           1       0.97      0.98      0.97        90\n",
            "\n",
            "    accuracy                           0.97       143\n",
            "   macro avg       0.96      0.96      0.96       143\n",
            "weighted avg       0.96      0.97      0.96       143\n"
          ]
        }
      ],
      "source": [
        "accuracy = accuracy_score(y_te, pred_stkg)\n",
        "print(accuracy)\n",
        "\n",
        "conf_matrix = confusion_matrix(y_te, pred_stkg)\n",
        "print(conf_matrix)\n",
        "\n",
        "class_report = classification_report(y_te, pred_stkg)\n",
        "print(class_report)"
      ],
      "id": "b7c83777-53d7-4e78-a268-41d95e1e47e2"
    }
  ],
  "nbformat": 4,
  "nbformat_minor": 5,
  "metadata": {
    "kernelspec": {
      "name": "python3",
      "display_name": "Python 3 (ipykernel)",
      "language": "python"
    },
    "language_info": {
      "name": "python",
      "codemirror_mode": {
        "name": "ipython",
        "version": "3"
      },
      "file_extension": ".py",
      "mimetype": "text/x-python",
      "nbconvert_exporter": "python",
      "pygments_lexer": "ipython3",
      "version": "3.8.16"
    }
  }
}