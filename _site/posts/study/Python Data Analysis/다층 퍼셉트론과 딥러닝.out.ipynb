{
  "cells": [
    {
      "cell_type": "markdown",
      "metadata": {},
      "source": [
        "# 다층 퍼셉트론과 딥러닝\n",
        "\n",
        "김보람  \n",
        "2023-04-24\n",
        "\n",
        "# ref\n",
        "\n",
        "-   [파이썬 데이터 분석](http://www.yes24.com/Product/Goods/108023856)\n",
        "\n",
        "# XOR연산\n",
        "\n",
        "## 1. 패키지 설정"
      ],
      "id": "152afedb-1ffc-4dcd-8d80-13d193779c6b"
    },
    {
      "cell_type": "code",
      "execution_count": 1,
      "metadata": {},
      "outputs": [],
      "source": [
        "from sklearn.neural_network import MLPClassifier\n",
        "import numpy as np"
      ],
      "id": "cf38f8a2-d1dc-4cdd-82f4-4ae44218ae17"
    },
    {
      "cell_type": "markdown",
      "metadata": {},
      "source": [
        "## 2. 데이터 작성"
      ],
      "id": "b51568e6-22b6-439c-a8ff-a9b5ead2e1d4"
    },
    {
      "cell_type": "code",
      "execution_count": 2,
      "metadata": {},
      "outputs": [],
      "source": [
        "X=np.array([[0,0],[0,1],[1,0],[1,1]])\n",
        "y=np.array([0,1,1,0])"
      ],
      "id": "5e950716-537e-4d2b-bb3d-a566961582c9"
    },
    {
      "cell_type": "markdown",
      "metadata": {},
      "source": [
        "-   입력 값, 목표 값 작성\n",
        "\n",
        "## 3. 모형화"
      ],
      "id": "095f7694-6d38-4afa-8854-a9a3bb2d90ea"
    },
    {
      "cell_type": "code",
      "execution_count": 4,
      "metadata": {},
      "outputs": [],
      "source": [
        "model=MLPClassifier(hidden_layer_sizes=(2),\n",
        "                    activation='logistic',\n",
        "                    solver='lbfgs',\n",
        "                    max_iter=100)"
      ],
      "id": "f8147b42-a4b8-427f-92a4-3aa838232ad6"
    },
    {
      "cell_type": "markdown",
      "metadata": {},
      "source": [
        "## 4. 학습"
      ],
      "id": "2750086a-dcd7-4683-bbef-6b45bacf14ab"
    },
    {
      "cell_type": "code",
      "execution_count": 5,
      "metadata": {},
      "outputs": [],
      "source": [
        "model.fit(X,y)"
      ],
      "id": "8a05b95b-41bc-475e-8510-affd1c2c4315"
    },
    {
      "cell_type": "markdown",
      "metadata": {},
      "source": [
        "## 5. 예측"
      ],
      "id": "3deda903-bb80-4232-a013-98249dfd9279"
    },
    {
      "cell_type": "code",
      "execution_count": 6,
      "metadata": {},
      "outputs": [
        {
          "output_type": "stream",
          "name": "stdout",
          "text": [
            "[0 0 1 0]"
          ]
        }
      ],
      "source": [
        "print(model.predict(X))"
      ],
      "id": "59963603-852c-482e-ba6f-0e5ec0c6581b"
    },
    {
      "cell_type": "markdown",
      "metadata": {},
      "source": [
        "# 비선형 함수의 회귀분석\n",
        "\n",
        "## 1. 패키지 설정"
      ],
      "id": "0fc19711-e08a-4d5f-abb9-b62dc42d30c8"
    },
    {
      "cell_type": "code",
      "execution_count": 7,
      "metadata": {},
      "outputs": [],
      "source": [
        "from sklearn.neural_network import MLPRegressor\n",
        "from sklearn.preprocessing import MinMaxScaler\n",
        "from sklearn.model_selection import train_test_split\n",
        "from sklearn.metrics import mean_absolute_percentage_error\n",
        "import numpy as np\n",
        "import matplotlib.pyplot as plt"
      ],
      "id": "551e7767-7e8a-435b-9905-2667e648d7fd"
    },
    {
      "cell_type": "markdown",
      "metadata": {},
      "source": [
        "## 2. 데이터 준비"
      ],
      "id": "7e83d417-ed73-4af9-9df4-854f501836e4"
    },
    {
      "cell_type": "code",
      "execution_count": 8,
      "metadata": {},
      "outputs": [
        {
          "output_type": "stream",
          "name": "stdout",
          "text": [
            "[  1   2   3   4   5   6   7   8   9  10  11  12  13  14  15  16  17  18\n",
            "  19  20  21  22  23  24  25  26  27  28  29  30  31  32  33  34  35  36\n",
            "  37  38  39  40  41  42  43  44  45  46  47  48  49  50  51  52  53  54\n",
            "  55  56  57  58  59  60  61  62  63  64  65  66  67  68  69  70  71  72\n",
            "  73  74  75  76  77  78  79  80  81  82  83  84  85  86  87  88  89  90\n",
            "  91  92  93  94  95  96  97  98  99 100]"
          ]
        }
      ],
      "source": [
        "X=np.array(range(1,101))\n",
        "print(X)"
      ],
      "id": "39e85a46-1cf2-4af8-98ac-f878e955cbca"
    },
    {
      "cell_type": "code",
      "execution_count": 9,
      "metadata": {},
      "outputs": [
        {
          "output_type": "stream",
          "name": "stdout",
          "text": [
            "[ 11175.5         39704.          51421.83333333  58832.\n",
            "  64437.5         69074.66666667  73103.64285714  76706.\n",
            "  79983.94444444  83000.          85795.04545455  88397.33333333\n",
            "  90827.34615385  93100.57142857  95229.16666667  97223.\n",
            "  99090.32352941 100838.22222222 102472.92105263 104000.\n",
            " 105424.54761905 106751.27272727 107984.58695652 109128.66666667\n",
            " 110187.5        111164.92307692 112064.64814815 112890.28571429\n",
            " 113645.36206897 114333.33333333 114957.59677419 115521.5\n",
            " 116028.34848485 116481.41176471 116883.92857143 117239.11111111\n",
            " 117550.14864865 117820.21052632 118052.44871795 118250.\n",
            " 118415.98780488 118553.52380952 118665.70930233 118755.63636364\n",
            " 118826.38888889 118881.04347826 118922.67021277 118954.33333333\n",
            " 118979.09183673 119000.         119020.10784314 119042.46153846\n",
            " 119070.10377358 119106.07407407 119153.40909091 119215.14285714\n",
            " 119294.30701754 119393.93103448 119517.04237288 119666.66666667\n",
            " 119845.82786885 120057.5483871  120304.84920635 120590.75\n",
            " 120918.26923077 121290.42424242 121710.23134328 122180.70588235\n",
            " 122704.86231884 123285.71428571 123926.27464789 124629.55555556\n",
            " 125398.56849315 126236.32432432 127145.83333333 128130.10526316\n",
            " 129192.14935065 130334.97435897 131561.58860759 132875.\n",
            " 134278.21604938 135774.24390244 137366.09036145 139056.76190476\n",
            " 140849.26470588 142746.60465116 144751.78735632 146867.81818182\n",
            " 149097.70224719 151444.44444444 153911.04945055 156500.52173913\n",
            " 159215.8655914  162060.08510638 165036.18421053 168147.16666667\n",
            " 171396.03608247 174785.79591837 178319.44949495 182000.        ]"
          ]
        }
      ],
      "source": [
        "y=0.5*(X-50)**3 - 50000/X + 120000\n",
        "print(y)"
      ],
      "id": "7e957d1b-c67a-4563-a6b2-054493382835"
    },
    {
      "cell_type": "markdown",
      "metadata": {},
      "source": [
        "## 3. 탐색적 데이터 분석"
      ],
      "id": "d1dfd077-cf91-4687-9711-69846e11796c"
    },
    {
      "cell_type": "code",
      "execution_count": 10,
      "metadata": {},
      "outputs": [
        {
          "output_type": "display_data",
          "metadata": {},
          "data": {
            "image/png": "[encoded data removed]"
          }
        }
      ],
      "source": [
        "plt.scatter(X, y, color='b')\n",
        "plt.title('y=0.5*(X-50)**3 - 50000/X + 120000')\n",
        "plt.xlabel('X')\n",
        "plt.ylabel('y')\n",
        "plt.ylim(0,200000)\n",
        "plt.show()"
      ],
      "id": "e3939cd3-dd45-4fd4-abd4-b52334bf56b0"
    },
    {
      "cell_type": "markdown",
      "metadata": {},
      "source": [
        "## 4. 데이터 분리"
      ],
      "id": "709a59cf-e681-4e31-8d83-2dde5e23f4dd"
    },
    {
      "cell_type": "code",
      "execution_count": 11,
      "metadata": {},
      "outputs": [],
      "source": [
        "X_train, X_test, y_train, y_test = train_test_split(X,y, test_size=0.3,\n",
        "                                                    random_state=1234)"
      ],
      "id": "8f294f11-18ff-496f-b3a1-fc69b7a43be9"
    },
    {
      "cell_type": "code",
      "execution_count": 12,
      "metadata": {},
      "outputs": [
        {
          "output_type": "stream",
          "name": "stdout",
          "text": [
            "[  5  65  11  94  58  73  37   8  55  78  22  19  71  87  23   7  45   9\n",
            "  42  17  46  21  26  56  79  32  93   6  85  33  53  14  92  18  29  47\n",
            "  61  15  66  13  20   3   4   1  12  68  98  35  38  96  51 100  74  81\n",
            "  70  59  91  90  44  31  27  24  50  16  25  77  54  39  84  48]\n",
            "[41 36 82 62 99 69 86 28 40 43 34 60 64 95 57 88 97  2 72 83 10 52 30 89\n",
            " 76 75 63 67 80 49]"
          ]
        }
      ],
      "source": [
        "print(X_train)\n",
        "print(X_test)"
      ],
      "id": "2f2d4173-6d2e-4961-b166-352703af9af3"
    },
    {
      "cell_type": "code",
      "execution_count": 13,
      "metadata": {},
      "outputs": [
        {
          "output_type": "stream",
          "name": "stdout",
          "text": [
            "[ 64437.5        120918.26923077  85795.04545455 162060.08510638\n",
            " 119393.93103448 125398.56849315 117550.14864865  76706.\n",
            " 119153.40909091 130334.97435897 106751.27272727 102472.92105263\n",
            " 123926.27464789 144751.78735632 107984.58695652  73103.64285714\n",
            " 118826.38888889  79983.94444444 118553.52380952  99090.32352941\n",
            " 118881.04347826 105424.54761905 111164.92307692 119215.14285714\n",
            " 131561.58860759 115521.5        159215.8655914   69074.66666667\n",
            " 140849.26470588 116028.34848485 119070.10377358  93100.57142857\n",
            " 156500.52173913 100838.22222222 113645.36206897 118922.67021277\n",
            " 119845.82786885  95229.16666667 121290.42424242  90827.34615385\n",
            " 104000.          51421.83333333  58832.          11175.5\n",
            "  88397.33333333 122180.70588235 174785.79591837 116883.92857143\n",
            " 117820.21052632 168147.16666667 119020.10784314 182000.\n",
            " 126236.32432432 134278.21604938 123285.71428571 119517.04237288\n",
            " 153911.04945055 151444.44444444 118755.63636364 114957.59677419\n",
            " 112064.64814815 109128.66666667 119000.          97223.\n",
            " 110187.5        129192.14935065 119106.07407407 118052.44871795\n",
            " 139056.76190476 118954.33333333]\n",
            "[118415.98780488 117239.11111111 135774.24390244 120057.5483871\n",
            " 178319.44949495 122704.86231884 142746.60465116 112890.28571429\n",
            " 118250.         118665.70930233 116481.41176471 119666.66666667\n",
            " 120590.75       165036.18421053 119294.30701754 146867.81818182\n",
            " 171396.03608247  39704.         124629.55555556 137366.09036145\n",
            "  83000.         119042.46153846 114333.33333333 149097.70224719\n",
            " 128130.10526316 127145.83333333 120304.84920635 121710.23134328\n",
            " 132875.         118979.09183673]"
          ]
        }
      ],
      "source": [
        "print(y_train)\n",
        "print(y_test)"
      ],
      "id": "ac4cd784-07a1-4a15-b647-1449f6bd6a0e"
    },
    {
      "cell_type": "markdown",
      "metadata": {},
      "source": [
        "## 5. 피처 스케일링"
      ],
      "id": "26c2b3c7-2b12-4880-ad1c-51e6f25ab199"
    },
    {
      "cell_type": "code",
      "execution_count": 15,
      "metadata": {},
      "outputs": [
        {
          "output_type": "stream",
          "name": "stdout",
          "text": [
            "[[  5]\n",
            " [ 65]\n",
            " [ 11]\n",
            " [ 94]\n",
            " [ 58]\n",
            " [ 73]\n",
            " [ 37]\n",
            " [  8]\n",
            " [ 55]\n",
            " [ 78]\n",
            " [ 22]\n",
            " [ 19]\n",
            " [ 71]\n",
            " [ 87]\n",
            " [ 23]\n",
            " [  7]\n",
            " [ 45]\n",
            " [  9]\n",
            " [ 42]\n",
            " [ 17]\n",
            " [ 46]\n",
            " [ 21]\n",
            " [ 26]\n",
            " [ 56]\n",
            " [ 79]\n",
            " [ 32]\n",
            " [ 93]\n",
            " [  6]\n",
            " [ 85]\n",
            " [ 33]\n",
            " [ 53]\n",
            " [ 14]\n",
            " [ 92]\n",
            " [ 18]\n",
            " [ 29]\n",
            " [ 47]\n",
            " [ 61]\n",
            " [ 15]\n",
            " [ 66]\n",
            " [ 13]\n",
            " [ 20]\n",
            " [  3]\n",
            " [  4]\n",
            " [  1]\n",
            " [ 12]\n",
            " [ 68]\n",
            " [ 98]\n",
            " [ 35]\n",
            " [ 38]\n",
            " [ 96]\n",
            " [ 51]\n",
            " [100]\n",
            " [ 74]\n",
            " [ 81]\n",
            " [ 70]\n",
            " [ 59]\n",
            " [ 91]\n",
            " [ 90]\n",
            " [ 44]\n",
            " [ 31]\n",
            " [ 27]\n",
            " [ 24]\n",
            " [ 50]\n",
            " [ 16]\n",
            " [ 25]\n",
            " [ 77]\n",
            " [ 54]\n",
            " [ 39]\n",
            " [ 84]\n",
            " [ 48]]"
          ]
        }
      ],
      "source": [
        "X_train = X_train.reshape(-1,1)\n",
        "X_test=X_test.reshape(-1,1)\n",
        "y_train=y_train.reshape(-1,1)\n",
        "y_test=y_test.reshape(-1,1)\n",
        "print(X_train)"
      ],
      "id": "bc5859cb-4c99-48d4-acf2-16c862f62ada"
    },
    {
      "cell_type": "code",
      "execution_count": 16,
      "metadata": {},
      "outputs": [],
      "source": [
        "scalerX=MinMaxScaler()\n",
        "scalerX.fit(X_train)\n",
        "X_train_norm=scalerX.transform(X_train)"
      ],
      "id": "c749f296-de34-4c2c-b991-8ff37116cd99"
    },
    {
      "cell_type": "code",
      "execution_count": 17,
      "metadata": {},
      "outputs": [],
      "source": [
        "scalerY=MinMaxScaler()\n",
        "scalerY.fit(y_train)\n",
        "y_train_norm=scalerY.transform(y_train)"
      ],
      "id": "25170792-0c42-481e-b90c-a8979a630353"
    },
    {
      "cell_type": "code",
      "execution_count": 18,
      "metadata": {},
      "outputs": [],
      "source": [
        "X_test_norm=scalerX.transform(X_test)\n",
        "y_test_norm=scalerY.transform(y_test)"
      ],
      "id": "10b68d8f-a47a-45cf-a4b3-ff3672718864"
    },
    {
      "cell_type": "markdown",
      "metadata": {},
      "source": [
        "## 6. 모형화 및 학습"
      ],
      "id": "cd0a0c6d-b25c-44f0-bf89-5589e94d57bb"
    },
    {
      "cell_type": "code",
      "execution_count": 20,
      "metadata": {},
      "outputs": [],
      "source": [
        "model=MLPRegressor(hidden_layer_sizes=(4),\n",
        "                   activation='logistic',\n",
        "                   solver='lbfgs',\n",
        "                   max_iter=500)"
      ],
      "id": "a237f7ea-ed81-4797-8647-0958d09ea243"
    },
    {
      "cell_type": "code",
      "execution_count": 21,
      "metadata": {},
      "outputs": [
        {
          "output_type": "stream",
          "name": "stderr",
          "text": [
            "/home/coco/anaconda3/envs/py38/lib/python3.8/site-packages/sklearn/neural_network/_multilayer_perceptron.py:1623: DataConversionWarning: A column-vector y was passed when a 1d array was expected. Please change the shape of y to (n_samples, ), for example using ravel().\n",
            "  y = column_or_1d(y, warn=True)"
          ]
        }
      ],
      "source": [
        "model.fit(X_train_norm,y_train_norm)"
      ],
      "id": "3ac0ba3a-18d8-4849-bc00-359ee22d754b"
    },
    {
      "cell_type": "markdown",
      "metadata": {},
      "source": [
        "## 7. 예측"
      ],
      "id": "54f4f053-b685-4c26-a4fb-a20ef4349807"
    },
    {
      "cell_type": "code",
      "execution_count": 22,
      "metadata": {},
      "outputs": [
        {
          "output_type": "stream",
          "name": "stdout",
          "text": [
            "[0.58532633 0.5596793  0.78666172 0.69076416 0.86381245 0.72489815\n",
            " 0.80520178 0.51832425 0.58021083 0.59553508 0.5493746  0.68090896\n",
            " 0.70057482 0.84605491 0.66604552 0.81438502 0.85496516 0.38241064\n",
            " 0.73934651 0.79131812 0.42434114 0.64106953 0.52869543 0.81895453\n",
            " 0.75843272 0.7536807  0.69567514 0.71520447 0.77730687 0.62596952]"
          ]
        }
      ],
      "source": [
        "y_pred=model.predict(X_test_norm)\n",
        "print(y_pred)"
      ],
      "id": "a1eb6265-63ed-4f1b-b9aa-64cb88a69691"
    },
    {
      "cell_type": "code",
      "execution_count": 25,
      "metadata": {},
      "outputs": [],
      "source": [
        "# 데이터 구조의 변형\n",
        "y_pred=y_pred.reshape(-1,1)"
      ],
      "id": "44c63a5a-9f08-4ae1-8213-83b07427497b"
    },
    {
      "cell_type": "code",
      "execution_count": 26,
      "metadata": {},
      "outputs": [
        {
          "output_type": "stream",
          "name": "stdout",
          "text": [
            "[[111163.57767477]\n",
            " [106782.43697013]\n",
            " [145556.59434008]\n",
            " [129174.94277171]\n",
            " [158735.82920511]\n",
            " [135005.86461054]\n",
            " [148723.69087489]\n",
            " [ 99717.9814556 ]\n",
            " [110289.72571243]\n",
            " [112907.48205149]\n",
            " [105022.14122011]\n",
            " [127491.43180009]\n",
            " [130850.84418785]\n",
            " [155702.4069167 ]\n",
            " [124952.39323735]\n",
            " [150292.41387152]\n",
            " [157224.4958677 ]\n",
            " [ 76500.60587199]\n",
            " [137473.99775244]\n",
            " [146352.02276425]\n",
            " [ 83663.3625764 ]\n",
            " [120685.88219775]\n",
            " [101489.63200544]\n",
            " [151072.99795266]\n",
            " [140734.38957096]\n",
            " [139922.62822513]\n",
            " [130013.85862295]\n",
            " [133349.94535149]\n",
            " [143958.55773291]\n",
            " [118106.43080755]]"
          ]
        }
      ],
      "source": [
        "# 예측 값의 역변환\n",
        "y_pred_inverse=scalerY.inverse_transform(y_pred)\n",
        "print(y_pred_inverse)"
      ],
      "id": "59fcf993-5d99-4731-8c6e-ef3e984da2e4"
    },
    {
      "cell_type": "code",
      "execution_count": 27,
      "metadata": {},
      "outputs": [
        {
          "output_type": "display_data",
          "metadata": {},
          "data": {
            "image/png": "[encoded data removed]"
          }
        }
      ],
      "source": [
        "plt.scatter(X,y, color='g')\n",
        "# 원데이터\n",
        "plt.title('y=0.5*(X-50)**3 - 50000/X + 120000')\n",
        "plt.xlabel('X')\n",
        "plt.ylabel('y')\n",
        "plt.ylim(0,200000)\n",
        "\n",
        "# 테스트데이터\n",
        "plt.scatter(X_test, y_pred_inverse, color='r')\n",
        "plt.show()"
      ],
      "id": "d928cc70-76e1-4902-8318-bffc76ad1b00"
    },
    {
      "cell_type": "code",
      "execution_count": 28,
      "metadata": {},
      "outputs": [
        {
          "output_type": "stream",
          "name": "stdout",
          "text": [
            "MAPE:0.10"
          ]
        }
      ],
      "source": [
        "print('MAPE:%.2f' % \n",
        "      mean_absolute_percentage_error(y_test,y_pred_inverse))"
      ],
      "id": "edceadfe-7747-44b7-acc5-ca1f80381de8"
    }
  ],
  "nbformat": 4,
  "nbformat_minor": 5,
  "metadata": {
    "kernelspec": {
      "name": "python3",
      "display_name": "Python 3 (ipykernel)",
      "language": "python"
    },
    "language_info": {
      "name": "python",
      "codemirror_mode": {
        "name": "ipython",
        "version": "3"
      },
      "file_extension": ".py",
      "mimetype": "text/x-python",
      "nbconvert_exporter": "python",
      "pygments_lexer": "ipython3",
      "version": "3.8.16"
    }
  }
}