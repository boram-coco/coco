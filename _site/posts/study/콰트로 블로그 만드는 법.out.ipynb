{
  "cells": [
    {
      "cell_type": "markdown",
      "metadata": {},
      "source": [
        "# 콰트로 블로그\n",
        "\n",
        "김보람  \n",
        "2023-03-13\n",
        "\n",
        "# github 블로그 만들기\n",
        "\n",
        "## 콰트로 블로그 만드는 법\n",
        "\n",
        "1.  git에서 Repositories 생성\n",
        "\n",
        "-   생성시 Read.Me 체크\n",
        "\n",
        "1.  만들어진 레퍼토리의 HTTPS주소 복사\n",
        "\n",
        "3.명령 프롬프트에서 Dropbox로 들어가기\n",
        "\n",
        "``` python\n",
        "cd Dropbox\n",
        "```\n",
        "\n",
        "1.  git clone “2번복사한주소”\n",
        "\n",
        "2.  콰트로 블로그 설정파일 자동 생성\n",
        "\n",
        "``` python\n",
        "quarto create-project --type website:blog\n",
        "```\n",
        "\n",
        "1.  유저등록 (최초 한번)\n",
        "\n",
        "``` python\n",
        "git config --global user.email \"내 깃허브 이메일\"\n",
        "\n",
        "git config --global user.name \"내 깃허브 닉네임\"\n",
        "\n",
        "git config credential.helper store  #(아이디와 비번 저장)\n",
        "```\n",
        "\n",
        "1.  \n",
        "\n",
        "``` python\n",
        "git add .\n",
        "git commit -m .\n",
        "git push   (실행시 id/password작성)\n",
        "```\n",
        "\n",
        "1.  publish\n",
        "\n",
        "``` python\n",
        "quarto publish gh-pages --no-prompt --no-bropwer\n",
        "```"
      ],
      "id": "8d20b216-f9b9-46e5-a680-5340b481cc8b"
    }
  ],
  "nbformat": 4,
  "nbformat_minor": 5,
  "metadata": {
    "kernelspec": {
      "name": "python3",
      "display_name": "Python 3 (ipykernel)",
      "language": "python"
    },
    "language_info": {
      "name": "python",
      "codemirror_mode": {
        "name": "ipython",
        "version": "3"
      },
      "file_extension": ".py",
      "mimetype": "text/x-python",
      "nbconvert_exporter": "python",
      "pygments_lexer": "ipython3",
      "version": "3.8.16"
    }
  }
}