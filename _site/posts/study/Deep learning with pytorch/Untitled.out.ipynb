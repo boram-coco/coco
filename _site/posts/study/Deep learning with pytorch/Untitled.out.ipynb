{
  "cells": [
    {
      "cell_type": "markdown",
      "metadata": {},
      "source": [
        "# Tensor Basic\n",
        "\n",
        "김보람  \n",
        "2023-07-14\n",
        "\n",
        "## Ref\n",
        "\n",
        "-   Book: 딥러닝 파이토치 교과서(서지영 지음, 길벗 출판사)\n",
        "\n",
        "-   github: https://github.com/gilbutITbook/080289/tree/main\n",
        "\n",
        "# import"
      ],
      "id": "ae538ff2-5e80-40c8-adf0-476beb7759be"
    },
    {
      "cell_type": "code",
      "execution_count": 12,
      "metadata": {},
      "outputs": [],
      "source": [
        "import numpy as np\n",
        "import matplotlib.pyplot as plt\n",
        "\n",
        "import torch\n",
        "import torch.nn as nn\n",
        "from torch.autograd import Variable\n",
        "import torch.nn.functional as F\n",
        "\n",
        "import torchvision\n",
        "import torchvision.transforms as transforms\n",
        "from torch.utils.data import Dataset, DataLoader"
      ],
      "id": "9a3f1cec-0102-41c4-b255-2312f23f369c"
    },
    {
      "cell_type": "code",
      "execution_count": 5,
      "metadata": {},
      "outputs": [],
      "source": [
        "device = torch.device(\"cuda:0\" if torch.cuda.is_available() else \"cpu\")"
      ],
      "id": "110e6efe-0554-47ec-bdb3-dd750b117d87"
    },
    {
      "cell_type": "code",
      "execution_count": 10,
      "metadata": {},
      "outputs": [],
      "source": [
        "torchvision.datasets.FashionMNIST?"
      ],
      "id": "44b9aca3-6716-43e1-92f0-e46ab9b46c6f"
    },
    {
      "cell_type": "code",
      "execution_count": 14,
      "metadata": {},
      "outputs": [],
      "source": [
        "train_dataset = torchvision.datasets.FashionMNIST(\"../data\", download=True, transform=transforms.Compose([transforms.ToTensor()]))\n",
        "test_dataset = torchvision.datasets.FashionMNIST(\"../data\", download=True, train=False, transform=transforms.Compose([transforms.ToTensor()]))"
      ],
      "id": "f4b0390b-f84a-497c-b3d8-81cd83f15e41"
    }
  ],
  "nbformat": 4,
  "nbformat_minor": 5,
  "metadata": {
    "kernelspec": {
      "name": "python3",
      "display_name": "Python 3 (ipykernel)",
      "language": "python"
    },
    "language_info": {
      "name": "python",
      "codemirror_mode": {
        "name": "ipython",
        "version": "3"
      },
      "file_extension": ".py",
      "mimetype": "text/x-python",
      "nbconvert_exporter": "python",
      "pygments_lexer": "ipython3",
      "version": "3.8.16"
    }
  }
}