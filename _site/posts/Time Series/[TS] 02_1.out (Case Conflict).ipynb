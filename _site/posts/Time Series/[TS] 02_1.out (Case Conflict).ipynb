{
  "cells": [
    {
      "cell_type": "markdown",
      "metadata": {},
      "source": [
        "# \\[TS\\] CH02. 실습1(추세모형)\n",
        "\n",
        "김보람  \n",
        "2023-09-30\n",
        "\n",
        "> 해당 자료는 전북대학교 이영미 교수님 2023고급시계열분석 자료임\n",
        "\n",
        "# 패키지 설치"
      ],
      "id": "29d13099-d568-406f-b503-9699e386c5e8"
    },
    {
      "cell_type": "code",
      "execution_count": 1,
      "metadata": {},
      "outputs": [
        {
          "output_type": "stream",
          "name": "stderr",
          "text": [
            "Loading required package: zoo\n",
            "\n",
            "\n",
            "Attaching package: ‘zoo’\n",
            "\n",
            "\n",
            "The following objects are masked from ‘package:base’:\n",
            "\n",
            "    as.Date, as.Date.numeric\n",
            "\n",
            "\n",
            "\n",
            "Attaching package: ‘lubridate’\n",
            "\n",
            "\n",
            "The following objects are masked from ‘package:base’:\n",
            "\n",
            "    date, intersect, setdiff, union\n",
            "\n"
          ]
        }
      ],
      "source": [
        "library(lmtest) # Dw test\n",
        "library(ggplot2)\n",
        "library(lubridate)  # ㄴㄹ짜 다루는 패키지"
      ],
      "id": "d5314025-a613-453f-b9e2-045045c72033"
    },
    {
      "cell_type": "code",
      "execution_count": 2,
      "metadata": {},
      "outputs": [],
      "source": [
        "options(repr.plot.width = 15, repr.plot.height = 8)"
      ],
      "id": "de6ca800-788d-4ec1-91bc-dc5f5b9c6714"
    },
    {
      "cell_type": "markdown",
      "metadata": {},
      "source": [
        "# 국내총인구"
      ],
      "id": "64a59948-ff68-46b0-9c39-49b7b921570b"
    },
    {
      "cell_type": "code",
      "execution_count": 11,
      "metadata": {},
      "outputs": [],
      "source": [
        "z <- scan(\"population.txt\")\n",
        "head(z)"
      ],
      "id": "91fe4783-7624-4993-bc98-4605c8d1e88a"
    },
    {
      "cell_type": "code",
      "execution_count": 10,
      "metadata": {
        "tags": []
      },
      "outputs": [],
      "source": [
        "# pop = round(z/10000)\n",
        "# head(pop)"
      ],
      "id": "f7d15769-221c-40d0-a564-0ec84e99ce36"
    },
    {
      "cell_type": "code",
      "execution_count": 5,
      "metadata": {},
      "outputs": [],
      "source": [
        "tmp.data <- data.frame(\n",
        " day = seq(ymd(\"1960-01-01\"),by='year', length.out=length(z)),  #60년 1월 1일부터 연단위로, 데이터길이는 z와 동일하게.\n",
        " #day = 1959 + 1:length(z),\n",
        " pop = round(z/10000),\n",
        " t = 1:length(z),\n",
        " t2 = (1:length(z))^2\n",
        ")\n",
        "head(tmp.data)"
      ],
      "id": "289870a4-fe6c-47f4-862f-403b0cb1c884"
    },
    {
      "cell_type": "markdown",
      "metadata": {},
      "source": [
        "# 시도표그리기"
      ],
      "id": "b08cd755-3023-4dec-9849-6d77fd054972"
    },
    {
      "cell_type": "code",
      "execution_count": null,
      "metadata": {},
      "outputs": [],
      "source": [
        "ggplot(tmp.data, aes(day, pop)) +\n",
        " geom_line(col='skyblue', lwd=3) +\n",
        " geom_point(col='steelblue', cex=3)+\n",
        " theme_bw() +\n",
        " #scale_x_date(date_labels = \"%Y-%m\") +\n",
        " theme(axis.title=element_blank(),    # ggplot 배경 변경\n",
        " axis.text= element_text(size=20))"
      ],
      "id": "3c4a7a9c-d335-469d-847a-15818c15bf30"
    },
    {
      "cell_type": "code",
      "execution_count": null,
      "metadata": {},
      "outputs": [],
      "source": [
        "ggplot(tmp.data, aes(day, pop)) +\n",
        " geom_line(col='skyblue', lwd=3) +\n",
        " geom_point(col='steelblue', cex=3)+\n",
        " xlab(\"time\") + ylab(\"Population\")+\n",
        " theme_bw() +\n",
        " #scale_x_date(date_labels = \"%Y-%m\") +\n",
        " theme(axis.text= element_text(size=20),\n",
        " axis.title= element_text(size=30))"
      ],
      "id": "9cdf2153-1d2e-4f86-9f69-3c0389bd65de"
    },
    {
      "cell_type": "markdown",
      "metadata": {},
      "source": [
        "# 1차 선형 추세 모형\n",
        "\n",
        "$$\\text{모형}: Z_t = \\beta_0 + \\beta_1 t + \\epsilon_t, t=1,\\dots, n$$"
      ],
      "id": "ad7ce9b9-1b36-4802-b980-5b8301c0ef24"
    },
    {
      "cell_type": "code",
      "execution_count": null,
      "metadata": {},
      "outputs": [],
      "source": [
        "m1 <- lm(pop~t, data=tmp.data)\n",
        "summary(m1)\n"
      ],
      "id": "e1d04b7e-9428-4053-b422-85df8a505dca"
    },
    {
      "cell_type": "code",
      "execution_count": null,
      "metadata": {},
      "outputs": [],
      "source": [
        "plot(pop~day, tmp.data,\n",
        " main = 'Population : observation vs. fitted value',\n",
        " xlab=\"\", ylab=\"\",\n",
        " type='l',\n",
        " col='skyblue',\n",
        " lwd=2, cex.axis=2, cex.main=2) +\n",
        " points(pop~day, tmp.data, col=\"steelblue\", cex=2, pch=16) +\n",
        " lines(tmp.data$day, fitted(m1), col='red', lty=2, lwd=2)\n"
      ],
      "id": "8e47d3d1-413f-419f-971f-121331b39ee0"
    },
    {
      "cell_type": "markdown",
      "metadata": {},
      "source": [
        "## 잔차분석"
      ],
      "id": "27655c01-b5ac-4b0d-82f3-1554817fb783"
    },
    {
      "cell_type": "code",
      "execution_count": null,
      "metadata": {},
      "outputs": [],
      "source": [
        "plot(tmp.data$day, resid(m1),\n",
        "     pch=16, cex=2, xaxt='n',\n",
        "     xlab=\"\", ylab=\"\", main=\"residual plot\", cex.main=2)\n",
        "abline(h=0, lty=2, lwd=2)\n"
      ],
      "id": "096b3ec7-6f7d-4c1e-a3ea-52c9f390f7aa"
    },
    {
      "cell_type": "markdown",
      "metadata": {},
      "source": [
        "## 독립성검정(DW test)"
      ],
      "id": "58268461-a4f3-4e9f-b01b-6973fc24ce1c"
    },
    {
      "cell_type": "code",
      "execution_count": null,
      "metadata": {},
      "outputs": [],
      "source": [
        "dwtest(m1)"
      ],
      "id": "b2c3d4e6-58a8-4c46-a31f-df131051d0f1"
    },
    {
      "cell_type": "markdown",
      "metadata": {},
      "source": [
        "-   아무 옵션이 없으면 0보다 크냐는게 기본!! 대립가설확인필요"
      ],
      "id": "a36fb0d5-7215-4db5-9fe6-b3a5492f2de4"
    },
    {
      "cell_type": "code",
      "execution_count": null,
      "metadata": {},
      "outputs": [],
      "source": [
        "dwtest(m1, alternative=\"two.sided\")"
      ],
      "id": "006431e0-9be2-4ca5-8d87-a104a2f73c6e"
    },
    {
      "cell_type": "markdown",
      "metadata": {},
      "source": [
        "-   양측검정"
      ],
      "id": "ef674391-a6e0-443c-b035-338b3c35420c"
    },
    {
      "cell_type": "code",
      "execution_count": null,
      "metadata": {},
      "outputs": [],
      "source": [
        "dwtest(m1, alternative=\"less\")"
      ],
      "id": "ce15d158-959d-480c-822c-89e5cf6cbfbc"
    },
    {
      "cell_type": "markdown",
      "metadata": {},
      "source": [
        "## 정규분포 검정(shapro-wilk test)\n",
        "\n",
        "`-` 가설\n",
        "\n",
        "$H_0$: 정규분포를 따른다. VS $H_1$: 정규분포를 따르지 않는다."
      ],
      "id": "d98d65ff-b995-4e7d-a2bb-548051c77fde"
    },
    {
      "cell_type": "code",
      "execution_count": null,
      "metadata": {},
      "outputs": [],
      "source": [
        "hist(resid(m1))\n"
      ],
      "id": "b21b012a-ea12-4592-8961-59bea7c76378"
    },
    {
      "cell_type": "markdown",
      "metadata": {},
      "source": [
        "-   왼쪽으로 치우쳐져 있는 그림. 정규분포가 아닐거 같다."
      ],
      "id": "41003991-a30e-4b15-afdb-d0409e7b9f9e"
    },
    {
      "cell_type": "code",
      "execution_count": null,
      "metadata": {},
      "outputs": [],
      "source": [
        "shapiro.test(resid(m1)) #H_0 : 정규분포를 따른다.\n"
      ],
      "id": "dae4dd0c-c407-4caa-91f3-aa5cbb09225a"
    },
    {
      "cell_type": "code",
      "execution_count": null,
      "metadata": {},
      "outputs": [],
      "source": [
        "-"
      ],
      "id": "40604a32-53c4-4961-b321-9dac42f403e5"
    },
    {
      "cell_type": "markdown",
      "metadata": {},
      "source": [
        "## 등분산성검정(Breusch–Pagan test)\n",
        "\n",
        "`-` 가설\n",
        "\n",
        "$H_0$: 등분산 VS $H_1$: 이분산"
      ],
      "id": "c9fd12ae-bc0a-49ba-a7f6-10591088a283"
    },
    {
      "cell_type": "code",
      "execution_count": null,
      "metadata": {},
      "outputs": [],
      "source": [
        "bptest(m1)\n"
      ],
      "id": "125344aa-1464-4dd6-8cb5-71f60c6b5ca7"
    },
    {
      "cell_type": "markdown",
      "metadata": {},
      "source": [
        "-   잔차에 대한 bptest를 한다. 위에 shapiro는 resid(m1)해줬지만 bptest는\n",
        "    그냥 바로 넣어 주면 된다.\n",
        "\n",
        "-   pvalue값이 엄청 커서 기각 못함. 즉 등분산이다.\n",
        "\n",
        "# 2차 선형 추세\n",
        "\n",
        "$$\\text{모형}: Z_t = \\beta_0 + \\beta_1 t + \\beta_2 t^2 + \\epsilon_t, t=1,\\dots, n$$"
      ],
      "id": "5d3dcfd1-fc23-4703-a410-e29f83115584"
    },
    {
      "cell_type": "code",
      "execution_count": null,
      "metadata": {},
      "outputs": [],
      "source": [
        "m2 <- lm(pop~t+t2, data=tmp.data)\n",
        "summary(m2)\n"
      ],
      "id": "e546397f-0dba-42ba-b283-053af6fae2d4"
    },
    {
      "cell_type": "markdown",
      "metadata": {},
      "source": [
        "-   t2말고 $I(t^2)$으로 작성해줘도 된다. 대신 $t^2$으로 하게 되면 오류가\n",
        "    나니까 I지시함수 꼭 써주기"
      ],
      "id": "6b502328-d618-42f3-84d8-43ec66e99637"
    },
    {
      "cell_type": "code",
      "execution_count": null,
      "metadata": {},
      "outputs": [],
      "source": [
        "plot(pop~day, tmp.data,\n",
        " main = 'Population : observation vs. fitted value',\n",
        " xlab=\"\", ylab=\"\",\n",
        " type='l',\n",
        " col='skyblue',\n",
        " lwd=2, cex.axis=2, cex.main=2) +\n",
        " points(pop~day, tmp.data, col=\"steelblue\", cex=2, pch=16) +\n",
        " lines(tmp.data$day, fitted(m2), col='red', lty=2, lwd=2)"
      ],
      "id": "1ecf2a4b-eb56-4e69-87c9-891a1357336b"
    },
    {
      "cell_type": "markdown",
      "metadata": {},
      "source": [
        "## 잔차분석"
      ],
      "id": "77c9060f-d339-4031-842c-28e44249b24f"
    },
    {
      "cell_type": "code",
      "execution_count": null,
      "metadata": {},
      "outputs": [],
      "source": [
        "plot(tmp.data$day, resid(m2),\n",
        " pch=16, cex=2, xaxt='n',\n",
        " xlab=\"\", ylab=\"\", main=\"residual plot\", cex.main=2)\n",
        "abline(h=0, lty=2, lwd=2)\n"
      ],
      "id": "97f2913c-f099-42ba-866f-9ffb28b7eeed"
    },
    {
      "cell_type": "markdown",
      "metadata": {},
      "source": [
        "## 독립성 검정(DW test)"
      ],
      "id": "14f168b4-172e-4426-9616-64ae46145d75"
    },
    {
      "cell_type": "code",
      "execution_count": null,
      "metadata": {},
      "outputs": [],
      "source": [
        "dwtest(m2,alternative = \"two.sided\")"
      ],
      "id": "429395a5-7c42-4952-b32e-a0e1dd9d44fe"
    },
    {
      "cell_type": "code",
      "execution_count": null,
      "metadata": {},
      "outputs": [],
      "source": [
        "dwtest(m2,alternative = \"greater\")\n"
      ],
      "id": "e49ad786-af64-459b-8214-b5162ec4af82"
    },
    {
      "cell_type": "markdown",
      "metadata": {},
      "source": [
        "## 정규성 검정"
      ],
      "id": "811d47bf-21af-4661-8a17-c63a47550fff"
    },
    {
      "cell_type": "code",
      "execution_count": null,
      "metadata": {},
      "outputs": [],
      "source": [
        "qqnorm(resid(m2), pch=16, cex=2)\n",
        "qqline(resid(m2), col = 2, lwd=2)\n"
      ],
      "id": "5e6b5349-7a64-40bf-a596-e355ce6454b3"
    },
    {
      "cell_type": "code",
      "execution_count": null,
      "metadata": {},
      "outputs": [],
      "source": [
        "hist(resid(m2))"
      ],
      "id": "6e5e3c4b-8441-4c73-a1ef-f22162df86d3"
    },
    {
      "cell_type": "code",
      "execution_count": null,
      "metadata": {},
      "outputs": [],
      "source": [
        "shapiro.test(resid(m2)) ##shapiro-wilk test"
      ],
      "id": "a45c276e-bc30-4fc1-bda2-afee0cbf2a79"
    },
    {
      "cell_type": "markdown",
      "metadata": {},
      "source": [
        "## 등분산성 검정"
      ],
      "id": "c6165821-2f08-4880-b4c8-b12d4318a185"
    },
    {
      "cell_type": "code",
      "execution_count": null,
      "metadata": {},
      "outputs": [],
      "source": [
        "bptest(m2)"
      ],
      "id": "250f42b1-2dc1-4392-87a4-2b333db8e503"
    },
    {
      "cell_type": "markdown",
      "metadata": {},
      "source": [
        "-   이분산성이다.\n",
        "\n",
        "# 로그변환 후 2차 추세\n",
        "\n",
        "$$\\text{모형}: ln(Z_t) = \\beta_0 + \\beta_1 t + \\beta_2 t^2 + \\epsilon_t, t=1,\\dots, n$$"
      ],
      "id": "2caae5ec-7a2c-47b7-896a-20de3715660e"
    },
    {
      "cell_type": "code",
      "execution_count": null,
      "metadata": {},
      "outputs": [],
      "source": [
        "m3 <- lm(log(pop)~t+t2, data=tmp.data)\n",
        "summary(m3)"
      ],
      "id": "1181ed5a-f2e5-465a-b17a-75c8e6263ca9"
    },
    {
      "cell_type": "code",
      "execution_count": null,
      "metadata": {},
      "outputs": [],
      "source": [
        "plot(log(pop)~day, tmp.data,\n",
        " main = 'Population : observation vs. fitted value',\n",
        " xlab=\"\", ylab=\"\",\n",
        " type='l',\n",
        " col='skyblue',\n",
        " lwd=2, cex.axis=2, cex.main=2) +\n",
        " points(log(pop)~day, tmp.data, col=\"steelblue\", cex=2, pch=16) +\n",
        " lines(tmp.data$day, fitted(m3), col='red', lty=2, lwd=2)\n"
      ],
      "id": "17fb2bf4-734b-4a7c-9a08-9d855d1b079f"
    },
    {
      "cell_type": "code",
      "execution_count": null,
      "metadata": {},
      "outputs": [],
      "source": [
        "plot(pop~day, tmp.data,\n",
        " main = 'Population : observation vs. fitted value',\n",
        " xlab=\"\", ylab=\"\",\n",
        " type='l',\n",
        " col='skyblue',\n",
        " lwd=2, cex.axis=2, cex.main=2) +\n",
        " points(pop~day, tmp.data, col=\"steelblue\", cex=2, pch=16) +\n",
        " lines(tmp.data$day, exp(fitted(m3)), col='red', lty=2, lwd=2)"
      ],
      "id": "79c99551-8bf5-45e7-a7de-417216160a6b"
    },
    {
      "cell_type": "markdown",
      "metadata": {},
      "source": [
        "## 잔차분석"
      ],
      "id": "ef5ce4db-d928-4f6b-966a-211bd9a18f05"
    },
    {
      "cell_type": "code",
      "execution_count": null,
      "metadata": {},
      "outputs": [],
      "source": [
        "plot(tmp.data$day, resid(m3),\n",
        " pch=16, cex=2, xaxt='n',\n",
        " xlab=\"\", ylab=\"\", main=\"residual plot\", cex.main=2)\n",
        "abline(h=0, lty=2, lwd=2)"
      ],
      "id": "cb024e43-8215-431f-8812-1215318003a9"
    },
    {
      "cell_type": "markdown",
      "metadata": {},
      "source": [
        "## 독립성 검정"
      ],
      "id": "25f4e7de-b482-441a-a353-0d861990b021"
    },
    {
      "cell_type": "code",
      "execution_count": null,
      "metadata": {},
      "outputs": [],
      "source": [
        "dwtest(m3,alternative = \"two.sided\")\n"
      ],
      "id": "81ee3db1-01b6-4c20-95f6-f7cf15d8222d"
    },
    {
      "cell_type": "code",
      "execution_count": null,
      "metadata": {},
      "outputs": [],
      "source": [
        "dwtest(m3,alternative = \"greater\")\n"
      ],
      "id": "b9e542ec-f5c9-4364-9a00-648b37214da3"
    },
    {
      "cell_type": "markdown",
      "metadata": {},
      "source": [
        "## 정규성 검정"
      ],
      "id": "956b7940-79ed-4cb1-a939-0441f1c321c5"
    },
    {
      "cell_type": "code",
      "execution_count": null,
      "metadata": {},
      "outputs": [],
      "source": [
        "qqnorm(resid(m2), pch=16, cex=2)\n",
        "qqline(resid(m2), col = 2, lwd=2)\n"
      ],
      "id": "0b236ab4-fb97-4261-a2aa-3276f07056f4"
    },
    {
      "cell_type": "code",
      "execution_count": null,
      "metadata": {},
      "outputs": [],
      "source": [
        "hist(resid(m3))"
      ],
      "id": "79d666be-91d9-4e3d-8cbe-bea4a1e083ad"
    },
    {
      "cell_type": "code",
      "execution_count": null,
      "metadata": {},
      "outputs": [],
      "source": [
        "shapiro.test(resid(m3))"
      ],
      "id": "af99d2af-e939-4caa-b942-b8db16a38157"
    },
    {
      "cell_type": "markdown",
      "metadata": {},
      "source": [
        "## 등분산성 검정"
      ],
      "id": "264030f8-66de-4953-ac4d-687df4a04e5a"
    },
    {
      "cell_type": "code",
      "execution_count": null,
      "metadata": {},
      "outputs": [],
      "source": [
        "bptest(m3)\n"
      ],
      "id": "7485068b-bf29-4960-9839-6e51d5405062"
    }
  ],
  "nbformat": 4,
  "nbformat_minor": 5,
  "metadata": {
    "kernelspec": {
      "name": "ir",
      "display_name": "R",
      "language": "R"
    },
    "language_info": {
      "name": "R",
      "codemirror_mode": "r",
      "file_extension": ".r",
      "mimetype": "text/x-r-source",
      "pygments_lexer": "r",
      "version": "4.2.2"
    }
  }
}