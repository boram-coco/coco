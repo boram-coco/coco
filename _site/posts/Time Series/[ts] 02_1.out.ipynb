{
  "cells": [
    {
      "cell_type": "markdown",
      "metadata": {},
      "source": [
        "# \\[TS\\] CH02. 실습1(추세모형)\n",
        "\n",
        "김보람  \n",
        "2023-09-28\n",
        "\n",
        "> 해당 자료는 전북대학교 이영미 교수님 2023고급시계열분석 자료임\n",
        "\n",
        "# 패키지 설치"
      ],
      "id": "93d06665-9a69-43e3-8bf0-68a24ec98a57"
    },
    {
      "cell_type": "code",
      "execution_count": 1,
      "metadata": {},
      "outputs": [
        {
          "output_type": "stream",
          "name": "stderr",
          "text": [
            "Loading required package: zoo\n",
            "\n",
            "\n",
            "Attaching package: ‘zoo’\n",
            "\n",
            "\n",
            "The following objects are masked from ‘package:base’:\n",
            "\n",
            "    as.Date, as.Date.numeric\n",
            "\n",
            "\n",
            "\n",
            "Attaching package: ‘lubridate’\n",
            "\n",
            "\n",
            "The following objects are masked from ‘package:base’:\n",
            "\n",
            "    date, intersect, setdiff, union\n",
            "\n"
          ]
        }
      ],
      "source": [
        "library(lmtest) # Dw test\n",
        "library(ggplot2)\n",
        "library(lubridate)"
      ],
      "id": "a17d8cf2-fa32-4df9-9acd-7960c8c036d9"
    },
    {
      "cell_type": "code",
      "execution_count": 3,
      "metadata": {},
      "outputs": [],
      "source": [
        "options(repr.plot.width = 15, repr.plot.height = 8)"
      ],
      "id": "de6ca800-788d-4ec1-91bc-dc5f5b9c6714"
    },
    {
      "cell_type": "markdown",
      "metadata": {},
      "source": [
        "# 국내총인구"
      ],
      "id": "5332f5dd-e914-4a81-b193-71dc6a91de0d"
    },
    {
      "cell_type": "code",
      "execution_count": 6,
      "metadata": {},
      "outputs": [],
      "source": [
        "# z <- scan(\"population.txt\")\n",
        "# head(z)"
      ],
      "id": "91fe4783-7624-4993-bc98-4605c8d1e88a"
    },
    {
      "cell_type": "code",
      "execution_count": null,
      "metadata": {
        "tags": []
      },
      "outputs": [],
      "source": [
        "pop = round(z/10000)\n",
        "head(pop)"
      ],
      "id": "f7d15769-221c-40d0-a564-0ec84e99ce36"
    },
    {
      "cell_type": "code",
      "execution_count": null,
      "metadata": {},
      "outputs": [],
      "source": [
        "tmp.data <- data.frame(\n",
        " day = seq(ymd(\"1960-01-01\"),by='year', length.out=length(z)),\n",
        " #day = 1959 + 1:length(z),\n",
        " pop = round(z/10000),\n",
        " t = 1:length(z),\n",
        " t2 = (1:length(z))^2\n",
        ")\n",
        "head(tmp.data)"
      ],
      "id": "289870a4-fe6c-47f4-862f-403b0cb1c884"
    },
    {
      "cell_type": "markdown",
      "metadata": {},
      "source": [
        "# 시도표그리기"
      ],
      "id": "7b250d28-fb19-41fa-acd5-3cdbfe1b1aaa"
    },
    {
      "cell_type": "code",
      "execution_count": null,
      "metadata": {},
      "outputs": [],
      "source": [
        "ggplot(tmp.data, aes(day, pop)) +\n",
        " geom_line(col='skyblue', lwd=3) +\n",
        " geom_point(col='steelblue', cex=3)+\n",
        " theme_bw() +\n",
        " #scale_x_date(date_labels = \"%Y-%m\") +\n",
        " theme(axis.title=element_blank(),\n",
        " axis.text= element_text(size=20))"
      ],
      "id": "3c4a7a9c-d335-469d-847a-15818c15bf30"
    },
    {
      "cell_type": "code",
      "execution_count": null,
      "metadata": {},
      "outputs": [],
      "source": [
        "ggplot(tmp.data, aes(day, pop)) +\n",
        " geom_line(col='skyblue', lwd=3) +\n",
        " geom_point(col='steelblue', cex=3)+\n",
        " xlab(\"time\") + ylab(\"Population\")+\n",
        " theme_bw() +\n",
        " #scale_x_date(date_labels = \"%Y-%m\") +\n",
        " theme(axis.text= element_text(size=20),\n",
        " axis.title= element_text(size=30))"
      ],
      "id": "9cdf2153-1d2e-4f86-9f69-3c0389bd65de"
    },
    {
      "cell_type": "markdown",
      "metadata": {},
      "source": [
        "# 1차 선형 추세 모형\n",
        "\n",
        "$$\\text{모형}: Z_t = \\beta_0 + \\beta_1 t + \\epsilon_t, t=1,\\dots, n$$"
      ],
      "id": "9fd8c004-9435-41fc-97dd-b95b6235db8f"
    },
    {
      "cell_type": "code",
      "execution_count": null,
      "metadata": {},
      "outputs": [],
      "source": [
        "m1 <- lm(pop~t, data=tmp.data)\n",
        "summary(m1)\n"
      ],
      "id": "e1d04b7e-9428-4053-b422-85df8a505dca"
    },
    {
      "cell_type": "code",
      "execution_count": null,
      "metadata": {},
      "outputs": [],
      "source": [
        "plot(pop~day, tmp.data,\n",
        " main = 'Population : observation vs. fitted value',\n",
        " xlab=\"\", ylab=\"\",\n",
        " type='l',\n",
        " col='skyblue',\n",
        " lwd=2, cex.axis=2, cex.main=2) +\n",
        " points(pop~day, tmp.data, col=\"steelblue\", cex=2, pch=16) +\n",
        " lines(tmp.data$day, fitted(m1), col='red', lty=2, lwd=2)\n"
      ],
      "id": "8e47d3d1-413f-419f-971f-121331b39ee0"
    },
    {
      "cell_type": "markdown",
      "metadata": {},
      "source": [
        "## 잔차분석"
      ],
      "id": "39bc8a83-818f-4ade-ab86-6c0e1ae83d53"
    },
    {
      "cell_type": "code",
      "execution_count": null,
      "metadata": {},
      "outputs": [],
      "source": [
        "plot(tmp.data$day, resid(m1),\n",
        "     pch=16, cex=2, xaxt='n',\n",
        "     xlab=\"\", ylab=\"\", main=\"residual plot\", cex.main=2)\n",
        "abline(h=0, lty=2, lwd=2)\n"
      ],
      "id": "096b3ec7-6f7d-4c1e-a3ea-52c9f390f7aa"
    },
    {
      "cell_type": "markdown",
      "metadata": {},
      "source": [
        "## 독립성검정(DW test)"
      ],
      "id": "af50e81c-3bd6-4289-8340-9f74030693e1"
    },
    {
      "cell_type": "code",
      "execution_count": null,
      "metadata": {},
      "outputs": [],
      "source": [
        "dwtest(m1)"
      ],
      "id": "b2c3d4e6-58a8-4c46-a31f-df131051d0f1"
    },
    {
      "cell_type": "code",
      "execution_count": null,
      "metadata": {},
      "outputs": [],
      "source": [
        "dwtest(m1, alternative=\"two.sided\")"
      ],
      "id": "006431e0-9be2-4ca5-8d87-a104a2f73c6e"
    },
    {
      "cell_type": "code",
      "execution_count": null,
      "metadata": {},
      "outputs": [],
      "source": [
        "dwtest(m1, alternative=\"less\")"
      ],
      "id": "ce15d158-959d-480c-822c-89e5cf6cbfbc"
    },
    {
      "cell_type": "markdown",
      "metadata": {},
      "source": [
        "## 정규분포 검정(shapro-wilk test)\n",
        "\n",
        "`-` 가설\n",
        "\n",
        "$H_0$: 정규분포를 따른다. VS $H_1$: 정규분포를 따르지 않는다."
      ],
      "id": "17fd28f2-3ad8-4134-8dae-e0bb5e79ce3f"
    },
    {
      "cell_type": "code",
      "execution_count": null,
      "metadata": {},
      "outputs": [],
      "source": [
        "hist(resid(m1))\n"
      ],
      "id": "b21b012a-ea12-4592-8961-59bea7c76378"
    },
    {
      "cell_type": "code",
      "execution_count": null,
      "metadata": {},
      "outputs": [],
      "source": [
        "shapiro.test(resid(m1)) #H_0 : 정규분포를 따른다.\n"
      ],
      "id": "dae4dd0c-c407-4caa-91f3-aa5cbb09225a"
    },
    {
      "cell_type": "markdown",
      "metadata": {},
      "source": [
        "## 등분산성검정(Breusch–Pagan test)\n",
        "\n",
        "`-` 가설\n",
        "\n",
        "$H_0$: 등분산 VS $H_1$: 이분산"
      ],
      "id": "bb5c2b48-5442-43a5-bfb9-60bc7d81d22c"
    },
    {
      "cell_type": "code",
      "execution_count": null,
      "metadata": {},
      "outputs": [],
      "source": [
        "bptest(m1)\n"
      ],
      "id": "125344aa-1464-4dd6-8cb5-71f60c6b5ca7"
    },
    {
      "cell_type": "markdown",
      "metadata": {},
      "source": [
        "# 2차 선형 추세\n",
        "\n",
        "$$\\text{모형}: Z_t = \\beta_0 + \\beta_1 t + \\beta_2 t^2 + \\epsilon_t, t=1,\\dots, n$$"
      ],
      "id": "36e4a47a-1bfb-4367-89bc-4dac653e2abd"
    },
    {
      "cell_type": "code",
      "execution_count": null,
      "metadata": {},
      "outputs": [],
      "source": [
        "m2 <- lm(pop~t+t2, data=tmp.data)\n",
        "summary(m2)\n"
      ],
      "id": "e546397f-0dba-42ba-b283-053af6fae2d4"
    },
    {
      "cell_type": "code",
      "execution_count": null,
      "metadata": {},
      "outputs": [],
      "source": [
        "plot(pop~day, tmp.data,\n",
        " main = 'Population : observation vs. fitted value',\n",
        " xlab=\"\", ylab=\"\",\n",
        " type='l',\n",
        " col='skyblue',\n",
        " lwd=2, cex.axis=2, cex.main=2) +\n",
        " points(pop~day, tmp.data, col=\"steelblue\", cex=2, pch=16) +\n",
        " lines(tmp.data$day, fitted(m2), col='red', lty=2, lwd=2)"
      ],
      "id": "1ecf2a4b-eb56-4e69-87c9-891a1357336b"
    },
    {
      "cell_type": "markdown",
      "metadata": {},
      "source": [
        "## 잔차분석"
      ],
      "id": "6118b011-5d7d-4c07-9ad0-43ac9eee39dc"
    },
    {
      "cell_type": "code",
      "execution_count": null,
      "metadata": {},
      "outputs": [],
      "source": [
        "plot(tmp.data$day, resid(m2),\n",
        " pch=16, cex=2, xaxt='n',\n",
        " xlab=\"\", ylab=\"\", main=\"residual plot\", cex.main=2)\n",
        "abline(h=0, lty=2, lwd=2)\n"
      ],
      "id": "97f2913c-f099-42ba-866f-9ffb28b7eeed"
    },
    {
      "cell_type": "markdown",
      "metadata": {},
      "source": [
        "## 독립성 검정(DW test)"
      ],
      "id": "e256388e-07d7-4215-8369-2e008a3624d5"
    },
    {
      "cell_type": "code",
      "execution_count": null,
      "metadata": {},
      "outputs": [],
      "source": [
        "dwtest(m2,alternative = \"two.sided\")"
      ],
      "id": "429395a5-7c42-4952-b32e-a0e1dd9d44fe"
    },
    {
      "cell_type": "code",
      "execution_count": null,
      "metadata": {},
      "outputs": [],
      "source": [
        "dwtest(m2,alternative = \"greater\")\n"
      ],
      "id": "e49ad786-af64-459b-8214-b5162ec4af82"
    },
    {
      "cell_type": "markdown",
      "metadata": {},
      "source": [
        "## 정규성 검정"
      ],
      "id": "1080e483-53b2-424d-afc5-a3871a050c3e"
    },
    {
      "cell_type": "code",
      "execution_count": null,
      "metadata": {},
      "outputs": [],
      "source": [
        "qqnorm(resid(m2), pch=16, cex=2)\n",
        "qqline(resid(m2), col = 2, lwd=2)\n"
      ],
      "id": "5e6b5349-7a64-40bf-a596-e355ce6454b3"
    },
    {
      "cell_type": "code",
      "execution_count": null,
      "metadata": {},
      "outputs": [],
      "source": [
        "hist(resid(m2))"
      ],
      "id": "6e5e3c4b-8441-4c73-a1ef-f22162df86d3"
    },
    {
      "cell_type": "code",
      "execution_count": null,
      "metadata": {},
      "outputs": [],
      "source": [
        "shapiro.test(resid(m2)) ##shapiro-wilk test"
      ],
      "id": "a45c276e-bc30-4fc1-bda2-afee0cbf2a79"
    },
    {
      "cell_type": "markdown",
      "metadata": {},
      "source": [
        "## 등분산성 검정"
      ],
      "id": "03abce74-3b77-4df9-a68e-64a582132fd2"
    },
    {
      "cell_type": "code",
      "execution_count": null,
      "metadata": {},
      "outputs": [],
      "source": [
        "bptest(m2)"
      ],
      "id": "250f42b1-2dc1-4392-87a4-2b333db8e503"
    },
    {
      "cell_type": "markdown",
      "metadata": {},
      "source": [
        "# 로그변환 후 2차 추세\n",
        "\n",
        "$$\\text{모형}: ln(Z_t) = \\beta_0 + \\beta_1 t + \\beta_2 t^2 + \\epsilon_t, t=1,\\dots, n$$"
      ],
      "id": "beda4c17-e928-4b1f-aa68-9b542197d9c9"
    },
    {
      "cell_type": "code",
      "execution_count": null,
      "metadata": {},
      "outputs": [],
      "source": [
        "m3 <- lm(log(pop)~t+t2, data=tmp.data)\n",
        "summary(m3)"
      ],
      "id": "1181ed5a-f2e5-465a-b17a-75c8e6263ca9"
    },
    {
      "cell_type": "code",
      "execution_count": null,
      "metadata": {},
      "outputs": [],
      "source": [
        "plot(log(pop)~day, tmp.data,\n",
        " main = 'Population : observation vs. fitted value',\n",
        " xlab=\"\", ylab=\"\",\n",
        " type='l',\n",
        " col='skyblue',\n",
        " lwd=2, cex.axis=2, cex.main=2) +\n",
        " points(log(pop)~day, tmp.data, col=\"steelblue\", cex=2, pch=16) +\n",
        " lines(tmp.data$day, fitted(m3), col='red', lty=2, lwd=2)\n"
      ],
      "id": "17fb2bf4-734b-4a7c-9a08-9d855d1b079f"
    },
    {
      "cell_type": "code",
      "execution_count": null,
      "metadata": {},
      "outputs": [],
      "source": [
        "plot(pop~day, tmp.data,\n",
        " main = 'Population : observation vs. fitted value',\n",
        " xlab=\"\", ylab=\"\",\n",
        " type='l',\n",
        " col='skyblue',\n",
        " lwd=2, cex.axis=2, cex.main=2) +\n",
        " points(pop~day, tmp.data, col=\"steelblue\", cex=2, pch=16) +\n",
        " lines(tmp.data$day, exp(fitted(m3)), col='red', lty=2, lwd=2)"
      ],
      "id": "79c99551-8bf5-45e7-a7de-417216160a6b"
    },
    {
      "cell_type": "markdown",
      "metadata": {},
      "source": [
        "## 잔차분석"
      ],
      "id": "78418dfd-7926-4063-8c6e-9359f4f3a10b"
    },
    {
      "cell_type": "code",
      "execution_count": null,
      "metadata": {},
      "outputs": [],
      "source": [
        "plot(tmp.data$day, resid(m3),\n",
        " pch=16, cex=2, xaxt='n',\n",
        " xlab=\"\", ylab=\"\", main=\"residual plot\", cex.main=2)\n",
        "abline(h=0, lty=2, lwd=2)"
      ],
      "id": "cb024e43-8215-431f-8812-1215318003a9"
    },
    {
      "cell_type": "markdown",
      "metadata": {},
      "source": [
        "## 독립성 검정"
      ],
      "id": "b4925fd5-b4a5-496a-a585-6f7a57a79118"
    },
    {
      "cell_type": "code",
      "execution_count": null,
      "metadata": {},
      "outputs": [],
      "source": [
        "dwtest(m3,alternative = \"two.sided\")\n"
      ],
      "id": "81ee3db1-01b6-4c20-95f6-f7cf15d8222d"
    },
    {
      "cell_type": "code",
      "execution_count": null,
      "metadata": {},
      "outputs": [],
      "source": [
        "dwtest(m3,alternative = \"greater\")\n"
      ],
      "id": "b9e542ec-f5c9-4364-9a00-648b37214da3"
    },
    {
      "cell_type": "markdown",
      "metadata": {},
      "source": [
        "## 정규성 검정"
      ],
      "id": "a8599a19-51dd-477f-a1e9-3ebb7ab62bb4"
    },
    {
      "cell_type": "code",
      "execution_count": null,
      "metadata": {},
      "outputs": [],
      "source": [
        "qqnorm(resid(m2), pch=16, cex=2)\n",
        "qqline(resid(m2), col = 2, lwd=2)\n"
      ],
      "id": "0b236ab4-fb97-4261-a2aa-3276f07056f4"
    },
    {
      "cell_type": "code",
      "execution_count": null,
      "metadata": {},
      "outputs": [],
      "source": [
        "hist(resid(m3))"
      ],
      "id": "79d666be-91d9-4e3d-8cbe-bea4a1e083ad"
    },
    {
      "cell_type": "code",
      "execution_count": null,
      "metadata": {},
      "outputs": [],
      "source": [
        "shapiro.test(resid(m3))"
      ],
      "id": "af99d2af-e939-4caa-b942-b8db16a38157"
    },
    {
      "cell_type": "markdown",
      "metadata": {},
      "source": [
        "## 등분산성 검정"
      ],
      "id": "988e1698-30a6-48ac-88f1-d74f1b40c8af"
    },
    {
      "cell_type": "code",
      "execution_count": null,
      "metadata": {},
      "outputs": [],
      "source": [
        "bptest(m3)\n"
      ],
      "id": "7485068b-bf29-4960-9839-6e51d5405062"
    }
  ],
  "nbformat": 4,
  "nbformat_minor": 5,
  "metadata": {
    "kernelspec": {
      "name": "ir",
      "display_name": "R",
      "language": "R"
    },
    "language_info": {
      "name": "R",
      "codemirror_mode": "r",
      "file_extension": ".r",
      "mimetype": "text/x-r-source",
      "pygments_lexer": "r",
      "version": "4.2.2"
    }
  }
}