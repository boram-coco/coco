{
  "cells": [
    {
      "cell_type": "markdown",
      "metadata": {},
      "source": [
        "# 기계학습 (0928) 4주차\n",
        "\n",
        "김보람  \n",
        "2022-09-28\n",
        "\n",
        "## imports"
      ],
      "id": "00e69609-7107-49a3-9692-46a279e35941"
    },
    {
      "cell_type": "code",
      "execution_count": null,
      "metadata": {},
      "outputs": [],
      "source": [
        "import numpy as np\n",
        "import matplotlib.pyplot as plt \n",
        "import pandas as pd\n",
        "import torch"
      ],
      "id": "c929aede-8fe2-48a0-9e0f-c72322d15795"
    },
    {
      "cell_type": "markdown",
      "metadata": {},
      "source": [
        "## numpy, torch (선택학습)\n",
        "\n",
        "### numpy, torch는 엄청 비슷해요\n",
        "\n",
        "`-` torch.tensor() = np.array() 처럼 생각해도 무방"
      ],
      "id": "fdb77800-24a8-4cd1-8629-6cdb3fea56a0"
    },
    {
      "cell_type": "code",
      "execution_count": null,
      "metadata": {
        "outputId": "b3ef5b24-fed0-4b8d-b7b2-1d19491f24c8"
      },
      "outputs": [],
      "source": [
        "np.array([1,2,3]), torch.tensor([1,2,3])"
      ],
      "id": "5d013d82-0a2d-4df4-9c14-15e43f6d83d4"
    },
    {
      "cell_type": "markdown",
      "metadata": {},
      "source": [
        "`-` 소수점의 정밀도에서 차이가 있음 (torch가 좀 더 쪼잔함)"
      ],
      "id": "0c2043b9-c5e2-44d7-b4d0-ff656962b37f"
    },
    {
      "cell_type": "code",
      "execution_count": null,
      "metadata": {
        "outputId": "e0ce6270-b5e3-40fe-a57a-32e2dbc832c8"
      },
      "outputs": [],
      "source": [
        "np.array([3.123456789])"
      ],
      "id": "aec0f1ed-cb64-425a-a215-1b8815b5c439"
    },
    {
      "cell_type": "code",
      "execution_count": null,
      "metadata": {
        "outputId": "661a046d-1440-41ae-f307-2f95e1958c1a"
      },
      "outputs": [],
      "source": [
        "torch.tensor([3.123456789]) #GPU메모리에 저장해서 "
      ],
      "id": "c90aa64e-1b41-477f-abcf-bd17acf6ca2d"
    },
    {
      "cell_type": "markdown",
      "metadata": {},
      "source": [
        "`-` 기본적인 numpy 문법은 np 대신에 torch를 써도 무방 // 완전 같지는\n",
        "않음"
      ],
      "id": "e1d2e0ee-d21d-41c2-af0f-94f566ce13e7"
    },
    {
      "cell_type": "code",
      "execution_count": null,
      "metadata": {
        "outputId": "17fbc28b-50c2-48ed-a9a9-836775fa95c6"
      },
      "outputs": [],
      "source": [
        "np.arange(10), torch.arange(10)"
      ],
      "id": "e9c6fa33-0b71-44ab-9aeb-f487ae8059e3"
    },
    {
      "cell_type": "code",
      "execution_count": null,
      "metadata": {
        "outputId": "07bb2cb4-57b4-438f-ac5f-d47dce53d9c1"
      },
      "outputs": [],
      "source": [
        "np.linspace(0,1,10), torch.linspace(0,1,10)"
      ],
      "id": "e9614c5d-bf5f-40f2-bff6-fded665e3057"
    },
    {
      "cell_type": "code",
      "execution_count": null,
      "metadata": {
        "outputId": "9ad51f9e-fdc8-4b85-dee8-6e3ff9ab2667"
      },
      "outputs": [],
      "source": [
        "np.random.randn(10)"
      ],
      "id": "aa506c5b-d8d0-4afd-a75f-530e524d8bd8"
    },
    {
      "cell_type": "code",
      "execution_count": null,
      "metadata": {
        "outputId": "c3a612c4-f4b0-4870-cb8f-ab728ae8a753"
      },
      "outputs": [],
      "source": [
        "torch.randn(10)"
      ],
      "id": "30534d70-3724-4b48-afb2-52eefdc8981d"
    },
    {
      "cell_type": "markdown",
      "metadata": {},
      "source": [
        "### length $n$ vector, $n \\times 1$ col-vector, $1 \\times n$ row-vector\n",
        "\n",
        "`-` 길이가 3인 벡터 선언방법"
      ],
      "id": "0e2f7fb4-37c3-4863-85ba-c3652366c493"
    },
    {
      "cell_type": "code",
      "execution_count": null,
      "metadata": {
        "outputId": "ff767456-53da-4020-976e-8e4b4c756b8d"
      },
      "outputs": [],
      "source": [
        "a = torch.tensor([1,2,3])\n",
        "a.shape"
      ],
      "id": "e6917569-59b2-4287-ba4e-d78366cfb193"
    },
    {
      "cell_type": "markdown",
      "metadata": {},
      "source": [
        "`-` 3x1 col-vec 선언방법\n",
        "\n",
        "(방법1)"
      ],
      "id": "767b4220-9af7-4599-8005-b661aff5f299"
    },
    {
      "cell_type": "code",
      "execution_count": null,
      "metadata": {
        "outputId": "c5bbfcb5-af6c-4711-c691-4d8b5c25f07a"
      },
      "outputs": [],
      "source": [
        "a = torch.tensor([[1],[2],[3]])\n",
        "a.shape"
      ],
      "id": "c918e903-2c68-4b30-a061-3f81bda6517e"
    },
    {
      "cell_type": "markdown",
      "metadata": {},
      "source": [
        "(방법2)"
      ],
      "id": "8f94ba4d-cefc-4796-b9cf-ac32bf78127b"
    },
    {
      "cell_type": "code",
      "execution_count": null,
      "metadata": {
        "outputId": "9df511b3-ff66-4f64-f0b7-e62875acc42c"
      },
      "outputs": [],
      "source": [
        "a = torch.tensor([1,2,3]).reshape(3,1)\n",
        "a.shape"
      ],
      "id": "f6394a19-0ed4-4f1c-a578-cca5f7783e8e"
    },
    {
      "cell_type": "markdown",
      "metadata": {},
      "source": [
        "`-` 1x3 row-vec 선언방법\n",
        "\n",
        "(방법1)"
      ],
      "id": "e6e18a44-7131-471f-a1ba-efa86ca34243"
    },
    {
      "cell_type": "code",
      "execution_count": null,
      "metadata": {
        "outputId": "005429ba-42a3-42c0-f917-df0f392179f5"
      },
      "outputs": [],
      "source": [
        "a = torch.tensor([[1,2,3]])\n",
        "a.shape"
      ],
      "id": "73a6b593-a743-4d2d-a66c-6513c741dff6"
    },
    {
      "cell_type": "markdown",
      "metadata": {},
      "source": [
        "(방법2)"
      ],
      "id": "86485f42-c9a3-4b20-83f0-3c5c74c0cbf4"
    },
    {
      "cell_type": "code",
      "execution_count": null,
      "metadata": {
        "outputId": "848bd13d-fb65-4937-c17e-700022cf2882"
      },
      "outputs": [],
      "source": [
        "a = torch.tensor([1,2,3]).reshape(1,3)\n",
        "a.shape"
      ],
      "id": "955a9e9b-8622-445c-9e3e-007cb51370b1"
    },
    {
      "cell_type": "markdown",
      "metadata": {},
      "source": [
        "`-` 3x1 col-vec 선언방법, 1x3 row-vec 선언방법에서 `[[1],[2],[3]]` 혹은\n",
        "`[[1,2,3]]` 와 같은 표현이 이해안되면 아래링크로 가셔서\n",
        "\n",
        "https://guebin.github.io/STBDA2022/2022/03/14/(2주차)-3월14일.html\n",
        "\n",
        "첫번째 동영상 12:15 - 22:45 에 해당하는 분량을 학습하시길 바랍니다.\n",
        "\n",
        "### torch의 dtype\n",
        "\n",
        "`-` 기본적으로 torch는 소수점으로 저장되면 dtype=torch.float32 가 된다.\n",
        "(이걸로 맞추는게 편리함)"
      ],
      "id": "43453a6a-8257-4242-88bf-509ec5430763"
    },
    {
      "cell_type": "code",
      "execution_count": null,
      "metadata": {
        "outputId": "417922f8-3415-449f-c4aa-b16a93f56119"
      },
      "outputs": [],
      "source": [
        "tsr = torch.tensor([1.23,2.34])\n",
        "tsr"
      ],
      "id": "2e9b3c2d-ccf2-4e02-a1be-c64b909bfd31"
    },
    {
      "cell_type": "code",
      "execution_count": null,
      "metadata": {
        "outputId": "9e6cf75a-b976-41c6-a404-06b87f803e1d"
      },
      "outputs": [],
      "source": [
        "tsr.dtype"
      ],
      "id": "dbac7faf-0195-4f78-90ca-72c851cfecd2"
    },
    {
      "cell_type": "code",
      "execution_count": null,
      "metadata": {},
      "outputs": [],
      "source": [
        "#float64보다 데이터를 적게 쓴다는 뜻-> float32"
      ],
      "id": "QW_dtYlamj94"
    },
    {
      "cell_type": "markdown",
      "metadata": {},
      "source": [
        "`-` 정수로 선언하더라도 dtype를 torch.float32로 바꾸는게 유리함\n",
        "\n",
        "(안 좋은 선언예시)"
      ],
      "id": "0a2d77d1-1b7f-4a6f-8228-8c762059cfea"
    },
    {
      "cell_type": "code",
      "execution_count": null,
      "metadata": {
        "outputId": "29b12507-dbb4-4715-dfd4-9a5ac3ad5331"
      },
      "outputs": [],
      "source": [
        "tsr = torch.tensor([1,2])\n",
        "tsr "
      ],
      "id": "e7e180ea-f28d-4e99-9c77-e684df4b1321"
    },
    {
      "cell_type": "code",
      "execution_count": null,
      "metadata": {
        "outputId": "ff91d742-5364-4369-ebcd-2b21ca201286"
      },
      "outputs": [],
      "source": [
        "tsr.dtype"
      ],
      "id": "ebd8104b-cad6-40e8-a857-d5844f2cab16"
    },
    {
      "cell_type": "markdown",
      "metadata": {},
      "source": [
        "(좋은 선언예시1)"
      ],
      "id": "f996bd4f-b161-4d76-8328-eeeeae10bce6"
    },
    {
      "cell_type": "code",
      "execution_count": null,
      "metadata": {
        "outputId": "8820dd4b-cb6d-47cc-acfd-9766d19c2f0b"
      },
      "outputs": [],
      "source": [
        "tsr = torch.tensor([1,2],dtype=torch.float32)\n",
        "tsr "
      ],
      "id": "910a4edd-00cb-418a-8bb8-ccd5bf4f3238"
    },
    {
      "cell_type": "code",
      "execution_count": null,
      "metadata": {
        "outputId": "f495fa9d-fb7a-4307-c7d6-9e401d5be571"
      },
      "outputs": [],
      "source": [
        "tsr.dtype"
      ],
      "id": "48a71560-6ec7-4023-a7f3-f9623d8a20b3"
    },
    {
      "cell_type": "markdown",
      "metadata": {},
      "source": [
        "(좋은 선언예시2)"
      ],
      "id": "b6869b77-0b6f-4705-9020-eba7bfd7883e"
    },
    {
      "cell_type": "code",
      "execution_count": null,
      "metadata": {
        "outputId": "eb889901-962c-461b-bdd4-bf99fb7ffc49"
      },
      "outputs": [],
      "source": [
        "tsr = torch.tensor([1,2.0])\n",
        "tsr "
      ],
      "id": "474c3163-06fd-448f-8828-9262793966af"
    },
    {
      "cell_type": "code",
      "execution_count": null,
      "metadata": {
        "outputId": "54e0bb0c-85f4-43a3-9e82-62404a517881"
      },
      "outputs": [],
      "source": [
        "tsr.dtype"
      ],
      "id": "ee176ddb-3039-4416-ba9b-2eb8069963b5"
    },
    {
      "cell_type": "markdown",
      "metadata": {},
      "source": [
        "(사실 int로 선언해도 나중에 float으로 바꾸면 큰 문제없음)"
      ],
      "id": "540d0f87-d41b-4b82-b28d-8f9847aceaec"
    },
    {
      "cell_type": "code",
      "execution_count": null,
      "metadata": {
        "outputId": "0982407c-060b-449f-d90a-e4ff145d9688"
      },
      "outputs": [],
      "source": [
        "tsr = torch.tensor([1,2]).float()\n",
        "tsr"
      ],
      "id": "04a8fc33-60b7-4af0-9cac-7e7a21895e39"
    },
    {
      "cell_type": "code",
      "execution_count": null,
      "metadata": {
        "outputId": "c01cdda5-2033-4739-ea7a-8b5147e4d38c"
      },
      "outputs": [],
      "source": [
        "tsr.dtype"
      ],
      "id": "7600f46e-abb5-4596-85aa-4169b7e57d0c"
    },
    {
      "cell_type": "markdown",
      "metadata": {},
      "source": [
        "`-` 왜 정수만으로 torch.tensor를 만들때에도 torch.float32로 바꾸는게\n",
        "유리할까? $\\to$ torch.tensor끼리의 연산에서 문제가 될 수 있음\n",
        "\n",
        "별 문제 없을수도 있지만"
      ],
      "id": "08203398-6afa-40fb-a1f9-7ea5c6fbe83e"
    },
    {
      "cell_type": "code",
      "execution_count": null,
      "metadata": {
        "outputId": "6305221e-8087-4e1b-dc3e-58087935c336"
      },
      "outputs": [],
      "source": [
        "torch.tensor([1,2])-torch.tensor([1.0,2.0]) "
      ],
      "id": "471d54a1-dacd-45ba-a418-7265baf9a221"
    },
    {
      "cell_type": "markdown",
      "metadata": {},
      "source": [
        "아래와 같이 에러가 날수도 있다\n",
        "\n",
        "(에러1)"
      ],
      "id": "a5d01f80-6d24-4778-a95d-bca9afe2a7e3"
    },
    {
      "cell_type": "code",
      "execution_count": null,
      "metadata": {
        "outputId": "7fc2f345-1208-41bb-ea9f-86f74ae52396"
      },
      "outputs": [],
      "source": [
        "torch.tensor([[1.0,0.0],[0.0,1.0]]) @ torch.tensor([[1],[2]]) "
      ],
      "id": "b872920e-0c11-4c7d-bf7a-70d0eaab13d2"
    },
    {
      "cell_type": "markdown",
      "metadata": {},
      "source": [
        "(에러2)"
      ],
      "id": "a116cb02-c408-4842-b40e-23b9345f7b36"
    },
    {
      "cell_type": "code",
      "execution_count": null,
      "metadata": {
        "outputId": "e354dd09-02dd-4a60-8896-e9759d569999"
      },
      "outputs": [],
      "source": [
        "torch.tensor([[1,0],[0,1]]) @ torch.tensor([[1.0],[2.0]])"
      ],
      "id": "1d760fb5-8c81-4992-b016-f1ab769aa1d3"
    },
    {
      "cell_type": "markdown",
      "metadata": {},
      "source": [
        "(해결1) 둘다 정수로 통일"
      ],
      "id": "b81015ea-a82f-4b4f-ab52-e9f9a68d5aeb"
    },
    {
      "cell_type": "code",
      "execution_count": null,
      "metadata": {
        "outputId": "e693b1f2-044e-43d7-e827-a2e27c27e0b8"
      },
      "outputs": [],
      "source": [
        "torch.tensor([[1,0],[0,1]]) @ torch.tensor([[1],[2]])"
      ],
      "id": "9195ad97-bc85-4543-bfd8-458e6d50b580"
    },
    {
      "cell_type": "markdown",
      "metadata": {},
      "source": [
        "(해결2) 둘다 소수로 통일 \\<– 더 좋은 방법임"
      ],
      "id": "3cc02357-8791-424a-9aac-351a5efd04a8"
    },
    {
      "cell_type": "code",
      "execution_count": null,
      "metadata": {
        "outputId": "4b3aa604-3a5e-4b75-c3e4-9d9385dd2883"
      },
      "outputs": [],
      "source": [
        "torch.tensor([[1.0,0.0],[0.0,1.0]]) @ torch.tensor([[1.0],[2.0]])"
      ],
      "id": "615ffdc6-b2e9-40a9-9b3d-4fe29d3c5328"
    },
    {
      "cell_type": "markdown",
      "metadata": {},
      "source": [
        "### shape of vector\n",
        "\n",
        "`-` 행렬곱셈에 대한 shape 조심"
      ],
      "id": "07276d1a-da9b-4fc1-9c83-bb16a1e65ea8"
    },
    {
      "cell_type": "code",
      "execution_count": null,
      "metadata": {},
      "outputs": [],
      "source": [
        "A = torch.tensor([[2.00,0.00],[0.00,3.00]]) \n",
        "b1 = torch.tensor([[-1.0,-5.0]])\n",
        "b2 = torch.tensor([[-1.0],[-5.0]])\n",
        "b3 = torch.tensor([-1.0,-5.0])"
      ],
      "id": "152c44a1-1cdd-458e-b48f-353917509c84"
    },
    {
      "cell_type": "code",
      "execution_count": null,
      "metadata": {
        "outputId": "c64c331d-c30f-4a3c-ace7-df40060bae37"
      },
      "outputs": [],
      "source": [
        "A.shape,b1.shape,b2.shape,b3.shape"
      ],
      "id": "4295b4bb-e061-4a9b-82a2-781e48050c26"
    },
    {
      "cell_type": "markdown",
      "metadata": {},
      "source": [
        "`-` A@b1: 계산불가, b1@A: 계산가능"
      ],
      "id": "8b8bdd59-9b33-4d76-a172-5a19549cfd2f"
    },
    {
      "cell_type": "code",
      "execution_count": null,
      "metadata": {
        "outputId": "43e3a33c-bc5a-4594-e63c-1222eb7f55ee"
      },
      "outputs": [],
      "source": [
        "A@b1 #행렬계산이라고 생각"
      ],
      "id": "ea28d368-10e4-499f-a283-daac93324a25"
    },
    {
      "cell_type": "code",
      "execution_count": null,
      "metadata": {
        "outputId": "03c7025f-cbe9-4a33-d9ca-72021e9e896f"
      },
      "outputs": [],
      "source": [
        "b1@A"
      ],
      "id": "56e69421-83bf-4c58-8a85-2add56d06ef8"
    },
    {
      "cell_type": "markdown",
      "metadata": {},
      "source": [
        "`-` A@b2: 계산가능, b2@A: 계산불가"
      ],
      "id": "d83c7f18-0386-486a-b729-e35d4be62932"
    },
    {
      "cell_type": "code",
      "execution_count": null,
      "metadata": {
        "outputId": "ab982e11-8526-4d22-f568-f5bcfd6fd264"
      },
      "outputs": [],
      "source": [
        "A@b2"
      ],
      "id": "a48cf626-adf8-4975-bb5a-f668bab1a536"
    },
    {
      "cell_type": "code",
      "execution_count": null,
      "metadata": {
        "outputId": "798bcfe0-239f-4343-c95f-d77a248f91ec"
      },
      "outputs": [],
      "source": [
        "b2@A"
      ],
      "id": "8ec27ef3-3279-42c0-a135-bbb4402245cc"
    },
    {
      "cell_type": "markdown",
      "metadata": {},
      "source": [
        "`-` A@b3: 계산가능, b3@A: 계산가능"
      ],
      "id": "418ae25f-0a75-43d0-9f56-513b3384d1c7"
    },
    {
      "cell_type": "code",
      "execution_count": null,
      "metadata": {
        "outputId": "40e180ea-19d1-48f3-9dcc-57ad7686e9cf"
      },
      "outputs": [],
      "source": [
        "(A@b3).shape ## b3를 마치 col-vec 처럼 해석"
      ],
      "id": "aab20f69-96f2-4617-a8e8-d817c3e6b1b7"
    },
    {
      "cell_type": "code",
      "execution_count": null,
      "metadata": {
        "outputId": "b93653c5-0757-4f2d-9be7-48ddd316f2b6"
      },
      "outputs": [],
      "source": [
        "(b3@A).shape ## b3를 마지 row-vec 처럼 해석"
      ],
      "id": "ff96b6d7-1ef0-4cf1-a76d-47f15f2fbb25"
    },
    {
      "cell_type": "markdown",
      "metadata": {},
      "source": [
        "`-` 브로드캐스팅"
      ],
      "id": "f28e03ad-1d38-47dc-85e5-e8252f44ef9a"
    },
    {
      "cell_type": "code",
      "execution_count": null,
      "metadata": {
        "outputId": "004ac3db-1444-4b54-eba4-f7306544bc0c"
      },
      "outputs": [],
      "source": [
        "a = torch.tensor([1,2,3]) #a는 길이가 3인 벡터지만... 연산이 된다.\n",
        "a - 1"
      ],
      "id": "7d70843a-e9ae-4966-9d27-aae3bc78cabe"
    },
    {
      "cell_type": "code",
      "execution_count": null,
      "metadata": {
        "outputId": "749d6ba0-54fe-4a2a-9528-4de9fb3694ff"
      },
      "outputs": [],
      "source": [
        "b = torch.tensor([[1],[2],[3]]) #b는 컬럼 벡터\n",
        "b - 1"
      ],
      "id": "0ee30e16-ce83-4288-856b-16b8a78256f5"
    },
    {
      "cell_type": "code",
      "execution_count": null,
      "metadata": {
        "outputId": "e0045ad9-60a3-4de1-99f5-5ce59c406e0b"
      },
      "outputs": [],
      "source": [
        "a - b # a를 row-vec 로 해석 \n",
        "#불필요한 오류를 막기 위해서 dimension잘 써놓기"
      ],
      "id": "96d471c0-7592-440c-8968-530f55cfa511"
    },
    {
      "cell_type": "markdown",
      "metadata": {},
      "source": [
        "## Review: step1~4"
      ],
      "id": "df756ecc-d83e-4eaf-b7e5-5a19a0aabee2"
    },
    {
      "cell_type": "code",
      "execution_count": null,
      "metadata": {
        "outputId": "32cb112b-b0e9-4ff1-893a-d4baebd730ea"
      },
      "outputs": [],
      "source": [
        "df = pd.read_csv(\"https://raw.githubusercontent.com/guebin/DL2022/master/_notebooks/2022-09-22-regression.csv\") \n",
        "df"
      ],
      "id": "a06ce253-aa98-42c7-98d4-8766071ae057"
    },
    {
      "cell_type": "code",
      "execution_count": null,
      "metadata": {
        "outputId": "6bf9e4ea-9c49-4808-b455-98084df5e726"
      },
      "outputs": [],
      "source": [
        "torch.tensor(df.x)\n",
        "#dtype=float32로 지정하면 밑에 dtype=torch.float64가 안붙는다. 메모리를 아끼기위해서 데이터타입을 float32로바꾼다리"
      ],
      "id": "Yg-wOA61nF4P"
    },
    {
      "cell_type": "code",
      "execution_count": null,
      "metadata": {},
      "outputs": [],
      "source": [
        "x= torch.tensor(df.x,dtype=torch.float32).reshape(100,1)   \n",
        "y= torch.tensor(df.y,dtype=torch.float32).reshape(100,1)\n",
        "\n",
        "# _1 = torch.ones([100,1])\n",
        "# X = torch.concat([_1,x]),axis=1\n",
        "\n",
        "X= torch.tensor([[1]*100,x]).T    #torch.ones([100,1])로 써도 됨"
      ],
      "id": "aa8b0ffd-1404-4887-b5d7-c53a4ce3dffc"
    },
    {
      "cell_type": "code",
      "execution_count": null,
      "metadata": {
        "outputId": "60f34e3c-b3cf-44a4-be27-cb2b6b7670cf"
      },
      "outputs": [],
      "source": [
        "\n",
        "\n",
        "What = torch.tensor([[-5.0],[10.0]],requires_grad=True) # 아무 점이나 주어보자! (-5,10)\n",
        "\n",
        "\n",
        "What"
      ],
      "id": "dc9fffa9-9730-4344-add7-259e9f78e1ad"
    },
    {
      "cell_type": "code",
      "execution_count": null,
      "metadata": {
        "outputId": "1998ffa5-1953-4458-cafc-b1cc9e9f59f5"
      },
      "outputs": [
        {
          "output_type": "display_data",
          "metadata": {},
          "data": {
            "image/png": "[encoded data removed]"
          }
        }
      ],
      "source": [
        "plt.plot(x,y,'o')\n",
        "#plt.plot(x,-5+10*x,'--')\n",
        "plt.plot(x,X@What.data,'--')"
      ],
      "id": "54b28c1a-b07f-4ea2-a46f-ea3980e817d7"
    },
    {
      "cell_type": "markdown",
      "metadata": {},
      "source": [
        "### ver1: loss = sum of squares error"
      ],
      "id": "ab5ea7c6-3370-47f4-b1d6-846f80ab5fe7"
    },
    {
      "cell_type": "code",
      "execution_count": null,
      "metadata": {},
      "outputs": [],
      "source": [
        "alpha = 1/1000    #학습하는과정에 대한 분류 4가지\n",
        "What = torch.tensor([[-5.0],[10.0]],requires_grad=True)\n",
        "for epoc in range(30): \n",
        "    # step1: yhat \n",
        "    yhat = X@What \n",
        "    # step2: loss \n",
        "    loss = torch.sum((y-yhat)**2)\n",
        "    # step3: 미분 \n",
        "    loss.backward()\n",
        "    # step4: update \n",
        "  #  What.data = What.data - 1/000 * What.grad   # alpha = 1/000\n",
        "  #  What.grad = None #              # gradient청소...\n",
        "\n",
        "    What.data = What.data - alpha * What.grad \n",
        "    What.grad = None # "
      ],
      "id": "21661af5-22c3-4c8a-ac8a-288208be1b3c"
    },
    {
      "cell_type": "code",
      "execution_count": null,
      "metadata": {
        "outputId": "edf3b35a-bd9c-455b-b0c0-dcfdd36f6280"
      },
      "outputs": [],
      "source": [
        "What"
      ],
      "id": "2f06866c-d2b4-4b41-8d4b-18b86479187a"
    },
    {
      "cell_type": "code",
      "execution_count": null,
      "metadata": {
        "outputId": "dc036139-4525-402e-d813-84fc1f2e4191"
      },
      "outputs": [
        {
          "output_type": "display_data",
          "metadata": {},
          "data": {
            "image/png": "[encoded data removed]"
          }
        }
      ],
      "source": [
        "plt.plot(x,y,'o') \n",
        "plt.plot(x,X@What.data,'--')"
      ],
      "id": "aa79c93b-3229-4e3d-8abb-522327439700"
    },
    {
      "cell_type": "markdown",
      "metadata": {},
      "source": [
        "-   note: 왜 What = What - alpha\\*What.grad 는 안되는지?\n",
        "\n",
        "### ver2: loss = mean squared error = MSE"
      ],
      "id": "26b101e4-5b53-492c-bb52-8748538f43bc"
    },
    {
      "cell_type": "code",
      "execution_count": null,
      "metadata": {},
      "outputs": [],
      "source": [
        "alpha = 1/10\n",
        "What = torch.tensor([[-5.0],[10.0]],requires_grad=True)\n",
        "for epoc in range(30): \n",
        "    # step1: yhat \n",
        "    yhat = X@What \n",
        "    # step2: loss \n",
        "    loss = torch.mean((y-yhat)**2)   # 위랑 다른거 여기 mean!!!! \n",
        "    # step3: 미분 \n",
        "    loss.backward()\n",
        "    # step4: update \n",
        "    What.data = What.data - alpha * What.grad \n",
        "    What.grad = None # \n",
        "\n",
        "    # mean으로 하면 좋은거: 100개읟 ㅔ이터 1/1000 학습률 \n",
        "    # sample size가 달라질때마다 학습률 설정이 힘든데, mean으로 하면 데이터set이 계속 할수잇어서!!"
      ],
      "id": "67cc60db-b8fb-4b5e-a516-343908c5b00c"
    },
    {
      "cell_type": "code",
      "execution_count": null,
      "metadata": {
        "outputId": "7d080015-ed31-4fbf-85c9-03a71dfcee38"
      },
      "outputs": [],
      "source": [
        "What"
      ],
      "id": "ada0db67-f4fd-40d6-8081-07e915eb7491"
    },
    {
      "cell_type": "markdown",
      "metadata": {},
      "source": [
        "## step1의 다른버전 – net 설계만\n",
        "\n",
        "### ver1: net = torch.nn.Linear(1,1,bias=True)"
      ],
      "id": "145fd7f9-0b5b-46a7-b09d-34ea9c2fc4f6"
    },
    {
      "cell_type": "code",
      "execution_count": null,
      "metadata": {},
      "outputs": [],
      "source": [
        "torch.manual_seed(43052)\n",
        "net = torch.nn.Linear(in_features=1, out_features=1, bias=True)  # 함수를 만들어준다. x가들어가면 y가 나오는 것 가틍ㄴ..\n",
        "\n",
        "# x.shape 했을때 torch.size(100,1) 이 나온다. 100은 observation이고 뒤쪽에 있는 1이 in_features!!\n",
        "# out_features는 y.shape의 뒤쪽,,\n",
        "\n",
        "# net.bias, net.weight 하면 tensor 0.2366 -> w0역할... tensor -0.8791 -> w1역할 \n",
        "# 위 숫자는 최초의 숫자라 아무거나 찍은거 실행할때마다 달라질수 있음.\n",
        "# 맨 위에 seed를 주면 나중에 교수님 강의할때 편하게` 하려고 "
      ],
      "id": "ba336824-2de7-4c65-93b9-5fb36239e624"
    },
    {
      "cell_type": "code",
      "execution_count": null,
      "metadata": {
        "outputId": "22df654b-2510-4be2-a609-97e705ddc7c0"
      },
      "outputs": [
        {
          "output_type": "display_data",
          "metadata": {},
          "data": {
            "image/png": "[encoded data removed]"
          }
        }
      ],
      "source": [
        "plt.plot(x,y,'o')\n",
        "plt.plot(x,net(x).data,'--')"
      ],
      "id": "c7dd1a97-0cde-47b3-a864-4c7ee0d7f245"
    },
    {
      "cell_type": "markdown",
      "metadata": {},
      "source": [
        "`-` net에서 $\\hat{w}_0, \\hat{w}_1$ 의 값은?"
      ],
      "id": "b65ca228-f0a3-408e-97ac-608f914248fd"
    },
    {
      "cell_type": "code",
      "execution_count": null,
      "metadata": {
        "outputId": "405ab8b8-d963-4bb7-e9cf-16026d250b8e"
      },
      "outputs": [],
      "source": [
        "net.weight # w1 "
      ],
      "id": "fca0f7d3-b773-4b4f-a49c-514749aafe4b"
    },
    {
      "cell_type": "code",
      "execution_count": null,
      "metadata": {
        "outputId": "50315ec2-6600-4613-f294-079fd44b958e"
      },
      "outputs": [],
      "source": [
        "net.bias # w0 "
      ],
      "id": "d9b4e0e7-8e9c-4bb2-89ac-50828b699e4f"
    },
    {
      "cell_type": "code",
      "execution_count": null,
      "metadata": {},
      "outputs": [],
      "source": [
        "_yhat = -0.8470 + -0.3467*x "
      ],
      "id": "e246abba-3639-4289-8964-d64f0b0c5a5b"
    },
    {
      "cell_type": "code",
      "execution_count": null,
      "metadata": {
        "outputId": "dabec9db-3b12-481b-ce8c-5ac00044b110"
      },
      "outputs": [
        {
          "output_type": "display_data",
          "metadata": {},
          "data": {
            "image/png": "[encoded data removed]"
          }
        }
      ],
      "source": [
        "plt.plot(x,y,'o')\n",
        "plt.plot(x, _yhat,'--')\n",
        "plt.plot(x,net(x).data,'-.')"
      ],
      "id": "113b1bcd-6e88-4d3c-974a-99994f20557e"
    },
    {
      "cell_type": "markdown",
      "metadata": {},
      "source": [
        "`-` 수식표현:\n",
        "$\\hat{y}_i = \\hat{w}_0 + \\hat{w}_1 x_i = \\hat{b} + \\hat{w}x_i = -0.8470 + -0.3467 x_i$\n",
        "for all $i=1,2,\\dots,100$.\n",
        "\n",
        "### ver2: net = torch.nn.Linear(2,1,bias=False)\n",
        "\n",
        "`-` 입력이 x가 아닌 X를 넣고 싶다면? (보통 잘 안하긴 해요, 왜?\n",
        "bias=False로 주는게 귀찮거든요) - X는 바이어스가 고려된 상황"
      ],
      "id": "fba7623b-c35c-4650-99c6-588b7fd50a91"
    },
    {
      "cell_type": "code",
      "execution_count": null,
      "metadata": {
        "outputId": "259e0bd5-7ca5-479f-ec09-96c461fdd93a"
      },
      "outputs": [],
      "source": [
        "net(X) ## 그대로 쓰면 당연히 에러"
      ],
      "id": "87c19fe9-dec0-40c0-9727-c155f7b7ca3e"
    },
    {
      "cell_type": "code",
      "execution_count": null,
      "metadata": {},
      "outputs": [],
      "source": [
        "torch.manual_seed(43052)\n",
        "net = torch.nn.Linear(in_features=2, out_features=1, bias=False) #bias=false:뒤쪽에 더해지는 값인거 같으니까....\n",
        "\n",
        "# out_features=3으로 쓰면 shape이 [100,3] 된다,,,,,,,,,,, 1이 되야해,,"
      ],
      "id": "607e8818-30f5-437d-be3c-9dd134c6e005"
    },
    {
      "cell_type": "code",
      "execution_count": null,
      "metadata": {
        "outputId": "183a1025-6338-469b-8300-34aa32b67902"
      },
      "outputs": [],
      "source": [
        "net.weight"
      ],
      "id": "0b071453-5e9f-457b-8c38-2ed9fbe7e21f"
    },
    {
      "cell_type": "code",
      "execution_count": null,
      "metadata": {},
      "outputs": [],
      "source": [
        "net.bias # false로 설정해서 아무것도 안뜸"
      ],
      "id": "f6179f9d-4103-4a8c-9569-549eabc82e8c"
    },
    {
      "cell_type": "code",
      "execution_count": null,
      "metadata": {
        "outputId": "8ea88f5a-a583-442a-d505-4d68cc879f02"
      },
      "outputs": [
        {
          "output_type": "display_data",
          "metadata": {},
          "data": {
            "image/png": "[encoded data removed]"
          }
        }
      ],
      "source": [
        "plt.plot(x,y,'o') \n",
        "plt.plot(x,net(X).data, '--')\n",
        "plt.plot(x,X@torch.tensor([[-0.2451],[-0.5989]]), '-.')"
      ],
      "id": "1b9fdad5-6ad1-4ae8-98b7-2a33218c4dbe"
    },
    {
      "cell_type": "markdown",
      "metadata": {},
      "source": [
        "`-` 수식표현:\n",
        "$\\hat{\\bf y} = {\\bf X} {\\bf \\hat W} = \\begin{bmatrix} 1 & x_1 \\\\ 1 & x_2 \\\\ \\dots & \\dots \\\\ 1 & x_{100} \\end{bmatrix} \\begin{bmatrix} -0.2451 \\\\ -0.5989 \\end{bmatrix}$\n",
        "\n",
        "### 잘못된사용1"
      ],
      "id": "022104c4-1bc6-4e52-9ad9-134be1b68482"
    },
    {
      "cell_type": "code",
      "execution_count": null,
      "metadata": {},
      "outputs": [],
      "source": [
        "_x = x.reshape(-1)"
      ],
      "id": "eb9289bc-6609-48fa-80f5-b5d54842bbb3"
    },
    {
      "cell_type": "code",
      "execution_count": null,
      "metadata": {
        "outputId": "f7a26814-9f43-4be0-9d27-18259b6bb5cc"
      },
      "outputs": [],
      "source": [
        "_x"
      ],
      "id": "a30c6513-3c9b-452f-b6cb-4bae17ca306f"
    },
    {
      "cell_type": "code",
      "execution_count": null,
      "metadata": {},
      "outputs": [],
      "source": [
        "torch.manual_seed(43052)\n",
        "net = torch.nn.Linear(in_features=1,out_features=1) "
      ],
      "id": "011fb3e7-1aba-4a1e-8026-fdc25617cbee"
    },
    {
      "cell_type": "code",
      "execution_count": null,
      "metadata": {
        "outputId": "94a1c7a4-f303-4187-c478-62bbfb33f8a6"
      },
      "outputs": [],
      "source": [
        "net(_x) #이렇게 하면 에러메시지뜬다리 \n",
        "# net(_x.reshape(100,1))로 바궈줘야 한다."
      ],
      "id": "b1ebe59e-e241-4bfc-872f-323c3482e9be"
    },
    {
      "cell_type": "markdown",
      "metadata": {},
      "source": [
        "### 잘못된사용2"
      ],
      "id": "280782ff-3d52-4f6e-b862-a18a772b37bb"
    },
    {
      "cell_type": "code",
      "execution_count": null,
      "metadata": {},
      "outputs": [],
      "source": [
        "torch.manual_seed(43052)\n",
        "net = torch.nn.Linear(in_features=2,out_features=1) # bias=False를 깜빡.. bias=true로 설정됨 기본으로 "
      ],
      "id": "e7a2f861-57f7-4341-a37a-f615e8311d93"
    },
    {
      "cell_type": "code",
      "execution_count": null,
      "metadata": {
        "outputId": "fd116b55-9aef-49b6-b34b-cf83823d9e6d"
      },
      "outputs": [],
      "source": [
        "net.weight"
      ],
      "id": "73da500d-0d6e-49df-88ed-84cb0321e973"
    },
    {
      "cell_type": "code",
      "execution_count": null,
      "metadata": {
        "outputId": "c5443d07-79af-4128-9d7c-9b9e815bd5c2"
      },
      "outputs": [],
      "source": [
        "net.bias"
      ],
      "id": "c1d20227-959f-463f-ab95-3d0a5cf057be"
    },
    {
      "cell_type": "code",
      "execution_count": null,
      "metadata": {
        "outputId": "3cdabfe9-28cc-4bfd-c7c8-16f7a7bb08f2"
      },
      "outputs": [
        {
          "output_type": "display_data",
          "metadata": {},
          "data": {
            "image/png": "[encoded data removed]"
          }
        }
      ],
      "source": [
        "plt.plot(x,y,'o')\n",
        "plt.plot(x,net(X).data,'--')\n",
        "plt.plot(x,X@torch.tensor([[-0.2451],[-0.5989]])+0.2549,'-.')\n",
        "# b hat = 0.2549 의도와는 다르게 모델링 된것..\n",
        "\n",
        "\n",
        "# plt.plot(x,X@torch.tensor([[-0.2451],[-0.5989]]),'-.')\n",
        "# bias=f일때"
      ],
      "id": "e9d0eba5-ba30-4fad-a92d-5df92d1c2a0e"
    },
    {
      "cell_type": "markdown",
      "metadata": {},
      "source": [
        "-   수식표현:\n",
        "    $\\hat{\\bf y} = {\\bf X} {\\bf \\hat W} + \\hat{b}= \\begin{bmatrix} 1 & x_1 \\\\ 1 & x_2 \\\\ \\dots & \\dots \\\\ 1 & x_{100} \\end{bmatrix} \\begin{bmatrix} -0.2451 \\\\ -0.5989 \\end{bmatrix} + 0.2549$\n",
        "\n",
        "## step1의 다른버전 – 끝까지\n",
        "\n",
        "### ver1: net = torch.nn.Linear(1,1,bias=True)\n",
        "\n",
        "`-` 준비"
      ],
      "id": "8e45109f-7a5c-4c8c-bc8a-c731d8d6a277"
    },
    {
      "cell_type": "code",
      "execution_count": null,
      "metadata": {
        "outputId": "38252738-89b5-4e51-ac52-7f317c4caa52"
      },
      "outputs": [],
      "source": [
        "net = torch.nn.Linear(1,1,bias=True) # in_features=1 에서 1만 써도 뎀, bias 생략해도 뎀\n",
        "net.weight.data = torch.tensor([[10.0]])\n",
        "net.bias.data = torch.tensor([-5.0])\n",
        "net.weight,net.bias"
      ],
      "id": "1cbdd5b1-78f9-42ff-b39c-850b41431e1c"
    },
    {
      "cell_type": "markdown",
      "metadata": {},
      "source": [
        "`-` step1"
      ],
      "id": "10e4ea24-11c5-42cf-9135-1daeb56352ce"
    },
    {
      "cell_type": "code",
      "execution_count": null,
      "metadata": {},
      "outputs": [],
      "source": [
        "yhat = net(x)  # -5 + 10x 가 첫 값으로 나올것,,,"
      ],
      "id": "fe5fd56b-fc6d-40f2-b986-8f5a410e79d9"
    },
    {
      "cell_type": "code",
      "execution_count": null,
      "metadata": {
        "outputId": "4a4ac686-3cbe-400b-93a8-d8a8341bc982"
      },
      "outputs": [
        {
          "output_type": "display_data",
          "metadata": {},
          "data": {
            "image/png": "[encoded data removed]"
          }
        }
      ],
      "source": [
        "plt.plot(x,y,'o')\n",
        "plt.plot(x,net(x).data,'--')"
      ],
      "id": "60116b30-baab-442c-835b-d18746a351bf"
    },
    {
      "cell_type": "markdown",
      "metadata": {},
      "source": [
        "`-` step2"
      ],
      "id": "6ab125df-93c6-47a1-b9d0-76a7dbddec86"
    },
    {
      "cell_type": "code",
      "execution_count": null,
      "metadata": {},
      "outputs": [],
      "source": [
        "loss = torch.mean((y-yhat)**2)"
      ],
      "id": "abf50ff0-1590-49e4-ab0f-5494d2e2a52a"
    },
    {
      "cell_type": "markdown",
      "metadata": {},
      "source": [
        "`-` step3\n",
        "\n",
        "(미분전)"
      ],
      "id": "9c05dd17-ccec-4eb7-b64f-5200e43fed0b"
    },
    {
      "cell_type": "code",
      "execution_count": null,
      "metadata": {
        "outputId": "99889859-5539-499d-d241-bc3d337fe136"
      },
      "outputs": [],
      "source": [
        "net.bias,net.weight"
      ],
      "id": "e8e1fde2-9446-4a7f-8c10-e30c51144b5c"
    },
    {
      "cell_type": "code",
      "execution_count": null,
      "metadata": {
        "outputId": "45f4d87e-2d34-4837-8e29-c70051be5fdf"
      },
      "outputs": [],
      "source": [
        "net.bias.grad, net.weight.grad   #grad값이 없는데.... "
      ],
      "id": "b993de58-83a1-4864-b305-d86440471ed1"
    },
    {
      "cell_type": "markdown",
      "metadata": {},
      "source": [
        "(미분)"
      ],
      "id": "8218b646-f693-4e92-8a07-de9d9d8a907d"
    },
    {
      "cell_type": "code",
      "execution_count": null,
      "metadata": {},
      "outputs": [],
      "source": [
        "loss.backward()"
      ],
      "id": "b50bc74d-6fa9-4d9d-b969-4a670dee674d"
    },
    {
      "cell_type": "markdown",
      "metadata": {},
      "source": [
        "(미분후)"
      ],
      "id": "4459ef95-9a28-4ab3-8140-e7de54168135"
    },
    {
      "cell_type": "code",
      "execution_count": null,
      "metadata": {
        "outputId": "7352865c-491c-44e4-a991-c2682a45c468"
      },
      "outputs": [],
      "source": [
        "net.bias,net.weight"
      ],
      "id": "b6733e41-f7d4-4b94-9f78-2f16b8150580"
    },
    {
      "cell_type": "code",
      "execution_count": null,
      "metadata": {
        "outputId": "a630115a-01f0-4e45-e1b3-e3547452973a"
      },
      "outputs": [],
      "source": [
        "net.bias.grad,net.weight.grad    # 미분후에 값 자체는 변화가 없지만 grad값이 "
      ],
      "id": "33b4f40b-b360-4e08-86fa-2adcd2194cad"
    },
    {
      "cell_type": "markdown",
      "metadata": {},
      "source": [
        "`-` step4\n",
        "\n",
        "(업데이트전)"
      ],
      "id": "89d1b433-c826-48ca-8437-f1700c9e2bd5"
    },
    {
      "cell_type": "code",
      "execution_count": null,
      "metadata": {
        "outputId": "fcf9f12c-f1f6-4532-ba22-fc2ee4441eb4"
      },
      "outputs": [],
      "source": [
        "net.bias,net.weight"
      ],
      "id": "46f9f628-27be-4455-b892-fcf4f4fdbef8"
    },
    {
      "cell_type": "code",
      "execution_count": null,
      "metadata": {
        "outputId": "ca11fabf-66c0-45c7-e43c-a68ccc03b892"
      },
      "outputs": [],
      "source": [
        "net.bias.grad, net.weight.grad"
      ],
      "id": "1e6581ca-1248-4118-ba05-edcbdf532cbe"
    },
    {
      "cell_type": "markdown",
      "metadata": {},
      "source": [
        "(업데이트)"
      ],
      "id": "02dd2879-e654-4d99-9a4a-e1b324162d76"
    },
    {
      "cell_type": "code",
      "execution_count": null,
      "metadata": {},
      "outputs": [],
      "source": [
        "net.bias.data = net.bias.data - 0.1*net.bias.grad   # 기울기 0.1\n",
        "net.weight.data = net.weight.data - 0.1*net.weight.grad "
      ],
      "id": "1997eedf-a141-4373-bbc9-4124732a4d39"
    },
    {
      "cell_type": "code",
      "execution_count": null,
      "metadata": {},
      "outputs": [],
      "source": [
        "net.bias.grad = None  # 바뀌기만 하고 청소가 안된상태ㅣ니까 none값으로 지정해주기...\n",
        "net.weight.grad = None "
      ],
      "id": "b095a37f-66de-4a23-bd3e-4059127fac19"
    },
    {
      "cell_type": "markdown",
      "metadata": {},
      "source": [
        "(업데이트후)"
      ],
      "id": "e7af2265-56af-452f-a4ac-6243e1c63cc1"
    },
    {
      "cell_type": "code",
      "execution_count": null,
      "metadata": {
        "outputId": "037539c7-539b-438e-b8f9-fcac7de73ec6"
      },
      "outputs": [],
      "source": [
        "net.bias,net.weight"
      ],
      "id": "17f159cc-6656-49a9-bd71-3f6d4612e96d"
    },
    {
      "cell_type": "code",
      "execution_count": null,
      "metadata": {
        "outputId": "e2ae649b-7036-48d0-bc2b-e9b50f7b226d"
      },
      "outputs": [],
      "source": [
        "net.bias.grad, net.weight.grad"
      ],
      "id": "71c3d736-fc36-4e05-b992-3e46fed35c82"
    },
    {
      "cell_type": "markdown",
      "metadata": {},
      "source": [
        "`-` 반복"
      ],
      "id": "8d9692b7-7aa1-46f9-bd67-9359dcc207bd"
    },
    {
      "cell_type": "code",
      "execution_count": null,
      "metadata": {},
      "outputs": [],
      "source": [
        "for epoc in range(30):\n",
        "    # step1\n",
        "    yhat = net(x) \n",
        "    # step2\n",
        "    loss = torch.mean((y-yhat)**2)\n",
        "    # step3\n",
        "    loss.backward()\n",
        "    # step4\n",
        "    net.weight.data = net.weight.data - 0.1*net.weight.grad\n",
        "    net.bias.data = net.bias.data - 0.1*net.bias.grad\n",
        "    net.weight.grad = None\n",
        "    net.bias.grad = None"
      ],
      "id": "65ee078b-069d-4b9e-8bfb-1bf326431a44"
    },
    {
      "cell_type": "code",
      "execution_count": null,
      "metadata": {
        "outputId": "18591e7c-8fce-4f4e-caec-36b00da2b6e0"
      },
      "outputs": [
        {
          "output_type": "display_data",
          "metadata": {},
          "data": {
            "image/png": "[encoded data removed]"
          }
        }
      ],
      "source": [
        "plt.plot(x,y,'o')\n",
        "plt.plot(x,net(x).data,'--')"
      ],
      "id": "97e07c28-a2a0-4e23-86d9-0bdbbac0c29e"
    },
    {
      "cell_type": "markdown",
      "metadata": {},
      "source": [
        "### ver2: net = torch.nn.Linear(2,1,bias=False)\n",
        "\n",
        "`-` 준비"
      ],
      "id": "6ea8ab57-f425-4c30-b865-2d746c0972a7"
    },
    {
      "cell_type": "code",
      "execution_count": null,
      "metadata": {},
      "outputs": [],
      "source": [
        "net = torch.nn.Linear(2,1,bias=False)\n",
        "net.weight.data = torch.tensor([[-5.0, 10.0]])"
      ],
      "id": "d4543a98-770c-486d-a7be-69d299d11297"
    },
    {
      "cell_type": "markdown",
      "metadata": {},
      "source": [
        "`-` step1"
      ],
      "id": "17e663f9-a7d5-4749-b790-ee715741dd26"
    },
    {
      "cell_type": "code",
      "execution_count": null,
      "metadata": {},
      "outputs": [],
      "source": [
        "yhat = net(X)"
      ],
      "id": "d340bb92-e2d7-4484-b45e-b0b4dc90a6d5"
    },
    {
      "cell_type": "markdown",
      "metadata": {},
      "source": [
        "`-` step2"
      ],
      "id": "7ef07785-8a3d-479c-b7b6-758962eddc4f"
    },
    {
      "cell_type": "code",
      "execution_count": null,
      "metadata": {},
      "outputs": [],
      "source": [
        "loss = torch.mean((y-yhat)**2)"
      ],
      "id": "5bb59cd2-1d51-475d-961d-84aa7b5216d2"
    },
    {
      "cell_type": "markdown",
      "metadata": {},
      "source": [
        "`-` step3\n",
        "\n",
        "(미분전)"
      ],
      "id": "29a82096-985c-452a-940e-96e6960878ad"
    },
    {
      "cell_type": "code",
      "execution_count": null,
      "metadata": {
        "outputId": "cab407b7-8a1e-4b26-cc3f-e9c287e6cf45"
      },
      "outputs": [],
      "source": [
        "net.weight"
      ],
      "id": "6700b9b3-2315-4586-9895-9689a14ee748"
    },
    {
      "cell_type": "code",
      "execution_count": null,
      "metadata": {},
      "outputs": [],
      "source": [
        "net.weight.grad"
      ],
      "id": "0684b35b-22c0-44db-8eaf-821ce14a6ec4"
    },
    {
      "cell_type": "markdown",
      "metadata": {},
      "source": [
        "(미분)"
      ],
      "id": "e762d59a-d235-4951-8449-3620ee90893c"
    },
    {
      "cell_type": "code",
      "execution_count": null,
      "metadata": {},
      "outputs": [],
      "source": [
        "loss.backward()"
      ],
      "id": "ad8a29a9-d5e9-4176-9208-1dc08d101980"
    },
    {
      "cell_type": "markdown",
      "metadata": {},
      "source": [
        "(미분후)"
      ],
      "id": "a5f46f15-ce07-4787-b0ea-96874a709b43"
    },
    {
      "cell_type": "code",
      "execution_count": null,
      "metadata": {
        "outputId": "33c02c62-5668-44d6-cf81-f0707ebb1aca"
      },
      "outputs": [],
      "source": [
        "net.weight"
      ],
      "id": "cab73ba9-4ebf-402a-988c-a96951315828"
    },
    {
      "cell_type": "code",
      "execution_count": null,
      "metadata": {
        "outputId": "76882f43-77bc-4a15-a151-d25bb8c64577"
      },
      "outputs": [],
      "source": [
        "net.weight.grad"
      ],
      "id": "a70c7632-e3b5-47de-85f3-01e41a6ee3d6"
    },
    {
      "cell_type": "markdown",
      "metadata": {},
      "source": [
        "`-` step4\n",
        "\n",
        "(업데이트전)"
      ],
      "id": "1ecd15b4-a9e6-4829-8a61-0200327c2459"
    },
    {
      "cell_type": "code",
      "execution_count": null,
      "metadata": {
        "outputId": "21f0f2b9-e661-4f45-f8c2-46c75c4c8698"
      },
      "outputs": [],
      "source": [
        "net.weight"
      ],
      "id": "4a90a2e3-9694-4ee4-ba77-957cedc6fe2b"
    },
    {
      "cell_type": "code",
      "execution_count": null,
      "metadata": {
        "outputId": "e6b249c0-9501-4482-d03a-c3d36cd7f7aa"
      },
      "outputs": [],
      "source": [
        "net.weight.grad"
      ],
      "id": "8a3a89d0-8726-42e8-9d72-88cbf9b44604"
    },
    {
      "cell_type": "markdown",
      "metadata": {},
      "source": [
        "(업데이트)"
      ],
      "id": "28d1c90f-a143-44f1-85fa-f6025ac35d92"
    },
    {
      "cell_type": "code",
      "execution_count": null,
      "metadata": {},
      "outputs": [],
      "source": [
        "net.weight.data = net.weight.data - 0.1*net.weight.grad"
      ],
      "id": "7f26acac-495e-483e-a0f0-06edb1bce63a"
    },
    {
      "cell_type": "code",
      "execution_count": null,
      "metadata": {},
      "outputs": [],
      "source": [
        "net.weight.grad = None"
      ],
      "id": "0c6d75e7-4317-4355-bacc-f1bac4ff5568"
    },
    {
      "cell_type": "markdown",
      "metadata": {},
      "source": [
        "(업데이트후)"
      ],
      "id": "11a620bf-3d1f-4b98-ada8-281bc1ab9ea6"
    },
    {
      "cell_type": "code",
      "execution_count": null,
      "metadata": {
        "outputId": "931d3a49-372a-45b3-c4b9-b065e542af08"
      },
      "outputs": [],
      "source": [
        "net.weight"
      ],
      "id": "84a8335f-80c3-4fc9-b1db-096f50368366"
    },
    {
      "cell_type": "code",
      "execution_count": null,
      "metadata": {},
      "outputs": [],
      "source": [
        "net.weight.grad"
      ],
      "id": "0c7de57c-5f96-44fe-a793-5cabca242870"
    },
    {
      "cell_type": "markdown",
      "metadata": {},
      "source": [
        "`-` 반복"
      ],
      "id": "de2b12af-4724-43be-818c-8fb1d4185bfd"
    },
    {
      "cell_type": "code",
      "execution_count": null,
      "metadata": {},
      "outputs": [],
      "source": [
        "net = torch.nn.Linear(2,1,bias=False)\n",
        "net.weight.data = torch.tensor([[-5.0, 10.0]])"
      ],
      "id": "45020bcc-6b60-4cc7-b981-d32ca687eeeb"
    },
    {
      "cell_type": "code",
      "execution_count": null,
      "metadata": {
        "outputId": "db184225-6283-48d3-c3b8-723edcc63caa"
      },
      "outputs": [
        {
          "output_type": "display_data",
          "metadata": {},
          "data": {
            "image/png": "[encoded data removed]"
          }
        }
      ],
      "source": [
        "plt.plot(x,y,'o')\n",
        "plt.plot(x,net(X).data,'--')"
      ],
      "id": "bc36e6d5-8edd-484f-a423-0cfe1d8e91a8"
    },
    {
      "cell_type": "code",
      "execution_count": null,
      "metadata": {},
      "outputs": [],
      "source": [
        "for epoc in range(30):\n",
        "    # step1\n",
        "    yhat = net(X)\n",
        "    # step2 \n",
        "    loss = torch.mean((y-yhat)**2)\n",
        "    # step3\n",
        "    loss.backward()\n",
        "    # step4\n",
        "    net.weight.data = net.weight.data - 0.1*net.weight.grad\n",
        "    net.weight.grad = None"
      ],
      "id": "12e82dac-472d-4794-9f39-28de54fbad60"
    },
    {
      "cell_type": "code",
      "execution_count": null,
      "metadata": {
        "outputId": "d63a7706-70ae-46af-f666-b213a8f5ee0a"
      },
      "outputs": [
        {
          "output_type": "display_data",
          "metadata": {},
          "data": {
            "image/png": "[encoded data removed]"
          }
        }
      ],
      "source": [
        "plt.plot(x,y,'o')\n",
        "plt.plot(x,net(X).data,'--')"
      ],
      "id": "8d34b7c7-d2e3-4787-a741-dfc6231e30c2"
    },
    {
      "cell_type": "markdown",
      "metadata": {},
      "source": [
        "## step4의 다른버전: 옵티마이저!\n",
        "\n",
        "### ver1: net = torch.nn.Linear(1,1,bias=True)\n",
        "\n",
        "`-` 준비"
      ],
      "id": "e16d583d-9b2b-48b5-88fc-9c0c16ec453e"
    },
    {
      "cell_type": "code",
      "execution_count": null,
      "metadata": {},
      "outputs": [],
      "source": [
        "net = torch.nn.Linear(1,1) \n",
        "net.weight.data = torch.tensor([[10.0]]) \n",
        "net.bias.data = torch.tensor([[-5.0]]) "
      ],
      "id": "147adb45-ebb9-47cd-be1d-d7e306d7cb64"
    },
    {
      "cell_type": "code",
      "execution_count": null,
      "metadata": {},
      "outputs": [],
      "source": [
        "optimizr = torch.optim.SGD(net.parameters(),lr=1/10) # step4가 너무 귀찮기 때문에 net파라미터를 받아서 업데이트하고 청소해주는 오브젝트를 하나 만들기\n",
        "# optim.SGD(parameter, lr(alpha)=0.1)\n",
        "# net.parameters() = generator 어쩌고 튀어나오는데 이거 넣어주기 "
      ],
      "id": "67bddcbd-6907-40e5-a68e-339d70c2f97d"
    },
    {
      "cell_type": "markdown",
      "metadata": {},
      "source": [
        "`-` step1~3"
      ],
      "id": "e1fcf487-4924-4417-8983-1cc85306f1c9"
    },
    {
      "cell_type": "code",
      "execution_count": null,
      "metadata": {},
      "outputs": [],
      "source": [
        "yhat = net(x)     "
      ],
      "id": "ef0484e2-0729-4ec7-a55d-2297fa6020d5"
    },
    {
      "cell_type": "code",
      "execution_count": null,
      "metadata": {},
      "outputs": [],
      "source": [
        "loss = torch.mean((y-yhat)**2) "
      ],
      "id": "71bbb10d-daaa-45ce-9998-fe43ab8a50f3"
    },
    {
      "cell_type": "code",
      "execution_count": null,
      "metadata": {},
      "outputs": [],
      "source": [
        "loss.backward() "
      ],
      "id": "3519afad-f821-4f42-819f-6c269e99c61b"
    },
    {
      "cell_type": "markdown",
      "metadata": {},
      "source": [
        "`-` step4\n",
        "\n",
        "(update 전)"
      ],
      "id": "eef68bcb-399c-4ec4-ac2c-9cd1569d4e70"
    },
    {
      "cell_type": "code",
      "execution_count": null,
      "metadata": {
        "outputId": "fdb4945d-b200-4858-dd68-3b3d889142e2"
      },
      "outputs": [],
      "source": [
        "net.weight.data, net.bias.data ## 값은 업데이트 전"
      ],
      "id": "7f78c571-f041-4add-a7cd-574f5b697823"
    },
    {
      "cell_type": "code",
      "execution_count": null,
      "metadata": {
        "outputId": "833fef98-1b43-4fd0-8017-ee6d2e99a2fc"
      },
      "outputs": [],
      "source": [
        "net.weight.grad, net.bias.grad ## 미분값은 청소전 "
      ],
      "id": "0ec1ad1f-762b-4edf-bf4c-bdf974ad0896"
    },
    {
      "cell_type": "markdown",
      "metadata": {},
      "source": [
        "(update)"
      ],
      "id": "5c6b56d7-2aa8-48f2-b4f2-04580fbd077c"
    },
    {
      "cell_type": "code",
      "execution_count": null,
      "metadata": {},
      "outputs": [],
      "source": [
        "optimizr.step()  # update 진행해줌\n",
        "optimizr.zero_grad() # grad값 청소"
      ],
      "id": "a73cdb87-73c7-4955-b045-bdd4abc0f96d"
    },
    {
      "cell_type": "markdown",
      "metadata": {},
      "source": [
        "(update 후)"
      ],
      "id": "e0d3cc64-b954-4e61-8189-b6742b21012a"
    },
    {
      "cell_type": "code",
      "execution_count": null,
      "metadata": {
        "outputId": "16670430-c00b-4b10-8cef-dd20ae53b1cd"
      },
      "outputs": [],
      "source": [
        "net.weight.data, net.bias.data ## 값은 업데이트 되었음 "
      ],
      "id": "49cd11d8-5edb-4c41-ac2a-b4c9a627c360"
    },
    {
      "cell_type": "code",
      "execution_count": null,
      "metadata": {
        "outputId": "14938e58-2578-4036-bea9-c595bf3e12f7"
      },
      "outputs": [],
      "source": [
        "net.weight.grad, net.bias.grad ## 미분값은 0으로 초기화하였음 "
      ],
      "id": "4634d3bf-87fb-44ed-a9be-4356ea9e7788"
    },
    {
      "cell_type": "markdown",
      "metadata": {},
      "source": [
        "`-` 반복"
      ],
      "id": "faa4466f-0a58-4cc8-8bb1-fcdca71d3b2c"
    },
    {
      "cell_type": "code",
      "execution_count": null,
      "metadata": {},
      "outputs": [],
      "source": [
        "net = torch.nn.Linear(1,1) \n",
        "net.weight.data = torch.tensor([[10.0]])\n",
        "net.bias.data = torch.tensor([-5.0])\n",
        "optimizr = torch.optim.SGD(net.parameters(),lr=1/10) "
      ],
      "id": "8a0592d8-49f0-4eb4-89f7-76ca241eeb3d"
    },
    {
      "cell_type": "code",
      "execution_count": null,
      "metadata": {},
      "outputs": [],
      "source": [
        "plt.plot(x,y,'o')\n",
        "plt.plot(x,net(x).data,'--')"
      ],
      "id": "Xvvkw4CL-eO8"
    },
    {
      "cell_type": "code",
      "execution_count": null,
      "metadata": {},
      "outputs": [],
      "source": [
        "for epoc in range(30): \n",
        "    # step1\n",
        "    yhat = net(x)\n",
        "    # step2\n",
        "    loss = torch.mean((y-yhat)**2) \n",
        "    # step3\n",
        "    loss.backward()\n",
        "    # step4 \n",
        "    optimizr.step(); optimizr.zero_grad() "
      ],
      "id": "79f4cb43-83e8-4ddd-938b-cf92a6395ed0"
    },
    {
      "cell_type": "code",
      "execution_count": null,
      "metadata": {
        "outputId": "e33c02a5-7514-4618-cd7b-d5bb8af0811e"
      },
      "outputs": [
        {
          "output_type": "display_data",
          "metadata": {},
          "data": {
            "image/png": "[encoded data removed]"
          }
        }
      ],
      "source": [
        "plt.plot(x,y,'o')\n",
        "plt.plot(x,net(x).data,'--')"
      ],
      "id": "1a1cab3c-1e1c-4bdc-b11e-cb5d2d20c7e8"
    },
    {
      "cell_type": "markdown",
      "metadata": {},
      "source": [
        "### ver2: net = torch.nn.Linear(2,1,bias=False)\n",
        "\n",
        "`-` 바로 반복하겠습니다.."
      ],
      "id": "3c8aef79-0c1c-4e15-a334-31c77e7d3a7c"
    },
    {
      "cell_type": "code",
      "execution_count": null,
      "metadata": {},
      "outputs": [],
      "source": [
        "net = torch.nn.Linear(2,1,bias=False) \n",
        "net.weight.data = torch.tensor([[-5.0, 10.0]])\n",
        "optimizr = torch.optim.SGD(net.parameters(),lr=1/10) "
      ],
      "id": "5e0bd95c-a522-4a10-82fc-319c1b0f70de"
    },
    {
      "cell_type": "code",
      "execution_count": null,
      "metadata": {},
      "outputs": [],
      "source": [
        "for epoc in range(30): \n",
        "    yhat = net(X)              # ver1에서는 스몰x였는데 여기서는 라지X\n",
        "    loss = torch.mean((y-yhat)**2) \n",
        "    loss.backward() \n",
        "    optimizr.step(); optimizr.zero_grad() "
      ],
      "id": "02c373d3-e3f8-401d-9b57-5c973efe35e9"
    },
    {
      "cell_type": "code",
      "execution_count": null,
      "metadata": {
        "outputId": "244c40fe-0207-46a4-d225-e1c618b3cf8a"
      },
      "outputs": [
        {
          "output_type": "display_data",
          "metadata": {},
          "data": {
            "image/png": "[encoded data removed]"
          }
        }
      ],
      "source": [
        "plt.plot(x,y,'o')\n",
        "plt.plot(x,net(X).data,'--')"
      ],
      "id": "44d59c60-0839-41fe-b7a4-61522340bddd"
    },
    {
      "cell_type": "markdown",
      "metadata": {},
      "source": [
        "------------------------------------------------------------------------\n",
        "\n",
        "## Appendix: `net.parameters()`의 의미? (선택학습)\n",
        "\n",
        "`-` iterator, generator의 개념필요 -\n",
        "https://guebin.github.io/IP2022/2022/06/06/(14주차)-6월6일.html,\n",
        "클래스공부 8단계 참고\n",
        "\n",
        "`-` 탐구시작: 네트워크 생성"
      ],
      "id": "34d26948-af07-4e08-ae15-551ad5fb5a1f"
    },
    {
      "cell_type": "code",
      "execution_count": null,
      "metadata": {
        "outputId": "ddc44d1c-a87d-42fe-e7d4-5e264b91e808"
      },
      "outputs": [],
      "source": [
        "net = torch.nn.Linear(in_features=1,out_features=1)\n",
        "net.weight"
      ],
      "id": "9722a3a1-1332-4afa-a0c3-4274a48135f3"
    },
    {
      "cell_type": "code",
      "execution_count": null,
      "metadata": {
        "outputId": "1085a82f-6369-4563-bd68-90c484dc9d19"
      },
      "outputs": [],
      "source": [
        "net.bias"
      ],
      "id": "bbbe8fc8-d297-47bb-8aa8-e870f327bca1"
    },
    {
      "cell_type": "markdown",
      "metadata": {},
      "source": [
        "`-` torch.optim.SGD? 를 확인하면 params에 대한설명에 아래와 같이\n",
        "되어있음\n",
        "\n",
        "    params (iterable): iterable of parameters to optimize or dicts defining\n",
        "            parameter groups\n",
        "\n",
        "`-` 설명을 읽어보면 params에 iterable object를 넣으라고 되어있음\n",
        "(iterable object는 숨겨진 명령어로 `__iter__`를 가지고 있는 오브젝트를\n",
        "의미)"
      ],
      "id": "bd43f578-05dc-4055-8f15-2254fddc0089"
    },
    {
      "cell_type": "code",
      "execution_count": null,
      "metadata": {
        "outputId": "f1999e6b-9989-4a13-a12e-d2c7762bdf1a"
      },
      "outputs": [],
      "source": [
        "set(dir(net.parameters)) & {'__iter__'}"
      ],
      "id": "dd73fe01-4f26-4fff-a044-039e8cf32c13"
    },
    {
      "cell_type": "code",
      "execution_count": null,
      "metadata": {
        "outputId": "e02adc61-279c-4490-8e96-39dff4203309"
      },
      "outputs": [],
      "source": [
        "set(dir(net.parameters())) & {'__iter__'}"
      ],
      "id": "6301c575-7ee4-4c0a-8935-5d320b5c19da"
    },
    {
      "cell_type": "markdown",
      "metadata": {},
      "source": [
        "`-` 무슨의미?"
      ],
      "id": "f4dafa01-07e3-4f46-90e5-218dca852272"
    },
    {
      "cell_type": "code",
      "execution_count": null,
      "metadata": {},
      "outputs": [],
      "source": [
        "_generator = net.parameters()"
      ],
      "id": "bcde9b99-c139-4ef7-8e62-a72f1e626599"
    },
    {
      "cell_type": "code",
      "execution_count": null,
      "metadata": {
        "outputId": "413b18db-b5a2-44d1-f3d6-549f7fc358ba"
      },
      "outputs": [],
      "source": [
        "_generator.__next__()"
      ],
      "id": "6d8b6ce2-4f61-479d-b54f-4c10d71bec87"
    },
    {
      "cell_type": "code",
      "execution_count": null,
      "metadata": {
        "outputId": "a7ef0c4d-0b8b-47dc-a10c-9822a2ab875a"
      },
      "outputs": [],
      "source": [
        "_generator.__next__()"
      ],
      "id": "5ad43be4-1c55-46bc-a037-6902f6efc3e6"
    },
    {
      "cell_type": "code",
      "execution_count": null,
      "metadata": {
        "outputId": "c8dbf27b-9048-46be-c3f5-2c8b645f4d09"
      },
      "outputs": [],
      "source": [
        "_generator.__next__()"
      ],
      "id": "0ef70550-16d4-4bf7-8e50-6f9e7bbb4304"
    },
    {
      "cell_type": "markdown",
      "metadata": {},
      "source": [
        "`-` 이건 이런느낌인데?"
      ],
      "id": "f0dd7386-dde1-4e06-ac7b-49afea2cf65a"
    },
    {
      "cell_type": "code",
      "execution_count": null,
      "metadata": {},
      "outputs": [],
      "source": [
        "_generator2 = iter([net.weight,net.bias])"
      ],
      "id": "6f94ee5a-ccc7-4a76-b74c-5beb00291468"
    },
    {
      "cell_type": "code",
      "execution_count": null,
      "metadata": {
        "outputId": "2f043605-1fb8-4e11-d9e3-5797962085db"
      },
      "outputs": [],
      "source": [
        "_generator2"
      ],
      "id": "8a52bedd-f56a-48eb-8bf1-e3c8e783ee71"
    },
    {
      "cell_type": "code",
      "execution_count": null,
      "metadata": {
        "outputId": "5a7fab86-94f6-40ad-c1a1-fcb164219965"
      },
      "outputs": [],
      "source": [
        "_generator2.__next__()"
      ],
      "id": "5769b8e5-2808-4ee1-8290-e2344d055ac1"
    },
    {
      "cell_type": "code",
      "execution_count": null,
      "metadata": {
        "outputId": "2f1c8f6d-9c12-4add-8680-5aaa86d9e92e"
      },
      "outputs": [],
      "source": [
        "_generator2.__next__()"
      ],
      "id": "39d8fa7e-afc5-4d18-a918-d5bf8d37137e"
    },
    {
      "cell_type": "code",
      "execution_count": null,
      "metadata": {
        "outputId": "d57d74d2-6896-42cb-8dfd-0bb013d47ccc"
      },
      "outputs": [],
      "source": [
        "_generator2.__next__()"
      ],
      "id": "4ccc30a7-079e-4608-a381-1a0d06c7e052"
    },
    {
      "cell_type": "markdown",
      "metadata": {},
      "source": [
        "`-` 즉 아래는 같은코드이다.\n",
        "\n",
        "``` python\n",
        "### 코드1\n",
        "_generator = net.parameters() \n",
        "torch.optim.SGD(_generator,lr=1/10) \n",
        "### 코드2\n",
        "_generator = iter([net.weight,net.bias])\n",
        "torch.optim.SGD(_generator,lr=1/10) \n",
        "### 코드3 (이렇게 써도 코드2가 실행된다고 이해할 수 있음)\n",
        "_iterator = [net.weight,net.bias]\n",
        "torch.optim.SGD(_iterator,lr=1/10) \n",
        "```\n",
        "\n",
        "결론: `net.parameters()`는 net오브젝트에서 학습할 파라메터를 모두 모아\n",
        "리스트(iterable object)로 만드는 함수라 이해할 수 있다.\n",
        "\n",
        "`-` 응용예제1"
      ],
      "id": "31afc702-5ecc-472b-88fe-6f14b87311f3"
    },
    {
      "cell_type": "code",
      "execution_count": null,
      "metadata": {},
      "outputs": [],
      "source": [
        "What = torch.tensor([[-5.0],[10.0]],requires_grad=True)\n",
        "optimizr = torch.optim.SGD([What],lr=1/10) "
      ],
      "id": "45a79850-c154-4b17-b698-e98830c76b99"
    },
    {
      "cell_type": "code",
      "execution_count": null,
      "metadata": {
        "outputId": "40869ccd-efd2-47b8-ed56-36dc16ec0015"
      },
      "outputs": [
        {
          "output_type": "display_data",
          "metadata": {},
          "data": {
            "image/png": "[encoded data removed]"
          }
        }
      ],
      "source": [
        "plt.plot(x,y,'o')\n",
        "plt.plot(x,(X@What).data,'--')"
      ],
      "id": "26853ca2-9f7a-44b9-9a75-1d373d9214c3"
    },
    {
      "cell_type": "code",
      "execution_count": null,
      "metadata": {},
      "outputs": [],
      "source": [
        "for epoc in range(30):\n",
        "    yhat = X@What \n",
        "    loss = torch.mean((y-yhat)**2)\n",
        "    loss.backward()\n",
        "    optimizr.step();optimizr.zero_grad() "
      ],
      "id": "f214d5fe-d377-400b-bd19-c94db6ebf124"
    },
    {
      "cell_type": "code",
      "execution_count": null,
      "metadata": {
        "outputId": "d66813fa-f257-408d-e9a0-fcfedd47a981"
      },
      "outputs": [
        {
          "output_type": "display_data",
          "metadata": {},
          "data": {
            "image/png": "[encoded data removed]"
          }
        }
      ],
      "source": [
        "plt.plot(x,y,'o')\n",
        "plt.plot(x,(X@What).data,'--')"
      ],
      "id": "57ad55eb-72ee-45eb-a13d-318bc48a1285"
    },
    {
      "cell_type": "markdown",
      "metadata": {},
      "source": [
        "`-` 응용예제2"
      ],
      "id": "ed038ed6-a844-4d7e-b34e-ac45133a6468"
    },
    {
      "cell_type": "code",
      "execution_count": null,
      "metadata": {},
      "outputs": [],
      "source": [
        "b = torch.tensor(-5.0,requires_grad=True)\n",
        "w = torch.tensor(10.0,requires_grad=True)\n",
        "optimizr = torch.optim.SGD([b,w],lr=1/10)"
      ],
      "id": "999d4116-b1fc-46ce-b170-ce91f3081415"
    },
    {
      "cell_type": "code",
      "execution_count": null,
      "metadata": {
        "outputId": "9e4ff337-9d2f-45f9-aecc-e0681c9991a4"
      },
      "outputs": [
        {
          "output_type": "display_data",
          "metadata": {},
          "data": {
            "image/png": "[encoded data removed]"
          }
        }
      ],
      "source": [
        "plt.plot(x,y,'o')\n",
        "plt.plot(x,(w*x+b).data,'--')"
      ],
      "id": "b68c09fd-6fb4-4ab0-bdec-82aa8d747590"
    },
    {
      "cell_type": "code",
      "execution_count": null,
      "metadata": {},
      "outputs": [],
      "source": [
        "for epoc in range(30):\n",
        "    yhat = b+ w*x \n",
        "    loss = torch.mean((y-yhat)**2)\n",
        "    loss.backward()\n",
        "    optimizr.step(); optimizr.zero_grad()"
      ],
      "id": "89a491c3-35df-4331-a6b1-cf4be0c01eb7"
    },
    {
      "cell_type": "code",
      "execution_count": null,
      "metadata": {
        "outputId": "7ec145b2-44f8-4e7a-d99c-a82825a1a752"
      },
      "outputs": [
        {
          "output_type": "display_data",
          "metadata": {},
          "data": {
            "image/png": "[encoded data removed]"
          }
        }
      ],
      "source": [
        "plt.plot(x,y,'o')\n",
        "plt.plot(x,(w*x+b).data,'--')"
      ],
      "id": "26844418-ac15-4cf1-886b-514d60959dd0"
    },
    {
      "cell_type": "markdown",
      "metadata": {},
      "source": [
        "## Logistic regression\n",
        "\n",
        "### motive\n",
        "\n",
        "`-` 현실에서 이런 경우가 많음 - $x$가 커질수록 (혹은 작아질수록)\n",
        "성공확률이 증가함."
      ],
      "id": "85e71092-8a1e-4078-8f8c-6d5bde620493"
    },
    {
      "cell_type": "code",
      "execution_count": null,
      "metadata": {},
      "outputs": [],
      "source": [
        "# EX) x는 학점이고.. y는 취업할 확률"
      ],
      "id": "_Dvw1AXP_ifc"
    },
    {
      "cell_type": "markdown",
      "metadata": {},
      "source": [
        "`-` (X,y)는 어떤모양?"
      ],
      "id": "af906560-3c2e-4f36-bcc8-c441ea7321b0"
    },
    {
      "cell_type": "code",
      "execution_count": null,
      "metadata": {
        "outputId": "77b7a2d7-d2eb-4741-e420-ddfd0663ed27"
      },
      "outputs": [],
      "source": [
        "_df = pd.DataFrame({'x':range(-6,7),'y':[0,0,0,0,0,0,1,0,1,1,1,1,1]})\n",
        "_df "
      ],
      "id": "80c0b223-1b23-457e-99fe-0103c85877ac"
    },
    {
      "cell_type": "code",
      "execution_count": null,
      "metadata": {
        "outputId": "454c8f99-d7a4-427a-f316-50d31af740eb"
      },
      "outputs": [
        {
          "output_type": "display_data",
          "metadata": {},
          "data": {
            "image/png": "[encoded data removed]"
          }
        }
      ],
      "source": [
        "plt.plot(_df.x,_df.y,'o')"
      ],
      "id": "08a2de7d-30d8-4e76-a539-968fe6645cfa"
    },
    {
      "cell_type": "markdown",
      "metadata": {},
      "source": [
        "`-` (예비학습) 시그모이드라는 함수가 있음"
      ],
      "id": "5d1ccab1-4f62-4f89-8f3b-108a58dabfb9"
    },
    {
      "cell_type": "code",
      "execution_count": null,
      "metadata": {},
      "outputs": [],
      "source": [
        "xx = torch.linspace(-6,6,100)   # -6에서 6까지 100개..\n",
        "def f(x):\n",
        "    return torch.exp(x)/(1+torch.exp(x))  "
      ],
      "id": "ffa06829-2c5e-411d-8ec2-23f81acdc7e7"
    },
    {
      "cell_type": "code",
      "execution_count": null,
      "metadata": {
        "outputId": "69e4897d-f649-415f-f8a0-c3cf71f40402"
      },
      "outputs": [
        {
          "output_type": "display_data",
          "metadata": {},
          "data": {
            "image/png": "[encoded data removed]"
          }
        }
      ],
      "source": [
        "plt.plot(_df.x,_df.y,'o')\n",
        "plt.plot(xx,f(xx))   # f(xx) = f(1*xx) 얌.. 근데 만약 f(5*xx)하면 기울기가 더 급해져.. 애매한 부분이 더 적어지고 스펙에 대한 영향을 ... f(2.5*xx)-1.2 (우측으로 1.2 이동) 이렇게 튜닝이 가능"
      ],
      "id": "5a450682-b4f6-4ceb-ade0-9dce9e40c029"
    },
    {
      "cell_type": "markdown",
      "metadata": {},
      "source": [
        "### model\n",
        "\n",
        "`-` $x$가 커질수록 $y=1$이 잘나오는 모형은 아래와 같이 설계할 수 있음\n",
        "\\<— 외우세요!!!\n",
        "\n",
        "-   \\$y_i Ber(\\_i),\\$ where\n",
        "    $\\pi_i = \\frac{\\exp(w_0+w_1x_i)}{1+\\exp(w_0+w_1x_i)}$\n",
        "\n",
        "-   $\\hat{y}_i= \\frac{\\exp(\\hat{w}_0+\\hat{w}_1x_i)}{1+\\exp(\\hat{w}_0+\\hat{w}_1x_i)}=\\frac{1}{1+\\exp(-\\hat{w}_0-\\hat{w}_1x_i)}$\n",
        "\n",
        "-   $loss= - \\sum_{i=1}^{n} \\big(y_i\\log(\\hat{y}_i)+(1-y_i)\\log(1-\\hat{y}_i)\\big)$\n",
        "    \\<— 외우세요!!"
      ],
      "id": "f43b0cd2-b6bf-48b6-850d-a708bb5fca66"
    },
    {
      "cell_type": "code",
      "execution_count": null,
      "metadata": {},
      "outputs": [],
      "source": [
        "# 베르누이.. pi i 라는 건.. 왜 p가 아니고 pi냐? 사람마다 합격할 확률이 다르기 때문에.\n",
        "# x가 무한대로 가면 pi i 는 1에 가까워지고 마이너스 무한대로 가면 0에가까워진다\n",
        "\n",
        "# loss는 MSE로 하긴 어렵고,, 라이클리우드?????????? 설명이기니까 위에 그냥 외우기\n",
        "# y i = 0 일대랑 1 일때 저식에 넣어서 그래프 그려서 생각해보기... loss는 yi랑 y값이 비슷하면 loss 값이 작아짐"
      ],
      "id": "trmw1HIhDr4l"
    },
    {
      "cell_type": "markdown",
      "metadata": {},
      "source": [
        "### toy example\n",
        "\n",
        "`-` 예제시작"
      ],
      "id": "e09cb3d2-98d2-4e70-bcf8-4e904d8be9a7"
    },
    {
      "cell_type": "code",
      "execution_count": null,
      "metadata": {},
      "outputs": [],
      "source": [
        "x=torch.linspace(-1,1,2000).reshape(2000,1)\n",
        "w0= -1 \n",
        "w1= 5 \n",
        "u = w0+x*w1 \n",
        "v = torch.exp(u)/(1+torch.exp(u)) # v=πi, 즉 확률을 의미함,  v는 성공할확률\n",
        "y = torch.bernoulli(v) \n",
        "\n",
        "# torch.bernoulli(toch.tensor([0.5]*100))   0,1 반복해서 뽑힘. 0.5는 확률!!!!!"
      ],
      "id": "9e839c06-97c4-4b85-8c02-5ef8c4dde51a"
    },
    {
      "cell_type": "code",
      "execution_count": null,
      "metadata": {
        "outputId": "d4b58d7f-b25b-49ac-d6b4-edd029642ed6"
      },
      "outputs": [
        {
          "output_type": "display_data",
          "metadata": {},
          "data": {
            "image/png": "[encoded data removed]"
          }
        }
      ],
      "source": [
        "plt.scatter(x,y,alpha=0.05)   # 여기서 알파가 투명도인듯??????????? \n",
        "plt.plot(x,v,'--r')"
      ],
      "id": "f609e8ec-3dc8-485e-b5e4-8f34fbcfedbc"
    },
    {
      "cell_type": "markdown",
      "metadata": {},
      "source": [
        "-   우리의 목적: $x$가 들어가면 빨간선 $\\hat{y}$의 값을 만들어주는\n",
        "    mapping을 학습해보자."
      ],
      "id": "2f40d665-b297-45bf-ac6a-e7773791b567"
    },
    {
      "cell_type": "code",
      "execution_count": null,
      "metadata": {
        "outputId": "c6897c48-f866-4c2a-b5a5-840ed0e1a60c"
      },
      "outputs": [],
      "source": [
        "# 최초의 곡선\n",
        "# w0hat = -1\n",
        "# w1hat = 3\n",
        "\n",
        "\n",
        "# yhat = f(w0hat+x*w1hat)\n",
        "# plt.plot(x,y, 'o', alpha=0.05)   \n",
        "# plt.plot(x,v,'--')\n",
        "# plt.plot(x,yhat,'--r')"
      ],
      "id": "RiMFiPVEHub2"
    },
    {
      "cell_type": "code",
      "execution_count": null,
      "metadata": {},
      "outputs": [],
      "source": [
        "# sigmoid함수만들엇던걸..............."
      ],
      "id": "aoA56uXhIX_O"
    },
    {
      "cell_type": "markdown",
      "metadata": {},
      "source": [
        "## 숙제"
      ],
      "id": "078b32e3-3a68-4866-9ee9-d5bdf79de504"
    }
  ],
  "nbformat": 4,
  "nbformat_minor": 5,
  "metadata": {
    "colab": {
      "provenance": []
    },
    "kernelspec": {
      "name": "python3",
      "display_name": "Python 3",
      "language": "python"
    },
    "language_info": {
      "name": "python",
      "codemirror_mode": {
        "name": "ipython",
        "version": "3"
      },
      "file_extension": ".py",
      "mimetype": "text/x-python",
      "nbconvert_exporter": "python",
      "pygments_lexer": "ipython3",
      "version": "3.8.16"
    }
  }
}