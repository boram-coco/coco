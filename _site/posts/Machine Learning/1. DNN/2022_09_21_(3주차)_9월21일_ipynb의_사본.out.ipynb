{
  "cells": [
    {
      "cell_type": "markdown",
      "metadata": {},
      "source": [
        "# 기계학습 (0921) 3주차\n",
        "\n",
        "김보람  \n",
        "2022-09-21\n",
        "\n",
        "## imports"
      ],
      "id": "9e1aced0-6c5f-4584-b47f-cc0550359dbd"
    },
    {
      "cell_type": "code",
      "execution_count": null,
      "metadata": {},
      "outputs": [],
      "source": [
        "import torch\n",
        "import numpy as np\n",
        "import matplotlib.pyplot as plt "
      ],
      "id": "903d2bef-18cf-436f-aba0-bbf57ea3bbcb"
    },
    {
      "cell_type": "markdown",
      "metadata": {},
      "source": [
        "## 로드맵\n",
        "\n",
        "`-` 회귀분석 $\\to$ 로지스틱 $\\to$ 심층신경망(DNN) $\\to$\n",
        "합성곱신경망(CNN)\n",
        "\n",
        "`-`\n",
        "[강의계획서](https://github.com/guebin/DL2022/blob/master/_notebooks/DL2022.pdf)\n",
        "\n",
        "## ref\n",
        "\n",
        "`-` 넘파이 문법이 약하다면? (reshape, concatenate, stack)\n",
        "\n",
        "1.  reshape: 아래 링크의 넘파이공부 2단계 reshape 참고\n",
        "\n",
        "https://guebin.github.io/IP2022/2022/04/06/(6%EC%A3%BC%EC%B0%A8)-4%EC%9B%946%EC%9D%BC.html\n",
        "\n",
        "1.  concatenate, stack: 아래 링크의 넘파이공부 4단계 참고\n",
        "\n",
        "https://guebin.github.io/IP2022/2022/04/11/(6%EC%A3%BC%EC%B0%A8)-4%EC%9B%9411%EC%9D%BC.html\n",
        "\n",
        "## 회귀모형 소개\n",
        "\n",
        "`-` model:\n",
        "$y_i= w_0+w_1 x_i +\\epsilon_i = 2.5 + 4x_i +\\epsilon_i, \\quad i=1,2,\\dots,n$\n",
        "\n",
        "`-` model: ${\\bf y}={\\bf X}{\\bf W} +\\boldsymbol{\\epsilon}$\n",
        "\n",
        "-   ${\\bf y}=\\begin{bmatrix} y_1 \\\\ y_2 \\\\ \\dots \\\\ y_n\\end{bmatrix}, \\quad {\\bf X}=\\begin{bmatrix} 1 & x_1 \\\\ 1 & x_2 \\\\ \\dots \\\\ 1 & x_n\\end{bmatrix}, \\quad {\\bf W}=\\begin{bmatrix} 2.5 \\\\ 4 \\end{bmatrix}, \\quad \\boldsymbol{\\epsilon}= \\begin{bmatrix} \\epsilon_1 \\\\ \\dots \\\\ \\epsilon_n\\end{bmatrix}$\n",
        "\n",
        "## 회귀모형에서 데이터 생성"
      ],
      "id": "1b62aced-d6b1-42e1-b9e7-a92c98fdb881"
    },
    {
      "cell_type": "code",
      "execution_count": null,
      "metadata": {},
      "outputs": [],
      "source": [
        "_rnt=torch.randn(100).sort() #100개의 난수 생성 .sort()는 정렬된 값 표현"
      ],
      "id": "K64ZdB6CkhqW"
    },
    {
      "cell_type": "code",
      "execution_count": null,
      "metadata": {
        "outputId": "9bec811f-c24d-45f4-9c30-c3377556dd8b"
      },
      "outputs": [],
      "source": [
        "type(_rnt) #type해보니까 모르는 거네? lengh를 보면 2니까 리스트를 해볼수 있음!"
      ],
      "id": "pN9EbPyWk0Z2"
    },
    {
      "cell_type": "code",
      "execution_count": null,
      "metadata": {},
      "outputs": [],
      "source": [
        "a,_ = _rnt[0], _rnt[1] #첫번쨰 원소가 a에 들어가고 두번째 원소가 언더바에 들어가게 된다."
      ],
      "id": "_gcsfXAKk57x"
    },
    {
      "cell_type": "code",
      "execution_count": null,
      "metadata": {
        "outputId": "9ebd4e1d-7d0d-4b89-b9c9-0a2e9f531801"
      },
      "outputs": [],
      "source": [
        "x,_ = torch.randn(100).sort()\n",
        "x     # X벡터 안에 들어가는 x1, x2, x3 ... "
      ],
      "id": "2NCAG5ldlGp2"
    },
    {
      "cell_type": "code",
      "execution_count": null,
      "metadata": {},
      "outputs": [],
      "source": [
        "ones= torch.ones(100)   #torch.ones(100) 1이 100개 들어간거. X벡터만들기 위해서 "
      ],
      "id": "uszHF11yli0e"
    },
    {
      "cell_type": "code",
      "execution_count": null,
      "metadata": {
        "outputId": "3d750287-44a6-4a17-a63d-7e9ab1f5b6f7"
      },
      "outputs": [],
      "source": [
        "torch.stack([ones, x]) #stack 쌓는다!!!   근데 우리가 원하는 건 이거의 T (트랜스)를 가지고 싶으니까 벡터T 해주기!"
      ],
      "id": "SiNs-hkslmuF"
    },
    {
      "cell_type": "code",
      "execution_count": null,
      "metadata": {
        "outputId": "41ac2605-ae07-4c9c-80d2-2f93114f755e"
      },
      "outputs": [],
      "source": [
        "type(torch.stack([ones, x]))"
      ],
      "id": "rCnUlEXnlq2d"
    },
    {
      "cell_type": "code",
      "execution_count": null,
      "metadata": {},
      "outputs": [],
      "source": [
        "# 역슬래시 하고 입실론 쓰고 탭 누르면 입실론 수학기호생김 신기하군"
      ],
      "id": "lgDpfZLJmQRG"
    },
    {
      "cell_type": "code",
      "execution_count": null,
      "metadata": {
        "outputId": "5ce9e92e-6ac0-4499-b609-f120bc4c87c2"
      },
      "outputs": [],
      "source": [
        "W = torch.tensor([2.5,4])\n",
        "W\n",
        "W.shape #원래 shape이 매트릭스여야 하는데 벡터네? 그럼 X@W하면 매트릭스가 아닌 벡터가 된다. ~~~~~~~~~~ 2차원 1차원,,, 훔 "
      ],
      "id": "5liSBt9fmh8t"
    },
    {
      "cell_type": "code",
      "execution_count": null,
      "metadata": {},
      "outputs": [],
      "source": [
        "torch.manual_seed(43052) #이건 원래 난수가 봅히는건뎅 교수님이 설명하기 편하게 ,, 숫자 정해논고\n",
        "ones= torch.ones(100) #torch.ones(100) 1이 100개 들어간거. X벡터만들기 위해서 \n",
        "x,_ = torch.randn(100).sort()\n",
        "X = torch.stack([ones,x]).T # torch.stack([ones,x],axis=1)    T:트랜스포 해주는거. 근데 그렇게 안하고 axis=1해도 된당!\n",
        "W = torch.tensor([2.5,4])\n",
        "ϵ = torch.randn(100)*0.5\n",
        "y = X@W + ϵ"
      ],
      "id": "069b91c5-6a7a-432f-8916-c7c334c646c5"
    },
    {
      "cell_type": "code",
      "execution_count": null,
      "metadata": {
        "outputId": "71bfd6b0-b24a-4754-f89f-4cd37ec1345e"
      },
      "outputs": [
        {
          "output_type": "display_data",
          "metadata": {},
          "data": {
            "image/png": "[encoded data removed]"
          }
        }
      ],
      "source": [
        "plt.plot(x,y,'o')\n",
        "plt.plot(x,2.5+4*x,'--') #트루펑션 점선으로 찍어보기\n",
        "\n",
        "#언더라인펑션~= Y=4x+2.5 \n",
        "# w0, w1를 추정하면 언더라인 펑션을 잘 추정했다고 확인 할 수 잇어염 "
      ],
      "id": "fb9fe438-f094-4e77-9ca5-39e8fd2c6fd3"
    },
    {
      "cell_type": "code",
      "execution_count": null,
      "metadata": {},
      "outputs": [],
      "source": [
        "# 파란점은 기본 데이터. 입실론을 뺀거(오차항 뺸거)=TRUU FUNCTION을 찾고 싶어!"
      ],
      "id": "XRsQ4DP7nCzG"
    },
    {
      "cell_type": "markdown",
      "metadata": {},
      "source": [
        "## 회귀모형에서 학습이란?"
      ],
      "id": "14ebf0b7-8dc2-4d7a-8c34-29d7ae3d9260"
    },
    {
      "cell_type": "code",
      "execution_count": null,
      "metadata": {},
      "outputs": [],
      "source": [
        "# x에서 y로가는 맵핑 \n",
        "# 리니어 맵핑,, 2.5랑 4에 가깝게 맞추는거!!"
      ],
      "id": "wlJwjMOgn-6e"
    },
    {
      "cell_type": "markdown",
      "metadata": {},
      "source": [
        "`-` 파란점만 주어졌을때, 주황색 점선을 추정하는것. 좀 더 정확하게 말하면\n",
        "given data로 $\\begin{bmatrix} \\hat{w}_0 \\\\ \\hat{w}_1 \\end{bmatrix}$를\n",
        "최대한 $\\begin{bmatrix} 2.5 \\\\ 4 \\end{bmatrix}$와 비슷하게 찾는것.\n",
        "\n",
        "-   given data : $\\big\\{(x_i,y_i) \\big\\}_{i=1}^{n}$\n",
        "\n",
        "-   parameter: ${\\bf W}=\\begin{bmatrix} w_0 \\\\ w_1 \\end{bmatrix}$\n",
        "\n",
        "-   estimated parameter:\n",
        "    ${\\bf \\hat{W}}=\\begin{bmatrix} \\hat{w}_0 \\\\ \\hat{w}_1 \\end{bmatrix}$\n",
        "\n",
        "`-` 더 쉽게 말하면 아래의 그림을 보고 `적당한` 추세선을 찾는것이다."
      ],
      "id": "b216dc2a-5fd2-406d-8ac7-0d081e0b90ff"
    },
    {
      "cell_type": "code",
      "execution_count": null,
      "metadata": {},
      "outputs": [],
      "source": [
        "# \"적당한\" 추세선이 뭐냐? 하면 웱,,\n",
        "# 숫자로 만드는게 제일 편하다!!\n",
        "# 적당한게 정도가 있어서 일단 안적당한 거 먼저 해볼게용"
      ],
      "id": "dOAhK6pMoUIW"
    },
    {
      "cell_type": "code",
      "execution_count": null,
      "metadata": {
        "outputId": "7084e8bd-5f4e-4d86-dde2-9e1b999d65b4"
      },
      "outputs": [
        {
          "output_type": "display_data",
          "metadata": {},
          "data": {
            "image/png": "[encoded data removed]"
          }
        }
      ],
      "source": [
        "plt.plot(x,y,'o')\n",
        "plt.plot(x, -5+10*x, '--')\n",
        "\n",
        "# 원데이터가 y1, y2 되고.. 언더바에 잇는게 y1 hat, y2 hat ..... "
      ],
      "id": "c19493ee-5e09-40b6-b15a-c6f6b5761d62"
    },
    {
      "cell_type": "markdown",
      "metadata": {},
      "source": [
        "`-` 시도: $(\\hat{w}_0,\\hat{w}_1)=(-5,10)$을 선택하여 선을 그려보고\n",
        "적당한지 판단.\n",
        "\n",
        "-   $\\hat{y}_i=-5 +10 x_i$ 와 같이 $y_i$의 값을 적합시키겠다는 의미\n",
        "\n",
        "`-` 벡터표현으로 주황색점선을 계산"
      ],
      "id": "a7536690-7c5a-431e-a76e-302ea6256e9a"
    },
    {
      "cell_type": "code",
      "execution_count": null,
      "metadata": {
        "outputId": "c963375e-939b-4720-e486-126688411f2b"
      },
      "outputs": [],
      "source": [
        "What= torch.tensor([-5.0, 10.0])\n",
        "What"
      ],
      "id": "riORNcclpspl"
    },
    {
      "cell_type": "code",
      "execution_count": null,
      "metadata": {
        "outputId": "35953fdc-1e3a-45ed-d6e3-51e036c5b436"
      },
      "outputs": [
        {
          "output_type": "display_data",
          "metadata": {},
          "data": {
            "image/png": "[encoded data removed]"
          }
        }
      ],
      "source": [
        "plt.plot(x,y,'o')\n",
        "plt.plot(x,X@What,'--')\n",
        "\n",
        "# 모델링: 데이터를 보고 아키텍처 설정,, "
      ],
      "id": "Vvyjf6tipnze"
    },
    {
      "cell_type": "markdown",
      "metadata": {},
      "source": [
        "## 파라메터를 학습하는 방법 (적당한 선으로 업데이트 하는 방법)\n",
        "\n",
        "`-` 이론적으로 추론 \\<- 회귀분석시간에 배운것\n",
        "\n",
        "`-` **컴퓨터의 반복계산을 이용하여 추론 (손실함수도입 + 경사하강법)**\n",
        "\\<- 우리가 오늘 파이토치로 실습해볼 내용.\n",
        "\n",
        "`-` 전략: 아래와 같은 3단계 전략을 취한다.\n",
        "\n",
        "-   stage1: 아무 점선이나 그어본다..\n",
        "-   stage2: stage1에서 그은 점선보다 더 좋은 점선으로 바꾼다.\n",
        "-   stage3: stage1 - 2 를 반복한다.\n",
        "\n",
        "### ***Stage1: 첫번째 점선 – 임의의 선을 일단 그어보자***\n",
        "\n",
        "`-` $\\hat{w}_0=-5, \\hat{w}_1 = 10$ 으로 설정하고 (왜? 그냥) 임의의 선을\n",
        "그어보자."
      ],
      "id": "8228a4cd-c4d8-47a5-bb85-f8c94ba6eb40"
    },
    {
      "cell_type": "code",
      "execution_count": null,
      "metadata": {
        "outputId": "580603b0-2d6a-46e2-e8ae-3f947133b6e1"
      },
      "outputs": [],
      "source": [
        "What= torch.tensor([-5.0, 10.0], requires_grad=True)\n",
        "What # 나중에 미분하기 위해서 requires_grad 필요한 옵션\n",
        "\n",
        "# 뒤에 꼬리표가 붙어있음! 따라다녀,, \n",
        "\n",
        "#텐서플로우 패키지에서 tf.variable이랑 tf. 어ㅓㅉ고 랑 선언하는데 tf.variable로 설정한거"
      ],
      "id": "rdj-nvBjs0Mn"
    },
    {
      "cell_type": "code",
      "execution_count": null,
      "metadata": {
        "outputId": "63018899-0201-4708-8ba3-da60a8dbe7e4"
      },
      "outputs": [],
      "source": [
        "What + 1\n",
        "# 뒤에 grad_fn 어쩌고가 따라오지만 신경쓰지 않아도 된당 ,, 벡터처럼 계산도 가능해!!\n",
        "# 꼬리표를 빼고싶을땐...... \n",
        "What.detach()\n",
        "What.data"
      ],
      "id": "SICVlHwVtURf"
    },
    {
      "cell_type": "markdown",
      "metadata": {},
      "source": [
        "-   처음에는 \\${}=\n",
        "\n",
        "    =\n",
        "\n",
        "    \\$ 를 대입해서 주황색 점선을 적당히 그려보자는 의미\n",
        "\n",
        "-   끝에 requires_grad=True는 나중에 미분을 위한 것\n",
        "\n",
        "그려보자!\n",
        "\n",
        "### ***Stage2: 첫번째 수정 – 최초의 점선에 대한 ‘적당한 정도’를 판단하고 더 ’적당한’ 점선으로 업데이트 한다.***\n",
        "\n",
        "`-` ’적당한 정도’를 판단하기 위한 장치: loss function 도입!\n",
        "\n",
        "$loss=\\sum_{i=1}^{n}(y_i-\\hat{y}_i)^2=\\sum_{i=1}^{n}(y_i-(\\hat{w}_0+\\hat{w}_1x_i))^2$\n",
        "\n",
        "$=({\\bf y}-{\\bf\\hat{y}})^\\top({\\bf y}-{\\bf\\hat{y}})=({\\bf y}-{\\bf X}{\\bf \\hat{W}})^\\top({\\bf y}-{\\bf X}{\\bf \\hat{W}})$\n",
        "\n",
        "`-` loss 함수의 특징 - $y_i \\approx \\hat{y}_i$ 일수록 loss값이 작다. -\n",
        "$y_i \\approx \\hat{y}_i$ 이 되도록 $(\\hat{w}_0,\\hat{w}_1)$을 잘 찍으면\n",
        "loss값이 작다. - (중요) 주황색 점선이 ‘적당할 수록’ loss값이 작다."
      ],
      "id": "3843fc61-98cf-489c-bf0d-a12cea13fcf4"
    },
    {
      "cell_type": "code",
      "execution_count": null,
      "metadata": {},
      "outputs": [],
      "source": [
        "# y와 yhat의 값이 비슷하면 loss값이 0에 가까워진다."
      ],
      "id": "DvkGla6hugCo"
    },
    {
      "cell_type": "code",
      "execution_count": null,
      "metadata": {
        "outputId": "f07011e8-95c2-4726-a6b0-f28570ab6734"
      },
      "outputs": [],
      "source": [
        "loss=torch.sum((y-X@What)**2) #이 값이 주황색 점선에 대한 loss!!!\n",
        "loss"
      ],
      "id": "N1SiIQ38vt6m"
    },
    {
      "cell_type": "markdown",
      "metadata": {},
      "source": [
        "`-` 우리의 목표: 이 loss(=8587.6875)을 더 줄이자. - 궁극적으로는 아예\n",
        "모든 조합 $(\\hat{w}_0,\\hat{w}_1)$에 대하여 가장 작은 loss를 찾으면\n",
        "좋겠다. (stage2에서 할일은 아님)\n",
        "\n",
        "`-` 문제의 치환: 생각해보니까 우리의 문제는 아래와 같이 수학적으로\n",
        "단순화 되었다. - 적당해보이는 주황색 선을 찾자 $\\to$ $loss(w_0,w_1)$를\n",
        "최소로하는 $(w_0,w_1)$의 값을 찾자.\n",
        "\n",
        "`-` 수정된 목표: $loss(w_0,w_1)$를 최소로 하는 $(w_0,w_1)$을 구하라. -\n",
        "단순한 수학문제가 되었다. 마치 $loss(w)=w^2-2w+3$ 을 최소화하는 $w$를\n",
        "찾으라는 것과 같음. - 즉 “적당한 선으로 업데이트 하라 = 파라메터를 학습\n",
        "하라 = 손실함수를 최소화 하라”"
      ],
      "id": "7b77486b-f15f-4f0e-86c2-3b32b78716ce"
    },
    {
      "cell_type": "code",
      "execution_count": null,
      "metadata": {},
      "outputs": [],
      "source": [
        "# 그 function을 minimize하는 정의역의 세트를 찾으면 된다. = 적당한 선으로 업데이트 하라= ...="
      ],
      "id": "w2MJVSo-xKKO"
    },
    {
      "cell_type": "markdown",
      "metadata": {},
      "source": [
        "`-` 우리의 무기: 경사하강법, 벡터미분\n",
        "\n",
        "------------------------------------------------------------------------\n",
        "\n",
        "##### ***Stage2를 위한 경사하강법 복습***\n",
        "\n",
        "**경사하강법 아이디어 (1차원)**\n",
        "\n",
        "(step 1) 임의의 점을 찍는다.\n",
        "\n",
        "(step 2) 그 점에서 순간기울기를 구한다. (접선) \\<– 미분\n",
        "\n",
        "(step 3) 순간기울기(=미분계수)의 부호를 살펴보고 부호와 반대방향으로\n",
        "움직인다.\n",
        "\n",
        "(팁) 기울기의 절대값 크기와 비례하여 보폭(=움직이는 정도)을 조절한다."
      ],
      "id": "5c4cccda-2eaa-46d7-9e7f-f051feb246a6"
    },
    {
      "cell_type": "code",
      "execution_count": null,
      "metadata": {},
      "outputs": [],
      "source": [
        "# 접선의 기울기가 만약 -4 라는 음수가 나오면 양수값으로 가면 된다.. \n",
        "# 미분계수의 절대값이 작아지는 정도로.. 보폭 조절!!"
      ],
      "id": "-VokIebkyAft"
    },
    {
      "cell_type": "markdown",
      "metadata": {},
      "source": [
        "**경사하강법 아이디어 (2차원)**\n",
        "\n",
        "(step 1) 임의의 점을 찍는다.\n",
        "\n",
        "(step 2) 그 점에서 순간기울기를 구한다. (접평면) \\<– 편미분\n",
        "\n",
        "(step 3) 순간기울기(=미분계수)의 부호를 살펴보고 부호와 반대방향으로\n",
        "각각 움직인다.\n",
        "\n",
        "(팁) 기울기의 절대값 크기와 비례하여 보폭(=움직이는 정도)을 각각\n",
        "조절한다."
      ],
      "id": "28abcde9-b601-4210-bd3c-cfa62b1f6447"
    },
    {
      "cell_type": "code",
      "execution_count": null,
      "metadata": {},
      "outputs": [],
      "source": [
        "# 왼쪽으로 갈래? 오른쪽으로 갈래?\n",
        "# 위로 갈래? 아래로 갈래? ->점에서 한쪽방향을 고정되어있다 생각하고 왼오, 또는 위아래로만 -> 편미분으로 가넝!!\n",
        "# 2차원, 3차원,, 원리는 결국 1차원과 똑같당!"
      ],
      "id": "H6xWCN_wzdjG"
    },
    {
      "cell_type": "markdown",
      "metadata": {},
      "source": [
        "**loss를 줄이도록 ${\\bf W}$를 개선하는 방법**\n",
        "\n",
        "`-` \\$수정값 원래값 - 기울어진크기(=미분계수) \\$\n",
        "\n",
        "-   여기에서 $\\alpha$는 전체적인 보폭의 크기를 결정한다. 즉 $\\alpha$값이\n",
        "    클수록 한번의 update에 움직이는 양이 크다."
      ],
      "id": "b83c7066-d097-4ccd-9a62-2befc399c3fe"
    },
    {
      "cell_type": "code",
      "execution_count": null,
      "metadata": {},
      "outputs": [],
      "source": [
        "# 반대방향으로 가야하니까 - 를 붙인다. \n",
        "# a 알파값은 .. 만약 미분계수가 -8이 나왔엉. 근데 그렇다고 8곱해버리면 너무 크니까 0.8 이든 0.08이든.. 그런 알파값을 곱해줘야해!!\n",
        "\n",
        "# a 값은 양수여야함!!! 음수면 방향이 바꾸기 때문에 a는 정답이 없어. 0.0001 이렇게 걍 맞춰가면 뎀.."
      ],
      "id": "BN98YSdC0ADG"
    },
    {
      "cell_type": "markdown",
      "metadata": {},
      "source": [
        "`-`\n",
        "${\\bf W} \\leftarrow {\\bf W} - \\alpha \\times \\frac{\\partial}{\\partial {\\bf W}}loss(w_0,w_1)$\n",
        "\n",
        "-   마이너스의 의미: 기울기의 부호를 보고 반대방향으로 움직여라.\n",
        "\n",
        "-   $\\frac{\\partial}{\\partial {\\bf W}}loss(w_0,w_1):$ 기울기의 절대값\n",
        "    크기와 비례하여 움직이는 정도를 조정하라.\n",
        "\n",
        "-   $\\alpha$의 의미: 전체적인 보폭의 속도를 조절, $\\alpha$가 크면\n",
        "    전체적으로 빠르게 움직인다. 다리의 길이로 비유할 수 있다.\n",
        "\n",
        "------------------------------------------------------------------------"
      ],
      "id": "32493bfc-a6c5-45c8-85d0-3b9106ff020d"
    },
    {
      "cell_type": "code",
      "execution_count": null,
      "metadata": {
        "outputId": "8a283051-84ae-4f89-9fc7-7bee025b424f"
      },
      "outputs": [],
      "source": [
        "loss"
      ],
      "id": "CzbIPA082UlJ"
    },
    {
      "cell_type": "markdown",
      "metadata": {},
      "source": [
        "`-` 우리의 목표: loss=8587.6875 인데, 이걸 줄이는 것이 목표라고 했었음.\n",
        "이것을 줄이는 방법이 경사하강법이다.\n",
        "\n",
        "`-` 경사하강법으로 loss를 줄이기 위해서는\n",
        "$\\frac{\\partial}{\\partial {\\bf W}}loss(w_0,w_1)$의 계산이 필요한데, 이를\n",
        "위해서 벡터미분이 필요하다. (`loss.backward()`로 하면된다)"
      ],
      "id": "402c5f76-f9e6-4d1b-a13c-63f80c213145"
    },
    {
      "cell_type": "code",
      "execution_count": null,
      "metadata": {},
      "outputs": [],
      "source": [
        "What.grad"
      ],
      "id": "eZpg4vcX2jKn"
    },
    {
      "cell_type": "code",
      "execution_count": null,
      "metadata": {},
      "outputs": [],
      "source": [
        "loss.backward()\n",
        "\n",
        "# 자기 혼자 미분하고 결과값을 안보여죵  \n",
        "# 뭘로 미분하라는거야? ->꼬리표 추적... What까지 가서 얘를 미분하라는 거구나 하고 미분해줌"
      ],
      "id": "g8OstYM52eAO"
    },
    {
      "cell_type": "code",
      "execution_count": null,
      "metadata": {
        "outputId": "4467333d-c9b0-4fda-9d9c-3d7e04c1ca11"
      },
      "outputs": [],
      "source": [
        "X@What #꼬리표가 있어!!!"
      ],
      "id": "Twpv4y6g2-kX"
    },
    {
      "cell_type": "code",
      "execution_count": null,
      "metadata": {
        "outputId": "f48ab4b6-1973-4f15-edc1-01fbdb7719ba"
      },
      "outputs": [],
      "source": [
        "y-X@What #꼬리표가 있는 걸로 파생된 모든 것들은 다 꼬리표가 있땅"
      ],
      "id": "zWU3tI-C3Euv"
    },
    {
      "cell_type": "markdown",
      "metadata": {},
      "source": [
        "-   loss.backward()의 의미: loss를 미분해라! 뭘로?\n",
        "    `requires_grad=True`를 가진 텐서로!!\n",
        "\n",
        "-   \n",
        "\n",
        "``` python\n",
        "loss=torch.sum((y-yhat)**2)= torch.sum((y-X@What)**2)\n",
        "# 이었고 \n",
        "What=torch.tensor([-5.0,10.0],requires_grad=True)\n",
        "# 이므로 결국 What으로 미분하라는 의미. \n",
        "# 미분한 식이 나오는 것이 아니고, \n",
        "# 그 식에 (-5.0, 10.0)을 대입한 계수값이 계산됨. \n",
        "```\n",
        "\n",
        "`-` 위에서 `loss.backward()`의 과정은 미분을 활용하여 $(-5,10)$에서의\n",
        "순간기울기를 구했다는 의미임."
      ],
      "id": "62eeb0b2-42a5-40bd-9ec3-593748f91502"
    },
    {
      "cell_type": "code",
      "execution_count": null,
      "metadata": {
        "outputId": "883bc6d6-921a-442c-ee90-9341a59ec396"
      },
      "outputs": [],
      "source": [
        "What.grad"
      ],
      "id": "mDcw_9Qr3vGf"
    },
    {
      "cell_type": "markdown",
      "metadata": {},
      "source": [
        "`-` (-5,10)에서 loss의 순간기울기 값은 `What.grad`로 확인가능하다.\n",
        "\n",
        "-   이것이 의미하는건 $(-5,10)$에서의 $loss(w_0,w_1)$의 순간기울기가\n",
        "    $(-1342.2523, 1188.9307)$ 이라는 의미\n",
        "\n",
        "`-` (확인1) `loss.backward()`가 미분을 잘 계산해 주는 것이 맞는가?\n",
        "손계산으로 검증하여 보자.\n",
        "\n",
        "-   $loss(w_0,w_1)=({\\bf y}-\\hat{\\bf y})^\\top ({\\bf y}-\\hat{\\bf y})=({\\bf y}-{\\bf XW})^\\top ({\\bf y}-{\\bf XW})$\n",
        "\n",
        "-   $\\frac{\\partial}{\\partial {\\bf W} }loss(w_0,w_1)=-2{\\bf X}^\\top {\\bf y}+2{\\bf X}^\\top {\\bf X W}$"
      ],
      "id": "baaccd07-36cb-442d-9fe0-ec5391dec881"
    },
    {
      "cell_type": "code",
      "execution_count": null,
      "metadata": {
        "outputId": "3f28d179-491e-412d-e189-d755896e7ef0"
      },
      "outputs": [],
      "source": [
        "- 2 * X.T @ y + 2 * X.T @ X @ What"
      ],
      "id": "5fc570ba-8916-4da6-9afa-967850cf40e7"
    },
    {
      "cell_type": "markdown",
      "metadata": {},
      "source": [
        "`-` (확인2) `loss.backward()`가 미분을 잘 계산해 주는 것이 맞는가?\n",
        "편미분을 간단히 구현하여 검증하여 보자.\n",
        "\n",
        "-   $\\frac{\\partial}{\\partial {\\bf W} } loss(w_0,w_1)=\\begin{bmatrix}\\frac{\\partial}{\\partial w_0} \\\\ \\frac{\\partial}{\\partial w_1} \\end{bmatrix}loss(w_0,w_1) =\\begin{bmatrix}\\frac{\\partial}{\\partial w_0}loss(w_0,w_1) \\\\ \\frac{\\partial}{\\partial w_1}loss(w_0,w_1) \\end{bmatrix}$\n",
        "\n",
        "-   $\\frac{\\partial}{\\partial w_0}loss(w_0,w_1) \\approx \\frac{loss(w_0+h,w_1)-loss(w_0,w_1)}{h}$\n",
        "\n",
        "-   $\\frac{\\partial}{\\partial w_1}loss(w_0,w_1) \\approx \\frac{loss(w_0,w_1+h)-loss(w_0,w_1)}{h}$"
      ],
      "id": "195b0117-9416-4250-9720-25287dc9fa86"
    },
    {
      "cell_type": "code",
      "execution_count": null,
      "metadata": {
        "outputId": "feba91d3-fa51-489d-ac65-0f5ee27687d5"
      },
      "outputs": [],
      "source": [
        "_lossfn = lambda w0,w1: torch.sum((y-w0-w1*x)**2)\n",
        "_lossfn(-5,10)"
      ],
      "id": "296812b1-17ff-4510-b66b-22a6f7ef208a"
    },
    {
      "cell_type": "code",
      "execution_count": null,
      "metadata": {
        "outputId": "986e0ad7-16b2-4992-b14d-4c3f7f7ab73c"
      },
      "outputs": [],
      "source": [
        "h=0.001\n",
        "(_lossfn(-5+h,10) - _lossfn(-5,10))/h,  (_lossfn(-5,10+h) - _lossfn(-5,10))/h"
      ],
      "id": "096f141f-6f4f-4297-b69d-66e8191b1f7d"
    },
    {
      "cell_type": "markdown",
      "metadata": {},
      "source": [
        "-   약간 오차가 있지만 얼추비슷 $\\to$ 잘 계산했다는 소리임\n",
        "\n",
        "`-` 수정전, 수정하는폭, 수정후의 값은 차례로 아래와 같다."
      ],
      "id": "11435356-2d4f-4d88-b8e5-e125a6caccce"
    },
    {
      "cell_type": "code",
      "execution_count": null,
      "metadata": {
        "outputId": "2c83582d-edf5-4cda-c5ea-d6b52ef60470"
      },
      "outputs": [],
      "source": [
        "What.data"
      ],
      "id": "uXKyBtAE6sm_"
    },
    {
      "cell_type": "code",
      "execution_count": null,
      "metadata": {
        "outputId": "a7bf22c3-b442-4a81-ed2f-ca54c2d2575f"
      },
      "outputs": [],
      "source": [
        "str(What.data) #문자열이 됨! "
      ],
      "id": "nxLMihQk6wl5"
    },
    {
      "cell_type": "code",
      "execution_count": null,
      "metadata": {
        "outputId": "23585073-2b00-4316-eaa8-f69bb794cc58"
      },
      "outputs": [
        {
          "output_type": "stream",
          "name": "stdout",
          "text": [
            "수정전: tensor([-5., 10.])\n",
            "수정하는폭: tensor([ 1.3423, -1.1889])\n",
            "수정후: tensor([-3.6577,  8.8111])\n",
            "*참값: (2.5,4)"
          ]
        }
      ],
      "source": [
        "alpha=0.001 \n",
        "print('수정전: ' + str(What.data)) # What 에서 미분꼬리표를 떼고 싶다면? What.data or What.detach()\n",
        "print('수정하는폭: ' +str(-alpha * What.grad)) #1341*0.001, 1190*0.001\n",
        "print('수정후: ' +str(What.data-alpha * What.grad))\n",
        "print('*참값: (2.5,4)' )"
      ],
      "id": "156a11ee-8dc6-4dc3-8c41-3eae3072fd62"
    },
    {
      "cell_type": "markdown",
      "metadata": {},
      "source": [
        "`-` Wbefore, Wafter 계산"
      ],
      "id": "0116cf5e-c9d6-4b54-baa1-42f0669e454b"
    },
    {
      "cell_type": "code",
      "execution_count": null,
      "metadata": {
        "outputId": "deba1469-1253-40c8-9431-69caa5d4254e"
      },
      "outputs": [],
      "source": [
        "Wbefore = What.data\n",
        "Wafter = What.data- alpha * What.grad\n",
        "Wbefore, Wafter"
      ],
      "id": "34d952cf-eb04-4293-9bde-7c6ed03ecb67"
    },
    {
      "cell_type": "markdown",
      "metadata": {},
      "source": [
        "`-` Wbefore, Wafter의 시각화"
      ],
      "id": "8cf2c2ac-d540-4b16-806e-913320e5afa6"
    },
    {
      "cell_type": "code",
      "execution_count": null,
      "metadata": {
        "outputId": "0e83f188-be3f-4932-aba3-4dd7d7ff6cc7"
      },
      "outputs": [
        {
          "output_type": "display_data",
          "metadata": {},
          "data": {
            "image/png": "[encoded data removed]"
          }
        }
      ],
      "source": [
        "plt.plot(x,y,'o')\n",
        "plt.plot(x,X@Wbefore,'--')  #주황색\n",
        "plt.plot(x,X@Wafter,'--')  #초록색"
      ],
      "id": "2fdc00eb-d70d-4ff8-b994-c9ca621e4705"
    },
    {
      "cell_type": "markdown",
      "metadata": {},
      "source": [
        "### ***Stage3: Learn (=estimate $\\bf\\hat{W})$***\n",
        "\n",
        "`-` 이 과정은 Stage1,2를 반복하면 된다."
      ],
      "id": "daabcc8a-92ee-4df2-8e48-10b51d91bcf2"
    },
    {
      "cell_type": "code",
      "execution_count": null,
      "metadata": {
        "outputId": "53febb94-63e6-41af-a91b-1dca6ffc6def"
      },
      "outputs": [],
      "source": [
        "What= torch.tensor([-5.0,10.0],requires_grad=True) \n",
        "What"
      ],
      "id": "221d01e8-6fdd-41da-ba46-08bab38d9edb"
    },
    {
      "cell_type": "code",
      "execution_count": null,
      "metadata": {},
      "outputs": [],
      "source": [
        "alpha=0.001 \n",
        "for epoc in range(30): ## 30번 반복합니다!! \n",
        "    yhat=X@What \n",
        "    loss=torch.sum((y-yhat)**2)\n",
        "    loss.backward() #미분.. what.grad로 미분이 된 것을 볼 수 있따->편미분계수값\n",
        "    What.data = What.data-alpha * What.grad #경사하강법~~\n",
        "    What.grad=None  # 파이토치 특징.. 미분된 grad값에 새 미분값이 안들어가있고.. 이전미분값에 그다음미분값이 더해져서 들어가기 때문에->defalut기 대문에 초기상태로 바꿔줘야햄...."
      ],
      "id": "27159dc9-d4e4-4c27-b3c0-0b1ae6795712"
    },
    {
      "cell_type": "code",
      "execution_count": null,
      "metadata": {
        "outputId": "6fec4835-5fb7-4593-bc27-7f13161cb300"
      },
      "outputs": [],
      "source": [
        "What"
      ],
      "id": "xR_ZYK3V8dXP"
    },
    {
      "cell_type": "markdown",
      "metadata": {},
      "source": [
        "-   원래 철자는 epoch이 맞아요\n",
        "\n",
        "`-` 반복결과는?! (최종적으로 구해지는 What의 값은?!) - 참고로 true"
      ],
      "id": "c28456c7-189b-4612-bfbc-a3fdc89e5925"
    },
    {
      "cell_type": "code",
      "execution_count": null,
      "metadata": {
        "outputId": "bcda7d79-f962-4bea-8a44-e3354f78b71b"
      },
      "outputs": [],
      "source": [
        "What.data ## true인 (2.5,4)와 상당히 비슷함"
      ],
      "id": "a267b78b-da6f-4ba2-98c1-e3c77ad53883"
    },
    {
      "cell_type": "markdown",
      "metadata": {},
      "source": [
        "`-` 반복결과를 시각화하면?"
      ],
      "id": "672f4abf-cacc-4b92-902a-3518076175ea"
    },
    {
      "cell_type": "code",
      "execution_count": null,
      "metadata": {
        "outputId": "9f1cc098-9a59-41e6-f39a-f8f661c386aa"
      },
      "outputs": [
        {
          "output_type": "display_data",
          "metadata": {},
          "data": {
            "image/png": "[encoded data removed]"
          }
        }
      ],
      "source": [
        "plt.plot(x,y,'o')\n",
        "plt.plot(x,X@What.data,'--') #그림을 그리기위해서 꼬리표를 떼준당.."
      ],
      "id": "0660bc18-8bf3-47b8-9928-a2835964c3d7"
    },
    {
      "cell_type": "markdown",
      "metadata": {},
      "source": [
        "## 파라메터의 학습과정 음미 (학습과정 모니터링)\n",
        "\n",
        "### 학습과정의 기록\n",
        "\n",
        "`-` 기록을 해보자."
      ],
      "id": "612be99a-b46b-49e9-aae4-1f20b24dbf36"
    },
    {
      "cell_type": "code",
      "execution_count": null,
      "metadata": {},
      "outputs": [],
      "source": [
        "loss_history = [] # 기록하고 싶은것 1  .\n",
        "yhat_history = [] # 기록하고 싶은것 2  yhat이 어떻게 변하는지\n",
        "What_history = [] # 기록하고 싶은것 3 "
      ],
      "id": "0e64cec9-a352-43bd-9625-c549700b1296"
    },
    {
      "cell_type": "code",
      "execution_count": null,
      "metadata": {},
      "outputs": [],
      "source": [
        "#loss_history #처음엔 비어있지만.. 값을 점점 넣고 싶어!!!\n"
      ],
      "id": "Voy0dSIv_alw"
    },
    {
      "cell_type": "code",
      "execution_count": null,
      "metadata": {},
      "outputs": [],
      "source": [
        "#loss_history.append(loss)\n",
        "#loss_history"
      ],
      "id": "NMsQpNcz_nSX"
    },
    {
      "cell_type": "code",
      "execution_count": null,
      "metadata": {},
      "outputs": [],
      "source": [
        "#loss.item()"
      ],
      "id": "3K8lO7GP_vxP"
    },
    {
      "cell_type": "code",
      "execution_count": null,
      "metadata": {},
      "outputs": [],
      "source": [
        "#loss_history.append(loss.item())\n",
        "#loss_history # 텐서를 리스트로 바꿔줘서 넣어주기.."
      ],
      "id": "mVzwLJwO_1Af"
    },
    {
      "cell_type": "code",
      "execution_count": null,
      "metadata": {},
      "outputs": [],
      "source": [
        "What= torch.tensor([-5.0,10.0],requires_grad=True)\n",
        "alpha=0.001 \n",
        "for epoc in range(30): \n",
        "    yhat=X@What ; yhat_history.append(yhat.data.tolist())  #세미콜론만 주석처리하면.. 위랑 똑같은 코드..\n",
        "    loss=torch.sum((y-yhat)**2); loss_history.append(loss.item())\n",
        "    loss.backward() \n",
        "    What.data = What.data-alpha * What.grad; What_history.append(What.data.tolist())\n",
        "    What.grad=None"
      ],
      "id": "10c068e3-8cf1-497d-9b63-48aac60bc2f5"
    },
    {
      "cell_type": "code",
      "execution_count": null,
      "metadata": {
        "outputId": "84255ee9-7a4f-4da5-c925-42d1102d24f9"
      },
      "outputs": [],
      "source": [
        "loss_history"
      ],
      "id": "_ch3SN6WAMQH"
    },
    {
      "cell_type": "markdown",
      "metadata": {},
      "source": [
        "`-` $\\hat{y}$ 관찰 (epoch=3, epoch=10, epoch=15)"
      ],
      "id": "0bfe8fba-763b-4bac-be34-9eb6f64bee2f"
    },
    {
      "cell_type": "code",
      "execution_count": null,
      "metadata": {
        "outputId": "0deaaf76-8d4f-4078-c65a-98908e00f88a"
      },
      "outputs": [],
      "source": [
        "yhat_history"
      ],
      "id": "Cu0-I5y3Akfn"
    },
    {
      "cell_type": "code",
      "execution_count": null,
      "metadata": {
        "outputId": "0be441e0-1797-402e-b491-048a90bb623c"
      },
      "outputs": [],
      "source": [
        "len(yhat_history)"
      ],
      "id": "d1wSVk4ZAno3"
    },
    {
      "cell_type": "code",
      "execution_count": null,
      "metadata": {
        "outputId": "33339053-3a7f-4a10-88d2-b9fbf4c1a81c"
      },
      "outputs": [],
      "source": [
        "len(yhat_history[0]) #0에 100개... [1]에 100개.. "
      ],
      "id": "azdWvzgRA043"
    },
    {
      "cell_type": "code",
      "execution_count": null,
      "metadata": {
        "outputId": "3852b59e-2f53-4027-a9e3-b08f0885ef14"
      },
      "outputs": [
        {
          "output_type": "display_data",
          "metadata": {},
          "data": {
            "image/png": "[encoded data removed]"
          }
        }
      ],
      "source": [
        "plt.plot(x,y,'o')\n",
        "plt.plot(x,yhat_history[2],'--')"
      ],
      "id": "deb29e19-b74d-4adf-9883-4c2606517b14"
    },
    {
      "cell_type": "code",
      "execution_count": null,
      "metadata": {
        "outputId": "db909d42-8a55-45c1-dca8-16956d2d4acb"
      },
      "outputs": [
        {
          "output_type": "display_data",
          "metadata": {},
          "data": {
            "image/png": "[encoded data removed]"
          }
        }
      ],
      "source": [
        "plt.plot(x,y,'o')\n",
        "plt.plot(x,yhat_history[9],'--')"
      ],
      "id": "3914a43c-4a09-4dd3-8dd4-14fb4b6e8cb9"
    },
    {
      "cell_type": "code",
      "execution_count": null,
      "metadata": {
        "outputId": "5055c146-6dc6-4cd6-bcdd-11c8d7c01aa1"
      },
      "outputs": [
        {
          "output_type": "display_data",
          "metadata": {},
          "data": {
            "image/png": "[encoded data removed]"
          }
        }
      ],
      "source": [
        "plt.plot(x,y,'o')\n",
        "plt.plot(x,yhat_history[14],'--')"
      ],
      "id": "854f2897-d4fb-490d-b43b-e827b5e8e4f8"
    },
    {
      "cell_type": "markdown",
      "metadata": {},
      "source": [
        "`-` $\\hat{\\bf W}$ 관찰"
      ],
      "id": "ded1323d-cda3-4132-8a68-9b5009a63492"
    },
    {
      "cell_type": "code",
      "execution_count": null,
      "metadata": {
        "outputId": "1ae932f2-f28e-4638-a5ad-f375d2fc47c4"
      },
      "outputs": [],
      "source": [
        "What_history"
      ],
      "id": "dce103a6-0321-4a25-9c07-f41a55590772"
    },
    {
      "cell_type": "markdown",
      "metadata": {},
      "source": [
        "`-` loss 관찰"
      ],
      "id": "34109132-5c78-4b51-bcef-f88cd8e12d28"
    },
    {
      "cell_type": "code",
      "execution_count": null,
      "metadata": {
        "outputId": "c7ab36c2-fc63-46a6-e422-358430e6094a"
      },
      "outputs": [],
      "source": [
        "loss_history"
      ],
      "id": "kzEemZGFBFbn"
    },
    {
      "cell_type": "code",
      "execution_count": null,
      "metadata": {
        "outputId": "6b0550fb-2e54-4445-d485-f97a35c188bd"
      },
      "outputs": [
        {
          "output_type": "display_data",
          "metadata": {},
          "data": {
            "image/png": "[encoded data removed]"
          }
        }
      ],
      "source": [
        "plt.plot(loss_history)"
      ],
      "id": "c2a7c752-c3b2-46e9-9398-67828caea763"
    },
    {
      "cell_type": "markdown",
      "metadata": {},
      "source": [
        "### 학습과정을 animation으로 시각화"
      ],
      "id": "77d73b4b-ba33-4aca-8e81-731dfb5f7c58"
    },
    {
      "cell_type": "code",
      "execution_count": null,
      "metadata": {},
      "outputs": [],
      "source": [
        "from matplotlib import animation"
      ],
      "id": "7ecb96f0-96ff-4d73-af40-17c9a11dff90"
    },
    {
      "cell_type": "code",
      "execution_count": null,
      "metadata": {},
      "outputs": [],
      "source": [
        "plt.rcParams['figure.figsize'] = (7.5,2.5)\n",
        "plt.rcParams[\"animation.html\"] = \"jshtml\" "
      ],
      "id": "f6d6e2d8-62aa-4097-ac2f-449eaae34d18"
    },
    {
      "cell_type": "markdown",
      "metadata": {},
      "source": [
        "`-` 왼쪽에는 $(x_i,y_i)$ and $(x_i,\\hat{y}_i)$ 을 그리고 오른쪽에는\n",
        "$loss(w_0,w_1)$ 을 그릴것임"
      ],
      "id": "e3d7f9af-1c88-48bb-84c8-773116171498"
    },
    {
      "cell_type": "code",
      "execution_count": null,
      "metadata": {
        "outputId": "efd8d0c0-cb2d-4041-8409-04dc0e58eac9"
      },
      "outputs": [
        {
          "output_type": "display_data",
          "metadata": {},
          "data": {
            "image/png": "[encoded data removed]"
          }
        }
      ],
      "source": [
        "fig = plt.figure()\n",
        "ax1 = fig.add_subplot(1, 2, 1)\n",
        "ax2 = fig.add_subplot(1, 2, 2, projection='3d')"
      ],
      "id": "155a4450-c74e-447d-bdc9-53073630ab8f"
    },
    {
      "cell_type": "code",
      "execution_count": null,
      "metadata": {},
      "outputs": [],
      "source": [
        "# 왼쪽 2d 오른쪽 3d 축만 생긴다"
      ],
      "id": "DuQzdJFfBb7Y"
    },
    {
      "cell_type": "markdown",
      "metadata": {},
      "source": [
        "`-` 왼쪽그림!"
      ],
      "id": "090e5682-5585-4dd8-8be1-2aa63ca1da0f"
    },
    {
      "cell_type": "code",
      "execution_count": null,
      "metadata": {},
      "outputs": [],
      "source": [
        "ax1.plot(x,y,'o')\n",
        "line, = ax1.plot(x,yhat_history[0]) # 나중에 애니메이션 할때 필요해요.."
      ],
      "id": "640a079a-baff-44ef-af29-5b3198a6b5c7"
    },
    {
      "cell_type": "code",
      "execution_count": null,
      "metadata": {
        "outputId": "0c3fcf8d-6bf4-4860-dd81-f54b4d43a362"
      },
      "outputs": [
        {
          "output_type": "display_data",
          "metadata": {},
          "data": {
            "image/png": "[encoded data removed]"
          }
        }
      ],
      "source": [
        "fig"
      ],
      "id": "796ba0ed-025f-45a2-9f50-3dc91d0a8232"
    },
    {
      "cell_type": "markdown",
      "metadata": {},
      "source": [
        "`-` 오른쪽 그림1: $loss(w_0,w_1)$"
      ],
      "id": "69ab3520-dae6-46e6-b745-961c5d9bad41"
    },
    {
      "cell_type": "code",
      "execution_count": null,
      "metadata": {},
      "outputs": [],
      "source": [
        "_w0 = np.arange(-6, 11, 0.5) ## 파란색곡면을 그리는 코드 (시작) \n",
        "_w1 = np.arange(-6, 11, 0.5)\n",
        "w1,w0 = np.meshgrid(_w1,_w0)\n",
        "lss=w0*0\n",
        "for i in range(len(_w0)):\n",
        "    for j in range(len(_w1)):\n",
        "        lss[i,j]=torch.sum((y-_w0[i]-_w1[j]*x)**2)\n",
        "ax2.plot_surface(w0, w1, lss, rstride=1, cstride=1, color='b',alpha=0.35) ## 파란색곡면을 그리는 코드(끝) \n",
        "ax2.azim = 40  ## 3d plot의 view 조절 \n",
        "ax2.dist = 8   ## 3d plot의 view 조절 \n",
        "ax2.elev = 5   ## 3d plot의 view 조절 "
      ],
      "id": "19ae02c6-1eca-4a21-aa32-2779123a18d7"
    },
    {
      "cell_type": "code",
      "execution_count": null,
      "metadata": {
        "outputId": "0563e1a1-94a2-4b6b-e86b-9b40fcae7dca"
      },
      "outputs": [
        {
          "output_type": "display_data",
          "metadata": {},
          "data": {
            "image/png": "[encoded data removed]"
          }
        }
      ],
      "source": [
        "fig"
      ],
      "id": "5574aea3-714e-4283-b7f1-4ab61ed065ed"
    },
    {
      "cell_type": "markdown",
      "metadata": {},
      "source": [
        "`-` 오른쪽 그림2: $(w_0,w_1)=(2.5,4)$ 와 $loss(2.5,4)$ 값 \\<- loss\n",
        "함수가 최소가 되는 값 (이거 진짜야? ㅋㅋ)"
      ],
      "id": "73654f27-5ece-459b-8642-32d431199583"
    },
    {
      "cell_type": "code",
      "execution_count": null,
      "metadata": {
        "outputId": "2f8ef838-d371-4d53-8173-ad5167ecd6f7"
      },
      "outputs": [],
      "source": [
        "ax2.scatter(2.5,4,torch.sum((y-2.5-4*x)**2),s=200,color='red',marker='*') ## 최소점을 표시하는 코드 (붉은색 별) "
      ],
      "id": "925c95dc-ec74-4fd9-b391-a9f4cdcae643"
    },
    {
      "cell_type": "code",
      "execution_count": null,
      "metadata": {
        "outputId": "558446ad-e049-4c11-ac2f-fdac8283280a"
      },
      "outputs": [
        {
          "output_type": "display_data",
          "metadata": {},
          "data": {
            "image/png": "[encoded data removed]"
          }
        }
      ],
      "source": [
        "fig"
      ],
      "id": "5a008534-7f1c-4dbb-bf2e-a5c0e8e8083f"
    },
    {
      "cell_type": "markdown",
      "metadata": {},
      "source": [
        "`-` 오른쪽 그림3: $(w_0,w_1)=(-3.66, 8.81)$ 와 $loss(-3.66,8.81)$ 값"
      ],
      "id": "54304d2a-f837-430e-9f27-2cb473ef4edf"
    },
    {
      "cell_type": "code",
      "execution_count": null,
      "metadata": {
        "outputId": "b61a5c40-f062-4ab4-cbe2-892f9385b85b"
      },
      "outputs": [],
      "source": [
        "What_history[0]"
      ],
      "id": "19c9de44-a858-4d79-abf5-7154cc7551a4"
    },
    {
      "cell_type": "code",
      "execution_count": null,
      "metadata": {
        "outputId": "6ab7906e-53ab-486d-f3b9-fa9afc56dc20"
      },
      "outputs": [],
      "source": [
        "ax2.scatter(What_history[0][0],What_history[0][1],loss_history[0],color='grey') ## 업데이트되는 What을 표시하는 점 (파란색 동그라미) \n",
        "#처음 값!! 오른쪽 그림에서 저 동그라미 회색점이 별표로 가야해~~ 경사하강법생각하자!"
      ],
      "id": "2738b15b-21c9-4b7c-9ae0-e4c4299a1aac"
    },
    {
      "cell_type": "code",
      "execution_count": null,
      "metadata": {
        "outputId": "642907db-2209-4e06-e21f-09d66dec0211"
      },
      "outputs": [
        {
          "output_type": "display_data",
          "metadata": {},
          "data": {
            "image/png": "[encoded data removed]"
          }
        }
      ],
      "source": [
        "fig"
      ],
      "id": "a1917873-229b-42de-a57f-3739a9d8c0c7"
    },
    {
      "cell_type": "markdown",
      "metadata": {},
      "source": [
        "`-` 애니메이션"
      ],
      "id": "e48960e0-4308-4f8a-ac45-ab8eec6bcea9"
    },
    {
      "cell_type": "code",
      "execution_count": null,
      "metadata": {
        "outputId": "cf010746-2046-4980-b4ec-e404d07f4c2a"
      },
      "outputs": [],
      "source": [
        "def animate(epoc):\n",
        "    line.set_ydata(yhat_history[epoc])\n",
        "    ax2.scatter(What_history[epoc][0],What_history[epoc][1],loss_history[epoc],color='grey')\n",
        "    return line\n",
        "\n",
        "ani = animation.FuncAnimation(fig, animate, frames=30)\n",
        "plt.close()\n",
        "ani"
      ],
      "id": "0e1ff11c-c517-4830-a8ad-6c495dad3872"
    },
    {
      "cell_type": "markdown",
      "metadata": {},
      "source": [
        "`-` 함수로 만들자.."
      ],
      "id": "e5fb0749-7e06-4c63-bb37-0b5c6c973241"
    },
    {
      "cell_type": "code",
      "execution_count": null,
      "metadata": {},
      "outputs": [],
      "source": [
        "def show_lrpr(data,history):\n",
        "    x,y = data \n",
        "    loss_history,yhat_history,What_history = history \n",
        "    \n",
        "    fig = plt.figure()\n",
        "    ax1 = fig.add_subplot(1, 2, 1)\n",
        "    ax2 = fig.add_subplot(1, 2, 2, projection='3d')\n",
        "\n",
        "    ## ax1: 왼쪽그림 \n",
        "    ax1.plot(x,y,'o')\n",
        "    line, = ax1.plot(x,yhat_history[0]) \n",
        "    ## ax2: 오른쪽그림 \n",
        "    _w0 = np.arange(-6, 11, 0.5) ## 파란색곡면을 그리는 코드 (시작) \n",
        "    _w1 = np.arange(-6, 11, 0.5)\n",
        "    w1,w0 = np.meshgrid(_w1,_w0)\n",
        "    lss=w0*0\n",
        "    for i in range(len(_w0)):\n",
        "        for j in range(len(_w1)):\n",
        "            lss[i,j]=torch.sum((y-_w0[i]-_w1[j]*x)**2)\n",
        "    ax2.plot_surface(w0, w1, lss, rstride=1, cstride=1, color='b',alpha=0.35) ## 파란색곡면을 그리는 코드(끝) \n",
        "    ax2.scatter(2.5,4,torch.sum((y-2.5-4*x)**2),s=200,color='red',marker='*') ## 최소점을 표시하는 코드 (붉은색 별) \n",
        "    ax2.scatter(What_history[0][0],What_history[0][1],loss_history[0],color='b') ## 업데이트되는 What을 표시하는 점 (파란색 동그라미) \n",
        "    ax2.azim = 40  ## 3d plot의 view 조절 \n",
        "    ax2.dist = 8   ## 3d plot의 view 조절 \n",
        "    ax2.elev = 5   ## 3d plot의 view 조절 \n",
        "\n",
        "    def animate(epoc):\n",
        "        line.set_ydata(yhat_history[epoc])\n",
        "        ax2.scatter(np.array(What_history)[epoc,0],np.array(What_history)[epoc,1],loss_history[epoc],color='grey')\n",
        "        return line\n",
        "\n",
        "    ani = animation.FuncAnimation(fig, animate, frames=30)\n",
        "    plt.close()\n",
        "    return ani"
      ],
      "id": "ef9ae2e2-e343-42f0-a7a4-36ecfd209c13"
    },
    {
      "cell_type": "code",
      "execution_count": null,
      "metadata": {
        "outputId": "6dc89395-6ca0-4a8d-99f1-ea763d959433"
      },
      "outputs": [],
      "source": [
        "show_lrpr([x,y],[loss_history,yhat_history,What_history])"
      ],
      "id": "42fa64ed-d771-4575-bbc0-41bb51a20adf"
    },
    {
      "cell_type": "markdown",
      "metadata": {},
      "source": [
        "## $\\alpha$에 대하여 ($\\alpha$는 학습률)"
      ],
      "id": "c3642755-462b-4915-9b4b-d59d1172a325"
    },
    {
      "cell_type": "code",
      "execution_count": null,
      "metadata": {},
      "outputs": [],
      "source": [
        "#머신러닝에서 a는 학습률..."
      ],
      "id": "IY8v4LHHDAuJ"
    },
    {
      "cell_type": "markdown",
      "metadata": {},
      "source": [
        "### (1) $\\alpha=0.0001$: $\\alpha$ 가 너무 작다면? $\\to$ 비효율적이다."
      ],
      "id": "95ce4eea-ab9c-4795-add7-16ce5317a08c"
    },
    {
      "cell_type": "code",
      "execution_count": null,
      "metadata": {},
      "outputs": [],
      "source": [
        "loss_history = [] # 기록하고 싶은것 1  \n",
        "yhat_history = [] # 기록하고 싶은것 2 \n",
        "What_history = [] # 기록하고 싶은것 3 "
      ],
      "id": "50fd0b4c-fcc2-4c15-8efd-8b48c1b5015c"
    },
    {
      "cell_type": "code",
      "execution_count": null,
      "metadata": {},
      "outputs": [],
      "source": [
        "What= torch.tensor([-5.0,10.0],requires_grad=True)\n",
        "alpha=0.0001 \n",
        "for epoc in range(30): \n",
        "    yhat=X@What ; yhat_history.append(yhat.data.tolist())\n",
        "    loss=torch.sum((y-yhat)**2); loss_history.append(loss.item())\n",
        "    loss.backward() \n",
        "    What.data = What.data-alpha * What.grad; What_history.append(What.data.tolist())\n",
        "    What.grad=None"
      ],
      "id": "16246bd0-3e92-496c-abf0-96b2e3c3a1ec"
    },
    {
      "cell_type": "code",
      "execution_count": null,
      "metadata": {
        "outputId": "d7dcd460-4dd9-4a3e-ac11-5a49b4af7ab0"
      },
      "outputs": [],
      "source": [
        "show_lrpr([x,y],[loss_history,yhat_history,What_history])"
      ],
      "id": "8872edf1-ac4d-4744-a6d0-39074a995a33"
    },
    {
      "cell_type": "markdown",
      "metadata": {},
      "source": [
        "### (2) $\\alpha=0.0083$: $\\alpha$가 너무 크다면? $\\to$ 다른의미에서 비효율적이다 + 위험하다.."
      ],
      "id": "2a00dd9a-0cca-4389-b78e-ad71049eea15"
    },
    {
      "cell_type": "code",
      "execution_count": null,
      "metadata": {},
      "outputs": [],
      "source": [
        "loss_history = [] # 기록하고 싶은것 1  \n",
        "yhat_history = [] # 기록하고 싶은것 2 \n",
        "What_history = [] # 기록하고 싶은것 3 "
      ],
      "id": "3ec52de8-d84f-472f-9114-36f6ff3809a7"
    },
    {
      "cell_type": "code",
      "execution_count": null,
      "metadata": {},
      "outputs": [],
      "source": [
        "What= torch.tensor([-5.0,10.0],requires_grad=True)\n",
        "alpha=0.0083\n",
        "for epoc in range(30): \n",
        "    yhat=X@What ; yhat_history.append(yhat.data.tolist())\n",
        "    loss=torch.sum((y-yhat)**2); loss_history.append(loss.item())\n",
        "    loss.backward() \n",
        "    What.data = What.data-alpha * What.grad; What_history.append(What.data.tolist())\n",
        "    What.grad=None"
      ],
      "id": "bf78c115-ecf2-46a3-92fc-25531dde0f09"
    },
    {
      "cell_type": "code",
      "execution_count": null,
      "metadata": {
        "outputId": "c542f134-1006-4046-9c36-c05ecf6bd3cd"
      },
      "outputs": [],
      "source": [
        "show_lrpr([x,y],[loss_history,yhat_history,What_history])"
      ],
      "id": "ef40e789-125a-494b-8343-ab763505194c"
    },
    {
      "cell_type": "markdown",
      "metadata": {},
      "source": [
        "### (3) $\\alpha=0.0085$"
      ],
      "id": "c599d576-6bb7-40b2-8e82-56f8cea8a23e"
    },
    {
      "cell_type": "code",
      "execution_count": null,
      "metadata": {},
      "outputs": [],
      "source": [
        "loss_history = [] # 기록하고 싶은것 1  \n",
        "yhat_history = [] # 기록하고 싶은것 2 \n",
        "What_history = [] # 기록하고 싶은것 3 "
      ],
      "id": "da4482e9-8899-4d66-81fa-ac0d1c0ab01a"
    },
    {
      "cell_type": "code",
      "execution_count": null,
      "metadata": {},
      "outputs": [],
      "source": [
        "What= torch.tensor([-5.0,10.0],requires_grad=True)\n",
        "alpha=0.0085\n",
        "for epoc in range(30): \n",
        "    yhat=X@What ; yhat_history.append(yhat.data.tolist())\n",
        "    loss=torch.sum((y-yhat)**2); loss_history.append(loss.item())\n",
        "    loss.backward() \n",
        "    What.data = What.data-alpha * What.grad.data; What_history.append(What.data.tolist())\n",
        "    What.grad=None"
      ],
      "id": "111f4d4c-4906-4759-a6f1-ea9090b9d7b4"
    },
    {
      "cell_type": "code",
      "execution_count": null,
      "metadata": {
        "outputId": "e461b36d-6775-4fcd-a9bb-740d5769e1cf"
      },
      "outputs": [],
      "source": [
        "show_lrpr([x,y],[loss_history,yhat_history,What_history])"
      ],
      "id": "dc8e9d88-a894-4d7e-a97b-ecdfd149d3ac"
    },
    {
      "cell_type": "markdown",
      "metadata": {},
      "source": [
        "### (4) $\\alpha=0.01$"
      ],
      "id": "6307c784-c3c2-4f19-b007-36d4eebaf32d"
    },
    {
      "cell_type": "code",
      "execution_count": null,
      "metadata": {},
      "outputs": [],
      "source": [
        "loss_history = [] # 기록하고 싶은것 1  \n",
        "yhat_history = [] # 기록하고 싶은것 2 \n",
        "What_history = [] # 기록하고 싶은것 3 "
      ],
      "id": "36bb6893-bf1a-47c7-a5f9-0c9933819586"
    },
    {
      "cell_type": "code",
      "execution_count": null,
      "metadata": {},
      "outputs": [],
      "source": [
        "What= torch.tensor([-5.0,10.0],requires_grad=True)\n",
        "alpha=0.01\n",
        "for epoc in range(30): \n",
        "    yhat=X@What ; yhat_history.append(yhat.data.tolist())\n",
        "    loss=torch.sum((y-yhat)**2); loss_history.append(loss.item())\n",
        "    loss.backward() \n",
        "    What.data = What.data-alpha * What.grad; What_history.append(What.data.tolist())\n",
        "    What.grad=None"
      ],
      "id": "dcb2f870-668d-49eb-88d6-59fcd9f71bbd"
    },
    {
      "cell_type": "code",
      "execution_count": null,
      "metadata": {
        "outputId": "5655693b-1697-4b9d-8e0b-99a314451b63"
      },
      "outputs": [],
      "source": [
        "show_lrpr([x,y],[loss_history,yhat_history,What_history])"
      ],
      "id": "81fe8f34-521c-4c20-9bc9-4297230047fa"
    },
    {
      "cell_type": "markdown",
      "metadata": {},
      "source": [
        "## [숙제](https://ieilms.jbnu.ac.kr/)\n",
        "\n",
        "`-` 학습률($\\alpha$)를 조정하며 실습해보고 스크린샷 제출"
      ],
      "id": "6b12e7dc-4506-4813-b79e-cc9e53e5d72b"
    },
    {
      "cell_type": "code",
      "execution_count": null,
      "metadata": {},
      "outputs": [],
      "source": [
        "# α=0.00912\n",
        "loss_history = [] \n",
        "yhat_history = [] \n",
        "What_history = [] "
      ],
      "id": "C53nuhpLEr31"
    },
    {
      "cell_type": "code",
      "execution_count": null,
      "metadata": {},
      "outputs": [],
      "source": [
        "What= torch.tensor([-5.0,10.0],requires_grad=True)\n",
        "alpha=0.00912\n",
        "for epoc in range(30): \n",
        "    yhat=X@What ; yhat_history.append(yhat.data.tolist())\n",
        "    loss=torch.sum((y-yhat)**2); loss_history.append(loss.item())\n",
        "    loss.backward() \n",
        "    What.data = What.data-alpha * What.grad; What_history.append(What.data.tolist())\n",
        "    What.grad=None"
      ],
      "id": "Dh4tEn0FE3p1"
    },
    {
      "cell_type": "code",
      "execution_count": null,
      "metadata": {
        "outputId": "06880a70-3b08-4bc8-8fdc-3b7f8808f12f"
      },
      "outputs": [],
      "source": [
        "show_lrpr([x,y],[loss_history,yhat_history,What_history])"
      ],
      "id": "zJ3yajjRE6ly"
    }
  ],
  "nbformat": 4,
  "nbformat_minor": 5,
  "metadata": {
    "colab": {
      "provenance": []
    },
    "kernelspec": {
      "name": "python3",
      "display_name": "Python 3",
      "language": "python"
    },
    "language_info": {
      "name": "python",
      "codemirror_mode": {
        "name": "ipython",
        "version": "3"
      },
      "file_extension": ".py",
      "mimetype": "text/x-python",
      "nbconvert_exporter": "python",
      "pygments_lexer": "ipython3",
      "version": "3.7.16"
    }
  }
}