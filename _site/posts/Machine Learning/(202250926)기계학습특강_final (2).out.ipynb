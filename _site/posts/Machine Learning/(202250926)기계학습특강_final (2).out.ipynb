{
  "cells": [
    {
      "cell_type": "markdown",
      "metadata": {},
      "source": [
        "# 기계학습 final\n",
        "\n",
        "김보람  \n",
        "2022-12-14\n",
        "\n",
        "### 기계학습특강 기말고사"
      ],
      "id": "f7c720ee-c49d-4ba4-b772-2278b6742b68"
    },
    {
      "cell_type": "code",
      "execution_count": null,
      "metadata": {},
      "outputs": [],
      "source": [
        "import torch \n",
        "from fastai.text.all import *"
      ],
      "id": "cell-2"
    },
    {
      "cell_type": "code",
      "execution_count": null,
      "metadata": {
        "outputId": "94b40470-e94b-4339-fc4e-104345d096cb"
      },
      "outputs": [],
      "source": [
        "df = pd.read_csv('/content/Corona_NLP_train.csv',encoding=\"ISO-8859-1\")\n",
        "df"
      ],
      "id": "cell-3"
    },
    {
      "cell_type": "code",
      "execution_count": null,
      "metadata": {
        "outputId": "240c50a8-6049-49ca-ad4d-ffbb2a158307"
      },
      "outputs": [],
      "source": [
        "# 텍스트 분석\n",
        "# 1단계 : TextDataLoaders\n",
        "# 2단계 : language_model_learner()\n",
        "# 3단계 : lrnr.fit()\n",
        "# 4단계 : lrnr.predict()\n",
        "\n",
        "df = pd.read_csv('Corona_NLP_train.csv',encoding=\"ISO-8859-1\")\n",
        "df"
      ],
      "id": "cell-4"
    },
    {
      "cell_type": "code",
      "execution_count": null,
      "metadata": {},
      "outputs": [],
      "source": [
        "TextDataLoaders?"
      ],
      "id": "cell-5"
    },
    {
      "cell_type": "code",
      "execution_count": null,
      "metadata": {
        "outputId": "1803b2e3-3475-46c7-a470-f7656a7e142f"
      },
      "outputs": [],
      "source": [
        "dls = TextDataLoaders.from_df(df,text_col='OriginalTweet',is_lm=True, seq_len=64)"
      ],
      "id": "cell-6"
    },
    {
      "cell_type": "code",
      "execution_count": null,
      "metadata": {
        "outputId": "cf93cde2-1194-4884-d6ac-4a53766d2326"
      },
      "outputs": [],
      "source": [
        "dls.show_batch()"
      ],
      "id": "cell-7"
    },
    {
      "cell_type": "code",
      "execution_count": null,
      "metadata": {},
      "outputs": [],
      "source": [
        "lrnr = language_model_learner(dls,AWD_LSTM,metrics=[accuracy,Perplexity()])"
      ],
      "id": "cell-8"
    },
    {
      "cell_type": "code",
      "execution_count": null,
      "metadata": {
        "outputId": "8400393a-3f5a-472d-a878-a4949bf529dc"
      },
      "outputs": [],
      "source": [
        "lrnr.fine_tune(3,1e-1) "
      ],
      "id": "cell-9"
    },
    {
      "cell_type": "code",
      "execution_count": null,
      "metadata": {
        "outputId": "d2cad82e-87a9-480a-a15c-b8cebe3b514e"
      },
      "outputs": [],
      "source": [
        "lrnr.predict('the price of',20) "
      ],
      "id": "cell-10"
    },
    {
      "cell_type": "markdown",
      "metadata": {},
      "source": [
        "# 2. COVID10 tweets -\\> 분류"
      ],
      "id": "9368fc60-c89c-4c6f-8843-4d5c4b5a13df"
    },
    {
      "cell_type": "code",
      "execution_count": null,
      "metadata": {
        "outputId": "0354f506-b199-4eb4-ae00-f2b8bc08415b"
      },
      "outputs": [],
      "source": [
        "df = pd.read_csv('Corona_NLP_train.csv',encoding=\"ISO-8859-1\")\n",
        "df"
      ],
      "id": "cell-13"
    },
    {
      "cell_type": "code",
      "execution_count": null,
      "metadata": {
        "outputId": "c59823af-6767-49e3-c5e3-4886f6c99a4f"
      },
      "outputs": [],
      "source": [
        "dls = TextDataLoaders.from_df(df,text_col='OriginalTweet', label_col='Sentiment', seq_len=64)\n",
        "dls.show_batch()"
      ],
      "id": "cell-14"
    },
    {
      "cell_type": "code",
      "execution_count": null,
      "metadata": {},
      "outputs": [],
      "source": [
        "lrnr = text_classifier_learner(dls,AWD_LSTM,metrics=accuracy)"
      ],
      "id": "cell-15"
    },
    {
      "cell_type": "code",
      "execution_count": null,
      "metadata": {
        "outputId": "ebda1b35-d51a-4c91-b6f5-05c63779d0d0"
      },
      "outputs": [],
      "source": [
        "lrnr.fine_tune(5, 1e-2)"
      ],
      "id": "cell-16"
    },
    {
      "cell_type": "code",
      "execution_count": null,
      "metadata": {
        "outputId": "52138c4c-cb7f-4937-c160-b520606a5885"
      },
      "outputs": [],
      "source": [
        "lrnr.predict(\"the government’s approach to the pendemic has been a complete disaster\") "
      ],
      "id": "cell-17"
    },
    {
      "cell_type": "code",
      "execution_count": null,
      "metadata": {
        "outputId": "d7ae8146-6cb9-4e04-8ba9-98af2772261c"
      },
      "outputs": [],
      "source": [
        "lrnr.predict(\"the new vaccines hold the promise of a quick return to economic growth\") "
      ],
      "id": "cell-18"
    },
    {
      "cell_type": "markdown",
      "metadata": {},
      "source": [
        "# 3. human numbers 5"
      ],
      "id": "25c1bd5a-e016-47e5-8f18-6e41140e7f5e"
    },
    {
      "cell_type": "code",
      "execution_count": null,
      "metadata": {},
      "outputs": [],
      "source": [
        "txt = (['one',',','two',',','three',',','four',',','five',',']*100)[:-1]\n",
        "mapping = {',':0, 'one':1, 'two':2, 'three':3, 'four':4, 'five':5} \n",
        "txt_x = txt[:-1]\n",
        "txt_y = txt[1:] "
      ],
      "id": "cell-21"
    },
    {
      "cell_type": "code",
      "execution_count": null,
      "metadata": {
        "outputId": "3d35f92a-7e45-440a-e0e8-df71069a1954"
      },
      "outputs": [],
      "source": [
        "txt_x[:5], txt_y[:5]"
      ],
      "id": "cell-22"
    },
    {
      "cell_type": "code",
      "execution_count": null,
      "metadata": {},
      "outputs": [],
      "source": [
        "def f(txt,mapping):\n",
        "    return [mapping[key] for key in txt] \n",
        "sig = torch.nn.Sigmoid()\n",
        "soft = torch.nn.Softmax(dim=1)\n",
        "tanh = torch.nn.Tanh()"
      ],
      "id": "cell-23"
    },
    {
      "cell_type": "code",
      "execution_count": null,
      "metadata": {},
      "outputs": [],
      "source": [
        "x = torch.nn.functional.one_hot(torch.tensor(f(txt_x,mapping))).float().to(\"cuda:0\")\n",
        "y = torch.nn.functional.one_hot(torch.tensor(f(txt_y,mapping))).float().to(\"cuda:0\")"
      ],
      "id": "cell-24"
    },
    {
      "cell_type": "code",
      "execution_count": null,
      "metadata": {},
      "outputs": [],
      "source": [
        " #torch.nn.RNNCell()을 이용하여 다음단어를 예측하는 신경망을 설계하고 학습하라."
      ],
      "id": "cell-25"
    },
    {
      "cell_type": "code",
      "execution_count": null,
      "metadata": {},
      "outputs": [],
      "source": [
        "torch.manual_seed(202250926)\n",
        "rnncell = torch.nn.RNNCell(6,8).to(\"cuda:0\")\n",
        "linr = torch.nn.Linear(8,6).to(\"cuda:0\")\n",
        "loss_fn = torch.nn.CrossEntropyLoss()\n",
        "optimizr = torch.optim.Adam(list(rnncell.parameters())+list(linr.parameters()),lr=0.1)"
      ],
      "id": "cell-26"
    },
    {
      "cell_type": "code",
      "execution_count": null,
      "metadata": {},
      "outputs": [],
      "source": [
        "for epoc in range(100):\n",
        "    ## 1\n",
        "    hidden = [] \n",
        "    ht = torch.zeros(8).to(\"cuda:0\")\n",
        "    for xt,yt in zip(x,y): \n",
        "        ht = rnncell(xt,ht) \n",
        "        hidden.append(ht) \n",
        "    hidden = torch.stack(hidden)\n",
        "    output = linr(hidden)\n",
        "    ## 2 \n",
        "    loss = loss_fn(output,y)\n",
        "    ## 3 \n",
        "    loss.backward()\n",
        "    ## 4 \n",
        "    optimizr.step()\n",
        "    optimizr.zero_grad()"
      ],
      "id": "cell-27"
    },
    {
      "cell_type": "code",
      "execution_count": null,
      "metadata": {
        "outputId": "0808939e-a09d-4cdc-8310-ccd1ffe1fcbf"
      },
      "outputs": [],
      "source": [
        "yhat = soft(output)\n",
        "yhat[:10].to(\"cpu\").detach().numpy().round(3)"
      ],
      "id": "cell-28"
    },
    {
      "cell_type": "code",
      "execution_count": null,
      "metadata": {
        "outputId": "c2b7d56c-3683-463f-fe4f-3f5b7829cac1"
      },
      "outputs": [
        {
          "output_type": "display_data",
          "metadata": {},
          "data": {
            "image/png": "[encoded data removed]"
          }
        }
      ],
      "source": [
        "plt.matshow(yhat.to(\"cpu\").data[:10],cmap='bwr',vmin=-1,vmax=1)\n",
        "plt.xticks(range(6),labels=[',','1','2','3','4','5']);"
      ],
      "id": "cell-29"
    },
    {
      "cell_type": "code",
      "execution_count": null,
      "metadata": {},
      "outputs": [],
      "source": [
        "# torch.nn.RNN()을 이용하여 다음단어를 예측하는 신경망을 설계하고 학습하라.\n",
        "rnn = torch.nn.RNN(6,8).to(\"cuda:0\")\n",
        "linr = torch.nn.Linear(8,6).to(\"cuda:0\")\n",
        "loss_fn = torch.nn.CrossEntropyLoss()\n",
        "optimizr = torch.optim.Adam(list(rnn.parameters())+list(linr.parameters()),lr=0.1)"
      ],
      "id": "cell-30"
    },
    {
      "cell_type": "code",
      "execution_count": null,
      "metadata": {
        "outputId": "fcb3376b-2efb-4b9f-d193-dc135d722f55"
      },
      "outputs": [
        {
          "output_type": "display_data",
          "metadata": {},
          "data": {
            "image/png": "[encoded data removed]"
          }
        }
      ],
      "source": [
        "for epoc in range(100):\n",
        "    ## 1\n",
        "    hidden, hT = rnn(x) \n",
        "    output = linr(hidden)\n",
        "    ## 2\n",
        "    loss = loss_fn(output,y)\n",
        "    ## 3\n",
        "    loss.backward()\n",
        "    ## 4 \n",
        "    optimizr.step()\n",
        "    optimizr.zero_grad()\n",
        "yhat=soft(output)    \n",
        "plt.matshow(yhat.to(\"cpu\").data[:10],cmap='bwr',vmin=-1,vmax=1)\n",
        "plt.xticks(range(6),labels=[',','1','2','3','4','5']);"
      ],
      "id": "cell-31"
    },
    {
      "cell_type": "code",
      "execution_count": null,
      "metadata": {},
      "outputs": [],
      "source": [
        "#  torch.nn.LSTMCell()을 이용하여 다음단어를 예측하는 신경망을 설계하고 학습하라.\n",
        "torch.manual_seed(202250926) \n",
        "lstmcell = torch.nn.LSTMCell(6,8).to(\"cuda:0\")\n",
        "linr = torch.nn.Linear(8,6).to(\"cuda:0\")\n",
        "loss_fn = torch.nn.CrossEntropyLoss()\n",
        "optimizr = torch.optim.Adam(list(lstmcell.parameters())+list(linr.parameters()),lr=0.1)"
      ],
      "id": "cell-32"
    },
    {
      "cell_type": "code",
      "execution_count": null,
      "metadata": {},
      "outputs": [],
      "source": [
        "for epoc in range(100):\n",
        "    ## 1\n",
        "    hidden = []\n",
        "    ht = torch.zeros(8).to(\"cuda:0\")\n",
        "    ct = torch.zeros(8).to(\"cuda:0\")\n",
        "    for xt,yt in zip(x,y): \n",
        "        ht,ct = lstmcell(xt,(ht,ct))\n",
        "        hidden.append(ht) \n",
        "    hidden = torch.stack(hidden)\n",
        "    output = linr(hidden)\n",
        "    ## 2 \n",
        "    loss = loss_fn(output,y)\n",
        "    ## 3 \n",
        "    loss.backward()\n",
        "    ## 4 \n",
        "    optimizr.step()\n",
        "    optimizr.zero_grad()"
      ],
      "id": "cell-33"
    },
    {
      "cell_type": "code",
      "execution_count": null,
      "metadata": {
        "outputId": "f409d4d8-cd16-4237-8974-d99ae97d5bb9"
      },
      "outputs": [],
      "source": [
        "yhat = soft(output)\n",
        "yhat[:10].to(\"cpu\").detach().numpy().round(3)"
      ],
      "id": "cell-34"
    },
    {
      "cell_type": "code",
      "execution_count": null,
      "metadata": {
        "outputId": "da29f082-9ed2-4625-e7df-d6f1f100b947"
      },
      "outputs": [
        {
          "output_type": "display_data",
          "metadata": {},
          "data": {
            "image/png": "[encoded data removed]"
          }
        }
      ],
      "source": [
        "plt.matshow(yhat.to(\"cpu\").data[:10],cmap='bwr',vmin=-1,vmax=1)\n",
        "plt.xticks(range(6),labels=[',','1','2','3','4','5']);"
      ],
      "id": "cell-35"
    },
    {
      "cell_type": "code",
      "execution_count": null,
      "metadata": {},
      "outputs": [],
      "source": [
        "# torch.nn.LSTM()을 이용하여 다음단어를 예측하는 신경망을 설계하고 학습하라.\n",
        "lstm = torch.nn.LSTM(6,8).to(\"cuda:0\")\n",
        "linr = torch.nn.Linear(8,6).to(\"cuda:0\")\n",
        "loss_fn = torch.nn.CrossEntropyLoss()\n",
        "optimizr = torch.optim.Adam(list(lstm.parameters())+list(linr.parameters()),lr=0.1)"
      ],
      "id": "cell-36"
    },
    {
      "cell_type": "code",
      "execution_count": null,
      "metadata": {
        "outputId": "f445f7bf-364d-4635-a095-571ccf55b0b2"
      },
      "outputs": [
        {
          "output_type": "display_data",
          "metadata": {},
          "data": {
            "image/png": "[encoded data removed]"
          }
        }
      ],
      "source": [
        "for epoc in range(100):\n",
        "    ## 1\n",
        "    hidden, (hT,cT) = lstm(x)\n",
        "    output = linr(hidden)\n",
        "    ## 2\n",
        "    loss = loss_fn(output,y)\n",
        "    ## 3\n",
        "    loss.backward()\n",
        "    ## 4 \n",
        "    optimizr.step()\n",
        "    optimizr.zero_grad()\n",
        "yhat=soft(output)    \n",
        "plt.matshow(yhat.to(\"cpu\").data[:10],cmap='bwr',vmin=-1,vmax=1)\n",
        "plt.xticks(range(6),labels=[',','1','2','3','4','5']);"
      ],
      "id": "cell-37"
    }
  ],
  "nbformat": 4,
  "nbformat_minor": 5,
  "metadata": {
    "accelerator": "GPU",
    "colab": {
      "provenance": []
    },
    "gpuClass": "standard",
    "kernelspec": {
      "name": "python3",
      "display_name": "Python 3",
      "language": "python"
    },
    "language_info": {
      "name": "python",
      "codemirror_mode": {
        "name": "ipython",
        "version": "3"
      },
      "file_extension": ".py",
      "mimetype": "text/x-python",
      "nbconvert_exporter": "python",
      "pygments_lexer": "ipython3",
      "version": "3.7.16"
    }
  }
}