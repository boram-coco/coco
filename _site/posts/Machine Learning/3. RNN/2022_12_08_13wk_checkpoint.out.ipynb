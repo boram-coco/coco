{
  "cells": [
    {
      "cell_type": "markdown",
      "metadata": {},
      "source": [
        "# 기계학습 (1201)\n",
        "\n",
        "김보람  \n",
        "2022-12-01\n",
        "\n",
        "> IMDB자료의 분석 (텍스트생성과 감성분류), 잡담\n",
        "\n",
        "# 강의영상\n",
        "\n",
        "> <https://youtube.com/playlist?list=PLQqh36zP38-yIBKPRzzI1I3WSormv3wed>\n",
        "\n",
        "# import"
      ],
      "id": "bcbfb0bc-0891-4d91-ab9d-d4735b2be542"
    },
    {
      "cell_type": "code",
      "execution_count": null,
      "metadata": {},
      "outputs": [],
      "source": [
        "import torch\n",
        "from fastai.text.all import *"
      ],
      "id": "9cfc0edd-4a3a-49a3-b601-67691cd8920a"
    },
    {
      "cell_type": "markdown",
      "metadata": {},
      "source": [
        "# IMDB 자료 $\\to$ 텍스트 생성\n",
        "\n",
        "`(1)` dls 생성"
      ],
      "id": "ac501a87-d4dd-4fcf-94e0-36c2a0da08bb"
    },
    {
      "cell_type": "code",
      "execution_count": null,
      "metadata": {},
      "outputs": [],
      "source": [
        "path = untar_data(URLs.IMDB)"
      ],
      "id": "91a1f3fc-8d53-4163-8d91-d420a3bbf777"
    },
    {
      "cell_type": "code",
      "execution_count": null,
      "metadata": {
        "outputId": "3277059e-8d8e-42e6-8f0a-81bbeb020a37"
      },
      "outputs": [],
      "source": [
        "files = get_text_files(path) \n",
        "files"
      ],
      "id": "dd6c689f-f6ac-4afe-a43e-106d74288794"
    },
    {
      "cell_type": "code",
      "execution_count": null,
      "metadata": {},
      "outputs": [],
      "source": [
        "dls = DataBlock(\n",
        "    blocks=TextBlock.from_folder(path,is_lm=True), \n",
        "    get_items=get_text_files, splitter=RandomSplitter(0.1)\n",
        ").dataloaders(path,seq_len=128) "
      ],
      "id": "addb1e26-9672-4b3d-b0d2-37bd054504f1"
    },
    {
      "cell_type": "code",
      "execution_count": null,
      "metadata": {
        "outputId": "4b6e8314-2346-4591-ca4e-877e475533c7"
      },
      "outputs": [],
      "source": [
        "dls.show_batch()"
      ],
      "id": "9a139794-1556-4c78-a01b-9406a7561c79"
    },
    {
      "cell_type": "markdown",
      "metadata": {},
      "source": [
        "`(2)` lrnr 오브젝트 생성"
      ],
      "id": "05257829-4334-49fe-b498-b777d040c66f"
    },
    {
      "cell_type": "code",
      "execution_count": null,
      "metadata": {},
      "outputs": [],
      "source": [
        "lrnr = language_model_learner(dls,AWD_LSTM,metrics=[accuracy,Perplexity()]).to_fp16()"
      ],
      "id": "34256a50-af7b-4157-a16a-3b855ef49f20"
    },
    {
      "cell_type": "markdown",
      "metadata": {},
      "source": [
        "-   `.to_fp16()`은 `torch.float16`으로 숫자들을 저장하겠다는 의미 (GPU의\n",
        "    메모리를 아낄 수 있음)\n",
        "\n",
        "`(3)` 학습"
      ],
      "id": "bc782c88-0b0a-4795-84e4-cd14c36bceba"
    },
    {
      "cell_type": "code",
      "execution_count": null,
      "metadata": {
        "outputId": "405d3d3b-ed76-477d-8f2b-27e792dcef1f"
      },
      "outputs": [],
      "source": [
        "lrnr.fine_tune(3) "
      ],
      "id": "34197959-a189-4b6d-88d7-b9f7032483c4"
    },
    {
      "cell_type": "markdown",
      "metadata": {},
      "source": [
        "-   perplexity: 낮을수록 좋음.\n",
        "\n",
        "`(4)` 예측"
      ],
      "id": "65da5434-0ee5-46f2-9f9f-32f77d366829"
    },
    {
      "cell_type": "code",
      "execution_count": null,
      "metadata": {
        "outputId": "678821ee-2fa9-4af5-9c89-b4b67f5241bf"
      },
      "outputs": [],
      "source": [
        "lrnr.predict('I liked this movie',40) "
      ],
      "id": "283801f3-d12a-49f5-ad67-5a64bd60237e"
    },
    {
      "cell_type": "code",
      "execution_count": null,
      "metadata": {
        "outputId": "24be8f4d-7fe4-471e-c86e-60e61bca34c9"
      },
      "outputs": [],
      "source": [
        "lrnr.predict('I hate this movie',40) "
      ],
      "id": "f473a5a8-b65c-4553-ba4b-9d3f8aebbbf8"
    },
    {
      "cell_type": "markdown",
      "metadata": {},
      "source": [
        "좋아하는 영화와 싫어하는 영화의 평이 다름.\n",
        "\n",
        "# IMDB 자료 $\\to$ 분류\n",
        "\n",
        "`(1)` dls 생성"
      ],
      "id": "5cce5256-3e0e-4821-89e9-9c23fbdcf364"
    },
    {
      "cell_type": "code",
      "execution_count": null,
      "metadata": {
        "outputId": "1a2b3740-fd8c-4416-d22a-8d29328e9123"
      },
      "outputs": [],
      "source": [
        "path = untar_data(URLs.IMDB)\n",
        "path"
      ],
      "id": "f90cbe36-3155-4868-b505-a83e9f78b10b"
    },
    {
      "cell_type": "code",
      "execution_count": null,
      "metadata": {
        "outputId": "a39d301b-ae9d-4629-e834-ef807aa02f8b"
      },
      "outputs": [
        {
          "output_type": "stream",
          "name": "stdout",
          "text": [
            "README  imdb.vocab  test  tmp_clas  tmp_lm  train  unsup"
          ]
        }
      ],
      "source": [
        "!ls '/home/cgb4/.fastai/data/imdb'"
      ],
      "id": "12bf44ba-040f-44e2-96a8-d71e29998230"
    },
    {
      "cell_type": "code",
      "execution_count": null,
      "metadata": {
        "outputId": "8772d5af-d5f5-497f-acc7-625a91e68941"
      },
      "outputs": [],
      "source": [
        "dls = TextDataLoaders.from_folder(path, valid='test')\n",
        "dls.show_batch()"
      ],
      "id": "34252ee8-588a-4ec7-bf3f-537f43deb6eb"
    },
    {
      "cell_type": "markdown",
      "metadata": {},
      "source": [
        "-   X는 text, y는 긍정/부정\n",
        "\n",
        "`(2)` lrnr 오브젝트 생성"
      ],
      "id": "fa1a6250-3539-40d6-8105-ac954f504db0"
    },
    {
      "cell_type": "code",
      "execution_count": null,
      "metadata": {},
      "outputs": [],
      "source": [
        "lrnr = text_classifier_learner(dls,AWD_LSTM,metrics=accuracy).to_fp16()"
      ],
      "id": "e679b8f1-406d-44b4-8329-2087bbf482e4"
    },
    {
      "cell_type": "markdown",
      "metadata": {},
      "source": [
        "`(3)` 학습"
      ],
      "id": "a216568a-3bda-4ecf-a042-7725de537c39"
    },
    {
      "cell_type": "code",
      "execution_count": null,
      "metadata": {
        "outputId": "0e213bf0-ba3d-4fee-aeed-fbe91f726fb5"
      },
      "outputs": [],
      "source": [
        "lrnr.fine_tune(1)"
      ],
      "id": "7075a4c2-6288-4f25-88f0-53306560cd3d"
    },
    {
      "cell_type": "markdown",
      "metadata": {},
      "source": [
        "`(4)` 예측"
      ],
      "id": "30b73143-5e60-4059-a872-2176ae3cdea6"
    },
    {
      "cell_type": "code",
      "execution_count": null,
      "metadata": {
        "outputId": "566320b5-16ab-41f8-ece5-fbc7fab5086a"
      },
      "outputs": [],
      "source": [
        "lrnr.predict(\"this film shows incredibly bad writing and is a complete disaster\") "
      ],
      "id": "9341302b-0bf7-4fc3-b9ee-1032ea81a5f5"
    },
    {
      "cell_type": "code",
      "execution_count": null,
      "metadata": {
        "outputId": "0672a311-ebff-423f-cc2c-720b1acd9632"
      },
      "outputs": [],
      "source": [
        "lrnr.predict(\"this film shows incredible talent and is a complete triumph\") "
      ],
      "id": "6149d13d-f781-427a-a99a-347af5ee1aef"
    },
    {
      "cell_type": "markdown",
      "metadata": {},
      "source": [
        "# 마무리하며\n",
        "\n",
        "## 잡담1: 순환신경망, 텍스트마이닝, 시계열분석\n",
        "\n",
        "`-` 순환신경망은 순서가 있는 (말이 좀 애매하지만 아무튼 이렇게 많이\n",
        "표현해요) 자료를 분석할때 사용할 수 있다. 순서가 있는 자료는 대표적으로\n",
        "시계열자료과 텍스트자료가 있다.\n",
        "\n",
        "`-` 그래서 언뜻 생각하면 텍스트마이닝이나 시계열분석과 내용이 비슷할 것\n",
        "같지만 사실 그렇지 않다.\n",
        "\n",
        "-   텍스트마이닝의 토픽: 단어를 어떻게 숫자로 잘 만들지, 토픽모델 //\n",
        "    자잘하고 실용적인 느낌? 공학적임..  \n",
        "-   시계열분석의 토픽: 예측(forecasting)과 신뢰구간, 변화점과 관련한\n",
        "    연구 (detection/test), 정상/비정상시계열모형 (ARIMA, GARCH),\n",
        "    Cointegration Test, // 느낌이 좀 거창해.. 경제와 관련 많음.\n",
        "-   순환신경망의 토픽(재작년까지): 텍스트생성, 텍스트분류 + 시계열\n",
        "    자료의 예측, 단어의 숫자화 … 텍스트마이닝과 시계열분석의 거의 모든\n",
        "    토픽에 관여함\n",
        "-   순환신경망의 토픽(작년부터?): 딥러닝의 거의 모든 영역에 관여하기\n",
        "    시작함 (심지어 요즘 이미지 분석도 순환망으로 합니다)\n",
        "\n",
        "> <https://youtu.be/thsXGOkcGGg>\n",
        "\n",
        "## 잡담2: 순환신경망의 아키텍처를 얼마나 깊이 이해해야 할까?\n",
        "\n",
        "`-` 과거기준(텍스트생성, 텍스트분류, 시계열자료예측 등에만 순환망이\n",
        "이용되었을 때): 학부수준에서 순수 RNN만 알아도 충분했던 것 같음.\n",
        "LSTM이나 GRU는 석사수준?\n",
        "\n",
        "`-` 현재기준: 석사기준 LSTM 같은건 기본이고 어텐션, 트랜스포머등에 대한\n",
        "개념도 잘 알고 있어야 함. (학부는 잘 모르겠네..)\n",
        "\n",
        "`-` 내 생각: 결국 아키텍처는 근데 유행이라 아키텍처는 한번 따라하면서\n",
        "이해해보고 핵심 아이디어만 이해하면 된다고 생각함. 즉 LSTM 같은\n",
        "특정모형의 아키텍처를 달달 외울필요는 없다, 수식써있는거 보고 이해하면\n",
        "그만임. (수식정도를 이해할 능력은 필요한게.. 코드를 짤때 옵션을 이해할\n",
        "수는 있어야하니까)\n",
        "\n",
        "`-` 망상: 나중에는 순환신경망이 거의 모든 딥러닝 방법의 base가 되지\n",
        "않을까?\n",
        "\n",
        "## 잡담3: fastai, pytorch lightning\n",
        "\n",
        "`-` 비 컴퓨터공학 출신이 쓰기에는 fastai가 좀 더 쓰기 편한건 사실\n",
        "\n",
        "`-` pytorch lightning은 fastai보다 쓰기 어렵지만 (진짜 약간의 클래스관련\n",
        "지식이 필요함, 솔직히 별로 어렵진 않아요) 좀 더 순수 파이토치에 가깝고\n",
        "따라서 코드를 뜯어보기 편리하다.\n",
        "\n",
        "`-` 과거의 생각\n",
        "\n",
        "-   전문가: pytorch + fastai // pytorch + pytorch lightning (컴공출신)\n",
        "-   비 전문가: 순수 fastai\n",
        "\n",
        "`-` 요즘 생각\n",
        "\n",
        "-   모두: pytorch + pytorch lightning\n",
        "-   특정한경우: 순수 fastai \\<– 모형이 구현되어 있다면 fastai가 좋긴\n",
        "    좋아.. 그런데 모형의 구현속도가 못따라감\n",
        "\n",
        "## 잡담4: 우린 뭘 해야 할까 (학석사 레벨에서..)\n",
        "\n",
        "`-` 능력1: 코드이해력 (= 구현능력 = 코드 베끼는 능력)\n",
        "\n",
        "-   이미지분석? 해봤음. 텍스트자료? 해봤음. 시계열? 해봤음. 등등등등? 다\n",
        "    해본적 있음. 어떤 원리인지 정확하게 몰라도 다 해본적 있고 그래서\n",
        "    일할 수 있음!!\n",
        "-   돌아가는 코드 최대한 많이 모아놓으세요. torch, fastai, pytorch\n",
        "    lightning, tensorflow, keras 등등\n",
        "\n",
        "`-` 능력2: 최신트렌드를 파악할 수 있는 힘 (= 논문이해력)\n",
        "\n",
        "-   공부, 공부, 공부… A to Z 까지 수식 다 뜯어보고 코드 다 뜯어보면서\n",
        "    집요하게 공부해야함. (LSTM에서 했던것 처럼!) 물론 차근차근 알려주면\n",
        "    수업이 있다면 좋겠지 그런데 보통은 적당히 두리뭉실하게 설명하지\n",
        "    detail 하게 설명하는 수업은 잘 없음. (지루하거든요)\n",
        "-   수식이나 코드중 하나라도 볼 줄 모르면 능력2를 얻는것 자체가 불가능."
      ],
      "id": "33f5e898-89f9-4c30-ad05-5098b428f1fb"
    }
  ],
  "nbformat": 4,
  "nbformat_minor": 5,
  "metadata": {
    "colab": {
      "provenance": []
    },
    "kernelspec": {
      "name": "python3",
      "display_name": "Python 3",
      "language": "python"
    },
    "language_info": {
      "name": "python",
      "codemirror_mode": {
        "name": "ipython",
        "version": "3"
      },
      "file_extension": ".py",
      "mimetype": "text/x-python",
      "nbconvert_exporter": "python",
      "pygments_lexer": "ipython3",
      "version": "3.7.16"
    }
  }
}