{
  "cells": [
    {
      "cell_type": "markdown",
      "metadata": {},
      "source": [
        "# 기계학습 (1116) 11주차\n",
        "\n",
        "김보람  \n",
        "2022-11-16\n",
        "\n",
        "> RNN(2)– AbAcAd예제, GPU실험 // LSTM– abcabC, abcdabcD, LSTM의\n",
        "> 계산과정, LSTM은 왜 강한가?\n",
        "\n",
        "# 강의영상\n",
        "\n",
        "<https://youtube.com/playlist?list=PLQqh36zP38-zckrqil6HUKenNLBeiwn1T>\n",
        "\n",
        "# import"
      ],
      "id": "747f6d4c-f2b0-4aa5-91b2-6684f6ccddd2"
    },
    {
      "cell_type": "code",
      "execution_count": null,
      "metadata": {},
      "outputs": [],
      "source": [
        "import torch\n",
        "import numpy as np\n",
        "import matplotlib.pyplot as plt"
      ],
      "id": "ec063325-2a8b-46a1-b8ec-4d2301c2ce7b"
    },
    {
      "cell_type": "markdown",
      "metadata": {},
      "source": [
        "# Define some funtions"
      ],
      "id": "7eafb356-23b5-4634-adc7-3f895b155417"
    },
    {
      "cell_type": "code",
      "execution_count": null,
      "metadata": {},
      "outputs": [],
      "source": [
        "def f(txt,mapping):\n",
        "    return [mapping[key] for key in txt] \n",
        "sig = torch.nn.Sigmoid()\n",
        "soft = torch.nn.Softmax(dim=1)\n",
        "tanh = torch.nn.Tanh()"
      ],
      "id": "15025b87-2f4d-4906-b3d4-ea0d5428b3b1"
    },
    {
      "cell_type": "markdown",
      "metadata": {},
      "source": [
        "# Exam4: AbAcAd (2)\n",
        "\n",
        "## data\n",
        "\n",
        "`-` 기존의 정리방식"
      ],
      "id": "4723c913-b93a-404e-826c-9ee76b28a30e"
    },
    {
      "cell_type": "code",
      "execution_count": null,
      "metadata": {
        "outputId": "a1193e64-193d-4e09-c8d2-848a610dfdee"
      },
      "outputs": [],
      "source": [
        "txt = list('AbAcAd')*100\n",
        "txt[:10]"
      ],
      "id": "53f35a3d-20c2-4ea3-8aa4-9a82964b8190"
    },
    {
      "cell_type": "code",
      "execution_count": null,
      "metadata": {},
      "outputs": [],
      "source": [
        "txt_x = txt[:-1]\n",
        "txt_y = txt[1:]"
      ],
      "id": "7705fe04-ed96-4c86-b749-06c09abb54a0"
    },
    {
      "cell_type": "code",
      "execution_count": null,
      "metadata": {
        "outputId": "49279b45-8fa9-486e-8958-2bad166402ea"
      },
      "outputs": [],
      "source": [
        "txt_x[:5],txt_y[:5]"
      ],
      "id": "7251bb06-0cd1-400a-a3f7-0f38aef58859"
    },
    {
      "cell_type": "code",
      "execution_count": null,
      "metadata": {},
      "outputs": [],
      "source": [
        "x = torch.nn.functional.one_hot(torch.tensor(f(txt_x,{'A':0,'b':1,'c':2,'d':3}))).float()\n",
        "y = torch.nn.functional.one_hot(torch.tensor(f(txt_y,{'A':0,'b':1,'c':2,'d':3}))).float()"
      ],
      "id": "3eb7194c-7f67-4d21-ada6-f01637ad34e3"
    },
    {
      "cell_type": "code",
      "execution_count": null,
      "metadata": {
        "outputId": "34a36086-8b97-48cb-dc94-61609b52d164"
      },
      "outputs": [],
      "source": [
        "x,y"
      ],
      "id": "335c56cd-ff19-449d-a50f-f35f8f8ab830"
    },
    {
      "cell_type": "markdown",
      "metadata": {},
      "source": [
        "## 순환신경망 구현1 (손으로 직접구현) – 리뷰\n",
        "\n",
        "`(1)` 숙성담당 네트워크"
      ],
      "id": "6ebd17b6-b067-4a8c-b9d1-9880c71171ea"
    },
    {
      "cell_type": "code",
      "execution_count": null,
      "metadata": {},
      "outputs": [],
      "source": [
        "class rNNCell(torch.nn.Module):\n",
        "    def __init__(self):\n",
        "        super().__init__()\n",
        "        self.i2h = torch.nn.Linear(4,2) \n",
        "        self.h2h = torch.nn.Linear(2,2) \n",
        "        self.tanh = torch.nn.Tanh()\n",
        "    def forward(self,x,hidden):\n",
        "        hidden = self.tanh(self.i2h(x)+self.h2h(hidden))\n",
        "        return hidden"
      ],
      "id": "dd870cc2-2d7d-4129-8568-3569f4cf8c41"
    },
    {
      "cell_type": "code",
      "execution_count": null,
      "metadata": {},
      "outputs": [],
      "source": [
        "torch.manual_seed(43052)\n",
        "rnncell = rNNCell() # 숙성담당 네트워크 "
      ],
      "id": "27940560-4a81-427a-a12a-dcd877c5761b"
    },
    {
      "cell_type": "markdown",
      "metadata": {},
      "source": [
        "`(2)` 조리담당 네트워크"
      ],
      "id": "aa4d000c-f069-42ac-9c41-dc65dc126c7b"
    },
    {
      "cell_type": "code",
      "execution_count": null,
      "metadata": {},
      "outputs": [],
      "source": [
        "torch.manual_seed(43052)\n",
        "cook = torch.nn.Linear(2,4) "
      ],
      "id": "0eb0d231-8f3e-415b-b8be-21699741fa9f"
    },
    {
      "cell_type": "markdown",
      "metadata": {},
      "source": [
        "`(3)` 손실함수, 옵티마이저 설계"
      ],
      "id": "00df0fe8-84e9-46ae-9900-631958ecd6c6"
    },
    {
      "cell_type": "code",
      "execution_count": null,
      "metadata": {},
      "outputs": [],
      "source": [
        "loss_fn = torch.nn.CrossEntropyLoss() \n",
        "optimizr = torch.optim.Adam(list(rnncell.parameters())+list(cook.parameters()))"
      ],
      "id": "0ee8e986-3291-4148-a2e9-7b2a90595aed"
    },
    {
      "cell_type": "markdown",
      "metadata": {},
      "source": [
        "`(4)` 학습 (6분정도 걸림)"
      ],
      "id": "4d8408b5-1db7-4adc-8f11-8359f3e251a9"
    },
    {
      "cell_type": "code",
      "execution_count": null,
      "metadata": {},
      "outputs": [],
      "source": [
        "T = len(x) \n",
        "for epoc in range(5000): \n",
        "    ## 1~2\n",
        "    loss = 0 \n",
        "    ht = torch.zeros(1,2) \n",
        "    for t in range(T):\n",
        "        xt,yt = x[[t]], y[[t]]\n",
        "        ht = rnncell(xt,ht) \n",
        "        ot = cook(ht) \n",
        "        loss = loss + loss_fn(ot,yt) \n",
        "    ## 3 \n",
        "    loss.backward()\n",
        "    ## 4 \n",
        "    optimizr.step()\n",
        "    optimizr.zero_grad()"
      ],
      "id": "6c6a42f3-1418-44d1-a93c-cefc173e6e30"
    },
    {
      "cell_type": "markdown",
      "metadata": {},
      "source": [
        "`(5)` 시각화"
      ],
      "id": "c179a3ac-50c5-42a8-ae86-579e331eca33"
    },
    {
      "cell_type": "code",
      "execution_count": null,
      "metadata": {},
      "outputs": [],
      "source": [
        "T = len(x) \n",
        "hidden = torch.zeros(T,2) # 599년치 h를 담을 변수 \n",
        "_water = torch.zeros(1,2) # 맹물 \n",
        "hidden[[0]] = rnncell(x[[0]],_water) \n",
        "for t in range(1,T):\n",
        "    hidden[[t]] = rnncell(x[[t]],hidden[[t-1]]) "
      ],
      "id": "0979a565-dc50-4c2c-b62e-76b64f026813"
    },
    {
      "cell_type": "code",
      "execution_count": null,
      "metadata": {
        "outputId": "91966384-3d89-4e62-87ce-95234661d766"
      },
      "outputs": [],
      "source": [
        "yhat = soft(cook(hidden))\n",
        "yhat"
      ],
      "id": "4e07845c-2d97-4add-a07c-0a445b70158f"
    },
    {
      "cell_type": "code",
      "execution_count": null,
      "metadata": {
        "outputId": "b1825621-9f36-4a10-ed8e-b6603c38f896"
      },
      "outputs": [
        {
          "output_type": "display_data",
          "metadata": {},
          "data": {
            "image/png": "[encoded data removed]"
          }
        }
      ],
      "source": [
        "plt.matshow(yhat.data[-15:],cmap='bwr')"
      ],
      "id": "2a691864-38ef-4f09-871a-9fe790c217a9"
    },
    {
      "cell_type": "markdown",
      "metadata": {},
      "source": [
        "## 순환신경망 구현2 (with RNNCell, hidden node 2)\n",
        "\n",
        "ref: <https://pytorch.org/docs/stable/generated/torch.nn.RNNCell.html>\n",
        "\n",
        "### 구현1과 같은 초기값 (확인용)\n",
        "\n",
        "`(1)` 숙성네트워크"
      ],
      "id": "e3735529-6ff5-4ddf-92ae-5ad04d23f0ff"
    },
    {
      "cell_type": "code",
      "execution_count": null,
      "metadata": {},
      "outputs": [],
      "source": [
        "torch.manual_seed(43052)\n",
        "_rnncell = rNNCell() # 숙성담당 네트워크 "
      ],
      "id": "912e7492-e89b-43e4-af20-10c21734a89a"
    },
    {
      "cell_type": "code",
      "execution_count": null,
      "metadata": {},
      "outputs": [],
      "source": [
        "rnncell = torch.nn.RNNCell(4,2)   # 4=x , 2=h"
      ],
      "id": "427dc3ff-dabc-4832-8eb7-9efe9eb30b57"
    },
    {
      "cell_type": "markdown",
      "metadata": {},
      "source": [
        "`rNNCell()` 는 사실 `torch.nn.RNNCell()`와 같은 동작을 하도록 설계를\n",
        "하였음. 같은동작을 하는지 확인하기 위해서 동일한 초기상태에서\n",
        "`rNNCell()`에 의하여 학습된 결과와 `torch.nn.RNNCell()`에 의하여 학습된\n",
        "결과를 비교해보자."
      ],
      "id": "d0151f21-dfae-44e3-9909-240b11b6523a"
    },
    {
      "cell_type": "code",
      "execution_count": null,
      "metadata": {},
      "outputs": [],
      "source": [
        "rnncell.weight_ih.data = _rnncell.i2h.weight.data\n",
        "rnncell.bias_ih.data = _rnncell.i2h.bias.data\n",
        "rnncell.weight_hh.data = _rnncell.h2h.weight.data\n",
        "rnncell.bias_hh.data = _rnncell.h2h.bias.data\n",
        "\n",
        "# 초기상태를 똑같이! 앞에서 손으로 직접구현한 것과 일치하는지 확인하기 위해서.\n"
      ],
      "id": "6df5a3a8-d8bb-4972-9abf-9cfbc6dfba8c"
    },
    {
      "cell_type": "markdown",
      "metadata": {},
      "source": [
        "`(2)` 조리네트워크"
      ],
      "id": "3d370887-d414-4740-aa02-9df04937a124"
    },
    {
      "cell_type": "code",
      "execution_count": null,
      "metadata": {},
      "outputs": [],
      "source": [
        "torch.manual_seed(43052)\n",
        "cook = torch.nn.Linear(2,4) # 숙성된 2차원의 단어를 다시 4차원으로 바꿔줘야지 나중에 softmax취할 수 있음"
      ],
      "id": "b7dcb6cd-662e-4849-a7cd-7bf072afc0eb"
    },
    {
      "cell_type": "markdown",
      "metadata": {},
      "source": [
        "`(3)` 손실함수와 옵티마이저"
      ],
      "id": "3f654a31-2a5c-4ca3-a2c9-41f776876c4b"
    },
    {
      "cell_type": "code",
      "execution_count": null,
      "metadata": {},
      "outputs": [],
      "source": [
        "loss_fn = torch.nn.CrossEntropyLoss()\n",
        "optimizr = torch.optim.Adam(list(rnncell.parameters())+list(cook.parameters()))"
      ],
      "id": "3df2a7ad-3dca-480f-b8eb-267f85550c4a"
    },
    {
      "cell_type": "markdown",
      "metadata": {},
      "source": [
        "`(4)` 학습"
      ],
      "id": "3822dfda-bc05-4776-818c-865242561d68"
    },
    {
      "cell_type": "code",
      "execution_count": null,
      "metadata": {},
      "outputs": [],
      "source": [
        "T = len(x) \n",
        "for epoc in range(5000):\n",
        "    ## 1~2\n",
        "    loss = 0 \n",
        "    ht = torch.zeros(1,2) \n",
        "    for t in range(T):\n",
        "        xt,yt = x[[t]], y[[t]]\n",
        "        ht = rnncell(xt,ht)\n",
        "        ot = cook(ht)\n",
        "        loss = loss + loss_fn(ot,yt) \n",
        "    ## 3 \n",
        "    loss.backward()\n",
        "    ## 4 \n",
        "    optimizr.step()\n",
        "    optimizr.zero_grad()"
      ],
      "id": "3da3ff3e-cc6d-41ca-b356-09689378fc93"
    },
    {
      "cell_type": "markdown",
      "metadata": {},
      "source": [
        "`(5)` 시각화"
      ],
      "id": "2f2692ed-7e27-4bb6-953a-3485453ddfd4"
    },
    {
      "cell_type": "code",
      "execution_count": null,
      "metadata": {},
      "outputs": [],
      "source": [
        "hidden = torch.zeros(T,2) "
      ],
      "id": "12b9ec09-0331-42bc-bb01-2fed1935e768"
    },
    {
      "cell_type": "code",
      "execution_count": null,
      "metadata": {},
      "outputs": [],
      "source": [
        "# t=0 \n",
        "_water = torch.zeros(1,2)\n",
        "hidden[[0]] = rnncell(x[[0]],_water)\n",
        "# t=1~T \n",
        "for t in range(1,T):\n",
        "    hidden[[t]] = rnncell(x[[t]],hidden[[t-1]])"
      ],
      "id": "dd76fb29-8944-4916-9225-be9b4680403d"
    },
    {
      "cell_type": "code",
      "execution_count": null,
      "metadata": {
        "outputId": "2c155cb2-4972-4207-8ace-d0bf0044272b"
      },
      "outputs": [],
      "source": [
        "yhat = soft(cook(hidden))\n",
        "yhat"
      ],
      "id": "eefd7307-5710-4475-b6fb-c831e075fc0c"
    },
    {
      "cell_type": "code",
      "execution_count": null,
      "metadata": {
        "outputId": "fa7f9dc0-c653-4dd6-a12d-182cbca56bd1"
      },
      "outputs": [
        {
          "output_type": "display_data",
          "metadata": {},
          "data": {
            "image/png": "[encoded data removed]"
          }
        }
      ],
      "source": [
        "plt.matshow(yhat[:15].data,cmap='bwr')"
      ],
      "id": "db0b8220-8e2f-4fc5-8060-31a3b7deb86c"
    },
    {
      "cell_type": "code",
      "execution_count": null,
      "metadata": {
        "outputId": "89240a67-685a-40e4-b3a8-14721d56b388"
      },
      "outputs": [
        {
          "output_type": "display_data",
          "metadata": {},
          "data": {
            "image/png": "[encoded data removed]"
          }
        }
      ],
      "source": [
        "plt.matshow(yhat[-15:].data,cmap='bwr')"
      ],
      "id": "9ebbdb60-0732-4db1-8dfa-78774b2b267b"
    },
    {
      "cell_type": "markdown",
      "metadata": {},
      "source": [
        "### 새로운 초기값\n",
        "\n",
        "`(1)` 숙성네트워크"
      ],
      "id": "66b9b413-e989-4ea9-8e0b-d75c7f3ea138"
    },
    {
      "cell_type": "code",
      "execution_count": null,
      "metadata": {
        "outputId": "11a7dd56-1a36-4134-af06-4507ce92d320"
      },
      "outputs": [],
      "source": [
        "torch.manual_seed(43052)\n",
        "torch.nn.RNNCell(4,2)"
      ],
      "id": "c374dfe9-c6a9-4d36-94c2-c7dfe3608064"
    },
    {
      "cell_type": "markdown",
      "metadata": {},
      "source": [
        "`(2)` 조리네트워크"
      ],
      "id": "48d51ca0-c172-4466-97a2-66bfac27af50"
    },
    {
      "cell_type": "code",
      "execution_count": null,
      "metadata": {},
      "outputs": [],
      "source": [
        "torch.manual_seed(43052)\n",
        "cook = torch.nn.Linear(2,4) # 숙성된 2차원의 단어를 다시 4차원으로 바꿔줘야지 나중에 softmax취할 수 있음"
      ],
      "id": "13e0f035-94ad-4410-aa59-56233a3a9af1"
    },
    {
      "cell_type": "markdown",
      "metadata": {},
      "source": [
        "`(3)` 손실함수와 옵티마이저"
      ],
      "id": "f1277753-12b8-4c25-a4b5-4bb1b43a2bf3"
    },
    {
      "cell_type": "code",
      "execution_count": null,
      "metadata": {},
      "outputs": [],
      "source": [
        "loss_fn = torch.nn.CrossEntropyLoss()\n",
        "optimizr = torch.optim.Adam(list(rnncell.parameters())+list(cook.parameters()))"
      ],
      "id": "f76fc9c2-e220-4a39-9664-3e3b206d13ad"
    },
    {
      "cell_type": "markdown",
      "metadata": {},
      "source": [
        "`(4)` 학습"
      ],
      "id": "8b118930-7899-492a-8846-de372a2ba600"
    },
    {
      "cell_type": "code",
      "execution_count": null,
      "metadata": {},
      "outputs": [],
      "source": [
        "T = len(x) \n",
        "for epoc in range(5000):\n",
        "    ## 1~2\n",
        "    loss = 0 \n",
        "    ht = torch.zeros(1,2) \n",
        "    for t in range(T):\n",
        "        xt,yt = x[[t]], y[[t]]\n",
        "        ht = rnncell(xt,ht)\n",
        "        ot = cook(ht)\n",
        "        loss = loss + loss_fn(ot,yt) \n",
        "    ## 3 \n",
        "    loss.backward()\n",
        "    ## 4 \n",
        "    optimizr.step()\n",
        "    optimizr.zero_grad()"
      ],
      "id": "1636446c-840f-4bc2-8b32-1ba985c7f2b3"
    },
    {
      "cell_type": "markdown",
      "metadata": {},
      "source": [
        "`(5)` 시각화\n",
        "\n",
        "yhat을 저장한 적이 없는데? x -\\> h -\\> outfut -\\> yhat 이렇게\n",
        "되야하는데.. 히든레이어에 출력이 T시점에만 저장되어 있고 1부터 599에\n",
        "해당되는 히든레이어가 저장이 안되어있는 네트워크만 저장된 상태 시각화를\n",
        "위해 hidden레이어를 재정의 해야함"
      ],
      "id": "46e0919c-193c-460b-b1c3-89d26d3efb9d"
    },
    {
      "cell_type": "code",
      "execution_count": null,
      "metadata": {},
      "outputs": [],
      "source": [
        "hidden = torch.zeros(T,2)\n",
        "#맹물을 만들자\n",
        "_water=torch.zeros(1,2)\n",
        "#t=0\n",
        "hidden[[0]] = rnncell(x[[0]],_water)\n",
        "\n",
        "#t=1~T\n",
        "for t in range(1,T):\n",
        "  hidden[[t]] = rnncell(x[[t]],hidden[[t-1]])\n",
        "\n",
        "\n"
      ],
      "id": "ptw94wH3xAPr"
    },
    {
      "cell_type": "code",
      "execution_count": null,
      "metadata": {},
      "outputs": [],
      "source": [
        "yhat = soft(cook(hidden)) \n",
        "plt.matshow(yhat[:15].data,cmap='bwr')\n"
      ],
      "id": "2hX4jaV0xozU"
    },
    {
      "cell_type": "markdown",
      "metadata": {},
      "source": [
        "## 순환신경망 구현3 (with RNN, hidden node 2) – 성공\n",
        "\n",
        "(예비학습)\n",
        "\n",
        "`-` 네트워크학습이후 yhat을 구하려면 번거로웠음\n",
        "\n",
        "``` python\n",
        "hidden = torch.zeros(T,2) \n",
        "_water = torch.zeros(1,2)\n",
        "hidden[[0]] = rnncell(x[[0]],_water)\n",
        "for t in range(1,T):\n",
        "    hidden[[t]] = rnncell(x[[t]],hidden[[t-1]])\n",
        "yhat = soft(cook(hidden))\n",
        "```\n",
        "\n",
        "`-` 이렇게 하면 쉽게(?) 구할 수 있음"
      ],
      "id": "61b81bb7-09ba-4f87-a3ba-ae3e4ce3ca8b"
    },
    {
      "cell_type": "code",
      "execution_count": null,
      "metadata": {},
      "outputs": [],
      "source": [
        "rnn = torch.nn.RNN(4,2)"
      ],
      "id": "77f04ace-59b1-4b5b-9773-9929d51bd59c"
    },
    {
      "cell_type": "code",
      "execution_count": null,
      "metadata": {},
      "outputs": [],
      "source": [
        "rnn.weight_hh_l0.data = rnncell.weight_hh.data    # 2x2 매트릭스\n",
        "rnn.weight_ih_l0.data = rnncell.weight_ih.data\n",
        "rnn.bias_hh_l0.data = rnncell.bias_hh.data\n",
        "rnn.bias_ih_l0.data = rnncell.bias_ih.data"
      ],
      "id": "73ecf1be-4a22-41ee-a747-1956475ee53c"
    },
    {
      "cell_type": "markdown",
      "metadata": {},
      "source": [
        "`-` rnn(x,\\_water)의 결과는 (1) 599년치 간장 (2) 599번째 간장 이다"
      ],
      "id": "0b1217fa-ba8d-4bb3-b6db-24f16957af7a"
    },
    {
      "cell_type": "code",
      "execution_count": null,
      "metadata": {
        "outputId": "c254bab3-6424-4dc3-8691-983e1c13a1b7"
      },
      "outputs": [],
      "source": [
        "_water = torch.zeros(1,2)\n",
        "rnn(x,_water), hidden \n",
        "# 두개의 값이 같다! \n",
        "\n",
        "# x: tupple.. "
      ],
      "id": "e53dc2c8-0e1e-4cb9-b5c9-e645540e86bc"
    },
    {
      "cell_type": "code",
      "execution_count": null,
      "metadata": {
        "outputId": "9509a60d-f84f-42be-de28-477b818ec533"
      },
      "outputs": [],
      "source": [
        "soft(cook(rnn(x,_water)[0]))"
      ],
      "id": "6f50b73a-35d8-4a7c-a07e-574574b40c42"
    },
    {
      "cell_type": "markdown",
      "metadata": {},
      "source": [
        "***(예비학습결론) torch.nn.RNN(4,2)는 torch.nn.RNNCell(4,2)의 batch\n",
        "버전이다. (for문이 포함된 버전이다)***\n",
        "\n",
        "------------------------------------------------------------------------\n",
        "\n",
        "torch.nn.RNN(4,2)를 이용하여 구현하자.\n",
        "\n",
        "`(1)` 숙성네트워크\n",
        "\n",
        "선언"
      ],
      "id": "07b0a201-cf64-4680-8b13-c4b2965cd711"
    },
    {
      "cell_type": "code",
      "execution_count": null,
      "metadata": {},
      "outputs": [],
      "source": [
        "rnn = torch.nn.RNN(4,2)"
      ],
      "id": "5a4b35c7-12cb-4d8f-8583-76f2bf260b0a"
    },
    {
      "cell_type": "markdown",
      "metadata": {},
      "source": [
        "가중치초기화"
      ],
      "id": "67239791-226f-4d3f-826f-0515884ebee2"
    },
    {
      "cell_type": "code",
      "execution_count": null,
      "metadata": {},
      "outputs": [],
      "source": [
        "torch.manual_seed(43052)\n",
        "_rnncell = torch.nn.RNNCell(4,2)"
      ],
      "id": "b31d7b41-6794-48df-b74c-a539a458bf35"
    },
    {
      "cell_type": "code",
      "execution_count": null,
      "metadata": {},
      "outputs": [],
      "source": [
        "rnn.weight_hh_l0.data = _rnncell.weight_hh.data \n",
        "rnn.weight_ih_l0.data = _rnncell.weight_ih.data\n",
        "rnn.bias_hh_l0.data = _rnncell.bias_hh.data\n",
        "rnn.bias_ih_l0.data = _rnncell.bias_ih.data"
      ],
      "id": "1e1c6f16-9ac5-4e6d-9f3d-26868968d886"
    },
    {
      "cell_type": "markdown",
      "metadata": {},
      "source": [
        "`(2)` 조리네트워크"
      ],
      "id": "3a5f3abc-ffca-4f70-a0e0-8f0f6766c462"
    },
    {
      "cell_type": "code",
      "execution_count": null,
      "metadata": {},
      "outputs": [],
      "source": [
        "torch.manual_seed(43052)\n",
        "cook = torch.nn.Linear(2,4) "
      ],
      "id": "c7458907-7b80-4981-871d-d477fe9daeaf"
    },
    {
      "cell_type": "markdown",
      "metadata": {},
      "source": [
        "`(3)` 손실함수와 옵티마이저"
      ],
      "id": "b10ae16c-74e0-47a0-b540-5475029573e5"
    },
    {
      "cell_type": "code",
      "execution_count": null,
      "metadata": {},
      "outputs": [],
      "source": [
        "loss_fn = torch.nn.CrossEntropyLoss()\n",
        "optimizr = torch.optim.Adam(list(rnn.parameters())+list(cook.parameters()))"
      ],
      "id": "4d56f314-a8cd-4c85-8f7c-ba0081aefb42"
    },
    {
      "cell_type": "markdown",
      "metadata": {},
      "source": [
        "`(4)` 학습"
      ],
      "id": "9a7509a4-377a-4555-b4c9-08dfb927d532"
    },
    {
      "cell_type": "code",
      "execution_count": null,
      "metadata": {},
      "outputs": [],
      "source": [
        "# 맹물을 넣어주기 위한 세팅\n",
        "_water = torch.zeros(1,2) \n",
        "\n",
        "for epoc in range(5000):\n",
        "    ## 1  hT: 그냥 써논거 \n",
        "    hidden,hT = rnn(x,_water)\n",
        "    output = cook(hidden) #output이 배치로 나오게 된다.\n",
        "    ## 2 \n",
        "    loss = loss_fn(output,y)\n",
        "    ## 3 \n",
        "    loss.backward()\n",
        "    ## 4 \n",
        "    optimizr.step()   #갱신\n",
        "    optimizr.zero_grad()  #초기화"
      ],
      "id": "193b2256-2898-4f7a-8bd7-30c6f36adcf2"
    },
    {
      "cell_type": "markdown",
      "metadata": {},
      "source": [
        "`(5)` 시각화1: yhat"
      ],
      "id": "fdefcb2c-4f09-41a8-abfd-7f51453e3b6e"
    },
    {
      "cell_type": "code",
      "execution_count": null,
      "metadata": {},
      "outputs": [],
      "source": [
        "yhat = soft(output)"
      ],
      "id": "2d3ba732-9f22-40cd-960b-5ee7256d4e1f"
    },
    {
      "cell_type": "code",
      "execution_count": null,
      "metadata": {
        "outputId": "2846ee54-d19c-45d2-f054-379d8fca30e9"
      },
      "outputs": [
        {
          "output_type": "display_data",
          "metadata": {},
          "data": {
            "image/png": "[encoded data removed]"
          }
        }
      ],
      "source": [
        "plt.matshow(yhat.data[:15],cmap='bwr')"
      ],
      "id": "b80f712d-3921-4095-8d4e-008f94c6847b"
    },
    {
      "cell_type": "markdown",
      "metadata": {},
      "source": [
        "-   처음은 좀 틀렸음 ㅎㅎ"
      ],
      "id": "8dbe85b8-2d0a-43bf-8165-4f5a938d43ed"
    },
    {
      "cell_type": "code",
      "execution_count": null,
      "metadata": {
        "outputId": "43e504a2-b0d1-4eb4-9e3a-0c6a96850136"
      },
      "outputs": [
        {
          "output_type": "display_data",
          "metadata": {},
          "data": {
            "image/png": "[encoded data removed]"
          }
        }
      ],
      "source": [
        "plt.matshow(yhat.data[-15:],cmap='bwr')"
      ],
      "id": "a28eb333-7d11-49ba-97d0-864b518067b2"
    },
    {
      "cell_type": "markdown",
      "metadata": {},
      "source": [
        "-   뒤에는 잘맞음\n",
        "\n",
        "**실전팁: `_water` 대신에 `hT`를 대입 (사실 큰 차이는 없음)**"
      ],
      "id": "3821f2fc-7a51-483b-91c5-54789693e938"
    },
    {
      "cell_type": "code",
      "execution_count": null,
      "metadata": {},
      "outputs": [],
      "source": [
        "# hT에 값이 있음\n",
        "# rnn(x,hT)[0][:6] 값과 hidden[:6] 값을 비교해보면 비슷함 "
      ],
      "id": "wMhuJbaD1IL7"
    },
    {
      "cell_type": "code",
      "execution_count": null,
      "metadata": {
        "outputId": "d20c606a-de61-442e-956d-d2f19597b15b"
      },
      "outputs": [],
      "source": [
        "rnn(x[:6],_water),rnn(x[:6],hT)"
      ],
      "id": "877bf41c-1797-477b-b695-c9382529948a"
    },
    {
      "cell_type": "markdown",
      "metadata": {},
      "source": [
        "`(6)` 시각화2: hidden, yhat"
      ],
      "id": "5e64860c-7d68-4cd5-a827-8997ea9e92a6"
    },
    {
      "cell_type": "code",
      "execution_count": null,
      "metadata": {},
      "outputs": [],
      "source": [
        "combinded = torch.concat([hidden,yhat],axis=1)"
      ],
      "id": "69e24656-dbf6-4b54-adb8-de36b9bb21e7"
    },
    {
      "cell_type": "code",
      "execution_count": null,
      "metadata": {
        "outputId": "b93678e1-7f8e-4114-9d8a-5d2b72ec7670"
      },
      "outputs": [
        {
          "output_type": "display_data",
          "metadata": {},
          "data": {
            "image/png": "[encoded data removed]"
          }
        }
      ],
      "source": [
        "plt.matshow(combinded[-15:].data,cmap='bwr')"
      ],
      "id": "5fac9052-170e-45be-9321-e09607543146"
    },
    {
      "cell_type": "markdown",
      "metadata": {},
      "source": [
        "-   히든노드의 해석이 어려움.\n",
        "\n",
        "## 순환신경망 구현4 (with RNN, hidden node 3) – 성공\n",
        "\n",
        "`(1)` 숙성네트워크~ `(2)` 조리네트워크"
      ],
      "id": "6ca531a2-5ff5-4eff-9483-8ac3684e09b7"
    },
    {
      "cell_type": "code",
      "execution_count": null,
      "metadata": {},
      "outputs": [],
      "source": [
        "torch.manual_seed(2) #1 \n",
        "rnn = torch.nn.RNN(4,3) \n",
        "cook = torch.nn.Linear(3,4) "
      ],
      "id": "6cae8682-9dd8-4e4b-82a0-b76d4e3b694b"
    },
    {
      "cell_type": "markdown",
      "metadata": {},
      "source": [
        "`(3)` 손실함수와 옵티마이저"
      ],
      "id": "5f15ab24-1567-4511-b395-403240b720c5"
    },
    {
      "cell_type": "code",
      "execution_count": null,
      "metadata": {},
      "outputs": [],
      "source": [
        "loss_fn = torch.nn.CrossEntropyLoss()\n",
        "optimizr = torch.optim.Adam(list(rnn.parameters())+list(cook.parameters()))"
      ],
      "id": "f5768d12-3489-45f7-9c3f-ae0acf462e25"
    },
    {
      "cell_type": "markdown",
      "metadata": {},
      "source": [
        "`(4)` 학습"
      ],
      "id": "7bea9738-a6c5-4969-be55-9f212a224694"
    },
    {
      "cell_type": "code",
      "execution_count": null,
      "metadata": {},
      "outputs": [],
      "source": [
        "_water = torch.zeros(1,3) \n",
        "for epoc in range(5000):\n",
        "    ## 1\n",
        "    hidden,hT = rnn(x,_water) \n",
        "    output = cook(hidden) \n",
        "    ## 2 \n",
        "    loss = loss_fn(output,y) \n",
        "    ## 3 \n",
        "    loss.backward()\n",
        "    ## 4 \n",
        "    optimizr.step()\n",
        "    optimizr.zero_grad()"
      ],
      "id": "da35acd3-8e40-41c3-8f74-0dcc53f053c5"
    },
    {
      "cell_type": "markdown",
      "metadata": {},
      "source": [
        "`(5)` 시각화1: yhat"
      ],
      "id": "fe6839a6-7b62-43a1-96d9-bcced5661171"
    },
    {
      "cell_type": "code",
      "execution_count": null,
      "metadata": {},
      "outputs": [],
      "source": [
        "yhat = soft(output)"
      ],
      "id": "835fc173-ad58-4b46-beac-d7470e29e885"
    },
    {
      "cell_type": "code",
      "execution_count": null,
      "metadata": {
        "outputId": "e6f61a22-c3f0-47a8-90c1-717c7329a3a2"
      },
      "outputs": [
        {
          "output_type": "display_data",
          "metadata": {},
          "data": {
            "image/png": "[encoded data removed]"
          }
        }
      ],
      "source": [
        "plt.matshow(yhat[-15:].data,cmap='bwr')"
      ],
      "id": "db46c3fe-5442-414a-96e9-3a0a6520ab38"
    },
    {
      "cell_type": "markdown",
      "metadata": {},
      "source": [
        "`(6)` 시각화2: hidden, yhat"
      ],
      "id": "77edb0da-a5b0-4a6b-870c-942f81029907"
    },
    {
      "cell_type": "code",
      "execution_count": null,
      "metadata": {},
      "outputs": [],
      "source": [
        "combinded = torch.concat([hidden,yhat],axis=1)"
      ],
      "id": "77c59be7-3afb-4a58-93a9-d78d17f42ce9"
    },
    {
      "cell_type": "code",
      "execution_count": null,
      "metadata": {
        "outputId": "2136e8cf-2924-49a1-aea7-68c1acdcbf38"
      },
      "outputs": [
        {
          "output_type": "display_data",
          "metadata": {},
          "data": {
            "image/png": "[encoded data removed]"
          }
        }
      ],
      "source": [
        "plt.matshow(combinded[-15:].data,cmap='bwr')"
      ],
      "id": "2f2d7c58-70ee-4249-93f2-195a2d51d9f7"
    },
    {
      "cell_type": "markdown",
      "metadata": {},
      "source": [
        "-   세번째 히든노드 = 대소문자를 구분\n",
        "-   1,2 히든노드 = bcd를 구분\n",
        "\n",
        "# GPU 실험\n",
        "\n",
        "## 20000 len + 20 hidden nodes\n",
        "\n",
        "***cpu***"
      ],
      "id": "82d2ecd7-1f4e-4ae7-a2eb-879b7c2f4e26"
    },
    {
      "cell_type": "code",
      "execution_count": null,
      "metadata": {},
      "outputs": [],
      "source": [
        "x = torch.randn([20000,4]) \n",
        "y = torch.randn([20000,4]) "
      ],
      "id": "c2edfd2f-4228-4594-9880-b3dad45aacb0"
    },
    {
      "cell_type": "code",
      "execution_count": null,
      "metadata": {},
      "outputs": [],
      "source": [
        "rnn = torch.nn.RNN(4,20) \n",
        "linr = torch.nn.Linear(20,4) \n",
        "optimizr = torch.optim.Adam(list(rnn.parameters())+list(linr.parameters()))\n",
        "loss_fn = torch.nn.MSELoss() "
      ],
      "id": "4e889187-0496-4142-a1d6-16327113fe53"
    },
    {
      "cell_type": "code",
      "execution_count": null,
      "metadata": {
        "outputId": "6db50060-0eba-4d75-ba24-037146bfa8b2"
      },
      "outputs": [],
      "source": [
        "t1 = time.time()\n",
        "for epoc in range(100):\n",
        "    ## 1 \n",
        "    _water = torch.zeros(1,20)\n",
        "    hidden, hT = rnn(x,_water) \n",
        "    yhat = linr(hidden) \n",
        "    ## 2 \n",
        "    loss = loss_fn(yhat,y) \n",
        "    ## 3\n",
        "    loss.backward()   # 역전파를 하는 곳이 시간을 제일 많이 잡아먹는다. \n",
        "    ## 4 \n",
        "    optimizr.step()\n",
        "    optimizr.zero_grad()\n",
        "t2 = time.time()\n",
        "t2 - t1 "
      ],
      "id": "311918e5-1ddc-4837-b73c-f817ae9fe6b4"
    },
    {
      "cell_type": "markdown",
      "metadata": {},
      "source": [
        "***gpu***"
      ],
      "id": "a08d5a05-4863-4ae6-bc08-2ac8c76cf78f"
    },
    {
      "cell_type": "code",
      "execution_count": null,
      "metadata": {},
      "outputs": [],
      "source": [
        "x = torch.randn([20000,4]).to(\"cuda:0\")\n",
        "y = torch.randn([20000,4]).to(\"cuda:0\")"
      ],
      "id": "9e751aaf-fe3f-4cf0-8c20-dca68c32bc62"
    },
    {
      "cell_type": "code",
      "execution_count": null,
      "metadata": {},
      "outputs": [],
      "source": [
        "rnn = torch.nn.RNN(4,20).to(\"cuda:0\")\n",
        "linr = torch.nn.Linear(20,4).to(\"cuda:0\")\n",
        "optimizr = torch.optim.Adam(list(rnn.parameters())+list(linr.parameters()))\n",
        "loss_fn = torch.nn.MSELoss() "
      ],
      "id": "b814897c-f144-4781-b14a-0ef3d6a27278"
    },
    {
      "cell_type": "code",
      "execution_count": null,
      "metadata": {
        "outputId": "68d58afc-b0c5-412e-997b-9419634d77c1"
      },
      "outputs": [],
      "source": [
        "t1 = time.time()\n",
        "for epoc in range(100):\n",
        "    ## 1 \n",
        "    _water = torch.zeros(1,20).to(\"cuda:0\")\n",
        "    hidden, hT = rnn(x,_water) \n",
        "    yhat = linr(hidden) \n",
        "    ## 2 \n",
        "    loss = loss_fn(yhat,y) \n",
        "    ## 3\n",
        "    loss.backward() \n",
        "    ## 4 \n",
        "    optimizr.step()\n",
        "    optimizr.zero_grad()\n",
        "t2 = time.time()\n",
        "t2 - t1 "
      ],
      "id": "e76c8e27-6c5d-41b7-a668-fe8bd4a69f7f"
    },
    {
      "cell_type": "markdown",
      "metadata": {},
      "source": [
        "-   왜 빠른지?"
      ],
      "id": "6061ddae-d890-45ec-8749-1c5cc5d11c93"
    },
    {
      "cell_type": "code",
      "execution_count": null,
      "metadata": {},
      "outputs": [],
      "source": [
        "# for문이 중첩이 되어있는 형태인데, hidden에서 cpu에서는 그래서 오래걸리는 거구... 근데 이것보다는 역전파 하는곳 때문에 더 오래걸린다! "
      ],
      "id": "MmamQgDO46RD"
    },
    {
      "cell_type": "markdown",
      "metadata": {},
      "source": [
        "## 20000 len + 20 hidden nodes + 역전파주석처리\n",
        "\n",
        "***cpu***"
      ],
      "id": "25d6a6f5-c4e5-4c11-8385-1c7eba1e18c8"
    },
    {
      "cell_type": "code",
      "execution_count": null,
      "metadata": {},
      "outputs": [],
      "source": [
        "x = torch.randn([20000,4]) \n",
        "y = torch.randn([20000,4]) "
      ],
      "id": "de0fb966-afd2-484e-b5e2-f24314fda6e4"
    },
    {
      "cell_type": "code",
      "execution_count": null,
      "metadata": {},
      "outputs": [],
      "source": [
        "rnn = torch.nn.RNN(4,20) \n",
        "linr = torch.nn.Linear(20,4) \n",
        "optimizr = torch.optim.Adam(list(rnn.parameters())+list(linr.parameters()))\n",
        "loss_fn = torch.nn.MSELoss() "
      ],
      "id": "2bbfcdbe-c0e2-4436-9499-9d9b0634850a"
    },
    {
      "cell_type": "code",
      "execution_count": null,
      "metadata": {
        "outputId": "8aa1dce9-140c-4809-8fb3-e3dd99becf6a"
      },
      "outputs": [],
      "source": [
        "t1 = time.time()\n",
        "for epoc in range(100):\n",
        "    ## 1 \n",
        "    _water = torch.zeros(1,20)\n",
        "    hidden, hT = rnn(x,_water) \n",
        "    yhat = linr(hidden) \n",
        "    ## 2 \n",
        "    loss = loss_fn(yhat,y) \n",
        "    ## 3\n",
        "    #loss.backward() \n",
        "    ## 4 \n",
        "    optimizr.step()\n",
        "    optimizr.zero_grad()\n",
        "t2 = time.time()\n",
        "t2 - t1 "
      ],
      "id": "8b321c6a-6e25-48b6-b4ae-8caca0b345c6"
    },
    {
      "cell_type": "markdown",
      "metadata": {},
      "source": [
        "***gpu*** (역전파주석처리)"
      ],
      "id": "7b26f99f-cbe3-444a-8cd8-62f9d9f36525"
    },
    {
      "cell_type": "code",
      "execution_count": null,
      "metadata": {},
      "outputs": [],
      "source": [
        "x = torch.randn([20000,4]).to(\"cuda:0\")\n",
        "y = torch.randn([20000,4]).to(\"cuda:0\")"
      ],
      "id": "147541e7-f167-4fd7-af97-5e1aa0cd8f1b"
    },
    {
      "cell_type": "code",
      "execution_count": null,
      "metadata": {},
      "outputs": [],
      "source": [
        "rnn = torch.nn.RNN(4,20).to(\"cuda:0\")\n",
        "linr = torch.nn.Linear(20,4).to(\"cuda:0\")\n",
        "optimizr = torch.optim.Adam(list(rnn.parameters())+list(linr.parameters()))\n",
        "loss_fn = torch.nn.MSELoss() "
      ],
      "id": "5c762990-9114-496b-9508-9fbbf9af4ba9"
    },
    {
      "cell_type": "code",
      "execution_count": null,
      "metadata": {
        "outputId": "e295787a-0940-435a-9604-66bad2bc393d"
      },
      "outputs": [],
      "source": [
        "t1 = time.time()\n",
        "for epoc in range(100):\n",
        "    ## 1 \n",
        "    _water = torch.zeros(1,20).to(\"cuda:0\")\n",
        "    hidden, hT = rnn(x,_water) \n",
        "    yhat = linr(hidden) \n",
        "    ## 2 \n",
        "    loss = loss_fn(yhat,y) \n",
        "    ## 3\n",
        "    #loss.backward() \n",
        "    ## 4 \n",
        "    optimizr.step()\n",
        "    optimizr.zero_grad()\n",
        "t2 = time.time()\n",
        "t2 - t1 "
      ],
      "id": "dd5dedb2-6a93-4158-9123-13f7593eab99"
    },
    {
      "cell_type": "markdown",
      "metadata": {},
      "source": [
        "## 2000 len + 20 hidden nodes\n",
        "\n",
        "***cpu***"
      ],
      "id": "d52cc2a3-18d8-4efa-b515-dcfdd276918a"
    },
    {
      "cell_type": "code",
      "execution_count": null,
      "metadata": {},
      "outputs": [],
      "source": [
        "x = torch.randn([2000,4]) \n",
        "y = torch.randn([2000,4]) "
      ],
      "id": "2d407adf-742d-4e3d-9173-cf1632d88284"
    },
    {
      "cell_type": "code",
      "execution_count": null,
      "metadata": {},
      "outputs": [],
      "source": [
        "rnn = torch.nn.RNN(4,20) \n",
        "linr = torch.nn.Linear(20,4) \n",
        "optimizr = torch.optim.Adam(list(rnn.parameters())+list(linr.parameters()))\n",
        "loss_fn = torch.nn.MSELoss() "
      ],
      "id": "7443b00a-aa9d-450e-bedc-112615b20bcf"
    },
    {
      "cell_type": "code",
      "execution_count": null,
      "metadata": {
        "outputId": "7413f288-aa4a-4c35-b1b4-d89a9c94df9f"
      },
      "outputs": [],
      "source": [
        "t1 = time.time()\n",
        "for epoc in range(100):\n",
        "    ## 1 \n",
        "    _water = torch.zeros(1,20)\n",
        "    hidden, hT = rnn(x,_water) \n",
        "    yhat = linr(hidden) \n",
        "    ## 2 \n",
        "    loss = loss_fn(yhat,y) \n",
        "    ## 3\n",
        "    loss.backward() \n",
        "    ## 4 \n",
        "    optimizr.step()\n",
        "    optimizr.zero_grad()\n",
        "t2 = time.time()\n",
        "t2 - t1 "
      ],
      "id": "19c4d305-8ee8-4ab9-9d0d-c11b55871b8b"
    },
    {
      "cell_type": "markdown",
      "metadata": {},
      "source": [
        "***gpu***"
      ],
      "id": "396f58fd-ad5c-4b74-9ca4-8ede35c23500"
    },
    {
      "cell_type": "code",
      "execution_count": null,
      "metadata": {},
      "outputs": [],
      "source": [
        "x = torch.randn([2000,4]).to(\"cuda:0\")\n",
        "y = torch.randn([2000,4]).to(\"cuda:0\")"
      ],
      "id": "1d6e1191-4e46-49ea-be00-9b2a94597b46"
    },
    {
      "cell_type": "code",
      "execution_count": null,
      "metadata": {},
      "outputs": [],
      "source": [
        "rnn = torch.nn.RNN(4,20).to(\"cuda:0\")\n",
        "linr = torch.nn.Linear(20,4).to(\"cuda:0\")\n",
        "optimizr = torch.optim.Adam(list(rnn.parameters())+list(linr.parameters()))\n",
        "loss_fn = torch.nn.MSELoss() "
      ],
      "id": "e14f4b6e-ca6a-4acc-b9e0-deb8dae73fca"
    },
    {
      "cell_type": "code",
      "execution_count": null,
      "metadata": {
        "outputId": "7dbca828-3e7e-4cd7-dbe6-7c3db7d25dff"
      },
      "outputs": [],
      "source": [
        "t1 = time.time()\n",
        "for epoc in range(100):\n",
        "    ## 1 \n",
        "    _water = torch.zeros(1,20).to(\"cuda:0\")\n",
        "    hidden, hT = rnn(x,_water) \n",
        "    yhat = linr(hidden) \n",
        "    ## 2 \n",
        "    loss = loss_fn(yhat,y) \n",
        "    ## 3\n",
        "    loss.backward() \n",
        "    ## 4 \n",
        "    optimizr.step()\n",
        "    optimizr.zero_grad()\n",
        "t2 = time.time()\n",
        "t2 - t1 "
      ],
      "id": "e6241bba-ff10-46d8-878c-1f36b72e1efa"
    },
    {
      "cell_type": "markdown",
      "metadata": {},
      "source": [
        "## 2000 len + 20 hidden nodes + 역전파주석처리\n",
        "\n",
        "***cpu***"
      ],
      "id": "83fa7626-000f-4f88-9b43-f787f4f1d716"
    },
    {
      "cell_type": "code",
      "execution_count": null,
      "metadata": {},
      "outputs": [],
      "source": [
        "x = torch.randn([2000,4]) \n",
        "y = torch.randn([2000,4]) "
      ],
      "id": "3525c566-0ad7-4b43-b8ce-e851e529ae06"
    },
    {
      "cell_type": "code",
      "execution_count": null,
      "metadata": {},
      "outputs": [],
      "source": [
        "rnn = torch.nn.RNN(4,20) \n",
        "linr = torch.nn.Linear(20,4) \n",
        "optimizr = torch.optim.Adam(list(rnn.parameters())+list(linr.parameters()))\n",
        "loss_fn = torch.nn.MSELoss() "
      ],
      "id": "47da22d8-e369-4d5f-9680-74ad76734f76"
    },
    {
      "cell_type": "code",
      "execution_count": null,
      "metadata": {
        "outputId": "9e4e031a-63cf-45ba-8463-814b58108e7b"
      },
      "outputs": [],
      "source": [
        "t1 = time.time()\n",
        "for epoc in range(100):\n",
        "    ## 1 \n",
        "    _water = torch.zeros(1,20)\n",
        "    hidden, hT = rnn(x,_water) \n",
        "    yhat = linr(hidden) \n",
        "    ## 2 \n",
        "    loss = loss_fn(yhat,y) \n",
        "    ## 3\n",
        "    #loss.backward() \n",
        "    ## 4 \n",
        "    optimizr.step()\n",
        "    optimizr.zero_grad()\n",
        "t2 = time.time()\n",
        "t2 - t1 "
      ],
      "id": "774d1d8d-1a3d-49ea-9b8a-49ea026c1a30"
    },
    {
      "cell_type": "markdown",
      "metadata": {},
      "source": [
        "***gpu***"
      ],
      "id": "fcf2d56b-ce2f-4e86-85c1-b840d958d912"
    },
    {
      "cell_type": "code",
      "execution_count": null,
      "metadata": {},
      "outputs": [],
      "source": [
        "x = torch.randn([2000,4]).to(\"cuda:0\")\n",
        "y = torch.randn([2000,4]).to(\"cuda:0\")"
      ],
      "id": "22bdbd8a-b434-493a-a98d-6b2af96a8bc6"
    },
    {
      "cell_type": "code",
      "execution_count": null,
      "metadata": {},
      "outputs": [],
      "source": [
        "rnn = torch.nn.RNN(4,20).to(\"cuda:0\")\n",
        "linr = torch.nn.Linear(20,4).to(\"cuda:0\")\n",
        "optimizr = torch.optim.Adam(list(rnn.parameters())+list(linr.parameters()))\n",
        "loss_fn = torch.nn.MSELoss() "
      ],
      "id": "a6d6daa9-3c71-4179-b9c1-4420fc2de7c1"
    },
    {
      "cell_type": "code",
      "execution_count": null,
      "metadata": {
        "outputId": "259149e5-01a2-4c13-a99c-da060fe63b7e"
      },
      "outputs": [],
      "source": [
        "t1 = time.time()\n",
        "for epoc in range(100):\n",
        "    ## 1 \n",
        "    _water = torch.zeros(1,20).to(\"cuda:0\")\n",
        "    hidden, hT = rnn(x,_water) \n",
        "    yhat = linr(hidden) \n",
        "    ## 2 \n",
        "    loss = loss_fn(yhat,y) \n",
        "    ## 3\n",
        "    #loss.backward() \n",
        "    ## 4 \n",
        "    optimizr.step()\n",
        "    optimizr.zero_grad()\n",
        "t2 = time.time()\n",
        "t2 - t1 "
      ],
      "id": "edb9dc49-ba63-4bc0-aad5-19a6cde24784"
    },
    {
      "cell_type": "markdown",
      "metadata": {},
      "source": [
        "## 2000 len + 5000 hidden nodes\n",
        "\n",
        "***cpu***"
      ],
      "id": "30552b4f-5635-4af0-b076-c0cf8c62c491"
    },
    {
      "cell_type": "code",
      "execution_count": null,
      "metadata": {},
      "outputs": [],
      "source": [
        "x = torch.randn([2000,4]) \n",
        "y = torch.randn([2000,4]) "
      ],
      "id": "c994fa99-73c5-4f2e-a4d1-8a9a0a73bc2d"
    },
    {
      "cell_type": "code",
      "execution_count": null,
      "metadata": {},
      "outputs": [],
      "source": [
        "rnn = torch.nn.RNN(4,1000) \n",
        "linr = torch.nn.Linear(1000,4) \n",
        "optimizr = torch.optim.Adam(list(rnn.parameters())+list(linr.parameters()))\n",
        "loss_fn = torch.nn.MSELoss() "
      ],
      "id": "1aac74c9-624b-4287-8492-62ca4f943740"
    },
    {
      "cell_type": "code",
      "execution_count": null,
      "metadata": {
        "outputId": "ebc9e156-d055-489f-8d39-d9170ff204a0"
      },
      "outputs": [],
      "source": [
        "t1 = time.time()\n",
        "for epoc in range(100):\n",
        "    ## 1 \n",
        "    _water = torch.zeros(1,1000)\n",
        "    hidden, hT = rnn(x,_water) \n",
        "    yhat = linr(hidden) \n",
        "    ## 2 \n",
        "    loss = loss_fn(yhat,y) \n",
        "    ## 3\n",
        "    loss.backward() \n",
        "    ## 4 \n",
        "    optimizr.step()\n",
        "    optimizr.zero_grad()\n",
        "t2 = time.time()\n",
        "t2 - t1 "
      ],
      "id": "ecf8ef0b-7aae-4e5b-bc39-3a2b5368b802"
    },
    {
      "cell_type": "markdown",
      "metadata": {},
      "source": [
        "***gpu***"
      ],
      "id": "e5498f08-c1f9-4a9c-b5f8-89c56cc6e5a6"
    },
    {
      "cell_type": "code",
      "execution_count": null,
      "metadata": {},
      "outputs": [],
      "source": [
        "x = torch.randn([2000,4]).to(\"cuda:0\")\n",
        "y = torch.randn([2000,4]).to(\"cuda:0\")"
      ],
      "id": "b7f66f68-7dfc-422b-8051-a565a697a78e"
    },
    {
      "cell_type": "code",
      "execution_count": null,
      "metadata": {},
      "outputs": [],
      "source": [
        "rnn = torch.nn.RNN(4,1000).to(\"cuda:0\")\n",
        "linr = torch.nn.Linear(1000,4).to(\"cuda:0\")\n",
        "optimizr = torch.optim.Adam(list(rnn.parameters())+list(linr.parameters()))\n",
        "loss_fn = torch.nn.MSELoss() "
      ],
      "id": "a06d413a-9dac-4cb9-abdd-6e8a1f3880b5"
    },
    {
      "cell_type": "code",
      "execution_count": null,
      "metadata": {
        "outputId": "1f90ebb8-38ea-4058-962f-dadef18b9fcf"
      },
      "outputs": [],
      "source": [
        "t1 = time.time()\n",
        "for epoc in range(100):\n",
        "    ## 1 \n",
        "    _water = torch.zeros(1,1000).to(\"cuda:0\")\n",
        "    hidden, hT = rnn(x,_water) \n",
        "    yhat = linr(hidden) \n",
        "    ## 2 \n",
        "    loss = loss_fn(yhat,y) \n",
        "    ## 3\n",
        "    loss.backward() \n",
        "    ## 4 \n",
        "    optimizr.step()\n",
        "    optimizr.zero_grad()\n",
        "t2 = time.time()\n",
        "t2 - t1 "
      ],
      "id": "1ef5cc24-a4a5-496a-857b-5dfe1907aa78"
    },
    {
      "cell_type": "markdown",
      "metadata": {},
      "source": [
        "## 2000 len + 5000 hidden nodes + 역전파주석처리\n",
        "\n",
        "***cpu***"
      ],
      "id": "98db1bb3-65ec-4eb3-b0f2-2da96e32beb2"
    },
    {
      "cell_type": "code",
      "execution_count": null,
      "metadata": {},
      "outputs": [],
      "source": [
        "x = torch.randn([2000,4]) \n",
        "y = torch.randn([2000,4]) "
      ],
      "id": "e40ca082-3d35-40a9-9bbb-6c03630b2825"
    },
    {
      "cell_type": "code",
      "execution_count": null,
      "metadata": {},
      "outputs": [],
      "source": [
        "rnn = torch.nn.RNN(4,1000) \n",
        "linr = torch.nn.Linear(1000,4) \n",
        "optimizr = torch.optim.Adam(list(rnn.parameters())+list(linr.parameters()))\n",
        "loss_fn = torch.nn.MSELoss() "
      ],
      "id": "01165127-d221-4455-a297-0123b406cf39"
    },
    {
      "cell_type": "code",
      "execution_count": null,
      "metadata": {
        "outputId": "b973b4f8-3869-4c0a-df40-38e6e0d408bd"
      },
      "outputs": [],
      "source": [
        "t1 = time.time()\n",
        "for epoc in range(100):\n",
        "    ## 1 \n",
        "    _water = torch.zeros(1,1000)\n",
        "    hidden, hT = rnn(x,_water) \n",
        "    yhat = linr(hidden) \n",
        "    ## 2 \n",
        "    loss = loss_fn(yhat,y) \n",
        "    ## 3\n",
        "    #loss.backward() \n",
        "    ## 4 \n",
        "    optimizr.step()\n",
        "    optimizr.zero_grad()\n",
        "t2 = time.time()\n",
        "t2 - t1 "
      ],
      "id": "ef68ecb1-8802-46dc-b5dd-c82407af2ec3"
    },
    {
      "cell_type": "markdown",
      "metadata": {},
      "source": [
        "***gpu***"
      ],
      "id": "63c99989-9bcb-4df7-853c-79a435cbd5f3"
    },
    {
      "cell_type": "code",
      "execution_count": null,
      "metadata": {},
      "outputs": [],
      "source": [
        "x = torch.randn([2000,4]).to(\"cuda:0\")\n",
        "y = torch.randn([2000,4]).to(\"cuda:0\")"
      ],
      "id": "f3b98eb0-d3da-4e26-8b21-a1af3280c9c9"
    },
    {
      "cell_type": "code",
      "execution_count": null,
      "metadata": {},
      "outputs": [],
      "source": [
        "rnn = torch.nn.RNN(4,1000).to(\"cuda:0\")\n",
        "linr = torch.nn.Linear(1000,4).to(\"cuda:0\")\n",
        "optimizr = torch.optim.Adam(list(rnn.parameters())+list(linr.parameters()))\n",
        "loss_fn = torch.nn.MSELoss() "
      ],
      "id": "12ac0d6a-7ab5-43d9-b11b-3f4088385fbe"
    },
    {
      "cell_type": "code",
      "execution_count": null,
      "metadata": {
        "outputId": "8714e3a8-f9f7-4dec-a6cd-d253b14601ca"
      },
      "outputs": [],
      "source": [
        "t1 = time.time()\n",
        "for epoc in range(100):\n",
        "    ## 1 \n",
        "    _water = torch.zeros(1,1000).to(\"cuda:0\")\n",
        "    hidden, hT = rnn(x,_water) \n",
        "    yhat = linr(hidden) \n",
        "    ## 2 \n",
        "    loss = loss_fn(yhat,y) \n",
        "    ## 3\n",
        "    #loss.backward() \n",
        "    ## 4 \n",
        "    optimizr.step()\n",
        "    optimizr.zero_grad()\n",
        "t2 = time.time()\n",
        "t2 - t1 "
      ],
      "id": "e3885504-99fc-47af-9f62-68d9f41295f1"
    },
    {
      "cell_type": "markdown",
      "metadata": {},
      "source": [
        "## 실험결과 요약\n",
        "\n",
        "|  len  | \\# of hidden nodes | backward |  cpu  | gpu  | ratio |\n",
        "|:-----:|:------------------:|:--------:|:-----:|:----:|:-----:|\n",
        "| 20000 |         20         |    O     | 93.02 | 3.26 | 28.53 |\n",
        "| 20000 |         20         |    X     | 18.85 | 1.29 | 14.61 |\n",
        "| 2000  |         20         |    O     | 6.53  | 0.75 | 8.70  |\n",
        "| 2000  |         20         |    X     | 1.25  | 0.14 | 8.93  |\n",
        "| 2000  |        1000        |    O     | 58.99 | 4.75 | 12.41 |\n",
        "| 2000  |        1000        |    X     | 13.16 | 2.29 | 5.74  |\n",
        "\n",
        "# Exam5: abcabC\n",
        "\n",
        "## data"
      ],
      "id": "1ac769ab-4faa-4ac5-a53b-b8f6f25190d8"
    },
    {
      "cell_type": "code",
      "execution_count": null,
      "metadata": {
        "outputId": "00e84d15-c33c-498f-9ec9-5e0938c2b3c9"
      },
      "outputs": [],
      "source": [
        "txt = list('abcabC')*100\n",
        "txt[:8]"
      ],
      "id": "6a480dbf-ebb1-4d52-aa20-e2890b8567d5"
    },
    {
      "cell_type": "code",
      "execution_count": null,
      "metadata": {},
      "outputs": [],
      "source": [
        "txt_x = txt[:-1] \n",
        "txt_y = txt[1:]"
      ],
      "id": "6ae31cde-c409-4428-8fae-1c280617e84c"
    },
    {
      "cell_type": "code",
      "execution_count": null,
      "metadata": {},
      "outputs": [],
      "source": [
        "mapping = {'a':0,'b':1,'c':2,'C':3} \n",
        "x= torch.nn.functional.one_hot(torch.tensor(f(txt_x,mapping))).float()\n",
        "y= torch.nn.functional.one_hot(torch.tensor(f(txt_y,mapping))).float()"
      ],
      "id": "96a4fc28-0579-4851-823f-a44a0e4809e8"
    },
    {
      "cell_type": "code",
      "execution_count": null,
      "metadata": {},
      "outputs": [],
      "source": [
        "x = x.to(\"cuda:0\")\n",
        "y = y.to(\"cuda:0\") "
      ],
      "id": "1bcf35b4-346b-4b82-b066-736286443324"
    },
    {
      "cell_type": "code",
      "execution_count": null,
      "metadata": {
        "outputId": "81dab96a-0a62-49b5-f2fd-4ce6aa90d10a"
      },
      "outputs": [],
      "source": [
        "x.shape"
      ],
      "id": "7b1123b7-dc13-48f5-a85d-67fa27da8eb5"
    },
    {
      "cell_type": "markdown",
      "metadata": {},
      "source": [
        "a1, b1, c, a2, b2, C - 보이는 문자수가 a,b,c,C 이므로 4개 - 문맥까지\n",
        "고려하면 6개(a1, a2와 같이,.)\n",
        "\n",
        "## RNN"
      ],
      "id": "d40df05e-33e8-4c48-b365-9fbbab3e34bb"
    },
    {
      "cell_type": "code",
      "execution_count": null,
      "metadata": {},
      "outputs": [],
      "source": [
        "torch.manual_seed(43052) \n",
        "rnn = torch.nn.RNN(4,3)    # 문맥의 차이 고려가 힘드니까 히든레이어를 3개 정도는 있어야 문맥에 따른걸 생각할 수 있을 거 같다!  \n",
        "linr = torch.nn.Linear(3,4) \n",
        "loss_fn = torch.nn.CrossEntropyLoss()\n",
        "optimizr = torch.optim.Adam(list(rnn.parameters())+ list(linr.parameters()))"
      ],
      "id": "cec0314b-6a56-408c-b11f-88ef07dfb831"
    },
    {
      "cell_type": "code",
      "execution_count": null,
      "metadata": {
        "outputId": "fbfec9ca-5da0-4ce0-b4ed-da66aa276913"
      },
      "outputs": [],
      "source": [
        "rnn.to(\"cuda:0\") \n",
        "linr.to(\"cuda:0\")"
      ],
      "id": "5059f17e-e717-4c86-bb0c-6b53f1fc538d"
    },
    {
      "cell_type": "markdown",
      "metadata": {},
      "source": [
        "`-` 3000 epochs"
      ],
      "id": "00ebb897-9c26-47c7-beaa-a7811cf21ae9"
    },
    {
      "cell_type": "code",
      "execution_count": null,
      "metadata": {},
      "outputs": [],
      "source": [
        "for epoc in range(3000):\n",
        "    ## 1 \n",
        "    _water = torch.zeros(1,3).to(\"cuda:0\")\n",
        "    hidden, hT = rnn(x,_water)\n",
        "    output = linr(hidden) \n",
        "    ## 2 \n",
        "    loss = loss_fn(output,y) \n",
        "    ## 3 \n",
        "    loss.backward()\n",
        "    ## 4 \n",
        "    optimizr.step()\n",
        "    optimizr.zero_grad()"
      ],
      "id": "3d9bb188-5ab6-42e9-a5e2-f87fa485d054"
    },
    {
      "cell_type": "code",
      "execution_count": null,
      "metadata": {},
      "outputs": [],
      "source": [
        "yhat = soft(output)\n",
        "combinded  = torch.concat([hidden,yhat],axis=1).data.to(\"cpu\")"
      ],
      "id": "4ef1f6c0-05f6-4af0-bbd0-f4d9ba637e59"
    },
    {
      "cell_type": "code",
      "execution_count": null,
      "metadata": {
        "outputId": "ebe55aa1-2c26-4ab5-9f75-44aaf829bfb2"
      },
      "outputs": [
        {
          "output_type": "display_data",
          "metadata": {},
          "data": {
            "image/png": "[encoded data removed]"
          }
        }
      ],
      "source": [
        "plt.matshow(combinded[-6:],cmap='bwr')"
      ],
      "id": "6cb508f4-1e36-4300-b96e-bbfa06f80486"
    },
    {
      "cell_type": "markdown",
      "metadata": {},
      "source": [
        "`-` 6000 epochs"
      ],
      "id": "201cf32a-90e9-4465-b5a3-50161bd2dcfa"
    },
    {
      "cell_type": "code",
      "execution_count": null,
      "metadata": {},
      "outputs": [],
      "source": [
        "for epoc in range(3000):\n",
        "    ## 1 \n",
        "    _water = torch.zeros(1,3).to(\"cuda:0\")\n",
        "    hidden, hT = rnn(x,_water)\n",
        "    output = linr(hidden) \n",
        "    ## 2 \n",
        "    loss = loss_fn(output,y) \n",
        "    ## 3 \n",
        "    loss.backward()\n",
        "    ## 4 \n",
        "    optimizr.step()\n",
        "    optimizr.zero_grad()"
      ],
      "id": "1cbb8179-7b22-40c9-8f09-d6aafc82cbe3"
    },
    {
      "cell_type": "code",
      "execution_count": null,
      "metadata": {},
      "outputs": [],
      "source": [
        "yhat = soft(output)\n",
        "combinded  = torch.concat([hidden,yhat],axis=1).data.to(\"cpu\")"
      ],
      "id": "4fe809a4-5d4c-4eb5-a570-acae816596aa"
    },
    {
      "cell_type": "code",
      "execution_count": null,
      "metadata": {
        "outputId": "c4554760-8e45-4ae5-ffae-c665aa0175b1"
      },
      "outputs": [
        {
          "output_type": "display_data",
          "metadata": {},
          "data": {
            "image/png": "[encoded data removed]"
          }
        }
      ],
      "source": [
        "plt.matshow(combinded[-6:],cmap='bwr')"
      ],
      "id": "2c128df9-9ee9-4c0e-85e4-6492a8fa7a82"
    },
    {
      "cell_type": "markdown",
      "metadata": {},
      "source": [
        "`-` 9000 epochs"
      ],
      "id": "09a95a75-54a0-472b-9e18-6c6c458bf357"
    },
    {
      "cell_type": "code",
      "execution_count": null,
      "metadata": {},
      "outputs": [],
      "source": [
        "for epoc in range(3000):\n",
        "    ## 1 \n",
        "    _water = torch.zeros(1,3).to(\"cuda:0\")\n",
        "    hidden, hT = rnn(x,_water)\n",
        "    output = linr(hidden) \n",
        "    ## 2 \n",
        "    loss = loss_fn(output,y) \n",
        "    ## 3 \n",
        "    loss.backward()\n",
        "    ## 4 \n",
        "    optimizr.step()\n",
        "    optimizr.zero_grad()"
      ],
      "id": "a7d78b0b-a199-42c5-a9a6-320f2e72efb2"
    },
    {
      "cell_type": "code",
      "execution_count": null,
      "metadata": {},
      "outputs": [],
      "source": [
        "yhat = soft(output)\n",
        "combinded  = torch.concat([hidden,yhat],axis=1).data.to(\"cpu\")"
      ],
      "id": "8d02fa77-21b9-4f57-8b72-a3080e3fe0ff"
    },
    {
      "cell_type": "code",
      "execution_count": null,
      "metadata": {
        "outputId": "caf20219-7119-4839-b962-5fae122295d7"
      },
      "outputs": [
        {
          "output_type": "display_data",
          "metadata": {},
          "data": {
            "image/png": "[encoded data removed]"
          }
        }
      ],
      "source": [
        "plt.matshow(combinded[-6:],cmap='bwr')"
      ],
      "id": "82a11798-fa16-4ee6-93a3-41937ac5b089"
    },
    {
      "cell_type": "markdown",
      "metadata": {},
      "source": [
        "`-` 12000 epochs"
      ],
      "id": "6b873f45-ad0c-4590-a6b7-244ca3470148"
    },
    {
      "cell_type": "code",
      "execution_count": null,
      "metadata": {},
      "outputs": [],
      "source": [
        "for epoc in range(3000):\n",
        "    ## 1 \n",
        "    _water = torch.zeros(1,3).to(\"cuda:0\")\n",
        "    hidden, hT = rnn(x,_water)\n",
        "    output = linr(hidden) \n",
        "    ## 2 \n",
        "    loss = loss_fn(output,y) \n",
        "    ## 3 \n",
        "    loss.backward()\n",
        "    ## 4 \n",
        "    optimizr.step()\n",
        "    optimizr.zero_grad()"
      ],
      "id": "ffd832b0-0bcb-45c2-95b6-2603a1ffa63c"
    },
    {
      "cell_type": "code",
      "execution_count": null,
      "metadata": {},
      "outputs": [],
      "source": [
        "yhat = soft(output)\n",
        "combinded  = torch.concat([hidden,yhat],axis=1).data.to(\"cpu\")"
      ],
      "id": "0ed46f48-1c2d-43fb-9590-b34866a7a635"
    },
    {
      "cell_type": "code",
      "execution_count": null,
      "metadata": {
        "outputId": "bee2c534-c1bc-4026-f23e-c0fe5e9ddee9"
      },
      "outputs": [
        {
          "output_type": "display_data",
          "metadata": {},
          "data": {
            "image/png": "[encoded data removed]"
          }
        }
      ],
      "source": [
        "plt.matshow(combinded[-6:],cmap='bwr')"
      ],
      "id": "7a806190-325d-4acd-9501-1ef36df9fc5b"
    },
    {
      "cell_type": "markdown",
      "metadata": {},
      "source": [
        "`-` 15000 epochs"
      ],
      "id": "ed5a9720-19d7-4946-993d-1185cb733de4"
    },
    {
      "cell_type": "code",
      "execution_count": null,
      "metadata": {},
      "outputs": [],
      "source": [
        "for epoc in range(3000):\n",
        "    ## 1 \n",
        "    _water = torch.zeros(1,3).to(\"cuda:0\")\n",
        "    hidden, hT = rnn(x,_water)\n",
        "    output = linr(hidden) \n",
        "    ## 2 \n",
        "    loss = loss_fn(output,y) \n",
        "    ## 3 \n",
        "    loss.backward()\n",
        "    ## 4 \n",
        "    optimizr.step()\n",
        "    optimizr.zero_grad()"
      ],
      "id": "f7d84ebb-8a0e-45d6-b0f1-3a74902cc441"
    },
    {
      "cell_type": "code",
      "execution_count": null,
      "metadata": {},
      "outputs": [],
      "source": [
        "yhat = soft(output)\n",
        "combinded  = torch.concat([hidden,yhat],axis=1).data.to(\"cpu\")"
      ],
      "id": "3089374c-5aa3-42d4-b7eb-2c846a90bc8f"
    },
    {
      "cell_type": "code",
      "execution_count": null,
      "metadata": {
        "outputId": "8d4d4c30-cdd3-44c0-8a50-23818269ddfa"
      },
      "outputs": [
        {
          "output_type": "display_data",
          "metadata": {},
          "data": {
            "image/png": "[encoded data removed]"
          }
        }
      ],
      "source": [
        "plt.matshow(combinded[-6:],cmap='bwr')"
      ],
      "id": "80862486-8405-49ba-9f5d-c85aa8ba8eaa"
    },
    {
      "cell_type": "markdown",
      "metadata": {},
      "source": [
        "## LSTM\n",
        "\n",
        "`-` LSTM"
      ],
      "id": "c65dd4f1-ae9b-4301-80e8-d6e7ab79f15e"
    },
    {
      "cell_type": "code",
      "execution_count": null,
      "metadata": {},
      "outputs": [],
      "source": [
        "torch.manual_seed(43052) \n",
        "lstm = torch.nn.LSTM(4,3) #RNN->lstm\n",
        "linr = torch.nn.Linear(3,4) \n",
        "loss_fn = torch.nn.CrossEntropyLoss()\n",
        "optimizr = torch.optim.Adam(list(lstm.parameters())+ list(linr.parameters()))"
      ],
      "id": "f8eab5d8-310e-46b5-84f1-0ce6ab9c6ea7"
    },
    {
      "cell_type": "code",
      "execution_count": null,
      "metadata": {
        "outputId": "a5aba050-0df1-4b40-8c4c-f3bcf040abb1"
      },
      "outputs": [],
      "source": [
        "lstm.to(\"cuda:0\") \n",
        "linr.to(\"cuda:0\")"
      ],
      "id": "62a30416-d6bd-4a2c-9ae5-ecc094e17a2c"
    },
    {
      "cell_type": "markdown",
      "metadata": {},
      "source": [
        "`-` 3000 epochs"
      ],
      "id": "521b0e29-9ab7-4973-9449-4af13ddbc474"
    },
    {
      "cell_type": "code",
      "execution_count": null,
      "metadata": {},
      "outputs": [],
      "source": [
        "for epoc in range(3000):\n",
        "    ## 1 \n",
        "    _water = torch.zeros(1,3).to(\"cuda:0\")\n",
        "    hidden, (hT,cT) = lstm(x,(_water,_water))   # lstm은 물을 두개 넣어줘야 하고 hT랑 cT랑이 나온다..\n",
        "    output = linr(hidden) \n",
        "    ## 2 \n",
        "    loss = loss_fn(output,y) \n",
        "    ## 3 \n",
        "    loss.backward()\n",
        "    ## 4 \n",
        "    optimizr.step()\n",
        "    optimizr.zero_grad()"
      ],
      "id": "96599c52-6c3a-4b2e-9bf4-b37049cdab9b"
    },
    {
      "cell_type": "code",
      "execution_count": null,
      "metadata": {},
      "outputs": [],
      "source": [
        "yhat = soft(output)\n",
        "combinded  = torch.concat([hidden,yhat],axis=1).data.to(\"cpu\")"
      ],
      "id": "aa80ace3-11aa-40aa-871e-ede03f087731"
    },
    {
      "cell_type": "code",
      "execution_count": null,
      "metadata": {
        "outputId": "5afb05d4-1f5d-4029-ab4b-0a737e5d1cbd"
      },
      "outputs": [
        {
          "output_type": "display_data",
          "metadata": {},
          "data": {
            "image/png": "[encoded data removed]"
          }
        }
      ],
      "source": [
        "plt.matshow(combinded[-6:],cmap='bwr',vmin=-1,vmax=1)"
      ],
      "id": "fa207fdf-91fe-45a1-a550-1eef16af10c2"
    },
    {
      "cell_type": "markdown",
      "metadata": {},
      "source": [
        "`-` 6000 epochs"
      ],
      "id": "5670b95d-22f5-4009-93a7-b35301359365"
    },
    {
      "cell_type": "code",
      "execution_count": null,
      "metadata": {},
      "outputs": [],
      "source": [
        "for epoc in range(3000):\n",
        "    ## 1 \n",
        "    _water = torch.zeros(1,3).to(\"cuda:0\")\n",
        "    hidden, (hT,cT) = lstm(x,(_water,_water))\n",
        "    output = linr(hidden) \n",
        "    ## 2 \n",
        "    loss = loss_fn(output,y) \n",
        "    ## 3 \n",
        "    loss.backward()\n",
        "    ## 4 \n",
        "    optimizr.step()\n",
        "    optimizr.zero_grad()"
      ],
      "id": "0d42d3bd-f5bb-4ac5-bf7d-7559252b9e93"
    },
    {
      "cell_type": "code",
      "execution_count": null,
      "metadata": {},
      "outputs": [],
      "source": [
        "yhat = soft(output)\n",
        "combinded  = torch.concat([hidden,yhat],axis=1).data.to(\"cpu\")"
      ],
      "id": "aed4b075-afad-4b28-8512-a62a0f6805a1"
    },
    {
      "cell_type": "code",
      "execution_count": null,
      "metadata": {
        "outputId": "1e3a2571-084e-4186-e8de-d7f667927ad8"
      },
      "outputs": [
        {
          "output_type": "display_data",
          "metadata": {},
          "data": {
            "image/png": "[encoded data removed]"
          }
        }
      ],
      "source": [
        "plt.matshow(combinded[-6:],cmap='bwr',vmin=-1,vmax=1)"
      ],
      "id": "2ab9dd13-19b6-407d-8552-27fdce5f9504"
    },
    {
      "cell_type": "markdown",
      "metadata": {},
      "source": [
        "## RNN vs LSTM 성능비교실험\n",
        "\n",
        "`-` RNN"
      ],
      "id": "0aacabfc-c518-47bf-9d5d-65d65902171e"
    },
    {
      "cell_type": "code",
      "execution_count": null,
      "metadata": {
        "outputId": "9ffc75d5-c48e-4df8-9e1f-550e394efc52"
      },
      "outputs": [
        {
          "output_type": "display_data",
          "metadata": {},
          "data": {
            "image/png": "[encoded data removed]"
          }
        }
      ],
      "source": [
        "fig, ax = plt.subplots(5,5,figsize=(10,10))\n",
        "for i in range(5):\n",
        "    for j in range(5):\n",
        "        rnn = torch.nn.RNN(4,3).to(\"cuda:0\")\n",
        "        linr = torch.nn.Linear(3,4).to(\"cuda:0\")\n",
        "        loss_fn = torch.nn.CrossEntropyLoss()\n",
        "        optimizr = torch.optim.Adam(list(rnn.parameters())+list(linr.parameters()),lr=0.1)\n",
        "        _water = torch.zeros(1,3).to(\"cuda:0\")\n",
        "        for epoc in range(3000):\n",
        "            ## 1\n",
        "            hidden, hT = rnn(x,_water)\n",
        "            output = linr(hidden)\n",
        "            ## 2\n",
        "            loss = loss_fn(output,y)\n",
        "            ## 3\n",
        "            loss.backward()\n",
        "            ## 4 \n",
        "            optimizr.step()\n",
        "            optimizr.zero_grad()\n",
        "        yhat=soft(output)    \n",
        "        combind = torch.concat([hidden,yhat],axis=1)\n",
        "        ax[i][j].matshow(combind.to(\"cpu\").data[-6:],cmap='bwr',vmin=-1,vmax=1)\n",
        "fig.suptitle(r\"$RNN$\",size=20)\n",
        "fig.tight_layout()"
      ],
      "id": "741ff270-be56-400d-b5e4-83aa6282acd9"
    },
    {
      "cell_type": "markdown",
      "metadata": {},
      "source": [
        "`-` LSTM"
      ],
      "id": "c521230a-af2a-41dc-b45d-919b0597c863"
    },
    {
      "cell_type": "code",
      "execution_count": null,
      "metadata": {
        "outputId": "3509e03c-82fc-4ace-b2fa-b22f8f458c41"
      },
      "outputs": [
        {
          "output_type": "display_data",
          "metadata": {},
          "data": {
            "image/png": "[encoded data removed]"
          }
        }
      ],
      "source": [
        "fig, ax = plt.subplots(5,5,figsize=(10,10))\n",
        "for i in range(5):\n",
        "    for j in range(5):\n",
        "        lstm = torch.nn.LSTM(4,3).to(\"cuda:0\")\n",
        "        linr = torch.nn.Linear(3,4).to(\"cuda:0\")\n",
        "        loss_fn = torch.nn.CrossEntropyLoss()\n",
        "        optimizr = torch.optim.Adam(list(lstm.parameters())+list(linr.parameters()),lr=0.1)\n",
        "        _water = torch.zeros(1,3).to(\"cuda:0\")\n",
        "        for epoc in range(3000):\n",
        "            ## 1\n",
        "            hidden, (hT,cT) = lstm(x,(_water,_water))\n",
        "            output = linr(hidden)\n",
        "            ## 2\n",
        "            loss = loss_fn(output,y)\n",
        "            ## 3\n",
        "            loss.backward()\n",
        "            ## 4 \n",
        "            optimizr.step()\n",
        "            optimizr.zero_grad()\n",
        "        yhat=soft(output)    \n",
        "        combind = torch.concat([hidden,yhat],axis=1)\n",
        "        ax[i][j].matshow(combind.to(\"cpu\").data[-6:],cmap='bwr',vmin=-1,vmax=1)\n",
        "fig.suptitle(r\"$LSTM$\",size=20)\n",
        "fig.tight_layout()"
      ],
      "id": "d909cf43-c949-40ab-ae54-dab63cfcec60"
    },
    {
      "cell_type": "markdown",
      "metadata": {},
      "source": [
        "# Exam6: abcdabcD\n",
        "\n",
        "## data"
      ],
      "id": "8ca4e144-e5db-4b96-885b-d8e91b41e6c4"
    },
    {
      "cell_type": "code",
      "execution_count": null,
      "metadata": {
        "outputId": "29183a2b-3770-461b-ea57-8b18b2f3b763"
      },
      "outputs": [],
      "source": [
        "txt = list('abcdabcD')*100\n",
        "txt[:8]"
      ],
      "id": "69d6b468-bfea-4a61-b6cc-34dcabc97184"
    },
    {
      "cell_type": "code",
      "execution_count": null,
      "metadata": {},
      "outputs": [],
      "source": [
        "txt_x = txt[:-1]\n",
        "txt_y = txt[1:]"
      ],
      "id": "bc893a67-a21a-439e-adc1-c3be5fb384e9"
    },
    {
      "cell_type": "code",
      "execution_count": null,
      "metadata": {},
      "outputs": [],
      "source": [
        "mapping = {'a':0, 'b':1, 'c':2, 'd':3, 'D':4}\n",
        "x = torch.nn.functional.one_hot(torch.tensor(f(txt_x,mapping))).float()\n",
        "y = torch.nn.functional.one_hot(torch.tensor(f(txt_y,mapping))).float()"
      ],
      "id": "6ba613cd-e0ff-4d80-b984-8a323869b0fe"
    },
    {
      "cell_type": "code",
      "execution_count": null,
      "metadata": {},
      "outputs": [],
      "source": [
        "x=x.to(\"cuda:0\")\n",
        "y=y.to(\"cuda:0\")"
      ],
      "id": "c7daadce-c0b4-49c4-bfa2-b3dd018c11b5"
    },
    {
      "cell_type": "markdown",
      "metadata": {},
      "source": [
        "## RNN vs LSTM 성능비교실험\n",
        "\n",
        "`-` RNN"
      ],
      "id": "bdc1fc7b-5bc4-4714-b4e8-dac682523cd2"
    },
    {
      "cell_type": "code",
      "execution_count": null,
      "metadata": {
        "outputId": "657b94fb-3e12-408b-ef95-5a4d8c4af714"
      },
      "outputs": [
        {
          "output_type": "display_data",
          "metadata": {},
          "data": {
            "image/png": "[encoded data removed]"
          }
        }
      ],
      "source": [
        "fig, ax = plt.subplots(5,5,figsize=(10,10))\n",
        "for i in range(5):\n",
        "    for j in range(5):\n",
        "        rnn = torch.nn.RNN(5,4).to(\"cuda:0\")\n",
        "        linr = torch.nn.Linear(4,5).to(\"cuda:0\")\n",
        "        loss_fn = torch.nn.CrossEntropyLoss()\n",
        "        optimizr = torch.optim.Adam(list(rnn.parameters())+list(linr.parameters()),lr=0.1)\n",
        "        _water = torch.zeros(1,4).to(\"cuda:0\")\n",
        "        for epoc in range(3000):\n",
        "            ## 1\n",
        "            hidden, hT = rnn(x,_water)\n",
        "            output = linr(hidden)\n",
        "            ## 2\n",
        "            loss = loss_fn(output,y)\n",
        "            ## 3\n",
        "            loss.backward()\n",
        "            ## 4 \n",
        "            optimizr.step()\n",
        "            optimizr.zero_grad()\n",
        "        yhat=soft(output)    \n",
        "        combind = torch.concat([hidden,yhat],axis=1)\n",
        "        ax[i][j].matshow(combind.to(\"cpu\").data[-8:],cmap='bwr',vmin=-1,vmax=1)\n",
        "fig.suptitle(r\"$RNN$\",size=20)\n",
        "fig.tight_layout()"
      ],
      "id": "43c39ddb-3eeb-41a7-b8dd-5d51c75783bf"
    },
    {
      "cell_type": "markdown",
      "metadata": {},
      "source": [
        "`-` LSTM"
      ],
      "id": "df6c3beb-2f76-4238-9aa9-0b9ccf3d655d"
    },
    {
      "cell_type": "code",
      "execution_count": null,
      "metadata": {
        "outputId": "e83b18c1-e08d-4040-d405-fedc643d177b"
      },
      "outputs": [
        {
          "output_type": "display_data",
          "metadata": {},
          "data": {
            "image/png": "[encoded data removed]"
          }
        }
      ],
      "source": [
        "fig, ax = plt.subplots(5,5,figsize=(10,10))\n",
        "for i in range(5):\n",
        "    for j in range(5):\n",
        "        lstm = torch.nn.LSTM(5,4).to(\"cuda:0\")\n",
        "        linr = torch.nn.Linear(4,5).to(\"cuda:0\")\n",
        "        loss_fn = torch.nn.CrossEntropyLoss()\n",
        "        optimizr = torch.optim.Adam(list(lstm.parameters())+list(linr.parameters()),lr=0.1)\n",
        "        _water = torch.zeros(1,4).to(\"cuda:0\")\n",
        "        for epoc in range(3000):\n",
        "            ## 1\n",
        "            hidden, (hT,cT) = lstm(x,(_water,_water))\n",
        "            output = linr(hidden)\n",
        "            ## 2\n",
        "            loss = loss_fn(output,y)\n",
        "            ## 3\n",
        "            loss.backward()\n",
        "            ## 4 \n",
        "            optimizr.step()\n",
        "            optimizr.zero_grad()\n",
        "        yhat=soft(output)    \n",
        "        combind = torch.concat([hidden,yhat],axis=1)\n",
        "        ax[i][j].matshow(combind.to(\"cpu\").data[-8:],cmap='bwr',vmin=-1,vmax=1)\n",
        "fig.suptitle(r\"$LSTM$\",size=20)\n",
        "fig.tight_layout()"
      ],
      "id": "b1d8295d-9f1b-45e5-8739-0a1e7e9c3271"
    },
    {
      "cell_type": "markdown",
      "metadata": {},
      "source": [
        "`-` 관찰1: LSTM이 확실히 장기기억에 강하다.\n",
        "\n",
        "`-` 관찰2: LSTM은 hidden에 0이 잘 나온다.\n",
        "\n",
        "-   사실 확실히 구분되는 특징을 판별할때는 -1,1 로 히든레이어 값들이\n",
        "    설정되면 명확하다.\n",
        "-   히든레이어에 -1~1사이의 값이 나온다면 애매한 판단이 내려지게 된다.\n",
        "-   그런데 이 애매한 판단이 어떻게 보면 문맥의 뉘앙스를 이해하는데 더 잘\n",
        "    맞다.\n",
        "-   그런데 RNN은 -1,1로 셋팅된 상황에서 -1~1로의 변화가 더디다는 것이\n",
        "    문제임."
      ],
      "id": "a3f53b92-95e9-4a8e-a80c-a383e601c5cf"
    },
    {
      "cell_type": "code",
      "execution_count": null,
      "metadata": {},
      "outputs": [],
      "source": [
        "# 히든레이어는 하얀색.."
      ],
      "id": "qnaC9qzqAXxq"
    },
    {
      "cell_type": "markdown",
      "metadata": {},
      "source": [
        "# LSTM의 계산과정\n",
        "\n",
        "## data: abaB"
      ],
      "id": "24e2b80b-aee8-4a05-beb6-a84852587fc5"
    },
    {
      "cell_type": "code",
      "execution_count": null,
      "metadata": {
        "outputId": "c5033f06-e28c-4175-ada3-bdda0d1befb1"
      },
      "outputs": [],
      "source": [
        "txt = list('abaB')*100\n",
        "txt[:5]"
      ],
      "id": "f90f83e0-1148-4ecd-a6a9-4055f46c5564"
    },
    {
      "cell_type": "code",
      "execution_count": null,
      "metadata": {},
      "outputs": [],
      "source": [
        "txt_x = txt[:-1]\n",
        "txt_y = txt[1:]"
      ],
      "id": "790d03b1-492c-41fd-8628-1596935616c5"
    },
    {
      "cell_type": "code",
      "execution_count": null,
      "metadata": {},
      "outputs": [],
      "source": [
        "mapping = {'a':0, 'b':1, 'B':2}\n",
        "x = torch.nn.functional.one_hot(torch.tensor(f(txt_x,mapping))).float()\n",
        "y = torch.nn.functional.one_hot(torch.tensor(f(txt_y,mapping))).float()"
      ],
      "id": "595daacb-29f7-41d0-8772-abe5b83ea718"
    },
    {
      "cell_type": "markdown",
      "metadata": {},
      "source": [
        "## 1 epoch ver1 (with torch.nn.LSTMCell)"
      ],
      "id": "51dc3fdb-65ef-4f50-811b-c3f2ad5926ca"
    },
    {
      "cell_type": "code",
      "execution_count": null,
      "metadata": {},
      "outputs": [],
      "source": [
        "torch.manual_seed(43052) \n",
        "lstm_cell = torch.nn.LSTMCell(3,2) #LSTM말고 LSTMCell (LSTM을 batch버전으로..)  # 단어수가 3개니까 3!!! abB, 근데 문맥상 a1,a2,b,B 4개의 문자가 있으니까 히든노드를 2개정도로 잡자.\n",
        "linr = torch.nn.Linear(2,3)\n",
        "loss_fn = torch.nn.CrossEntropyLoss() \n",
        "optimizr = torch.optim.Adam(list(lstm_cell.parameters())+list(linr.parameters()),lr=0.1)   #lr=학습률"
      ],
      "id": "d9fa4342-7618-499f-9a56-0c3ba1497ae0"
    },
    {
      "cell_type": "code",
      "execution_count": null,
      "metadata": {},
      "outputs": [],
      "source": [
        "T = len(x) \n",
        "for epoc in range(1):\n",
        "    ht = torch.zeros(1,2)  # 히든노드가 2개니까 차원이 2인 맹물을 만들어주자.\n",
        "    ct = torch.zeros(1,2)\n",
        "    loss = 0 \n",
        "    ## 1~2\n",
        "    for t in range(T):\n",
        "        xt,yt = x[[t]], y[[t]]\n",
        "        ht,ct = lstm_cell(xt,(ht,ct))\n",
        "        ot = linr(ht) \n",
        "        loss = loss + loss_fn(ot,yt)\n",
        "    loss = loss / T\n",
        "    ## 3 \n",
        "    loss.backward()\n",
        "    ## 4 \n",
        "    optimizr.step()\n",
        "    optimizr.zero_grad()"
      ],
      "id": "fdc32fdb-8ee2-4133-82ce-87894a8f46f6"
    },
    {
      "cell_type": "code",
      "execution_count": null,
      "metadata": {
        "outputId": "88555932-d209-431b-e7a9-e2a876d7b2c2"
      },
      "outputs": [],
      "source": [
        "ht,ct "
      ],
      "id": "c1b19e4a-c8fc-4424-8900-f55d7ccfd1f2"
    },
    {
      "cell_type": "markdown",
      "metadata": {},
      "source": [
        "## 1 epoch ver2 (완전 손으로 구현)\n",
        "\n",
        "### ***t=0 $\\to$ t=1***\n",
        "\n",
        "`-` lstm_cell 을 이용한 계산 (결과비교용)"
      ],
      "id": "d8da8963-fddc-4645-9ec9-0913c09fedd4"
    },
    {
      "cell_type": "code",
      "execution_count": null,
      "metadata": {},
      "outputs": [],
      "source": [
        "torch.manual_seed(43052) \n",
        "lstm_cell = torch.nn.LSTMCell(3,2) \n",
        "linr = torch.nn.Linear(2,3)\n",
        "loss_fn = torch.nn.CrossEntropyLoss() \n",
        "optimizr = torch.optim.Adam(list(lstm_cell.parameters())+list(linr.parameters()),lr=0.1)"
      ],
      "id": "ec8b2c8a-e65e-48b4-8d24-570a3b77802c"
    },
    {
      "cell_type": "code",
      "execution_count": null,
      "metadata": {},
      "outputs": [],
      "source": [
        "T = len(x) \n",
        "for epoc in range(1):\n",
        "    ht = torch.zeros(1,2)\n",
        "    ct = torch.zeros(1,2)\n",
        "    loss = 0 \n",
        "    ## 1~2\n",
        "    for t in range(1):\n",
        "        xt,yt = x[[t]], y[[t]]\n",
        "        ht,ct = lstm_cell(xt,(ht,ct))\n",
        "    #     ot = linr(ht) \n",
        "    #     loss = loss + loss_fn(ot,yt)\n",
        "    # loss = loss / T\n",
        "    # ## 3 \n",
        "    # loss.backward()\n",
        "    # ## 4 \n",
        "    # optimizr.step()\n",
        "    # optimizr.zero_grad()"
      ],
      "id": "0a5fd7ca-e106-44dd-8bbc-cac748535e2d"
    },
    {
      "cell_type": "code",
      "execution_count": null,
      "metadata": {
        "outputId": "33a1de1e-35dc-427e-ba93-9382fec8fca4"
      },
      "outputs": [],
      "source": [
        "ht,ct "
      ],
      "id": "9aca0b32-7d50-4359-b4e6-5a724f49177d"
    },
    {
      "cell_type": "markdown",
      "metadata": {},
      "source": [
        "-   이런결과를 어떻게 만드는걸까?\n",
        "-   <https://pytorch.org/docs/stable/generated/torch.nn.LSTM.html>\n",
        "\n",
        "`-` 직접계산"
      ],
      "id": "eb3dcb62-2d01-49a5-9e03-8feb65a17cb8"
    },
    {
      "cell_type": "code",
      "execution_count": null,
      "metadata": {},
      "outputs": [],
      "source": [
        "ht = torch.zeros(1,2)\n",
        "ct = torch.zeros(1,2)"
      ],
      "id": "071cee7d-a92a-446c-98fd-84b4d92cb4b4"
    },
    {
      "cell_type": "code",
      "execution_count": null,
      "metadata": {},
      "outputs": [],
      "source": [
        "_ifgo = xt @ lstm_cell.weight_ih.T + ht @ lstm_cell.weight_hh.T + lstm_cell.bias_ih + lstm_cell.bias_hh"
      ],
      "id": "00b7a640-2cc6-4caa-8453-c8525e7131a0"
    },
    {
      "cell_type": "code",
      "execution_count": null,
      "metadata": {},
      "outputs": [],
      "source": [
        "input_gate = sig(_ifgo[:,0:2])\n",
        "forget_gate = sig(_ifgo[:,2:4])\n",
        "gt = tanh(_ifgo[:,4:6])\n",
        "output_gate = sig(_ifgo[:,6:8])"
      ],
      "id": "4c928a1d-c98b-4412-8d84-0189f8e1cbf5"
    },
    {
      "cell_type": "code",
      "execution_count": null,
      "metadata": {},
      "outputs": [],
      "source": [
        "ct = forget_gate * ct + input_gate * gt\n",
        "ht = output_gate * tanh(ct)"
      ],
      "id": "43c3a6b8-9665-4d62-924c-4026fd30e771"
    },
    {
      "cell_type": "code",
      "execution_count": null,
      "metadata": {
        "outputId": "730fb255-d421-42f6-d66d-0ac5975c760a"
      },
      "outputs": [],
      "source": [
        "ht,ct"
      ],
      "id": "6c473da7-59de-4dc4-a6a8-2a3c164dddaf"
    },
    {
      "cell_type": "markdown",
      "metadata": {},
      "source": [
        "### ***t=0 $\\to$ t=T***"
      ],
      "id": "65bd11cc-e71e-4ae7-a1a4-3627585a40c1"
    },
    {
      "cell_type": "code",
      "execution_count": null,
      "metadata": {},
      "outputs": [],
      "source": [
        "torch.manual_seed(43052) \n",
        "lstm_cell = torch.nn.LSTMCell(3,2) \n",
        "linr = torch.nn.Linear(2,3)\n",
        "loss_fn = torch.nn.CrossEntropyLoss() \n",
        "optimizr = torch.optim.Adam(list(lstm_cell.parameters())+list(linr.parameters()),lr=0.1)"
      ],
      "id": "7b3f0bf8-f390-4585-b333-df9d8e648f4a"
    },
    {
      "cell_type": "code",
      "execution_count": null,
      "metadata": {},
      "outputs": [],
      "source": [
        "T = len(x) \n",
        "for epoc in range(1):\n",
        "    ht = torch.zeros(1,2)\n",
        "    ct = torch.zeros(1,2)\n",
        "    loss = 0 \n",
        "    ## 1~2\n",
        "    for t in range(T):\n",
        "        xt,yt = x[[t]], y[[t]]\n",
        "        \n",
        "        ## lstm_cell step1: calculate _ifgo \n",
        "        _ifgo = xt @ lstm_cell.weight_ih.T + ht @ lstm_cell.weight_hh.T + lstm_cell.bias_ih + lstm_cell.bias_hh\n",
        "        ## lstm_cell step2: decompose _ifgo \n",
        "        input_gate = sig(_ifgo[:,0:2])\n",
        "        forget_gate = sig(_ifgo[:,2:4])\n",
        "        gt = tanh(_ifgo[:,4:6])\n",
        "        output_gate = sig(_ifgo[:,6:8])\n",
        "        ## lstm_cell step3: calculate ht,ct \n",
        "        ct = forget_gate * ct + input_gate * gt\n",
        "        ht = output_gate * tanh(ct)\n",
        "        \n",
        "    #     ot = linr(ht) \n",
        "    #     loss = loss + loss_fn(ot,yt)\n",
        "    # loss = loss / T\n",
        "    # ## 3 \n",
        "    # loss.backward()\n",
        "    # ## 4 \n",
        "    # optimizr.step()\n",
        "    # optimizr.zero_grad()"
      ],
      "id": "e878d569-3dee-43de-b794-cde107b941b8"
    },
    {
      "cell_type": "code",
      "execution_count": null,
      "metadata": {
        "outputId": "a6363fa5-c158-4d01-8f92-5bdf46863b3a"
      },
      "outputs": [],
      "source": [
        "ht,ct\n",
        "\n",
        "#LSMT_Cell로 쉽게 계산한것이랑 값이 같다."
      ],
      "id": "b1529f2d-50e0-4d6c-b7b4-11d11aa8f98a"
    },
    {
      "cell_type": "markdown",
      "metadata": {},
      "source": [
        "## 1 epoch ver3 (with torch.nn.LSTM)"
      ],
      "id": "5abd5991-7bb5-4e87-b637-b8f05fd0e7a2"
    },
    {
      "cell_type": "code",
      "execution_count": null,
      "metadata": {},
      "outputs": [],
      "source": [
        "torch.manual_seed(43052) \n",
        "lstm_cell = torch.nn.LSTMCell(3,2)\n",
        "linr = torch.nn.Linear(2,3) "
      ],
      "id": "db57b1d2-62dd-419c-be8e-4ecd86ddf7a7"
    },
    {
      "cell_type": "code",
      "execution_count": null,
      "metadata": {},
      "outputs": [],
      "source": [
        "lstm = torch.nn.LSTM(3,2) "
      ],
      "id": "cda1f85d-2684-4132-8a77-2963dc8c506d"
    },
    {
      "cell_type": "code",
      "execution_count": null,
      "metadata": {},
      "outputs": [],
      "source": [
        "# batch버전 통해서 확인해보기, 가중치값 덮어씌워보기\n",
        "lstm.weight_hh_l0.data = lstm_cell.weight_hh.data \n",
        "lstm.bias_hh_l0.data = lstm_cell.bias_hh.data \n",
        "lstm.weight_ih_l0.data = lstm_cell.weight_ih.data \n",
        "lstm.bias_ih_l0.data = lstm_cell.bias_ih.data "
      ],
      "id": "949f680d-6f97-4d1b-9eb3-c1bac8a00c6d"
    },
    {
      "cell_type": "code",
      "execution_count": null,
      "metadata": {},
      "outputs": [],
      "source": [
        "loss_fn = torch.nn.CrossEntropyLoss()\n",
        "optimizr = torch.optim.Adam(list(lstm.parameters()) + list(linr.parameters()), lr=0.1) "
      ],
      "id": "6c438c59-63cf-475b-ab57-8fbad3df5ab9"
    },
    {
      "cell_type": "code",
      "execution_count": null,
      "metadata": {},
      "outputs": [],
      "source": [
        "_water = torch.zeros(1,2) \n",
        "for epoc in range(1): \n",
        "    ## step1 \n",
        "    hidden, (ht,ct) = lstm(x,(_water,_water))\n",
        "    output = linr(hidden)\n",
        "    # ## step2\n",
        "    # loss = loss_fn(output,y) \n",
        "    # ## step3\n",
        "    # loss.backward()\n",
        "    # ## step4 \n",
        "    # optimizr.step()\n",
        "    # optimizr.zero_grad() "
      ],
      "id": "8a4321ef-3ca7-4c79-80c9-9a6d2e3fbbb6"
    },
    {
      "cell_type": "code",
      "execution_count": null,
      "metadata": {
        "outputId": "264d4467-41ad-441e-f7a2-fd05518c93c0"
      },
      "outputs": [],
      "source": [
        "ht,ct"
      ],
      "id": "a7e9f401-9d45-4824-8b2c-5d871006b7e3"
    },
    {
      "cell_type": "markdown",
      "metadata": {},
      "source": [
        "# LSTM은 왜 강한가?\n",
        "\n",
        "## data: abaB"
      ],
      "id": "c88299fb-3dda-4784-84f4-77e89d08f0e8"
    },
    {
      "cell_type": "code",
      "execution_count": null,
      "metadata": {
        "outputId": "209e748c-c1f2-4bd9-fcb6-d6ce7730a5d6"
      },
      "outputs": [],
      "source": [
        "txt = list('abaB')*100\n",
        "txt[:5]"
      ],
      "id": "c64b3d7c-2e66-4629-9ad4-1e3bd9138029"
    },
    {
      "cell_type": "code",
      "execution_count": null,
      "metadata": {},
      "outputs": [],
      "source": [
        "n_words = 3"
      ],
      "id": "e819e299-9a38-40d2-9407-7d251aecd9e3"
    },
    {
      "cell_type": "code",
      "execution_count": null,
      "metadata": {},
      "outputs": [],
      "source": [
        "mapping = {'a':0, 'b':1, 'B':2}"
      ],
      "id": "19407661-7cba-4b4e-ba92-f32773664c57"
    },
    {
      "cell_type": "code",
      "execution_count": null,
      "metadata": {},
      "outputs": [],
      "source": [
        "txt_x = txt[:-1]\n",
        "txt_y = txt[1:]"
      ],
      "id": "fd27f9f6-7122-493e-8415-34b61b1bddb6"
    },
    {
      "cell_type": "code",
      "execution_count": null,
      "metadata": {
        "outputId": "5a5f52cc-7a43-430f-fbcc-2bdedc34eafd"
      },
      "outputs": [],
      "source": [
        "txt_x[:10],txt_y[:10]"
      ],
      "id": "40bb3e23-c7e8-44d2-99f3-012f881aaa6a"
    },
    {
      "cell_type": "code",
      "execution_count": null,
      "metadata": {},
      "outputs": [],
      "source": [
        "x = torch.nn.functional.one_hot(torch.tensor(f(txt_x,mapping))).float()\n",
        "y = torch.nn.functional.one_hot(torch.tensor(f(txt_y,mapping))).float()"
      ],
      "id": "03493d19-ab7c-4285-8460-02a8e29f7113"
    },
    {
      "cell_type": "code",
      "execution_count": null,
      "metadata": {
        "outputId": "884e0b78-3bf9-4900-8c44-1e54094e0c13"
      },
      "outputs": [],
      "source": [
        "x,y"
      ],
      "id": "cc4701aa-99d0-4366-8a3a-70623a31d496"
    },
    {
      "cell_type": "markdown",
      "metadata": {},
      "source": [
        "## 1000 epoch"
      ],
      "id": "050ca174-0728-4c5e-aa18-76301606b179"
    },
    {
      "cell_type": "code",
      "execution_count": null,
      "metadata": {},
      "outputs": [],
      "source": [
        "torch.manual_seed(43052) \n",
        "lstm = torch.nn.LSTM(3,2) \n",
        "linr = torch.nn.Linear(2,3) "
      ],
      "id": "adad7d35-775c-4345-9588-6468464ce000"
    },
    {
      "cell_type": "code",
      "execution_count": null,
      "metadata": {},
      "outputs": [],
      "source": [
        "loss_fn = torch.nn.CrossEntropyLoss() \n",
        "optimizr = torch.optim.Adam(list(lstm.parameters())+ list(linr.parameters()),lr=0.1)"
      ],
      "id": "2284658b-aa94-4d9b-b0d6-470cf27b48e9"
    },
    {
      "cell_type": "code",
      "execution_count": null,
      "metadata": {},
      "outputs": [],
      "source": [
        "_water = torch.zeros(1,2) \n",
        "for epoc in range(1000): \n",
        "    ## step1 \n",
        "    hidden, (ht,ct) = lstm(x,(_water,_water))\n",
        "    output = linr(hidden)\n",
        "    ## step2\n",
        "    loss = loss_fn(output,y) \n",
        "    ## step3\n",
        "    loss.backward()\n",
        "    ## step4 \n",
        "    optimizr.step()\n",
        "    optimizr.zero_grad() "
      ],
      "id": "8eeb1b3c-000e-4047-b09d-bb1d211c2e3b"
    },
    {
      "cell_type": "markdown",
      "metadata": {},
      "source": [
        "## 시각화"
      ],
      "id": "3fae3f87-62fa-44ec-8362-80041177180d"
    },
    {
      "cell_type": "code",
      "execution_count": null,
      "metadata": {},
      "outputs": [],
      "source": [
        "T = len(x)\n",
        "input_gate = torch.zeros(T,2)\n",
        "forget_gate = torch.zeros(T,2)\n",
        "output_gate = torch.zeros(T,2)\n",
        "g = torch.zeros(T,2)\n",
        "cell = torch.zeros(T,2)\n",
        "h = torch.zeros(T,2)  # 히든노드를 2개로 잡아놨으니까.. \n",
        "\n",
        "# 계산식에 의해서 위에 값들이 다 (T,2)형태여야 한다."
      ],
      "id": "0ec0724b-0298-4a61-b0d0-6cb4ca86cac6"
    },
    {
      "cell_type": "code",
      "execution_count": null,
      "metadata": {},
      "outputs": [],
      "source": [
        "# LSTM 계산과정을 다시 따라가면,\n",
        "\n",
        "for t in range(T): \n",
        "    ## 1: calculate _ifgo \n",
        "    _ifgo = x[[t]] @ lstm.weight_ih_l0.T + h[[t]] @ lstm.weight_hh_l0.T + lstm.bias_ih_l0 + lstm.bias_hh_l0 \n",
        "    ## 2: decompose _ifgo \n",
        "    input_gate[[t]] = sig(_ifgo[:,0:2])\n",
        "    forget_gate[[t]] = sig(_ifgo[:,2:4])\n",
        "    g[[t]] = tanh(_ifgo[:,4:6])\n",
        "    output_gate[[t]] = sig(_ifgo[:,6:8])\n",
        "    ## 3: calculate ht,ct \n",
        "    cell[[t]] = forget_gate[[t]] * cell[[t]] + input_gate[[t]] * g[[t]]\n",
        "    h[[t]] = output_gate[[t]] * tanh(cell[[t]])"
      ],
      "id": "70d0fdf3-5e08-4f87-ba53-a329ee9599c2"
    },
    {
      "cell_type": "code",
      "execution_count": null,
      "metadata": {},
      "outputs": [],
      "source": [
        "combinded1 = torch.concat([input_gate,forget_gate,output_gate],axis=1)  # gate끼리 묶어서 시각화\n",
        "combinded2 = torch.concat([g,cell,h,soft(output)],axis=1)               # 나머지 묶어서 시각화"
      ],
      "id": "62770c91-377d-43d7-b24b-76a578cb66a4"
    },
    {
      "cell_type": "code",
      "execution_count": null,
      "metadata": {
        "outputId": "c62c232c-ab95-4e03-b5fe-7a2d96d09df2"
      },
      "outputs": [
        {
          "output_type": "display_data",
          "metadata": {},
          "data": {
            "image/png": "[encoded data removed]"
          }
        },
        {
          "output_type": "display_data",
          "metadata": {},
          "data": {
            "image/png": "[encoded data removed]"
          }
        }
      ],
      "source": [
        "plt.matshow(combinded1[-8:].data,cmap='bwr',vmin=-1,vmax=1);\n",
        "plt.xticks(range(combinded1.shape[-1]),labels=['i']*2 + ['f']*2 + ['o']*2);\n",
        "plt.matshow(combinded2[-8:].data,cmap='bwr',vmin=-1,vmax=1)\n",
        "plt.xticks(range(combinded2.shape[-1]),labels=['g']*2 + ['c']*2 + ['h']*2 + ['yhat']*3);"
      ],
      "id": "49415b83-4996-4f4e-9bc8-b934df5e8921"
    },
    {
      "cell_type": "markdown",
      "metadata": {},
      "source": [
        "-   상단그림은 게이트의 값들만 시각화, 하단그림은 게이트 이외의 값들을\n",
        "    시각화\n",
        "\n",
        "## 시각화의 해석I"
      ],
      "id": "56ced980-a354-4991-894d-1db729d1374d"
    },
    {
      "cell_type": "code",
      "execution_count": null,
      "metadata": {
        "outputId": "5f358575-8def-43bf-eebe-42b28256e5c8"
      },
      "outputs": [],
      "source": [
        "plt.matshow(combinded1[-8:].data,cmap='bwr',vmin=-1,vmax=1);\n",
        "plt.xticks(range(combinded1.shape[-1]),labels=['i']*2 + ['f']*2 + ['o']*2);"
      ],
      "id": "80049493-28cc-49ef-83df-2260d674ff98"
    },
    {
      "cell_type": "markdown",
      "metadata": {},
      "source": [
        "`-` input_gate, forget_gate, output_gate는 모두 0~1 사이의 값을 가진다.\n",
        "\n",
        "파 -1 흰 0 빨 1 이니까 .. xt, ht-1 가지고 sig취해서 i,f,o를 만들었으니\n",
        "0~1사이의 값을 가진다.\n",
        "\n",
        "`-` 이 값들은 각각 모두\n",
        "${\\boldsymbol g}_t, {\\boldsymbol c}_{t-1}, \\tanh({\\boldsymbol c}_t)$에\n",
        "곱해진다. 따라서 input_gate, forget_gate, output_gate 는 gate의 역할로\n",
        "비유가능하다. (1이면 통과, 0이면 차단)\n",
        "\n",
        "-   input_gate: ${\\boldsymbol g}_t$의 값을 얼만큼 통과시킬지 0~1사이의\n",
        "    숫자로 결정\n",
        "-   forget_gate: ${\\boldsymbol c}_{t-1}$의 값을 얼만큼 통과시킬지\n",
        "    0~1사이의 숫자로 결정\n",
        "-   output_gate: $\\tanh({\\boldsymbol c}_t)$의 값을 얼만큼 통과시킬지\n",
        "    0~1사이의 숫자로 결정\n",
        "\n",
        "## 시각화의 해석II"
      ],
      "id": "efa00dd0-cbf6-4ef9-bffd-cdbfae8965d8"
    },
    {
      "cell_type": "code",
      "execution_count": null,
      "metadata": {
        "outputId": "5a876ac5-be37-4ee7-de6e-a9f720f54ae2"
      },
      "outputs": [
        {
          "output_type": "display_data",
          "metadata": {},
          "data": {
            "image/png": "[encoded data removed]"
          }
        }
      ],
      "source": [
        "plt.matshow(combinded2[-8:].data,cmap='bwr',vmin=-1,vmax=1)\n",
        "plt.xticks(range(combinded2.shape[-1]),labels=['g']*2 + ['c']*2 + ['h']*2 + ['yhat']*3);"
      ],
      "id": "e8cedd7d-aa54-4843-9cfb-86c8b431536d"
    },
    {
      "cell_type": "markdown",
      "metadata": {},
      "source": [
        "`-` 결국\n",
        "${\\boldsymbol g}_t\\to {\\boldsymbol c}_t \\to {\\boldsymbol h}_t \\to \\hat{\\boldsymbol y}$\n",
        "의 느낌이다. (${\\boldsymbol h}_t$를 계산하기 위해서는\n",
        "${\\boldsymbol c}_t$가 필요했고 ${\\boldsymbol c}_t$를 계산하기 위해서는\n",
        "${\\boldsymbol c}_{t-1}$과 ${\\boldsymbol g}_t$가 필요했음)\n",
        "\n",
        "-   ${\\boldsymbol h}_t= \\tanh({\\boldsymbol c}_t) \\odot {\\boldsymbol o}_t$\n",
        "-   ${\\boldsymbol c}_t ={\\boldsymbol c}_{t-1} \\odot {\\boldsymbol f}_t + {\\boldsymbol g}_{t} \\odot {\\boldsymbol i}_t$\n",
        "\n",
        "`-` ${\\boldsymbol g}_t,{\\boldsymbol c}_t,{\\boldsymbol h}_t$ 모두\n",
        "${\\boldsymbol x}_t$의 정보를 숙성시켜 가지고 있는 느낌이 든다.\n",
        "\n",
        "`-` ${\\boldsymbol g}_t$ 특징: 보통 -1,1 중 하나의 값을 가지도록 학습되어\n",
        "있다. (마치 RNN의 hidden node처럼!)\n",
        "\n",
        "-   $\\boldsymbol{g}_t = \\tanh({\\boldsymbol x}_t {\\bf W}_{ig} + {\\boldsymbol h}_{t-1} {\\bf W}_{hg}+ {\\boldsymbol b}_{ig}+{\\boldsymbol b}_{hg})$\n",
        "\n",
        "`-` ${\\boldsymbol c}_t$ 특징: ${\\boldsymbol g}_t$와 매우 비슷하지만 약간\n",
        "다른값을 가진다. 그래서 ${\\boldsymbol g}_t$와는 달리 -1,1 이외의 값도\n",
        "종종 등장."
      ],
      "id": "4a2d4606-7952-40b6-a3dc-997778fa97cd"
    },
    {
      "cell_type": "code",
      "execution_count": null,
      "metadata": {
        "outputId": "a283b2c3-c69c-4935-f543-85baf82113ed"
      },
      "outputs": [
        {
          "output_type": "stream",
          "name": "stdout",
          "text": [
            "first row: gt=tensor([ 0.9999, -0.9999]), ct=tensor([ 0.9647, -0.9984])\n",
            "second row: gt=tensor([ 0.9970, -0.9554]), ct=tensor([ 0.3592, -0.9373])"
          ]
        }
      ],
      "source": [
        "print(\"first row: gt={}, ct={}\".format(g[-8].data, cell[-8].data))\n",
        "print(\"second row: gt={}, ct={}\".format(g[-7].data, cell[-7].data))\n",
        "#g[-7], cell[-7]"
      ],
      "id": "e47ea880-23e0-4e32-9516-62c07a4512fa"
    },
    {
      "cell_type": "markdown",
      "metadata": {},
      "source": [
        "`-` ${\\boldsymbol h}_t$ 특징: (1) ${\\boldsymbol c}_t$의 느낌이 있음\n",
        "하지만 약간의 변형이 있음. (2) -1~1 사이에의 값을 훨씬 다양하게 가진다.\n",
        "(tanh때문)"
      ],
      "id": "23bb0471-8e0c-476b-89b2-edc94cad793c"
    },
    {
      "cell_type": "code",
      "execution_count": null,
      "metadata": {
        "outputId": "3267b215-e4d9-4106-a38d-d4198c8351e9"
      },
      "outputs": [
        {
          "output_type": "stream",
          "name": "stdout",
          "text": [
            "first row: gt=tensor([ 0.9999, -0.9999]), ct=tensor([ 0.9647, -0.9984]), ht=tensor([ 0.7370, -0.3323])\n",
            "second row: gt=tensor([ 0.9970, -0.9554]), ct=tensor([ 0.3592, -0.9373]), ht=tensor([ 0.0604, -0.6951])"
          ]
        }
      ],
      "source": [
        "print(\"first row: gt={}, ct={}, ht={}\".format(g[-8].data, cell[-8].data,h[-8].data))\n",
        "print(\"second row: gt={}, ct={}, ht={}\".format(g[-7].data, cell[-7].data,h[-7].data))\n",
        "#g[-7], cell[-7]"
      ],
      "id": "888cd827-2546-4836-aa95-89ac7dcf7eac"
    },
    {
      "cell_type": "markdown",
      "metadata": {},
      "source": [
        "`-` 예전의문 해결\n",
        "\n",
        "-   실험적으로 살펴보니 LSTM이 RNN보다 장기기억에 유리했음.\n",
        "-   그 이유: RRN은 ${\\boldsymbol h}_t$의 값이 -1 혹은 1로 결정되는\n",
        "    경우가 많았음. 그러나 경우에 따라서는 ${\\boldsymbol h}_t$이 -1~1의\n",
        "    값을 가지는 것이 문맥적 뉘앙스를 포착하기에는 유리한데 LSTM이 이러한\n",
        "    방식으로 학습되는 경우가 많았음.\n",
        "-   왜 LSTM의 ${\\boldsymbol h}_t$은 -1,1 이외의 값을 쉽게 가질 수\n",
        "    있는가? (1) gate들의 역할 (2) 마지막에 취해지는 tanh 때문\n",
        "\n",
        "## LSTM의 알고리즘 리뷰 I (수식위주)\n",
        "\n",
        "**(step1)** calculate ${\\tt ifgo}$\n",
        "\n",
        "${\\tt ifgo} = {\\boldsymbol x}_t \\big[{\\bf W}_{ii} | {\\bf W}_{if}| {\\bf W}_{ig} |{\\bf W}_{io}\\big] + {\\boldsymbol h}_{t-1} \\big[ {\\bf W}_{hi}|{\\bf W}_{hf} |{\\bf W}_{hg} | {\\bf W}_{ho} \\big] + bias$\n",
        "\n",
        "$=\\big[{\\boldsymbol x}_t{\\bf W}_{ii} + {\\boldsymbol h}_{t-1}{\\bf W}_{hi} ~\\big|~ {\\boldsymbol x}_t{\\bf W}_{if}+ {\\boldsymbol h}_{t-1}{\\bf W}_{hf}~ \\big|~ {\\boldsymbol x}_t{\\bf W}_{ig} + {\\boldsymbol h}_{t-1}{\\bf W}_{hg} ~\\big|~ {\\boldsymbol x}_t{\\bf W}_{io} + {\\boldsymbol h}_{t-1}{\\bf W}_{ho} \\big] + bias$\n",
        "\n",
        "참고: 위의 수식은 아래코드에 해당하는 부분\n",
        "\n",
        "``` python\n",
        "ifgo = xt @ lstm_cell.weight_ih.T +\\\n",
        "       ht @ lstm_cell.weight_hh.T +\\\n",
        "       lstm_cell.bias_ih + lstm_cell.bias_hh\n",
        "```\n",
        "\n",
        "**(step2)** decompose ${\\tt ifgo}$ and get ${\\boldsymbol i}_t$,\n",
        "${\\boldsymbol f}_t$, ${\\boldsymbol g}_t$, ${\\boldsymbol o}_t$\n",
        "\n",
        "${\\boldsymbol i}_t = \\sigma({\\boldsymbol x}_t {\\bf W}_{ii} + {\\boldsymbol h}_{t-1} {\\bf W}_{hi} +bias )$\n",
        "\n",
        "${\\boldsymbol f}_t = \\sigma({\\boldsymbol x}_t {\\bf W}_{if} + {\\boldsymbol h}_{t-1} {\\bf W}_{hf} +bias )$\n",
        "\n",
        "${\\boldsymbol g}_t = \\tanh({\\boldsymbol x}_t {\\bf W}_{ig} + {\\boldsymbol h}_{t-1} {\\bf W}_{hg} +bias )$\n",
        "\n",
        "${\\boldsymbol o}_t = \\sigma({\\boldsymbol x}_t {\\bf W}_{io} + {\\boldsymbol h}_{t-1} {\\bf W}_{ho} +bias )$\n",
        "\n",
        "**(step3)** calculate ${\\boldsymbol c}_t$ and ${\\boldsymbol h}_t$\n",
        "\n",
        "${\\boldsymbol c}_t = {\\boldsymbol i}_t \\odot {\\boldsymbol g}_t+ {\\boldsymbol f}_t \\odot {\\boldsymbol c}_{t-1}$\n",
        "\n",
        "${\\boldsymbol h}_t = \\tanh({\\boldsymbol o}_t \\odot {\\boldsymbol c}_t)$\n",
        "\n",
        "## LSTM의 알고리즘 리뷰 II (느낌위주)\n",
        "\n",
        "-   이해 및 암기를 돕기위해서 비유적으로 설명한 챕터입니다..\n",
        "\n",
        "`-` 느낌1: RNN이 콩물에서 간장을 한번에 숙성시키는 방법이라면 LSTM은\n",
        "콩물에서 간장을 3차로 나누어 숙성하는 느낌이다.\n",
        "\n",
        "-   콩물: ${\\boldsymbol x}_t$\n",
        "-   1차숙성: ${\\boldsymbol g}_t$\n",
        "-   2차숙성: ${\\boldsymbol c}_t$\n",
        "-   3차숙성: ${\\boldsymbol h}_t$\n",
        "\n",
        "`-` 느낌2: ${\\boldsymbol g}_t$에 대하여\n",
        "\n",
        "-   계산방법: ${\\boldsymbol x}_t$와 ${\\boldsymbol h}_{t-1}$를\n",
        "    ${\\bf W}_{ig}, {\\bf W}_{hg}$를 이용해 선형결합하고 $\\tanh$를 취한\n",
        "    결과\n",
        "-   RNN에서 간장을 만들던 그 수식에서 $h_t$를 $g_t$로 바꾼것\n",
        "-   크게 2가지의 의미를 가진다 (1) 과거와 현재의 결합 (2) 활성화함수\n",
        "    $\\tanh$를 적용\n",
        "\n",
        "`-` 느낌3: ${\\boldsymbol c}_t$에 대하여 (1)\n",
        "\n",
        "-   계산방법: ${\\boldsymbol g}_{t}$와 ${\\boldsymbol c}_{t-1}$를 요소별로\n",
        "    선택하고 더하는 과정\n",
        "-   $g_t$는 (1) 과거와 현재의 결합 (2) 활성화함수 tanh를 적용으로\n",
        "    나누어지는데 이중에서 (1) 과거와 현재의 정보를 결합하는 과정만\n",
        "    해당한다. 차이점은 요소별 선택 후 덧셈\n",
        "-   이러한 결합을 쓰는 이유? 게이트를 이용하여 과거와 현재의 정보를 제어\n",
        "    (일반적인 설명, 솔직히 내가 좋아하는 설명은 아님)\n",
        "\n",
        "`-` 느낌4: ${\\boldsymbol c}_t$에 대하여 (2) // ${\\boldsymbol c}_t$는 왜\n",
        "과거와 현재의 정보를 제어한다고 볼 수 있는가?\n",
        "\n",
        "$t=1$ 시점 계산과정관찰"
      ],
      "id": "c8b4d88b-e1a2-4fe0-8d66-264aaa1ed2ee"
    },
    {
      "cell_type": "code",
      "execution_count": null,
      "metadata": {
        "outputId": "89ef6d0e-19f2-4ff8-e512-50ead887b534"
      },
      "outputs": [],
      "source": [
        "input_gate[1],g[1],forget_gate[1],cell[0]    # g[1]:현재시점 cell[0]:과거시점"
      ],
      "id": "44a73c0b-bc72-4c57-babe-fec6c3de45f7"
    },
    {
      "cell_type": "markdown",
      "metadata": {},
      "source": [
        "$[0.9,1.0] \\odot {\\boldsymbol g}_t + [1.0,0.0] \\odot {\\boldsymbol c}_{t-1}$\n",
        "\n",
        "-   forget_gate는 $c_{t-1}$의 첫번째 원소는 기억하고, 두번째 원소는\n",
        "    잊으라고 말하고 있음 // forget_gate는 과거($c_{t-1}$)의 정보를\n",
        "    얼마나 잊을지 (= 얼마나 기억할지) 를 결정한다고 해석할 수 있다.\n",
        "-   input_gate는 $g_{t}$의 첫번째 원소와 두번째 원소를 모두 기억하되\n",
        "    두번째 원소를 좀 더 중요하게 기억하라고 말하고 있음 // input_gate는\n",
        "    현재($g_{t}$)의 정보를 얼만큼 강하게 반영할지 결정한다.\n",
        "-   이 둘을 조합하면 ${\\boldsymbol c}_t$가 현재와 과거의 정보중 어떠한\n",
        "    정보를 더 중시하면서 기억할지 결정한다고 볼 수 있다.\n",
        "\n",
        "> 이 설명은 제가 좀 싫어해요, 싫어하는 이유는 (1) “기억의 정도를\n",
        "> 조절한다”와 “망각의 정도를 조절한다”는 사실 같은말임. 그래서\n",
        "> forget_gate의 용어가 모호함. (2) 기억과 망각을 조정하는 방식으로 꼭\n",
        "> gate의 개념을 사용해야 하는건 아님\n",
        "\n",
        "`-` 느낌5: ${\\boldsymbol c}_t$에 대하여 (3)\n",
        "\n",
        "-   사실상 LSTM 알고리즘의 꽃이라 할 수 있음.\n",
        "-   LSTM은 long short term memory의 약자임. 기존의 RNN은 장기기억을\n",
        "    활용함에 약점이 있는데 LSTM은 단기기억/장기기억 모두 잘 활용함.\n",
        "-   LSTM이 장기기억을 잘 활용하는 비법은 바로 ${\\boldsymbol c}_t$에\n",
        "    있다.\n",
        "\n",
        "`-` 느낌6: ${\\boldsymbol h}_t$에 대하여 - 계산방법:\n",
        "$\\tanh({\\boldsymbol c}_t)$를 요소별로 선택\n",
        "\n",
        "`-` RNN, LSTM의 변수들 비교 테이블\n",
        "\n",
        "|                          |        과거정보         |      현재정보       | 과거와 현재의 결합방식 |      활성화      |  느낌   |                                      비고                                       |\n",
        "|:---------:|:---------:|:---------:|:---------:|:---------:|:---------:|:---------:|\n",
        "| RNN-${\\boldsymbol h}_t$  | ${\\boldsymbol h}_{t-1}$ | ${\\boldsymbol x}_t$ |   $\\times$ $\\to$ $+$   |     $\\tanh$      |  간장   |                                                                                 |\n",
        "|                          |                         |                     |                        |                  |         |                                                                                 |\n",
        "| LSTM-${\\boldsymbol g}_t$ | ${\\boldsymbol h}_{t-1}$ | ${\\boldsymbol x}_t$ |   $\\times$ $\\to$ $+$   |     $\\tanh$      | 1차간장 |                                                                                 |\n",
        "| LSTM-${\\boldsymbol c}_t$ | ${\\boldsymbol c}_{t-1}$ | ${\\boldsymbol g}_t$ |   $\\odot$ $\\to$ $+$    |       None       | 2차간장 | gate를 열림정도를 판단할때 ${\\boldsymbol x}_t$와 ${\\boldsymbol h}_{t-1}$을 이용 |\n",
        "| LSTM-${\\boldsymbol h}_t$ |          None           | ${\\boldsymbol c}_t$ |          None          | $\\tanh$, $\\odot$ | 3차간장 | gate를 열림정도를 판단할때 ${\\boldsymbol x}_t$와 ${\\boldsymbol h}_{t-1}$을 이용 |\n",
        "\n",
        "-   RNN은 기억할 과거정보가 ${\\boldsymbol h}_{t-1}$ 하나이지만 LSTM은\n",
        "    ${\\boldsymbol c}_{t-1}$, ${\\boldsymbol h}_{t-1}$ 2개이다.\n",
        "\n",
        "`-` 알고리즘리뷰 :\n",
        "\n",
        "-   콩물,과거3차간장 $\\overset{\\times,+,\\tanh}{\\longrightarrow}$\n",
        "    현재1차간장\n",
        "-   현재1차간장, 과거2차간장 $\\overset{\\odot,+,\\tanh}{\\longrightarrow}$\n",
        "    현재2차간장\n",
        "-   현재2차간장 $\\overset{\\tanh,\\odot}{\\longrightarrow}$ 현재3차간장\n",
        "\n",
        "## LSTM이 강한이유\n",
        "\n",
        "`-` LSTM이 장기기억에 유리함. 그 이유는 input, forget, output gate 들이\n",
        "과거기억을 위한 역할을 하기 때문.\n",
        "\n",
        "-   비판: 아키텍처에 대한 이론적 근거는 없음. 장기기억을 위하여 꼭\n",
        "    LSTM같은 구조일 필요는 없음. (왜 3차간장을 만들때 tanh를 써야하는지?\n",
        "    게이트는 꼭3개이어야 하는지?)\n",
        "\n",
        "`-` 저는 사실 아까 살펴본 아래의 이유로 이해하고 있습니다.\n",
        "\n",
        "-   실험적으로 살펴보니 LSTM이 RNN보다 장기기억에 유리했음.\n",
        "-   그 이유: RRN은 ${\\boldsymbol h}_t$의 값이 -1 혹은 1로 결정되는\n",
        "    경우가 많았음. 그러나 경우에 따라서는 ${\\boldsymbol h}_t$이 -1~1의\n",
        "    값을 가지는 것이 문맥적 뉘앙스를 포착하기에는 유리한데 LSTM이 이러한\n",
        "    방식으로 학습되는 경우가 많았음.\n",
        "-   왜 LSTM의 ${\\boldsymbol h}_t$은 -1,1 이외의 값을 쉽게 가질 수\n",
        "    있는가? (1) gate들의 역할 (2) 마지막에 취해지는 tanh 때문\n",
        "\n",
        "# 참고자료들\n",
        "\n",
        "-   <https://colah.github.io/posts/2015-08-Understanding-LSTMs/>\n",
        "-   <https://pytorch.org/docs/stable/generated/torch.nn.LSTM.html>\n",
        "-   <https://arxiv.org/abs/1402.1128>"
      ],
      "id": "0a3143b2-a323-44dd-91b0-5d3e3f7b44c5"
    }
  ],
  "nbformat": 4,
  "nbformat_minor": 5,
  "metadata": {
    "colab": {
      "provenance": []
    },
    "kernelspec": {
      "name": "python3",
      "display_name": "Python 3",
      "language": "python"
    },
    "language_info": {
      "name": "python",
      "codemirror_mode": {
        "name": "ipython",
        "version": "3"
      },
      "file_extension": ".py",
      "mimetype": "text/x-python",
      "nbconvert_exporter": "python",
      "pygments_lexer": "ipython3",
      "version": "3.7.16"
    }
  }
}