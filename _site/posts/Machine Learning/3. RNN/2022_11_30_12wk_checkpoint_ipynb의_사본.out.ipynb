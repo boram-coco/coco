{
  "cells": [
    {
      "cell_type": "markdown",
      "metadata": {},
      "source": [
        "# 기계학습 (1130) 12주차\n",
        "\n",
        "김보람  \n",
        "2022-11-30\n",
        "\n",
        "> 순환신경망 minor topics\n",
        "\n",
        "# 강의영상\n",
        "\n",
        "> <https://youtube.com/playlist?list=PLQqh36zP38-zvqUvbaN9PkKWMHadj8B3W>\n",
        "\n",
        "# imports"
      ],
      "id": "38405ec9-0cfb-45d8-92ea-e9c5b84703dd"
    },
    {
      "cell_type": "code",
      "execution_count": null,
      "metadata": {},
      "outputs": [],
      "source": [
        "import torch\n",
        "import pandas as pd\n",
        "import matplotlib.pyplot as plt \n",
        "from fastai.text.all import *\n",
        "import pytorch_lightning as pl "
      ],
      "id": "9969a523-ecdb-4c98-b350-ddb7eaa59275"
    },
    {
      "cell_type": "markdown",
      "metadata": {},
      "source": [
        "# Define some funtions"
      ],
      "id": "cc0b1b36-0c0b-4a7d-be4c-4eff5c07e86d"
    },
    {
      "cell_type": "code",
      "execution_count": null,
      "metadata": {},
      "outputs": [],
      "source": [
        "def f(txt,mapping):\n",
        "    return [mapping[key] for key in txt] \n",
        "sig = torch.nn.Sigmoid()\n",
        "soft = torch.nn.Softmax(dim=1)\n",
        "tanh = torch.nn.Tanh()"
      ],
      "id": "4119bcda-f466-40ea-bfec-4dda98f067a5"
    },
    {
      "cell_type": "markdown",
      "metadata": {},
      "source": [
        "# 순환신경망 표현력 비교실험 (1)\n",
        "\n",
        "## data: abcabC"
      ],
      "id": "57f19b8a-d242-42bb-bfdd-b6cc0e08b284"
    },
    {
      "cell_type": "code",
      "execution_count": null,
      "metadata": {},
      "outputs": [],
      "source": [
        "txt = list('abcabC')*100\n",
        "txt[:8]\n",
        "txt_x = txt[:-1] \n",
        "txt_y = txt[1:]"
      ],
      "id": "89e22504-8cb9-4d99-84a0-2403d5f8bf45"
    },
    {
      "cell_type": "code",
      "execution_count": null,
      "metadata": {},
      "outputs": [],
      "source": [
        "mapping = {'a':0,'b':1,'c':2,'C':3} \n",
        "x= torch.nn.functional.one_hot(torch.tensor(f(txt_x,mapping))).float()\n",
        "y= torch.nn.functional.one_hot(torch.tensor(f(txt_y,mapping))).float()"
      ],
      "id": "8ec07eed-9ee0-4f5d-b82c-d3b1f221cc6d"
    },
    {
      "cell_type": "code",
      "execution_count": null,
      "metadata": {},
      "outputs": [],
      "source": [
        "x = x.to(\"cuda:0\")\n",
        "y = y.to(\"cuda:0\") "
      ],
      "id": "6f37b080-7950-4a8c-9337-91a55a2fbcc2"
    },
    {
      "cell_type": "code",
      "execution_count": null,
      "metadata": {
        "outputId": "0060cae8-78f8-4eaa-c4a4-9a148cc8bbd8"
      },
      "outputs": [],
      "source": [
        "x.shape"
      ],
      "id": "5f86ca66-c7d4-427c-9ee8-c777cde934f3"
    },
    {
      "cell_type": "markdown",
      "metadata": {},
      "source": [
        "## 실험\n",
        "\n",
        "`-` 실험1"
      ],
      "id": "d95f5934-30ae-4691-b85b-fd58f18deb99"
    },
    {
      "cell_type": "code",
      "execution_count": null,
      "metadata": {},
      "outputs": [],
      "source": [
        "HIDDEN = 3"
      ],
      "id": "6484537f-a7be-4fa7-8022-a539fb36ffb4"
    },
    {
      "cell_type": "code",
      "execution_count": null,
      "metadata": {
        "outputId": "005931c4-5441-411b-9ae3-24f1a2809570"
      },
      "outputs": [
        {
          "output_type": "display_data",
          "metadata": {},
          "data": {
            "image/png": "[encoded data removed]"
          }
        }
      ],
      "source": [
        "fig, ax = plt.subplots(5,5,figsize=(10,10))\n",
        "for i in range(5):\n",
        "    for j in range(5):\n",
        "        rnn = torch.nn.RNN(4,HIDDEN).to(\"cuda:0\")\n",
        "        linr = torch.nn.Linear(HIDDEN,4).to(\"cuda:0\")\n",
        "        loss_fn = torch.nn.CrossEntropyLoss()\n",
        "        optimizr = torch.optim.Adam(list(rnn.parameters())+list(linr.parameters()),lr=0.1)\n",
        "        _water = torch.zeros(1,HIDDEN).to(\"cuda:0\")\n",
        "        for epoc in range(500):\n",
        "            ## 1\n",
        "            hidden, hT = rnn(x,_water)\n",
        "            output = linr(hidden)\n",
        "            ## 2\n",
        "            loss = loss_fn(output,y)\n",
        "            ## 3\n",
        "            loss.backward()\n",
        "            ## 4 \n",
        "            optimizr.step()\n",
        "            optimizr.zero_grad()\n",
        "        yhat=soft(output)    \n",
        "        combind = torch.concat([hidden,yhat],axis=1)\n",
        "        ax[i][j].matshow(combind.to(\"cpu\").data[-6:],cmap='bwr',vmin=-1,vmax=1)\n",
        "fig.suptitle(\"experiment1: RNN with {} hidden nodes\".format(HIDDEN),size=20)\n",
        "fig.tight_layout()"
      ],
      "id": "03515c3e-e7c9-4d3c-98ab-7ef38705d054"
    },
    {
      "cell_type": "markdown",
      "metadata": {},
      "source": [
        "`-` 실험2"
      ],
      "id": "b6627a19-be16-4dff-973f-01dcb52492da"
    },
    {
      "cell_type": "code",
      "execution_count": null,
      "metadata": {},
      "outputs": [],
      "source": [
        "HIDDEN = 4"
      ],
      "id": "2159b454-bc27-4ca1-b22b-eb02fff1af10"
    },
    {
      "cell_type": "code",
      "execution_count": null,
      "metadata": {
        "outputId": "648b8256-9003-4871-ca65-1e8acc669108"
      },
      "outputs": [
        {
          "output_type": "display_data",
          "metadata": {},
          "data": {
            "image/png": "[encoded data removed]"
          }
        }
      ],
      "source": [
        "fig, ax = plt.subplots(5,5,figsize=(10,10))\n",
        "for i in range(5):\n",
        "    for j in range(5):\n",
        "        rnn = torch.nn.RNN(4,HIDDEN).to(\"cuda:0\")\n",
        "        linr = torch.nn.Linear(HIDDEN,4).to(\"cuda:0\")\n",
        "        loss_fn = torch.nn.CrossEntropyLoss()\n",
        "        optimizr = torch.optim.Adam(list(rnn.parameters())+list(linr.parameters()),lr=0.1)\n",
        "        _water = torch.zeros(1,HIDDEN).to(\"cuda:0\")\n",
        "        for epoc in range(500):\n",
        "            ## 1\n",
        "            hidden, hT = rnn(x,_water)\n",
        "            output = linr(hidden)\n",
        "            ## 2\n",
        "            loss = loss_fn(output,y)\n",
        "            ## 3\n",
        "            loss.backward()\n",
        "            ## 4 \n",
        "            optimizr.step()\n",
        "            optimizr.zero_grad()\n",
        "        yhat=soft(output)    \n",
        "        combind = torch.concat([hidden,yhat],axis=1)\n",
        "        ax[i][j].matshow(combind.to(\"cpu\").data[-6:],cmap='bwr',vmin=-1,vmax=1)\n",
        "fig.suptitle(\"experiment2: RNN with {} hidden nodes\".format(HIDDEN),size=20)\n",
        "fig.tight_layout()"
      ],
      "id": "2a222286-59e7-45d8-8db0-ba4df9bb37f2"
    },
    {
      "cell_type": "markdown",
      "metadata": {},
      "source": [
        "`-` 실험3"
      ],
      "id": "a7717ca4-abed-4201-b046-1daa78cd4374"
    },
    {
      "cell_type": "code",
      "execution_count": null,
      "metadata": {},
      "outputs": [],
      "source": [
        "HIDDEN = 8"
      ],
      "id": "d92218bf-42d6-46ea-afe4-37c60569f54a"
    },
    {
      "cell_type": "code",
      "execution_count": null,
      "metadata": {
        "outputId": "9a318b70-9327-429f-ead3-c9415af882fd"
      },
      "outputs": [
        {
          "output_type": "display_data",
          "metadata": {},
          "data": {
            "image/png": "[encoded data removed]"
          }
        }
      ],
      "source": [
        "fig, ax = plt.subplots(5,5,figsize=(10,8))\n",
        "for i in range(5):\n",
        "    for j in range(5):\n",
        "        rnn = torch.nn.RNN(4,HIDDEN).to(\"cuda:0\")\n",
        "        linr = torch.nn.Linear(HIDDEN,4).to(\"cuda:0\")\n",
        "        loss_fn = torch.nn.CrossEntropyLoss()\n",
        "        optimizr = torch.optim.Adam(list(rnn.parameters())+list(linr.parameters()),lr=0.1)\n",
        "        _water = torch.zeros(1,HIDDEN).to(\"cuda:0\")\n",
        "        for epoc in range(500):\n",
        "            ## 1\n",
        "            hidden, hT = rnn(x,_water)\n",
        "            output = linr(hidden)\n",
        "            ## 2\n",
        "            loss = loss_fn(output,y)\n",
        "            ## 3\n",
        "            loss.backward()\n",
        "            ## 4 \n",
        "            optimizr.step()\n",
        "            optimizr.zero_grad()\n",
        "        yhat=soft(output)    \n",
        "        combind = torch.concat([hidden,yhat],axis=1)\n",
        "        ax[i][j].matshow(combind.to(\"cpu\").data[-6:],cmap='bwr',vmin=-1,vmax=1)\n",
        "fig.suptitle(\"experiment3: RNN with {} hidden nodes\".format(HIDDEN),size=20)\n",
        "fig.tight_layout()"
      ],
      "id": "d5780dfa-acc2-47af-91a7-a234ee005487"
    },
    {
      "cell_type": "markdown",
      "metadata": {},
      "source": [
        "## 결론\n",
        "\n",
        "`-` 노드수가 많으면 학습에 유리함\n",
        "\n",
        "# 순환신경망 표현력 비교실험 (2)\n",
        "\n",
        "## data: ab(c,C)"
      ],
      "id": "092db5f8-78bc-4448-af04-5b2a0b5f411e"
    },
    {
      "cell_type": "code",
      "execution_count": null,
      "metadata": {},
      "outputs": [],
      "source": [
        "# torch.manual_seed(43052)\n",
        "# txta = 'a'*50\n",
        "# txtb = 'b'*50\n",
        "# prob_upper = torch.bernoulli(torch.zeros(50)+0.5) \n",
        "# txtc = list(map(lambda x: 'c' if x==1 else 'C', prob_upper))\n",
        "# txt = ''.join([txta[i]+','+txtb[i]+','+txtc[i]+',' for i in range(50)]).split(',')[:-1]\n",
        "# txt_x = txt[:-1] \n",
        "# txt_y = txt[1:]\n",
        "# pd.DataFrame({'txt_x':txt_x,'txt_y':txt_y}).to_csv(\"2022-11-25-ab(c,C).csv\",index=False)"
      ],
      "id": "d2bbe623-0fa1-429a-a100-00a9a4445216"
    },
    {
      "cell_type": "code",
      "execution_count": null,
      "metadata": {
        "outputId": "e96a482d-9667-4a28-8e7f-946d8921ded5"
      },
      "outputs": [],
      "source": [
        "df= pd.read_csv(\"https://raw.githubusercontent.com/guebin/DL2022/main/posts/IV.%20RNN/2022-11-25-ab(c%2CC).csv\")\n",
        "df"
      ],
      "id": "dad38eb6-ecc4-4a2f-b105-a54e790a4ff4"
    },
    {
      "cell_type": "code",
      "execution_count": null,
      "metadata": {},
      "outputs": [],
      "source": [
        "mapping = {'a':0,'b':1,'c':2,'C':3} \n",
        "x= torch.nn.functional.one_hot(torch.tensor(f(df.txt_x,mapping))).float()\n",
        "y= torch.nn.functional.one_hot(torch.tensor(f(df.txt_y,mapping))).float()"
      ],
      "id": "5e47b82a-13b5-4ac6-a81b-399cc40d0b69"
    },
    {
      "cell_type": "code",
      "execution_count": null,
      "metadata": {},
      "outputs": [],
      "source": [
        "x = x.to(\"cuda:0\")\n",
        "y = y.to(\"cuda:0\") "
      ],
      "id": "0fa77ca9-cd88-4300-8e5c-9d512abf0ca8"
    },
    {
      "cell_type": "markdown",
      "metadata": {},
      "source": [
        "## 실험\n",
        "\n",
        "`-` 실험1"
      ],
      "id": "1bbae4f1-8205-48f2-8636-46745617af3a"
    },
    {
      "cell_type": "code",
      "execution_count": null,
      "metadata": {},
      "outputs": [],
      "source": [
        "HIDDEN = 3"
      ],
      "id": "eef9d7c2-d8b1-41f6-981d-2d884c3bb249"
    },
    {
      "cell_type": "code",
      "execution_count": null,
      "metadata": {
        "outputId": "1d75925d-e0ed-4a66-8310-fa2c8bbe3d1a"
      },
      "outputs": [
        {
          "output_type": "display_data",
          "metadata": {},
          "data": {
            "image/png": "[encoded data removed]"
          }
        }
      ],
      "source": [
        "fig, ax = plt.subplots(5,5,figsize=(10,10))\n",
        "for i in range(5):\n",
        "    for j in range(5):\n",
        "        lstm = torch.nn.LSTM(4,HIDDEN).to(\"cuda:0\")\n",
        "        linr = torch.nn.Linear(HIDDEN,4).to(\"cuda:0\")\n",
        "        loss_fn = torch.nn.CrossEntropyLoss()\n",
        "        optimizr = torch.optim.Adam(list(lstm.parameters())+list(linr.parameters()),lr=0.1)\n",
        "        _water = torch.zeros(1,HIDDEN).to(\"cuda:0\")\n",
        "        for epoc in range(500):\n",
        "            ## 1\n",
        "            hidden, (hT,cT) = lstm(x,(_water,_water))\n",
        "            output = linr(hidden)\n",
        "            ## 2\n",
        "            loss = loss_fn(output,y)\n",
        "            ## 3\n",
        "            loss.backward()\n",
        "            ## 4 \n",
        "            optimizr.step()\n",
        "            optimizr.zero_grad()\n",
        "        yhat=soft(output)    \n",
        "        combinded = torch.concat([yhat,y],axis=1)\n",
        "        ax[i][j].matshow(combinded.to(\"cpu\").data[-6:],cmap='bwr',vmin=-1,vmax=1)\n",
        "fig.suptitle(\"experiment1: LSTM with {} hidden nodes\".format(HIDDEN),size=20)\n",
        "fig.tight_layout()\n",
        "\n",
        "# 2행 4열->과적합되어있음.. c,C 확실히 알수 없는데 확실하게 맞추고있네? -> 과적합이라고 보자!"
      ],
      "id": "38cf3429-8be3-4bbb-9451-5926366044f5"
    },
    {
      "cell_type": "markdown",
      "metadata": {},
      "source": [
        "`-` 실험2"
      ],
      "id": "4ea2cc10-b31f-46e7-8088-81daf418d80d"
    },
    {
      "cell_type": "code",
      "execution_count": null,
      "metadata": {},
      "outputs": [],
      "source": [
        "HIDDEN = 16"
      ],
      "id": "5e9619a9-b5de-4a54-914d-adc19903c1d2"
    },
    {
      "cell_type": "code",
      "execution_count": null,
      "metadata": {
        "outputId": "c637320e-b555-4e35-f298-5e59e92a60ac",
        "tags": []
      },
      "outputs": [
        {
          "output_type": "display_data",
          "metadata": {},
          "data": {
            "image/png": "[encoded data removed]"
          }
        }
      ],
      "source": [
        "fig, ax = plt.subplots(5,5,figsize=(10,10))\n",
        "for i in range(5):\n",
        "    for j in range(5):\n",
        "        lstm = torch.nn.LSTM(4,HIDDEN).to(\"cuda:0\")\n",
        "        linr = torch.nn.Linear(HIDDEN,4).to(\"cuda:0\")\n",
        "        loss_fn = torch.nn.CrossEntropyLoss()\n",
        "        optimizr = torch.optim.Adam(list(lstm.parameters())+list(linr.parameters()),lr=0.1)\n",
        "        _water = torch.zeros(1,HIDDEN).to(\"cuda:0\")\n",
        "        for epoc in range(500):\n",
        "            ## 1\n",
        "            hidden, (hT,cT) = lstm(x,(_water,_water))\n",
        "            output = linr(hidden)\n",
        "            ## 2\n",
        "            loss = loss_fn(output,y)\n",
        "            ## 3\n",
        "            loss.backward()\n",
        "            ## 4 \n",
        "            optimizr.step()\n",
        "            optimizr.zero_grad()\n",
        "        yhat=soft(output)    \n",
        "        combinded = torch.concat([yhat,y],axis=1)\n",
        "        ax[i][j].matshow(combinded.to(\"cpu\").data[-6:],cmap='bwr',vmin=-1,vmax=1)\n",
        "fig.suptitle(\"experiment2: LSTM with {} hidden nodes\".format(HIDDEN),size=20)\n",
        "fig.tight_layout()"
      ],
      "id": "3ef2ef52-5450-425a-93c4-4f97e6534dbb"
    },
    {
      "cell_type": "markdown",
      "metadata": {},
      "source": [
        "## 결론\n",
        "\n",
        "`-` 노드수가 너무 많으면 오버피팅 경향도 있음\n",
        "\n",
        "# 문자열에서 단어로\n",
        "\n",
        "## data: human numbers 5"
      ],
      "id": "e795439e-6c59-417c-8fc5-ed4cc3e7e5f1"
    },
    {
      "cell_type": "code",
      "execution_count": null,
      "metadata": {},
      "outputs": [],
      "source": [
        "txt = (['one',',','two',',','three',',','four',',','five',',']*100)[:-1]"
      ],
      "id": "975afdbd-b316-4d57-9687-06d3f7862944"
    },
    {
      "cell_type": "code",
      "execution_count": null,
      "metadata": {
        "outputId": "bc429e37-45f8-4dae-9bbf-17e3ccebb764"
      },
      "outputs": [],
      "source": [
        "mapping = {',':0, 'one':1, 'two':2, 'three':3, 'four':4, 'five':5} \n",
        "mapping"
      ],
      "id": "349dc2e3-cfcb-4646-a058-7a349489e026"
    },
    {
      "cell_type": "code",
      "execution_count": null,
      "metadata": {},
      "outputs": [],
      "source": [
        "txt_x = txt[:-1]\n",
        "txt_y = txt[1:] "
      ],
      "id": "188c0571-b8fe-428d-adf8-0ad3d85f959d"
    },
    {
      "cell_type": "code",
      "execution_count": null,
      "metadata": {
        "outputId": "c22e67ff-2c54-41bd-b96f-456f0eed21ee"
      },
      "outputs": [],
      "source": [
        "txt_x[0:5], txt_y[0:5]"
      ],
      "id": "edd93e42-881e-4aa7-8767-1fc3f86838ac"
    },
    {
      "cell_type": "code",
      "execution_count": null,
      "metadata": {},
      "outputs": [],
      "source": [
        "x = torch.nn.functional.one_hot(torch.tensor(f(txt_x,mapping))).float().to(\"cuda:0\")\n",
        "y = torch.nn.functional.one_hot(torch.tensor(f(txt_y,mapping))).float().to(\"cuda:0\")"
      ],
      "id": "dea37e1c-d622-42ee-8c32-0dcfbadc9431"
    },
    {
      "cell_type": "markdown",
      "metadata": {},
      "source": [
        "## torch를 이용한 learn"
      ],
      "id": "d6ab7f92-0b48-481a-9601-8169abbe61e7"
    },
    {
      "cell_type": "code",
      "execution_count": null,
      "metadata": {},
      "outputs": [],
      "source": [
        "torch.manual_seed(43052) \n",
        "lstm = torch.nn.LSTM(6,20).to(\"cuda:0\")                  #히든레이어 20개\n",
        "linr = torch.nn.Linear(20,6).to(\"cuda:0\") \n",
        "loss_fn = torch.nn.CrossEntropyLoss()                    #손실함수 적당히 정의해주기\n",
        "optimizr = torch.optim.Adam(list(lstm.parameters())+list(linr.parameters()),lr=0.1)"
      ],
      "id": "03031aa1-e93d-4ef2-b9a1-56d41026c904"
    },
    {
      "cell_type": "code",
      "execution_count": null,
      "metadata": {},
      "outputs": [],
      "source": [
        "_water = torch.zeros(1,20).to(\"cuda:0\")\n",
        "for epoc in range(50):\n",
        "    ## 1 \n",
        "    hidden, (hT,cT) =lstm(x,(_water,_water))\n",
        "    output = linr(hidden) \n",
        "    ## 2 \n",
        "    loss = loss_fn(output,y) \n",
        "    ## 3 \n",
        "    loss.backward()\n",
        "    ## 4 \n",
        "    optimizr.step()\n",
        "    optimizr.zero_grad()     "
      ],
      "id": "899fa92b-8e37-40c1-b8b7-2ab90e8eec15"
    },
    {
      "cell_type": "code",
      "execution_count": null,
      "metadata": {
        "outputId": "c66a4dfe-c5f8-42e1-95b2-06755e787a36"
      },
      "outputs": [
        {
          "output_type": "display_data",
          "metadata": {},
          "data": {
            "image/png": "[encoded data removed]"
          }
        }
      ],
      "source": [
        "plt.matshow(soft(output).data[-10:].to(\"cpu\"),cmap='bwr',vmin=-1,vmax=1)"
      ],
      "id": "25930fac-28f5-4e33-95e4-13ee7f7f97c3"
    },
    {
      "cell_type": "markdown",
      "metadata": {},
      "source": [
        "## fastai 이용한 learn"
      ],
      "id": "4826f176-c430-45e3-8e81-b09957331a0b"
    },
    {
      "cell_type": "code",
      "execution_count": null,
      "metadata": {},
      "outputs": [],
      "source": [
        "ds1 = torch.utils.data.TensorDataset(x,y)\n",
        "ds2 = torch.utils.data.TensorDataset(x,y) # dummy \n",
        "dl1 = torch.utils.data.DataLoader(ds1,batch_size=998)  #X의 full batch사이즈임\n",
        "dl2 = torch.utils.data.DataLoader(ds2,batch_size=998) # dummy    #test에 해당하는 거.. 그냥 트레이닝이랑 똑같이 만들자. dls가 두개를 이용해서 만들어야 하니까 \n",
        "dls = DataLoaders(dl1,dl2) #데이터로드 두개를 이용해서 만들어야 한다."
      ],
      "id": "71addc87-3ce3-46a1-8c9c-453e0c97bc4c"
    },
    {
      "cell_type": "code",
      "execution_count": null,
      "metadata": {},
      "outputs": [],
      "source": [
        "# lrnr=Learner(dls,net,loss_fn) 이렇게 하려고 했는데 \n",
        "# loss_fn은 만들 수 있어\n",
        "# 근데 net에서.. 두개의 네트워크를 같이 쓰고 있으니까 이걸 하나의 네트워크로 통일해서 넣기가 애매하다. lstm을 넣어야할지? linear를 넣어야할지? 애매함.\n",
        "# 두개이 연속동작을 한번에 해야해\n",
        "# class이용해서 해보자!"
      ],
      "id": "SRbcxBgGUOP7"
    },
    {
      "cell_type": "code",
      "execution_count": null,
      "metadata": {},
      "outputs": [],
      "source": [
        "class MyLSTM(torch.nn.Module):\n",
        "    def __init__(self):\n",
        "        super().__init__()\n",
        "        self.lstm = torch.nn.LSTM(6,20)\n",
        "        self.linr = torch.nn.Linear(20,6) \n",
        "    def forward(self,x):\n",
        "        _water = torch.zeros(1,20).to(\"cuda:0\")\n",
        "        hidden, (hT,cT) =self.lstm(x,(_water,_water))\n",
        "        output = self.linr(hidden)\n",
        "        return output         "
      ],
      "id": "163c6887-7acc-4277-a8b1-552301ac60c8"
    },
    {
      "cell_type": "code",
      "execution_count": null,
      "metadata": {},
      "outputs": [],
      "source": [
        "net = MyLSTM().to(\"cuda:0\")\n",
        "loss_fn = torch.nn.CrossEntropyLoss()"
      ],
      "id": "ed4a1806-eafa-430c-ad11-9acb2f49209e"
    },
    {
      "cell_type": "code",
      "execution_count": null,
      "metadata": {},
      "outputs": [],
      "source": [
        "lrnr = Learner(dls,net,loss_fn,lr=0.1)"
      ],
      "id": "c8536f0d-3859-434d-9ec5-1bfd3f2f4bc2"
    },
    {
      "cell_type": "code",
      "execution_count": null,
      "metadata": {
        "outputId": "a7f78ed2-eac5-470d-cab2-bd920c73dae5"
      },
      "outputs": [],
      "source": [
        "lrnr.fit(50)"
      ],
      "id": "7b05d3f2-33bf-4598-a733-82f8b8c27e8f"
    },
    {
      "cell_type": "code",
      "execution_count": null,
      "metadata": {
        "outputId": "38583d9c-6466-4883-f1af-e9c4598bd785"
      },
      "outputs": [
        {
          "output_type": "display_data",
          "metadata": {},
          "data": {
            "image/png": "[encoded data removed]"
          }
        }
      ],
      "source": [
        "plt.matshow(soft(lrnr.model(x)[-10:]).data.to(\"cpu\"),cmap = 'bwr', vmin=-1,vmax=1)"
      ],
      "id": "b35af888-c949-4d1a-85f3-7c840f2b2e5d"
    },
    {
      "cell_type": "markdown",
      "metadata": {},
      "source": [
        "# 똑같은 코드들: `torch.nn.LSTM`\n",
        "\n",
        "## data: hi?hello!!"
      ],
      "id": "bbddd6ce-4535-4c64-a67c-87bf775e4a00"
    },
    {
      "cell_type": "code",
      "execution_count": null,
      "metadata": {},
      "outputs": [],
      "source": [
        "txt = list('hi?hello!!')*100 \n",
        "txt_x = txt[:-1]\n",
        "txt_y = txt[1:]"
      ],
      "id": "0564ff2e-e120-4152-9a2e-847f852cd3a7"
    },
    {
      "cell_type": "code",
      "execution_count": null,
      "metadata": {},
      "outputs": [],
      "source": [
        "mapping = {'!':0, '?':1,'h':2,'i':3,'e':4,'l':5,'o':6} \n",
        "x= torch.nn.functional.one_hot(torch.tensor(f(txt_x,mapping))).float().to(\"cuda:0\")\n",
        "y= torch.nn.functional.one_hot(torch.tensor(f(txt_y,mapping))).float().to(\"cuda:0\")"
      ],
      "id": "5b017371-5deb-4f0f-9d57-596a7bde41c4"
    },
    {
      "cell_type": "markdown",
      "metadata": {},
      "source": [
        "## 세트1: \\_water의 생략\n",
        "\n",
        "`-` 코드1: 정석코드"
      ],
      "id": "dec10255-010a-490f-a5dd-42aa19e363a8"
    },
    {
      "cell_type": "code",
      "execution_count": null,
      "metadata": {},
      "outputs": [],
      "source": [
        "torch.manual_seed(43052)\n",
        "lstm = torch.nn.LSTM(7,4).to(\"cuda:0\")"
      ],
      "id": "54221eb4-786e-47ad-94a2-6ff21efad7a6"
    },
    {
      "cell_type": "code",
      "execution_count": null,
      "metadata": {
        "outputId": "59dea0c4-7e56-4e7a-d5a3-3d1775f1084f"
      },
      "outputs": [],
      "source": [
        "_water = torch.zeros(1,4).to(\"cuda:0\")\n",
        "lstm(x, (_water,_water))"
      ],
      "id": "207be544-fd98-465f-9d09-a09f5ac98b6e"
    },
    {
      "cell_type": "code",
      "execution_count": null,
      "metadata": {},
      "outputs": [],
      "source": [
        "# 히든레이거 값\n",
        "# HT\n",
        "# CT"
      ],
      "id": "7ku_4MnZWt_h"
    },
    {
      "cell_type": "markdown",
      "metadata": {},
      "source": [
        "`-` 코드2: \\_water 는 사실 없어도 괜찮았어.."
      ],
      "id": "5c3607c8-d487-4817-9dc4-2cedadb4b3f7"
    },
    {
      "cell_type": "code",
      "execution_count": null,
      "metadata": {},
      "outputs": [],
      "source": [
        "torch.manual_seed(43052)\n",
        "lstm = torch.nn.LSTM(7,4).to(\"cuda:0\")"
      ],
      "id": "472161c7-186f-4c99-a2c5-5c483e2366e9"
    },
    {
      "cell_type": "code",
      "execution_count": null,
      "metadata": {
        "outputId": "e95d638e-0c16-458e-d496-8f14bc7fa1b6"
      },
      "outputs": [],
      "source": [
        "lstm(x)"
      ],
      "id": "99a4282c-e61f-405b-be82-16868281b15c"
    },
    {
      "cell_type": "markdown",
      "metadata": {},
      "source": [
        "## 세트2: x.shape = ($L$, $H_{in}$) or ($L$,$N$,$H_{in}$)\n",
        "\n",
        "`-` 파라메터 설명\n",
        "\n",
        "-   $L$ = sequece length = 시계열의 길이 = 간장을 몇 년 전통으로\n",
        "    이어갈지 (time시리지의 length)\n",
        "-   $N$ = batch size = 전체데이터는 몇 개의 시계열이 있는지 = 전체\n",
        "    데이터를 몇개의 시계열로 쪼갤지 \\<– 왜 이걸 해야해?\n",
        "-   $H_{in}$ = input_size = 시점을 고정하였을 경우 입력자료의 차원 =\n",
        "    입력시계열이 시점별로 몇개의 변수로 나타내어 지는지? = 만약에\n",
        "    원핫인코딩으로 단어를 정리하면 단어수를 의미함"
      ],
      "id": "6639f15b-4a8d-479e-9b33-64ffd798b676"
    },
    {
      "cell_type": "code",
      "execution_count": null,
      "metadata": {},
      "outputs": [],
      "source": [
        "# x.shape = [999,7]  <- len가 999이고 구별되는 것이 7개 \n",
        "# 7개 이거를 Hin으로 생각.. \n",
        "# Hin: Hnet 라고 생각..\n",
        "# x,shape=[999,N,Hin] 이렇게 생긴 N이 있대 \n",
        "\n",
        "# Hin \"시점을 고정했을때\"   만약 x[0] = 0., 0., 1., 0., 0.,  h를 2로 맵핑했으니까 저 1은 h를 의미해 \n",
        "# 즉 하나의 시점에는 7개 차원인 정보들에 대한 입력..! \n",
        "\n",
        "# 만약 x.shape=[1000,7] dlaus 1000x7인데, 반으로 쪼개서 500x7, 500x7로 만들면 여기서 N=2이다.\n",
        "# 지금우리는 쪼개고 있지 않고 N=1로ㅓ만 진행하눈중 "
      ],
      "id": "FUyzUdPDXe7j"
    },
    {
      "cell_type": "markdown",
      "metadata": {},
      "source": [
        "`-` 코드2: \\_water 는 사실 없어도 괜찮았어.."
      ],
      "id": "ba877501-480e-46bd-aaf0-21f7049a341a"
    },
    {
      "cell_type": "code",
      "execution_count": null,
      "metadata": {},
      "outputs": [],
      "source": [
        "torch.manual_seed(43052)\n",
        "lstm = torch.nn.LSTM(7,4).to(\"cuda:0\")"
      ],
      "id": "b39a8173-d72f-4be7-9dcf-37049d3effc9"
    },
    {
      "cell_type": "code",
      "execution_count": null,
      "metadata": {
        "outputId": "4134931a-644f-4a74-d57c-3f87d49ddf25"
      },
      "outputs": [],
      "source": [
        "lstm(x)"
      ],
      "id": "ec0c0a9a-77ef-4c2b-b191-22de833938e6"
    },
    {
      "cell_type": "markdown",
      "metadata": {},
      "source": [
        "`-` 코드3: x의 차원은 사실 엄밀하게는 ($L$,$N$,$H_{in}$) 와 같다…"
      ],
      "id": "7f647e00-51b3-4041-943f-ae3f160babf5"
    },
    {
      "cell_type": "code",
      "execution_count": null,
      "metadata": {},
      "outputs": [],
      "source": [
        "torch.manual_seed(43052)\n",
        "lstm = torch.nn.LSTM(7,4).to(\"cuda:0\")"
      ],
      "id": "aa4059bb-3a78-439a-b91a-6ca58388bdf6"
    },
    {
      "cell_type": "code",
      "execution_count": null,
      "metadata": {
        "outputId": "02f9f3a2-7cdb-4682-eb1a-eb88b0007a35"
      },
      "outputs": [],
      "source": [
        "lstm(x.reshape(999,1,7))\n",
        "# lstm(x) 한것과 같은 숫자가 나온당.\n",
        "# batch_first=False가 기본 "
      ],
      "id": "58d7266d-c6a0-4e5d-a8ba-c57014639694"
    },
    {
      "cell_type": "markdown",
      "metadata": {},
      "source": [
        "`-` 코드4: `batch_first=True`옵션을 사용하여 lstm을 만든경우"
      ],
      "id": "b69f346a-ad65-4d2c-ac69-6c10d566f92a"
    },
    {
      "cell_type": "code",
      "execution_count": null,
      "metadata": {},
      "outputs": [],
      "source": [
        "torch.manual_seed(43052)\n",
        "lstm = torch.nn.LSTM(7,4,batch_first=True).to(\"cuda:0\")"
      ],
      "id": "a049e5af-148f-4174-a251-a779b1223750"
    },
    {
      "cell_type": "code",
      "execution_count": null,
      "metadata": {},
      "outputs": [],
      "source": [
        "# lstm(x.reshape(999,1,7)) 하면 값이 이상하게 나온다! \n",
        "# batch_first=true옵션을 사용하면 (N,L,Hin) 으로 써줘야 한당. "
      ],
      "id": "5LJK02DKbEho"
    },
    {
      "cell_type": "code",
      "execution_count": null,
      "metadata": {
        "outputId": "3c965213-09e4-481e-bbbd-dfc38386680d"
      },
      "outputs": [],
      "source": [
        "lstm(x.reshape(1,999,7))"
      ],
      "id": "917704b7-72e6-4f64-9c60-537c67ccbf54"
    },
    {
      "cell_type": "markdown",
      "metadata": {},
      "source": [
        "## 세트3: hidden.shape = ($D\\times$ `num_layers`, $H_{out}$) or ($D\\times$ `num_layers`, $N$, $H_{out}$)\n",
        "\n",
        "`-` 파라메터 설명\n",
        "\n",
        "-   $D$ = 2 if bidirectional=True otherwise 1 = 양방향이면 2, 단방향이면\n",
        "    1 (우리는 단방향만 배움)\n",
        "-   `num_layres` = 중첩된 RNN일 경우 (우리는 중첩을 안시켰음)\n",
        "-   $N$ = batch size = 전체데이터는 몇 개의 시계열이 있는지 = 전체\n",
        "    데이터를 몇개의 시계열로 쪼갤지 \\<– 왜 이걸 해야해?\n",
        "-   $H_{out}$ = 히든노드의 수"
      ],
      "id": "dbf4c55a-43ff-44c3-bf3e-bd73cb368463"
    },
    {
      "cell_type": "code",
      "execution_count": null,
      "metadata": {},
      "outputs": [],
      "source": [
        "# _water는 (1,히든)이였는데 여기서 1은 D X num_layers의 계산값이였다. \n",
        "# num_layres는 중첩시킨적없어서 이값도 1\n",
        "# N= 쪼갠적없으니까 1\n"
      ],
      "id": "fMcJ48kDbn1G"
    },
    {
      "cell_type": "markdown",
      "metadata": {},
      "source": [
        "`-` 코드5: x.shape = ($L$,$1$,$H_{in}$) $\\to$ hidden.shape =\n",
        "($1$,$1$,$H_{out}$)"
      ],
      "id": "0bed6c66-7b0e-4748-92b4-8d5794381391"
    },
    {
      "cell_type": "code",
      "execution_count": null,
      "metadata": {},
      "outputs": [],
      "source": [
        "torch.manual_seed(43052)\n",
        "lstm = torch.nn.LSTM(7,4).to(\"cuda:0\")"
      ],
      "id": "3df8ff0e-fc10-4835-8d13-33302228e2de"
    },
    {
      "cell_type": "code",
      "execution_count": null,
      "metadata": {
        "outputId": "84a72059-153d-4767-ce45-e1fc05d34c29"
      },
      "outputs": [],
      "source": [
        "_water = torch.zeros(1,1,4).to(\"cuda:0\")    #zeros(1,4)하면 차원 에러가남 \n",
        "lstm(x.reshape(999,1,7),(_water,_water))"
      ],
      "id": "cd3bbc31-1b83-4e0a-9837-3aaa6ad2caa4"
    },
    {
      "cell_type": "markdown",
      "metadata": {},
      "source": [
        "`-` 사실 \\_water.shape = (1,$H_{out}$) 에서 1은 observation의 차원을\n",
        "의미하는게 아님 (그런데 대충 그렇게 생각해도 무방함)\n",
        "\n",
        "-   한 시점의 콩물에 대하여 양방향으로 간장을 만들면 \\_water.shape =\n",
        "    (2,h)\n",
        "-   한 시점의 콩물에 대하여 3중첩으로 간장을 만들면 \\_water.shape =\n",
        "    (3,h)\n",
        "-   한 시점의 콩물에 대하여 3중첩간장을 양방향으로 만들면 \\_water.shape\n",
        "    = (6,h)"
      ],
      "id": "61c46f6c-ad57-4d02-98ef-916822b1b4ae"
    },
    {
      "cell_type": "code",
      "execution_count": null,
      "metadata": {},
      "outputs": [],
      "source": [
        "# 원래 1은 D X 넘버오브레이어인데 "
      ],
      "id": "5Qx4KZH-c65r"
    },
    {
      "cell_type": "markdown",
      "metadata": {},
      "source": [
        "# 똑같은 코드들: `torch.nn.LSTMCell`\n",
        "\n",
        "## data: hi?hello!!"
      ],
      "id": "aaae5145-7ac3-43ba-8c47-f2ce3163d6dc"
    },
    {
      "cell_type": "code",
      "execution_count": null,
      "metadata": {},
      "outputs": [],
      "source": [
        "txt = list('hi?hello!!')*100 \n",
        "txt_x = txt[:-1]\n",
        "txt_y = txt[1:]"
      ],
      "id": "b43b7377-8aa5-404a-9bea-b150739e102b"
    },
    {
      "cell_type": "code",
      "execution_count": null,
      "metadata": {},
      "outputs": [],
      "source": [
        "mapping = {'!':0, '?':1,'h':2,'i':3,'e':4,'l':5,'o':6} \n",
        "x= torch.nn.functional.one_hot(torch.tensor(f(txt_x,mapping))).float().to(\"cuda:0\")\n",
        "y= torch.nn.functional.one_hot(torch.tensor(f(txt_y,mapping))).float().to(\"cuda:0\")"
      ],
      "id": "30e58cc6-4070-48f8-8a51-5272d715b42d"
    },
    {
      "cell_type": "markdown",
      "metadata": {},
      "source": [
        "## 세트1: \\_water의 생략\n",
        "\n",
        "`-` 코드1: 정석코드"
      ],
      "id": "20410ad5-7507-4744-b67c-a1b6885f6cbc"
    },
    {
      "cell_type": "code",
      "execution_count": null,
      "metadata": {},
      "outputs": [],
      "source": [
        "torch.manual_seed(43052) \n",
        "lstmcell = torch.nn.LSTMCell(7,4).to(\"cuda:0\") "
      ],
      "id": "339925c6-9e38-4d41-bbc1-9397807bfb35"
    },
    {
      "cell_type": "code",
      "execution_count": null,
      "metadata": {
        "outputId": "453662eb-beeb-4946-e051-e917b779f3db"
      },
      "outputs": [],
      "source": [
        "xt = x[[1]]\n",
        "_water = torch.zeros(1,4).to(\"cuda:0\")\n",
        "xt.shape, _water.shape"
      ],
      "id": "e153f33f-f9ff-40e6-95db-6fab98eae5ba"
    },
    {
      "cell_type": "code",
      "execution_count": null,
      "metadata": {
        "outputId": "612e0453-218a-4522-efd9-e4d282afc8f3"
      },
      "outputs": [],
      "source": [
        "lstmcell(xt,(_water,_water))"
      ],
      "id": "baaa4cab-d155-4711-b820-60d5d61872f5"
    },
    {
      "cell_type": "markdown",
      "metadata": {},
      "source": [
        "`-` 코드2: \\_water의 생략"
      ],
      "id": "1e6a87f9-6962-46e0-9611-909df9182082"
    },
    {
      "cell_type": "code",
      "execution_count": null,
      "metadata": {},
      "outputs": [],
      "source": [
        "torch.manual_seed(43052) \n",
        "lstmcell = torch.nn.LSTMCell(7,4).to(\"cuda:0\") "
      ],
      "id": "a6ca0b05-824b-4fd8-b537-0754c79bbcc3"
    },
    {
      "cell_type": "code",
      "execution_count": null,
      "metadata": {
        "outputId": "aeacae09-9d68-4a43-cfb3-534dc061d7df"
      },
      "outputs": [],
      "source": [
        "xt = x[[1]]\n",
        "xt.shape"
      ],
      "id": "23cb76fe-b6a8-44c2-917a-6bded94471ca"
    },
    {
      "cell_type": "code",
      "execution_count": null,
      "metadata": {
        "outputId": "82f28138-2a48-4c3c-ec22-bd34b55db4bf"
      },
      "outputs": [],
      "source": [
        "lstmcell(xt)"
      ],
      "id": "43a570b9-b011-472c-b691-3b3c65338dda"
    },
    {
      "cell_type": "markdown",
      "metadata": {},
      "source": [
        "## 세트2: xt.shape = ($N$,$H_{in}$) or ($H_{in}$)\n",
        "\n",
        "`-` 코드2: \\_water의 생략"
      ],
      "id": "1402e723-9a72-43c2-a6f1-8fde9dd3b4e7"
    },
    {
      "cell_type": "code",
      "execution_count": null,
      "metadata": {},
      "outputs": [],
      "source": [
        "torch.manual_seed(43052) \n",
        "lstmcell = torch.nn.LSTMCell(7,4).to(\"cuda:0\") "
      ],
      "id": "528462b4-1335-4493-adbd-69c6218542c4"
    },
    {
      "cell_type": "code",
      "execution_count": null,
      "metadata": {
        "outputId": "1e04620b-f5dc-4fb5-d49c-62302a98450e"
      },
      "outputs": [],
      "source": [
        "xt = x[[1]]\n",
        "xt.shape"
      ],
      "id": "1c4c93b7-eabe-4de2-9ebb-86b0cbde1f11"
    },
    {
      "cell_type": "code",
      "execution_count": null,
      "metadata": {
        "outputId": "39a965ca-5379-456e-bc63-b8b71fc88f23"
      },
      "outputs": [],
      "source": [
        "lstmcell(xt)"
      ],
      "id": "b90606e3-48a2-4dff-b805-d66ecbf90242"
    },
    {
      "cell_type": "markdown",
      "metadata": {},
      "source": [
        "`-` 코드3:"
      ],
      "id": "06a4b865-798c-47bf-83d9-59294cd959f8"
    },
    {
      "cell_type": "code",
      "execution_count": null,
      "metadata": {},
      "outputs": [],
      "source": [
        "torch.manual_seed(43052) \n",
        "lstmcell = torch.nn.LSTMCell(7,4).to(\"cuda:0\") "
      ],
      "id": "bf01bb43-02c6-45a5-aa13-e1d78d45fb2e"
    },
    {
      "cell_type": "code",
      "execution_count": null,
      "metadata": {
        "outputId": "dc9a49c3-2eaf-4aa0-bcc6-143afdf8b305"
      },
      "outputs": [],
      "source": [
        "xt = x[1]\n",
        "xt.shape"
      ],
      "id": "2daf013e-ad1b-40ea-b950-937380c1d69f"
    },
    {
      "cell_type": "code",
      "execution_count": null,
      "metadata": {
        "outputId": "d9aaa643-0ff8-4230-d3c6-e690c0a23ebf"
      },
      "outputs": [],
      "source": [
        "lstmcell(xt)"
      ],
      "id": "59e11088-3a67-47bd-badb-40afe742b873"
    },
    {
      "cell_type": "markdown",
      "metadata": {},
      "source": [
        "## 세트3: hidden.shape = ($N$,$H_{out}$) or ($H_{out}$)\n",
        "\n",
        "`-` 코드4: xt.shape = ($H_{in}$) $\\to$ \\_water.shape = $(H_{out})$"
      ],
      "id": "92d033f1-d4d0-4a7b-8632-189debc3a3be"
    },
    {
      "cell_type": "code",
      "execution_count": null,
      "metadata": {},
      "outputs": [],
      "source": [
        "torch.manual_seed(43052) \n",
        "lstmcell = torch.nn.LSTMCell(7,4).to(\"cuda:0\") "
      ],
      "id": "0895be40-f114-4144-ae72-187caa3b4187"
    },
    {
      "cell_type": "code",
      "execution_count": null,
      "metadata": {
        "outputId": "642c832b-6c19-453f-b466-72f0a2b8bf92"
      },
      "outputs": [],
      "source": [
        "xt = x[1]\n",
        "_water = torch.zeros(4).to(\"cuda:0\")\n",
        "xt.shape,_water.shape"
      ],
      "id": "a352c0a8-8168-499d-8257-fd1d9c9870a4"
    },
    {
      "cell_type": "code",
      "execution_count": null,
      "metadata": {
        "outputId": "0cebd812-e0c7-4ea7-e017-76686a4a3a47"
      },
      "outputs": [],
      "source": [
        "lstmcell(xt, (_water,_water))"
      ],
      "id": "98c1ac02-08f4-49a5-9fe7-5157736448e3"
    },
    {
      "cell_type": "markdown",
      "metadata": {},
      "source": [
        "# Summary\n",
        "\n",
        "## 똑같은 코드들 정리\n",
        "\n",
        "`-` 원래 1은 단순히 observation의 차원이 아니다. 즉\n",
        "${\\bf X}_{n \\times p}$에서 $n$에 대응하는 차원으로 생각할 수 없다.\n",
        "\n",
        "`-` 그런데 (1) 단방향 (2) 조각내지 않은 시계열 (3) 중첩하지 않은\n",
        "순환망에 한정하여서는 observation 처럼 생각해도 무방하다. \\<– 엄밀하게는\n",
        "이게 위험한 생각임. 하지만 정식으로 모두 따지려면 너무 헷갈림\n",
        "\n",
        "## 실제구현시 기억할 것\n",
        "\n",
        "`-` 현실적으로 (1)-(3)이 아닌 조건에서는 Cell 단위로 연산을 이용할 일이\n",
        "없다. (느리거든요) // 그냥 이해용으로 구현\n",
        "\n",
        "`-` torch.nn.RNN 혹은 torch.nn.LSTM 으로 네트워크를 구성할시 \\_water의\n",
        "dim을 명시할 일도 없다.\n",
        "\n",
        "`-` 오로지 고려해야 할 것은 입력시계열을 조각낼지 조각내지 않을지\n",
        "\n",
        "# 조각난 시계열로 학습\n",
        "\n",
        "## data"
      ],
      "id": "55b6de78-d304-47fb-8084-6e6f43c384a8"
    },
    {
      "cell_type": "code",
      "execution_count": null,
      "metadata": {},
      "outputs": [],
      "source": [
        "txt = list('hi!')*3 + list('hi?')*3 "
      ],
      "id": "69f3340e-0ad5-462c-9754-437b0cfe054a"
    },
    {
      "cell_type": "markdown",
      "metadata": {},
      "source": [
        "## 조각내지 않은 시계열"
      ],
      "id": "34eacbd5-73dc-444f-9cf9-71f8852b1230"
    },
    {
      "cell_type": "code",
      "execution_count": null,
      "metadata": {},
      "outputs": [],
      "source": [
        "txt_x = txt[:-1] \n",
        "txt_y = txt[1:] "
      ],
      "id": "7e3d9708-ee69-4530-881f-f85cab397ccf"
    },
    {
      "cell_type": "code",
      "execution_count": null,
      "metadata": {},
      "outputs": [],
      "source": [
        "mapping = {'!':0, '?':1, 'h':2, 'i':3} \n",
        "x = torch.nn.functional.one_hot(torch.tensor(f(txt_x,mapping))).float().to(\"cuda:0\")\n",
        "y = torch.nn.functional.one_hot(torch.tensor(f(txt_y,mapping))).float().to(\"cuda:0\")"
      ],
      "id": "37e94fc8-3e62-4243-a8d6-ab97baf094e0"
    },
    {
      "cell_type": "code",
      "execution_count": null,
      "metadata": {},
      "outputs": [],
      "source": [
        "torch.manual_seed(43052) \n",
        "lstm = torch.nn.LSTM(4,10).to(\"cuda:0\")\n",
        "linr = torch.nn.Linear(10,4).to(\"cuda:0\")"
      ],
      "id": "26493f49-7dbc-43c6-a9e6-e7cd41095ccd"
    },
    {
      "cell_type": "code",
      "execution_count": null,
      "metadata": {},
      "outputs": [],
      "source": [
        "loss_fn = torch.nn.CrossEntropyLoss() \n",
        "optimizr = torch.optim.Adam(list(lstm.parameters())+list(linr.parameters()),lr=0.1)"
      ],
      "id": "9bf0440d-d6f1-41e3-8afa-e354caaffff3"
    },
    {
      "cell_type": "code",
      "execution_count": null,
      "metadata": {},
      "outputs": [],
      "source": [
        "for epoc in range(100):\n",
        "    ## 1 \n",
        "    hidden, _ = lstm(x) \n",
        "    output = linr(hidden) \n",
        "    ## 2 \n",
        "    loss = loss_fn(output,y) \n",
        "    ## 3 \n",
        "    loss.backward() \n",
        "    ## 4 \n",
        "    optimizr.step()\n",
        "    optimizr.zero_grad()"
      ],
      "id": "40ab0906-f1ef-4dd6-ade4-dbd608676bc3"
    },
    {
      "cell_type": "code",
      "execution_count": null,
      "metadata": {},
      "outputs": [],
      "source": [
        "plt.matshow(soft(output)).to(\"cpu\").data,cmap='bwr',vmin=-1,vmax=1)\n",
        "# 이것도 밑 그래프랑 같은! "
      ],
      "id": "Xcr15Iprkb9t"
    },
    {
      "cell_type": "code",
      "execution_count": null,
      "metadata": {
        "outputId": "069133a0-9328-464f-f105-ff7522ea491a"
      },
      "outputs": [
        {
          "output_type": "display_data",
          "metadata": {},
          "data": {
            "image/png": "[encoded data removed]"
          }
        }
      ],
      "source": [
        "hidden, _ = lstm(x)\n",
        "plt.matshow(soft(linr(hidden)).to(\"cpu\").data,cmap='bwr',vmin=-1,vmax=1)"
      ],
      "id": "0887b8b0-5ed8-4770-b48e-48a5dcaf6145"
    },
    {
      "cell_type": "markdown",
      "metadata": {},
      "source": [
        "## 조각난 시계열"
      ],
      "id": "2a192d21-8336-4edd-b3a0-feb871f7686e"
    },
    {
      "cell_type": "code",
      "execution_count": null,
      "metadata": {},
      "outputs": [],
      "source": [
        "txt1= txt[:9]\n",
        "txt2= txt[9:]"
      ],
      "id": "fa353819-d174-4574-9b1f-d69fdd273c9f"
    },
    {
      "cell_type": "code",
      "execution_count": null,
      "metadata": {
        "outputId": "c8d2eb97-b434-44b8-bcf5-f849f91a1ce0"
      },
      "outputs": [],
      "source": [
        "txt1,txt2"
      ],
      "id": "984c5f53-8830-4b1d-b367-25b3ef5cdfb6"
    },
    {
      "cell_type": "code",
      "execution_count": null,
      "metadata": {},
      "outputs": [],
      "source": [
        "txt1_x = txt1[:-1] \n",
        "txt1_y = txt1[1:] \n",
        "txt2_x = txt2[:-1] \n",
        "txt2_y = txt2[1:] "
      ],
      "id": "cd613ad1-40f8-406b-8088-65819afcf694"
    },
    {
      "cell_type": "code",
      "execution_count": null,
      "metadata": {},
      "outputs": [],
      "source": [
        "mapping = {'!':0, '?':1, 'h':2, 'i':3} \n",
        "x1 = torch.nn.functional.one_hot(torch.tensor(f(txt1_x,mapping))).float().to(\"cuda:0\")\n",
        "y1 = torch.nn.functional.one_hot(torch.tensor(f(txt1_y,mapping))).float().to(\"cuda:0\")\n",
        "x2 = torch.nn.functional.one_hot(torch.tensor(f(txt2_x,mapping))).float().to(\"cuda:0\")\n",
        "y2 = torch.nn.functional.one_hot(torch.tensor(f(txt2_y,mapping))).float().to(\"cuda:0\")"
      ],
      "id": "703115d8-4cda-40fe-9af9-a49fc1157fae"
    },
    {
      "cell_type": "code",
      "execution_count": null,
      "metadata": {
        "outputId": "fdf3660a-ac16-4161-8ae6-d8f59c319768"
      },
      "outputs": [],
      "source": [
        "x1.shape, y1.shape, x2.shape, y2.shape"
      ],
      "id": "7f91f222-84f3-45fe-bb64-5bdc4e52ebef"
    },
    {
      "cell_type": "code",
      "execution_count": null,
      "metadata": {
        "outputId": "1c4a8f0e-5c3f-4fe6-ba2b-7e3aaf604346"
      },
      "outputs": [],
      "source": [
        "xx = torch.stack([x1,x2],axis=1)   # x1과 x2를 합치자\n",
        "yy = torch.stack([y1,y2],axis=1)\n",
        "xx.shape, yy.shape"
      ],
      "id": "338d1a7b-0bc4-4a4f-945f-f1845febc5bf"
    },
    {
      "cell_type": "code",
      "execution_count": null,
      "metadata": {},
      "outputs": [],
      "source": [
        "torch.manual_seed(43052) \n",
        "lstm = torch.nn.LSTM(4,10).to(\"cuda:0\")\n",
        "linr = torch.nn.Linear(10,4).to(\"cuda:0\")"
      ],
      "id": "4ddd96fb-29c5-4198-b1fb-dae5ed71084f"
    },
    {
      "cell_type": "code",
      "execution_count": null,
      "metadata": {},
      "outputs": [],
      "source": [
        "loss_fn = torch.nn.CrossEntropyLoss() \n",
        "optimizr = torch.optim.Adam(list(lstm.parameters())+list(linr.parameters()),lr=0.1)"
      ],
      "id": "c597f035-46cc-4dee-b27a-4ff9b0878a8b"
    },
    {
      "cell_type": "code",
      "execution_count": null,
      "metadata": {},
      "outputs": [],
      "source": [
        "for epoc in range(100):\n",
        "    ## 1 \n",
        "    hidden, _ = lstm(xx) \n",
        "    output = linr(hidden) \n",
        "    ## 2 \n",
        "    loss = loss_fn(output[:,0,:],yy[:,0,:]) + loss_fn(output[:,1,:],yy[:,1,:])\n",
        "    # (8,4), (8,4)가 stack되어있는데 첫번째 스택 봅고. yy도 뽑고.. 그럼 로스가 한번 계산이 되는데 다시 로스를 더하면 \n",
        "    ## 3 \n",
        "    loss.backward() \n",
        "    ## 4 \n",
        "    optimizr.step()\n",
        "    optimizr.zero_grad()"
      ],
      "id": "bf810a3b-76ad-4b71-b541-85b7948bd07c"
    },
    {
      "cell_type": "code",
      "execution_count": null,
      "metadata": {
        "outputId": "b3a34fc0-b337-4742-f090-271a80048090"
      },
      "outputs": [
        {
          "output_type": "display_data",
          "metadata": {},
          "data": {
            "image/png": "[encoded data removed]"
          }
        }
      ],
      "source": [
        "fig , ax = plt.subplots(1,2) \n",
        "ax[0].matshow(soft(output[:,0,:]).to(\"cpu\").data,cmap='bwr',vmin=-1,vmax=1)\n",
        "ax[1].matshow(soft(output[:,1,:]).to(\"cpu\").data,cmap='bwr',vmin=-1,vmax=1)"
      ],
      "id": "1121e44c-653f-4807-b649-888dc655a40c"
    },
    {
      "cell_type": "code",
      "execution_count": null,
      "metadata": {
        "outputId": "08b467a9-ea1f-4e9a-9221-8484b0dbf1e2"
      },
      "outputs": [
        {
          "output_type": "display_data",
          "metadata": {},
          "data": {
            "image/png": "[encoded data removed]"
          }
        }
      ],
      "source": [
        "hidden, _ = lstm(x)\n",
        "plt.matshow(soft(linr(hidden)).to(\"cpu\").data,cmap='bwr',vmin=-1,vmax=1)"
      ],
      "id": "566cca1b-c4a6-422d-8e80-46a96c467cbe"
    },
    {
      "cell_type": "markdown",
      "metadata": {},
      "source": [
        "`-` 조각난 시계열로 학습한 경우는 hi!에서 hi?로 바뀔 수 없다. 왜냐햐면\n",
        "그러한 연결정보가 끊어져 있으니까\n",
        "\n",
        "## 재미있는 실험\n",
        "\n",
        "`-` x1만 배운다면?"
      ],
      "id": "a6a2c792-b3f5-4939-b6b7-702d95cceb31"
    },
    {
      "cell_type": "code",
      "execution_count": null,
      "metadata": {},
      "outputs": [],
      "source": [
        "torch.manual_seed(43052) \n",
        "lstm = torch.nn.LSTM(4,10).to(\"cuda:0\")\n",
        "linr = torch.nn.Linear(10,4).to(\"cuda:0\")"
      ],
      "id": "b7967176-dd2d-4d8b-a446-34e0a7e84da9"
    },
    {
      "cell_type": "code",
      "execution_count": null,
      "metadata": {},
      "outputs": [],
      "source": [
        "loss_fn = torch.nn.CrossEntropyLoss() \n",
        "optimizr = torch.optim.Adam(list(lstm.parameters())+list(linr.parameters()),lr=0.1)"
      ],
      "id": "1d6848ed-b700-4c56-8ff9-4b08b07374aa"
    },
    {
      "cell_type": "code",
      "execution_count": null,
      "metadata": {},
      "outputs": [],
      "source": [
        "for epoc in range(100):\n",
        "    ## 1 \n",
        "    hidden, _ = lstm(x1) \n",
        "    output = linr(hidden) \n",
        "    ## 2 \n",
        "    loss = loss_fn(output,y1)\n",
        "    ## 3 \n",
        "    loss.backward() \n",
        "    ## 4 \n",
        "    optimizr.step()\n",
        "    optimizr.zero_grad()"
      ],
      "id": "dbe5d5b5-6529-4688-b108-94d6f418770f"
    },
    {
      "cell_type": "code",
      "execution_count": null,
      "metadata": {
        "outputId": "0abbbfa8-40f9-4c82-9290-e5438091b21a"
      },
      "outputs": [
        {
          "output_type": "display_data",
          "metadata": {},
          "data": {
            "image/png": "[encoded data removed]"
          }
        }
      ],
      "source": [
        "hidden, _ = lstm(x2)\n",
        "plt.matshow(soft(linr(hidden)).to(\"cpu\").data,cmap='bwr',vmin=-1,vmax=1)"
      ],
      "id": "203579c4-9b22-48fe-92b0-950903491d83"
    },
    {
      "cell_type": "markdown",
      "metadata": {},
      "source": [
        "`-` x2만 배운다면?"
      ],
      "id": "193b19d8-bccc-49eb-bee7-d9b6fddbc899"
    },
    {
      "cell_type": "code",
      "execution_count": null,
      "metadata": {},
      "outputs": [],
      "source": [
        "torch.manual_seed(43052) \n",
        "lstm = torch.nn.LSTM(4,10).to(\"cuda:0\")\n",
        "linr = torch.nn.Linear(10,4).to(\"cuda:0\")"
      ],
      "id": "5c58f665-acca-46e4-9f10-3bf577f4b44c"
    },
    {
      "cell_type": "code",
      "execution_count": null,
      "metadata": {},
      "outputs": [],
      "source": [
        "loss_fn = torch.nn.CrossEntropyLoss() \n",
        "optimizr = torch.optim.Adam(list(lstm.parameters())+list(linr.parameters()),lr=0.1)"
      ],
      "id": "5e69f783-b085-4c17-b0d4-be1746cba99a"
    },
    {
      "cell_type": "code",
      "execution_count": null,
      "metadata": {},
      "outputs": [],
      "source": [
        "for epoc in range(100):\n",
        "    ## 1 \n",
        "    hidden, _ = lstm(x2) \n",
        "    output = linr(hidden) \n",
        "    ## 2 \n",
        "    loss = loss_fn(output,y2)\n",
        "    ## 3 \n",
        "    loss.backward() \n",
        "    ## 4 \n",
        "    optimizr.step()\n",
        "    optimizr.zero_grad()"
      ],
      "id": "a46f173c-99fe-41f0-8b29-01db3b56d097"
    },
    {
      "cell_type": "code",
      "execution_count": null,
      "metadata": {
        "outputId": "e2cb2dc0-ee69-41d0-bb69-87bd1214e5ea"
      },
      "outputs": [
        {
          "output_type": "display_data",
          "metadata": {},
          "data": {
            "image/png": "[encoded data removed]"
          }
        }
      ],
      "source": [
        "hidden, _ = lstm(x1)\n",
        "plt.matshow(soft(linr(hidden)).to(\"cpu\").data,cmap='bwr',vmin=-1,vmax=1)"
      ],
      "id": "1cc133d6-4e02-4650-976f-9bbb82bfea38"
    },
    {
      "cell_type": "markdown",
      "metadata": {},
      "source": [
        "# 똑같은 코드들 fastai, pytorch\n",
        "\n",
        "## data: human numbers 5"
      ],
      "id": "2c0599d5-26a9-4a7d-95dc-ba7b7ad20808"
    },
    {
      "cell_type": "code",
      "execution_count": null,
      "metadata": {},
      "outputs": [],
      "source": [
        "txt = (['one',',','two',',','three',',','four',',','five',',']*100)[:-1]"
      ],
      "id": "799b5b27-2003-48b5-8917-4ef4ae55eef7"
    },
    {
      "cell_type": "code",
      "execution_count": null,
      "metadata": {
        "outputId": "e4daf77e-c4a6-4c0c-c199-84e1c80e676f"
      },
      "outputs": [],
      "source": [
        "mapping = {',':0, 'one':1, 'two':2, 'three':3, 'four':4, 'five':5} \n",
        "mapping"
      ],
      "id": "a454c3b8-ab67-4232-918c-25712c6beef8"
    },
    {
      "cell_type": "code",
      "execution_count": null,
      "metadata": {},
      "outputs": [],
      "source": [
        "txt_x = txt[:-1]\n",
        "txt_y = txt[1:] "
      ],
      "id": "c4969d76-09e8-4adc-a9bf-dd7ccf20402b"
    },
    {
      "cell_type": "code",
      "execution_count": null,
      "metadata": {
        "outputId": "f6786ebc-3236-4033-bae8-9fe33fb0f9dd"
      },
      "outputs": [],
      "source": [
        "txt_x[0:5], txt_y[0:5]"
      ],
      "id": "420e48e2-3a46-481b-be94-cdddce2568d7"
    },
    {
      "cell_type": "code",
      "execution_count": null,
      "metadata": {},
      "outputs": [],
      "source": [
        "x = torch.nn.functional.one_hot(torch.tensor(f(txt_x,mapping))).float().to(\"cuda:0\")\n",
        "y = torch.nn.functional.one_hot(torch.tensor(f(txt_y,mapping))).float().to(\"cuda:0\")"
      ],
      "id": "f84f932c-3c60-4181-981d-134351002968"
    },
    {
      "cell_type": "markdown",
      "metadata": {},
      "source": [
        "## fastai 이용한 learn"
      ],
      "id": "bd1e6522-33f1-4143-8db9-aaf9e6fa11d9"
    },
    {
      "cell_type": "code",
      "execution_count": null,
      "metadata": {},
      "outputs": [],
      "source": [
        "ds1 = torch.utils.data.TensorDataset(x,y)\n",
        "ds2 = torch.utils.data.TensorDataset(x,y) # dummy \n",
        "dl1 = torch.utils.data.DataLoader(ds1,batch_size=998)\n",
        "dl2 = torch.utils.data.DataLoader(ds2,batch_size=998) # dummy \n",
        "dls = DataLoaders(dl1,dl2) "
      ],
      "id": "d2a5be73-1306-4354-aa93-5b1ef073f8a9"
    },
    {
      "cell_type": "code",
      "execution_count": null,
      "metadata": {},
      "outputs": [],
      "source": [
        "class MyLSTM(torch.nn.Module):\n",
        "    def __init__(self):\n",
        "        super().__init__()\n",
        "        torch.manual_seed(43052)\n",
        "        self.lstm = torch.nn.LSTM(6,20)\n",
        "        self.linr = torch.nn.Linear(20,6) \n",
        "    def forward(self,x):\n",
        "        _water = torch.zeros(1,20).to(\"cuda:0\")\n",
        "        hidden, (hT,cT) =self.lstm(x,(_water,_water))\n",
        "        output = self.linr(hidden)\n",
        "        return output         "
      ],
      "id": "74e09147-2c21-4603-a6a9-ddb77c493473"
    },
    {
      "cell_type": "code",
      "execution_count": null,
      "metadata": {},
      "outputs": [],
      "source": [
        "net = MyLSTM().to(\"cuda:0\")\n",
        "loss_fn = torch.nn.CrossEntropyLoss()"
      ],
      "id": "4ebde9ca-4b46-48fb-907e-e3080c273fd7"
    },
    {
      "cell_type": "code",
      "execution_count": null,
      "metadata": {},
      "outputs": [],
      "source": [
        "lrnr = Learner(dls,net,loss_fn,lr=0.1)"
      ],
      "id": "db69b84b-830e-448b-b6b0-d31d32cab381"
    },
    {
      "cell_type": "code",
      "execution_count": null,
      "metadata": {
        "outputId": "9932aec2-3c97-49f1-81ff-2c6daf244f6d"
      },
      "outputs": [],
      "source": [
        "lrnr.fit(10)"
      ],
      "id": "87368618-3ccc-4952-a1ca-d0c5fc74b047"
    },
    {
      "cell_type": "code",
      "execution_count": null,
      "metadata": {
        "outputId": "51769f92-6b5f-45ee-b632-a35c2fa614f4"
      },
      "outputs": [],
      "source": [
        "soft(lrnr.model(x)).data.to(\"cpu\").numpy().round(3)"
      ],
      "id": "db3ce353-7f46-4480-b17a-a8ea07d54808"
    },
    {
      "cell_type": "markdown",
      "metadata": {},
      "source": [
        "## torch를 이용한 learn"
      ],
      "id": "860e03fa-da78-45ae-bef6-729d64724ada"
    },
    {
      "cell_type": "code",
      "execution_count": null,
      "metadata": {},
      "outputs": [],
      "source": [
        "torch.manual_seed(43052) \n",
        "lstm = torch.nn.LSTM(6,20).to(\"cuda:0\") \n",
        "linr = torch.nn.Linear(20,6).to(\"cuda:0\") \n",
        "loss_fn = torch.nn.CrossEntropyLoss()\n",
        "optimizr = Adam(list(lstm.parameters())+list(linr.parameters()),lr=0.1)"
      ],
      "id": "bb2fe5e3-10d7-4e86-9fb0-888af83459cb"
    },
    {
      "cell_type": "code",
      "execution_count": null,
      "metadata": {},
      "outputs": [],
      "source": [
        "for epoc in range(10):\n",
        "    ## 1 \n",
        "    hidden, _ = lstm(x)\n",
        "    output = linr(hidden) \n",
        "    ## 2 \n",
        "    loss = loss_fn(output,y) \n",
        "    ## 3 \n",
        "    loss.backward()\n",
        "    ## 4 \n",
        "    optimizr.step()\n",
        "    optimizr.zero_grad()     "
      ],
      "id": "7f47e3f7-aa14-427f-b577-ac94ea538d2e"
    },
    {
      "cell_type": "code",
      "execution_count": null,
      "metadata": {
        "outputId": "4696982c-9269-4a29-df1d-1fe96ae6414d"
      },
      "outputs": [],
      "source": [
        "hidden, _ = lstm(x)\n",
        "output = linr(hidden) \n",
        "soft(output).data.to(\"cpu\").numpy().round(3)"
      ],
      "id": "b8b4b79b-60d2-452d-85c4-3951d84a47e2"
    },
    {
      "cell_type": "markdown",
      "metadata": {},
      "source": [
        "# human numbers 100"
      ],
      "id": "90f9369f-2e0e-4e79-884b-b91109e2089f"
    },
    {
      "cell_type": "code",
      "execution_count": null,
      "metadata": {
        "outputId": "70134265-09d3-418b-dc42-0459ee5ca095"
      },
      "outputs": [],
      "source": [
        "df = pd.read_csv('https://raw.githubusercontent.com/guebin/DL2022/main/posts/IV.%20RNN/2022-11-25-human_numbers_100.csv')\n",
        "df"
      ],
      "id": "06972181-8dda-4ea4-a9ae-0f6550b2960a"
    },
    {
      "cell_type": "markdown",
      "metadata": {},
      "source": [
        "`(1)` TextDataLoaders.from_df을 이용하여 dls오브젝트를 만들어라. - is_lm\n",
        "= True 로 설정할 것 - seq_len = 5 로 설정할 것\n",
        "\n",
        "(풀이)"
      ],
      "id": "1988e540-879c-4fda-a6fd-2ac81bdf680b"
    },
    {
      "cell_type": "code",
      "execution_count": null,
      "metadata": {
        "outputId": "b46f7355-c397-49c5-b2b6-5d5326752766"
      },
      "outputs": [],
      "source": [
        "dls = TextDataLoaders.from_df(df,is_lm=True,seq_len=5,text_col='text')\n",
        "dls.show_batch()"
      ],
      "id": "91dea40d-2200-43a3-bfce-4d361a4626fe"
    },
    {
      "cell_type": "markdown",
      "metadata": {},
      "source": [
        "`(2)` lrnr 오브젝트를 만들어라. - arch = AWD_LSTM 이용 - metrics =\n",
        "accuracy 이용\n",
        "\n",
        "(풀이)"
      ],
      "id": "74e63624-34c8-4913-a1d2-61f6b64b7269"
    },
    {
      "cell_type": "code",
      "execution_count": null,
      "metadata": {},
      "outputs": [],
      "source": [
        "lrnr = language_model_learner(dls, arch= AWD_LSTM, metrics=accuracy)"
      ],
      "id": "42341152-d37a-46af-9fbd-ab6a56d8e6c5"
    },
    {
      "cell_type": "markdown",
      "metadata": {},
      "source": [
        "`(3)` lrnr오브젝트에서 fine_tune(3) 메소드를 이용하여 모형을 학습하라.\n",
        "\n",
        "(풀이)"
      ],
      "id": "932db571-6756-404c-9cf6-e3ed4182ff61"
    },
    {
      "cell_type": "code",
      "execution_count": null,
      "metadata": {
        "outputId": "0b7223b6-25d5-458e-e74b-2329191fdde2"
      },
      "outputs": [],
      "source": [
        "lrnr.fine_tune(3)"
      ],
      "id": "b9e467c1-b545-4f03-b16a-d88e302481de"
    },
    {
      "cell_type": "markdown",
      "metadata": {},
      "source": [
        "`(4)` ‘one , two ,’ 이후에 이어질 50개의 단어를 생성하라.\n",
        "\n",
        "(풀이)"
      ],
      "id": "a7439d6e-a557-426e-b24e-5dee11740b3d"
    },
    {
      "cell_type": "code",
      "execution_count": null,
      "metadata": {
        "outputId": "ba869919-04a7-4e82-9a56-b119830f3c47"
      },
      "outputs": [],
      "source": [
        "lrnr.predict('one, two,', n_words=50) "
      ],
      "id": "50315363-3d14-413b-86ea-ba10222b0bef"
    },
    {
      "cell_type": "markdown",
      "metadata": {},
      "source": [
        "`(5)` ‘twenty , twenty one ,’ 이후에 이어질 50개의 단어를 생성하라.\n",
        "\n",
        "(풀이)"
      ],
      "id": "d9f257ec-4e6e-4df7-99ee-69d4e5883d46"
    },
    {
      "cell_type": "code",
      "execution_count": null,
      "metadata": {
        "outputId": "0ff6962f-2d23-44b8-b3b2-cc07afc05f82"
      },
      "outputs": [],
      "source": [
        "lrnr.predict('twenty, twenty one,', n_words=50) "
      ],
      "id": "5a3320ad-c8b8-4926-b1d1-d84f26fdc708"
    }
  ],
  "nbformat": 4,
  "nbformat_minor": 5,
  "metadata": {
    "colab": {
      "collapsed_sections": [
        "a1c5353e-8460-4583-b88d-069f44531809",
        "b2333199-415b-46b8-8c4d-f2fcc06e8a90",
        "4a03708d-0e02-4ea1-9a8c-acc9b8574e53",
        "9c0e2f51-6d60-4328-83af-4416c28deeae",
        "2ae7466f-0b32-4c5a-a24f-2c240a66461c",
        "39326c8c-b428-4cd1-a7d1-5c9e5a40955e",
        "0f960fd9-ff5a-4aa1-8fee-0e8368545697",
        "b5575579-3ed6-4c29-96c7-8eeb947c1882",
        "9ade4fa6-79f6-4e35-8e76-cd0d8a4019cb",
        "8d6c966e-4c96-4390-b720-f7035835ac2c",
        "91bc8593-ccd4-49ea-9403-0a83574fd281",
        "2ca91f41-dc6b-4def-aedb-a131f5895c64",
        "fd2f31a0-ce78-4ed6-bc71-c261a5f7c5d1",
        "d9787f46-c73d-4c9a-a787-d76e31b5d7ea",
        "4ebe7a2b-eed1-4f0f-8fc9-e87bb74a9811",
        "4bfba0c6-69c1-4dbc-9947-7bfd5a029d0e",
        "0d2b6e2c-e8b7-423f-84a5-4656b9ff64de",
        "a646b473-0937-4eff-9b24-870b43aefad8",
        "3ba1b12c-657b-4f36-a1ad-e6d8108710cb",
        "b3f6dc5d-4c23-4f7f-a205-f8160de45836",
        "00c6fbfe-7971-4d90-9a66-725b17db8880",
        "e9055678-001c-40dc-b0e7-6705f89ef481",
        "bc15eaca-d631-48b7-aa18-22fcd8ae0a8d",
        "14143ae2-f36e-4b34-b622-33618f3c93c5",
        "92e41e6d-eb75-4930-a480-c720ade7fdac",
        "e9e630a4-9905-4564-8fdf-de780721deab",
        "ef99dbf1-b777-49a5-ace7-bca7f9df7d86",
        "751e6942-edd8-4363-9bd2-3e7004dd9351",
        "59b315a5-1b3f-4ded-85d0-ac11fdac27ad",
        "b5a79c51-d379-4248-96e6-d41d8004741b",
        "9d6d3a8e-3062-43aa-8103-d96f6e97635d",
        "913eea42-8162-411b-88fa-5525adbe6190",
        "a1bb576c-d0ad-4bd2-838f-7fd6fd82336e"
      ],
      "provenance": []
    },
    "kernelspec": {
      "name": "python3",
      "display_name": "Python 3",
      "language": "python"
    },
    "language_info": {
      "name": "python",
      "codemirror_mode": {
        "name": "ipython",
        "version": "3"
      },
      "file_extension": ".py",
      "mimetype": "text/x-python",
      "nbconvert_exporter": "python",
      "pygments_lexer": "ipython3",
      "version": "3.7.16"
    }
  }
}