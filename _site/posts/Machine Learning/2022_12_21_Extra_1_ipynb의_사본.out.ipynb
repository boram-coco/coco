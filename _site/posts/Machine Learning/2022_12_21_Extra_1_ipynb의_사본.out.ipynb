{
  "cells": [
    {
      "cell_type": "markdown",
      "metadata": {},
      "source": [
        "# 기계학습 (1221)\n",
        "\n",
        "김보람  \n",
        "2022-12-21\n",
        "\n",
        "# imports"
      ],
      "id": "240603c5-4426-4439-837a-906329c50ed7"
    },
    {
      "cell_type": "code",
      "execution_count": null,
      "metadata": {},
      "outputs": [],
      "source": [
        "import torch\n",
        "import numpy as np \n",
        "import pandas as pd\n",
        "from fastai.collab import * "
      ],
      "id": "57dc01be-6da3-43b2-b5e1-1854e27fa70f"
    },
    {
      "cell_type": "markdown",
      "metadata": {},
      "source": [
        "# 나는 솔로\n",
        "\n",
        "## 주절주절 intro\n",
        "\n",
        "`-` Data"
      ],
      "id": "bf30b38c-2c73-44c2-b23a-537aaac094a2"
    },
    {
      "cell_type": "code",
      "execution_count": null,
      "metadata": {
        "outputId": "76a0cf90-1f84-4eba-d97a-2bcbaf8e70e1"
      },
      "outputs": [],
      "source": [
        "df_view = pd.read_csv('https://raw.githubusercontent.com/guebin/STML2022/main/posts/V.%20RecSys/2022-12-21-rcmdsolo.csv',index_col=0)\n",
        "df_view "
      ],
      "id": "579104c1-8e5a-4968-bd2b-faac85f3eaea"
    },
    {
      "cell_type": "markdown",
      "metadata": {},
      "source": [
        "`-` 데이터를 이해할때 필요한 가정들 – 내맘대로 한 설정임.\n",
        "\n",
        "-   (옥순,영자,정숙)은 (영식,영철,영호)와 성격이 잘 맞고\n",
        "    (영숙,순자,현숙)은 (광수,상철,영수)와 성격이 잘맞음\n",
        "-   ((옥순,영자,정숙),(영식,영철,영호))은 MBTI가 I로 시작하고\n",
        "    ((영숙,순자,현숙),(광수,상철,영수))는 MBTI가 E로 시작한다.\n",
        "\n",
        "`-` 목표: NaN 을 추론\n",
        "\n",
        "`-` 수동추론:\n",
        "\n",
        "-   (옥순,영호)이 만난다면? $\\to$ 둘다 I성향이니까 잘 맞지 않을까? $\\to$\n",
        "    4.0 정도?\n",
        "-   (정숙,영식)조합은? $\\to$ 둘다 I성향이니까 잘 맞지 않을까? + 정숙은\n",
        "    다 잘맞던데..? $\\to$ 4.8 정도?\n",
        "-   (현숙,영식)조합은? $\\to$ 현숙은 E성향인데 영식은 I성향이므로 잘\n",
        "    안맞을 것임 + 현숙은 원래 좀 눈이 높음 $\\to$ 0.25 정도?\n",
        "\n",
        "`-` 좀 더 체계적인 추론\n",
        "\n",
        "사람들이 가지고 있는 성향들을 두 개의 숫자로 표현하자.\n",
        "\n",
        "-   옥순의 성향 = (I성향,E성향) = (1.9, 0.0)\n",
        "-   영식의 성향 = (I성향,E성향) = (2.0, 0.1)\n",
        "-   현숙의 성향 = (I성향,E성향) = (0.0, 1.5)\n",
        "\n",
        "**(1)** 옥순과 영식의 궁합 $\\approx$ 옥순의I성향$\\times$영식의I성향 $+$\n",
        "옥순의E성향$\\times$영식의E성향 // 적합"
      ],
      "id": "7dec9bbc-3783-46ec-a905-591c15afb91b"
    },
    {
      "cell_type": "code",
      "execution_count": null,
      "metadata": {
        "outputId": "b02050c5-295a-4e26-afc1-68b314fa78fa"
      },
      "outputs": [],
      "source": [
        "a1= np.array([1.9,0.0]).reshape(2,1) # a1은 옥순의 성향, col-vec으로 선언하자. \n",
        "b1= np.array([2.0,0.1]).reshape(2,1) # b1은 영식의 성향, col-vec으로 선언하자.\n",
        "(a1*b1).sum()"
      ],
      "id": "d4de1f04-2236-4593-85c5-695351cf414b"
    },
    {
      "cell_type": "markdown",
      "metadata": {},
      "source": [
        "**(2)** 현숙과 영식의 궁합 $\\approx$ 현숙의I성향$\\times$영식의I성향 $+$\n",
        "현숙의E성향$\\times$영식의E성향 // 예측"
      ],
      "id": "cfa6902c-3c95-49e0-9448-eb27a2a99b92"
    },
    {
      "cell_type": "code",
      "execution_count": null,
      "metadata": {
        "outputId": "214c1ba5-5595-431e-fabd-f13173583707"
      },
      "outputs": [],
      "source": [
        "a6= np.array([0.0,1.5]).reshape(2,1)\n",
        "(a6*b1).sum()"
      ],
      "id": "8f367886-f526-4a76-ac21-1881f18b9640"
    },
    {
      "cell_type": "markdown",
      "metadata": {},
      "source": [
        "-   그럴듯함..\n",
        "\n",
        "`-` 모델링\n",
        "\n",
        "아래가 같음을 관찰하라. (차원만 다름)"
      ],
      "id": "9e14f0bc-57c2-4acd-814d-1f5f43bb3cdc"
    },
    {
      "cell_type": "code",
      "execution_count": null,
      "metadata": {
        "outputId": "4c3db84d-13ec-46bb-c189-9b4bba87de40"
      },
      "outputs": [],
      "source": [
        "(a1*b1).sum(), a1.T@b1"
      ],
      "id": "1de49a25-d5c8-422e-a630-b35abfe1401d"
    },
    {
      "cell_type": "code",
      "execution_count": null,
      "metadata": {
        "outputId": "1d42294d-a3e7-48ae-f808-897515106eaf"
      },
      "outputs": [],
      "source": [
        "(a6*b1).sum(), a6.T@b1"
      ],
      "id": "2f1279c8-0ee2-473f-b28e-c6d7b1527d08"
    },
    {
      "cell_type": "markdown",
      "metadata": {},
      "source": [
        "만약에 여자의성향, 남자의성향을 적당한 매트릭스로 정리할 수 있다면\n",
        "궁합매트릭스를 만들 수 있음"
      ],
      "id": "253dbbb5-d0b7-4d23-ad10-2ec3e1620597"
    },
    {
      "cell_type": "code",
      "execution_count": null,
      "metadata": {
        "outputId": "4a0b8c19-ad04-4e6c-c9f8-ac02ae38a724"
      },
      "outputs": [],
      "source": [
        "a1= np.array([1.9,0.0]).reshape(2,1)\n",
        "a2= np.array([2.0,0.1]).reshape(2,1)\n",
        "a3= np.array([2.5,1.0]).reshape(2,1)\n",
        "a4= np.array([0.1,1.9]).reshape(2,1)\n",
        "a5= np.array([0.2,2.1]).reshape(2,1)\n",
        "a6= np.array([0.0,1.5]).reshape(2,1)\n",
        "A = np.concatenate([a1,a2,a3,a4,a5,a6],axis=1)\n",
        "A"
      ],
      "id": "cdc65114-13a3-478d-a6af-5dedc43426ad"
    },
    {
      "cell_type": "code",
      "execution_count": null,
      "metadata": {
        "outputId": "d7fee3b6-3ee5-463f-a564-b6813e592de0"
      },
      "outputs": [],
      "source": [
        "b1= np.array([2.0,0.1]).reshape(2,1)\n",
        "b2= np.array([1.9,0.2]).reshape(2,1)\n",
        "b3= np.array([1.8,0.3]).reshape(2,1)\n",
        "b4= np.array([0.3,2.1]).reshape(2,1)\n",
        "b5= np.array([0.2,2.0]).reshape(2,1)\n",
        "b6= np.array([0.1,1.9]).reshape(2,1)\n",
        "B = np.concatenate([b1,b2,b3,b4,b5,b6],axis=1)\n",
        "B"
      ],
      "id": "4842eca1-ef98-4822-b678-65336268f3ad"
    },
    {
      "cell_type": "code",
      "execution_count": null,
      "metadata": {
        "outputId": "aa634587-680e-4bf9-920a-cefac14dabff"
      },
      "outputs": [],
      "source": [
        "A.T@B"
      ],
      "id": "d0edcd61-383f-4ce9-b651-71e11fad2818"
    },
    {
      "cell_type": "code",
      "execution_count": null,
      "metadata": {
        "outputId": "025175f1-fcf0-447a-dc93-a6ffbab0662c"
      },
      "outputs": [],
      "source": [
        "a1.T@b1, a2.T@b2, a3.T@b1"
      ],
      "id": "4338400f-9b82-4214-b748-6527aa76a3f9"
    },
    {
      "cell_type": "markdown",
      "metadata": {},
      "source": [
        "결국 모형은 아래와 같다.\n",
        "\n",
        "$$\\text{궁합매트릭스} = {\\bf A}^\\top {\\bf B} + \\text{오차}$$\n",
        "\n",
        "`-` 학습전략: 아래의 매트릭스중에서 어떤값은 관측하였고 어떤값은\n",
        "관측하지 못함 $\\to$ 관측한 값들만 대충 비슷하게 하면 되는거 아니야?"
      ],
      "id": "579aad0d-0f97-4bb4-ac5b-101bd16e926a"
    },
    {
      "cell_type": "code",
      "execution_count": null,
      "metadata": {
        "outputId": "6db73635-1101-4103-e694-50ac13d3dcee"
      },
      "outputs": [],
      "source": [
        "A.T@B "
      ],
      "id": "ba960849-54fc-4486-845b-9f6b0c66736f"
    },
    {
      "cell_type": "code",
      "execution_count": null,
      "metadata": {
        "outputId": "d010e677-1bd7-4a7f-858d-9ada0a1a9fb3"
      },
      "outputs": [],
      "source": [
        "df_view"
      ],
      "id": "492c2028-5185-439a-ae61-35ed2e71dc30"
    },
    {
      "cell_type": "markdown",
      "metadata": {},
      "source": [
        "`-` 자료를 아래와 같이 정리한다면?"
      ],
      "id": "e5c34f31-b9ae-4049-84d7-7ac6bba94dd4"
    },
    {
      "cell_type": "code",
      "execution_count": null,
      "metadata": {
        "outputId": "cb54ce83-42e7-422d-8b55-2bb6d7c83bda"
      },
      "outputs": [],
      "source": [
        "df = pd.DataFrame([(f,m,df_view.loc[f,m]) for f in df_view.index for m in df_view.columns if not np.isnan(df_view.loc[f,m])])\n",
        "df.columns = ['X1','X2','y']\n",
        "df"
      ],
      "id": "3e0ab4f6-89e7-40be-b9d7-80520dbe1a8a"
    },
    {
      "cell_type": "code",
      "execution_count": null,
      "metadata": {
        "outputId": "3a7d72f1-b1b0-42ba-b90d-6a56ae91b939"
      },
      "outputs": [],
      "source": [
        "mapp1 = {k[1]:k[0] for k in enumerate(df.X1.unique())}\n",
        "mapp2 = {k[1]:k[0] for k in enumerate(df.X2.unique())}\n",
        "mapp1,mapp2"
      ],
      "id": "95c75dd8-edb7-4a6a-bbd1-09a8c543569c"
    },
    {
      "cell_type": "code",
      "execution_count": null,
      "metadata": {},
      "outputs": [],
      "source": [
        "X1 = torch.tensor(list(map(lambda name: mapp1[name], df.X1)))\n",
        "X2 = torch.tensor(list(map(lambda name: mapp2[name], df.X2)))\n",
        "X1 = torch.nn.functional.one_hot(X1).float()\n",
        "X2 = torch.nn.functional.one_hot(X2).float()\n",
        "y = torch.tensor(df.y).float()"
      ],
      "id": "4bba528e-f36d-4517-abc4-4a0512bb4e6f"
    },
    {
      "cell_type": "code",
      "execution_count": null,
      "metadata": {
        "outputId": "a8caf6bd-d044-44bd-c61d-d25d14fca009"
      },
      "outputs": [],
      "source": [
        "X1"
      ],
      "id": "gJhPyOQ9TGDO"
    },
    {
      "cell_type": "markdown",
      "metadata": {},
      "source": [
        "`-` yhat을 구하는 과정.."
      ],
      "id": "e671c599-7ca5-47fd-853b-7139bfb3c93e"
    },
    {
      "cell_type": "code",
      "execution_count": null,
      "metadata": {},
      "outputs": [],
      "source": [
        "l1 = torch.nn.Linear(in_features=6,out_features=2) # I성향 E성향.. #여출 \n",
        "l2 = torch.nn.Linear(in_features=6,out_features=2) # 남출"
      ],
      "id": "4ef18624-b8d8-4acb-abc9-469a8dbc5d06"
    },
    {
      "cell_type": "code",
      "execution_count": null,
      "metadata": {
        "outputId": "f1c8a79d-7e1c-4645-a144-c80d12bea0f6"
      },
      "outputs": [],
      "source": [
        "l1(X1) # 옥순~현숙의 성향들 "
      ],
      "id": "fc9afeac-1671-4709-aea3-c0b93b13ccfb"
    },
    {
      "cell_type": "code",
      "execution_count": null,
      "metadata": {
        "outputId": "d671390a-6012-4a75-a8d5-a81959352414"
      },
      "outputs": [],
      "source": [
        "l2(X2) # 영식~영수의 성향들 "
      ],
      "id": "10ce0ac3-7cf5-4099-913a-2bb17661128a"
    },
    {
      "cell_type": "markdown",
      "metadata": {},
      "source": [
        "`-` 몇개의 관측치만 생각해보자.."
      ],
      "id": "cca651da-ab05-4f5f-aab0-367d6280a149"
    },
    {
      "cell_type": "code",
      "execution_count": null,
      "metadata": {
        "outputId": "77a797e8-78ad-4cec-db5b-89532961385a"
      },
      "outputs": [],
      "source": [
        "df.head()"
      ],
      "id": "673f7002-203b-40e4-a1d6-09b766d7e38a"
    },
    {
      "cell_type": "code",
      "execution_count": null,
      "metadata": {
        "outputId": "3cbef094-143c-4987-f42e-e7aa4534e3ca"
      },
      "outputs": [],
      "source": [
        "(l1(X1)[0]*l2(X2)[0]).sum() # (옥순의성향 * 영식의성향).sum()"
      ],
      "id": "fac2d008-1385-45ab-8e04-98c80d26ba21"
    },
    {
      "cell_type": "markdown",
      "metadata": {},
      "source": [
        "-   이 값이 실제로는 3.9 이어야 한다."
      ],
      "id": "8e996ce0-0e0e-4219-ac26-1f5506ef690a"
    },
    {
      "cell_type": "code",
      "execution_count": null,
      "metadata": {
        "outputId": "6960df82-6218-43ef-80bd-abe77b668619"
      },
      "outputs": [],
      "source": [
        "(l1(X1)[1]*l2(X2)[1]).sum() # (옥순의성향 * 영철의성향).sum()"
      ],
      "id": "86db8235-c842-497f-8b3d-496e51ec4243"
    },
    {
      "cell_type": "markdown",
      "metadata": {},
      "source": [
        "-   이 값이 실제로는 4.1 이어야 한다.\n",
        "\n",
        "`-` yhat을 구하면!"
      ],
      "id": "0159b0f6-979a-448e-a26f-9d118864e7f4"
    },
    {
      "cell_type": "code",
      "execution_count": null,
      "metadata": {
        "outputId": "03673076-b51d-4e09-834a-f13c4f158a26"
      },
      "outputs": [],
      "source": [
        "yhat = (l1(X1) * l2(X2)).sum(axis=1) # (l1(X1) * l2(X2)).sum(1)와 결과가 같음 \n",
        "yhat"
      ],
      "id": "5d6ccae1-6a55-4be9-96b1-e8c2bbae4e11"
    },
    {
      "cell_type": "code",
      "execution_count": null,
      "metadata": {
        "outputId": "1683e1d3-7a9d-4725-c3ad-5a1f9f7c5717"
      },
      "outputs": [],
      "source": [
        "yhat[:2],y[:2] # 이 값들이 비슷해야 하는데.."
      ],
      "id": "9999adee-3cba-4d26-b40b-97de528f834a"
    },
    {
      "cell_type": "markdown",
      "metadata": {},
      "source": [
        "`-` 0~5 까지의 범위로 고정되어 있으니까 아래와 같이 해도 되겠음.."
      ],
      "id": "a5e5d9c3-5417-4ee1-a90d-9b506b1a5414"
    },
    {
      "cell_type": "code",
      "execution_count": null,
      "metadata": {},
      "outputs": [],
      "source": [
        "sig = torch.nn.Sigmoid() # range: 0~1"
      ],
      "id": "454d046a-c798-435c-9baf-9ff04bacb51e"
    },
    {
      "cell_type": "code",
      "execution_count": null,
      "metadata": {
        "outputId": "ea04cc35-0cbe-4438-d19f-4d969fc90161"
      },
      "outputs": [],
      "source": [
        "yhat = sig((l1(X1) * l2(X2)).sum(axis=1))*5 # (l1(X1) * l2(X2)).sum(1)와 결과가 같음    #range: 0~5\n",
        "yhat"
      ],
      "id": "9f22b0c9-5eca-4dc3-acaf-74d5f5710fcc"
    },
    {
      "cell_type": "code",
      "execution_count": null,
      "metadata": {
        "outputId": "0714ba69-3328-4bf4-d367-23c7ef4e80e9"
      },
      "outputs": [],
      "source": [
        "loss = torch.mean((y-yhat)**2)\n",
        "loss"
      ],
      "id": "130fa669-8509-41bc-b3af-822da09d6518"
    },
    {
      "cell_type": "markdown",
      "metadata": {},
      "source": [
        "## torch를 이용한 학습"
      ],
      "id": "5e9c60a6-f34b-4151-9616-c42d1bd1fb17"
    },
    {
      "cell_type": "code",
      "execution_count": null,
      "metadata": {},
      "outputs": [],
      "source": [
        "torch.manual_seed(43052)\n",
        "l1 = torch.nn.Linear(6,2) \n",
        "l2 = torch.nn.Linear(6,2)\n",
        "sig = torch.nn.Sigmoid() "
      ],
      "id": "20257936-98d1-40e0-a1d6-9a1ba03fae5e"
    },
    {
      "cell_type": "code",
      "execution_count": null,
      "metadata": {},
      "outputs": [],
      "source": [
        "loss_fn = torch.nn.MSELoss() \n",
        "optimizr = torch.optim.Adam(list(l1.parameters())+list(l2.parameters()))"
      ],
      "id": "78b8a1d4-08c1-4ac6-a639-b1d5bf8b8920"
    },
    {
      "cell_type": "code",
      "execution_count": null,
      "metadata": {},
      "outputs": [],
      "source": [
        "for epoc in range(5000):\n",
        "    ## 1 \n",
        "    feature1 = l1(X1)\n",
        "    feature2 = l2(X2) \n",
        "    matching_score = (feature1*feature2).sum(axis=1) \n",
        "    yhat = sig(matching_score)*5 # 만약에 1~3점이라면 \"1+sig(matching_score)*2\" 와 같이 하면 되었을듯 \n",
        "    ## 2 \n",
        "    loss = loss_fn(yhat,y)    \n",
        "    ## 3 \n",
        "    loss.backward()    \n",
        "    ## 4 \n",
        "    optimizr.step()\n",
        "    optimizr.zero_grad()"
      ],
      "id": "1dcc1ba3-5794-48cf-8600-498192306209"
    },
    {
      "cell_type": "code",
      "execution_count": null,
      "metadata": {
        "outputId": "15ba414d-2c2d-405a-fa1f-a549d9916578"
      },
      "outputs": [],
      "source": [
        "yhat"
      ],
      "id": "9ffe07bd-ca30-4897-887e-2c42e654dca3"
    },
    {
      "cell_type": "code",
      "execution_count": null,
      "metadata": {
        "outputId": "8b7e5f16-6275-4773-b5cc-abc11db362b5"
      },
      "outputs": [],
      "source": [
        "y"
      ],
      "id": "4f7daec0-52eb-4911-8f21-acb27947f998"
    },
    {
      "cell_type": "code",
      "execution_count": null,
      "metadata": {
        "outputId": "40041075-de4b-4a05-d406-6894226fd195"
      },
      "outputs": [],
      "source": [
        "l1(X1) # 두번째 칼럼이 I 성향 점수로 \"해석\"된다"
      ],
      "id": "b87dcbb3-9ee0-46f0-9d73-b47085d4fe00"
    },
    {
      "cell_type": "markdown",
      "metadata": {},
      "source": [
        "-   포인트: 여성출연자중, 정숙은 대체로 잘 맞춰주고 현숙은 그렇지\n",
        "    않았음.. $\\to$ 그러한 가중치가 잘 드러남!!\n",
        "\n",
        "## fastai를 이용한 학습\n",
        "\n",
        "`(1)` dls"
      ],
      "id": "39275af6-5fc4-4cd2-ad50-2d4fe64e18ec"
    },
    {
      "cell_type": "code",
      "execution_count": null,
      "metadata": {
        "outputId": "a0a6198c-72b7-4948-ce11-41a00767c8c5"
      },
      "outputs": [],
      "source": [
        "df.head() # 앞단계 전처리의 산물"
      ],
      "id": "ae09b582-17c3-4d15-b0ff-e5529bb4a310"
    },
    {
      "cell_type": "code",
      "execution_count": null,
      "metadata": {},
      "outputs": [],
      "source": [
        "dls = CollabDataLoaders.from_df(df,bs=2,valid_pct=2/24) #bs:배치사이즈"
      ],
      "id": "ce8ab1a5-c394-43a0-b0d0-633c6c2ce86b"
    },
    {
      "cell_type": "markdown",
      "metadata": {},
      "source": [
        "`(2)` lrnr 생성"
      ],
      "id": "4959be8d-0659-481d-86a5-a405ca6694b4"
    },
    {
      "cell_type": "code",
      "execution_count": null,
      "metadata": {},
      "outputs": [],
      "source": [
        "lrnr = collab_learner(dls,n_factors=2,y_range=(0,5))"
      ],
      "id": "2aade5e9-58ae-4bf3-a5f6-f2705a8ced73"
    },
    {
      "cell_type": "markdown",
      "metadata": {},
      "source": [
        "`(3)` 학습"
      ],
      "id": "0e517329-ab44-45d1-9d7f-a24611a9c34c"
    },
    {
      "cell_type": "code",
      "execution_count": null,
      "metadata": {
        "outputId": "c09d4f44-c848-4ad4-9399-6f938a8e6766"
      },
      "outputs": [],
      "source": [
        "lrnr.fit(30,lr=0.05)"
      ],
      "id": "b29961c0-b286-4fcf-93ad-9edb57b4a70c"
    },
    {
      "cell_type": "markdown",
      "metadata": {},
      "source": [
        "`(4)` 예측\n",
        "\n",
        "**적합값 확인**"
      ],
      "id": "31afb213-3638-4a22-b69a-9aa69c3e5dc1"
    },
    {
      "cell_type": "code",
      "execution_count": null,
      "metadata": {
        "outputId": "14684389-b64e-4238-d27c-644bc15ffd16"
      },
      "outputs": [],
      "source": [
        "lrnr.show_results()"
      ],
      "id": "78a81493-7c02-4200-a3c8-f4ff6871e158"
    },
    {
      "cell_type": "markdown",
      "metadata": {},
      "source": [
        "**(옥순의 궁합)**"
      ],
      "id": "332e3017-fa5b-4e47-b0ba-a8f835b21e6e"
    },
    {
      "cell_type": "code",
      "execution_count": null,
      "metadata": {
        "outputId": "1764a8ca-4ef9-49a3-df1e-26370f9ef1f2"
      },
      "outputs": [],
      "source": [
        "df_new = pd.DataFrame({'X1':['옥순']*6, 'X2':['영식','영철','영호','광수','상철','영수']})\n",
        "df_new"
      ],
      "id": "a74299c7-08ef-4c50-a312-696b918fa995"
    },
    {
      "cell_type": "code",
      "execution_count": null,
      "metadata": {
        "outputId": "7e620085-f78d-4094-a2bc-15fe846913b7"
      },
      "outputs": [],
      "source": [
        "lrnr.get_preds(dl=dls.test_dl(df_new))"
      ],
      "id": "f5563185-51e2-4b0e-88f2-14f69255b3b1"
    },
    {
      "cell_type": "markdown",
      "metadata": {},
      "source": [
        "비교를 위해서"
      ],
      "id": "95be6d4e-c472-498c-84ec-020e2c4252a3"
    },
    {
      "cell_type": "code",
      "execution_count": null,
      "metadata": {
        "outputId": "96a725b1-54b6-4942-b2a5-475272fabcef"
      },
      "outputs": [],
      "source": [
        "df_view"
      ],
      "id": "3293097c-5906-4366-b6dd-8e8580a19341"
    },
    {
      "cell_type": "markdown",
      "metadata": {},
      "source": [
        "**(정숙의 궁합)**"
      ],
      "id": "5a0fefbb-00e9-48b4-ad7a-053d3a4f701d"
    },
    {
      "cell_type": "code",
      "execution_count": null,
      "metadata": {
        "outputId": "81d1e505-de93-45e7-ec60-24667adb6f23"
      },
      "outputs": [],
      "source": [
        "df_new = pd.DataFrame({'X1':['정숙']*6, 'X2':['영식','영철','영호','광수','상철','영수']})\n",
        "df_new"
      ],
      "id": "32c0688a-dd10-4cb1-9ad9-f271a3c21729"
    },
    {
      "cell_type": "code",
      "execution_count": null,
      "metadata": {
        "outputId": "7f246367-d389-4fa6-d868-fc0db6c42436"
      },
      "outputs": [],
      "source": [
        "lrnr.get_preds(dl=dls.test_dl(df_new))"
      ],
      "id": "921beccd-f8bf-4ad2-9780-1c822fd9b052"
    },
    {
      "cell_type": "markdown",
      "metadata": {},
      "source": [
        "비교를 위해서"
      ],
      "id": "e4f68ce1-5629-4cb5-8bcf-45468cd4b9c7"
    },
    {
      "cell_type": "code",
      "execution_count": null,
      "metadata": {
        "outputId": "3a193090-f4e8-4a57-fe32-3c437e1f492b"
      },
      "outputs": [],
      "source": [
        "df_view"
      ],
      "id": "4d54a1f0-c424-4446-8471-703e47a4ee5f"
    },
    {
      "cell_type": "markdown",
      "metadata": {},
      "source": [
        "`-` Appedix: fastai 구조공부.."
      ],
      "id": "cd9d76e7-a55f-408c-811f-c564eee7bd7d"
    },
    {
      "cell_type": "code",
      "execution_count": null,
      "metadata": {
        "outputId": "c470221c-0f0d-4215-e389-22060f0ea78a"
      },
      "outputs": [],
      "source": [
        "lrnr.model"
      ],
      "id": "9e1922e3-3ccf-48d7-b74b-600b82931632"
    },
    {
      "cell_type": "code",
      "execution_count": null,
      "metadata": {
        "outputId": "583c42b4-6a86-4ee3-cf3e-60607cca4475"
      },
      "outputs": [],
      "source": [
        "lrnr.model.forward??"
      ],
      "id": "61d3a8e9-fd47-4ff4-afe9-74c3dd8fcce5"
    },
    {
      "cell_type": "markdown",
      "metadata": {},
      "source": [
        "-   bias를 제외하면 우리가 짠 모형과 같음!\n",
        "\n",
        "# 커피 or 홍차\n",
        "\n",
        "## data\n",
        "\n",
        "`-` 예전에 살펴본 예제"
      ],
      "id": "b5261db1-67ba-425c-a276-316576b6ab4d"
    },
    {
      "cell_type": "code",
      "execution_count": null,
      "metadata": {
        "outputId": "a2481c32-a942-4d96-90c6-90a947e2efa4"
      },
      "outputs": [],
      "source": [
        "df = pd.read_csv('https://raw.githubusercontent.com/guebin/DL2022/main/posts/I.%20Overview/2022-09-08-rcmd_anal.csv')\n",
        "df"
      ],
      "id": "2970859c-8b0d-4ed5-8dc6-95fd2221cb4e"
    },
    {
      "cell_type": "markdown",
      "metadata": {},
      "source": [
        "`-` 기억을 살리기 위해서.."
      ],
      "id": "ee139a68-25a0-4aa6-9e97-5efe9ad4c2d1"
    },
    {
      "cell_type": "code",
      "execution_count": null,
      "metadata": {
        "outputId": "db10d07b-c6c1-4d8f-c46a-865f843622d8"
      },
      "outputs": [],
      "source": [
        "df_view = pd.read_csv('https://raw.githubusercontent.com/guebin/DL2022/main/posts/I.%20Overview/2022-09-08-rcmd_view.csv')\n",
        "df_view"
      ],
      "id": "14c3497e-55a9-4b93-89d8-be7c430d6a6a"
    },
    {
      "cell_type": "markdown",
      "metadata": {},
      "source": [
        "## 모형\n",
        "\n",
        "(편의상 바이어스를 제외하면)\n",
        "\n",
        "`-` 특징벡터:\n",
        "\n",
        "-   유저1의 취향 = \\[커피를 좋아하는 정도, 홍차를 좋아하는 정도\\]\n",
        "-   아이템1의 특징 = \\[커피의 특징, 홍차인 특징\\]\n",
        "\n",
        "`-` 평점\n",
        "\n",
        "-   유저1이 아이템1을 먹었을경우 평점: 유저1의 취향과 아이템1의 특징의\n",
        "    내적 = (유저1의 취향 $\\odot$ 아이템1의 특징).sum()\n",
        "\n",
        "## 학습\n",
        "\n",
        "`(1)` dls"
      ],
      "id": "3a833c68-c0c6-45f3-b1ca-94fa4a9ec7a5"
    },
    {
      "cell_type": "code",
      "execution_count": null,
      "metadata": {},
      "outputs": [],
      "source": [
        "dls = CollabDataLoaders.from_df(df)"
      ],
      "id": "9d71a4eb-2c2e-46b0-89e6-430238d7994b"
    },
    {
      "cell_type": "code",
      "execution_count": null,
      "metadata": {
        "outputId": "96499d05-2998-4e70-8031-af882bb6a69e"
      },
      "outputs": [],
      "source": [
        "dls.items"
      ],
      "id": "30d0ac4f-49a6-47c7-b2a1-fa68eca10e11"
    },
    {
      "cell_type": "markdown",
      "metadata": {},
      "source": [
        "`(2)` lrnr"
      ],
      "id": "8a619d05-9b7e-4f9c-a16e-935884e60fe8"
    },
    {
      "cell_type": "code",
      "execution_count": null,
      "metadata": {},
      "outputs": [],
      "source": [
        "lrnr = collab_learner(dls,n_factors=2) # 교재에는 y_range 를 설정하도록 되어있지만 설정 안해도 적합에는 크게 상관없음.."
      ],
      "id": "be633b91-7459-4f8b-b1a6-8193e89c516c"
    },
    {
      "cell_type": "markdown",
      "metadata": {},
      "source": [
        "`(3)` fit"
      ],
      "id": "a3ff1601-fb76-427b-8781-752757e4bacb"
    },
    {
      "cell_type": "code",
      "execution_count": null,
      "metadata": {
        "outputId": "f62658b4-7039-4d59-e582-a4676a6e5097"
      },
      "outputs": [],
      "source": [
        "lrnr.fit(10,0.1)"
      ],
      "id": "527f7835-caa8-4b4f-ba7c-c62a6b5c916d"
    },
    {
      "cell_type": "markdown",
      "metadata": {},
      "source": [
        "`(4)` predict\n",
        "\n",
        "(적합된 값 확인)"
      ],
      "id": "20996f6d-5ae0-453a-882c-35111202b420"
    },
    {
      "cell_type": "code",
      "execution_count": null,
      "metadata": {
        "outputId": "aed1e1e9-d3fd-40e3-cf56-6806d6de1883"
      },
      "outputs": [],
      "source": [
        "lrnr.show_results() # 누를때마다 결과다름"
      ],
      "id": "d763799d-51e4-499f-9eff-701ba54b3a60"
    },
    {
      "cell_type": "markdown",
      "metadata": {},
      "source": [
        "(예측값)"
      ],
      "id": "1c774776-f286-4873-b005-bd6d99af1ee6"
    },
    {
      "cell_type": "code",
      "execution_count": null,
      "metadata": {
        "outputId": "f7cb271f-ebfc-44a0-a3d3-24afc82c35ed"
      },
      "outputs": [],
      "source": [
        "df_new = pd.DataFrame({'user':[1,1,1,1], 'item':[9,10,11,12]})\n",
        "df_new"
      ],
      "id": "03192cb5-91b2-4a9c-a2e5-66289a464d4b"
    },
    {
      "cell_type": "code",
      "execution_count": null,
      "metadata": {
        "outputId": "96789764-4c57-4106-b922-dd43dc1f4789"
      },
      "outputs": [],
      "source": [
        "lrnr.get_preds(dl=dls.test_dl(df_new))"
      ],
      "id": "d34289ab-d19a-4292-a314-5580631c9964"
    }
  ],
  "nbformat": 4,
  "nbformat_minor": 5,
  "metadata": {
    "colab": {
      "provenance": []
    },
    "kernelspec": {
      "name": "python3",
      "display_name": "Python 3",
      "language": "python"
    },
    "language_info": {
      "name": "python",
      "codemirror_mode": {
        "name": "ipython",
        "version": "3"
      },
      "file_extension": ".py",
      "mimetype": "text/x-python",
      "nbconvert_exporter": "python",
      "pygments_lexer": "ipython3",
      "version": "3.7.16"
    }
  }
}