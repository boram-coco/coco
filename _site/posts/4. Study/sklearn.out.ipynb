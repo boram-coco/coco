{
  "cells": [
    {
      "cell_type": "markdown",
      "metadata": {},
      "source": [
        "# 파이썬:사이킷런\n",
        "\n",
        "김보람  \n",
        "2023-04-14\n",
        "\n",
        "ref:https://losskatsu.github.io/machine-learning/sklearn/#train-test-%EB%8D%B0%EC%9D%B4%ED%84%B0-%EB%B6%84%ED%95%A0%ED%95%98%EA%B8%B0"
      ],
      "id": "206f5d5f-4e93-4b83-9217-7c6ea7829519"
    },
    {
      "cell_type": "code",
      "execution_count": 3,
      "metadata": {},
      "outputs": [],
      "source": [
        "import numpy as np\n",
        "import pandas as pd\n",
        "from sklearn import datasets\n",
        "# 참고: 분류용 가상 데이터 만들기\n",
        "from sklearn.datasets import make_classification\n",
        "\n",
        "from sklearn.model_selection import train_test_split\n",
        "from sklearn.linear_model import LinearRegression\n",
        "from sklearn.linear_model import LogisticRegression\n",
        "from sklearn.naive_bayes import GaussianNB #나이브 베이즈\n",
        "from sklearn import svm\n",
        "from sklearn import tree\n",
        "from sklearn.ensemble import RandomForestClassifier\n",
        "\n",
        "import matplotlib.pyplot as plt"
      ],
      "id": "79d3e91e-c73c-4f9f-9307-50efe10b6694"
    },
    {
      "cell_type": "code",
      "execution_count": 4,
      "metadata": {},
      "outputs": [],
      "source": [
        "# 분류용 가상 데이터 만들기\n",
        "from sklearn.datasets import make_classification"
      ],
      "id": "67bc5b8d-597d-481c-8d7e-72bbd9dc430d"
    },
    {
      "cell_type": "code",
      "execution_count": 7,
      "metadata": {},
      "outputs": [],
      "source": [
        "X, Y = make_classification(n_samples=1000, n_features=4,\n",
        "                        n_informative=2, n_redundant=0,\n",
        "                        random_state=0, shuffle=False)"
      ],
      "id": "8289696a-afe0-4040-b0b8-e8ce23a52cc7"
    },
    {
      "cell_type": "code",
      "execution_count": null,
      "metadata": {},
      "outputs": [],
      "source": [
        "# n_informative: 종속변수와 상관관계가 존재하는 독립변수 수(default=2)\n",
        "# n_redundant: 독립변수끼리 종속관계에 있는 독립변수 수"
      ],
      "id": "6d24b50d-c20d-4e01-935c-62a9e27fc078"
    },
    {
      "cell_type": "code",
      "execution_count": 8,
      "metadata": {},
      "outputs": [
        {
          "output_type": "stream",
          "name": "stdout",
          "text": [
            "['mean radius' 'mean texture' 'mean perimeter' 'mean area'\n",
            " 'mean smoothness' 'mean compactness' 'mean concavity'\n",
            " 'mean concave points' 'mean symmetry' 'mean fractal dimension'\n",
            " 'radius error' 'texture error' 'perimeter error' 'area error'\n",
            " 'smoothness error' 'compactness error' 'concavity error'\n",
            " 'concave points error' 'symmetry error' 'fractal dimension error'\n",
            " 'worst radius' 'worst texture' 'worst perimeter' 'worst area'\n",
            " 'worst smoothness' 'worst compactness' 'worst concavity'\n",
            " 'worst concave points' 'worst symmetry' 'worst fractal dimension']"
          ]
        }
      ],
      "source": [
        "raw = datasets.load_breast_cancer()         ## sklearn에 내장된 원본 데이터 불러오기\n",
        "print(raw.feature_names)                    ## 열(column) 이름 확인\n",
        "['mean radius' 'mean texture' 'mean perimeter' 'mean area'\n",
        " 'mean smoothness' 'mean compactness' 'mean concavity'\n",
        " 'mean concave points' 'mean symmetry' 'mean fractal dimension'\n",
        " 'radius error' 'texture error' 'perimeter error' 'area error'\n",
        " 'smoothness error' 'compactness error' 'concavity error'\n",
        " 'concave points error' 'symmetry error' 'fractal dimension error'\n",
        " 'worst radius' 'worst texture' 'worst perimeter' 'worst area'\n",
        " 'worst smoothness' 'worst compactness' 'worst concavity'\n",
        " 'worst concave points' 'worst symmetry' 'worst fractal dimension']\n",
        "\n",
        "data = pd.DataFrame(raw.data)               ## 독립변수 데이터 모음  \n",
        "target = pd.DataFrame(raw.target)           ## 종속변수 데이터 모음\n",
        "rawData = pd.concat([data,target], axis=1)  ## 독립변수 + 종속변수 열 결합\n",
        "\n",
        "## 열(column)이름 설정\n",
        "rawData.columns=['mean radius', 'mean texture', 'mean perimeter', 'mean area',\n",
        " 'mean smoothness', 'mean compactness', 'mean concavity',\n",
        " 'mean concave points', 'mean symmetry', 'mean fractal dimension',\n",
        " 'radius error', 'texture error', 'perimeter error', 'area error',\n",
        " 'smoothness error', 'compactness error', 'concavity error',\n",
        " 'concave points error', 'symmetry error', 'fractal dimension error',\n",
        " 'worst radius', 'worst texture', 'worst perimeter', 'worst area',\n",
        " 'worst smoothness', 'worst compactness', 'worst concavity',\n",
        " 'worst concave points', 'worst symmetry', 'worst fractal dimension'\n",
        " , 'cancer']\n",
        "\n",
        "rawData.head(10)                                ## 데이터 확인 "
      ],
      "id": "98618259-a6f9-49d2-b82b-c56376179220"
    },
    {
      "cell_type": "code",
      "execution_count": 9,
      "metadata": {},
      "outputs": [],
      "source": [
        "x = rawData[['mean radius', 'mean texture']]\n",
        "y = rawData['cancer']"
      ],
      "id": "ac510781-4075-4699-a957-d56b10a84b62"
    },
    {
      "cell_type": "code",
      "execution_count": 10,
      "metadata": {},
      "outputs": [],
      "source": [
        "x_train, x_test, y_train, y_test = train_test_split(x,y,test_size=0.25, random_state=0)"
      ],
      "id": "36c66635-3e6a-48ea-9c62-42d62888661d"
    },
    {
      "cell_type": "markdown",
      "metadata": {},
      "source": [
        "``` python\n",
        "fit(x_train, y_train)     ## 모수 추정(estimat)\n",
        "get_params()              ## 추정된 모수 확인\n",
        "predict(x_test)           ## x_test로부터 라벨 예측\n",
        "predict_log_proba(x_test) ## 로그 취한 확률 예측\n",
        "predict_proba(x_test)     ## 각 라벨로 예측될 확률\n",
        "score(x_test, y_test)     ## 모델 정확도 평가를 위한 mean accuracy\n",
        "```\n",
        "\n",
        "`-` 선형회귀"
      ],
      "id": "7a2d0516-cc31-4129-a0c2-3170fd1d2ea1"
    },
    {
      "cell_type": "code",
      "execution_count": 14,
      "metadata": {},
      "outputs": [],
      "source": [
        "clf = LinearRegression()\n",
        "clf.fit(x_train,y_train)  # 모수 추정\n",
        "clf.coef_                 # 추정 된 모수 확인(상수항 제외)\n",
        "clf.intercept_            # 추정 된 상수항 확인\n",
        "clf.predict(x_test)\n",
        "#clf.predic(x_test)        # 예측\n",
        "clf.score(x_test, y_test) # 모형 성능 평가"
      ],
      "id": "5d8d42c0-d3bb-44e7-99a5-719b9831cfa4"
    },
    {
      "cell_type": "markdown",
      "metadata": {},
      "source": [
        "`-` 로지스틱"
      ],
      "id": "f81d31b0-c394-45eb-8708-0044ee815226"
    },
    {
      "cell_type": "code",
      "execution_count": 15,
      "metadata": {},
      "outputs": [],
      "source": [
        "clf = LogisticRegression(solver='lbfgs').fit(x_train,y_train)\n",
        "clf.predict(x_test)\n",
        "clf.predict_proba(x_test)\n",
        "clf.score(x_test,y_test)"
      ],
      "id": "01e3e168-1f5d-4917-8438-fa2ac7bf9ed2"
    },
    {
      "cell_type": "markdown",
      "metadata": {},
      "source": [
        "`-` 나이브베이즈"
      ],
      "id": "f7d2fbdb-e796-4bea-a3c9-9b6339872698"
    },
    {
      "cell_type": "code",
      "execution_count": 16,
      "metadata": {},
      "outputs": [],
      "source": [
        "gnb = GaussianNB()\n",
        "gnb.fit(x_train, y_train)\n",
        "gnb.predict(x_test)\n",
        "gnb.score(x_test, y_test)"
      ],
      "id": "fbb143fb-3b73-42ee-bce2-70c6bef1bd4b"
    },
    {
      "cell_type": "markdown",
      "metadata": {},
      "source": [
        "`-` 의사결정나무"
      ],
      "id": "561dc741-46dc-4eeb-ac40-124a7afe048e"
    },
    {
      "cell_type": "code",
      "execution_count": 17,
      "metadata": {},
      "outputs": [],
      "source": [
        "clf = tree.DecisionTreeClassifier()\n",
        "clf.fit(x_train, y_train)\n",
        "clf.predict(x_test)\n",
        "clf.predict_proba(x_test)\n",
        "clf.score(x_test, y_test)"
      ],
      "id": "05b3b17d-52df-4196-a7db-ee91c9d31384"
    },
    {
      "cell_type": "markdown",
      "metadata": {},
      "source": [
        "`-` svm"
      ],
      "id": "449da0b1-5935-4038-a561-bd861a7e54dc"
    },
    {
      "cell_type": "code",
      "execution_count": 18,
      "metadata": {},
      "outputs": [],
      "source": [
        "clf = svm.SVC(kernel='linear')\n",
        "clf.fit(x_train, y_train)\n",
        "clf.predict(x_test)\n",
        "clf.score(x_test, y_test)"
      ],
      "id": "589b1017-d253-4ce5-bb98-25b1436f765e"
    },
    {
      "cell_type": "markdown",
      "metadata": {},
      "source": [
        "`-` 랜덤포레스트"
      ],
      "id": "435a3e0c-6146-4772-8ffb-a03fddbc110c"
    },
    {
      "cell_type": "code",
      "execution_count": 19,
      "metadata": {},
      "outputs": [],
      "source": [
        "clf = RandomForestClassifier(max_depth=2, random_state=0)\n",
        "clf.fit(x_train, y_train)\n",
        "clf.feature_importances_\n",
        "clf.predict(x_test)"
      ],
      "id": "75c8b525-6a1a-4f4c-a61c-355643eb6b74"
    }
  ],
  "nbformat": 4,
  "nbformat_minor": 5,
  "metadata": {
    "kernelspec": {
      "name": "python3",
      "display_name": "Python 3 (ipykernel)",
      "language": "python"
    },
    "language_info": {
      "name": "python",
      "codemirror_mode": {
        "name": "ipython",
        "version": "3"
      },
      "file_extension": ".py",
      "mimetype": "text/x-python",
      "nbconvert_exporter": "python",
      "pygments_lexer": "ipython3",
      "version": "3.8.16"
    }
  }
}