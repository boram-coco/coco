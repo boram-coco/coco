{
  "cells": [
    {
      "cell_type": "markdown",
      "metadata": {},
      "source": [
        "# 모형 평가\n",
        "\n",
        "김보람  \n",
        "2023-05-11\n",
        "\n",
        "# ref\n",
        "\n",
        "-   선형대수와 통계학으로 배우는 머신러닝 with 파이썬\n",
        "\n",
        "-   [github](https://github.com/bjpublic/MachineLearning)\n",
        "\n",
        "# 파이프라인"
      ],
      "id": "b7f8b7f5-84f8-4f54-82ad-9b0dd569af8a"
    },
    {
      "cell_type": "code",
      "execution_count": 1,
      "metadata": {},
      "outputs": [],
      "source": [
        "from sklearn import datasets\n",
        "from sklearn.pipeline import Pipeline\n",
        "from sklearn.preprocessing import StandardScaler\n",
        "from sklearn.linear_model import LinearRegression\n",
        "from sklearn.model_selection import train_test_split\n",
        "from sklearn.metrics import mean_squared_error"
      ],
      "id": "cb5d17ad-77f2-492d-94b0-544db16caf92"
    },
    {
      "cell_type": "markdown",
      "metadata": {},
      "source": [
        "``` python\n",
        "raw_boston = datasets.load_boston()\n",
        "\n",
        "X = raw_boston.data\n",
        "y = raw_boston.target\n",
        "\n",
        "# 트레이닝 / 테스트 데이터 분할\n",
        "X_tn, X_te, y_tn, y_te = train_test_split(X,y,random_state=7)\n",
        "\n",
        "# 표준화 스케일링\n",
        "std_scale = StandardScaler()\n",
        "X_tn_std = std_scale.fit_transform(X_tn)\n",
        "X_te_std  = std_scale.transform(X_te)\n",
        "\n",
        "# 학습\n",
        "clf_linear =  LinearRegression()\n",
        "clf_linear.fit(X_tn_std, y_tn)\n",
        "\n",
        "# 예측\n",
        "pred_linear = clf_linear.predict(X_te_std)\n",
        "\n",
        "# 평가\n",
        "mean_squared_error(y_te, pred_linear)\n",
        "```\n",
        "\n",
        "``` python\n",
        "# 트레이닝 / 테스트 데이터 분할\n",
        "X_tn, X_te, y_tn, y_te = train_test_split(X,y,random_state=7)\n",
        "\n",
        "# 파이프라인\n",
        "linear_pipline = Pipeline([\n",
        "    ('scaler',StandardScaler()), \n",
        "    ('linear_regression', LinearRegression()) \n",
        "])\n",
        "\n",
        "# 학습\n",
        "linear_pipline.fit(X_tn, y_tn)\n",
        "\n",
        "# 예측\n",
        "pred_linear = linear_pipline.predict(X_te)\n",
        "\n",
        "# 평가\n",
        "mean_squared_error(y_te, pred_linear)\n",
        "```\n",
        "\n",
        "# 그리드 서치\n",
        "\n",
        "-   머신러닝 과정에서 관심 있는 매개 변수들을 대상으로 학습하도록 만드는\n",
        "    방식"
      ],
      "id": "278bbe38-18cf-4174-8df2-405692f7626c"
    },
    {
      "cell_type": "code",
      "execution_count": 4,
      "metadata": {},
      "outputs": [
        {
          "output_type": "stream",
          "name": "stdout",
          "text": [
            "{'k': 3}\n",
            "0.9736842105263158"
          ]
        }
      ],
      "source": [
        "from sklearn import datasets\n",
        "from sklearn.preprocessing import StandardScaler\n",
        "from sklearn.neighbors import KNeighborsClassifier\n",
        "from sklearn.model_selection import train_test_split\n",
        "\n",
        "from sklearn.metrics import accuracy_score\n",
        "from sklearn.metrics import confusion_matrix\n",
        "from sklearn.metrics import classification_report\n",
        "\n",
        "# 꽃 데이터 불러오기\n",
        "raw_iris = datasets.load_iris()\n",
        "\n",
        "# 피쳐 / 타겟\n",
        "X = raw_iris.data\n",
        "y = raw_iris.target\n",
        "\n",
        "# 트레이닝 / 테스트 데이터 분할\n",
        "X_tn, X_te, y_tn, y_te=train_test_split(X,y,random_state=0)\n",
        "\n",
        "# 표준화 스케일\n",
        "std_scale = StandardScaler()\n",
        "std_scale.fit(X_tn)\n",
        "X_tn_std = std_scale.transform(X_tn)\n",
        "X_te_std  = std_scale.transform(X_te)\n",
        "\n",
        "best_accuracy = 0\n",
        "\n",
        "for k in [1,2,3,4,5,6,7,8,9,10]:\n",
        "    clf_knn =  KNeighborsClassifier(n_neighbors=k)\n",
        "    clf_knn.fit(X_tn_std, y_tn)\n",
        "    knn_pred = clf_knn.predict(X_te_std)\n",
        "    accuracy = accuracy_score(y_te, knn_pred)\n",
        "    if accuracy > best_accuracy:\n",
        "        best_accuracy = accuracy\n",
        "        final_k = {'k': k}\n",
        "    \n",
        "print(final_k)\n",
        "print(accuracy)"
      ],
      "id": "679ec34e-910e-45fe-a3ea-ad2bb6bf4a3e"
    },
    {
      "cell_type": "markdown",
      "metadata": {},
      "source": [
        "# 모형 성능 평가\n",
        "\n",
        "## 분류(classification)\n",
        "\n",
        "-   정확도(accuracy)\n",
        "\n",
        "$$\\dfrac{1}{n}\\sum_{i=1}^n I(\\hat y_i = y_i)$$"
      ],
      "id": "22a12bc4-b5ba-46df-97e9-17b8497f620e"
    },
    {
      "cell_type": "code",
      "execution_count": 5,
      "metadata": {},
      "outputs": [
        {
          "output_type": "stream",
          "name": "stdout",
          "text": [
            "0.5\n",
            "2"
          ]
        }
      ],
      "source": [
        "# 정확도\n",
        "#import numpy as np\n",
        "from sklearn.metrics import accuracy_score\n",
        "y_pred = [0, 2, 1, 3]\n",
        "y_true = [0, 1, 2, 3]\n",
        "print(accuracy_score(y_true, y_pred))\n",
        "print(accuracy_score(y_true, y_pred, normalize=False))"
      ],
      "id": "8e4cba36-bbc9-4ddf-b2fc-25664f0dffbd"
    },
    {
      "cell_type": "code",
      "execution_count": 6,
      "metadata": {},
      "outputs": [],
      "source": [
        "## confusionm matrix\n",
        "from sklearn.metrics import confusion_matrix\n",
        "y_true = [2, 0, 2, 2, 0, 1]\n",
        "y_pred = [0, 0, 2, 2, 0, 2]\n",
        "confusion_matrix(y_true, y_pred)"
      ],
      "id": "a5efba14-1ebb-4fd6-add3-5207295b897a"
    },
    {
      "cell_type": "code",
      "execution_count": 7,
      "metadata": {},
      "outputs": [
        {
          "output_type": "stream",
          "name": "stdout",
          "text": [
            "              precision    recall  f1-score   support\n",
            "\n",
            "     class 0       0.67      1.00      0.80         2\n",
            "     class 1       0.00      0.00      0.00         1\n",
            "     class 2       1.00      0.50      0.67         2\n",
            "\n",
            "    accuracy                           0.60         5\n",
            "   macro avg       0.56      0.50      0.49         5\n",
            "weighted avg       0.67      0.60      0.59         5\n"
          ]
        }
      ],
      "source": [
        "## classification report \n",
        "from sklearn.metrics import classification_report\n",
        "y_true = [0, 1, 2, 2, 0]\n",
        "y_pred = [0, 0, 2, 1, 0]\n",
        "target_names = ['class 0', 'class 1', 'class 2']\n",
        "print(classification_report(y_true, y_pred, target_names=target_names))"
      ],
      "id": "62879c54-0e55-463d-8589-f285b54eb101"
    },
    {
      "cell_type": "markdown",
      "metadata": {},
      "source": [
        "## 회귀(regression)\n",
        "\n",
        "-   Mean Absolute Error\n",
        "\n",
        "$$MAE=\\dfrac{1}{n}\\sum_{i=1}^n|y_i-\\hat y_i|$$"
      ],
      "id": "ff1e6953-e0d0-4043-8a52-7b63717e9d60"
    },
    {
      "cell_type": "code",
      "execution_count": 8,
      "metadata": {},
      "outputs": [
        {
          "output_type": "stream",
          "name": "stdout",
          "text": [
            "0.5"
          ]
        }
      ],
      "source": [
        "# mean absolute error\n",
        "from sklearn.metrics import mean_absolute_error\n",
        "y_true = [3, -0.5, 2, 7]\n",
        "y_pred = [2.5, 0.0, 2, 8]\n",
        "\n",
        "print(mean_absolute_error(y_true, y_pred))"
      ],
      "id": "ae8d8c7b-a76f-48ca-a508-80a5c9e95d87"
    },
    {
      "cell_type": "markdown",
      "metadata": {},
      "source": [
        "-   Mean Squared Error\n",
        "\n",
        "$$MSE=\\dfrac{1}{n}\\sum_{i=1}^n(y_i-\\hat y_i)^2$$"
      ],
      "id": "202a3ac8-7a20-455e-b765-b66937b485e0"
    },
    {
      "cell_type": "code",
      "execution_count": 9,
      "metadata": {},
      "outputs": [
        {
          "output_type": "stream",
          "name": "stdout",
          "text": [
            "0.375"
          ]
        }
      ],
      "source": [
        "# mean squared error\n",
        "from sklearn.metrics import mean_squared_error\n",
        "y_true = [3, -0.5, 2, 7]\n",
        "y_pred = [2.5, 0.0, 2, 8]\n",
        "print(mean_squared_error(y_true, y_pred))"
      ],
      "id": "59486bea-4d5f-429f-814d-b59e1dfb7875"
    },
    {
      "cell_type": "code",
      "execution_count": 10,
      "metadata": {},
      "outputs": [
        {
          "output_type": "stream",
          "name": "stdout",
          "text": [
            "0.9486081370449679"
          ]
        }
      ],
      "source": [
        "# R2\n",
        "from sklearn.metrics import r2_score\n",
        "y_true = [3, -0.5, 2, 7]\n",
        "y_pred = [2.5, 0.0, 2, 8]\n",
        "print(r2_score(y_true, y_pred))"
      ],
      "id": "f8294c5f-28a0-44a6-9a97-c2c5248e64ea"
    },
    {
      "cell_type": "markdown",
      "metadata": {},
      "source": [
        "## 군집(clustering)\n",
        "\n",
        "`-` 실루엣 스코어(silhouette score)\n",
        "\n",
        "-   서로 다른 군집이 얼마나 잘 분리되는지 나타내는 지표\n",
        "\n",
        "-   같은 군집의 데이터는 가까운 거리에 뭉쳐 있고, 다른 군집의\n",
        "    데이터끼리는 멀리 떨어져 있을 수록 높은 점수\n",
        "\n",
        "-   a: 집단 내 데이터 거리 평균\n",
        "\n",
        "-   b: 다른 집단 데이터 거리 평균의 최솟값\n",
        "\n",
        "-   실루엣 스코어는 -1~1의 값으 ㄹ가지며 스코어가 높을 수록 좋은 성능\n",
        "\n",
        "$$s=\\dfrac{b-a}{max(a,b)}$$"
      ],
      "id": "6c62ee51-b657-4430-885a-1413d84a6980"
    },
    {
      "cell_type": "code",
      "execution_count": 12,
      "metadata": {},
      "outputs": [
        {
          "output_type": "stream",
          "name": "stdout",
          "text": [
            "0.5789497702625118"
          ]
        }
      ],
      "source": [
        "# silloutte score\n",
        "from sklearn.metrics import silhouette_score\n",
        "X = [[1, 2], [4, 5], [2, 1], [6, 7], [2, 3]]\n",
        "labels = [0, 1, 0, 1, 0] \n",
        "sil_score = silhouette_score(X, labels)\n",
        "print(sil_score)"
      ],
      "id": "1cbd12ab-abba-421c-a7b3-d1a680c2ba3f"
    },
    {
      "cell_type": "code",
      "execution_count": 11,
      "metadata": {},
      "outputs": [
        {
          "output_type": "stream",
          "name": "stdout",
          "text": [
            "0.24242424242424243"
          ]
        }
      ],
      "source": [
        "# adjusted rand index\n",
        "from sklearn.metrics import adjusted_rand_score\n",
        "labels_true = [0, 0, 0, 1, 1, 1]\n",
        "labels_pred = [0, 0, 1, 1, 2, 2]\n",
        "\n",
        "print(adjusted_rand_score(labels_true, labels_pred))"
      ],
      "id": "f4232da2-d216-4018-97d3-f16c11a9e6d7"
    }
  ],
  "nbformat": 4,
  "nbformat_minor": 5,
  "metadata": {
    "kernelspec": {
      "name": "python3",
      "display_name": "Python 3 (ipykernel)",
      "language": "python"
    },
    "language_info": {
      "name": "python",
      "codemirror_mode": {
        "name": "ipython",
        "version": "3"
      },
      "file_extension": ".py",
      "mimetype": "text/x-python",
      "nbconvert_exporter": "python",
      "pygments_lexer": "ipython3",
      "version": "3.8.16"
    }
  }
}