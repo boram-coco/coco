{
  "cells": [
    {
      "cell_type": "markdown",
      "metadata": {},
      "source": [
        "# 1: 주피터 노트북 사용법\n",
        "\n",
        "김보람  \n",
        "2022-11-24\n",
        "\n",
        "# 주피터 노트북 사용법\n",
        "\n",
        "-   Shift+Enter 키를 누르면 셀이 실행되고 커서가 다음셀로 이동\n",
        "-   Enter 키 누르면 편집상태로 돌아온다.\n",
        "-   ESC 키를 누르고\n",
        "    -   a 키를 누르면 위에 셀이 추가 된다.\n",
        "    -   b 키를 누르면 아래에 셀이 추가 된다.\n",
        "    -   dd 키를 누르면 셀이 삭제 된다.\n",
        "    -   m 키를 누르면 문서 셀로 변경 된다.\n",
        "    -   y 키를 누르면 코드 셀로 변경 된다.\n",
        "-   단축키는 h 버튼 눌러서 확인이 가능하다\n",
        "\n",
        "### 마크다운(Markdown)이란?\n",
        "\n",
        "-   코드와 함께 문서화를 할 수 있다.\n",
        "-   문서화를 할 수 있는 문법\n",
        "\n",
        "<!-- -->\n",
        "\n",
        "    여러 줄의 설명을\n",
        "    줄바꿈으로 쓰고자 할 때"
      ],
      "id": "c7b05957-148e-48da-b67e-f812d4883feb"
    },
    {
      "cell_type": "code",
      "execution_count": 2,
      "metadata": {},
      "outputs": [
        {
          "output_type": "stream",
          "name": "stdout",
          "text": [
            "Hello World"
          ]
        }
      ],
      "source": [
        "print(\"Hello World\")"
      ],
      "id": "846c54ee"
    },
    {
      "cell_type": "code",
      "execution_count": 3,
      "metadata": {},
      "outputs": [],
      "source": [
        "a=1\n",
        "b=2\n",
        "a+b"
      ],
      "id": "04bde4c5"
    },
    {
      "cell_type": "code",
      "execution_count": null,
      "metadata": {},
      "outputs": [],
      "source": [
        "for i in range(10000000):\n",
        "    print(i)"
      ],
      "id": "dfba0c82"
    }
  ],
  "nbformat": 4,
  "nbformat_minor": 5,
  "metadata": {
    "kernelspec": {
      "name": "python3",
      "display_name": "Python 3",
      "language": "python"
    },
    "language_info": {
      "name": "python",
      "codemirror_mode": {
        "name": "ipython",
        "version": "3"
      },
      "file_extension": ".py",
      "mimetype": "text/x-python",
      "nbconvert_exporter": "python",
      "pygments_lexer": "ipython3",
      "version": "3.7.16"
    }
  }
}