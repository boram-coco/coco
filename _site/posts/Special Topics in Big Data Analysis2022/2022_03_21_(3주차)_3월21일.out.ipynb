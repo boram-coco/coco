{
  "cells": [
    {
      "cell_type": "markdown",
      "metadata": {},
      "source": [
        "# \\[STBDA\\] 03wk: tensorflow_Variable, 미분\n",
        "\n",
        "김보람  \n",
        "2023-06-19\n",
        "\n",
        "> 해당 강의노트는 전북대학교 최규빈교수님\n",
        "> [STBDA2022](https://guebin.github.io/STBDA2022/) 자료임\n",
        "\n",
        "### imports"
      ],
      "id": "df21145f-86be-47a3-915f-0b1925ebb91f"
    },
    {
      "cell_type": "code",
      "execution_count": 1,
      "metadata": {},
      "outputs": [
        {
          "output_type": "stream",
          "name": "stderr",
          "text": [
            "2023-06-16 17:03:31.644114: I tensorflow/core/platform/cpu_feature_guard.cc:193] This TensorFlow binary is optimized with oneAPI Deep Neural Network Library (oneDNN) to use the following CPU instructions in performance-critical operations:  AVX2 FMA\n",
            "To enable them in other operations, rebuild TensorFlow with the appropriate compiler flags."
          ]
        }
      ],
      "source": [
        "import tensorflow as tf\n",
        "import numpy as np"
      ],
      "id": "5e2d101b-f78f-43d8-9800-ca00451bc541"
    },
    {
      "cell_type": "code",
      "execution_count": 2,
      "metadata": {
        "outputId": "57917b90-6614-4b7e-cdca-514e812d1382"
      },
      "outputs": [],
      "source": [
        "tf.config.experimental.list_physical_devices('GPU')"
      ],
      "id": "080223e7-0bcf-4f4f-b01a-8f8b4419f5ba"
    },
    {
      "cell_type": "markdown",
      "metadata": {},
      "source": [
        "### 지난강의 보충\n",
        "\n",
        "`-` max, min, sum, mean"
      ],
      "id": "d54b6d49-6f1a-40d9-8ce0-86107f326bc4"
    },
    {
      "cell_type": "code",
      "execution_count": 3,
      "metadata": {
        "outputId": "bca64ef8-3d40-49c8-aeb8-da7d170b6033"
      },
      "outputs": [],
      "source": [
        "a= tf.constant([1.0,2.0,3.0,4.0])\n",
        "a"
      ],
      "id": "4cc20e3c-2587-4a3c-8628-6ff3cebd37e9"
    },
    {
      "cell_type": "code",
      "execution_count": 4,
      "metadata": {
        "outputId": "950e8db2-147f-4f35-9bfc-328441a48738"
      },
      "outputs": [],
      "source": [
        "tf.reduce_mean(a)"
      ],
      "id": "c19ba46c-98e8-4e6d-97d1-d4e791f51497"
    },
    {
      "cell_type": "markdown",
      "metadata": {},
      "source": [
        "#### concat, stack\n",
        "\n",
        "`-` 예제: (2,3,4,5) stack (2,3,4,5) -\\> (?,?,?,?,?)"
      ],
      "id": "b8e76daa-f013-4ee9-847a-3ed560c14ed6"
    },
    {
      "cell_type": "code",
      "execution_count": 5,
      "metadata": {},
      "outputs": [],
      "source": [
        "a = tf.reshape(tf.constant(range(2*3*4*5)),(2,3,4,5))\n",
        "b = -a"
      ],
      "id": "81daf1ae-db73-403d-86c9-bd2679c92d2b"
    },
    {
      "cell_type": "markdown",
      "metadata": {},
      "source": [
        "**case1** (1,2,3,4,5) stack (1,2,3,4,5) –\\> (2,2,3,4,5) \\# axis=0"
      ],
      "id": "a263de53-b76f-4c5a-acb5-7c4b547c6667"
    },
    {
      "cell_type": "code",
      "execution_count": 6,
      "metadata": {
        "outputId": "36862afa-4aa1-450a-e2f7-52e54cb3260b"
      },
      "outputs": [],
      "source": [
        "tf.stack([a,b],axis=0)"
      ],
      "id": "c1818fd9-b939-47a1-a129-c5ac7d6ce062"
    },
    {
      "cell_type": "markdown",
      "metadata": {},
      "source": [
        "**case2** (2,1,3,4,5) stack (2,1,3,4,5) –\\> (2,2,3,4,5) \\# axis=1"
      ],
      "id": "673b1f76-cd29-468a-a697-ac32e1546be1"
    },
    {
      "cell_type": "code",
      "execution_count": 7,
      "metadata": {
        "outputId": "92935b7d-2ece-4982-d4b0-cc06e9229f95"
      },
      "outputs": [],
      "source": [
        "tf.stack([a,b],axis=1)"
      ],
      "id": "17967b10-a576-4f8f-a6c3-62925a377f07"
    },
    {
      "cell_type": "markdown",
      "metadata": {},
      "source": [
        "**case3** (2,3,1,4,5) stack (2,3,1,4,5) –\\> (2,3,2,4,5) \\# axis=2"
      ],
      "id": "2f14a04e-b83a-45e0-841f-c096f8f9a21a"
    },
    {
      "cell_type": "code",
      "execution_count": 8,
      "metadata": {
        "outputId": "3e92ca9a-36ea-421e-b94e-487a7f914d9d"
      },
      "outputs": [],
      "source": [
        "tf.stack([a,b],axis=2)"
      ],
      "id": "a7afb426-a920-4ca4-aa4e-936943cd66a2"
    },
    {
      "cell_type": "markdown",
      "metadata": {},
      "source": [
        "**case4** (2,3,4,1,5) stack (2,3,4,1,5) –\\> (2,3,4,2,5) \\# axis=3"
      ],
      "id": "ba415fc1-5b2c-4d76-b852-2e79a0239596"
    },
    {
      "cell_type": "code",
      "execution_count": 9,
      "metadata": {
        "outputId": "aa35cae7-4da5-49c6-b8fe-3c1e6b00b1ce"
      },
      "outputs": [],
      "source": [
        "tf.stack([a,b],axis=-2)"
      ],
      "id": "ba9f788c-7fc1-4b4b-b905-d33af9960d70"
    },
    {
      "cell_type": "markdown",
      "metadata": {},
      "source": [
        "**case5** (2,3,4,5,1) stack (2,3,4,5,1) –\\> (2,3,4,5,2) \\# axis=4"
      ],
      "id": "a8daeec1-fd82-41d4-975d-0a8cee23ded8"
    },
    {
      "cell_type": "code",
      "execution_count": 10,
      "metadata": {
        "outputId": "62dfc438-42d0-432b-ecb2-13859106b6a0"
      },
      "outputs": [],
      "source": [
        "tf.stack([a,b],axis=-1)"
      ],
      "id": "2a8b0975-d591-4441-81a5-4e0341a39266"
    },
    {
      "cell_type": "markdown",
      "metadata": {},
      "source": [
        "`-` 예제: (2,3,4), (2,3,4), (2,3,4)"
      ],
      "id": "f8c71fbf-7e44-46bb-a78a-6eb2c2b8245f"
    },
    {
      "cell_type": "code",
      "execution_count": 11,
      "metadata": {},
      "outputs": [],
      "source": [
        "a= tf.reshape(tf.constant(range(2*3*4)),(2,3,4))\n",
        "b= -a\n",
        "c= 2*a"
      ],
      "id": "a7a582d4-1bb7-461f-a813-ec8044c1a739"
    },
    {
      "cell_type": "markdown",
      "metadata": {},
      "source": [
        "(예시1) (2,3,4), (2,3,4), (2,3,4) $\\to$ (6,3,4)"
      ],
      "id": "8c60b398-ac6e-45be-bd94-f4ff1694caaa"
    },
    {
      "cell_type": "code",
      "execution_count": 12,
      "metadata": {
        "outputId": "cb7c0a01-b345-4f62-9573-33799ae2f06e"
      },
      "outputs": [],
      "source": [
        "tf.concat([a,b,c],axis=0)"
      ],
      "id": "cf63ebd3-0f32-4b07-9ac0-5cf1d0a439ce"
    },
    {
      "cell_type": "markdown",
      "metadata": {},
      "source": [
        "(예시2) (2,3,4), (2,3,4), (2,3,4) $\\to$ (2,9,4)"
      ],
      "id": "5c3175f7-2d28-4d73-ba34-97f6364d9054"
    },
    {
      "cell_type": "code",
      "execution_count": 13,
      "metadata": {
        "outputId": "90bcc97b-c77e-44f5-9ec3-aaa9be733748"
      },
      "outputs": [],
      "source": [
        "tf.concat([a,b,c],axis=1)"
      ],
      "id": "00cc691b-2ce9-4600-a15f-03f2181b076e"
    },
    {
      "cell_type": "markdown",
      "metadata": {},
      "source": [
        "(예시3) (2,3,4), (2,3,4), (2,3,4) $\\to$ (2,3,12)"
      ],
      "id": "0eca4af1-3cfd-4e7e-a0a8-e724dff17315"
    },
    {
      "cell_type": "code",
      "execution_count": 14,
      "metadata": {
        "outputId": "68bc35e6-6676-4b8d-cf4f-777e4764405a"
      },
      "outputs": [],
      "source": [
        "tf.concat([a,b,c],axis=-1)"
      ],
      "id": "a709ca44-4ec8-45e8-96d4-f3c94f289660"
    },
    {
      "cell_type": "markdown",
      "metadata": {},
      "source": [
        "(예시4) (2,3,4), (2,3,4), (2,3,4) $\\to$ (3,2,3,4)"
      ],
      "id": "381c3865-cf93-42c6-8a6a-c474b90ea140"
    },
    {
      "cell_type": "code",
      "execution_count": 15,
      "metadata": {
        "outputId": "1f5dc716-59a6-4dd8-d11f-67dc4d23b5e8"
      },
      "outputs": [],
      "source": [
        "tf.stack([a,b,c],axis=0)"
      ],
      "id": "fed3f081-26cb-450c-9d4e-35b1b84bb361"
    },
    {
      "cell_type": "markdown",
      "metadata": {},
      "source": [
        "(예시5) (2,3,4), (2,3,4), (2,3,4) $\\to$ (2,3,3,4)"
      ],
      "id": "47eda505-a3d8-4881-ba75-7038231503bd"
    },
    {
      "cell_type": "code",
      "execution_count": 16,
      "metadata": {
        "outputId": "55b59596-ee54-405e-a028-7dca59b24335"
      },
      "outputs": [],
      "source": [
        "tf.stack([a,b,c],axis=1)"
      ],
      "id": "29e03bf7-8cc1-4448-95ea-7291e64fd4a6"
    },
    {
      "cell_type": "markdown",
      "metadata": {},
      "source": [
        "(예시6) (2,3,4), (2,3,4), (2,3,4) $\\to$ (2,3,3,4)"
      ],
      "id": "e697cdbb-a42d-4491-ad03-fc62a789e070"
    },
    {
      "cell_type": "code",
      "execution_count": 17,
      "metadata": {
        "outputId": "d19cbc63-6982-4340-b515-9f2b025e9f77"
      },
      "outputs": [],
      "source": [
        "tf.stack([a,b,c],axis=2)"
      ],
      "id": "1868ed63-6747-46c6-a363-2e72ba65df0b"
    },
    {
      "cell_type": "markdown",
      "metadata": {},
      "source": [
        "(예시7) (2,3,4), (2,3,4), (2,3,4) $\\to$ (2,3,4,3)"
      ],
      "id": "c478b88b-7a50-4948-9301-7c13a83dfaa3"
    },
    {
      "cell_type": "code",
      "execution_count": 18,
      "metadata": {
        "outputId": "7bb6df2c-05ff-4d7b-b57f-6a802f298e39"
      },
      "outputs": [],
      "source": [
        "tf.stack([a,b,c],axis=-1)"
      ],
      "id": "49f5149f-e868-403e-a7e5-45268b575a45"
    },
    {
      "cell_type": "markdown",
      "metadata": {},
      "source": [
        "`-` 예제: (2,3,4) (4,3,4) $\\to$ (6,3,4)"
      ],
      "id": "ee276c82-5401-43e1-94f8-3003c4150bf7"
    },
    {
      "cell_type": "code",
      "execution_count": 19,
      "metadata": {},
      "outputs": [],
      "source": [
        "a=tf.reshape(tf.constant(range(2*3*4)),(2,3,4))\n",
        "b=tf.reshape(-tf.constant(range(4*3*4)),(4,3,4))"
      ],
      "id": "3c23b7e1-37ce-472d-91b7-e1d846d6bd46"
    },
    {
      "cell_type": "code",
      "execution_count": 20,
      "metadata": {
        "outputId": "f7463aa3-9ffc-4403-8280-f946a3b69a91"
      },
      "outputs": [],
      "source": [
        "tf.concat([a,b],axis=0)"
      ],
      "id": "a8d488e0-0bf2-47da-8930-d135967c74b4"
    },
    {
      "cell_type": "code",
      "execution_count": 21,
      "metadata": {
        "outputId": "5f080881-f2de-40c2-fb0c-573515c632a0"
      },
      "outputs": [],
      "source": [
        "tf.concat([a,b],axis=1)"
      ],
      "id": "637c410b-c2e2-4623-b7b3-faabeac4822d"
    },
    {
      "cell_type": "markdown",
      "metadata": {},
      "source": [
        "-   dimension이 달라서 안된다."
      ],
      "id": "11cec56f-7bef-4b6c-a2be-99c5408b27e0"
    },
    {
      "cell_type": "code",
      "execution_count": 22,
      "metadata": {
        "outputId": "c99298a7-27bb-4046-b70f-183938a59eeb"
      },
      "outputs": [],
      "source": [
        "tf.concat([a,b],axis=2)"
      ],
      "id": "8a6d585b-41f2-4de1-b1e7-3faa85896ad6"
    },
    {
      "cell_type": "markdown",
      "metadata": {},
      "source": [
        "`-` (2,2) @ (2,) 의 연산?\n",
        "\n",
        "**numpy**"
      ],
      "id": "1d496106-7223-496d-a331-045fe82c3c91"
    },
    {
      "cell_type": "code",
      "execution_count": 28,
      "metadata": {},
      "outputs": [],
      "source": [
        "np.array([77,-88])"
      ],
      "id": "f29d480b-1dbd-4779-9989-1ab5969982b8"
    },
    {
      "cell_type": "markdown",
      "metadata": {},
      "source": [
        "-   길이가 2인 벡터"
      ],
      "id": "f30c198e-37bd-47f4-9424-6cdbca408f89"
    },
    {
      "cell_type": "code",
      "execution_count": 26,
      "metadata": {
        "outputId": "2fe20c53-b8ea-4087-f044-c3081c39b620"
      },
      "outputs": [],
      "source": [
        "np.array([[1,0],[0,1]]) @ np.array([77,-88])"
      ],
      "id": "d7c9436f-d971-4ba7-ac9b-9f2d86cfdced"
    },
    {
      "cell_type": "markdown",
      "metadata": {},
      "source": [
        "-   오 하지만 계산이 된다!?"
      ],
      "id": "7ccecdcd-ee67-4cc6-b969-389f8a9eb384"
    },
    {
      "cell_type": "code",
      "execution_count": 27,
      "metadata": {
        "outputId": "b83b04e3-f938-4f04-f883-adf17efad52c"
      },
      "outputs": [],
      "source": [
        "np.array([77,-88]) @ np.array([[1,0],[0,1]])"
      ],
      "id": "ae358ef7-9f63-4164-80f4-c58d5fd8a665"
    },
    {
      "cell_type": "code",
      "execution_count": 29,
      "metadata": {
        "outputId": "c18c74fd-f97b-4d46-927b-12d212f55edd"
      },
      "outputs": [],
      "source": [
        "np.array([[1,0],[0,1]]) @ np.array([77,-88]).reshape(2,1)"
      ],
      "id": "2e5d65ec-8569-4bb8-a5b7-60a88d7be76d"
    },
    {
      "cell_type": "code",
      "execution_count": 30,
      "metadata": {
        "outputId": "ca8b06a4-1739-4479-89d2-e3143a42f3db"
      },
      "outputs": [],
      "source": [
        "np.array([77,-88]).reshape(2,1) @ np.array([[1,0],[0,1]])"
      ],
      "id": "4c6e3fd4-7c62-4bc8-a411-f2817f8b1e59"
    },
    {
      "cell_type": "markdown",
      "metadata": {},
      "source": [
        "-   (2x1) @ (2x2) 가 되서 dimension이 달라서 안됨"
      ],
      "id": "47ea4ee7-7fd5-41db-a222-1d54286604c5"
    },
    {
      "cell_type": "code",
      "execution_count": 31,
      "metadata": {
        "outputId": "4a20de65-c16f-4533-af19-e1a47b92b6c1"
      },
      "outputs": [],
      "source": [
        "np.array([77,-88]).reshape(1,2) @ np.array([[1,0],[0,1]])"
      ],
      "id": "66c8fcbe-2c74-4529-b3dd-5bc17ec2e223"
    },
    {
      "cell_type": "markdown",
      "metadata": {},
      "source": [
        "**tensorflow**"
      ],
      "id": "42a14286-7f14-4e90-b816-8917ae529260"
    },
    {
      "cell_type": "code",
      "execution_count": 32,
      "metadata": {},
      "outputs": [],
      "source": [
        "I = tf.constant([[1.0,0.0],[0.0,1.0]])\n",
        "x = tf.constant([77.0,-88.0])"
      ],
      "id": "037af93c-96bb-4df9-9c55-89b8cbd0923f"
    },
    {
      "cell_type": "code",
      "execution_count": 33,
      "metadata": {
        "outputId": "9492f526-dd74-4bb5-88d1-1887309c9513"
      },
      "outputs": [],
      "source": [
        "I @ x"
      ],
      "id": "39cf4076-8c3a-4b23-a22b-9eb67feb5c43"
    },
    {
      "cell_type": "markdown",
      "metadata": {},
      "source": [
        "-   (2x2) 랑 길이가2인 벡터의 행렬곲 안됨."
      ],
      "id": "f1b68c9c-4ac7-44a9-a2d3-dc32d24ca5f7"
    },
    {
      "cell_type": "code",
      "execution_count": 34,
      "metadata": {
        "outputId": "b4114b9d-835e-4175-f3a8-ae0450952906"
      },
      "outputs": [],
      "source": [
        "x @ I"
      ],
      "id": "ba0f7a8a-50da-419f-9669-4fa04dfd3387"
    },
    {
      "cell_type": "code",
      "execution_count": 35,
      "metadata": {
        "outputId": "3c32ed00-a2e3-4695-aaf1-cab1f868847c"
      },
      "outputs": [],
      "source": [
        "I @ tf.reshape(x,(2,1))"
      ],
      "id": "b6fbe32e-55e8-4507-a0a1-9e7e9a73321d"
    },
    {
      "cell_type": "code",
      "execution_count": 36,
      "metadata": {
        "outputId": "c6369a46-5f24-4ec2-928d-28314c3f4cd6"
      },
      "outputs": [],
      "source": [
        "tf.reshape(x,(1,2)) @ I"
      ],
      "id": "8d49f3ab-b2fe-46c5-9d74-5f38f0006d54"
    },
    {
      "cell_type": "markdown",
      "metadata": {},
      "source": [
        "------------------------------------------------------------------------\n",
        "\n",
        "### tf.Variable\n",
        "\n",
        "#### 선언\n",
        "\n",
        "`-` tf.Variable()로 선언"
      ],
      "id": "586a7b73-df34-43cf-84f6-d41c7a2495b5"
    },
    {
      "cell_type": "code",
      "execution_count": 59,
      "metadata": {
        "outputId": "2e1eaf02-ecb1-4f9c-c31f-85f90811a070"
      },
      "outputs": [],
      "source": [
        "tf.Variable([1,2,3,4])"
      ],
      "id": "74df1e40-7626-4556-943d-bb21e24b8efe"
    },
    {
      "cell_type": "code",
      "execution_count": 60,
      "metadata": {
        "outputId": "d49c5d24-63ab-48e6-fe62-c4e6d56a9a0a"
      },
      "outputs": [],
      "source": [
        "tf.Variable([1.0,2.0,3.0,4.0])"
      ],
      "id": "4d160dc9-9bb2-42cd-b957-8e28e2f6c84a"
    },
    {
      "cell_type": "markdown",
      "metadata": {},
      "source": [
        "`-` tf.constant() 선언후 변환"
      ],
      "id": "a40aca92-3974-4ade-8118-cc9776a03ed1"
    },
    {
      "cell_type": "code",
      "execution_count": 61,
      "metadata": {
        "outputId": "063fe48a-dc6d-4aec-ab71-bd25662d3030"
      },
      "outputs": [],
      "source": [
        "tf.Variable(tf.constant([1,2,3,4]))"
      ],
      "id": "9b865c60-7698-47e7-a517-42e7893aa385"
    },
    {
      "cell_type": "markdown",
      "metadata": {},
      "source": [
        "`-` np 등으로 선언후 변환"
      ],
      "id": "98c0fa4f-4e22-48e7-86d0-29207920200c"
    },
    {
      "cell_type": "code",
      "execution_count": 44,
      "metadata": {
        "outputId": "95d12ba8-06c5-4bd3-e407-e9d6a0ddfea1"
      },
      "outputs": [],
      "source": [
        "tf.Variable(np.array([1,2,3,4]))"
      ],
      "id": "bfe1c8ee-6f72-4955-b444-2ed8a102046b"
    },
    {
      "cell_type": "markdown",
      "metadata": {},
      "source": [
        "#### 타입"
      ],
      "id": "72a07bb8-26fd-4463-a171-084bbbe8cce4"
    },
    {
      "cell_type": "code",
      "execution_count": 46,
      "metadata": {
        "outputId": "9f4ae68d-50e4-4a83-a748-617e10456d18"
      },
      "outputs": [],
      "source": [
        "type(tf.Variable([1,2,3,4]))"
      ],
      "id": "1dc0cc99-555f-48ec-93ee-a6b4a95f267a"
    },
    {
      "cell_type": "markdown",
      "metadata": {},
      "source": [
        "#### 인덱싱"
      ],
      "id": "7e207e3e-e3f4-4bb8-9ebd-f49ac772fde4"
    },
    {
      "cell_type": "code",
      "execution_count": 47,
      "metadata": {
        "outputId": "5e187f58-ee85-4822-d5ae-d4a68f44733f"
      },
      "outputs": [],
      "source": [
        "a=tf.Variable([1,2,3,4])\n",
        "a"
      ],
      "id": "db64811f-90c5-4fd1-9fa5-1621de770538"
    },
    {
      "cell_type": "code",
      "execution_count": 48,
      "metadata": {
        "outputId": "1d684ed1-e35d-4cb7-d04b-0266ad870f28"
      },
      "outputs": [],
      "source": [
        "a[:2]"
      ],
      "id": "c2527ebc-61ca-4fef-8b37-034d93cb35d4"
    },
    {
      "cell_type": "markdown",
      "metadata": {},
      "source": [
        "#### 연산가능"
      ],
      "id": "ee4c213b-8707-4ef3-95e8-f622b565d9e3"
    },
    {
      "cell_type": "code",
      "execution_count": 52,
      "metadata": {},
      "outputs": [],
      "source": [
        "a=tf.Variable([1,2,3,4])\n",
        "b=tf.Variable([-1,-2,-3,-4])"
      ],
      "id": "6e0d7433-0c5e-4de9-98be-580bf345a0b0"
    },
    {
      "cell_type": "code",
      "execution_count": 53,
      "metadata": {},
      "outputs": [],
      "source": [
        "type(a)"
      ],
      "id": "67db7e39-2427-4b14-8f94-3068ef666354"
    },
    {
      "cell_type": "code",
      "execution_count": 56,
      "metadata": {},
      "outputs": [],
      "source": [
        "type(b)"
      ],
      "id": "9a345518-4445-4d8c-b300-b66db370080d"
    },
    {
      "cell_type": "code",
      "execution_count": 54,
      "metadata": {
        "outputId": "a84ca48a-8759-4ddb-fe32-ae9ede8d6197"
      },
      "outputs": [],
      "source": [
        "a+b"
      ],
      "id": "536d408f-238d-42b1-a68e-50e18dd539ef"
    },
    {
      "cell_type": "code",
      "execution_count": 55,
      "metadata": {},
      "outputs": [],
      "source": [
        "type(a+b)"
      ],
      "id": "dffae94e-5d6a-4c13-835a-9d24faed3010"
    },
    {
      "cell_type": "code",
      "execution_count": 57,
      "metadata": {},
      "outputs": [],
      "source": [
        "b = -a"
      ],
      "id": "e41e0930-0944-45ee-918d-a485f74a29b0"
    },
    {
      "cell_type": "code",
      "execution_count": 58,
      "metadata": {},
      "outputs": [],
      "source": [
        "type(b)"
      ],
      "id": "2da86ae4-ae10-43e1-a532-885732b3bde0"
    },
    {
      "cell_type": "markdown",
      "metadata": {},
      "source": [
        "#### tf.Variable도 쓰기 불편함"
      ],
      "id": "17475297-b0fd-40db-ba9f-db88a4e75089"
    },
    {
      "cell_type": "code",
      "execution_count": 62,
      "metadata": {
        "outputId": "3e795972-f839-47a5-a961-514b75bc66be"
      },
      "outputs": [],
      "source": [
        "tf.Variable([1,2])+tf.Variable([3.14,3.14])"
      ],
      "id": "effb4ff3-0b14-4b12-bc86-fb897e615054"
    },
    {
      "cell_type": "markdown",
      "metadata": {},
      "source": [
        "#### tnp의 은총도 일부만 가능"
      ],
      "id": "9b272cc8-b9d2-473f-a011-71bd58528baa"
    },
    {
      "cell_type": "code",
      "execution_count": 63,
      "metadata": {},
      "outputs": [],
      "source": [
        "import tensorflow.experimental.numpy as tnp\n",
        "tnp.experimental_enable_numpy_behavior()"
      ],
      "id": "47e7f2f3-2e22-4508-b091-0c45fe79d49a"
    },
    {
      "cell_type": "markdown",
      "metadata": {},
      "source": [
        "`-` 알아서 형 변환"
      ],
      "id": "7f4c854f-d513-43e4-9bbe-44fbfcc5395a"
    },
    {
      "cell_type": "code",
      "execution_count": 65,
      "metadata": {
        "outputId": "bbf107f9-c34c-40be-8ecb-142427ac59dd"
      },
      "outputs": [],
      "source": [
        "tf.Variable([1,2])+tf.Variable([3.14,3.14])"
      ],
      "id": "1393095d-1024-4c12-b79f-7579fddf515d"
    },
    {
      "cell_type": "markdown",
      "metadata": {},
      "source": [
        "`-` .reshape 메소드"
      ],
      "id": "38833099-04dc-40bf-97c3-b144d0a34bd8"
    },
    {
      "cell_type": "code",
      "execution_count": 64,
      "metadata": {
        "outputId": "98ad144d-4914-496d-e100-b8f26ed3ef42"
      },
      "outputs": [],
      "source": [
        "tf.Variable([1,2,3,4]).reshape(2,2)"
      ],
      "id": "276765e6-bd89-437e-91ab-12bd06c9dc5e"
    },
    {
      "cell_type": "markdown",
      "metadata": {},
      "source": [
        "#### 대부분의 동작은 tf.constant랑 큰 차이를 모르겠음\n",
        "\n",
        "`-` tf.concat"
      ],
      "id": "f266625e-fb40-4a3d-9d82-347abce826ef"
    },
    {
      "cell_type": "code",
      "execution_count": 66,
      "metadata": {
        "outputId": "cb149074-7181-46ef-dc17-abcf57908823"
      },
      "outputs": [],
      "source": [
        "a= tf.Variable([[1,2],[3,4]])\n",
        "b= tf.Variable([[-1,-2],[-3,-4]])\n",
        "tf.concat([a,b],axis=0)"
      ],
      "id": "cd610451-cc47-40f2-9e77-222774419257"
    },
    {
      "cell_type": "markdown",
      "metadata": {},
      "source": [
        "`-` tf.stack"
      ],
      "id": "65e60812-d73c-4a16-9d34-67986f486a22"
    },
    {
      "cell_type": "code",
      "execution_count": 67,
      "metadata": {
        "outputId": "1d358985-b1c4-4ca0-9d40-f701522210fe"
      },
      "outputs": [],
      "source": [
        "a= tf.Variable([[1,2],[3,4]])\n",
        "b= tf.Variable([[-1,-2],[-3,-4]])\n",
        "tf.stack([a,b],axis=0)"
      ],
      "id": "a84d4a85-6bf2-42f2-a473-e395abec68ad"
    },
    {
      "cell_type": "markdown",
      "metadata": {},
      "source": [
        "#### 변수값변경가능(?)"
      ],
      "id": "605dd416-5e04-469e-b8ed-ff5d3c3849be"
    },
    {
      "cell_type": "code",
      "execution_count": 72,
      "metadata": {
        "outputId": "e98fff41-24b4-4098-c6cd-68acf29cf540"
      },
      "outputs": [],
      "source": [
        "a= tf.Variable([1,2,3,4])\n",
        "id(a)"
      ],
      "id": "b0c73e4f-443a-45ad-8ad1-811d7e448a7c"
    },
    {
      "cell_type": "code",
      "execution_count": 73,
      "metadata": {},
      "outputs": [],
      "source": [
        "a"
      ],
      "id": "c72bdd41-5ace-450a-861e-f34cac2f6fac"
    },
    {
      "cell_type": "code",
      "execution_count": 74,
      "metadata": {
        "outputId": "ef165df5-3873-409a-d465-99da81fdfd65"
      },
      "outputs": [],
      "source": [
        "a.assign_add([-1,-2,-3,-4])\n",
        "id(a)"
      ],
      "id": "196e75c5-5415-498e-a4f5-f6fd8fe840bd"
    },
    {
      "cell_type": "code",
      "execution_count": 75,
      "metadata": {},
      "outputs": [],
      "source": [
        "a"
      ],
      "id": "0785eeeb-addb-41ce-bca8-5ba0b92ccbed"
    },
    {
      "cell_type": "markdown",
      "metadata": {},
      "source": [
        "#### 요약\n",
        "\n",
        "`-` tf.Variable()로 만들어야 하는 뚜렷한 차이는 모르겠음.\n",
        "\n",
        "`-` 애써 tf.Variable()로 만들어도 간단한연산을 하면 그 결과는\n",
        "tf.constant()로 만든 오브젝트와 동일해짐.\n",
        "\n",
        "### 미분\n",
        "\n",
        "#### 모티브\n",
        "\n",
        "`-` 예제: 컴퓨터를 이용하여 $x=2$에서 $y=3x^2$의 접선의 기울기를\n",
        "구해보자.\n",
        "\n",
        "(손풀이)\n",
        "\n",
        "$$\\frac{dy}{dx}=6x$$\n",
        "\n",
        "이므로 $x=2$를 대입하면 12이다.\n",
        "\n",
        "(컴퓨터를 이용한 풀이)\n",
        "\n",
        "**단계1**"
      ],
      "id": "2e840113-c9ee-4330-b4f1-92987adce0b0"
    },
    {
      "cell_type": "code",
      "execution_count": 76,
      "metadata": {},
      "outputs": [],
      "source": [
        "x1=2\n",
        "y1= 3*x1**2"
      ],
      "id": "8f0c0214-9f3f-4cb1-8061-84be1a724960"
    },
    {
      "cell_type": "code",
      "execution_count": 77,
      "metadata": {},
      "outputs": [],
      "source": [
        "x2=2+0.000000001\n",
        "y2= 3*x2**2"
      ],
      "id": "6f43a226-e52b-4fdd-9c16-97b05ea4c2fb"
    },
    {
      "cell_type": "code",
      "execution_count": 78,
      "metadata": {
        "outputId": "d66377ba-04ac-4b16-de98-a7b6f37b137a"
      },
      "outputs": [],
      "source": [
        "(y2-y1)/(x2-x1)"
      ],
      "id": "83e82c26-d3cb-44dd-bdc3-5db9c6bb9184"
    },
    {
      "cell_type": "markdown",
      "metadata": {},
      "source": [
        "**단계2**"
      ],
      "id": "b6b3a199-3117-4250-8223-4fb4ec7aaf50"
    },
    {
      "cell_type": "code",
      "execution_count": 79,
      "metadata": {},
      "outputs": [],
      "source": [
        "def f(x):\n",
        "    return(3*x**2)"
      ],
      "id": "08f5dd1e-0a74-4536-81b2-b0c88b80be74"
    },
    {
      "cell_type": "code",
      "execution_count": 80,
      "metadata": {
        "outputId": "a702daa9-b501-42ff-c124-b4169ebda597"
      },
      "outputs": [],
      "source": [
        "f(3)"
      ],
      "id": "6058a276-7bca-42eb-818d-6dec42bd4fb4"
    },
    {
      "cell_type": "code",
      "execution_count": 83,
      "metadata": {},
      "outputs": [],
      "source": [
        "def d(f,x):\n",
        "    return (f(x+0.000000001)-f(x))/0.000000001"
      ],
      "id": "89287edf-0964-4f50-ab89-7f05ef39aaf7"
    },
    {
      "cell_type": "code",
      "execution_count": 84,
      "metadata": {
        "outputId": "e53b6401-dac2-477e-f5b6-e0b6778fa222"
      },
      "outputs": [],
      "source": [
        "d(f,2)"
      ],
      "id": "0e81b2e6-4757-4206-a10e-2fd52ad07148"
    },
    {
      "cell_type": "markdown",
      "metadata": {},
      "source": [
        "**단계3**"
      ],
      "id": "02a0593c-92ff-4739-9b67-2a499cea7e28"
    },
    {
      "cell_type": "code",
      "execution_count": 85,
      "metadata": {
        "outputId": "57a7bb1d-f35a-4eca-d2dc-7260ada0c839"
      },
      "outputs": [],
      "source": [
        "d(lambda x: 3*x**2 ,2)"
      ],
      "id": "f39f0d96-f601-41b8-a138-d411f46cbc40"
    },
    {
      "cell_type": "code",
      "execution_count": 86,
      "metadata": {
        "outputId": "0f9132b8-1e9d-48d8-f801-5e7b7fdfc119"
      },
      "outputs": [],
      "source": [
        "d(lambda x: x**2 ,0)"
      ],
      "id": "26c51516-3bba-4510-8fff-a3bdb3314592"
    },
    {
      "cell_type": "markdown",
      "metadata": {},
      "source": [
        "**단계4**\n",
        "\n",
        "$$f(x,y)= x^2 +3y$$"
      ],
      "id": "2a37bd0b-2fd0-4551-899c-44fea585a356"
    },
    {
      "cell_type": "code",
      "execution_count": 87,
      "metadata": {},
      "outputs": [],
      "source": [
        "def f(x,y):\n",
        "    return(x**2 +3*y)"
      ],
      "id": "878429ea-1f90-4e1b-b151-9bdf8085aad5"
    },
    {
      "cell_type": "code",
      "execution_count": 88,
      "metadata": {
        "outputId": "b752944b-2e2b-435a-8232-25b21fd0363b"
      },
      "outputs": [],
      "source": [
        "d(f,(2,3))"
      ],
      "id": "7fcfe1f0-0544-4915-81b5-c30a87f8e99f"
    },
    {
      "cell_type": "markdown",
      "metadata": {},
      "source": [
        "y에대한 미분 정의를 안해줬으. 오류.\n",
        "\n",
        "#### tf.GradientTape() 사용방법\n",
        "\n",
        "`-` 예제1: $x=2$에서 $y=3x^2$의 도함수값을 구하라."
      ],
      "id": "43d73f66-be6b-466e-82ff-a60453ac3abf"
    },
    {
      "cell_type": "code",
      "execution_count": 89,
      "metadata": {},
      "outputs": [],
      "source": [
        "x=tf.Variable(2.0) #\n",
        "a=tf.constant(3.0)"
      ],
      "id": "9a349073-145c-46d3-813f-9930b63c596e"
    },
    {
      "cell_type": "markdown",
      "metadata": {},
      "source": [
        "-   미분할 것을 Varialbe로"
      ],
      "id": "639af1ec-eb91-4c27-879c-2a70581e82cf"
    },
    {
      "cell_type": "code",
      "execution_count": 90,
      "metadata": {},
      "outputs": [],
      "source": [
        "mytape=tf.GradientTape()\n",
        "mytape"
      ],
      "id": "afdb99cb-cbb0-47a1-a943-267ea7e2bca9"
    },
    {
      "cell_type": "markdown",
      "metadata": {},
      "source": [
        "-   실행 결과가 0x7f2a30cc9820 이 오브젝트주소 안에"
      ],
      "id": "1e91b9e9-f572-4302-bae6-884894128a43"
    },
    {
      "cell_type": "code",
      "execution_count": 92,
      "metadata": {},
      "outputs": [],
      "source": [
        "dir(mytape)"
      ],
      "id": "2ca0750e-2543-41a6-a9ac-bfd7b27614e2"
    },
    {
      "cell_type": "code",
      "execution_count": 91,
      "metadata": {},
      "outputs": [],
      "source": [
        "mytape.__enter__() # 기록 시작\n",
        "y=a*x**2 # y=ax^2 = 3x^2\n",
        "mytape.__exit__(None,None,None) # 기록 끝"
      ],
      "id": "64b98a63-dcd8-4948-9372-0cade4c9676b"
    },
    {
      "cell_type": "code",
      "execution_count": 93,
      "metadata": {
        "outputId": "a0d6eafd-d1d7-4f52-c77c-00b9d041b817"
      },
      "outputs": [],
      "source": [
        "mytape.gradient(y,x) # y를 x로 미분하라."
      ],
      "id": "57040689-d3be-4fe5-91d8-373a775d2ed7"
    },
    {
      "cell_type": "markdown",
      "metadata": {},
      "source": [
        "`-` 예제2: 조금 다른예제"
      ],
      "id": "f79c9314-866d-4353-ab78-805f78286844"
    },
    {
      "cell_type": "code",
      "execution_count": 94,
      "metadata": {
        "outputId": "c13f0de0-3006-4990-d442-6e294695ed8d"
      },
      "outputs": [],
      "source": [
        "x=tf.Variable(2.0)\n",
        "#a=tf.constant(3.0)\n",
        "\n",
        "mytape=tf.GradientTape()\n",
        "mytape.__enter__() # 기록 시작\n",
        "a=(x/2)*3 ## a=(3/2)x\n",
        "y=a*x**2  ## y=ax^2 = (3/2)x^3\n",
        "mytape.__exit__(None,None,None) # 기록 끝\n",
        "\n",
        "mytape.gradient(y,x) # y를 x로 미분하라."
      ],
      "id": "dfb15881-bd0b-4e8e-a800-02e42dc876bf"
    },
    {
      "cell_type": "markdown",
      "metadata": {},
      "source": [
        "-   왜 12가 안나오고 18이 나올까? 아래 식을 살펴보자.\n",
        "\n",
        "$$a=\\frac{3}{2}x$$ $$y=ax^2=\\frac{3}{2}x^3$$\n",
        "\n",
        "$$\\frac{dy}{dx}=\\frac{3}{2} 3x^2$$"
      ],
      "id": "1e2d034a-821a-47dc-bebd-42416a6809ef"
    },
    {
      "cell_type": "code",
      "execution_count": 95,
      "metadata": {
        "outputId": "e013ac6f-e39e-4305-c521-247392984823"
      },
      "outputs": [],
      "source": [
        "3/2*3*4"
      ],
      "id": "b782434a-7cad-45c4-b08f-72d918f25ba0"
    },
    {
      "cell_type": "markdown",
      "metadata": {},
      "source": [
        "`-` 테이프의 개념 ($\\star$)\n",
        "\n",
        "(상황)\n",
        "\n",
        "우리가 어려운 미분계산을 컴퓨터에게 부탁하는 상황임. (예를들면 $y=3x^2$)\n",
        "컴퓨터에게 부탁을 하기 위해서는 연습장(=테이프)에 $y=3x^2$이라는 수식을\n",
        "써서 보여줘야하는데 이때 컴퓨터에게 target이 무엇인지 그리고 무엇으로\n",
        "미분하고 싶은 것인지를 명시해야함.\n",
        "\n",
        "1.  `mytape = tf.GradientTape()`: tf.GradientTape()는 연습장을 만드는\n",
        "    명령어, 만들어진 연습장을 mytape라고 이름을 붙인다.\n",
        "\n",
        "2.  `mytape.__enter__()`: 만들어진 공책을 연다 (=기록할수 있는 상태로\n",
        "    만든다)\n",
        "\n",
        "3.  `a=x/2*3; y=a*x**2`: 컴퓨터에게 전달할 수식을 쓴다\n",
        "\n",
        "4.  `mytape.__exit__(None,None,None)`: 공책을 닫는다.\n",
        "\n",
        "5.  `mytape.gradient(y,x)`: $y$를 $x$로 미분하라는 메모를 남기고\n",
        "    컴퓨터에게 전달한다.\n",
        "\n",
        "`-` 예제3: 연습장을 언제 열고 닫을지 결정하는건 중요하다."
      ],
      "id": "48d572a2-77b3-45f3-8410-027f121fd481"
    },
    {
      "cell_type": "code",
      "execution_count": 96,
      "metadata": {
        "outputId": "314da609-b44f-4cb6-f0ac-54944a46fa54"
      },
      "outputs": [],
      "source": [
        "x=tf.Variable(2.0)\n",
        "a=(x/2)*3 ## a=(3/2)x\n",
        "\n",
        "mytape=tf.GradientTape()\n",
        "mytape.__enter__() # 기록 시작\n",
        "y=a*x**2  ## y=ax^2 = (3/2)x^3\n",
        "mytape.__exit__(None,None,None) # 기록 끝\n",
        "\n",
        "mytape.gradient(y,x) # y를 x로 미분하라."
      ],
      "id": "67d25af4-c46c-4887-8570-2ebd8dbbb559"
    },
    {
      "cell_type": "markdown",
      "metadata": {},
      "source": [
        "`-` 예제4: with문과 함께 쓰는 tf.GradientTape()"
      ],
      "id": "0b705f01-44de-4fe5-a369-e6161042d30b"
    },
    {
      "cell_type": "code",
      "execution_count": 97,
      "metadata": {},
      "outputs": [],
      "source": [
        "x=tf.Variable(2.0)\n",
        "a=(x/2)*3"
      ],
      "id": "73a29119-7fc6-43c6-b851-0f66a21f96ab"
    },
    {
      "cell_type": "code",
      "execution_count": 98,
      "metadata": {},
      "outputs": [],
      "source": [
        "with tf.GradientTape() as mytape:\n",
        "    ## with문 시작\n",
        "    y=a*x**2\n",
        "    ## with문 끝"
      ],
      "id": "2a5f62a1-da40-414b-9f4d-5cd2525cbbb1"
    },
    {
      "cell_type": "code",
      "execution_count": 99,
      "metadata": {
        "outputId": "f5d6f03a-b4f7-4a6f-f055-20db8c4404d9"
      },
      "outputs": [],
      "source": [
        "mytape.gradient(y,x) # y를 x로 미분하라."
      ],
      "id": "f23b48f9-d8ea-478e-a7a2-d27102327576"
    },
    {
      "cell_type": "markdown",
      "metadata": {},
      "source": [
        "(문법해설)\n",
        "\n",
        "아래와 같이 쓴다.\n",
        "\n",
        "``` python\n",
        "with expression as myname:\n",
        "    ## with문 시작: myname.__enter__()\n",
        "    blabla ~\n",
        "    yadiyadi !!\n",
        "    ## with문 끝: myname.__exit__()\n",
        "```\n",
        "\n",
        "1.  expression 의 실행결과 오브젝트가 생성, 생성된 오브젝트는 myname라고\n",
        "    이름붙임. 이 오브젝트는 `.__enter__()`와 `.__exit__()`를 숨겨진\n",
        "    기능으로 포함해야 한다.\n",
        "\n",
        "2.  with문이 시작되면서 `myname.__enter__()`이 실행된다.\n",
        "\n",
        "3.  블라블라와 야디야디가 실행된다.\n",
        "\n",
        "4.  with문이 종료되면서 `myname.__exit__()`이 실행된다.\n",
        "\n",
        "`-` 예제5: 예제2를 with문과 함께 구현"
      ],
      "id": "c34e3750-b449-44f7-ab21-b9dc092a59e5"
    },
    {
      "cell_type": "code",
      "execution_count": 100,
      "metadata": {
        "outputId": "fd69afa3-7b92-4d1d-e597-1d452f7771f6"
      },
      "outputs": [],
      "source": [
        "x=tf.Variable(2.0)\n",
        "\n",
        "with tf.GradientTape() as mytape:\n",
        "    a=(x/2)*3 ## a=(3/2)x\n",
        "    y=a*x**2  ## y=ax^2 = (3/2)x^3\n",
        "\n",
        "mytape.gradient(y,x) # y를 x로 미분하라."
      ],
      "id": "94b66eaf-e81c-442b-8583-ec7b1d4df9b9"
    },
    {
      "cell_type": "markdown",
      "metadata": {},
      "source": [
        "`-` 예제6: persistent = True\n",
        "\n",
        "(관찰1)"
      ],
      "id": "5074ccda-5769-45b5-969c-a319882d0e37"
    },
    {
      "cell_type": "code",
      "execution_count": 101,
      "metadata": {},
      "outputs": [],
      "source": [
        "x=tf.Variable(2.0)\n",
        "\n",
        "with tf.GradientTape() as mytape:\n",
        "    a=(x/2)*3 ## a=(3/2)x\n",
        "    y=a*x**2  ## y=ax^2 = (3/2)x^3\n"
      ],
      "id": "014ee4d2-f4a4-4530-b7b9-0dcd94757786"
    },
    {
      "cell_type": "code",
      "execution_count": 103,
      "metadata": {
        "outputId": "cfe75fd4-7d20-4683-ccce-deccce8f366a"
      },
      "outputs": [],
      "source": [
        "mytape.gradient(y,x) # 2번이상 실행해서 에러를 관측하라"
      ],
      "id": "d84aaf03-df3d-4a29-a639-af36a842d621"
    },
    {
      "cell_type": "markdown",
      "metadata": {},
      "source": [
        "(관찰2)"
      ],
      "id": "675ea72f-bb3b-4cf5-a83d-afff3afa71ad"
    },
    {
      "cell_type": "code",
      "execution_count": 104,
      "metadata": {},
      "outputs": [],
      "source": [
        "x=tf.Variable(2.0)\n",
        "\n",
        "with tf.GradientTape(persistent=True) as mytape:\n",
        "    a=(x/2)*3 ## a=(3/2)x\n",
        "    y=a*x**2  ## y=ax^2 = (3/2)x^3\n"
      ],
      "id": "ccefc318-caee-49b3-bc23-f9b289ea31fc"
    },
    {
      "cell_type": "code",
      "execution_count": 106,
      "metadata": {
        "outputId": "fec81e71-f772-4a9c-d3ea-672ebb506073"
      },
      "outputs": [],
      "source": [
        "mytape.gradient(y,x) # 2번이상실행해도 에러가 나지않음"
      ],
      "id": "5556ba55-c32b-4a4b-b5d3-c3808423bf24"
    },
    {
      "cell_type": "markdown",
      "metadata": {},
      "source": [
        "`-` 예제7: watch\n",
        "\n",
        "(관찰1)\n",
        "\n",
        "x를 Variable이 아니라 constant"
      ],
      "id": "4bed0240-b92f-43d6-b1a1-1781a0ccd689"
    },
    {
      "cell_type": "code",
      "execution_count": 107,
      "metadata": {},
      "outputs": [],
      "source": [
        "x=tf.constant(2.0)\n",
        "\n",
        "with tf.GradientTape(persistent=True) as mytape:\n",
        "    a=(x/2)*3 ## a=(3/2)x\n",
        "    y=a*x**2  ## y=ax^2 = (3/2)x^3\n"
      ],
      "id": "29180221-c327-4078-b179-247bf3dd5f65"
    },
    {
      "cell_type": "code",
      "execution_count": 108,
      "metadata": {
        "outputId": "f45dc3d5-5266-4f0e-c27d-38c08b89eda5"
      },
      "outputs": [
        {
          "output_type": "stream",
          "name": "stdout",
          "text": [
            "None"
          ]
        }
      ],
      "source": [
        "print(mytape.gradient(y,x))"
      ],
      "id": "074fd987-c7f8-4a93-9c73-4368580266ff"
    },
    {
      "cell_type": "markdown",
      "metadata": {},
      "source": [
        "(관찰2)"
      ],
      "id": "06c17d5a-f0ed-49bc-83b1-73282005b997"
    },
    {
      "cell_type": "code",
      "execution_count": 109,
      "metadata": {},
      "outputs": [],
      "source": [
        "x=tf.constant(2.0)\n",
        "with tf.GradientTape(persistent=True) as mytape:\n",
        "    mytape.watch(x) # 수동감시\n",
        "    a=(x/2)*3 ## a=(3/2)x\n",
        "    y=a*x**2  ## y=ax^2 = (3/2)x^3"
      ],
      "id": "3799907c-d1e4-483c-a3ff-a78c6b64820e"
    },
    {
      "cell_type": "code",
      "execution_count": 110,
      "metadata": {
        "outputId": "c7c4813d-1a2e-4922-dd97-ade40067db3f"
      },
      "outputs": [
        {
          "output_type": "stream",
          "name": "stdout",
          "text": [
            "tf.Tensor(18.0, shape=(), dtype=float32)"
          ]
        }
      ],
      "source": [
        "print(mytape.gradient(y,x))"
      ],
      "id": "db03953b-0287-425b-ba89-28367604dc82"
    },
    {
      "cell_type": "markdown",
      "metadata": {},
      "source": [
        "(관찰3)"
      ],
      "id": "c4dbb30c-ca83-4a12-ab0a-6389d4e98501"
    },
    {
      "cell_type": "code",
      "execution_count": 111,
      "metadata": {},
      "outputs": [],
      "source": [
        "x=tf.Variable(2.0)\n",
        "with tf.GradientTape(persistent=True,watch_accessed_variables=False) as mytape: # 자동감시 모드 해제\n",
        "    a=(x/2)*3 ## a=(3/2)x\n",
        "    y=a*x**2  ## y=ax^2 = (3/2)x^3"
      ],
      "id": "78ca0753-d0c5-4bab-b363-6eab86d5c0cd"
    },
    {
      "cell_type": "code",
      "execution_count": 112,
      "metadata": {
        "outputId": "a64fc9a0-8bee-40a0-b026-b96f2c2b7e99"
      },
      "outputs": [
        {
          "output_type": "stream",
          "name": "stdout",
          "text": [
            "None"
          ]
        }
      ],
      "source": [
        "print(mytape.gradient(y,x))"
      ],
      "id": "9bd9d748-89bc-4e32-b74e-10dad89fbd2b"
    },
    {
      "cell_type": "markdown",
      "metadata": {},
      "source": [
        "(관찰4)"
      ],
      "id": "4ca00e42-8266-4754-b090-e09aaf242fbc"
    },
    {
      "cell_type": "code",
      "execution_count": 113,
      "metadata": {},
      "outputs": [],
      "source": [
        "x=tf.Variable(2.0)\n",
        "with tf.GradientTape(persistent=True,watch_accessed_variables=False) as mytape: # 자동감시 모드 해제\n",
        "    mytape.watch(x)\n",
        "    a=(x/2)*3 ## a=(3/2)x\n",
        "    y=a*x**2  ## y=ax^2 = (3/2)x^3"
      ],
      "id": "e28bf2bc-379b-4f89-9b5c-feb7365cc3b9"
    },
    {
      "cell_type": "code",
      "execution_count": 114,
      "metadata": {
        "outputId": "c3545f3c-acec-4548-932e-563ecb64dee7"
      },
      "outputs": [
        {
          "output_type": "stream",
          "name": "stdout",
          "text": [
            "tf.Tensor(18.0, shape=(), dtype=float32)"
          ]
        }
      ],
      "source": [
        "print(mytape.gradient(y,x))"
      ],
      "id": "c96a70ae-6308-4f40-a8d5-e611637673c5"
    },
    {
      "cell_type": "markdown",
      "metadata": {},
      "source": [
        "(관찰5)"
      ],
      "id": "69ba40f5-6828-4ac2-a6ad-e32ca161b714"
    },
    {
      "cell_type": "code",
      "execution_count": 115,
      "metadata": {},
      "outputs": [],
      "source": [
        "x=tf.Variable(2.0)\n",
        "with tf.GradientTape(persistent=True) as mytape:\n",
        "    mytape.watch(x)\n",
        "    a=(x/2)*3 ## a=(3/2)x\n",
        "    y=a*x**2  ## y=ax^2 = (3/2)x^3"
      ],
      "id": "7e90a375-2089-42e5-b287-c44a8bca720a"
    },
    {
      "cell_type": "code",
      "execution_count": 116,
      "metadata": {
        "outputId": "4244c15f-78b6-4142-f73b-a317395a5429"
      },
      "outputs": [
        {
          "output_type": "stream",
          "name": "stdout",
          "text": [
            "tf.Tensor(18.0, shape=(), dtype=float32)"
          ]
        }
      ],
      "source": [
        "print(mytape.gradient(y,x))"
      ],
      "id": "223ac695-df6f-4365-8f08-169eb83ddd22"
    },
    {
      "cell_type": "markdown",
      "metadata": {},
      "source": [
        "-   자동감시모드를 해제한다고 말한적이 없고, 감시를 하라고 하면 걍..\n",
        "\n",
        "`-` 예제9: 카페예제로 돌아오자.\n",
        "\n",
        "`-` 예제10: 카페예제의 매트릭스 버전\n",
        "\n",
        "`-` 예제11: 위의 예제에서 이론적인 $\\boldsymbol{\\beta}$의 최적값을\n",
        "찾아보고 (즉 $\\hat{\\boldsymbol{\\beta}}$을 찾고) 그곳에서 loss의 미분을\n",
        "구하라. 구한결과가 $\\begin{bmatrix}0 \\\\ 0 \\end{bmatrix}$ 임을 확인하라."
      ],
      "id": "60799b65-91f9-43fe-aa83-5a89a227483f"
    }
  ],
  "nbformat": 4,
  "nbformat_minor": 5,
  "metadata": {
    "colab": {
      "provenance": []
    },
    "kernelspec": {
      "name": "python3",
      "display_name": "Python 3 (ipykernel)",
      "language": "python"
    },
    "language_info": {
      "name": "python",
      "codemirror_mode": {
        "name": "ipython",
        "version": "3"
      },
      "file_extension": ".py",
      "mimetype": "text/x-python",
      "nbconvert_exporter": "python",
      "pygments_lexer": "ipython3",
      "version": "3.8.16"
    }
  }
}