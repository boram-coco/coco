{
  "cells": [
    {
      "cell_type": "markdown",
      "metadata": {},
      "source": [
        "# \\[STBDA\\] 04wk: tensorflow_경사하강법\n",
        "\n",
        "김보람  \n",
        "2023-06-19\n",
        "\n",
        "> 해당 강의노트는 전북대학교 최규빈교수님\n",
        "> [STBDA2022](https://guebin.github.io/STBDA2022/) 자료임\n",
        "\n",
        "### imports"
      ],
      "id": "abbc3767-69c3-46df-ac72-2d74533cbcf8"
    },
    {
      "cell_type": "code",
      "execution_count": 1,
      "metadata": {},
      "outputs": [
        {
          "output_type": "stream",
          "name": "stderr",
          "text": [
            "2023-06-19 15:29:42.043174: I tensorflow/core/platform/cpu_feature_guard.cc:193] This TensorFlow binary is optimized with oneAPI Deep Neural Network Library (oneDNN) to use the following CPU instructions in performance-critical operations:  AVX2 FMA\n",
            "To enable them in other operations, rebuild TensorFlow with the appropriate compiler flags."
          ]
        }
      ],
      "source": [
        "import tensorflow as tf\n",
        "import numpy as np\n",
        "import matplotlib.pyplot as plt"
      ],
      "id": "05b74a23-b10e-46ad-ad82-59f8711c6f14"
    },
    {
      "cell_type": "code",
      "execution_count": 2,
      "metadata": {},
      "outputs": [],
      "source": [
        "import tensorflow.experimental.numpy as tnp"
      ],
      "id": "5486130e-62ce-4df8-84d0-a1da7472589a"
    },
    {
      "cell_type": "code",
      "execution_count": 3,
      "metadata": {},
      "outputs": [],
      "source": [
        "tnp.experimental_enable_numpy_behavior()"
      ],
      "id": "3719560d-2cf6-4462-bc8c-8da753f52312"
    },
    {
      "cell_type": "markdown",
      "metadata": {},
      "source": [
        "### 미분\n",
        "\n",
        "#### tf.GradientTape() 사용방법\n",
        "\n",
        "`-` 예제9: 카페예제로 돌아오자."
      ],
      "id": "97d8a76a-f4d0-4016-a62f-dc1b007b49da"
    },
    {
      "cell_type": "code",
      "execution_count": 4,
      "metadata": {
        "outputId": "8041164f-88d5-449b-81c0-778413b06909"
      },
      "outputs": [],
      "source": [
        "x= tnp.array([20.1, 22.2, 22.7, 23.3, 24.4, 25.1, 26.2, 27.3, 28.4, 30.4])"
      ],
      "id": "69518cb3-15d9-47aa-9fd0-aeea0569ee3a"
    },
    {
      "cell_type": "code",
      "execution_count": 5,
      "metadata": {},
      "outputs": [],
      "source": [
        "tf.random.set_seed(43052)\n",
        "epsilon=tf.random.normal([10])\n",
        "y=10.2 + 2.2*x + epsilon"
      ],
      "id": "e9ecdf4f-49dd-4051-9081-1d6aa5853eb6"
    },
    {
      "cell_type": "code",
      "execution_count": 6,
      "metadata": {
        "outputId": "16ca31ad-9f4c-437e-bd9b-a9c744d12d18"
      },
      "outputs": [],
      "source": [
        "y"
      ],
      "id": "2c592ae2-9f1c-494d-b6ac-cc2ccf6e9fe2"
    },
    {
      "cell_type": "code",
      "execution_count": 7,
      "metadata": {},
      "outputs": [],
      "source": [
        "beta0 = tf.Variable(9.0)\n",
        "beta1 = tf.Variable(2.0)"
      ],
      "id": "ac202812-c858-4de0-84e8-0e2a19e137e0"
    },
    {
      "cell_type": "code",
      "execution_count": 8,
      "metadata": {},
      "outputs": [],
      "source": [
        "with tf.GradientTape(persistent=True) as tape:\n",
        "    loss = sum((y-beta0-beta1*x)**2)"
      ],
      "id": "dd8f1f17-494e-47df-b32f-958f7ec070fd"
    },
    {
      "cell_type": "code",
      "execution_count": 11,
      "metadata": {
        "outputId": "9122478b-f8b8-45a5-cf6c-2a738cdba9f4"
      },
      "outputs": [],
      "source": [
        "tape.gradient(loss,beta0)"
      ],
      "id": "bb476516-7824-4aac-9fcd-1022e8e58e6a"
    },
    {
      "cell_type": "code",
      "execution_count": 10,
      "metadata": {},
      "outputs": [],
      "source": [
        "tape.gradient(loss,beta1)"
      ],
      "id": "5bb6d886-8c5e-4a14-9b15-e83ef3a5e779"
    },
    {
      "cell_type": "markdown",
      "metadata": {},
      "source": [
        "`-` 예제10: 카페예제의 매트릭스 버전"
      ],
      "id": "5f0b72c6-252e-477b-aea6-4b39a9218f88"
    },
    {
      "cell_type": "code",
      "execution_count": 12,
      "metadata": {
        "outputId": "d897a237-b7b4-43cc-b6a9-3bc9d09b7d9e"
      },
      "outputs": [],
      "source": [
        "X= tnp.array([1]*10 +[20.1, 22.2, 22.7, 23.3, 24.4, 25.1, 26.2, 27.3, 28.4, 30.4]).reshape(2,10).T\n",
        "X"
      ],
      "id": "48af28cf-a29c-4b68-ba5c-db4ba7aa2c7c"
    },
    {
      "cell_type": "code",
      "execution_count": 13,
      "metadata": {
        "outputId": "2b007d92-3e20-4da2-f6ab-f52aeffb280a"
      },
      "outputs": [],
      "source": [
        "beta= tnp.array([9.0,2.0]).reshape(2,1)\n",
        "beta"
      ],
      "id": "6dec20e1-6f76-42f1-a7b1-abb4383a9738"
    },
    {
      "cell_type": "code",
      "execution_count": 14,
      "metadata": {
        "outputId": "73ee7ada-c1e3-44fe-f651-0728df0b6c05"
      },
      "outputs": [],
      "source": [
        "X@beta"
      ],
      "id": "4173addc-2cc1-49c9-ade0-f54c3f6add74"
    },
    {
      "cell_type": "code",
      "execution_count": 15,
      "metadata": {
        "outputId": "cb65975f-e18b-4f17-d792-c37f1373d676"
      },
      "outputs": [],
      "source": [
        "beta_true= tnp.array([10.2,2.2]).reshape(2,1)\n",
        "y= X@beta_true+epsilon.reshape(10,1)\n",
        "y"
      ],
      "id": "a3a71fd7-e711-46ca-9f3e-e8ebc4f5a572"
    },
    {
      "cell_type": "code",
      "execution_count": 16,
      "metadata": {},
      "outputs": [],
      "source": [
        "with tf.GradientTape(persistent=True) as tape:\n",
        "    tape.watch(beta)\n",
        "    yhat= X@beta\n",
        "    loss= (y-yhat).T @(y-yhat)"
      ],
      "id": "3f667008-96ca-43d0-b31a-20960ffa3b07"
    },
    {
      "cell_type": "code",
      "execution_count": 17,
      "metadata": {
        "outputId": "fbf88e3e-eb61-4ff7-d28c-48f9203a67b8"
      },
      "outputs": [],
      "source": [
        "tape.gradient(loss,beta)"
      ],
      "id": "845d77d9-6245-4cd4-9b09-aa0cf8d8adc7"
    },
    {
      "cell_type": "markdown",
      "metadata": {},
      "source": [
        "`-` 이론적인 값을 확인하면\n",
        "\n",
        "loss = (y-Xb)’(y-Xb) = -2X’y + 2X’Xb"
      ],
      "id": "1c783c0c-9093-4377-ab8f-4efc2aa7640e"
    },
    {
      "cell_type": "code",
      "execution_count": 18,
      "metadata": {
        "outputId": "177cc590-5146-451e-9173-ec673e8235b7"
      },
      "outputs": [],
      "source": [
        "-2*X.T @ y + 2*X.T@X@beta"
      ],
      "id": "2f1ddcd9-c58d-4ecb-b624-2d1fca7f1f72"
    },
    {
      "cell_type": "markdown",
      "metadata": {},
      "source": [
        "`-` 예제11: 위의 예제에서 이론적인 $\\boldsymbol{\\beta}$의 최적값을\n",
        "찾아보고 (즉 $\\boldsymbol{\\hat\\beta}$을 찾고) 그 지점에서 loss의\n",
        "미분값(=접선의 기울기)를 구하라. 결과가 $\\bf{0}$인지 확인하라. (단\n",
        "${\\bf 0}$은 길이가 2이고 각 원소가 0인 벡터)\n",
        "\n",
        "$\\beta$의 최적값은 $(X'X)^{-1}X'y$이다."
      ],
      "id": "4fa3582b-0cc9-4b97-8107-e6850d33f75e"
    },
    {
      "cell_type": "code",
      "execution_count": 19,
      "metadata": {},
      "outputs": [],
      "source": [
        "beta_optimal = tf.linalg.inv(X.T @ X) @ X.T  @y"
      ],
      "id": "b537135b-884d-40b0-af66-b1043cdce8dc"
    },
    {
      "cell_type": "code",
      "execution_count": 20,
      "metadata": {},
      "outputs": [],
      "source": [
        "with tf.GradientTape(persistent=True) as tape:\n",
        "    tape.watch(beta_optimal)\n",
        "    yhat= X@beta_optimal\n",
        "    loss= (y-yhat).T @(y-yhat)"
      ],
      "id": "67008c03-c6c4-4202-a642-42d2701e3770"
    },
    {
      "cell_type": "code",
      "execution_count": 21,
      "metadata": {
        "outputId": "e8690626-ae5b-40dd-e2e1-5f14f9876555"
      },
      "outputs": [],
      "source": [
        "tape.gradient(loss,beta_optimal)"
      ],
      "id": "d7478cc4-a016-470b-b0b0-9744b22c0529"
    },
    {
      "cell_type": "markdown",
      "metadata": {},
      "source": [
        "`-` beta_true에서의 기울기도 계산해보자."
      ],
      "id": "aad91be9-5cc2-40a3-8acd-e8812f0a067c"
    },
    {
      "cell_type": "code",
      "execution_count": 22,
      "metadata": {},
      "outputs": [],
      "source": [
        "with tf.GradientTape(persistent=True) as tape:\n",
        "    tape.watch(beta_true)\n",
        "    yhat= X@beta_true\n",
        "    loss= (y-yhat).T @(y-yhat)"
      ],
      "id": "5ca7ab62-07ba-4cb8-b728-1ad5627bfe15"
    },
    {
      "cell_type": "code",
      "execution_count": 23,
      "metadata": {
        "outputId": "a6dbf288-8415-48c3-ebcb-572491ff513f"
      },
      "outputs": [],
      "source": [
        "tape.gradient(loss,beta_true)"
      ],
      "id": "37c87619-6c70-44a7-9fef-c7fa8cde7dc5"
    },
    {
      "cell_type": "markdown",
      "metadata": {},
      "source": [
        "-   샘플사이즈가 커진다면 `tape.gradient(loss,beta_true)` $\\approx$\n",
        "    `tape.gradient(loss,beta_optimal)`\n",
        "-   샘플사이즈가 커진다면 `beta_true` $\\approx$ `beta_optimal`\n",
        "\n",
        "## 경사하강법\n",
        "\n",
        "### 최적화문제\n",
        "\n",
        "`-` $loss=(\\frac{1}{2}\\beta-1)^2$를 최소하는 $\\beta$를 컴퓨터를 활용하여\n",
        "구하는 문제를 생각해보자. - 답은 $\\beta=2$임을 알고 있다.\n",
        "\n",
        "### 방법1: grid search\n",
        "\n",
        "#### 알고리즘\n",
        "\n",
        "1.  beta = \\[-10.00,-9.99,…,10.00\\] 와 같은 리스트를 만든다.\n",
        "\n",
        "2.  (1)의 리스트의 각원소에 해당하는 loss를 구한다.\n",
        "\n",
        "3.  (2)에서 구한 loss를 제일 작게 만드는 beta를 찾는다.\n",
        "\n",
        "#### 구현코드"
      ],
      "id": "80efbfb8-01a4-45a7-8c61-1c030fa35894"
    },
    {
      "cell_type": "code",
      "execution_count": 24,
      "metadata": {},
      "outputs": [],
      "source": [
        "beta = np.linspace(-10,10,100)\n",
        "loss = (beta/2 -1)**2"
      ],
      "id": "cb870413-cb89-493c-8694-855af907e345"
    },
    {
      "cell_type": "code",
      "execution_count": 25,
      "metadata": {
        "outputId": "d538ce05-f5ef-476d-927b-23a9f5103f6c"
      },
      "outputs": [],
      "source": [
        "tnp.argmin([1,2,-3,3,4])"
      ],
      "id": "a7374a43-0c69-4483-a1e1-18cba86fafb4"
    },
    {
      "cell_type": "markdown",
      "metadata": {},
      "source": [
        "-   제일 작은 원소의 숫자?(번째)를 리턴해줌. -3이 제일 작으니까 0,1,“2”"
      ],
      "id": "bb5d7eba-a8a6-40e3-8ab5-ef47600a0c48"
    },
    {
      "cell_type": "code",
      "execution_count": 26,
      "metadata": {
        "outputId": "abe099a1-203f-4b9c-dd59-467944a0b08e"
      },
      "outputs": [],
      "source": [
        "tnp.argmin([1,2,3,-3,4])"
      ],
      "id": "60e97bc7-9811-41ad-b793-d85523177309"
    },
    {
      "cell_type": "code",
      "execution_count": 27,
      "metadata": {
        "outputId": "3a44c6d7-3ddb-4437-ded0-13271849af1b"
      },
      "outputs": [],
      "source": [
        "tnp.argmin(loss)"
      ],
      "id": "75cdc6d3-ce5d-42e4-bbe9-24c88e789d12"
    },
    {
      "cell_type": "code",
      "execution_count": 28,
      "metadata": {
        "outputId": "979f17ca-2bed-4476-94e8-c07a50f35b44"
      },
      "outputs": [],
      "source": [
        "beta[59]"
      ],
      "id": "55167e91-bf4c-4bce-bbef-821bc4e46f13"
    },
    {
      "cell_type": "code",
      "execution_count": 29,
      "metadata": {},
      "outputs": [],
      "source": [
        "beta[60]"
      ],
      "id": "7f11eb37-a878-4e1d-86df-10395bec04b8"
    },
    {
      "cell_type": "code",
      "execution_count": 30,
      "metadata": {},
      "outputs": [],
      "source": [
        "(beta[59]/2-1)**2"
      ],
      "id": "f7f09dc1-114b-4c91-89ed-73e68302d97a"
    },
    {
      "cell_type": "code",
      "execution_count": 31,
      "metadata": {},
      "outputs": [],
      "source": [
        "(beta[60]/2-1)**2"
      ],
      "id": "a25dfa9f-b045-4f6e-8613-7a72a4fc2f13"
    },
    {
      "cell_type": "markdown",
      "metadata": {},
      "source": [
        "#### 그리드서치의 문제점\n",
        "\n",
        "`-` 비판1: \\[-10,10\\]이외에 해가 존재하면? - 이 예제의 경우는 운좋게\n",
        "\\[-10,10\\]에서 해가 존재했음 - 하지만 임의의 고정된 $x,y$에 대하여\n",
        "$loss(\\beta)=(x\\beta-y)^2$ 의 형태의 해가 항상 \\[-10,10\\]에서 존재한다는\n",
        "보장은 없음 - 해결책: 더 넓게 많은 범위를 탐색하자?\n",
        "\n",
        "`-` 비판2: 효율적이지 않음 - 알고리즘을 요약하면 결국 -10부터 10까지\n",
        "작은 간격으로 조금씩 이동하며 loss를 조사하는 것이 grid search의\n",
        "아이디어 - $\\to$ 생각해보니까 $\\beta=2$인 순간\n",
        "$loss=(\\frac{1}{2}\\beta-1)^2=0$이 되어서 이것보다 작은 최소값은 존재하지\n",
        "않는다(제곱은 항상 양수이어야 하므로) - $\\to$ 따라서 $\\beta=2$ 이후로는\n",
        "탐색할 필요가 없다\n",
        "\n",
        "### 방법2: gradient descent\n",
        "\n",
        "#### 알고리즘!\n",
        "\n",
        "1.  beta = -5 로 셋팅한다."
      ],
      "id": "9d6ec3ff-1a79-4be3-adf8-567aaefde863"
    },
    {
      "cell_type": "code",
      "execution_count": 32,
      "metadata": {
        "outputId": "4eae1244-be1f-4ea7-d339-f3c23eb52da9"
      },
      "outputs": [],
      "source": [
        "(-5/2-1)**2"
      ],
      "id": "29a4976c-b9cc-426a-9ca9-96c74c1b4008"
    },
    {
      "cell_type": "markdown",
      "metadata": {},
      "source": [
        "1.  beta=-5 근처에서 조금씩 이동하여 loss를 조사해본다."
      ],
      "id": "0e107239-9e13-4a41-8eb9-e82ea5fc2b9b"
    },
    {
      "cell_type": "code",
      "execution_count": 33,
      "metadata": {
        "outputId": "1e8e8db8-2c54-43c3-bba7-d10780de6ac1"
      },
      "outputs": [],
      "source": [
        "(-4.99/2-1)**2 ## 오른쪽으로 0.01 이동하고 loss조사"
      ],
      "id": "6195f842-8f87-45ff-bbf9-e6422a103674"
    },
    {
      "cell_type": "code",
      "execution_count": 35,
      "metadata": {
        "outputId": "d53edcd2-815f-4931-986a-baa608022d22"
      },
      "outputs": [],
      "source": [
        "(-5.01/2-1)**2 ## 왼쪽으로 0.01 이동하고 loss조사"
      ],
      "id": "a20314b8-c793-4c12-a9bd-f423c67e5062"
    },
    {
      "cell_type": "markdown",
      "metadata": {},
      "source": [
        "1.  (2)의 결과를 잘 해석하고 더 유리한 쪽으로 이동\n",
        "\n",
        "2.  위의 과정을 반복하고 왼쪽, 오른쪽 어느쪽으로 움직여도 이득이 없다면\n",
        "    멈춘다.\n",
        "\n",
        "#### 알고리즘 분석\n",
        "\n",
        "`-` (2)-(3)의 과정은\n",
        "`beta=-5 에서 미분계수를 구하고 미분계수가 양수이면 왼쪽으로 움직이고 음수이면 오른쪽으로 움직인다`고\n",
        "해석가능. 아래그림을 보면 더 잘 이해가 된다."
      ],
      "id": "d9952ec6-471b-4462-8013-ab5f00465bca"
    },
    {
      "cell_type": "code",
      "execution_count": 36,
      "metadata": {
        "outputId": "1f67a4b9-a704-4b38-8aca-c326d4580a9a"
      },
      "outputs": [
        {
          "output_type": "display_data",
          "metadata": {},
          "data": {
            "image/png": "[encoded data removed]"
          }
        }
      ],
      "source": [
        "plt.plot(beta,loss)"
      ],
      "id": "8f551c84-150d-4ba4-a016-bdb643d35653"
    },
    {
      "cell_type": "markdown",
      "metadata": {},
      "source": [
        "#### 왼쪽/오른쪽중에 어디로 갈지 어떻게 판단하는 과정을 수식화?\n",
        "\n",
        "`-` 아래와 같이 해석가능\n",
        "\n",
        "-   오른쪽으로 0.01 간다 = beta_old에 0.01을 더함. (if, 미분계수가 음수)\n",
        "-   왼쪽으로 0.01 간다. = beta_old에 0.01을 뺀다. (if, 미분계수가 양수)\n",
        "\n",
        "`-` 그렇다면 \\$\\_{new} ="
      ],
      "id": "f5d6df79-44b1-404a-a084-33b9876b73ee"
    },
    {
      "cell_type": "raw",
      "metadata": {
        "raw_mimetype": "tex"
      },
      "source": [
        "\\begin{cases}\n",
        "\\beta_{old} + 0.01, & loss'(\\beta_{old})< 0  \\\\\n",
        "\\beta_{old} - 0.01, & loss'(\\beta_{old})> 0\n",
        "\\end{cases}"
      ],
      "id": "f1a3ac8f-bf1f-4b24-9046-8a274af53c89"
    },
    {
      "cell_type": "markdown",
      "metadata": {},
      "source": [
        "\\$\n",
        "\n",
        "#### 혹시 알고리즘을 좀 개선할수 있을까?\n",
        "\n",
        "`-` 항상 0.01씩 움직여야 하는가?"
      ],
      "id": "09d1fb41-cdc0-4f37-8fd5-f2e558484d5c"
    },
    {
      "cell_type": "code",
      "execution_count": 37,
      "metadata": {
        "outputId": "6ba29e3c-3ea6-4ac6-e39b-9f392c12bf1b"
      },
      "outputs": [
        {
          "output_type": "display_data",
          "metadata": {},
          "data": {
            "image/png": "[encoded data removed]"
          }
        }
      ],
      "source": [
        "plt.plot(beta,loss)"
      ],
      "id": "e7ba5b5e-277e-444b-a6ef-9e5f8a1cd8b5"
    },
    {
      "cell_type": "markdown",
      "metadata": {},
      "source": [
        "`-` $\\beta=-10$ 일 경우의 접선의 기울기? $\\beta=-4$ 일때 접선의 기울기?\n",
        "\n",
        "-   $\\beta=-10$ =\\> 기울기는 -6\n",
        "-   $\\beta=-4$ =\\> 기울기는 -3\n",
        "\n",
        "`-` 실제로 6,3씩 이동할순 없으니 적당한 $\\alpha$ (예를들면\n",
        "$\\alpha=0.01$) 를 잡아서 곱한만큼 이동하자.\n",
        "\n",
        "`-` 수식화하면\n",
        "\n",
        "-   $\\beta_{new} = \\beta_{old} - \\alpha~ loss'(\\beta_{old})$\n",
        "-   $\\beta_{new} = \\beta_{old} - \\alpha~ \\left[\\frac{\\partial}{\\partial \\beta }loss(\\beta)\\right]_{\\beta=\\beta_{old}}$\n",
        "\n",
        "`-` $\\alpha$의 의미 - $\\alpha$가 크면 크게크게 움직이고 작으면 작게작게\n",
        "움직인다. - $\\alpha>0$ 이어야 한다.\n",
        "\n",
        "#### 구현코드\n",
        "\n",
        "`-` **iter 1**\n",
        "\n",
        "$\\beta=-10$이라고 하자."
      ],
      "id": "a9692b4e-ff94-4c84-9a5c-055e51ddd615"
    },
    {
      "cell_type": "code",
      "execution_count": 41,
      "metadata": {},
      "outputs": [],
      "source": [
        "beta = tf.Variable(-10.0)"
      ],
      "id": "fa5a5ca7-66a2-4e33-a03d-5f449a1731fb"
    },
    {
      "cell_type": "code",
      "execution_count": 44,
      "metadata": {},
      "outputs": [],
      "source": [
        "with tf.GradientTape(persistent=True) as tape:\n",
        "    loss = (beta/2-1)**2"
      ],
      "id": "965ff2bb-ef01-4345-a534-d2018514a50c"
    },
    {
      "cell_type": "code",
      "execution_count": 45,
      "metadata": {
        "outputId": "f2426ec1-1ff5-40bb-dbad-4cc4a3f02e4b"
      },
      "outputs": [],
      "source": [
        "tape.gradient(loss,beta)"
      ],
      "id": "d8ebd6b2-5b0f-4aef-a3ce-08eef111cd56"
    },
    {
      "cell_type": "markdown",
      "metadata": {},
      "source": [
        "$\\beta = -10$ 에서 0.01만큼 움직이고 싶음"
      ],
      "id": "029a3dad-d233-4cc4-b9e0-3e7121565ed5"
    },
    {
      "cell_type": "code",
      "execution_count": 46,
      "metadata": {},
      "outputs": [],
      "source": [
        "alpha= 0.01/6"
      ],
      "id": "3ffc5d1d-f1e6-4901-938a-c6631ea0fb98"
    },
    {
      "cell_type": "code",
      "execution_count": 47,
      "metadata": {
        "outputId": "630c524d-691b-4689-a90b-0b93f5abdfde"
      },
      "outputs": [],
      "source": [
        "alpha * tape.gradient(loss,beta)"
      ],
      "id": "a361edbd-56a9-4f4e-b5a2-701011f8c7a7"
    },
    {
      "cell_type": "code",
      "execution_count": 48,
      "metadata": {
        "outputId": "d0dc12ad-c254-420d-a936-8ccdf6d3743a"
      },
      "outputs": [],
      "source": [
        "beta.assign_sub(alpha * tape.gradient(loss,beta))"
      ],
      "id": "422e7355-8350-498b-8720-9d76d41d9e12"
    },
    {
      "cell_type": "code",
      "execution_count": 49,
      "metadata": {
        "outputId": "530cfdf2-3d03-4ff7-d14b-be25d511d8fe"
      },
      "outputs": [],
      "source": [
        "beta"
      ],
      "id": "0733faa1-bbb7-406c-a676-d4fd61b94215"
    },
    {
      "cell_type": "markdown",
      "metadata": {},
      "source": [
        "`-` **iter2**"
      ],
      "id": "19f14c89-0a95-41de-b4ea-7abb102cb506"
    },
    {
      "cell_type": "code",
      "execution_count": 50,
      "metadata": {},
      "outputs": [],
      "source": [
        "with tf.GradientTape(persistent=True) as tape:\n",
        "    loss = (beta/2-1)**2"
      ],
      "id": "62711499-8636-40ca-bf9f-e6006a369e51"
    },
    {
      "cell_type": "code",
      "execution_count": 51,
      "metadata": {
        "outputId": "8a5708b4-5ee8-43f3-ab4d-63fa01792c41"
      },
      "outputs": [],
      "source": [
        "beta.assign_sub(tape.gradient(loss,beta)*alpha)"
      ],
      "id": "a867351c-c39e-4f8c-a23b-96a8e8db771b"
    },
    {
      "cell_type": "markdown",
      "metadata": {},
      "source": [
        "`-` for 문을 이용하자.\n",
        "\n",
        "(강의용)"
      ],
      "id": "b7c25deb-65df-45aa-b74d-14fe3cc873ca"
    },
    {
      "cell_type": "code",
      "execution_count": 52,
      "metadata": {},
      "outputs": [],
      "source": [
        "beta = tf.Variable(-10.0)"
      ],
      "id": "c8c3467b-8356-4dee-828b-876d8508abf6"
    },
    {
      "cell_type": "code",
      "execution_count": 53,
      "metadata": {},
      "outputs": [],
      "source": [
        "for k in range(10000):\n",
        "    with tf.GradientTape(persistent=True) as tape:\n",
        "        loss = (beta/2-1)**2\n",
        "    beta.assign_sub(tape.gradient(loss,beta)*alpha)"
      ],
      "id": "23cffeba-30e8-48de-b2f4-6735d5fd0b17"
    },
    {
      "cell_type": "code",
      "execution_count": 54,
      "metadata": {
        "outputId": "a557323d-de00-4adc-e027-6971687465d4"
      },
      "outputs": [],
      "source": [
        "beta"
      ],
      "id": "a144a26b-29de-41d0-a127-54638ef6ea0f"
    },
    {
      "cell_type": "markdown",
      "metadata": {},
      "source": [
        "(시도1)"
      ],
      "id": "85299caa-ac27-4ab1-ba55-d5149780d05c"
    },
    {
      "cell_type": "code",
      "execution_count": 55,
      "metadata": {},
      "outputs": [],
      "source": [
        "beta = tf.Variable(-10.0)"
      ],
      "id": "aca836e0-05eb-44ef-8075-066727163930"
    },
    {
      "cell_type": "code",
      "execution_count": 56,
      "metadata": {},
      "outputs": [],
      "source": [
        "for k in range(100):\n",
        "    with tf.GradientTape(persistent=True) as tape:\n",
        "        loss = (beta/2-1)**2\n",
        "    beta.assign_sub(tape.gradient(loss,beta)*alpha)"
      ],
      "id": "643dc9f0-a28c-4bfe-a753-f0ceb6bae651"
    },
    {
      "cell_type": "code",
      "execution_count": 57,
      "metadata": {
        "outputId": "7c1592cf-52ce-44ee-9ae4-d3b2dc10d345"
      },
      "outputs": [],
      "source": [
        "beta"
      ],
      "id": "8d78bec1-03dc-4daa-868d-b01bd4f69939"
    },
    {
      "cell_type": "markdown",
      "metadata": {},
      "source": [
        "(시도2)"
      ],
      "id": "d77a7059-e744-491a-be1d-6daa4c0bfb1b"
    },
    {
      "cell_type": "code",
      "execution_count": 58,
      "metadata": {},
      "outputs": [],
      "source": [
        "beta = tf.Variable(-10.0)"
      ],
      "id": "67ad9330-839d-4459-8b92-3dc0a3b405cb"
    },
    {
      "cell_type": "code",
      "execution_count": 59,
      "metadata": {},
      "outputs": [],
      "source": [
        "for k in range(1000):\n",
        "    with tf.GradientTape(persistent=True) as tape:\n",
        "        loss = (beta/2-1)**2\n",
        "    beta.assign_sub(tape.gradient(loss,beta)*alpha)"
      ],
      "id": "58838059-bb85-427b-b96a-bc73dae9d782"
    },
    {
      "cell_type": "code",
      "execution_count": 60,
      "metadata": {
        "outputId": "cb8b8911-a71d-438c-ecdc-928d2941c189"
      },
      "outputs": [],
      "source": [
        "beta"
      ],
      "id": "52c70f85-7695-4cfd-80a5-3a5846c17d8f"
    },
    {
      "cell_type": "markdown",
      "metadata": {},
      "source": [
        "`-` 너무 느린 것 같다? $\\to$ $\\alpha$를 키워보자!\n",
        "\n",
        "#### 학습률\n",
        "\n",
        "`-` 목표: $\\alpha$에 따라서 수렴과정이 어떻게 달라지는 시각화해보자.\n",
        "\n",
        "##### \\[시각화 코드 예비학습\\]"
      ],
      "id": "2720fdc3-72b2-4f83-b60d-02fa44711b3c"
    },
    {
      "cell_type": "code",
      "execution_count": 61,
      "metadata": {
        "outputId": "87da4804-d56a-4b3b-faa5-e8703fbab226"
      },
      "outputs": [],
      "source": [
        "fig = plt.figure() # 도화지가 만들어지고 fig라는 이름을 붙인다."
      ],
      "id": "7a678fda-1dad-4157-9020-3d09f7ee6a22"
    },
    {
      "cell_type": "code",
      "execution_count": 62,
      "metadata": {},
      "outputs": [],
      "source": [
        "ax = fig.add_subplot() # fig는 ax라는 물체를 만든다."
      ],
      "id": "11c2aad9-3365-46c5-b1a3-ea1ef9e9234a"
    },
    {
      "cell_type": "code",
      "execution_count": 63,
      "metadata": {
        "outputId": "859096be-936a-4451-f68b-4d85b07330bc"
      },
      "outputs": [],
      "source": [
        "id(fig.axes[0])"
      ],
      "id": "701ca296-cdb3-403a-b648-c48b2d899f85"
    },
    {
      "cell_type": "code",
      "execution_count": 64,
      "metadata": {
        "outputId": "3e94e8c9-7180-4720-d60c-6de95c5d7327"
      },
      "outputs": [],
      "source": [
        "id(ax)"
      ],
      "id": "5883f648-5974-4f86-8a40-ea85a779e80b"
    },
    {
      "cell_type": "code",
      "execution_count": 65,
      "metadata": {
        "outputId": "0e71b7d8-c550-4890-fe4c-fa0c91dc1077"
      },
      "outputs": [],
      "source": [
        "pnts, = ax.plot([1,2,3],[4,5,6],'or')\n",
        "pnts"
      ],
      "id": "ea0cfe90-317c-44d4-9367-9809bc1e565a"
    },
    {
      "cell_type": "markdown",
      "metadata": {},
      "source": [
        "-   pnts뒤에 ‘콤마’ 붙임-\\> 튜플"
      ],
      "id": "5f929a59-882d-485e-953a-6be0f7218b37"
    },
    {
      "cell_type": "code",
      "execution_count": 66,
      "metadata": {
        "outputId": "f9443f68-1a2d-4399-ad8a-84c361309096"
      },
      "outputs": [],
      "source": [
        "pnts.get_xdata()"
      ],
      "id": "7dcd43c2-6124-4c5e-b136-051eed5a9c09"
    },
    {
      "cell_type": "code",
      "execution_count": 67,
      "metadata": {
        "outputId": "23127dab-2a2c-4ee6-b48b-b4ec85b02dfc"
      },
      "outputs": [],
      "source": [
        "pnts.get_ydata()"
      ],
      "id": "a22a16ca-86b4-4d37-a66a-2b36d05fd041"
    },
    {
      "cell_type": "code",
      "execution_count": 68,
      "metadata": {
        "outputId": "0461f08e-cbcc-4f84-dd5f-c520c2737266"
      },
      "outputs": [
        {
          "output_type": "display_data",
          "metadata": {},
          "data": {
            "image/png": "[encoded data removed]"
          }
        }
      ],
      "source": [
        "fig"
      ],
      "id": "9b0d14b6-941e-42b7-a602-83a07c3b3ada"
    },
    {
      "cell_type": "code",
      "execution_count": 69,
      "metadata": {},
      "outputs": [],
      "source": [
        "pnts.set_ydata([5,5,5])"
      ],
      "id": "ee661d7c-ebac-44f7-b3f9-ed93f290da28"
    },
    {
      "cell_type": "code",
      "execution_count": 70,
      "metadata": {
        "outputId": "f3410b11-d970-4188-f697-8d076dcce880"
      },
      "outputs": [],
      "source": [
        "pnts.get_ydata()"
      ],
      "id": "30473b14-9341-4b35-a883-56d516fa4229"
    },
    {
      "cell_type": "code",
      "execution_count": 71,
      "metadata": {
        "outputId": "09df1c6b-6204-4fbd-f809-476e92e1e86b"
      },
      "outputs": [
        {
          "output_type": "display_data",
          "metadata": {},
          "data": {
            "image/png": "[encoded data removed]"
          }
        }
      ],
      "source": [
        "fig"
      ],
      "id": "9adf2d6a-7637-4ab2-acae-fd387e1033e1"
    },
    {
      "cell_type": "markdown",
      "metadata": {},
      "source": [
        "`-` 응용"
      ],
      "id": "28a7fb18-8bf6-4f43-ad51-50893ac7bccb"
    },
    {
      "cell_type": "code",
      "execution_count": 72,
      "metadata": {},
      "outputs": [],
      "source": [
        "plt.rcParams[\"animation.html\"]=\"jshtml\"\n",
        "from matplotlib import animation"
      ],
      "id": "3df59ce6-bc19-41cf-bd2c-c5c8a846777e"
    },
    {
      "cell_type": "code",
      "execution_count": 73,
      "metadata": {},
      "outputs": [],
      "source": [
        "def animate(i):\n",
        "    if i%2 == 0:\n",
        "        pnts.set_ydata([4,5,6])\n",
        "    else:\n",
        "        pnts.set_ydata([5,5,5])"
      ],
      "id": "8c8247fd-bcda-4509-a6c7-35c3dc0767cc"
    },
    {
      "cell_type": "code",
      "execution_count": 74,
      "metadata": {
        "outputId": "810242bb-cec1-4c70-9da5-e42a933ccf5a"
      },
      "outputs": [],
      "source": [
        "ani = animation.FuncAnimation(fig,animate,frames=10)\n",
        "ani"
      ],
      "id": "279e9078-0278-4d1a-9bbc-ac3d766d18fd"
    },
    {
      "cell_type": "markdown",
      "metadata": {},
      "source": [
        "예비학습 끝\n",
        "\n",
        "`-` beta_lst=\\[-10,-9,-8\\] 로 이동한다고 하자."
      ],
      "id": "385b7e2f-267e-477c-b0f0-2cfc8eed308a"
    },
    {
      "cell_type": "code",
      "execution_count": 75,
      "metadata": {},
      "outputs": [],
      "source": [
        "beta_lst = [-10,-9,-8]\n",
        "loss_lst = [(-10/2-1)**2,(-9/2-1)**2,(-8/2-1)**2]"
      ],
      "id": "11a7a94d-80b7-4c20-b06a-024d758db153"
    },
    {
      "cell_type": "code",
      "execution_count": 76,
      "metadata": {
        "outputId": "c36ebcee-931d-4506-fe4b-222eaa449731"
      },
      "outputs": [],
      "source": [
        "fig = plt.figure()"
      ],
      "id": "4cd1ee90-9102-46ad-806d-4b9c53bf035b"
    },
    {
      "cell_type": "code",
      "execution_count": 77,
      "metadata": {},
      "outputs": [],
      "source": [
        "ax= fig.add_subplot()"
      ],
      "id": "4366d3df-389e-4b31-944c-9eea6e8477bc"
    },
    {
      "cell_type": "code",
      "execution_count": 78,
      "metadata": {},
      "outputs": [],
      "source": [
        "_beta = np.linspace(-15,19,100)"
      ],
      "id": "98f4dfe2-5b07-4957-9d2b-5eaa99c68148"
    },
    {
      "cell_type": "code",
      "execution_count": 79,
      "metadata": {
        "outputId": "ac8a811c-c338-4b77-c2a2-d2813ed132b7"
      },
      "outputs": [],
      "source": [
        "ax.plot(_beta,(_beta/2-1)**2)"
      ],
      "id": "d74ae55d-efa7-4e63-8757-3d06be00f8c2"
    },
    {
      "cell_type": "code",
      "execution_count": 80,
      "metadata": {
        "outputId": "4c610f8b-4e79-41aa-c4a0-ee8d73b9b75c"
      },
      "outputs": [
        {
          "output_type": "display_data",
          "metadata": {},
          "data": {
            "image/png": "[encoded data removed]"
          }
        }
      ],
      "source": [
        "fig"
      ],
      "id": "67d4c2f7-90a5-41d8-973b-7091d8c9e4da"
    },
    {
      "cell_type": "code",
      "execution_count": 81,
      "metadata": {
        "outputId": "52f7ecaa-1051-47cc-b60d-f115d4c0edcf"
      },
      "outputs": [
        {
          "output_type": "display_data",
          "metadata": {},
          "data": {
            "image/png": "[encoded data removed]"
          }
        }
      ],
      "source": [
        "pnts, = ax.plot(beta_lst[0],loss_lst[0],'ro')\n",
        "fig"
      ],
      "id": "78ab5882-4329-4574-ad77-9fca5914271e"
    },
    {
      "cell_type": "code",
      "execution_count": 82,
      "metadata": {},
      "outputs": [],
      "source": [
        "def animate(i):\n",
        "    pnts.set_xdata(beta_lst[:(i+1)])\n",
        "    pnts.set_ydata(loss_lst[:(i+1)])"
      ],
      "id": "b186b7df-4e08-4816-9cb7-708f7639abb9"
    },
    {
      "cell_type": "code",
      "execution_count": 83,
      "metadata": {
        "outputId": "cf7a83ff-003e-42fb-c6e5-241c6c0bb622"
      },
      "outputs": [],
      "source": [
        "ani =animation.FuncAnimation(fig, animate, frames=3)\n",
        "ani"
      ],
      "id": "701b4135-bcdd-4459-9c6a-1b576ff86aa8"
    },
    {
      "cell_type": "markdown",
      "metadata": {},
      "source": [
        "`-` 최종아웃풋"
      ],
      "id": "7524ada5-6bb9-4f31-aad6-4d427656dda0"
    },
    {
      "cell_type": "code",
      "execution_count": 84,
      "metadata": {},
      "outputs": [],
      "source": [
        "beta = tf.Variable(-10.0)\n",
        "alpha = 0.01/6"
      ],
      "id": "04af5900-b184-457b-be28-015b8e91e55d"
    },
    {
      "cell_type": "code",
      "execution_count": 85,
      "metadata": {},
      "outputs": [],
      "source": [
        "beta_lst=[]\n",
        "loss_lst=[]"
      ],
      "id": "01c6f26a-b984-4aa2-9424-db1450297f45"
    },
    {
      "cell_type": "code",
      "execution_count": 86,
      "metadata": {},
      "outputs": [],
      "source": [
        "beta_lst.append(beta.numpy())\n",
        "loss_lst.append((beta.numpy()/2-1)**2)"
      ],
      "id": "d79ac0d8-ad90-45b1-bf9a-d937bb34ae63"
    },
    {
      "cell_type": "code",
      "execution_count": 87,
      "metadata": {},
      "outputs": [],
      "source": [
        "with tf.GradientTape(persistent=True) as tape:\n",
        "    tape.watch(beta)\n",
        "    loss = (beta/2-1)**2"
      ],
      "id": "bd3ce45c-7f59-40b9-81c0-3819291057f7"
    },
    {
      "cell_type": "code",
      "execution_count": 88,
      "metadata": {
        "outputId": "0ebe73c0-8516-459d-bb28-66d086739e3f"
      },
      "outputs": [],
      "source": [
        "beta.assign_sub(tape.gradient(loss,beta)*alpha)"
      ],
      "id": "72128395-caa1-43d8-bd79-35dead790c97"
    },
    {
      "cell_type": "code",
      "execution_count": 89,
      "metadata": {},
      "outputs": [],
      "source": [
        "beta_lst.append(beta.numpy())\n",
        "loss_lst.append((beta.numpy()/2-1)**2)"
      ],
      "id": "d36d128e-702f-4138-8966-46fa1978342a"
    },
    {
      "cell_type": "code",
      "execution_count": 90,
      "metadata": {
        "outputId": "65caced5-48e4-47a2-8af0-5918552fd772"
      },
      "outputs": [],
      "source": [
        "beta_lst, loss_lst"
      ],
      "id": "3cc38c56-a4bf-4a2c-86d5-c7753d09e34d"
    },
    {
      "cell_type": "markdown",
      "metadata": {},
      "source": [
        "`-` for"
      ],
      "id": "b6d4f043-ac78-4d7f-9b72-0db7aea96267"
    },
    {
      "cell_type": "code",
      "execution_count": 91,
      "metadata": {},
      "outputs": [],
      "source": [
        "beta = tf.Variable(-10.0)\n",
        "alpha = 0.01/6\n",
        "beta_lst=[]\n",
        "loss_lst=[]\n",
        "beta_lst.append(beta.numpy())\n",
        "loss_lst.append((beta.numpy()/2-1)**2)\n",
        "for k in range(100):\n",
        "    with tf.GradientTape(persistent=True) as tape:\n",
        "        tape.watch(beta)\n",
        "        loss = (beta/2-1)**2\n",
        "    beta.assign_sub(tape.gradient(loss,beta)*alpha)\n",
        "    beta_lst.append(beta.numpy())\n",
        "    loss_lst.append((beta.numpy()/2-1)**2)"
      ],
      "id": "d657e48c-93cb-447c-bc0b-b65f922a22d4"
    },
    {
      "cell_type": "code",
      "execution_count": 92,
      "metadata": {
        "outputId": "02658680-80d2-4d57-9876-e7c558579f19"
      },
      "outputs": [
        {
          "output_type": "display_data",
          "metadata": {},
          "data": {
            "image/png": "[encoded data removed]"
          }
        }
      ],
      "source": [
        "fig = plt.figure()\n",
        "ax = fig.add_subplot()\n",
        "ax.plot(_beta,(_beta/2-1)**2)\n",
        "pnts, = ax.plot(beta_lst[0],loss_lst[0],'or')"
      ],
      "id": "35c05524-d820-4502-801e-7ffb698677cb"
    },
    {
      "cell_type": "code",
      "execution_count": 93,
      "metadata": {
        "outputId": "db67b18d-8882-42ec-e543-2a2e1bda7364"
      },
      "outputs": [],
      "source": [
        "ani = animation.FuncAnimation(fig,animate,frames=100)\n",
        "ani"
      ],
      "id": "5490c5cb-e946-44ae-9326-313ef29ac95b"
    },
    {
      "cell_type": "markdown",
      "metadata": {},
      "source": [
        "### 숙제\n",
        "\n",
        "$y=(x-1)^2$를 최소화 하는 $x$를 경사하강법을 이용하여 찾아라. 수렴과정을\n",
        "animation으로 시각화하라. - x의 초기값은 -3으로 설정한다. - 적당한\n",
        "$\\alpha$를 골라서 100번의 반복안에 수렴하도록 하라."
      ],
      "id": "b2cfd9e5-7446-4e7f-937f-f9cd5be83e02"
    }
  ],
  "nbformat": 4,
  "nbformat_minor": 5,
  "metadata": {
    "colab": {
      "provenance": []
    },
    "kernelspec": {
      "name": "python3",
      "display_name": "Python 3 (ipykernel)",
      "language": "python"
    },
    "language_info": {
      "name": "python",
      "codemirror_mode": {
        "name": "ipython",
        "version": "3"
      },
      "file_extension": ".py",
      "mimetype": "text/x-python",
      "nbconvert_exporter": "python",
      "pygments_lexer": "ipython3",
      "version": "3.8.16"
    }
  }
}