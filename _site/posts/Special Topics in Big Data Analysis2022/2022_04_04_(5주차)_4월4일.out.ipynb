{
  "cells": [
    {
      "cell_type": "markdown",
      "metadata": {},
      "source": [
        "# \\[STBDA\\] 05wk: tensorflow,keras\n",
        "\n",
        "김보람  \n",
        "2023-06-20\n",
        "\n",
        "> 해당 강의노트는 전북대학교 최규빈교수님\n",
        "> [STBDA2022](https://guebin.github.io/STBDA2022/) 자료임\n",
        "\n",
        "### imports"
      ],
      "id": "425c6cbd-e598-41cf-9180-713885972712"
    },
    {
      "cell_type": "code",
      "execution_count": 18,
      "metadata": {},
      "outputs": [],
      "source": [
        "# conda install -c conda-forge python-graphviz -y"
      ],
      "id": "5ae54fd7-4dfb-4879-b711-70ef051721e3"
    },
    {
      "cell_type": "code",
      "execution_count": 1,
      "metadata": {},
      "outputs": [
        {
          "output_type": "stream",
          "name": "stderr",
          "text": [
            "2023-06-20 13:43:31.300590: I tensorflow/core/platform/cpu_feature_guard.cc:193] This TensorFlow binary is optimized with oneAPI Deep Neural Network Library (oneDNN) to use the following CPU instructions in performance-critical operations:  AVX2 FMA\n",
            "To enable them in other operations, rebuild TensorFlow with the appropriate compiler flags."
          ]
        }
      ],
      "source": [
        "import tensorflow as tf\n",
        "import numpy as np\n",
        "import matplotlib.pyplot as plt"
      ],
      "id": "4ec7ad60-84d4-4b61-88d0-5f83872be0be"
    },
    {
      "cell_type": "code",
      "execution_count": 2,
      "metadata": {},
      "outputs": [],
      "source": [
        "import tensorflow.experimental.numpy as tnp"
      ],
      "id": "9691fb34-384f-4317-9437-998e8219cf8a"
    },
    {
      "cell_type": "code",
      "execution_count": 3,
      "metadata": {},
      "outputs": [],
      "source": [
        "tnp.experimental_enable_numpy_behavior()"
      ],
      "id": "2b368af7-2aac-4028-97e2-a83e7196c7dd"
    },
    {
      "cell_type": "markdown",
      "metadata": {},
      "source": [
        "### 최적화의 문제\n",
        "\n",
        "`-` $loss=(\\frac{1}{2}\\beta-1)^2$\n",
        "\n",
        "`-` 기존에 했던 방법은 수식을 알고 있어야 한다는 단점이 있음\n",
        "\n",
        "### tf.keras.optimizers를 이용한 최적화방법\n",
        "\n",
        "#### 방법1: opt.apply_gradients()를 이용"
      ],
      "id": "4771b00d-c12d-4576-81ae-0b30c35de5b4"
    },
    {
      "cell_type": "code",
      "execution_count": 4,
      "metadata": {},
      "outputs": [],
      "source": [
        "alpha= 0.01/6"
      ],
      "id": "1249c1f6-82e5-4460-8679-ad998801771a"
    },
    {
      "cell_type": "code",
      "execution_count": 5,
      "metadata": {},
      "outputs": [],
      "source": [
        "beta= tf.Variable(-10.0)"
      ],
      "id": "81de256c-db1e-4095-8221-eb09b839c808"
    },
    {
      "cell_type": "code",
      "execution_count": 6,
      "metadata": {},
      "outputs": [],
      "source": [
        "opt = tf.keras.optimizers.SGD(alpha)"
      ],
      "id": "9a4aa545-25fd-4f62-a881-cc91983ab46a"
    },
    {
      "cell_type": "markdown",
      "metadata": {},
      "source": [
        "-   `tf.keras.optimizers` = `tp.optimizers` 다 똑같은것.\n",
        "\n",
        "`-` iter1"
      ],
      "id": "67807713-a5d6-46b7-9214-9882bf65de3f"
    },
    {
      "cell_type": "code",
      "execution_count": 7,
      "metadata": {},
      "outputs": [],
      "source": [
        "with tf.GradientTape() as tape:\n",
        "    tape.watch(beta)\n",
        "    loss=(beta/2-1)**2\n",
        "slope = tape.gradient(loss,beta)"
      ],
      "id": "bd1d83c1-826c-4cfa-ab69-2528dc6639dc"
    },
    {
      "cell_type": "code",
      "execution_count": 8,
      "metadata": {
        "outputId": "eb8fda56-7bf9-4b18-95c9-70c9626fbc44"
      },
      "outputs": [],
      "source": [
        "opt.apply_gradients([(slope,beta)]) # beta.assign_sub(slope * alpha)\n",
        "beta"
      ],
      "id": "0add849f-add8-4248-b1d6-23a10cdd012d"
    },
    {
      "cell_type": "markdown",
      "metadata": {},
      "source": [
        "`-` iter2"
      ],
      "id": "3077608e-1ec1-40d4-b7ed-d0e063d3e3dd"
    },
    {
      "cell_type": "code",
      "execution_count": 9,
      "metadata": {
        "outputId": "47ccd4aa-7309-473f-d826-d7ede8d8c63e"
      },
      "outputs": [],
      "source": [
        "with tf.GradientTape() as tape:\n",
        "    tape.watch(beta)\n",
        "    loss=(beta/2-1)**2\n",
        "slope = tape.gradient(loss,beta)\n",
        "opt.apply_gradients([(slope,beta)]) # beta.assign_sub(slope * alpha)\n",
        "beta"
      ],
      "id": "cdb9b2d3-9f07-4bb6-b349-1e64f4eb53b1"
    },
    {
      "cell_type": "markdown",
      "metadata": {},
      "source": [
        "`-` for문으로 정리"
      ],
      "id": "70172211-864b-450a-95dc-c5b7e01b1a82"
    },
    {
      "cell_type": "code",
      "execution_count": 10,
      "metadata": {},
      "outputs": [],
      "source": [
        "alpha= 0.01/6\n",
        "beta= tf.Variable(-10.0)\n",
        "opt = tf.keras.optimizers.SGD(alpha)"
      ],
      "id": "a2485494-571e-4f34-acca-1256a2666105"
    },
    {
      "cell_type": "code",
      "execution_count": 11,
      "metadata": {},
      "outputs": [],
      "source": [
        "for epoc in range(10000):\n",
        "    with tf.GradientTape() as tape:\n",
        "        tape.watch(beta)\n",
        "        loss=(beta/2-1)**2\n",
        "    slope = tape.gradient(loss,beta)\n",
        "    opt.apply_gradients([(slope,beta)]) # beta.assign_sub(slope * alpha)\n",
        "    beta"
      ],
      "id": "b090ffd4-421a-4334-8f12-b7a9d489108b"
    },
    {
      "cell_type": "code",
      "execution_count": 12,
      "metadata": {
        "outputId": "19a20c09-101d-441c-87eb-fd86c72a4308"
      },
      "outputs": [],
      "source": [
        "beta"
      ],
      "id": "0d69506e-fd29-4852-8dfd-7113c3ef347c"
    },
    {
      "cell_type": "markdown",
      "metadata": {},
      "source": [
        "-   opt.apply_gradients()의 입력은 pair 의 list\n",
        "\n",
        "#### 방법2: opt.minimize()"
      ],
      "id": "e2587bac-c454-422b-b41a-1cbc560db45f"
    },
    {
      "cell_type": "code",
      "execution_count": 13,
      "metadata": {},
      "outputs": [],
      "source": [
        "alpha= 0.01/6\n",
        "beta= tf.Variable(-10.0)\n",
        "opt = tf.keras.optimizers.SGD(alpha)"
      ],
      "id": "41fbba7d-abfc-4edd-884c-ef8675aee600"
    },
    {
      "cell_type": "code",
      "execution_count": 14,
      "metadata": {},
      "outputs": [],
      "source": [
        "loss_fn = lambda: (beta/2-1)**2"
      ],
      "id": "08166d74-77d2-4a4c-ac6a-61cade669909"
    },
    {
      "cell_type": "markdown",
      "metadata": {},
      "source": [
        "-   `lambda x: x**2` \\<=\\> `lambda(x)=x^2`\n",
        "-   `lambda x,y: x+y` \\<=\\> `lambda(x,y)=x+y`\n",
        "-   `lambda: y` \\<=\\> `lambda()=y`, 입력이 없으며 출력은 항상 y인 함수"
      ],
      "id": "d86045ad-c28d-4bfc-8699-c25294162dee"
    },
    {
      "cell_type": "code",
      "execution_count": 15,
      "metadata": {
        "outputId": "0d23ee0f-6d77-4c6d-f076-2a79d4845d33"
      },
      "outputs": [],
      "source": [
        "loss_fn() # 입력은 없고 출력은 뭔가 계산되는 함수"
      ],
      "id": "4cc9e2c2-d181-4ef9-9b41-fb9d96270376"
    },
    {
      "cell_type": "markdown",
      "metadata": {},
      "source": [
        "`-` iter 1\n",
        "\n",
        "-   오류난당.."
      ],
      "id": "b7881b18-d337-4d18-8aee-1a92373f2bd7"
    },
    {
      "cell_type": "code",
      "execution_count": 107,
      "metadata": {},
      "outputs": [],
      "source": [
        "opt.minimize?"
      ],
      "id": "f5917883-09c0-4e87-b75c-0a610f6ea72b"
    },
    {
      "cell_type": "code",
      "execution_count": 16,
      "metadata": {
        "outputId": "20c031ee-458c-47c3-da07-77b781bab898"
      },
      "outputs": [],
      "source": [
        "opt.minimize(loss_fn, beta)"
      ],
      "id": "d9bbb5d2-c5e6-4283-a057-98ab171314fb"
    },
    {
      "cell_type": "code",
      "execution_count": 18,
      "metadata": {
        "outputId": "3b2a8413-aee8-4f5b-f800-96cb39864d1a"
      },
      "outputs": [],
      "source": [
        "beta"
      ],
      "id": "0811200b-4cdf-41cb-91e2-66e1d6a413d2"
    },
    {
      "cell_type": "markdown",
      "metadata": {},
      "source": [
        "`-` iter2"
      ],
      "id": "9b71065a-a3ea-47e2-b1eb-138f95a173ac"
    },
    {
      "cell_type": "code",
      "execution_count": 19,
      "metadata": {
        "outputId": "64f72b6e-961a-4430-eb56-613ac4df999c"
      },
      "outputs": [],
      "source": [
        "opt.minimize(loss_fn, beta)\n",
        "beta"
      ],
      "id": "59d409e3-f2d8-4d72-9e31-44484040562b"
    },
    {
      "cell_type": "markdown",
      "metadata": {},
      "source": [
        "`-` for문으로 정리하면"
      ],
      "id": "6a9b36a6-f2c2-4625-a1eb-c70e589e8308"
    },
    {
      "cell_type": "code",
      "execution_count": 20,
      "metadata": {
        "outputId": "9314252a-6468-4e25-ee66-fa16fea20c15"
      },
      "outputs": [],
      "source": [
        "alpha= 0.01/6\n",
        "beta= tf.Variable(-10.0)\n",
        "opt = tf.keras.optimizers.SGD(alpha)\n",
        "loss_fn = lambda: (beta/2-1)**2\n",
        "for epoc in range(10000):\n",
        "    opt.minimize(loss_fn, beta)\n",
        "beta"
      ],
      "id": "4dc12728-ba87-4825-9479-bc70e33a9aed"
    },
    {
      "cell_type": "markdown",
      "metadata": {},
      "source": [
        "### 회귀분석 문제\n",
        "\n",
        "`-` ${\\bf y} \\approx 2.5 + 4.0 {\\bf x}$"
      ],
      "id": "fd1eba65-b85f-4062-9808-75865265bf62"
    },
    {
      "cell_type": "code",
      "execution_count": 21,
      "metadata": {},
      "outputs": [],
      "source": [
        "tnp.random.seed(43052)\n",
        "N = 200\n",
        "x = tnp.linspace(0,1,N)\n",
        "epsilon = tnp.random.randn(N)*0.5\n",
        "y = 2.5+4*x + epsilon\n",
        "y_true = 2.5+4*x"
      ],
      "id": "2c80d44c-7e99-4bb4-92ff-382b29999470"
    },
    {
      "cell_type": "code",
      "execution_count": 22,
      "metadata": {
        "outputId": "855ff6c7-cff9-4094-aeb9-43c77846814f"
      },
      "outputs": [
        {
          "output_type": "display_data",
          "metadata": {},
          "data": {
            "image/png": "[encoded data removed]"
          }
        }
      ],
      "source": [
        "plt.plot(x,y,'.')\n",
        "plt.plot(x,y_true,'r--')"
      ],
      "id": "af3a1e90-9370-4705-9be7-f321f7c2f856"
    },
    {
      "cell_type": "markdown",
      "metadata": {},
      "source": [
        "### 이론적 풀이\n",
        "\n",
        "#### 풀이1: 스칼라버전\n",
        "\n",
        "`-` 포인트 - $S_{xx}=$, $S_{xy}=$ - $\\hat{\\beta}_0=$, $\\hat{\\beta}_1=$\n",
        "\n",
        "`-` 풀이"
      ],
      "id": "56bd7ad8-d613-489b-8eef-5cb3effce291"
    },
    {
      "cell_type": "code",
      "execution_count": 23,
      "metadata": {},
      "outputs": [],
      "source": [
        "Sxx = sum((x-x.mean())**2)\n",
        "Sxy = sum((x-x.mean())*(y-y.mean()))"
      ],
      "id": "6472ad51-0591-4ddc-89fd-d3e91e542276"
    },
    {
      "cell_type": "code",
      "execution_count": 24,
      "metadata": {
        "outputId": "ef76e114-67cc-4ea3-b2cb-0185e183cc3b"
      },
      "outputs": [],
      "source": [
        "beta1_hat = Sxy/Sxx\n",
        "beta1_hat"
      ],
      "id": "c65af403-01df-4674-985f-7b517adadcb4"
    },
    {
      "cell_type": "code",
      "execution_count": 25,
      "metadata": {
        "outputId": "c19078d0-6333-490c-ea9f-d4d438a85a20"
      },
      "outputs": [],
      "source": [
        "beta0_hat = y.mean() - x.mean()*beta1_hat\n",
        "beta0_hat"
      ],
      "id": "917f30db-e8a7-4a16-b403-75541e9efcdb"
    },
    {
      "cell_type": "markdown",
      "metadata": {},
      "source": [
        "#### 풀이2: 벡터버전\n",
        "\n",
        "`-` 포인트 - $\\hat{\\beta}=(X'X)^{-1}X'y$\n",
        "\n",
        "`-` 풀이"
      ],
      "id": "de3cb1f9-b0cb-4a63-a74d-34d9516b74d1"
    },
    {
      "cell_type": "code",
      "execution_count": 26,
      "metadata": {
        "outputId": "d6a20881-8322-4589-951f-6b69dca4ff9c"
      },
      "outputs": [],
      "source": [
        "y=y.reshape(N,1)\n",
        "X=tf.stack([tf.ones(N,dtype=tf.float64),x],axis=1)\n",
        "y.shape,X.shape"
      ],
      "id": "b2628d9e-0f8d-43a0-83ca-5365d02d8717"
    },
    {
      "cell_type": "code",
      "execution_count": 27,
      "metadata": {
        "outputId": "4c8f554f-28f8-4cc8-b5c4-36d057505de0"
      },
      "outputs": [],
      "source": [
        "tf.linalg.inv(X.T @ X ) @ X.T @ y"
      ],
      "id": "b2e0b686-81d1-4bae-ba06-1759363ac1bc"
    },
    {
      "cell_type": "markdown",
      "metadata": {},
      "source": [
        "#### 풀이3: 벡터버전, 손실함수의 도함수이용\n",
        "\n",
        "`-` 포인트 - $loss'(\\beta)=-2X'y +2X'X\\beta$ -\n",
        "$\\beta_{new} = \\beta_{old} - \\alpha \\times loss'(\\beta_{old})$\n",
        "\n",
        "`-` 풀이"
      ],
      "id": "b6c1290a-8e2c-4c21-a861-b7c6728c3688"
    },
    {
      "cell_type": "code",
      "execution_count": 28,
      "metadata": {
        "outputId": "a76e7c78-60d0-4e49-e65d-cfd9fe3855a1"
      },
      "outputs": [],
      "source": [
        "y=y.reshape(N,1)\n",
        "y.shape,X.shape"
      ],
      "id": "86c86cba-2a7e-4c13-8224-e480237b83df"
    },
    {
      "cell_type": "code",
      "execution_count": 29,
      "metadata": {
        "outputId": "f973ab04-1899-4c68-ca10-841f9a268231"
      },
      "outputs": [],
      "source": [
        "beta_hat = tnp.array([-5,10]).reshape(2,1)\n",
        "beta_hat"
      ],
      "id": "c03efb30-ce74-4159-8dca-79c9d9425c51"
    },
    {
      "cell_type": "code",
      "execution_count": 30,
      "metadata": {
        "outputId": "8d59c527-fdfe-43c1-d003-5a7a46a0aa92"
      },
      "outputs": [],
      "source": [
        "slope = (-2*X.T @ y + 2*X.T @ X @ beta_hat) / N\n",
        "slope"
      ],
      "id": "c906af7b-1c37-4984-bdc9-ce57637728fd"
    },
    {
      "cell_type": "code",
      "execution_count": 31,
      "metadata": {},
      "outputs": [],
      "source": [
        "alpha= 0.1"
      ],
      "id": "2fe24f12-9cef-4c8a-a152-320fe605327c"
    },
    {
      "cell_type": "code",
      "execution_count": 32,
      "metadata": {
        "outputId": "acf3a753-9619-4e8b-96ba-820e07546925"
      },
      "outputs": [],
      "source": [
        "step = slope*alpha\n",
        "step"
      ],
      "id": "8295cb56-344f-4b8c-b5c9-2b93e227b9ac"
    },
    {
      "cell_type": "code",
      "execution_count": 33,
      "metadata": {},
      "outputs": [],
      "source": [
        "for epoc in range(1000):\n",
        "    slope = (-2*X.T @ y + 2*X.T @ X @ beta_hat)/N\n",
        "    beta_hat = beta_hat - alpha* slope"
      ],
      "id": "53029941-8942-458d-bcc3-3924ecd2a1b1"
    },
    {
      "cell_type": "code",
      "execution_count": 34,
      "metadata": {
        "outputId": "5e1e8218-4db8-44d0-dfe0-a1a755d231bb"
      },
      "outputs": [],
      "source": [
        "beta_hat"
      ],
      "id": "89a626da-4859-4829-84a4-56134b2c1cb4"
    },
    {
      "cell_type": "markdown",
      "metadata": {},
      "source": [
        "### GradientTape를 이용\n",
        "\n",
        "#### 풀이1: 벡터버전\n",
        "\n",
        "`-` 포인트\n",
        "\n",
        "``` python\n",
        "## 포인트코드1: 그레디언트 테입\n",
        "with tf.GradientTape() as tape:\n",
        "    loss =\n",
        "## 포인트코드2: 미분\n",
        "slope = tape.gradient(loss,beta_hat)\n",
        "## 포인트코드3: update\n",
        "beta_hat.assign_sub(slope*alph)\n",
        "```\n",
        "\n",
        "`-` 풀이"
      ],
      "id": "1b3b46a0-91c3-43e2-bbd4-b81680fb52a8"
    },
    {
      "cell_type": "code",
      "execution_count": 35,
      "metadata": {
        "outputId": "f5dbd98c-af9a-4c7f-a1af-c94d13fd27ac"
      },
      "outputs": [],
      "source": [
        "y=y.reshape(N,1)\n",
        "y.shape,X.shape"
      ],
      "id": "8ea27352-76eb-461a-8d71-1f72173bd550"
    },
    {
      "cell_type": "code",
      "execution_count": 36,
      "metadata": {
        "outputId": "00b97438-1627-4c3e-8be3-a16bfbe251c3"
      },
      "outputs": [],
      "source": [
        "beta_hat = tf.Variable(tnp.array([-5.0,10.0]).reshape(2,1))\n",
        "beta_hat"
      ],
      "id": "ced4482a-0bcd-4589-bf83-e8ecbeedc837"
    },
    {
      "cell_type": "code",
      "execution_count": 37,
      "metadata": {},
      "outputs": [],
      "source": [
        "alpha=0.1"
      ],
      "id": "fd173c55-0f8d-4534-b8b2-5816728807bd"
    },
    {
      "cell_type": "code",
      "execution_count": 38,
      "metadata": {},
      "outputs": [],
      "source": [
        "for epoc in range(1000):\n",
        "    with tf.GradientTape() as tape:\n",
        "        yhat= X@beta_hat\n",
        "        loss= (y-yhat).T @ (y-yhat) / N\n",
        "    slope = tape.gradient(loss,beta_hat)\n",
        "    beta_hat.assign_sub(alpha*slope)"
      ],
      "id": "23fd026b-efc5-4334-b71c-44dc7bf5b4bd"
    },
    {
      "cell_type": "code",
      "execution_count": 39,
      "metadata": {
        "outputId": "60beae4b-d99c-4efa-f1c2-1ae5d8a9a1b4"
      },
      "outputs": [],
      "source": [
        "beta_hat"
      ],
      "id": "1ee52d49-e1c3-4955-8b56-60bc2a565b3a"
    },
    {
      "cell_type": "markdown",
      "metadata": {},
      "source": [
        "#### 풀이2: 스칼라버전\n",
        "\n",
        "`-` 포인트\n",
        "\n",
        "``` python\n",
        "## 포인트코드: 미분\n",
        "slope0,slope1 = tape.gradient(loss,[beta0_hat,beta1_hat])\n",
        "```\n",
        "\n",
        "`-` 풀이"
      ],
      "id": "1387cffb-98d5-449d-8245-ca2e983c18cc"
    },
    {
      "cell_type": "code",
      "execution_count": 40,
      "metadata": {
        "outputId": "51cdff6e-04e1-4d3d-e624-9374bca07ee0"
      },
      "outputs": [],
      "source": [
        "y=y.reshape(-1)\n",
        "y.shape,x.shape"
      ],
      "id": "1800ce84-42d6-4054-bccb-feab80a8fde0"
    },
    {
      "cell_type": "code",
      "execution_count": 41,
      "metadata": {},
      "outputs": [],
      "source": [
        "beta0_hat = tf.Variable(-5.0)\n",
        "beta1_hat = tf.Variable(10.0)"
      ],
      "id": "dbaeaeb9-09ec-4b0f-89c2-e6667041e77f"
    },
    {
      "cell_type": "code",
      "execution_count": 42,
      "metadata": {},
      "outputs": [],
      "source": [
        "alpha=0.1"
      ],
      "id": "2986e06b-0c39-4485-93a4-3bfb93583f8d"
    },
    {
      "cell_type": "code",
      "execution_count": 43,
      "metadata": {},
      "outputs": [],
      "source": [
        "for epoc in range(1000):\n",
        "    with tf.GradientTape() as tape:\n",
        "        yhat= beta0_hat + x*beta1_hat\n",
        "        loss= tf.reduce_sum((y-yhat)**2)/N #loss= sum((y-yhat)**2)/N (이거로하면 좀 느림)\n",
        "    slope0,slope1 = tape.gradient(loss,[beta0_hat,beta1_hat])\n",
        "    beta0_hat.assign_sub(alpha*slope0)\n",
        "    beta1_hat.assign_sub(alpha*slope1)"
      ],
      "id": "49f36c2f-d2ac-4757-bac0-4385dadacc9a"
    },
    {
      "cell_type": "code",
      "execution_count": 44,
      "metadata": {
        "outputId": "49648fc6-7902-4c99-c595-44e9bd28c23f"
      },
      "outputs": [],
      "source": [
        "beta0_hat,beta1_hat"
      ],
      "id": "f83c5d11-3900-425f-9024-ce27e6366533"
    },
    {
      "cell_type": "markdown",
      "metadata": {},
      "source": [
        "### GradientTape + opt.apply_gradients\n",
        "\n",
        "#### 풀이1: 벡터버전\n",
        "\n",
        "`-` 포인트\n",
        "\n",
        "``` python\n",
        "## 포인트코드: 업데이트\n",
        "opt.apply_gradients([(slope,beta_hat)])  ## pair의 list가 입력\n",
        "```\n",
        "\n",
        "`-` 풀이"
      ],
      "id": "a031c52c-7d79-40f3-b60e-e9d0d1beeab8"
    },
    {
      "cell_type": "code",
      "execution_count": 45,
      "metadata": {
        "outputId": "70a40c02-c2db-45e6-9b76-f2c03d4cebdf"
      },
      "outputs": [],
      "source": [
        "y=y.reshape(N,1)\n",
        "y.shape,X.shape"
      ],
      "id": "de8f8db0-60df-4c9e-9f86-e73bc163f288"
    },
    {
      "cell_type": "code",
      "execution_count": 46,
      "metadata": {
        "outputId": "a1cc3bd7-4c55-4d36-9886-9d2406854a61"
      },
      "outputs": [],
      "source": [
        "beta_hat = tf.Variable(tnp.array([-5.0,10.0]).reshape(2,1))\n",
        "beta_hat"
      ],
      "id": "0d081c2a-452f-4f83-9082-f61df4ef9ea4"
    },
    {
      "cell_type": "code",
      "execution_count": 47,
      "metadata": {},
      "outputs": [],
      "source": [
        "alpha=0.1\n",
        "opt = tf.optimizers.SGD(alpha)"
      ],
      "id": "0312dd56-31da-47d6-8da6-90d4de05394f"
    },
    {
      "cell_type": "code",
      "execution_count": 48,
      "metadata": {},
      "outputs": [],
      "source": [
        "for epoc in range(1000):\n",
        "    with tf.GradientTape() as tape:\n",
        "        yhat= X@beta_hat\n",
        "        loss= (y-yhat).T @ (y-yhat) / N\n",
        "    slope = tape.gradient(loss,beta_hat)\n",
        "    opt.apply_gradients([(slope,beta_hat)])\n",
        "    #beta_hat.assign_sub(alpha*slope)"
      ],
      "id": "bd7628d0-c9b8-47b0-86e6-955d418399a7"
    },
    {
      "cell_type": "code",
      "execution_count": 49,
      "metadata": {
        "outputId": "f81f823e-8636-4b2b-c465-750ab022d887"
      },
      "outputs": [],
      "source": [
        "beta_hat"
      ],
      "id": "ffb37eb6-4104-4e88-807d-ee757acac9f4"
    },
    {
      "cell_type": "markdown",
      "metadata": {},
      "source": [
        "#### 풀이2: 스칼라버전\n",
        "\n",
        "`-` 포인트\n",
        "\n",
        "``` python\n",
        "## 포인트코드: 업데이트\n",
        "opt.apply_gradients([(slope0,beta0_hat),(slope1,beta1_hat)]) ## pair의 list가 입력\n",
        "```\n",
        "\n",
        "`-` 풀이"
      ],
      "id": "04513cfa-e728-456c-bbd6-220d8b0e92f9"
    },
    {
      "cell_type": "code",
      "execution_count": 50,
      "metadata": {
        "outputId": "94e1a567-14ff-4c5e-b9f8-d8e0549a9f77"
      },
      "outputs": [],
      "source": [
        "y=y.reshape(-1)\n",
        "y.shape,x.shape"
      ],
      "id": "17479afc-376a-40bf-9c36-ae17f23edc16"
    },
    {
      "cell_type": "code",
      "execution_count": 51,
      "metadata": {},
      "outputs": [],
      "source": [
        "beta0_hat = tf.Variable(-5.0)\n",
        "beta1_hat = tf.Variable(10.0)"
      ],
      "id": "e9e5678a-b906-4537-a446-e9a801f34b59"
    },
    {
      "cell_type": "code",
      "execution_count": 52,
      "metadata": {},
      "outputs": [],
      "source": [
        "alpha=0.1\n",
        "opt = tf.optimizers.SGD(alpha)"
      ],
      "id": "766ed9c4-8533-421b-abff-597beeaecd3e"
    },
    {
      "cell_type": "code",
      "execution_count": 53,
      "metadata": {},
      "outputs": [],
      "source": [
        "for epoc in range(1000):\n",
        "    with tf.GradientTape() as tape:\n",
        "        yhat= beta0_hat + beta1_hat*x #X@beta_hat\n",
        "        loss= tf.reduce_sum((y-yhat)**2) / N\n",
        "    slope0,slope1 = tape.gradient(loss,[beta0_hat,beta1_hat])\n",
        "    opt.apply_gradients([(slope0,beta0_hat),(slope1,beta1_hat)])"
      ],
      "id": "7aee88e5-7ebf-414c-a6be-f4b8f61ed72b"
    },
    {
      "cell_type": "code",
      "execution_count": 54,
      "metadata": {
        "outputId": "6232d6b7-bf50-475d-d0d2-daa455374397"
      },
      "outputs": [],
      "source": [
        "beta0_hat,beta1_hat"
      ],
      "id": "ef9e5053-696a-4bba-98d0-bf651a812f62"
    },
    {
      "cell_type": "markdown",
      "metadata": {},
      "source": [
        "### opt.minimize\n",
        "\n",
        "#### 풀이1: 벡터버전, 사용자정의 손실함수 with lambda\n",
        "\n",
        "`-` 풀이"
      ],
      "id": "f17991cf-2dad-4765-abbc-128708b4e767"
    },
    {
      "cell_type": "code",
      "execution_count": 55,
      "metadata": {
        "outputId": "f4eab93b-f2f8-4312-b1fe-d755435b5fa6"
      },
      "outputs": [],
      "source": [
        "y=y.reshape(N,1)\n",
        "y.shape,X.shape"
      ],
      "id": "51dd6b81-5604-466b-a68f-a0a946020d0c"
    },
    {
      "cell_type": "code",
      "execution_count": 56,
      "metadata": {
        "outputId": "5bc1b726-a156-4716-b502-ec6690f99158"
      },
      "outputs": [],
      "source": [
        "beta_hat = tf.Variable(tnp.array([-5.0,10.0]).reshape(2,1))\n",
        "beta_hat"
      ],
      "id": "403a3571-8fe9-4d7b-9132-ec09e453649c"
    },
    {
      "cell_type": "code",
      "execution_count": 57,
      "metadata": {},
      "outputs": [],
      "source": [
        "loss_fn = lambda: (y-X@beta_hat).T @ (y-X@beta_hat) / N"
      ],
      "id": "ebaa22be-939c-46ce-9e06-26a2b7bb3962"
    },
    {
      "cell_type": "code",
      "execution_count": 58,
      "metadata": {},
      "outputs": [],
      "source": [
        "alpha=0.1\n",
        "opt = tf.optimizers.SGD(alpha)"
      ],
      "id": "08b2b126-dbb5-41ab-8e57-bf898ef183da"
    },
    {
      "cell_type": "code",
      "execution_count": 59,
      "metadata": {},
      "outputs": [],
      "source": [
        "for epoc in range(1000):\n",
        "    opt.minimize(loss_fn,beta_hat)"
      ],
      "id": "75a91697-e208-4c0f-8898-45076fe3ff83"
    },
    {
      "cell_type": "code",
      "execution_count": 56,
      "metadata": {
        "outputId": "31758f07-8c69-4d02-c0ff-6c55f870c7d1"
      },
      "outputs": [],
      "source": [
        "beta_hat"
      ],
      "id": "e9671c3c-d8e8-48f0-a26d-41d7ef3de4da"
    },
    {
      "cell_type": "markdown",
      "metadata": {},
      "source": [
        "#### 풀이2: 스칼라버전, 사용자정의 손실함수 with lambda\n",
        "\n",
        "`-` 포인트\n",
        "\n",
        "``` python\n",
        "## 포인트코드: 미분 & 업데이트 = minimize\n",
        "opt.minimize(loss_fn,[beta0_hat,beta1_hat])\n",
        "```\n",
        "\n",
        "`-` 풀이"
      ],
      "id": "3cc564d4-c32b-4b86-ac76-ce8600d6797d"
    },
    {
      "cell_type": "code",
      "execution_count": 60,
      "metadata": {
        "outputId": "a479ba80-b7ca-4608-e8f6-1563fc2ec06b"
      },
      "outputs": [],
      "source": [
        "y=y.reshape(-1)\n",
        "y.shape,x.shape"
      ],
      "id": "8a3d5388-cb91-4425-9162-6e69e669765a"
    },
    {
      "cell_type": "code",
      "execution_count": 61,
      "metadata": {},
      "outputs": [],
      "source": [
        "beta0_hat = tf.Variable(-5.0)\n",
        "beta1_hat = tf.Variable(10.0)"
      ],
      "id": "d7ae407f-9865-4707-bbfa-ad7c860f0b32"
    },
    {
      "cell_type": "code",
      "execution_count": 62,
      "metadata": {},
      "outputs": [],
      "source": [
        "loss_fn = lambda: tf.reduce_sum((y-beta0_hat-beta1_hat*x )**2) / N"
      ],
      "id": "ef7ba90c-3d47-4eb0-bfe7-affc7cbedce1"
    },
    {
      "cell_type": "code",
      "execution_count": 63,
      "metadata": {},
      "outputs": [],
      "source": [
        "alpha=0.1\n",
        "opt = tf.optimizers.SGD(alpha)"
      ],
      "id": "9459eb05-d08d-4ec4-9690-7239d92da273"
    },
    {
      "cell_type": "code",
      "execution_count": 64,
      "metadata": {},
      "outputs": [],
      "source": [
        "for epoc in range(1000):\n",
        "    opt.minimize(loss_fn,[beta0_hat,beta1_hat])"
      ],
      "id": "5375444a-0091-47da-80e4-d82b9f03e37b"
    },
    {
      "cell_type": "code",
      "execution_count": 65,
      "metadata": {
        "outputId": "38a1d2dd-8c00-4894-f803-7bcbbea37932"
      },
      "outputs": [],
      "source": [
        "beta0_hat,beta1_hat"
      ],
      "id": "346505ed-c7ed-4412-9637-2c4dd787bc8f"
    },
    {
      "cell_type": "markdown",
      "metadata": {},
      "source": [
        "#### 풀이3: 벡터버전, 사용자정의 (짧은) 손실함수\n",
        "\n",
        "`-` 포인트\n",
        "\n",
        "``` python\n",
        "## 포인트코드: 손실함수정의\n",
        "def loss_fn():\n",
        "    return ??\n",
        "```\n",
        "\n",
        "`-` 풀이"
      ],
      "id": "1192f9ae-ca0d-4bfd-affc-a07479c87694"
    },
    {
      "cell_type": "code",
      "execution_count": 66,
      "metadata": {
        "outputId": "27df1a1d-c840-49e1-d831-66cd32a3d9fd"
      },
      "outputs": [],
      "source": [
        "y=y.reshape(N,1)\n",
        "y.shape,X.shape"
      ],
      "id": "0cb6d826-04ab-48cd-9649-6a3c7c82d554"
    },
    {
      "cell_type": "code",
      "execution_count": 67,
      "metadata": {
        "outputId": "147804c3-0ec5-476f-ad7b-33e04691956f"
      },
      "outputs": [],
      "source": [
        "beta_hat = tf.Variable(tnp.array([-5.0,10.0]).reshape(2,1))\n",
        "beta_hat"
      ],
      "id": "5cc58392-7153-4a47-af59-fcdde00c815b"
    },
    {
      "cell_type": "code",
      "execution_count": 68,
      "metadata": {},
      "outputs": [],
      "source": [
        "def loss_fn():\n",
        "    return (y-X@beta_hat).T @ (y-X@beta_hat) / N"
      ],
      "id": "6c7f5121-466c-40d9-b590-0ba75a2e8779"
    },
    {
      "cell_type": "code",
      "execution_count": 69,
      "metadata": {},
      "outputs": [],
      "source": [
        "alpha=0.1\n",
        "opt = tf.optimizers.SGD(alpha)"
      ],
      "id": "041c5ebc-e41e-481b-8acd-de6d77c6af37"
    },
    {
      "cell_type": "code",
      "execution_count": 70,
      "metadata": {},
      "outputs": [],
      "source": [
        "for epoc in range(1000):\n",
        "    opt.minimize(loss_fn,beta_hat)"
      ],
      "id": "ba5672b4-4cda-4d16-8d49-5ae4477a0d23"
    },
    {
      "cell_type": "code",
      "execution_count": 71,
      "metadata": {
        "outputId": "31827a2b-8e31-4a3c-a9f6-0f38f1b0b650"
      },
      "outputs": [],
      "source": [
        "beta_hat"
      ],
      "id": "eb1b70b7-ac59-4e7e-880d-811589f43513"
    },
    {
      "cell_type": "markdown",
      "metadata": {},
      "source": [
        "#### 풀이4: 벡터버전, 사용자정의 (긴) 손실함수\n",
        "\n",
        "`-` 포인트\n",
        "\n",
        "``` python\n",
        "## 포인트코드: 손실함수정의\n",
        "def loss_fn():\n",
        "    ??\n",
        "    ??\n",
        "    return ??\n",
        "```\n",
        "\n",
        "`-` 풀이"
      ],
      "id": "acc5c8cf-0054-49ed-96b0-b6597caba6bc"
    },
    {
      "cell_type": "code",
      "execution_count": 72,
      "metadata": {
        "outputId": "ff5c3843-3078-426b-dd93-3a08f2e48367"
      },
      "outputs": [],
      "source": [
        "y=y.reshape(N,1)\n",
        "y.shape,X.shape"
      ],
      "id": "128570cb-2dc7-4a53-a4bc-c12f255dac36"
    },
    {
      "cell_type": "code",
      "execution_count": 73,
      "metadata": {
        "outputId": "a5f9443b-8716-4310-9763-33f625b5306e"
      },
      "outputs": [],
      "source": [
        "beta_hat = tf.Variable(tnp.array([-5.0,10.0]).reshape(2,1))\n",
        "beta_hat"
      ],
      "id": "64aeeeaf-b519-46f2-a114-34d06383cb1f"
    },
    {
      "cell_type": "code",
      "execution_count": 74,
      "metadata": {},
      "outputs": [],
      "source": [
        "def loss_fn():\n",
        "    yhat= X@beta_hat # 컴퓨터한테 전달할 수식1\n",
        "    loss = (y-yhat).T @ (y-yhat) / N # 컴퓨터한테 전달할 수식 2\n",
        "    return loss # tape.gradient(loss,beta_hat) 에서의 미분당하는애"
      ],
      "id": "7e290bb0-211a-4f55-bfe1-445e5fde0f8d"
    },
    {
      "cell_type": "code",
      "execution_count": 75,
      "metadata": {},
      "outputs": [],
      "source": [
        "alpha=0.1\n",
        "opt = tf.optimizers.SGD(alpha)"
      ],
      "id": "2214c513-3c66-4c47-9825-65842f94cefd"
    },
    {
      "cell_type": "code",
      "execution_count": 76,
      "metadata": {},
      "outputs": [],
      "source": [
        "for epoc in range(1000):\n",
        "    opt.minimize(loss_fn,beta_hat)"
      ],
      "id": "8026f48d-5d63-4bea-924d-624945984cfa"
    },
    {
      "cell_type": "code",
      "execution_count": 77,
      "metadata": {
        "outputId": "14b0c24c-5131-4cf4-9461-75b19ad7e134"
      },
      "outputs": [],
      "source": [
        "beta_hat"
      ],
      "id": "2c69e18b-5c68-4643-af21-b69a93192640"
    },
    {
      "cell_type": "markdown",
      "metadata": {},
      "source": [
        "#### 풀이5: 벡터버전, 사용자정의 손실함수 \\<- tf.losses.MSE\n",
        "\n",
        "`-` 포인트\n",
        "\n",
        "``` python\n",
        "## 포인트코드: 미리구현되어있는 손실함수 이용\n",
        "tf.losses.MSE(y,yhat)\n",
        "```\n",
        "\n",
        "`-` 풀이"
      ],
      "id": "8de62309-5412-4410-943b-711e3acb61b7"
    },
    {
      "cell_type": "code",
      "execution_count": 79,
      "metadata": {
        "outputId": "5c509cba-5708-4ece-dd93-baec35bbe052"
      },
      "outputs": [],
      "source": [
        "y=y.reshape(N,1)\n",
        "y.shape,X.shape"
      ],
      "id": "d040ede5-c827-4f8c-be88-c4facb21e0e3"
    },
    {
      "cell_type": "code",
      "execution_count": 80,
      "metadata": {
        "outputId": "d663db07-ed6c-4e96-a3ab-646b4e1f24be"
      },
      "outputs": [],
      "source": [
        "beta_hat = tf.Variable(tnp.array([-5.0,10.0]).reshape(2,1))\n",
        "beta_hat"
      ],
      "id": "a904ccc2-7729-4287-948d-c8ea62256aa7"
    },
    {
      "cell_type": "code",
      "execution_count": 81,
      "metadata": {},
      "outputs": [],
      "source": [
        "def loss_fn():\n",
        "    yhat= X@beta_hat # 컴퓨터한테 전달할 수식1\n",
        "    loss = tf.keras.losses.MSE(y.reshape(-1),yhat.reshape(-1)) # 컴퓨터한테 전달할 수식 2\n",
        "    return loss # tape.gradient(loss,beta_hat) 에서의 미분당하는애"
      ],
      "id": "c05fc5d0-80cc-471f-b29c-27908271da9b"
    },
    {
      "cell_type": "code",
      "execution_count": 82,
      "metadata": {},
      "outputs": [],
      "source": [
        "alpha=0.1\n",
        "opt = tf.optimizers.SGD(alpha)"
      ],
      "id": "8021a236-7f98-4bad-95fd-74557e234eac"
    },
    {
      "cell_type": "code",
      "execution_count": 83,
      "metadata": {},
      "outputs": [],
      "source": [
        "for epoc in range(1000):\n",
        "    opt.minimize(loss_fn,beta_hat)"
      ],
      "id": "1ec3e1ec-1d5c-41f5-85ff-6320bd25eb7c"
    },
    {
      "cell_type": "code",
      "execution_count": 84,
      "metadata": {
        "outputId": "94a472d3-59ca-4073-cc43-7cfa66fe2d71"
      },
      "outputs": [],
      "source": [
        "beta_hat"
      ],
      "id": "465e62a5-3acc-4e5f-85c0-6efda1881298"
    },
    {
      "cell_type": "markdown",
      "metadata": {},
      "source": [
        "#### 풀이6: 벡터버전, 사용자정의 손실함수 \\<- tf.losses.MeaSquaredError\n",
        "\n",
        "`-` 포인트\n",
        "\n",
        "``` python\n",
        "## 포인트코드: 클래스로부터 손실함수 오브젝트 생성 (함수를 찍어내는 클래스)\n",
        "mse_fn = tf.losses.MeanSquaredError()\n",
        "mse_fn(y,yhat)\n",
        "```\n",
        "\n",
        "`-` 풀이"
      ],
      "id": "a414e2d9-1c1c-4c2f-85c8-b83e42d9ee7d"
    },
    {
      "cell_type": "code",
      "execution_count": 85,
      "metadata": {
        "tags": []
      },
      "outputs": [],
      "source": [
        "mseloss_fn = tf.losses.MeanSquaredError()"
      ],
      "id": "dd0d5834-77c9-475d-a594-5431adc2b6b6"
    },
    {
      "cell_type": "markdown",
      "metadata": {},
      "source": [
        "-   `mseloss_fn` = `tf.keras.losses.MSE` 라고 보면된다."
      ],
      "id": "f10f83e4-19ff-4a05-ae0e-e125bf7c299a"
    },
    {
      "cell_type": "code",
      "execution_count": 86,
      "metadata": {
        "outputId": "fb1b1a14-03cb-4974-f3c4-efb2e8d45f9f"
      },
      "outputs": [],
      "source": [
        "y=y.reshape(N,1)\n",
        "y.shape,X.shape"
      ],
      "id": "9649fedc-765f-41e9-8092-78e6d367a5c3"
    },
    {
      "cell_type": "code",
      "execution_count": 87,
      "metadata": {
        "outputId": "a13c6286-84c6-4edd-9f72-137913a0e37e"
      },
      "outputs": [],
      "source": [
        "beta_hat = tf.Variable(tnp.array([-5.0,10.0]).reshape(2,1))\n",
        "beta_hat"
      ],
      "id": "68dffbb5-b1ae-43f6-8bf4-1b71131cbb60"
    },
    {
      "cell_type": "code",
      "execution_count": 88,
      "metadata": {},
      "outputs": [],
      "source": [
        "def loss_fn():\n",
        "    yhat= X@beta_hat # 컴퓨터한테 전달할 수식1\n",
        "    loss = mseloss_fn(y.reshape(-1),yhat.reshape(-1)) # 컴퓨터한테 전달할 수식 2\n",
        "    return loss # tape.gradient(loss,beta_hat) 에서의 미분당하는애"
      ],
      "id": "1991747b-c387-4b07-a116-9aed2ab25c68"
    },
    {
      "cell_type": "code",
      "execution_count": 89,
      "metadata": {},
      "outputs": [],
      "source": [
        "alpha=0.1\n",
        "opt = tf.optimizers.SGD(alpha)"
      ],
      "id": "e86ca7ad-4806-4e0b-8a76-525f412167ba"
    },
    {
      "cell_type": "code",
      "execution_count": 90,
      "metadata": {},
      "outputs": [],
      "source": [
        "for epoc in range(1000):\n",
        "    opt.minimize(loss_fn,beta_hat)"
      ],
      "id": "0bdf13f0-7f12-448d-9b71-cff61caacc64"
    },
    {
      "cell_type": "code",
      "execution_count": 91,
      "metadata": {
        "outputId": "c9caca49-d2bf-4997-fbfa-14a346677c00"
      },
      "outputs": [],
      "source": [
        "beta_hat"
      ],
      "id": "6b8706b5-0ec2-4e6f-9781-0b1664d67fef"
    },
    {
      "cell_type": "markdown",
      "metadata": {},
      "source": [
        "### tf.keras.Sequential\n",
        "\n",
        "`-` $\\hat{y}_i=\\hat{\\beta}_0+\\hat{\\beta}_1x_i$ 의 서로다른 표현"
      ],
      "id": "b1414a59-88b0-4d3e-bed0-dcaa7eadaf38"
    },
    {
      "cell_type": "code",
      "execution_count": 92,
      "metadata": {},
      "outputs": [],
      "source": [
        "import graphviz\n",
        "def gv(s): return graphviz.Source('digraph G{ rankdir=\"LR\"'+s + '; }')"
      ],
      "id": "d6645006-7871-4cec-959f-4f77cbc7df06"
    },
    {
      "cell_type": "code",
      "execution_count": 93,
      "metadata": {
        "outputId": "2141e4ad-eb61-418c-baf5-389553199a7f"
      },
      "outputs": [
        {
          "output_type": "display_data",
          "metadata": {},
          "data": {
            "image/svg+xml": "PD94bWwgdmVyc2lvbj0iMS4wIiBlbmNvZGluZz0iVVRGLTgiIHN0YW5kYWxvbmU9Im5vIj8+Cjwh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\n"
          }
        }
      ],
      "source": [
        "gv('''\n",
        "    \"1\" -> \"beta0_hat + x*beta1_hat,    bias=False\"[label=\"* beta0_hat\"]\n",
        "    \"x\" -> \"beta0_hat + x*beta1_hat,    bias=False\"[label=\"* beta1_hat\"]\n",
        "    \"beta0_hat + x*beta1_hat,    bias=False\" -> \"yhat\"[label=\"indentity\"]\n",
        "    ''')"
      ],
      "id": "912037ce-376d-4eac-9c01-7dfd2b681549"
    },
    {
      "cell_type": "code",
      "execution_count": 94,
      "metadata": {
        "outputId": "5ec29c02-e2b4-4c5b-ff0b-d8b98bfd74e9"
      },
      "outputs": [
        {
          "output_type": "display_data",
          "metadata": {},
          "data": {
            "image/svg+xml": "PD94bWwgdmVyc2lvbj0iMS4wIiBlbmNvZGluZz0iVVRGLTgiIHN0YW5kYWxvbmU9Im5vIj8+Cjwh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\naW5kZW50aXR5PC90ZXh0Pgo8L2c+CjwvZz4KPC9zdmc+Cg==\n"
          }
        }
      ],
      "source": [
        "gv('''\n",
        "\"x\" -> \"x*beta1_hat,    bias=True\"[label=\"*beta1_hat\"] ;\n",
        "\"x*beta1_hat,    bias=True\" -> \"yhat\"[label=\"indentity\"] ''')\n"
      ],
      "id": "a57cf1ac-1e13-488b-9d5e-dc9323b8864f"
    },
    {
      "cell_type": "code",
      "execution_count": 97,
      "metadata": {
        "outputId": "8d13cd18-9356-4704-b24d-3f8a90997dc5"
      },
      "outputs": [
        {
          "output_type": "display_data",
          "metadata": {},
          "data": {
            "image/svg+xml": "PD94bWwgdmVyc2lvbj0iMS4wIiBlbmNvZGluZz0iVVRGLTgiIHN0YW5kYWxvbmU9Im5vIj8+Cjwh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\nPgo8L2c+CjwvZz4KPC9zdmc+Cg==\n"
          }
        }
      ],
      "source": [
        "gv('''\n",
        "\"X=[1 x]\" -> \"X@beta_hat,    bias=False\"[label=\"@beta_hat\"] ;\n",
        "\"X@beta_hat,    bias=False\" -> \"yhat\"[label=\"indentity\"] ''')\n"
      ],
      "id": "6b6cacce-e9e7-40cc-8481-0eaabbedb4dc"
    },
    {
      "cell_type": "markdown",
      "metadata": {},
      "source": [
        "#### 풀이1: 벡터버전, 사용자정의 손실함수\n",
        "\n",
        "`-` 포인트\n",
        "\n",
        "``` python\n",
        "## 포인트코드1: 네트워크 생성\n",
        "net = tf.keras.Sequential()\n",
        "\n",
        "## 포인트코드2: 네트워크의 아키텍처 설계\n",
        "net.add(tf.keras.layers.Dense(1,input_shape=(2,),use_bias=False))\n",
        "\n",
        "## 포인트코드3: 네트워크 컴파일 = 아키텍처 + 손실함수 + 옵티마이저\n",
        "net.compile(opt,loss=loss_fn2)\n",
        "\n",
        "## 포인트코드4: 미분 & update\n",
        "net.fit(X,y,epochs=1000,verbose=0,batch_size=N)\n",
        "```\n",
        "\n",
        "`-` 풀이"
      ],
      "id": "be69995e-37c8-4c3d-a9c3-96d3734287cf"
    },
    {
      "cell_type": "code",
      "execution_count": 95,
      "metadata": {},
      "outputs": [],
      "source": [
        "net = tf.keras.Sequential()"
      ],
      "id": "d443473f-0710-4d36-bd8d-caab0a8d057b"
    },
    {
      "cell_type": "code",
      "execution_count": 96,
      "metadata": {},
      "outputs": [],
      "source": [
        "net.add(tf.keras.layers.Dense(units=1,input_shape=(2,),use_bias=False)) ## yhat을 구하는 방법정의 = 아키텍처가 설계"
      ],
      "id": "f5b5e894-de08-413a-92a6-8ab839723135"
    },
    {
      "cell_type": "markdown",
      "metadata": {},
      "source": [
        "-   units는 layer의 출력의 차원, 이 경우는 yhat의 차원, yhat은 (200,1)\n",
        "    이므로 1임.\n",
        "-   input_shape는 layer의 입력의 차원, 이 경우는 X의 차원, X는 (200,2)\n",
        "    이므로 2임."
      ],
      "id": "33e1c50a-f642-4268-bf09-c461ad398084"
    },
    {
      "cell_type": "code",
      "execution_count": 98,
      "metadata": {},
      "outputs": [],
      "source": [
        "def loss_fn2(y,yhat):\n",
        "    return (y-yhat).T @ (y-yhat) / N"
      ],
      "id": "dd2e7963-26b9-473c-a690-e6d893056453"
    },
    {
      "cell_type": "code",
      "execution_count": 99,
      "metadata": {},
      "outputs": [],
      "source": [
        "alpha=0.1\n",
        "opt =tf.optimizers.SGD(alpha)"
      ],
      "id": "672627dd-3877-4b0e-8596-6a2df412224e"
    },
    {
      "cell_type": "code",
      "execution_count": 100,
      "metadata": {
        "outputId": "37257cc2-4a34-409d-c942-f2b4d2813ad6"
      },
      "outputs": [],
      "source": [
        "[np.array([[-5.0],[10.0]],dtype=np.float32)]"
      ],
      "id": "ec73d2ba-5725-4d41-a77b-3ecaa056f12a"
    },
    {
      "cell_type": "code",
      "execution_count": 101,
      "metadata": {},
      "outputs": [],
      "source": [
        "net.set_weights([np.array([[-5.0],[10.0]],dtype=np.float32)])"
      ],
      "id": "e39e8740-1d25-4cf3-918f-cdf8a0800427"
    },
    {
      "cell_type": "code",
      "execution_count": 102,
      "metadata": {
        "outputId": "b20b65a5-dcf7-4116-d0cf-af9a4a2ea104"
      },
      "outputs": [],
      "source": [
        "net.weights"
      ],
      "id": "e4c87593-9f39-44b1-a102-103431b2495d"
    },
    {
      "cell_type": "code",
      "execution_count": 103,
      "metadata": {},
      "outputs": [],
      "source": [
        "net.compile(opt,loss=tf.losses.MSE)\n",
        "# 아키텍처 + 손실함수 + 옵티마이저 => 네트워크에 다 합치자 => 네트워크를 컴파일한다."
      ],
      "id": "461ef002-5432-4178-be6c-6eaa3547905f"
    },
    {
      "cell_type": "code",
      "execution_count": 104,
      "metadata": {
        "outputId": "c2151b27-cc06-4563-de5f-5ae641a177a7"
      },
      "outputs": [],
      "source": [
        "net.fit(X,y,epochs=1000,batch_size=N,verbose=0) # 미분 + 파라메터업데이트 = net.fit"
      ],
      "id": "34e7187d-da03-40b3-a2d8-55ebc77aca82"
    },
    {
      "cell_type": "markdown",
      "metadata": {},
      "source": [
        "-   `verbose=0` 하면 옵션 도는거 안보여짐."
      ],
      "id": "2974d2aa-5d94-47d2-9a93-a1bf03a8bf81"
    },
    {
      "cell_type": "code",
      "execution_count": 105,
      "metadata": {
        "outputId": "d7a8c6b1-31d3-4cd7-c854-c244a64ece48"
      },
      "outputs": [],
      "source": [
        "net.weights"
      ],
      "id": "e74911d8-41e3-4cfe-a7fd-7601c9dd57db"
    }
  ],
  "nbformat": 4,
  "nbformat_minor": 5,
  "metadata": {
    "colab": {
      "provenance": []
    },
    "kernelspec": {
      "name": "python3",
      "display_name": "Python 3 (ipykernel)",
      "language": "python"
    },
    "language_info": {
      "name": "python",
      "codemirror_mode": {
        "name": "ipython",
        "version": "3"
      },
      "file_extension": ".py",
      "mimetype": "text/x-python",
      "nbconvert_exporter": "python",
      "pygments_lexer": "ipython3",
      "version": "3.8.16"
    }
  }
}