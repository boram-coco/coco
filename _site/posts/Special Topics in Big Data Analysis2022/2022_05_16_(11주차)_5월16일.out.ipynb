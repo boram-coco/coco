{
  "cells": [
    {
      "cell_type": "markdown",
      "metadata": {},
      "source": [
        "# \\[STBDA\\] 11wk: MaxPool2D, Conv2D\n",
        "\n",
        "김보람  \n",
        "2023-07-13\n",
        "\n",
        "> 해당 강의노트는 전북대학교 최규빈교수님\n",
        "> [STBDA2022](https://guebin.github.io/STBDA2022/) 자료임\n",
        "\n",
        "### imports"
      ],
      "id": "ce344645-c3be-4255-a85f-659c992d15a8"
    },
    {
      "cell_type": "code",
      "execution_count": 2,
      "metadata": {},
      "outputs": [],
      "source": [
        "import tensorflow as tf\n",
        "import tensorflow.experimental.numpy as tnp\n",
        "import numpy as np\n",
        "import matplotlib.pyplot as plt"
      ],
      "id": "1f9b3e9e-4af0-47b9-84c9-a82d1b7b9d31"
    },
    {
      "cell_type": "code",
      "execution_count": 3,
      "metadata": {},
      "outputs": [],
      "source": [
        "tnp.experimental_enable_numpy_behavior()"
      ],
      "id": "4aff778e-c93c-425d-8cbb-28652367c5b2"
    },
    {
      "cell_type": "code",
      "execution_count": 4,
      "metadata": {},
      "outputs": [],
      "source": [
        "(x_train, y_train), (x_test, y_test) = tf.keras.datasets.fashion_mnist.load_data()"
      ],
      "id": "7207e6aa-0a59-41e2-aac3-89d2efb5f6c1"
    },
    {
      "cell_type": "code",
      "execution_count": 5,
      "metadata": {},
      "outputs": [],
      "source": [
        "X = tf.constant(x_train.reshape(-1,28,28,1),dtype=tf.float64)\n",
        "y = tf.keras.utils.to_categorical(y_train)\n",
        "XX = tf.constant(x_test.reshape(-1,28,28,1),dtype=tf.float64)\n",
        "yy = tf.keras.utils.to_categorical(y_test)"
      ],
      "id": "da80b9e5-d7dc-40c9-8d00-65bba5638e30"
    },
    {
      "cell_type": "markdown",
      "metadata": {},
      "source": [
        "`-` 첫시도"
      ],
      "id": "1fa3c3e5-0f2f-43ab-820b-90ddf9069545"
    },
    {
      "cell_type": "code",
      "execution_count": 6,
      "metadata": {
        "outputId": "118d1470-bac6-457b-b3b3-05ffd4daadc6"
      },
      "outputs": [
        {
          "output_type": "stream",
          "name": "stdout",
          "text": [
            "Epoch 1/5\n",
            "1875/1875 [==============================] - 5s 3ms/step - loss: 1.0329 - accuracy: 0.7892\n",
            "Epoch 2/5\n",
            "1875/1875 [==============================] - 5s 2ms/step - loss: 0.4472 - accuracy: 0.8415\n",
            "Epoch 3/5\n",
            "1875/1875 [==============================] - 5s 2ms/step - loss: 0.4179 - accuracy: 0.8497\n",
            "Epoch 4/5\n",
            "1875/1875 [==============================] - 5s 2ms/step - loss: 0.3942 - accuracy: 0.8598\n",
            "Epoch 5/5\n",
            "1875/1875 [==============================] - 5s 2ms/step - loss: 0.3756 - accuracy: 0.8668"
          ]
        }
      ],
      "source": [
        "net1 = tf.keras.Sequential()\n",
        "net1.add(tf.keras.layers.Flatten())\n",
        "net1.add(tf.keras.layers.Dense(500,activation='relu'))\n",
        "net1.add(tf.keras.layers.Dense(500,activation='relu'))\n",
        "net1.add(tf.keras.layers.Dense(500,activation='relu'))\n",
        "net1.add(tf.keras.layers.Dense(500,activation='relu'))\n",
        "net1.add(tf.keras.layers.Dense(10,activation='softmax'))\n",
        "net1.compile(optimizer='adam', loss=tf.losses.categorical_crossentropy,metrics='accuracy')\n",
        "net1.fit(X,y,epochs=5)"
      ],
      "id": "d630e3e0-2574-4ad4-91d5-a05c73bf8fc5"
    },
    {
      "cell_type": "code",
      "execution_count": 7,
      "metadata": {
        "outputId": "b98f6d86-2de5-404a-f86b-1b6d1a0e77a9"
      },
      "outputs": [
        {
          "output_type": "stream",
          "name": "stdout",
          "text": [
            "313/313 [==============================] - 0s 754us/step - loss: 0.4255 - accuracy: 0.8505"
          ]
        }
      ],
      "source": [
        "net1.evaluate(XX,yy)"
      ],
      "id": "2d5f021f-b06f-4cbb-875c-2eff3c2b2e2f"
    },
    {
      "cell_type": "code",
      "execution_count": 8,
      "metadata": {
        "outputId": "211bbc68-f39a-470a-d249-fed6d7ccd000"
      },
      "outputs": [
        {
          "output_type": "stream",
          "name": "stdout",
          "text": [
            "Model: \"sequential\"\n",
            "_________________________________________________________________\n",
            " Layer (type)                Output Shape              Param #   \n",
            "=================================================================\n",
            " flatten (Flatten)           (None, 784)               0         \n",
            "                                                                 \n",
            " dense (Dense)               (None, 500)               392500    \n",
            "                                                                 \n",
            " dense_1 (Dense)             (None, 500)               250500    \n",
            "                                                                 \n",
            " dense_2 (Dense)             (None, 500)               250500    \n",
            "                                                                 \n",
            " dense_3 (Dense)             (None, 500)               250500    \n",
            "                                                                 \n",
            " dense_4 (Dense)             (None, 10)                5010      \n",
            "                                                                 \n",
            "=================================================================\n",
            "Total params: 1,149,010\n",
            "Trainable params: 1,149,010\n",
            "Non-trainable params: 0\n",
            "_________________________________________________________________"
          ]
        }
      ],
      "source": [
        "net1.summary()"
      ],
      "id": "2222d929-7784-48d6-af5f-944682165714"
    },
    {
      "cell_type": "markdown",
      "metadata": {},
      "source": [
        "`-` 두번째 시도"
      ],
      "id": "d722a36c-47f4-4632-84b9-5e7d6eba7f80"
    },
    {
      "cell_type": "code",
      "execution_count": 9,
      "metadata": {
        "outputId": "9ee58ec9-661b-4db4-d688-653cc775e12d"
      },
      "outputs": [
        {
          "output_type": "stream",
          "name": "stdout",
          "text": [
            "Epoch 1/5\n",
            "1875/1875 [==============================] - 4s 2ms/step - loss: 0.7960 - accuracy: 0.8061\n",
            "Epoch 2/5\n",
            "1875/1875 [==============================] - 4s 2ms/step - loss: 0.3814 - accuracy: 0.8644\n",
            "Epoch 3/5\n",
            "1875/1875 [==============================] - 4s 2ms/step - loss: 0.3400 - accuracy: 0.8769\n",
            "Epoch 4/5\n",
            "1875/1875 [==============================] - 4s 2ms/step - loss: 0.3182 - accuracy: 0.8854\n",
            "Epoch 5/5\n",
            "1875/1875 [==============================] - 4s 2ms/step - loss: 0.3011 - accuracy: 0.8914"
          ]
        }
      ],
      "source": [
        "net2 = tf.keras.Sequential()\n",
        "net2.add(tf.keras.layers.Conv2D(30,(2,2),activation='relu'))\n",
        "net2.add(tf.keras.layers.MaxPool2D())\n",
        "net2.add(tf.keras.layers.Conv2D(30,(2,2),activation='relu'))\n",
        "net2.add(tf.keras.layers.MaxPool2D())\n",
        "net2.add(tf.keras.layers.Flatten())\n",
        "#net2.add(tf.keras.layers.Dense(500,activation='relu'))\n",
        "net2.add(tf.keras.layers.Dense(10,activation='softmax'))\n",
        "net2.compile(optimizer='adam', loss=tf.losses.categorical_crossentropy,metrics='accuracy')\n",
        "net2.fit(X,y,epochs=5)"
      ],
      "id": "fbd22327-6b70-4294-b035-405747d5e32e"
    },
    {
      "cell_type": "code",
      "execution_count": 10,
      "metadata": {
        "outputId": "e4306276-35b8-4a91-d7d1-f85e0e684b9f"
      },
      "outputs": [
        {
          "output_type": "stream",
          "name": "stdout",
          "text": [
            "313/313 [==============================] - 0s 815us/step - loss: 0.3572 - accuracy: 0.8707"
          ]
        }
      ],
      "source": [
        "net2.evaluate(XX,yy)"
      ],
      "id": "3e177600-bdb3-4752-b07c-d46b953b3bf7"
    },
    {
      "cell_type": "code",
      "execution_count": 11,
      "metadata": {
        "outputId": "4f87eafa-21e4-4945-909c-cbe10e327f1e"
      },
      "outputs": [
        {
          "output_type": "stream",
          "name": "stdout",
          "text": [
            "Model: \"sequential_1\"\n",
            "_________________________________________________________________\n",
            " Layer (type)                Output Shape              Param #   \n",
            "=================================================================\n",
            " conv2d (Conv2D)             (None, 27, 27, 30)        150       \n",
            "                                                                 \n",
            " max_pooling2d (MaxPooling2D  (None, 13, 13, 30)       0         \n",
            " )                                                               \n",
            "                                                                 \n",
            " conv2d_1 (Conv2D)           (None, 12, 12, 30)        3630      \n",
            "                                                                 \n",
            " max_pooling2d_1 (MaxPooling  (None, 6, 6, 30)         0         \n",
            " 2D)                                                             \n",
            "                                                                 \n",
            " flatten_1 (Flatten)         (None, 1080)              0         \n",
            "                                                                 \n",
            " dense_5 (Dense)             (None, 10)                10810     \n",
            "                                                                 \n",
            "=================================================================\n",
            "Total params: 14,590\n",
            "Trainable params: 14,590\n",
            "Non-trainable params: 0\n",
            "_________________________________________________________________"
          ]
        }
      ],
      "source": [
        "net2.summary()"
      ],
      "id": "9d4f313d-e8b1-44ab-9921-ffef5b34cfa7"
    },
    {
      "cell_type": "code",
      "execution_count": 12,
      "metadata": {
        "outputId": "f8730288-3692-4c2b-ceef-e61a4a53f633"
      },
      "outputs": [],
      "source": [
        "14590/ 1149010"
      ],
      "id": "792c1fe0-c8cc-4887-83ca-fc644a69067e"
    },
    {
      "cell_type": "code",
      "execution_count": 14,
      "metadata": {},
      "outputs": [],
      "source": [
        "c1, m1, c2, m2, flttn, dns = net2.layers"
      ],
      "id": "21ce9fe2-f5f9-49aa-93c4-a51e5efec519"
    },
    {
      "cell_type": "code",
      "execution_count": 15,
      "metadata": {
        "outputId": "2e3e3eed-6668-4c7c-eb8d-050930c65973"
      },
      "outputs": [
        {
          "output_type": "stream",
          "name": "stdout",
          "text": [
            "(60000, 28, 28, 1)\n",
            "(60000, 27, 27, 30)\n",
            "(60000, 13, 13, 30)\n",
            "(60000, 12, 12, 30)\n",
            "(60000, 6, 6, 30)\n",
            "(60000, 1080)\n",
            "(60000, 10)"
          ]
        }
      ],
      "source": [
        "print(X.shape) # 입력이미지 = 2D\n",
        "print(c1(X).shape) #2D\n",
        "print(m1(c1(X)).shape)  #2D\n",
        "print(c2(m1(c1(X))).shape) #2D\n",
        "print(m2(c2(m1(c1(X)))).shape) #2D\n",
        "print(flttn(m2(c2(m1(c1(X))))).shape)# 1D\n",
        "print(dns(flttn(m2(c2(m1(c1(X)))))).shape)# 1D"
      ],
      "id": "9f35432b-20ae-4e8e-ae9c-36f5d4937793"
    },
    {
      "cell_type": "markdown",
      "metadata": {},
      "source": [
        "### MaxPool2D\n",
        "\n",
        "#### 테스트1\n",
        "\n",
        "`-` 레이어생성"
      ],
      "id": "abcd33a6-5b31-4f62-acfe-b8d8f28334ab"
    },
    {
      "cell_type": "code",
      "execution_count": 16,
      "metadata": {},
      "outputs": [],
      "source": [
        "m=tf.keras.layers.MaxPool2D()"
      ],
      "id": "7791681d-c677-41d9-81ff-d4b0e2d38760"
    },
    {
      "cell_type": "markdown",
      "metadata": {},
      "source": [
        "`-` 입력데이터"
      ],
      "id": "83440de2-01fc-4796-8f48-10b6df30c554"
    },
    {
      "cell_type": "code",
      "execution_count": 17,
      "metadata": {
        "outputId": "b82f6180-6e27-48e8-a53e-045857b7a439"
      },
      "outputs": [],
      "source": [
        "XXX = tnp.arange(1*4*4*1).reshape(1,4,4,1)\n",
        "XXX.reshape(1,4,4)"
      ],
      "id": "01cb3396-d796-4182-8887-8ddda02b066d"
    },
    {
      "cell_type": "markdown",
      "metadata": {},
      "source": [
        "> <span style=\"color:blue\"> 흑백 이미지다 생각하고 뒤에 채널 생략하자 걍\n",
        "> 보기쉽게\n",
        "\n",
        "`-` 입력데이터가 레이어를 통과한 모습"
      ],
      "id": "9b002c04-3d8e-488a-8409-23558b5893ad"
    },
    {
      "cell_type": "code",
      "execution_count": 18,
      "metadata": {
        "outputId": "57efaaaf-4af1-404f-d4ed-335e69a6194e"
      },
      "outputs": [],
      "source": [
        "m(XXX).reshape(1,2,2)"
      ],
      "id": "f253fa29-e6f1-4e97-b9f2-5d1ecb7e3325"
    },
    {
      "cell_type": "markdown",
      "metadata": {},
      "source": [
        "`-` MaxPool2D layer의 역할: (2,2)윈도우를 만들고 (2,2)윈도우에서 max를\n",
        "뽑아 값을 기록, 윈도우를 움직이면서 반복\n",
        "\n",
        "#### 테스트2"
      ],
      "id": "5cf0052e-4638-47f1-920d-87e4ef979e59"
    },
    {
      "cell_type": "code",
      "execution_count": 20,
      "metadata": {
        "outputId": "fa187d6a-6df5-4799-897b-6b90d0555357"
      },
      "outputs": [],
      "source": [
        "XXX = tnp.arange(1*6*6*1).reshape(1,6,6,1)\n",
        "XXX.reshape(1,6,6)"
      ],
      "id": "a32cd4dc-5ee1-4b06-bfa2-4802662073dc"
    },
    {
      "cell_type": "code",
      "execution_count": 21,
      "metadata": {
        "outputId": "14b7c1d7-6a31-4a61-d3d3-3e3dcfb1ed97"
      },
      "outputs": [],
      "source": [
        "m(XXX).reshape(1,3,3)"
      ],
      "id": "d5022e2c-0ec3-4250-aa43-83f3e4fd0294"
    },
    {
      "cell_type": "markdown",
      "metadata": {},
      "source": [
        "#### 테스트3"
      ],
      "id": "2c75a473-cf9a-4b61-88b7-c4ab6e5fefb1"
    },
    {
      "cell_type": "code",
      "execution_count": 22,
      "metadata": {},
      "outputs": [],
      "source": [
        "m=tf.keras.layers.MaxPool2D(pool_size=(3, 3))"
      ],
      "id": "db7eb3a2-c78c-49ab-a437-f771caecc0b5"
    },
    {
      "cell_type": "code",
      "execution_count": 23,
      "metadata": {
        "outputId": "9f4d6b7e-08e7-45ca-c1c0-14603913a480"
      },
      "outputs": [],
      "source": [
        "XXX = tnp.arange(1*6*6*1).reshape(1,6,6,1)\n",
        "XXX.reshape(1,6,6)"
      ],
      "id": "85a7f0ca-435b-46b9-b8fb-423278d167b7"
    },
    {
      "cell_type": "code",
      "execution_count": 24,
      "metadata": {
        "outputId": "3fd225f9-480c-438f-a816-b63dbd77041e"
      },
      "outputs": [],
      "source": [
        "m(XXX).reshape(1,2,2)"
      ],
      "id": "7e220b5d-b351-4364-8107-0ff98fd916da"
    },
    {
      "cell_type": "markdown",
      "metadata": {},
      "source": [
        "#### 테스트4"
      ],
      "id": "522c12e3-1aa5-4e9f-9c15-d9db57bfc608"
    },
    {
      "cell_type": "code",
      "execution_count": 25,
      "metadata": {},
      "outputs": [],
      "source": [
        "m=tf.keras.layers.MaxPool2D(pool_size=(2, 2))"
      ],
      "id": "bdafc487-20d0-4c13-83c9-e13eb9e14d8a"
    },
    {
      "cell_type": "code",
      "execution_count": 26,
      "metadata": {
        "outputId": "faaddd47-af4a-4e27-e4f3-743224fd5c4f"
      },
      "outputs": [],
      "source": [
        "XXX = tnp.arange(1*5*5*1).reshape(1,5,5,1)\n",
        "XXX.reshape(1,5,5)"
      ],
      "id": "5fdc2953-de7c-4542-b7ff-e177581862da"
    },
    {
      "cell_type": "code",
      "execution_count": 27,
      "metadata": {
        "outputId": "09b4db35-4635-4238-dcfd-524f4ca92b6e"
      },
      "outputs": [],
      "source": [
        "m(XXX).reshape(1,2,2)"
      ],
      "id": "88423b66-9fd6-4a30-a4da-061cbe97017c"
    },
    {
      "cell_type": "code",
      "execution_count": 28,
      "metadata": {},
      "outputs": [],
      "source": [
        "m=tf.keras.layers.MaxPool2D(pool_size=(2, 2),padding=\"same\")"
      ],
      "id": "34b07753-2418-40ca-ac27-870b571a807c"
    },
    {
      "cell_type": "code",
      "execution_count": 29,
      "metadata": {
        "outputId": "f51b5e21-a37d-480a-d0eb-6c9e20e5ec12"
      },
      "outputs": [],
      "source": [
        "XXX = tnp.arange(1*5*5*1).reshape(1,5,5,1)\n",
        "XXX.reshape(1,5,5)"
      ],
      "id": "bf7c74ae-1bf4-4f33-bab3-383d2d6f80be"
    },
    {
      "cell_type": "code",
      "execution_count": 30,
      "metadata": {
        "outputId": "58c6bdf4-68e3-4b54-83b4-b32e3fd63d72"
      },
      "outputs": [],
      "source": [
        "m(XXX).reshape(1,3,3)"
      ],
      "id": "3b485719-ff9d-49b0-a9b4-dbbb391f532e"
    },
    {
      "cell_type": "markdown",
      "metadata": {},
      "source": [
        "#### 테스트5"
      ],
      "id": "398e7e52-96d2-41c5-ad1b-ef27bbb20f20"
    },
    {
      "cell_type": "code",
      "execution_count": 31,
      "metadata": {
        "outputId": "f2af9272-1589-4a68-c94d-b054bde9eb1d"
      },
      "outputs": [],
      "source": [
        "XXX = tnp.arange(2*4*4*1).reshape(2,4,4,1)\n",
        "XXX.reshape(2,4,4)"
      ],
      "id": "e7fe1b09-07f7-4746-8bba-ba589b5603dd"
    },
    {
      "cell_type": "code",
      "execution_count": 32,
      "metadata": {
        "outputId": "bce3176f-2eaf-4476-d3c5-5c70af35cadb"
      },
      "outputs": [],
      "source": [
        "m(XXX).reshape(2,2,2)"
      ],
      "id": "6a9dee7b-22cc-46b9-9d20-757f5c904b43"
    },
    {
      "cell_type": "markdown",
      "metadata": {},
      "source": [
        "#### 테스트6"
      ],
      "id": "e40ef121-64b9-4af4-a90c-b35255c08410"
    },
    {
      "cell_type": "code",
      "execution_count": 33,
      "metadata": {},
      "outputs": [],
      "source": [
        "XXX = tnp.arange(1*4*4*3).reshape(1,4,4,3)"
      ],
      "id": "feba1874-dc57-4fb1-8b4f-99896602cef9"
    },
    {
      "cell_type": "code",
      "execution_count": 34,
      "metadata": {
        "outputId": "457352bc-fd70-47d0-d807-7c7027d68022"
      },
      "outputs": [],
      "source": [
        "XXX[...,0]"
      ],
      "id": "d9e57c14-10d4-405d-aa81-315474f0eedb"
    },
    {
      "cell_type": "code",
      "execution_count": 35,
      "metadata": {
        "outputId": "e4fcfef7-2079-4d87-a65a-a271871b0d83"
      },
      "outputs": [],
      "source": [
        "m(XXX)[...,0]"
      ],
      "id": "14d25cc5-4f2a-404c-9380-f5e9a11a51ed"
    },
    {
      "cell_type": "markdown",
      "metadata": {},
      "source": [
        "### Conv2D\n",
        "\n",
        "#### 테스트1\n",
        "\n",
        "`-` 레이어생성"
      ],
      "id": "e6082505-2fb7-40f4-afad-76f88d2c316f"
    },
    {
      "cell_type": "code",
      "execution_count": 36,
      "metadata": {},
      "outputs": [],
      "source": [
        "cnv = tf.keras.layers.Conv2D(1,(2,2))"
      ],
      "id": "31abec64-855b-4a27-9299-35c9f78ce6ee"
    },
    {
      "cell_type": "markdown",
      "metadata": {},
      "source": [
        "`-` XXX생성"
      ],
      "id": "86c33922-5ad5-4876-949a-0dacca7ac709"
    },
    {
      "cell_type": "code",
      "execution_count": 37,
      "metadata": {
        "outputId": "78d29d11-19fd-47f7-d896-f7fa91e5a09b"
      },
      "outputs": [],
      "source": [
        "XXX = tnp.arange(1*4*4*1,dtype=tf.float64).reshape(1,4,4,1)\n",
        "XXX.reshape(1,4,4)"
      ],
      "id": "1d6b3e52-b510-455c-b1dd-fe3f1a52c2c2"
    },
    {
      "cell_type": "markdown",
      "metadata": {},
      "source": [
        "> <span style=\"color:blue\"> dytpe이 int형이면 에러가 나므로 float형으로\n",
        "> 바꿔주기"
      ],
      "id": "73b51a61-9384-42af-983c-5cc83b03ee5e"
    },
    {
      "cell_type": "code",
      "execution_count": 38,
      "metadata": {
        "outputId": "0fc587eb-182d-45ac-fa64-6dddc95b96d8"
      },
      "outputs": [],
      "source": [
        "cnv(XXX).reshape(1,3,3)"
      ],
      "id": "30114419-cafa-4278-b557-c64c4f20a1a7"
    },
    {
      "cell_type": "markdown",
      "metadata": {},
      "source": [
        "-   XXX에서 cnv(XXX)로 가는 맵핑을 찾는건 쉽지 않아보인다.\n",
        "-   심지어 랜덤으로 결정되는 부분도 있어보임 $\\to$\n",
        "    <span style=\"color:blue\"> 계속 값이 바뀜\n",
        "\n",
        "`-` 코드정리 + 시드통일"
      ],
      "id": "f7b43418-d47d-443d-8e60-97b3021a922d"
    },
    {
      "cell_type": "code",
      "execution_count": 56,
      "metadata": {},
      "outputs": [],
      "source": [
        "tf.random.set_seed(43052)\n",
        "cnv = tf.keras.layers.Conv2D(1,(2,2))\n",
        "XXX = tnp.arange(1*4*4*1,dtype=tf.float64).reshape(1,4,4,1)"
      ],
      "id": "615584b9-7a3a-4064-9ebd-3687a2736bc6"
    },
    {
      "cell_type": "markdown",
      "metadata": {},
      "source": [
        "`-` conv의 입출력"
      ],
      "id": "2167fed4-d0c8-4e29-b313-8274f2ded925"
    },
    {
      "cell_type": "code",
      "execution_count": 57,
      "metadata": {
        "outputId": "bf428e00-17a9-4035-8a00-4bbf78aafa55"
      },
      "outputs": [
        {
          "output_type": "stream",
          "name": "stdout",
          "text": [
            "tf.Tensor(\n",
            "[[[ 0.  1.  2.  3.]\n",
            "  [ 4.  5.  6.  7.]\n",
            "  [ 8.  9. 10. 11.]\n",
            "  [12. 13. 14. 15.]]], shape=(1, 4, 4), dtype=float64)\n",
            "tf.Tensor(\n",
            "[[[ -5.372491  -6.5789    -7.785309]\n",
            "  [-10.198126 -11.404535 -12.610944]\n",
            "  [-15.023762 -16.230171 -17.436579]]], shape=(1, 3, 3), dtype=float32)"
          ]
        }
      ],
      "source": [
        "print(XXX.reshape(1,4,4))\n",
        "print(cnv(XXX).reshape(1,3,3))"
      ],
      "id": "9cb0f4cb-3312-475c-a15c-30581e030e1e"
    },
    {
      "cell_type": "markdown",
      "metadata": {},
      "source": [
        "`-` conv연산 추론"
      ],
      "id": "6d358b75-5fd9-4677-9004-b5fd8482c46c"
    },
    {
      "cell_type": "code",
      "execution_count": 42,
      "metadata": {},
      "outputs": [],
      "source": [
        "type(cnv.weights)"
      ],
      "id": "b41ec6e1-88d0-4bcf-9683-da8b3c8ad714"
    },
    {
      "cell_type": "code",
      "execution_count": 58,
      "metadata": {
        "outputId": "bf8638ba-fc90-4739-cae8-7686559cdf30"
      },
      "outputs": [],
      "source": [
        "tf.reshape(cnv.weights[0],(2,2))"
      ],
      "id": "fb8240bc-4f38-4d35-9eed-b971503ab0e3"
    },
    {
      "cell_type": "code",
      "execution_count": 59,
      "metadata": {
        "outputId": "24d084c1-edcf-4f9d-8713-2d632f7deba9"
      },
      "outputs": [],
      "source": [
        "0 * -0.2408014 + 1 * 0.3118649 + 4 * -0.70300657 + 5 * -0.5744659 + 0"
      ],
      "id": "22a81c5d-6fb5-4b1f-8469-ac003c1d0997"
    },
    {
      "cell_type": "markdown",
      "metadata": {},
      "source": [
        "`-` 내가 정의한 weights를 대입하여 conv 연산 확인"
      ],
      "id": "1b5246a5-8041-4cc5-8feb-46788e4f1ec1"
    },
    {
      "cell_type": "code",
      "execution_count": 61,
      "metadata": {
        "outputId": "db1b9f99-c5ef-4714-882d-cc4e5b5babfb"
      },
      "outputs": [],
      "source": [
        "cnv.get_weights()[0].shape"
      ],
      "id": "661a2dd8-6e85-4d0c-8d6f-d1e89d1221f5"
    },
    {
      "cell_type": "code",
      "execution_count": 62,
      "metadata": {},
      "outputs": [],
      "source": [
        "w = np.array([1/4,1/4,1/4,1/4],dtype=np.float32).reshape(2, 2, 1, 1)\n",
        "b = np.array([3],dtype=np.float32)"
      ],
      "id": "8a049192-d97f-40dd-845f-61bde27ee392"
    },
    {
      "cell_type": "code",
      "execution_count": 63,
      "metadata": {},
      "outputs": [],
      "source": [
        "cnv.set_weights([w,b])"
      ],
      "id": "3f691bc3-d9d2-4506-83ac-1ad69685d5b4"
    },
    {
      "cell_type": "code",
      "execution_count": 64,
      "metadata": {
        "outputId": "d892c545-72ad-481f-ecc5-c11283cc7091"
      },
      "outputs": [],
      "source": [
        "XXX.reshape(1,4,4)"
      ],
      "id": "d0a02431-b115-4e72-8aac-c6ba035f2cdf"
    },
    {
      "cell_type": "code",
      "execution_count": 65,
      "metadata": {
        "outputId": "d0a757c0-fb0e-4d21-9f02-237eb537cafd"
      },
      "outputs": [],
      "source": [
        "cnv(XXX).reshape(1,3,3)"
      ],
      "id": "d85618cb-e820-4fd4-a679-9708be4070d5"
    },
    {
      "cell_type": "code",
      "execution_count": 66,
      "metadata": {
        "outputId": "b201ac46-07af-431f-f417-d0909503e2b3"
      },
      "outputs": [],
      "source": [
        "np.mean([0,1,4,5])+3, np.mean([1,2,5,6])+3, np.mean([2,3,6,7])+3"
      ],
      "id": "548b9b81-85dc-4008-82a5-f14eb3708a75"
    },
    {
      "cell_type": "markdown",
      "metadata": {},
      "source": [
        "#### tf.keras.layers.Conv2D(1,kernel_size=(2,2)) 요약\n",
        "\n",
        "`-` 요약\n",
        "\n",
        "1.  size=(2,2)인 윈도우를 만듬.\n",
        "\n",
        "2.  XXX에 윈도우를 통과시켜서 (2,2)크기의 sub XXX 를 얻음. sub XXX의 각\n",
        "    원소에 conv2d.weights\\[0\\]의 각 원소를 element-wise하게 곱한다.\n",
        "\n",
        "3.  (2)의 결과를 모두 더한다. 그리고 그 결과에 다시\n",
        "    conv2d.weights\\[1\\]을 수행\n",
        "\n",
        "4.  윈도우를 이동시키면서 반복!\n",
        "\n",
        "#### 테스트2\n",
        "\n",
        "`-` 레이어와 XXX생성"
      ],
      "id": "e247d06c-94ba-45eb-9fd6-244396d28fd7"
    },
    {
      "cell_type": "code",
      "execution_count": 70,
      "metadata": {},
      "outputs": [],
      "source": [
        "tf.random.set_seed(43052)\n",
        "cnv = tf.keras.layers.Conv2D(1,(3,3))\n",
        "XXX = tnp.arange(1*5*5*1,dtype=tf.float64).reshape(1,5,5,1)"
      ],
      "id": "7a669c76-4b8c-487c-b3cd-bad69c3537cf"
    },
    {
      "cell_type": "code",
      "execution_count": 71,
      "metadata": {
        "outputId": "82b26c2c-eccf-4980-bb20-5e5997e9f41a"
      },
      "outputs": [],
      "source": [
        "XXX.reshape(1,5,5) ## 입력: XXX"
      ],
      "id": "e45c7cd8-23b4-4df2-b358-dd542d6c81b2"
    },
    {
      "cell_type": "code",
      "execution_count": 74,
      "metadata": {
        "outputId": "4cfdf017-b76b-4a63-e26a-d7d5b977f699"
      },
      "outputs": [],
      "source": [
        "cnv(XXX).reshape(1,3,3) ## 출력: conv(XXX)"
      ],
      "id": "88b90786-2370-49c9-b02e-5cae590f1fc5"
    },
    {
      "cell_type": "code",
      "execution_count": 76,
      "metadata": {
        "outputId": "ac10207b-1a26-4c11-9ff4-7991b6e168a2"
      },
      "outputs": [],
      "source": [
        "tf.reshape(cnv.weights[0],(1,3,3)) ## 커널의 가중치"
      ],
      "id": "53796db5-e9b9-484b-8698-75b1fd4e894d"
    },
    {
      "cell_type": "code",
      "execution_count": 77,
      "metadata": {
        "outputId": "2876f722-ff84-4357-9398-7e09546dd735"
      },
      "outputs": [],
      "source": [
        "tf.reduce_sum(XXX.reshape(1,5,5)[0,:3,:3] * tf.reshape(cnv.weights[0],(3,3)))"
      ],
      "id": "67a4337a-4640-4a07-8622-c55c870ade0a"
    },
    {
      "cell_type": "markdown",
      "metadata": {},
      "source": [
        "#### 테스트3\n",
        "\n",
        "![](https://github.com/guebin/2021BDA/blob/master/_notebooks/2021-11-04-conv.png?raw=true)"
      ],
      "id": "09eb7334-69fe-4f02-8f87-7a0306e24f90"
    },
    {
      "cell_type": "code",
      "execution_count": 78,
      "metadata": {
        "outputId": "c14e2299-9e45-48ce-b6ab-035c6b194c00"
      },
      "outputs": [],
      "source": [
        "XXX = tf.constant([[3,3,2,1,0],[0,0,1,3,1],[3,1,2,2,3],[2,0,0,2,2],[2,0,0,0,1]],dtype=tf.float64).reshape(1,5,5,1)\n",
        "XXX.reshape(1,5,5)"
      ],
      "id": "a30e90e8-aa36-4cc7-af7e-cc79647cc9dc"
    },
    {
      "cell_type": "code",
      "execution_count": 79,
      "metadata": {},
      "outputs": [],
      "source": [
        "cnv = tf.keras.layers.Conv2D(1,(3,3))"
      ],
      "id": "411acaf9-6713-4a38-a4e1-92a917db70dc"
    },
    {
      "cell_type": "code",
      "execution_count": 80,
      "metadata": {
        "outputId": "bf40962c-04cb-47b8-fb0a-b2d560aa6215"
      },
      "outputs": [],
      "source": [
        "cnv.weights"
      ],
      "id": "6885e48b-4041-49fd-a070-dd6372c733fc"
    },
    {
      "cell_type": "markdown",
      "metadata": {},
      "source": [
        "> <span style=\"color:blue\"> 처음엔 weights가 없다가"
      ],
      "id": "9443ff11-0ce8-431c-a441-0f1ed804b5b1"
    },
    {
      "cell_type": "code",
      "execution_count": 81,
      "metadata": {
        "outputId": "954b656a-5a29-484b-b5e2-0b34044c15b0"
      },
      "outputs": [],
      "source": [
        "cnv(XXX).reshape(1,3,3)"
      ],
      "id": "9f9d6290-d5a3-439e-b70e-3714b2928fbb"
    },
    {
      "cell_type": "code",
      "execution_count": 82,
      "metadata": {
        "outputId": "cc921f6a-7453-4cb6-fce6-f8f54a8bb25c"
      },
      "outputs": [],
      "source": [
        "cnv.weights[0]"
      ],
      "id": "77c800c1-773f-4c3c-a816-4b247684bfed"
    },
    {
      "cell_type": "markdown",
      "metadata": {},
      "source": [
        "> <span style=\"color:blue\"> XXX가 cnv를 통과하면서 weights가 생긴다."
      ],
      "id": "e63ceb6c-9335-49a9-ba39-1d727f387b39"
    },
    {
      "cell_type": "code",
      "execution_count": 86,
      "metadata": {},
      "outputs": [],
      "source": [
        "_w = tf.constant([[0,1,2],[2,2,0],[0,1,2]],dtype=tf.float64).reshape(3,3,1,1)\n",
        "_b = tf.constant([0],dtype=tf.float64)"
      ],
      "id": "024913a8-7f7a-4556-8eac-e95e9fe9a335"
    },
    {
      "cell_type": "code",
      "execution_count": 87,
      "metadata": {},
      "outputs": [],
      "source": [
        "cnv.set_weights([_w,_b])"
      ],
      "id": "7a5c9991-d011-425c-8922-e27fbe915289"
    },
    {
      "cell_type": "code",
      "execution_count": 88,
      "metadata": {
        "outputId": "dc9881b3-b97a-4a0a-e7cd-33b0e8a2a49e"
      },
      "outputs": [],
      "source": [
        "cnv(XXX).reshape(1,3,3)"
      ],
      "id": "ba1bddad-9bf5-4489-a730-db41cada6197"
    },
    {
      "cell_type": "markdown",
      "metadata": {},
      "source": [
        "#### 테스트4"
      ],
      "id": "48dbaa42-9e96-4941-b076-39303f4d4ad9"
    },
    {
      "cell_type": "code",
      "execution_count": 89,
      "metadata": {},
      "outputs": [],
      "source": [
        "tf.random.set_seed(43052)\n",
        "cnv = tf.keras.layers.Conv2D(1,(2,2))\n",
        "XXX = tnp.arange(2*5*5*1,dtype=tf.float64).reshape(2,5,5,1)"
      ],
      "id": "d8c19f60-8f35-4cde-8b69-649d5d994322"
    },
    {
      "cell_type": "code",
      "execution_count": 90,
      "metadata": {
        "outputId": "a7bc1461-0a6b-4f0a-f030-371c53607d77"
      },
      "outputs": [
        {
          "output_type": "stream",
          "name": "stdout",
          "text": [
            "tf.Tensor(\n",
            "[[[ 0.  1.  2.  3.  4.]\n",
            "  [ 5.  6.  7.  8.  9.]\n",
            "  [10. 11. 12. 13. 14.]\n",
            "  [15. 16. 17. 18. 19.]\n",
            "  [20. 21. 22. 23. 24.]]\n",
            "\n",
            " [[25. 26. 27. 28. 29.]\n",
            "  [30. 31. 32. 33. 34.]\n",
            "  [35. 36. 37. 38. 39.]\n",
            "  [40. 41. 42. 43. 44.]\n",
            "  [45. 46. 47. 48. 49.]]], shape=(2, 5, 5), dtype=float64)\n",
            "tf.Tensor(\n",
            "[[[ 6.  7.  8.  9.]\n",
            "  [11. 12. 13. 14.]\n",
            "  [16. 17. 18. 19.]\n",
            "  [21. 22. 23. 24.]]\n",
            "\n",
            " [[31. 32. 33. 34.]\n",
            "  [36. 37. 38. 39.]\n",
            "  [41. 42. 43. 44.]\n",
            "  [46. 47. 48. 49.]]], shape=(2, 4, 4), dtype=float32)"
          ]
        }
      ],
      "source": [
        "print(XXX.reshape(2,5,5))\n",
        "cnv(XXX) # weights를 초기화 시키기 위해서 레이어를 1회 통과\n",
        "cnv.set_weights([w,b])\n",
        "print(cnv(XXX).reshape(2,4,4))"
      ],
      "id": "493c58f5-4163-414b-a293-284882e303e8"
    },
    {
      "cell_type": "code",
      "execution_count": 91,
      "metadata": {
        "outputId": "f737c8e3-b26d-41b5-9236-e89d9bd8138a"
      },
      "outputs": [],
      "source": [
        "np.mean([0,1,5,6])+3,np.mean([25,26,30,31])+3,"
      ],
      "id": "b51b503e-740c-4699-a029-7ddc841fcb86"
    },
    {
      "cell_type": "markdown",
      "metadata": {},
      "source": [
        "#### 테스트5\n",
        "\n",
        "`-`"
      ],
      "id": "fcf8ce22-df8d-41b8-8ac7-5ed77393bd03"
    },
    {
      "cell_type": "code",
      "execution_count": 92,
      "metadata": {},
      "outputs": [],
      "source": [
        "tf.random.set_seed(43052)\n",
        "cnv = tf.keras.layers.Conv2D(4,(2,2),activation='relu')\n",
        "XXX = tnp.arange(1*2*2*1,dtype=tf.float64).reshape(1,2,2,1)"
      ],
      "id": "f3d31496-0191-4837-a0c5-4eeec53111b5"
    },
    {
      "cell_type": "code",
      "execution_count": 93,
      "metadata": {
        "outputId": "b9f90497-5c52-4e0e-fa09-b42f70b4207d"
      },
      "outputs": [
        {
          "output_type": "stream",
          "name": "stdout",
          "text": [
            "tf.Tensor(\n",
            "[[[0. 1.]\n",
            "  [2. 3.]]], shape=(1, 2, 2), dtype=float64)"
          ]
        }
      ],
      "source": [
        "print(XXX.reshape(1,2,2))"
      ],
      "id": "8d18d8aa-93d7-4e58-bc9a-171551fc144e"
    },
    {
      "cell_type": "code",
      "execution_count": 94,
      "metadata": {
        "outputId": "6ccf7974-4e01-41c7-94d4-8fbc5c34e52f"
      },
      "outputs": [],
      "source": [
        "cnv(XXX)"
      ],
      "id": "59842396-9eea-4d17-b92b-82fdfdad144e"
    },
    {
      "cell_type": "code",
      "execution_count": 95,
      "metadata": {
        "outputId": "991917a5-ea9f-422b-d494-543132595d98"
      },
      "outputs": [],
      "source": [
        "cnv.weights[0] # (2,2) 커널의 크기 // 1은 XXX의 채널수 // 4는 conv(XXX)의 채널수"
      ],
      "id": "aafcd364-c4b4-44b5-89df-20480f566b31"
    },
    {
      "cell_type": "code",
      "execution_count": null,
      "metadata": {
        "outputId": "3f06e82d-ae52-4b53-e6fd-fcfe1e48ce15"
      },
      "outputs": [],
      "source": [
        "cnv.weights[0][...,0].reshape(2,2) ## conv(XXX)의 첫번째채널 출력을 얻기 위해 곱해지는 w"
      ],
      "id": "6a8abf9a-a7d0-4dfd-b9f2-8c657f913683"
    },
    {
      "cell_type": "code",
      "execution_count": null,
      "metadata": {
        "outputId": "55f24212-1ffb-47eb-8dc6-d2089cfef3ac"
      },
      "outputs": [],
      "source": [
        "tf.reduce_sum(XXX.reshape(1,2,2) * cnv.weights[0][...,0].reshape(2,2)) ### conv(XXX)의 첫번째 채널 출력결과"
      ],
      "id": "171f2ae5-06d9-450b-ac15-9723db067f63"
    },
    {
      "cell_type": "markdown",
      "metadata": {},
      "source": [
        "`-` 계산결과를 확인하기 쉽게 하기 위한 약간의 트릭"
      ],
      "id": "f001336f-7d4b-4267-8fed-f9b251ec111c"
    },
    {
      "cell_type": "code",
      "execution_count": null,
      "metadata": {},
      "outputs": [],
      "source": [
        "tf.random.set_seed(43052)\n",
        "cnv = tf.keras.layers.Conv2D(4,(2,2))\n",
        "XXX = tnp.array([1]*1*2*2*1,dtype=tf.float64).reshape(1,2,2,1)"
      ],
      "id": "4937eecd-dbdc-4d14-aac1-7e9583e36494"
    },
    {
      "cell_type": "code",
      "execution_count": null,
      "metadata": {
        "outputId": "d5c13ed8-04c1-4b9e-800e-b88db4cf0fd3"
      },
      "outputs": [
        {
          "output_type": "stream",
          "name": "stdout",
          "text": [
            "tf.Tensor(\n",
            "[[[1. 1.]\n",
            "  [1. 1.]]], shape=(1, 2, 2), dtype=float64)"
          ]
        }
      ],
      "source": [
        "print(XXX.reshape(1,2,2))"
      ],
      "id": "f863a7f9-2b8a-4bbc-82fc-653b8b30aab4"
    },
    {
      "cell_type": "markdown",
      "metadata": {},
      "source": [
        "-   이렇게 XXX를 설정하면 cnv(XXX)의 결과는 단지 cnv의 weight들의 sum이\n",
        "    된다."
      ],
      "id": "b4f4a79c-39f4-474d-8942-023bbb53de57"
    },
    {
      "cell_type": "code",
      "execution_count": null,
      "metadata": {
        "outputId": "cbcdd4e0-e9da-41b7-c0d0-69e7c42df5a4"
      },
      "outputs": [],
      "source": [
        "cnv(XXX)"
      ],
      "id": "24b6931e-771b-4378-9400-c531a06e806e"
    },
    {
      "cell_type": "code",
      "execution_count": null,
      "metadata": {
        "outputId": "daa7ee0b-a28a-4a58-f5c6-89daefc89486"
      },
      "outputs": [],
      "source": [
        "cnv.weights[0] # (2,2) 커널의 크기 // 1은 XXX의 채널수 // 4는 conv(XXX)의 채널수"
      ],
      "id": "149d1945-22f0-49c9-827f-8b7f2cfab22c"
    },
    {
      "cell_type": "code",
      "execution_count": null,
      "metadata": {
        "outputId": "1a39464a-2dfd-4eb1-f4bb-3caf61f56131"
      },
      "outputs": [],
      "source": [
        "cnv.weights[0][...,0].reshape(2,2) ## conv(XXX)의 첫번째채널 출력을 얻기 위해 곱해지는 w"
      ],
      "id": "8cbe2c4d-a2ac-4e39-8c1d-729cd67df45b"
    },
    {
      "cell_type": "code",
      "execution_count": null,
      "metadata": {
        "outputId": "6ab4f41e-ec5c-4545-9d4c-98b75fa90061"
      },
      "outputs": [],
      "source": [
        "tf.reduce_sum(cnv.weights[0][...,0])\n",
        "#tf.reduce_sum(XXX.reshape(1,2,2) * cnv.weights[0][...,0].reshape(2,2)) ### conv(XXX)의 첫번째 채널 출력결과"
      ],
      "id": "e856dd07-3bc6-4559-976a-41519708c305"
    },
    {
      "cell_type": "markdown",
      "metadata": {},
      "source": [
        "#### 테스트6\n",
        "\n",
        "`-` 결과확인을 쉽게하기 위해서 XXX를 1로 통일"
      ],
      "id": "5cf384e0-de4a-4ce7-b6cd-705620e714d3"
    },
    {
      "cell_type": "code",
      "execution_count": null,
      "metadata": {},
      "outputs": [],
      "source": [
        "tf.random.set_seed(43052)\n",
        "cnv = tf.keras.layers.Conv2D(4,(2,2))\n",
        "XXX = tnp.array([1]*1*2*2*3,dtype=tf.float64).reshape(1,2,2,3)"
      ],
      "id": "f3f12488-e6af-477a-ba2b-5fe1dbb14e97"
    },
    {
      "cell_type": "code",
      "execution_count": null,
      "metadata": {
        "outputId": "d5f4d662-b46a-48cf-a4a6-f467b236fdbb"
      },
      "outputs": [],
      "source": [
        "cnv(XXX)"
      ],
      "id": "c11e8203-092e-4970-89e6-c3183c6ae2b5"
    },
    {
      "cell_type": "code",
      "execution_count": null,
      "metadata": {
        "outputId": "4413d810-6df5-4828-8044-7ddae8b72cce"
      },
      "outputs": [],
      "source": [
        "cnv.weights[0] ## (2,2)는 커널의 사이즈 // 3은 XXX의채널 // 4는 cnv(XXX)의 채널"
      ],
      "id": "92d999eb-148c-4bc5-a11d-a53e90c560c1"
    },
    {
      "cell_type": "code",
      "execution_count": null,
      "metadata": {
        "outputId": "cbde156e-f638-4a3e-bf67-6b76d95b73e5"
      },
      "outputs": [],
      "source": [
        "cnv.weights[0][...,0] ## cnv(XXX)의 첫번째 채널결과를 얻기 위해서 사용하는 w"
      ],
      "id": "c0bdec5e-4dfe-428a-bd34-03808c230243"
    },
    {
      "cell_type": "code",
      "execution_count": null,
      "metadata": {
        "outputId": "b5647639-9ebc-45e9-85cc-dddb17e351d2"
      },
      "outputs": [],
      "source": [
        "tf.reduce_sum(cnv.weights[0][...,0]) ### cnv(XXX)의 첫번째 채널의 결과"
      ],
      "id": "04d9bee0-6efc-48f0-aca9-6fe5b1eb9b68"
    },
    {
      "cell_type": "code",
      "execution_count": null,
      "metadata": {
        "outputId": "252aa9fc-4c69-4a6a-c7fb-e8096d8874f3"
      },
      "outputs": [
        {
          "output_type": "stream",
          "name": "stdout",
          "text": [
            "tf.Tensor(0.32976213, shape=(), dtype=float32)\n",
            "tf.Tensor(-0.44983464, shape=(), dtype=float32)\n",
            "tf.Tensor(-1.0487392, shape=(), dtype=float32)\n",
            "tf.Tensor(-1.5800952, shape=(), dtype=float32)"
          ]
        }
      ],
      "source": [
        "print(tf.reduce_sum(cnv.weights[0][...,0]))\n",
        "print(tf.reduce_sum(cnv.weights[0][...,1]))\n",
        "print(tf.reduce_sum(cnv.weights[0][...,2]))\n",
        "print(tf.reduce_sum(cnv.weights[0][...,3])) ### cnv(XXX)의 결과"
      ],
      "id": "f45cb0dc-36c7-495d-a260-5134667ea78e"
    },
    {
      "cell_type": "code",
      "execution_count": null,
      "metadata": {},
      "outputs": [],
      "source": [
        "w_red = cnv.weights[0][...,0][...,0]\n",
        "w_green = cnv.weights[0][...,0][...,1]\n",
        "w_blue = cnv.weights[0][...,0][...,2]"
      ],
      "id": "31045978-ddae-4bf4-9cc3-19b6dd1e521c"
    },
    {
      "cell_type": "code",
      "execution_count": null,
      "metadata": {
        "outputId": "d96821d6-e1ff-47c3-bd12-fa07212a0ff0"
      },
      "outputs": [],
      "source": [
        "tf.reduce_sum(XXX[...,0] * w_red + XXX[...,1] * w_green + XXX[...,2] * w_blue) ## cnv(XXX)의 첫채널 출력결과"
      ],
      "id": "10923f38-bc02-4338-9a26-d2a49820e74c"
    },
    {
      "cell_type": "markdown",
      "metadata": {},
      "source": [
        "### hw\n",
        "\n",
        "아래와 같은 흑백이미지가 있다고 하자.\n",
        "\n",
        "    0 0 0 1 1 1\n",
        "    0 0 0 1 1 1\n",
        "    0 0 0 1 1 1\n",
        "    0 0 0 1 1 1\n",
        "    0 0 0 1 1 1\n",
        "    0 0 0 1 1 1\n",
        "\n",
        "위의 이미지에 아래와 같은 weight를 가진 필터를 적용하여 convolution한\n",
        "결과를 계산하라. (bias는 0으로 가정한다)\n",
        "\n",
        "    -1 1\n",
        "    -1 1"
      ],
      "id": "88afad32-f66a-4e4f-8fdb-aa37371853e3"
    }
  ],
  "nbformat": 4,
  "nbformat_minor": 5,
  "metadata": {
    "colab": {
      "provenance": []
    },
    "kernelspec": {
      "name": "python3",
      "display_name": "Python 3 (ipykernel)",
      "language": "python"
    },
    "language_info": {
      "name": "python",
      "codemirror_mode": {
        "name": "ipython",
        "version": "3"
      },
      "file_extension": ".py",
      "mimetype": "text/x-python",
      "nbconvert_exporter": "python",
      "pygments_lexer": "ipython3",
      "version": "3.8.16"
    }
  }
}