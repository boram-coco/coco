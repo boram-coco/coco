{
  "cells": [
    {
      "cell_type": "markdown",
      "metadata": {},
      "source": [
        "# \\[STBDA\\] 10wk: softmax function, 평가지표, flatten layer\n",
        "\n",
        "김보람  \n",
        "2023-07-12\n",
        "\n",
        "> 해당 강의노트는 전북대학교 최규빈교수님\n",
        "> [STBDA2022](https://guebin.github.io/STBDA2022/) 자료임\n",
        "\n",
        "## imports"
      ],
      "id": "f49de851-a7c4-48ba-b0b6-a71e55d71975"
    },
    {
      "cell_type": "code",
      "execution_count": 4,
      "metadata": {},
      "outputs": [],
      "source": [
        "import tensorflow as tf\n",
        "import matplotlib.pyplot as plt\n",
        "import numpy as np\n",
        "import tensorflow.experimental.numpy as tnp"
      ],
      "id": "0cfeb127-a213-48dd-a815-12298b527b46"
    },
    {
      "cell_type": "code",
      "execution_count": 2,
      "metadata": {},
      "outputs": [],
      "source": [
        "tnp.experimental_enable_numpy_behavior()"
      ],
      "id": "7940de87-5af9-4414-8df2-5dbcb45cb57c"
    },
    {
      "cell_type": "code",
      "execution_count": 3,
      "metadata": {
        "outputId": "f6758ecf-0473-446e-f862-415b3b8dcfb8"
      },
      "outputs": [],
      "source": [
        "tf.config.experimental.list_physical_devices()"
      ],
      "id": "563ebbbc-be73-4d4e-be5e-557d46f512f3"
    },
    {
      "cell_type": "code",
      "execution_count": 5,
      "metadata": {},
      "outputs": [],
      "source": [
        "import graphviz\n",
        "def gv(s): return graphviz.Source('digraph G{ rankdir=\"LR\"'+ s + ';}')"
      ],
      "id": "57a9ce84-9d59-4927-90b1-4e0e2f0fc41e"
    },
    {
      "cell_type": "markdown",
      "metadata": {},
      "source": [
        "## softmax function\n",
        "\n",
        "### 로지스틱 모형 (1): 활성화함수로 sigmoid 선택\n",
        "\n",
        "`-` 기본버전은 아래와 같다\n",
        "\n",
        "$$y_i \\approx \\text{sigmoid}(b + w_1 x_{1,i} + \\dots + w_{784}x_{784,i})= \\frac{\\exp(b + w_1 x_{1,i} + \\dots + w_{784}x_{784,i})}{1+\\exp(b + w_1 x_{1,i} + \\dots + w_{784}x_{784,i})}$$\n",
        "\n",
        "`-` 벡터버전은 아래와 같다.\n",
        "\n",
        "$${\\boldsymbol y} \\approx \\text{sigmoid}({\\bf X}{\\bf W} + b) = \\frac{\\exp({\\bf XW} +b)}{1+\\exp({\\bf XW} +b)}$$\n",
        "\n",
        "`-` 벡터버전에 익숙해지도록 하자. 벡터버전에 사용된 차원 및 연산을\n",
        "정리하면 아래와 같다.\n",
        "\n",
        "-   ${\\bf X}$: (n,784) matrix\n",
        "\n",
        "-   ${\\boldsymbol y}$: (n,1) matrix\n",
        "\n",
        "-   ${\\bf W}$: (784,1) matrix\n",
        "\n",
        "-   $b$: (1,1) matrix\n",
        "\n",
        "-   `+`, `exp` 는 브로드캐스팅\n",
        "\n",
        "### 로지스틱 모형 (2): 활성화함수로 softmax 선택\n",
        "\n",
        "`-` $y_i=0 \\text{ or } 1$ 대신에\n",
        "$\\boldsymbol{y}_i=[y_{i1},y_{i2}]= [1,0] \\text { or } [0,1]$와 같이\n",
        "코딩하면 어떠할까? (즉 원핫인코딩을 한다면?)\n",
        "\n",
        "`-` 활성화 함수를 취하기 전의 버전은 아래와 같이 볼 수 있다.\n",
        "\n",
        "$$[{\\boldsymbol y}_1 ~ {\\boldsymbol y}_2] \\propto  [ {\\bf X}{\\bf W}_1  ~ {\\bf X}{\\bf W}_2] + [b_1 ~ b_2]= {\\bf X} [{\\bf W}_1 {\\bf W}_2] + [b_1 ~ b_2]= {\\bf X}{\\bf W} + {\\boldsymbol b}$$\n",
        "\n",
        "여기에서 매트릭스 및 연산의 차원을 정리하면 아래와 같다.\n",
        "\n",
        "-   ${\\bf X}$: (n,784) matrix\n",
        "\n",
        "-   ${\\boldsymbol y}_1,{\\boldsymbol y}_2$: (n,1) matrix\n",
        "\n",
        "-   ${\\boldsymbol y}:=[{\\boldsymbol y}_1~ {\\boldsymbol y}_2]$: (n,2)\n",
        "    matrix\n",
        "\n",
        "-   ${\\bf W}_1$, ${\\bf W}_2$: (784,1) matrix\n",
        "\n",
        "-   ${\\bf W}:=[{\\bf W}_1~ {\\bf W}_2]$: (784,2) matrix\n",
        "\n",
        "-   $b_1,b_2$: (1,1) matrix\n",
        "\n",
        "-   \\$:= \\[b_1 ~b_2\\] \\$: (1,2) matrix\n",
        "\n",
        "-   `+` 는 브로드캐스팅\n",
        "\n",
        "`-` 즉 로지스틱 모형 (1)의 형태를 겹쳐놓은 형태로 해석할 수 있음. 따라서\n",
        "${\\bf X} {\\bf W}_1 + b_1$와 ${\\bf X} {\\bf W}_2 + b_2$의 row값이 클수록\n",
        "${\\boldsymbol y}_1$와 ${\\boldsymbol y}_2$의 row값이 1이어야 함\n",
        "\n",
        "-   ${\\boldsymbol y}_1 \\propto {\\bf X} {\\bf W}_1 + b_1$ $\\to$\n",
        "    ${\\bf X} {\\bf W}_1 + b_1$의 row값이 클수록 $\\boldsymbol{y}_1$의 row\n",
        "    값이 1이라면 모형계수를 잘 추정한것\n",
        "-   ${\\boldsymbol y}_2 \\propto {\\bf X} {\\bf W}_2 + b_2$ $\\to$\n",
        "    ${\\bf X} {\\bf W}_2 + b_2$의 row값이 클수록 $\\boldsymbol{y}_2$의 row\n",
        "    값을 1이라면 모형계수를 잘 추정한것\n",
        "\n",
        "`-` (문제) ${\\bf X}{\\bf W}_1 +b_1$의 값이 500, ${\\bf X}{\\bf W}_2 +b_2$의\n",
        "값이 200 인 row가 있다고 하자. 대응하는\n",
        "$\\boldsymbol{y}_1, \\boldsymbol{y}_2$의 row값은 얼마로 적합되어야 하는가?\n",
        "\n",
        "1.  $[0,0]$\n",
        "\n",
        "2.  $[0,1]$\n",
        "\n",
        "3.  $[1,0]$ \\<– 이게 답이다!\n",
        "\n",
        "4.  $[1,1]$\n",
        "\n",
        "> note: 둘다 0 혹은 둘다 1로 적합할수는 없으니까 (1), (4)는 제외한다.\n",
        "> ${\\bf X}{\\bf W}_1 +b_1$의 값이 ${\\bf X}{\\bf W}_2 +b_2$의 값보다 크므로\n",
        "> (3)번이 합리적임\n",
        "\n",
        "`-` **목표:** 위와 같은 문제의 답을 유도해주는 활성화함수를 설계하자. 즉\n",
        "합리적인 $\\hat{\\boldsymbol{y}}_1,\\hat{\\boldsymbol{y}}_2$를 구해주는\n",
        "활성화 함수를 설계해보자. 이를 위해서는 아래의 사항들이 충족되어야 한다.\n",
        "\n",
        "1.  $\\hat{\\boldsymbol{y}}_1$, $\\hat{\\boldsymbol{y}}_2$의 각 원소는 0보다\n",
        "    크고 1보다 작아야 한다. (확률을 의미해야 하니까)\n",
        "\n",
        "2.  $\\hat{\\boldsymbol{y}}_1+\\hat{\\boldsymbol{y}}_2={\\bf 1}$ 이어야 한다.\n",
        "    (확률의 총합은 1이니까!)\n",
        "\n",
        "3.  $\\hat{\\boldsymbol{y}}_1$와 $\\hat{\\boldsymbol{y}}_2$를 각각\n",
        "    따로해석하면 로지스틱처럼 되면 좋겠다.\n",
        "\n",
        "`-` 아래와 같은 활성화 함수를 도입하면 어떨까?\n",
        "\n",
        "$$\\hat{\\boldsymbol{y}}=[\\hat{\\boldsymbol y}_1 ~ \\hat{\\boldsymbol y}_2] =  \\big[ \\frac{\\exp({\\bf X}\\hat{\\bf W}_1+\\hat{b}_1)}{\\exp({\\bf X}\\hat{\\bf W}_1+\\hat{b}_1)+\\exp({\\bf X}\\hat{\\bf W}_2+\\hat{b}_2)}  ~~ \\frac{\\exp({\\bf X}\\hat{\\bf W}_2+\\hat{b}_2)}{\\exp({\\bf X}\\hat{\\bf W}_1+\\hat{b}_1)+\\exp({\\bf X}\\hat{\\bf W}_2+\\hat{b}_2)}  \\big]$$\n",
        "\n",
        "`-` (1),(2)는 만족하는 듯 하다. (3)은 바로 이해되지는 않는다\n",
        "\n",
        "1.  $\\hat{\\boldsymbol{y}}_1$, $\\hat{\\boldsymbol{y}}_2$의 각 원소는 0보다\n",
        "    크고 1보다 작아야 한다. –\\> OK!\n",
        "\n",
        "2.  $\\hat{\\boldsymbol{y}}_1+\\hat{\\boldsymbol{y}}_2={\\bf 1}$ 이어야 한다.\n",
        "    –\\> OK!\n",
        "\n",
        "3.  $\\hat{\\boldsymbol{y}}_1$와 $\\hat{\\boldsymbol{y}}_2$를 각각\n",
        "    따로해석하면 로지스틱처럼 되면 좋겠다. –\\> ???\n",
        "\n",
        "`-` 그런데 조금 따져보면 (3)도 만족된다는 것을 알 수 있다. (sigmoid,\n",
        "softmax Section 참고)\n",
        "\n",
        "`-` 위와 같은 함수를 softmax라고 하자. 즉 아래와 같이 정의하자.\n",
        "\n",
        "$$\n",
        "\\hat{\\boldsymbol y} = \\text{softmax}({\\bf X}\\hat{\\bf W} + {\\boldsymbol b})\n",
        "= \\big[ \\frac{\\exp({\\bf X}\\hat{\\bf W}_1+\\hat{b}_1)}{\\exp({\\bf X}\\hat{\\bf W}_1+\\hat{b}_1)+\\exp({\\bf X}\\hat{\\bf W}_2+\\hat{b}_2)}  ~~ \\frac{\\exp({\\bf X}\\hat{\\bf W}_2+\\hat{b}_2)}{\\exp({\\bf X}\\hat{\\bf W}_1+\\hat{b}_1)+\\exp({\\bf X}\\hat{\\bf W}_2+\\hat{b}_2)}  \\big]\n",
        "$$\n",
        "\n",
        "### sigmoid, softmax\n",
        "\n",
        "#### **softmax는 sigmoid의 확장형**\n",
        "\n",
        "`-` 아래의 수식을 관찰하자.\n",
        "$$\\frac{\\exp(\\beta_0+\\beta_1 x_i)}{1+\\exp(\\beta_0+\\beta_1x_i)}=\\frac{\\exp(\\beta_0+\\beta_1 x_i)}{e^0+\\exp(\\beta_0+\\beta_1x_i)}$$\n",
        "\n",
        "`-` 1을 $e^0$로 해석하면 모형2의 해석을 아래와 같이 모형1의 해석으로\n",
        "적용할수 있다. - 모형2: ${\\bf X}\\hat{\\bf W}_1 +\\hat{b}_1$ 와\n",
        "${\\bf X}\\hat{\\bf W}_2 +\\hat{b}_2$ 의 크기를 비교하고 확률 결정 - 모형1:\n",
        "${\\bf X}\\hat{\\bf W} +\\hat{b}$ 와 $0$의 크기를 비교하고 확률 결정 =\n",
        "${\\bf X}\\hat{\\bf W} +\\hat{b}$의 row값이 양수이면 1로 예측하고 음수이면\n",
        "0으로 예측\n",
        "\n",
        "`-` 이항분포를 차원이 2인 다항분포로 해석가능한 것처럼 sigmoid는 차원이\n",
        "2인 softmax로 해석가능하다. 즉 다항분포가 이항분포의 확장형으로\n",
        "해석가능한 것처럼 softmax도 sigmoid의 확장형으로 해석가능하다.\n",
        "\n",
        "#### **클래스의 수가 2인 경우 softmax vs sigmoid**\n",
        "\n",
        "`-` 언뜻 생각하면 클래스가 2인 경우에도 sigmoid 대신 softmax로\n",
        "활성화함수를 이용해도 될 듯 하다. 즉 $y=0 \\text{ or } 1$와 같이 정리하지\n",
        "않고 $y=[0,1] \\text{ or } [1,0]$ 와 같이 정리해도 무방할 듯 하다.\n",
        "\n",
        "`-` 하지만 sigmoid가 좀 더 좋은 선택이다. 즉 $y= 0 \\text{ or } 1$로\n",
        "데이터를 정리하는 것이 더 좋은 선택이다. 왜냐하면 sigmoid는 softmax와\n",
        "비교하여 파라메터의 수가 적지만 표현력은 동등하기 때문이다.\n",
        "\n",
        "`-` 표현력이 동등한 이유? 아래 수식을 관찰하자.\n",
        "\n",
        "$$\\big(\\frac{e^{300}}{e^{300}+e^{500}},\\frac{e^{500}}{e^{300}+e^{500}}\\big) =\\big( \\frac{e^{0}}{e^{0}+e^{200}}, \\frac{e^{200}}{e^{0}+e^{200}}\\big)$$\n",
        "\n",
        "-   $\\big(\\frac{e^{300}}{e^{300}+e^{500}},\\frac{e^{500}}{e^{300}+e^{500}}\\big)$를\n",
        "    표현하기 위해서 300, 500 이라는 2개의 숫자가 필요한것이 아니고\n",
        "    따지고보면 200이라는 하나의 숫자만 필요하다.\n",
        "-   $(\\hat{\\boldsymbol{y}}_1,\\hat{\\boldsymbol{y}}_2)$의 표현에서도\n",
        "    ${\\bf X}\\hat{\\bf W}_1 +\\hat{b}_1$ 와\n",
        "    ${\\bf X}\\hat{\\bf W}_2 +\\hat{b}_2$ 라는 숫자 각각이 필요한 것이\n",
        "    아니고\n",
        "    $({\\bf X}\\hat{\\bf W}_1 +\\hat{b}_1)-({\\bf X}\\hat{\\bf W}_2 +\\hat{b}_2)$의\n",
        "    값만 알면 된다.\n",
        "\n",
        "`-` 클래스의 수가 2개일 경우는 softmax가 sigmoid에 비하여 장점이 없다.\n",
        "하지만 softmax는 클래스의 수가 3개 이상일 경우로 쉽게 확장할 수 있다는\n",
        "점에서 매력적인 활성화 함수이다.\n",
        "\n",
        "### 분류할 클래스가 3개 이상일 경우 신경망 모형의 설계\n",
        "\n",
        "`-` y의 모양: \\[0 1 0 0 0 0 0 0 0 0\\]\n",
        "\n",
        "`-` 활성화함수의 선택: softmax\n",
        "\n",
        "`-` 손실함수의 선택: cross entropy\n",
        "\n",
        "### Fashion_MNIST 여러클래스의 분류 (softmax의 실습)\n",
        "\n",
        "`-` 데이터정리"
      ],
      "id": "c012188e-f980-4a2c-8739-d686819fe88c"
    },
    {
      "cell_type": "code",
      "execution_count": 6,
      "metadata": {},
      "outputs": [],
      "source": [
        "(x_train, y_train), (x_test, y_test) = tf.keras.datasets.fashion_mnist.load_data()"
      ],
      "id": "0f347528-7089-4dc5-8ddf-7a4d06900eb0"
    },
    {
      "cell_type": "code",
      "execution_count": 7,
      "metadata": {},
      "outputs": [],
      "source": [
        "X= x_train.reshape(-1,784)\n",
        "y= tf.keras.utils.to_categorical(y_train)\n",
        "XX = x_test.reshape(-1,784)\n",
        "yy = tf.keras.utils.to_categorical(y_test)"
      ],
      "id": "8ed5da05-01b1-4bd7-8227-27fef9f06d7c"
    },
    {
      "cell_type": "markdown",
      "metadata": {},
      "source": [
        "`-` 시도1: 간단한 신경망"
      ],
      "id": "f738d2d0-5b40-469c-b0c8-ac19d2c8319a"
    },
    {
      "cell_type": "code",
      "execution_count": 8,
      "metadata": {
        "outputId": "a9dfc79e-1e7e-40e2-9003-e1b525ca4dc5"
      },
      "outputs": [
        {
          "output_type": "display_data",
          "metadata": {},
          "data": {
            "image/svg+xml": "PD94bWwgdmVyc2lvbj0iMS4wIiBlbmNvZGluZz0iVVRGLTgiIHN0YW5kYWxvbmU9Im5vIj8+Cjwh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\nL2c+CjwvZz4KPC9zdmc+Cg==\n"
          }
        }
      ],
      "source": [
        "#collapse\n",
        "gv('''\n",
        "splines=line\n",
        "subgraph cluster_1{\n",
        "    style=filled;\n",
        "    color=lightgrey;\n",
        "    \"x1\"\n",
        "    \"x2\"\n",
        "    \"..\"\n",
        "    \"x784\"\n",
        "    label = \"Layer 0\"\n",
        "}\n",
        "subgraph cluster_2{\n",
        "    style=filled;\n",
        "    color=lightgrey;\n",
        "    \"x1\" -> \"node1\"\n",
        "    \"x2\" -> \"node1\"\n",
        "    \"..\" -> \"node1\"\n",
        "\n",
        "    \"x784\" -> \"node1\"\n",
        "    \"x1\" -> \"node2\"\n",
        "    \"x2\" -> \"node2\"\n",
        "    \"..\" -> \"node2\"\n",
        "    \"x784\" -> \"node2\"\n",
        "\n",
        "    \"x1\" -> \"...\"\n",
        "    \"x2\" -> \"...\"\n",
        "    \"..\" -> \"...\"\n",
        "    \"x784\" -> \"...\"\n",
        "\n",
        "    \"x1\" -> \"node30\"\n",
        "    \"x2\" -> \"node30\"\n",
        "    \"..\" -> \"node30\"\n",
        "    \"x784\" -> \"node30\"\n",
        "\n",
        "\n",
        "    label = \"Layer 1: relu\"\n",
        "}\n",
        "subgraph cluster_3{\n",
        "    style=filled;\n",
        "    color=lightgrey;\n",
        "\n",
        "    \"node1\" -> \"y10\"\n",
        "    \"node2\" -> \"y10\"\n",
        "    \"...\" -> \"y10\"\n",
        "    \"node30\" -> \"y10\"\n",
        "\n",
        "    \"node1\" -> \"y1\"\n",
        "    \"node2\" -> \"y1\"\n",
        "    \"...\" -> \"y1\"\n",
        "    \"node30\" -> \"y1\"\n",
        "\n",
        "    \"node1\" -> \".\"\n",
        "    \"node2\" -> \".\"\n",
        "    \"...\" -> \".\"\n",
        "    \"node30\" -> \".\"\n",
        "\n",
        "    label = \"Layer 2: softmax\"\n",
        "}\n",
        "''')"
      ],
      "id": "26b82ff3-e96c-4844-ad72-7aeab389fbd2"
    },
    {
      "cell_type": "code",
      "execution_count": 9,
      "metadata": {
        "outputId": "da35a23f-0289-4fd0-d846-d477d3151cc0"
      },
      "outputs": [
        {
          "output_type": "stream",
          "name": "stdout",
          "text": [
            "Epoch 1/5\n",
            "1875/1875 [==============================] - 1s 515us/step - loss: 1.9693 - accuracy: 0.4597\n",
            "Epoch 2/5\n",
            "1875/1875 [==============================] - 1s 511us/step - loss: 1.0388 - accuracy: 0.5878\n",
            "Epoch 3/5\n",
            "1875/1875 [==============================] - 1s 511us/step - loss: 0.8715 - accuracy: 0.6531\n",
            "Epoch 4/5\n",
            "1875/1875 [==============================] - 1s 515us/step - loss: 0.7917 - accuracy: 0.6804\n",
            "Epoch 5/5\n",
            "1875/1875 [==============================] - 1s 508us/step - loss: 0.7568 - accuracy: 0.6905"
          ]
        }
      ],
      "source": [
        "net = tf.keras.Sequential()\n",
        "net.add(tf.keras.layers.Dense(30,activation = 'relu'))\n",
        "net.add(tf.keras.layers.Dense(10,activation = 'softmax'))\n",
        "net.compile(loss=tf.losses.categorical_crossentropy, optimizer='adam',metrics=['accuracy'])\n",
        "net.fit(X,y,epochs=5)"
      ],
      "id": "4aec3ee3-912a-4db1-95d8-dd69cebcc8a2"
    },
    {
      "cell_type": "code",
      "execution_count": 10,
      "metadata": {
        "outputId": "b09ae022-bade-4916-9562-4f1c2da7e1b6"
      },
      "outputs": [
        {
          "output_type": "stream",
          "name": "stdout",
          "text": [
            "313/313 [==============================] - 0s 394us/step - loss: 0.7765 - accuracy: 0.6829"
          ]
        }
      ],
      "source": [
        "net.evaluate(XX,yy)"
      ],
      "id": "648f3d66-4f4a-4052-99b7-8546adfbdcff"
    },
    {
      "cell_type": "code",
      "execution_count": 11,
      "metadata": {
        "outputId": "45eebec8-5152-4d9b-d5d2-db0dc5a6e7a0"
      },
      "outputs": [
        {
          "output_type": "stream",
          "name": "stdout",
          "text": [
            "Model: \"sequential\"\n",
            "_________________________________________________________________\n",
            " Layer (type)                Output Shape              Param #   \n",
            "=================================================================\n",
            " dense (Dense)               (None, 30)                23550     \n",
            "                                                                 \n",
            " dense_1 (Dense)             (None, 10)                310       \n",
            "                                                                 \n",
            "=================================================================\n",
            "Total params: 23,860\n",
            "Trainable params: 23,860\n",
            "Non-trainable params: 0\n",
            "_________________________________________________________________"
          ]
        }
      ],
      "source": [
        "net.summary()"
      ],
      "id": "004d9b9a-ade5-481d-98e5-fb00df3119b1"
    },
    {
      "cell_type": "markdown",
      "metadata": {},
      "source": [
        "`-` 시도2: 더 깊은 신경망"
      ],
      "id": "1e1bd676-d91d-4872-8248-418d4d68876b"
    },
    {
      "cell_type": "code",
      "execution_count": 12,
      "metadata": {
        "outputId": "7bd440e1-eaec-4811-926c-bc130ab638d6"
      },
      "outputs": [
        {
          "output_type": "display_data",
          "metadata": {},
          "data": {
            "image/svg+xml": "PD94bWwgdmVyc2lvbj0iMS4wIiBlbmNvZGluZz0iVVRGLTgiIHN0YW5kYWxvbmU9Im5vIj8+Cjwh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\nPC9nPgo8L3N2Zz4K\n"
          }
        }
      ],
      "source": [
        "#collapse\n",
        "gv('''\n",
        "splines=line\n",
        "subgraph cluster_1{\n",
        "    style=filled;\n",
        "    color=lightgrey;\n",
        "    \"x1\"\n",
        "    \"x2\"\n",
        "    \"..\"\n",
        "    \"x784\"\n",
        "    label = \"Layer 0\"\n",
        "}\n",
        "subgraph cluster_2{\n",
        "    style=filled;\n",
        "    color=lightgrey;\n",
        "    \"x1\" -> \"node1\"\n",
        "    \"x2\" -> \"node1\"\n",
        "    \"..\" -> \"node1\"\n",
        "\n",
        "    \"x784\" -> \"node1\"\n",
        "    \"x1\" -> \"node2\"\n",
        "    \"x2\" -> \"node2\"\n",
        "    \"..\" -> \"node2\"\n",
        "    \"x784\" -> \"node2\"\n",
        "\n",
        "    \"x1\" -> \"...\"\n",
        "    \"x2\" -> \"...\"\n",
        "    \"..\" -> \"...\"\n",
        "    \"x784\" -> \"...\"\n",
        "\n",
        "    \"x1\" -> \"node500\"\n",
        "    \"x2\" -> \"node500\"\n",
        "    \"..\" -> \"node500\"\n",
        "    \"x784\" -> \"node500\"\n",
        "\n",
        "\n",
        "    label = \"Layer 1: relu\"\n",
        "}\n",
        "\n",
        "subgraph cluster_3{\n",
        "    style=filled;\n",
        "    color=lightgrey;\n",
        "\n",
        "    \"node1\" -> \"node1(2)\"\n",
        "    \"node2\" -> \"node1(2)\"\n",
        "    \"...\" -> \"node1(2)\"\n",
        "    \"node500\" -> \"node1(2)\"\n",
        "\n",
        "    \"node1\" -> \"node2(2)\"\n",
        "    \"node2\" -> \"node2(2)\"\n",
        "    \"...\" -> \"node2(2)\"\n",
        "    \"node500\" -> \"node2(2)\"\n",
        "\n",
        "    \"node1\" -> \"....\"\n",
        "    \"node2\" -> \"....\"\n",
        "    \"...\" -> \"....\"\n",
        "    \"node500\" -> \"....\"\n",
        "\n",
        "    \"node1\" -> \"node500(2)\"\n",
        "    \"node2\" -> \"node500(2)\"\n",
        "    \"...\" -> \"node500(2)\"\n",
        "    \"node500\" -> \"node500(2)\"\n",
        "\n",
        "\n",
        "    label = \"Layer 2: relu\"\n",
        "}\n",
        "\n",
        "subgraph cluster_4{\n",
        "    style=filled;\n",
        "    color=lightgrey;\n",
        "\n",
        "    \"node1(2)\" -> \"y10\"\n",
        "    \"node2(2)\" -> \"y10\"\n",
        "    \"....\" -> \"y10\"\n",
        "    \"node500(2)\" -> \"y10\"\n",
        "\n",
        "    \"node1(2)\" -> \"y1\"\n",
        "    \"node2(2)\" -> \"y1\"\n",
        "    \"....\" -> \"y1\"\n",
        "    \"node500(2)\" -> \"y1\"\n",
        "\n",
        "    \"node1(2)\" -> \".\"\n",
        "    \"node2(2)\" -> \".\"\n",
        "    \"....\" -> \".\"\n",
        "    \"node500(2)\" -> \".\"\n",
        "\n",
        "    label = \"Layer 3: softmax\"\n",
        "}\n",
        "''')"
      ],
      "id": "82c577aa-3148-4e25-a8ae-721e9541d82f"
    },
    {
      "cell_type": "code",
      "execution_count": 13,
      "metadata": {
        "outputId": "2e3fcbf1-ce75-4e6c-d2ba-637a185512c7"
      },
      "outputs": [
        {
          "output_type": "stream",
          "name": "stdout",
          "text": [
            "Epoch 1/5\n",
            "1875/1875 [==============================] - 3s 1ms/step - loss: 2.1970 - accuracy: 0.7556\n",
            "Epoch 2/5\n",
            "1875/1875 [==============================] - 3s 1ms/step - loss: 0.6298 - accuracy: 0.7915\n",
            "Epoch 3/5\n",
            "1875/1875 [==============================] - 3s 1ms/step - loss: 0.5368 - accuracy: 0.8200\n",
            "Epoch 4/5\n",
            "1875/1875 [==============================] - 3s 1ms/step - loss: 0.4760 - accuracy: 0.8366\n",
            "Epoch 5/5\n",
            "1875/1875 [==============================] - 3s 1ms/step - loss: 0.4351 - accuracy: 0.8476"
          ]
        }
      ],
      "source": [
        "net = tf.keras.Sequential()\n",
        "net.add(tf.keras.layers.Dense(500,activation = 'relu'))\n",
        "net.add(tf.keras.layers.Dense(500,activation = 'relu'))\n",
        "net.add(tf.keras.layers.Dense(10,activation = 'softmax'))\n",
        "net.compile(loss=tf.losses.categorical_crossentropy, optimizer='adam',metrics=['accuracy'])\n",
        "net.fit(X,y,epochs=5)"
      ],
      "id": "9639a6d2-a2e7-4046-9b64-892738cb0c24"
    },
    {
      "cell_type": "code",
      "execution_count": 14,
      "metadata": {
        "outputId": "b0317819-cc6d-4de1-a8aa-50a5fb2fb71e"
      },
      "outputs": [
        {
          "output_type": "stream",
          "name": "stdout",
          "text": [
            "313/313 [==============================] - 0s 567us/step - loss: 0.5347 - accuracy: 0.8281"
          ]
        }
      ],
      "source": [
        "net.evaluate(XX,yy)"
      ],
      "id": "689c2fd0-b977-49e8-9a8b-94ac65e72cdc"
    },
    {
      "cell_type": "code",
      "execution_count": 15,
      "metadata": {
        "outputId": "26a9dea2-e85e-4d7f-9614-510bde092d03"
      },
      "outputs": [
        {
          "output_type": "stream",
          "name": "stdout",
          "text": [
            "Model: \"sequential_1\"\n",
            "_________________________________________________________________\n",
            " Layer (type)                Output Shape              Param #   \n",
            "=================================================================\n",
            " dense_2 (Dense)             (None, 500)               392500    \n",
            "                                                                 \n",
            " dense_3 (Dense)             (None, 500)               250500    \n",
            "                                                                 \n",
            " dense_4 (Dense)             (None, 10)                5010      \n",
            "                                                                 \n",
            "=================================================================\n",
            "Total params: 648,010\n",
            "Trainable params: 648,010\n",
            "Non-trainable params: 0\n",
            "_________________________________________________________________"
          ]
        }
      ],
      "source": [
        "net.summary()"
      ],
      "id": "8c388a79-e555-449c-b8d0-480a4cadca08"
    },
    {
      "cell_type": "markdown",
      "metadata": {},
      "source": [
        "## 평가지표\n",
        "\n",
        "### 다양한 평가지표들\n",
        "\n",
        "`-` 의문: 왜 다양한 평가지표가 필요한가? (accuray면 끝나는거 아닌가? 더\n",
        "이상 뭐가 필요해?)\n",
        "\n",
        "`-` 여러가지 평가지표들:\n",
        "https://en.wikipedia.org/wiki/Positive_and_negative_predictive_values -\n",
        "이걸 다 암기하는건 불가능함. - 몇 개만 뽑아서 암기하고 왜 쓰는지만\n",
        "생각해보고 넘어가자!\n",
        "\n",
        "### confusion matrix의 이해\n",
        "\n",
        "`-` 표1\n",
        "\n",
        "|              | 퇴사(예측) | 안나감(예측) |\n",
        "|:------------:|:----------:|:------------:|\n",
        "|  퇴사(실제)  |     TP     |      FN      |\n",
        "| 안나감(실제) |     FP     |      TN      |\n",
        "\n",
        "`-` 표2 (책에없음)\n",
        "\n",
        "|              |    퇴사(예측)    |  안나감(예측)   |\n",
        "|:------------:|:----------------:|:---------------:|\n",
        "|  퇴사(실제)  | \\$(y,)= \\$ (O,O) | \\$(y,)= \\$(O,X) |\n",
        "| 안나감(실제) | \\$(y,)= \\$(X,O)  | \\$(y,)= \\$(X,X) |\n",
        "\n",
        "`-` 표3 (책에없음)\n",
        "\n",
        "|              |  퇴사(예측)  | 안나감(예측) |\n",
        "|:------------:|:------------:|:------------:|\n",
        "|  퇴사(실제)  | TP, $\\# O/O$ | FN, $\\#O/X$  |\n",
        "| 안나감(실제) | FP, $\\#X/O$  | TN, $\\#X/X$  |\n",
        "\n",
        "-   암기법, (1) 두번째 글자를 그대로 쓴다 (2) 첫글자가 T이면 분류를\n",
        "    제대로한것, 첫글자가 F이면 분류를 잘못한것\n",
        "\n",
        "`-` 표4 (위키등에 있음)\n",
        "\n",
        "|              |                              퇴사(예측)                               | 안나감(예측) |                                                                                     |\n",
        "|:----------------:|:----------------:|:----------------:|:----------------:|\n",
        "|  퇴사(실제)  |                             TP, $\\# O/O$                              | FN, $\\# O/X$ | Sensitivity(민감도)=Recall(재현율)=$\\frac{TP}{TP+FN}$=$\\frac{\\#O/O}{\\# O/O+ \\#O/X}$ |\n",
        "| 안나감(실제) |                             FP, $\\# X/O$                              | TN, $\\# X/X$ |                                                                                     |\n",
        "|              | Precision(프리시즌)=$\\frac{TP}{TP+FP}$=$\\frac{\\# O/O}{\\# O/O+\\# X/O}$ |              |        Accuracy(애큐러시)=$\\frac{TP+TN}{total}$=$\\frac{\\#O/O+\\# X/X}{total}$        |\n",
        "\n",
        "### 상황극\n",
        "\n",
        "`-` 최규빈은 입사하여 “퇴사자 예측시스템”의 개발에 들어갔다.\n",
        "\n",
        "`-` 자료의 특성상 대부분의 사람이 퇴사하지 않고 회사에 잘 다닌다. 즉\n",
        "1000명이 있으면 10명정도 퇴사한다.\n",
        "\n",
        "### Accuracy\n",
        "\n",
        "`-` 정의:\n",
        "Accuracy(애큐러시)=$\\frac{TP+TN}{total}$=$\\frac{\\#O/O+ \\#X/X}{total}$ -\n",
        "한국말로는 정확도, 정분류율이라고 한다. - 한국말이 헷갈리므로 그냥\n",
        "영어를 외우는게 좋다. (어차피 Keras에서 옵션도 영어로 넣음)\n",
        "\n",
        "`-` (상확극 시점1) 왜 애큐러시는 불충분한가? - 회사: 퇴사자예측프로그램\n",
        "개발해 - 최규빈: 귀찮은데 다 안나간다고 하자! -\\> 99퍼의 accuracy\n",
        "\n",
        "> 모델에 사용한 파라메터 = 0. 그런데 애큐러시 = 99! 이거 엄청 좋은\n",
        "> 모형이다?\n",
        "\n",
        "### Sensitivity(민감도), Recall(재현율), True Positive Rate(TPR)\n",
        "\n",
        "`-` 정의:\n",
        "Sensitivity(민감도)=Recall(재현율)=$\\frac{TP}{TP+FN}$=$\\frac{\\# O/O}{\\# O/O+\\# O/X}$ -\n",
        "분모: 실제 O인 관측치 수 - 분자: 실제 O를 O라고 예측한 관측치 수 - 뜻:\n",
        "실제 O를 O라고 예측한 비율\n",
        "\n",
        "`-` (상황극 시점2) recall을 봐야하는 이유 - 인사팀: 실제 퇴사자를\n",
        "퇴사자로 예측해야 의미가 있음! 우리는 퇴사할것 같은 10명을 찍어달란\n",
        "의미였어요! (그래야 면담을 하든 할거아냐!) - 최규빈: 가볍고(=파라메터\n",
        "적고) 잘 맞추는 모형 만들어 달라면서요?\n",
        "\n",
        "-   인사팀: (고민중..) 사실 생각해보니까 이 경우는 애큐러시는 의미가\n",
        "    없네. 실제 나간 사람 중 최규빈이 나간다고 한 사람이 몇인지 카운트\n",
        "    하는게 더 의미가 있겠다. 우리는 앞으로 리컬(혹은 민감도)를 보겠다!\n",
        "\n",
        "> 예시1: 실제로 퇴사한 10명중 최규빈이 나간다고 찍은 사람이 5명이면\n",
        "> 리컬이 50%\n",
        "\n",
        "> 예시2: 최규빈이 아무도 나가지 않는다고 예측해버린다? 실제 10명중에서\n",
        "> 최규빈이 나간다고 적중시킨사람은 0명이므로 이 경우 리컬은 0%\n",
        "\n",
        "-   결론: 우리가 필요한건 recall이니까 앞으로 recall을 가져와!\n",
        "    accuracy는 큰 의미없어. (그래도 명색이 모델인데 accuracy가 90은 되면\n",
        "    좋겠다)\n",
        "\n",
        "### Precision\n",
        "\n",
        "`-` 정의:\n",
        "Precision(프리시즌)=$\\frac{TP}{TP+FP}$=$\\frac{\\# O/O}{\\# O/O+\\# X/O}$ -\n",
        "분모: O라고 예측한 관측치 - 분자: O라고 예측한 관측치중 진짜 O인\n",
        "관측치 - 뜻: O라고 예측한 관측치중 진짜 O인 비율\n",
        "\n",
        "`-` (상황극 시점3) recall 만으로 불충분한 이유\n",
        "\n",
        "-   최규빈: 에휴.. 귀찮은데 그냥 좀만 수틀리면 다 나갈것 같다고\n",
        "    해야겠다. -\\> 한 100명 나간다고 했음 -\\> 실제로 최규빈이 찍은\n",
        "    100명중에 10명이 다 나감!\n",
        "\n",
        "> 이 경우 애큐러시는 91%, 리컬은 100% (퇴사자 10명을 일단은 다\n",
        "> 맞췄으므로).\n",
        "\n",
        "-   인사팀: (화가 많이 남) 멀쩡한 사람까지 다 퇴사할 것 같다고 하면\n",
        "    어떡해요? 최규빈 연구원이 나간다고 한 100명중에 실제로 10명만\n",
        "    나갔어요.\n",
        "\n",
        "-   인사팀: 마치 총으로 과녁중앙에 맞춰 달라고 했더니 기관총을 가져와서\n",
        "    한번 긁은것이랑 뭐가 달라요? 맞추는게 문제가 아니고 precision이 너무\n",
        "    낮아요.\n",
        "\n",
        "-   최규빈: accuracy 90% 이상, recall은 높을수록 좋다는게 주문\n",
        "    아니었나요?\n",
        "\n",
        "-   인사팀: (고민중..) 앞으로는 recall과 함께 precision도 같이\n",
        "    제출하세요. precision은 당신이 나간다고 한 사람중에 실제 나간사람의\n",
        "    비율을 의미해요. 이 경우는 $\\frac{10}{100}$이니까 precision이\n",
        "    10%입니다. (속마음: recall 올리겠다고 무작정 너무 많이 예측하지 말란\n",
        "    말이야!)\n",
        "\n",
        "### F1 score\n",
        "\n",
        "`-` 정의: recall과 precision의 조화평균\n",
        "\n",
        "`-` (상황극 시점4) recall, precision을 모두 고려\n",
        "\n",
        "-   최규빈: recall/precision을 같이 내는건 좋은데요, 둘은 trade off의\n",
        "    관계에 있습니다. 물론 둘다 올리는 모형이 있다면 좋지만 그게 쉽지는\n",
        "    않아요. 보통은 precision을 올리려면 recall이 희생되는 면이 있고요,\n",
        "    recall을 올리려고 하면 precision이 다소 떨어집니다.\n",
        "\n",
        "-   최규빈: 평가기준이 애매하다는 의미입니다. 모형1,2가 있는데 모형1은\n",
        "    모형2보다 precision이 약간 좋고 대신 recall이 떨어진다면 모형1이\n",
        "    좋은것입니까? 아니면 모형2가 좋은것입니까?\n",
        "\n",
        "-   인사팀: 그렇다면 둘을 평균내서 F1score를 계산해서 제출해주세요.\n",
        "\n",
        "### Specificity(특이도), False Positive Rate(FPR)\n",
        "\n",
        "`-` 정의:\n",
        "\n",
        "1.  Specificity(특이도)=$\\frac{TN}{FP+TN}$=$\\frac{\\# X/X}{\\# X/O+\\# X/X}$\n",
        "\n",
        "2.  False Positive Rate (FPR) = 1-Specificity(특이도) =\n",
        "    $\\frac{FP}{FP+TN}$=$\\frac{\\# X/O}{\\# X/O+\\# X/X}$\n",
        "\n",
        "`-` 의미: **FPR = 오해해서 미안해, recall(=TPR)을 올리려고 보니 어쩔 수\n",
        "없었어 ㅠㅠ** - specificity는 안나간 사람을 안나갔다고 찾아낸 비율인데\n",
        "별로 안중요하다. - FPR은 recall을 올리기 위해서 “실제로는 회사 잘 다니고\n",
        "있는 사람 중 최규빈이 나갈것 같다고 찍은 사람들” 의 비율이다.\n",
        "\n",
        "> 즉 생사람잡은 비율.. 오해해서 미안한 사람의 비율..\n",
        "\n",
        "### ROC curve\n",
        "\n",
        "`-` 정의: $x$축=FPR, $y$축=TPR 을 그린 커브\n",
        "\n",
        "`-` 의미: - 결국 “오해해서 미안해 vs recall”을 그린 곡선이\n",
        "ROC커브이다. - 생각해보면 오해하는 사람이 많을수록 당연히 recall은\n",
        "올라간다. 따라서 우상향하는 곡선이다. - 오해한 사람이 매우 적은데\n",
        "recall이 우수하면 매우 좋은 모형이다. 그래서 초반부터 ROC값이 급격하게\n",
        "올라가면 좋은 모형이다.\n",
        "\n",
        "### Fashion MNIST 다양한 평가지표활용\n",
        "\n",
        "`-` data"
      ],
      "id": "ba58a2dd-605f-483b-8bb0-0cd3213e041f"
    },
    {
      "cell_type": "code",
      "execution_count": 16,
      "metadata": {},
      "outputs": [],
      "source": [
        "(x_train, y_train), (x_test, y_test) = tf.keras.datasets.fashion_mnist.load_data()"
      ],
      "id": "5487d598-4921-40ad-8f26-5985177e5e5e"
    },
    {
      "cell_type": "code",
      "execution_count": 18,
      "metadata": {},
      "outputs": [],
      "source": [
        "x_train.shape"
      ],
      "id": "a57ddab6-9c8b-47d4-a27c-14797b43642f"
    },
    {
      "cell_type": "markdown",
      "metadata": {},
      "source": [
        "-   이미지는 원래 가로픽셀 세로픽셀 3 이어야 한다. (색을 표현하는\n",
        "    basis는 빨,녹,파)\n",
        "\n",
        "`-` 따라서 이미지의 차원이 단지 (28,28)이라는 것은 흑백이미지라는\n",
        "뜻이다."
      ],
      "id": "ad6e4d4d-90ec-4e90-903d-3b9cc3b0fef4"
    },
    {
      "cell_type": "code",
      "execution_count": 19,
      "metadata": {},
      "outputs": [
        {
          "output_type": "display_data",
          "metadata": {},
          "data": {
            "image/png": "[encoded data removed]"
          }
        }
      ],
      "source": [
        "plt.imshow(x_train[0]) "
      ],
      "id": "9b878499-f530-485e-8181-442189383f2b"
    },
    {
      "cell_type": "markdown",
      "metadata": {},
      "source": [
        "-   아닌데요?! 칼라인데요?! -\\> 흑백이다. 그냥 밝을수록 노란색,\n",
        "    어두울수록 남색으로 표현한것 뿐임 (colormap이 viridis일 뿐임)"
      ],
      "id": "fb504cc7-56c2-4f61-8c18-4cd475b3a4cc"
    },
    {
      "cell_type": "code",
      "execution_count": 17,
      "metadata": {},
      "outputs": [],
      "source": [
        "X= x_train.reshape(-1,784)\n",
        "y= tf.keras.utils.to_categorical(y_train)\n",
        "XX = x_test.reshape(-1,784)\n",
        "yy = tf.keras.utils.to_categorical(y_test)"
      ],
      "id": "3d627356-a40d-4047-bcd3-1e6b60c96d7d"
    },
    {
      "cell_type": "markdown",
      "metadata": {},
      "source": [
        "`-` 다양한 평가지표를 넣는 방법 (1)"
      ],
      "id": "1e09baac-de83-4347-bbe1-079c85fbe0ea"
    },
    {
      "cell_type": "code",
      "execution_count": 20,
      "metadata": {
        "outputId": "59be6860-6731-4d5f-8497-f28d5a547723"
      },
      "outputs": [
        {
          "output_type": "stream",
          "name": "stdout",
          "text": [
            "Epoch 1/5\n",
            "1875/1875 [==============================] - 3s 1ms/step - loss: 2.1585 - accuracy: 0.7524 - recall: 0.7193\n",
            "Epoch 2/5\n",
            "1875/1875 [==============================] - 2s 1ms/step - loss: 0.6118 - accuracy: 0.8008 - recall: 0.7607\n",
            "Epoch 3/5\n",
            "1875/1875 [==============================] - 3s 1ms/step - loss: 0.4938 - accuracy: 0.8299 - recall: 0.7945\n",
            "Epoch 4/5\n",
            "1875/1875 [==============================] - 3s 1ms/step - loss: 0.4319 - accuracy: 0.8451 - recall: 0.8122\n",
            "Epoch 5/5\n",
            "1875/1875 [==============================] - 2s 1ms/step - loss: 0.4209 - accuracy: 0.8493 - recall: 0.8166"
          ]
        }
      ],
      "source": [
        "net = tf.keras.Sequential()\n",
        "net.add(tf.keras.layers.Dense(500,activation = 'relu'))\n",
        "net.add(tf.keras.layers.Dense(500,activation = 'relu'))\n",
        "net.add(tf.keras.layers.Dense(10,activation = 'softmax'))\n",
        "net.compile(loss=tf.losses.categorical_crossentropy, optimizer='adam',metrics=['accuracy','Recall'])\n",
        "net.fit(X,y,epochs=5)"
      ],
      "id": "b2520525-b628-467f-8bd5-de1137a179a1"
    },
    {
      "cell_type": "code",
      "execution_count": 21,
      "metadata": {
        "outputId": "ab41dce2-bbe2-418d-efa7-ab5220e1e7b2"
      },
      "outputs": [
        {
          "output_type": "stream",
          "name": "stdout",
          "text": [
            "313/313 [==============================] - 0s 610us/step - loss: 0.4402 - accuracy: 0.8457 - recall: 0.8152"
          ]
        }
      ],
      "source": [
        "net.evaluate(XX,yy)"
      ],
      "id": "ae250323-8244-4fcf-818d-ab290b380d5c"
    },
    {
      "cell_type": "markdown",
      "metadata": {},
      "source": [
        "`-` 다양한 평가지표를 넣는 방법 (2)"
      ],
      "id": "0b7bcba8-78f6-4b6b-89c8-b779b68a431f"
    },
    {
      "cell_type": "code",
      "execution_count": 22,
      "metadata": {
        "outputId": "f8abb07c-79ca-4c57-a49a-e141a77c8bb5"
      },
      "outputs": [
        {
          "output_type": "stream",
          "name": "stdout",
          "text": [
            "Epoch 1/5\n",
            "1875/1875 [==============================] - 3s 1ms/step - loss: 2.2775 - categorical_accuracy: 0.7602 - recall: 0.7325\n",
            "Epoch 2/5\n",
            "1875/1875 [==============================] - 2s 1ms/step - loss: 0.5607 - categorical_accuracy: 0.8086 - recall: 0.7679\n",
            "Epoch 3/5\n",
            "1875/1875 [==============================] - 2s 1ms/step - loss: 0.4602 - categorical_accuracy: 0.8357 - recall: 0.7977\n",
            "Epoch 4/5\n",
            "1875/1875 [==============================] - 2s 1ms/step - loss: 0.4284 - categorical_accuracy: 0.8478 - recall: 0.8100\n",
            "Epoch 5/5\n",
            "1875/1875 [==============================] - 3s 1ms/step - loss: 0.4080 - categorical_accuracy: 0.8540 - recall: 0.8190"
          ]
        }
      ],
      "source": [
        "net = tf.keras.Sequential()\n",
        "net.add(tf.keras.layers.Dense(500,activation = 'relu'))\n",
        "net.add(tf.keras.layers.Dense(500,activation = 'relu'))\n",
        "net.add(tf.keras.layers.Dense(10,activation = 'softmax'))\n",
        "net.compile(loss=tf.losses.categorical_crossentropy, optimizer='adam',metrics=[tf.metrics.CategoricalAccuracy(),tf.metrics.Recall()])\n",
        "net.fit(X,y,epochs=5)"
      ],
      "id": "a03a161d-eda3-4a17-b4e5-490758dae9f6"
    },
    {
      "cell_type": "code",
      "execution_count": 23,
      "metadata": {
        "outputId": "00458294-4dac-4d23-bee9-17af9a978006"
      },
      "outputs": [
        {
          "output_type": "stream",
          "name": "stdout",
          "text": [
            "313/313 [==============================] - 0s 620us/step - loss: 0.4263 - categorical_accuracy: 0.8528 - recall: 0.8190"
          ]
        }
      ],
      "source": [
        "net.evaluate(XX,yy)"
      ],
      "id": "14abd79c-435b-4ce7-af7b-0719976b7c01"
    },
    {
      "cell_type": "markdown",
      "metadata": {},
      "source": [
        "## flatten layer\n",
        "\n",
        "`-` 이미지 데이터를 분류하기 좋은 형태로 자료를 재정리하자."
      ],
      "id": "c5dab3d8-e128-4e9b-9b05-aee682f22b3e"
    },
    {
      "cell_type": "code",
      "execution_count": 24,
      "metadata": {},
      "outputs": [],
      "source": [
        "X = tf.constant(x_train.reshape(-1,28,28,1),dtype=tf.float64)\n",
        "y = tf.keras.utils.to_categorical(y_train)\n",
        "XX = tf.constant(x_test.reshape(-1,28,28,1),dtype=tf.float64)\n",
        "yy = tf.keras.utils.to_categorical(y_test)"
      ],
      "id": "da3ef0bd-3a9c-4ca6-8dbf-2007bd9b5ef2"
    },
    {
      "cell_type": "code",
      "execution_count": 25,
      "metadata": {
        "outputId": "88b79d33-8bb0-47ff-dec7-a7419d7bd939"
      },
      "outputs": [],
      "source": [
        "X.shape,XX.shape,y.shape,yy.shape"
      ],
      "id": "21764aed-4319-4d39-ba0a-9fd600128b6a"
    },
    {
      "cell_type": "markdown",
      "metadata": {},
      "source": [
        "`-` 일반적인 이미지 분석 모형을 적용하기 용이한 데이터 형태로 정리했다.\n",
        "-\\> 그런데 모형에 넣고 돌릴려면 다시 차원을 펼쳐야 하지 않을까?\n",
        "\n",
        "`-` 안펼치고 하고싶다."
      ],
      "id": "5d82d9e2-512a-4dc0-9d6a-68875729876d"
    },
    {
      "cell_type": "code",
      "execution_count": 26,
      "metadata": {},
      "outputs": [],
      "source": [
        "flttn = tf.keras.layers.Flatten()"
      ],
      "id": "c21237c0-5ab2-4324-9abe-4e88a1667be6"
    },
    {
      "cell_type": "code",
      "execution_count": 27,
      "metadata": {
        "outputId": "34a483d8-9172-4ad7-a1c1-ec7849fdb5ad"
      },
      "outputs": [],
      "source": [
        "set(dir(flttn)) & {'__call__'}"
      ],
      "id": "81631691-7560-485f-87e0-ad53c8ddac26"
    },
    {
      "cell_type": "code",
      "execution_count": 28,
      "metadata": {
        "outputId": "473c42ae-1057-461a-b04a-1fe149933a45"
      },
      "outputs": [],
      "source": [
        "X.shape,flttn(X).shape, X.reshape(-1,784).shape"
      ],
      "id": "90459f13-c4b5-4f3d-9256-f8178b1f7770"
    },
    {
      "cell_type": "markdown",
      "metadata": {},
      "source": [
        "`-` flttn"
      ],
      "id": "008b5fdc-f3b6-4a84-ae61-63d0e224ba97"
    },
    {
      "cell_type": "code",
      "execution_count": 29,
      "metadata": {
        "outputId": "15acab51-357b-4577-a650-7f39b4165f87"
      },
      "outputs": [
        {
          "output_type": "stream",
          "name": "stdout",
          "text": [
            "Epoch 1/5\n",
            "1875/1875 [==============================] - 3s 1ms/step - loss: 2.1290 - categorical_accuracy: 0.7476 - recall_1: 0.7071\n",
            "Epoch 2/5\n",
            "1875/1875 [==============================] - 2s 1ms/step - loss: 0.6487 - categorical_accuracy: 0.7915 - recall_1: 0.7416\n",
            "Epoch 3/5\n",
            "1875/1875 [==============================] - 2s 1ms/step - loss: 0.5178 - categorical_accuracy: 0.8205 - recall_1: 0.7747\n",
            "Epoch 4/5\n",
            "1875/1875 [==============================] - 2s 1ms/step - loss: 0.4729 - categorical_accuracy: 0.8329 - recall_1: 0.7914\n",
            "Epoch 5/5\n",
            "1875/1875 [==============================] - 2s 1ms/step - loss: 0.4462 - categorical_accuracy: 0.8401 - recall_1: 0.8023"
          ]
        }
      ],
      "source": [
        "net = tf.keras.Sequential()\n",
        "net.add(tf.keras.layers.Flatten())\n",
        "net.add(tf.keras.layers.Dense(500,activation = 'relu'))\n",
        "net.add(tf.keras.layers.Dense(500,activation = 'relu'))\n",
        "net.add(tf.keras.layers.Dense(10,activation = 'softmax'))\n",
        "net.compile(loss=tf.losses.categorical_crossentropy, optimizer='adam',metrics=[tf.metrics.CategoricalAccuracy(),tf.metrics.Recall()])\n",
        "net.fit(X,y,epochs=5)"
      ],
      "id": "4a393f7c-8854-4ff6-8219-da599094ed34"
    },
    {
      "cell_type": "code",
      "execution_count": 30,
      "metadata": {
        "outputId": "d97f1eed-6f51-4bbd-fcd4-ca836bc8dade"
      },
      "outputs": [],
      "source": [
        "net.layers"
      ],
      "id": "a439eccf-6a79-4b74-a3bb-d532580ccd42"
    },
    {
      "cell_type": "code",
      "execution_count": 31,
      "metadata": {
        "outputId": "b44a84f5-0a14-45bf-e9c3-a35d0baea9b5"
      },
      "outputs": [
        {
          "output_type": "stream",
          "name": "stdout",
          "text": [
            "(60000, 28, 28, 1)\n",
            "(60000, 784)\n",
            "(60000, 500)\n",
            "(60000, 500)"
          ]
        }
      ],
      "source": [
        "print(X.shape)\n",
        "print(net.layers[0](X).shape)\n",
        "print(net.layers[1](net.layers[0](X)).shape)\n",
        "print(net.layers[2](net.layers[1](net.layers[0](X))).shape)"
      ],
      "id": "52fb5add-b35d-42ac-8409-c13125525d2f"
    },
    {
      "cell_type": "markdown",
      "metadata": {},
      "source": [
        "`-` 좀 더 복잡한 네트워크 -\\> 하지만 한계가 보인다 -\\> 좀 더 나은\n",
        "아키텍처는 없을까"
      ],
      "id": "77baf313-719f-4521-aa66-e1e93d681fb0"
    },
    {
      "cell_type": "code",
      "execution_count": 32,
      "metadata": {
        "outputId": "0d86f29f-d933-42df-8336-1a64e41c1f49"
      },
      "outputs": [
        {
          "output_type": "stream",
          "name": "stdout",
          "text": [
            "Epoch 1/10\n",
            "1875/1875 [==============================] - 5s 2ms/step - loss: 1.0624 - accuracy: 0.7910\n",
            "Epoch 2/10\n",
            "1875/1875 [==============================] - 4s 2ms/step - loss: 0.4438 - accuracy: 0.8393\n",
            "Epoch 3/10\n",
            "1875/1875 [==============================] - 4s 2ms/step - loss: 0.4170 - accuracy: 0.8525\n",
            "Epoch 4/10\n",
            "1875/1875 [==============================] - 4s 2ms/step - loss: 0.3961 - accuracy: 0.8597\n",
            "Epoch 5/10\n",
            "1875/1875 [==============================] - 4s 2ms/step - loss: 0.3765 - accuracy: 0.8671\n",
            "Epoch 6/10\n",
            "1875/1875 [==============================] - 4s 2ms/step - loss: 0.3552 - accuracy: 0.8729\n",
            "Epoch 7/10\n",
            "1875/1875 [==============================] - 4s 2ms/step - loss: 0.3532 - accuracy: 0.8747\n",
            "Epoch 8/10\n",
            "1875/1875 [==============================] - 4s 2ms/step - loss: 0.3367 - accuracy: 0.8798\n",
            "Epoch 9/10\n",
            "1875/1875 [==============================] - 4s 2ms/step - loss: 0.3419 - accuracy: 0.8802\n",
            "Epoch 10/10\n",
            "1875/1875 [==============================] - 4s 2ms/step - loss: 0.3232 - accuracy: 0.8863"
          ]
        }
      ],
      "source": [
        "tf.random.set_seed(43052)\n",
        "net = tf.keras.Sequential()\n",
        "net.add(tf.keras.layers.Flatten())\n",
        "net.add(tf.keras.layers.Dense(500,activation='relu'))\n",
        "net.add(tf.keras.layers.Dense(500,activation='relu'))\n",
        "net.add(tf.keras.layers.Dense(500,activation='relu'))\n",
        "net.add(tf.keras.layers.Dense(500,activation='relu'))\n",
        "net.add(tf.keras.layers.Dense(10,activation='softmax'))\n",
        "net.compile(loss=tf.losses.categorical_crossentropy, optimizer='adam',metrics='accuracy')\n",
        "net.fit(X,y,epochs=10)"
      ],
      "id": "2dc10a37-ff44-4c0b-8d7d-301250920ee3"
    },
    {
      "cell_type": "code",
      "execution_count": 33,
      "metadata": {
        "outputId": "c218ca0e-5b3f-4e84-c053-2bee3ed3aba3"
      },
      "outputs": [
        {
          "output_type": "stream",
          "name": "stdout",
          "text": [
            "313/313 [==============================] - 0s 769us/step - loss: 0.4121 - accuracy: 0.8543"
          ]
        }
      ],
      "source": [
        "net.evaluate(XX,yy)"
      ],
      "id": "1fbd86a4-0826-4cc9-91fe-3a3350cec69f"
    },
    {
      "cell_type": "markdown",
      "metadata": {},
      "source": [
        "`-` layer중에 우리는 끽해야 Dense정도 쓰고있었음. $\\to$ flatten과 같은\n",
        "다른 layer도 많음. $\\to$ 이런것도 써보자"
      ],
      "id": "67aba5f3-1b9c-4c19-9867-608226bc29cb"
    },
    {
      "cell_type": "code",
      "execution_count": 34,
      "metadata": {},
      "outputs": [
        {
          "output_type": "stream",
          "name": "stdout",
          "text": [
            "Model: \"sequential_5\"\n",
            "_________________________________________________________________\n",
            " Layer (type)                Output Shape              Param #   \n",
            "=================================================================\n",
            " flatten_2 (Flatten)         (None, 784)               0         \n",
            "                                                                 \n",
            " dense_14 (Dense)            (None, 500)               392500    \n",
            "                                                                 \n",
            " dense_15 (Dense)            (None, 500)               250500    \n",
            "                                                                 \n",
            " dense_16 (Dense)            (None, 500)               250500    \n",
            "                                                                 \n",
            " dense_17 (Dense)            (None, 500)               250500    \n",
            "                                                                 \n",
            " dense_18 (Dense)            (None, 10)                5010      \n",
            "                                                                 \n",
            "=================================================================\n",
            "Total params: 1,149,010\n",
            "Trainable params: 1,149,010\n",
            "Non-trainable params: 0\n",
            "_________________________________________________________________"
          ]
        }
      ],
      "source": [
        "net.summary()"
      ],
      "id": "98f930cf-4f67-4a4c-a066-456024501979"
    }
  ],
  "nbformat": 4,
  "nbformat_minor": 5,
  "metadata": {
    "celltoolbar": "Slideshow",
    "colab": {
      "provenance": []
    },
    "kernelspec": {
      "name": "python3",
      "display_name": "Python 3 (ipykernel)",
      "language": "python"
    },
    "language_info": {
      "name": "python",
      "codemirror_mode": {
        "name": "ipython",
        "version": "3"
      },
      "file_extension": ".py",
      "mimetype": "text/x-python",
      "nbconvert_exporter": "python",
      "pygments_lexer": "ipython3",
      "version": "3.8.16"
    }
  }
}