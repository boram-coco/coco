{
  "cells": [
    {
      "cell_type": "markdown",
      "metadata": {},
      "source": [
        "# \\[STBDA\\] 06wk: keras\n",
        "\n",
        "김보람  \n",
        "2023-06-23\n",
        "\n",
        "> 해당 강의노트는 전북대학교 최규빈교수님\n",
        "> [STBDA2022](https://guebin.github.io/STBDA2022/) 자료임\n",
        "\n",
        "### imports"
      ],
      "id": "2713f152-e706-4ee5-8199-c18c612a537e"
    },
    {
      "cell_type": "code",
      "execution_count": 1,
      "metadata": {},
      "outputs": [
        {
          "output_type": "stream",
          "name": "stderr",
          "text": [
            "2023-06-23 14:44:48.422443: I tensorflow/core/platform/cpu_feature_guard.cc:193] This TensorFlow binary is optimized with oneAPI Deep Neural Network Library (oneDNN) to use the following CPU instructions in performance-critical operations:  AVX2 FMA\n",
            "To enable them in other operations, rebuild TensorFlow with the appropriate compiler flags."
          ]
        }
      ],
      "source": [
        "import numpy as np\n",
        "import matplotlib.pyplot as plt\n",
        "import tensorflow as tf\n",
        "import tensorflow.experimental.numpy as tnp"
      ],
      "id": "c8be13d2-d057-4bc1-b2f8-b6db177217d3"
    },
    {
      "cell_type": "code",
      "execution_count": 2,
      "metadata": {},
      "outputs": [],
      "source": [
        "tnp.experimental_enable_numpy_behavior()"
      ],
      "id": "0fae9576-58c5-4a07-8497-dbc69533e2f7"
    },
    {
      "cell_type": "code",
      "execution_count": 3,
      "metadata": {},
      "outputs": [],
      "source": [
        "import graphviz\n",
        "def gv(s): return graphviz.Source('digraph G{ rankdir=\"LR\"'+s + '; }')"
      ],
      "id": "e2d0a285-a506-47ca-8648-0a1e49db86da"
    },
    {
      "cell_type": "markdown",
      "metadata": {},
      "source": [
        "### $x \\to \\hat{y}$ 가 되는 과정을 그림으로 그리기\n",
        "\n",
        "`-` 단순회귀분석의 예시 -\n",
        "$\\hat{y}_i = \\hat{\\beta}_0 + \\hat{\\beta}_1 x_i, \\quad i=1,2,\\dots,n$\n",
        "\n",
        "(표현1)"
      ],
      "id": "cd8e50fe-cd42-4cdb-a448-778336ce8126"
    },
    {
      "cell_type": "code",
      "execution_count": 4,
      "metadata": {
        "outputId": "e3a68145-d242-420d-e513-225fd0306010"
      },
      "outputs": [
        {
          "output_type": "display_data",
          "metadata": {},
          "data": {
            "image/svg+xml": "PD94bWwgdmVyc2lvbj0iMS4wIiBlbmNvZGluZz0iVVRGLTgiIHN0YW5kYWxvbmU9Im5vIj8+Cjwh\nRE9DVFlQRSBzdmcgUFVCTElDICItLy9XM0MvL0RURCBTVkcgMS4xLy9FTiIKICJodHRwOi8vd3d3\nLnczLm9yZy9HcmFwaGljcy9TVkcvMS4xL0RURC9zdmcxMS5kdGQiPgo8IS0tIEdlbmVyYXRlZCBi\neSBncmFwaHZpeiB2ZXJzaW9uIDIuNTAuMCAoMCkKIC0tPgo8IS0tIFRpdGxlOiBHIFBhZ2VzOiAx\nIC0tPgo8c3ZnIHdpZHRoPSI1MTFwdCIgaGVpZ2h0PSI0MzVwdCIKIHZpZXdCb3g9IjAuMDAgMC4w\nMCA1MTAuNzggNDM1LjAwIiB4bWxucz0iaHR0cDovL3d3dy53My5vcmcvMjAwMC9zdmciIHhtbG5z\nOnhsaW5rPSJodHRwOi8vd3d3LnczLm9yZy8xOTk5L3hsaW5rIj4KPGcgaWQ9ImdyYXBoMCIgY2xh\nc3M9ImdyYXBoIiB0cmFuc2Zvcm09InNjYWxlKDEgMSkgcm90YXRlKDApIHRyYW5zbGF0ZSg0IDQz\nMSkiPgo8dGl0bGU+RzwvdGl0bGU+Cjxwb2x5Z29uIGZpbGw9IndoaXRlIiBzdHJva2U9InRyYW5z\ncGFyZW50IiBwb2ludHM9Ii00LDQgLTQsLTQzMSA1MDYuNzgsLTQzMSA1MDYuNzgsNCAtNCw0Ii8+\nCjwhLS0gMSAtLT4KPGcgaWQ9Im5vZGUxIiBjbGFzcz0ibm9kZSI+Cjx0aXRsZT4xPC90aXRsZT4K\nPGVsbGlwc2UgZmlsbD0ibm9uZSIgc3Ryb2tlPSJibGFjayIgY3g9IjI3IiBjeT0iLTcyIiByeD0i\nMjciIHJ5PSIxOCIvPgo8dGV4dCB0ZXh0LWFuY2hvcj0ibWlkZGxlIiB4PSIyNyIgeT0iLTY4LjMi\nIGZvbnQtZmFtaWx5PSJUaW1lcyxzZXJpZiIgZm9udC1zaXplPSIxNC4wMCI+MTwvdGV4dD4KPC9n\nPgo8IS0tIM6yzILigoAgKyB44oKZKs6yzILigoEsICYjMTYwOyYjMTYwOyYjMTYwO2JpYXM9RmFs\nc2UgLS0+CjxnIGlkPSJub2RlMiIgY2xhc3M9Im5vZGUiPgo8dGl0bGU+zrLMguKCgCArIHjigpkq\nzrLMguKCgSwgJiMxNjA7JiMxNjA7JiMxNjA7Ymlhcz1GYWxzZTwvdGl0bGU+CjxlbGxpcHNlIGZp\nbGw9Im5vbmUiIHN0cm9rZT0iYmxhY2siIGN4PSIyMzUuODkiIGN5PSItNTgiIHJ4PSIxMjAuNzgi\nIHJ5PSIxOCIvPgo8dGV4dCB0ZXh0LWFuY2hvcj0ibWlkZGxlIiB4PSIyMzUuODkiIHk9Ii01NC4z\nIiBmb250LWZhbWlseT0iVGltZXMsc2VyaWYiIGZvbnQtc2l6ZT0iMTQuMDAiPs6yzILigoAgKyB4\n4oKZKs6yzILigoEsICYjMTYwOyYjMTYwOyYjMTYwO2JpYXM9RmFsc2U8L3RleHQ+CjwvZz4KPCEt\nLSAxJiM0NTsmZ3Q7zrLMguKCgCArIHjigpkqzrLMguKCgSwgJiMxNjA7JiMxNjA7JiMxNjA7Ymlh\ncz1GYWxzZSAtLT4KPGcgaWQ9ImVkZ2UxIiBjbGFzcz0iZWRnZSI+Cjx0aXRsZT4xJiM0NTsmZ3Q7\nzrLMguKCgCArIHjigpkqzrLMguKCgSwgJiMxNjA7JiMxNjA7JiMxNjA7Ymlhcz1GYWxzZTwvdGl0\nbGU+CjxwYXRoIGZpbGw9Im5vbmUiIHN0cm9rZT0iYmxhY2siIGQ9Ik01NC4yLC03MC4yM0M3MC4z\nLC02OS4xNCA5Mi4yMSwtNjcuNjYgMTE1LjIxLC02Ni4xIi8+Cjxwb2x5Z29uIGZpbGw9ImJsYWNr\nIiBzdHJva2U9ImJsYWNrIiBwb2ludHM9IjExNS43NCwtNjkuNTcgMTI1LjQ4LC02NS40IDExNS4y\nNiwtNjIuNTkgMTE1Ljc0LC02OS41NyIvPgo8dGV4dCB0ZXh0LWFuY2hvcj0ibWlkZGxlIiB4PSI4\nNC41IiB5PSItNzIuOCIgZm9udC1mYW1pbHk9IlRpbWVzLHNlcmlmIiBmb250LXNpemU9IjE0LjAw\nIj4qIM6yzILigoA8L3RleHQ+CjwvZz4KPCEtLSB5zILigpkgLS0+CjxnIGlkPSJub2RlNCIgY2xh\nc3M9Im5vZGUiPgo8dGl0bGU+ecyC4oKZPC90aXRsZT4KPGVsbGlwc2UgZmlsbD0ibm9uZSIgc3Ry\nb2tlPSJibGFjayIgY3g9IjQ3NS43OCIgY3k9Ii01OCIgcng9IjI3IiByeT0iMTgiLz4KPHRleHQg\ndGV4dC1hbmNob3I9Im1pZGRsZSIgeD0iNDc1Ljc4IiB5PSItNTQuMyIgZm9udC1mYW1pbHk9IlRp\nbWVzLHNlcmlmIiBmb250LXNpemU9IjE0LjAwIj55zILigpk8L3RleHQ+CjwvZz4KPCEtLSDOssyC\n4oKAICsgeOKCmSrOssyC4oKBLCAmIzE2MDsmIzE2MDsmIzE2MDtiaWFzPUZhbHNlJiM0NTsmZ3Q7\necyC4oKZIC0tPgo8ZyBpZD0iZWRnZTMiIGNsYXNzPSJlZGdlIj4KPHRpdGxlPs6yzILigoAgKyB4\n4oKZKs6yzILigoEsICYjMTYwOyYjMTYwOyYjMTYwO2JpYXM9RmFsc2UmIzQ1OyZndDt5zILigpk8\nL3RpdGxlPgo8cGF0aCBmaWxsPSJub25lIiBzdHJva2U9ImJsYWNrIiBkPSJNMzU2Ljg4LC01OEMz\nODYuNjUsLTU4IDQxNi4zMywtNTggNDM4LjQ3LC01OCIvPgo8cG9seWdvbiBmaWxsPSJibGFjayIg\nc3Ryb2tlPSJibGFjayIgcG9pbnRzPSI0MzguNjksLTYxLjUgNDQ4LjY5LC01OCA0MzguNjksLTU0\nLjUgNDM4LjY5LC02MS41Ii8+Cjx0ZXh0IHRleHQtYW5jaG9yPSJtaWRkbGUiIHg9IjQwMi43OCIg\neT0iLTYxLjgiIGZvbnQtZmFtaWx5PSJUaW1lcyxzZXJpZiIgZm9udC1zaXplPSIxNC4wMCI+aWRl\nbnRpdHk8L3RleHQ+CjwvZz4KPCEtLSB44oKZIC0tPgo8ZyBpZD0ibm9kZTMiIGNsYXNzPSJub2Rl\nIj4KPHRpdGxlPnjigpk8L3RpdGxlPgo8ZWxsaXBzZSBmaWxsPSJub25lIiBzdHJva2U9ImJsYWNr\nIiBjeD0iMjciIGN5PSItMTgiIHJ4PSIyNyIgcnk9IjE4Ii8+Cjx0ZXh0IHRleHQtYW5jaG9yPSJt\naWRkbGUiIHg9IjI3IiB5PSItMTQuMyIgZm9udC1mYW1pbHk9IlRpbWVzLHNlcmlmIiBmb250LXNp\nemU9IjE0LjAwIj544oKZPC90ZXh0Pgo8L2c+CjwhLS0geOKCmSYjNDU7Jmd0O86yzILigoAgKyB4\n4oKZKs6yzILigoEsICYjMTYwOyYjMTYwOyYjMTYwO2JpYXM9RmFsc2UgLS0+CjxnIGlkPSJlZGdl\nMiIgY2xhc3M9ImVkZ2UiPgo8dGl0bGU+eOKCmSYjNDU7Jmd0O86yzILigoAgKyB44oKZKs6yzILi\ngoEsICYjMTYwOyYjMTYwOyYjMTYwO2JpYXM9RmFsc2U8L3RpdGxlPgo8cGF0aCBmaWxsPSJub25l\nIiBzdHJva2U9ImJsYWNrIiBkPSJNNTMuMzcsLTIyLjlDNzcuODMsLTI3LjYzIDExNi4yMSwtMzUu\nMDUgMTUxLjQsLTQxLjg2Ii8+Cjxwb2x5Z29uIGZpbGw9ImJsYWNrIiBzdHJva2U9ImJsYWNrIiBw\nb2ludHM9IjE1MC43NCwtNDUuMjkgMTYxLjIyLC00My43NiAxNTIuMDcsLTM4LjQyIDE1MC43NCwt\nNDUuMjkiLz4KPHRleHQgdGV4dC1hbmNob3I9Im1pZGRsZSIgeD0iODQuNSIgeT0iLTM0LjgiIGZv\nbnQtZmFtaWx5PSJUaW1lcyxzZXJpZiIgZm9udC1zaXplPSIxNC4wMCI+KiDOssyC4oKBPC90ZXh0\nPgo8L2c+CjwhLS0gLiAtLT4KPGcgaWQ9Im5vZGU1IiBjbGFzcz0ibm9kZSI+Cjx0aXRsZT4uPC90\naXRsZT4KPGVsbGlwc2UgZmlsbD0ibm9uZSIgc3Ryb2tlPSJibGFjayIgY3g9IjI3IiBjeT0iLTE5\nMyIgcng9IjI3IiByeT0iMTgiLz4KPHRleHQgdGV4dC1hbmNob3I9Im1pZGRsZSIgeD0iMjciIHk9\nIi0xODkuMyIgZm9udC1mYW1pbHk9IlRpbWVzLHNlcmlmIiBmb250LXNpemU9IjE0LjAwIj4uPC90\nZXh0Pgo8L2c+CjwhLS0gLi4uLi4uLi4uLi4uLi4uLi4uLi4uLi4uLi4uLi4uLi4uLi4uIC0tPgo8\nZyBpZD0ibm9kZTYiIGNsYXNzPSJub2RlIj4KPHRpdGxlPi4uLi4uLi4uLi4uLi4uLi4uLi4uLi4u\nLi4uLi4uLi4uLi4uLjwvdGl0bGU+CjxlbGxpcHNlIGZpbGw9Im5vbmUiIHN0cm9rZT0iYmxhY2si\nIGN4PSIyMzUuODkiIGN5PSItMTM5IiByeD0iMTE2LjE4IiByeT0iMTgiLz4KPHRleHQgdGV4dC1h\nbmNob3I9Im1pZGRsZSIgeD0iMjM1Ljg5IiB5PSItMTM1LjMiIGZvbnQtZmFtaWx5PSJUaW1lcyxz\nZXJpZiIgZm9udC1zaXplPSIxNC4wMCI+Li4uLi4uLi4uLi4uLi4uLi4uLi4uLi4uLi4uLi4uLi4u\nLi4uPC90ZXh0Pgo8L2c+CjwhLS0gLiYjNDU7Jmd0Oy4uLi4uLi4uLi4uLi4uLi4uLi4uLi4uLi4u\nLi4uLi4uLi4uLiAtLT4KPGcgaWQ9ImVkZ2U0IiBjbGFzcz0iZWRnZSI+Cjx0aXRsZT4uJiM0NTsm\nZ3Q7Li4uLi4uLi4uLi4uLi4uLi4uLi4uLi4uLi4uLi4uLi4uLi4uPC90aXRsZT4KPHBhdGggZmls\nbD0ibm9uZSIgc3Ryb2tlPSJibGFjayIgZD0iTTUyLjU1LC0xODYuNTlDODAuMjcsLTE3OS4zNiAx\nMjYuNjIsLTE2Ny4yNiAxNjUuNjUsLTE1Ny4wNyIvPgo8cG9seWdvbiBmaWxsPSJibGFjayIgc3Ry\nb2tlPSJibGFjayIgcG9pbnRzPSIxNjYuNjEsLTE2MC40NCAxNzUuNCwtMTU0LjUzIDE2NC44NCwt\nMTUzLjY3IDE2Ni42MSwtMTYwLjQ0Ii8+Cjx0ZXh0IHRleHQtYW5jaG9yPSJtaWRkbGUiIHg9Ijg0\nLjUiIHk9Ii0xODQuOCIgZm9udC1mYW1pbHk9IlRpbWVzLHNlcmlmIiBmb250LXNpemU9IjE0LjAw\nIj4qIM6yzILigoA8L3RleHQ+CjwvZz4KPCEtLSAuLi4gLS0+CjxnIGlkPSJub2RlOCIgY2xhc3M9\nIm5vZGUiPgo8dGl0bGU+Li4uPC90aXRsZT4KPGVsbGlwc2UgZmlsbD0ibm9uZSIgc3Ryb2tlPSJi\nbGFjayIgY3g9IjQ3NS43OCIgY3k9Ii0xMzkiIHJ4PSIyNyIgcnk9IjE4Ii8+Cjx0ZXh0IHRleHQt\nYW5jaG9yPSJtaWRkbGUiIHg9IjQ3NS43OCIgeT0iLTEzNS4zIiBmb250LWZhbWlseT0iVGltZXMs\nc2VyaWYiIGZvbnQtc2l6ZT0iMTQuMDAiPi4uLjwvdGV4dD4KPC9nPgo8IS0tIC4uLi4uLi4uLi4u\nLi4uLi4uLi4uLi4uLi4uLi4uLi4uLi4uLiYjNDU7Jmd0Oy4uLiAtLT4KPGcgaWQ9ImVkZ2U2IiBj\nbGFzcz0iZWRnZSI+Cjx0aXRsZT4uLi4uLi4uLi4uLi4uLi4uLi4uLi4uLi4uLi4uLi4uLi4uLi4m\nIzQ1OyZndDsuLi48L3RpdGxlPgo8cGF0aCBmaWxsPSJub25lIiBzdHJva2U9ImJsYWNrIiBkPSJN\nMzUyLjM1LC0xMzlDMzgzLjU2LC0xMzkgNDE1LjA5LC0xMzkgNDM4LjMzLC0xMzkiLz4KPHBvbHln\nb24gZmlsbD0iYmxhY2siIHN0cm9rZT0iYmxhY2siIHBvaW50cz0iNDM4LjQsLTE0Mi41IDQ0OC40\nLC0xMzkgNDM4LjQsLTEzNS41IDQzOC40LC0xNDIuNSIvPgo8dGV4dCB0ZXh0LWFuY2hvcj0ibWlk\nZGxlIiB4PSI0MDIuNzgiIHk9Ii0xNDIuOCIgZm9udC1mYW1pbHk9IlRpbWVzLHNlcmlmIiBmb250\nLXNpemU9IjE0LjAwIj4gPC90ZXh0Pgo8L2c+CjwhLS0gLi4gLS0+CjxnIGlkPSJub2RlNyIgY2xh\nc3M9Im5vZGUiPgo8dGl0bGU+Li48L3RpdGxlPgo8ZWxsaXBzZSBmaWxsPSJub25lIiBzdHJva2U9\nImJsYWNrIiBjeD0iMjciIGN5PSItMTM5IiByeD0iMjciIHJ5PSIxOCIvPgo8dGV4dCB0ZXh0LWFu\nY2hvcj0ibWlkZGxlIiB4PSIyNyIgeT0iLTEzNS4zIiBmb250LWZhbWlseT0iVGltZXMsc2VyaWYi\nIGZvbnQtc2l6ZT0iMTQuMDAiPi4uPC90ZXh0Pgo8L2c+CjwhLS0gLi4mIzQ1OyZndDsuLi4uLi4u\nLi4uLi4uLi4uLi4uLi4uLi4uLi4uLi4uLi4uLi4gLS0+CjxnIGlkPSJlZGdlNSIgY2xhc3M9ImVk\nZ2UiPgo8dGl0bGU+Li4mIzQ1OyZndDsuLi4uLi4uLi4uLi4uLi4uLi4uLi4uLi4uLi4uLi4uLi4u\nLi48L3RpdGxlPgo8cGF0aCBmaWxsPSJub25lIiBzdHJva2U9ImJsYWNrIiBkPSJNNTQuMiwtMTM5\nQzY4Ljg3LC0xMzkgODguMzYsLTEzOSAxMDkuMSwtMTM5Ii8+Cjxwb2x5Z29uIGZpbGw9ImJsYWNr\nIiBzdHJva2U9ImJsYWNrIiBwb2ludHM9IjEwOS4zNywtMTQyLjUgMTE5LjM3LC0xMzkgMTA5LjM3\nLC0xMzUuNSAxMDkuMzcsLTE0Mi41Ii8+Cjx0ZXh0IHRleHQtYW5jaG9yPSJtaWRkbGUiIHg9Ijg0\nLjUiIHk9Ii0xNDIuOCIgZm9udC1mYW1pbHk9IlRpbWVzLHNlcmlmIiBmb250LXNpemU9IjE0LjAw\nIj4qIM6yzILigoE8L3RleHQ+CjwvZz4KPCEtLSAxICAtLT4KPGcgaWQ9Im5vZGU5IiBjbGFzcz0i\nbm9kZSI+Cjx0aXRsZT4xIDwvdGl0bGU+CjxlbGxpcHNlIGZpbGw9Im5vbmUiIHN0cm9rZT0iYmxh\nY2siIGN4PSIyNyIgY3k9Ii0zMDEiIHJ4PSIyNyIgcnk9IjE4Ii8+Cjx0ZXh0IHRleHQtYW5jaG9y\nPSJtaWRkbGUiIHg9IjI3IiB5PSItMjk3LjMiIGZvbnQtZmFtaWx5PSJUaW1lcyxzZXJpZiIgZm9u\ndC1zaXplPSIxNC4wMCI+MSA8L3RleHQ+CjwvZz4KPCEtLSDOssyC4oKAICsgeOKCgirOssyC4oKB\nLCAmIzE2MDsmIzE2MDsmIzE2MDtiaWFzPUZhbHNlIC0tPgo8ZyBpZD0ibm9kZTEwIiBjbGFzcz0i\nbm9kZSI+Cjx0aXRsZT7OssyC4oKAICsgeOKCgirOssyC4oKBLCAmIzE2MDsmIzE2MDsmIzE2MDti\naWFzPUZhbHNlPC90aXRsZT4KPGVsbGlwc2UgZmlsbD0ibm9uZSIgc3Ryb2tlPSJibGFjayIgY3g9\nIjIzNS44OSIgY3k9Ii0yNzQiIHJ4PSIxMjAuNDgiIHJ5PSIxOCIvPgo8dGV4dCB0ZXh0LWFuY2hv\ncj0ibWlkZGxlIiB4PSIyMzUuODkiIHk9Ii0yNzAuMyIgZm9udC1mYW1pbHk9IlRpbWVzLHNlcmlm\nIiBmb250LXNpemU9IjE0LjAwIj7OssyC4oKAICsgeOKCgirOssyC4oKBLCAmIzE2MDsmIzE2MDsm\nIzE2MDtiaWFzPUZhbHNlPC90ZXh0Pgo8L2c+CjwhLS0gMSAmIzQ1OyZndDvOssyC4oKAICsgeOKC\ngirOssyC4oKBLCAmIzE2MDsmIzE2MDsmIzE2MDtiaWFzPUZhbHNlIC0tPgo8ZyBpZD0iZWRnZTci\nIGNsYXNzPSJlZGdlIj4KPHRpdGxlPjEgJiM0NTsmZ3Q7zrLMguKCgCArIHjigoIqzrLMguKCgSwg\nJiMxNjA7JiMxNjA7JiMxNjA7Ymlhcz1GYWxzZTwvdGl0bGU+CjxwYXRoIGZpbGw9Im5vbmUiIHN0\ncm9rZT0iYmxhY2siIGQ9Ik01My43OCwtMjk3LjY0Qzc0LjMyLC0yOTQuOTYgMTA0LjQ3LC0yOTEu\nMDIgMTM0LjMxLC0yODcuMTMiLz4KPHBvbHlnb24gZmlsbD0iYmxhY2siIHN0cm9rZT0iYmxhY2si\nIHBvaW50cz0iMTM0Ljk0LC0yOTAuNTcgMTQ0LjQsLTI4NS44MSAxMzQuMDQsLTI4My42MyAxMzQu\nOTQsLTI5MC41NyIvPgo8dGV4dCB0ZXh0LWFuY2hvcj0ibWlkZGxlIiB4PSI4NC41IiB5PSItMjk4\nLjgiIGZvbnQtZmFtaWx5PSJUaW1lcyxzZXJpZiIgZm9udC1zaXplPSIxNC4wMCI+KiDOssyC4oKA\nPC90ZXh0Pgo8L2c+CjwhLS0gecyC4oKCIC0tPgo8ZyBpZD0ibm9kZTEyIiBjbGFzcz0ibm9kZSI+\nCjx0aXRsZT55zILigoI8L3RpdGxlPgo8ZWxsaXBzZSBmaWxsPSJub25lIiBzdHJva2U9ImJsYWNr\nIiBjeD0iNDc1Ljc4IiBjeT0iLTI3NCIgcng9IjI3IiByeT0iMTgiLz4KPHRleHQgdGV4dC1hbmNo\nb3I9Im1pZGRsZSIgeD0iNDc1Ljc4IiB5PSItMjcwLjMiIGZvbnQtZmFtaWx5PSJUaW1lcyxzZXJp\nZiIgZm9udC1zaXplPSIxNC4wMCI+ecyC4oKCPC90ZXh0Pgo8L2c+CjwhLS0gzrLMguKCgCArIHji\ngoIqzrLMguKCgSwgJiMxNjA7JiMxNjA7JiMxNjA7Ymlhcz1GYWxzZSYjNDU7Jmd0O3nMguKCgiAt\nLT4KPGcgaWQ9ImVkZ2U5IiBjbGFzcz0iZWRnZSI+Cjx0aXRsZT7OssyC4oKAICsgeOKCgirOssyC\n4oKBLCAmIzE2MDsmIzE2MDsmIzE2MDtiaWFzPUZhbHNlJiM0NTsmZ3Q7ecyC4oKCPC90aXRsZT4K\nPHBhdGggZmlsbD0ibm9uZSIgc3Ryb2tlPSJibGFjayIgZD0iTTM1Ni4xOCwtMjc0QzM4Ni4wNywt\nMjc0IDQxNS45MywtMjc0IDQzOC4yMSwtMjc0Ii8+Cjxwb2x5Z29uIGZpbGw9ImJsYWNrIiBzdHJv\na2U9ImJsYWNrIiBwb2ludHM9IjQzOC41MSwtMjc3LjUgNDQ4LjUxLC0yNzQgNDM4LjUxLC0yNzAu\nNSA0MzguNTEsLTI3Ny41Ii8+Cjx0ZXh0IHRleHQtYW5jaG9yPSJtaWRkbGUiIHg9IjQwMi43OCIg\neT0iLTI3Ny44IiBmb250LWZhbWlseT0iVGltZXMsc2VyaWYiIGZvbnQtc2l6ZT0iMTQuMDAiPmlk\nZW50aXR5PC90ZXh0Pgo8L2c+CjwhLS0geOKCgiAtLT4KPGcgaWQ9Im5vZGUxMSIgY2xhc3M9Im5v\nZGUiPgo8dGl0bGU+eOKCgjwvdGl0bGU+CjxlbGxpcHNlIGZpbGw9Im5vbmUiIHN0cm9rZT0iYmxh\nY2siIGN4PSIyNyIgY3k9Ii0yNDciIHJ4PSIyNyIgcnk9IjE4Ii8+Cjx0ZXh0IHRleHQtYW5jaG9y\nPSJtaWRkbGUiIHg9IjI3IiB5PSItMjQzLjMiIGZvbnQtZmFtaWx5PSJUaW1lcyxzZXJpZiIgZm9u\ndC1zaXplPSIxNC4wMCI+eOKCgjwvdGV4dD4KPC9nPgo8IS0tIHjigoImIzQ1OyZndDvOssyC4oKA\nICsgeOKCgirOssyC4oKBLCAmIzE2MDsmIzE2MDsmIzE2MDtiaWFzPUZhbHNlIC0tPgo8ZyBpZD0i\nZWRnZTgiIGNsYXNzPSJlZGdlIj4KPHRpdGxlPnjigoImIzQ1OyZndDvOssyC4oKAICsgeOKCgirO\nssyC4oKBLCAmIzE2MDsmIzE2MDsmIzE2MDtiaWFzPUZhbHNlPC90aXRsZT4KPHBhdGggZmlsbD0i\nbm9uZSIgc3Ryb2tlPSJibGFjayIgZD0iTTUzLjc4LC0yNTAuMzZDNzQuMzIsLTI1My4wNCAxMDQu\nNDcsLTI1Ni45OCAxMzQuMzEsLTI2MC44NyIvPgo8cG9seWdvbiBmaWxsPSJibGFjayIgc3Ryb2tl\nPSJibGFjayIgcG9pbnRzPSIxMzQuMDQsLTI2NC4zNyAxNDQuNCwtMjYyLjE5IDEzNC45NCwtMjU3\nLjQzIDEzNC4wNCwtMjY0LjM3Ii8+Cjx0ZXh0IHRleHQtYW5jaG9yPSJtaWRkbGUiIHg9Ijg0LjUi\nIHk9Ii0yNTguOCIgZm9udC1mYW1pbHk9IlRpbWVzLHNlcmlmIiBmb250LXNpemU9IjE0LjAwIj4q\nIM6yzILigoE8L3RleHQ+CjwvZz4KPCEtLSAxICYjMTYwOyAtLT4KPGcgaWQ9Im5vZGUxMyIgY2xh\nc3M9Im5vZGUiPgo8dGl0bGU+MSAmIzE2MDs8L3RpdGxlPgo8ZWxsaXBzZSBmaWxsPSJub25lIiBz\ndHJva2U9ImJsYWNrIiBjeD0iMjciIGN5PSItNDA5IiByeD0iMjciIHJ5PSIxOCIvPgo8dGV4dCB0\nZXh0LWFuY2hvcj0ibWlkZGxlIiB4PSIyNyIgeT0iLTQwNS4zIiBmb250LWZhbWlseT0iVGltZXMs\nc2VyaWYiIGZvbnQtc2l6ZT0iMTQuMDAiPjEgJiMxNjA7PC90ZXh0Pgo8L2c+CjwhLS0gzrLMguKC\ngCArIHjigoEqzrLMguKCgSwgJiMxNjA7JiMxNjA7JiMxNjA7Ymlhcz1GYWxzZSAtLT4KPGcgaWQ9\nIm5vZGUxNCIgY2xhc3M9Im5vZGUiPgo8dGl0bGU+zrLMguKCgCArIHjigoEqzrLMguKCgSwgJiMx\nNjA7JiMxNjA7JiMxNjA7Ymlhcz1GYWxzZTwvdGl0bGU+CjxlbGxpcHNlIGZpbGw9Im5vbmUiIHN0\ncm9rZT0iYmxhY2siIGN4PSIyMzUuODkiIGN5PSItMzgyIiByeD0iMTIwLjQ4IiByeT0iMTgiLz4K\nPHRleHQgdGV4dC1hbmNob3I9Im1pZGRsZSIgeD0iMjM1Ljg5IiB5PSItMzc4LjMiIGZvbnQtZmFt\naWx5PSJUaW1lcyxzZXJpZiIgZm9udC1zaXplPSIxNC4wMCI+zrLMguKCgCArIHjigoEqzrLMguKC\ngSwgJiMxNjA7JiMxNjA7JiMxNjA7Ymlhcz1GYWxzZTwvdGV4dD4KPC9nPgo8IS0tIDEgJiMxNjA7\nJiM0NTsmZ3Q7zrLMguKCgCArIHjigoEqzrLMguKCgSwgJiMxNjA7JiMxNjA7JiMxNjA7Ymlhcz1G\nYWxzZSAtLT4KPGcgaWQ9ImVkZ2UxMCIgY2xhc3M9ImVkZ2UiPgo8dGl0bGU+MSAmIzE2MDsmIzQ1\nOyZndDvOssyC4oKAICsgeOKCgSrOssyC4oKBLCAmIzE2MDsmIzE2MDsmIzE2MDtiaWFzPUZhbHNl\nPC90aXRsZT4KPHBhdGggZmlsbD0ibm9uZSIgc3Ryb2tlPSJibGFjayIgZD0iTTUzLjc4LC00MDUu\nNjRDNzQuMzIsLTQwMi45NiAxMDQuNDcsLTM5OS4wMiAxMzQuMzEsLTM5NS4xMyIvPgo8cG9seWdv\nbiBmaWxsPSJibGFjayIgc3Ryb2tlPSJibGFjayIgcG9pbnRzPSIxMzQuOTQsLTM5OC41NyAxNDQu\nNCwtMzkzLjgxIDEzNC4wNCwtMzkxLjYzIDEzNC45NCwtMzk4LjU3Ii8+Cjx0ZXh0IHRleHQtYW5j\naG9yPSJtaWRkbGUiIHg9Ijg0LjUiIHk9Ii00MDYuOCIgZm9udC1mYW1pbHk9IlRpbWVzLHNlcmlm\nIiBmb250LXNpemU9IjE0LjAwIj4qIM6yzILigoA8L3RleHQ+CjwvZz4KPCEtLSB5zILigoEgLS0+\nCjxnIGlkPSJub2RlMTYiIGNsYXNzPSJub2RlIj4KPHRpdGxlPnnMguKCgTwvdGl0bGU+CjxlbGxp\ncHNlIGZpbGw9Im5vbmUiIHN0cm9rZT0iYmxhY2siIGN4PSI0NzUuNzgiIGN5PSItMzgyIiByeD0i\nMjciIHJ5PSIxOCIvPgo8dGV4dCB0ZXh0LWFuY2hvcj0ibWlkZGxlIiB4PSI0NzUuNzgiIHk9Ii0z\nNzguMyIgZm9udC1mYW1pbHk9IlRpbWVzLHNlcmlmIiBmb250LXNpemU9IjE0LjAwIj55zILigoE8\nL3RleHQ+CjwvZz4KPCEtLSDOssyC4oKAICsgeOKCgSrOssyC4oKBLCAmIzE2MDsmIzE2MDsmIzE2\nMDtiaWFzPUZhbHNlJiM0NTsmZ3Q7ecyC4oKBIC0tPgo8ZyBpZD0iZWRnZTEyIiBjbGFzcz0iZWRn\nZSI+Cjx0aXRsZT7OssyC4oKAICsgeOKCgSrOssyC4oKBLCAmIzE2MDsmIzE2MDsmIzE2MDtiaWFz\nPUZhbHNlJiM0NTsmZ3Q7ecyC4oKBPC90aXRsZT4KPHBhdGggZmlsbD0ibm9uZSIgc3Ryb2tlPSJi\nbGFjayIgZD0iTTM1Ni4xOCwtMzgyQzM4Ni4wNywtMzgyIDQxNS45MywtMzgyIDQzOC4yMSwtMzgy\nIi8+Cjxwb2x5Z29uIGZpbGw9ImJsYWNrIiBzdHJva2U9ImJsYWNrIiBwb2ludHM9IjQzOC41MSwt\nMzg1LjUgNDQ4LjUxLC0zODIgNDM4LjUxLC0zNzguNSA0MzguNTEsLTM4NS41Ii8+Cjx0ZXh0IHRl\neHQtYW5jaG9yPSJtaWRkbGUiIHg9IjQwMi43OCIgeT0iLTM4NS44IiBmb250LWZhbWlseT0iVGlt\nZXMsc2VyaWYiIGZvbnQtc2l6ZT0iMTQuMDAiPmlkZW50aXR5PC90ZXh0Pgo8L2c+CjwhLS0geOKC\ngSAtLT4KPGcgaWQ9Im5vZGUxNSIgY2xhc3M9Im5vZGUiPgo8dGl0bGU+eOKCgTwvdGl0bGU+Cjxl\nbGxpcHNlIGZpbGw9Im5vbmUiIHN0cm9rZT0iYmxhY2siIGN4PSIyNyIgY3k9Ii0zNTUiIHJ4PSIy\nNyIgcnk9IjE4Ii8+Cjx0ZXh0IHRleHQtYW5jaG9yPSJtaWRkbGUiIHg9IjI3IiB5PSItMzUxLjMi\nIGZvbnQtZmFtaWx5PSJUaW1lcyxzZXJpZiIgZm9udC1zaXplPSIxNC4wMCI+eOKCgTwvdGV4dD4K\nPC9nPgo8IS0tIHjigoEmIzQ1OyZndDvOssyC4oKAICsgeOKCgSrOssyC4oKBLCAmIzE2MDsmIzE2\nMDsmIzE2MDtiaWFzPUZhbHNlIC0tPgo8ZyBpZD0iZWRnZTExIiBjbGFzcz0iZWRnZSI+Cjx0aXRs\nZT544oKBJiM0NTsmZ3Q7zrLMguKCgCArIHjigoEqzrLMguKCgSwgJiMxNjA7JiMxNjA7JiMxNjA7\nYmlhcz1GYWxzZTwvdGl0bGU+CjxwYXRoIGZpbGw9Im5vbmUiIHN0cm9rZT0iYmxhY2siIGQ9Ik01\nMy43OCwtMzU4LjM2Qzc0LjMyLC0zNjEuMDQgMTA0LjQ3LC0zNjQuOTggMTM0LjMxLC0zNjguODci\nLz4KPHBvbHlnb24gZmlsbD0iYmxhY2siIHN0cm9rZT0iYmxhY2siIHBvaW50cz0iMTM0LjA0LC0z\nNzIuMzcgMTQ0LjQsLTM3MC4xOSAxMzQuOTQsLTM2NS40MyAxMzQuMDQsLTM3Mi4zNyIvPgo8dGV4\ndCB0ZXh0LWFuY2hvcj0ibWlkZGxlIiB4PSI4NC41IiB5PSItMzY2LjgiIGZvbnQtZmFtaWx5PSJU\naW1lcyxzZXJpZiIgZm9udC1zaXplPSIxNC4wMCI+KiDOssyC4oKBPC90ZXh0Pgo8L2c+CjwvZz4K\nPC9zdmc+Cg==\n"
          }
        }
      ],
      "source": [
        "#collapse\n",
        "gv('''\n",
        "    \"1\" -> \"β̂₀ + xₙ*β̂₁,    bias=False\"[label=\"* β̂₀\"]\n",
        "    \"xₙ\" -> \"β̂₀ + xₙ*β̂₁,    bias=False\"[label=\"* β̂₁\"]\n",
        "    \"β̂₀ + xₙ*β̂₁,    bias=False\" -> \"ŷₙ\"[label=\"identity\"]\n",
        "\n",
        "    \".\" -> \"....................................\"[label=\"* β̂₀\"]\n",
        "    \"..\" -> \"....................................\"[label=\"* β̂₁\"]\n",
        "    \"....................................\" -> \"...\"[label=\" \"]\n",
        "\n",
        "    \"1 \" -> \"β̂₀ + x₂*β̂₁,    bias=False\"[label=\"* β̂₀\"]\n",
        "    \"x₂\" -> \"β̂₀ + x₂*β̂₁,    bias=False\"[label=\"* β̂₁\"]\n",
        "    \"β̂₀ + x₂*β̂₁,    bias=False\" -> \"ŷ₂\"[label=\"identity\"]\n",
        "\n",
        "    \"1  \" -> \"β̂₀ + x₁*β̂₁,    bias=False\"[label=\"* β̂₀\"]\n",
        "    \"x₁\" -> \"β̂₀ + x₁*β̂₁,    bias=False\"[label=\"* β̂₁\"]\n",
        "    \"β̂₀ + x₁*β̂₁,    bias=False\" -> \"ŷ₁\"[label=\"identity\"]\n",
        "''')\n"
      ],
      "id": "d38fb03d-981f-456e-b12a-34a732ea7ce9"
    },
    {
      "cell_type": "markdown",
      "metadata": {},
      "source": [
        "`-` 표현1의 소감? - 교수님이 고생해서 만든것 같음 - 그런데 그냥 다\n",
        "똑같은 그림의 반복이라 사실 고생한 의미가 없음.\n",
        "\n",
        "(표현2)\n",
        "\n",
        "`-` 그냥 아래와 같이 그리고 “모든 $i=1,2,3,\\dots,n$에 대하여\n",
        "$\\hat{y}_i$을 아래의 그림과 같이 그린다”고 하면 될것 같다."
      ],
      "id": "745f9241-dc29-4a91-abf3-a2351319b3da"
    },
    {
      "cell_type": "code",
      "execution_count": 5,
      "metadata": {
        "outputId": "319593ad-9908-4d6f-8c4a-0b51f6bc0667"
      },
      "outputs": [
        {
          "output_type": "display_data",
          "metadata": {},
          "data": {
            "image/svg+xml": "PD94bWwgdmVyc2lvbj0iMS4wIiBlbmNvZGluZz0iVVRGLTgiIHN0YW5kYWxvbmU9Im5vIj8+Cjwh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\nCjwvZz4KPC9nPgo8L3N2Zz4K\n"
          }
        }
      ],
      "source": [
        "#collapse\n",
        "gv('''\n",
        "    \"1\" -> \"β̂₀ + xᵢ*β̂₁,    bias=False\"[label=\"* β̂₀\"]\n",
        "    \"xᵢ\" -> \"β̂₀ + xᵢ*β̂₁,    bias=False\"[label=\"* β̂₁\"]\n",
        "    \"β̂₀ + xᵢ*β̂₁,    bias=False\" -> \"ŷᵢ\"[label=\"identity\"]\n",
        "\n",
        "''')\n"
      ],
      "id": "391930fc-c62c-4c47-84e7-e35b0e104d33"
    },
    {
      "cell_type": "markdown",
      "metadata": {},
      "source": [
        "(표현3)\n",
        "\n",
        "`-` 그런데 “모든 $i=1,2,3,\\dots,n$에 대하여 $\\hat{y}_i$을 아래의 그림과\n",
        "같이 그린다” 라는 언급자체도 반복할 필요가 없을 것 같다. (어차피 당연히\n",
        "그럴테니까) 그래서 단순히 아래와 같이 그려도 무방할듯 하다."
      ],
      "id": "2a4bce29-37eb-41e3-bcd2-11b756fe07e0"
    },
    {
      "cell_type": "code",
      "execution_count": 6,
      "metadata": {
        "outputId": "3512580a-e45b-4b44-c124-6b5d51367183"
      },
      "outputs": [
        {
          "output_type": "display_data",
          "metadata": {},
          "data": {
            "image/svg+xml": "PD94bWwgdmVyc2lvbj0iMS4wIiBlbmNvZGluZz0iVVRGLTgiIHN0YW5kYWxvbmU9Im5vIj8+Cjwh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\nZz4KPC9nPgo8L3N2Zz4K\n"
          }
        }
      ],
      "source": [
        "gv('''\n",
        "    \"1\" -> \"β̂₀ + x*β̂₁,    bias=False\"[label=\"* β̂₀\"]\n",
        "    \"x\" -> \"β̂₀ + x*β̂₁,    bias=False\"[label=\"* β̂₁\"]\n",
        "    \"β̂₀ + x*β̂₁,    bias=False\" -> \"ŷ\"[label=\"identity\"]\n",
        "\n",
        "''')\n"
      ],
      "id": "7dd1367b-3d1a-40c2-8598-4c8b25ca01d5"
    },
    {
      "cell_type": "markdown",
      "metadata": {},
      "source": [
        "(표현4)\n",
        "\n",
        "`-` 위의 모델은 아래와 같이 쓸 수 있다. ($\\beta_0$를 바이어스로 표현)"
      ],
      "id": "36f5b9e9-360c-4e70-ad15-103e37b4eeee"
    },
    {
      "cell_type": "code",
      "execution_count": 7,
      "metadata": {
        "outputId": "546d61f4-e401-4dec-ed4d-8acf7c193957"
      },
      "outputs": [
        {
          "output_type": "display_data",
          "metadata": {},
          "data": {
            "image/svg+xml": "PD94bWwgdmVyc2lvbj0iMS4wIiBlbmNvZGluZz0iVVRGLTgiIHN0YW5kYWxvbmU9Im5vIj8+Cjwh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\nPgo8L3N2Zz4K\n"
          }
        }
      ],
      "source": [
        "#collapse\n",
        "gv('''\n",
        "\"x\" -> \"x*β̂₁,    bias=True\"[label=\"*β̂₁\"] ;\n",
        "\"x*β̂₁,    bias=True\" -> \"ŷ\"[label=\"indentity\"] ''')\n"
      ],
      "id": "5c643e5e-3d37-4856-af2a-061afce0245f"
    },
    {
      "cell_type": "markdown",
      "metadata": {},
      "source": [
        "-   실제로는 이 표현을 많이 사용함\n",
        "\n",
        "(표현5)\n",
        "\n",
        "`-` 벡터버전으로 표현하면 아래와 같다. 이 경우에는 ${\\bf X}=[1,x]$에\n",
        "포함된 1이 bias의 역할을 해주므로 `bias = False` 임."
      ],
      "id": "f5d55df7-329e-4db8-b9a5-623c0795baaa"
    },
    {
      "cell_type": "code",
      "execution_count": 8,
      "metadata": {
        "outputId": "580590ef-7417-4f3d-fc81-db9e1fb8fe9d"
      },
      "outputs": [
        {
          "output_type": "display_data",
          "metadata": {},
          "data": {
            "image/svg+xml": "PD94bWwgdmVyc2lvbj0iMS4wIiBlbmNvZGluZz0iVVRGLTgiIHN0YW5kYWxvbmU9Im5vIj8+Cjwh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\n"
          }
        }
      ],
      "source": [
        "#collapse\n",
        "gv('''\n",
        "\"X\" -> \"X@β̂,    bias=False\"[label=\"@β̂\"] ;\n",
        "\"X@β̂,    bias=False\" -> \"ŷ\"[label=\"indentity\"] ''')\n"
      ],
      "id": "e59a2787-575c-4619-a244-4bd0154afcda"
    },
    {
      "cell_type": "markdown",
      "metadata": {},
      "source": [
        "-   저는 이걸 좋아해요\n",
        "\n",
        "(표현6)\n",
        "\n",
        "`-` 딥러닝에서는 $\\hat{\\boldsymbol{\\beta}}$ 대신에 $\\hat{{\\bf W}}$을\n",
        "라고 표현한다."
      ],
      "id": "02aaf029-f439-46d1-bc94-974ce29ff7ef"
    },
    {
      "cell_type": "code",
      "execution_count": 9,
      "metadata": {
        "outputId": "0221856f-c90c-4f5d-d07a-6d956d702e17"
      },
      "outputs": [
        {
          "output_type": "display_data",
          "metadata": {},
          "data": {
            "image/svg+xml": "PD94bWwgdmVyc2lvbj0iMS4wIiBlbmNvZGluZz0iVVRGLTgiIHN0YW5kYWxvbmU9Im5vIj8+Cjwh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\nZT0iMTQuMDAiPmlkZW50aXR5PC90ZXh0Pgo8L2c+CjwvZz4KPC9zdmc+Cg==\n"
          }
        }
      ],
      "source": [
        "#collapse\n",
        "gv('''\n",
        "\"X\" -> \"X@Ŵ,    bias=False\"[label=\"@Ŵ\"] ;\n",
        "\"X@Ŵ,    bias=False\" -> \"ŷ\"[label=\"identity\"] ''')\n"
      ],
      "id": "da58174e-d386-4a6d-9cc5-ef92e3b63dbb"
    },
    {
      "cell_type": "markdown",
      "metadata": {},
      "source": [
        "`-` 실제로는 표현4 혹은 표현5를 외우면 된다.\n",
        "\n",
        "### Layer의 개념\n",
        "\n",
        "`-` (표현4) 혹은 (표현5)의 그림은 레이어로 설명할 수 있다.\n",
        "\n",
        "`-` 레이어는 항상 아래와 같은 규칙을 가진다. - 첫 동그라미는 레이어의\n",
        "입력이다. - 첫번째 화살표는 선형변환을 의미한다. - 두번째 동그라미는\n",
        "선형변환의 결과이다. (이때 bias가 false인지 true인지에 따라서 실제\n",
        "수식이 조금 다름) - 두번째 화살표는 두번째 동그라미에 어떠한 함수 $f$를\n",
        "취하는 과정을 의미한다. (우리의 그림에서는 $f(x)=x$) - 세번째 동그라미는\n",
        "레이어의 최종출력이다.\n",
        "\n",
        "`-` 엄청 복잡한데, 결국 레이어를 만들때 위의 그림들을 의미하도록 하려면\n",
        "아래의 4개의 요소만 필요하다. 1. 레이어의 입력차원 2. 선형변환의 결과로\n",
        "얻어지는 차원 3. 선형변환에서 바이어스를 쓸지? 안쓸지? 4. 함수 $f$\n",
        "\n",
        "`-` 주목: 1,2가 결정되면 자동으로 $\\hat{{\\bf W}}$의 차원이 결정된다.\n",
        "\n",
        "(예시) - 레이어의 입력차원=2, 선형변환의 결과로 얻어지는 차원=1:\n",
        "$\\hat{\\bf W}$는 (2,1) 매트릭스 - 레이어의 입력차원=20, 선형변환의 결과로\n",
        "얻어지는 차원=5: $\\hat{\\bf W}$는 (20,5) 매트릭스 - 레이어의 입력차원=2,\n",
        "선형변환의 결과로 얻어지는 차원=50: $\\hat{\\bf W}$는 (2,50) 매트릭스\n",
        "\n",
        "`-` 주목2: 이중에서 절대 생략불가능 것은 “2. 선형변환의 결과로 얻어지는\n",
        "차원” 이다. - 레이어의 입력차원: 실제 레이어에 데이터가 들어올 때\n",
        "데이터의 입력차원을 컴퓨터 스스로 체크하여 $\\hat{\\bf W}$의 차원을 결정할\n",
        "수 있음. - 바이어스를 쓸지? 안쓸지? 기본적으로 쓴다고 가정한다. - 함수\n",
        "$f$: 기본적으로 항등함수를 가정하면 된다.\n",
        "\n",
        "### Keras를 이용한 풀이\n",
        "\n",
        "`-` 기본뼈대: net생성 $\\to$ add(layer) $\\to$ compile(opt,loss) $\\to$\n",
        "fit(data,epochs)\n",
        "\n",
        "`-` 데이터정리\n",
        "\n",
        "$${\\bf y}\\approx 2.5 +4*x$$"
      ],
      "id": "39bcf321-6084-45ec-84ec-cf6a4f1b0bdf"
    },
    {
      "cell_type": "code",
      "execution_count": 10,
      "metadata": {},
      "outputs": [],
      "source": [
        "tnp.random.seed(43052)\n",
        "N= 200\n",
        "x= tnp.linspace(0,1,N)\n",
        "epsilon= tnp.random.randn(N)*0.5\n",
        "y= 2.5+4*x +epsilon"
      ],
      "id": "93024486-9215-43ef-af7a-e483c8c4ce83"
    },
    {
      "cell_type": "code",
      "execution_count": 11,
      "metadata": {},
      "outputs": [],
      "source": [
        "X=tf.stack([tf.ones(N,dtype='float64'),x],axis=1)"
      ],
      "id": "e7e3aaaf-68f3-442d-a921-ea135061ce33"
    },
    {
      "cell_type": "markdown",
      "metadata": {},
      "source": [
        "#### 풀이1: 스칼라버전\n",
        "\n",
        "(0단계) 데이터정리"
      ],
      "id": "27572102-d773-4d04-9f31-bb05985301cf"
    },
    {
      "cell_type": "code",
      "execution_count": 12,
      "metadata": {
        "outputId": "aaa8e053-1616-4ddf-ec44-12337179886e"
      },
      "outputs": [],
      "source": [
        "y=y.reshape(N,1)\n",
        "x=x.reshape(N,1)\n",
        "x.shape,y.shape"
      ],
      "id": "c3bfb4b4-2e19-4473-ae84-db773f24e342"
    },
    {
      "cell_type": "markdown",
      "metadata": {},
      "source": [
        "(1단계) net 생성"
      ],
      "id": "6b0ceca3-7c75-4693-8b32-a9ee47f494c3"
    },
    {
      "cell_type": "code",
      "execution_count": 13,
      "metadata": {},
      "outputs": [],
      "source": [
        "net = tf.keras.Sequential()"
      ],
      "id": "bc5ce1fc-7d88-4646-86ef-5bf206081d41"
    },
    {
      "cell_type": "markdown",
      "metadata": {},
      "source": [
        "(2단계) net.add(layer)"
      ],
      "id": "2d58f200-2247-4218-affe-0a0e5e36785e"
    },
    {
      "cell_type": "code",
      "execution_count": 14,
      "metadata": {},
      "outputs": [],
      "source": [
        "layer = tf.keras.layers.Dense(1)\n",
        "# 입력차원? 데이터를 넣어보고 결정, 바이어스=디폴드값을 쓰겠음 (use_bias=true), 함수도 디폴트값을 쓰겠음 (f(x)=x)\n",
        "net.add(layer)"
      ],
      "id": "459db291-bb6a-46fc-9ba2-fea2a8d9515e"
    },
    {
      "cell_type": "markdown",
      "metadata": {},
      "source": [
        "(3단계) net.compile(opt,loss_fn)"
      ],
      "id": "feab4844-1bb2-4a34-8d24-f3455f3b4e1f"
    },
    {
      "cell_type": "code",
      "execution_count": 15,
      "metadata": {},
      "outputs": [],
      "source": [
        "net.compile(tf.keras.optimizers.SGD(0.1), tf.keras.losses.MSE)"
      ],
      "id": "4c426525-b9a6-4dc1-beb6-04271dfbfeff"
    },
    {
      "cell_type": "markdown",
      "metadata": {},
      "source": [
        "(4단계) net.fit(x,y,epochs)"
      ],
      "id": "6bd8554b-7c8e-4c5f-b2a4-631f67f89823"
    },
    {
      "cell_type": "code",
      "execution_count": 16,
      "metadata": {
        "outputId": "57335d75-1ee2-42a0-8f98-e28a0ec94e2b"
      },
      "outputs": [],
      "source": [
        "net.fit(x,y,epochs=1000,verbose=0,batch_size=N) # batch_size=N 일 경우에 경사하강법이 적용, batch_size!=N 이면 확률적 경사하강법 적용"
      ],
      "id": "09d506b2-f900-4b7c-b236-629a3653ae45"
    },
    {
      "cell_type": "markdown",
      "metadata": {},
      "source": [
        "(결과확인)"
      ],
      "id": "687727f6-456d-4d86-a24e-e59af78f018b"
    },
    {
      "cell_type": "code",
      "execution_count": 17,
      "metadata": {
        "outputId": "38db54de-0c83-4e72-ee66-40bdc0a75163"
      },
      "outputs": [],
      "source": [
        "net.weights"
      ],
      "id": "c34a2cbc-f694-4a7c-a71e-983f1a7fd3d4"
    },
    {
      "cell_type": "markdown",
      "metadata": {},
      "source": [
        "#### 풀이2: 벡터버전\n",
        "\n",
        "(0단계) 데이터정리"
      ],
      "id": "6556695c-ddf8-49ce-a57a-86c1011bf1f6"
    },
    {
      "cell_type": "code",
      "execution_count": 18,
      "metadata": {
        "outputId": "d65e34cc-df99-4392-8937-38f5636fc815"
      },
      "outputs": [],
      "source": [
        "X.shape,y.shape"
      ],
      "id": "e17f9465-ea7b-40b0-83a6-08829458f13b"
    },
    {
      "cell_type": "markdown",
      "metadata": {},
      "source": [
        "(1단계) net 생성"
      ],
      "id": "a9f240b3-ad0a-4b43-a685-59b738bce97b"
    },
    {
      "cell_type": "code",
      "execution_count": 19,
      "metadata": {},
      "outputs": [],
      "source": [
        "net = tf.keras.Sequential()"
      ],
      "id": "a56364ba-9604-4818-8e67-60b9d76182a8"
    },
    {
      "cell_type": "markdown",
      "metadata": {},
      "source": [
        "(2단계) net.add(layer)"
      ],
      "id": "0a7c8d6e-9381-44f5-9502-085ef9372d20"
    },
    {
      "cell_type": "code",
      "execution_count": 20,
      "metadata": {},
      "outputs": [],
      "source": [
        "layer = tf.keras.layers.Dense(1,use_bias=False)\n",
        "net.add(layer)"
      ],
      "id": "fb92658e-f8f5-4a7f-9c6b-88e3b77b5d30"
    },
    {
      "cell_type": "markdown",
      "metadata": {},
      "source": [
        "(3단계) net.compile(opt,loss_fn)"
      ],
      "id": "36f8b5da-bf34-4f91-8e99-296a73d9a11c"
    },
    {
      "cell_type": "code",
      "execution_count": 21,
      "metadata": {},
      "outputs": [],
      "source": [
        "net.compile(tf.keras.optimizers.SGD(0.1), tf.keras.losses.MSE)"
      ],
      "id": "6c26c134-2694-49e0-8372-1c512f869d26"
    },
    {
      "cell_type": "markdown",
      "metadata": {},
      "source": [
        "(4단계) net.fit(x,y,epochs)"
      ],
      "id": "a4202140-2cc8-4715-a229-f1b9e57444af"
    },
    {
      "cell_type": "code",
      "execution_count": 22,
      "metadata": {
        "outputId": "9b3bc257-2954-4b04-ab63-c8c2240e977c"
      },
      "outputs": [],
      "source": [
        "net.fit(X,y,epochs=1000,verbose=0,batch_size=N) # batch_size=N 일 경우에 경사하강법이 적용, batch_size!=N 이면 확률적 경사하강법 적용"
      ],
      "id": "eef89266-3b31-4441-b214-9c41981c9a01"
    },
    {
      "cell_type": "markdown",
      "metadata": {},
      "source": [
        "(결과확인)"
      ],
      "id": "b535ad47-15fe-475e-81e1-295eac3841b1"
    },
    {
      "cell_type": "code",
      "execution_count": 23,
      "metadata": {
        "outputId": "509d9878-46d4-47fd-9455-0303b4ffb5a4"
      },
      "outputs": [],
      "source": [
        "net.weights"
      ],
      "id": "5549b8f5-5f21-4e00-b989-f83118185f88"
    },
    {
      "cell_type": "markdown",
      "metadata": {},
      "source": [
        "#### 잠시문법정리\n",
        "\n",
        "`-` 잠깐 Dense layer를 만드는 코드를 정리해보자.\n",
        "\n",
        "1.  아래는 모두 같은 코드이다.\n",
        "\n",
        "-   tf.keras.layers.Dense(1)\n",
        "-   tf.keras.layers.Dense(units=1)\n",
        "-   tf.keras.layers.Dense(units=1,activation=‘linear’) // identity 가 더\n",
        "    맞는것 같은데..\n",
        "-   tf.keras.layers.Dense(units=1,activation=‘linear’,use_bias=True)\n",
        "\n",
        "1.  아래의 코드1,2는 (1)의 코드들과 살짝 다른코드이다. (코드1과 코드2는\n",
        "    같은코드임)\n",
        "\n",
        "-   tf.keras.layers.Dense(1,input_dim=2) \\# 코드1\n",
        "-   tf.keras.layers.Dense(1,input_shape=(2,)) \\# 코드2\n",
        "\n",
        "1.  아래는 사용불가능한 코드이다.\n",
        "\n",
        "-   tf.keras.layers.Dense(1,input_dim=(2,)) \\# 코드1\n",
        "-   tf.keras.layers.Dense(1,input_shape=2) \\# 코드2\n",
        "\n",
        "`-` 왜 input_dim이 필요한가?"
      ],
      "id": "17b1df54-6697-44fd-9670-626a73cfab99"
    },
    {
      "cell_type": "code",
      "execution_count": 25,
      "metadata": {},
      "outputs": [],
      "source": [
        "net1 = tf.keras.Sequential()\n",
        "net1.add(tf.keras.layers.Dense(1,use_bias=False))"
      ],
      "id": "a1d457a8-1855-43ec-8fa2-a6b3f12fcf2f"
    },
    {
      "cell_type": "code",
      "execution_count": 26,
      "metadata": {},
      "outputs": [],
      "source": [
        "net2 = tf.keras.Sequential()\n",
        "net2.add(tf.keras.layers.Dense(1,use_bias=False,input_dim=2))"
      ],
      "id": "e3dbb9a4-a0d7-48a8-862e-3f6f27765aa4"
    },
    {
      "cell_type": "code",
      "execution_count": 27,
      "metadata": {
        "outputId": "f9866595-ac4e-4e9a-d0fb-c42e54e28e5f"
      },
      "outputs": [],
      "source": [
        "net1.weights"
      ],
      "id": "cfbbee7e-a6ce-4fe3-8c93-b327b85b2341"
    },
    {
      "cell_type": "code",
      "execution_count": 28,
      "metadata": {
        "outputId": "03db0261-ea85-46b8-efaf-858cc7ba6c33"
      },
      "outputs": [],
      "source": [
        "net2.weights"
      ],
      "id": "47e12258-faca-46aa-b0c4-def4cadcb10b"
    },
    {
      "cell_type": "code",
      "execution_count": 29,
      "metadata": {
        "outputId": "765ae303-5a6f-4ec2-a105-3e7c1f9b0de5"
      },
      "outputs": [],
      "source": [
        "net1.summary()"
      ],
      "id": "11b1bfdf-f130-41a4-a621-e7c8d03159b9"
    },
    {
      "cell_type": "code",
      "execution_count": 30,
      "metadata": {
        "outputId": "fef0fcd3-d889-4ee9-d3af-e375539d3911"
      },
      "outputs": [
        {
          "output_type": "stream",
          "name": "stdout",
          "text": [
            "Model: \"sequential_3\"\n",
            "_________________________________________________________________\n",
            " Layer (type)                Output Shape              Param #   \n",
            "=================================================================\n",
            " dense_3 (Dense)             (None, 1)                 2         \n",
            "                                                                 \n",
            "=================================================================\n",
            "Total params: 2\n",
            "Trainable params: 2\n",
            "Non-trainable params: 0\n",
            "_________________________________________________________________"
          ]
        }
      ],
      "source": [
        "net2.summary()"
      ],
      "id": "60ea03e0-b6a2-4c84-bb55-0e9c0d818873"
    },
    {
      "cell_type": "markdown",
      "metadata": {},
      "source": [
        "#### 풀이3: 스칼라버전, 임의의 초기값을 설정\n",
        "\n",
        "(0단계) 데이터정리"
      ],
      "id": "35298431-b476-4f97-8fdf-f83977b4433f"
    },
    {
      "cell_type": "code",
      "execution_count": 31,
      "metadata": {
        "outputId": "e0b52880-7a3c-48e6-cba0-23d4e3216d77"
      },
      "outputs": [],
      "source": [
        "y=y.reshape(N,1)\n",
        "x=x.reshape(N,1)\n",
        "x.shape,y.shape"
      ],
      "id": "a288a157-8e81-4606-b6f7-86b2b210da4e"
    },
    {
      "cell_type": "markdown",
      "metadata": {},
      "source": [
        "(1단계) net생성"
      ],
      "id": "c648f56c-7720-4d55-9b5f-f2f350007f06"
    },
    {
      "cell_type": "code",
      "execution_count": 32,
      "metadata": {},
      "outputs": [],
      "source": [
        "net = tf.keras.Sequential()"
      ],
      "id": "78e068fe-a16d-41e0-8e47-3e36257ec92c"
    },
    {
      "cell_type": "markdown",
      "metadata": {},
      "source": [
        "(2단계) net.add(layer)"
      ],
      "id": "638f9444-9f36-42d7-86f5-3e3991df0f4a"
    },
    {
      "cell_type": "code",
      "execution_count": 33,
      "metadata": {},
      "outputs": [],
      "source": [
        "layer = tf.keras.layers.Dense(1,input_dim=1)"
      ],
      "id": "92c7d5fc-3a3a-46aa-a910-65faa2688fa9"
    },
    {
      "cell_type": "code",
      "execution_count": 34,
      "metadata": {},
      "outputs": [],
      "source": [
        "net.add(layer)"
      ],
      "id": "9e94cc78-76f5-45df-b269-d07d7d1f75f5"
    },
    {
      "cell_type": "markdown",
      "metadata": {},
      "source": [
        "------------------------------------------------------------------------\n",
        "\n",
        "***초기값을 설정***"
      ],
      "id": "3f1d35c2-67d4-4141-b8a6-6079114f022d"
    },
    {
      "cell_type": "code",
      "execution_count": 38,
      "metadata": {
        "outputId": "e6b9ee01-bde3-4001-9244-8e245909eab7"
      },
      "outputs": [],
      "source": [
        "net.weights"
      ],
      "id": "cc13ccac-3892-4182-a655-81bfb9d7a785"
    },
    {
      "cell_type": "markdown",
      "metadata": {},
      "source": [
        "-   input_dim=1로 설정해서 weights값이 찍힘"
      ],
      "id": "6cbacb2a-188f-4f43-9d2d-0ccc442fad6c"
    },
    {
      "cell_type": "code",
      "execution_count": 39,
      "metadata": {
        "outputId": "ac946f2f-b3f7-4cd4-ac26-90b45cfed633"
      },
      "outputs": [],
      "source": [
        "net.get_weights()"
      ],
      "id": "d83f0340-b7b0-4c8b-b002-21f9e86a8ad2"
    },
    {
      "cell_type": "markdown",
      "metadata": {},
      "source": [
        "-   weight, bias순으로 출력"
      ],
      "id": "7d2bf49c-0e62-4963-bf8c-ffe5abf5815b"
    },
    {
      "cell_type": "code",
      "execution_count": 40,
      "metadata": {
        "outputId": "21d960e6-d6c0-4891-c41e-1cee32cfa4ea"
      },
      "outputs": [],
      "source": [
        "net.set_weights?"
      ],
      "id": "1c681405-d2ff-4873-b5b8-58239a24e559"
    },
    {
      "cell_type": "markdown",
      "metadata": {},
      "source": [
        "-   layer_b.set_weights(layer_a.get_weights()) 와 같은방식으로 쓴다는\n",
        "    것이군?\n",
        "\n",
        "`-` 한번따라해보자."
      ],
      "id": "7820dec0-4de0-439e-bfb3-e7c9835943cb"
    },
    {
      "cell_type": "code",
      "execution_count": 41,
      "metadata": {
        "outputId": "8a04c935-9879-441a-80ca-18b93580bd85"
      },
      "outputs": [],
      "source": [
        "_w = net.get_weights()\n",
        "_w"
      ],
      "id": "1a640c30-9324-42d7-8cbf-77da5576456b"
    },
    {
      "cell_type": "code",
      "execution_count": 42,
      "metadata": {},
      "outputs": [],
      "source": [
        "type(_w)"
      ],
      "id": "d99477c4-97cb-4e14-9c8e-15afd0b203da"
    },
    {
      "cell_type": "markdown",
      "metadata": {},
      "source": [
        "-   길이가 2인 리스트이고, 각 원소는 numpy array 임"
      ],
      "id": "7cfde618-c6f5-44a2-8daa-35b80f82937c"
    },
    {
      "cell_type": "code",
      "execution_count": 43,
      "metadata": {},
      "outputs": [],
      "source": [
        "net.set_weights(\n",
        "    [np.array([[10.0]],dtype=np.float32), # weight, β1_hat\n",
        "     np.array([-5.0],dtype=np.float32)] # bias, β0_hat\n",
        ")"
      ],
      "id": "8528851c-b300-45a8-8661-0a91a8049e7b"
    },
    {
      "cell_type": "code",
      "execution_count": 44,
      "metadata": {
        "outputId": "7433446a-34a4-4a80-ded7-c0ca81d1b4b7"
      },
      "outputs": [],
      "source": [
        "net.weights"
      ],
      "id": "d3ea7db3-3485-415f-a698-9e03e49472d8"
    },
    {
      "cell_type": "markdown",
      "metadata": {},
      "source": [
        "------------------------------------------------------------------------\n",
        "\n",
        "(3단계) net.compile()"
      ],
      "id": "d466f25a-c731-46f5-8a16-cdb69e965540"
    },
    {
      "cell_type": "code",
      "execution_count": 45,
      "metadata": {},
      "outputs": [],
      "source": [
        "net.compile(tf.keras.optimizers.SGD(0.1),tf.losses.MSE)"
      ],
      "id": "2d0fd159-34ef-46a8-986e-d740893f2fac"
    },
    {
      "cell_type": "markdown",
      "metadata": {},
      "source": [
        "(4단계) net.fit()"
      ],
      "id": "40f44999-148b-4aa6-a0ea-3b463ba4d133"
    },
    {
      "cell_type": "code",
      "execution_count": 46,
      "metadata": {
        "outputId": "04ec4bea-2aa9-43a0-f504-3008fd41d15b"
      },
      "outputs": [],
      "source": [
        "net.fit(x,y,epochs=1000,verbose=0,batch_size=N)"
      ],
      "id": "78d66566-e4d7-4415-a27b-02524f4b548d"
    },
    {
      "cell_type": "markdown",
      "metadata": {},
      "source": [
        "결과확인"
      ],
      "id": "26b911b2-736e-451a-962b-d7ba7d6d69e2"
    },
    {
      "cell_type": "code",
      "execution_count": 47,
      "metadata": {
        "outputId": "bd7729a0-ff36-4932-ff81-1d5e461419e4"
      },
      "outputs": [],
      "source": [
        "net.weights"
      ],
      "id": "22b99f69-f8f7-46d8-8dd7-3207b936e8ca"
    },
    {
      "cell_type": "markdown",
      "metadata": {},
      "source": [
        "#### 풀이4: 벡터버전, 임의의 초기값을 설정\n",
        "\n",
        "(0단계) 데이터정리"
      ],
      "id": "08a22d7f-e7d6-4afc-a89a-e2394c19332c"
    },
    {
      "cell_type": "code",
      "execution_count": 48,
      "metadata": {
        "outputId": "ace6d888-21fb-4276-f25f-feffcfa8893a"
      },
      "outputs": [],
      "source": [
        "X.shape, y.shape"
      ],
      "id": "93cfb04d-b3a9-4b5e-9028-862e8c85aeb9"
    },
    {
      "cell_type": "markdown",
      "metadata": {},
      "source": [
        "(1단계) net생성"
      ],
      "id": "ef3bb7c1-816a-4440-bd25-ca8fec22905f"
    },
    {
      "cell_type": "code",
      "execution_count": 49,
      "metadata": {},
      "outputs": [],
      "source": [
        "net = tf.keras.Sequential()"
      ],
      "id": "a007ac5e-9934-4d32-984f-bfee5ae37b46"
    },
    {
      "cell_type": "markdown",
      "metadata": {},
      "source": [
        "(2단계) net.add(layer)"
      ],
      "id": "3ec16dad-8cd0-4316-8c75-93cb4dd358c9"
    },
    {
      "cell_type": "code",
      "execution_count": 50,
      "metadata": {},
      "outputs": [],
      "source": [
        "layer = tf.keras.layers.Dense(1,use_bias=False,input_dim=2)"
      ],
      "id": "4cda531d-ae90-4251-bfdb-345d8e587549"
    },
    {
      "cell_type": "markdown",
      "metadata": {},
      "source": [
        "-   위으 X.shape이 \\[200,2\\]니까 `input_dim=2` 로 해준다."
      ],
      "id": "409abfd9-7ae9-4b46-a6c7-69fbb3d71173"
    },
    {
      "cell_type": "code",
      "execution_count": 51,
      "metadata": {},
      "outputs": [],
      "source": [
        "net.add(layer)"
      ],
      "id": "e99384e5-4004-4b28-9198-a2e059db3dfd"
    },
    {
      "cell_type": "markdown",
      "metadata": {},
      "source": [
        "------------------------------------------------------------------------\n",
        "\n",
        "***초기값을 설정하자***"
      ],
      "id": "55aa618e-fc38-4afb-81f7-1c161cc4aa59"
    },
    {
      "cell_type": "code",
      "execution_count": 55,
      "metadata": {},
      "outputs": [],
      "source": [
        "net.set_weights([np.array([[ -5.0],[10.0]], dtype=np.float32)])"
      ],
      "id": "6eefcdec-9935-48c9-9599-833151ec6fa6"
    },
    {
      "cell_type": "code",
      "execution_count": 56,
      "metadata": {
        "outputId": "a2c03b3e-5f5f-41d0-fcb5-48a0a4c9a3c7"
      },
      "outputs": [],
      "source": [
        "net.get_weights()"
      ],
      "id": "c50953d5-947c-4e3c-b898-ab3c0b8975a0"
    },
    {
      "cell_type": "markdown",
      "metadata": {},
      "source": [
        "------------------------------------------------------------------------\n",
        "\n",
        "(3단계) net.compile()"
      ],
      "id": "5ce119a6-0308-4e3c-87ea-c397b655b59e"
    },
    {
      "cell_type": "code",
      "execution_count": 57,
      "metadata": {},
      "outputs": [],
      "source": [
        "net.compile(tf.keras.optimizers.SGD(0.1), tf.losses.MSE)"
      ],
      "id": "cc8c10cb-14b1-4f30-b5b5-0669586af7d9"
    },
    {
      "cell_type": "markdown",
      "metadata": {},
      "source": [
        "(4단계) net.fit()"
      ],
      "id": "86463055-efa8-4546-9568-6f0dc5ef60ec"
    },
    {
      "cell_type": "code",
      "execution_count": 58,
      "metadata": {
        "outputId": "327a7f6d-e2d7-46a8-ac17-9062b8d3bf54"
      },
      "outputs": [],
      "source": [
        "net.fit(X,y,epochs=1000,verbose=0,batch_size=N)"
      ],
      "id": "66469695-e469-4e06-a3b1-ed5f6c588889"
    },
    {
      "cell_type": "code",
      "execution_count": 59,
      "metadata": {
        "outputId": "d3f4a8c7-4517-4255-abc6-71de941589e2"
      },
      "outputs": [],
      "source": [
        "net.weights"
      ],
      "id": "84dc3946-7ab6-4985-b08d-7d51d214edd9"
    },
    {
      "cell_type": "markdown",
      "metadata": {},
      "source": [
        "`-` 사실 실전에서는 초기값을 설정할 필요가 별로 없음.\n",
        "\n",
        "#### 풀이5: 벡터버전 사용자정의 손실함수\n",
        "\n",
        "(0단계) 데이터정리"
      ],
      "id": "b93ac0e4-5bef-4c91-b8c1-7a51b0c93c7e"
    },
    {
      "cell_type": "code",
      "execution_count": 60,
      "metadata": {
        "outputId": "33a27e15-c625-4079-ba98-534947ebc517"
      },
      "outputs": [],
      "source": [
        "X.shape, y.shape"
      ],
      "id": "028e63af-2eb7-4b56-a855-ec0eb4a8abf4"
    },
    {
      "cell_type": "markdown",
      "metadata": {},
      "source": [
        "(1단계) net생성"
      ],
      "id": "8759b823-9bb9-4aef-9b84-9821b04dd12e"
    },
    {
      "cell_type": "code",
      "execution_count": 61,
      "metadata": {},
      "outputs": [],
      "source": [
        "net = tf.keras.Sequential()"
      ],
      "id": "3a5b9eff-f9b8-4586-bc7c-85bfdea6a592"
    },
    {
      "cell_type": "markdown",
      "metadata": {},
      "source": [
        "(2단계) net.add(layer)"
      ],
      "id": "b7bf8939-03d6-405e-a16f-1c5728f71233"
    },
    {
      "cell_type": "code",
      "execution_count": 62,
      "metadata": {},
      "outputs": [],
      "source": [
        "layer = tf.keras.layers.Dense(1,use_bias=False)"
      ],
      "id": "71543142-807f-4e0f-b99e-0dd8d413f53d"
    },
    {
      "cell_type": "code",
      "execution_count": 63,
      "metadata": {
        "tags": []
      },
      "outputs": [],
      "source": [
        "net.add(layer)"
      ],
      "id": "b39ebd32-b22e-43f4-98aa-a7de2530b95d"
    },
    {
      "cell_type": "markdown",
      "metadata": {},
      "source": [
        "(3단계) net.compile()"
      ],
      "id": "270db66e-a080-4920-831f-28ee15e4a7fd"
    },
    {
      "cell_type": "code",
      "execution_count": 64,
      "metadata": {},
      "outputs": [],
      "source": [
        "loss_fn = lambda y,yhat: (y-yhat).T @ (y-yhat) / N"
      ],
      "id": "08668fec-3ed1-4f57-8178-f78105f7e3e3"
    },
    {
      "cell_type": "code",
      "execution_count": 65,
      "metadata": {},
      "outputs": [],
      "source": [
        "net.compile(tf.keras.optimizers.SGD(0.1), loss_fn)"
      ],
      "id": "5b789d6c-8f3d-453a-b731-c78bb4338661"
    },
    {
      "cell_type": "markdown",
      "metadata": {},
      "source": [
        "(4단계) net.fit()"
      ],
      "id": "f07f5897-11f0-40ca-844f-35dd9ce80b0b"
    },
    {
      "cell_type": "code",
      "execution_count": 66,
      "metadata": {
        "outputId": "c2f6a3b0-4379-48cc-95bc-7b30bdb2d58c"
      },
      "outputs": [
        {
          "output_type": "stream",
          "name": "stdout",
          "text": [
            "WARNING:tensorflow:From /home/coco/anaconda3/envs/py38/lib/python3.8/site-packages/tensorflow/python/autograph/pyct/static_analysis/liveness.py:83: Analyzer.lamba_check (from tensorflow.python.autograph.pyct.static_analysis.liveness) is deprecated and will be removed after 2023-09-23.\n",
            "Instructions for updating:\n",
            "Lambda fuctions will be no more assumed to be used in the statement where they are used, or at least in the same block. https://github.com/tensorflow/tensorflow/issues/56089"
          ]
        }
      ],
      "source": [
        "net.fit(X,y,epochs=1000,verbose=0,batch_size=N)"
      ],
      "id": "9cdd4ec2-a551-4e8d-9df3-2eed86af965e"
    },
    {
      "cell_type": "code",
      "execution_count": 67,
      "metadata": {
        "outputId": "88f35ab5-34d3-4b6b-a585-d3d95202b1a7"
      },
      "outputs": [],
      "source": [
        "net.weights"
      ],
      "id": "48aeb7b4-98f4-4cef-9bdb-f4cd103a9fba"
    },
    {
      "cell_type": "markdown",
      "metadata": {},
      "source": [
        "#### 풀이6: 벡터버전, net.compile의 옵션으로 손실함수 지정\n",
        "\n",
        "(0단계) 데이터정리"
      ],
      "id": "9512ceba-f424-4298-b32a-61071a9e42a0"
    },
    {
      "cell_type": "code",
      "execution_count": 68,
      "metadata": {
        "outputId": "f97052c4-5755-43b2-828f-5aec3ded13c7"
      },
      "outputs": [],
      "source": [
        "X.shape, y.shape"
      ],
      "id": "80b4254d-a7a9-4bbd-92f5-4efbf952fd89"
    },
    {
      "cell_type": "markdown",
      "metadata": {},
      "source": [
        "(1단계) net생성"
      ],
      "id": "e4662c89-69b3-4545-b17f-0fe000ef68a3"
    },
    {
      "cell_type": "code",
      "execution_count": 69,
      "metadata": {},
      "outputs": [],
      "source": [
        "net = tf.keras.Sequential()"
      ],
      "id": "8484c632-76a7-4574-9fcc-14727771b347"
    },
    {
      "cell_type": "markdown",
      "metadata": {},
      "source": [
        "(2단계) net.add(layer)"
      ],
      "id": "a967cba5-a2d5-4c29-b200-038f8afada48"
    },
    {
      "cell_type": "code",
      "execution_count": 70,
      "metadata": {
        "tags": []
      },
      "outputs": [],
      "source": [
        "net.add(tf.keras.layers.Dense(1,use_bias=False))"
      ],
      "id": "cec6a9b9-e77a-48ea-970a-4cfc5d368509"
    },
    {
      "cell_type": "markdown",
      "metadata": {},
      "source": [
        "(3단계) net.compile()"
      ],
      "id": "caf5c097-84e0-416e-98ff-c011aff37641"
    },
    {
      "cell_type": "code",
      "execution_count": 72,
      "metadata": {},
      "outputs": [],
      "source": [
        "net.compile(tf.keras.optimizers.SGD(0.1), loss='mse')"
      ],
      "id": "6a611707-bbc7-45b8-a93b-2d083996dfef"
    },
    {
      "cell_type": "markdown",
      "metadata": {},
      "source": [
        "(4단계) net.fit()"
      ],
      "id": "ae8973dd-2c5d-42fc-ac79-df6c33cb4d83"
    },
    {
      "cell_type": "code",
      "execution_count": 73,
      "metadata": {
        "outputId": "fc835c4f-7bea-4952-8ada-7729f951d47d"
      },
      "outputs": [],
      "source": [
        "net.fit(X,y,epochs=1000,verbose=0,batch_size=N)"
      ],
      "id": "8364113c-9d92-4124-b423-985dade0f18e"
    },
    {
      "cell_type": "code",
      "execution_count": 74,
      "metadata": {
        "outputId": "4e60d722-5b99-4021-fb92-fba58bca208a"
      },
      "outputs": [],
      "source": [
        "net.weights"
      ],
      "id": "d572ef57-957b-41ee-842d-b9066b660eae"
    },
    {
      "cell_type": "markdown",
      "metadata": {},
      "source": [
        "#### 풀이7: 벡터버전, net.compile의 옵션으로 손실함수 지정 + 옵티마이저 지정\n",
        "\n",
        "(0단계) 데이터정리"
      ],
      "id": "d57bc9cd-7325-4348-aae8-f507d4f93956"
    },
    {
      "cell_type": "code",
      "execution_count": 75,
      "metadata": {
        "outputId": "25281d0a-a840-459c-da75-9bb7332bb8bf"
      },
      "outputs": [],
      "source": [
        "X.shape, y.shape"
      ],
      "id": "6cf7d2a7-106d-4842-a018-3ecc61ef3ee2"
    },
    {
      "cell_type": "markdown",
      "metadata": {},
      "source": [
        "(1단계) net생성"
      ],
      "id": "f7c6ae15-a5dc-490e-bb28-c85f5316a8a1"
    },
    {
      "cell_type": "code",
      "execution_count": 76,
      "metadata": {},
      "outputs": [],
      "source": [
        "net = tf.keras.Sequential()"
      ],
      "id": "b449a761-0d53-43d5-ac9a-8e1aab98fe53"
    },
    {
      "cell_type": "markdown",
      "metadata": {},
      "source": [
        "(2단계) net.add(layer)"
      ],
      "id": "70b00559-188a-4f98-9201-67e0967d0c71"
    },
    {
      "cell_type": "code",
      "execution_count": 77,
      "metadata": {
        "tags": []
      },
      "outputs": [],
      "source": [
        "net.add(tf.keras.layers.Dense(1,use_bias=False))"
      ],
      "id": "275db162-eb6b-4762-b578-b4c842483e59"
    },
    {
      "cell_type": "markdown",
      "metadata": {},
      "source": [
        "(3단계) net.compile()"
      ],
      "id": "771bb4e7-d7c0-4e89-a6f7-ac744630e052"
    },
    {
      "cell_type": "code",
      "execution_count": 78,
      "metadata": {},
      "outputs": [],
      "source": [
        "net.compile(optimizer='sgd', loss='mse')\n",
        "#net.optimizer.lr = tf.Variable(0.1,dtype=tf.float32)\n",
        "#net.optimizer.lr = 0.1"
      ],
      "id": "6d687df2-e1f0-4b3d-afce-ea96cdaa8855"
    },
    {
      "cell_type": "code",
      "execution_count": 81,
      "metadata": {},
      "outputs": [],
      "source": [
        "net.optimizer.lr"
      ],
      "id": "e2f2513d-bfb6-4639-821b-201ce8c69f14"
    },
    {
      "cell_type": "markdown",
      "metadata": {},
      "source": [
        "-   그 전풀이에서는 $\\alpha=0.1$로 설정되어 있으나, 위 compile의 옵션\n",
        "    optimizer=’sgd’에서는 0.01이 기본으로 설정되어 있어\n",
        "\n",
        "(4단계) net.fit()"
      ],
      "id": "a4b262cd-763f-4628-955b-1ccdc4654568"
    },
    {
      "cell_type": "code",
      "execution_count": 79,
      "metadata": {
        "outputId": "9f497fc7-3fc8-4a88-96ad-bc01a62e156a"
      },
      "outputs": [],
      "source": [
        "net.fit(X,y,epochs=5000,verbose=0,batch_size=N)"
      ],
      "id": "e091f6ca-e49e-4b37-a0fa-8015304034c1"
    },
    {
      "cell_type": "markdown",
      "metadata": {},
      "source": [
        "-   학습률 건드리지 말고 그냥 epcohs을 늘려주자."
      ],
      "id": "62a55161-ae54-4a14-9107-4e7442aa9ad1"
    },
    {
      "cell_type": "code",
      "execution_count": 80,
      "metadata": {
        "outputId": "411352e2-b16c-4fc9-ac78-faca09635492"
      },
      "outputs": [],
      "source": [
        "net.weights"
      ],
      "id": "c5f5541d-d2b6-4a98-9baf-a1393fffc333"
    },
    {
      "cell_type": "markdown",
      "metadata": {},
      "source": [
        "### 여러가지 회귀모형의 적합과 학습과정의 모니터링\n",
        "\n",
        "#### 예제1\n",
        "\n",
        "model: $y_i \\approx \\beta_0 +\\beta_1 x_i$"
      ],
      "id": "5ca7cb89-2858-4673-8c33-634cb766688c"
    },
    {
      "cell_type": "code",
      "execution_count": 82,
      "metadata": {},
      "outputs": [],
      "source": [
        "np.random.seed(43052)\n",
        "N= 100\n",
        "x= np.random.randn(N)\n",
        "epsilon = np.random.randn(N)*0.5\n",
        "y= 2.5+4*x +epsilon"
      ],
      "id": "5f4e02e9-1569-4958-89e8-de02835d8b6b"
    },
    {
      "cell_type": "code",
      "execution_count": 83,
      "metadata": {},
      "outputs": [],
      "source": [
        "X= np.stack([np.ones(N),x],axis=1)\n",
        "y= y.reshape(N,1)"
      ],
      "id": "7ceca151-ab54-440e-a908-9d11445baee4"
    },
    {
      "cell_type": "code",
      "execution_count": 84,
      "metadata": {
        "outputId": "1327811b-fd05-410e-f688-24bfde3df8c1"
      },
      "outputs": [
        {
          "output_type": "display_data",
          "metadata": {},
          "data": {
            "image/png": "[encoded data removed]"
          }
        }
      ],
      "source": [
        "plt.plot(x,y,'o') # 관측한 자료"
      ],
      "id": "75c5218c-2d82-49d0-98e0-8dc726c9e217"
    },
    {
      "cell_type": "code",
      "execution_count": 86,
      "metadata": {},
      "outputs": [],
      "source": [
        "beta_hat = np.array([-3,-2]).reshape(2,1)"
      ],
      "id": "d0045de3-66a5-4639-8397-e7501e5b1723"
    },
    {
      "cell_type": "markdown",
      "metadata": {},
      "source": [
        "-   위의 -3,-2는 그냥 이렇지 않을까? 하고 넣어본 임의의 숫자."
      ],
      "id": "42077e69-fa02-403b-90ec-94898953558e"
    },
    {
      "cell_type": "code",
      "execution_count": 87,
      "metadata": {},
      "outputs": [],
      "source": [
        "yhat = X@beta_hat"
      ],
      "id": "6685442a-a894-42bc-8e92-1256670a75d1"
    },
    {
      "cell_type": "code",
      "execution_count": 88,
      "metadata": {
        "outputId": "bf05408e-c13c-4ce8-cf62-6bdbb974c497"
      },
      "outputs": [
        {
          "output_type": "display_data",
          "metadata": {},
          "data": {
            "image/png": "[encoded data removed]"
          }
        }
      ],
      "source": [
        "plt.plot(x,y,'o')\n",
        "plt.plot(x,yhat.reshape(-1),'-')"
      ],
      "id": "faf5135e-1cdc-48ee-b518-901cda0e029c"
    },
    {
      "cell_type": "markdown",
      "metadata": {},
      "source": [
        "더 좋은 적합선을 얻기위해서!"
      ],
      "id": "3e80c727-7037-49dc-bf37-1cd544e6d817"
    },
    {
      "cell_type": "code",
      "execution_count": 89,
      "metadata": {},
      "outputs": [],
      "source": [
        "slope = (2*X.T@X@beta_hat - 2*X.T@y)/ N\n",
        "beta_hat2 = beta_hat - 0.1*slope\n",
        "yhat2 = X@beta_hat2"
      ],
      "id": "ddc3fe73-0cdf-4b7f-a2ad-f082d6aa13dd"
    },
    {
      "cell_type": "code",
      "execution_count": 90,
      "metadata": {
        "outputId": "08e96eaa-2cf3-484d-f901-d006e2a9aaaf"
      },
      "outputs": [
        {
          "output_type": "display_data",
          "metadata": {},
          "data": {
            "image/png": "[encoded data removed]"
          }
        }
      ],
      "source": [
        "plt.plot(x,y,'o')\n",
        "plt.plot(x,yhat.reshape(-1),'-')\n",
        "plt.plot(x,yhat2.reshape(-1),'-')"
      ],
      "id": "87b653b4-5010-4fc5-8013-c7c1323b136a"
    },
    {
      "cell_type": "markdown",
      "metadata": {},
      "source": [
        "초록색이 좀 더 나아보인다."
      ],
      "id": "2a7df90f-d46c-4fab-9837-f28d4740592d"
    },
    {
      "cell_type": "code",
      "execution_count": 93,
      "metadata": {},
      "outputs": [],
      "source": [
        "beta_hat = np.array([-3,-2]).reshape(2,1)\n",
        "beta_hats = beta_hat # beta_hats = beta_hat.copy() 가 더 안전한 코드입니다.\n",
        "for i in range(1,30):\n",
        "    yhat = X@beta_hat\n",
        "    slope = (2*X.T@X@beta_hat - 2*X.T@y) / N\n",
        "    beta_hat = beta_hat - 0.1*slope # 0.1은 적당, 0.3은 쪼금빠르지만 그래도 적당, 0.9는 너무 나간것같음, 1.0 은 수렴안함, 1.2\n",
        "    beta_hats = np.concatenate([beta_hats,beta_hat],axis=1)"
      ],
      "id": "d36733ae-9b0f-447c-b41c-103d736ce482"
    },
    {
      "cell_type": "code",
      "execution_count": 94,
      "metadata": {
        "outputId": "311c48b4-ec4c-4169-d617-e7dd39c1ad4b"
      },
      "outputs": [],
      "source": [
        "beta_hats"
      ],
      "id": "47a23f86-4ea2-4e09-acd3-8443b92ef714"
    },
    {
      "cell_type": "code",
      "execution_count": 95,
      "metadata": {},
      "outputs": [],
      "source": [
        "b0hats = beta_hats[0].tolist()\n",
        "b1hats = beta_hats[1].tolist()"
      ],
      "id": "7edc77d9-7c15-49cd-b7f5-7606e43105ee"
    },
    {
      "cell_type": "code",
      "execution_count": 97,
      "metadata": {
        "outputId": "12b18ff5-6409-4175-c93f-cd3e325a85ac"
      },
      "outputs": [],
      "source": [
        "np.linalg.inv(X.T@X) @ X.T @ y"
      ],
      "id": "9e94d727-dc92-4a9c-94c7-b973f0efb250"
    },
    {
      "cell_type": "markdown",
      "metadata": {},
      "source": [
        "-   β0, β1에 대한 최솟값"
      ],
      "id": "5f51fbeb-6951-4d62-8e11-ed06f8642c13"
    },
    {
      "cell_type": "code",
      "execution_count": 96,
      "metadata": {},
      "outputs": [],
      "source": [
        "from matplotlib import animation\n",
        "plt.rcParams[\"animation.html\"] = \"jshtml\""
      ],
      "id": "8312fe63-63f6-413d-b9b1-87b126841d59"
    },
    {
      "cell_type": "code",
      "execution_count": 99,
      "metadata": {
        "outputId": "65afe0d0-027e-4c26-9a1b-bc2974bcf0f5"
      },
      "outputs": [],
      "source": [
        "fig = plt.figure(); fig.set_figheight(5); fig.set_figwidth(12)"
      ],
      "id": "c3320825-7050-4133-a68b-5f5733dfa0d2"
    },
    {
      "cell_type": "code",
      "execution_count": 100,
      "metadata": {
        "outputId": "ee3db8a8-9627-43f8-e12b-90f39ed81c06"
      },
      "outputs": [],
      "source": [
        "ax1= fig.add_subplot(1,2,1)\n",
        "ax2= fig.add_subplot(1,2,2,projection='3d')\n",
        "# ax1: 왼쪽그림\n",
        "ax1.plot(x,y,'o')\n",
        "line, = ax1.plot(x,b0hats[0] + b1hats[0]*x)\n",
        "# ax2: 오른쪽그림\n",
        "β0,β1 = np.meshgrid(np.arange(-6,11,0.25),np.arange(-6,11,0.25),indexing='ij')\n",
        "β0=β0.reshape(-1)\n",
        "β1=β1.reshape(-1)\n",
        "loss_fn = lambda b0,b1: np.sum((y-b0-b1*x)**2)\n",
        "loss = list(map(loss_fn, β0,β1))\n",
        "ax2.scatter(β0,β1,loss,alpha=0.02)\n",
        "ax2.scatter(2.5451404,3.94818596,loss_fn(2.5451404,3.94818596),s=200,marker='*')\n",
        "\n",
        "def animate(i):\n",
        "    line.set_ydata(b0hats[i] + b1hats[i]*x)\n",
        "    ax2.scatter(b0hats[i],b1hats[i],loss_fn(b0hats[i],b1hats[i]),color=\"grey\")\n",
        "\n",
        "ani = animation.FuncAnimation(fig,animate,frames=30)\n",
        "ani"
      ],
      "id": "a0219307-1b4d-44c6-bc91-ee25231a9f4a"
    },
    {
      "cell_type": "markdown",
      "metadata": {},
      "source": [
        "#### 예제2\n",
        "\n",
        "model: $y_i \\approx \\beta_0 +\\beta_1 e^{-x_i}$"
      ],
      "id": "ad098c0c-29f5-4790-9422-7bb51e190817"
    },
    {
      "cell_type": "code",
      "execution_count": 101,
      "metadata": {},
      "outputs": [],
      "source": [
        "np.random.seed(43052)\n",
        "N= 100\n",
        "x= np.linspace(-1,1,N)\n",
        "epsilon = np.random.randn(N)*0.5\n",
        "y= 2.5+4*np.exp(-x) +epsilon"
      ],
      "id": "03a6fdc9-2119-497f-beda-cf91ec45510d"
    },
    {
      "cell_type": "code",
      "execution_count": 102,
      "metadata": {
        "outputId": "07501e4b-836f-40e2-e74e-17b1a75079aa"
      },
      "outputs": [
        {
          "output_type": "display_data",
          "metadata": {},
          "data": {
            "image/png": "[encoded data removed]"
          }
        }
      ],
      "source": [
        "plt.plot(x,y,'o')"
      ],
      "id": "7e484669-a83b-4f84-adbd-a556170d6cf3"
    },
    {
      "cell_type": "code",
      "execution_count": 103,
      "metadata": {},
      "outputs": [],
      "source": [
        "X= np.stack([np.ones(N),np.exp(-x)],axis=1)\n",
        "y= y.reshape(N,1)"
      ],
      "id": "0deeec00-09f1-444c-92fb-9f16c5dfef66"
    },
    {
      "cell_type": "code",
      "execution_count": 104,
      "metadata": {},
      "outputs": [],
      "source": [
        "beta_hat = np.array([-3,-2]).reshape(2,1)\n",
        "beta_hats = beta_hat.copy() # shallow copy, deep copy <--- 여름 방학 특강\n",
        "for i in range(1,30):\n",
        "    yhat = X@beta_hat\n",
        "    slope = (2*X.T@X@beta_hat - 2*X.T@y) /N\n",
        "    beta_hat = beta_hat - 0.05*slope\n",
        "    beta_hats = np.concatenate([beta_hats,beta_hat],axis=1)"
      ],
      "id": "e8e8adaa-49e9-4723-8ae5-647ee7c470eb"
    },
    {
      "cell_type": "code",
      "execution_count": 105,
      "metadata": {
        "outputId": "48300be1-f946-4fbd-92be-e21d932f8908"
      },
      "outputs": [],
      "source": [
        "beta_hats"
      ],
      "id": "30f99c32-0125-4e52-96ec-8498e9d73289"
    },
    {
      "cell_type": "code",
      "execution_count": 106,
      "metadata": {},
      "outputs": [],
      "source": [
        "b0hats= beta_hats[0].tolist()\n",
        "b1hats= beta_hats[1].tolist()"
      ],
      "id": "1cdc1c07-81bd-49a3-b08e-226386f991d6"
    },
    {
      "cell_type": "code",
      "execution_count": 107,
      "metadata": {
        "outputId": "4509f3f9-e416-4994-db3c-0662a883cc52"
      },
      "outputs": [],
      "source": [
        "np.linalg.inv(X.T@X)@X.T@y"
      ],
      "id": "6b86aff4-662b-4d84-9c21-14032ecdbcad"
    },
    {
      "cell_type": "code",
      "execution_count": 108,
      "metadata": {
        "outputId": "42e4783e-9406-426b-bc4a-d9fff4aee46e"
      },
      "outputs": [],
      "source": [
        "fig = plt.figure(); fig.set_figheight(5); fig.set_figwidth(12)"
      ],
      "id": "e8d40e28-6813-4436-8428-f2b77ef5cb38"
    },
    {
      "cell_type": "code",
      "execution_count": 109,
      "metadata": {
        "outputId": "5abb6e94-ca1b-4815-f6dd-b0196384de46"
      },
      "outputs": [],
      "source": [
        "ax1= fig.add_subplot(1,2,1)\n",
        "ax2= fig.add_subplot(1,2,2,projection='3d')\n",
        "# ax1: 왼쪽그림\n",
        "ax1.plot(x,y,'o')\n",
        "line, = ax1.plot(x,b0hats[0] + b1hats[0]*np.exp(-x))\n",
        "# ax2: 오른쪽그림\n",
        "β0,β1 = np.meshgrid(np.arange(-6,11,0.25),np.arange(-6,11,0.25),indexing='ij')\n",
        "β0=β0.reshape(-1)\n",
        "β1=β1.reshape(-1)\n",
        "loss_fn = lambda b0,b1: np.sum((y-b0-b1*np.exp(-x))**2)\n",
        "loss = list(map(loss_fn, β0,β1))\n",
        "ax2.scatter(β0,β1,loss,alpha=0.02)\n",
        "ax2.scatter(2.46307644,3.99681332,loss_fn(2.46307644,3.99681332),s=200,marker='*')\n",
        "\n",
        "def animate(i):\n",
        "    line.set_ydata(b0hats[i] + b1hats[i]*np.exp(-x))\n",
        "    ax2.scatter(b0hats[i],b1hats[i],loss_fn(b0hats[i],b1hats[i]),color=\"grey\")\n",
        "\n",
        "ani = animation.FuncAnimation(fig,animate,frames=30)\n",
        "ani"
      ],
      "id": "3aa456cd-97e1-4c38-a585-13740039ed83"
    },
    {
      "cell_type": "markdown",
      "metadata": {},
      "source": [
        "#### 예제3\n",
        "\n",
        "model: $y_i \\approx \\beta_0 +\\beta_1 e^{-x_i} + \\beta_2 \\cos(5x_i)$"
      ],
      "id": "420ceb9b-9e38-4167-bdb0-38d6479de61c"
    },
    {
      "cell_type": "code",
      "execution_count": 110,
      "metadata": {},
      "outputs": [],
      "source": [
        "np.random.seed(43052)\n",
        "N= 100\n",
        "x= np.linspace(-1,1,N)\n",
        "epsilon = np.random.randn(N)*0.5\n",
        "y= 2.5+4*np.exp(-x) + 5*np.cos(5*x) + epsilon"
      ],
      "id": "e84180c1-773a-400d-9b93-e0d0927371e8"
    },
    {
      "cell_type": "code",
      "execution_count": 111,
      "metadata": {
        "outputId": "d7b9c8f2-925c-43d3-fc3b-554ca173190f"
      },
      "outputs": [
        {
          "output_type": "display_data",
          "metadata": {},
          "data": {
            "image/png": "[encoded data removed]"
          }
        }
      ],
      "source": [
        "plt.plot(x,y,'o')"
      ],
      "id": "8b35ba73-5f55-4ca9-ac77-5b8217eba56d"
    },
    {
      "cell_type": "code",
      "execution_count": 112,
      "metadata": {},
      "outputs": [],
      "source": [
        "X=np.stack([np.ones(N),np.exp(-x),np.cos(5*x)],axis=1)\n",
        "y=y.reshape(N,1)"
      ],
      "id": "b196a143-5f7b-4add-9d3f-52a5b1ed5a47"
    },
    {
      "cell_type": "code",
      "execution_count": 113,
      "metadata": {},
      "outputs": [],
      "source": [
        "beta_hat = np.array([-3,-2,-1]).reshape(3,1)\n",
        "beta_hats = beta_hat.copy()\n",
        "for i in range(1,30):\n",
        "    yhat = X@beta_hat\n",
        "    slope = (2*X.T@X@beta_hat -2*X.T@y) /N\n",
        "    beta_hat = beta_hat - 0.1 * slope\n",
        "    beta_hats= np.concatenate([beta_hats,beta_hat],axis=1)"
      ],
      "id": "b10e06ab-2a4a-41a8-ab16-f3be18804890"
    },
    {
      "cell_type": "code",
      "execution_count": 114,
      "metadata": {
        "outputId": "9c36aea4-d31b-4350-bec4-64e33a22b8e9"
      },
      "outputs": [],
      "source": [
        "beta_hats"
      ],
      "id": "4417bf22-c04e-42cc-964a-2d44e111bfa6"
    },
    {
      "cell_type": "code",
      "execution_count": 115,
      "metadata": {},
      "outputs": [],
      "source": [
        "b0hats,b1hats,b2hats = beta_hats"
      ],
      "id": "b540cd91-6d26-4cd7-bab5-0bae00c2e498"
    },
    {
      "cell_type": "code",
      "execution_count": 116,
      "metadata": {
        "outputId": "67aafbba-9d54-498b-e21a-1020e9125e15"
      },
      "outputs": [],
      "source": [
        "np.linalg.inv(X.T@X) @ X.T @ y"
      ],
      "id": "28b65a11-b39e-4835-9a7b-825608133dfc"
    },
    {
      "cell_type": "code",
      "execution_count": 117,
      "metadata": {
        "outputId": "b3e19dc1-c349-4e72-e129-767219f7157e"
      },
      "outputs": [],
      "source": [
        "fig = plt.figure(); fig.set_figheight(5); fig.set_figwidth(12)"
      ],
      "id": "69df900d-6035-493d-ba2b-5b96040fd050"
    },
    {
      "cell_type": "code",
      "execution_count": 118,
      "metadata": {
        "outputId": "4658a51d-305a-48a6-d826-e9b4d1fb92ba"
      },
      "outputs": [],
      "source": [
        "ax1= fig.add_subplot(1,2,1)\n",
        "ax2= fig.add_subplot(1,2,2,projection='3d')\n",
        "# ax1: 왼쪽그림\n",
        "ax1.plot(x,y,'o')\n",
        "line, = ax1.plot(x,b0hats[0] + b1hats[0]*np.exp(-x) + b2hats[0]*np.cos(5*x))\n",
        "# ax2: 오른쪽그림\n",
        "# β0,β1 = np.meshgrid(np.arange(-6,11,0.25),np.arange(-6,11,0.25),indexing='ij')\n",
        "# β0=β0.reshape(-1)\n",
        "# β1=β1.reshape(-1)\n",
        "# loss_fn = lambda b0,b1: np.sum((y-b0-b1*np.exp(-x))**2)\n",
        "# loss = list(map(loss_fn, β0,β1))\n",
        "# ax2.scatter(β0,β1,loss,alpha=0.02)\n",
        "# ax2.scatter(2.46307644,3.99681332,loss_fn(2.46307644,3.99681332),s=200,marker='*')\n",
        "\n",
        "def animate(i):\n",
        "    line.set_ydata(b0hats[i] + b1hats[i]*np.exp(-x) + b2hats[i]*np.cos(5*x))\n",
        "    # ax2.scatter(b0hats[i],b1hats[i],loss_fn(b0hats[i],b1hats[i]),color=\"grey\")\n",
        "\n",
        "ani = animation.FuncAnimation(fig,animate,frames=30)\n",
        "ani"
      ],
      "id": "a5dd76e7-4f11-42d2-8ca0-67444fbec2fb"
    },
    {
      "cell_type": "markdown",
      "metadata": {},
      "source": [
        "#### 예제3: 케라스로 해보자!\n",
        "\n",
        "model: $y_i \\approx \\beta_0 +\\beta_1 e^{-x_i} + \\beta_2 \\cos(5x_i)$"
      ],
      "id": "cce78760-bf3c-4def-af19-778455c71f90"
    },
    {
      "cell_type": "code",
      "execution_count": 119,
      "metadata": {},
      "outputs": [],
      "source": [
        "np.random.seed(43052)\n",
        "N= 100\n",
        "x= np.linspace(-1,1,N)\n",
        "epsilon = np.random.randn(N)*0.5\n",
        "y= 2.5+4*np.exp(-x) + 5*np.cos(5*x) + epsilon"
      ],
      "id": "195f5606-4748-494a-8197-b962b38a4cee"
    },
    {
      "cell_type": "code",
      "execution_count": 120,
      "metadata": {},
      "outputs": [],
      "source": [
        "X=np.stack([np.ones(N),np.exp(-x),np.cos(5*x)],axis=1)\n",
        "y=y.reshape(N,1)"
      ],
      "id": "8111dbd6-637b-450f-95ba-1ef50397853b"
    },
    {
      "cell_type": "code",
      "execution_count": 121,
      "metadata": {
        "outputId": "e6c5d78f-3796-4ea8-b236-3458d5a1512d"
      },
      "outputs": [
        {
          "output_type": "stream",
          "name": "stdout",
          "text": [
            "Epoch 1/30\n",
            "1/1 [==============================] - 0s 268ms/step - loss: 28.0844\n",
            "Epoch 2/30\n",
            "1/1 [==============================] - 0s 1ms/step - loss: 13.7046\n",
            "Epoch 3/30\n",
            "1/1 [==============================] - 0s 1ms/step - loss: 9.4655\n",
            "Epoch 4/30\n",
            "1/1 [==============================] - 0s 1ms/step - loss: 7.5460\n",
            "Epoch 5/30\n",
            "1/1 [==============================] - 0s 1ms/step - loss: 6.2784\n",
            "Epoch 6/30\n",
            "1/1 [==============================] - 0s 1ms/step - loss: 5.2871\n",
            "Epoch 7/30\n",
            "1/1 [==============================] - 0s 1ms/step - loss: 4.4707\n",
            "Epoch 8/30\n",
            "1/1 [==============================] - 0s 1ms/step - loss: 3.7893\n",
            "Epoch 9/30\n",
            "1/1 [==============================] - 0s 1ms/step - loss: 3.2186\n",
            "Epoch 10/30\n",
            "1/1 [==============================] - 0s 1ms/step - loss: 2.7401\n",
            "Epoch 11/30\n",
            "1/1 [==============================] - 0s 1ms/step - loss: 2.3389\n",
            "Epoch 12/30\n",
            "1/1 [==============================] - 0s 1ms/step - loss: 2.0023\n",
            "Epoch 13/30\n",
            "1/1 [==============================] - 0s 1ms/step - loss: 1.7200\n",
            "Epoch 14/30\n",
            "1/1 [==============================] - 0s 1ms/step - loss: 1.4833\n",
            "Epoch 15/30\n",
            "1/1 [==============================] - 0s 1ms/step - loss: 1.2846\n",
            "Epoch 16/30\n",
            "1/1 [==============================] - 0s 1ms/step - loss: 1.1180\n",
            "Epoch 17/30\n",
            "1/1 [==============================] - 0s 1ms/step - loss: 0.9782\n",
            "Epoch 18/30\n",
            "1/1 [==============================] - 0s 1ms/step - loss: 0.8609\n",
            "Epoch 19/30\n",
            "1/1 [==============================] - 0s 1ms/step - loss: 0.7624\n",
            "Epoch 20/30\n",
            "1/1 [==============================] - 0s 1ms/step - loss: 0.6797\n",
            "Epoch 21/30\n",
            "1/1 [==============================] - 0s 1ms/step - loss: 0.6104\n",
            "Epoch 22/30\n",
            "1/1 [==============================] - 0s 1ms/step - loss: 0.5521\n",
            "Epoch 23/30\n",
            "1/1 [==============================] - 0s 1ms/step - loss: 0.5032\n",
            "Epoch 24/30\n",
            "1/1 [==============================] - 0s 1ms/step - loss: 0.4621\n",
            "Epoch 25/30\n",
            "1/1 [==============================] - 0s 1ms/step - loss: 0.4276\n",
            "Epoch 26/30\n",
            "1/1 [==============================] - 0s 1ms/step - loss: 0.3985\n",
            "Epoch 27/30\n",
            "1/1 [==============================] - 0s 1ms/step - loss: 0.3741\n",
            "Epoch 28/30\n",
            "1/1 [==============================] - 0s 1ms/step - loss: 0.3536\n",
            "Epoch 29/30\n",
            "1/1 [==============================] - 0s 1ms/step - loss: 0.3364\n",
            "Epoch 30/30\n",
            "1/1 [==============================] - 0s 1ms/step - loss: 0.3219"
          ]
        }
      ],
      "source": [
        "net = tf.keras.Sequential() # 1: 네트워크 생성\n",
        "net.add(tf.keras.layers.Dense(1,use_bias=False)) # 2: add layer\n",
        "net.compile(tf.optimizers.SGD(0.1), loss='mse') # 3: compile\n",
        "net.fit(X,y,epochs=30, batch_size=N) # 4: fit"
      ],
      "id": "ea8eedac-57f3-410f-8541-37ab2ae0dc43"
    },
    {
      "cell_type": "code",
      "execution_count": 122,
      "metadata": {
        "outputId": "d96d68df-f44b-43fe-f909-e2e8cfbd56a7"
      },
      "outputs": [],
      "source": [
        "net.weights"
      ],
      "id": "3182e093-0dad-477b-a27e-866c102de1ce"
    },
    {
      "cell_type": "code",
      "execution_count": 123,
      "metadata": {
        "outputId": "09bc8269-832e-45cc-d06b-ffc48c36d72a"
      },
      "outputs": [
        {
          "output_type": "display_data",
          "metadata": {},
          "data": {
            "image/png": "[encoded data removed]"
          }
        }
      ],
      "source": [
        "plt.plot(x,y,'o')\n",
        "plt.plot(x,(X@net.weights).reshape(-1),'--')"
      ],
      "id": "6d752d85-8b4b-44e7-86fc-e019c47631d5"
    },
    {
      "cell_type": "markdown",
      "metadata": {},
      "source": [
        "### 숙제\n",
        "\n",
        "#### 예제2: 케라스를 이용하여 아래를 만족하는 적절한 $\\beta_0$와 $\\beta_1$을 구하라. 적합결과를 시각화하라. (애니메이션 시각화 X)\n",
        "\n",
        "model: $y_i \\approx \\beta_0 +\\beta_1 e^{-x_i}$"
      ],
      "id": "f81c8bec-b981-45e9-9581-bae63e8bb1a0"
    },
    {
      "cell_type": "code",
      "execution_count": 124,
      "metadata": {},
      "outputs": [],
      "source": [
        "np.random.seed(43052)\n",
        "N= 100\n",
        "x= np.linspace(-1,1,N)\n",
        "epsilon = np.random.randn(N)*0.5\n",
        "y= 2.5+4*np.exp(-x) +epsilon"
      ],
      "id": "6dc93d9b-eb33-44f6-8200-32985f78096d"
    },
    {
      "cell_type": "code",
      "execution_count": 125,
      "metadata": {},
      "outputs": [],
      "source": [
        "X=np.stack([np.ones(N),np.exp(-x)],axis=1)\n",
        "y=y.reshape(N,1)"
      ],
      "id": "9a0631d6-b338-488e-b648-b96eaf2bdd8d"
    },
    {
      "cell_type": "code",
      "execution_count": 126,
      "metadata": {
        "outputId": "e6c5d78f-3796-4ea8-b236-3458d5a1512d"
      },
      "outputs": [],
      "source": [
        "net = tf.keras.Sequential() # 1: 네트워크 생성\n",
        "net.add(tf.keras.layers.Dense(1,use_bias=False)) # 2: add layer\n",
        "net.compile(tf.optimizers.SGD(0.1), loss='mse') # 3: compile\n",
        "net.fit(X,y,epochs=30, verbose=0, batch_size=N) # 4: fit"
      ],
      "id": "1b29684e-d8ff-4188-bb2f-d746c504c971"
    },
    {
      "cell_type": "code",
      "execution_count": 127,
      "metadata": {
        "outputId": "d96d68df-f44b-43fe-f909-e2e8cfbd56a7"
      },
      "outputs": [],
      "source": [
        "net.weights"
      ],
      "id": "c97ed7f9-cac2-4c4c-9eaf-05672464f2f9"
    },
    {
      "cell_type": "code",
      "execution_count": 128,
      "metadata": {
        "outputId": "09bc8269-832e-45cc-d06b-ffc48c36d72a"
      },
      "outputs": [
        {
          "output_type": "display_data",
          "metadata": {},
          "data": {
            "image/png": "[encoded data removed]"
          }
        }
      ],
      "source": [
        "plt.plot(x,y,'o')\n",
        "plt.plot(x,(X@net.weights).reshape(-1),'--')"
      ],
      "id": "8e175ebe-93c9-4315-8bf5-ac5a5cf5db45"
    }
  ],
  "nbformat": 4,
  "nbformat_minor": 5,
  "metadata": {
    "colab": {
      "provenance": []
    },
    "kernelspec": {
      "name": "python3",
      "display_name": "Python 3 (ipykernel)",
      "language": "python"
    },
    "language_info": {
      "name": "python",
      "codemirror_mode": {
        "name": "ipython",
        "version": "3"
      },
      "file_extension": ".py",
      "mimetype": "text/x-python",
      "nbconvert_exporter": "python",
      "pygments_lexer": "ipython3",
      "version": "3.8.16"
    }
  }
}