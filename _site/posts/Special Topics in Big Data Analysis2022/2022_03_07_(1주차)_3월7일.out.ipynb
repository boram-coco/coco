{
  "cells": [
    {
      "cell_type": "markdown",
      "metadata": {},
      "source": [
        "# \\[STBDA\\] 01wk: 단순선형회귀\n",
        "\n",
        "김보람  \n",
        "2023-06-16\n",
        "\n",
        "> 해당 강의노트는 전북대학교 최규빈교수님\n",
        "> [STBDA2022](https://guebin.github.io/STBDA2022/) 자료임\n",
        "\n",
        "### 강의보충자료\n",
        "\n",
        "`-`\n",
        "https://github.com/guebin/STBDA2022/blob/master/\\_notebooks/2022-03-07-supp1.pdf\n",
        "\n",
        "`-`\n",
        "https://github.com/guebin/STBDA2022/blob/master/\\_notebooks/2022-03-07-supp2.pdf\n",
        "\n",
        "### 로드맵\n",
        "\n",
        "`-` 오늘수업할내용: 단순선형회귀\n",
        "\n",
        "`-` 단순선형회귀를 배우는 이유?\n",
        "\n",
        "-   우리가 배우고싶은것: 심층신경망(DNN) $\\to$ 합성곱신경망(CNN) $\\to$\n",
        "    적대적생성신경망(GAN)\n",
        "-   심층신경망을 바로 이해하기 어려움\n",
        "-   다음의 과정으로 이해해야함: (선형대수학 $\\to$) 회귀분석 $\\to$\n",
        "    로지스틱회귀분석 $\\to$ 심층신경망\n",
        "\n",
        "### 선형회귀\n",
        "\n",
        "`-` 상황극 - 나는 동네에 커피점을 하나 차렸음. - 장사를 하다보니까 날이\n",
        "더울수록 아이스아메리카노의 판매량이 증가한다는 사실을 깨달았다. -\n",
        "일기예보는 미리 나와있으니까 그 정보를 잘 이용하면 ‘온도 -\\>\n",
        "아이스아메리카노 판매량 예측’ 이 가능할것 같다. (내가 앞으로 얼마나 벌지\n",
        "예측가능)\n",
        "\n",
        "`-` 가짜자료 생성"
      ],
      "id": "e10c006e-9fc2-41ea-8928-b9274602c333"
    },
    {
      "cell_type": "code",
      "execution_count": 1,
      "metadata": {},
      "outputs": [
        {
          "output_type": "stream",
          "name": "stderr",
          "text": [
            "2023-06-16 10:41:22.228223: I tensorflow/core/platform/cpu_feature_guard.cc:193] This TensorFlow binary is optimized with oneAPI Deep Neural Network Library (oneDNN) to use the following CPU instructions in performance-critical operations:  AVX2 FMA\n",
            "To enable them in other operations, rebuild TensorFlow with the appropriate compiler flags."
          ]
        }
      ],
      "source": [
        "import matplotlib.pyplot as plt\n",
        "import tensorflow as tf"
      ],
      "id": "2a1f6fff-f26b-4dbc-9dae-599c0640058c"
    },
    {
      "cell_type": "markdown",
      "metadata": {},
      "source": [
        "온도 ${\\bf x}$가 아래와 같다고 하자."
      ],
      "id": "1beb81c0-698b-4be5-9f3d-204a8a72842b"
    },
    {
      "cell_type": "code",
      "execution_count": 2,
      "metadata": {
        "outputId": "304e8cc5-c0d2-4ce1-9d70-da95071764bd"
      },
      "outputs": [],
      "source": [
        "x=tf.constant([20.1, 22.2, 22.7, 23.3, 24.4, 25.1, 26.2, 27.3, 28.4, 30.4]) # 기온\n",
        "x"
      ],
      "id": "e6a92bfe-5c6d-4ced-b742-ecd5fe175504"
    },
    {
      "cell_type": "markdown",
      "metadata": {},
      "source": [
        "아이스아메리카노의 판매량 ${\\bf y}$이 아래와 같다고 하자. (판매량은\n",
        "정수로 나오겠지만 편의상 소수점도 가능하다고 생각하자)\n",
        "\n",
        "$${\\bf y} \\approx 10.2 +2.2 {\\bf x}$$\n",
        "\n",
        "-   여기에서 10.2, 2.2 의 숫자는 제가 임의로 정한것임\n",
        "-   식의의미: 온도가 0일때 10.2잔정도 팔림 + 온도가 1도 증가하면\n",
        "    2.2잔정도 더 팔림\n",
        "-   물결의의미: 현실반영. 세상은 꼭 수식대로 정확하게 이루어지지 않음."
      ],
      "id": "27bd3c4e-a62d-4a83-9615-bf44b0609a5a"
    },
    {
      "cell_type": "code",
      "execution_count": 3,
      "metadata": {
        "outputId": "7727b8f9-9422-4bd1-eebc-0110361ca364"
      },
      "outputs": [],
      "source": [
        "tf.random.set_seed(43052)\n",
        "epsilon=tf.random.normal([10])\n",
        "y=10.2 + 2.2*x + epsilon\n",
        "y"
      ],
      "id": "f8481aed-e5a1-48b7-8145-1b8569b27bf6"
    },
    {
      "cell_type": "markdown",
      "metadata": {},
      "source": [
        "`-` 우리는 아래와 같은 자료를 모았다고 생각하자."
      ],
      "id": "8bca2860-1688-4a23-ab44-bb6970113c52"
    },
    {
      "cell_type": "code",
      "execution_count": 4,
      "metadata": {
        "outputId": "b79e58a0-bee3-482b-fb09-b23142b76ccb"
      },
      "outputs": [],
      "source": [
        "tf.transpose(tf.concat([[x],[y]],0))"
      ],
      "id": "2f9d8728-6eaf-4ddc-a4e6-2136b1d2ba6a"
    },
    {
      "cell_type": "markdown",
      "metadata": {},
      "source": [
        "`-` 그려보자."
      ],
      "id": "bf22a2b7-86cd-4fb1-a8a3-0bc230215267"
    },
    {
      "cell_type": "code",
      "execution_count": 5,
      "metadata": {
        "outputId": "b99e5eec-a7f0-4c72-b625-49b357350410"
      },
      "outputs": [
        {
          "output_type": "display_data",
          "metadata": {},
          "data": {
            "image/png": "[encoded data removed]"
          }
        }
      ],
      "source": [
        "plt.plot(x,y,'.') # 파란점, 관측한 데이터\n",
        "plt.plot(x,10.2 + 2.2*x, '--')  # 주황색점선, 세상의 법칙"
      ],
      "id": "6999c6d1-89a7-4fa8-ab46-c4bfcbc6f26b"
    },
    {
      "cell_type": "markdown",
      "metadata": {},
      "source": [
        "`-` 우리의 목표: 파란색점 $\\to$ 주황색점선을 추론 // 데이터를 바탕으로\n",
        "세상의 법칙을 추론\n",
        "\n",
        "`-` 아이디어: 데이터를 보니까 $x$와 $y$가 선형의 관계에 있는듯 보인다.\n",
        "즉 모든 $i=1,2,\\dots, 10$에 대하여 아래를 만족하는 적당한 a,b (혹은\n",
        "$\\beta_0,\\beta_1$) 가 존재할것 같다. - $y_{i} \\approx ax_{i}+b$ -\n",
        "$y_{i} \\approx \\beta_1 x_{i}+\\beta_0$\n",
        "\n",
        "`-` 어림짐작으로 $a,b$를 알아내보자.\n",
        "\n",
        "데이터를 살펴보자."
      ],
      "id": "59ba5da7-4d18-4e03-84bb-8138fadc6541"
    },
    {
      "cell_type": "code",
      "execution_count": 6,
      "metadata": {
        "outputId": "ed1e820c-2332-4425-f365-e8ae3b29cba8"
      },
      "outputs": [],
      "source": [
        "tf.transpose(tf.concat([[x],[y]],0))"
      ],
      "id": "19f40b1e-ee50-4403-8f17-0c70e2ac0dc6"
    },
    {
      "cell_type": "markdown",
      "metadata": {},
      "source": [
        "적당히 `왼쪽*2+15 = 오른쪽`의 관계가 성립하는것 같다.\n",
        "\n",
        "따라서 $a=2, b=15$ 혹은 $\\beta_0=15, \\beta_1=2$ 로 추론할 수 있겠다.\n",
        "\n",
        "`-` 누군가가 $(\\beta_0,\\beta_1)=(14,2)$ 이라고 주장할 수 있다. (어차피\n",
        "지금은 감각으로 추론하는 과정이니까)\n",
        "\n",
        "`-` 새로운 주장으로 인해서 $(\\beta_0,\\beta_1)=(15,2)$ 로 볼 수도 있고\n",
        "$(\\beta_0,\\beta_1)=(14,2)$ 로 볼 수도 있다. 이중에서 어떠한 추정치가\n",
        "좋은지 판단할 수 있을까? - 후보1: $(\\beta_0,\\beta_1)=(15,2)$ - 후보2:\n",
        "$(\\beta_0,\\beta_1)=(14,2)$\n",
        "\n",
        "`-` 가능한 $y_i \\approx \\beta_0 + \\beta_1 x_i$ 이 되도록 만드는\n",
        "$(\\beta_0,\\beta_1)$ 이 좋을 것이다. $\\to$ 후보 1,2를 비교해보자.\n",
        "\n",
        "(관찰에 의한 비교)\n",
        "\n",
        "후보1에 대해서 $i=1,2$를 넣고 관찰하여 보자."
      ],
      "id": "420f70c2-1054-447b-a243-e3f45afa58f1"
    },
    {
      "cell_type": "code",
      "execution_count": null,
      "metadata": {
        "outputId": "0a6d1a3d-cf00-4571-8cdb-e3d1ccb08b67"
      },
      "outputs": [],
      "source": [
        "20.1 * 2 + 15 , 55.418365 # i=1"
      ],
      "id": "5028b9ad-2214-4712-bbca-e81d26ea5412"
    },
    {
      "cell_type": "code",
      "execution_count": null,
      "metadata": {
        "outputId": "151ae65b-5060-4953-d57b-586fa2e30987"
      },
      "outputs": [],
      "source": [
        "22.2 * 2 + 15 , 58.194283 # i=2"
      ],
      "id": "b161d672-21f4-4848-a8f6-0b99c8417c90"
    },
    {
      "cell_type": "markdown",
      "metadata": {},
      "source": [
        "후보2에 대하여 $i=1,2$를 넣고 관찰하여 보자."
      ],
      "id": "19d7bd89-34d5-4492-a741-cc7e8c4d3056"
    },
    {
      "cell_type": "code",
      "execution_count": null,
      "metadata": {
        "outputId": "211ea699-913a-42eb-f055-8c9e79190fae"
      },
      "outputs": [],
      "source": [
        "20.1 * 2 + 14 , 55.418365 # i=1"
      ],
      "id": "a4431ef5-2a1f-4417-878e-e671a64e6c05"
    },
    {
      "cell_type": "code",
      "execution_count": null,
      "metadata": {
        "outputId": "781f68b9-776c-4e60-9ef6-8707e65e5b2c"
      },
      "outputs": [],
      "source": [
        "22.2 * 2 + 14 , 58.194283 # i=2"
      ],
      "id": "4e76bdba-b655-452c-b621-777960b53105"
    },
    {
      "cell_type": "markdown",
      "metadata": {},
      "source": [
        "$i=1$인 경우에는 후보1이 더 잘맞는것 같은데 $i=2$인 경우는 후보2가 더\n",
        "잘맞는것 같다.\n",
        "\n",
        "(좀 더 체계적인 비교)\n",
        "\n",
        "$i=1,2,3, \\dots, 10$ 에서 후보1과 후보2중 어떤것이 더 좋은지 비교하는\n",
        "체계적인 방법을 생각해보자.\n",
        "\n",
        "후보 1,2에 대하여 $\\sum_{i=1}^{10} (y_i -\\beta_0 -\\beta_1 x_i)^2$를\n",
        "계산하여 비교해보자."
      ],
      "id": "3e8a064c-b828-4f66-8742-d692ff248db8"
    },
    {
      "cell_type": "code",
      "execution_count": 7,
      "metadata": {},
      "outputs": [],
      "source": [
        "sum1=0\n",
        "for i in range(10):\n",
        "    sum1=sum1+(y[i]-15-2*x[i])**2"
      ],
      "id": "9d7be911-4599-40d6-b518-3895d5370f47"
    },
    {
      "cell_type": "code",
      "execution_count": 8,
      "metadata": {},
      "outputs": [],
      "source": [
        "sum2=0\n",
        "for i in range(10):\n",
        "    sum2=sum2+(y[i]-14-2*x[i])**2"
      ],
      "id": "b5d8c721-f3ea-425d-aef8-770dd4db6ac6"
    },
    {
      "cell_type": "code",
      "execution_count": 9,
      "metadata": {
        "outputId": "e79dd4fb-e3a6-419e-b30a-aa0462b089c8"
      },
      "outputs": [],
      "source": [
        "sum1,sum2"
      ],
      "id": "bd2a614d-e23d-465b-af35-fee107471703"
    },
    {
      "cell_type": "markdown",
      "metadata": {},
      "source": [
        "후보1이 더 $\\sum_{i=1}^{10} (y_i -\\beta_0 -\\beta_1 x_i)^2$의 값이 작다.\n",
        "\n",
        "후보1이 종합적으로 후보2에 비하여 좋다. 이 과정을 무한번 반복하면 최적의\n",
        "추정치를 찾을 수 있다.\n",
        "\n",
        "`-` 그런데 이 알고리즘은 현실적으로 구현이 불가능하다. (무한번\n",
        "계산하기도 힘들고, 언제 멈출지도 애매함)\n",
        "\n",
        "`-` 수학을 이용해서 좀 더 체계적으로 찾아보자. 결국 아래식을 가장 작게\n",
        "만드는 $\\beta_0,\\beta_1$을 찾으면 된다.\n",
        "\n",
        "$\\sum_{i=1}^{10} (y_i -\\beta_0 -\\beta_1 x_i)^2$\n",
        "\n",
        "그런데 결국 $\\beta_0, \\beta_1$에 대한 이차식인데 이 식을 최소화하는\n",
        "$\\beta_0,\\beta_1$을 구하기 위해서는 아래를 연립하여 풀면된다.\n",
        "\n",
        "$\\begin{cases} \\frac{\\partial}{\\partial \\beta_0}\\sum_{i=1}^{10} (y_i -\\beta_0 -\\beta_1 x_i)^2=0 \\\\ \\frac{\\partial}{\\partial \\beta_1}\\sum_{i=1}^{10} (y_i -\\beta_0 -\\beta_1 x_i)^2=0 \\end{cases}$\n",
        "\n",
        "`-` 풀어보자.\n",
        "\n",
        "$\\begin{cases} \\sum_{i=1}^{10} -2(y_i -\\beta_0 -\\beta_1 x_i)=0 \\\\ \\sum_{i=1}^{10} -2x_i(y_i -\\beta_0 -\\beta_1 x_i)=0 \\end{cases}$\n",
        "\n",
        "정리하면\n",
        "\n",
        "$$\\hat{\\beta}_0= \\bar{y}-\\hat{\\beta}_1 \\bar{x}$$\n",
        "\n",
        "$$\\hat{\\beta}_1= \\frac{S_{xy}}{S_{xx}}=\\frac{\\sum_{i=1}^{n}(x_i-\\bar{x})(y_i-\\bar{y})}{\\sum_{i=1}^{n}(x_i-\\bar{x})^2}$$\n",
        "\n",
        "`-` 따라서 최적의 추정치 $(\\hat{\\beta}_0,\\hat{\\beta}_1)$를 이용한\n",
        "추세선을 아래와 같이 계산할 수 있음."
      ],
      "id": "1f5e349a-9e99-4235-9d7c-782c57edcf02"
    },
    {
      "cell_type": "code",
      "execution_count": 10,
      "metadata": {
        "outputId": "b99c3298-4fe6-4ae4-d45e-85b351387e31"
      },
      "outputs": [],
      "source": [
        "Sxx= sum((x-sum(x)/10)**2)\n",
        "Sxx"
      ],
      "id": "ad02f2d4-b81b-4e4d-99c1-5e002516e5bf"
    },
    {
      "cell_type": "code",
      "execution_count": 11,
      "metadata": {
        "outputId": "d5b13e78-75ed-4a83-d832-62493e69d525"
      },
      "outputs": [],
      "source": [
        "Sxy=  sum((x-sum(x)/10)*(y-sum(y)/10))\n",
        "Sxy"
      ],
      "id": "8d714df9-a3a5-4c9f-9527-a17fc7b82c94"
    },
    {
      "cell_type": "code",
      "execution_count": 12,
      "metadata": {
        "outputId": "0ae01414-3b71-4c3f-e3ce-c03bb0742995"
      },
      "outputs": [],
      "source": [
        "beta1_estimated = Sxy/Sxx\n",
        "beta1_estimated"
      ],
      "id": "4ffc9b70-4175-4792-a141-f34db319181a"
    },
    {
      "cell_type": "code",
      "execution_count": 13,
      "metadata": {
        "outputId": "82e87b25-1659-44ae-8347-425396ced0d1"
      },
      "outputs": [],
      "source": [
        "beta0_estimated = sum(y)/10 - beta1_estimated * sum(x)/10\n",
        "beta0_estimated"
      ],
      "id": "28c82e11-2264-4764-8bdb-83f0ff79d699"
    },
    {
      "cell_type": "code",
      "execution_count": 14,
      "metadata": {
        "outputId": "5b44594a-ece4-4478-91fc-644259c83891"
      },
      "outputs": [
        {
          "output_type": "display_data",
          "metadata": {},
          "data": {
            "image/png": "[encoded data removed]"
          }
        }
      ],
      "source": [
        "plt.plot(x,y,'.')\n",
        "plt.plot(x,beta0_estimated + beta1_estimated * x, '--') # 주황색선: 세상의 법칙을 추정한선\n",
        "plt.plot(x,10.2 + 2.2* x, '--') # 초록색선: ture, 세상의법칙"
      ],
      "id": "a614304a-4cce-4b21-89a7-266faadd925a"
    },
    {
      "cell_type": "markdown",
      "metadata": {},
      "source": [
        "> Note: 샘플수가 커질수록 주황색선은 점점 초록색선으로 가까워진다.\n",
        "\n",
        "`-` 꽤 훌륭한 도구임. 그런데 약간의 단점이 존재한다.\n",
        "\n",
        "1.  공식이 좀 복잡함..\n",
        "\n",
        "2.  $x$가 여러개일 경우 확장이 어려움\n",
        "\n",
        "`-` 단점을 극복하기 위해서 우리가 지금까지 했던 논의를 매트릭스로\n",
        "바꾸어서 다시 써보자.\n",
        "\n",
        "`-` 모형의 매트릭스화\n",
        "\n",
        "우리의 모형은 아래와 같다.\n",
        "\n",
        "$y_i = \\beta_0 + \\beta_1 x_i + \\epsilon_i, \\quad i=1,2,\\dots,10$\n",
        "\n",
        "풀어서 쓰면\n",
        "\n",
        "$\\begin{cases} y_1 = \\beta_0 +\\beta_1 x_1 + \\epsilon_1 \\\\ y_2 = \\beta_0 +\\beta_1 x_2 + \\epsilon_2 \\\\ \\dots \\\\ y_{10} = \\beta_0 +\\beta_1 x_{10} + \\epsilon_{10} \\end{cases}$\n",
        "\n",
        "아래와 같이 쓸 수 있다.\n",
        "\n",
        "$\\begin{bmatrix} y_1 \\\\ y_2 \\\\ \\dots \\\\ y_{10} \\end{bmatrix} = \\begin{bmatrix} 1 & x_1 \\\\ 1 & x_2 \\\\ \\dots & \\dots \\\\ 1 & x_{10} \\end{bmatrix}\\begin{bmatrix}\\beta_0 \\\\ \\beta_1 \\end{bmatrix} + \\begin{bmatrix} \\epsilon_1 \\\\ \\epsilon_2 \\\\ \\dots \\\\ \\epsilon_{10} \\end{bmatrix}$\n",
        "\n",
        "벡터와 매트릭스 형태로 정리하면\n",
        "\n",
        "${\\bf y} = {\\bf X} {\\boldsymbol \\beta} + \\boldsymbol{\\epsilon}$\n",
        "\n",
        "`-` 손실함수의 매트릭스화: 우리가 최소화 하려던 손실함수는 아래와 같다.\n",
        "\n",
        "$loss=\\sum_{i=1}^{n}(y_i-\\beta_0-\\beta_1x_i)^2$\n",
        "\n",
        "이것을 벡터표현으로 하면 아래와 같다.\n",
        "\n",
        "$loss=\\sum_{i=1}^{n}(y_i-\\beta_0-\\beta_1x_i)^2=({\\bf y}-{\\bf X}{\\boldsymbol \\beta})^\\top({\\bf y}-{\\bf X}{\\boldsymbol \\beta})$\n",
        "\n",
        "풀어보면\n",
        "\n",
        "$loss=({\\bf y}-{\\bf X}{\\boldsymbol \\beta})^\\top({\\bf y}-{\\bf X}{\\boldsymbol \\beta})={\\bf y}^\\top {\\bf y} - {\\bf y}^\\top {\\bf X}{\\boldsymbol\\beta} - {\\boldsymbol\\beta}^\\top {\\bf X}^\\top {\\bf y} + {\\boldsymbol\\beta}^\\top {\\bf X}^\\top {\\bf X} {\\boldsymbol\\beta}$\n",
        "\n",
        "`-` 미분하는 과정의 매트릭스화\n",
        "\n",
        "loss를 최소화하는 ${\\boldsymbol \\beta}$를 구해야하므로 loss를\n",
        "${\\boldsymbol \\beta}$로 미분한식을 0이라고 놓고 풀면 된다.\n",
        "\n",
        "$\\frac{\\partial}{\\partial \\boldsymbol{\\beta}} loss = \\frac{\\partial}{\\partial \\boldsymbol{\\beta}} {\\bf y}^\\top {\\bf y} - \\frac{\\partial}{\\partial \\boldsymbol{\\beta}} {\\bf y}^\\top {\\bf X}{\\boldsymbol\\beta} - \\frac{\\partial}{\\partial \\boldsymbol{\\beta}} {\\boldsymbol\\beta}^\\top {\\bf X}^\\top {\\bf y} + \\frac{\\partial}{\\partial \\boldsymbol{\\beta}} {\\boldsymbol\\beta}^\\top {\\bf X}^\\top {\\bf X} {\\boldsymbol\\beta}$\n",
        "\n",
        "$= 0 - {\\bf X}^\\top {\\bf y}- {\\bf X}^\\top {\\bf y} + 2{\\bf X}^\\top {\\bf X}{\\boldsymbol\\beta}$\n",
        "\n",
        "따라서 $\\frac{\\partial}{\\partial \\boldsymbol{\\beta}}loss=0$을 풀면\n",
        "아래와 같다.\n",
        "\n",
        "$\\boldsymbol{\\hat\\beta}= ({\\bf X}^\\top {\\bf X})^{-1}{\\bf X}^\\top {\\bf y}$\n",
        "\n",
        "`-` 공식도 매트릭스로 표현하면:\n",
        "$\\boldsymbol{\\hat\\beta}= ({\\bf X}^\\top {\\bf X})^{-1}{\\bf X}^\\top {\\bf y}$\n",
        "\\<– 외우세요\n",
        "\n",
        "`-` 적용을 해보자.\n",
        "\n",
        "(X를 만드는 방법1)"
      ],
      "id": "25652fb3-9198-4f16-b754-cc67ca6dc0ea"
    },
    {
      "cell_type": "code",
      "execution_count": 15,
      "metadata": {
        "outputId": "b7ec7108-75f1-460e-ef38-ada8b2f8767d"
      },
      "outputs": [],
      "source": [
        "X=tf.transpose(tf.concat([[[1.0]*10],[x]],0)) #\n",
        "X"
      ],
      "id": "cedbac4c-3664-4518-b809-49cfb21894b7"
    },
    {
      "cell_type": "markdown",
      "metadata": {},
      "source": [
        "-   1.0을 10개 곱하고,, x를\n",
        "\n",
        "(X를 만드는 방법2)"
      ],
      "id": "115c6d0f-a4c2-47b1-92b6-b01ac7f1a6f3"
    },
    {
      "cell_type": "code",
      "execution_count": 16,
      "metadata": {},
      "outputs": [],
      "source": [
        "from tensorflow.python.ops.numpy_ops import np_config\n",
        "np_config.enable_numpy_behavior()"
      ],
      "id": "83d3f30e-3b3e-45fd-86c6-794d798c6758"
    },
    {
      "cell_type": "code",
      "execution_count": 17,
      "metadata": {
        "outputId": "584caab7-55bb-47ed-82c8-d59b757aac49"
      },
      "outputs": [],
      "source": [
        "X=tf.concat([[[1.0]*10],[x]],0).T\n",
        "X"
      ],
      "id": "52b79c1f-5076-4e18-a0da-2e7a7dd21a47"
    },
    {
      "cell_type": "code",
      "execution_count": 18,
      "metadata": {
        "outputId": "ca9d54d2-2438-4989-954a-7d54bd72ae84"
      },
      "outputs": [],
      "source": [
        "tf.linalg.inv(X.T @ X) @ X.T @ y"
      ],
      "id": "a94a8b9b-3978-4da3-94f3-2d7f0944cf8a"
    },
    {
      "cell_type": "markdown",
      "metadata": {},
      "source": [
        "`-` 잘 구해진다.\n",
        "\n",
        "`-` 그런데.."
      ],
      "id": "4e8693a5-9853-4de0-b887-3c9ee3fc3a1b"
    },
    {
      "cell_type": "code",
      "execution_count": 19,
      "metadata": {
        "outputId": "727cd715-8e67-4f61-e8b9-2448ccea92fc"
      },
      "outputs": [],
      "source": [
        "beta0_estimated,beta1_estimated"
      ],
      "id": "4ad0739b-6de4-429a-b023-9426c2005cef"
    },
    {
      "cell_type": "markdown",
      "metadata": {},
      "source": [
        "값이 좀 다르다..?\n",
        "\n",
        "`-` 같은 값입니다! 신경쓰지 마세요! 텐서플로우가 좀 대충계산합니다."
      ],
      "id": "a77fcb81-778c-4af5-a032-82cb24c79557"
    },
    {
      "cell_type": "code",
      "execution_count": 20,
      "metadata": {},
      "outputs": [],
      "source": [
        "import tensorflow.experimental.numpy as tnp"
      ],
      "id": "00a97646-b2ae-4e38-bd07-125c32744fb5"
    },
    {
      "cell_type": "code",
      "execution_count": 21,
      "metadata": {},
      "outputs": [],
      "source": [
        "x=tnp.array([20.1, 22.2, 22.7, 23.3, 24.4, 25.1, 26.2, 27.3, 28.4, 30.4])\n",
        "y=10.2 + 2.2*x + epsilon"
      ],
      "id": "40762229-2c5f-4769-9716-c3322e4b3144"
    },
    {
      "cell_type": "code",
      "execution_count": 25,
      "metadata": {},
      "outputs": [],
      "source": [
        "beta1_estimated = sum((x-sum(x)/10)*(y-sum(y)/10)) / sum((x-sum(x)/10)**2) # Sxy * Sxx\n",
        "beta0_estimated = sum(y)/10 - beta1_estimated * sum(x)/10"
      ],
      "id": "ab7d73d0-18bb-4319-9864-fa10ee8b9724"
    },
    {
      "cell_type": "code",
      "execution_count": 26,
      "metadata": {
        "outputId": "fdf0f793-5ebb-4db5-97b5-c49154028fc4"
      },
      "outputs": [],
      "source": [
        "beta0_estimated, beta1_estimated"
      ],
      "id": "382dc0b5-0c02-4334-9e2e-bf669fd4a7eb"
    },
    {
      "cell_type": "code",
      "execution_count": 27,
      "metadata": {
        "outputId": "16f74dbb-9f07-4f94-c987-da1e3bec5f94"
      },
      "outputs": [],
      "source": [
        "X=tnp.concatenate([[tnp.array([1.0]*10)],[x]],0).T\n",
        "tf.linalg.inv(X.T @ X) @ X.T @ y"
      ],
      "id": "ead3a278-c9f8-4c57-b5a3-9d3ef6697619"
    },
    {
      "cell_type": "markdown",
      "metadata": {},
      "source": [
        "### 앞으로 할것\n",
        "\n",
        "`-` 선형대수학의 미분이론..\n",
        "\n",
        "`-` 실습 (tensorflow에서 매트릭스를 자유롭게 다루비)"
      ],
      "id": "059a15a4-af34-49b7-b973-f62f17805e24"
    }
  ],
  "nbformat": 4,
  "nbformat_minor": 5,
  "metadata": {
    "colab": {
      "provenance": []
    },
    "kernelspec": {
      "name": "python3",
      "display_name": "Python 3 (ipykernel)",
      "language": "python"
    },
    "language_info": {
      "name": "python",
      "codemirror_mode": {
        "name": "ipython",
        "version": "3"
      },
      "file_extension": ".py",
      "mimetype": "text/x-python",
      "nbconvert_exporter": "python",
      "pygments_lexer": "ipython3",
      "version": "3.8.16"
    }
  }
}