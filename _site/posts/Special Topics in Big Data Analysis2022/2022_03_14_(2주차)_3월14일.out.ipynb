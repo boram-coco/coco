{
  "cells": [
    {
      "cell_type": "markdown",
      "metadata": {},
      "source": [
        "# \\[STBDA\\] 02wk: tensorflow_matrix\n",
        "\n",
        "김보람  \n",
        "2023-06-16\n",
        "\n",
        "> 해당 강의노트는 전북대학교 최규빈교수님\n",
        "> [STBDA2022](https://guebin.github.io/STBDA2022/) 자료임\n",
        "\n",
        "### import"
      ],
      "id": "0e792568-c3f8-45d1-93d6-557e0a289d76"
    },
    {
      "cell_type": "code",
      "execution_count": 1,
      "metadata": {},
      "outputs": [
        {
          "output_type": "stream",
          "name": "stderr",
          "text": [
            "2023-06-16 15:15:55.862384: I tensorflow/core/platform/cpu_feature_guard.cc:193] This TensorFlow binary is optimized with oneAPI Deep Neural Network Library (oneDNN) to use the following CPU instructions in performance-critical operations:  AVX2 FMA\n",
            "To enable them in other operations, rebuild TensorFlow with the appropriate compiler flags."
          ]
        }
      ],
      "source": [
        "import tensorflow as tf\n",
        "import numpy as np"
      ],
      "id": "e18d4288-4668-45c2-a66f-5bb76f5b9ca2"
    },
    {
      "cell_type": "code",
      "execution_count": 2,
      "metadata": {
        "outputId": "bb0c528a-0fcd-418b-eb56-8f4adceb3eea"
      },
      "outputs": [],
      "source": [
        "tf.config.experimental.list_physical_devices('GPU')"
      ],
      "id": "c4a78936-73df-4a20-8041-0d76aa07fd0f"
    },
    {
      "cell_type": "markdown",
      "metadata": {},
      "source": [
        "### tf.constant\n",
        "\n",
        "#### 예비학습: 중첩리스트\n",
        "\n",
        "`-` 리스트"
      ],
      "id": "713991b3-45ce-4d3d-88fe-18138f513735"
    },
    {
      "cell_type": "code",
      "execution_count": 3,
      "metadata": {
        "outputId": "b91245ab-726f-47ab-e7c1-5fb5b4f5c155"
      },
      "outputs": [],
      "source": [
        "lst = [1,2,4,5,6]\n",
        "lst"
      ],
      "id": "8ce62ead-2002-4e4c-b9c6-faef7c87e3a9"
    },
    {
      "cell_type": "code",
      "execution_count": 4,
      "metadata": {
        "outputId": "27386e23-598a-4f43-d5b6-d48f858eb930"
      },
      "outputs": [],
      "source": [
        "lst[1] # 두번쨰원소"
      ],
      "id": "640326fb-ac17-4f52-8fb6-f10d15dfc8c2"
    },
    {
      "cell_type": "code",
      "execution_count": 5,
      "metadata": {
        "outputId": "95b55233-ffbc-46de-cd9b-d912300ee8e6"
      },
      "outputs": [],
      "source": [
        "lst[-1] # 마지막원소"
      ],
      "id": "c8e2ee14-9ae9-4e4c-8995-f935bd33cbe2"
    },
    {
      "cell_type": "markdown",
      "metadata": {},
      "source": [
        "`-` (2,2) matrix 느낌의 list"
      ],
      "id": "9ad39dd9-3bbf-4001-b08c-a89789ed2fac"
    },
    {
      "cell_type": "code",
      "execution_count": 8,
      "metadata": {
        "outputId": "d7b0a320-f510-4f99-fac0-8b4180bfa5af"
      },
      "outputs": [],
      "source": [
        "lst= [[1,2],[3,4]]\n",
        "lst"
      ],
      "id": "94f4135c-5c14-4145-8c29-5a91f3d6bf62"
    },
    {
      "cell_type": "markdown",
      "metadata": {},
      "source": [
        "위를 아래와 같은 매트릭스로 생각할수 있다.\n",
        "\n",
        "    1 2\n",
        "    3 4"
      ],
      "id": "752ace34-6070-4567-bca7-325c94c7e112"
    },
    {
      "cell_type": "code",
      "execution_count": 9,
      "metadata": {
        "outputId": "6b0e09f9-995e-4d32-8fd7-251fea45bf35"
      },
      "outputs": [
        {
          "output_type": "stream",
          "name": "stdout",
          "text": [
            "1\n",
            "2\n",
            "3\n",
            "4"
          ]
        }
      ],
      "source": [
        "print(lst[0][0]) # (1,1)\n",
        "print(lst[0][1]) # (1,2)\n",
        "print(lst[1][0]) # (2,1)\n",
        "print(lst[1][1]) # (2,2)"
      ],
      "id": "1633ffe1-7530-4f4b-9b83-d63288f62776"
    },
    {
      "cell_type": "code",
      "execution_count": 10,
      "metadata": {},
      "outputs": [],
      "source": [
        "np.array(lst)"
      ],
      "id": "52acc29d-2daa-49a6-b839-e9ca1d23a69e"
    },
    {
      "cell_type": "markdown",
      "metadata": {},
      "source": [
        "`-` (4,1) matrix 느낌의 list"
      ],
      "id": "70c1c246-7ef6-401e-b9e7-308f1bcebe45"
    },
    {
      "cell_type": "code",
      "execution_count": 14,
      "metadata": {
        "outputId": "0574e817-a640-4195-e36e-ce5452cb6c67"
      },
      "outputs": [],
      "source": [
        "lst=[[1],[2],[3],[4]] # (4,1) matrix = 길이가 4인 col-vector\n",
        "lst"
      ],
      "id": "c85cff1f-ee24-495a-98bf-6ca14b2fad7c"
    },
    {
      "cell_type": "code",
      "execution_count": 15,
      "metadata": {},
      "outputs": [],
      "source": [
        "np.array(lst)"
      ],
      "id": "821f22ea-3b97-410d-b384-4c014fdf626f"
    },
    {
      "cell_type": "markdown",
      "metadata": {},
      "source": [
        "`-` (1,4) matrix 느낌의 list"
      ],
      "id": "7734c796-d47b-4817-bed4-c3567f9fbb27"
    },
    {
      "cell_type": "code",
      "execution_count": 16,
      "metadata": {
        "outputId": "34d73dd8-5e4e-4a9d-e116-0011d4fd72c4"
      },
      "outputs": [],
      "source": [
        "lst=[[1,2,3,4]] # (1,4) matrix = 길이가 4인 row-vector\n",
        "lst"
      ],
      "id": "5e1a530e-afa6-430d-b7bd-ff78958483bc"
    },
    {
      "cell_type": "code",
      "execution_count": 17,
      "metadata": {},
      "outputs": [],
      "source": [
        "np.array(lst)"
      ],
      "id": "5af3a5e1-f5a5-4fba-b612-d48cb3fbd8ff"
    },
    {
      "cell_type": "markdown",
      "metadata": {},
      "source": [
        "#### 선언\n",
        "\n",
        "`-` 스칼라"
      ],
      "id": "d3e9d390-92e7-4775-aa4e-1d011df30b80"
    },
    {
      "cell_type": "code",
      "execution_count": 18,
      "metadata": {
        "outputId": "ae9e8c8b-4bfc-40be-905a-69e42986f00c"
      },
      "outputs": [],
      "source": [
        "tf.constant(3.14)"
      ],
      "id": "43e60a45-17d6-4d2e-809a-9efe4ebec72c"
    },
    {
      "cell_type": "code",
      "execution_count": 19,
      "metadata": {
        "outputId": "cd39b926-ac53-4260-ed9b-ca00d8255319"
      },
      "outputs": [],
      "source": [
        "tf.constant(3.14)+tf.constant(3.14)"
      ],
      "id": "df80b9d7-4cc8-42d1-a32c-503170307103"
    },
    {
      "cell_type": "markdown",
      "metadata": {},
      "source": [
        "`-` 벡터"
      ],
      "id": "fc9e7d49-f84c-4b7b-bcaa-1028ecb4fe4a"
    },
    {
      "cell_type": "code",
      "execution_count": 20,
      "metadata": {},
      "outputs": [],
      "source": [
        "_vector=tf.constant([1,2,3])"
      ],
      "id": "3501b056-7453-4904-96cd-d1fdb58bbc37"
    },
    {
      "cell_type": "code",
      "execution_count": 21,
      "metadata": {
        "outputId": "3666fb49-7bec-469e-938c-ff8129fec69b"
      },
      "outputs": [],
      "source": [
        "_vector[-1]"
      ],
      "id": "489f0cf0-2ca4-4e9c-8d15-8a7d9b907788"
    },
    {
      "cell_type": "markdown",
      "metadata": {},
      "source": [
        "`-` 매트릭스"
      ],
      "id": "ba024f12-5fc4-4d9a-a348-a51786aa2e88"
    },
    {
      "cell_type": "code",
      "execution_count": 22,
      "metadata": {
        "outputId": "ece939d8-e353-4384-d600-aecf5e55fb26"
      },
      "outputs": [],
      "source": [
        "_matrix= tf.constant([[1,0],[0,1]])\n",
        "_matrix"
      ],
      "id": "2f85c204-a946-4b36-b843-0a46cdefba76"
    },
    {
      "cell_type": "markdown",
      "metadata": {},
      "source": [
        "`-` array"
      ],
      "id": "c30f9a2d-8674-44c2-80dd-94672084a142"
    },
    {
      "cell_type": "code",
      "execution_count": 23,
      "metadata": {
        "outputId": "1d09099e-bff2-467e-ddf0-d97c1c7cb966"
      },
      "outputs": [],
      "source": [
        "tf.constant([[[0,1,1],[1,2,-1]],[[0,1,2],[1,2,-1]]])"
      ],
      "id": "d1e10f35-6e03-4ca2-8c06-dcb691cde56c"
    },
    {
      "cell_type": "markdown",
      "metadata": {},
      "source": [
        "#### 타입"
      ],
      "id": "df71ac2b-8c73-4c29-9c0b-11598d253511"
    },
    {
      "cell_type": "code",
      "execution_count": 27,
      "metadata": {
        "outputId": "fd5f23c9-a90d-48e7-e20d-2b5c03a96812"
      },
      "outputs": [],
      "source": [
        "type(tf.constant(3.14))"
      ],
      "id": "6fbb7e42-32dc-452e-97f1-eb8f4cd7e53d"
    },
    {
      "cell_type": "markdown",
      "metadata": {},
      "source": [
        "#### 인덱싱"
      ],
      "id": "55012c97-f95b-48c7-a5f4-17ba26207f2f"
    },
    {
      "cell_type": "code",
      "execution_count": 28,
      "metadata": {
        "outputId": "27dbaff4-a3a2-41b4-8471-911450aa0c45"
      },
      "outputs": [],
      "source": [
        "_matrix = tf.constant([[1,2],[3,4]])\n",
        "_matrix"
      ],
      "id": "1843d446-7d13-449a-a49a-f7863d452ef8"
    },
    {
      "cell_type": "code",
      "execution_count": 29,
      "metadata": {
        "outputId": "a2d633f4-2211-4261-f2ec-e9a917cae512"
      },
      "outputs": [],
      "source": [
        "_matrix[0][0]"
      ],
      "id": "607a83e5-ac70-407d-9246-8fa650d16e2f"
    },
    {
      "cell_type": "code",
      "execution_count": 30,
      "metadata": {
        "outputId": "07014ac8-99d4-4d0c-b4bc-4cd66ce732da"
      },
      "outputs": [],
      "source": [
        "_matrix[0]"
      ],
      "id": "0b78e746-e6ac-4d19-a9ea-825abdfbbf28"
    },
    {
      "cell_type": "code",
      "execution_count": 31,
      "metadata": {
        "outputId": "c739885a-0f79-43d4-a8ab-4cdc8f1d56ec"
      },
      "outputs": [],
      "source": [
        "_matrix[0,:]"
      ],
      "id": "64cc08c4-088c-4e16-9be1-98395e7075b6"
    },
    {
      "cell_type": "code",
      "execution_count": 33,
      "metadata": {
        "outputId": "31afb0cb-b0b7-4565-afde-13c94bd94f96"
      },
      "outputs": [],
      "source": [
        "_matrix[:,0] # column"
      ],
      "id": "69f49c92-e220-4b05-8ed7-44df78eaea92"
    },
    {
      "cell_type": "markdown",
      "metadata": {},
      "source": [
        "#### tf.constant는 불편하다.\n",
        "\n",
        "`-` 불편한점 1. 모든 원소가 같은 dtype을 가지고 있어야함. 2. 원소 수정이\n",
        "불가능함. 3. 묵시적 형변환이 불가능하다.\n",
        "\n",
        "`-` 원소수정이 불가능함"
      ],
      "id": "0511090e-845e-41e6-9f1f-a2c6a60747b4"
    },
    {
      "cell_type": "code",
      "execution_count": 34,
      "metadata": {
        "outputId": "5d8f012c-e9aa-4983-b578-41839b725c14"
      },
      "outputs": [],
      "source": [
        "a=tf.constant([1,22,33])\n",
        "a"
      ],
      "id": "0e82d6a5-9004-44be-b50e-5ffbe8384597"
    },
    {
      "cell_type": "code",
      "execution_count": 36,
      "metadata": {},
      "outputs": [],
      "source": [
        "a[0]"
      ],
      "id": "0b6e46df-6a0e-4c7d-85e7-c218d181da9d"
    },
    {
      "cell_type": "code",
      "execution_count": 35,
      "metadata": {
        "outputId": "0962bbf0-1d0f-4858-ab6e-ed564fc1017e"
      },
      "outputs": [],
      "source": [
        "a[0]=11"
      ],
      "id": "5fc80571-5c93-498c-bc68-1f7e8c14d238"
    },
    {
      "cell_type": "markdown",
      "metadata": {},
      "source": [
        "`-` 묵시적 형변환이 불가능하다"
      ],
      "id": "c012bd75-5d4b-4a12-96f6-57eb1ecf2b8e"
    },
    {
      "cell_type": "code",
      "execution_count": 37,
      "metadata": {},
      "outputs": [],
      "source": [
        "1+3.14"
      ],
      "id": "352d5bf3-6b2e-4085-ac0e-3e0839830851"
    },
    {
      "cell_type": "code",
      "execution_count": 38,
      "metadata": {
        "outputId": "ad086c36-10fd-4db3-f55b-633654c25258"
      },
      "outputs": [],
      "source": [
        "tf.constant(1)+tf.constant(3.14)"
      ],
      "id": "30a9382d-cb1a-4e3f-ab24-7870d0b77b5a"
    },
    {
      "cell_type": "markdown",
      "metadata": {},
      "source": [
        "-   int형+float형 계산이 불가하다."
      ],
      "id": "e592bd32-0a28-41bd-8ced-75d3187b2037"
    },
    {
      "cell_type": "code",
      "execution_count": 39,
      "metadata": {
        "outputId": "72d62ca0-8ead-482d-e9a3-4230aa5135ea"
      },
      "outputs": [],
      "source": [
        "tf.constant(1.0)+tf.constant(3.14)"
      ],
      "id": "253e4106-9c73-440e-ab39-470305770bf8"
    },
    {
      "cell_type": "markdown",
      "metadata": {},
      "source": [
        "-   float형+float형 으로 변경해서 계산해줘야함\n",
        "\n",
        "`-` 같은 float도 안되는 경우가 있음"
      ],
      "id": "73787d53-0fe1-4247-a602-5cb89750f113"
    },
    {
      "cell_type": "code",
      "execution_count": 40,
      "metadata": {
        "outputId": "caea2a9c-f194-4419-9732-1148ba439534"
      },
      "outputs": [],
      "source": [
        "tf.constant(1.0,dtype=tf.float64)"
      ],
      "id": "c4e854b9-7e32-4322-bb18-7634c6e71b1b"
    },
    {
      "cell_type": "code",
      "execution_count": 41,
      "metadata": {
        "outputId": "01cf3cf1-62ed-4f1c-ea09-0d5caeaacad8"
      },
      "outputs": [],
      "source": [
        "tf.constant(3.14)"
      ],
      "id": "71a0d05d-5190-4055-93d7-7c93903ab04a"
    },
    {
      "cell_type": "code",
      "execution_count": 42,
      "metadata": {
        "outputId": "10241cb4-53c9-4bd4-f831-462a51ae3969"
      },
      "outputs": [],
      "source": [
        "tf.constant(1.0,dtype=tf.float64)+tf.constant(3.14)"
      ],
      "id": "d95be72f-599e-42bc-a98a-1d39d4deedb2"
    },
    {
      "cell_type": "markdown",
      "metadata": {},
      "source": [
        "#### tf.constant $\\to$ 넘파이"
      ],
      "id": "4dd33c67-5132-469c-a75e-e87fc1a41451"
    },
    {
      "cell_type": "code",
      "execution_count": 44,
      "metadata": {},
      "outputs": [],
      "source": [
        "tf.constant(np.array([3.14,-3.14])+np.array([1,2]))"
      ],
      "id": "4efd3dc5-738c-4e3f-9078-a8b1e8655376"
    },
    {
      "cell_type": "code",
      "execution_count": 45,
      "metadata": {
        "outputId": "9595346d-cb27-4907-d368-ce50cfb4ca26"
      },
      "outputs": [],
      "source": [
        "np.array(tf.constant(1)) # 방법1"
      ],
      "id": "b0f01b69-4a9a-46d3-94f3-5e26bcf48ac8"
    },
    {
      "cell_type": "code",
      "execution_count": 46,
      "metadata": {
        "outputId": "d630cf30-3cf2-4fd2-9a3d-d6f14a0b6e50"
      },
      "outputs": [],
      "source": [
        "a=tf.constant([3.14,-3.14])\n",
        "type(a)"
      ],
      "id": "4e97a26f-6d2b-48d8-aa77-34ad2d2d748a"
    },
    {
      "cell_type": "code",
      "execution_count": 47,
      "metadata": {
        "outputId": "5f2c4496-9138-4cbf-a78f-93865e3b6ce2"
      },
      "outputs": [],
      "source": [
        "a.numpy()"
      ],
      "id": "8dbd0c41-9d05-459c-8347-ea25d92798ba"
    },
    {
      "cell_type": "markdown",
      "metadata": {},
      "source": [
        "#### 연산\n",
        "\n",
        "`-` 더하기"
      ],
      "id": "a6629e63-8950-47f6-a957-c4768a818686"
    },
    {
      "cell_type": "code",
      "execution_count": 48,
      "metadata": {
        "outputId": "52ce9931-c594-4a92-8426-3680da7f7448"
      },
      "outputs": [],
      "source": [
        "a=tf.constant([1,2])\n",
        "b=tf.constant([3,4])\n",
        "a+b"
      ],
      "id": "5bb395b3-3a2c-4080-b459-c8c5047ac8ca"
    },
    {
      "cell_type": "code",
      "execution_count": 49,
      "metadata": {
        "outputId": "64319220-e898-4af1-8e63-20c51cd79243"
      },
      "outputs": [],
      "source": [
        "tf.add(a,b)"
      ],
      "id": "a84a265f-58ca-4bda-9dc0-33c6bacacb74"
    },
    {
      "cell_type": "markdown",
      "metadata": {},
      "source": [
        "`-` 곱하기"
      ],
      "id": "31ea29f4-6e4f-4941-b960-b0fa3a550a52"
    },
    {
      "cell_type": "code",
      "execution_count": 50,
      "metadata": {
        "outputId": "a7aac373-abb4-44d0-d04e-cad2c66d9527"
      },
      "outputs": [],
      "source": [
        "a=tf.constant([[1,2],[3,4]])\n",
        "b=tf.constant([[5,6],[7,8]])\n",
        "a*b"
      ],
      "id": "76906234-6425-4e99-b7a9-21a9b6d102a2"
    },
    {
      "cell_type": "code",
      "execution_count": 51,
      "metadata": {
        "outputId": "a0840d8d-0baa-415b-efc3-2be4ebb871ae"
      },
      "outputs": [],
      "source": [
        "tf.multiply(a,b)"
      ],
      "id": "d1cd1de9-0b9f-4c06-bb57-4254e69e037b"
    },
    {
      "cell_type": "markdown",
      "metadata": {},
      "source": [
        "`-` 매트릭스의곱"
      ],
      "id": "b33d91e1-374c-49a1-b08e-82f2b2bdcdf2"
    },
    {
      "cell_type": "code",
      "execution_count": 52,
      "metadata": {
        "outputId": "50e419cf-0980-4a78-e48e-d617fc2f9ee3"
      },
      "outputs": [],
      "source": [
        "a=tf.constant([[1,0],[0,1]]) # (2,2)\n",
        "b=tf.constant([[5],[7]]) # (2,1)\n",
        "a@b"
      ],
      "id": "3c5621f7-b27e-4958-8e42-06265a8ccf9a"
    },
    {
      "cell_type": "code",
      "execution_count": 53,
      "metadata": {
        "outputId": "d1b46c1e-8a7e-41ba-90fd-279e78569098"
      },
      "outputs": [],
      "source": [
        "tf.matmul(a,b)"
      ],
      "id": "77e8f14a-0413-4c3f-9eef-00cc202eb62b"
    },
    {
      "cell_type": "markdown",
      "metadata": {},
      "source": [
        "`-` 역행렬"
      ],
      "id": "b1aa7eff-41e5-4d11-9776-5b07dc50f6e7"
    },
    {
      "cell_type": "code",
      "execution_count": 54,
      "metadata": {
        "outputId": "ea24cc6c-45fc-4152-9aaf-c8b9949b48ba"
      },
      "outputs": [],
      "source": [
        "a=tf.constant([[1,0],[0,2]])\n",
        "a"
      ],
      "id": "507fbd44-d03c-4454-aabb-bd330ffcb4f2"
    },
    {
      "cell_type": "code",
      "execution_count": 55,
      "metadata": {
        "outputId": "bcb8773b-3cb7-4dff-f21f-da38aaf94da0"
      },
      "outputs": [],
      "source": [
        "tf.linalg.inv(a)"
      ],
      "id": "3affc7b8-de95-44f7-9872-4b6fafe08787"
    },
    {
      "cell_type": "markdown",
      "metadata": {},
      "source": [
        "-   1/2만들려먼 float로…"
      ],
      "id": "f2e32ac9-7330-444f-864c-05cd3d8c7a20"
    },
    {
      "cell_type": "code",
      "execution_count": 56,
      "metadata": {
        "outputId": "1ce69261-c3c5-4c75-944a-c0cb4455a958"
      },
      "outputs": [],
      "source": [
        "a=tf.constant([[1.0,0.0],[0.0,2.0]])\n",
        "tf.linalg.inv(a)"
      ],
      "id": "f22b4b87-8c65-4c98-872b-e75a0d4bc03d"
    },
    {
      "cell_type": "markdown",
      "metadata": {},
      "source": [
        "`-` `tf.linalg.` + `tab`을 누르면 좋아보이는 연산들 많음"
      ],
      "id": "f96b5cf7-0e9d-4632-9415-2924c38d4a91"
    },
    {
      "cell_type": "code",
      "execution_count": 58,
      "metadata": {
        "outputId": "3f93e064-bea0-47f6-b5e6-16e4c01090da"
      },
      "outputs": [
        {
          "output_type": "stream",
          "name": "stdout",
          "text": [
            "tf.Tensor(\n",
            "[[1. 2.]\n",
            " [3. 4.]], shape=(2, 2), dtype=float32)"
          ]
        }
      ],
      "source": [
        "a=tf.constant([[1.0,2.0],[3.0,4.0]])\n",
        "print(a)\n",
        "tf.linalg.det(a) #determinant:4-2"
      ],
      "id": "8c4cd06c-73f2-4e82-bfd0-55438ee2a5de"
    },
    {
      "cell_type": "code",
      "execution_count": 59,
      "metadata": {
        "outputId": "ea23f66d-dc63-49de-c52b-d6b303b60a29"
      },
      "outputs": [],
      "source": [
        "tf.linalg.trace(a) # 대각선 원소의 합"
      ],
      "id": "dc33a91b-fc0e-49f9-b9ee-8c098f84e662"
    },
    {
      "cell_type": "markdown",
      "metadata": {},
      "source": [
        "#### 형태변환\n",
        "\n",
        "`-` 기본: tf.reshape() 를 이용"
      ],
      "id": "d369cd91-426a-421e-9671-f937c1b8a59f"
    },
    {
      "cell_type": "code",
      "execution_count": 60,
      "metadata": {
        "outputId": "0b422e4d-29ff-4cfc-c4e5-60c9a42a32cc"
      },
      "outputs": [],
      "source": [
        "a=tf.constant([1,2,3,4])\n",
        "a"
      ],
      "id": "07db8721-4087-47a5-8b73-15f1c64eb65f"
    },
    {
      "cell_type": "code",
      "execution_count": 61,
      "metadata": {
        "outputId": "dc3480ad-a4a9-4ea3-8934-2e847e2387c2"
      },
      "outputs": [],
      "source": [
        "tf.reshape(a,(4,1))"
      ],
      "id": "5ef2a9f3-c54a-4d8e-9291-ae57d0d4741f"
    },
    {
      "cell_type": "code",
      "execution_count": 62,
      "metadata": {
        "outputId": "299cab1d-c9d2-4fea-b312-d799fc9b1045"
      },
      "outputs": [],
      "source": [
        "tf.reshape(a,(2,2))"
      ],
      "id": "9354e52f-40e9-45a1-b4e9-abdd7bf14ef7"
    },
    {
      "cell_type": "code",
      "execution_count": 63,
      "metadata": {
        "outputId": "403b781b-b86f-401c-a232-e9dc4f1301e5"
      },
      "outputs": [],
      "source": [
        "tf.reshape(a,(2,2,1))"
      ],
      "id": "de9bb009-a2e2-413e-9be1-44775fdd2357"
    },
    {
      "cell_type": "markdown",
      "metadata": {},
      "source": [
        "`-` 다차원"
      ],
      "id": "89244ede-d567-47df-90f0-b1aaa04b0558"
    },
    {
      "cell_type": "code",
      "execution_count": 64,
      "metadata": {
        "outputId": "6a16d0ac-d573-4c48-9b4c-dec751d304f8"
      },
      "outputs": [],
      "source": [
        "a=tf.constant([1,2,3,4,5,6,7,8,9,10,11,12])\n",
        "a"
      ],
      "id": "dcec2dd7-8da3-4feb-9dce-895047ab3033"
    },
    {
      "cell_type": "code",
      "execution_count": 65,
      "metadata": {
        "outputId": "8db0eac9-f634-4831-cedc-d778420d7c38"
      },
      "outputs": [],
      "source": [
        "tf.reshape(a,(2,2,3))"
      ],
      "id": "cf51544b-013b-4d58-a961-89c99318dbe2"
    },
    {
      "cell_type": "code",
      "execution_count": 66,
      "metadata": {
        "outputId": "ba32321b-6f95-44fd-be25-61295d24073c"
      },
      "outputs": [],
      "source": [
        "tf.reshape(a,(4,3))"
      ],
      "id": "6ee27b0d-be41-45a7-8b2f-28d10b285703"
    },
    {
      "cell_type": "markdown",
      "metadata": {},
      "source": [
        "`-` tf.resh"
      ],
      "id": "4aba2266-d492-4c3d-98e5-42831e5f00dc"
    },
    {
      "cell_type": "code",
      "execution_count": 67,
      "metadata": {
        "outputId": "461220a7-1a46-475a-912e-d27c9cf05845"
      },
      "outputs": [],
      "source": [
        "a=tf.constant([1,2,3,4,5,6,7,8,9,10,11,12])\n",
        "a"
      ],
      "id": "43f908fd-6bca-47da-91f3-26e6185cfa6b"
    },
    {
      "cell_type": "code",
      "execution_count": 68,
      "metadata": {
        "outputId": "3928378b-471d-4094-dd60-e9c5c513f057"
      },
      "outputs": [],
      "source": [
        "tf.reshape(a,(4,-1))"
      ],
      "id": "90f10eb0-1e82-49e6-a3ee-f731ec1f72a5"
    },
    {
      "cell_type": "code",
      "execution_count": 69,
      "metadata": {
        "outputId": "d1ffcc2c-6ec0-49d6-f2f2-c1bba0a21160"
      },
      "outputs": [],
      "source": [
        "tf.reshape(a,(2,2,-1))"
      ],
      "id": "04e750b1-5421-4211-8528-5aba29b14e5d"
    },
    {
      "cell_type": "code",
      "execution_count": 70,
      "metadata": {
        "outputId": "7dcce93b-db12-4ca3-9ca2-2e62d72ec35a"
      },
      "outputs": [],
      "source": [
        "b=tf.reshape(a,(2,2,-1))\n",
        "b"
      ],
      "id": "df4aabe7-0aa0-40b0-b871-bb9c3fb774c8"
    },
    {
      "cell_type": "code",
      "execution_count": 71,
      "metadata": {
        "outputId": "95f73054-a0e2-419c-f8ce-f88810236f93"
      },
      "outputs": [],
      "source": [
        "tf.reshape(b,-1)"
      ],
      "id": "eda38fc5-f863-42fe-9d15-223ff98d6974"
    },
    {
      "cell_type": "markdown",
      "metadata": {},
      "source": [
        "#### 선언고급\n",
        "\n",
        "`-` 다른 자료형 (리스트나 넘파이)로 만들고 바꾸는것도 좋다."
      ],
      "id": "5d4a7c86-c57b-4b74-af27-5a99e3635b98"
    },
    {
      "cell_type": "code",
      "execution_count": 72,
      "metadata": {
        "outputId": "c7ae99ae-ff07-402d-c9a3-77fde1947160"
      },
      "outputs": [],
      "source": [
        "np.diag([1,2,3,4])"
      ],
      "id": "9185ab7c-7458-447c-9bb8-7b158bd68f53"
    },
    {
      "cell_type": "code",
      "execution_count": 73,
      "metadata": {
        "outputId": "e65d8521-0391-4a27-8fc8-2116bfbd6adf"
      },
      "outputs": [],
      "source": [
        "tf.constant(np.diag([1,2,3,4]))"
      ],
      "id": "f9be760f-aca3-4771-b857-49ccd36c1bdd"
    },
    {
      "cell_type": "markdown",
      "metadata": {},
      "source": [
        "`-` tf.ones, tf.zeros"
      ],
      "id": "886a5e5e-461f-412d-bf9e-9f0aee726a24"
    },
    {
      "cell_type": "code",
      "execution_count": 74,
      "metadata": {
        "outputId": "3e1d62d5-51d9-4eca-e26e-b2f40c229916"
      },
      "outputs": [],
      "source": [
        "tf.zeros([3,3])"
      ],
      "id": "60158e48-431a-4a32-97f2-2f20826e6b21"
    },
    {
      "cell_type": "code",
      "execution_count": 75,
      "metadata": {
        "outputId": "51a10abc-f89e-4c1f-93bc-b1c769a5b597"
      },
      "outputs": [],
      "source": [
        "tf.reshape(tf.constant([0]*9),(3,3))"
      ],
      "id": "198bc334-ad60-4169-ba4c-a34004214040"
    },
    {
      "cell_type": "markdown",
      "metadata": {},
      "source": [
        "`-` range(10)"
      ],
      "id": "c3ea009e-6c7b-49ef-b8ed-ddc76f7527df"
    },
    {
      "cell_type": "code",
      "execution_count": 76,
      "metadata": {
        "outputId": "48157a46-e4cd-47d5-9d4f-80b39c3e68d7"
      },
      "outputs": [],
      "source": [
        "a=range(0,12)\n",
        "tf.constant(a)"
      ],
      "id": "20340c4c-c619-42b6-9001-c0b26a26f5b9"
    },
    {
      "cell_type": "code",
      "execution_count": 77,
      "metadata": {
        "outputId": "97374c40-5e86-43ae-b314-eeb7e214cf59"
      },
      "outputs": [],
      "source": [
        "tf.constant(range(1,20,3))"
      ],
      "id": "84e1cdd1-d2e2-4f23-8a20-28943d3c3562"
    },
    {
      "cell_type": "markdown",
      "metadata": {},
      "source": [
        "`-` tf.linspace"
      ],
      "id": "30fadd98-0f49-468e-8d3c-ce20fd122d31"
    },
    {
      "cell_type": "code",
      "execution_count": 78,
      "metadata": {
        "outputId": "e305f5ab-9428-42f8-ab4d-bfb06bd852fd"
      },
      "outputs": [],
      "source": [
        "tf.linspace(0,1,10)"
      ],
      "id": "74a8c861-e0cb-47d5-bd01-9bc40bb55191"
    },
    {
      "cell_type": "markdown",
      "metadata": {},
      "source": [
        "#### tf.concat\n",
        "\n",
        "`-` (2,1) concat (2,1) =\\> (2,2) - 두번째 축이 바뀌었다. =\\> axis=1"
      ],
      "id": "7e7c9757-bb1f-42b0-9991-a6540d691cdc"
    },
    {
      "cell_type": "code",
      "execution_count": 79,
      "metadata": {
        "outputId": "9c9aabf3-c024-46bf-ecab-25a841daa53a"
      },
      "outputs": [],
      "source": [
        "a=tf.constant([[1],[2]])\n",
        "b=tf.constant([[3],[4]])\n",
        "a,b"
      ],
      "id": "6637263c-4d2c-4902-b609-2c1d043c7f51"
    },
    {
      "cell_type": "code",
      "execution_count": 80,
      "metadata": {
        "outputId": "1a0eec8c-1d78-4552-b083-3f22926b400e"
      },
      "outputs": [],
      "source": [
        "tf.concat([a,b],axis=1)"
      ],
      "id": "e14c479a-b757-437e-aa6c-b4ec195ccef9"
    },
    {
      "cell_type": "markdown",
      "metadata": {},
      "source": [
        "`-` (2,1) concat (2,1) =\\> (4,1) - 첫번째 축이 바뀌었다. =\\> axis=0"
      ],
      "id": "8cf7fe98-94a5-4505-8928-f598e649a4dd"
    },
    {
      "cell_type": "code",
      "execution_count": 81,
      "metadata": {
        "outputId": "b3e09c6e-b98f-4c26-cbb4-c13124e3c155"
      },
      "outputs": [],
      "source": [
        "a=tf.constant([[1],[2]])\n",
        "b=tf.constant([[3],[4]])\n",
        "a,b"
      ],
      "id": "c9303d28-e105-40cd-845e-48b88350a2c3"
    },
    {
      "cell_type": "code",
      "execution_count": 82,
      "metadata": {
        "outputId": "c7f4514e-cac2-43c4-b88e-e8395d87f187"
      },
      "outputs": [],
      "source": [
        "tf.concat([a,b],axis=0)"
      ],
      "id": "93574aad-a592-45cd-bdac-2f2b93d1ca4e"
    },
    {
      "cell_type": "markdown",
      "metadata": {},
      "source": [
        "`-` (1,2) concat (1,2) =\\> (2,2) - 첫번째 // axis=0"
      ],
      "id": "684ae64b-3edc-497d-bbd8-1ffe6d8324de"
    },
    {
      "cell_type": "code",
      "execution_count": 83,
      "metadata": {},
      "outputs": [],
      "source": [
        "a=tf.constant([[1,2]])\n",
        "b=tf.constant([[3,4]])"
      ],
      "id": "e95c64f4-e416-49e4-8a1d-c50f74965470"
    },
    {
      "cell_type": "code",
      "execution_count": 84,
      "metadata": {
        "outputId": "8449f67d-3eed-4d47-ef46-13f312568226"
      },
      "outputs": [],
      "source": [
        "tf.concat([a,b],axis=0)"
      ],
      "id": "9c23f461-7340-444b-9fba-a105e8b37961"
    },
    {
      "cell_type": "markdown",
      "metadata": {},
      "source": [
        "`-` (1,2) concat (1,2) =\\> (1,4) - 두번째 // axis=1"
      ],
      "id": "9b9a3605-78c9-4f00-a014-5473cd069513"
    },
    {
      "cell_type": "code",
      "execution_count": 85,
      "metadata": {},
      "outputs": [],
      "source": [
        "a=tf.constant([[1,2]])\n",
        "b=tf.constant([[3,4]])"
      ],
      "id": "302b934e-b9f0-434d-bcd4-9a1219f16093"
    },
    {
      "cell_type": "code",
      "execution_count": 86,
      "metadata": {},
      "outputs": [],
      "source": [
        "tf.concat([a,b],axis=1)"
      ],
      "id": "e287b131-28df-4398-bace-b579bd758fcd"
    },
    {
      "cell_type": "markdown",
      "metadata": {},
      "source": [
        "`-` (2,3,4,5) concat (2,3,4,5) =\\> (4,3,4,5) - 첫번째 // axis=0"
      ],
      "id": "76c82e8a-0bc9-4313-8b71-44a080073aae"
    },
    {
      "cell_type": "code",
      "execution_count": 87,
      "metadata": {},
      "outputs": [],
      "source": [
        "a=tf.reshape(tf.constant(range(120)),(2,3,4,5))\n",
        "b=-a"
      ],
      "id": "8f250340-fd33-48ef-86aa-153f0fc23968"
    },
    {
      "cell_type": "code",
      "execution_count": 88,
      "metadata": {
        "outputId": "6b1dfe42-2141-40b6-af87-4d7e2d836eac"
      },
      "outputs": [],
      "source": [
        "tf.concat([a,b],axis=0)"
      ],
      "id": "31591041-8fed-4367-bc21-515bf830578b"
    },
    {
      "cell_type": "markdown",
      "metadata": {},
      "source": [
        "`-` (2,3,4,5) concat (2,3,4,5) =\\> (2,6,4,5) - 두번째 // axis=1"
      ],
      "id": "50a99f38-cff5-4f61-bfac-3707625c3784"
    },
    {
      "cell_type": "code",
      "execution_count": 89,
      "metadata": {},
      "outputs": [],
      "source": [
        "a=tf.reshape(tf.constant(range(120)),(2,3,4,5))\n",
        "b=-a"
      ],
      "id": "fe2075cd-aa38-494d-8b3a-1156e3c40e6a"
    },
    {
      "cell_type": "code",
      "execution_count": 90,
      "metadata": {
        "outputId": "c188f01a-a609-492e-fbbf-025d9475c8a6"
      },
      "outputs": [],
      "source": [
        "tf.concat([a,b],axis=1)"
      ],
      "id": "a59f627a-3423-4b9b-962a-7869f500ec2f"
    },
    {
      "cell_type": "markdown",
      "metadata": {},
      "source": [
        "`-` (2,3,4,5) concat (2,3,4,5) =\\> (2,3,8,5) - 세번째 // axis=2"
      ],
      "id": "a918905a-3fe9-48f0-a91c-3745cd48dc26"
    },
    {
      "cell_type": "code",
      "execution_count": 91,
      "metadata": {},
      "outputs": [],
      "source": [
        "a=tf.reshape(tf.constant(range(120)),(2,3,4,5))\n",
        "b=-a"
      ],
      "id": "156589da-05fc-469e-b498-468c0936f9ad"
    },
    {
      "cell_type": "code",
      "execution_count": 92,
      "metadata": {
        "outputId": "bcb536b0-87d7-4674-f67f-bde232289ac6"
      },
      "outputs": [],
      "source": [
        "tf.concat([a,b],axis=2)"
      ],
      "id": "92c131ed-8ec8-4143-b55c-35c6d8efe323"
    },
    {
      "cell_type": "markdown",
      "metadata": {},
      "source": [
        "`-` (2,3,4,5) concat (2,3,4,5) =\\> (2,3,4,10) - 네번째 // axis=3 \\#\n",
        "0,1,2,3 // -4 -3 -2 -1"
      ],
      "id": "e4ceb82e-96a0-4c01-9ae4-d025fe39a6fc"
    },
    {
      "cell_type": "code",
      "execution_count": 93,
      "metadata": {},
      "outputs": [],
      "source": [
        "a=tf.reshape(tf.constant(range(120)),(2,3,4,5))\n",
        "b=-a"
      ],
      "id": "d59cf9ac-67c7-4931-be01-8f1432b2d4d5"
    },
    {
      "cell_type": "code",
      "execution_count": 94,
      "metadata": {
        "outputId": "ed530031-8a50-4798-c979-f5228f4d3587"
      },
      "outputs": [],
      "source": [
        "tf.concat([a,b],axis=-1)"
      ],
      "id": "050efe1d-9744-4b7c-93b5-ab92f01191e4"
    },
    {
      "cell_type": "markdown",
      "metadata": {},
      "source": [
        "`-` (4,) concat (4,) =\\> (8,) - 첫번째축? // axis=0"
      ],
      "id": "477fa262-63d9-40f2-a7ea-9cfab8fedddb"
    },
    {
      "cell_type": "code",
      "execution_count": 95,
      "metadata": {
        "outputId": "4a9590b4-6d42-4fa5-a7bf-57cf537548e8"
      },
      "outputs": [],
      "source": [
        "a=tf.constant([1,2,3,4])\n",
        "b=-a\n",
        "a,b"
      ],
      "id": "45a1cc9b-d2a1-4896-9f10-384896f3e2e8"
    },
    {
      "cell_type": "code",
      "execution_count": 96,
      "metadata": {
        "outputId": "6a97b39c-3e85-417a-ef89-ade0e45ce848"
      },
      "outputs": [],
      "source": [
        "tf.concat([a,b],axis=0)"
      ],
      "id": "b2f99383-354f-4c41-a6e4-f624b303acc4"
    },
    {
      "cell_type": "markdown",
      "metadata": {},
      "source": [
        "`-` (4,) concat (4,) =\\> (4,2) - 두번째축? // axis=1 ==\\> 이런거없다.."
      ],
      "id": "92d2b396-4a98-4bc4-b5c7-9ef76e3b3f5c"
    },
    {
      "cell_type": "code",
      "execution_count": 97,
      "metadata": {
        "outputId": "e960b091-0b55-4d5e-ff31-c37b0c04989e"
      },
      "outputs": [],
      "source": [
        "a=tf.constant([1,2,3,4])\n",
        "b=-a\n",
        "a,b"
      ],
      "id": "02794bf8-bdbe-48d9-ad75-f3035e884cc8"
    },
    {
      "cell_type": "code",
      "execution_count": 98,
      "metadata": {
        "outputId": "a362a337-052f-4aae-bad9-148091f7fe79"
      },
      "outputs": [],
      "source": [
        "tf.concat([a,b],axis=1)"
      ],
      "id": "0ee1d090-7481-4a45-9e43-01783dc1583d"
    },
    {
      "cell_type": "markdown",
      "metadata": {},
      "source": [
        "#### tf.stack (concat이랑 달라,, 헷갈려!)"
      ],
      "id": "35bcf5fb-c69d-458b-8f09-52141d534507"
    },
    {
      "cell_type": "code",
      "execution_count": 99,
      "metadata": {
        "outputId": "08685c6f-3393-43dd-8706-39d6ad165954"
      },
      "outputs": [],
      "source": [
        "a=tf.constant([1,2,3,4])\n",
        "b=-a\n",
        "a,b"
      ],
      "id": "e1915563-830b-447e-9cab-a2b8263529ea"
    },
    {
      "cell_type": "code",
      "execution_count": 100,
      "metadata": {
        "outputId": "3f93b9d5-7815-4cd7-e7e6-9a0d42b4c735"
      },
      "outputs": [],
      "source": [
        "tf.stack([a,b],axis=0)"
      ],
      "id": "e156bea0-cfa3-4f93-9773-aff0101a46be"
    },
    {
      "cell_type": "code",
      "execution_count": 101,
      "metadata": {
        "outputId": "8451acec-a566-46fc-fdda-c2cc6a7170ea"
      },
      "outputs": [],
      "source": [
        "tf.stack([a,b],axis=1)"
      ],
      "id": "9a2389a3-47da-4567-893b-15a9568d6277"
    },
    {
      "cell_type": "markdown",
      "metadata": {},
      "source": [
        "### tnp\n",
        "\n",
        "`-` tf는 넘파이에 비하여 텐서만들기가 너무힘듬"
      ],
      "id": "4fa9b367-483d-45bd-9326-5df1b4437eb4"
    },
    {
      "cell_type": "code",
      "execution_count": 103,
      "metadata": {},
      "outputs": [],
      "source": [
        "np.diag([1,2,3])"
      ],
      "id": "263cba81-c9be-472f-8919-6f467dba2433"
    },
    {
      "cell_type": "code",
      "execution_count": 102,
      "metadata": {
        "outputId": "b21fe444-7858-404e-bced-3d7f123e1756"
      },
      "outputs": [],
      "source": [
        "np.diag([1,2,3]).reshape(-1)"
      ],
      "id": "2d8d64ab-b1cf-44dd-bd96-089ae64d41e4"
    },
    {
      "cell_type": "markdown",
      "metadata": {},
      "source": [
        "-   넘파이는 이런식으로 `np.diag()`도 쓸수 있고 reshape을 메소드로 쓸\n",
        "    수도 있는데…\n",
        "\n",
        "#### tnp 사용방법 (불만해결방법)"
      ],
      "id": "8827594b-ea53-45dd-a566-29317c2c76fd"
    },
    {
      "cell_type": "code",
      "execution_count": 104,
      "metadata": {},
      "outputs": [],
      "source": [
        "import tensorflow.experimental.numpy as tnp\n",
        "tnp.experimental_enable_numpy_behavior()"
      ],
      "id": "7da47e02-6e20-4988-a300-6248e8969472"
    },
    {
      "cell_type": "code",
      "execution_count": 105,
      "metadata": {
        "outputId": "517155fc-5d52-4eef-d68e-5bb8b07877e4"
      },
      "outputs": [],
      "source": [
        "type(tnp.array([1,2,3]))"
      ],
      "id": "be506db8-700b-4a5b-ba39-c6a46d809eb0"
    },
    {
      "cell_type": "markdown",
      "metadata": {},
      "source": [
        "`-` int와 float을 더할 수 있음"
      ],
      "id": "695a2342-4d01-48cf-813a-3e9b87a54a74"
    },
    {
      "cell_type": "code",
      "execution_count": 106,
      "metadata": {
        "outputId": "e506f6cb-de81-4e10-d713-2943cef24ffd"
      },
      "outputs": [],
      "source": [
        "tnp.array([1,2,3])+tnp.array([1.0,2.0,3.0])"
      ],
      "id": "dd6414b7-33d3-4fda-9d5f-ec6451db05e4"
    },
    {
      "cell_type": "code",
      "execution_count": 107,
      "metadata": {
        "outputId": "f6c6a22e-8723-4873-f861-16f10f132c1e"
      },
      "outputs": [],
      "source": [
        "tf.constant([1,2,3])+tf.constant([1.0,2.0,3.0])"
      ],
      "id": "369c0c5a-f87c-412a-b959-7837e0b9c1db"
    },
    {
      "cell_type": "code",
      "execution_count": 108,
      "metadata": {
        "outputId": "c0b49f3c-6d45-44f2-b948-eaf1d8a1ca12"
      },
      "outputs": [],
      "source": [
        "tnp.array(1)+tnp.array([1.0,2.0,3.0])"
      ],
      "id": "9a091e68-2ac3-42ec-b97e-bd908e7917a4"
    },
    {
      "cell_type": "code",
      "execution_count": 109,
      "metadata": {
        "outputId": "b60f134f-6cde-43d8-d1d0-e9090b193162"
      },
      "outputs": [],
      "source": [
        "tnp.diag([1,2,3])"
      ],
      "id": "7f1bb98a-f10b-47b2-8557-6dc4c352e5d2"
    },
    {
      "cell_type": "code",
      "execution_count": 110,
      "metadata": {
        "outputId": "4b6ba620-4d99-41e4-81b2-6cd8d788c94c"
      },
      "outputs": [],
      "source": [
        "a=tnp.diag([1,2,3])\n",
        "type(a)"
      ],
      "id": "f0e851cc-5833-4e60-ab4f-2c88af9d05be"
    },
    {
      "cell_type": "code",
      "execution_count": 111,
      "metadata": {
        "outputId": "2305225e-b6de-4c80-98a7-780856923721"
      },
      "outputs": [],
      "source": [
        "a=tf.constant([1,2,3])\n",
        "a.reshape(3,1)"
      ],
      "id": "6f016b73-b45c-4579-8c40-0ed16e9690e3"
    },
    {
      "cell_type": "code",
      "execution_count": 112,
      "metadata": {},
      "outputs": [],
      "source": [
        "a.min()"
      ],
      "id": "93079556-24a1-459a-866f-a9ebab77d0ea"
    },
    {
      "cell_type": "code",
      "execution_count": 113,
      "metadata": {},
      "outputs": [],
      "source": [
        "a.max()"
      ],
      "id": "196368bc-4b19-4255-aed6-ffc694fcd7d8"
    },
    {
      "cell_type": "markdown",
      "metadata": {},
      "source": [
        "#### 선언고급"
      ],
      "id": "5985f9cf-0d45-434a-86b9-f7792ba3db37"
    },
    {
      "cell_type": "code",
      "execution_count": 114,
      "metadata": {
        "outputId": "37eb9530-54fa-409f-952b-37a2aa0f5fd5"
      },
      "outputs": [],
      "source": [
        "np.random.randn(5)"
      ],
      "id": "aa230a41-46e4-42ec-8313-ca9a65af9b5e"
    },
    {
      "cell_type": "code",
      "execution_count": 115,
      "metadata": {
        "outputId": "d3df3307-317c-44df-bdb1-c9696f6dc093"
      },
      "outputs": [],
      "source": [
        "tnp.random.randn(5) # 넘파이가 되면 나도 된다."
      ],
      "id": "75831108-494d-4257-9bb3-4f9bd1d96f90"
    },
    {
      "cell_type": "markdown",
      "metadata": {},
      "source": [
        "#### 타입"
      ],
      "id": "48941857-a3dd-4cd6-adbb-edbbb2ef2763"
    },
    {
      "cell_type": "code",
      "execution_count": 116,
      "metadata": {
        "outputId": "e4bd082d-beff-4359-f0e0-45ae49e37dbb"
      },
      "outputs": [],
      "source": [
        "type(tnp.random.randn(5))"
      ],
      "id": "001eefa5-3215-47fc-83a7-46c6974a477d"
    },
    {
      "cell_type": "markdown",
      "metadata": {},
      "source": [
        "#### tf.contant로 만들어도 마치 넘파이인듯 쓰는 기능들\n",
        "\n",
        "`-` 묵시적형변환이 가능"
      ],
      "id": "1b864137-3448-48a1-b69e-14e7d0ada0a3"
    },
    {
      "cell_type": "code",
      "execution_count": 117,
      "metadata": {
        "outputId": "b418cb0a-d8f3-437e-cf12-8de9e298f456"
      },
      "outputs": [],
      "source": [
        "tf.constant([1,1])+tf.constant([2.2,3.3])"
      ],
      "id": "0e5ded82-30fe-40f8-94e1-81cefcdf3d49"
    },
    {
      "cell_type": "markdown",
      "metadata": {},
      "source": [
        "`-` 메소드를 쓸수 있음."
      ],
      "id": "46b333d2-bc08-4f67-acea-37780b3569cf"
    },
    {
      "cell_type": "code",
      "execution_count": 118,
      "metadata": {
        "outputId": "ad3a3426-0517-4490-f29d-60f441b55a76"
      },
      "outputs": [],
      "source": [
        "a= tnp.array([[1,2,3,4]])\n",
        "a.T"
      ],
      "id": "f343b9ff-ebde-4eb0-b4a7-790e2cd59bd4"
    },
    {
      "cell_type": "markdown",
      "metadata": {},
      "source": [
        "#### 그렇지만 np.array는 아님\n",
        "\n",
        "`-` 원소를 할당하는것은 불가능"
      ],
      "id": "88ce7df0-ad26-4694-aa38-eb2f6ae15f0a"
    },
    {
      "cell_type": "code",
      "execution_count": 119,
      "metadata": {
        "outputId": "4e89091a-63c7-4500-fcce-79e7864862b3"
      },
      "outputs": [],
      "source": [
        "a=tf.constant([1,2,3])\n",
        "a"
      ],
      "id": "3ff7d767-683c-4138-8ce3-c75d62e2bff7"
    },
    {
      "cell_type": "code",
      "execution_count": 120,
      "metadata": {
        "outputId": "1cc26441-4156-4c98-c5e9-1a4e0e967478"
      },
      "outputs": [],
      "source": [
        "a[0]=11"
      ],
      "id": "218f3734-9de8-4ba6-b861-947b8ebc0932"
    }
  ],
  "nbformat": 4,
  "nbformat_minor": 5,
  "metadata": {
    "colab": {
      "provenance": []
    },
    "kernelspec": {
      "name": "python3",
      "display_name": "Python 3 (ipykernel)",
      "language": "python"
    },
    "language_info": {
      "name": "python",
      "codemirror_mode": {
        "name": "ipython",
        "version": "3"
      },
      "file_extension": ".py",
      "mimetype": "text/x-python",
      "nbconvert_exporter": "python",
      "pygments_lexer": "ipython3",
      "version": "3.8.16"
    }
  }
}