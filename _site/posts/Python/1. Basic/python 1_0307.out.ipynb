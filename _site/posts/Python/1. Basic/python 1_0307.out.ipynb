{
  "cells": [
    {
      "cell_type": "markdown",
      "metadata": {},
      "source": [
        "# 파이썬 (0307) 1주차\n",
        "\n",
        "김보람  \n",
        "2022-03-07\n",
        "\n",
        "# 자료형\n",
        "\n",
        "`-` 파이썬의 기본자료형은 int, float, bool, str, list, tuple, dict, set\n",
        "등이 있다.\n",
        "\n",
        "-   0차원 자료형: int, float, bool\n",
        "-   1차원 자료형: str, list, tuple, dict, set\n",
        "\n",
        "## 0차원\n",
        "\n",
        "`-` int형"
      ],
      "id": "f578595a-3e0b-4cc0-8bc5-dcb25dfd230e"
    },
    {
      "cell_type": "code",
      "execution_count": 1,
      "metadata": {},
      "outputs": [],
      "source": [
        "a=100"
      ],
      "id": "9484fd48"
    },
    {
      "cell_type": "code",
      "execution_count": 2,
      "metadata": {},
      "outputs": [],
      "source": [
        "type(a)"
      ],
      "id": "a5e4537c"
    },
    {
      "cell_type": "markdown",
      "metadata": {},
      "source": [
        "`-` float형"
      ],
      "id": "e188f257-88a2-4314-927b-0803815b72ad"
    },
    {
      "cell_type": "code",
      "execution_count": 3,
      "metadata": {},
      "outputs": [],
      "source": [
        "a?"
      ],
      "id": "7729e9a0"
    },
    {
      "cell_type": "code",
      "execution_count": 4,
      "metadata": {},
      "outputs": [],
      "source": [
        "a=1.2*3"
      ],
      "id": "e5efcb88"
    },
    {
      "cell_type": "code",
      "execution_count": 5,
      "metadata": {},
      "outputs": [],
      "source": [
        "type(a)"
      ],
      "id": "e87ba759"
    },
    {
      "cell_type": "markdown",
      "metadata": {},
      "source": [
        "`-` bool형"
      ],
      "id": "6beff883-3a7b-4315-9ac4-07a8def2b89a"
    },
    {
      "cell_type": "code",
      "execution_count": 30,
      "metadata": {},
      "outputs": [],
      "source": [
        "a=True   # 숫자1\n",
        "b=False  # 숫자0"
      ],
      "id": "d37460b3"
    },
    {
      "cell_type": "code",
      "execution_count": 31,
      "metadata": {},
      "outputs": [],
      "source": [
        "type(a)"
      ],
      "id": "95dab68c"
    },
    {
      "cell_type": "code",
      "execution_count": 33,
      "metadata": {},
      "outputs": [],
      "source": [
        "# bool형의 연산\n",
        "a+b"
      ],
      "id": "574195c1"
    },
    {
      "cell_type": "markdown",
      "metadata": {},
      "source": [
        "`-` complex형"
      ],
      "id": "0a1131ca-4d8e-49a5-a65c-317113153444"
    },
    {
      "cell_type": "code",
      "execution_count": 10,
      "metadata": {},
      "outputs": [],
      "source": [
        "a=1+2j\n",
        "b=2-2j"
      ],
      "id": "21fcd215"
    },
    {
      "cell_type": "code",
      "execution_count": 11,
      "metadata": {},
      "outputs": [],
      "source": [
        "a"
      ],
      "id": "5d607881"
    },
    {
      "cell_type": "code",
      "execution_count": 12,
      "metadata": {},
      "outputs": [],
      "source": [
        "type(a)"
      ],
      "id": "05c3aff3"
    },
    {
      "cell_type": "code",
      "execution_count": 13,
      "metadata": {},
      "outputs": [],
      "source": [
        "a+b"
      ],
      "id": "b7a71099"
    },
    {
      "cell_type": "code",
      "execution_count": 14,
      "metadata": {},
      "outputs": [],
      "source": [
        "type(a+b)"
      ],
      "id": "aead166d"
    },
    {
      "cell_type": "markdown",
      "metadata": {},
      "source": [
        "`-` 형태변환: float -\\> int"
      ],
      "id": "1d485a0a-c997-40db-986a-a55389ecafce"
    },
    {
      "cell_type": "code",
      "execution_count": 15,
      "metadata": {},
      "outputs": [],
      "source": [
        "a=3.0\n",
        "type(a)"
      ],
      "id": "81af3057"
    },
    {
      "cell_type": "code",
      "execution_count": 17,
      "metadata": {},
      "outputs": [],
      "source": [
        "a=int(a)"
      ],
      "id": "eb55a23e"
    },
    {
      "cell_type": "code",
      "execution_count": 18,
      "metadata": {},
      "outputs": [],
      "source": [
        "a?"
      ],
      "id": "46ad9c33"
    },
    {
      "cell_type": "code",
      "execution_count": 19,
      "metadata": {},
      "outputs": [],
      "source": [
        "a=3.14\n",
        "int(a)\n",
        "\n",
        "# 0.14날라가고 3만나옴. 정보의 손실이 있다."
      ],
      "id": "1bd643fe"
    },
    {
      "cell_type": "markdown",
      "metadata": {},
      "source": [
        "`-` 형태변환: int \\$\\$ float"
      ],
      "id": "ffc9aeb6-86f2-4dac-a99f-0d11680ec689"
    },
    {
      "cell_type": "code",
      "execution_count": 20,
      "metadata": {},
      "outputs": [],
      "source": [
        "a=3\n",
        "type(a)"
      ],
      "id": "1a6bf4ea"
    },
    {
      "cell_type": "code",
      "execution_count": 22,
      "metadata": {},
      "outputs": [],
      "source": [
        "a=float(a)\n",
        "type(a)"
      ],
      "id": "cc94cfa1"
    },
    {
      "cell_type": "markdown",
      "metadata": {},
      "source": [
        "`-` 형태변환: bool \\$\\$ int/float\n",
        "\n",
        "(예시1)"
      ],
      "id": "48aed2b8-542a-4944-a698-24914ed0934f"
    },
    {
      "cell_type": "code",
      "execution_count": 23,
      "metadata": {},
      "outputs": [],
      "source": [
        "a=True\n",
        "type(a)"
      ],
      "id": "0ccc7933"
    },
    {
      "cell_type": "code",
      "execution_count": 25,
      "metadata": {},
      "outputs": [],
      "source": [
        "int(a)"
      ],
      "id": "9c07a16f"
    },
    {
      "cell_type": "code",
      "execution_count": 26,
      "metadata": {},
      "outputs": [],
      "source": [
        "float(a)"
      ],
      "id": "b6798945"
    },
    {
      "cell_type": "markdown",
      "metadata": {},
      "source": [
        "(예시2)"
      ],
      "id": "199f606c-0091-4bc7-8c2e-5407c9930525"
    },
    {
      "cell_type": "code",
      "execution_count": 27,
      "metadata": {},
      "outputs": [],
      "source": [
        "a=1\n",
        "bool(a)"
      ],
      "id": "ab260c40"
    },
    {
      "cell_type": "markdown",
      "metadata": {},
      "source": [
        "(예시3)"
      ],
      "id": "f88c8221-9054-4873-b159-b50f74f67074"
    },
    {
      "cell_type": "code",
      "execution_count": 28,
      "metadata": {},
      "outputs": [],
      "source": [
        "a=1.0\n",
        "bool(a)"
      ],
      "id": "f454921a"
    },
    {
      "cell_type": "code",
      "execution_count": 29,
      "metadata": {},
      "outputs": [],
      "source": [
        "a=0.0\n",
        "bool(a)"
      ],
      "id": "f516b65e"
    },
    {
      "cell_type": "markdown",
      "metadata": {},
      "source": [
        "`-` 이상한 형태변환도 가능하다"
      ],
      "id": "bbe84153-df1e-4b0f-9048-adb18c2fb5de"
    },
    {
      "cell_type": "code",
      "execution_count": 34,
      "metadata": {},
      "outputs": [],
      "source": [
        "bool(-3.14)"
      ],
      "id": "9a0151cb"
    },
    {
      "cell_type": "code",
      "execution_count": 35,
      "metadata": {},
      "outputs": [],
      "source": [
        "bool(3.14)"
      ],
      "id": "93026674"
    },
    {
      "cell_type": "code",
      "execution_count": 36,
      "metadata": {},
      "outputs": [],
      "source": [
        "bool(0)"
      ],
      "id": "9ab693cc"
    },
    {
      "cell_type": "code",
      "execution_count": 37,
      "metadata": {},
      "outputs": [],
      "source": [
        "bool(3.24342)"
      ],
      "id": "b4aae455"
    },
    {
      "cell_type": "code",
      "execution_count": null,
      "metadata": {},
      "outputs": [],
      "source": [
        "# 위와 같은 코드를 의도적으로 사용하진 않는다. "
      ],
      "id": "85054edd"
    },
    {
      "cell_type": "markdown",
      "metadata": {},
      "source": [
        "`-` 형태변환이 항상 가능한 것도 아님"
      ],
      "id": "8946ec11-6ba5-46ff-8295-72a965d1c485"
    },
    {
      "cell_type": "code",
      "execution_count": 38,
      "metadata": {},
      "outputs": [],
      "source": [
        "float(3+0j) # 사실상 3+0j= 3이므로 float으로 형변환하면 3.0이 되어야 할 것 같은데 오류가 남"
      ],
      "id": "88b794b1"
    },
    {
      "cell_type": "markdown",
      "metadata": {},
      "source": [
        "`-` 암묵적형변환 (implicit)\n",
        "\n",
        "(예비학습) implicit의 의미 - 추운날씨 -\\> 보일러좀 틀자!\n",
        "명시적(explicit) / 오늘 날씨가 좀 춥지 않아? (implicit) - 짜장면 먹을래?\n",
        "-\\> 싫어 (explicit) / 난 어제 짜장면 먹었는데… (implicit)"
      ],
      "id": "8f6cbd95-cd5b-454b-8bdc-a9dda5bfbf49"
    },
    {
      "cell_type": "code",
      "execution_count": 39,
      "metadata": {},
      "outputs": [],
      "source": [
        "int(True) #명시적"
      ],
      "id": "9af6390a"
    },
    {
      "cell_type": "code",
      "execution_count": 40,
      "metadata": {},
      "outputs": [],
      "source": [
        "True * 1 # 암묵적형"
      ],
      "id": "a1b02621"
    },
    {
      "cell_type": "code",
      "execution_count": 42,
      "metadata": {},
      "outputs": [],
      "source": [
        "1 * 1.0"
      ],
      "id": "74e54d56"
    },
    {
      "cell_type": "code",
      "execution_count": 43,
      "metadata": {},
      "outputs": [],
      "source": [
        "True+True"
      ],
      "id": "9e851c0a"
    },
    {
      "cell_type": "markdown",
      "metadata": {},
      "source": [
        "## 1차원\n",
        "\n",
        "`-` str"
      ],
      "id": "e4f85937-b2fb-4aca-942b-8d9c2de788af"
    },
    {
      "cell_type": "code",
      "execution_count": 45,
      "metadata": {},
      "outputs": [],
      "source": [
        "# 선언\n",
        "a='br'"
      ],
      "id": "72b50413"
    },
    {
      "cell_type": "code",
      "execution_count": 46,
      "metadata": {},
      "outputs": [],
      "source": [
        "a"
      ],
      "id": "018567a9"
    },
    {
      "cell_type": "code",
      "execution_count": 47,
      "metadata": {},
      "outputs": [],
      "source": [
        "# 연산\n",
        "# 더하기 연산\n",
        "a='x'\n",
        "b='2'"
      ],
      "id": "d9ccb064"
    },
    {
      "cell_type": "code",
      "execution_count": 49,
      "metadata": {},
      "outputs": [],
      "source": [
        "a+b"
      ],
      "id": "35f91565"
    },
    {
      "cell_type": "code",
      "execution_count": 50,
      "metadata": {},
      "outputs": [],
      "source": [
        "# 빼기 연산 없다. \n",
        "a-b"
      ],
      "id": "5695056f"
    },
    {
      "cell_type": "code",
      "execution_count": 51,
      "metadata": {},
      "outputs": [],
      "source": [
        "# 곱하기 연산\n",
        "a*2"
      ],
      "id": "aa891d0a"
    },
    {
      "cell_type": "code",
      "execution_count": 52,
      "metadata": {},
      "outputs": [],
      "source": [
        "2*a"
      ],
      "id": "5744bbd4"
    },
    {
      "cell_type": "code",
      "execution_count": 53,
      "metadata": {},
      "outputs": [],
      "source": [
        "# 의미상 맞지 않는 것은 수행되지 않는다.\n",
        "a='x'\n",
        "b='y'\n",
        "a+b"
      ],
      "id": "0e089329"
    },
    {
      "cell_type": "code",
      "execution_count": 54,
      "metadata": {},
      "outputs": [],
      "source": [
        "a*b"
      ],
      "id": "a919ab31"
    },
    {
      "cell_type": "code",
      "execution_count": 55,
      "metadata": {},
      "outputs": [],
      "source": [
        "# 나눗셈연산은 없다. \n",
        "a='xx'\n",
        "a/2"
      ],
      "id": "af253934"
    },
    {
      "cell_type": "markdown",
      "metadata": {},
      "source": [
        "## 인덱싱\n",
        "\n",
        "`-` str은 하나의 벡터 문자가 여러개 있는 형태라고 생각하기"
      ],
      "id": "8e05fdef-11c3-426a-b82a-75ab7b533537"
    },
    {
      "cell_type": "code",
      "execution_count": 56,
      "metadata": {},
      "outputs": [],
      "source": [
        "a='boram'\n",
        "a"
      ],
      "id": "36f6b04e"
    },
    {
      "cell_type": "markdown",
      "metadata": {},
      "source": [
        "-   5개의 칸에 글씨가 하나씩 들어가 있음"
      ],
      "id": "e887e1d5-1c4e-4d2e-b002-3f00ac16ec78"
    },
    {
      "cell_type": "code",
      "execution_count": 57,
      "metadata": {},
      "outputs": [],
      "source": [
        "a[0]  # 0이 첫번쨰 원소"
      ],
      "id": "9a13f1be"
    },
    {
      "cell_type": "code",
      "execution_count": 59,
      "metadata": {},
      "outputs": [],
      "source": [
        "a[1] # 두번째 원소"
      ],
      "id": "abd66235"
    },
    {
      "cell_type": "code",
      "execution_count": 60,
      "metadata": {},
      "outputs": [],
      "source": [
        "# 마지막 원소를 호출하려면 -1로 호출할 수도 있다.\n",
        "a[-1]"
      ],
      "id": "fdcb80ee"
    },
    {
      "cell_type": "code",
      "execution_count": 61,
      "metadata": {},
      "outputs": [],
      "source": [
        "a[4]"
      ],
      "id": "ef4453f8"
    },
    {
      "cell_type": "code",
      "execution_count": 63,
      "metadata": {},
      "outputs": [],
      "source": [
        "a[-2]\n",
        "# 마지막에서 2번째 원소는 -2로 호출 가능"
      ],
      "id": "eb45d0b0"
    },
    {
      "cell_type": "markdown",
      "metadata": {},
      "source": [
        "-   어려개의 원소는 `:`을 이용하여 호출할 수 있음"
      ],
      "id": "b0916564-4761-498a-a3f5-1df92260dd3d"
    },
    {
      "cell_type": "code",
      "execution_count": 66,
      "metadata": {},
      "outputs": [],
      "source": [
        "a[0:3] # a[0], a[1], a[2]까지만 뽑힌다. a[3]은 호출되지 않는다."
      ],
      "id": "eacd9d30"
    },
    {
      "cell_type": "code",
      "execution_count": 67,
      "metadata": {},
      "outputs": [],
      "source": [
        "a[1:3]"
      ],
      "id": "550e94da"
    },
    {
      "cell_type": "markdown",
      "metadata": {},
      "source": [
        "-   index=1부터 시작해서 마지막 원소까지 호출하려면?"
      ],
      "id": "31283597-d9ed-4908-9ae8-dc5494e9a3af"
    },
    {
      "cell_type": "code",
      "execution_count": 68,
      "metadata": {},
      "outputs": [],
      "source": [
        "a[5]"
      ],
      "id": "30a9a927"
    },
    {
      "cell_type": "code",
      "execution_count": 70,
      "metadata": {},
      "outputs": [],
      "source": [
        "a[1:5]  # a[5]는 없는데,, 이렇게 쓰니까 헷갈릴 수 있다."
      ],
      "id": "2a499005"
    },
    {
      "cell_type": "code",
      "execution_count": 71,
      "metadata": {},
      "outputs": [],
      "source": [
        "a[1:-1]   # 이것은 a[1:4] 와 같음"
      ],
      "id": "9cda1861"
    },
    {
      "cell_type": "code",
      "execution_count": 72,
      "metadata": {},
      "outputs": [],
      "source": [
        "# 해결책! 생략한다.\n",
        "a[1:]"
      ],
      "id": "388176ba"
    },
    {
      "cell_type": "markdown",
      "metadata": {},
      "source": [
        "`-` 생략의 응용1"
      ],
      "id": "c5e2b83d-f345-47da-a483-f9990071eb89"
    },
    {
      "cell_type": "code",
      "execution_count": 73,
      "metadata": {},
      "outputs": [],
      "source": [
        "a='k-pop'\n",
        "a"
      ],
      "id": "edaafee9"
    },
    {
      "cell_type": "code",
      "execution_count": 74,
      "metadata": {},
      "outputs": [],
      "source": [
        "a[2:]"
      ],
      "id": "c71dd55f"
    },
    {
      "cell_type": "code",
      "execution_count": 75,
      "metadata": {},
      "outputs": [],
      "source": [
        "a[2:5]"
      ],
      "id": "3ed942ee"
    },
    {
      "cell_type": "markdown",
      "metadata": {},
      "source": [
        "`-` 생략의 응용2"
      ],
      "id": "6c171713-5e62-43c1-a94f-da2ad443b8a3"
    },
    {
      "cell_type": "code",
      "execution_count": 76,
      "metadata": {},
      "outputs": [],
      "source": [
        "a='k-pop'\n",
        "a"
      ],
      "id": "b4d5a932"
    },
    {
      "cell_type": "code",
      "execution_count": 77,
      "metadata": {},
      "outputs": [],
      "source": [
        "a[0:2]"
      ],
      "id": "fc9e913c"
    },
    {
      "cell_type": "code",
      "execution_count": 79,
      "metadata": {},
      "outputs": [],
      "source": [
        "a[:2]   # 앞을 생략하면 첫 원소부터 나온다."
      ],
      "id": "71a1a232"
    },
    {
      "cell_type": "markdown",
      "metadata": {},
      "source": [
        "`-` 생략의 응용3"
      ],
      "id": "4b03b01f-0835-41f0-b534-9dc77cc5e1c9"
    },
    {
      "cell_type": "code",
      "execution_count": 80,
      "metadata": {},
      "outputs": [],
      "source": [
        "a='k-pop'\n",
        "a"
      ],
      "id": "51493814"
    },
    {
      "cell_type": "code",
      "execution_count": 81,
      "metadata": {},
      "outputs": [],
      "source": [
        "a[:]"
      ],
      "id": "de1f0a45"
    },
    {
      "cell_type": "code",
      "execution_count": 82,
      "metadata": {},
      "outputs": [],
      "source": [
        "a[0:5]"
      ],
      "id": "f93b6caa"
    },
    {
      "cell_type": "markdown",
      "metadata": {},
      "source": [
        "#### str특수기능\n",
        "\n",
        "`-` 파이썬의 변수는 단순히 정보를 담는 그릇이 아니다. 유용한 기능을\n",
        "제공하는 경우가 있다."
      ],
      "id": "d09cbb31-8dd6-46cd-b5c1-c8cc417373ee"
    },
    {
      "cell_type": "code",
      "execution_count": 85,
      "metadata": {},
      "outputs": [],
      "source": [
        "a='ABCD'  #a라는 변수는 'ABCD'라는 정보를 담는 그릇의 역할만 하지 않고, 특화된 어떠한 기능도 제공한다.\n",
        "a"
      ],
      "id": "95bc9ff9"
    },
    {
      "cell_type": "code",
      "execution_count": 84,
      "metadata": {},
      "outputs": [],
      "source": [
        "a.lower() #소문자변환"
      ],
      "id": "bd8a96c5"
    },
    {
      "cell_type": "code",
      "execution_count": 86,
      "metadata": {},
      "outputs": [],
      "source": [
        "# lower()는 문자열에 특화된 기능이며 아래 내용은 안됨\n",
        "a=3.14\n",
        "a.lower()"
      ],
      "id": "01962486"
    },
    {
      "cell_type": "markdown",
      "metadata": {},
      "source": [
        "`-` 자료형에 특화된 기능(=함수)을 확인하는 방법 `a.` + `tab` 으로 목록\n",
        "확인 가능"
      ],
      "id": "bfef4d57-3f0b-4dae-86d1-a98059c8073f"
    },
    {
      "cell_type": "code",
      "execution_count": 87,
      "metadata": {},
      "outputs": [],
      "source": [
        "a='boram'"
      ],
      "id": "0530086e"
    },
    {
      "cell_type": "code",
      "execution_count": 88,
      "metadata": {},
      "outputs": [],
      "source": [
        "a.lower?"
      ],
      "id": "e516c58d"
    },
    {
      "cell_type": "code",
      "execution_count": 92,
      "metadata": {},
      "outputs": [],
      "source": [
        "a.upper()   # 대문자 변환\n",
        "# upper(a)"
      ],
      "id": "8521a5c8"
    },
    {
      "cell_type": "code",
      "execution_count": 90,
      "metadata": {},
      "outputs": [],
      "source": [
        "a.capitalize()"
      ],
      "id": "a72cd5cd"
    },
    {
      "cell_type": "markdown",
      "metadata": {},
      "source": [
        "`-` 마음의눈: `a.f()` 형태를 읽는 팁 - `a.f()`는 `f(a)`로 생각하면\n",
        "편리함 - `a.f(2)`는 `f(a,2)`로 생각하면 편리함 - 이런점에서 R `%>%`\n",
        "연산자와 비슷하다고 생각할 수 있다. (약간 다름)\n",
        "\n",
        "`-` 사실 `.`은 좀 더 다양한 상황에서 쓰일 수 있다. `변수이름.함수이름()`\n",
        "의 형태가 아니라 - `패키지이름.함수이름()` - `패키지이름.변수이름` -\n",
        "`패키지이름.패키지이름.함수이름()`\n",
        "\n",
        "… 와 같이 다양한 형태가 가능하다. 근본적인 고통점은 `.`을 기준으로\n",
        "`상위개념.하위개념`으로 이해하는 것이 좋다.\n",
        "\n",
        "## 0차원 vs 1차원\n",
        "\n",
        "`-` len 함수 : 원소의 갯수를 알려주는 함수\n",
        "\n",
        "(0차원) len함수가 동작하지 않는다."
      ],
      "id": "3be04b90-42f8-477d-b7e4-27035248c78f"
    },
    {
      "cell_type": "code",
      "execution_count": 95,
      "metadata": {},
      "outputs": [],
      "source": [
        "a=3.14\n",
        "len(a)"
      ],
      "id": "8db719b7"
    },
    {
      "cell_type": "code",
      "execution_count": 97,
      "metadata": {},
      "outputs": [],
      "source": [
        "b=True\n",
        "len(b)"
      ],
      "id": "0f415dd3"
    },
    {
      "cell_type": "markdown",
      "metadata": {},
      "source": [
        "(1차원) len함수가 잘 동작함"
      ],
      "id": "e33be299-b996-4264-880e-9a2b65977521"
    },
    {
      "cell_type": "code",
      "execution_count": 96,
      "metadata": {},
      "outputs": [],
      "source": [
        "a='3.14'\n",
        "len(a)"
      ],
      "id": "95cd032a"
    },
    {
      "cell_type": "code",
      "execution_count": 99,
      "metadata": {},
      "outputs": [],
      "source": [
        "b=[1,2,3]\n",
        "len(b)"
      ],
      "id": "100c16b3"
    },
    {
      "cell_type": "markdown",
      "metadata": {},
      "source": [
        "숙제"
      ],
      "id": "6d84b43d-3314-4339-ab3f-3d0b1738511b"
    },
    {
      "cell_type": "code",
      "execution_count": 100,
      "metadata": {},
      "outputs": [],
      "source": [
        "a='BoramKim'\n",
        "a"
      ],
      "id": "de85481a"
    },
    {
      "cell_type": "code",
      "execution_count": 101,
      "metadata": {},
      "outputs": [],
      "source": [
        "a[:5]"
      ],
      "id": "e2de66fc"
    },
    {
      "cell_type": "code",
      "execution_count": 102,
      "metadata": {},
      "outputs": [],
      "source": [
        "a[5:]"
      ],
      "id": "be3e8ee0"
    }
  ],
  "nbformat": 4,
  "nbformat_minor": 5,
  "metadata": {
    "kernelspec": {
      "name": "python3",
      "display_name": "Python 3",
      "language": "python"
    },
    "language_info": {
      "name": "python",
      "codemirror_mode": {
        "name": "ipython",
        "version": "3"
      },
      "file_extension": ".py",
      "mimetype": "text/x-python",
      "nbconvert_exporter": "python",
      "pygments_lexer": "ipython3",
      "version": "3.7.16"
    },
    "toc": {
      "base_numbering": "1",
      "nav_menu": {},
      "number_sections": true,
      "sideBar": true,
      "skip_h1_title": false,
      "title_cell": "Table of Contents",
      "title_sidebar": "Contents",
      "toc_cell": false,
      "toc_position": {},
      "toc_section_display": true,
      "toc_window_display": false
    }
  }
}