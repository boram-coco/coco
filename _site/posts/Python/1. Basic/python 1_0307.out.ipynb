{
  "cells": [
    {
      "cell_type": "markdown",
      "metadata": {},
      "source": [
        "# 파이썬 (0307) 1주차\n",
        "\n",
        "김보람  \n",
        "2022-03-07\n",
        "\n",
        "# 자료형\n",
        "\n",
        "`-` 파이썬의 기본자료형은 int, float, bool, str, list, tuple, dict, set\n",
        "등이 있다.\n",
        "\n",
        "-   0차원 자료형: int, float, bool\n",
        "-   1차원 자료형: str, list, tuple, dict, set\n",
        "\n",
        "## 0차원\n",
        "\n",
        "`-` int형"
      ],
      "id": "de88d115-2120-4468-aa3d-dbaaad0e8b48"
    },
    {
      "cell_type": "code",
      "execution_count": 1,
      "metadata": {},
      "outputs": [],
      "source": [
        "a=100"
      ],
      "id": "9484fd48"
    },
    {
      "cell_type": "code",
      "execution_count": 2,
      "metadata": {},
      "outputs": [],
      "source": [
        "type(a)"
      ],
      "id": "a5e4537c"
    },
    {
      "cell_type": "markdown",
      "metadata": {},
      "source": [
        "`-` float형"
      ],
      "id": "032b8a3c-eb83-4f33-8120-93be580db70b"
    },
    {
      "cell_type": "code",
      "execution_count": 3,
      "metadata": {},
      "outputs": [],
      "source": [
        "a?"
      ],
      "id": "7729e9a0"
    },
    {
      "cell_type": "code",
      "execution_count": 4,
      "metadata": {},
      "outputs": [],
      "source": [
        "a=1.2*3"
      ],
      "id": "e5efcb88"
    },
    {
      "cell_type": "code",
      "execution_count": 5,
      "metadata": {},
      "outputs": [],
      "source": [
        "type(a)"
      ],
      "id": "e87ba759"
    },
    {
      "cell_type": "markdown",
      "metadata": {},
      "source": [
        "`-` bool형"
      ],
      "id": "528655e8-ed6a-43df-9f2e-2b4d6f23f5e4"
    },
    {
      "cell_type": "code",
      "execution_count": 30,
      "metadata": {},
      "outputs": [],
      "source": [
        "a=True   # 숫자1\n",
        "b=False  # 숫자0"
      ],
      "id": "d37460b3"
    },
    {
      "cell_type": "code",
      "execution_count": 31,
      "metadata": {},
      "outputs": [],
      "source": [
        "type(a)"
      ],
      "id": "95dab68c"
    },
    {
      "cell_type": "code",
      "execution_count": 33,
      "metadata": {},
      "outputs": [],
      "source": [
        "# bool형의 연산\n",
        "a+b"
      ],
      "id": "574195c1"
    },
    {
      "cell_type": "markdown",
      "metadata": {},
      "source": [
        "`-` complex형"
      ],
      "id": "c8f27d03-bb2b-46aa-a02e-e9a7f99a3aaa"
    },
    {
      "cell_type": "code",
      "execution_count": 10,
      "metadata": {},
      "outputs": [],
      "source": [
        "a=1+2j\n",
        "b=2-2j"
      ],
      "id": "21fcd215"
    },
    {
      "cell_type": "code",
      "execution_count": 11,
      "metadata": {},
      "outputs": [],
      "source": [
        "a"
      ],
      "id": "5d607881"
    },
    {
      "cell_type": "code",
      "execution_count": 12,
      "metadata": {},
      "outputs": [],
      "source": [
        "type(a)"
      ],
      "id": "05c3aff3"
    },
    {
      "cell_type": "code",
      "execution_count": 13,
      "metadata": {},
      "outputs": [],
      "source": [
        "a+b"
      ],
      "id": "b7a71099"
    },
    {
      "cell_type": "code",
      "execution_count": 14,
      "metadata": {},
      "outputs": [],
      "source": [
        "type(a+b)"
      ],
      "id": "aead166d"
    },
    {
      "cell_type": "markdown",
      "metadata": {},
      "source": [
        "`-` 형태변환: float -\\> int"
      ],
      "id": "b5ed70a9-4930-4625-a03b-8a8f10bf5bce"
    },
    {
      "cell_type": "code",
      "execution_count": 15,
      "metadata": {},
      "outputs": [],
      "source": [
        "a=3.0\n",
        "type(a)"
      ],
      "id": "81af3057"
    },
    {
      "cell_type": "code",
      "execution_count": 17,
      "metadata": {},
      "outputs": [],
      "source": [
        "a=int(a)"
      ],
      "id": "eb55a23e"
    },
    {
      "cell_type": "code",
      "execution_count": 18,
      "metadata": {},
      "outputs": [],
      "source": [
        "a?"
      ],
      "id": "46ad9c33"
    },
    {
      "cell_type": "code",
      "execution_count": 19,
      "metadata": {},
      "outputs": [],
      "source": [
        "a=3.14\n",
        "int(a)\n",
        "\n",
        "# 0.14날라가고 3만나옴. 정보의 손실이 있다."
      ],
      "id": "1bd643fe"
    },
    {
      "cell_type": "markdown",
      "metadata": {},
      "source": [
        "`-` 형태변환: int \\$\\$ float"
      ],
      "id": "eccdbd46-96fc-4c32-8e29-e42fca79eeaa"
    },
    {
      "cell_type": "code",
      "execution_count": 20,
      "metadata": {},
      "outputs": [],
      "source": [
        "a=3\n",
        "type(a)"
      ],
      "id": "1a6bf4ea"
    },
    {
      "cell_type": "code",
      "execution_count": 22,
      "metadata": {},
      "outputs": [],
      "source": [
        "a=float(a)\n",
        "type(a)"
      ],
      "id": "cc94cfa1"
    },
    {
      "cell_type": "markdown",
      "metadata": {},
      "source": [
        "`-` 형태변환: bool \\$\\$ int/float\n",
        "\n",
        "(예시1)"
      ],
      "id": "7dbbaac2-34c3-4978-9d20-6b4fef258cff"
    },
    {
      "cell_type": "code",
      "execution_count": 23,
      "metadata": {},
      "outputs": [],
      "source": [
        "a=True\n",
        "type(a)"
      ],
      "id": "0ccc7933"
    },
    {
      "cell_type": "code",
      "execution_count": 25,
      "metadata": {},
      "outputs": [],
      "source": [
        "int(a)"
      ],
      "id": "9c07a16f"
    },
    {
      "cell_type": "code",
      "execution_count": 26,
      "metadata": {},
      "outputs": [],
      "source": [
        "float(a)"
      ],
      "id": "b6798945"
    },
    {
      "cell_type": "markdown",
      "metadata": {},
      "source": [
        "(예시2)"
      ],
      "id": "6cc96d72-a37e-437a-9c03-a060bbe2e243"
    },
    {
      "cell_type": "code",
      "execution_count": 27,
      "metadata": {},
      "outputs": [],
      "source": [
        "a=1\n",
        "bool(a)"
      ],
      "id": "ab260c40"
    },
    {
      "cell_type": "markdown",
      "metadata": {},
      "source": [
        "(예시3)"
      ],
      "id": "690efa07-e8e3-4d37-91f6-8e342d4aa548"
    },
    {
      "cell_type": "code",
      "execution_count": 28,
      "metadata": {},
      "outputs": [],
      "source": [
        "a=1.0\n",
        "bool(a)"
      ],
      "id": "f454921a"
    },
    {
      "cell_type": "code",
      "execution_count": 29,
      "metadata": {},
      "outputs": [],
      "source": [
        "a=0.0\n",
        "bool(a)"
      ],
      "id": "f516b65e"
    },
    {
      "cell_type": "markdown",
      "metadata": {},
      "source": [
        "`-` 이상한 형태변환도 가능하다"
      ],
      "id": "28dae6a4-3adf-4481-b5d8-b7aefdee9d52"
    },
    {
      "cell_type": "code",
      "execution_count": 34,
      "metadata": {},
      "outputs": [],
      "source": [
        "bool(-3.14)"
      ],
      "id": "9a0151cb"
    },
    {
      "cell_type": "code",
      "execution_count": 35,
      "metadata": {},
      "outputs": [],
      "source": [
        "bool(3.14)"
      ],
      "id": "93026674"
    },
    {
      "cell_type": "code",
      "execution_count": 36,
      "metadata": {},
      "outputs": [],
      "source": [
        "bool(0)"
      ],
      "id": "9ab693cc"
    },
    {
      "cell_type": "code",
      "execution_count": 37,
      "metadata": {},
      "outputs": [],
      "source": [
        "bool(3.24342)"
      ],
      "id": "b4aae455"
    },
    {
      "cell_type": "code",
      "execution_count": null,
      "metadata": {},
      "outputs": [],
      "source": [
        "# 위와 같은 코드를 의도적으로 사용하진 않는다. "
      ],
      "id": "85054edd"
    },
    {
      "cell_type": "markdown",
      "metadata": {},
      "source": [
        "`-` 형태변환이 항상 가능한 것도 아님"
      ],
      "id": "00ef70ee-6684-416c-8d08-0889811adcda"
    },
    {
      "cell_type": "code",
      "execution_count": 38,
      "metadata": {},
      "outputs": [],
      "source": [
        "float(3+0j) # 사실상 3+0j= 3이므로 float으로 형변환하면 3.0이 되어야 할 것 같은데 오류가 남"
      ],
      "id": "88b794b1"
    },
    {
      "cell_type": "markdown",
      "metadata": {},
      "source": [
        "`-` 암묵적형변환 (implicit)\n",
        "\n",
        "(예비학습) implicit의 의미 - 추운날씨 -\\> 보일러좀 틀자!\n",
        "명시적(explicit) / 오늘 날씨가 좀 춥지 않아? (implicit) - 짜장면 먹을래?\n",
        "-\\> 싫어 (explicit) / 난 어제 짜장면 먹었는데… (implicit)"
      ],
      "id": "9d5ba2f4-bac1-4b00-b48d-dfeccce51124"
    },
    {
      "cell_type": "code",
      "execution_count": 39,
      "metadata": {},
      "outputs": [],
      "source": [
        "int(True) #명시적"
      ],
      "id": "9af6390a"
    },
    {
      "cell_type": "code",
      "execution_count": 40,
      "metadata": {},
      "outputs": [],
      "source": [
        "True * 1 # 암묵적형"
      ],
      "id": "a1b02621"
    },
    {
      "cell_type": "code",
      "execution_count": 42,
      "metadata": {},
      "outputs": [],
      "source": [
        "1 * 1.0"
      ],
      "id": "74e54d56"
    },
    {
      "cell_type": "code",
      "execution_count": 43,
      "metadata": {},
      "outputs": [],
      "source": [
        "True+True"
      ],
      "id": "9e851c0a"
    },
    {
      "cell_type": "markdown",
      "metadata": {},
      "source": [
        "## 1차원\n",
        "\n",
        "`-` str"
      ],
      "id": "1c6139cd-b3a0-4cd8-b786-78e17d1a1668"
    },
    {
      "cell_type": "code",
      "execution_count": 45,
      "metadata": {},
      "outputs": [],
      "source": [
        "# 선언\n",
        "a='br'"
      ],
      "id": "72b50413"
    },
    {
      "cell_type": "code",
      "execution_count": 46,
      "metadata": {},
      "outputs": [],
      "source": [
        "a"
      ],
      "id": "018567a9"
    },
    {
      "cell_type": "code",
      "execution_count": 47,
      "metadata": {},
      "outputs": [],
      "source": [
        "# 연산\n",
        "# 더하기 연산\n",
        "a='x'\n",
        "b='2'"
      ],
      "id": "d9ccb064"
    },
    {
      "cell_type": "code",
      "execution_count": 49,
      "metadata": {},
      "outputs": [],
      "source": [
        "a+b"
      ],
      "id": "35f91565"
    },
    {
      "cell_type": "code",
      "execution_count": 50,
      "metadata": {},
      "outputs": [],
      "source": [
        "# 빼기 연산 없다. \n",
        "a-b"
      ],
      "id": "5695056f"
    },
    {
      "cell_type": "code",
      "execution_count": 51,
      "metadata": {},
      "outputs": [],
      "source": [
        "# 곱하기 연산\n",
        "a*2"
      ],
      "id": "aa891d0a"
    },
    {
      "cell_type": "code",
      "execution_count": 52,
      "metadata": {},
      "outputs": [],
      "source": [
        "2*a"
      ],
      "id": "5744bbd4"
    },
    {
      "cell_type": "code",
      "execution_count": 53,
      "metadata": {},
      "outputs": [],
      "source": [
        "# 의미상 맞지 않는 것은 수행되지 않는다.\n",
        "a='x'\n",
        "b='y'\n",
        "a+b"
      ],
      "id": "0e089329"
    },
    {
      "cell_type": "code",
      "execution_count": 54,
      "metadata": {},
      "outputs": [],
      "source": [
        "a*b"
      ],
      "id": "a919ab31"
    },
    {
      "cell_type": "code",
      "execution_count": 55,
      "metadata": {},
      "outputs": [],
      "source": [
        "# 나눗셈연산은 없다. \n",
        "a='xx'\n",
        "a/2"
      ],
      "id": "af253934"
    },
    {
      "cell_type": "markdown",
      "metadata": {},
      "source": [
        "## 인덱싱\n",
        "\n",
        "`-` str은 하나의 벡터 문자가 여러개 있는 형태라고 생각하기"
      ],
      "id": "6826971e-487b-410d-a756-309a8d21ae30"
    },
    {
      "cell_type": "code",
      "execution_count": 56,
      "metadata": {},
      "outputs": [],
      "source": [
        "a='boram'\n",
        "a"
      ],
      "id": "36f6b04e"
    },
    {
      "cell_type": "markdown",
      "metadata": {},
      "source": [
        "-   5개의 칸에 글씨가 하나씩 들어가 있음"
      ],
      "id": "e8e46de3-d4bd-4b24-ba20-10f9e9f85128"
    },
    {
      "cell_type": "code",
      "execution_count": 57,
      "metadata": {},
      "outputs": [],
      "source": [
        "a[0]  # 0이 첫번쨰 원소"
      ],
      "id": "9a13f1be"
    },
    {
      "cell_type": "code",
      "execution_count": 59,
      "metadata": {},
      "outputs": [],
      "source": [
        "a[1] # 두번째 원소"
      ],
      "id": "abd66235"
    },
    {
      "cell_type": "code",
      "execution_count": 60,
      "metadata": {},
      "outputs": [],
      "source": [
        "# 마지막 원소를 호출하려면 -1로 호출할 수도 있다.\n",
        "a[-1]"
      ],
      "id": "fdcb80ee"
    },
    {
      "cell_type": "code",
      "execution_count": 61,
      "metadata": {},
      "outputs": [],
      "source": [
        "a[4]"
      ],
      "id": "ef4453f8"
    },
    {
      "cell_type": "code",
      "execution_count": 63,
      "metadata": {},
      "outputs": [],
      "source": [
        "a[-2]\n",
        "# 마지막에서 2번째 원소는 -2로 호출 가능"
      ],
      "id": "eb45d0b0"
    },
    {
      "cell_type": "markdown",
      "metadata": {},
      "source": [
        "-   어려개의 원소는 `:`을 이용하여 호출할 수 있음"
      ],
      "id": "70381a43-5739-4228-8b79-5bb7d6c22418"
    },
    {
      "cell_type": "code",
      "execution_count": 66,
      "metadata": {},
      "outputs": [],
      "source": [
        "a[0:3] # a[0], a[1], a[2]까지만 뽑힌다. a[3]은 호출되지 않는다."
      ],
      "id": "eacd9d30"
    },
    {
      "cell_type": "code",
      "execution_count": 67,
      "metadata": {},
      "outputs": [],
      "source": [
        "a[1:3]"
      ],
      "id": "550e94da"
    },
    {
      "cell_type": "markdown",
      "metadata": {},
      "source": [
        "-   index=1부터 시작해서 마지막 원소까지 호출하려면?"
      ],
      "id": "2e12512b-0c0c-420c-8c2b-d006fd235437"
    },
    {
      "cell_type": "code",
      "execution_count": 68,
      "metadata": {},
      "outputs": [],
      "source": [
        "a[5]"
      ],
      "id": "30a9a927"
    },
    {
      "cell_type": "code",
      "execution_count": 70,
      "metadata": {},
      "outputs": [],
      "source": [
        "a[1:5]  # a[5]는 없는데,, 이렇게 쓰니까 헷갈릴 수 있다."
      ],
      "id": "2a499005"
    },
    {
      "cell_type": "code",
      "execution_count": 71,
      "metadata": {},
      "outputs": [],
      "source": [
        "a[1:-1]   # 이것은 a[1:4] 와 같음"
      ],
      "id": "9cda1861"
    },
    {
      "cell_type": "code",
      "execution_count": 72,
      "metadata": {},
      "outputs": [],
      "source": [
        "# 해결책! 생략한다.\n",
        "a[1:]"
      ],
      "id": "388176ba"
    },
    {
      "cell_type": "markdown",
      "metadata": {},
      "source": [
        "`-` 생략의 응용1"
      ],
      "id": "40a58367-b964-47ea-b1c4-9b269c8ba95b"
    },
    {
      "cell_type": "code",
      "execution_count": 73,
      "metadata": {},
      "outputs": [],
      "source": [
        "a='k-pop'\n",
        "a"
      ],
      "id": "edaafee9"
    },
    {
      "cell_type": "code",
      "execution_count": 74,
      "metadata": {},
      "outputs": [],
      "source": [
        "a[2:]"
      ],
      "id": "c71dd55f"
    },
    {
      "cell_type": "code",
      "execution_count": 75,
      "metadata": {},
      "outputs": [],
      "source": [
        "a[2:5]"
      ],
      "id": "3ed942ee"
    },
    {
      "cell_type": "markdown",
      "metadata": {},
      "source": [
        "`-` 생략의 응용2"
      ],
      "id": "26647dc9-4cea-46c3-94ae-6481f590998b"
    },
    {
      "cell_type": "code",
      "execution_count": 76,
      "metadata": {},
      "outputs": [],
      "source": [
        "a='k-pop'\n",
        "a"
      ],
      "id": "b4d5a932"
    },
    {
      "cell_type": "code",
      "execution_count": 77,
      "metadata": {},
      "outputs": [],
      "source": [
        "a[0:2]"
      ],
      "id": "fc9e913c"
    },
    {
      "cell_type": "code",
      "execution_count": 79,
      "metadata": {},
      "outputs": [],
      "source": [
        "a[:2]   # 앞을 생략하면 첫 원소부터 나온다."
      ],
      "id": "71a1a232"
    },
    {
      "cell_type": "markdown",
      "metadata": {},
      "source": [
        "`-` 생략의 응용3"
      ],
      "id": "e7615a3f-6784-47bb-b384-2d5f0fe853b1"
    },
    {
      "cell_type": "code",
      "execution_count": 80,
      "metadata": {},
      "outputs": [],
      "source": [
        "a='k-pop'\n",
        "a"
      ],
      "id": "51493814"
    },
    {
      "cell_type": "code",
      "execution_count": 81,
      "metadata": {},
      "outputs": [],
      "source": [
        "a[:]"
      ],
      "id": "de1f0a45"
    },
    {
      "cell_type": "code",
      "execution_count": 82,
      "metadata": {},
      "outputs": [],
      "source": [
        "a[0:5]"
      ],
      "id": "f93b6caa"
    },
    {
      "cell_type": "markdown",
      "metadata": {},
      "source": [
        "#### str특수기능\n",
        "\n",
        "`-` 파이썬의 변수는 단순히 정보를 담는 그릇이 아니다. 유용한 기능을\n",
        "제공하는 경우가 있다."
      ],
      "id": "2fb45959-f796-429d-80d6-e90d8d0a0aff"
    },
    {
      "cell_type": "code",
      "execution_count": 85,
      "metadata": {},
      "outputs": [],
      "source": [
        "a='ABCD'  #a라는 변수는 'ABCD'라는 정보를 담는 그릇의 역할만 하지 않고, 특화된 어떠한 기능도 제공한다.\n",
        "a"
      ],
      "id": "95bc9ff9"
    },
    {
      "cell_type": "code",
      "execution_count": 84,
      "metadata": {},
      "outputs": [],
      "source": [
        "a.lower() #소문자변환"
      ],
      "id": "bd8a96c5"
    },
    {
      "cell_type": "code",
      "execution_count": 86,
      "metadata": {},
      "outputs": [],
      "source": [
        "# lower()는 문자열에 특화된 기능이며 아래 내용은 안됨\n",
        "a=3.14\n",
        "a.lower()"
      ],
      "id": "01962486"
    },
    {
      "cell_type": "markdown",
      "metadata": {},
      "source": [
        "`-` 자료형에 특화된 기능(=함수)을 확인하는 방법 `a.` + `tab` 으로 목록\n",
        "확인 가능"
      ],
      "id": "83b144fe-29bd-4a6d-a061-3b08abf3c085"
    },
    {
      "cell_type": "code",
      "execution_count": 87,
      "metadata": {},
      "outputs": [],
      "source": [
        "a='boram'"
      ],
      "id": "0530086e"
    },
    {
      "cell_type": "code",
      "execution_count": 88,
      "metadata": {},
      "outputs": [],
      "source": [
        "a.lower?"
      ],
      "id": "e516c58d"
    },
    {
      "cell_type": "code",
      "execution_count": 92,
      "metadata": {},
      "outputs": [],
      "source": [
        "a.upper()   # 대문자 변환\n",
        "# upper(a)"
      ],
      "id": "8521a5c8"
    },
    {
      "cell_type": "code",
      "execution_count": 90,
      "metadata": {},
      "outputs": [],
      "source": [
        "a.capitalize()"
      ],
      "id": "a72cd5cd"
    },
    {
      "cell_type": "markdown",
      "metadata": {},
      "source": [
        "`-` 마음의눈: `a.f()` 형태를 읽는 팁 - `a.f()`는 `f(a)`로 생각하면\n",
        "편리함 - `a.f(2)`는 `f(a,2)`로 생각하면 편리함 - 이런점에서 R `%>%`\n",
        "연산자와 비슷하다고 생각할 수 있다. (약간 다름)\n",
        "\n",
        "`-` 사실 `.`은 좀 더 다양한 상황에서 쓰일 수 있다. `변수이름.함수이름()`\n",
        "의 형태가 아니라 - `패키지이름.함수이름()` - `패키지이름.변수이름` -\n",
        "`패키지이름.패키지이름.함수이름()`\n",
        "\n",
        "… 와 같이 다양한 형태가 가능하다. 근본적인 고통점은 `.`을 기준으로\n",
        "`상위개념.하위개념`으로 이해하는 것이 좋다.\n",
        "\n",
        "## 0차원 vs 1차원\n",
        "\n",
        "`-` len 함수 : 원소의 갯수를 알려주는 함수\n",
        "\n",
        "(0차원) len함수가 동작하지 않는다."
      ],
      "id": "d2fd7435-87d8-4f34-8282-2912bb584ab6"
    },
    {
      "cell_type": "code",
      "execution_count": 95,
      "metadata": {},
      "outputs": [],
      "source": [
        "a=3.14\n",
        "len(a)"
      ],
      "id": "8db719b7"
    },
    {
      "cell_type": "code",
      "execution_count": 97,
      "metadata": {},
      "outputs": [],
      "source": [
        "b=True\n",
        "len(b)"
      ],
      "id": "0f415dd3"
    },
    {
      "cell_type": "markdown",
      "metadata": {},
      "source": [
        "(1차원) len함수가 잘 동작함"
      ],
      "id": "f2754d7f-31ed-4d9d-9e38-6c57b469260f"
    },
    {
      "cell_type": "code",
      "execution_count": 96,
      "metadata": {},
      "outputs": [],
      "source": [
        "a='3.14'\n",
        "len(a)"
      ],
      "id": "95cd032a"
    },
    {
      "cell_type": "code",
      "execution_count": 99,
      "metadata": {},
      "outputs": [],
      "source": [
        "b=[1,2,3]\n",
        "len(b)"
      ],
      "id": "100c16b3"
    },
    {
      "cell_type": "markdown",
      "metadata": {},
      "source": [
        "숙제"
      ],
      "id": "b6348a40-f02d-479b-b2d2-23ac7c60f52c"
    },
    {
      "cell_type": "code",
      "execution_count": 100,
      "metadata": {},
      "outputs": [],
      "source": [
        "a='BoramKim'\n",
        "a"
      ],
      "id": "de85481a"
    },
    {
      "cell_type": "code",
      "execution_count": 101,
      "metadata": {},
      "outputs": [],
      "source": [
        "a[:5]"
      ],
      "id": "e2de66fc"
    },
    {
      "cell_type": "code",
      "execution_count": 102,
      "metadata": {},
      "outputs": [],
      "source": [
        "a[5:]"
      ],
      "id": "be3e8ee0"
    }
  ],
  "nbformat": 4,
  "nbformat_minor": 5,
  "metadata": {
    "kernelspec": {
      "name": "python3",
      "display_name": "Python 3",
      "language": "python"
    },
    "language_info": {
      "name": "python",
      "codemirror_mode": {
        "name": "ipython",
        "version": "3"
      },
      "file_extension": ".py",
      "mimetype": "text/x-python",
      "nbconvert_exporter": "python",
      "pygments_lexer": "ipython3",
      "version": "3.7.16"
    },
    "toc": {
      "base_numbering": "1",
      "nav_menu": {},
      "number_sections": true,
      "sideBar": true,
      "skip_h1_title": false,
      "title_cell": "Table of Contents",
      "title_sidebar": "Contents",
      "toc_cell": false,
      "toc_position": {},
      "toc_section_display": true,
      "toc_window_display": false
    }
  }
}