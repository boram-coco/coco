{
  "cells": [
    {
      "cell_type": "markdown",
      "metadata": {},
      "source": [
        "# 파이썬 (0321) 3주차\n",
        "\n",
        "김보람  \n",
        "2022-03-21\n",
        "\n",
        "### (리스트가 아니고) 튜플을 쓰는 이유\n",
        "\n",
        "`-` 책의 설명 (파이썬에 한정되는 것은 아니고 모든 언어에 존재하는 불변형\n",
        "객체에 적용가능한 설명) - 실수방지 - 빠르다, 다중작업에 유리하다,\n",
        "여러사람과 작업하기에 유리하다, 깊은복사/얕은복사시 원하지 않는\n",
        "오류(side effect라고 함)를 방지할 수 있다, 메모리관리에도 유리함 등등 -\n",
        "느낌: 불변형은 기능제한이 있는데 가볍고 빠른, 가변형은 기능은 풍부하지만\n",
        "약간 느리고 무거운 느낌임 (불변형: 라면사리, 가변형:라면)\n",
        "\n",
        "`-` 교수님 설명 (파이썬 한정 불변객체, 즉 튜플에 대한 설명) - 튜플의\n",
        "장점은 소괄호의 생략에 있음 (파이썬과 줄리아만 가능) - 이것이\n",
        "언패킹구문과 결합하여 어마무시한 가독성을 제공한다."
      ],
      "id": "78041735-6a0b-481a-ab45-3a5c46a43d67"
    },
    {
      "cell_type": "code",
      "execution_count": 4,
      "metadata": {},
      "outputs": [],
      "source": [
        "def mycal(a,b):\n",
        "    return a+b, a-b, a*b, a/b # 여러개의 값을 리턴하는 듯 보인다. ->  사실은 길이가 4인 튜플 1개를 리턴"
      ],
      "id": "92e62612"
    },
    {
      "cell_type": "code",
      "execution_count": 5,
      "metadata": {},
      "outputs": [],
      "source": [
        "mycal(2,3)"
      ],
      "id": "4e1b9624"
    },
    {
      "cell_type": "code",
      "execution_count": 6,
      "metadata": {},
      "outputs": [],
      "source": [
        "_, _, mulrslt, _ = mycal(2,3) # 병렬할당"
      ],
      "id": "a2ff5d0d"
    },
    {
      "cell_type": "code",
      "execution_count": 7,
      "metadata": {},
      "outputs": [],
      "source": [
        "mulrslt"
      ],
      "id": "cf9e1690"
    },
    {
      "cell_type": "markdown",
      "metadata": {},
      "source": [
        "`-` 의문: 왜 튜플만 괄호를 생략할 수 있지?\n",
        "\n",
        "`-` 교수님 생각 - 튜플을 먼저 만들고, 괄호를 생략하는 문법을 추가한것은\n",
        "아닐것임 - 원래 괄호없이 컴마만 대충찍어서 선언가능한 간단한 타입의\n",
        "벡터형을 만들고 싶었을 것임 - 왜? 괄호없는 벡터를 만들고 + 연패킹을\n",
        "사용하면 여러가지 구문들이 엄청나게 간단해짐 - 컴마컴마로 선언하는\n",
        "벡터는 한 두번 쓰고 버리는 경우가 많으며 대부분 이름도 필요 없음 -\\>\n",
        "원소에 접근해서 sorting하여 순서를 바꾸고 싶다던가 원소를 추가할 이유가\n",
        "없음 -\\> 비싼 가변형으로 만들 이유가 없다. - 필요한것: 데이터가 벡터의\n",
        "형태로 모여있기만 하면 된다.\n",
        "\n",
        "`-` 다른사람들 의견 (컴공과) - 튜플 + 언패킹에 충격 $\\to$ 파이썬\n",
        "편하다..\n",
        "\n",
        "### 인덱싱고급(스트라이딩)\n",
        "\n",
        "`-` 스트라이딩 \\[start:stop:step\\]"
      ],
      "id": "fa4eab20-bac1-47c1-b609-fc4f35c8ae81"
    },
    {
      "cell_type": "code",
      "execution_count": 1,
      "metadata": {},
      "outputs": [],
      "source": [
        "lst = list('abcdefgh')\n",
        "lst"
      ],
      "id": "8e55871e"
    },
    {
      "cell_type": "code",
      "execution_count": 3,
      "metadata": {},
      "outputs": [],
      "source": [
        "lst[0:8:2]"
      ],
      "id": "2abce8ad"
    },
    {
      "cell_type": "markdown",
      "metadata": {},
      "source": [
        "`-` 생략"
      ],
      "id": "167351a9-ea36-4231-baac-9df55304ce86"
    },
    {
      "cell_type": "code",
      "execution_count": 4,
      "metadata": {},
      "outputs": [],
      "source": [
        "lst[:]"
      ],
      "id": "2295f766"
    },
    {
      "cell_type": "code",
      "execution_count": 5,
      "metadata": {},
      "outputs": [],
      "source": [
        "lst[::2]"
      ],
      "id": "764b7c73"
    },
    {
      "cell_type": "code",
      "execution_count": 6,
      "metadata": {},
      "outputs": [],
      "source": [
        "lst[:8:2]"
      ],
      "id": "b1eb7656"
    },
    {
      "cell_type": "markdown",
      "metadata": {},
      "source": [
        "`-` 예제: 짝수/홀수 원소 추출"
      ],
      "id": "8743c46c-f37b-423b-8d43-a58a28687421"
    },
    {
      "cell_type": "code",
      "execution_count": 7,
      "metadata": {},
      "outputs": [],
      "source": [
        "lst"
      ],
      "id": "88b7f28a"
    },
    {
      "cell_type": "code",
      "execution_count": 8,
      "metadata": {},
      "outputs": [],
      "source": [
        "lst[::2]  # 1,3,5,7, ... 홀수 원소"
      ],
      "id": "6e5e877a"
    },
    {
      "cell_type": "code",
      "execution_count": 9,
      "metadata": {},
      "outputs": [],
      "source": [
        "lst[1::2] # 2,4,6,8,... 짝수 원소"
      ],
      "id": "5123efc5"
    },
    {
      "cell_type": "markdown",
      "metadata": {},
      "source": [
        "`-` step = -1이면?"
      ],
      "id": "14309741-9941-4961-94fe-39bb14befe9b"
    },
    {
      "cell_type": "code",
      "execution_count": 10,
      "metadata": {},
      "outputs": [],
      "source": [
        "lst[::-1]    # 뒤에서부터"
      ],
      "id": "12e1d615"
    },
    {
      "cell_type": "markdown",
      "metadata": {},
      "source": [
        "-   reverse와 같은 기능\n",
        "\n",
        "(reverse)와 비교\n",
        "\n",
        "관찰1: reverse 메소드는 리소드 자체를 변화시킴"
      ],
      "id": "4bfc2b9e-3626-4b59-8386-1f4ec813c013"
    },
    {
      "cell_type": "code",
      "execution_count": 11,
      "metadata": {},
      "outputs": [],
      "source": [
        "lst = list('abcdefgh')\n",
        "lst"
      ],
      "id": "71e040dd"
    },
    {
      "cell_type": "code",
      "execution_count": 14,
      "metadata": {},
      "outputs": [],
      "source": [
        "lst.reverse()  # 리버스는 자체가 변화한다.\n",
        "lst  "
      ],
      "id": "e00d3c2b"
    },
    {
      "cell_type": "markdown",
      "metadata": {},
      "source": [
        "관찰2: \\[::-1\\] 는 리스트는 변화시키지 않음"
      ],
      "id": "5c983344-bbcf-44cf-ab23-44a53006c0c5"
    },
    {
      "cell_type": "code",
      "execution_count": 15,
      "metadata": {},
      "outputs": [],
      "source": [
        "lst = list('abcdefgh')\n",
        "lst"
      ],
      "id": "e40db16a"
    },
    {
      "cell_type": "code",
      "execution_count": 16,
      "metadata": {},
      "outputs": [],
      "source": [
        "lst[::-1]"
      ],
      "id": "3d54552f"
    },
    {
      "cell_type": "code",
      "execution_count": 17,
      "metadata": {},
      "outputs": [],
      "source": [
        "lst"
      ],
      "id": "3e70629a"
    },
    {
      "cell_type": "markdown",
      "metadata": {},
      "source": [
        "`-` 사실 -step은 쓰는 것이 조금 까다롭다.\n",
        "\n",
        "(예제) 처음과 끝을 생략하지 않고 아래와 동일한 효과를 주는 코드를 만들어\n",
        "보자."
      ],
      "id": "4ccdca11-2928-4e60-97c4-4294644cd893"
    },
    {
      "cell_type": "code",
      "execution_count": 18,
      "metadata": {},
      "outputs": [],
      "source": [
        "lst = list('abcdefgh')\n",
        "lst[::-1]"
      ],
      "id": "f5e7f4da"
    },
    {
      "cell_type": "markdown",
      "metadata": {},
      "source": [
        "결국 lst\\[?:?:-1\\]의 꼴에서 적당히 ?의 값을 채우면 된다."
      ],
      "id": "e8858ce5-0fc9-40bb-bcf7-87b050b50079"
    },
    {
      "cell_type": "code",
      "execution_count": 19,
      "metadata": {},
      "outputs": [],
      "source": [
        "lst[-1::-1] # 일단 첫 시작ㄷ은 제일 마지막 원소"
      ],
      "id": "c3417a34"
    },
    {
      "cell_type": "code",
      "execution_count": 20,
      "metadata": {},
      "outputs": [],
      "source": [
        "lst[-1:0:-1] # 마지막 인덱스는 포함x"
      ],
      "id": "e8f24db5"
    },
    {
      "cell_type": "code",
      "execution_count": 21,
      "metadata": {},
      "outputs": [],
      "source": [
        "lst[-1:-1:-1] "
      ],
      "id": "26e50e0b"
    },
    {
      "cell_type": "markdown",
      "metadata": {},
      "source": [
        "잠깐 인덱스를 생각해보자.\n",
        "\n",
        "|  a  |  b  |  c  |  d  |  e  |  f  |  g  |  h  |\n",
        "|:---:|:---:|:---:|:---:|:---:|:---:|:---:|:---:|\n",
        "|  0  |  1  |  2  |  3  |  4  |  5  |  6  |  7  |\n",
        "| -8  | -7  | -6  | -5  | -4  | -3  | -2  | -1  |"
      ],
      "id": "4c054a83-e5b0-42ae-977a-2e6c02da9744"
    },
    {
      "cell_type": "code",
      "execution_count": 23,
      "metadata": {},
      "outputs": [],
      "source": [
        "lst[-1:-8:-1] "
      ],
      "id": "09405dcf"
    },
    {
      "cell_type": "code",
      "execution_count": 24,
      "metadata": {},
      "outputs": [],
      "source": [
        "lst[-1:-9:-1] "
      ],
      "id": "2867d8f4"
    },
    {
      "cell_type": "markdown",
      "metadata": {},
      "source": [
        "(예제)"
      ],
      "id": "eedae881-0eb7-4644-b007-1085388e8529"
    },
    {
      "cell_type": "code",
      "execution_count": 25,
      "metadata": {},
      "outputs": [],
      "source": [
        "lst[2::2]"
      ],
      "id": "473d00fb"
    },
    {
      "cell_type": "code",
      "execution_count": 26,
      "metadata": {},
      "outputs": [],
      "source": [
        "lst[-2::-2]"
      ],
      "id": "21290531"
    },
    {
      "cell_type": "code",
      "execution_count": 27,
      "metadata": {},
      "outputs": [],
      "source": [
        "lst[-2:2:2]"
      ],
      "id": "5d42e105"
    },
    {
      "cell_type": "code",
      "execution_count": 29,
      "metadata": {},
      "outputs": [],
      "source": [
        "lst[2:3:2]"
      ],
      "id": "162299b9"
    },
    {
      "cell_type": "code",
      "execution_count": 28,
      "metadata": {},
      "outputs": [],
      "source": [
        "lst[2:2:2]"
      ],
      "id": "a5487326"
    },
    {
      "cell_type": "code",
      "execution_count": 30,
      "metadata": {},
      "outputs": [],
      "source": [
        "lst[2:2:-2]"
      ],
      "id": "d959c890"
    },
    {
      "cell_type": "markdown",
      "metadata": {},
      "source": [
        "결론: -step을 자주 쓰진 말자\n",
        "\n",
        "### 컴프리헨션 고급 (if문이 포함된 컴프리헨션)\n",
        "\n",
        "`-` 예제: 제곱수준에서 12로 나누어 떨어지는 수만 원소로 가지는 리스트를\n",
        "만들고 싶다. - 제곱수: 1,4, 9, 16, 25, 36, … - 12로 나누어 떨어지는 수:\n",
        "36…\n",
        "\n",
        "(예비학습)"
      ],
      "id": "c47c9c49-2c17-4842-ba92-3fc1316ce2e4"
    },
    {
      "cell_type": "code",
      "execution_count": 31,
      "metadata": {},
      "outputs": [],
      "source": [
        "12 % 5 # 나머지 리턴"
      ],
      "id": "547190b6"
    },
    {
      "cell_type": "markdown",
      "metadata": {},
      "source": [
        "(풀이)"
      ],
      "id": "ff5f1f41-f16d-4ac2-af82-7dcfc95d0c65"
    },
    {
      "cell_type": "code",
      "execution_count": 32,
      "metadata": {},
      "outputs": [],
      "source": [
        "lst=[]\n",
        "for i in range(1,101):\n",
        "    if (i**2 % 12 == 0 ):\n",
        "        lst.append(i**2)\n"
      ],
      "id": "0a25d1ff"
    },
    {
      "cell_type": "code",
      "execution_count": 33,
      "metadata": {},
      "outputs": [],
      "source": [
        "lst"
      ],
      "id": "478365ef"
    },
    {
      "cell_type": "markdown",
      "metadata": {},
      "source": [
        "(풀이2)"
      ],
      "id": "9f482f9f-b697-4e83-ad19-29c84f6f1aee"
    },
    {
      "cell_type": "code",
      "execution_count": 34,
      "metadata": {},
      "outputs": [],
      "source": [
        "[i**2 for i in range(1,101) if (i**2 % 12==0)]"
      ],
      "id": "0ef4bb0f"
    },
    {
      "cell_type": "markdown",
      "metadata": {},
      "source": [
        "### 함수고급 (조건부리턴)\n",
        "\n",
        "`-` 홀수 짝수를 판별하는 함수 만들기1"
      ],
      "id": "ec2f5d1a-5b8c-403b-97e5-45c8be65e9ad"
    },
    {
      "cell_type": "code",
      "execution_count": 39,
      "metadata": {},
      "outputs": [],
      "source": [
        "def test(a):\n",
        "    if a% 2 ==0:\n",
        "        return 'even'\n",
        "    else:\n",
        "        return 'odd'"
      ],
      "id": "d0e25391"
    },
    {
      "cell_type": "code",
      "execution_count": 36,
      "metadata": {},
      "outputs": [],
      "source": [
        "test(0)"
      ],
      "id": "00f262ae"
    },
    {
      "cell_type": "code",
      "execution_count": 37,
      "metadata": {},
      "outputs": [],
      "source": [
        "test(3)"
      ],
      "id": "d56e5d9a"
    },
    {
      "cell_type": "code",
      "execution_count": 38,
      "metadata": {
        "scrolled": true
      },
      "outputs": [],
      "source": [
        "[test(a) for a in range(1,11)]"
      ],
      "id": "960b2266"
    },
    {
      "cell_type": "markdown",
      "metadata": {},
      "source": [
        "`-` 홀수 짝수를 판별하는 함수 만들기2"
      ],
      "id": "817ae131-b156-4a05-ae84-7895605006b4"
    },
    {
      "cell_type": "code",
      "execution_count": 43,
      "metadata": {},
      "outputs": [],
      "source": [
        "def test(a):\n",
        "    return 'even' if a%2==0 else 'odd'"
      ],
      "id": "ff41ae91"
    },
    {
      "cell_type": "code",
      "execution_count": 44,
      "metadata": {},
      "outputs": [],
      "source": [
        "test(2)"
      ],
      "id": "5551137c"
    },
    {
      "cell_type": "code",
      "execution_count": 45,
      "metadata": {},
      "outputs": [],
      "source": [
        "[test(a) for a in range(1,11)]"
      ],
      "id": "17f3ec43"
    },
    {
      "cell_type": "markdown",
      "metadata": {},
      "source": [
        "### len함수\n",
        "\n",
        "`-` 0차원 자료형은 len함수가 동작하지 않음"
      ],
      "id": "d18e5d59-9c5f-4e07-9b2c-3e8868a4d23f"
    },
    {
      "cell_type": "code",
      "execution_count": 46,
      "metadata": {},
      "outputs": [],
      "source": [
        "a=1\n",
        "len(a)"
      ],
      "id": "34c57799"
    },
    {
      "cell_type": "code",
      "execution_count": 47,
      "metadata": {},
      "outputs": [],
      "source": [
        "a=True\n",
        "len(a)"
      ],
      "id": "375c26a4"
    },
    {
      "cell_type": "code",
      "execution_count": 48,
      "metadata": {},
      "outputs": [],
      "source": [
        "a=3.14\n",
        "len(a)"
      ],
      "id": "946f9c86"
    },
    {
      "cell_type": "markdown",
      "metadata": {},
      "source": [
        "> note: 이것이 어떠한 수학적인 의미를 가지거나 0차원의 본질적인 진리를\n",
        "> 뜻하는 것은 아니다. R에서는 1, 3.14, True의 길이가 1로 존재함\n",
        "\n",
        "`-` 1차원 자료형은 len함수가 동작"
      ],
      "id": "68ba26d2-06a7-4b4a-b575-5a6887341494"
    },
    {
      "cell_type": "code",
      "execution_count": 50,
      "metadata": {},
      "outputs": [],
      "source": [
        "a='boram'\n",
        "len(a)"
      ],
      "id": "7a0e6fee"
    },
    {
      "cell_type": "code",
      "execution_count": 51,
      "metadata": {},
      "outputs": [],
      "source": [
        "a=[1,2,3,4,5,6,7]\n",
        "len(a)"
      ],
      "id": "507d3fcb"
    },
    {
      "cell_type": "code",
      "execution_count": 52,
      "metadata": {},
      "outputs": [],
      "source": [
        "a=1,2,3,4\n",
        "len(a)"
      ],
      "id": "976a5dd2"
    },
    {
      "cell_type": "code",
      "execution_count": 53,
      "metadata": {},
      "outputs": [],
      "source": [
        "a=range(10)\n",
        "len(a)"
      ],
      "id": "f4d30039"
    },
    {
      "cell_type": "markdown",
      "metadata": {},
      "source": [
        "`-` 길이가 1인 1차원 자료형과 0차원 자료형은 다른것임"
      ],
      "id": "17b95fea-0a56-403b-b68c-fd52016fa312"
    },
    {
      "cell_type": "code",
      "execution_count": 55,
      "metadata": {},
      "outputs": [],
      "source": [
        "a='g'\n",
        "len(a)"
      ],
      "id": "25f8eb74"
    },
    {
      "cell_type": "code",
      "execution_count": 56,
      "metadata": {},
      "outputs": [],
      "source": [
        "a=[1]   \n",
        "len(a)"
      ],
      "id": "772580aa"
    },
    {
      "cell_type": "code",
      "execution_count": 57,
      "metadata": {},
      "outputs": [],
      "source": [
        "a=(1,)\n",
        "len(a)"
      ],
      "id": "9d380070"
    },
    {
      "cell_type": "code",
      "execution_count": 58,
      "metadata": {},
      "outputs": [],
      "source": [
        "a=range(1)\n",
        "len(a)"
      ],
      "id": "52572144"
    },
    {
      "cell_type": "markdown",
      "metadata": {},
      "source": [
        "`-` 길이가 0인 1차원 자료형도 존재함"
      ],
      "id": "b33cba6e-9749-461b-a9aa-2581e8e8df6b"
    },
    {
      "cell_type": "code",
      "execution_count": 62,
      "metadata": {},
      "outputs": [],
      "source": [
        "a=''\n",
        "len(a)"
      ],
      "id": "9b6c240b"
    },
    {
      "cell_type": "code",
      "execution_count": 59,
      "metadata": {},
      "outputs": [],
      "source": [
        "a=[]\n",
        "len(a)"
      ],
      "id": "7b9c83cb"
    },
    {
      "cell_type": "code",
      "execution_count": 60,
      "metadata": {},
      "outputs": [],
      "source": [
        "a=()\n",
        "len(a)"
      ],
      "id": "87f29359"
    },
    {
      "cell_type": "code",
      "execution_count": 61,
      "metadata": {},
      "outputs": [],
      "source": [
        "a=range(0)\n",
        "len(a)"
      ],
      "id": "c15451d3"
    },
    {
      "cell_type": "markdown",
      "metadata": {},
      "source": [
        "### summary : str, list, tuple\n",
        "\n",
        "`-` str,list, tuple은 모두 시퀀스형이라는 공통점이 있다. $\\to$ 원소의\n",
        "위치번호로 인덱싱이 가능"
      ],
      "id": "012c0f87-05e1-4251-b8fb-95010393650f"
    },
    {
      "cell_type": "code",
      "execution_count": 63,
      "metadata": {},
      "outputs": [],
      "source": [
        "lst=[1,2,3,4]"
      ],
      "id": "c6caef42"
    },
    {
      "cell_type": "code",
      "execution_count": 68,
      "metadata": {},
      "outputs": [],
      "source": [
        "lst[0]  #위치번호=0"
      ],
      "id": "ea6fb017"
    },
    {
      "cell_type": "code",
      "execution_count": 69,
      "metadata": {},
      "outputs": [],
      "source": [
        "lst[-1]  #위치번호=1"
      ],
      "id": "005e2323"
    },
    {
      "cell_type": "markdown",
      "metadata": {},
      "source": [
        "`-` str, list, tuple은 차이점도 존재함. 잠깐 정리해보자.\n",
        "\n",
        "\\*\\*\\* 시퀀스형의 카테고리\\*\\*\\*\n",
        "\n",
        "-   컨테이너형: list, tuple\n",
        "-   균일형: str\n",
        "-   가변형: list\n",
        "-   불변형: tuple, str\n",
        "\n",
        "\\*\\*\\*\\*\\*표로 정리하면\\*\\*\\*\\*\\*\n",
        "\n",
        "|        | 컨테이너형 | 균일형 |\n",
        "|:------:|:----------:|:------:|\n",
        "| 가변형 |    list    |   \\-   |\n",
        "| 불변형 |   tuple    |  str   |\n",
        "\n",
        "`-` 시퀀스형이 아닌 1차원 자료형도 있을까? 원소의 위치번호로 인덱싱이\n",
        "불가능한 자료형\n",
        "\n",
        "`-` 왜 이런게 필요할까? - 벡터에서 원소를 뽑는것은 정보의 모임에서\n",
        "정보를 검색하는 것과 같다. - 정보를 `순서`대로 나열한 뒤에 그 `순서`를\n",
        "이용하여 검색하는 방법은 유용하다. - 하지만 경우에 따라서는 `키워드` 를\n",
        "기억해서 그 키워드를 바탕으로 정보에 접근하는 방법이 유용할 수 있다.\n",
        "\n",
        "\\*\\*\\*\\*카카오톡 대화내용 검색\\*\\*\\*\\*\n",
        "\n",
        "(상황1) 오늘 `아침`에 와이프가 `뭔가`를 카톡으로 부탁함. 그런데 그\n",
        "`뭔가`가 기억안남.\n",
        "\n",
        "(상황2) `개강전에` 동료교수와 함께 `저녁약속`을 카톡으로 잡았었음.\n",
        "그런데 그게 언제인지 기억안남.\n",
        "\n",
        "(상황3) `오늘아침` 동료교수와 함께 `점심약속`을 카톡으로 잡았었음.\n",
        "그런데 그 장소가 기억나지 않음\n",
        "\n",
        "`-` 순서대로 정리된 자료를 검색할때는 시퀀스형이 유리하다. 그런데\n",
        "키워드로 검색하고 싶을 경우는 딕셔너리 타입이 유리하다.\n",
        "\n",
        "### dict\n",
        "\n",
        "선언\n",
        "\n",
        "`-` 방법1"
      ],
      "id": "c7e7a5da-2fa7-4add-aa5f-d299e2ebe02c"
    },
    {
      "cell_type": "code",
      "execution_count": 76,
      "metadata": {},
      "outputs": [],
      "source": [
        "score={'boram':49, 'iu':80}\n",
        "score"
      ],
      "id": "aba92669"
    },
    {
      "cell_type": "code",
      "execution_count": 77,
      "metadata": {},
      "outputs": [],
      "source": [
        "type(score)"
      ],
      "id": "928cddb2"
    },
    {
      "cell_type": "markdown",
      "metadata": {},
      "source": [
        "`-` 방법2"
      ],
      "id": "42273af1-d87a-4eca-83d8-5c40bc1c49a7"
    },
    {
      "cell_type": "code",
      "execution_count": 80,
      "metadata": {},
      "outputs": [],
      "source": [
        "score=dict(boram=49, iu=80)\n",
        "score"
      ],
      "id": "18b7118c"
    },
    {
      "cell_type": "code",
      "execution_count": 81,
      "metadata": {},
      "outputs": [],
      "source": [
        "type(score)"
      ],
      "id": "485d18ab"
    },
    {
      "cell_type": "markdown",
      "metadata": {},
      "source": [
        "`-` 방법3"
      ],
      "id": "6aff6c75-784d-4884-9f1a-eecd3f4e8358"
    },
    {
      "cell_type": "code",
      "execution_count": 82,
      "metadata": {},
      "outputs": [],
      "source": [
        "_lst= [['boram',40],['iu',80]] \n",
        "_lst"
      ],
      "id": "83140cab"
    },
    {
      "cell_type": "code",
      "execution_count": 83,
      "metadata": {},
      "outputs": [],
      "source": [
        "dict(_lst)"
      ],
      "id": "aa4f7d1d"
    },
    {
      "cell_type": "markdown",
      "metadata": {},
      "source": [
        "`-` 방법4"
      ],
      "id": "418907ce-f90e-4d74-806d-d71d84ade8a9"
    },
    {
      "cell_type": "code",
      "execution_count": 86,
      "metadata": {},
      "outputs": [],
      "source": [
        "_tpl = ('boram',49),('iu',80)\n",
        "_tpl"
      ],
      "id": "d2155e9f"
    },
    {
      "cell_type": "code",
      "execution_count": 87,
      "metadata": {},
      "outputs": [],
      "source": [
        "dict(_tpl)"
      ],
      "id": "87da1968"
    },
    {
      "cell_type": "markdown",
      "metadata": {},
      "source": [
        "**원소추출**"
      ],
      "id": "2a56340d-048c-4c5f-997d-0bb9535cf84e"
    },
    {
      "cell_type": "code",
      "execution_count": 88,
      "metadata": {},
      "outputs": [],
      "source": [
        "score={'boram':49, 'iu':80}\n",
        "score"
      ],
      "id": "66345145"
    },
    {
      "cell_type": "markdown",
      "metadata": {},
      "source": [
        "boram의 점수를 추출하고 싶다면?"
      ],
      "id": "19801828-df1c-4a77-ae94-cbf0cdf38b69"
    },
    {
      "cell_type": "code",
      "execution_count": 89,
      "metadata": {},
      "outputs": [],
      "source": [
        "score[0]   # 이렇게 ㄴㄴ "
      ],
      "id": "29925b7a"
    },
    {
      "cell_type": "code",
      "execution_count": 90,
      "metadata": {},
      "outputs": [],
      "source": [
        "score['boram']   # 위치번호가 아닌 key를 넣어야 한다."
      ],
      "id": "dfeff979"
    },
    {
      "cell_type": "markdown",
      "metadata": {},
      "source": [
        "`-` 리스트로 저장했다면?"
      ],
      "id": "7a3bb263-c262-4888-b6b7-e0f200dcdc00"
    },
    {
      "cell_type": "code",
      "execution_count": 93,
      "metadata": {},
      "outputs": [],
      "source": [
        "score=[['boram',49],['iu',80]]\n",
        "score"
      ],
      "id": "6d890d46"
    },
    {
      "cell_type": "markdown",
      "metadata": {},
      "source": [
        "(방법1)"
      ],
      "id": "ad624905-46f4-43aa-b556-a40119962b54"
    },
    {
      "cell_type": "code",
      "execution_count": 95,
      "metadata": {},
      "outputs": [],
      "source": [
        "score[0][1]  # boram의 점수를 출력하란 의미 , 가독성이 떨어짐,"
      ],
      "id": "a37e55b2"
    },
    {
      "cell_type": "markdown",
      "metadata": {},
      "source": [
        "(방법2)"
      ],
      "id": "26438151-9924-4e3b-831c-b5785cdb681b"
    },
    {
      "cell_type": "code",
      "execution_count": 96,
      "metadata": {},
      "outputs": [],
      "source": [
        "_keys = [score[i][0] for i in range(len(score))]   #리스트컴프리헨션\n",
        "_keys"
      ],
      "id": "509d3c0c"
    },
    {
      "cell_type": "code",
      "execution_count": 98,
      "metadata": {},
      "outputs": [],
      "source": [
        "_values = [score[i][1] for i in range(len(score)) if score[i][0]=='boram']  \n",
        "_values"
      ],
      "id": "ec0a4cbf"
    },
    {
      "cell_type": "markdown",
      "metadata": {},
      "source": [
        "**원소추가, 변경, 삭제**"
      ],
      "id": "f159f570-cf48-47f4-80e6-1916c611e28c"
    },
    {
      "cell_type": "code",
      "execution_count": 101,
      "metadata": {},
      "outputs": [],
      "source": [
        "score={'boram':49, 'iu':80}\n",
        "score"
      ],
      "id": "ceb667c3"
    },
    {
      "cell_type": "markdown",
      "metadata": {},
      "source": [
        "`-` 추가"
      ],
      "id": "abcbdb12-cf6b-4cb3-a6fd-af123d5e5b9b"
    },
    {
      "cell_type": "code",
      "execution_count": 102,
      "metadata": {},
      "outputs": [],
      "source": [
        "score['hynn']=99 # 추가"
      ],
      "id": "b2b9cf52"
    },
    {
      "cell_type": "code",
      "execution_count": 103,
      "metadata": {},
      "outputs": [],
      "source": [
        "score"
      ],
      "id": "4bf3ff9c"
    },
    {
      "cell_type": "code",
      "execution_count": 104,
      "metadata": {},
      "outputs": [],
      "source": [
        "score['boram']"
      ],
      "id": "72763b1a"
    },
    {
      "cell_type": "markdown",
      "metadata": {},
      "source": [
        "`-` 변경"
      ],
      "id": "9432c0e9-cd4f-46b6-91ee-add2a4bb514f"
    },
    {
      "cell_type": "code",
      "execution_count": 105,
      "metadata": {},
      "outputs": [],
      "source": [
        "score['iu']=99   # 변경 ( 가변형)\n",
        "score"
      ],
      "id": "b07e572e"
    },
    {
      "cell_type": "code",
      "execution_count": 106,
      "metadata": {},
      "outputs": [],
      "source": [
        "score"
      ],
      "id": "140ec51c"
    },
    {
      "cell_type": "markdown",
      "metadata": {},
      "source": [
        "`-`삭제1"
      ],
      "id": "dab6b03e-5686-43cd-84cb-6dbf4528d801"
    },
    {
      "cell_type": "code",
      "execution_count": 108,
      "metadata": {},
      "outputs": [],
      "source": [
        "score={'boram':49, 'iu':80, 'hynn':99}\n",
        "del score['boram']   # 삭제 방법 1\n",
        "score"
      ],
      "id": "329e1dc2"
    },
    {
      "cell_type": "markdown",
      "metadata": {},
      "source": [
        "`-`삭제2"
      ],
      "id": "09d258bc-6884-4264-a427-bf1ab7368a9c"
    },
    {
      "cell_type": "code",
      "execution_count": 109,
      "metadata": {},
      "outputs": [],
      "source": [
        "score={'boram':49, 'iu':80, 'hynn':99}\n",
        "score.pop('boram')   # 삭제 방법 2\n",
        "score"
      ],
      "id": "ca8bcbb6"
    },
    {
      "cell_type": "markdown",
      "metadata": {},
      "source": [
        "`-` 참고로 리스트였다면 이러한 삭제작업역시 비효율적이였을 것임"
      ],
      "id": "19c8e123-d57d-4e68-aa76-1caf9c0381e5"
    },
    {
      "cell_type": "code",
      "execution_count": 111,
      "metadata": {},
      "outputs": [],
      "source": [
        "score = [['guebin',49],['iu',80],['hynn',99]] \n",
        "score"
      ],
      "id": "497b7ca6"
    },
    {
      "cell_type": "code",
      "execution_count": 112,
      "metadata": {},
      "outputs": [],
      "source": [
        "score = [[key,val] for key,val in score if key != 'guebin'] \n",
        "score"
      ],
      "id": "6b985625"
    },
    {
      "cell_type": "markdown",
      "metadata": {},
      "source": [
        "(숙제) 길이가 4인 dictionary를 생성 - len 함수를 이용하여 길이를 측정 -\n",
        "key를 이용하여 각 원소에 접근하여 보기"
      ],
      "id": "64052e20-4641-44d4-8e83-b866685f8826"
    },
    {
      "cell_type": "code",
      "execution_count": 113,
      "metadata": {},
      "outputs": [],
      "source": [
        "_number = {'sung':2195, 'park':2836, 'choi':4236, 'kim':4738}\n",
        "_number"
      ],
      "id": "6ae1a657"
    },
    {
      "cell_type": "code",
      "execution_count": 114,
      "metadata": {},
      "outputs": [],
      "source": [
        "len(_number)"
      ],
      "id": "71d7a00c"
    },
    {
      "cell_type": "code",
      "execution_count": 118,
      "metadata": {},
      "outputs": [],
      "source": [
        "_number['park']"
      ],
      "id": "1d816812"
    },
    {
      "cell_type": "code",
      "execution_count": 120,
      "metadata": {},
      "outputs": [],
      "source": [
        "_number['choi']"
      ],
      "id": "ffb9f66f"
    },
    {
      "cell_type": "code",
      "execution_count": 121,
      "metadata": {},
      "outputs": [],
      "source": [
        "_number['jung']=4280"
      ],
      "id": "67403851"
    },
    {
      "cell_type": "code",
      "execution_count": 122,
      "metadata": {},
      "outputs": [],
      "source": [
        "_number"
      ],
      "id": "c707e124"
    },
    {
      "cell_type": "code",
      "execution_count": 123,
      "metadata": {},
      "outputs": [],
      "source": [
        "_number.pop('kim')"
      ],
      "id": "4b080a68"
    },
    {
      "cell_type": "code",
      "execution_count": 125,
      "metadata": {},
      "outputs": [],
      "source": [
        "_number"
      ],
      "id": "ccaa0079"
    }
  ],
  "nbformat": 4,
  "nbformat_minor": 5,
  "metadata": {
    "kernelspec": {
      "name": "python3",
      "display_name": "Python 3",
      "language": "python"
    },
    "language_info": {
      "name": "python",
      "codemirror_mode": {
        "name": "ipython",
        "version": "3"
      },
      "file_extension": ".py",
      "mimetype": "text/x-python",
      "nbconvert_exporter": "python",
      "pygments_lexer": "ipython3",
      "version": "3.7.16"
    },
    "toc": {
      "base_numbering": "1",
      "nav_menu": {},
      "number_sections": true,
      "sideBar": true,
      "skip_h1_title": false,
      "title_cell": "Table of Contents",
      "title_sidebar": "Contents",
      "toc_cell": false,
      "toc_position": {},
      "toc_section_display": true,
      "toc_window_display": false
    }
  }
}