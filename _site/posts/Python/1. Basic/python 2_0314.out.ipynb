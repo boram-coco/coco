{
  "cells": [
    {
      "cell_type": "markdown",
      "metadata": {},
      "source": [
        "# 파이썬 (0314) 2주차\n",
        "\n",
        "김보람  \n",
        "2022-03-14\n",
        "\n",
        "# 리스트\n",
        "\n",
        "## 선언\n",
        "\n",
        "`-` 리스트의 선언"
      ],
      "id": "20255afb-8be6-4b4b-b713-f2df63c8852c"
    },
    {
      "cell_type": "code",
      "execution_count": 2,
      "metadata": {},
      "outputs": [],
      "source": [
        "a=[11,22]\n",
        "a"
      ],
      "id": "048dcce8"
    },
    {
      "cell_type": "code",
      "execution_count": 3,
      "metadata": {},
      "outputs": [],
      "source": [
        "type(a)"
      ],
      "id": "51f17531"
    },
    {
      "cell_type": "markdown",
      "metadata": {},
      "source": [
        "`-` 비어있는 리스트의 선언"
      ],
      "id": "e7702cd3-bf8f-497e-9dc8-a370c35fa0af"
    },
    {
      "cell_type": "code",
      "execution_count": 4,
      "metadata": {},
      "outputs": [],
      "source": [
        "a=[] # 방법1\n",
        "a"
      ],
      "id": "07c57672"
    },
    {
      "cell_type": "code",
      "execution_count": 5,
      "metadata": {},
      "outputs": [],
      "source": [
        "a=list() # 방법2\n",
        "a"
      ],
      "id": "f2257584"
    },
    {
      "cell_type": "markdown",
      "metadata": {},
      "source": [
        "## 연산\n",
        "\n",
        "`-` 더하기연산"
      ],
      "id": "4facb3f2-e115-4e4d-9e0c-ff651f0b3e21"
    },
    {
      "cell_type": "code",
      "execution_count": 6,
      "metadata": {},
      "outputs": [],
      "source": [
        "a=[11,22]\n",
        "b=[12,13]"
      ],
      "id": "a896ec76"
    },
    {
      "cell_type": "code",
      "execution_count": 7,
      "metadata": {},
      "outputs": [],
      "source": [
        "a"
      ],
      "id": "8d33d2ed"
    },
    {
      "cell_type": "code",
      "execution_count": 8,
      "metadata": {},
      "outputs": [],
      "source": [
        "b"
      ],
      "id": "068643e7"
    },
    {
      "cell_type": "code",
      "execution_count": 9,
      "metadata": {},
      "outputs": [],
      "source": [
        "a+b"
      ],
      "id": "6402c2e8"
    },
    {
      "cell_type": "markdown",
      "metadata": {},
      "source": [
        "-   우리의 예상과 다른 결과가 나옴 $\\to$ 파이썬은 R처럼 자체적으로 좋은\n",
        "    계산기능을 내장하고 있찌 않음\n",
        "\n",
        "`-` 브로드캐스팅과 같이 R에서는 당연히 가능했던 기능을 사용할 수 없음"
      ],
      "id": "509be404-732b-4787-a7b4-d305e78190d2"
    },
    {
      "cell_type": "code",
      "execution_count": 12,
      "metadata": {},
      "outputs": [],
      "source": [
        "a=[1,2,3]\n",
        "b=1\n",
        "a+b"
      ],
      "id": "9e0115e8"
    },
    {
      "cell_type": "markdown",
      "metadata": {},
      "source": [
        "`-` 뺄셈은 정의되지 않음"
      ],
      "id": "eb0472ce-24a3-4d41-89a5-984de764f2c4"
    },
    {
      "cell_type": "code",
      "execution_count": 13,
      "metadata": {},
      "outputs": [],
      "source": [
        "a=[1,2]\n",
        "b=[1,2]\n",
        "a-b"
      ],
      "id": "66307dc1"
    },
    {
      "cell_type": "markdown",
      "metadata": {},
      "source": [
        "`-` 곱하기는 정의 가능"
      ],
      "id": "5fbb120a-7508-4819-9f9e-8b1de77bf763"
    },
    {
      "cell_type": "code",
      "execution_count": 14,
      "metadata": {},
      "outputs": [],
      "source": [
        "a=[1,2]"
      ],
      "id": "c9bb1e5d"
    },
    {
      "cell_type": "code",
      "execution_count": 15,
      "metadata": {},
      "outputs": [],
      "source": [
        "2*a  #a+a"
      ],
      "id": "a83c8878"
    },
    {
      "cell_type": "markdown",
      "metadata": {},
      "source": [
        "`-` 나눗셈은 정의되지 않음"
      ],
      "id": "aafae010-aadf-4408-b907-eee8b6e49033"
    },
    {
      "cell_type": "code",
      "execution_count": 16,
      "metadata": {},
      "outputs": [],
      "source": [
        "a=[1,2,1,2]\n",
        "a/2"
      ],
      "id": "ee28ab71"
    },
    {
      "cell_type": "markdown",
      "metadata": {},
      "source": [
        "`-` 더하기와 곱하기는 원소의 추가와 반복추가를 의미하지만 그렇다고 해서\n",
        "뺄샘과 나눗셈이 원소의 삭제를 의미하는 것은 아님"
      ],
      "id": "90d02680-a091-4a1e-b921-0b1ab4467cc6"
    },
    {
      "cell_type": "code",
      "execution_count": 18,
      "metadata": {},
      "outputs": [],
      "source": [
        "a=[1,2,3]\n",
        "a-[3]   #이런건없다"
      ],
      "id": "9f991bc2"
    },
    {
      "cell_type": "code",
      "execution_count": 19,
      "metadata": {},
      "outputs": [],
      "source": [
        "a=[1,2,1,2,1,2,]\n",
        "a/3    # 이런건없다"
      ],
      "id": "cabe5b3b"
    },
    {
      "cell_type": "markdown",
      "metadata": {},
      "source": [
        "`-` 더하기와 곱하기가 원소의 추가와 반복추가를 의미하여 편리할때도\n",
        "있긴하지만, 우리는 산술적인 `+`, `*`를 원하는 경우도 있다. 이럴 경우는\n",
        "어떻게 할 수 있을까?\n",
        "\n",
        "(예제)"
      ],
      "id": "3d3dd3b4-fa0e-4f66-a15f-afdfe6aa0362"
    },
    {
      "cell_type": "code",
      "execution_count": 25,
      "metadata": {},
      "outputs": [],
      "source": [
        "a=[1,2]\n",
        "b=[3,4]"
      ],
      "id": "0f280b56"
    },
    {
      "cell_type": "markdown",
      "metadata": {},
      "source": [
        "a+b=\\[4,6\\]이 되도록 하려면?\n",
        "\n",
        "(풀이1)"
      ],
      "id": "84f71d8e-87c4-429c-9190-bdb73265404d"
    },
    {
      "cell_type": "code",
      "execution_count": 22,
      "metadata": {},
      "outputs": [],
      "source": [
        "type(a)"
      ],
      "id": "5a1f6ae4"
    },
    {
      "cell_type": "code",
      "execution_count": 23,
      "metadata": {},
      "outputs": [],
      "source": [
        "type(a[0])"
      ],
      "id": "582a3637"
    },
    {
      "cell_type": "code",
      "execution_count": 26,
      "metadata": {},
      "outputs": [],
      "source": [
        "a[0]+b[0]  #a의 첫번째 원소 추출, b의 첫번째 원소 추출, 둘을 더함"
      ],
      "id": "191babf4"
    },
    {
      "cell_type": "code",
      "execution_count": 27,
      "metadata": {},
      "outputs": [],
      "source": [
        "a[1]+b[1]"
      ],
      "id": "e5801249"
    },
    {
      "cell_type": "code",
      "execution_count": 28,
      "metadata": {},
      "outputs": [],
      "source": [
        "[a[0]+b[0], a[1]+b[1]]"
      ],
      "id": "f4d3222f"
    },
    {
      "cell_type": "markdown",
      "metadata": {},
      "source": [
        "풀이가 가능한 이유? a,b는 리스트이지만 a\\[0\\], a\\[1\\], b\\[0\\], b\\[1\\]은\n",
        "각각 인트형임. 인트형은 +연산이 가능함\n",
        "\n",
        "(풀이2)\n",
        "\n",
        "numpy패키지 (파이썬의 여러 수치연산들을 담당하는 라이브러리) - 이러한\n",
        "벡터연산은 누구나 필요로 하는 연산 - 내가 아니더라도 누군가가 프로그램화\n",
        "해놓았을 것임 - 그 누군가가 자신이 만든 코드를 잘 정리하여 무료로\n",
        "배포했을 수도 있음 (패키지를 배포한다고 표현) - 그 패키지를 가져와서\n",
        "설치한 뒤 사용하기만 하면 된다.\n",
        "\n",
        "패키지를 설치하는 방법 - `!pip install numpy` \\# 최신버전을 설치함 -\n",
        "`!conda install -c conda-forge numpy -y` \\# 안전한 버전을 설치함\n",
        "\n",
        "설치된 패키지를 사용하는 방법 - `import numpy` 한뒤에 `numpy.??`로\n",
        "기능을 사용 - `import numpy as np` 한뒤에 `np.??`로 기능을 사용\n",
        "\n",
        "파이썬의 기본 패키지 numpy pandas matplotlib"
      ],
      "id": "6dd528a5-e9e3-458d-8b95-2fcc8b51fd5d"
    },
    {
      "cell_type": "code",
      "execution_count": 44,
      "metadata": {},
      "outputs": [
        {
          "output_type": "stream",
          "name": "stdout",
          "text": [
            "Requirement already satisfied: numpy in c:\\users\\user\\anaconda3\\lib\\site-packages (1.21.5)"
          ]
        }
      ],
      "source": [
        "!pip install numpy"
      ],
      "id": "c45e25fe"
    },
    {
      "cell_type": "code",
      "execution_count": 29,
      "metadata": {},
      "outputs": [],
      "source": [
        "import numpy # 설치한 패키지를 쓰겠다고 선언함 library(tidyverse)와 비슷."
      ],
      "id": "226a4963"
    },
    {
      "cell_type": "code",
      "execution_count": 30,
      "metadata": {},
      "outputs": [],
      "source": [
        "a=[1,2]\n",
        "b=[3,4]"
      ],
      "id": "8a44e690"
    },
    {
      "cell_type": "code",
      "execution_count": 31,
      "metadata": {},
      "outputs": [],
      "source": [
        "a+b"
      ],
      "id": "d6b40ccb"
    },
    {
      "cell_type": "code",
      "execution_count": 33,
      "metadata": {},
      "outputs": [],
      "source": [
        "type(numpy.array(a))"
      ],
      "id": "5b4e7e06"
    },
    {
      "cell_type": "code",
      "execution_count": 36,
      "metadata": {},
      "outputs": [],
      "source": [
        "aa=numpy.array(a)   #aa는 리스트가 아니라 넘파이 어레이, numpy.array()는 numpy패키지에서 제공하는 array함수를 쓰겠다는 의미\n",
        "bb=numpy.array(b)   "
      ],
      "id": "054d7268"
    },
    {
      "cell_type": "code",
      "execution_count": 37,
      "metadata": {},
      "outputs": [],
      "source": [
        "aa+bb"
      ],
      "id": "e2afed99"
    },
    {
      "cell_type": "code",
      "execution_count": 38,
      "metadata": {},
      "outputs": [],
      "source": [
        "a+b"
      ],
      "id": "ae8a45f5"
    },
    {
      "cell_type": "markdown",
      "metadata": {},
      "source": [
        "이런것도 가능"
      ],
      "id": "5bb078bb-3a02-4fd7-ad19-9b830aecb1c4"
    },
    {
      "cell_type": "code",
      "execution_count": 39,
      "metadata": {},
      "outputs": [],
      "source": [
        "2*aa+1"
      ],
      "id": "54768bbd"
    },
    {
      "cell_type": "code",
      "execution_count": 40,
      "metadata": {},
      "outputs": [],
      "source": [
        "2*aa+1+bb"
      ],
      "id": "50ce8c39"
    },
    {
      "cell_type": "markdown",
      "metadata": {},
      "source": [
        "(풀이3)"
      ],
      "id": "c660bbd7-126f-470a-b31d-f89ba244dbcf"
    },
    {
      "cell_type": "code",
      "execution_count": 41,
      "metadata": {},
      "outputs": [],
      "source": [
        "import numpy as np # 설치한 numpy라는 패키지를 쓰겠음. 그런데 numpy 말고 np라는 이름으로 쓰겠음"
      ],
      "id": "c0a90e0b"
    },
    {
      "cell_type": "code",
      "execution_count": 42,
      "metadata": {},
      "outputs": [],
      "source": [
        "np.array(a)+np.array(b)"
      ],
      "id": "7c037e9f"
    },
    {
      "cell_type": "markdown",
      "metadata": {},
      "source": [
        "## 인덱싱\n",
        "\n",
        "`-` str형과 동일한 방식"
      ],
      "id": "73b3d4b2-f23b-488f-a8d2-8f7c366aba3d"
    },
    {
      "cell_type": "code",
      "execution_count": 45,
      "metadata": {},
      "outputs": [],
      "source": [
        "a=[11,22,33,44,55]"
      ],
      "id": "b5c1ff17"
    },
    {
      "cell_type": "code",
      "execution_count": 46,
      "metadata": {},
      "outputs": [],
      "source": [
        "a[0:3]"
      ],
      "id": "c670ce19"
    },
    {
      "cell_type": "markdown",
      "metadata": {},
      "source": [
        "# 리스트 고급\n",
        "\n",
        "## 콘테이너형 객체, 가변객체\n",
        "\n",
        "`-` 객체 - Object - Something\n",
        "\n",
        "`-` 리스트의 원소는 int, float따위만 가능한 것이 아니다. (리스트는\n",
        "콘테이너형 객체이므로)"
      ],
      "id": "f44ac3e0-fc7c-4fbe-bb58-335cc8ff1aa5"
    },
    {
      "cell_type": "code",
      "execution_count": 47,
      "metadata": {},
      "outputs": [],
      "source": [
        "lst = [1,3.14,True, 'a', [1,2],\n",
        "      (1,2), {'name':'iu','age':30},{1,2,3}]"
      ],
      "id": "fcbc7001"
    },
    {
      "cell_type": "code",
      "execution_count": 48,
      "metadata": {},
      "outputs": [],
      "source": [
        "lst"
      ],
      "id": "ef9ad054"
    },
    {
      "cell_type": "markdown",
      "metadata": {},
      "source": [
        "각 원소의 타입을 알아보자"
      ],
      "id": "30613f0e-9b86-4f2c-9681-c2fe8e8033b4"
    },
    {
      "cell_type": "code",
      "execution_count": 49,
      "metadata": {},
      "outputs": [],
      "source": [
        "type(lst[0])"
      ],
      "id": "29d37216"
    },
    {
      "cell_type": "code",
      "execution_count": 50,
      "metadata": {},
      "outputs": [],
      "source": [
        "type(lst[1])"
      ],
      "id": "3c64b900"
    },
    {
      "cell_type": "code",
      "execution_count": 51,
      "metadata": {},
      "outputs": [],
      "source": [
        "type(lst[2])"
      ],
      "id": "854ce46a"
    },
    {
      "cell_type": "code",
      "execution_count": 52,
      "metadata": {},
      "outputs": [],
      "source": [
        "type(lst[3])"
      ],
      "id": "ac099206"
    },
    {
      "cell_type": "code",
      "execution_count": 53,
      "metadata": {},
      "outputs": [],
      "source": [
        "type(lst[4])"
      ],
      "id": "ea752dce"
    },
    {
      "cell_type": "code",
      "execution_count": 54,
      "metadata": {},
      "outputs": [],
      "source": [
        "type(lst[5])"
      ],
      "id": "cb25f671"
    },
    {
      "cell_type": "code",
      "execution_count": 55,
      "metadata": {},
      "outputs": [],
      "source": [
        "type(lst[6])   # dictionary"
      ],
      "id": "f5b83e8a"
    },
    {
      "cell_type": "code",
      "execution_count": 56,
      "metadata": {},
      "outputs": [],
      "source": [
        "type(lst[7]) #집합"
      ],
      "id": "8e0956fa"
    },
    {
      "cell_type": "markdown",
      "metadata": {},
      "source": [
        "`-` str은 컨테이너형이 아니다"
      ],
      "id": "4c6873b2-0fa9-43ed-9e52-5397107f0a29"
    },
    {
      "cell_type": "code",
      "execution_count": 57,
      "metadata": {},
      "outputs": [],
      "source": [
        "# 컨테이너형이 아닌것\n",
        "'abcd'[0]"
      ],
      "id": "c50a114e"
    },
    {
      "cell_type": "markdown",
      "metadata": {},
      "source": [
        "-   str의 모든 원소는 문자임\n",
        "\n",
        "`-` 리스트의 원소를 수정할 수 있다. (리스트는 가변객체이므로)"
      ],
      "id": "50b9f189-f5b3-4115-ae37-da7918174940"
    },
    {
      "cell_type": "code",
      "execution_count": 60,
      "metadata": {},
      "outputs": [],
      "source": [
        "a=[11,22,33]"
      ],
      "id": "be17a746"
    },
    {
      "cell_type": "code",
      "execution_count": 61,
      "metadata": {},
      "outputs": [],
      "source": [
        "a[0]"
      ],
      "id": "a25770e8"
    },
    {
      "cell_type": "code",
      "execution_count": 62,
      "metadata": {},
      "outputs": [],
      "source": [
        "a[0]=111"
      ],
      "id": "40db03d2"
    },
    {
      "cell_type": "code",
      "execution_count": 63,
      "metadata": {},
      "outputs": [],
      "source": [
        "a"
      ],
      "id": "5c0c0bb0"
    },
    {
      "cell_type": "markdown",
      "metadata": {},
      "source": [
        "`-` 원소수정은 당연한 기능 같은데 이것이 불가능한 경우도 있다.\n",
        "\n",
        "(가능한경우)"
      ],
      "id": "f1cd3a97-d1af-47b8-b3b2-d42fb7efa712"
    },
    {
      "cell_type": "code",
      "execution_count": 64,
      "metadata": {},
      "outputs": [],
      "source": [
        "'boram'[1]"
      ],
      "id": "dba08e6e"
    },
    {
      "cell_type": "code",
      "execution_count": 65,
      "metadata": {},
      "outputs": [],
      "source": [
        "a=['b','o','r','a','m']"
      ],
      "id": "453cb545"
    },
    {
      "cell_type": "code",
      "execution_count": 66,
      "metadata": {},
      "outputs": [],
      "source": [
        "a[0]"
      ],
      "id": "fdc0e90f"
    },
    {
      "cell_type": "code",
      "execution_count": 67,
      "metadata": {},
      "outputs": [],
      "source": [
        "a[0]='B'"
      ],
      "id": "40773d98"
    },
    {
      "cell_type": "code",
      "execution_count": 68,
      "metadata": {},
      "outputs": [],
      "source": [
        "a"
      ],
      "id": "56bb602c"
    },
    {
      "cell_type": "markdown",
      "metadata": {},
      "source": [
        "(불가능한경우)"
      ],
      "id": "4486d737-7048-4c4d-9729-1e3343e246b9"
    },
    {
      "cell_type": "code",
      "execution_count": 69,
      "metadata": {},
      "outputs": [],
      "source": [
        "a='boram'"
      ],
      "id": "720fde58"
    },
    {
      "cell_type": "code",
      "execution_count": 70,
      "metadata": {},
      "outputs": [],
      "source": [
        "a"
      ],
      "id": "8eb9a652"
    },
    {
      "cell_type": "code",
      "execution_count": 71,
      "metadata": {},
      "outputs": [],
      "source": [
        "a[0]"
      ],
      "id": "93a2e52c"
    },
    {
      "cell_type": "code",
      "execution_count": 72,
      "metadata": {},
      "outputs": [],
      "source": [
        "a[0]='B'"
      ],
      "id": "15fa1416"
    },
    {
      "cell_type": "markdown",
      "metadata": {},
      "source": [
        "`-` 리스트 원소 삭제\n",
        "\n",
        "(예제)\n",
        "\n",
        "아래와 같이 문자로 된 리스트를 선언하자."
      ],
      "id": "ea563b36-1de0-49e8-9a46-bf38396170d1"
    },
    {
      "cell_type": "code",
      "execution_count": 74,
      "metadata": {},
      "outputs": [],
      "source": [
        "a=['b','o','r','a','m']\n",
        "a"
      ],
      "id": "6c1aadac"
    },
    {
      "cell_type": "markdown",
      "metadata": {},
      "source": [
        "사실 더 쉽게 선언할 수 있음"
      ],
      "id": "3fca0343-42f6-4cc2-bc96-1cbe0b063edb"
    },
    {
      "cell_type": "code",
      "execution_count": 82,
      "metadata": {},
      "outputs": [],
      "source": [
        "a='boram'   #string으로 a를 선언"
      ],
      "id": "2b05257f"
    },
    {
      "cell_type": "code",
      "execution_count": 83,
      "metadata": {},
      "outputs": [],
      "source": [
        "type(a)"
      ],
      "id": "ec2b2f94"
    },
    {
      "cell_type": "code",
      "execution_count": 84,
      "metadata": {},
      "outputs": [],
      "source": [
        "list(a)"
      ],
      "id": "fc6eba39"
    },
    {
      "cell_type": "code",
      "execution_count": 85,
      "metadata": {},
      "outputs": [],
      "source": [
        "a=list(a)  #list(a)를 통하여 str을 list로 변환 "
      ],
      "id": "63a6ec50"
    },
    {
      "cell_type": "code",
      "execution_count": 86,
      "metadata": {},
      "outputs": [],
      "source": [
        "a  # 그 결과를 a에 다시 저장"
      ],
      "id": "bb02a923"
    },
    {
      "cell_type": "markdown",
      "metadata": {},
      "source": [
        "첫 번째 원소를 삭제하고 싶다면?"
      ],
      "id": "a955a51b-60df-40e2-8f0f-c84b7a516629"
    },
    {
      "cell_type": "code",
      "execution_count": 87,
      "metadata": {},
      "outputs": [],
      "source": [
        "\n",
        "del a[0]\n",
        "a"
      ],
      "id": "4c5ba196"
    },
    {
      "cell_type": "markdown",
      "metadata": {},
      "source": [
        "`-` 리스트의 원소 추가\n",
        "\n",
        "(예제) 비어있는 리스틀를 만들고 원소 0,1,2 를 차례로 추가하여 보자.\n",
        "\n",
        "(풀이1)"
      ],
      "id": "035bd910-a9dd-42e4-885e-e1279dbda7b0"
    },
    {
      "cell_type": "code",
      "execution_count": 96,
      "metadata": {},
      "outputs": [],
      "source": [
        "a=[]\n",
        "a"
      ],
      "id": "1d51a8e9"
    },
    {
      "cell_type": "code",
      "execution_count": 97,
      "metadata": {},
      "outputs": [],
      "source": [
        "a= a+[0]\n",
        "a"
      ],
      "id": "73d6f00c"
    },
    {
      "cell_type": "code",
      "execution_count": 98,
      "metadata": {},
      "outputs": [],
      "source": [
        "a=a+[1]\n",
        "a"
      ],
      "id": "37a3d4eb"
    },
    {
      "cell_type": "code",
      "execution_count": 99,
      "metadata": {},
      "outputs": [],
      "source": [
        "a= a+[2]\n",
        "a"
      ],
      "id": "2d1109f6"
    },
    {
      "cell_type": "markdown",
      "metadata": {},
      "source": [
        "(풀이2)"
      ],
      "id": "835e411f-4c78-457c-993f-b03982d8d40d"
    },
    {
      "cell_type": "code",
      "execution_count": 101,
      "metadata": {},
      "outputs": [],
      "source": [
        "a=[]\n",
        "a"
      ],
      "id": "8620d53e"
    },
    {
      "cell_type": "code",
      "execution_count": 102,
      "metadata": {},
      "outputs": [],
      "source": [
        "a+=[0]\n",
        "a"
      ],
      "id": "1a7106c0"
    },
    {
      "cell_type": "code",
      "execution_count": 103,
      "metadata": {},
      "outputs": [],
      "source": [
        "a+=[1]\n",
        "a"
      ],
      "id": "9a1276bb"
    },
    {
      "cell_type": "code",
      "execution_count": 104,
      "metadata": {},
      "outputs": [],
      "source": [
        "a+=[2]\n",
        "a"
      ],
      "id": "22f7b187"
    },
    {
      "cell_type": "markdown",
      "metadata": {},
      "source": [
        "-   암기법: 중복되는 변수를 지우고 연산자의 순서를 바꾼다.\n",
        "\n",
        "(풀이3) 리스트 특화기능(=메소드)를 이용"
      ],
      "id": "1b479f0a-f22c-4db5-a7c9-aa1b58836438"
    },
    {
      "cell_type": "code",
      "execution_count": 105,
      "metadata": {},
      "outputs": [],
      "source": [
        "a=[]\n",
        "a"
      ],
      "id": "b6bf08d0"
    },
    {
      "cell_type": "code",
      "execution_count": 106,
      "metadata": {},
      "outputs": [],
      "source": [
        "a.append?"
      ],
      "id": "7d584bf1"
    },
    {
      "cell_type": "code",
      "execution_count": 107,
      "metadata": {},
      "outputs": [],
      "source": [
        "a.append(0)\n",
        "a"
      ],
      "id": "9d0b44ed"
    },
    {
      "cell_type": "code",
      "execution_count": 108,
      "metadata": {},
      "outputs": [],
      "source": [
        "a.append(1)\n",
        "a"
      ],
      "id": "d95a313b"
    },
    {
      "cell_type": "code",
      "execution_count": 109,
      "metadata": {},
      "outputs": [],
      "source": [
        "a.append(2)\n",
        "a"
      ],
      "id": "75fc252c"
    },
    {
      "cell_type": "markdown",
      "metadata": {},
      "source": [
        "`-` `a+[4]`와 `a.append(4)`의 차이점은?\n",
        "\n",
        "(관찰1)"
      ],
      "id": "8ac9beac-8a81-4044-bfae-ac14c4a6442d"
    },
    {
      "cell_type": "code",
      "execution_count": 111,
      "metadata": {},
      "outputs": [],
      "source": [
        "a=[1,2,3]\n",
        "a+[4]  ## 리스트 a와 리스트 [4]의 연산결과"
      ],
      "id": "bb102078"
    },
    {
      "cell_type": "code",
      "execution_count": 112,
      "metadata": {},
      "outputs": [],
      "source": [
        "a  # a는 그대로임. 변화없음"
      ],
      "id": "be29d7dd"
    },
    {
      "cell_type": "markdown",
      "metadata": {},
      "source": [
        "(관찰2)"
      ],
      "id": "fce5f109-c104-48b6-a4d0-1d4a8f6deb61"
    },
    {
      "cell_type": "code",
      "execution_count": 113,
      "metadata": {},
      "outputs": [],
      "source": [
        "a=[1,2,3]\n",
        "a.append(4)"
      ],
      "id": "c65cc1f5"
    },
    {
      "cell_type": "code",
      "execution_count": 114,
      "metadata": {},
      "outputs": [],
      "source": [
        "a    # a자체가 변화함"
      ],
      "id": "fc2cfce4"
    },
    {
      "cell_type": "markdown",
      "metadata": {},
      "source": [
        "비슷해보이지만 굉장히 미묘한 차이가 있음\n",
        "\n",
        "`a.append(4)` : `a`에 4를 append하라 $\\to$ `a`가 변함\n",
        "\n",
        "`a+[4]` : `a`와 4를 연산하고 수행결과를 보여달라\n",
        "\n",
        "## 메소드(리스트자료형에 특화된 특수한 함수들)\n",
        "\n",
        "**(append)**"
      ],
      "id": "73a68aca-12bc-4e08-82b8-19f8ae682073"
    },
    {
      "cell_type": "code",
      "execution_count": 119,
      "metadata": {},
      "outputs": [],
      "source": [
        "a=[1,2,3,4]\n",
        "a.append?"
      ],
      "id": "4d0645a5"
    },
    {
      "cell_type": "code",
      "execution_count": 120,
      "metadata": {},
      "outputs": [],
      "source": [
        "a.append(5)\n",
        "a"
      ],
      "id": "661d5f8c"
    },
    {
      "cell_type": "markdown",
      "metadata": {},
      "source": [
        "**(clear)**"
      ],
      "id": "60e0013c-91d1-4097-a0dd-4db12b808f99"
    },
    {
      "cell_type": "code",
      "execution_count": 121,
      "metadata": {},
      "outputs": [],
      "source": [
        "a=[1,2,3,4]\n",
        "a.clear?"
      ],
      "id": "bd5dc0b6"
    },
    {
      "cell_type": "code",
      "execution_count": 122,
      "metadata": {},
      "outputs": [],
      "source": [
        "a.clear()"
      ],
      "id": "fb07f810"
    },
    {
      "cell_type": "code",
      "execution_count": 123,
      "metadata": {},
      "outputs": [],
      "source": [
        "a"
      ],
      "id": "0b1d0bfe"
    },
    {
      "cell_type": "markdown",
      "metadata": {},
      "source": [
        "**(copy)**"
      ],
      "id": "4ebcf650-aeca-44f5-a497-6ffd6febe95a"
    },
    {
      "cell_type": "code",
      "execution_count": 124,
      "metadata": {},
      "outputs": [],
      "source": [
        "a=[1,2,3,4]\n",
        "a.copy?"
      ],
      "id": "48a9e4d3"
    },
    {
      "cell_type": "code",
      "execution_count": 126,
      "metadata": {},
      "outputs": [],
      "source": [
        "b=a.copy()\n",
        "b"
      ],
      "id": "c50d1d83"
    },
    {
      "cell_type": "markdown",
      "metadata": {},
      "source": [
        "**(count)**"
      ],
      "id": "8664c1d9-50e4-4415-a223-eff85e1dd38f"
    },
    {
      "cell_type": "code",
      "execution_count": 129,
      "metadata": {},
      "outputs": [],
      "source": [
        "a=[1,1,2,3,3,4,4,4,]\n",
        "a.count(1)"
      ],
      "id": "db9e6588"
    },
    {
      "cell_type": "code",
      "execution_count": 130,
      "metadata": {},
      "outputs": [],
      "source": [
        "a.count(2) #특정 원소가 몇개 포함되어있는지 숫자 세줌"
      ],
      "id": "72d3b26b"
    },
    {
      "cell_type": "markdown",
      "metadata": {},
      "source": [
        "**(extend)**"
      ],
      "id": "b5ecf7b6-93a2-4a41-b2fa-fd0ca6abeec6"
    },
    {
      "cell_type": "code",
      "execution_count": 131,
      "metadata": {},
      "outputs": [],
      "source": [
        "a=[1,2,3,4]\n",
        "b=[-1,-2,-3,-4]"
      ],
      "id": "c3f8617a"
    },
    {
      "cell_type": "code",
      "execution_count": 132,
      "metadata": {},
      "outputs": [],
      "source": [
        "a.extend(b)\n",
        "a"
      ],
      "id": "cfc9f583"
    },
    {
      "cell_type": "code",
      "execution_count": 133,
      "metadata": {},
      "outputs": [],
      "source": [
        "a.append(b)   \n",
        "a"
      ],
      "id": "6bf4a7f2"
    },
    {
      "cell_type": "markdown",
      "metadata": {},
      "source": [
        "**(index)**"
      ],
      "id": "be6b59a4-c733-4080-9b4f-ef9d7de3f1c2"
    },
    {
      "cell_type": "code",
      "execution_count": 136,
      "metadata": {},
      "outputs": [],
      "source": [
        "a=[11,22,'a',True,22]\n",
        "a.index(True)"
      ],
      "id": "2bee1c1c"
    },
    {
      "cell_type": "code",
      "execution_count": 137,
      "metadata": {},
      "outputs": [],
      "source": [
        "a.index('a')"
      ],
      "id": "c9489433"
    },
    {
      "cell_type": "code",
      "execution_count": 139,
      "metadata": {},
      "outputs": [],
      "source": [
        "a.index(22)"
      ],
      "id": "ec6d4315"
    },
    {
      "cell_type": "markdown",
      "metadata": {},
      "source": [
        "**(insert)**"
      ],
      "id": "23bee4de-b01a-48c6-aeda-3b10274cd029"
    },
    {
      "cell_type": "code",
      "execution_count": 149,
      "metadata": {},
      "outputs": [],
      "source": [
        "a=[1,2,3]"
      ],
      "id": "f10f3d37"
    },
    {
      "cell_type": "code",
      "execution_count": 151,
      "metadata": {},
      "outputs": [],
      "source": [
        "a.insert(1,88)\n",
        "a"
      ],
      "id": "e40dd1d3"
    },
    {
      "cell_type": "markdown",
      "metadata": {},
      "source": [
        "**(pop)**"
      ],
      "id": "502b894e-875a-4c5b-907e-a12659645c23"
    },
    {
      "cell_type": "code",
      "execution_count": 152,
      "metadata": {},
      "outputs": [],
      "source": [
        "a=['a',1,2,'d']\n",
        "a.pop()   # index= -1이므로 마지막원소가 나타남"
      ],
      "id": "1ae38309"
    },
    {
      "cell_type": "code",
      "execution_count": 153,
      "metadata": {},
      "outputs": [],
      "source": [
        "a   # a는 마지막 원소가 사라진 상태"
      ],
      "id": "3c10b00c"
    },
    {
      "cell_type": "code",
      "execution_count": 154,
      "metadata": {},
      "outputs": [],
      "source": [
        "a.pop(0)   # index=0 이므로 첫번째 원소가 나타남"
      ],
      "id": "a24dde9e"
    },
    {
      "cell_type": "code",
      "execution_count": 155,
      "metadata": {},
      "outputs": [],
      "source": [
        "a    # a에서는 첫번쨰 원소가 사라진 상태"
      ],
      "id": "855e3826"
    },
    {
      "cell_type": "markdown",
      "metadata": {},
      "source": [
        "**(remove)**"
      ],
      "id": "c9fbd82e-5990-4bcb-ac51-f6fa1c3edc4c"
    },
    {
      "cell_type": "code",
      "execution_count": 161,
      "metadata": {},
      "outputs": [],
      "source": [
        "a=['a',2,3,'d']\n",
        "a.remove('d')"
      ],
      "id": "9991b60f"
    },
    {
      "cell_type": "code",
      "execution_count": 162,
      "metadata": {},
      "outputs": [],
      "source": [
        "a"
      ],
      "id": "80fcfb69"
    },
    {
      "cell_type": "code",
      "execution_count": 163,
      "metadata": {},
      "outputs": [],
      "source": [
        "a.remove('a')\n",
        "a"
      ],
      "id": "298b547d"
    },
    {
      "cell_type": "markdown",
      "metadata": {},
      "source": [
        "**(reverse)**"
      ],
      "id": "f1b55923-814d-43dd-8a00-c2ba6f86ca21"
    },
    {
      "cell_type": "code",
      "execution_count": 164,
      "metadata": {},
      "outputs": [],
      "source": [
        "a=[1,2,3,4]\n",
        "a.reverse()\n",
        "a"
      ],
      "id": "b6732d42"
    },
    {
      "cell_type": "markdown",
      "metadata": {},
      "source": [
        "**(sort)**"
      ],
      "id": "e05b995c-b976-443e-9513-acdeedfe9a40"
    },
    {
      "cell_type": "code",
      "execution_count": 165,
      "metadata": {},
      "outputs": [],
      "source": [
        "a=[1,3,2,4]\n",
        "a.sort()\n",
        "a"
      ],
      "id": "f1339691"
    },
    {
      "cell_type": "markdown",
      "metadata": {},
      "source": [
        "(다른예제들)"
      ],
      "id": "0c4ba606-1da1-4eec-8c52-fa7e5cd20704"
    },
    {
      "cell_type": "code",
      "execution_count": 166,
      "metadata": {},
      "outputs": [],
      "source": [
        "a=list('boram')\n",
        "a"
      ],
      "id": "9acae861"
    },
    {
      "cell_type": "code",
      "execution_count": 167,
      "metadata": {},
      "outputs": [],
      "source": [
        "a.sort()\n",
        "a"
      ],
      "id": "24cafd0c"
    },
    {
      "cell_type": "code",
      "execution_count": 168,
      "metadata": {},
      "outputs": [],
      "source": [
        "a.sort(reverse=True)\n",
        "a"
      ],
      "id": "5d1d5f3f"
    },
    {
      "cell_type": "markdown",
      "metadata": {},
      "source": [
        "## 중첩리스트"
      ],
      "id": "ba5809c7-4043-47ef-b307-1e4450547561"
    },
    {
      "cell_type": "code",
      "execution_count": 169,
      "metadata": {},
      "outputs": [],
      "source": [
        "A=[[1,2,3],[4,5,6],[7,8,9]]\n",
        "A"
      ],
      "id": "52ad4e04"
    },
    {
      "cell_type": "markdown",
      "metadata": {},
      "source": [
        "`-` A는 아래와 같은 매트릭스로 이해할 수 있다.\n",
        "\n",
        "\\$"
      ],
      "id": "29f0e152-4918-4755-a914-88a51c7e86d8"
    },
    {
      "cell_type": "raw",
      "metadata": {
        "raw_mimetype": "tex"
      },
      "source": [
        "\\begin{bmatrix}\n",
        "1 & 2 & 3 \\\\\n",
        "4 & 5 & 6 \\\\\n",
        "7 & 8 & 9 \n",
        "\\end{bmatrix}"
      ],
      "id": "0c98b027-6e9d-45c1-9ee5-b0325007cd88"
    },
    {
      "cell_type": "markdown",
      "metadata": {},
      "source": [
        "\\$\n",
        "\n",
        "`-` A에서 (2,1)의 원소를 뽑고 싶다. = 1을 뽑고싶다."
      ],
      "id": "b15607dc-d7e7-4baa-ae9c-1b60db0d2324"
    },
    {
      "cell_type": "code",
      "execution_count": 173,
      "metadata": {},
      "outputs": [],
      "source": [
        "A[1,0]"
      ],
      "id": "1925a368"
    },
    {
      "cell_type": "markdown",
      "metadata": {},
      "source": [
        "-   실패"
      ],
      "id": "a56c53e1-a05a-4d04-9b55-676a3909a39e"
    },
    {
      "cell_type": "code",
      "execution_count": 174,
      "metadata": {},
      "outputs": [],
      "source": [
        "A[1][0]"
      ],
      "id": "43b26e3c"
    },
    {
      "cell_type": "markdown",
      "metadata": {},
      "source": [
        "-   성공\n",
        "\n",
        "성고의 이유를 분석해 보자."
      ],
      "id": "04fe94a3-69a3-4627-8573-ffdec12de854"
    },
    {
      "cell_type": "code",
      "execution_count": 175,
      "metadata": {},
      "outputs": [],
      "source": [
        "A[0]"
      ],
      "id": "1d011fc0"
    },
    {
      "cell_type": "code",
      "execution_count": 176,
      "metadata": {},
      "outputs": [],
      "source": [
        "A[0][0]"
      ],
      "id": "eeb236b2"
    },
    {
      "cell_type": "markdown",
      "metadata": {},
      "source": [
        "`-` 매트릭스는 아니지만 매트릭스 같음! - 1차원 배열을 다차원 배열로\n",
        "확장할 수 있는 기본 아이디어를 제공함\n",
        "\n",
        "## 리스트컴프리헨션 (★★★)\n",
        "\n",
        "`-` 리스트 컴프리헨션을 이해하기 전에 for문에 대하여 알아보자.\n",
        "\n",
        "\\[예비학습\\] `for`문 벼락치기\n",
        "\n",
        "프로그램안에서 반복해서 무언가를 하고싶다 $\\to$ for"
      ],
      "id": "06717e92-3f89-4c13-9a8c-59f1a7d13c94"
    },
    {
      "cell_type": "code",
      "execution_count": 177,
      "metadata": {},
      "outputs": [
        {
          "output_type": "stream",
          "name": "stdout",
          "text": [
            "0\n",
            "1\n",
            "2\n",
            "3"
          ]
        }
      ],
      "source": [
        "for i in [0,1,2,3]:   # 반복실행계획\n",
        "    print(i)          # 반복실행내용, 탭을 이용하여 들여쓰기 해야한다. "
      ],
      "id": "f909e8ee"
    },
    {
      "cell_type": "markdown",
      "metadata": {},
      "source": [
        "(예제) 1,2,3,4의 합을 for문을 이용하여 구해보자."
      ],
      "id": "218404f8-be82-474e-8b34-0601829818ff"
    },
    {
      "cell_type": "code",
      "execution_count": 179,
      "metadata": {},
      "outputs": [],
      "source": [
        "_sum = 0\n",
        "for i in [1,2,3,4]:\n",
        "    _sum = _sum + i\n"
      ],
      "id": "404a8e34"
    },
    {
      "cell_type": "code",
      "execution_count": 180,
      "metadata": {},
      "outputs": [],
      "source": [
        "_sum"
      ],
      "id": "7de5922b"
    },
    {
      "cell_type": "markdown",
      "metadata": {},
      "source": [
        "`-` 예제: \\$ 2^0, 2^1, 2^2, 2^3\\$ 를 원소로 가지는 리스트를 생성\n",
        "\n",
        "(풀이1)"
      ],
      "id": "cc893363-4f9c-4f2e-a362-a1b0b25c5bd9"
    },
    {
      "cell_type": "code",
      "execution_count": 182,
      "metadata": {},
      "outputs": [],
      "source": [
        "x=[2**0, 2**1, 2**2, 2**3]    ## 2의 0승\n",
        "x"
      ],
      "id": "53653d2d"
    },
    {
      "cell_type": "markdown",
      "metadata": {},
      "source": [
        "(풀이2) for문을 이용"
      ],
      "id": "0523fe25-e2f8-49a3-aa98-023d77c9a5bb"
    },
    {
      "cell_type": "code",
      "execution_count": 183,
      "metadata": {},
      "outputs": [],
      "source": [
        "x=[]\n",
        "for i in [0,1,2,3]:\n",
        "    x.append(2**i)  "
      ],
      "id": "7aa8ece0"
    },
    {
      "cell_type": "code",
      "execution_count": 184,
      "metadata": {},
      "outputs": [],
      "source": [
        "x"
      ],
      "id": "a5c80edd"
    },
    {
      "cell_type": "markdown",
      "metadata": {},
      "source": [
        "(풀이3) for문을 이용"
      ],
      "id": "eae51332-ff10-46ce-b61f-6adb94be9004"
    },
    {
      "cell_type": "code",
      "execution_count": 185,
      "metadata": {},
      "outputs": [],
      "source": [
        "x=[]\n",
        "for i in [0,1,2,3]:\n",
        "    x= x+[2**i]\n",
        "x"
      ],
      "id": "58d3e5c9"
    },
    {
      "cell_type": "markdown",
      "metadata": {},
      "source": [
        "(풀이4) for문을 이용"
      ],
      "id": "3d93588d-0c04-45fe-af85-f4cf2ab26b6f"
    },
    {
      "cell_type": "code",
      "execution_count": 187,
      "metadata": {},
      "outputs": [],
      "source": [
        "x=[]\n",
        "for i in [0,1,2,3]:\n",
        "    x+= [2**i]\n",
        "x(풀이2) for문을 이용"
      ],
      "id": "11ad7828"
    },
    {
      "cell_type": "markdown",
      "metadata": {},
      "source": [
        "(풀이5) 리스트컴프리헨션을 이용한 풀이"
      ],
      "id": "c75cce88-534d-494b-92e7-d3de53f4addd"
    },
    {
      "cell_type": "code",
      "execution_count": 188,
      "metadata": {},
      "outputs": [],
      "source": [
        "x= [2**i for i in [0,1,2,3]]\n",
        "x"
      ],
      "id": "7e06aa78"
    },
    {
      "cell_type": "markdown",
      "metadata": {},
      "source": [
        "`-` 리스트컴프리헨션의 문법 암기방법 - 집합에서 조건제시법을 연상 -\n",
        "원소나열법, 조건제시법 -\n",
        "$\\{2^0, 2^1, 2^2, 2^3\\} = \\{2^i: \\text{for} i \\in \\{0,1,2,3\\}$\n",
        "\n",
        "`-` 리스트컴프리헨션이란? - 리스트를 매우 효율적으로 만드는 테크닉 -\n",
        "for문에 비하여 가지고 있는 장점 : 1. 코드가 간결하다. 2, 빠르다\n",
        "\n",
        "`-` 예제: 리스트 컴프리헨션을 이용하여 아래와 같은 리스트를 만들자."
      ],
      "id": "813a0538-f891-43a9-bdfc-366209d793d7"
    },
    {
      "cell_type": "code",
      "execution_count": 189,
      "metadata": {},
      "outputs": [],
      "source": [
        "['SSSS','PPPP','AAAA','MMMM']"
      ],
      "id": "0a7bcc76"
    },
    {
      "cell_type": "markdown",
      "metadata": {},
      "source": [
        "(풀이)"
      ],
      "id": "e2ef4769-19ec-4d74-b241-15e94ddf16f8"
    },
    {
      "cell_type": "code",
      "execution_count": 190,
      "metadata": {},
      "outputs": [],
      "source": [
        "[i*4 for i in 'SPAM']"
      ],
      "id": "e3753dd7"
    },
    {
      "cell_type": "markdown",
      "metadata": {},
      "source": [
        "`-` 예제: 리스트 컴프리헨션을 이용하여 아래와 같은 리스트를 만들자.\n",
        "\n",
        "`-` 예제: 리스트 컴프리헨션을 이용하여 아래와 같은 리스트를 만들자."
      ],
      "id": "fe3322b5-f618-49a6-a13b-1ccadd060ff9"
    },
    {
      "cell_type": "code",
      "execution_count": 191,
      "metadata": {},
      "outputs": [],
      "source": [
        "['X1','X2','X3','Y1','Y2','Y3']"
      ],
      "id": "efa21f16"
    },
    {
      "cell_type": "markdown",
      "metadata": {},
      "source": [
        "(풀이)"
      ],
      "id": "e31bf1ea-fedf-4fff-bcce-0888fe04314a"
    },
    {
      "cell_type": "code",
      "execution_count": 194,
      "metadata": {},
      "outputs": [
        {
          "output_type": "stream",
          "name": "stdout",
          "text": [
            "X1\n",
            "X2\n",
            "X3\n",
            "Y1\n",
            "Y2\n",
            "Y3"
          ]
        }
      ],
      "source": [
        "for i in 'XY':\n",
        "    for j in '123':\n",
        "        print(i+j)"
      ],
      "id": "993432bb"
    },
    {
      "cell_type": "code",
      "execution_count": 195,
      "metadata": {},
      "outputs": [],
      "source": [
        "[i+j for i in 'XY' for j in '123']"
      ],
      "id": "f96a27f9"
    },
    {
      "cell_type": "markdown",
      "metadata": {},
      "source": [
        "`-` 예제: 리스트 컴프리헨션을 이용하여 통계1,,..,통계5,수학1,…,수학5를\n",
        "만들어라\n",
        "\n",
        "(풀이)"
      ],
      "id": "ec4d0ac7-ab4e-4c06-84fd-95bff91e1fd2"
    },
    {
      "cell_type": "code",
      "execution_count": 199,
      "metadata": {},
      "outputs": [],
      "source": [
        "[i+j for i in ['stat', 'math'] for j in '12345']"
      ],
      "id": "da3fc5aa"
    },
    {
      "cell_type": "markdown",
      "metadata": {},
      "source": [
        "(다른풀이) 참고로 for문을 쓰면 좀 복잡해진다."
      ],
      "id": "9bdc2eaa-b9a0-4054-845b-303fe65f127e"
    },
    {
      "cell_type": "code",
      "execution_count": 201,
      "metadata": {},
      "outputs": [],
      "source": [
        "_lst=[]\n",
        "for x in ['stat', 'math']:\n",
        "    for y in '12345':\n",
        "        _lst = _lst + [x+y]"
      ],
      "id": "be501f9a"
    },
    {
      "cell_type": "code",
      "execution_count": 202,
      "metadata": {},
      "outputs": [],
      "source": [
        "_lst"
      ],
      "id": "bd864a3a"
    },
    {
      "cell_type": "markdown",
      "metadata": {},
      "source": [
        "`-` 예제: ’jbnu’를 이용하여 아래와 같은 리스트르 만들어라."
      ],
      "id": "9b0d273a-0a78-4b78-88a9-293fbb92e036"
    },
    {
      "cell_type": "code",
      "execution_count": 205,
      "metadata": {},
      "outputs": [],
      "source": [
        "['j','b','n','u']"
      ],
      "id": "aea63ead"
    },
    {
      "cell_type": "code",
      "execution_count": 206,
      "metadata": {},
      "outputs": [],
      "source": [
        "list('jbnu')"
      ],
      "id": "80f634ea"
    },
    {
      "cell_type": "markdown",
      "metadata": {},
      "source": [
        "(풀이)"
      ],
      "id": "dd526c79-9ae3-4894-8772-e89d62ad2ee6"
    },
    {
      "cell_type": "code",
      "execution_count": 207,
      "metadata": {},
      "outputs": [],
      "source": [
        "[x for x in 'jbnu']"
      ],
      "id": "afc47ef7"
    },
    {
      "cell_type": "markdown",
      "metadata": {},
      "source": [
        "`-`예제: x에는 무엇이 있을까?\n",
        "\n",
        "(경우1)"
      ],
      "id": "06b83909-5241-4260-b9f6-ed3eeeca9028"
    },
    {
      "cell_type": "code",
      "execution_count": 209,
      "metadata": {},
      "outputs": [],
      "source": [
        "x=1\n",
        "lst=[]\n",
        "for x in 'jbnu':\n",
        "    lst = lst + [x]"
      ],
      "id": "2e61d83c"
    },
    {
      "cell_type": "code",
      "execution_count": 210,
      "metadata": {},
      "outputs": [],
      "source": [
        "lst"
      ],
      "id": "85c2df4b"
    },
    {
      "cell_type": "code",
      "execution_count": 211,
      "metadata": {},
      "outputs": [],
      "source": [
        "x"
      ],
      "id": "063e488d"
    },
    {
      "cell_type": "markdown",
      "metadata": {},
      "source": [
        "(경우2)"
      ],
      "id": "94e45910-20e6-46cc-b408-d598d7311abf"
    },
    {
      "cell_type": "code",
      "execution_count": 212,
      "metadata": {},
      "outputs": [],
      "source": [
        "x=1\n",
        "lst = [x for x in 'jbnu']\n",
        "lst"
      ],
      "id": "92790a34"
    },
    {
      "cell_type": "code",
      "execution_count": 213,
      "metadata": {},
      "outputs": [],
      "source": [
        "x"
      ],
      "id": "88d42ec3"
    },
    {
      "cell_type": "markdown",
      "metadata": {},
      "source": [
        "`-` 예제: \\[X1,X2,X3,…,X100\\]과 같은 리스트를 만들어보자.\n",
        "\n",
        "(풀이)"
      ],
      "id": "cfa6728d-9d46-42b1-8180-23a7e7d9c9e6"
    },
    {
      "cell_type": "code",
      "execution_count": 220,
      "metadata": {},
      "outputs": [],
      "source": [
        "['X'+str(i) for i in [1,2,3,4]]"
      ],
      "id": "6821fb47"
    },
    {
      "cell_type": "code",
      "execution_count": 223,
      "metadata": {},
      "outputs": [],
      "source": [
        "['X'+str(i) for i in [1:100]]   #오류!!"
      ],
      "id": "73955903"
    },
    {
      "cell_type": "markdown",
      "metadata": {},
      "source": [
        "\\[예비학습\\]"
      ],
      "id": "61d7973c-a790-4231-aa72-b012de458a99"
    },
    {
      "cell_type": "code",
      "execution_count": 222,
      "metadata": {},
      "outputs": [],
      "source": [
        "range(0,10)"
      ],
      "id": "073f1969"
    },
    {
      "cell_type": "code",
      "execution_count": 224,
      "metadata": {},
      "outputs": [],
      "source": [
        "_tmp = range(0,10)"
      ],
      "id": "5781a3fc"
    },
    {
      "cell_type": "code",
      "execution_count": 225,
      "metadata": {},
      "outputs": [],
      "source": [
        "type(_tmp)"
      ],
      "id": "3e58cd48"
    },
    {
      "cell_type": "code",
      "execution_count": 226,
      "metadata": {},
      "outputs": [],
      "source": [
        "list(_tmp)"
      ],
      "id": "80282154"
    },
    {
      "cell_type": "code",
      "execution_count": 228,
      "metadata": {},
      "outputs": [],
      "source": [
        "list(range(0,10)) #0을 포함, 10을 미포함"
      ],
      "id": "740dab7f"
    },
    {
      "cell_type": "markdown",
      "metadata": {},
      "source": [
        "-   이게 중요한 것. range(0,10)을 리스트화시키면 \\[0,1,2,…,9\\]와\n",
        "    같은기능을 얻을 수 있다."
      ],
      "id": "1f8eb216-193c-4f8b-b117-7dafe4d7e186"
    },
    {
      "cell_type": "code",
      "execution_count": 229,
      "metadata": {},
      "outputs": [],
      "source": [
        "list(range(10))  # 0은 생략가능"
      ],
      "id": "28463925"
    },
    {
      "cell_type": "code",
      "execution_count": 230,
      "metadata": {},
      "outputs": [],
      "source": [
        "list(range(2,10))  # 2는 포함, 10은 미포함"
      ],
      "id": "f14ddf31"
    },
    {
      "cell_type": "code",
      "execution_count": 231,
      "metadata": {},
      "outputs": [],
      "source": [
        "list(range(1,10,2))  # 2칸씩! "
      ],
      "id": "d7f84894"
    },
    {
      "cell_type": "markdown",
      "metadata": {},
      "source": [
        "예비학습 끝"
      ],
      "id": "8bae8ee4-958c-449e-9d9f-b7f03eb4b34d"
    },
    {
      "cell_type": "code",
      "execution_count": 232,
      "metadata": {
        "scrolled": true
      },
      "outputs": [],
      "source": [
        "['X'+str(i) for i in list(range(1,101))]  # 세로로 넘 길엉 "
      ],
      "id": "b62ad8e2"
    },
    {
      "cell_type": "markdown",
      "metadata": {},
      "source": [
        "(아래와 같은 풀이도 가능)"
      ],
      "id": "4a7fb822-26c1-4968-8c4d-ca5758c17150"
    },
    {
      "cell_type": "code",
      "execution_count": 233,
      "metadata": {},
      "outputs": [],
      "source": [
        "['X'+str(i) for i in range(1,13)]  # 리스트화해주지 않아도 가능 for i in 뒤에 list뿐 아니라.. str도 되고... "
      ],
      "id": "4d1ec1e8"
    },
    {
      "cell_type": "markdown",
      "metadata": {},
      "source": [
        "(딴생각) for문 뒤에 올 수 있는 것이 무엇인지 생각해보자."
      ],
      "id": "a44ce0d9-9ad2-4da5-ac96-6ab4c7628760"
    },
    {
      "cell_type": "code",
      "execution_count": 234,
      "metadata": {},
      "outputs": [
        {
          "output_type": "stream",
          "name": "stdout",
          "text": [
            "1\n",
            "2\n",
            "3\n",
            "4"
          ]
        }
      ],
      "source": [
        "for i in '1234':\n",
        "    print(i)"
      ],
      "id": "c9aec8d3"
    },
    {
      "cell_type": "code",
      "execution_count": 235,
      "metadata": {},
      "outputs": [
        {
          "output_type": "stream",
          "name": "stdout",
          "text": [
            "1\n",
            "2\n",
            "3\n",
            "4"
          ]
        }
      ],
      "source": [
        "for i in [1,2,3,4]:\n",
        "    print(i)"
      ],
      "id": "d08c50e6"
    },
    {
      "cell_type": "code",
      "execution_count": 236,
      "metadata": {},
      "outputs": [
        {
          "output_type": "stream",
          "name": "stdout",
          "text": [
            "1\n",
            "2\n",
            "3\n",
            "4"
          ]
        }
      ],
      "source": [
        "for i in (1,2,3,4):   # 튜플\n",
        "    print(i)"
      ],
      "id": "27a511a8"
    },
    {
      "cell_type": "code",
      "execution_count": 237,
      "metadata": {},
      "outputs": [
        {
          "output_type": "stream",
          "name": "stdout",
          "text": [
            "1\n",
            "2\n",
            "3\n",
            "4"
          ]
        }
      ],
      "source": [
        "for i in {1,2,3,4}: # set\n",
        "    print(i)"
      ],
      "id": "9d7777d2"
    },
    {
      "cell_type": "code",
      "execution_count": 238,
      "metadata": {},
      "outputs": [
        {
          "output_type": "stream",
          "name": "stdout",
          "text": [
            "name\n",
            "age"
          ]
        }
      ],
      "source": [
        "for i in {'name':'iu','age':31}:   # 딕셔너리\n",
        "    print(i)"
      ],
      "id": "067c4ef7"
    },
    {
      "cell_type": "code",
      "execution_count": 240,
      "metadata": {},
      "outputs": [
        {
          "output_type": "stream",
          "name": "stdout",
          "text": [
            "1\n",
            "2\n",
            "3\n",
            "4"
          ]
        }
      ],
      "source": [
        "for i in range(1,5):\n",
        "    print(i)"
      ],
      "id": "022f7b39"
    },
    {
      "cell_type": "markdown",
      "metadata": {},
      "source": [
        "(숙제)\n",
        "\n",
        "리스트컴프리헨션을 이용하여 아래와 같은 리스트를 만들어라\n",
        "\n",
        "\\[‘X1’,‘X2X2’,‘X3X3X3’,‘X4X4X4X4’,‘X5X5X5X5X5’\\]"
      ],
      "id": "b96ce9c8-7034-4999-8105-641fd3ffa01a"
    },
    {
      "cell_type": "code",
      "execution_count": 246,
      "metadata": {},
      "outputs": [],
      "source": [
        "[('X'+str(i))*i for i in range(1,6)]"
      ],
      "id": "9cfbc5c0"
    }
  ],
  "nbformat": 4,
  "nbformat_minor": 5,
  "metadata": {
    "kernelspec": {
      "name": "python3",
      "display_name": "Python 3",
      "language": "python"
    },
    "language_info": {
      "name": "python",
      "codemirror_mode": {
        "name": "ipython",
        "version": "3"
      },
      "file_extension": ".py",
      "mimetype": "text/x-python",
      "nbconvert_exporter": "python",
      "pygments_lexer": "ipython3",
      "version": "3.7.16"
    },
    "toc": {
      "base_numbering": "1",
      "nav_menu": {},
      "number_sections": true,
      "sideBar": true,
      "skip_h1_title": false,
      "title_cell": "Table of Contents",
      "title_sidebar": "Contents",
      "toc_cell": false,
      "toc_position": {},
      "toc_section_display": true,
      "toc_window_display": false
    }
  }
}