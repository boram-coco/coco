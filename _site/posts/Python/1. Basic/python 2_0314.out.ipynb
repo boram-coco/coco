{
  "cells": [
    {
      "cell_type": "markdown",
      "metadata": {},
      "source": [
        "# 파이썬 (0314) 2주차\n",
        "\n",
        "김보람  \n",
        "2022-03-14\n",
        "\n",
        "# 리스트\n",
        "\n",
        "## 선언\n",
        "\n",
        "`-` 리스트의 선언"
      ],
      "id": "bb4f06e9-a7de-4ccd-80f2-13e054ab8b34"
    },
    {
      "cell_type": "code",
      "execution_count": 2,
      "metadata": {},
      "outputs": [],
      "source": [
        "a=[11,22]\n",
        "a"
      ],
      "id": "048dcce8"
    },
    {
      "cell_type": "code",
      "execution_count": 3,
      "metadata": {},
      "outputs": [],
      "source": [
        "type(a)"
      ],
      "id": "51f17531"
    },
    {
      "cell_type": "markdown",
      "metadata": {},
      "source": [
        "`-` 비어있는 리스트의 선언"
      ],
      "id": "23930642-a040-407f-83cb-2ec1e397f155"
    },
    {
      "cell_type": "code",
      "execution_count": 4,
      "metadata": {},
      "outputs": [],
      "source": [
        "a=[] # 방법1\n",
        "a"
      ],
      "id": "07c57672"
    },
    {
      "cell_type": "code",
      "execution_count": 5,
      "metadata": {},
      "outputs": [],
      "source": [
        "a=list() # 방법2\n",
        "a"
      ],
      "id": "f2257584"
    },
    {
      "cell_type": "markdown",
      "metadata": {},
      "source": [
        "## 연산\n",
        "\n",
        "`-` 더하기연산"
      ],
      "id": "7b400e17-d0d2-4425-bdc8-b5baaa30e955"
    },
    {
      "cell_type": "code",
      "execution_count": 6,
      "metadata": {},
      "outputs": [],
      "source": [
        "a=[11,22]\n",
        "b=[12,13]"
      ],
      "id": "a896ec76"
    },
    {
      "cell_type": "code",
      "execution_count": 7,
      "metadata": {},
      "outputs": [],
      "source": [
        "a"
      ],
      "id": "8d33d2ed"
    },
    {
      "cell_type": "code",
      "execution_count": 8,
      "metadata": {},
      "outputs": [],
      "source": [
        "b"
      ],
      "id": "068643e7"
    },
    {
      "cell_type": "code",
      "execution_count": 9,
      "metadata": {},
      "outputs": [],
      "source": [
        "a+b"
      ],
      "id": "6402c2e8"
    },
    {
      "cell_type": "markdown",
      "metadata": {},
      "source": [
        "-   우리의 예상과 다른 결과가 나옴 $\\to$ 파이썬은 R처럼 자체적으로 좋은\n",
        "    계산기능을 내장하고 있찌 않음\n",
        "\n",
        "`-` 브로드캐스팅과 같이 R에서는 당연히 가능했던 기능을 사용할 수 없음"
      ],
      "id": "763accd1-9c6c-4f2a-9b0f-0056b87df358"
    },
    {
      "cell_type": "code",
      "execution_count": 12,
      "metadata": {},
      "outputs": [],
      "source": [
        "a=[1,2,3]\n",
        "b=1\n",
        "a+b"
      ],
      "id": "9e0115e8"
    },
    {
      "cell_type": "markdown",
      "metadata": {},
      "source": [
        "`-` 뺄셈은 정의되지 않음"
      ],
      "id": "69c2ad42-02a6-45fd-af95-9f57ab931774"
    },
    {
      "cell_type": "code",
      "execution_count": 13,
      "metadata": {},
      "outputs": [],
      "source": [
        "a=[1,2]\n",
        "b=[1,2]\n",
        "a-b"
      ],
      "id": "66307dc1"
    },
    {
      "cell_type": "markdown",
      "metadata": {},
      "source": [
        "`-` 곱하기는 정의 가능"
      ],
      "id": "88e18ead-fb6e-4853-afa5-d968232705b2"
    },
    {
      "cell_type": "code",
      "execution_count": 14,
      "metadata": {},
      "outputs": [],
      "source": [
        "a=[1,2]"
      ],
      "id": "c9bb1e5d"
    },
    {
      "cell_type": "code",
      "execution_count": 15,
      "metadata": {},
      "outputs": [],
      "source": [
        "2*a  #a+a"
      ],
      "id": "a83c8878"
    },
    {
      "cell_type": "markdown",
      "metadata": {},
      "source": [
        "`-` 나눗셈은 정의되지 않음"
      ],
      "id": "3a51e900-836a-4b92-990e-f5e9aea03e32"
    },
    {
      "cell_type": "code",
      "execution_count": 16,
      "metadata": {},
      "outputs": [],
      "source": [
        "a=[1,2,1,2]\n",
        "a/2"
      ],
      "id": "ee28ab71"
    },
    {
      "cell_type": "markdown",
      "metadata": {},
      "source": [
        "`-` 더하기와 곱하기는 원소의 추가와 반복추가를 의미하지만 그렇다고 해서\n",
        "뺄샘과 나눗셈이 원소의 삭제를 의미하는 것은 아님"
      ],
      "id": "8f7a048a-4542-4e28-8ffb-c93433ed7acd"
    },
    {
      "cell_type": "code",
      "execution_count": 18,
      "metadata": {},
      "outputs": [],
      "source": [
        "a=[1,2,3]\n",
        "a-[3]   #이런건없다"
      ],
      "id": "9f991bc2"
    },
    {
      "cell_type": "code",
      "execution_count": 19,
      "metadata": {},
      "outputs": [],
      "source": [
        "a=[1,2,1,2,1,2,]\n",
        "a/3    # 이런건없다"
      ],
      "id": "cabe5b3b"
    },
    {
      "cell_type": "markdown",
      "metadata": {},
      "source": [
        "`-` 더하기와 곱하기가 원소의 추가와 반복추가를 의미하여 편리할때도\n",
        "있긴하지만, 우리는 산술적인 `+`, `*`를 원하는 경우도 있다. 이럴 경우는\n",
        "어떻게 할 수 있을까?\n",
        "\n",
        "(예제)"
      ],
      "id": "70548486-0761-4d46-a68c-0d1876b0da75"
    },
    {
      "cell_type": "code",
      "execution_count": 25,
      "metadata": {},
      "outputs": [],
      "source": [
        "a=[1,2]\n",
        "b=[3,4]"
      ],
      "id": "0f280b56"
    },
    {
      "cell_type": "markdown",
      "metadata": {},
      "source": [
        "a+b=\\[4,6\\]이 되도록 하려면?\n",
        "\n",
        "(풀이1)"
      ],
      "id": "9735a348-5931-438e-a6be-6ee4a5ac095a"
    },
    {
      "cell_type": "code",
      "execution_count": 22,
      "metadata": {},
      "outputs": [],
      "source": [
        "type(a)"
      ],
      "id": "5a1f6ae4"
    },
    {
      "cell_type": "code",
      "execution_count": 23,
      "metadata": {},
      "outputs": [],
      "source": [
        "type(a[0])"
      ],
      "id": "582a3637"
    },
    {
      "cell_type": "code",
      "execution_count": 26,
      "metadata": {},
      "outputs": [],
      "source": [
        "a[0]+b[0]  #a의 첫번째 원소 추출, b의 첫번째 원소 추출, 둘을 더함"
      ],
      "id": "191babf4"
    },
    {
      "cell_type": "code",
      "execution_count": 27,
      "metadata": {},
      "outputs": [],
      "source": [
        "a[1]+b[1]"
      ],
      "id": "e5801249"
    },
    {
      "cell_type": "code",
      "execution_count": 28,
      "metadata": {},
      "outputs": [],
      "source": [
        "[a[0]+b[0], a[1]+b[1]]"
      ],
      "id": "f4d3222f"
    },
    {
      "cell_type": "markdown",
      "metadata": {},
      "source": [
        "풀이가 가능한 이유? a,b는 리스트이지만 a\\[0\\], a\\[1\\], b\\[0\\], b\\[1\\]은\n",
        "각각 인트형임. 인트형은 +연산이 가능함\n",
        "\n",
        "(풀이2)\n",
        "\n",
        "numpy패키지 (파이썬의 여러 수치연산들을 담당하는 라이브러리) - 이러한\n",
        "벡터연산은 누구나 필요로 하는 연산 - 내가 아니더라도 누군가가 프로그램화\n",
        "해놓았을 것임 - 그 누군가가 자신이 만든 코드를 잘 정리하여 무료로\n",
        "배포했을 수도 있음 (패키지를 배포한다고 표현) - 그 패키지를 가져와서\n",
        "설치한 뒤 사용하기만 하면 된다.\n",
        "\n",
        "패키지를 설치하는 방법 - `!pip install numpy` \\# 최신버전을 설치함 -\n",
        "`!conda install -c conda-forge numpy -y` \\# 안전한 버전을 설치함\n",
        "\n",
        "설치된 패키지를 사용하는 방법 - `import numpy` 한뒤에 `numpy.??`로\n",
        "기능을 사용 - `import numpy as np` 한뒤에 `np.??`로 기능을 사용\n",
        "\n",
        "파이썬의 기본 패키지 numpy pandas matplotlib"
      ],
      "id": "69733245-d601-4b0c-8725-ec9871e6d44e"
    },
    {
      "cell_type": "code",
      "execution_count": 44,
      "metadata": {},
      "outputs": [
        {
          "output_type": "stream",
          "name": "stdout",
          "text": [
            "Requirement already satisfied: numpy in c:\\users\\user\\anaconda3\\lib\\site-packages (1.21.5)"
          ]
        }
      ],
      "source": [
        "!pip install numpy"
      ],
      "id": "c45e25fe"
    },
    {
      "cell_type": "code",
      "execution_count": 29,
      "metadata": {},
      "outputs": [],
      "source": [
        "import numpy # 설치한 패키지를 쓰겠다고 선언함 library(tidyverse)와 비슷."
      ],
      "id": "226a4963"
    },
    {
      "cell_type": "code",
      "execution_count": 30,
      "metadata": {},
      "outputs": [],
      "source": [
        "a=[1,2]\n",
        "b=[3,4]"
      ],
      "id": "8a44e690"
    },
    {
      "cell_type": "code",
      "execution_count": 31,
      "metadata": {},
      "outputs": [],
      "source": [
        "a+b"
      ],
      "id": "d6b40ccb"
    },
    {
      "cell_type": "code",
      "execution_count": 33,
      "metadata": {},
      "outputs": [],
      "source": [
        "type(numpy.array(a))"
      ],
      "id": "5b4e7e06"
    },
    {
      "cell_type": "code",
      "execution_count": 36,
      "metadata": {},
      "outputs": [],
      "source": [
        "aa=numpy.array(a)   #aa는 리스트가 아니라 넘파이 어레이, numpy.array()는 numpy패키지에서 제공하는 array함수를 쓰겠다는 의미\n",
        "bb=numpy.array(b)   "
      ],
      "id": "054d7268"
    },
    {
      "cell_type": "code",
      "execution_count": 37,
      "metadata": {},
      "outputs": [],
      "source": [
        "aa+bb"
      ],
      "id": "e2afed99"
    },
    {
      "cell_type": "code",
      "execution_count": 38,
      "metadata": {},
      "outputs": [],
      "source": [
        "a+b"
      ],
      "id": "ae8a45f5"
    },
    {
      "cell_type": "markdown",
      "metadata": {},
      "source": [
        "이런것도 가능"
      ],
      "id": "65c05e2b-21e4-44e2-8787-062f5ad1b199"
    },
    {
      "cell_type": "code",
      "execution_count": 39,
      "metadata": {},
      "outputs": [],
      "source": [
        "2*aa+1"
      ],
      "id": "54768bbd"
    },
    {
      "cell_type": "code",
      "execution_count": 40,
      "metadata": {},
      "outputs": [],
      "source": [
        "2*aa+1+bb"
      ],
      "id": "50ce8c39"
    },
    {
      "cell_type": "markdown",
      "metadata": {},
      "source": [
        "(풀이3)"
      ],
      "id": "889bba7f-6d43-4832-9c77-7850e037a3b4"
    },
    {
      "cell_type": "code",
      "execution_count": 41,
      "metadata": {},
      "outputs": [],
      "source": [
        "import numpy as np # 설치한 numpy라는 패키지를 쓰겠음. 그런데 numpy 말고 np라는 이름으로 쓰겠음"
      ],
      "id": "c0a90e0b"
    },
    {
      "cell_type": "code",
      "execution_count": 42,
      "metadata": {},
      "outputs": [],
      "source": [
        "np.array(a)+np.array(b)"
      ],
      "id": "7c037e9f"
    },
    {
      "cell_type": "markdown",
      "metadata": {},
      "source": [
        "## 인덱싱\n",
        "\n",
        "`-` str형과 동일한 방식"
      ],
      "id": "82f8ed32-5f48-44bf-af46-678eaba3bd25"
    },
    {
      "cell_type": "code",
      "execution_count": 45,
      "metadata": {},
      "outputs": [],
      "source": [
        "a=[11,22,33,44,55]"
      ],
      "id": "b5c1ff17"
    },
    {
      "cell_type": "code",
      "execution_count": 46,
      "metadata": {},
      "outputs": [],
      "source": [
        "a[0:3]"
      ],
      "id": "c670ce19"
    },
    {
      "cell_type": "markdown",
      "metadata": {},
      "source": [
        "# 리스트 고급\n",
        "\n",
        "## 콘테이너형 객체, 가변객체\n",
        "\n",
        "`-` 객체 - Object - Something\n",
        "\n",
        "`-` 리스트의 원소는 int, float따위만 가능한 것이 아니다. (리스트는\n",
        "콘테이너형 객체이므로)"
      ],
      "id": "c5503365-5177-4109-bceb-9da0008e54c4"
    },
    {
      "cell_type": "code",
      "execution_count": 47,
      "metadata": {},
      "outputs": [],
      "source": [
        "lst = [1,3.14,True, 'a', [1,2],\n",
        "      (1,2), {'name':'iu','age':30},{1,2,3}]"
      ],
      "id": "fcbc7001"
    },
    {
      "cell_type": "code",
      "execution_count": 48,
      "metadata": {},
      "outputs": [],
      "source": [
        "lst"
      ],
      "id": "ef9ad054"
    },
    {
      "cell_type": "markdown",
      "metadata": {},
      "source": [
        "각 원소의 타입을 알아보자"
      ],
      "id": "13da1d51-9083-4c79-ad5e-63fe64155e2b"
    },
    {
      "cell_type": "code",
      "execution_count": 49,
      "metadata": {},
      "outputs": [],
      "source": [
        "type(lst[0])"
      ],
      "id": "29d37216"
    },
    {
      "cell_type": "code",
      "execution_count": 50,
      "metadata": {},
      "outputs": [],
      "source": [
        "type(lst[1])"
      ],
      "id": "3c64b900"
    },
    {
      "cell_type": "code",
      "execution_count": 51,
      "metadata": {},
      "outputs": [],
      "source": [
        "type(lst[2])"
      ],
      "id": "854ce46a"
    },
    {
      "cell_type": "code",
      "execution_count": 52,
      "metadata": {},
      "outputs": [],
      "source": [
        "type(lst[3])"
      ],
      "id": "ac099206"
    },
    {
      "cell_type": "code",
      "execution_count": 53,
      "metadata": {},
      "outputs": [],
      "source": [
        "type(lst[4])"
      ],
      "id": "ea752dce"
    },
    {
      "cell_type": "code",
      "execution_count": 54,
      "metadata": {},
      "outputs": [],
      "source": [
        "type(lst[5])"
      ],
      "id": "cb25f671"
    },
    {
      "cell_type": "code",
      "execution_count": 55,
      "metadata": {},
      "outputs": [],
      "source": [
        "type(lst[6])   # dictionary"
      ],
      "id": "f5b83e8a"
    },
    {
      "cell_type": "code",
      "execution_count": 56,
      "metadata": {},
      "outputs": [],
      "source": [
        "type(lst[7]) #집합"
      ],
      "id": "8e0956fa"
    },
    {
      "cell_type": "markdown",
      "metadata": {},
      "source": [
        "`-` str은 컨테이너형이 아니다"
      ],
      "id": "841f0852-636a-4f85-b7a9-a2dc6031a3b8"
    },
    {
      "cell_type": "code",
      "execution_count": 57,
      "metadata": {},
      "outputs": [],
      "source": [
        "# 컨테이너형이 아닌것\n",
        "'abcd'[0]"
      ],
      "id": "c50a114e"
    },
    {
      "cell_type": "markdown",
      "metadata": {},
      "source": [
        "-   str의 모든 원소는 문자임\n",
        "\n",
        "`-` 리스트의 원소를 수정할 수 있다. (리스트는 가변객체이므로)"
      ],
      "id": "e2808677-b120-4cd4-94f0-c7ed4db73007"
    },
    {
      "cell_type": "code",
      "execution_count": 60,
      "metadata": {},
      "outputs": [],
      "source": [
        "a=[11,22,33]"
      ],
      "id": "be17a746"
    },
    {
      "cell_type": "code",
      "execution_count": 61,
      "metadata": {},
      "outputs": [],
      "source": [
        "a[0]"
      ],
      "id": "a25770e8"
    },
    {
      "cell_type": "code",
      "execution_count": 62,
      "metadata": {},
      "outputs": [],
      "source": [
        "a[0]=111"
      ],
      "id": "40db03d2"
    },
    {
      "cell_type": "code",
      "execution_count": 63,
      "metadata": {},
      "outputs": [],
      "source": [
        "a"
      ],
      "id": "5c0c0bb0"
    },
    {
      "cell_type": "markdown",
      "metadata": {},
      "source": [
        "`-` 원소수정은 당연한 기능 같은데 이것이 불가능한 경우도 있다.\n",
        "\n",
        "(가능한경우)"
      ],
      "id": "44b2d1c3-84af-4f74-b93f-ebcf6a952dc0"
    },
    {
      "cell_type": "code",
      "execution_count": 64,
      "metadata": {},
      "outputs": [],
      "source": [
        "'boram'[1]"
      ],
      "id": "dba08e6e"
    },
    {
      "cell_type": "code",
      "execution_count": 65,
      "metadata": {},
      "outputs": [],
      "source": [
        "a=['b','o','r','a','m']"
      ],
      "id": "453cb545"
    },
    {
      "cell_type": "code",
      "execution_count": 66,
      "metadata": {},
      "outputs": [],
      "source": [
        "a[0]"
      ],
      "id": "fdc0e90f"
    },
    {
      "cell_type": "code",
      "execution_count": 67,
      "metadata": {},
      "outputs": [],
      "source": [
        "a[0]='B'"
      ],
      "id": "40773d98"
    },
    {
      "cell_type": "code",
      "execution_count": 68,
      "metadata": {},
      "outputs": [],
      "source": [
        "a"
      ],
      "id": "56bb602c"
    },
    {
      "cell_type": "markdown",
      "metadata": {},
      "source": [
        "(불가능한경우)"
      ],
      "id": "1a1bb56a-476f-41b4-82cc-827fbc07b2b5"
    },
    {
      "cell_type": "code",
      "execution_count": 69,
      "metadata": {},
      "outputs": [],
      "source": [
        "a='boram'"
      ],
      "id": "720fde58"
    },
    {
      "cell_type": "code",
      "execution_count": 70,
      "metadata": {},
      "outputs": [],
      "source": [
        "a"
      ],
      "id": "8eb9a652"
    },
    {
      "cell_type": "code",
      "execution_count": 71,
      "metadata": {},
      "outputs": [],
      "source": [
        "a[0]"
      ],
      "id": "93a2e52c"
    },
    {
      "cell_type": "code",
      "execution_count": 72,
      "metadata": {},
      "outputs": [],
      "source": [
        "a[0]='B'"
      ],
      "id": "15fa1416"
    },
    {
      "cell_type": "markdown",
      "metadata": {},
      "source": [
        "`-` 리스트 원소 삭제\n",
        "\n",
        "(예제)\n",
        "\n",
        "아래와 같이 문자로 된 리스트를 선언하자."
      ],
      "id": "a6b40d90-5d1a-4e10-9164-1c2caeca7504"
    },
    {
      "cell_type": "code",
      "execution_count": 74,
      "metadata": {},
      "outputs": [],
      "source": [
        "a=['b','o','r','a','m']\n",
        "a"
      ],
      "id": "6c1aadac"
    },
    {
      "cell_type": "markdown",
      "metadata": {},
      "source": [
        "사실 더 쉽게 선언할 수 있음"
      ],
      "id": "0a46df59-baa0-4ef9-a90c-5e513fcd1582"
    },
    {
      "cell_type": "code",
      "execution_count": 82,
      "metadata": {},
      "outputs": [],
      "source": [
        "a='boram'   #string으로 a를 선언"
      ],
      "id": "2b05257f"
    },
    {
      "cell_type": "code",
      "execution_count": 83,
      "metadata": {},
      "outputs": [],
      "source": [
        "type(a)"
      ],
      "id": "ec2b2f94"
    },
    {
      "cell_type": "code",
      "execution_count": 84,
      "metadata": {},
      "outputs": [],
      "source": [
        "list(a)"
      ],
      "id": "fc6eba39"
    },
    {
      "cell_type": "code",
      "execution_count": 85,
      "metadata": {},
      "outputs": [],
      "source": [
        "a=list(a)  #list(a)를 통하여 str을 list로 변환 "
      ],
      "id": "63a6ec50"
    },
    {
      "cell_type": "code",
      "execution_count": 86,
      "metadata": {},
      "outputs": [],
      "source": [
        "a  # 그 결과를 a에 다시 저장"
      ],
      "id": "bb02a923"
    },
    {
      "cell_type": "markdown",
      "metadata": {},
      "source": [
        "첫 번째 원소를 삭제하고 싶다면?"
      ],
      "id": "6b592c39-ed00-4dba-aa5c-23354fc975f1"
    },
    {
      "cell_type": "code",
      "execution_count": 87,
      "metadata": {},
      "outputs": [],
      "source": [
        "\n",
        "del a[0]\n",
        "a"
      ],
      "id": "4c5ba196"
    },
    {
      "cell_type": "markdown",
      "metadata": {},
      "source": [
        "`-` 리스트의 원소 추가\n",
        "\n",
        "(예제) 비어있는 리스틀를 만들고 원소 0,1,2 를 차례로 추가하여 보자.\n",
        "\n",
        "(풀이1)"
      ],
      "id": "2ccc084b-34ce-44f0-b2e6-81ac94544e50"
    },
    {
      "cell_type": "code",
      "execution_count": 96,
      "metadata": {},
      "outputs": [],
      "source": [
        "a=[]\n",
        "a"
      ],
      "id": "1d51a8e9"
    },
    {
      "cell_type": "code",
      "execution_count": 97,
      "metadata": {},
      "outputs": [],
      "source": [
        "a= a+[0]\n",
        "a"
      ],
      "id": "73d6f00c"
    },
    {
      "cell_type": "code",
      "execution_count": 98,
      "metadata": {},
      "outputs": [],
      "source": [
        "a=a+[1]\n",
        "a"
      ],
      "id": "37a3d4eb"
    },
    {
      "cell_type": "code",
      "execution_count": 99,
      "metadata": {},
      "outputs": [],
      "source": [
        "a= a+[2]\n",
        "a"
      ],
      "id": "2d1109f6"
    },
    {
      "cell_type": "markdown",
      "metadata": {},
      "source": [
        "(풀이2)"
      ],
      "id": "b9f12d33-9a67-469c-9467-1c3a45faafeb"
    },
    {
      "cell_type": "code",
      "execution_count": 101,
      "metadata": {},
      "outputs": [],
      "source": [
        "a=[]\n",
        "a"
      ],
      "id": "8620d53e"
    },
    {
      "cell_type": "code",
      "execution_count": 102,
      "metadata": {},
      "outputs": [],
      "source": [
        "a+=[0]\n",
        "a"
      ],
      "id": "1a7106c0"
    },
    {
      "cell_type": "code",
      "execution_count": 103,
      "metadata": {},
      "outputs": [],
      "source": [
        "a+=[1]\n",
        "a"
      ],
      "id": "9a1276bb"
    },
    {
      "cell_type": "code",
      "execution_count": 104,
      "metadata": {},
      "outputs": [],
      "source": [
        "a+=[2]\n",
        "a"
      ],
      "id": "22f7b187"
    },
    {
      "cell_type": "markdown",
      "metadata": {},
      "source": [
        "-   암기법: 중복되는 변수를 지우고 연산자의 순서를 바꾼다.\n",
        "\n",
        "(풀이3) 리스트 특화기능(=메소드)를 이용"
      ],
      "id": "f359d7fd-b03a-4a1e-a456-e96e9fa84811"
    },
    {
      "cell_type": "code",
      "execution_count": 105,
      "metadata": {},
      "outputs": [],
      "source": [
        "a=[]\n",
        "a"
      ],
      "id": "b6bf08d0"
    },
    {
      "cell_type": "code",
      "execution_count": 106,
      "metadata": {},
      "outputs": [],
      "source": [
        "a.append?"
      ],
      "id": "7d584bf1"
    },
    {
      "cell_type": "code",
      "execution_count": 107,
      "metadata": {},
      "outputs": [],
      "source": [
        "a.append(0)\n",
        "a"
      ],
      "id": "9d0b44ed"
    },
    {
      "cell_type": "code",
      "execution_count": 108,
      "metadata": {},
      "outputs": [],
      "source": [
        "a.append(1)\n",
        "a"
      ],
      "id": "d95a313b"
    },
    {
      "cell_type": "code",
      "execution_count": 109,
      "metadata": {},
      "outputs": [],
      "source": [
        "a.append(2)\n",
        "a"
      ],
      "id": "75fc252c"
    },
    {
      "cell_type": "markdown",
      "metadata": {},
      "source": [
        "`-` `a+[4]`와 `a.append(4)`의 차이점은?\n",
        "\n",
        "(관찰1)"
      ],
      "id": "e014b748-3e1d-44b5-9393-1e03899163df"
    },
    {
      "cell_type": "code",
      "execution_count": 111,
      "metadata": {},
      "outputs": [],
      "source": [
        "a=[1,2,3]\n",
        "a+[4]  ## 리스트 a와 리스트 [4]의 연산결과"
      ],
      "id": "bb102078"
    },
    {
      "cell_type": "code",
      "execution_count": 112,
      "metadata": {},
      "outputs": [],
      "source": [
        "a  # a는 그대로임. 변화없음"
      ],
      "id": "be29d7dd"
    },
    {
      "cell_type": "markdown",
      "metadata": {},
      "source": [
        "(관찰2)"
      ],
      "id": "856a7c2d-c76a-49cc-8530-8685b6a364d8"
    },
    {
      "cell_type": "code",
      "execution_count": 113,
      "metadata": {},
      "outputs": [],
      "source": [
        "a=[1,2,3]\n",
        "a.append(4)"
      ],
      "id": "c65cc1f5"
    },
    {
      "cell_type": "code",
      "execution_count": 114,
      "metadata": {},
      "outputs": [],
      "source": [
        "a    # a자체가 변화함"
      ],
      "id": "fc2cfce4"
    },
    {
      "cell_type": "markdown",
      "metadata": {},
      "source": [
        "비슷해보이지만 굉장히 미묘한 차이가 있음\n",
        "\n",
        "`a.append(4)` : `a`에 4를 append하라 $\\to$ `a`가 변함\n",
        "\n",
        "`a+[4]` : `a`와 4를 연산하고 수행결과를 보여달라\n",
        "\n",
        "## 메소드(리스트자료형에 특화된 특수한 함수들)\n",
        "\n",
        "**(append)**"
      ],
      "id": "48efc514-bd3b-40fb-8499-d159adc73a47"
    },
    {
      "cell_type": "code",
      "execution_count": 119,
      "metadata": {},
      "outputs": [],
      "source": [
        "a=[1,2,3,4]\n",
        "a.append?"
      ],
      "id": "4d0645a5"
    },
    {
      "cell_type": "code",
      "execution_count": 120,
      "metadata": {},
      "outputs": [],
      "source": [
        "a.append(5)\n",
        "a"
      ],
      "id": "661d5f8c"
    },
    {
      "cell_type": "markdown",
      "metadata": {},
      "source": [
        "**(clear)**"
      ],
      "id": "4755b8b0-525d-4bfa-a98a-d32ed4928e34"
    },
    {
      "cell_type": "code",
      "execution_count": 121,
      "metadata": {},
      "outputs": [],
      "source": [
        "a=[1,2,3,4]\n",
        "a.clear?"
      ],
      "id": "bd5dc0b6"
    },
    {
      "cell_type": "code",
      "execution_count": 122,
      "metadata": {},
      "outputs": [],
      "source": [
        "a.clear()"
      ],
      "id": "fb07f810"
    },
    {
      "cell_type": "code",
      "execution_count": 123,
      "metadata": {},
      "outputs": [],
      "source": [
        "a"
      ],
      "id": "0b1d0bfe"
    },
    {
      "cell_type": "markdown",
      "metadata": {},
      "source": [
        "**(copy)**"
      ],
      "id": "ca23ca2b-d5ab-485d-a733-9ef8d6f272ab"
    },
    {
      "cell_type": "code",
      "execution_count": 124,
      "metadata": {},
      "outputs": [],
      "source": [
        "a=[1,2,3,4]\n",
        "a.copy?"
      ],
      "id": "48a9e4d3"
    },
    {
      "cell_type": "code",
      "execution_count": 126,
      "metadata": {},
      "outputs": [],
      "source": [
        "b=a.copy()\n",
        "b"
      ],
      "id": "c50d1d83"
    },
    {
      "cell_type": "markdown",
      "metadata": {},
      "source": [
        "**(count)**"
      ],
      "id": "cc3e3f94-8d58-4687-bdf7-171cb5996483"
    },
    {
      "cell_type": "code",
      "execution_count": 129,
      "metadata": {},
      "outputs": [],
      "source": [
        "a=[1,1,2,3,3,4,4,4,]\n",
        "a.count(1)"
      ],
      "id": "db9e6588"
    },
    {
      "cell_type": "code",
      "execution_count": 130,
      "metadata": {},
      "outputs": [],
      "source": [
        "a.count(2) #특정 원소가 몇개 포함되어있는지 숫자 세줌"
      ],
      "id": "72d3b26b"
    },
    {
      "cell_type": "markdown",
      "metadata": {},
      "source": [
        "**(extend)**"
      ],
      "id": "3f6c5717-e3a9-43ba-a879-e8f33d993a66"
    },
    {
      "cell_type": "code",
      "execution_count": 131,
      "metadata": {},
      "outputs": [],
      "source": [
        "a=[1,2,3,4]\n",
        "b=[-1,-2,-3,-4]"
      ],
      "id": "c3f8617a"
    },
    {
      "cell_type": "code",
      "execution_count": 132,
      "metadata": {},
      "outputs": [],
      "source": [
        "a.extend(b)\n",
        "a"
      ],
      "id": "cfc9f583"
    },
    {
      "cell_type": "code",
      "execution_count": 133,
      "metadata": {},
      "outputs": [],
      "source": [
        "a.append(b)   \n",
        "a"
      ],
      "id": "6bf4a7f2"
    },
    {
      "cell_type": "markdown",
      "metadata": {},
      "source": [
        "**(index)**"
      ],
      "id": "cdd613f2-439b-4c1d-a20a-818d29c8cdd0"
    },
    {
      "cell_type": "code",
      "execution_count": 136,
      "metadata": {},
      "outputs": [],
      "source": [
        "a=[11,22,'a',True,22]\n",
        "a.index(True)"
      ],
      "id": "2bee1c1c"
    },
    {
      "cell_type": "code",
      "execution_count": 137,
      "metadata": {},
      "outputs": [],
      "source": [
        "a.index('a')"
      ],
      "id": "c9489433"
    },
    {
      "cell_type": "code",
      "execution_count": 139,
      "metadata": {},
      "outputs": [],
      "source": [
        "a.index(22)"
      ],
      "id": "ec6d4315"
    },
    {
      "cell_type": "markdown",
      "metadata": {},
      "source": [
        "**(insert)**"
      ],
      "id": "9554d46e-6ade-4748-b6a5-eb1ab4ddff8a"
    },
    {
      "cell_type": "code",
      "execution_count": 149,
      "metadata": {},
      "outputs": [],
      "source": [
        "a=[1,2,3]"
      ],
      "id": "f10f3d37"
    },
    {
      "cell_type": "code",
      "execution_count": 151,
      "metadata": {},
      "outputs": [],
      "source": [
        "a.insert(1,88)\n",
        "a"
      ],
      "id": "e40dd1d3"
    },
    {
      "cell_type": "markdown",
      "metadata": {},
      "source": [
        "**(pop)**"
      ],
      "id": "302aea41-2f3a-4da3-8dfa-0ea431db557a"
    },
    {
      "cell_type": "code",
      "execution_count": 152,
      "metadata": {},
      "outputs": [],
      "source": [
        "a=['a',1,2,'d']\n",
        "a.pop()   # index= -1이므로 마지막원소가 나타남"
      ],
      "id": "1ae38309"
    },
    {
      "cell_type": "code",
      "execution_count": 153,
      "metadata": {},
      "outputs": [],
      "source": [
        "a   # a는 마지막 원소가 사라진 상태"
      ],
      "id": "3c10b00c"
    },
    {
      "cell_type": "code",
      "execution_count": 154,
      "metadata": {},
      "outputs": [],
      "source": [
        "a.pop(0)   # index=0 이므로 첫번째 원소가 나타남"
      ],
      "id": "a24dde9e"
    },
    {
      "cell_type": "code",
      "execution_count": 155,
      "metadata": {},
      "outputs": [],
      "source": [
        "a    # a에서는 첫번쨰 원소가 사라진 상태"
      ],
      "id": "855e3826"
    },
    {
      "cell_type": "markdown",
      "metadata": {},
      "source": [
        "**(remove)**"
      ],
      "id": "b5360205-c8de-400c-bdae-5fc177a41e2e"
    },
    {
      "cell_type": "code",
      "execution_count": 161,
      "metadata": {},
      "outputs": [],
      "source": [
        "a=['a',2,3,'d']\n",
        "a.remove('d')"
      ],
      "id": "9991b60f"
    },
    {
      "cell_type": "code",
      "execution_count": 162,
      "metadata": {},
      "outputs": [],
      "source": [
        "a"
      ],
      "id": "80fcfb69"
    },
    {
      "cell_type": "code",
      "execution_count": 163,
      "metadata": {},
      "outputs": [],
      "source": [
        "a.remove('a')\n",
        "a"
      ],
      "id": "298b547d"
    },
    {
      "cell_type": "markdown",
      "metadata": {},
      "source": [
        "**(reverse)**"
      ],
      "id": "46eaa5b3-08b0-4030-9b46-1aebe1a1cff2"
    },
    {
      "cell_type": "code",
      "execution_count": 164,
      "metadata": {},
      "outputs": [],
      "source": [
        "a=[1,2,3,4]\n",
        "a.reverse()\n",
        "a"
      ],
      "id": "b6732d42"
    },
    {
      "cell_type": "markdown",
      "metadata": {},
      "source": [
        "**(sort)**"
      ],
      "id": "b03cf125-cf4a-49af-886b-46c2bbe54b40"
    },
    {
      "cell_type": "code",
      "execution_count": 165,
      "metadata": {},
      "outputs": [],
      "source": [
        "a=[1,3,2,4]\n",
        "a.sort()\n",
        "a"
      ],
      "id": "f1339691"
    },
    {
      "cell_type": "markdown",
      "metadata": {},
      "source": [
        "(다른예제들)"
      ],
      "id": "ab548253-1ea7-4717-895c-ecde357ebb15"
    },
    {
      "cell_type": "code",
      "execution_count": 166,
      "metadata": {},
      "outputs": [],
      "source": [
        "a=list('boram')\n",
        "a"
      ],
      "id": "9acae861"
    },
    {
      "cell_type": "code",
      "execution_count": 167,
      "metadata": {},
      "outputs": [],
      "source": [
        "a.sort()\n",
        "a"
      ],
      "id": "24cafd0c"
    },
    {
      "cell_type": "code",
      "execution_count": 168,
      "metadata": {},
      "outputs": [],
      "source": [
        "a.sort(reverse=True)\n",
        "a"
      ],
      "id": "5d1d5f3f"
    },
    {
      "cell_type": "markdown",
      "metadata": {},
      "source": [
        "## 중첩리스트"
      ],
      "id": "9bbae206-eebf-43bb-bd4f-2531c9770102"
    },
    {
      "cell_type": "code",
      "execution_count": 169,
      "metadata": {},
      "outputs": [],
      "source": [
        "A=[[1,2,3],[4,5,6],[7,8,9]]\n",
        "A"
      ],
      "id": "52ad4e04"
    },
    {
      "cell_type": "markdown",
      "metadata": {},
      "source": [
        "`-` A는 아래와 같은 매트릭스로 이해할 수 있다.\n",
        "\n",
        "\\$"
      ],
      "id": "66e205e6-ab2e-4632-9d49-281d6dbead3f"
    },
    {
      "cell_type": "raw",
      "metadata": {
        "raw_mimetype": "tex"
      },
      "source": [
        "\\begin{bmatrix}\n",
        "1 & 2 & 3 \\\\\n",
        "4 & 5 & 6 \\\\\n",
        "7 & 8 & 9 \n",
        "\\end{bmatrix}"
      ],
      "id": "ba398d79-8c9e-4689-a01e-7a4cbe961525"
    },
    {
      "cell_type": "markdown",
      "metadata": {},
      "source": [
        "\\$\n",
        "\n",
        "`-` A에서 (2,1)의 원소를 뽑고 싶다. = 1을 뽑고싶다."
      ],
      "id": "0f32a5e3-1544-474c-bd67-0c47d57efaec"
    },
    {
      "cell_type": "code",
      "execution_count": 173,
      "metadata": {},
      "outputs": [],
      "source": [
        "A[1,0]"
      ],
      "id": "1925a368"
    },
    {
      "cell_type": "markdown",
      "metadata": {},
      "source": [
        "-   실패"
      ],
      "id": "c8f6a5d6-e3f1-4ae4-8f4f-34fe1b4cf6e0"
    },
    {
      "cell_type": "code",
      "execution_count": 174,
      "metadata": {},
      "outputs": [],
      "source": [
        "A[1][0]"
      ],
      "id": "43b26e3c"
    },
    {
      "cell_type": "markdown",
      "metadata": {},
      "source": [
        "-   성공\n",
        "\n",
        "성고의 이유를 분석해 보자."
      ],
      "id": "8b9a69a1-b248-4a9c-b96c-80da265ad7b6"
    },
    {
      "cell_type": "code",
      "execution_count": 175,
      "metadata": {},
      "outputs": [],
      "source": [
        "A[0]"
      ],
      "id": "1d011fc0"
    },
    {
      "cell_type": "code",
      "execution_count": 176,
      "metadata": {},
      "outputs": [],
      "source": [
        "A[0][0]"
      ],
      "id": "eeb236b2"
    },
    {
      "cell_type": "markdown",
      "metadata": {},
      "source": [
        "`-` 매트릭스는 아니지만 매트릭스 같음! - 1차원 배열을 다차원 배열로\n",
        "확장할 수 있는 기본 아이디어를 제공함\n",
        "\n",
        "## 리스트컴프리헨션 (★★★)\n",
        "\n",
        "`-` 리스트 컴프리헨션을 이해하기 전에 for문에 대하여 알아보자.\n",
        "\n",
        "\\[예비학습\\] `for`문 벼락치기\n",
        "\n",
        "프로그램안에서 반복해서 무언가를 하고싶다 $\\to$ for"
      ],
      "id": "36134d14-a4d7-4572-96f6-5baf79b64988"
    },
    {
      "cell_type": "code",
      "execution_count": 177,
      "metadata": {},
      "outputs": [
        {
          "output_type": "stream",
          "name": "stdout",
          "text": [
            "0\n",
            "1\n",
            "2\n",
            "3"
          ]
        }
      ],
      "source": [
        "for i in [0,1,2,3]:   # 반복실행계획\n",
        "    print(i)          # 반복실행내용, 탭을 이용하여 들여쓰기 해야한다. "
      ],
      "id": "f909e8ee"
    },
    {
      "cell_type": "markdown",
      "metadata": {},
      "source": [
        "(예제) 1,2,3,4의 합을 for문을 이용하여 구해보자."
      ],
      "id": "39aa3a53-d122-4112-906b-df5fe7b4e795"
    },
    {
      "cell_type": "code",
      "execution_count": 179,
      "metadata": {},
      "outputs": [],
      "source": [
        "_sum = 0\n",
        "for i in [1,2,3,4]:\n",
        "    _sum = _sum + i\n"
      ],
      "id": "404a8e34"
    },
    {
      "cell_type": "code",
      "execution_count": 180,
      "metadata": {},
      "outputs": [],
      "source": [
        "_sum"
      ],
      "id": "7de5922b"
    },
    {
      "cell_type": "markdown",
      "metadata": {},
      "source": [
        "`-` 예제: \\$ 2^0, 2^1, 2^2, 2^3\\$ 를 원소로 가지는 리스트를 생성\n",
        "\n",
        "(풀이1)"
      ],
      "id": "4eed6d8d-6fd8-46b8-a7b7-604617d3a317"
    },
    {
      "cell_type": "code",
      "execution_count": 182,
      "metadata": {},
      "outputs": [],
      "source": [
        "x=[2**0, 2**1, 2**2, 2**3]    ## 2의 0승\n",
        "x"
      ],
      "id": "53653d2d"
    },
    {
      "cell_type": "markdown",
      "metadata": {},
      "source": [
        "(풀이2) for문을 이용"
      ],
      "id": "84ad3af3-e4b4-4c25-8462-68945d489282"
    },
    {
      "cell_type": "code",
      "execution_count": 183,
      "metadata": {},
      "outputs": [],
      "source": [
        "x=[]\n",
        "for i in [0,1,2,3]:\n",
        "    x.append(2**i)  "
      ],
      "id": "7aa8ece0"
    },
    {
      "cell_type": "code",
      "execution_count": 184,
      "metadata": {},
      "outputs": [],
      "source": [
        "x"
      ],
      "id": "a5c80edd"
    },
    {
      "cell_type": "markdown",
      "metadata": {},
      "source": [
        "(풀이3) for문을 이용"
      ],
      "id": "c94ee3c9-14c9-4ee7-a99b-d895e1242bad"
    },
    {
      "cell_type": "code",
      "execution_count": 185,
      "metadata": {},
      "outputs": [],
      "source": [
        "x=[]\n",
        "for i in [0,1,2,3]:\n",
        "    x= x+[2**i]\n",
        "x"
      ],
      "id": "58d3e5c9"
    },
    {
      "cell_type": "markdown",
      "metadata": {},
      "source": [
        "(풀이4) for문을 이용"
      ],
      "id": "6c13aa2e-943b-4c0a-9e8e-be8def390794"
    },
    {
      "cell_type": "code",
      "execution_count": 187,
      "metadata": {},
      "outputs": [],
      "source": [
        "x=[]\n",
        "for i in [0,1,2,3]:\n",
        "    x+= [2**i]\n",
        "x(풀이2) for문을 이용"
      ],
      "id": "11ad7828"
    },
    {
      "cell_type": "markdown",
      "metadata": {},
      "source": [
        "(풀이5) 리스트컴프리헨션을 이용한 풀이"
      ],
      "id": "2051913c-5af8-4742-8a3e-5ff274a3ff84"
    },
    {
      "cell_type": "code",
      "execution_count": 188,
      "metadata": {},
      "outputs": [],
      "source": [
        "x= [2**i for i in [0,1,2,3]]\n",
        "x"
      ],
      "id": "7e06aa78"
    },
    {
      "cell_type": "markdown",
      "metadata": {},
      "source": [
        "`-` 리스트컴프리헨션의 문법 암기방법 - 집합에서 조건제시법을 연상 -\n",
        "원소나열법, 조건제시법 -\n",
        "$\\{2^0, 2^1, 2^2, 2^3\\} = \\{2^i: \\text{for} i \\in \\{0,1,2,3\\}$\n",
        "\n",
        "`-` 리스트컴프리헨션이란? - 리스트를 매우 효율적으로 만드는 테크닉 -\n",
        "for문에 비하여 가지고 있는 장점 : 1. 코드가 간결하다. 2, 빠르다\n",
        "\n",
        "`-` 예제: 리스트 컴프리헨션을 이용하여 아래와 같은 리스트를 만들자."
      ],
      "id": "ab7f904f-572e-4555-82f0-f00138c6d95b"
    },
    {
      "cell_type": "code",
      "execution_count": 189,
      "metadata": {},
      "outputs": [],
      "source": [
        "['SSSS','PPPP','AAAA','MMMM']"
      ],
      "id": "0a7bcc76"
    },
    {
      "cell_type": "markdown",
      "metadata": {},
      "source": [
        "(풀이)"
      ],
      "id": "bbdda348-5d0d-4921-a6e5-41e2aa1e7368"
    },
    {
      "cell_type": "code",
      "execution_count": 190,
      "metadata": {},
      "outputs": [],
      "source": [
        "[i*4 for i in 'SPAM']"
      ],
      "id": "e3753dd7"
    },
    {
      "cell_type": "markdown",
      "metadata": {},
      "source": [
        "`-` 예제: 리스트 컴프리헨션을 이용하여 아래와 같은 리스트를 만들자.\n",
        "\n",
        "`-` 예제: 리스트 컴프리헨션을 이용하여 아래와 같은 리스트를 만들자."
      ],
      "id": "ec9f6a54-8a14-4c3a-b97b-6e0a81686ad8"
    },
    {
      "cell_type": "code",
      "execution_count": 191,
      "metadata": {},
      "outputs": [],
      "source": [
        "['X1','X2','X3','Y1','Y2','Y3']"
      ],
      "id": "efa21f16"
    },
    {
      "cell_type": "markdown",
      "metadata": {},
      "source": [
        "(풀이)"
      ],
      "id": "14154f18-b6c6-410d-bb88-d36b95be3f40"
    },
    {
      "cell_type": "code",
      "execution_count": 194,
      "metadata": {},
      "outputs": [
        {
          "output_type": "stream",
          "name": "stdout",
          "text": [
            "X1\n",
            "X2\n",
            "X3\n",
            "Y1\n",
            "Y2\n",
            "Y3"
          ]
        }
      ],
      "source": [
        "for i in 'XY':\n",
        "    for j in '123':\n",
        "        print(i+j)"
      ],
      "id": "993432bb"
    },
    {
      "cell_type": "code",
      "execution_count": 195,
      "metadata": {},
      "outputs": [],
      "source": [
        "[i+j for i in 'XY' for j in '123']"
      ],
      "id": "f96a27f9"
    },
    {
      "cell_type": "markdown",
      "metadata": {},
      "source": [
        "`-` 예제: 리스트 컴프리헨션을 이용하여 통계1,,..,통계5,수학1,…,수학5를\n",
        "만들어라\n",
        "\n",
        "(풀이)"
      ],
      "id": "91420044-cf07-4b83-b899-eeeb985be127"
    },
    {
      "cell_type": "code",
      "execution_count": 199,
      "metadata": {},
      "outputs": [],
      "source": [
        "[i+j for i in ['stat', 'math'] for j in '12345']"
      ],
      "id": "da3fc5aa"
    },
    {
      "cell_type": "markdown",
      "metadata": {},
      "source": [
        "(다른풀이) 참고로 for문을 쓰면 좀 복잡해진다."
      ],
      "id": "b3aa6e8e-102e-4e8b-ba5b-e74268cee7bd"
    },
    {
      "cell_type": "code",
      "execution_count": 201,
      "metadata": {},
      "outputs": [],
      "source": [
        "_lst=[]\n",
        "for x in ['stat', 'math']:\n",
        "    for y in '12345':\n",
        "        _lst = _lst + [x+y]"
      ],
      "id": "be501f9a"
    },
    {
      "cell_type": "code",
      "execution_count": 202,
      "metadata": {},
      "outputs": [],
      "source": [
        "_lst"
      ],
      "id": "bd864a3a"
    },
    {
      "cell_type": "markdown",
      "metadata": {},
      "source": [
        "`-` 예제: ’jbnu’를 이용하여 아래와 같은 리스트르 만들어라."
      ],
      "id": "a0ab7da7-ce04-4030-839e-7d936454bbe1"
    },
    {
      "cell_type": "code",
      "execution_count": 205,
      "metadata": {},
      "outputs": [],
      "source": [
        "['j','b','n','u']"
      ],
      "id": "aea63ead"
    },
    {
      "cell_type": "code",
      "execution_count": 206,
      "metadata": {},
      "outputs": [],
      "source": [
        "list('jbnu')"
      ],
      "id": "80f634ea"
    },
    {
      "cell_type": "markdown",
      "metadata": {},
      "source": [
        "(풀이)"
      ],
      "id": "b79e01fa-3405-49e5-810b-3d2d3d1f56af"
    },
    {
      "cell_type": "code",
      "execution_count": 207,
      "metadata": {},
      "outputs": [],
      "source": [
        "[x for x in 'jbnu']"
      ],
      "id": "afc47ef7"
    },
    {
      "cell_type": "markdown",
      "metadata": {},
      "source": [
        "`-`예제: x에는 무엇이 있을까?\n",
        "\n",
        "(경우1)"
      ],
      "id": "e2207ca3-578b-4cfc-9d6c-8cdba58a47a6"
    },
    {
      "cell_type": "code",
      "execution_count": 209,
      "metadata": {},
      "outputs": [],
      "source": [
        "x=1\n",
        "lst=[]\n",
        "for x in 'jbnu':\n",
        "    lst = lst + [x]"
      ],
      "id": "2e61d83c"
    },
    {
      "cell_type": "code",
      "execution_count": 210,
      "metadata": {},
      "outputs": [],
      "source": [
        "lst"
      ],
      "id": "85c2df4b"
    },
    {
      "cell_type": "code",
      "execution_count": 211,
      "metadata": {},
      "outputs": [],
      "source": [
        "x"
      ],
      "id": "063e488d"
    },
    {
      "cell_type": "markdown",
      "metadata": {},
      "source": [
        "(경우2)"
      ],
      "id": "6aa28d14-503d-46b3-a705-ac6a463b1dd5"
    },
    {
      "cell_type": "code",
      "execution_count": 212,
      "metadata": {},
      "outputs": [],
      "source": [
        "x=1\n",
        "lst = [x for x in 'jbnu']\n",
        "lst"
      ],
      "id": "92790a34"
    },
    {
      "cell_type": "code",
      "execution_count": 213,
      "metadata": {},
      "outputs": [],
      "source": [
        "x"
      ],
      "id": "88d42ec3"
    },
    {
      "cell_type": "markdown",
      "metadata": {},
      "source": [
        "`-` 예제: \\[X1,X2,X3,…,X100\\]과 같은 리스트를 만들어보자.\n",
        "\n",
        "(풀이)"
      ],
      "id": "d4b1f486-c7b7-4427-9c35-ba9b6426d20a"
    },
    {
      "cell_type": "code",
      "execution_count": 220,
      "metadata": {},
      "outputs": [],
      "source": [
        "['X'+str(i) for i in [1,2,3,4]]"
      ],
      "id": "6821fb47"
    },
    {
      "cell_type": "code",
      "execution_count": 223,
      "metadata": {},
      "outputs": [],
      "source": [
        "['X'+str(i) for i in [1:100]]   #오류!!"
      ],
      "id": "73955903"
    },
    {
      "cell_type": "markdown",
      "metadata": {},
      "source": [
        "\\[예비학습\\]"
      ],
      "id": "2e33b2fe-1a7f-4eca-b415-83e41b3078f3"
    },
    {
      "cell_type": "code",
      "execution_count": 222,
      "metadata": {},
      "outputs": [],
      "source": [
        "range(0,10)"
      ],
      "id": "073f1969"
    },
    {
      "cell_type": "code",
      "execution_count": 224,
      "metadata": {},
      "outputs": [],
      "source": [
        "_tmp = range(0,10)"
      ],
      "id": "5781a3fc"
    },
    {
      "cell_type": "code",
      "execution_count": 225,
      "metadata": {},
      "outputs": [],
      "source": [
        "type(_tmp)"
      ],
      "id": "3e58cd48"
    },
    {
      "cell_type": "code",
      "execution_count": 226,
      "metadata": {},
      "outputs": [],
      "source": [
        "list(_tmp)"
      ],
      "id": "80282154"
    },
    {
      "cell_type": "code",
      "execution_count": 228,
      "metadata": {},
      "outputs": [],
      "source": [
        "list(range(0,10)) #0을 포함, 10을 미포함"
      ],
      "id": "740dab7f"
    },
    {
      "cell_type": "markdown",
      "metadata": {},
      "source": [
        "-   이게 중요한 것. range(0,10)을 리스트화시키면 \\[0,1,2,…,9\\]와\n",
        "    같은기능을 얻을 수 있다."
      ],
      "id": "99363d97-853c-4673-a964-cc691145a9de"
    },
    {
      "cell_type": "code",
      "execution_count": 229,
      "metadata": {},
      "outputs": [],
      "source": [
        "list(range(10))  # 0은 생략가능"
      ],
      "id": "28463925"
    },
    {
      "cell_type": "code",
      "execution_count": 230,
      "metadata": {},
      "outputs": [],
      "source": [
        "list(range(2,10))  # 2는 포함, 10은 미포함"
      ],
      "id": "f14ddf31"
    },
    {
      "cell_type": "code",
      "execution_count": 231,
      "metadata": {},
      "outputs": [],
      "source": [
        "list(range(1,10,2))  # 2칸씩! "
      ],
      "id": "d7f84894"
    },
    {
      "cell_type": "markdown",
      "metadata": {},
      "source": [
        "예비학습 끝"
      ],
      "id": "53965bcd-7351-4b0a-84bd-994c237175df"
    },
    {
      "cell_type": "code",
      "execution_count": 232,
      "metadata": {
        "scrolled": true
      },
      "outputs": [],
      "source": [
        "['X'+str(i) for i in list(range(1,101))]  # 세로로 넘 길엉 "
      ],
      "id": "b62ad8e2"
    },
    {
      "cell_type": "markdown",
      "metadata": {},
      "source": [
        "(아래와 같은 풀이도 가능)"
      ],
      "id": "07021013-8fec-4f84-92c3-5a1d35a0af13"
    },
    {
      "cell_type": "code",
      "execution_count": 233,
      "metadata": {},
      "outputs": [],
      "source": [
        "['X'+str(i) for i in range(1,13)]  # 리스트화해주지 않아도 가능 for i in 뒤에 list뿐 아니라.. str도 되고... "
      ],
      "id": "4d1ec1e8"
    },
    {
      "cell_type": "markdown",
      "metadata": {},
      "source": [
        "(딴생각) for문 뒤에 올 수 있는 것이 무엇인지 생각해보자."
      ],
      "id": "71af4647-adb3-41e5-8cf0-a301840b6be3"
    },
    {
      "cell_type": "code",
      "execution_count": 234,
      "metadata": {},
      "outputs": [
        {
          "output_type": "stream",
          "name": "stdout",
          "text": [
            "1\n",
            "2\n",
            "3\n",
            "4"
          ]
        }
      ],
      "source": [
        "for i in '1234':\n",
        "    print(i)"
      ],
      "id": "c9aec8d3"
    },
    {
      "cell_type": "code",
      "execution_count": 235,
      "metadata": {},
      "outputs": [
        {
          "output_type": "stream",
          "name": "stdout",
          "text": [
            "1\n",
            "2\n",
            "3\n",
            "4"
          ]
        }
      ],
      "source": [
        "for i in [1,2,3,4]:\n",
        "    print(i)"
      ],
      "id": "d08c50e6"
    },
    {
      "cell_type": "code",
      "execution_count": 236,
      "metadata": {},
      "outputs": [
        {
          "output_type": "stream",
          "name": "stdout",
          "text": [
            "1\n",
            "2\n",
            "3\n",
            "4"
          ]
        }
      ],
      "source": [
        "for i in (1,2,3,4):   # 튜플\n",
        "    print(i)"
      ],
      "id": "27a511a8"
    },
    {
      "cell_type": "code",
      "execution_count": 237,
      "metadata": {},
      "outputs": [
        {
          "output_type": "stream",
          "name": "stdout",
          "text": [
            "1\n",
            "2\n",
            "3\n",
            "4"
          ]
        }
      ],
      "source": [
        "for i in {1,2,3,4}: # set\n",
        "    print(i)"
      ],
      "id": "9d7777d2"
    },
    {
      "cell_type": "code",
      "execution_count": 238,
      "metadata": {},
      "outputs": [
        {
          "output_type": "stream",
          "name": "stdout",
          "text": [
            "name\n",
            "age"
          ]
        }
      ],
      "source": [
        "for i in {'name':'iu','age':31}:   # 딕셔너리\n",
        "    print(i)"
      ],
      "id": "067c4ef7"
    },
    {
      "cell_type": "code",
      "execution_count": 240,
      "metadata": {},
      "outputs": [
        {
          "output_type": "stream",
          "name": "stdout",
          "text": [
            "1\n",
            "2\n",
            "3\n",
            "4"
          ]
        }
      ],
      "source": [
        "for i in range(1,5):\n",
        "    print(i)"
      ],
      "id": "022f7b39"
    },
    {
      "cell_type": "markdown",
      "metadata": {},
      "source": [
        "(숙제)\n",
        "\n",
        "리스트컴프리헨션을 이용하여 아래와 같은 리스트를 만들어라\n",
        "\n",
        "\\[‘X1’,‘X2X2’,‘X3X3X3’,‘X4X4X4X4’,‘X5X5X5X5X5’\\]"
      ],
      "id": "1f3f4182-904f-4ea1-b761-ca59bb7e2b8d"
    },
    {
      "cell_type": "code",
      "execution_count": 246,
      "metadata": {},
      "outputs": [],
      "source": [
        "[('X'+str(i))*i for i in range(1,6)]"
      ],
      "id": "9cfbc5c0"
    }
  ],
  "nbformat": 4,
  "nbformat_minor": 5,
  "metadata": {
    "kernelspec": {
      "name": "python3",
      "display_name": "Python 3",
      "language": "python"
    },
    "language_info": {
      "name": "python",
      "codemirror_mode": {
        "name": "ipython",
        "version": "3"
      },
      "file_extension": ".py",
      "mimetype": "text/x-python",
      "nbconvert_exporter": "python",
      "pygments_lexer": "ipython3",
      "version": "3.7.16"
    },
    "toc": {
      "base_numbering": "1",
      "nav_menu": {},
      "number_sections": true,
      "sideBar": true,
      "skip_h1_title": false,
      "title_cell": "Table of Contents",
      "title_sidebar": "Contents",
      "toc_cell": false,
      "toc_position": {},
      "toc_section_display": true,
      "toc_window_display": false
    }
  }
}