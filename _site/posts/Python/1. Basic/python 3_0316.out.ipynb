{
  "cells": [
    {
      "cell_type": "markdown",
      "metadata": {},
      "source": [
        "# 파이썬 (0316) 3주차\n",
        "\n",
        "김보람  \n",
        "2022-03-16\n",
        "\n",
        "# 튜플\n",
        "\n",
        "## 리스트 vs 튜플\n",
        "\n",
        "`-` 컨테이너형타입이라는 점, 그리고 연산 및 인덱싱을 하는 방법은\n",
        "리스트와 같음\n",
        "\n",
        "-   차이점1: \\[\\] 대신에 ()를 사용\n",
        "\n",
        "-   차이점2: 불변형이다. (원소의 값을 바꿀 수 없음)\n",
        "\n",
        "-   차이점3: 하나의 원소를 선언할 때는 (1,)와 같이 해야 한다.\n",
        "\n",
        "-   차이점4: 의미가 명확할때는 튜플의 ()를 생략가능하다.\n",
        "\n",
        "컨테이너형이라는 것이 무슨의미?"
      ],
      "id": "381f8f59-7d96-4a5e-9096-f51bd187ad82"
    },
    {
      "cell_type": "code",
      "execution_count": 1,
      "metadata": {},
      "outputs": [],
      "source": [
        "a=(4,6,'pencil',3.2+4.6j,[3,4])"
      ],
      "id": "b0626ca5"
    },
    {
      "cell_type": "code",
      "execution_count": 3,
      "metadata": {},
      "outputs": [],
      "source": [
        "type(a[3])"
      ],
      "id": "8f8636a3"
    },
    {
      "cell_type": "code",
      "execution_count": 4,
      "metadata": {},
      "outputs": [],
      "source": [
        "type(a[2])"
      ],
      "id": "7de5d787"
    },
    {
      "cell_type": "markdown",
      "metadata": {},
      "source": [
        "`-` 불변형이라는 것은 무슨 의미?"
      ],
      "id": "4d3a046b-810a-4388-a81d-ef0ff16d9fe4"
    },
    {
      "cell_type": "code",
      "execution_count": 5,
      "metadata": {},
      "outputs": [],
      "source": [
        "a[2] = 'Pencil'"
      ],
      "id": "55756f5d"
    },
    {
      "cell_type": "markdown",
      "metadata": {},
      "source": [
        "참고로 a를 튜플이 아니라 리스트로 선언하면 값이 잘 바뀐다.\n",
        "\n",
        "`-` 하나의 원소로 이루어진 튜플을 만들때는 쉼표를 붙여야함"
      ],
      "id": "eef0f2f8-2877-49de-93f6-4d518821d844"
    },
    {
      "cell_type": "code",
      "execution_count": 6,
      "metadata": {},
      "outputs": [],
      "source": [
        "[1]+[2,3,4]"
      ],
      "id": "2d3ecb5c"
    },
    {
      "cell_type": "code",
      "execution_count": 7,
      "metadata": {},
      "outputs": [],
      "source": [
        "(1)+(2,3,4)   # int형+tuple형 이므로 계산 불가 "
      ],
      "id": "a7c36bae"
    },
    {
      "cell_type": "code",
      "execution_count": 8,
      "metadata": {},
      "outputs": [],
      "source": [
        "type(1)"
      ],
      "id": "3cb8e6e1"
    },
    {
      "cell_type": "code",
      "execution_count": 9,
      "metadata": {},
      "outputs": [],
      "source": [
        "(1,)+(2,3,4)"
      ],
      "id": "bcf9f936"
    },
    {
      "cell_type": "markdown",
      "metadata": {},
      "source": [
        "`-` 마지막차이점! 의미가 명확할때 튜플의 괄호는 생략가능하다. (중요)"
      ],
      "id": "f1bacb7c-8a9c-4689-bd58-95906af77045"
    },
    {
      "cell_type": "code",
      "execution_count": 10,
      "metadata": {},
      "outputs": [],
      "source": [
        "a=(1,2)\n",
        "a"
      ],
      "id": "741fc94a"
    },
    {
      "cell_type": "markdown",
      "metadata": {},
      "source": [
        "의미가 명확할때 생략해야함"
      ],
      "id": "f257086e-3567-4939-b75e-7f292255aee3"
    },
    {
      "cell_type": "code",
      "execution_count": 12,
      "metadata": {},
      "outputs": [],
      "source": [
        "1,2 + 3,4,5"
      ],
      "id": "17cf209f"
    },
    {
      "cell_type": "code",
      "execution_count": 13,
      "metadata": {},
      "outputs": [],
      "source": [
        "(1,2)+(3,4,5)"
      ],
      "id": "53b0d517"
    },
    {
      "cell_type": "markdown",
      "metadata": {},
      "source": [
        "## 선언\n",
        "\n",
        "`-` 소괄호를 이용"
      ],
      "id": "2c3c39d3-37fa-45db-b830-49b212e3fd2d"
    },
    {
      "cell_type": "code",
      "execution_count": 14,
      "metadata": {},
      "outputs": [],
      "source": [
        "a=(1,2,3)\n",
        "a"
      ],
      "id": "5b523cbc"
    },
    {
      "cell_type": "code",
      "execution_count": 15,
      "metadata": {},
      "outputs": [],
      "source": [
        "type(a)"
      ],
      "id": "23e1f5cf"
    },
    {
      "cell_type": "markdown",
      "metadata": {},
      "source": [
        "`-` 생략가능하다는 점이 포인트"
      ],
      "id": "14d5f89d-2303-48e0-a717-edc3d95c0285"
    },
    {
      "cell_type": "code",
      "execution_count": 16,
      "metadata": {},
      "outputs": [],
      "source": [
        "a=1,2,3\n",
        "a"
      ],
      "id": "3378c507"
    },
    {
      "cell_type": "code",
      "execution_count": 17,
      "metadata": {},
      "outputs": [],
      "source": [
        "type(a)"
      ],
      "id": "d2e1eca2"
    },
    {
      "cell_type": "markdown",
      "metadata": {},
      "source": [
        "`-` 원소가 하나인 튜플을 만들고 싶다면?"
      ],
      "id": "1f64240f-40bb-4f87-9134-3129d0862379"
    },
    {
      "cell_type": "code",
      "execution_count": 18,
      "metadata": {},
      "outputs": [],
      "source": [
        "a=(1,)\n",
        "a"
      ],
      "id": "118144d1"
    },
    {
      "cell_type": "markdown",
      "metadata": {},
      "source": [
        "## 연산\n",
        "\n",
        "`-` 리스트와 동일"
      ],
      "id": "ee2c0d24-b0b9-48bb-bbc9-7748dae5e4aa"
    },
    {
      "cell_type": "code",
      "execution_count": 19,
      "metadata": {},
      "outputs": [],
      "source": [
        "(1,2)+(3,4,5)"
      ],
      "id": "b1f57c13"
    },
    {
      "cell_type": "code",
      "execution_count": 20,
      "metadata": {},
      "outputs": [],
      "source": [
        "(1,2)*2"
      ],
      "id": "17fbb112"
    },
    {
      "cell_type": "markdown",
      "metadata": {},
      "source": [
        "## 인덱싱\n",
        "\n",
        "`-` 리스트와 동일"
      ],
      "id": "c8802398-b5a1-4aba-a16e-49069590951b"
    },
    {
      "cell_type": "code",
      "execution_count": 21,
      "metadata": {},
      "outputs": [],
      "source": [
        "a=(1,2,3,-4,-5)\n",
        "a"
      ],
      "id": "93261374"
    },
    {
      "cell_type": "code",
      "execution_count": 22,
      "metadata": {},
      "outputs": [],
      "source": [
        "a[-1]"
      ],
      "id": "2d73cd2f"
    },
    {
      "cell_type": "code",
      "execution_count": 23,
      "metadata": {},
      "outputs": [],
      "source": [
        "a[-3:]"
      ],
      "id": "2ad9ba68"
    },
    {
      "cell_type": "markdown",
      "metadata": {},
      "source": [
        "## 튜플고급\n",
        "\n",
        "### 튜플은 왜 불변함으로 만들었을까?\n",
        "\n",
        "-   책의설명: 실수로 값이 변경되는 것을 방지할 수 있다.\n",
        "-   shaaly copy / deep copy 를 막을 수 있는 무기\n",
        "\n",
        "### 튜플을 슬기롭게 사용하는 방법 (★★★★★)\n",
        "\n",
        "`-` 예제: 여러변수를 동시에 출력하고 싶을 경우 (다중출력?)\n",
        "\n",
        "변수를 아래와 같이 선언하였다고 하자."
      ],
      "id": "599abb1e-3893-4c44-8098-a0b8b179eebe"
    },
    {
      "cell_type": "code",
      "execution_count": 24,
      "metadata": {},
      "outputs": [],
      "source": [
        "a=1\n",
        "b=2\n",
        "c=3"
      ],
      "id": "dd5bafbb"
    },
    {
      "cell_type": "markdown",
      "metadata": {},
      "source": [
        "선언된 값을 확인하려면?"
      ],
      "id": "d0fa680c-85da-44d7-8660-bc75ec25818e"
    },
    {
      "cell_type": "code",
      "execution_count": 25,
      "metadata": {},
      "outputs": [],
      "source": [
        "a"
      ],
      "id": "a09889aa"
    },
    {
      "cell_type": "code",
      "execution_count": 26,
      "metadata": {},
      "outputs": [],
      "source": [
        "b"
      ],
      "id": "124bd1fd"
    },
    {
      "cell_type": "code",
      "execution_count": 27,
      "metadata": {},
      "outputs": [],
      "source": [
        "c"
      ],
      "id": "9b9b3a79"
    },
    {
      "cell_type": "markdown",
      "metadata": {},
      "source": [
        "튜플을 이용하면?"
      ],
      "id": "4f24f138-9250-436a-a6b2-878c1a5acf2e"
    },
    {
      "cell_type": "code",
      "execution_count": 28,
      "metadata": {},
      "outputs": [],
      "source": [
        "a,b,c #괄호하나 생략하는 것이 편함"
      ],
      "id": "e21573e3"
    },
    {
      "cell_type": "markdown",
      "metadata": {},
      "source": [
        "`-` 예제: 다중할당1 (여러개의 변수를 동시에 선언하고 싶을 경우)"
      ],
      "id": "fa339f8d-5b4a-4b44-8a5d-3573fcc05c29"
    },
    {
      "cell_type": "code",
      "execution_count": 29,
      "metadata": {},
      "outputs": [],
      "source": [
        "name, age, sex, height, weight = 'Tom', 20, 'M', 180, 70"
      ],
      "id": "580bad5c"
    },
    {
      "cell_type": "code",
      "execution_count": 31,
      "metadata": {},
      "outputs": [],
      "source": [
        "name, age, sex, height, weight"
      ],
      "id": "784b24a1"
    },
    {
      "cell_type": "code",
      "execution_count": 32,
      "metadata": {},
      "outputs": [],
      "source": [
        "height"
      ],
      "id": "cf3346de"
    },
    {
      "cell_type": "markdown",
      "metadata": {},
      "source": [
        "`-` 예제: 다중할당2, 위도와 경도"
      ],
      "id": "99fcf3d2-fc42-438c-b1e8-97e0cb2615d7"
    },
    {
      "cell_type": "code",
      "execution_count": 34,
      "metadata": {},
      "outputs": [],
      "source": [
        "coor = (37,127) #서울\n",
        "coor"
      ],
      "id": "7e700b36"
    },
    {
      "cell_type": "code",
      "execution_count": 35,
      "metadata": {},
      "outputs": [],
      "source": [
        "lat, long = coor   # (왼쪽) 가로가 생략된 튜플 "
      ],
      "id": "1a045e7a"
    },
    {
      "cell_type": "code",
      "execution_count": 36,
      "metadata": {},
      "outputs": [],
      "source": [
        "lat"
      ],
      "id": "ee27b300"
    },
    {
      "cell_type": "code",
      "execution_count": 37,
      "metadata": {},
      "outputs": [],
      "source": [
        "long"
      ],
      "id": "ba3495c9"
    },
    {
      "cell_type": "markdown",
      "metadata": {},
      "source": [
        "`-` 잠깐만: 다중할당은 꼭 튜플에서만 가능한가?"
      ],
      "id": "8ccfe90e-615d-41e7-a871-2a61282f61dd"
    },
    {
      "cell_type": "code",
      "execution_count": 44,
      "metadata": {},
      "outputs": [],
      "source": [
        "[x,y,z] = [1,2,3]\n",
        "x,y,z # 다중출력"
      ],
      "id": "aaec2d0a"
    },
    {
      "cell_type": "code",
      "execution_count": 45,
      "metadata": {},
      "outputs": [],
      "source": [
        "[x,y] = 'hi'\n",
        "x,y"
      ],
      "id": "ade8dfc4"
    },
    {
      "cell_type": "markdown",
      "metadata": {},
      "source": [
        "튜플과 같이 사용하면 가독성이 극대화 (그래서 다중할당은 거의 튜플과\n",
        "세트로 사용함)"
      ],
      "id": "fc5db96d-ee6e-4a0c-b9fa-c3b90f029d0a"
    },
    {
      "cell_type": "code",
      "execution_count": 46,
      "metadata": {},
      "outputs": [],
      "source": [
        "x,y,z=1,2,3\n",
        "x,y,z"
      ],
      "id": "e3dee7c7"
    },
    {
      "cell_type": "markdown",
      "metadata": {},
      "source": [
        "`-` 예제: 임시변수 사용없이 두 변수의 값을 교환"
      ],
      "id": "acc3ed14-486c-4d4b-826c-fde451238403"
    },
    {
      "cell_type": "code",
      "execution_count": 38,
      "metadata": {},
      "outputs": [],
      "source": [
        "a=10\n",
        "b=20"
      ],
      "id": "c41307eb"
    },
    {
      "cell_type": "code",
      "execution_count": 39,
      "metadata": {},
      "outputs": [],
      "source": [
        "a,b= b,a"
      ],
      "id": "c67f8a18"
    },
    {
      "cell_type": "code",
      "execution_count": 40,
      "metadata": {},
      "outputs": [],
      "source": [
        "a"
      ],
      "id": "86cf3aa1"
    },
    {
      "cell_type": "code",
      "execution_count": 42,
      "metadata": {},
      "outputs": [],
      "source": [
        "b"
      ],
      "id": "e2511ea2"
    },
    {
      "cell_type": "markdown",
      "metadata": {},
      "source": [
        "`-` 예제: for문과 튜플"
      ],
      "id": "f404095f-330f-479c-a8b7-de9930b955e3"
    },
    {
      "cell_type": "code",
      "execution_count": 49,
      "metadata": {},
      "outputs": [],
      "source": [
        "lst = [['boram', 202212345, 'F'],\n",
        "      ['iu',202212365,'F'],\n",
        "      ['hodong',202215323,'M']]\n",
        "lst"
      ],
      "id": "8be8945e"
    },
    {
      "cell_type": "code",
      "execution_count": 50,
      "metadata": {},
      "outputs": [
        {
          "output_type": "stream",
          "name": "stdout",
          "text": [
            "['boram', 202212345, 'F']\n",
            "['iu', 202212365, 'F']\n",
            "['hodong', 202215323, 'M']"
          ]
        }
      ],
      "source": [
        "for i in lst:\n",
        "    print(i)"
      ],
      "id": "01531799"
    },
    {
      "cell_type": "code",
      "execution_count": 51,
      "metadata": {},
      "outputs": [
        {
          "output_type": "stream",
          "name": "stdout",
          "text": [
            "boram\n",
            "iu\n",
            "hodong"
          ]
        }
      ],
      "source": [
        "for name, studentid, sex in lst:\n",
        "    print(name)"
      ],
      "id": "050bb0fe"
    },
    {
      "cell_type": "code",
      "execution_count": 52,
      "metadata": {},
      "outputs": [
        {
          "output_type": "stream",
          "name": "stdout",
          "text": [
            "boram F\n",
            "iu F\n",
            "hodong M"
          ]
        }
      ],
      "source": [
        "for name, studentid, sex in lst:\n",
        "    print(name, sex)"
      ],
      "id": "f668a276"
    },
    {
      "cell_type": "markdown",
      "metadata": {},
      "source": [
        "`-` 예제: for문과 튜플, dummy variable `_`"
      ],
      "id": "11539ddd-aa8a-4f27-af96-b4d057b8cd86"
    },
    {
      "cell_type": "code",
      "execution_count": 53,
      "metadata": {},
      "outputs": [
        {
          "output_type": "stream",
          "name": "stdout",
          "text": [
            "boram\n",
            "iu\n",
            "hodong"
          ]
        }
      ],
      "source": [
        "for name, studentid, sex in lst:\n",
        "    print(name)"
      ],
      "id": "ea85fc87"
    },
    {
      "cell_type": "code",
      "execution_count": 54,
      "metadata": {},
      "outputs": [
        {
          "output_type": "stream",
          "name": "stdout",
          "text": [
            "boram\n",
            "iu\n",
            "hodong"
          ]
        }
      ],
      "source": [
        "for name, _, _ in lst:\n",
        "    print(name)   #name만 관심있으므로 그 외는 언더바를 통해 작성하는 편리함"
      ],
      "id": "c3b44ccc"
    },
    {
      "cell_type": "code",
      "execution_count": 55,
      "metadata": {},
      "outputs": [],
      "source": [
        "for name, _ in lst:\n",
        "    print(name)"
      ],
      "id": "aa63ee2d"
    },
    {
      "cell_type": "code",
      "execution_count": 56,
      "metadata": {},
      "outputs": [
        {
          "output_type": "stream",
          "name": "stdout",
          "text": [
            "boram\n",
            "iu\n",
            "hodong"
          ]
        }
      ],
      "source": [
        "for name, *args in lst:    #  *args 를 통해 위 오류 해결\n",
        "    print(name)"
      ],
      "id": "c8598d0b"
    },
    {
      "cell_type": "markdown",
      "metadata": {},
      "source": [
        "`-` 예제: 튜플과 언패킹연산자 `*`"
      ],
      "id": "346fc440-11f6-4332-a91e-a1428a8428ed"
    },
    {
      "cell_type": "code",
      "execution_count": 60,
      "metadata": {},
      "outputs": [],
      "source": [
        "head, body, *tail = range(1,11)\n",
        "head, body, tail"
      ],
      "id": "f922e4df"
    },
    {
      "cell_type": "code",
      "execution_count": 61,
      "metadata": {},
      "outputs": [],
      "source": [
        "head1, head2, *body, tail1, tail2, tail3 = range(1,11)\n",
        "head1, head2, body, tail1, tail2, tail3"
      ],
      "id": "d09e2e9b"
    },
    {
      "cell_type": "code",
      "execution_count": 62,
      "metadata": {},
      "outputs": [],
      "source": [
        "head1, *body, tail1, *tail2, *tail3 = range(1,11) #명확하지 않아서 오류남"
      ],
      "id": "93d60dfa"
    },
    {
      "cell_type": "code",
      "execution_count": 63,
      "metadata": {},
      "outputs": [],
      "source": [
        "*head, body, tail1, tail2, tail3 = range(1,11)\n",
        "head, body, tail1"
      ],
      "id": "a4add397"
    },
    {
      "cell_type": "markdown",
      "metadata": {},
      "source": [
        "(관찰)\n",
        "\n",
        "    head1, head2, body, tail1, tail2, tail3 = (1, 2, [3, 4, 5, 6, 7], 8, 9, 10)\n",
        "    head1, head3, *body, tail1, tail2, tail3 = (1,2, 3,4,5,6,7, 8, 9, 10) \n",
        "\n",
        "`*` 를 붙이면 1차원 자료구조가 풀린다!"
      ],
      "id": "69ef4ed3-b893-42b8-9b2b-0de87e7c6038"
    },
    {
      "cell_type": "code",
      "execution_count": 66,
      "metadata": {},
      "outputs": [],
      "source": [
        "*[1,2,3]"
      ],
      "id": "5018350b"
    },
    {
      "cell_type": "code",
      "execution_count": 67,
      "metadata": {},
      "outputs": [
        {
          "output_type": "stream",
          "name": "stdout",
          "text": [
            "[1, 2, 3]"
          ]
        }
      ],
      "source": [
        "print([1,2,3])"
      ],
      "id": "f85ef87f"
    },
    {
      "cell_type": "code",
      "execution_count": 69,
      "metadata": {},
      "outputs": [
        {
          "output_type": "stream",
          "name": "stdout",
          "text": [
            "1 2 3"
          ]
        }
      ],
      "source": [
        "print(*[1,2,3])   # 풀린다!!!"
      ],
      "id": "52a26b0f"
    },
    {
      "cell_type": "markdown",
      "metadata": {},
      "source": [
        "`-` 예제: 함수의 입력으로 `*args` 를 넣을때\n",
        "\n",
        "\\[예비학습\\] 함수 벼락치기"
      ],
      "id": "88ea3b0b-5955-4967-b79e-4aacd62e0d7e"
    },
    {
      "cell_type": "code",
      "execution_count": 70,
      "metadata": {},
      "outputs": [],
      "source": [
        "def myadd(a,b):\n",
        "    return a+b"
      ],
      "id": "26e0a080"
    },
    {
      "cell_type": "code",
      "execution_count": 72,
      "metadata": {},
      "outputs": [],
      "source": [
        "myadd(3,4)"
      ],
      "id": "a21b2547"
    },
    {
      "cell_type": "code",
      "execution_count": 73,
      "metadata": {},
      "outputs": [],
      "source": [
        "myadd(3,-3)"
      ],
      "id": "9855df17"
    },
    {
      "cell_type": "markdown",
      "metadata": {},
      "source": [
        "예제: 두 점 사이의 거리를 구하는 함수를 만들어 보자.\n",
        "\n",
        "점 $p=(p_x,p_y)$ 와 $q=(q_x,q_y)$의 거리는\n",
        "$\\sqrt{(p_x-q_x)^2, (p_y-q_y)^2}$이다. 이것을 계산하는 프로그램을 만들자"
      ],
      "id": "594f93b8-22c1-4b32-97ff-446f2d5041e5"
    },
    {
      "cell_type": "code",
      "execution_count": 75,
      "metadata": {},
      "outputs": [],
      "source": [
        "import numpy as np\n",
        "def dist(px,py,qx,qy):\n",
        "    return np.sqrt((px-qx)**2 + (py-qy)**2)"
      ],
      "id": "1b1cd8d9"
    },
    {
      "cell_type": "code",
      "execution_count": 76,
      "metadata": {},
      "outputs": [],
      "source": [
        "\n",
        "dist(0,3,4,0) # 헷갈려"
      ],
      "id": "d21d6b47"
    },
    {
      "cell_type": "code",
      "execution_count": 77,
      "metadata": {},
      "outputs": [],
      "source": [
        "p=(0,3)\n",
        "q=(4,0)\n",
        "dist(p,q)"
      ],
      "id": "c09698a6"
    },
    {
      "cell_type": "markdown",
      "metadata": {},
      "source": [
        "(방법1)"
      ],
      "id": "0ee77607-e558-4f91-ada4-b34a9aec1514"
    },
    {
      "cell_type": "code",
      "execution_count": 79,
      "metadata": {},
      "outputs": [],
      "source": [
        "px, py = p #또는(0,3)\n",
        "qx, qy = (4,0)\n",
        "dist(px,py,qx,qy)"
      ],
      "id": "ee47cc7e"
    },
    {
      "cell_type": "markdown",
      "metadata": {},
      "source": [
        "(방법2)"
      ],
      "id": "83c16846-68bb-4623-931b-7e5f44b63836"
    },
    {
      "cell_type": "code",
      "execution_count": 84,
      "metadata": {},
      "outputs": [],
      "source": [
        "def dist2(p, q):\n",
        "    px, py = p\n",
        "    qx, qy = q\n",
        "    return np.sqrt((px-qx)**2 + (py-qy)**2)\n",
        "\n",
        "\n",
        "#def dist2(p, q):\n",
        "#    px=p[0]\n",
        "#    py=p[1]\n",
        "#    qx=q[0]\n",
        "#    qy=q[1]\n",
        "#    return np.sqrt((px-qx)**2 + (py-qy)**2)"
      ],
      "id": "aa40df6c"
    },
    {
      "cell_type": "code",
      "execution_count": 85,
      "metadata": {},
      "outputs": [],
      "source": [
        "p=(0,3)\n",
        "q=(4,0)\n",
        "dist2(p,q)"
      ],
      "id": "494251ef"
    },
    {
      "cell_type": "markdown",
      "metadata": {},
      "source": [
        "(방법3)"
      ],
      "id": "37ac682e-0108-4e08-8bf7-a7e947ee15cb"
    },
    {
      "cell_type": "code",
      "execution_count": 86,
      "metadata": {},
      "outputs": [],
      "source": [
        "dist(*p, *q)    # 입력을 *(px,py), *(qx, qy) 형태로 넣기도 하고"
      ],
      "id": "994c4a14"
    },
    {
      "cell_type": "code",
      "execution_count": 87,
      "metadata": {},
      "outputs": [],
      "source": [
        "dist(px, py, qx, qy)  # 입력을 px,py,qx,qy 형태로 넣기도 하고"
      ],
      "id": "98ce9c5b"
    },
    {
      "cell_type": "markdown",
      "metadata": {},
      "source": [
        "(숙제) 원소로 자기학번을 포함하는 튜플을 만들기 (길이가 1인 튜플)"
      ],
      "id": "f9167469-c60e-4f3b-bf77-14edfcf79b94"
    },
    {
      "cell_type": "code",
      "execution_count": 89,
      "metadata": {},
      "outputs": [],
      "source": [
        "type((202250926,))"
      ],
      "id": "7e6a5ba7"
    },
    {
      "cell_type": "code",
      "execution_count": 90,
      "metadata": {},
      "outputs": [],
      "source": [
        "len((202250926,))"
      ],
      "id": "75ee0210"
    },
    {
      "cell_type": "code",
      "execution_count": null,
      "metadata": {},
      "outputs": [],
      "source": [
        "ㅁ"
      ],
      "id": "738386a2"
    }
  ],
  "nbformat": 4,
  "nbformat_minor": 5,
  "metadata": {
    "kernelspec": {
      "name": "python3",
      "display_name": "Python 3",
      "language": "python"
    },
    "language_info": {
      "name": "python",
      "codemirror_mode": {
        "name": "ipython",
        "version": "3"
      },
      "file_extension": ".py",
      "mimetype": "text/x-python",
      "nbconvert_exporter": "python",
      "pygments_lexer": "ipython3",
      "version": "3.7.16"
    },
    "toc": {
      "base_numbering": "1",
      "nav_menu": {},
      "number_sections": true,
      "sideBar": true,
      "skip_h1_title": false,
      "title_cell": "Table of Contents",
      "title_sidebar": "Contents",
      "toc_cell": false,
      "toc_position": {},
      "toc_section_display": true,
      "toc_window_display": false
    }
  }
}