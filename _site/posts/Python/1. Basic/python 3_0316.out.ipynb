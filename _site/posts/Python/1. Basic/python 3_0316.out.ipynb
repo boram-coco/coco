{
  "cells": [
    {
      "cell_type": "markdown",
      "metadata": {},
      "source": [
        "# 파이썬 (0316) 3주차\n",
        "\n",
        "김보람  \n",
        "2022-03-16\n",
        "\n",
        "# 튜플\n",
        "\n",
        "## 리스트 vs 튜플\n",
        "\n",
        "`-` 컨테이너형타입이라는 점, 그리고 연산 및 인덱싱을 하는 방법은\n",
        "리스트와 같음\n",
        "\n",
        "-   차이점1: \\[\\] 대신에 ()를 사용\n",
        "\n",
        "-   차이점2: 불변형이다. (원소의 값을 바꿀 수 없음)\n",
        "\n",
        "-   차이점3: 하나의 원소를 선언할 때는 (1,)와 같이 해야 한다.\n",
        "\n",
        "-   차이점4: 의미가 명확할때는 튜플의 ()를 생략가능하다.\n",
        "\n",
        "컨테이너형이라는 것이 무슨의미?"
      ],
      "id": "5fdf0278-3e4a-4f68-b6ca-2792c8120f30"
    },
    {
      "cell_type": "code",
      "execution_count": 1,
      "metadata": {},
      "outputs": [],
      "source": [
        "a=(4,6,'pencil',3.2+4.6j,[3,4])"
      ],
      "id": "b0626ca5"
    },
    {
      "cell_type": "code",
      "execution_count": 3,
      "metadata": {},
      "outputs": [],
      "source": [
        "type(a[3])"
      ],
      "id": "8f8636a3"
    },
    {
      "cell_type": "code",
      "execution_count": 4,
      "metadata": {},
      "outputs": [],
      "source": [
        "type(a[2])"
      ],
      "id": "7de5d787"
    },
    {
      "cell_type": "markdown",
      "metadata": {},
      "source": [
        "`-` 불변형이라는 것은 무슨 의미?"
      ],
      "id": "87fc52d1-5c89-4475-b027-e7d51936216a"
    },
    {
      "cell_type": "code",
      "execution_count": 5,
      "metadata": {},
      "outputs": [],
      "source": [
        "a[2] = 'Pencil'"
      ],
      "id": "55756f5d"
    },
    {
      "cell_type": "markdown",
      "metadata": {},
      "source": [
        "참고로 a를 튜플이 아니라 리스트로 선언하면 값이 잘 바뀐다.\n",
        "\n",
        "`-` 하나의 원소로 이루어진 튜플을 만들때는 쉼표를 붙여야함"
      ],
      "id": "4c8ada38-c523-4550-ad36-0a996d7713d8"
    },
    {
      "cell_type": "code",
      "execution_count": 6,
      "metadata": {},
      "outputs": [],
      "source": [
        "[1]+[2,3,4]"
      ],
      "id": "2d3ecb5c"
    },
    {
      "cell_type": "code",
      "execution_count": 7,
      "metadata": {},
      "outputs": [],
      "source": [
        "(1)+(2,3,4)   # int형+tuple형 이므로 계산 불가 "
      ],
      "id": "a7c36bae"
    },
    {
      "cell_type": "code",
      "execution_count": 8,
      "metadata": {},
      "outputs": [],
      "source": [
        "type(1)"
      ],
      "id": "3cb8e6e1"
    },
    {
      "cell_type": "code",
      "execution_count": 9,
      "metadata": {},
      "outputs": [],
      "source": [
        "(1,)+(2,3,4)"
      ],
      "id": "bcf9f936"
    },
    {
      "cell_type": "markdown",
      "metadata": {},
      "source": [
        "`-` 마지막차이점! 의미가 명확할때 튜플의 괄호는 생략가능하다. (중요)"
      ],
      "id": "305e61df-8046-46c1-ad6d-50e75d0c2104"
    },
    {
      "cell_type": "code",
      "execution_count": 10,
      "metadata": {},
      "outputs": [],
      "source": [
        "a=(1,2)\n",
        "a"
      ],
      "id": "741fc94a"
    },
    {
      "cell_type": "markdown",
      "metadata": {},
      "source": [
        "의미가 명확할때 생략해야함"
      ],
      "id": "ac4641ad-c174-4566-a8f7-5bda4a3fed2c"
    },
    {
      "cell_type": "code",
      "execution_count": 12,
      "metadata": {},
      "outputs": [],
      "source": [
        "1,2 + 3,4,5"
      ],
      "id": "17cf209f"
    },
    {
      "cell_type": "code",
      "execution_count": 13,
      "metadata": {},
      "outputs": [],
      "source": [
        "(1,2)+(3,4,5)"
      ],
      "id": "53b0d517"
    },
    {
      "cell_type": "markdown",
      "metadata": {},
      "source": [
        "## 선언\n",
        "\n",
        "`-` 소괄호를 이용"
      ],
      "id": "c18bd20e-06f5-48f1-9df3-33655388e091"
    },
    {
      "cell_type": "code",
      "execution_count": 14,
      "metadata": {},
      "outputs": [],
      "source": [
        "a=(1,2,3)\n",
        "a"
      ],
      "id": "5b523cbc"
    },
    {
      "cell_type": "code",
      "execution_count": 15,
      "metadata": {},
      "outputs": [],
      "source": [
        "type(a)"
      ],
      "id": "23e1f5cf"
    },
    {
      "cell_type": "markdown",
      "metadata": {},
      "source": [
        "`-` 생략가능하다는 점이 포인트"
      ],
      "id": "50557282-5780-4a78-82bd-878496ef7a6e"
    },
    {
      "cell_type": "code",
      "execution_count": 16,
      "metadata": {},
      "outputs": [],
      "source": [
        "a=1,2,3\n",
        "a"
      ],
      "id": "3378c507"
    },
    {
      "cell_type": "code",
      "execution_count": 17,
      "metadata": {},
      "outputs": [],
      "source": [
        "type(a)"
      ],
      "id": "d2e1eca2"
    },
    {
      "cell_type": "markdown",
      "metadata": {},
      "source": [
        "`-` 원소가 하나인 튜플을 만들고 싶다면?"
      ],
      "id": "97e79337-3b04-4598-80e8-f02ac4a767cd"
    },
    {
      "cell_type": "code",
      "execution_count": 18,
      "metadata": {},
      "outputs": [],
      "source": [
        "a=(1,)\n",
        "a"
      ],
      "id": "118144d1"
    },
    {
      "cell_type": "markdown",
      "metadata": {},
      "source": [
        "## 연산\n",
        "\n",
        "`-` 리스트와 동일"
      ],
      "id": "ba261c64-8d30-4e27-a5aa-39613da9124b"
    },
    {
      "cell_type": "code",
      "execution_count": 19,
      "metadata": {},
      "outputs": [],
      "source": [
        "(1,2)+(3,4,5)"
      ],
      "id": "b1f57c13"
    },
    {
      "cell_type": "code",
      "execution_count": 20,
      "metadata": {},
      "outputs": [],
      "source": [
        "(1,2)*2"
      ],
      "id": "17fbb112"
    },
    {
      "cell_type": "markdown",
      "metadata": {},
      "source": [
        "## 인덱싱\n",
        "\n",
        "`-` 리스트와 동일"
      ],
      "id": "80bf644e-4c01-4d66-99a8-7e524851841d"
    },
    {
      "cell_type": "code",
      "execution_count": 21,
      "metadata": {},
      "outputs": [],
      "source": [
        "a=(1,2,3,-4,-5)\n",
        "a"
      ],
      "id": "93261374"
    },
    {
      "cell_type": "code",
      "execution_count": 22,
      "metadata": {},
      "outputs": [],
      "source": [
        "a[-1]"
      ],
      "id": "2d73cd2f"
    },
    {
      "cell_type": "code",
      "execution_count": 23,
      "metadata": {},
      "outputs": [],
      "source": [
        "a[-3:]"
      ],
      "id": "2ad9ba68"
    },
    {
      "cell_type": "markdown",
      "metadata": {},
      "source": [
        "## 튜플고급\n",
        "\n",
        "### 튜플은 왜 불변함으로 만들었을까?\n",
        "\n",
        "-   책의설명: 실수로 값이 변경되는 것을 방지할 수 있다.\n",
        "-   shaaly copy / deep copy 를 막을 수 있는 무기\n",
        "\n",
        "### 튜플을 슬기롭게 사용하는 방법 (★★★★★)\n",
        "\n",
        "`-` 예제: 여러변수를 동시에 출력하고 싶을 경우 (다중출력?)\n",
        "\n",
        "변수를 아래와 같이 선언하였다고 하자."
      ],
      "id": "bd3dced1-f307-4d4a-946a-56f35ba78f1f"
    },
    {
      "cell_type": "code",
      "execution_count": 24,
      "metadata": {},
      "outputs": [],
      "source": [
        "a=1\n",
        "b=2\n",
        "c=3"
      ],
      "id": "dd5bafbb"
    },
    {
      "cell_type": "markdown",
      "metadata": {},
      "source": [
        "선언된 값을 확인하려면?"
      ],
      "id": "d4fec9d7-377c-471e-bd5f-8faea66cf392"
    },
    {
      "cell_type": "code",
      "execution_count": 25,
      "metadata": {},
      "outputs": [],
      "source": [
        "a"
      ],
      "id": "a09889aa"
    },
    {
      "cell_type": "code",
      "execution_count": 26,
      "metadata": {},
      "outputs": [],
      "source": [
        "b"
      ],
      "id": "124bd1fd"
    },
    {
      "cell_type": "code",
      "execution_count": 27,
      "metadata": {},
      "outputs": [],
      "source": [
        "c"
      ],
      "id": "9b9b3a79"
    },
    {
      "cell_type": "markdown",
      "metadata": {},
      "source": [
        "튜플을 이용하면?"
      ],
      "id": "b71f23dc-991b-4995-bd05-d1150967eace"
    },
    {
      "cell_type": "code",
      "execution_count": 28,
      "metadata": {},
      "outputs": [],
      "source": [
        "a,b,c #괄호하나 생략하는 것이 편함"
      ],
      "id": "e21573e3"
    },
    {
      "cell_type": "markdown",
      "metadata": {},
      "source": [
        "`-` 예제: 다중할당1 (여러개의 변수를 동시에 선언하고 싶을 경우)"
      ],
      "id": "dbf21856-d000-459d-99cf-ccb5bd52d2a0"
    },
    {
      "cell_type": "code",
      "execution_count": 29,
      "metadata": {},
      "outputs": [],
      "source": [
        "name, age, sex, height, weight = 'Tom', 20, 'M', 180, 70"
      ],
      "id": "580bad5c"
    },
    {
      "cell_type": "code",
      "execution_count": 31,
      "metadata": {},
      "outputs": [],
      "source": [
        "name, age, sex, height, weight"
      ],
      "id": "784b24a1"
    },
    {
      "cell_type": "code",
      "execution_count": 32,
      "metadata": {},
      "outputs": [],
      "source": [
        "height"
      ],
      "id": "cf3346de"
    },
    {
      "cell_type": "markdown",
      "metadata": {},
      "source": [
        "`-` 예제: 다중할당2, 위도와 경도"
      ],
      "id": "5420ed6a-1a4e-4d04-ada5-329afb6d3034"
    },
    {
      "cell_type": "code",
      "execution_count": 34,
      "metadata": {},
      "outputs": [],
      "source": [
        "coor = (37,127) #서울\n",
        "coor"
      ],
      "id": "7e700b36"
    },
    {
      "cell_type": "code",
      "execution_count": 35,
      "metadata": {},
      "outputs": [],
      "source": [
        "lat, long = coor   # (왼쪽) 가로가 생략된 튜플 "
      ],
      "id": "1a045e7a"
    },
    {
      "cell_type": "code",
      "execution_count": 36,
      "metadata": {},
      "outputs": [],
      "source": [
        "lat"
      ],
      "id": "ee27b300"
    },
    {
      "cell_type": "code",
      "execution_count": 37,
      "metadata": {},
      "outputs": [],
      "source": [
        "long"
      ],
      "id": "ba3495c9"
    },
    {
      "cell_type": "markdown",
      "metadata": {},
      "source": [
        "`-` 잠깐만: 다중할당은 꼭 튜플에서만 가능한가?"
      ],
      "id": "2aa858e8-fd00-486a-8987-631c51636ac1"
    },
    {
      "cell_type": "code",
      "execution_count": 44,
      "metadata": {},
      "outputs": [],
      "source": [
        "[x,y,z] = [1,2,3]\n",
        "x,y,z # 다중출력"
      ],
      "id": "aaec2d0a"
    },
    {
      "cell_type": "code",
      "execution_count": 45,
      "metadata": {},
      "outputs": [],
      "source": [
        "[x,y] = 'hi'\n",
        "x,y"
      ],
      "id": "ade8dfc4"
    },
    {
      "cell_type": "markdown",
      "metadata": {},
      "source": [
        "튜플과 같이 사용하면 가독성이 극대화 (그래서 다중할당은 거의 튜플과\n",
        "세트로 사용함)"
      ],
      "id": "280cb26a-74bf-40f8-960e-84ec50979570"
    },
    {
      "cell_type": "code",
      "execution_count": 46,
      "metadata": {},
      "outputs": [],
      "source": [
        "x,y,z=1,2,3\n",
        "x,y,z"
      ],
      "id": "e3dee7c7"
    },
    {
      "cell_type": "markdown",
      "metadata": {},
      "source": [
        "`-` 예제: 임시변수 사용없이 두 변수의 값을 교환"
      ],
      "id": "d6c1194a-e384-4edc-90e6-1f7b64ae0088"
    },
    {
      "cell_type": "code",
      "execution_count": 38,
      "metadata": {},
      "outputs": [],
      "source": [
        "a=10\n",
        "b=20"
      ],
      "id": "c41307eb"
    },
    {
      "cell_type": "code",
      "execution_count": 39,
      "metadata": {},
      "outputs": [],
      "source": [
        "a,b= b,a"
      ],
      "id": "c67f8a18"
    },
    {
      "cell_type": "code",
      "execution_count": 40,
      "metadata": {},
      "outputs": [],
      "source": [
        "a"
      ],
      "id": "86cf3aa1"
    },
    {
      "cell_type": "code",
      "execution_count": 42,
      "metadata": {},
      "outputs": [],
      "source": [
        "b"
      ],
      "id": "e2511ea2"
    },
    {
      "cell_type": "markdown",
      "metadata": {},
      "source": [
        "`-` 예제: for문과 튜플"
      ],
      "id": "01d08c44-0cc3-4252-8866-e9293e966ca3"
    },
    {
      "cell_type": "code",
      "execution_count": 49,
      "metadata": {},
      "outputs": [],
      "source": [
        "lst = [['boram', 202212345, 'F'],\n",
        "      ['iu',202212365,'F'],\n",
        "      ['hodong',202215323,'M']]\n",
        "lst"
      ],
      "id": "8be8945e"
    },
    {
      "cell_type": "code",
      "execution_count": 50,
      "metadata": {},
      "outputs": [
        {
          "output_type": "stream",
          "name": "stdout",
          "text": [
            "['boram', 202212345, 'F']\n",
            "['iu', 202212365, 'F']\n",
            "['hodong', 202215323, 'M']"
          ]
        }
      ],
      "source": [
        "for i in lst:\n",
        "    print(i)"
      ],
      "id": "01531799"
    },
    {
      "cell_type": "code",
      "execution_count": 51,
      "metadata": {},
      "outputs": [
        {
          "output_type": "stream",
          "name": "stdout",
          "text": [
            "boram\n",
            "iu\n",
            "hodong"
          ]
        }
      ],
      "source": [
        "for name, studentid, sex in lst:\n",
        "    print(name)"
      ],
      "id": "050bb0fe"
    },
    {
      "cell_type": "code",
      "execution_count": 52,
      "metadata": {},
      "outputs": [
        {
          "output_type": "stream",
          "name": "stdout",
          "text": [
            "boram F\n",
            "iu F\n",
            "hodong M"
          ]
        }
      ],
      "source": [
        "for name, studentid, sex in lst:\n",
        "    print(name, sex)"
      ],
      "id": "f668a276"
    },
    {
      "cell_type": "markdown",
      "metadata": {},
      "source": [
        "`-` 예제: for문과 튜플, dummy variable `_`"
      ],
      "id": "d4415165-7eaa-4070-af70-45ba82e6c592"
    },
    {
      "cell_type": "code",
      "execution_count": 53,
      "metadata": {},
      "outputs": [
        {
          "output_type": "stream",
          "name": "stdout",
          "text": [
            "boram\n",
            "iu\n",
            "hodong"
          ]
        }
      ],
      "source": [
        "for name, studentid, sex in lst:\n",
        "    print(name)"
      ],
      "id": "ea85fc87"
    },
    {
      "cell_type": "code",
      "execution_count": 54,
      "metadata": {},
      "outputs": [
        {
          "output_type": "stream",
          "name": "stdout",
          "text": [
            "boram\n",
            "iu\n",
            "hodong"
          ]
        }
      ],
      "source": [
        "for name, _, _ in lst:\n",
        "    print(name)   #name만 관심있으므로 그 외는 언더바를 통해 작성하는 편리함"
      ],
      "id": "c3b44ccc"
    },
    {
      "cell_type": "code",
      "execution_count": 55,
      "metadata": {},
      "outputs": [],
      "source": [
        "for name, _ in lst:\n",
        "    print(name)"
      ],
      "id": "aa63ee2d"
    },
    {
      "cell_type": "code",
      "execution_count": 56,
      "metadata": {},
      "outputs": [
        {
          "output_type": "stream",
          "name": "stdout",
          "text": [
            "boram\n",
            "iu\n",
            "hodong"
          ]
        }
      ],
      "source": [
        "for name, *args in lst:    #  *args 를 통해 위 오류 해결\n",
        "    print(name)"
      ],
      "id": "c8598d0b"
    },
    {
      "cell_type": "markdown",
      "metadata": {},
      "source": [
        "`-` 예제: 튜플과 언패킹연산자 `*`"
      ],
      "id": "4077c455-9568-4e27-89ad-8c31dff70e9d"
    },
    {
      "cell_type": "code",
      "execution_count": 60,
      "metadata": {},
      "outputs": [],
      "source": [
        "head, body, *tail = range(1,11)\n",
        "head, body, tail"
      ],
      "id": "f922e4df"
    },
    {
      "cell_type": "code",
      "execution_count": 61,
      "metadata": {},
      "outputs": [],
      "source": [
        "head1, head2, *body, tail1, tail2, tail3 = range(1,11)\n",
        "head1, head2, body, tail1, tail2, tail3"
      ],
      "id": "d09e2e9b"
    },
    {
      "cell_type": "code",
      "execution_count": 62,
      "metadata": {},
      "outputs": [],
      "source": [
        "head1, *body, tail1, *tail2, *tail3 = range(1,11) #명확하지 않아서 오류남"
      ],
      "id": "93d60dfa"
    },
    {
      "cell_type": "code",
      "execution_count": 63,
      "metadata": {},
      "outputs": [],
      "source": [
        "*head, body, tail1, tail2, tail3 = range(1,11)\n",
        "head, body, tail1"
      ],
      "id": "a4add397"
    },
    {
      "cell_type": "markdown",
      "metadata": {},
      "source": [
        "(관찰)\n",
        "\n",
        "    head1, head2, body, tail1, tail2, tail3 = (1, 2, [3, 4, 5, 6, 7], 8, 9, 10)\n",
        "    head1, head3, *body, tail1, tail2, tail3 = (1,2, 3,4,5,6,7, 8, 9, 10) \n",
        "\n",
        "`*` 를 붙이면 1차원 자료구조가 풀린다!"
      ],
      "id": "386fbc11-9243-4d89-b2aa-43dfa35e760d"
    },
    {
      "cell_type": "code",
      "execution_count": 66,
      "metadata": {},
      "outputs": [],
      "source": [
        "*[1,2,3]"
      ],
      "id": "5018350b"
    },
    {
      "cell_type": "code",
      "execution_count": 67,
      "metadata": {},
      "outputs": [
        {
          "output_type": "stream",
          "name": "stdout",
          "text": [
            "[1, 2, 3]"
          ]
        }
      ],
      "source": [
        "print([1,2,3])"
      ],
      "id": "f85ef87f"
    },
    {
      "cell_type": "code",
      "execution_count": 69,
      "metadata": {},
      "outputs": [
        {
          "output_type": "stream",
          "name": "stdout",
          "text": [
            "1 2 3"
          ]
        }
      ],
      "source": [
        "print(*[1,2,3])   # 풀린다!!!"
      ],
      "id": "52a26b0f"
    },
    {
      "cell_type": "markdown",
      "metadata": {},
      "source": [
        "`-` 예제: 함수의 입력으로 `*args` 를 넣을때\n",
        "\n",
        "\\[예비학습\\] 함수 벼락치기"
      ],
      "id": "5de09c8c-3569-4629-bcfb-465436d56602"
    },
    {
      "cell_type": "code",
      "execution_count": 70,
      "metadata": {},
      "outputs": [],
      "source": [
        "def myadd(a,b):\n",
        "    return a+b"
      ],
      "id": "26e0a080"
    },
    {
      "cell_type": "code",
      "execution_count": 72,
      "metadata": {},
      "outputs": [],
      "source": [
        "myadd(3,4)"
      ],
      "id": "a21b2547"
    },
    {
      "cell_type": "code",
      "execution_count": 73,
      "metadata": {},
      "outputs": [],
      "source": [
        "myadd(3,-3)"
      ],
      "id": "9855df17"
    },
    {
      "cell_type": "markdown",
      "metadata": {},
      "source": [
        "예제: 두 점 사이의 거리를 구하는 함수를 만들어 보자.\n",
        "\n",
        "점 $p=(p_x,p_y)$ 와 $q=(q_x,q_y)$의 거리는\n",
        "$\\sqrt{(p_x-q_x)^2, (p_y-q_y)^2}$이다. 이것을 계산하는 프로그램을 만들자"
      ],
      "id": "5f160376-ec9f-46cb-9a28-f136544b23b5"
    },
    {
      "cell_type": "code",
      "execution_count": 75,
      "metadata": {},
      "outputs": [],
      "source": [
        "import numpy as np\n",
        "def dist(px,py,qx,qy):\n",
        "    return np.sqrt((px-qx)**2 + (py-qy)**2)"
      ],
      "id": "1b1cd8d9"
    },
    {
      "cell_type": "code",
      "execution_count": 76,
      "metadata": {},
      "outputs": [],
      "source": [
        "\n",
        "dist(0,3,4,0) # 헷갈려"
      ],
      "id": "d21d6b47"
    },
    {
      "cell_type": "code",
      "execution_count": 77,
      "metadata": {},
      "outputs": [],
      "source": [
        "p=(0,3)\n",
        "q=(4,0)\n",
        "dist(p,q)"
      ],
      "id": "c09698a6"
    },
    {
      "cell_type": "markdown",
      "metadata": {},
      "source": [
        "(방법1)"
      ],
      "id": "3a2e98f9-e96a-4e02-9a22-c044098e52dd"
    },
    {
      "cell_type": "code",
      "execution_count": 79,
      "metadata": {},
      "outputs": [],
      "source": [
        "px, py = p #또는(0,3)\n",
        "qx, qy = (4,0)\n",
        "dist(px,py,qx,qy)"
      ],
      "id": "ee47cc7e"
    },
    {
      "cell_type": "markdown",
      "metadata": {},
      "source": [
        "(방법2)"
      ],
      "id": "574cd3b6-d800-4e0b-ba1e-883ac986e470"
    },
    {
      "cell_type": "code",
      "execution_count": 84,
      "metadata": {},
      "outputs": [],
      "source": [
        "def dist2(p, q):\n",
        "    px, py = p\n",
        "    qx, qy = q\n",
        "    return np.sqrt((px-qx)**2 + (py-qy)**2)\n",
        "\n",
        "\n",
        "#def dist2(p, q):\n",
        "#    px=p[0]\n",
        "#    py=p[1]\n",
        "#    qx=q[0]\n",
        "#    qy=q[1]\n",
        "#    return np.sqrt((px-qx)**2 + (py-qy)**2)"
      ],
      "id": "aa40df6c"
    },
    {
      "cell_type": "code",
      "execution_count": 85,
      "metadata": {},
      "outputs": [],
      "source": [
        "p=(0,3)\n",
        "q=(4,0)\n",
        "dist2(p,q)"
      ],
      "id": "494251ef"
    },
    {
      "cell_type": "markdown",
      "metadata": {},
      "source": [
        "(방법3)"
      ],
      "id": "f73f6736-835c-4a23-821f-ebb85527ed4b"
    },
    {
      "cell_type": "code",
      "execution_count": 86,
      "metadata": {},
      "outputs": [],
      "source": [
        "dist(*p, *q)    # 입력을 *(px,py), *(qx, qy) 형태로 넣기도 하고"
      ],
      "id": "994c4a14"
    },
    {
      "cell_type": "code",
      "execution_count": 87,
      "metadata": {},
      "outputs": [],
      "source": [
        "dist(px, py, qx, qy)  # 입력을 px,py,qx,qy 형태로 넣기도 하고"
      ],
      "id": "98ce9c5b"
    },
    {
      "cell_type": "markdown",
      "metadata": {},
      "source": [
        "(숙제) 원소로 자기학번을 포함하는 튜플을 만들기 (길이가 1인 튜플)"
      ],
      "id": "cee646df-0085-4b80-b9e0-4d01c4d1bf41"
    },
    {
      "cell_type": "code",
      "execution_count": 89,
      "metadata": {},
      "outputs": [],
      "source": [
        "type((202250926,))"
      ],
      "id": "7e6a5ba7"
    },
    {
      "cell_type": "code",
      "execution_count": 90,
      "metadata": {},
      "outputs": [],
      "source": [
        "len((202250926,))"
      ],
      "id": "75ee0210"
    },
    {
      "cell_type": "code",
      "execution_count": null,
      "metadata": {},
      "outputs": [],
      "source": [
        "ㅁ"
      ],
      "id": "738386a2"
    }
  ],
  "nbformat": 4,
  "nbformat_minor": 5,
  "metadata": {
    "kernelspec": {
      "name": "python3",
      "display_name": "Python 3",
      "language": "python"
    },
    "language_info": {
      "name": "python",
      "codemirror_mode": {
        "name": "ipython",
        "version": "3"
      },
      "file_extension": ".py",
      "mimetype": "text/x-python",
      "nbconvert_exporter": "python",
      "pygments_lexer": "ipython3",
      "version": "3.7.16"
    },
    "toc": {
      "base_numbering": "1",
      "nav_menu": {},
      "number_sections": true,
      "sideBar": true,
      "skip_h1_title": false,
      "title_cell": "Table of Contents",
      "title_sidebar": "Contents",
      "toc_cell": false,
      "toc_position": {},
      "toc_section_display": true,
      "toc_window_display": false
    }
  }
}