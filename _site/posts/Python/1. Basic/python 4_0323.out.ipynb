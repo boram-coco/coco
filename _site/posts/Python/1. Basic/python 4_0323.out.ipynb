{
  "cells": [
    {
      "cell_type": "markdown",
      "metadata": {},
      "source": [
        "# 파이썬 (0323) 4주차\n",
        "\n",
        "김보람  \n",
        "2022-03-23\n",
        "\n",
        "### 연산\n",
        "\n",
        "`-` 하나있다.\\`"
      ],
      "id": "9db28595-a4f6-46b8-ab46-d29626c18e5b"
    },
    {
      "cell_type": "code",
      "execution_count": 21,
      "metadata": {},
      "outputs": [],
      "source": [
        "score={'boram':49, 'iu':80}\n",
        "score"
      ],
      "id": "42432e06"
    },
    {
      "cell_type": "code",
      "execution_count": 22,
      "metadata": {},
      "outputs": [],
      "source": [
        "'boram' in score\n"
      ],
      "id": "e8783f98"
    },
    {
      "cell_type": "code",
      "execution_count": 23,
      "metadata": {},
      "outputs": [],
      "source": [
        "\n",
        "'iu' in score"
      ],
      "id": "e141f71f"
    },
    {
      "cell_type": "code",
      "execution_count": 24,
      "metadata": {},
      "outputs": [],
      "source": [
        "'hynn' in score"
      ],
      "id": "a0d8cd9f"
    },
    {
      "cell_type": "markdown",
      "metadata": {},
      "source": [
        "`-` in은 사실 다른 자료형도 가능하다\\`\n",
        "\n",
        "(관찰1)"
      ],
      "id": "be43aa97-7914-4255-b5a2-79365e42d5ef"
    },
    {
      "cell_type": "code",
      "execution_count": 25,
      "metadata": {},
      "outputs": [],
      "source": [
        "'a' in 'boram'"
      ],
      "id": "a021f9ea"
    },
    {
      "cell_type": "code",
      "execution_count": 26,
      "metadata": {},
      "outputs": [],
      "source": [
        "'c' in 'boram'"
      ],
      "id": "2e2688cd"
    },
    {
      "cell_type": "markdown",
      "metadata": {},
      "source": [
        "(관찰2)"
      ],
      "id": "36162063-bc9b-4a16-a637-9160e36cf8b4"
    },
    {
      "cell_type": "code",
      "execution_count": 27,
      "metadata": {},
      "outputs": [],
      "source": [
        "tpl = 1,2,3\n",
        "tpl"
      ],
      "id": "4b47f7b5"
    },
    {
      "cell_type": "code",
      "execution_count": 28,
      "metadata": {},
      "outputs": [],
      "source": [
        "1 in tpl"
      ],
      "id": "14532faf"
    },
    {
      "cell_type": "code",
      "execution_count": 29,
      "metadata": {},
      "outputs": [],
      "source": [
        "4 in tpl"
      ],
      "id": "53031a00"
    },
    {
      "cell_type": "markdown",
      "metadata": {},
      "source": [
        "(관찰3)"
      ],
      "id": "0d6820bb-b8f6-44bc-8617-10609c9d2847"
    },
    {
      "cell_type": "code",
      "execution_count": 30,
      "metadata": {},
      "outputs": [],
      "source": [
        "score=[['boram',49], ['iu',80]]\n",
        "score"
      ],
      "id": "29fd3454"
    },
    {
      "cell_type": "code",
      "execution_count": 31,
      "metadata": {},
      "outputs": [],
      "source": [
        "['boram', 49] in score"
      ],
      "id": "c6584796"
    },
    {
      "cell_type": "markdown",
      "metadata": {},
      "source": [
        "`-` in 연산자가 dict형에 사용되면 key를 기준으로 True, False을 판단한다.\n",
        "\n",
        "### 메소드\n",
        "\n",
        "***(get)***"
      ],
      "id": "2493830e-6aef-40a5-8498-09b3cb0b3479"
    },
    {
      "cell_type": "code",
      "execution_count": 32,
      "metadata": {},
      "outputs": [],
      "source": [
        "score={'boram':49, 'iu':80}\n",
        "score"
      ],
      "id": "f6b8bf13"
    },
    {
      "cell_type": "code",
      "execution_count": 33,
      "metadata": {},
      "outputs": [],
      "source": [
        "score.get('boram')"
      ],
      "id": "074b90b3"
    },
    {
      "cell_type": "markdown",
      "metadata": {},
      "source": [
        "아래와 같은 기능"
      ],
      "id": "527e0500-0c33-4565-93c5-df96ad7f4498"
    },
    {
      "cell_type": "code",
      "execution_count": 35,
      "metadata": {},
      "outputs": [],
      "source": [
        "score['boram']"
      ],
      "id": "407e6755"
    },
    {
      "cell_type": "markdown",
      "metadata": {},
      "source": [
        "미묘한 차이점이 존재함"
      ],
      "id": "131c60a9-cbc0-4f1a-a52d-543eddd76733"
    },
    {
      "cell_type": "code",
      "execution_count": 37,
      "metadata": {},
      "outputs": [],
      "source": [
        "score['hynn']  # hynn이 없어서 키에러 출력, 그런 key는 없다.."
      ],
      "id": "604eaa14"
    },
    {
      "cell_type": "code",
      "execution_count": 39,
      "metadata": {},
      "outputs": [],
      "source": [
        "score.get('hynn')  #hynn이 없으면 아무것도 출력안함"
      ],
      "id": "f9b87695"
    },
    {
      "cell_type": "markdown",
      "metadata": {},
      "source": [
        "***(kyes, values, items)***\n",
        "\n",
        "`-`.keys()는 딕셔너리의 키를 리턴한다."
      ],
      "id": "94050cb1-48c7-46d1-937d-306e6224af85"
    },
    {
      "cell_type": "code",
      "execution_count": 40,
      "metadata": {},
      "outputs": [],
      "source": [
        "score={'boram':49, 'iu':80}\n",
        "score"
      ],
      "id": "fcc0a90e"
    },
    {
      "cell_type": "code",
      "execution_count": 43,
      "metadata": {},
      "outputs": [],
      "source": [
        "?score.keys"
      ],
      "id": "b25d141a"
    },
    {
      "cell_type": "code",
      "execution_count": 47,
      "metadata": {},
      "outputs": [],
      "source": [
        "_keys=score.keys()\n",
        "_keys"
      ],
      "id": "3946be55"
    },
    {
      "cell_type": "code",
      "execution_count": 49,
      "metadata": {},
      "outputs": [],
      "source": [
        "type(_keys)   # 모르는 자료형이지만, list나 tuple과 같이 자료형을 바꿀수 있다."
      ],
      "id": "c272b723"
    },
    {
      "cell_type": "code",
      "execution_count": 50,
      "metadata": {},
      "outputs": [],
      "source": [
        "list(_keys)  # 아무튼 그 이상한 자료형도 리스트화가 가능"
      ],
      "id": "6b581231"
    },
    {
      "cell_type": "markdown",
      "metadata": {},
      "source": [
        "`-`.values()는 딕셔너리의 키를 리턴한다."
      ],
      "id": "84f1f32f-b444-4cf9-bed0-8798adf0b127"
    },
    {
      "cell_type": "code",
      "execution_count": 51,
      "metadata": {},
      "outputs": [],
      "source": [
        "_values=score.values()\n",
        "_values"
      ],
      "id": "44711098"
    },
    {
      "cell_type": "code",
      "execution_count": 52,
      "metadata": {},
      "outputs": [],
      "source": [
        "type(_values)"
      ],
      "id": "d8c06338"
    },
    {
      "cell_type": "code",
      "execution_count": 53,
      "metadata": {},
      "outputs": [],
      "source": [
        "list(_values)"
      ],
      "id": "fe128fd1"
    },
    {
      "cell_type": "markdown",
      "metadata": {},
      "source": [
        "`-`.items()는 딕셔너리의 키를 리턴한다."
      ],
      "id": "3533789a-6920-425c-a431-e2b386566c33"
    },
    {
      "cell_type": "code",
      "execution_count": 54,
      "metadata": {},
      "outputs": [],
      "source": [
        "_items=score.items()\n",
        "_items"
      ],
      "id": "449a3d88"
    },
    {
      "cell_type": "code",
      "execution_count": 56,
      "metadata": {},
      "outputs": [],
      "source": [
        "type(_items)"
      ],
      "id": "bf737195"
    },
    {
      "cell_type": "code",
      "execution_count": 57,
      "metadata": {},
      "outputs": [],
      "source": [
        "list(_items)"
      ],
      "id": "ba5029d8"
    },
    {
      "cell_type": "markdown",
      "metadata": {},
      "source": [
        "`-` for문에서의 dict\n",
        "\n",
        "(예시1)"
      ],
      "id": "723f1b3d-0c37-46e2-851f-4610986b9bb8"
    },
    {
      "cell_type": "code",
      "execution_count": 59,
      "metadata": {},
      "outputs": [
        {
          "output_type": "stream",
          "name": "stdout",
          "text": [
            "boram\n",
            "iu"
          ]
        }
      ],
      "source": [
        "for i in score.keys():\n",
        "    print(i)"
      ],
      "id": "965590c1"
    },
    {
      "cell_type": "code",
      "execution_count": 60,
      "metadata": {},
      "outputs": [
        {
          "output_type": "stream",
          "name": "stdout",
          "text": [
            "boram\n",
            "iu"
          ]
        }
      ],
      "source": [
        "for i in score:\n",
        "    print(i)"
      ],
      "id": "39f7242b"
    },
    {
      "cell_type": "markdown",
      "metadata": {},
      "source": [
        "-   딕셔너리 그자체도 for문에 넣을 수 있다.\n",
        "-   i에는 value가 삭제되어 들어간다. (즉 key만)\n",
        "-   결과를 보면 score대신에 score.keys()와 list(score)를 넣었을때와\n",
        "    결과가 같다.\n",
        "\n",
        "> Note: list(score)하면 key만 리턴된다.\n",
        "\n",
        "(예시2)"
      ],
      "id": "d3dcf17a-6f92-4b8c-bf74-afe755981183"
    },
    {
      "cell_type": "code",
      "execution_count": 61,
      "metadata": {},
      "outputs": [
        {
          "output_type": "stream",
          "name": "stdout",
          "text": [
            "49\n",
            "80"
          ]
        }
      ],
      "source": [
        "for i in score.values():\n",
        "    print(i)"
      ],
      "id": "f859be16"
    },
    {
      "cell_type": "markdown",
      "metadata": {},
      "source": [
        "(예시3)"
      ],
      "id": "27ed31ea-5725-43d6-97b3-20cbcd8e4eca"
    },
    {
      "cell_type": "code",
      "execution_count": 62,
      "metadata": {},
      "outputs": [
        {
          "output_type": "stream",
          "name": "stdout",
          "text": [
            "('boram', 49)\n",
            "('iu', 80)"
          ]
        }
      ],
      "source": [
        "for k in score.items():\n",
        "    print(k)"
      ],
      "id": "646e4202"
    },
    {
      "cell_type": "markdown",
      "metadata": {},
      "source": [
        "(예시4)"
      ],
      "id": "a897a5f7-89f6-4d2f-ba69-3f94195da53b"
    },
    {
      "cell_type": "code",
      "execution_count": 63,
      "metadata": {},
      "outputs": [
        {
          "output_type": "stream",
          "name": "stdout",
          "text": [
            "boram 49\n",
            "iu 80"
          ]
        }
      ],
      "source": [
        "for i,j in score.items():\n",
        "    print(i,j)"
      ],
      "id": "1490d7c3"
    },
    {
      "cell_type": "markdown",
      "metadata": {},
      "source": [
        "(예시5)"
      ],
      "id": "2c39fa4f-4c30-4e3d-875f-cb97b107c44e"
    },
    {
      "cell_type": "code",
      "execution_count": 67,
      "metadata": {},
      "outputs": [
        {
          "output_type": "stream",
          "name": "stdout",
          "text": [
            "boram의 중간고사 점수는 49점입니다\n",
            "iu의 중간고사 점수는 80점입니다"
          ]
        }
      ],
      "source": [
        "for i,j in score.items():\n",
        "    print(i + '의 중간고사 점수는 %s점입니다' %j)"
      ],
      "id": "7742c1cb"
    },
    {
      "cell_type": "markdown",
      "metadata": {},
      "source": [
        "\\[보충학습\\] 문자열 새치기"
      ],
      "id": "7407e834-dc6b-4b6b-a712-24570131b183"
    },
    {
      "cell_type": "code",
      "execution_count": 71,
      "metadata": {},
      "outputs": [],
      "source": [
        "'제 이름은 %s입니다.'  % '김보람' "
      ],
      "id": "3a435b2c"
    },
    {
      "cell_type": "code",
      "execution_count": 72,
      "metadata": {},
      "outputs": [],
      "source": [
        "'제 이름은 %s입니다.'  % [1,2]"
      ],
      "id": "a2868902"
    },
    {
      "cell_type": "code",
      "execution_count": 69,
      "metadata": {},
      "outputs": [],
      "source": [
        "1+1"
      ],
      "id": "1ce9d32c"
    },
    {
      "cell_type": "code",
      "execution_count": 70,
      "metadata": {},
      "outputs": [],
      "source": [
        "[1,2]+[3,4]"
      ],
      "id": "40da2949"
    },
    {
      "cell_type": "markdown",
      "metadata": {},
      "source": [
        "-   %는 새치기연산자임. %s는 새치기하는 자리라고 생각\n",
        "\n",
        "보충학습끝\n",
        "\n",
        "### 딕셔너리 고급\n",
        "\n",
        "키는 문자열만 가능한 것이 아니다.\n",
        "\n",
        "`-` 정수키"
      ],
      "id": "1f03bba0-ef1b-4ec7-a96e-b53969540005"
    },
    {
      "cell_type": "code",
      "execution_count": 84,
      "metadata": {},
      "outputs": [],
      "source": [
        "score = {0:49, 1:80, 1:99} # key를 0,1,2로\n",
        "score"
      ],
      "id": "0d87f065"
    },
    {
      "cell_type": "markdown",
      "metadata": {},
      "source": [
        "`-` 인덱싱은?"
      ],
      "id": "9edeba6b-6b95-48e5-8749-752af5b7877a"
    },
    {
      "cell_type": "code",
      "execution_count": 85,
      "metadata": {},
      "outputs": [],
      "source": [
        "score[0] # 키로 인덱싱을 하고 있는데 마치 원소의 위치로 인덱싱을 하는 기분\n"
      ],
      "id": "4c0104cb"
    },
    {
      "cell_type": "markdown",
      "metadata": {},
      "source": [
        "`-` 그럼 혹시 이것도?"
      ],
      "id": "546ad1c3-74dd-463e-823c-52b3dc44eb6a"
    },
    {
      "cell_type": "code",
      "execution_count": 83,
      "metadata": {},
      "outputs": [],
      "source": [
        "score[:2]"
      ],
      "id": "67f8d7d2"
    },
    {
      "cell_type": "code",
      "execution_count": 87,
      "metadata": {},
      "outputs": [],
      "source": [
        "score[-1]   # 될리가 없지.."
      ],
      "id": "c8a9a66b"
    },
    {
      "cell_type": "markdown",
      "metadata": {},
      "source": [
        "`-` key로 가능한 것이 문자열만 가능한 것이 아니라 다른 것도 가능하다.\n",
        "(숫자,튜플,,)\n",
        "\n",
        "(예시)"
      ],
      "id": "8db4b289-50a4-4e97-9514-12a2ae24db48"
    },
    {
      "cell_type": "code",
      "execution_count": 89,
      "metadata": {},
      "outputs": [],
      "source": [
        "score={(0,'boram'):49, (1, 'iu'):80, (2, 'hynn'):99}\n",
        "score"
      ],
      "id": "9f1e519f"
    },
    {
      "cell_type": "code",
      "execution_count": 90,
      "metadata": {},
      "outputs": [],
      "source": [
        "score[(0,'boram')]"
      ],
      "id": "66832ae0"
    },
    {
      "cell_type": "code",
      "execution_count": 91,
      "metadata": {},
      "outputs": [],
      "source": [
        "score[0,'boram'] #tuple이니까 가로 생략 가능"
      ],
      "id": "79313461"
    },
    {
      "cell_type": "markdown",
      "metadata": {},
      "source": [
        "(예시)"
      ],
      "id": "162aff5f-2991-478b-8d00-f156fb63a99c"
    },
    {
      "cell_type": "code",
      "execution_count": 92,
      "metadata": {},
      "outputs": [],
      "source": [
        "score={('boram',0):10, ('boram',1):20, ('boram',2):30} #0은 출석점수, 1은 레포트 점수, 2는 중간고사 점수\n",
        "score"
      ],
      "id": "38c9656b"
    },
    {
      "cell_type": "code",
      "execution_count": 93,
      "metadata": {},
      "outputs": [],
      "source": [
        "score[('boram',0)]"
      ],
      "id": "eee5345f"
    },
    {
      "cell_type": "code",
      "execution_count": 98,
      "metadata": {},
      "outputs": [],
      "source": [
        "score['boram',0]"
      ],
      "id": "c2c855db"
    },
    {
      "cell_type": "code",
      "execution_count": 101,
      "metadata": {},
      "outputs": [],
      "source": [
        "score[('broam,3')] = 99  # 보람의 기말고사 점수를 추가"
      ],
      "id": "4d508d6a"
    },
    {
      "cell_type": "code",
      "execution_count": 102,
      "metadata": {},
      "outputs": [],
      "source": [
        "score"
      ],
      "id": "a397b9e9"
    },
    {
      "cell_type": "markdown",
      "metadata": {},
      "source": [
        "`-` 문자열, 숫자값, 튜플의 공통점? 불변객체"
      ],
      "id": "e4edca53-2a56-4b3b-aee8-09ee23da148d"
    },
    {
      "cell_type": "code",
      "execution_count": 103,
      "metadata": {},
      "outputs": [],
      "source": [
        "a=11"
      ],
      "id": "b2323bba"
    },
    {
      "cell_type": "code",
      "execution_count": 104,
      "metadata": {},
      "outputs": [],
      "source": [
        "a=22  # 22로 수정된 것이 아니고 재할당된것임.."
      ],
      "id": "ae8cce34"
    },
    {
      "cell_type": "code",
      "execution_count": 105,
      "metadata": {},
      "outputs": [],
      "source": [
        "a"
      ],
      "id": "6ded23f5"
    },
    {
      "cell_type": "code",
      "execution_count": 106,
      "metadata": {},
      "outputs": [],
      "source": [
        "a='boram'"
      ],
      "id": "b40dda3d"
    },
    {
      "cell_type": "code",
      "execution_count": 107,
      "metadata": {},
      "outputs": [],
      "source": [
        "a='Broam'"
      ],
      "id": "3a5eedf5"
    },
    {
      "cell_type": "code",
      "execution_count": 108,
      "metadata": {},
      "outputs": [],
      "source": [
        "a  # 이것도 재할당.."
      ],
      "id": "6fcc00b2"
    },
    {
      "cell_type": "code",
      "execution_count": 109,
      "metadata": {},
      "outputs": [],
      "source": [
        "a[0]"
      ],
      "id": "0c708b01"
    },
    {
      "cell_type": "code",
      "execution_count": 110,
      "metadata": {},
      "outputs": [],
      "source": [
        "a[0]='b'  # 문자열 불변"
      ],
      "id": "35d2a7e3"
    },
    {
      "cell_type": "code",
      "execution_count": null,
      "metadata": {},
      "outputs": [],
      "source": [
        "# 수정이랑 재할당을 구분하는 방법 -> 메모리 주소 값을 찍어보면 된다."
      ],
      "id": "517e8baf"
    },
    {
      "cell_type": "markdown",
      "metadata": {},
      "source": [
        "\\[참고로만\\]\n",
        "\n",
        "(인트형은 불변)"
      ],
      "id": "e4f27339-e1e4-4b1f-828a-98e752c2c089"
    },
    {
      "cell_type": "code",
      "execution_count": 113,
      "metadata": {},
      "outputs": [],
      "source": [
        "a=1\n",
        "a, id(a)"
      ],
      "id": "495d44f4"
    },
    {
      "cell_type": "code",
      "execution_count": 115,
      "metadata": {},
      "outputs": [],
      "source": [
        "a=2\n",
        "a, id(a)"
      ],
      "id": "bf189873"
    },
    {
      "cell_type": "markdown",
      "metadata": {},
      "source": [
        "(문자열도 불변)"
      ],
      "id": "5ead8a82-1c29-4317-b9c8-ba10caf7159d"
    },
    {
      "cell_type": "code",
      "execution_count": 116,
      "metadata": {},
      "outputs": [],
      "source": [
        "a='boram'\n",
        "a, id(a)"
      ],
      "id": "925dd068"
    },
    {
      "cell_type": "code",
      "execution_count": 117,
      "metadata": {},
      "outputs": [],
      "source": [
        "a='Boram'\n",
        "a, id(a)"
      ],
      "id": "c9ea45e9"
    },
    {
      "cell_type": "markdown",
      "metadata": {},
      "source": [
        "(리스트는 가변)"
      ],
      "id": "5374bf3a-de2a-48f3-9d55-b1594d918459"
    },
    {
      "cell_type": "code",
      "execution_count": 118,
      "metadata": {},
      "outputs": [],
      "source": [
        "a=list('boram')\n",
        "a, id(a)"
      ],
      "id": "f1aa9f81"
    },
    {
      "cell_type": "code",
      "execution_count": 119,
      "metadata": {},
      "outputs": [],
      "source": [
        "a[0]='B'"
      ],
      "id": "e091f694"
    },
    {
      "cell_type": "code",
      "execution_count": 120,
      "metadata": {},
      "outputs": [],
      "source": [
        "a,id(a)   #id가 같다. 편집!"
      ],
      "id": "2545c528"
    },
    {
      "cell_type": "markdown",
      "metadata": {},
      "source": [
        "### 집합\n",
        "\n",
        "#### 선언"
      ],
      "id": "d94640a9-b8a9-4cc1-a490-0c91e0ed6f98"
    },
    {
      "cell_type": "code",
      "execution_count": 121,
      "metadata": {},
      "outputs": [],
      "source": [
        "a={'notebook', 'desktop'}"
      ],
      "id": "80099f28"
    },
    {
      "cell_type": "markdown",
      "metadata": {},
      "source": [
        "#### 원소추출\n",
        "\n",
        "`-` 일단 인덱스로는 못한다."
      ],
      "id": "c3c99ae3-3b5a-471e-9d01-13bb7690264c"
    },
    {
      "cell_type": "code",
      "execution_count": 123,
      "metadata": {},
      "outputs": [],
      "source": [
        "a={'notebook', 'desktop'}\n",
        "a[0]"
      ],
      "id": "ad4b91af"
    },
    {
      "cell_type": "markdown",
      "metadata": {},
      "source": [
        "`-` 딱히 하는 방법이 없다. 그리고 이걸 하는 의미가 없다. 원소에 접근해서\n",
        "뭐하려고…!!\n",
        "\n",
        "원소추가\n",
        "\n",
        "`-` 이건 의미가 있다."
      ],
      "id": "f7f15b3f-46b0-4729-9886-2881dc94a48d"
    },
    {
      "cell_type": "code",
      "execution_count": 130,
      "metadata": {},
      "outputs": [],
      "source": [
        "a={'notebook', 'desktop'}"
      ],
      "id": "f847118b"
    },
    {
      "cell_type": "code",
      "execution_count": 131,
      "metadata": {},
      "outputs": [],
      "source": [
        "a.add('ipad')\n",
        "a"
      ],
      "id": "1d794df2"
    },
    {
      "cell_type": "code",
      "execution_count": 133,
      "metadata": {},
      "outputs": [],
      "source": [
        "a.add('notebook') # 이미 원소로 있는 건 추가 되지 않음\n",
        "a"
      ],
      "id": "5ebdfc60"
    },
    {
      "cell_type": "markdown",
      "metadata": {},
      "source": [
        "원소삭제"
      ],
      "id": "d3b58dd3-46bc-4393-9413-952cc7e594f0"
    },
    {
      "cell_type": "code",
      "execution_count": 134,
      "metadata": {},
      "outputs": [],
      "source": [
        "a.remove('notebook')\n",
        "a"
      ],
      "id": "2058562d"
    },
    {
      "cell_type": "markdown",
      "metadata": {},
      "source": [
        "연산\n",
        "\n",
        "`-` in 연산자"
      ],
      "id": "d1aca42a-360a-4a5f-8049-644c7de61846"
    },
    {
      "cell_type": "code",
      "execution_count": 135,
      "metadata": {},
      "outputs": [],
      "source": [
        "1 in [1,2,3,4]"
      ],
      "id": "ea5b8266"
    },
    {
      "cell_type": "code",
      "execution_count": 136,
      "metadata": {},
      "outputs": [],
      "source": [
        "5 in [1,2,3,4]"
      ],
      "id": "aed25d37"
    },
    {
      "cell_type": "code",
      "execution_count": 137,
      "metadata": {},
      "outputs": [],
      "source": [
        "a=('desktop','ipad','notebook')\n",
        "a"
      ],
      "id": "89e395c9"
    },
    {
      "cell_type": "code",
      "execution_count": 138,
      "metadata": {},
      "outputs": [],
      "source": [
        "'notebook' in a"
      ],
      "id": "82a16d75"
    },
    {
      "cell_type": "markdown",
      "metadata": {},
      "source": [
        "`-` 참고로 `in` 연산자는 집합에서만 쓰는 것은 아님\n",
        "\n",
        "`-` 합집합, 교집합, 차집합"
      ],
      "id": "d47e633c-a7e6-4728-a34a-02685a4f5651"
    },
    {
      "cell_type": "code",
      "execution_count": 139,
      "metadata": {},
      "outputs": [],
      "source": [
        "day1 = {'notebook', 'desktop'}\n",
        "day2 = {'notebook', 'ipad'}"
      ],
      "id": "d8e3affe"
    },
    {
      "cell_type": "code",
      "execution_count": 140,
      "metadata": {},
      "outputs": [],
      "source": [
        "day1 | day2   # 합집합"
      ],
      "id": "b43dff3b"
    },
    {
      "cell_type": "code",
      "execution_count": 141,
      "metadata": {},
      "outputs": [],
      "source": [
        "day1 & day2 # 교집합"
      ],
      "id": "01246f74"
    },
    {
      "cell_type": "code",
      "execution_count": 142,
      "metadata": {},
      "outputs": [],
      "source": [
        "day1 - day2  # 차집합"
      ],
      "id": "20bbb31a"
    },
    {
      "cell_type": "code",
      "execution_count": 143,
      "metadata": {},
      "outputs": [],
      "source": [
        "day2 - day1"
      ],
      "id": "4b453658"
    },
    {
      "cell_type": "markdown",
      "metadata": {},
      "source": [
        "`-` 부분집합"
      ],
      "id": "7fb484e7-ac42-43c2-a9a9-5fda35976939"
    },
    {
      "cell_type": "code",
      "execution_count": 144,
      "metadata": {},
      "outputs": [],
      "source": [
        "day1={'notebook','desktop'}\n",
        "day2= day1 | {'ipad'}"
      ],
      "id": "1a37c6c3"
    },
    {
      "cell_type": "code",
      "execution_count": 145,
      "metadata": {},
      "outputs": [],
      "source": [
        "day1"
      ],
      "id": "79213efc"
    },
    {
      "cell_type": "code",
      "execution_count": 146,
      "metadata": {},
      "outputs": [],
      "source": [
        "day2"
      ],
      "id": "13f95ce8"
    },
    {
      "cell_type": "code",
      "execution_count": 147,
      "metadata": {},
      "outputs": [],
      "source": [
        "day1<day2   # day1는 day2의 부분집합인가?"
      ],
      "id": "adce350d"
    },
    {
      "cell_type": "code",
      "execution_count": 148,
      "metadata": {},
      "outputs": [],
      "source": [
        "day2<day1"
      ],
      "id": "161b3f67"
    },
    {
      "cell_type": "markdown",
      "metadata": {},
      "source": [
        "**메소드**\n",
        "\n",
        "`-` 합집합"
      ],
      "id": "4b6c9b09-536c-492a-a46f-b40aa124ab40"
    },
    {
      "cell_type": "code",
      "execution_count": 149,
      "metadata": {},
      "outputs": [],
      "source": [
        "day1= {'notebook','desktop'}\n",
        "day2 = {'notebook','ipad'}"
      ],
      "id": "44b810a8"
    },
    {
      "cell_type": "code",
      "execution_count": 153,
      "metadata": {},
      "outputs": [],
      "source": [
        "day1.union(day2)"
      ],
      "id": "e9ee1895"
    },
    {
      "cell_type": "code",
      "execution_count": null,
      "metadata": {},
      "outputs": [],
      "source": [
        "# 나머지 메소드는 스스로 찾아보세용"
      ],
      "id": "166e7283"
    },
    {
      "cell_type": "markdown",
      "metadata": {},
      "source": [
        "**for문**"
      ],
      "id": "f947c069-9af4-4af3-b5e7-574d56ce89a7"
    },
    {
      "cell_type": "code",
      "execution_count": 151,
      "metadata": {},
      "outputs": [],
      "source": [
        "day1= {'notebook','desktop'}\n",
        "day2 = {'notebook','ipad'}"
      ],
      "id": "e6ea1410"
    },
    {
      "cell_type": "code",
      "execution_count": 152,
      "metadata": {},
      "outputs": [
        {
          "output_type": "stream",
          "name": "stdout",
          "text": [
            "desktop\n",
            "ipad\n",
            "notebook"
          ]
        }
      ],
      "source": [
        "for i in day1|day2:\n",
        "    print(i)"
      ],
      "id": "848ae733"
    },
    {
      "cell_type": "markdown",
      "metadata": {},
      "source": [
        "(숙제) 길이가 4인 집합을 두개만들고 공통원소를 2개로 설정한 뒤 합집합을\n",
        "구하는 코드를 작성하라."
      ],
      "id": "7af570f8-d581-4275-a3ff-c18d91741c1e"
    },
    {
      "cell_type": "code",
      "execution_count": 154,
      "metadata": {},
      "outputs": [],
      "source": [
        "boram={'father','mother','me','coco'}"
      ],
      "id": "70d0c95e"
    },
    {
      "cell_type": "code",
      "execution_count": 155,
      "metadata": {},
      "outputs": [],
      "source": [
        "len(boram)\n"
      ],
      "id": "cdd7f8a5"
    },
    {
      "cell_type": "code",
      "execution_count": 159,
      "metadata": {},
      "outputs": [],
      "source": [
        "su={'father','mother','su','name'}"
      ],
      "id": "d55b819d"
    },
    {
      "cell_type": "code",
      "execution_count": 160,
      "metadata": {},
      "outputs": [],
      "source": [
        "len(su)"
      ],
      "id": "611e65a6"
    },
    {
      "cell_type": "code",
      "execution_count": 161,
      "metadata": {},
      "outputs": [],
      "source": [
        "boram | su"
      ],
      "id": "ec6fd211"
    }
  ],
  "nbformat": 4,
  "nbformat_minor": 5,
  "metadata": {
    "kernelspec": {
      "name": "python3",
      "display_name": "Python 3",
      "language": "python"
    },
    "language_info": {
      "name": "python",
      "codemirror_mode": {
        "name": "ipython",
        "version": "3"
      },
      "file_extension": ".py",
      "mimetype": "text/x-python",
      "nbconvert_exporter": "python",
      "pygments_lexer": "ipython3",
      "version": "3.7.16"
    },
    "toc": {
      "base_numbering": "1",
      "nav_menu": {},
      "number_sections": true,
      "sideBar": true,
      "skip_h1_title": false,
      "title_cell": "Table of Contents",
      "title_sidebar": "Contents",
      "toc_cell": false,
      "toc_position": {},
      "toc_section_display": true,
      "toc_window_display": false
    }
  }
}