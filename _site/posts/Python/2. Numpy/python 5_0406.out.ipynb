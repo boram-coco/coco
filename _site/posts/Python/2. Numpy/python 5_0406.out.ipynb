{
  "cells": [
    {
      "cell_type": "markdown",
      "metadata": {},
      "source": [
        "# 파이썬 (0406) 5주차\n",
        "\n",
        "김보람  \n",
        "2022-04-06\n",
        "\n",
        "### import"
      ],
      "id": "8a9e3763-810f-46cc-83f9-b54360afcb52"
    },
    {
      "cell_type": "code",
      "execution_count": 2,
      "metadata": {},
      "outputs": [
        {
          "output_type": "stream",
          "name": "stdout",
          "text": [
            "Collecting numpy\n",
            "  Downloading numpy-1.24.1-cp39-cp39-win_amd64.whl (14.9 MB)\n",
            "     --------------------------------------- 14.9/14.9 MB 10.7 MB/s eta 0:00:00\n",
            "Installing collected packages: numpy\n",
            "Successfully installed numpy-1.24.1"
          ]
        }
      ],
      "source": [
        "!pip install numpy "
      ],
      "id": "77606dfa-2c87-462b-b7f9-3ebb141e96e9"
    },
    {
      "cell_type": "code",
      "execution_count": 3,
      "metadata": {},
      "outputs": [],
      "source": [
        "import numpy as np"
      ],
      "id": "84745161-0528-4637-b8af-5c9dfdacc3ae"
    },
    {
      "cell_type": "markdown",
      "metadata": {},
      "source": [
        "## 넘파이 공부 1단계\n",
        "\n",
        "### 선언"
      ],
      "id": "839c94ed-3d1c-42b6-9087-220d5a88a539"
    },
    {
      "cell_type": "code",
      "execution_count": 5,
      "metadata": {},
      "outputs": [],
      "source": [
        "list([1,2,3])\n"
      ],
      "id": "cdc13084-c7c0-4a3e-9fb1-c5ae049b6d5c"
    },
    {
      "cell_type": "code",
      "execution_count": 6,
      "metadata": {},
      "outputs": [],
      "source": [
        "[1,2,3]"
      ],
      "id": "b9fea95a-504d-4bee-a167-24a463dcfac2"
    },
    {
      "cell_type": "code",
      "execution_count": 7,
      "metadata": {},
      "outputs": [],
      "source": [
        "a=np.array([1,2,3])  # list만들고 ndarray화 시킴\n",
        "l=[1,2,3]"
      ],
      "id": "cb30e1df-bb22-4398-96eb-fa1c52d4a27b"
    },
    {
      "cell_type": "markdown",
      "metadata": {},
      "source": [
        "### 기본연산 브로드캐스팅"
      ],
      "id": "93f4f9b0-91d2-49db-95d3-64d6ad15efdd"
    },
    {
      "cell_type": "code",
      "execution_count": 8,
      "metadata": {},
      "outputs": [],
      "source": [
        "a"
      ],
      "id": "aa5570b3-62ec-4500-9008-67a0a9076ef6"
    },
    {
      "cell_type": "code",
      "execution_count": 9,
      "metadata": {},
      "outputs": [],
      "source": [
        "l"
      ],
      "id": "b35d2907-fe68-49b3-9f15-e2cd0a8aceb5"
    },
    {
      "cell_type": "code",
      "execution_count": 10,
      "metadata": {},
      "outputs": [],
      "source": [
        "a+1 ## [1,2,3] + 1 = [2,3,4]"
      ],
      "id": "b0122837-2158-44ff-a00a-1c2c286ed562"
    },
    {
      "cell_type": "code",
      "execution_count": 11,
      "metadata": {},
      "outputs": [],
      "source": [
        "l+1"
      ],
      "id": "7c35365e-2ee8-44d0-9d78-4286687f365e"
    },
    {
      "cell_type": "code",
      "execution_count": 12,
      "metadata": {},
      "outputs": [],
      "source": [
        "a+np.array([-1,-2,-3])"
      ],
      "id": "4b2890fb-7948-491a-a217-27a45e704305"
    },
    {
      "cell_type": "code",
      "execution_count": 13,
      "metadata": {},
      "outputs": [],
      "source": [
        "a-a"
      ],
      "id": "97740fa4-7268-4f3f-bf55-26efc1ecff13"
    },
    {
      "cell_type": "code",
      "execution_count": 15,
      "metadata": {},
      "outputs": [],
      "source": [
        "l-l  # 리스트는 안됨"
      ],
      "id": "08d20609-fafc-405e-83e3-08657fbc1b10"
    },
    {
      "cell_type": "code",
      "execution_count": 16,
      "metadata": {},
      "outputs": [],
      "source": [
        "a*2"
      ],
      "id": "5b53904e-fd2e-4ad4-8d74-3c5d11d1e962"
    },
    {
      "cell_type": "code",
      "execution_count": 17,
      "metadata": {},
      "outputs": [],
      "source": [
        "l*2"
      ],
      "id": "ce0756b0-9b05-4f1a-97b3-da920b75cab4"
    },
    {
      "cell_type": "code",
      "execution_count": 18,
      "metadata": {},
      "outputs": [],
      "source": [
        "a/2"
      ],
      "id": "6dd18a4c-78cb-466e-8268-7e730da11975"
    },
    {
      "cell_type": "code",
      "execution_count": 19,
      "metadata": {},
      "outputs": [],
      "source": [
        "l/2"
      ],
      "id": "f79ec45f-ae57-4ce5-8c81-22e0ca0db268"
    },
    {
      "cell_type": "code",
      "execution_count": 20,
      "metadata": {},
      "outputs": [],
      "source": [
        "a**2"
      ],
      "id": "ee37bfbd-e347-4427-b251-97a04195b92c"
    },
    {
      "cell_type": "code",
      "execution_count": 21,
      "metadata": {},
      "outputs": [],
      "source": [
        "l**2"
      ],
      "id": "d54cb915-ea0f-46bf-b563-44222ff47a9b"
    },
    {
      "cell_type": "code",
      "execution_count": 22,
      "metadata": {},
      "outputs": [],
      "source": [
        "a%2   # %2 = 2로 나눈 나머지 리턴"
      ],
      "id": "a5aed701-c894-4844-a6a5-42909deaf5df"
    },
    {
      "cell_type": "code",
      "execution_count": 23,
      "metadata": {},
      "outputs": [],
      "source": [
        "l%2"
      ],
      "id": "1edaf9a3-1376-4292-ab3a-7057ea872102"
    },
    {
      "cell_type": "markdown",
      "metadata": {},
      "source": [
        "### 기타 수학연산 지원"
      ],
      "id": "c88698b6-5e1f-4661-a906-e979d16aa012"
    },
    {
      "cell_type": "code",
      "execution_count": 25,
      "metadata": {},
      "outputs": [],
      "source": [
        "np.sqrt(2)"
      ],
      "id": "d4f6b2b1-e485-4ac1-af17-634664506747"
    },
    {
      "cell_type": "code",
      "execution_count": 26,
      "metadata": {},
      "outputs": [],
      "source": [
        "np.sqrt(a), np.sqrt(l)"
      ],
      "id": "11555fb9-4dcc-45a5-a6d1-9cd7e8edb8d0"
    },
    {
      "cell_type": "code",
      "execution_count": 27,
      "metadata": {},
      "outputs": [],
      "source": [
        "np.log(a), np.log(l)"
      ],
      "id": "36ecdf66-f930-4f96-bf6d-cc1857a7cf1b"
    },
    {
      "cell_type": "code",
      "execution_count": 28,
      "metadata": {},
      "outputs": [],
      "source": [
        "np.exp(a), np.exp(l)"
      ],
      "id": "7a4bcacf-e477-4b98-a784-41bcba34be57"
    },
    {
      "cell_type": "code",
      "execution_count": 29,
      "metadata": {},
      "outputs": [],
      "source": [
        "np.sin(a), np.sin(l)"
      ],
      "id": "95fb21a2-6019-4d9e-bf6e-51ad1bdb53b6"
    },
    {
      "cell_type": "markdown",
      "metadata": {},
      "source": [
        "## 넘파이 공부 2단계\n",
        "\n",
        "### 인덱싱 1차원\n",
        "\n",
        "`-` 선언"
      ],
      "id": "5416ea83-52f8-46ca-aba7-46d8a03d8453"
    },
    {
      "cell_type": "code",
      "execution_count": 31,
      "metadata": {},
      "outputs": [],
      "source": [
        "l=[11,22,33,44,55,66]\n",
        "a=np.array(l)"
      ],
      "id": "899dba37-3090-42d6-9563-7cd11b772b44"
    },
    {
      "cell_type": "markdown",
      "metadata": {},
      "source": [
        "`-` 인덱스로 접근"
      ],
      "id": "39aef4e1-2b21-4de3-9f2c-18144894452a"
    },
    {
      "cell_type": "code",
      "execution_count": 32,
      "metadata": {},
      "outputs": [],
      "source": [
        "l[0], l[1], l[2], l[3], l[4], l[5]"
      ],
      "id": "88b48d93-c4ff-4b51-8a80-9fa8b3d7fd43"
    },
    {
      "cell_type": "code",
      "execution_count": 33,
      "metadata": {},
      "outputs": [],
      "source": [
        "a[0], a[1], a[2], a[3], a[4], a[5]"
      ],
      "id": "ad70a3a6-c9cf-4a62-b47c-4d67cbd55abf"
    },
    {
      "cell_type": "markdown",
      "metadata": {},
      "source": [
        "`-` `:` 이용 (슬라이싱)"
      ],
      "id": "00c6a8aa-b03e-4c31-a5c4-568cb964b792"
    },
    {
      "cell_type": "code",
      "execution_count": 34,
      "metadata": {},
      "outputs": [],
      "source": [
        "l[2:4] # index 2에서 시작, index 4는 포함하지 않음"
      ],
      "id": "fea2eec3-3c6a-49e7-8d6c-fe4bf7c72305"
    },
    {
      "cell_type": "code",
      "execution_count": 35,
      "metadata": {},
      "outputs": [],
      "source": [
        "a[2:4]"
      ],
      "id": "5840b51b-4034-41a3-bd10-80e6e4342ac9"
    },
    {
      "cell_type": "markdown",
      "metadata": {},
      "source": [
        "`-` 점수배열에 의한 익덱싱"
      ],
      "id": "6fe1455c-6373-4fbf-b9db-d7001ccadc48"
    },
    {
      "cell_type": "code",
      "execution_count": 42,
      "metadata": {},
      "outputs": [],
      "source": [
        "a"
      ],
      "id": "e92f4e88-0c82-4e19-b305-488d9751fa57"
    },
    {
      "cell_type": "code",
      "execution_count": 43,
      "metadata": {},
      "outputs": [],
      "source": [
        "  a[[0,2,4]]  # index=0, index=2, index=4 에 해당하는 원소를 뽑고 싶다 -> 가능"
      ],
      "id": "f4493348-c184-4e0a-920b-70cfd9d3e312"
    },
    {
      "cell_type": "code",
      "execution_count": 44,
      "metadata": {},
      "outputs": [],
      "source": [
        " l[[0,2,4]]    # 리스트는 불가능"
      ],
      "id": "f0813fae-574d-47b5-a160-55165bc440c3"
    },
    {
      "cell_type": "markdown",
      "metadata": {},
      "source": [
        "`-` 부울값에 의한 인덱싱"
      ],
      "id": "306a816a-8f5e-4d7a-852d-3931e11e57d2"
    },
    {
      "cell_type": "code",
      "execution_count": 45,
      "metadata": {},
      "outputs": [],
      "source": [
        "a"
      ],
      "id": "9ab06483-d2a5-4bf3-9616-f7077e08c67b"
    },
    {
      "cell_type": "code",
      "execution_count": 46,
      "metadata": {},
      "outputs": [],
      "source": [
        "a[[True, True, False, True, False, False]]"
      ],
      "id": "0891a94c-42b9-4041-8417-d6f3c659e6f1"
    },
    {
      "cell_type": "markdown",
      "metadata": {},
      "source": [
        "응용하면?"
      ],
      "id": "01a7f6ea-5b20-4240-8937-bb8dcd69291d"
    },
    {
      "cell_type": "code",
      "execution_count": 47,
      "metadata": {},
      "outputs": [],
      "source": [
        "a<33"
      ],
      "id": "afbe7e9b-ce01-4684-9178-dc9494ce184d"
    },
    {
      "cell_type": "code",
      "execution_count": 49,
      "metadata": {},
      "outputs": [],
      "source": [
        "a[[ True,  True, False, False, False, False]]"
      ],
      "id": "071436d1-a08f-4f17-ab4c-db6fcff3caf7"
    },
    {
      "cell_type": "code",
      "execution_count": 48,
      "metadata": {},
      "outputs": [],
      "source": [
        "a[a<33]"
      ],
      "id": "b1015ba0-e9b8-4ed6-ab23-1f5e733227be"
    },
    {
      "cell_type": "markdown",
      "metadata": {},
      "source": [
        "리스트는 불가능"
      ],
      "id": "bc28848a-e35f-491a-9179-6aa921aaeffe"
    },
    {
      "cell_type": "code",
      "execution_count": 50,
      "metadata": {},
      "outputs": [],
      "source": [
        "l<33"
      ],
      "id": "f93bdbd3-df57-422f-b578-1bd27730997c"
    },
    {
      "cell_type": "code",
      "execution_count": 51,
      "metadata": {},
      "outputs": [],
      "source": [
        "l[[True, True, False, True, False, False]]"
      ],
      "id": "8b2aa4ea-1398-46c0-8c85-c41110c68fc5"
    },
    {
      "cell_type": "markdown",
      "metadata": {},
      "source": [
        "### 인덱싱 2차원\n",
        "\n",
        "`-` 중첩리스트와 2차원 np.array 선언"
      ],
      "id": "6291d131-1647-4dee-8bfc-31e9b994e535"
    },
    {
      "cell_type": "code",
      "execution_count": 53,
      "metadata": {},
      "outputs": [],
      "source": [
        "A = [[1,2,3,4],[-1,-2,-3,-4],[5,6,7,8],[-5,-6,-7,-8]]\n",
        "A2 = np.array(A)"
      ],
      "id": "35533477-9227-425f-be84-30ad4c78b80b"
    },
    {
      "cell_type": "code",
      "execution_count": 54,
      "metadata": {},
      "outputs": [],
      "source": [
        "A2"
      ],
      "id": "46fb18e3-03a2-410a-bfc3-94f1b039c2c4"
    },
    {
      "cell_type": "code",
      "execution_count": 55,
      "metadata": {},
      "outputs": [],
      "source": [
        "A"
      ],
      "id": "15db1579-3f20-4067-afd9-f47e0b4cc8cb"
    },
    {
      "cell_type": "markdown",
      "metadata": {},
      "source": [
        "`-` A의 원소 인덱싱"
      ],
      "id": "257d24d1-8c43-4d44-bab2-88d784a96b96"
    },
    {
      "cell_type": "code",
      "execution_count": 56,
      "metadata": {},
      "outputs": [],
      "source": [
        "A[0][0] # A의 (1,1)의 원소"
      ],
      "id": "3ed89f74-307a-4866-99af-eff7579cf47a"
    },
    {
      "cell_type": "code",
      "execution_count": 60,
      "metadata": {},
      "outputs": [],
      "source": [
        "A[1][2] # A의 (2,3)의 원소"
      ],
      "id": "c46a3367-ad2e-4480-83da-7082dbf21740"
    },
    {
      "cell_type": "code",
      "execution_count": 61,
      "metadata": {},
      "outputs": [],
      "source": [
        "A[-1][0] # A의 (4,1)의 원소"
      ],
      "id": "a1e1984a-2617-4e71-95bc-2f53441ff6a6"
    },
    {
      "cell_type": "markdown",
      "metadata": {},
      "source": [
        "`-` A2의 원소 인덱싱"
      ],
      "id": "550a78dd-db72-49be-88fb-b4060658013d"
    },
    {
      "cell_type": "code",
      "execution_count": 59,
      "metadata": {},
      "outputs": [],
      "source": [
        "A2[0][0]"
      ],
      "id": "0fb15881-c7d7-4c72-b013-e7f7ff8b31d0"
    },
    {
      "cell_type": "code",
      "execution_count": 62,
      "metadata": {},
      "outputs": [],
      "source": [
        "A2[1][2] # A2의 (2,3)의 원소"
      ],
      "id": "e2fe5966-1ad1-4ded-aa7f-e6275f878a27"
    },
    {
      "cell_type": "code",
      "execution_count": 63,
      "metadata": {},
      "outputs": [],
      "source": [
        "A2[-1][0] # A2의 (4,1)의 원소"
      ],
      "id": "cbbd6842-fbce-41d6-b5eb-2937f3566106"
    },
    {
      "cell_type": "markdown",
      "metadata": {},
      "source": [
        "`-` A2에서만 되는 기술 (넘파이에서 제시하는 신기술, R에서는 기본적으로\n",
        "쓰던것, 이중list는 불가능)"
      ],
      "id": "f9c53606-37c8-47ec-a127-beae3cee64d1"
    },
    {
      "cell_type": "code",
      "execution_count": 64,
      "metadata": {},
      "outputs": [],
      "source": [
        "A2[0,0]"
      ],
      "id": "ccbcdecb-2ea4-42cc-aed8-2e173c16def4"
    },
    {
      "cell_type": "code",
      "execution_count": 65,
      "metadata": {},
      "outputs": [],
      "source": [
        "A2[1,2] # A2의 (2,3)의 원소"
      ],
      "id": "d4a8b6f6-6025-4c34-a729-d79f3c2fb005"
    },
    {
      "cell_type": "code",
      "execution_count": 66,
      "metadata": {},
      "outputs": [],
      "source": [
        "A2[-1,0] # A2의 (4,1)의 원소"
      ],
      "id": "3d4a8092-6fad-415a-846d-de70900f5756"
    },
    {
      "cell_type": "markdown",
      "metadata": {},
      "source": [
        "`-` 정수배열에 의한 인덱싱 & 슬라이싱!"
      ],
      "id": "93f8630a-77c3-4c5e-ae0c-20b328396bde"
    },
    {
      "cell_type": "code",
      "execution_count": 67,
      "metadata": {},
      "outputs": [],
      "source": [
        "A2"
      ],
      "id": "6ac93815-3257-4994-8a36-bb5eca33f584"
    },
    {
      "cell_type": "code",
      "execution_count": 68,
      "metadata": {},
      "outputs": [],
      "source": [
        "A2[0,0:2]   # 1행 1열, 1행 2열"
      ],
      "id": "edd422eb-0245-4209-8f84-0bbb19191204"
    },
    {
      "cell_type": "code",
      "execution_count": 69,
      "metadata": {},
      "outputs": [],
      "source": [
        "A2[0,:]  # 1행"
      ],
      "id": "2c8cc645-b2a6-4bcf-bbf1-0a246da75fdb"
    },
    {
      "cell_type": "code",
      "execution_count": 73,
      "metadata": {},
      "outputs": [],
      "source": [
        "A2[0]  # 1행"
      ],
      "id": "09ebc8cd-dede-4028-9fca-75c89d31a3b8"
    },
    {
      "cell_type": "code",
      "execution_count": 71,
      "metadata": {},
      "outputs": [],
      "source": [
        "A2[[0,2],:]   # 1행, 3행"
      ],
      "id": "d7ae59e5-85c8-43b6-8155-7dc33fecb58b"
    },
    {
      "cell_type": "code",
      "execution_count": 75,
      "metadata": {},
      "outputs": [],
      "source": [
        "A2[[0,2]]   # 1행, 3행"
      ],
      "id": "93ef2bf6-5bc8-4dac-b5da-7a0e0788ad5e"
    },
    {
      "cell_type": "code",
      "execution_count": 77,
      "metadata": {},
      "outputs": [],
      "source": [
        "A2[:,0] # 1열"
      ],
      "id": "10ecbef2-21c4-44ec-b9f4-998cbb74d5eb"
    },
    {
      "cell_type": "code",
      "execution_count": 78,
      "metadata": {},
      "outputs": [],
      "source": [
        "A2[:,[0]] # 1열"
      ],
      "id": "22b2a603-1a88-4d9b-8438-cdc616eaf11c"
    },
    {
      "cell_type": "code",
      "execution_count": 79,
      "metadata": {},
      "outputs": [],
      "source": [
        "A2[:,[0,2]] # 1열, 3열"
      ],
      "id": "0693685d-2dfe-49e4-a4ee-a202040bb3f6"
    },
    {
      "cell_type": "code",
      "execution_count": 81,
      "metadata": {},
      "outputs": [],
      "source": [
        "A2[0:2,[0,2]]  # 1행-2행 / 1열-3열"
      ],
      "id": "239b0fc7-12a5-4a73-a643-c384bee522e3"
    },
    {
      "cell_type": "markdown",
      "metadata": {},
      "source": [
        "### 1차원 배열의 선언\n",
        "\n",
        "`-` 리스트나 튜플을 선언하고 형변환"
      ],
      "id": "53624451-522b-42c6-8ead-c9a37e281cbb"
    },
    {
      "cell_type": "code",
      "execution_count": 82,
      "metadata": {},
      "outputs": [],
      "source": [
        "np.array((1,2,3)) # 튜플->넘파이어레이"
      ],
      "id": "d8837afa-eaac-4992-a5e1-42163b2ddcc5"
    },
    {
      "cell_type": "code",
      "execution_count": 83,
      "metadata": {},
      "outputs": [],
      "source": [
        "np.array([1,2,3]) # 리스트->넘파이어레이"
      ],
      "id": "4d354f81-672d-42b8-92b2-6d2cc7a8f475"
    },
    {
      "cell_type": "markdown",
      "metadata": {},
      "source": [
        "`-` range()를 이용해서 선언하고 형변환"
      ],
      "id": "998a2675-b02c-445a-8269-8d5397b2f287"
    },
    {
      "cell_type": "code",
      "execution_count": 85,
      "metadata": {},
      "outputs": [],
      "source": [
        "np.array(range(10))  # range(10)->넘파이어레이"
      ],
      "id": "4d02cfc0-596c-4b29-b4da-e50ec1bd8c76"
    },
    {
      "cell_type": "markdown",
      "metadata": {},
      "source": [
        "`-` np.zeros, np.ones"
      ],
      "id": "e526af13-f6e5-4a05-af68-5b94e0b080ea"
    },
    {
      "cell_type": "code",
      "execution_count": 88,
      "metadata": {},
      "outputs": [],
      "source": [
        "np.zeros(3)"
      ],
      "id": "dbdba1e0-1d85-49c1-9a81-80ddc71e74ca"
    },
    {
      "cell_type": "code",
      "execution_count": 89,
      "metadata": {},
      "outputs": [],
      "source": [
        "np.ones(4)"
      ],
      "id": "058eb8cf-3065-4670-b8de-c352fcb12b9a"
    },
    {
      "cell_type": "markdown",
      "metadata": {},
      "source": [
        "`-` np.linspace"
      ],
      "id": "c0e3f227-e719-4842-afb7-5442cb978a24"
    },
    {
      "cell_type": "code",
      "execution_count": 91,
      "metadata": {},
      "outputs": [],
      "source": [
        "np.linspace(0,1,12)   # 0부터 1까지 12개로 쪼개기   (양끝점 모두 포함)"
      ],
      "id": "70d90fd5-f802-48d5-a2ab-b2bcbdfe9d9b"
    },
    {
      "cell_type": "code",
      "execution_count": 93,
      "metadata": {},
      "outputs": [],
      "source": [
        "len(np.linspace(0,1,12))"
      ],
      "id": "ef853bd2-5df2-4027-8b67-ec9e6aa6e141"
    },
    {
      "cell_type": "markdown",
      "metadata": {},
      "source": [
        "`-` np.arange"
      ],
      "id": "a6bb6b77-2bad-4ef1-93dc-d8d880089d87"
    },
    {
      "cell_type": "code",
      "execution_count": 94,
      "metadata": {},
      "outputs": [],
      "source": [
        "np.arange(5)  #np.array(range(5))"
      ],
      "id": "3ee6ccf9-f653-4460-a7cb-709323236d79"
    },
    {
      "cell_type": "code",
      "execution_count": 95,
      "metadata": {},
      "outputs": [],
      "source": [
        "np.arange(1,6)   #np.array(range(1,6))"
      ],
      "id": "e94858b0-66ed-4294-a82f-7abf0ddba147"
    },
    {
      "cell_type": "markdown",
      "metadata": {},
      "source": [
        "### reshape\n",
        "\n",
        "`-` reshape: ndarray의 특수한 기능"
      ],
      "id": "583c00fe-8150-4ee1-8f8c-3bb2d575693a"
    },
    {
      "cell_type": "code",
      "execution_count": 103,
      "metadata": {},
      "outputs": [],
      "source": [
        "a=np.array([11,22,33,44,55,66])\n",
        "a  #길이가 6인 벡터"
      ],
      "id": "bb5b5fba-7fc2-41a6-ba2a-24b7eb4218a7"
    },
    {
      "cell_type": "code",
      "execution_count": 98,
      "metadata": {},
      "outputs": [],
      "source": [
        "type(a)"
      ],
      "id": "3c2a75bc-acf5-44ff-b1d8-48aa07af454c"
    },
    {
      "cell_type": "code",
      "execution_count": 99,
      "metadata": {},
      "outputs": [],
      "source": [
        "a.reshape"
      ],
      "id": "8c1b9e8b-e764-446e-9838-3bd9ab714e18"
    },
    {
      "cell_type": "code",
      "execution_count": 104,
      "metadata": {},
      "outputs": [],
      "source": [
        "a.reshape(2,3)  # (2,3) matrix라고 생각해도 무방"
      ],
      "id": "52e414d2-e95c-415d-a201-39d63986e6da"
    },
    {
      "cell_type": "code",
      "execution_count": 102,
      "metadata": {},
      "outputs": [],
      "source": [
        "a.reshape(5,2)"
      ],
      "id": "5c627454-f3a3-467a-a054-3d0d917e091a"
    },
    {
      "cell_type": "markdown",
      "metadata": {},
      "source": [
        "note: reshape은 a자체를 변홧키는 것은 아님"
      ],
      "id": "3ebd8836-fc6a-498f-9b53-fa50417810b9"
    },
    {
      "cell_type": "code",
      "execution_count": 106,
      "metadata": {},
      "outputs": [],
      "source": [
        "a  # reshape은 a자체는 변화하지 않음"
      ],
      "id": "c079ce19-8e15-4859-bbe3-3763ed3d35c0"
    },
    {
      "cell_type": "code",
      "execution_count": 109,
      "metadata": {},
      "outputs": [],
      "source": [
        "b=a.reshape(2,3)  # a를 reshape한 결과를 b에 저장\n",
        "b"
      ],
      "id": "f4aba230-5e42-4d5c-8e84-b28432d3082a"
    },
    {
      "cell_type": "code",
      "execution_count": 110,
      "metadata": {},
      "outputs": [],
      "source": [
        " a  # a는 여전히 그대로 있음"
      ],
      "id": "865c06c1-4e9b-44cf-95ab-ff53ac80f29b"
    },
    {
      "cell_type": "markdown",
      "metadata": {},
      "source": [
        "`-` 다시 b를 a처럼 바꾸고 싶다."
      ],
      "id": "75d29af0-31de-40bf-8c2f-e97950c3e83d"
    },
    {
      "cell_type": "code",
      "execution_count": 111,
      "metadata": {},
      "outputs": [],
      "source": [
        "b"
      ],
      "id": "29a9ed9e-fcce-4fed-ba1a-c22fba23fb7a"
    },
    {
      "cell_type": "code",
      "execution_count": 115,
      "metadata": {},
      "outputs": [],
      "source": [
        "b.reshape(6) # b는 (2,3) matrix, 그런데 이것을 길이가 6인 벡터로 만들고 싶다."
      ],
      "id": "8e8ec5aa-f352-40e3-ac6d-5a4832c1350b"
    },
    {
      "cell_type": "code",
      "execution_count": 118,
      "metadata": {},
      "outputs": [],
      "source": [
        "a.shape   # 길이가 1인 튜플"
      ],
      "id": "c8cdfd18-2356-427b-80c9-887adad8efc9"
    },
    {
      "cell_type": "code",
      "execution_count": 119,
      "metadata": {},
      "outputs": [],
      "source": [
        "b.shape   # 길이가 2인 튜플이니까 2차원 "
      ],
      "id": "6b68b9b3-55ab-4777-854f-2d860abc3010"
    },
    {
      "cell_type": "markdown",
      "metadata": {},
      "source": [
        "`-` reshape with -1"
      ],
      "id": "6f3f4f9e-7e0d-4c99-8e48-8884276d4a08"
    },
    {
      "cell_type": "code",
      "execution_count": 122,
      "metadata": {},
      "outputs": [],
      "source": [
        "a=np.arange(24)  #np.array(range(24))\n",
        "a"
      ],
      "id": "ebb8e5aa-a2ea-4738-8cc3-a4cdbf906ace"
    },
    {
      "cell_type": "code",
      "execution_count": 124,
      "metadata": {},
      "outputs": [],
      "source": [
        "a.reshape(2,?) # 에러.."
      ],
      "id": "70e915de-ffbc-4e37-aa76-e0e60d2c27ab"
    },
    {
      "cell_type": "code",
      "execution_count": 125,
      "metadata": {},
      "outputs": [],
      "source": [
        "a.reshape(2,-1)"
      ],
      "id": "3d1cda6e-21c2-40e8-b8e6-9a0c62deb752"
    },
    {
      "cell_type": "code",
      "execution_count": 126,
      "metadata": {},
      "outputs": [],
      "source": [
        "a.reshape(3,-1)"
      ],
      "id": "ce1d20a3-294a-4328-af1c-ec4f6492563e"
    },
    {
      "cell_type": "code",
      "execution_count": 127,
      "metadata": {},
      "outputs": [],
      "source": [
        "a.reshape(4,-1)"
      ],
      "id": "9961943b-5981-4059-936c-a3d8493bcd01"
    },
    {
      "cell_type": "code",
      "execution_count": 128,
      "metadata": {},
      "outputs": [],
      "source": [
        "a.reshape(7,-1)  # 나눠떨어지지 않으니까.. "
      ],
      "id": "32199bf8-930d-4399-a900-36abd60aaa1c"
    },
    {
      "cell_type": "code",
      "execution_count": 130,
      "metadata": {},
      "outputs": [],
      "source": [
        "b=a.reshape(12,-1)\n",
        "b"
      ],
      "id": "e529df5c-ee2d-42d7-9bef-538147c629f0"
    },
    {
      "cell_type": "code",
      "execution_count": 131,
      "metadata": {},
      "outputs": [],
      "source": [
        "b.reshape(24) # b를 다시 길이가 24인 벡터로 만들고 싶다."
      ],
      "id": "bb7ef277-ca40-425e-ae1b-977bad8f6952"
    },
    {
      "cell_type": "code",
      "execution_count": 133,
      "metadata": {},
      "outputs": [],
      "source": [
        "b.reshape(-1) # b를 다시 길이가 24인 벡터로 만들고 싶다."
      ],
      "id": "19f6fa21-0e55-4851-8744-8ebfe6d67feb"
    },
    {
      "cell_type": "markdown",
      "metadata": {},
      "source": [
        "### 2차원 배열의 선언"
      ],
      "id": "622ed724-15ab-4a8a-8947-d5711dc8879c"
    },
    {
      "cell_type": "code",
      "execution_count": 134,
      "metadata": {},
      "outputs": [],
      "source": [
        "\n",
        "np.zeros((3,3))"
      ],
      "id": "1ea17a37-9e36-4a46-a961-2db3c0780252"
    },
    {
      "cell_type": "code",
      "execution_count": 135,
      "metadata": {},
      "outputs": [],
      "source": [
        "np.ones((3,3))"
      ],
      "id": "59316186-4eef-4094-9610-9fceff60c532"
    },
    {
      "cell_type": "code",
      "execution_count": 138,
      "metadata": {},
      "outputs": [],
      "source": [
        "np.eye(3) "
      ],
      "id": "9edde4a7-8d94-407f-9331-cbcb25726de1"
    },
    {
      "cell_type": "code",
      "execution_count": 139,
      "metadata": {},
      "outputs": [],
      "source": [
        "np.diag([1,2,3,-1])"
      ],
      "id": "e2b9f810-22ea-4106-9166-797cf69894dd"
    },
    {
      "cell_type": "markdown",
      "metadata": {},
      "source": [
        "### 랜덤으로 생성"
      ],
      "id": "29a319dd-ee23-4689-87ae-4c18e1f7518b"
    },
    {
      "cell_type": "code",
      "execution_count": 141,
      "metadata": {},
      "outputs": [],
      "source": [
        "np.random.randn(10)  # 표준정규분포에서 10개를 뽑음"
      ],
      "id": "a2f1289a-cd61-491f-9352-589f971ab0e7"
    },
    {
      "cell_type": "code",
      "execution_count": 142,
      "metadata": {},
      "outputs": [],
      "source": [
        "np.random.rand(10)  # 0~1 사이에서 10개를 뽑음"
      ],
      "id": "d8d1e0a1-9459-4964-a0c6-144af5f2876d"
    },
    {
      "cell_type": "code",
      "execution_count": 144,
      "metadata": {},
      "outputs": [],
      "source": [
        "np.random.randn(4).reshape(2,2)  # 표준정규분포에서 4개를 뽑고 (2,2) nparray로 형태변환"
      ],
      "id": "6921b870-9ba0-490c-a6b5-3f8fb3e8938d"
    },
    {
      "cell_type": "code",
      "execution_count": 145,
      "metadata": {},
      "outputs": [],
      "source": [
        "np.random.rand(4).reshape(2,2)  # 0~1에서 4개를 뽑고 (2,2) nparray로 형태변환"
      ],
      "id": "6c3e36c8-c241-4f1c-b3e6-b522ca31ac30"
    },
    {
      "cell_type": "markdown",
      "metadata": {},
      "source": [
        "### 행렬"
      ],
      "id": "359c8cf0-772c-44fb-a2d0-098315d888db"
    },
    {
      "cell_type": "code",
      "execution_count": 149,
      "metadata": {},
      "outputs": [],
      "source": [
        "A=np.array(range(4)).reshape(2,2)\n",
        "A"
      ],
      "id": "f0535a9d-5071-4c99-b63f-f4bd0614bb1c"
    },
    {
      "cell_type": "code",
      "execution_count": 150,
      "metadata": {},
      "outputs": [],
      "source": [
        "A.T #전치행렬"
      ],
      "id": "e7722d9a-e94c-4dfb-9304-15f15e8ddbf0"
    },
    {
      "cell_type": "code",
      "execution_count": 151,
      "metadata": {},
      "outputs": [],
      "source": [
        "np.linalg.inv(A)   # 역행렬"
      ],
      "id": "eec3bf78-fa79-4e9c-b5ec-42e81b5ab94d"
    },
    {
      "cell_type": "code",
      "execution_count": 152,
      "metadata": {},
      "outputs": [],
      "source": [
        "A @ np.linalg.inv(A)  # 단위행렬   # @는 행렬곱을 수행\n"
      ],
      "id": "a0eda476-d681-421c-b088-8497ce570ad4"
    },
    {
      "cell_type": "markdown",
      "metadata": {},
      "source": [
        "## 숙제"
      ],
      "id": "e4f5a4ea-a152-4849-af0d-b5d36f96b860"
    },
    {
      "cell_type": "code",
      "execution_count": 153,
      "metadata": {},
      "outputs": [],
      "source": [
        "A=np.array(range(6))\n",
        "A # 길이가 6인 벡터"
      ],
      "id": "7d6c40a7-75b4-4552-a511-2012dbe7d4d6"
    },
    {
      "cell_type": "markdown",
      "metadata": {},
      "source": [
        "위와 같이 길이가 6인 벡터 A를 (2,3) ndarray로 변경"
      ],
      "id": "512eadde-13b6-4f24-b1b4-cb4b42bf6195"
    },
    {
      "cell_type": "code",
      "execution_count": 154,
      "metadata": {},
      "outputs": [],
      "source": [
        "A.reshape(2,3)"
      ],
      "id": "2624d5af-2d46-4f89-beab-42acfdb2abf8"
    },
    {
      "cell_type": "code",
      "execution_count": 155,
      "metadata": {},
      "outputs": [],
      "source": [
        "len(A.reshape(2,3))"
      ],
      "id": "e7e88552-b2c1-4839-a9ef-4275306243ff"
    }
  ],
  "nbformat": 4,
  "nbformat_minor": 5,
  "metadata": {
    "kernelspec": {
      "name": "python3",
      "display_name": "Python 3",
      "language": "python"
    },
    "language_info": {
      "name": "python",
      "codemirror_mode": {
        "name": "ipython",
        "version": "3"
      },
      "file_extension": ".py",
      "mimetype": "text/x-python",
      "nbconvert_exporter": "python",
      "pygments_lexer": "ipython3",
      "version": "3.7.16"
    },
    "toc-showcode": false
  }
}