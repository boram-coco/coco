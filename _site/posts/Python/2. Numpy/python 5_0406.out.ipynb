{
  "cells": [
    {
      "cell_type": "markdown",
      "metadata": {},
      "source": [
        "# 파이썬 (0406) 5주차\n",
        "\n",
        "김보람  \n",
        "2022-04-06\n",
        "\n",
        "### import"
      ],
      "id": "25dbb2da-0dd2-452d-b1ab-85f012d24cf9"
    },
    {
      "cell_type": "code",
      "execution_count": 2,
      "metadata": {},
      "outputs": [
        {
          "output_type": "stream",
          "name": "stdout",
          "text": [
            "Collecting numpy\n",
            "  Downloading numpy-1.24.1-cp39-cp39-win_amd64.whl (14.9 MB)\n",
            "     --------------------------------------- 14.9/14.9 MB 10.7 MB/s eta 0:00:00\n",
            "Installing collected packages: numpy\n",
            "Successfully installed numpy-1.24.1"
          ]
        }
      ],
      "source": [
        "!pip install numpy "
      ],
      "id": "77606dfa-2c87-462b-b7f9-3ebb141e96e9"
    },
    {
      "cell_type": "code",
      "execution_count": 3,
      "metadata": {},
      "outputs": [],
      "source": [
        "import numpy as np"
      ],
      "id": "84745161-0528-4637-b8af-5c9dfdacc3ae"
    },
    {
      "cell_type": "markdown",
      "metadata": {},
      "source": [
        "## 넘파이 공부 1단계\n",
        "\n",
        "### 선언"
      ],
      "id": "ad6953d2-e5cc-4407-9fb1-94d32349fbdd"
    },
    {
      "cell_type": "code",
      "execution_count": 5,
      "metadata": {},
      "outputs": [],
      "source": [
        "list([1,2,3])\n"
      ],
      "id": "cdc13084-c7c0-4a3e-9fb1-c5ae049b6d5c"
    },
    {
      "cell_type": "code",
      "execution_count": 6,
      "metadata": {},
      "outputs": [],
      "source": [
        "[1,2,3]"
      ],
      "id": "b9fea95a-504d-4bee-a167-24a463dcfac2"
    },
    {
      "cell_type": "code",
      "execution_count": 7,
      "metadata": {},
      "outputs": [],
      "source": [
        "a=np.array([1,2,3])  # list만들고 ndarray화 시킴\n",
        "l=[1,2,3]"
      ],
      "id": "cb30e1df-bb22-4398-96eb-fa1c52d4a27b"
    },
    {
      "cell_type": "markdown",
      "metadata": {},
      "source": [
        "### 기본연산 브로드캐스팅"
      ],
      "id": "f9ddbad1-c8bf-42aa-9917-c5fb063e77db"
    },
    {
      "cell_type": "code",
      "execution_count": 8,
      "metadata": {},
      "outputs": [],
      "source": [
        "a"
      ],
      "id": "aa5570b3-62ec-4500-9008-67a0a9076ef6"
    },
    {
      "cell_type": "code",
      "execution_count": 9,
      "metadata": {},
      "outputs": [],
      "source": [
        "l"
      ],
      "id": "b35d2907-fe68-49b3-9f15-e2cd0a8aceb5"
    },
    {
      "cell_type": "code",
      "execution_count": 10,
      "metadata": {},
      "outputs": [],
      "source": [
        "a+1 ## [1,2,3] + 1 = [2,3,4]"
      ],
      "id": "b0122837-2158-44ff-a00a-1c2c286ed562"
    },
    {
      "cell_type": "code",
      "execution_count": 11,
      "metadata": {},
      "outputs": [],
      "source": [
        "l+1"
      ],
      "id": "7c35365e-2ee8-44d0-9d78-4286687f365e"
    },
    {
      "cell_type": "code",
      "execution_count": 12,
      "metadata": {},
      "outputs": [],
      "source": [
        "a+np.array([-1,-2,-3])"
      ],
      "id": "4b2890fb-7948-491a-a217-27a45e704305"
    },
    {
      "cell_type": "code",
      "execution_count": 13,
      "metadata": {},
      "outputs": [],
      "source": [
        "a-a"
      ],
      "id": "97740fa4-7268-4f3f-bf55-26efc1ecff13"
    },
    {
      "cell_type": "code",
      "execution_count": 15,
      "metadata": {},
      "outputs": [],
      "source": [
        "l-l  # 리스트는 안됨"
      ],
      "id": "08d20609-fafc-405e-83e3-08657fbc1b10"
    },
    {
      "cell_type": "code",
      "execution_count": 16,
      "metadata": {},
      "outputs": [],
      "source": [
        "a*2"
      ],
      "id": "5b53904e-fd2e-4ad4-8d74-3c5d11d1e962"
    },
    {
      "cell_type": "code",
      "execution_count": 17,
      "metadata": {},
      "outputs": [],
      "source": [
        "l*2"
      ],
      "id": "ce0756b0-9b05-4f1a-97b3-da920b75cab4"
    },
    {
      "cell_type": "code",
      "execution_count": 18,
      "metadata": {},
      "outputs": [],
      "source": [
        "a/2"
      ],
      "id": "6dd18a4c-78cb-466e-8268-7e730da11975"
    },
    {
      "cell_type": "code",
      "execution_count": 19,
      "metadata": {},
      "outputs": [],
      "source": [
        "l/2"
      ],
      "id": "f79ec45f-ae57-4ce5-8c81-22e0ca0db268"
    },
    {
      "cell_type": "code",
      "execution_count": 20,
      "metadata": {},
      "outputs": [],
      "source": [
        "a**2"
      ],
      "id": "ee37bfbd-e347-4427-b251-97a04195b92c"
    },
    {
      "cell_type": "code",
      "execution_count": 21,
      "metadata": {},
      "outputs": [],
      "source": [
        "l**2"
      ],
      "id": "d54cb915-ea0f-46bf-b563-44222ff47a9b"
    },
    {
      "cell_type": "code",
      "execution_count": 22,
      "metadata": {},
      "outputs": [],
      "source": [
        "a%2   # %2 = 2로 나눈 나머지 리턴"
      ],
      "id": "a5aed701-c894-4844-a6a5-42909deaf5df"
    },
    {
      "cell_type": "code",
      "execution_count": 23,
      "metadata": {},
      "outputs": [],
      "source": [
        "l%2"
      ],
      "id": "1edaf9a3-1376-4292-ab3a-7057ea872102"
    },
    {
      "cell_type": "markdown",
      "metadata": {},
      "source": [
        "### 기타 수학연산 지원"
      ],
      "id": "fc724fac-1d9e-4b19-94f2-788b9f2c5e89"
    },
    {
      "cell_type": "code",
      "execution_count": 25,
      "metadata": {},
      "outputs": [],
      "source": [
        "np.sqrt(2)"
      ],
      "id": "d4f6b2b1-e485-4ac1-af17-634664506747"
    },
    {
      "cell_type": "code",
      "execution_count": 26,
      "metadata": {},
      "outputs": [],
      "source": [
        "np.sqrt(a), np.sqrt(l)"
      ],
      "id": "11555fb9-4dcc-45a5-a6d1-9cd7e8edb8d0"
    },
    {
      "cell_type": "code",
      "execution_count": 27,
      "metadata": {},
      "outputs": [],
      "source": [
        "np.log(a), np.log(l)"
      ],
      "id": "36ecdf66-f930-4f96-bf6d-cc1857a7cf1b"
    },
    {
      "cell_type": "code",
      "execution_count": 28,
      "metadata": {},
      "outputs": [],
      "source": [
        "np.exp(a), np.exp(l)"
      ],
      "id": "7a4bcacf-e477-4b98-a784-41bcba34be57"
    },
    {
      "cell_type": "code",
      "execution_count": 29,
      "metadata": {},
      "outputs": [],
      "source": [
        "np.sin(a), np.sin(l)"
      ],
      "id": "95fb21a2-6019-4d9e-bf6e-51ad1bdb53b6"
    },
    {
      "cell_type": "markdown",
      "metadata": {},
      "source": [
        "## 넘파이 공부 2단계\n",
        "\n",
        "### 인덱싱 1차원\n",
        "\n",
        "`-` 선언"
      ],
      "id": "3f66f8e2-6e5e-4cf4-a018-0306e225b7cd"
    },
    {
      "cell_type": "code",
      "execution_count": 31,
      "metadata": {},
      "outputs": [],
      "source": [
        "l=[11,22,33,44,55,66]\n",
        "a=np.array(l)"
      ],
      "id": "899dba37-3090-42d6-9563-7cd11b772b44"
    },
    {
      "cell_type": "markdown",
      "metadata": {},
      "source": [
        "`-` 인덱스로 접근"
      ],
      "id": "27c97b38-f239-4e32-9150-f4ed48270aec"
    },
    {
      "cell_type": "code",
      "execution_count": 32,
      "metadata": {},
      "outputs": [],
      "source": [
        "l[0], l[1], l[2], l[3], l[4], l[5]"
      ],
      "id": "88b48d93-c4ff-4b51-8a80-9fa8b3d7fd43"
    },
    {
      "cell_type": "code",
      "execution_count": 33,
      "metadata": {},
      "outputs": [],
      "source": [
        "a[0], a[1], a[2], a[3], a[4], a[5]"
      ],
      "id": "ad70a3a6-c9cf-4a62-b47c-4d67cbd55abf"
    },
    {
      "cell_type": "markdown",
      "metadata": {},
      "source": [
        "`-` `:` 이용 (슬라이싱)"
      ],
      "id": "b87f5a87-4a69-4985-9b87-f47b27447f89"
    },
    {
      "cell_type": "code",
      "execution_count": 34,
      "metadata": {},
      "outputs": [],
      "source": [
        "l[2:4] # index 2에서 시작, index 4는 포함하지 않음"
      ],
      "id": "fea2eec3-3c6a-49e7-8d6c-fe4bf7c72305"
    },
    {
      "cell_type": "code",
      "execution_count": 35,
      "metadata": {},
      "outputs": [],
      "source": [
        "a[2:4]"
      ],
      "id": "5840b51b-4034-41a3-bd10-80e6e4342ac9"
    },
    {
      "cell_type": "markdown",
      "metadata": {},
      "source": [
        "`-` 점수배열에 의한 익덱싱"
      ],
      "id": "c6a24220-76ce-4397-9922-2f13807402b2"
    },
    {
      "cell_type": "code",
      "execution_count": 42,
      "metadata": {},
      "outputs": [],
      "source": [
        "a"
      ],
      "id": "e92f4e88-0c82-4e19-b305-488d9751fa57"
    },
    {
      "cell_type": "code",
      "execution_count": 43,
      "metadata": {},
      "outputs": [],
      "source": [
        "  a[[0,2,4]]  # index=0, index=2, index=4 에 해당하는 원소를 뽑고 싶다 -> 가능"
      ],
      "id": "f4493348-c184-4e0a-920b-70cfd9d3e312"
    },
    {
      "cell_type": "code",
      "execution_count": 44,
      "metadata": {},
      "outputs": [],
      "source": [
        " l[[0,2,4]]    # 리스트는 불가능"
      ],
      "id": "f0813fae-574d-47b5-a160-55165bc440c3"
    },
    {
      "cell_type": "markdown",
      "metadata": {},
      "source": [
        "`-` 부울값에 의한 인덱싱"
      ],
      "id": "c935c416-07db-4dae-94ea-db3180939d61"
    },
    {
      "cell_type": "code",
      "execution_count": 45,
      "metadata": {},
      "outputs": [],
      "source": [
        "a"
      ],
      "id": "9ab06483-d2a5-4bf3-9616-f7077e08c67b"
    },
    {
      "cell_type": "code",
      "execution_count": 46,
      "metadata": {},
      "outputs": [],
      "source": [
        "a[[True, True, False, True, False, False]]"
      ],
      "id": "0891a94c-42b9-4041-8417-d6f3c659e6f1"
    },
    {
      "cell_type": "markdown",
      "metadata": {},
      "source": [
        "응용하면?"
      ],
      "id": "fae8ad09-d847-4612-9148-f876de010d29"
    },
    {
      "cell_type": "code",
      "execution_count": 47,
      "metadata": {},
      "outputs": [],
      "source": [
        "a<33"
      ],
      "id": "afbe7e9b-ce01-4684-9178-dc9494ce184d"
    },
    {
      "cell_type": "code",
      "execution_count": 49,
      "metadata": {},
      "outputs": [],
      "source": [
        "a[[ True,  True, False, False, False, False]]"
      ],
      "id": "071436d1-a08f-4f17-ab4c-db6fcff3caf7"
    },
    {
      "cell_type": "code",
      "execution_count": 48,
      "metadata": {},
      "outputs": [],
      "source": [
        "a[a<33]"
      ],
      "id": "b1015ba0-e9b8-4ed6-ab23-1f5e733227be"
    },
    {
      "cell_type": "markdown",
      "metadata": {},
      "source": [
        "리스트는 불가능"
      ],
      "id": "d36b00e7-3bc7-4b43-962f-af91f1b84ba3"
    },
    {
      "cell_type": "code",
      "execution_count": 50,
      "metadata": {},
      "outputs": [],
      "source": [
        "l<33"
      ],
      "id": "f93bdbd3-df57-422f-b578-1bd27730997c"
    },
    {
      "cell_type": "code",
      "execution_count": 51,
      "metadata": {},
      "outputs": [],
      "source": [
        "l[[True, True, False, True, False, False]]"
      ],
      "id": "8b2aa4ea-1398-46c0-8c85-c41110c68fc5"
    },
    {
      "cell_type": "markdown",
      "metadata": {},
      "source": [
        "### 인덱싱 2차원\n",
        "\n",
        "`-` 중첩리스트와 2차원 np.array 선언"
      ],
      "id": "01b534ba-19a0-4251-9670-925d10cc1c07"
    },
    {
      "cell_type": "code",
      "execution_count": 53,
      "metadata": {},
      "outputs": [],
      "source": [
        "A = [[1,2,3,4],[-1,-2,-3,-4],[5,6,7,8],[-5,-6,-7,-8]]\n",
        "A2 = np.array(A)"
      ],
      "id": "35533477-9227-425f-be84-30ad4c78b80b"
    },
    {
      "cell_type": "code",
      "execution_count": 54,
      "metadata": {},
      "outputs": [],
      "source": [
        "A2"
      ],
      "id": "46fb18e3-03a2-410a-bfc3-94f1b039c2c4"
    },
    {
      "cell_type": "code",
      "execution_count": 55,
      "metadata": {},
      "outputs": [],
      "source": [
        "A"
      ],
      "id": "15db1579-3f20-4067-afd9-f47e0b4cc8cb"
    },
    {
      "cell_type": "markdown",
      "metadata": {},
      "source": [
        "`-` A의 원소 인덱싱"
      ],
      "id": "200dc5e5-90fd-447e-93fe-0b99bea84be8"
    },
    {
      "cell_type": "code",
      "execution_count": 56,
      "metadata": {},
      "outputs": [],
      "source": [
        "A[0][0] # A의 (1,1)의 원소"
      ],
      "id": "3ed89f74-307a-4866-99af-eff7579cf47a"
    },
    {
      "cell_type": "code",
      "execution_count": 60,
      "metadata": {},
      "outputs": [],
      "source": [
        "A[1][2] # A의 (2,3)의 원소"
      ],
      "id": "c46a3367-ad2e-4480-83da-7082dbf21740"
    },
    {
      "cell_type": "code",
      "execution_count": 61,
      "metadata": {},
      "outputs": [],
      "source": [
        "A[-1][0] # A의 (4,1)의 원소"
      ],
      "id": "a1e1984a-2617-4e71-95bc-2f53441ff6a6"
    },
    {
      "cell_type": "markdown",
      "metadata": {},
      "source": [
        "`-` A2의 원소 인덱싱"
      ],
      "id": "18258efa-7414-4601-adcb-bff2d946f83b"
    },
    {
      "cell_type": "code",
      "execution_count": 59,
      "metadata": {},
      "outputs": [],
      "source": [
        "A2[0][0]"
      ],
      "id": "0fb15881-c7d7-4c72-b013-e7f7ff8b31d0"
    },
    {
      "cell_type": "code",
      "execution_count": 62,
      "metadata": {},
      "outputs": [],
      "source": [
        "A2[1][2] # A2의 (2,3)의 원소"
      ],
      "id": "e2fe5966-1ad1-4ded-aa7f-e6275f878a27"
    },
    {
      "cell_type": "code",
      "execution_count": 63,
      "metadata": {},
      "outputs": [],
      "source": [
        "A2[-1][0] # A2의 (4,1)의 원소"
      ],
      "id": "cbbd6842-fbce-41d6-b5eb-2937f3566106"
    },
    {
      "cell_type": "markdown",
      "metadata": {},
      "source": [
        "`-` A2에서만 되는 기술 (넘파이에서 제시하는 신기술, R에서는 기본적으로\n",
        "쓰던것, 이중list는 불가능)"
      ],
      "id": "bde10b3e-fbd4-440b-8002-d1ef2ed974ff"
    },
    {
      "cell_type": "code",
      "execution_count": 64,
      "metadata": {},
      "outputs": [],
      "source": [
        "A2[0,0]"
      ],
      "id": "ccbcdecb-2ea4-42cc-aed8-2e173c16def4"
    },
    {
      "cell_type": "code",
      "execution_count": 65,
      "metadata": {},
      "outputs": [],
      "source": [
        "A2[1,2] # A2의 (2,3)의 원소"
      ],
      "id": "d4a8b6f6-6025-4c34-a729-d79f3c2fb005"
    },
    {
      "cell_type": "code",
      "execution_count": 66,
      "metadata": {},
      "outputs": [],
      "source": [
        "A2[-1,0] # A2의 (4,1)의 원소"
      ],
      "id": "3d4a8092-6fad-415a-846d-de70900f5756"
    },
    {
      "cell_type": "markdown",
      "metadata": {},
      "source": [
        "`-` 정수배열에 의한 인덱싱 & 슬라이싱!"
      ],
      "id": "57c3d9e2-9940-4b99-9575-648ed04142fb"
    },
    {
      "cell_type": "code",
      "execution_count": 67,
      "metadata": {},
      "outputs": [],
      "source": [
        "A2"
      ],
      "id": "6ac93815-3257-4994-8a36-bb5eca33f584"
    },
    {
      "cell_type": "code",
      "execution_count": 68,
      "metadata": {},
      "outputs": [],
      "source": [
        "A2[0,0:2]   # 1행 1열, 1행 2열"
      ],
      "id": "edd422eb-0245-4209-8f84-0bbb19191204"
    },
    {
      "cell_type": "code",
      "execution_count": 69,
      "metadata": {},
      "outputs": [],
      "source": [
        "A2[0,:]  # 1행"
      ],
      "id": "2c8cc645-b2a6-4bcf-bbf1-0a246da75fdb"
    },
    {
      "cell_type": "code",
      "execution_count": 73,
      "metadata": {},
      "outputs": [],
      "source": [
        "A2[0]  # 1행"
      ],
      "id": "09ebc8cd-dede-4028-9fca-75c89d31a3b8"
    },
    {
      "cell_type": "code",
      "execution_count": 71,
      "metadata": {},
      "outputs": [],
      "source": [
        "A2[[0,2],:]   # 1행, 3행"
      ],
      "id": "d7ae59e5-85c8-43b6-8155-7dc33fecb58b"
    },
    {
      "cell_type": "code",
      "execution_count": 75,
      "metadata": {},
      "outputs": [],
      "source": [
        "A2[[0,2]]   # 1행, 3행"
      ],
      "id": "93ef2bf6-5bc8-4dac-b5da-7a0e0788ad5e"
    },
    {
      "cell_type": "code",
      "execution_count": 77,
      "metadata": {},
      "outputs": [],
      "source": [
        "A2[:,0] # 1열"
      ],
      "id": "10ecbef2-21c4-44ec-b9f4-998cbb74d5eb"
    },
    {
      "cell_type": "code",
      "execution_count": 78,
      "metadata": {},
      "outputs": [],
      "source": [
        "A2[:,[0]] # 1열"
      ],
      "id": "22b2a603-1a88-4d9b-8438-cdc616eaf11c"
    },
    {
      "cell_type": "code",
      "execution_count": 79,
      "metadata": {},
      "outputs": [],
      "source": [
        "A2[:,[0,2]] # 1열, 3열"
      ],
      "id": "0693685d-2dfe-49e4-a4ee-a202040bb3f6"
    },
    {
      "cell_type": "code",
      "execution_count": 81,
      "metadata": {},
      "outputs": [],
      "source": [
        "A2[0:2,[0,2]]  # 1행-2행 / 1열-3열"
      ],
      "id": "239b0fc7-12a5-4a73-a643-c384bee522e3"
    },
    {
      "cell_type": "markdown",
      "metadata": {},
      "source": [
        "### 1차원 배열의 선언\n",
        "\n",
        "`-` 리스트나 튜플을 선언하고 형변환"
      ],
      "id": "2c4dab96-ab28-43b9-9628-ac2016d62cbd"
    },
    {
      "cell_type": "code",
      "execution_count": 82,
      "metadata": {},
      "outputs": [],
      "source": [
        "np.array((1,2,3)) # 튜플->넘파이어레이"
      ],
      "id": "d8837afa-eaac-4992-a5e1-42163b2ddcc5"
    },
    {
      "cell_type": "code",
      "execution_count": 83,
      "metadata": {},
      "outputs": [],
      "source": [
        "np.array([1,2,3]) # 리스트->넘파이어레이"
      ],
      "id": "4d354f81-672d-42b8-92b2-6d2cc7a8f475"
    },
    {
      "cell_type": "markdown",
      "metadata": {},
      "source": [
        "`-` range()를 이용해서 선언하고 형변환"
      ],
      "id": "6087d6e2-e76c-46f2-91e6-f45d94e42f61"
    },
    {
      "cell_type": "code",
      "execution_count": 85,
      "metadata": {},
      "outputs": [],
      "source": [
        "np.array(range(10))  # range(10)->넘파이어레이"
      ],
      "id": "4d02cfc0-596c-4b29-b4da-e50ec1bd8c76"
    },
    {
      "cell_type": "markdown",
      "metadata": {},
      "source": [
        "`-` np.zeros, np.ones"
      ],
      "id": "2867e44c-82ea-45e4-bf04-d42794af7a15"
    },
    {
      "cell_type": "code",
      "execution_count": 88,
      "metadata": {},
      "outputs": [],
      "source": [
        "np.zeros(3)"
      ],
      "id": "dbdba1e0-1d85-49c1-9a81-80ddc71e74ca"
    },
    {
      "cell_type": "code",
      "execution_count": 89,
      "metadata": {},
      "outputs": [],
      "source": [
        "np.ones(4)"
      ],
      "id": "058eb8cf-3065-4670-b8de-c352fcb12b9a"
    },
    {
      "cell_type": "markdown",
      "metadata": {},
      "source": [
        "`-` np.linspace"
      ],
      "id": "50ddd6ff-829e-4872-bf07-b76ae1e1f9c9"
    },
    {
      "cell_type": "code",
      "execution_count": 91,
      "metadata": {},
      "outputs": [],
      "source": [
        "np.linspace(0,1,12)   # 0부터 1까지 12개로 쪼개기   (양끝점 모두 포함)"
      ],
      "id": "70d90fd5-f802-48d5-a2ab-b2bcbdfe9d9b"
    },
    {
      "cell_type": "code",
      "execution_count": 93,
      "metadata": {},
      "outputs": [],
      "source": [
        "len(np.linspace(0,1,12))"
      ],
      "id": "ef853bd2-5df2-4027-8b67-ec9e6aa6e141"
    },
    {
      "cell_type": "markdown",
      "metadata": {},
      "source": [
        "`-` np.arange"
      ],
      "id": "c9bf2536-b3e7-4058-a286-6137a376ab3c"
    },
    {
      "cell_type": "code",
      "execution_count": 94,
      "metadata": {},
      "outputs": [],
      "source": [
        "np.arange(5)  #np.array(range(5))"
      ],
      "id": "3ee6ccf9-f653-4460-a7cb-709323236d79"
    },
    {
      "cell_type": "code",
      "execution_count": 95,
      "metadata": {},
      "outputs": [],
      "source": [
        "np.arange(1,6)   #np.array(range(1,6))"
      ],
      "id": "e94858b0-66ed-4294-a82f-7abf0ddba147"
    },
    {
      "cell_type": "markdown",
      "metadata": {},
      "source": [
        "### reshape\n",
        "\n",
        "`-` reshape: ndarray의 특수한 기능"
      ],
      "id": "2e303005-26fe-4cbe-bed2-10df5087d00c"
    },
    {
      "cell_type": "code",
      "execution_count": 103,
      "metadata": {},
      "outputs": [],
      "source": [
        "a=np.array([11,22,33,44,55,66])\n",
        "a  #길이가 6인 벡터"
      ],
      "id": "bb5b5fba-7fc2-41a6-ba2a-24b7eb4218a7"
    },
    {
      "cell_type": "code",
      "execution_count": 98,
      "metadata": {},
      "outputs": [],
      "source": [
        "type(a)"
      ],
      "id": "3c2a75bc-acf5-44ff-b1d8-48aa07af454c"
    },
    {
      "cell_type": "code",
      "execution_count": 99,
      "metadata": {},
      "outputs": [],
      "source": [
        "a.reshape"
      ],
      "id": "8c1b9e8b-e764-446e-9838-3bd9ab714e18"
    },
    {
      "cell_type": "code",
      "execution_count": 104,
      "metadata": {},
      "outputs": [],
      "source": [
        "a.reshape(2,3)  # (2,3) matrix라고 생각해도 무방"
      ],
      "id": "52e414d2-e95c-415d-a201-39d63986e6da"
    },
    {
      "cell_type": "code",
      "execution_count": 102,
      "metadata": {},
      "outputs": [],
      "source": [
        "a.reshape(5,2)"
      ],
      "id": "5c627454-f3a3-467a-a054-3d0d917e091a"
    },
    {
      "cell_type": "markdown",
      "metadata": {},
      "source": [
        "note: reshape은 a자체를 변홧키는 것은 아님"
      ],
      "id": "4a8884ac-4c51-4403-82ac-adeb6deb86d6"
    },
    {
      "cell_type": "code",
      "execution_count": 106,
      "metadata": {},
      "outputs": [],
      "source": [
        "a  # reshape은 a자체는 변화하지 않음"
      ],
      "id": "c079ce19-8e15-4859-bbe3-3763ed3d35c0"
    },
    {
      "cell_type": "code",
      "execution_count": 109,
      "metadata": {},
      "outputs": [],
      "source": [
        "b=a.reshape(2,3)  # a를 reshape한 결과를 b에 저장\n",
        "b"
      ],
      "id": "f4aba230-5e42-4d5c-8e84-b28432d3082a"
    },
    {
      "cell_type": "code",
      "execution_count": 110,
      "metadata": {},
      "outputs": [],
      "source": [
        " a  # a는 여전히 그대로 있음"
      ],
      "id": "865c06c1-4e9b-44cf-95ab-ff53ac80f29b"
    },
    {
      "cell_type": "markdown",
      "metadata": {},
      "source": [
        "`-` 다시 b를 a처럼 바꾸고 싶다."
      ],
      "id": "47f4a652-7a00-437c-bdeb-5d116f543ad6"
    },
    {
      "cell_type": "code",
      "execution_count": 111,
      "metadata": {},
      "outputs": [],
      "source": [
        "b"
      ],
      "id": "29a9ed9e-fcce-4fed-ba1a-c22fba23fb7a"
    },
    {
      "cell_type": "code",
      "execution_count": 115,
      "metadata": {},
      "outputs": [],
      "source": [
        "b.reshape(6) # b는 (2,3) matrix, 그런데 이것을 길이가 6인 벡터로 만들고 싶다."
      ],
      "id": "8e8ec5aa-f352-40e3-ac6d-5a4832c1350b"
    },
    {
      "cell_type": "code",
      "execution_count": 118,
      "metadata": {},
      "outputs": [],
      "source": [
        "a.shape   # 길이가 1인 튜플"
      ],
      "id": "c8cdfd18-2356-427b-80c9-887adad8efc9"
    },
    {
      "cell_type": "code",
      "execution_count": 119,
      "metadata": {},
      "outputs": [],
      "source": [
        "b.shape   # 길이가 2인 튜플이니까 2차원 "
      ],
      "id": "6b68b9b3-55ab-4777-854f-2d860abc3010"
    },
    {
      "cell_type": "markdown",
      "metadata": {},
      "source": [
        "`-` reshape with -1"
      ],
      "id": "1150ae78-8c67-47a8-8c48-c3466fdb5c7e"
    },
    {
      "cell_type": "code",
      "execution_count": 122,
      "metadata": {},
      "outputs": [],
      "source": [
        "a=np.arange(24)  #np.array(range(24))\n",
        "a"
      ],
      "id": "ebb8e5aa-a2ea-4738-8cc3-a4cdbf906ace"
    },
    {
      "cell_type": "code",
      "execution_count": 124,
      "metadata": {},
      "outputs": [],
      "source": [
        "a.reshape(2,?) # 에러.."
      ],
      "id": "70e915de-ffbc-4e37-aa76-e0e60d2c27ab"
    },
    {
      "cell_type": "code",
      "execution_count": 125,
      "metadata": {},
      "outputs": [],
      "source": [
        "a.reshape(2,-1)"
      ],
      "id": "3d1cda6e-21c2-40e8-b8e6-9a0c62deb752"
    },
    {
      "cell_type": "code",
      "execution_count": 126,
      "metadata": {},
      "outputs": [],
      "source": [
        "a.reshape(3,-1)"
      ],
      "id": "ce1d20a3-294a-4328-af1c-ec4f6492563e"
    },
    {
      "cell_type": "code",
      "execution_count": 127,
      "metadata": {},
      "outputs": [],
      "source": [
        "a.reshape(4,-1)"
      ],
      "id": "9961943b-5981-4059-936c-a3d8493bcd01"
    },
    {
      "cell_type": "code",
      "execution_count": 128,
      "metadata": {},
      "outputs": [],
      "source": [
        "a.reshape(7,-1)  # 나눠떨어지지 않으니까.. "
      ],
      "id": "32199bf8-930d-4399-a900-36abd60aaa1c"
    },
    {
      "cell_type": "code",
      "execution_count": 130,
      "metadata": {},
      "outputs": [],
      "source": [
        "b=a.reshape(12,-1)\n",
        "b"
      ],
      "id": "e529df5c-ee2d-42d7-9bef-538147c629f0"
    },
    {
      "cell_type": "code",
      "execution_count": 131,
      "metadata": {},
      "outputs": [],
      "source": [
        "b.reshape(24) # b를 다시 길이가 24인 벡터로 만들고 싶다."
      ],
      "id": "bb7ef277-ca40-425e-ae1b-977bad8f6952"
    },
    {
      "cell_type": "code",
      "execution_count": 133,
      "metadata": {},
      "outputs": [],
      "source": [
        "b.reshape(-1) # b를 다시 길이가 24인 벡터로 만들고 싶다."
      ],
      "id": "19f6fa21-0e55-4851-8744-8ebfe6d67feb"
    },
    {
      "cell_type": "markdown",
      "metadata": {},
      "source": [
        "### 2차원 배열의 선언"
      ],
      "id": "22e4e074-c644-4f6b-b4c5-875088281e42"
    },
    {
      "cell_type": "code",
      "execution_count": 134,
      "metadata": {},
      "outputs": [],
      "source": [
        "\n",
        "np.zeros((3,3))"
      ],
      "id": "1ea17a37-9e36-4a46-a961-2db3c0780252"
    },
    {
      "cell_type": "code",
      "execution_count": 135,
      "metadata": {},
      "outputs": [],
      "source": [
        "np.ones((3,3))"
      ],
      "id": "59316186-4eef-4094-9610-9fceff60c532"
    },
    {
      "cell_type": "code",
      "execution_count": 138,
      "metadata": {},
      "outputs": [],
      "source": [
        "np.eye(3) "
      ],
      "id": "9edde4a7-8d94-407f-9331-cbcb25726de1"
    },
    {
      "cell_type": "code",
      "execution_count": 139,
      "metadata": {},
      "outputs": [],
      "source": [
        "np.diag([1,2,3,-1])"
      ],
      "id": "e2b9f810-22ea-4106-9166-797cf69894dd"
    },
    {
      "cell_type": "markdown",
      "metadata": {},
      "source": [
        "### 랜덤으로 생성"
      ],
      "id": "585dc9d3-6117-4303-b372-6a642a0401b6"
    },
    {
      "cell_type": "code",
      "execution_count": 141,
      "metadata": {},
      "outputs": [],
      "source": [
        "np.random.randn(10)  # 표준정규분포에서 10개를 뽑음"
      ],
      "id": "a2f1289a-cd61-491f-9352-589f971ab0e7"
    },
    {
      "cell_type": "code",
      "execution_count": 142,
      "metadata": {},
      "outputs": [],
      "source": [
        "np.random.rand(10)  # 0~1 사이에서 10개를 뽑음"
      ],
      "id": "d8d1e0a1-9459-4964-a0c6-144af5f2876d"
    },
    {
      "cell_type": "code",
      "execution_count": 144,
      "metadata": {},
      "outputs": [],
      "source": [
        "np.random.randn(4).reshape(2,2)  # 표준정규분포에서 4개를 뽑고 (2,2) nparray로 형태변환"
      ],
      "id": "6921b870-9ba0-490c-a6b5-3f8fb3e8938d"
    },
    {
      "cell_type": "code",
      "execution_count": 145,
      "metadata": {},
      "outputs": [],
      "source": [
        "np.random.rand(4).reshape(2,2)  # 0~1에서 4개를 뽑고 (2,2) nparray로 형태변환"
      ],
      "id": "6c3e36c8-c241-4f1c-b3e6-b522ca31ac30"
    },
    {
      "cell_type": "markdown",
      "metadata": {},
      "source": [
        "### 행렬"
      ],
      "id": "8791b562-6b3b-4631-9813-81a8a449387b"
    },
    {
      "cell_type": "code",
      "execution_count": 149,
      "metadata": {},
      "outputs": [],
      "source": [
        "A=np.array(range(4)).reshape(2,2)\n",
        "A"
      ],
      "id": "f0535a9d-5071-4c99-b63f-f4bd0614bb1c"
    },
    {
      "cell_type": "code",
      "execution_count": 150,
      "metadata": {},
      "outputs": [],
      "source": [
        "A.T #전치행렬"
      ],
      "id": "e7722d9a-e94c-4dfb-9304-15f15e8ddbf0"
    },
    {
      "cell_type": "code",
      "execution_count": 151,
      "metadata": {},
      "outputs": [],
      "source": [
        "np.linalg.inv(A)   # 역행렬"
      ],
      "id": "eec3bf78-fa79-4e9c-b5ec-42e81b5ab94d"
    },
    {
      "cell_type": "code",
      "execution_count": 152,
      "metadata": {},
      "outputs": [],
      "source": [
        "A @ np.linalg.inv(A)  # 단위행렬   # @는 행렬곱을 수행\n"
      ],
      "id": "a0eda476-d681-421c-b088-8497ce570ad4"
    },
    {
      "cell_type": "markdown",
      "metadata": {},
      "source": [
        "## 숙제"
      ],
      "id": "fc9ea42b-bfdc-4b56-b30e-59431fd48b9b"
    },
    {
      "cell_type": "code",
      "execution_count": 153,
      "metadata": {},
      "outputs": [],
      "source": [
        "A=np.array(range(6))\n",
        "A # 길이가 6인 벡터"
      ],
      "id": "7d6c40a7-75b4-4552-a511-2012dbe7d4d6"
    },
    {
      "cell_type": "markdown",
      "metadata": {},
      "source": [
        "위와 같이 길이가 6인 벡터 A를 (2,3) ndarray로 변경"
      ],
      "id": "00de918a-cc7a-4aeb-9c27-e8cc49fe787e"
    },
    {
      "cell_type": "code",
      "execution_count": 154,
      "metadata": {},
      "outputs": [],
      "source": [
        "A.reshape(2,3)"
      ],
      "id": "2624d5af-2d46-4f89-beab-42acfdb2abf8"
    },
    {
      "cell_type": "code",
      "execution_count": 155,
      "metadata": {},
      "outputs": [],
      "source": [
        "len(A.reshape(2,3))"
      ],
      "id": "e7e88552-b2c1-4839-a9ef-4275306243ff"
    }
  ],
  "nbformat": 4,
  "nbformat_minor": 5,
  "metadata": {
    "kernelspec": {
      "name": "python3",
      "display_name": "Python 3",
      "language": "python"
    },
    "language_info": {
      "name": "python",
      "codemirror_mode": {
        "name": "ipython",
        "version": "3"
      },
      "file_extension": ".py",
      "mimetype": "text/x-python",
      "nbconvert_exporter": "python",
      "pygments_lexer": "ipython3",
      "version": "3.7.16"
    },
    "toc-showcode": false
  }
}