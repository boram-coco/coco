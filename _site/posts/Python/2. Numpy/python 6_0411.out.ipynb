{
  "cells": [
    {
      "cell_type": "markdown",
      "metadata": {},
      "source": [
        "# 파이썬 (0411) 6주차\n",
        "\n",
        "김보람  \n",
        "2022-04-11\n",
        "\n",
        "### imports"
      ],
      "id": "3464e1a7-da31-4b39-9b16-d58485b51b48"
    },
    {
      "cell_type": "code",
      "execution_count": null,
      "metadata": {},
      "outputs": [],
      "source": [
        "import numpy as np"
      ],
      "id": "c4a2c671-67bb-4247-93ee-12eaf3e8d3ae"
    },
    {
      "cell_type": "markdown",
      "metadata": {},
      "source": [
        "### numpy공부 3단계: 차원\n",
        "\n",
        "#### 2차원 배열과 연립 1차 방정식\n",
        "\n",
        "`-` 아래의 연립방정식 고려\n",
        "\n",
        "$\\begin{cases} y+z+w = 3 \\\\ x+z+w = 3 \\\\ x+y+w = 3 \\\\ x+y+z = 3 \\end{cases}$\n",
        "\n",
        "`-` 행렬표현?\n",
        "\n",
        "$\\begin{bmatrix} 0 & 1 & 1 & 1 \\\\ 1 & 0 & 1 & 1 \\\\ 1 & 1 & 0 & 1 \\\\ 1 & 1 & 1 & 0 \\end{bmatrix} \\begin{bmatrix} x \\\\ y \\\\ z \\\\ w \\end{bmatrix} = \\begin{bmatrix} 3 \\\\ 3 \\\\ 3 \\\\ 3 \\end{bmatrix}$\n",
        "\n",
        "`-` 풀이"
      ],
      "id": "90d53aec-5709-4a85-8f59-1407afa17e63"
    },
    {
      "cell_type": "code",
      "execution_count": null,
      "metadata": {
        "outputId": "8037f409-969e-4037-fab8-2937910705b5"
      },
      "outputs": [],
      "source": [
        "A = np.array([[0,1,1,1],[1,0,1,1],[1,1,0,1],[1,1,1,0]])\n",
        "A"
      ],
      "id": "8ead3cfd-c2c2-4396-b5b3-a29f046dca75"
    },
    {
      "cell_type": "code",
      "execution_count": null,
      "metadata": {
        "outputId": "b24d96a7-f27f-467d-c3af-997d1aaecf6e"
      },
      "outputs": [],
      "source": [
        "b= np.array([3,3,3,3]).reshape(4,1)\n",
        "b"
      ],
      "id": "d1076ac5-6da8-40c4-a300-cc5568282f63"
    },
    {
      "cell_type": "code",
      "execution_count": null,
      "metadata": {
        "outputId": "27aabe73-3d4f-47a2-8b9b-16986c1baadf"
      },
      "outputs": [],
      "source": [
        "np.linalg.inv(A) @ b "
      ],
      "id": "6f1095cf-098e-48ae-a980-81bea7538c5d"
    },
    {
      "cell_type": "markdown",
      "metadata": {},
      "source": [
        "`-` 다른풀이\n",
        "\n",
        "b를 아래와 같이 만들어도 된다."
      ],
      "id": "f21e9e5f-c842-4123-848a-3da7cea67bff"
    },
    {
      "cell_type": "code",
      "execution_count": null,
      "metadata": {
        "outputId": "31d64595-1070-43fe-9af0-f3b2cc553155"
      },
      "outputs": [],
      "source": [
        "b=np.array([3,3,3,3])\n",
        "b"
      ],
      "id": "5f7663ab-e096-47f4-afff-b761c7777a80"
    },
    {
      "cell_type": "code",
      "execution_count": null,
      "metadata": {
        "outputId": "7093b44a-452a-4817-865d-39d79bad2632"
      },
      "outputs": [],
      "source": [
        "b.shape # b.shape은 길이가 1인 튜플로 나온다. "
      ],
      "id": "7b82c5b9-0eba-4c21-8dec-0d094156e1e7"
    },
    {
      "cell_type": "code",
      "execution_count": null,
      "metadata": {
        "outputId": "4b0fe592-17a2-49b8-c002-262d5086977c"
      },
      "outputs": [],
      "source": [
        "np.linalg.inv(A) @ b "
      ],
      "id": "83aaac2e-7526-4b1c-aa75-422a96021fa5"
    },
    {
      "cell_type": "markdown",
      "metadata": {},
      "source": [
        "#### `@`의 유연성\n",
        "\n",
        "`-` 엄밀하게는 아래의 행렬곱이 가능하다. - (2,2) @ (2,1) =\\> (2,1) -\n",
        "(1,2) @ (2,2) =\\> (1,2)"
      ],
      "id": "67b3d4b7-a409-4ba0-b3bd-787c2af1e405"
    },
    {
      "cell_type": "code",
      "execution_count": null,
      "metadata": {
        "outputId": "632d66cd-9206-4e6c-b1b4-6cfe70bf2908"
      },
      "outputs": [],
      "source": [
        "A = np.array([1,2,3,4]).reshape(2,2) \n",
        "b = np.array([1,2]).reshape(2,1) \n",
        "A@b"
      ],
      "id": "504906f8-b92b-480b-a2bb-e37f7d873df6"
    },
    {
      "cell_type": "code",
      "execution_count": null,
      "metadata": {
        "outputId": "fef65396-e0e6-447d-f345-6c950c298ff6"
      },
      "outputs": [],
      "source": [
        "A.shape, b.shape, (A@b).shape"
      ],
      "id": "97634696-a710-4045-ae86-9a3fc81760aa"
    },
    {
      "cell_type": "code",
      "execution_count": null,
      "metadata": {
        "outputId": "9f1c5b3f-9ce4-4b6f-823f-70acf528cb45"
      },
      "outputs": [],
      "source": [
        "A = np.array([1,2,3,4]).reshape(2,2) \n",
        "b = np.array([1,2]).reshape(1,2) \n",
        "b@A "
      ],
      "id": "17f2c007-db45-4adc-8f71-8647d6a3e3f4"
    },
    {
      "cell_type": "code",
      "execution_count": null,
      "metadata": {
        "outputId": "157afcb9-92e9-49d9-956c-afd8b2efc07d"
      },
      "outputs": [],
      "source": [
        "A.shape, b.shape, (b@A).shape"
      ],
      "id": "9b760f32-cf00-46ca-b9e7-7fe420d2fb76"
    },
    {
      "cell_type": "markdown",
      "metadata": {},
      "source": [
        "`-` 당연히 아래는 성립안한다."
      ],
      "id": "8d411b8b-5334-4300-94ed-ee4666f8a374"
    },
    {
      "cell_type": "code",
      "execution_count": null,
      "metadata": {
        "outputId": "aef4f02a-09a1-48e9-ea5d-9954430738e8"
      },
      "outputs": [],
      "source": [
        "A = np.array([1,2,3,4]).reshape(2,2) \n",
        "b = np.array([1,2]).reshape(2,1) \n",
        "b@A"
      ],
      "id": "ad0c85a3-39e4-4ac5-b7dc-ae9e5356a229"
    },
    {
      "cell_type": "code",
      "execution_count": null,
      "metadata": {
        "outputId": "0dfeadfa-98fa-4578-db50-2380c101183e"
      },
      "outputs": [],
      "source": [
        "A = np.array([1,2,3,4]).reshape(2,2) \n",
        "b = np.array([1,2]).reshape(1,2) \n",
        "A@b"
      ],
      "id": "0e7502de-a2e1-418f-b605-24e2c9e0afc1"
    },
    {
      "cell_type": "markdown",
      "metadata": {},
      "source": [
        "`-` 아래는 어떨까? 계산가능할까? $\\to$ 모두 계산가능! - (2,) @ (2,2) =\n",
        "(2,) - (2,2) @ (2,) = (2,)"
      ],
      "id": "d06256f6-9c62-4431-9339-8ea248955f99"
    },
    {
      "cell_type": "code",
      "execution_count": null,
      "metadata": {
        "outputId": "3ec2c07e-cf75-4bbb-ef8e-eca6e34a7c75"
      },
      "outputs": [],
      "source": [
        "A = np.array([1,2,3,4]).reshape(2,2)\n",
        "b = np.array([1,2]) \n",
        "A@b"
      ],
      "id": "b711f1c6-300f-4718-a06f-37dadd295359"
    },
    {
      "cell_type": "code",
      "execution_count": null,
      "metadata": {
        "outputId": "aae6a2d6-775c-4508-8026-eb46c2bb6f1e"
      },
      "outputs": [],
      "source": [
        "A.shape, b.shape, (A@b).shape "
      ],
      "id": "32dcab3c-aacb-4f86-b39e-d7ad0b4d6f7e"
    },
    {
      "cell_type": "markdown",
      "metadata": {},
      "source": [
        "-   b를 마치 (2,1)처럼 해석하여 행렬곱하고 결과는 다시 (2,) 로 만든것\n",
        "    같다."
      ],
      "id": "29fb1bea-6f6b-4455-85ee-d317a8fb6f54"
    },
    {
      "cell_type": "code",
      "execution_count": null,
      "metadata": {
        "outputId": "3b9104c9-aa25-4bd2-dfe3-cc291a15e1f1"
      },
      "outputs": [],
      "source": [
        "b@A"
      ],
      "id": "f8c4fa6c-0734-49c7-9000-4242ba774032"
    },
    {
      "cell_type": "code",
      "execution_count": null,
      "metadata": {
        "outputId": "85395d78-6127-4955-ef16-476f9bfa2599"
      },
      "outputs": [],
      "source": [
        "A.shape, b.shape, (b@A).shape "
      ],
      "id": "1e47215f-9f55-4ee1-bc87-203a615cb39f"
    },
    {
      "cell_type": "markdown",
      "metadata": {},
      "source": [
        "-   이때는 $b$를 마치 (1,2)처럼 해석하여 행렬곱하고 결과는 다시 (2,)로\n",
        "    만든것 같다.\n",
        "\n",
        "`-` 아래는 어떠할까?"
      ],
      "id": "f8fc1acd-d085-42c4-9ef1-5b1464b1ac88"
    },
    {
      "cell_type": "code",
      "execution_count": null,
      "metadata": {
        "outputId": "85314cb1-3720-441f-eace-7c5e8d6618f6"
      },
      "outputs": [],
      "source": [
        "b1 = np.array([1,2,3,4]) \n",
        "b2 = np.array([1,2,3,4]) \n",
        "b1@b2 "
      ],
      "id": "5a14ac90-eb80-481e-be9e-3eef002fbf13"
    },
    {
      "cell_type": "code",
      "execution_count": null,
      "metadata": {
        "outputId": "b6d6f3fe-bd3b-4f05-e187-69a7b3c53193"
      },
      "outputs": [],
      "source": [
        "b1.shape, b2.shape, (b1@b2).shape "
      ],
      "id": "9c99fc6a-52ed-4531-ae28-01ab9566a07f"
    },
    {
      "cell_type": "markdown",
      "metadata": {},
      "source": [
        "-   (1,4) @ (4,1) = (1,1) 로 생각\n",
        "\n",
        "`-` 즉 위는 아래와 같이 해석하고 행렬곱한것과 결과가 같다."
      ],
      "id": "954849dd-390c-4b51-8feb-c5fd46add41d"
    },
    {
      "cell_type": "code",
      "execution_count": null,
      "metadata": {
        "outputId": "6a8c5eff-a6ef-4fb2-9d46-d4dbf90dc48d"
      },
      "outputs": [],
      "source": [
        "b1 = np.array([1,2,3,4]).reshape(1,4) \n",
        "b2 = np.array([1,2,3,4]).reshape(4,1) \n",
        "b1@b2 "
      ],
      "id": "4bc5d376-dcd4-4fd5-809d-0bc9c1f6f13a"
    },
    {
      "cell_type": "code",
      "execution_count": null,
      "metadata": {
        "outputId": "bf55f278-6bff-4e2c-abfc-bad0ad1a5f2e"
      },
      "outputs": [],
      "source": [
        "b1.shape, b2.shape, (b1@b2).shape "
      ],
      "id": "fe66d5b0-7627-4779-8481-bf9f2c6efde1"
    },
    {
      "cell_type": "markdown",
      "metadata": {},
      "source": [
        "`-` 때로는 (4,1) @ (1,4)와 같은 계산결과를 얻고 싶을 수 있는데 이때는\n",
        "차원을 명시해야함"
      ],
      "id": "03a9f8e1-42e5-41ed-be80-8e327b151bed"
    },
    {
      "cell_type": "code",
      "execution_count": null,
      "metadata": {
        "outputId": "879576fd-288d-4fad-95c3-8c637384ce3e"
      },
      "outputs": [],
      "source": [
        "b1 = np.array([1,2,3,4]).reshape(4,1) \n",
        "b2 = np.array([1,2,3,4]).reshape(1,4) \n",
        "b1@b2 "
      ],
      "id": "db4f0c1b-db75-433e-80a4-249251409f2f"
    },
    {
      "cell_type": "markdown",
      "metadata": {},
      "source": [
        "#### 차원\n",
        "\n",
        "`-` 넘파이배열의 차원은 .shape 으로 확인가능\n",
        "\n",
        "`-` 아래는 모두 미묘하게 다르다."
      ],
      "id": "84c9d39d-57f3-4060-89c8-aa53c6774e66"
    },
    {
      "cell_type": "code",
      "execution_count": null,
      "metadata": {
        "outputId": "f0b98970-ee0d-4e1d-a5ba-c6cffc3a25b0"
      },
      "outputs": [],
      "source": [
        "a=np.array(3.14) # 스칼라, 0d array \n",
        "a, a.shape"
      ],
      "id": "687bf7e4-ccb0-484b-b9ab-698006fdf1db"
    },
    {
      "cell_type": "code",
      "execution_count": null,
      "metadata": {
        "outputId": "88ebcb38-ec3c-42cd-b573-1b27dfa90ba3"
      },
      "outputs": [],
      "source": [
        "a=np.array([3.14]) # 벡터, 1d array \n",
        "a, a.shape"
      ],
      "id": "ccf8514b-a1eb-4066-b9a6-ce8a730f1767"
    },
    {
      "cell_type": "code",
      "execution_count": null,
      "metadata": {
        "outputId": "7abdf1dd-7a96-4d08-d513-826a85c88684"
      },
      "outputs": [],
      "source": [
        "a=np.array([[3.14]]) # 매트릭스, 2d array \n",
        "a, a.shape"
      ],
      "id": "2ed898fe-350e-45fe-9457-a3054ff2d468"
    },
    {
      "cell_type": "code",
      "execution_count": null,
      "metadata": {
        "outputId": "b0e08a72-30f1-4ca0-ddf1-5ac69795f7b8"
      },
      "outputs": [],
      "source": [
        "a=np.array([[[3.14]]]) # 텐서, 3d array \n",
        "a, a.shape"
      ],
      "id": "21c1082c-e53e-4f9e-a11f-3feda9bac49c"
    },
    {
      "cell_type": "markdown",
      "metadata": {},
      "source": [
        "### numpy공부 4단계: 축\n",
        "\n",
        "#### np.concatenate\n",
        "\n",
        "`-` 기본예제"
      ],
      "id": "ea506f51-7297-40d3-8565-7cf6392df9c6"
    },
    {
      "cell_type": "code",
      "execution_count": null,
      "metadata": {},
      "outputs": [],
      "source": [
        "a=np.array([1,2]) \n",
        "b=-a"
      ],
      "id": "7f5c3986-9b1d-4ae3-9b72-905d0077d8f0"
    },
    {
      "cell_type": "code",
      "execution_count": null,
      "metadata": {
        "outputId": "72ce3061-fee3-4d26-a72b-e0a9e82b203e"
      },
      "outputs": [],
      "source": [
        "np.concatenate([a,b]) "
      ],
      "id": "8780358a-324d-47e8-b965-87b05007116d"
    },
    {
      "cell_type": "markdown",
      "metadata": {},
      "source": [
        "`-` 응용"
      ],
      "id": "eac8b10c-2b7c-4f91-a87b-97adfb76b8d6"
    },
    {
      "cell_type": "code",
      "execution_count": null,
      "metadata": {},
      "outputs": [],
      "source": [
        "a=np.array([1,2])\n",
        "b=-a \n",
        "c=np.array([3,4,5])"
      ],
      "id": "6ed1e58f-c53a-45f7-bef6-dbff8f7bf8ca"
    },
    {
      "cell_type": "code",
      "execution_count": null,
      "metadata": {
        "outputId": "23a8e5c2-385c-45ba-feb6-cc68f1f88550"
      },
      "outputs": [],
      "source": [
        "np.concatenate([a,b,c])"
      ],
      "id": "9c2e6f38-7b5c-4421-867c-56fef1015812"
    },
    {
      "cell_type": "markdown",
      "metadata": {},
      "source": [
        "-   여기까진 딱히 칸캐터네이트의 메리트가 없어보임\n",
        "-   리스트였다면 a+b+c 하면 되는 기능이니까?\n",
        "\n",
        "`-` 2d array에 적용해보자."
      ],
      "id": "9d1ba816-65c3-46ba-b935-bef1026ad851"
    },
    {
      "cell_type": "code",
      "execution_count": null,
      "metadata": {},
      "outputs": [],
      "source": [
        "a=np.arange(4).reshape(2,2) \n",
        "b=-a"
      ],
      "id": "531d1db9-ded8-42cc-aae0-4e024af5bcd4"
    },
    {
      "cell_type": "code",
      "execution_count": null,
      "metadata": {
        "outputId": "34b1b790-a562-4d55-aafa-4029413969b0"
      },
      "outputs": [],
      "source": [
        "np.concatenate([a,b]) "
      ],
      "id": "2d7ec281-20b8-4c48-9665-90ccce842cfe"
    },
    {
      "cell_type": "markdown",
      "metadata": {},
      "source": [
        "`-` 옆으로 붙일려면?"
      ],
      "id": "8540c042-faab-4a5a-9d7d-11e09e5ebdaa"
    },
    {
      "cell_type": "code",
      "execution_count": null,
      "metadata": {
        "outputId": "ec915137-f06b-4246-c56b-ab278b7adb75"
      },
      "outputs": [],
      "source": [
        "np.concatenate([a,b],axis=1)"
      ],
      "id": "8302a372-c5c6-4861-befb-cc0c40420baa"
    },
    {
      "cell_type": "markdown",
      "metadata": {},
      "source": [
        "`-` 위의 코드에서 axis=1 이 뭐지? axis=0,2 등을 치면 결과가 어떻게 될까?"
      ],
      "id": "d87a8ba0-5444-4026-ab17-4e0f387c783a"
    },
    {
      "cell_type": "code",
      "execution_count": null,
      "metadata": {
        "outputId": "a6d270f6-fe6c-4931-9789-113dfc8dd983"
      },
      "outputs": [],
      "source": [
        "np.concatenate([a,b],axis=0)"
      ],
      "id": "bc5e516a-dcae-4a27-af2a-9f6a5c25b6fd"
    },
    {
      "cell_type": "markdown",
      "metadata": {},
      "source": [
        "-   이건 그냥 np.concatenate(\\[a,b\\])와 같다.\n",
        "-   np.concatenate(\\[a,b\\])는 np.concatenate(\\[a,b\\],axis=0)의\n",
        "    생략버전이군?"
      ],
      "id": "3dd08247-3a3d-4eb9-a2d4-35627bc9b4f6"
    },
    {
      "cell_type": "code",
      "execution_count": null,
      "metadata": {
        "outputId": "fcdc589d-0696-4c29-dacb-93a88d8cdf47"
      },
      "outputs": [],
      "source": [
        "np.concatenate([a,b],axis=2)"
      ],
      "id": "37d10b18-f9b8-4fcc-a7d6-99df849fb1c1"
    },
    {
      "cell_type": "markdown",
      "metadata": {},
      "source": [
        "-   이런건 없다.\n",
        "\n",
        "`-` axis의 의미가 뭔지 궁금함. 좀 더 예제를 살펴보자."
      ],
      "id": "bc3acce6-3f94-4b6f-a936-a2d3e2e2453f"
    },
    {
      "cell_type": "code",
      "execution_count": null,
      "metadata": {
        "outputId": "ec5f5c09-c50d-4990-ee55-4b0fe4d1f4ba"
      },
      "outputs": [],
      "source": [
        "a=np.array(range(2*3*4)).reshape(2,3,4)\n",
        "a"
      ],
      "id": "edaca1f5-1204-4d46-afd2-989390fb8191"
    },
    {
      "cell_type": "code",
      "execution_count": null,
      "metadata": {
        "outputId": "6dd184cc-6d2f-49b5-f7a2-24856cad6917"
      },
      "outputs": [],
      "source": [
        "b=-a\n",
        "b"
      ],
      "id": "4698e4c5-7767-4a18-b873-cc1f343c0b63"
    },
    {
      "cell_type": "code",
      "execution_count": null,
      "metadata": {
        "outputId": "aa9e2387-e1e2-4122-9f5b-ad6ea27bd2fd"
      },
      "outputs": [],
      "source": [
        "np.concatenate([a,b],axis=0) "
      ],
      "id": "1d95bf56-f92c-4667-9715-7d757434faa6"
    },
    {
      "cell_type": "code",
      "execution_count": null,
      "metadata": {
        "outputId": "47a85073-7a72-499c-a453-f871680da3d2"
      },
      "outputs": [],
      "source": [
        "np.concatenate([a,b],axis=1) "
      ],
      "id": "623d87d6-3c0c-44b4-b5f3-ce7567cd396a"
    },
    {
      "cell_type": "code",
      "execution_count": null,
      "metadata": {
        "outputId": "d0ba523c-f9ce-4472-9075-0e81177db905"
      },
      "outputs": [],
      "source": [
        "np.concatenate([a,b],axis=2) "
      ],
      "id": "7db69480-7d80-4c62-ab4c-908b1e914113"
    },
    {
      "cell_type": "markdown",
      "metadata": {},
      "source": [
        "-   이번에는 axis=2까지 된다?"
      ],
      "id": "9e549683-ebb8-4916-b3d7-74ef38e6b496"
    },
    {
      "cell_type": "code",
      "execution_count": null,
      "metadata": {
        "outputId": "96c4ee74-c115-4d58-e650-5db178d95bea"
      },
      "outputs": [],
      "source": [
        "np.concatenate([a,b],axis=3) "
      ],
      "id": "8335898a-ccd3-48ea-b1ac-a9ed1436207f"
    },
    {
      "cell_type": "markdown",
      "metadata": {},
      "source": [
        "-   axis=3까지는 안된다?\n",
        "\n",
        "`-` 뭔가 나름의 방식으로 합쳐지는데 원리가 뭘까?\n",
        "\n",
        "(분석1) np.concatenate(\\[a,b\\],axis=0)"
      ],
      "id": "84c02671-e471-41aa-a43b-05234f43bd8c"
    },
    {
      "cell_type": "code",
      "execution_count": null,
      "metadata": {},
      "outputs": [],
      "source": [
        "a=np.array(range(2*3*4)).reshape(2,3,4) \n",
        "b=-a "
      ],
      "id": "5c143f84-ec3b-4baa-a586-7d821127ea41"
    },
    {
      "cell_type": "code",
      "execution_count": null,
      "metadata": {
        "outputId": "da7336e4-a767-4e98-a34d-5f8213ad2306"
      },
      "outputs": [],
      "source": [
        "a.shape, b.shape, np.concatenate([a,b],axis=0).shape"
      ],
      "id": "7bea044d-9f8c-4450-a654-aa230e78c45b"
    },
    {
      "cell_type": "markdown",
      "metadata": {},
      "source": [
        "-   첫번째차원이 바뀌었다 =\\> 첫번째 축이 바뀌었다 =\\> axis=0 (파이썬은\n",
        "    0부터 시작하니까!)\n",
        "\n",
        "(분석2) np.concatenate(\\[a,b\\],axis=1)"
      ],
      "id": "ee6b3aa3-3c83-465d-8d50-be82818f25c6"
    },
    {
      "cell_type": "code",
      "execution_count": null,
      "metadata": {},
      "outputs": [],
      "source": [
        "a=np.array(range(2*3*4)).reshape(2,3,4) \n",
        "b=-a "
      ],
      "id": "ebdb2a12-7119-4386-bd8f-4009be840c9e"
    },
    {
      "cell_type": "code",
      "execution_count": null,
      "metadata": {
        "outputId": "c775fff9-42c8-4b10-eb87-8551c3ca1cac"
      },
      "outputs": [],
      "source": [
        "a.shape, b.shape, np.concatenate([a,b],axis=1).shape"
      ],
      "id": "58d41012-d05e-4812-8206-7bde5d01f764"
    },
    {
      "cell_type": "markdown",
      "metadata": {},
      "source": [
        "-   두번째차원이 바뀌었다 =\\> 두번째 축이 바뀌었다 =\\> axis=1\n",
        "\n",
        "(분석3) np.concatenate(\\[a,b\\],axis=2)"
      ],
      "id": "ef8caaf7-472b-46ad-ba14-2434b889bf08"
    },
    {
      "cell_type": "code",
      "execution_count": null,
      "metadata": {},
      "outputs": [],
      "source": [
        "a=np.array(range(2*3*4)).reshape(2,3,4) \n",
        "b=-a "
      ],
      "id": "225caccb-6140-4943-9c2c-a505b67b0b8b"
    },
    {
      "cell_type": "code",
      "execution_count": null,
      "metadata": {
        "outputId": "edcbccc0-7d78-4ca6-e382-7206c776e624"
      },
      "outputs": [],
      "source": [
        "a.shape, b.shape, np.concatenate([a,b],axis=2).shape"
      ],
      "id": "e4d12427-11e2-48b7-a2ba-4b00b274ebcf"
    },
    {
      "cell_type": "markdown",
      "metadata": {},
      "source": [
        "-   세번째차원이 바뀌었다 =\\> 세번째 축이 바뀌었다 =\\> axis=2\n",
        "\n",
        "(분석4) np.concatenate(\\[a,b\\],axis=3)"
      ],
      "id": "ef9f4167-0c23-40ca-b7c8-6fc4aebf9e90"
    },
    {
      "cell_type": "code",
      "execution_count": null,
      "metadata": {},
      "outputs": [],
      "source": [
        "a=np.array(range(2*3*4)).reshape(2,3,4) \n",
        "b=-a "
      ],
      "id": "35357cff-31aa-4a22-8e76-32dbf6246788"
    },
    {
      "cell_type": "code",
      "execution_count": null,
      "metadata": {
        "outputId": "164533ef-84b7-45fd-8bcb-3c54e4a720ba"
      },
      "outputs": [],
      "source": [
        "a.shape, b.shape, np.concatenate([a,b],axis=3).shape"
      ],
      "id": "b5cecfdb-24ec-4952-928d-7bb4016c747f"
    },
    {
      "cell_type": "markdown",
      "metadata": {},
      "source": [
        "-   네번째차원이 없다 =\\> 네번째 축이 없다 =\\> axis=3으로 하면 에러가\n",
        "    난다.\n",
        "\n",
        "(보너스1)"
      ],
      "id": "066559c3-cf49-40a2-b996-2b3cae69492a"
    },
    {
      "cell_type": "code",
      "execution_count": null,
      "metadata": {},
      "outputs": [],
      "source": [
        "a=np.array(range(2*3*4)).reshape(2,3,4) \n",
        "b=-a "
      ],
      "id": "e1dede62-9671-4980-8d7b-14419d5743b4"
    },
    {
      "cell_type": "code",
      "execution_count": null,
      "metadata": {
        "outputId": "f520b202-0b5c-4639-f117-3d3d17d8d3d7"
      },
      "outputs": [],
      "source": [
        "np.concatenate([a,b],axis=-1)"
      ],
      "id": "3bcde92f-4b88-4786-8c71-026dbd7d1fa9"
    },
    {
      "cell_type": "code",
      "execution_count": null,
      "metadata": {
        "outputId": "b9ce2db8-7ed5-473a-e0f4-b55b5c1fd97d"
      },
      "outputs": [],
      "source": [
        "a.shape, b.shape, np.concatenate([a,b],axis=-1).shape"
      ],
      "id": "1bcd4e0f-46e8-47e4-a614-cc5a3eef5890"
    },
    {
      "cell_type": "markdown",
      "metadata": {},
      "source": [
        "-   마지막 차원이 바뀌었다 =\\> 마지막 축이 바뀌었다 =\\> axis = -1\n",
        "\n",
        "(보너스2)"
      ],
      "id": "c458122a-23c8-45a9-a6ef-b5e22fa9576a"
    },
    {
      "cell_type": "code",
      "execution_count": null,
      "metadata": {},
      "outputs": [],
      "source": [
        "a=np.array(range(2*3*4)).reshape(2,3,4) \n",
        "b=-a "
      ],
      "id": "bf8315fd-a7d4-4deb-b516-b50995c46a3b"
    },
    {
      "cell_type": "code",
      "execution_count": null,
      "metadata": {
        "outputId": "21888509-f063-495f-b801-f19766a8b1e0"
      },
      "outputs": [],
      "source": [
        "np.concatenate([a,b],axis=-2)"
      ],
      "id": "7cf8d7e1-33ae-4756-be14-3ec77dd88cf2"
    },
    {
      "cell_type": "code",
      "execution_count": null,
      "metadata": {
        "outputId": "95f5c142-9739-4d4e-8de9-c7428882bce8"
      },
      "outputs": [],
      "source": [
        "a.shape, b.shape, np.concatenate([a,b],axis=-2).shape"
      ],
      "id": "9c696517-a26f-4054-8e3c-b6b7991014e5"
    },
    {
      "cell_type": "markdown",
      "metadata": {},
      "source": [
        "-   마지막에서 2번째 차원이 바뀌었다 =\\> 마지막에서 2번째 축이 바뀌었다\n",
        "    =\\> axis = -2\n",
        "\n",
        "(보너스3)"
      ],
      "id": "f5e6f309-ddf0-43ed-8988-528c54319952"
    },
    {
      "cell_type": "code",
      "execution_count": null,
      "metadata": {},
      "outputs": [],
      "source": [
        "a=np.array(range(2*3*4)).reshape(2,3,4) \n",
        "b=-a "
      ],
      "id": "ca02d56c-fd44-4da2-b080-fcb616a556b9"
    },
    {
      "cell_type": "code",
      "execution_count": null,
      "metadata": {
        "outputId": "2f1dae95-383a-49c4-f735-430216a244db"
      },
      "outputs": [],
      "source": [
        "np.concatenate([a,b],axis=-3)"
      ],
      "id": "def662c8-4ddc-4ae2-8a6e-c1ce4fd1238a"
    },
    {
      "cell_type": "code",
      "execution_count": null,
      "metadata": {
        "outputId": "44f7fa2f-d31a-4dde-870e-0a49ae6db396"
      },
      "outputs": [],
      "source": [
        "a.shape, b.shape, np.concatenate([a,b],axis=-3).shape"
      ],
      "id": "88593722-3496-4799-bf8a-2a9cbb2e096c"
    },
    {
      "cell_type": "markdown",
      "metadata": {},
      "source": [
        "-   마지막에서 3번째 차원이 바뀌었다 =\\> 마지막에서 3번째 축이 바뀌었다\n",
        "    =\\> axis = -3\n",
        "\n",
        "(보너스3)"
      ],
      "id": "98d88afd-3058-4bfb-a6e5-f753dc301a1b"
    },
    {
      "cell_type": "code",
      "execution_count": null,
      "metadata": {},
      "outputs": [],
      "source": [
        "a=np.array(range(2*3*4)).reshape(2,3,4) \n",
        "b=-a "
      ],
      "id": "f8d9108c-6e3e-418b-a300-3dc59e8aa2a6"
    },
    {
      "cell_type": "code",
      "execution_count": null,
      "metadata": {
        "outputId": "2e41ff03-2f30-4b4d-b1ca-9fc714ddcf28"
      },
      "outputs": [],
      "source": [
        "np.concatenate([a,b],axis=-4)"
      ],
      "id": "251abf15-45da-4514-b01a-f2c0b0e17e48"
    },
    {
      "cell_type": "markdown",
      "metadata": {},
      "source": [
        "-   마지막에서 4번째 차원은 없다 =\\> 마지막에서 4번째 축이 없다 =\\> axis\n",
        "    = -4는 에러가 난다.\n",
        "\n",
        "`-` 0차원은 축이 없으므로 concatenate를 쓸 수 없다."
      ],
      "id": "7b67ebaa-7840-48aa-909e-c684249a0dad"
    },
    {
      "cell_type": "code",
      "execution_count": null,
      "metadata": {},
      "outputs": [],
      "source": [
        "a= np.array(1)\n",
        "b= np.array(-1) "
      ],
      "id": "a4f849d2-1898-4028-92a4-d3e7b632d155"
    },
    {
      "cell_type": "code",
      "execution_count": null,
      "metadata": {
        "outputId": "a6abb59b-4194-4361-a941-bcff6438b1d3"
      },
      "outputs": [],
      "source": [
        "a.shape, b.shape"
      ],
      "id": "1a4b96f4-3d0e-4e15-bacc-1a41c93fb4b9"
    },
    {
      "cell_type": "code",
      "execution_count": null,
      "metadata": {
        "outputId": "cc29e502-8f85-4766-c00e-a68cd4ab81a3"
      },
      "outputs": [],
      "source": [
        "np.concatenate([a,b])"
      ],
      "id": "e3b5f961-ca20-4b86-851e-a16fa9aa015e"
    },
    {
      "cell_type": "markdown",
      "metadata": {},
      "source": [
        "`-` 꼭 a,b가 같은 차원일 필요는 없다."
      ],
      "id": "04890f56-0c50-447c-9313-27f2911840d8"
    },
    {
      "cell_type": "code",
      "execution_count": null,
      "metadata": {},
      "outputs": [],
      "source": [
        "a=np.array(range(4)).reshape(2,2) \n",
        "b=np.array(range(2)).reshape(2,1)  "
      ],
      "id": "3ecea3e0-6599-4b32-9412-9d961025b333"
    },
    {
      "cell_type": "code",
      "execution_count": null,
      "metadata": {
        "outputId": "1dcfd8f8-f27e-4d69-ae73-e06e8cbc4787"
      },
      "outputs": [],
      "source": [
        "np.concatenate([a,b],axis=1)"
      ],
      "id": "1de31e29-c99d-4e59-91e3-407969ba3b23"
    },
    {
      "cell_type": "code",
      "execution_count": null,
      "metadata": {
        "outputId": "46c9fcae-57d4-4958-aed4-fbba22b716a1"
      },
      "outputs": [],
      "source": [
        "a.shape, b.shape, np.concatenate([a,b],axis=1).shape"
      ],
      "id": "82c96966-caa0-4650-9393-6b73a8b08780"
    },
    {
      "cell_type": "markdown",
      "metadata": {},
      "source": [
        "#### np.stack\n",
        "\n",
        "`-` 혹시 아래가 가능할까?\n",
        "\n",
        "-   (3,) 결합 (3,) =\\> (3,2)"
      ],
      "id": "ba481329-b7d1-45fb-99bb-fe4e0b75107f"
    },
    {
      "cell_type": "code",
      "execution_count": null,
      "metadata": {},
      "outputs": [],
      "source": [
        "a=np.array([1,2,3])\n",
        "b=-a"
      ],
      "id": "1b55334c-43a5-4f21-8a8f-00c1928cd826"
    },
    {
      "cell_type": "code",
      "execution_count": null,
      "metadata": {
        "outputId": "3d35765e-aafd-4ba8-8a86-a42a4ed7d441"
      },
      "outputs": [],
      "source": [
        "a,b"
      ],
      "id": "2b3e598b-ba83-481e-ac48-d3a78b3f8b66"
    },
    {
      "cell_type": "code",
      "execution_count": null,
      "metadata": {
        "outputId": "6f81d4c5-f208-434a-db30-a15b3f00b8e1"
      },
      "outputs": [],
      "source": [
        "np.concatenate([a,b],axis=1)"
      ],
      "id": "738b106b-2d64-4f05-9eeb-26a6875d9bd8"
    },
    {
      "cell_type": "markdown",
      "metadata": {},
      "source": [
        "-   불가능\n",
        "\n",
        "`-` 아래와 같이 하면 해결가능"
      ],
      "id": "25f99291-9af9-41f4-8562-3ffad3b71b58"
    },
    {
      "cell_type": "code",
      "execution_count": null,
      "metadata": {},
      "outputs": [],
      "source": [
        "a=np.array([1,2,3]).reshape(3,1) \n",
        "b=-a"
      ],
      "id": "e803f77b-2970-4955-a87d-d5658f8ec364"
    },
    {
      "cell_type": "code",
      "execution_count": null,
      "metadata": {
        "outputId": "56aa3f4f-8222-4eca-ec9b-26d23927fdfa"
      },
      "outputs": [],
      "source": [
        "a,b"
      ],
      "id": "afeeb4e3-7660-4d40-ae9b-896f5314b61e"
    },
    {
      "cell_type": "code",
      "execution_count": null,
      "metadata": {
        "outputId": "3e0b3225-300f-4689-9905-74d711df692d"
      },
      "outputs": [],
      "source": [
        "np.concatenate([a,b],axis=1)"
      ],
      "id": "e1dcb7ba-fc9c-4feb-8b75-068b3181eb2e"
    },
    {
      "cell_type": "markdown",
      "metadata": {},
      "source": [
        "-   분석: (3) (3) =\\> (3,1) (3,1) =\\> (3,1) concat (3,1)\n",
        "\n",
        "`-` 위의 과정을 줄여서 아래와 같이 할 수 있다."
      ],
      "id": "b818470a-5f16-4818-bda0-15f037d4c1a9"
    },
    {
      "cell_type": "code",
      "execution_count": null,
      "metadata": {},
      "outputs": [],
      "source": [
        "a=np.array([1,2,3])\n",
        "b=-a"
      ],
      "id": "989920f1-1829-4507-ad3a-d5410f5d0e72"
    },
    {
      "cell_type": "code",
      "execution_count": null,
      "metadata": {
        "outputId": "84855b65-eb6c-44a1-f583-61d4cfc1e5e4"
      },
      "outputs": [],
      "source": [
        "np.stack([a,b],axis=1)"
      ],
      "id": "7cc35aeb-2ee4-4b5b-9328-e800f0d17fb9"
    },
    {
      "cell_type": "markdown",
      "metadata": {},
      "source": [
        "`-` 아래도 가능"
      ],
      "id": "6a91fb25-6bfc-48e8-b219-bdee661fe960"
    },
    {
      "cell_type": "code",
      "execution_count": null,
      "metadata": {
        "outputId": "e6d0b6c6-1d01-4f65-84fd-3d12d5891340"
      },
      "outputs": [],
      "source": [
        "np.stack([a,b],axis=0)"
      ],
      "id": "5d1a73cc-2a51-4094-98bc-c36e842e9d29"
    },
    {
      "cell_type": "markdown",
      "metadata": {},
      "source": [
        "`-` 분석해보고 외우자\n",
        "\n",
        "(분석1)"
      ],
      "id": "844cefed-4c8e-4b92-a7a8-45ea0138719a"
    },
    {
      "cell_type": "code",
      "execution_count": null,
      "metadata": {},
      "outputs": [],
      "source": [
        "a=np.array([1,2,3])\n",
        "b=-a"
      ],
      "id": "34e06fb2-431c-43ba-b2d5-77dfab86b6e7"
    },
    {
      "cell_type": "code",
      "execution_count": null,
      "metadata": {
        "outputId": "a2f8eb64-b03c-46d2-cb5f-a48fefe8e445"
      },
      "outputs": [],
      "source": [
        "a.shape, b.shape, np.stack([a,b],axis=0).shape"
      ],
      "id": "80821e3e-5bd9-4e09-8a83-972559116297"
    },
    {
      "cell_type": "markdown",
      "metadata": {},
      "source": [
        "-   1.  1.  =\\> 첫 위치에 축을 추가 (axis=0) =\\> (1,3) (1,3) =\\> (2,3)\n",
        "\n",
        "(분석2)"
      ],
      "id": "8a93b407-c0a5-493e-a503-e01ea6d13830"
    },
    {
      "cell_type": "code",
      "execution_count": null,
      "metadata": {},
      "outputs": [],
      "source": [
        "a=np.array([1,2,3])\n",
        "b=-a"
      ],
      "id": "7723dfa1-10dc-4df7-9eab-b25960cd0509"
    },
    {
      "cell_type": "code",
      "execution_count": null,
      "metadata": {
        "outputId": "633c8569-05af-46ae-fb30-0a2efd18de69"
      },
      "outputs": [],
      "source": [
        "a.shape, b.shape, np.stack([a,b],axis=1).shape"
      ],
      "id": "96ade04f-a96d-4a91-bd3d-5937703d8315"
    },
    {
      "cell_type": "markdown",
      "metadata": {},
      "source": [
        "-   1.  1.  =\\> 두 위치에 축을 추가 (axis=1) =\\> (3,1) (3,1) =\\> (3,2)\n",
        "\n",
        "`-` 고차원예제"
      ],
      "id": "47b0b4d4-6cd3-404a-bef2-e2ebe22fa55c"
    },
    {
      "cell_type": "code",
      "execution_count": null,
      "metadata": {},
      "outputs": [],
      "source": [
        "a=np.arange(3*4*5).reshape(3,4,5) \n",
        "b=-a"
      ],
      "id": "c7c6731b-4b9a-4889-9867-1be7cc9e5af0"
    },
    {
      "cell_type": "code",
      "execution_count": null,
      "metadata": {
        "outputId": "7e15fd5b-db01-412f-b946-8170668f1c82"
      },
      "outputs": [],
      "source": [
        "a.shape, b.shape"
      ],
      "id": "159d59df-120f-47da-9fc1-7022bed0b91e"
    },
    {
      "cell_type": "code",
      "execution_count": null,
      "metadata": {
        "outputId": "19bd712a-440f-422c-82e0-db5de045893a"
      },
      "outputs": [],
      "source": [
        "np.stack([a,b],axis=0).shape # (3,4,5) => (1,3,4,5) // 첫 위치에 축이 추가되고 스택 "
      ],
      "id": "f0c1e5af-56eb-4730-a32a-fa0ecfd18e0e"
    },
    {
      "cell_type": "code",
      "execution_count": null,
      "metadata": {
        "outputId": "e58edab4-7d44-4625-ff87-881331890e32"
      },
      "outputs": [],
      "source": [
        "np.stack([a,b],axis=1).shape # (3,4,5) => (3,1,4,5) // 두번째 위치에 축이 추가되고 스택 "
      ],
      "id": "33579e71-71ae-4a80-872a-4740767142b9"
    },
    {
      "cell_type": "code",
      "execution_count": null,
      "metadata": {
        "outputId": "47dd5387-4b77-4ddf-85c1-e9b78b2895fb"
      },
      "outputs": [],
      "source": [
        "np.stack([a,b],axis=2).shape # (3,4,5) => (3,4,1,5) // 세번째 위치에 축이 추가되고 스택 "
      ],
      "id": "837cb344-9432-4585-a343-c435c868bd8c"
    },
    {
      "cell_type": "code",
      "execution_count": null,
      "metadata": {
        "outputId": "99b8993d-4e3e-48eb-8b81-2686181730b6"
      },
      "outputs": [],
      "source": [
        "np.stack([a,b],axis=3).shape # (3,4,5) => (3,4,5,1) // 네번째 위치에 축이 추가되고 스택 "
      ],
      "id": "dd3c5d3a-28c5-4b9f-ad75-6753d9dfce9e"
    },
    {
      "cell_type": "code",
      "execution_count": null,
      "metadata": {
        "outputId": "b67a7534-a33b-49e5-ec8f-b7cd12e2a893"
      },
      "outputs": [],
      "source": [
        "np.stack([a,b],axis=-1).shape # axis=-1 <=> axis=3 "
      ],
      "id": "338b3cc3-3be8-4895-be29-cc83194f0666"
    },
    {
      "cell_type": "code",
      "execution_count": null,
      "metadata": {
        "outputId": "c5179e0a-1a79-4ec0-e6e6-5b1e2809233d"
      },
      "outputs": [],
      "source": [
        "np.stack([a,b],axis=-2).shape # axis=-2 <=> axis=2"
      ],
      "id": "a2451178-1d8f-4cc3-b449-f71909163bca"
    },
    {
      "cell_type": "markdown",
      "metadata": {},
      "source": [
        "***np.concatenate*** 는 축의 총 갯수를 유지하면서 결합, ***np.stack***은\n",
        "축의 갯수를 하나 증가시키면서 결합\n",
        "\n",
        "#### sum\n",
        "\n",
        "`-` 1차원"
      ],
      "id": "9de67f0a-58dc-4375-890a-406d0b5c19d9"
    },
    {
      "cell_type": "code",
      "execution_count": null,
      "metadata": {
        "outputId": "9806326f-2644-4152-9e7c-d63b39f94f8d"
      },
      "outputs": [],
      "source": [
        "a = np.array([1,2,3]) \n",
        "a"
      ],
      "id": "83099798-4678-4fa7-882b-15fd9bf548fc"
    },
    {
      "cell_type": "code",
      "execution_count": null,
      "metadata": {
        "outputId": "762df28b-f9b9-4496-8778-7e9a9cecc104"
      },
      "outputs": [],
      "source": [
        "a.sum()"
      ],
      "id": "013cc74d-bff8-468c-814c-038db4c4e9a5"
    },
    {
      "cell_type": "code",
      "execution_count": null,
      "metadata": {
        "outputId": "bde99fd5-64fc-471b-c07d-f9af686d1f94"
      },
      "outputs": [],
      "source": [
        "a.sum(axis=0)"
      ],
      "id": "7e9c6443-4789-45f7-a3c0-e8e2a684a0b5"
    },
    {
      "cell_type": "markdown",
      "metadata": {},
      "source": [
        "`-` 2차원"
      ],
      "id": "04f53807-7f1e-4f79-8028-af0d1e5d13bd"
    },
    {
      "cell_type": "code",
      "execution_count": null,
      "metadata": {
        "outputId": "9583751b-d006-4553-f164-005c832d0093"
      },
      "outputs": [],
      "source": [
        "a=np.array(range(6)).reshape(2,3)\n",
        "a"
      ],
      "id": "bc77d601-5384-41fd-ae3f-f7977eff0b8a"
    },
    {
      "cell_type": "code",
      "execution_count": null,
      "metadata": {
        "outputId": "f76cffbf-1345-4691-98cc-c5e769f34249"
      },
      "outputs": [],
      "source": [
        "a.sum() # 전체합"
      ],
      "id": "ff773f35-a3c9-4a2b-b634-c10677d766aa"
    },
    {
      "cell_type": "code",
      "execution_count": null,
      "metadata": {
        "outputId": "92d33c3d-04c1-49a4-f525-0aafe1a4d866"
      },
      "outputs": [],
      "source": [
        "a.sum(axis=0) "
      ],
      "id": "882a94a3-b201-4737-96d6-165fc5b40ef6"
    },
    {
      "cell_type": "code",
      "execution_count": null,
      "metadata": {
        "outputId": "4844fd12-b70a-4267-ab8e-13679ce453cf"
      },
      "outputs": [],
      "source": [
        "a.sum(axis=1) "
      ],
      "id": "4d12bc83-d5b4-4863-8564-1ea48416ca79"
    },
    {
      "cell_type": "markdown",
      "metadata": {},
      "source": [
        "`-` 2차원 결과 분석"
      ],
      "id": "c294b31b-51e4-4df2-8406-5ddb4b312a4f"
    },
    {
      "cell_type": "code",
      "execution_count": null,
      "metadata": {
        "outputId": "8df6e753-d143-466d-e273-626bb88cdbd5"
      },
      "outputs": [],
      "source": [
        "a.shape, a.sum(axis=0).shape"
      ],
      "id": "00d0c4e8-1852-48ac-a1aa-995e5a6f0a60"
    },
    {
      "cell_type": "markdown",
      "metadata": {},
      "source": [
        "-   첫번째 축이 삭제됨 =\\> axis=0"
      ],
      "id": "5f491a0e-bdae-4623-b7ca-bd202cb76653"
    },
    {
      "cell_type": "code",
      "execution_count": null,
      "metadata": {
        "outputId": "aaeb4d51-52b6-41aa-bf06-f0e7fb14e4b8"
      },
      "outputs": [],
      "source": [
        "a.shape, a.sum(axis=1).shape"
      ],
      "id": "d88b697e-610f-40a0-88e0-ee6dc78a2af6"
    },
    {
      "cell_type": "markdown",
      "metadata": {},
      "source": [
        "-   두번째 축이 삭제됨 =\\> axis=1\n",
        "\n",
        "`-` 연습"
      ],
      "id": "7287073f-c0c4-408a-9468-52773d22c696"
    },
    {
      "cell_type": "code",
      "execution_count": null,
      "metadata": {
        "outputId": "31f3280e-7cbb-428a-c288-2d46e5f41497"
      },
      "outputs": [],
      "source": [
        "a=np.array(range(10)).reshape(5,2) \n",
        "a"
      ],
      "id": "9557ef8a-a606-41f1-97b7-93f7e1c07ec2"
    },
    {
      "cell_type": "markdown",
      "metadata": {},
      "source": [
        "(문제1) 1열의 합, 2열의 합을 계산하고 싶다면?\n",
        "\n",
        "(풀이) 차원이 (5,2) =\\> (2,) 로 나와야 한다. (그럼 첫번째 축이\n",
        "삭제되어야 하네?)"
      ],
      "id": "f37ee4fa-4379-4023-99ba-d8e6d15f9f70"
    },
    {
      "cell_type": "code",
      "execution_count": null,
      "metadata": {
        "outputId": "cc58aa8a-1a58-4bbb-8cfc-f7695c40589c"
      },
      "outputs": [],
      "source": [
        "a.sum(axis=0)"
      ],
      "id": "c1104e8d-665d-4765-b1d3-9a882e4aaa34"
    },
    {
      "cell_type": "markdown",
      "metadata": {},
      "source": [
        "(문제2) 1행의 합, 2행의 합, … , 5행의 합을 계산하고 싶다면?\n",
        "\n",
        "(풀이) 차원이 (5,2) =\\> (5,)로 나와야 한다. (그럼 두번째 축이 삭제되어야\n",
        "하네?)"
      ],
      "id": "fc850d4d-1d66-4565-9dd4-727c462960d3"
    },
    {
      "cell_type": "code",
      "execution_count": null,
      "metadata": {
        "outputId": "f6b07789-2468-4aa6-9049-6cd36bd75afa"
      },
      "outputs": [],
      "source": [
        "a.sum(axis=1)"
      ],
      "id": "ad5aa245-5892-49e0-8fc7-a97dd2b6fed0"
    },
    {
      "cell_type": "markdown",
      "metadata": {},
      "source": [
        "(문제3) a의 모든원소의 합을 계산하고 싶다면?\n",
        "\n",
        "(풀이) 차원이 (5,2) =\\> () 로 나와야 한다. (첫번째축, 두번째축이 모두\n",
        "삭제되어야 하네?)"
      ],
      "id": "c5b6eda1-4157-4884-9051-eaaa5a7979a7"
    },
    {
      "cell_type": "code",
      "execution_count": null,
      "metadata": {
        "outputId": "264f1a31-5cca-488c-9547-c1cd57b1ed85"
      },
      "outputs": [],
      "source": [
        "a.sum(axis=(0,1))"
      ],
      "id": "fa77efad-75f3-45dc-88fb-8649abce8520"
    },
    {
      "cell_type": "code",
      "execution_count": null,
      "metadata": {
        "outputId": "945170f2-a733-47fa-fff4-7e3ab52f4dda"
      },
      "outputs": [],
      "source": [
        "a.sum() # 즉 a.sum(axis=(0,1))이 디폴트값임 "
      ],
      "id": "be5f8f2c-09b6-45ec-ae2f-c15bc3549b96"
    },
    {
      "cell_type": "markdown",
      "metadata": {},
      "source": [
        "#### mean, std, max, min, prod\n",
        "\n",
        "`-` 모두 sum이랑 유사한 논리"
      ],
      "id": "818502e1-9d0a-4432-8c50-5983041c254c"
    },
    {
      "cell_type": "code",
      "execution_count": null,
      "metadata": {
        "outputId": "6c28fa10-7573-4037-92de-93982fe84949"
      },
      "outputs": [],
      "source": [
        "a=np.array(range(10)).reshape(5,2)\n",
        "a"
      ],
      "id": "e4ae2cb5-85ff-4bf4-9c51-61b0ace3a8b1"
    },
    {
      "cell_type": "code",
      "execution_count": null,
      "metadata": {
        "outputId": "a019f510-fbb5-47c5-db64-8034b7bc211b"
      },
      "outputs": [],
      "source": [
        "a.mean(axis=0), a.std(axis=0), a.max(axis=0), a.min(axis=0), a.prod(axis=0)"
      ],
      "id": "9bfce9a6-83b8-48c9-b941-8fe20dc04f93"
    },
    {
      "cell_type": "code",
      "execution_count": null,
      "metadata": {
        "outputId": "23a196ea-7ce5-4785-e8d8-b267708f9484"
      },
      "outputs": [],
      "source": [
        "a.mean(axis=1), a.std(axis=1), a.max(axis=1), a.min(axis=1), a.prod(axis=1)"
      ],
      "id": "87ca0c91-e3bb-4dc2-a958-8a5c8a4ebda3"
    },
    {
      "cell_type": "markdown",
      "metadata": {},
      "source": [
        "`-` 참고로 std는 분포를 n으로 나눈다."
      ],
      "id": "bac3aa46-bf6e-4bd6-bce6-ff1e1e7308ac"
    },
    {
      "cell_type": "code",
      "execution_count": null,
      "metadata": {
        "outputId": "edf872cd-ec84-4797-9d94-47d520a1f9f0"
      },
      "outputs": [],
      "source": [
        "a=np.array([1,2,3,4])\n",
        "a.std()"
      ],
      "id": "67ace49e-5e67-4595-9210-3e103d6f4228"
    },
    {
      "cell_type": "code",
      "execution_count": null,
      "metadata": {
        "outputId": "734fc3f2-37b2-41e3-b592-dd13c7c01fbe"
      },
      "outputs": [],
      "source": [
        "np.sqrt(sum((a-a.mean())**2)/4)"
      ],
      "id": "763412c1-42af-4ae5-88c0-269c9bfb05e7"
    },
    {
      "cell_type": "markdown",
      "metadata": {},
      "source": [
        "`-` 분모를 n-1로 나눌려면?"
      ],
      "id": "569b6017-3deb-4dea-b8b7-bafdb94af927"
    },
    {
      "cell_type": "code",
      "execution_count": null,
      "metadata": {
        "outputId": "6e38d4dc-d5e4-478a-97e5-afcf8fa2eca5"
      },
      "outputs": [],
      "source": [
        "a=np.array([1,2,3,4])\n",
        "a.std(ddof=1)"
      ],
      "id": "252f0d48-3e99-4e81-8d7d-a079eb36d615"
    },
    {
      "cell_type": "code",
      "execution_count": null,
      "metadata": {
        "outputId": "d74985ca-028a-424e-b595-915ac2d8226a"
      },
      "outputs": [],
      "source": [
        "np.sqrt(sum((a-a.mean())**2)/3)"
      ],
      "id": "4aecb9b5-80ba-4c64-9d11-876ba5621138"
    },
    {
      "cell_type": "markdown",
      "metadata": {},
      "source": [
        "#### argmax, argmin\n",
        "\n",
        "`-` 1차원"
      ],
      "id": "07de554f-7bb2-468f-b45b-42e74ba66fb2"
    },
    {
      "cell_type": "code",
      "execution_count": null,
      "metadata": {
        "outputId": "b2e1dd43-0013-4b14-efbb-ad86de045171"
      },
      "outputs": [],
      "source": [
        "a= np.array([1,-2,3,10,4])\n",
        "a"
      ],
      "id": "0e0c4638-84f5-4ddc-8f04-4e3214112d89"
    },
    {
      "cell_type": "code",
      "execution_count": null,
      "metadata": {
        "outputId": "2ff6c710-8f12-4914-c0f1-887a5179b341"
      },
      "outputs": [],
      "source": [
        "a.argmax() # 가장 큰 값이 위치한 원소의 인덱스를 리턴 "
      ],
      "id": "780c6853-a969-474c-aaaf-5f5e38034e2b"
    },
    {
      "cell_type": "code",
      "execution_count": null,
      "metadata": {
        "outputId": "78a1f58a-d352-4a17-c9df-9a13bf4ebc68"
      },
      "outputs": [],
      "source": [
        "a.argmin() # 가장 작은 값이 위치한 원소의 인덱스를 리턴 "
      ],
      "id": "d69aacc7-e73a-4a1a-a876-505be107f57d"
    },
    {
      "cell_type": "markdown",
      "metadata": {},
      "source": [
        "`-` 2차원"
      ],
      "id": "7ba96019-1fb3-4cdf-91b6-7b3ca02e3e6e"
    },
    {
      "cell_type": "code",
      "execution_count": null,
      "metadata": {
        "outputId": "1906ea75-b3a7-461f-dfab-2b08c896c5e2"
      },
      "outputs": [],
      "source": [
        "np.random.seed(43052)\n",
        "a=np.random.randn(4*5).reshape(4,5)\n",
        "a"
      ],
      "id": "7de08fc3-7320-4784-9b67-888354b47511"
    },
    {
      "cell_type": "code",
      "execution_count": null,
      "metadata": {
        "outputId": "54d2e996-3e9c-450c-a092-2960b96828eb"
      },
      "outputs": [],
      "source": [
        "a.argmin(), a.min()"
      ],
      "id": "1b9f6e67-a3cb-49a3-8533-694a53cc527f"
    },
    {
      "cell_type": "code",
      "execution_count": null,
      "metadata": {
        "outputId": "326d7979-eb63-4b1e-8dfe-d50ac6b02b74"
      },
      "outputs": [],
      "source": [
        "a.argmax(), a.max()"
      ],
      "id": "6dc37e88-88b9-473c-ab18-bf915924c453"
    },
    {
      "cell_type": "code",
      "execution_count": null,
      "metadata": {
        "outputId": "352bf896-91cf-451b-d9e8-2e9d39019ebd"
      },
      "outputs": [],
      "source": [
        "a.argmin(axis=0), a.argmin(axis=1)"
      ],
      "id": "65b50b52-8100-4356-9885-fecd6d533bdf"
    },
    {
      "cell_type": "code",
      "execution_count": null,
      "metadata": {
        "outputId": "1e1fc973-5b80-440a-fe03-8c8473a611d9"
      },
      "outputs": [],
      "source": [
        "a.argmax(axis=0), a.argmax(axis=1)"
      ],
      "id": "61fa4732-1d44-493f-b83c-ad960c296432"
    },
    {
      "cell_type": "markdown",
      "metadata": {},
      "source": [
        "#### cumsum, cumprod\n",
        "\n",
        "`-` 1차원"
      ],
      "id": "9760ddfa-e28a-4262-a416-a6c5c13ab1d6"
    },
    {
      "cell_type": "code",
      "execution_count": null,
      "metadata": {
        "outputId": "11a65c97-92bc-4869-ae30-72522a0406e0"
      },
      "outputs": [],
      "source": [
        "a=np.array([1,2,3,4])\n",
        "a"
      ],
      "id": "b86cea88-5814-4daa-91b7-926b6bc8ba2e"
    },
    {
      "cell_type": "code",
      "execution_count": null,
      "metadata": {
        "outputId": "ed2e9d8f-b007-4361-8bd1-35edd29be94a"
      },
      "outputs": [],
      "source": [
        "a.cumsum()"
      ],
      "id": "c92c7c0d-25a8-48f5-aca4-55ad0166310f"
    },
    {
      "cell_type": "code",
      "execution_count": null,
      "metadata": {
        "outputId": "29abb26f-0e7a-47fe-b92e-1c247b8aea9b"
      },
      "outputs": [],
      "source": [
        "a.cumprod()"
      ],
      "id": "56773406-0d82-456a-ada8-1ee178cb693d"
    },
    {
      "cell_type": "markdown",
      "metadata": {},
      "source": [
        "`-` 2차원"
      ],
      "id": "70dd4cd4-210d-4a5d-be7c-49b27cf6cb59"
    },
    {
      "cell_type": "code",
      "execution_count": null,
      "metadata": {
        "outputId": "cc013388-8e1b-4901-bd51-52dd63d06f53"
      },
      "outputs": [],
      "source": [
        "a=np.array(range(3*4)).reshape(3,4)\n",
        "a"
      ],
      "id": "13aafce9-b550-4d41-916e-8a3127715daf"
    },
    {
      "cell_type": "code",
      "execution_count": null,
      "metadata": {
        "outputId": "efffba3e-fdc8-4fd3-e0d1-92a0bdbc44eb"
      },
      "outputs": [],
      "source": [
        "a.cumsum(axis=0), a.cumsum(axis=1)"
      ],
      "id": "682187e7-572a-4886-8e97-195feb86b216"
    },
    {
      "cell_type": "code",
      "execution_count": null,
      "metadata": {
        "outputId": "b7123c33-e829-476b-9516-e303dfc95548"
      },
      "outputs": [],
      "source": [
        "a.cumprod(axis=0), a.cumprod(axis=1)"
      ],
      "id": "21f6cbf2-3666-4614-97cb-37f36c35a9f8"
    },
    {
      "cell_type": "markdown",
      "metadata": {},
      "source": [
        "#### diff\n",
        "\n",
        "`-` 1차차분"
      ],
      "id": "ed18851d-6254-4d95-8715-427fbf0d5b82"
    },
    {
      "cell_type": "code",
      "execution_count": null,
      "metadata": {
        "outputId": "ce37ad9e-5c56-4521-c482-159bfa1d7276"
      },
      "outputs": [],
      "source": [
        "a=np.array([1,2,4,6,7])\n",
        "a"
      ],
      "id": "c93736ce-ae2b-4ea6-bc1e-5cb149b7f601"
    },
    {
      "cell_type": "code",
      "execution_count": null,
      "metadata": {
        "outputId": "1da5b7b1-36e4-4a97-e71c-58f8b0486e66"
      },
      "outputs": [],
      "source": [
        "np.diff(a)"
      ],
      "id": "7d3bca10-3580-48dc-8c92-a7c56947f88a"
    },
    {
      "cell_type": "markdown",
      "metadata": {},
      "source": [
        "`-` 2차차분"
      ],
      "id": "51efd5da-8335-4e87-889e-448f1a58b3d3"
    },
    {
      "cell_type": "code",
      "execution_count": null,
      "metadata": {
        "outputId": "ec0eeaa9-20e8-48f5-a83f-45253885f5eb"
      },
      "outputs": [],
      "source": [
        "np.diff(np.diff(a))"
      ],
      "id": "ca0e8ee7-a3fd-4bb0-a071-70f264e96f74"
    },
    {
      "cell_type": "markdown",
      "metadata": {},
      "source": [
        "`-` prepend, append"
      ],
      "id": "f7634c32-3b15-4974-9e24-e8bca6ba7f74"
    },
    {
      "cell_type": "code",
      "execution_count": null,
      "metadata": {
        "outputId": "075f0772-303b-4549-d99b-d696ac8e6360"
      },
      "outputs": [],
      "source": [
        "a=np.array([1,2,4,6,7])\n",
        "a"
      ],
      "id": "124bbe15-7e0f-4a17-afa1-062d370a9225"
    },
    {
      "cell_type": "code",
      "execution_count": null,
      "metadata": {
        "outputId": "a5374672-6b46-4578-f3eb-840ac9d6ad34"
      },
      "outputs": [],
      "source": [
        "np.diff(a,prepend=100)\n",
        "#np.diff(np.array([100]+a.tolist()) )"
      ],
      "id": "279a6bfe-2ac4-44ac-9f21-866cacad0750"
    },
    {
      "cell_type": "markdown",
      "metadata": {},
      "source": [
        "-   \\[1,2,4,6,7\\] -\\> \\[100,1,2,3,4,6\\] -\\> np.diff"
      ],
      "id": "fba23ee1-ca36-417d-85ad-4e8f4d1e1d3e"
    },
    {
      "cell_type": "code",
      "execution_count": null,
      "metadata": {
        "outputId": "3eef6b0d-f818-4d79-bd31-219ee37de020"
      },
      "outputs": [],
      "source": [
        "np.diff(a,append=100)\n",
        "#np.diff(np.array(a.tolist()+[100]) )"
      ],
      "id": "f8b06675-97e6-4ed5-abac-20d3e0f3f54a"
    },
    {
      "cell_type": "markdown",
      "metadata": {},
      "source": [
        "(예제) a=\\[1,2,4,6,7\\]의 앞에 1을 추가하여 차분하라."
      ],
      "id": "ffbaa51e-d939-410d-9483-557178fa7efc"
    },
    {
      "cell_type": "code",
      "execution_count": null,
      "metadata": {
        "outputId": "19e74df0-526c-4c3a-c3fc-b0eb4701fe6b"
      },
      "outputs": [],
      "source": [
        "np.diff(a,prepend=a[0])\n",
        "#np.diff(a,prepend=1)"
      ],
      "id": "ecb80844-adf9-415f-96d5-ff2c98490c32"
    },
    {
      "cell_type": "markdown",
      "metadata": {},
      "source": [
        "(예제) a=\\[1,2,4,6,7\\]의 뒤에 7을 추가하여 차분하라."
      ],
      "id": "8ba90fc3-42d3-4a63-9d28-374ade2701cd"
    },
    {
      "cell_type": "code",
      "execution_count": null,
      "metadata": {
        "outputId": "0272f4cc-02c5-449d-e28a-e25d32f858d2"
      },
      "outputs": [],
      "source": [
        "np.diff(a,append=a[-1])\n",
        "#np.diff(a,append=7)"
      ],
      "id": "cf852951-0063-4e6d-a75b-d0ee8dc3d054"
    },
    {
      "cell_type": "markdown",
      "metadata": {},
      "source": [
        "`-` 2차원 array의 차분"
      ],
      "id": "8a0b2229-d347-457f-b44d-5e3e32a939b6"
    },
    {
      "cell_type": "code",
      "execution_count": null,
      "metadata": {
        "outputId": "28a4ea44-1e6a-4c51-fec2-c129d1ff3d95"
      },
      "outputs": [],
      "source": [
        "a=np.arange(24).reshape(4,6)\n",
        "a"
      ],
      "id": "32f31b74-b9a0-4142-9f43-6f7990dcea33"
    },
    {
      "cell_type": "code",
      "execution_count": null,
      "metadata": {
        "outputId": "56bdcf30-0abb-40db-d877-9b0d3c98ed0b"
      },
      "outputs": [],
      "source": [
        "np.diff(a,axis=0) "
      ],
      "id": "53cbfd4a-6441-4ae2-8bcd-6b6b85132b5b"
    },
    {
      "cell_type": "code",
      "execution_count": null,
      "metadata": {
        "outputId": "9f581222-b3fb-4a1f-ec1c-d08d36c85590"
      },
      "outputs": [],
      "source": [
        "np.diff(a,axis=1) "
      ],
      "id": "e45efaa0-c6c2-4998-b504-49df0fc6c85b"
    },
    {
      "cell_type": "markdown",
      "metadata": {},
      "source": [
        "(숙제)"
      ],
      "id": "193ccc22-4efd-47f2-8a71-af0953ed8c99"
    },
    {
      "cell_type": "code",
      "execution_count": null,
      "metadata": {
        "outputId": "a71f3424-387e-4b60-ff97-31a85d755b45"
      },
      "outputs": [],
      "source": [
        "a=np.arange(24).reshape(4,6)\n",
        "a"
      ],
      "id": "30c9a1e2-1b7f-47c7-9c70-75e258c53048"
    },
    {
      "cell_type": "markdown",
      "metadata": {},
      "source": [
        "에서 axis=1 옵션으로 np.diff를 적용하여 (4,5) array를 만들고 왼쪽열에\n",
        "1이 포함된 column을 추가하여 최종 결과가 아래와 같이 되도록 하라.\n",
        "\n",
        "    array([[1, 1, 1, 1, 1, 1],\n",
        "           [1, 1, 1, 1, 1, 1],\n",
        "           [1, 1, 1, 1, 1, 1],\n",
        "           [1, 1, 1, 1, 1, 1]])"
      ],
      "id": "2a6e2409-673e-47b2-95c6-6f9a52a987c1"
    }
  ],
  "nbformat": 4,
  "nbformat_minor": 5,
  "metadata": {
    "colab": {
      "provenance": [],
      "toc_visible": true
    },
    "kernelspec": {
      "name": "python3",
      "display_name": "Python 3",
      "language": "python"
    },
    "language_info": {
      "name": "python",
      "codemirror_mode": {
        "name": "ipython",
        "version": "3"
      },
      "file_extension": ".py",
      "mimetype": "text/x-python",
      "nbconvert_exporter": "python",
      "pygments_lexer": "ipython3",
      "version": "3.7.16"
    }
  }
}