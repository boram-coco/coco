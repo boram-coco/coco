{
  "cells": [
    {
      "cell_type": "markdown",
      "metadata": {},
      "source": [
        "# 파이썬 (0418) 7주차\n",
        "\n",
        "김보람  \n",
        "2022-04-18"
      ],
      "id": "c7aeaeee-5bed-4619-82ac-8a398e164b62"
    },
    {
      "cell_type": "code",
      "execution_count": 1,
      "metadata": {},
      "outputs": [],
      "source": [
        "import numpy as np"
      ],
      "id": "80270ce4"
    },
    {
      "cell_type": "markdown",
      "metadata": {},
      "source": [
        "## numpy공부 7단계\n",
        "\n",
        "### note 1: 메소드 도움말 확인하기\n",
        "\n",
        "`-` 파이썬에서 함수를 적용하는 2가지 방식 - np.sum(a) - a.sum()"
      ],
      "id": "eb73e0b1-2643-4a24-9a21-84702f8996aa"
    },
    {
      "cell_type": "code",
      "execution_count": 2,
      "metadata": {},
      "outputs": [],
      "source": [
        "a=np.array([1,2,3,4,5])\n",
        "a"
      ],
      "id": "ee05e952"
    },
    {
      "cell_type": "code",
      "execution_count": 3,
      "metadata": {},
      "outputs": [],
      "source": [
        "a.sum()"
      ],
      "id": "8b6f2719"
    },
    {
      "cell_type": "code",
      "execution_count": 5,
      "metadata": {},
      "outputs": [],
      "source": [
        "np.sum(a)"
      ],
      "id": "3d81fd93"
    },
    {
      "cell_type": "markdown",
      "metadata": {},
      "source": [
        "`-` 넘파이에서 `a.sum`에 대한 도움말은 보통 `np.sum()`에 자세히 나와있음\n",
        "$\\to$ `np.sum()`의 도움말을 확인하고 `np.sum(a)`와 `a.sum()`이 동일함을\n",
        "이용하여 `a.sum()`의 사용법을 미루어 유추해야함"
      ],
      "id": "97d1bd29-a092-4db1-adc4-254f4d3189a1"
    },
    {
      "cell_type": "code",
      "execution_count": 6,
      "metadata": {},
      "outputs": [],
      "source": [
        "a.sum?"
      ],
      "id": "7c271964"
    },
    {
      "cell_type": "code",
      "execution_count": 7,
      "metadata": {},
      "outputs": [],
      "source": [
        "np.sum?"
      ],
      "id": "0ce15325"
    },
    {
      "cell_type": "code",
      "execution_count": 9,
      "metadata": {},
      "outputs": [],
      "source": [
        "np.sum([0.5, 1.5])"
      ],
      "id": "d9a532cd"
    },
    {
      "cell_type": "markdown",
      "metadata": {},
      "source": [
        "### note2: hstack, vstack\n",
        "\n",
        "`-` hstack, vstack를 쓰는 사람도 있다."
      ],
      "id": "4aed7517-5fea-41a1-9219-cadcd9dc6fa7"
    },
    {
      "cell_type": "code",
      "execution_count": 14,
      "metadata": {},
      "outputs": [],
      "source": [
        "a=np.arange(6)\n",
        "b=-a"
      ],
      "id": "99722015"
    },
    {
      "cell_type": "code",
      "execution_count": 15,
      "metadata": {},
      "outputs": [],
      "source": [
        "np.vstack([a,b])"
      ],
      "id": "24b01c28"
    },
    {
      "cell_type": "code",
      "execution_count": 17,
      "metadata": {},
      "outputs": [],
      "source": [
        "np.stack([a,b],axis=0)"
      ],
      "id": "27834008"
    },
    {
      "cell_type": "code",
      "execution_count": 18,
      "metadata": {},
      "outputs": [],
      "source": [
        "np.hstack([a,b])"
      ],
      "id": "309434c8"
    },
    {
      "cell_type": "code",
      "execution_count": 19,
      "metadata": {},
      "outputs": [],
      "source": [
        "np.concatenate([a,b],axis=0)"
      ],
      "id": "6c9d5a31"
    },
    {
      "cell_type": "markdown",
      "metadata": {},
      "source": [
        "#### note3: append\n",
        "\n",
        "`-` 기능1:reshape(-1) + concat"
      ],
      "id": "5ca0fe46-6495-4e48-af61-2401119ec9e6"
    },
    {
      "cell_type": "code",
      "execution_count": 20,
      "metadata": {},
      "outputs": [],
      "source": [
        "a=np.arange(30).reshape(5,6)\n",
        "b= -np.arange(8).reshape(2,2,2)"
      ],
      "id": "471a6b78"
    },
    {
      "cell_type": "code",
      "execution_count": 21,
      "metadata": {},
      "outputs": [],
      "source": [
        "a.shape, b.shape"
      ],
      "id": "90f9c193"
    },
    {
      "cell_type": "code",
      "execution_count": 23,
      "metadata": {},
      "outputs": [],
      "source": [
        "np.append(a,b)"
      ],
      "id": "80e42c7c"
    },
    {
      "cell_type": "code",
      "execution_count": 24,
      "metadata": {},
      "outputs": [],
      "source": [
        "np.concatenate([a.reshape(-1), b.reshape(-1)])"
      ],
      "id": "7acc8f0e"
    },
    {
      "cell_type": "markdown",
      "metadata": {},
      "source": [
        "`-` 기능2: concat"
      ],
      "id": "c4748474-4902-48ea-bbe0-30a31293f6d3"
    },
    {
      "cell_type": "code",
      "execution_count": 25,
      "metadata": {},
      "outputs": [],
      "source": [
        "a=np.arange(2*3*4).reshape(2,3,4)\n",
        "b=-a"
      ],
      "id": "30435e3e"
    },
    {
      "cell_type": "code",
      "execution_count": 34,
      "metadata": {},
      "outputs": [],
      "source": [
        "a.shape, b.shape, np.append(a,b, axis=0).shape   # 대괄호를 쓰지 않아도 됨"
      ],
      "id": "026eb49b"
    },
    {
      "cell_type": "code",
      "execution_count": 35,
      "metadata": {},
      "outputs": [],
      "source": [
        "a.shape, b.shape, np.append(a,b, axis=1).shape"
      ],
      "id": "b1f6a9c0"
    },
    {
      "cell_type": "code",
      "execution_count": 36,
      "metadata": {},
      "outputs": [],
      "source": [
        "a.shape, b.shape, np.append(a,b, axis=2).shape"
      ],
      "id": "17b46c9b"
    },
    {
      "cell_type": "markdown",
      "metadata": {},
      "source": [
        "`-` concat과의 차이?"
      ],
      "id": "d1317bcd-e2f5-4b8d-ba29-a2ee743c22f4"
    },
    {
      "cell_type": "code",
      "execution_count": 37,
      "metadata": {},
      "outputs": [],
      "source": [
        "a=np.arange(2*3*4).reshape(2,3,4)\n",
        "b=-a\n",
        "c=2*a"
      ],
      "id": "26ec04c9"
    },
    {
      "cell_type": "code",
      "execution_count": 38,
      "metadata": {},
      "outputs": [],
      "source": [
        "np.concatenate([a,b,c],axis=0)"
      ],
      "id": "a3bf9b6d"
    },
    {
      "cell_type": "markdown",
      "metadata": {},
      "source": [
        "#### note4: revel, flatten"
      ],
      "id": "a71b20b7-fe9f-46c0-ac0b-72edb8cd91af"
    },
    {
      "cell_type": "code",
      "execution_count": 39,
      "metadata": {},
      "outputs": [],
      "source": [
        "a=np.arange(2*3*4).reshape(2,3,4)\n",
        "a"
      ],
      "id": "2dfa6105"
    },
    {
      "cell_type": "code",
      "execution_count": 40,
      "metadata": {},
      "outputs": [],
      "source": [
        "a.reshape(-1) #디멘전 1차원으로"
      ],
      "id": "b76dad87"
    },
    {
      "cell_type": "code",
      "execution_count": 42,
      "metadata": {},
      "outputs": [],
      "source": [
        "a.ravel()"
      ],
      "id": "bccef0b3"
    },
    {
      "cell_type": "code",
      "execution_count": 43,
      "metadata": {},
      "outputs": [],
      "source": [
        "a.flatten()"
      ],
      "id": "cac9afba"
    },
    {
      "cell_type": "markdown",
      "metadata": {},
      "source": [
        "#### note 5: 기타 통계함수들\n",
        "\n",
        "`-` 평균, 중앙값, 표준편차, 분산"
      ],
      "id": "11585470-8fe4-45bd-b547-6c76478a8390"
    },
    {
      "cell_type": "code",
      "execution_count": 46,
      "metadata": {},
      "outputs": [],
      "source": [
        "a=np.random.normal(loc=0, scale=2, size=(100,))\n",
        "a"
      ],
      "id": "3f061142"
    },
    {
      "cell_type": "code",
      "execution_count": 47,
      "metadata": {},
      "outputs": [],
      "source": [
        "np.mean(a)"
      ],
      "id": "21825e2e"
    },
    {
      "cell_type": "code",
      "execution_count": 48,
      "metadata": {},
      "outputs": [],
      "source": [
        "np.median(a)"
      ],
      "id": "fa000812"
    },
    {
      "cell_type": "code",
      "execution_count": 49,
      "metadata": {},
      "outputs": [],
      "source": [
        "np.std(a)"
      ],
      "id": "ec70f64c"
    },
    {
      "cell_type": "code",
      "execution_count": 50,
      "metadata": {},
      "outputs": [],
      "source": [
        "np.var(a)"
      ],
      "id": "107a73a8"
    },
    {
      "cell_type": "markdown",
      "metadata": {},
      "source": [
        "`-` corr matrix, cov matrix"
      ],
      "id": "6ebe400d-8e70-489e-9831-e3a3d29477b8"
    },
    {
      "cell_type": "code",
      "execution_count": 51,
      "metadata": {},
      "outputs": [],
      "source": [
        "np.random.seed(43052)\n",
        "x=np.random.randn(10000)\n",
        "y=np.random.randn(10000)*2\n",
        "z=np.random.randn(10000)*0.5"
      ],
      "id": "0ec03fb8"
    },
    {
      "cell_type": "code",
      "execution_count": 52,
      "metadata": {},
      "outputs": [],
      "source": [
        "np.corrcoef([x,y,z]).round(2)"
      ],
      "id": "a8001f71"
    },
    {
      "cell_type": "code",
      "execution_count": 53,
      "metadata": {},
      "outputs": [],
      "source": [
        "np.cov([x,y,z]).round(2)"
      ],
      "id": "bd4c0955"
    },
    {
      "cell_type": "markdown",
      "metadata": {},
      "source": [
        "#### note 6 : dtype\n",
        "\n",
        "`-` np.array는 항상 dtype이 있다."
      ],
      "id": "4f983f2a-727c-419b-a2e1-37bba475c094"
    },
    {
      "cell_type": "code",
      "execution_count": 54,
      "metadata": {},
      "outputs": [],
      "source": [
        "a=np.array([1,2,3])\n",
        "a"
      ],
      "id": "b81cad69"
    },
    {
      "cell_type": "code",
      "execution_count": 55,
      "metadata": {},
      "outputs": [],
      "source": [
        "a.dtype"
      ],
      "id": "1d6a44bc"
    },
    {
      "cell_type": "code",
      "execution_count": 56,
      "metadata": {},
      "outputs": [],
      "source": [
        "a=np.array([1.0,2.0,3.0])\n",
        "a"
      ],
      "id": "74fa1826"
    },
    {
      "cell_type": "code",
      "execution_count": 57,
      "metadata": {},
      "outputs": [],
      "source": [
        "a.dtype"
      ],
      "id": "b6aa9341"
    },
    {
      "cell_type": "code",
      "execution_count": 58,
      "metadata": {},
      "outputs": [],
      "source": [
        "a=1\n",
        "type(a)"
      ],
      "id": "303f885f"
    },
    {
      "cell_type": "code",
      "execution_count": 59,
      "metadata": {},
      "outputs": [],
      "source": [
        "a=1.0\n",
        "type(a)"
      ],
      "id": "18ea6ed6"
    },
    {
      "cell_type": "markdown",
      "metadata": {},
      "source": [
        "`-` 같은 int라도 int16, int32, int64으로 나누어진다."
      ],
      "id": "327cd6ef-f42f-4c46-ab82-7c0ef7df84b6"
    },
    {
      "cell_type": "code",
      "execution_count": 61,
      "metadata": {},
      "outputs": [],
      "source": [
        "a= np.array([1,2,3], dtype=np.int64)\n",
        "a"
      ],
      "id": "e8521567"
    },
    {
      "cell_type": "code",
      "execution_count": 62,
      "metadata": {},
      "outputs": [],
      "source": [
        "a= np.array([1,2,3], dtype=np.int32)\n",
        "a"
      ],
      "id": "68904474"
    },
    {
      "cell_type": "code",
      "execution_count": 63,
      "metadata": {},
      "outputs": [],
      "source": [
        "a.dtype"
      ],
      "id": "288f4bc4"
    },
    {
      "cell_type": "markdown",
      "metadata": {},
      "source": [
        "`-` float도 float16, float32, float64가 있다."
      ],
      "id": "2b5473d0-37c7-4bb4-8868-7d12c4746abb"
    },
    {
      "cell_type": "code",
      "execution_count": 64,
      "metadata": {},
      "outputs": [],
      "source": [
        "a=np.array([1,2,3],dtype=np.float64) #64는 기본이라 표시가 안된당. \n",
        "a"
      ],
      "id": "143d0426"
    },
    {
      "cell_type": "code",
      "execution_count": 65,
      "metadata": {},
      "outputs": [],
      "source": [
        "a=np.array([1,2,3],dtype=np.float32)\n",
        "a"
      ],
      "id": "f5dd14ca"
    },
    {
      "cell_type": "markdown",
      "metadata": {},
      "source": [
        "`-` 데이터타입은 아래와 같은 방법으로 변환시킬 수 있다."
      ],
      "id": "a9b0e766-9c3b-4bc4-9f24-dd6c0a19f852"
    },
    {
      "cell_type": "code",
      "execution_count": 66,
      "metadata": {},
      "outputs": [],
      "source": [
        "a = np.array([1,2,3],dtype=np.int32)\n",
        "a"
      ],
      "id": "ebe66988"
    },
    {
      "cell_type": "code",
      "execution_count": 68,
      "metadata": {},
      "outputs": [],
      "source": [
        "a=a.astype(dtype=np.int64)"
      ],
      "id": "0c5a7424"
    },
    {
      "cell_type": "code",
      "execution_count": 69,
      "metadata": {},
      "outputs": [],
      "source": [
        "a.dtype"
      ],
      "id": "2063b1f0"
    },
    {
      "cell_type": "markdown",
      "metadata": {},
      "source": [
        "`-` 문자열의 경우"
      ],
      "id": "d6bfa634-94a4-4676-b46e-49b23548edee"
    },
    {
      "cell_type": "code",
      "execution_count": 70,
      "metadata": {},
      "outputs": [],
      "source": [
        "a= np.array(['a','b','c'])\n",
        "a"
      ],
      "id": "5bb180eb"
    },
    {
      "cell_type": "code",
      "execution_count": 71,
      "metadata": {},
      "outputs": [],
      "source": [
        "a= np.array(['ab','b','c'])\n",
        "a"
      ],
      "id": "69208fad"
    },
    {
      "cell_type": "code",
      "execution_count": 72,
      "metadata": {},
      "outputs": [],
      "source": [
        "a= np.array(['absfd','b','c'])\n",
        "a"
      ],
      "id": "3186923d"
    },
    {
      "cell_type": "markdown",
      "metadata": {},
      "source": [
        "`-` 문자열+숫자혼합 =\\> 문자열로 통일"
      ],
      "id": "1a42d588-c390-48fe-b97b-7d2636c5b89c"
    },
    {
      "cell_type": "code",
      "execution_count": 73,
      "metadata": {},
      "outputs": [],
      "source": [
        "a=np.array(['a',1])\n",
        "a"
      ],
      "id": "8ba4a324"
    },
    {
      "cell_type": "code",
      "execution_count": 74,
      "metadata": {},
      "outputs": [],
      "source": [
        "a=np.array(['a',1423])\n",
        "a"
      ],
      "id": "4bf357e7"
    },
    {
      "cell_type": "code",
      "execution_count": 75,
      "metadata": {},
      "outputs": [],
      "source": [
        "a=np.array(['a',1.0])\n",
        "a"
      ],
      "id": "38e5c51d"
    },
    {
      "cell_type": "markdown",
      "metadata": {},
      "source": [
        "`-` 숫자를 문자열로 전환:"
      ],
      "id": "bad192b7-c16f-428f-ba01-2428167b5029"
    },
    {
      "cell_type": "code",
      "execution_count": 76,
      "metadata": {},
      "outputs": [],
      "source": [
        "a=np.array([1,2,3])\n",
        "a"
      ],
      "id": "f60c7ca3"
    },
    {
      "cell_type": "code",
      "execution_count": 78,
      "metadata": {},
      "outputs": [],
      "source": [
        "a.astype(np.str_)\n",
        "\n",
        "# 문자열 타입으로 바뀌는"
      ],
      "id": "9713dd47"
    },
    {
      "cell_type": "markdown",
      "metadata": {},
      "source": [
        "#### note 7: 브로드캐스팅과 시간측정\n",
        "\n",
        "(예비학습)"
      ],
      "id": "37d63320-d384-40a8-9436-5469ff0b8fe6"
    },
    {
      "cell_type": "code",
      "execution_count": 80,
      "metadata": {},
      "outputs": [],
      "source": [
        "import time"
      ],
      "id": "7dc7e49f"
    },
    {
      "cell_type": "code",
      "execution_count": 81,
      "metadata": {},
      "outputs": [],
      "source": [
        "t1=time.time()"
      ],
      "id": "b9219f58"
    },
    {
      "cell_type": "code",
      "execution_count": 82,
      "metadata": {},
      "outputs": [],
      "source": [
        "t2=time.time()\n",
        "t2-t1"
      ],
      "id": "6ea9c097"
    },
    {
      "cell_type": "markdown",
      "metadata": {},
      "source": [
        "예비학습끝\n",
        "\n",
        "(예제) x=\\[0,1,2,3,4\\]인 벡터가 있다고 하자. (i,j)의 원소는\n",
        "`(x[i]-x[j])**2`를 의미하는 $5\\times5$ 매트릭스를 구하라..\n",
        "\n",
        "(풀이)"
      ],
      "id": "14127f58-1340-4a93-ace5-0729a855cd8f"
    },
    {
      "cell_type": "code",
      "execution_count": 102,
      "metadata": {},
      "outputs": [],
      "source": [
        "x=np.array(range(5))\n",
        "x"
      ],
      "id": "377d37f6"
    },
    {
      "cell_type": "code",
      "execution_count": 85,
      "metadata": {},
      "outputs": [],
      "source": [
        "dist= np.zeros([5,5])\n",
        "dist"
      ],
      "id": "92005793"
    },
    {
      "cell_type": "code",
      "execution_count": 86,
      "metadata": {},
      "outputs": [],
      "source": [
        "for i in range(5):\n",
        "    for j in range(5):\n",
        "        dist[i,j] = (x[i]-x[j])**2"
      ],
      "id": "8e61636f"
    },
    {
      "cell_type": "code",
      "execution_count": 87,
      "metadata": {},
      "outputs": [],
      "source": [
        "dist"
      ],
      "id": "f62ece7b"
    },
    {
      "cell_type": "markdown",
      "metadata": {},
      "source": [
        "(풀이2)"
      ],
      "id": "b43071a1-117b-4d3d-b2a1-6ca2b7f6a54d"
    },
    {
      "cell_type": "code",
      "execution_count": 103,
      "metadata": {},
      "outputs": [],
      "source": [
        "x1=x.reshape(5,1).astype(dtype=np.float64)\n",
        "x2=x.reshape(1,5).astype(dtype=np.float64)"
      ],
      "id": "f8a33348"
    },
    {
      "cell_type": "code",
      "execution_count": 104,
      "metadata": {},
      "outputs": [],
      "source": [
        "x1"
      ],
      "id": "f8358b4a"
    },
    {
      "cell_type": "code",
      "execution_count": 105,
      "metadata": {},
      "outputs": [],
      "source": [
        "x2"
      ],
      "id": "c56ea6ac"
    },
    {
      "cell_type": "code",
      "execution_count": 106,
      "metadata": {},
      "outputs": [],
      "source": [
        "x1-x2"
      ],
      "id": "a43e1bb8"
    },
    {
      "cell_type": "markdown",
      "metadata": {},
      "source": [
        "-   (i,j)th element = x\\[i\\] - x\\[j\\]"
      ],
      "id": "9dfafed4-4cc4-4008-a194-235f4824bc02"
    },
    {
      "cell_type": "code",
      "execution_count": 92,
      "metadata": {},
      "outputs": [],
      "source": [
        "(x1-x2)**2"
      ],
      "id": "9c18a0bd"
    },
    {
      "cell_type": "markdown",
      "metadata": {},
      "source": [
        "------------------------------------------------------------------------"
      ],
      "id": "1b6997a8-63fb-411e-aafd-e9eff5b959df"
    },
    {
      "cell_type": "code",
      "execution_count": 93,
      "metadata": {},
      "outputs": [],
      "source": [
        "y=x=np.array(range(10000))"
      ],
      "id": "96951783"
    },
    {
      "cell_type": "code",
      "execution_count": 94,
      "metadata": {},
      "outputs": [],
      "source": [
        "dist= np.zeros([10000,10000])\n",
        "dist"
      ],
      "id": "c09ee6c5"
    },
    {
      "cell_type": "code",
      "execution_count": 95,
      "metadata": {},
      "outputs": [],
      "source": [
        "t1=time.time()\n",
        "for i in range(10000):\n",
        "    for j in range(10000):\n",
        "        dist[i,j] = (y[i]-y[j])**2\n",
        "t2=time.time()\n",
        "t2-t1"
      ],
      "id": "5915213b"
    },
    {
      "cell_type": "code",
      "execution_count": 107,
      "metadata": {},
      "outputs": [],
      "source": [
        "y1=y.reshape(10000,1).astype(np.float64)\n",
        "y2=y.reshape(1,10000).astype(np.float64)"
      ],
      "id": "7e903faa"
    },
    {
      "cell_type": "code",
      "execution_count": 108,
      "metadata": {},
      "outputs": [],
      "source": [
        "t1=time.time()\n",
        "dist2=(y1-y2)**2\n",
        "t2=time.time()\n",
        "t2-t1"
      ],
      "id": "a28838a9"
    },
    {
      "cell_type": "code",
      "execution_count": 109,
      "metadata": {},
      "outputs": [],
      "source": [
        "dist[:5,:5], dist2[:5,:5]"
      ],
      "id": "b01818a4"
    },
    {
      "cell_type": "code",
      "execution_count": 100,
      "metadata": {},
      "outputs": [],
      "source": [
        "(dist-dist2).sum()"
      ],
      "id": "40d365cf"
    },
    {
      "cell_type": "markdown",
      "metadata": {},
      "source": [
        "## matplotlib"
      ],
      "id": "f17920df-68a4-48f8-bf1c-8815f787e6b1"
    },
    {
      "cell_type": "code",
      "execution_count": 110,
      "metadata": {},
      "outputs": [],
      "source": [
        "import matplotlib.pyplot as plt"
      ],
      "id": "c2578a8b"
    },
    {
      "cell_type": "markdown",
      "metadata": {},
      "source": [
        "### plt.plot\n",
        "\n",
        "`-` 기본그림"
      ],
      "id": "a25b380b-1876-4e44-8ef4-848805ecb22e"
    },
    {
      "cell_type": "code",
      "execution_count": 114,
      "metadata": {},
      "outputs": [
        {
          "output_type": "display_data",
          "metadata": {},
          "data": {
            "image/png": "[encoded data removed]"
          }
        }
      ],
      "source": [
        "plt.plot([1,2,3],[3,4,5],'.')"
      ],
      "id": "0e996b41"
    },
    {
      "cell_type": "code",
      "execution_count": 115,
      "metadata": {},
      "outputs": [
        {
          "output_type": "display_data",
          "metadata": {},
          "data": {
            "image/png": "[encoded data removed]"
          }
        }
      ],
      "source": [
        "plt.plot(np.array([1,2,3]),np.array([3,4,5]),'.')"
      ],
      "id": "8f7e28b3"
    },
    {
      "cell_type": "markdown",
      "metadata": {},
      "source": [
        "`-` 예제들"
      ],
      "id": "eff2dede-a341-4641-bf50-361fe56dde29"
    },
    {
      "cell_type": "code",
      "execution_count": 116,
      "metadata": {},
      "outputs": [],
      "source": [
        "t=np.linspace(-6,6,100)\n",
        "t"
      ],
      "id": "e5b8f087"
    },
    {
      "cell_type": "code",
      "execution_count": 117,
      "metadata": {},
      "outputs": [],
      "source": [
        "x=np.sin(t)\n",
        "y=np.cos(t)"
      ],
      "id": "b2a8fec4"
    },
    {
      "cell_type": "code",
      "execution_count": 118,
      "metadata": {},
      "outputs": [
        {
          "output_type": "display_data",
          "metadata": {},
          "data": {
            "image/png": "[encoded data removed]"
          }
        }
      ],
      "source": [
        "plt.plot(t,x)"
      ],
      "id": "b6748257"
    },
    {
      "cell_type": "code",
      "execution_count": 119,
      "metadata": {},
      "outputs": [
        {
          "output_type": "display_data",
          "metadata": {},
          "data": {
            "image/png": "[encoded data removed]"
          }
        }
      ],
      "source": [
        "plt.plot(t,y)"
      ],
      "id": "baf14f6a"
    },
    {
      "cell_type": "code",
      "execution_count": 120,
      "metadata": {},
      "outputs": [
        {
          "output_type": "display_data",
          "metadata": {},
          "data": {
            "image/png": "[encoded data removed]"
          }
        }
      ],
      "source": [
        "plt.plot(t,x)\n",
        "plt.plot(t,y)"
      ],
      "id": "41b775b2"
    },
    {
      "cell_type": "code",
      "execution_count": 121,
      "metadata": {},
      "outputs": [
        {
          "output_type": "display_data",
          "metadata": {},
          "data": {
            "image/png": "[encoded data removed]"
          }
        }
      ],
      "source": [
        "plt.plot(t,x)\n",
        "plt.plot(t,y,'.')"
      ],
      "id": "1a928000"
    },
    {
      "cell_type": "code",
      "execution_count": 122,
      "metadata": {},
      "outputs": [
        {
          "output_type": "display_data",
          "metadata": {},
          "data": {
            "image/png": "[encoded data removed]"
          }
        }
      ],
      "source": [
        "plt.plot(t,x)\n",
        "plt.plot(t,y,'--')"
      ],
      "id": "db3ab4c4"
    },
    {
      "cell_type": "markdown",
      "metadata": {},
      "source": [
        "### plt.hist"
      ],
      "id": "2d2d390b-829d-42aa-98c0-a0013e32746d"
    },
    {
      "cell_type": "code",
      "execution_count": 124,
      "metadata": {},
      "outputs": [],
      "source": [
        "X=np.random.randn(1000)"
      ],
      "id": "d1bb0756"
    },
    {
      "cell_type": "code",
      "execution_count": 125,
      "metadata": {},
      "outputs": [
        {
          "output_type": "display_data",
          "metadata": {},
          "data": {
            "image/png": "[encoded data removed]"
          }
        }
      ],
      "source": [
        "plt.hist(X)"
      ],
      "id": "22881c2f"
    },
    {
      "cell_type": "code",
      "execution_count": 127,
      "metadata": {},
      "outputs": [
        {
          "output_type": "display_data",
          "metadata": {},
          "data": {
            "image/png": "[encoded data removed]"
          }
        }
      ],
      "source": [
        "Y=np.random.rand(1000)\n",
        "plt.hist(Y)"
      ],
      "id": "10d3fd5a"
    },
    {
      "cell_type": "code",
      "execution_count": 128,
      "metadata": {},
      "outputs": [
        {
          "output_type": "display_data",
          "metadata": {},
          "data": {
            "image/png": "[encoded data removed]"
          }
        }
      ],
      "source": [
        "plt.hist(X)\n",
        "plt.hist(Y)"
      ],
      "id": "61054718"
    }
  ],
  "nbformat": 4,
  "nbformat_minor": 5,
  "metadata": {
    "kernelspec": {
      "name": "python3",
      "display_name": "Python 3",
      "language": "python"
    },
    "language_info": {
      "name": "python",
      "codemirror_mode": {
        "name": "ipython",
        "version": "3"
      },
      "file_extension": ".py",
      "mimetype": "text/x-python",
      "nbconvert_exporter": "python",
      "pygments_lexer": "ipython3",
      "version": "3.7.16"
    },
    "toc": {
      "base_numbering": "1",
      "nav_menu": {},
      "number_sections": true,
      "sideBar": true,
      "skip_h1_title": false,
      "title_cell": "Table of Contents",
      "title_sidebar": "Contents",
      "toc_cell": false,
      "toc_position": {},
      "toc_section_display": true,
      "toc_window_display": false
    }
  }
}