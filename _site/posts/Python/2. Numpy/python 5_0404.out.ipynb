{
  "cells": [
    {
      "cell_type": "markdown",
      "metadata": {},
      "source": [
        "# 파이썬 (0404) 5주차\n",
        "\n",
        "김보람  \n",
        "2022-04-04\n",
        "\n",
        "# 소스코드 관리(모듈, 패키지, 라이브러리)\n",
        "\n",
        "**intro**\n",
        "\n",
        "`-` 현재 파이썬은 길이가 2인 벡터의 덧셈을 지원하지 않음"
      ],
      "id": "2079c1bc-1a51-4f63-8062-2e8a75354dab"
    },
    {
      "cell_type": "code",
      "execution_count": 1,
      "metadata": {},
      "outputs": [],
      "source": [
        "a=[1,2]\n",
        "b=[3,4]\n",
        "a+b"
      ],
      "id": "51bf989b"
    },
    {
      "cell_type": "markdown",
      "metadata": {},
      "source": [
        "`-` 아래와 같은 기능을 구현하는 함수를 만들고 싶음\n",
        "\n",
        "\\[1,2\\],\\[3,4\\] -\\> \\[4,6\\]\n",
        "\n",
        "`-` 구현"
      ],
      "id": "ea3ce8e6-90a6-4628-9968-4e1090fa6ea9"
    },
    {
      "cell_type": "code",
      "execution_count": 2,
      "metadata": {},
      "outputs": [],
      "source": [
        "def vec2_add(a,b):\n",
        "    return [a[0]+b[0], a[1]+b[1]]"
      ],
      "id": "2c514e6f"
    },
    {
      "cell_type": "markdown",
      "metadata": {},
      "source": [
        "`-` test"
      ],
      "id": "a4213c59-7479-4148-96f7-c91d035bf3d9"
    },
    {
      "cell_type": "code",
      "execution_count": 3,
      "metadata": {},
      "outputs": [],
      "source": [
        "a=[1,2]\n",
        "b=[3,4]"
      ],
      "id": "1c0c2993"
    },
    {
      "cell_type": "code",
      "execution_count": 4,
      "metadata": {},
      "outputs": [],
      "source": [
        "vec2_add(a,b)"
      ],
      "id": "964441b6"
    },
    {
      "cell_type": "markdown",
      "metadata": {},
      "source": [
        "make `myfuns.py`\n",
        "\n",
        "`-` 생각해보니까 vec2_add는 내가 앞으로 자주 쓸 기능임\n",
        "\n",
        "`-` 그런데 현재 사용방법으로는 내가 노트북파일을 새로 만들때마다\n",
        "`def vec2_add(a,b):`와 같은 함수를 매번 정의해줘야 하는 불편함이 있다.\n",
        "\n",
        "해결1\n",
        "\n",
        "`-` 자주 사용하는 함수를 `myfuns.py`에 저장한다. (4주차 수업)\n",
        "\n",
        "``` python\n",
        "# myfuns.py\n",
        "def vec2_add(a,b):\n",
        "    return [a[0]+b[0], a[1]+b[1]]\n",
        "```\n",
        "\n",
        "%run myfuns를 실행\n",
        "\n",
        "준비:“00” -\\> 커널재시작"
      ],
      "id": "5ca70819-4619-4b14-a524-d8dcd56ad643"
    },
    {
      "cell_type": "code",
      "execution_count": 3,
      "metadata": {},
      "outputs": [],
      "source": [
        "# "
      ],
      "id": "fa7ffdb1-878a-4625-bfc0-15c06480c2ca"
    },
    {
      "cell_type": "code",
      "execution_count": 1,
      "metadata": {},
      "outputs": [],
      "source": [
        "%run myfuns"
      ],
      "id": "7fc97c4a"
    },
    {
      "cell_type": "code",
      "execution_count": 2,
      "metadata": {},
      "outputs": [],
      "source": [
        "vec2_add([1,2],[3,4])"
      ],
      "id": "41e8060b-fda0-4e03-a804-6834d4c252ca"
    },
    {
      "cell_type": "markdown",
      "metadata": {},
      "source": [
        "해결 2\n",
        "\n",
        "`-` 자주 사용하는 함수를 `myfuns.py`에 저장한다. (4주차 수업)\n",
        "\n",
        "``` python\n",
        "# myfuns.py\n",
        "def vec2_add(a,b):\n",
        "    return [a[0]+b[0], a[1]+b[1]]\n",
        "```\n",
        "\n",
        "`-` import myfuns를 이용\n",
        "\n",
        "(준비) “00” -\\> 커널 재시작"
      ],
      "id": "cf8ccd23-2494-44cd-bb4a-2e605ea2f48c"
    },
    {
      "cell_type": "code",
      "execution_count": 1,
      "metadata": {},
      "outputs": [],
      "source": [
        "import myfuns"
      ],
      "id": "38539fa9"
    },
    {
      "cell_type": "code",
      "execution_count": 2,
      "metadata": {},
      "outputs": [],
      "source": [
        "a=[1,2]\n",
        "b=[3,4]\n",
        "myfuns.vec2_add(a,b)"
      ],
      "id": "a79bc932"
    },
    {
      "cell_type": "markdown",
      "metadata": {},
      "source": [
        "### import 기본\n",
        "\n",
        "`-`사용방법1\n",
        "\n",
        "준비: “00” -\\> 커널재시작"
      ],
      "id": "c4d19d8f-2d3c-41ba-b779-9fc8547696c4"
    },
    {
      "cell_type": "code",
      "execution_count": 1,
      "metadata": {},
      "outputs": [],
      "source": [
        "import myfuns"
      ],
      "id": "6b3a082c-ea71-4585-ab27-8ffb289e6d9e"
    },
    {
      "cell_type": "code",
      "execution_count": 2,
      "metadata": {},
      "outputs": [],
      "source": [
        "myfuns.vec2_add([1,2],[3,4])"
      ],
      "id": "3d5b7863-0e85-420c-9a00-dc0d5e95d32c"
    },
    {
      "cell_type": "markdown",
      "metadata": {},
      "source": [
        "-   myfuns.vec2_add의 의미: myfuns.py라는 파일안에 vec2_add라는 함수가\n",
        "    있음. 그것을 실행하라.\n",
        "-   `.`의 의미: `상위, 하위`의 개념!\n",
        "\n",
        "(주의) 아래와 같이 사용 불가능 하다."
      ],
      "id": "175d6c62-4fab-4644-80dc-34a838c74085"
    },
    {
      "cell_type": "code",
      "execution_count": 4,
      "metadata": {},
      "outputs": [],
      "source": [
        "vec2_add([1,2],[3,4])  #myfuns가 import가 된거지 vec2Add가 import가 된 것이 아님."
      ],
      "id": "6c43acd3-128a-4156-8ddb-21d574d41117"
    },
    {
      "cell_type": "markdown",
      "metadata": {},
      "source": [
        "`-` 사용방법2\n",
        "\n",
        "준비: “00” -\\> 커널재시작"
      ],
      "id": "f32668c9-571a-4ebc-891a-1c69cf2d7783"
    },
    {
      "cell_type": "code",
      "execution_count": 1,
      "metadata": {},
      "outputs": [],
      "source": [
        "from myfuns import vec2_add"
      ],
      "id": "5af286d9-805d-4467-bbe2-45c439592f0d"
    },
    {
      "cell_type": "code",
      "execution_count": 2,
      "metadata": {},
      "outputs": [],
      "source": [
        "vec2_add([1,2],[3,4])"
      ],
      "id": "4584a083-3c7c-47b1-99bc-6dba31e34b1e"
    },
    {
      "cell_type": "code",
      "execution_count": 4,
      "metadata": {},
      "outputs": [],
      "source": [
        "myfuns.vec2_add([1,2],[3,4])  # myfuns안의 vec2_add만 임포트했지 myfuns자체를 임포트 한것은 아님.."
      ],
      "id": "637f9c38-08ec-4172-b80f-c024021758d4"
    },
    {
      "cell_type": "markdown",
      "metadata": {},
      "source": [
        "`-` 사용방법3\n",
        "\n",
        "준비: “00” -\\> 커널재시작"
      ],
      "id": "8f79efb3-3dab-4ad7-9c89-ffa0cbe6349d"
    },
    {
      "cell_type": "code",
      "execution_count": 1,
      "metadata": {},
      "outputs": [],
      "source": [
        "import myfuns\n",
        "from myfuns import vec2_add"
      ],
      "id": "d6bfdcb7-59f6-4ad0-b722-4cdfca21ec4b"
    },
    {
      "cell_type": "code",
      "execution_count": 2,
      "metadata": {},
      "outputs": [],
      "source": [
        "myfuns.vec2_add([1,2],[3,4])"
      ],
      "id": "07920906-4493-4e4b-9b8c-1bd190340e38"
    },
    {
      "cell_type": "code",
      "execution_count": 3,
      "metadata": {},
      "outputs": [],
      "source": [
        "vec2_add([1,2],[3,4])"
      ],
      "id": "3d980c9d-9597-45cd-ba1e-92dde80f9227"
    },
    {
      "cell_type": "code",
      "execution_count": 4,
      "metadata": {},
      "outputs": [],
      "source": [
        "vec2_sub([1,2],[3,4])   # vec2_sub는 import하지 않았기 때문에 오류남.. "
      ],
      "id": "919410fd-b48c-4989-bc55-6365b86e023d"
    },
    {
      "cell_type": "code",
      "execution_count": 5,
      "metadata": {},
      "outputs": [],
      "source": [
        "myfuns.vec2_sub([1,2],[3,4])"
      ],
      "id": "9f463b25-0755-4bf5-8cc6-9250ada2d7fa"
    },
    {
      "cell_type": "markdown",
      "metadata": {},
      "source": [
        "`-` 사용방법4\n",
        "\n",
        "준비: “00” -\\> 커널재시작"
      ],
      "id": "11bde630-dd3c-453c-b475-74d387aa6078"
    },
    {
      "cell_type": "code",
      "execution_count": 1,
      "metadata": {},
      "outputs": [],
      "source": [
        "from myfuns import vec2_add, vec2_sub"
      ],
      "id": "a14d842f-d54b-4b19-a068-1ef6449c2c41"
    },
    {
      "cell_type": "code",
      "execution_count": 2,
      "metadata": {},
      "outputs": [],
      "source": [
        "vec2_add([1,2],[3,4]), vec2_sub([1,2],[3,4])"
      ],
      "id": "516d0846-5e1b-442c-806b-398bf5ca56f0"
    },
    {
      "cell_type": "markdown",
      "metadata": {},
      "source": [
        "`-` 사용방법5\n",
        "\n",
        "준비: “00” -\\> 커널재시작"
      ],
      "id": "3921e1c4-dc72-4f38-b61b-a8215570348e"
    },
    {
      "cell_type": "code",
      "execution_count": 4,
      "metadata": {},
      "outputs": [],
      "source": [
        "from myfuns import *   # *는 all의 의미"
      ],
      "id": "dc1f3231-8591-47a3-aa31-c780649db7c2"
    },
    {
      "cell_type": "code",
      "execution_count": 7,
      "metadata": {},
      "outputs": [],
      "source": [
        "vec2_add([1,2],[3,4]), vec2_sub([1,2],[3,4])"
      ],
      "id": "c37826c3-d326-42f7-b5d3-88a2498eaabe"
    },
    {
      "cell_type": "markdown",
      "metadata": {},
      "source": [
        "`-` 사용방법6\n",
        "\n",
        "준비: “00” -\\> 커널재시작"
      ],
      "id": "cc96ae1f-9d31-4e9e-adc9-f9ea32b30908"
    },
    {
      "cell_type": "code",
      "execution_count": 8,
      "metadata": {},
      "outputs": [],
      "source": [
        "import myfuns as mf "
      ],
      "id": "f2085419-dd32-46ef-9b30-76617b88d9f5"
    },
    {
      "cell_type": "code",
      "execution_count": 9,
      "metadata": {},
      "outputs": [],
      "source": [
        "mf.vec2_add([1,2],[3,4])"
      ],
      "id": "4077beb8-90cb-4e9f-9523-d1ec6ae95184"
    },
    {
      "cell_type": "code",
      "execution_count": 10,
      "metadata": {},
      "outputs": [],
      "source": [
        "mf.vec2_sub([1,2],[3,4])"
      ],
      "id": "b2e7733f-e7e0-4d71-8513-82af183fdb0f"
    },
    {
      "cell_type": "markdown",
      "metadata": {},
      "source": [
        "(오히려 아래는 실행불가능)"
      ],
      "id": "d83a0762-50f9-43d1-95d9-454b6579fbf9"
    },
    {
      "cell_type": "code",
      "execution_count": 11,
      "metadata": {},
      "outputs": [],
      "source": [
        "myfuns.vec2_add([1,2],[3,4])"
      ],
      "id": "dd2e3905-c9fd-4506-9cce-1a36df57cf83"
    },
    {
      "cell_type": "markdown",
      "metadata": {},
      "source": [
        "`-` 잘못된 사용방법1\n",
        "\n",
        "준비: “00” -\\> 커널재시작"
      ],
      "id": "adc1d4d0-b6a1-4d41-bbb2-f7ca48a039ec"
    },
    {
      "cell_type": "code",
      "execution_count": 1,
      "metadata": {},
      "outputs": [],
      "source": [
        "import myfuns as mf\n",
        "from mf import vec2_add"
      ],
      "id": "f7ef5da0-824d-4fe5-8f09-086a5a4f19ba"
    },
    {
      "cell_type": "markdown",
      "metadata": {},
      "source": [
        "`-` 사용방법 7\n",
        "\n",
        "준비: “00” -\\> 커널재시작"
      ],
      "id": "7b941f6d-2b49-4dca-ac14-e8b90f600545"
    },
    {
      "cell_type": "code",
      "execution_count": 1,
      "metadata": {},
      "outputs": [],
      "source": [
        "import myfuns as mf\n",
        "from myfuns import vec2_add as add"
      ],
      "id": "f8280075-8ae4-4b08-b043-7aa6eb466ab8"
    },
    {
      "cell_type": "code",
      "execution_count": 2,
      "metadata": {},
      "outputs": [],
      "source": [
        "mf.vec2_add([1,2],[3,4])"
      ],
      "id": "9e3eb2f1-bbc8-4ce7-b8c2-265c60a176f4"
    },
    {
      "cell_type": "code",
      "execution_count": 5,
      "metadata": {},
      "outputs": [],
      "source": [
        "vec2_add([1,2],[3,4])   # 위에서 vec2_add를 add로 부르기로 했음. 그래서 이건 안뎀 "
      ],
      "id": "17f9973c-df31-452d-83b8-0a9e7391bff6"
    },
    {
      "cell_type": "code",
      "execution_count": 4,
      "metadata": {},
      "outputs": [],
      "source": [
        "add([1,2],[3,4])"
      ],
      "id": "872a9bfd-61d1-4dbf-a98b-dfcb7cfe0e60"
    },
    {
      "cell_type": "markdown",
      "metadata": {},
      "source": [
        "### 도움말 작성기능\n",
        "\n",
        "`-` mf란 무엇인가?\n",
        "\n",
        "준비: “00” -\\> 커널재시작"
      ],
      "id": "e14eb726-c944-4de4-8c35-1efd382cb997"
    },
    {
      "cell_type": "code",
      "execution_count": 1,
      "metadata": {},
      "outputs": [],
      "source": [
        "import myfuns as mf"
      ],
      "id": "529b3a28-d40c-4aa4-8719-6dfd9705a431"
    },
    {
      "cell_type": "code",
      "execution_count": 2,
      "metadata": {},
      "outputs": [],
      "source": [
        "mf"
      ],
      "id": "a8eeceec-d46d-436a-aa49-a14e64e577a1"
    },
    {
      "cell_type": "code",
      "execution_count": 3,
      "metadata": {},
      "outputs": [],
      "source": [
        "mf?"
      ],
      "id": "bf17233a-8ece-4226-bda5-9e1a476b9809"
    },
    {
      "cell_type": "code",
      "execution_count": 4,
      "metadata": {},
      "outputs": [],
      "source": [
        "type(mf)"
      ],
      "id": "8b5cf21f-4086-47e3-8d92-da1bdc71835e"
    },
    {
      "cell_type": "markdown",
      "metadata": {},
      "source": [
        "-   mf의 타입은 모듈이라고 나옴, 현재 단계에서는 무엇인지 알기 어려움..\n",
        "\n",
        "`-` Docstring의 내용을 채울 수 있을까?\n",
        "\n",
        "준비1: myfuns.py의 파일을 수정한다. (큰따옴표 ““” 세개)\n",
        "\n",
        "준비2: “00”-\\>커널재시작"
      ],
      "id": "b011be81-d1a8-4ef9-919a-da20c35abff6"
    },
    {
      "cell_type": "code",
      "execution_count": 1,
      "metadata": {},
      "outputs": [],
      "source": [
        "import myfuns as mf"
      ],
      "id": "ba102809-be18-4e26-ab80-94b497e4a974"
    },
    {
      "cell_type": "code",
      "execution_count": 2,
      "metadata": {},
      "outputs": [],
      "source": [
        "mf?"
      ],
      "id": "b48ede7f-7071-4f35-97ed-04cc3015a52b"
    },
    {
      "cell_type": "markdown",
      "metadata": {},
      "source": [
        "### 주의점\n",
        "\n",
        "`-` `myfuns.py`는 최초 한번만 import된다.\n",
        "\n",
        "준비: “00” -\\> 커널재시작"
      ],
      "id": "020daac5-773a-400f-8d7c-93c5cf68d748"
    },
    {
      "cell_type": "code",
      "execution_count": 1,
      "metadata": {},
      "outputs": [],
      "source": [
        "import myfuns"
      ],
      "id": "63cd2397-005d-4330-b6c2-29a0190b5e34"
    },
    {
      "cell_type": "code",
      "execution_count": 2,
      "metadata": {},
      "outputs": [],
      "source": [
        "myfuns.vec2_add([1,2],[3,4])"
      ],
      "id": "c4a8d4c6-d8a9-4129-ad40-d9297c3586ff"
    },
    {
      "cell_type": "markdown",
      "metadata": {},
      "source": [
        "`myfuns.py`파일을 열고 함수를 바꾸자.\n",
        "\n",
        "``` python\n",
        "\"\"\"이것은 길이가 2인 벡터이 합 혹은 차를 구하는 모듈입니다.\"\"\"\n",
        "\n",
        "def vec2_add(a,b):\n",
        "    print(\"이것은 myfuns.py에 정의된 함수입니다.\")\n",
        "    return [a[0]+b[0], a[1]+b[1]]\n",
        "\n",
        "\n",
        "def vec2_sub(a,b):\n",
        "    return [a[0]-b[0], a[1]-b[1]]\n",
        "```\n",
        "\n",
        "다시 myfuns를 로드하고 위를 실행하여 보자"
      ],
      "id": "e338846f-d27d-4cde-8a03-e9289fa1f2f6"
    },
    {
      "cell_type": "code",
      "execution_count": 3,
      "metadata": {},
      "outputs": [],
      "source": [
        "import myfuns"
      ],
      "id": "94cafdcf-0f08-4ef5-9dfc-09aa6a313c1c"
    },
    {
      "cell_type": "code",
      "execution_count": 4,
      "metadata": {},
      "outputs": [],
      "source": [
        "myfuns.vec2_add([1,2],[3,4])"
      ],
      "id": "d573ad51-3643-413a-8939-bc24b6d03ad3"
    },
    {
      "cell_type": "markdown",
      "metadata": {},
      "source": [
        "바뀐내용이 적용되지 않는다.\n",
        "\n",
        "커널을 다시 시작하고 임포트해보자.\n",
        "\n",
        "“00” -\\> 커널재시작"
      ],
      "id": "5660e8e7-c61c-4562-bbff-483dba3a24b9"
    },
    {
      "cell_type": "code",
      "execution_count": 1,
      "metadata": {},
      "outputs": [],
      "source": [
        "import myfuns"
      ],
      "id": "fa687e02-138a-4628-9f3e-2468e091dcb9"
    },
    {
      "cell_type": "code",
      "execution_count": 2,
      "metadata": {},
      "outputs": [
        {
          "output_type": "stream",
          "name": "stdout",
          "text": [
            "이것은 myfuns.py에 정의된 함수입니다."
          ]
        }
      ],
      "source": [
        "myfuns.vec2_add([1,2],[3,4])"
      ],
      "id": "9200d15e-64ce-4575-8d95-a1d20dd574e4"
    },
    {
      "cell_type": "markdown",
      "metadata": {},
      "source": [
        "`-` myfuns.py는 주피너노트북파일과 같은 폴더내에 존재해야 한다.\n",
        "\n",
        "준비1: “00”-\\>커널재시작\n",
        "\n",
        "준비2: myfuns.py 을 복사하여 다른 폴더로 이동. 예를들면 IP0403폴더를\n",
        "만들고 그 폴더안에 myfuns2.py파일을 만들자."
      ],
      "id": "61ab5909-c6f1-4051-bae3-46d9f1bdc92f"
    },
    {
      "cell_type": "code",
      "execution_count": 3,
      "metadata": {},
      "outputs": [],
      "source": [
        "import myfuns  # 주피터노트북과 같은 폴더에 있는 myfuns는 잘 로드되지만"
      ],
      "id": "31f792c9-acbb-4f86-90a9-7963c23a71fe"
    },
    {
      "cell_type": "code",
      "execution_count": 4,
      "metadata": {},
      "outputs": [],
      "source": [
        "import myfuns2 # 주피터노트북과 다른 폴더에 있는 myfuns2는 그렇지 않다."
      ],
      "id": "219ff3d0-4242-47e7-830a-c26ef2621e47"
    },
    {
      "cell_type": "markdown",
      "metadata": {},
      "source": [
        "`-` IP0403 폴더에 있는 myfuns2.py를 실행하기 위해서는 아래와 같이 할 수\n",
        "있다.\n",
        "\n",
        "준비: “00” -\\> 커널재시작"
      ],
      "id": "6b8c9352-a787-4932-9c49-044b689ad2ad"
    },
    {
      "cell_type": "code",
      "execution_count": 1,
      "metadata": {},
      "outputs": [],
      "source": [
        "from IP0403 import myfuns2"
      ],
      "id": "d71b4c1c-0017-4cfb-8f8d-9e7a2e69e5ea"
    },
    {
      "cell_type": "code",
      "execution_count": 2,
      "metadata": {},
      "outputs": [
        {
          "output_type": "stream",
          "name": "stdout",
          "text": [
            "이것은 myfuns2.py에 정의된 함수입니다."
          ]
        }
      ],
      "source": [
        "myfuns2.vec2_add([1,2],[3,4])"
      ],
      "id": "2497afa2-e231-48e1-81c9-35921560cb24"
    },
    {
      "cell_type": "markdown",
      "metadata": {},
      "source": [
        "`-` 아래도 가능하다.\n",
        "\n",
        "준비: “00” -\\> 커널재시작"
      ],
      "id": "f5385fa4-8521-4b19-8cd0-a3f4f00fcc66"
    },
    {
      "cell_type": "code",
      "execution_count": 1,
      "metadata": {},
      "outputs": [],
      "source": [
        "from IP0403.myfuns2 import vec2_add as add"
      ],
      "id": "017e43f9-d623-4b6b-9ba6-8bc447942309"
    },
    {
      "cell_type": "code",
      "execution_count": 2,
      "metadata": {},
      "outputs": [
        {
          "output_type": "stream",
          "name": "stdout",
          "text": [
            "이것은 myfuns2.py에 정의된 함수입니다."
          ]
        }
      ],
      "source": [
        "add([1,2],[3,4])"
      ],
      "id": "7a47d9a2-df48-4228-9968-664077920384"
    },
    {
      "cell_type": "markdown",
      "metadata": {},
      "source": [
        "참고로 아래는 모두 정의되지 않음"
      ],
      "id": "6b3fb36f-5730-45b1-a958-f39b8064cbbb"
    },
    {
      "cell_type": "code",
      "execution_count": 3,
      "metadata": {},
      "outputs": [],
      "source": [
        "IP0403.myfuns2.vec2_add([1,2],[3,4])"
      ],
      "id": "a8aae434-7e78-4563-b971-50a157a6626f"
    },
    {
      "cell_type": "code",
      "execution_count": 4,
      "metadata": {},
      "outputs": [],
      "source": [
        "myfuns2.vec2_add([1,2],[3,4])"
      ],
      "id": "c1a1a3a9-2431-4962-8ce7-33878711594b"
    },
    {
      "cell_type": "code",
      "execution_count": 5,
      "metadata": {},
      "outputs": [],
      "source": [
        "vec2_add([1,2],[3,4])"
      ],
      "id": "c42b2162-4f4b-45ad-a4c1-cc0910e34bfe"
    },
    {
      "cell_type": "markdown",
      "metadata": {},
      "source": [
        "### import 고급\n",
        "\n",
        "#### 폴더와 함께 사용할시\n",
        "\n",
        "`-` 언뜻 생각하면 아래가 가능할 것 같다.\n",
        "\n",
        "``` python\n",
        "import IP0403\n",
        "IP0403.myfuns.vec2_add([1,2],[3,4])\n",
        "```\n",
        "\n",
        "`-` 하지만 불가능\n",
        "\n",
        "준비: “00” -\\> 커널재시작"
      ],
      "id": "f69032b8-2b78-4553-8b0c-3f0fdf77fe14"
    },
    {
      "cell_type": "code",
      "execution_count": 1,
      "metadata": {},
      "outputs": [],
      "source": [
        "import IP0403"
      ],
      "id": "33e3b0df-83b8-4aca-a621-14cd1097f477"
    },
    {
      "cell_type": "markdown",
      "metadata": {},
      "source": [
        "여기까지는 됨.."
      ],
      "id": "6283f192-b393-45b2-8e69-716e02da712c"
    },
    {
      "cell_type": "code",
      "execution_count": 2,
      "metadata": {},
      "outputs": [],
      "source": [
        "IP0403.myfuns2.add([1,2],[3,4])"
      ],
      "id": "bcfdfd8b-884b-4551-a470-99f302375005"
    },
    {
      "cell_type": "markdown",
      "metadata": {},
      "source": [
        "-   여기서 불가능하다.\n",
        "\n",
        "`-` **(암기)** IP0403 폴더안에 `__init__.py`라는 파일을 만들고 내용에\n",
        "아래와 같이 쓰면 가능하다.\n",
        "\n",
        "``` python\n",
        "# ./IP0403/__init__.py\n",
        "form. import myfuns2\n",
        "```\n",
        "\n",
        "준비1: 위의 지침을 따른다.\n",
        "\n",
        "준비2: “00” -\\> 커널재시작"
      ],
      "id": "c7cf4055-0fec-4d6c-a058-f3829ac45464"
    },
    {
      "cell_type": "code",
      "execution_count": 1,
      "metadata": {},
      "outputs": [],
      "source": [
        "import IP0403"
      ],
      "id": "1ea25ee0-1bc6-4b76-bcc9-53d99a2be228"
    },
    {
      "cell_type": "code",
      "execution_count": 4,
      "metadata": {},
      "outputs": [
        {
          "output_type": "stream",
          "name": "stdout",
          "text": [
            "이것은 myfuns2.py에 정의된 함수입니다."
          ]
        }
      ],
      "source": [
        "IP0403.myfuns2.vec2_add([1,2],[3,4])  "
      ],
      "id": "bcda4e74-f11b-49c2-8e8e-3f3f29a9bff8"
    },
    {
      "cell_type": "markdown",
      "metadata": {},
      "source": [
        "**컴퓨터 상식**\n",
        "\n",
        "-   `.` : 현재폴더를 의미\n",
        "\n",
        "-   `..` : 상위폴더를 의미\n",
        "\n",
        "-   `./myfuns.py` : 현재폴더안에 있는 myfuns.py를 의미\n",
        "\n",
        "-   `./IP0403/myfuns2.py` : 현재폴더안에 IP0403폴더안의 myfuns2.py를\n",
        "    의미\n",
        "\n",
        "-   `../myfuns.py` : 현재폴더보다 한단계 상위폴더에 있는 myfuns.py를\n",
        "    의미\n",
        "\n",
        "-   `cd ./IP0403` : 현재 폴더안에 있는 IP0403폴더로 이동해라.\n",
        "    (`cd IP0403`으로 줄여쓸 수 있음)\n",
        "\n",
        "-   `cd ..` 현재 폴더보다 한단계 상위폴더로 이동해라.\n",
        "\n",
        "따라서 `from . import myfuns2`는 현재 폴더에서 myfuns2를 찾아서 임포트\n",
        "하라는 의미로 해석가능\n",
        "\n",
        "`-` 의미상으로 보면 아래가 실해아능할 것 같은데 불가능하다."
      ],
      "id": "50f971ea-5f9a-4644-b799-9d92374ed1b0"
    },
    {
      "cell_type": "code",
      "execution_count": 5,
      "metadata": {},
      "outputs": [],
      "source": [
        "# import myfuns.py\n",
        "from . import myfuns"
      ],
      "id": "67e9e170-0045-44be-a870-566bc4ff84b2"
    },
    {
      "cell_type": "markdown",
      "metadata": {},
      "source": [
        "### slite-packages (실습금지)\n",
        "\n",
        "https://guebin.github.io/IP2022/2022/04/03/(5%EC%A3%BC%EC%B0%A8)-4%EC%9B%942%EC%9D%BC.html#site-packages-(%EC%8B%A4%EC%8A%B5%EA%B8%88%EC%A7%80)\n",
        "\n",
        "### 모듈, 패키지, 라이브러리?\n",
        "\n",
        "`-` 모듈의 개념은 아까 살펴본 것과 같다. (import를 하여 생기게 되는\n",
        "오브젝트)\n",
        "\n",
        "`-` 교수님들: 모듈이 모이면 패키지라고 부른다. 그리고 라이브러리는\n",
        "패키지보다 큰 개념이다.\n",
        "\n",
        "`-`그런데 구분이 모호하다."
      ],
      "id": "99bd4b35-5069-4b93-a6e7-5d79aee60fe3"
    },
    {
      "cell_type": "code",
      "execution_count": 2,
      "metadata": {},
      "outputs": [],
      "source": [
        "import numpy as np   # 오잉 왜 안되지... "
      ],
      "id": "1cdc3fda-416f-40e8-b7b4-02dfbfc75830"
    },
    {
      "cell_type": "code",
      "execution_count": 3,
      "metadata": {},
      "outputs": [],
      "source": [
        "type(np)"
      ],
      "id": "f83b57ad-39ba-4095-b9ed-baa2e8d1617a"
    },
    {
      "cell_type": "markdown",
      "metadata": {},
      "source": [
        "`-` python 에서 numpy의 type은 모듈\n",
        "\n",
        "`-` 그런데 numpy package라고 검색하면 검색이 된다.\n",
        "\n",
        "`-` 심지어 numpy library 라고 해도 검색가능\n",
        "\n",
        "`-` 교수님 생각: 넘파이모듈, 넘파이패키지, 넘파이라이브러리 다 맞는 말임\n",
        "\n",
        "(숙제)"
      ],
      "id": "1ead5535-b1bc-4fc8-8cbf-928caf05abf5"
    },
    {
      "cell_type": "code",
      "execution_count": 1,
      "metadata": {},
      "outputs": [],
      "source": [
        "import myfuns"
      ],
      "id": "a9250cd9-c607-4464-8851-ae5f14a6ec63"
    },
    {
      "cell_type": "code",
      "execution_count": 2,
      "metadata": {},
      "outputs": [
        {
          "output_type": "stream",
          "name": "stdout",
          "text": [
            "이것은 myfuns.py에 정의된 함수입니다."
          ]
        }
      ],
      "source": [
        "myfuns.vec2_add([1,2],[5,6])"
      ],
      "id": "04cd63c4-6e2b-4300-9a01-9ec4870cac73"
    },
    {
      "cell_type": "code",
      "execution_count": 3,
      "metadata": {},
      "outputs": [],
      "source": [
        "myfuns?"
      ],
      "id": "c6365b47-436e-44af-a9d9-fdc3677d09f6"
    }
  ],
  "nbformat": 4,
  "nbformat_minor": 5,
  "metadata": {
    "kernelspec": {
      "name": "python3",
      "display_name": "Python 3",
      "language": "python"
    },
    "language_info": {
      "name": "python",
      "codemirror_mode": {
        "name": "ipython",
        "version": "3"
      },
      "file_extension": ".py",
      "mimetype": "text/x-python",
      "nbconvert_exporter": "python",
      "pygments_lexer": "ipython3",
      "version": "3.7.16"
    },
    "toc": {
      "base_numbering": "1",
      "nav_menu": {},
      "number_sections": true,
      "sideBar": true,
      "skip_h1_title": false,
      "title_cell": "Table of Contents",
      "title_sidebar": "Contents",
      "toc_cell": false,
      "toc_position": {},
      "toc_section_display": true,
      "toc_window_display": false
    }
  }
}