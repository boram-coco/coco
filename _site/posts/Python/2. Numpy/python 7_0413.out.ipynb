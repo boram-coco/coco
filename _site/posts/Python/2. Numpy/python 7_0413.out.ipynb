{
  "cells": [
    {
      "cell_type": "markdown",
      "metadata": {},
      "source": [
        "# 파이썬 (0413) 7주차\n",
        "\n",
        "김보람  \n",
        "2022-04-13"
      ],
      "id": "8c6453b5-d715-424c-bf20-246d77f708e8"
    },
    {
      "cell_type": "code",
      "execution_count": 2,
      "metadata": {},
      "outputs": [],
      "source": [
        "import numpy as np"
      ],
      "id": "ab285960-da51-40a6-bb53-00d0d3e192c1"
    },
    {
      "cell_type": "markdown",
      "metadata": {},
      "source": [
        "## numpy공부 5단계 : 랜덤모듈\n",
        "\n",
        "### np.random.rand()\n",
        "\n",
        "`-` 0~1사이에서 10개의 난수 생성"
      ],
      "id": "d24ba3ad-9a03-45d5-b4c9-aee996264817"
    },
    {
      "cell_type": "code",
      "execution_count": 3,
      "metadata": {},
      "outputs": [],
      "source": [
        "np.random.rand(10)"
      ],
      "id": "784c06fe-a861-45f6-b60b-179521dfdc70"
    },
    {
      "cell_type": "markdown",
      "metadata": {},
      "source": [
        "`-` 0~2사이에서 10개의 난수 생성"
      ],
      "id": "e4fc2a0e-f769-4148-9b30-d272672d9c32"
    },
    {
      "cell_type": "code",
      "execution_count": 4,
      "metadata": {},
      "outputs": [],
      "source": [
        "np.random.rand(10)*2"
      ],
      "id": "8046baf5-6eff-4105-8518-04396e08aab8"
    },
    {
      "cell_type": "markdown",
      "metadata": {},
      "source": [
        "`-` 1~2사이에서 10개의 난수 생성"
      ],
      "id": "2cd11fad-46a5-4d6b-92c7-fbe19c790f73"
    },
    {
      "cell_type": "code",
      "execution_count": 6,
      "metadata": {},
      "outputs": [],
      "source": [
        "np.random.rand(10)+1"
      ],
      "id": "d0b85229-1557-4dbe-9308-31a496ba36a6"
    },
    {
      "cell_type": "markdown",
      "metadata": {},
      "source": [
        "`-` 1~3사이에서 10개의 난수 생성"
      ],
      "id": "528efa43-2e04-4284-a84b-7dc78e88f192"
    },
    {
      "cell_type": "code",
      "execution_count": 8,
      "metadata": {},
      "outputs": [],
      "source": [
        "np.random.rand(10)*2+1    # 1~3"
      ],
      "id": "175f798a-e0a1-4bf4-86a2-45426fbac56c"
    },
    {
      "cell_type": "markdown",
      "metadata": {},
      "source": [
        "### np.random.randn()\n",
        "\n",
        "`-` N(0,1) 에서 10개 추출"
      ],
      "id": "365dc3d8-6369-4338-8bb8-980e7952d8da"
    },
    {
      "cell_type": "code",
      "execution_count": 10,
      "metadata": {},
      "outputs": [],
      "source": [
        "np.random.randn(10) # 표준정규분포에서 10개의 샘플 추출"
      ],
      "id": "6b2a2651-7105-4955-8c7a-5aa1f0b4d084"
    },
    {
      "cell_type": "markdown",
      "metadata": {},
      "source": [
        "`-` N(1,1)에서 10개 추출"
      ],
      "id": "6a88b12c-6df1-40e8-b10c-539901189744"
    },
    {
      "cell_type": "code",
      "execution_count": 11,
      "metadata": {},
      "outputs": [],
      "source": [
        "np.random.randn(10)+1"
      ],
      "id": "77625585-9352-4666-ac81-2f8ba4e2d632"
    },
    {
      "cell_type": "markdown",
      "metadata": {},
      "source": [
        "`-` N(0,4)에서 10개 추출 (평균이 0이고 분산이 4인 분포)"
      ],
      "id": "fa300333-424b-4b6d-a7dd-0111b028f8e3"
    },
    {
      "cell_type": "code",
      "execution_count": 13,
      "metadata": {},
      "outputs": [],
      "source": [
        "np.random.randn(10)*2"
      ],
      "id": "0d7ac935-6ebb-4112-b002-146110220a2a"
    },
    {
      "cell_type": "markdown",
      "metadata": {},
      "source": [
        "`-` N(3,4)에서 10개 추출"
      ],
      "id": "50808cff-05e8-4fa1-bfe5-ecd85bcc23ef"
    },
    {
      "cell_type": "code",
      "execution_count": 14,
      "metadata": {},
      "outputs": [],
      "source": [
        "np.random.randn(10)*2+3"
      ],
      "id": "236efc10-6c00-47d3-a098-d880dd1bb984"
    },
    {
      "cell_type": "markdown",
      "metadata": {},
      "source": [
        "### np.random.randint()\n",
        "\n",
        "`-` \\[0,7)의 범위에서 하나의 정수를 랜덤으로 생성"
      ],
      "id": "c927471b-1cfa-4c16-921d-9adfd602f25e"
    },
    {
      "cell_type": "code",
      "execution_count": 24,
      "metadata": {},
      "outputs": [],
      "source": [
        "np.random.randint(7)   #[0,7)의 범위에서 하나의 정수 생성"
      ],
      "id": "a25c7aca-7c07-4e86-a3c7-cf95ab78313b"
    },
    {
      "cell_type": "markdown",
      "metadata": {},
      "source": [
        "`-` \\[0,7)의 범위에서 20개의 정수를 랜덤으로 생성"
      ],
      "id": "6fdad643-82f3-48c8-87d8-d46de7bc502e"
    },
    {
      "cell_type": "code",
      "execution_count": 25,
      "metadata": {},
      "outputs": [],
      "source": [
        "np.random.randint(7,size=(20,))  # [0,7)의 범위에서 20개의 정수 생성"
      ],
      "id": "070f58c3-1608-4a98-a6b8-00a7f5512277"
    },
    {
      "cell_type": "markdown",
      "metadata": {},
      "source": [
        "`-` \\[0,7)의 범우에서 (5,5) shape으로 정수를 랜덤으로 생성"
      ],
      "id": "746a745a-416a-4168-ab24-4db44c43ac2e"
    },
    {
      "cell_type": "code",
      "execution_count": 29,
      "metadata": {},
      "outputs": [],
      "source": [
        "np.random.randint(7,size=(5,5))  "
      ],
      "id": "3d6df460-1522-4b8a-aa29-254c5d58b922"
    },
    {
      "cell_type": "markdown",
      "metadata": {},
      "source": [
        "`-` 위와 같은 코드를 아래와 같이 구현가능"
      ],
      "id": "5aa0a8e3-e6f0-4c58-afaf-df81e9942ffd"
    },
    {
      "cell_type": "code",
      "execution_count": 27,
      "metadata": {},
      "outputs": [],
      "source": [
        "np.random.randint(low=7,size=(2,2))  # [0,7)의 범위에서 20개의 정수 생성"
      ],
      "id": "758958de-6763-4be5-9646-1e04ea651192"
    },
    {
      "cell_type": "markdown",
      "metadata": {},
      "source": [
        "`-` \\[10,20)의 범위에서 (5,5) shape 정수를 랜덤으로 생성"
      ],
      "id": "6a6fc829-2ce5-4dbd-9be4-1744bf1c84f7"
    },
    {
      "cell_type": "code",
      "execution_count": 28,
      "metadata": {},
      "outputs": [],
      "source": [
        "np.random.randint(low=10, high=20,size=(5,5))  "
      ],
      "id": "b81e334a-4c86-48f7-b017-32e385bccd81"
    },
    {
      "cell_type": "markdown",
      "metadata": {},
      "source": [
        "`-` 의문: `np.random.randint(low=7,size=(5,5))` 가 좀 이상하다. 사실\n",
        "`np.random.randint(high=7,size=(5,5))`가 되어야 맞지 않는가?\n",
        "\n",
        "-\\> 저도 그렇게 생각하긴 하는데요, 구현이 이렇게 되어있습니다. 도움말\n",
        "확인!\n",
        "\n",
        "    Return random integers from the \"discrete uniform\" distribution of the specified dtype in the \"half-open\" interval [`low`, `high`). If `high` is None (the default), then results are from [0, `low`).\n",
        "\n",
        "### np.random.choice()\n",
        "\n",
        "`-` ver1"
      ],
      "id": "55c69d7a-b892-4cd8-8746-898add3e15e3"
    },
    {
      "cell_type": "code",
      "execution_count": 33,
      "metadata": {},
      "outputs": [],
      "source": [
        "np.random.choice(5,20)  # [0,5)에서 20개를 뽑음, 중복허용"
      ],
      "id": "2176d5c6-1e34-4b17-b61d-ce293b814830"
    },
    {
      "cell_type": "code",
      "execution_count": 32,
      "metadata": {},
      "outputs": [],
      "source": [
        "np.random.randint(5, size=(20,))"
      ],
      "id": "e64ae587-13f2-47dd-900a-fd1990495ebb"
    },
    {
      "cell_type": "markdown",
      "metadata": {},
      "source": [
        "`-` ver2"
      ],
      "id": "86785489-89f5-4abd-99ed-701f7b3ab1a8"
    },
    {
      "cell_type": "code",
      "execution_count": 36,
      "metadata": {},
      "outputs": [],
      "source": [
        "np.random.choice([0,1,2,3],20) # [0,1,2,3] 에서 20개를 뽑음 , 중복허용"
      ],
      "id": "82db642a-a97c-44d1-90d1-579dd827d50a"
    },
    {
      "cell_type": "code",
      "execution_count": 37,
      "metadata": {},
      "outputs": [],
      "source": [
        "np.random.choice([\"apple\",\"orange\",\"banana\"],20)"
      ],
      "id": "4cccfcab-4242-47d6-ae6d-5559fa0d6e0b"
    },
    {
      "cell_type": "code",
      "execution_count": 38,
      "metadata": {},
      "outputs": [],
      "source": [
        "np.random.choice([\"apple\",\"orange\",\"banana\"],2,replace=False) # 중복허용 X "
      ],
      "id": "7cd3ea57-a049-4998-8170-dd0b31cccb53"
    },
    {
      "cell_type": "markdown",
      "metadata": {},
      "source": [
        "### 통계분포"
      ],
      "id": "2adb011e-8098-42dd-9133-8420c21d691b"
    },
    {
      "cell_type": "code",
      "execution_count": 40,
      "metadata": {},
      "outputs": [],
      "source": [
        "np.random.binomial(n=10, p=0.1, size=(5,)) #X1, ..., X5 ~ B(10,0.2)"
      ],
      "id": "34e429b3-6bf8-406e-955b-785d444768cf"
    },
    {
      "cell_type": "code",
      "execution_count": 41,
      "metadata": {},
      "outputs": [],
      "source": [
        "np.random.normal(loc=10,scale=2,size=(5,)) # X1, ..., X5 ~ N(10,4) "
      ],
      "id": "257fcfd3-38a8-4779-aaba-dd6a62d3b89d"
    },
    {
      "cell_type": "markdown",
      "metadata": {},
      "source": [
        "-   `np.radom.randn(5)*2 + 10`와 같은코드"
      ],
      "id": "ce014123-947b-4c5c-8f3f-610ce42d59f7"
    },
    {
      "cell_type": "code",
      "execution_count": 42,
      "metadata": {},
      "outputs": [],
      "source": [
        "np.random.uniform(low=2,high=4,size=(5,)) # X1, ..., X5 ~ U(2,4)  #균일분포"
      ],
      "id": "49fd8a1c-4da7-49dc-99a2-2cd2978f5b86"
    },
    {
      "cell_type": "markdown",
      "metadata": {},
      "source": [
        "-   `np.random.rand(5)*2+2`와 같은 코드"
      ],
      "id": "bed74060-05a0-499f-8084-f6c9829030bb"
    },
    {
      "cell_type": "code",
      "execution_count": 43,
      "metadata": {},
      "outputs": [],
      "source": [
        "np.random.poisson(lam=5,size=(5,)) # X1,...,X5 ~ Poi(5) "
      ],
      "id": "c9479a6c-3989-4af5-a8e3-276c2750723d"
    },
    {
      "cell_type": "markdown",
      "metadata": {},
      "source": [
        "## nupmy공부 6단계: 기타 유용한 기본기능들\n",
        "\n",
        "### np.where, np.argwhere"
      ],
      "id": "b31a309e-702c-41a5-9a76-ada522901bbc"
    },
    {
      "cell_type": "code",
      "execution_count": 44,
      "metadata": {},
      "outputs": [],
      "source": [
        "a=np.array([0,0,0,1,0])\n",
        "a"
      ],
      "id": "7463b2a4-ab76-4ec1-acd1-a850e9d18113"
    },
    {
      "cell_type": "code",
      "execution_count": 45,
      "metadata": {},
      "outputs": [],
      "source": [
        "np.where(a==1) # 조건 a==1을 만족하는 인덱스를 출력하라"
      ],
      "id": "0b5935eb-856e-4384-b7f1-6a91df8c4200"
    },
    {
      "cell_type": "code",
      "execution_count": 46,
      "metadata": {},
      "outputs": [],
      "source": [
        "np.argwhere(a==1)"
      ],
      "id": "583ff609-095f-4c65-8a54-61e8edef10e8"
    },
    {
      "cell_type": "code",
      "execution_count": 47,
      "metadata": {},
      "outputs": [],
      "source": [
        "np.argwhere(a==0)"
      ],
      "id": "60dee7fc-db2c-43d7-8adc-9d68ddb11212"
    },
    {
      "cell_type": "markdown",
      "metadata": {},
      "source": [
        "`-` 2차원"
      ],
      "id": "293d35f2-6974-4f9e-a6f6-c001c7092edd"
    },
    {
      "cell_type": "code",
      "execution_count": 51,
      "metadata": {},
      "outputs": [],
      "source": [
        "np.random.seed(43052)\n",
        "a=np.random.randn(12).reshape(3,4)\n",
        "a"
      ],
      "id": "00bb08c0-c27f-41b7-a653-32ef47abc1c4"
    },
    {
      "cell_type": "code",
      "execution_count": 53,
      "metadata": {},
      "outputs": [],
      "source": [
        "np.where(a<0) # 조건을 만족하는 인덱스가 (1,2), (1,3), (2,0), (2,1), (2,3) 이라는 의미"
      ],
      "id": "ee0fc9e1-8721-489d-b950-92554247cd6c"
    },
    {
      "cell_type": "code",
      "execution_count": 55,
      "metadata": {},
      "outputs": [],
      "source": [
        "np.argwhere(a<0)  # 조건을 만족하는 인덱스가 (1,2), (1,3), (2,0), (2,1), (2,3) 이라는 의미"
      ],
      "id": "4e84522a-9bf3-4fd3-ab04-de81c221a6d5"
    },
    {
      "cell_type": "code",
      "execution_count": 58,
      "metadata": {},
      "outputs": [],
      "source": [
        "a[np.where(a<0)]  # 조건을 만족하는 인덱스가 모두 출력=> 1차원 array로 출력"
      ],
      "id": "287bb219-f935-4691-a96c-c9e15a515597"
    },
    {
      "cell_type": "code",
      "execution_count": 59,
      "metadata": {},
      "outputs": [],
      "source": [
        "a[np.argwhere(a<0)]  # 출력불가능"
      ],
      "id": "cf42331d-835f-4eff-8e53-34ffa7e7e4f3"
    },
    {
      "cell_type": "code",
      "execution_count": 60,
      "metadata": {},
      "outputs": [],
      "source": [
        "a[np.argwhere(a<0)[0][0],np.argwhere(a<0)[0][1]] # 어거지로 출력할수는 있음 "
      ],
      "id": "40824947-89c0-4d97-9942-55e1c8ae363b"
    },
    {
      "cell_type": "markdown",
      "metadata": {},
      "source": [
        "`-` np.where의 특수기능"
      ],
      "id": "5f5ad876-d7e2-402b-882e-585401821ee2"
    },
    {
      "cell_type": "code",
      "execution_count": 61,
      "metadata": {},
      "outputs": [],
      "source": [
        "np.random.seed(43052)\n",
        "a=np.random.randn(12).reshape(3,4)\n",
        "a"
      ],
      "id": "bd433616-e52e-42de-837d-87767ab5bd5f"
    },
    {
      "cell_type": "code",
      "execution_count": 63,
      "metadata": {},
      "outputs": [],
      "source": [
        "np.where(a<0,0,a)   #a<0을 체크=> 조건에 맞으면 0, 조건에 안맞으면 a 출력"
      ],
      "id": "cf74d872-8a6b-4937-a9e4-cafe7f79b092"
    },
    {
      "cell_type": "code",
      "execution_count": 65,
      "metadata": {},
      "outputs": [],
      "source": [
        "np.where(a<0,0,1) # #a<0을 체크=> 조건에 맞으면 0, 조건에 안맞으면 1 출력"
      ],
      "id": "c4abe000-cf8b-4842-9522-d5ac2604fb77"
    },
    {
      "cell_type": "markdown",
      "metadata": {},
      "source": [
        "`-` 요약 - np.where : 인덱스의 좌표를 읽는 가독성은 떨어짐. 그러나\n",
        "조건에 맞는 원소를 출력하거나 조건에 맞는 특수기능을 처리하는 목적으로\n",
        "좋은 함수 - np.argwhere : 인덱스의 좌표를 읽는 가독성은 좋은 편임.\n",
        "그러나 조건에 맞는 원소를 출력하거나 처리하는 기능은 떨어짐\n",
        "\n",
        "### 인덱싱고급\n",
        "\n",
        "`-` 원래 a는 2d array"
      ],
      "id": "8bf4b3d0-defb-4b51-ac84-fa6fdee8f280"
    },
    {
      "cell_type": "code",
      "execution_count": 66,
      "metadata": {},
      "outputs": [],
      "source": [
        "a=np.arange(12).reshape(3,4)\n",
        "a"
      ],
      "id": "c241d534-022d-46f0-8ee1-c344f00e6f28"
    },
    {
      "cell_type": "markdown",
      "metadata": {},
      "source": [
        "`-` 경우 1: 인덱싱 결과가 1d array로 나올 수 있음"
      ],
      "id": "24014fdb-c31f-417d-92a8-899c233a7d39"
    },
    {
      "cell_type": "code",
      "execution_count": 68,
      "metadata": {},
      "outputs": [],
      "source": [
        "a[0,:] # 인덱싱의 결과 축의 갯수가 바뀐다. 2d array -> 1d array"
      ],
      "id": "2bf1fbef-6e7b-46d1-b3c8-a439ab63e4ab"
    },
    {
      "cell_type": "markdown",
      "metadata": {},
      "source": [
        "`-` 경우2: 인덱싱 결과가 2d array로 나올 수 있음"
      ],
      "id": "e6aacb78-494e-46d5-830a-61be5f234661"
    },
    {
      "cell_type": "code",
      "execution_count": 74,
      "metadata": {},
      "outputs": [],
      "source": [
        "a[[0,1],:] # 이것은 축의 숫자가 유지됨 2d array-> 2d array"
      ],
      "id": "d105d9af-dbbb-441f-a99d-4d5fda90a8be"
    },
    {
      "cell_type": "markdown",
      "metadata": {},
      "source": [
        "`-` 경우1의 상황에서도 축의 갯수를 유지하면서 인덱싱하려면?"
      ],
      "id": "c586ccf8-1620-47da-a8a8-e0a514302398"
    },
    {
      "cell_type": "code",
      "execution_count": 71,
      "metadata": {},
      "outputs": [],
      "source": [
        "a[[0],:] # 인덱싱의 결과 축의 갯수가 유지된다. 2d array->2d array"
      ],
      "id": "045bf872-027c-4754-8bee-2f811ade6545"
    },
    {
      "cell_type": "markdown",
      "metadata": {},
      "source": [
        "`-` 미묘한 차이를 이해할 것"
      ],
      "id": "e0234e04-3c5b-4499-879d-1535ccb265b9"
    },
    {
      "cell_type": "code",
      "execution_count": 78,
      "metadata": {},
      "outputs": [],
      "source": [
        "a[:,0], a[:,[0]]"
      ],
      "id": "ae5cc829-0aaf-40bc-bad9-bf6ada657180"
    },
    {
      "cell_type": "markdown",
      "metadata": {},
      "source": [
        "### np.ix\\_\n",
        "\n",
        "`-` 아래의 인덱싱을 비교하자"
      ],
      "id": "63c80e3c-bae9-4a97-9e2e-5d31ac46539f"
    },
    {
      "cell_type": "code",
      "execution_count": 80,
      "metadata": {},
      "outputs": [],
      "source": [
        "a=np.arange(12).reshape(3,4)\n",
        "a"
      ],
      "id": "1be7df27-96b7-4da4-af15-5f937eb80c8c"
    },
    {
      "cell_type": "code",
      "execution_count": 81,
      "metadata": {},
      "outputs": [],
      "source": [
        "a[0:2,0:2]"
      ],
      "id": "ebd7cba4-bf5c-48e0-9428-6f9e50532330"
    },
    {
      "cell_type": "code",
      "execution_count": 82,
      "metadata": {},
      "outputs": [],
      "source": [
        "a[[0,1],0:2]"
      ],
      "id": "4a5ccfaa-8a6d-470b-b78b-ba8f844e005a"
    },
    {
      "cell_type": "code",
      "execution_count": 83,
      "metadata": {},
      "outputs": [],
      "source": [
        "a[0:2,[0,1]]"
      ],
      "id": "f98e13fd-1f1f-403f-b277-f00910377ab0"
    },
    {
      "cell_type": "markdown",
      "metadata": {},
      "source": [
        "`-` 언뜻 생각하면 위의 결과와 a\\[\\[0,1\\],\\[0,1\\]의 결과가 동일할 것\n",
        "같다."
      ],
      "id": "8aa07f11-e836-443a-accc-686ef3659f73"
    },
    {
      "cell_type": "code",
      "execution_count": 84,
      "metadata": {},
      "outputs": [],
      "source": [
        "a[[0,1],[0,1]]"
      ],
      "id": "198edc51-3eea-4bc1-bb9f-efd1dec3fd08"
    },
    {
      "cell_type": "markdown",
      "metadata": {},
      "source": [
        "-   실제로는 \\[a\\[0,0\\],a\\[1,1\\]\\]이 array로 나옴\n",
        "\n",
        "`-` 사실 np.where에서 이미 관찰하였음"
      ],
      "id": "741f1b8a-3990-49c8-bb7e-2c265708ef1d"
    },
    {
      "cell_type": "code",
      "execution_count": 85,
      "metadata": {},
      "outputs": [],
      "source": [
        "a"
      ],
      "id": "d41908f3-1717-475d-8a3d-93c56b1f6ea3"
    },
    {
      "cell_type": "code",
      "execution_count": 86,
      "metadata": {},
      "outputs": [],
      "source": [
        "np.where(a % 5 ==0)"
      ],
      "id": "8c56aefb-13c7-4663-9711-4caba76cf2ea"
    },
    {
      "cell_type": "code",
      "execution_count": 87,
      "metadata": {},
      "outputs": [],
      "source": [
        "a[np.where(a % 5 ==0)]"
      ],
      "id": "c7f20563-2ca5-4ffb-8bf2-3d9bb267c76a"
    },
    {
      "cell_type": "code",
      "execution_count": 88,
      "metadata": {},
      "outputs": [],
      "source": [
        "a[[0, 1, 2],[0, 1, 2]]"
      ],
      "id": "32321855-22df-4f31-aa4e-8b8cb0a059bd"
    },
    {
      "cell_type": "markdown",
      "metadata": {},
      "source": [
        "`-` a\\[\\[0,1\\],\\[0,1\\]\\]이 a\\[0:2,0:2\\]를 의미하게 하려면 아래와 같이\n",
        "하면 된다."
      ],
      "id": "d08d6035-0c24-4a3d-81a5-0c6582bf14ee"
    },
    {
      "cell_type": "code",
      "execution_count": 89,
      "metadata": {},
      "outputs": [],
      "source": [
        "a[np.ix_([0,1],[0,1])] # 유용해보이지만 생각보다 잘 쓰이는건 아님 "
      ],
      "id": "ddbde004-9345-4d04-9069-4780cda5b216"
    },
    {
      "cell_type": "markdown",
      "metadata": {},
      "source": [
        "(숙제)"
      ],
      "id": "122f8f69-ee36-4505-b62c-c6d301ce3353"
    },
    {
      "cell_type": "code",
      "execution_count": 90,
      "metadata": {},
      "outputs": [],
      "source": [
        "np.random.uniform(low=1.3,high=1.7,size=(10,))"
      ],
      "id": "b086610b-d7a9-4608-b108-2d4f7c9d63c7"
    },
    {
      "cell_type": "markdown",
      "metadata": {},
      "source": [
        "위와 같은코드를 np.random.rand()를 이용하여 구현하라."
      ],
      "id": "31e86efe-ac71-4dfe-8af6-b3feec1edffd"
    }
  ],
  "nbformat": 4,
  "nbformat_minor": 5,
  "metadata": {
    "kernelspec": {
      "name": "python3",
      "display_name": "Python 3",
      "language": "python"
    },
    "language_info": {
      "name": "python",
      "codemirror_mode": {
        "name": "ipython",
        "version": "3"
      },
      "file_extension": ".py",
      "mimetype": "text/x-python",
      "nbconvert_exporter": "python",
      "pygments_lexer": "ipython3",
      "version": "3.7.16"
    }
  }
}