{
  "cells": [
    {
      "cell_type": "markdown",
      "metadata": {},
      "source": [
        "# Summer Program: Python Programming \\_ Day1 Quiz\n",
        "\n",
        "김보람  \n",
        "2023-07-24\n",
        "\n",
        "# lesson 1\n",
        "\n",
        "## Quiz\n",
        "\n",
        "### 1"
      ],
      "id": "d16096b0-eb55-4482-8b87-129b0520d7bb"
    },
    {
      "cell_type": "code",
      "execution_count": 1,
      "metadata": {},
      "outputs": [],
      "source": [
        "a='Jeonbuk National University' "
      ],
      "id": "3c3308eb-8d3c-4f7c-b938-5a4eb4695d50"
    },
    {
      "cell_type": "code",
      "execution_count": 11,
      "metadata": {},
      "outputs": [],
      "source": [
        "a[-10:]"
      ],
      "id": "be69044c-e82a-4d9c-88b7-0541869a8e07"
    },
    {
      "cell_type": "markdown",
      "metadata": {},
      "source": [
        "### 2"
      ],
      "id": "ddf40ff5-b93b-4387-b057-414151f490ab"
    },
    {
      "cell_type": "code",
      "execution_count": 12,
      "metadata": {},
      "outputs": [],
      "source": [
        "a.lower()"
      ],
      "id": "815dd06d-22b3-4fbb-8e4a-69e12a10fae9"
    },
    {
      "cell_type": "markdown",
      "metadata": {},
      "source": [
        "### 3"
      ],
      "id": "f28dc408-2fbd-4bc5-b00b-9241b966b6ea"
    },
    {
      "cell_type": "code",
      "execution_count": 13,
      "metadata": {},
      "outputs": [],
      "source": [
        "'A'.isupper()"
      ],
      "id": "89b2951e-806a-4b6b-b3d1-1eb995a2e009"
    },
    {
      "cell_type": "code",
      "execution_count": 14,
      "metadata": {},
      "outputs": [],
      "source": [
        "'Aa'.isupper()"
      ],
      "id": "7d0eb6e9-51a5-415f-943a-3e71b6ab4225"
    },
    {
      "cell_type": "code",
      "execution_count": 15,
      "metadata": {},
      "outputs": [],
      "source": [
        "'aa'.isupper()"
      ],
      "id": "879577e8-53ee-44d8-9a68-e0a0db38da7b"
    },
    {
      "cell_type": "code",
      "execution_count": 16,
      "metadata": {},
      "outputs": [],
      "source": [
        "'aA'.isupper()"
      ],
      "id": "e3aeaecc-2d51-450c-9607-a26dea02bbf2"
    },
    {
      "cell_type": "markdown",
      "metadata": {},
      "source": [
        "-   문자열이 모두 대문자가 맞는지 확인\n",
        "\n",
        "### 4\n",
        "\n",
        "1.  ‘a’\\*2\n",
        "\n",
        "2.  ‘a’\\*‘2’\n",
        "\n",
        "3.  ‘a’+2\n",
        "\n",
        "4.  ‘a’+‘2’"
      ],
      "id": "7ddf8314-5066-493a-a278-147aaf13290c"
    },
    {
      "cell_type": "code",
      "execution_count": 17,
      "metadata": {},
      "outputs": [],
      "source": [
        "'a'*2"
      ],
      "id": "0dcf37ae-ad62-4ac5-b35f-bbd1a2017a6c"
    },
    {
      "cell_type": "code",
      "execution_count": 18,
      "metadata": {},
      "outputs": [],
      "source": [
        "'a'*'2'"
      ],
      "id": "361f9348-e0f1-4beb-8766-65d2445b70a7"
    },
    {
      "cell_type": "code",
      "execution_count": 19,
      "metadata": {},
      "outputs": [],
      "source": [
        "'a'+2"
      ],
      "id": "73fb6da0-b946-469a-b0e7-5c3095d9a7c2"
    },
    {
      "cell_type": "code",
      "execution_count": 20,
      "metadata": {},
      "outputs": [],
      "source": [
        "'a'+'2'"
      ],
      "id": "93863168-758a-4252-b3d7-434f0c805357"
    },
    {
      "cell_type": "markdown",
      "metadata": {},
      "source": [
        "### 5"
      ],
      "id": "e2eee7ee-28c1-4e5a-969a-0d287dd61cd1"
    },
    {
      "cell_type": "code",
      "execution_count": 21,
      "metadata": {},
      "outputs": [],
      "source": [
        "'제 이름은 {}입니다'.format('최규빈')"
      ],
      "id": "658fc039-8554-4ded-b6df-541301369470"
    },
    {
      "cell_type": "code",
      "execution_count": 22,
      "metadata": {},
      "outputs": [],
      "source": [
        "'제 이름은 {}이고 사는곳은 {}입니다.'.format('최규빈','전주')"
      ],
      "id": "8f1149ce-6908-41cc-880e-1ddbf418c297"
    },
    {
      "cell_type": "code",
      "execution_count": 23,
      "metadata": {},
      "outputs": [],
      "source": [
        "'제 이름은 {}이고 사는곳은 {}입니다.'.format('전주','김보람')"
      ],
      "id": "a270d16b-3410-4a2f-ac50-f32a71f55d7a"
    },
    {
      "cell_type": "markdown",
      "metadata": {},
      "source": [
        "-   뒤에 format을 순서에 맞춰서 써줘야 한다."
      ],
      "id": "70255bc5-4398-43a4-a037-a1158ec93721"
    },
    {
      "cell_type": "code",
      "execution_count": 24,
      "metadata": {},
      "outputs": [],
      "source": [
        "string = '전북대학교 학생엠티가 {}월{}일-{}월{}일 완주 곶감펜션에서 있다고 합니다. 자세한 일정 등은 다시 공지하겠습니다.' \n",
        "string.format(3,24,3,25)"
      ],
      "id": "e4247e62-69dd-49e7-aef0-7f82e91e6f70"
    },
    {
      "cell_type": "markdown",
      "metadata": {},
      "source": [
        "### 6"
      ],
      "id": "83db9c2b-7ad7-4239-a029-1dc2e19930e6"
    },
    {
      "cell_type": "code",
      "execution_count": 25,
      "metadata": {},
      "outputs": [],
      "source": [
        "'abcdefg'.replace('g','u')"
      ],
      "id": "696f5b1a-5440-4426-a71b-3b3de6d3da5f"
    },
    {
      "cell_type": "markdown",
      "metadata": {},
      "source": [
        "-   g를 u로 바꿔줌\n",
        "\n",
        "### 7"
      ],
      "id": "706384e7-6ab2-41a8-a0a4-90c9dcbc92e3"
    },
    {
      "cell_type": "code",
      "execution_count": 26,
      "metadata": {},
      "outputs": [],
      "source": [
        "'2023-03-22'.split('-')"
      ],
      "id": "1bb06a75-8cdb-4510-9c6f-98a2c4c04a0f"
    },
    {
      "cell_type": "markdown",
      "metadata": {},
      "source": [
        "`-`을 기준으로 나누어줌"
      ],
      "id": "25814b97-137e-420f-888e-603e32d80f8e"
    },
    {
      "cell_type": "code",
      "execution_count": 27,
      "metadata": {},
      "outputs": [],
      "source": [
        "'2023.03.22'.split('.')"
      ],
      "id": "1882dada-34ea-4a01-b924-070580a8bfc1"
    },
    {
      "cell_type": "markdown",
      "metadata": {},
      "source": [
        "### 8"
      ],
      "id": "aebf0b22-9c20-4807-8438-87d42f06e288"
    },
    {
      "cell_type": "code",
      "execution_count": 28,
      "metadata": {},
      "outputs": [],
      "source": [
        "'a' in 'abcd'"
      ],
      "id": "d31a120c-fc5f-427d-8974-47f73d4b4872"
    },
    {
      "cell_type": "markdown",
      "metadata": {},
      "source": [
        "-   ‘a’라는 문자가 ’abcd’ 안에 있는지 확인해주는 함수"
      ],
      "id": "62d6d7d2-e5f9-4429-a0e4-f9c9aadef7e5"
    },
    {
      "cell_type": "code",
      "execution_count": 29,
      "metadata": {},
      "outputs": [],
      "source": [
        "'b' in 'boram'"
      ],
      "id": "cb6596ac-7245-4e66-809d-ec921d69c633"
    },
    {
      "cell_type": "code",
      "execution_count": 30,
      "metadata": {},
      "outputs": [],
      "source": [
        "'c' in 'boram'"
      ],
      "id": "345573f1-8559-474e-ac7e-89e687dca2dc"
    },
    {
      "cell_type": "markdown",
      "metadata": {},
      "source": [
        "# lesson 2\n",
        "\n",
        "## Quiz\n",
        "\n",
        "### 1"
      ],
      "id": "6770efbe-4cb1-42bd-a49c-e636f47d7903"
    },
    {
      "cell_type": "code",
      "execution_count": 54,
      "metadata": {},
      "outputs": [],
      "source": [
        "a=[]\n",
        "a"
      ],
      "id": "41a68e10-391e-4a62-972c-ba1dd7517dec"
    },
    {
      "cell_type": "code",
      "execution_count": 55,
      "metadata": {},
      "outputs": [],
      "source": [
        "len(a)"
      ],
      "id": "addc9764-80e5-4e35-b90a-077fe12ec9f9"
    },
    {
      "cell_type": "markdown",
      "metadata": {},
      "source": [
        "### 2"
      ],
      "id": "5700c804-99a4-44fa-9a28-558a5111370e"
    },
    {
      "cell_type": "code",
      "execution_count": 57,
      "metadata": {},
      "outputs": [],
      "source": [
        "len(3.14)"
      ],
      "id": "8dc24d5a-9d82-4f9c-a200-8004ef86cd73"
    },
    {
      "cell_type": "code",
      "execution_count": 58,
      "metadata": {},
      "outputs": [],
      "source": [
        "len([3.14]) "
      ],
      "id": "36a2d228-8b51-47f4-91fa-4764c1faac4d"
    },
    {
      "cell_type": "code",
      "execution_count": 59,
      "metadata": {},
      "outputs": [],
      "source": [
        "len('3.14') "
      ],
      "id": "e8422528-692f-416c-9482-899e7fa5ed95"
    },
    {
      "cell_type": "markdown",
      "metadata": {},
      "source": [
        "### 3"
      ],
      "id": "c7c04180-41ff-4fd9-86f1-45b166b62c05"
    },
    {
      "cell_type": "code",
      "execution_count": 60,
      "metadata": {},
      "outputs": [],
      "source": [
        "[1]*1+[2]*2+[3]*2+[4]*4+[5]*5"
      ],
      "id": "7b151e84-3bdd-4a2b-ab07-1532ffdea073"
    },
    {
      "cell_type": "markdown",
      "metadata": {},
      "source": [
        "### 4"
      ],
      "id": "ecf12062-5f8f-4f0c-bdac-f1e33e70a57d"
    },
    {
      "cell_type": "code",
      "execution_count": 61,
      "metadata": {},
      "outputs": [],
      "source": [
        "sum([1,0,1,0])"
      ],
      "id": "919688d2-5695-4c3e-b0a1-b326951b72fb"
    },
    {
      "cell_type": "code",
      "execution_count": 62,
      "metadata": {},
      "outputs": [],
      "source": [
        "sum([True,False,True,False])"
      ],
      "id": "1b6a252c-102b-481c-b004-1cbd6677ea8c"
    },
    {
      "cell_type": "markdown",
      "metadata": {},
      "source": [
        "### 5"
      ],
      "id": "97fc224d-be98-4b93-8895-b147eadd8d14"
    },
    {
      "cell_type": "code",
      "execution_count": 63,
      "metadata": {},
      "outputs": [],
      "source": [
        "x = [80,60,80,90,55,85,95,100,35,70,75,65,95]\n",
        "x"
      ],
      "id": "a4848585-6879-43aa-8b15-93a047709685"
    },
    {
      "cell_type": "code",
      "execution_count": 80,
      "metadata": {},
      "outputs": [],
      "source": [
        "sum([xi >80 for xi in x])"
      ],
      "id": "424d0b5b-b29a-48d3-b7c5-25c1f2563810"
    },
    {
      "cell_type": "markdown",
      "metadata": {},
      "source": [
        "### 6"
      ],
      "id": "8867503c-d665-478a-a979-468f6cb04108"
    },
    {
      "cell_type": "code",
      "execution_count": 81,
      "metadata": {},
      "outputs": [],
      "source": [
        "['A','B','C','D','A','A','B','A','F','C','C','C','A']"
      ],
      "id": "910781b4-15d6-486c-ae23-566530937bc3"
    },
    {
      "cell_type": "code",
      "execution_count": 82,
      "metadata": {},
      "outputs": [],
      "source": [
        "a=['A','B','C','D','A','A','B','A','F','C','C','C','A']"
      ],
      "id": "a3a5c5ab-27f5-44e1-aec3-7aad046fc4e3"
    },
    {
      "cell_type": "code",
      "execution_count": 85,
      "metadata": {},
      "outputs": [],
      "source": [
        "a.count('A')"
      ],
      "id": "8f19357c-e70c-4d17-957f-d5457ec8d569"
    },
    {
      "cell_type": "code",
      "execution_count": 86,
      "metadata": {},
      "outputs": [],
      "source": [
        "a.count('B')"
      ],
      "id": "05cd9eb0-6bd9-4ed5-ac58-9cc7c4787032"
    },
    {
      "cell_type": "code",
      "execution_count": 87,
      "metadata": {},
      "outputs": [],
      "source": [
        "lst = ['A','B','C','D','A','A','B','A','F','C','C','C','A']\n",
        "sum([l <'C' for l in lst])"
      ],
      "id": "2e81e72a-8b54-4529-8186-865c67b5a575"
    },
    {
      "cell_type": "markdown",
      "metadata": {},
      "source": [
        "### 7"
      ],
      "id": "0a8f94c7-3cdb-4704-a2d3-88d692f6bedf"
    },
    {
      "cell_type": "code",
      "execution_count": 88,
      "metadata": {},
      "outputs": [],
      "source": [
        "x=[1,2,1,5,6,2,4,7]\n",
        "y=[3,2,4,1,2,5,6,7] "
      ],
      "id": "eaabfdd2-d39f-4dc3-b2c9-4828b6c04af1"
    },
    {
      "cell_type": "code",
      "execution_count": 96,
      "metadata": {},
      "outputs": [],
      "source": [
        "[x[i]**2+y[i]**2 for i in range(8)]"
      ],
      "id": "27c8fe01-cc0a-4a2d-83b2-33b06d3bae8f"
    },
    {
      "cell_type": "markdown",
      "metadata": {},
      "source": [
        "### 8"
      ],
      "id": "babbfc95-534a-4e4f-86ac-8cb8769c4b48"
    },
    {
      "cell_type": "code",
      "execution_count": 97,
      "metadata": {},
      "outputs": [],
      "source": [
        "test_arr = 'ssh-rsa AAAAB3NzaC1yc2EAAAABIwAAAQEAklOUpkDHrfHY17SbrmTIpNLTGK9Tjom/BWDSUGPl+nafzlHDTYW7hdI4yZ5ew18JH4JW9jbhUFrviQzM7xlELEVf4h9lFX5QVkbPppSwg0cda3Pbv7kOdJ/MTyBlWXFCR+HAo3FXRitBqxiX1nKhXpHAZsMciLq8V6RjsNAQwdsdMFvSlVK/7XAt3FaoJoAsncM1Q9x5+3V0Ww68/eIFmb1zuUFljQJKprrX88XypNDvjYNby6vw/Pb0rwert/EnmZ+AW4OZPnTPI89ZPmVMLuayrD2cE86Z/il8b+gw3r3+1nKatmIkjn2so1d01QraTlMqVSsbxNrRFi9wrf+M7Q== schacon@mylaptop.local'"
      ],
      "id": "fe52b84c-7a1c-446e-b22e-98900507dd8d"
    },
    {
      "cell_type": "code",
      "execution_count": 102,
      "metadata": {},
      "outputs": [],
      "source": [
        "sum([s.isupper() for s in test_arr ])"
      ],
      "id": "bd8a940c-2db4-47e0-b7c4-6992390b2e12"
    },
    {
      "cell_type": "markdown",
      "metadata": {},
      "source": [
        "### 9"
      ],
      "id": "7a688314-cb50-451b-98e0-af8605e5ec33"
    },
    {
      "cell_type": "code",
      "execution_count": 109,
      "metadata": {},
      "outputs": [],
      "source": [
        "['a'*i for i in range(1,11)]"
      ],
      "id": "22ce1cd0-fd5e-4169-a428-11b85087d205"
    },
    {
      "cell_type": "markdown",
      "metadata": {},
      "source": [
        "### 10"
      ],
      "id": "039d29b3-2efd-4865-8c25-d398bf767d35"
    },
    {
      "cell_type": "code",
      "execution_count": 110,
      "metadata": {},
      "outputs": [],
      "source": [
        "test_lst = [['g',1],['u',5],['e',2],['b',8],['i',2],['n',9]]"
      ],
      "id": "db3b266c-7536-4caf-8b3a-2b0126a854cc"
    },
    {
      "cell_type": "code",
      "execution_count": 116,
      "metadata": {},
      "outputs": [],
      "source": [
        "[i[0]*i[1] for i in test_lst]"
      ],
      "id": "5300cc81-6ec5-4ce4-b6a4-490cc1c8ea8e"
    },
    {
      "cell_type": "markdown",
      "metadata": {},
      "source": [
        "### 11"
      ],
      "id": "f351d76a-6962-4ca2-8320-b7ef0c7f32f5"
    },
    {
      "cell_type": "code",
      "execution_count": 117,
      "metadata": {},
      "outputs": [],
      "source": [
        "[1,2,2,3,3,3]"
      ],
      "id": "9c69945f-a168-467f-811a-5ec0379aa3d1"
    },
    {
      "cell_type": "code",
      "execution_count": 127,
      "metadata": {},
      "outputs": [],
      "source": [
        "a = []\n",
        "for i in range(1,4):\n",
        "    a = a + [i]*i"
      ],
      "id": "486c2031-8010-46f3-add1-b96b4a1c7c18"
    },
    {
      "cell_type": "code",
      "execution_count": 128,
      "metadata": {},
      "outputs": [],
      "source": [
        "a"
      ],
      "id": "cec3b6ff-2f0e-4f98-82f1-a58bcf3f7fc4"
    },
    {
      "cell_type": "markdown",
      "metadata": {},
      "source": [
        "### 12"
      ],
      "id": "9fa544f8-c051-4915-97ac-5b451cfc30be"
    },
    {
      "cell_type": "code",
      "execution_count": 129,
      "metadata": {},
      "outputs": [],
      "source": [
        "lst = ['2022/09/21','2022/10/30','2022/12/25','2023/01/01','2023/01/31','2023/03/20']"
      ],
      "id": "3389685e-8092-4f15-a4ee-5c4fd2c5f2be"
    },
    {
      "cell_type": "code",
      "execution_count": 134,
      "metadata": {},
      "outputs": [],
      "source": [
        "[a.replace('/','-') for a in lst]"
      ],
      "id": "236b602d-963f-41cb-bf50-5a750dd11966"
    },
    {
      "cell_type": "markdown",
      "metadata": {},
      "source": [
        "### 13"
      ],
      "id": "07f61701-c983-488e-8b28-60e6eae25a61"
    },
    {
      "cell_type": "code",
      "execution_count": 137,
      "metadata": {},
      "outputs": [],
      "source": [
        "a='2021. 01. 05.'\n",
        "a"
      ],
      "id": "bf4c31ee-b3b9-428b-ad3f-0c67ae0d8a16"
    },
    {
      "cell_type": "code",
      "execution_count": 139,
      "metadata": {},
      "outputs": [],
      "source": [
        "a.replace(' ','')"
      ],
      "id": "b34575e6-9483-4150-95a9-0214325026f3"
    },
    {
      "cell_type": "markdown",
      "metadata": {},
      "source": [
        "### 14"
      ],
      "id": "bbcbc10e-d745-4ce9-91d9-be043b0d96b8"
    },
    {
      "cell_type": "code",
      "execution_count": 140,
      "metadata": {},
      "outputs": [],
      "source": [
        "'-'.join(['2022','01','05'])"
      ],
      "id": "8a5b3fea-8a8d-4655-a9d9-4a4aefabbcf0"
    },
    {
      "cell_type": "code",
      "execution_count": 141,
      "metadata": {},
      "outputs": [],
      "source": [
        "'.'.join(['2022','01','05'])"
      ],
      "id": "d533f827-a5f1-42c8-943d-0b62fc38e79a"
    },
    {
      "cell_type": "code",
      "execution_count": 142,
      "metadata": {},
      "outputs": [],
      "source": [
        "'/'.join(['2022','01','05'])"
      ],
      "id": "eb88127d-0b25-4cea-b370-82b24d55500b"
    },
    {
      "cell_type": "markdown",
      "metadata": {},
      "source": [
        "### 15"
      ],
      "id": "433cca8e-3fa0-430f-b9f2-a8a1f4ae5182"
    },
    {
      "cell_type": "code",
      "execution_count": 143,
      "metadata": {},
      "outputs": [],
      "source": [
        "block = ['■'] "
      ],
      "id": "9969feb4-ffee-47b3-9ad8-c148ea9e08d8"
    },
    {
      "cell_type": "code",
      "execution_count": 147,
      "metadata": {},
      "outputs": [],
      "source": [
        "block*10"
      ],
      "id": "8ebff647-f7c3-49c0-9fec-0dbf58c2a4c7"
    },
    {
      "cell_type": "code",
      "execution_count": 148,
      "metadata": {},
      "outputs": [],
      "source": [
        "'-'.join(block*10)"
      ],
      "id": "5bf27e8f-fb8d-499a-9e7e-a8e4e9a45955"
    },
    {
      "cell_type": "markdown",
      "metadata": {},
      "source": [
        "### 16"
      ],
      "id": "7210feb6-889f-43de-b6f3-cb2ada7d4049"
    },
    {
      "cell_type": "code",
      "execution_count": 152,
      "metadata": {},
      "outputs": [],
      "source": [
        "['2023', '03', '22']"
      ],
      "id": "158054a1-1071-49ef-967f-ad56f80c65e5"
    },
    {
      "cell_type": "code",
      "execution_count": 151,
      "metadata": {},
      "outputs": [],
      "source": [
        "'-'.join(['2023', '03', '22'])"
      ],
      "id": "6ad0b14b-0eda-4e85-bf24-bf59ba4bc23b"
    },
    {
      "cell_type": "markdown",
      "metadata": {},
      "source": [
        "### 17"
      ],
      "id": "5d4ac763-7de9-4129-bb0b-41b350ea4830"
    },
    {
      "cell_type": "code",
      "execution_count": 154,
      "metadata": {},
      "outputs": [],
      "source": [
        "a = ('202250926',)"
      ],
      "id": "5460c423-2f3a-442b-b3cc-f8412f61ba0d"
    },
    {
      "cell_type": "code",
      "execution_count": 155,
      "metadata": {},
      "outputs": [],
      "source": [
        "len(a)"
      ],
      "id": "0c579de2-a22e-4fad-abaf-e58d7903a106"
    },
    {
      "cell_type": "code",
      "execution_count": 156,
      "metadata": {},
      "outputs": [],
      "source": [
        "type(a)"
      ],
      "id": "af2dbfd2-21e1-4332-8fab-3c04bbf55284"
    },
    {
      "cell_type": "code",
      "execution_count": 162,
      "metadata": {},
      "outputs": [],
      "source": [
        "b = ('boram',)"
      ],
      "id": "8474719d-9790-4e24-8e61-690b0baad97f"
    },
    {
      "cell_type": "code",
      "execution_count": 163,
      "metadata": {},
      "outputs": [],
      "source": [
        "a + b"
      ],
      "id": "9fa0640f-85fc-4d22-b02e-fff21880692f"
    },
    {
      "cell_type": "markdown",
      "metadata": {},
      "source": [
        "### 18"
      ],
      "id": "86c30a27-674c-4535-b957-fcc80490abae"
    },
    {
      "cell_type": "code",
      "execution_count": 164,
      "metadata": {},
      "outputs": [],
      "source": [
        "lst = [['2021-43052', 'GuebinChoi', 5, 10, 20, 25],\n",
        "       ['2019-12342', 'Heung-min Son', 10, 15, 30, 15],\n",
        "       ['2018-32234', 'hynn', 7, 20, 30, 15],\n",
        "       ['2022-42323', 'Minji', 8, 20, 20, 35],\n",
        "       ['2023-55342', 'Hanni', 7, 20, 30, 35],\n",
        "       ['2022-46624', 'Danielle', 3, 15, 30, 40],\n",
        "       ['2022-11239', 'Haerin', 10, 20, 30, 40],\n",
        "       ['2022-32114', 'Hyein', 10, 20, 20, 35]]\n",
        "lst "
      ],
      "id": "ec5c2707-716e-43de-b080-defde7098905"
    },
    {
      "cell_type": "code",
      "execution_count": 165,
      "metadata": {},
      "outputs": [],
      "source": [
        "len(lst)"
      ],
      "id": "d65faaf4-7a3f-4e7e-9aa5-a7b48036b590"
    },
    {
      "cell_type": "markdown",
      "metadata": {},
      "source": [
        "### 19\n",
        "\n",
        ". 전북대학교 지침에 따라 출석점수가 7보다 작은 학생은 (즉 출석점수 \\< 7\n",
        "일 경우) F학점을 부여하게 되어있다. 이 기준에 따르면 F를 받는 학생은\n",
        "모두 몇명인가?"
      ],
      "id": "b5351891-eb9b-4ab0-b14c-a140153b5603"
    },
    {
      "cell_type": "code",
      "execution_count": 169,
      "metadata": {},
      "outputs": [],
      "source": [
        "sum([a<7 for _,_,a, *rest in lst])"
      ],
      "id": "750c4d88-05e7-4957-a7b5-42b6db1eb3e1"
    },
    {
      "cell_type": "markdown",
      "metadata": {},
      "source": [
        "### 20\n",
        "\n",
        "파이썬프로그래밍 수업의 경우 출석+레포트 \\< 21 일 경우 F학점을\n",
        "부여한다고 한다. 이 기준에 따르면 F를 받는 학생은 모두 몇명인가?"
      ],
      "id": "597baddf-7dce-4ef1-b1d6-5c467d413a0a"
    },
    {
      "cell_type": "code",
      "execution_count": 173,
      "metadata": {},
      "outputs": [],
      "source": [
        "sum([a+b<21 for _,_,a,b, *rest in lst])"
      ],
      "id": "782ee5e2-236c-456c-af3a-71dca330462b"
    },
    {
      "cell_type": "markdown",
      "metadata": {},
      "source": [
        "### 21\n",
        "\n",
        "리스트의 정렬순서를 \\[학번, 이름, …, 기말고사점수\\] 가 아니라 \\[이름,\n",
        "학번, … , 기말고사점수\\] 와 같이 되도록 변경하는 코드를 작성하라."
      ],
      "id": "3a18e6e3-d8f6-4e70-b253-03d617f95285"
    },
    {
      "cell_type": "code",
      "execution_count": 174,
      "metadata": {},
      "outputs": [],
      "source": [
        "[[name,studentid,*rest] for studentid, name, *rest in lst]"
      ],
      "id": "c714f394-4d56-4ee3-b50c-2615e778b68d"
    },
    {
      "cell_type": "markdown",
      "metadata": {},
      "source": [
        "### 22"
      ],
      "id": "070e1cfe-2e6c-47da-a02d-e487c3b63c84"
    },
    {
      "cell_type": "code",
      "execution_count": 421,
      "metadata": {},
      "outputs": [],
      "source": [
        "text = \"국내뿐 아니라 해외 인기도 심상치 않다. 2023년 1월 18일 'Ditto'가 빌보드 핫 100에 96위로 진입했다. 이는 K-pop 역사상 데뷔후 최단 빌보드 Hot 100 차트 입성 기록이다. 다른 뮤지션들이 보통 데뷔 후 수년간 쌓아온 팬덤을 기반으로 빌보드에 입성한데 비해, 뉴진스의 기록은 이례적인 것으로 평가받고 있다. 또한 'OMG'가 빌보드 핫 100에 91위로 진입한 동시에 'Ditto'는 85위로 순위가 상승, 핫 100 주간차트에 두 곡을 올려놓았다. K-Pop 역사상 이 차트에 두 곡 이상을 진입시킨 아티스트는 방탄소년단과 블랙핑크가 유일하다. 'Ditto'는 1월 셋째주 기준, 빌보드뿐만 아니라 영국 오피셜 싱글 차트 '톱 100'에 2주 연속 진입하기도 했다.\""
      ],
      "id": "3dd145d1-db9b-4c2a-bbd8-424c5b40b025"
    },
    {
      "cell_type": "code",
      "execution_count": 422,
      "metadata": {},
      "outputs": [],
      "source": [
        "aa=text.split('.')\n",
        "aa"
      ],
      "id": "9a670635-974a-4062-b6f3-ebe511a786f7"
    },
    {
      "cell_type": "code",
      "execution_count": 423,
      "metadata": {},
      "outputs": [],
      "source": [
        "len(aa)"
      ],
      "id": "65ba9838-8d0b-496e-a15f-99bf4194de87"
    },
    {
      "cell_type": "markdown",
      "metadata": {},
      "source": [
        "-   그냥 ‘.’ 으로 구분해버리게 되면 맨 마지막 ““까지 길이를 세게 된다.\n",
        "    조심!"
      ],
      "id": "52640248-1546-4fca-97d5-6b14a98ce408"
    },
    {
      "cell_type": "code",
      "execution_count": 200,
      "metadata": {},
      "outputs": [],
      "source": [
        "a=text.split('. ')\n",
        "a"
      ],
      "id": "24c1f837-74c0-4e3f-8fec-7d2a17633c35"
    },
    {
      "cell_type": "code",
      "execution_count": 201,
      "metadata": {},
      "outputs": [],
      "source": [
        "len(a)"
      ],
      "id": "dedd496f-2ee5-47dc-8d20-9c21c8834bab"
    },
    {
      "cell_type": "markdown",
      "metadata": {},
      "source": [
        "### 23"
      ],
      "id": "99075729-1ca2-45fd-ad95-4e693cff53a9"
    },
    {
      "cell_type": "code",
      "execution_count": 190,
      "metadata": {},
      "outputs": [],
      "source": [
        "a=text.split(' ')\n",
        "a\n",
        "len(a)"
      ],
      "id": "1c3f70ee-7c76-488b-9afd-ccc9382c31c5"
    },
    {
      "cell_type": "markdown",
      "metadata": {},
      "source": [
        "### 24"
      ],
      "id": "18332b32-0b2a-4309-a180-1de69309374b"
    },
    {
      "cell_type": "code",
      "execution_count": 202,
      "metadata": {},
      "outputs": [],
      "source": [
        "['100' in s for s in a]"
      ],
      "id": "fba74982-33c2-4406-8d3f-1b5931a6c922"
    },
    {
      "cell_type": "code",
      "execution_count": 204,
      "metadata": {},
      "outputs": [],
      "source": [
        "sum(['100' in s for s in a])"
      ],
      "id": "f975cd35-156c-460f-843b-3653ad6b1e9e"
    },
    {
      "cell_type": "markdown",
      "metadata": {},
      "source": [
        "# lesson 3\n",
        "\n",
        "## Quiz\n",
        "\n",
        "### 1"
      ],
      "id": "2564e054-e43f-468f-bfe0-fe9c304c662f"
    },
    {
      "cell_type": "code",
      "execution_count": 205,
      "metadata": {},
      "outputs": [],
      "source": [
        "test_arr = 'ssh-rsa AAAAB3NzaC1yc2EAAAABIwAAAQEAklOUpkDHrfHY17SbrmTIpNLTGK9Tjom/BWDSUGPl+nafzlHDTYW7hdI4yZ5ew18JH4JW9jbhUFrviQzM7xlELEVf4h9lFX5QVkbPppSwg0cda3Pbv7kOdJ/MTyBlWXFCR+HAo3FXRitBqxiX1nKhXpHAZsMciLq8V6RjsNAQwdsdMFvSlVK/7XAt3FaoJoAsncM1Q9x5+3V0Ww68/eIFmb1zuUFljQJKprrX88XypNDvjYNby6vw/Pb0rwert/EnmZ+AW4OZPnTPI89ZPmVMLuayrD2cE86Z/il8b+gw3r3+1nKatmIkjn2so1d01QraTlMqVSsbxNrRFi9wrf+M7Q== schacon@mylaptop.local'"
      ],
      "id": "cf62af9b-7d59-463d-9ae8-9107f11b921f"
    },
    {
      "cell_type": "code",
      "execution_count": 207,
      "metadata": {},
      "outputs": [],
      "source": [
        "test_arr[::2]"
      ],
      "id": "8b885f37-83f0-4084-8c4d-abeca219225c"
    },
    {
      "cell_type": "markdown",
      "metadata": {},
      "source": [
        "### 2"
      ],
      "id": "d61d3c07-fbab-4b95-a8b8-32ea2b813d5f"
    },
    {
      "cell_type": "code",
      "execution_count": 208,
      "metadata": {},
      "outputs": [],
      "source": [
        "test_arr[::-1]"
      ],
      "id": "aad5dfdd-d3e6-448a-a69e-67d24e4cfed1"
    },
    {
      "cell_type": "markdown",
      "metadata": {},
      "source": [
        "### 3"
      ],
      "id": "51a951f0-816c-40e3-9418-db323c2a79c8"
    },
    {
      "cell_type": "code",
      "execution_count": 210,
      "metadata": {},
      "outputs": [],
      "source": [
        "dct={'202212377': {'att': 65, 'rep': 45, 'mid': 0, 'fin': 10},\n",
        "     '202212473': {'att': 95, 'rep': 30, 'mid': 60, 'fin': 10},\n",
        "     '202212310': {'att': 65, 'rep': 85, 'mid': 15, 'fin': 20},\n",
        "     '202212460': {'att': 55, 'rep': 35, 'mid': 35, 'fin': 5},\n",
        "     '202212320': {'att': 80, 'rep': 60, 'mid': 55, 'fin': 70},\n",
        "     '202212329': {'att': 75, 'rep': 40, 'mid': 75, 'fin': 85},\n",
        "     '202212408': {'att': 65, 'rep': 70, 'mid': 60, 'fin': 75},\n",
        "     '202212319': {'att': 60, 'rep': 25, 'mid': 20, 'fin': 35},\n",
        "     '202212348': {'att': 95, 'rep': 55, 'mid': 65, 'fin': 90},\n",
        "     '202212306': {'att': 90, 'rep': 25, 'mid': 95, 'fin': 50},\n",
        "     '202212308': {'att': 55, 'rep': 45, 'mid': 75, 'fin': 30},\n",
        "     '202212366': {'att': 95, 'rep': 60, 'mid': 25, 'fin': 55},\n",
        "     '202212367': {'att': 95, 'rep': 35, 'mid': 0, 'fin': 25},\n",
        "     '202212461': {'att': 50, 'rep': 55, 'mid': 90, 'fin': 45}}"
      ],
      "id": "b9c47eed-d40c-45ec-b757-28394ba03d55"
    },
    {
      "cell_type": "code",
      "execution_count": 214,
      "metadata": {},
      "outputs": [],
      "source": [
        "[a for a  in dct]"
      ],
      "id": "dcfb79d3-5d48-44fe-9469-2f372a9e050c"
    },
    {
      "cell_type": "markdown",
      "metadata": {},
      "source": [
        "### 4($\\star$)"
      ],
      "id": "25c060a8-d53e-4911-8344-b559df4f2883"
    },
    {
      "cell_type": "code",
      "execution_count": 218,
      "metadata": {},
      "outputs": [],
      "source": [
        "[a for a,b in dct.items() if b['att']>70]"
      ],
      "id": "8dd979e3-550f-411f-9268-059426f420cf"
    },
    {
      "cell_type": "markdown",
      "metadata": {},
      "source": [
        "### 5"
      ],
      "id": "2c4b30aa-62bd-481a-81d5-0145273280ca"
    },
    {
      "cell_type": "code",
      "execution_count": 219,
      "metadata": {},
      "outputs": [],
      "source": [
        "import requests\n",
        "url = 'https://raw.githubusercontent.com/guebin/PP2023/main/posts/01_PythonBasic/Oxford-IIIT.txt'\n",
        "txt = requests.get(url).content.decode()"
      ],
      "id": "1ce50f32-e2cf-48dd-b03e-c5dedcbbcc9a"
    },
    {
      "cell_type": "code",
      "execution_count": 230,
      "metadata": {},
      "outputs": [],
      "source": [
        "fname= txt.split('\\n')"
      ],
      "id": "5e4658a3-8770-462f-94bd-9d14905a8fa0"
    },
    {
      "cell_type": "code",
      "execution_count": 231,
      "metadata": {},
      "outputs": [],
      "source": [
        "fname[:5]"
      ],
      "id": "9290cc18-01a9-468b-b2ec-04d3ba68fcde"
    },
    {
      "cell_type": "markdown",
      "metadata": {},
      "source": [
        "### 6($\\star$)"
      ],
      "id": "687396ea-5537-448b-b00e-b227d2ca9f41"
    },
    {
      "cell_type": "code",
      "execution_count": 232,
      "metadata": {},
      "outputs": [],
      "source": [
        "def f(fname):\n",
        "    return 'cat' if fname[0].isupper() else 'dog'"
      ],
      "id": "ed42d6d3-b967-4746-a873-48ada450fea5"
    },
    {
      "cell_type": "code",
      "execution_count": 233,
      "metadata": {},
      "outputs": [],
      "source": [
        "f('yorkshire_terrier_99.jpg')"
      ],
      "id": "3cef55b6-3fa1-4fcc-a8e4-ba6bf82898a5"
    },
    {
      "cell_type": "code",
      "execution_count": 234,
      "metadata": {},
      "outputs": [],
      "source": [
        "f('Abyssinian_1.jpg')"
      ],
      "id": "605c1b26-ed40-4851-aeb5-e1ea1d233690"
    },
    {
      "cell_type": "markdown",
      "metadata": {},
      "source": [
        "### 7"
      ],
      "id": "2f1e01eb-ee51-4c61-afa1-1368d38b1932"
    },
    {
      "cell_type": "code",
      "execution_count": 236,
      "metadata": {},
      "outputs": [],
      "source": [
        "result = [f(l) for l in fname]\n",
        "result[:10]"
      ],
      "id": "1b7c221c-ff91-46e9-b65b-ae5a8cdf0648"
    },
    {
      "cell_type": "markdown",
      "metadata": {},
      "source": [
        "### 8"
      ],
      "id": "ba7d3ce7-8768-4284-829e-afae0148a7e3"
    },
    {
      "cell_type": "code",
      "execution_count": 237,
      "metadata": {},
      "outputs": [],
      "source": [
        "sum([c == 'cat' for c in result])"
      ],
      "id": "8bbc203b-8039-47e7-ac9c-de70cd35191c"
    },
    {
      "cell_type": "code",
      "execution_count": 238,
      "metadata": {},
      "outputs": [],
      "source": [
        "sum([d == 'dog' for d in result])"
      ],
      "id": "d9262f46-3352-4ed0-927f-84e875286463"
    },
    {
      "cell_type": "markdown",
      "metadata": {},
      "source": [
        "### 9"
      ],
      "id": "ea3d26e1-f592-44fa-8f87-577f0bc3d2bb"
    },
    {
      "cell_type": "code",
      "execution_count": 239,
      "metadata": {},
      "outputs": [],
      "source": [
        "sum(['pomeranian'  in s for s in fname])"
      ],
      "id": "e6b010e7-3c3c-444f-9d6f-d1b877489be8"
    },
    {
      "cell_type": "markdown",
      "metadata": {},
      "source": [
        "# lesson 4\n",
        "\n",
        "## Quiz\n",
        "\n",
        "### 1"
      ],
      "id": "05959bed-b26c-4ec1-b72c-cb8fcb0bff66"
    },
    {
      "cell_type": "code",
      "execution_count": 242,
      "metadata": {},
      "outputs": [],
      "source": [
        "dct = {'a':0, 'b':1} "
      ],
      "id": "e770b7eb-cfdc-4922-8467-5a4f68428307"
    },
    {
      "cell_type": "code",
      "execution_count": 243,
      "metadata": {},
      "outputs": [],
      "source": [
        "lst = [1, 0, 1, 0, 1, 0, 1, 1, 1, 1, 0, 0, 1, 0, 1]"
      ],
      "id": "5048b3bc-d367-4e45-a064-1a9ad3e8da19"
    },
    {
      "cell_type": "code",
      "execution_count": 247,
      "metadata": {},
      "outputs": [],
      "source": [
        "dct.items()"
      ],
      "id": "76d3fc4a-f399-4360-af75-40c5bb4a8cf7"
    },
    {
      "cell_type": "code",
      "execution_count": 244,
      "metadata": {},
      "outputs": [],
      "source": [
        "[k for l in lst for k,v in dct.items() if v==l]"
      ],
      "id": "21fd9eb6-840e-42b7-8e55-dd0ea310775d"
    },
    {
      "cell_type": "markdown",
      "metadata": {},
      "source": [
        "### 2"
      ],
      "id": "505907be-e1bd-45fb-84b5-efdf00bd785f"
    },
    {
      "cell_type": "code",
      "execution_count": 262,
      "metadata": {},
      "outputs": [],
      "source": [
        "dct = {'겨울방학':[1,2], '1학기':[3,4,5,6], '여름방학':[7,8], '2학기':[9,10,11,12]}\n",
        "dct"
      ],
      "id": "3d0f0bb4-b67a-4714-95ea-3891ad1e8c6b"
    },
    {
      "cell_type": "code",
      "execution_count": 263,
      "metadata": {},
      "outputs": [],
      "source": [
        "month = [1,2,2,3,4,5,6,7,8,9,9,10,11,12] "
      ],
      "id": "99b393fb-67cf-40be-bac5-6badc0f6d2b3"
    },
    {
      "cell_type": "code",
      "execution_count": 264,
      "metadata": {},
      "outputs": [],
      "source": [
        "[x for l in month for x,y in dct.items() if l in y]"
      ],
      "id": "3b146f7f-376f-4530-96e9-c77c8f6a8216"
    },
    {
      "cell_type": "markdown",
      "metadata": {},
      "source": [
        "### 3"
      ],
      "id": "99265ce7-9e70-4024-a926-a52a066f10fa"
    },
    {
      "cell_type": "code",
      "execution_count": 265,
      "metadata": {},
      "outputs": [],
      "source": [
        "dct1 = {'바나나':0, '사과':1, '오토바이':2, '자동차':3, '자전거':4} \n",
        "dct2 = {'과일':['바나나','사과'], '탈것':['오토바이','자동차','자전거']} "
      ],
      "id": "079182b5-38a2-49a0-8148-6fc6baf2d726"
    },
    {
      "cell_type": "code",
      "execution_count": 267,
      "metadata": {},
      "outputs": [],
      "source": [
        "def f(i):\n",
        "    return [k for l in i for k,v in dct1.items() if v == 1]"
      ],
      "id": "b5df693a-9441-4d20-b488-b97fc10dfbc2"
    },
    {
      "cell_type": "code",
      "execution_count": 268,
      "metadata": {},
      "outputs": [],
      "source": [
        "f([0,1,0,1,4])"
      ],
      "id": "ef2e079c-e75b-4844-92e6-3d057794b29b"
    },
    {
      "cell_type": "markdown",
      "metadata": {},
      "source": [
        "### 4"
      ],
      "id": "722b1f3c-59cd-4ee9-9e35-a7e760a66557"
    },
    {
      "cell_type": "code",
      "execution_count": 271,
      "metadata": {},
      "outputs": [],
      "source": [
        "def g(i):\n",
        "    return [k for l in i for k,v in dct2.items() if l in v]"
      ],
      "id": "b795a5f6-c445-4c14-893e-3a273f26e0dd"
    },
    {
      "cell_type": "code",
      "execution_count": 272,
      "metadata": {},
      "outputs": [],
      "source": [
        "g(['바나나','바나나','바나나','자동차'])"
      ],
      "id": "762fa425-02c2-48d4-bfa0-c364b371ce05"
    },
    {
      "cell_type": "markdown",
      "metadata": {},
      "source": [
        "### 5"
      ],
      "id": "d258cf7d-98b3-4456-8b16-529a78b1c02d"
    },
    {
      "cell_type": "code",
      "execution_count": 273,
      "metadata": {},
      "outputs": [],
      "source": [
        "g(f([0,1,0,1,3,4,2,2,3,4,1,0]))"
      ],
      "id": "d5528de8-fa4b-47a7-85d4-b225342573d7"
    },
    {
      "cell_type": "markdown",
      "metadata": {},
      "source": [
        "### 6"
      ],
      "id": "88990935-4554-441c-b326-a16328e31fdc"
    },
    {
      "cell_type": "code",
      "execution_count": 274,
      "metadata": {},
      "outputs": [],
      "source": [
        "import requests\n",
        "url = 'https://raw.githubusercontent.com/guebin/PP2023/main/posts/01_PythonBasic/Oxford-IIIT.txt'\n",
        "txt = requests.get(url).content.decode()"
      ],
      "id": "e8fd6201-f469-4c7d-97ff-8d48f2cb7c90"
    },
    {
      "cell_type": "code",
      "execution_count": 275,
      "metadata": {},
      "outputs": [],
      "source": [
        "lst = [''.join(filename.split('_')[:-1]) for filename in txt.split('\\n')]"
      ],
      "id": "e62c86e6-10d4-4471-a7b4-b696b1252562"
    },
    {
      "cell_type": "code",
      "execution_count": 276,
      "metadata": {},
      "outputs": [],
      "source": [
        "lst[:10],lst[810:820]"
      ],
      "id": "f7007764-921d-4c75-b20a-66e541897133"
    },
    {
      "cell_type": "markdown",
      "metadata": {},
      "source": [
        "### 7"
      ],
      "id": "d0445fde-3527-434c-8bc5-1b168185ae14"
    },
    {
      "cell_type": "code",
      "execution_count": 277,
      "metadata": {},
      "outputs": [],
      "source": [
        "[s[0].isupper() for s in set(lst)].count(True) # 고양이 12"
      ],
      "id": "bb37da4f-4005-4e35-937d-45fbe3925a1a"
    },
    {
      "cell_type": "code",
      "execution_count": 278,
      "metadata": {},
      "outputs": [],
      "source": [
        "[s[0].isupper() for s in set(lst)].count(False) "
      ],
      "id": "7eaa9243-fe9f-4f2a-8b5f-795e1625c595"
    },
    {
      "cell_type": "markdown",
      "metadata": {},
      "source": [
        "### 8"
      ],
      "id": "4263e927-6030-4dd7-b580-123798cb1fb8"
    },
    {
      "cell_type": "code",
      "execution_count": 279,
      "metadata": {},
      "outputs": [],
      "source": [
        "dct = {'cat': [s for s in set(lst) if s[0].isupper()], 'dog': [s for s in set(lst) if not s[0].isupper()]}\n"
      ],
      "id": "4302619e-40b4-4f4c-b69d-01a9a753d166"
    },
    {
      "cell_type": "code",
      "execution_count": 280,
      "metadata": {},
      "outputs": [],
      "source": [
        "lst2 = [k for l in lst for k, v in dct.items() if l in v]"
      ],
      "id": "b91dfcdb-114d-4e47-980e-4939031e32f8"
    },
    {
      "cell_type": "code",
      "execution_count": 282,
      "metadata": {},
      "outputs": [],
      "source": [
        "lst2[:10], lst2[-10:] # 바뀐 lst"
      ],
      "id": "a0bded95-9323-49f1-a303-7c8fd272ff0f"
    },
    {
      "cell_type": "markdown",
      "metadata": {},
      "source": [
        "### 9"
      ],
      "id": "5687d544-3200-4158-9d60-f96c51a7eb3f"
    },
    {
      "cell_type": "code",
      "execution_count": 285,
      "metadata": {},
      "outputs": [],
      "source": [
        "{k:lst2.count(k) for k in ['dog','cat']}"
      ],
      "id": "aaf1226f-451b-494a-aab4-f67b7c36bb2c"
    },
    {
      "cell_type": "markdown",
      "metadata": {},
      "source": [
        "### 10"
      ],
      "id": "1939671d-3685-4f23-9c6b-9b4f97fc19ed"
    },
    {
      "cell_type": "code",
      "execution_count": 286,
      "metadata": {},
      "outputs": [],
      "source": [
        "{k:lst.count(k) for k in set(lst)}"
      ],
      "id": "94575479-c7dd-4117-b2e1-6e955751c697"
    },
    {
      "cell_type": "markdown",
      "metadata": {},
      "source": [
        "# lesson 5"
      ],
      "id": "6eb6f00f-cd09-41d0-97ce-a554f5d6ee6e"
    },
    {
      "cell_type": "code",
      "execution_count": 424,
      "metadata": {},
      "outputs": [],
      "source": [
        "np.eye(3)"
      ],
      "id": "5df4664c-b81c-44b9-9db4-749e63898339"
    },
    {
      "cell_type": "code",
      "execution_count": 426,
      "metadata": {},
      "outputs": [],
      "source": [
        "(np.array([i==j for i in range(3) for j in range(3)])*1.0).reshape(3,3)"
      ],
      "id": "39cb5de8-03ce-4ff6-8e9c-72b2442871ac"
    },
    {
      "cell_type": "code",
      "execution_count": 428,
      "metadata": {},
      "outputs": [],
      "source": [
        "(np.array([abs(i-j)<2 for i in range(5) for j in range(5)])*1.0).reshape(5,5)"
      ],
      "id": "3bf9e77d-422d-47e1-b0c0-048c0ad269d0"
    },
    {
      "cell_type": "markdown",
      "metadata": {},
      "source": [
        "-   이동평균 구할 때 많이 쓰이는 matrix\n",
        "\n",
        "## Quiz\n",
        "\n",
        "### 1"
      ],
      "id": "ae64eab2-6838-4f50-afd0-bb6918a00056"
    },
    {
      "cell_type": "code",
      "execution_count": 287,
      "metadata": {},
      "outputs": [],
      "source": [
        "a= np.array(0)\n",
        "a.shape"
      ],
      "id": "a9f722ca-2b94-430b-8dcd-8b559b8d36cb"
    },
    {
      "cell_type": "markdown",
      "metadata": {},
      "source": [
        "### 2"
      ],
      "id": "11108981-7d38-4f73-bc26-2741a1bcdd38"
    },
    {
      "cell_type": "code",
      "execution_count": 288,
      "metadata": {},
      "outputs": [],
      "source": [
        "a=[1,3,2,5,-3,3,8,2,3,1]\n",
        "np.array(a)+1"
      ],
      "id": "5bcb3a0f-dc11-4849-98fb-70ec95f91ba0"
    },
    {
      "cell_type": "markdown",
      "metadata": {},
      "source": [
        "### 3"
      ],
      "id": "6b8530a0-66d0-4942-a84e-a61e8c5d61b1"
    },
    {
      "cell_type": "code",
      "execution_count": 291,
      "metadata": {},
      "outputs": [],
      "source": [
        "np.arange(100)[::3]"
      ],
      "id": "0b6e9057-a9ca-4d9e-9160-e76ceeb388d0"
    },
    {
      "cell_type": "markdown",
      "metadata": {},
      "source": [
        "### 4"
      ],
      "id": "c330c660-f4e1-49eb-b441-c6422d427f0f"
    },
    {
      "cell_type": "code",
      "execution_count": 293,
      "metadata": {},
      "outputs": [],
      "source": [
        "np.eye(5)"
      ],
      "id": "bf199964-e879-479b-9445-e3d215ddc478"
    },
    {
      "cell_type": "markdown",
      "metadata": {},
      "source": [
        "### 5"
      ],
      "id": "d5dabc38-9671-43c3-b98b-298ff7f69a65"
    },
    {
      "cell_type": "code",
      "execution_count": 294,
      "metadata": {},
      "outputs": [],
      "source": [
        "a = np.array([[1,0],[0,3]])"
      ],
      "id": "b721b104-0406-406f-9bae-c09c116e3d52"
    },
    {
      "cell_type": "code",
      "execution_count": 295,
      "metadata": {},
      "outputs": [],
      "source": [
        "np.linalg.inv(a)"
      ],
      "id": "d635e959-1f04-4bd2-af8f-9d9722f18be3"
    },
    {
      "cell_type": "markdown",
      "metadata": {},
      "source": [
        "### 6"
      ],
      "id": "34e0ca6a-9dc5-4a4a-95d5-f8b5d5705de5"
    },
    {
      "cell_type": "code",
      "execution_count": 296,
      "metadata": {},
      "outputs": [],
      "source": [
        "np.random.seed(19931217)"
      ],
      "id": "a8f48b7c-9d72-4110-8530-f3cc13e8e247"
    },
    {
      "cell_type": "code",
      "execution_count": 298,
      "metadata": {},
      "outputs": [],
      "source": [
        "a= np.random.randn(1000)"
      ],
      "id": "7d0f606b-8738-4a68-9811-a3bf4d342cf3"
    },
    {
      "cell_type": "markdown",
      "metadata": {},
      "source": [
        "### 7"
      ],
      "id": "d3b0cbc0-858f-49ee-bc61-329586b6ac89"
    },
    {
      "cell_type": "code",
      "execution_count": 299,
      "metadata": {},
      "outputs": [],
      "source": [
        "sum(a>1.96) + sum(a<-1.96)"
      ],
      "id": "bcd2780e-0a24-48bc-82ae-39c1d6e09910"
    },
    {
      "cell_type": "markdown",
      "metadata": {},
      "source": [
        "### 8"
      ],
      "id": "ddd8825c-68e7-4672-951b-88a4234350da"
    },
    {
      "cell_type": "code",
      "execution_count": 300,
      "metadata": {},
      "outputs": [],
      "source": [
        "a=np.arange(12).reshape(3,4)\n",
        "a"
      ],
      "id": "67f76682-166a-416b-85ed-94c949adf982"
    },
    {
      "cell_type": "code",
      "execution_count": 303,
      "metadata": {},
      "outputs": [],
      "source": [
        "a[:,[0]]"
      ],
      "id": "4154f4cf-fb1a-44bb-ba94-38a8066a13f7"
    },
    {
      "cell_type": "markdown",
      "metadata": {},
      "source": [
        "### 9"
      ],
      "id": "0a3572d1-4860-4dfd-907e-f2188a8fef1f"
    },
    {
      "cell_type": "code",
      "execution_count": 304,
      "metadata": {},
      "outputs": [],
      "source": [
        "np.random.seed(43052)\n",
        "a=np.random.randint(low=20,high=25,size=(10,10))"
      ],
      "id": "c5a42777-d952-4137-a0db-ae7ce485c181"
    },
    {
      "cell_type": "code",
      "execution_count": 305,
      "metadata": {},
      "outputs": [],
      "source": [
        "a"
      ],
      "id": "6131e9fb-8c9b-43b9-90f1-2aaa42ebacf2"
    },
    {
      "cell_type": "code",
      "execution_count": 306,
      "metadata": {},
      "outputs": [],
      "source": [
        "(a==20).sum(), (a==21).sum(), (a==22).sum()"
      ],
      "id": "5290e204-7b78-4696-a355-15f858898a75"
    },
    {
      "cell_type": "markdown",
      "metadata": {},
      "source": [
        "### 10"
      ],
      "id": "b0cbea30-f22a-4bc6-9e83-0c4aa1bfc4ed"
    },
    {
      "cell_type": "code",
      "execution_count": 307,
      "metadata": {},
      "outputs": [],
      "source": [
        "lst = [[i==j for i in range(5)] for j in range(5)]\n",
        "lst"
      ],
      "id": "0adee2d4-6df4-485b-9a94-f2c2989e08e0"
    },
    {
      "cell_type": "code",
      "execution_count": 308,
      "metadata": {},
      "outputs": [],
      "source": [
        "np.array([[i==j for i in range(5)] for j in range(5)])*1.0"
      ],
      "id": "35706495-8dbf-44d3-afeb-31fa3fece6fa"
    },
    {
      "cell_type": "markdown",
      "metadata": {},
      "source": [
        "### 12"
      ],
      "id": "84f9ef1f-c50d-4cbe-b796-7390c0c4d46b"
    },
    {
      "cell_type": "code",
      "execution_count": 309,
      "metadata": {},
      "outputs": [],
      "source": [
        "np.array([[i+j for i in range(5)] for j in range(5)] )"
      ],
      "id": "e8a233fa-bc74-4e92-974a-fd114094b6ac"
    },
    {
      "cell_type": "markdown",
      "metadata": {},
      "source": [
        "### 13"
      ],
      "id": "fea68e80-70af-4744-aaf3-5199b6322da5"
    },
    {
      "cell_type": "code",
      "execution_count": 311,
      "metadata": {},
      "outputs": [],
      "source": [
        "np.array([[abs(i-j)<2 for i in range(10)] for j in range(10)])*1"
      ],
      "id": "f9e8b5ba-b55b-4441-ae67-1eda03625918"
    },
    {
      "cell_type": "markdown",
      "metadata": {},
      "source": [
        "### 14"
      ],
      "id": "4804c70c-711e-4eb4-a05b-1f68aca97809"
    },
    {
      "cell_type": "code",
      "execution_count": 312,
      "metadata": {},
      "outputs": [],
      "source": [
        "np.random.rand(100)<0.45"
      ],
      "id": "9922016c-71a7-4e1a-a937-a15ffe790403"
    },
    {
      "cell_type": "markdown",
      "metadata": {},
      "source": [
        "# lesson 6\n",
        "\n",
        "## lesson"
      ],
      "id": "1d696603-d30d-43b6-a1b0-c54315102925"
    },
    {
      "cell_type": "code",
      "execution_count": 430,
      "metadata": {},
      "outputs": [],
      "source": [
        "a=np.array([1,2]) \n",
        "b=-a"
      ],
      "id": "c1d75ef9-5eab-4116-ba52-0283a62b82d6"
    },
    {
      "cell_type": "code",
      "execution_count": 433,
      "metadata": {},
      "outputs": [],
      "source": [
        "a.shape"
      ],
      "id": "a092655c-adb2-426a-8b30-d1dff01be970"
    },
    {
      "cell_type": "code",
      "execution_count": 435,
      "metadata": {},
      "outputs": [],
      "source": [
        "b.shape"
      ],
      "id": "508a80fa-0567-47a4-a87b-e7dbdce6c944"
    },
    {
      "cell_type": "code",
      "execution_count": 437,
      "metadata": {},
      "outputs": [],
      "source": [
        "c = np.concatenate([a,b])\n",
        "c"
      ],
      "id": "1ab429e6-057d-441f-97dc-8f5ebf8d6635"
    },
    {
      "cell_type": "code",
      "execution_count": 438,
      "metadata": {},
      "outputs": [],
      "source": [
        "c.shape"
      ],
      "id": "6511a097-c058-40ca-8a17-3b48dfdbb0f8"
    },
    {
      "cell_type": "markdown",
      "metadata": {},
      "source": [
        "## Quiz\n",
        "\n",
        "## 1~6"
      ],
      "id": "e3b387e2-c380-42f8-b520-023cbfdfe06b"
    },
    {
      "cell_type": "code",
      "execution_count": 313,
      "metadata": {},
      "outputs": [],
      "source": [
        "a=np.array([1]*10)\n",
        "b=np.array([2]*10)"
      ],
      "id": "1e656f63-f5e5-4de6-ac3a-e2f9cf9c0583"
    },
    {
      "cell_type": "code",
      "execution_count": 314,
      "metadata": {},
      "outputs": [],
      "source": [
        "a"
      ],
      "id": "f199341d-b813-47d0-948d-ea2e4af35d92"
    },
    {
      "cell_type": "code",
      "execution_count": 315,
      "metadata": {},
      "outputs": [],
      "source": [
        "b"
      ],
      "id": "575da183-1d40-4421-ba45-94eed63cc4bc"
    },
    {
      "cell_type": "markdown",
      "metadata": {},
      "source": [
        "### 1"
      ],
      "id": "82292cb0-3dba-49f1-a573-0e26de62736f"
    },
    {
      "cell_type": "code",
      "execution_count": 317,
      "metadata": {},
      "outputs": [],
      "source": [
        "np.concatenate([a,b],axis=0)"
      ],
      "id": "537db331-77da-450b-b1b3-49404be337e5"
    },
    {
      "cell_type": "markdown",
      "metadata": {},
      "source": [
        "### 2"
      ],
      "id": "9fa32b93-1661-49bf-8867-4c6cf34b0246"
    },
    {
      "cell_type": "code",
      "execution_count": 320,
      "metadata": {},
      "outputs": [],
      "source": [
        "a=np.array([1]*10)\n",
        "b=np.array([2]*10)"
      ],
      "id": "42dc69b5-fe1d-492f-bd0d-adb3385560d2"
    },
    {
      "cell_type": "code",
      "execution_count": 324,
      "metadata": {},
      "outputs": [],
      "source": [
        "a.reshape(10,1)"
      ],
      "id": "5757e7fa-717c-4dbb-a466-30c31a808f74"
    },
    {
      "cell_type": "code",
      "execution_count": 326,
      "metadata": {},
      "outputs": [],
      "source": [
        "np.concatenate([a.reshape(10,1),b.reshape(10,1)],axis=0)"
      ],
      "id": "645cda0b-4b97-4361-9398-63da466d99cd"
    },
    {
      "cell_type": "markdown",
      "metadata": {},
      "source": [
        "### 3"
      ],
      "id": "6988712a-2f7b-4218-8e50-e0922d5db1f2"
    },
    {
      "cell_type": "code",
      "execution_count": 332,
      "metadata": {},
      "outputs": [],
      "source": [
        "a=np.array([1]*10)\n",
        "b=np.array([2]*10)"
      ],
      "id": "816334e6-e9ac-4c5b-aa77-d6b4a1b06ce4"
    },
    {
      "cell_type": "code",
      "execution_count": 335,
      "metadata": {},
      "outputs": [],
      "source": [
        "np.concatenate([a.reshape(1,10),b.reshape(1,10)],axis=0)"
      ],
      "id": "240ecd51-825b-48d9-a259-120c4e7a411d"
    },
    {
      "cell_type": "markdown",
      "metadata": {},
      "source": [
        "### 4"
      ],
      "id": "e442486f-7b96-4315-844a-688f222a6327"
    },
    {
      "cell_type": "code",
      "execution_count": 340,
      "metadata": {},
      "outputs": [],
      "source": [
        "np.concatenate([a.reshape(10,1),b.reshape(10,1)],axis=1)"
      ],
      "id": "8d0606ac-3a08-41fb-aadd-3d1fd5086435"
    },
    {
      "cell_type": "markdown",
      "metadata": {},
      "source": [
        "### 5"
      ],
      "id": "2c365f4d-81d8-4a0c-806a-4beb005f06ae"
    },
    {
      "cell_type": "code",
      "execution_count": 343,
      "metadata": {},
      "outputs": [],
      "source": [
        "a.shape"
      ],
      "id": "c9cfe133-41cc-4979-bd76-c7c5742f67af"
    },
    {
      "cell_type": "code",
      "execution_count": 344,
      "metadata": {},
      "outputs": [],
      "source": [
        "b.shape"
      ],
      "id": "e4875c1a-2edd-46da-9762-2544a30e16b0"
    },
    {
      "cell_type": "code",
      "execution_count": 346,
      "metadata": {},
      "outputs": [],
      "source": [
        "np.stack([a,b]).shape"
      ],
      "id": "049422c3-5b4e-45a5-877f-0debd890d88b"
    },
    {
      "cell_type": "code",
      "execution_count": 347,
      "metadata": {},
      "outputs": [],
      "source": [
        "np.stack([a,b])"
      ],
      "id": "a7763c27-6452-400b-9a41-b141e62b443b"
    },
    {
      "cell_type": "markdown",
      "metadata": {},
      "source": [
        "### 6"
      ],
      "id": "b2bf3de2-51b5-4c2c-8ba9-227dd42d239c"
    },
    {
      "cell_type": "code",
      "execution_count": 348,
      "metadata": {},
      "outputs": [],
      "source": [
        "np.stack([a,b],axis=1)"
      ],
      "id": "9c42cc62-c7d2-43cd-9840-1329ceb53001"
    },
    {
      "cell_type": "markdown",
      "metadata": {},
      "source": [
        "## 7~8"
      ],
      "id": "29adcf00-522a-4ced-91e8-859d185aec81"
    },
    {
      "cell_type": "code",
      "execution_count": 349,
      "metadata": {},
      "outputs": [],
      "source": [
        "np.random.seed(43052)\n",
        "a=np.random.randn(10000).reshape(100,100)\n",
        "a"
      ],
      "id": "c0c05215-b896-4e7c-ae32-648de532012d"
    },
    {
      "cell_type": "code",
      "execution_count": 352,
      "metadata": {},
      "outputs": [],
      "source": [
        "a.sum(axis=1)"
      ],
      "id": "02c9983b-abe1-4dab-9252-cbb3457314fa"
    },
    {
      "cell_type": "markdown",
      "metadata": {},
      "source": [
        "### 8"
      ],
      "id": "e87876f8-c551-42f2-bb03-a64ef2b5b1ae"
    },
    {
      "cell_type": "code",
      "execution_count": 353,
      "metadata": {},
      "outputs": [],
      "source": [
        "a.mean(axis=0)"
      ],
      "id": "97522ee5-4f6a-488f-b967-6287cc563a61"
    }
  ],
  "nbformat": 4,
  "nbformat_minor": 5,
  "metadata": {
    "kernelspec": {
      "name": "python3",
      "display_name": "Python 3 (ipykernel)",
      "language": "python"
    },
    "language_info": {
      "name": "python",
      "codemirror_mode": {
        "name": "ipython",
        "version": "3"
      },
      "file_extension": ".py",
      "mimetype": "text/x-python",
      "nbconvert_exporter": "python",
      "pygments_lexer": "ipython3",
      "version": "3.8.16"
    }
  }
}