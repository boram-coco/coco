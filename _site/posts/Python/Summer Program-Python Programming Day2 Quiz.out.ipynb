{
  "cells": [
    {
      "cell_type": "markdown",
      "metadata": {},
      "source": [
        "# Summer Program: Python Programming \\_ Day2 Quiz\n",
        "\n",
        "김보람  \n",
        "2023-07-25\n",
        "\n",
        "#### —\n",
        "\n",
        "title: “Summer Program: Python Programming \\_ Day2 Quiz” author:\n",
        "“김보람” date: “07/25/2023”\n",
        "\n",
        "------------------------------------------------------------------------\n",
        "\n",
        "# lesson 7"
      ],
      "id": "5f1108d1-3af4-43f1-9ebd-57262ed86f7a"
    },
    {
      "cell_type": "code",
      "execution_count": 355,
      "metadata": {},
      "outputs": [],
      "source": [
        "import pandas as pd"
      ],
      "id": "ddccdc1f-821c-4856-af53-de671214f3a8"
    },
    {
      "cell_type": "markdown",
      "metadata": {},
      "source": [
        "### 1"
      ],
      "id": "c968f4fc-18c3-4213-9174-7eac125be2a5"
    },
    {
      "cell_type": "code",
      "execution_count": 354,
      "metadata": {},
      "outputs": [],
      "source": [
        "from IPython.core.display import HTML \n",
        "HTML('<table border=\"1\" class=\"dataframe\">\\n  <thead>\\n    <tr style=\"text-align: right;\">\\n      <th></th>\\n      <th>A</th>\\n      <th>B</th>\\n    </tr>\\n  </thead>\\n  <tbody>\\n    <tr>\\n      <th>0</th>\\n      <td>1</td>\\n      <td>-2</td>\\n    </tr>\\n    <tr>\\n      <th>1</th>\\n      <td>2</td>\\n      <td>-3</td>\\n    </tr>\\n    <tr>\\n      <th>2</th>\\n      <td>3</td>\\n      <td>-4</td>\\n    </tr>\\n  </tbody>\\n</table>')"
      ],
      "id": "26ebc1be-122b-4dc8-8f94-6caf2000c564"
    },
    {
      "cell_type": "code",
      "execution_count": 357,
      "metadata": {},
      "outputs": [],
      "source": [
        "df = pd.DataFrame({'A':[1,2,3],'B':[-2,-3,-4]})\n",
        "df"
      ],
      "id": "8685f9bb-1271-4755-a427-af6781a098ec"
    },
    {
      "cell_type": "markdown",
      "metadata": {},
      "source": [
        "### 2"
      ],
      "id": "bae3468c-624d-4786-83e3-a2ff49b61c49"
    },
    {
      "cell_type": "code",
      "execution_count": 359,
      "metadata": {},
      "outputs": [],
      "source": [
        "df.columns = ['X1','X2']\n",
        "df"
      ],
      "id": "811a6710-34fe-4570-9bdf-4cc72f5fee99"
    },
    {
      "cell_type": "markdown",
      "metadata": {},
      "source": [
        "### 3"
      ],
      "id": "e8e3b919-f58a-46f5-9ba7-86bb9868d198"
    },
    {
      "cell_type": "code",
      "execution_count": 360,
      "metadata": {},
      "outputs": [],
      "source": [
        "df = pd.DataFrame(np.random.normal(size=(100,5)),columns=list('ABCDE'))\n",
        "df"
      ],
      "id": "cdf7676e-cc1c-44b3-8587-63425ae3ae7e"
    },
    {
      "cell_type": "code",
      "execution_count": 363,
      "metadata": {},
      "outputs": [],
      "source": [
        "df[['B','D']]"
      ],
      "id": "90385c05-cfa4-49e3-aad3-278c5f8f4241"
    },
    {
      "cell_type": "markdown",
      "metadata": {},
      "source": [
        "### 4"
      ],
      "id": "73aa17fa-d753-4db3-8e98-6be73eb1444b"
    },
    {
      "cell_type": "code",
      "execution_count": 366,
      "metadata": {},
      "outputs": [],
      "source": [
        "df[-10:]"
      ],
      "id": "84572aaf-47d9-4b59-85a5-50937439553e"
    },
    {
      "cell_type": "markdown",
      "metadata": {},
      "source": [
        "### 5"
      ],
      "id": "f2b724e9-125d-4ac1-aa6a-fbd642eb4d6c"
    },
    {
      "cell_type": "code",
      "execution_count": 368,
      "metadata": {},
      "outputs": [],
      "source": [
        "df[['A','B']][:10]"
      ],
      "id": "91dcdb1c-a53a-43d6-b9c2-e09ee13aa257"
    },
    {
      "cell_type": "code",
      "execution_count": 369,
      "metadata": {},
      "outputs": [],
      "source": [
        "df.loc[:,['A','B']].iloc[:10]"
      ],
      "id": "5cde8acd-ef74-4394-bc4c-a510cba3dee9"
    },
    {
      "cell_type": "markdown",
      "metadata": {},
      "source": [
        "### 6"
      ],
      "id": "2b74ae2d-109c-40cb-a2a1-8ab13208ee4b"
    },
    {
      "cell_type": "code",
      "execution_count": 370,
      "metadata": {},
      "outputs": [],
      "source": [
        "df=pd.read_csv('https://raw.githubusercontent.com/PacktPublishing/Pandas-Cookbook/master/data/movie.csv')\n",
        "df"
      ],
      "id": "d3b4512b-7b41-4de9-ba9e-8f47b3d876f9"
    },
    {
      "cell_type": "code",
      "execution_count": 371,
      "metadata": {},
      "outputs": [],
      "source": [
        "len(df.columns)"
      ],
      "id": "205d4c8d-9fd7-401e-a40b-ceba7e298c75"
    },
    {
      "cell_type": "markdown",
      "metadata": {},
      "source": [
        "### 7"
      ],
      "id": "356c02f4-9633-431b-a29a-5451ef991afc"
    },
    {
      "cell_type": "code",
      "execution_count": 373,
      "metadata": {},
      "outputs": [],
      "source": [
        "index = df.columns\n",
        "index"
      ],
      "id": "c4cbc1b4-bb50-41de-9f56-d6b8fba60487"
    },
    {
      "cell_type": "code",
      "execution_count": 376,
      "metadata": {},
      "outputs": [],
      "source": [
        "[l for l in index if l[0]=='c' or l[0]=='d']"
      ],
      "id": "79d25246-02ef-4fa6-8f3b-ee6c548bbb2d"
    },
    {
      "cell_type": "code",
      "execution_count": 377,
      "metadata": {},
      "outputs": [],
      "source": [
        "len([l for l in index if l[0]=='c' or l[0]=='d'])"
      ],
      "id": "3567a4fe-1837-4758-851e-9bc96816db28"
    },
    {
      "cell_type": "markdown",
      "metadata": {},
      "source": [
        "### 8"
      ],
      "id": "ac18b413-dd90-40f5-830c-4b78caf1236a"
    },
    {
      "cell_type": "code",
      "execution_count": 378,
      "metadata": {},
      "outputs": [],
      "source": [
        "[l for l in df.columns if 'actor' in l]"
      ],
      "id": "3abf9d30-34b2-4950-bbfc-d44ee32fc464"
    },
    {
      "cell_type": "code",
      "execution_count": 379,
      "metadata": {},
      "outputs": [],
      "source": [
        "len([l for l in df.columns if 'actor' in l])"
      ],
      "id": "f9ecf212-f9f8-4495-9201-7891b0e43c95"
    },
    {
      "cell_type": "markdown",
      "metadata": {},
      "source": [
        "### 9"
      ],
      "id": "b36793fb-5120-425b-89c8-8b31117177af"
    },
    {
      "cell_type": "code",
      "execution_count": 380,
      "metadata": {},
      "outputs": [],
      "source": [
        "df.loc[:, ['actor' in l for l in df.columns]]"
      ],
      "id": "c709a2a3-3b47-4bda-901f-35280b011577"
    },
    {
      "cell_type": "markdown",
      "metadata": {},
      "source": [
        "# lesson 9"
      ],
      "id": "9e83dab8-f3db-4a9c-9863-d0e5eb859c8d"
    },
    {
      "cell_type": "code",
      "execution_count": 381,
      "metadata": {},
      "outputs": [],
      "source": [
        "np.random.seed(20230426)\n",
        "day = ['2023-04-24(Mon)','2023-04-25(Tue)','2023-04-26(Wed)','2023-04-27(Thu)','2023-04-28(Fri)',\n",
        "       '2023-05-01(Mon)','2023-05-02(Tue)','2023-05-03(Wed)','2023-05-04(Thu)','2023-05-05(Fri)',\n",
        "       '2023-05-08(Mon)','2023-05-09(Tue)','2023-05-10(Wed)','2023-05-11(Thu)','2023-05-12(Fri)']\n",
        "hours1 = np.random.randn(15).cumsum()*2\n",
        "hours1 = hours1 - hours1.min() +1\n",
        "hours2 = np.random.randn(15).cumsum()*2\n",
        "hours2 = hours2 - hours2.min() +1\n",
        "\n",
        "df = pd.DataFrame({'hours(R)':hours1, 'hours(Python)':hours2},index=day)\n",
        "df"
      ],
      "id": "ebd07757-e789-4c6d-9c6a-5aa06f306275"
    },
    {
      "cell_type": "markdown",
      "metadata": {},
      "source": [
        "### 1"
      ],
      "id": "e61db75b-117c-4812-ad28-55785cc2625e"
    },
    {
      "cell_type": "code",
      "execution_count": 384,
      "metadata": {},
      "outputs": [],
      "source": [
        "index = [l.replace(')','').split('(') for l in df.index]"
      ],
      "id": "35794f30-3c0b-43e0-8cbb-9f8a236b143a"
    },
    {
      "cell_type": "code",
      "execution_count": 385,
      "metadata": {},
      "outputs": [],
      "source": [
        "index"
      ],
      "id": "a4aadae4-ac75-4809-96f6-8d2e44ba3870"
    },
    {
      "cell_type": "code",
      "execution_count": 387,
      "metadata": {},
      "outputs": [],
      "source": [
        "df.assign(day = [day for day, _ in index], weekday = [weekday for _, weekday in index])\n"
      ],
      "id": "ed7c84e3-a741-4649-b70e-e4519720d179"
    },
    {
      "cell_type": "code",
      "execution_count": 391,
      "metadata": {},
      "outputs": [],
      "source": [
        "df = df.assign(day = [day for day, _ in index], weekday = [weekday for _, weekday in index]).reset_index().loc[:,'hours(R)':]\n",
        "df"
      ],
      "id": "3e8a17f9-17c0-49e4-8091-72f9facb5986"
    },
    {
      "cell_type": "markdown",
      "metadata": {},
      "source": [
        "### 2"
      ],
      "id": "bd2da211-56bd-40f5-bb8d-4a6198e5ff63"
    },
    {
      "cell_type": "code",
      "execution_count": 395,
      "metadata": {},
      "outputs": [],
      "source": [
        "df.query('day < \"2023-05-01\"')['hours(R)'].sum()"
      ],
      "id": "1550340c-c4f0-4785-9f3a-9ba2579c5bb6"
    },
    {
      "cell_type": "code",
      "execution_count": 396,
      "metadata": {},
      "outputs": [],
      "source": [
        "df.query('day < \"2023-05-01\"')['hours(Python)'].sum()"
      ],
      "id": "d8638781-4469-4bc9-bc89-3922bb43240b"
    },
    {
      "cell_type": "markdown",
      "metadata": {},
      "source": [
        "-   python\n",
        "\n",
        "### 3"
      ],
      "id": "16563a65-cae1-48dd-8304-6fa7344f58de"
    },
    {
      "cell_type": "code",
      "execution_count": 397,
      "metadata": {},
      "outputs": [],
      "source": [
        "{s:df.loc[df.weekday == s, 'hours(R)'].sum() for s in set(df.weekday)}"
      ],
      "id": "131a2c6b-34c8-458a-8776-a9adbedac575"
    },
    {
      "cell_type": "markdown",
      "metadata": {},
      "source": [
        "### 4"
      ],
      "id": "7ccc3015-ee3b-4a0b-8109-cc2be74b8d11"
    },
    {
      "cell_type": "code",
      "execution_count": 401,
      "metadata": {},
      "outputs": [],
      "source": [
        "{s:df.loc[df.weekday == s, 'hours(R)'].sum() for s in set(df.weekday)}"
      ],
      "id": "6456030a-0447-4015-a9c6-0e524c04d2c4"
    },
    {
      "cell_type": "code",
      "execution_count": 400,
      "metadata": {},
      "outputs": [],
      "source": [
        "{s:df.loc[df.weekday == s, 'hours(Python)'].sum() for s in set(df.weekday)}"
      ],
      "id": "3d61697d-d8d5-4f4b-99b8-03778a7e1c0e"
    },
    {
      "cell_type": "code",
      "execution_count": 402,
      "metadata": {},
      "outputs": [],
      "source": [
        "{s:df.loc[df.weekday == s,'hours(R)',].sum()+df.loc[df.weekday == s,'hours(Python)'].sum() for s in set(df.weekday)}"
      ],
      "id": "db059197-9b0e-4e60-9c63-bd7d7a03c5c1"
    },
    {
      "cell_type": "markdown",
      "metadata": {},
      "source": [
        "### 5"
      ],
      "id": "49178b7f-1194-420c-913b-fd3dbdd6b0d0"
    },
    {
      "cell_type": "code",
      "execution_count": 410,
      "metadata": {},
      "outputs": [],
      "source": [
        "import matplotlib.pyplot as plt"
      ],
      "id": "db274cd6-15bf-4508-9573-67d7d7ac78e9"
    },
    {
      "cell_type": "code",
      "execution_count": 411,
      "metadata": {},
      "outputs": [
        {
          "output_type": "display_data",
          "metadata": {},
          "data": {
            "image/png": "[encoded data removed]"
          }
        }
      ],
      "source": [
        "y = df['hours(R)'] - df['hours(Python)']\n",
        "plt.plot(y,'--o')"
      ],
      "id": "27f83635-54ee-4e7a-b084-3b78362b05d6"
    },
    {
      "cell_type": "markdown",
      "metadata": {},
      "source": [
        "# lesson 10"
      ],
      "id": "8cc52ae2-07a4-42fd-8870-345764a8e2be"
    },
    {
      "cell_type": "code",
      "execution_count": 4,
      "metadata": {},
      "outputs": [],
      "source": [
        "df = pd.read_csv('https://raw.githubusercontent.com/guebin/DV2022/master/posts/FIFA23_official_data.csv')\n",
        "df.head(n=3)"
      ],
      "id": "319bf9be-376b-4e97-a173-254ccfed5a77"
    },
    {
      "cell_type": "markdown",
      "metadata": {},
      "source": [
        "### 1"
      ],
      "id": "904fb261-d31c-4b15-b4c9-d865dea45f44"
    },
    {
      "cell_type": "code",
      "execution_count": 47,
      "metadata": {},
      "outputs": [],
      "source": [
        "df.Position"
      ],
      "id": "1a473402-9b6d-45d3-a5f5-b00cd0346d5b"
    },
    {
      "cell_type": "code",
      "execution_count": 27,
      "metadata": {},
      "outputs": [],
      "source": [
        "df.loc[:,'Position']"
      ],
      "id": "c6838293-7d46-4c81-bdae-a141f1c17e20"
    },
    {
      "cell_type": "code",
      "execution_count": 12,
      "metadata": {},
      "outputs": [],
      "source": [
        "s = df[\"Position\"]\n",
        "s"
      ],
      "id": "d0fd2ed7-02d4-460f-9f78-65cadde7d04e"
    },
    {
      "cell_type": "markdown",
      "metadata": {},
      "source": [
        "### 2"
      ],
      "id": "8199357d-f9f6-4b76-838e-28e4205bbdc3"
    },
    {
      "cell_type": "code",
      "execution_count": 24,
      "metadata": {},
      "outputs": [],
      "source": [
        "s = s.dropna()\n",
        "s"
      ],
      "id": "adae90c9-d6b3-4d4d-b5dc-e898f53a5fc3"
    },
    {
      "cell_type": "code",
      "execution_count": 26,
      "metadata": {},
      "outputs": [],
      "source": [],
      "id": "459ba038-8b22-4237-9746-975865f0fabe"
    },
    {
      "cell_type": "markdown",
      "metadata": {},
      "source": [
        "### 3"
      ],
      "id": "75886f9a-37be-4d6d-a118-aeebd36fb135"
    },
    {
      "cell_type": "code",
      "execution_count": 14,
      "metadata": {},
      "outputs": [],
      "source": [
        "position_dict = {\n",
        "    'GOALKEEPER':['GK'],\n",
        "    'DEFENDER':['CB','RCB','LCB','RB','LB','RWB','LWB'],\n",
        "    'MIDFIELDER':['CM','RCM','LCM','CDM','RDM','LDM','CAM','RAM','LAM','RM','LM'],\n",
        "    'FORWARD':['ST','CF','RF','LF','RW','LW','RS','LS'],\n",
        "    'SUB':['SUB'],\n",
        "    'RES':['RES']\n",
        "}"
      ],
      "id": "267d7999-8212-4d85-9a53-9c82f368551a"
    },
    {
      "cell_type": "code",
      "execution_count": 56,
      "metadata": {},
      "outputs": [],
      "source": [
        "lst = list(map(lambda x: x.split('>')[-1],s))"
      ],
      "id": "13bb9c5e-5a99-408a-8a61-ca0a7fbf0bad"
    },
    {
      "cell_type": "code",
      "execution_count": 58,
      "metadata": {},
      "outputs": [],
      "source": [
        "s.apply(lambda x: x.split('>')[-1])"
      ],
      "id": "da6dc112-9412-46a4-81a2-85e18c87befc"
    },
    {
      "cell_type": "code",
      "execution_count": 65,
      "metadata": {},
      "outputs": [],
      "source": [
        "[(k,v) for k,v in position_dict.items()]"
      ],
      "id": "36698b02-1f8e-4796-b415-7e8228677228"
    },
    {
      "cell_type": "code",
      "execution_count": 68,
      "metadata": {},
      "outputs": [],
      "source": [
        "[k for l in s.apply(lambda x: x.split('>')[-1]) for k,v in  position_dict.items() if l in v]"
      ],
      "id": "7dbd936c-994a-4cd3-8358-59a8f3359eb0"
    },
    {
      "cell_type": "code",
      "execution_count": 46,
      "metadata": {},
      "outputs": [],
      "source": [
        "# list(map(lambda l : [k for l in s for k,v in position_dict.items() if l in v],s))"
      ],
      "id": "46d31b13-a3a8-4855-9e50-a8843f381234"
    },
    {
      "cell_type": "markdown",
      "metadata": {},
      "source": [
        "### 4"
      ],
      "id": "3ede2017-f6cc-404b-915e-0bf18a3a2ba2"
    },
    {
      "cell_type": "code",
      "execution_count": 66,
      "metadata": {},
      "outputs": [],
      "source": [
        "df.Age"
      ],
      "id": "f4f2e777-597b-4407-9ee8-51cb9016d0c2"
    },
    {
      "cell_type": "code",
      "execution_count": 69,
      "metadata": {},
      "outputs": [],
      "source": [
        "df.Age.mean()"
      ],
      "id": "068b3c62-4473-4b43-b2a1-1b679bc52539"
    },
    {
      "cell_type": "code",
      "execution_count": 71,
      "metadata": {},
      "outputs": [],
      "source": [
        "list(map(lambda x: 'OB' if x>df.Age.mean() else 'YB', df.Age))"
      ],
      "id": "364933fa-3a7e-49d0-a2e8-09582dc8414b"
    },
    {
      "cell_type": "markdown",
      "metadata": {},
      "source": [
        "or"
      ],
      "id": "6b69c50d-78ff-40eb-9969-b9f62a47ac63"
    },
    {
      "cell_type": "code",
      "execution_count": null,
      "metadata": {},
      "outputs": [],
      "source": [
        "df.Age.apply("
      ],
      "id": "bdb76f87-ab20-475c-99f9-32aeec8a1b18"
    },
    {
      "cell_type": "markdown",
      "metadata": {},
      "source": [
        "### 5\n",
        "\n",
        "BMI = 키 / 몸무게^2"
      ],
      "id": "d0df44e5-1293-467e-b783-47bf095ea906"
    },
    {
      "cell_type": "code",
      "execution_count": null,
      "metadata": {},
      "outputs": [],
      "source": [
        "df.Height.apply( x[:-2])"
      ],
      "id": "8086480c-3be5-4dd1-a368-855980be6334"
    },
    {
      "cell_type": "code",
      "execution_count": 74,
      "metadata": {},
      "outputs": [],
      "source": [
        "df.Height"
      ],
      "id": "05391bf4-51e8-412f-9726-f5c578310f83"
    },
    {
      "cell_type": "code",
      "execution_count": 75,
      "metadata": {},
      "outputs": [],
      "source": [
        "df.Weight"
      ],
      "id": "89267931-42a1-47b7-b47b-94b81af50d2f"
    },
    {
      "cell_type": "code",
      "execution_count": 82,
      "metadata": {},
      "outputs": [],
      "source": [
        "_df = df.loc[:,'Height':'Weight'].applymap(lambda x: int(x[:-2])).eval('BMI=Height/Weight**2')\n",
        "_df"
      ],
      "id": "081fcb97-6dc3-4525-bf11-f19e1575689a"
    },
    {
      "cell_type": "markdown",
      "metadata": {},
      "source": [
        "### 6"
      ],
      "id": "e99d2e44-7caa-4eb9-b846-aa9283f02d9e"
    },
    {
      "cell_type": "code",
      "execution_count": 83,
      "metadata": {},
      "outputs": [],
      "source": [
        "_df.BMI.mean()"
      ],
      "id": "a1c601af-8c50-4ef0-957a-d64748a2d2d8"
    },
    {
      "cell_type": "code",
      "execution_count": 84,
      "metadata": {},
      "outputs": [],
      "source": [
        "list(map(lambda x: 'H' if x>_df.BMI.mean() else 'L', _df.BMI))"
      ],
      "id": "a380d67c-bb57-4a13-be22-498e33c3429c"
    },
    {
      "cell_type": "code",
      "execution_count": 85,
      "metadata": {},
      "outputs": [],
      "source": [
        "_df.BMI.apply(lambda x: 'H' if x>_df.BMI.mean() else 'L')"
      ],
      "id": "d47a1e3b-a30b-4fd5-861b-2c409da587e6"
    },
    {
      "cell_type": "markdown",
      "metadata": {},
      "source": [
        "# lesson 11\n",
        "\n",
        "## lesson"
      ],
      "id": "4c833eab-60e2-463e-8ff8-be6aa656d475"
    },
    {
      "cell_type": "code",
      "execution_count": 101,
      "metadata": {},
      "outputs": [],
      "source": [
        "_category = ['A']*5+['B']*5\n",
        "_value = np.concatenate([np.random.randn(5), np.random.randn(5)+10])\n",
        "df = pd.DataFrame({'category':_category, 'value':_value})\n",
        "df"
      ],
      "id": "41c9998b-0fc8-4ebc-b687-8d0cb4af82ae"
    },
    {
      "cell_type": "code",
      "execution_count": 102,
      "metadata": {},
      "outputs": [],
      "source": [
        "df.groupby(\"category\").mean()"
      ],
      "id": "6c4319d9-86bd-45f7-8150-c98ad2944e93"
    },
    {
      "cell_type": "code",
      "execution_count": 103,
      "metadata": {},
      "outputs": [],
      "source": [
        "df.groupby(\"category\").aggregate(np.mean)"
      ],
      "id": "3c696792-66ca-405b-960e-6f93d5eec80d"
    },
    {
      "cell_type": "markdown",
      "metadata": {},
      "source": [
        "### flights data"
      ],
      "id": "b9596587-ff44-4cb0-a606-49ec57b128a1"
    },
    {
      "cell_type": "code",
      "execution_count": 118,
      "metadata": {},
      "outputs": [
        {
          "output_type": "stream",
          "name": "stdout",
          "text": [
            "<class 'pandas.core.frame.DataFrame'>\n",
            "RangeIndex: 58492 entries, 0 to 58491\n",
            "Data columns (total 14 columns):\n",
            " #   Column     Non-Null Count  Dtype  \n",
            "---  ------     --------------  -----  \n",
            " 0   MONTH      58492 non-null  int64  \n",
            " 1   DAY        58492 non-null  int64  \n",
            " 2   WEEKDAY    58492 non-null  int64  \n",
            " 3   AIRLINE    58492 non-null  object \n",
            " 4   ORG_AIR    58492 non-null  object \n",
            " 5   DEST_AIR   58492 non-null  object \n",
            " 6   SCHED_DEP  58492 non-null  int64  \n",
            " 7   DEP_DELAY  57659 non-null  float64\n",
            " 8   AIR_TIME   57474 non-null  float64\n",
            " 9   DIST       58492 non-null  int64  \n",
            " 10  SCHED_ARR  58492 non-null  int64  \n",
            " 11  ARR_DELAY  57474 non-null  float64\n",
            " 12  DIVERTED   58492 non-null  int64  \n",
            " 13  CANCELLED  58492 non-null  int64  \n",
            "dtypes: float64(3), int64(8), object(3)\n",
            "memory usage: 6.2+ MB"
          ]
        }
      ],
      "source": [
        "df=pd.read_csv('https://raw.githubusercontent.com/PacktPublishing/Pandas-Cookbook/master/data/flights.csv')\n",
        "df.info()"
      ],
      "id": "d59679aa-cf5b-453c-b9df-0a6a27f29c62"
    },
    {
      "cell_type": "markdown",
      "metadata": {},
      "source": [
        "`-` 예제1: 항공사(AIRLINE)별로 도착지연시간의(ARR_DELAY)의 평균을\n",
        "구하라."
      ],
      "id": "fcb6baa9-bb51-4796-9281-fb0ba5264cb2"
    },
    {
      "cell_type": "code",
      "execution_count": 120,
      "metadata": {},
      "outputs": [],
      "source": [
        "df.groupby(\"AIRLINE\")[\"ARR_DELAY\"].mean()"
      ],
      "id": "cf06450d-ff4f-4597-b66d-86f570ccbe6e"
    },
    {
      "cell_type": "code",
      "execution_count": 124,
      "metadata": {},
      "outputs": [],
      "source": [
        "df.groupby(\"AIRLINE\").aggregate({'ARR_DELAY':[np.mean,'count']})"
      ],
      "id": "07927996-b354-427e-b7e6-ce90b3647051"
    },
    {
      "cell_type": "markdown",
      "metadata": {},
      "source": [
        "`-` 예제2: 항공사(AIRLINE)별로 비행취소건수(CANCELLED)의 합계를 구하라.\n",
        "취소건수가 가장 높은 두개의 항공사는 어디인가?"
      ],
      "id": "9dda96b1-555b-4fef-98bf-8f9301a3f8e5"
    },
    {
      "cell_type": "code",
      "execution_count": 137,
      "metadata": {},
      "outputs": [],
      "source": [
        "df.groupby(\"AIRLINE\").aggregate({'CANCELLED':'sum'}).sort_values(by=\"CANCELLED\", ascending=False)"
      ],
      "id": "055a2281-cffc-47bb-a7cf-77f641fb36b9"
    },
    {
      "cell_type": "markdown",
      "metadata": {},
      "source": [
        "`-` 예제3: 항공사(AIRLINE)별로 비행취소율(CANCELLED)을 구하라.\n",
        "비행취소율이 가장 높은 두개의 항공사는 어디인가?"
      ],
      "id": "f17a1174-e019-470c-92dd-e2afd61081c5"
    },
    {
      "cell_type": "code",
      "execution_count": 139,
      "metadata": {},
      "outputs": [],
      "source": [
        "df.groupby(\"AIRLINE\").aggregate({'CANCELLED':'mean'}).sort_values(by=\"CANCELLED\", ascending=False)"
      ],
      "id": "98f8b091-5915-4a63-a8c0-ad5035790d0f"
    },
    {
      "cell_type": "markdown",
      "metadata": {},
      "source": [
        "`-` 예제5: 아래는 운행거리의 요약통계량이다. 운행거리를 구간별로\n",
        "`[-np.inf,391,690,1199,np.inf]`와 같이 나눈뒤 비행취소건수와 취소율을\n",
        "구하여라."
      ],
      "id": "96d8ffb3-a5de-4d58-bff3-c746f1b1ebda"
    },
    {
      "cell_type": "code",
      "execution_count": 141,
      "metadata": {},
      "outputs": [],
      "source": [
        "df.DIST.describe()"
      ],
      "id": "1b7a073d-3f33-49ab-8465-a26ef8c31e45"
    },
    {
      "cell_type": "code",
      "execution_count": 142,
      "metadata": {},
      "outputs": [],
      "source": [
        "_bin = [-np.inf,391,690,1199,np.inf]"
      ],
      "id": "d480d176-d385-41a8-abe6-f006fcebdaf3"
    },
    {
      "cell_type": "code",
      "execution_count": 147,
      "metadata": {},
      "outputs": [],
      "source": [
        "df.assign(DIST2 = pd.cut(df.DIST,_bin)).groupby('DIST2').agg('mean')"
      ],
      "id": "28eeba39-6179-4b94-9772-bc6bf20cca79"
    },
    {
      "cell_type": "markdown",
      "metadata": {},
      "source": [
        "## Quiz"
      ],
      "id": "0ead7545-3376-4d24-9437-5dca58bc2d11"
    },
    {
      "cell_type": "code",
      "execution_count": 149,
      "metadata": {},
      "outputs": [],
      "source": [
        "df = pd.read_csv('https://raw.githubusercontent.com/guebin/DV2022/master/posts/HRDataset_v14.csv')\n",
        "df"
      ],
      "id": "533a7cbd-5328-43f2-b832-f6112b8d7e52"
    },
    {
      "cell_type": "markdown",
      "metadata": {},
      "source": [
        "### 1"
      ],
      "id": "833fed98-326e-4748-8b7b-a005822e2a9d"
    },
    {
      "cell_type": "code",
      "execution_count": 163,
      "metadata": {},
      "outputs": [],
      "source": [
        "df.groupby(by='RaceDesc').agg({'EmpID':'count'})"
      ],
      "id": "9e5c3e38-13f5-4e8f-8965-3e331e35f84e"
    },
    {
      "cell_type": "markdown",
      "metadata": {},
      "source": [
        "### 2\n",
        "\n",
        "’RaceDesc==White’의 성별(Sex)임금차이는 2000이상이다."
      ],
      "id": "2c33bbf6-1a99-4a14-a444-4266291f3bb4"
    },
    {
      "cell_type": "code",
      "execution_count": 170,
      "metadata": {},
      "outputs": [],
      "source": [
        "df.groupby(by=['RaceDesc','Sex']).agg({'Salary':'mean'})"
      ],
      "id": "8380bdf4-7f86-47bf-9afe-f3c5c4f479a1"
    },
    {
      "cell_type": "markdown",
      "metadata": {},
      "source": [
        "### 3\n",
        "\n",
        "퇴직한사람(Termd==1)은 모두 104명이며 백인여성의 퇴직자수가 가장 많다."
      ],
      "id": "58aa14b8-48a9-44b5-a3e3-cd7df8f1576a"
    },
    {
      "cell_type": "code",
      "execution_count": 153,
      "metadata": {},
      "outputs": [],
      "source": [
        "(df.Termd==1).sum()"
      ],
      "id": "cf16852a-b490-46e9-a74e-79d55e456f46"
    },
    {
      "cell_type": "code",
      "execution_count": 169,
      "metadata": {},
      "outputs": [],
      "source": [
        "df.groupby(['RaceDesc','Sex']).agg({'Termd':'sum'})"
      ],
      "id": "a841f823-8467-4e3c-99cd-1e09da7f2faf"
    },
    {
      "cell_type": "markdown",
      "metadata": {},
      "source": [
        "### 4\n",
        "\n",
        "퇴직한사람중 아시아인의 비율은 10%가 넘지 않는다."
      ],
      "id": "63636f38-88e5-46d6-b2c3-54bc8327b684"
    },
    {
      "cell_type": "code",
      "execution_count": 168,
      "metadata": {},
      "outputs": [],
      "source": [
        "df.groupby(by=['RaceDesc']).agg({'Termd':'sum'})"
      ],
      "id": "3c858075-1505-4da3-8c68-d043945b0c5e"
    },
    {
      "cell_type": "code",
      "execution_count": 156,
      "metadata": {},
      "outputs": [],
      "source": [
        "9/104"
      ],
      "id": "f64ef4bf-59b9-4164-b72d-fe3a8c6e2c7d"
    },
    {
      "cell_type": "markdown",
      "metadata": {},
      "source": [
        "### 5\n",
        "\n",
        "\\[성별(Sex), 결혼유무(MarriedID)\\] 별 연봉(Salary)의 평균을 조사하라.\n",
        "어떠한 그룹이 가장 평균연봉이 적은가?"
      ],
      "id": "c0e47a30-b611-41fd-89bc-7d531b1e37c5"
    },
    {
      "cell_type": "code",
      "execution_count": 167,
      "metadata": {},
      "outputs": [],
      "source": [
        "df.groupby(['Sex','MarriedID']).agg({'Salary':'mean'})"
      ],
      "id": "2536af7c-39f7-481f-a730-f245c259333e"
    },
    {
      "cell_type": "markdown",
      "metadata": {},
      "source": [
        "### 6\n",
        "\n",
        "\\[성별(Sex), 인종별(RaceDesc)\\] 별 연봉(Salary)의 중앙값(‘median’)을\n",
        "조사하라. 연봉의 중앙값이 가장 높은 그룹은 무엇인가?"
      ],
      "id": "26a6300d-18ae-400b-a7bb-dcbbeb9b0f7c"
    },
    {
      "cell_type": "code",
      "execution_count": 166,
      "metadata": {},
      "outputs": [],
      "source": [
        "df.groupby(['Sex','RaceDesc']).agg({'Salary':'median'})"
      ],
      "id": "075786c3-c878-4be9-8407-ab6af2674481"
    },
    {
      "cell_type": "markdown",
      "metadata": {},
      "source": [
        "### 7\n",
        "\n",
        "\\[성별(Sex), 인종별(RaceDesc)\\] 별 연봉(Salary)의 중앙값(‘median’)과\n",
        "근무인원수를 함께 조사하라. 연봉의 중앙값이 가장 높은 그룹이 혜택을 받는\n",
        "그룹이라고 느껴지는가?"
      ],
      "id": "3c2c72d9-ebd3-4663-8696-16e627996c7b"
    },
    {
      "cell_type": "code",
      "execution_count": 159,
      "metadata": {},
      "outputs": [],
      "source": [
        "df.groupby(['Sex','RaceDesc']).agg({'Salary':['median','count']})"
      ],
      "id": "94f2f04e-8ddf-45cd-83ba-d2f732098f24"
    },
    {
      "cell_type": "markdown",
      "metadata": {},
      "source": [
        "------------------------------------------------------------------------\n",
        "\n",
        "jupyter: kernelspec: display_name: Python 3 (ipykernel) language: python\n",
        "name: python3 language_info: codemirror_mode: name: ipython version: 3\n",
        "file_extension: .py mimetype: text/x-python name: python\n",
        "nbconvert_exporter: python pygments_lexer: ipython3 version: 3.8.16\n",
        "\n",
        "------------------------------------------------------------------------"
      ],
      "id": "bf4a53bb-8107-46cc-a75e-9051e3ccd185"
    }
  ],
  "nbformat": 4,
  "nbformat_minor": 5,
  "metadata": {
    "kernelspec": {
      "display_name": "Python 3",
      "language": "python",
      "name": "python3"
    }
  }
}