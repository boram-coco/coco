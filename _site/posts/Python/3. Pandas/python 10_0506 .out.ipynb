{
  "cells": [
    {
      "cell_type": "markdown",
      "metadata": {},
      "source": [
        "# 파이썬 (0506) 10주차\n",
        "\n",
        "김보람  \n",
        "2022-05-06"
      ],
      "id": "d7d925fd-8091-466b-a1f5-5080110ba426"
    },
    {
      "cell_type": "code",
      "execution_count": 4,
      "metadata": {},
      "outputs": [
        {
          "output_type": "stream",
          "name": "stdout",
          "text": [
            "Requirement already satisfied: numpy in /home/koinup4/anaconda3/envs/py37/lib/python3.7/site-packages (1.21.6)\n",
            "Collecting pandas\n",
            "  Downloading pandas-1.3.5-cp37-cp37m-manylinux_2_17_x86_64.manylinux2014_x86_64.whl (11.3 MB)\n",
            "     ━━━━━━━━━━━━━━━━━━━━━━━━━━━━━━━━━━━━━━━━ 11.3/11.3 MB 89.6 MB/s eta 0:00:00a 0:00:01\n",
            "Requirement already satisfied: pytz>=2017.3 in /home/koinup4/anaconda3/envs/py37/lib/python3.7/site-packages (from pandas) (2022.7.1)\n",
            "Requirement already satisfied: numpy>=1.17.3 in /home/koinup4/anaconda3/envs/py37/lib/python3.7/site-packages (from pandas) (1.21.6)\n",
            "Requirement already satisfied: python-dateutil>=2.7.3 in /home/koinup4/anaconda3/envs/py37/lib/python3.7/site-packages (from pandas) (2.8.2)\n",
            "Requirement already satisfied: six>=1.5 in /home/koinup4/anaconda3/envs/py37/lib/python3.7/site-packages (from python-dateutil>=2.7.3->pandas) (1.16.0)\n",
            "Installing collected packages: pandas\n",
            "Successfully installed pandas-1.3.5"
          ]
        }
      ],
      "source": [
        "!pip install numpy\n",
        "!pip install pandas"
      ],
      "id": "950cbcc3-9fc7-4690-960a-f46e304718c1"
    },
    {
      "cell_type": "code",
      "execution_count": 5,
      "metadata": {
        "tags": []
      },
      "outputs": [],
      "source": [
        "import numpy as np\n",
        "import pandas as pd"
      ],
      "id": "74c88906-95a8-4fa1-83b5-0ec9373881bd"
    },
    {
      "cell_type": "markdown",
      "metadata": {},
      "source": [
        "# 부분 데이터 꺼내기: 판다스를 왜 써야할까?\n",
        "\n",
        "### 기본 인덱싱\n",
        "\n",
        "`-`예제1: 기본인덱싱"
      ],
      "id": "12631ea1-ed89-4a5b-88d6-9d2d0ff91651"
    },
    {
      "cell_type": "code",
      "execution_count": 6,
      "metadata": {},
      "outputs": [],
      "source": [
        "a='asdf'\n",
        "a[2]"
      ],
      "id": "3f69b292-fd0d-46ca-a397-b8ac76258167"
    },
    {
      "cell_type": "code",
      "execution_count": 7,
      "metadata": {},
      "outputs": [],
      "source": [
        "a[-1]"
      ],
      "id": "74172f60-100c-4ef5-9dbd-dfa20614e37a"
    },
    {
      "cell_type": "markdown",
      "metadata": {},
      "source": [
        "`-` 예제2: 슬라이싱"
      ],
      "id": "0bcdad10-cdc3-4a71-866e-d87b941eb5e1"
    },
    {
      "cell_type": "code",
      "execution_count": 8,
      "metadata": {},
      "outputs": [],
      "source": [
        "a='asdf'\n",
        "a[1:3]"
      ],
      "id": "079a8756-db2b-4f7c-ad44-136413743a45"
    },
    {
      "cell_type": "code",
      "execution_count": 9,
      "metadata": {},
      "outputs": [],
      "source": [
        "a[-2:]"
      ],
      "id": "5502a74c-bfb7-4457-a0ac-2f600e2a8ab7"
    },
    {
      "cell_type": "markdown",
      "metadata": {},
      "source": [
        "`-` 예제3: 스트라이딩"
      ],
      "id": "f77fac82-9a87-41db-bd49-41f573ef92c4"
    },
    {
      "cell_type": "code",
      "execution_count": 10,
      "metadata": {},
      "outputs": [],
      "source": [
        "a='afsdf'\n",
        "a[::2]"
      ],
      "id": "f0368e87-6bf1-44f8-9070-ddcdbacdcf86"
    },
    {
      "cell_type": "markdown",
      "metadata": {},
      "source": [
        "`-` 예제4: 불가능한것"
      ],
      "id": "bc0f386e-c7f3-4e14-93c5-9788fb2df013"
    },
    {
      "cell_type": "code",
      "execution_count": 12,
      "metadata": {},
      "outputs": [],
      "source": [
        "a='afsd'\n",
        "a[[1,2]] # 리스트로 전달해서 뽑는것은 불가능 -> 정수인덱스 리스트화시켜서 인덱싱하는것"
      ],
      "id": "17c98baf-f3ab-41e8-b445-d1a2fc1abe37"
    },
    {
      "cell_type": "code",
      "execution_count": 13,
      "metadata": {},
      "outputs": [],
      "source": [
        "a='afsd'\n",
        "a[[True,True,False,True]] # 리스트로 전달해서 뽑는것은 불가능 -> 정수인덱스 리스트화시켜서 인덱싱하는것"
      ],
      "id": "d457d049-2f80-4e5f-adc3-ba5bd1bb731d"
    },
    {
      "cell_type": "markdown",
      "metadata": {},
      "source": [
        "### 팬시인덱싱\n",
        "\n",
        "`-` 예제1: 인덱스의 리스트(혹은 ndarray)를 전달"
      ],
      "id": "54c035bf-643e-453c-9b00-ea0c3c7eb1a3"
    },
    {
      "cell_type": "code",
      "execution_count": 18,
      "metadata": {},
      "outputs": [],
      "source": [
        "a=np.arange(5)\n",
        "a[0]"
      ],
      "id": "23702f63-cbdc-4108-920d-62b295b86864"
    },
    {
      "cell_type": "code",
      "execution_count": 15,
      "metadata": {},
      "outputs": [],
      "source": [
        "a[[0,1]]"
      ],
      "id": "8d6869c5-5472-4717-931f-4799b1ff8cda"
    },
    {
      "cell_type": "code",
      "execution_count": 17,
      "metadata": {},
      "outputs": [],
      "source": [
        "a[[0,1,-2]]"
      ],
      "id": "772f5688-5e26-45e7-97d9-c2e86a243fec"
    },
    {
      "cell_type": "markdown",
      "metadata": {},
      "source": [
        "`-` 예제2: bool로 이루어진 리스트 (혹은 ndarray)를 전달"
      ],
      "id": "2d1269d6-f4d9-4957-b35c-39dcaaa760f2"
    },
    {
      "cell_type": "code",
      "execution_count": 19,
      "metadata": {},
      "outputs": [],
      "source": [
        "a=np.arange(55,61)\n",
        "a"
      ],
      "id": "3f51d899-a69c-45e1-84b1-9ad035177698"
    },
    {
      "cell_type": "code",
      "execution_count": 22,
      "metadata": {},
      "outputs": [],
      "source": [
        "a[[True,True,False,True,True,False]]"
      ],
      "id": "cb775ff1-4d01-4ccb-9912-b3d134bc1274"
    },
    {
      "cell_type": "code",
      "execution_count": 23,
      "metadata": {},
      "outputs": [],
      "source": [
        "a<58"
      ],
      "id": "ece2ec97-caaf-4201-b813-7d4ee1c4c485"
    },
    {
      "cell_type": "code",
      "execution_count": 24,
      "metadata": {},
      "outputs": [],
      "source": [
        "a[a<58]"
      ],
      "id": "48f2b8a1-890f-4075-8a43-e8f29e3b9953"
    },
    {
      "cell_type": "markdown",
      "metadata": {},
      "source": [
        "### 2차원 자료형의 인덱싱\n",
        "\n",
        "`-` 예제1"
      ],
      "id": "a11a6066-de54-4e1b-9472-66fa2f868ff2"
    },
    {
      "cell_type": "code",
      "execution_count": 25,
      "metadata": {},
      "outputs": [],
      "source": [
        "a=np.arange(4*3).reshape(4,3)\n",
        "a"
      ],
      "id": "3ce02b93-f688-4f9c-b813-a0f151159a9c"
    },
    {
      "cell_type": "code",
      "execution_count": 26,
      "metadata": {},
      "outputs": [],
      "source": [
        "a[0:2,1]"
      ],
      "id": "85784410-b614-43f6-a60f-883ea70fb2c2"
    },
    {
      "cell_type": "markdown",
      "metadata": {},
      "source": [
        "`-` 예제2 : 차원을 유지하면서 인덱싱을 하고 싶으면?"
      ],
      "id": "64a01ef2-1cc2-4d3a-8d9c-6658cf4fab35"
    },
    {
      "cell_type": "code",
      "execution_count": 27,
      "metadata": {},
      "outputs": [],
      "source": [
        "a[0:2,[1]]"
      ],
      "id": "643d6107-9343-49fe-88be-aece0e421613"
    },
    {
      "cell_type": "markdown",
      "metadata": {},
      "source": [
        "### HASH\n",
        "\n",
        "`-` 예제1 : (key, value)"
      ],
      "id": "cb2099a3-caa3-42b1-9b41-4f321e9b905f"
    },
    {
      "cell_type": "code",
      "execution_count": 28,
      "metadata": {},
      "outputs": [],
      "source": [
        "d={'att':67, 'rep':45, 'mid':30, 'fin':100}\n",
        "d"
      ],
      "id": "3ea0b5a5-996a-401a-b6f9-ed52a2d09936"
    },
    {
      "cell_type": "code",
      "execution_count": 30,
      "metadata": {},
      "outputs": [],
      "source": [
        "d['att'] # key를 넣으면 value가 리턴"
      ],
      "id": "811c9ade-ce51-4623-95bb-9758c93c28d1"
    },
    {
      "cell_type": "markdown",
      "metadata": {},
      "source": [
        "`-` 예제2: numpy비교"
      ],
      "id": "6aa56ec5-cba7-4d84-9795-213413230eb0"
    },
    {
      "cell_type": "code",
      "execution_count": 43,
      "metadata": {},
      "outputs": [],
      "source": [
        "np.random.seed(43052)\n",
        "att = np.random.choice(np.arange(10,21)*5,200)\n",
        "rep = np.random.choice(np.arange(5,21)*5,200)\n",
        "mid = np.random.choice(np.arange(0,21)*5,200)\n",
        "fin = np.random.choice(np.arange(0,21)*5,200)\n",
        "key = ['202212'+str(s) for s in np.random.choice(np.arange(300,501),200,replace=False)]\n",
        "test_dic = {key[i] : {'att':att[i], 'rep':rep[i], 'mid':mid[i], 'fin':fin[i]} for i in range(200)}\n",
        "test_ndarray = np.array([key,att,rep,mid,fin],dtype=np.int64).T"
      ],
      "id": "a967e415-1608-4064-a47f-adac36b58b44"
    },
    {
      "cell_type": "code",
      "execution_count": 38,
      "metadata": {},
      "outputs": [],
      "source": [
        "test_dic"
      ],
      "id": "70f43e66-923c-45af-90e6-694ad22fd858"
    },
    {
      "cell_type": "markdown",
      "metadata": {},
      "source": [
        "학번 ’202212460’에 해당하는 학생의 출석점수를 알고 싶다면?\n",
        "\n",
        "(풀이1)"
      ],
      "id": "c6f2ea07-5e9d-42f4-8dbb-841bb8adf3a0"
    },
    {
      "cell_type": "code",
      "execution_count": 39,
      "metadata": {},
      "outputs": [],
      "source": [
        "test_dic['202212460']['att']"
      ],
      "id": "a8910db6-8b34-47ad-95a4-8d16105b1134"
    },
    {
      "cell_type": "markdown",
      "metadata": {},
      "source": [
        "(풀이2)"
      ],
      "id": "e1b4041c-0ff0-4b41-957b-4a32a57503bf"
    },
    {
      "cell_type": "code",
      "execution_count": 40,
      "metadata": {},
      "outputs": [],
      "source": [
        "test_ndarray"
      ],
      "id": "b8b444ca-0c97-416f-bf54-58ca24bf839c"
    },
    {
      "cell_type": "code",
      "execution_count": 42,
      "metadata": {},
      "outputs": [],
      "source": [
        "test_ndarray.T #학번이 string으로 들어가있어서 모든 자료가 string으로 되어있음.. "
      ],
      "id": "99ffce2c-e56d-4367-a1bd-1b1191e499d0"
    },
    {
      "cell_type": "code",
      "execution_count": 44,
      "metadata": {},
      "outputs": [],
      "source": [
        "test_ndarray"
      ],
      "id": "3b1f895f-250b-424f-ae0f-155441aa1d5b"
    },
    {
      "cell_type": "markdown",
      "metadata": {},
      "source": [
        "(풀이2)"
      ],
      "id": "a868df87-b410-48c0-9690-68622b1ac658"
    },
    {
      "cell_type": "code",
      "execution_count": 45,
      "metadata": {},
      "outputs": [],
      "source": [
        "test_ndarray[test_ndarray[:,0] == 202212460]"
      ],
      "id": "5688ccc0-57fb-40b4-b45f-66e872bf1f53"
    },
    {
      "cell_type": "code",
      "execution_count": 47,
      "metadata": {},
      "outputs": [],
      "source": [
        "test_ndarray[test_ndarray[:,0] == 202212460,1]   # 이게뭐여? 가독성이 떨어짐"
      ],
      "id": "a8d6b61f-d972-4229-b83e-b09671546deb"
    },
    {
      "cell_type": "markdown",
      "metadata": {},
      "source": [
        "**(풀이2)가 (풀이1)에 비하여 불편한 점** - test_ndarray의 첫칼럼은\n",
        "student id이고 두번째 칼럼은 att라는 사실을 암기하고 있어야 한다. -\n",
        "student id가 아니고 만약에 학생이름(문자형)을 써서 데이터를 정리한다면\n",
        "모든 자료형은 문자형이 되어야 한다. - 작성한 코드 가독성이 없다. (위치로\n",
        "접근하므로)\n",
        "\n",
        "`-` 요약: hash 스타일로 정보를 추출하는 것이 유용할 때가 있다. 그리고\n",
        "보통 hash 스타일로 정보를 뽑는것이 유리함.\n",
        "\n",
        "numpy는 정보추출을 위해 개발된 자료형이 아니라 행렬 및 벡터의 수학연산을\n",
        "지원하기 위해 개발된 자료형이다.)\n",
        "\n",
        "`-` 소망: 정보를 추출할때는 hash 스타일도 유용하다는 것은 ㅇㅋ $\\to$\n",
        "하지만 난 가끔 넘파이스타일로 정보를 뽑고 싶엉. 그리고 딕셔너리 형태가\n",
        "아니고 엑셀처럼(행렬처럼) 데이터를 보고 ㅅ피다!!! $\\to$ pandas 개발\n",
        "\n",
        "# pandas 개발동기\n",
        "\n",
        "### 엑셀처럼 데이터를 테이블 형태로 정리하고 싶다."
      ],
      "id": "9d6aac86-2c3b-43d4-bbfa-15bb66eb9972"
    },
    {
      "cell_type": "code",
      "execution_count": 55,
      "metadata": {},
      "outputs": [],
      "source": [
        "np.random.seed(43052)\n",
        "att = np.random.choice(np.arange(10,21)*5,20)\n",
        "rep = np.random.choice(np.arange(5,21)*5,20)\n",
        "mid = np.random.choice(np.arange(0,21)*5,20)\n",
        "fin = np.random.choice(np.arange(0,21)*5,20)\n",
        "key = ['202212'+str(s) for s in np.random.choice(np.arange(300,501),20,replace=False)]\n",
        "test_dic = {key[i] : {'att':att[i], 'rep':rep[i], 'mid':mid[i], 'fin':fin[i]} for i in range(20)}\n",
        "test_ndarray = np.array([key,att,rep,mid,fin],dtype=np.int64).T"
      ],
      "id": "dc6bde6b-12ce-4505-924b-e6d4af0fe3ad"
    },
    {
      "cell_type": "code",
      "execution_count": 56,
      "metadata": {},
      "outputs": [],
      "source": [
        "test_dic"
      ],
      "id": "9ff978db-49d2-4607-9cb7-d408f443c29f"
    },
    {
      "cell_type": "markdown",
      "metadata": {},
      "source": [
        "-   테이블 형태로 보고 싶다.\n",
        "\n",
        "(방법1) - 행렬이기는 하지만 방법 2,3,4에 비하여 우리가 원하는 만큼\n",
        "가독성을 주는 형태는 아님"
      ],
      "id": "bd16f42f-a191-4a05-987c-6e681755feab"
    },
    {
      "cell_type": "code",
      "execution_count": 57,
      "metadata": {},
      "outputs": [],
      "source": [
        "test_ndarray = np.array([key,att,rep,mid,fin],dtype=np.int64).T\n",
        "test_ndarray"
      ],
      "id": "6ee0a132-5e8d-458e-80e2-f8dca5435a5f"
    },
    {
      "cell_type": "markdown",
      "metadata": {},
      "source": [
        "(방법2)"
      ],
      "id": "336d7efb-be18-4218-b28e-1cadf82048d4"
    },
    {
      "cell_type": "code",
      "execution_count": 59,
      "metadata": {},
      "outputs": [],
      "source": [
        "pd.DataFrame(test_dic).T"
      ],
      "id": "c12205cf-7ebf-481b-b0cb-e1c2658e368d"
    },
    {
      "cell_type": "markdown",
      "metadata": {},
      "source": [
        "(방법3)"
      ],
      "id": "38631ae5-1d83-42e8-8c12-8f522ea69e97"
    },
    {
      "cell_type": "code",
      "execution_count": 62,
      "metadata": {},
      "outputs": [],
      "source": [
        "test_dic2 = {'att':{key[i]:att[i] for i in range(20)},\n",
        "             'rep':{key[i]:rep[i] for i in range(20)},\n",
        "             'mid':{key[i]:mid[i] for i in range(20)},\n",
        "             'fin':{key[i]:fin[i] for i in range(20)}}"
      ],
      "id": "fe5307ed-a7ba-4b04-84be-87ff1cbf36cc"
    },
    {
      "cell_type": "code",
      "execution_count": 63,
      "metadata": {},
      "outputs": [],
      "source": [
        "test_dic2"
      ],
      "id": "b39cc256-86d5-4f1d-ac20-3bbdd660cf85"
    },
    {
      "cell_type": "code",
      "execution_count": 64,
      "metadata": {},
      "outputs": [],
      "source": [
        "pd.DataFrame(test_dic2)"
      ],
      "id": "c66d2f6f-c032-496e-a049-a24676ba4c77"
    },
    {
      "cell_type": "markdown",
      "metadata": {},
      "source": [
        "(방법4)"
      ],
      "id": "60f3e0d0-7b50-4c57-b6d4-84a1b78dc689"
    },
    {
      "cell_type": "code",
      "execution_count": 66,
      "metadata": {},
      "outputs": [],
      "source": [
        "df = pd.DataFrame({'att':att, 'rep':rep, 'mid':mid, 'fin':fin}, index=key)\n",
        "df"
      ],
      "id": "728041d9-f64c-48a8-a053-0d15b9936172"
    },
    {
      "cell_type": "markdown",
      "metadata": {},
      "source": [
        "(방법5)"
      ],
      "id": "368b1e3a-1c97-45ba-a010-99153788973a"
    },
    {
      "cell_type": "code",
      "execution_count": 67,
      "metadata": {},
      "outputs": [],
      "source": [
        "df = pd.DataFrame({'att':att, 'rep':rep, 'mid':mid, 'fin':fin})\n",
        "df"
      ],
      "id": "15706402-0416-44f8-95d9-d5cac9bbcbc9"
    },
    {
      "cell_type": "code",
      "execution_count": 69,
      "metadata": {},
      "outputs": [],
      "source": [
        "df=df.set_index([key])   #인덱스를 set_index로 설정해줄 수 있음\n",
        "df"
      ],
      "id": "3af3a451-9b14-4631-9fbf-042656337128"
    },
    {
      "cell_type": "markdown",
      "metadata": {},
      "source": [
        "### 해싱으로 원하는 정보를 뽑으면 좋겠다. (마치 딕셔너리처럼)\n",
        "\n",
        "`-` 예제1: 출설점수를 출력"
      ],
      "id": "08b46ef2-28c5-4b46-beb5-f59b89512ed8"
    },
    {
      "cell_type": "code",
      "execution_count": 70,
      "metadata": {},
      "outputs": [],
      "source": [
        "test_dic2['att']"
      ],
      "id": "d818b63e-5b71-47f5-b2f1-e496a5e07c24"
    },
    {
      "cell_type": "code",
      "execution_count": 72,
      "metadata": {},
      "outputs": [],
      "source": [
        "df['att']"
      ],
      "id": "8448b978-beb2-4c52-82fd-3769b2db0b69"
    },
    {
      "cell_type": "markdown",
      "metadata": {},
      "source": [
        "`-` 예제2 : 학번 202212380의 출석점수 출력"
      ],
      "id": "9d22a4b5-60c3-4d72-a393-deb1f30f2255"
    },
    {
      "cell_type": "code",
      "execution_count": 74,
      "metadata": {},
      "outputs": [],
      "source": [
        "test_dic2['att']['202212380']"
      ],
      "id": "b7cdb747-6a3e-469f-9cf3-b224290953a9"
    },
    {
      "cell_type": "code",
      "execution_count": 75,
      "metadata": {},
      "outputs": [],
      "source": [
        "df['att']['202212380']"
      ],
      "id": "d3d0d315-29f9-4393-8bb5-3b1e629a075b"
    },
    {
      "cell_type": "markdown",
      "metadata": {},
      "source": [
        "### 인덱싱으로 정보를 뽑는 기능도 지원을 하면 좋겠따. (마치 리스트나 넘파이처럼)\n",
        "\n",
        "`-` 예제1: 첫번째 학생의 기말고사 성적을 출력하고 싶다."
      ],
      "id": "a5f0b81a-2ef2-407b-a08d-f96c6023ce3d"
    },
    {
      "cell_type": "code",
      "execution_count": 76,
      "metadata": {},
      "outputs": [],
      "source": [
        "test_ndarray[0,-1]"
      ],
      "id": "121caa2a-065a-4717-9719-6edd4e010672"
    },
    {
      "cell_type": "code",
      "execution_count": 78,
      "metadata": {},
      "outputs": [],
      "source": [
        "df.iloc[0,-1]  "
      ],
      "id": "d73c691d-3119-4e62-a47b-2e5fdbbf312b"
    },
    {
      "cell_type": "markdown",
      "metadata": {},
      "source": [
        "-   벼락치기: df에서 iloc라는 특수기능을 이용하면 넘파이 인덱싱처럼\n",
        "    원소출력이 가능하다.\n",
        "\n",
        "`-`예제2: 홀수번째 학생의 점수를 뽑고 싶다."
      ],
      "id": "121ad4e9-2b54-424c-825e-798471dc2a11"
    },
    {
      "cell_type": "code",
      "execution_count": 79,
      "metadata": {},
      "outputs": [],
      "source": [
        "test_ndarray[::2]"
      ],
      "id": "0d3ba711-3163-4729-87b1-d92e96b0bad0"
    },
    {
      "cell_type": "code",
      "execution_count": 80,
      "metadata": {},
      "outputs": [],
      "source": [
        "df.iloc[0::2]"
      ],
      "id": "fb70129a-0ce1-47aa-8ac1-700c630c3c6d"
    },
    {
      "cell_type": "markdown",
      "metadata": {},
      "source": [
        "`-` 예제3: 맨 끝에서 3명의 점수를 출력하고 싶다."
      ],
      "id": "e13195b6-e6ea-4a40-a2c7-f10c409c1733"
    },
    {
      "cell_type": "code",
      "execution_count": 82,
      "metadata": {},
      "outputs": [],
      "source": [
        "test_ndarray[-3:]"
      ],
      "id": "3bfeb2ec-561c-4de6-be22-bca009ffb1cd"
    },
    {
      "cell_type": "code",
      "execution_count": 83,
      "metadata": {},
      "outputs": [],
      "source": [
        "df.iloc[-3:]"
      ],
      "id": "ecfc789c-f4c1-41e5-b2e8-b81c503a4ca4"
    },
    {
      "cell_type": "markdown",
      "metadata": {},
      "source": [
        "`-` 예제4: 맨 끝에서 3명의 점수를 마지막 2개의 칼럼만 출력하고 싶다."
      ],
      "id": "41c5e801-9302-417e-8227-99c5d9e79247"
    },
    {
      "cell_type": "code",
      "execution_count": 85,
      "metadata": {},
      "outputs": [],
      "source": [
        "test_ndarray[-3:,-2:]"
      ],
      "id": "ab22b435-0381-4945-b2f8-e5813f7c7f49"
    },
    {
      "cell_type": "code",
      "execution_count": 86,
      "metadata": {},
      "outputs": [],
      "source": [
        "df.iloc[-3:,-2:]"
      ],
      "id": "094df51d-16ea-4d9e-8370-99f6432b585c"
    },
    {
      "cell_type": "markdown",
      "metadata": {},
      "source": [
        "### 궁극: 해싱과 인덱싱을 모두 지원하는 아주 우수한 자료형을 만들고 싶어!\n",
        "\n",
        "`-` 예제1: 중간고사 점수가 20점 이상이면서 동시에 출석점수가 60점미만인\n",
        "학생들의 기말고사 점수를 출력\n",
        "\n",
        "(방법1) 데이터베이스 스타일"
      ],
      "id": "cb0d95f1-c292-42c6-b0e3-1783bc5346c3"
    },
    {
      "cell_type": "code",
      "execution_count": 87,
      "metadata": {},
      "outputs": [],
      "source": [
        "df.query(\"mid>=20 and att<60\")"
      ],
      "id": "ba0b0e04-4493-43e9-8907-35389973ec45"
    },
    {
      "cell_type": "code",
      "execution_count": 88,
      "metadata": {},
      "outputs": [],
      "source": [
        "df.query(\"mid>=20 and att<60\")['fin']"
      ],
      "id": "948daaca-60e9-43bb-b824-f29006365811"
    },
    {
      "cell_type": "markdown",
      "metadata": {},
      "source": [
        "(방법2) 넘파이 스타일"
      ],
      "id": "9a970c27-5df8-4809-8cc0-4b7acff493cf"
    },
    {
      "cell_type": "code",
      "execution_count": 89,
      "metadata": {},
      "outputs": [],
      "source": [
        "test_ndarray"
      ],
      "id": "ff2c2596-a321-4377-a02d-e0d3e8d86947"
    },
    {
      "cell_type": "code",
      "execution_count": 92,
      "metadata": {},
      "outputs": [],
      "source": [
        "test_ndarray[:,3]>=20 # 중간고사 점수 20점 이상"
      ],
      "id": "1b6b149c-1153-4012-be11-71cbcd4dca67"
    },
    {
      "cell_type": "code",
      "execution_count": 93,
      "metadata": {},
      "outputs": [],
      "source": [
        "test_ndarray[:,1] < 60 # 출석이 60미만 "
      ],
      "id": "30704170-7bda-4b1f-a787-e1182ee2278f"
    },
    {
      "cell_type": "code",
      "execution_count": 94,
      "metadata": {},
      "outputs": [],
      "source": [
        "(test_ndarray[:,3]>=20) & (test_ndarray[:,1] < 60)"
      ],
      "id": "a7bc7ef9-0912-42a3-a790-c9093fa97f42"
    },
    {
      "cell_type": "markdown",
      "metadata": {},
      "source": [
        "> note: test_ndarray\\[:,3\\]\\>=20 & test_ndarray\\[:,1\\] \\< 60 와 같이\n",
        "> 하면 에러가 난다. 가로로 묶어줘야 함"
      ],
      "id": "5486e0b4-6d29-4694-9df5-0583555b9754"
    },
    {
      "cell_type": "code",
      "execution_count": 96,
      "metadata": {},
      "outputs": [],
      "source": [
        "test_ndarray[(test_ndarray[:,3]>=20) & (test_ndarray[:,1] < 60),-1] "
      ],
      "id": "be2134f0-535f-4333-9559-233718514565"
    },
    {
      "cell_type": "markdown",
      "metadata": {},
      "source": [
        "-   구현난이도 어려움, 가독성 꽝\n",
        "\n",
        "`-` 예제2: ’중간고사점수\\<기말고사점수’인 학생들의 출석점수 평균을\n",
        "구하자."
      ],
      "id": "fb6eb277-778e-4814-a994-f940d04a65fa"
    },
    {
      "cell_type": "code",
      "execution_count": 98,
      "metadata": {},
      "outputs": [],
      "source": [
        "df.query('mid<fin')['att'].mean()"
      ],
      "id": "169e4c73-b50a-4cd0-aa9c-23837f15479f"
    },
    {
      "cell_type": "markdown",
      "metadata": {},
      "source": [
        "# pandas 사용법\n",
        "\n",
        "### pandas 공부 1단계\n",
        "\n",
        "#### 데이터프레임 선언\n",
        "\n",
        "`-` 방법1: dictionary에서 만든다."
      ],
      "id": "7fd39a38-feb2-4183-885e-b25bf54b28cd"
    },
    {
      "cell_type": "code",
      "execution_count": 100,
      "metadata": {},
      "outputs": [],
      "source": [
        "pd.DataFrame({'att':[30,40,50],'mid':[50,60,70]})  # 리스트"
      ],
      "id": "718a0150-9241-4e0e-a155-28dccf4d68af"
    },
    {
      "cell_type": "code",
      "execution_count": 101,
      "metadata": {},
      "outputs": [],
      "source": [
        "pd.DataFrame({'att':(30,40,50),'mid':(50,60,70)})  # 튜플"
      ],
      "id": "a32118df-3e9e-43d9-8484-0cefb5c8704c"
    },
    {
      "cell_type": "code",
      "execution_count": 104,
      "metadata": {},
      "outputs": [],
      "source": [
        "pd.DataFrame({'att':np.array([30,40,50]),'mid':np.array([50,60,70])})  # 넘파이어레이"
      ],
      "id": "df03a06a-1389-4d13-a5e2-c80bd5bcd8df"
    },
    {
      "cell_type": "markdown",
      "metadata": {},
      "source": [
        "`-` 방법2: 2차원 ndarray에서 형태변환 통해 만든다."
      ],
      "id": "d133bb71-b5f4-4d0f-b2fa-84fc3e28074d"
    },
    {
      "cell_type": "code",
      "execution_count": 106,
      "metadata": {},
      "outputs": [],
      "source": [
        "np.arange(2*3).reshape(2,3)"
      ],
      "id": "34172c61-234c-43f4-89f8-f528794e5c87"
    },
    {
      "cell_type": "code",
      "execution_count": 107,
      "metadata": {},
      "outputs": [],
      "source": [
        "pd.DataFrame(np.arange(2*3).reshape(2,3))"
      ],
      "id": "6969a337-69c5-46d5-8850-51556ae3355f"
    },
    {
      "cell_type": "markdown",
      "metadata": {},
      "source": [
        "#### 열의 이름 부여\n",
        "\n",
        "`-` 방법1: 딕셔너리를 통하여 만들면 딕셔너리의 key가 자동으로 열의\n",
        "이름이 된다."
      ],
      "id": "ad9284e4-d294-438f-a11b-83fde56a0cf6"
    },
    {
      "cell_type": "code",
      "execution_count": 108,
      "metadata": {},
      "outputs": [],
      "source": [
        "pd.DataFrame({'att':np.array([30,40,50]),'mid':np.array([50,60,70])})"
      ],
      "id": "e25a1afb-e716-47fc-a579-5175418ffa1b"
    },
    {
      "cell_type": "markdown",
      "metadata": {},
      "source": [
        "`-` 방법2: pd.DataFrame()의 옵션에 columns를 이용"
      ],
      "id": "42e5faa5-66ad-4b09-a8c8-d16da78bf737"
    },
    {
      "cell_type": "code",
      "execution_count": 109,
      "metadata": {},
      "outputs": [],
      "source": [
        "pd.DataFrame(np.arange(2*3).reshape(2,3),columns=['X1','X2','X3'])"
      ],
      "id": "ed1ff64a-7569-49ea-b944-4cdfd025a1f8"
    },
    {
      "cell_type": "markdown",
      "metadata": {},
      "source": [
        "`-` 방법3: df.columns에 원하는 열이름을 덮어씀(1)"
      ],
      "id": "71fd19ba-60b2-4aac-8ae9-0b1729ea9b88"
    },
    {
      "cell_type": "code",
      "execution_count": 110,
      "metadata": {},
      "outputs": [],
      "source": [
        "df=pd.DataFrame(np.arange(2*3).reshape(2,3))\n",
        "df"
      ],
      "id": "0d60f79e-40c3-4d0c-a3da-fdc86508be3b"
    },
    {
      "cell_type": "code",
      "execution_count": 111,
      "metadata": {},
      "outputs": [],
      "source": [
        "df.columns"
      ],
      "id": "90086a51-a9de-4ca8-8210-9607c02b6571"
    },
    {
      "cell_type": "code",
      "execution_count": 112,
      "metadata": {},
      "outputs": [],
      "source": [
        "df.columns=['X1','X2','X3']"
      ],
      "id": "874596f5-dd8f-43df-9e38-adda8cc95573"
    },
    {
      "cell_type": "code",
      "execution_count": 113,
      "metadata": {},
      "outputs": [],
      "source": [
        "df"
      ],
      "id": "4e5372c9-638f-452e-a2b1-5439f42a0066"
    },
    {
      "cell_type": "markdown",
      "metadata": {},
      "source": [
        "`-` 방법4: df.columns에 원하는 열이름을 덮어씀(2)"
      ],
      "id": "30b565e0-4d8f-43e2-a925-a3f921a8ab0d"
    },
    {
      "cell_type": "code",
      "execution_count": 116,
      "metadata": {},
      "outputs": [],
      "source": [
        "df.columns=pd.Index(['X1','X2','X3'])  # 위와 같은 코드\n",
        "df"
      ],
      "id": "c3f070b5-6684-4cef-9691-cb7109d48507"
    },
    {
      "cell_type": "markdown",
      "metadata": {},
      "source": [
        "방법4가 방법3의 방식보다 컴퓨터가 이해하기 좋다. (=불필요한 에러를\n",
        "방지할 수 있다.)"
      ],
      "id": "f5946a08-62a7-4399-9e4c-c3eb0f26f104"
    },
    {
      "cell_type": "code",
      "execution_count": 121,
      "metadata": {},
      "outputs": [],
      "source": [
        "df.columns"
      ],
      "id": "8a02223a-2f55-4863-a9a0-36ef202bd3e1"
    },
    {
      "cell_type": "code",
      "execution_count": 118,
      "metadata": {},
      "outputs": [],
      "source": [
        "type(df.columns)"
      ],
      "id": "95a752c0-6587-4f55-a572-306cf70459dc"
    },
    {
      "cell_type": "code",
      "execution_count": 122,
      "metadata": {},
      "outputs": [],
      "source": [
        "['X1','X2','X3'], type(['X1','X2','X3'])"
      ],
      "id": "30d52579-571b-4c47-8a8c-1b5b5c90a2fb"
    },
    {
      "cell_type": "code",
      "execution_count": 119,
      "metadata": {},
      "outputs": [],
      "source": [
        "pd.Index(['X1','X2','X3'])"
      ],
      "id": "258efccd-a7a4-4dfd-b39b-aeac419c07fe"
    },
    {
      "cell_type": "markdown",
      "metadata": {},
      "source": [
        "#### 행의 이름 부여\n",
        "\n",
        "`-` 방법1: 중첩 dict이면 nested dic의 key가 알아서 행의 이름으로 된다.\n",
        "(안쪽..)"
      ],
      "id": "5e9ef3ed-c018-478d-802c-957a59a4f469"
    },
    {
      "cell_type": "code",
      "execution_count": 124,
      "metadata": {},
      "outputs": [],
      "source": [
        "{'att': {'boram':30, 'iu':40, 'hynn':50}, 'mid':{'boram':5, 'iu':45, 'hynn':90}}"
      ],
      "id": "8d0eea30-16c9-41df-9d08-d0d88a82b5a2"
    },
    {
      "cell_type": "code",
      "execution_count": 125,
      "metadata": {},
      "outputs": [],
      "source": [
        "pd.DataFrame({'att': {'boram':30, 'iu':40, 'hynn':50}, 'mid':{'boram':5, 'iu':45, 'hynn':90}})"
      ],
      "id": "7cbf44c6-f78f-4ae4-9c4c-c5c59c3d2611"
    },
    {
      "cell_type": "markdown",
      "metadata": {},
      "source": [
        "`-` 방법2: index옵션 이용"
      ],
      "id": "b7239fc5-22f8-4ac6-9171-46791d8c421d"
    },
    {
      "cell_type": "code",
      "execution_count": 127,
      "metadata": {},
      "outputs": [],
      "source": [
        "pd.DataFrame({'att': [30, 40,50], 'mid':[5,45, 90]}, index=['boram','iu','hynn'])"
      ],
      "id": "62c58f78-d3ef-4023-a0b5-77c827cdc8e5"
    },
    {
      "cell_type": "markdown",
      "metadata": {},
      "source": [
        "`-` 방법3: df.index에 덮어씌움"
      ],
      "id": "eab7555b-7bdf-4677-94f9-1f488d57bba9"
    },
    {
      "cell_type": "code",
      "execution_count": 129,
      "metadata": {},
      "outputs": [],
      "source": [
        "df=pd.DataFrame({'att': [30, 40,50], 'mid':[5,45, 90]})\n",
        "df"
      ],
      "id": "c636e4f3-93e5-4450-b7ba-5d7401c0837d"
    },
    {
      "cell_type": "code",
      "execution_count": 130,
      "metadata": {},
      "outputs": [],
      "source": [
        "df.index"
      ],
      "id": "e4ce9fb7-115d-489d-8fe2-4519f9f9188a"
    },
    {
      "cell_type": "code",
      "execution_count": 133,
      "metadata": {},
      "outputs": [],
      "source": [
        "df.index=['boram','iu','hynn']\n",
        "df"
      ],
      "id": "9b32cdeb-5e0b-4e8e-928d-b128a70136fc"
    },
    {
      "cell_type": "code",
      "execution_count": 136,
      "metadata": {},
      "outputs": [],
      "source": [
        "df.index= pd.Index(['boram','iu','hynn'])  #이게 컴퓨터가 볼 때 더 안전한 코드!\n",
        "df"
      ],
      "id": "e9b0f565-19e7-46f2-8271-1150adcf256b"
    },
    {
      "cell_type": "markdown",
      "metadata": {},
      "source": [
        "`-` 방법4: df.set_index() 를 이용하여 덮어 씌운다."
      ],
      "id": "f231ba7f-abe0-42db-b95c-539225b93f41"
    },
    {
      "cell_type": "code",
      "execution_count": 137,
      "metadata": {},
      "outputs": [],
      "source": [
        "df=pd.DataFrame({'att': [30, 40,50], 'mid':[5,45, 90]})\n",
        "df"
      ],
      "id": "1996328b-c412-4227-83cc-b42768bcd82c"
    },
    {
      "cell_type": "code",
      "execution_count": 139,
      "metadata": {},
      "outputs": [],
      "source": [
        "df.set_index(pd.Index(['boram','iu','hynn']))"
      ],
      "id": "57db2800-b5fa-4495-b21e-189e11cc37dd"
    },
    {
      "cell_type": "markdown",
      "metadata": {},
      "source": [
        "(주의) 아래는 에러가 난다."
      ],
      "id": "a8bb4dd5-9f96-4dad-aca8-a80be9ecbc7d"
    },
    {
      "cell_type": "code",
      "execution_count": 141,
      "metadata": {},
      "outputs": [],
      "source": [
        "df.set_index(['boram','iu','hynn'])"
      ],
      "id": "d12036d4-848b-43e9-870e-dbc50f89ec7d"
    },
    {
      "cell_type": "code",
      "execution_count": 143,
      "metadata": {},
      "outputs": [],
      "source": [
        "df.set_index([['boram','iu','hynn']]) # 꺽쇠를 한번 더 넣어주면 에러를 피할 수 있따."
      ],
      "id": "2748179b-4938-4eb9-aadd-9345847496ec"
    },
    {
      "cell_type": "markdown",
      "metadata": {},
      "source": [
        "#### 자료형, len, shape, for문의 반복변수"
      ],
      "id": "d75d13a4-3c9e-4d32-a2f6-2121c42a1586"
    },
    {
      "cell_type": "code",
      "execution_count": 144,
      "metadata": {},
      "outputs": [],
      "source": [
        "df= pd.DataFrame({'att':[30,40,50],'mid':[5,45,90]})\n",
        "df"
      ],
      "id": "5bd26ff3-9075-4ee3-9a00-d3475aeee73f"
    },
    {
      "cell_type": "markdown",
      "metadata": {},
      "source": [
        "`-` type"
      ],
      "id": "7eb3bd9a-472b-4d58-9155-1ce2a72febc2"
    },
    {
      "cell_type": "code",
      "execution_count": 145,
      "metadata": {},
      "outputs": [],
      "source": [
        "type(df)"
      ],
      "id": "18ef0e50-5d0e-43ab-b142-29bac5c235b3"
    },
    {
      "cell_type": "markdown",
      "metadata": {},
      "source": [
        "`-` len"
      ],
      "id": "e99eb6cb-6455-4b20-a002-2d91a292f9c2"
    },
    {
      "cell_type": "code",
      "execution_count": 147,
      "metadata": {},
      "outputs": [],
      "source": [
        "len(df) #row의 갯수"
      ],
      "id": "e4044062-c8d5-441a-a251-1ff284a69593"
    },
    {
      "cell_type": "markdown",
      "metadata": {},
      "source": [
        "`-` shape"
      ],
      "id": "f7f9e5b4-6cdc-4f17-8bac-58d489a3d660"
    },
    {
      "cell_type": "code",
      "execution_count": 149,
      "metadata": {},
      "outputs": [],
      "source": [
        "df.shape"
      ],
      "id": "8410a703-9c18-484e-83aa-3ea3ade4a364"
    },
    {
      "cell_type": "markdown",
      "metadata": {},
      "source": [
        "`-` for문의 반복변수"
      ],
      "id": "f8723acc-4cb0-49a9-96ab-17d79ae55446"
    },
    {
      "cell_type": "code",
      "execution_count": 151,
      "metadata": {},
      "outputs": [
        {
          "output_type": "stream",
          "name": "stdout",
          "text": [
            "att\n",
            "mid"
          ]
        }
      ],
      "source": [
        "for k in df:\n",
        "    print(k) #딕셔너리와 같다."
      ],
      "id": "d78d050c-7b87-4c2a-9976-c63b46691fde"
    },
    {
      "cell_type": "code",
      "execution_count": 153,
      "metadata": {},
      "outputs": [
        {
          "output_type": "stream",
          "name": "stdout",
          "text": [
            "att\n",
            "mid"
          ]
        }
      ],
      "source": [
        "for k in {'att':[30,40,50],'mid':[5,45,90]}: #딕셔너리\n",
        "    print(k)"
      ],
      "id": "208e1bf2-5e97-496c-a623-e7a3dd20ee02"
    },
    {
      "cell_type": "markdown",
      "metadata": {},
      "source": [
        "#### pd.Series\n",
        "\n",
        "`-` 2차원 ndarray가 pd.DataFrame에 대응한다면 1차원 ndarray는\n",
        "pd.Series에 대응한다."
      ],
      "id": "ca90065a-01b2-4313-9caf-1a3b25c14d54"
    },
    {
      "cell_type": "code",
      "execution_count": 155,
      "metadata": {},
      "outputs": [],
      "source": [
        "a=pd.Series(np.random.randn(10))\n",
        "a"
      ],
      "id": "8fa0b708-7f6c-40b4-adb9-fb7724bcbb8f"
    },
    {
      "cell_type": "code",
      "execution_count": 156,
      "metadata": {},
      "outputs": [],
      "source": [
        "type(a)"
      ],
      "id": "05308228-0f11-4c7e-89e3-0aa64e7c7bc2"
    },
    {
      "cell_type": "code",
      "execution_count": 157,
      "metadata": {},
      "outputs": [],
      "source": [
        "len(a)"
      ],
      "id": "7445a22d-29e6-4871-842a-fe934d753d0b"
    },
    {
      "cell_type": "code",
      "execution_count": 158,
      "metadata": {},
      "outputs": [],
      "source": [
        "a.shape"
      ],
      "id": "85904534-61bb-4daa-8c97-2d7ee05f6eeb"
    },
    {
      "cell_type": "code",
      "execution_count": 160,
      "metadata": {},
      "outputs": [
        {
          "output_type": "stream",
          "name": "stdout",
          "text": [
            "0.10617283591748639\n",
            "0.7237590624253404\n",
            "0.21798967912700873\n",
            "0.1940223087322443\n",
            "-0.6889899757985083\n",
            "-0.3516696436204985\n",
            "0.9909329773184973\n",
            "1.2121468150185186\n",
            "-0.6089654373693767\n",
            "0.03254898346416765"
          ]
        }
      ],
      "source": [
        "for value in a:\n",
        "    print(value)   #값들이 반복 넘파이어레이처럼.."
      ],
      "id": "dc1c4a83-f25d-429b-aea9-a657a5c01c56"
    },
    {
      "cell_type": "markdown",
      "metadata": {},
      "source": [
        "### pandas공부 2단계\n",
        "\n",
        "`-` 데이터"
      ],
      "id": "118f8292-4f16-47b9-a23a-5e186df4a510"
    },
    {
      "cell_type": "code",
      "execution_count": 162,
      "metadata": {},
      "outputs": [],
      "source": [
        "np.random.seed(43052)\n",
        "att = np.random.choice(np.arange(10,21)*5,20)\n",
        "rep = np.random.choice(np.arange(5,21)*5,20)\n",
        "mid = np.random.choice(np.arange(0,21)*5,20)\n",
        "fin = np.random.choice(np.arange(0,21)*5,20)\n",
        "key = ['202212'+str(s) for s in np.random.choice(np.arange(300,501),20,replace=False)]"
      ],
      "id": "df8ade33-f294-45f1-b6b3-8b038b45576b"
    },
    {
      "cell_type": "code",
      "execution_count": 165,
      "metadata": {},
      "outputs": [],
      "source": [
        "df=pd.DataFrame({'att':att, 'rep':rep, 'mid':mid, 'fin':fin}, index=key)\n",
        "df"
      ],
      "id": "fb96b79a-8f5e-49cd-b72b-298687bef35d"
    },
    {
      "cell_type": "markdown",
      "metadata": {},
      "source": [
        "#### 첫번째 칼럼을 선택\n",
        "\n",
        "`-` 방법1"
      ],
      "id": "284fd8be-4106-4f2e-8cab-1e97df031058"
    },
    {
      "cell_type": "code",
      "execution_count": 166,
      "metadata": {},
      "outputs": [],
      "source": [
        "df.att "
      ],
      "id": "883a87b3-1616-48e3-8232-b9bce052bf18"
    },
    {
      "cell_type": "markdown",
      "metadata": {},
      "source": [
        "`-` 방법2 : dict스타일"
      ],
      "id": "d44243f5-523f-4056-8498-0af60adecd8b"
    },
    {
      "cell_type": "code",
      "execution_count": 167,
      "metadata": {},
      "outputs": [],
      "source": [
        "df['att']"
      ],
      "id": "ccd3b1f4-e9dc-4e6f-a36d-9b454f0e98c1"
    },
    {
      "cell_type": "code",
      "execution_count": 169,
      "metadata": {},
      "outputs": [],
      "source": [
        "type(df['att'])"
      ],
      "id": "8209e3af-594d-4b97-b04e-b726c986fb3c"
    },
    {
      "cell_type": "markdown",
      "metadata": {},
      "source": [
        "`-` 방법3 : dict스타일"
      ],
      "id": "80c2f708-ee2a-4fc1-b768-ace43f61abfb"
    },
    {
      "cell_type": "code",
      "execution_count": 168,
      "metadata": {},
      "outputs": [],
      "source": [
        "df[['att']]"
      ],
      "id": "7be26ca0-c12d-4663-85ed-a63284589196"
    },
    {
      "cell_type": "code",
      "execution_count": 170,
      "metadata": {},
      "outputs": [],
      "source": [
        "type(df[['att']])"
      ],
      "id": "848e563d-afbe-4dc2-b169-385c0e89222e"
    },
    {
      "cell_type": "markdown",
      "metadata": {},
      "source": [
        "-   df.att 나 df\\[‘att’\\]는 series를 리턴하고 df\\[\\[‘att’\\]\\]는\n",
        "    dataframe을 리턴한다.\n",
        "\n",
        "`-` 방법4 : ndarray 스타일"
      ],
      "id": "8989796c-11ab-4d38-a358-8d02a9648c7b"
    },
    {
      "cell_type": "code",
      "execution_count": 178,
      "metadata": {},
      "outputs": [],
      "source": [
        "df.iloc[:,0] "
      ],
      "id": "8e428d9e-a068-4f32-9475-ec91e0558ac4"
    },
    {
      "cell_type": "markdown",
      "metadata": {},
      "source": [
        "`-` 방법5: ndarray스타일"
      ],
      "id": "b2538f78-7212-4b22-b260-336fdf5d6792"
    },
    {
      "cell_type": "code",
      "execution_count": 179,
      "metadata": {},
      "outputs": [],
      "source": [
        "df.iloc[:,[0]]"
      ],
      "id": "60e6c6c9-2c16-4526-abf1-cf3d0636b1da"
    },
    {
      "cell_type": "markdown",
      "metadata": {},
      "source": [
        "-   df.iloc\\[:,0\\]은 series를 리턴하고 df.iloc\\[:,\\[0\\]\\]은 dataframe을\n",
        "    리턴한다.\n",
        "\n",
        "`-` 방법6: ndarray 스타일과 dict 스타일의 혼합"
      ],
      "id": "5f7e9efc-ca2d-4463-8968-d3b63e727f23"
    },
    {
      "cell_type": "code",
      "execution_count": 180,
      "metadata": {},
      "outputs": [],
      "source": [
        "df.loc[:,'att'] "
      ],
      "id": "7a16754a-b9c8-48b1-a299-888fa9df0c83"
    },
    {
      "cell_type": "markdown",
      "metadata": {},
      "source": [
        "`-` 방법7: ndarray 스타일과 dict 스타일의 혼합"
      ],
      "id": "e12b25dd-32e0-4981-b059-1f801c8b48c4"
    },
    {
      "cell_type": "code",
      "execution_count": 181,
      "metadata": {},
      "outputs": [],
      "source": [
        "df.loc[:,['att']] "
      ],
      "id": "3cf8f587-026e-4ec5-9a42-83b2c01994d5"
    },
    {
      "cell_type": "markdown",
      "metadata": {},
      "source": [
        "-   df.loc\\[:,‘att’\\]은 series를 리턴하고 df.loc\\[:,\\[‘att’\\]\\]은\n",
        "    dataframe을 리턴한다.\n",
        "\n",
        "`-` 방법7: nparray 스타일 + bool 인덱싱"
      ],
      "id": "473c7efe-83ac-4891-bcef-25f048d5f308"
    },
    {
      "cell_type": "code",
      "execution_count": 182,
      "metadata": {},
      "outputs": [],
      "source": [
        "df.iloc[:,[True,False,False,False]]"
      ],
      "id": "e4c97e43-3a0d-4261-9200-32a202b2305a"
    },
    {
      "cell_type": "markdown",
      "metadata": {},
      "source": [
        "`-` 방법8: ndarray와 dict의 홉합형 + bool 인덱싱"
      ],
      "id": "140a7223-6fa3-49a7-85e3-9e5202740e9a"
    },
    {
      "cell_type": "code",
      "execution_count": 183,
      "metadata": {},
      "outputs": [],
      "source": [
        "df.loc[:,[True,False,False,False]]"
      ],
      "id": "3d1b3125-62e1-4ae7-9013-0fdc66587731"
    },
    {
      "cell_type": "markdown",
      "metadata": {},
      "source": [
        "#### 여러개의 칼럼을 선택\n",
        "\n",
        "`-` 방법1: dict스타일"
      ],
      "id": "50334e50-b496-4553-a9d8-3b03c4e474bd"
    },
    {
      "cell_type": "code",
      "execution_count": 186,
      "metadata": {},
      "outputs": [],
      "source": [
        "df[['att','fin']]"
      ],
      "id": "4a39d1d4-19dc-43bc-a15b-febeceb87962"
    },
    {
      "cell_type": "markdown",
      "metadata": {},
      "source": [
        "`-` 방법2: ndarray 스타일 (정수리스트로 인덱싱, 슬라이싱, 스트라이딩)"
      ],
      "id": "2fd5f421-7d5f-4480-ad00-8dbbc715769c"
    },
    {
      "cell_type": "code",
      "execution_count": 189,
      "metadata": {},
      "outputs": [],
      "source": [
        "df.iloc[:,[0,1]] #정수의 리스트를 전달하여 칼럼추출"
      ],
      "id": "3147aa67-f808-496d-9a91-409014db719f"
    },
    {
      "cell_type": "code",
      "execution_count": 199,
      "metadata": {},
      "outputs": [],
      "source": [
        "df.iloc[:,0:2]  #슬라이싱, 0,1,2에서 마지막 2는 제외되고 0,1에 해당하는 것만 추출"
      ],
      "id": "1e0397de-dda9-491e-9d8b-f37e37c34814"
    },
    {
      "cell_type": "code",
      "execution_count": 191,
      "metadata": {},
      "outputs": [],
      "source": [
        "df.iloc[:,2:]  #슬라이싱"
      ],
      "id": "14d020c8-7965-4c9f-a169-4a35691b83d5"
    },
    {
      "cell_type": "code",
      "execution_count": 193,
      "metadata": {},
      "outputs": [],
      "source": [
        "df.iloc[:,::2]  #슬라이싱, 스트라이딩"
      ],
      "id": "b5fa7a30-809e-42b7-a05b-fff3b5ea0487"
    },
    {
      "cell_type": "markdown",
      "metadata": {},
      "source": [
        "`-` 방법3: ndarray와 dict의 혼합형"
      ],
      "id": "9d27718d-b24f-4187-b53a-befb936b5cc0"
    },
    {
      "cell_type": "code",
      "execution_count": 195,
      "metadata": {},
      "outputs": [],
      "source": [
        "df.loc[:,['att','mid']]"
      ],
      "id": "94f5d8de-7623-4edc-a5a6-a75ec29bc290"
    },
    {
      "cell_type": "code",
      "execution_count": 200,
      "metadata": {},
      "outputs": [],
      "source": [
        "df.loc[:,'att':'rep']  # key로 하는 슬라이싱은 마지막 'rep'까지 표시되어 나온다"
      ],
      "id": "bf76347a-2fd0-4b22-accd-5229ca2e29b2"
    },
    {
      "cell_type": "code",
      "execution_count": 197,
      "metadata": {},
      "outputs": [],
      "source": [
        "df.loc[:,:'rep']"
      ],
      "id": "1bc63de2-377f-4660-890c-5eb762aa7db3"
    },
    {
      "cell_type": "code",
      "execution_count": 198,
      "metadata": {},
      "outputs": [],
      "source": [
        "df.loc[:,'rep':]"
      ],
      "id": "0a93e8e3-69dd-471b-acbb-a7e0f711b2c3"
    },
    {
      "cell_type": "markdown",
      "metadata": {},
      "source": [
        "`-` 방법4: bool을 이용한 인덱싱"
      ],
      "id": "dd0a2092-f916-4b8d-8131-bca6f1d2bb2f"
    },
    {
      "cell_type": "code",
      "execution_count": 201,
      "metadata": {},
      "outputs": [],
      "source": [
        "df.iloc[:,[True,False,True,False]]"
      ],
      "id": "f4be7437-ee1d-471a-a381-facfcc3b781c"
    },
    {
      "cell_type": "code",
      "execution_count": 202,
      "metadata": {},
      "outputs": [],
      "source": [
        "df.loc[:,[True,False,True,False]]"
      ],
      "id": "148613ea-b0ee-4326-a41f-bd2c2745b356"
    },
    {
      "cell_type": "code",
      "execution_count": 204,
      "metadata": {},
      "outputs": [],
      "source": [
        "test_ndarray[:,range(2)]"
      ],
      "id": "0341bd41-8195-4036-8f82-8845e38da3b4"
    },
    {
      "cell_type": "code",
      "execution_count": 203,
      "metadata": {},
      "outputs": [],
      "source": [
        "df.iloc[:,range(2)]"
      ],
      "id": "b7ee059f-3291-4cbf-8de8-95ef5b458204"
    },
    {
      "cell_type": "markdown",
      "metadata": {},
      "source": [
        "#### 첫번째 행을 선택\n",
        "\n",
        "`-` 방법1"
      ],
      "id": "a75dbdbb-ec78-4538-ba8c-0b709c7b9806"
    },
    {
      "cell_type": "code",
      "execution_count": 206,
      "metadata": {},
      "outputs": [],
      "source": [
        "test_ndarray[0,:]"
      ],
      "id": "60ddc279-8783-40a6-ba2b-fb0211f408a4"
    },
    {
      "cell_type": "code",
      "execution_count": 207,
      "metadata": {},
      "outputs": [],
      "source": [
        "test_ndarray[0]"
      ],
      "id": "1b46761b-199b-4c93-b8bb-7ac3a18f30c4"
    },
    {
      "cell_type": "code",
      "execution_count": 205,
      "metadata": {},
      "outputs": [],
      "source": [
        "df.iloc[0]"
      ],
      "id": "4767913e-318a-403c-888c-bef8ccf8b42a"
    },
    {
      "cell_type": "markdown",
      "metadata": {},
      "source": [
        "`-` 방법2"
      ],
      "id": "1a453d5e-1017-4a0d-a34f-f8ab943242fb"
    },
    {
      "cell_type": "code",
      "execution_count": 209,
      "metadata": {},
      "outputs": [],
      "source": [
        "df.iloc[[0]]  # 데이터프레임처럼"
      ],
      "id": "35cf0796-212d-411b-bc28-9d82e3e0090d"
    },
    {
      "cell_type": "markdown",
      "metadata": {},
      "source": [
        "`-` 방법3"
      ],
      "id": "69e9e0c2-4044-4758-95cb-15f4c56c294a"
    },
    {
      "cell_type": "code",
      "execution_count": 210,
      "metadata": {},
      "outputs": [],
      "source": [
        "df.iloc[0,:]"
      ],
      "id": "39a1be87-5032-416d-b314-7630b9c3a2ea"
    },
    {
      "cell_type": "markdown",
      "metadata": {},
      "source": [
        "`-` 방법4"
      ],
      "id": "308d78a7-62d1-4331-9ba5-39edd794946b"
    },
    {
      "cell_type": "code",
      "execution_count": 211,
      "metadata": {},
      "outputs": [],
      "source": [
        "df.iloc[[0],:]"
      ],
      "id": "29788baf-fc67-468c-85f0-ef887ff06f19"
    },
    {
      "cell_type": "markdown",
      "metadata": {},
      "source": [
        "`-` 방법5"
      ],
      "id": "5588bd2c-9826-4716-92df-88f3fb1277b8"
    },
    {
      "cell_type": "code",
      "execution_count": 213,
      "metadata": {},
      "outputs": [],
      "source": [
        "df.loc['202212380']"
      ],
      "id": "bd24fe17-3d4a-4dc9-9f6e-fe3981708008"
    },
    {
      "cell_type": "markdown",
      "metadata": {},
      "source": [
        "`-` 방법6"
      ],
      "id": "4f3cdcfc-017e-4801-acb9-291a04912be8"
    },
    {
      "cell_type": "code",
      "execution_count": 215,
      "metadata": {},
      "outputs": [],
      "source": [
        "df.loc[['202212380']]  # 데이터프레임처럼"
      ],
      "id": "feba972b-52fd-48b3-ba5a-fd40a171469c"
    },
    {
      "cell_type": "markdown",
      "metadata": {},
      "source": [
        "`-` 방법7"
      ],
      "id": "8d5410d8-508a-4e4e-8a48-35918d3f3f9a"
    },
    {
      "cell_type": "code",
      "execution_count": 216,
      "metadata": {},
      "outputs": [],
      "source": [
        "df.loc['202212380',:]"
      ],
      "id": "68a1afa0-af38-4b91-95d8-1c2a092db92f"
    },
    {
      "cell_type": "markdown",
      "metadata": {},
      "source": [
        "`-` 방법8"
      ],
      "id": "fd02373f-6ba6-407d-8669-b4598c83a8b2"
    },
    {
      "cell_type": "code",
      "execution_count": 217,
      "metadata": {},
      "outputs": [],
      "source": [
        "df.loc[['202212380'],:]"
      ],
      "id": "ac8557b1-0e3a-426a-a387-12a4348e785e"
    },
    {
      "cell_type": "markdown",
      "metadata": {},
      "source": [
        "`-` 방법9"
      ],
      "id": "5809a41c-3dae-4e99-8108-fd2a78caea6d"
    },
    {
      "cell_type": "code",
      "execution_count": 219,
      "metadata": {},
      "outputs": [],
      "source": [
        "len(df)"
      ],
      "id": "f6cb9005-9327-4ac6-bc54-5a06fa215deb"
    },
    {
      "cell_type": "code",
      "execution_count": 220,
      "metadata": {},
      "outputs": [],
      "source": [
        "[True]+[False]*19"
      ],
      "id": "b3ad0a24-9735-4814-b457-6ce23c44f352"
    },
    {
      "cell_type": "code",
      "execution_count": 223,
      "metadata": {},
      "outputs": [],
      "source": [
        "_lst = [True]+[False]*19"
      ],
      "id": "2e33f33b-1d60-4f1c-839f-f04b2025807a"
    },
    {
      "cell_type": "code",
      "execution_count": 226,
      "metadata": {},
      "outputs": [],
      "source": [
        "df.iloc[_lst]"
      ],
      "id": "f4dbe626-a5fa-476e-b696-57c337d5bb67"
    },
    {
      "cell_type": "code",
      "execution_count": 225,
      "metadata": {},
      "outputs": [],
      "source": [
        "df.iloc[_lst,:]"
      ],
      "id": "3dcad9d4-662f-444a-9291-83e2f8cf359e"
    },
    {
      "cell_type": "code",
      "execution_count": 227,
      "metadata": {},
      "outputs": [],
      "source": [
        "df.loc[_lst]"
      ],
      "id": "9f7e6a31-c1b6-4b4a-af2d-082130bb209e"
    },
    {
      "cell_type": "code",
      "execution_count": 228,
      "metadata": {},
      "outputs": [],
      "source": [
        "df.loc[_lst,:]"
      ],
      "id": "7aca0887-e96f-4f15-b0fa-7af47dcc3930"
    },
    {
      "cell_type": "markdown",
      "metadata": {},
      "source": [
        "#### 여러개의 행을 선택\n",
        "\n",
        "`-` 방법1"
      ],
      "id": "ba23f199-551c-4b32-ad3c-4da99ff0d495"
    },
    {
      "cell_type": "code",
      "execution_count": 230,
      "metadata": {},
      "outputs": [],
      "source": [
        "df.iloc[[0,2]]"
      ],
      "id": "b0c54fcd-3005-4911-aa97-b1d7e3f5ffb8"
    },
    {
      "cell_type": "code",
      "execution_count": 229,
      "metadata": {},
      "outputs": [],
      "source": [
        "df.iloc[[0,2],:]"
      ],
      "id": "aecd16bc-d2f6-46fe-94e7-6126d04f056c"
    },
    {
      "cell_type": "markdown",
      "metadata": {},
      "source": [
        "`-` 방법2"
      ],
      "id": "6d52edc2-eae7-493b-845c-7c243809048d"
    },
    {
      "cell_type": "code",
      "execution_count": 232,
      "metadata": {},
      "outputs": [],
      "source": [
        "df.loc[['202212380','202212363']]"
      ],
      "id": "24292c20-a0ef-40b8-991e-2ca20f396c0d"
    },
    {
      "cell_type": "code",
      "execution_count": 231,
      "metadata": {},
      "outputs": [],
      "source": [
        "df.loc[['202212380','202212363'],:]"
      ],
      "id": "432d05d8-06c7-466d-96d9-54ddf71902d4"
    },
    {
      "cell_type": "markdown",
      "metadata": {},
      "source": [
        "`-` 그 밖의 방법들"
      ],
      "id": "cda350c2-599e-4bb3-9e24-7212ee15fe60"
    },
    {
      "cell_type": "code",
      "execution_count": 235,
      "metadata": {},
      "outputs": [],
      "source": [
        "df.iloc[::4]  # 스트라이딩"
      ],
      "id": "7924fdcf-fca1-4aa4-8d97-ab621c781d06"
    },
    {
      "cell_type": "code",
      "execution_count": 236,
      "metadata": {},
      "outputs": [],
      "source": [
        "df.iloc[:5]"
      ],
      "id": "387c906d-b276-4eaf-87e1-d73be8da00ba"
    },
    {
      "cell_type": "code",
      "execution_count": 237,
      "metadata": {},
      "outputs": [],
      "source": [
        "df.loc[:'202212312']"
      ],
      "id": "dd0ca901-163b-4d3b-94d4-06c381d05495"
    },
    {
      "cell_type": "code",
      "execution_count": 240,
      "metadata": {},
      "outputs": [],
      "source": [
        "df.att < 80"
      ],
      "id": "92421ce2-22ae-4808-a3fd-0fc05b95eb9b"
    },
    {
      "cell_type": "code",
      "execution_count": 241,
      "metadata": {},
      "outputs": [],
      "source": [
        "df.loc[df.att<80]"
      ],
      "id": "49dc740f-6560-43a1-9584-fba9f15c3f30"
    },
    {
      "cell_type": "code",
      "execution_count": 244,
      "metadata": {},
      "outputs": [],
      "source": [
        "df.loc[list(df.att<80),'rep':]  # 리스트로 바꿔주는게 컴퓨터에게 좀 더 명확한 전달"
      ],
      "id": "0866a2c9-66ef-40a3-8cc6-3b73ab8d6402"
    },
    {
      "cell_type": "code",
      "execution_count": 245,
      "metadata": {},
      "outputs": [],
      "source": [
        "df.loc[df.att<80,'rep':] # 하지만 리스트화 안해도 되긴 한다.."
      ],
      "id": "c93d6b99-c438-4d57-a5d7-be93a130a201"
    },
    {
      "cell_type": "code",
      "execution_count": 247,
      "metadata": {},
      "outputs": [],
      "source": [
        "df.iloc[list(df.att<80),1:]"
      ],
      "id": "5404e29d-2b6d-4c8d-a4ee-fe4fef1ace07"
    },
    {
      "cell_type": "markdown",
      "metadata": {},
      "source": [
        "`-` 아래는 에러가 난다."
      ],
      "id": "b9f9fa98-6607-4da8-8f88-9b5858484f69"
    },
    {
      "cell_type": "code",
      "execution_count": 248,
      "metadata": {},
      "outputs": [],
      "source": [
        "df.iloc[df.att<80,1:]"
      ],
      "id": "c808e2b3-cb00-49f2-a417-d72305688929"
    },
    {
      "cell_type": "markdown",
      "metadata": {},
      "source": [
        "#### query (중요!!!)\n",
        "\n",
        "`-` 예제1"
      ],
      "id": "2266fe26-f9b0-4bc7-be90-aaa2e51d1edb"
    },
    {
      "cell_type": "code",
      "execution_count": 250,
      "metadata": {},
      "outputs": [],
      "source": [
        "df.query('att==90 and mid>30')"
      ],
      "id": "7e8d4afd-23e5-438f-b1cf-c86687932314"
    },
    {
      "cell_type": "markdown",
      "metadata": {},
      "source": [
        "`-` 예제2"
      ],
      "id": "25965301-23f5-420b-b1e7-f34277309254"
    },
    {
      "cell_type": "code",
      "execution_count": 252,
      "metadata": {},
      "outputs": [],
      "source": [
        "df.query('att<rep and mid<fin')"
      ],
      "id": "3489e64c-4a65-410b-afcb-27d3e32f8ee6"
    },
    {
      "cell_type": "markdown",
      "metadata": {},
      "source": [
        "`-` 예제3"
      ],
      "id": "bf6eebef-007d-4a98-b02f-2cd1e623a54f"
    },
    {
      "cell_type": "code",
      "execution_count": 253,
      "metadata": {},
      "outputs": [],
      "source": [
        "df.query('att<rep<80')"
      ],
      "id": "0089d3b1-0295-40d7-baa5-5e19e926bd1b"
    },
    {
      "cell_type": "markdown",
      "metadata": {},
      "source": [
        "`-` 예제4"
      ],
      "id": "edbaaddb-a25a-4eb1-8211-6b6f522b1285"
    },
    {
      "cell_type": "code",
      "execution_count": 254,
      "metadata": {},
      "outputs": [],
      "source": [
        "df.query('50<att<=90 and mid<fin')"
      ],
      "id": "90a6be72-9d78-4bc5-9658-a5177a16fa4d"
    },
    {
      "cell_type": "markdown",
      "metadata": {},
      "source": [
        "`-` 예제5"
      ],
      "id": "39fb3915-f212-4949-bb02-e363a5650d8d"
    },
    {
      "cell_type": "code",
      "execution_count": 255,
      "metadata": {},
      "outputs": [],
      "source": [
        "df.query('(mid+fin)/2 >= 60')"
      ],
      "id": "174bb47e-c727-4ecc-814f-c33ad4938c80"
    },
    {
      "cell_type": "markdown",
      "metadata": {},
      "source": [
        "`-` 예제6"
      ],
      "id": "5400b42a-c1d8-4d48-b3e1-ce6cebeaa385"
    },
    {
      "cell_type": "code",
      "execution_count": 258,
      "metadata": {},
      "outputs": [],
      "source": [
        "_mean = df.att.mean()\n",
        "_mean"
      ],
      "id": "56e1b426-f70c-4b35-af69-e2cd99211574"
    },
    {
      "cell_type": "code",
      "execution_count": 259,
      "metadata": {},
      "outputs": [],
      "source": [
        "df.query('att>=73')"
      ],
      "id": "a8f23643-d2f1-403e-a919-dd0308487f8a"
    },
    {
      "cell_type": "code",
      "execution_count": 261,
      "metadata": {},
      "outputs": [],
      "source": [
        "df.query('att>=_mean')  # keyError 가 난다!"
      ],
      "id": "2bc42c4f-8900-4adf-a2f1-acabf805ecf4"
    },
    {
      "cell_type": "code",
      "execution_count": 263,
      "metadata": {},
      "outputs": [],
      "source": [
        "df.query('att>=@_mean')   # 앞에 @ 골뱅이를 붙여주면 에러 안난다."
      ],
      "id": "25ffc195-59ce-45ca-8666-713015d0d9ca"
    },
    {
      "cell_type": "markdown",
      "metadata": {},
      "source": [
        "`-` 예제7"
      ],
      "id": "9d2c8ea0-71d0-48cb-9a4b-8de47ff8fb30"
    },
    {
      "cell_type": "code",
      "execution_count": 266,
      "metadata": {},
      "outputs": [],
      "source": [
        "df.query('index <= \"202212354\"')"
      ],
      "id": "fda06ada-3765-486d-a8bd-d3ac68460875"
    },
    {
      "cell_type": "code",
      "execution_count": 268,
      "metadata": {},
      "outputs": [],
      "source": [
        "df.query('index <= \"202212354\" or index==\"202212387\"')  # 밖에를 큰따옴표 하고 안쪽을 작은따옴표 해도 된다."
      ],
      "id": "fa4a84bc-fd74-4edf-88f9-2ffa806b2b0a"
    },
    {
      "cell_type": "markdown",
      "metadata": {},
      "source": [
        "사실 이 기능은 시계열자료에서 꽃핀다.\n",
        "\n",
        "`-` 예제8"
      ],
      "id": "93c13b0a-8bf7-436f-8a15-f10f97117cf2"
    },
    {
      "cell_type": "code",
      "execution_count": 273,
      "metadata": {},
      "outputs": [],
      "source": [
        "pd.date_range('20230101',periods=10)"
      ],
      "id": "25c81f87-93f3-4ac8-963b-d45cf49bad19"
    },
    {
      "cell_type": "code",
      "execution_count": 275,
      "metadata": {},
      "outputs": [],
      "source": [
        "_df=pd.DataFrame(np.random.normal(size=(10,4)),columns=list('ABCD'), index=pd.date_range('20230101',periods=10))\n",
        "_df"
      ],
      "id": "9545c40f-6950-4c9f-98c7-421e335ce8c6"
    },
    {
      "cell_type": "code",
      "execution_count": 277,
      "metadata": {},
      "outputs": [],
      "source": [
        "_df.query(\"'2023-01-02' < index <= '2023-01-09'\")"
      ],
      "id": "1e17e61e-52e8-4b31-9e5b-5cb33ad5a6fa"
    },
    {
      "cell_type": "code",
      "execution_count": 278,
      "metadata": {},
      "outputs": [],
      "source": [
        "_df.query(\"'2023-01-02' < index <= '2023-01-09' and A+B<C\")"
      ],
      "id": "4a84da52-ab6e-4281-be56-07ace6c1fe3b"
    },
    {
      "cell_type": "markdown",
      "metadata": {},
      "source": [
        "`-` query가 만능은 아니다."
      ],
      "id": "ccf05592-fa37-4b45-91ab-3a3327782a50"
    },
    {
      "cell_type": "code",
      "execution_count": 281,
      "metadata": {},
      "outputs": [],
      "source": [
        "df.columns = pd.Index(['att score', 'rep score', 'mid score','fin score'])"
      ],
      "id": "425b5af0-be50-47f0-96c1-9b21c68e868d"
    },
    {
      "cell_type": "code",
      "execution_count": 284,
      "metadata": {},
      "outputs": [],
      "source": [
        "df.query(\"att score < 90\")  # 변수이름에 띄어쓰기가 들어가면 에러가 난다."
      ],
      "id": "84ccd35c-fb01-4e98-b269-3291d193aceb"
    },
    {
      "cell_type": "code",
      "execution_count": 285,
      "metadata": {},
      "outputs": [],
      "source": [
        "df.att socre"
      ],
      "id": "e9987e6b-69bd-42ae-bfa9-acb23d3cec03"
    },
    {
      "cell_type": "code",
      "execution_count": 288,
      "metadata": {},
      "outputs": [],
      "source": [
        "df.loc[df[\"att score\"] < 90, :] # 이렇게 하면 됨"
      ],
      "id": "91cc45f7-22ca-42f6-9c9a-07c7acce69a9"
    },
    {
      "cell_type": "markdown",
      "metadata": {},
      "source": [
        "### pandas 공부 3단계\n",
        "\n",
        "#### 전치"
      ],
      "id": "8bc65fc5-d0ff-4731-b502-22d50226e8d7"
    },
    {
      "cell_type": "code",
      "execution_count": 290,
      "metadata": {},
      "outputs": [],
      "source": [
        "ndarray = np.arange(2*3).reshape(2,3)\n",
        "df=pd.DataFrame(ndarray)\n",
        "df"
      ],
      "id": "1a34c916-2f70-434f-b87b-bbb7f3e62fab"
    },
    {
      "cell_type": "code",
      "execution_count": 291,
      "metadata": {},
      "outputs": [],
      "source": [
        "ndarray.T"
      ],
      "id": "5ae7bc0d-4fa4-4199-9140-6b29cc1ab2d8"
    },
    {
      "cell_type": "code",
      "execution_count": 292,
      "metadata": {},
      "outputs": [],
      "source": [
        "df.T"
      ],
      "id": "02739792-23b3-437e-996b-95823635be27"
    },
    {
      "cell_type": "markdown",
      "metadata": {},
      "source": [
        "#### 합"
      ],
      "id": "c6fac323-d532-470d-866e-cfc84acc9c69"
    },
    {
      "cell_type": "code",
      "execution_count": 293,
      "metadata": {},
      "outputs": [],
      "source": [
        "ndarray.sum(axis=0)"
      ],
      "id": "8ebfbf53-9dc6-488f-8c7d-009b3bc100de"
    },
    {
      "cell_type": "code",
      "execution_count": 294,
      "metadata": {},
      "outputs": [],
      "source": [
        "df.sum(axis=0)"
      ],
      "id": "c926427d-d274-454c-a2a9-83d359ec2840"
    },
    {
      "cell_type": "code",
      "execution_count": 295,
      "metadata": {},
      "outputs": [],
      "source": [
        "ndarray.sum(axis=1)"
      ],
      "id": "a42b0a2e-44ed-4304-bacf-f25ec1f602a7"
    },
    {
      "cell_type": "code",
      "execution_count": 296,
      "metadata": {},
      "outputs": [],
      "source": [
        "df.sum(axis=1)"
      ],
      "id": "632ae53b-a041-4b46-b3c6-d835d24e6bf9"
    },
    {
      "cell_type": "markdown",
      "metadata": {},
      "source": [
        "#### cumsum"
      ],
      "id": "e63cea07-0f54-4999-846a-e67630d31d65"
    },
    {
      "cell_type": "code",
      "execution_count": 297,
      "metadata": {},
      "outputs": [],
      "source": [
        "df"
      ],
      "id": "00491f3e-fa11-4b17-84b3-a066ffc08b09"
    },
    {
      "cell_type": "code",
      "execution_count": 299,
      "metadata": {},
      "outputs": [],
      "source": [
        "ndarray.cumsum(axis=0) #누적해서 더해짐"
      ],
      "id": "5443e418-03da-4d52-99c1-67e70be0fce2"
    },
    {
      "cell_type": "code",
      "execution_count": 300,
      "metadata": {},
      "outputs": [],
      "source": [
        "df.cumsum(axis=0)"
      ],
      "id": "ba0b6d27-0343-4664-83c4-2081d58addf7"
    },
    {
      "cell_type": "code",
      "execution_count": 301,
      "metadata": {},
      "outputs": [],
      "source": [
        "ndarray.cumsum(axis=1)"
      ],
      "id": "240ac425-7846-455b-8f06-1d0a6e1c5d5f"
    },
    {
      "cell_type": "code",
      "execution_count": 302,
      "metadata": {},
      "outputs": [],
      "source": [
        "df.cumsum(axis=1)"
      ],
      "id": "115760d7-8687-40ce-a0ab-6c1f035211c1"
    },
    {
      "cell_type": "markdown",
      "metadata": {},
      "source": [
        "#### 형태변환"
      ],
      "id": "d6160dfe-44cd-4fd9-8d0d-701f8f130b1b"
    },
    {
      "cell_type": "code",
      "execution_count": 304,
      "metadata": {},
      "outputs": [],
      "source": [
        "ndarray.tolist()"
      ],
      "id": "d0b81b19-364e-4650-bafc-6f22a5e60475"
    },
    {
      "cell_type": "code",
      "execution_count": 305,
      "metadata": {},
      "outputs": [],
      "source": [
        "df.to_numpy()"
      ],
      "id": "ef75287e-58a2-4098-ac4f-bcdf16233890"
    },
    {
      "cell_type": "code",
      "execution_count": 306,
      "metadata": {},
      "outputs": [],
      "source": [
        "df.to_numpy().tolist()"
      ],
      "id": "27fdb73d-22a2-44ff-9ea2-cc1cdb25ae13"
    },
    {
      "cell_type": "code",
      "execution_count": 308,
      "metadata": {},
      "outputs": [],
      "source": [
        "df.to_dict()"
      ],
      "id": "02658bf7-f51a-48a5-9dd4-d353da4b7e40"
    },
    {
      "cell_type": "markdown",
      "metadata": {},
      "source": [
        "### pandas 공부 4단계 (생략)\n",
        "\n",
        "### 숙제\n",
        "\n",
        "`-` 아래의 DF에서 1,3번째 열을 추출하라."
      ],
      "id": "490d6644-d2c0-443c-9897-f366b5715798"
    },
    {
      "cell_type": "code",
      "execution_count": 309,
      "metadata": {},
      "outputs": [],
      "source": [
        "df= pd.DataFrame({'att':[90,90,95],'rep':[80,90,90],'mid':[50,60,70], 'fin':[70,80,50]})\n",
        "df"
      ],
      "id": "71bbc7b7-2a99-41c5-8230-b126ce90fcf1"
    },
    {
      "cell_type": "code",
      "execution_count": 319,
      "metadata": {},
      "outputs": [],
      "source": [
        "df[['att','mid']]"
      ],
      "id": "e0c6cbb1-008c-402b-ba48-902651259071"
    },
    {
      "cell_type": "code",
      "execution_count": 320,
      "metadata": {},
      "outputs": [],
      "source": [
        "df.iloc[:,[0,2]]"
      ],
      "id": "eb798f37-b9f6-4ad8-a2ba-6112c570a0ee"
    },
    {
      "cell_type": "code",
      "execution_count": 321,
      "metadata": {},
      "outputs": [],
      "source": [
        "df.iloc[:,::2]"
      ],
      "id": "1a826b7a-ac3d-4ee7-b210-ffebc557019c"
    },
    {
      "cell_type": "code",
      "execution_count": 323,
      "metadata": {},
      "outputs": [],
      "source": [
        "df.loc[:,['att','mid']]"
      ],
      "id": "da810b17-6895-458a-9da9-02edd377c586"
    }
  ],
  "nbformat": 4,
  "nbformat_minor": 5,
  "metadata": {
    "kernelspec": {
      "name": "python3",
      "display_name": "Python 3",
      "language": "python"
    },
    "language_info": {
      "name": "python",
      "codemirror_mode": {
        "name": "ipython",
        "version": "3"
      },
      "file_extension": ".py",
      "mimetype": "text/x-python",
      "nbconvert_exporter": "python",
      "pygments_lexer": "ipython3",
      "version": "3.7.16"
    }
  }
}