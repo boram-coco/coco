{
  "cells": [
    {
      "cell_type": "markdown",
      "metadata": {},
      "source": [
        "# 파이썬 (0506) 10주차\n",
        "\n",
        "김보람  \n",
        "2022-05-06"
      ],
      "id": "97eabff7-ab65-45b2-8a93-3750599bf00d"
    },
    {
      "cell_type": "code",
      "execution_count": 4,
      "metadata": {},
      "outputs": [
        {
          "output_type": "stream",
          "name": "stdout",
          "text": [
            "Requirement already satisfied: numpy in /home/koinup4/anaconda3/envs/py37/lib/python3.7/site-packages (1.21.6)\n",
            "Collecting pandas\n",
            "  Downloading pandas-1.3.5-cp37-cp37m-manylinux_2_17_x86_64.manylinux2014_x86_64.whl (11.3 MB)\n",
            "     ━━━━━━━━━━━━━━━━━━━━━━━━━━━━━━━━━━━━━━━━ 11.3/11.3 MB 89.6 MB/s eta 0:00:00a 0:00:01\n",
            "Requirement already satisfied: pytz>=2017.3 in /home/koinup4/anaconda3/envs/py37/lib/python3.7/site-packages (from pandas) (2022.7.1)\n",
            "Requirement already satisfied: numpy>=1.17.3 in /home/koinup4/anaconda3/envs/py37/lib/python3.7/site-packages (from pandas) (1.21.6)\n",
            "Requirement already satisfied: python-dateutil>=2.7.3 in /home/koinup4/anaconda3/envs/py37/lib/python3.7/site-packages (from pandas) (2.8.2)\n",
            "Requirement already satisfied: six>=1.5 in /home/koinup4/anaconda3/envs/py37/lib/python3.7/site-packages (from python-dateutil>=2.7.3->pandas) (1.16.0)\n",
            "Installing collected packages: pandas\n",
            "Successfully installed pandas-1.3.5"
          ]
        }
      ],
      "source": [
        "!pip install numpy\n",
        "!pip install pandas"
      ],
      "id": "950cbcc3-9fc7-4690-960a-f46e304718c1"
    },
    {
      "cell_type": "code",
      "execution_count": 5,
      "metadata": {
        "tags": []
      },
      "outputs": [],
      "source": [
        "import numpy as np\n",
        "import pandas as pd"
      ],
      "id": "74c88906-95a8-4fa1-83b5-0ec9373881bd"
    },
    {
      "cell_type": "markdown",
      "metadata": {},
      "source": [
        "# 부분 데이터 꺼내기: 판다스를 왜 써야할까?\n",
        "\n",
        "### 기본 인덱싱\n",
        "\n",
        "`-`예제1: 기본인덱싱"
      ],
      "id": "791cda1d-fe1e-4b98-bef4-a6ec245e3905"
    },
    {
      "cell_type": "code",
      "execution_count": 6,
      "metadata": {},
      "outputs": [],
      "source": [
        "a='asdf'\n",
        "a[2]"
      ],
      "id": "3f69b292-fd0d-46ca-a397-b8ac76258167"
    },
    {
      "cell_type": "code",
      "execution_count": 7,
      "metadata": {},
      "outputs": [],
      "source": [
        "a[-1]"
      ],
      "id": "74172f60-100c-4ef5-9dbd-dfa20614e37a"
    },
    {
      "cell_type": "markdown",
      "metadata": {},
      "source": [
        "`-` 예제2: 슬라이싱"
      ],
      "id": "3ab2e8ef-cc63-430b-8311-0ae39322c4ea"
    },
    {
      "cell_type": "code",
      "execution_count": 8,
      "metadata": {},
      "outputs": [],
      "source": [
        "a='asdf'\n",
        "a[1:3]"
      ],
      "id": "079a8756-db2b-4f7c-ad44-136413743a45"
    },
    {
      "cell_type": "code",
      "execution_count": 9,
      "metadata": {},
      "outputs": [],
      "source": [
        "a[-2:]"
      ],
      "id": "5502a74c-bfb7-4457-a0ac-2f600e2a8ab7"
    },
    {
      "cell_type": "markdown",
      "metadata": {},
      "source": [
        "`-` 예제3: 스트라이딩"
      ],
      "id": "a923602c-0329-4fa0-aa2d-851154f16469"
    },
    {
      "cell_type": "code",
      "execution_count": 10,
      "metadata": {},
      "outputs": [],
      "source": [
        "a='afsdf'\n",
        "a[::2]"
      ],
      "id": "f0368e87-6bf1-44f8-9070-ddcdbacdcf86"
    },
    {
      "cell_type": "markdown",
      "metadata": {},
      "source": [
        "`-` 예제4: 불가능한것"
      ],
      "id": "8520980b-fd49-4407-bea7-b06cef44a55b"
    },
    {
      "cell_type": "code",
      "execution_count": 12,
      "metadata": {},
      "outputs": [],
      "source": [
        "a='afsd'\n",
        "a[[1,2]] # 리스트로 전달해서 뽑는것은 불가능 -> 정수인덱스 리스트화시켜서 인덱싱하는것"
      ],
      "id": "17c98baf-f3ab-41e8-b445-d1a2fc1abe37"
    },
    {
      "cell_type": "code",
      "execution_count": 13,
      "metadata": {},
      "outputs": [],
      "source": [
        "a='afsd'\n",
        "a[[True,True,False,True]] # 리스트로 전달해서 뽑는것은 불가능 -> 정수인덱스 리스트화시켜서 인덱싱하는것"
      ],
      "id": "d457d049-2f80-4e5f-adc3-ba5bd1bb731d"
    },
    {
      "cell_type": "markdown",
      "metadata": {},
      "source": [
        "### 팬시인덱싱\n",
        "\n",
        "`-` 예제1: 인덱스의 리스트(혹은 ndarray)를 전달"
      ],
      "id": "3afcd582-e01f-4d50-a800-4c470d587fc4"
    },
    {
      "cell_type": "code",
      "execution_count": 18,
      "metadata": {},
      "outputs": [],
      "source": [
        "a=np.arange(5)\n",
        "a[0]"
      ],
      "id": "23702f63-cbdc-4108-920d-62b295b86864"
    },
    {
      "cell_type": "code",
      "execution_count": 15,
      "metadata": {},
      "outputs": [],
      "source": [
        "a[[0,1]]"
      ],
      "id": "8d6869c5-5472-4717-931f-4799b1ff8cda"
    },
    {
      "cell_type": "code",
      "execution_count": 17,
      "metadata": {},
      "outputs": [],
      "source": [
        "a[[0,1,-2]]"
      ],
      "id": "772f5688-5e26-45e7-97d9-c2e86a243fec"
    },
    {
      "cell_type": "markdown",
      "metadata": {},
      "source": [
        "`-` 예제2: bool로 이루어진 리스트 (혹은 ndarray)를 전달"
      ],
      "id": "3d702cc5-d6b9-4c4a-b497-8c86c72e45f8"
    },
    {
      "cell_type": "code",
      "execution_count": 19,
      "metadata": {},
      "outputs": [],
      "source": [
        "a=np.arange(55,61)\n",
        "a"
      ],
      "id": "3f51d899-a69c-45e1-84b1-9ad035177698"
    },
    {
      "cell_type": "code",
      "execution_count": 22,
      "metadata": {},
      "outputs": [],
      "source": [
        "a[[True,True,False,True,True,False]]"
      ],
      "id": "cb775ff1-4d01-4ccb-9912-b3d134bc1274"
    },
    {
      "cell_type": "code",
      "execution_count": 23,
      "metadata": {},
      "outputs": [],
      "source": [
        "a<58"
      ],
      "id": "ece2ec97-caaf-4201-b813-7d4ee1c4c485"
    },
    {
      "cell_type": "code",
      "execution_count": 24,
      "metadata": {},
      "outputs": [],
      "source": [
        "a[a<58]"
      ],
      "id": "48f2b8a1-890f-4075-8a43-e8f29e3b9953"
    },
    {
      "cell_type": "markdown",
      "metadata": {},
      "source": [
        "### 2차원 자료형의 인덱싱\n",
        "\n",
        "`-` 예제1"
      ],
      "id": "5fe3837b-5512-4b52-8ed8-df501530c03a"
    },
    {
      "cell_type": "code",
      "execution_count": 25,
      "metadata": {},
      "outputs": [],
      "source": [
        "a=np.arange(4*3).reshape(4,3)\n",
        "a"
      ],
      "id": "3ce02b93-f688-4f9c-b813-a0f151159a9c"
    },
    {
      "cell_type": "code",
      "execution_count": 26,
      "metadata": {},
      "outputs": [],
      "source": [
        "a[0:2,1]"
      ],
      "id": "85784410-b614-43f6-a60f-883ea70fb2c2"
    },
    {
      "cell_type": "markdown",
      "metadata": {},
      "source": [
        "`-` 예제2 : 차원을 유지하면서 인덱싱을 하고 싶으면?"
      ],
      "id": "ebac485a-7b18-4127-956a-b60236780fe9"
    },
    {
      "cell_type": "code",
      "execution_count": 27,
      "metadata": {},
      "outputs": [],
      "source": [
        "a[0:2,[1]]"
      ],
      "id": "643d6107-9343-49fe-88be-aece0e421613"
    },
    {
      "cell_type": "markdown",
      "metadata": {},
      "source": [
        "### HASH\n",
        "\n",
        "`-` 예제1 : (key, value)"
      ],
      "id": "fd602114-2189-41cc-991a-00a3a30c001a"
    },
    {
      "cell_type": "code",
      "execution_count": 28,
      "metadata": {},
      "outputs": [],
      "source": [
        "d={'att':67, 'rep':45, 'mid':30, 'fin':100}\n",
        "d"
      ],
      "id": "3ea0b5a5-996a-401a-b6f9-ed52a2d09936"
    },
    {
      "cell_type": "code",
      "execution_count": 30,
      "metadata": {},
      "outputs": [],
      "source": [
        "d['att'] # key를 넣으면 value가 리턴"
      ],
      "id": "811c9ade-ce51-4623-95bb-9758c93c28d1"
    },
    {
      "cell_type": "markdown",
      "metadata": {},
      "source": [
        "`-` 예제2: numpy비교"
      ],
      "id": "e8446aea-e6e9-4f13-9bd8-5d9276f11929"
    },
    {
      "cell_type": "code",
      "execution_count": 43,
      "metadata": {},
      "outputs": [],
      "source": [
        "np.random.seed(43052)\n",
        "att = np.random.choice(np.arange(10,21)*5,200)\n",
        "rep = np.random.choice(np.arange(5,21)*5,200)\n",
        "mid = np.random.choice(np.arange(0,21)*5,200)\n",
        "fin = np.random.choice(np.arange(0,21)*5,200)\n",
        "key = ['202212'+str(s) for s in np.random.choice(np.arange(300,501),200,replace=False)]\n",
        "test_dic = {key[i] : {'att':att[i], 'rep':rep[i], 'mid':mid[i], 'fin':fin[i]} for i in range(200)}\n",
        "test_ndarray = np.array([key,att,rep,mid,fin],dtype=np.int64).T"
      ],
      "id": "a967e415-1608-4064-a47f-adac36b58b44"
    },
    {
      "cell_type": "code",
      "execution_count": 38,
      "metadata": {},
      "outputs": [],
      "source": [
        "test_dic"
      ],
      "id": "70f43e66-923c-45af-90e6-694ad22fd858"
    },
    {
      "cell_type": "markdown",
      "metadata": {},
      "source": [
        "학번 ’202212460’에 해당하는 학생의 출석점수를 알고 싶다면?\n",
        "\n",
        "(풀이1)"
      ],
      "id": "0d4c051f-f545-4307-9965-0edf2e1ae356"
    },
    {
      "cell_type": "code",
      "execution_count": 39,
      "metadata": {},
      "outputs": [],
      "source": [
        "test_dic['202212460']['att']"
      ],
      "id": "a8910db6-8b34-47ad-95a4-8d16105b1134"
    },
    {
      "cell_type": "markdown",
      "metadata": {},
      "source": [
        "(풀이2)"
      ],
      "id": "87a02f5e-9d55-4534-ba88-399f544beb02"
    },
    {
      "cell_type": "code",
      "execution_count": 40,
      "metadata": {},
      "outputs": [],
      "source": [
        "test_ndarray"
      ],
      "id": "b8b444ca-0c97-416f-bf54-58ca24bf839c"
    },
    {
      "cell_type": "code",
      "execution_count": 42,
      "metadata": {},
      "outputs": [],
      "source": [
        "test_ndarray.T #학번이 string으로 들어가있어서 모든 자료가 string으로 되어있음.. "
      ],
      "id": "99ffce2c-e56d-4367-a1bd-1b1191e499d0"
    },
    {
      "cell_type": "code",
      "execution_count": 44,
      "metadata": {},
      "outputs": [],
      "source": [
        "test_ndarray"
      ],
      "id": "3b1f895f-250b-424f-ae0f-155441aa1d5b"
    },
    {
      "cell_type": "markdown",
      "metadata": {},
      "source": [
        "(풀이2)"
      ],
      "id": "bc4d0f59-13dd-48e1-b82f-28446ff3b4a3"
    },
    {
      "cell_type": "code",
      "execution_count": 45,
      "metadata": {},
      "outputs": [],
      "source": [
        "test_ndarray[test_ndarray[:,0] == 202212460]"
      ],
      "id": "5688ccc0-57fb-40b4-b45f-66e872bf1f53"
    },
    {
      "cell_type": "code",
      "execution_count": 47,
      "metadata": {},
      "outputs": [],
      "source": [
        "test_ndarray[test_ndarray[:,0] == 202212460,1]   # 이게뭐여? 가독성이 떨어짐"
      ],
      "id": "a8d6b61f-d972-4229-b83e-b09671546deb"
    },
    {
      "cell_type": "markdown",
      "metadata": {},
      "source": [
        "**(풀이2)가 (풀이1)에 비하여 불편한 점** - test_ndarray의 첫칼럼은\n",
        "student id이고 두번째 칼럼은 att라는 사실을 암기하고 있어야 한다. -\n",
        "student id가 아니고 만약에 학생이름(문자형)을 써서 데이터를 정리한다면\n",
        "모든 자료형은 문자형이 되어야 한다. - 작성한 코드 가독성이 없다. (위치로\n",
        "접근하므로)\n",
        "\n",
        "`-` 요약: hash 스타일로 정보를 추출하는 것이 유용할 때가 있다. 그리고\n",
        "보통 hash 스타일로 정보를 뽑는것이 유리함.\n",
        "\n",
        "numpy는 정보추출을 위해 개발된 자료형이 아니라 행렬 및 벡터의 수학연산을\n",
        "지원하기 위해 개발된 자료형이다.)\n",
        "\n",
        "`-` 소망: 정보를 추출할때는 hash 스타일도 유용하다는 것은 ㅇㅋ $\\to$\n",
        "하지만 난 가끔 넘파이스타일로 정보를 뽑고 싶엉. 그리고 딕셔너리 형태가\n",
        "아니고 엑셀처럼(행렬처럼) 데이터를 보고 ㅅ피다!!! $\\to$ pandas 개발\n",
        "\n",
        "# pandas 개발동기\n",
        "\n",
        "### 엑셀처럼 데이터를 테이블 형태로 정리하고 싶다."
      ],
      "id": "0c277bbe-d64c-40a6-b621-ef90e46bfcde"
    },
    {
      "cell_type": "code",
      "execution_count": 55,
      "metadata": {},
      "outputs": [],
      "source": [
        "np.random.seed(43052)\n",
        "att = np.random.choice(np.arange(10,21)*5,20)\n",
        "rep = np.random.choice(np.arange(5,21)*5,20)\n",
        "mid = np.random.choice(np.arange(0,21)*5,20)\n",
        "fin = np.random.choice(np.arange(0,21)*5,20)\n",
        "key = ['202212'+str(s) for s in np.random.choice(np.arange(300,501),20,replace=False)]\n",
        "test_dic = {key[i] : {'att':att[i], 'rep':rep[i], 'mid':mid[i], 'fin':fin[i]} for i in range(20)}\n",
        "test_ndarray = np.array([key,att,rep,mid,fin],dtype=np.int64).T"
      ],
      "id": "dc6bde6b-12ce-4505-924b-e6d4af0fe3ad"
    },
    {
      "cell_type": "code",
      "execution_count": 56,
      "metadata": {},
      "outputs": [],
      "source": [
        "test_dic"
      ],
      "id": "9ff978db-49d2-4607-9cb7-d408f443c29f"
    },
    {
      "cell_type": "markdown",
      "metadata": {},
      "source": [
        "-   테이블 형태로 보고 싶다.\n",
        "\n",
        "(방법1) - 행렬이기는 하지만 방법 2,3,4에 비하여 우리가 원하는 만큼\n",
        "가독성을 주는 형태는 아님"
      ],
      "id": "d6efb448-1e34-486d-8499-d9043da1053d"
    },
    {
      "cell_type": "code",
      "execution_count": 57,
      "metadata": {},
      "outputs": [],
      "source": [
        "test_ndarray = np.array([key,att,rep,mid,fin],dtype=np.int64).T\n",
        "test_ndarray"
      ],
      "id": "6ee0a132-5e8d-458e-80e2-f8dca5435a5f"
    },
    {
      "cell_type": "markdown",
      "metadata": {},
      "source": [
        "(방법2)"
      ],
      "id": "d1f13c67-ad6c-4e5e-9b13-ae71a9272e63"
    },
    {
      "cell_type": "code",
      "execution_count": 59,
      "metadata": {},
      "outputs": [],
      "source": [
        "pd.DataFrame(test_dic).T"
      ],
      "id": "c12205cf-7ebf-481b-b0cb-e1c2658e368d"
    },
    {
      "cell_type": "markdown",
      "metadata": {},
      "source": [
        "(방법3)"
      ],
      "id": "b2cf049f-622c-4d1f-9ea7-d33527ab29fe"
    },
    {
      "cell_type": "code",
      "execution_count": 62,
      "metadata": {},
      "outputs": [],
      "source": [
        "test_dic2 = {'att':{key[i]:att[i] for i in range(20)},\n",
        "             'rep':{key[i]:rep[i] for i in range(20)},\n",
        "             'mid':{key[i]:mid[i] for i in range(20)},\n",
        "             'fin':{key[i]:fin[i] for i in range(20)}}"
      ],
      "id": "fe5307ed-a7ba-4b04-84be-87ff1cbf36cc"
    },
    {
      "cell_type": "code",
      "execution_count": 63,
      "metadata": {},
      "outputs": [],
      "source": [
        "test_dic2"
      ],
      "id": "b39cc256-86d5-4f1d-ac20-3bbdd660cf85"
    },
    {
      "cell_type": "code",
      "execution_count": 64,
      "metadata": {},
      "outputs": [],
      "source": [
        "pd.DataFrame(test_dic2)"
      ],
      "id": "c66d2f6f-c032-496e-a049-a24676ba4c77"
    },
    {
      "cell_type": "markdown",
      "metadata": {},
      "source": [
        "(방법4)"
      ],
      "id": "e95e6a47-eca0-4863-a739-fa1ca406273a"
    },
    {
      "cell_type": "code",
      "execution_count": 66,
      "metadata": {},
      "outputs": [],
      "source": [
        "df = pd.DataFrame({'att':att, 'rep':rep, 'mid':mid, 'fin':fin}, index=key)\n",
        "df"
      ],
      "id": "728041d9-f64c-48a8-a053-0d15b9936172"
    },
    {
      "cell_type": "markdown",
      "metadata": {},
      "source": [
        "(방법5)"
      ],
      "id": "4f316439-9519-42c3-affb-1da69d7b7415"
    },
    {
      "cell_type": "code",
      "execution_count": 67,
      "metadata": {},
      "outputs": [],
      "source": [
        "df = pd.DataFrame({'att':att, 'rep':rep, 'mid':mid, 'fin':fin})\n",
        "df"
      ],
      "id": "15706402-0416-44f8-95d9-d5cac9bbcbc9"
    },
    {
      "cell_type": "code",
      "execution_count": 69,
      "metadata": {},
      "outputs": [],
      "source": [
        "df=df.set_index([key])   #인덱스를 set_index로 설정해줄 수 있음\n",
        "df"
      ],
      "id": "3af3a451-9b14-4631-9fbf-042656337128"
    },
    {
      "cell_type": "markdown",
      "metadata": {},
      "source": [
        "### 해싱으로 원하는 정보를 뽑으면 좋겠다. (마치 딕셔너리처럼)\n",
        "\n",
        "`-` 예제1: 출설점수를 출력"
      ],
      "id": "ef6a31d9-d7a8-42c0-bf64-4c53d1998185"
    },
    {
      "cell_type": "code",
      "execution_count": 70,
      "metadata": {},
      "outputs": [],
      "source": [
        "test_dic2['att']"
      ],
      "id": "d818b63e-5b71-47f5-b2f1-e496a5e07c24"
    },
    {
      "cell_type": "code",
      "execution_count": 72,
      "metadata": {},
      "outputs": [],
      "source": [
        "df['att']"
      ],
      "id": "8448b978-beb2-4c52-82fd-3769b2db0b69"
    },
    {
      "cell_type": "markdown",
      "metadata": {},
      "source": [
        "`-` 예제2 : 학번 202212380의 출석점수 출력"
      ],
      "id": "d4d0b53a-faae-4e45-8b92-680712fef032"
    },
    {
      "cell_type": "code",
      "execution_count": 74,
      "metadata": {},
      "outputs": [],
      "source": [
        "test_dic2['att']['202212380']"
      ],
      "id": "b7cdb747-6a3e-469f-9cf3-b224290953a9"
    },
    {
      "cell_type": "code",
      "execution_count": 75,
      "metadata": {},
      "outputs": [],
      "source": [
        "df['att']['202212380']"
      ],
      "id": "d3d0d315-29f9-4393-8bb5-3b1e629a075b"
    },
    {
      "cell_type": "markdown",
      "metadata": {},
      "source": [
        "### 인덱싱으로 정보를 뽑는 기능도 지원을 하면 좋겠따. (마치 리스트나 넘파이처럼)\n",
        "\n",
        "`-` 예제1: 첫번째 학생의 기말고사 성적을 출력하고 싶다."
      ],
      "id": "04d02d79-2bd1-4850-864d-c16bb42f5ea8"
    },
    {
      "cell_type": "code",
      "execution_count": 76,
      "metadata": {},
      "outputs": [],
      "source": [
        "test_ndarray[0,-1]"
      ],
      "id": "121caa2a-065a-4717-9719-6edd4e010672"
    },
    {
      "cell_type": "code",
      "execution_count": 78,
      "metadata": {},
      "outputs": [],
      "source": [
        "df.iloc[0,-1]  "
      ],
      "id": "d73c691d-3119-4e62-a47b-2e5fdbbf312b"
    },
    {
      "cell_type": "markdown",
      "metadata": {},
      "source": [
        "-   벼락치기: df에서 iloc라는 특수기능을 이용하면 넘파이 인덱싱처럼\n",
        "    원소출력이 가능하다.\n",
        "\n",
        "`-`예제2: 홀수번째 학생의 점수를 뽑고 싶다."
      ],
      "id": "ebba10a7-661d-4a4b-9ae7-3fe2b6ee57d5"
    },
    {
      "cell_type": "code",
      "execution_count": 79,
      "metadata": {},
      "outputs": [],
      "source": [
        "test_ndarray[::2]"
      ],
      "id": "0d3ba711-3163-4729-87b1-d92e96b0bad0"
    },
    {
      "cell_type": "code",
      "execution_count": 80,
      "metadata": {},
      "outputs": [],
      "source": [
        "df.iloc[0::2]"
      ],
      "id": "fb70129a-0ce1-47aa-8ac1-700c630c3c6d"
    },
    {
      "cell_type": "markdown",
      "metadata": {},
      "source": [
        "`-` 예제3: 맨 끝에서 3명의 점수를 출력하고 싶다."
      ],
      "id": "5a2583ce-024d-4419-8cdc-62a895185e6f"
    },
    {
      "cell_type": "code",
      "execution_count": 82,
      "metadata": {},
      "outputs": [],
      "source": [
        "test_ndarray[-3:]"
      ],
      "id": "3bfeb2ec-561c-4de6-be22-bca009ffb1cd"
    },
    {
      "cell_type": "code",
      "execution_count": 83,
      "metadata": {},
      "outputs": [],
      "source": [
        "df.iloc[-3:]"
      ],
      "id": "ecfc789c-f4c1-41e5-b2e8-b81c503a4ca4"
    },
    {
      "cell_type": "markdown",
      "metadata": {},
      "source": [
        "`-` 예제4: 맨 끝에서 3명의 점수를 마지막 2개의 칼럼만 출력하고 싶다."
      ],
      "id": "4b44dbbf-b3cc-4a6d-906e-15f04ae2351f"
    },
    {
      "cell_type": "code",
      "execution_count": 85,
      "metadata": {},
      "outputs": [],
      "source": [
        "test_ndarray[-3:,-2:]"
      ],
      "id": "ab22b435-0381-4945-b2f8-e5813f7c7f49"
    },
    {
      "cell_type": "code",
      "execution_count": 86,
      "metadata": {},
      "outputs": [],
      "source": [
        "df.iloc[-3:,-2:]"
      ],
      "id": "094df51d-16ea-4d9e-8370-99f6432b585c"
    },
    {
      "cell_type": "markdown",
      "metadata": {},
      "source": [
        "### 궁극: 해싱과 인덱싱을 모두 지원하는 아주 우수한 자료형을 만들고 싶어!\n",
        "\n",
        "`-` 예제1: 중간고사 점수가 20점 이상이면서 동시에 출석점수가 60점미만인\n",
        "학생들의 기말고사 점수를 출력\n",
        "\n",
        "(방법1) 데이터베이스 스타일"
      ],
      "id": "362c7d7e-feb3-4ea3-b157-ccb1afdf6abf"
    },
    {
      "cell_type": "code",
      "execution_count": 87,
      "metadata": {},
      "outputs": [],
      "source": [
        "df.query(\"mid>=20 and att<60\")"
      ],
      "id": "ba0b0e04-4493-43e9-8907-35389973ec45"
    },
    {
      "cell_type": "code",
      "execution_count": 88,
      "metadata": {},
      "outputs": [],
      "source": [
        "df.query(\"mid>=20 and att<60\")['fin']"
      ],
      "id": "948daaca-60e9-43bb-b824-f29006365811"
    },
    {
      "cell_type": "markdown",
      "metadata": {},
      "source": [
        "(방법2) 넘파이 스타일"
      ],
      "id": "a151a924-bd52-428c-84c8-af9bfa03810d"
    },
    {
      "cell_type": "code",
      "execution_count": 89,
      "metadata": {},
      "outputs": [],
      "source": [
        "test_ndarray"
      ],
      "id": "ff2c2596-a321-4377-a02d-e0d3e8d86947"
    },
    {
      "cell_type": "code",
      "execution_count": 92,
      "metadata": {},
      "outputs": [],
      "source": [
        "test_ndarray[:,3]>=20 # 중간고사 점수 20점 이상"
      ],
      "id": "1b6b149c-1153-4012-be11-71cbcd4dca67"
    },
    {
      "cell_type": "code",
      "execution_count": 93,
      "metadata": {},
      "outputs": [],
      "source": [
        "test_ndarray[:,1] < 60 # 출석이 60미만 "
      ],
      "id": "30704170-7bda-4b1f-a787-e1182ee2278f"
    },
    {
      "cell_type": "code",
      "execution_count": 94,
      "metadata": {},
      "outputs": [],
      "source": [
        "(test_ndarray[:,3]>=20) & (test_ndarray[:,1] < 60)"
      ],
      "id": "a7bc7ef9-0912-42a3-a790-c9093fa97f42"
    },
    {
      "cell_type": "markdown",
      "metadata": {},
      "source": [
        "> note: test_ndarray\\[:,3\\]\\>=20 & test_ndarray\\[:,1\\] \\< 60 와 같이\n",
        "> 하면 에러가 난다. 가로로 묶어줘야 함"
      ],
      "id": "19fc7339-3ef8-4a64-b224-2975d44e8116"
    },
    {
      "cell_type": "code",
      "execution_count": 96,
      "metadata": {},
      "outputs": [],
      "source": [
        "test_ndarray[(test_ndarray[:,3]>=20) & (test_ndarray[:,1] < 60),-1] "
      ],
      "id": "be2134f0-535f-4333-9559-233718514565"
    },
    {
      "cell_type": "markdown",
      "metadata": {},
      "source": [
        "-   구현난이도 어려움, 가독성 꽝\n",
        "\n",
        "`-` 예제2: ’중간고사점수\\<기말고사점수’인 학생들의 출석점수 평균을\n",
        "구하자."
      ],
      "id": "7e02c52d-729b-43a7-a16c-018e0d209306"
    },
    {
      "cell_type": "code",
      "execution_count": 98,
      "metadata": {},
      "outputs": [],
      "source": [
        "df.query('mid<fin')['att'].mean()"
      ],
      "id": "169e4c73-b50a-4cd0-aa9c-23837f15479f"
    },
    {
      "cell_type": "markdown",
      "metadata": {},
      "source": [
        "# pandas 사용법\n",
        "\n",
        "### pandas 공부 1단계\n",
        "\n",
        "#### 데이터프레임 선언\n",
        "\n",
        "`-` 방법1: dictionary에서 만든다."
      ],
      "id": "0ce4f14d-51a6-4888-8c78-4c78d21f9056"
    },
    {
      "cell_type": "code",
      "execution_count": 100,
      "metadata": {},
      "outputs": [],
      "source": [
        "pd.DataFrame({'att':[30,40,50],'mid':[50,60,70]})  # 리스트"
      ],
      "id": "718a0150-9241-4e0e-a155-28dccf4d68af"
    },
    {
      "cell_type": "code",
      "execution_count": 101,
      "metadata": {},
      "outputs": [],
      "source": [
        "pd.DataFrame({'att':(30,40,50),'mid':(50,60,70)})  # 튜플"
      ],
      "id": "a32118df-3e9e-43d9-8484-0cefb5c8704c"
    },
    {
      "cell_type": "code",
      "execution_count": 104,
      "metadata": {},
      "outputs": [],
      "source": [
        "pd.DataFrame({'att':np.array([30,40,50]),'mid':np.array([50,60,70])})  # 넘파이어레이"
      ],
      "id": "df03a06a-1389-4d13-a5e2-c80bd5bcd8df"
    },
    {
      "cell_type": "markdown",
      "metadata": {},
      "source": [
        "`-` 방법2: 2차원 ndarray에서 형태변환 통해 만든다."
      ],
      "id": "714952bc-2170-40e3-8e94-96ae31b62b28"
    },
    {
      "cell_type": "code",
      "execution_count": 106,
      "metadata": {},
      "outputs": [],
      "source": [
        "np.arange(2*3).reshape(2,3)"
      ],
      "id": "34172c61-234c-43f4-89f8-f528794e5c87"
    },
    {
      "cell_type": "code",
      "execution_count": 107,
      "metadata": {},
      "outputs": [],
      "source": [
        "pd.DataFrame(np.arange(2*3).reshape(2,3))"
      ],
      "id": "6969a337-69c5-46d5-8850-51556ae3355f"
    },
    {
      "cell_type": "markdown",
      "metadata": {},
      "source": [
        "#### 열의 이름 부여\n",
        "\n",
        "`-` 방법1: 딕셔너리를 통하여 만들면 딕셔너리의 key가 자동으로 열의\n",
        "이름이 된다."
      ],
      "id": "51704ca3-480b-47d9-b131-bc470e7a2bd4"
    },
    {
      "cell_type": "code",
      "execution_count": 108,
      "metadata": {},
      "outputs": [],
      "source": [
        "pd.DataFrame({'att':np.array([30,40,50]),'mid':np.array([50,60,70])})"
      ],
      "id": "e25a1afb-e716-47fc-a579-5175418ffa1b"
    },
    {
      "cell_type": "markdown",
      "metadata": {},
      "source": [
        "`-` 방법2: pd.DataFrame()의 옵션에 columns를 이용"
      ],
      "id": "a2e3eb3d-f448-462a-befd-3928c3d304ae"
    },
    {
      "cell_type": "code",
      "execution_count": 109,
      "metadata": {},
      "outputs": [],
      "source": [
        "pd.DataFrame(np.arange(2*3).reshape(2,3),columns=['X1','X2','X3'])"
      ],
      "id": "ed1ff64a-7569-49ea-b944-4cdfd025a1f8"
    },
    {
      "cell_type": "markdown",
      "metadata": {},
      "source": [
        "`-` 방법3: df.columns에 원하는 열이름을 덮어씀(1)"
      ],
      "id": "80587c21-29d3-4861-ad81-1c778b1838b9"
    },
    {
      "cell_type": "code",
      "execution_count": 110,
      "metadata": {},
      "outputs": [],
      "source": [
        "df=pd.DataFrame(np.arange(2*3).reshape(2,3))\n",
        "df"
      ],
      "id": "0d60f79e-40c3-4d0c-a3da-fdc86508be3b"
    },
    {
      "cell_type": "code",
      "execution_count": 111,
      "metadata": {},
      "outputs": [],
      "source": [
        "df.columns"
      ],
      "id": "90086a51-a9de-4ca8-8210-9607c02b6571"
    },
    {
      "cell_type": "code",
      "execution_count": 112,
      "metadata": {},
      "outputs": [],
      "source": [
        "df.columns=['X1','X2','X3']"
      ],
      "id": "874596f5-dd8f-43df-9e38-adda8cc95573"
    },
    {
      "cell_type": "code",
      "execution_count": 113,
      "metadata": {},
      "outputs": [],
      "source": [
        "df"
      ],
      "id": "4e5372c9-638f-452e-a2b1-5439f42a0066"
    },
    {
      "cell_type": "markdown",
      "metadata": {},
      "source": [
        "`-` 방법4: df.columns에 원하는 열이름을 덮어씀(2)"
      ],
      "id": "c39be094-a9e2-406b-baa7-f0a0000b0685"
    },
    {
      "cell_type": "code",
      "execution_count": 116,
      "metadata": {},
      "outputs": [],
      "source": [
        "df.columns=pd.Index(['X1','X2','X3'])  # 위와 같은 코드\n",
        "df"
      ],
      "id": "c3f070b5-6684-4cef-9691-cb7109d48507"
    },
    {
      "cell_type": "markdown",
      "metadata": {},
      "source": [
        "방법4가 방법3의 방식보다 컴퓨터가 이해하기 좋다. (=불필요한 에러를\n",
        "방지할 수 있다.)"
      ],
      "id": "2b30ec22-93f9-4361-90e2-5ec1a2f3b987"
    },
    {
      "cell_type": "code",
      "execution_count": 121,
      "metadata": {},
      "outputs": [],
      "source": [
        "df.columns"
      ],
      "id": "8a02223a-2f55-4863-a9a0-36ef202bd3e1"
    },
    {
      "cell_type": "code",
      "execution_count": 118,
      "metadata": {},
      "outputs": [],
      "source": [
        "type(df.columns)"
      ],
      "id": "95a752c0-6587-4f55-a572-306cf70459dc"
    },
    {
      "cell_type": "code",
      "execution_count": 122,
      "metadata": {},
      "outputs": [],
      "source": [
        "['X1','X2','X3'], type(['X1','X2','X3'])"
      ],
      "id": "30d52579-571b-4c47-8a8c-1b5b5c90a2fb"
    },
    {
      "cell_type": "code",
      "execution_count": 119,
      "metadata": {},
      "outputs": [],
      "source": [
        "pd.Index(['X1','X2','X3'])"
      ],
      "id": "258efccd-a7a4-4dfd-b39b-aeac419c07fe"
    },
    {
      "cell_type": "markdown",
      "metadata": {},
      "source": [
        "#### 행의 이름 부여\n",
        "\n",
        "`-` 방법1: 중첩 dict이면 nested dic의 key가 알아서 행의 이름으로 된다.\n",
        "(안쪽..)"
      ],
      "id": "b31d14ea-9549-451f-8908-42793699203d"
    },
    {
      "cell_type": "code",
      "execution_count": 124,
      "metadata": {},
      "outputs": [],
      "source": [
        "{'att': {'boram':30, 'iu':40, 'hynn':50}, 'mid':{'boram':5, 'iu':45, 'hynn':90}}"
      ],
      "id": "8d0eea30-16c9-41df-9d08-d0d88a82b5a2"
    },
    {
      "cell_type": "code",
      "execution_count": 125,
      "metadata": {},
      "outputs": [],
      "source": [
        "pd.DataFrame({'att': {'boram':30, 'iu':40, 'hynn':50}, 'mid':{'boram':5, 'iu':45, 'hynn':90}})"
      ],
      "id": "7cbf44c6-f78f-4ae4-9c4c-c5c59c3d2611"
    },
    {
      "cell_type": "markdown",
      "metadata": {},
      "source": [
        "`-` 방법2: index옵션 이용"
      ],
      "id": "6d1c416b-0e14-4637-99c6-1e35c04a198a"
    },
    {
      "cell_type": "code",
      "execution_count": 127,
      "metadata": {},
      "outputs": [],
      "source": [
        "pd.DataFrame({'att': [30, 40,50], 'mid':[5,45, 90]}, index=['boram','iu','hynn'])"
      ],
      "id": "62c58f78-d3ef-4023-a0b5-77c827cdc8e5"
    },
    {
      "cell_type": "markdown",
      "metadata": {},
      "source": [
        "`-` 방법3: df.index에 덮어씌움"
      ],
      "id": "19cdda6c-3eba-4cb7-9130-fcdbf685b994"
    },
    {
      "cell_type": "code",
      "execution_count": 129,
      "metadata": {},
      "outputs": [],
      "source": [
        "df=pd.DataFrame({'att': [30, 40,50], 'mid':[5,45, 90]})\n",
        "df"
      ],
      "id": "c636e4f3-93e5-4450-b7ba-5d7401c0837d"
    },
    {
      "cell_type": "code",
      "execution_count": 130,
      "metadata": {},
      "outputs": [],
      "source": [
        "df.index"
      ],
      "id": "e4ce9fb7-115d-489d-8fe2-4519f9f9188a"
    },
    {
      "cell_type": "code",
      "execution_count": 133,
      "metadata": {},
      "outputs": [],
      "source": [
        "df.index=['boram','iu','hynn']\n",
        "df"
      ],
      "id": "9b32cdeb-5e0b-4e8e-928d-b128a70136fc"
    },
    {
      "cell_type": "code",
      "execution_count": 136,
      "metadata": {},
      "outputs": [],
      "source": [
        "df.index= pd.Index(['boram','iu','hynn'])  #이게 컴퓨터가 볼 때 더 안전한 코드!\n",
        "df"
      ],
      "id": "e9b0f565-19e7-46f2-8271-1150adcf256b"
    },
    {
      "cell_type": "markdown",
      "metadata": {},
      "source": [
        "`-` 방법4: df.set_index() 를 이용하여 덮어 씌운다."
      ],
      "id": "70df8a71-3c86-499a-aa08-e833d34b4d57"
    },
    {
      "cell_type": "code",
      "execution_count": 137,
      "metadata": {},
      "outputs": [],
      "source": [
        "df=pd.DataFrame({'att': [30, 40,50], 'mid':[5,45, 90]})\n",
        "df"
      ],
      "id": "1996328b-c412-4227-83cc-b42768bcd82c"
    },
    {
      "cell_type": "code",
      "execution_count": 139,
      "metadata": {},
      "outputs": [],
      "source": [
        "df.set_index(pd.Index(['boram','iu','hynn']))"
      ],
      "id": "57db2800-b5fa-4495-b21e-189e11cc37dd"
    },
    {
      "cell_type": "markdown",
      "metadata": {},
      "source": [
        "(주의) 아래는 에러가 난다."
      ],
      "id": "11eaa499-a738-4b85-ad8b-ba4f5c946c4e"
    },
    {
      "cell_type": "code",
      "execution_count": 141,
      "metadata": {},
      "outputs": [],
      "source": [
        "df.set_index(['boram','iu','hynn'])"
      ],
      "id": "d12036d4-848b-43e9-870e-dbc50f89ec7d"
    },
    {
      "cell_type": "code",
      "execution_count": 143,
      "metadata": {},
      "outputs": [],
      "source": [
        "df.set_index([['boram','iu','hynn']]) # 꺽쇠를 한번 더 넣어주면 에러를 피할 수 있따."
      ],
      "id": "2748179b-4938-4eb9-aadd-9345847496ec"
    },
    {
      "cell_type": "markdown",
      "metadata": {},
      "source": [
        "#### 자료형, len, shape, for문의 반복변수"
      ],
      "id": "2bb95433-8203-42fc-b968-b71aec5344da"
    },
    {
      "cell_type": "code",
      "execution_count": 144,
      "metadata": {},
      "outputs": [],
      "source": [
        "df= pd.DataFrame({'att':[30,40,50],'mid':[5,45,90]})\n",
        "df"
      ],
      "id": "5bd26ff3-9075-4ee3-9a00-d3475aeee73f"
    },
    {
      "cell_type": "markdown",
      "metadata": {},
      "source": [
        "`-` type"
      ],
      "id": "c557bba3-55ac-49d4-af22-ab81d8192af9"
    },
    {
      "cell_type": "code",
      "execution_count": 145,
      "metadata": {},
      "outputs": [],
      "source": [
        "type(df)"
      ],
      "id": "18ef0e50-5d0e-43ab-b142-29bac5c235b3"
    },
    {
      "cell_type": "markdown",
      "metadata": {},
      "source": [
        "`-` len"
      ],
      "id": "e375fc77-b13d-4bb9-91e4-cf0e90c37ad0"
    },
    {
      "cell_type": "code",
      "execution_count": 147,
      "metadata": {},
      "outputs": [],
      "source": [
        "len(df) #row의 갯수"
      ],
      "id": "e4044062-c8d5-441a-a251-1ff284a69593"
    },
    {
      "cell_type": "markdown",
      "metadata": {},
      "source": [
        "`-` shape"
      ],
      "id": "fedc384a-881d-4c3b-b034-abaedc1b1504"
    },
    {
      "cell_type": "code",
      "execution_count": 149,
      "metadata": {},
      "outputs": [],
      "source": [
        "df.shape"
      ],
      "id": "8410a703-9c18-484e-83aa-3ea3ade4a364"
    },
    {
      "cell_type": "markdown",
      "metadata": {},
      "source": [
        "`-` for문의 반복변수"
      ],
      "id": "35b414a0-d251-4ffb-bfad-a98c5dc1e59d"
    },
    {
      "cell_type": "code",
      "execution_count": 151,
      "metadata": {},
      "outputs": [
        {
          "output_type": "stream",
          "name": "stdout",
          "text": [
            "att\n",
            "mid"
          ]
        }
      ],
      "source": [
        "for k in df:\n",
        "    print(k) #딕셔너리와 같다."
      ],
      "id": "d78d050c-7b87-4c2a-9976-c63b46691fde"
    },
    {
      "cell_type": "code",
      "execution_count": 153,
      "metadata": {},
      "outputs": [
        {
          "output_type": "stream",
          "name": "stdout",
          "text": [
            "att\n",
            "mid"
          ]
        }
      ],
      "source": [
        "for k in {'att':[30,40,50],'mid':[5,45,90]}: #딕셔너리\n",
        "    print(k)"
      ],
      "id": "208e1bf2-5e97-496c-a623-e7a3dd20ee02"
    },
    {
      "cell_type": "markdown",
      "metadata": {},
      "source": [
        "#### pd.Series\n",
        "\n",
        "`-` 2차원 ndarray가 pd.DataFrame에 대응한다면 1차원 ndarray는\n",
        "pd.Series에 대응한다."
      ],
      "id": "c1049bf0-be58-4f61-a54a-7aff35855aba"
    },
    {
      "cell_type": "code",
      "execution_count": 155,
      "metadata": {},
      "outputs": [],
      "source": [
        "a=pd.Series(np.random.randn(10))\n",
        "a"
      ],
      "id": "8fa0b708-7f6c-40b4-adb9-fb7724bcbb8f"
    },
    {
      "cell_type": "code",
      "execution_count": 156,
      "metadata": {},
      "outputs": [],
      "source": [
        "type(a)"
      ],
      "id": "05308228-0f11-4c7e-89e3-0aa64e7c7bc2"
    },
    {
      "cell_type": "code",
      "execution_count": 157,
      "metadata": {},
      "outputs": [],
      "source": [
        "len(a)"
      ],
      "id": "7445a22d-29e6-4871-842a-fe934d753d0b"
    },
    {
      "cell_type": "code",
      "execution_count": 158,
      "metadata": {},
      "outputs": [],
      "source": [
        "a.shape"
      ],
      "id": "85904534-61bb-4daa-8c97-2d7ee05f6eeb"
    },
    {
      "cell_type": "code",
      "execution_count": 160,
      "metadata": {},
      "outputs": [
        {
          "output_type": "stream",
          "name": "stdout",
          "text": [
            "0.10617283591748639\n",
            "0.7237590624253404\n",
            "0.21798967912700873\n",
            "0.1940223087322443\n",
            "-0.6889899757985083\n",
            "-0.3516696436204985\n",
            "0.9909329773184973\n",
            "1.2121468150185186\n",
            "-0.6089654373693767\n",
            "0.03254898346416765"
          ]
        }
      ],
      "source": [
        "for value in a:\n",
        "    print(value)   #값들이 반복 넘파이어레이처럼.."
      ],
      "id": "dc1c4a83-f25d-429b-aea9-a657a5c01c56"
    },
    {
      "cell_type": "markdown",
      "metadata": {},
      "source": [
        "### pandas공부 2단계\n",
        "\n",
        "`-` 데이터"
      ],
      "id": "9e118ffb-a40f-4070-ab82-f0fd6cd4d802"
    },
    {
      "cell_type": "code",
      "execution_count": 162,
      "metadata": {},
      "outputs": [],
      "source": [
        "np.random.seed(43052)\n",
        "att = np.random.choice(np.arange(10,21)*5,20)\n",
        "rep = np.random.choice(np.arange(5,21)*5,20)\n",
        "mid = np.random.choice(np.arange(0,21)*5,20)\n",
        "fin = np.random.choice(np.arange(0,21)*5,20)\n",
        "key = ['202212'+str(s) for s in np.random.choice(np.arange(300,501),20,replace=False)]"
      ],
      "id": "df8ade33-f294-45f1-b6b3-8b038b45576b"
    },
    {
      "cell_type": "code",
      "execution_count": 165,
      "metadata": {},
      "outputs": [],
      "source": [
        "df=pd.DataFrame({'att':att, 'rep':rep, 'mid':mid, 'fin':fin}, index=key)\n",
        "df"
      ],
      "id": "fb96b79a-8f5e-49cd-b72b-298687bef35d"
    },
    {
      "cell_type": "markdown",
      "metadata": {},
      "source": [
        "#### 첫번째 칼럼을 선택\n",
        "\n",
        "`-` 방법1"
      ],
      "id": "ea1870d6-84fa-4af5-846b-6b36dc7641bb"
    },
    {
      "cell_type": "code",
      "execution_count": 166,
      "metadata": {},
      "outputs": [],
      "source": [
        "df.att "
      ],
      "id": "883a87b3-1616-48e3-8232-b9bce052bf18"
    },
    {
      "cell_type": "markdown",
      "metadata": {},
      "source": [
        "`-` 방법2 : dict스타일"
      ],
      "id": "d8d7fbe7-43a2-4a8b-b3fb-ed4008be3634"
    },
    {
      "cell_type": "code",
      "execution_count": 167,
      "metadata": {},
      "outputs": [],
      "source": [
        "df['att']"
      ],
      "id": "ccd3b1f4-e9dc-4e6f-a36d-9b454f0e98c1"
    },
    {
      "cell_type": "code",
      "execution_count": 169,
      "metadata": {},
      "outputs": [],
      "source": [
        "type(df['att'])"
      ],
      "id": "8209e3af-594d-4b97-b04e-b726c986fb3c"
    },
    {
      "cell_type": "markdown",
      "metadata": {},
      "source": [
        "`-` 방법3 : dict스타일"
      ],
      "id": "c0566d52-25a3-435a-a368-f8411e905fdb"
    },
    {
      "cell_type": "code",
      "execution_count": 168,
      "metadata": {},
      "outputs": [],
      "source": [
        "df[['att']]"
      ],
      "id": "7be26ca0-c12d-4663-85ed-a63284589196"
    },
    {
      "cell_type": "code",
      "execution_count": 170,
      "metadata": {},
      "outputs": [],
      "source": [
        "type(df[['att']])"
      ],
      "id": "848e563d-afbe-4dc2-b169-385c0e89222e"
    },
    {
      "cell_type": "markdown",
      "metadata": {},
      "source": [
        "-   df.att 나 df\\[‘att’\\]는 series를 리턴하고 df\\[\\[‘att’\\]\\]는\n",
        "    dataframe을 리턴한다.\n",
        "\n",
        "`-` 방법4 : ndarray 스타일"
      ],
      "id": "61f9e1c5-05ef-4f83-80b1-525ab49d2548"
    },
    {
      "cell_type": "code",
      "execution_count": 178,
      "metadata": {},
      "outputs": [],
      "source": [
        "df.iloc[:,0] "
      ],
      "id": "8e428d9e-a068-4f32-9475-ec91e0558ac4"
    },
    {
      "cell_type": "markdown",
      "metadata": {},
      "source": [
        "`-` 방법5: ndarray스타일"
      ],
      "id": "33a0d577-b268-4154-ae01-a002839c65e7"
    },
    {
      "cell_type": "code",
      "execution_count": 179,
      "metadata": {},
      "outputs": [],
      "source": [
        "df.iloc[:,[0]]"
      ],
      "id": "60e6c6c9-2c16-4526-abf1-cf3d0636b1da"
    },
    {
      "cell_type": "markdown",
      "metadata": {},
      "source": [
        "-   df.iloc\\[:,0\\]은 series를 리턴하고 df.iloc\\[:,\\[0\\]\\]은 dataframe을\n",
        "    리턴한다.\n",
        "\n",
        "`-` 방법6: ndarray 스타일과 dict 스타일의 혼합"
      ],
      "id": "492eccef-fad1-4bbd-a9dd-c468c9acafd1"
    },
    {
      "cell_type": "code",
      "execution_count": 180,
      "metadata": {},
      "outputs": [],
      "source": [
        "df.loc[:,'att'] "
      ],
      "id": "7a16754a-b9c8-48b1-a299-888fa9df0c83"
    },
    {
      "cell_type": "markdown",
      "metadata": {},
      "source": [
        "`-` 방법7: ndarray 스타일과 dict 스타일의 혼합"
      ],
      "id": "1b9694e7-61df-40b0-a877-4c2068880b1d"
    },
    {
      "cell_type": "code",
      "execution_count": 181,
      "metadata": {},
      "outputs": [],
      "source": [
        "df.loc[:,['att']] "
      ],
      "id": "3cf8f587-026e-4ec5-9a42-83b2c01994d5"
    },
    {
      "cell_type": "markdown",
      "metadata": {},
      "source": [
        "-   df.loc\\[:,‘att’\\]은 series를 리턴하고 df.loc\\[:,\\[‘att’\\]\\]은\n",
        "    dataframe을 리턴한다.\n",
        "\n",
        "`-` 방법7: nparray 스타일 + bool 인덱싱"
      ],
      "id": "63f30ee2-7781-4165-9ba1-6aacdef79c21"
    },
    {
      "cell_type": "code",
      "execution_count": 182,
      "metadata": {},
      "outputs": [],
      "source": [
        "df.iloc[:,[True,False,False,False]]"
      ],
      "id": "e4c97e43-3a0d-4261-9200-32a202b2305a"
    },
    {
      "cell_type": "markdown",
      "metadata": {},
      "source": [
        "`-` 방법8: ndarray와 dict의 홉합형 + bool 인덱싱"
      ],
      "id": "55d6dbc6-db14-4b64-9110-982614756055"
    },
    {
      "cell_type": "code",
      "execution_count": 183,
      "metadata": {},
      "outputs": [],
      "source": [
        "df.loc[:,[True,False,False,False]]"
      ],
      "id": "3d1b3125-62e1-4ae7-9013-0fdc66587731"
    },
    {
      "cell_type": "markdown",
      "metadata": {},
      "source": [
        "#### 여러개의 칼럼을 선택\n",
        "\n",
        "`-` 방법1: dict스타일"
      ],
      "id": "1a91a4db-5ef3-4b01-a34b-86374d70a929"
    },
    {
      "cell_type": "code",
      "execution_count": 186,
      "metadata": {},
      "outputs": [],
      "source": [
        "df[['att','fin']]"
      ],
      "id": "4a39d1d4-19dc-43bc-a15b-febeceb87962"
    },
    {
      "cell_type": "markdown",
      "metadata": {},
      "source": [
        "`-` 방법2: ndarray 스타일 (정수리스트로 인덱싱, 슬라이싱, 스트라이딩)"
      ],
      "id": "2437cee6-4f4f-46ee-993c-07da97222c91"
    },
    {
      "cell_type": "code",
      "execution_count": 189,
      "metadata": {},
      "outputs": [],
      "source": [
        "df.iloc[:,[0,1]] #정수의 리스트를 전달하여 칼럼추출"
      ],
      "id": "3147aa67-f808-496d-9a91-409014db719f"
    },
    {
      "cell_type": "code",
      "execution_count": 199,
      "metadata": {},
      "outputs": [],
      "source": [
        "df.iloc[:,0:2]  #슬라이싱, 0,1,2에서 마지막 2는 제외되고 0,1에 해당하는 것만 추출"
      ],
      "id": "1e0397de-dda9-491e-9d8b-f37e37c34814"
    },
    {
      "cell_type": "code",
      "execution_count": 191,
      "metadata": {},
      "outputs": [],
      "source": [
        "df.iloc[:,2:]  #슬라이싱"
      ],
      "id": "14d020c8-7965-4c9f-a169-4a35691b83d5"
    },
    {
      "cell_type": "code",
      "execution_count": 193,
      "metadata": {},
      "outputs": [],
      "source": [
        "df.iloc[:,::2]  #슬라이싱, 스트라이딩"
      ],
      "id": "b5fa7a30-809e-42b7-a05b-fff3b5ea0487"
    },
    {
      "cell_type": "markdown",
      "metadata": {},
      "source": [
        "`-` 방법3: ndarray와 dict의 혼합형"
      ],
      "id": "c7e444b8-416a-44f6-926e-e052b61ec394"
    },
    {
      "cell_type": "code",
      "execution_count": 195,
      "metadata": {},
      "outputs": [],
      "source": [
        "df.loc[:,['att','mid']]"
      ],
      "id": "94f5d8de-7623-4edc-a5a6-a75ec29bc290"
    },
    {
      "cell_type": "code",
      "execution_count": 200,
      "metadata": {},
      "outputs": [],
      "source": [
        "df.loc[:,'att':'rep']  # key로 하는 슬라이싱은 마지막 'rep'까지 표시되어 나온다"
      ],
      "id": "bf76347a-2fd0-4b22-accd-5229ca2e29b2"
    },
    {
      "cell_type": "code",
      "execution_count": 197,
      "metadata": {},
      "outputs": [],
      "source": [
        "df.loc[:,:'rep']"
      ],
      "id": "1bc63de2-377f-4660-890c-5eb762aa7db3"
    },
    {
      "cell_type": "code",
      "execution_count": 198,
      "metadata": {},
      "outputs": [],
      "source": [
        "df.loc[:,'rep':]"
      ],
      "id": "0a93e8e3-69dd-471b-acbb-a7e0f711b2c3"
    },
    {
      "cell_type": "markdown",
      "metadata": {},
      "source": [
        "`-` 방법4: bool을 이용한 인덱싱"
      ],
      "id": "9e067746-d491-4a05-a002-f2f556fb77b7"
    },
    {
      "cell_type": "code",
      "execution_count": 201,
      "metadata": {},
      "outputs": [],
      "source": [
        "df.iloc[:,[True,False,True,False]]"
      ],
      "id": "f4be7437-ee1d-471a-a381-facfcc3b781c"
    },
    {
      "cell_type": "code",
      "execution_count": 202,
      "metadata": {},
      "outputs": [],
      "source": [
        "df.loc[:,[True,False,True,False]]"
      ],
      "id": "148613ea-b0ee-4326-a41f-bd2c2745b356"
    },
    {
      "cell_type": "code",
      "execution_count": 204,
      "metadata": {},
      "outputs": [],
      "source": [
        "test_ndarray[:,range(2)]"
      ],
      "id": "0341bd41-8195-4036-8f82-8845e38da3b4"
    },
    {
      "cell_type": "code",
      "execution_count": 203,
      "metadata": {},
      "outputs": [],
      "source": [
        "df.iloc[:,range(2)]"
      ],
      "id": "b7ee059f-3291-4cbf-8de8-95ef5b458204"
    },
    {
      "cell_type": "markdown",
      "metadata": {},
      "source": [
        "#### 첫번째 행을 선택\n",
        "\n",
        "`-` 방법1"
      ],
      "id": "3f90d26c-1d33-4316-ae16-2aa0c5eebad5"
    },
    {
      "cell_type": "code",
      "execution_count": 206,
      "metadata": {},
      "outputs": [],
      "source": [
        "test_ndarray[0,:]"
      ],
      "id": "60ddc279-8783-40a6-ba2b-fb0211f408a4"
    },
    {
      "cell_type": "code",
      "execution_count": 207,
      "metadata": {},
      "outputs": [],
      "source": [
        "test_ndarray[0]"
      ],
      "id": "1b46761b-199b-4c93-b8bb-7ac3a18f30c4"
    },
    {
      "cell_type": "code",
      "execution_count": 205,
      "metadata": {},
      "outputs": [],
      "source": [
        "df.iloc[0]"
      ],
      "id": "4767913e-318a-403c-888c-bef8ccf8b42a"
    },
    {
      "cell_type": "markdown",
      "metadata": {},
      "source": [
        "`-` 방법2"
      ],
      "id": "6ea26c27-2e28-48fd-afdc-dbf945e8c85c"
    },
    {
      "cell_type": "code",
      "execution_count": 209,
      "metadata": {},
      "outputs": [],
      "source": [
        "df.iloc[[0]]  # 데이터프레임처럼"
      ],
      "id": "35cf0796-212d-411b-bc28-9d82e3e0090d"
    },
    {
      "cell_type": "markdown",
      "metadata": {},
      "source": [
        "`-` 방법3"
      ],
      "id": "2bcc3e76-4b23-4f63-8381-0394cd64149a"
    },
    {
      "cell_type": "code",
      "execution_count": 210,
      "metadata": {},
      "outputs": [],
      "source": [
        "df.iloc[0,:]"
      ],
      "id": "39a1be87-5032-416d-b314-7630b9c3a2ea"
    },
    {
      "cell_type": "markdown",
      "metadata": {},
      "source": [
        "`-` 방법4"
      ],
      "id": "4ec12235-d2cd-437f-9673-5c2cd3f85a63"
    },
    {
      "cell_type": "code",
      "execution_count": 211,
      "metadata": {},
      "outputs": [],
      "source": [
        "df.iloc[[0],:]"
      ],
      "id": "29788baf-fc67-468c-85f0-ef887ff06f19"
    },
    {
      "cell_type": "markdown",
      "metadata": {},
      "source": [
        "`-` 방법5"
      ],
      "id": "ba6a0519-a024-4999-b2be-2711d6434ec4"
    },
    {
      "cell_type": "code",
      "execution_count": 213,
      "metadata": {},
      "outputs": [],
      "source": [
        "df.loc['202212380']"
      ],
      "id": "bd24fe17-3d4a-4dc9-9f6e-fe3981708008"
    },
    {
      "cell_type": "markdown",
      "metadata": {},
      "source": [
        "`-` 방법6"
      ],
      "id": "0a40f150-03d1-437b-b366-31a10e1cc5a8"
    },
    {
      "cell_type": "code",
      "execution_count": 215,
      "metadata": {},
      "outputs": [],
      "source": [
        "df.loc[['202212380']]  # 데이터프레임처럼"
      ],
      "id": "feba972b-52fd-48b3-ba5a-fd40a171469c"
    },
    {
      "cell_type": "markdown",
      "metadata": {},
      "source": [
        "`-` 방법7"
      ],
      "id": "7da3fa14-e0c8-4cb8-835e-e9f18537964f"
    },
    {
      "cell_type": "code",
      "execution_count": 216,
      "metadata": {},
      "outputs": [],
      "source": [
        "df.loc['202212380',:]"
      ],
      "id": "68a1afa0-af38-4b91-95d8-1c2a092db92f"
    },
    {
      "cell_type": "markdown",
      "metadata": {},
      "source": [
        "`-` 방법8"
      ],
      "id": "6de63d62-5380-4793-bf19-a078ba4d903b"
    },
    {
      "cell_type": "code",
      "execution_count": 217,
      "metadata": {},
      "outputs": [],
      "source": [
        "df.loc[['202212380'],:]"
      ],
      "id": "ac8557b1-0e3a-426a-a387-12a4348e785e"
    },
    {
      "cell_type": "markdown",
      "metadata": {},
      "source": [
        "`-` 방법9"
      ],
      "id": "f0a862e6-07df-405f-95c9-b2bbd99b19f6"
    },
    {
      "cell_type": "code",
      "execution_count": 219,
      "metadata": {},
      "outputs": [],
      "source": [
        "len(df)"
      ],
      "id": "f6cb9005-9327-4ac6-bc54-5a06fa215deb"
    },
    {
      "cell_type": "code",
      "execution_count": 220,
      "metadata": {},
      "outputs": [],
      "source": [
        "[True]+[False]*19"
      ],
      "id": "b3ad0a24-9735-4814-b457-6ce23c44f352"
    },
    {
      "cell_type": "code",
      "execution_count": 223,
      "metadata": {},
      "outputs": [],
      "source": [
        "_lst = [True]+[False]*19"
      ],
      "id": "2e33f33b-1d60-4f1c-839f-f04b2025807a"
    },
    {
      "cell_type": "code",
      "execution_count": 226,
      "metadata": {},
      "outputs": [],
      "source": [
        "df.iloc[_lst]"
      ],
      "id": "f4dbe626-a5fa-476e-b696-57c337d5bb67"
    },
    {
      "cell_type": "code",
      "execution_count": 225,
      "metadata": {},
      "outputs": [],
      "source": [
        "df.iloc[_lst,:]"
      ],
      "id": "3dcad9d4-662f-444a-9291-83e2f8cf359e"
    },
    {
      "cell_type": "code",
      "execution_count": 227,
      "metadata": {},
      "outputs": [],
      "source": [
        "df.loc[_lst]"
      ],
      "id": "9f7e6a31-c1b6-4b4a-af2d-082130bb209e"
    },
    {
      "cell_type": "code",
      "execution_count": 228,
      "metadata": {},
      "outputs": [],
      "source": [
        "df.loc[_lst,:]"
      ],
      "id": "7aca0887-e96f-4f15-b0fa-7af47dcc3930"
    },
    {
      "cell_type": "markdown",
      "metadata": {},
      "source": [
        "#### 여러개의 행을 선택\n",
        "\n",
        "`-` 방법1"
      ],
      "id": "bc37a84b-8635-4a94-a345-acc82778e4c7"
    },
    {
      "cell_type": "code",
      "execution_count": 230,
      "metadata": {},
      "outputs": [],
      "source": [
        "df.iloc[[0,2]]"
      ],
      "id": "b0c54fcd-3005-4911-aa97-b1d7e3f5ffb8"
    },
    {
      "cell_type": "code",
      "execution_count": 229,
      "metadata": {},
      "outputs": [],
      "source": [
        "df.iloc[[0,2],:]"
      ],
      "id": "aecd16bc-d2f6-46fe-94e7-6126d04f056c"
    },
    {
      "cell_type": "markdown",
      "metadata": {},
      "source": [
        "`-` 방법2"
      ],
      "id": "c617e516-57a3-480e-b926-a6453b5f6a8d"
    },
    {
      "cell_type": "code",
      "execution_count": 232,
      "metadata": {},
      "outputs": [],
      "source": [
        "df.loc[['202212380','202212363']]"
      ],
      "id": "24292c20-a0ef-40b8-991e-2ca20f396c0d"
    },
    {
      "cell_type": "code",
      "execution_count": 231,
      "metadata": {},
      "outputs": [],
      "source": [
        "df.loc[['202212380','202212363'],:]"
      ],
      "id": "432d05d8-06c7-466d-96d9-54ddf71902d4"
    },
    {
      "cell_type": "markdown",
      "metadata": {},
      "source": [
        "`-` 그 밖의 방법들"
      ],
      "id": "14917d59-acea-44b6-bb63-c8e9721d735b"
    },
    {
      "cell_type": "code",
      "execution_count": 235,
      "metadata": {},
      "outputs": [],
      "source": [
        "df.iloc[::4]  # 스트라이딩"
      ],
      "id": "7924fdcf-fca1-4aa4-8d97-ab621c781d06"
    },
    {
      "cell_type": "code",
      "execution_count": 236,
      "metadata": {},
      "outputs": [],
      "source": [
        "df.iloc[:5]"
      ],
      "id": "387c906d-b276-4eaf-87e1-d73be8da00ba"
    },
    {
      "cell_type": "code",
      "execution_count": 237,
      "metadata": {},
      "outputs": [],
      "source": [
        "df.loc[:'202212312']"
      ],
      "id": "dd0ca901-163b-4d3b-94d4-06c381d05495"
    },
    {
      "cell_type": "code",
      "execution_count": 240,
      "metadata": {},
      "outputs": [],
      "source": [
        "df.att < 80"
      ],
      "id": "92421ce2-22ae-4808-a3fd-0fc05b95eb9b"
    },
    {
      "cell_type": "code",
      "execution_count": 241,
      "metadata": {},
      "outputs": [],
      "source": [
        "df.loc[df.att<80]"
      ],
      "id": "49dc740f-6560-43a1-9584-fba9f15c3f30"
    },
    {
      "cell_type": "code",
      "execution_count": 244,
      "metadata": {},
      "outputs": [],
      "source": [
        "df.loc[list(df.att<80),'rep':]  # 리스트로 바꿔주는게 컴퓨터에게 좀 더 명확한 전달"
      ],
      "id": "0866a2c9-66ef-40a3-8cc6-3b73ab8d6402"
    },
    {
      "cell_type": "code",
      "execution_count": 245,
      "metadata": {},
      "outputs": [],
      "source": [
        "df.loc[df.att<80,'rep':] # 하지만 리스트화 안해도 되긴 한다.."
      ],
      "id": "c93d6b99-c438-4d57-a5d7-be93a130a201"
    },
    {
      "cell_type": "code",
      "execution_count": 247,
      "metadata": {},
      "outputs": [],
      "source": [
        "df.iloc[list(df.att<80),1:]"
      ],
      "id": "5404e29d-2b6d-4c8d-a4ee-fe4fef1ace07"
    },
    {
      "cell_type": "markdown",
      "metadata": {},
      "source": [
        "`-` 아래는 에러가 난다."
      ],
      "id": "12580f55-db8f-45d1-97da-f1a2e5bc4d5e"
    },
    {
      "cell_type": "code",
      "execution_count": 248,
      "metadata": {},
      "outputs": [],
      "source": [
        "df.iloc[df.att<80,1:]"
      ],
      "id": "c808e2b3-cb00-49f2-a417-d72305688929"
    },
    {
      "cell_type": "markdown",
      "metadata": {},
      "source": [
        "#### query (중요!!!)\n",
        "\n",
        "`-` 예제1"
      ],
      "id": "f1a7afce-a524-4a6e-8101-a7cf6a7d736d"
    },
    {
      "cell_type": "code",
      "execution_count": 250,
      "metadata": {},
      "outputs": [],
      "source": [
        "df.query('att==90 and mid>30')"
      ],
      "id": "7e8d4afd-23e5-438f-b1cf-c86687932314"
    },
    {
      "cell_type": "markdown",
      "metadata": {},
      "source": [
        "`-` 예제2"
      ],
      "id": "5e807c5b-2c29-45ca-b021-ad125eb5cb67"
    },
    {
      "cell_type": "code",
      "execution_count": 252,
      "metadata": {},
      "outputs": [],
      "source": [
        "df.query('att<rep and mid<fin')"
      ],
      "id": "3489e64c-4a65-410b-afcb-27d3e32f8ee6"
    },
    {
      "cell_type": "markdown",
      "metadata": {},
      "source": [
        "`-` 예제3"
      ],
      "id": "4268bdf3-0286-4819-9bca-d7e1ad2a887c"
    },
    {
      "cell_type": "code",
      "execution_count": 253,
      "metadata": {},
      "outputs": [],
      "source": [
        "df.query('att<rep<80')"
      ],
      "id": "0089d3b1-0295-40d7-baa5-5e19e926bd1b"
    },
    {
      "cell_type": "markdown",
      "metadata": {},
      "source": [
        "`-` 예제4"
      ],
      "id": "25694b91-0c9c-4819-84b6-86cbaa231d31"
    },
    {
      "cell_type": "code",
      "execution_count": 254,
      "metadata": {},
      "outputs": [],
      "source": [
        "df.query('50<att<=90 and mid<fin')"
      ],
      "id": "90a6be72-9d78-4bc5-9658-a5177a16fa4d"
    },
    {
      "cell_type": "markdown",
      "metadata": {},
      "source": [
        "`-` 예제5"
      ],
      "id": "d9806dc5-7fe3-4b2e-b049-82f1fc898c56"
    },
    {
      "cell_type": "code",
      "execution_count": 255,
      "metadata": {},
      "outputs": [],
      "source": [
        "df.query('(mid+fin)/2 >= 60')"
      ],
      "id": "174bb47e-c727-4ecc-814f-c33ad4938c80"
    },
    {
      "cell_type": "markdown",
      "metadata": {},
      "source": [
        "`-` 예제6"
      ],
      "id": "953f5362-b23f-4dd7-b0cb-8102f4db7cbb"
    },
    {
      "cell_type": "code",
      "execution_count": 258,
      "metadata": {},
      "outputs": [],
      "source": [
        "_mean = df.att.mean()\n",
        "_mean"
      ],
      "id": "56e1b426-f70c-4b35-af69-e2cd99211574"
    },
    {
      "cell_type": "code",
      "execution_count": 259,
      "metadata": {},
      "outputs": [],
      "source": [
        "df.query('att>=73')"
      ],
      "id": "a8f23643-d2f1-403e-a919-dd0308487f8a"
    },
    {
      "cell_type": "code",
      "execution_count": 261,
      "metadata": {},
      "outputs": [],
      "source": [
        "df.query('att>=_mean')  # keyError 가 난다!"
      ],
      "id": "2bc42c4f-8900-4adf-a2f1-acabf805ecf4"
    },
    {
      "cell_type": "code",
      "execution_count": 263,
      "metadata": {},
      "outputs": [],
      "source": [
        "df.query('att>=@_mean')   # 앞에 @ 골뱅이를 붙여주면 에러 안난다."
      ],
      "id": "25ffc195-59ce-45ca-8666-713015d0d9ca"
    },
    {
      "cell_type": "markdown",
      "metadata": {},
      "source": [
        "`-` 예제7"
      ],
      "id": "80d17abd-3bcb-4495-ad5a-83a3dadc7428"
    },
    {
      "cell_type": "code",
      "execution_count": 266,
      "metadata": {},
      "outputs": [],
      "source": [
        "df.query('index <= \"202212354\"')"
      ],
      "id": "fda06ada-3765-486d-a8bd-d3ac68460875"
    },
    {
      "cell_type": "code",
      "execution_count": 268,
      "metadata": {},
      "outputs": [],
      "source": [
        "df.query('index <= \"202212354\" or index==\"202212387\"')  # 밖에를 큰따옴표 하고 안쪽을 작은따옴표 해도 된다."
      ],
      "id": "fa4a84bc-fd74-4edf-88f9-2ffa806b2b0a"
    },
    {
      "cell_type": "markdown",
      "metadata": {},
      "source": [
        "사실 이 기능은 시계열자료에서 꽃핀다.\n",
        "\n",
        "`-` 예제8"
      ],
      "id": "77fbc767-5136-4729-a667-fe4aba42afa9"
    },
    {
      "cell_type": "code",
      "execution_count": 273,
      "metadata": {},
      "outputs": [],
      "source": [
        "pd.date_range('20230101',periods=10)"
      ],
      "id": "25c81f87-93f3-4ac8-963b-d45cf49bad19"
    },
    {
      "cell_type": "code",
      "execution_count": 275,
      "metadata": {},
      "outputs": [],
      "source": [
        "_df=pd.DataFrame(np.random.normal(size=(10,4)),columns=list('ABCD'), index=pd.date_range('20230101',periods=10))\n",
        "_df"
      ],
      "id": "9545c40f-6950-4c9f-98c7-421e335ce8c6"
    },
    {
      "cell_type": "code",
      "execution_count": 277,
      "metadata": {},
      "outputs": [],
      "source": [
        "_df.query(\"'2023-01-02' < index <= '2023-01-09'\")"
      ],
      "id": "1e17e61e-52e8-4b31-9e5b-5cb33ad5a6fa"
    },
    {
      "cell_type": "code",
      "execution_count": 278,
      "metadata": {},
      "outputs": [],
      "source": [
        "_df.query(\"'2023-01-02' < index <= '2023-01-09' and A+B<C\")"
      ],
      "id": "4a84da52-ab6e-4281-be56-07ace6c1fe3b"
    },
    {
      "cell_type": "markdown",
      "metadata": {},
      "source": [
        "`-` query가 만능은 아니다."
      ],
      "id": "6082976f-dbd3-421b-8bc7-a505351ade39"
    },
    {
      "cell_type": "code",
      "execution_count": 281,
      "metadata": {},
      "outputs": [],
      "source": [
        "df.columns = pd.Index(['att score', 'rep score', 'mid score','fin score'])"
      ],
      "id": "425b5af0-be50-47f0-96c1-9b21c68e868d"
    },
    {
      "cell_type": "code",
      "execution_count": 284,
      "metadata": {},
      "outputs": [],
      "source": [
        "df.query(\"att score < 90\")  # 변수이름에 띄어쓰기가 들어가면 에러가 난다."
      ],
      "id": "84ccd35c-fb01-4e98-b269-3291d193aceb"
    },
    {
      "cell_type": "code",
      "execution_count": 285,
      "metadata": {},
      "outputs": [],
      "source": [
        "df.att socre"
      ],
      "id": "e9987e6b-69bd-42ae-bfa9-acb23d3cec03"
    },
    {
      "cell_type": "code",
      "execution_count": 288,
      "metadata": {},
      "outputs": [],
      "source": [
        "df.loc[df[\"att score\"] < 90, :] # 이렇게 하면 됨"
      ],
      "id": "91cc45f7-22ca-42f6-9c9a-07c7acce69a9"
    },
    {
      "cell_type": "markdown",
      "metadata": {},
      "source": [
        "### pandas 공부 3단계\n",
        "\n",
        "#### 전치"
      ],
      "id": "2285e064-a740-41a8-ad6d-69da515c1dfc"
    },
    {
      "cell_type": "code",
      "execution_count": 290,
      "metadata": {},
      "outputs": [],
      "source": [
        "ndarray = np.arange(2*3).reshape(2,3)\n",
        "df=pd.DataFrame(ndarray)\n",
        "df"
      ],
      "id": "1a34c916-2f70-434f-b87b-bbb7f3e62fab"
    },
    {
      "cell_type": "code",
      "execution_count": 291,
      "metadata": {},
      "outputs": [],
      "source": [
        "ndarray.T"
      ],
      "id": "5ae7bc0d-4fa4-4199-9140-6b29cc1ab2d8"
    },
    {
      "cell_type": "code",
      "execution_count": 292,
      "metadata": {},
      "outputs": [],
      "source": [
        "df.T"
      ],
      "id": "02739792-23b3-437e-996b-95823635be27"
    },
    {
      "cell_type": "markdown",
      "metadata": {},
      "source": [
        "#### 합"
      ],
      "id": "8a32e991-5f78-4219-be64-5424463e1731"
    },
    {
      "cell_type": "code",
      "execution_count": 293,
      "metadata": {},
      "outputs": [],
      "source": [
        "ndarray.sum(axis=0)"
      ],
      "id": "8ebfbf53-9dc6-488f-8c7d-009b3bc100de"
    },
    {
      "cell_type": "code",
      "execution_count": 294,
      "metadata": {},
      "outputs": [],
      "source": [
        "df.sum(axis=0)"
      ],
      "id": "c926427d-d274-454c-a2a9-83d359ec2840"
    },
    {
      "cell_type": "code",
      "execution_count": 295,
      "metadata": {},
      "outputs": [],
      "source": [
        "ndarray.sum(axis=1)"
      ],
      "id": "a42b0a2e-44ed-4304-bacf-f25ec1f602a7"
    },
    {
      "cell_type": "code",
      "execution_count": 296,
      "metadata": {},
      "outputs": [],
      "source": [
        "df.sum(axis=1)"
      ],
      "id": "632ae53b-a041-4b46-b3c6-d835d24e6bf9"
    },
    {
      "cell_type": "markdown",
      "metadata": {},
      "source": [
        "#### cumsum"
      ],
      "id": "ef88feea-ba8d-4917-95c6-39c976168693"
    },
    {
      "cell_type": "code",
      "execution_count": 297,
      "metadata": {},
      "outputs": [],
      "source": [
        "df"
      ],
      "id": "00491f3e-fa11-4b17-84b3-a066ffc08b09"
    },
    {
      "cell_type": "code",
      "execution_count": 299,
      "metadata": {},
      "outputs": [],
      "source": [
        "ndarray.cumsum(axis=0) #누적해서 더해짐"
      ],
      "id": "5443e418-03da-4d52-99c1-67e70be0fce2"
    },
    {
      "cell_type": "code",
      "execution_count": 300,
      "metadata": {},
      "outputs": [],
      "source": [
        "df.cumsum(axis=0)"
      ],
      "id": "ba0b6d27-0343-4664-83c4-2081d58addf7"
    },
    {
      "cell_type": "code",
      "execution_count": 301,
      "metadata": {},
      "outputs": [],
      "source": [
        "ndarray.cumsum(axis=1)"
      ],
      "id": "240ac425-7846-455b-8f06-1d0a6e1c5d5f"
    },
    {
      "cell_type": "code",
      "execution_count": 302,
      "metadata": {},
      "outputs": [],
      "source": [
        "df.cumsum(axis=1)"
      ],
      "id": "115760d7-8687-40ce-a0ab-6c1f035211c1"
    },
    {
      "cell_type": "markdown",
      "metadata": {},
      "source": [
        "#### 형태변환"
      ],
      "id": "eae6cedf-8c99-472b-8ee3-a07a6cb48308"
    },
    {
      "cell_type": "code",
      "execution_count": 304,
      "metadata": {},
      "outputs": [],
      "source": [
        "ndarray.tolist()"
      ],
      "id": "d0b81b19-364e-4650-bafc-6f22a5e60475"
    },
    {
      "cell_type": "code",
      "execution_count": 305,
      "metadata": {},
      "outputs": [],
      "source": [
        "df.to_numpy()"
      ],
      "id": "ef75287e-58a2-4098-ac4f-bcdf16233890"
    },
    {
      "cell_type": "code",
      "execution_count": 306,
      "metadata": {},
      "outputs": [],
      "source": [
        "df.to_numpy().tolist()"
      ],
      "id": "27fdb73d-22a2-44ff-9ea2-cc1cdb25ae13"
    },
    {
      "cell_type": "code",
      "execution_count": 308,
      "metadata": {},
      "outputs": [],
      "source": [
        "df.to_dict()"
      ],
      "id": "02658bf7-f51a-48a5-9dd4-d353da4b7e40"
    },
    {
      "cell_type": "markdown",
      "metadata": {},
      "source": [
        "### pandas 공부 4단계 (생략)\n",
        "\n",
        "### 숙제\n",
        "\n",
        "`-` 아래의 DF에서 1,3번째 열을 추출하라."
      ],
      "id": "7c606633-9d08-493e-9255-3a02764a238e"
    },
    {
      "cell_type": "code",
      "execution_count": 309,
      "metadata": {},
      "outputs": [],
      "source": [
        "df= pd.DataFrame({'att':[90,90,95],'rep':[80,90,90],'mid':[50,60,70], 'fin':[70,80,50]})\n",
        "df"
      ],
      "id": "71bbc7b7-2a99-41c5-8230-b126ce90fcf1"
    },
    {
      "cell_type": "code",
      "execution_count": 319,
      "metadata": {},
      "outputs": [],
      "source": [
        "df[['att','mid']]"
      ],
      "id": "e0c6cbb1-008c-402b-ba48-902651259071"
    },
    {
      "cell_type": "code",
      "execution_count": 320,
      "metadata": {},
      "outputs": [],
      "source": [
        "df.iloc[:,[0,2]]"
      ],
      "id": "eb798f37-b9f6-4ad8-a2ba-6112c570a0ee"
    },
    {
      "cell_type": "code",
      "execution_count": 321,
      "metadata": {},
      "outputs": [],
      "source": [
        "df.iloc[:,::2]"
      ],
      "id": "1a826b7a-ac3d-4ee7-b210-ffebc557019c"
    },
    {
      "cell_type": "code",
      "execution_count": 323,
      "metadata": {},
      "outputs": [],
      "source": [
        "df.loc[:,['att','mid']]"
      ],
      "id": "da810b17-6895-458a-9da9-02edd377c586"
    }
  ],
  "nbformat": 4,
  "nbformat_minor": 5,
  "metadata": {
    "kernelspec": {
      "name": "python3",
      "display_name": "Python 3",
      "language": "python"
    },
    "language_info": {
      "name": "python",
      "codemirror_mode": {
        "name": "ipython",
        "version": "3"
      },
      "file_extension": ".py",
      "mimetype": "text/x-python",
      "nbconvert_exporter": "python",
      "pygments_lexer": "ipython3",
      "version": "3.7.16"
    }
  }
}