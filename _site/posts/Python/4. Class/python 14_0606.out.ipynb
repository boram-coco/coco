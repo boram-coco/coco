{
  "cells": [
    {
      "cell_type": "markdown",
      "metadata": {},
      "source": [
        "# 파이썬 (0606) 14주차\n",
        "\n",
        "김보람  \n",
        "2022-06-06"
      ],
      "id": "d9ffc765-da23-43ac-b02d-98ed1d6fc6a7"
    },
    {
      "cell_type": "code",
      "execution_count": 119,
      "metadata": {},
      "outputs": [],
      "source": [
        "import numpy as np\n",
        "import matplotlib.pyplot as plt\n",
        "import pandas as pd"
      ],
      "id": "79e5f7b6-b9db-4681-b35e-e2e63ffd6eb2"
    },
    {
      "cell_type": "markdown",
      "metadata": {},
      "source": [
        "## 클래스공부 7단계\n",
        "\n",
        "### 함수공부\n",
        "\n",
        "`-` 다시 함수를 공부해보자"
      ],
      "id": "3793ee25-c34e-404c-bb61-157fdfb3d4b7"
    },
    {
      "cell_type": "code",
      "execution_count": 2,
      "metadata": {},
      "outputs": [],
      "source": [
        "def f(x):\n",
        "    return x+1"
      ],
      "id": "021b38df-65ea-464c-9961-e9aca1c3796e"
    },
    {
      "cell_type": "code",
      "execution_count": 3,
      "metadata": {},
      "outputs": [],
      "source": [
        "f(3)"
      ],
      "id": "e9191a7e-c3da-4edf-985a-8de1f03eb392"
    },
    {
      "cell_type": "markdown",
      "metadata": {},
      "source": [
        "`-` 함수의 사용방법? - 입력으로 변수 x를 받음 = 입력으로 인스턴스 x를\n",
        "받음 - 출력으로 변수 x+1을 리턴 = 출력으로 인스턴스 x+1을 리턴\n",
        "\n",
        "`-` 사실1: 파이썬에서 함수는 인스턴스를 입력으로 받고 인스턴스를\n",
        "출력한다.\n",
        "\n",
        "`-` 함수의 자료형?"
      ],
      "id": "7aed39f7-0aea-4f65-9add-1ff36a216774"
    },
    {
      "cell_type": "code",
      "execution_count": 5,
      "metadata": {},
      "outputs": [],
      "source": [
        "f"
      ],
      "id": "51094d83-8887-4198-a905-e3a76b0fb075"
    },
    {
      "cell_type": "code",
      "execution_count": 6,
      "metadata": {},
      "outputs": [],
      "source": [
        "?f"
      ],
      "id": "0d20fab9-172b-434d-a1c3-d31c1befd44b"
    },
    {
      "cell_type": "markdown",
      "metadata": {},
      "source": [
        "-   type이 function 이다.\n",
        "-   f는 function 의 class의 instance이다.\n",
        "-   결국 f도 하나의 오브젝트에 불과하다.\n",
        "\n",
        "`-` 사실2: 함수도 결국 인스턴스이다. -\\> 함수의 입력으로 함수를 쓸 수도\n",
        "있고 함수의 출력으로 함수가 나올 수도 있다.\n",
        "\n",
        "### 함수형 프로그래밍\n",
        "\n",
        "(예제1) 숫자입력, 함수출력"
      ],
      "id": "d2680cb3-59ca-4ffb-ad5e-6766131cfcca"
    },
    {
      "cell_type": "code",
      "execution_count": 7,
      "metadata": {},
      "outputs": [],
      "source": [
        "def f(a):\n",
        "    def _f(x):\n",
        "        return (x-a)**2\n",
        "    return _f"
      ],
      "id": "4990d1f4-aa21-4bba-97e8-381c59f9e1f6"
    },
    {
      "cell_type": "code",
      "execution_count": 10,
      "metadata": {},
      "outputs": [],
      "source": [
        "g=f(10)    # g(x) = (x-10)**2"
      ],
      "id": "abcc2197-d807-4cd3-b927-d8382a0cdef9"
    },
    {
      "cell_type": "code",
      "execution_count": 11,
      "metadata": {},
      "outputs": [],
      "source": [
        "g(2)    # (8)**2"
      ],
      "id": "52345faf-eafb-4b54-8aba-a18141fef81a"
    },
    {
      "cell_type": "markdown",
      "metadata": {},
      "source": [
        "-   해석: f(a)는 a를 입력으로 받고 g(x) = (x-a)^2 함수를 리턴해주는 함수\n",
        "\n",
        "(예제1)의 다른표현: 익명함수 lambda\n",
        "\n",
        "표현1"
      ],
      "id": "0120b817-de9c-4227-b1fa-2857b472c34c"
    },
    {
      "cell_type": "code",
      "execution_count": 17,
      "metadata": {},
      "outputs": [],
      "source": [
        "def f(a):\n",
        "    _f = lambda x: (x-a)**2   # lambda x : (x-a)**2 가 실행되는 순간 함수오브젝트가 만들어지고 그것이 _f로 저장됨\n",
        "    return _f"
      ],
      "id": "c6900f6c-2769-4828-86c0-37845e3287d4"
    },
    {
      "cell_type": "code",
      "execution_count": 18,
      "metadata": {},
      "outputs": [],
      "source": [
        "g=f(10)    # g(x) = (x-10)**2"
      ],
      "id": "c247f257-e450-4293-899c-04d968d38356"
    },
    {
      "cell_type": "code",
      "execution_count": 19,
      "metadata": {},
      "outputs": [],
      "source": [
        "g(2)"
      ],
      "id": "6f14ff11-3a27-4c87-b7d1-73039a6704d7"
    },
    {
      "cell_type": "markdown",
      "metadata": {},
      "source": [
        "표현2"
      ],
      "id": "eb288d0f-73b0-43ea-849e-bf98cfd36d9b"
    },
    {
      "cell_type": "code",
      "execution_count": 20,
      "metadata": {},
      "outputs": [],
      "source": [
        "def f(a):\n",
        "    return lambda x: (x-a)**2"
      ],
      "id": "0c86e389-0ccc-4d4a-81e4-e97477dc3200"
    },
    {
      "cell_type": "code",
      "execution_count": 21,
      "metadata": {},
      "outputs": [],
      "source": [
        "g=f(10)    # g(x) = (x-10)**2"
      ],
      "id": "a0956c62-edb3-4646-af25-2270703b526f"
    },
    {
      "cell_type": "code",
      "execution_count": 22,
      "metadata": {},
      "outputs": [],
      "source": [
        "g(2)"
      ],
      "id": "1ca3e6ad-6080-4698-8990-56757155d8f8"
    },
    {
      "cell_type": "markdown",
      "metadata": {},
      "source": [
        "-   `lambda x: (x-a)**2` 는 $\\text{lambda}(x) = (x-a)^2$ 의 느낌으로\n",
        "    기억하면 쉽다.\n",
        "-   `lambda x: (x-a)**2` 는 “아직 이름이 없는 함수 오브젝트를 (가칭\n",
        "    lmabda라고 하자) 만들고 기능은 x를 입력으로 하고 (x-a)\\*\\*2를\n",
        "    출력하도록 하자” 라는 뜻이로 해석"
      ],
      "id": "2a915698-f0d6-49e2-85b6-0a8034e8bca7"
    },
    {
      "cell_type": "code",
      "execution_count": 24,
      "metadata": {},
      "outputs": [],
      "source": [
        "(lambda x,y : x<y)(2,3)"
      ],
      "id": "d9ff4ae6-2526-45d8-a175-c8fd769a8cb6"
    },
    {
      "cell_type": "code",
      "execution_count": 26,
      "metadata": {},
      "outputs": [],
      "source": [
        "f=lambda x,y : x<y   # 위와 같은 코드\n",
        "f(2,3)"
      ],
      "id": "537127ff-e196-4b12-aa45-4243d86abddd"
    },
    {
      "cell_type": "markdown",
      "metadata": {},
      "source": [
        "(예제2) 함수입력, 숫자출력"
      ],
      "id": "c4cb2757-fd87-432c-b8d3-c3da2cf6628a"
    },
    {
      "cell_type": "code",
      "execution_count": 27,
      "metadata": {},
      "outputs": [],
      "source": [
        "def f(x):\n",
        "    return x**2"
      ],
      "id": "3b9b1e90-d762-4cf0-91b5-b5bd14897b6f"
    },
    {
      "cell_type": "code",
      "execution_count": 28,
      "metadata": {},
      "outputs": [],
      "source": [
        "f(3)"
      ],
      "id": "103175e7-2395-4544-bcbf-2cf84949481f"
    },
    {
      "cell_type": "code",
      "execution_count": 31,
      "metadata": {},
      "outputs": [],
      "source": [
        "def d(f,x):    # 함수를 입력을 받는 함수를 정의\n",
        "    h=0.0000000000001\n",
        "    return (f(x+h)-f(x)) / h"
      ],
      "id": "d20ab30a-7714-49c1-8f20-79423d80661d"
    },
    {
      "cell_type": "markdown",
      "metadata": {},
      "source": [
        "$$f'(x)\\approx \\frac{f(x+h)-f(x)}{h}$$\n",
        "\n",
        "-   $h$ 의 값이 점점 0에 가까울수록 등호에 가까워짐"
      ],
      "id": "06546747-b72f-4f42-a1ef-9afc76d0ff54"
    },
    {
      "cell_type": "code",
      "execution_count": 32,
      "metadata": {},
      "outputs": [],
      "source": [
        "d(f,4)   # f'(4) = 2*4 = 8"
      ],
      "id": "b516932b-27f4-495c-906c-f6c3b13606c7"
    },
    {
      "cell_type": "markdown",
      "metadata": {},
      "source": [
        "(예제3) 함수입력, 함수출력"
      ],
      "id": "f651ed0c-5722-4c61-875c-33d4fbdd96c3"
    },
    {
      "cell_type": "code",
      "execution_count": 42,
      "metadata": {},
      "outputs": [],
      "source": [
        "def f(x):\n",
        "    return x**2"
      ],
      "id": "d7025e28-cfb8-47ec-b821-c432254709a4"
    },
    {
      "cell_type": "code",
      "execution_count": 46,
      "metadata": {},
      "outputs": [],
      "source": [
        "def derivate(f):\n",
        "    def df(x):\n",
        "        h=0.0000000000001\n",
        "        return (f(x+h)-f(x)) / h\n",
        "    return df"
      ],
      "id": "66d21991-f758-4687-b713-f127b44b7d60"
    },
    {
      "cell_type": "code",
      "execution_count": 47,
      "metadata": {},
      "outputs": [],
      "source": [
        "ff = derivate(f)  # f미분"
      ],
      "id": "d2154483-a64c-4e55-83c2-1470ccee32ed"
    },
    {
      "cell_type": "code",
      "execution_count": 49,
      "metadata": {},
      "outputs": [],
      "source": [
        "ff(10)  #f의 도함수"
      ],
      "id": "c79ba583-0f24-43d7-aa84-1b745ae9f087"
    },
    {
      "cell_type": "markdown",
      "metadata": {},
      "source": [
        "**원래함수 시각화**"
      ],
      "id": "ddbab5f4-b07f-4db9-84fb-2be1788c975d"
    },
    {
      "cell_type": "code",
      "execution_count": 50,
      "metadata": {},
      "outputs": [
        {
          "output_type": "display_data",
          "metadata": {},
          "data": {
            "image/png": "[encoded data removed]"
          }
        }
      ],
      "source": [
        "x=np.linspace(-1,1,100)\n",
        "plt.plot(x,f(x))"
      ],
      "id": "e0c59338-dab7-4dfd-af72-5bd2727babb1"
    },
    {
      "cell_type": "markdown",
      "metadata": {},
      "source": [
        "**도함수 시각화**"
      ],
      "id": "fe0f7831-6b19-4002-9ede-ecf21d1e34f3"
    },
    {
      "cell_type": "code",
      "execution_count": 52,
      "metadata": {},
      "outputs": [
        {
          "output_type": "display_data",
          "metadata": {},
          "data": {
            "image/png": "[encoded data removed]"
          }
        }
      ],
      "source": [
        "x=np.linspace(-1,1,100)\n",
        "plt.plot(x,ff(x))"
      ],
      "id": "473b1340-c02a-4ceb-99cf-92c8e14d6749"
    },
    {
      "cell_type": "markdown",
      "metadata": {},
      "source": [
        "(예제3)의 다른표현"
      ],
      "id": "861c9c9f-d5bd-44f3-b746-769173074ea2"
    },
    {
      "cell_type": "code",
      "execution_count": 53,
      "metadata": {},
      "outputs": [],
      "source": [
        "def f(x):\n",
        "    return x**2"
      ],
      "id": "9c4bc3bc-4fa0-46e9-ad1f-ab38bf276ee8"
    },
    {
      "cell_type": "code",
      "execution_count": 54,
      "metadata": {},
      "outputs": [],
      "source": [
        "def derivate(f):\n",
        "    h=0.0000000000001\n",
        "    return lambda x:(f(x+h)-f(x)) / h"
      ],
      "id": "aa3b6c4c-79f8-4361-be3b-6f73465fb606"
    },
    {
      "cell_type": "code",
      "execution_count": 55,
      "metadata": {},
      "outputs": [],
      "source": [
        "ff=derivate(f)"
      ],
      "id": "a01d5965-5def-4855-92a6-444af0efcf80"
    },
    {
      "cell_type": "code",
      "execution_count": 56,
      "metadata": {},
      "outputs": [],
      "source": [
        "ff(10)"
      ],
      "id": "9c7339dc-b9b8-423a-8cec-edd50ce54a32"
    },
    {
      "cell_type": "markdown",
      "metadata": {},
      "source": [
        "(예제4) 함수들의 리스트"
      ],
      "id": "043171e2-9c9b-4058-9d13-ac4914972a78"
    },
    {
      "cell_type": "code",
      "execution_count": 58,
      "metadata": {},
      "outputs": [],
      "source": [
        "# # 리스트의 컴마 컴마 안에 들어갈 수 있는것은 \n",
        "# [인스턴스, 인스턴스, 인스턴스]\n",
        "# [오브젝트, 오브젝트, 오브젝트]\n",
        "# [함수오브젝트, 함수오브젝트, 함수오브젝트]\n",
        "# # ...."
      ],
      "id": "a5da4d86-2abc-4b70-a0ec-7423d3c03fac"
    },
    {
      "cell_type": "code",
      "execution_count": 59,
      "metadata": {},
      "outputs": [],
      "source": [
        "flst = [lambda x:x, lambda x:x**2, lambda x:x**3]\n",
        "flst"
      ],
      "id": "1f6c0825-537e-41f6-8850-78387a6e4f41"
    },
    {
      "cell_type": "code",
      "execution_count": 60,
      "metadata": {},
      "outputs": [
        {
          "output_type": "stream",
          "name": "stdout",
          "text": [
            "2\n",
            "4\n",
            "8"
          ]
        }
      ],
      "source": [
        "for f in flst:\n",
        "    print(f(2))"
      ],
      "id": "4eb7f09a-2372-40c3-aa80-2ce2d4cf8609"
    },
    {
      "cell_type": "code",
      "execution_count": 61,
      "metadata": {},
      "outputs": [
        {
          "output_type": "display_data",
          "metadata": {},
          "data": {
            "image/png": "[encoded data removed]"
          }
        }
      ],
      "source": [
        "for f in flst:\n",
        "    plt.plot(x,f(x),'--')"
      ],
      "id": "605cf563-d387-4994-99c3-3ed27bea31f5"
    },
    {
      "cell_type": "markdown",
      "metadata": {},
      "source": [
        "위 아래 동일"
      ],
      "id": "ef8610e4-71cd-4efc-84c6-576a9a137382"
    },
    {
      "cell_type": "code",
      "execution_count": 65,
      "metadata": {},
      "outputs": [
        {
          "output_type": "display_data",
          "metadata": {},
          "data": {
            "image/png": "[encoded data removed]"
          }
        }
      ],
      "source": [
        "plt.plot(x, (lambda x:x)(x),'--')\n",
        "plt.plot(x, (lambda x:x**2)(x),'--')\n",
        "plt.plot(x, (lambda x:x**3)(x),'--')"
      ],
      "id": "16ec40a0-d45f-40b2-8109-cbd8b99cfc88"
    },
    {
      "cell_type": "markdown",
      "metadata": {},
      "source": [
        "### 정리\n",
        "\n",
        "`-` 지금까지 개념 - 함수: 변수를 입력으로 받아서 변수를 출력하는 개념 -\n",
        "변수: 어떠한 값을 저장하는 용도로 쓰이거나 함수의 입력 혹은 출력으로\n",
        "사용함\n",
        "\n",
        "`-` 파이썬의 함수형프로그래밍을 잘하려면? - 변수든 함수든 둘다\n",
        "인스턴스임 - 변수를 함수처럼: 메소드 - 함수를 변수처럼($\\star$) :\n",
        "함수자체를 함수의 입력으로 혹은 출력으로 쓸 수도 있음. 함수를 특정\n",
        "값처럼 생각해서 함수들의 list를 만들 수도 있다.\n",
        "\n",
        "### collable object\n",
        "\n",
        "`-` 함수 오브젝트의 비밀?"
      ],
      "id": "9c7a4648-b3bf-44c5-b9ad-f3629a7639d2"
    },
    {
      "cell_type": "code",
      "execution_count": 66,
      "metadata": {},
      "outputs": [],
      "source": [
        "f = lambda x: x+1"
      ],
      "id": "1aaae659-440c-4dd0-968d-a7b56e871814"
    },
    {
      "cell_type": "code",
      "execution_count": 68,
      "metadata": {},
      "outputs": [],
      "source": [
        "f(4)"
      ],
      "id": "9d23517b-84fd-4aa5-a030-f842e212c764"
    },
    {
      "cell_type": "code",
      "execution_count": 69,
      "metadata": {},
      "outputs": [],
      "source": [
        "?f"
      ],
      "id": "1b24a760-2f4a-4e29-9f38-2f798c7219e5"
    },
    {
      "cell_type": "code",
      "execution_count": 70,
      "metadata": {},
      "outputs": [],
      "source": [
        "dir(f)"
      ],
      "id": "36366407-0709-4448-935c-8d96bb558673"
    },
    {
      "cell_type": "code",
      "execution_count": 71,
      "metadata": {},
      "outputs": [],
      "source": [
        "set(dir(f)) & {'__call__'}"
      ],
      "id": "93b66b74-77d2-4e06-8a32-3a2c93113d2f"
    },
    {
      "cell_type": "markdown",
      "metadata": {},
      "source": [
        "-   함수 오브젝트에는 숨겨징 기능 `__call__`이 있다."
      ],
      "id": "b3683fb6-acda-4fec-bc32-b2c230c3c9d0"
    },
    {
      "cell_type": "code",
      "execution_count": 72,
      "metadata": {},
      "outputs": [],
      "source": [
        "f.__call__(3)    # f(3)"
      ],
      "id": "bf8ea44e-0fdd-4669-9412-a80a35b0a667"
    },
    {
      "cell_type": "code",
      "execution_count": 73,
      "metadata": {},
      "outputs": [],
      "source": [
        "f.__call__(4)   # f(4)"
      ],
      "id": "4e1b6232-b89d-49e8-a618-6639dc129c7c"
    },
    {
      "cell_type": "markdown",
      "metadata": {},
      "source": [
        "-   여기에 우리가 정의한 내용이 있따.\n",
        "\n",
        "call 만 정의를 해주면 함수처럼 쓸 수 있다 ?! -\\> list의 dir 확인해보면\n",
        "call 없음\n",
        "\n",
        "`-` 함수처럼 쓸 수 없는 인스턴스는 단지 call이 없는 것일 뿐이다."
      ],
      "id": "9aef5f16-b1ed-49c3-bb0f-d432b6275010"
    },
    {
      "cell_type": "code",
      "execution_count": 74,
      "metadata": {},
      "outputs": [],
      "source": [
        "class Klass:\n",
        "    def __init__(self):\n",
        "        self.name = 'boram'"
      ],
      "id": "6c0555ea-838b-4333-b0e1-05ac29c5749f"
    },
    {
      "cell_type": "code",
      "execution_count": 75,
      "metadata": {},
      "outputs": [],
      "source": [
        "a=Klass()"
      ],
      "id": "e7c4cee0-acd7-41b6-adf2-1c1b6c34bf6b"
    },
    {
      "cell_type": "code",
      "execution_count": 76,
      "metadata": {},
      "outputs": [],
      "source": [
        "a()"
      ],
      "id": "66088dfa-8551-4b9b-ba56-f091b2c275a1"
    },
    {
      "cell_type": "markdown",
      "metadata": {},
      "source": [
        "-   TypeError: ‘Klass’ object is not callable"
      ],
      "id": "a63312fb-6949-4c90-aa9d-7b4374a01764"
    },
    {
      "cell_type": "code",
      "execution_count": 77,
      "metadata": {},
      "outputs": [],
      "source": [
        "class Klass2(Klass):  # 상속\n",
        "    def __call__(self):\n",
        "        print(self.name)"
      ],
      "id": "fa2feb66-3ee6-4ccf-aad3-a7480e9d2296"
    },
    {
      "cell_type": "code",
      "execution_count": 79,
      "metadata": {},
      "outputs": [],
      "source": [
        "b=Klass2()"
      ],
      "id": "36516e13-ba71-4183-b597-eb08e6c1685f"
    },
    {
      "cell_type": "code",
      "execution_count": 80,
      "metadata": {},
      "outputs": [
        {
          "output_type": "stream",
          "name": "stdout",
          "text": [
            "boram"
          ]
        }
      ],
      "source": [
        "b()"
      ],
      "id": "602d5a4e-c5a0-429d-aa8b-92f510b789f9"
    },
    {
      "cell_type": "markdown",
      "metadata": {},
      "source": [
        "-   b는 collable obeject 라는 의미. 즉 숨겨진 메서드로 `__call__`를 가진\n",
        "    오브젝트!\n",
        "-   Klass는 collable object를 만들지 못하지만 Klass2는 collable object를\n",
        "    만든다.\n",
        "\n",
        "`-` 클래스로 함수를 만들기"
      ],
      "id": "56a2acf6-bb91-459c-aaaf-f9e332226d47"
    },
    {
      "cell_type": "code",
      "execution_count": 81,
      "metadata": {},
      "outputs": [],
      "source": [
        "class AddConstant:\n",
        "    def __init__(self,c):\n",
        "        self.c = c\n",
        "    def __call__(self,a):\n",
        "        return a + self.c"
      ],
      "id": "fabcecf0-ae0f-4e98-a88a-f66552ff3adc"
    },
    {
      "cell_type": "code",
      "execution_count": 86,
      "metadata": {},
      "outputs": [],
      "source": [
        "f = AddConstant(3)   # collabe object 생성, f.c에는 3이 저장되어 있음."
      ],
      "id": "c848c2e5-7ea3-41ed-a287-969b0cead54c"
    },
    {
      "cell_type": "code",
      "execution_count": 89,
      "metadata": {},
      "outputs": [],
      "source": [
        "f(7)   # f.c와 7을 더하는 기능을 수행, # f(x) = x+3 을 수행함"
      ],
      "id": "1ef9c758-2149-4023-9a78-37aacf49dea2"
    },
    {
      "cell_type": "code",
      "execution_count": 90,
      "metadata": {},
      "outputs": [],
      "source": [
        "f(10)"
      ],
      "id": "9c6e9c06-3568-4a5c-a4b1-7b9e7f3cb00c"
    },
    {
      "cell_type": "markdown",
      "metadata": {},
      "source": [
        "`-` 클래스도 일종의 `오브젝트`이고 함수처럼 `Klass()`와 같이 사용하여\n",
        "인스턴스를 만들었음. -\\> `Klass.__call__()`는 `Klass()`와 같은 역할을 할\n",
        "것이다."
      ],
      "id": "95e04304-da86-4755-b6b6-cbc456cd2f35"
    },
    {
      "cell_type": "code",
      "execution_count": 91,
      "metadata": {},
      "outputs": [],
      "source": [
        "class Klass:\n",
        "    def __init__(self):\n",
        "        self.name='coco'\n",
        "    "
      ],
      "id": "394d674a-4c81-4dbe-a0d2-e02b5103bba0"
    },
    {
      "cell_type": "code",
      "execution_count": 94,
      "metadata": {},
      "outputs": [],
      "source": [
        "a=Klass.__call__()   # 이것이 a=Klass()와 같은 효과"
      ],
      "id": "6ed1e297-8377-49de-859b-7de6fa54bde0"
    },
    {
      "cell_type": "code",
      "execution_count": 93,
      "metadata": {},
      "outputs": [],
      "source": [
        "a.name"
      ],
      "id": "1bc70de7-b3d2-4446-881b-f100a2106138"
    },
    {
      "cell_type": "markdown",
      "metadata": {},
      "source": [
        "### 파이썬의 비밀 1~4\n",
        "\n",
        "-   파이썬의 비밀1: 자료형은 클래스의 비밀이다.(11주차)\n",
        "-   파이썬의 비밀2: 클래스에는 `__str__`처럼 숨겨진 메서드가 존재한다.\n",
        "    이를 이용하여 파이썬 내부의 기능을 가로챌 수 있다.(12주차0523)\n",
        "-   파이썬의 비밀3: 주피터노트북에서는 “오브젝트이름+엔터” 를 쳐서\n",
        "    나오는 출력은 `__repr__`로 가로챌 수 잇다.(주피터의 비밀)\n",
        "-   파이썬의 비밀4: 함수와 클래스는 숨겨진 메서드에 `__call__`을 가진\n",
        "    오브젝트일 뿐이다.\n",
        "\n",
        "## 클래스공부 8단계\n",
        "\n",
        "### for문의 복습\n",
        "\n",
        "`-` 아래와 같은 예제들을 관찰하여 for문을 복습하자.\n",
        "\n",
        "(예제1)"
      ],
      "id": "8eea672e-86f8-459d-abe8-dc0d19863835"
    },
    {
      "cell_type": "code",
      "execution_count": 95,
      "metadata": {},
      "outputs": [
        {
          "output_type": "stream",
          "name": "stdout",
          "text": [
            "1\n",
            "2\n",
            "3\n",
            "4"
          ]
        }
      ],
      "source": [
        "for i in [1,2,3,4]:\n",
        "    print(i)"
      ],
      "id": "8d853108-845c-42c5-8e5f-b0b865623240"
    },
    {
      "cell_type": "markdown",
      "metadata": {},
      "source": [
        "(예제2)"
      ],
      "id": "cb2df794-fdac-46d5-9802-b7520ffe4b5d"
    },
    {
      "cell_type": "code",
      "execution_count": 96,
      "metadata": {},
      "outputs": [
        {
          "output_type": "stream",
          "name": "stdout",
          "text": [
            "1\n",
            "2\n",
            "3\n",
            "4"
          ]
        }
      ],
      "source": [
        "for i in (1,2,3,4):\n",
        "    print(i)"
      ],
      "id": "080ef71e-a737-47c9-835c-846921a9a6fc"
    },
    {
      "cell_type": "markdown",
      "metadata": {},
      "source": [
        "(예제3)"
      ],
      "id": "2ca5d069-2cbc-44a5-bf6b-f8f58e78faaa"
    },
    {
      "cell_type": "code",
      "execution_count": 97,
      "metadata": {},
      "outputs": [
        {
          "output_type": "stream",
          "name": "stdout",
          "text": [
            "1\n",
            "2\n",
            "3\n",
            "4"
          ]
        }
      ],
      "source": [
        "for i in'1234':\n",
        "    print(i)"
      ],
      "id": "1a46e6f5-ee0a-4fb0-9812-32acef6bc52e"
    },
    {
      "cell_type": "markdown",
      "metadata": {},
      "source": [
        "(예제4)"
      ],
      "id": "eb9284f3-1837-4316-8890-7f9dc0a6a62c"
    },
    {
      "cell_type": "code",
      "execution_count": 98,
      "metadata": {},
      "outputs": [],
      "source": [
        "a=5\n",
        "for i in a:\n",
        "    print(i)"
      ],
      "id": "eff88d74-387a-4c1f-af0d-395c4882ac43"
    },
    {
      "cell_type": "markdown",
      "metadata": {},
      "source": [
        "-   5라고 출력되어야 하지 않나?\n",
        "\n",
        "`-` 의문1:\n",
        "\n",
        "``` python\n",
        "for i in ???:\n",
        "    print(i)\n",
        "```\n",
        "\n",
        "에서 ??? 자리에 올수 있는 것이 무엇일까?\n",
        "\n",
        "(예제5)\n",
        "\n",
        "상황1"
      ],
      "id": "bb02dc33-20e0-4270-8edc-2f60e7c4ee4b"
    },
    {
      "cell_type": "code",
      "execution_count": 99,
      "metadata": {},
      "outputs": [
        {
          "output_type": "stream",
          "name": "stdout",
          "text": [
            "[1, 2, 3, 4]\n",
            "[3, 4, 5, 6]"
          ]
        }
      ],
      "source": [
        "lst = [[1,2,3,4],[3,4,5,6]]\n",
        "for l in lst:\n",
        "    print(l)"
      ],
      "id": "6d1b71fc-e6e6-49da-a52a-b46403893598"
    },
    {
      "cell_type": "markdown",
      "metadata": {},
      "source": [
        "상황2"
      ],
      "id": "90bac0e5-f461-4843-b3dc-231ec3601585"
    },
    {
      "cell_type": "code",
      "execution_count": 100,
      "metadata": {},
      "outputs": [],
      "source": [
        "df=pd.DataFrame(lst)\n",
        "df"
      ],
      "id": "e38034cf-5000-4386-aa94-fca8322bf903"
    },
    {
      "cell_type": "code",
      "execution_count": 101,
      "metadata": {},
      "outputs": [
        {
          "output_type": "stream",
          "name": "stdout",
          "text": [
            "0\n",
            "1\n",
            "2\n",
            "3"
          ]
        }
      ],
      "source": [
        "for i in df:\n",
        "    print(i)"
      ],
      "id": "96d472a8-95b5-47d7-9c3d-76e1bfa59026"
    },
    {
      "cell_type": "markdown",
      "metadata": {},
      "source": [
        "칼럼이름들이 나오는 것 같음 -\\> 확인해보자"
      ],
      "id": "04bb5f87-6384-43aa-8c2d-a480565be1db"
    },
    {
      "cell_type": "code",
      "execution_count": 104,
      "metadata": {},
      "outputs": [],
      "source": [
        "df.columns = pd.Index(['X'+str(i) for i in range(1,5)])\n",
        "df"
      ],
      "id": "fd06c1f2-8bc8-4355-8611-8345e043dc62"
    },
    {
      "cell_type": "code",
      "execution_count": 106,
      "metadata": {},
      "outputs": [
        {
          "output_type": "stream",
          "name": "stdout",
          "text": [
            "X1\n",
            "X2\n",
            "X3\n",
            "X4"
          ]
        }
      ],
      "source": [
        "for i in df:\n",
        "    print(i)"
      ],
      "id": "9dfe6c59-e314-4d74-a188-5b269b125cb6"
    },
    {
      "cell_type": "markdown",
      "metadata": {},
      "source": [
        "`-` 의문2: for의 출력결과는 어떻게 예측할 수 있을까?\n",
        "\n",
        "### for문의 동작원리\n",
        "\n",
        "`-` 의문1의 해결: 아래의 ???자리에 올 수 있는 것은 dir()하여\n",
        "`__iter__`가 있는 object이다.\n",
        "\n",
        "``` python\n",
        "for i in ???:\n",
        "    print(i)\n",
        "```\n",
        "\n",
        "이러한 오브젝트를 iterable object라고 한다.\n",
        "\n",
        "`-` 확인"
      ],
      "id": "5eea1ab3-1651-4bed-8a50-85bcabb22d2b"
    },
    {
      "cell_type": "code",
      "execution_count": 107,
      "metadata": {},
      "outputs": [],
      "source": [
        "a=[1,2,3]\n",
        "set(dir(a)) & {'__iter__'}"
      ],
      "id": "2bd98ecd-71b8-4f83-8093-6eb48bb16175"
    },
    {
      "cell_type": "code",
      "execution_count": 108,
      "metadata": {},
      "outputs": [],
      "source": [
        "a='123'\n",
        "set(dir(a)) & {'__iter__'}"
      ],
      "id": "cd3571b5-2550-43b7-b207-316bd730e8d5"
    },
    {
      "cell_type": "code",
      "execution_count": 109,
      "metadata": {},
      "outputs": [],
      "source": [
        "a=3\n",
        "set(dir(a)) & {'__iter__'}"
      ],
      "id": "1b73b592-c5f2-473a-802d-92e7d10bf2ee"
    },
    {
      "cell_type": "markdown",
      "metadata": {},
      "source": [
        "-   예상대로 예제 1~4에서는 int클래스의 instance만 `__iter__` 가 없다.\n",
        "\n",
        "`-` `__iter__` 의 역할: iterable object를 iterator로 만들 수 있다!"
      ],
      "id": "355fd784-60b0-4e28-a695-7e9907c19bfc"
    },
    {
      "cell_type": "code",
      "execution_count": 132,
      "metadata": {},
      "outputs": [],
      "source": [
        "lst = [1,2,3]\n",
        "lst"
      ],
      "id": "7ac40feb-9c25-453f-ab39-f4b5668b864d"
    },
    {
      "cell_type": "code",
      "execution_count": 133,
      "metadata": {},
      "outputs": [],
      "source": [
        "lst[1] # 충실한 리스트"
      ],
      "id": "ccd06529-3e41-4a5f-add1-0fa617152d16"
    },
    {
      "cell_type": "code",
      "execution_count": 134,
      "metadata": {},
      "outputs": [],
      "source": [
        "ltor = iter(lst)\n",
        "#ltor = lst.__iter__()\n",
        "ltor"
      ],
      "id": "e3246deb-abbc-4b5e-a67a-b0ae83f4a387"
    },
    {
      "cell_type": "code",
      "execution_count": 135,
      "metadata": {},
      "outputs": [],
      "source": [
        "ltor[1]   # 더이상 리스트가 아니다."
      ],
      "id": "36322a05-231d-4408-ab13-2737e2c6e1dc"
    },
    {
      "cell_type": "code",
      "execution_count": 136,
      "metadata": {},
      "outputs": [],
      "source": [
        "ltor?"
      ],
      "id": "0155e7df-6528-4992-adb3-ad460c24d354"
    },
    {
      "cell_type": "markdown",
      "metadata": {},
      "source": [
        "`-` iterator가 되면 무엇이 좋은가? -\\> 숨겨진 기능 `__next__` 가 열린다."
      ],
      "id": "5849a8d7-d12c-4da7-be52-41e63021ce6d"
    },
    {
      "cell_type": "code",
      "execution_count": 137,
      "metadata": {},
      "outputs": [],
      "source": [
        "set(dir(lst)) & {'__next__'}"
      ],
      "id": "98001766-2252-4d65-85f9-8abeee4bd64d"
    },
    {
      "cell_type": "code",
      "execution_count": 138,
      "metadata": {},
      "outputs": [],
      "source": [
        "set(dir(ltor)) & {'__next__'}"
      ],
      "id": "1a25e3a5-ae79-4360-85c8-471a81e12400"
    },
    {
      "cell_type": "markdown",
      "metadata": {},
      "source": [
        "-   lst에는 `__next__`가 없지만 ltor에는 있다!\n",
        "\n",
        "`-` 그래서 `__next__`의 기능은? -\\> 원소를 차례대로 꺼내준다. + 더 이상\n",
        "꺼낼 원소가 없으면 StopIteration Error를 발생시킨다."
      ],
      "id": "c34f7b10-7143-41ea-9e9c-3ce8ce6d3cfb"
    },
    {
      "cell_type": "code",
      "execution_count": 139,
      "metadata": {},
      "outputs": [],
      "source": [
        "lst"
      ],
      "id": "267c8c9c-7b65-4f02-b043-e65273e936d1"
    },
    {
      "cell_type": "code",
      "execution_count": 140,
      "metadata": {},
      "outputs": [],
      "source": [
        "ltor.__next__()"
      ],
      "id": "fa2de92f-9728-4373-a508-2cd01c47df99"
    },
    {
      "cell_type": "code",
      "execution_count": 141,
      "metadata": {},
      "outputs": [],
      "source": [
        "ltor.__next__()"
      ],
      "id": "74f3d5d1-0e56-48c0-a8ec-8c06444ca2bf"
    },
    {
      "cell_type": "code",
      "execution_count": 142,
      "metadata": {},
      "outputs": [],
      "source": [
        "ltor.__next__()"
      ],
      "id": "1e98d81a-84a0-4db4-aeb1-57e8690537a3"
    },
    {
      "cell_type": "code",
      "execution_count": 143,
      "metadata": {},
      "outputs": [],
      "source": [
        "ltor.__next__()"
      ],
      "id": "a197c590-a1e2-4d15-ad95-8de6b73e2968"
    },
    {
      "cell_type": "markdown",
      "metadata": {},
      "source": [
        "`-` for 문의 동작원리\n",
        "\n",
        "``` python\n",
        "for i in lst\n",
        "    print(i)\n",
        "```\n",
        "\n",
        "1.  `lst.__iter__()` 혹은 `iter(lst)` 를 이용하여 lst를 iterator로\n",
        "    만든다. (iterable object를 iterator object로 만든다.)\n",
        "\n",
        "2.  iterator에서 `.__next__()` 함수를 호출하고 결과를 i에 저장한 뒤에\n",
        "    for문 블락안에 있는 내용 (들여쓰기 된 내용)을 실행한다. -\\> 반복\n",
        "\n",
        "3.  StopIteration 에러가 발생하면 for무늘 멈춘다.\n",
        "\n",
        "`-` 아래의 ??? 자리에 올 수 있는 것이 iterable object가 아니라 iterator\n",
        "자체여도 for 문이 돌아갈까? -\\> (당연히 돌아가야 할 것 같음)\n",
        "\n",
        "``` python\n",
        "for i in ???\n",
        "    print(i)\n",
        "```"
      ],
      "id": "f1ce4b9b-5c0d-4678-810d-c80b47a1d782"
    },
    {
      "cell_type": "code",
      "execution_count": 145,
      "metadata": {},
      "outputs": [
        {
          "output_type": "stream",
          "name": "stdout",
          "text": [
            "1\n",
            "2\n",
            "3"
          ]
        }
      ],
      "source": [
        "for i in iter([1,2,3]):\n",
        "    print(i)"
      ],
      "id": "8d914345-b742-494e-a5dc-6d95ea14cd00"
    },
    {
      "cell_type": "markdown",
      "metadata": {},
      "source": [
        "-   당연히 가능!\n",
        "\n",
        "`-` a가 iterator일때 iter(a) 의 출력결과가 a와 같도록 조정한다면 for문의\n",
        "동작원리 (1) ~ (3) 을 수정하지 않아도 좋다. -\\> 실제로 이렇게 동작한다."
      ],
      "id": "a26d8a62-981d-4bf1-8eb6-e13d7307ac3d"
    },
    {
      "cell_type": "code",
      "execution_count": 147,
      "metadata": {},
      "outputs": [],
      "source": [
        "ltor?"
      ],
      "id": "162a94d8-bf39-4a73-9025-c73725794c69"
    },
    {
      "cell_type": "code",
      "execution_count": 148,
      "metadata": {},
      "outputs": [],
      "source": [
        "dir(ltor)"
      ],
      "id": "82aa63f2-1cd8-434a-afd1-13f16ed9a0c0"
    },
    {
      "cell_type": "markdown",
      "metadata": {},
      "source": [
        "`-` 요약 - iterable object는 숨겨진 기능으로 `__iter__`를 가진다. -\n",
        "iterator object는 숨겨진 기능으로 `__iter__`와 `__next__`를 가진다. (즉\n",
        "iterator는 그 자체로 iterable object가 된다!)"
      ],
      "id": "09043730-4d02-4eea-8c5a-d070c620dee2"
    },
    {
      "cell_type": "code",
      "execution_count": 150,
      "metadata": {},
      "outputs": [],
      "source": [
        "lst = [1,2,3]\n",
        "ltor = iter(lst)"
      ],
      "id": "39ccfc71-af23-42a6-bcc8-a0f03b29f4f5"
    },
    {
      "cell_type": "code",
      "execution_count": 151,
      "metadata": {},
      "outputs": [],
      "source": [
        "set(dir(lst)) & {'__iter__', '__next__'}"
      ],
      "id": "91d28126-81a7-499a-be9d-8a1acc7949a0"
    },
    {
      "cell_type": "code",
      "execution_count": 152,
      "metadata": {},
      "outputs": [],
      "source": [
        "set(dir(ltor)) & {'__iter__', '__next__'}"
      ],
      "id": "43eaf2b0-52a2-4eba-ac5d-803010e7c15d"
    },
    {
      "cell_type": "markdown",
      "metadata": {},
      "source": [
        "`-` 의문2의 해결: for문의 출력결과는 어떻게 예측할 수 있을까? iterator를\n",
        "만들어서 `__next__()`의 출력값을 확인하면 알 수 있다."
      ],
      "id": "ed265bcf-9d25-4260-9520-09179da02362"
    },
    {
      "cell_type": "code",
      "execution_count": 153,
      "metadata": {},
      "outputs": [
        {
          "output_type": "stream",
          "name": "stdout",
          "text": [
            "X1\n",
            "X2\n",
            "X3\n",
            "X4"
          ]
        }
      ],
      "source": [
        "for i in df:\n",
        "    print(i)"
      ],
      "id": "90aa9969-0ec1-44b2-a847-7a8baa165d0c"
    },
    {
      "cell_type": "code",
      "execution_count": 154,
      "metadata": {},
      "outputs": [],
      "source": [
        "dftor = iter(df)\n",
        "dftor?"
      ],
      "id": "db31570f-cf4d-4644-b88b-2d73ae1bfd22"
    },
    {
      "cell_type": "code",
      "execution_count": 155,
      "metadata": {},
      "outputs": [],
      "source": [
        "dftor.__next__()"
      ],
      "id": "e0e754fd-84ed-4107-adcc-529b03621552"
    },
    {
      "cell_type": "code",
      "execution_count": 156,
      "metadata": {},
      "outputs": [],
      "source": [
        "dftor.__next__()"
      ],
      "id": "0d79f43a-c8a0-4a52-b6c4-e24b9b695b85"
    },
    {
      "cell_type": "code",
      "execution_count": 157,
      "metadata": {},
      "outputs": [],
      "source": [
        "dftor.__next__()"
      ],
      "id": "34799754-735e-4479-ac98-8d7a25d30404"
    },
    {
      "cell_type": "code",
      "execution_count": 158,
      "metadata": {},
      "outputs": [],
      "source": [
        "dftor.__next__()"
      ],
      "id": "0cddeb4f-efcc-4674-9caa-2ef7d145d49d"
    },
    {
      "cell_type": "code",
      "execution_count": 159,
      "metadata": {},
      "outputs": [],
      "source": [
        "dftor.__next__()"
      ],
      "id": "6b307ba4-c811-4474-be0d-b998106ecd51"
    },
    {
      "cell_type": "markdown",
      "metadata": {},
      "source": [
        "### range()\n",
        "\n",
        "`-` 파이썬에서 for문을 처음 배울 때: range(5)를 써라!"
      ],
      "id": "82a9cbc7-dcd3-441a-854c-3f733bf4b809"
    },
    {
      "cell_type": "code",
      "execution_count": 160,
      "metadata": {},
      "outputs": [
        {
          "output_type": "stream",
          "name": "stdout",
          "text": [
            "0\n",
            "1\n",
            "2\n",
            "3\n",
            "4"
          ]
        }
      ],
      "source": [
        "for i in range(5):\n",
        "    print(i)"
      ],
      "id": "a15ccfd8-ffe3-454f-9f7a-1e3d1694daa0"
    },
    {
      "cell_type": "markdown",
      "metadata": {},
      "source": [
        "-   range(5) 가 도대체 무엇인가?"
      ],
      "id": "d6266a65-b118-4783-8c69-48819868a1a6"
    },
    {
      "cell_type": "code",
      "execution_count": 163,
      "metadata": {},
      "outputs": [],
      "source": [
        "set(dir(range(5))) & {'__iter__', '__next__'}"
      ],
      "id": "ee230926-6d80-47a4-860d-5ba65d48fb30"
    },
    {
      "cell_type": "markdown",
      "metadata": {},
      "source": [
        "`-` range(5)의 정체는 그냥 iterable object이다.\n",
        "\n",
        "`-` 그래서 언제든지 iterator로 바꿀 수 있다."
      ],
      "id": "ced83432-8e09-4294-a22f-1f8d538cc27e"
    },
    {
      "cell_type": "code",
      "execution_count": 166,
      "metadata": {},
      "outputs": [],
      "source": [
        "rtor = iter(range(5))\n",
        "rtor"
      ],
      "id": "12262bd1-20c8-4fdc-9c89-4fb81966b18e"
    },
    {
      "cell_type": "code",
      "execution_count": 167,
      "metadata": {},
      "outputs": [],
      "source": [
        "set(dir(rtor)) & {'__iter__', '__next__'}"
      ],
      "id": "a64df0c5-0766-4466-af68-e3ce98a8ad4c"
    },
    {
      "cell_type": "markdown",
      "metadata": {},
      "source": [
        "`-` for문에서 range(5)가 행동하는 방법?"
      ],
      "id": "b4f36600-50f6-467d-ac5c-09d1330f1a51"
    },
    {
      "cell_type": "code",
      "execution_count": 168,
      "metadata": {},
      "outputs": [],
      "source": [
        "rtor = iter(range(5))"
      ],
      "id": "19403b94-a724-4b7e-a18f-9cdbfb639452"
    },
    {
      "cell_type": "code",
      "execution_count": 169,
      "metadata": {},
      "outputs": [],
      "source": [
        "rtor.__next__()"
      ],
      "id": "05b10833-1c5a-42ce-ab3a-ae09d8bfc186"
    },
    {
      "cell_type": "code",
      "execution_count": 170,
      "metadata": {},
      "outputs": [],
      "source": [
        "rtor.__next__()"
      ],
      "id": "b518a2db-ac04-4815-8452-e024d1d41820"
    },
    {
      "cell_type": "code",
      "execution_count": 171,
      "metadata": {},
      "outputs": [],
      "source": [
        "rtor.__next__()"
      ],
      "id": "a420bb8b-6edb-4c33-bc75-2e934eb5c581"
    },
    {
      "cell_type": "code",
      "execution_count": 172,
      "metadata": {},
      "outputs": [],
      "source": [
        "rtor.__next__()"
      ],
      "id": "e0195802-f957-4acd-baa7-6d9918307c22"
    },
    {
      "cell_type": "code",
      "execution_count": 173,
      "metadata": {},
      "outputs": [],
      "source": [
        "rtor.__next__()"
      ],
      "id": "38d1c8c1-fe6d-43f8-b115-e1d9075fe5e9"
    },
    {
      "cell_type": "code",
      "execution_count": 174,
      "metadata": {},
      "outputs": [],
      "source": [
        "rtor.__next__()"
      ],
      "id": "a90707a5-32dc-45e4-9ad3-75578fe70fde"
    },
    {
      "cell_type": "markdown",
      "metadata": {},
      "source": [
        "### zip\n",
        "\n",
        "`-` 이터레이터의 개념을 알면 for문에 대한 이해도가 대폭 상승한다."
      ],
      "id": "473301c1-001d-4dfd-b4c2-0841908e6865"
    },
    {
      "cell_type": "code",
      "execution_count": 175,
      "metadata": {},
      "outputs": [
        {
          "output_type": "stream",
          "name": "stdout",
          "text": [
            "(1, 'a')\n",
            "(2, 'b')\n",
            "(3, 'c')"
          ]
        }
      ],
      "source": [
        "for i in zip([1,2,3],'abc'):\n",
        "    print(i)"
      ],
      "id": "7732b898-8518-4f91-8af0-0b7e5a7f047a"
    },
    {
      "cell_type": "markdown",
      "metadata": {},
      "source": [
        "-   zip은 뭐지?"
      ],
      "id": "84051f7a-4662-4340-a25b-4cf146275ed2"
    },
    {
      "cell_type": "code",
      "execution_count": 176,
      "metadata": {},
      "outputs": [],
      "source": [
        "zip([1,2,3],'abc')"
      ],
      "id": "f6c1f5d5-9a2f-45ba-afd0-9e3069dbbe1c"
    },
    {
      "cell_type": "markdown",
      "metadata": {},
      "source": [
        "`-` 어차피 `for i in ????`: 의 ???? 자리는 iterable object의 자리이다."
      ],
      "id": "31e6cf0c-3572-46da-af7a-f6d46cfc36fe"
    },
    {
      "cell_type": "code",
      "execution_count": 177,
      "metadata": {},
      "outputs": [],
      "source": [
        "set(dir(zip([1,2,3],'abc'))) & {'__iter__', '__next__'}"
      ],
      "id": "79cc2e48-c634-48ce-a8f6-e7b16b172f51"
    },
    {
      "cell_type": "markdown",
      "metadata": {},
      "source": [
        "-   `__next__()` 함수가 있음 $\\to$ `zip([1,2,3],'abc')`은 그 자체로\n",
        "    iterator 이다!"
      ],
      "id": "0c1295f2-d937-4b38-be38-dbbe522258a5"
    },
    {
      "cell_type": "code",
      "execution_count": 178,
      "metadata": {},
      "outputs": [],
      "source": [
        "z = zip([1,2,3],'abc')"
      ],
      "id": "92d7524c-f7d9-4ff2-abce-c281a56d5670"
    },
    {
      "cell_type": "code",
      "execution_count": 179,
      "metadata": {},
      "outputs": [],
      "source": [
        "z.__next__()"
      ],
      "id": "41189420-dc0a-43e5-9dfb-7ba421615f74"
    },
    {
      "cell_type": "code",
      "execution_count": 180,
      "metadata": {},
      "outputs": [],
      "source": [
        "z.__next__()"
      ],
      "id": "76aebcfb-52a0-4bc3-b7ce-9c7793297e65"
    },
    {
      "cell_type": "code",
      "execution_count": 181,
      "metadata": {},
      "outputs": [],
      "source": [
        "z.__next__()"
      ],
      "id": "e2443ca6-b855-46d6-a6bc-b84e77fb8c78"
    },
    {
      "cell_type": "code",
      "execution_count": 182,
      "metadata": {},
      "outputs": [],
      "source": [
        "z.__next__()"
      ],
      "id": "9c15e090-78ad-46f9-a52e-f272f3679dcd"
    },
    {
      "cell_type": "markdown",
      "metadata": {},
      "source": [
        "### 사용자정의 이터레이터\n",
        "\n",
        "`-` 내가 이터레이터를 만들어보자."
      ],
      "id": "5e031e3e-813e-43db-be30-15de798a37ec"
    },
    {
      "cell_type": "code",
      "execution_count": 183,
      "metadata": {},
      "outputs": [],
      "source": [
        "class Klass: # 찌를 내는 순간 for문이 멈추도록 하는 이터레이터를 만들자.\n",
        "    def __init__(self):\n",
        "        self.candidate = [\"묵\", \"찌\", \"빠\"]\n",
        "    def __iter__(self):\n",
        "        return self\n",
        "    def __next__(self):\n",
        "        action = np.random.choice(self.candidate)\n",
        "        if action == \"찌\":\n",
        "            print(\"찌가 나와서 for문을 멈춥니다.\")\n",
        "            raise StopIteration\n",
        "        else:\n",
        "            return action"
      ],
      "id": "8abefc72-e415-4b41-9bb2-0de461469c6e"
    },
    {
      "cell_type": "code",
      "execution_count": 184,
      "metadata": {},
      "outputs": [],
      "source": [
        "a=Klass()"
      ],
      "id": "79322e06-06d7-4da4-917a-e0ce7dccf3a2"
    },
    {
      "cell_type": "code",
      "execution_count": 185,
      "metadata": {},
      "outputs": [],
      "source": [
        "a?"
      ],
      "id": "847a8737-59ec-44cb-b27e-3974bb32d1f5"
    },
    {
      "cell_type": "code",
      "execution_count": 187,
      "metadata": {},
      "outputs": [],
      "source": [
        "set(dir(a)) & {'__iter__', '__next__'}  # a는 이터레이터"
      ],
      "id": "51d2d920-1c5e-452e-bfca-c2ff6d501619"
    },
    {
      "cell_type": "code",
      "execution_count": 189,
      "metadata": {},
      "outputs": [],
      "source": [
        "a.__next__()"
      ],
      "id": "4430eeb6-3faa-49ea-81f2-3802e9f79909"
    },
    {
      "cell_type": "code",
      "execution_count": 190,
      "metadata": {},
      "outputs": [],
      "source": [
        "a.__next__()"
      ],
      "id": "a7917ac5-c1cb-4d3c-ade3-5dc5f831cc92"
    },
    {
      "cell_type": "code",
      "execution_count": 191,
      "metadata": {},
      "outputs": [],
      "source": [
        "a.__next__()"
      ],
      "id": "cacf5e33-a1b9-44ab-8571-2cacbaf86c24"
    },
    {
      "cell_type": "code",
      "execution_count": 192,
      "metadata": {},
      "outputs": [],
      "source": [
        "a.__next__()"
      ],
      "id": "a7cb1855-36bf-43ef-8e49-22f391c8a6c0"
    },
    {
      "cell_type": "code",
      "execution_count": 193,
      "metadata": {},
      "outputs": [],
      "source": [
        "a.__next__()"
      ],
      "id": "73b04ebc-5217-4b37-9984-ca9fba6e3388"
    },
    {
      "cell_type": "code",
      "execution_count": 194,
      "metadata": {},
      "outputs": [],
      "source": [
        "a.__next__()"
      ],
      "id": "fea45d8e-ccee-49a4-a295-f7531cf0e5d9"
    },
    {
      "cell_type": "code",
      "execution_count": 195,
      "metadata": {},
      "outputs": [
        {
          "output_type": "stream",
          "name": "stdout",
          "text": [
            "찌가 나와서 for문을 멈춥니다."
          ]
        }
      ],
      "source": [
        "a.__next__()"
      ],
      "id": "83ca426d-2ebf-4a63-8764-5216e477b86f"
    },
    {
      "cell_type": "code",
      "execution_count": 196,
      "metadata": {},
      "outputs": [
        {
          "output_type": "stream",
          "name": "stdout",
          "text": [
            "묵\n",
            "묵\n",
            "묵\n",
            "찌가 나와서 for문을 멈춥니다."
          ]
        }
      ],
      "source": [
        "for i in a:\n",
        "    print(i)"
      ],
      "id": "b8ed4219-e2be-4740-8866-e92775124b8e"
    },
    {
      "cell_type": "markdown",
      "metadata": {},
      "source": [
        "### 파이썬의 비밀 1~5\n",
        "\n",
        "-   파이썬의 비밀1: 자료형은 클래스의 비밀이다.(11주차)\n",
        "-   파이썬의 비밀2: 클래스에는 `__str__`처럼 숨겨진 메서드가 존재한다.\n",
        "    이를 이용하여 파이썬 내부의 기능을 가로챌 수 있다.(12주차0523)\n",
        "-   파이썬의 비밀3: 주피터노트북에서는 “오브젝트이름+엔터” 를 쳐서\n",
        "    나오는 출력은 `__repr__`로 가로챌 수 잇다.(주피터의 비밀)\n",
        "-   파이썬의 비밀4: 함수와 클래스는 숨겨진 메서드에 `__call__`을 가진\n",
        "    오브젝트일 뿐이다.\n",
        "-   파이썬의 비밀5: for문의 비밀 (iterable object, iterator,\n",
        "    StopIteration Error)\n",
        "\n",
        "## 클래스공부 9단계\n",
        "\n",
        "### 예비학습 (변수의 범위)\n",
        "\n",
        "커널을 재시작하고 아래를 관찰하자\n",
        "\n",
        "예제1\n",
        "\n",
        "`-` 관찰1: 함수내의 변수 출력"
      ],
      "id": "14a6c658-8950-4f0f-82a6-c798e7d8b017"
    },
    {
      "cell_type": "code",
      "execution_count": 1,
      "metadata": {},
      "outputs": [],
      "source": [
        "def f():\n",
        "    x=10\n",
        "    print(x)"
      ],
      "id": "b4b752a1-0f82-4bf7-976e-b2dd4cd9396e"
    },
    {
      "cell_type": "code",
      "execution_count": 2,
      "metadata": {},
      "outputs": [
        {
          "output_type": "stream",
          "name": "stdout",
          "text": [
            "10"
          ]
        }
      ],
      "source": [
        "f()"
      ],
      "id": "4fb41548-c8cf-432c-85c0-582cc9584420"
    },
    {
      "cell_type": "markdown",
      "metadata": {},
      "source": [
        "`-` 관찰2: 함수내의 변수가 없을 경우 출력이 되지 않음"
      ],
      "id": "a9a10fb7-22de-4437-82b5-7cf353fafd16"
    },
    {
      "cell_type": "code",
      "execution_count": 3,
      "metadata": {},
      "outputs": [],
      "source": [
        "def g():\n",
        "    print(x)"
      ],
      "id": "4b6e4741-3a2f-4e43-840d-e63290d0ba06"
    },
    {
      "cell_type": "code",
      "execution_count": 4,
      "metadata": {},
      "outputs": [],
      "source": [
        "g()"
      ],
      "id": "138dc452-0975-4b12-b4c5-3d644013509b"
    },
    {
      "cell_type": "markdown",
      "metadata": {},
      "source": [
        "`-` 관찰3: 동일한 이름의 변수가 global에 있다면 함수내에 (local에) 그\n",
        "이름의 변수가 선언되지 않아도 global의 변수를 빌려서 사용함"
      ],
      "id": "14dec5bf-4629-40b7-97ea-23a3d13a4de3"
    },
    {
      "cell_type": "code",
      "execution_count": 7,
      "metadata": {},
      "outputs": [],
      "source": [
        "x=20        # global\n",
        "def g():    # local\n",
        "    print(x)"
      ],
      "id": "8c485ea9-e1db-4248-810d-6517a2db83dc"
    },
    {
      "cell_type": "code",
      "execution_count": 8,
      "metadata": {},
      "outputs": [
        {
          "output_type": "stream",
          "name": "stdout",
          "text": [
            "20"
          ]
        }
      ],
      "source": [
        "g()"
      ],
      "id": "dc37861a-87fc-4b2c-87ef-814dbadfab11"
    },
    {
      "cell_type": "markdown",
      "metadata": {},
      "source": [
        "`-` 관찰4: f()가 실행되면서 `x=10`이 함수내에 (=local에) 실행되지만 이\n",
        "결과가 외부의 x=20에 (=global에) 영향을 미치지는 못함"
      ],
      "id": "d9043f41-5213-4269-abc2-cd1acdf023bf"
    },
    {
      "cell_type": "code",
      "execution_count": 10,
      "metadata": {},
      "outputs": [
        {
          "output_type": "stream",
          "name": "stdout",
          "text": [
            "10"
          ]
        }
      ],
      "source": [
        "f()"
      ],
      "id": "8eb59e4c-043e-47e5-b01e-cea8cd2b7b1b"
    },
    {
      "cell_type": "code",
      "execution_count": 12,
      "metadata": {},
      "outputs": [],
      "source": [
        "x"
      ],
      "id": "3a399ca0-5e3f-45c6-ae89-67765eb16390"
    },
    {
      "cell_type": "markdown",
      "metadata": {},
      "source": [
        "**예제2**\n",
        "\n",
        "(코드1)"
      ],
      "id": "38b31174-4540-4245-b3c7-87f575bc9453"
    },
    {
      "cell_type": "code",
      "execution_count": 15,
      "metadata": {},
      "outputs": [
        {
          "output_type": "stream",
          "name": "stdout",
          "text": [
            "38 39"
          ]
        }
      ],
      "source": [
        "x= 38\n",
        "def nextyear():\n",
        "    y=x+1\n",
        "    print(x,y)\n",
        "nextyear()"
      ],
      "id": "8dc7ec34-b462-4605-b73a-9f98aafc7704"
    },
    {
      "cell_type": "markdown",
      "metadata": {},
      "source": [
        "(코드2)"
      ],
      "id": "82a8e08c-2a17-490c-bc44-7a9688adc541"
    },
    {
      "cell_type": "code",
      "execution_count": 16,
      "metadata": {},
      "outputs": [],
      "source": [
        "x= 38\n",
        "def nextyear():\n",
        "    y=x+1\n",
        "    print(x,y)\n",
        "    x=0\n",
        "nextyear()"
      ],
      "id": "0d5c70c8-adbb-460f-8823-25c14f87467a"
    },
    {
      "cell_type": "markdown",
      "metadata": {},
      "source": [
        "`-` 해석: - 잘못된 해석: 코드1은 실행되었고 코드 2에서 에러가 남.\n",
        "코드1과 2의 차이점은 `x=0` 이라는 코드가 코드2에 추가로 포함되어 있다는\n",
        "것이다. 따라서 `x=0`이 잘못된 코드이고 이걸 실행하는 과정에서 에러가\n",
        "발생했다. - 올바른 해석: 코드1에서는 x가 global variable 이고\n",
        "코드2에서는 x가 local bariable이어서 생기는 문제\n",
        "\n",
        "`-` 코드2의 올바른 수정"
      ],
      "id": "9903f951-7196-4e60-b861-12c76f6f8dbc"
    },
    {
      "cell_type": "code",
      "execution_count": 17,
      "metadata": {},
      "outputs": [
        {
          "output_type": "stream",
          "name": "stdout",
          "text": [
            "0 1"
          ]
        }
      ],
      "source": [
        "x= 38\n",
        "def nextyear():\n",
        "    x=0\n",
        "    y=x+1\n",
        "    print(x,y)\n",
        "nextyear()"
      ],
      "id": "b899666f-ee93-417d-b53f-16251ee12b54"
    },
    {
      "cell_type": "markdown",
      "metadata": {},
      "source": [
        "### 인스턴스 변수, 클래스 변수 (12주차) 0518\n",
        "\n",
        "`-` 예비학습이 주는 교훈\n",
        "\n",
        "(원칙1) global 에서 정의된 이름은 local에서 정의된 이름이 없을 경우 그를\n",
        "대신할 수 있다. (local은 경우에 따라서 global에 있는 변수를 빌려 쓸 수\n",
        "있다.)\n",
        "\n",
        "(원칙2) local과 global 에서 같은 이름이 ’x’가 각각 정의되어 있는 경우?\n",
        "global의 변수와 local의 변수는 각각 따로 행동하며 서로 영향을 주지\n",
        "않는다. (독립적이다)\n",
        "\n",
        "-   만약에 local이 global의 변수를 같이 쓰고 있었다고 할지라도, 추후\n",
        "    새롭게 local에 이름이 새롭게 같은 이름의 변수가 정의된다면 그 순간\n",
        "    local과 global의 변수를 각자 따로 행동하며 서로 영향을 주지 않는다.\n",
        "    $\\to$ 아래 예제 확인"
      ],
      "id": "1f8cb01c-e99f-4602-af9e-0fb67a6dea2e"
    },
    {
      "cell_type": "code",
      "execution_count": 18,
      "metadata": {},
      "outputs": [],
      "source": [
        "x=10\n",
        "def f():\n",
        "    print(x)"
      ],
      "id": "ae21dafe-a512-4866-9d1d-c82de98733b1"
    },
    {
      "cell_type": "code",
      "execution_count": 19,
      "metadata": {},
      "outputs": [
        {
          "output_type": "stream",
          "name": "stdout",
          "text": [
            "10"
          ]
        }
      ],
      "source": [
        "f() # x를 빌려쓰는 신세"
      ],
      "id": "250f66ec-b3e5-474d-8a2d-af0e8a56481e"
    },
    {
      "cell_type": "code",
      "execution_count": 22,
      "metadata": {},
      "outputs": [],
      "source": [
        "def f():\n",
        "    x=20   # 이제 새롭게 x를 정의했으니까\n",
        "    print(x)"
      ],
      "id": "c1581dab-d0e4-4035-b3e3-05ffb2acfb11"
    },
    {
      "cell_type": "code",
      "execution_count": 23,
      "metadata": {},
      "outputs": [
        {
          "output_type": "stream",
          "name": "stdout",
          "text": [
            "20"
          ]
        }
      ],
      "source": [
        "f()    # 다른길을 간다"
      ],
      "id": "6549b3ae-2a7c-4919-b7ca-770c4e5c193e"
    },
    {
      "cell_type": "markdown",
      "metadata": {},
      "source": [
        "`-` 이전에 공부하였던 인스턴스변수와 클래스변수 역시 비슷한 행동을\n",
        "보인다."
      ],
      "id": "f45c07a7-4b6f-4ed0-8aca-e71b0cdd23fb"
    },
    {
      "cell_type": "code",
      "execution_count": 31,
      "metadata": {},
      "outputs": [],
      "source": [
        "class Moo:\n",
        "    x=0  # 클래스변수\n",
        "    \n",
        "    \n",
        "    ## 인스턴스변수는 self.x 또는 __init__ 이렇게"
      ],
      "id": "740d9ca9-668d-4097-be85-4d2c3eda2552"
    },
    {
      "cell_type": "code",
      "execution_count": 32,
      "metadata": {},
      "outputs": [],
      "source": [
        "moo=Moo()"
      ],
      "id": "3e2b8216-d285-45c7-bfb0-5d1fb09a00e5"
    },
    {
      "cell_type": "markdown",
      "metadata": {},
      "source": [
        "(관찰1)"
      ],
      "id": "47061efd-8887-4548-b2be-ce2258f9c5d2"
    },
    {
      "cell_type": "code",
      "execution_count": 33,
      "metadata": {},
      "outputs": [],
      "source": [
        "Moo.x, moo.x"
      ],
      "id": "eba9e946-dac1-422a-a7e8-4b98db2977f2"
    },
    {
      "cell_type": "markdown",
      "metadata": {},
      "source": [
        "-   moo.x는 사실 정의한적 없지만 Moo.x 를 빌려쓰고 있다 (원칙1)\n",
        "\n",
        "(관찰2)"
      ],
      "id": "bd0c99c6-b1b6-4b26-8b51-0a3758d8fa01"
    },
    {
      "cell_type": "code",
      "execution_count": 34,
      "metadata": {},
      "outputs": [],
      "source": [
        "Moo.x=100"
      ],
      "id": "2a1f78b7-6aed-4c7a-8127-2aab1a92be41"
    },
    {
      "cell_type": "code",
      "execution_count": 35,
      "metadata": {},
      "outputs": [],
      "source": [
        "Moo.x, moo.x"
      ],
      "id": "c9abe34a-068d-402e-b6b3-390c94730a27"
    },
    {
      "cell_type": "markdown",
      "metadata": {},
      "source": [
        "-   Moo.x를 변화시키면 moo.x도 변화한다. (빌려쓰고 있는 것이므로, 원칙1\n",
        "    재확인)\n",
        "\n",
        "(관찰3)"
      ],
      "id": "1158d32e-488d-4e8e-bfe9-f3ac860e3fe1"
    },
    {
      "cell_type": "code",
      "execution_count": 36,
      "metadata": {},
      "outputs": [],
      "source": [
        "moo.x = 200"
      ],
      "id": "77e47136-1a2c-4d70-b1ec-4a7c6b8af796"
    },
    {
      "cell_type": "code",
      "execution_count": 37,
      "metadata": {},
      "outputs": [],
      "source": [
        "Moo.x, moo.x"
      ],
      "id": "40e3951e-45d9-4f0d-bc50-a0a44caccafc"
    },
    {
      "cell_type": "markdown",
      "metadata": {},
      "source": [
        "-   moo.x=200 을 하는 순간 새롭게 인스턴스 변수를 선언한 셈이 된다.\n",
        "    따라서 원칙2가 적용되어 이제부터 Moo.x와 moo.x는 서로 독립적으로\n",
        "    행동한다.\n",
        "\n",
        "(관찰4)"
      ],
      "id": "e25d82af-49b1-4236-87bf-57f729ef5d93"
    },
    {
      "cell_type": "code",
      "execution_count": 38,
      "metadata": {},
      "outputs": [],
      "source": [
        "Moo.x= -99"
      ],
      "id": "21831fb5-087a-4eb4-b6bf-b69f278966a5"
    },
    {
      "cell_type": "code",
      "execution_count": 39,
      "metadata": {},
      "outputs": [],
      "source": [
        "Moo.x, moo.x"
      ],
      "id": "9cd74042-0c3e-4b41-9698-277a761f5a12"
    },
    {
      "cell_type": "code",
      "execution_count": 40,
      "metadata": {},
      "outputs": [],
      "source": [
        "moo.x=99"
      ],
      "id": "ab6dcabd-f4c1-4c03-9266-e198e21e6f8e"
    },
    {
      "cell_type": "code",
      "execution_count": 41,
      "metadata": {},
      "outputs": [],
      "source": [
        "Moo.x, moo.x"
      ],
      "id": "e8e18e0c-832b-45f5-a515-456211da5186"
    },
    {
      "cell_type": "markdown",
      "metadata": {},
      "source": [
        "-   Moo.x를 바꾼다고 해서 moo.x가 영향받지 않고 moo.x를 바꿔도 Moo.x가\n",
        "    영향 받지 않음 (완전히 독립, 원칙2의 재확인)\n",
        "\n",
        "`-` 포인트: (1) 클래스변수와 인스턴스 변수의 구분 (2) 인스턴스 변수가\n",
        "정의되지 않으면 클래스변수를 빌려쓸 수 있음 (3) 인스턴스변수와\n",
        "클래스변수가 같은 이름으로 저장되어 있으면 각각 독립적으로 행동\n",
        "\n",
        "### 인스턴스 메서드\n",
        "\n",
        "`-` self의 비밀: 사실 클래스에서 정의된 함수의 첫번째 인자의 이름이 꼭\n",
        "self일 필요는 없다. (무엇으로 전달하든 클래스안에서 정의된 메소드의\n",
        "첫번째 인자는 기본적으로 instance의 태명 역할을 한다.)"
      ],
      "id": "0493f073-bbbd-41e0-ab39-db3ff0a58dad"
    },
    {
      "cell_type": "code",
      "execution_count": 48,
      "metadata": {},
      "outputs": [],
      "source": [
        "class Moo:\n",
        "    def __init__(abab):\n",
        "        abab.name = 'boram'\n",
        "    def f(self):\n",
        "        print(self.name)"
      ],
      "id": "c680497f-9309-4c10-8a5b-1b14ebc659bc"
    },
    {
      "cell_type": "code",
      "execution_count": 49,
      "metadata": {},
      "outputs": [],
      "source": [
        "moo=Moo()"
      ],
      "id": "7ecbe936-063d-426d-9292-2e4c5d8eff13"
    },
    {
      "cell_type": "code",
      "execution_count": 50,
      "metadata": {},
      "outputs": [],
      "source": [
        "moo.name"
      ],
      "id": "e2b7eedb-9134-405b-9d08-b1da2c7d72cf"
    },
    {
      "cell_type": "code",
      "execution_count": 51,
      "metadata": {},
      "outputs": [
        {
          "output_type": "stream",
          "name": "stdout",
          "text": [
            "boram"
          ]
        }
      ],
      "source": [
        "moo.f()"
      ],
      "id": "86e31a05-957e-435a-ad9f-f6ea4d89e978"
    },
    {
      "cell_type": "code",
      "execution_count": 47,
      "metadata": {},
      "outputs": [],
      "source": [
        "# self대신에 ababab 이런거 써도 되긴 함"
      ],
      "id": "d789c1a8-72d3-4966-aa50-540739efaca6"
    },
    {
      "cell_type": "markdown",
      "metadata": {},
      "source": [
        "`-` 인스턴스 메서드: 위의 `__init__` 와 `f` 와 같이 첫번째 인자를\n",
        "인스턴스의 태명으로 받는 함수를 인스턴스 메서드(간단히 메서드) 라고\n",
        "한다. - 인스턴스 메소드는 `self.f()` 와 같이 사용한다. 의미는 `f(self)`\n",
        "이다."
      ],
      "id": "ef05fed5-5532-4d52-8e6a-5d291a4e0669"
    },
    {
      "cell_type": "code",
      "execution_count": 52,
      "metadata": {},
      "outputs": [],
      "source": [
        "moo.name = 'hynn'"
      ],
      "id": "f14fdd9e-23e8-4d84-ab4a-c02895a29e4a"
    },
    {
      "cell_type": "code",
      "execution_count": 55,
      "metadata": {},
      "outputs": [],
      "source": [
        "moo.__init__()   # 인스턴스메서드의 사용예시: self.__init__()의 꼴로 사용"
      ],
      "id": "0460273c-1c5a-49b6-935f-8636498d8820"
    },
    {
      "cell_type": "code",
      "execution_count": 56,
      "metadata": {},
      "outputs": [],
      "source": [
        "moo.name"
      ],
      "id": "07cefc12-e55d-46fa-aa7a-6481db2d44a0"
    },
    {
      "cell_type": "code",
      "execution_count": 57,
      "metadata": {},
      "outputs": [
        {
          "output_type": "stream",
          "name": "stdout",
          "text": [
            "boram"
          ]
        }
      ],
      "source": [
        "moo.f() # 인스턴스메서드의 사용예시: self.__init__()의 꼴로 사용"
      ],
      "id": "0c147336-2d55-4121-8c1d-ee30e8eac9a9"
    },
    {
      "cell_type": "code",
      "execution_count": 59,
      "metadata": {},
      "outputs": [],
      "source": [
        "Moo.__init__()  # 사용안됨"
      ],
      "id": "99e59b20-3680-4c4e-80b8-f2df331b11aa"
    },
    {
      "cell_type": "code",
      "execution_count": 60,
      "metadata": {
        "tags": []
      },
      "outputs": [],
      "source": [
        "Moo.f()  # 사용안됨"
      ],
      "id": "d59aad2b-8502-405a-ab95-48fcd78381f8"
    },
    {
      "cell_type": "markdown",
      "metadata": {},
      "source": [
        "### 클래스 메서드\n",
        "\n",
        "`-` 클래스 메서드: 함수의 첫 인자로 클래스오브젝트를 받는 메서드를\n",
        "클래스 메서드라고 한다.\n",
        "\n",
        "`-` 목표: `Moo.f()`와 같은 형태로 사용할 수 있는 함수를 만들어 보자 -\\>\n",
        "클래스 메서드를 만들어보자!"
      ],
      "id": "2ebe8e36-ee68-4c8b-b279-6cbda331d631"
    },
    {
      "cell_type": "code",
      "execution_count": 62,
      "metadata": {},
      "outputs": [],
      "source": [
        "class Moo:\n",
        "    def f(self):\n",
        "        print(\"인스턴스 메서드\")"
      ],
      "id": "29d88943-251c-43e9-b1e3-6bfd0adea64a"
    },
    {
      "cell_type": "code",
      "execution_count": 63,
      "metadata": {},
      "outputs": [],
      "source": [
        "moo=Moo()"
      ],
      "id": "d86b6acf-e868-491f-b105-6808330813a8"
    },
    {
      "cell_type": "code",
      "execution_count": 64,
      "metadata": {},
      "outputs": [
        {
          "output_type": "stream",
          "name": "stdout",
          "text": [
            "인스턴스 메서드"
          ]
        }
      ],
      "source": [
        "moo.f()"
      ],
      "id": "51647381-6dd8-4541-831f-cbb02e777ea8"
    },
    {
      "cell_type": "code",
      "execution_count": 65,
      "metadata": {},
      "outputs": [],
      "source": [
        "Moo.f()"
      ],
      "id": "80f388ed-4ec6-4651-b7ba-0b58d4095075"
    },
    {
      "cell_type": "code",
      "execution_count": 67,
      "metadata": {},
      "outputs": [],
      "source": [
        "class Moo:\n",
        "    @classmethod\n",
        "    def f(cls):  # 함수의 첫 인자로 클래스오브젝트를 받는다. cls는 클래스 Moo의 가칭이라고 생각하면 된다.\n",
        "        print(\"클래스 메서드\")"
      ],
      "id": "d59e5e66-179d-40cb-9b7e-e038d0f9cd0f"
    },
    {
      "cell_type": "code",
      "execution_count": 68,
      "metadata": {},
      "outputs": [],
      "source": [
        "moo=Moo()"
      ],
      "id": "9f35b1dc-41dd-4a03-8911-feabfa467255"
    },
    {
      "cell_type": "code",
      "execution_count": 69,
      "metadata": {},
      "outputs": [
        {
          "output_type": "stream",
          "name": "stdout",
          "text": [
            "클래스 메서드"
          ]
        }
      ],
      "source": [
        "Moo.f()"
      ],
      "id": "e6491a66-d69c-4f09-a2f0-cc8a80410e4b"
    },
    {
      "cell_type": "code",
      "execution_count": 71,
      "metadata": {},
      "outputs": [
        {
          "output_type": "stream",
          "name": "stdout",
          "text": [
            "클래스 메서드"
          ]
        }
      ],
      "source": [
        "moo.f()  # 상위에서 정의한걸 빌려옴.. \n",
        "#인스턴스 메서드를 따로 정의한적은 없지만 같은 이름의 클래스 메서드가 있으므로 빌려서 씀"
      ],
      "id": "f1944f33-8f71-4e01-963b-b9c8fd88314e"
    },
    {
      "cell_type": "markdown",
      "metadata": {},
      "source": [
        "`-` 예제"
      ],
      "id": "bb709470-3faa-4dc0-ac25-05c551938494"
    },
    {
      "cell_type": "code",
      "execution_count": 83,
      "metadata": {},
      "outputs": [],
      "source": [
        "class Moo:\n",
        "    @classmethod\n",
        "    def set_class_x(cls,value): # 클래스메서드\n",
        "        cls.x=value   # 클래스변수 선언, note: Moo.x = value와 같은 코드 \n",
        "    def set_instance_x(self, value): # 인스턴스메서드\n",
        "        self.x = value  # 인스턴스 변수선언"
      ],
      "id": "a36a6ad8-235e-40de-a844-ece97ac69749"
    },
    {
      "cell_type": "code",
      "execution_count": 84,
      "metadata": {},
      "outputs": [],
      "source": [
        "moo=Moo()"
      ],
      "id": "2c938972-fee5-4500-84cb-7544492df0b8"
    },
    {
      "cell_type": "code",
      "execution_count": 85,
      "metadata": {},
      "outputs": [],
      "source": [
        "Moo.set_class_x(10)   # 클래스 메서드로 클래스 변수에 10을 설정"
      ],
      "id": "be7cf7d3-0092-4dfe-9bb3-5252e6e75ae9"
    },
    {
      "cell_type": "code",
      "execution_count": 86,
      "metadata": {},
      "outputs": [],
      "source": [
        "Moo.set_instance_x(10)   # 클래스에서 인스턴스 메서드를 사용 -> 사용 불가"
      ],
      "id": "f804d99f-7c40-4084-b833-36a76e4f85b7"
    },
    {
      "cell_type": "code",
      "execution_count": 87,
      "metadata": {},
      "outputs": [],
      "source": [
        "Moo.x, moo.x   # 인스턴스 변수는 따로 설정하지 않았지만 클래스 변수값을 빌려쓰고 있음"
      ],
      "id": "8913f355-d8e0-4c7f-a4a2-d97d2675d515"
    },
    {
      "cell_type": "code",
      "execution_count": 90,
      "metadata": {},
      "outputs": [],
      "source": [
        "moo.set_class_x(20) # 인스턴스에서는 원래 set_class_x 라는 메서드는 없지만 클래스에는 있어서 빌려씀"
      ],
      "id": "49fe8c9a-9da5-4059-a628-caff8279d2ab"
    },
    {
      "cell_type": "code",
      "execution_count": 93,
      "metadata": {},
      "outputs": [],
      "source": [
        "Moo.x, moo.x  # 현재 moo.x는 클래스 변수를 빌려쓰고 있는 상황이므로 같이 바뀜"
      ],
      "id": "b170952f-98ee-4852-85f2-08b8cb2c8ddf"
    },
    {
      "cell_type": "code",
      "execution_count": 96,
      "metadata": {},
      "outputs": [],
      "source": [
        "moo.set_instance_x(-20) # 인스턴스에서 인스턴스 메서드를 사용하여 인스턴스 변수값을 -20으로 설정\n",
        "#-> 이때부터 인스턴스변수와 클래스 변수는 서로 독립적인 노선을 간다."
      ],
      "id": "684f25d4-afee-4a93-9583-c73eb2bcb958"
    },
    {
      "cell_type": "code",
      "execution_count": 97,
      "metadata": {},
      "outputs": [],
      "source": [
        "Moo.x, moo.x "
      ],
      "id": "dcc29c0d-ea52-4169-bf2f-4ffa8a96c384"
    },
    {
      "cell_type": "code",
      "execution_count": 100,
      "metadata": {},
      "outputs": [],
      "source": [
        "Moo.set_class_x(30)   # 독립적인 노선을 가기로 했으므로 클래스변수만 30으로 바뀜"
      ],
      "id": "55c10319-30c1-42c3-926a-0e4c573bb243"
    },
    {
      "cell_type": "code",
      "execution_count": 99,
      "metadata": {},
      "outputs": [],
      "source": [
        "Moo.x, moo.x "
      ],
      "id": "ed4d6a1c-31d0-4307-ab82-4125f9c70753"
    },
    {
      "cell_type": "code",
      "execution_count": 102,
      "metadata": {},
      "outputs": [],
      "source": [
        "moo.set_class_x(-40)   # 여전히 인스턴스에서 set_class_x라는 함수는 없으므로 클래스메서드를 빌려쓰고 있음\n",
        "Moo.x, moo.x"
      ],
      "id": "cfebd0ed-1e46-4a40-b709-ba36d08de3bf"
    },
    {
      "cell_type": "markdown",
      "metadata": {},
      "source": [
        "### 스태틱 메서드\n",
        "\n",
        "`-` 스태틱 메서드: 첫 인자로 인스턴스와 클래스 모두 받지 않음. (클래스\n",
        "안에 정의되어 있지만 그냥 함수와 같음)"
      ],
      "id": "98477783-dc60-432c-8f42-8c39cd6f75c6"
    },
    {
      "cell_type": "code",
      "execution_count": 103,
      "metadata": {},
      "outputs": [],
      "source": [
        "class Cals:\n",
        "    @staticmethod\n",
        "    def add(a,b):\n",
        "        return a+b\n",
        "    @staticmethod\n",
        "    def sub(a,b):\n",
        "        return a-b"
      ],
      "id": "f9f1ac4c-b1cf-43a9-9037-a8383b5e3eff"
    },
    {
      "cell_type": "code",
      "execution_count": 104,
      "metadata": {},
      "outputs": [],
      "source": [
        "fs = Cals()"
      ],
      "id": "a45b03e0-01af-4612-b651-3657f1e4d38c"
    },
    {
      "cell_type": "code",
      "execution_count": 105,
      "metadata": {},
      "outputs": [],
      "source": [
        "fs.add(1,2)"
      ],
      "id": "b772620e-b137-4a6f-97be-e3e3487ace4e"
    },
    {
      "cell_type": "code",
      "execution_count": 106,
      "metadata": {},
      "outputs": [],
      "source": [
        "fs.sub(1,2)"
      ],
      "id": "07a331ce-0359-4454-a1ab-3d9b0bf8e9c7"
    },
    {
      "cell_type": "markdown",
      "metadata": {},
      "source": [
        "-   fs는 그냥 함수들을 묶어놓은 느낌? 정리하기 편하게\n",
        "\n",
        "## 클래스공부 10단계\n",
        "\n",
        "### 문자열 join\n",
        "\n",
        "`-` 예제"
      ],
      "id": "ec40ffe5-74bd-4dc4-ae72-5064f5c2b757"
    },
    {
      "cell_type": "code",
      "execution_count": 107,
      "metadata": {},
      "outputs": [],
      "source": [
        "lst = list('abcd')"
      ],
      "id": "3ca3d978-55d9-4259-9cf0-7d596ca3798f"
    },
    {
      "cell_type": "code",
      "execution_count": 108,
      "metadata": {},
      "outputs": [],
      "source": [
        "list('abcd')"
      ],
      "id": "8a722e88-0b1c-4843-a1b1-9e7ea0620199"
    },
    {
      "cell_type": "code",
      "execution_count": 110,
      "metadata": {},
      "outputs": [],
      "source": [
        "'abcd' #위의 리스트를 이렇게 모여서 쓰여지게 하고 싶다"
      ],
      "id": "572233f3-10c9-4f88-87a9-8cf2959e164c"
    },
    {
      "cell_type": "code",
      "execution_count": 111,
      "metadata": {},
      "outputs": [],
      "source": [
        "''.join(lst)"
      ],
      "id": "ad72ca63-f17c-439c-94eb-640fbd09c3a0"
    },
    {
      "cell_type": "markdown",
      "metadata": {},
      "source": [
        "`-` 해설: ’’는 string object이고 `.join`는 string object에 소속된\n",
        "메서드이다."
      ],
      "id": "373a17cb-3f13-45ae-b9fa-3c4dd2834f0b"
    },
    {
      "cell_type": "code",
      "execution_count": 112,
      "metadata": {},
      "outputs": [],
      "source": [
        "a=''"
      ],
      "id": "e83b4b46-1ae0-48d5-80a4-9e920b2ce61d"
    },
    {
      "cell_type": "code",
      "execution_count": 113,
      "metadata": {},
      "outputs": [],
      "source": [
        "a?"
      ],
      "id": "70b52ba7-bfb9-477d-92bd-453c35998338"
    },
    {
      "cell_type": "code",
      "execution_count": 114,
      "metadata": {},
      "outputs": [],
      "source": [
        "a.join?"
      ],
      "id": "80191670-2b58-4ecb-af9a-1e0c1a94e6ef"
    },
    {
      "cell_type": "code",
      "execution_count": 115,
      "metadata": {},
      "outputs": [],
      "source": [
        "a.join(lst)  # join(a,lst)와 같은효과"
      ],
      "id": "833ef377-fa31-4150-8a79-1ef2d2c70da4"
    },
    {
      "cell_type": "markdown",
      "metadata": {},
      "source": [
        "`-` join의 간단한 사용방법"
      ],
      "id": "cd72d8d9-69fc-4743-987e-b984d3ed7e87"
    },
    {
      "cell_type": "code",
      "execution_count": 117,
      "metadata": {},
      "outputs": [],
      "source": [
        "'-'.join(lst)  # '' 안에 - 넣어서 "
      ],
      "id": "5ed52589-3f59-4064-aabf-2b9adaa176b3"
    },
    {
      "cell_type": "markdown",
      "metadata": {},
      "source": [
        "### matplotlib\n",
        "\n",
        "`-` 파이썬의 모든 것은 객체이다: - matplotlib의 다른사용 (객체지향적\n",
        "언어로 그림 그리기!)\n",
        "\n",
        "`-` 그림 오브젝트 생성"
      ],
      "id": "c2560479-25d6-419e-91a9-65b2169b6b11"
    },
    {
      "cell_type": "code",
      "execution_count": 120,
      "metadata": {},
      "outputs": [],
      "source": [
        "fig = plt.figure() # 그림 오브젝트가 생성되고 fig라는 이름 "
      ],
      "id": "c20aae3b-75f5-46d5-8eec-3ad253cb8226"
    },
    {
      "cell_type": "code",
      "execution_count": 121,
      "metadata": {},
      "outputs": [],
      "source": [
        "fig"
      ],
      "id": "a9bf0458-9bb8-4e84-a762-b2b1f0b38f8c"
    },
    {
      "cell_type": "markdown",
      "metadata": {},
      "source": [
        "`-` 그림 오브젝트의 액시즈를 확인 -\\> 아무것도 없음.."
      ],
      "id": "65442bda-d0fd-4108-bae5-22e31ff4ac4f"
    },
    {
      "cell_type": "code",
      "execution_count": 124,
      "metadata": {},
      "outputs": [],
      "source": [
        "fig.axes"
      ],
      "id": "a14f6407-0bb1-406a-9a94-b0b8be911c08"
    },
    {
      "cell_type": "markdown",
      "metadata": {},
      "source": [
        "`-` (0,0) 자리에 (가로=1, 세로=1) 크기의 그림틀(액시즈)을 넣어보자."
      ],
      "id": "1391c98f-15de-4f42-9a75-43e5961c30ce"
    },
    {
      "cell_type": "code",
      "execution_count": 125,
      "metadata": {},
      "outputs": [],
      "source": [
        "fig.add_axes([0,0,1,1])"
      ],
      "id": "70410581-9af7-4294-9c81-b2302dddba04"
    },
    {
      "cell_type": "code",
      "execution_count": 126,
      "metadata": {},
      "outputs": [],
      "source": [
        "fig.axes"
      ],
      "id": "156e5581-8f63-4e51-8d2c-e27c6b92409e"
    },
    {
      "cell_type": "code",
      "execution_count": 127,
      "metadata": {},
      "outputs": [
        {
          "output_type": "display_data",
          "metadata": {},
          "data": {
            "image/png": "[encoded data removed]"
          }
        }
      ],
      "source": [
        "fig"
      ],
      "id": "0bdfe5f8-0876-4cb7-9937-b105e29e1f99"
    },
    {
      "cell_type": "markdown",
      "metadata": {},
      "source": [
        "`-` 액시즈추가"
      ],
      "id": "659a27b3-ecbd-43f0-af14-54286867a049"
    },
    {
      "cell_type": "code",
      "execution_count": 128,
      "metadata": {},
      "outputs": [],
      "source": [
        "fig.add_axes([0,1.2, 1,1])  #   (0,1.2) 위치에  가로길이가 1, 세로길이가 1인 그림"
      ],
      "id": "087c4e7a-b6d9-4884-9630-dfc7a376a3fa"
    },
    {
      "cell_type": "code",
      "execution_count": 129,
      "metadata": {},
      "outputs": [
        {
          "output_type": "display_data",
          "metadata": {},
          "data": {
            "image/png": "[encoded data removed]"
          }
        }
      ],
      "source": [
        "fig"
      ],
      "id": "8d2cde0d-587e-4303-852b-8ff6d7e78d18"
    },
    {
      "cell_type": "markdown",
      "metadata": {},
      "source": [
        "`-` (0.5,0.5) 위치에 (가로=1, 세로=1 ) 크기의 그림 추가"
      ],
      "id": "ac71eaad-6bc3-4f9b-84d9-b44d9a8283a2"
    },
    {
      "cell_type": "code",
      "execution_count": 130,
      "metadata": {},
      "outputs": [],
      "source": [
        "fig.add_axes([0.5,0.5,1,1])"
      ],
      "id": "3fb30763-9c38-40ab-9dc7-2de8a9340043"
    },
    {
      "cell_type": "code",
      "execution_count": 131,
      "metadata": {},
      "outputs": [
        {
          "output_type": "display_data",
          "metadata": {},
          "data": {
            "image/png": "[encoded data removed]"
          }
        }
      ],
      "source": [
        "fig"
      ],
      "id": "2f6e60b7-cb59-4402-a333-e753f1d9f34c"
    },
    {
      "cell_type": "markdown",
      "metadata": {},
      "source": [
        "`-` fig 의 세번째 액시즈에 접근"
      ],
      "id": "30fcbfe0-332b-4426-be33-02f0002dfcad"
    },
    {
      "cell_type": "code",
      "execution_count": 134,
      "metadata": {},
      "outputs": [],
      "source": [
        "a3=fig.axes[2]   # id 찍어보면 어딘가게 엊장되어 있음. 오브젝트임\n",
        "a3"
      ],
      "id": "f32879e9-262c-497c-bb61-060ceb42b371"
    },
    {
      "cell_type": "markdown",
      "metadata": {},
      "source": [
        "`-` 액시즈의 메소드중에 plot가 있음 -\\> 이것을 그림으로 그려보자"
      ],
      "id": "ec783a87-ca61-4301-b851-bb3816f17fd8"
    },
    {
      "cell_type": "code",
      "execution_count": 135,
      "metadata": {},
      "outputs": [],
      "source": [
        "a3.plot([1,2,3],[4,5,3],'--r')   # --r : 점선으로 빨간색으로 "
      ],
      "id": "0513f7b8-8ad8-468a-b2cf-efca2b9c5cfa"
    },
    {
      "cell_type": "code",
      "execution_count": 137,
      "metadata": {},
      "outputs": [
        {
          "output_type": "display_data",
          "metadata": {},
          "data": {
            "image/png": "[encoded data removed]"
          }
        }
      ],
      "source": [
        "fig"
      ],
      "id": "6b221c1a-747e-4ee1-b9ec-4817db846638"
    },
    {
      "cell_type": "markdown",
      "metadata": {},
      "source": [
        "`-` 다시 세번째 축에 접근하여 다른그림을 그려보자."
      ],
      "id": "9c0bd3b5-93d0-4cfe-a5b9-cc631716b42b"
    },
    {
      "cell_type": "code",
      "execution_count": 138,
      "metadata": {},
      "outputs": [
        {
          "output_type": "display_data",
          "metadata": {},
          "data": {
            "image/png": "[encoded data removed]"
          }
        }
      ],
      "source": [
        "fig.axes[-1].plot([1,2,3],[5,4,3],':o')\n",
        "fig"
      ],
      "id": "3b728464-befb-48c6-8d4a-1bea1651030b"
    },
    {
      "cell_type": "markdown",
      "metadata": {},
      "source": [
        "`-` 이제 첫번째 축에 접근하여 다른그림을 그려보자."
      ],
      "id": "8d9b6467-3b84-437b-a0fa-fbfb7778f9fd"
    },
    {
      "cell_type": "code",
      "execution_count": 139,
      "metadata": {},
      "outputs": [
        {
          "output_type": "display_data",
          "metadata": {},
          "data": {
            "image/png": "[encoded data removed]"
          }
        }
      ],
      "source": [
        "fig.axes[0].plot([1,2,3],[4,1,4],'--b')\n",
        "fig"
      ],
      "id": "3de379c4-2e58-436d-8e03-1707fe49eefc"
    },
    {
      "cell_type": "markdown",
      "metadata": {},
      "source": [
        "`-` 클래스에 대한 이해가 없다면 위와 같은 그림을 그리기도 힘들고 코드를\n",
        "해석하기도 힘듬\n",
        "\n",
        "### shallow copy\n",
        "\n",
        "`-` 아래의 코드를 관찰하자."
      ],
      "id": "a8cd8280-5592-494d-8281-35c396ca55f0"
    },
    {
      "cell_type": "code",
      "execution_count": 140,
      "metadata": {},
      "outputs": [],
      "source": [
        "a=[1,2,3]\n",
        "b=a\n",
        "a=a+[4]"
      ],
      "id": "e21dcb08-e7ba-4148-95c1-523693183405"
    },
    {
      "cell_type": "markdown",
      "metadata": {},
      "source": [
        "현재 a,b의 출력 결과는?"
      ],
      "id": "d2abefe8-5bbf-4aeb-81cb-12820510483e"
    },
    {
      "cell_type": "code",
      "execution_count": 143,
      "metadata": {},
      "outputs": [],
      "source": [
        "a, b"
      ],
      "id": "2e3b0e6d-888f-42b9-820d-26572196a3d0"
    },
    {
      "cell_type": "markdown",
      "metadata": {},
      "source": [
        "`-` 이제 다시 아래의 코드를 관찰하자."
      ],
      "id": "8c19c936-07ad-4d14-af3a-131143d5b082"
    },
    {
      "cell_type": "code",
      "execution_count": 144,
      "metadata": {},
      "outputs": [],
      "source": [
        "a=[1,2,3]\n",
        "b=a\n",
        "a.append(4)"
      ],
      "id": "9676ac6d-591f-49c6-8922-4c3db5a5cdc0"
    },
    {
      "cell_type": "markdown",
      "metadata": {},
      "source": [
        "현재 a,b의 출력 결과는?"
      ],
      "id": "fe165cf0-6461-440e-b353-2eff1fd043b2"
    },
    {
      "cell_type": "code",
      "execution_count": 145,
      "metadata": {},
      "outputs": [],
      "source": [
        "a, b"
      ],
      "id": "fd496e63-7584-45d5-a6bb-77bc956dca06"
    }
  ],
  "nbformat": 4,
  "nbformat_minor": 5,
  "metadata": {
    "kernelspec": {
      "name": "python3",
      "display_name": "Python 3",
      "language": "python"
    },
    "language_info": {
      "name": "python",
      "codemirror_mode": {
        "name": "ipython",
        "version": "3"
      },
      "file_extension": ".py",
      "mimetype": "text/x-python",
      "nbconvert_exporter": "python",
      "pygments_lexer": "ipython3",
      "version": "3.7.16"
    }
  }
}