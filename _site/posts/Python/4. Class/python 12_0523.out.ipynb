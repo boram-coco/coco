{
  "cells": [
    {
      "cell_type": "markdown",
      "metadata": {},
      "source": [
        "# 파이썬 (0523) 12주차\n",
        "\n",
        "김보람  \n",
        "2022-05-23"
      ],
      "id": "70703239-b4cd-4305-bd0d-8cf245bd3c8b"
    },
    {
      "cell_type": "code",
      "execution_count": 1,
      "metadata": {},
      "outputs": [],
      "source": [
        "import numpy as np"
      ],
      "id": "e23f4022-573d-436c-a864-bebe2630d5e2"
    },
    {
      "cell_type": "markdown",
      "metadata": {},
      "source": [
        "## 클래스공부 4단계\n",
        "\n",
        "### Motivating Example\n",
        "\n",
        "`-` 가위바위보\n",
        "\n",
        "-   방법1"
      ],
      "id": "3d891144-6961-4ef2-9233-7e9568136851"
    },
    {
      "cell_type": "code",
      "execution_count": 9,
      "metadata": {},
      "outputs": [],
      "source": [
        "class RPC2:\n",
        "    def throw2(self):\n",
        "        print(np.random.choice(['가위', '바위','보']))"
      ],
      "id": "01ac3be6-f8ea-4c51-bf25-6c3bc09393d7"
    },
    {
      "cell_type": "code",
      "execution_count": 10,
      "metadata": {},
      "outputs": [],
      "source": [
        "a=RPC2()"
      ],
      "id": "c7c98b2b-2f0e-43ad-a112-3fb067c08897"
    },
    {
      "cell_type": "code",
      "execution_count": 11,
      "metadata": {},
      "outputs": [
        {
          "output_type": "stream",
          "name": "stdout",
          "text": [
            "바위"
          ]
        }
      ],
      "source": [
        "a.throw2()"
      ],
      "id": "5d28de9b-6723-4bad-9bc5-b10039d281dd"
    },
    {
      "cell_type": "markdown",
      "metadata": {},
      "source": [
        "-   방법2"
      ],
      "id": "a28037c7-4bf0-4514-b26b-69605966a46f"
    },
    {
      "cell_type": "code",
      "execution_count": 12,
      "metadata": {},
      "outputs": [],
      "source": [
        "class RPC:\n",
        "    def thorw(self, candidate):\n",
        "        print(np.random.choice(candidate))"
      ],
      "id": "4712ea59-290b-48e7-87fa-198ef7362af3"
    },
    {
      "cell_type": "code",
      "execution_count": 13,
      "metadata": {},
      "outputs": [],
      "source": [
        "a=RPC()"
      ],
      "id": "25d87b65-f506-4676-969f-a2ce97e10f4f"
    },
    {
      "cell_type": "code",
      "execution_count": 17,
      "metadata": {},
      "outputs": [
        {
          "output_type": "stream",
          "name": "stdout",
          "text": [
            "바위"
          ]
        }
      ],
      "source": [
        "a.thorw(['가위','바위','보'])"
      ],
      "id": "72dbc081-bb25-4874-8366-6fce2d81b27f"
    },
    {
      "cell_type": "markdown",
      "metadata": {},
      "source": [
        "-   방법3"
      ],
      "id": "7f52518d-7bcf-4971-87ef-1e9cdce27ce4"
    },
    {
      "cell_type": "code",
      "execution_count": 21,
      "metadata": {},
      "outputs": [],
      "source": [
        "class RPC3:\n",
        "    def __init__(self, candidate=['가위','바위','보']):\n",
        "        self.candidate = candidate\n",
        "    def throw3(self):\n",
        "        print(np.random.choice(self.candidate))"
      ],
      "id": "c0eb2ebf-7585-40b3-90c4-614977ac3286"
    },
    {
      "cell_type": "code",
      "execution_count": 30,
      "metadata": {},
      "outputs": [],
      "source": [
        "a=RPC3()   # __init__ 는 암묵적으로 실행"
      ],
      "id": "d1626993-edcf-40c4-8c7a-848e19401f5e"
    },
    {
      "cell_type": "code",
      "execution_count": 23,
      "metadata": {},
      "outputs": [
        {
          "output_type": "stream",
          "name": "stdout",
          "text": [
            "바위"
          ]
        }
      ],
      "source": [
        "a.throw3()"
      ],
      "id": "b57bf7a8-ccb7-43fa-8adc-043e0c64312a"
    },
    {
      "cell_type": "markdown",
      "metadata": {},
      "source": [
        "-   방법4"
      ],
      "id": "05991554-9d49-4332-95e3-f6641e298d62"
    },
    {
      "cell_type": "code",
      "execution_count": 36,
      "metadata": {},
      "outputs": [],
      "source": [
        "class RPC4:\n",
        "    pass"
      ],
      "id": "bad2b6a9-a1a6-4b1e-a626-99cf11c00b64"
    },
    {
      "cell_type": "code",
      "execution_count": 37,
      "metadata": {},
      "outputs": [],
      "source": [
        "b=RPC4()"
      ],
      "id": "8dcf8171-f82d-4c4a-8039-ac4d8c2b1dc4"
    },
    {
      "cell_type": "code",
      "execution_count": 38,
      "metadata": {},
      "outputs": [],
      "source": [
        "def initt(b, candidate=['가위','바위','보']):\n",
        "    b.candidate = candidate"
      ],
      "id": "e048f6e4-9700-4486-8631-f25a510e9311"
    },
    {
      "cell_type": "code",
      "execution_count": 39,
      "metadata": {},
      "outputs": [],
      "source": [
        "initt(b)"
      ],
      "id": "31cb5975-8cef-4bc0-a4d7-2242b428384e"
    },
    {
      "cell_type": "code",
      "execution_count": 40,
      "metadata": {},
      "outputs": [],
      "source": [
        "b.candidate"
      ],
      "id": "e5cff861-39b3-44c4-a8cf-9344ee75e651"
    },
    {
      "cell_type": "code",
      "execution_count": 41,
      "metadata": {},
      "outputs": [],
      "source": [
        "def throww(b):\n",
        "        print(np.random.choice(b.candidate))"
      ],
      "id": "dd522808-316f-4e13-a62e-2b6e58bacd67"
    },
    {
      "cell_type": "code",
      "execution_count": 42,
      "metadata": {},
      "outputs": [
        {
          "output_type": "stream",
          "name": "stdout",
          "text": [
            "가위"
          ]
        }
      ],
      "source": [
        "throww(b)"
      ],
      "id": "b787b0d9-6d61-48e5-ae32-69f9566689f3"
    },
    {
      "cell_type": "markdown",
      "metadata": {},
      "source": [
        "-   방법5"
      ],
      "id": "4134391d-af4f-4619-8651-d023956a9573"
    },
    {
      "cell_type": "code",
      "execution_count": 43,
      "metadata": {},
      "outputs": [],
      "source": [
        "# 위의 코드를 하나로 합치면.."
      ],
      "id": "56badac5-8d33-4149-a5f7-b9870eb4b23d"
    },
    {
      "cell_type": "code",
      "execution_count": 54,
      "metadata": {},
      "outputs": [],
      "source": [
        "class RPC4:\n",
        "    def __init__(self, candidate=['가위','바위','보']):\n",
        "        self.candidate = candidate\n",
        "    def throww(self):\n",
        "        print(np.random.choice(self.candidate))"
      ],
      "id": "3cb68630-f541-4c6e-9684-e2a55c747a50"
    },
    {
      "cell_type": "code",
      "execution_count": 55,
      "metadata": {},
      "outputs": [],
      "source": [
        "a=RPC4()"
      ],
      "id": "fda64d23-140f-4eff-9257-e8593201eb65"
    },
    {
      "cell_type": "code",
      "execution_count": 56,
      "metadata": {},
      "outputs": [
        {
          "output_type": "stream",
          "name": "stdout",
          "text": [
            "가위"
          ]
        }
      ],
      "source": [
        "a.throww()"
      ],
      "id": "16c7b468-8e3d-4556-99cf-ec96c15b61db"
    },
    {
      "cell_type": "markdown",
      "metadata": {},
      "source": [
        "`-` 생각해보니까 throw는 choose + show 의 결합인 것 같다."
      ],
      "id": "78ff94e4-c88d-4e5b-9854-98dca15ac004"
    },
    {
      "cell_type": "code",
      "execution_count": 57,
      "metadata": {},
      "outputs": [],
      "source": [
        "class RPC:\n",
        "    def __init__(self, candidate=['가위','바위','보']):\n",
        "        self.candidate = candidate\n",
        "    def choose(self):\n",
        "        self.actions = np.random.choice(self.candidate)\n",
        "    def show(self):\n",
        "        print(self.actions)"
      ],
      "id": "74e90821-c775-4409-bf76-f261ecba55d7"
    },
    {
      "cell_type": "code",
      "execution_count": 58,
      "metadata": {},
      "outputs": [],
      "source": [
        "a=RPC()"
      ],
      "id": "dcda21fa-7a52-4e45-96f7-bd9233b9c4b6"
    },
    {
      "cell_type": "code",
      "execution_count": 60,
      "metadata": {},
      "outputs": [],
      "source": [
        "a.actions()   # 지금은 정의되지 않음"
      ],
      "id": "51ae154a-74de-4247-8678-ca0bef1d0694"
    },
    {
      "cell_type": "code",
      "execution_count": 61,
      "metadata": {},
      "outputs": [],
      "source": [
        "a.choose()"
      ],
      "id": "9aeb3209-dbc5-4967-b818-d9ed7b36d44e"
    },
    {
      "cell_type": "code",
      "execution_count": 63,
      "metadata": {},
      "outputs": [],
      "source": [
        "a.actions  # 가위, 바위, 보 중 고른 결과가 나옴"
      ],
      "id": "983130f1-33b7-4680-a3f2-9af8e2d80a72"
    },
    {
      "cell_type": "code",
      "execution_count": 64,
      "metadata": {},
      "outputs": [
        {
          "output_type": "stream",
          "name": "stdout",
          "text": [
            "가위"
          ]
        }
      ],
      "source": [
        "a.show()"
      ],
      "id": "1412f66e-d29c-4958-9eed-06fe66fa1ca0"
    },
    {
      "cell_type": "markdown",
      "metadata": {},
      "source": [
        "***보충학습*** : 위와 같은 코드"
      ],
      "id": "7ec6966e-bd70-4098-b5b2-1cdbe76bae4d"
    },
    {
      "cell_type": "code",
      "execution_count": 78,
      "metadata": {},
      "outputs": [],
      "source": [
        "class _RPS: ## 시점1\n",
        "    pass # <- 이렇게하면 아무기능이 없는 비어있는 클래스가 정의된다"
      ],
      "id": "16466eef-8e6d-41f4-99dc-d70baceb0a7c"
    },
    {
      "cell_type": "code",
      "execution_count": 79,
      "metadata": {},
      "outputs": [],
      "source": [
        "_a = _RPS() ## 시점2\n",
        "def _init(_a,candidate=['가위','바위','보']):\n",
        "    _a.candidate = candidate \n",
        "_init(_a)"
      ],
      "id": "3b7d66fa-2792-4ae6-994a-a32d0e5d7f5f"
    },
    {
      "cell_type": "code",
      "execution_count": 80,
      "metadata": {},
      "outputs": [],
      "source": [
        "_a.actions ## 시점3"
      ],
      "id": "0b8343c2-089f-42ee-b248-f463ce712b88"
    },
    {
      "cell_type": "code",
      "execution_count": 81,
      "metadata": {},
      "outputs": [],
      "source": [
        "def _choose(_a): ## 시점4\n",
        "    _a.actions = np.random.choice(_a.candidate)\n",
        "_choose(_a)"
      ],
      "id": "d9255a88-3127-4779-8127-d5d960203008"
    },
    {
      "cell_type": "code",
      "execution_count": 82,
      "metadata": {},
      "outputs": [],
      "source": [
        "_a.actions ## 시점5"
      ],
      "id": "ec5862d4-6cdd-4119-8f7e-5cafa9475951"
    },
    {
      "cell_type": "code",
      "execution_count": 83,
      "metadata": {},
      "outputs": [
        {
          "output_type": "stream",
          "name": "stdout",
          "text": [
            "보"
          ]
        }
      ],
      "source": [
        "def _show(_a): ## 시점6\n",
        "    print(_a.actions)\n",
        "_show(_a)"
      ],
      "id": "4635006e-a730-4d44-8baf-2233b4e0650e"
    },
    {
      "cell_type": "markdown",
      "metadata": {},
      "source": [
        "`-` 또 다른 인스턴스 b를 만들자. b는 가위만 낼 수 있다."
      ],
      "id": "17cf30de-2d9d-4bb6-bd65-7b889e71b567"
    },
    {
      "cell_type": "code",
      "execution_count": 85,
      "metadata": {},
      "outputs": [],
      "source": [
        "RPC?"
      ],
      "id": "7f80818b-b981-4c63-943c-774d49473f95"
    },
    {
      "cell_type": "code",
      "execution_count": 86,
      "metadata": {},
      "outputs": [],
      "source": [
        "b=RPC(['가위'])"
      ],
      "id": "84529d88-81bc-4974-8183-17816433f0ec"
    },
    {
      "cell_type": "code",
      "execution_count": 87,
      "metadata": {},
      "outputs": [],
      "source": [
        "b.candidate"
      ],
      "id": "bb425279-f38f-4806-a9b0-21768e1f7b78"
    },
    {
      "cell_type": "code",
      "execution_count": 88,
      "metadata": {},
      "outputs": [
        {
          "output_type": "stream",
          "name": "stdout",
          "text": [
            "가위"
          ]
        }
      ],
      "source": [
        "b.choose()\n",
        "b.show()"
      ],
      "id": "a45c69aa-f785-42ad-8639-1e8212d46cf4"
    },
    {
      "cell_type": "markdown",
      "metadata": {},
      "source": [
        "`-` a,b의 선택들을 모아서 기록을 하고 싶다."
      ],
      "id": "5efe49f1-7bce-43c5-adfd-8a796fac9d26"
    },
    {
      "cell_type": "code",
      "execution_count": 92,
      "metadata": {},
      "outputs": [],
      "source": [
        "class RPS:\n",
        "    def __init__(self,candidate=['가위','바위','보']):\n",
        "        self.candidate = candidate\n",
        "        self.actions = list() \n",
        "    def choose(self):\n",
        "        self.actions.append(np.random.choice(self.candidate))\n",
        "    def show(self):\n",
        "        print(self.actions[-1])   # 지금 현재 내가 선택한 마지막만 보여줘!"
      ],
      "id": "f5d3e1f9-a3a7-4ffd-9e11-049174602e83"
    },
    {
      "cell_type": "code",
      "execution_count": 90,
      "metadata": {},
      "outputs": [],
      "source": [
        "a=RPS()\n",
        "b=RPS(['가위'])"
      ],
      "id": "2d09950c-2f7a-418f-a795-af9e6923108f"
    },
    {
      "cell_type": "code",
      "execution_count": 91,
      "metadata": {},
      "outputs": [
        {
          "output_type": "stream",
          "name": "stdout",
          "text": [
            "바위\n",
            "가위\n",
            "바위\n",
            "바위\n",
            "보"
          ]
        }
      ],
      "source": [
        "for i in range(5):\n",
        "    a.choose()\n",
        "    a.show()"
      ],
      "id": "f26758de-efdf-4c09-8b0e-4b048de49316"
    },
    {
      "cell_type": "code",
      "execution_count": 94,
      "metadata": {},
      "outputs": [],
      "source": [
        "a.actions   # 지금까지 뽑힌 히스토리들"
      ],
      "id": "f1fd546b-d1d0-4290-b253-c49ec2aa6d70"
    },
    {
      "cell_type": "code",
      "execution_count": 95,
      "metadata": {},
      "outputs": [
        {
          "output_type": "stream",
          "name": "stdout",
          "text": [
            "가위\n",
            "가위\n",
            "가위\n",
            "가위\n",
            "가위"
          ]
        }
      ],
      "source": [
        "for i in range(5):\n",
        "    b.choose()\n",
        "    b.show()"
      ],
      "id": "8b8a2532-b092-4c76-8e9d-704d3fdd9d2f"
    },
    {
      "cell_type": "code",
      "execution_count": 96,
      "metadata": {},
      "outputs": [],
      "source": [
        "b.actions"
      ],
      "id": "a3084278-dd60-407d-a2d5-889859398db5"
    },
    {
      "cell_type": "code",
      "execution_count": 97,
      "metadata": {},
      "outputs": [],
      "source": [
        "a.candidate, a.actions"
      ],
      "id": "b55f5d1f-458a-46b7-89b9-a69d0b81e729"
    },
    {
      "cell_type": "code",
      "execution_count": 98,
      "metadata": {},
      "outputs": [],
      "source": [
        "b.candidate, b.actions"
      ],
      "id": "6072d1e0-dead-4950-a680-176423688263"
    },
    {
      "cell_type": "markdown",
      "metadata": {},
      "source": [
        "`-` info라는 함수를 만들어서 a의 오브젝트가 가지고 있는 정보를 모두\n",
        "보도록 하자.\n",
        "\n",
        "(예비학습) 문자열 `\\n`이 포함된다면?"
      ],
      "id": "5373dbdb-b113-4a5b-b69e-6588f992e4d6"
    },
    {
      "cell_type": "code",
      "execution_count": 99,
      "metadata": {},
      "outputs": [],
      "source": [
        "'asdf\\n1234'"
      ],
      "id": "c312c240-8d5d-4320-b4ef-3eb73d3db007"
    },
    {
      "cell_type": "code",
      "execution_count": 100,
      "metadata": {},
      "outputs": [
        {
          "output_type": "stream",
          "name": "stdout",
          "text": [
            "asdf\n",
            "1234"
          ]
        }
      ],
      "source": [
        "print('asdf\\n1234')"
      ],
      "id": "0f321919-6ff1-43d4-a78a-23884dd666f8"
    },
    {
      "cell_type": "markdown",
      "metadata": {},
      "source": [
        "예비학습 끝"
      ],
      "id": "cf5a92aa-8b53-4cfb-a33b-defcb25b789b"
    },
    {
      "cell_type": "code",
      "execution_count": 101,
      "metadata": {},
      "outputs": [],
      "source": [
        "class RPS: \n",
        "    def __init__(self,candidate=['가위','바위','보']):\n",
        "        self.candidate = candidate\n",
        "        self.actions = list() \n",
        "    def choose(self):\n",
        "        self.actions.append(np.random.choice(self.candidate))\n",
        "    def show(self):\n",
        "        print(self.actions[-1])\n",
        "    def info(self):\n",
        "        print(\"낼 수 있는 패: {}\\n기록: {}\".format(self.candidate,self.actions))"
      ],
      "id": "ba33e71a-2a50-4ee2-9918-8a9b89e993d3"
    },
    {
      "cell_type": "code",
      "execution_count": 102,
      "metadata": {},
      "outputs": [],
      "source": [
        "a=RPS()\n",
        "b=RPS(['가위'])"
      ],
      "id": "a6f45e3b-2408-467b-a396-752277656a9d"
    },
    {
      "cell_type": "code",
      "execution_count": 103,
      "metadata": {},
      "outputs": [
        {
          "output_type": "stream",
          "name": "stdout",
          "text": [
            "가위\n",
            "바위\n",
            "가위\n",
            "보\n",
            "보"
          ]
        }
      ],
      "source": [
        "for i in range(5):\n",
        "    a.choose()\n",
        "    a.show()    "
      ],
      "id": "d02d3674-3756-41dd-a0ea-beefc355c9a0"
    },
    {
      "cell_type": "code",
      "execution_count": 104,
      "metadata": {},
      "outputs": [
        {
          "output_type": "stream",
          "name": "stdout",
          "text": [
            "가위\n",
            "가위\n",
            "가위\n",
            "가위\n",
            "가위"
          ]
        }
      ],
      "source": [
        "for i in range(5):\n",
        "    b.choose()\n",
        "    b.show()"
      ],
      "id": "39540620-8aa4-49db-ba27-831196821144"
    },
    {
      "cell_type": "code",
      "execution_count": 105,
      "metadata": {},
      "outputs": [
        {
          "output_type": "stream",
          "name": "stdout",
          "text": [
            "낼 수 있는 패: ['가위', '바위', '보']\n",
            "기록: ['가위', '바위', '가위', '보', '보']"
          ]
        }
      ],
      "source": [
        "a.info()"
      ],
      "id": "6eae057d-29f0-4356-a47d-5f78ccc122fe"
    },
    {
      "cell_type": "code",
      "execution_count": 106,
      "metadata": {},
      "outputs": [
        {
          "output_type": "stream",
          "name": "stdout",
          "text": [
            "낼 수 있는 패: ['가위']\n",
            "기록: ['가위', '가위', '가위', '가위', '가위']"
          ]
        }
      ],
      "source": [
        "b.info()"
      ],
      "id": "140a81e4-7314-4714-9061-832354325027"
    },
    {
      "cell_type": "markdown",
      "metadata": {},
      "source": [
        "`-` 만들고 보니까 info와 print의 기능이 거의 비슷함 $\\to$ print(a)를\n",
        "하면 a.info()와 동일한 효과를 내도록 만들 수 있을까?\n",
        "\n",
        "`-` 안될 거 같다. 왜?\n",
        "\n",
        "-   안될 것 같은 이유 1: print 는 파이썬 내장기능, 내장기능을 우리가\n",
        "    맘대로 커스터마이징해서 쓰기는 어려울 것 같다.\n",
        "\n",
        "-   안될 것 같은 이유 2: 이유1이 해결된다고 해도 문제다. 다 꼬아져버려…\n",
        "    그럼 지금까지 사용했던 print()의 결과는 어떻게 되는가?\n",
        "\n",
        "(예)"
      ],
      "id": "65be055f-36ce-41a0-b30b-d230e8946e59"
    },
    {
      "cell_type": "code",
      "execution_count": 107,
      "metadata": {},
      "outputs": [],
      "source": [
        "type(a)"
      ],
      "id": "b1607b79-eb2d-470e-9db6-719d6b075f88"
    },
    {
      "cell_type": "code",
      "execution_count": 108,
      "metadata": {},
      "outputs": [],
      "source": [
        "a?"
      ],
      "id": "0c837726-7201-4337-bebd-b422a727a2f8"
    },
    {
      "cell_type": "markdown",
      "metadata": {},
      "source": [
        "`-` 그런데 a의 자료형(RPS자료형)에 해당하는 오브젝트들에 한정하여\n",
        "print를 수정하는 방법이 가능하다면? (그럼 다른 오브젝트들은 수정된\n",
        "print에 영향을 받지 않음)\n",
        "\n",
        "### `__str___`\n",
        "\n",
        "`-` 관찰1: 현재 print(a)의 결과는 아래와 같다."
      ],
      "id": "1597f0aa-718f-42ec-bfe0-7d48240e7ae1"
    },
    {
      "cell_type": "code",
      "execution_count": 109,
      "metadata": {},
      "outputs": [
        {
          "output_type": "stream",
          "name": "stdout",
          "text": [
            "<__main__.RPS object at 0x7f6565f29e10>"
          ]
        }
      ],
      "source": [
        "print(a)"
      ],
      "id": "3c449053-0542-44d5-8a55-46fcc3931e24"
    },
    {
      "cell_type": "code",
      "execution_count": 110,
      "metadata": {},
      "outputs": [
        {
          "output_type": "stream",
          "name": "stdout",
          "text": [
            "[1, 2, 3]"
          ]
        }
      ],
      "source": [
        "print([1,2,3])"
      ],
      "id": "22860857-1d27-4789-b6e0-5d1ded48c628"
    },
    {
      "cell_type": "markdown",
      "metadata": {},
      "source": [
        "-   a는 RPS클래스에서 만든 오브젝트이며 a가 저장된 메모리 주소는\n",
        "    0x7f6565f29e10라는 의미\n",
        "\n",
        "`-` 관찰2: a에는 `__str__` 이 있다."
      ],
      "id": "2616c8c2-5b51-47b4-84c6-712d72d2fdac"
    },
    {
      "cell_type": "code",
      "execution_count": 112,
      "metadata": {},
      "outputs": [],
      "source": [
        "dir(a)   # a + _ + tab을 누르면 숨겨진 메소드들이 나온다."
      ],
      "id": "fb5d0426-3548-472f-94ff-f0d2adfef9c6"
    },
    {
      "cell_type": "code",
      "execution_count": 116,
      "metadata": {},
      "outputs": [],
      "source": [
        "set(dir(a)) & {'__str__'}"
      ],
      "id": "5cbacdae-98f7-4d7a-82c2-c202d33a61ba"
    },
    {
      "cell_type": "code",
      "execution_count": 113,
      "metadata": {},
      "outputs": [],
      "source": [
        "a.__str__"
      ],
      "id": "6258311f-dca5-4c11-827a-1a76269ea8cf"
    },
    {
      "cell_type": "markdown",
      "metadata": {},
      "source": [
        "이것을 함수처럼 사용하니까 아래와 같이 된다."
      ],
      "id": "b775411d-9348-4ce0-bf2c-92e46a489d3a"
    },
    {
      "cell_type": "code",
      "execution_count": 114,
      "metadata": {},
      "outputs": [],
      "source": [
        "a.__str__()"
      ],
      "id": "6e4b4afc-fe93-4eb2-89a2-486c86ed5a26"
    },
    {
      "cell_type": "markdown",
      "metadata": {},
      "source": [
        "?? print(a)를 해서 나오는 문자열이 리턴된다.."
      ],
      "id": "67bbd67f-8536-4620-be4f-2c13697313c9"
    },
    {
      "cell_type": "code",
      "execution_count": 118,
      "metadata": {},
      "outputs": [
        {
          "output_type": "stream",
          "name": "stdout",
          "text": [
            "<__main__.RPS object at 0x7f6565f29e10>"
          ]
        }
      ],
      "source": [
        "print(a.__str__()) # 이거 print(a)를 실행한 결과와 같다?"
      ],
      "id": "ac9a8684-aa7a-497e-a165-2e3cd7061864"
    },
    {
      "cell_type": "markdown",
      "metadata": {},
      "source": [
        "`-` 생각: 만약 내가 `a.__str__()` 라는 함수를 재정의하여 리턴값을\n",
        "`boram hahaha`로 바꾸게 되면 print(a)해서 나오는 결과는 어떻게 될까?\n",
        "(해커???)\n",
        "\n",
        "(예비학습)"
      ],
      "id": "2d395344-67b3-4142-b36d-bb2ced82e4ea"
    },
    {
      "cell_type": "code",
      "execution_count": 119,
      "metadata": {},
      "outputs": [],
      "source": [
        "def f():\n",
        "    print('adsf')"
      ],
      "id": "6bca5540-0cde-492e-9066-e29ba1f45ade"
    },
    {
      "cell_type": "code",
      "execution_count": 120,
      "metadata": {},
      "outputs": [
        {
          "output_type": "stream",
          "name": "stdout",
          "text": [
            "adsf"
          ]
        }
      ],
      "source": [
        "f()"
      ],
      "id": "5814fa31-1f65-41e2-b288-80942bab6c7e"
    },
    {
      "cell_type": "code",
      "execution_count": 121,
      "metadata": {},
      "outputs": [],
      "source": [
        "def f():\n",
        "    print('boram hahaha')"
      ],
      "id": "f908ff8e-882a-4bff-8e88-07cd17997a36"
    },
    {
      "cell_type": "code",
      "execution_count": 122,
      "metadata": {},
      "outputs": [
        {
          "output_type": "stream",
          "name": "stdout",
          "text": [
            "boram hahaha"
          ]
        }
      ],
      "source": [
        "f()"
      ],
      "id": "5a8eaf7b-9472-4a36-9851-f3619ad1345d"
    },
    {
      "cell_type": "markdown",
      "metadata": {},
      "source": [
        "이런식으로 함수가 이미 정의되어 있더라도, 내가 나중에 덮어씌우면 그\n",
        "함수의 기능을 다시 정의한다.\n",
        "\n",
        "(해킹시작)"
      ],
      "id": "f702d012-661c-4f04-884b-e9fa1c3045d0"
    },
    {
      "cell_type": "code",
      "execution_count": 124,
      "metadata": {},
      "outputs": [],
      "source": [
        "class RPS: \n",
        "    def __init__(self,candidate=['가위','바위','보']):\n",
        "        self.candidate = candidate\n",
        "        self.actions = list() \n",
        "    def choose(self):\n",
        "        self.actions.append(np.random.choice(self.candidate))\n",
        "    def show(self):\n",
        "        print(self.actions[-1])\n",
        "    def __str__(self):\n",
        "        return 'boram hahaha'\n",
        "    def info(self):\n",
        "        print(\"낼 수 있는 패: {}\\n기록: {}\".format(self.candidate,self.actions))"
      ],
      "id": "8c561163-518b-46c3-b96b-75b348032a0a"
    },
    {
      "cell_type": "code",
      "execution_count": 125,
      "metadata": {},
      "outputs": [],
      "source": [
        "a=RPS()"
      ],
      "id": "ce17d20d-c6ac-4a5a-a1b7-81d91d5ef6a7"
    },
    {
      "cell_type": "code",
      "execution_count": 126,
      "metadata": {},
      "outputs": [
        {
          "output_type": "stream",
          "name": "stdout",
          "text": [
            "boram hahaha"
          ]
        }
      ],
      "source": [
        "print(a)"
      ],
      "id": "94851e6a-e865-4dfc-a274-139a9a38aefb"
    },
    {
      "cell_type": "code",
      "execution_count": 128,
      "metadata": {},
      "outputs": [
        {
          "output_type": "stream",
          "name": "stdout",
          "text": [
            "boram hahaha"
          ]
        }
      ],
      "source": [
        "print(a.__str__())"
      ],
      "id": "d3b2afaa-11e2-4912-b3cd-e30566f58689"
    },
    {
      "cell_type": "code",
      "execution_count": 132,
      "metadata": {},
      "outputs": [],
      "source": [
        "# 다른건 다 변함이 없음"
      ],
      "id": "7fad5410-104e-4217-a8b1-751bc4ad4822"
    },
    {
      "cell_type": "code",
      "execution_count": 129,
      "metadata": {},
      "outputs": [
        {
          "output_type": "stream",
          "name": "stdout",
          "text": [
            "가위"
          ]
        }
      ],
      "source": [
        "a.choose()\n",
        "a.show()"
      ],
      "id": "a66114d9-8125-4c6f-9258-a58609a0eff8"
    },
    {
      "cell_type": "code",
      "execution_count": 130,
      "metadata": {},
      "outputs": [],
      "source": [
        "a.actions"
      ],
      "id": "80416466-e2c1-4fab-a20b-f2d7f0070017"
    },
    {
      "cell_type": "code",
      "execution_count": 131,
      "metadata": {},
      "outputs": [
        {
          "output_type": "stream",
          "name": "stdout",
          "text": [
            "낼 수 있는 패: ['가위', '바위', '보']\n",
            "기록: ['가위']"
          ]
        }
      ],
      "source": [
        "a.info()"
      ],
      "id": "a4675fd2-3c33-48d3-ad65-3d82b3ab4b08"
    },
    {
      "cell_type": "markdown",
      "metadata": {},
      "source": [
        "`-` `__str__`의 리턴값을 info에서 타이핑했던 문자열로 재정의 한다면?"
      ],
      "id": "958c077a-1398-47d3-967d-c34de75dbfba"
    },
    {
      "cell_type": "code",
      "execution_count": 133,
      "metadata": {},
      "outputs": [],
      "source": [
        "class RPS: \n",
        "    def __init__(self,candidate=['가위','바위','보']):\n",
        "        self.candidate = candidate\n",
        "        self.actions = list() \n",
        "    def choose(self):\n",
        "        self.actions.append(np.random.choice(self.candidate))\n",
        "    def show(self):\n",
        "        print(self.actions[-1])\n",
        "    def __str__(self):\n",
        "        return \"낼 수 있는 패: {}\\n기록: {}\".format(self.candidate,self.actions)"
      ],
      "id": "f1b69238-0e5f-4ab3-81f2-0007e7ad3228"
    },
    {
      "cell_type": "code",
      "execution_count": 134,
      "metadata": {},
      "outputs": [],
      "source": [
        "a=RPS()"
      ],
      "id": "f948a9e4-b917-451d-ae15-2d0da63f82e7"
    },
    {
      "cell_type": "code",
      "execution_count": 135,
      "metadata": {},
      "outputs": [
        {
          "output_type": "stream",
          "name": "stdout",
          "text": [
            "낼 수 있는 패: ['가위', '바위', '보']\n",
            "기록: []"
          ]
        }
      ],
      "source": [
        "print(a)"
      ],
      "id": "39ad2304-2b9a-4bdf-a53c-6b4d2c206315"
    },
    {
      "cell_type": "code",
      "execution_count": 138,
      "metadata": {},
      "outputs": [
        {
          "output_type": "stream",
          "name": "stdout",
          "text": [
            "바위"
          ]
        }
      ],
      "source": [
        "a.choose()\n",
        "a.show()"
      ],
      "id": "774723e4-bec1-4e25-83be-5530dbce081a"
    },
    {
      "cell_type": "code",
      "execution_count": 139,
      "metadata": {},
      "outputs": [
        {
          "output_type": "stream",
          "name": "stdout",
          "text": [
            "낼 수 있는 패: ['가위', '바위', '보']\n",
            "기록: ['보', '바위']"
          ]
        }
      ],
      "source": [
        "print(a)"
      ],
      "id": "ff1c9953-9466-4dfa-88e9-8167d36fa7f0"
    },
    {
      "cell_type": "markdown",
      "metadata": {},
      "source": [
        "### 파이썬의 비밀2\n",
        "\n",
        "`-` `print(a)`와 `print(a.__str__())` 는 같은 문법이다.\n",
        "\n",
        "`-` 참고로 `a.__Str__()` 와 `str(a)` 도 같은 문법"
      ],
      "id": "faf5b8e1-4055-464e-8381-5bfd9a78fdf6"
    },
    {
      "cell_type": "code",
      "execution_count": 141,
      "metadata": {},
      "outputs": [],
      "source": [
        "a.__str__()"
      ],
      "id": "0c746256-4e70-4c81-92f9-3a36f4005d25"
    },
    {
      "cell_type": "code",
      "execution_count": 142,
      "metadata": {},
      "outputs": [],
      "source": [
        "str(a)"
      ],
      "id": "bcbbafe5-4bcf-4d9a-999a-feedcee122c8"
    },
    {
      "cell_type": "markdown",
      "metadata": {},
      "source": [
        "`-` 지금까지 썼던 기능들 확인!\n",
        "\n",
        "(예제1)"
      ],
      "id": "3f9bd5de-8560-472d-aada-f94072eb9be0"
    },
    {
      "cell_type": "code",
      "execution_count": 143,
      "metadata": {},
      "outputs": [
        {
          "output_type": "stream",
          "name": "stdout",
          "text": [
            "[1, 2, 3]"
          ]
        }
      ],
      "source": [
        "a=[1,2,3]\n",
        "print(a)"
      ],
      "id": "9384618e-97f3-40fc-acd9-4cf72153e4ae"
    },
    {
      "cell_type": "code",
      "execution_count": 144,
      "metadata": {},
      "outputs": [],
      "source": [
        "a.__str__()"
      ],
      "id": "ea08c5d0-8e46-47f2-89d7-60b730ede280"
    },
    {
      "cell_type": "code",
      "execution_count": 145,
      "metadata": {},
      "outputs": [],
      "source": [
        "str(a)"
      ],
      "id": "38a578c4-f1ae-4efd-9fba-64c4f2f3bc27"
    },
    {
      "cell_type": "markdown",
      "metadata": {},
      "source": [
        "(예제2)"
      ],
      "id": "5aa62135-8dd0-4c5c-91dd-9e1567456a6e"
    },
    {
      "cell_type": "code",
      "execution_count": 147,
      "metadata": {},
      "outputs": [
        {
          "output_type": "stream",
          "name": "stdout",
          "text": [
            "{1, 2, 3}"
          ]
        }
      ],
      "source": [
        "a={1,2,3}\n",
        "print(a)"
      ],
      "id": "3fae859a-3f86-46f5-af6a-6933b1457780"
    },
    {
      "cell_type": "code",
      "execution_count": 148,
      "metadata": {},
      "outputs": [],
      "source": [
        "a.__str__()"
      ],
      "id": "1b929c19-5813-4405-a206-62d76910b868"
    },
    {
      "cell_type": "code",
      "execution_count": 149,
      "metadata": {},
      "outputs": [],
      "source": [
        "str(a)"
      ],
      "id": "4b74bb31-f61d-4737-8ccd-0c914350f514"
    },
    {
      "cell_type": "markdown",
      "metadata": {},
      "source": [
        "(예제3)"
      ],
      "id": "d57c7584-55d7-4909-abac-12ee5d98a1aa"
    },
    {
      "cell_type": "code",
      "execution_count": 150,
      "metadata": {},
      "outputs": [],
      "source": [
        "a=np.array(1)\n",
        "a.shape"
      ],
      "id": "5201886c-cf62-459c-be82-62906a6a9dd6"
    },
    {
      "cell_type": "code",
      "execution_count": 152,
      "metadata": {},
      "outputs": [],
      "source": [
        "type(a.shape)"
      ],
      "id": "618822c7-239c-4406-a607-c78830dd2059"
    },
    {
      "cell_type": "code",
      "execution_count": 153,
      "metadata": {},
      "outputs": [
        {
          "output_type": "stream",
          "name": "stdout",
          "text": [
            "()"
          ]
        }
      ],
      "source": [
        "print(a.shape)"
      ],
      "id": "51d32726-e92c-4f12-a7b8-d5d52e72f7b2"
    },
    {
      "cell_type": "code",
      "execution_count": 154,
      "metadata": {},
      "outputs": [],
      "source": [
        "a.shape.__str__()"
      ],
      "id": "92d9ffa5-8c00-4111-bfd3-3fea9f01ca6a"
    },
    {
      "cell_type": "code",
      "execution_count": 155,
      "metadata": {},
      "outputs": [],
      "source": [
        "str(a.shape)"
      ],
      "id": "014171bc-1039-47c1-a29a-017367e5dfed"
    },
    {
      "cell_type": "markdown",
      "metadata": {},
      "source": [
        "(예제4)"
      ],
      "id": "2885b921-5419-418d-9f1d-c7f535b3178f"
    },
    {
      "cell_type": "code",
      "execution_count": 157,
      "metadata": {},
      "outputs": [
        {
          "output_type": "stream",
          "name": "stdout",
          "text": [
            "range(0, 10)"
          ]
        }
      ],
      "source": [
        "a = range(10)\n",
        "print(a)"
      ],
      "id": "03005659-bac3-4147-a4d9-b36aebbf6ad7"
    },
    {
      "cell_type": "code",
      "execution_count": 158,
      "metadata": {},
      "outputs": [],
      "source": [
        "a.__str__()"
      ],
      "id": "9b8c3f03-0852-485f-92b5-1f76c7782970"
    },
    {
      "cell_type": "markdown",
      "metadata": {},
      "source": [
        "(예제5)"
      ],
      "id": "51a4ecd7-1664-4774-b750-775d0d5e445e"
    },
    {
      "cell_type": "code",
      "execution_count": 160,
      "metadata": {},
      "outputs": [
        {
          "output_type": "stream",
          "name": "stdout",
          "text": [
            "[[ 0  1  2  3  4  5  6  7  8  9]\n",
            " [10 11 12 13 14 15 16 17 18 19]\n",
            " [20 21 22 23 24 25 26 27 28 29]\n",
            " [30 31 32 33 34 35 36 37 38 39]\n",
            " [40 41 42 43 44 45 46 47 48 49]\n",
            " [50 51 52 53 54 55 56 57 58 59]\n",
            " [60 61 62 63 64 65 66 67 68 69]\n",
            " [70 71 72 73 74 75 76 77 78 79]\n",
            " [80 81 82 83 84 85 86 87 88 89]\n",
            " [90 91 92 93 94 95 96 97 98 99]]"
          ]
        }
      ],
      "source": [
        "a = np.arange(100).reshape(10,10)\n",
        "print(a)"
      ],
      "id": "5cedcb55-d526-41e2-b9b6-9e75f2f2bb1d"
    },
    {
      "cell_type": "code",
      "execution_count": 161,
      "metadata": {},
      "outputs": [],
      "source": [
        "a.__str__()"
      ],
      "id": "4b0c2bbc-c29c-40ca-8253-6bbb48a97680"
    },
    {
      "cell_type": "code",
      "execution_count": 162,
      "metadata": {},
      "outputs": [],
      "source": [
        "str(a)"
      ],
      "id": "91c878b0-96be-476e-9076-229fea4424f0"
    },
    {
      "cell_type": "markdown",
      "metadata": {},
      "source": [
        "### `__repr__`\n",
        "\n",
        "`-` 생각해보니까 print를 해서 원하는 정보를 확인하는 건 아니었음"
      ],
      "id": "d96b066a-26b8-4b05-9c9c-dfa2488d6a7b"
    },
    {
      "cell_type": "code",
      "execution_count": 164,
      "metadata": {},
      "outputs": [],
      "source": [
        "a=[1,2,3]"
      ],
      "id": "a2a948fb-5a68-408d-a51c-1e4aae71cc14"
    },
    {
      "cell_type": "code",
      "execution_count": 165,
      "metadata": {},
      "outputs": [],
      "source": [
        "a"
      ],
      "id": "825f67de-f866-4343-82ce-aabcd3cf9b4f"
    },
    {
      "cell_type": "code",
      "execution_count": 166,
      "metadata": {},
      "outputs": [
        {
          "output_type": "stream",
          "name": "stdout",
          "text": [
            "[1, 2, 3]"
          ]
        }
      ],
      "source": [
        "print(a)   # print(a.__str__()) + enter => a + enter 와 같은 효과?"
      ],
      "id": "4de4327f-41ce-406a-9287-670da7698bf2"
    },
    {
      "cell_type": "markdown",
      "metadata": {},
      "source": [
        "`-` `a + 엔터`를 하면 `print(a) + 엔터`를 하는 것과 같은 효과인가?\n",
        "\n",
        "(반례)"
      ],
      "id": "f7fd4a9d-f3d4-41c2-a2d0-b170ec5346dd"
    },
    {
      "cell_type": "code",
      "execution_count": 167,
      "metadata": {},
      "outputs": [],
      "source": [
        "a=np.array([1,2,3,4]).reshape(2,2)"
      ],
      "id": "99afe228-b22c-4758-a484-5e69b8dd5863"
    },
    {
      "cell_type": "code",
      "execution_count": 168,
      "metadata": {},
      "outputs": [],
      "source": [
        "a"
      ],
      "id": "8f11b64b-a8d4-4bd3-8233-4c5c3f1fd544"
    },
    {
      "cell_type": "code",
      "execution_count": 169,
      "metadata": {},
      "outputs": [
        {
          "output_type": "stream",
          "name": "stdout",
          "text": [
            "[[1 2]\n",
            " [3 4]]"
          ]
        }
      ],
      "source": [
        "print(a)"
      ],
      "id": "337d6a87-e998-4d80-b2ad-ff11d3ef3834"
    },
    {
      "cell_type": "markdown",
      "metadata": {},
      "source": [
        "`-` `a + 엔터`를 하면 `print(a) + 엔터`가 다른 경우도 있다. $\\to$ 서로\n",
        "다른 숨겨진 기능이 잇다! $\\to$ 결론 : 그 기능은 `__repr__`에 저장되어\n",
        "있다."
      ],
      "id": "ed8e4023-88e3-4cef-9933-0f387878f3e2"
    },
    {
      "cell_type": "code",
      "execution_count": 177,
      "metadata": {},
      "outputs": [],
      "source": [
        "class RPS: \n",
        "    def __init__(self,candidate=['가위','바위','보']):\n",
        "        self.candidate = candidate\n",
        "        self.actions = list() \n",
        "    def choose(self):\n",
        "        self.actions.append(np.random.choice(self.candidate))\n",
        "    def show(self):\n",
        "        print(self.actions[-1])\n",
        "    def __repr__(self):\n",
        "        return \"낼 수 있는 패: {}\\n기록: {}\".format(self.candidate,self.actions)"
      ],
      "id": "e567c619-e45c-46b3-89b5-27e49e8d8df6"
    },
    {
      "cell_type": "code",
      "execution_count": 178,
      "metadata": {},
      "outputs": [],
      "source": [
        "a=RPS()"
      ],
      "id": "e4ea8c17-669f-4e36-b878-bcbc2cd5866e"
    },
    {
      "cell_type": "code",
      "execution_count": 180,
      "metadata": {},
      "outputs": [],
      "source": [
        "a  # print(a.__repr__())"
      ],
      "id": "f5a0fd36-15a5-4c23-8a3a-fcf8934bc4c1"
    },
    {
      "cell_type": "markdown",
      "metadata": {},
      "source": [
        "`-` 그럼 지금까지 한것은?"
      ],
      "id": "ece0af58-26bc-4e11-8879-29abf2cf4bde"
    },
    {
      "cell_type": "code",
      "execution_count": 181,
      "metadata": {},
      "outputs": [],
      "source": [
        "a = np.array([1,2,3])"
      ],
      "id": "e960e92d-3461-47d0-b863-ceba8aef88c6"
    },
    {
      "cell_type": "code",
      "execution_count": 182,
      "metadata": {},
      "outputs": [],
      "source": [
        "a"
      ],
      "id": "60667cf4-89bf-48f3-bcca-bd43b4b87b32"
    },
    {
      "cell_type": "code",
      "execution_count": 183,
      "metadata": {},
      "outputs": [
        {
          "output_type": "stream",
          "name": "stdout",
          "text": [
            "[1 2 3]"
          ]
        }
      ],
      "source": [
        "print(a)"
      ],
      "id": "ce97b526-982f-4657-b558-5ddd86438e6b"
    },
    {
      "cell_type": "code",
      "execution_count": 184,
      "metadata": {},
      "outputs": [],
      "source": [
        "a.__repr__()"
      ],
      "id": "13519845-efc1-474c-99e6-f81cbf3a58d4"
    },
    {
      "cell_type": "code",
      "execution_count": 185,
      "metadata": {},
      "outputs": [],
      "source": [
        "a.__str__()"
      ],
      "id": "714fe911-4d23-4d25-91ea-226fb9f7e04b"
    },
    {
      "cell_type": "markdown",
      "metadata": {},
      "source": [
        "### 파이썬의 비밀3\n",
        "\n",
        "`-` 대화형 콘솔에서 `오브젝트 이름 + 엔터` 를 쳐서 나오는 출력은\n",
        "`__repr__` 의 결과와 연관 있다."
      ],
      "id": "fc3e93dd-726c-4b84-91ca-6ea431322051"
    },
    {
      "cell_type": "code",
      "execution_count": 186,
      "metadata": {},
      "outputs": [],
      "source": [
        "a = np.array(range(10000)).reshape(100,100)"
      ],
      "id": "a277c1b7-299f-4ba6-8123-d20291b1c5d3"
    },
    {
      "cell_type": "code",
      "execution_count": 187,
      "metadata": {},
      "outputs": [],
      "source": [
        "a"
      ],
      "id": "6f376ac3-c2c4-40a8-9bb7-216769b754fe"
    },
    {
      "cell_type": "code",
      "execution_count": 188,
      "metadata": {},
      "outputs": [],
      "source": [
        "a.__repr__()"
      ],
      "id": "756fd3cd-07b0-4fa1-bf51-4796dfe5f0fc"
    },
    {
      "cell_type": "markdown",
      "metadata": {},
      "source": [
        "`-` 참고로 `a.__repr__()` 은 representation의 약자인데, `repr(a)`와\n",
        "같다.\n",
        "\n",
        "### 주피터 노브북의 비밀 `(__repr__html__)`\n",
        "\n",
        "`-` 요즘에는 IDE의 발전에 따라서 `오브젝트이름+엔터` 칠때 나오는 출력의\n",
        "형태도 다양해지고 있다."
      ],
      "id": "7dbf05e0-cfd3-4bd0-88e9-cfcca0f49652"
    },
    {
      "cell_type": "code",
      "execution_count": 190,
      "metadata": {},
      "outputs": [],
      "source": [
        "import pandas as pd"
      ],
      "id": "05e97c6d-e4a7-4451-9769-1c4abbfeddbf"
    },
    {
      "cell_type": "code",
      "execution_count": 191,
      "metadata": {},
      "outputs": [],
      "source": [
        "df = pd.DataFrame({'a':[1,2,3],'b':[2,3,4]})"
      ],
      "id": "1b412868-11bf-4959-8e4c-240bbed6d20b"
    },
    {
      "cell_type": "code",
      "execution_count": 192,
      "metadata": {},
      "outputs": [],
      "source": [
        "df"
      ],
      "id": "75c5afb4-54db-48ed-8462-cada2729d92a"
    },
    {
      "cell_type": "markdown",
      "metadata": {},
      "source": [
        "-   예쁘게 나온다.\n",
        "\n",
        "`-` 그런데? `print(df.__repr__())`의 결과가 조금 다르게 나온당"
      ],
      "id": "ff8327e5-69cf-4276-af9a-1e3175815596"
    },
    {
      "cell_type": "code",
      "execution_count": 193,
      "metadata": {},
      "outputs": [
        {
          "output_type": "stream",
          "name": "stdout",
          "text": [
            "   a  b\n",
            "0  1  2\n",
            "1  2  3\n",
            "2  3  4"
          ]
        }
      ],
      "source": [
        "print(df.__repr__())"
      ],
      "id": "c20d4247-3fd8-4be9-a5ef-4ef7064c1789"
    },
    {
      "cell_type": "markdown",
      "metadata": {},
      "source": [
        "`-` `print(df.__repr__())` 는 예전 검은화면에서 코딩할 때가 나오는\n",
        "출력임\n",
        "\n",
        "``` python\n",
        "Python 3.10.2 | packaged by conda-forge | (main, Feb  1 2022, 19:28:35) [GCC 9.4.0] on linux\n",
        "Type \"help\", \"copyright\", \"credits\" or \"license\" for more information.\n",
        "> >> import pandas as pd \n",
        ">>> df = pd.DataFrame({'a':[1,2,3],'b':[2,3,4]})>>> df\n",
        "   a  b\n",
        "0  1  2\n",
        "1  2  3\n",
        "2  3  4\n",
        ">>>\n",
        "```\n",
        "\n",
        "`-` 주피터에서는? “오브젝트이름+엔터”치면 `HTML(df._repr_html_())`이\n",
        "실행되고, `_repr_html_()`이 정의되어 있지 않으면\n",
        "`print(df.__repr__())`이 실행된다."
      ],
      "id": "5dbe40a0-716e-48ff-afc5-bee108323b35"
    },
    {
      "cell_type": "code",
      "execution_count": 196,
      "metadata": {},
      "outputs": [],
      "source": [
        "df._repr_html_()"
      ],
      "id": "15ac6476-7c2e-45eb-bcec-dbfee5415827"
    },
    {
      "cell_type": "markdown",
      "metadata": {},
      "source": [
        "-   html코드"
      ],
      "id": "9bd15e14-91fc-4032-8123-f29b931279eb"
    },
    {
      "cell_type": "code",
      "execution_count": 197,
      "metadata": {},
      "outputs": [],
      "source": [
        "from IPython.core.display import HTML"
      ],
      "id": "65058187-6baa-40b4-b6b8-5ed07e715665"
    },
    {
      "cell_type": "code",
      "execution_count": 198,
      "metadata": {},
      "outputs": [],
      "source": [
        "HTML('<div>\\n<style scoped>\\n    .dataframe tbody tr th:only-of-type {\\n        vertical-align: middle;\\n    }\\n\\n    .dataframe tbody tr th {\\n        vertical-align: top;\\n    }\\n\\n    .dataframe thead th {\\n        text-align: right;\\n    }\\n</style>\\n<table border=\"1\" class=\"dataframe\">\\n  <thead>\\n    <tr style=\"text-align: right;\">\\n      <th></th>\\n      <th>a</th>\\n      <th>b</th>\\n    </tr>\\n  </thead>\\n  <tbody>\\n    <tr>\\n      <th>0</th>\\n      <td>1</td>\\n      <td>2</td>\\n    </tr>\\n    <tr>\\n      <th>1</th>\\n      <td>2</td>\\n      <td>3</td>\\n    </tr>\\n    <tr>\\n      <th>2</th>\\n      <td>3</td>\\n      <td>4</td>\\n    </tr>\\n  </tbody>\\n</table>\\n</div>')"
      ],
      "id": "5c89f216-db7d-4d33-8cdb-cddb1a809f42"
    },
    {
      "cell_type": "code",
      "execution_count": 200,
      "metadata": {},
      "outputs": [],
      "source": [
        "HTML(df._repr_html_())"
      ],
      "id": "2000004c-6001-4f52-ae15-e6af9106cb63"
    },
    {
      "cell_type": "markdown",
      "metadata": {},
      "source": [
        "`-` 물론 `df._repr_html_()` 함수가 내부적으로 있어도 html이 지원되지\n",
        "않는 환경이라면 `print(__repr__())`이 내부적으로 수행된다.\n",
        "\n",
        "### `__repr__`와 `__str__`의 우선적용 순위\n",
        "\n",
        "(예제1)"
      ],
      "id": "de450ab8-ca2e-4142-85a4-0e7de62d21bd"
    },
    {
      "cell_type": "code",
      "execution_count": 201,
      "metadata": {},
      "outputs": [],
      "source": [
        "class RPS: \n",
        "    def __init__(self,candidate=['가위','바위','보']):\n",
        "        self.candidate = candidate\n",
        "        self.actions = list() \n",
        "    def choose(self):\n",
        "        self.actions.append(np.random.choice(self.candidate))\n",
        "    def show(self):\n",
        "        print(self.actions[-1])\n",
        "    def __repr__(self):\n",
        "        return \"낼 수 있는 패: {}\\n기록: {}\".format(self.candidate,self.actions)"
      ],
      "id": "bfc32482-e7f4-4db3-a920-17ae964d6732"
    },
    {
      "cell_type": "code",
      "execution_count": 202,
      "metadata": {},
      "outputs": [],
      "source": [
        "a=RPS()\n",
        "a"
      ],
      "id": "465b9ebf-0273-4cbe-93a7-9f101bf881a1"
    },
    {
      "cell_type": "code",
      "execution_count": 203,
      "metadata": {},
      "outputs": [],
      "source": [
        "a.__repr__()"
      ],
      "id": "9a6e1d59-16eb-49f2-8502-869f9825a02b"
    },
    {
      "cell_type": "code",
      "execution_count": 205,
      "metadata": {},
      "outputs": [],
      "source": [
        "repr(a)"
      ],
      "id": "5ba445f5-dd4d-4188-9207-56d23b24a515"
    },
    {
      "cell_type": "markdown",
      "metadata": {},
      "source": [
        "`-` 여기까지는 상식수준의 결과. 아래 관찰하자"
      ],
      "id": "ab5c51eb-d267-4768-9c8a-a08a5559c626"
    },
    {
      "cell_type": "code",
      "execution_count": 206,
      "metadata": {},
      "outputs": [
        {
          "output_type": "stream",
          "name": "stdout",
          "text": [
            "낼 수 있는 패: ['가위', '바위', '보']\n",
            "기록: []"
          ]
        }
      ],
      "source": [
        "print(a) # print(a.__str__())"
      ],
      "id": "27fcbca6-249a-430a-a13e-21886f146c05"
    },
    {
      "cell_type": "code",
      "execution_count": 208,
      "metadata": {},
      "outputs": [],
      "source": [
        "a.__str__()"
      ],
      "id": "11dab19d-7d8a-47aa-a67d-595a75ba5fc2"
    },
    {
      "cell_type": "code",
      "execution_count": 209,
      "metadata": {},
      "outputs": [],
      "source": [
        "str(a)"
      ],
      "id": "845fba29-1819-426f-802b-28230254bf87"
    },
    {
      "cell_type": "markdown",
      "metadata": {},
      "source": [
        "`-` `__str__()`은 건드린적이 없다…?"
      ],
      "id": "996823a7-83da-4437-9bea-dabe4225036c"
    },
    {
      "cell_type": "code",
      "execution_count": 213,
      "metadata": {},
      "outputs": [],
      "source": [
        "a.__repr__??"
      ],
      "id": "e0972e19-b97d-4be3-94df-3c4c37f28533"
    },
    {
      "cell_type": "markdown",
      "metadata": {},
      "source": [
        "얘는 건드림"
      ],
      "id": "734fa55a-d50c-4fd8-ab4a-5f9da9f6c008"
    },
    {
      "cell_type": "code",
      "execution_count": 211,
      "metadata": {},
      "outputs": [],
      "source": [
        "a.__str__??"
      ],
      "id": "abb744fb-ab9a-4e98-8398-d114e8ba028f"
    },
    {
      "cell_type": "markdown",
      "metadata": {},
      "source": [
        "얘는 안건드렸는디..\n",
        "\n",
        "(예제2)"
      ],
      "id": "6d9f59cf-8762-4cf0-b343-a21615612379"
    },
    {
      "cell_type": "code",
      "execution_count": 214,
      "metadata": {},
      "outputs": [],
      "source": [
        "class RPS: \n",
        "    def __init__(self,candidate=['가위','바위','보']):\n",
        "        self.candidate = candidate\n",
        "        self.actions = list() \n",
        "    def choose(self):\n",
        "        self.actions.append(np.random.choice(self.candidate))\n",
        "    def show(self):\n",
        "        print(self.actions[-1])\n",
        "    def __str__(self):\n",
        "        return \"낼 수 있는 패: {}\\n기록: {}\".format(self.candidate,self.actions)"
      ],
      "id": "e19553c2-e8e8-483b-b1d2-c92d539fadc0"
    },
    {
      "cell_type": "code",
      "execution_count": 215,
      "metadata": {},
      "outputs": [],
      "source": [
        "a=RPS()"
      ],
      "id": "754c473f-deff-4385-9412-494b0a57454b"
    },
    {
      "cell_type": "code",
      "execution_count": 216,
      "metadata": {},
      "outputs": [
        {
          "output_type": "stream",
          "name": "stdout",
          "text": [
            "낼 수 있는 패: ['가위', '바위', '보']\n",
            "기록: []"
          ]
        }
      ],
      "source": [
        "print(a)"
      ],
      "id": "2b7fab2b-94e5-4bf9-82cc-14e3f2d245ad"
    },
    {
      "cell_type": "code",
      "execution_count": 217,
      "metadata": {},
      "outputs": [],
      "source": [
        "a"
      ],
      "id": "7de16d37-e7d7-46c4-9885-1eef732a2999"
    },
    {
      "cell_type": "code",
      "execution_count": 218,
      "metadata": {},
      "outputs": [],
      "source": [
        "a.__str__()"
      ],
      "id": "c3ade78e-7fda-4f6f-9dad-3b459bb4cc85"
    },
    {
      "cell_type": "code",
      "execution_count": 219,
      "metadata": {},
      "outputs": [],
      "source": [
        "a.__repr__()"
      ],
      "id": "1aa82a83-31d1-4305-a7ad-d92a38a638b8"
    },
    {
      "cell_type": "code",
      "execution_count": 220,
      "metadata": {},
      "outputs": [],
      "source": [
        "a.__str__??"
      ],
      "id": "a33862e4-c476-43a6-8c34-92662a7eebc0"
    },
    {
      "cell_type": "code",
      "execution_count": 221,
      "metadata": {},
      "outputs": [
        {
          "output_type": "stream",
          "name": "stdout",
          "text": [
            "Object `a.__repr_` not found."
          ]
        }
      ],
      "source": [
        "a.__repr_??"
      ],
      "id": "59d0293b-0e0a-4899-86b9-c8cdf6c52038"
    },
    {
      "cell_type": "markdown",
      "metadata": {},
      "source": [
        "(예제3)"
      ],
      "id": "aff7c0e8-df6f-489a-9f9e-584afb593148"
    },
    {
      "cell_type": "code",
      "execution_count": 222,
      "metadata": {},
      "outputs": [],
      "source": [
        "class RPS: \n",
        "    def __init__(self,candidate=['가위','바위','보']):\n",
        "        self.candidate = candidate\n",
        "        self.actions = list() \n",
        "    def choose(self):\n",
        "        self.actions.append(np.random.choice(self.candidate))\n",
        "    def show(self):\n",
        "        print(self.actions[-1])\n",
        "    def __repr__(self):\n",
        "        return \"haha\"\n",
        "    def __str__(self):\n",
        "        return \"낼 수 있는 패: {}\\n기록: {}\".format(self.candidate,self.actions)"
      ],
      "id": "cc6b38a3-7d84-4cde-be77-583379363191"
    },
    {
      "cell_type": "code",
      "execution_count": 223,
      "metadata": {},
      "outputs": [],
      "source": [
        "a=RPS()"
      ],
      "id": "5a5ce301-f6eb-43dd-a0f0-200d450b4ace"
    },
    {
      "cell_type": "code",
      "execution_count": 224,
      "metadata": {},
      "outputs": [],
      "source": [
        "a"
      ],
      "id": "2249f4e7-8861-41ce-9359-59256a6a4663"
    },
    {
      "cell_type": "code",
      "execution_count": 225,
      "metadata": {},
      "outputs": [
        {
          "output_type": "stream",
          "name": "stdout",
          "text": [
            "낼 수 있는 패: ['가위', '바위', '보']\n",
            "기록: []"
          ]
        }
      ],
      "source": [
        "print(a)"
      ],
      "id": "6b1b0283-75ad-42a4-96d5-af451e4ce41e"
    },
    {
      "cell_type": "markdown",
      "metadata": {},
      "source": [
        "`-` `__str__` 와 `__repr__` 을 건드리지 않고 출력결과를 바꾸고 싶다면?"
      ],
      "id": "c1084303-29e8-4407-9e4e-cc4b2ec9558b"
    },
    {
      "cell_type": "code",
      "execution_count": 244,
      "metadata": {},
      "outputs": [],
      "source": [
        "class RPS: \n",
        "    def __init__(self,candidate=['가위','바위','보']):\n",
        "        self.candidate = candidate\n",
        "        self.actions = list() \n",
        "    def choose(self):\n",
        "        self.actions.append(np.random.choice(self.candidate))\n",
        "    def show(self):\n",
        "        print(self.actions[-1])\n",
        "    def _repr_html_(self):\n",
        "        html_str = \"\"\"\n",
        "        낼 수 있는 패: {} <br/> \n",
        "        기록: {}\n",
        "        \"\"\"\n",
        "        return html_str.format(self.candidate,self.actions)"
      ],
      "id": "78a533e5-4af0-4982-a28e-7998ede46dbe"
    },
    {
      "cell_type": "code",
      "execution_count": 245,
      "metadata": {},
      "outputs": [],
      "source": [
        "a=RPS()"
      ],
      "id": "1a20514b-c854-479e-9325-5883b3b01a87"
    },
    {
      "cell_type": "code",
      "execution_count": 246,
      "metadata": {},
      "outputs": [],
      "source": [
        "a"
      ],
      "id": "7c6d460a-5b81-461f-b514-f6e95d6aa4af"
    },
    {
      "cell_type": "code",
      "execution_count": 247,
      "metadata": {},
      "outputs": [
        {
          "output_type": "stream",
          "name": "stdout",
          "text": [
            "<__main__.RPS object at 0x7f6561534410>"
          ]
        }
      ],
      "source": [
        "print(a)"
      ],
      "id": "efc4d738-7db7-4e83-b404-a13cd375272c"
    },
    {
      "cell_type": "code",
      "execution_count": 248,
      "metadata": {},
      "outputs": [],
      "source": [
        "str(a)"
      ],
      "id": "fedfe02d-b4e2-4a4b-bf3a-c3af1985af62"
    },
    {
      "cell_type": "code",
      "execution_count": 249,
      "metadata": {},
      "outputs": [],
      "source": [
        "repr(a)"
      ],
      "id": "0f82c01a-9301-4ccb-af13-356d9dac1174"
    },
    {
      "cell_type": "code",
      "execution_count": 250,
      "metadata": {},
      "outputs": [
        {
          "output_type": "stream",
          "name": "stdout",
          "text": [
            "바위\n",
            "바위\n",
            "바위\n",
            "가위\n",
            "보"
          ]
        }
      ],
      "source": [
        "for i in range(5):\n",
        "    a.choose()\n",
        "    a.show()"
      ],
      "id": "9975df1c-ea4a-4124-bc2f-0996bf70a83d"
    },
    {
      "cell_type": "code",
      "execution_count": 251,
      "metadata": {},
      "outputs": [],
      "source": [
        "a"
      ],
      "id": "dd280c0d-1c73-4643-9ee8-bf57391c5acf"
    }
  ],
  "nbformat": 4,
  "nbformat_minor": 5,
  "metadata": {
    "kernelspec": {
      "name": "python3",
      "display_name": "Python 3",
      "language": "python"
    },
    "language_info": {
      "name": "python",
      "codemirror_mode": {
        "name": "ipython",
        "version": "3"
      },
      "file_extension": ".py",
      "mimetype": "text/x-python",
      "nbconvert_exporter": "python",
      "pygments_lexer": "ipython3",
      "version": "3.7.16"
    }
  }
}