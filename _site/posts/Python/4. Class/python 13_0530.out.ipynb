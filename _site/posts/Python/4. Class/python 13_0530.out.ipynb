{
  "cells": [
    {
      "cell_type": "markdown",
      "metadata": {},
      "source": [
        "# 파이썬 (0530) 13주차\n",
        "\n",
        "김보람  \n",
        "2022-05-30\n",
        "\n",
        "## 클래스 공부 6단계\n",
        "\n",
        "`-` 상속\n",
        "\n",
        "### 인사관리 예제\n",
        "\n",
        "`-` 아래와 같은 클래스를 만들자. - 이름, 직급, 연봉에 대한 정보가\n",
        "있다. - 연봉을 올려주는 메소드가 존재"
      ],
      "id": "31dd018d-0d95-4be6-a673-26b0015d00fc"
    },
    {
      "cell_type": "code",
      "execution_count": 20,
      "metadata": {},
      "outputs": [],
      "source": [
        "class Employee:\n",
        "    def __init__(self, name, position=None, pay=0):\n",
        "        self.name = name\n",
        "        self.position = position\n",
        "        self.pay = pay\n",
        "    def _repr_html_(self):\n",
        "        html_str = \"\"\"\n",
        "        이름: {} <br/>\n",
        "        직급: {} <br/>\n",
        "        연봉: {} <br/>\n",
        "        \"\"\".format(self.name, self.position, self.pay)\n",
        "        return html_str\n",
        "    def giveraise(self,pct):\n",
        "        self.pay = self.pay * (1+pct)\n",
        "        "
      ],
      "id": "b3d0296d-83af-49e1-88dc-f19f598e4048"
    },
    {
      "cell_type": "markdown",
      "metadata": {},
      "source": [
        "`-` 확인"
      ],
      "id": "391505f0-a731-480b-877b-83239f5ebe6c"
    },
    {
      "cell_type": "code",
      "execution_count": 21,
      "metadata": {},
      "outputs": [],
      "source": [
        "iu = Employee('iu', position='staff', pay=5000)\n",
        "hynn = Employee('hynn', position='staff', pay=4000)\n",
        "hd = Employee('hodonh', position='mgr', pay=8000)"
      ],
      "id": "cec7bbaf-68f8-4db2-a960-a12e38372325"
    },
    {
      "cell_type": "code",
      "execution_count": 22,
      "metadata": {},
      "outputs": [],
      "source": [
        "iu"
      ],
      "id": "0386de75-2814-410d-9c36-652713e37abe"
    },
    {
      "cell_type": "code",
      "execution_count": 23,
      "metadata": {},
      "outputs": [],
      "source": [
        "hynn"
      ],
      "id": "69a75b81-e346-4df0-863c-8b1233e977d6"
    },
    {
      "cell_type": "code",
      "execution_count": 24,
      "metadata": {},
      "outputs": [],
      "source": [
        "hd"
      ],
      "id": "6a033f13-eaab-4e73-9587-e00f71c3417d"
    },
    {
      "cell_type": "code",
      "execution_count": 25,
      "metadata": {},
      "outputs": [],
      "source": [
        "iu.giveraise(0.1)"
      ],
      "id": "326585d0-3e68-4df6-a125-65c6f68c288d"
    },
    {
      "cell_type": "code",
      "execution_count": 26,
      "metadata": {},
      "outputs": [],
      "source": [
        "iu"
      ],
      "id": "ccfb0603-f85f-4537-88a6-ed45866ffd06"
    },
    {
      "cell_type": "code",
      "execution_count": 27,
      "metadata": {},
      "outputs": [],
      "source": [
        "hynn.giveraise(0.2)"
      ],
      "id": "1f3a58fe-0e5d-4cae-9ec8-016f3986ed28"
    },
    {
      "cell_type": "code",
      "execution_count": 28,
      "metadata": {},
      "outputs": [],
      "source": [
        "hynn"
      ],
      "id": "1b72dfe8-207d-422e-9c8c-0f5a47d8f46f"
    },
    {
      "cell_type": "markdown",
      "metadata": {},
      "source": [
        "`-` 회사의 모든 직원의 연봉을 10%씩 올려보자."
      ],
      "id": "8fd37d42-1c6a-4631-9f0d-d666e19a14b1"
    },
    {
      "cell_type": "code",
      "execution_count": 32,
      "metadata": {},
      "outputs": [],
      "source": [
        "iu = Employee('iu', position='staff', pay=5000)\n",
        "hynn = Employee('hynn', position='staff', pay=4000)\n",
        "hd = Employee('hodonh', position='mgr', pay=8000)"
      ],
      "id": "b401171c-68dc-434d-a7dd-56f0edc24c5c"
    },
    {
      "cell_type": "code",
      "execution_count": 33,
      "metadata": {},
      "outputs": [
        {
          "output_type": "stream",
          "name": "stdout",
          "text": [
            "iu\n",
            "hynn\n",
            "hodonh"
          ]
        }
      ],
      "source": [
        "for i in [iu, hynn, hd]:\n",
        "    print(i.name)"
      ],
      "id": "946be16f-bf8d-49ab-ba3f-325e7ca2bf2a"
    },
    {
      "cell_type": "code",
      "execution_count": 34,
      "metadata": {},
      "outputs": [],
      "source": [
        "for i in [iu, hynn, hd]:\n",
        "    i.giveraise(0.1) # 일괄적으로 상승"
      ],
      "id": "377037e8-b638-4905-bfe0-40ccc14c4015"
    },
    {
      "cell_type": "code",
      "execution_count": 35,
      "metadata": {},
      "outputs": [],
      "source": [
        "iu"
      ],
      "id": "3d35f255-cdee-461a-80e1-893bdee24dc5"
    },
    {
      "cell_type": "code",
      "execution_count": 36,
      "metadata": {},
      "outputs": [],
      "source": [
        "hynn"
      ],
      "id": "8c3cb592-2cf3-4b58-8b36-71454153be80"
    },
    {
      "cell_type": "code",
      "execution_count": 37,
      "metadata": {},
      "outputs": [],
      "source": [
        "hd"
      ],
      "id": "ee29e946-f8a5-41d5-b57c-e7dc420e6346"
    },
    {
      "cell_type": "markdown",
      "metadata": {},
      "source": [
        "`-` 매니저 직급은 일반직원들의 상승분에서 5%의 보너스가 추가되어\n",
        "상승한다고 가정\n",
        "\n",
        "`-` 모든회사 직원들의 연봉을 10% 상승\n",
        "\n",
        "(구현1) if문을 통한"
      ],
      "id": "962fd196-c1b1-49e3-82db-c6fbae61d815"
    },
    {
      "cell_type": "code",
      "execution_count": 38,
      "metadata": {},
      "outputs": [],
      "source": [
        "iu = Employee('iu', position='staff', pay=5000)\n",
        "hynn = Employee('hynn', position='staff', pay=4000)\n",
        "hd = Employee('hodonh', position='mgr', pay=8000)"
      ],
      "id": "135ea341-63df-421a-b09a-13ebb82a57d4"
    },
    {
      "cell_type": "code",
      "execution_count": 39,
      "metadata": {},
      "outputs": [],
      "source": [
        "for i in [iu,hynn,hd]:\n",
        "    if i.position == 'mgr':\n",
        "        i.giveraise(0.1 + 0.05)\n",
        "    else:\n",
        "        i.giveraise(0.1)"
      ],
      "id": "33be5a36-a28f-405e-9790-06c7e630b6d2"
    },
    {
      "cell_type": "code",
      "execution_count": 40,
      "metadata": {},
      "outputs": [],
      "source": [
        "iu"
      ],
      "id": "c727b466-6b2b-49fb-a7de-d652c238d8e6"
    },
    {
      "cell_type": "code",
      "execution_count": 41,
      "metadata": {},
      "outputs": [],
      "source": [
        "hynn"
      ],
      "id": "99423409-6fe0-489b-ae48-8577214fa18c"
    },
    {
      "cell_type": "code",
      "execution_count": 42,
      "metadata": {},
      "outputs": [],
      "source": [
        "hd"
      ],
      "id": "02772422-4280-426e-b04e-b6fd9102e15c"
    },
    {
      "cell_type": "markdown",
      "metadata": {},
      "source": [
        "(구현2) 새로운 클래스를 만들자"
      ],
      "id": "f6335fe6-9f4a-4b4e-a505-e3dc58e66347"
    },
    {
      "cell_type": "code",
      "execution_count": 43,
      "metadata": {},
      "outputs": [],
      "source": [
        "class Manager:\n",
        "    def __init__(self, name, position=None, pay=0):\n",
        "        self.name = name\n",
        "        self.position = position\n",
        "        self.pay = pay\n",
        "    def _repr_html_(self):\n",
        "        html_str = \"\"\"\n",
        "        이름: {} <br/>\n",
        "        직급: {} <br/>\n",
        "        연봉: {} <br/>\n",
        "        \"\"\".format(self.name, self.position, self.pay)\n",
        "        return html_str\n",
        "    def giveraise(self,pct):\n",
        "        self.pay = self.pay * (1+pct+0.05)\n",
        "        "
      ],
      "id": "b853fdaf-00ba-4d17-809b-fa59b497ab2a"
    },
    {
      "cell_type": "code",
      "execution_count": 45,
      "metadata": {},
      "outputs": [],
      "source": [
        "iu = Employee('iu', position='staff', pay=5000)\n",
        "hynn = Employee('hynn', position='staff', pay=4000)\n",
        "hd = Manager('hodonh', position='mgr', pay=8000)"
      ],
      "id": "ef1765b4-ad74-42c0-9262-8aff05ef5ae1"
    },
    {
      "cell_type": "code",
      "execution_count": 46,
      "metadata": {},
      "outputs": [],
      "source": [
        "for i in [iu,hynn,hd]:\n",
        "    i.giveraise(0.1)"
      ],
      "id": "f77550be-c203-417b-9211-503bdab9c85e"
    },
    {
      "cell_type": "code",
      "execution_count": 47,
      "metadata": {},
      "outputs": [],
      "source": [
        "iu"
      ],
      "id": "1e2f2a3f-d8a3-494b-bc7a-9abf69ccf86d"
    },
    {
      "cell_type": "code",
      "execution_count": 48,
      "metadata": {},
      "outputs": [],
      "source": [
        "hynn"
      ],
      "id": "94ad9b3f-cc63-410f-86bf-7d69f99f1c30"
    },
    {
      "cell_type": "code",
      "execution_count": 49,
      "metadata": {},
      "outputs": [],
      "source": [
        "hd"
      ],
      "id": "86a50879-a3bc-43f1-9af5-cdc3f87bbd09"
    },
    {
      "cell_type": "markdown",
      "metadata": {},
      "source": [
        "`-` 구현3: 이미 만들어진 클래스에서"
      ],
      "id": "0c945fe2-03c8-41f7-9151-51a11889dd63"
    },
    {
      "cell_type": "code",
      "execution_count": 50,
      "metadata": {},
      "outputs": [],
      "source": [
        "class Manager(Employee):\n",
        "    # 나머지 기타 함수내용은 Emplyee 클래스와 같음걸 표현하려면 위 가로에 Employee를 작성한다.\n",
        "    def giveraise(self,pct):\n",
        "        self.pay = self.pay * (1+pct+0.05)\n",
        "        "
      ],
      "id": "ca0841fa-7fa6-4dbe-9de7-565bbdca5490"
    },
    {
      "cell_type": "code",
      "execution_count": 52,
      "metadata": {},
      "outputs": [],
      "source": [
        "hd=Manager('hodong',pay=8000)\n",
        "hd  # 명시하지 않았는데 상속됨"
      ],
      "id": "b24108d9-2935-4ceb-8250-5a3f8415d407"
    },
    {
      "cell_type": "code",
      "execution_count": 53,
      "metadata": {},
      "outputs": [],
      "source": [
        "iu = Employee('iu', position='staff', pay=5000)\n",
        "hynn = Employee('hynn', position='staff', pay=4000)\n",
        "hd = Manager('hodonh', position='mgr', pay=8000)"
      ],
      "id": "2e0fa4f8-e464-40bd-939f-edd8c8b02ac3"
    },
    {
      "cell_type": "code",
      "execution_count": 54,
      "metadata": {},
      "outputs": [],
      "source": [
        "for i in [iu,hynn,hd]:\n",
        "    i.giveraise(0.1)"
      ],
      "id": "d8346622-8bbd-4172-8e89-c8fa1f91ec01"
    },
    {
      "cell_type": "code",
      "execution_count": 55,
      "metadata": {},
      "outputs": [],
      "source": [
        "iu"
      ],
      "id": "263883b8-34de-4124-9285-2754af1db010"
    },
    {
      "cell_type": "code",
      "execution_count": 56,
      "metadata": {},
      "outputs": [],
      "source": [
        "hynn"
      ],
      "id": "84fa6a23-330d-473c-b452-adf7e200183f"
    },
    {
      "cell_type": "code",
      "execution_count": 57,
      "metadata": {},
      "outputs": [],
      "source": [
        "hd"
      ],
      "id": "75124989-4fc3-46e1-846a-04cddf4d6f6d"
    },
    {
      "cell_type": "markdown",
      "metadata": {},
      "source": [
        "`-` 요약: 이미 만들어진 클래스에서 대부분의 기능은 그대로 쓰지만\n",
        "일부기능만 변경 혹은 추가하고 싶다면 클래스를 상속하면 된다!\n",
        "\n",
        "### 리스트의 상속\n",
        "\n",
        "-   내가 만든 클래스를 계속 상속하는 경우\n",
        "\n",
        "`-` list 와 비슷한데 멤버들의 빈도가 계산되는 메소드를 포함하는 새로운\n",
        "나만의 list를 만들자"
      ],
      "id": "eb658877-f0c0-4ca6-b027-edfae0a927c1"
    },
    {
      "cell_type": "code",
      "execution_count": 58,
      "metadata": {},
      "outputs": [],
      "source": [
        "lst = ['a','b','a','c','b','a','d']\n",
        "lst"
      ],
      "id": "215d16ff-961b-457e-9e29-9a4bfba4d1b8"
    },
    {
      "cell_type": "markdown",
      "metadata": {},
      "source": [
        "`-` 아래와 같은 딕셔너리를 만들고 싶다."
      ],
      "id": "fd62f681-dd5b-4b38-9905-5eff1023a18a"
    },
    {
      "cell_type": "code",
      "execution_count": 60,
      "metadata": {},
      "outputs": [],
      "source": [
        "freq = {'a':3, 'b':2, 'c':1, 'd':1}  # 갯수\n",
        "freq"
      ],
      "id": "d18b2b12-913a-4f49-a8d4-a3648b7d4cf7"
    },
    {
      "cell_type": "markdown",
      "metadata": {},
      "source": [
        "-   lst.frequency()를 입력하면 위의 기능이 수행되도록 변형된 list를 쓰고\n",
        "    싶다.\n",
        "\n",
        "`-` 구현\n",
        "\n",
        "(시도1) 절반 성공"
      ],
      "id": "d6c447bb-182b-4456-ba55-09ea3ed958f1"
    },
    {
      "cell_type": "code",
      "execution_count": 61,
      "metadata": {},
      "outputs": [],
      "source": [
        "freq = {'a':0, 'b':0, 'c':0, 'd':0}   # 일단 다 0이라 생각하고 코드 짜기 \n",
        "freq"
      ],
      "id": "402ca681-2fa8-446d-a5b5-2d1c30d93df5"
    },
    {
      "cell_type": "code",
      "execution_count": 63,
      "metadata": {},
      "outputs": [
        {
          "output_type": "stream",
          "name": "stdout",
          "text": [
            "a\n",
            "b\n",
            "a\n",
            "c\n",
            "b\n",
            "a\n",
            "d"
          ]
        }
      ],
      "source": [
        "for item in lst:\n",
        "    print(item)"
      ],
      "id": "e892d4f2-704b-442b-9c21-f9739c0a57db"
    },
    {
      "cell_type": "code",
      "execution_count": 64,
      "metadata": {},
      "outputs": [
        {
          "output_type": "stream",
          "name": "stdout",
          "text": [
            "0\n",
            "0\n",
            "0\n",
            "0\n",
            "0\n",
            "0\n",
            "0"
          ]
        }
      ],
      "source": [
        "for item in lst:\n",
        "    print(freq[item])"
      ],
      "id": "cd2fda50-2db7-48b6-acc8-d4ea71e30cf4"
    },
    {
      "cell_type": "code",
      "execution_count": 65,
      "metadata": {},
      "outputs": [],
      "source": [
        "for item in lst:\n",
        "    freq[item] = freq[item] + 1"
      ],
      "id": "b5f9ec82-0061-4c60-8a66-e33e4cdc807a"
    },
    {
      "cell_type": "code",
      "execution_count": 66,
      "metadata": {},
      "outputs": [],
      "source": [
        "freq"
      ],
      "id": "2a5d24af-abed-4cf0-81cc-6e8d449dbe5d"
    },
    {
      "cell_type": "markdown",
      "metadata": {},
      "source": [
        "반쯤 성공.. 리스트가 a,b,c,d 라는걸 알고 있어야 함\n",
        "\n",
        "(시도2) 실패"
      ],
      "id": "474dacd8-2d7f-49b1-9daf-68334c316d22"
    },
    {
      "cell_type": "code",
      "execution_count": 67,
      "metadata": {},
      "outputs": [],
      "source": [
        "lst"
      ],
      "id": "ab516181-e3a1-4f2a-a515-fff1582728d4"
    },
    {
      "cell_type": "code",
      "execution_count": 68,
      "metadata": {},
      "outputs": [],
      "source": [
        "freq = dict()\n",
        "freq"
      ],
      "id": "cda80d15-8f81-4c36-bd18-746ed5a84258"
    },
    {
      "cell_type": "code",
      "execution_count": 69,
      "metadata": {},
      "outputs": [],
      "source": [
        "for item in lst:\n",
        "    freq[item] = freq[item] + 1"
      ],
      "id": "74e07a23-680f-4a7b-93f2-8d36c7f1ff14"
    },
    {
      "cell_type": "code",
      "execution_count": 71,
      "metadata": {},
      "outputs": [],
      "source": [
        "freq['a']  # 매칭되는게 없다!"
      ],
      "id": "b665aab8-cd09-4198-b1da-6182bc6cc2db"
    },
    {
      "cell_type": "markdown",
      "metadata": {},
      "source": [
        "에러이유? `freq['a']` 를 호출할 수 없다 -\\> `freq.get('a',0)`을 이용"
      ],
      "id": "1f4d0b54-b195-49e2-a874-4d3f5aedd88b"
    },
    {
      "cell_type": "code",
      "execution_count": 73,
      "metadata": {},
      "outputs": [],
      "source": [
        "freq.get('a')   # 4주차 3월 23일 복습  get메소드를 사용하면 없어도 에러를 표시하지 않음"
      ],
      "id": "83f3633a-63d3-408f-9e9f-d994ebe4bd40"
    },
    {
      "cell_type": "code",
      "execution_count": 75,
      "metadata": {},
      "outputs": [],
      "source": [
        "freq.get?"
      ],
      "id": "1fb45eb7-406d-4115-a072-29f22c42a39d"
    },
    {
      "cell_type": "markdown",
      "metadata": {},
      "source": [
        "-   key에 대응하는 값이 있으면 그 값을 리턴하고 없으면 default를 리턴"
      ],
      "id": "1383d157-4086-48fb-919f-f6f4c31e9217"
    },
    {
      "cell_type": "code",
      "execution_count": 78,
      "metadata": {},
      "outputs": [],
      "source": [
        "freq.get('a',0)  # a값 없으면 0으로 리턴"
      ],
      "id": "f88e6a6c-a651-4747-a0d9-677c5588fbd4"
    },
    {
      "cell_type": "markdown",
      "metadata": {},
      "source": [
        "(시도3)"
      ],
      "id": "86bece01-ab27-4876-9ec8-34f8d3dd1eb0"
    },
    {
      "cell_type": "code",
      "execution_count": 79,
      "metadata": {},
      "outputs": [],
      "source": [
        "lst"
      ],
      "id": "95b67b67-587d-4bba-9ee3-a3d2b32c1e7e"
    },
    {
      "cell_type": "code",
      "execution_count": 80,
      "metadata": {},
      "outputs": [],
      "source": [
        "freq = dict()\n",
        "freq"
      ],
      "id": "2e0d16fa-6988-4753-9046-767fa25af654"
    },
    {
      "cell_type": "code",
      "execution_count": 82,
      "metadata": {},
      "outputs": [],
      "source": [
        "for item in lst:\n",
        "    freq[item] = freq.get(item,0) + 1"
      ],
      "id": "9d9b7884-a832-4af2-804d-8d0472840236"
    },
    {
      "cell_type": "code",
      "execution_count": 83,
      "metadata": {},
      "outputs": [],
      "source": [
        "freq"
      ],
      "id": "b9cb093a-d46a-4a3f-9371-c8af9e2ca569"
    },
    {
      "cell_type": "markdown",
      "metadata": {},
      "source": [
        "`-` 이것을 내가 정의하는 새로운 list의 메소드로 넣고 싶다."
      ],
      "id": "1da445bd-9287-4c19-b10c-261daf65c045"
    },
    {
      "cell_type": "code",
      "execution_count": 89,
      "metadata": {},
      "outputs": [],
      "source": [
        "class L(list):   # L 이라는 클래스에 list에 있는 모든걸 상속받겠다.\n",
        "    pass"
      ],
      "id": "dd2c9e34-61b8-471f-aebe-862b429c7650"
    },
    {
      "cell_type": "code",
      "execution_count": 85,
      "metadata": {},
      "outputs": [],
      "source": [
        "a=[1,2,3]\n",
        "a"
      ],
      "id": "1e00098e-055c-4c75-a56a-77f544dc8d07"
    },
    {
      "cell_type": "code",
      "execution_count": 86,
      "metadata": {},
      "outputs": [],
      "source": [
        "a?"
      ],
      "id": "998b0d11-6e6e-4f57-803f-77b83a63d521"
    },
    {
      "cell_type": "code",
      "execution_count": 91,
      "metadata": {},
      "outputs": [],
      "source": [
        "class L(list):\n",
        "    def frequency(self):\n",
        "        freq = dict()\n",
        "        for item in self:\n",
        "            freq[item] = freq.get(item,0) + 1\n",
        "        return freq"
      ],
      "id": "b3778e7f-4d45-46d4-b1dc-8a86f9be975c"
    },
    {
      "cell_type": "code",
      "execution_count": 92,
      "metadata": {},
      "outputs": [],
      "source": [
        "lst = L([1,1,1,2,2,3])"
      ],
      "id": "e2184319-1b21-44ba-8f95-d767bf260a06"
    },
    {
      "cell_type": "code",
      "execution_count": 96,
      "metadata": {},
      "outputs": [],
      "source": [
        "lst?  "
      ],
      "id": "2a6a4326-50d0-4b1b-998d-c98ecefb5d46"
    },
    {
      "cell_type": "code",
      "execution_count": 95,
      "metadata": {},
      "outputs": [],
      "source": [
        " # 리스트 같아 보이지만 타입이 L! 내가 설정한 클래스"
      ],
      "id": "04ffd361-b906-4c6b-97b9-776bdd2d5433"
    },
    {
      "cell_type": "code",
      "execution_count": 97,
      "metadata": {},
      "outputs": [],
      "source": [
        "lst  #원래 list에 있는 repr 기능을 상속받아서 이루어지는 결과"
      ],
      "id": "bf67056f-4fd1-49aa-809a-8c0c63f5bec3"
    },
    {
      "cell_type": "code",
      "execution_count": 98,
      "metadata": {},
      "outputs": [],
      "source": [
        "_lst = L([4,5,6])\n",
        "_lst + _lst   # L자로형끼리 덧셈"
      ],
      "id": "4c9a71b5-e37c-4348-af9e-8f855343283a"
    },
    {
      "cell_type": "code",
      "execution_count": 105,
      "metadata": {},
      "outputs": [],
      "source": [
        "lst + [4,5,6]   # l자료형과  list 자료형의 덧셈도 가능"
      ],
      "id": "b48dd294-d5f3-482a-a4cb-1b23196e9c2b"
    },
    {
      "cell_type": "markdown",
      "metadata": {},
      "source": [
        "-   L자료형의 덧셈은 list의 덧셈과 완전히 같음"
      ],
      "id": "de67b1b0-ba9b-4469-9e93-f23916592600"
    },
    {
      "cell_type": "code",
      "execution_count": 104,
      "metadata": {},
      "outputs": [],
      "source": [
        "lst.append(10)\n",
        "lst   # 요론 기본적인 리스트 기능도 가능"
      ],
      "id": "acd1b50f-a2be-4e7e-947b-f52f4eeedb29"
    },
    {
      "cell_type": "code",
      "execution_count": 102,
      "metadata": {
        "tags": []
      },
      "outputs": [],
      "source": [
        "lst.frequency()  # 리스트에서 이것 기능만 추가된거랑 똑같고 나머지는 다 리스트랑 똑같다"
      ],
      "id": "576853a5-a644-4025-8803-f10a507feea2"
    },
    {
      "cell_type": "markdown",
      "metadata": {},
      "source": [
        "## Appendix: 사용자 정의 자료형의 유용함\n",
        "\n",
        "`-` 사용자정의 자료형이 어떤 경우에는 유용할 수 있다."
      ],
      "id": "ce88b3c7-e1d1-4f31-8345-6be9cdff4e21"
    },
    {
      "cell_type": "code",
      "execution_count": 108,
      "metadata": {},
      "outputs": [
        {
          "output_type": "stream",
          "name": "stdout",
          "text": [
            "Collecting matplotlib\n",
            "  Downloading matplotlib-3.5.3-cp37-cp37m-manylinux_2_5_x86_64.manylinux1_x86_64.whl (11.2 MB)\n",
            "     ━━━━━━━━━━━━━━━━━━━━━━━━━━━━━━━━━━━━━━━━ 11.2/11.2 MB 97.5 MB/s eta 0:00:00a 0:00:01\n",
            "Collecting fonttools>=4.22.0\n",
            "  Downloading fonttools-4.38.0-py3-none-any.whl (965 kB)\n",
            "     ━━━━━━━━━━━━━━━━━━━━━━━━━━━━━━━━━━━━━━ 965.4/965.4 kB 81.8 MB/s eta 0:00:00\n",
            "Requirement already satisfied: packaging>=20.0 in /home/koinup4/anaconda3/envs/py37/lib/python3.7/site-packages (from matplotlib) (23.0)\n",
            "Requirement already satisfied: python-dateutil>=2.7 in /home/koinup4/anaconda3/envs/py37/lib/python3.7/site-packages (from matplotlib) (2.8.2)\n",
            "Collecting pyparsing>=2.2.1\n",
            "  Downloading pyparsing-3.0.9-py3-none-any.whl (98 kB)\n",
            "     ━━━━━━━━━━━━━━━━━━━━━━━━━━━━━━━━━━━━━━━━ 98.3/98.3 kB 18.6 MB/s eta 0:00:00\n",
            "Collecting kiwisolver>=1.0.1\n",
            "  Downloading kiwisolver-1.4.4-cp37-cp37m-manylinux_2_5_x86_64.manylinux1_x86_64.whl (1.1 MB)\n",
            "     ━━━━━━━━━━━━━━━━━━━━━━━━━━━━━━━━━━━━━━━━ 1.1/1.1 MB 82.9 MB/s eta 0:00:00\n",
            "Requirement already satisfied: numpy>=1.17 in /home/koinup4/anaconda3/envs/py37/lib/python3.7/site-packages (from matplotlib) (1.21.6)\n",
            "Collecting cycler>=0.10\n",
            "  Downloading cycler-0.11.0-py3-none-any.whl (6.4 kB)\n",
            "Requirement already satisfied: pillow>=6.2.0 in /home/koinup4/anaconda3/envs/py37/lib/python3.7/site-packages (from matplotlib) (9.4.0)\n",
            "Requirement already satisfied: typing-extensions in /home/koinup4/anaconda3/envs/py37/lib/python3.7/site-packages (from kiwisolver>=1.0.1->matplotlib) (4.4.0)\n",
            "Requirement already satisfied: six>=1.5 in /home/koinup4/anaconda3/envs/py37/lib/python3.7/site-packages (from python-dateutil>=2.7->matplotlib) (1.16.0)\n",
            "Installing collected packages: pyparsing, kiwisolver, fonttools, cycler, matplotlib\n",
            "Successfully installed cycler-0.11.0 fonttools-4.38.0 kiwisolver-1.4.4 matplotlib-3.5.3 pyparsing-3.0.9"
          ]
        }
      ],
      "source": [
        "!pip install matplotlib"
      ],
      "id": "394d44d4-90a5-4875-b1af-b279e8fadbc7"
    },
    {
      "cell_type": "code",
      "execution_count": 109,
      "metadata": {},
      "outputs": [],
      "source": [
        "import pandas as pd\n",
        "import numpy as np\n",
        "import matplotlib.pyplot as plt"
      ],
      "id": "764c5d09-38b3-483a-969b-232803f4fc74"
    },
    {
      "cell_type": "markdown",
      "metadata": {},
      "source": [
        "`-` 예제1"
      ],
      "id": "d16de82d-b8e6-4ca7-a1a4-1b33f09d4ae7"
    },
    {
      "cell_type": "code",
      "execution_count": 110,
      "metadata": {},
      "outputs": [],
      "source": [
        "year = ['2016', '2017', '2017', '2017', 2017, 2018, 2018, 2019, 2019]\n",
        "value = np.random.randn(9)"
      ],
      "id": "191d56d7-72c9-4330-aedd-1a4b483aaee4"
    },
    {
      "cell_type": "code",
      "execution_count": 111,
      "metadata": {},
      "outputs": [],
      "source": [
        "df = pd.DataFrame({'year':year, 'value':value})\n",
        "df"
      ],
      "id": "e89b135f-867a-42c8-9622-b2af0a31fa87"
    },
    {
      "cell_type": "code",
      "execution_count": 112,
      "metadata": {},
      "outputs": [
        {
          "output_type": "display_data",
          "metadata": {},
          "data": {
            "image/png": "[encoded data removed]"
          }
        }
      ],
      "source": [
        "plt.plot(df.year, df.value)"
      ],
      "id": "0c30eb4a-581a-4938-943d-32a9353b80e8"
    },
    {
      "cell_type": "code",
      "execution_count": 114,
      "metadata": {},
      "outputs": [],
      "source": [
        "df.year"
      ],
      "id": "44b5fe12-ff2c-4c1e-b104-b5fa691724ea"
    },
    {
      "cell_type": "markdown",
      "metadata": {},
      "source": [
        "-   dtype이 object 로 되어있어서 그림이 그려지지 않는다.. float로 되어야\n",
        "    할텐데?\n",
        "\n",
        "-   에러의 이유: df.year에 str, int가 동시에 있음"
      ],
      "id": "6deb45f4-96f1-4d5e-b2c2-9757489ff01f"
    },
    {
      "cell_type": "code",
      "execution_count": 115,
      "metadata": {},
      "outputs": [],
      "source": [
        "np.array(df.year)"
      ],
      "id": "0a03f977-5090-45ab-a496-9b473d17de1a"
    },
    {
      "cell_type": "markdown",
      "metadata": {},
      "source": [
        "-   자료형의 형태를 바꿔주면 해결할 수 있다."
      ],
      "id": "a0770c49-cc97-46a3-ae96-7e2f8b4aa826"
    },
    {
      "cell_type": "code",
      "execution_count": 116,
      "metadata": {},
      "outputs": [],
      "source": [
        "np.array(df.year, dtype=np.float64)"
      ],
      "id": "494db8cd-37c8-446f-8a1f-e85772452e3a"
    },
    {
      "cell_type": "code",
      "execution_count": 117,
      "metadata": {},
      "outputs": [],
      "source": [
        "np.array(df.year).astype(np.float64) # 위와 같은 효과"
      ],
      "id": "bb1a705d-b570-43db-a36c-1712d2623f02"
    },
    {
      "cell_type": "code",
      "execution_count": 120,
      "metadata": {},
      "outputs": [],
      "source": [
        "df.year.astype(np.float64)  # 위와 같은 효과"
      ],
      "id": "9f00be49-150e-4e6d-828a-a0710d5d21dd"
    },
    {
      "cell_type": "code",
      "execution_count": 121,
      "metadata": {},
      "outputs": [
        {
          "output_type": "display_data",
          "metadata": {},
          "data": {
            "image/png": "[encoded data removed]"
          }
        }
      ],
      "source": [
        "plt.plot(df.year.astype(np.float64), df.value,'.')"
      ],
      "id": "a977656c-5f92-42e3-9e76-5048bb98f247"
    },
    {
      "cell_type": "markdown",
      "metadata": {},
      "source": [
        "`-` 예제2"
      ],
      "id": "6dc4f6f1-19e4-419d-8c7a-e6321d2a2335"
    },
    {
      "cell_type": "code",
      "execution_count": 122,
      "metadata": {},
      "outputs": [],
      "source": [
        "year = ['2016', '2017', '2017', '2017년', 2017, 2018, 2018, 2019, 2019]\n",
        "value = np.random.randn(9)"
      ],
      "id": "80a0b814-918c-4c8a-a11d-27672b4bbab4"
    },
    {
      "cell_type": "code",
      "execution_count": 123,
      "metadata": {},
      "outputs": [],
      "source": [
        "df = pd.DataFrame({'year':year, 'value':value})\n",
        "df"
      ],
      "id": "dda2fcdc-942a-4bb3-aacf-4737e368977b"
    },
    {
      "cell_type": "code",
      "execution_count": 125,
      "metadata": {},
      "outputs": [],
      "source": [
        "np.array(df.year, dtype=np.float64) # \"년\"이 써있어서 타입을 일괄적으로 바꾸기 어렵다."
      ],
      "id": "110a38d5-6aef-4b58-8477-a75e8d918920"
    },
    {
      "cell_type": "code",
      "execution_count": 127,
      "metadata": {},
      "outputs": [],
      "source": [
        "df.year   # 어떤 값이 있는지 확인"
      ],
      "id": "4c9f8f08-dde7-45ee-bee4-5c9d134b606d"
    },
    {
      "cell_type": "code",
      "execution_count": 131,
      "metadata": {},
      "outputs": [],
      "source": [
        "np.unique(df.year)   # 섞여있는 타입에서는 unique는 동작하지 않는다."
      ],
      "id": "d114efcf-d2ca-4050-ae4c-77ccede8ae05"
    },
    {
      "cell_type": "code",
      "execution_count": 132,
      "metadata": {},
      "outputs": [],
      "source": [
        "L(df.year).frequency()"
      ],
      "id": "9bdf7464-ccb3-4350-ae0d-e1c3175c7d42"
    },
    {
      "cell_type": "markdown",
      "metadata": {},
      "source": [
        "-   ’2016’과 같은 형태, ’2017년’과 같은 형태, 숫자형이 혼합 .. 이라는\n",
        "    파악 가능 -\\> 맞춤형 변환이 필요함"
      ],
      "id": "52f2ae89-e21c-430b-b737-bb5b57fb150e"
    },
    {
      "cell_type": "code",
      "execution_count": 133,
      "metadata": {},
      "outputs": [],
      "source": [
        "'2017년'.replace(\"년\",\"\")"
      ],
      "id": "8b2f06ea-4599-4bdc-8e1f-fda29e98e482"
    },
    {
      "cell_type": "code",
      "execution_count": 142,
      "metadata": {},
      "outputs": [],
      "source": [
        "def f(a):    # 데이터의 구조를 모르면 이런 함수를 짤 수가 없다. -> 자료의 구조를 확인해준다는 의미에서 freq가 있다면 편리하다.\n",
        "    if type(a) is str:\n",
        "        if \"년\" in a:\n",
        "            return int(a.replace(\"년\",\"\"))\n",
        "        else:\n",
        "            return int(a)\n",
        "    else:\n",
        "        return a"
      ],
      "id": "86e4172f-65c2-419d-836a-f4806c9b245b"
    },
    {
      "cell_type": "code",
      "execution_count": 143,
      "metadata": {},
      "outputs": [],
      "source": [
        "[f(a) for a in df.year]"
      ],
      "id": "2422c665-b814-46d7-806a-63fc9e3940e3"
    },
    {
      "cell_type": "code",
      "execution_count": 144,
      "metadata": {},
      "outputs": [],
      "source": [
        "df.year = [f(a) for a in df.year]"
      ],
      "id": "309d053c-9bf7-41a9-9185-994b812f5ce1"
    },
    {
      "cell_type": "code",
      "execution_count": 139,
      "metadata": {},
      "outputs": [],
      "source": [
        "df"
      ],
      "id": "d2201aec-e21b-4bc5-91c3-7d67db0e247a"
    },
    {
      "cell_type": "code",
      "execution_count": 145,
      "metadata": {},
      "outputs": [
        {
          "output_type": "display_data",
          "metadata": {},
          "data": {
            "image/png": "[encoded data removed]"
          }
        }
      ],
      "source": [
        "plt.plot(df.year, df.value, '.')"
      ],
      "id": "3144b79b-1319-4ae0-bc4d-0b675d633490"
    }
  ],
  "nbformat": 4,
  "nbformat_minor": 5,
  "metadata": {
    "kernelspec": {
      "name": "python3",
      "display_name": "Python 3",
      "language": "python"
    },
    "language_info": {
      "name": "python",
      "codemirror_mode": {
        "name": "ipython",
        "version": "3"
      },
      "file_extension": ".py",
      "mimetype": "text/x-python",
      "nbconvert_exporter": "python",
      "pygments_lexer": "ipython3",
      "version": "3.7.16"
    }
  }
}