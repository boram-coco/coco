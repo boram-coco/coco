{
  "cells": [
    {
      "cell_type": "markdown",
      "metadata": {},
      "source": [
        "# 파이썬 (0509) 10주차\n",
        "\n",
        "김보람  \n",
        "2022-05-09"
      ],
      "id": "42b4e648-01a9-47c0-9754-701aad221cc6"
    },
    {
      "cell_type": "code",
      "execution_count": 1,
      "metadata": {},
      "outputs": [],
      "source": [
        "# jupyter notebook을 통한 ppt발표(슬라이드)가 가능. 관련 프로그램을 깔아야한다."
      ],
      "id": "6744474b-3bc5-4124-bc58-4b3216f8811d"
    },
    {
      "cell_type": "markdown",
      "metadata": {},
      "source": [
        "## 밈(Meme)과 클래스\n",
        "\n",
        "#### 신혜선의 어쩔티비\n",
        "\n",
        "`-` 밈이란? 유전자처럼 복제가능한 something\n",
        "\n",
        "## 클래스\n",
        "\n",
        "`-` 클래스에 대한 비유적 설명 (implicit definition)\n",
        "\n",
        "-   클래스는 과자틀과 비슷하다. 클래스란 똑같은 무엇인가를 계속 만들어\n",
        "    낼 수도 있는 설계도면이고 객체란 클래스로 만든 피조물을 뜻한다.\n",
        "    (점프투파이썬)\n",
        "\n",
        "-   In object-oriented programming, a class is an extensible\n",
        "    program-code-template for creating objects, providing initial values\n",
        "    for state (member variables) and implementations of behavior (member\n",
        "    functions or methods). // 객체 지향 프로그래밍에서 클래스는\n",
        "    상태(멤버 변수) 및 동작 구현(멤버 함수 또는 메서드)에 대한 초기 값을\n",
        "    제공하는 객체 생성을 위한 확장 가능한 프로그램 코드 템플릿입니다.\n",
        "\n",
        "-   http://www.tcpschool.com/java/java_class_intro\n",
        "\n",
        "-   https://javacpro.tistory.com/29\n",
        "\n",
        "-   https://ko.wikipedia.org/wiki/%ED%81%B4%EB%9E%98%EC%8A%A4\\_(%EC%BB%B4%ED%93%A8%ED%84%B0\\_%ED%94%84%EB%A1%9C%EA%B7%B8%EB%9E%98%EB%B0%8D)\n",
        "\n",
        "`-` 클래스에 대한 명시적 정의 (교수님 생각)\n",
        "\n",
        "-   클래스는 복제, 변형, 재생산을 용이하게 하기 위해 만들어진 확장가능한\n",
        "    프로그램의 코드의 단위(extensible program-code-template)이다. 즉\n",
        "    밈이다.\n",
        "\n",
        "`-` 클래스도 결국 밈이다. 생각해보면 클래스를 만들고 사용하는 과정이\n",
        "인터넷에서 밈을 만들고 노는것과 닮아 있다.\n",
        "\n",
        "-   1단계: 개념의 인지 (이거 재미있겠다 밈으로 만들자 // 이 코드\n",
        "    쓸모있다, 이 코드를 쉽게 찍어내는 클래스로 만들어두자)\n",
        "\n",
        "-   2단계: 복사하고 싶은 속성을 추려 복사가능한 틀을 만듬 (밈 초기\n",
        "    컨텐츠 // 클래스의 선언)\n",
        "\n",
        "-   3단계: 밈에서 다양한 컨텐츠를 재생산, 때로는 변형하여 재생산, 때로는\n",
        "    그것을 응용한 다른밈을 만듬 (밈화 // 클래스의 인스턴스화, 상속,\n",
        "    메소드오버라이딩)\n",
        "\n",
        "## “멈춰” 밈을 컨텐츠화\n",
        "\n",
        "`-` 멈춰 밈을 이용하여 코스피하락, 수강신청 매크로 등 다양한 예제를\n",
        "만들자"
      ],
      "id": "c031382e-2188-40b4-8cd7-b6ef1853091c"
    },
    {
      "cell_type": "code",
      "execution_count": 2,
      "metadata": {},
      "outputs": [],
      "source": [
        "from IPython.core.display import HTML"
      ],
      "id": "3e70fbbd-4c39-437f-a5e6-3fde7ae5af1b"
    },
    {
      "cell_type": "markdown",
      "metadata": {},
      "source": [
        "### 예비학습\n",
        "\n",
        "#### 문자열포맷팅 (문자열끼워넣기)\n",
        "\n",
        "`-` 예제1"
      ],
      "id": "5d7aaef9-0d25-45e9-a1b8-5731e0381519"
    },
    {
      "cell_type": "code",
      "execution_count": 4,
      "metadata": {},
      "outputs": [],
      "source": [
        "'제 이름은 {}입니다.'.format('보람')"
      ],
      "id": "70d39366-a23e-41f3-b830-278fadeeef2c"
    },
    {
      "cell_type": "markdown",
      "metadata": {},
      "source": [
        "`-`예제2"
      ],
      "id": "1958854e-7663-4daf-9e1d-4fe621376320"
    },
    {
      "cell_type": "code",
      "execution_count": 5,
      "metadata": {},
      "outputs": [],
      "source": [
        "'제 이름은 {}이고 사는 곳은 {}입니다.'.format('보람','전주')"
      ],
      "id": "195d6b16-558b-4fac-b8e5-dea03352bc71"
    },
    {
      "cell_type": "code",
      "execution_count": 6,
      "metadata": {},
      "outputs": [],
      "source": [
        "'제 이름은 {}이고 사는 곳은 {}입니다.'.format('전주','보람')"
      ],
      "id": "dd229e64-d083-40a2-af0c-701aa637b098"
    },
    {
      "cell_type": "markdown",
      "metadata": {},
      "source": [
        "`-`예제3"
      ],
      "id": "88d5f5ca-fe95-4a5d-ba42-9bc5efde07e5"
    },
    {
      "cell_type": "code",
      "execution_count": 7,
      "metadata": {},
      "outputs": [],
      "source": [
        "'제 이름은 {name}이고 사는 곳은 {add}입니다.'.format(name='보람',add='전주')"
      ],
      "id": "0181c2eb-cffa-4143-819a-e56a243644bc"
    },
    {
      "cell_type": "code",
      "execution_count": 9,
      "metadata": {},
      "outputs": [],
      "source": [
        "'제 이름은 {name}이고 사는 곳은 {add}입니다.'.format(add='전주',name='보람')"
      ],
      "id": "270d4c1c-2401-4bde-910c-83689620eaec"
    },
    {
      "cell_type": "markdown",
      "metadata": {},
      "source": [
        "#### HTML\n",
        "\n",
        "`-`예제1"
      ],
      "id": "71589ce4-e3a9-4a7e-9355-e5795f13bead"
    },
    {
      "cell_type": "code",
      "execution_count": 11,
      "metadata": {},
      "outputs": [],
      "source": [
        "HTML(\"<p> 이름 </p>\")"
      ],
      "id": "05db3cc5-e0ed-41a9-a4a4-680d315cb0f3"
    },
    {
      "cell_type": "markdown",
      "metadata": {},
      "source": [
        "`-`예제2"
      ],
      "id": "5fa171c1-f4a5-4cd0-bda3-483a6a07ca29"
    },
    {
      "cell_type": "code",
      "execution_count": 12,
      "metadata": {},
      "outputs": [],
      "source": [
        "HTML(\"<img src='https://stat.jbnu.ac.kr/sites/stat/atchmnfl_mngr/imageSlide/469/temp_1573001043314100.jpg'>\")"
      ],
      "id": "3ea2abdf-3900-41ca-b969-5948d0193e58"
    },
    {
      "cell_type": "markdown",
      "metadata": {},
      "source": [
        "`-` 예제3"
      ],
      "id": "8403ba43-4fd0-4a97-bf8d-69f7e02beb57"
    },
    {
      "cell_type": "code",
      "execution_count": 14,
      "metadata": {},
      "outputs": [],
      "source": [
        "HTML(\"<p> 전북대학교 </p><img src='https://stat.jbnu.ac.kr/sites/stat/atchmnfl_mngr/imageSlide/469/temp_1573001043314100.jpg'>\")"
      ],
      "id": "ed1ed23d-c440-45fa-aa10-9f4134714ef4"
    },
    {
      "cell_type": "markdown",
      "metadata": {},
      "source": [
        "#### HTML을 이용한 밈생성\n",
        "\n",
        "`-` 밈을 위한 이미지 주소"
      ],
      "id": "79ddb5d8-c8e8-4e9a-ab81-660325e60b8d"
    },
    {
      "cell_type": "code",
      "execution_count": 15,
      "metadata": {},
      "outputs": [],
      "source": [
        "url1='https://github.com/guebin/IP2022/blob/master/_notebooks/2022-05-07-stop1.jpeg?raw=true'\n",
        "url2='https://github.com/guebin/IP2022/blob/master/_notebooks/2022-05-07-stop2.png?raw=true'"
      ],
      "id": "be62ee76-9cbb-4ee9-a830-ee9f628b432d"
    },
    {
      "cell_type": "markdown",
      "metadata": {},
      "source": [
        "`-` 예제1: 원본"
      ],
      "id": "6d26b2ea-b8d5-4c83-93b4-552c6f830243"
    },
    {
      "cell_type": "code",
      "execution_count": 28,
      "metadata": {},
      "outputs": [],
      "source": [
        "htmlstr.format(title='학교폭력',url=url1,end='멈춰~~~~')"
      ],
      "id": "ecefc0f1-0564-44af-bcf3-f849e8a39f55"
    },
    {
      "cell_type": "code",
      "execution_count": 29,
      "metadata": {},
      "outputs": [],
      "source": [
        "htmlstr = \"<p> {title} </p> <img src='{url}'> <p> {end} </p>\"\n",
        "HTML(htmlstr.format(title='학교폭력',url=url1,end='멈춰~~~~'))"
      ],
      "id": "4a38d8b3-b1d3-43be-a734-834f5bb919bb"
    },
    {
      "cell_type": "markdown",
      "metadata": {},
      "source": [
        "`-` 예제2: 코스피하락 멈춰어"
      ],
      "id": "1989b933-d53e-4940-921e-e4f0b130253d"
    },
    {
      "cell_type": "code",
      "execution_count": 33,
      "metadata": {},
      "outputs": [],
      "source": [
        "HTML(htmlstr.format(title='코스피하락',url=url1,end='멈춰~~~~'))"
      ],
      "id": "a1daac90-6ac6-4cbb-aae9-a516d6e7ead0"
    },
    {
      "cell_type": "markdown",
      "metadata": {},
      "source": [
        "`-` 예제3: 매크로 멈춰어"
      ],
      "id": "06fbc360-20be-4c07-bbff-cf338390f854"
    },
    {
      "cell_type": "code",
      "execution_count": 32,
      "metadata": {},
      "outputs": [],
      "source": [
        "HTML(htmlstr.format(title='수강신청매크로',url=url1,end='멈춰~~~~'))"
      ],
      "id": "fa826dd3-1e5f-41d6-8aa6-9abd61c52d92"
    },
    {
      "cell_type": "markdown",
      "metadata": {},
      "source": [
        "### 함수를 만들어서 코드를 관리\n",
        "\n",
        "`-` 함수의 선언"
      ],
      "id": "c560a200-e9c6-42df-a4d1-b61b466565cd"
    },
    {
      "cell_type": "code",
      "execution_count": 43,
      "metadata": {},
      "outputs": [],
      "source": [
        "def stop():\n",
        "    htmlstr = \"<p> {title} </p> <img src='{url}'> <p> {end} </p>\"\n",
        "    display(HTML(htmlstr.format(title=ttl,url=url,end=end)))   #display로 받아주는게 좋다\n",
        "    "
      ],
      "id": "25a48cab-287e-40f0-a6b8-6fb13322aba3"
    },
    {
      "cell_type": "markdown",
      "metadata": {},
      "source": [
        "`-` 사용"
      ],
      "id": "433e414d-d28b-4e3c-8668-14dba1604a84"
    },
    {
      "cell_type": "code",
      "execution_count": 38,
      "metadata": {},
      "outputs": [],
      "source": [
        "ttl = '돈쓰는거'\n",
        "url = url1\n",
        "end = '멈춰 ㅠ'\n",
        "stop()"
      ],
      "id": "83b2209b-4411-465a-8737-20df1fd11ba7"
    },
    {
      "cell_type": "code",
      "execution_count": 40,
      "metadata": {},
      "outputs": [],
      "source": [
        "ttl = '술담배'\n",
        "url = url1\n",
        "end = '멈춰!'\n",
        "stop()"
      ],
      "id": "63b065f4-d2cd-41cb-a834-201df2601f43"
    },
    {
      "cell_type": "code",
      "execution_count": 42,
      "metadata": {},
      "outputs": [],
      "source": [
        "ttl = '코코 주워먹는거'\n",
        "url = url2\n",
        "end = '멈춰!!!!!'\n",
        "stop()"
      ],
      "id": "85961f5f-c914-48bb-8052-75a30738d1a3"
    },
    {
      "cell_type": "markdown",
      "metadata": {},
      "source": [
        "### 클래스를 만들어서 관리"
      ],
      "id": "f0bfae9a-6625-4a4c-b66e-71333f389b25"
    },
    {
      "cell_type": "code",
      "execution_count": 52,
      "metadata": {},
      "outputs": [],
      "source": [
        "class STOOOP: #STOOOP은 양식문서의 이름이라 생각하자.\n",
        "    title = \"학교폭력\"\n",
        "    url = url1\n",
        "    end = \"멈춰~~~~\"\n",
        "    def stop(self):  # 규칙1: class안에서 정의된 함수는 첫번째 입력으로 무조건 self를 받는다.\n",
        "        htmlstr = \"<p> {title} </p> <img src='{url}'> <p> {end} </p>\"\n",
        "        display(HTML(htmlstr.format(title=self.title,url=self.url,end=self.end))) \n",
        "        # 규칙2: class안에서 정의된 변수 (title, url, end)를 쓰려면 \"self.변수이름\"의 형태로 써야함"
      ],
      "id": "9cb15a20-5713-4024-9dfd-cacb22e1f260"
    },
    {
      "cell_type": "markdown",
      "metadata": {},
      "source": [
        "#### t=1 학교폭력멈춰"
      ],
      "id": "2dbcec6b-1344-4ff3-b0eb-80d474162711"
    },
    {
      "cell_type": "code",
      "execution_count": 59,
      "metadata": {},
      "outputs": [],
      "source": [
        "school = STOOOP()   \n",
        "\n",
        "# STOOOP이라는 이름의 양식문서를 복사해 하나의 hwp 파일을 만들어 밈을 생성하고 그 파일이름을 school이라고 하자.\n",
        "# 그러니가 STOOP.hwp 와 school.hwp가 잇다.."
      ],
      "id": "2e649f69-012c-4516-b781-e341e5af8b53"
    },
    {
      "cell_type": "code",
      "execution_count": 54,
      "metadata": {},
      "outputs": [],
      "source": [
        "school.title"
      ],
      "id": "e19b6c9a-1ad9-4a27-893b-b243674e8acd"
    },
    {
      "cell_type": "code",
      "execution_count": 55,
      "metadata": {},
      "outputs": [],
      "source": [
        "school.url"
      ],
      "id": "b70f2d33-91ac-446b-85e6-1c87138a13cc"
    },
    {
      "cell_type": "code",
      "execution_count": 56,
      "metadata": {},
      "outputs": [],
      "source": [
        "school.end"
      ],
      "id": "3753507b-e3c0-49f9-96da-747221b6fe65"
    },
    {
      "cell_type": "code",
      "execution_count": 57,
      "metadata": {},
      "outputs": [],
      "source": [
        "school.stop()"
      ],
      "id": "470c14ae-f235-41a3-aadc-bbc33b5fec87"
    },
    {
      "cell_type": "markdown",
      "metadata": {},
      "source": [
        "#### t=2 코스피하락멈춰"
      ],
      "id": "29fd3445-d9d9-4ee1-81e5-f0e9b8642dd2"
    },
    {
      "cell_type": "code",
      "execution_count": 60,
      "metadata": {},
      "outputs": [],
      "source": [
        "kospi = STOOOP() # 코스피하락 멈춰를 위해 STOOP.hwp양식문서에서 하나의 밈을 찍어낸다. (kospi.hwp)\n",
        "kospi.title = '코스피하락' #제목변경\n"
      ],
      "id": "a6d35916-2de3-4cfe-99d3-b460dc259ab8"
    },
    {
      "cell_type": "code",
      "execution_count": 61,
      "metadata": {},
      "outputs": [],
      "source": [
        "kospi.stop()"
      ],
      "id": "007075b1-9b38-4584-80b4-21732c508fea"
    },
    {
      "cell_type": "markdown",
      "metadata": {},
      "source": [
        "#### t=3 수강신청매크로 멈춰"
      ],
      "id": "339677f1-91db-405a-adca-5026bdbdc31f"
    },
    {
      "cell_type": "code",
      "execution_count": 62,
      "metadata": {},
      "outputs": [],
      "source": [
        "macro = STOOOP()"
      ],
      "id": "85594fa9-a33a-4ee6-aa95-68fbe7b18b04"
    },
    {
      "cell_type": "code",
      "execution_count": 63,
      "metadata": {},
      "outputs": [],
      "source": [
        "macro.title, macro.url, macro.end"
      ],
      "id": "1ebb2900-5877-4b86-a552-d05f1199084b"
    },
    {
      "cell_type": "code",
      "execution_count": 64,
      "metadata": {},
      "outputs": [],
      "source": [
        "macro.title = \"수강신청매크로\""
      ],
      "id": "a5762f80-beb8-4f94-aaef-a86ae3f4d626"
    },
    {
      "cell_type": "code",
      "execution_count": 65,
      "metadata": {},
      "outputs": [],
      "source": [
        "macro.stop()"
      ],
      "id": "9d2a1b73-b73c-4cf3-b5da-5caad1f5d30b"
    },
    {
      "cell_type": "markdown",
      "metadata": {},
      "source": [
        "#### t=4 수강신청 매크로 멈춰 끝 물결대신 느낌표"
      ],
      "id": "9ee1e26b-b0c1-48af-8331-3eda9c934f73"
    },
    {
      "cell_type": "code",
      "execution_count": 66,
      "metadata": {},
      "outputs": [],
      "source": [
        "macro.end = \"멈춰!!!!!!!!\""
      ],
      "id": "be7bae4c-bd52-4dc5-b6de-028da508203b"
    },
    {
      "cell_type": "code",
      "execution_count": 67,
      "metadata": {},
      "outputs": [],
      "source": [
        "macro.title, macro.url, macro.end"
      ],
      "id": "30c15ad9-5566-4653-af09-ba7e059cd872"
    },
    {
      "cell_type": "code",
      "execution_count": 68,
      "metadata": {},
      "outputs": [],
      "source": [
        "macro.stop()"
      ],
      "id": "9e81dfe9-9f4f-4da8-bf45-52d2299e062e"
    },
    {
      "cell_type": "markdown",
      "metadata": {},
      "source": [
        "#### t=5 코스피하락 다시 출력 (함수와 비교했을때 실수 발생x)"
      ],
      "id": "bd32c802-3a5c-48b2-8ded-91eb0175e084"
    },
    {
      "cell_type": "code",
      "execution_count": 69,
      "metadata": {},
      "outputs": [],
      "source": [
        "kospi.stop()"
      ],
      "id": "f541ae60-858f-4ec5-b71b-8a06bdfa40c5"
    },
    {
      "cell_type": "markdown",
      "metadata": {},
      "source": [
        "#### t=6 학교폭력 멈춰와 코스피하락 멈춰 동시에 출력"
      ],
      "id": "dc1651fb-e8d3-479d-b419-83e9c4224d33"
    },
    {
      "cell_type": "code",
      "execution_count": 70,
      "metadata": {},
      "outputs": [],
      "source": [
        "school.stop()"
      ],
      "id": "65c4130c-98d0-48b7-a6e7-9b2d72d3b117"
    },
    {
      "cell_type": "code",
      "execution_count": 71,
      "metadata": {},
      "outputs": [],
      "source": [
        "kospi.stop()"
      ],
      "id": "7b8e2927-0ce3-42dd-aeba-08ddbaf03c7c"
    },
    {
      "cell_type": "markdown",
      "metadata": {},
      "source": [
        "#### t=7 “학교폭력 멈춰”의 이미지를 신혜선으로 변경, “코스피하락 멈춰”의 title을 ’KOSPI하락’으로 변경"
      ],
      "id": "c05d2ea0-93b8-4dae-9a3e-0801594906f3"
    },
    {
      "cell_type": "code",
      "execution_count": 72,
      "metadata": {},
      "outputs": [],
      "source": [
        "school.url = url2\n",
        "kospi.title = \"KOSPI하락\""
      ],
      "id": "3b9cef6d-6485-4688-a2bb-6f89c4e79908"
    },
    {
      "cell_type": "code",
      "execution_count": 73,
      "metadata": {},
      "outputs": [],
      "source": [
        "school.stop()"
      ],
      "id": "98a1e668-991d-4cbc-8b22-88741abc97f8"
    },
    {
      "cell_type": "code",
      "execution_count": 74,
      "metadata": {},
      "outputs": [],
      "source": [
        "kospi.stop()"
      ],
      "id": "ce13aba0-b533-47dd-b193-6bf3859e5467"
    },
    {
      "cell_type": "markdown",
      "metadata": {},
      "source": [
        "### 숙제\n",
        "\n",
        "“수강신청 멈춰”의 이미지를 신혜선으로 변경하고 출력해볼 것\n",
        "\n",
        "macro.url 변경 macro.stop() 을 사용"
      ],
      "id": "64f18314-a094-4b40-856a-022c80641299"
    },
    {
      "cell_type": "code",
      "execution_count": 75,
      "metadata": {},
      "outputs": [],
      "source": [
        "macro.url=url2"
      ],
      "id": "48914bab-9eac-4d79-a04d-f82cda3ebeab"
    },
    {
      "cell_type": "code",
      "execution_count": 76,
      "metadata": {},
      "outputs": [],
      "source": [
        "macro.stop()"
      ],
      "id": "90611d79-6261-4014-8e12-ddb9e3442389"
    }
  ],
  "nbformat": 4,
  "nbformat_minor": 5,
  "metadata": {
    "kernelspec": {
      "name": "python3",
      "display_name": "Python 3",
      "language": "python"
    },
    "language_info": {
      "name": "python",
      "codemirror_mode": {
        "name": "ipython",
        "version": "3"
      },
      "file_extension": ".py",
      "mimetype": "text/x-python",
      "nbconvert_exporter": "python",
      "pygments_lexer": "ipython3",
      "version": "3.7.16"
    }
  }
}