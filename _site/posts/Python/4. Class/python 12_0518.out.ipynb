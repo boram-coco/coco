{
  "cells": [
    {
      "cell_type": "markdown",
      "metadata": {},
      "source": [
        "# 파이썬 (0518) 12주차\n",
        "\n",
        "김보람  \n",
        "2022-05-18\n",
        "\n",
        "## 클래스 공부 3단계\n",
        "\n",
        "`-` 클래스 오브젝트에 소속된 변수와 인스턴스오브젝트에 소속된 변수를\n",
        "설명한다.\n",
        "\n",
        "### 오브젝트의 개념\n",
        "\n",
        "`-` 파이썬은 모든 것이 오브젝트로 이루어져 있다. \\<- 우선은 그냥\n",
        "명언처럼 외우자\n",
        "\n",
        "`-` 오브젝트는 메모리 주소에 저장되는 모든 것을 의미한다."
      ],
      "id": "40dd62b3-6bb4-4600-805a-e44f2819259d"
    },
    {
      "cell_type": "code",
      "execution_count": 3,
      "metadata": {},
      "outputs": [],
      "source": [
        "a=1\n",
        "id(a)  # 메모리주소를 보는 명령어"
      ],
      "id": "45836e85-7dc9-41ea-98c1-b1afb5e32d54"
    },
    {
      "cell_type": "code",
      "execution_count": 4,
      "metadata": {},
      "outputs": [],
      "source": [
        "a='asdf'\n",
        "id(a)"
      ],
      "id": "2ef24218-67ba-47fc-a976-794e639bdb9a"
    },
    {
      "cell_type": "code",
      "execution_count": 5,
      "metadata": {},
      "outputs": [],
      "source": [
        "a=[1,2,3]\n",
        "id(a)"
      ],
      "id": "4dbe039b-5074-4169-bcb0-4d1624f391e4"
    },
    {
      "cell_type": "markdown",
      "metadata": {},
      "source": [
        "`-` 클래스와 인스턴스도 오브젝트이다."
      ],
      "id": "abfa00d5-cc2e-4249-ba25-783023386b15"
    },
    {
      "cell_type": "code",
      "execution_count": 8,
      "metadata": {},
      "outputs": [],
      "source": [
        "class A:\n",
        "    x=0\n",
        "    def f(self):\n",
        "        print(self.x)"
      ],
      "id": "a60d7bdd-11de-4f2d-a0d6-bc4a97580fc4"
    },
    {
      "cell_type": "markdown",
      "metadata": {},
      "source": [
        "-   A는 오브젝트"
      ],
      "id": "e0762621-d7a5-41a9-a73d-be1bf6aea0c8"
    },
    {
      "cell_type": "code",
      "execution_count": 9,
      "metadata": {},
      "outputs": [],
      "source": [
        "id(A)"
      ],
      "id": "8e45cc17-ef44-4845-a927-e8ff34f4367d"
    },
    {
      "cell_type": "markdown",
      "metadata": {},
      "source": [
        "-   a는 오브젝트"
      ],
      "id": "61e14edb-5d70-447d-b1f4-823426f4aa27"
    },
    {
      "cell_type": "code",
      "execution_count": 11,
      "metadata": {},
      "outputs": [],
      "source": [
        "a=A()\n",
        "id(a)"
      ],
      "id": "1bc8e505-6475-48d2-af36-41831d0b2a57"
    },
    {
      "cell_type": "markdown",
      "metadata": {},
      "source": [
        "-   b는 오브젝트"
      ],
      "id": "7b417d72-7f7b-4424-bdb0-583ff7d24a14"
    },
    {
      "cell_type": "code",
      "execution_count": 12,
      "metadata": {},
      "outputs": [],
      "source": [
        "b=A()\n",
        "id(b)"
      ],
      "id": "2a9e8441-02a8-437b-9b57-161a15a7fc37"
    },
    {
      "cell_type": "markdown",
      "metadata": {},
      "source": [
        "`-` 앞으로는 A를 클래스오브젝트, a,b를 인스턴스 오브젝트라고 부르자.\n",
        "\n",
        "### 예제1 : 클래스변수, 인스턴스변수\n",
        "\n",
        "`-` 시점0"
      ],
      "id": "74399544-eec9-450e-83b0-afdd8bb4f56c"
    },
    {
      "cell_type": "code",
      "execution_count": 31,
      "metadata": {},
      "outputs": [],
      "source": [
        "class A:\n",
        "    x=0\n",
        "    y=0\n",
        "    def f(self):\n",
        "        self.x=self.x + 1\n",
        "        A.y = A.y + 1\n",
        "        # self.y = self.y + 1 이렇게 안쓰고 위에처럼 써보자!\n",
        "        print(\"현재 인스턴스에서 f가 {}번 실행\".format(self.x))\n",
        "        print(\"A클래스에서 만들어진 모든 인스턴스들에서 f가 총 {}번 실행\".format(self.y))\n"
      ],
      "id": "a812a844-b0d9-460c-8cdc-9323080d890f"
    },
    {
      "cell_type": "code",
      "execution_count": 32,
      "metadata": {},
      "outputs": [],
      "source": [
        "id(A)"
      ],
      "id": "218ab466-bdd4-444d-849e-b3bb4b0e3035"
    },
    {
      "cell_type": "code",
      "execution_count": 33,
      "metadata": {},
      "outputs": [],
      "source": [
        "A.x, A.y"
      ],
      "id": "fafe4e16-8e78-468a-b632-a7519bff3802"
    },
    {
      "cell_type": "markdown",
      "metadata": {},
      "source": [
        "`-` 시점1"
      ],
      "id": "09824508-385a-40d1-b51e-7dcd4f2b0ab8"
    },
    {
      "cell_type": "code",
      "execution_count": 34,
      "metadata": {},
      "outputs": [],
      "source": [
        "a= A()\n",
        "b= A()"
      ],
      "id": "2324abba-581c-47da-8ae0-1f8f38dc39d5"
    },
    {
      "cell_type": "code",
      "execution_count": 35,
      "metadata": {},
      "outputs": [],
      "source": [
        "[A.x, A.y], [a.x, a.y], [b.x, b.y]"
      ],
      "id": "705864cc-1755-4189-a9b3-190855160552"
    },
    {
      "cell_type": "markdown",
      "metadata": {},
      "source": [
        "`-` 시점2"
      ],
      "id": "dd015dce-5cef-4279-a42a-b42619a8a25f"
    },
    {
      "cell_type": "code",
      "execution_count": 36,
      "metadata": {},
      "outputs": [
        {
          "output_type": "stream",
          "name": "stdout",
          "text": [
            "현재 인스턴스에서 f가 1번 실행\n",
            "A클래스에서 만들어진 모든 인스턴스들에서 f가 총 1번 실행"
          ]
        }
      ],
      "source": [
        "a.f()"
      ],
      "id": "f01517bd-0aa1-4876-9ba8-6159ef3d23e6"
    },
    {
      "cell_type": "code",
      "execution_count": 37,
      "metadata": {},
      "outputs": [],
      "source": [
        "[A.x, A.y], [a.x, a.y], [b.x, b.y]"
      ],
      "id": "1b6b1162-0cc9-4d95-b87e-99b6899be09b"
    },
    {
      "cell_type": "markdown",
      "metadata": {},
      "source": [
        "`-` 시점3"
      ],
      "id": "d330fb25-b983-4371-82fe-dbe202efc77f"
    },
    {
      "cell_type": "code",
      "execution_count": 38,
      "metadata": {},
      "outputs": [
        {
          "output_type": "stream",
          "name": "stdout",
          "text": [
            "현재 인스턴스에서 f가 1번 실행\n",
            "A클래스에서 만들어진 모든 인스턴스들에서 f가 총 2번 실행"
          ]
        }
      ],
      "source": [
        "b.f()"
      ],
      "id": "94c074e4-ac8c-453a-b8da-4bcf56dcea37"
    },
    {
      "cell_type": "code",
      "execution_count": 39,
      "metadata": {},
      "outputs": [],
      "source": [
        "[A.x, A.y], [a.x, a.y], [b.x, b.y]"
      ],
      "id": "e09e1cb4-b8df-4904-a26d-ddc82e80414e"
    },
    {
      "cell_type": "markdown",
      "metadata": {},
      "source": [
        "`-` 시점4"
      ],
      "id": "e91a94eb-2fab-4c99-a9d8-f15a5159cfa2"
    },
    {
      "cell_type": "code",
      "execution_count": 40,
      "metadata": {},
      "outputs": [
        {
          "output_type": "stream",
          "name": "stdout",
          "text": [
            "현재 인스턴스에서 f가 2번 실행\n",
            "A클래스에서 만들어진 모든 인스턴스들에서 f가 총 3번 실행"
          ]
        }
      ],
      "source": [
        "b.f()"
      ],
      "id": "9429f1f2-49f2-40cb-a3d2-4217f50bd0ef"
    },
    {
      "cell_type": "code",
      "execution_count": 41,
      "metadata": {},
      "outputs": [],
      "source": [
        "[A.x, A.y], [a.x, a.y], [b.x, b.y]"
      ],
      "id": "abc10827-1b0a-4b93-8243-fe07cb7b611a"
    },
    {
      "cell_type": "markdown",
      "metadata": {},
      "source": [
        "`-` 시점5"
      ],
      "id": "fddd623b-436f-4929-b454-01ddebfff29f"
    },
    {
      "cell_type": "code",
      "execution_count": 42,
      "metadata": {},
      "outputs": [
        {
          "output_type": "stream",
          "name": "stdout",
          "text": [
            "현재 인스턴스에서 f가 2번 실행\n",
            "A클래스에서 만들어진 모든 인스턴스들에서 f가 총 4번 실행"
          ]
        }
      ],
      "source": [
        "a.f()"
      ],
      "id": "46b74abd-a38d-4189-8b78-d4f130423856"
    },
    {
      "cell_type": "code",
      "execution_count": 43,
      "metadata": {},
      "outputs": [],
      "source": [
        "[A.x, A.y], [a.x, a.y], [b.x, b.y]"
      ],
      "id": "2cbd9432-d5ce-4e4d-9867-c6c5f7b72594"
    },
    {
      "cell_type": "markdown",
      "metadata": {},
      "source": [
        "`-` 시점6"
      ],
      "id": "65f7325b-7527-4ed5-8efb-39a17f5b9d1c"
    },
    {
      "cell_type": "code",
      "execution_count": 44,
      "metadata": {},
      "outputs": [],
      "source": [
        "c=A()"
      ],
      "id": "4c67dfa6-7eb3-4842-8ee1-0f4f5b1cb1c6"
    },
    {
      "cell_type": "code",
      "execution_count": 45,
      "metadata": {},
      "outputs": [],
      "source": [
        "[A.x, A.y], [a.x, a.y], [b.x, b.y], [c.x, c.y]"
      ],
      "id": "e043d60e-960e-4df7-8352-3f5b22c10f75"
    },
    {
      "cell_type": "markdown",
      "metadata": {},
      "source": [
        "`-` 시점7"
      ],
      "id": "b370ada4-d05d-4a10-9f6c-632e032ff504"
    },
    {
      "cell_type": "code",
      "execution_count": 46,
      "metadata": {},
      "outputs": [
        {
          "output_type": "stream",
          "name": "stdout",
          "text": [
            "현재 인스턴스에서 f가 1번 실행\n",
            "A클래스에서 만들어진 모든 인스턴스들에서 f가 총 5번 실행"
          ]
        }
      ],
      "source": [
        "c.f()"
      ],
      "id": "9744fef2-8fca-400c-998d-72f6128cb922"
    },
    {
      "cell_type": "code",
      "execution_count": 47,
      "metadata": {},
      "outputs": [],
      "source": [
        "[A.x, A.y], [a.x, a.y], [b.x, b.y], [c.x, c.y]"
      ],
      "id": "f035841a-b629-4e68-8e4e-d9c546e12fac"
    },
    {
      "cell_type": "markdown",
      "metadata": {},
      "source": [
        "`-` 신기한점: 각 인스턴스에서 `인스턴스이름.f()`를 실행한 횟수를 서로\n",
        "공유하는 듯 하다. (A가 관리하는 것처럼 느껴진다.)\n",
        "\n",
        "`-` x와 y는 약간 느낌이 다르다. x는 지점소속, y는 본사소속의 느낌?\n",
        "\n",
        "> 이 예제에서 x는 인스턴스오브젝트에 소속된 변수, y는 클래스 오브젝트에\n",
        "> 소속된 변수처럼 느껴짐\n",
        "\n",
        "(약속) 앞으로는 인스턴스 오브젝트에 소속된 변수를 인스턴스 변수라고\n",
        "하고, 클래스 오브젝트에 소속된 변수를 클래스 변수라고 하자.\n",
        "\n",
        "`-` 인스턴스 변수와 클래스 변수를 구분하는 방법?\n",
        "`인스턴스이름.__dict__`를 쓰면 인스턴스 변수만 출력된다.\n",
        "\n",
        "-   따라서 a. + tab을 눌러서 나오는 변수중 `a.__dict__`에 출력되지\n",
        "    않으면 클래스 변수이다."
      ],
      "id": "daef7975-973e-44b7-b260-a5dffc03dc7c"
    },
    {
      "cell_type": "code",
      "execution_count": 51,
      "metadata": {},
      "outputs": [],
      "source": [
        "a.__dict__"
      ],
      "id": "fba34bc2-db49-4f72-9465-9831ef5e90e2"
    },
    {
      "cell_type": "code",
      "execution_count": 52,
      "metadata": {},
      "outputs": [],
      "source": [
        "b.__dict__"
      ],
      "id": "2f005c87-7784-4a12-a2fc-2fd98b75d5fc"
    },
    {
      "cell_type": "code",
      "execution_count": 53,
      "metadata": {},
      "outputs": [],
      "source": [
        "c.__dict__"
      ],
      "id": "b161080f-8bf7-4fb4-8814-a51f14d9dbcb"
    },
    {
      "cell_type": "markdown",
      "metadata": {},
      "source": [
        "`-` 이 예제에서 아래는 모두 클래스 변수이다."
      ],
      "id": "37caea2b-4d24-4c50-9f97-2a5933ff6978"
    },
    {
      "cell_type": "code",
      "execution_count": 54,
      "metadata": {},
      "outputs": [],
      "source": [
        "a.y, b.y, c.y"
      ],
      "id": "a80be837-35b6-4b5a-a108-5a79f5d7169b"
    },
    {
      "cell_type": "markdown",
      "metadata": {},
      "source": [
        "### 예제2: 인스턴스에서 인스턴스 변수 x 변경 (변경 가능)\n",
        "\n",
        "`-` 시점0"
      ],
      "id": "59b4b25d-2a71-4c7d-9c02-2131f427979c"
    },
    {
      "cell_type": "code",
      "execution_count": 55,
      "metadata": {},
      "outputs": [],
      "source": [
        "class A:\n",
        "    x=0\n",
        "    y=0\n",
        "    def f(self):\n",
        "        self.x=self.x + 1\n",
        "        A.y = A.y + 1\n",
        "        # self.y = self.y + 1 이렇게 안쓰고 위에처럼 써보자!\n",
        "        print(\"현재 인스턴스에서 f가 {}번 실행\".format(self.x))\n",
        "        print(\"A클래스에서 만들어진 모든 인스턴스들에서 f가 총 {}번 실행\".format(self.y))\n"
      ],
      "id": "87599832-72fc-41c9-b59c-4c284bdd9f63"
    },
    {
      "cell_type": "code",
      "execution_count": 56,
      "metadata": {},
      "outputs": [],
      "source": [
        "a=A()"
      ],
      "id": "efa8da9f-8a41-4007-84d7-cb4baaf5b421"
    },
    {
      "cell_type": "code",
      "execution_count": 57,
      "metadata": {},
      "outputs": [],
      "source": [
        "[A.x, A.y], [a.x, a.y]"
      ],
      "id": "78722a44-8547-4451-9770-6af8cf2a65f8"
    },
    {
      "cell_type": "markdown",
      "metadata": {},
      "source": [
        "`-` 시점1"
      ],
      "id": "719a4af1-05dd-40d2-a4ab-f9466122af37"
    },
    {
      "cell_type": "code",
      "execution_count": 58,
      "metadata": {},
      "outputs": [
        {
          "output_type": "stream",
          "name": "stdout",
          "text": [
            "현재 인스턴스에서 f가 1번 실행\n",
            "A클래스에서 만들어진 모든 인스턴스들에서 f가 총 1번 실행"
          ]
        }
      ],
      "source": [
        "a.f()"
      ],
      "id": "8e465a6e-7cb6-479b-9cab-c608f1c9a15b"
    },
    {
      "cell_type": "code",
      "execution_count": 59,
      "metadata": {},
      "outputs": [
        {
          "output_type": "stream",
          "name": "stdout",
          "text": [
            "현재 인스턴스에서 f가 2번 실행\n",
            "A클래스에서 만들어진 모든 인스턴스들에서 f가 총 2번 실행"
          ]
        }
      ],
      "source": [
        "a.f()"
      ],
      "id": "c8ee9398-fc9c-4fbe-9b5d-ceb8909e8c4a"
    },
    {
      "cell_type": "code",
      "execution_count": 60,
      "metadata": {},
      "outputs": [
        {
          "output_type": "stream",
          "name": "stdout",
          "text": [
            "현재 인스턴스에서 f가 3번 실행\n",
            "A클래스에서 만들어진 모든 인스턴스들에서 f가 총 3번 실행"
          ]
        }
      ],
      "source": [
        "a.f()"
      ],
      "id": "36f83e0a-6623-4835-bc82-45aef5e209dd"
    },
    {
      "cell_type": "code",
      "execution_count": 61,
      "metadata": {},
      "outputs": [],
      "source": [
        "[A.x,A.y], [a.x, a.y]"
      ],
      "id": "ca6a747c-55f3-4d5c-88a9-2327e7a27ab5"
    },
    {
      "cell_type": "markdown",
      "metadata": {},
      "source": [
        "`-` 시점2"
      ],
      "id": "9bfbf114-243e-4252-9350-6bc7c4e70097"
    },
    {
      "cell_type": "code",
      "execution_count": 63,
      "metadata": {},
      "outputs": [],
      "source": [
        "a.x = 0 # f의 실행기록을 초기화 하고 싶다."
      ],
      "id": "fbc767ef-1c59-4f2f-b003-94621b04c1f2"
    },
    {
      "cell_type": "code",
      "execution_count": 64,
      "metadata": {},
      "outputs": [
        {
          "output_type": "stream",
          "name": "stdout",
          "text": [
            "현재 인스턴스에서 f가 1번 실행\n",
            "A클래스에서 만들어진 모든 인스턴스들에서 f가 총 4번 실행"
          ]
        }
      ],
      "source": [
        "a.f()"
      ],
      "id": "4dc97984-84ad-443d-9240-6f63acab390c"
    },
    {
      "cell_type": "code",
      "execution_count": 65,
      "metadata": {},
      "outputs": [],
      "source": [
        "[A.x,A.y], [a.x, a.y]"
      ],
      "id": "56ed1476-f405-4eda-8561-45a8ec9b64a3"
    },
    {
      "cell_type": "markdown",
      "metadata": {},
      "source": [
        "### 예제3: 클래스에서 클래스 변수 y 변경 (변경가능)"
      ],
      "id": "14076637-66b9-4b8b-8e68-f6b6b8fe9d13"
    },
    {
      "cell_type": "code",
      "execution_count": 66,
      "metadata": {},
      "outputs": [],
      "source": [
        "class A:\n",
        "    x=0\n",
        "    y=0\n",
        "    def f(self):\n",
        "        self.x=self.x + 1\n",
        "        A.y = A.y + 1\n",
        "        # self.y = self.y + 1 이렇게 안쓰고 위에처럼 써보자!\n",
        "        print(\"현재 인스턴스에서 f가 {}번 실행\".format(self.x))\n",
        "        print(\"A클래스에서 만들어진 모든 인스턴스들에서 f가 총 {}번 실행\".format(self.y))\n"
      ],
      "id": "31725070-f57a-40aa-b9a4-1c690eec3a14"
    },
    {
      "cell_type": "code",
      "execution_count": 67,
      "metadata": {},
      "outputs": [],
      "source": [
        "a=A()"
      ],
      "id": "fd285437-f2a6-47bb-ab19-65c5562bb477"
    },
    {
      "cell_type": "code",
      "execution_count": 68,
      "metadata": {},
      "outputs": [],
      "source": [
        "b=A()"
      ],
      "id": "1ab32cd5-4319-4abe-9e9f-a9cdc61dc415"
    },
    {
      "cell_type": "code",
      "execution_count": 69,
      "metadata": {},
      "outputs": [],
      "source": [
        "[A.x, A.y], [a.x, a.y], [b.x, b.y]"
      ],
      "id": "78f95b93-5a5e-49cb-9021-fd6f5fa090dc"
    },
    {
      "cell_type": "markdown",
      "metadata": {},
      "source": [
        "`-` 시점1"
      ],
      "id": "7c7213e1-4fd4-4c80-8db4-24b76865cdd3"
    },
    {
      "cell_type": "code",
      "execution_count": 70,
      "metadata": {},
      "outputs": [
        {
          "output_type": "stream",
          "name": "stdout",
          "text": [
            "현재 인스턴스에서 f가 1번 실행\n",
            "A클래스에서 만들어진 모든 인스턴스들에서 f가 총 1번 실행"
          ]
        }
      ],
      "source": [
        "a.f()"
      ],
      "id": "04c9a07e-53a9-4ed7-a498-ed393e68d614"
    },
    {
      "cell_type": "code",
      "execution_count": 71,
      "metadata": {},
      "outputs": [],
      "source": [
        "[A.x, A.y], [a.x, a.y], [b.x, b.y]"
      ],
      "id": "ed804bf8-6faf-48e8-884e-56ae08e636bf"
    },
    {
      "cell_type": "markdown",
      "metadata": {},
      "source": [
        "`-` 시점2"
      ],
      "id": "f5215974-6a25-4a6e-a1f2-aed1f0b8b3c7"
    },
    {
      "cell_type": "code",
      "execution_count": 73,
      "metadata": {},
      "outputs": [],
      "source": [
        "A.y = 100"
      ],
      "id": "6ec407d8-12a4-48a7-b6f3-b884d39e5084"
    },
    {
      "cell_type": "code",
      "execution_count": 74,
      "metadata": {},
      "outputs": [],
      "source": [
        "[A.x, A.y], [a.x, a.y], [b.x, b.y]"
      ],
      "id": "89161bc8-5978-40dd-80d4-b23748550457"
    },
    {
      "cell_type": "code",
      "execution_count": 75,
      "metadata": {},
      "outputs": [
        {
          "output_type": "stream",
          "name": "stdout",
          "text": [
            "현재 인스턴스에서 f가 2번 실행\n",
            "A클래스에서 만들어진 모든 인스턴스들에서 f가 총 101번 실행"
          ]
        }
      ],
      "source": [
        "a.f()"
      ],
      "id": "85a894b8-d2c3-43a0-a535-12d22db8d8c1"
    },
    {
      "cell_type": "markdown",
      "metadata": {},
      "source": [
        "### 예제4: 클래스에서 클래스 변수 x 변경 (변경가능)"
      ],
      "id": "e4fd96fd-f3be-4a23-be4d-ae3806c40f48"
    },
    {
      "cell_type": "code",
      "execution_count": 90,
      "metadata": {},
      "outputs": [],
      "source": [
        "class A:\n",
        "    x=0\n",
        "    y=0\n",
        "    def f(self):\n",
        "        self.x=self.x + 1\n",
        "        A.y = A.y + 1\n",
        "        # self.y = self.y + 1 이렇게 안쓰고 위에처럼 써보자!\n",
        "        print(\"현재 인스턴스에서 f가 {}번 실행\".format(self.x))\n",
        "        print(\"A클래스에서 만들어진 모든 인스턴스들에서 f가 총 {}번 실행\".format(self.y))\n"
      ],
      "id": "9556974f-2df7-49db-b81f-045e5610636d"
    },
    {
      "cell_type": "code",
      "execution_count": 91,
      "metadata": {},
      "outputs": [],
      "source": [
        "a=A()"
      ],
      "id": "d8beb687-7862-480f-98b9-705a53ef1907"
    },
    {
      "cell_type": "code",
      "execution_count": 92,
      "metadata": {},
      "outputs": [],
      "source": [
        "[A.x, A.y], [a.x, a.y]"
      ],
      "id": "b88bb015-5ea2-4934-be79-d32425f2e35a"
    },
    {
      "cell_type": "markdown",
      "metadata": {},
      "source": [
        "`-` 시점1"
      ],
      "id": "c67c078b-7834-4643-b432-a84e918fc820"
    },
    {
      "cell_type": "code",
      "execution_count": 93,
      "metadata": {},
      "outputs": [
        {
          "output_type": "stream",
          "name": "stdout",
          "text": [
            "현재 인스턴스에서 f가 1번 실행\n",
            "A클래스에서 만들어진 모든 인스턴스들에서 f가 총 1번 실행"
          ]
        }
      ],
      "source": [
        "a.f()"
      ],
      "id": "4154705d-3cd5-4eb5-945a-537b96bc9cfc"
    },
    {
      "cell_type": "code",
      "execution_count": 94,
      "metadata": {},
      "outputs": [],
      "source": [
        "[A.x, A.y], [a.x, a.y]"
      ],
      "id": "d520b475-f72b-49da-9856-789c8b0f91b2"
    },
    {
      "cell_type": "markdown",
      "metadata": {},
      "source": [
        "`-` 시점2"
      ],
      "id": "b2d39a94-5ac5-4cda-9477-348084ac1c77"
    },
    {
      "cell_type": "code",
      "execution_count": 95,
      "metadata": {},
      "outputs": [],
      "source": [
        "A.x = 100   # 이렇게 되면 앞으로 만들어진 인스턴스튼 기본적으로 현재 인스턴스에서| 100번 f를 실행하였다는 정보를 가지고 태어나게 된다."
      ],
      "id": "95b247c4-fd0c-44fe-aefd-70b41e21396d"
    },
    {
      "cell_type": "code",
      "execution_count": 96,
      "metadata": {},
      "outputs": [],
      "source": [
        "[A.x, A.y], [a.x, a.y]"
      ],
      "id": "473829a6-b628-4c96-8f39-3a8c69c26d98"
    },
    {
      "cell_type": "markdown",
      "metadata": {},
      "source": [
        "`-` 시점3"
      ],
      "id": "7fab3693-4d0c-4d48-87e8-8622327c29ac"
    },
    {
      "cell_type": "code",
      "execution_count": 97,
      "metadata": {},
      "outputs": [],
      "source": [
        "b=A()"
      ],
      "id": "93b405a3-7aca-47da-bcc7-786f136b03e5"
    },
    {
      "cell_type": "code",
      "execution_count": 98,
      "metadata": {},
      "outputs": [],
      "source": [
        "[A.x, A.y], [a.x, a.y], [b.x, b.y]"
      ],
      "id": "de8b1ee1-d132-4c27-b516-5ad8041977f6"
    },
    {
      "cell_type": "markdown",
      "metadata": {},
      "source": [
        "`-` 시점4"
      ],
      "id": "a6769ec5-265b-4bcd-8224-71aa1596bce8"
    },
    {
      "cell_type": "code",
      "execution_count": 99,
      "metadata": {},
      "outputs": [
        {
          "output_type": "stream",
          "name": "stdout",
          "text": [
            "현재 인스턴스에서 f가 101번 실행\n",
            "A클래스에서 만들어진 모든 인스턴스들에서 f가 총 2번 실행"
          ]
        }
      ],
      "source": [
        "b.f()"
      ],
      "id": "27c94bc9-a14d-4f3f-a884-410847dc1ea1"
    },
    {
      "cell_type": "markdown",
      "metadata": {},
      "source": [
        "`-` 시점5"
      ],
      "id": "3abecc30-bcdc-4fc5-9d92-01cbf9e17cfe"
    },
    {
      "cell_type": "code",
      "execution_count": 100,
      "metadata": {},
      "outputs": [
        {
          "output_type": "stream",
          "name": "stdout",
          "text": [
            "현재 인스턴스에서 f가 2번 실행\n",
            "A클래스에서 만들어진 모든 인스턴스들에서 f가 총 3번 실행"
          ]
        }
      ],
      "source": [
        "a.f()"
      ],
      "id": "0d3e4dce-bd15-4aa0-b852-072b66a0088f"
    },
    {
      "cell_type": "code",
      "execution_count": 101,
      "metadata": {},
      "outputs": [
        {
          "output_type": "stream",
          "name": "stdout",
          "text": [
            "현재 인스턴스에서 f가 3번 실행\n",
            "A클래스에서 만들어진 모든 인스턴스들에서 f가 총 4번 실행"
          ]
        }
      ],
      "source": [
        "a.f()"
      ],
      "id": "756ebe33-d78b-46f7-98ec-1a648840a358"
    },
    {
      "cell_type": "code",
      "execution_count": 102,
      "metadata": {},
      "outputs": [
        {
          "output_type": "stream",
          "name": "stdout",
          "text": [
            "현재 인스턴스에서 f가 102번 실행\n",
            "A클래스에서 만들어진 모든 인스턴스들에서 f가 총 5번 실행"
          ]
        }
      ],
      "source": [
        "b.f()"
      ],
      "id": "c0e87b14-2643-44bd-ad72-c26b44e0819e"
    },
    {
      "cell_type": "markdown",
      "metadata": {},
      "source": [
        "### 예제4의 변형"
      ],
      "id": "4631ab9f-7bb2-486a-81ce-83e9a9b12746"
    },
    {
      "cell_type": "code",
      "execution_count": 108,
      "metadata": {},
      "outputs": [],
      "source": [
        "class B:\n",
        "    x=100   # 초기자본금\n",
        "    y=0\n",
        "    def f(self):   # f를 실행할때마다 돈을 쓴다.\n",
        "        self.x=self.x - 1\n",
        "        B.y = B.y + 1\n",
        "        # self.y = self.y + 1 이렇게 안쓰고 위에처럼 써보자!\n",
        "        print(\"현재 인스턴스에서 {}원 잔액남음\".format(self.x))\n",
        "        print(\"A클래스에서 만들어진 모든 인스턴스들에서 총 {}원 사용\".format(self.y))\n"
      ],
      "id": "23c320e8-6f51-4635-a345-dfff9b8facf6"
    },
    {
      "cell_type": "code",
      "execution_count": 109,
      "metadata": {},
      "outputs": [],
      "source": [
        "a=B()"
      ],
      "id": "b0a89f25-1c33-4cb7-a668-126c6e5abbf1"
    },
    {
      "cell_type": "code",
      "execution_count": 110,
      "metadata": {},
      "outputs": [],
      "source": [
        "b=B()"
      ],
      "id": "bcdf8ea4-800d-4bc7-a634-eac0559adf84"
    },
    {
      "cell_type": "code",
      "execution_count": 111,
      "metadata": {},
      "outputs": [],
      "source": [
        "[B.x, B.y], [a.x, a.y], [b.x, b.y]"
      ],
      "id": "a667b5d5-24ec-43ca-b0e1-2ff70403ddd0"
    },
    {
      "cell_type": "markdown",
      "metadata": {},
      "source": [
        "`-` 시점1"
      ],
      "id": "f2c95df6-7d60-4369-a656-55b8e8619d12"
    },
    {
      "cell_type": "code",
      "execution_count": 112,
      "metadata": {},
      "outputs": [
        {
          "output_type": "stream",
          "name": "stdout",
          "text": [
            "현재 인스턴스에서 99원 잔액남음\n",
            "A클래스에서 만들어진 모든 인스턴스들에서 총 1원 사용"
          ]
        }
      ],
      "source": [
        "a.f() # 돈을 쓴다"
      ],
      "id": "727966a1-a329-4143-8258-84de940bf777"
    },
    {
      "cell_type": "code",
      "execution_count": 113,
      "metadata": {},
      "outputs": [
        {
          "output_type": "stream",
          "name": "stdout",
          "text": [
            "현재 인스턴스에서 98원 잔액남음\n",
            "A클래스에서 만들어진 모든 인스턴스들에서 총 2원 사용"
          ]
        }
      ],
      "source": [
        "a.f()"
      ],
      "id": "8617837d-cb2a-49c1-bbf5-930206d588db"
    },
    {
      "cell_type": "code",
      "execution_count": 114,
      "metadata": {},
      "outputs": [
        {
          "output_type": "stream",
          "name": "stdout",
          "text": [
            "현재 인스턴스에서 99원 잔액남음\n",
            "A클래스에서 만들어진 모든 인스턴스들에서 총 3원 사용"
          ]
        }
      ],
      "source": [
        "b.f()"
      ],
      "id": "69232fe0-e198-4694-90ad-ff8768fcb4f9"
    },
    {
      "cell_type": "markdown",
      "metadata": {},
      "source": [
        "`-` 시점2"
      ],
      "id": "dd8b342d-7995-452b-b634-6ec2dcf5aced"
    },
    {
      "cell_type": "code",
      "execution_count": 115,
      "metadata": {},
      "outputs": [],
      "source": [
        "[B.x, B.y], [a.x, a.y], [b.x, b.y]"
      ],
      "id": "6b6d83b5-4997-4245-9c77-d09969eacce2"
    },
    {
      "cell_type": "code",
      "execution_count": 117,
      "metadata": {},
      "outputs": [],
      "source": [
        "B.x=999"
      ],
      "id": "b33e8b43-bd7d-4b13-8a22-1d2c0f4078cf"
    },
    {
      "cell_type": "code",
      "execution_count": 118,
      "metadata": {},
      "outputs": [],
      "source": [
        "[B.x, B.y], [a.x, a.y], [b.x, b.y]"
      ],
      "id": "47aedf1d-c39f-4ada-b638-b52d7ee5ff1a"
    },
    {
      "cell_type": "markdown",
      "metadata": {},
      "source": [
        "`-` 시점3"
      ],
      "id": "8dc691f5-8324-4b83-9e1b-c4ca2b254c54"
    },
    {
      "cell_type": "code",
      "execution_count": 119,
      "metadata": {},
      "outputs": [],
      "source": [
        "c=B()"
      ],
      "id": "4fb2c3c4-9cf6-4970-9017-c0a409f97c62"
    },
    {
      "cell_type": "code",
      "execution_count": 120,
      "metadata": {},
      "outputs": [
        {
          "output_type": "stream",
          "name": "stdout",
          "text": [
            "현재 인스턴스에서 998원 잔액남음\n",
            "A클래스에서 만들어진 모든 인스턴스들에서 총 4원 사용"
          ]
        }
      ],
      "source": [
        "c.f()"
      ],
      "id": "fb2386f9-13e0-4471-8328-154d2252ec11"
    },
    {
      "cell_type": "markdown",
      "metadata": {},
      "source": [
        "`-` 시점4"
      ],
      "id": "b9739a29-f045-48ae-b644-aed558698edf"
    },
    {
      "cell_type": "code",
      "execution_count": 121,
      "metadata": {},
      "outputs": [
        {
          "output_type": "stream",
          "name": "stdout",
          "text": [
            "현재 인스턴스에서 97원 잔액남음\n",
            "A클래스에서 만들어진 모든 인스턴스들에서 총 5원 사용"
          ]
        }
      ],
      "source": [
        "a.f()"
      ],
      "id": "4e0a45ff-21cf-455b-a50e-47e75c39721b"
    },
    {
      "cell_type": "code",
      "execution_count": 122,
      "metadata": {},
      "outputs": [
        {
          "output_type": "stream",
          "name": "stdout",
          "text": [
            "현재 인스턴스에서 98원 잔액남음\n",
            "A클래스에서 만들어진 모든 인스턴스들에서 총 6원 사용"
          ]
        }
      ],
      "source": [
        "b.f()"
      ],
      "id": "466198ca-881c-472e-96c4-b5ab340a24d1"
    },
    {
      "cell_type": "code",
      "execution_count": 123,
      "metadata": {},
      "outputs": [
        {
          "output_type": "stream",
          "name": "stdout",
          "text": [
            "현재 인스턴스에서 997원 잔액남음\n",
            "A클래스에서 만들어진 모든 인스턴스들에서 총 7원 사용"
          ]
        }
      ],
      "source": [
        "c.f()"
      ],
      "id": "ba38d542-d185-4251-bc0b-0cb606622e0b"
    },
    {
      "cell_type": "code",
      "execution_count": 124,
      "metadata": {},
      "outputs": [
        {
          "output_type": "stream",
          "name": "stdout",
          "text": [
            "현재 인스턴스에서 996원 잔액남음\n",
            "A클래스에서 만들어진 모든 인스턴스들에서 총 8원 사용"
          ]
        }
      ],
      "source": [
        "c.f()"
      ],
      "id": "eee42185-c94b-42ec-a40f-a5e60a5c63a3"
    },
    {
      "cell_type": "markdown",
      "metadata": {},
      "source": [
        "### 예제5 : 인스턴스에서 클래스변수 변경 (변경가능???)"
      ],
      "id": "4b5a14d5-7111-4204-aeae-f3f7c7839c07"
    },
    {
      "cell_type": "code",
      "execution_count": 146,
      "metadata": {},
      "outputs": [],
      "source": [
        "class A:\n",
        "    x=0\n",
        "    y=0\n",
        "    def f(self):\n",
        "        self.x=self.x + 1\n",
        "        A.y = A.y + 1\n",
        "        # self.y = self.y + 1 이렇게 안쓰고 위에처럼 써보자!\n",
        "        print(\"현재 인스턴스에서 f가 {}번 실행\".format(self.x))\n",
        "        print(\"A클래스에서 만들어진 모든 인스턴스들에서 f가 총 {}번 실행\".format(self.y))\n"
      ],
      "id": "3eec3eef-a2a1-4ae7-ae5d-4a6db2e75bd0"
    },
    {
      "cell_type": "code",
      "execution_count": 147,
      "metadata": {},
      "outputs": [],
      "source": [
        "[A.x, A.y]"
      ],
      "id": "9ad31eaa-2a47-4b79-ba4c-fdb7c139f446"
    },
    {
      "cell_type": "code",
      "execution_count": 148,
      "metadata": {},
      "outputs": [],
      "source": [
        "a=A()\n",
        "b=A()"
      ],
      "id": "368794d1-6e89-478f-a075-4c9632765f63"
    },
    {
      "cell_type": "code",
      "execution_count": 149,
      "metadata": {},
      "outputs": [],
      "source": [
        "[A.x, A.y], [a.x, a.y], [b.x,b.y]"
      ],
      "id": "5f9d4490-4728-4366-9bf2-f6852f546559"
    },
    {
      "cell_type": "markdown",
      "metadata": {},
      "source": [
        "`-` 시점1"
      ],
      "id": "983da2ba-fb86-4926-81cb-fa34804b142f"
    },
    {
      "cell_type": "code",
      "execution_count": 150,
      "metadata": {},
      "outputs": [
        {
          "output_type": "stream",
          "name": "stdout",
          "text": [
            "현재 인스턴스에서 f가 1번 실행\n",
            "A클래스에서 만들어진 모든 인스턴스들에서 f가 총 1번 실행"
          ]
        }
      ],
      "source": [
        "a.f()"
      ],
      "id": "06777c70-88b4-4518-a040-efc85c82a172"
    },
    {
      "cell_type": "code",
      "execution_count": 151,
      "metadata": {},
      "outputs": [
        {
          "output_type": "stream",
          "name": "stdout",
          "text": [
            "현재 인스턴스에서 f가 1번 실행\n",
            "A클래스에서 만들어진 모든 인스턴스들에서 f가 총 2번 실행"
          ]
        }
      ],
      "source": [
        "b.f()"
      ],
      "id": "a6326f4e-8a5d-4dfd-8d0b-1d54fc901de7"
    },
    {
      "cell_type": "code",
      "execution_count": 152,
      "metadata": {},
      "outputs": [
        {
          "output_type": "stream",
          "name": "stdout",
          "text": [
            "현재 인스턴스에서 f가 2번 실행\n",
            "A클래스에서 만들어진 모든 인스턴스들에서 f가 총 3번 실행"
          ]
        }
      ],
      "source": [
        "a.f()"
      ],
      "id": "a06913c4-0a0f-4581-9063-29255cbd454f"
    },
    {
      "cell_type": "markdown",
      "metadata": {},
      "source": [
        "`-` 시점2"
      ],
      "id": "9a65c3a5-894d-471d-8522-96e5140f55b9"
    },
    {
      "cell_type": "code",
      "execution_count": 153,
      "metadata": {},
      "outputs": [],
      "source": [
        "a.__dict__"
      ],
      "id": "32d1cc3d-58b5-4d0f-979b-a18162651936"
    },
    {
      "cell_type": "code",
      "execution_count": 154,
      "metadata": {},
      "outputs": [],
      "source": [
        "a.y  # 인스턴스 a에 소속되어 있지만 클래스 변수 "
      ],
      "id": "df53753d-d1af-45e9-bf12-466e09bb5c3c"
    },
    {
      "cell_type": "code",
      "execution_count": 155,
      "metadata": {},
      "outputs": [],
      "source": [
        "a.y = 999 # A.y 였으면 다 바꼈을 테지만 a.y 였다면??\n",
        "# 내가 하드코딩으로 a.y에 999 입력 -> 이것이 A.y나 b.y에도 반영될까? (x)"
      ],
      "id": "70967f14-108e-43d6-bff6-639dc8860c93"
    },
    {
      "cell_type": "code",
      "execution_count": 156,
      "metadata": {},
      "outputs": [],
      "source": [
        "[A.x, A.y], [a.x, a.y], [b.x,b.y]"
      ],
      "id": "c2b67c41-2617-46f8-aa8f-a1533352f4b9"
    },
    {
      "cell_type": "code",
      "execution_count": 163,
      "metadata": {},
      "outputs": [],
      "source": [
        "a.__dict__"
      ],
      "id": "ad7fdf6f-d92c-4a26-a7b5-70d577ad4b7c"
    },
    {
      "cell_type": "markdown",
      "metadata": {},
      "source": [
        "`-` 시점3"
      ],
      "id": "ea0d45f4-c56f-4da9-a7c2-bb521331d3e8"
    },
    {
      "cell_type": "code",
      "execution_count": 157,
      "metadata": {},
      "outputs": [
        {
          "output_type": "stream",
          "name": "stdout",
          "text": [
            "현재 인스턴스에서 f가 2번 실행\n",
            "A클래스에서 만들어진 모든 인스턴스들에서 f가 총 4번 실행"
          ]
        }
      ],
      "source": [
        "b.f()"
      ],
      "id": "78a1a51f-1672-452f-9e4b-19267f259998"
    },
    {
      "cell_type": "code",
      "execution_count": 158,
      "metadata": {},
      "outputs": [
        {
          "output_type": "stream",
          "name": "stdout",
          "text": [
            "현재 인스턴스에서 f가 3번 실행\n",
            "A클래스에서 만들어진 모든 인스턴스들에서 f가 총 999번 실행"
          ]
        }
      ],
      "source": [
        "a.f()"
      ],
      "id": "0ecce187-4c45-4bc3-96f9-b7353258cd45"
    },
    {
      "cell_type": "code",
      "execution_count": 159,
      "metadata": {},
      "outputs": [
        {
          "output_type": "stream",
          "name": "stdout",
          "text": [
            "현재 인스턴스에서 f가 3번 실행\n",
            "A클래스에서 만들어진 모든 인스턴스들에서 f가 총 6번 실행"
          ]
        }
      ],
      "source": [
        "b.f()"
      ],
      "id": "965bd13e-dfb3-4836-83c9-b6111f537115"
    },
    {
      "cell_type": "code",
      "execution_count": 160,
      "metadata": {},
      "outputs": [
        {
          "output_type": "stream",
          "name": "stdout",
          "text": [
            "현재 인스턴스에서 f가 4번 실행\n",
            "A클래스에서 만들어진 모든 인스턴스들에서 f가 총 7번 실행"
          ]
        }
      ],
      "source": [
        "b.f()"
      ],
      "id": "853d973f-10cc-497d-98d9-aa562d0b6577"
    },
    {
      "cell_type": "code",
      "execution_count": 161,
      "metadata": {},
      "outputs": [
        {
          "output_type": "stream",
          "name": "stdout",
          "text": [
            "현재 인스턴스에서 f가 4번 실행\n",
            "A클래스에서 만들어진 모든 인스턴스들에서 f가 총 999번 실행"
          ]
        }
      ],
      "source": [
        "a.f()"
      ],
      "id": "47bcc4c2-febf-454d-ab14-2000fa412d10"
    },
    {
      "cell_type": "markdown",
      "metadata": {},
      "source": [
        "`-` 요약 - 인스턴스에서 클래스 변수의 값을 변경하면? -\\> 클래스변수의\n",
        "값이 변경되는 것이 아니라 인스턴스 변수가 새롭게 만들어져서 할당 된다. -\n",
        "이 예제에서 a.y는 이제 클래스변수에서 인스턴스 변수로 재탄생 되었다. 즉,\n",
        "999오브젝트가 새롭게 만들어져서 a.x라는 이름을 얻은것이다. - 기존의\n",
        "A.y나 b.y에는 아무런 변화가 없다."
      ],
      "id": "0a4554e8-33cd-4258-8931-b43abcf617fc"
    },
    {
      "cell_type": "code",
      "execution_count": 162,
      "metadata": {},
      "outputs": [],
      "source": [
        "id(999) #999도 오브젝트임"
      ],
      "id": "94438724-7bfa-4bb4-8b3c-ae9ff1094a12"
    },
    {
      "cell_type": "markdown",
      "metadata": {},
      "source": [
        "> a.y = 999 는 새로운 인스턴스 변수 y를 할당하는 역할을 한다.\n",
        "> 클래스변수의 값을 변경하는 것이 아니다. (왜냐하면 애초에 a.y는 없는\n",
        "> 값이었고, A.y를 빌리고 있었던 것임)"
      ],
      "id": "ba72fe9a-02d7-4dfb-9337-bc2e3700fb30"
    },
    {
      "cell_type": "code",
      "execution_count": 164,
      "metadata": {},
      "outputs": [],
      "source": [
        "a.__dict__"
      ],
      "id": "3ac94222-bf88-43fd-b118-71a612425344"
    },
    {
      "cell_type": "code",
      "execution_count": 165,
      "metadata": {},
      "outputs": [],
      "source": [
        "b.__dict__"
      ],
      "id": "1a764deb-c00a-4437-aa17-ca4b0432bc2e"
    },
    {
      "cell_type": "markdown",
      "metadata": {},
      "source": [
        "### 예제5의 변형"
      ],
      "id": "948bc04a-2dd7-42b7-b65e-ad2da48817df"
    },
    {
      "cell_type": "code",
      "execution_count": 171,
      "metadata": {},
      "outputs": [],
      "source": [
        "class A:\n",
        "    x=0\n",
        "    y=0\n",
        "    def f(self):\n",
        "        self.x=self.x + 1\n",
        "        A.y = A.y + 1\n",
        "        # self.y = self.y + 1 이렇게 안쓰고 위에처럼 써보자!\n",
        "        print(\"현재 인스턴스에서 f가 {}번 실행 (인스턴스레벨)\".format(self.x))\n",
        "        print(\"A클래스에서 만들어진 모든 인스턴스들에서 f가 총 {}번 실행 (클레스레벨)\".format(A.y))\n",
        "        print(\"A클래스에서 만들어진 모든 인스턴스들에서 f가 총 {}번 실행 (인스턴스레벨)\".format(self.y))\n"
      ],
      "id": "82581344-c2fb-4af8-b14a-3dd5603af77a"
    },
    {
      "cell_type": "code",
      "execution_count": 172,
      "metadata": {},
      "outputs": [],
      "source": [
        "a=A()"
      ],
      "id": "4ee21564-149f-499b-af7a-838926ac7105"
    },
    {
      "cell_type": "code",
      "execution_count": 173,
      "metadata": {},
      "outputs": [
        {
          "output_type": "stream",
          "name": "stdout",
          "text": [
            "현재 인스턴스에서 f가 1번 실행 (인스턴스레벨)\n",
            "A클래스에서 만들어진 모든 인스턴스들에서 f가 총 1번 실행 (클레스레벨)\n",
            "A클래스에서 만들어진 모든 인스턴스들에서 f가 총 1번 실행 (인스턴스레벨)"
          ]
        }
      ],
      "source": [
        "a.f()"
      ],
      "id": "125616b2-97a9-4a42-a8a7-2bdd4429f42a"
    },
    {
      "cell_type": "code",
      "execution_count": 174,
      "metadata": {},
      "outputs": [],
      "source": [
        "b=A()"
      ],
      "id": "39bd0ca0-fcf2-41ce-850b-bb0e52c9c7c1"
    },
    {
      "cell_type": "code",
      "execution_count": 175,
      "metadata": {},
      "outputs": [
        {
          "output_type": "stream",
          "name": "stdout",
          "text": [
            "현재 인스턴스에서 f가 1번 실행 (인스턴스레벨)\n",
            "A클래스에서 만들어진 모든 인스턴스들에서 f가 총 2번 실행 (클레스레벨)\n",
            "A클래스에서 만들어진 모든 인스턴스들에서 f가 총 2번 실행 (인스턴스레벨)"
          ]
        }
      ],
      "source": [
        "b.f()"
      ],
      "id": "74cf5530-42b4-413a-89ee-7a7286e8111b"
    },
    {
      "cell_type": "markdown",
      "metadata": {},
      "source": [
        "`-` 시점1"
      ],
      "id": "0974cf9a-8ee3-4af5-9a5a-966a2ca80f0d"
    },
    {
      "cell_type": "code",
      "execution_count": 176,
      "metadata": {},
      "outputs": [],
      "source": [
        "a.y = 999"
      ],
      "id": "d3e4abb3-ea60-4b7a-bdf4-6c5149caf414"
    },
    {
      "cell_type": "code",
      "execution_count": 177,
      "metadata": {},
      "outputs": [
        {
          "output_type": "stream",
          "name": "stdout",
          "text": [
            "현재 인스턴스에서 f가 2번 실행 (인스턴스레벨)\n",
            "A클래스에서 만들어진 모든 인스턴스들에서 f가 총 3번 실행 (클레스레벨)\n",
            "A클래스에서 만들어진 모든 인스턴스들에서 f가 총 999번 실행 (인스턴스레벨)"
          ]
        }
      ],
      "source": [
        "a.f()"
      ],
      "id": "d41bc919-3333-4036-a725-4bf9c96eea49"
    },
    {
      "cell_type": "code",
      "execution_count": 178,
      "metadata": {},
      "outputs": [
        {
          "output_type": "stream",
          "name": "stdout",
          "text": [
            "현재 인스턴스에서 f가 3번 실행 (인스턴스레벨)\n",
            "A클래스에서 만들어진 모든 인스턴스들에서 f가 총 4번 실행 (클레스레벨)\n",
            "A클래스에서 만들어진 모든 인스턴스들에서 f가 총 999번 실행 (인스턴스레벨)"
          ]
        }
      ],
      "source": [
        "a.f()"
      ],
      "id": "a9801e66-0021-4228-a876-61ab3d65e702"
    },
    {
      "cell_type": "markdown",
      "metadata": {},
      "source": [
        "### 예제6: 인스턴스 생성시점에 대한 분석\n",
        "\n",
        "`-` 의문: 아래의 코드에서 x는 클래스 변수라고 봐야할까? 인스턴스\n",
        "변수라고 봐야할까? —\\> 클래스 변수!\n",
        "\n",
        "``` python\n",
        "class SoWhaTV: \n",
        "    x=0   # 이 시점에서 x는 클래스변수인가? 아니면 인스턴스 변수인가?\n",
        "    def f(self):\n",
        "        print(self.x)\n",
        "```\n",
        "\n",
        "`-` 시점0"
      ],
      "id": "f9a68304-d5fc-49f5-9aa1-2cb4ab4df43d"
    },
    {
      "cell_type": "code",
      "execution_count": 180,
      "metadata": {},
      "outputs": [],
      "source": [
        "class A:\n",
        "    x=0\n",
        "    y=0\n",
        "    def f(self):\n",
        "        self.x=self.x + 1\n",
        "        A.y = A.y + 1\n",
        "        # self.y = self.y + 1 이렇게 안쓰고 위에처럼 써보자!\n",
        "        print(\"현재 인스턴스에서 f가 {}번 실행 (인스턴스레벨)\".format(self.x))\n",
        "        print(\"A클래스에서 만들어진 모든 인스턴스들에서 f가 총 {}번 실행 (클레스레벨)\".format(A.y))\n",
        "        print(\"A클래스에서 만들어진 모든 인스턴스들에서 f가 총 {}번 실행 (인스턴스레벨)\".format(self.y))\n"
      ],
      "id": "4c766366-a955-4cf8-8b6c-44b602e1fe4d"
    },
    {
      "cell_type": "code",
      "execution_count": 181,
      "metadata": {},
      "outputs": [],
      "source": [
        "a=A()\n",
        "b=A()"
      ],
      "id": "08e563f5-8a22-4190-a7ed-780080dfabe1"
    },
    {
      "cell_type": "code",
      "execution_count": 182,
      "metadata": {},
      "outputs": [],
      "source": [
        "a.x, a.y, b.x, b.y"
      ],
      "id": "d1ea6f39-18be-42b6-8692-26cb9d0488a2"
    },
    {
      "cell_type": "code",
      "execution_count": 183,
      "metadata": {},
      "outputs": [],
      "source": [
        "a.__dict__, b.__dict__"
      ],
      "id": "f56d3fec-b4ac-41e1-bc23-dc7bcfcf33ae"
    },
    {
      "cell_type": "markdown",
      "metadata": {},
      "source": [
        "-   지금 시점에서 a.x, a.y, b.x, b.y는 모두 클래스 변수임\n",
        "\n",
        "`-` 시점1"
      ],
      "id": "e51493c1-0539-4136-834c-d24a3194ca41"
    },
    {
      "cell_type": "code",
      "execution_count": 184,
      "metadata": {},
      "outputs": [
        {
          "output_type": "stream",
          "name": "stdout",
          "text": [
            "현재 인스턴스에서 f가 1번 실행 (인스턴스레벨)\n",
            "A클래스에서 만들어진 모든 인스턴스들에서 f가 총 1번 실행 (클레스레벨)\n",
            "A클래스에서 만들어진 모든 인스턴스들에서 f가 총 1번 실행 (인스턴스레벨)"
          ]
        }
      ],
      "source": [
        "a.f()"
      ],
      "id": "af845f0e-5fd8-4eb3-ba95-3f426c95d0bb"
    },
    {
      "cell_type": "code",
      "execution_count": 185,
      "metadata": {},
      "outputs": [],
      "source": [
        "a.__dict__, b.__dict__"
      ],
      "id": "3800937d-cda3-4cb5-a8ce-91f8a4a989e1"
    },
    {
      "cell_type": "markdown",
      "metadata": {},
      "source": [
        "-   이 순간 a.x가 클래스변수에서 인스턴스 변수로 변경되었다. (예제5와\n",
        "    같이..) 왜? f가 실행되면서 self.x = self.x + 1이 실행되었으므로!\n",
        "\n",
        "`-` 시점2"
      ],
      "id": "7555f244-1c54-491a-bd49-d4eb87f6a413"
    },
    {
      "cell_type": "code",
      "execution_count": 186,
      "metadata": {},
      "outputs": [
        {
          "output_type": "stream",
          "name": "stdout",
          "text": [
            "현재 인스턴스에서 f가 1번 실행 (인스턴스레벨)\n",
            "A클래스에서 만들어진 모든 인스턴스들에서 f가 총 2번 실행 (클레스레벨)\n",
            "A클래스에서 만들어진 모든 인스턴스들에서 f가 총 2번 실행 (인스턴스레벨)"
          ]
        }
      ],
      "source": [
        "b.f()"
      ],
      "id": "53b0e067-c205-40f4-b891-565b84075ead"
    },
    {
      "cell_type": "code",
      "execution_count": 187,
      "metadata": {},
      "outputs": [],
      "source": [
        "a.__dict__, b.__dict__"
      ],
      "id": "5f1f57f4-8ebe-4822-b6b7-412425c08f9b"
    },
    {
      "cell_type": "markdown",
      "metadata": {},
      "source": [
        "### 예제7: 잘못된 사용\n",
        "\n",
        "`-` 아래처럼 코드를 바꾸면 어떻게 되는가?"
      ],
      "id": "163d9948-6e0d-4c05-aa42-7512fae06285"
    },
    {
      "cell_type": "code",
      "execution_count": 188,
      "metadata": {},
      "outputs": [],
      "source": [
        "class A:\n",
        "    def __init__(self):\n",
        "        self.x=0 # 인스턴스 변수로 나중에 쓸꺼니까 명시함\n",
        "        A.y=0  # 클래스변수로 나중에 쓸꺼니까 명시함\n",
        "    def f(self):\n",
        "        self.x=self.x + 1\n",
        "        A.y = A.y + 1\n",
        "        # self.y = self.y + 1 이렇게 안쓰고 위에처럼 써보자!\n",
        "        print(\"현재 인스턴스에서 f가 {}번 실행 (인스턴스레벨)\".format(self.x))\n",
        "        print(\"A클래스에서 만들어진 모든 인스턴스들에서 f가 총 {}번 실행 (클레스레벨)\".format(A.y))\n",
        "        #print(\"A클래스에서 만들어진 모든 인스턴스들에서 f가 총 {}번 실행 (인스턴스레벨)\".format(self.y))\n"
      ],
      "id": "6e4ffa63-97d1-49e2-a88d-5293fe9b8f5b"
    },
    {
      "cell_type": "markdown",
      "metadata": {},
      "source": [
        "`-` 사용"
      ],
      "id": "0c538719-5e18-4892-ab83-112159bc8d62"
    },
    {
      "cell_type": "code",
      "execution_count": 189,
      "metadata": {},
      "outputs": [],
      "source": [
        "a=A()\n",
        "b=A()"
      ],
      "id": "4fa7cb86-89f0-463a-bb49-85ce4f144b01"
    },
    {
      "cell_type": "code",
      "execution_count": 190,
      "metadata": {},
      "outputs": [
        {
          "output_type": "stream",
          "name": "stdout",
          "text": [
            "현재 인스턴스에서 f가 1번 실행 (인스턴스레벨)\n",
            "A클래스에서 만들어진 모든 인스턴스들에서 f가 총 1번 실행 (클레스레벨)"
          ]
        }
      ],
      "source": [
        "a.f()"
      ],
      "id": "96a2d532-0a0a-40b1-bced-9da3ec7b017a"
    },
    {
      "cell_type": "code",
      "execution_count": 191,
      "metadata": {},
      "outputs": [
        {
          "output_type": "stream",
          "name": "stdout",
          "text": [
            "현재 인스턴스에서 f가 1번 실행 (인스턴스레벨)\n",
            "A클래스에서 만들어진 모든 인스턴스들에서 f가 총 2번 실행 (클레스레벨)"
          ]
        }
      ],
      "source": [
        "b.f()"
      ],
      "id": "7c962bb6-1764-4c12-b61c-eee8f59a7828"
    },
    {
      "cell_type": "code",
      "execution_count": 192,
      "metadata": {},
      "outputs": [
        {
          "output_type": "stream",
          "name": "stdout",
          "text": [
            "현재 인스턴스에서 f가 2번 실행 (인스턴스레벨)\n",
            "A클래스에서 만들어진 모든 인스턴스들에서 f가 총 3번 실행 (클레스레벨)"
          ]
        }
      ],
      "source": [
        "b.f()"
      ],
      "id": "c9a72c05-058b-4ff6-809a-3267a1633895"
    },
    {
      "cell_type": "code",
      "execution_count": 193,
      "metadata": {},
      "outputs": [
        {
          "output_type": "stream",
          "name": "stdout",
          "text": [
            "현재 인스턴스에서 f가 3번 실행 (인스턴스레벨)\n",
            "A클래스에서 만들어진 모든 인스턴스들에서 f가 총 4번 실행 (클레스레벨)"
          ]
        }
      ],
      "source": [
        "b.f()"
      ],
      "id": "796ac23a-ad04-473d-ad8c-18e1f48a8060"
    },
    {
      "cell_type": "code",
      "execution_count": 194,
      "metadata": {},
      "outputs": [
        {
          "output_type": "stream",
          "name": "stdout",
          "text": [
            "현재 인스턴스에서 f가 2번 실행 (인스턴스레벨)\n",
            "A클래스에서 만들어진 모든 인스턴스들에서 f가 총 5번 실행 (클레스레벨)"
          ]
        }
      ],
      "source": [
        "a.f()"
      ],
      "id": "a04bf301-2959-41ff-8d24-680eb1c49855"
    },
    {
      "cell_type": "markdown",
      "metadata": {},
      "source": [
        "`-` 잘 되는 것 같다?\n",
        "\n",
        "`-` 조금만 생각해보면 엉터리라는 것을 알 수 있다. 아래를 관찰하자."
      ],
      "id": "c64c57d3-70b7-4a30-9384-ffd95ade27a7"
    },
    {
      "cell_type": "code",
      "execution_count": 197,
      "metadata": {},
      "outputs": [],
      "source": [
        "c=A()   # 이 시점에서 __init__()이 실행된다"
      ],
      "id": "2260fd8b-bc20-4a3f-83bd-fda070732a8f"
    },
    {
      "cell_type": "code",
      "execution_count": 196,
      "metadata": {},
      "outputs": [
        {
          "output_type": "stream",
          "name": "stdout",
          "text": [
            "현재 인스턴스에서 f가 3번 실행 (인스턴스레벨)\n",
            "A클래스에서 만들어진 모든 인스턴스들에서 f가 총 1번 실행 (클레스레벨)"
          ]
        }
      ],
      "source": [
        "a.f()"
      ],
      "id": "ef111e78-507e-4503-a0a2-2379c6d63817"
    },
    {
      "cell_type": "markdown",
      "metadata": {},
      "source": [
        "-   클래스 레벨의 변수가 왜 초기화가 되었지?\n",
        "\n",
        "`-` 오류의 이유? c=A()가 실행되는 시점에 `__init__()`이 실행되면서\n",
        "`A.y=0`이 실행된다. 따라서 강제 초기화가 진행되었다."
      ],
      "id": "2ee8a77b-f871-4238-a2a5-965cfb3278ae"
    },
    {
      "cell_type": "code",
      "execution_count": null,
      "metadata": {},
      "outputs": [],
      "source": [
        "ㅇ"
      ],
      "id": "5a29cc41-8608-42be-8185-f587d68ff05c"
    }
  ],
  "nbformat": 4,
  "nbformat_minor": 5,
  "metadata": {
    "kernelspec": {
      "name": "python3",
      "display_name": "Python 3",
      "language": "python"
    },
    "language_info": {
      "name": "python",
      "codemirror_mode": {
        "name": "ipython",
        "version": "3"
      },
      "file_extension": ".py",
      "mimetype": "text/x-python",
      "nbconvert_exporter": "python",
      "pygments_lexer": "ipython3",
      "version": "3.7.16"
    }
  }
}