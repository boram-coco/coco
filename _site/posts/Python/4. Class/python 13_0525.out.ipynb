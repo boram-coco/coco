{
  "cells": [
    {
      "cell_type": "markdown",
      "metadata": {},
      "source": [
        "# 파이썬 (0525) 13주차\n",
        "\n",
        "김보람  \n",
        "2022-05-25"
      ],
      "id": "29de0c08-f831-46e5-a75d-71c4590c8af3"
    },
    {
      "cell_type": "code",
      "execution_count": 71,
      "metadata": {},
      "outputs": [],
      "source": [
        "import numpy as np"
      ],
      "id": "99d9d7d2-1642-4aff-b7d2-4c9bd6641d2a"
    },
    {
      "cell_type": "markdown",
      "metadata": {},
      "source": [
        "## 클래스 공부 5단계\n",
        "\n",
        "`-` 지난시간까지 배운것: RPC자료형에 한정해서 print() 등의 기능을 조작할\n",
        "수 있었다. (재정의 할 수 있었다.)\n",
        "\n",
        "`-` 이번시간에 배울것: 특정자료형에 한정하여 print 이외의 파이썬\n",
        "내부기능을 조작하여 보자. (재정의하여 보자)\n",
        "\n",
        "### motive"
      ],
      "id": "61cce017-1177-44a6-81fb-f0be4fc87597"
    },
    {
      "cell_type": "code",
      "execution_count": 1,
      "metadata": {},
      "outputs": [],
      "source": [
        "a=1\n",
        "b=2"
      ],
      "id": "97291266-335d-426e-8bc3-1a5bd84b73c8"
    },
    {
      "cell_type": "code",
      "execution_count": 2,
      "metadata": {},
      "outputs": [],
      "source": [
        "type(a)"
      ],
      "id": "9e9976e2-335c-4582-b9ed-7a50a15b9260"
    },
    {
      "cell_type": "code",
      "execution_count": 3,
      "metadata": {},
      "outputs": [],
      "source": [
        "a+b"
      ],
      "id": "874ca191-362d-4cad-9ce0-290294a15a54"
    },
    {
      "cell_type": "markdown",
      "metadata": {},
      "source": [
        "-   a라는 인스턴스와 b라는 인스턴스를 + 라는 기호가 연결하고 있다."
      ],
      "id": "c34a67eb-2168-4f75-b962-ba1efacf6c11"
    },
    {
      "cell_type": "code",
      "execution_count": 4,
      "metadata": {},
      "outputs": [],
      "source": [
        "a=[1,2]\n",
        "b=[3,4]\n",
        "a+b"
      ],
      "id": "34a51a33-7a2e-4e78-939e-63a0a891b908"
    },
    {
      "cell_type": "markdown",
      "metadata": {},
      "source": [
        "-   a라는 인스턴스와 b라는 인스턴스를 + 라는 기호가 연결하고 있다.\n",
        "\n",
        "`-` 동작이 다른 이유?\n",
        "\n",
        "-   클래스를 배우기 이전: int자료형의 `+` 는 “정수의 덧셈”을 의미하고\n",
        "    list 자료형의 `+`는 “자료의 추가”를 의미한다.\n",
        "\n",
        "-   클래스를 배운 이후: 아마 클래스는 `+` 라는 연산을 정의하는 숨겨진\n",
        "    메소드가 있을 것이다. (print가 그랬듯이) 그런데 int 클래스에서는 그\n",
        "    메소드를 “정수의 덧셈”이 되도록 정의하였고 list클래스에서는 그\n",
        "    메소드를 “자료의 추가”를 의미하도록 정의하였다."
      ],
      "id": "200971a2-6851-4520-9c1b-caff10b315cf"
    },
    {
      "cell_type": "code",
      "execution_count": 5,
      "metadata": {},
      "outputs": [],
      "source": [
        "a=1\n",
        "b=2"
      ],
      "id": "145584a7-62c8-488a-adae-11f4244c3fa4"
    },
    {
      "cell_type": "code",
      "execution_count": 6,
      "metadata": {},
      "outputs": [],
      "source": [
        "a.__add__"
      ],
      "id": "20d046c6-e419-417e-879e-7a24c890b3b2"
    },
    {
      "cell_type": "code",
      "execution_count": 7,
      "metadata": {},
      "outputs": [],
      "source": [
        "dir(a)"
      ],
      "id": "65e6b976-3f9c-42de-bd3e-50d9b44bf0b6"
    },
    {
      "cell_type": "code",
      "execution_count": 11,
      "metadata": {},
      "outputs": [],
      "source": [
        "a.__add__(b)"
      ],
      "id": "8b5988dc-ff1c-49c1-94a3-72fd6417548e"
    },
    {
      "cell_type": "code",
      "execution_count": 12,
      "metadata": {},
      "outputs": [],
      "source": [
        "b.__add__(a)"
      ],
      "id": "512ca629-68bc-47cc-86bc-06f8611047d3"
    },
    {
      "cell_type": "code",
      "execution_count": 13,
      "metadata": {},
      "outputs": [],
      "source": [
        "a=[1,2]\n",
        "b=[3,4]"
      ],
      "id": "b453bd62-72ca-44e9-bc56-8189e1c86ea8"
    },
    {
      "cell_type": "code",
      "execution_count": 14,
      "metadata": {},
      "outputs": [],
      "source": [
        "a.__add__(b)"
      ],
      "id": "ee176873-6d36-4705-ac58-332e869f2709"
    },
    {
      "cell_type": "code",
      "execution_count": 15,
      "metadata": {},
      "outputs": [],
      "source": [
        "b.__add__(a)"
      ],
      "id": "18265c80-701c-4c7c-acd1-7f198ba49911"
    },
    {
      "cell_type": "markdown",
      "metadata": {},
      "source": [
        "`-` a+b는 사실 내부적으로 `a.__add__(b)`의 축약구문이다. 따라서 먄악\n",
        "`a.__add__(b)`의 기능을 바꾸면 (재정의하면) a+b의 기능도 바뀔 것이다.\n",
        "\n",
        "### `__add__`\n",
        "\n",
        "`-` 예제"
      ],
      "id": "0373b3bf-91f9-4fdb-8d16-85aa4d20556d"
    },
    {
      "cell_type": "code",
      "execution_count": 42,
      "metadata": {},
      "outputs": [],
      "source": [
        "class Student:\n",
        "    def __init__(self, age=20.0, semester=1):\n",
        "        self.age = age\n",
        "        self.semester = semester\n",
        "        print(\"입학을 축하합니다. 나이는 {}이고 현재 {}학기 입니다.\".format(self.age, self.semester))\n",
        "    def __add__(self,val): \n",
        "        # val == 0: 휴학 \n",
        "        # val == 1: 등록 \n",
        "        if val==0: \n",
        "            self.age=self.age+0.5\n",
        "        elif val==1:\n",
        "            self.age=self.age+0.5 \n",
        "            self.semester= self.semester+1 \n",
        "    def _repr_html_(self):\n",
        "        html_str = \"\"\"\n",
        "        나이: {}<br/>\n",
        "        학기: {}<br/>\n",
        "        \"\"\"\n",
        "        return html_str.format(self.age, self.semester)"
      ],
      "id": "0c0d7855-6d3b-437e-a183-156a5a6deb3b"
    },
    {
      "cell_type": "code",
      "execution_count": 43,
      "metadata": {},
      "outputs": [
        {
          "output_type": "stream",
          "name": "stdout",
          "text": [
            "입학을 축하합니다. 나이는 20.0이고 현재 1학기 입니다."
          ]
        }
      ],
      "source": [
        "iu = Student()"
      ],
      "id": "31deaf2f-8319-4915-8a6a-02c481cc790e"
    },
    {
      "cell_type": "code",
      "execution_count": 44,
      "metadata": {},
      "outputs": [],
      "source": [
        "iu.semester"
      ],
      "id": "217a39de-a4eb-4ea3-a27a-5df4bd5094c3"
    },
    {
      "cell_type": "code",
      "execution_count": 45,
      "metadata": {},
      "outputs": [],
      "source": [
        "iu  # 클래스가 저장되어있는 주소를 _repr_html_ 통해서 바꿔즘"
      ],
      "id": "b2578f9a-57ef-48c2-9c3e-ca7a24e83538"
    },
    {
      "cell_type": "code",
      "execution_count": 46,
      "metadata": {},
      "outputs": [],
      "source": [
        "iu + 1 #1학년 2학기 등록\n",
        "iu"
      ],
      "id": "ff528168-6671-4670-9162-a9da9db33664"
    },
    {
      "cell_type": "code",
      "execution_count": 47,
      "metadata": {},
      "outputs": [],
      "source": [
        "iu + 0 # 휴학\n",
        "iu"
      ],
      "id": "882e33a0-d089-40d1-8831-77970dfb990c"
    },
    {
      "cell_type": "markdown",
      "metadata": {},
      "source": [
        "`-` 연산을 연속으로 하고 싶다."
      ],
      "id": "7511b7cc-eca0-4c39-8750-8038fce2a2ff"
    },
    {
      "cell_type": "code",
      "execution_count": 48,
      "metadata": {},
      "outputs": [],
      "source": [
        "iu + 1 + 0 + 0 + 0 + 0"
      ],
      "id": "6b5ef861-77fd-4701-8ae3-8f3f3134c011"
    },
    {
      "cell_type": "markdown",
      "metadata": {},
      "source": [
        "`-` 에러의 이유?"
      ],
      "id": "b8d41de8-84da-4cdb-9c6c-1154396f5489"
    },
    {
      "cell_type": "code",
      "execution_count": 49,
      "metadata": {},
      "outputs": [],
      "source": [
        "1+1+1 #이거는 되는데?"
      ],
      "id": "c606d254-4656-4269-b305-586b499caf5b"
    },
    {
      "cell_type": "code",
      "execution_count": 50,
      "metadata": {},
      "outputs": [],
      "source": [
        "(1+1)+1"
      ],
      "id": "d6d3a4a7-5530-4412-9964-6f333b5f3040"
    },
    {
      "cell_type": "code",
      "execution_count": 52,
      "metadata": {},
      "outputs": [],
      "source": [
        "_a = (1+1)\n",
        "type(_a)"
      ],
      "id": "d0d79d63-2323-46aa-b39f-3ae63115b341"
    },
    {
      "cell_type": "code",
      "execution_count": 54,
      "metadata": {},
      "outputs": [],
      "source": [
        "_a + 1    # 이 연산은 int인스턴스 + int인스턴스 "
      ],
      "id": "f950ff89-0fbd-4984-8bf2-68843ad89333"
    },
    {
      "cell_type": "markdown",
      "metadata": {},
      "source": [
        "(안되는거)"
      ],
      "id": "d23e9470-ae2c-42a4-8733-bbb1bb0402e3"
    },
    {
      "cell_type": "code",
      "execution_count": 55,
      "metadata": {},
      "outputs": [],
      "source": [
        "iu+1+1"
      ],
      "id": "4eee1828-c973-44c2-8a39-88ca6ce888ca"
    },
    {
      "cell_type": "code",
      "execution_count": 56,
      "metadata": {},
      "outputs": [],
      "source": [
        "_a=iu+1"
      ],
      "id": "39ab1108-b40f-46ca-affd-1a3dffb3589d"
    },
    {
      "cell_type": "code",
      "execution_count": 57,
      "metadata": {},
      "outputs": [],
      "source": [
        "type(_a)"
      ],
      "id": "f7d519c2-b9ad-41f9-b7b2-8f2b58b949fb"
    },
    {
      "cell_type": "code",
      "execution_count": 58,
      "metadata": {},
      "outputs": [],
      "source": [
        "_a+1"
      ],
      "id": "3cc8b492-c12b-4d74-abd0-fd64339aab03"
    },
    {
      "cell_type": "markdown",
      "metadata": {},
      "source": [
        "`-` 에러를 해결하는 방법: iu+1의 결과로 Student 클래스의 인스턴스가\n",
        "리턴되면 된다."
      ],
      "id": "a9c96a24-25bd-480f-9876-d5cb1451b1aa"
    },
    {
      "cell_type": "code",
      "execution_count": 59,
      "metadata": {},
      "outputs": [],
      "source": [
        "class Student:\n",
        "    def __init__(self, age=20.0, semester=1):\n",
        "        self.age = age\n",
        "        self.semester = semester\n",
        "        print(\"입학을 축하합니다. 나이는 {}이고 현재 {}학기 입니다.\".format(self.age, self.semester))\n",
        "    def __add__(self,val): \n",
        "        # val == 0: 휴학 \n",
        "        # val == 1: 등록 \n",
        "        if val==0: \n",
        "            self.age=self.age+0.5\n",
        "        elif val==1:\n",
        "            self.age=self.age+0.5 \n",
        "            self.semester= self.semester+1 \n",
        "        return self\n",
        "    def _repr_html_(self):\n",
        "        html_str = \"\"\"\n",
        "        나이: {}<br/>\n",
        "        학기: {}<br/>\n",
        "        \"\"\"\n",
        "        return html_str.format(self.age, self.semester)"
      ],
      "id": "187b1145-efc2-45c3-9131-b35151e7fed8"
    },
    {
      "cell_type": "code",
      "execution_count": 60,
      "metadata": {},
      "outputs": [
        {
          "output_type": "stream",
          "name": "stdout",
          "text": [
            "입학을 축하합니다. 나이는 20.0이고 현재 1학기 입니다."
          ]
        }
      ],
      "source": [
        "iu = Student()"
      ],
      "id": "26850b33-8a8a-44fa-acb8-b4c519d98709"
    },
    {
      "cell_type": "code",
      "execution_count": 63,
      "metadata": {},
      "outputs": [],
      "source": [
        "iu + 1   # __add__의 return에 Student클래스의 인스턴스가 리턴되면서 자동으로 __repr_html_()실행"
      ],
      "id": "88ab9b15-ff82-46b4-96ad-7abda7b80d11"
    },
    {
      "cell_type": "code",
      "execution_count": 64,
      "metadata": {},
      "outputs": [],
      "source": [
        "iu + 1 + 0 + 0 + 0 "
      ],
      "id": "b903de56-2efc-46c6-8999-6f281cb8b0f7"
    },
    {
      "cell_type": "markdown",
      "metadata": {},
      "source": [
        "### `__mul__`"
      ],
      "id": "4e6cfd18-22b5-42d6-83f2-46b90744fc78"
    },
    {
      "cell_type": "code",
      "execution_count": 65,
      "metadata": {},
      "outputs": [],
      "source": [
        "a=1\n",
        "b=1\n",
        "a*b"
      ],
      "id": "7407b2f4-51bb-4165-97b6-7d41982402d2"
    },
    {
      "cell_type": "code",
      "execution_count": 66,
      "metadata": {},
      "outputs": [],
      "source": [
        "a.__mul__"
      ],
      "id": "6a7ea2fd-92ee-4084-b634-41524cf47df6"
    },
    {
      "cell_type": "code",
      "execution_count": 67,
      "metadata": {},
      "outputs": [],
      "source": [
        "class RPS: \n",
        "    def __init__(self,candidate=['가위','바위','보']):\n",
        "        self.candidate = candidate\n",
        "        self.actions = list() \n",
        "    def choose(self):\n",
        "        self.actions.append(np.random.choice(self.candidate))\n",
        "    def show(self):\n",
        "        print(self.actions[-1])\n",
        "    def _repr_html_(self):\n",
        "        html_str = \"\"\"\n",
        "        낼 수 있는 패: {} <br/> \n",
        "        기록: {}\n",
        "        \"\"\"\n",
        "        return html_str.format(self.candidate,self.actions)"
      ],
      "id": "509fdb50-c869-4fe5-9445-1afca57f0140"
    },
    {
      "cell_type": "code",
      "execution_count": 68,
      "metadata": {},
      "outputs": [],
      "source": [
        "a=RPS()\n",
        "b=RPS()"
      ],
      "id": "dcccdfb4-0308-46d6-aa82-98e670d4e4c8"
    },
    {
      "cell_type": "code",
      "execution_count": 69,
      "metadata": {},
      "outputs": [],
      "source": [
        "a"
      ],
      "id": "35b544ce-fab7-44c6-8105-da25f7665701"
    },
    {
      "cell_type": "code",
      "execution_count": 70,
      "metadata": {},
      "outputs": [],
      "source": [
        "b"
      ],
      "id": "e9562db4-743a-4c20-9fb8-00b6a0b39ced"
    },
    {
      "cell_type": "markdown",
      "metadata": {},
      "source": [
        "-   a\\*b 해서 승패를 확인하기 위한 클래스를 만들자"
      ],
      "id": "296b0c6b-6537-40f1-a7fb-ca1134531fba"
    },
    {
      "cell_type": "code",
      "execution_count": 81,
      "metadata": {},
      "outputs": [],
      "source": [
        "class RPS: \n",
        "    def __init__(self,candidate=['가위','바위','보']):\n",
        "        self.candidate = candidate\n",
        "        self.actions = list() \n",
        "        self.results = list()\n",
        "    def __mul__(self,other):\n",
        "        self.choose()\n",
        "        other.choose()\n",
        "        if self.actions[-1]=='가위' and other.actions[-1]=='가위':\n",
        "            self.results.append(0)\n",
        "            other.results.append(0)\n",
        "        if self.actions[-1]=='가위' and other.actions[-1]=='바위':\n",
        "            self.results.append(-1)\n",
        "            other.results.append(1)\n",
        "        if self.actions[-1]=='가위' and other.actions[-1]=='보':\n",
        "            self.results.append(1)\n",
        "            other.results.append(-1)\n",
        "        if self.actions[-1]=='바위' and other.actions[-1]=='가위':\n",
        "            self.results.append(1)\n",
        "            other.results.append(-1)\n",
        "        if self.actions[-1]=='바위' and other.actions[-1]=='바위':\n",
        "            self.results.append(0)\n",
        "            other.results.append(0)\n",
        "        if self.actions[-1]=='바위' and other.actions[-1]=='보':\n",
        "            self.results.append(-1)\n",
        "            other.results.append(1)\n",
        "        if self.actions[-1]=='보' and other.actions[-1]=='가위':\n",
        "            self.results.append(-1)\n",
        "            other.results.append(1)\n",
        "        if self.actions[-1]=='보' and other.actions[-1]=='바위':\n",
        "            self.results.append(1)\n",
        "            other.results.append(-1)\n",
        "        if self.actions[-1]=='보' and other.actions[-1]=='보':\n",
        "            self.results.append(0)\n",
        "            other.results.append(0)\n",
        "    def choose(self):\n",
        "        self.actions.append(np.random.choice(self.candidate))\n",
        "    def _repr_html_(self):\n",
        "        html_str = \"\"\"\n",
        "        낼 수 있는 패: {} <br/> \n",
        "        액션: {} <br/>\n",
        "        승패: {}\n",
        "        \"\"\"\n",
        "        return html_str.format(self.candidate,self.actions,self.results)\n"
      ],
      "id": "4f5abbd6-3ba6-420e-8792-748af27d92f8"
    },
    {
      "cell_type": "code",
      "execution_count": 82,
      "metadata": {},
      "outputs": [],
      "source": [
        "a=RPS()\n",
        "b=RPS()"
      ],
      "id": "ff9aa69a-6eca-42b5-8801-e762057ebac2"
    },
    {
      "cell_type": "code",
      "execution_count": 83,
      "metadata": {},
      "outputs": [],
      "source": [
        "a"
      ],
      "id": "56f481ed-0e14-41f8-9cd5-42fcd8d12adc"
    },
    {
      "cell_type": "code",
      "execution_count": 84,
      "metadata": {},
      "outputs": [],
      "source": [
        "b"
      ],
      "id": "f2873065-99f8-4364-b16e-b675411fb776"
    },
    {
      "cell_type": "code",
      "execution_count": 85,
      "metadata": {},
      "outputs": [],
      "source": [
        "for i in range(5):\n",
        "    a*b"
      ],
      "id": "a49bad2c-d778-494c-88e2-76bda8fdfd4f"
    },
    {
      "cell_type": "code",
      "execution_count": 86,
      "metadata": {},
      "outputs": [],
      "source": [
        "a"
      ],
      "id": "9678e2cc-2837-420c-b05a-b5fd2cc9787c"
    },
    {
      "cell_type": "code",
      "execution_count": 87,
      "metadata": {},
      "outputs": [],
      "source": [
        "\n",
        "b"
      ],
      "id": "dbdc7956-599a-4b83-922c-00602d231a43"
    },
    {
      "cell_type": "markdown",
      "metadata": {},
      "source": [
        "## 숙제\n",
        "\n",
        "RPS클래스에서 player a와 player b를 만들어라. Player a는 \\[‘가위’,‘보’\\]\n",
        "중에 하나를 낼 수 있다. 그리고 Player b는 \\[‘가위’,‘바위’\\] 중에 하나를\n",
        "낼 수 있다. 두 player는 가지고 있는 패를 (같은확률로) 랜덤으로 낸다. (즉\n",
        "player a가 가위만 내거나 보만 내는 경우는 없다.)\n",
        "\n",
        "1.  누가 더 유리한가? 이유를 스스로 생각해보라. (이유를 정리하여 숙제로\n",
        "    제출할 필요 없음)\n",
        "\n",
        "2.  50000번의 시뮬레이션을 해보고 결과를 분석해보라."
      ],
      "id": "f627ec06-af16-453e-89b0-22bc6829192a"
    },
    {
      "cell_type": "code",
      "execution_count": 88,
      "metadata": {},
      "outputs": [],
      "source": [
        "class RPS: \n",
        "    def __init__(self,candidate=['가위','바위','보']):\n",
        "        self.candidate = candidate\n",
        "        self.actions = list() \n",
        "        self.results = list()\n",
        "    def __mul__(self,other):\n",
        "        self.choose()\n",
        "        other.choose()\n",
        "        if self.actions[-1]=='가위' and other.actions[-1]=='가위':\n",
        "            self.results.append(0)\n",
        "            other.results.append(0)\n",
        "        if self.actions[-1]=='가위' and other.actions[-1]=='바위':\n",
        "            self.results.append(-1)\n",
        "            other.results.append(1)\n",
        "        if self.actions[-1]=='보' and other.actions[-1]=='가위':\n",
        "            self.results.append(-1)\n",
        "            other.results.append(1)\n",
        "        if self.actions[-1]=='보' and other.actions[-1]=='바위':\n",
        "            self.results.append(1)\n",
        "            other.results.append(-1)\n",
        "    def choose(self):\n",
        "        self.actions.append(np.random.choice(self.candidate))\n",
        "    def _repr_html_(self):\n",
        "        html_str = \"\"\"\n",
        "        낼 수 있는 패: {} <br/> \n",
        "        액션: {} <br/>\n",
        "        승패: {}\n",
        "        \"\"\"\n",
        "        return html_str.format(self.candidate,self.actions,self.results)\n"
      ],
      "id": "39d28eef-e11b-40d4-88cc-5af738e350f6"
    },
    {
      "cell_type": "code",
      "execution_count": 90,
      "metadata": {},
      "outputs": [],
      "source": [
        "a=RPS(['가위','보'])\n",
        "b=RPS(['가위','바위'])"
      ],
      "id": "191101e6-43b0-49d5-8423-aae98038e537"
    },
    {
      "cell_type": "code",
      "execution_count": 91,
      "metadata": {},
      "outputs": [],
      "source": [
        "for i in range(50000):\n",
        "    a*b"
      ],
      "id": "d90b91f7-0730-4e90-9aa3-1287c9bd8651"
    },
    {
      "cell_type": "code",
      "execution_count": 92,
      "metadata": {},
      "outputs": [],
      "source": [
        "sum(a.results)"
      ],
      "id": "008e553c-dc78-4478-867c-c8cc6f2c0569"
    },
    {
      "cell_type": "code",
      "execution_count": 93,
      "metadata": {},
      "outputs": [],
      "source": [
        "sum(b.results)"
      ],
      "id": "a4c2863c-e82a-45fd-9957-5d3d435c8f1b"
    }
  ],
  "nbformat": 4,
  "nbformat_minor": 5,
  "metadata": {
    "kernelspec": {
      "name": "python3",
      "display_name": "Python 3",
      "language": "python"
    },
    "language_info": {
      "name": "python",
      "codemirror_mode": {
        "name": "ipython",
        "version": "3"
      },
      "file_extension": ".py",
      "mimetype": "text/x-python",
      "nbconvert_exporter": "python",
      "pygments_lexer": "ipython3",
      "version": "3.7.16"
    }
  }
}