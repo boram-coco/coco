{
 "cells": [
  {
   "cell_type": "raw",
   "id": "ac1c0292-7f53-4d17-8423-1dcda8c6943d",
   "metadata": {},
   "source": [
    "---\n",
    "title: \"AS HW1\"\n",
    "author: \"김보람\"\n",
    "date: \"03/29/2023\"\n",
    "categories:\n",
    "  - Applied statistics\n",
    "  - homework\n",
    "---"
   ]
  },
  {
   "cell_type": "markdown",
   "id": "49d47789-84ed-45e8-81ee-aa40ca3f8738",
   "metadata": {
    "tags": []
   },
   "source": [
    "# 1번"
   ]
  },
  {
   "cell_type": "markdown",
   "id": "6cee1902-ded9-4b20-a4e9-01919b615381",
   "metadata": {},
   "source": [
    "원점을 지나는 회귀모형은 다음과 같이 정의할 수 있다.\n",
    "\n",
    "$$y_i = β_1x_i + ϵ_i,  ϵ_i ∼_{i.i.d.} N(0, σ^2), i = 1, \\dots , n$$"
   ]
  },
  {
   "cell_type": "markdown",
   "id": "da6f07d1-bd75-4337-a345-ea477e6e3512",
   "metadata": {},
   "source": [
    "## (1) "
   ]
  },
  {
   "cell_type": "markdown",
   "id": "64b7fac1-62fb-4141-abe8-b92afcdc1db3",
   "metadata": {},
   "source": [
    "오차제곱합을 정의하고 $β_1$의 최소제곱추정량 $(\\hatβ_1)$을 구하여라."
   ]
  },
  {
   "cell_type": "markdown",
   "id": "9b2dd1d0-ff9a-46fb-8e4f-714027625272",
   "metadata": {},
   "source": [
    "$S=\\sum_{i=1}^n \\epsilon^2 = \\sum_{i=1}^n (y_i-\\beta_1 x_i)^2 = \\sum(y_i^2 + \\beta_1^2 x_i^2 -2 \\beta_1 x_i y_i)$"
   ]
  },
  {
   "cell_type": "markdown",
   "id": "39e6c179-eafa-4021-95b5-ab0859f204b0",
   "metadata": {},
   "source": [
    "$\\widehat \\beta_1 = argmin \\sum_{i=1}^n(y_i - \\beta_1 x_i)^2$"
   ]
  },
  {
   "cell_type": "markdown",
   "id": "79505ce3-7219-4568-bf4f-fa89f3bff276",
   "metadata": {},
   "source": [
    "\n",
    "\n",
    "$\\dfrac{\\partial S}{\\partial \\beta_1}= -2 \\sum_{i=1}^n x_i(y_i-\\beta_1 x_i)$\n"
   ]
  },
  {
   "cell_type": "markdown",
   "id": "3f4d18af-3c69-4b64-a6c3-cdc396075980",
   "metadata": {},
   "source": [
    "= $\\sum x_iy_i - \\beta_1 \\sum x_i^2 = 0$"
   ]
  },
  {
   "cell_type": "markdown",
   "id": "042f8e2e-0917-432e-b6f6-eb13fc2cc98e",
   "metadata": {},
   "source": [
    "$\\therefore \\widehat \\beta_1 = \\dfrac{\\sum_{i=1}^n x_i y_i}{\\sum_{i=1}^n x_i^2}$"
   ]
  },
  {
   "cell_type": "markdown",
   "id": "1c41a15e-fbf0-4cf1-a412-dfe054554a7b",
   "metadata": {},
   "source": [
    "## (2)"
   ]
  },
  {
   "cell_type": "markdown",
   "id": "2809b732-eccf-4380-bdc8-86516dc6fcad",
   "metadata": {},
   "source": [
    "$E(\\hatβ_1)$을 구하여라."
   ]
  },
  {
   "cell_type": "markdown",
   "id": "31d80a6e-0dff-43c6-b450-d92fc0adbed3",
   "metadata": {},
   "source": [
    "$a_i = \\dfrac{x_i}{\\sum_{i=1}^n x_i^2}$라고 놓자."
   ]
  },
  {
   "cell_type": "markdown",
   "id": "952c0ebd-e680-4042-9b6a-914322fcc74b",
   "metadata": {},
   "source": [
    "즉, $\\widehat \\beta_1 = \\sum_{i=1}^n a_i y_i$"
   ]
  },
  {
   "cell_type": "markdown",
   "id": "f025f709-c809-4253-a94c-529b210a93d0",
   "metadata": {},
   "source": [
    "$E(\\widehat \\beta_1)= E(\\sum_{i=1}^n a_i y_i) = \\sum_{i=1}^n a_i E(y_i)=\\sum_{i=1}^n a_i E(\\beta_1 x_i + \\epsilon_i)=\\sum_{i=1}^n a_i \\beta_1 x_i = \\dfrac{\\sum_{i=1}^n x_i^2}{\\sum_{i=1}^n x_i^2} \\beta_1 = \\beta_1$"
   ]
  },
  {
   "cell_type": "markdown",
   "id": "6c59d7ec-5887-41a5-9f7f-5b46dea9247d",
   "metadata": {},
   "source": [
    "$E(\\hatβ_1)=\\beta_1$이므로 불편추정량"
   ]
  },
  {
   "cell_type": "markdown",
   "id": "2019ca8b-f382-4af2-b02c-d6ebb1eb8413",
   "metadata": {},
   "source": [
    "## (3)"
   ]
  },
  {
   "cell_type": "markdown",
   "id": "176e3ed0-c474-444e-94e4-a2683c98e1ab",
   "metadata": {},
   "source": [
    "$Var(\\hatβ_1)$을 구하여라."
   ]
  },
  {
   "cell_type": "markdown",
   "id": "b04d81a4-c7e1-4b99-b98b-690f9928b8b7",
   "metadata": {},
   "source": [
    "$Var(\\widehat \\beta_1)= Var(\\sum_{i=1}^n a_i y_i) = \\sum_{i=1}^n a_i^2 Var(y_i)=\\dfrac{\\sigma^2}{\\sum_{i=1}^n x_i^2}$"
   ]
  },
  {
   "cell_type": "markdown",
   "id": "801ff28f-a0b3-4c26-b80e-5962296d2523",
   "metadata": {},
   "source": [
    "$\\because Var(y_i) = \\sigma^2$"
   ]
  },
  {
   "cell_type": "markdown",
   "id": "38ce7a68-3f21-4aa7-9fe5-5182d7f6f001",
   "metadata": {},
   "source": [
    "## (4)"
   ]
  },
  {
   "cell_type": "markdown",
   "id": "240f6903-1283-4f61-9b1b-eb5ea444f3b0",
   "metadata": {},
   "source": [
    "제곱합에 대한 분산분석표를 작성하여라."
   ]
  },
  {
   "cell_type": "markdown",
   "id": "636aa12a-3e74-4e04-82f9-f35f744b33ef",
   "metadata": {},
   "source": [
    "| 요인 | 제곱합(SS) | 자유도(df) |      평균제곱(MS)      |        $F_0$       |     유의확률    |\n",
    "|:----:|:----------:|:----------:|:----------------------:|:------------------:|:---------------:|\n",
    "| 회귀 |    $SSR$   |      1     |  $MSR=\\dfrac{SSR}{1}$  | $\\dfrac{MSR}{MSE}$ | $P(F \\geq F_0)$ |\n",
    "| 잔차 |    $SSE$   |    $n-1$   | $MSE=\\dfrac{SSE}{n-1}$ |                    |                 |\n",
    "|  계  |    $SST$   |    $n$   |                        |                    |                 |"
   ]
  },
  {
   "cell_type": "markdown",
   "id": "178eba67-03ef-48ed-850c-39dd06720937",
   "metadata": {},
   "source": [
    "$SSR=\\sum_{i=1}^n (\\widehat y_i)^2 = \\sum (\\widehat \\beta_1 x_i)^2 = \\widehat \\beta_1^2 \\sum x_i^2$"
   ]
  },
  {
   "cell_type": "markdown",
   "id": "9ca37ffb-722a-4499-8d8d-4cb7b53c08c9",
   "metadata": {},
   "source": [
    "$SSE=\\sum_{i=1}^n(y_i - \\widehat y)^2 = \\sum(y_i - \\widehat \\beta_1 x_i)^2 = \\sum y_i^2 - SSR$"
   ]
  },
  {
   "cell_type": "markdown",
   "id": "c25c82d0-09d2-481f-a67b-1fa9cd68c3f7",
   "metadata": {},
   "source": [
    "$SST=SSE+SSR=\\sum y_i^2$"
   ]
  },
  {
   "cell_type": "markdown",
   "id": "1e558835-6117-492a-8952-2da66fb4a5e1",
   "metadata": {},
   "source": [
    "절편이 없는 모형은 평균이 0인 느낌"
   ]
  },
  {
   "cell_type": "markdown",
   "id": "ec2a5eb3-23b3-46b6-ab45-c389349fe969",
   "metadata": {},
   "source": [
    "$R^2=\\dfrac{\\sum \\widehat y_i^2}{\\sum y_i^2}$"
   ]
  },
  {
   "cell_type": "markdown",
   "id": "9763c9d0-d0b4-46db-9540-b90c5f4afcae",
   "metadata": {},
   "source": [
    "## (5)"
   ]
  },
  {
   "cell_type": "markdown",
   "id": "49d83ce0-e3b3-4c37-905d-6750e9df2b80",
   "metadata": {},
   "source": [
    "회귀모형의 유의성 검정을 하기 위한 가설을 설정하고, 검정통계량을 제시하여라."
   ]
  },
  {
   "cell_type": "markdown",
   "id": "869a4161-1a7d-464a-87fe-59d05205f216",
   "metadata": {},
   "source": [
    "- 가설 $H_0: \\beta_1 = 0 \\ vs \\ H_1:\\beta_1 \\neq 0$"
   ]
  },
  {
   "cell_type": "markdown",
   "id": "75b44f3b-33dd-4fe0-ad04-fc9a6515296c",
   "metadata": {},
   "source": [
    "- 검정통계량 $F=\\dfrac{MSR}{MSE}=\\dfrac{SSR/1}{SSE/(n-1)} \\sim_{H_0} F(1,n-1)$"
   ]
  },
  {
   "cell_type": "markdown",
   "id": "d88d7af3-a14e-49b0-8eeb-45b608890b02",
   "metadata": {},
   "source": [
    "## (6)"
   ]
  },
  {
   "cell_type": "markdown",
   "id": "6eeab6a1-76f5-4674-8632-e9cf1058a42d",
   "metadata": {},
   "source": [
    "위의 가설에 대해, 유의수준 $α$에서 검정하는 방법을 기술하여라."
   ]
  },
  {
   "cell_type": "markdown",
   "id": "373ffd1d-8f3f-46ae-8286-06be14cc35f9",
   "metadata": {},
   "source": [
    "$F_0 > F_\\alpha(1,n-1)$이면 귀무가설을 기각(유의함)하고 그 외는 귀무가설을 채택\n",
    "\n",
    "혹은,\n",
    "\n",
    "유의확률 = $P(F>F_0) < \\alpha \\to H_0$기각\n",
    "\n",
    "유의확률 = $P(F>F_0) > \\alpha \\to H_0$기각못함\n"
   ]
  },
  {
   "cell_type": "markdown",
   "id": "9a1b3c1a-b875-41fe-a45c-83d8e75a5177",
   "metadata": {},
   "source": [
    "## (7)"
   ]
  },
  {
   "cell_type": "markdown",
   "id": "9c1f54b2-4b74-4825-9ecd-8fb407545551",
   "metadata": {},
   "source": [
    "다음의 가설에 대한 검정통계량을 제시하고, 유의수준 $α$에서 가설 검정하는 방법을 기술하여라.\n",
    "\n",
    "\n",
    "$$H_0 : β_1 = 0        \\  vs   \\      H_1 : β_1 > 0$$"
   ]
  },
  {
   "cell_type": "markdown",
   "id": "1271b831-dd67-428a-af9d-06f724417b54",
   "metadata": {},
   "source": [
    "검정통계량 $T=\\dfrac{\\widehat \\beta_1 - 0}{\\widehat{s.e}(\\widehat \\beta_1)} \\sim_{H_0} t(n-1)$"
   ]
  },
  {
   "cell_type": "markdown",
   "id": "e18a6b9c-8efe-4d2d-a7ad-7f20dcb1faf5",
   "metadata": {},
   "source": [
    "$s.e(\\widehat \\beta_1)=\\sqrt{Var(\\widehat \\beta_1)} = \\dfrac{\\sigma}{\\sqrt{\\sum x_i^2}}$"
   ]
  },
  {
   "cell_type": "markdown",
   "id": "ae3f4d9e-c6ac-4df2-9768-f06f65783e81",
   "metadata": {},
   "source": [
    "$\\widehat{s.e}(\\widehat \\beta_1)= \\sqrt{\\dfrac{\\hat {\\sigma^2}}{\\sum x_i^2}}, {\\hat \\sigma^2}=MSE$ $"
   ]
  },
  {
   "cell_type": "markdown",
   "id": "1568748e-1908-44d3-a319-387ca61d5eb8",
   "metadata": {},
   "source": [
    "유의확률 = $P(T > t_0) < \\alpha \\to H_0$기각\n",
    "\n",
    "혹은\n",
    "\n",
    "$t_0>t_{\\alpha}(n-1) \\to H_0$ 기각\n",
    "\n",
    "\n",
    "$t_0<t_{\\alpha}(n-1) \\to H_0$ 기각 못함"
   ]
  },
  {
   "cell_type": "markdown",
   "id": "34bc75ef-398e-4bf0-8276-fcf270530421",
   "metadata": {},
   "source": [
    "# 2번"
   ]
  },
  {
   "cell_type": "markdown",
   "id": "150c4152-544d-46cc-8c91-676f6d8dd70f",
   "metadata": {},
   "source": [
    "‘cars.csv’ 데이터를 이용하여 회귀모형을 적합하려고 한다. \n",
    "\n",
    "이는 자동차의 속도(mph)에 따른 제동거리(ft)를 조사한 데이터이다. \n",
    "\n",
    "다음 물음에 답하여라. (R을 이용하여 풀이)(검정에서는 유의수준 $α = 0.05$ 사용)"
   ]
  },
  {
   "cell_type": "code",
   "execution_count": 3,
   "id": "e1258777-7c6e-4cb5-b19a-106940ed6b2f",
   "metadata": {},
   "outputs": [
    {
     "name": "stderr",
     "output_type": "stream",
     "text": [
      "── \u001b[1mAttaching packages\u001b[22m ─────────────────────────────────────── tidyverse 1.3.1 ──\n",
      "\n",
      "\u001b[32m✔\u001b[39m \u001b[34mggplot2\u001b[39m 3.4.1     \u001b[32m✔\u001b[39m \u001b[34mpurrr  \u001b[39m 1.0.1\n",
      "\u001b[32m✔\u001b[39m \u001b[34mtibble \u001b[39m 3.2.0     \u001b[32m✔\u001b[39m \u001b[34mdplyr  \u001b[39m 1.1.0\n",
      "\u001b[32m✔\u001b[39m \u001b[34mtidyr  \u001b[39m 1.3.0     \u001b[32m✔\u001b[39m \u001b[34mstringr\u001b[39m 1.5.0\n",
      "\u001b[32m✔\u001b[39m \u001b[34mreadr  \u001b[39m 2.1.4     \u001b[32m✔\u001b[39m \u001b[34mforcats\u001b[39m 1.0.0\n",
      "\n",
      "── \u001b[1mConflicts\u001b[22m ────────────────────────────────────────── tidyverse_conflicts() ──\n",
      "\u001b[31m✖\u001b[39m \u001b[34mdplyr\u001b[39m::\u001b[32mfilter()\u001b[39m masks \u001b[34mstats\u001b[39m::filter()\n",
      "\u001b[31m✖\u001b[39m \u001b[34mdplyr\u001b[39m::\u001b[32mlag()\u001b[39m    masks \u001b[34mstats\u001b[39m::lag()\n",
      "\n"
     ]
    }
   ],
   "source": [
    "library(tidyverse)"
   ]
  },
  {
   "cell_type": "code",
   "execution_count": 4,
   "id": "fd9b6585-c1e2-4674-ae60-cd9bf6f0ca06",
   "metadata": {},
   "outputs": [
    {
     "ename": "ERROR",
     "evalue": "Error: 'cars' does not exist in current working directory ('/home/coco/Dropbox/coco/posts/Applied statistics').\n",
     "output_type": "error",
     "traceback": [
      "Error: 'cars' does not exist in current working directory ('/home/coco/Dropbox/coco/posts/Applied statistics').\nTraceback:\n",
      "1. read_csv(\"cars\")",
      "2. vroom::vroom(file, delim = \",\", col_names = col_names, col_types = col_types, \n .     col_select = {\n .         {\n .             col_select\n .         }\n .     }, id = id, .name_repair = name_repair, skip = skip, n_max = n_max, \n .     na = na, quote = quote, comment = comment, skip_empty_rows = skip_empty_rows, \n .     trim_ws = trim_ws, escape_double = TRUE, escape_backslash = FALSE, \n .     locale = locale, guess_max = guess_max, show_col_types = show_col_types, \n .     progress = progress, altrep = lazy, num_threads = num_threads)",
      "3. vroom_(file, delim = delim %||% col_types$delim, col_names = col_names, \n .     col_types = col_types, id = id, skip = skip, col_select = col_select, \n .     name_repair = .name_repair, na = na, quote = quote, trim_ws = trim_ws, \n .     escape_double = escape_double, escape_backslash = escape_backslash, \n .     comment = comment, skip_empty_rows = skip_empty_rows, locale = locale, \n .     guess_max = guess_max, n_max = n_max, altrep = vroom_altrep(altrep), \n .     num_threads = num_threads, progress = progress)",
      "4. (function (path, write = FALSE) \n . {\n .     if (is.raw(path)) {\n .         return(rawConnection(path, \"rb\"))\n .     }\n .     if (!is.character(path)) {\n .         return(path)\n .     }\n .     if (is_url(path)) {\n .         if (requireNamespace(\"curl\", quietly = TRUE)) {\n .             con <- curl::curl(path)\n .         }\n .         else {\n .             rlang::inform(\"`curl` package not installed, falling back to using `url()`\")\n .             con <- url(path)\n .         }\n .         ext <- tolower(tools::file_ext(path))\n .         return(switch(ext, zip = , bz2 = , xz = {\n .             close(con)\n .             stop(\"Reading from remote `\", ext, \"` compressed files is not supported,\\n\", \n .                 \"  download the files locally first.\", call. = FALSE)\n .         }, gz = gzcon(con), con))\n .     }\n .     path <- enc2utf8(path)\n .     p <- split_path_ext(basename_utf8(path))\n .     if (write) {\n .         path <- normalizePath_utf8(path, mustWork = FALSE)\n .     }\n .     else {\n .         path <- check_path(path)\n .     }\n .     if (rlang::is_installed(\"archive\")) {\n .         formats <- archive_formats(p$extension)\n .         extension <- p$extension\n .         while (is.null(formats) && nzchar(extension)) {\n .             extension <- split_path_ext(extension)$extension\n .             formats <- archive_formats(extension)\n .         }\n .         if (!is.null(formats)) {\n .             p$extension <- extension\n .             if (write) {\n .                 if (is.null(formats[[1]])) {\n .                   return(archive::file_write(path, filter = formats[[2]]))\n .                 }\n .                 return(archive::archive_write(path, p$path, format = formats[[1]], \n .                   filter = formats[[2]]))\n .             }\n .             if (is.null(formats[[1]])) {\n .                 return(archive::file_read(path, filter = formats[[2]]))\n .             }\n .             return(archive::archive_read(path, format = formats[[1]], \n .                 filter = formats[[2]]))\n .         }\n .     }\n .     if (!write) {\n .         compression <- detect_compression(path)\n .     }\n .     else {\n .         compression <- NA\n .     }\n .     if (is.na(compression)) {\n .         compression <- tools::file_ext(path)\n .     }\n .     if (write && compression == \"zip\") {\n .         stop(\"Can only read from, not write to, .zip\", call. = FALSE)\n .     }\n .     switch(compression, gz = gzfile(path, \"\"), bz2 = bzfile(path, \n .         \"\"), xz = xzfile(path, \"\"), zip = zipfile(path, \"\"), \n .         if (!has_trailing_newline(path)) {\n .             file(path)\n .         } else {\n .             path\n .         })\n . })(\"cars\")",
      "5. check_path(path)",
      "6. stop(\"'\", path, \"' does not exist\", if (!is_absolute_path(path)) {\n .     paste0(\" in current working directory ('\", getwd(), \"')\")\n . }, \".\", call. = FALSE)"
     ]
    }
   ],
   "source": [
    "read_csv('cars')"
   ]
  },
  {
   "cell_type": "markdown",
   "id": "b370a778-b412-443b-bc67-4b5915bfb209",
   "metadata": {},
   "source": [
    "## (1) 산점도"
   ]
  },
  {
   "cell_type": "markdown",
   "id": "bfb1245c-d4fc-4725-aeb8-f5f70e98a75b",
   "metadata": {},
   "source": [
    "이 데이터의 산점도를 그리고 두 변수 사이의 관계를 설명하시오."
   ]
  },
  {
   "cell_type": "code",
   "execution_count": 40,
   "id": "ab3d7a29-57f3-47fa-ad9e-de61235f4f8a",
   "metadata": {},
   "outputs": [
    {
     "data": {
      "image/png": "[encoded data removed]",
      "text/plain": [
       "plot without title"
      ]
     },
     "metadata": {
      "image/png": {
       "height": 420,
       "width": 420
      }
     },
     "output_type": "display_data"
    }
   ],
   "source": [
    "plot(dist~speed,\n",
    "     data=cars,\n",
    "     xlab=\"speed\",\n",
    "     ylab=\"dist\",\n",
    "     pch=16,\n",
    "     cex=2,\n",
    "     col=\"darkorange\")"
   ]
  },
  {
   "cell_type": "markdown",
   "id": "d3accada-e3d7-4049-8655-1a15d2fc09d0",
   "metadata": {},
   "source": [
    "- 두 변수 사이에 선형관계가 있어 보인다."
   ]
  },
  {
   "cell_type": "markdown",
   "id": "1d077dc0-6e00-4495-aad1-4a1b18e5ad79",
   "metadata": {},
   "source": [
    "## (2) 회귀직선"
   ]
  },
  {
   "cell_type": "markdown",
   "id": "0735558e-f173-4de1-b11b-f9b5767c51ad",
   "metadata": {},
   "source": [
    "최소제곱법의 의한 회귀직선을 적합시키시키고, 모형 적합 결과를 설명하시오."
   ]
  },
  {
   "cell_type": "code",
   "execution_count": 97,
   "id": "62db8b7e-d184-45d9-805a-803a380a5957",
   "metadata": {},
   "outputs": [
    {
     "data": {
      "text/html": [
       "<table class=\"dataframe\">\n",
       "<caption>A data.frame: 50 × 5</caption>\n",
       "<thead>\n",
       "\t<tr><th scope=col>i</th><th scope=col>x</th><th scope=col>y</th><th scope=col>x_barx</th><th scope=col>y_bary</th></tr>\n",
       "\t<tr><th scope=col>&lt;int&gt;</th><th scope=col>&lt;dbl&gt;</th><th scope=col>&lt;dbl&gt;</th><th scope=col>&lt;dbl&gt;</th><th scope=col>&lt;dbl&gt;</th></tr>\n",
       "</thead>\n",
       "<tbody>\n",
       "\t<tr><td> 1</td><td> 4</td><td>  2</td><td>-11.4</td><td>-40.98</td></tr>\n",
       "\t<tr><td> 2</td><td> 4</td><td> 10</td><td>-11.4</td><td>-32.98</td></tr>\n",
       "\t<tr><td> 3</td><td> 7</td><td>  4</td><td> -8.4</td><td>-38.98</td></tr>\n",
       "\t<tr><td> 4</td><td> 7</td><td> 22</td><td> -8.4</td><td>-20.98</td></tr>\n",
       "\t<tr><td> 5</td><td> 8</td><td> 16</td><td> -7.4</td><td>-26.98</td></tr>\n",
       "\t<tr><td> 6</td><td> 9</td><td> 10</td><td> -6.4</td><td>-32.98</td></tr>\n",
       "\t<tr><td> 7</td><td>10</td><td> 18</td><td> -5.4</td><td>-24.98</td></tr>\n",
       "\t<tr><td> 8</td><td>10</td><td> 26</td><td> -5.4</td><td>-16.98</td></tr>\n",
       "\t<tr><td> 9</td><td>10</td><td> 34</td><td> -5.4</td><td> -8.98</td></tr>\n",
       "\t<tr><td>10</td><td>11</td><td> 17</td><td> -4.4</td><td>-25.98</td></tr>\n",
       "\t<tr><td>11</td><td>11</td><td> 28</td><td> -4.4</td><td>-14.98</td></tr>\n",
       "\t<tr><td>12</td><td>12</td><td> 14</td><td> -3.4</td><td>-28.98</td></tr>\n",
       "\t<tr><td>13</td><td>12</td><td> 20</td><td> -3.4</td><td>-22.98</td></tr>\n",
       "\t<tr><td>14</td><td>12</td><td> 24</td><td> -3.4</td><td>-18.98</td></tr>\n",
       "\t<tr><td>15</td><td>12</td><td> 28</td><td> -3.4</td><td>-14.98</td></tr>\n",
       "\t<tr><td>16</td><td>13</td><td> 26</td><td> -2.4</td><td>-16.98</td></tr>\n",
       "\t<tr><td>17</td><td>13</td><td> 34</td><td> -2.4</td><td> -8.98</td></tr>\n",
       "\t<tr><td>18</td><td>13</td><td> 34</td><td> -2.4</td><td> -8.98</td></tr>\n",
       "\t<tr><td>19</td><td>13</td><td> 46</td><td> -2.4</td><td>  3.02</td></tr>\n",
       "\t<tr><td>20</td><td>14</td><td> 26</td><td> -1.4</td><td>-16.98</td></tr>\n",
       "\t<tr><td>21</td><td>14</td><td> 36</td><td> -1.4</td><td> -6.98</td></tr>\n",
       "\t<tr><td>22</td><td>14</td><td> 60</td><td> -1.4</td><td> 17.02</td></tr>\n",
       "\t<tr><td>23</td><td>14</td><td> 80</td><td> -1.4</td><td> 37.02</td></tr>\n",
       "\t<tr><td>24</td><td>15</td><td> 20</td><td> -0.4</td><td>-22.98</td></tr>\n",
       "\t<tr><td>25</td><td>15</td><td> 26</td><td> -0.4</td><td>-16.98</td></tr>\n",
       "\t<tr><td>26</td><td>15</td><td> 54</td><td> -0.4</td><td> 11.02</td></tr>\n",
       "\t<tr><td>27</td><td>16</td><td> 32</td><td>  0.6</td><td>-10.98</td></tr>\n",
       "\t<tr><td>28</td><td>16</td><td> 40</td><td>  0.6</td><td> -2.98</td></tr>\n",
       "\t<tr><td>29</td><td>17</td><td> 32</td><td>  1.6</td><td>-10.98</td></tr>\n",
       "\t<tr><td>30</td><td>17</td><td> 40</td><td>  1.6</td><td> -2.98</td></tr>\n",
       "\t<tr><td>31</td><td>17</td><td> 50</td><td>  1.6</td><td>  7.02</td></tr>\n",
       "\t<tr><td>32</td><td>18</td><td> 42</td><td>  2.6</td><td> -0.98</td></tr>\n",
       "\t<tr><td>33</td><td>18</td><td> 56</td><td>  2.6</td><td> 13.02</td></tr>\n",
       "\t<tr><td>34</td><td>18</td><td> 76</td><td>  2.6</td><td> 33.02</td></tr>\n",
       "\t<tr><td>35</td><td>18</td><td> 84</td><td>  2.6</td><td> 41.02</td></tr>\n",
       "\t<tr><td>36</td><td>19</td><td> 36</td><td>  3.6</td><td> -6.98</td></tr>\n",
       "\t<tr><td>37</td><td>19</td><td> 46</td><td>  3.6</td><td>  3.02</td></tr>\n",
       "\t<tr><td>38</td><td>19</td><td> 68</td><td>  3.6</td><td> 25.02</td></tr>\n",
       "\t<tr><td>39</td><td>20</td><td> 32</td><td>  4.6</td><td>-10.98</td></tr>\n",
       "\t<tr><td>40</td><td>20</td><td> 48</td><td>  4.6</td><td>  5.02</td></tr>\n",
       "\t<tr><td>41</td><td>20</td><td> 52</td><td>  4.6</td><td>  9.02</td></tr>\n",
       "\t<tr><td>42</td><td>20</td><td> 56</td><td>  4.6</td><td> 13.02</td></tr>\n",
       "\t<tr><td>43</td><td>20</td><td> 64</td><td>  4.6</td><td> 21.02</td></tr>\n",
       "\t<tr><td>44</td><td>22</td><td> 66</td><td>  6.6</td><td> 23.02</td></tr>\n",
       "\t<tr><td>45</td><td>23</td><td> 54</td><td>  7.6</td><td> 11.02</td></tr>\n",
       "\t<tr><td>46</td><td>24</td><td> 70</td><td>  8.6</td><td> 27.02</td></tr>\n",
       "\t<tr><td>47</td><td>24</td><td> 92</td><td>  8.6</td><td> 49.02</td></tr>\n",
       "\t<tr><td>48</td><td>24</td><td> 93</td><td>  8.6</td><td> 50.02</td></tr>\n",
       "\t<tr><td>49</td><td>24</td><td>120</td><td>  8.6</td><td> 77.02</td></tr>\n",
       "\t<tr><td>50</td><td>25</td><td> 85</td><td>  9.6</td><td> 42.02</td></tr>\n",
       "</tbody>\n",
       "</table>\n"
      ],
      "text/latex": [
       "A data.frame: 50 × 5\n",
       "\\begin{tabular}{lllll}\n",
       " i & x & y & x\\_barx & y\\_bary\\\\\n",
       " <int> & <dbl> & <dbl> & <dbl> & <dbl>\\\\\n",
       "\\hline\n",
       "\t  1 &  4 &   2 & -11.4 & -40.98\\\\\n",
       "\t  2 &  4 &  10 & -11.4 & -32.98\\\\\n",
       "\t  3 &  7 &   4 &  -8.4 & -38.98\\\\\n",
       "\t  4 &  7 &  22 &  -8.4 & -20.98\\\\\n",
       "\t  5 &  8 &  16 &  -7.4 & -26.98\\\\\n",
       "\t  6 &  9 &  10 &  -6.4 & -32.98\\\\\n",
       "\t  7 & 10 &  18 &  -5.4 & -24.98\\\\\n",
       "\t  8 & 10 &  26 &  -5.4 & -16.98\\\\\n",
       "\t  9 & 10 &  34 &  -5.4 &  -8.98\\\\\n",
       "\t 10 & 11 &  17 &  -4.4 & -25.98\\\\\n",
       "\t 11 & 11 &  28 &  -4.4 & -14.98\\\\\n",
       "\t 12 & 12 &  14 &  -3.4 & -28.98\\\\\n",
       "\t 13 & 12 &  20 &  -3.4 & -22.98\\\\\n",
       "\t 14 & 12 &  24 &  -3.4 & -18.98\\\\\n",
       "\t 15 & 12 &  28 &  -3.4 & -14.98\\\\\n",
       "\t 16 & 13 &  26 &  -2.4 & -16.98\\\\\n",
       "\t 17 & 13 &  34 &  -2.4 &  -8.98\\\\\n",
       "\t 18 & 13 &  34 &  -2.4 &  -8.98\\\\\n",
       "\t 19 & 13 &  46 &  -2.4 &   3.02\\\\\n",
       "\t 20 & 14 &  26 &  -1.4 & -16.98\\\\\n",
       "\t 21 & 14 &  36 &  -1.4 &  -6.98\\\\\n",
       "\t 22 & 14 &  60 &  -1.4 &  17.02\\\\\n",
       "\t 23 & 14 &  80 &  -1.4 &  37.02\\\\\n",
       "\t 24 & 15 &  20 &  -0.4 & -22.98\\\\\n",
       "\t 25 & 15 &  26 &  -0.4 & -16.98\\\\\n",
       "\t 26 & 15 &  54 &  -0.4 &  11.02\\\\\n",
       "\t 27 & 16 &  32 &   0.6 & -10.98\\\\\n",
       "\t 28 & 16 &  40 &   0.6 &  -2.98\\\\\n",
       "\t 29 & 17 &  32 &   1.6 & -10.98\\\\\n",
       "\t 30 & 17 &  40 &   1.6 &  -2.98\\\\\n",
       "\t 31 & 17 &  50 &   1.6 &   7.02\\\\\n",
       "\t 32 & 18 &  42 &   2.6 &  -0.98\\\\\n",
       "\t 33 & 18 &  56 &   2.6 &  13.02\\\\\n",
       "\t 34 & 18 &  76 &   2.6 &  33.02\\\\\n",
       "\t 35 & 18 &  84 &   2.6 &  41.02\\\\\n",
       "\t 36 & 19 &  36 &   3.6 &  -6.98\\\\\n",
       "\t 37 & 19 &  46 &   3.6 &   3.02\\\\\n",
       "\t 38 & 19 &  68 &   3.6 &  25.02\\\\\n",
       "\t 39 & 20 &  32 &   4.6 & -10.98\\\\\n",
       "\t 40 & 20 &  48 &   4.6 &   5.02\\\\\n",
       "\t 41 & 20 &  52 &   4.6 &   9.02\\\\\n",
       "\t 42 & 20 &  56 &   4.6 &  13.02\\\\\n",
       "\t 43 & 20 &  64 &   4.6 &  21.02\\\\\n",
       "\t 44 & 22 &  66 &   6.6 &  23.02\\\\\n",
       "\t 45 & 23 &  54 &   7.6 &  11.02\\\\\n",
       "\t 46 & 24 &  70 &   8.6 &  27.02\\\\\n",
       "\t 47 & 24 &  92 &   8.6 &  49.02\\\\\n",
       "\t 48 & 24 &  93 &   8.6 &  50.02\\\\\n",
       "\t 49 & 24 & 120 &   8.6 &  77.02\\\\\n",
       "\t 50 & 25 &  85 &   9.6 &  42.02\\\\\n",
       "\\end{tabular}\n"
      ],
      "text/markdown": [
       "\n",
       "A data.frame: 50 × 5\n",
       "\n",
       "| i &lt;int&gt; | x &lt;dbl&gt; | y &lt;dbl&gt; | x_barx &lt;dbl&gt; | y_bary &lt;dbl&gt; |\n",
       "|---|---|---|---|---|\n",
       "|  1 |  4 |   2 | -11.4 | -40.98 |\n",
       "|  2 |  4 |  10 | -11.4 | -32.98 |\n",
       "|  3 |  7 |   4 |  -8.4 | -38.98 |\n",
       "|  4 |  7 |  22 |  -8.4 | -20.98 |\n",
       "|  5 |  8 |  16 |  -7.4 | -26.98 |\n",
       "|  6 |  9 |  10 |  -6.4 | -32.98 |\n",
       "|  7 | 10 |  18 |  -5.4 | -24.98 |\n",
       "|  8 | 10 |  26 |  -5.4 | -16.98 |\n",
       "|  9 | 10 |  34 |  -5.4 |  -8.98 |\n",
       "| 10 | 11 |  17 |  -4.4 | -25.98 |\n",
       "| 11 | 11 |  28 |  -4.4 | -14.98 |\n",
       "| 12 | 12 |  14 |  -3.4 | -28.98 |\n",
       "| 13 | 12 |  20 |  -3.4 | -22.98 |\n",
       "| 14 | 12 |  24 |  -3.4 | -18.98 |\n",
       "| 15 | 12 |  28 |  -3.4 | -14.98 |\n",
       "| 16 | 13 |  26 |  -2.4 | -16.98 |\n",
       "| 17 | 13 |  34 |  -2.4 |  -8.98 |\n",
       "| 18 | 13 |  34 |  -2.4 |  -8.98 |\n",
       "| 19 | 13 |  46 |  -2.4 |   3.02 |\n",
       "| 20 | 14 |  26 |  -1.4 | -16.98 |\n",
       "| 21 | 14 |  36 |  -1.4 |  -6.98 |\n",
       "| 22 | 14 |  60 |  -1.4 |  17.02 |\n",
       "| 23 | 14 |  80 |  -1.4 |  37.02 |\n",
       "| 24 | 15 |  20 |  -0.4 | -22.98 |\n",
       "| 25 | 15 |  26 |  -0.4 | -16.98 |\n",
       "| 26 | 15 |  54 |  -0.4 |  11.02 |\n",
       "| 27 | 16 |  32 |   0.6 | -10.98 |\n",
       "| 28 | 16 |  40 |   0.6 |  -2.98 |\n",
       "| 29 | 17 |  32 |   1.6 | -10.98 |\n",
       "| 30 | 17 |  40 |   1.6 |  -2.98 |\n",
       "| 31 | 17 |  50 |   1.6 |   7.02 |\n",
       "| 32 | 18 |  42 |   2.6 |  -0.98 |\n",
       "| 33 | 18 |  56 |   2.6 |  13.02 |\n",
       "| 34 | 18 |  76 |   2.6 |  33.02 |\n",
       "| 35 | 18 |  84 |   2.6 |  41.02 |\n",
       "| 36 | 19 |  36 |   3.6 |  -6.98 |\n",
       "| 37 | 19 |  46 |   3.6 |   3.02 |\n",
       "| 38 | 19 |  68 |   3.6 |  25.02 |\n",
       "| 39 | 20 |  32 |   4.6 | -10.98 |\n",
       "| 40 | 20 |  48 |   4.6 |   5.02 |\n",
       "| 41 | 20 |  52 |   4.6 |   9.02 |\n",
       "| 42 | 20 |  56 |   4.6 |  13.02 |\n",
       "| 43 | 20 |  64 |   4.6 |  21.02 |\n",
       "| 44 | 22 |  66 |   6.6 |  23.02 |\n",
       "| 45 | 23 |  54 |   7.6 |  11.02 |\n",
       "| 46 | 24 |  70 |   8.6 |  27.02 |\n",
       "| 47 | 24 |  92 |   8.6 |  49.02 |\n",
       "| 48 | 24 |  93 |   8.6 |  50.02 |\n",
       "| 49 | 24 | 120 |   8.6 |  77.02 |\n",
       "| 50 | 25 |  85 |   9.6 |  42.02 |\n",
       "\n"
      ],
      "text/plain": [
       "   i  x  y   x_barx y_bary\n",
       "1   1  4   2 -11.4  -40.98\n",
       "2   2  4  10 -11.4  -32.98\n",
       "3   3  7   4  -8.4  -38.98\n",
       "4   4  7  22  -8.4  -20.98\n",
       "5   5  8  16  -7.4  -26.98\n",
       "6   6  9  10  -6.4  -32.98\n",
       "7   7 10  18  -5.4  -24.98\n",
       "8   8 10  26  -5.4  -16.98\n",
       "9   9 10  34  -5.4   -8.98\n",
       "10 10 11  17  -4.4  -25.98\n",
       "11 11 11  28  -4.4  -14.98\n",
       "12 12 12  14  -3.4  -28.98\n",
       "13 13 12  20  -3.4  -22.98\n",
       "14 14 12  24  -3.4  -18.98\n",
       "15 15 12  28  -3.4  -14.98\n",
       "16 16 13  26  -2.4  -16.98\n",
       "17 17 13  34  -2.4   -8.98\n",
       "18 18 13  34  -2.4   -8.98\n",
       "19 19 13  46  -2.4    3.02\n",
       "20 20 14  26  -1.4  -16.98\n",
       "21 21 14  36  -1.4   -6.98\n",
       "22 22 14  60  -1.4   17.02\n",
       "23 23 14  80  -1.4   37.02\n",
       "24 24 15  20  -0.4  -22.98\n",
       "25 25 15  26  -0.4  -16.98\n",
       "26 26 15  54  -0.4   11.02\n",
       "27 27 16  32   0.6  -10.98\n",
       "28 28 16  40   0.6   -2.98\n",
       "29 29 17  32   1.6  -10.98\n",
       "30 30 17  40   1.6   -2.98\n",
       "31 31 17  50   1.6    7.02\n",
       "32 32 18  42   2.6   -0.98\n",
       "33 33 18  56   2.6   13.02\n",
       "34 34 18  76   2.6   33.02\n",
       "35 35 18  84   2.6   41.02\n",
       "36 36 19  36   3.6   -6.98\n",
       "37 37 19  46   3.6    3.02\n",
       "38 38 19  68   3.6   25.02\n",
       "39 39 20  32   4.6  -10.98\n",
       "40 40 20  48   4.6    5.02\n",
       "41 41 20  52   4.6    9.02\n",
       "42 42 20  56   4.6   13.02\n",
       "43 43 20  64   4.6   21.02\n",
       "44 44 22  66   6.6   23.02\n",
       "45 45 23  54   7.6   11.02\n",
       "46 46 24  70   8.6   27.02\n",
       "47 47 24  92   8.6   49.02\n",
       "48 48 24  93   8.6   50.02\n",
       "49 49 24 120   8.6   77.02\n",
       "50 50 25  85   9.6   42.02"
      ]
     },
     "metadata": {},
     "output_type": "display_data"
    }
   ],
   "source": [
    "dt <- data.frame(\n",
    "  i = 1:nrow(cars),\n",
    "  x = cars$speed,\n",
    "  y = cars$dist,\n",
    "  x_barx = cars$speed - mean(cars$speed),\n",
    "  y_bary = cars$dist - mean(cars$dist)) \n",
    "dt\n"
   ]
  },
  {
   "cell_type": "code",
   "execution_count": 98,
   "id": "feb92f35-fe7d-44ac-8f50-da19f1263fba",
   "metadata": {},
   "outputs": [
    {
     "data": {
      "text/html": [
       "<table class=\"dataframe\">\n",
       "<caption>A data.frame: 50 × 8</caption>\n",
       "<thead>\n",
       "\t<tr><th scope=col>i</th><th scope=col>x</th><th scope=col>y</th><th scope=col>x_barx</th><th scope=col>y_bary</th><th scope=col>x_barx2</th><th scope=col>y_bary2</th><th scope=col>x_barxy_bary</th></tr>\n",
       "\t<tr><th scope=col>&lt;int&gt;</th><th scope=col>&lt;dbl&gt;</th><th scope=col>&lt;dbl&gt;</th><th scope=col>&lt;dbl&gt;</th><th scope=col>&lt;dbl&gt;</th><th scope=col>&lt;dbl&gt;</th><th scope=col>&lt;dbl&gt;</th><th scope=col>&lt;dbl&gt;</th></tr>\n",
       "</thead>\n",
       "<tbody>\n",
       "\t<tr><td> 1</td><td> 4</td><td>  2</td><td>-11.4</td><td>-40.98</td><td>129.96</td><td>1679.3604</td><td>467.172</td></tr>\n",
       "\t<tr><td> 2</td><td> 4</td><td> 10</td><td>-11.4</td><td>-32.98</td><td>129.96</td><td>1087.6804</td><td>375.972</td></tr>\n",
       "\t<tr><td> 3</td><td> 7</td><td>  4</td><td> -8.4</td><td>-38.98</td><td> 70.56</td><td>1519.4404</td><td>327.432</td></tr>\n",
       "\t<tr><td> 4</td><td> 7</td><td> 22</td><td> -8.4</td><td>-20.98</td><td> 70.56</td><td> 440.1604</td><td>176.232</td></tr>\n",
       "\t<tr><td> 5</td><td> 8</td><td> 16</td><td> -7.4</td><td>-26.98</td><td> 54.76</td><td> 727.9204</td><td>199.652</td></tr>\n",
       "\t<tr><td> 6</td><td> 9</td><td> 10</td><td> -6.4</td><td>-32.98</td><td> 40.96</td><td>1087.6804</td><td>211.072</td></tr>\n",
       "\t<tr><td> 7</td><td>10</td><td> 18</td><td> -5.4</td><td>-24.98</td><td> 29.16</td><td> 624.0004</td><td>134.892</td></tr>\n",
       "\t<tr><td> 8</td><td>10</td><td> 26</td><td> -5.4</td><td>-16.98</td><td> 29.16</td><td> 288.3204</td><td> 91.692</td></tr>\n",
       "\t<tr><td> 9</td><td>10</td><td> 34</td><td> -5.4</td><td> -8.98</td><td> 29.16</td><td>  80.6404</td><td> 48.492</td></tr>\n",
       "\t<tr><td>10</td><td>11</td><td> 17</td><td> -4.4</td><td>-25.98</td><td> 19.36</td><td> 674.9604</td><td>114.312</td></tr>\n",
       "\t<tr><td>11</td><td>11</td><td> 28</td><td> -4.4</td><td>-14.98</td><td> 19.36</td><td> 224.4004</td><td> 65.912</td></tr>\n",
       "\t<tr><td>12</td><td>12</td><td> 14</td><td> -3.4</td><td>-28.98</td><td> 11.56</td><td> 839.8404</td><td> 98.532</td></tr>\n",
       "\t<tr><td>13</td><td>12</td><td> 20</td><td> -3.4</td><td>-22.98</td><td> 11.56</td><td> 528.0804</td><td> 78.132</td></tr>\n",
       "\t<tr><td>14</td><td>12</td><td> 24</td><td> -3.4</td><td>-18.98</td><td> 11.56</td><td> 360.2404</td><td> 64.532</td></tr>\n",
       "\t<tr><td>15</td><td>12</td><td> 28</td><td> -3.4</td><td>-14.98</td><td> 11.56</td><td> 224.4004</td><td> 50.932</td></tr>\n",
       "\t<tr><td>16</td><td>13</td><td> 26</td><td> -2.4</td><td>-16.98</td><td>  5.76</td><td> 288.3204</td><td> 40.752</td></tr>\n",
       "\t<tr><td>17</td><td>13</td><td> 34</td><td> -2.4</td><td> -8.98</td><td>  5.76</td><td>  80.6404</td><td> 21.552</td></tr>\n",
       "\t<tr><td>18</td><td>13</td><td> 34</td><td> -2.4</td><td> -8.98</td><td>  5.76</td><td>  80.6404</td><td> 21.552</td></tr>\n",
       "\t<tr><td>19</td><td>13</td><td> 46</td><td> -2.4</td><td>  3.02</td><td>  5.76</td><td>   9.1204</td><td> -7.248</td></tr>\n",
       "\t<tr><td>20</td><td>14</td><td> 26</td><td> -1.4</td><td>-16.98</td><td>  1.96</td><td> 288.3204</td><td> 23.772</td></tr>\n",
       "\t<tr><td>21</td><td>14</td><td> 36</td><td> -1.4</td><td> -6.98</td><td>  1.96</td><td>  48.7204</td><td>  9.772</td></tr>\n",
       "\t<tr><td>22</td><td>14</td><td> 60</td><td> -1.4</td><td> 17.02</td><td>  1.96</td><td> 289.6804</td><td>-23.828</td></tr>\n",
       "\t<tr><td>23</td><td>14</td><td> 80</td><td> -1.4</td><td> 37.02</td><td>  1.96</td><td>1370.4804</td><td>-51.828</td></tr>\n",
       "\t<tr><td>24</td><td>15</td><td> 20</td><td> -0.4</td><td>-22.98</td><td>  0.16</td><td> 528.0804</td><td>  9.192</td></tr>\n",
       "\t<tr><td>25</td><td>15</td><td> 26</td><td> -0.4</td><td>-16.98</td><td>  0.16</td><td> 288.3204</td><td>  6.792</td></tr>\n",
       "\t<tr><td>26</td><td>15</td><td> 54</td><td> -0.4</td><td> 11.02</td><td>  0.16</td><td> 121.4404</td><td> -4.408</td></tr>\n",
       "\t<tr><td>27</td><td>16</td><td> 32</td><td>  0.6</td><td>-10.98</td><td>  0.36</td><td> 120.5604</td><td> -6.588</td></tr>\n",
       "\t<tr><td>28</td><td>16</td><td> 40</td><td>  0.6</td><td> -2.98</td><td>  0.36</td><td>   8.8804</td><td> -1.788</td></tr>\n",
       "\t<tr><td>29</td><td>17</td><td> 32</td><td>  1.6</td><td>-10.98</td><td>  2.56</td><td> 120.5604</td><td>-17.568</td></tr>\n",
       "\t<tr><td>30</td><td>17</td><td> 40</td><td>  1.6</td><td> -2.98</td><td>  2.56</td><td>   8.8804</td><td> -4.768</td></tr>\n",
       "\t<tr><td>31</td><td>17</td><td> 50</td><td>  1.6</td><td>  7.02</td><td>  2.56</td><td>  49.2804</td><td> 11.232</td></tr>\n",
       "\t<tr><td>32</td><td>18</td><td> 42</td><td>  2.6</td><td> -0.98</td><td>  6.76</td><td>   0.9604</td><td> -2.548</td></tr>\n",
       "\t<tr><td>33</td><td>18</td><td> 56</td><td>  2.6</td><td> 13.02</td><td>  6.76</td><td> 169.5204</td><td> 33.852</td></tr>\n",
       "\t<tr><td>34</td><td>18</td><td> 76</td><td>  2.6</td><td> 33.02</td><td>  6.76</td><td>1090.3204</td><td> 85.852</td></tr>\n",
       "\t<tr><td>35</td><td>18</td><td> 84</td><td>  2.6</td><td> 41.02</td><td>  6.76</td><td>1682.6404</td><td>106.652</td></tr>\n",
       "\t<tr><td>36</td><td>19</td><td> 36</td><td>  3.6</td><td> -6.98</td><td> 12.96</td><td>  48.7204</td><td>-25.128</td></tr>\n",
       "\t<tr><td>37</td><td>19</td><td> 46</td><td>  3.6</td><td>  3.02</td><td> 12.96</td><td>   9.1204</td><td> 10.872</td></tr>\n",
       "\t<tr><td>38</td><td>19</td><td> 68</td><td>  3.6</td><td> 25.02</td><td> 12.96</td><td> 626.0004</td><td> 90.072</td></tr>\n",
       "\t<tr><td>39</td><td>20</td><td> 32</td><td>  4.6</td><td>-10.98</td><td> 21.16</td><td> 120.5604</td><td>-50.508</td></tr>\n",
       "\t<tr><td>40</td><td>20</td><td> 48</td><td>  4.6</td><td>  5.02</td><td> 21.16</td><td>  25.2004</td><td> 23.092</td></tr>\n",
       "\t<tr><td>41</td><td>20</td><td> 52</td><td>  4.6</td><td>  9.02</td><td> 21.16</td><td>  81.3604</td><td> 41.492</td></tr>\n",
       "\t<tr><td>42</td><td>20</td><td> 56</td><td>  4.6</td><td> 13.02</td><td> 21.16</td><td> 169.5204</td><td> 59.892</td></tr>\n",
       "\t<tr><td>43</td><td>20</td><td> 64</td><td>  4.6</td><td> 21.02</td><td> 21.16</td><td> 441.8404</td><td> 96.692</td></tr>\n",
       "\t<tr><td>44</td><td>22</td><td> 66</td><td>  6.6</td><td> 23.02</td><td> 43.56</td><td> 529.9204</td><td>151.932</td></tr>\n",
       "\t<tr><td>45</td><td>23</td><td> 54</td><td>  7.6</td><td> 11.02</td><td> 57.76</td><td> 121.4404</td><td> 83.752</td></tr>\n",
       "\t<tr><td>46</td><td>24</td><td> 70</td><td>  8.6</td><td> 27.02</td><td> 73.96</td><td> 730.0804</td><td>232.372</td></tr>\n",
       "\t<tr><td>47</td><td>24</td><td> 92</td><td>  8.6</td><td> 49.02</td><td> 73.96</td><td>2402.9604</td><td>421.572</td></tr>\n",
       "\t<tr><td>48</td><td>24</td><td> 93</td><td>  8.6</td><td> 50.02</td><td> 73.96</td><td>2502.0004</td><td>430.172</td></tr>\n",
       "\t<tr><td>49</td><td>24</td><td>120</td><td>  8.6</td><td> 77.02</td><td> 73.96</td><td>5932.0804</td><td>662.372</td></tr>\n",
       "\t<tr><td>50</td><td>25</td><td> 85</td><td>  9.6</td><td> 42.02</td><td> 92.16</td><td>1765.6804</td><td>403.392</td></tr>\n",
       "</tbody>\n",
       "</table>\n"
      ],
      "text/latex": [
       "A data.frame: 50 × 8\n",
       "\\begin{tabular}{llllllll}\n",
       " i & x & y & x\\_barx & y\\_bary & x\\_barx2 & y\\_bary2 & x\\_barxy\\_bary\\\\\n",
       " <int> & <dbl> & <dbl> & <dbl> & <dbl> & <dbl> & <dbl> & <dbl>\\\\\n",
       "\\hline\n",
       "\t  1 &  4 &   2 & -11.4 & -40.98 & 129.96 & 1679.3604 & 467.172\\\\\n",
       "\t  2 &  4 &  10 & -11.4 & -32.98 & 129.96 & 1087.6804 & 375.972\\\\\n",
       "\t  3 &  7 &   4 &  -8.4 & -38.98 &  70.56 & 1519.4404 & 327.432\\\\\n",
       "\t  4 &  7 &  22 &  -8.4 & -20.98 &  70.56 &  440.1604 & 176.232\\\\\n",
       "\t  5 &  8 &  16 &  -7.4 & -26.98 &  54.76 &  727.9204 & 199.652\\\\\n",
       "\t  6 &  9 &  10 &  -6.4 & -32.98 &  40.96 & 1087.6804 & 211.072\\\\\n",
       "\t  7 & 10 &  18 &  -5.4 & -24.98 &  29.16 &  624.0004 & 134.892\\\\\n",
       "\t  8 & 10 &  26 &  -5.4 & -16.98 &  29.16 &  288.3204 &  91.692\\\\\n",
       "\t  9 & 10 &  34 &  -5.4 &  -8.98 &  29.16 &   80.6404 &  48.492\\\\\n",
       "\t 10 & 11 &  17 &  -4.4 & -25.98 &  19.36 &  674.9604 & 114.312\\\\\n",
       "\t 11 & 11 &  28 &  -4.4 & -14.98 &  19.36 &  224.4004 &  65.912\\\\\n",
       "\t 12 & 12 &  14 &  -3.4 & -28.98 &  11.56 &  839.8404 &  98.532\\\\\n",
       "\t 13 & 12 &  20 &  -3.4 & -22.98 &  11.56 &  528.0804 &  78.132\\\\\n",
       "\t 14 & 12 &  24 &  -3.4 & -18.98 &  11.56 &  360.2404 &  64.532\\\\\n",
       "\t 15 & 12 &  28 &  -3.4 & -14.98 &  11.56 &  224.4004 &  50.932\\\\\n",
       "\t 16 & 13 &  26 &  -2.4 & -16.98 &   5.76 &  288.3204 &  40.752\\\\\n",
       "\t 17 & 13 &  34 &  -2.4 &  -8.98 &   5.76 &   80.6404 &  21.552\\\\\n",
       "\t 18 & 13 &  34 &  -2.4 &  -8.98 &   5.76 &   80.6404 &  21.552\\\\\n",
       "\t 19 & 13 &  46 &  -2.4 &   3.02 &   5.76 &    9.1204 &  -7.248\\\\\n",
       "\t 20 & 14 &  26 &  -1.4 & -16.98 &   1.96 &  288.3204 &  23.772\\\\\n",
       "\t 21 & 14 &  36 &  -1.4 &  -6.98 &   1.96 &   48.7204 &   9.772\\\\\n",
       "\t 22 & 14 &  60 &  -1.4 &  17.02 &   1.96 &  289.6804 & -23.828\\\\\n",
       "\t 23 & 14 &  80 &  -1.4 &  37.02 &   1.96 & 1370.4804 & -51.828\\\\\n",
       "\t 24 & 15 &  20 &  -0.4 & -22.98 &   0.16 &  528.0804 &   9.192\\\\\n",
       "\t 25 & 15 &  26 &  -0.4 & -16.98 &   0.16 &  288.3204 &   6.792\\\\\n",
       "\t 26 & 15 &  54 &  -0.4 &  11.02 &   0.16 &  121.4404 &  -4.408\\\\\n",
       "\t 27 & 16 &  32 &   0.6 & -10.98 &   0.36 &  120.5604 &  -6.588\\\\\n",
       "\t 28 & 16 &  40 &   0.6 &  -2.98 &   0.36 &    8.8804 &  -1.788\\\\\n",
       "\t 29 & 17 &  32 &   1.6 & -10.98 &   2.56 &  120.5604 & -17.568\\\\\n",
       "\t 30 & 17 &  40 &   1.6 &  -2.98 &   2.56 &    8.8804 &  -4.768\\\\\n",
       "\t 31 & 17 &  50 &   1.6 &   7.02 &   2.56 &   49.2804 &  11.232\\\\\n",
       "\t 32 & 18 &  42 &   2.6 &  -0.98 &   6.76 &    0.9604 &  -2.548\\\\\n",
       "\t 33 & 18 &  56 &   2.6 &  13.02 &   6.76 &  169.5204 &  33.852\\\\\n",
       "\t 34 & 18 &  76 &   2.6 &  33.02 &   6.76 & 1090.3204 &  85.852\\\\\n",
       "\t 35 & 18 &  84 &   2.6 &  41.02 &   6.76 & 1682.6404 & 106.652\\\\\n",
       "\t 36 & 19 &  36 &   3.6 &  -6.98 &  12.96 &   48.7204 & -25.128\\\\\n",
       "\t 37 & 19 &  46 &   3.6 &   3.02 &  12.96 &    9.1204 &  10.872\\\\\n",
       "\t 38 & 19 &  68 &   3.6 &  25.02 &  12.96 &  626.0004 &  90.072\\\\\n",
       "\t 39 & 20 &  32 &   4.6 & -10.98 &  21.16 &  120.5604 & -50.508\\\\\n",
       "\t 40 & 20 &  48 &   4.6 &   5.02 &  21.16 &   25.2004 &  23.092\\\\\n",
       "\t 41 & 20 &  52 &   4.6 &   9.02 &  21.16 &   81.3604 &  41.492\\\\\n",
       "\t 42 & 20 &  56 &   4.6 &  13.02 &  21.16 &  169.5204 &  59.892\\\\\n",
       "\t 43 & 20 &  64 &   4.6 &  21.02 &  21.16 &  441.8404 &  96.692\\\\\n",
       "\t 44 & 22 &  66 &   6.6 &  23.02 &  43.56 &  529.9204 & 151.932\\\\\n",
       "\t 45 & 23 &  54 &   7.6 &  11.02 &  57.76 &  121.4404 &  83.752\\\\\n",
       "\t 46 & 24 &  70 &   8.6 &  27.02 &  73.96 &  730.0804 & 232.372\\\\\n",
       "\t 47 & 24 &  92 &   8.6 &  49.02 &  73.96 & 2402.9604 & 421.572\\\\\n",
       "\t 48 & 24 &  93 &   8.6 &  50.02 &  73.96 & 2502.0004 & 430.172\\\\\n",
       "\t 49 & 24 & 120 &   8.6 &  77.02 &  73.96 & 5932.0804 & 662.372\\\\\n",
       "\t 50 & 25 &  85 &   9.6 &  42.02 &  92.16 & 1765.6804 & 403.392\\\\\n",
       "\\end{tabular}\n"
      ],
      "text/markdown": [
       "\n",
       "A data.frame: 50 × 8\n",
       "\n",
       "| i &lt;int&gt; | x &lt;dbl&gt; | y &lt;dbl&gt; | x_barx &lt;dbl&gt; | y_bary &lt;dbl&gt; | x_barx2 &lt;dbl&gt; | y_bary2 &lt;dbl&gt; | x_barxy_bary &lt;dbl&gt; |\n",
       "|---|---|---|---|---|---|---|---|\n",
       "|  1 |  4 |   2 | -11.4 | -40.98 | 129.96 | 1679.3604 | 467.172 |\n",
       "|  2 |  4 |  10 | -11.4 | -32.98 | 129.96 | 1087.6804 | 375.972 |\n",
       "|  3 |  7 |   4 |  -8.4 | -38.98 |  70.56 | 1519.4404 | 327.432 |\n",
       "|  4 |  7 |  22 |  -8.4 | -20.98 |  70.56 |  440.1604 | 176.232 |\n",
       "|  5 |  8 |  16 |  -7.4 | -26.98 |  54.76 |  727.9204 | 199.652 |\n",
       "|  6 |  9 |  10 |  -6.4 | -32.98 |  40.96 | 1087.6804 | 211.072 |\n",
       "|  7 | 10 |  18 |  -5.4 | -24.98 |  29.16 |  624.0004 | 134.892 |\n",
       "|  8 | 10 |  26 |  -5.4 | -16.98 |  29.16 |  288.3204 |  91.692 |\n",
       "|  9 | 10 |  34 |  -5.4 |  -8.98 |  29.16 |   80.6404 |  48.492 |\n",
       "| 10 | 11 |  17 |  -4.4 | -25.98 |  19.36 |  674.9604 | 114.312 |\n",
       "| 11 | 11 |  28 |  -4.4 | -14.98 |  19.36 |  224.4004 |  65.912 |\n",
       "| 12 | 12 |  14 |  -3.4 | -28.98 |  11.56 |  839.8404 |  98.532 |\n",
       "| 13 | 12 |  20 |  -3.4 | -22.98 |  11.56 |  528.0804 |  78.132 |\n",
       "| 14 | 12 |  24 |  -3.4 | -18.98 |  11.56 |  360.2404 |  64.532 |\n",
       "| 15 | 12 |  28 |  -3.4 | -14.98 |  11.56 |  224.4004 |  50.932 |\n",
       "| 16 | 13 |  26 |  -2.4 | -16.98 |   5.76 |  288.3204 |  40.752 |\n",
       "| 17 | 13 |  34 |  -2.4 |  -8.98 |   5.76 |   80.6404 |  21.552 |\n",
       "| 18 | 13 |  34 |  -2.4 |  -8.98 |   5.76 |   80.6404 |  21.552 |\n",
       "| 19 | 13 |  46 |  -2.4 |   3.02 |   5.76 |    9.1204 |  -7.248 |\n",
       "| 20 | 14 |  26 |  -1.4 | -16.98 |   1.96 |  288.3204 |  23.772 |\n",
       "| 21 | 14 |  36 |  -1.4 |  -6.98 |   1.96 |   48.7204 |   9.772 |\n",
       "| 22 | 14 |  60 |  -1.4 |  17.02 |   1.96 |  289.6804 | -23.828 |\n",
       "| 23 | 14 |  80 |  -1.4 |  37.02 |   1.96 | 1370.4804 | -51.828 |\n",
       "| 24 | 15 |  20 |  -0.4 | -22.98 |   0.16 |  528.0804 |   9.192 |\n",
       "| 25 | 15 |  26 |  -0.4 | -16.98 |   0.16 |  288.3204 |   6.792 |\n",
       "| 26 | 15 |  54 |  -0.4 |  11.02 |   0.16 |  121.4404 |  -4.408 |\n",
       "| 27 | 16 |  32 |   0.6 | -10.98 |   0.36 |  120.5604 |  -6.588 |\n",
       "| 28 | 16 |  40 |   0.6 |  -2.98 |   0.36 |    8.8804 |  -1.788 |\n",
       "| 29 | 17 |  32 |   1.6 | -10.98 |   2.56 |  120.5604 | -17.568 |\n",
       "| 30 | 17 |  40 |   1.6 |  -2.98 |   2.56 |    8.8804 |  -4.768 |\n",
       "| 31 | 17 |  50 |   1.6 |   7.02 |   2.56 |   49.2804 |  11.232 |\n",
       "| 32 | 18 |  42 |   2.6 |  -0.98 |   6.76 |    0.9604 |  -2.548 |\n",
       "| 33 | 18 |  56 |   2.6 |  13.02 |   6.76 |  169.5204 |  33.852 |\n",
       "| 34 | 18 |  76 |   2.6 |  33.02 |   6.76 | 1090.3204 |  85.852 |\n",
       "| 35 | 18 |  84 |   2.6 |  41.02 |   6.76 | 1682.6404 | 106.652 |\n",
       "| 36 | 19 |  36 |   3.6 |  -6.98 |  12.96 |   48.7204 | -25.128 |\n",
       "| 37 | 19 |  46 |   3.6 |   3.02 |  12.96 |    9.1204 |  10.872 |\n",
       "| 38 | 19 |  68 |   3.6 |  25.02 |  12.96 |  626.0004 |  90.072 |\n",
       "| 39 | 20 |  32 |   4.6 | -10.98 |  21.16 |  120.5604 | -50.508 |\n",
       "| 40 | 20 |  48 |   4.6 |   5.02 |  21.16 |   25.2004 |  23.092 |\n",
       "| 41 | 20 |  52 |   4.6 |   9.02 |  21.16 |   81.3604 |  41.492 |\n",
       "| 42 | 20 |  56 |   4.6 |  13.02 |  21.16 |  169.5204 |  59.892 |\n",
       "| 43 | 20 |  64 |   4.6 |  21.02 |  21.16 |  441.8404 |  96.692 |\n",
       "| 44 | 22 |  66 |   6.6 |  23.02 |  43.56 |  529.9204 | 151.932 |\n",
       "| 45 | 23 |  54 |   7.6 |  11.02 |  57.76 |  121.4404 |  83.752 |\n",
       "| 46 | 24 |  70 |   8.6 |  27.02 |  73.96 |  730.0804 | 232.372 |\n",
       "| 47 | 24 |  92 |   8.6 |  49.02 |  73.96 | 2402.9604 | 421.572 |\n",
       "| 48 | 24 |  93 |   8.6 |  50.02 |  73.96 | 2502.0004 | 430.172 |\n",
       "| 49 | 24 | 120 |   8.6 |  77.02 |  73.96 | 5932.0804 | 662.372 |\n",
       "| 50 | 25 |  85 |   9.6 |  42.02 |  92.16 | 1765.6804 | 403.392 |\n",
       "\n"
      ],
      "text/plain": [
       "   i  x  y   x_barx y_bary x_barx2 y_bary2   x_barxy_bary\n",
       "1   1  4   2 -11.4  -40.98 129.96  1679.3604 467.172     \n",
       "2   2  4  10 -11.4  -32.98 129.96  1087.6804 375.972     \n",
       "3   3  7   4  -8.4  -38.98  70.56  1519.4404 327.432     \n",
       "4   4  7  22  -8.4  -20.98  70.56   440.1604 176.232     \n",
       "5   5  8  16  -7.4  -26.98  54.76   727.9204 199.652     \n",
       "6   6  9  10  -6.4  -32.98  40.96  1087.6804 211.072     \n",
       "7   7 10  18  -5.4  -24.98  29.16   624.0004 134.892     \n",
       "8   8 10  26  -5.4  -16.98  29.16   288.3204  91.692     \n",
       "9   9 10  34  -5.4   -8.98  29.16    80.6404  48.492     \n",
       "10 10 11  17  -4.4  -25.98  19.36   674.9604 114.312     \n",
       "11 11 11  28  -4.4  -14.98  19.36   224.4004  65.912     \n",
       "12 12 12  14  -3.4  -28.98  11.56   839.8404  98.532     \n",
       "13 13 12  20  -3.4  -22.98  11.56   528.0804  78.132     \n",
       "14 14 12  24  -3.4  -18.98  11.56   360.2404  64.532     \n",
       "15 15 12  28  -3.4  -14.98  11.56   224.4004  50.932     \n",
       "16 16 13  26  -2.4  -16.98   5.76   288.3204  40.752     \n",
       "17 17 13  34  -2.4   -8.98   5.76    80.6404  21.552     \n",
       "18 18 13  34  -2.4   -8.98   5.76    80.6404  21.552     \n",
       "19 19 13  46  -2.4    3.02   5.76     9.1204  -7.248     \n",
       "20 20 14  26  -1.4  -16.98   1.96   288.3204  23.772     \n",
       "21 21 14  36  -1.4   -6.98   1.96    48.7204   9.772     \n",
       "22 22 14  60  -1.4   17.02   1.96   289.6804 -23.828     \n",
       "23 23 14  80  -1.4   37.02   1.96  1370.4804 -51.828     \n",
       "24 24 15  20  -0.4  -22.98   0.16   528.0804   9.192     \n",
       "25 25 15  26  -0.4  -16.98   0.16   288.3204   6.792     \n",
       "26 26 15  54  -0.4   11.02   0.16   121.4404  -4.408     \n",
       "27 27 16  32   0.6  -10.98   0.36   120.5604  -6.588     \n",
       "28 28 16  40   0.6   -2.98   0.36     8.8804  -1.788     \n",
       "29 29 17  32   1.6  -10.98   2.56   120.5604 -17.568     \n",
       "30 30 17  40   1.6   -2.98   2.56     8.8804  -4.768     \n",
       "31 31 17  50   1.6    7.02   2.56    49.2804  11.232     \n",
       "32 32 18  42   2.6   -0.98   6.76     0.9604  -2.548     \n",
       "33 33 18  56   2.6   13.02   6.76   169.5204  33.852     \n",
       "34 34 18  76   2.6   33.02   6.76  1090.3204  85.852     \n",
       "35 35 18  84   2.6   41.02   6.76  1682.6404 106.652     \n",
       "36 36 19  36   3.6   -6.98  12.96    48.7204 -25.128     \n",
       "37 37 19  46   3.6    3.02  12.96     9.1204  10.872     \n",
       "38 38 19  68   3.6   25.02  12.96   626.0004  90.072     \n",
       "39 39 20  32   4.6  -10.98  21.16   120.5604 -50.508     \n",
       "40 40 20  48   4.6    5.02  21.16    25.2004  23.092     \n",
       "41 41 20  52   4.6    9.02  21.16    81.3604  41.492     \n",
       "42 42 20  56   4.6   13.02  21.16   169.5204  59.892     \n",
       "43 43 20  64   4.6   21.02  21.16   441.8404  96.692     \n",
       "44 44 22  66   6.6   23.02  43.56   529.9204 151.932     \n",
       "45 45 23  54   7.6   11.02  57.76   121.4404  83.752     \n",
       "46 46 24  70   8.6   27.02  73.96   730.0804 232.372     \n",
       "47 47 24  92   8.6   49.02  73.96  2402.9604 421.572     \n",
       "48 48 24  93   8.6   50.02  73.96  2502.0004 430.172     \n",
       "49 49 24 120   8.6   77.02  73.96  5932.0804 662.372     \n",
       "50 50 25  85   9.6   42.02  92.16  1765.6804 403.392     "
      ]
     },
     "metadata": {},
     "output_type": "display_data"
    }
   ],
   "source": [
    "dt$x_barx2 <- dt$x_barx^2\n",
    "dt$y_bary2 <- dt$y_bary^2\n",
    "dt$x_barxy_bary <-dt$x_barx * dt$y_bary\n",
    "dt"
   ]
  },
  {
   "cell_type": "code",
   "execution_count": 100,
   "id": "27b827ce-50bc-40a9-a4c3-6faf22050ec3",
   "metadata": {},
   "outputs": [
    {
     "data": {
      "text/html": [
       "<style>\n",
       ".dl-inline {width: auto; margin:0; padding: 0}\n",
       ".dl-inline>dt, .dl-inline>dd {float: none; width: auto; display: inline-block}\n",
       ".dl-inline>dt::after {content: \":\\0020\"; padding-right: .5ex}\n",
       ".dl-inline>dt:not(:first-of-type) {padding-left: .5ex}\n",
       "</style><dl class=dl-inline><dt>i</dt><dd>1275</dd><dt>x</dt><dd>770</dd><dt>y</dt><dd>2149</dd><dt>x_barx</dt><dd>-1.77635683940025e-14</dd><dt>y_bary</dt><dd>1.63424829224823e-13</dd><dt>x_barx2</dt><dd>1370</dd><dt>y_bary2</dt><dd>32538.98</dd><dt>x_barxy_bary</dt><dd>5387.4</dd></dl>\n"
      ],
      "text/latex": [
       "\\begin{description*}\n",
       "\\item[i] 1275\n",
       "\\item[x] 770\n",
       "\\item[y] 2149\n",
       "\\item[x\\textbackslash{}\\_barx] -1.77635683940025e-14\n",
       "\\item[y\\textbackslash{}\\_bary] 1.63424829224823e-13\n",
       "\\item[x\\textbackslash{}\\_barx2] 1370\n",
       "\\item[y\\textbackslash{}\\_bary2] 32538.98\n",
       "\\item[x\\textbackslash{}\\_barxy\\textbackslash{}\\_bary] 5387.4\n",
       "\\end{description*}\n"
      ],
      "text/markdown": [
       "i\n",
       ":   1275x\n",
       ":   770y\n",
       ":   2149x_barx\n",
       ":   -1.77635683940025e-14y_bary\n",
       ":   1.63424829224823e-13x_barx2\n",
       ":   1370y_bary2\n",
       ":   32538.98x_barxy_bary\n",
       ":   5387.4\n",
       "\n"
      ],
      "text/plain": [
       "            i             x             y        x_barx        y_bary \n",
       " 1.275000e+03  7.700000e+02  2.149000e+03 -1.776357e-14  1.634248e-13 \n",
       "      x_barx2       y_bary2  x_barxy_bary \n",
       " 1.370000e+03  3.253898e+04  5.387400e+03 "
      ]
     },
     "metadata": {},
     "output_type": "display_data"
    }
   ],
   "source": [
    "colSums(dt)"
   ]
  },
  {
   "cell_type": "markdown",
   "id": "b8f6ceb9-5ae0-4e5f-af5a-dc37b610e9cf",
   "metadata": {},
   "source": [
    "$\\beta_1 = \\dfrac{S_{xy}}{S_{xx}}$"
   ]
  },
  {
   "cell_type": "markdown",
   "id": "4782e87d-730a-4b40-92bf-622d707f69fe",
   "metadata": {},
   "source": [
    "$\\beta_0 = \\bar y - \\beta_1 \\bar x$"
   ]
  },
  {
   "cell_type": "code",
   "execution_count": 102,
   "id": "d29f6a8f-5175-4a1a-b4ec-fe564bee9550",
   "metadata": {},
   "outputs": [
    {
     "data": {
      "text/html": [
       "3.93240875912409"
      ],
      "text/latex": [
       "3.93240875912409"
      ],
      "text/markdown": [
       "3.93240875912409"
      ],
      "text/plain": [
       "[1] 3.932409"
      ]
     },
     "metadata": {},
     "output_type": "display_data"
    },
    {
     "data": {
      "text/html": [
       "-17.579094890511"
      ],
      "text/latex": [
       "-17.579094890511"
      ],
      "text/markdown": [
       "-17.579094890511"
      ],
      "text/plain": [
       "[1] -17.57909"
      ]
     },
     "metadata": {},
     "output_type": "display_data"
    }
   ],
   "source": [
    "beta1 <- as.numeric(colSums(dt)[8]/colSums(dt)[6])\n",
    "beta0 <- mean(cars$dist) - beta1 * mean(cars$speed)\n",
    "beta1\n",
    "beta0"
   ]
  },
  {
   "cell_type": "code",
   "execution_count": null,
   "id": "96b84f4c-bf9a-4da2-b2d1-2b16d34530e7",
   "metadata": {},
   "outputs": [],
   "source": []
  },
  {
   "cell_type": "code",
   "execution_count": null,
   "id": "62fdb4d2-a576-4dc6-a333-3373ccc5d246",
   "metadata": {},
   "outputs": [],
   "source": []
  },
  {
   "cell_type": "code",
   "execution_count": null,
   "id": "c06553ec-0934-4e1b-b1b6-3207d570ce55",
   "metadata": {},
   "outputs": [],
   "source": []
  },
  {
   "cell_type": "code",
   "execution_count": 41,
   "id": "781a127f-9cba-426c-a022-46d3c1993a0d",
   "metadata": {},
   "outputs": [
    {
     "data": {
      "text/plain": [
       "\n",
       "Call:\n",
       "lm(formula = dist ~ speed, data = cars)\n",
       "\n",
       "Coefficients:\n",
       "(Intercept)        speed  \n",
       "    -17.579        3.932  \n"
      ]
     },
     "metadata": {},
     "output_type": "display_data"
    }
   ],
   "source": [
    "model <- lm(dist~speed, cars)\n",
    "model"
   ]
  },
  {
   "cell_type": "code",
   "execution_count": 42,
   "id": "9ce315bb-76e4-4162-9c2d-60660edd932d",
   "metadata": {},
   "outputs": [
    {
     "data": {
      "text/plain": [
       "\n",
       "Call:\n",
       "lm(formula = dist ~ speed, data = cars)\n",
       "\n",
       "Residuals:\n",
       "    Min      1Q  Median      3Q     Max \n",
       "-29.069  -9.525  -2.272   9.215  43.201 \n",
       "\n",
       "Coefficients:\n",
       "            Estimate Std. Error t value Pr(>|t|)    \n",
       "(Intercept) -17.5791     6.7584  -2.601   0.0123 *  \n",
       "speed         3.9324     0.4155   9.464 1.49e-12 ***\n",
       "---\n",
       "Signif. codes:  0 ‘***’ 0.001 ‘**’ 0.01 ‘*’ 0.05 ‘.’ 0.1 ‘ ’ 1\n",
       "\n",
       "Residual standard error: 15.38 on 48 degrees of freedom\n",
       "Multiple R-squared:  0.6511,\tAdjusted R-squared:  0.6438 \n",
       "F-statistic: 89.57 on 1 and 48 DF,  p-value: 1.49e-12\n"
      ]
     },
     "metadata": {},
     "output_type": "display_data"
    }
   ],
   "source": [
    "summary(model)"
   ]
  },
  {
   "cell_type": "markdown",
   "id": "6288f4e7-e63a-41cc-85fd-40e6c6784b56",
   "metadata": {},
   "source": [
    "- p-value의 값이 1.49$e^{-12}$로 0.05보다 작아 유의하다.\n",
    "\n",
    "- F검정은 89.57\n",
    "\n",
    "- $\\mathbb{R^2}$는 0.6511\n",
    "\n",
    "- $\\beta_0, \\beta_1$의 p-value값은 유의하다."
   ]
  },
  {
   "cell_type": "markdown",
   "id": "ab15dd5b-eba2-45b8-9c46-2a8cce8bbb1c",
   "metadata": {},
   "source": [
    "## (3) 산점도 위에 회귀직선"
   ]
  },
  {
   "cell_type": "markdown",
   "id": "4aece88d-383e-48f4-ac74-9c2b21b8b515",
   "metadata": {},
   "source": [
    "데이터의 산점도를 그리고 추정한 회귀직선을 (1)에서 그린 산점도 위에 그리시오."
   ]
  },
  {
   "cell_type": "code",
   "execution_count": 103,
   "id": "d483533f-e885-417a-b515-33bb946cc0a0",
   "metadata": {},
   "outputs": [
    {
     "data": {
      "image/png": "[encoded data removed]",
      "text/plain": [
       "plot without title"
      ]
     },
     "metadata": {
      "image/png": {
       "height": 420,
       "width": 420
      }
     },
     "output_type": "display_data"
    }
   ],
   "source": [
    "plot(dist~speed,\n",
    "     data=cars,\n",
    "     xlab=\"speed\",\n",
    "     ylab=\"dist\",\n",
    "     pch=16,\n",
    "     cex=2,\n",
    "     col=\"darkorange\")\n",
    "abline(model, col='steelblue', lwd=2)"
   ]
  },
  {
   "cell_type": "markdown",
   "id": "7a6d1a40-2835-4562-a790-678e16cda209",
   "metadata": {},
   "source": [
    "## (4) 분산분석"
   ]
  },
  {
   "cell_type": "markdown",
   "id": "2e3ffc26-3e6f-4b9e-af22-3db975110960",
   "metadata": {},
   "source": [
    "분산분석표를 작성하고 회귀직선의 유의 여부를 검정하시오."
   ]
  },
  {
   "cell_type": "code",
   "execution_count": 44,
   "id": "984619ba-6cb9-4609-bebe-39ba8c54d26e",
   "metadata": {},
   "outputs": [
    {
     "data": {
      "text/html": [
       "<table class=\"dataframe\">\n",
       "<caption>A anova: 2 × 5</caption>\n",
       "<thead>\n",
       "\t<tr><th></th><th scope=col>Df</th><th scope=col>Sum Sq</th><th scope=col>Mean Sq</th><th scope=col>F value</th><th scope=col>Pr(&gt;F)</th></tr>\n",
       "\t<tr><th></th><th scope=col>&lt;int&gt;</th><th scope=col>&lt;dbl&gt;</th><th scope=col>&lt;dbl&gt;</th><th scope=col>&lt;dbl&gt;</th><th scope=col>&lt;dbl&gt;</th></tr>\n",
       "</thead>\n",
       "<tbody>\n",
       "\t<tr><th scope=row>speed</th><td> 1</td><td>21185.46</td><td>21185.4589</td><td>89.56711</td><td>1.489836e-12</td></tr>\n",
       "\t<tr><th scope=row>Residuals</th><td>48</td><td>11353.52</td><td>  236.5317</td><td>      NA</td><td>          NA</td></tr>\n",
       "</tbody>\n",
       "</table>\n"
      ],
      "text/latex": [
       "A anova: 2 × 5\n",
       "\\begin{tabular}{r|lllll}\n",
       "  & Df & Sum Sq & Mean Sq & F value & Pr(>F)\\\\\n",
       "  & <int> & <dbl> & <dbl> & <dbl> & <dbl>\\\\\n",
       "\\hline\n",
       "\tspeed &  1 & 21185.46 & 21185.4589 & 89.56711 & 1.489836e-12\\\\\n",
       "\tResiduals & 48 & 11353.52 &   236.5317 &       NA &           NA\\\\\n",
       "\\end{tabular}\n"
      ],
      "text/markdown": [
       "\n",
       "A anova: 2 × 5\n",
       "\n",
       "| <!--/--> | Df &lt;int&gt; | Sum Sq &lt;dbl&gt; | Mean Sq &lt;dbl&gt; | F value &lt;dbl&gt; | Pr(&gt;F) &lt;dbl&gt; |\n",
       "|---|---|---|---|---|---|\n",
       "| speed |  1 | 21185.46 | 21185.4589 | 89.56711 | 1.489836e-12 |\n",
       "| Residuals | 48 | 11353.52 |   236.5317 |       NA |           NA |\n",
       "\n"
      ],
      "text/plain": [
       "          Df Sum Sq   Mean Sq    F value  Pr(>F)      \n",
       "speed      1 21185.46 21185.4589 89.56711 1.489836e-12\n",
       "Residuals 48 11353.52   236.5317       NA           NA"
      ]
     },
     "metadata": {},
     "output_type": "display_data"
    }
   ],
   "source": [
    "anova(model)"
   ]
  },
  {
   "cell_type": "markdown",
   "id": "628cabd2-5a3e-4192-8570-47928c4c3440",
   "metadata": {},
   "source": [
    "- 가정: $H_0: \\beta_1 = 0$ vs $H_1: \\beta_1 \\neq 0$"
   ]
  },
  {
   "cell_type": "code",
   "execution_count": 45,
   "id": "fe921d88-e8af-4004-b585-e71a0177968b",
   "metadata": {},
   "outputs": [
    {
     "data": {
      "text/html": [
       "4.04265212856665"
      ],
      "text/latex": [
       "4.04265212856665"
      ],
      "text/markdown": [
       "4.04265212856665"
      ],
      "text/plain": [
       "[1] 4.042652"
      ]
     },
     "metadata": {},
     "output_type": "display_data"
    }
   ],
   "source": [
    "qf(0.95,1,48)"
   ]
  },
  {
   "cell_type": "markdown",
   "id": "e2186212-eaf2-4a28-b893-d75ba2e15360",
   "metadata": {},
   "source": [
    "- $F_0 > F_{0.05}(0.95,1,48) = 4.04$ 이므로 귀무가설을 기각할 수 잇다. 즉 회귀직선이 유의하다."
   ]
  },
  {
   "cell_type": "markdown",
   "id": "d72d12f9-bf98-404e-97cc-005e098677a1",
   "metadata": {},
   "source": [
    "## (5) 결정계수, 상관계수"
   ]
  },
  {
   "cell_type": "markdown",
   "id": "5ea4527b-7607-4ed2-98b0-76353c22a0c7",
   "metadata": {},
   "source": [
    "결정계수와 상관계수를 구하고 이 둘의 관계를 설명하시오."
   ]
  },
  {
   "cell_type": "markdown",
   "id": "b13a54c1-c330-4378-b7d9-ae6a981a35f5",
   "metadata": {},
   "source": [
    "$\\mathbb{R^2} = \\dfrac{SSR}{SST} = \\dfrac{21185.46}{32538.98} = 0.651079413060889$"
   ]
  },
  {
   "cell_type": "markdown",
   "id": "f8d4e5ca-3342-483c-a627-0e7d247c2b24",
   "metadata": {},
   "source": [
    "`-` 결정계수 직접계산"
   ]
  },
  {
   "cell_type": "code",
   "execution_count": 104,
   "id": "a5af3c2b-55d6-478e-8e68-6fd90cf6d17b",
   "metadata": {},
   "outputs": [],
   "source": [
    "SST = sum((dt$y- mean(dt$y))^2)\n",
    "SSR = sum(((-17.57909 + 3.932409*dt$x)-mean(dt$y))^2)"
   ]
  },
  {
   "cell_type": "code",
   "execution_count": 106,
   "id": "225c18dc-b13e-4052-8121-f3bd6853fad2",
   "metadata": {},
   "outputs": [
    {
     "data": {
      "text/html": [
       "32538.98"
      ],
      "text/latex": [
       "32538.98"
      ],
      "text/markdown": [
       "32538.98"
      ],
      "text/plain": [
       "[1] 32538.98"
      ]
     },
     "metadata": {},
     "output_type": "display_data"
    },
    {
     "data": {
      "text/html": [
       "21185.4615442987"
      ],
      "text/latex": [
       "21185.4615442987"
      ],
      "text/markdown": [
       "21185.4615442987"
      ],
      "text/plain": [
       "[1] 21185.46"
      ]
     },
     "metadata": {},
     "output_type": "display_data"
    }
   ],
   "source": [
    "SST\n",
    "SSR"
   ]
  },
  {
   "cell_type": "code",
   "execution_count": 107,
   "id": "a58316a0-7601-49d1-bd56-463c2338a199",
   "metadata": {},
   "outputs": [
    {
     "data": {
      "text/html": [
       "0.651079460520848"
      ],
      "text/latex": [
       "0.651079460520848"
      ],
      "text/markdown": [
       "0.651079460520848"
      ],
      "text/plain": [
       "[1] 0.6510795"
      ]
     },
     "metadata": {},
     "output_type": "display_data"
    }
   ],
   "source": [
    "R2=SSR/SST\n",
    "R2"
   ]
  },
  {
   "cell_type": "markdown",
   "id": "85a12ef1-589a-43ba-bc19-cf35eae05325",
   "metadata": {},
   "source": [
    "`-` 결정계수 코드"
   ]
  },
  {
   "cell_type": "code",
   "execution_count": 69,
   "id": "de9f11ee-89fb-481a-9aad-6d66b0793021",
   "metadata": {},
   "outputs": [
    {
     "data": {
      "text/html": [
       "0.651079380758251"
      ],
      "text/latex": [
       "0.651079380758251"
      ],
      "text/markdown": [
       "0.651079380758251"
      ],
      "text/plain": [
       "[1] 0.6510794"
      ]
     },
     "metadata": {},
     "output_type": "display_data"
    }
   ],
   "source": [
    "summary(model)$r.squared"
   ]
  },
  {
   "cell_type": "markdown",
   "id": "e3fde0a1-5173-4e8f-ad24-a7800bcfb2de",
   "metadata": {},
   "source": [
    "$r_{xy} = \\dfrac{S_{xy}}{\\sqrt{S{(xx)}S{(yy)}}}$"
   ]
  },
  {
   "cell_type": "code",
   "execution_count": 108,
   "id": "a80ad795-bcf0-4c12-ae7c-94db8327d908",
   "metadata": {},
   "outputs": [],
   "source": [
    "Sxy <- sum((dt$x - mean(dt$x))*(dt$y - mean(dt$y)))\n",
    "Sxx <- sum((dt$x - mean(dt$x))^2)\n",
    "Syy <- sum((dt$y - mean(dt$y))^2)"
   ]
  },
  {
   "cell_type": "code",
   "execution_count": 109,
   "id": "e62898be-1df2-483a-a0e4-06cd5061264a",
   "metadata": {},
   "outputs": [],
   "source": [
    "rxy<-Sxy/sqrt(Sxx*Syy)"
   ]
  },
  {
   "cell_type": "code",
   "execution_count": 110,
   "id": "4a64a749-1775-4e2a-b1e9-ed34e814504f",
   "metadata": {},
   "outputs": [
    {
     "data": {
      "text/html": [
       "0.651079380758251"
      ],
      "text/latex": [
       "0.651079380758251"
      ],
      "text/markdown": [
       "0.651079380758251"
      ],
      "text/plain": [
       "[1] 0.6510794"
      ]
     },
     "metadata": {},
     "output_type": "display_data"
    }
   ],
   "source": [
    "rxy**2"
   ]
  },
  {
   "cell_type": "markdown",
   "id": "2a77c30f-fedd-4aec-a8f4-54bca2a8b3bd",
   "metadata": {},
   "source": [
    "단순선형회귀모형에서는 표본상관계수와 결정계수가 같다."
   ]
  },
  {
   "cell_type": "markdown",
   "id": "f10801ba-8f80-4598-ab97-174c65e0ceb9",
   "metadata": {},
   "source": [
    "$\\mathbb{R^2} = r_{xy}^2$"
   ]
  },
  {
   "cell_type": "markdown",
   "id": "2ea3ed47-2e09-4acd-9eb8-8984a92d3624",
   "metadata": {},
   "source": [
    "## (6) 개별 회귀계수 유의성검정"
   ]
  },
  {
   "cell_type": "markdown",
   "id": "77ef7258-b4ff-4f80-beaa-3c83b7928964",
   "metadata": {},
   "source": [
    "$β_0, β_1$에 대한 개별 회귀계수의 유의성검정을 수행하시오."
   ]
  },
  {
   "cell_type": "markdown",
   "id": "75842a5d-1e7a-4347-bd50-653a60e0161d",
   "metadata": {},
   "source": [
    "가설 $H_0: \\beta_1 = 0$ vs $H_1: not H_0$"
   ]
  },
  {
   "cell_type": "markdown",
   "id": "eb517a76-5759-43e2-ad6a-eb29837ddda3",
   "metadata": {},
   "source": [
    "`-` 직접구현"
   ]
  },
  {
   "cell_type": "code",
   "execution_count": 112,
   "id": "5359c0ff-f477-44a4-a49e-7412b9bd9cf8",
   "metadata": {},
   "outputs": [],
   "source": [
    "SSE=SST-SSR\n",
    "MSE=SSE/48"
   ]
  },
  {
   "cell_type": "code",
   "execution_count": 113,
   "id": "d90929de-ce5b-46ac-be9c-d885d19e1132",
   "metadata": {},
   "outputs": [
    {
     "data": {
      "text/html": [
       "9.46399107202371"
      ],
      "text/latex": [
       "9.46399107202371"
      ],
      "text/markdown": [
       "9.46399107202371"
      ],
      "text/plain": [
       "[1] 9.463991"
      ]
     },
     "metadata": {},
     "output_type": "display_data"
    }
   ],
   "source": [
    "tvalue1 = beta1/(sqrt((MSE/sum((dt$x-mean(dt$x))^2))))\n",
    "tvalue1"
   ]
  },
  {
   "cell_type": "code",
   "execution_count": 114,
   "id": "d7e4affa-32db-4fe2-bd51-a15c83f54dcd",
   "metadata": {},
   "outputs": [
    {
     "data": {
      "text/html": [
       "-2.59546417223485"
      ],
      "text/latex": [
       "-2.59546417223485"
      ],
      "text/markdown": [
       "-2.59546417223485"
      ],
      "text/plain": [
       "[1] -2.595464"
      ]
     },
     "metadata": {},
     "output_type": "display_data"
    }
   ],
   "source": [
    "tvalue0 = beta0/(sqrt((MSE*((1/48)+((mean(dt$x))^2/sum((dt$x-mean(dt$x))^2))))))\n",
    "tvalue0\n"
   ]
  },
  {
   "cell_type": "markdown",
   "id": "d7977035-7b4e-4bb0-b1c3-271b7e379301",
   "metadata": {},
   "source": [
    "`-` 코드구현"
   ]
  },
  {
   "cell_type": "code",
   "execution_count": 115,
   "id": "490ad9f7-d322-4c1c-8286-36a6d2b9adda",
   "metadata": {},
   "outputs": [
    {
     "data": {
      "text/html": [
       "<table class=\"dataframe\">\n",
       "<caption>A matrix: 2 × 4 of type dbl</caption>\n",
       "<thead>\n",
       "\t<tr><th></th><th scope=col>Estimate</th><th scope=col>Std. Error</th><th scope=col>t value</th><th scope=col>Pr(&gt;|t|)</th></tr>\n",
       "</thead>\n",
       "<tbody>\n",
       "\t<tr><th scope=row>(Intercept)</th><td>-17.579095</td><td>6.7584402</td><td>-2.601058</td><td>1.231882e-02</td></tr>\n",
       "\t<tr><th scope=row>speed</th><td>  3.932409</td><td>0.4155128</td><td> 9.463990</td><td>1.489836e-12</td></tr>\n",
       "</tbody>\n",
       "</table>\n"
      ],
      "text/latex": [
       "A matrix: 2 × 4 of type dbl\n",
       "\\begin{tabular}{r|llll}\n",
       "  & Estimate & Std. Error & t value & Pr(>\\textbar{}t\\textbar{})\\\\\n",
       "\\hline\n",
       "\t(Intercept) & -17.579095 & 6.7584402 & -2.601058 & 1.231882e-02\\\\\n",
       "\tspeed &   3.932409 & 0.4155128 &  9.463990 & 1.489836e-12\\\\\n",
       "\\end{tabular}\n"
      ],
      "text/markdown": [
       "\n",
       "A matrix: 2 × 4 of type dbl\n",
       "\n",
       "| <!--/--> | Estimate | Std. Error | t value | Pr(&gt;|t|) |\n",
       "|---|---|---|---|---|\n",
       "| (Intercept) | -17.579095 | 6.7584402 | -2.601058 | 1.231882e-02 |\n",
       "| speed |   3.932409 | 0.4155128 |  9.463990 | 1.489836e-12 |\n",
       "\n"
      ],
      "text/plain": [
       "            Estimate   Std. Error t value   Pr(>|t|)    \n",
       "(Intercept) -17.579095 6.7584402  -2.601058 1.231882e-02\n",
       "speed         3.932409 0.4155128   9.463990 1.489836e-12"
      ]
     },
     "metadata": {},
     "output_type": "display_data"
    }
   ],
   "source": [
    "summary(model)$coef"
   ]
  },
  {
   "cell_type": "markdown",
   "id": "b75cd368-6390-4ffa-b1ca-7b1c1a377f77",
   "metadata": {},
   "source": [
    "`-` 결과"
   ]
  },
  {
   "cell_type": "code",
   "execution_count": 50,
   "id": "a6b0f427-cabf-4e25-a336-77a8aceacfd7",
   "metadata": {},
   "outputs": [
    {
     "data": {
      "text/html": [
       "2.01063475762423"
      ],
      "text/latex": [
       "2.01063475762423"
      ],
      "text/markdown": [
       "2.01063475762423"
      ],
      "text/plain": [
       "[1] 2.010635"
      ]
     },
     "metadata": {},
     "output_type": "display_data"
    }
   ],
   "source": [
    "qt(0.975,48)"
   ]
  },
  {
   "cell_type": "code",
   "execution_count": 117,
   "id": "67a6c83a-befb-4835-ad13-e3536ac977e5",
   "metadata": {},
   "outputs": [
    {
     "data": {
      "text/html": [
       "-2.01063475762423"
      ],
      "text/latex": [
       "-2.01063475762423"
      ],
      "text/markdown": [
       "-2.01063475762423"
      ],
      "text/plain": [
       "[1] -2.010635"
      ]
     },
     "metadata": {},
     "output_type": "display_data"
    }
   ],
   "source": [
    "qt(0.025,48)"
   ]
  },
  {
   "cell_type": "markdown",
   "id": "a9a67ec8-77b9-48ee-9763-f9457ac01960",
   "metadata": {},
   "source": [
    "- $\\beta_0$에 대한 $t-vlaue$값이 $-2.601058$\n",
    "\n",
    "- $\\beta_1$에 대한 $t-vlaue$값이 $9.463990$"
   ]
  },
  {
   "cell_type": "markdown",
   "id": "7317d33a-a048-44c7-b439-6747344be8a0",
   "metadata": {},
   "source": [
    "- $\\beta_0, \\beta_1$의 t-value는 유의수준 $\\alpha=0.05$에서의 $tvalue=-2.011$보다 크기 때문에 유의하다. 즉 귀무가설을 기각한다. $\\beta_0, \\beta_1$은 모두 0이 아니다."
   ]
  },
  {
   "cell_type": "markdown",
   "id": "4dca4c42-5975-454e-a82e-31908f639098",
   "metadata": {},
   "source": [
    "## (7) 개별 회귀계수 신뢰구간"
   ]
  },
  {
   "cell_type": "markdown",
   "id": "1134c7d7-0a62-4267-ab3e-c5cf369d0685",
   "metadata": {},
   "source": [
    "$β_0, β_1$에 대한 90% 신뢰구간을 구하시오."
   ]
  },
  {
   "cell_type": "markdown",
   "id": "b952c277-b6fc-4f2b-ab2c-148e55bcfaca",
   "metadata": {},
   "source": [
    "$$\\widehat \\beta_0 \\pm t_{\\alpha/2}(n-2) \\widehat \\sigma \\sqrt{\\dfrac{1}{n}+\\dfrac{\\bar x^2}{S_{xx}}}$$"
   ]
  },
  {
   "cell_type": "markdown",
   "id": "68da27cc-0da3-4d1e-a682-2318b554671d",
   "metadata": {},
   "source": [
    "$$\\widehat \\beta_1 \\pm t_{\\alpha/2}(n-2) \\dfrac{\\widehat \\sigma}{\\sqrt{S_{xx}}}$$"
   ]
  },
  {
   "cell_type": "markdown",
   "id": "ab840950-fafc-4d17-bb99-8daf04f53973",
   "metadata": {},
   "source": [
    "- 함수사용"
   ]
  },
  {
   "cell_type": "code",
   "execution_count": 53,
   "id": "0dfd5ae0-bab8-47f7-b68d-ac9dac77b429",
   "metadata": {},
   "outputs": [
    {
     "data": {
      "text/html": [
       "<table class=\"dataframe\">\n",
       "<caption>A matrix: 2 × 2 of type dbl</caption>\n",
       "<thead>\n",
       "\t<tr><th></th><th scope=col>5 %</th><th scope=col>95 %</th></tr>\n",
       "</thead>\n",
       "<tbody>\n",
       "\t<tr><th scope=row>(Intercept)</th><td>-28.914514</td><td>-6.243676</td></tr>\n",
       "\t<tr><th scope=row>speed</th><td>  3.235501</td><td> 4.629317</td></tr>\n",
       "</tbody>\n",
       "</table>\n"
      ],
      "text/latex": [
       "A matrix: 2 × 2 of type dbl\n",
       "\\begin{tabular}{r|ll}\n",
       "  & 5 \\% & 95 \\%\\\\\n",
       "\\hline\n",
       "\t(Intercept) & -28.914514 & -6.243676\\\\\n",
       "\tspeed &   3.235501 &  4.629317\\\\\n",
       "\\end{tabular}\n"
      ],
      "text/markdown": [
       "\n",
       "A matrix: 2 × 2 of type dbl\n",
       "\n",
       "| <!--/--> | 5 % | 95 % |\n",
       "|---|---|---|\n",
       "| (Intercept) | -28.914514 | -6.243676 |\n",
       "| speed |   3.235501 |  4.629317 |\n",
       "\n"
      ],
      "text/plain": [
       "            5 %        95 %     \n",
       "(Intercept) -28.914514 -6.243676\n",
       "speed         3.235501  4.629317"
      ]
     },
     "metadata": {},
     "output_type": "display_data"
    }
   ],
   "source": [
    "confint(model, level=0.9)"
   ]
  },
  {
   "cell_type": "markdown",
   "id": "7a002c6c-1598-42f7-a0ec-523db78bcb4a",
   "metadata": {},
   "source": [
    "- 직접계산"
   ]
  },
  {
   "cell_type": "code",
   "execution_count": 54,
   "id": "8bae771e-60ce-4e48-b0fd-245bb2b046a8",
   "metadata": {},
   "outputs": [
    {
     "data": {
      "text/html": [
       "<style>\n",
       ".dl-inline {width: auto; margin:0; padding: 0}\n",
       ".dl-inline>dt, .dl-inline>dd {float: none; width: auto; display: inline-block}\n",
       ".dl-inline>dt::after {content: \":\\0020\"; padding-right: .5ex}\n",
       ".dl-inline>dt:not(:first-of-type) {padding-left: .5ex}\n",
       "</style><dl class=dl-inline><dt>(Intercept)</dt><dd>-6.24367551036937</dd><dt>speed</dt><dd>4.62931684193222</dd></dl>\n"
      ],
      "text/latex": [
       "\\begin{description*}\n",
       "\\item[(Intercept)] -6.24367551036937\n",
       "\\item[speed] 4.62931684193222\n",
       "\\end{description*}\n"
      ],
      "text/markdown": [
       "(Intercept)\n",
       ":   -6.24367551036937speed\n",
       ":   4.62931684193222\n",
       "\n"
      ],
      "text/plain": [
       "(Intercept)       speed \n",
       "  -6.243676    4.629317 "
      ]
     },
     "metadata": {},
     "output_type": "display_data"
    }
   ],
   "source": [
    "coef(model) + qt(0.95, 48) * summary(model)$coef[,2]"
   ]
  },
  {
   "cell_type": "code",
   "execution_count": 55,
   "id": "11cb4876-78e6-4c55-baba-c95428c5abb2",
   "metadata": {},
   "outputs": [
    {
     "data": {
      "text/html": [
       "<style>\n",
       ".dl-inline {width: auto; margin:0; padding: 0}\n",
       ".dl-inline>dt, .dl-inline>dd {float: none; width: auto; display: inline-block}\n",
       ".dl-inline>dt::after {content: \":\\0020\"; padding-right: .5ex}\n",
       ".dl-inline>dt:not(:first-of-type) {padding-left: .5ex}\n",
       "</style><dl class=dl-inline><dt>(Intercept)</dt><dd>-28.9145142706524</dd><dt>speed</dt><dd>3.23550067631595</dd></dl>\n"
      ],
      "text/latex": [
       "\\begin{description*}\n",
       "\\item[(Intercept)] -28.9145142706524\n",
       "\\item[speed] 3.23550067631595\n",
       "\\end{description*}\n"
      ],
      "text/markdown": [
       "(Intercept)\n",
       ":   -28.9145142706524speed\n",
       ":   3.23550067631595\n",
       "\n"
      ],
      "text/plain": [
       "(Intercept)       speed \n",
       " -28.914514    3.235501 "
      ]
     },
     "metadata": {},
     "output_type": "display_data"
    }
   ],
   "source": [
    "coef(model) - qt(0.95, 48) * summary(model)$coef[,2]"
   ]
  },
  {
   "cell_type": "markdown",
   "id": "364b61dd-7451-44b5-a678-d0a63f58607c",
   "metadata": {},
   "source": [
    "## (8) 평균반응, 신뢰구간"
   ]
  },
  {
   "cell_type": "markdown",
   "id": "5a2f4cba-076f-4797-abd3-fcadae0c2d96",
   "metadata": {},
   "source": [
    "속도가 18.5mph 인 차량의 평균 제동거리를 예측하고, 95% 신뢰구간을 구하시오."
   ]
  },
  {
   "cell_type": "markdown",
   "id": "2fff9ece-1b65-49f0-ac4b-2a64f0ab4f71",
   "metadata": {},
   "source": [
    "개별 speed = 18,5"
   ]
  },
  {
   "cell_type": "code",
   "execution_count": 125,
   "id": "53b3f080-6a40-48e2-bd35-014a4eb94f95",
   "metadata": {},
   "outputs": [],
   "source": [
    "new_speed <- data.frame(speed=18.5)"
   ]
  },
  {
   "cell_type": "markdown",
   "id": "1a0a019b-df16-4717-a788-be2933d4cdbc",
   "metadata": {},
   "source": [
    "`-` 코드"
   ]
  },
  {
   "cell_type": "code",
   "execution_count": 126,
   "id": "9bc53c9d-82af-4356-b18f-10853a6e9b17",
   "metadata": {},
   "outputs": [
    {
     "data": {
      "text/html": [
       "<strong>(Intercept):</strong> 55.1704671532847"
      ],
      "text/latex": [
       "\\textbf{(Intercept):} 55.1704671532847"
      ],
      "text/markdown": [
       "**(Intercept):** 55.1704671532847"
      ],
      "text/plain": [
       "(Intercept) \n",
       "   55.17047 "
      ]
     },
     "metadata": {},
     "output_type": "display_data"
    }
   ],
   "source": [
    "model$coefficients[1] + model$coefficients[2]*18.5"
   ]
  },
  {
   "cell_type": "code",
   "execution_count": 122,
   "id": "f5da7cf9-245c-43db-b539-0fa5b39a41c7",
   "metadata": {},
   "outputs": [
    {
     "data": {
      "text/html": [
       "<table class=\"dataframe\">\n",
       "<caption>A matrix: 1 × 3 of type dbl</caption>\n",
       "<thead>\n",
       "\t<tr><th></th><th scope=col>fit</th><th scope=col>lwr</th><th scope=col>upr</th></tr>\n",
       "</thead>\n",
       "<tbody>\n",
       "\t<tr><th scope=row>1</th><td>55.17047</td><td>50.08797</td><td>60.25296</td></tr>\n",
       "</tbody>\n",
       "</table>\n"
      ],
      "text/latex": [
       "A matrix: 1 × 3 of type dbl\n",
       "\\begin{tabular}{r|lll}\n",
       "  & fit & lwr & upr\\\\\n",
       "\\hline\n",
       "\t1 & 55.17047 & 50.08797 & 60.25296\\\\\n",
       "\\end{tabular}\n"
      ],
      "text/markdown": [
       "\n",
       "A matrix: 1 × 3 of type dbl\n",
       "\n",
       "| <!--/--> | fit | lwr | upr |\n",
       "|---|---|---|---|\n",
       "| 1 | 55.17047 | 50.08797 | 60.25296 |\n",
       "\n"
      ],
      "text/plain": [
       "  fit      lwr      upr     \n",
       "1 55.17047 50.08797 60.25296"
      ]
     },
     "metadata": {},
     "output_type": "display_data"
    }
   ],
   "source": [
    "predict(model, \n",
    "        newdata = new_speed,\n",
    "        interval = c(\"confidence\"),  #구간추정\n",
    "        level = 0.95)  ##평균반응"
   ]
  },
  {
   "cell_type": "markdown",
   "id": "5e5b1aea-9402-4cbd-a3c6-981267d45758",
   "metadata": {},
   "source": [
    "`-` 직접계산"
   ]
  },
  {
   "cell_type": "markdown",
   "id": "13728a6a-caf0-437b-8027-e264454093c5",
   "metadata": {},
   "source": [
    "`-` 평균반응 추정량\n",
    "\n",
    "$$\\widehat \\mu_0 = \\widehat \\beta_0 + \\widehat \\beta_1 x_0$$"
   ]
  },
  {
   "cell_type": "code",
   "execution_count": 127,
   "id": "71f853a3-dd2c-42e1-bb33-4afc0330475e",
   "metadata": {},
   "outputs": [
    {
     "data": {
      "text/html": [
       "55.1704671532847"
      ],
      "text/latex": [
       "55.1704671532847"
      ],
      "text/markdown": [
       "55.1704671532847"
      ],
      "text/plain": [
       "[1] 55.17047"
      ]
     },
     "metadata": {},
     "output_type": "display_data"
    }
   ],
   "source": [
    "mu0 = beta0+beta1*18.5\n",
    "mu0\n"
   ]
  },
  {
   "cell_type": "markdown",
   "id": "27cb372a-3a26-4144-8294-9a54361d8635",
   "metadata": {},
   "source": [
    "$$Var(\\widehat\\mu_0))=\\sigma^2(\\dfrac{1}{n} + \\dfrac{(x_0 - \\bar x)^2}{S_{xx}})$$"
   ]
  },
  {
   "cell_type": "code",
   "execution_count": 131,
   "id": "3593f039-25de-4b77-a36c-3eb67194ae69",
   "metadata": {},
   "outputs": [],
   "source": [
    "varmu=((MSE*((1/48)+((18.5-mean(dt$x))^2/sum((dt$x-mean(dt$x))^2)))))\n",
    "semu=sqrt(varmu)"
   ]
  },
  {
   "cell_type": "code",
   "execution_count": 132,
   "id": "ed90ca9e-7d4a-41fe-8de7-5adf91c3a137",
   "metadata": {},
   "outputs": [
    {
     "data": {
      "text/html": [
       "2.5664989466792"
      ],
      "text/latex": [
       "2.5664989466792"
      ],
      "text/markdown": [
       "2.5664989466792"
      ],
      "text/plain": [
       "[1] 2.566499"
      ]
     },
     "metadata": {},
     "output_type": "display_data"
    }
   ],
   "source": [
    "semu"
   ]
  },
  {
   "cell_type": "code",
   "execution_count": 133,
   "id": "a65b6df1-a714-47b3-9fde-40ed29092363",
   "metadata": {},
   "outputs": [
    {
     "data": {
      "text/html": [
       "60.3307591408838"
      ],
      "text/latex": [
       "60.3307591408838"
      ],
      "text/markdown": [
       "60.3307591408838"
      ],
      "text/plain": [
       "[1] 60.33076"
      ]
     },
     "metadata": {},
     "output_type": "display_data"
    }
   ],
   "source": [
    "mu0+qt(0.975,48)*semu    "
   ]
  },
  {
   "cell_type": "code",
   "execution_count": 134,
   "id": "d16e27ef-aab1-47ec-be29-c91d89cd8f2d",
   "metadata": {},
   "outputs": [
    {
     "data": {
      "text/html": [
       "50.0101751656855"
      ],
      "text/latex": [
       "50.0101751656855"
      ],
      "text/markdown": [
       "50.0101751656855"
      ],
      "text/plain": [
       "[1] 50.01018"
      ]
     },
     "metadata": {},
     "output_type": "display_data"
    }
   ],
   "source": [
    "mu0-qt(0.975,48)*semu          \n"
   ]
  },
  {
   "cell_type": "markdown",
   "id": "02d31764-970b-45cc-89f7-f3f457f19049",
   "metadata": {},
   "source": [
    "## (9) 개별반응, 신뢰구간"
   ]
  },
  {
   "cell_type": "markdown",
   "id": "6114b81b-eb69-42a1-bc9b-2b70e91f0214",
   "metadata": {},
   "source": [
    "속도가 18.5mph 인 차량의 개별 제동거리를 예측하고, 95% 신뢰구간을 구하시오."
   ]
  },
  {
   "cell_type": "markdown",
   "id": "db9e617a-cb56-40dc-840d-8391184bc796",
   "metadata": {},
   "source": [
    "`-` 코드"
   ]
  },
  {
   "cell_type": "code",
   "execution_count": 124,
   "id": "7ed43c71-1264-4f21-9516-31d1a63862ef",
   "metadata": {},
   "outputs": [
    {
     "data": {
      "text/html": [
       "<table class=\"dataframe\">\n",
       "<caption>A matrix: 1 × 3 of type dbl</caption>\n",
       "<thead>\n",
       "\t<tr><th></th><th scope=col>fit</th><th scope=col>lwr</th><th scope=col>upr</th></tr>\n",
       "</thead>\n",
       "<tbody>\n",
       "\t<tr><th scope=row>1</th><td>55.17047</td><td>23.83284</td><td>86.5081</td></tr>\n",
       "</tbody>\n",
       "</table>\n"
      ],
      "text/latex": [
       "A matrix: 1 × 3 of type dbl\n",
       "\\begin{tabular}{r|lll}\n",
       "  & fit & lwr & upr\\\\\n",
       "\\hline\n",
       "\t1 & 55.17047 & 23.83284 & 86.5081\\\\\n",
       "\\end{tabular}\n"
      ],
      "text/markdown": [
       "\n",
       "A matrix: 1 × 3 of type dbl\n",
       "\n",
       "| <!--/--> | fit | lwr | upr |\n",
       "|---|---|---|---|\n",
       "| 1 | 55.17047 | 23.83284 | 86.5081 |\n",
       "\n"
      ],
      "text/plain": [
       "  fit      lwr      upr    \n",
       "1 55.17047 23.83284 86.5081"
      ]
     },
     "metadata": {},
     "output_type": "display_data"
    }
   ],
   "source": [
    "predict(model, newdata = new_speed, \n",
    "        interval = c(\"prediction\"),  \n",
    "        level = 0.95)  ## 개별 y"
   ]
  },
  {
   "cell_type": "markdown",
   "id": "0061ee24-fdad-4b18-aff5-1011e0f8d7d3",
   "metadata": {},
   "source": [
    "`-` 직접계산"
   ]
  },
  {
   "cell_type": "code",
   "execution_count": 136,
   "id": "7181bbcf-a2ed-4167-be2d-1a63c29c44a9",
   "metadata": {},
   "outputs": [
    {
     "data": {
      "text/html": [
       "243.118551337083"
      ],
      "text/latex": [
       "243.118551337083"
      ],
      "text/markdown": [
       "243.118551337083"
      ],
      "text/plain": [
       "[1] 243.1186"
      ]
     },
     "metadata": {},
     "output_type": "display_data"
    }
   ],
   "source": [
    "vary0=MSE*(1+(1/48)+(18.5-mean(dt$x))^2/sum((dt$x-mean(dt$x))^2))\n",
    "vary0"
   ]
  },
  {
   "cell_type": "code",
   "execution_count": 137,
   "id": "7fe32f50-f481-4ab6-ab3d-e606942bd58a",
   "metadata": {},
   "outputs": [
    {
     "data": {
      "text/html": [
       "15.5922593403613"
      ],
      "text/latex": [
       "15.5922593403613"
      ],
      "text/markdown": [
       "15.5922593403613"
      ],
      "text/plain": [
       "[1] 15.59226"
      ]
     },
     "metadata": {},
     "output_type": "display_data"
    }
   ],
   "source": [
    "sqrt(vary0)"
   ]
  },
  {
   "cell_type": "code",
   "execution_count": 138,
   "id": "b75d22a1-a34b-4cc2-93c2-47ffb1e94c01",
   "metadata": {},
   "outputs": [
    {
     "data": {
      "text/html": [
       "86.5208057329061"
      ],
      "text/latex": [
       "86.5208057329061"
      ],
      "text/markdown": [
       "86.5208057329061"
      ],
      "text/plain": [
       "[1] 86.52081"
      ]
     },
     "metadata": {},
     "output_type": "display_data"
    }
   ],
   "source": [
    "mu0+qt(0.975,48)*sqrt(vary0)"
   ]
  },
  {
   "cell_type": "code",
   "execution_count": 139,
   "id": "81ff9cec-1129-48f3-802e-b042bd26ad9a",
   "metadata": {},
   "outputs": [
    {
     "data": {
      "text/html": [
       "23.8201285736632"
      ],
      "text/latex": [
       "23.8201285736632"
      ],
      "text/markdown": [
       "23.8201285736632"
      ],
      "text/plain": [
       "[1] 23.82013"
      ]
     },
     "metadata": {},
     "output_type": "display_data"
    }
   ],
   "source": [
    "mu0-qt(0.975,48)*sqrt(vary0)"
   ]
  },
  {
   "cell_type": "code",
   "execution_count": 168,
   "id": "da696739-0e27-484f-ad1e-792d663ff897",
   "metadata": {},
   "outputs": [
    {
     "data": {
      "text/html": [
       "1.8595480375309"
      ],
      "text/latex": [
       "1.8595480375309"
      ],
      "text/markdown": [
       "1.8595480375309"
      ],
      "text/plain": [
       "[1] 1.859548"
      ]
     },
     "metadata": {},
     "output_type": "display_data"
    }
   ],
   "source": [
    "qt(0.95,8)"
   ]
  },
  {
   "cell_type": "markdown",
   "id": "f8a00739-262e-458e-b2d0-27739d3f8c29",
   "metadata": {},
   "source": [
    "## (10) 원점 지나는 회귀직선"
   ]
  },
  {
   "cell_type": "markdown",
   "id": "a686d5c1-a99d-485a-91c8-cbf617a7a6a7",
   "metadata": {},
   "source": [
    "원점을 지나는 회귀직선을 구하시오."
   ]
  },
  {
   "cell_type": "markdown",
   "id": "fd27dd05-8adb-43e4-9928-832c64d30d92",
   "metadata": {},
   "source": [
    "`-` 코드"
   ]
  },
  {
   "cell_type": "code",
   "execution_count": 62,
   "id": "6c6d6054-ef4a-4ed1-a395-2dd5f22146c2",
   "metadata": {},
   "outputs": [
    {
     "data": {
      "text/plain": [
       "\n",
       "Call:\n",
       "lm(formula = dist ~ 0 + speed, data = cars)\n",
       "\n",
       "Residuals:\n",
       "    Min      1Q  Median      3Q     Max \n",
       "-26.183 -12.637  -5.455   4.590  50.181 \n",
       "\n",
       "Coefficients:\n",
       "      Estimate Std. Error t value Pr(>|t|)    \n",
       "speed   2.9091     0.1414   20.58   <2e-16 ***\n",
       "---\n",
       "Signif. codes:  0 ‘***’ 0.001 ‘**’ 0.01 ‘*’ 0.05 ‘.’ 0.1 ‘ ’ 1\n",
       "\n",
       "Residual standard error: 16.26 on 49 degrees of freedom\n",
       "Multiple R-squared:  0.8963,\tAdjusted R-squared:  0.8942 \n",
       "F-statistic: 423.5 on 1 and 49 DF,  p-value: < 2.2e-16\n"
      ]
     },
     "metadata": {},
     "output_type": "display_data"
    }
   ],
   "source": [
    "model2 <- lm(dist ~ 0 + speed, cars)\n",
    "summary(model2)"
   ]
  },
  {
   "cell_type": "markdown",
   "id": "0dd7aeaa-0ca5-49d2-b829-c8b080645dd0",
   "metadata": {},
   "source": [
    "$\\widehat {dist} = 2.9091 \\widehat {speed}$"
   ]
  },
  {
   "cell_type": "markdown",
   "id": "60b912b0-0950-4e75-a6b5-84e6ee9ea6ac",
   "metadata": {},
   "source": [
    "`-` 직접계산"
   ]
  },
  {
   "cell_type": "code",
   "execution_count": 141,
   "id": "ebc961b9-d65b-42fb-a9f2-f52e64cc86b3",
   "metadata": {},
   "outputs": [
    {
     "data": {
      "text/html": [
       "2.9091321439371"
      ],
      "text/latex": [
       "2.9091321439371"
      ],
      "text/markdown": [
       "2.9091321439371"
      ],
      "text/plain": [
       "[1] 2.909132"
      ]
     },
     "metadata": {},
     "output_type": "display_data"
    }
   ],
   "source": [
    "beta1_0 <- sum(dt$x * dt$y)/sum((dt$x^2))\n",
    "beta1_0 "
   ]
  },
  {
   "cell_type": "code",
   "execution_count": null,
   "id": "25bf8886-98a9-45bc-aefb-45b684259bc1",
   "metadata": {},
   "outputs": [],
   "source": []
  },
  {
   "cell_type": "code",
   "execution_count": null,
   "id": "b7709685-05db-4267-846a-0bdb75e01a57",
   "metadata": {},
   "outputs": [],
   "source": []
  },
  {
   "cell_type": "code",
   "execution_count": null,
   "id": "7e86c298-41e4-48e6-973c-19507b383b69",
   "metadata": {},
   "outputs": [],
   "source": []
  },
  {
   "cell_type": "markdown",
   "id": "78f19ee2-058c-4441-a48b-5d41939d5a01",
   "metadata": {},
   "source": [
    "## (11) 원점 지나는 회귀계수 신뢰구간"
   ]
  },
  {
   "cell_type": "markdown",
   "id": "3fc7c55f-1b01-4842-9af4-445b6317988c",
   "metadata": {},
   "source": [
    "위 회귀직선에서 회귀계수(기울기)의 90% 신뢰구간을 구하시오.\n"
   ]
  },
  {
   "cell_type": "markdown",
   "id": "ae140586-33f3-4f15-9456-36d8add947f2",
   "metadata": {},
   "source": [
    "`-`코드"
   ]
  },
  {
   "cell_type": "code",
   "execution_count": 70,
   "id": "8907b59f-e688-4d34-aff6-99e65bef5a7a",
   "metadata": {},
   "outputs": [
    {
     "data": {
      "text/html": [
       "<table class=\"dataframe\">\n",
       "<caption>A matrix: 1 × 2 of type dbl</caption>\n",
       "<thead>\n",
       "\t<tr><th></th><th scope=col>5 %</th><th scope=col>95 %</th></tr>\n",
       "</thead>\n",
       "<tbody>\n",
       "\t<tr><th scope=row>speed</th><td>2.67212</td><td>3.146144</td></tr>\n",
       "</tbody>\n",
       "</table>\n"
      ],
      "text/latex": [
       "A matrix: 1 × 2 of type dbl\n",
       "\\begin{tabular}{r|ll}\n",
       "  & 5 \\% & 95 \\%\\\\\n",
       "\\hline\n",
       "\tspeed & 2.67212 & 3.146144\\\\\n",
       "\\end{tabular}\n"
      ],
      "text/markdown": [
       "\n",
       "A matrix: 1 × 2 of type dbl\n",
       "\n",
       "| <!--/--> | 5 % | 95 % |\n",
       "|---|---|---|\n",
       "| speed | 2.67212 | 3.146144 |\n",
       "\n"
      ],
      "text/plain": [
       "      5 %     95 %    \n",
       "speed 2.67212 3.146144"
      ]
     },
     "metadata": {},
     "output_type": "display_data"
    }
   ],
   "source": [
    "confint(model2, level=0.9)"
   ]
  },
  {
   "cell_type": "markdown",
   "id": "6dae4e57-3729-4fda-914d-4a98eafcaccb",
   "metadata": {},
   "source": [
    "`-` 직접계산"
   ]
  },
  {
   "cell_type": "code",
   "execution_count": 143,
   "id": "38faf349-113a-46c6-bb58-26d1e7c19f8b",
   "metadata": {},
   "outputs": [
    {
     "data": {
      "text/html": [
       "<strong>x_barx2:</strong> 1370"
      ],
      "text/latex": [
       "\\textbf{x\\textbackslash{}\\_barx2:} 1370"
      ],
      "text/markdown": [
       "**x_barx2:** 1370"
      ],
      "text/plain": [
       "x_barx2 \n",
       "   1370 "
      ]
     },
     "metadata": {},
     "output_type": "display_data"
    }
   ],
   "source": [
    "colSums(dt)[6] #Sxx"
   ]
  },
  {
   "cell_type": "code",
   "execution_count": 146,
   "id": "4257973c-a303-46be-98f6-58af9b8edc13",
   "metadata": {},
   "outputs": [],
   "source": [
    "SSR_0 = sum(((2.909132*dt$x))^2 )"
   ]
  },
  {
   "cell_type": "code",
   "execution_count": 147,
   "id": "3080d888-d294-4748-9354-dfec8b02ba11",
   "metadata": {},
   "outputs": [],
   "source": [
    "SSE_0 = sum((dt$y - 2.909132*dt$x)^2)"
   ]
  },
  {
   "cell_type": "code",
   "execution_count": 148,
   "id": "0998d5a2-3760-4fdb-b5ae-0defd3a9eb30",
   "metadata": {},
   "outputs": [],
   "source": [
    "SST_0 = sum(dt$y^2)"
   ]
  },
  {
   "cell_type": "code",
   "execution_count": 149,
   "id": "45acff7a-5f09-46fe-8f0a-df333b4029d5",
   "metadata": {},
   "outputs": [],
   "source": [
    "MSE_0 = SSE_0/49"
   ]
  },
  {
   "cell_type": "code",
   "execution_count": 150,
   "id": "9d3d7185-b61d-40f2-933d-2b7f8647971a",
   "metadata": {},
   "outputs": [],
   "source": [
    "sigma_0 = sqrt(MSE_0)"
   ]
  },
  {
   "cell_type": "code",
   "execution_count": 158,
   "id": "9addd086-8d78-45a2-b5dc-53f3cdb05c4d",
   "metadata": {},
   "outputs": [
    {
     "data": {
      "text/html": [
       "3.64560479353767"
      ],
      "text/latex": [
       "3.64560479353767"
      ],
      "text/markdown": [
       "3.64560479353767"
      ],
      "text/plain": [
       "[1] 3.645605"
      ]
     },
     "metadata": {},
     "output_type": "display_data"
    }
   ],
   "source": [
    "beta1_0 + qt(0.95,49) * sigma_0/sqrt(1370)"
   ]
  },
  {
   "cell_type": "code",
   "execution_count": 159,
   "id": "22590aad-22f5-489d-b12d-1b5d7be78f37",
   "metadata": {},
   "outputs": [
    {
     "data": {
      "text/html": [
       "2.17265949433653"
      ],
      "text/latex": [
       "2.17265949433653"
      ],
      "text/markdown": [
       "2.17265949433653"
      ],
      "text/plain": [
       "[1] 2.172659"
      ]
     },
     "metadata": {},
     "output_type": "display_data"
    }
   ],
   "source": [
    "beta1_0 - qt(0.95,49) * sigma_0/sqrt(1370)"
   ]
  },
  {
   "cell_type": "code",
   "execution_count": 160,
   "id": "212aaefb-e78d-425e-a487-2beb4973bcc8",
   "metadata": {},
   "outputs": [
    {
     "data": {
      "text/html": [
       "1.67655089261685"
      ],
      "text/latex": [
       "1.67655089261685"
      ],
      "text/markdown": [
       "1.67655089261685"
      ],
      "text/plain": [
       "[1] 1.676551"
      ]
     },
     "metadata": {},
     "output_type": "display_data"
    }
   ],
   "source": [
    " qt(0.95,49)"
   ]
  },
  {
   "cell_type": "markdown",
   "id": "813500a2-01d1-4187-97e0-35eaf7fec589",
   "metadata": {},
   "source": [
    "## (12) 원점 지난 회귀직선 분산분석"
   ]
  },
  {
   "cell_type": "code",
   "execution_count": null,
   "id": "66fd9be8-3766-48b2-863c-ef48cc7f8d59",
   "metadata": {},
   "outputs": [],
   "source": []
  },
  {
   "cell_type": "code",
   "execution_count": null,
   "id": "186886b7-63ef-4a12-a1fd-d9238360ee25",
   "metadata": {},
   "outputs": [],
   "source": []
  },
  {
   "cell_type": "markdown",
   "id": "231b7328-e530-4e64-b51a-644e703d06f6",
   "metadata": {},
   "source": [
    "원점을 지나는 회귀직선에 대한 분산분석표를 작성하고, 회귀직선의 유의 여부를 검정하시오."
   ]
  },
  {
   "cell_type": "code",
   "execution_count": 63,
   "id": "a863ce6e-9462-4203-8f3e-7fdbdcd41f63",
   "metadata": {},
   "outputs": [
    {
     "data": {
      "text/html": [
       "<table class=\"dataframe\">\n",
       "<caption>A anova: 2 × 5</caption>\n",
       "<thead>\n",
       "\t<tr><th></th><th scope=col>Df</th><th scope=col>Sum Sq</th><th scope=col>Mean Sq</th><th scope=col>F value</th><th scope=col>Pr(&gt;F)</th></tr>\n",
       "\t<tr><th></th><th scope=col>&lt;int&gt;</th><th scope=col>&lt;dbl&gt;</th><th scope=col>&lt;dbl&gt;</th><th scope=col>&lt;dbl&gt;</th><th scope=col>&lt;dbl&gt;</th></tr>\n",
       "</thead>\n",
       "<tbody>\n",
       "\t<tr><th scope=row>speed</th><td> 1</td><td>111949.22</td><td>111949.2232</td><td>423.4682</td><td>9.227817e-26</td></tr>\n",
       "\t<tr><th scope=row>Residuals</th><td>49</td><td> 12953.78</td><td>   264.3628</td><td>      NA</td><td>          NA</td></tr>\n",
       "</tbody>\n",
       "</table>\n"
      ],
      "text/latex": [
       "A anova: 2 × 5\n",
       "\\begin{tabular}{r|lllll}\n",
       "  & Df & Sum Sq & Mean Sq & F value & Pr(>F)\\\\\n",
       "  & <int> & <dbl> & <dbl> & <dbl> & <dbl>\\\\\n",
       "\\hline\n",
       "\tspeed &  1 & 111949.22 & 111949.2232 & 423.4682 & 9.227817e-26\\\\\n",
       "\tResiduals & 49 &  12953.78 &    264.3628 &       NA &           NA\\\\\n",
       "\\end{tabular}\n"
      ],
      "text/markdown": [
       "\n",
       "A anova: 2 × 5\n",
       "\n",
       "| <!--/--> | Df &lt;int&gt; | Sum Sq &lt;dbl&gt; | Mean Sq &lt;dbl&gt; | F value &lt;dbl&gt; | Pr(&gt;F) &lt;dbl&gt; |\n",
       "|---|---|---|---|---|---|\n",
       "| speed |  1 | 111949.22 | 111949.2232 | 423.4682 | 9.227817e-26 |\n",
       "| Residuals | 49 |  12953.78 |    264.3628 |       NA |           NA |\n",
       "\n"
      ],
      "text/plain": [
       "          Df Sum Sq    Mean Sq     F value  Pr(>F)      \n",
       "speed      1 111949.22 111949.2232 423.4682 9.227817e-26\n",
       "Residuals 49  12953.78    264.3628       NA           NA"
      ]
     },
     "metadata": {},
     "output_type": "display_data"
    }
   ],
   "source": [
    "anova(model2)"
   ]
  },
  {
   "cell_type": "markdown",
   "id": "138523ab-dc76-45bb-97b5-4ec0e83f5fb9",
   "metadata": {},
   "source": [
    "- 가정: $H_0: \\beta_1 = 0$ vs $H_1: \\beta_1 \\neq 0$"
   ]
  },
  {
   "cell_type": "code",
   "execution_count": 71,
   "id": "2d9e0f55-99d0-46d4-a022-e8c3d548c4ad",
   "metadata": {},
   "outputs": [
    {
     "data": {
      "text/html": [
       "4.03839263368304"
      ],
      "text/latex": [
       "4.03839263368304"
      ],
      "text/markdown": [
       "4.03839263368304"
      ],
      "text/plain": [
       "[1] 4.038393"
      ]
     },
     "metadata": {},
     "output_type": "display_data"
    }
   ],
   "source": [
    "qf(0.95,1,49)"
   ]
  },
  {
   "cell_type": "markdown",
   "id": "4086dce5-0ad9-407a-8fba-54b05803cc53",
   "metadata": {},
   "source": [
    "- $F_0 > F_{0.05}(0.95,1,49) = 4.04$ 이므로 귀무가설을 기각할 수 잇다. 즉 회귀직선이 유의하다."
   ]
  },
  {
   "cell_type": "markdown",
   "id": "97242fad-bf7f-4e51-b61b-27634dd7a14b",
   "metadata": {},
   "source": [
    "## (13) 원점 지나는 회귀직선 결정계수"
   ]
  },
  {
   "cell_type": "markdown",
   "id": "9d09a7cc-5fb9-4bfe-8b7a-5e1ec6420b8b",
   "metadata": {},
   "source": [
    " 원점을 지나는 회귀직선의 결정계수를 구하시오."
   ]
  },
  {
   "cell_type": "markdown",
   "id": "fd7979fa-3bb4-45b0-b31a-2fae35317018",
   "metadata": {},
   "source": [
    "`-` 코드"
   ]
  },
  {
   "cell_type": "code",
   "execution_count": 64,
   "id": "0707d206-7177-40d1-b685-37d9e2207ba4",
   "metadata": {},
   "outputs": [
    {
     "data": {
      "text/html": [
       "0.896289305805206"
      ],
      "text/latex": [
       "0.896289305805206"
      ],
      "text/markdown": [
       "0.896289305805206"
      ],
      "text/plain": [
       "[1] 0.8962893"
      ]
     },
     "metadata": {},
     "output_type": "display_data"
    }
   ],
   "source": [
    "summary(model2)$r.squared"
   ]
  },
  {
   "cell_type": "markdown",
   "id": "7616c774-57af-4c28-a0b3-0426f7827703",
   "metadata": {},
   "source": [
    "`-` 직접계산"
   ]
  },
  {
   "cell_type": "code",
   "execution_count": 161,
   "id": "f740bb88-2ec8-4a6c-8143-aaf2d911c6de",
   "metadata": {},
   "outputs": [
    {
     "data": {
      "text/html": [
       "0.896289217112581"
      ],
      "text/latex": [
       "0.896289217112581"
      ],
      "text/markdown": [
       "0.896289217112581"
      ],
      "text/plain": [
       "[1] 0.8962892"
      ]
     },
     "metadata": {},
     "output_type": "display_data"
    }
   ],
   "source": [
    "SSR_0/SST_0\n"
   ]
  },
  {
   "cell_type": "markdown",
   "id": "06363683-6a4d-4740-af5a-512213bef923",
   "metadata": {},
   "source": [
    "## (14) 회귀직선 결과 비교"
   ]
  },
  {
   "cell_type": "markdown",
   "id": "80f47e30-5c6a-4a8d-a13f-a55065d63aa1",
   "metadata": {},
   "source": [
    "원점을 포함한 회귀직선과 포함하지 않은 회귀직선의 결과를 비교하여라."
   ]
  },
  {
   "cell_type": "code",
   "execution_count": null,
   "id": "009b315b-fb51-4a12-b837-b5506f9743f5",
   "metadata": {},
   "outputs": [],
   "source": []
  },
  {
   "cell_type": "code",
   "execution_count": 66,
   "id": "206caa97-828e-4bf7-93b6-9c05051af394",
   "metadata": {},
   "outputs": [
    {
     "data": {
      "text/html": [
       "0.651079380758251"
      ],
      "text/latex": [
       "0.651079380758251"
      ],
      "text/markdown": [
       "0.651079380758251"
      ],
      "text/plain": [
       "[1] 0.6510794"
      ]
     },
     "metadata": {},
     "output_type": "display_data"
    },
    {
     "data": {
      "text/html": [
       "0.896289305805206"
      ],
      "text/latex": [
       "0.896289305805206"
      ],
      "text/markdown": [
       "0.896289305805206"
      ],
      "text/plain": [
       "[1] 0.8962893"
      ]
     },
     "metadata": {},
     "output_type": "display_data"
    }
   ],
   "source": [
    "summary(model)$r.squared\n",
    "summary(model2)$r.squared"
   ]
  },
  {
   "cell_type": "markdown",
   "id": "657d6354-5f9c-47f5-96e6-72eac9057cfe",
   "metadata": {},
   "source": [
    "원점을 포함한 회귀직선의 R스퀘어값이 더 크므로 model2가 더 좋은 것 같다."
   ]
  },
  {
   "cell_type": "markdown",
   "id": "03404f94-59ef-4e5b-a993-df706d9af679",
   "metadata": {},
   "source": [
    "## (15) 잔차 산점도"
   ]
  },
  {
   "cell_type": "markdown",
   "id": "28e7b4f3-6fa2-4049-9614-28c83f6ad346",
   "metadata": {},
   "source": [
    "잔차에 대한 산점도를 그리고, 결과를 설명하여라."
   ]
  },
  {
   "cell_type": "code",
   "execution_count": 84,
   "id": "bab53863-a7b3-4d04-9f46-0c9766b9cdd9",
   "metadata": {},
   "outputs": [],
   "source": [
    "cars$disthat <- model$fitted\n",
    "cars$resid <- model$residuals"
   ]
  },
  {
   "cell_type": "code",
   "execution_count": 85,
   "id": "51a65829-3303-41b0-9fd1-ecff06cca3c7",
   "metadata": {},
   "outputs": [
    {
     "data": {
      "image/png": "[encoded data removed]",
      "text/plain": [
       "plot without title"
      ]
     },
     "metadata": {
      "image/png": {
       "height": 420,
       "width": 420
      }
     },
     "output_type": "display_data"
    }
   ],
   "source": [
    "par(mfrow=c(1,2))\n",
    "plot(resid ~ speed, cars, pch=16, ylab = 'Residual')\n",
    "abline(h=0, lty=2, col='grey')\n",
    "plot(resid ~ disthat, cars, pch=16, ylab = 'Residual')\n",
    "abline(h=0, lty=2, col='grey')"
   ]
  },
  {
   "cell_type": "markdown",
   "id": "aa44de0a-bfa7-462a-bb5c-c97d0bb7a5ab",
   "metadata": {
    "tags": []
   },
   "source": [
    "## (16) 잔차 등분산성 검정"
   ]
  },
  {
   "cell_type": "markdown",
   "id": "f150d45f-2bc4-406d-bedb-3199142e49be",
   "metadata": {},
   "source": [
    "잔차에 대한 등분산성 검정을 수행하시오."
   ]
  },
  {
   "cell_type": "markdown",
   "id": "199b01e9-0cd6-4102-a66b-c43b19382875",
   "metadata": {},
   "source": [
    "가설:"
   ]
  },
  {
   "cell_type": "code",
   "execution_count": 164,
   "id": "8cf12437-2525-4f7c-8ad1-c78bf799b387",
   "metadata": {},
   "outputs": [
    {
     "data": {
      "text/plain": [
       "\n",
       "\tstudentized Breusch-Pagan test\n",
       "\n",
       "data:  model\n",
       "BP = 3.2149, df = 1, p-value = 0.07297\n"
      ]
     },
     "metadata": {},
     "output_type": "display_data"
    }
   ],
   "source": [
    "bptest(model)"
   ]
  },
  {
   "cell_type": "markdown",
   "id": "9f58d566-9eb2-4f40-b5d4-6b8bf84daaa3",
   "metadata": {},
   "source": [
    "## (17) 잔차 정규성 검정"
   ]
  },
  {
   "cell_type": "markdown",
   "id": "231fc2da-30c6-45d3-aaae-f248e78f4e54",
   "metadata": {},
   "source": [
    "잔차에 대한 히스토그램, QQ plot을 그리고, 정규성 검정을 수행하여라."
   ]
  },
  {
   "cell_type": "markdown",
   "id": "27c1d3ce-dcbb-4b1e-a082-1fe009efefa6",
   "metadata": {},
   "source": [
    "가설:"
   ]
  },
  {
   "cell_type": "code",
   "execution_count": 90,
   "id": "9500bce8-bea9-459e-9cb1-fdb0687ec332",
   "metadata": {},
   "outputs": [
    {
     "data": {
      "image/png": "[encoded data removed]",
      "text/plain": [
       "Plot with title “Normal Q-Q Plot”"
      ]
     },
     "metadata": {
      "image/png": {
       "height": 420,
       "width": 420
      }
     },
     "output_type": "display_data"
    },
    {
     "data": {
      "image/png": "[encoded data removed]",
      "text/plain": [
       "Plot with title “Histogram of cars$resid”"
      ]
     },
     "metadata": {
      "image/png": {
       "height": 420,
       "width": 420
      }
     },
     "output_type": "display_data"
    }
   ],
   "source": [
    "qqnorm(cars$resid, pch=16)\n",
    "qqline(cars$resid, col=2)\n",
    "\n",
    "hist(cars$resid)"
   ]
  },
  {
   "cell_type": "code",
   "execution_count": 91,
   "id": "9692d8aa-f9e4-4786-9018-4e2e935c4b8c",
   "metadata": {},
   "outputs": [
    {
     "data": {
      "text/plain": [
       "\n",
       "\tShapiro-Wilk normality test\n",
       "\n",
       "data:  resid(model)\n",
       "W = 0.94509, p-value = 0.02152\n"
      ]
     },
     "metadata": {},
     "output_type": "display_data"
    }
   ],
   "source": [
    "shapiro.test(resid(model))"
   ]
  },
  {
   "cell_type": "markdown",
   "id": "6ba765dd-2dbf-4e86-9455-5e3941aaebb5",
   "metadata": {},
   "source": [
    "- $H_0$: 정규성 만족, $H_1$: 정규성만족X\n",
    "\n",
    "- p-value의 값이 0.05 보다 작으므로 귀무가설을 기각"
   ]
  },
  {
   "cell_type": "markdown",
   "id": "5d0949ca-c0d7-4e9d-8ebc-de9f8b82088a",
   "metadata": {},
   "source": [
    "## (18) 잔차 독립성 검정"
   ]
  },
  {
   "cell_type": "markdown",
   "id": "b366bbff-48a2-4542-9db5-5733045e50d6",
   "metadata": {},
   "source": [
    "잔차에 대한 독립성 검정을 수행하시오."
   ]
  },
  {
   "cell_type": "code",
   "execution_count": 92,
   "id": "3278d245-d42a-437b-b3af-605700cc7fbc",
   "metadata": {},
   "outputs": [
    {
     "data": {
      "text/plain": [
       "\n",
       "\tDurbin-Watson test\n",
       "\n",
       "data:  model\n",
       "DW = 1.6762, p-value = 0.1904\n",
       "alternative hypothesis: true autocorrelation is not 0\n"
      ]
     },
     "metadata": {},
     "output_type": "display_data"
    }
   ],
   "source": [
    "dwtest(model, alternative = \"two.sided\")  #H0 : uncorrelated vs H1 : rho != 0"
   ]
  },
  {
   "cell_type": "markdown",
   "id": "77d0e5a2-1ec6-4187-9476-1e3c067b5937",
   "metadata": {},
   "source": [
    "- DW TEST의 p-value=0.1904이므로 H0를 기각할 수 없다. 채택. 즉 서로 독립이다."
   ]
  },
  {
   "cell_type": "code",
   "execution_count": 93,
   "id": "d8138d35-65ce-435c-b28f-aeadc646cb43",
   "metadata": {},
   "outputs": [
    {
     "data": {
      "text/plain": [
       "\n",
       "\tDurbin-Watson test\n",
       "\n",
       "data:  model\n",
       "DW = 1.6762, p-value = 0.09522\n",
       "alternative hypothesis: true autocorrelation is greater than 0\n"
      ]
     },
     "metadata": {},
     "output_type": "display_data"
    }
   ],
   "source": [
    "dwtest(model, alternative = \"greater\")  #H0 : uncorrelated vs H1 : rho > 0"
   ]
  },
  {
   "cell_type": "code",
   "execution_count": null,
   "id": "0b1c01a5-f27f-4dd2-b341-4b2341d6f16f",
   "metadata": {},
   "outputs": [],
   "source": []
  },
  {
   "cell_type": "code",
   "execution_count": 94,
   "id": "a7b29cd2-4742-44b9-863d-a7c39499acd7",
   "metadata": {},
   "outputs": [
    {
     "data": {
      "text/plain": [
       "\n",
       "\tDurbin-Watson test\n",
       "\n",
       "data:  model\n",
       "DW = 1.6762, p-value = 0.9048\n",
       "alternative hypothesis: true autocorrelation is less than 0\n"
      ]
     },
     "metadata": {},
     "output_type": "display_data"
    }
   ],
   "source": [
    "dwtest(model, alternative = \"less\")     #H0 : uncorrelated vs H1 : rho < 0"
   ]
  },
  {
   "cell_type": "code",
   "execution_count": null,
   "id": "f0e8e66b-73a1-4203-8d24-9d2a504e38a5",
   "metadata": {},
   "outputs": [],
   "source": []
  }
 ],
 "metadata": {
  "kernelspec": {
   "display_name": "R",
   "language": "R",
   "name": "ir"
  },
  "language_info": {
   "codemirror_mode": "r",
   "file_extension": ".r",
   "mimetype": "text/x-r-source",
   "name": "R",
   "pygments_lexer": "r",
   "version": "4.2.2"
  }
 },
 "nbformat": 4,
 "nbformat_minor": 5
}
