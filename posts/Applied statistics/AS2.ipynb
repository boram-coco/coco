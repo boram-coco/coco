{
 "cells": [
  {
   "cell_type": "raw",
   "id": "7f29de6f-8499-4e56-820b-d2801f29a547",
   "metadata": {},
   "source": [
    "---\n",
    "title: \"AS HW2\"\n",
    "author: \"김보람\"\n",
    "date: \"04/19/2023\"\n",
    "categories:\n",
    "  - Applied statistics\n",
    "  - homework\n",
    "---"
   ]
  },
  {
   "cell_type": "code",
   "execution_count": 4,
   "id": "9da12f74-f997-4032-b8e6-e35b3672461d",
   "metadata": {},
   "outputs": [],
   "source": [
    "library(tidyverse)"
   ]
  },
  {
   "cell_type": "markdown",
   "id": "4695696e-abb5-456a-8c16-367bf37fc5a3",
   "metadata": {
    "tags": []
   },
   "source": [
    "# 1번 "
   ]
  },
  {
   "cell_type": "markdown",
   "id": "d70eae54-a48e-400a-80c7-214c3b3b6003",
   "metadata": {},
   "source": [
    "‘dt.csv’ 데이터를 이용하여 회귀모형을 적합하려고 한다. 이는 매장별 유아 카시트 판매액(Sales)를 예측하기\n",
    "위한 데이터 이다. 다음 물음에 답하여라. (R을 이용하여 풀이)(검정에서는 유의수준 $α = 0.05$ 사용)"
   ]
  },
  {
   "cell_type": "markdown",
   "id": "f3eee73c-aee5-40e1-a6bf-7a233fc1ef3d",
   "metadata": {},
   "source": [
    "## (1) "
   ]
  },
  {
   "cell_type": "markdown",
   "id": "0ae17dac-efb9-4e9d-9f81-072c78e44e04",
   "metadata": {},
   "source": [
    "이 데이터의 산점도 행렬을 그리시오."
   ]
  },
  {
   "cell_type": "code",
   "execution_count": 10,
   "id": "ec7aa0f7-dbab-4445-bc4a-1f29c16c8380",
   "metadata": {},
   "outputs": [
    {
     "name": "stderr",
     "output_type": "stream",
     "text": [
      "\u001b[1mRows: \u001b[22m\u001b[34m400\u001b[39m \u001b[1mColumns: \u001b[22m\u001b[34m8\u001b[39m\n",
      "\u001b[36m──\u001b[39m \u001b[1mColumn specification\u001b[22m \u001b[36m────────────────────────────────────────────────────────\u001b[39m\n",
      "\u001b[1mDelimiter:\u001b[22m \",\"\n",
      "\u001b[32mdbl\u001b[39m (8): Sales, CompPrice, Income, Advertising, Population, Price, Age, Educ...\n",
      "\n",
      "\u001b[36mℹ\u001b[39m Use `spec()` to retrieve the full column specification for this data.\n",
      "\u001b[36mℹ\u001b[39m Specify the column types or set `show_col_types = FALSE` to quiet this message.\n"
     ]
    },
    {
     "data": {
      "text/html": [
       "<table class=\"dataframe\">\n",
       "<caption>A tibble: 6 × 8</caption>\n",
       "<thead>\n",
       "\t<tr><th scope=col>Sales</th><th scope=col>CompPrice</th><th scope=col>Income</th><th scope=col>Advertising</th><th scope=col>Population</th><th scope=col>Price</th><th scope=col>Age</th><th scope=col>Education</th></tr>\n",
       "\t<tr><th scope=col>&lt;dbl&gt;</th><th scope=col>&lt;dbl&gt;</th><th scope=col>&lt;dbl&gt;</th><th scope=col>&lt;dbl&gt;</th><th scope=col>&lt;dbl&gt;</th><th scope=col>&lt;dbl&gt;</th><th scope=col>&lt;dbl&gt;</th><th scope=col>&lt;dbl&gt;</th></tr>\n",
       "</thead>\n",
       "<tbody>\n",
       "\t<tr><td> 9.50</td><td>138</td><td> 73</td><td>11</td><td>276</td><td>120</td><td>42</td><td>17</td></tr>\n",
       "\t<tr><td>11.22</td><td>111</td><td> 48</td><td>16</td><td>260</td><td> 83</td><td>65</td><td>10</td></tr>\n",
       "\t<tr><td>10.06</td><td>113</td><td> 35</td><td>10</td><td>269</td><td> 80</td><td>59</td><td>12</td></tr>\n",
       "\t<tr><td> 7.40</td><td>117</td><td>100</td><td> 4</td><td>466</td><td> 97</td><td>55</td><td>14</td></tr>\n",
       "\t<tr><td> 4.15</td><td>141</td><td> 64</td><td> 3</td><td>340</td><td>128</td><td>38</td><td>13</td></tr>\n",
       "\t<tr><td>10.81</td><td>124</td><td>113</td><td>13</td><td>501</td><td> 72</td><td>78</td><td>16</td></tr>\n",
       "</tbody>\n",
       "</table>\n"
      ],
      "text/latex": [
       "A tibble: 6 × 8\n",
       "\\begin{tabular}{llllllll}\n",
       " Sales & CompPrice & Income & Advertising & Population & Price & Age & Education\\\\\n",
       " <dbl> & <dbl> & <dbl> & <dbl> & <dbl> & <dbl> & <dbl> & <dbl>\\\\\n",
       "\\hline\n",
       "\t  9.50 & 138 &  73 & 11 & 276 & 120 & 42 & 17\\\\\n",
       "\t 11.22 & 111 &  48 & 16 & 260 &  83 & 65 & 10\\\\\n",
       "\t 10.06 & 113 &  35 & 10 & 269 &  80 & 59 & 12\\\\\n",
       "\t  7.40 & 117 & 100 &  4 & 466 &  97 & 55 & 14\\\\\n",
       "\t  4.15 & 141 &  64 &  3 & 340 & 128 & 38 & 13\\\\\n",
       "\t 10.81 & 124 & 113 & 13 & 501 &  72 & 78 & 16\\\\\n",
       "\\end{tabular}\n"
      ],
      "text/markdown": [
       "\n",
       "A tibble: 6 × 8\n",
       "\n",
       "| Sales &lt;dbl&gt; | CompPrice &lt;dbl&gt; | Income &lt;dbl&gt; | Advertising &lt;dbl&gt; | Population &lt;dbl&gt; | Price &lt;dbl&gt; | Age &lt;dbl&gt; | Education &lt;dbl&gt; |\n",
       "|---|---|---|---|---|---|---|---|\n",
       "|  9.50 | 138 |  73 | 11 | 276 | 120 | 42 | 17 |\n",
       "| 11.22 | 111 |  48 | 16 | 260 |  83 | 65 | 10 |\n",
       "| 10.06 | 113 |  35 | 10 | 269 |  80 | 59 | 12 |\n",
       "|  7.40 | 117 | 100 |  4 | 466 |  97 | 55 | 14 |\n",
       "|  4.15 | 141 |  64 |  3 | 340 | 128 | 38 | 13 |\n",
       "| 10.81 | 124 | 113 | 13 | 501 |  72 | 78 | 16 |\n",
       "\n"
      ],
      "text/plain": [
       "  Sales CompPrice Income Advertising Population Price Age Education\n",
       "1  9.50 138        73    11          276        120   42  17       \n",
       "2 11.22 111        48    16          260         83   65  10       \n",
       "3 10.06 113        35    10          269         80   59  12       \n",
       "4  7.40 117       100     4          466         97   55  14       \n",
       "5  4.15 141        64     3          340        128   38  13       \n",
       "6 10.81 124       113    13          501         72   78  16       "
      ]
     },
     "metadata": {},
     "output_type": "display_data"
    }
   ],
   "source": [
    "dt <- read_csv('dt.csv')\n",
    "head(dt)"
   ]
  },
  {
   "cell_type": "code",
   "execution_count": 11,
   "id": "b522e728-a22e-4f38-ada5-9668cc7db9a4",
   "metadata": {},
   "outputs": [
    {
     "data": {
      "image/png": "[encoded data removed]",
      "text/plain": [
       "plot without title"
      ]
     },
     "metadata": {
      "image/png": {
       "height": 420,
       "width": 420
      }
     },
     "output_type": "display_data"
    }
   ],
   "source": [
    "pairs(dt, pch=16, col='darkorange')\n"
   ]
  },
  {
   "cell_type": "markdown",
   "id": "0ef4fe84-404b-4b5e-9901-e4aa16ffa5ee",
   "metadata": {},
   "source": [
    "- 선형관계가 있어보이는 데이터는, \"sales와 price\",\"compprice와 porice\", "
   ]
  },
  {
   "cell_type": "code",
   "execution_count": 12,
   "id": "b0fe7d45-1d81-47ee-ba22-5d9e76e168c4",
   "metadata": {},
   "outputs": [
    {
     "data": {
      "image/png": "[encoded data removed]",
      "text/plain": [
       "plot without title"
      ]
     },
     "metadata": {
      "image/png": {
       "height": 420,
       "width": 420
      }
     },
     "output_type": "display_data"
    }
   ],
   "source": [
    "pairs(dt[,which(names(dt) %in% \n",
    "                      c('Sales', 'CompPrice', 'Price'))], \n",
    "      pch=16, col='darkorange')"
   ]
  },
  {
   "cell_type": "code",
   "execution_count": 13,
   "id": "8b18289b-7f19-4fa6-811d-9e64fb611ade",
   "metadata": {},
   "outputs": [
    {
     "data": {
      "text/html": [
       "<table class=\"dataframe\">\n",
       "<caption>A matrix: 3 × 3 of type dbl</caption>\n",
       "<thead>\n",
       "\t<tr><th></th><th scope=col>Sales</th><th scope=col>CompPrice</th><th scope=col>Price</th></tr>\n",
       "</thead>\n",
       "<tbody>\n",
       "\t<tr><th scope=row>Sales</th><td> 1.00000000</td><td>0.06407873</td><td>-0.4449507</td></tr>\n",
       "\t<tr><th scope=row>CompPrice</th><td> 0.06407873</td><td>1.00000000</td><td> 0.5848478</td></tr>\n",
       "\t<tr><th scope=row>Price</th><td>-0.44495073</td><td>0.58484777</td><td> 1.0000000</td></tr>\n",
       "</tbody>\n",
       "</table>\n"
      ],
      "text/latex": [
       "A matrix: 3 × 3 of type dbl\n",
       "\\begin{tabular}{r|lll}\n",
       "  & Sales & CompPrice & Price\\\\\n",
       "\\hline\n",
       "\tSales &  1.00000000 & 0.06407873 & -0.4449507\\\\\n",
       "\tCompPrice &  0.06407873 & 1.00000000 &  0.5848478\\\\\n",
       "\tPrice & -0.44495073 & 0.58484777 &  1.0000000\\\\\n",
       "\\end{tabular}\n"
      ],
      "text/markdown": [
       "\n",
       "A matrix: 3 × 3 of type dbl\n",
       "\n",
       "| <!--/--> | Sales | CompPrice | Price |\n",
       "|---|---|---|---|\n",
       "| Sales |  1.00000000 | 0.06407873 | -0.4449507 |\n",
       "| CompPrice |  0.06407873 | 1.00000000 |  0.5848478 |\n",
       "| Price | -0.44495073 | 0.58484777 |  1.0000000 |\n",
       "\n"
      ],
      "text/plain": [
       "          Sales       CompPrice  Price     \n",
       "Sales      1.00000000 0.06407873 -0.4449507\n",
       "CompPrice  0.06407873 1.00000000  0.5848478\n",
       "Price     -0.44495073 0.58484777  1.0000000"
      ]
     },
     "metadata": {},
     "output_type": "display_data"
    }
   ],
   "source": [
    "cor(dt[,which(names(dt) %in% \n",
    "                      c('Sales', 'CompPrice', 'Price'))])"
   ]
  },
  {
   "cell_type": "markdown",
   "id": "68bd4e74-ce9d-40b3-bbcd-0be1a2fe2131",
   "metadata": {},
   "source": [
    "- 2,3번 문제에서 축소모형 하니까.. 1번 문제에서는 걍 전체로 돌리자 "
   ]
  },
  {
   "cell_type": "markdown",
   "id": "6485648e-c02b-498a-a045-e47884ac32a3",
   "metadata": {},
   "source": [
    "## (2) "
   ]
  },
  {
   "cell_type": "markdown",
   "id": "951f7b0a-0531-4727-bc23-3c3131373db4",
   "metadata": {},
   "source": [
    "Sales를 예측하기 위한 중회귀분석을 하려고 한다. 이를 위한 모형을 설정하시오."
   ]
  },
  {
   "cell_type": "code",
   "execution_count": 57,
   "id": "3a729ed9-e26c-49c2-aa26-8f6eda9d7923",
   "metadata": {},
   "outputs": [
    {
     "data": {
      "text/plain": [
       "\n",
       "Call:\n",
       "lm(formula = Sales ~ ., data = dt)\n",
       "\n",
       "Residuals:\n",
       "    Min      1Q  Median      3Q     Max \n",
       "-5.0598 -1.3515 -0.1739  1.1331  4.8304 \n",
       "\n",
       "Coefficients:\n",
       "              Estimate Std. Error t value Pr(>|t|)    \n",
       "(Intercept)  7.7076934  1.1176260   6.896 2.15e-11 ***\n",
       "CompPrice    0.0939149  0.0078395  11.980  < 2e-16 ***\n",
       "Income       0.0128717  0.0034757   3.703 0.000243 ***\n",
       "Advertising  0.1308637  0.0151219   8.654  < 2e-16 ***\n",
       "Population  -0.0001239  0.0006877  -0.180 0.857092    \n",
       "Price       -0.0925226  0.0050521 -18.314  < 2e-16 ***\n",
       "Age         -0.0449743  0.0060083  -7.485 4.75e-13 ***\n",
       "Education   -0.0399844  0.0371257  -1.077 0.282142    \n",
       "---\n",
       "Signif. codes:  0 ‘***’ 0.001 ‘**’ 0.01 ‘*’ 0.05 ‘.’ 0.1 ‘ ’ 1\n",
       "\n",
       "Residual standard error: 1.929 on 392 degrees of freedom\n",
       "Multiple R-squared:  0.5417,\tAdjusted R-squared:  0.5335 \n",
       "F-statistic: 66.18 on 7 and 392 DF,  p-value: < 2.2e-16\n"
      ]
     },
     "metadata": {},
     "output_type": "display_data"
    }
   ],
   "source": [
    "fit_dt<-lm(Sales~., data=dt)\n",
    "summary(fit_dt)"
   ]
  },
  {
   "cell_type": "markdown",
   "id": "3274268f-3b7f-442a-a938-3479ff7e4879",
   "metadata": {},
   "source": [
    "$\\widehat {Sales} = 7.7076934 +  0.0939149 \\widehat {CompPrice} + 0.012871 \\widehat {Income} +0.1308637 \\widehat {Advertising} -0.0001239  \\widehat {Population} -0.0925226 \\widehat {Price} -0.0449743 \\widehat {Age} -0.0399844 \\widehat {Education}$"
   ]
  },
  {
   "cell_type": "code",
   "execution_count": 56,
   "id": "b4d4047d-d512-455c-bed0-93010ece3d92",
   "metadata": {},
   "outputs": [
    {
     "data": {
      "text/plain": [
       "\n",
       "Call:\n",
       "lm(formula = Sales ~ CompPrice + Price, data = dt)\n",
       "\n",
       "Residuals:\n",
       "    Min      1Q  Median      3Q     Max \n",
       "-5.5285 -1.6207 -0.2404  1.5269  6.2437 \n",
       "\n",
       "Coefficients:\n",
       "             Estimate Std. Error t value Pr(>|t|)    \n",
       "(Intercept)  6.278692   0.932774   6.731 5.91e-11 ***\n",
       "CompPrice    0.090777   0.009132   9.941  < 2e-16 ***\n",
       "Price       -0.087458   0.005914 -14.788  < 2e-16 ***\n",
       "---\n",
       "Signif. codes:  0 ‘***’ 0.001 ‘**’ 0.01 ‘*’ 0.05 ‘.’ 0.1 ‘ ’ 1\n",
       "\n",
       "Residual standard error: 2.269 on 397 degrees of freedom\n",
       "Multiple R-squared:  0.3578,\tAdjusted R-squared:  0.3546 \n",
       "F-statistic: 110.6 on 2 and 397 DF,  p-value: < 2.2e-16\n"
      ]
     },
     "metadata": {},
     "output_type": "display_data"
    }
   ],
   "source": [
    "fit__<-lm(Sales~CompPrice+Price, data=dt)\n",
    "summary(fit__)\n"
   ]
  },
  {
   "cell_type": "markdown",
   "id": "e8ad4b6b-c99c-434c-aa1f-d3d446f5e8a6",
   "metadata": {},
   "source": [
    "$\\widehat {Sales} = 6.278692 + 0.090777 \\widehat {CompPrice}  -0.087458 \\widehat {Price}$"
   ]
  },
  {
   "cell_type": "markdown",
   "id": "a95eb98d-2014-46e2-80cb-890f3709d588",
   "metadata": {},
   "source": [
    "## (3) "
   ]
  },
  {
   "cell_type": "markdown",
   "id": "91195def-a31d-40b8-98e5-91cf6f666a71",
   "metadata": {},
   "source": [
    "최소제곱법의 의한 회귀직선을 적합시키시키고, 모형 적합 결과를 설명하시오."
   ]
  },
  {
   "cell_type": "markdown",
   "id": "d7aa9593-3492-4ea4-8040-aab92a44cc79",
   "metadata": {},
   "source": []
  },
  {
   "cell_type": "markdown",
   "id": "65159cb4-9231-4558-825f-d0179eebf2c8",
   "metadata": {
    "tags": []
   },
   "source": [
    "## (4)"
   ]
  },
  {
   "cell_type": "markdown",
   "id": "0d7ad5c8-e75c-48ff-adc3-5cf9809f91ad",
   "metadata": {},
   "source": [
    "회귀직선의 유의성 검정을 위한 가설을 설정하고, 분산분석표를 이용하여 가설 검정을 수행하시오."
   ]
  },
  {
   "cell_type": "markdown",
   "id": "7ce2f5af-e491-4ff8-a2c6-7424fb40cdeb",
   "metadata": {},
   "source": [
    "$H_0:\\beta_0=\\dots=\\beta_7=0$ vs. $H_1:not H_0$"
   ]
  },
  {
   "cell_type": "code",
   "execution_count": 58,
   "id": "fd96e4ad-eb64-4eb4-93e8-ddd60190ceed",
   "metadata": {},
   "outputs": [
    {
     "data": {
      "text/html": [
       "<table class=\"dataframe\">\n",
       "<caption>A anova: 8 × 5</caption>\n",
       "<thead>\n",
       "\t<tr><th></th><th scope=col>Df</th><th scope=col>Sum Sq</th><th scope=col>Mean Sq</th><th scope=col>F value</th><th scope=col>Pr(&gt;F)</th></tr>\n",
       "\t<tr><th></th><th scope=col>&lt;int&gt;</th><th scope=col>&lt;dbl&gt;</th><th scope=col>&lt;dbl&gt;</th><th scope=col>&lt;dbl&gt;</th><th scope=col>&lt;dbl&gt;</th></tr>\n",
       "</thead>\n",
       "<tbody>\n",
       "\t<tr><th scope=row>CompPrice</th><td>  1</td><td>  13.0666859</td><td>  13.0666859</td><td>  3.5117751</td><td>6.167778e-02</td></tr>\n",
       "\t<tr><th scope=row>Income</th><td>  1</td><td>  79.0733616</td><td>  79.0733616</td><td> 21.2515906</td><td>5.458487e-06</td></tr>\n",
       "\t<tr><th scope=row>Advertising</th><td>  1</td><td> 219.3512681</td><td> 219.3512681</td><td> 58.9523862</td><td>1.300900e-13</td></tr>\n",
       "\t<tr><th scope=row>Population</th><td>  1</td><td>   0.3824026</td><td>   0.3824026</td><td>  0.1027737</td><td>7.486970e-01</td></tr>\n",
       "\t<tr><th scope=row>Price</th><td>  1</td><td>1198.8668836</td><td>1198.8668836</td><td>322.2049460</td><td>5.144277e-53</td></tr>\n",
       "\t<tr><th scope=row>Age</th><td>  1</td><td> 208.6564283</td><td> 208.6564283</td><td> 56.0780635</td><td>4.652175e-13</td></tr>\n",
       "\t<tr><th scope=row>Education</th><td>  1</td><td>   4.3158913</td><td>   4.3158913</td><td>  1.1599299</td><td>2.821424e-01</td></tr>\n",
       "\t<tr><th scope=row>Residuals</th><td>392</td><td>1458.5617763</td><td>   3.7208209</td><td>         NA</td><td>          NA</td></tr>\n",
       "</tbody>\n",
       "</table>\n"
      ],
      "text/latex": [
       "A anova: 8 × 5\n",
       "\\begin{tabular}{r|lllll}\n",
       "  & Df & Sum Sq & Mean Sq & F value & Pr(>F)\\\\\n",
       "  & <int> & <dbl> & <dbl> & <dbl> & <dbl>\\\\\n",
       "\\hline\n",
       "\tCompPrice &   1 &   13.0666859 &   13.0666859 &   3.5117751 & 6.167778e-02\\\\\n",
       "\tIncome &   1 &   79.0733616 &   79.0733616 &  21.2515906 & 5.458487e-06\\\\\n",
       "\tAdvertising &   1 &  219.3512681 &  219.3512681 &  58.9523862 & 1.300900e-13\\\\\n",
       "\tPopulation &   1 &    0.3824026 &    0.3824026 &   0.1027737 & 7.486970e-01\\\\\n",
       "\tPrice &   1 & 1198.8668836 & 1198.8668836 & 322.2049460 & 5.144277e-53\\\\\n",
       "\tAge &   1 &  208.6564283 &  208.6564283 &  56.0780635 & 4.652175e-13\\\\\n",
       "\tEducation &   1 &    4.3158913 &    4.3158913 &   1.1599299 & 2.821424e-01\\\\\n",
       "\tResiduals & 392 & 1458.5617763 &    3.7208209 &          NA &           NA\\\\\n",
       "\\end{tabular}\n"
      ],
      "text/markdown": [
       "\n",
       "A anova: 8 × 5\n",
       "\n",
       "| <!--/--> | Df &lt;int&gt; | Sum Sq &lt;dbl&gt; | Mean Sq &lt;dbl&gt; | F value &lt;dbl&gt; | Pr(&gt;F) &lt;dbl&gt; |\n",
       "|---|---|---|---|---|---|\n",
       "| CompPrice |   1 |   13.0666859 |   13.0666859 |   3.5117751 | 6.167778e-02 |\n",
       "| Income |   1 |   79.0733616 |   79.0733616 |  21.2515906 | 5.458487e-06 |\n",
       "| Advertising |   1 |  219.3512681 |  219.3512681 |  58.9523862 | 1.300900e-13 |\n",
       "| Population |   1 |    0.3824026 |    0.3824026 |   0.1027737 | 7.486970e-01 |\n",
       "| Price |   1 | 1198.8668836 | 1198.8668836 | 322.2049460 | 5.144277e-53 |\n",
       "| Age |   1 |  208.6564283 |  208.6564283 |  56.0780635 | 4.652175e-13 |\n",
       "| Education |   1 |    4.3158913 |    4.3158913 |   1.1599299 | 2.821424e-01 |\n",
       "| Residuals | 392 | 1458.5617763 |    3.7208209 |          NA |           NA |\n",
       "\n"
      ],
      "text/plain": [
       "            Df  Sum Sq       Mean Sq      F value     Pr(>F)      \n",
       "CompPrice     1   13.0666859   13.0666859   3.5117751 6.167778e-02\n",
       "Income        1   79.0733616   79.0733616  21.2515906 5.458487e-06\n",
       "Advertising   1  219.3512681  219.3512681  58.9523862 1.300900e-13\n",
       "Population    1    0.3824026    0.3824026   0.1027737 7.486970e-01\n",
       "Price         1 1198.8668836 1198.8668836 322.2049460 5.144277e-53\n",
       "Age           1  208.6564283  208.6564283  56.0780635 4.652175e-13\n",
       "Education     1    4.3158913    4.3158913   1.1599299 2.821424e-01\n",
       "Residuals   392 1458.5617763    3.7208209          NA           NA"
      ]
     },
     "metadata": {},
     "output_type": "display_data"
    }
   ],
   "source": [
    "anova(fit_dt)"
   ]
  },
  {
   "cell_type": "code",
   "execution_count": 72,
   "id": "d941cfda-c7b0-47c0-b008-1f162c2e6874",
   "metadata": {},
   "outputs": [
    {
     "data": {
      "text/html": [
       "<table class=\"dataframe\">\n",
       "<caption>A anova: 2 × 6</caption>\n",
       "<thead>\n",
       "\t<tr><th></th><th scope=col>Res.Df</th><th scope=col>RSS</th><th scope=col>Df</th><th scope=col>Sum of Sq</th><th scope=col>F</th><th scope=col>Pr(&gt;F)</th></tr>\n",
       "\t<tr><th></th><th scope=col>&lt;dbl&gt;</th><th scope=col>&lt;dbl&gt;</th><th scope=col>&lt;dbl&gt;</th><th scope=col>&lt;dbl&gt;</th><th scope=col>&lt;dbl&gt;</th><th scope=col>&lt;dbl&gt;</th></tr>\n",
       "</thead>\n",
       "<tbody>\n",
       "\t<tr><th scope=row>1</th><td>399</td><td>3182.275</td><td>NA</td><td>      NA</td><td>      NA</td><td>          NA</td></tr>\n",
       "\t<tr><th scope=row>2</th><td>392</td><td>1458.562</td><td> 7</td><td>1723.713</td><td>66.18021</td><td>1.413772e-62</td></tr>\n",
       "</tbody>\n",
       "</table>\n"
      ],
      "text/latex": [
       "A anova: 2 × 6\n",
       "\\begin{tabular}{r|llllll}\n",
       "  & Res.Df & RSS & Df & Sum of Sq & F & Pr(>F)\\\\\n",
       "  & <dbl> & <dbl> & <dbl> & <dbl> & <dbl> & <dbl>\\\\\n",
       "\\hline\n",
       "\t1 & 399 & 3182.275 & NA &       NA &       NA &           NA\\\\\n",
       "\t2 & 392 & 1458.562 &  7 & 1723.713 & 66.18021 & 1.413772e-62\\\\\n",
       "\\end{tabular}\n"
      ],
      "text/markdown": [
       "\n",
       "A anova: 2 × 6\n",
       "\n",
       "| <!--/--> | Res.Df &lt;dbl&gt; | RSS &lt;dbl&gt; | Df &lt;dbl&gt; | Sum of Sq &lt;dbl&gt; | F &lt;dbl&gt; | Pr(&gt;F) &lt;dbl&gt; |\n",
       "|---|---|---|---|---|---|---|\n",
       "| 1 | 399 | 3182.275 | NA |       NA |       NA |           NA |\n",
       "| 2 | 392 | 1458.562 |  7 | 1723.713 | 66.18021 | 1.413772e-62 |\n",
       "\n"
      ],
      "text/plain": [
       "  Res.Df RSS      Df Sum of Sq F        Pr(>F)      \n",
       "1 399    3182.275 NA       NA        NA           NA\n",
       "2 392    1458.562  7 1723.713  66.18021 1.413772e-62"
      ]
     },
     "metadata": {},
     "output_type": "display_data"
    }
   ],
   "source": [
    "null_model <- lm(Sales~1, data=dt)  \n",
    "fit_dt <- lm(Sales~., data=dt) \n",
    "\n",
    "anova(null_model, fit_dt) "
   ]
  },
  {
   "cell_type": "markdown",
   "id": "65d8bf63-f6d5-4df5-9086-2a0fa145e95b",
   "metadata": {},
   "source": [
    "- 회귀직선은 유의하다."
   ]
  },
  {
   "cell_type": "code",
   "execution_count": 73,
   "id": "5c830f99-b264-4b6c-961e-e09e14d45d9c",
   "metadata": {},
   "outputs": [
    {
     "data": {
      "text/html": [
       "66.1802021443038"
      ],
      "text/latex": [
       "66.1802021443038"
      ],
      "text/markdown": [
       "66.1802021443038"
      ],
      "text/plain": [
       "[1] 66.1802"
      ]
     },
     "metadata": {},
     "output_type": "display_data"
    }
   ],
   "source": [
    "(1723.713/7)/(1458.562/392)"
   ]
  },
  {
   "cell_type": "markdown",
   "id": "3bac9668-234e-4c17-ba3c-4f87e8c3b9a2",
   "metadata": {},
   "source": [
    "## (5)"
   ]
  },
  {
   "cell_type": "markdown",
   "id": "4b23910d-01e0-4e7c-857d-c3e1849a94d8",
   "metadata": {},
   "source": [
    "오차의 분산에 대한 추정량을 구하시오."
   ]
  },
  {
   "cell_type": "markdown",
   "id": "f1eede3c-d875-4aaf-a074-f0ee9ff3e26d",
   "metadata": {},
   "source": [
    "### matrix"
   ]
  },
  {
   "cell_type": "code",
   "execution_count": 20,
   "id": "a79c1675-f5cd-4394-929f-50f72d2ac738",
   "metadata": {},
   "outputs": [],
   "source": [
    "n = nrow(dt)\n",
    "X = cbind(rep(1,n), dt$CompPrice, dt$Income, dt$Advertising, dt$Population, dt$Price, dt$Age, dt$Education)\n",
    "y = dt$Sales"
   ]
  },
  {
   "cell_type": "code",
   "execution_count": 23,
   "id": "03d7ad01-a2db-49e5-8071-93eeedb0a9f5",
   "metadata": {},
   "outputs": [
    {
     "data": {
      "text/html": [
       "<table class=\"dataframe\">\n",
       "<caption>A matrix: 8 × 1 of type dbl</caption>\n",
       "<tbody>\n",
       "\t<tr><td> 7.7076934384</td></tr>\n",
       "\t<tr><td> 0.0939149066</td></tr>\n",
       "\t<tr><td> 0.0128717129</td></tr>\n",
       "\t<tr><td> 0.1308636707</td></tr>\n",
       "\t<tr><td>-0.0001239252</td></tr>\n",
       "\t<tr><td>-0.0925226099</td></tr>\n",
       "\t<tr><td>-0.0449743402</td></tr>\n",
       "\t<tr><td>-0.0399844437</td></tr>\n",
       "</tbody>\n",
       "</table>\n"
      ],
      "text/latex": [
       "A matrix: 8 × 1 of type dbl\n",
       "\\begin{tabular}{l}\n",
       "\t  7.7076934384\\\\\n",
       "\t  0.0939149066\\\\\n",
       "\t  0.0128717129\\\\\n",
       "\t  0.1308636707\\\\\n",
       "\t -0.0001239252\\\\\n",
       "\t -0.0925226099\\\\\n",
       "\t -0.0449743402\\\\\n",
       "\t -0.0399844437\\\\\n",
       "\\end{tabular}\n"
      ],
      "text/markdown": [
       "\n",
       "A matrix: 8 × 1 of type dbl\n",
       "\n",
       "|  7.7076934384 |\n",
       "|  0.0939149066 |\n",
       "|  0.0128717129 |\n",
       "|  0.1308636707 |\n",
       "| -0.0001239252 |\n",
       "| -0.0925226099 |\n",
       "| -0.0449743402 |\n",
       "| -0.0399844437 |\n",
       "\n"
      ],
      "text/plain": [
       "     [,1]         \n",
       "[1,]  7.7076934384\n",
       "[2,]  0.0939149066\n",
       "[3,]  0.0128717129\n",
       "[4,]  0.1308636707\n",
       "[5,] -0.0001239252\n",
       "[6,] -0.0925226099\n",
       "[7,] -0.0449743402\n",
       "[8,] -0.0399844437"
      ]
     },
     "metadata": {},
     "output_type": "display_data"
    },
    {
     "data": {
      "text/html": [
       "<style>\n",
       ".dl-inline {width: auto; margin:0; padding: 0}\n",
       ".dl-inline>dt, .dl-inline>dd {float: none; width: auto; display: inline-block}\n",
       ".dl-inline>dt::after {content: \":\\0020\"; padding-right: .5ex}\n",
       ".dl-inline>dt:not(:first-of-type) {padding-left: .5ex}\n",
       "</style><dl class=dl-inline><dt>(Intercept)</dt><dd>7.70769343844283</dd><dt>CompPrice</dt><dd>0.0939149066067561</dd><dt>Income</dt><dd>0.0128717128971186</dd><dt>Advertising</dt><dd>0.130863670692396</dd><dt>Population</dt><dd>-0.000123925156795604</dd><dt>Price</dt><dd>-0.0925226098938757</dd><dt>Age</dt><dd>-0.0449743402082049</dd><dt>Education</dt><dd>-0.0399844437382063</dd></dl>\n"
      ],
      "text/latex": [
       "\\begin{description*}\n",
       "\\item[(Intercept)] 7.70769343844283\n",
       "\\item[CompPrice] 0.0939149066067561\n",
       "\\item[Income] 0.0128717128971186\n",
       "\\item[Advertising] 0.130863670692396\n",
       "\\item[Population] -0.000123925156795604\n",
       "\\item[Price] -0.0925226098938757\n",
       "\\item[Age] -0.0449743402082049\n",
       "\\item[Education] -0.0399844437382063\n",
       "\\end{description*}\n"
      ],
      "text/markdown": [
       "(Intercept)\n",
       ":   7.70769343844283CompPrice\n",
       ":   0.0939149066067561Income\n",
       ":   0.0128717128971186Advertising\n",
       ":   0.130863670692396Population\n",
       ":   -0.000123925156795604Price\n",
       ":   -0.0925226098938757Age\n",
       ":   -0.0449743402082049Education\n",
       ":   -0.0399844437382063\n",
       "\n"
      ],
      "text/plain": [
       "  (Intercept)     CompPrice        Income   Advertising    Population \n",
       " 7.7076934384  0.0939149066  0.0128717129  0.1308636707 -0.0001239252 \n",
       "        Price           Age     Education \n",
       "-0.0925226099 -0.0449743402 -0.0399844437 "
      ]
     },
     "metadata": {},
     "output_type": "display_data"
    }
   ],
   "source": [
    "beta_hat = solve(t(X)%*%X) %*% t(X) %*% y   # t(X): X^T를 의미함 \n",
    "beta_hat\n",
    "coef(fit_dt)"
   ]
  },
  {
   "cell_type": "code",
   "execution_count": 24,
   "id": "43f65c00-10c2-47a8-bd66-31d3bf5d2740",
   "metadata": {},
   "outputs": [
    {
     "data": {
      "text/html": [
       "<style>\n",
       ".list-inline {list-style: none; margin:0; padding: 0}\n",
       ".list-inline>li {display: inline-block}\n",
       ".list-inline>li:not(:last-child)::after {content: \"\\00b7\"; padding: 0 .5ex}\n",
       "</style>\n",
       "<ol class=list-inline><li>9.3415116064463</li><li>9.80913530905876</li><li>9.51078048749865</li><li>8.44055027735586</li><li>8.05222459125309</li></ol>\n"
      ],
      "text/latex": [
       "\\begin{enumerate*}\n",
       "\\item 9.3415116064463\n",
       "\\item 9.80913530905876\n",
       "\\item 9.51078048749865\n",
       "\\item 8.44055027735586\n",
       "\\item 8.05222459125309\n",
       "\\end{enumerate*}\n"
      ],
      "text/markdown": [
       "1. 9.3415116064463\n",
       "2. 9.80913530905876\n",
       "3. 9.51078048749865\n",
       "4. 8.44055027735586\n",
       "5. 8.05222459125309\n",
       "\n",
       "\n"
      ],
      "text/plain": [
       "[1] 9.341512 9.809135 9.510780 8.440550 8.052225"
      ]
     },
     "metadata": {},
     "output_type": "display_data"
    },
    {
     "data": {
      "text/html": [
       "<style>\n",
       ".dl-inline {width: auto; margin:0; padding: 0}\n",
       ".dl-inline>dt, .dl-inline>dd {float: none; width: auto; display: inline-block}\n",
       ".dl-inline>dt::after {content: \":\\0020\"; padding-right: .5ex}\n",
       ".dl-inline>dt:not(:first-of-type) {padding-left: .5ex}\n",
       "</style><dl class=dl-inline><dt>1</dt><dd>9.34151160644671</dd><dt>2</dt><dd>9.80913530905893</dd><dt>3</dt><dd>9.51078048749877</dd><dt>4</dt><dd>8.44055027735589</dd><dt>5</dt><dd>8.05222459125317</dd></dl>\n"
      ],
      "text/latex": [
       "\\begin{description*}\n",
       "\\item[1] 9.34151160644671\n",
       "\\item[2] 9.80913530905893\n",
       "\\item[3] 9.51078048749877\n",
       "\\item[4] 8.44055027735589\n",
       "\\item[5] 8.05222459125317\n",
       "\\end{description*}\n"
      ],
      "text/markdown": [
       "1\n",
       ":   9.341511606446712\n",
       ":   9.809135309058933\n",
       ":   9.510780487498774\n",
       ":   8.440550277355895\n",
       ":   8.05222459125317\n",
       "\n"
      ],
      "text/plain": [
       "       1        2        3        4        5 \n",
       "9.341512 9.809135 9.510780 8.440550 8.052225 "
      ]
     },
     "metadata": {},
     "output_type": "display_data"
    }
   ],
   "source": [
    "y_hat = X %*% beta_hat\n",
    "y_hat[1:5]\n",
    "fitted(fit_dt)[1:5]"
   ]
  },
  {
   "cell_type": "code",
   "execution_count": 74,
   "id": "d66a0f77-2bad-4870-b88d-9ad9b4be693a",
   "metadata": {},
   "outputs": [
    {
     "data": {
      "text/html": [
       "1.92894293798154"
      ],
      "text/latex": [
       "1.92894293798154"
      ],
      "text/markdown": [
       "1.92894293798154"
      ],
      "text/plain": [
       "[1] 1.928943"
      ]
     },
     "metadata": {},
     "output_type": "display_data"
    },
    {
     "data": {
      "text/html": [
       "1.92894293798154"
      ],
      "text/latex": [
       "1.92894293798154"
      ],
      "text/markdown": [
       "1.92894293798154"
      ],
      "text/plain": [
       "[1] 1.928943"
      ]
     },
     "metadata": {},
     "output_type": "display_data"
    }
   ],
   "source": [
    "sse <- sum((y - y_hat)^2) ##SSE\n",
    "sqrt(sse/(n-7-1)) ##RMSE\n",
    "summary(fit_dt)$sigma"
   ]
  },
  {
   "cell_type": "code",
   "execution_count": 80,
   "id": "16ff3fee-7685-43ed-bca7-d19257f896e0",
   "metadata": {},
   "outputs": [
    {
     "data": {
      "text/html": [
       "3.72082085798886"
      ],
      "text/latex": [
       "3.72082085798886"
      ],
      "text/markdown": [
       "3.72082085798886"
      ],
      "text/plain": [
       "[1] 3.720821"
      ]
     },
     "metadata": {},
     "output_type": "display_data"
    }
   ],
   "source": [
    "mse <- sse/(n-7-1)\n",
    "mse"
   ]
  },
  {
   "cell_type": "markdown",
   "id": "369b78c3-fc0c-4f57-94f4-8f10e46da8de",
   "metadata": {},
   "source": [
    "## (6)"
   ]
  },
  {
   "cell_type": "code",
   "execution_count": null,
   "id": "20140205-687e-474a-b09e-efce16b63380",
   "metadata": {},
   "outputs": [],
   "source": []
  },
  {
   "cell_type": "markdown",
   "id": "a761773a-9016-4713-ac1a-7d4489d1f1e1",
   "metadata": {},
   "source": [
    "결정계수와 수정된 결정계수를 구하시오."
   ]
  },
  {
   "cell_type": "code",
   "execution_count": 26,
   "id": "dac3167f-e263-403c-8bc7-8e89fe72e2cd",
   "metadata": {},
   "outputs": [
    {
     "data": {
      "text/plain": [
       "\n",
       "Call:\n",
       "lm(formula = Sales ~ ., data = dt)\n",
       "\n",
       "Residuals:\n",
       "    Min      1Q  Median      3Q     Max \n",
       "-5.0598 -1.3515 -0.1739  1.1331  4.8304 \n",
       "\n",
       "Coefficients:\n",
       "              Estimate Std. Error t value Pr(>|t|)    \n",
       "(Intercept)  7.7076934  1.1176260   6.896 2.15e-11 ***\n",
       "CompPrice    0.0939149  0.0078395  11.980  < 2e-16 ***\n",
       "Income       0.0128717  0.0034757   3.703 0.000243 ***\n",
       "Advertising  0.1308637  0.0151219   8.654  < 2e-16 ***\n",
       "Population  -0.0001239  0.0006877  -0.180 0.857092    \n",
       "Price       -0.0925226  0.0050521 -18.314  < 2e-16 ***\n",
       "Age         -0.0449743  0.0060083  -7.485 4.75e-13 ***\n",
       "Education   -0.0399844  0.0371257  -1.077 0.282142    \n",
       "---\n",
       "Signif. codes:  0 ‘***’ 0.001 ‘**’ 0.01 ‘*’ 0.05 ‘.’ 0.1 ‘ ’ 1\n",
       "\n",
       "Residual standard error: 1.929 on 392 degrees of freedom\n",
       "Multiple R-squared:  0.5417,\tAdjusted R-squared:  0.5335 \n",
       "F-statistic: 66.18 on 7 and 392 DF,  p-value: < 2.2e-16\n"
      ]
     },
     "metadata": {},
     "output_type": "display_data"
    }
   ],
   "source": [
    "summary(fit_dt)"
   ]
  },
  {
   "cell_type": "code",
   "execution_count": null,
   "id": "c0ed5cea-ca05-4310-a7f2-8f92a69ab28a",
   "metadata": {},
   "outputs": [],
   "source": []
  },
  {
   "cell_type": "markdown",
   "id": "89ea7d10-97f1-4759-bb04-827e20d14211",
   "metadata": {},
   "source": [
    "- $R^2:0.5417, R^2_{adj}: 0.5335$"
   ]
  },
  {
   "cell_type": "markdown",
   "id": "21533b43-7011-4a8c-b14b-985a1f396c67",
   "metadata": {},
   "source": [
    "## (7)"
   ]
  },
  {
   "cell_type": "markdown",
   "id": "ae09ac2d-d73e-42b6-8bbf-17a96c799ae9",
   "metadata": {},
   "source": [
    "개별 회귀계수의 유의성검정을 수행하시오."
   ]
  },
  {
   "cell_type": "code",
   "execution_count": 28,
   "id": "360d017a-d61a-41d2-bc0b-33903c030961",
   "metadata": {},
   "outputs": [
    {
     "data": {
      "text/html": [
       "<table class=\"dataframe\">\n",
       "<caption>A matrix: 8 × 4 of type dbl</caption>\n",
       "<thead>\n",
       "\t<tr><th></th><th scope=col>Estimate</th><th scope=col>Std. Error</th><th scope=col>t value</th><th scope=col>Pr(&gt;|t|)</th></tr>\n",
       "</thead>\n",
       "<tbody>\n",
       "\t<tr><th scope=row>(Intercept)</th><td> 7.7076934384</td><td>1.1176259965</td><td>  6.8964873</td><td>2.145154e-11</td></tr>\n",
       "\t<tr><th scope=row>CompPrice</th><td> 0.0939149066</td><td>0.0078395225</td><td> 11.9796718</td><td>2.153866e-28</td></tr>\n",
       "\t<tr><th scope=row>Income</th><td> 0.0128717129</td><td>0.0034756701</td><td>  3.7033759</td><td>2.432641e-04</td></tr>\n",
       "\t<tr><th scope=row>Advertising</th><td> 0.1308636707</td><td>0.0151219066</td><td>  8.6539134</td><td>1.302560e-16</td></tr>\n",
       "\t<tr><th scope=row>Population</th><td>-0.0001239252</td><td>0.0006877272</td><td> -0.1801952</td><td>8.570924e-01</td></tr>\n",
       "\t<tr><th scope=row>Price</th><td>-0.0925226099</td><td>0.0050520870</td><td>-18.3137403</td><td>1.409811e-54</td></tr>\n",
       "\t<tr><th scope=row>Age</th><td>-0.0449743402</td><td>0.0060082977</td><td> -7.4853715</td><td>4.751078e-13</td></tr>\n",
       "\t<tr><th scope=row>Education</th><td>-0.0399844437</td><td>0.0371257460</td><td> -1.0770004</td><td>2.821424e-01</td></tr>\n",
       "</tbody>\n",
       "</table>\n"
      ],
      "text/latex": [
       "A matrix: 8 × 4 of type dbl\n",
       "\\begin{tabular}{r|llll}\n",
       "  & Estimate & Std. Error & t value & Pr(>\\textbar{}t\\textbar{})\\\\\n",
       "\\hline\n",
       "\t(Intercept) &  7.7076934384 & 1.1176259965 &   6.8964873 & 2.145154e-11\\\\\n",
       "\tCompPrice &  0.0939149066 & 0.0078395225 &  11.9796718 & 2.153866e-28\\\\\n",
       "\tIncome &  0.0128717129 & 0.0034756701 &   3.7033759 & 2.432641e-04\\\\\n",
       "\tAdvertising &  0.1308636707 & 0.0151219066 &   8.6539134 & 1.302560e-16\\\\\n",
       "\tPopulation & -0.0001239252 & 0.0006877272 &  -0.1801952 & 8.570924e-01\\\\\n",
       "\tPrice & -0.0925226099 & 0.0050520870 & -18.3137403 & 1.409811e-54\\\\\n",
       "\tAge & -0.0449743402 & 0.0060082977 &  -7.4853715 & 4.751078e-13\\\\\n",
       "\tEducation & -0.0399844437 & 0.0371257460 &  -1.0770004 & 2.821424e-01\\\\\n",
       "\\end{tabular}\n"
      ],
      "text/markdown": [
       "\n",
       "A matrix: 8 × 4 of type dbl\n",
       "\n",
       "| <!--/--> | Estimate | Std. Error | t value | Pr(&gt;|t|) |\n",
       "|---|---|---|---|---|\n",
       "| (Intercept) |  7.7076934384 | 1.1176259965 |   6.8964873 | 2.145154e-11 |\n",
       "| CompPrice |  0.0939149066 | 0.0078395225 |  11.9796718 | 2.153866e-28 |\n",
       "| Income |  0.0128717129 | 0.0034756701 |   3.7033759 | 2.432641e-04 |\n",
       "| Advertising |  0.1308636707 | 0.0151219066 |   8.6539134 | 1.302560e-16 |\n",
       "| Population | -0.0001239252 | 0.0006877272 |  -0.1801952 | 8.570924e-01 |\n",
       "| Price | -0.0925226099 | 0.0050520870 | -18.3137403 | 1.409811e-54 |\n",
       "| Age | -0.0449743402 | 0.0060082977 |  -7.4853715 | 4.751078e-13 |\n",
       "| Education | -0.0399844437 | 0.0371257460 |  -1.0770004 | 2.821424e-01 |\n",
       "\n"
      ],
      "text/plain": [
       "            Estimate      Std. Error   t value     Pr(>|t|)    \n",
       "(Intercept)  7.7076934384 1.1176259965   6.8964873 2.145154e-11\n",
       "CompPrice    0.0939149066 0.0078395225  11.9796718 2.153866e-28\n",
       "Income       0.0128717129 0.0034756701   3.7033759 2.432641e-04\n",
       "Advertising  0.1308636707 0.0151219066   8.6539134 1.302560e-16\n",
       "Population  -0.0001239252 0.0006877272  -0.1801952 8.570924e-01\n",
       "Price       -0.0925226099 0.0050520870 -18.3137403 1.409811e-54\n",
       "Age         -0.0449743402 0.0060082977  -7.4853715 4.751078e-13\n",
       "Education   -0.0399844437 0.0371257460  -1.0770004 2.821424e-01"
      ]
     },
     "metadata": {},
     "output_type": "display_data"
    }
   ],
   "source": [
    "summary(fit_dt)$coef"
   ]
  },
  {
   "cell_type": "markdown",
   "id": "0ba18468-ea76-4819-8ede-c8c1b1aee5a3",
   "metadata": {},
   "source": [
    "## (8)"
   ]
  },
  {
   "cell_type": "markdown",
   "id": "511c68af-65a3-4255-8b8d-38e7cb7ba237",
   "metadata": {},
   "source": [
    "회귀계수에 대한 90% 신뢰구간을 구하시오."
   ]
  },
  {
   "cell_type": "code",
   "execution_count": 61,
   "id": "248495d9-cc69-46ed-95c9-39e4814cdbbb",
   "metadata": {},
   "outputs": [
    {
     "data": {
      "text/html": [
       "<table class=\"dataframe\">\n",
       "<caption>A matrix: 8 × 2 of type dbl</caption>\n",
       "<thead>\n",
       "\t<tr><th></th><th scope=col>5 %</th><th scope=col>95 %</th></tr>\n",
       "</thead>\n",
       "<tbody>\n",
       "\t<tr><th scope=row>(Intercept)</th><td> 5.865007519</td><td> 9.550379358</td></tr>\n",
       "\t<tr><th scope=row>CompPrice</th><td> 0.080989493</td><td> 0.106840320</td></tr>\n",
       "\t<tr><th scope=row>Income</th><td> 0.007141202</td><td> 0.018602224</td></tr>\n",
       "\t<tr><th scope=row>Advertising</th><td> 0.105931426</td><td> 0.155795915</td></tr>\n",
       "\t<tr><th scope=row>Population</th><td>-0.001257815</td><td> 0.001009965</td></tr>\n",
       "\t<tr><th scope=row>Price</th><td>-0.100852239</td><td>-0.084192981</td></tr>\n",
       "\t<tr><th scope=row>Age</th><td>-0.054880521</td><td>-0.035068159</td></tr>\n",
       "\t<tr><th scope=row>Education</th><td>-0.101195519</td><td> 0.021226632</td></tr>\n",
       "</tbody>\n",
       "</table>\n"
      ],
      "text/latex": [
       "A matrix: 8 × 2 of type dbl\n",
       "\\begin{tabular}{r|ll}\n",
       "  & 5 \\% & 95 \\%\\\\\n",
       "\\hline\n",
       "\t(Intercept) &  5.865007519 &  9.550379358\\\\\n",
       "\tCompPrice &  0.080989493 &  0.106840320\\\\\n",
       "\tIncome &  0.007141202 &  0.018602224\\\\\n",
       "\tAdvertising &  0.105931426 &  0.155795915\\\\\n",
       "\tPopulation & -0.001257815 &  0.001009965\\\\\n",
       "\tPrice & -0.100852239 & -0.084192981\\\\\n",
       "\tAge & -0.054880521 & -0.035068159\\\\\n",
       "\tEducation & -0.101195519 &  0.021226632\\\\\n",
       "\\end{tabular}\n"
      ],
      "text/markdown": [
       "\n",
       "A matrix: 8 × 2 of type dbl\n",
       "\n",
       "| <!--/--> | 5 % | 95 % |\n",
       "|---|---|---|\n",
       "| (Intercept) |  5.865007519 |  9.550379358 |\n",
       "| CompPrice |  0.080989493 |  0.106840320 |\n",
       "| Income |  0.007141202 |  0.018602224 |\n",
       "| Advertising |  0.105931426 |  0.155795915 |\n",
       "| Population | -0.001257815 |  0.001009965 |\n",
       "| Price | -0.100852239 | -0.084192981 |\n",
       "| Age | -0.054880521 | -0.035068159 |\n",
       "| Education | -0.101195519 |  0.021226632 |\n",
       "\n"
      ],
      "text/plain": [
       "            5 %          95 %        \n",
       "(Intercept)  5.865007519  9.550379358\n",
       "CompPrice    0.080989493  0.106840320\n",
       "Income       0.007141202  0.018602224\n",
       "Advertising  0.105931426  0.155795915\n",
       "Population  -0.001257815  0.001009965\n",
       "Price       -0.100852239 -0.084192981\n",
       "Age         -0.054880521 -0.035068159\n",
       "Education   -0.101195519  0.021226632"
      ]
     },
     "metadata": {},
     "output_type": "display_data"
    }
   ],
   "source": [
    "confint(fit_dt, level = 0.90)"
   ]
  },
  {
   "cell_type": "markdown",
   "id": "a589ebcc-2e40-4c95-8155-d485aa9da33c",
   "metadata": {},
   "source": [
    "## (9)"
   ]
  },
  {
   "cell_type": "markdown",
   "id": "11bfc4f7-b8a3-4816-ba85-37d573a462a9",
   "metadata": {},
   "source": [
    "CompPrice = 100, Income = 70, Advertising = 20, Population = 300, Price = 80, Education = 12인 지역에 위치한 매장의 평균 판매액을 예측하고, 95% 신뢰구간을 구하시오."
   ]
  },
  {
   "cell_type": "code",
   "execution_count": 63,
   "id": "23fb8d75-1700-4562-aa56-c720ba8d7182",
   "metadata": {},
   "outputs": [],
   "source": [
    "new_dt <- data.frame(CompPrice=100, Income=70, Advertising=20, Population=300, Price=80, Age=53, Education=12)"
   ]
  },
  {
   "cell_type": "code",
   "execution_count": 64,
   "id": "c1f277be-9e3c-4cfb-84a8-42ac5b3cea77",
   "metadata": {},
   "outputs": [
    {
     "data": {
      "text/html": [
       "<table class=\"dataframe\">\n",
       "<caption>A matrix: 1 × 3 of type dbl</caption>\n",
       "<thead>\n",
       "\t<tr><th></th><th scope=col>fit</th><th scope=col>lwr</th><th scope=col>upr</th></tr>\n",
       "</thead>\n",
       "<tbody>\n",
       "\t<tr><th scope=row>1</th><td>10.31504</td><td>9.746147</td><td>10.88393</td></tr>\n",
       "</tbody>\n",
       "</table>\n"
      ],
      "text/latex": [
       "A matrix: 1 × 3 of type dbl\n",
       "\\begin{tabular}{r|lll}\n",
       "  & fit & lwr & upr\\\\\n",
       "\\hline\n",
       "\t1 & 10.31504 & 9.746147 & 10.88393\\\\\n",
       "\\end{tabular}\n"
      ],
      "text/markdown": [
       "\n",
       "A matrix: 1 × 3 of type dbl\n",
       "\n",
       "| <!--/--> | fit | lwr | upr |\n",
       "|---|---|---|---|\n",
       "| 1 | 10.31504 | 9.746147 | 10.88393 |\n",
       "\n"
      ],
      "text/plain": [
       "  fit      lwr      upr     \n",
       "1 10.31504 9.746147 10.88393"
      ]
     },
     "metadata": {},
     "output_type": "display_data"
    }
   ],
   "source": [
    "predict(fit_dt, \n",
    "        newdata = new_dt,\n",
    "        interval = c(\"confidence\"), \n",
    "        level = 0.95)  ##평균반응"
   ]
  },
  {
   "cell_type": "markdown",
   "id": "e559168b-3c24-4c4a-98ea-9c8fffa114f9",
   "metadata": {},
   "source": [
    "- 문제에서 Age에 대한 값이 명시되지 않아서.. 일단 age는 평균 값 넣어서 계산함"
   ]
  },
  {
   "cell_type": "markdown",
   "id": "1b1ba649-5c73-4d2c-964b-f9ed0b004466",
   "metadata": {},
   "source": [
    "## (10)"
   ]
  },
  {
   "cell_type": "markdown",
   "id": "0e89cdcd-60f3-4daf-becf-836979ba5acf",
   "metadata": {},
   "source": [
    "위 매장에 대하여 개별 판매액 예측하고, 95% 신뢰구간을 구하시오."
   ]
  },
  {
   "cell_type": "code",
   "execution_count": 65,
   "id": "aa505c81-18ef-4775-b2f9-3e28d5f026c8",
   "metadata": {},
   "outputs": [
    {
     "data": {
      "text/html": [
       "<table class=\"dataframe\">\n",
       "<caption>A matrix: 1 × 3 of type dbl</caption>\n",
       "<thead>\n",
       "\t<tr><th></th><th scope=col>fit</th><th scope=col>lwr</th><th scope=col>upr</th></tr>\n",
       "</thead>\n",
       "<tbody>\n",
       "\t<tr><th scope=row>1</th><td>10.31504</td><td>6.480238</td><td>14.14984</td></tr>\n",
       "</tbody>\n",
       "</table>\n"
      ],
      "text/latex": [
       "A matrix: 1 × 3 of type dbl\n",
       "\\begin{tabular}{r|lll}\n",
       "  & fit & lwr & upr\\\\\n",
       "\\hline\n",
       "\t1 & 10.31504 & 6.480238 & 14.14984\\\\\n",
       "\\end{tabular}\n"
      ],
      "text/markdown": [
       "\n",
       "A matrix: 1 × 3 of type dbl\n",
       "\n",
       "| <!--/--> | fit | lwr | upr |\n",
       "|---|---|---|---|\n",
       "| 1 | 10.31504 | 6.480238 | 14.14984 |\n",
       "\n"
      ],
      "text/plain": [
       "  fit      lwr      upr     \n",
       "1 10.31504 6.480238 14.14984"
      ]
     },
     "metadata": {},
     "output_type": "display_data"
    }
   ],
   "source": [
    "predict(fit_dt, newdata = new_dt, \n",
    "        interval = c(\"prediction\"), \n",
    "        level = 0.95)  ## 개별 y"
   ]
  },
  {
   "cell_type": "markdown",
   "id": "978abc97-fb7d-4b8d-8ffc-e0e80ba1c36b",
   "metadata": {},
   "source": [
    "## (11)"
   ]
  },
  {
   "cell_type": "markdown",
   "id": "aedb091c-0dd4-41d8-9748-81f77172798b",
   "metadata": {},
   "source": [
    "잔차에 대한 산점도를 그리고, 결과를 설명하여라."
   ]
  },
  {
   "cell_type": "code",
   "execution_count": 66,
   "id": "ace57038-936d-4e48-8fc2-264b1788d2d0",
   "metadata": {},
   "outputs": [],
   "source": [
    "yhat <- fitted(fit_dt)\n",
    "res <- resid(fit_dt)"
   ]
  },
  {
   "cell_type": "code",
   "execution_count": 67,
   "id": "5c87536f-6b87-49e5-82d5-bb25503869be",
   "metadata": {},
   "outputs": [
    {
     "data": {
      "image/png": "[encoded data removed]",
      "text/plain": [
       "plot without title"
      ]
     },
     "metadata": {
      "image/png": {
       "height": 420,
       "width": 420
      }
     },
     "output_type": "display_data"
    }
   ],
   "source": [
    "plot(res ~ yhat,pch=16, ylab = 'Residual')\n",
    "abline(h=0, lty=2, col='grey')"
   ]
  },
  {
   "cell_type": "markdown",
   "id": "53fff0b4-d514-4c86-93fe-6042adc124e9",
   "metadata": {},
   "source": [
    "선형성은 없어보이고, 등분산성이 있어보인다."
   ]
  },
  {
   "cell_type": "markdown",
   "id": "8a9f5f89-2853-4c04-80af-7d22dfc611ff",
   "metadata": {},
   "source": [
    "## (12)"
   ]
  },
  {
   "cell_type": "markdown",
   "id": "6f3af0d7-01c2-4801-9228-e05dec2943c1",
   "metadata": {},
   "source": [
    "잔차에 대한 등분산성 검정을 수행하여라."
   ]
  },
  {
   "cell_type": "markdown",
   "id": "2779991f-383d-482f-906f-a85b52bcb65d",
   "metadata": {},
   "source": [
    "$H_0$:등분산 VS. $H_1$:이분산"
   ]
  },
  {
   "cell_type": "code",
   "execution_count": 41,
   "id": "208cc4de-22b6-4adb-ac4d-6fbd1f04eb51",
   "metadata": {},
   "outputs": [
    {
     "name": "stderr",
     "output_type": "stream",
     "text": [
      "Loading required package: zoo\n",
      "\n",
      "\n",
      "Attaching package: ‘zoo’\n",
      "\n",
      "\n",
      "The following objects are masked from ‘package:base’:\n",
      "\n",
      "    as.Date, as.Date.numeric\n",
      "\n",
      "\n"
     ]
    }
   ],
   "source": [
    "library(lmtest)"
   ]
  },
  {
   "cell_type": "code",
   "execution_count": 42,
   "id": "7b1ea4a7-4713-4c7e-91f5-d8db040b2623",
   "metadata": {},
   "outputs": [
    {
     "data": {
      "text/plain": [
       "\n",
       "\tstudentized Breusch-Pagan test\n",
       "\n",
       "data:  fit_dt\n",
       "BP = 1.1751, df = 7, p-value = 0.9915\n"
      ]
     },
     "metadata": {},
     "output_type": "display_data"
    }
   ],
   "source": [
    "bptest(fit_dt)"
   ]
  },
  {
   "cell_type": "markdown",
   "id": "b41f3d42-7ea0-45e6-9404-f1a8110a7e07",
   "metadata": {},
   "source": [
    "- p-valeur가 커서 $H_0$를 채택한다. 즉 등분산성이다."
   ]
  },
  {
   "cell_type": "markdown",
   "id": "9eda7c73-e6d5-45c0-a4b7-2f9477c268d8",
   "metadata": {},
   "source": [
    "## (13)"
   ]
  },
  {
   "cell_type": "markdown",
   "id": "f977b37f-4ab6-4163-a25e-f7ef591a966f",
   "metadata": {},
   "source": [
    "잔차에 대한 히스토그램, QQ plot을 그리고, 정규성 검정을 수행하여라."
   ]
  },
  {
   "cell_type": "code",
   "execution_count": 68,
   "id": "f68ffb98-cc94-47d2-ac59-b0af13d792e3",
   "metadata": {},
   "outputs": [
    {
     "data": {
      "image/png": "[encoded data removed]",
      "text/plain": [
       "Plot with title “Histogram of res”"
      ]
     },
     "metadata": {
      "image/png": {
       "height": 420,
       "width": 420
      }
     },
     "output_type": "display_data"
    }
   ],
   "source": [
    "par(mfrow=c(1,2))\n",
    "qqnorm(res, pch=16)\n",
    "qqline(res, col = 2)\n",
    "\n",
    "hist(res)\n",
    "par(mfrow=c(1,1))"
   ]
  },
  {
   "cell_type": "markdown",
   "id": "d1c19754-fe74-474e-ac42-77b4dce2b3aa",
   "metadata": {},
   "source": [
    "- 정규성을 만족해 보인다."
   ]
  },
  {
   "cell_type": "code",
   "execution_count": 44,
   "id": "b63c82a8-e67e-41a7-b6ae-6d6e4bfa07cc",
   "metadata": {},
   "outputs": [
    {
     "data": {
      "text/plain": [
       "\n",
       "\tShapiro-Wilk normality test\n",
       "\n",
       "data:  res\n",
       "W = 0.98602, p-value = 0.0006715\n"
      ]
     },
     "metadata": {},
     "output_type": "display_data"
    }
   ],
   "source": [
    "## H0 : normal distribution  vs. H1 : not H0\n",
    "shapiro.test(res)"
   ]
  },
  {
   "cell_type": "markdown",
   "id": "33418a06-6468-481b-988e-3ae3a828d7a6",
   "metadata": {},
   "source": [
    "## (14)"
   ]
  },
  {
   "cell_type": "markdown",
   "id": "359ab085-28c5-41ff-8a75-db2024916010",
   "metadata": {},
   "source": [
    "잔차에 대한 독립성 검정을 수행하시오."
   ]
  },
  {
   "cell_type": "code",
   "execution_count": null,
   "id": "11886579-93db-415d-a8e8-beb47ccc5cb9",
   "metadata": {},
   "outputs": [],
   "source": []
  },
  {
   "cell_type": "markdown",
   "id": "b854d946-4980-4126-8d91-44134e002b51",
   "metadata": {},
   "source": [
    "$H_0$:uncorrelated"
   ]
  },
  {
   "cell_type": "code",
   "execution_count": 69,
   "id": "d8fefff5-7a4a-49c3-8f7a-037479773d2a",
   "metadata": {},
   "outputs": [
    {
     "data": {
      "text/plain": [
       "\n",
       "\tDurbin-Watson test\n",
       "\n",
       "data:  fit_dt\n",
       "DW = 1.9694, p-value = 0.7622\n",
       "alternative hypothesis: true autocorrelation is not 0\n"
      ]
     },
     "metadata": {},
     "output_type": "display_data"
    }
   ],
   "source": [
    "dwtest(fit_dt, alternative = \"two.sided\") "
   ]
  },
  {
   "cell_type": "markdown",
   "id": "c6992b1e-5e73-4cc2-9fbf-041b88503977",
   "metadata": {},
   "source": [
    "- 독립이다."
   ]
  },
  {
   "cell_type": "markdown",
   "id": "d20b6660-a8ac-43ad-8474-39bd01f21c54",
   "metadata": {},
   "source": [
    "# 2번"
   ]
  },
  {
   "cell_type": "code",
   "execution_count": null,
   "id": "530e00b3-e63f-4be4-8ed7-aa0b242d134c",
   "metadata": {},
   "outputs": [],
   "source": []
  },
  {
   "cell_type": "markdown",
   "id": "85dd14c2-eded-4338-8edb-da788b70d781",
   "metadata": {},
   "source": [
    "위 데이터에 대하여 다음 물음에 답하여라. (R을 이용하여 풀이)(검정에서는 유의수준 $α = 0.05$ 사용)\n"
   ]
  },
  {
   "cell_type": "markdown",
   "id": "ebcef5d9-37fa-4603-9d33-d76967978437",
   "metadata": {},
   "source": [
    "## (1)"
   ]
  },
  {
   "cell_type": "markdown",
   "id": "2b6cc990-67d7-4905-934a-0a94f1dd7b4f",
   "metadata": {},
   "source": [
    "위에서 적합한 모형에서 개별 회귀계수의 유의성 검정 결과 유의하지 않은 변수는 무엇인가?"
   ]
  },
  {
   "cell_type": "markdown",
   "id": "fa5618ee-52b7-47bc-b8fb-14f399c1cc1a",
   "metadata": {},
   "source": [
    "Population, Education은 유의하지 않은 변수이다."
   ]
  },
  {
   "cell_type": "markdown",
   "id": "6598ca7e-3a8b-4e4d-a3f1-6687634b72ca",
   "metadata": {},
   "source": [
    "## (2)"
   ]
  },
  {
   "cell_type": "markdown",
   "id": "d2fba139-f74d-44c8-973e-b9bfc2af5224",
   "metadata": {},
   "source": [
    "위에서 유의하지 않았던 변수를 제외한 모형을 축소모형(Reduced Model)으로 하는 부분 F검정을 수행하여라. 검정에 필요한 가설을 설정하고, 검정 결과를 설명하시오."
   ]
  },
  {
   "cell_type": "code",
   "execution_count": 89,
   "id": "63bbd320-9be5-49d0-b8df-331ec76c7811",
   "metadata": {},
   "outputs": [],
   "source": [
    "reduced_model<-lm(Sales~.-Population-Education, data=dt)\n"
   ]
  },
  {
   "cell_type": "code",
   "execution_count": 50,
   "id": "0d939f68-cc36-4148-9588-d4e4ba66516d",
   "metadata": {},
   "outputs": [
    {
     "data": {
      "text/html": [
       "<table class=\"dataframe\">\n",
       "<caption>A anova: 2 × 6</caption>\n",
       "<thead>\n",
       "\t<tr><th></th><th scope=col>Res.Df</th><th scope=col>RSS</th><th scope=col>Df</th><th scope=col>Sum of Sq</th><th scope=col>F</th><th scope=col>Pr(&gt;F)</th></tr>\n",
       "\t<tr><th></th><th scope=col>&lt;dbl&gt;</th><th scope=col>&lt;dbl&gt;</th><th scope=col>&lt;dbl&gt;</th><th scope=col>&lt;dbl&gt;</th><th scope=col>&lt;dbl&gt;</th><th scope=col>&lt;dbl&gt;</th></tr>\n",
       "</thead>\n",
       "<tbody>\n",
       "\t<tr><th scope=row>1</th><td>394</td><td>1462.897</td><td>NA</td><td>      NA</td><td>       NA</td><td>       NA</td></tr>\n",
       "\t<tr><th scope=row>2</th><td>392</td><td>1458.562</td><td> 2</td><td>4.335087</td><td>0.5825445</td><td>0.5589583</td></tr>\n",
       "</tbody>\n",
       "</table>\n"
      ],
      "text/latex": [
       "A anova: 2 × 6\n",
       "\\begin{tabular}{r|llllll}\n",
       "  & Res.Df & RSS & Df & Sum of Sq & F & Pr(>F)\\\\\n",
       "  & <dbl> & <dbl> & <dbl> & <dbl> & <dbl> & <dbl>\\\\\n",
       "\\hline\n",
       "\t1 & 394 & 1462.897 & NA &       NA &        NA &        NA\\\\\n",
       "\t2 & 392 & 1458.562 &  2 & 4.335087 & 0.5825445 & 0.5589583\\\\\n",
       "\\end{tabular}\n"
      ],
      "text/markdown": [
       "\n",
       "A anova: 2 × 6\n",
       "\n",
       "| <!--/--> | Res.Df &lt;dbl&gt; | RSS &lt;dbl&gt; | Df &lt;dbl&gt; | Sum of Sq &lt;dbl&gt; | F &lt;dbl&gt; | Pr(&gt;F) &lt;dbl&gt; |\n",
       "|---|---|---|---|---|---|---|\n",
       "| 1 | 394 | 1462.897 | NA |       NA |        NA |        NA |\n",
       "| 2 | 392 | 1458.562 |  2 | 4.335087 | 0.5825445 | 0.5589583 |\n",
       "\n"
      ],
      "text/plain": [
       "  Res.Df RSS      Df Sum of Sq F         Pr(>F)   \n",
       "1 394    1462.897 NA       NA         NA        NA\n",
       "2 392    1458.562  2 4.335087  0.5825445 0.5589583"
      ]
     },
     "metadata": {},
     "output_type": "display_data"
    }
   ],
   "source": [
    "anova(reduced_model, fit_dt)"
   ]
  },
  {
   "cell_type": "markdown",
   "id": "dac13cdb-41f1-4bf5-862a-c5cf01f41ea6",
   "metadata": {},
   "source": [
    "## (3)"
   ]
  },
  {
   "cell_type": "markdown",
   "id": "97e3339f-3a6d-4a14-8f26-9c02b140553d",
   "metadata": {},
   "source": [
    "1번에서 설정한 모형과, 축소모형 중 어느 모형이 이 데이터에 대한 설명을 잘 하고 있는지를 비교하시오."
   ]
  },
  {
   "cell_type": "code",
   "execution_count": 90,
   "id": "e37fb5f0-e089-4fb3-a24b-8f70d01ba75f",
   "metadata": {},
   "outputs": [
    {
     "data": {
      "text/plain": [
       "\n",
       "Call:\n",
       "lm(formula = Sales ~ . - Population - Education, data = dt)\n",
       "\n",
       "Residuals:\n",
       "    Min      1Q  Median      3Q     Max \n",
       "-4.9071 -1.3081 -0.1892  1.1495  4.6980 \n",
       "\n",
       "Coefficients:\n",
       "             Estimate Std. Error t value Pr(>|t|)    \n",
       "(Intercept)  7.109190   0.943940   7.531 3.46e-13 ***\n",
       "CompPrice    0.093904   0.007792  12.051  < 2e-16 ***\n",
       "Income       0.013092   0.003465   3.779 0.000182 ***\n",
       "Advertising  0.130611   0.014572   8.963  < 2e-16 ***\n",
       "Price       -0.092543   0.005044 -18.347  < 2e-16 ***\n",
       "Age         -0.044971   0.005994  -7.503 4.20e-13 ***\n",
       "---\n",
       "Signif. codes:  0 ‘***’ 0.001 ‘**’ 0.01 ‘*’ 0.05 ‘.’ 0.1 ‘ ’ 1\n",
       "\n",
       "Residual standard error: 1.927 on 394 degrees of freedom\n",
       "Multiple R-squared:  0.5403,\tAdjusted R-squared:  0.5345 \n",
       "F-statistic: 92.62 on 5 and 394 DF,  p-value: < 2.2e-16\n"
      ]
     },
     "metadata": {},
     "output_type": "display_data"
    },
    {
     "data": {
      "text/plain": [
       "\n",
       "Call:\n",
       "lm(formula = Sales ~ ., data = dt)\n",
       "\n",
       "Residuals:\n",
       "    Min      1Q  Median      3Q     Max \n",
       "-5.0598 -1.3515 -0.1739  1.1331  4.8304 \n",
       "\n",
       "Coefficients:\n",
       "              Estimate Std. Error t value Pr(>|t|)    \n",
       "(Intercept)  7.7076934  1.1176260   6.896 2.15e-11 ***\n",
       "CompPrice    0.0939149  0.0078395  11.980  < 2e-16 ***\n",
       "Income       0.0128717  0.0034757   3.703 0.000243 ***\n",
       "Advertising  0.1308637  0.0151219   8.654  < 2e-16 ***\n",
       "Population  -0.0001239  0.0006877  -0.180 0.857092    \n",
       "Price       -0.0925226  0.0050521 -18.314  < 2e-16 ***\n",
       "Age         -0.0449743  0.0060083  -7.485 4.75e-13 ***\n",
       "Education   -0.0399844  0.0371257  -1.077 0.282142    \n",
       "---\n",
       "Signif. codes:  0 ‘***’ 0.001 ‘**’ 0.01 ‘*’ 0.05 ‘.’ 0.1 ‘ ’ 1\n",
       "\n",
       "Residual standard error: 1.929 on 392 degrees of freedom\n",
       "Multiple R-squared:  0.5417,\tAdjusted R-squared:  0.5335 \n",
       "F-statistic: 66.18 on 7 and 392 DF,  p-value: < 2.2e-16\n"
      ]
     },
     "metadata": {},
     "output_type": "display_data"
    }
   ],
   "source": [
    "summary(reduced_model)\n",
    "summary(fit_dt)"
   ]
  },
  {
   "cell_type": "markdown",
   "id": "7b66acf0-9891-4ed2-9648-3e7fa947fb2a",
   "metadata": {},
   "source": [
    "# 3번"
   ]
  },
  {
   "cell_type": "markdown",
   "id": "e0b47744-7b77-47d3-8c4c-5d3c24f21da0",
   "metadata": {},
   "source": [
    "1번에서 설정한 모형에 대하여 아래의 일반 선형 가설검정(General Linear Hypothesis Test)을 수행하시오.\n",
    "(R을 이용하여 풀이)(검정에서는 유의수준 $α = 0.05$ 사용)(회귀계수는 $β_i$로 표현해야 하지만, 각자 설정이\n",
    "다를 수가 있기 때문에 회귀계수 대신 변수 이름을 사용하겠음. 예 $β_1 =CompPrice$)"
   ]
  },
  {
   "cell_type": "markdown",
   "id": "424c55b4-b037-407d-b90c-45b3dc583ec6",
   "metadata": {},
   "source": [
    "## (1)"
   ]
  },
  {
   "cell_type": "markdown",
   "id": "5341d24e-6175-4005-adba-b31cac90dad2",
   "metadata": {},
   "source": [
    "$H_0 : CompPrice=Income$ vs. $H_1 : not H_0$"
   ]
  },
  {
   "cell_type": "code",
   "execution_count": 54,
   "id": "f1946122-834a-45d6-b5ff-56bce1b094b5",
   "metadata": {},
   "outputs": [
    {
     "name": "stderr",
     "output_type": "stream",
     "text": [
      "Installing package into ‘/home/coco/R/x86_64-pc-linux-gnu-library/4.2’\n",
      "(as ‘lib’ is unspecified)\n",
      "\n"
     ]
    }
   ],
   "source": [
    "install.packages(\"car\")"
   ]
  },
  {
   "cell_type": "markdown",
   "id": "7fcef9cc-b56e-4431-9d83-82e320e1735c",
   "metadata": {},
   "source": [
    "```R\n",
    "linearHypothesis(dt_fit, c(0,1,-1,0,0,0,0,0),0)\n",
    "```"
   ]
  },
  {
   "cell_type": "markdown",
   "id": "414af50d-6df9-4c40-b7c1-43fdc8dd99c5",
   "metadata": {},
   "source": [
    "## (2)"
   ]
  },
  {
   "cell_type": "code",
   "execution_count": null,
   "id": "7569f7e7-1d76-48ec-9aba-528a6418f49e",
   "metadata": {},
   "outputs": [],
   "source": []
  },
  {
   "cell_type": "markdown",
   "id": "fd6396bf-7006-4aa3-85c9-484f15a87e1b",
   "metadata": {},
   "source": [
    "$H_0 : CompPrice=-Price$ vs. $H_1 : not H_0$"
   ]
  },
  {
   "cell_type": "markdown",
   "id": "5996dafb-5d84-4362-b4f2-a48caa953aa7",
   "metadata": {},
   "source": [
    "```R\n",
    "linearHypothesis(fit_dt, c(0,1,0,0,0,1,0,0),0)\n",
    "```"
   ]
  },
  {
   "cell_type": "markdown",
   "id": "566c70a5-656e-45fd-a759-6cef059ace4e",
   "metadata": {},
   "source": [
    "## (3)"
   ]
  },
  {
   "cell_type": "markdown",
   "id": "be66a3f1-d0b2-423c-9509-90e064f01218",
   "metadata": {},
   "source": [
    "$H_0$를 기각할 수 있는 제약조건을 만들어 보시오.(단 2개 이상의 변수 사용)"
   ]
  },
  {
   "cell_type": "code",
   "execution_count": null,
   "id": "0eca9825-3267-407f-ad57-b9eefbfc2ec5",
   "metadata": {},
   "outputs": [],
   "source": []
  }
 ],
 "metadata": {
  "kernelspec": {
   "display_name": "R",
   "language": "R",
   "name": "ir"
  },
  "language_info": {
   "codemirror_mode": "r",
   "file_extension": ".r",
   "mimetype": "text/x-r-source",
   "name": "R",
   "pygments_lexer": "r",
   "version": "4.2.2"
  }
 },
 "nbformat": 4,
 "nbformat_minor": 5
}
