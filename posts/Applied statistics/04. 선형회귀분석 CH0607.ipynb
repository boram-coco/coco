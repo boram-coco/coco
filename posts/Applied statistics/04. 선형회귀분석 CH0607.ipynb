{
 "cells": [
  {
   "cell_type": "raw",
   "id": "60155c4a-b859-4d66-b1b7-df1448e493b8",
   "metadata": {},
   "source": [
    "---\n",
    "title: \"04. MLR실습\"\n",
    "author: \"김보람\"\n",
    "date: \"04/18/2023\"\n",
    "categories:\n",
    "  - Applied statistics\n",
    "---"
   ]
  },
  {
   "cell_type": "markdown",
   "id": "1db53a70-e507-4e57-b7ac-88082a030eba",
   "metadata": {},
   "source": [
    "> 해당 자료는 전북대학교 이영미 교수님 2023응용통계학 자료임"
   ]
  },
  {
   "cell_type": "markdown",
   "id": "a0c5b9dd-c2fd-48ca-bf35-98f68edf7f4c",
   "metadata": {},
   "source": [
    "# 선형회귀분석 CH0607"
   ]
  },
  {
   "cell_type": "code",
   "execution_count": 1,
   "id": "d2b1e1c9-363e-4bfe-8344-ebb1cf61f70b",
   "metadata": {},
   "outputs": [
    {
     "name": "stderr",
     "output_type": "stream",
     "text": [
      "Loading required package: zoo\n",
      "\n",
      "\n",
      "Attaching package: ‘zoo’\n",
      "\n",
      "\n",
      "The following objects are masked from ‘package:base’:\n",
      "\n",
      "    as.Date, as.Date.numeric\n",
      "\n",
      "\n"
     ]
    }
   ],
   "source": [
    "library(MASS)\n",
    "library(lmtest)"
   ]
  },
  {
   "cell_type": "markdown",
   "id": "e87619de-80df-4700-a42d-b751f83e3fa5",
   "metadata": {},
   "source": [
    "# 데이터(Boston)"
   ]
  },
  {
   "cell_type": "code",
   "execution_count": 2,
   "id": "0c5ca8a0-504c-46ba-9a5e-c9f81ddac7cf",
   "metadata": {},
   "outputs": [
    {
     "data": {
      "text/html": [
       "<table class=\"dataframe\">\n",
       "<caption>A data.frame: 6 × 14</caption>\n",
       "<thead>\n",
       "\t<tr><th></th><th scope=col>crim</th><th scope=col>zn</th><th scope=col>indus</th><th scope=col>chas</th><th scope=col>nox</th><th scope=col>rm</th><th scope=col>age</th><th scope=col>dis</th><th scope=col>rad</th><th scope=col>tax</th><th scope=col>ptratio</th><th scope=col>black</th><th scope=col>lstat</th><th scope=col>medv</th></tr>\n",
       "\t<tr><th></th><th scope=col>&lt;dbl&gt;</th><th scope=col>&lt;dbl&gt;</th><th scope=col>&lt;dbl&gt;</th><th scope=col>&lt;int&gt;</th><th scope=col>&lt;dbl&gt;</th><th scope=col>&lt;dbl&gt;</th><th scope=col>&lt;dbl&gt;</th><th scope=col>&lt;dbl&gt;</th><th scope=col>&lt;int&gt;</th><th scope=col>&lt;dbl&gt;</th><th scope=col>&lt;dbl&gt;</th><th scope=col>&lt;dbl&gt;</th><th scope=col>&lt;dbl&gt;</th><th scope=col>&lt;dbl&gt;</th></tr>\n",
       "</thead>\n",
       "<tbody>\n",
       "\t<tr><th scope=row>1</th><td>0.00632</td><td>18</td><td>2.31</td><td>0</td><td>0.538</td><td>6.575</td><td>65.2</td><td>4.0900</td><td>1</td><td>296</td><td>15.3</td><td>396.90</td><td>4.98</td><td>24.0</td></tr>\n",
       "\t<tr><th scope=row>2</th><td>0.02731</td><td> 0</td><td>7.07</td><td>0</td><td>0.469</td><td>6.421</td><td>78.9</td><td>4.9671</td><td>2</td><td>242</td><td>17.8</td><td>396.90</td><td>9.14</td><td>21.6</td></tr>\n",
       "\t<tr><th scope=row>3</th><td>0.02729</td><td> 0</td><td>7.07</td><td>0</td><td>0.469</td><td>7.185</td><td>61.1</td><td>4.9671</td><td>2</td><td>242</td><td>17.8</td><td>392.83</td><td>4.03</td><td>34.7</td></tr>\n",
       "\t<tr><th scope=row>4</th><td>0.03237</td><td> 0</td><td>2.18</td><td>0</td><td>0.458</td><td>6.998</td><td>45.8</td><td>6.0622</td><td>3</td><td>222</td><td>18.7</td><td>394.63</td><td>2.94</td><td>33.4</td></tr>\n",
       "\t<tr><th scope=row>5</th><td>0.06905</td><td> 0</td><td>2.18</td><td>0</td><td>0.458</td><td>7.147</td><td>54.2</td><td>6.0622</td><td>3</td><td>222</td><td>18.7</td><td>396.90</td><td>5.33</td><td>36.2</td></tr>\n",
       "\t<tr><th scope=row>6</th><td>0.02985</td><td> 0</td><td>2.18</td><td>0</td><td>0.458</td><td>6.430</td><td>58.7</td><td>6.0622</td><td>3</td><td>222</td><td>18.7</td><td>394.12</td><td>5.21</td><td>28.7</td></tr>\n",
       "</tbody>\n",
       "</table>\n"
      ],
      "text/latex": [
       "A data.frame: 6 × 14\n",
       "\\begin{tabular}{r|llllllllllllll}\n",
       "  & crim & zn & indus & chas & nox & rm & age & dis & rad & tax & ptratio & black & lstat & medv\\\\\n",
       "  & <dbl> & <dbl> & <dbl> & <int> & <dbl> & <dbl> & <dbl> & <dbl> & <int> & <dbl> & <dbl> & <dbl> & <dbl> & <dbl>\\\\\n",
       "\\hline\n",
       "\t1 & 0.00632 & 18 & 2.31 & 0 & 0.538 & 6.575 & 65.2 & 4.0900 & 1 & 296 & 15.3 & 396.90 & 4.98 & 24.0\\\\\n",
       "\t2 & 0.02731 &  0 & 7.07 & 0 & 0.469 & 6.421 & 78.9 & 4.9671 & 2 & 242 & 17.8 & 396.90 & 9.14 & 21.6\\\\\n",
       "\t3 & 0.02729 &  0 & 7.07 & 0 & 0.469 & 7.185 & 61.1 & 4.9671 & 2 & 242 & 17.8 & 392.83 & 4.03 & 34.7\\\\\n",
       "\t4 & 0.03237 &  0 & 2.18 & 0 & 0.458 & 6.998 & 45.8 & 6.0622 & 3 & 222 & 18.7 & 394.63 & 2.94 & 33.4\\\\\n",
       "\t5 & 0.06905 &  0 & 2.18 & 0 & 0.458 & 7.147 & 54.2 & 6.0622 & 3 & 222 & 18.7 & 396.90 & 5.33 & 36.2\\\\\n",
       "\t6 & 0.02985 &  0 & 2.18 & 0 & 0.458 & 6.430 & 58.7 & 6.0622 & 3 & 222 & 18.7 & 394.12 & 5.21 & 28.7\\\\\n",
       "\\end{tabular}\n"
      ],
      "text/markdown": [
       "\n",
       "A data.frame: 6 × 14\n",
       "\n",
       "| <!--/--> | crim &lt;dbl&gt; | zn &lt;dbl&gt; | indus &lt;dbl&gt; | chas &lt;int&gt; | nox &lt;dbl&gt; | rm &lt;dbl&gt; | age &lt;dbl&gt; | dis &lt;dbl&gt; | rad &lt;int&gt; | tax &lt;dbl&gt; | ptratio &lt;dbl&gt; | black &lt;dbl&gt; | lstat &lt;dbl&gt; | medv &lt;dbl&gt; |\n",
       "|---|---|---|---|---|---|---|---|---|---|---|---|---|---|---|\n",
       "| 1 | 0.00632 | 18 | 2.31 | 0 | 0.538 | 6.575 | 65.2 | 4.0900 | 1 | 296 | 15.3 | 396.90 | 4.98 | 24.0 |\n",
       "| 2 | 0.02731 |  0 | 7.07 | 0 | 0.469 | 6.421 | 78.9 | 4.9671 | 2 | 242 | 17.8 | 396.90 | 9.14 | 21.6 |\n",
       "| 3 | 0.02729 |  0 | 7.07 | 0 | 0.469 | 7.185 | 61.1 | 4.9671 | 2 | 242 | 17.8 | 392.83 | 4.03 | 34.7 |\n",
       "| 4 | 0.03237 |  0 | 2.18 | 0 | 0.458 | 6.998 | 45.8 | 6.0622 | 3 | 222 | 18.7 | 394.63 | 2.94 | 33.4 |\n",
       "| 5 | 0.06905 |  0 | 2.18 | 0 | 0.458 | 7.147 | 54.2 | 6.0622 | 3 | 222 | 18.7 | 396.90 | 5.33 | 36.2 |\n",
       "| 6 | 0.02985 |  0 | 2.18 | 0 | 0.458 | 6.430 | 58.7 | 6.0622 | 3 | 222 | 18.7 | 394.12 | 5.21 | 28.7 |\n",
       "\n"
      ],
      "text/plain": [
       "  crim    zn indus chas nox   rm    age  dis    rad tax ptratio black  lstat\n",
       "1 0.00632 18 2.31  0    0.538 6.575 65.2 4.0900 1   296 15.3    396.90 4.98 \n",
       "2 0.02731  0 7.07  0    0.469 6.421 78.9 4.9671 2   242 17.8    396.90 9.14 \n",
       "3 0.02729  0 7.07  0    0.469 7.185 61.1 4.9671 2   242 17.8    392.83 4.03 \n",
       "4 0.03237  0 2.18  0    0.458 6.998 45.8 6.0622 3   222 18.7    394.63 2.94 \n",
       "5 0.06905  0 2.18  0    0.458 7.147 54.2 6.0622 3   222 18.7    396.90 5.33 \n",
       "6 0.02985  0 2.18  0    0.458 6.430 58.7 6.0622 3   222 18.7    394.12 5.21 \n",
       "  medv\n",
       "1 24.0\n",
       "2 21.6\n",
       "3 34.7\n",
       "4 33.4\n",
       "5 36.2\n",
       "6 28.7"
      ]
     },
     "metadata": {},
     "output_type": "display_data"
    }
   ],
   "source": [
    "data(Boston)\n",
    "head(Boston)"
   ]
  },
  {
   "cell_type": "markdown",
   "id": "05f6b18d-d002-493d-b41f-9d6979275cb5",
   "metadata": {},
   "source": [
    "- `보스턴 집값 데이터` 이 데이터는 보스턴 근교 지역의 집값 및 다른 정보를 포함한다.\n",
    "\n",
    "- MASS 패키지를 설치하면 데이터를 로딩할 수 있다."
   ]
  },
  {
   "cell_type": "markdown",
   "id": "270e676f-d984-4f0f-9377-328d0036ecdd",
   "metadata": {},
   "source": [
    "> - B보스턴 근교 506개 지역에 대한 범죄율 (crim)등 14개의 변수로 구성\n",
    ">\n",
    "> • crim : 범죄율\n",
    ">\n",
    "> • zn: 25,000평방비트 기준 거지주 비율\n",
    ">\n",
    "> • indus: 비소매업종 점유 구역 비율\n",
    ">\n",
    "> • chas: 찰스강 인접 여부 (1=인접, 0=비인접)\n",
    ">\n",
    "> • nox: 일산화질소 농도 (천만개 당)\n",
    ">\n",
    "> • `rm`: 거주지의 평균 방 갯수 ***\n",
    ">\n",
    "> • age: 1940년 이전에 건축된 주택의 비율\n",
    ">\n",
    "> • dis: 보스턴 5대 사업지구와의 거리\n",
    ">\n",
    "> • rad: 고속도로 진입용이성 정도\n",
    ">\n",
    "> • tax: 재산세율 (10,000달러 당)\n",
    ">\n",
    "> • ptratio: 학생 대 교사 비율\n",
    ">\n",
    "> • black: 1000(B − 0.63)2, B: 아프리카계 미국인 비율\n",
    ">\n",
    "> • `lstat` : 저소득층 비율 ****\n",
    ">\n",
    "> • `medv`: 주택가격의 중앙값 (단위:1,000달러 당) 반응변수"
   ]
  },
  {
   "cell_type": "markdown",
   "id": "8965b1c2-e977-4674-b532-423b16857a04",
   "metadata": {},
   "source": [
    "## 산점도"
   ]
  },
  {
   "cell_type": "code",
   "execution_count": 3,
   "id": "d715e45c-368c-4059-802a-0d682faf0984",
   "metadata": {},
   "outputs": [
    {
     "data": {
      "image/png": "[encoded data removed]",
      "text/plain": [
       "plot without title"
      ]
     },
     "metadata": {
      "image/png": {
       "height": 420,
       "width": 420
      }
     },
     "output_type": "display_data"
    }
   ],
   "source": [
    "pairs(Boston[,which(names(Boston) %in% \n",
    "                      c('medv', 'rm', 'lstat'))], \n",
    "      pch=16, col='darkorange')\n"
   ]
  },
  {
   "cell_type": "markdown",
   "id": "aab3d812-8bf9-4cf9-9970-3abc869ae6e1",
   "metadata": {},
   "source": [
    "> - 마지막 행을 봐보자. 맨아래 왼쪽의 X축은 rm, Y축은 medv를 의미하고, 맨아래의 중간의 x축은 lstat를 의미한다.\n",
    ">\n",
    "> - rm이 클수록 집값이 증가하고(직선관계처럼 보인다)\n",
    ">\n",
    "> - lstat가 높아질수록 집값은 떨어지는 경향이 있다(곡선관계처럼 보인다. 처음엔 뚝 떨어지다가 천천히 감소)\n",
    ">\n",
    "> - rm과 lstat의 다중공산성을 봐야해! > 맨위 가운데 그림을 봐보자.."
   ]
  },
  {
   "cell_type": "markdown",
   "id": "d5513366-a0c4-452f-917d-a1ff25942fc8",
   "metadata": {},
   "source": [
    "## 상관관계"
   ]
  },
  {
   "cell_type": "code",
   "execution_count": 5,
   "id": "1485095d-6891-4063-85b7-648c1ca88367",
   "metadata": {},
   "outputs": [
    {
     "data": {
      "text/html": [
       "<table class=\"dataframe\">\n",
       "<caption>A matrix: 3 × 3 of type dbl</caption>\n",
       "<thead>\n",
       "\t<tr><th></th><th scope=col>rm</th><th scope=col>lstat</th><th scope=col>medv</th></tr>\n",
       "</thead>\n",
       "<tbody>\n",
       "\t<tr><th scope=row>rm</th><td> 1.0000000</td><td>-0.6138083</td><td> 0.6953599</td></tr>\n",
       "\t<tr><th scope=row>lstat</th><td>-0.6138083</td><td> 1.0000000</td><td>-0.7376627</td></tr>\n",
       "\t<tr><th scope=row>medv</th><td> 0.6953599</td><td>-0.7376627</td><td> 1.0000000</td></tr>\n",
       "</tbody>\n",
       "</table>\n"
      ],
      "text/latex": [
       "A matrix: 3 × 3 of type dbl\n",
       "\\begin{tabular}{r|lll}\n",
       "  & rm & lstat & medv\\\\\n",
       "\\hline\n",
       "\trm &  1.0000000 & -0.6138083 &  0.6953599\\\\\n",
       "\tlstat & -0.6138083 &  1.0000000 & -0.7376627\\\\\n",
       "\tmedv &  0.6953599 & -0.7376627 &  1.0000000\\\\\n",
       "\\end{tabular}\n"
      ],
      "text/markdown": [
       "\n",
       "A matrix: 3 × 3 of type dbl\n",
       "\n",
       "| <!--/--> | rm | lstat | medv |\n",
       "|---|---|---|---|\n",
       "| rm |  1.0000000 | -0.6138083 |  0.6953599 |\n",
       "| lstat | -0.6138083 |  1.0000000 | -0.7376627 |\n",
       "| medv |  0.6953599 | -0.7376627 |  1.0000000 |\n",
       "\n"
      ],
      "text/plain": [
       "      rm         lstat      medv      \n",
       "rm     1.0000000 -0.6138083  0.6953599\n",
       "lstat -0.6138083  1.0000000 -0.7376627\n",
       "medv   0.6953599 -0.7376627  1.0000000"
      ]
     },
     "metadata": {},
     "output_type": "display_data"
    }
   ],
   "source": [
    "# pairs(Boston, pch=16, col='darkorange')\n",
    "cor(Boston[,which(names(Boston) %in% \n",
    "                    c('medv', 'rm', 'lstat'))])"
   ]
  },
  {
   "cell_type": "markdown",
   "id": "411f5293-bda7-49f3-8cdc-0374f7575e08",
   "metadata": {},
   "source": [
    "- rm과 medv는 양의 상관관계\n",
    "\n",
    "- lstat와 mdev는 음의 상관관계\n",
    "\n",
    "- rm과 lstat는 음의 상관관계"
   ]
  },
  {
   "cell_type": "markdown",
   "id": "e2d0e1b8-e9d9-4099-a2d9-e958f91b502d",
   "metadata": {},
   "source": [
    "## 회귀모형 적합"
   ]
  },
  {
   "cell_type": "code",
   "execution_count": 6,
   "id": "ab3559f3-1623-4ec3-9969-6266bdec06e8",
   "metadata": {},
   "outputs": [
    {
     "data": {
      "text/plain": [
       "\n",
       "Call:\n",
       "lm(formula = medv ~ rm + lstat, data = Boston)\n",
       "\n",
       "Residuals:\n",
       "    Min      1Q  Median      3Q     Max \n",
       "-18.076  -3.516  -1.010   1.909  28.131 \n",
       "\n",
       "Coefficients:\n",
       "            Estimate Std. Error t value Pr(>|t|)    \n",
       "(Intercept) -1.35827    3.17283  -0.428    0.669    \n",
       "rm           5.09479    0.44447  11.463   <2e-16 ***\n",
       "lstat       -0.64236    0.04373 -14.689   <2e-16 ***\n",
       "---\n",
       "Signif. codes:  0 ‘***’ 0.001 ‘**’ 0.01 ‘*’ 0.05 ‘.’ 0.1 ‘ ’ 1\n",
       "\n",
       "Residual standard error: 5.54 on 503 degrees of freedom\n",
       "Multiple R-squared:  0.6386,\tAdjusted R-squared:  0.6371 \n",
       "F-statistic: 444.3 on 2 and 503 DF,  p-value: < 2.2e-16\n"
      ]
     },
     "metadata": {},
     "output_type": "display_data"
    }
   ],
   "source": [
    "fit_Boston<-lm(medv~rm+lstat, data=Boston)\n",
    "summary(fit_Boston)\n"
   ]
  },
  {
   "cell_type": "markdown",
   "id": "4f8357a3-50db-48f1-a61c-07524fe47e4c",
   "metadata": {},
   "source": [
    "- $y=\\beta_0 + \\beta_1 x_1 + \\beta_2 x_2 + \\epsilon , \\  \\epsilon$ ~ $N(0,\\sigma^2)$\n",
    "\n",
    "- 모형을 적합하라는 것은, $\\hat \\beta_0, \\hat \\beta_1, \\hat \\beta_2$를 구해서 $\\hat y=$꼴로 적어주기"
   ]
  },
  {
   "cell_type": "markdown",
   "id": "07c44dc1-f7a2-4694-929c-39c2aac7f258",
   "metadata": {},
   "source": [
    "`-` summary 결과 해석\n",
    "\n",
    "- 회귀직선의 유의성에 대한 가설검정이다.\n",
    "\n",
    "- $H_0: \\beta_1=\\beta_2=0$  vs  $H_1: \\beta_1 \\neq 0$ or $\\beta_2 \\neq 0$\n",
    "\n",
    "- `F-statistic: 444.3`, F=MSR/MSE, `p-value: < 2.2e-16`:p-value가 아주 작으므로 $H_0$를 기각할 수 있다. 즉 회귀직선은 유의하다.\n",
    "\n",
    "- `Residual standard error: 5.54` = $\\sqrt{MSE} = \\sqrt{\\widehat \\sigma^2} = \\widehat \\sigma^2$\n",
    "\n",
    "- `Pr(>|t|)`:양측 검정에 대한 유의성 검정\n",
    "\n",
    "- `Estimate` 추정량,  $\\hat \\beta_0=-1.35827, \\hat \\beta_1=5.09479, \\hat \\beta_2=-0.64236$\n",
    "\n",
    "- `Std. Error` = $s.e(\\widehat \\beta_i) = \\dfrac{\\sigma^2}{c_{ii}}$ 이고, $\\widehat {s.e}(\\widehat \\beta_i)\\sqrt{\\dfrac{\\widehat \\sigma^2}{c_{ii}}}$\n",
    "\n",
    "- `t value`는 $t_0 = \\dfrac{\\widehat \\beta_i - 0}{\\widehat {s.e}(\\widehat \\beta_i)}$\n",
    "\n",
    "- 절편은 유의하지 않다. \n",
    "\n",
    "- `Residuals`: 잔차해석. 0을 기준으로 대칭인가? 봤는데 max가 훨씬 더 커서 오른쪽으로 꼬리가 더 길 수 있겠네? 생각 가능"
   ]
  },
  {
   "cell_type": "markdown",
   "id": "74066c09-4789-447f-9a47-cda6c98eddfb",
   "metadata": {},
   "source": [
    "## matrix\n"
   ]
  },
  {
   "cell_type": "code",
   "execution_count": 18,
   "id": "8887187e-75ee-4436-81b8-35c8aaa3da37",
   "metadata": {},
   "outputs": [],
   "source": [
    "\n",
    "n = nrow(Boston)\n",
    "X = cbind(rep(1,n), Boston$rm, Boston$lstat)\n",
    "y = Boston$medv"
   ]
  },
  {
   "cell_type": "code",
   "execution_count": 15,
   "id": "c4681baf-5c6c-4a61-999f-e7193c938988",
   "metadata": {},
   "outputs": [
    {
     "data": {
      "text/html": [
       "<table class=\"dataframe\">\n",
       "<caption>A matrix: 6 × 3 of type dbl</caption>\n",
       "<tbody>\n",
       "\t<tr><td>1</td><td>6.575</td><td>4.98</td></tr>\n",
       "\t<tr><td>1</td><td>6.421</td><td>9.14</td></tr>\n",
       "\t<tr><td>1</td><td>7.185</td><td>4.03</td></tr>\n",
       "\t<tr><td>1</td><td>6.998</td><td>2.94</td></tr>\n",
       "\t<tr><td>1</td><td>7.147</td><td>5.33</td></tr>\n",
       "\t<tr><td>1</td><td>6.430</td><td>5.21</td></tr>\n",
       "</tbody>\n",
       "</table>\n"
      ],
      "text/latex": [
       "A matrix: 6 × 3 of type dbl\n",
       "\\begin{tabular}{lll}\n",
       "\t 1 & 6.575 & 4.98\\\\\n",
       "\t 1 & 6.421 & 9.14\\\\\n",
       "\t 1 & 7.185 & 4.03\\\\\n",
       "\t 1 & 6.998 & 2.94\\\\\n",
       "\t 1 & 7.147 & 5.33\\\\\n",
       "\t 1 & 6.430 & 5.21\\\\\n",
       "\\end{tabular}\n"
      ],
      "text/markdown": [
       "\n",
       "A matrix: 6 × 3 of type dbl\n",
       "\n",
       "| 1 | 6.575 | 4.98 |\n",
       "| 1 | 6.421 | 9.14 |\n",
       "| 1 | 7.185 | 4.03 |\n",
       "| 1 | 6.998 | 2.94 |\n",
       "| 1 | 7.147 | 5.33 |\n",
       "| 1 | 6.430 | 5.21 |\n",
       "\n"
      ],
      "text/plain": [
       "     [,1] [,2]  [,3]\n",
       "[1,] 1    6.575 4.98\n",
       "[2,] 1    6.421 9.14\n",
       "[3,] 1    7.185 4.03\n",
       "[4,] 1    6.998 2.94\n",
       "[5,] 1    7.147 5.33\n",
       "[6,] 1    6.430 5.21"
      ]
     },
     "metadata": {},
     "output_type": "display_data"
    }
   ],
   "source": [
    "head(X) # 506X3 행렬"
   ]
  },
  {
   "cell_type": "code",
   "execution_count": 17,
   "id": "608a5339-f0e0-406a-932a-367ae59f43be",
   "metadata": {},
   "outputs": [
    {
     "data": {
      "text/html": [
       "<style>\n",
       ".list-inline {list-style: none; margin:0; padding: 0}\n",
       ".list-inline>li {display: inline-block}\n",
       ".list-inline>li:not(:last-child)::after {content: \"\\00b7\"; padding: 0 .5ex}\n",
       "</style>\n",
       "<ol class=list-inline><li>24</li><li>21.6</li><li>34.7</li><li>33.4</li><li>36.2</li><li>28.7</li></ol>\n"
      ],
      "text/latex": [
       "\\begin{enumerate*}\n",
       "\\item 24\n",
       "\\item 21.6\n",
       "\\item 34.7\n",
       "\\item 33.4\n",
       "\\item 36.2\n",
       "\\item 28.7\n",
       "\\end{enumerate*}\n"
      ],
      "text/markdown": [
       "1. 24\n",
       "2. 21.6\n",
       "3. 34.7\n",
       "4. 33.4\n",
       "5. 36.2\n",
       "6. 28.7\n",
       "\n",
       "\n"
      ],
      "text/plain": [
       "[1] 24.0 21.6 34.7 33.4 36.2 28.7"
      ]
     },
     "metadata": {},
     "output_type": "display_data"
    }
   ],
   "source": [
    "head(y) # medv값, 506x1행렬"
   ]
  },
  {
   "cell_type": "code",
   "execution_count": 19,
   "id": "b951fcd1-d0bb-499f-8741-89a23a7b4d54",
   "metadata": {},
   "outputs": [],
   "source": [
    "# beta = 3x1 행렬"
   ]
  },
  {
   "cell_type": "markdown",
   "id": "da306764-c94b-4b6e-8139-a83b7cb06049",
   "metadata": {},
   "source": [
    "## ***y*** = X$\\beta$ + $\\epsilon \\rightarrow \\widehat \\beta = (X^TX)^{-1}X^Ty$"
   ]
  },
  {
   "cell_type": "code",
   "execution_count": 23,
   "id": "e134fb91-d42e-4ae3-87b4-7a63b1aa5b94",
   "metadata": {},
   "outputs": [
    {
     "data": {
      "text/html": [
       "<table class=\"dataframe\">\n",
       "<caption>A matrix: 3 × 1 of type dbl</caption>\n",
       "<tbody>\n",
       "\t<tr><td>-1.3582728</td></tr>\n",
       "\t<tr><td> 5.0947880</td></tr>\n",
       "\t<tr><td>-0.6423583</td></tr>\n",
       "</tbody>\n",
       "</table>\n"
      ],
      "text/latex": [
       "A matrix: 3 × 1 of type dbl\n",
       "\\begin{tabular}{l}\n",
       "\t -1.3582728\\\\\n",
       "\t  5.0947880\\\\\n",
       "\t -0.6423583\\\\\n",
       "\\end{tabular}\n"
      ],
      "text/markdown": [
       "\n",
       "A matrix: 3 × 1 of type dbl\n",
       "\n",
       "| -1.3582728 |\n",
       "|  5.0947880 |\n",
       "| -0.6423583 |\n",
       "\n"
      ],
      "text/plain": [
       "     [,1]      \n",
       "[1,] -1.3582728\n",
       "[2,]  5.0947880\n",
       "[3,] -0.6423583"
      ]
     },
     "metadata": {},
     "output_type": "display_data"
    },
    {
     "data": {
      "text/html": [
       "<style>\n",
       ".dl-inline {width: auto; margin:0; padding: 0}\n",
       ".dl-inline>dt, .dl-inline>dd {float: none; width: auto; display: inline-block}\n",
       ".dl-inline>dt::after {content: \":\\0020\"; padding-right: .5ex}\n",
       ".dl-inline>dt:not(:first-of-type) {padding-left: .5ex}\n",
       "</style><dl class=dl-inline><dt>(Intercept)</dt><dd>-1.35827281187452</dd><dt>rm</dt><dd>5.09478798433654</dd><dt>lstat</dt><dd>-0.642358334244129</dd></dl>\n"
      ],
      "text/latex": [
       "\\begin{description*}\n",
       "\\item[(Intercept)] -1.35827281187452\n",
       "\\item[rm] 5.09478798433654\n",
       "\\item[lstat] -0.642358334244129\n",
       "\\end{description*}\n"
      ],
      "text/markdown": [
       "(Intercept)\n",
       ":   -1.35827281187452rm\n",
       ":   5.09478798433654lstat\n",
       ":   -0.642358334244129\n",
       "\n"
      ],
      "text/plain": [
       "(Intercept)          rm       lstat \n",
       " -1.3582728   5.0947880  -0.6423583 "
      ]
     },
     "metadata": {},
     "output_type": "display_data"
    }
   ],
   "source": [
    "beta_hat = solve(t(X)%*%X) %*% t(X) %*% y   # t(X): X^T를 의미함 \n",
    "beta_hat\n",
    "coef(fit_Boston)"
   ]
  },
  {
   "cell_type": "markdown",
   "id": "11d98dd9-0cc0-436e-93f6-f2edfad94a08",
   "metadata": {},
   "source": [
    "- `t(X)`: $X^T$를 의미\n",
    "\n",
    "- `%*%` : 행렬곱의미\n",
    "\n",
    "- `solve()` : 역행렬 구하는 함수"
   ]
  },
  {
   "cell_type": "markdown",
   "id": "147d8e72-71f6-4722-bcea-da6f9c40d63b",
   "metadata": {},
   "source": [
    "- $\\widehat y = X \\widehat \\beta$"
   ]
  },
  {
   "cell_type": "code",
   "execution_count": 24,
   "id": "ae9b7500-a497-4a45-b66c-8387ce234e51",
   "metadata": {},
   "outputs": [
    {
     "data": {
      "text/html": [
       "<style>\n",
       ".list-inline {list-style: none; margin:0; padding: 0}\n",
       ".list-inline>li {display: inline-block}\n",
       ".list-inline>li:not(:last-child)::after {content: \"\\00b7\"; padding: 0 .5ex}\n",
       "</style>\n",
       "<ol class=list-inline><li>28.9410136806025</li><li>25.4842056605591</li><li>32.6590747685798</li><li>32.4065199998349</li><li>31.6304069906576</li></ol>\n"
      ],
      "text/latex": [
       "\\begin{enumerate*}\n",
       "\\item 28.9410136806025\n",
       "\\item 25.4842056605591\n",
       "\\item 32.6590747685798\n",
       "\\item 32.4065199998349\n",
       "\\item 31.6304069906576\n",
       "\\end{enumerate*}\n"
      ],
      "text/markdown": [
       "1. 28.9410136806025\n",
       "2. 25.4842056605591\n",
       "3. 32.6590747685798\n",
       "4. 32.4065199998349\n",
       "5. 31.6304069906576\n",
       "\n",
       "\n"
      ],
      "text/plain": [
       "[1] 28.94101 25.48421 32.65907 32.40652 31.63041"
      ]
     },
     "metadata": {},
     "output_type": "display_data"
    },
    {
     "data": {
      "text/html": [
       "<style>\n",
       ".dl-inline {width: auto; margin:0; padding: 0}\n",
       ".dl-inline>dt, .dl-inline>dd {float: none; width: auto; display: inline-block}\n",
       ".dl-inline>dt::after {content: \":\\0020\"; padding-right: .5ex}\n",
       ".dl-inline>dt:not(:first-of-type) {padding-left: .5ex}\n",
       "</style><dl class=dl-inline><dt>1</dt><dd>28.941013680603</dd><dt>2</dt><dd>25.4842056605591</dd><dt>3</dt><dd>32.6590747685798</dd><dt>4</dt><dd>32.4065199998349</dd><dt>5</dt><dd>31.6304069906576</dd></dl>\n"
      ],
      "text/latex": [
       "\\begin{description*}\n",
       "\\item[1] 28.941013680603\n",
       "\\item[2] 25.4842056605591\n",
       "\\item[3] 32.6590747685798\n",
       "\\item[4] 32.4065199998349\n",
       "\\item[5] 31.6304069906576\n",
       "\\end{description*}\n"
      ],
      "text/markdown": [
       "1\n",
       ":   28.9410136806032\n",
       ":   25.48420566055913\n",
       ":   32.65907476857984\n",
       ":   32.40651999983495\n",
       ":   31.6304069906576\n",
       "\n"
      ],
      "text/plain": [
       "       1        2        3        4        5 \n",
       "28.94101 25.48421 32.65907 32.40652 31.63041 "
      ]
     },
     "metadata": {},
     "output_type": "display_data"
    }
   ],
   "source": [
    "y_hat = X %*% beta_hat\n",
    "y_hat[1:5]\n",
    "fitted(fit_Boston)[1:5]"
   ]
  },
  {
   "cell_type": "markdown",
   "id": "88627506-34d1-4479-ba95-f8175608d91e",
   "metadata": {},
   "source": [
    "- y_hat[1:5] 과 fitted(fit_Boston)[1:5] 값이 동일한 것을 확인 가능"
   ]
  },
  {
   "cell_type": "code",
   "execution_count": 25,
   "id": "148bfec2-23e2-439d-a374-cbd750bf0fc0",
   "metadata": {},
   "outputs": [
    {
     "data": {
      "text/html": [
       "5.54025736698867"
      ],
      "text/latex": [
       "5.54025736698867"
      ],
      "text/markdown": [
       "5.54025736698867"
      ],
      "text/plain": [
       "[1] 5.540257"
      ]
     },
     "metadata": {},
     "output_type": "display_data"
    },
    {
     "data": {
      "text/html": [
       "5.54025736698867"
      ],
      "text/latex": [
       "5.54025736698867"
      ],
      "text/markdown": [
       "5.54025736698867"
      ],
      "text/plain": [
       "[1] 5.540257"
      ]
     },
     "metadata": {},
     "output_type": "display_data"
    }
   ],
   "source": [
    "sse <- sum((y - y_hat)^2) ##SSE\n",
    "sqrt(sse/(n-2-1)) ##RMSE\n",
    "summary(fit_Boston)$sigma"
   ]
  },
  {
   "cell_type": "markdown",
   "id": "e54fbec2-3c6f-47ef-9851-4ad67aa86add",
   "metadata": {},
   "source": [
    "- $SSE = \\sum (y_i - \\widehat y_i)^2$\n",
    "\n",
    "- $RMSE = \\sqrt{SSE/(n-p-1)} = \\widehat \\sigma$"
   ]
  },
  {
   "cell_type": "markdown",
   "id": "921c75c1-2e9c-4c27-87e5-a2081ce3cb49",
   "metadata": {},
   "source": [
    "## lm사용"
   ]
  },
  {
   "cell_type": "code",
   "execution_count": 27,
   "id": "d83ee6a3-97cc-4c49-812e-9d40a6db6891",
   "metadata": {},
   "outputs": [
    {
     "data": {
      "text/html": [
       "<table class=\"dataframe\">\n",
       "<caption>A data.frame: 6 × 3</caption>\n",
       "<thead>\n",
       "\t<tr><th></th><th scope=col>rm</th><th scope=col>lstat</th><th scope=col>medv</th></tr>\n",
       "\t<tr><th></th><th scope=col>&lt;dbl&gt;</th><th scope=col>&lt;dbl&gt;</th><th scope=col>&lt;dbl&gt;</th></tr>\n",
       "</thead>\n",
       "<tbody>\n",
       "\t<tr><th scope=row>1</th><td>6.575</td><td>4.98</td><td>24.0</td></tr>\n",
       "\t<tr><th scope=row>2</th><td>6.421</td><td>9.14</td><td>21.6</td></tr>\n",
       "\t<tr><th scope=row>3</th><td>7.185</td><td>4.03</td><td>34.7</td></tr>\n",
       "\t<tr><th scope=row>4</th><td>6.998</td><td>2.94</td><td>33.4</td></tr>\n",
       "\t<tr><th scope=row>5</th><td>7.147</td><td>5.33</td><td>36.2</td></tr>\n",
       "\t<tr><th scope=row>6</th><td>6.430</td><td>5.21</td><td>28.7</td></tr>\n",
       "</tbody>\n",
       "</table>\n"
      ],
      "text/latex": [
       "A data.frame: 6 × 3\n",
       "\\begin{tabular}{r|lll}\n",
       "  & rm & lstat & medv\\\\\n",
       "  & <dbl> & <dbl> & <dbl>\\\\\n",
       "\\hline\n",
       "\t1 & 6.575 & 4.98 & 24.0\\\\\n",
       "\t2 & 6.421 & 9.14 & 21.6\\\\\n",
       "\t3 & 7.185 & 4.03 & 34.7\\\\\n",
       "\t4 & 6.998 & 2.94 & 33.4\\\\\n",
       "\t5 & 7.147 & 5.33 & 36.2\\\\\n",
       "\t6 & 6.430 & 5.21 & 28.7\\\\\n",
       "\\end{tabular}\n"
      ],
      "text/markdown": [
       "\n",
       "A data.frame: 6 × 3\n",
       "\n",
       "| <!--/--> | rm &lt;dbl&gt; | lstat &lt;dbl&gt; | medv &lt;dbl&gt; |\n",
       "|---|---|---|---|\n",
       "| 1 | 6.575 | 4.98 | 24.0 |\n",
       "| 2 | 6.421 | 9.14 | 21.6 |\n",
       "| 3 | 7.185 | 4.03 | 34.7 |\n",
       "| 4 | 6.998 | 2.94 | 33.4 |\n",
       "| 5 | 7.147 | 5.33 | 36.2 |\n",
       "| 6 | 6.430 | 5.21 | 28.7 |\n",
       "\n"
      ],
      "text/plain": [
       "  rm    lstat medv\n",
       "1 6.575 4.98  24.0\n",
       "2 6.421 9.14  21.6\n",
       "3 7.185 4.03  34.7\n",
       "4 6.998 2.94  33.4\n",
       "5 7.147 5.33  36.2\n",
       "6 6.430 5.21  28.7"
      ]
     },
     "metadata": {},
     "output_type": "display_data"
    }
   ],
   "source": [
    "dt <- Boston[,which(names(Boston) %in% c('medv', 'rm', 'lstat'))]\n",
    "head(dt)"
   ]
  },
  {
   "cell_type": "code",
   "execution_count": 30,
   "id": "938a347b-b60c-42a7-975e-0d2a74690acf",
   "metadata": {},
   "outputs": [],
   "source": [
    "fit_Boston<-lm(medv~., data=dt)           # boston의 설명변수 13개 모두 다 사용하고 싶을때 (물결 뒤에 점을 찍어주기!!)\n",
    "fit_Boston<-lm(medv~rm+lstat, data=dt)    # 설명변수 중 원하는 것만 사용하고 싶을때"
   ]
  },
  {
   "cell_type": "code",
   "execution_count": 31,
   "id": "2ce1f5ee-a463-4956-8cc9-fb51ba48320f",
   "metadata": {},
   "outputs": [
    {
     "data": {
      "text/plain": [
       "\n",
       "Call:\n",
       "lm(formula = medv ~ rm + lstat, data = dt)\n",
       "\n",
       "Residuals:\n",
       "    Min      1Q  Median      3Q     Max \n",
       "-18.076  -3.516  -1.010   1.909  28.131 \n",
       "\n",
       "Coefficients:\n",
       "            Estimate Std. Error t value Pr(>|t|)    \n",
       "(Intercept) -1.35827    3.17283  -0.428    0.669    \n",
       "rm           5.09479    0.44447  11.463   <2e-16 ***\n",
       "lstat       -0.64236    0.04373 -14.689   <2e-16 ***\n",
       "---\n",
       "Signif. codes:  0 ‘***’ 0.001 ‘**’ 0.01 ‘*’ 0.05 ‘.’ 0.1 ‘ ’ 1\n",
       "\n",
       "Residual standard error: 5.54 on 503 degrees of freedom\n",
       "Multiple R-squared:  0.6386,\tAdjusted R-squared:  0.6371 \n",
       "F-statistic: 444.3 on 2 and 503 DF,  p-value: < 2.2e-16\n"
      ]
     },
     "metadata": {},
     "output_type": "display_data"
    }
   ],
   "source": [
    "summary(fit_Boston)"
   ]
  },
  {
   "cell_type": "markdown",
   "id": "96c5be19-7020-4852-8a30-ffe61843f2fd",
   "metadata": {},
   "source": [
    "- hat y = -1.3583 + 5.0948*rm - 0.6424*lstat"
   ]
  },
  {
   "cell_type": "markdown",
   "id": "82e51aa2-b953-418b-897b-ab182a4cb983",
   "metadata": {},
   "source": [
    "## 분산분석:회귀직선의 유의성 검정"
   ]
  },
  {
   "cell_type": "markdown",
   "id": "ebbd612d-7d5a-478d-b2cc-6c6ec9decd46",
   "metadata": {},
   "source": [
    "- $H_0: \\beta_1=\\beta_2=0$  vs  $H_1: \\beta_1 \\neq 0$ or $\\beta_2 \\neq 0$\n",
    "\n",
    "- $H_0$: 귀무가설, null hypothesis, 영가설   -> $y=\\beta_0$\n",
    "\n",
    "- $H_1$: 대립가설 -> $y= \\beta_0 + \\beta_1 x_1 + \\beta_2 x_2$"
   ]
  },
  {
   "cell_type": "code",
   "execution_count": 33,
   "id": "60ad467d-b960-4de0-bb4c-a9e3569ef265",
   "metadata": {},
   "outputs": [
    {
     "data": {
      "text/html": [
       "<table class=\"dataframe\">\n",
       "<caption>A anova: 3 × 5</caption>\n",
       "<thead>\n",
       "\t<tr><th></th><th scope=col>Df</th><th scope=col>Sum Sq</th><th scope=col>Mean Sq</th><th scope=col>F value</th><th scope=col>Pr(&gt;F)</th></tr>\n",
       "\t<tr><th></th><th scope=col>&lt;int&gt;</th><th scope=col>&lt;dbl&gt;</th><th scope=col>&lt;dbl&gt;</th><th scope=col>&lt;dbl&gt;</th><th scope=col>&lt;dbl&gt;</th></tr>\n",
       "</thead>\n",
       "<tbody>\n",
       "\t<tr><th scope=row>rm</th><td>  1</td><td>20654.42</td><td>20654.41622</td><td>672.9039</td><td>8.266887e-95</td></tr>\n",
       "\t<tr><th scope=row>lstat</th><td>  1</td><td> 6622.57</td><td> 6622.56999</td><td>215.7579</td><td>6.669365e-41</td></tr>\n",
       "\t<tr><th scope=row>Residuals</th><td>503</td><td>15439.31</td><td>   30.69445</td><td>      NA</td><td>          NA</td></tr>\n",
       "</tbody>\n",
       "</table>\n"
      ],
      "text/latex": [
       "A anova: 3 × 5\n",
       "\\begin{tabular}{r|lllll}\n",
       "  & Df & Sum Sq & Mean Sq & F value & Pr(>F)\\\\\n",
       "  & <int> & <dbl> & <dbl> & <dbl> & <dbl>\\\\\n",
       "\\hline\n",
       "\trm &   1 & 20654.42 & 20654.41622 & 672.9039 & 8.266887e-95\\\\\n",
       "\tlstat &   1 &  6622.57 &  6622.56999 & 215.7579 & 6.669365e-41\\\\\n",
       "\tResiduals & 503 & 15439.31 &    30.69445 &       NA &           NA\\\\\n",
       "\\end{tabular}\n"
      ],
      "text/markdown": [
       "\n",
       "A anova: 3 × 5\n",
       "\n",
       "| <!--/--> | Df &lt;int&gt; | Sum Sq &lt;dbl&gt; | Mean Sq &lt;dbl&gt; | F value &lt;dbl&gt; | Pr(&gt;F) &lt;dbl&gt; |\n",
       "|---|---|---|---|---|---|\n",
       "| rm |   1 | 20654.42 | 20654.41622 | 672.9039 | 8.266887e-95 |\n",
       "| lstat |   1 |  6622.57 |  6622.56999 | 215.7579 | 6.669365e-41 |\n",
       "| Residuals | 503 | 15439.31 |    30.69445 |       NA |           NA |\n",
       "\n"
      ],
      "text/plain": [
       "          Df  Sum Sq   Mean Sq     F value  Pr(>F)      \n",
       "rm          1 20654.42 20654.41622 672.9039 8.266887e-95\n",
       "lstat       1  6622.57  6622.56999 215.7579 6.669365e-41\n",
       "Residuals 503 15439.31    30.69445       NA           NA"
      ]
     },
     "metadata": {},
     "output_type": "display_data"
    }
   ],
   "source": [
    "anova(fit_Boston) ## XXX"
   ]
  },
  {
   "cell_type": "markdown",
   "id": "011cd5ea-4a0f-4f92-a5c2-c1f0b32494c8",
   "metadata": {},
   "source": [
    "- 설명변수가 두개로 쪼개져서 나온다."
   ]
  },
  {
   "cell_type": "code",
   "execution_count": 35,
   "id": "6ceda794-bc64-4c0b-8e36-f97a0072004b",
   "metadata": {},
   "outputs": [
    {
     "data": {
      "text/html": [
       "<table class=\"dataframe\">\n",
       "<caption>A anova: 2 × 6</caption>\n",
       "<thead>\n",
       "\t<tr><th></th><th scope=col>Res.Df</th><th scope=col>RSS</th><th scope=col>Df</th><th scope=col>Sum of Sq</th><th scope=col>F</th><th scope=col>Pr(&gt;F)</th></tr>\n",
       "\t<tr><th></th><th scope=col>&lt;dbl&gt;</th><th scope=col>&lt;dbl&gt;</th><th scope=col>&lt;dbl&gt;</th><th scope=col>&lt;dbl&gt;</th><th scope=col>&lt;dbl&gt;</th><th scope=col>&lt;dbl&gt;</th></tr>\n",
       "</thead>\n",
       "<tbody>\n",
       "\t<tr><th scope=row>1</th><td>505</td><td>42716.30</td><td>NA</td><td>      NA</td><td>      NA</td><td>           NA</td></tr>\n",
       "\t<tr><th scope=row>2</th><td>503</td><td>15439.31</td><td> 2</td><td>27276.99</td><td>444.3309</td><td>7.008455e-112</td></tr>\n",
       "</tbody>\n",
       "</table>\n"
      ],
      "text/latex": [
       "A anova: 2 × 6\n",
       "\\begin{tabular}{r|llllll}\n",
       "  & Res.Df & RSS & Df & Sum of Sq & F & Pr(>F)\\\\\n",
       "  & <dbl> & <dbl> & <dbl> & <dbl> & <dbl> & <dbl>\\\\\n",
       "\\hline\n",
       "\t1 & 505 & 42716.30 & NA &       NA &       NA &            NA\\\\\n",
       "\t2 & 503 & 15439.31 &  2 & 27276.99 & 444.3309 & 7.008455e-112\\\\\n",
       "\\end{tabular}\n"
      ],
      "text/markdown": [
       "\n",
       "A anova: 2 × 6\n",
       "\n",
       "| <!--/--> | Res.Df &lt;dbl&gt; | RSS &lt;dbl&gt; | Df &lt;dbl&gt; | Sum of Sq &lt;dbl&gt; | F &lt;dbl&gt; | Pr(&gt;F) &lt;dbl&gt; |\n",
       "|---|---|---|---|---|---|---|\n",
       "| 1 | 505 | 42716.30 | NA |       NA |       NA |            NA |\n",
       "| 2 | 503 | 15439.31 |  2 | 27276.99 | 444.3309 | 7.008455e-112 |\n",
       "\n"
      ],
      "text/plain": [
       "  Res.Df RSS      Df Sum of Sq F        Pr(>F)       \n",
       "1 505    42716.30 NA       NA        NA            NA\n",
       "2 503    15439.31  2 27276.99  444.3309 7.008455e-112"
      ]
     },
     "metadata": {},
     "output_type": "display_data"
    }
   ],
   "source": [
    "null_model <- lm(medv~1, data=dt)  #H0\n",
    "fit_Boston <- lm(medv~., data=dt)  #H1\n",
    "\n",
    "anova(null_model, fit_Boston) ##***"
   ]
  },
  {
   "cell_type": "markdown",
   "id": "321c233d-387b-4292-b4da-13894fea4091",
   "metadata": {},
   "source": [
    "- `null_model` : 설명모델을 안쓰고 절편만 가져가는 모델. 1만 쓴다.(절편만)\n",
    "\n",
    "- `RSS`의 $15439.31=SSE=\\sum(y_i - \\widehat y_i)^2$이고 $42716.30 = \\sum(y_i - \\bar y)^2=SST$\n",
    "\n",
    "- SST와 SSE를 비교해서 적합이 잘 되어있는지 확인\n",
    "\n",
    "- `Sum of Sq`의 $27276.99=SSR$\n",
    "\n",
    "- `F` =  $\\dfrac{SSR/P}{SSE/(n-p-1)}$"
   ]
  },
  {
   "cell_type": "markdown",
   "id": "a7455a03-691f-477c-94e1-028b556a65d4",
   "metadata": {},
   "source": [
    "## $\\beta$의 신뢰구간 "
   ]
  },
  {
   "cell_type": "markdown",
   "id": "485c62a1-4193-4da9-9546-c3b238471138",
   "metadata": {},
   "source": [
    "$\\widehat \\beta_i  \\pm t_{a/2} (n-p-1) \\widehat{s.e}(\\widehat \\beta_i)$"
   ]
  },
  {
   "cell_type": "code",
   "execution_count": 38,
   "id": "c527dd35-1861-4b42-ae5f-663a107b4635",
   "metadata": {},
   "outputs": [
    {
     "data": {
      "text/html": [
       "<table class=\"dataframe\">\n",
       "<caption>A matrix: 3 × 3 of type dbl</caption>\n",
       "<thead>\n",
       "\t<tr><th></th><th scope=col>(Intercept)</th><th scope=col>rm</th><th scope=col>lstat</th></tr>\n",
       "</thead>\n",
       "<tbody>\n",
       "\t<tr><th scope=row>(Intercept)</th><td>10.06683612</td><td>-1.39248641</td><td>-0.099178133</td></tr>\n",
       "\t<tr><th scope=row>rm</th><td>-1.39248641</td><td> 0.19754958</td><td> 0.011930670</td></tr>\n",
       "\t<tr><th scope=row>lstat</th><td>-0.09917813</td><td> 0.01193067</td><td> 0.001912441</td></tr>\n",
       "</tbody>\n",
       "</table>\n"
      ],
      "text/latex": [
       "A matrix: 3 × 3 of type dbl\n",
       "\\begin{tabular}{r|lll}\n",
       "  & (Intercept) & rm & lstat\\\\\n",
       "\\hline\n",
       "\t(Intercept) & 10.06683612 & -1.39248641 & -0.099178133\\\\\n",
       "\trm & -1.39248641 &  0.19754958 &  0.011930670\\\\\n",
       "\tlstat & -0.09917813 &  0.01193067 &  0.001912441\\\\\n",
       "\\end{tabular}\n"
      ],
      "text/markdown": [
       "\n",
       "A matrix: 3 × 3 of type dbl\n",
       "\n",
       "| <!--/--> | (Intercept) | rm | lstat |\n",
       "|---|---|---|---|\n",
       "| (Intercept) | 10.06683612 | -1.39248641 | -0.099178133 |\n",
       "| rm | -1.39248641 |  0.19754958 |  0.011930670 |\n",
       "| lstat | -0.09917813 |  0.01193067 |  0.001912441 |\n",
       "\n"
      ],
      "text/plain": [
       "            (Intercept) rm          lstat       \n",
       "(Intercept) 10.06683612 -1.39248641 -0.099178133\n",
       "rm          -1.39248641  0.19754958  0.011930670\n",
       "lstat       -0.09917813  0.01193067  0.001912441"
      ]
     },
     "metadata": {},
     "output_type": "display_data"
    }
   ],
   "source": [
    "vcov(fit_Boston)  ##var(hat beta) = (X^TX)^-1 \\sigma^2"
   ]
  },
  {
   "cell_type": "markdown",
   "id": "58b1ed7e-4820-4ec8-b556-60c86c8daff4",
   "metadata": {},
   "source": [
    "- 공분산 행렬 값\n",
    "\n",
    "- $Var(\\widehat \\beta_1)=0.19754958, Var(\\widehat \\beta_2)= 0.001912441$"
   ]
  },
  {
   "cell_type": "code",
   "execution_count": 39,
   "id": "d951577f-69e6-4bbc-a237-4c6582c8d55a",
   "metadata": {},
   "outputs": [
    {
     "data": {
      "text/html": [
       "<table class=\"dataframe\">\n",
       "<caption>A matrix: 3 × 2 of type dbl</caption>\n",
       "<thead>\n",
       "\t<tr><th></th><th scope=col>5 %</th><th scope=col>95 %</th></tr>\n",
       "</thead>\n",
       "<tbody>\n",
       "\t<tr><th scope=row>(Intercept)</th><td>-6.5867396</td><td> 3.8701939</td></tr>\n",
       "\t<tr><th scope=row>rm</th><td> 4.3623583</td><td> 5.8272176</td></tr>\n",
       "\t<tr><th scope=row>lstat</th><td>-0.7144229</td><td>-0.5702938</td></tr>\n",
       "</tbody>\n",
       "</table>\n"
      ],
      "text/latex": [
       "A matrix: 3 × 2 of type dbl\n",
       "\\begin{tabular}{r|ll}\n",
       "  & 5 \\% & 95 \\%\\\\\n",
       "\\hline\n",
       "\t(Intercept) & -6.5867396 &  3.8701939\\\\\n",
       "\trm &  4.3623583 &  5.8272176\\\\\n",
       "\tlstat & -0.7144229 & -0.5702938\\\\\n",
       "\\end{tabular}\n"
      ],
      "text/markdown": [
       "\n",
       "A matrix: 3 × 2 of type dbl\n",
       "\n",
       "| <!--/--> | 5 % | 95 % |\n",
       "|---|---|---|\n",
       "| (Intercept) | -6.5867396 |  3.8701939 |\n",
       "| rm |  4.3623583 |  5.8272176 |\n",
       "| lstat | -0.7144229 | -0.5702938 |\n",
       "\n"
      ],
      "text/plain": [
       "            5 %        95 %      \n",
       "(Intercept) -6.5867396  3.8701939\n",
       "rm           4.3623583  5.8272176\n",
       "lstat       -0.7144229 -0.5702938"
      ]
     },
     "metadata": {},
     "output_type": "display_data"
    },
    {
     "data": {
      "text/html": [
       "<style>\n",
       ".dl-inline {width: auto; margin:0; padding: 0}\n",
       ".dl-inline>dt, .dl-inline>dd {float: none; width: auto; display: inline-block}\n",
       ".dl-inline>dt::after {content: \":\\0020\"; padding-right: .5ex}\n",
       ".dl-inline>dt:not(:first-of-type) {padding-left: .5ex}\n",
       "</style><dl class=dl-inline><dt>(Intercept)</dt><dd>4.87535465808391</dd><dt>rm</dt><dd>5.9680255329079</dd><dt>lstat</dt><dd>-0.556439501179164</dd></dl>\n"
      ],
      "text/latex": [
       "\\begin{description*}\n",
       "\\item[(Intercept)] 4.87535465808391\n",
       "\\item[rm] 5.9680255329079\n",
       "\\item[lstat] -0.556439501179164\n",
       "\\end{description*}\n"
      ],
      "text/markdown": [
       "(Intercept)\n",
       ":   4.87535465808391rm\n",
       ":   5.9680255329079lstat\n",
       ":   -0.556439501179164\n",
       "\n"
      ],
      "text/plain": [
       "(Intercept)          rm       lstat \n",
       "  4.8753547   5.9680255  -0.5564395 "
      ]
     },
     "metadata": {},
     "output_type": "display_data"
    },
    {
     "data": {
      "text/html": [
       "<style>\n",
       ".dl-inline {width: auto; margin:0; padding: 0}\n",
       ".dl-inline>dt, .dl-inline>dd {float: none; width: auto; display: inline-block}\n",
       ".dl-inline>dt::after {content: \":\\0020\"; padding-right: .5ex}\n",
       ".dl-inline>dt:not(:first-of-type) {padding-left: .5ex}\n",
       "</style><dl class=dl-inline><dt>(Intercept)</dt><dd>-7.59190028183295</dd><dt>rm</dt><dd>4.22155043576519</dd><dt>lstat</dt><dd>-0.728277167309094</dd></dl>\n"
      ],
      "text/latex": [
       "\\begin{description*}\n",
       "\\item[(Intercept)] -7.59190028183295\n",
       "\\item[rm] 4.22155043576519\n",
       "\\item[lstat] -0.728277167309094\n",
       "\\end{description*}\n"
      ],
      "text/markdown": [
       "(Intercept)\n",
       ":   -7.59190028183295rm\n",
       ":   4.22155043576519lstat\n",
       ":   -0.728277167309094\n",
       "\n"
      ],
      "text/plain": [
       "(Intercept)          rm       lstat \n",
       " -7.5919003   4.2215504  -0.7282772 "
      ]
     },
     "metadata": {},
     "output_type": "display_data"
    }
   ],
   "source": [
    "#코드\n",
    "confint(fit_Boston, level = 0.90)\n",
    "\n",
    "#수식(직접계산)\n",
    "coef(fit_Boston) + qt(0.975, 503) * summary(fit_Boston)$coef[,2]\n",
    "coef(fit_Boston) - qt(0.975, 503) * summary(fit_Boston)$coef[,2]"
   ]
  },
  {
   "cell_type": "markdown",
   "id": "be1f8a8c-f157-4eb6-80b9-d8d6a6f5f8ba",
   "metadata": {},
   "source": [
    "- $n=506, p=2$\n",
    "\n",
    "- `summary(fit_Boston)$coef[,2]` : s.e"
   ]
  },
  {
   "cell_type": "markdown",
   "id": "24870e50-ec73-4207-a81a-1b3b71160935",
   "metadata": {},
   "source": [
    "## 평균반응, 개별 y 추정"
   ]
  },
  {
   "cell_type": "markdown",
   "id": "047f1430-f269-41d4-b64f-535ecb5abc6d",
   "metadata": {},
   "source": [
    "-  E(Y|x0), y = E(Y|x0) + epsilon"
   ]
  },
  {
   "cell_type": "code",
   "execution_count": 40,
   "id": "f7d73639-ccaf-4159-9b61-80dc5d1e6d73",
   "metadata": {},
   "outputs": [],
   "source": [
    "new_dt <- data.frame(rm=7, lstat=10)"
   ]
  },
  {
   "cell_type": "code",
   "execution_count": 42,
   "id": "266306de-6022-4901-a678-6a4714df6e14",
   "metadata": {},
   "outputs": [
    {
     "data": {
      "text/html": [
       "<strong>1:</strong> 27.88165973604"
      ],
      "text/latex": [
       "\\textbf{1:} 27.88165973604"
      ],
      "text/markdown": [
       "**1:** 27.88165973604"
      ],
      "text/plain": [
       "       1 \n",
       "27.88166 "
      ]
     },
     "metadata": {},
     "output_type": "display_data"
    },
    {
     "data": {
      "text/html": [
       "<table class=\"dataframe\">\n",
       "<caption>A matrix: 1 × 1 of type dbl</caption>\n",
       "<tbody>\n",
       "\t<tr><td>27.88166</td></tr>\n",
       "</tbody>\n",
       "</table>\n"
      ],
      "text/latex": [
       "A matrix: 1 × 1 of type dbl\n",
       "\\begin{tabular}{l}\n",
       "\t 27.88166\\\\\n",
       "\\end{tabular}\n"
      ],
      "text/markdown": [
       "\n",
       "A matrix: 1 × 1 of type dbl\n",
       "\n",
       "| 27.88166 |\n",
       "\n"
      ],
      "text/plain": [
       "     [,1]    \n",
       "[1,] 27.88166"
      ]
     },
     "metadata": {},
     "output_type": "display_data"
    }
   ],
   "source": [
    "predict(fit_Boston, newdata = new_dt)\n",
    "c(1,7,10)%*%beta_hat  # hat y0 = -1.3583 + 5.0948*7 - 0.6424*10"
   ]
  },
  {
   "cell_type": "markdown",
   "id": "9c943801-d58e-4d85-a9d5-2ac564c850f3",
   "metadata": {},
   "source": [
    "- $x_{0}=\\begin{pmatrix} 1 \\\\ 7 \\\\ 10 \\end{pmatrix}, \\widehat{y}_{0}=x_{0}^{T}\\beta$"
   ]
  },
  {
   "cell_type": "code",
   "execution_count": 43,
   "id": "b9455ff6-d8e9-44b6-8109-a2f196a461c7",
   "metadata": {},
   "outputs": [
    {
     "data": {
      "text/html": [
       "<table class=\"dataframe\">\n",
       "<caption>A matrix: 1 × 3 of type dbl</caption>\n",
       "<thead>\n",
       "\t<tr><th></th><th scope=col>fit</th><th scope=col>lwr</th><th scope=col>upr</th></tr>\n",
       "</thead>\n",
       "<tbody>\n",
       "\t<tr><th scope=row>1</th><td>27.88166</td><td>27.17347</td><td>28.58985</td></tr>\n",
       "</tbody>\n",
       "</table>\n"
      ],
      "text/latex": [
       "A matrix: 1 × 3 of type dbl\n",
       "\\begin{tabular}{r|lll}\n",
       "  & fit & lwr & upr\\\\\n",
       "\\hline\n",
       "\t1 & 27.88166 & 27.17347 & 28.58985\\\\\n",
       "\\end{tabular}\n"
      ],
      "text/markdown": [
       "\n",
       "A matrix: 1 × 3 of type dbl\n",
       "\n",
       "| <!--/--> | fit | lwr | upr |\n",
       "|---|---|---|---|\n",
       "| 1 | 27.88166 | 27.17347 | 28.58985 |\n",
       "\n"
      ],
      "text/plain": [
       "  fit      lwr      upr     \n",
       "1 27.88166 27.17347 28.58985"
      ]
     },
     "metadata": {},
     "output_type": "display_data"
    }
   ],
   "source": [
    "predict(fit_Boston, \n",
    "        newdata = new_dt,\n",
    "        interval = c(\"confidence\"), \n",
    "        level = 0.95)  ##평균반응"
   ]
  },
  {
   "cell_type": "code",
   "execution_count": 44,
   "id": "342fad34-793e-4cd0-8790-ecdecb172fff",
   "metadata": {},
   "outputs": [
    {
     "data": {
      "text/html": [
       "<table class=\"dataframe\">\n",
       "<caption>A matrix: 1 × 3 of type dbl</caption>\n",
       "<thead>\n",
       "\t<tr><th></th><th scope=col>fit</th><th scope=col>lwr</th><th scope=col>upr</th></tr>\n",
       "</thead>\n",
       "<tbody>\n",
       "\t<tr><th scope=row>1</th><td>27.88166</td><td>16.97375</td><td>38.78957</td></tr>\n",
       "</tbody>\n",
       "</table>\n"
      ],
      "text/latex": [
       "A matrix: 1 × 3 of type dbl\n",
       "\\begin{tabular}{r|lll}\n",
       "  & fit & lwr & upr\\\\\n",
       "\\hline\n",
       "\t1 & 27.88166 & 16.97375 & 38.78957\\\\\n",
       "\\end{tabular}\n"
      ],
      "text/markdown": [
       "\n",
       "A matrix: 1 × 3 of type dbl\n",
       "\n",
       "| <!--/--> | fit | lwr | upr |\n",
       "|---|---|---|---|\n",
       "| 1 | 27.88166 | 16.97375 | 38.78957 |\n",
       "\n"
      ],
      "text/plain": [
       "  fit      lwr      upr     \n",
       "1 27.88166 16.97375 38.78957"
      ]
     },
     "metadata": {},
     "output_type": "display_data"
    }
   ],
   "source": [
    "predict(fit_Boston, newdata = new_dt, \n",
    "        interval = c(\"prediction\"), \n",
    "        level = 0.95)  ## 개별 y"
   ]
  },
  {
   "cell_type": "markdown",
   "id": "85a58284-0db1-42e0-9104-3352a98180e9",
   "metadata": {},
   "source": [
    "## 절편을 포함하지 않는 회귀직선 (원점을 지나는 회귀직선)"
   ]
  },
  {
   "cell_type": "markdown",
   "id": "d8624e14-ea15-462b-b53d-73882ab5dd77",
   "metadata": {},
   "source": [
    "- $y=\\beta_1 x_1 + \\beta_2 x_2$"
   ]
  },
  {
   "cell_type": "code",
   "execution_count": 45,
   "id": "3842f654-7909-4a94-900b-c1eeb6635110",
   "metadata": {},
   "outputs": [
    {
     "data": {
      "text/plain": [
       "\n",
       "Call:\n",
       "lm(formula = medv ~ 0 + rm + lstat, data = dt)\n",
       "\n",
       "Residuals:\n",
       "    Min      1Q  Median      3Q     Max \n",
       "-17.714  -3.498  -1.075   1.877  27.750 \n",
       "\n",
       "Coefficients:\n",
       "      Estimate Std. Error t value Pr(>|t|)    \n",
       "rm     4.90691    0.07019   69.91   <2e-16 ***\n",
       "lstat -0.65574    0.03056  -21.46   <2e-16 ***\n",
       "---\n",
       "Signif. codes:  0 ‘***’ 0.001 ‘**’ 0.01 ‘*’ 0.05 ‘.’ 0.1 ‘ ’ 1\n",
       "\n",
       "Residual standard error: 5.536 on 504 degrees of freedom\n",
       "Multiple R-squared:  0.9485,\tAdjusted R-squared:  0.9482 \n",
       "F-statistic:  4637 on 2 and 504 DF,  p-value: < 2.2e-16\n"
      ]
     },
     "metadata": {},
     "output_type": "display_data"
    },
    {
     "data": {
      "text/plain": [
       "\n",
       "Call:\n",
       "lm(formula = medv ~ ., data = dt)\n",
       "\n",
       "Residuals:\n",
       "    Min      1Q  Median      3Q     Max \n",
       "-18.076  -3.516  -1.010   1.909  28.131 \n",
       "\n",
       "Coefficients:\n",
       "            Estimate Std. Error t value Pr(>|t|)    \n",
       "(Intercept) -1.35827    3.17283  -0.428    0.669    \n",
       "rm           5.09479    0.44447  11.463   <2e-16 ***\n",
       "lstat       -0.64236    0.04373 -14.689   <2e-16 ***\n",
       "---\n",
       "Signif. codes:  0 ‘***’ 0.001 ‘**’ 0.01 ‘*’ 0.05 ‘.’ 0.1 ‘ ’ 1\n",
       "\n",
       "Residual standard error: 5.54 on 503 degrees of freedom\n",
       "Multiple R-squared:  0.6386,\tAdjusted R-squared:  0.6371 \n",
       "F-statistic: 444.3 on 2 and 503 DF,  p-value: < 2.2e-16\n"
      ]
     },
     "metadata": {},
     "output_type": "display_data"
    }
   ],
   "source": [
    "fit_Boston0 <- lm(medv ~ 0 + rm + lstat, dt)\n",
    "summary(fit_Boston0)\n",
    "summary(fit_Boston)"
   ]
  },
  {
   "cell_type": "markdown",
   "id": "e99cc2f7-bda1-46c5-8c90-452e047055da",
   "metadata": {},
   "source": [
    "- $Adjusted R-squared: 0.9482$ vs $0.6371$\n",
    "\n",
    "- $R^2=\\dfrac{SSR}{SST}=\\dfrac{\\sum(\\widehat y_i - \\bar y)^2}{\\sum(y_i-\\bar y)^2}$=$\\dfrac{설명변수 없을때와 있을때의 차이}{y의변동이 평균으로부터 얼마나 떨어져 있는지}$\n",
    "\n",
    "- 절편이 없는 모형의 $R^2=\\dfrac{\\sum(\\widehat y_i - 0)^2}{\\sum(y_i-0)^2}$: 원점으로부터 얼마나 떨어져있는가. 기본적으로 엄청 큰 값을 가지게 된다.\n",
    "\n",
    "> 절편이 있다 vs 절편이 없다 에서는 $R^2$과 $RMSE=\\widehat \\sigma$를 확인해주는 게 좋다.\n",
    ">\n",
    "> RMSE비교 $5.536$ vs $5.54$  -> 별로 차이가 없네?"
   ]
  },
  {
   "cell_type": "markdown",
   "id": "55de4cfe-9154-4729-8b64-ba8ff2ca29e8",
   "metadata": {},
   "source": [
    "## 잔차분석 "
   ]
  },
  {
   "cell_type": "markdown",
   "id": "25492e05-901e-49c2-8505-0b7736e425cf",
   "metadata": {},
   "source": [
    "- epsilon : 선형성, 등분산성, 정규성, 독립성 "
   ]
  },
  {
   "cell_type": "code",
   "execution_count": 46,
   "id": "35f11dec-01c7-4567-a896-f6d269fed86e",
   "metadata": {},
   "outputs": [],
   "source": [
    "yhat <- fitted(fit_Boston)\n",
    "res <- resid(fit_Boston)"
   ]
  },
  {
   "cell_type": "code",
   "execution_count": 48,
   "id": "41cd9402-42d3-470b-9888-747b35d84fa3",
   "metadata": {},
   "outputs": [
    {
     "data": {
      "image/png": "[encoded data removed]",
      "text/plain": [
       "plot without title"
      ]
     },
     "metadata": {
      "image/png": {
       "height": 420,
       "width": 420
      }
     },
     "output_type": "display_data"
    }
   ],
   "source": [
    "plot(res ~ yhat,pch=16, ylab = 'Residual')\n",
    "abline(h=0, lty=2, col='grey')"
   ]
  },
  {
   "cell_type": "markdown",
   "id": "a12131f6-54ea-4858-a5a1-62ebdbdaf886",
   "metadata": {},
   "source": [
    "- 선형성 애매함 "
   ]
  },
  {
   "cell_type": "markdown",
   "id": "77e41d8c-ddb3-4b9e-9fc4-dd18dd47184b",
   "metadata": {
    "tags": []
   },
   "source": [
    "### 등분산성 "
   ]
  },
  {
   "cell_type": "markdown",
   "id": "005fa485-baba-40d9-bfe1-c71dd23cb70b",
   "metadata": {},
   "source": [
    "- H0 : 등분산  vs.  H1 : 이분산 (Heteroscedasticity)"
   ]
  },
  {
   "cell_type": "code",
   "execution_count": 49,
   "id": "f09d44f6-dd64-4f98-bd71-260c9af997f7",
   "metadata": {},
   "outputs": [
    {
     "data": {
      "text/plain": [
       "\n",
       "\tstudentized Breusch-Pagan test\n",
       "\n",
       "data:  fit_Boston\n",
       "BP = 1.5297, df = 2, p-value = 0.4654\n"
      ]
     },
     "metadata": {},
     "output_type": "display_data"
    }
   ],
   "source": [
    "bptest(fit_Boston)"
   ]
  },
  {
   "cell_type": "markdown",
   "id": "b37e57fc-5bf0-4f3a-a523-5d6d645c577a",
   "metadata": {},
   "source": [
    "- p-value가 커서 기각을 못했다. 즉 등분산이다."
   ]
  },
  {
   "cell_type": "markdown",
   "id": "f0922c43-1b74-4e5f-bdda-1eb78bb43adf",
   "metadata": {},
   "source": [
    "### 정규성"
   ]
  },
  {
   "cell_type": "markdown",
   "id": "ac42aada-c2cf-4f84-8087-88599c44bd7c",
   "metadata": {},
   "source": [
    "- 잔차의 QQ plot"
   ]
  },
  {
   "cell_type": "code",
   "execution_count": 51,
   "id": "765052f8-8a0e-4915-84c2-1e10e8a57f21",
   "metadata": {},
   "outputs": [
    {
     "data": {
      "image/png": "[encoded data removed]",
      "text/plain": [
       "Plot with title “Histogram of res”"
      ]
     },
     "metadata": {
      "image/png": {
       "height": 420,
       "width": 420
      }
     },
     "output_type": "display_data"
    }
   ],
   "source": [
    "par(mfrow=c(1,2))\n",
    "qqnorm(res, pch=16)\n",
    "qqline(res, col = 2)\n",
    "\n",
    "hist(res)\n",
    "par(mfrow=c(1,1))"
   ]
  },
  {
   "cell_type": "markdown",
   "id": "eeab7662-ba3c-40f4-a968-8a5b14aaaf7d",
   "metadata": {},
   "source": [
    "- 이상치가 있는 듯 하다ㅡ"
   ]
  },
  {
   "cell_type": "markdown",
   "id": "95397631-a21a-41a2-a3c5-48f94fcaaa43",
   "metadata": {},
   "source": [
    "- Shapiro-Wilk Test"
   ]
  },
  {
   "cell_type": "code",
   "execution_count": 55,
   "id": "5e737844-c3ea-4fea-ac2c-9ded138a8eaa",
   "metadata": {},
   "outputs": [
    {
     "data": {
      "text/plain": [
       "\n",
       "\tShapiro-Wilk normality test\n",
       "\n",
       "data:  res\n",
       "W = 0.9098, p-value < 2.2e-16\n"
      ]
     },
     "metadata": {},
     "output_type": "display_data"
    }
   ],
   "source": [
    "\n",
    "## H0 : normal distribution  vs. H1 : not H0\n",
    "shapiro.test(res)"
   ]
  },
  {
   "cell_type": "markdown",
   "id": "7b3dfd35-1513-4dad-a00d-dd6ed32db910",
   "metadata": {},
   "source": [
    "- 정규분포 아니다"
   ]
  },
  {
   "cell_type": "markdown",
   "id": "8920c3a7-700c-4ed4-b28e-2c97f25f97d9",
   "metadata": {},
   "source": [
    "### 독립성 검정  DW test"
   ]
  },
  {
   "cell_type": "markdown",
   "id": "9d0f0215-7449-48bb-baca-486da076f3ec",
   "metadata": {},
   "source": [
    "- H0 : uncorrelated vs H1 : rho != 0"
   ]
  },
  {
   "cell_type": "code",
   "execution_count": 54,
   "id": "5dc9dde7-8bdc-4598-93db-1561a3cec2b0",
   "metadata": {},
   "outputs": [
    {
     "data": {
      "text/plain": [
       "\n",
       "\tDurbin-Watson test\n",
       "\n",
       "data:  fit_Boston\n",
       "DW = 0.83421, p-value < 2.2e-16\n",
       "alternative hypothesis: true autocorrelation is not 0\n"
      ]
     },
     "metadata": {},
     "output_type": "display_data"
    }
   ],
   "source": [
    "dwtest(fit_Boston, alternative = \"two.sided\") "
   ]
  },
  {
   "cell_type": "markdown",
   "id": "70949373-7351-45fb-b9dd-43ee51da337f",
   "metadata": {},
   "source": [
    "- 독립이라고 할 수 없다."
   ]
  },
  {
   "cell_type": "markdown",
   "id": "7744d5f8-7c9d-4514-9946-576790298879",
   "metadata": {},
   "source": [
    "## 가설검정: FM, RM"
   ]
  },
  {
   "cell_type": "code",
   "execution_count": 56,
   "id": "4eee6fad-5188-4b7b-957b-78ab401e25ba",
   "metadata": {},
   "outputs": [],
   "source": [
    "reduced_model = lm(medv ~ rm+lstat, data = Boston) #(q=2) \n",
    "full_model = lm(medv ~ ., data=Boston) #(P=13) full model\n",
    "\n",
    "# r=p-q=11"
   ]
  },
  {
   "cell_type": "code",
   "execution_count": 57,
   "id": "f2ddeb4b-d002-40e8-b842-1bfbaae94499",
   "metadata": {},
   "outputs": [
    {
     "data": {
      "text/plain": [
       "\n",
       "Call:\n",
       "lm(formula = medv ~ ., data = Boston)\n",
       "\n",
       "Residuals:\n",
       "    Min      1Q  Median      3Q     Max \n",
       "-15.595  -2.730  -0.518   1.777  26.199 \n",
       "\n",
       "Coefficients:\n",
       "              Estimate Std. Error t value Pr(>|t|)    \n",
       "(Intercept)  3.646e+01  5.103e+00   7.144 3.28e-12 ***\n",
       "crim        -1.080e-01  3.286e-02  -3.287 0.001087 ** \n",
       "zn           4.642e-02  1.373e-02   3.382 0.000778 ***\n",
       "indus        2.056e-02  6.150e-02   0.334 0.738288    \n",
       "chas         2.687e+00  8.616e-01   3.118 0.001925 ** \n",
       "nox         -1.777e+01  3.820e+00  -4.651 4.25e-06 ***\n",
       "rm           3.810e+00  4.179e-01   9.116  < 2e-16 ***\n",
       "age          6.922e-04  1.321e-02   0.052 0.958229    \n",
       "dis         -1.476e+00  1.995e-01  -7.398 6.01e-13 ***\n",
       "rad          3.060e-01  6.635e-02   4.613 5.07e-06 ***\n",
       "tax         -1.233e-02  3.760e-03  -3.280 0.001112 ** \n",
       "ptratio     -9.527e-01  1.308e-01  -7.283 1.31e-12 ***\n",
       "black        9.312e-03  2.686e-03   3.467 0.000573 ***\n",
       "lstat       -5.248e-01  5.072e-02 -10.347  < 2e-16 ***\n",
       "---\n",
       "Signif. codes:  0 ‘***’ 0.001 ‘**’ 0.01 ‘*’ 0.05 ‘.’ 0.1 ‘ ’ 1\n",
       "\n",
       "Residual standard error: 4.745 on 492 degrees of freedom\n",
       "Multiple R-squared:  0.7406,\tAdjusted R-squared:  0.7338 \n",
       "F-statistic: 108.1 on 13 and 492 DF,  p-value: < 2.2e-16\n"
      ]
     },
     "metadata": {},
     "output_type": "display_data"
    },
    {
     "data": {
      "text/plain": [
       "\n",
       "Call:\n",
       "lm(formula = medv ~ rm + lstat, data = Boston)\n",
       "\n",
       "Residuals:\n",
       "    Min      1Q  Median      3Q     Max \n",
       "-18.076  -3.516  -1.010   1.909  28.131 \n",
       "\n",
       "Coefficients:\n",
       "            Estimate Std. Error t value Pr(>|t|)    \n",
       "(Intercept) -1.35827    3.17283  -0.428    0.669    \n",
       "rm           5.09479    0.44447  11.463   <2e-16 ***\n",
       "lstat       -0.64236    0.04373 -14.689   <2e-16 ***\n",
       "---\n",
       "Signif. codes:  0 ‘***’ 0.001 ‘**’ 0.01 ‘*’ 0.05 ‘.’ 0.1 ‘ ’ 1\n",
       "\n",
       "Residual standard error: 5.54 on 503 degrees of freedom\n",
       "Multiple R-squared:  0.6386,\tAdjusted R-squared:  0.6371 \n",
       "F-statistic: 444.3 on 2 and 503 DF,  p-value: < 2.2e-16\n"
      ]
     },
     "metadata": {},
     "output_type": "display_data"
    }
   ],
   "source": [
    "summary(full_model)\n",
    "summary(reduced_model)"
   ]
  },
  {
   "cell_type": "markdown",
   "id": "b028ab72-c8ae-4781-b193-931cd988446a",
   "metadata": {},
   "source": [
    "- reduced_model보다는 full_model이 더 좋아 보인다. (R^2와 RMSE확인햇을떄)\n",
    "\n",
    "- 13개 중 11개 변수가 유의함을 확인 가능"
   ]
  },
  {
   "cell_type": "markdown",
   "id": "fb522179-9e3e-440d-a988-72d85fa205ad",
   "metadata": {},
   "source": [
    "### 가설검정"
   ]
  },
  {
   "cell_type": "markdown",
   "id": "45ddcd42-0e58-40c5-9923-810cbe3775cd",
   "metadata": {},
   "source": [
    "RM : $H_0: \\beta_1= \\dots = \\beta_5 = \\beta_7 = \\dots = \\beta_{12} = 0$"
   ]
  },
  {
   "cell_type": "code",
   "execution_count": 59,
   "id": "7c694b33-d17a-4249-95f2-2b6460d7ff2f",
   "metadata": {},
   "outputs": [
    {
     "data": {
      "text/html": [
       "<table class=\"dataframe\">\n",
       "<caption>A anova: 2 × 6</caption>\n",
       "<thead>\n",
       "\t<tr><th></th><th scope=col>Res.Df</th><th scope=col>RSS</th><th scope=col>Df</th><th scope=col>Sum of Sq</th><th scope=col>F</th><th scope=col>Pr(&gt;F)</th></tr>\n",
       "\t<tr><th></th><th scope=col>&lt;dbl&gt;</th><th scope=col>&lt;dbl&gt;</th><th scope=col>&lt;dbl&gt;</th><th scope=col>&lt;dbl&gt;</th><th scope=col>&lt;dbl&gt;</th><th scope=col>&lt;dbl&gt;</th></tr>\n",
       "</thead>\n",
       "<tbody>\n",
       "\t<tr><th scope=row>1</th><td>503</td><td>15439.31</td><td>NA</td><td>      NA</td><td>      NA</td><td>          NA</td></tr>\n",
       "\t<tr><th scope=row>2</th><td>492</td><td>11078.78</td><td>11</td><td>4360.525</td><td>17.60431</td><td>1.425983e-29</td></tr>\n",
       "</tbody>\n",
       "</table>\n"
      ],
      "text/latex": [
       "A anova: 2 × 6\n",
       "\\begin{tabular}{r|llllll}\n",
       "  & Res.Df & RSS & Df & Sum of Sq & F & Pr(>F)\\\\\n",
       "  & <dbl> & <dbl> & <dbl> & <dbl> & <dbl> & <dbl>\\\\\n",
       "\\hline\n",
       "\t1 & 503 & 15439.31 & NA &       NA &       NA &           NA\\\\\n",
       "\t2 & 492 & 11078.78 & 11 & 4360.525 & 17.60431 & 1.425983e-29\\\\\n",
       "\\end{tabular}\n"
      ],
      "text/markdown": [
       "\n",
       "A anova: 2 × 6\n",
       "\n",
       "| <!--/--> | Res.Df &lt;dbl&gt; | RSS &lt;dbl&gt; | Df &lt;dbl&gt; | Sum of Sq &lt;dbl&gt; | F &lt;dbl&gt; | Pr(&gt;F) &lt;dbl&gt; |\n",
       "|---|---|---|---|---|---|---|\n",
       "| 1 | 503 | 15439.31 | NA |       NA |       NA |           NA |\n",
       "| 2 | 492 | 11078.78 | 11 | 4360.525 | 17.60431 | 1.425983e-29 |\n",
       "\n"
      ],
      "text/plain": [
       "  Res.Df RSS      Df Sum of Sq F        Pr(>F)      \n",
       "1 503    15439.31 NA       NA        NA           NA\n",
       "2 492    11078.78 11 4360.525  17.60431 1.425983e-29"
      ]
     },
     "metadata": {},
     "output_type": "display_data"
    }
   ],
   "source": [
    "anova(reduced_model, full_model)"
   ]
  },
  {
   "cell_type": "markdown",
   "id": "1e8105c8-b2a3-4b63-ba5f-d0f1fa464d66",
   "metadata": {},
   "source": [
    "$F = \\dfrac{(SSE_{RM}-SSE_{RM})/r}{SSE_{FM}/(n-p-1)}=\\dfrac{(SSR_{FM}-SSR_{RM})/r}{SSE_{FM}/(n-p-1)}=17.60431$"
   ]
  },
  {
   "cell_type": "markdown",
   "id": "241351a2-4ffa-4539-9696-45746eee3ab2",
   "metadata": {},
   "source": [
    "- `RSS` : SSE를 의미. RM의 $SSE=15439.31$, FM의 $SSE=11078.78$\n",
    "\n",
    "- `Res.Df`: $n-q-1=503, n-p-1=492$"
   ]
  },
  {
   "cell_type": "code",
   "execution_count": null,
   "id": "d1f1302f-7623-4dbf-90c2-87998b881281",
   "metadata": {},
   "outputs": [],
   "source": []
  },
  {
   "cell_type": "code",
   "execution_count": 61,
   "id": "f720c159-c49b-4210-a4ce-ef8cef594f43",
   "metadata": {},
   "outputs": [
    {
     "data": {
      "text/html": [
       "17.60431143783"
      ],
      "text/latex": [
       "17.60431143783"
      ],
      "text/markdown": [
       "17.60431143783"
      ],
      "text/plain": [
       "[1] 17.60431"
      ]
     },
     "metadata": {},
     "output_type": "display_data"
    }
   ],
   "source": [
    "#강의록에 있는 수식\n",
    "p <- full_model$rank-1\n",
    "q <- reduced_model$rank-1\n",
    "SSE_FM <- anova(full_model)$Sum[p+1] #SSE_FM\n",
    "SSE_RM <- anova(reduced_model)$Sum[q+1]  #SSE_RM\n",
    "\n",
    "F0 <- ((SSE_RM-SSE_FM)/(p-q))/(SSE_FM/(nrow(Boston)-p-1))\n",
    "F0"
   ]
  },
  {
   "cell_type": "code",
   "execution_count": 63,
   "id": "48ed16f4-aa0d-46a3-ba89-899fb93a6952",
   "metadata": {},
   "outputs": [
    {
     "data": {
      "text/html": [
       "1.80811652913556"
      ],
      "text/latex": [
       "1.80811652913556"
      ],
      "text/markdown": [
       "1.80811652913556"
      ],
      "text/plain": [
       "[1] 1.808117"
      ]
     },
     "metadata": {},
     "output_type": "display_data"
    },
    {
     "data": {
      "text/html": [
       "0"
      ],
      "text/latex": [
       "0"
      ],
      "text/markdown": [
       "0"
      ],
      "text/plain": [
       "[1] 0"
      ]
     },
     "metadata": {},
     "output_type": "display_data"
    }
   ],
   "source": [
    "#기각역 F_{0.05}(p-q,n-p-1)\n",
    "qf(0.95,p-q,nrow(Boston)-p-1)\n",
    "# p-value -> 해당강의 20분쯤.. 어렵\n",
    "1-pf(F0, p-q,nrow(Boston)-p-1)\n"
   ]
  },
  {
   "cell_type": "code",
   "execution_count": 66,
   "id": "3c52d07d-1829-4e08-9efb-77fd259f2c59",
   "metadata": {},
   "outputs": [
    {
     "data": {
      "text/html": [
       "<table class=\"dataframe\">\n",
       "<caption>A anova: 2 × 6</caption>\n",
       "<thead>\n",
       "\t<tr><th></th><th scope=col>Res.Df</th><th scope=col>RSS</th><th scope=col>Df</th><th scope=col>Sum of Sq</th><th scope=col>F</th><th scope=col>Pr(&gt;F)</th></tr>\n",
       "\t<tr><th></th><th scope=col>&lt;dbl&gt;</th><th scope=col>&lt;dbl&gt;</th><th scope=col>&lt;dbl&gt;</th><th scope=col>&lt;dbl&gt;</th><th scope=col>&lt;dbl&gt;</th><th scope=col>&lt;dbl&gt;</th></tr>\n",
       "</thead>\n",
       "<tbody>\n",
       "\t<tr><th scope=row>1</th><td>494</td><td>11081.36</td><td>NA</td><td>      NA</td><td>        NA</td><td>       NA</td></tr>\n",
       "\t<tr><th scope=row>2</th><td>492</td><td>11078.78</td><td> 2</td><td>2.579374</td><td>0.05727398</td><td>0.9443416</td></tr>\n",
       "</tbody>\n",
       "</table>\n"
      ],
      "text/latex": [
       "A anova: 2 × 6\n",
       "\\begin{tabular}{r|llllll}\n",
       "  & Res.Df & RSS & Df & Sum of Sq & F & Pr(>F)\\\\\n",
       "  & <dbl> & <dbl> & <dbl> & <dbl> & <dbl> & <dbl>\\\\\n",
       "\\hline\n",
       "\t1 & 494 & 11081.36 & NA &       NA &         NA &        NA\\\\\n",
       "\t2 & 492 & 11078.78 &  2 & 2.579374 & 0.05727398 & 0.9443416\\\\\n",
       "\\end{tabular}\n"
      ],
      "text/markdown": [
       "\n",
       "A anova: 2 × 6\n",
       "\n",
       "| <!--/--> | Res.Df &lt;dbl&gt; | RSS &lt;dbl&gt; | Df &lt;dbl&gt; | Sum of Sq &lt;dbl&gt; | F &lt;dbl&gt; | Pr(&gt;F) &lt;dbl&gt; |\n",
       "|---|---|---|---|---|---|---|\n",
       "| 1 | 494 | 11081.36 | NA |       NA |         NA |        NA |\n",
       "| 2 | 492 | 11078.78 |  2 | 2.579374 | 0.05727398 | 0.9443416 |\n",
       "\n"
      ],
      "text/plain": [
       "  Res.Df RSS      Df Sum of Sq F          Pr(>F)   \n",
       "1 494    11081.36 NA       NA          NA        NA\n",
       "2 492    11078.78  2 2.579374  0.05727398 0.9443416"
      ]
     },
     "metadata": {},
     "output_type": "display_data"
    }
   ],
   "source": [
    "#################################\n",
    "reduced_model = lm(medv ~ .-age-indus, data = Boston)  # 유의하지 않은 2개 변수 제거(-age-indus)\n",
    "full_model = lm(medv ~ ., data=Boston) # 13개 변수\n",
    "\n",
    "anova(reduced_model, full_model)\n"
   ]
  },
  {
   "cell_type": "markdown",
   "id": "efa9d702-59c5-4ae0-b583-95f2c854f43b",
   "metadata": {},
   "source": [
    "- $H_0: \\beta_{indus} = \\beta_{age} = 0$ 이고 H0기각 못하므로 빼도 된다."
   ]
  },
  {
   "cell_type": "markdown",
   "id": "b3906c04-033a-427d-af67-5e1283575308",
   "metadata": {},
   "source": [
    "## General linear hypothesis"
   ]
  },
  {
   "cell_type": "markdown",
   "id": "e8032592-e222-41c8-8a5c-555f6f32a47e",
   "metadata": {},
   "source": [
    "- 선형 가설 검정"
   ]
  },
  {
   "cell_type": "code",
   "execution_count": 67,
   "id": "1dae7032-bf33-4b66-b340-de21d72d786d",
   "metadata": {},
   "outputs": [
    {
     "data": {
      "text/plain": [
       "\n",
       "Call:\n",
       "lm(formula = y ~ x1 + x2)\n",
       "\n",
       "Residuals:\n",
       "    Min      1Q  Median      3Q     Max \n",
       "-2.4575 -1.9100  0.3314  0.6388  3.2628 \n",
       "\n",
       "Coefficients:\n",
       "            Estimate Std. Error t value Pr(>|t|)  \n",
       "(Intercept)  -0.6507     2.9075  -0.224   0.8293  \n",
       "x1            1.5515     0.6462   2.401   0.0474 *\n",
       "x2            0.7599     0.3968   1.915   0.0970 .\n",
       "---\n",
       "Signif. codes:  0 ‘***’ 0.001 ‘**’ 0.01 ‘*’ 0.05 ‘.’ 0.1 ‘ ’ 1\n",
       "\n",
       "Residual standard error: 2.278 on 7 degrees of freedom\n",
       "Multiple R-squared:  0.9014,\tAdjusted R-squared:  0.8732 \n",
       "F-statistic:    32 on 2 and 7 DF,  p-value: 0.0003011\n"
      ]
     },
     "metadata": {},
     "output_type": "display_data"
    }
   ],
   "source": [
    "x1<-c(4,8,9,8,8,12,6,10,6,9)\n",
    "x2<-c(4,10,8,5,10,15,8,13,5,12)\n",
    "y<-c(9,20,22,15,17,30,18,25,10,20)\n",
    "fit<-lm(y~x1+x2)  ##FM\n",
    "summary(fit)"
   ]
  },
  {
   "cell_type": "markdown",
   "id": "8b67a232-1df3-4e1e-be9e-cc5cd73a5a6c",
   "metadata": {},
   "source": [
    "- $H_0 : T\\beta = c$"
   ]
  },
  {
   "cell_type": "code",
   "execution_count": 78,
   "id": "9d7b01cc-7ded-453f-af74-b5890448ac76",
   "metadata": {},
   "outputs": [],
   "source": [
    "# install.packages(\"car\")"
   ]
  },
  {
   "cell_type": "markdown",
   "id": "44e8182a-0fca-454a-b89d-e1cd98a5d179",
   "metadata": {},
   "source": [
    "> - $H_0 : \\beta_1 = 1$\n",
    ">\n",
    "> $y=\\beta_0 + \\beta_1 x_1 + \\beta_2 x_2 + \\epsilon$ 에서\n",
    ">\n",
    "> $y=\\beta_0 + x_1 + \\beta_2 x_2 + \\epsilon$ 이 된다.\n",
    ">\n",
    "> 즉, $y-x_1 = \\beta_0 + \\beta_2 x_2 + \\epsilon$\n",
    ">\n",
    "> 단순성형회귀모형이 되는것..(z)"
   ]
  },
  {
   "cell_type": "code",
   "execution_count": 72,
   "id": "289cdbbf-bf9d-43b1-811c-eb6ef2cf8b16",
   "metadata": {},
   "outputs": [
    {
     "ename": "ERROR",
     "evalue": "Error in library(car): there is no package called ‘car’\n",
     "output_type": "error",
     "traceback": [
      "Error in library(car): there is no package called ‘car’\nTraceback:\n",
      "1. library(car)"
     ]
    }
   ],
   "source": [
    "library(car)\n",
    "linearHypothesis(fit, c(0,1,0), 1)"
   ]
  },
  {
   "cell_type": "markdown",
   "id": "fb510040-f88c-4f6e-9e9a-b909e574c4f3",
   "metadata": {},
   "source": [
    "- 오류가 나넹.. Rstudio에서 돌린거"
   ]
  },
  {
   "cell_type": "markdown",
   "id": "a05c0391-dd40-48aa-9800-b7aaf9ed0236",
   "metadata": {},
   "source": [
    "![](ch6.png)"
   ]
  },
  {
   "cell_type": "markdown",
   "id": "1a727cdb-1317-4216-a499-95d934bfb6f6",
   "metadata": {},
   "source": [
    "- 기각 못한다. beta1=1"
   ]
  },
  {
   "cell_type": "markdown",
   "id": "4f366d8a-8310-4b7d-b661-ba2679330446",
   "metadata": {},
   "source": [
    "- $H_0 : \\beta_1 = \\beta_2$"
   ]
  },
  {
   "cell_type": "markdown",
   "id": "093d5b70-1917-4408-8adb-1d356e4874d1",
   "metadata": {},
   "source": [
    "```R\n",
    "#b1-b2=0 => (0,1,-1) *beta \n",
    "#H_0 : beta_1 = beta2\n",
    "linearHypothesis(fit, c(0,1,-1), 0)\n",
    "```"
   ]
  },
  {
   "cell_type": "markdown",
   "id": "ea32005d-8383-487a-8d99-6cfdd6897717",
   "metadata": {},
   "source": [
    "![](ch62.png)"
   ]
  },
  {
   "cell_type": "markdown",
   "id": "6f767d6f-199e-43d4-85cb-a42ce8151f8e",
   "metadata": {},
   "source": [
    "- $H_0 : \\beta_1 = \\beta_2+1$"
   ]
  },
  {
   "cell_type": "markdown",
   "id": "39432594-c765-46ab-9645-f65ae278495e",
   "metadata": {},
   "source": [
    "```R\n",
    "#H_0 : beta_1 = beta2 + 1\n",
    "linearHypothesis(fit, c(0,1,-1), 1)\n",
    "```"
   ]
  },
  {
   "cell_type": "markdown",
   "id": "f387a156-9464-4998-9887-c7b942cb59eb",
   "metadata": {},
   "source": [
    "![](ch6-3.png)"
   ]
  },
  {
   "cell_type": "markdown",
   "id": "2f37a6ce-bc6d-42c0-b6e2-f497536fb55e",
   "metadata": {},
   "source": [
    "- $H_0 : \\beta_1 = \\beta_2+5$"
   ]
  },
  {
   "cell_type": "markdown",
   "id": "434410b0-a5d7-47e0-b4f2-88041ff737eb",
   "metadata": {},
   "source": [
    "```R\n",
    "#H_0 : beta_1 = beta2 + 5\n",
    "linearHypothesis(fit, c(0,1,-1), 5)\n",
    "```"
   ]
  },
  {
   "cell_type": "markdown",
   "id": "f1150f40-1664-4b1d-90bb-295443a35b95",
   "metadata": {},
   "source": [
    "![](ch6-4.png)"
   ]
  },
  {
   "cell_type": "markdown",
   "id": "3bc9709c-e9f3-4b43-a4e1-277179f6ff09",
   "metadata": {},
   "source": [
    "- 5로 바꾸고 나니까 기각할 수 있다."
   ]
  },
  {
   "cell_type": "markdown",
   "id": "c3a6699a-88ba-4da8-880e-34fad83f077f",
   "metadata": {},
   "source": [
    "`-` 강의노트 코드"
   ]
  },
  {
   "cell_type": "code",
   "execution_count": 80,
   "id": "1a4bfaab-bcd5-4101-9ec0-c5827528a563",
   "metadata": {},
   "outputs": [],
   "source": [
    "##H_0 : beta_1 = beta2 + 1\n",
    "#y=b0 + b1x1 + b2x2 + e = b0+x1 + b2(x1+x2)+e\n",
    "#y-x1 = b0+b2(x1+x2)+e :   RM"
   ]
  },
  {
   "cell_type": "code",
   "execution_count": 82,
   "id": "3739d8b6-b97b-4c89-a56e-34b9a52cbc5b",
   "metadata": {},
   "outputs": [],
   "source": [
    "y1 <- y-x1\n",
    "z1 <- x1 + x2"
   ]
  },
  {
   "cell_type": "code",
   "execution_count": 83,
   "id": "f28be77f-c33d-4d55-a8c9-4f232f9de12f",
   "metadata": {},
   "outputs": [
    {
     "data": {
      "text/plain": [
       "\n",
       "Call:\n",
       "lm(formula = y1 ~ z1)\n",
       "\n",
       "Residuals:\n",
       "    Min      1Q  Median      3Q     Max \n",
       "-2.5054 -1.9294  0.4236  0.6821  3.4473 \n",
       "\n",
       "Coefficients:\n",
       "            Estimate Std. Error t value Pr(>|t|)    \n",
       "(Intercept)  -1.0014     2.2175  -0.452 0.663574    \n",
       "z1            0.6824     0.1242   5.493 0.000578 ***\n",
       "---\n",
       "Signif. codes:  0 ‘***’ 0.001 ‘**’ 0.01 ‘*’ 0.05 ‘.’ 0.1 ‘ ’ 1\n",
       "\n",
       "Residual standard error: 2.137 on 8 degrees of freedom\n",
       "Multiple R-squared:  0.7904,\tAdjusted R-squared:  0.7642 \n",
       "F-statistic: 30.17 on 1 and 8 DF,  p-value: 0.0005785\n"
      ]
     },
     "metadata": {},
     "output_type": "display_data"
    },
    {
     "data": {
      "text/html": [
       "<table class=\"dataframe\">\n",
       "<caption>A anova: 2 × 5</caption>\n",
       "<thead>\n",
       "\t<tr><th></th><th scope=col>Df</th><th scope=col>Sum Sq</th><th scope=col>Mean Sq</th><th scope=col>F value</th><th scope=col>Pr(&gt;F)</th></tr>\n",
       "\t<tr><th></th><th scope=col>&lt;int&gt;</th><th scope=col>&lt;dbl&gt;</th><th scope=col>&lt;dbl&gt;</th><th scope=col>&lt;dbl&gt;</th><th scope=col>&lt;dbl&gt;</th></tr>\n",
       "</thead>\n",
       "<tbody>\n",
       "\t<tr><th scope=row>z1</th><td>1</td><td>137.85135</td><td>137.851351</td><td>30.17378</td><td>0.0005784583</td></tr>\n",
       "\t<tr><th scope=row>Residuals</th><td>8</td><td> 36.54865</td><td>  4.568581</td><td>      NA</td><td>          NA</td></tr>\n",
       "</tbody>\n",
       "</table>\n"
      ],
      "text/latex": [
       "A anova: 2 × 5\n",
       "\\begin{tabular}{r|lllll}\n",
       "  & Df & Sum Sq & Mean Sq & F value & Pr(>F)\\\\\n",
       "  & <int> & <dbl> & <dbl> & <dbl> & <dbl>\\\\\n",
       "\\hline\n",
       "\tz1 & 1 & 137.85135 & 137.851351 & 30.17378 & 0.0005784583\\\\\n",
       "\tResiduals & 8 &  36.54865 &   4.568581 &       NA &           NA\\\\\n",
       "\\end{tabular}\n"
      ],
      "text/markdown": [
       "\n",
       "A anova: 2 × 5\n",
       "\n",
       "| <!--/--> | Df &lt;int&gt; | Sum Sq &lt;dbl&gt; | Mean Sq &lt;dbl&gt; | F value &lt;dbl&gt; | Pr(&gt;F) &lt;dbl&gt; |\n",
       "|---|---|---|---|---|---|\n",
       "| z1 | 1 | 137.85135 | 137.851351 | 30.17378 | 0.0005784583 |\n",
       "| Residuals | 8 |  36.54865 |   4.568581 |       NA |           NA |\n",
       "\n"
      ],
      "text/plain": [
       "          Df Sum Sq    Mean Sq    F value  Pr(>F)      \n",
       "z1        1  137.85135 137.851351 30.17378 0.0005784583\n",
       "Residuals 8   36.54865   4.568581       NA           NA"
      ]
     },
     "metadata": {},
     "output_type": "display_data"
    }
   ],
   "source": [
    "fit2 <- lm(y1~z1)\n",
    "summary(fit2)\n",
    "anova(fit2)"
   ]
  },
  {
   "cell_type": "code",
   "execution_count": 84,
   "id": "7140abc7-8fc5-4be5-9d59-bdd0c7cac6b1",
   "metadata": {},
   "outputs": [
    {
     "data": {
      "text/html": [
       "<table class=\"dataframe\">\n",
       "<caption>A anova: 3 × 5</caption>\n",
       "<thead>\n",
       "\t<tr><th></th><th scope=col>Df</th><th scope=col>Sum Sq</th><th scope=col>Mean Sq</th><th scope=col>F value</th><th scope=col>Pr(&gt;F)</th></tr>\n",
       "\t<tr><th></th><th scope=col>&lt;int&gt;</th><th scope=col>&lt;dbl&gt;</th><th scope=col>&lt;dbl&gt;</th><th scope=col>&lt;dbl&gt;</th><th scope=col>&lt;dbl&gt;</th></tr>\n",
       "</thead>\n",
       "<tbody>\n",
       "\t<tr><th scope=row>x1</th><td>1</td><td>313.04348</td><td>313.043478</td><td>60.323103</td><td>0.0001100467</td></tr>\n",
       "\t<tr><th scope=row>x2</th><td>1</td><td> 19.03040</td><td> 19.030400</td><td> 3.667135</td><td>0.0970444465</td></tr>\n",
       "\t<tr><th scope=row>Residuals</th><td>7</td><td> 36.32612</td><td>  5.189446</td><td>       NA</td><td>          NA</td></tr>\n",
       "</tbody>\n",
       "</table>\n"
      ],
      "text/latex": [
       "A anova: 3 × 5\n",
       "\\begin{tabular}{r|lllll}\n",
       "  & Df & Sum Sq & Mean Sq & F value & Pr(>F)\\\\\n",
       "  & <int> & <dbl> & <dbl> & <dbl> & <dbl>\\\\\n",
       "\\hline\n",
       "\tx1 & 1 & 313.04348 & 313.043478 & 60.323103 & 0.0001100467\\\\\n",
       "\tx2 & 1 &  19.03040 &  19.030400 &  3.667135 & 0.0970444465\\\\\n",
       "\tResiduals & 7 &  36.32612 &   5.189446 &        NA &           NA\\\\\n",
       "\\end{tabular}\n"
      ],
      "text/markdown": [
       "\n",
       "A anova: 3 × 5\n",
       "\n",
       "| <!--/--> | Df &lt;int&gt; | Sum Sq &lt;dbl&gt; | Mean Sq &lt;dbl&gt; | F value &lt;dbl&gt; | Pr(&gt;F) &lt;dbl&gt; |\n",
       "|---|---|---|---|---|---|\n",
       "| x1 | 1 | 313.04348 | 313.043478 | 60.323103 | 0.0001100467 |\n",
       "| x2 | 1 |  19.03040 |  19.030400 |  3.667135 | 0.0970444465 |\n",
       "| Residuals | 7 |  36.32612 |   5.189446 |        NA |           NA |\n",
       "\n"
      ],
      "text/plain": [
       "          Df Sum Sq    Mean Sq    F value   Pr(>F)      \n",
       "x1        1  313.04348 313.043478 60.323103 0.0001100467\n",
       "x2        1   19.03040  19.030400  3.667135 0.0970444465\n",
       "Residuals 7   36.32612   5.189446        NA           NA"
      ]
     },
     "metadata": {},
     "output_type": "display_data"
    },
    {
     "data": {
      "text/html": [
       "<table class=\"dataframe\">\n",
       "<caption>A anova: 2 × 5</caption>\n",
       "<thead>\n",
       "\t<tr><th></th><th scope=col>Df</th><th scope=col>Sum Sq</th><th scope=col>Mean Sq</th><th scope=col>F value</th><th scope=col>Pr(&gt;F)</th></tr>\n",
       "\t<tr><th></th><th scope=col>&lt;int&gt;</th><th scope=col>&lt;dbl&gt;</th><th scope=col>&lt;dbl&gt;</th><th scope=col>&lt;dbl&gt;</th><th scope=col>&lt;dbl&gt;</th></tr>\n",
       "</thead>\n",
       "<tbody>\n",
       "\t<tr><th scope=row>z1</th><td>1</td><td>137.85135</td><td>137.851351</td><td>30.17378</td><td>0.0005784583</td></tr>\n",
       "\t<tr><th scope=row>Residuals</th><td>8</td><td> 36.54865</td><td>  4.568581</td><td>      NA</td><td>          NA</td></tr>\n",
       "</tbody>\n",
       "</table>\n"
      ],
      "text/latex": [
       "A anova: 2 × 5\n",
       "\\begin{tabular}{r|lllll}\n",
       "  & Df & Sum Sq & Mean Sq & F value & Pr(>F)\\\\\n",
       "  & <int> & <dbl> & <dbl> & <dbl> & <dbl>\\\\\n",
       "\\hline\n",
       "\tz1 & 1 & 137.85135 & 137.851351 & 30.17378 & 0.0005784583\\\\\n",
       "\tResiduals & 8 &  36.54865 &   4.568581 &       NA &           NA\\\\\n",
       "\\end{tabular}\n"
      ],
      "text/markdown": [
       "\n",
       "A anova: 2 × 5\n",
       "\n",
       "| <!--/--> | Df &lt;int&gt; | Sum Sq &lt;dbl&gt; | Mean Sq &lt;dbl&gt; | F value &lt;dbl&gt; | Pr(&gt;F) &lt;dbl&gt; |\n",
       "|---|---|---|---|---|---|\n",
       "| z1 | 1 | 137.85135 | 137.851351 | 30.17378 | 0.0005784583 |\n",
       "| Residuals | 8 |  36.54865 |   4.568581 |       NA |           NA |\n",
       "\n"
      ],
      "text/plain": [
       "          Df Sum Sq    Mean Sq    F value  Pr(>F)      \n",
       "z1        1  137.85135 137.851351 30.17378 0.0005784583\n",
       "Residuals 8   36.54865   4.568581       NA           NA"
      ]
     },
     "metadata": {},
     "output_type": "display_data"
    }
   ],
   "source": [
    "anova(fit)  ##FM\n",
    "anova(fit2)  #RM"
   ]
  },
  {
   "cell_type": "code",
   "execution_count": 86,
   "id": "40b97f17-4cab-4aea-acd3-e4a397b67429",
   "metadata": {},
   "outputs": [
    {
     "data": {
      "text/html": [
       "0.0428807391894599"
      ],
      "text/latex": [
       "0.0428807391894599"
      ],
      "text/markdown": [
       "0.0428807391894599"
      ],
      "text/plain": [
       "[1] 0.04288074"
      ]
     },
     "metadata": {},
     "output_type": "display_data"
    }
   ],
   "source": [
    "# F = {(SSE_RM - SSE_FM)/r} / {SSE_FM/(n-p-1)}\n",
    "p <- fit$rank-1\n",
    "q <- fit2$rank-1\n",
    "SSE_FM <- anova(fit)$Sum[p+1] #SSE_FM\n",
    "SSE_RM <- anova(fit2)$Sum[q+1]  #SSE_RM\n",
    "F0 <- ((SSE_RM-SSE_FM)/(p-q))/(SSE_FM/(length(y)-p-1))\n",
    "F0"
   ]
  },
  {
   "cell_type": "code",
   "execution_count": 87,
   "id": "13fe5e4e-6a3f-4cee-a32f-5184c7481b21",
   "metadata": {},
   "outputs": [
    {
     "data": {
      "text/html": [
       "5.59144785122073"
      ],
      "text/latex": [
       "5.59144785122073"
      ],
      "text/markdown": [
       "5.59144785122073"
      ],
      "text/plain": [
       "[1] 5.591448"
      ]
     },
     "metadata": {},
     "output_type": "display_data"
    },
    {
     "data": {
      "text/html": [
       "0.841844969417543"
      ],
      "text/latex": [
       "0.841844969417543"
      ],
      "text/markdown": [
       "0.841844969417543"
      ],
      "text/plain": [
       "[1] 0.841845"
      ]
     },
     "metadata": {},
     "output_type": "display_data"
    }
   ],
   "source": [
    "#기각역 F_{0.05}(p-q,n-p-1)\n",
    "qf(0.95,p-q,length(y)-p-1)\n",
    "# p-value\n",
    "pf(F0, p-q,length(y)-p-1,lower.tail = F)"
   ]
  }
 ],
 "metadata": {
  "kernelspec": {
   "display_name": "R",
   "language": "R",
   "name": "ir"
  },
  "language_info": {
   "codemirror_mode": "r",
   "file_extension": ".r",
   "mimetype": "text/x-r-source",
   "name": "R",
   "pygments_lexer": "r",
   "version": "4.2.2"
  }
 },
 "nbformat": 4,
 "nbformat_minor": 5
}
