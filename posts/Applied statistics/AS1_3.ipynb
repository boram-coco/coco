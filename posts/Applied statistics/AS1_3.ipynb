{
 "cells": [
  {
   "cell_type": "raw",
   "id": "a91c3f15-329e-42dd-9b68-7c69a875a685",
   "metadata": {},
   "source": [
    "---\n",
    "title: \"AS HW1_\"\n",
    "author: \"김보람\"\n",
    "date: \"04/04/2023\"\n",
    "categories:\n",
    "  - Applied statistics\n",
    "  - homework\n",
    "---"
   ]
  },
  {
   "cell_type": "code",
   "execution_count": 67,
   "id": "54ce0009-e7b2-4241-af82-2871ccd5817d",
   "metadata": {},
   "outputs": [
    {
     "name": "stderr",
     "output_type": "stream",
     "text": [
      "Loading required package: zoo\n",
      "\n",
      "\n",
      "Attaching package: ‘zoo’\n",
      "\n",
      "\n",
      "The following objects are masked from ‘package:base’:\n",
      "\n",
      "    as.Date, as.Date.numeric\n",
      "\n",
      "\n"
     ]
    }
   ],
   "source": [
    "library(dplyr)\n",
    "library(lmtest)"
   ]
  },
  {
   "cell_type": "markdown",
   "id": "f6080c0a-a655-4e57-813d-e0d94779418a",
   "metadata": {},
   "source": [
    "# 데이터셋"
   ]
  },
  {
   "cell_type": "code",
   "execution_count": 3,
   "id": "2a86b376-2a87-4f42-b003-f52436c6e4ac",
   "metadata": {},
   "outputs": [
    {
     "data": {
      "text/html": [
       "<table class=\"dataframe\">\n",
       "<caption>A data.frame: 6 × 8</caption>\n",
       "<thead>\n",
       "\t<tr><th></th><th scope=col>gender</th><th scope=col>race.ethnicity</th><th scope=col>parental.level.of.education</th><th scope=col>lunch</th><th scope=col>test.preparation.course</th><th scope=col>math.score</th><th scope=col>reading.score</th><th scope=col>writing.score</th></tr>\n",
       "\t<tr><th></th><th scope=col>&lt;chr&gt;</th><th scope=col>&lt;chr&gt;</th><th scope=col>&lt;chr&gt;</th><th scope=col>&lt;chr&gt;</th><th scope=col>&lt;chr&gt;</th><th scope=col>&lt;int&gt;</th><th scope=col>&lt;int&gt;</th><th scope=col>&lt;int&gt;</th></tr>\n",
       "</thead>\n",
       "<tbody>\n",
       "\t<tr><th scope=row>1</th><td>female</td><td>group D</td><td>some college      </td><td>standard    </td><td>completed</td><td>59</td><td>70</td><td>78</td></tr>\n",
       "\t<tr><th scope=row>2</th><td>male  </td><td>group D</td><td>associate's degree</td><td>standard    </td><td>none     </td><td>96</td><td>93</td><td>87</td></tr>\n",
       "\t<tr><th scope=row>3</th><td>female</td><td>group D</td><td>some college      </td><td>free/reduced</td><td>none     </td><td>57</td><td>76</td><td>77</td></tr>\n",
       "\t<tr><th scope=row>4</th><td>male  </td><td>group B</td><td>some college      </td><td>free/reduced</td><td>none     </td><td>70</td><td>70</td><td>63</td></tr>\n",
       "\t<tr><th scope=row>5</th><td>female</td><td>group D</td><td>associate's degree</td><td>standard    </td><td>none     </td><td>83</td><td>85</td><td>86</td></tr>\n",
       "\t<tr><th scope=row>6</th><td>male  </td><td>group C</td><td>some high school  </td><td>standard    </td><td>none     </td><td>68</td><td>57</td><td>54</td></tr>\n",
       "</tbody>\n",
       "</table>\n"
      ],
      "text/latex": [
       "A data.frame: 6 × 8\n",
       "\\begin{tabular}{r|llllllll}\n",
       "  & gender & race.ethnicity & parental.level.of.education & lunch & test.preparation.course & math.score & reading.score & writing.score\\\\\n",
       "  & <chr> & <chr> & <chr> & <chr> & <chr> & <int> & <int> & <int>\\\\\n",
       "\\hline\n",
       "\t1 & female & group D & some college       & standard     & completed & 59 & 70 & 78\\\\\n",
       "\t2 & male   & group D & associate's degree & standard     & none      & 96 & 93 & 87\\\\\n",
       "\t3 & female & group D & some college       & free/reduced & none      & 57 & 76 & 77\\\\\n",
       "\t4 & male   & group B & some college       & free/reduced & none      & 70 & 70 & 63\\\\\n",
       "\t5 & female & group D & associate's degree & standard     & none      & 83 & 85 & 86\\\\\n",
       "\t6 & male   & group C & some high school   & standard     & none      & 68 & 57 & 54\\\\\n",
       "\\end{tabular}\n"
      ],
      "text/markdown": [
       "\n",
       "A data.frame: 6 × 8\n",
       "\n",
       "| <!--/--> | gender &lt;chr&gt; | race.ethnicity &lt;chr&gt; | parental.level.of.education &lt;chr&gt; | lunch &lt;chr&gt; | test.preparation.course &lt;chr&gt; | math.score &lt;int&gt; | reading.score &lt;int&gt; | writing.score &lt;int&gt; |\n",
       "|---|---|---|---|---|---|---|---|---|\n",
       "| 1 | female | group D | some college       | standard     | completed | 59 | 70 | 78 |\n",
       "| 2 | male   | group D | associate's degree | standard     | none      | 96 | 93 | 87 |\n",
       "| 3 | female | group D | some college       | free/reduced | none      | 57 | 76 | 77 |\n",
       "| 4 | male   | group B | some college       | free/reduced | none      | 70 | 70 | 63 |\n",
       "| 5 | female | group D | associate's degree | standard     | none      | 83 | 85 | 86 |\n",
       "| 6 | male   | group C | some high school   | standard     | none      | 68 | 57 | 54 |\n",
       "\n"
      ],
      "text/plain": [
       "  gender race.ethnicity parental.level.of.education lunch       \n",
       "1 female group D        some college                standard    \n",
       "2 male   group D        associate's degree          standard    \n",
       "3 female group D        some college                free/reduced\n",
       "4 male   group B        some college                free/reduced\n",
       "5 female group D        associate's degree          standard    \n",
       "6 male   group C        some high school            standard    \n",
       "  test.preparation.course math.score reading.score writing.score\n",
       "1 completed               59         70            78           \n",
       "2 none                    96         93            87           \n",
       "3 none                    57         76            77           \n",
       "4 none                    70         70            63           \n",
       "5 none                    83         85            86           \n",
       "6 none                    68         57            54           "
      ]
     },
     "metadata": {},
     "output_type": "display_data"
    }
   ],
   "source": [
    "exams <- read.csv(\"~/Dropbox/coco/posts/Applied statistics/exams.csv\")\n",
    "head(exams)"
   ]
  },
  {
   "cell_type": "code",
   "execution_count": 8,
   "id": "7cf12027-f204-47e5-a94c-db84153f7636",
   "metadata": {},
   "outputs": [
    {
     "data": {
      "text/plain": [
       "    gender          race.ethnicity     parental.level.of.education\n",
       " Length:1000        Length:1000        Length:1000                \n",
       " Class :character   Class :character   Class :character           \n",
       " Mode  :character   Mode  :character   Mode  :character           \n",
       "                                                                  \n",
       "                                                                  \n",
       "                                                                  \n",
       "    lunch           test.preparation.course   math.score     reading.score   \n",
       " Length:1000        Length:1000             Min.   : 15.00   Min.   : 25.00  \n",
       " Class :character   Class :character        1st Qu.: 58.00   1st Qu.: 61.00  \n",
       " Mode  :character   Mode  :character        Median : 68.00   Median : 70.50  \n",
       "                                            Mean   : 67.81   Mean   : 70.38  \n",
       "                                            3rd Qu.: 79.25   3rd Qu.: 80.00  \n",
       "                                            Max.   :100.00   Max.   :100.00  \n",
       " writing.score   \n",
       " Min.   : 15.00  \n",
       " 1st Qu.: 59.00  \n",
       " Median : 70.00  \n",
       " Mean   : 69.14  \n",
       " 3rd Qu.: 80.00  \n",
       " Max.   :100.00  "
      ]
     },
     "metadata": {},
     "output_type": "display_data"
    }
   ],
   "source": [
    "summary(exams)"
   ]
  },
  {
   "cell_type": "code",
   "execution_count": 72,
   "id": "37f8a118-9823-47ea-a973-54a424cdcd3d",
   "metadata": {},
   "outputs": [
    {
     "data": {
      "text/html": [
       "<table class=\"dataframe\">\n",
       "<caption>A data.frame: 6 × 8</caption>\n",
       "<thead>\n",
       "\t<tr><th></th><th scope=col>gender</th><th scope=col>race.ethnicity</th><th scope=col>parental.level.of.education</th><th scope=col>lunch</th><th scope=col>test.preparation.course</th><th scope=col>math.score</th><th scope=col>reading.score</th><th scope=col>writing.score</th></tr>\n",
       "\t<tr><th></th><th scope=col>&lt;chr&gt;</th><th scope=col>&lt;chr&gt;</th><th scope=col>&lt;chr&gt;</th><th scope=col>&lt;chr&gt;</th><th scope=col>&lt;chr&gt;</th><th scope=col>&lt;int&gt;</th><th scope=col>&lt;int&gt;</th><th scope=col>&lt;int&gt;</th></tr>\n",
       "</thead>\n",
       "<tbody>\n",
       "\t<tr><th scope=row>1</th><td>female</td><td>group E</td><td>associate's degree</td><td>standard    </td><td>none</td><td>82</td><td>83</td><td>80</td></tr>\n",
       "\t<tr><th scope=row>2</th><td>male  </td><td>group E</td><td>master's degree   </td><td>free/reduced</td><td>none</td><td>56</td><td>46</td><td>43</td></tr>\n",
       "\t<tr><th scope=row>3</th><td>female</td><td>group E</td><td>associate's degree</td><td>free/reduced</td><td>none</td><td>80</td><td>82</td><td>85</td></tr>\n",
       "\t<tr><th scope=row>4</th><td>male  </td><td>group E</td><td>associate's degree</td><td>standard    </td><td>none</td><td>89</td><td>88</td><td>86</td></tr>\n",
       "\t<tr><th scope=row>5</th><td>female</td><td>group E</td><td>associate's degree</td><td>standard    </td><td>none</td><td>80</td><td>79</td><td>71</td></tr>\n",
       "\t<tr><th scope=row>6</th><td>female</td><td>group E</td><td>some college      </td><td>free/reduced</td><td>none</td><td>69</td><td>74</td><td>75</td></tr>\n",
       "</tbody>\n",
       "</table>\n"
      ],
      "text/latex": [
       "A data.frame: 6 × 8\n",
       "\\begin{tabular}{r|llllllll}\n",
       "  & gender & race.ethnicity & parental.level.of.education & lunch & test.preparation.course & math.score & reading.score & writing.score\\\\\n",
       "  & <chr> & <chr> & <chr> & <chr> & <chr> & <int> & <int> & <int>\\\\\n",
       "\\hline\n",
       "\t1 & female & group E & associate's degree & standard     & none & 82 & 83 & 80\\\\\n",
       "\t2 & male   & group E & master's degree    & free/reduced & none & 56 & 46 & 43\\\\\n",
       "\t3 & female & group E & associate's degree & free/reduced & none & 80 & 82 & 85\\\\\n",
       "\t4 & male   & group E & associate's degree & standard     & none & 89 & 88 & 86\\\\\n",
       "\t5 & female & group E & associate's degree & standard     & none & 80 & 79 & 71\\\\\n",
       "\t6 & female & group E & some college       & free/reduced & none & 69 & 74 & 75\\\\\n",
       "\\end{tabular}\n"
      ],
      "text/markdown": [
       "\n",
       "A data.frame: 6 × 8\n",
       "\n",
       "| <!--/--> | gender &lt;chr&gt; | race.ethnicity &lt;chr&gt; | parental.level.of.education &lt;chr&gt; | lunch &lt;chr&gt; | test.preparation.course &lt;chr&gt; | math.score &lt;int&gt; | reading.score &lt;int&gt; | writing.score &lt;int&gt; |\n",
       "|---|---|---|---|---|---|---|---|---|\n",
       "| 1 | female | group E | associate's degree | standard     | none | 82 | 83 | 80 |\n",
       "| 2 | male   | group E | master's degree    | free/reduced | none | 56 | 46 | 43 |\n",
       "| 3 | female | group E | associate's degree | free/reduced | none | 80 | 82 | 85 |\n",
       "| 4 | male   | group E | associate's degree | standard     | none | 89 | 88 | 86 |\n",
       "| 5 | female | group E | associate's degree | standard     | none | 80 | 79 | 71 |\n",
       "| 6 | female | group E | some college       | free/reduced | none | 69 | 74 | 75 |\n",
       "\n"
      ],
      "text/plain": [
       "  gender race.ethnicity parental.level.of.education lunch       \n",
       "1 female group E        associate's degree          standard    \n",
       "2 male   group E        master's degree             free/reduced\n",
       "3 female group E        associate's degree          free/reduced\n",
       "4 male   group E        associate's degree          standard    \n",
       "5 female group E        associate's degree          standard    \n",
       "6 female group E        some college                free/reduced\n",
       "  test.preparation.course math.score reading.score writing.score\n",
       "1 none                    82         83            80           \n",
       "2 none                    56         46            43           \n",
       "3 none                    80         82            85           \n",
       "4 none                    89         88            86           \n",
       "5 none                    80         79            71           \n",
       "6 none                    69         74            75           "
      ]
     },
     "metadata": {},
     "output_type": "display_data"
    }
   ],
   "source": [
    "data <- filter(exams,race.ethnicity== 'group E')\n",
    "head(data)"
   ]
  },
  {
   "cell_type": "markdown",
   "id": "046f8757-0bf0-4003-9cd3-3b4e664672bd",
   "metadata": {},
   "source": [
    "\n",
    "`-` [데이터: Kaggle의 exams 데이터](https://www.kaggle.com/datasets/whenamancodes/students-performance-in-exams)\n",
    "\n",
    "- group E의 아래 두 데이터 상관관계를 보고자 함\n",
    "\n",
    "- Reading score: The student's score on a standardized reading test\n",
    "\n",
    "- Writing score: The student's score on a standardized writing test"
   ]
  },
  {
   "cell_type": "code",
   "execution_count": 73,
   "id": "1a7c468d-16d5-4cc4-98d2-44197adecf18",
   "metadata": {},
   "outputs": [
    {
     "data": {
      "text/html": [
       "143"
      ],
      "text/latex": [
       "143"
      ],
      "text/markdown": [
       "143"
      ],
      "text/plain": [
       "[1] 143"
      ]
     },
     "metadata": {},
     "output_type": "display_data"
    },
    {
     "data": {
      "text/html": [
       "8"
      ],
      "text/latex": [
       "8"
      ],
      "text/markdown": [
       "8"
      ],
      "text/plain": [
       "[1] 8"
      ]
     },
     "metadata": {},
     "output_type": "display_data"
    }
   ],
   "source": [
    "nrow(data)\n",
    "ncol(data)"
   ]
  },
  {
   "cell_type": "markdown",
   "id": "f630c448-7db5-4b0e-8926-878402e80d6c",
   "metadata": {},
   "source": [
    "# 산점도"
   ]
  },
  {
   "cell_type": "code",
   "execution_count": 43,
   "id": "0e7f8481-d5bd-468b-94c8-723c8af68b83",
   "metadata": {},
   "outputs": [
    {
     "data": {
      "text/html": [
       "<table class=\"dataframe\">\n",
       "<caption>A data.frame: 6 × 5</caption>\n",
       "<thead>\n",
       "\t<tr><th></th><th scope=col>i</th><th scope=col>x</th><th scope=col>y</th><th scope=col>x_barx</th><th scope=col>y_bary</th></tr>\n",
       "\t<tr><th></th><th scope=col>&lt;int&gt;</th><th scope=col>&lt;int&gt;</th><th scope=col>&lt;int&gt;</th><th scope=col>&lt;dbl&gt;</th><th scope=col>&lt;dbl&gt;</th></tr>\n",
       "</thead>\n",
       "<tbody>\n",
       "\t<tr><th scope=row>1</th><td>1</td><td>83</td><td>80</td><td>  6.384615</td><td>  4.96503497</td></tr>\n",
       "\t<tr><th scope=row>2</th><td>2</td><td>46</td><td>43</td><td>-30.615385</td><td>-32.03496503</td></tr>\n",
       "\t<tr><th scope=row>3</th><td>3</td><td>82</td><td>85</td><td>  5.384615</td><td>  9.96503497</td></tr>\n",
       "\t<tr><th scope=row>4</th><td>4</td><td>88</td><td>86</td><td> 11.384615</td><td> 10.96503497</td></tr>\n",
       "\t<tr><th scope=row>5</th><td>5</td><td>79</td><td>71</td><td>  2.384615</td><td> -4.03496503</td></tr>\n",
       "\t<tr><th scope=row>6</th><td>6</td><td>74</td><td>75</td><td> -2.615385</td><td> -0.03496503</td></tr>\n",
       "</tbody>\n",
       "</table>\n"
      ],
      "text/latex": [
       "A data.frame: 6 × 5\n",
       "\\begin{tabular}{r|lllll}\n",
       "  & i & x & y & x\\_barx & y\\_bary\\\\\n",
       "  & <int> & <int> & <int> & <dbl> & <dbl>\\\\\n",
       "\\hline\n",
       "\t1 & 1 & 83 & 80 &   6.384615 &   4.96503497\\\\\n",
       "\t2 & 2 & 46 & 43 & -30.615385 & -32.03496503\\\\\n",
       "\t3 & 3 & 82 & 85 &   5.384615 &   9.96503497\\\\\n",
       "\t4 & 4 & 88 & 86 &  11.384615 &  10.96503497\\\\\n",
       "\t5 & 5 & 79 & 71 &   2.384615 &  -4.03496503\\\\\n",
       "\t6 & 6 & 74 & 75 &  -2.615385 &  -0.03496503\\\\\n",
       "\\end{tabular}\n"
      ],
      "text/markdown": [
       "\n",
       "A data.frame: 6 × 5\n",
       "\n",
       "| <!--/--> | i &lt;int&gt; | x &lt;int&gt; | y &lt;int&gt; | x_barx &lt;dbl&gt; | y_bary &lt;dbl&gt; |\n",
       "|---|---|---|---|---|---|\n",
       "| 1 | 1 | 83 | 80 |   6.384615 |   4.96503497 |\n",
       "| 2 | 2 | 46 | 43 | -30.615385 | -32.03496503 |\n",
       "| 3 | 3 | 82 | 85 |   5.384615 |   9.96503497 |\n",
       "| 4 | 4 | 88 | 86 |  11.384615 |  10.96503497 |\n",
       "| 5 | 5 | 79 | 71 |   2.384615 |  -4.03496503 |\n",
       "| 6 | 6 | 74 | 75 |  -2.615385 |  -0.03496503 |\n",
       "\n"
      ],
      "text/plain": [
       "  i x  y  x_barx     y_bary      \n",
       "1 1 83 80   6.384615   4.96503497\n",
       "2 2 46 43 -30.615385 -32.03496503\n",
       "3 3 82 85   5.384615   9.96503497\n",
       "4 4 88 86  11.384615  10.96503497\n",
       "5 5 79 71   2.384615  -4.03496503\n",
       "6 6 74 75  -2.615385  -0.03496503"
      ]
     },
     "metadata": {},
     "output_type": "display_data"
    }
   ],
   "source": [
    "dt <- data.frame(\n",
    "  i = 1:nrow(data),\n",
    "  x = data$reading.score,\n",
    "  y = data$writing.score,\n",
    "  x_barx = data$reading.score - mean(data$reading.score),\n",
    "  y_bary = data$writing.score - mean(data$writing.score)) \n",
    "head(dt)\n"
   ]
  },
  {
   "cell_type": "code",
   "execution_count": 42,
   "id": "8bc70e92-1449-4c2b-bf65-5072ad24ac62",
   "metadata": {},
   "outputs": [
    {
     "data": {
      "text/html": [
       "<table class=\"dataframe\">\n",
       "<caption>A data.frame: 6 × 8</caption>\n",
       "<thead>\n",
       "\t<tr><th></th><th scope=col>i</th><th scope=col>x</th><th scope=col>y</th><th scope=col>x_barx</th><th scope=col>y_bary</th><th scope=col>x_barx2</th><th scope=col>y_bary2</th><th scope=col>x_barxy_bary</th></tr>\n",
       "\t<tr><th></th><th scope=col>&lt;int&gt;</th><th scope=col>&lt;int&gt;</th><th scope=col>&lt;int&gt;</th><th scope=col>&lt;dbl&gt;</th><th scope=col>&lt;dbl&gt;</th><th scope=col>&lt;dbl&gt;</th><th scope=col>&lt;dbl&gt;</th><th scope=col>&lt;dbl&gt;</th></tr>\n",
       "</thead>\n",
       "<tbody>\n",
       "\t<tr><th scope=row>1</th><td>1</td><td>83</td><td>80</td><td>  6.384615</td><td>  4.96503497</td><td> 40.763314</td><td>2.465157e+01</td><td> 31.69983862</td></tr>\n",
       "\t<tr><th scope=row>2</th><td>2</td><td>46</td><td>43</td><td>-30.615385</td><td>-32.03496503</td><td>937.301775</td><td>1.026239e+03</td><td>980.76277569</td></tr>\n",
       "\t<tr><th scope=row>3</th><td>3</td><td>82</td><td>85</td><td>  5.384615</td><td>  9.96503497</td><td> 28.994083</td><td>9.930192e+01</td><td> 53.65788058</td></tr>\n",
       "\t<tr><th scope=row>4</th><td>4</td><td>88</td><td>86</td><td> 11.384615</td><td> 10.96503497</td><td>129.609467</td><td>1.202320e+02</td><td>124.83270576</td></tr>\n",
       "\t<tr><th scope=row>5</th><td>5</td><td>79</td><td>71</td><td>  2.384615</td><td> -4.03496503</td><td>  5.686391</td><td>1.628094e+01</td><td> -9.62183970</td></tr>\n",
       "\t<tr><th scope=row>6</th><td>6</td><td>74</td><td>75</td><td> -2.615385</td><td> -0.03496503</td><td>  6.840237</td><td>1.222554e-03</td><td>  0.09144701</td></tr>\n",
       "</tbody>\n",
       "</table>\n"
      ],
      "text/latex": [
       "A data.frame: 6 × 8\n",
       "\\begin{tabular}{r|llllllll}\n",
       "  & i & x & y & x\\_barx & y\\_bary & x\\_barx2 & y\\_bary2 & x\\_barxy\\_bary\\\\\n",
       "  & <int> & <int> & <int> & <dbl> & <dbl> & <dbl> & <dbl> & <dbl>\\\\\n",
       "\\hline\n",
       "\t1 & 1 & 83 & 80 &   6.384615 &   4.96503497 &  40.763314 & 2.465157e+01 &  31.69983862\\\\\n",
       "\t2 & 2 & 46 & 43 & -30.615385 & -32.03496503 & 937.301775 & 1.026239e+03 & 980.76277569\\\\\n",
       "\t3 & 3 & 82 & 85 &   5.384615 &   9.96503497 &  28.994083 & 9.930192e+01 &  53.65788058\\\\\n",
       "\t4 & 4 & 88 & 86 &  11.384615 &  10.96503497 & 129.609467 & 1.202320e+02 & 124.83270576\\\\\n",
       "\t5 & 5 & 79 & 71 &   2.384615 &  -4.03496503 &   5.686391 & 1.628094e+01 &  -9.62183970\\\\\n",
       "\t6 & 6 & 74 & 75 &  -2.615385 &  -0.03496503 &   6.840237 & 1.222554e-03 &   0.09144701\\\\\n",
       "\\end{tabular}\n"
      ],
      "text/markdown": [
       "\n",
       "A data.frame: 6 × 8\n",
       "\n",
       "| <!--/--> | i &lt;int&gt; | x &lt;int&gt; | y &lt;int&gt; | x_barx &lt;dbl&gt; | y_bary &lt;dbl&gt; | x_barx2 &lt;dbl&gt; | y_bary2 &lt;dbl&gt; | x_barxy_bary &lt;dbl&gt; |\n",
       "|---|---|---|---|---|---|---|---|---|\n",
       "| 1 | 1 | 83 | 80 |   6.384615 |   4.96503497 |  40.763314 | 2.465157e+01 |  31.69983862 |\n",
       "| 2 | 2 | 46 | 43 | -30.615385 | -32.03496503 | 937.301775 | 1.026239e+03 | 980.76277569 |\n",
       "| 3 | 3 | 82 | 85 |   5.384615 |   9.96503497 |  28.994083 | 9.930192e+01 |  53.65788058 |\n",
       "| 4 | 4 | 88 | 86 |  11.384615 |  10.96503497 | 129.609467 | 1.202320e+02 | 124.83270576 |\n",
       "| 5 | 5 | 79 | 71 |   2.384615 |  -4.03496503 |   5.686391 | 1.628094e+01 |  -9.62183970 |\n",
       "| 6 | 6 | 74 | 75 |  -2.615385 |  -0.03496503 |   6.840237 | 1.222554e-03 |   0.09144701 |\n",
       "\n"
      ],
      "text/plain": [
       "  i x  y  x_barx     y_bary       x_barx2    y_bary2      x_barxy_bary\n",
       "1 1 83 80   6.384615   4.96503497  40.763314 2.465157e+01  31.69983862\n",
       "2 2 46 43 -30.615385 -32.03496503 937.301775 1.026239e+03 980.76277569\n",
       "3 3 82 85   5.384615   9.96503497  28.994083 9.930192e+01  53.65788058\n",
       "4 4 88 86  11.384615  10.96503497 129.609467 1.202320e+02 124.83270576\n",
       "5 5 79 71   2.384615  -4.03496503   5.686391 1.628094e+01  -9.62183970\n",
       "6 6 74 75  -2.615385  -0.03496503   6.840237 1.222554e-03   0.09144701"
      ]
     },
     "metadata": {},
     "output_type": "display_data"
    }
   ],
   "source": [
    "dt$x_barx2 <- dt$x_barx^2\n",
    "dt$y_bary2 <- dt$y_bary^2\n",
    "dt$x_barxy_bary <-dt$x_barx * dt$y_bary\n",
    "head(dt)"
   ]
  },
  {
   "cell_type": "code",
   "execution_count": 35,
   "id": "66e21ada-31f3-44dd-ac42-13e80f4b4db4",
   "metadata": {},
   "outputs": [
    {
     "data": {
      "image/png": "[encoded data removed]",
      "text/plain": [
       "plot without title"
      ]
     },
     "metadata": {
      "image/png": {
       "height": 420,
       "width": 420
      }
     },
     "output_type": "display_data"
    }
   ],
   "source": [
    "\n",
    "plot(y~x,\n",
    "     data=dt,\n",
    "     xlab=\"reading.score\",\n",
    "     ylab=\"writing.score\",\n",
    "     pch=16,\n",
    "     cex=2,\n",
    "     col=\"darkorange\")\n"
   ]
  },
  {
   "cell_type": "markdown",
   "id": "db0c3ce3-4a76-4558-9e4d-9a70df3fcd18",
   "metadata": {},
   "source": [
    "- 양의 상관관계가 있어 보인다."
   ]
  },
  {
   "cell_type": "markdown",
   "id": "4f2a9711-a503-4016-9244-adb8635c98a8",
   "metadata": {},
   "source": [
    "# 회귀직선"
   ]
  },
  {
   "cell_type": "code",
   "execution_count": 36,
   "id": "d0e988fb-08d7-4f51-9d86-a70a4e1230f0",
   "metadata": {},
   "outputs": [
    {
     "data": {
      "text/plain": [
       "\n",
       "Call:\n",
       "lm(formula = y ~ x, data = dt)\n",
       "\n",
       "Coefficients:\n",
       "(Intercept)            x  \n",
       "     -2.506        1.012  \n"
      ]
     },
     "metadata": {},
     "output_type": "display_data"
    }
   ],
   "source": [
    "model_ <- lm(y~x,dt)\n",
    "model_"
   ]
  },
  {
   "cell_type": "markdown",
   "id": "78304eed-1615-425e-9fdd-416ecb677808",
   "metadata": {},
   "source": [
    "$\\widehat y =-2.506 + 1.012  x$"
   ]
  },
  {
   "cell_type": "code",
   "execution_count": 77,
   "id": "3bb80dc5-1bb1-4b53-965d-ba656df7860d",
   "metadata": {},
   "outputs": [
    {
     "data": {
      "text/plain": [
       "\n",
       "Call:\n",
       "lm(formula = y ~ x, data = dt)\n",
       "\n",
       "Residuals:\n",
       "     Min       1Q   Median       3Q      Max \n",
       "-11.5572  -3.4544   0.3703   3.3341  12.7208 \n",
       "\n",
       "Coefficients:\n",
       "            Estimate Std. Error t value Pr(>|t|)    \n",
       "(Intercept)  -2.5063     2.2880  -1.095    0.275    \n",
       "x             1.0121     0.0294  34.419   <2e-16 ***\n",
       "---\n",
       "Signif. codes:  0 ‘***’ 0.001 ‘**’ 0.01 ‘*’ 0.05 ‘.’ 0.1 ‘ ’ 1\n",
       "\n",
       "Residual standard error: 4.778 on 141 degrees of freedom\n",
       "Multiple R-squared:  0.8936,\tAdjusted R-squared:  0.8929 \n",
       "F-statistic:  1185 on 1 and 141 DF,  p-value: < 2.2e-16\n"
      ]
     },
     "metadata": {},
     "output_type": "display_data"
    }
   ],
   "source": [
    "summary(model_)"
   ]
  },
  {
   "cell_type": "code",
   "execution_count": 38,
   "id": "b99f5542-9b30-4c0f-a839-fbd006ecc037",
   "metadata": {},
   "outputs": [
    {
     "data": {
      "image/png": "[encoded data removed]",
      "text/plain": [
       "plot without title"
      ]
     },
     "metadata": {
      "image/png": {
       "height": 420,
       "width": 420
      }
     },
     "output_type": "display_data"
    }
   ],
   "source": [
    "\n",
    "plot(y~x,\n",
    "     data=dt,\n",
    "     xlab=\"reading.score\",\n",
    "     ylab=\"writing.score\",\n",
    "     pch=16,\n",
    "     cex=2,\n",
    "     col=\"darkorange\")\n",
    "\n",
    "\n",
    "abline(model_, col='steelblue', lwd=2)"
   ]
  },
  {
   "cell_type": "markdown",
   "id": "928f912a-4e1b-4f0f-8ead-629d3810c55a",
   "metadata": {},
   "source": [
    "# 분산분석"
   ]
  },
  {
   "cell_type": "code",
   "execution_count": 39,
   "id": "03481459-8d20-4288-bfdf-232f62b7a784",
   "metadata": {},
   "outputs": [
    {
     "data": {
      "text/html": [
       "<table class=\"dataframe\">\n",
       "<caption>A anova: 2 × 5</caption>\n",
       "<thead>\n",
       "\t<tr><th></th><th scope=col>Df</th><th scope=col>Sum Sq</th><th scope=col>Mean Sq</th><th scope=col>F value</th><th scope=col>Pr(&gt;F)</th></tr>\n",
       "\t<tr><th></th><th scope=col>&lt;int&gt;</th><th scope=col>&lt;dbl&gt;</th><th scope=col>&lt;dbl&gt;</th><th scope=col>&lt;dbl&gt;</th><th scope=col>&lt;dbl&gt;</th></tr>\n",
       "</thead>\n",
       "<tbody>\n",
       "\t<tr><th scope=row>x</th><td>  1</td><td>27045.856</td><td>27045.85588</td><td>1184.685</td><td>1.731866e-70</td></tr>\n",
       "\t<tr><th scope=row>Residuals</th><td>141</td><td> 3218.969</td><td>   22.82957</td><td>      NA</td><td>          NA</td></tr>\n",
       "</tbody>\n",
       "</table>\n"
      ],
      "text/latex": [
       "A anova: 2 × 5\n",
       "\\begin{tabular}{r|lllll}\n",
       "  & Df & Sum Sq & Mean Sq & F value & Pr(>F)\\\\\n",
       "  & <int> & <dbl> & <dbl> & <dbl> & <dbl>\\\\\n",
       "\\hline\n",
       "\tx &   1 & 27045.856 & 27045.85588 & 1184.685 & 1.731866e-70\\\\\n",
       "\tResiduals & 141 &  3218.969 &    22.82957 &       NA &           NA\\\\\n",
       "\\end{tabular}\n"
      ],
      "text/markdown": [
       "\n",
       "A anova: 2 × 5\n",
       "\n",
       "| <!--/--> | Df &lt;int&gt; | Sum Sq &lt;dbl&gt; | Mean Sq &lt;dbl&gt; | F value &lt;dbl&gt; | Pr(&gt;F) &lt;dbl&gt; |\n",
       "|---|---|---|---|---|---|\n",
       "| x |   1 | 27045.856 | 27045.85588 | 1184.685 | 1.731866e-70 |\n",
       "| Residuals | 141 |  3218.969 |    22.82957 |       NA |           NA |\n",
       "\n"
      ],
      "text/plain": [
       "          Df  Sum Sq    Mean Sq     F value  Pr(>F)      \n",
       "x           1 27045.856 27045.85588 1184.685 1.731866e-70\n",
       "Residuals 141  3218.969    22.82957       NA           NA"
      ]
     },
     "metadata": {},
     "output_type": "display_data"
    }
   ],
   "source": [
    "anova(model_)"
   ]
  },
  {
   "cell_type": "markdown",
   "id": "ddc95d6f-bb96-4c7a-88b2-d5c920cf7451",
   "metadata": {},
   "source": [
    "- 가정: $H_0: \\beta_1 = 0$ vs $H_1: \\beta_1 \\neq 0$"
   ]
  },
  {
   "cell_type": "code",
   "execution_count": 40,
   "id": "5faead1b-7de7-4a3f-97e7-cd5cce2b7672",
   "metadata": {},
   "outputs": [
    {
     "data": {
      "text/html": [
       "3.90825811075366"
      ],
      "text/latex": [
       "3.90825811075366"
      ],
      "text/markdown": [
       "3.90825811075366"
      ],
      "text/plain": [
       "[1] 3.908258"
      ]
     },
     "metadata": {},
     "output_type": "display_data"
    }
   ],
   "source": [
    "qf(0.95,1,141)"
   ]
  },
  {
   "cell_type": "markdown",
   "id": "bf0bf475-ead3-4465-8025-fbb5e8123257",
   "metadata": {},
   "source": [
    "- $F_0 > F_{0.05}(0.95,1,141) = 3.91$ 이므로 귀무가설을 기각할 수 잇다. 즉 회귀직선이 유의하다."
   ]
  },
  {
   "cell_type": "markdown",
   "id": "9216466d-316f-43a3-a98d-1149f458e7d6",
   "metadata": {},
   "source": [
    "# 결정계수, 상관계수"
   ]
  },
  {
   "cell_type": "code",
   "execution_count": 41,
   "id": "0802d924-96bd-4571-9bef-050cbc1e9851",
   "metadata": {},
   "outputs": [
    {
     "data": {
      "text/html": [
       "0.893639917777383"
      ],
      "text/latex": [
       "0.893639917777383"
      ],
      "text/markdown": [
       "0.893639917777383"
      ],
      "text/plain": [
       "[1] 0.8936399"
      ]
     },
     "metadata": {},
     "output_type": "display_data"
    }
   ],
   "source": [
    "summary(model_)$r.squared"
   ]
  },
  {
   "cell_type": "code",
   "execution_count": 44,
   "id": "0cb4f43a-56f6-4856-b42d-a98d9ef320a6",
   "metadata": {},
   "outputs": [],
   "source": [
    "Sxy <- sum((dt$x - mean(dt$x))*(dt$y - mean(dt$y)))\n",
    "Sxx <- sum((dt$x - mean(dt$x))^2)\n",
    "Syy <- sum((dt$y - mean(dt$y))^2)"
   ]
  },
  {
   "cell_type": "code",
   "execution_count": 45,
   "id": "f6200ef7-5c59-4e38-bf40-540dee332805",
   "metadata": {},
   "outputs": [],
   "source": [
    "rxy<-Sxy/sqrt(Sxx*Syy)"
   ]
  },
  {
   "cell_type": "code",
   "execution_count": 46,
   "id": "4c578038-fea3-404f-943c-bf891f19e046",
   "metadata": {},
   "outputs": [
    {
     "data": {
      "text/html": [
       "0.893639917777383"
      ],
      "text/latex": [
       "0.893639917777383"
      ],
      "text/markdown": [
       "0.893639917777383"
      ],
      "text/plain": [
       "[1] 0.8936399"
      ]
     },
     "metadata": {},
     "output_type": "display_data"
    }
   ],
   "source": [
    "rxy**2"
   ]
  },
  {
   "cell_type": "markdown",
   "id": "f390609f-c419-41eb-9dce-9fe35964ac30",
   "metadata": {},
   "source": [
    "# 개별 회귀계수 유의성 검정"
   ]
  },
  {
   "cell_type": "markdown",
   "id": "bc9c1902-b5fd-465a-a4a5-1a4d2d7c5f89",
   "metadata": {},
   "source": [
    "$β_0, β_1$에 대한 개별 회귀계수의 유의성검정을 수행하시오."
   ]
  },
  {
   "cell_type": "markdown",
   "id": "4594e925-2f4d-4126-b4ed-5c08a0da2ef9",
   "metadata": {},
   "source": [
    "가설 $H_0: \\beta_1 = 0$ vs $H_1: not H_0$"
   ]
  },
  {
   "cell_type": "code",
   "execution_count": 48,
   "id": "3200e90f-e0d7-46b4-aefa-9063d6ee2720",
   "metadata": {},
   "outputs": [
    {
     "data": {
      "text/html": [
       "<table class=\"dataframe\">\n",
       "<caption>A matrix: 2 × 4 of type dbl</caption>\n",
       "<thead>\n",
       "\t<tr><th></th><th scope=col>Estimate</th><th scope=col>Std. Error</th><th scope=col>t value</th><th scope=col>Pr(&gt;|t|)</th></tr>\n",
       "</thead>\n",
       "<tbody>\n",
       "\t<tr><th scope=row>(Intercept)</th><td>-2.506277</td><td>2.2880027</td><td>-1.09540</td><td>2.752092e-01</td></tr>\n",
       "\t<tr><th scope=row>x</th><td> 1.012084</td><td>0.0294046</td><td>34.41926</td><td>1.731866e-70</td></tr>\n",
       "</tbody>\n",
       "</table>\n"
      ],
      "text/latex": [
       "A matrix: 2 × 4 of type dbl\n",
       "\\begin{tabular}{r|llll}\n",
       "  & Estimate & Std. Error & t value & Pr(>\\textbar{}t\\textbar{})\\\\\n",
       "\\hline\n",
       "\t(Intercept) & -2.506277 & 2.2880027 & -1.09540 & 2.752092e-01\\\\\n",
       "\tx &  1.012084 & 0.0294046 & 34.41926 & 1.731866e-70\\\\\n",
       "\\end{tabular}\n"
      ],
      "text/markdown": [
       "\n",
       "A matrix: 2 × 4 of type dbl\n",
       "\n",
       "| <!--/--> | Estimate | Std. Error | t value | Pr(&gt;|t|) |\n",
       "|---|---|---|---|---|\n",
       "| (Intercept) | -2.506277 | 2.2880027 | -1.09540 | 2.752092e-01 |\n",
       "| x |  1.012084 | 0.0294046 | 34.41926 | 1.731866e-70 |\n",
       "\n"
      ],
      "text/plain": [
       "            Estimate  Std. Error t value  Pr(>|t|)    \n",
       "(Intercept) -2.506277 2.2880027  -1.09540 2.752092e-01\n",
       "x            1.012084 0.0294046  34.41926 1.731866e-70"
      ]
     },
     "metadata": {},
     "output_type": "display_data"
    }
   ],
   "source": [
    "summary(model_)$coef"
   ]
  },
  {
   "cell_type": "code",
   "execution_count": 49,
   "id": "8d2f5885-2afa-4f8a-a1c2-51aaced03ca8",
   "metadata": {},
   "outputs": [
    {
     "data": {
      "text/html": [
       "1.97693148863425"
      ],
      "text/latex": [
       "1.97693148863425"
      ],
      "text/markdown": [
       "1.97693148863425"
      ],
      "text/plain": [
       "[1] 1.976931"
      ]
     },
     "metadata": {},
     "output_type": "display_data"
    }
   ],
   "source": [
    "qt(0.975,141)"
   ]
  },
  {
   "cell_type": "markdown",
   "id": "ec35fb70-b2dd-479b-bc7d-d6527965fdb0",
   "metadata": {},
   "source": [
    "$\\beta_0$의 t-value= -1.09540 < 1.97693148863425 이므로 귀무가설을 기각할 수 없다. "
   ]
  },
  {
   "cell_type": "markdown",
   "id": "742b5636-f29b-48fb-aca5-15c1e81a6ac8",
   "metadata": {},
   "source": [
    "# 신뢰구간"
   ]
  },
  {
   "cell_type": "code",
   "execution_count": 51,
   "id": "8b4ee2d5-241c-42ea-a58b-e80c6e0c6323",
   "metadata": {},
   "outputs": [
    {
     "data": {
      "text/html": [
       "<table class=\"dataframe\">\n",
       "<caption>A matrix: 2 × 2 of type dbl</caption>\n",
       "<thead>\n",
       "\t<tr><th></th><th scope=col>5 %</th><th scope=col>95 %</th></tr>\n",
       "</thead>\n",
       "<tbody>\n",
       "\t<tr><th scope=row>(Intercept)</th><td>-6.2945971</td><td>1.282043</td></tr>\n",
       "\t<tr><th scope=row>x</th><td> 0.9633983</td><td>1.060771</td></tr>\n",
       "</tbody>\n",
       "</table>\n"
      ],
      "text/latex": [
       "A matrix: 2 × 2 of type dbl\n",
       "\\begin{tabular}{r|ll}\n",
       "  & 5 \\% & 95 \\%\\\\\n",
       "\\hline\n",
       "\t(Intercept) & -6.2945971 & 1.282043\\\\\n",
       "\tx &  0.9633983 & 1.060771\\\\\n",
       "\\end{tabular}\n"
      ],
      "text/markdown": [
       "\n",
       "A matrix: 2 × 2 of type dbl\n",
       "\n",
       "| <!--/--> | 5 % | 95 % |\n",
       "|---|---|---|\n",
       "| (Intercept) | -6.2945971 | 1.282043 |\n",
       "| x |  0.9633983 | 1.060771 |\n",
       "\n"
      ],
      "text/plain": [
       "            5 %        95 %    \n",
       "(Intercept) -6.2945971 1.282043\n",
       "x            0.9633983 1.060771"
      ]
     },
     "metadata": {},
     "output_type": "display_data"
    }
   ],
   "source": [
    "confint(model_, level=0.9)"
   ]
  },
  {
   "cell_type": "markdown",
   "id": "af90a73b-8068-4783-8b6c-d3c5d0f2d8e0",
   "metadata": {},
   "source": [
    "# 평균반응"
   ]
  },
  {
   "cell_type": "markdown",
   "id": "82b3bba7-c15c-44b9-8978-f9a8c07bfb15",
   "metadata": {},
   "source": [
    "reading score가 61.2 인 학생의 평균 wiring score 예측하고, 95% 신뢰구간을 구하시오."
   ]
  },
  {
   "cell_type": "code",
   "execution_count": 52,
   "id": "04f5cb64-e000-4fc6-a2e4-f1b69160fc23",
   "metadata": {},
   "outputs": [],
   "source": [
    "new_score <- data.frame(x=61.2)"
   ]
  },
  {
   "cell_type": "markdown",
   "id": "fd8a759a-6861-4cab-8201-3fd90e42d631",
   "metadata": {},
   "source": [
    "`-` 코드"
   ]
  },
  {
   "cell_type": "code",
   "execution_count": 53,
   "id": "eae5836a-0434-49c2-a1ae-ac2b41fcfbce",
   "metadata": {},
   "outputs": [
    {
     "data": {
      "text/html": [
       "<strong>(Intercept):</strong> 59.4332934119049"
      ],
      "text/latex": [
       "\\textbf{(Intercept):} 59.4332934119049"
      ],
      "text/markdown": [
       "**(Intercept):** 59.4332934119049"
      ],
      "text/plain": [
       "(Intercept) \n",
       "   59.43329 "
      ]
     },
     "metadata": {},
     "output_type": "display_data"
    }
   ],
   "source": [
    "model_$coefficients[1] + model_$coefficients[2]*61.2"
   ]
  },
  {
   "cell_type": "code",
   "execution_count": 54,
   "id": "fde4992c-4a2e-467f-818a-720304a8219b",
   "metadata": {},
   "outputs": [
    {
     "data": {
      "text/html": [
       "<table class=\"dataframe\">\n",
       "<caption>A matrix: 1 × 3 of type dbl</caption>\n",
       "<thead>\n",
       "\t<tr><th></th><th scope=col>fit</th><th scope=col>lwr</th><th scope=col>upr</th></tr>\n",
       "</thead>\n",
       "<tbody>\n",
       "\t<tr><th scope=row>1</th><td>59.43329</td><td>58.23874</td><td>60.62785</td></tr>\n",
       "</tbody>\n",
       "</table>\n"
      ],
      "text/latex": [
       "A matrix: 1 × 3 of type dbl\n",
       "\\begin{tabular}{r|lll}\n",
       "  & fit & lwr & upr\\\\\n",
       "\\hline\n",
       "\t1 & 59.43329 & 58.23874 & 60.62785\\\\\n",
       "\\end{tabular}\n"
      ],
      "text/markdown": [
       "\n",
       "A matrix: 1 × 3 of type dbl\n",
       "\n",
       "| <!--/--> | fit | lwr | upr |\n",
       "|---|---|---|---|\n",
       "| 1 | 59.43329 | 58.23874 | 60.62785 |\n",
       "\n"
      ],
      "text/plain": [
       "  fit      lwr      upr     \n",
       "1 59.43329 58.23874 60.62785"
      ]
     },
     "metadata": {},
     "output_type": "display_data"
    }
   ],
   "source": [
    "predict(model_, \n",
    "        newdata = new_score,\n",
    "        interval = c(\"confidence\"),  #구간추정\n",
    "        level = 0.95)  ##평균반응"
   ]
  },
  {
   "cell_type": "markdown",
   "id": "c115c1d2-efd4-4680-9bf5-eaa45b18d474",
   "metadata": {
    "tags": []
   },
   "source": [
    "# 개별 y"
   ]
  },
  {
   "cell_type": "markdown",
   "id": "4fe92ce0-ebce-4f29-a5d2-3e4bce1b56b3",
   "metadata": {},
   "source": [
    "reading score가 61.2 인 학생의 개별 wiring score 예측하고, 95% 신뢰구간을 구하시오."
   ]
  },
  {
   "cell_type": "code",
   "execution_count": 56,
   "id": "980078d1-44b4-4cfe-8495-90d785b92f8f",
   "metadata": {},
   "outputs": [
    {
     "data": {
      "text/html": [
       "<table class=\"dataframe\">\n",
       "<caption>A matrix: 1 × 3 of type dbl</caption>\n",
       "<thead>\n",
       "\t<tr><th></th><th scope=col>fit</th><th scope=col>lwr</th><th scope=col>upr</th></tr>\n",
       "</thead>\n",
       "<tbody>\n",
       "\t<tr><th scope=row>1</th><td>59.43329</td><td>49.91222</td><td>68.95437</td></tr>\n",
       "</tbody>\n",
       "</table>\n"
      ],
      "text/latex": [
       "A matrix: 1 × 3 of type dbl\n",
       "\\begin{tabular}{r|lll}\n",
       "  & fit & lwr & upr\\\\\n",
       "\\hline\n",
       "\t1 & 59.43329 & 49.91222 & 68.95437\\\\\n",
       "\\end{tabular}\n"
      ],
      "text/markdown": [
       "\n",
       "A matrix: 1 × 3 of type dbl\n",
       "\n",
       "| <!--/--> | fit | lwr | upr |\n",
       "|---|---|---|---|\n",
       "| 1 | 59.43329 | 49.91222 | 68.95437 |\n",
       "\n"
      ],
      "text/plain": [
       "  fit      lwr      upr     \n",
       "1 59.43329 49.91222 68.95437"
      ]
     },
     "metadata": {},
     "output_type": "display_data"
    }
   ],
   "source": [
    "predict(model_, newdata = new_score, \n",
    "        interval = c(\"prediction\"),  \n",
    "        level = 0.95)  ## 개별 y"
   ]
  },
  {
   "cell_type": "markdown",
   "id": "8f39fc97-7205-4df3-808f-3554086b8586",
   "metadata": {},
   "source": [
    "# 잔차"
   ]
  },
  {
   "cell_type": "code",
   "execution_count": 61,
   "id": "e06d2d3f-c62d-4bf4-bee9-51458db2316b",
   "metadata": {},
   "outputs": [],
   "source": [
    "data$yhat <- model_$fitted\n",
    "data$resid <- model_$residuals"
   ]
  },
  {
   "cell_type": "code",
   "execution_count": 64,
   "id": "ffc7c8e0-a71d-4b39-8634-1982db23d1d9",
   "metadata": {},
   "outputs": [
    {
     "data": {
      "image/png": "[encoded data removed]",
      "text/plain": [
       "plot without title"
      ]
     },
     "metadata": {
      "image/png": {
       "height": 420,
       "width": 420
      }
     },
     "output_type": "display_data"
    }
   ],
   "source": [
    "par(mfrow=c(1,2))\n",
    "plot(resid ~ reading.score, data, pch=16, ylab = 'Residual')\n",
    "abline(h=0, lty=2, col='grey')\n",
    "plot(resid ~ yhat, data, pch=16, ylab = 'Residual')\n",
    "abline(h=0, lty=2, col='grey')"
   ]
  },
  {
   "cell_type": "code",
   "execution_count": 68,
   "id": "01001223-24e7-4f8d-9bb5-a33d5ec3fce4",
   "metadata": {},
   "outputs": [
    {
     "data": {
      "text/plain": [
       "\n",
       "\tstudentized Breusch-Pagan test\n",
       "\n",
       "data:  model_\n",
       "BP = 0.057101, df = 1, p-value = 0.8111\n"
      ]
     },
     "metadata": {},
     "output_type": "display_data"
    }
   ],
   "source": [
    "bptest(model_)"
   ]
  },
  {
   "cell_type": "code",
   "execution_count": 69,
   "id": "9edfc184-726c-4e64-a731-4f5f953f0536",
   "metadata": {},
   "outputs": [
    {
     "data": {
      "image/png": "[encoded data removed]",
      "text/plain": [
       "Plot with title “Normal Q-Q Plot”"
      ]
     },
     "metadata": {
      "image/png": {
       "height": 420,
       "width": 420
      }
     },
     "output_type": "display_data"
    },
    {
     "data": {
      "image/png": "[encoded data removed]",
      "text/plain": [
       "Plot with title “Histogram of data$resid”"
      ]
     },
     "metadata": {
      "image/png": {
       "height": 420,
       "width": 420
      }
     },
     "output_type": "display_data"
    }
   ],
   "source": [
    "qqnorm(data$resid, pch=16)\n",
    "qqline(data$resid, col=2)\n",
    "hist(data$resid)"
   ]
  },
  {
   "cell_type": "code",
   "execution_count": 70,
   "id": "fb6d392a-3e94-4363-9ab7-2bac76c72fb9",
   "metadata": {},
   "outputs": [
    {
     "data": {
      "text/plain": [
       "\n",
       "\tShapiro-Wilk normality test\n",
       "\n",
       "data:  resid(model_)\n",
       "W = 0.9925, p-value = 0.6551\n"
      ]
     },
     "metadata": {},
     "output_type": "display_data"
    }
   ],
   "source": [
    "shapiro.test(resid(model_))"
   ]
  },
  {
   "cell_type": "markdown",
   "id": "ccfd5a6e-8b38-4ee1-bb4d-eeaf04168c5b",
   "metadata": {},
   "source": [
    "- $H_0$: 정규성 만족, $H_1$: 정규성만족X\n",
    "\n",
    "- p-value의 값이 0.05 보다 크므로 귀무가설 채택. 즉 정규성 가정을 만족한다."
   ]
  },
  {
   "cell_type": "code",
   "execution_count": 71,
   "id": "409b34a1-38a3-4d1f-a2cb-0a571a59ec25",
   "metadata": {},
   "outputs": [
    {
     "data": {
      "text/plain": [
       "\n",
       "\tDurbin-Watson test\n",
       "\n",
       "data:  model_\n",
       "DW = 2.1808, p-value = 0.275\n",
       "alternative hypothesis: true autocorrelation is not 0\n"
      ]
     },
     "metadata": {},
     "output_type": "display_data"
    }
   ],
   "source": [
    "dwtest(model_, alternative = \"two.sided\") "
   ]
  },
  {
   "cell_type": "markdown",
   "id": "5fee5ed6-ba8e-43c0-84bd-1a1b55fd0ee8",
   "metadata": {},
   "source": [
    "- H0 : uncorrelated vs H1 : rho != 0\n",
    "\n",
    "p-value값이 0.275로 0.05보다 크므로 독립성을 먼족한다."
   ]
  },
  {
   "cell_type": "code",
   "execution_count": null,
   "id": "d74f5700-ffca-40e3-ae82-91f8cfcb9c15",
   "metadata": {},
   "outputs": [],
   "source": []
  }
 ],
 "metadata": {
  "kernelspec": {
   "display_name": "R",
   "language": "R",
   "name": "ir"
  },
  "language_info": {
   "codemirror_mode": "r",
   "file_extension": ".r",
   "mimetype": "text/x-r-source",
   "name": "R",
   "pygments_lexer": "r",
   "version": "4.2.2"
  }
 },
 "nbformat": 4,
 "nbformat_minor": 5
}
