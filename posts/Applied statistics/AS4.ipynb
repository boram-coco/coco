{
 "cells": [
  {
   "cell_type": "code",
   "execution_count": null,
   "id": "ef6319bf-6fb0-48a2-b333-3ea18a5e14cc",
   "metadata": {},
   "outputs": [],
   "source": []
  },
  {
   "cell_type": "raw",
   "id": "5b0e68e3-e043-49ea-a398-697b3af374ab",
   "metadata": {},
   "source": [
    "---\n",
    "title: \"AS HW4\"\n",
    "author: \"김보람\"\n",
    "date: \"06/09/2023\"\n",
    "categories:\n",
    "  - Applied statistics\n",
    "  - homework\n",
    "---"
   ]
  },
  {
   "cell_type": "code",
   "execution_count": 1,
   "id": "6ffb2f0c-223c-4b59-9410-5c94415d7a6d",
   "metadata": {},
   "outputs": [
    {
     "name": "stderr",
     "output_type": "stream",
     "text": [
      "Loading required package: carData\n",
      "\n",
      "Loading required package: Matrix\n",
      "\n",
      "Loaded glmnet 4.1-7\n",
      "\n"
     ]
    }
   ],
   "source": [
    "library(car)\n",
    "library(MASS)\n",
    "library(glmnet)"
   ]
  },
  {
   "cell_type": "markdown",
   "id": "7629c0d6-3db2-4f39-a194-156069da2061",
   "metadata": {
    "tags": []
   },
   "source": [
    "# 1번"
   ]
  },
  {
   "cell_type": "markdown",
   "id": "173465e4-5e32-4d8e-8701-8cf217e027db",
   "metadata": {},
   "source": [
    "”ex4.1.csv” 데이터는 다음의 변수로 이루어져 있다.\n",
    "\n",
    "• Age : Age in years\n",
    "\n",
    "• Weight : Weight in lbs\n",
    "\n",
    "• HtShoes : Height in shoes in cm\n",
    "\n",
    "• Ht : Height bare foot in cm\n",
    "\n",
    "• Seated : Seated height in cm\n",
    "\n",
    "• Arm : lower arm length in cm\n",
    "\n",
    "• Thigh : Thigh length in cm\n",
    "\n",
    "• Leg : Lower leg length in cm\n",
    "\n",
    "• hipcenter : horizontal distance of the midpoint of the hips from a fixed location in the car in mm\n",
    "\n",
    "“hipcenter”를 예측하기 위한 모형을 적합하려고 한다. 다음 물음에 답하여라.\n"
   ]
  },
  {
   "cell_type": "code",
   "execution_count": 2,
   "id": "2540efb4-d7b5-4732-b6dc-85d47b5847f6",
   "metadata": {},
   "outputs": [],
   "source": [
    "ex4 <- read.csv(\"ex4.1.csv\")"
   ]
  },
  {
   "cell_type": "code",
   "execution_count": 3,
   "id": "c6023db2-c6bd-489b-918b-e65b34452b5e",
   "metadata": {},
   "outputs": [
    {
     "data": {
      "text/html": [
       "<table class=\"dataframe\">\n",
       "<caption>A data.frame: 38 × 9</caption>\n",
       "<thead>\n",
       "\t<tr><th scope=col>Age</th><th scope=col>Weight</th><th scope=col>HtShoes</th><th scope=col>Ht</th><th scope=col>Seated</th><th scope=col>Arm</th><th scope=col>Thigh</th><th scope=col>Leg</th><th scope=col>hipcenter</th></tr>\n",
       "\t<tr><th scope=col>&lt;int&gt;</th><th scope=col>&lt;int&gt;</th><th scope=col>&lt;dbl&gt;</th><th scope=col>&lt;dbl&gt;</th><th scope=col>&lt;dbl&gt;</th><th scope=col>&lt;dbl&gt;</th><th scope=col>&lt;dbl&gt;</th><th scope=col>&lt;dbl&gt;</th><th scope=col>&lt;dbl&gt;</th></tr>\n",
       "</thead>\n",
       "<tbody>\n",
       "\t<tr><td>46</td><td>180</td><td>187.2</td><td>184.9</td><td> 95.2</td><td>36.1</td><td>45.3</td><td>41.3</td><td>-206.300</td></tr>\n",
       "\t<tr><td>31</td><td>175</td><td>167.5</td><td>165.5</td><td> 83.8</td><td>32.9</td><td>36.5</td><td>35.9</td><td>-178.210</td></tr>\n",
       "\t<tr><td>23</td><td>100</td><td>153.6</td><td>152.2</td><td> 82.9</td><td>26.0</td><td>36.6</td><td>31.0</td><td> -71.673</td></tr>\n",
       "\t<tr><td>19</td><td>185</td><td>190.3</td><td>187.4</td><td> 97.3</td><td>37.4</td><td>44.1</td><td>41.0</td><td>-257.720</td></tr>\n",
       "\t<tr><td>23</td><td>159</td><td>178.0</td><td>174.1</td><td> 93.9</td><td>29.5</td><td>40.1</td><td>36.9</td><td>-173.230</td></tr>\n",
       "\t<tr><td>47</td><td>170</td><td>178.7</td><td>177.0</td><td> 92.4</td><td>36.0</td><td>43.2</td><td>37.4</td><td>-185.150</td></tr>\n",
       "\t<tr><td>30</td><td>137</td><td>165.7</td><td>164.6</td><td> 87.7</td><td>32.5</td><td>35.6</td><td>36.2</td><td>-164.750</td></tr>\n",
       "\t<tr><td>28</td><td>192</td><td>185.3</td><td>182.7</td><td> 96.9</td><td>35.8</td><td>39.9</td><td>43.1</td><td>-270.920</td></tr>\n",
       "\t<tr><td>23</td><td>150</td><td>167.6</td><td>165.0</td><td> 91.4</td><td>29.4</td><td>35.5</td><td>33.4</td><td>-151.780</td></tr>\n",
       "\t<tr><td>29</td><td>120</td><td>161.2</td><td>158.7</td><td> 85.2</td><td>26.6</td><td>31.0</td><td>32.8</td><td>-113.880</td></tr>\n",
       "\t<tr><td>47</td><td>143</td><td>171.9</td><td>169.1</td><td> 87.8</td><td>32.9</td><td>39.2</td><td>36.9</td><td>-196.150</td></tr>\n",
       "\t<tr><td>41</td><td>107</td><td>155.7</td><td>152.5</td><td> 82.9</td><td>29.6</td><td>32.7</td><td>31.1</td><td>-125.550</td></tr>\n",
       "\t<tr><td>51</td><td>227</td><td>179.8</td><td>177.2</td><td> 91.7</td><td>31.1</td><td>41.4</td><td>40.2</td><td>-203.610</td></tr>\n",
       "\t<tr><td>30</td><td>147</td><td>164.9</td><td>162.7</td><td> 88.0</td><td>27.7</td><td>33.6</td><td>33.8</td><td>-163.220</td></tr>\n",
       "\t<tr><td>22</td><td>178</td><td>177.2</td><td>176.4</td><td> 94.1</td><td>31.1</td><td>41.0</td><td>36.6</td><td>-204.110</td></tr>\n",
       "\t<tr><td>67</td><td>166</td><td>177.1</td><td>175.3</td><td> 89.4</td><td>36.7</td><td>40.1</td><td>39.2</td><td>-186.800</td></tr>\n",
       "\t<tr><td>25</td><td>153</td><td>173.4</td><td>171.2</td><td> 85.0</td><td>33.1</td><td>45.2</td><td>38.4</td><td>-228.350</td></tr>\n",
       "\t<tr><td>65</td><td>113</td><td>162.6</td><td>158.7</td><td> 85.2</td><td>31.1</td><td>35.7</td><td>32.5</td><td>-103.850</td></tr>\n",
       "\t<tr><td>22</td><td>142</td><td>167.3</td><td>164.6</td><td> 90.4</td><td>29.5</td><td>36.5</td><td>34.0</td><td>-105.690</td></tr>\n",
       "\t<tr><td>21</td><td>130</td><td>172.5</td><td>170.5</td><td> 89.7</td><td>29.9</td><td>35.8</td><td>35.6</td><td>-137.360</td></tr>\n",
       "\t<tr><td>20</td><td>145</td><td>168.4</td><td>166.3</td><td> 87.9</td><td>30.3</td><td>34.6</td><td>38.5</td><td>-133.080</td></tr>\n",
       "\t<tr><td>33</td><td>293</td><td>201.2</td><td>198.4</td><td>101.6</td><td>39.6</td><td>44.2</td><td>43.1</td><td>-279.150</td></tr>\n",
       "\t<tr><td>24</td><td>180</td><td>187.6</td><td>185.3</td><td> 92.6</td><td>34.9</td><td>39.9</td><td>41.8</td><td>-185.870</td></tr>\n",
       "\t<tr><td>39</td><td>117</td><td>152.8</td><td>150.2</td><td> 79.4</td><td>28.9</td><td>34.8</td><td>30.2</td><td> -30.950</td></tr>\n",
       "\t<tr><td>58</td><td>150</td><td>169.2</td><td>166.4</td><td> 86.2</td><td>33.0</td><td>37.9</td><td>35.7</td><td>-196.550</td></tr>\n",
       "\t<tr><td>22</td><td>171</td><td>184.1</td><td>181.6</td><td> 95.4</td><td>33.7</td><td>41.8</td><td>39.2</td><td>-205.610</td></tr>\n",
       "\t<tr><td>21</td><td>125</td><td>165.8</td><td>163.4</td><td> 85.0</td><td>31.0</td><td>36.4</td><td>35.3</td><td> -94.502</td></tr>\n",
       "\t<tr><td>23</td><td>160</td><td>166.4</td><td>164.3</td><td> 86.2</td><td>29.1</td><td>36.6</td><td>31.6</td><td>-125.840</td></tr>\n",
       "\t<tr><td>21</td><td>157</td><td>177.0</td><td>175.5</td><td> 91.4</td><td>34.4</td><td>41.6</td><td>36.4</td><td>-222.500</td></tr>\n",
       "\t<tr><td>40</td><td>115</td><td>153.8</td><td>151.6</td><td> 80.3</td><td>27.5</td><td>37.6</td><td>31.7</td><td>-102.200</td></tr>\n",
       "\t<tr><td>59</td><td>168</td><td>155.2</td><td>153.0</td><td> 84.4</td><td>34.1</td><td>35.6</td><td>34.6</td><td> -47.520</td></tr>\n",
       "\t<tr><td>47</td><td>175</td><td>176.6</td><td>175.8</td><td> 90.9</td><td>34.5</td><td>45.5</td><td>37.4</td><td>-183.550</td></tr>\n",
       "\t<tr><td>72</td><td>186</td><td>177.7</td><td>175.0</td><td> 90.1</td><td>38.3</td><td>39.7</td><td>37.7</td><td>-118.050</td></tr>\n",
       "\t<tr><td>34</td><td>115</td><td>155.2</td><td>152.2</td><td> 82.0</td><td>28.9</td><td>32.9</td><td>32.6</td><td>-148.670</td></tr>\n",
       "\t<tr><td>19</td><td>150</td><td>172.2</td><td>169.9</td><td> 89.4</td><td>34.0</td><td>39.7</td><td>38.1</td><td>-268.320</td></tr>\n",
       "\t<tr><td>41</td><td>121</td><td>166.3</td><td>164.1</td><td> 86.5</td><td>31.5</td><td>45.1</td><td>33.8</td><td>-117.000</td></tr>\n",
       "\t<tr><td>21</td><td>154</td><td>172.0</td><td>170.4</td><td> 90.0</td><td>29.5</td><td>36.8</td><td>37.5</td><td>-201.510</td></tr>\n",
       "\t<tr><td>56</td><td>158</td><td>173.8</td><td>171.5</td><td> 90.0</td><td>36.1</td><td>39.2</td><td>35.5</td><td>-176.450</td></tr>\n",
       "</tbody>\n",
       "</table>\n"
      ],
      "text/latex": [
       "A data.frame: 38 × 9\n",
       "\\begin{tabular}{lllllllll}\n",
       " Age & Weight & HtShoes & Ht & Seated & Arm & Thigh & Leg & hipcenter\\\\\n",
       " <int> & <int> & <dbl> & <dbl> & <dbl> & <dbl> & <dbl> & <dbl> & <dbl>\\\\\n",
       "\\hline\n",
       "\t 46 & 180 & 187.2 & 184.9 &  95.2 & 36.1 & 45.3 & 41.3 & -206.300\\\\\n",
       "\t 31 & 175 & 167.5 & 165.5 &  83.8 & 32.9 & 36.5 & 35.9 & -178.210\\\\\n",
       "\t 23 & 100 & 153.6 & 152.2 &  82.9 & 26.0 & 36.6 & 31.0 &  -71.673\\\\\n",
       "\t 19 & 185 & 190.3 & 187.4 &  97.3 & 37.4 & 44.1 & 41.0 & -257.720\\\\\n",
       "\t 23 & 159 & 178.0 & 174.1 &  93.9 & 29.5 & 40.1 & 36.9 & -173.230\\\\\n",
       "\t 47 & 170 & 178.7 & 177.0 &  92.4 & 36.0 & 43.2 & 37.4 & -185.150\\\\\n",
       "\t 30 & 137 & 165.7 & 164.6 &  87.7 & 32.5 & 35.6 & 36.2 & -164.750\\\\\n",
       "\t 28 & 192 & 185.3 & 182.7 &  96.9 & 35.8 & 39.9 & 43.1 & -270.920\\\\\n",
       "\t 23 & 150 & 167.6 & 165.0 &  91.4 & 29.4 & 35.5 & 33.4 & -151.780\\\\\n",
       "\t 29 & 120 & 161.2 & 158.7 &  85.2 & 26.6 & 31.0 & 32.8 & -113.880\\\\\n",
       "\t 47 & 143 & 171.9 & 169.1 &  87.8 & 32.9 & 39.2 & 36.9 & -196.150\\\\\n",
       "\t 41 & 107 & 155.7 & 152.5 &  82.9 & 29.6 & 32.7 & 31.1 & -125.550\\\\\n",
       "\t 51 & 227 & 179.8 & 177.2 &  91.7 & 31.1 & 41.4 & 40.2 & -203.610\\\\\n",
       "\t 30 & 147 & 164.9 & 162.7 &  88.0 & 27.7 & 33.6 & 33.8 & -163.220\\\\\n",
       "\t 22 & 178 & 177.2 & 176.4 &  94.1 & 31.1 & 41.0 & 36.6 & -204.110\\\\\n",
       "\t 67 & 166 & 177.1 & 175.3 &  89.4 & 36.7 & 40.1 & 39.2 & -186.800\\\\\n",
       "\t 25 & 153 & 173.4 & 171.2 &  85.0 & 33.1 & 45.2 & 38.4 & -228.350\\\\\n",
       "\t 65 & 113 & 162.6 & 158.7 &  85.2 & 31.1 & 35.7 & 32.5 & -103.850\\\\\n",
       "\t 22 & 142 & 167.3 & 164.6 &  90.4 & 29.5 & 36.5 & 34.0 & -105.690\\\\\n",
       "\t 21 & 130 & 172.5 & 170.5 &  89.7 & 29.9 & 35.8 & 35.6 & -137.360\\\\\n",
       "\t 20 & 145 & 168.4 & 166.3 &  87.9 & 30.3 & 34.6 & 38.5 & -133.080\\\\\n",
       "\t 33 & 293 & 201.2 & 198.4 & 101.6 & 39.6 & 44.2 & 43.1 & -279.150\\\\\n",
       "\t 24 & 180 & 187.6 & 185.3 &  92.6 & 34.9 & 39.9 & 41.8 & -185.870\\\\\n",
       "\t 39 & 117 & 152.8 & 150.2 &  79.4 & 28.9 & 34.8 & 30.2 &  -30.950\\\\\n",
       "\t 58 & 150 & 169.2 & 166.4 &  86.2 & 33.0 & 37.9 & 35.7 & -196.550\\\\\n",
       "\t 22 & 171 & 184.1 & 181.6 &  95.4 & 33.7 & 41.8 & 39.2 & -205.610\\\\\n",
       "\t 21 & 125 & 165.8 & 163.4 &  85.0 & 31.0 & 36.4 & 35.3 &  -94.502\\\\\n",
       "\t 23 & 160 & 166.4 & 164.3 &  86.2 & 29.1 & 36.6 & 31.6 & -125.840\\\\\n",
       "\t 21 & 157 & 177.0 & 175.5 &  91.4 & 34.4 & 41.6 & 36.4 & -222.500\\\\\n",
       "\t 40 & 115 & 153.8 & 151.6 &  80.3 & 27.5 & 37.6 & 31.7 & -102.200\\\\\n",
       "\t 59 & 168 & 155.2 & 153.0 &  84.4 & 34.1 & 35.6 & 34.6 &  -47.520\\\\\n",
       "\t 47 & 175 & 176.6 & 175.8 &  90.9 & 34.5 & 45.5 & 37.4 & -183.550\\\\\n",
       "\t 72 & 186 & 177.7 & 175.0 &  90.1 & 38.3 & 39.7 & 37.7 & -118.050\\\\\n",
       "\t 34 & 115 & 155.2 & 152.2 &  82.0 & 28.9 & 32.9 & 32.6 & -148.670\\\\\n",
       "\t 19 & 150 & 172.2 & 169.9 &  89.4 & 34.0 & 39.7 & 38.1 & -268.320\\\\\n",
       "\t 41 & 121 & 166.3 & 164.1 &  86.5 & 31.5 & 45.1 & 33.8 & -117.000\\\\\n",
       "\t 21 & 154 & 172.0 & 170.4 &  90.0 & 29.5 & 36.8 & 37.5 & -201.510\\\\\n",
       "\t 56 & 158 & 173.8 & 171.5 &  90.0 & 36.1 & 39.2 & 35.5 & -176.450\\\\\n",
       "\\end{tabular}\n"
      ],
      "text/markdown": [
       "\n",
       "A data.frame: 38 × 9\n",
       "\n",
       "| Age &lt;int&gt; | Weight &lt;int&gt; | HtShoes &lt;dbl&gt; | Ht &lt;dbl&gt; | Seated &lt;dbl&gt; | Arm &lt;dbl&gt; | Thigh &lt;dbl&gt; | Leg &lt;dbl&gt; | hipcenter &lt;dbl&gt; |\n",
       "|---|---|---|---|---|---|---|---|---|\n",
       "| 46 | 180 | 187.2 | 184.9 |  95.2 | 36.1 | 45.3 | 41.3 | -206.300 |\n",
       "| 31 | 175 | 167.5 | 165.5 |  83.8 | 32.9 | 36.5 | 35.9 | -178.210 |\n",
       "| 23 | 100 | 153.6 | 152.2 |  82.9 | 26.0 | 36.6 | 31.0 |  -71.673 |\n",
       "| 19 | 185 | 190.3 | 187.4 |  97.3 | 37.4 | 44.1 | 41.0 | -257.720 |\n",
       "| 23 | 159 | 178.0 | 174.1 |  93.9 | 29.5 | 40.1 | 36.9 | -173.230 |\n",
       "| 47 | 170 | 178.7 | 177.0 |  92.4 | 36.0 | 43.2 | 37.4 | -185.150 |\n",
       "| 30 | 137 | 165.7 | 164.6 |  87.7 | 32.5 | 35.6 | 36.2 | -164.750 |\n",
       "| 28 | 192 | 185.3 | 182.7 |  96.9 | 35.8 | 39.9 | 43.1 | -270.920 |\n",
       "| 23 | 150 | 167.6 | 165.0 |  91.4 | 29.4 | 35.5 | 33.4 | -151.780 |\n",
       "| 29 | 120 | 161.2 | 158.7 |  85.2 | 26.6 | 31.0 | 32.8 | -113.880 |\n",
       "| 47 | 143 | 171.9 | 169.1 |  87.8 | 32.9 | 39.2 | 36.9 | -196.150 |\n",
       "| 41 | 107 | 155.7 | 152.5 |  82.9 | 29.6 | 32.7 | 31.1 | -125.550 |\n",
       "| 51 | 227 | 179.8 | 177.2 |  91.7 | 31.1 | 41.4 | 40.2 | -203.610 |\n",
       "| 30 | 147 | 164.9 | 162.7 |  88.0 | 27.7 | 33.6 | 33.8 | -163.220 |\n",
       "| 22 | 178 | 177.2 | 176.4 |  94.1 | 31.1 | 41.0 | 36.6 | -204.110 |\n",
       "| 67 | 166 | 177.1 | 175.3 |  89.4 | 36.7 | 40.1 | 39.2 | -186.800 |\n",
       "| 25 | 153 | 173.4 | 171.2 |  85.0 | 33.1 | 45.2 | 38.4 | -228.350 |\n",
       "| 65 | 113 | 162.6 | 158.7 |  85.2 | 31.1 | 35.7 | 32.5 | -103.850 |\n",
       "| 22 | 142 | 167.3 | 164.6 |  90.4 | 29.5 | 36.5 | 34.0 | -105.690 |\n",
       "| 21 | 130 | 172.5 | 170.5 |  89.7 | 29.9 | 35.8 | 35.6 | -137.360 |\n",
       "| 20 | 145 | 168.4 | 166.3 |  87.9 | 30.3 | 34.6 | 38.5 | -133.080 |\n",
       "| 33 | 293 | 201.2 | 198.4 | 101.6 | 39.6 | 44.2 | 43.1 | -279.150 |\n",
       "| 24 | 180 | 187.6 | 185.3 |  92.6 | 34.9 | 39.9 | 41.8 | -185.870 |\n",
       "| 39 | 117 | 152.8 | 150.2 |  79.4 | 28.9 | 34.8 | 30.2 |  -30.950 |\n",
       "| 58 | 150 | 169.2 | 166.4 |  86.2 | 33.0 | 37.9 | 35.7 | -196.550 |\n",
       "| 22 | 171 | 184.1 | 181.6 |  95.4 | 33.7 | 41.8 | 39.2 | -205.610 |\n",
       "| 21 | 125 | 165.8 | 163.4 |  85.0 | 31.0 | 36.4 | 35.3 |  -94.502 |\n",
       "| 23 | 160 | 166.4 | 164.3 |  86.2 | 29.1 | 36.6 | 31.6 | -125.840 |\n",
       "| 21 | 157 | 177.0 | 175.5 |  91.4 | 34.4 | 41.6 | 36.4 | -222.500 |\n",
       "| 40 | 115 | 153.8 | 151.6 |  80.3 | 27.5 | 37.6 | 31.7 | -102.200 |\n",
       "| 59 | 168 | 155.2 | 153.0 |  84.4 | 34.1 | 35.6 | 34.6 |  -47.520 |\n",
       "| 47 | 175 | 176.6 | 175.8 |  90.9 | 34.5 | 45.5 | 37.4 | -183.550 |\n",
       "| 72 | 186 | 177.7 | 175.0 |  90.1 | 38.3 | 39.7 | 37.7 | -118.050 |\n",
       "| 34 | 115 | 155.2 | 152.2 |  82.0 | 28.9 | 32.9 | 32.6 | -148.670 |\n",
       "| 19 | 150 | 172.2 | 169.9 |  89.4 | 34.0 | 39.7 | 38.1 | -268.320 |\n",
       "| 41 | 121 | 166.3 | 164.1 |  86.5 | 31.5 | 45.1 | 33.8 | -117.000 |\n",
       "| 21 | 154 | 172.0 | 170.4 |  90.0 | 29.5 | 36.8 | 37.5 | -201.510 |\n",
       "| 56 | 158 | 173.8 | 171.5 |  90.0 | 36.1 | 39.2 | 35.5 | -176.450 |\n",
       "\n"
      ],
      "text/plain": [
       "   Age Weight HtShoes Ht    Seated Arm  Thigh Leg  hipcenter\n",
       "1  46  180    187.2   184.9  95.2  36.1 45.3  41.3 -206.300 \n",
       "2  31  175    167.5   165.5  83.8  32.9 36.5  35.9 -178.210 \n",
       "3  23  100    153.6   152.2  82.9  26.0 36.6  31.0  -71.673 \n",
       "4  19  185    190.3   187.4  97.3  37.4 44.1  41.0 -257.720 \n",
       "5  23  159    178.0   174.1  93.9  29.5 40.1  36.9 -173.230 \n",
       "6  47  170    178.7   177.0  92.4  36.0 43.2  37.4 -185.150 \n",
       "7  30  137    165.7   164.6  87.7  32.5 35.6  36.2 -164.750 \n",
       "8  28  192    185.3   182.7  96.9  35.8 39.9  43.1 -270.920 \n",
       "9  23  150    167.6   165.0  91.4  29.4 35.5  33.4 -151.780 \n",
       "10 29  120    161.2   158.7  85.2  26.6 31.0  32.8 -113.880 \n",
       "11 47  143    171.9   169.1  87.8  32.9 39.2  36.9 -196.150 \n",
       "12 41  107    155.7   152.5  82.9  29.6 32.7  31.1 -125.550 \n",
       "13 51  227    179.8   177.2  91.7  31.1 41.4  40.2 -203.610 \n",
       "14 30  147    164.9   162.7  88.0  27.7 33.6  33.8 -163.220 \n",
       "15 22  178    177.2   176.4  94.1  31.1 41.0  36.6 -204.110 \n",
       "16 67  166    177.1   175.3  89.4  36.7 40.1  39.2 -186.800 \n",
       "17 25  153    173.4   171.2  85.0  33.1 45.2  38.4 -228.350 \n",
       "18 65  113    162.6   158.7  85.2  31.1 35.7  32.5 -103.850 \n",
       "19 22  142    167.3   164.6  90.4  29.5 36.5  34.0 -105.690 \n",
       "20 21  130    172.5   170.5  89.7  29.9 35.8  35.6 -137.360 \n",
       "21 20  145    168.4   166.3  87.9  30.3 34.6  38.5 -133.080 \n",
       "22 33  293    201.2   198.4 101.6  39.6 44.2  43.1 -279.150 \n",
       "23 24  180    187.6   185.3  92.6  34.9 39.9  41.8 -185.870 \n",
       "24 39  117    152.8   150.2  79.4  28.9 34.8  30.2  -30.950 \n",
       "25 58  150    169.2   166.4  86.2  33.0 37.9  35.7 -196.550 \n",
       "26 22  171    184.1   181.6  95.4  33.7 41.8  39.2 -205.610 \n",
       "27 21  125    165.8   163.4  85.0  31.0 36.4  35.3  -94.502 \n",
       "28 23  160    166.4   164.3  86.2  29.1 36.6  31.6 -125.840 \n",
       "29 21  157    177.0   175.5  91.4  34.4 41.6  36.4 -222.500 \n",
       "30 40  115    153.8   151.6  80.3  27.5 37.6  31.7 -102.200 \n",
       "31 59  168    155.2   153.0  84.4  34.1 35.6  34.6  -47.520 \n",
       "32 47  175    176.6   175.8  90.9  34.5 45.5  37.4 -183.550 \n",
       "33 72  186    177.7   175.0  90.1  38.3 39.7  37.7 -118.050 \n",
       "34 34  115    155.2   152.2  82.0  28.9 32.9  32.6 -148.670 \n",
       "35 19  150    172.2   169.9  89.4  34.0 39.7  38.1 -268.320 \n",
       "36 41  121    166.3   164.1  86.5  31.5 45.1  33.8 -117.000 \n",
       "37 21  154    172.0   170.4  90.0  29.5 36.8  37.5 -201.510 \n",
       "38 56  158    173.8   171.5  90.0  36.1 39.2  35.5 -176.450 "
      ]
     },
     "metadata": {},
     "output_type": "display_data"
    }
   ],
   "source": [
    "ex4"
   ]
  },
  {
   "cell_type": "markdown",
   "id": "df0abe10-336f-4796-8373-fb41b64f12b1",
   "metadata": {},
   "source": [
    "## (1)"
   ]
  },
  {
   "cell_type": "markdown",
   "id": "b87b6738-5285-44a4-9efd-12af6cbb8044",
   "metadata": {},
   "source": [
    "변수들 사이의 산점도행렬을 그리고 설명하여라."
   ]
  },
  {
   "cell_type": "code",
   "execution_count": 4,
   "id": "7f1f43f6-845d-4928-8d37-f2fb4ec9d511",
   "metadata": {},
   "outputs": [
    {
     "data": {
      "image/png": "[encoded data removed]",
      "text/plain": [
       "plot without title"
      ]
     },
     "metadata": {
      "image/png": {
       "height": 420,
       "width": 420
      }
     },
     "output_type": "display_data"
    }
   ],
   "source": [
    "pairs(ex4)"
   ]
  },
  {
   "cell_type": "markdown",
   "id": "07ba49d7-073a-486a-ac22-7c1f5c1c841d",
   "metadata": {},
   "source": [
    "- hipcenter와 대부분 음의 상관관계가 있어보이고, Age는 관계가 없어보인다.\n",
    "\n",
    "- 다른 설명변수들간에도 서로 양의 상관관계가 있어보인다. Age는 다른 변수들과도 관계가 없어 보임. "
   ]
  },
  {
   "cell_type": "markdown",
   "id": "ac9bfa05-8026-404e-912a-97f21d4efea3",
   "metadata": {},
   "source": [
    "## (2)"
   ]
  },
  {
   "cell_type": "markdown",
   "id": "7ec1e634-a515-4e9b-894a-4d2bc2eac0cf",
   "metadata": {},
   "source": [
    "변수들 사이의 상관계수를 구하여라. (소수점 둘째자리까지 반올림) 다중공선성이 존재한다고 할 수\n",
    "있는가?"
   ]
  },
  {
   "cell_type": "code",
   "execution_count": 5,
   "id": "6b635c48-bf39-4e7b-ac25-529a2c0cd445",
   "metadata": {},
   "outputs": [
    {
     "data": {
      "text/html": [
       "<table class=\"dataframe\">\n",
       "<caption>A matrix: 9 × 9 of type dbl</caption>\n",
       "<thead>\n",
       "\t<tr><th></th><th scope=col>Age</th><th scope=col>Weight</th><th scope=col>HtShoes</th><th scope=col>Ht</th><th scope=col>Seated</th><th scope=col>Arm</th><th scope=col>Thigh</th><th scope=col>Leg</th><th scope=col>hipcenter</th></tr>\n",
       "</thead>\n",
       "<tbody>\n",
       "\t<tr><th scope=row>Age</th><td> 1.00</td><td> 0.08</td><td>-0.08</td><td>-0.09</td><td>-0.17</td><td> 0.36</td><td> 0.09</td><td>-0.04</td><td> 0.21</td></tr>\n",
       "\t<tr><th scope=row>Weight</th><td> 0.08</td><td> 1.00</td><td> 0.83</td><td> 0.83</td><td> 0.78</td><td> 0.70</td><td> 0.57</td><td> 0.78</td><td>-0.64</td></tr>\n",
       "\t<tr><th scope=row>HtShoes</th><td>-0.08</td><td> 0.83</td><td> 1.00</td><td> 1.00</td><td> 0.93</td><td> 0.75</td><td> 0.72</td><td> 0.91</td><td>-0.80</td></tr>\n",
       "\t<tr><th scope=row>Ht</th><td>-0.09</td><td> 0.83</td><td> 1.00</td><td> 1.00</td><td> 0.93</td><td> 0.75</td><td> 0.73</td><td> 0.91</td><td>-0.80</td></tr>\n",
       "\t<tr><th scope=row>Seated</th><td>-0.17</td><td> 0.78</td><td> 0.93</td><td> 0.93</td><td> 1.00</td><td> 0.63</td><td> 0.61</td><td> 0.81</td><td>-0.73</td></tr>\n",
       "\t<tr><th scope=row>Arm</th><td> 0.36</td><td> 0.70</td><td> 0.75</td><td> 0.75</td><td> 0.63</td><td> 1.00</td><td> 0.67</td><td> 0.75</td><td>-0.59</td></tr>\n",
       "\t<tr><th scope=row>Thigh</th><td> 0.09</td><td> 0.57</td><td> 0.72</td><td> 0.73</td><td> 0.61</td><td> 0.67</td><td> 1.00</td><td> 0.65</td><td>-0.59</td></tr>\n",
       "\t<tr><th scope=row>Leg</th><td>-0.04</td><td> 0.78</td><td> 0.91</td><td> 0.91</td><td> 0.81</td><td> 0.75</td><td> 0.65</td><td> 1.00</td><td>-0.79</td></tr>\n",
       "\t<tr><th scope=row>hipcenter</th><td> 0.21</td><td>-0.64</td><td>-0.80</td><td>-0.80</td><td>-0.73</td><td>-0.59</td><td>-0.59</td><td>-0.79</td><td> 1.00</td></tr>\n",
       "</tbody>\n",
       "</table>\n"
      ],
      "text/latex": [
       "A matrix: 9 × 9 of type dbl\n",
       "\\begin{tabular}{r|lllllllll}\n",
       "  & Age & Weight & HtShoes & Ht & Seated & Arm & Thigh & Leg & hipcenter\\\\\n",
       "\\hline\n",
       "\tAge &  1.00 &  0.08 & -0.08 & -0.09 & -0.17 &  0.36 &  0.09 & -0.04 &  0.21\\\\\n",
       "\tWeight &  0.08 &  1.00 &  0.83 &  0.83 &  0.78 &  0.70 &  0.57 &  0.78 & -0.64\\\\\n",
       "\tHtShoes & -0.08 &  0.83 &  1.00 &  1.00 &  0.93 &  0.75 &  0.72 &  0.91 & -0.80\\\\\n",
       "\tHt & -0.09 &  0.83 &  1.00 &  1.00 &  0.93 &  0.75 &  0.73 &  0.91 & -0.80\\\\\n",
       "\tSeated & -0.17 &  0.78 &  0.93 &  0.93 &  1.00 &  0.63 &  0.61 &  0.81 & -0.73\\\\\n",
       "\tArm &  0.36 &  0.70 &  0.75 &  0.75 &  0.63 &  1.00 &  0.67 &  0.75 & -0.59\\\\\n",
       "\tThigh &  0.09 &  0.57 &  0.72 &  0.73 &  0.61 &  0.67 &  1.00 &  0.65 & -0.59\\\\\n",
       "\tLeg & -0.04 &  0.78 &  0.91 &  0.91 &  0.81 &  0.75 &  0.65 &  1.00 & -0.79\\\\\n",
       "\thipcenter &  0.21 & -0.64 & -0.80 & -0.80 & -0.73 & -0.59 & -0.59 & -0.79 &  1.00\\\\\n",
       "\\end{tabular}\n"
      ],
      "text/markdown": [
       "\n",
       "A matrix: 9 × 9 of type dbl\n",
       "\n",
       "| <!--/--> | Age | Weight | HtShoes | Ht | Seated | Arm | Thigh | Leg | hipcenter |\n",
       "|---|---|---|---|---|---|---|---|---|---|\n",
       "| Age |  1.00 |  0.08 | -0.08 | -0.09 | -0.17 |  0.36 |  0.09 | -0.04 |  0.21 |\n",
       "| Weight |  0.08 |  1.00 |  0.83 |  0.83 |  0.78 |  0.70 |  0.57 |  0.78 | -0.64 |\n",
       "| HtShoes | -0.08 |  0.83 |  1.00 |  1.00 |  0.93 |  0.75 |  0.72 |  0.91 | -0.80 |\n",
       "| Ht | -0.09 |  0.83 |  1.00 |  1.00 |  0.93 |  0.75 |  0.73 |  0.91 | -0.80 |\n",
       "| Seated | -0.17 |  0.78 |  0.93 |  0.93 |  1.00 |  0.63 |  0.61 |  0.81 | -0.73 |\n",
       "| Arm |  0.36 |  0.70 |  0.75 |  0.75 |  0.63 |  1.00 |  0.67 |  0.75 | -0.59 |\n",
       "| Thigh |  0.09 |  0.57 |  0.72 |  0.73 |  0.61 |  0.67 |  1.00 |  0.65 | -0.59 |\n",
       "| Leg | -0.04 |  0.78 |  0.91 |  0.91 |  0.81 |  0.75 |  0.65 |  1.00 | -0.79 |\n",
       "| hipcenter |  0.21 | -0.64 | -0.80 | -0.80 | -0.73 | -0.59 | -0.59 | -0.79 |  1.00 |\n",
       "\n"
      ],
      "text/plain": [
       "          Age   Weight HtShoes Ht    Seated Arm   Thigh Leg   hipcenter\n",
       "Age        1.00  0.08  -0.08   -0.09 -0.17   0.36  0.09 -0.04  0.21    \n",
       "Weight     0.08  1.00   0.83    0.83  0.78   0.70  0.57  0.78 -0.64    \n",
       "HtShoes   -0.08  0.83   1.00    1.00  0.93   0.75  0.72  0.91 -0.80    \n",
       "Ht        -0.09  0.83   1.00    1.00  0.93   0.75  0.73  0.91 -0.80    \n",
       "Seated    -0.17  0.78   0.93    0.93  1.00   0.63  0.61  0.81 -0.73    \n",
       "Arm        0.36  0.70   0.75    0.75  0.63   1.00  0.67  0.75 -0.59    \n",
       "Thigh      0.09  0.57   0.72    0.73  0.61   0.67  1.00  0.65 -0.59    \n",
       "Leg       -0.04  0.78   0.91    0.91  0.81   0.75  0.65  1.00 -0.79    \n",
       "hipcenter  0.21 -0.64  -0.80   -0.80 -0.73  -0.59 -0.59 -0.79  1.00    "
      ]
     },
     "metadata": {},
     "output_type": "display_data"
    }
   ],
   "source": [
    "round(cor(ex4),2)"
   ]
  },
  {
   "cell_type": "markdown",
   "id": "e6107c7f-143a-41a0-a787-8b48c3a77459",
   "metadata": {},
   "source": [
    "- 각 변수들간의 상관관계가 대체적으로 높은 편이며 양의 상관관계를 가지는 경우가 많다. \n",
    "\n"
   ]
  },
  {
   "cell_type": "markdown",
   "id": "f379c4bc-f56e-435f-93b6-f34a722b8790",
   "metadata": {},
   "source": [
    "## (3)"
   ]
  },
  {
   "cell_type": "markdown",
   "id": "e34f04fe-fbe9-493f-946c-ad334404db5e",
   "metadata": {},
   "source": [
    "선형회귀모형을 적합하여라. (계수를 추정. 예 : $\\hat y = 3 + 2x$ 이렇게 적어주기)"
   ]
  },
  {
   "cell_type": "code",
   "execution_count": 6,
   "id": "4b9b2022-159b-4c82-9485-6134aacea594",
   "metadata": {},
   "outputs": [
    {
     "data": {
      "text/plain": [
       "\n",
       "Call:\n",
       "lm(formula = hipcenter ~ ., data = ex4)\n",
       "\n",
       "Residuals:\n",
       "    Min      1Q  Median      3Q     Max \n",
       "-73.827 -22.833  -3.678  25.017  62.337 \n",
       "\n",
       "Coefficients:\n",
       "             Estimate Std. Error t value Pr(>|t|)  \n",
       "(Intercept) 436.43213  166.57162   2.620   0.0138 *\n",
       "Age           0.77572    0.57033   1.360   0.1843  \n",
       "Weight        0.02631    0.33097   0.080   0.9372  \n",
       "HtShoes      -2.69241    9.75304  -0.276   0.7845  \n",
       "Ht            0.60134   10.12987   0.059   0.9531  \n",
       "Seated        0.53375    3.76189   0.142   0.8882  \n",
       "Arm          -1.32807    3.90020  -0.341   0.7359  \n",
       "Thigh        -1.14312    2.66002  -0.430   0.6706  \n",
       "Leg          -6.43905    4.71386  -1.366   0.1824  \n",
       "---\n",
       "Signif. codes:  0 ‘***’ 0.001 ‘**’ 0.01 ‘*’ 0.05 ‘.’ 0.1 ‘ ’ 1\n",
       "\n",
       "Residual standard error: 37.72 on 29 degrees of freedom\n",
       "Multiple R-squared:  0.6866,\tAdjusted R-squared:  0.6001 \n",
       "F-statistic:  7.94 on 8 and 29 DF,  p-value: 1.306e-05\n"
      ]
     },
     "metadata": {},
     "output_type": "display_data"
    }
   ],
   "source": [
    "fit <- lm(hipcenter~., ex4)\n",
    "summary(fit)"
   ]
  },
  {
   "cell_type": "markdown",
   "id": "c9dc0c0f-bcd0-455e-8ae3-ecef040d5b1e",
   "metadata": {},
   "source": [
    "$\\widehat {hipcenter}=436.43+0.78 \\widehat{Age} + 0.03 \\widehat{Weight} - 2.69 \\widehat{HtShoes}+0.60\\widehat{Ht}+0.53\\widehat{Seated}-1.33\\widehat{Arm}-1.14\\widehat{Thigh}-6.44\\widehat{Leg}$"
   ]
  },
  {
   "cell_type": "markdown",
   "id": "b892f8d0-0c26-4713-bb0d-7eaf4f125022",
   "metadata": {},
   "source": [
    "## (4)"
   ]
  },
  {
   "cell_type": "markdown",
   "id": "f4dbe82e-8c42-42cf-b54e-cd54a49bcd1b",
   "metadata": {},
   "source": [
    "위의 선형회귀모형에서 개별 회귀계수의 유의성 검정 결과와 (1),(2)번 결과와 연관지어 설명하여라."
   ]
  },
  {
   "cell_type": "markdown",
   "id": "d6d1172f-cf3e-4ea5-9608-740a1511ce48",
   "metadata": {},
   "source": [
    "회귀모형의 p-value값은 1.306e-05으로 유의하고 $R^2$값도 68%정도로 약간 높은 편이지만 회귀계수는 절편을 제외하고는(절편도..그닥.) 모두 유의하지 않다. 이와 같은 경우는 다중공산성이 존재하기 때문이다."
   ]
  },
  {
   "cell_type": "markdown",
   "id": "8b5485ea-7c24-4e9a-887d-8e6ca091eaf0",
   "metadata": {},
   "source": [
    "## (5)"
   ]
  },
  {
   "cell_type": "markdown",
   "id": "8e2315d8-d635-4592-8204-79dbab30e5a2",
   "metadata": {},
   "source": [
    "car 패키지의 vif 함수를 이용하여 각 설명변수의 vif값을 구하여라."
   ]
  },
  {
   "cell_type": "code",
   "execution_count": 7,
   "id": "774d4398-543d-46cf-a068-5c822cebc64e",
   "metadata": {},
   "outputs": [
    {
     "data": {
      "text/html": [
       "<style>\n",
       ".dl-inline {width: auto; margin:0; padding: 0}\n",
       ".dl-inline>dt, .dl-inline>dd {float: none; width: auto; display: inline-block}\n",
       ".dl-inline>dt::after {content: \":\\0020\"; padding-right: .5ex}\n",
       ".dl-inline>dt:not(:first-of-type) {padding-left: .5ex}\n",
       "</style><dl class=dl-inline><dt>Age</dt><dd>1.99793147706444</dd><dt>Weight</dt><dd>3.64703012881283</dd><dt>HtShoes</dt><dd>307.429378016771</dd><dt>Ht</dt><dd>333.137832387527</dd><dt>Seated</dt><dd>8.95105380157058</dd><dt>Arm</dt><dd>4.49636844261058</dd><dt>Thigh</dt><dd>2.76288552162407</dd><dt>Leg</dt><dd>6.69429122446916</dd></dl>\n"
      ],
      "text/latex": [
       "\\begin{description*}\n",
       "\\item[Age] 1.99793147706444\n",
       "\\item[Weight] 3.64703012881283\n",
       "\\item[HtShoes] 307.429378016771\n",
       "\\item[Ht] 333.137832387527\n",
       "\\item[Seated] 8.95105380157058\n",
       "\\item[Arm] 4.49636844261058\n",
       "\\item[Thigh] 2.76288552162407\n",
       "\\item[Leg] 6.69429122446916\n",
       "\\end{description*}\n"
      ],
      "text/markdown": [
       "Age\n",
       ":   1.99793147706444Weight\n",
       ":   3.64703012881283HtShoes\n",
       ":   307.429378016771Ht\n",
       ":   333.137832387527Seated\n",
       ":   8.95105380157058Arm\n",
       ":   4.49636844261058Thigh\n",
       ":   2.76288552162407Leg\n",
       ":   6.69429122446916\n",
       "\n"
      ],
      "text/plain": [
       "       Age     Weight    HtShoes         Ht     Seated        Arm      Thigh \n",
       "  1.997931   3.647030 307.429378 333.137832   8.951054   4.496368   2.762886 \n",
       "       Leg \n",
       "  6.694291 "
      ]
     },
     "metadata": {},
     "output_type": "display_data"
    }
   ],
   "source": [
    "vif(fit)"
   ]
  },
  {
   "cell_type": "markdown",
   "id": "822c9522-ef1e-405d-9fe5-8103ceca25c8",
   "metadata": {},
   "source": [
    "- vif의 값이 10이상이면 다중공산성이 있다고 보자.\n",
    "\n",
    "- HtShoes,Ht의 값이 높은 값을 가지며 다중곤상성이 있다."
   ]
  },
  {
   "cell_type": "markdown",
   "id": "f88d48c1-9493-4ea8-b78e-efcdf5e3a835",
   "metadata": {},
   "source": [
    "## (6)"
   ]
  },
  {
   "cell_type": "markdown",
   "id": "00ae30a1-5a81-4ed0-ac8a-1735e0edc2b5",
   "metadata": {},
   "source": [
    "glmnet 함수를 이용하여 능형회귀모형을 적합하고자 한다."
   ]
  },
  {
   "cell_type": "markdown",
   "id": "827ddc11-20ac-487e-9f74-ecec03c3faf4",
   "metadata": {},
   "source": [
    "### (a)"
   ]
  },
  {
   "cell_type": "code",
   "execution_count": 9,
   "id": "70d66eea-231b-400b-affb-06799068b1a2",
   "metadata": {},
   "outputs": [],
   "source": [
    "X <- model.matrix(hipcenter~., ex4)[,-1] \n",
    "y <- ex4$hipcenter"
   ]
  },
  {
   "cell_type": "markdown",
   "id": "e96e46bc-ad1e-4932-a544-090d1de9874c",
   "metadata": {},
   "source": [
    "λ 의 값에 따라 회귀계수가 변하는지 그림으로 보여라. (이 때 0 < λ < 100 으로 설정)\n",
    "\n"
   ]
  },
  {
   "cell_type": "code",
   "execution_count": 10,
   "id": "27c68e97-ceeb-4998-8c5f-1a1280c7dfd5",
   "metadata": {},
   "outputs": [
    {
     "data": {
      "image/png": "[encoded data removed]",
      "text/plain": [
       "plot without title"
      ]
     },
     "metadata": {
      "image/png": {
       "height": 420,
       "width": 420
      }
     },
     "output_type": "display_data"
    }
   ],
   "source": [
    "ridge.fit<-glmnet(X,y,alpha=0, lambda=seq(0,100,0.1)) ##ridge : alpha=0 \n",
    "plot(ridge.fit, label=TRUE)\n",
    "abline(h=0, col=\"grey\", lty=2)"
   ]
  },
  {
   "cell_type": "markdown",
   "id": "6447c1f8-459b-4f54-b217-3e8d23f16d28",
   "metadata": {},
   "source": [
    "### (b)"
   ]
  },
  {
   "cell_type": "markdown",
   "id": "0c83d873-2521-4b08-85fa-a5c2d1d59a62",
   "metadata": {},
   "source": [
    "교차검증을 수행하였을 때, MSE를 가장 작게 하는 λ 는 무엇인가?"
   ]
  },
  {
   "cell_type": "code",
   "execution_count": 66,
   "id": "52c7a5d5-6a07-4f74-939b-0ac209d23bc5",
   "metadata": {},
   "outputs": [],
   "source": [
    "X <- model.matrix(hipcenter~., ex4)[,-1] \n",
    "y <- ex4$hipcenter"
   ]
  },
  {
   "cell_type": "code",
   "execution_count": null,
   "id": "5c50ff84-74bf-442c-af81-2c90ae4d0bb1",
   "metadata": {},
   "outputs": [],
   "source": []
  },
  {
   "cell_type": "code",
   "execution_count": null,
   "id": "7efbb42b-6e29-49ca-b1fb-d0bff0d61395",
   "metadata": {},
   "outputs": [],
   "source": []
  },
  {
   "cell_type": "code",
   "execution_count": 11,
   "id": "7fc4c8d7-e378-4192-ac2d-4ad928c7ddc8",
   "metadata": {},
   "outputs": [
    {
     "name": "stderr",
     "output_type": "stream",
     "text": [
      "Warning message:\n",
      "“Option grouped=FALSE enforced in cv.glmnet, since < 3 observations per fold”\n"
     ]
    }
   ],
   "source": [
    "cv.fit<-cv.glmnet(X,y,alpha=0,nfolds=length(y))"
   ]
  },
  {
   "cell_type": "code",
   "execution_count": 12,
   "id": "1c2987e5-6d8b-4101-bde7-c20c0d1d0ba4",
   "metadata": {},
   "outputs": [
    {
     "data": {
      "text/plain": [
       "\n",
       "Call:  cv.glmnet(x = X, y = y, nfolds = length(y), alpha = 0) \n",
       "\n",
       "Measure: Mean-Squared Error \n",
       "\n",
       "    Lambda Index Measure    SE Nonzero\n",
       "min  36.41    78    1442 315.7       8\n",
       "1se 213.24    59    1750 411.7       8"
      ]
     },
     "metadata": {},
     "output_type": "display_data"
    }
   ],
   "source": [
    "cv.fit"
   ]
  },
  {
   "cell_type": "markdown",
   "id": "b9626d54-8254-4050-8e23-b1cc5e187e6f",
   "metadata": {},
   "source": [
    "- $\\lambda$=36.41일 때 MSE가 가장 작다."
   ]
  },
  {
   "cell_type": "code",
   "execution_count": null,
   "id": "239416b4-4c50-42c3-bd16-747b7d880208",
   "metadata": {},
   "outputs": [],
   "source": []
  },
  {
   "cell_type": "markdown",
   "id": "376bb087-f46c-4ce4-8cab-fa520682f569",
   "metadata": {},
   "source": [
    "### (c) 이게 맞나..."
   ]
  },
  {
   "cell_type": "markdown",
   "id": "e6ca40c9-fa60-41c6-be43-55906701ac35",
   "metadata": {},
   "source": [
    "위의 λ에 대한 능형회귀 추정량은 무엇인가?"
   ]
  },
  {
   "cell_type": "code",
   "execution_count": 13,
   "id": "614196d2-14f2-4581-ae86-7781038f6f1b",
   "metadata": {},
   "outputs": [
    {
     "data": {
      "text/html": [
       "36.4079887395858"
      ],
      "text/latex": [
       "36.4079887395858"
      ],
      "text/markdown": [
       "36.4079887395858"
      ],
      "text/plain": [
       "[1] 36.40799"
      ]
     },
     "metadata": {},
     "output_type": "display_data"
    }
   ],
   "source": [
    "lam<-cv.fit$lambda.min;lam"
   ]
  },
  {
   "cell_type": "code",
   "execution_count": 14,
   "id": "e708c505-4aee-42fc-b443-b862f231fc80",
   "metadata": {},
   "outputs": [
    {
     "data": {
      "text/html": [
       "3.59478822143023"
      ],
      "text/latex": [
       "3.59478822143023"
      ],
      "text/markdown": [
       "3.59478822143023"
      ],
      "text/plain": [
       "[1] 3.594788"
      ]
     },
     "metadata": {},
     "output_type": "display_data"
    }
   ],
   "source": [
    "log(lam)"
   ]
  },
  {
   "cell_type": "code",
   "execution_count": 15,
   "id": "e4511825-d110-470a-806e-b007c551c09f",
   "metadata": {},
   "outputs": [
    {
     "data": {
      "text/plain": [
       "9 x 1 sparse Matrix of class \"dgCMatrix\"\n",
       "                     s1\n",
       "(Intercept) 400.1966209\n",
       "Age           0.4741535\n",
       "Weight       -0.1060971\n",
       "HtShoes      -0.7390462\n",
       "Ht           -0.7374872\n",
       "Seated       -1.2030446\n",
       "Arm          -1.3553194\n",
       "Thigh        -1.3044858\n",
       "Leg          -3.1112979"
      ]
     },
     "metadata": {},
     "output_type": "display_data"
    }
   ],
   "source": [
    "predict(ridge.fit,type=\"coefficients\",s=lam)"
   ]
  },
  {
   "cell_type": "code",
   "execution_count": 16,
   "id": "66c88bb7-ee5d-4c23-9f4b-52c421d8f3a7",
   "metadata": {},
   "outputs": [],
   "source": [
    "beta <- predict(ridge.fit,type=\"coefficients\",s=lam)"
   ]
  },
  {
   "cell_type": "code",
   "execution_count": 17,
   "id": "17297070-9991-4870-ad97-c392dbbf3da1",
   "metadata": {},
   "outputs": [
    {
     "data": {
      "text/plain": [
       "9 x 1 sparse Matrix of class \"dgCMatrix\"\n",
       "                     s1\n",
       "(Intercept) 400.1966209\n",
       "Age           0.4741535\n",
       "Weight       -0.1060971\n",
       "HtShoes      -0.7390462\n",
       "Ht           -0.7374872\n",
       "Seated       -1.2030446\n",
       "Arm          -1.3553194\n",
       "Thigh        -1.3044858\n",
       "Leg          -3.1112979"
      ]
     },
     "metadata": {},
     "output_type": "display_data"
    }
   ],
   "source": [
    "beta"
   ]
  },
  {
   "cell_type": "code",
   "execution_count": null,
   "id": "915f85d3-7481-47ce-8ddf-f33da21e19dc",
   "metadata": {},
   "outputs": [],
   "source": []
  },
  {
   "cell_type": "markdown",
   "id": "dc685a09-8c3c-4885-80cf-448a57fc66ce",
   "metadata": {},
   "source": [
    "# 2번"
   ]
  },
  {
   "cell_type": "markdown",
   "id": "0408945e-81b2-4092-8caa-4173981568fd",
   "metadata": {},
   "source": [
    "Hastie와 Tibshirani (1990, p.282)는 척추가 심하게 앞으로 굽어서 척추 교정 수술을 해야하는 척추후만증(kyphosis)에 대한 위험인자를 결정하는 연구를 하였다. 18명의 척추후만증 환자들을 대상으로 수술했을\n",
    "때의 나이(월)는 각각 12, 15, 42, 52, 59, 73, 82, 91, 96, 105, 114, 120, 121, 128, 130, 139, 139, 157였고, 척추후만증이 없는 22명의 환자의 나이는 1, 1, 2, 8, 11, 18, 22, 31, 37, 61, 72, 81, 97, 112, 118, 127, 131,140, 151, 159, 177, 206으로 조사되었다. 다음 물음에 답하여라.\n"
   ]
  },
  {
   "cell_type": "code",
   "execution_count": 18,
   "id": "44260e88-fc94-4aed-a376-a1da1d8ed801",
   "metadata": {},
   "outputs": [],
   "source": [
    "kyphosisY <-c(12, 15, 42, 52, 59, 73, 82, 91, 96, 105, 114, 120, 121, 128, 130, 139, 139, 157)\n",
    "kyphosisN <-c(1, 1, 2, 8, 11, 18, 22, 31, 37, 61, 72, 81, 97, 112, 118, 127, 131,140, 151, 159, 177, 206)"
   ]
  },
  {
   "cell_type": "code",
   "execution_count": 19,
   "id": "ebb9d413-f1e1-493a-accd-b5ad4025985b",
   "metadata": {},
   "outputs": [],
   "source": [
    "y <- c(rep(1, length(kyphosisY)), rep(0, length(kyphosisN)))"
   ]
  },
  {
   "cell_type": "code",
   "execution_count": 20,
   "id": "18737695-117a-411c-9339-e71a97d3a7ed",
   "metadata": {},
   "outputs": [],
   "source": [
    "dt <- data.frame(age = c(kyphosisY, kyphosisN), kyphosis = y)"
   ]
  },
  {
   "cell_type": "code",
   "execution_count": 21,
   "id": "3b458406-d95e-40e9-9a82-b6d12ddafaea",
   "metadata": {},
   "outputs": [
    {
     "data": {
      "text/html": [
       "<table class=\"dataframe\">\n",
       "<caption>A data.frame: 40 × 2</caption>\n",
       "<thead>\n",
       "\t<tr><th scope=col>age</th><th scope=col>kyphosis</th></tr>\n",
       "\t<tr><th scope=col>&lt;dbl&gt;</th><th scope=col>&lt;dbl&gt;</th></tr>\n",
       "</thead>\n",
       "<tbody>\n",
       "\t<tr><td> 12</td><td>1</td></tr>\n",
       "\t<tr><td> 15</td><td>1</td></tr>\n",
       "\t<tr><td> 42</td><td>1</td></tr>\n",
       "\t<tr><td> 52</td><td>1</td></tr>\n",
       "\t<tr><td> 59</td><td>1</td></tr>\n",
       "\t<tr><td> 73</td><td>1</td></tr>\n",
       "\t<tr><td> 82</td><td>1</td></tr>\n",
       "\t<tr><td> 91</td><td>1</td></tr>\n",
       "\t<tr><td> 96</td><td>1</td></tr>\n",
       "\t<tr><td>105</td><td>1</td></tr>\n",
       "\t<tr><td>114</td><td>1</td></tr>\n",
       "\t<tr><td>120</td><td>1</td></tr>\n",
       "\t<tr><td>121</td><td>1</td></tr>\n",
       "\t<tr><td>128</td><td>1</td></tr>\n",
       "\t<tr><td>130</td><td>1</td></tr>\n",
       "\t<tr><td>139</td><td>1</td></tr>\n",
       "\t<tr><td>139</td><td>1</td></tr>\n",
       "\t<tr><td>157</td><td>1</td></tr>\n",
       "\t<tr><td>  1</td><td>0</td></tr>\n",
       "\t<tr><td>  1</td><td>0</td></tr>\n",
       "\t<tr><td>  2</td><td>0</td></tr>\n",
       "\t<tr><td>  8</td><td>0</td></tr>\n",
       "\t<tr><td> 11</td><td>0</td></tr>\n",
       "\t<tr><td> 18</td><td>0</td></tr>\n",
       "\t<tr><td> 22</td><td>0</td></tr>\n",
       "\t<tr><td> 31</td><td>0</td></tr>\n",
       "\t<tr><td> 37</td><td>0</td></tr>\n",
       "\t<tr><td> 61</td><td>0</td></tr>\n",
       "\t<tr><td> 72</td><td>0</td></tr>\n",
       "\t<tr><td> 81</td><td>0</td></tr>\n",
       "\t<tr><td> 97</td><td>0</td></tr>\n",
       "\t<tr><td>112</td><td>0</td></tr>\n",
       "\t<tr><td>118</td><td>0</td></tr>\n",
       "\t<tr><td>127</td><td>0</td></tr>\n",
       "\t<tr><td>131</td><td>0</td></tr>\n",
       "\t<tr><td>140</td><td>0</td></tr>\n",
       "\t<tr><td>151</td><td>0</td></tr>\n",
       "\t<tr><td>159</td><td>0</td></tr>\n",
       "\t<tr><td>177</td><td>0</td></tr>\n",
       "\t<tr><td>206</td><td>0</td></tr>\n",
       "</tbody>\n",
       "</table>\n"
      ],
      "text/latex": [
       "A data.frame: 40 × 2\n",
       "\\begin{tabular}{ll}\n",
       " age & kyphosis\\\\\n",
       " <dbl> & <dbl>\\\\\n",
       "\\hline\n",
       "\t  12 & 1\\\\\n",
       "\t  15 & 1\\\\\n",
       "\t  42 & 1\\\\\n",
       "\t  52 & 1\\\\\n",
       "\t  59 & 1\\\\\n",
       "\t  73 & 1\\\\\n",
       "\t  82 & 1\\\\\n",
       "\t  91 & 1\\\\\n",
       "\t  96 & 1\\\\\n",
       "\t 105 & 1\\\\\n",
       "\t 114 & 1\\\\\n",
       "\t 120 & 1\\\\\n",
       "\t 121 & 1\\\\\n",
       "\t 128 & 1\\\\\n",
       "\t 130 & 1\\\\\n",
       "\t 139 & 1\\\\\n",
       "\t 139 & 1\\\\\n",
       "\t 157 & 1\\\\\n",
       "\t   1 & 0\\\\\n",
       "\t   1 & 0\\\\\n",
       "\t   2 & 0\\\\\n",
       "\t   8 & 0\\\\\n",
       "\t  11 & 0\\\\\n",
       "\t  18 & 0\\\\\n",
       "\t  22 & 0\\\\\n",
       "\t  31 & 0\\\\\n",
       "\t  37 & 0\\\\\n",
       "\t  61 & 0\\\\\n",
       "\t  72 & 0\\\\\n",
       "\t  81 & 0\\\\\n",
       "\t  97 & 0\\\\\n",
       "\t 112 & 0\\\\\n",
       "\t 118 & 0\\\\\n",
       "\t 127 & 0\\\\\n",
       "\t 131 & 0\\\\\n",
       "\t 140 & 0\\\\\n",
       "\t 151 & 0\\\\\n",
       "\t 159 & 0\\\\\n",
       "\t 177 & 0\\\\\n",
       "\t 206 & 0\\\\\n",
       "\\end{tabular}\n"
      ],
      "text/markdown": [
       "\n",
       "A data.frame: 40 × 2\n",
       "\n",
       "| age &lt;dbl&gt; | kyphosis &lt;dbl&gt; |\n",
       "|---|---|\n",
       "|  12 | 1 |\n",
       "|  15 | 1 |\n",
       "|  42 | 1 |\n",
       "|  52 | 1 |\n",
       "|  59 | 1 |\n",
       "|  73 | 1 |\n",
       "|  82 | 1 |\n",
       "|  91 | 1 |\n",
       "|  96 | 1 |\n",
       "| 105 | 1 |\n",
       "| 114 | 1 |\n",
       "| 120 | 1 |\n",
       "| 121 | 1 |\n",
       "| 128 | 1 |\n",
       "| 130 | 1 |\n",
       "| 139 | 1 |\n",
       "| 139 | 1 |\n",
       "| 157 | 1 |\n",
       "|   1 | 0 |\n",
       "|   1 | 0 |\n",
       "|   2 | 0 |\n",
       "|   8 | 0 |\n",
       "|  11 | 0 |\n",
       "|  18 | 0 |\n",
       "|  22 | 0 |\n",
       "|  31 | 0 |\n",
       "|  37 | 0 |\n",
       "|  61 | 0 |\n",
       "|  72 | 0 |\n",
       "|  81 | 0 |\n",
       "|  97 | 0 |\n",
       "| 112 | 0 |\n",
       "| 118 | 0 |\n",
       "| 127 | 0 |\n",
       "| 131 | 0 |\n",
       "| 140 | 0 |\n",
       "| 151 | 0 |\n",
       "| 159 | 0 |\n",
       "| 177 | 0 |\n",
       "| 206 | 0 |\n",
       "\n"
      ],
      "text/plain": [
       "   age kyphosis\n",
       "1   12 1       \n",
       "2   15 1       \n",
       "3   42 1       \n",
       "4   52 1       \n",
       "5   59 1       \n",
       "6   73 1       \n",
       "7   82 1       \n",
       "8   91 1       \n",
       "9   96 1       \n",
       "10 105 1       \n",
       "11 114 1       \n",
       "12 120 1       \n",
       "13 121 1       \n",
       "14 128 1       \n",
       "15 130 1       \n",
       "16 139 1       \n",
       "17 139 1       \n",
       "18 157 1       \n",
       "19   1 0       \n",
       "20   1 0       \n",
       "21   2 0       \n",
       "22   8 0       \n",
       "23  11 0       \n",
       "24  18 0       \n",
       "25  22 0       \n",
       "26  31 0       \n",
       "27  37 0       \n",
       "28  61 0       \n",
       "29  72 0       \n",
       "30  81 0       \n",
       "31  97 0       \n",
       "32 112 0       \n",
       "33 118 0       \n",
       "34 127 0       \n",
       "35 131 0       \n",
       "36 140 0       \n",
       "37 151 0       \n",
       "38 159 0       \n",
       "39 177 0       \n",
       "40 206 0       "
      ]
     },
     "metadata": {},
     "output_type": "display_data"
    }
   ],
   "source": [
    "dt"
   ]
  },
  {
   "cell_type": "code",
   "execution_count": null,
   "id": "b7ca0db9-a8b4-4241-aa8b-4bd7f9084a48",
   "metadata": {},
   "outputs": [],
   "source": []
  },
  {
   "cell_type": "markdown",
   "id": "cd8b8803-d5e7-4aac-b53a-0d3e327adfe6",
   "metadata": {},
   "source": [
    "## (1)"
   ]
  },
  {
   "cell_type": "markdown",
   "id": "fc63c1d1-718a-46e7-809a-a5a2c56e74ba",
   "metadata": {},
   "source": [
    "나이를 예측변수로 하여 척추후만증에 대한 로지스틱 회귀모형을 적합하라. (모형을 정확하게 기재)"
   ]
  },
  {
   "cell_type": "code",
   "execution_count": 22,
   "id": "c468e071-2f8a-4944-a498-0a536796fb32",
   "metadata": {},
   "outputs": [],
   "source": [
    "model <- glm(kyphosis ~ age, data = dt, family = binomial())"
   ]
  },
  {
   "cell_type": "code",
   "execution_count": 23,
   "id": "52daf5e7-9292-46a4-bdd3-81103201c16e",
   "metadata": {},
   "outputs": [
    {
     "data": {
      "text/plain": [
       "\n",
       "Call:\n",
       "glm(formula = kyphosis ~ age, family = binomial(), data = dt)\n",
       "\n",
       "Deviance Residuals: \n",
       "    Min       1Q   Median       3Q      Max  \n",
       "-1.3126  -1.0907  -0.9482   1.2170   1.4052  \n",
       "\n",
       "Coefficients:\n",
       "             Estimate Std. Error z value Pr(>|z|)\n",
       "(Intercept) -0.572693   0.602395  -0.951    0.342\n",
       "age          0.004296   0.005849   0.734    0.463\n",
       "\n",
       "(Dispersion parameter for binomial family taken to be 1)\n",
       "\n",
       "    Null deviance: 55.051  on 39  degrees of freedom\n",
       "Residual deviance: 54.504  on 38  degrees of freedom\n",
       "AIC: 58.504\n",
       "\n",
       "Number of Fisher Scoring iterations: 4\n"
      ]
     },
     "metadata": {},
     "output_type": "display_data"
    }
   ],
   "source": [
    "summary(model)"
   ]
  },
  {
   "cell_type": "markdown",
   "id": "a6e3ec25-c55e-44a9-be76-a66069345d3d",
   "metadata": {},
   "source": [
    "$\\widehat {kyphosis} = -0.5727 +0.0043 \\widehat{age}$"
   ]
  },
  {
   "cell_type": "code",
   "execution_count": null,
   "id": "71c28dd7-61c8-4128-8d3e-98deda659853",
   "metadata": {},
   "outputs": [],
   "source": []
  },
  {
   "cell_type": "markdown",
   "id": "e8e054a3-2172-4b79-a0bd-21261ecd852a",
   "metadata": {},
   "source": [
    "## (2)"
   ]
  },
  {
   "cell_type": "markdown",
   "id": "aaa48d0a-3228-46e8-a186-9a829467088a",
   "metadata": {},
   "source": [
    "나이가 유의한 효과를 갖는지를 검정하라."
   ]
  },
  {
   "cell_type": "markdown",
   "id": "328736e7-f800-4420-a7b9-f81409265829",
   "metadata": {},
   "source": [
    "age의 z-value의 값은 0.734로 0.05보다 크므로 유의하지 않다."
   ]
  },
  {
   "cell_type": "markdown",
   "id": "ee8bb339-f67d-4e58-9275-bebe16032cf4",
   "metadata": {},
   "source": [
    "## (3)"
   ]
  },
  {
   "cell_type": "markdown",
   "id": "e3ce2069-8b13-4334-badc-51d6a900248a",
   "metadata": {},
   "source": [
    "자료에 대한 산점도를 그려라. 단, 척추후만증의 두 수준에서 나이의 분포가 차이가 나는 것을 주목하라.(상자그림 확인)"
   ]
  },
  {
   "cell_type": "code",
   "execution_count": 24,
   "id": "7b26ef74-f47c-4fde-aa7f-7de817084918",
   "metadata": {},
   "outputs": [
    {
     "data": {
      "image/png": "[encoded data removed]",
      "text/plain": [
       "plot without title"
      ]
     },
     "metadata": {
      "image/png": {
       "height": 420,
       "width": 420
      }
     },
     "output_type": "display_data"
    }
   ],
   "source": [
    "boxplot(age ~ kyphosis, data = dt, cex.axis = 0.8,\n",
    "        xlab = \"Kyphosis\", ylab = \"Age\", col = c(\"steelblue\", \"darkorange\"))"
   ]
  },
  {
   "cell_type": "code",
   "execution_count": null,
   "id": "59b5aedd-a58e-4957-ab9c-e0cd16d2be4b",
   "metadata": {},
   "outputs": [],
   "source": []
  },
  {
   "cell_type": "code",
   "execution_count": null,
   "id": "f5860a46-b8f1-4a91-8aa2-cd298b0cebe7",
   "metadata": {},
   "outputs": [],
   "source": []
  },
  {
   "cell_type": "markdown",
   "id": "e9bf0961-eae2-4b29-8e3c-cc89d3b7d450",
   "metadata": {},
   "source": [
    "## (4)"
   ]
  },
  {
   "cell_type": "markdown",
   "id": "e0ee6dfb-44e5-4360-afa8-0e7e7a806bf2",
   "metadata": {},
   "source": [
    "로지스틱 회귀모형\n",
    "\n",
    "$$logit(Pr(x))= log \\dfrac{Pr(y = 1|x)}{1 − Pr(y = 1|x)}= α + β_1x + β_2x^2$$\n",
    "\n",
    "를 적합시킨 후에 나이의 제곱합에 대한 유의성검정을 하여라"
   ]
  },
  {
   "cell_type": "code",
   "execution_count": 25,
   "id": "4701309e-33a3-4a3e-81ae-06031c1c1929",
   "metadata": {},
   "outputs": [
    {
     "data": {
      "text/plain": [
       "\n",
       "Call:\n",
       "glm(formula = kyphosis ~ age + I(age^2), family = binomial(), \n",
       "    data = dt)\n",
       "\n",
       "Deviance Residuals: \n",
       "   Min      1Q  Median      3Q     Max  \n",
       "-1.482  -1.009  -0.507   1.012   1.788  \n",
       "\n",
       "Coefficients:\n",
       "              Estimate Std. Error z value Pr(>|z|)  \n",
       "(Intercept) -2.0462547  0.9943478  -2.058   0.0396 *\n",
       "age          0.0600398  0.0267808   2.242   0.0250 *\n",
       "I(age^2)    -0.0003279  0.0001564  -2.097   0.0360 *\n",
       "---\n",
       "Signif. codes:  0 ‘***’ 0.001 ‘**’ 0.01 ‘*’ 0.05 ‘.’ 0.1 ‘ ’ 1\n",
       "\n",
       "(Dispersion parameter for binomial family taken to be 1)\n",
       "\n",
       "    Null deviance: 55.051  on 39  degrees of freedom\n",
       "Residual deviance: 48.228  on 37  degrees of freedom\n",
       "AIC: 54.228\n",
       "\n",
       "Number of Fisher Scoring iterations: 4\n"
      ]
     },
     "metadata": {},
     "output_type": "display_data"
    }
   ],
   "source": [
    "model2 <- glm(kyphosis ~ age + I(age^2), data = dt, family = binomial())\n",
    "summary(model2)"
   ]
  },
  {
   "cell_type": "markdown",
   "id": "6f03fdb8-d4a4-4db9-b8ab-d6dea86f84ba",
   "metadata": {},
   "source": [
    "$\\widehat {kyphosis} = -2.0462547 + 0.0600398 \\widehat{age} - 0.0003279\\widehat{age}^2$"
   ]
  },
  {
   "cell_type": "code",
   "execution_count": null,
   "id": "d705adcd-354b-458b-8c58-893c45f9ab4b",
   "metadata": {},
   "outputs": [],
   "source": []
  },
  {
   "cell_type": "markdown",
   "id": "2d91b529-8a55-4d99-b95b-9139f7d7dbd8",
   "metadata": {},
   "source": [
    "## (5)"
   ]
  },
  {
   "cell_type": "markdown",
   "id": "750564d3-c239-4d36-a672-554e8c8fd791",
   "metadata": {},
   "source": [
    "$\\hat β_2$의 의미를 서술하시오."
   ]
  },
  {
   "cell_type": "markdown",
   "id": "959d6f98-d319-4e7c-b2d7-df136251522a",
   "metadata": {},
   "source": [
    "x가 한단위 증가하면 성공의 오즈는 e^(beta2)배 만큼 증가한다."
   ]
  },
  {
   "cell_type": "code",
   "execution_count": null,
   "id": "f5ac3372-f545-4a13-a9e2-bd4f3f9136ab",
   "metadata": {},
   "outputs": [],
   "source": []
  },
  {
   "cell_type": "markdown",
   "id": "1112dce5-425e-4713-a1a4-266646852314",
   "metadata": {},
   "source": [
    "# 3번"
   ]
  },
  {
   "cell_type": "markdown",
   "id": "4310f9b7-c781-462f-b0c0-5cd1fddb4f40",
   "metadata": {},
   "source": [
    " 살인사건에 대한 사형선고 여부와 인종사이의 관계를 알아보기 위하여 미국의 한 주의 2000년 이후의 해당 케이스들에 대하여, $y =$살인사건으로 기소된 사람에 대한 사형선고 여부(1=예, 0=아니오)를 반응변수로\n",
    "하고 피고인(D)과 피해자(V)의 인종(1=흑인, 0=백인)를 설명변수로 하는 로지스틱 회귀모형을 적합하였다.적합에 의하여 추정된 추정식이\n",
    "\n",
    "\n",
    "$$logit(\\hat{Pr}(x))= log \\dfrac{\\hat{Pr}(y = 1|x)}{1 − \\hat{Pr}(y = 1|x)}= −2.06 + 0.87D − 2.4V$$\n",
    "\n",
    "\n",
    "라 한다. 다음은 예측식에 기초한 참과 거짓에 대한 질문이다. 참인지 거짓인지 판단하라. (풀이과정 기재"
   ]
  },
  {
   "cell_type": "markdown",
   "id": "79eb9c59-8c87-4ac0-944a-a0bb33013beb",
   "metadata": {},
   "source": [
    "## (1)"
   ]
  },
  {
   "cell_type": "markdown",
   "id": "f562fedd-51eb-42f8-a132-1ec4045c5d12",
   "metadata": {},
   "source": [
    "사형선고에 대한 추정확률은 피고인이 백인(D=0)이고 피해자가 흑인(V=1)일 때 가장 낮다."
   ]
  },
  {
   "cell_type": "code",
   "execution_count": 26,
   "id": "c8ad0eef-e33c-42ed-b8da-926c218da9db",
   "metadata": {},
   "outputs": [
    {
     "data": {
      "text/html": [
       "TRUE"
      ],
      "text/latex": [
       "TRUE"
      ],
      "text/markdown": [
       "TRUE"
      ],
      "text/plain": [
       "[1] TRUE"
      ]
     },
     "metadata": {},
     "output_type": "display_data"
    }
   ],
   "source": [
    "T"
   ]
  },
  {
   "cell_type": "markdown",
   "id": "5a035048-e751-4b08-84bd-094631b2e954",
   "metadata": {},
   "source": [
    "logit(Pr(y = 1|x)) = -2.06 + 0.87D - 2.4V 에서\n",
    "\n",
    "D=0, V=1대입하면\n",
    "\n",
    "logit(Pr(y = 1|x)) = -2.06 + 0.87(0) - 2.4(1)                 = -2.06 - 2.4                   = -4.46\n",
    "\n",
    "각 식에 e를 곱해주면\n",
    "\n",
    "Pr(y = 1|x) = exp(-4.46) / (1 + exp(-4.46))이다.\n",
    "\n",
    "피고인이 백인이고 피해자가 흑인일때 사형이 선고될 예상 확률이다."
   ]
  },
  {
   "cell_type": "markdown",
   "id": "5baff803-9e52-4823-b616-a9790187bfe6",
   "metadata": {},
   "source": [
    "D=0, V=0 넣으면 -2.06\n",
    "\n",
    "D=1, V=0 넣으면 -1.19\n",
    "\n",
    "D=1, V=1 넣으면 -3.59"
   ]
  },
  {
   "cell_type": "code",
   "execution_count": null,
   "id": "b326d26f-3a18-42c4-98e5-0db37b70ee8a",
   "metadata": {},
   "outputs": [],
   "source": []
  },
  {
   "cell_type": "code",
   "execution_count": null,
   "id": "e11b8683-319a-4187-a475-28cdbd27b4e7",
   "metadata": {},
   "outputs": [],
   "source": []
  },
  {
   "cell_type": "markdown",
   "id": "85095cbd-527f-46cf-9ef5-0dd7dd07f529",
   "metadata": {},
   "source": [
    "## (2)다시"
   ]
  },
  {
   "cell_type": "markdown",
   "id": "fe3553f1-bd10-4df2-b913-71230d2fbad8",
   "metadata": {},
   "source": [
    "피해자의 인종이 주어져 있을 떄 백인 피고인(D=0)이 사형선고를 받을 오즈의 추정값은 흑인 피고인(D=1)의 오즈의 0.87배이다.\n",
    "\n",
    "만약 백인 피고인일 경우 D = 1이고 흑인일 경우 D = 0이면 D의 회귀계수의 추정값은 0.87이 아니라 1/0.87 = 1.15가 되었을 것이다."
   ]
  },
  {
   "cell_type": "code",
   "execution_count": null,
   "id": "2a550631-8f9f-467a-9730-c636a883f9fb",
   "metadata": {},
   "outputs": [],
   "source": [
    "D의 회귀계수 추정값: 0.87\n",
    "\n",
    "백인 피고인의 오즈가 흑인 피고인의 오즈의 0.87배"
   ]
  },
  {
   "cell_type": "markdown",
   "id": "6007ee27-1d2e-438e-b777-613107f52fe8",
   "metadata": {},
   "source": [
    "## (3) f"
   ]
  },
  {
   "cell_type": "markdown",
   "id": "3f1a31e4-90e5-47cb-8ef4-0eefb06048dd",
   "metadata": {},
   "source": [
    "절편의 추정값 −2.06은 피고인과 피해자가 백인일 경우(D = V = 0)에 사형선고에 대한 추정확률이다."
   ]
  },
  {
   "cell_type": "markdown",
   "id": "0d241611-69c7-4249-ae6f-263bd87bb0cf",
   "metadata": {},
   "source": [
    "D=0,V=0일때의 값이므로 trUE"
   ]
  },
  {
   "cell_type": "markdown",
   "id": "8e21ad2f-b2ef-4b40-9df3-86b9997897e5",
   "metadata": {},
   "source": [
    "## (4)"
   ]
  },
  {
   "cell_type": "markdown",
   "id": "464946c5-b209-4b3a-81c3-378c77185e44",
   "metadata": {},
   "source": [
    "만약, 백인피해자와 피고인이 500명일 때, 사형선고를 받는 사람에 대해 모형에서 적합된 도수(즉, 추정되는 기대도수)는 $500e^{−2.06}/(1 + e^{−2.06})$과 같다."
   ]
  },
  {
   "cell_type": "code",
   "execution_count": null,
   "id": "ae71fc3e-c8f4-48b1-b5b9-ca29b65f51fd",
   "metadata": {},
   "outputs": [],
   "source": [
    "v=0, D=0이므로 대입해보면, \n",
    "\n",
    "로짓값\n",
    "$logit(\\hat pr(X)=-2.06+0.87 \\times 0 - 2.4 \\times 0$\n",
    "       \n",
    "확률\n",
    "\n",
    "       $\\hat pr(y=1|X)=e^{-2.06}"
   ]
  },
  {
   "cell_type": "markdown",
   "id": "0defcbc7-e645-4379-9ce7-3609897c78c4",
   "metadata": {},
   "source": [
    "로짓 l 확률 p라고 놓으면\n",
    "\n",
    "$L=ln\\dfrac{p}{1-p}$\n",
    "\n",
    "역함수\n",
    "$p=\\dfrac{1}{1+e^{-L}}$\n",
    "\n",
    "아래위로 $e^{-L}$을 곱해주면 시그모이드 함수가 나옴\n",
    "\n",
    "$p=\\dfrac{e^{-L}}{e^{-L}+1}$\n",
    "\n",
    "기대도수는 여기에다가 인원수 곱하면 됨."
   ]
  },
  {
   "cell_type": "code",
   "execution_count": null,
   "id": "180df341-9090-4b5d-8205-b7ca6299e4f2",
   "metadata": {},
   "outputs": [],
   "source": []
  },
  {
   "cell_type": "markdown",
   "id": "0a8f1cc8-37c5-44b3-b4c8-ababf3602439",
   "metadata": {},
   "source": [
    "# 4번"
   ]
  },
  {
   "cell_type": "markdown",
   "id": "06b5ab9b-8930-473f-aaa3-2d51b76b645c",
   "metadata": {},
   "source": [
    "선형회귀모형\n",
    "\n",
    "$$y_i = β_0 + β_1x_i + ϵ_i, i = 1, 2, · · · , n$$\n",
    "\n",
    "에서 만약 오차벡터 $ϵ^⊤ = (ϵ_1, ϵ_2, · · · , ϵ_n)$의 분산-공분산행렬이\n",
    "\n",
    "$$Var(\\epsilon) = \\begin{bmatrix}\n",
    "\\sigma_1^2 & 0 & \\dots & 0 \\\\\n",
    "0 & \\sigma_2^2 & \\dots & 0 \\\\\n",
    "\\dots & \\dots &  & \\dots \\\\\n",
    "0 & 0 & \\dots & \\sigma_n^2\n",
    "\\end{bmatrix}$$\n",
    "\n",
    "인 경우 $β_0$ 와 $β_1$의 GLS 추정값을 구하시오. 만약 회귀모형이\n",
    "\n",
    "\n",
    "$$y_i = β_1x_i + ϵ_i$$\n",
    "\n",
    "이면 $β_1$의 GLS 추정값은 어떻게 되는가?"
   ]
  },
  {
   "cell_type": "markdown",
   "id": "710889d9-ff8b-4c53-b6f7-b69fb68ebccf",
   "metadata": {},
   "source": [
    "\n",
    "GLS: $\\hat \\beta^*=(X^TV^{-1}X)^{-1}X^TV^{-1}Xy$\n",
    "\n",
    "$E(\\hat \\beta^*)=(X^TV^{-1}X)^{-1}X^TV^{-1}X \\beta=\\beta$\n",
    "\n",
    "$Var(\\hat \\beta^*)=(X^TV^{-1}X)^{-1}V^{-1}V \\sigma^2 V^{-1}X(X^TV^{-1}X)^{-1}=\\sigma^2(X^TV^{-1}X)^{-1}$\n",
    "\n",
    "$SSE(\\hat \\beta^*)=(y-X\\hat \\beta^*)^T V^{-1}(y-X\\hat \\beta^*)$"
   ]
  },
  {
   "cell_type": "code",
   "execution_count": null,
   "id": "e671d209-e2d2-4703-ae3e-6661a2c47144",
   "metadata": {},
   "outputs": [],
   "source": []
  },
  {
   "cell_type": "markdown",
   "id": "8f52e33c-e6dc-4c2e-acad-3c088eff901c",
   "metadata": {},
   "source": [
    "$y=X \\beta + \\epsilon$\n",
    "\n",
    "$Var(\\epsilon) = \\sigma^2 V$\n",
    "\n",
    "$V=KK (K:n \\times n)$\n",
    "\n",
    "$K^{-1}y = K^{-1}X \\beta + K^{-1} \\epsilon$\n",
    "\n",
    "$Var(K^{-1}\\epsilon)=K^{-1}V \\sigma^2 K^{-1} = K^{-1}KKK^{-1} \\sigma^2 = I_n \\sigma^2$\n",
    "\n",
    "변수변환!\n",
    "\n",
    "$y^* = X^*\\beta + \\epsilon^*$\n",
    "\n",
    "$y^* = K^{-1}y, X^*=K^{-1}X, \\epsilon^* = K^{-1}\\epsilon$\n",
    "\n",
    "$\\widehat \\beta = (X^{*T}X^*)^{-1}X^{*T}y^*=(X^TK^{-1}K^{-1}X)^{-1}X^TK^{-1}K^{-1}y$\n",
    "\n",
    "$KK=V, K^{-1}K^{-1}=V^{-1}$\n",
    "\n",
    "$\\widehat \\beta^{GLS}=(X^TV^{-1}X)^{-1}X^TV^{-1}y$"
   ]
  },
  {
   "cell_type": "code",
   "execution_count": null,
   "id": "81cd4e9a-b6d1-438f-a89e-b5d816e2f7fb",
   "metadata": {},
   "outputs": [],
   "source": []
  }
 ],
 "metadata": {
  "kernelspec": {
   "display_name": "R",
   "language": "R",
   "name": "ir"
  },
  "language_info": {
   "codemirror_mode": "r",
   "file_extension": ".r",
   "mimetype": "text/x-r-source",
   "name": "R",
   "pygments_lexer": "r",
   "version": "4.2.2"
  }
 },
 "nbformat": 4,
 "nbformat_minor": 5
}
