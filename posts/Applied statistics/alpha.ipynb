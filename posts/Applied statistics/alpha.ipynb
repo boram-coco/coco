{
 "cells": [
  {
   "cell_type": "raw",
   "id": "eb58b955-e288-40a5-b1bb-959d9c29a590",
   "metadata": {},
   "source": [
    "---\n",
    "title: \"alpha\"\n",
    "author: \"김보람\"\n",
    "date: \"04/04/2023\"\n",
    "categories:\n",
    "  - alpha\n",
    "  - pvalue\n",
    "---"
   ]
  },
  {
   "cell_type": "markdown",
   "id": "c5d5a263-03b2-4e7c-bc93-f1944ac6b46e",
   "metadata": {},
   "source": [
    "# 유의수준 $\\alpha$"
   ]
  },
  {
   "cell_type": "markdown",
   "id": "2c8b7865-3ba3-4fcc-bb1c-52029f193a55",
   "metadata": {},
   "source": [
    ": 제 1종 오류를 범할 확률"
   ]
  },
  {
   "cell_type": "markdown",
   "id": "eec6aef9-ce02-48f6-a49e-f34cf70d8365",
   "metadata": {},
   "source": [
    "즉, $H_0$가 참임에도 $H_0$를 기각할 확률"
   ]
  },
  {
   "cell_type": "markdown",
   "id": "d3abfb93-7718-46aa-ab19-5350dabc9509",
   "metadata": {},
   "source": [
    "`1` 귀무가설 $H_0$와 대립가설 $H_1$를 설정"
   ]
  },
  {
   "cell_type": "markdown",
   "id": "9117b6e3-8540-47ad-81fc-570790d6d906",
   "metadata": {},
   "source": [
    "`2` 검정통계랑 구하기"
   ]
  },
  {
   "cell_type": "markdown",
   "id": "94410abd-df9e-4393-9c3a-c6b1075e8783",
   "metadata": {},
   "source": [
    "`3` 검정통계량의 기각역 구하기"
   ]
  },
  {
   "cell_type": "markdown",
   "id": "09a22e47-857e-48ee-ae54-14faef4fc1da",
   "metadata": {},
   "source": [
    "`4` 검정통계량 값이 기각역에 있으면 귀무가설을 기각"
   ]
  },
  {
   "cell_type": "markdown",
   "id": "2e90cdc8-5f31-4dce-9de1-7c4ac15fa7a9",
   "metadata": {},
   "source": [
    "##  F검정"
   ]
  },
  {
   "cell_type": "markdown",
   "id": "7bc04760-e447-4316-ad8a-2de8d8c8764d",
   "metadata": {},
   "source": [
    "임곘값: 주어진 유의수준을 검정통계량의 값으로 환산한 값"
   ]
  },
  {
   "cell_type": "markdown",
   "id": "224403d7-0ffe-4caa-8e8d-896b406d1df0",
   "metadata": {},
   "source": [
    "F검정시 R에서 쓰는 코드\n",
    "\n",
    "```R\n",
    "qf(100(1-𝛼),df1,df2)\n",
    "```"
   ]
  },
  {
   "cell_type": "markdown",
   "id": "a93f014c-93da-4592-98e9-379e907e2821",
   "metadata": {},
   "source": [
    "검정통계량 $F_0$"
   ]
  },
  {
   "cell_type": "markdown",
   "id": "c29e5a40-cfaf-4ad3-b3ad-32639fb0e18b",
   "metadata": {},
   "source": [
    "$F_0 > F_𝛼$ 이면 귀무가설을 기각"
   ]
  },
  {
   "cell_type": "markdown",
   "id": "783a837c-cd14-48b3-b85f-a2072c30d14b",
   "metadata": {},
   "source": [
    "만약 df=1, 8, 𝛼=0.05이면 "
   ]
  },
  {
   "cell_type": "code",
   "execution_count": 4,
   "id": "3e7a5045-6833-4361-a2f3-b66cb2a2e794",
   "metadata": {},
   "outputs": [
    {
     "data": {
      "text/html": [
       "0.00418615505332731"
      ],
      "text/latex": [
       "0.00418615505332731"
      ],
      "text/markdown": [
       "0.00418615505332731"
      ],
      "text/plain": [
       "[1] 0.004186155"
      ]
     },
     "metadata": {},
     "output_type": "display_data"
    }
   ],
   "source": [
    "qf(0.05,1,8)"
   ]
  },
  {
   "cell_type": "code",
   "execution_count": 5,
   "id": "67c26315-99c4-4d2d-801e-4c1c5e6a20a2",
   "metadata": {},
   "outputs": [
    {
     "data": {
      "text/html": [
       "5.31765507157871"
      ],
      "text/latex": [
       "5.31765507157871"
      ],
      "text/markdown": [
       "5.31765507157871"
      ],
      "text/plain": [
       "[1] 5.317655"
      ]
     },
     "metadata": {},
     "output_type": "display_data"
    }
   ],
   "source": [
    "qf(0.95,1,8)"
   ]
  },
  {
   "cell_type": "markdown",
   "id": "598263b7-15d6-453a-9f6c-b5c7425833f8",
   "metadata": {},
   "source": [
    "- 오시 pf라는것도 있는데.."
   ]
  },
  {
   "cell_type": "markdown",
   "id": "15f4f15b-8c8f-42a1-bc95-f3192ca2dca4",
   "metadata": {},
   "source": [
    "## T검정"
   ]
  },
  {
   "cell_type": "markdown",
   "id": "e466bbbd-b985-4ef6-a245-6f6ab1422a0e",
   "metadata": {},
   "source": [
    "t검정시 R에서 쓰는 코드\n",
    "\n",
    "```R\n",
    "qt(𝛼,df)\n",
    "```\n",
    "\n",
    "t분포에서는 $𝛼/2$를 해줘야 한다."
   ]
  },
  {
   "cell_type": "markdown",
   "id": "4a532645-59d1-48b5-aea9-46f2c98080ed",
   "metadata": {},
   "source": [
    "검정통계량 $t_0$"
   ]
  },
  {
   "cell_type": "markdown",
   "id": "19e8539a-855f-49fc-b97d-3a3863734b11",
   "metadata": {},
   "source": [
    "$t_0 > t_{𝛼/2}$ 이면 귀무가설을 기각"
   ]
  },
  {
   "cell_type": "markdown",
   "id": "26144156-da0c-4688-af31-028c630c9a6f",
   "metadata": {},
   "source": [
    "만약 df=8, 𝛼=0.05이면, t분포는 𝛼/2=0.025"
   ]
  },
  {
   "cell_type": "code",
   "execution_count": 1,
   "id": "2bc66bbd-062f-4380-aee6-421adbd63561",
   "metadata": {},
   "outputs": [
    {
     "data": {
      "text/html": [
       "2.30600413520417"
      ],
      "text/latex": [
       "2.30600413520417"
      ],
      "text/markdown": [
       "2.30600413520417"
      ],
      "text/plain": [
       "[1] 2.306004"
      ]
     },
     "metadata": {},
     "output_type": "display_data"
    }
   ],
   "source": [
    "qt(0.975,8)"
   ]
  },
  {
   "cell_type": "code",
   "execution_count": 2,
   "id": "7870e3d6-af60-4e2e-b96a-c1b795c924b4",
   "metadata": {},
   "outputs": [
    {
     "data": {
      "text/html": [
       "-2.30600413520417"
      ],
      "text/latex": [
       "-2.30600413520417"
      ],
      "text/markdown": [
       "-2.30600413520417"
      ],
      "text/plain": [
       "[1] -2.306004"
      ]
     },
     "metadata": {},
     "output_type": "display_data"
    }
   ],
   "source": [
    "qt(0.025,8)"
   ]
  },
  {
   "cell_type": "markdown",
   "id": "d94dcd07-f3dd-4244-b907-68b73513f206",
   "metadata": {},
   "source": [
    "## DW test"
   ]
  },
  {
   "cell_type": "markdown",
   "id": "37451989-2a54-4cc9-bd71-d983b53c558c",
   "metadata": {},
   "source": [
    "잔차의 독립성 검정을 위한 test\n",
    "\n",
    "$H_0$:독립이다. $H_1$: not $H_0$"
   ]
  },
  {
   "cell_type": "markdown",
   "id": "984a91a0-34d3-4f9c-90e7-220e25f57804",
   "metadata": {},
   "source": [
    "DW값이 2에 가까울수록 양의 상관관계, 4에 가까울수록 음의 상관관계, 2를 기준으로 2이면 보류"
   ]
  },
  {
   "cell_type": "markdown",
   "id": "9db52964-c6ac-40f9-9f42-3ce36de91660",
   "metadata": {},
   "source": [
    "p-value의 값이 유의수준(𝛼) 보다 크다면 귀무가설을 기각할 수 없음. 즉 독립\n",
    "\n"
   ]
  },
  {
   "cell_type": "markdown",
   "id": "6db36c66-f74a-48d4-8265-93d15b4d40ac",
   "metadata": {},
   "source": [
    "pvalue > 𝛼 이면 귀무가설을 채택한다."
   ]
  },
  {
   "cell_type": "markdown",
   "id": "bb214405-e268-4cdb-a336-88fcb9a5a85e",
   "metadata": {},
   "source": [
    "## shapiro test"
   ]
  },
  {
   "cell_type": "markdown",
   "id": "e48e53b3-7eee-401c-a50b-3f9337fde594",
   "metadata": {},
   "source": [
    "정규성을 검증"
   ]
  },
  {
   "cell_type": "markdown",
   "id": "584cca68-5fef-4191-93d1-c32aa55328da",
   "metadata": {},
   "source": [
    "$H_0$:정규분포이다. $H_1$: not $H_0$"
   ]
  },
  {
   "cell_type": "markdown",
   "id": "89e49047-9e9a-4b07-8689-d304b3fb95eb",
   "metadata": {},
   "source": [
    "pvalue > 𝛼 이면 귀무가설을 채택한다."
   ]
  },
  {
   "cell_type": "code",
   "execution_count": null,
   "id": "8b3ab699-7d98-41db-951f-98dcad9d27eb",
   "metadata": {},
   "outputs": [],
   "source": []
  }
 ],
 "metadata": {
  "kernelspec": {
   "display_name": "R",
   "language": "R",
   "name": "ir"
  },
  "language_info": {
   "codemirror_mode": "r",
   "file_extension": ".r",
   "mimetype": "text/x-r-source",
   "name": "R",
   "pygments_lexer": "r",
   "version": "4.2.2"
  }
 },
 "nbformat": 4,
 "nbformat_minor": 5
}
