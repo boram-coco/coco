{
 "cells": [
  {
   "cell_type": "raw",
   "id": "1fc3add8-cec4-4b82-9160-3e9114f0d818",
   "metadata": {},
   "source": [
    "---\n",
    "title: \"AS HW4_5\"\n",
    "author: \"김보람\"\n",
    "date: \"06/09/2023\"\n",
    "categories:\n",
    "  - Applied statistics\n",
    "  - homework\n",
    "---"
   ]
  },
  {
   "cell_type": "code",
   "execution_count": null,
   "id": "9370f6ad-eb53-4db7-ac9f-3081966843fe",
   "metadata": {},
   "outputs": [],
   "source": []
  },
  {
   "cell_type": "code",
   "execution_count": null,
   "id": "f5f663e3-ea6b-4b72-9726-8ebf6b9d613e",
   "metadata": {},
   "outputs": [],
   "source": []
  },
  {
   "cell_type": "code",
   "execution_count": null,
   "id": "20a70565-c335-46ef-b34b-3048ab8e0390",
   "metadata": {},
   "outputs": [],
   "source": []
  },
  {
   "cell_type": "code",
   "execution_count": null,
   "id": "033ee58e-4dfc-4298-a258-0298ef62fffb",
   "metadata": {},
   "outputs": [],
   "source": []
  },
  {
   "cell_type": "markdown",
   "id": "7578dfa2-264e-4b6f-b061-bc664cd0f71b",
   "metadata": {},
   "source": [
    "# ref"
   ]
  },
  {
   "cell_type": "markdown",
   "id": "e4a94d2f-b9bb-4a3e-9100-3648d3d3bdfe",
   "metadata": {},
   "source": [
    "[python-data-analysis data](https://github.com/yoonkt200/python-data-analysis/blob/master/data/picher_stats_2017.csv)"
   ]
  },
  {
   "cell_type": "markdown",
   "id": "30ac812c-ba53-4b12-8bbc-74115ec7a056",
   "metadata": {
    "jp-MarkdownHeadingCollapsed": true,
    "tags": []
   },
   "source": [
    "[Data Source](http://www.statiz.co.kr/)"
   ]
  },
  {
   "cell_type": "markdown",
   "id": "4662d8f5-5ffb-4a5b-8add-6154103395f3",
   "metadata": {},
   "source": [
    "# import"
   ]
  },
  {
   "cell_type": "code",
   "execution_count": 53,
   "id": "dfbb9e24-6ae0-481c-8275-f750ff76f60b",
   "metadata": {},
   "outputs": [
    {
     "name": "stderr",
     "output_type": "stream",
     "text": [
      "Loading required package: lattice\n",
      "\n",
      "── \u001b[1mAttaching packages\u001b[22m ─────────────────────────────────────── tidyverse 1.3.1 ──\n",
      "\n",
      "\u001b[32m✔\u001b[39m \u001b[34mtibble \u001b[39m 3.2.0     \u001b[32m✔\u001b[39m \u001b[34mdplyr  \u001b[39m 1.1.0\n",
      "\u001b[32m✔\u001b[39m \u001b[34mtidyr  \u001b[39m 1.3.0     \u001b[32m✔\u001b[39m \u001b[34mstringr\u001b[39m 1.5.0\n",
      "\u001b[32m✔\u001b[39m \u001b[34mreadr  \u001b[39m 2.1.4     \u001b[32m✔\u001b[39m \u001b[34mforcats\u001b[39m 1.0.0\n",
      "\u001b[32m✔\u001b[39m \u001b[34mpurrr  \u001b[39m 1.0.1     \n",
      "\n",
      "── \u001b[1mConflicts\u001b[22m ────────────────────────────────────────── tidyverse_conflicts() ──\n",
      "\u001b[31m✖\u001b[39m \u001b[34mstringr\u001b[39m::\u001b[32mboundary()\u001b[39m masks \u001b[34mstrucchange\u001b[39m::boundary()\n",
      "\u001b[31m✖\u001b[39m \u001b[34mtidyr\u001b[39m::\u001b[32mexpand()\u001b[39m     masks \u001b[34mMatrix\u001b[39m::expand()\n",
      "\u001b[31m✖\u001b[39m \u001b[34mdplyr\u001b[39m::\u001b[32mfilter()\u001b[39m     masks \u001b[34mstats\u001b[39m::filter()\n",
      "\u001b[31m✖\u001b[39m \u001b[34mdplyr\u001b[39m::\u001b[32mlag()\u001b[39m        masks \u001b[34mstats\u001b[39m::lag()\n",
      "\u001b[31m✖\u001b[39m \u001b[34mpurrr\u001b[39m::\u001b[32mlift()\u001b[39m       masks \u001b[34mcaret\u001b[39m::lift()\n",
      "\u001b[31m✖\u001b[39m \u001b[34mtidyr\u001b[39m::\u001b[32mpack()\u001b[39m       masks \u001b[34mMatrix\u001b[39m::pack()\n",
      "\u001b[31m✖\u001b[39m \u001b[34mdplyr\u001b[39m::\u001b[32mrecode()\u001b[39m     masks \u001b[34mcar\u001b[39m::recode()\n",
      "\u001b[31m✖\u001b[39m \u001b[34mdplyr\u001b[39m::\u001b[32mselect()\u001b[39m     masks \u001b[34mMASS\u001b[39m::select()\n",
      "\u001b[31m✖\u001b[39m \u001b[34mpurrr\u001b[39m::\u001b[32msome()\u001b[39m       masks \u001b[34mcar\u001b[39m::some()\n",
      "\u001b[31m✖\u001b[39m \u001b[34mtidyr\u001b[39m::\u001b[32munpack()\u001b[39m     masks \u001b[34mMatrix\u001b[39m::unpack()\n",
      "\u001b[31m✖\u001b[39m \u001b[34mdplyr\u001b[39m::\u001b[32mwhere()\u001b[39m      masks \u001b[34mparty\u001b[39m::where()\n",
      "\n"
     ]
    }
   ],
   "source": [
    "library(MASS) #lm.ridge \n",
    "library(car) #vif\n",
    "library(caret) #예측\n",
    "library(ggplot2)\n",
    "library(glmnet) #Ridge, Lasso\n",
    "library(tidyverse)"
   ]
  },
  {
   "cell_type": "code",
   "execution_count": 23,
   "id": "5748ed5f-bae3-4a42-859b-830d68eaa4e1",
   "metadata": {},
   "outputs": [],
   "source": [
    "get_high_vif_variables <- function(data, threshold) {\n",
    "  vif_values <- vif(data)\n",
    "  high_vif_variables <- names(vif_values[vif_values > threshold])\n",
    "  return(high_vif_variables)\n",
    "}"
   ]
  },
  {
   "cell_type": "markdown",
   "id": "5d57782e-1c73-4dcf-9798-fe8dfcd04e92",
   "metadata": {},
   "source": [
    "# 데이터셋"
   ]
  },
  {
   "cell_type": "code",
   "execution_count": 6,
   "id": "fb388d67-9dfb-415f-a2b8-7e8f6d9748f8",
   "metadata": {},
   "outputs": [
    {
     "data": {
      "text/html": [
       "<table class=\"dataframe\">\n",
       "<caption>A data.frame: 6 × 22</caption>\n",
       "<thead>\n",
       "\t<tr><th></th><th scope=col>선수명</th><th scope=col>팀명</th><th scope=col>승</th><th scope=col>패</th><th scope=col>세</th><th scope=col>홀드</th><th scope=col>블론</th><th scope=col>경기</th><th scope=col>선발</th><th scope=col>이닝</th><th scope=col>⋯</th><th scope=col>홈런.9</th><th scope=col>BABIP</th><th scope=col>LOB.</th><th scope=col>ERA</th><th scope=col>RA9.WAR</th><th scope=col>FIP</th><th scope=col>kFIP</th><th scope=col>WAR</th><th scope=col>연봉.2018.</th><th scope=col>연봉.2017.</th></tr>\n",
       "\t<tr><th></th><th scope=col>&lt;chr&gt;</th><th scope=col>&lt;chr&gt;</th><th scope=col>&lt;int&gt;</th><th scope=col>&lt;int&gt;</th><th scope=col>&lt;int&gt;</th><th scope=col>&lt;int&gt;</th><th scope=col>&lt;int&gt;</th><th scope=col>&lt;int&gt;</th><th scope=col>&lt;int&gt;</th><th scope=col>&lt;dbl&gt;</th><th scope=col>⋯</th><th scope=col>&lt;dbl&gt;</th><th scope=col>&lt;dbl&gt;</th><th scope=col>&lt;dbl&gt;</th><th scope=col>&lt;dbl&gt;</th><th scope=col>&lt;dbl&gt;</th><th scope=col>&lt;dbl&gt;</th><th scope=col>&lt;dbl&gt;</th><th scope=col>&lt;dbl&gt;</th><th scope=col>&lt;int&gt;</th><th scope=col>&lt;int&gt;</th></tr>\n",
       "</thead>\n",
       "<tbody>\n",
       "\t<tr><th scope=row>1</th><td>켈리    </td><td>SK  </td><td>16</td><td> 7</td><td>0</td><td>0</td><td>0</td><td>30</td><td>30</td><td>190.0</td><td>⋯</td><td>0.76</td><td>0.342</td><td>73.7</td><td>3.60</td><td>6.91</td><td>3.69</td><td>3.44</td><td>6.62</td><td>140000</td><td> 85000</td></tr>\n",
       "\t<tr><th scope=row>2</th><td>소사    </td><td>LG  </td><td>11</td><td>11</td><td>1</td><td>0</td><td>0</td><td>30</td><td>29</td><td>185.1</td><td>⋯</td><td>0.53</td><td>0.319</td><td>67.1</td><td>3.88</td><td>6.80</td><td>3.52</td><td>3.41</td><td>6.08</td><td>120000</td><td> 50000</td></tr>\n",
       "\t<tr><th scope=row>3</th><td>양현종  </td><td>KIA </td><td>20</td><td> 6</td><td>0</td><td>0</td><td>0</td><td>31</td><td>31</td><td>193.1</td><td>⋯</td><td>0.79</td><td>0.332</td><td>72.1</td><td>3.44</td><td>6.54</td><td>3.94</td><td>3.82</td><td>5.64</td><td>230000</td><td>150000</td></tr>\n",
       "\t<tr><th scope=row>4</th><td>차우찬  </td><td>LG  </td><td>10</td><td> 7</td><td>0</td><td>0</td><td>0</td><td>28</td><td>28</td><td>175.2</td><td>⋯</td><td>1.02</td><td>0.298</td><td>75.0</td><td>3.43</td><td>6.11</td><td>4.20</td><td>4.03</td><td>4.63</td><td>100000</td><td>100000</td></tr>\n",
       "\t<tr><th scope=row>5</th><td>레일리  </td><td>롯데</td><td>13</td><td> 7</td><td>0</td><td>0</td><td>0</td><td>30</td><td>30</td><td>187.1</td><td>⋯</td><td>0.91</td><td>0.323</td><td>74.1</td><td>3.80</td><td>6.13</td><td>4.36</td><td>4.31</td><td>4.38</td><td>111000</td><td> 85000</td></tr>\n",
       "\t<tr><th scope=row>6</th><td>피어밴드</td><td>KT  </td><td> 8</td><td>10</td><td>0</td><td>0</td><td>0</td><td>26</td><td>26</td><td>160.0</td><td>⋯</td><td>1.12</td><td>0.289</td><td>76.1</td><td>3.04</td><td>6.52</td><td>4.42</td><td>4.32</td><td>3.94</td><td> 85000</td><td> 35000</td></tr>\n",
       "</tbody>\n",
       "</table>\n"
      ],
      "text/latex": [
       "A data.frame: 6 × 22\n",
       "\\begin{tabular}{r|lllllllllllllllllllll}\n",
       "  & 선수명 & 팀명 & 승 & 패 & 세 & 홀드 & 블론 & 경기 & 선발 & 이닝 & ⋯ & 홈런.9 & BABIP & LOB. & ERA & RA9.WAR & FIP & kFIP & WAR & 연봉.2018. & 연봉.2017.\\\\\n",
       "  & <chr> & <chr> & <int> & <int> & <int> & <int> & <int> & <int> & <int> & <dbl> & ⋯ & <dbl> & <dbl> & <dbl> & <dbl> & <dbl> & <dbl> & <dbl> & <dbl> & <int> & <int>\\\\\n",
       "\\hline\n",
       "\t1 & 켈리     & SK   & 16 &  7 & 0 & 0 & 0 & 30 & 30 & 190.0 & ⋯ & 0.76 & 0.342 & 73.7 & 3.60 & 6.91 & 3.69 & 3.44 & 6.62 & 140000 &  85000\\\\\n",
       "\t2 & 소사     & LG   & 11 & 11 & 1 & 0 & 0 & 30 & 29 & 185.1 & ⋯ & 0.53 & 0.319 & 67.1 & 3.88 & 6.80 & 3.52 & 3.41 & 6.08 & 120000 &  50000\\\\\n",
       "\t3 & 양현종   & KIA  & 20 &  6 & 0 & 0 & 0 & 31 & 31 & 193.1 & ⋯ & 0.79 & 0.332 & 72.1 & 3.44 & 6.54 & 3.94 & 3.82 & 5.64 & 230000 & 150000\\\\\n",
       "\t4 & 차우찬   & LG   & 10 &  7 & 0 & 0 & 0 & 28 & 28 & 175.2 & ⋯ & 1.02 & 0.298 & 75.0 & 3.43 & 6.11 & 4.20 & 4.03 & 4.63 & 100000 & 100000\\\\\n",
       "\t5 & 레일리   & 롯데 & 13 &  7 & 0 & 0 & 0 & 30 & 30 & 187.1 & ⋯ & 0.91 & 0.323 & 74.1 & 3.80 & 6.13 & 4.36 & 4.31 & 4.38 & 111000 &  85000\\\\\n",
       "\t6 & 피어밴드 & KT   &  8 & 10 & 0 & 0 & 0 & 26 & 26 & 160.0 & ⋯ & 1.12 & 0.289 & 76.1 & 3.04 & 6.52 & 4.42 & 4.32 & 3.94 &  85000 &  35000\\\\\n",
       "\\end{tabular}\n"
      ],
      "text/markdown": [
       "\n",
       "A data.frame: 6 × 22\n",
       "\n",
       "| <!--/--> | 선수명 &lt;chr&gt; | 팀명 &lt;chr&gt; | 승 &lt;int&gt; | 패 &lt;int&gt; | 세 &lt;int&gt; | 홀드 &lt;int&gt; | 블론 &lt;int&gt; | 경기 &lt;int&gt; | 선발 &lt;int&gt; | 이닝 &lt;dbl&gt; | ⋯ ⋯ | 홈런.9 &lt;dbl&gt; | BABIP &lt;dbl&gt; | LOB. &lt;dbl&gt; | ERA &lt;dbl&gt; | RA9.WAR &lt;dbl&gt; | FIP &lt;dbl&gt; | kFIP &lt;dbl&gt; | WAR &lt;dbl&gt; | 연봉.2018. &lt;int&gt; | 연봉.2017. &lt;int&gt; |\n",
       "|---|---|---|---|---|---|---|---|---|---|---|---|---|---|---|---|---|---|---|---|---|---|\n",
       "| 1 | 켈리     | SK   | 16 |  7 | 0 | 0 | 0 | 30 | 30 | 190.0 | ⋯ | 0.76 | 0.342 | 73.7 | 3.60 | 6.91 | 3.69 | 3.44 | 6.62 | 140000 |  85000 |\n",
       "| 2 | 소사     | LG   | 11 | 11 | 1 | 0 | 0 | 30 | 29 | 185.1 | ⋯ | 0.53 | 0.319 | 67.1 | 3.88 | 6.80 | 3.52 | 3.41 | 6.08 | 120000 |  50000 |\n",
       "| 3 | 양현종   | KIA  | 20 |  6 | 0 | 0 | 0 | 31 | 31 | 193.1 | ⋯ | 0.79 | 0.332 | 72.1 | 3.44 | 6.54 | 3.94 | 3.82 | 5.64 | 230000 | 150000 |\n",
       "| 4 | 차우찬   | LG   | 10 |  7 | 0 | 0 | 0 | 28 | 28 | 175.2 | ⋯ | 1.02 | 0.298 | 75.0 | 3.43 | 6.11 | 4.20 | 4.03 | 4.63 | 100000 | 100000 |\n",
       "| 5 | 레일리   | 롯데 | 13 |  7 | 0 | 0 | 0 | 30 | 30 | 187.1 | ⋯ | 0.91 | 0.323 | 74.1 | 3.80 | 6.13 | 4.36 | 4.31 | 4.38 | 111000 |  85000 |\n",
       "| 6 | 피어밴드 | KT   |  8 | 10 | 0 | 0 | 0 | 26 | 26 | 160.0 | ⋯ | 1.12 | 0.289 | 76.1 | 3.04 | 6.52 | 4.42 | 4.32 | 3.94 |  85000 |  35000 |\n",
       "\n"
      ],
      "text/plain": [
       "  선수명   팀명 승 패 세 홀드 블론 경기 선발 이닝  ⋯ 홈런.9 BABIP LOB. ERA \n",
       "1 켈리     SK   16  7 0  0    0    30   30   190.0 ⋯ 0.76   0.342 73.7 3.60\n",
       "2 소사     LG   11 11 1  0    0    30   29   185.1 ⋯ 0.53   0.319 67.1 3.88\n",
       "3 양현종   KIA  20  6 0  0    0    31   31   193.1 ⋯ 0.79   0.332 72.1 3.44\n",
       "4 차우찬   LG   10  7 0  0    0    28   28   175.2 ⋯ 1.02   0.298 75.0 3.43\n",
       "5 레일리   롯데 13  7 0  0    0    30   30   187.1 ⋯ 0.91   0.323 74.1 3.80\n",
       "6 피어밴드 KT    8 10 0  0    0    26   26   160.0 ⋯ 1.12   0.289 76.1 3.04\n",
       "  RA9.WAR FIP  kFIP WAR  연봉.2018. 연봉.2017.\n",
       "1 6.91    3.69 3.44 6.62 140000      85000    \n",
       "2 6.80    3.52 3.41 6.08 120000      50000    \n",
       "3 6.54    3.94 3.82 5.64 230000     150000    \n",
       "4 6.11    4.20 4.03 4.63 100000     100000    \n",
       "5 6.13    4.36 4.31 4.38 111000      85000    \n",
       "6 6.52    4.42 4.32 3.94  85000      35000    "
      ]
     },
     "metadata": {},
     "output_type": "display_data"
    }
   ],
   "source": [
    "picher <- read.csv(\"~/Dropbox/coco/posts/Applied statistics/picher_stats_2017.csv\")\n",
    "head(picher)"
   ]
  },
  {
   "cell_type": "code",
   "execution_count": 7,
   "id": "80df07cd-f00f-43f1-9841-ce483a6a0baa",
   "metadata": {},
   "outputs": [],
   "source": [
    "dt2018 <- data.frame(new_col = picher$연봉.2018.)"
   ]
  },
  {
   "cell_type": "code",
   "execution_count": 8,
   "id": "0adf8bf0-1697-4cce-bab1-f8ce4044c5d1",
   "metadata": {},
   "outputs": [],
   "source": [
    "dt2017 <- data.frame(new_col = picher$연봉.2017.)"
   ]
  },
  {
   "cell_type": "code",
   "execution_count": null,
   "id": "1f690606-8747-4b97-9f1d-cffe437a8fc0",
   "metadata": {},
   "outputs": [],
   "source": []
  },
  {
   "cell_type": "code",
   "execution_count": 9,
   "id": "15e9d00e-e973-4a15-9b83-55501a99285b",
   "metadata": {},
   "outputs": [],
   "source": [
    "dt <- subset(picher, select = -c(연봉.2017.,연봉.2018.))"
   ]
  },
  {
   "cell_type": "code",
   "execution_count": 14,
   "id": "a13c077a-8958-47db-918d-ae4cf5592480",
   "metadata": {},
   "outputs": [
    {
     "data": {
      "text/html": [
       "<table class=\"dataframe\">\n",
       "<caption>A data.frame: 6 × 22</caption>\n",
       "<thead>\n",
       "\t<tr><th></th><th scope=col>선수명</th><th scope=col>팀명</th><th scope=col>승</th><th scope=col>패</th><th scope=col>세</th><th scope=col>홀드</th><th scope=col>블론</th><th scope=col>경기</th><th scope=col>선발</th><th scope=col>이닝</th><th scope=col>⋯</th><th scope=col>홈런.9</th><th scope=col>BABIP</th><th scope=col>LOB.</th><th scope=col>ERA</th><th scope=col>RA9.WAR</th><th scope=col>FIP</th><th scope=col>kFIP</th><th scope=col>WAR</th><th scope=col>연봉.2017.</th><th scope=col>연봉.2018.</th></tr>\n",
       "\t<tr><th></th><th scope=col>&lt;chr&gt;</th><th scope=col>&lt;chr&gt;</th><th scope=col>&lt;int&gt;</th><th scope=col>&lt;int&gt;</th><th scope=col>&lt;int&gt;</th><th scope=col>&lt;int&gt;</th><th scope=col>&lt;int&gt;</th><th scope=col>&lt;int&gt;</th><th scope=col>&lt;int&gt;</th><th scope=col>&lt;dbl&gt;</th><th scope=col>⋯</th><th scope=col>&lt;dbl&gt;</th><th scope=col>&lt;dbl&gt;</th><th scope=col>&lt;dbl&gt;</th><th scope=col>&lt;dbl&gt;</th><th scope=col>&lt;dbl&gt;</th><th scope=col>&lt;dbl&gt;</th><th scope=col>&lt;dbl&gt;</th><th scope=col>&lt;dbl&gt;</th><th scope=col>&lt;int&gt;</th><th scope=col>&lt;int&gt;</th></tr>\n",
       "</thead>\n",
       "<tbody>\n",
       "\t<tr><th scope=row>1</th><td>켈리    </td><td>SK  </td><td>16</td><td> 7</td><td>0</td><td>0</td><td>0</td><td>30</td><td>30</td><td>190.0</td><td>⋯</td><td>0.76</td><td>0.342</td><td>73.7</td><td>3.60</td><td>6.91</td><td>3.69</td><td>3.44</td><td>6.62</td><td> 85000</td><td>140000</td></tr>\n",
       "\t<tr><th scope=row>2</th><td>소사    </td><td>LG  </td><td>11</td><td>11</td><td>1</td><td>0</td><td>0</td><td>30</td><td>29</td><td>185.1</td><td>⋯</td><td>0.53</td><td>0.319</td><td>67.1</td><td>3.88</td><td>6.80</td><td>3.52</td><td>3.41</td><td>6.08</td><td> 50000</td><td>120000</td></tr>\n",
       "\t<tr><th scope=row>3</th><td>양현종  </td><td>KIA </td><td>20</td><td> 6</td><td>0</td><td>0</td><td>0</td><td>31</td><td>31</td><td>193.1</td><td>⋯</td><td>0.79</td><td>0.332</td><td>72.1</td><td>3.44</td><td>6.54</td><td>3.94</td><td>3.82</td><td>5.64</td><td>150000</td><td>230000</td></tr>\n",
       "\t<tr><th scope=row>4</th><td>차우찬  </td><td>LG  </td><td>10</td><td> 7</td><td>0</td><td>0</td><td>0</td><td>28</td><td>28</td><td>175.2</td><td>⋯</td><td>1.02</td><td>0.298</td><td>75.0</td><td>3.43</td><td>6.11</td><td>4.20</td><td>4.03</td><td>4.63</td><td>100000</td><td>100000</td></tr>\n",
       "\t<tr><th scope=row>5</th><td>레일리  </td><td>롯데</td><td>13</td><td> 7</td><td>0</td><td>0</td><td>0</td><td>30</td><td>30</td><td>187.1</td><td>⋯</td><td>0.91</td><td>0.323</td><td>74.1</td><td>3.80</td><td>6.13</td><td>4.36</td><td>4.31</td><td>4.38</td><td> 85000</td><td>111000</td></tr>\n",
       "\t<tr><th scope=row>6</th><td>피어밴드</td><td>KT  </td><td> 8</td><td>10</td><td>0</td><td>0</td><td>0</td><td>26</td><td>26</td><td>160.0</td><td>⋯</td><td>1.12</td><td>0.289</td><td>76.1</td><td>3.04</td><td>6.52</td><td>4.42</td><td>4.32</td><td>3.94</td><td> 35000</td><td> 85000</td></tr>\n",
       "</tbody>\n",
       "</table>\n"
      ],
      "text/latex": [
       "A data.frame: 6 × 22\n",
       "\\begin{tabular}{r|lllllllllllllllllllll}\n",
       "  & 선수명 & 팀명 & 승 & 패 & 세 & 홀드 & 블론 & 경기 & 선발 & 이닝 & ⋯ & 홈런.9 & BABIP & LOB. & ERA & RA9.WAR & FIP & kFIP & WAR & 연봉.2017. & 연봉.2018.\\\\\n",
       "  & <chr> & <chr> & <int> & <int> & <int> & <int> & <int> & <int> & <int> & <dbl> & ⋯ & <dbl> & <dbl> & <dbl> & <dbl> & <dbl> & <dbl> & <dbl> & <dbl> & <int> & <int>\\\\\n",
       "\\hline\n",
       "\t1 & 켈리     & SK   & 16 &  7 & 0 & 0 & 0 & 30 & 30 & 190.0 & ⋯ & 0.76 & 0.342 & 73.7 & 3.60 & 6.91 & 3.69 & 3.44 & 6.62 &  85000 & 140000\\\\\n",
       "\t2 & 소사     & LG   & 11 & 11 & 1 & 0 & 0 & 30 & 29 & 185.1 & ⋯ & 0.53 & 0.319 & 67.1 & 3.88 & 6.80 & 3.52 & 3.41 & 6.08 &  50000 & 120000\\\\\n",
       "\t3 & 양현종   & KIA  & 20 &  6 & 0 & 0 & 0 & 31 & 31 & 193.1 & ⋯ & 0.79 & 0.332 & 72.1 & 3.44 & 6.54 & 3.94 & 3.82 & 5.64 & 150000 & 230000\\\\\n",
       "\t4 & 차우찬   & LG   & 10 &  7 & 0 & 0 & 0 & 28 & 28 & 175.2 & ⋯ & 1.02 & 0.298 & 75.0 & 3.43 & 6.11 & 4.20 & 4.03 & 4.63 & 100000 & 100000\\\\\n",
       "\t5 & 레일리   & 롯데 & 13 &  7 & 0 & 0 & 0 & 30 & 30 & 187.1 & ⋯ & 0.91 & 0.323 & 74.1 & 3.80 & 6.13 & 4.36 & 4.31 & 4.38 &  85000 & 111000\\\\\n",
       "\t6 & 피어밴드 & KT   &  8 & 10 & 0 & 0 & 0 & 26 & 26 & 160.0 & ⋯ & 1.12 & 0.289 & 76.1 & 3.04 & 6.52 & 4.42 & 4.32 & 3.94 &  35000 &  85000\\\\\n",
       "\\end{tabular}\n"
      ],
      "text/markdown": [
       "\n",
       "A data.frame: 6 × 22\n",
       "\n",
       "| <!--/--> | 선수명 &lt;chr&gt; | 팀명 &lt;chr&gt; | 승 &lt;int&gt; | 패 &lt;int&gt; | 세 &lt;int&gt; | 홀드 &lt;int&gt; | 블론 &lt;int&gt; | 경기 &lt;int&gt; | 선발 &lt;int&gt; | 이닝 &lt;dbl&gt; | ⋯ ⋯ | 홈런.9 &lt;dbl&gt; | BABIP &lt;dbl&gt; | LOB. &lt;dbl&gt; | ERA &lt;dbl&gt; | RA9.WAR &lt;dbl&gt; | FIP &lt;dbl&gt; | kFIP &lt;dbl&gt; | WAR &lt;dbl&gt; | 연봉.2017. &lt;int&gt; | 연봉.2018. &lt;int&gt; |\n",
       "|---|---|---|---|---|---|---|---|---|---|---|---|---|---|---|---|---|---|---|---|---|---|\n",
       "| 1 | 켈리     | SK   | 16 |  7 | 0 | 0 | 0 | 30 | 30 | 190.0 | ⋯ | 0.76 | 0.342 | 73.7 | 3.60 | 6.91 | 3.69 | 3.44 | 6.62 |  85000 | 140000 |\n",
       "| 2 | 소사     | LG   | 11 | 11 | 1 | 0 | 0 | 30 | 29 | 185.1 | ⋯ | 0.53 | 0.319 | 67.1 | 3.88 | 6.80 | 3.52 | 3.41 | 6.08 |  50000 | 120000 |\n",
       "| 3 | 양현종   | KIA  | 20 |  6 | 0 | 0 | 0 | 31 | 31 | 193.1 | ⋯ | 0.79 | 0.332 | 72.1 | 3.44 | 6.54 | 3.94 | 3.82 | 5.64 | 150000 | 230000 |\n",
       "| 4 | 차우찬   | LG   | 10 |  7 | 0 | 0 | 0 | 28 | 28 | 175.2 | ⋯ | 1.02 | 0.298 | 75.0 | 3.43 | 6.11 | 4.20 | 4.03 | 4.63 | 100000 | 100000 |\n",
       "| 5 | 레일리   | 롯데 | 13 |  7 | 0 | 0 | 0 | 30 | 30 | 187.1 | ⋯ | 0.91 | 0.323 | 74.1 | 3.80 | 6.13 | 4.36 | 4.31 | 4.38 |  85000 | 111000 |\n",
       "| 6 | 피어밴드 | KT   |  8 | 10 | 0 | 0 | 0 | 26 | 26 | 160.0 | ⋯ | 1.12 | 0.289 | 76.1 | 3.04 | 6.52 | 4.42 | 4.32 | 3.94 |  35000 |  85000 |\n",
       "\n"
      ],
      "text/plain": [
       "  선수명   팀명 승 패 세 홀드 블론 경기 선발 이닝  ⋯ 홈런.9 BABIP LOB. ERA \n",
       "1 켈리     SK   16  7 0  0    0    30   30   190.0 ⋯ 0.76   0.342 73.7 3.60\n",
       "2 소사     LG   11 11 1  0    0    30   29   185.1 ⋯ 0.53   0.319 67.1 3.88\n",
       "3 양현종   KIA  20  6 0  0    0    31   31   193.1 ⋯ 0.79   0.332 72.1 3.44\n",
       "4 차우찬   LG   10  7 0  0    0    28   28   175.2 ⋯ 1.02   0.298 75.0 3.43\n",
       "5 레일리   롯데 13  7 0  0    0    30   30   187.1 ⋯ 0.91   0.323 74.1 3.80\n",
       "6 피어밴드 KT    8 10 0  0    0    26   26   160.0 ⋯ 1.12   0.289 76.1 3.04\n",
       "  RA9.WAR FIP  kFIP WAR  연봉.2017. 연봉.2018.\n",
       "1 6.91    3.69 3.44 6.62  85000     140000    \n",
       "2 6.80    3.52 3.41 6.08  50000     120000    \n",
       "3 6.54    3.94 3.82 5.64 150000     230000    \n",
       "4 6.11    4.20 4.03 4.63 100000     100000    \n",
       "5 6.13    4.36 4.31 4.38  85000     111000    \n",
       "6 6.52    4.42 4.32 3.94  35000      85000    "
      ]
     },
     "metadata": {},
     "output_type": "display_data"
    }
   ],
   "source": [
    "head(dt)"
   ]
  },
  {
   "cell_type": "code",
   "execution_count": 11,
   "id": "91371a32-d7e5-416e-bc66-d23796acc595",
   "metadata": {},
   "outputs": [],
   "source": [
    "dt <- cbind(dt, new_col = dt2017)\n",
    "names(dt)[length(names(dt))] <- \"연봉.2017.\"\n"
   ]
  },
  {
   "cell_type": "code",
   "execution_count": 13,
   "id": "a0aab81e-17b7-48ca-b653-de8a21511882",
   "metadata": {},
   "outputs": [],
   "source": [
    "dt <- cbind(dt, new_col = dt2018)\n",
    "names(dt)[length(names(dt))] <- \"연봉.2018.\"\n"
   ]
  },
  {
   "cell_type": "code",
   "execution_count": null,
   "id": "3c932aeb-c971-4217-b448-00bb37b4b7b8",
   "metadata": {},
   "outputs": [],
   "source": []
  },
  {
   "cell_type": "code",
   "execution_count": 15,
   "id": "4076617a-6ec3-4618-b79b-697201d765b8",
   "metadata": {},
   "outputs": [
    {
     "data": {
      "text/html": [
       "<table class=\"dataframe\">\n",
       "<caption>A data.frame: 6 × 22</caption>\n",
       "<thead>\n",
       "\t<tr><th></th><th scope=col>선수명</th><th scope=col>팀명</th><th scope=col>승</th><th scope=col>패</th><th scope=col>세</th><th scope=col>홀드</th><th scope=col>블론</th><th scope=col>경기</th><th scope=col>선발</th><th scope=col>이닝</th><th scope=col>⋯</th><th scope=col>홈런.9</th><th scope=col>BABIP</th><th scope=col>LOB.</th><th scope=col>ERA</th><th scope=col>RA9.WAR</th><th scope=col>FIP</th><th scope=col>kFIP</th><th scope=col>WAR</th><th scope=col>연봉.2017.</th><th scope=col>연봉.2018.</th></tr>\n",
       "\t<tr><th></th><th scope=col>&lt;chr&gt;</th><th scope=col>&lt;chr&gt;</th><th scope=col>&lt;int&gt;</th><th scope=col>&lt;int&gt;</th><th scope=col>&lt;int&gt;</th><th scope=col>&lt;int&gt;</th><th scope=col>&lt;int&gt;</th><th scope=col>&lt;int&gt;</th><th scope=col>&lt;int&gt;</th><th scope=col>&lt;dbl&gt;</th><th scope=col>⋯</th><th scope=col>&lt;dbl&gt;</th><th scope=col>&lt;dbl&gt;</th><th scope=col>&lt;dbl&gt;</th><th scope=col>&lt;dbl&gt;</th><th scope=col>&lt;dbl&gt;</th><th scope=col>&lt;dbl&gt;</th><th scope=col>&lt;dbl&gt;</th><th scope=col>&lt;dbl&gt;</th><th scope=col>&lt;int&gt;</th><th scope=col>&lt;int&gt;</th></tr>\n",
       "</thead>\n",
       "<tbody>\n",
       "\t<tr><th scope=row>1</th><td>켈리    </td><td>SK  </td><td>16</td><td> 7</td><td>0</td><td>0</td><td>0</td><td>30</td><td>30</td><td>190.0</td><td>⋯</td><td>0.76</td><td>0.342</td><td>73.7</td><td>3.60</td><td>6.91</td><td>3.69</td><td>3.44</td><td>6.62</td><td> 85000</td><td>140000</td></tr>\n",
       "\t<tr><th scope=row>2</th><td>소사    </td><td>LG  </td><td>11</td><td>11</td><td>1</td><td>0</td><td>0</td><td>30</td><td>29</td><td>185.1</td><td>⋯</td><td>0.53</td><td>0.319</td><td>67.1</td><td>3.88</td><td>6.80</td><td>3.52</td><td>3.41</td><td>6.08</td><td> 50000</td><td>120000</td></tr>\n",
       "\t<tr><th scope=row>3</th><td>양현종  </td><td>KIA </td><td>20</td><td> 6</td><td>0</td><td>0</td><td>0</td><td>31</td><td>31</td><td>193.1</td><td>⋯</td><td>0.79</td><td>0.332</td><td>72.1</td><td>3.44</td><td>6.54</td><td>3.94</td><td>3.82</td><td>5.64</td><td>150000</td><td>230000</td></tr>\n",
       "\t<tr><th scope=row>4</th><td>차우찬  </td><td>LG  </td><td>10</td><td> 7</td><td>0</td><td>0</td><td>0</td><td>28</td><td>28</td><td>175.2</td><td>⋯</td><td>1.02</td><td>0.298</td><td>75.0</td><td>3.43</td><td>6.11</td><td>4.20</td><td>4.03</td><td>4.63</td><td>100000</td><td>100000</td></tr>\n",
       "\t<tr><th scope=row>5</th><td>레일리  </td><td>롯데</td><td>13</td><td> 7</td><td>0</td><td>0</td><td>0</td><td>30</td><td>30</td><td>187.1</td><td>⋯</td><td>0.91</td><td>0.323</td><td>74.1</td><td>3.80</td><td>6.13</td><td>4.36</td><td>4.31</td><td>4.38</td><td> 85000</td><td>111000</td></tr>\n",
       "\t<tr><th scope=row>6</th><td>피어밴드</td><td>KT  </td><td> 8</td><td>10</td><td>0</td><td>0</td><td>0</td><td>26</td><td>26</td><td>160.0</td><td>⋯</td><td>1.12</td><td>0.289</td><td>76.1</td><td>3.04</td><td>6.52</td><td>4.42</td><td>4.32</td><td>3.94</td><td> 35000</td><td> 85000</td></tr>\n",
       "</tbody>\n",
       "</table>\n"
      ],
      "text/latex": [
       "A data.frame: 6 × 22\n",
       "\\begin{tabular}{r|lllllllllllllllllllll}\n",
       "  & 선수명 & 팀명 & 승 & 패 & 세 & 홀드 & 블론 & 경기 & 선발 & 이닝 & ⋯ & 홈런.9 & BABIP & LOB. & ERA & RA9.WAR & FIP & kFIP & WAR & 연봉.2017. & 연봉.2018.\\\\\n",
       "  & <chr> & <chr> & <int> & <int> & <int> & <int> & <int> & <int> & <int> & <dbl> & ⋯ & <dbl> & <dbl> & <dbl> & <dbl> & <dbl> & <dbl> & <dbl> & <dbl> & <int> & <int>\\\\\n",
       "\\hline\n",
       "\t1 & 켈리     & SK   & 16 &  7 & 0 & 0 & 0 & 30 & 30 & 190.0 & ⋯ & 0.76 & 0.342 & 73.7 & 3.60 & 6.91 & 3.69 & 3.44 & 6.62 &  85000 & 140000\\\\\n",
       "\t2 & 소사     & LG   & 11 & 11 & 1 & 0 & 0 & 30 & 29 & 185.1 & ⋯ & 0.53 & 0.319 & 67.1 & 3.88 & 6.80 & 3.52 & 3.41 & 6.08 &  50000 & 120000\\\\\n",
       "\t3 & 양현종   & KIA  & 20 &  6 & 0 & 0 & 0 & 31 & 31 & 193.1 & ⋯ & 0.79 & 0.332 & 72.1 & 3.44 & 6.54 & 3.94 & 3.82 & 5.64 & 150000 & 230000\\\\\n",
       "\t4 & 차우찬   & LG   & 10 &  7 & 0 & 0 & 0 & 28 & 28 & 175.2 & ⋯ & 1.02 & 0.298 & 75.0 & 3.43 & 6.11 & 4.20 & 4.03 & 4.63 & 100000 & 100000\\\\\n",
       "\t5 & 레일리   & 롯데 & 13 &  7 & 0 & 0 & 0 & 30 & 30 & 187.1 & ⋯ & 0.91 & 0.323 & 74.1 & 3.80 & 6.13 & 4.36 & 4.31 & 4.38 &  85000 & 111000\\\\\n",
       "\t6 & 피어밴드 & KT   &  8 & 10 & 0 & 0 & 0 & 26 & 26 & 160.0 & ⋯ & 1.12 & 0.289 & 76.1 & 3.04 & 6.52 & 4.42 & 4.32 & 3.94 &  35000 &  85000\\\\\n",
       "\\end{tabular}\n"
      ],
      "text/markdown": [
       "\n",
       "A data.frame: 6 × 22\n",
       "\n",
       "| <!--/--> | 선수명 &lt;chr&gt; | 팀명 &lt;chr&gt; | 승 &lt;int&gt; | 패 &lt;int&gt; | 세 &lt;int&gt; | 홀드 &lt;int&gt; | 블론 &lt;int&gt; | 경기 &lt;int&gt; | 선발 &lt;int&gt; | 이닝 &lt;dbl&gt; | ⋯ ⋯ | 홈런.9 &lt;dbl&gt; | BABIP &lt;dbl&gt; | LOB. &lt;dbl&gt; | ERA &lt;dbl&gt; | RA9.WAR &lt;dbl&gt; | FIP &lt;dbl&gt; | kFIP &lt;dbl&gt; | WAR &lt;dbl&gt; | 연봉.2017. &lt;int&gt; | 연봉.2018. &lt;int&gt; |\n",
       "|---|---|---|---|---|---|---|---|---|---|---|---|---|---|---|---|---|---|---|---|---|---|\n",
       "| 1 | 켈리     | SK   | 16 |  7 | 0 | 0 | 0 | 30 | 30 | 190.0 | ⋯ | 0.76 | 0.342 | 73.7 | 3.60 | 6.91 | 3.69 | 3.44 | 6.62 |  85000 | 140000 |\n",
       "| 2 | 소사     | LG   | 11 | 11 | 1 | 0 | 0 | 30 | 29 | 185.1 | ⋯ | 0.53 | 0.319 | 67.1 | 3.88 | 6.80 | 3.52 | 3.41 | 6.08 |  50000 | 120000 |\n",
       "| 3 | 양현종   | KIA  | 20 |  6 | 0 | 0 | 0 | 31 | 31 | 193.1 | ⋯ | 0.79 | 0.332 | 72.1 | 3.44 | 6.54 | 3.94 | 3.82 | 5.64 | 150000 | 230000 |\n",
       "| 4 | 차우찬   | LG   | 10 |  7 | 0 | 0 | 0 | 28 | 28 | 175.2 | ⋯ | 1.02 | 0.298 | 75.0 | 3.43 | 6.11 | 4.20 | 4.03 | 4.63 | 100000 | 100000 |\n",
       "| 5 | 레일리   | 롯데 | 13 |  7 | 0 | 0 | 0 | 30 | 30 | 187.1 | ⋯ | 0.91 | 0.323 | 74.1 | 3.80 | 6.13 | 4.36 | 4.31 | 4.38 |  85000 | 111000 |\n",
       "| 6 | 피어밴드 | KT   |  8 | 10 | 0 | 0 | 0 | 26 | 26 | 160.0 | ⋯ | 1.12 | 0.289 | 76.1 | 3.04 | 6.52 | 4.42 | 4.32 | 3.94 |  35000 |  85000 |\n",
       "\n"
      ],
      "text/plain": [
       "  선수명   팀명 승 패 세 홀드 블론 경기 선발 이닝  ⋯ 홈런.9 BABIP LOB. ERA \n",
       "1 켈리     SK   16  7 0  0    0    30   30   190.0 ⋯ 0.76   0.342 73.7 3.60\n",
       "2 소사     LG   11 11 1  0    0    30   29   185.1 ⋯ 0.53   0.319 67.1 3.88\n",
       "3 양현종   KIA  20  6 0  0    0    31   31   193.1 ⋯ 0.79   0.332 72.1 3.44\n",
       "4 차우찬   LG   10  7 0  0    0    28   28   175.2 ⋯ 1.02   0.298 75.0 3.43\n",
       "5 레일리   롯데 13  7 0  0    0    30   30   187.1 ⋯ 0.91   0.323 74.1 3.80\n",
       "6 피어밴드 KT    8 10 0  0    0    26   26   160.0 ⋯ 1.12   0.289 76.1 3.04\n",
       "  RA9.WAR FIP  kFIP WAR  연봉.2017. 연봉.2018.\n",
       "1 6.91    3.69 3.44 6.62  85000     140000    \n",
       "2 6.80    3.52 3.41 6.08  50000     120000    \n",
       "3 6.54    3.94 3.82 5.64 150000     230000    \n",
       "4 6.11    4.20 4.03 4.63 100000     100000    \n",
       "5 6.13    4.36 4.31 4.38  85000     111000    \n",
       "6 6.52    4.42 4.32 3.94  35000      85000    "
      ]
     },
     "metadata": {},
     "output_type": "display_data"
    }
   ],
   "source": [
    "head(dt)"
   ]
  },
  {
   "cell_type": "code",
   "execution_count": 16,
   "id": "f5f97eff-dcd3-4f14-a7e0-13b22edc992e",
   "metadata": {},
   "outputs": [],
   "source": [
    "dt <- subset(dt, select = -c(팀명,선수명))"
   ]
  },
  {
   "cell_type": "code",
   "execution_count": 19,
   "id": "7bbb397d-12e0-4c5e-8bf9-d9c2eef41650",
   "metadata": {},
   "outputs": [
    {
     "data": {
      "text/html": [
       "<table class=\"dataframe\">\n",
       "<caption>A data.frame: 6 × 20</caption>\n",
       "<thead>\n",
       "\t<tr><th></th><th scope=col>승</th><th scope=col>패</th><th scope=col>세</th><th scope=col>홀드</th><th scope=col>블론</th><th scope=col>경기</th><th scope=col>선발</th><th scope=col>이닝</th><th scope=col>삼진.9</th><th scope=col>볼넷.9</th><th scope=col>홈런.9</th><th scope=col>BABIP</th><th scope=col>LOB.</th><th scope=col>ERA</th><th scope=col>RA9.WAR</th><th scope=col>FIP</th><th scope=col>kFIP</th><th scope=col>WAR</th><th scope=col>연봉.2017.</th><th scope=col>연봉.2018.</th></tr>\n",
       "\t<tr><th></th><th scope=col>&lt;int&gt;</th><th scope=col>&lt;int&gt;</th><th scope=col>&lt;int&gt;</th><th scope=col>&lt;int&gt;</th><th scope=col>&lt;int&gt;</th><th scope=col>&lt;int&gt;</th><th scope=col>&lt;int&gt;</th><th scope=col>&lt;dbl&gt;</th><th scope=col>&lt;dbl&gt;</th><th scope=col>&lt;dbl&gt;</th><th scope=col>&lt;dbl&gt;</th><th scope=col>&lt;dbl&gt;</th><th scope=col>&lt;dbl&gt;</th><th scope=col>&lt;dbl&gt;</th><th scope=col>&lt;dbl&gt;</th><th scope=col>&lt;dbl&gt;</th><th scope=col>&lt;dbl&gt;</th><th scope=col>&lt;dbl&gt;</th><th scope=col>&lt;int&gt;</th><th scope=col>&lt;int&gt;</th></tr>\n",
       "</thead>\n",
       "<tbody>\n",
       "\t<tr><th scope=row>1</th><td>16</td><td> 7</td><td>0</td><td>0</td><td>0</td><td>30</td><td>30</td><td>190.0</td><td>8.95</td><td>2.13</td><td>0.76</td><td>0.342</td><td>73.7</td><td>3.60</td><td>6.91</td><td>3.69</td><td>3.44</td><td>6.62</td><td> 85000</td><td>140000</td></tr>\n",
       "\t<tr><th scope=row>2</th><td>11</td><td>11</td><td>1</td><td>0</td><td>0</td><td>30</td><td>29</td><td>185.1</td><td>7.43</td><td>1.85</td><td>0.53</td><td>0.319</td><td>67.1</td><td>3.88</td><td>6.80</td><td>3.52</td><td>3.41</td><td>6.08</td><td> 50000</td><td>120000</td></tr>\n",
       "\t<tr><th scope=row>3</th><td>20</td><td> 6</td><td>0</td><td>0</td><td>0</td><td>31</td><td>31</td><td>193.1</td><td>7.36</td><td>2.09</td><td>0.79</td><td>0.332</td><td>72.1</td><td>3.44</td><td>6.54</td><td>3.94</td><td>3.82</td><td>5.64</td><td>150000</td><td>230000</td></tr>\n",
       "\t<tr><th scope=row>4</th><td>10</td><td> 7</td><td>0</td><td>0</td><td>0</td><td>28</td><td>28</td><td>175.2</td><td>8.04</td><td>1.95</td><td>1.02</td><td>0.298</td><td>75.0</td><td>3.43</td><td>6.11</td><td>4.20</td><td>4.03</td><td>4.63</td><td>100000</td><td>100000</td></tr>\n",
       "\t<tr><th scope=row>5</th><td>13</td><td> 7</td><td>0</td><td>0</td><td>0</td><td>30</td><td>30</td><td>187.1</td><td>7.49</td><td>2.11</td><td>0.91</td><td>0.323</td><td>74.1</td><td>3.80</td><td>6.13</td><td>4.36</td><td>4.31</td><td>4.38</td><td> 85000</td><td>111000</td></tr>\n",
       "\t<tr><th scope=row>6</th><td> 8</td><td>10</td><td>0</td><td>0</td><td>0</td><td>26</td><td>26</td><td>160.0</td><td>7.42</td><td>1.74</td><td>1.12</td><td>0.289</td><td>76.1</td><td>3.04</td><td>6.52</td><td>4.42</td><td>4.32</td><td>3.94</td><td> 35000</td><td> 85000</td></tr>\n",
       "</tbody>\n",
       "</table>\n"
      ],
      "text/latex": [
       "A data.frame: 6 × 20\n",
       "\\begin{tabular}{r|llllllllllllllllllll}\n",
       "  & 승 & 패 & 세 & 홀드 & 블론 & 경기 & 선발 & 이닝 & 삼진.9 & 볼넷.9 & 홈런.9 & BABIP & LOB. & ERA & RA9.WAR & FIP & kFIP & WAR & 연봉.2017. & 연봉.2018.\\\\\n",
       "  & <int> & <int> & <int> & <int> & <int> & <int> & <int> & <dbl> & <dbl> & <dbl> & <dbl> & <dbl> & <dbl> & <dbl> & <dbl> & <dbl> & <dbl> & <dbl> & <int> & <int>\\\\\n",
       "\\hline\n",
       "\t1 & 16 &  7 & 0 & 0 & 0 & 30 & 30 & 190.0 & 8.95 & 2.13 & 0.76 & 0.342 & 73.7 & 3.60 & 6.91 & 3.69 & 3.44 & 6.62 &  85000 & 140000\\\\\n",
       "\t2 & 11 & 11 & 1 & 0 & 0 & 30 & 29 & 185.1 & 7.43 & 1.85 & 0.53 & 0.319 & 67.1 & 3.88 & 6.80 & 3.52 & 3.41 & 6.08 &  50000 & 120000\\\\\n",
       "\t3 & 20 &  6 & 0 & 0 & 0 & 31 & 31 & 193.1 & 7.36 & 2.09 & 0.79 & 0.332 & 72.1 & 3.44 & 6.54 & 3.94 & 3.82 & 5.64 & 150000 & 230000\\\\\n",
       "\t4 & 10 &  7 & 0 & 0 & 0 & 28 & 28 & 175.2 & 8.04 & 1.95 & 1.02 & 0.298 & 75.0 & 3.43 & 6.11 & 4.20 & 4.03 & 4.63 & 100000 & 100000\\\\\n",
       "\t5 & 13 &  7 & 0 & 0 & 0 & 30 & 30 & 187.1 & 7.49 & 2.11 & 0.91 & 0.323 & 74.1 & 3.80 & 6.13 & 4.36 & 4.31 & 4.38 &  85000 & 111000\\\\\n",
       "\t6 &  8 & 10 & 0 & 0 & 0 & 26 & 26 & 160.0 & 7.42 & 1.74 & 1.12 & 0.289 & 76.1 & 3.04 & 6.52 & 4.42 & 4.32 & 3.94 &  35000 &  85000\\\\\n",
       "\\end{tabular}\n"
      ],
      "text/markdown": [
       "\n",
       "A data.frame: 6 × 20\n",
       "\n",
       "| <!--/--> | 승 &lt;int&gt; | 패 &lt;int&gt; | 세 &lt;int&gt; | 홀드 &lt;int&gt; | 블론 &lt;int&gt; | 경기 &lt;int&gt; | 선발 &lt;int&gt; | 이닝 &lt;dbl&gt; | 삼진.9 &lt;dbl&gt; | 볼넷.9 &lt;dbl&gt; | 홈런.9 &lt;dbl&gt; | BABIP &lt;dbl&gt; | LOB. &lt;dbl&gt; | ERA &lt;dbl&gt; | RA9.WAR &lt;dbl&gt; | FIP &lt;dbl&gt; | kFIP &lt;dbl&gt; | WAR &lt;dbl&gt; | 연봉.2017. &lt;int&gt; | 연봉.2018. &lt;int&gt; |\n",
       "|---|---|---|---|---|---|---|---|---|---|---|---|---|---|---|---|---|---|---|---|---|\n",
       "| 1 | 16 |  7 | 0 | 0 | 0 | 30 | 30 | 190.0 | 8.95 | 2.13 | 0.76 | 0.342 | 73.7 | 3.60 | 6.91 | 3.69 | 3.44 | 6.62 |  85000 | 140000 |\n",
       "| 2 | 11 | 11 | 1 | 0 | 0 | 30 | 29 | 185.1 | 7.43 | 1.85 | 0.53 | 0.319 | 67.1 | 3.88 | 6.80 | 3.52 | 3.41 | 6.08 |  50000 | 120000 |\n",
       "| 3 | 20 |  6 | 0 | 0 | 0 | 31 | 31 | 193.1 | 7.36 | 2.09 | 0.79 | 0.332 | 72.1 | 3.44 | 6.54 | 3.94 | 3.82 | 5.64 | 150000 | 230000 |\n",
       "| 4 | 10 |  7 | 0 | 0 | 0 | 28 | 28 | 175.2 | 8.04 | 1.95 | 1.02 | 0.298 | 75.0 | 3.43 | 6.11 | 4.20 | 4.03 | 4.63 | 100000 | 100000 |\n",
       "| 5 | 13 |  7 | 0 | 0 | 0 | 30 | 30 | 187.1 | 7.49 | 2.11 | 0.91 | 0.323 | 74.1 | 3.80 | 6.13 | 4.36 | 4.31 | 4.38 |  85000 | 111000 |\n",
       "| 6 |  8 | 10 | 0 | 0 | 0 | 26 | 26 | 160.0 | 7.42 | 1.74 | 1.12 | 0.289 | 76.1 | 3.04 | 6.52 | 4.42 | 4.32 | 3.94 |  35000 |  85000 |\n",
       "\n"
      ],
      "text/plain": [
       "  승 패 세 홀드 블론 경기 선발 이닝  삼진.9 볼넷.9 홈런.9 BABIP LOB. ERA \n",
       "1 16  7 0  0    0    30   30   190.0 8.95   2.13   0.76   0.342 73.7 3.60\n",
       "2 11 11 1  0    0    30   29   185.1 7.43   1.85   0.53   0.319 67.1 3.88\n",
       "3 20  6 0  0    0    31   31   193.1 7.36   2.09   0.79   0.332 72.1 3.44\n",
       "4 10  7 0  0    0    28   28   175.2 8.04   1.95   1.02   0.298 75.0 3.43\n",
       "5 13  7 0  0    0    30   30   187.1 7.49   2.11   0.91   0.323 74.1 3.80\n",
       "6  8 10 0  0    0    26   26   160.0 7.42   1.74   1.12   0.289 76.1 3.04\n",
       "  RA9.WAR FIP  kFIP WAR  연봉.2017. 연봉.2018.\n",
       "1 6.91    3.69 3.44 6.62  85000     140000    \n",
       "2 6.80    3.52 3.41 6.08  50000     120000    \n",
       "3 6.54    3.94 3.82 5.64 150000     230000    \n",
       "4 6.11    4.20 4.03 4.63 100000     100000    \n",
       "5 6.13    4.36 4.31 4.38  85000     111000    \n",
       "6 6.52    4.42 4.32 3.94  35000      85000    "
      ]
     },
     "metadata": {},
     "output_type": "display_data"
    }
   ],
   "source": [
    "head(dt)"
   ]
  },
  {
   "cell_type": "markdown",
   "id": "77f246e4-6ee9-4b8f-917c-d116a3b0532a",
   "metadata": {
    "tags": []
   },
   "source": [
    "# 회귀직선적합"
   ]
  },
  {
   "cell_type": "markdown",
   "id": "b00a9914-9287-413c-98ca-ea304bb64cba",
   "metadata": {},
   "source": [
    "## model1(원본)"
   ]
  },
  {
   "cell_type": "code",
   "execution_count": 63,
   "id": "7bc7b71f-7750-4305-ab26-dada7c9b9fd0",
   "metadata": {},
   "outputs": [
    {
     "data": {
      "text/plain": [
       "\n",
       "Call:\n",
       "lm(formula = 연봉.2018. ~ ., data = dt)\n",
       "\n",
       "Residuals:\n",
       "   Min     1Q Median     3Q    Max \n",
       "-46529  -2418    424   2649  47773 \n",
       "\n",
       "Coefficients:\n",
       "              Estimate Std. Error t value Pr(>|t|)    \n",
       "(Intercept)  1.513e+04  1.826e+04   0.829   0.4087    \n",
       "승           1.004e+03  5.375e+02   1.869   0.0639 .  \n",
       "패          -1.836e+02  5.504e+02  -0.334   0.7392    \n",
       "세          -2.112e+01  2.713e+02  -0.078   0.9381    \n",
       "홀드        -1.817e+01  3.161e+02  -0.057   0.9542    \n",
       "블론         4.535e+02  7.610e+02   0.596   0.5522    \n",
       "경기        -1.760e+02  1.456e+02  -1.209   0.2289    \n",
       "선발        -6.719e+02  4.616e+02  -1.456   0.1479    \n",
       "이닝         7.425e+01  1.156e+02   0.642   0.5217    \n",
       "삼진.9      -4.603e+02  2.349e+03  -0.196   0.8449    \n",
       "볼넷.9       1.194e+03  2.256e+03   0.529   0.5976    \n",
       "홈런.9       4.874e+03  1.413e+04   0.345   0.7306    \n",
       "BABIP       -9.997e+03  1.486e+04  -0.673   0.5022    \n",
       "LOB.        -4.350e+01  1.299e+02  -0.335   0.7382    \n",
       "ERA         -7.413e+01  5.693e+02  -0.130   0.8966    \n",
       "RA9.WAR     -7.584e+02  1.487e+03  -0.510   0.6109    \n",
       "FIP         -6.436e+03  4.477e+04  -0.144   0.8859    \n",
       "kFIP         3.805e+03  3.593e+04   0.106   0.9158    \n",
       "WAR          8.559e+03  1.789e+03   4.783 4.55e-06 ***\n",
       "연봉.2017.   8.755e-01  4.444e-02  19.698  < 2e-16 ***\n",
       "---\n",
       "Signif. codes:  0 ‘***’ 0.001 ‘**’ 0.01 ‘*’ 0.05 ‘.’ 0.1 ‘ ’ 1\n",
       "\n",
       "Residual standard error: 9198 on 132 degrees of freedom\n",
       "Multiple R-squared:  0.9228,\tAdjusted R-squared:  0.9116 \n",
       "F-statistic: 82.99 on 19 and 132 DF,  p-value: < 2.2e-16\n"
      ]
     },
     "metadata": {},
     "output_type": "display_data"
    }
   ],
   "source": [
    "model1 <- lm(연봉.2018. ~ ., dt)\n",
    "summary(model1)"
   ]
  },
  {
   "cell_type": "code",
   "execution_count": 64,
   "id": "bc3dd248-2312-497d-8635-292ef47c014e",
   "metadata": {},
   "outputs": [
    {
     "data": {
      "text/html": [
       "<style>\n",
       ".dl-inline {width: auto; margin:0; padding: 0}\n",
       ".dl-inline>dt, .dl-inline>dd {float: none; width: auto; display: inline-block}\n",
       ".dl-inline>dt::after {content: \":\\0020\"; padding-right: .5ex}\n",
       ".dl-inline>dt:not(:first-of-type) {padding-left: .5ex}\n",
       "</style><dl class=dl-inline><dt>승</dt><dd>7.69934669638176</dd><dt>패</dt><dd>5.30032799820878</dd><dt>세</dt><dd>3.03718565968123</dd><dt>홀드</dt><dd>3.63605161357374</dd><dt>블론</dt><dd>2.75956034802692</dd><dt>경기</dt><dd>14.2011271199637</dd><dt>선발</dt><dd>36.1601878733279</dd><dt>이닝</dt><dd>60.3244538179009</dd><dt>삼진.9</dt><dd>78.7161704892493</dd><dt>볼넷.9</dt><dd>50.7257985016107</dd><dt>홈런.9</dt><dd>368.399308168573</dd><dt>BABIP</dt><dd>3.11936893312554</dd><dt>LOB.</dt><dd>4.04602533224649</dd><dt>ERA</dt><dd>10.0441738232824</dd><dt>RA9.WAR</dt><dd>13.4198973515016</dd><dt>FIP</dt><dd>12525.2424059086</dd><dt>kFIP</dt><dd>9046.04880487446</dd><dt>WAR</dt><dd>9.99177856816849</dd><dt>연봉.2017.</dt><dd>2.21186942564398</dd></dl>\n"
      ],
      "text/latex": [
       "\\begin{description*}\n",
       "\\item[승] 7.69934669638176\n",
       "\\item[패] 5.30032799820878\n",
       "\\item[세] 3.03718565968123\n",
       "\\item[홀드] 3.63605161357374\n",
       "\\item[블론] 2.75956034802692\n",
       "\\item[경기] 14.2011271199637\n",
       "\\item[선발] 36.1601878733279\n",
       "\\item[이닝] 60.3244538179009\n",
       "\\item[삼진.9] 78.7161704892493\n",
       "\\item[볼넷.9] 50.7257985016107\n",
       "\\item[홈런.9] 368.399308168573\n",
       "\\item[BABIP] 3.11936893312554\n",
       "\\item[LOB.] 4.04602533224649\n",
       "\\item[ERA] 10.0441738232824\n",
       "\\item[RA9.WAR] 13.4198973515016\n",
       "\\item[FIP] 12525.2424059086\n",
       "\\item[kFIP] 9046.04880487446\n",
       "\\item[WAR] 9.99177856816849\n",
       "\\item[연봉.2017.] 2.21186942564398\n",
       "\\end{description*}\n"
      ],
      "text/markdown": [
       "승\n",
       ":   7.69934669638176패\n",
       ":   5.30032799820878세\n",
       ":   3.03718565968123홀드\n",
       ":   3.63605161357374블론\n",
       ":   2.75956034802692경기\n",
       ":   14.2011271199637선발\n",
       ":   36.1601878733279이닝\n",
       ":   60.3244538179009삼진.9\n",
       ":   78.7161704892493볼넷.9\n",
       ":   50.7257985016107홈런.9\n",
       ":   368.399308168573BABIP\n",
       ":   3.11936893312554LOB.\n",
       ":   4.04602533224649ERA\n",
       ":   10.0441738232824RA9.WAR\n",
       ":   13.4198973515016FIP\n",
       ":   12525.2424059086kFIP\n",
       ":   9046.04880487446WAR\n",
       ":   9.99177856816849연봉.2017.\n",
       ":   2.21186942564398\n",
       "\n"
      ],
      "text/plain": [
       "          승           패           세         홀드         블론         경기 \n",
       "    7.699347     5.300328     3.037186     3.636052     2.759560    14.201127 \n",
       "        선발         이닝       삼진.9       볼넷.9       홈런.9        BABIP \n",
       "   36.160188    60.324454    78.716170    50.725799   368.399308     3.119369 \n",
       "        LOB.          ERA      RA9.WAR          FIP         kFIP          WAR \n",
       "    4.046025    10.044174    13.419897 12525.242406  9046.048805     9.991779 \n",
       "  연봉.2017. \n",
       "    2.211869 "
      ]
     },
     "metadata": {},
     "output_type": "display_data"
    }
   ],
   "source": [
    "vif(model1)"
   ]
  },
  {
   "cell_type": "code",
   "execution_count": 65,
   "id": "9a0a74ec-cecd-460f-b282-d1b1725c60a1",
   "metadata": {},
   "outputs": [],
   "source": [
    "threshold <- 10"
   ]
  },
  {
   "cell_type": "code",
   "execution_count": 66,
   "id": "a02a7ba6-ae73-4c2c-ac1e-34d4db8ab5e4",
   "metadata": {},
   "outputs": [
    {
     "name": "stdout",
     "output_type": "stream",
     "text": [
      " [1] \"경기\"    \"선발\"    \"이닝\"    \"삼진.9\"  \"볼넷.9\"  \"홈런.9\"  \"ERA\"    \n",
      " [8] \"RA9.WAR\" \"FIP\"     \"kFIP\"   \n"
     ]
    }
   ],
   "source": [
    "high_vif_vars <- get_high_vif_variables(model1, threshold)\n",
    "print(high_vif_vars)"
   ]
  },
  {
   "cell_type": "code",
   "execution_count": 67,
   "id": "8f8b5673-a789-4f21-b3b9-4311f77d3f46",
   "metadata": {},
   "outputs": [],
   "source": [
    "threshold <- 15"
   ]
  },
  {
   "cell_type": "code",
   "execution_count": 68,
   "id": "deab8c25-1462-4888-aa00-77db1547cc35",
   "metadata": {},
   "outputs": [
    {
     "name": "stdout",
     "output_type": "stream",
     "text": [
      "[1] \"선발\"   \"이닝\"   \"삼진.9\" \"볼넷.9\" \"홈런.9\" \"FIP\"    \"kFIP\"  \n"
     ]
    }
   ],
   "source": [
    "high_vif_vars <- get_high_vif_variables(model1, threshold)\n",
    "print(high_vif_vars)"
   ]
  },
  {
   "cell_type": "code",
   "execution_count": null,
   "id": "a16fa720-da9b-4bd4-a782-4ca96ab7cf6b",
   "metadata": {},
   "outputs": [],
   "source": []
  },
  {
   "cell_type": "code",
   "execution_count": null,
   "id": "7685dbda-6943-4e37-9839-3ec466f44dbd",
   "metadata": {},
   "outputs": [],
   "source": []
  },
  {
   "cell_type": "code",
   "execution_count": null,
   "id": "4478d02a-10ca-492f-9bcb-9e0b9cbcff65",
   "metadata": {},
   "outputs": [],
   "source": []
  },
  {
   "cell_type": "code",
   "execution_count": 69,
   "id": "f5eeb081-dcc2-4e26-b708-80a4607b7389",
   "metadata": {},
   "outputs": [
    {
     "data": {
      "image/png": "[encoded data removed]",
      "text/plain": [
       "plot without title"
      ]
     },
     "metadata": {
      "image/png": {
       "height": 420,
       "width": 420
      }
     },
     "output_type": "display_data"
    }
   ],
   "source": [
    "pairs(dt,panel=panel.smooth)"
   ]
  },
  {
   "cell_type": "markdown",
   "id": "253d680e-bb45-44da-be0d-8840d7a80897",
   "metadata": {},
   "source": [
    "- 수치형 데이터들끼리의 상관계수 확인.."
   ]
  },
  {
   "cell_type": "code",
   "execution_count": 70,
   "id": "d9f574f1-784b-4cef-b711-2fe28f8ec4f7",
   "metadata": {},
   "outputs": [
    {
     "name": "stdout",
     "output_type": "stream",
     "text": [
      "              승    패    세  홀드  블론  경기  선발  이닝 삼진.9 볼넷.9 홈런.9\n",
      "승          1.00  0.71  0.05  0.09  0.11  0.40  0.77  0.91   0.08  -0.40  -0.12\n",
      "패          0.71  1.00  0.07  0.10  0.12  0.34  0.77  0.83   0.03  -0.39  -0.06\n",
      "세          0.05  0.07  1.00  0.11  0.61  0.43 -0.18  0.02   0.17  -0.13  -0.07\n",
      "홀드        0.09  0.10  0.11  1.00  0.49  0.72 -0.29  0.02   0.19  -0.15  -0.08\n",
      "블론        0.11  0.12  0.61  0.49  1.00  0.63 -0.26  0.01   0.19  -0.14  -0.06\n",
      "경기        0.40  0.34  0.43  0.72  0.63  1.00 -0.04  0.38   0.19  -0.36  -0.11\n",
      "선발        0.77  0.77 -0.18 -0.29 -0.26 -0.04  1.00  0.89  -0.06  -0.31  -0.06\n",
      "이닝        0.91  0.83  0.02  0.02  0.01  0.38  0.89  1.00   0.04  -0.45  -0.11\n",
      "삼진.9      0.08  0.03  0.17  0.19  0.19  0.19 -0.06  0.04   1.00   0.11   0.22\n",
      "볼넷.9     -0.40 -0.39 -0.13 -0.15 -0.14 -0.36 -0.31 -0.45   0.11   1.00   0.30\n",
      "홈런.9     -0.12 -0.06 -0.07 -0.08 -0.06 -0.11 -0.06 -0.11   0.22   0.30   1.00\n",
      "BABIP      -0.17 -0.13 -0.09 -0.10 -0.11 -0.24 -0.10 -0.19   0.46   0.28   0.36\n",
      "LOB.        0.13 -0.02  0.17  0.05  0.10  0.11  0.04  0.10  -0.07  -0.15  -0.27\n",
      "ERA        -0.27 -0.19 -0.15 -0.16 -0.16 -0.32 -0.16 -0.29   0.26   0.52   0.63\n",
      "RA9.WAR     0.85  0.60  0.17  0.00  0.01  0.28  0.74  0.85   0.10  -0.40  -0.19\n",
      "FIP        -0.30 -0.23 -0.20 -0.21 -0.21 -0.35 -0.15 -0.30  -0.15   0.63   0.83\n",
      "kFIP       -0.31 -0.24 -0.23 -0.24 -0.24 -0.37 -0.14 -0.30  -0.32   0.61   0.74\n",
      "WAR         0.82  0.63  0.08 -0.04 -0.06  0.20  0.76  0.83   0.15  -0.39  -0.21\n",
      "연봉.2017.  0.63  0.43  0.26  0.00  0.15  0.23  0.49  0.59   0.10  -0.33  -0.10\n",
      "연봉.2018.  0.71  0.47  0.21 -0.02  0.10  0.21  0.56  0.66   0.10  -0.33  -0.12\n",
      "           BABIP  LOB.   ERA RA9.WAR   FIP  kFIP   WAR 연봉.2017. 연봉.2018.\n",
      "승         -0.17  0.13 -0.27    0.85 -0.30 -0.31  0.82       0.63       0.71\n",
      "패         -0.13 -0.02 -0.19    0.60 -0.23 -0.24  0.63       0.43       0.47\n",
      "세         -0.09  0.17 -0.15    0.17 -0.20 -0.23  0.08       0.26       0.21\n",
      "홀드       -0.10  0.05 -0.16    0.00 -0.21 -0.24 -0.04       0.00      -0.02\n",
      "블론       -0.11  0.10 -0.16    0.01 -0.21 -0.24 -0.06       0.15       0.10\n",
      "경기       -0.24  0.11 -0.32    0.28 -0.35 -0.37  0.20       0.23       0.21\n",
      "선발       -0.10  0.04 -0.16    0.74 -0.15 -0.14  0.76       0.49       0.56\n",
      "이닝       -0.19  0.10 -0.29    0.85 -0.30 -0.30  0.83       0.59       0.66\n",
      "삼진.9      0.46 -0.07  0.26    0.10 -0.15 -0.32  0.15       0.10       0.10\n",
      "볼넷.9      0.28 -0.15  0.52   -0.40  0.63  0.61 -0.39      -0.33      -0.33\n",
      "홈런.9      0.36 -0.27  0.63   -0.19  0.83  0.74 -0.21      -0.10      -0.12\n",
      "BABIP       1.00 -0.51  0.73   -0.19  0.25  0.17 -0.08      -0.09      -0.10\n",
      "LOB.       -0.51  1.00 -0.72    0.29 -0.29 -0.27  0.14       0.11       0.13\n",
      "ERA         0.73 -0.72  1.00   -0.34  0.65  0.58 -0.26      -0.20      -0.22\n",
      "RA9.WAR    -0.19  0.29 -0.34    1.00 -0.37 -0.38  0.92       0.64       0.74\n",
      "FIP         0.25 -0.29  0.65   -0.37  1.00  0.98 -0.39      -0.27      -0.28\n",
      "kFIP        0.17 -0.27  0.58   -0.38  0.98  1.00 -0.41      -0.28      -0.30\n",
      "WAR        -0.08  0.14 -0.26    0.92 -0.39 -0.41  1.00       0.68       0.79\n",
      "연봉.2017. -0.09  0.11 -0.20    0.64 -0.27 -0.28  0.68       1.00       0.93\n",
      "연봉.2018. -0.10  0.13 -0.22    0.74 -0.28 -0.30  0.79       0.93       1.00\n"
     ]
    }
   ],
   "source": [
    "dt_numeric <- dt[, sapply(dt, is.numeric)]\n",
    "cor_matrix <- cor(dt_numeric)\n",
    "print(round(cor_matrix,2))\n"
   ]
  },
  {
   "cell_type": "markdown",
   "id": "b15a1454-5ade-4cef-a4a8-237938bbb854",
   "metadata": {},
   "source": [
    "# 다중공산성 해결 방법"
   ]
  },
  {
   "cell_type": "markdown",
   "id": "6eb41564-0b27-445f-8ac2-2cee952327c5",
   "metadata": {},
   "source": [
    "## VIF계수가 높은 변수 제거"
   ]
  },
  {
   "cell_type": "markdown",
   "id": "ab97d7d2-b14b-42b0-9827-f6d249f480b9",
   "metadata": {},
   "source": [
    "### model2(Vif 10 이상인 변수 제거)"
   ]
  },
  {
   "cell_type": "code",
   "execution_count": 71,
   "id": "1978c824-9bc4-4309-9c7f-359164be9c6d",
   "metadata": {},
   "outputs": [
    {
     "data": {
      "text/plain": [
       "\n",
       "Call:\n",
       "lm(formula = 연봉.2018. ~ . - 경기 - 선발 - 이닝 - 삼진.9 - \n",
       "    볼넷.9 - 홈런.9 - ERA - RA9.WAR - FIP - kFIP, data = dt)\n",
       "\n",
       "Residuals:\n",
       "   Min     1Q Median     3Q    Max \n",
       "-48657  -1981    511   2303  51073 \n",
       "\n",
       "Coefficients:\n",
       "              Estimate Std. Error t value Pr(>|t|)    \n",
       "(Intercept)  6.432e+03  7.893e+03   0.815   0.4165    \n",
       "승           4.770e+02  4.061e+02   1.175   0.2421    \n",
       "패          -7.851e+02  3.525e+02  -2.227   0.0275 *  \n",
       "세          -1.172e+02  2.150e+02  -0.545   0.5865    \n",
       "홀드        -1.229e+02  1.973e+02  -0.623   0.5344    \n",
       "블론         6.340e+02  7.188e+02   0.882   0.3792    \n",
       "BABIP       -7.810e+03  9.994e+03  -0.781   0.4358    \n",
       "LOB.        -4.979e+01  7.793e+01  -0.639   0.5239    \n",
       "WAR          7.298e+03  1.169e+03   6.243 4.67e-09 ***\n",
       "연봉.2017.   8.846e-01  4.322e-02  20.469  < 2e-16 ***\n",
       "---\n",
       "Signif. codes:  0 ‘***’ 0.001 ‘**’ 0.01 ‘*’ 0.05 ‘.’ 0.1 ‘ ’ 1\n",
       "\n",
       "Residual standard error: 9149 on 142 degrees of freedom\n",
       "Multiple R-squared:  0.9178,\tAdjusted R-squared:  0.9126 \n",
       "F-statistic: 176.1 on 9 and 142 DF,  p-value: < 2.2e-16\n"
      ]
     },
     "metadata": {},
     "output_type": "display_data"
    }
   ],
   "source": [
    "model2 <- lm(연봉.2018. ~ .-경기-선발-이닝-삼진.9-볼넷.9-홈런.9-ERA-RA9.WAR-FIP-kFIP, dt)\n",
    "summary(model2)"
   ]
  },
  {
   "cell_type": "code",
   "execution_count": 72,
   "id": "b4d26c51-014e-4b4f-8d65-929b95b12b01",
   "metadata": {},
   "outputs": [
    {
     "data": {
      "text/html": [
       "<style>\n",
       ".dl-inline {width: auto; margin:0; padding: 0}\n",
       ".dl-inline>dt, .dl-inline>dd {float: none; width: auto; display: inline-block}\n",
       ".dl-inline>dt::after {content: \":\\0020\"; padding-right: .5ex}\n",
       ".dl-inline>dt:not(:first-of-type) {padding-left: .5ex}\n",
       "</style><dl class=dl-inline><dt>승</dt><dd>4.44133840452701</dd><dt>패</dt><dd>2.19787784118271</dd><dt>세</dt><dd>1.9291576101908</dd><dt>홀드</dt><dd>1.43155944990414</dd><dt>블론</dt><dd>2.48814143828698</dd><dt>BABIP</dt><dd>1.42670331782564</dd><dt>LOB.</dt><dd>1.47225296358887</dd><dt>WAR</dt><dd>4.30937396392511</dd><dt>연봉.2017.</dt><dd>2.11357639082776</dd></dl>\n"
      ],
      "text/latex": [
       "\\begin{description*}\n",
       "\\item[승] 4.44133840452701\n",
       "\\item[패] 2.19787784118271\n",
       "\\item[세] 1.9291576101908\n",
       "\\item[홀드] 1.43155944990414\n",
       "\\item[블론] 2.48814143828698\n",
       "\\item[BABIP] 1.42670331782564\n",
       "\\item[LOB.] 1.47225296358887\n",
       "\\item[WAR] 4.30937396392511\n",
       "\\item[연봉.2017.] 2.11357639082776\n",
       "\\end{description*}\n"
      ],
      "text/markdown": [
       "승\n",
       ":   4.44133840452701패\n",
       ":   2.19787784118271세\n",
       ":   1.9291576101908홀드\n",
       ":   1.43155944990414블론\n",
       ":   2.48814143828698BABIP\n",
       ":   1.42670331782564LOB.\n",
       ":   1.47225296358887WAR\n",
       ":   4.30937396392511연봉.2017.\n",
       ":   2.11357639082776\n",
       "\n"
      ],
      "text/plain": [
       "        승         패         세       홀드       블론      BABIP       LOB. \n",
       "  4.441338   2.197878   1.929158   1.431559   2.488141   1.426703   1.472253 \n",
       "       WAR 연봉.2017. \n",
       "  4.309374   2.113576 "
      ]
     },
     "metadata": {},
     "output_type": "display_data"
    }
   ],
   "source": [
    "vif(model2)"
   ]
  },
  {
   "cell_type": "markdown",
   "id": "30c77adf-6fd1-4862-b52e-baf9118f7fe1",
   "metadata": {},
   "source": [
    "- model1에서 다중공산성이 높았던 변수들을 제외하고 lm을 돌렸더니, 회귀모형은 유의하게 나왔고 R^2값도 91%로 높게 나왔지만 model1보다는 R^2값이 조금 적게 나왔다. \n",
    "\n",
    "- 다중공산성이 높은 변수를 제외하는 것은 다른 것들도 확인을 해보아야 한다."
   ]
  },
  {
   "cell_type": "markdown",
   "id": "86a376fc-15ad-4f4f-9e4d-8500c12e2de2",
   "metadata": {},
   "source": [
    "### VIF제거시 고려사항"
   ]
  },
  {
   "cell_type": "markdown",
   "id": "60f68729-ba53-4411-924a-32900f3add8f",
   "metadata": {},
   "source": [
    "- 1. VIF계수가 높은 피처 우선 제거하되, FIP, kFIP와 같이 유사한 변수들은 두개 중에서 하나만 제거해보자.\n"
   ]
  },
  {
   "cell_type": "code",
   "execution_count": 24,
   "id": "29b47f71-6aa4-4bfb-abd2-7de54d5b5b61",
   "metadata": {},
   "outputs": [
    {
     "data": {
      "text/plain": [
       "\n",
       "Call:\n",
       "lm(formula = 연봉.2018. ~ . - FIP, data = dt)\n",
       "\n",
       "Residuals:\n",
       "   Min     1Q Median     3Q    Max \n",
       "-46688  -2466    423   2597  47710 \n",
       "\n",
       "Coefficients:\n",
       "              Estimate Std. Error t value Pr(>|t|)    \n",
       "(Intercept)  1.406e+04  1.660e+04   0.847    0.399    \n",
       "승           1.007e+03  5.352e+02   1.882    0.062 .  \n",
       "패          -1.723e+02  5.427e+02  -0.317    0.751    \n",
       "세          -2.263e+01  2.701e+02  -0.084    0.933    \n",
       "홀드        -1.779e+01  3.149e+02  -0.056    0.955    \n",
       "블론         4.563e+02  7.579e+02   0.602    0.548    \n",
       "경기        -1.738e+02  1.443e+02  -1.205    0.230    \n",
       "선발        -6.701e+02  4.598e+02  -1.458    0.147    \n",
       "이닝         7.216e+01  1.142e+02   0.632    0.529    \n",
       "삼진.9      -7.714e+02  9.085e+02  -0.849    0.397    \n",
       "볼넷.9       8.998e+02  9.504e+02   0.947    0.346    \n",
       "홈런.9       2.904e+03  3.404e+03   0.853    0.395    \n",
       "BABIP       -9.797e+03  1.474e+04  -0.665    0.507    \n",
       "LOB.        -4.465e+01  1.292e+02  -0.346    0.730    \n",
       "ERA         -8.076e+01  5.654e+02  -0.143    0.887    \n",
       "RA9.WAR     -7.473e+02  1.480e+03  -0.505    0.614    \n",
       "kFIP        -1.347e+03  2.371e+03  -0.568    0.571    \n",
       "WAR          8.560e+03  1.783e+03   4.802 4.17e-06 ***\n",
       "연봉.2017.   8.757e-01  4.426e-02  19.787  < 2e-16 ***\n",
       "---\n",
       "Signif. codes:  0 ‘***’ 0.001 ‘**’ 0.01 ‘*’ 0.05 ‘.’ 0.1 ‘ ’ 1\n",
       "\n",
       "Residual standard error: 9164 on 133 degrees of freedom\n",
       "Multiple R-squared:  0.9227,\tAdjusted R-squared:  0.9123 \n",
       "F-statistic: 88.25 on 18 and 133 DF,  p-value: < 2.2e-16\n"
      ]
     },
     "metadata": {},
     "output_type": "display_data"
    }
   ],
   "source": [
    "model3 <- lm(연봉.2018. ~ .-FIP, dt)\n",
    "summary(model3)"
   ]
  },
  {
   "cell_type": "code",
   "execution_count": 25,
   "id": "8bcb60fe-c4c9-41e4-b27e-76334d700fb5",
   "metadata": {},
   "outputs": [
    {
     "data": {
      "text/html": [
       "<style>\n",
       ".dl-inline {width: auto; margin:0; padding: 0}\n",
       ".dl-inline>dt, .dl-inline>dd {float: none; width: auto; display: inline-block}\n",
       ".dl-inline>dt::after {content: \":\\0020\"; padding-right: .5ex}\n",
       ".dl-inline>dt:not(:first-of-type) {padding-left: .5ex}\n",
       "</style><dl class=dl-inline><dt>승</dt><dd>7.68840921316788</dd><dt>패</dt><dd>5.19140274673014</dd><dt>세</dt><dd>3.03263975401923</dd><dt>홀드</dt><dd>3.63578951116975</dd><dt>블론</dt><dd>2.75775305712261</dd><dt>경기</dt><dd>14.0426530671348</dd><dt>선발</dt><dd>36.1331990754777</dd><dt>이닝</dt><dd>59.3709458069269</dd><dt>삼진.9</dt><dd>11.8666574529657</dd><dt>볼넷.9</dt><dd>9.0682604275144</dd><dt>홈런.9</dt><dd>21.5595297493918</dd><dt>BABIP</dt><dd>3.09205217740503</dd><dt>LOB.</dt><dd>4.03056643053091</dd><dt>ERA</dt><dd>9.9781711774582</dd><dt>RA9.WAR</dt><dd>13.3837520395074</dd><dt>kFIP</dt><dd>39.6977412189025</dd><dt>WAR</dt><dd>9.99134587181084</dd><dt>연봉.2017.</dt><dd>2.20945320867407</dd></dl>\n"
      ],
      "text/latex": [
       "\\begin{description*}\n",
       "\\item[승] 7.68840921316788\n",
       "\\item[패] 5.19140274673014\n",
       "\\item[세] 3.03263975401923\n",
       "\\item[홀드] 3.63578951116975\n",
       "\\item[블론] 2.75775305712261\n",
       "\\item[경기] 14.0426530671348\n",
       "\\item[선발] 36.1331990754777\n",
       "\\item[이닝] 59.3709458069269\n",
       "\\item[삼진.9] 11.8666574529657\n",
       "\\item[볼넷.9] 9.0682604275144\n",
       "\\item[홈런.9] 21.5595297493918\n",
       "\\item[BABIP] 3.09205217740503\n",
       "\\item[LOB.] 4.03056643053091\n",
       "\\item[ERA] 9.9781711774582\n",
       "\\item[RA9.WAR] 13.3837520395074\n",
       "\\item[kFIP] 39.6977412189025\n",
       "\\item[WAR] 9.99134587181084\n",
       "\\item[연봉.2017.] 2.20945320867407\n",
       "\\end{description*}\n"
      ],
      "text/markdown": [
       "승\n",
       ":   7.68840921316788패\n",
       ":   5.19140274673014세\n",
       ":   3.03263975401923홀드\n",
       ":   3.63578951116975블론\n",
       ":   2.75775305712261경기\n",
       ":   14.0426530671348선발\n",
       ":   36.1331990754777이닝\n",
       ":   59.3709458069269삼진.9\n",
       ":   11.8666574529657볼넷.9\n",
       ":   9.0682604275144홈런.9\n",
       ":   21.5595297493918BABIP\n",
       ":   3.09205217740503LOB.\n",
       ":   4.03056643053091ERA\n",
       ":   9.9781711774582RA9.WAR\n",
       ":   13.3837520395074kFIP\n",
       ":   39.6977412189025WAR\n",
       ":   9.99134587181084연봉.2017.\n",
       ":   2.20945320867407\n",
       "\n"
      ],
      "text/plain": [
       "        승         패         세       홀드       블론       경기       선발 \n",
       "  7.688409   5.191403   3.032640   3.635790   2.757753  14.042653  36.133199 \n",
       "      이닝     삼진.9     볼넷.9     홈런.9      BABIP       LOB.        ERA \n",
       " 59.370946  11.866657   9.068260  21.559530   3.092052   4.030566   9.978171 \n",
       "   RA9.WAR       kFIP        WAR 연봉.2017. \n",
       " 13.383752  39.697741   9.991346   2.209453 "
      ]
     },
     "metadata": {},
     "output_type": "display_data"
    }
   ],
   "source": [
    "vif(model3)"
   ]
  },
  {
   "cell_type": "markdown",
   "id": "9832b6a5-7623-46d4-b878-da8b8b055890",
   "metadata": {},
   "source": [
    "- VIF계수가 가장 높았떤 FIP를 제거하니 전체적으로 VIF값들이 많이 감소했다. 볼넷의 경우 50에서 9로 감소함"
   ]
  },
  {
   "cell_type": "code",
   "execution_count": 26,
   "id": "da6f6e76-c3bf-4c4a-aa75-89bf36e4d71c",
   "metadata": {},
   "outputs": [
    {
     "data": {
      "text/plain": [
       "\n",
       "Call:\n",
       "lm(formula = 연봉.2018. ~ . - FIP - 이닝, data = dt)\n",
       "\n",
       "Residuals:\n",
       "   Min     1Q Median     3Q    Max \n",
       "-47170  -2539    292   2603  47529 \n",
       "\n",
       "Coefficients:\n",
       "              Estimate Std. Error t value Pr(>|t|)    \n",
       "(Intercept)  1.425e+04  1.656e+04   0.860   0.3912    \n",
       "승           1.053e+03  5.292e+02   1.989   0.0487 *  \n",
       "패          -1.258e+02  5.365e+02  -0.234   0.8150    \n",
       "세          -7.264e+01  2.576e+02  -0.282   0.7784    \n",
       "홀드        -7.025e+01  3.031e+02  -0.232   0.8171    \n",
       "블론         4.745e+02  7.557e+02   0.628   0.5312    \n",
       "경기        -1.021e+02  8.877e+01  -1.150   0.2523    \n",
       "선발        -4.306e+02  2.595e+02  -1.659   0.0994 .  \n",
       "삼진.9      -7.892e+02  9.060e+02  -0.871   0.3853    \n",
       "볼넷.9       8.829e+02  9.479e+02   0.931   0.3533    \n",
       "홈런.9       2.956e+03  3.396e+03   0.871   0.3855    \n",
       "BABIP       -1.004e+04  1.470e+04  -0.683   0.4957    \n",
       "LOB.        -4.506e+01  1.289e+02  -0.350   0.7272    \n",
       "ERA         -6.838e+01  5.637e+02  -0.121   0.9036    \n",
       "RA9.WAR     -4.551e+02  1.402e+03  -0.325   0.7460    \n",
       "kFIP        -1.349e+03  2.366e+03  -0.570   0.5696    \n",
       "WAR          8.733e+03  1.758e+03   4.968 2.03e-06 ***\n",
       "연봉.2017.   8.784e-01  4.395e-02  19.984  < 2e-16 ***\n",
       "---\n",
       "Signif. codes:  0 ‘***’ 0.001 ‘**’ 0.01 ‘*’ 0.05 ‘.’ 0.1 ‘ ’ 1\n",
       "\n",
       "Residual standard error: 9143 on 134 degrees of freedom\n",
       "Multiple R-squared:  0.9225,\tAdjusted R-squared:  0.9127 \n",
       "F-statistic: 93.84 on 17 and 134 DF,  p-value: < 2.2e-16\n"
      ]
     },
     "metadata": {},
     "output_type": "display_data"
    },
    {
     "data": {
      "text/html": [
       "<style>\n",
       ".dl-inline {width: auto; margin:0; padding: 0}\n",
       ".dl-inline>dt, .dl-inline>dd {float: none; width: auto; display: inline-block}\n",
       ".dl-inline>dt::after {content: \":\\0020\"; padding-right: .5ex}\n",
       ".dl-inline>dt:not(:first-of-type) {padding-left: .5ex}\n",
       "</style><dl class=dl-inline><dt>승</dt><dd>7.54995904402493</dd><dt>패</dt><dd>5.09588128549648</dd><dt>세</dt><dd>2.77188079102657</dd><dt>홀드</dt><dd>3.38288542173628</dd><dt>블론</dt><dd>2.75379743632109</dd><dt>경기</dt><dd>5.34096225137479</dd><dt>선발</dt><dd>11.5652288817222</dd><dt>삼진.9</dt><dd>11.8553164987874</dd><dt>볼넷.9</dt><dd>9.06115155090058</dd><dt>홈런.9</dt><dd>21.5464901061541</dd><dt>BABIP</dt><dd>3.0899457520436</dd><dt>LOB.</dt><dd>4.03046844648891</dd><dt>ERA</dt><dd>9.96618149145026</dd><dt>RA9.WAR</dt><dd>12.0759322801392</dd><dt>kFIP</dt><dd>39.6977185280435</dd><dt>WAR</dt><dd>9.75717291579296</dd><dt>연봉.2017.</dt><dd>2.18906326524158</dd></dl>\n"
      ],
      "text/latex": [
       "\\begin{description*}\n",
       "\\item[승] 7.54995904402493\n",
       "\\item[패] 5.09588128549648\n",
       "\\item[세] 2.77188079102657\n",
       "\\item[홀드] 3.38288542173628\n",
       "\\item[블론] 2.75379743632109\n",
       "\\item[경기] 5.34096225137479\n",
       "\\item[선발] 11.5652288817222\n",
       "\\item[삼진.9] 11.8553164987874\n",
       "\\item[볼넷.9] 9.06115155090058\n",
       "\\item[홈런.9] 21.5464901061541\n",
       "\\item[BABIP] 3.0899457520436\n",
       "\\item[LOB.] 4.03046844648891\n",
       "\\item[ERA] 9.96618149145026\n",
       "\\item[RA9.WAR] 12.0759322801392\n",
       "\\item[kFIP] 39.6977185280435\n",
       "\\item[WAR] 9.75717291579296\n",
       "\\item[연봉.2017.] 2.18906326524158\n",
       "\\end{description*}\n"
      ],
      "text/markdown": [
       "승\n",
       ":   7.54995904402493패\n",
       ":   5.09588128549648세\n",
       ":   2.77188079102657홀드\n",
       ":   3.38288542173628블론\n",
       ":   2.75379743632109경기\n",
       ":   5.34096225137479선발\n",
       ":   11.5652288817222삼진.9\n",
       ":   11.8553164987874볼넷.9\n",
       ":   9.06115155090058홈런.9\n",
       ":   21.5464901061541BABIP\n",
       ":   3.0899457520436LOB.\n",
       ":   4.03046844648891ERA\n",
       ":   9.96618149145026RA9.WAR\n",
       ":   12.0759322801392kFIP\n",
       ":   39.6977185280435WAR\n",
       ":   9.75717291579296연봉.2017.\n",
       ":   2.18906326524158\n",
       "\n"
      ],
      "text/plain": [
       "        승         패         세       홀드       블론       경기       선발 \n",
       "  7.549959   5.095881   2.771881   3.382885   2.753797   5.340962  11.565229 \n",
       "    삼진.9     볼넷.9     홈런.9      BABIP       LOB.        ERA    RA9.WAR \n",
       " 11.855316   9.061152  21.546490   3.089946   4.030468   9.966181  12.075932 \n",
       "      kFIP        WAR 연봉.2017. \n",
       " 39.697719   9.757173   2.189063 "
      ]
     },
     "metadata": {},
     "output_type": "display_data"
    }
   ],
   "source": [
    "model3 <- lm(연봉.2018. ~ .-FIP-이닝, dt)\n",
    "summary(model3)\n",
    "vif(model3)"
   ]
  },
  {
   "cell_type": "markdown",
   "id": "516af5d2-f431-4f4d-942a-d0f0334f85ce",
   "metadata": {},
   "source": [
    "- 그 다음 vif계수값이 높은 '이닝'을 제거했다."
   ]
  },
  {
   "cell_type": "code",
   "execution_count": 27,
   "id": "38bab2e1-ce25-4ad2-9e2f-d99ae306f35a",
   "metadata": {},
   "outputs": [
    {
     "data": {
      "text/plain": [
       "\n",
       "Call:\n",
       "lm(formula = 연봉.2018. ~ . - FIP - 이닝 - kFIP, data = dt)\n",
       "\n",
       "Residuals:\n",
       "   Min     1Q Median     3Q    Max \n",
       "-47261  -2379    309   2742  47813 \n",
       "\n",
       "Coefficients:\n",
       "              Estimate Std. Error t value Pr(>|t|)    \n",
       "(Intercept)  6.978e+03  1.054e+04   0.662   0.5090    \n",
       "승           1.055e+03  5.278e+02   1.999   0.0476 *  \n",
       "패          -1.135e+02  5.347e+02  -0.212   0.8323    \n",
       "세          -7.382e+01  2.569e+02  -0.287   0.7743    \n",
       "홀드        -7.661e+01  3.021e+02  -0.254   0.8002    \n",
       "블론         5.038e+02  7.521e+02   0.670   0.5040    \n",
       "경기        -9.923e+01  8.841e+01  -1.122   0.2637    \n",
       "선발        -4.402e+02  2.583e+02  -1.704   0.0906 .  \n",
       "삼진.9      -3.109e+02  3.413e+02  -0.911   0.3639    \n",
       "볼넷.9       4.082e+02  4.514e+02   0.904   0.3675    \n",
       "홈런.9       1.129e+03  1.118e+03   1.010   0.3143    \n",
       "BABIP       -9.576e+03  1.464e+04  -0.654   0.5141    \n",
       "LOB.        -3.779e+01  1.279e+02  -0.295   0.7681    \n",
       "ERA         -8.963e+01  5.611e+02  -0.160   0.8733    \n",
       "RA9.WAR     -4.669e+02  1.399e+03  -0.334   0.7390    \n",
       "WAR          8.800e+03  1.749e+03   5.030 1.53e-06 ***\n",
       "연봉.2017.   8.779e-01  4.384e-02  20.027  < 2e-16 ***\n",
       "---\n",
       "Signif. codes:  0 ‘***’ 0.001 ‘**’ 0.01 ‘*’ 0.05 ‘.’ 0.1 ‘ ’ 1\n",
       "\n",
       "Residual standard error: 9120 on 135 degrees of freedom\n",
       "Multiple R-squared:  0.9223,\tAdjusted R-squared:  0.9131 \n",
       "F-statistic: 100.2 on 16 and 135 DF,  p-value: < 2.2e-16\n"
      ]
     },
     "metadata": {},
     "output_type": "display_data"
    },
    {
     "data": {
      "text/html": [
       "<style>\n",
       ".dl-inline {width: auto; margin:0; padding: 0}\n",
       ".dl-inline>dt, .dl-inline>dd {float: none; width: auto; display: inline-block}\n",
       ".dl-inline>dt::after {content: \":\\0020\"; padding-right: .5ex}\n",
       ".dl-inline>dt:not(:first-of-type) {padding-left: .5ex}\n",
       "</style><dl class=dl-inline><dt>승</dt><dd>7.54945354936935</dd><dt>패</dt><dd>5.08758327243023</dd><dt>세</dt><dd>2.77170233465349</dd><dt>홀드</dt><dd>3.37829494203411</dd><dt>블론</dt><dd>2.74099514800148</dd><dt>경기</dt><dd>5.32417495720081</dd><dt>선발</dt><dd>11.5165551404735</dd><dt>삼진.9</dt><dd>1.691074402967</dd><dt>볼넷.9</dt><dd>2.06526070907551</dd><dt>홈런.9</dt><dd>2.34713984614222</dd><dt>BABIP</dt><dd>3.08046557773165</dd><dt>LOB.</dt><dd>3.99101474806593</dd><dt>ERA</dt><dd>9.92261602645989</dd><dt>RA9.WAR</dt><dd>12.0732896169765</dd><dt>WAR</dt><dd>9.71340804685137</dd><dt>연봉.2017.</dt><dd>2.18834997395971</dd></dl>\n"
      ],
      "text/latex": [
       "\\begin{description*}\n",
       "\\item[승] 7.54945354936935\n",
       "\\item[패] 5.08758327243023\n",
       "\\item[세] 2.77170233465349\n",
       "\\item[홀드] 3.37829494203411\n",
       "\\item[블론] 2.74099514800148\n",
       "\\item[경기] 5.32417495720081\n",
       "\\item[선발] 11.5165551404735\n",
       "\\item[삼진.9] 1.691074402967\n",
       "\\item[볼넷.9] 2.06526070907551\n",
       "\\item[홈런.9] 2.34713984614222\n",
       "\\item[BABIP] 3.08046557773165\n",
       "\\item[LOB.] 3.99101474806593\n",
       "\\item[ERA] 9.92261602645989\n",
       "\\item[RA9.WAR] 12.0732896169765\n",
       "\\item[WAR] 9.71340804685137\n",
       "\\item[연봉.2017.] 2.18834997395971\n",
       "\\end{description*}\n"
      ],
      "text/markdown": [
       "승\n",
       ":   7.54945354936935패\n",
       ":   5.08758327243023세\n",
       ":   2.77170233465349홀드\n",
       ":   3.37829494203411블론\n",
       ":   2.74099514800148경기\n",
       ":   5.32417495720081선발\n",
       ":   11.5165551404735삼진.9\n",
       ":   1.691074402967볼넷.9\n",
       ":   2.06526070907551홈런.9\n",
       ":   2.34713984614222BABIP\n",
       ":   3.08046557773165LOB.\n",
       ":   3.99101474806593ERA\n",
       ":   9.92261602645989RA9.WAR\n",
       ":   12.0732896169765WAR\n",
       ":   9.71340804685137연봉.2017.\n",
       ":   2.18834997395971\n",
       "\n"
      ],
      "text/plain": [
       "        승         패         세       홀드       블론       경기       선발 \n",
       "  7.549454   5.087583   2.771702   3.378295   2.740995   5.324175  11.516555 \n",
       "    삼진.9     볼넷.9     홈런.9      BABIP       LOB.        ERA    RA9.WAR \n",
       "  1.691074   2.065261   2.347140   3.080466   3.991015   9.922616  12.073290 \n",
       "       WAR 연봉.2017. \n",
       "  9.713408   2.188350 "
      ]
     },
     "metadata": {},
     "output_type": "display_data"
    }
   ],
   "source": [
    "model3 <- lm(연봉.2018. ~ .-FIP-이닝-kFIP, dt)\n",
    "summary(model3)\n",
    "vif(model3)"
   ]
  },
  {
   "cell_type": "markdown",
   "id": "6edfe0d9-db00-4c99-8f57-ec65fd860f10",
   "metadata": {},
   "source": [
    "- KFIP제거"
   ]
  },
  {
   "cell_type": "code",
   "execution_count": 28,
   "id": "a0059f21-bb89-4f7f-8907-d3303fdc9c64",
   "metadata": {},
   "outputs": [
    {
     "data": {
      "text/plain": [
       "\n",
       "Call:\n",
       "lm(formula = 연봉.2018. ~ . - FIP - 이닝 - kFIP - RA9.WAR, \n",
       "    data = dt)\n",
       "\n",
       "Residuals:\n",
       "   Min     1Q Median     3Q    Max \n",
       "-47256  -2340    228   2820  48394 \n",
       "\n",
       "Coefficients:\n",
       "              Estimate Std. Error t value Pr(>|t|)    \n",
       "(Intercept)  8.002e+03  1.005e+04   0.796   0.4273    \n",
       "승           1.005e+03  5.044e+02   1.993   0.0483 *  \n",
       "패          -6.188e+01  5.102e+02  -0.121   0.9036    \n",
       "세          -1.005e+02  2.434e+02  -0.413   0.6805    \n",
       "홀드        -8.969e+01  2.986e+02  -0.300   0.7643    \n",
       "블론         5.293e+02  7.457e+02   0.710   0.4790    \n",
       "경기        -1.027e+02  8.749e+01  -1.174   0.2424    \n",
       "선발        -4.671e+02  2.447e+02  -1.909   0.0584 .  \n",
       "삼진.9      -3.052e+02  3.398e+02  -0.898   0.3707    \n",
       "볼넷.9       4.218e+02  4.481e+02   0.941   0.3482    \n",
       "홈런.9       1.154e+03  1.112e+03   1.037   0.3013    \n",
       "BABIP       -9.059e+03  1.451e+04  -0.624   0.5334    \n",
       "LOB.        -5.310e+01  1.190e+02  -0.446   0.6562    \n",
       "ERA         -1.249e+02  5.493e+02  -0.227   0.8205    \n",
       "WAR          8.406e+03  1.289e+03   6.523 1.25e-09 ***\n",
       "연봉.2017.   8.790e-01  4.358e-02  20.168  < 2e-16 ***\n",
       "---\n",
       "Signif. codes:  0 ‘***’ 0.001 ‘**’ 0.01 ‘*’ 0.05 ‘.’ 0.1 ‘ ’ 1\n",
       "\n",
       "Residual standard error: 9090 on 136 degrees of freedom\n",
       "Multiple R-squared:  0.9223,\tAdjusted R-squared:  0.9137 \n",
       "F-statistic: 107.6 on 15 and 136 DF,  p-value: < 2.2e-16\n"
      ]
     },
     "metadata": {},
     "output_type": "display_data"
    },
    {
     "data": {
      "text/html": [
       "<style>\n",
       ".dl-inline {width: auto; margin:0; padding: 0}\n",
       ".dl-inline>dt, .dl-inline>dd {float: none; width: auto; display: inline-block}\n",
       ".dl-inline>dt::after {content: \":\\0020\"; padding-right: .5ex}\n",
       ".dl-inline>dt:not(:first-of-type) {padding-left: .5ex}\n",
       "</style><dl class=dl-inline><dt>승</dt><dd>6.94042688100102</dd><dt>패</dt><dd>4.66294914095306</dd><dt>세</dt><dd>2.50425253772256</dd><dt>홀드</dt><dd>3.32146243586634</dd><dt>블론</dt><dd>2.71278267026247</dd><dt>경기</dt><dd>5.24904766467952</dd><dt>선발</dt><dd>10.3991198289636</dd><dt>삼진.9</dt><dd>1.68672132907842</dd><dt>볼넷.9</dt><dd>2.04837389574494</dd><dt>홈런.9</dt><dd>2.33709850623971</dd><dt>BABIP</dt><dd>3.046073880605</dd><dt>LOB.</dt><dd>3.47761526760098</dd><dt>ERA</dt><dd>9.57142193166993</dd><dt>WAR</dt><dd>5.30623103354661</dd><dt>연봉.2017.</dt><dd>2.17720905024618</dd></dl>\n"
      ],
      "text/latex": [
       "\\begin{description*}\n",
       "\\item[승] 6.94042688100102\n",
       "\\item[패] 4.66294914095306\n",
       "\\item[세] 2.50425253772256\n",
       "\\item[홀드] 3.32146243586634\n",
       "\\item[블론] 2.71278267026247\n",
       "\\item[경기] 5.24904766467952\n",
       "\\item[선발] 10.3991198289636\n",
       "\\item[삼진.9] 1.68672132907842\n",
       "\\item[볼넷.9] 2.04837389574494\n",
       "\\item[홈런.9] 2.33709850623971\n",
       "\\item[BABIP] 3.046073880605\n",
       "\\item[LOB.] 3.47761526760098\n",
       "\\item[ERA] 9.57142193166993\n",
       "\\item[WAR] 5.30623103354661\n",
       "\\item[연봉.2017.] 2.17720905024618\n",
       "\\end{description*}\n"
      ],
      "text/markdown": [
       "승\n",
       ":   6.94042688100102패\n",
       ":   4.66294914095306세\n",
       ":   2.50425253772256홀드\n",
       ":   3.32146243586634블론\n",
       ":   2.71278267026247경기\n",
       ":   5.24904766467952선발\n",
       ":   10.3991198289636삼진.9\n",
       ":   1.68672132907842볼넷.9\n",
       ":   2.04837389574494홈런.9\n",
       ":   2.33709850623971BABIP\n",
       ":   3.046073880605LOB.\n",
       ":   3.47761526760098ERA\n",
       ":   9.57142193166993WAR\n",
       ":   5.30623103354661연봉.2017.\n",
       ":   2.17720905024618\n",
       "\n"
      ],
      "text/plain": [
       "        승         패         세       홀드       블론       경기       선발 \n",
       "  6.940427   4.662949   2.504253   3.321462   2.712783   5.249048  10.399120 \n",
       "    삼진.9     볼넷.9     홈런.9      BABIP       LOB.        ERA        WAR \n",
       "  1.686721   2.048374   2.337099   3.046074   3.477615   9.571422   5.306231 \n",
       "연봉.2017. \n",
       "  2.177209 "
      ]
     },
     "metadata": {},
     "output_type": "display_data"
    }
   ],
   "source": [
    "model3 <- lm(연봉.2018. ~ .-FIP-이닝-kFIP-RA9.WAR, dt)\n",
    "summary(model3)\n",
    "vif(model3)"
   ]
  },
  {
   "cell_type": "code",
   "execution_count": 29,
   "id": "f43dbec7-9442-45c8-9d9b-3d4926e960ea",
   "metadata": {},
   "outputs": [
    {
     "data": {
      "text/plain": [
       "\n",
       "Call:\n",
       "lm(formula = 연봉.2018. ~ . - FIP - 이닝 - kFIP - RA9.WAR - \n",
       "    선발, data = dt)\n",
       "\n",
       "Residuals:\n",
       "   Min     1Q Median     3Q    Max \n",
       "-46776  -2395    374   2597  50018 \n",
       "\n",
       "Coefficients:\n",
       "              Estimate Std. Error t value Pr(>|t|)    \n",
       "(Intercept)  7221.2085 10138.7800   0.712   0.4775    \n",
       "승            558.2422   451.0986   1.238   0.2180    \n",
       "패           -758.5773   359.9930  -2.107   0.0369 *  \n",
       "세            -12.1963   241.3026  -0.051   0.9598    \n",
       "홀드          106.5326   283.0186   0.376   0.7072    \n",
       "블론          843.4665   734.3349   1.149   0.2527    \n",
       "경기          -69.6278    86.5803  -0.804   0.4227    \n",
       "삼진.9       -270.1732   342.5480  -0.789   0.4316    \n",
       "볼넷.9        431.0859   452.3679   0.953   0.3423    \n",
       "홈런.9        983.4449  1119.0004   0.879   0.3810    \n",
       "BABIP       -8863.3423 14648.1787  -0.605   0.5461    \n",
       "LOB.          -57.5239   120.1320  -0.479   0.6328    \n",
       "ERA           -88.2397   554.2171  -0.159   0.8737    \n",
       "WAR          7825.6419  1264.4051   6.189 6.57e-09 ***\n",
       "연봉.2017.      0.8792     0.0440  19.981  < 2e-16 ***\n",
       "---\n",
       "Signif. codes:  0 ‘***’ 0.001 ‘**’ 0.01 ‘*’ 0.05 ‘.’ 0.1 ‘ ’ 1\n",
       "\n",
       "Residual standard error: 9178 on 137 degrees of freedom\n",
       "Multiple R-squared:  0.9202,\tAdjusted R-squared:  0.912 \n",
       "F-statistic: 112.8 on 14 and 137 DF,  p-value: < 2.2e-16\n"
      ]
     },
     "metadata": {},
     "output_type": "display_data"
    },
    {
     "data": {
      "text/html": [
       "<style>\n",
       ".dl-inline {width: auto; margin:0; padding: 0}\n",
       ".dl-inline>dt, .dl-inline>dd {float: none; width: auto; display: inline-block}\n",
       ".dl-inline>dt::after {content: \":\\0020\"; padding-right: .5ex}\n",
       ".dl-inline>dt:not(:first-of-type) {padding-left: .5ex}\n",
       "</style><dl class=dl-inline><dt>승</dt><dd>5.44563629770577</dd><dt>패</dt><dd>2.27744620091112</dd><dt>세</dt><dd>2.41391273581397</dd><dt>홀드</dt><dd>2.9278580003899</dd><dt>블론</dt><dd>2.58069224802437</dd><dt>경기</dt><dd>5.04287223750904</dd><dt>삼진.9</dt><dd>1.68181308100372</dd><dt>볼넷.9</dt><dd>2.04813245831198</dd><dt>홈런.9</dt><dd>2.32207970272157</dd><dt>BABIP</dt><dd>3.04592151858475</dd><dt>LOB.</dt><dd>3.47629848428834</dd><dt>ERA</dt><dd>9.55974332977644</dd><dt>WAR</dt><dd>5.01053061622992</dd><dt>연봉.2017.</dt><dd>2.17719632600132</dd></dl>\n"
      ],
      "text/latex": [
       "\\begin{description*}\n",
       "\\item[승] 5.44563629770577\n",
       "\\item[패] 2.27744620091112\n",
       "\\item[세] 2.41391273581397\n",
       "\\item[홀드] 2.9278580003899\n",
       "\\item[블론] 2.58069224802437\n",
       "\\item[경기] 5.04287223750904\n",
       "\\item[삼진.9] 1.68181308100372\n",
       "\\item[볼넷.9] 2.04813245831198\n",
       "\\item[홈런.9] 2.32207970272157\n",
       "\\item[BABIP] 3.04592151858475\n",
       "\\item[LOB.] 3.47629848428834\n",
       "\\item[ERA] 9.55974332977644\n",
       "\\item[WAR] 5.01053061622992\n",
       "\\item[연봉.2017.] 2.17719632600132\n",
       "\\end{description*}\n"
      ],
      "text/markdown": [
       "승\n",
       ":   5.44563629770577패\n",
       ":   2.27744620091112세\n",
       ":   2.41391273581397홀드\n",
       ":   2.9278580003899블론\n",
       ":   2.58069224802437경기\n",
       ":   5.04287223750904삼진.9\n",
       ":   1.68181308100372볼넷.9\n",
       ":   2.04813245831198홈런.9\n",
       ":   2.32207970272157BABIP\n",
       ":   3.04592151858475LOB.\n",
       ":   3.47629848428834ERA\n",
       ":   9.55974332977644WAR\n",
       ":   5.01053061622992연봉.2017.\n",
       ":   2.17719632600132\n",
       "\n"
      ],
      "text/plain": [
       "        승         패         세       홀드       블론       경기     삼진.9 \n",
       "  5.445636   2.277446   2.413913   2.927858   2.580692   5.042872   1.681813 \n",
       "    볼넷.9     홈런.9      BABIP       LOB.        ERA        WAR 연봉.2017. \n",
       "  2.048132   2.322080   3.045922   3.476298   9.559743   5.010531   2.177196 "
      ]
     },
     "metadata": {},
     "output_type": "display_data"
    }
   ],
   "source": [
    "model3 <- lm(연봉.2018. ~ .-FIP-이닝-kFIP-RA9.WAR-선발, dt)\n",
    "summary(model3)\n",
    "vif(model3)"
   ]
  },
  {
   "cell_type": "markdown",
   "id": "19cada04-939d-40e2-a8f3-697998aac6f9",
   "metadata": {},
   "source": [
    "- 유의미한 변수는 'WAR'과 '연봉(2017)'이다."
   ]
  },
  {
   "cell_type": "code",
   "execution_count": null,
   "id": "3576902c-9056-4a04-97cf-1142023013d8",
   "metadata": {},
   "outputs": [],
   "source": []
  },
  {
   "cell_type": "markdown",
   "id": "f3076930-f48a-4fb7-8531-b57dd84c7900",
   "metadata": {},
   "source": [
    "## 정규화"
   ]
  },
  {
   "cell_type": "markdown",
   "id": "88809fd8-92ea-4169-ba70-c4661e94a54d",
   "metadata": {},
   "source": [
    "### normalize"
   ]
  },
  {
   "cell_type": "code",
   "execution_count": 17,
   "id": "2bdd32a0-ad49-4761-ac67-09811fe8eb42",
   "metadata": {},
   "outputs": [],
   "source": [
    "normalize <- function(x) {\n",
    "  return((x - mean(x)) / sd(x))\n",
    "}"
   ]
  },
  {
   "cell_type": "code",
   "execution_count": 18,
   "id": "363f6bd2-0055-4160-bd27-980d58cfbe3a",
   "metadata": {},
   "outputs": [],
   "source": [
    "df_normalized <- as.data.frame(lapply(dt, normalize))"
   ]
  },
  {
   "cell_type": "code",
   "execution_count": 19,
   "id": "ac957ed5-ab85-4331-a5d4-d374c0d8c86d",
   "metadata": {},
   "outputs": [
    {
     "data": {
      "text/html": [
       "<table class=\"dataframe\">\n",
       "<caption>A data.frame: 6 × 20</caption>\n",
       "<thead>\n",
       "\t<tr><th></th><th scope=col>승</th><th scope=col>패</th><th scope=col>세</th><th scope=col>홀드</th><th scope=col>블론</th><th scope=col>경기</th><th scope=col>선발</th><th scope=col>이닝</th><th scope=col>삼진.9</th><th scope=col>볼넷.9</th><th scope=col>홈런.9</th><th scope=col>BABIP</th><th scope=col>LOB.</th><th scope=col>ERA</th><th scope=col>RA9.WAR</th><th scope=col>FIP</th><th scope=col>kFIP</th><th scope=col>WAR</th><th scope=col>연봉.2018.</th><th scope=col>연봉.2017.</th></tr>\n",
       "\t<tr><th></th><th scope=col>&lt;dbl&gt;</th><th scope=col>&lt;dbl&gt;</th><th scope=col>&lt;dbl&gt;</th><th scope=col>&lt;dbl&gt;</th><th scope=col>&lt;dbl&gt;</th><th scope=col>&lt;dbl&gt;</th><th scope=col>&lt;dbl&gt;</th><th scope=col>&lt;dbl&gt;</th><th scope=col>&lt;dbl&gt;</th><th scope=col>&lt;dbl&gt;</th><th scope=col>&lt;dbl&gt;</th><th scope=col>&lt;dbl&gt;</th><th scope=col>&lt;dbl&gt;</th><th scope=col>&lt;dbl&gt;</th><th scope=col>&lt;dbl&gt;</th><th scope=col>&lt;dbl&gt;</th><th scope=col>&lt;dbl&gt;</th><th scope=col>&lt;dbl&gt;</th><th scope=col>&lt;dbl&gt;</th><th scope=col>&lt;dbl&gt;</th></tr>\n",
       "</thead>\n",
       "<tbody>\n",
       "\t<tr><th scope=row>1</th><td>3.313623</td><td>1.2271453</td><td>-0.3064519</td><td>-0.5857052</td><td>-0.5435919</td><td> 0.05943348</td><td>2.452068</td><td>2.645175</td><td>0.6720988</td><td>-0.8689998</td><td>-0.44238194</td><td> 0.01678276</td><td> 0.4466146</td><td>-0.5870557</td><td>3.174630</td><td>-0.9710297</td><td>-1.0581252</td><td>4.503142</td><td>3.912893</td><td>2.7347053</td></tr>\n",
       "\t<tr><th scope=row>2</th><td>2.019505</td><td>2.5047212</td><td>-0.0985024</td><td>-0.5857052</td><td>-0.5435919</td><td> 0.05943348</td><td>2.349505</td><td>2.547755</td><td>0.1345315</td><td>-0.9875023</td><td>-0.66852133</td><td>-0.24168646</td><td>-0.1227637</td><td>-0.5198553</td><td>3.114968</td><td>-1.0618879</td><td>-1.0732645</td><td>4.094734</td><td>3.266495</td><td>1.3373033</td></tr>\n",
       "\t<tr><th scope=row>3</th><td>4.348918</td><td>0.9077513</td><td>-0.3064519</td><td>-0.5857052</td><td>-0.5435919</td><td> 0.11105570</td><td>2.554632</td><td>2.706808</td><td>0.1097751</td><td>-0.8859287</td><td>-0.41288550</td><td>-0.09559517</td><td> 0.3085835</td><td>-0.6254559</td><td>2.973948</td><td>-0.8374147</td><td>-0.8663606</td><td>3.761956</td><td>6.821679</td><td>5.3298806</td></tr>\n",
       "\t<tr><th scope=row>4</th><td>1.760682</td><td>1.2271453</td><td>-0.3064519</td><td>-0.5857052</td><td>-0.5435919</td><td>-0.04381097</td><td>2.246942</td><td>2.350927</td><td>0.3502657</td><td>-0.9451800</td><td>-0.18674611</td><td>-0.47768010</td><td> 0.5587649</td><td>-0.6278559</td><td>2.740722</td><td>-0.6984550</td><td>-0.7603854</td><td>2.998081</td><td>2.620098</td><td>3.3335919</td></tr>\n",
       "\t<tr><th scope=row>5</th><td>2.537153</td><td>1.2271453</td><td>-0.3064519</td><td>-0.5857052</td><td>-0.5435919</td><td> 0.05943348</td><td>2.452068</td><td>2.587518</td><td>0.1557512</td><td>-0.8774643</td><td>-0.29489973</td><td>-0.19673529</td><td> 0.4811224</td><td>-0.5390554</td><td>2.751570</td><td>-0.6129414</td><td>-0.6190851</td><td>2.809003</td><td>2.975617</td><td>2.7347053</td></tr>\n",
       "\t<tr><th scope=row>6</th><td>1.243035</td><td>2.1853272</td><td>-0.3064519</td><td>-0.5857052</td><td>-0.5435919</td><td>-0.14705541</td><td>2.041816</td><td>2.048726</td><td>0.1309948</td><td>-1.0340569</td><td>-0.08842464</td><td>-0.57882022</td><td> 0.6536613</td><td>-0.7214564</td><td>2.963100</td><td>-0.5808738</td><td>-0.6140386</td><td>2.476226</td><td>2.135301</td><td>0.7384167</td></tr>\n",
       "</tbody>\n",
       "</table>\n"
      ],
      "text/latex": [
       "A data.frame: 6 × 20\n",
       "\\begin{tabular}{r|llllllllllllllllllll}\n",
       "  & 승 & 패 & 세 & 홀드 & 블론 & 경기 & 선발 & 이닝 & 삼진.9 & 볼넷.9 & 홈런.9 & BABIP & LOB. & ERA & RA9.WAR & FIP & kFIP & WAR & 연봉.2018. & 연봉.2017.\\\\\n",
       "  & <dbl> & <dbl> & <dbl> & <dbl> & <dbl> & <dbl> & <dbl> & <dbl> & <dbl> & <dbl> & <dbl> & <dbl> & <dbl> & <dbl> & <dbl> & <dbl> & <dbl> & <dbl> & <dbl> & <dbl>\\\\\n",
       "\\hline\n",
       "\t1 & 3.313623 & 1.2271453 & -0.3064519 & -0.5857052 & -0.5435919 &  0.05943348 & 2.452068 & 2.645175 & 0.6720988 & -0.8689998 & -0.44238194 &  0.01678276 &  0.4466146 & -0.5870557 & 3.174630 & -0.9710297 & -1.0581252 & 4.503142 & 3.912893 & 2.7347053\\\\\n",
       "\t2 & 2.019505 & 2.5047212 & -0.0985024 & -0.5857052 & -0.5435919 &  0.05943348 & 2.349505 & 2.547755 & 0.1345315 & -0.9875023 & -0.66852133 & -0.24168646 & -0.1227637 & -0.5198553 & 3.114968 & -1.0618879 & -1.0732645 & 4.094734 & 3.266495 & 1.3373033\\\\\n",
       "\t3 & 4.348918 & 0.9077513 & -0.3064519 & -0.5857052 & -0.5435919 &  0.11105570 & 2.554632 & 2.706808 & 0.1097751 & -0.8859287 & -0.41288550 & -0.09559517 &  0.3085835 & -0.6254559 & 2.973948 & -0.8374147 & -0.8663606 & 3.761956 & 6.821679 & 5.3298806\\\\\n",
       "\t4 & 1.760682 & 1.2271453 & -0.3064519 & -0.5857052 & -0.5435919 & -0.04381097 & 2.246942 & 2.350927 & 0.3502657 & -0.9451800 & -0.18674611 & -0.47768010 &  0.5587649 & -0.6278559 & 2.740722 & -0.6984550 & -0.7603854 & 2.998081 & 2.620098 & 3.3335919\\\\\n",
       "\t5 & 2.537153 & 1.2271453 & -0.3064519 & -0.5857052 & -0.5435919 &  0.05943348 & 2.452068 & 2.587518 & 0.1557512 & -0.8774643 & -0.29489973 & -0.19673529 &  0.4811224 & -0.5390554 & 2.751570 & -0.6129414 & -0.6190851 & 2.809003 & 2.975617 & 2.7347053\\\\\n",
       "\t6 & 1.243035 & 2.1853272 & -0.3064519 & -0.5857052 & -0.5435919 & -0.14705541 & 2.041816 & 2.048726 & 0.1309948 & -1.0340569 & -0.08842464 & -0.57882022 &  0.6536613 & -0.7214564 & 2.963100 & -0.5808738 & -0.6140386 & 2.476226 & 2.135301 & 0.7384167\\\\\n",
       "\\end{tabular}\n"
      ],
      "text/markdown": [
       "\n",
       "A data.frame: 6 × 20\n",
       "\n",
       "| <!--/--> | 승 &lt;dbl&gt; | 패 &lt;dbl&gt; | 세 &lt;dbl&gt; | 홀드 &lt;dbl&gt; | 블론 &lt;dbl&gt; | 경기 &lt;dbl&gt; | 선발 &lt;dbl&gt; | 이닝 &lt;dbl&gt; | 삼진.9 &lt;dbl&gt; | 볼넷.9 &lt;dbl&gt; | 홈런.9 &lt;dbl&gt; | BABIP &lt;dbl&gt; | LOB. &lt;dbl&gt; | ERA &lt;dbl&gt; | RA9.WAR &lt;dbl&gt; | FIP &lt;dbl&gt; | kFIP &lt;dbl&gt; | WAR &lt;dbl&gt; | 연봉.2018. &lt;dbl&gt; | 연봉.2017. &lt;dbl&gt; |\n",
       "|---|---|---|---|---|---|---|---|---|---|---|---|---|---|---|---|---|---|---|---|---|\n",
       "| 1 | 3.313623 | 1.2271453 | -0.3064519 | -0.5857052 | -0.5435919 |  0.05943348 | 2.452068 | 2.645175 | 0.6720988 | -0.8689998 | -0.44238194 |  0.01678276 |  0.4466146 | -0.5870557 | 3.174630 | -0.9710297 | -1.0581252 | 4.503142 | 3.912893 | 2.7347053 |\n",
       "| 2 | 2.019505 | 2.5047212 | -0.0985024 | -0.5857052 | -0.5435919 |  0.05943348 | 2.349505 | 2.547755 | 0.1345315 | -0.9875023 | -0.66852133 | -0.24168646 | -0.1227637 | -0.5198553 | 3.114968 | -1.0618879 | -1.0732645 | 4.094734 | 3.266495 | 1.3373033 |\n",
       "| 3 | 4.348918 | 0.9077513 | -0.3064519 | -0.5857052 | -0.5435919 |  0.11105570 | 2.554632 | 2.706808 | 0.1097751 | -0.8859287 | -0.41288550 | -0.09559517 |  0.3085835 | -0.6254559 | 2.973948 | -0.8374147 | -0.8663606 | 3.761956 | 6.821679 | 5.3298806 |\n",
       "| 4 | 1.760682 | 1.2271453 | -0.3064519 | -0.5857052 | -0.5435919 | -0.04381097 | 2.246942 | 2.350927 | 0.3502657 | -0.9451800 | -0.18674611 | -0.47768010 |  0.5587649 | -0.6278559 | 2.740722 | -0.6984550 | -0.7603854 | 2.998081 | 2.620098 | 3.3335919 |\n",
       "| 5 | 2.537153 | 1.2271453 | -0.3064519 | -0.5857052 | -0.5435919 |  0.05943348 | 2.452068 | 2.587518 | 0.1557512 | -0.8774643 | -0.29489973 | -0.19673529 |  0.4811224 | -0.5390554 | 2.751570 | -0.6129414 | -0.6190851 | 2.809003 | 2.975617 | 2.7347053 |\n",
       "| 6 | 1.243035 | 2.1853272 | -0.3064519 | -0.5857052 | -0.5435919 | -0.14705541 | 2.041816 | 2.048726 | 0.1309948 | -1.0340569 | -0.08842464 | -0.57882022 |  0.6536613 | -0.7214564 | 2.963100 | -0.5808738 | -0.6140386 | 2.476226 | 2.135301 | 0.7384167 |\n",
       "\n"
      ],
      "text/plain": [
       "  승       패        세         홀드       블론       경기        선발    \n",
       "1 3.313623 1.2271453 -0.3064519 -0.5857052 -0.5435919  0.05943348 2.452068\n",
       "2 2.019505 2.5047212 -0.0985024 -0.5857052 -0.5435919  0.05943348 2.349505\n",
       "3 4.348918 0.9077513 -0.3064519 -0.5857052 -0.5435919  0.11105570 2.554632\n",
       "4 1.760682 1.2271453 -0.3064519 -0.5857052 -0.5435919 -0.04381097 2.246942\n",
       "5 2.537153 1.2271453 -0.3064519 -0.5857052 -0.5435919  0.05943348 2.452068\n",
       "6 1.243035 2.1853272 -0.3064519 -0.5857052 -0.5435919 -0.14705541 2.041816\n",
       "  이닝     삼진.9    볼넷.9     홈런.9      BABIP       LOB.       ERA       \n",
       "1 2.645175 0.6720988 -0.8689998 -0.44238194  0.01678276  0.4466146 -0.5870557\n",
       "2 2.547755 0.1345315 -0.9875023 -0.66852133 -0.24168646 -0.1227637 -0.5198553\n",
       "3 2.706808 0.1097751 -0.8859287 -0.41288550 -0.09559517  0.3085835 -0.6254559\n",
       "4 2.350927 0.3502657 -0.9451800 -0.18674611 -0.47768010  0.5587649 -0.6278559\n",
       "5 2.587518 0.1557512 -0.8774643 -0.29489973 -0.19673529  0.4811224 -0.5390554\n",
       "6 2.048726 0.1309948 -1.0340569 -0.08842464 -0.57882022  0.6536613 -0.7214564\n",
       "  RA9.WAR  FIP        kFIP       WAR      연봉.2018. 연봉.2017.\n",
       "1 3.174630 -0.9710297 -1.0581252 4.503142 3.912893   2.7347053 \n",
       "2 3.114968 -1.0618879 -1.0732645 4.094734 3.266495   1.3373033 \n",
       "3 2.973948 -0.8374147 -0.8663606 3.761956 6.821679   5.3298806 \n",
       "4 2.740722 -0.6984550 -0.7603854 2.998081 2.620098   3.3335919 \n",
       "5 2.751570 -0.6129414 -0.6190851 2.809003 2.975617   2.7347053 \n",
       "6 2.963100 -0.5808738 -0.6140386 2.476226 2.135301   0.7384167 "
      ]
     },
     "metadata": {},
     "output_type": "display_data"
    }
   ],
   "source": [
    "head(df_normalized)"
   ]
  },
  {
   "cell_type": "code",
   "execution_count": 20,
   "id": "0abeea72-c273-48e0-bba1-4add05339599",
   "metadata": {},
   "outputs": [
    {
     "data": {
      "text/plain": [
       "\n",
       "Call:\n",
       "lm(formula = 연봉.2018. ~ ., data = df_normalized)\n",
       "\n",
       "Residuals:\n",
       "     Min       1Q   Median       3Q      Max \n",
       "-1.50382 -0.07816  0.01372  0.08561  1.54402 \n",
       "\n",
       "Coefficients:\n",
       "              Estimate Std. Error t value Pr(>|t|)    \n",
       "(Intercept) -5.061e-16  2.411e-02   0.000   1.0000    \n",
       "승           1.254e-01  6.712e-02   1.869   0.0639 .  \n",
       "패          -1.858e-02  5.569e-02  -0.334   0.7392    \n",
       "세          -3.282e-03  4.216e-02  -0.078   0.9381    \n",
       "홀드        -2.652e-03  4.613e-02  -0.057   0.9542    \n",
       "블론         2.395e-02  4.019e-02   0.596   0.5522    \n",
       "경기        -1.102e-01  9.116e-02  -1.209   0.2289    \n",
       "선발        -2.117e-01  1.455e-01  -1.456   0.1479    \n",
       "이닝         1.207e-01  1.879e-01   0.642   0.5217    \n",
       "삼진.9      -4.207e-02  2.146e-01  -0.196   0.8449    \n",
       "볼넷.9       9.115e-02  1.723e-01   0.529   0.5976    \n",
       "홈런.9       1.602e-01  4.643e-01   0.345   0.7306    \n",
       "BABIP       -2.875e-02  4.273e-02  -0.673   0.5022    \n",
       "LOB.        -1.630e-02  4.866e-02  -0.335   0.7382    \n",
       "ERA         -9.982e-03  7.667e-02  -0.130   0.8966    \n",
       "RA9.WAR     -4.519e-02  8.862e-02  -0.510   0.6109    \n",
       "FIP         -3.892e-01  2.707e+00  -0.144   0.8859    \n",
       "kFIP         2.437e-01  2.301e+00   0.106   0.9158    \n",
       "WAR          3.657e-01  7.647e-02   4.783 4.55e-06 ***\n",
       "연봉.2017.   7.087e-01  3.598e-02  19.698  < 2e-16 ***\n",
       "---\n",
       "Signif. codes:  0 ‘***’ 0.001 ‘**’ 0.01 ‘*’ 0.05 ‘.’ 0.1 ‘ ’ 1\n",
       "\n",
       "Residual standard error: 0.2973 on 132 degrees of freedom\n",
       "Multiple R-squared:  0.9228,\tAdjusted R-squared:  0.9116 \n",
       "F-statistic: 82.99 on 19 and 132 DF,  p-value: < 2.2e-16\n"
      ]
     },
     "metadata": {},
     "output_type": "display_data"
    }
   ],
   "source": [
    "model4 <- lm(연봉.2018. ~ ., df_normalized)\n",
    "summary(model4)"
   ]
  },
  {
   "cell_type": "code",
   "execution_count": 21,
   "id": "1fdb3ace-1c36-47ff-bbc0-8110feac9266",
   "metadata": {},
   "outputs": [],
   "source": [
    "threshold <- 10"
   ]
  },
  {
   "cell_type": "code",
   "execution_count": 22,
   "id": "51217559-c036-417e-bf4e-ec96c199a7ab",
   "metadata": {},
   "outputs": [
    {
     "name": "stdout",
     "output_type": "stream",
     "text": [
      " [1] \"경기\"    \"선발\"    \"이닝\"    \"삼진.9\"  \"볼넷.9\"  \"홈런.9\"  \"ERA\"    \n",
      " [8] \"RA9.WAR\" \"FIP\"     \"kFIP\"   \n"
     ]
    }
   ],
   "source": [
    "high_vif_vars <- get_high_vif_variables(model4, threshold)\n",
    "print(high_vif_vars)"
   ]
  },
  {
   "cell_type": "code",
   "execution_count": 23,
   "id": "e8bce949-76cc-48e4-ae6f-19b934b220d9",
   "metadata": {},
   "outputs": [
    {
     "data": {
      "text/html": [
       "<style>\n",
       ".dl-inline {width: auto; margin:0; padding: 0}\n",
       ".dl-inline>dt, .dl-inline>dd {float: none; width: auto; display: inline-block}\n",
       ".dl-inline>dt::after {content: \":\\0020\"; padding-right: .5ex}\n",
       ".dl-inline>dt:not(:first-of-type) {padding-left: .5ex}\n",
       "</style><dl class=dl-inline><dt>승</dt><dd>7.6993466963604</dd><dt>패</dt><dd>5.30032799820294</dd><dt>세</dt><dd>3.03718565967898</dd><dt>홀드</dt><dd>3.63605161357941</dd><dt>블론</dt><dd>2.75956034802382</dd><dt>경기</dt><dd>14.2011271199764</dd><dt>선발</dt><dd>36.160187873294</dd><dt>이닝</dt><dd>60.3244538179135</dd><dt>삼진.9</dt><dd>78.7161704890434</dd><dt>볼넷.9</dt><dd>50.7257985014939</dd><dt>홈런.9</dt><dd>368.399308167005</dd><dt>BABIP</dt><dd>3.11936893312485</dd><dt>LOB.</dt><dd>4.04602533224442</dd><dt>ERA</dt><dd>10.044173823258</dd><dt>RA9.WAR</dt><dd>13.4198973514472</dd><dt>FIP</dt><dd>12525.2424058262</dd><dt>kFIP</dt><dd>9046.04880481494</dd><dt>WAR</dt><dd>9.99177856815799</dd><dt>연봉.2017.</dt><dd>2.2118694256429</dd></dl>\n"
      ],
      "text/latex": [
       "\\begin{description*}\n",
       "\\item[승] 7.6993466963604\n",
       "\\item[패] 5.30032799820294\n",
       "\\item[세] 3.03718565967898\n",
       "\\item[홀드] 3.63605161357941\n",
       "\\item[블론] 2.75956034802382\n",
       "\\item[경기] 14.2011271199764\n",
       "\\item[선발] 36.160187873294\n",
       "\\item[이닝] 60.3244538179135\n",
       "\\item[삼진.9] 78.7161704890434\n",
       "\\item[볼넷.9] 50.7257985014939\n",
       "\\item[홈런.9] 368.399308167005\n",
       "\\item[BABIP] 3.11936893312485\n",
       "\\item[LOB.] 4.04602533224442\n",
       "\\item[ERA] 10.044173823258\n",
       "\\item[RA9.WAR] 13.4198973514472\n",
       "\\item[FIP] 12525.2424058262\n",
       "\\item[kFIP] 9046.04880481494\n",
       "\\item[WAR] 9.99177856815799\n",
       "\\item[연봉.2017.] 2.2118694256429\n",
       "\\end{description*}\n"
      ],
      "text/markdown": [
       "승\n",
       ":   7.6993466963604패\n",
       ":   5.30032799820294세\n",
       ":   3.03718565967898홀드\n",
       ":   3.63605161357941블론\n",
       ":   2.75956034802382경기\n",
       ":   14.2011271199764선발\n",
       ":   36.160187873294이닝\n",
       ":   60.3244538179135삼진.9\n",
       ":   78.7161704890434볼넷.9\n",
       ":   50.7257985014939홈런.9\n",
       ":   368.399308167005BABIP\n",
       ":   3.11936893312485LOB.\n",
       ":   4.04602533224442ERA\n",
       ":   10.044173823258RA9.WAR\n",
       ":   13.4198973514472FIP\n",
       ":   12525.2424058262kFIP\n",
       ":   9046.04880481494WAR\n",
       ":   9.99177856815799연봉.2017.\n",
       ":   2.2118694256429\n",
       "\n"
      ],
      "text/plain": [
       "          승           패           세         홀드         블론         경기 \n",
       "    7.699347     5.300328     3.037186     3.636052     2.759560    14.201127 \n",
       "        선발         이닝       삼진.9       볼넷.9       홈런.9        BABIP \n",
       "   36.160188    60.324454    78.716170    50.725799   368.399308     3.119369 \n",
       "        LOB.          ERA      RA9.WAR          FIP         kFIP          WAR \n",
       "    4.046025    10.044174    13.419897 12525.242406  9046.048805     9.991779 \n",
       "  연봉.2017. \n",
       "    2.211869 "
      ]
     },
     "metadata": {},
     "output_type": "display_data"
    }
   ],
   "source": [
    "vif(model4)"
   ]
  },
  {
   "cell_type": "code",
   "execution_count": null,
   "id": "94ae4301-0e4f-4966-aad7-551918f474dd",
   "metadata": {},
   "outputs": [],
   "source": [
    "### "
   ]
  },
  {
   "cell_type": "code",
   "execution_count": null,
   "id": "348c98e6-c73d-4f4b-bc9a-d323aec50004",
   "metadata": {},
   "outputs": [],
   "source": []
  },
  {
   "cell_type": "code",
   "execution_count": null,
   "id": "0f070f7d-730f-4bf5-8690-50a083b0d133",
   "metadata": {},
   "outputs": [],
   "source": []
  },
  {
   "cell_type": "markdown",
   "id": "a930b7e1-bdf2-45fe-b5c8-89265ba54d8b",
   "metadata": {},
   "source": [
    "## 변수선택"
   ]
  },
  {
   "cell_type": "markdown",
   "id": "5c5a490d-8715-4461-ad37-ea221117840b",
   "metadata": {},
   "source": [
    "### model3(AIC)"
   ]
  },
  {
   "cell_type": "markdown",
   "id": "8e9a8283-cac2-4a85-a84a-08fdc5a171aa",
   "metadata": {},
   "source": [
    "`-` AIC(Step)"
   ]
  },
  {
   "cell_type": "code",
   "execution_count": 79,
   "id": "a29db301-3345-4070-8035-2c5a673ee4c4",
   "metadata": {},
   "outputs": [],
   "source": [
    "m0 = lm(연봉.2018. ~ 1, data = dt)"
   ]
  },
  {
   "cell_type": "code",
   "execution_count": 80,
   "id": "27f62c55-a24e-4d16-a448-354920d01f74",
   "metadata": {
    "tags": []
   },
   "outputs": [
    {
     "name": "stdout",
     "output_type": "stream",
     "text": [
      "Start:  AIC=3144.3\n",
      "연봉.2018. ~ 1\n",
      "\n",
      "             Df  Sum of Sq        RSS    AIC\n",
      "+ 연봉.2017.  1 1.2511e+11 1.9445e+10 2841.4\n",
      "+ WAR         1 9.0535e+10 5.4022e+10 2996.7\n",
      "+ RA9.WAR     1 7.9230e+10 6.5326e+10 3025.6\n",
      "+ 승          1 7.3377e+10 7.1179e+10 3038.6\n",
      "+ 이닝        1 6.2759e+10 8.1797e+10 3059.8\n",
      "+ 선발        1 4.5409e+10 9.9147e+10 3089.0\n",
      "+ 패          1 3.1910e+10 1.1265e+11 3108.4\n",
      "+ 볼넷.9      1 1.5661e+10 1.2890e+11 3128.9\n",
      "+ kFIP        1 1.2591e+10 1.3197e+11 3132.4\n",
      "+ FIP         1 1.1403e+10 1.3315e+11 3133.8\n",
      "+ ERA         1 6.7332e+09 1.3782e+11 3139.1\n",
      "+ 세          1 6.4461e+09 1.3811e+11 3139.4\n",
      "+ 경기        1 6.3714e+09 1.3819e+11 3139.4\n",
      "+ LOB.        1 2.2831e+09 1.4227e+11 3143.9\n",
      "+ 홈런.9      1 1.9575e+09 1.4260e+11 3144.2\n",
      "<none>                     1.4456e+11 3144.3\n",
      "+ 삼진.9      1 1.5567e+09 1.4300e+11 3144.7\n",
      "+ BABIP       1 1.5139e+09 1.4304e+11 3144.7\n",
      "+ 블론        1 1.3815e+09 1.4318e+11 3144.8\n",
      "+ 홀드        1 4.3499e+07 1.4451e+11 3146.3\n",
      "\n",
      "Step:  AIC=2841.38\n",
      "연봉.2018. ~ 연봉.2017.\n",
      "\n",
      "             Df  Sum of Sq        RSS    AIC\n",
      "+ WAR         1 7.0421e+09 1.2403e+10 2775.0\n",
      "+ RA9.WAR     1 4.9589e+09 1.4486e+10 2798.6\n",
      "+ 승          1 3.8414e+09 1.5604e+10 2809.9\n",
      "+ 이닝        1 2.8118e+09 1.6633e+10 2819.6\n",
      "+ 선발        1 2.1318e+09 1.7313e+10 2825.7\n",
      "+ 패          1 8.8114e+08 1.8564e+10 2836.3\n",
      "<none>                     1.9445e+10 2841.4\n",
      "+ 블론        1 2.2022e+08 1.9225e+10 2841.7\n",
      "+ 세          1 1.7105e+08 1.9274e+10 2842.0\n",
      "+ kFIP        1 1.6254e+08 1.9283e+10 2842.1\n",
      "+ FIP         1 1.5483e+08 1.9290e+10 2842.2\n",
      "+ ERA         1 1.0735e+08 1.9338e+10 2842.5\n",
      "+ LOB.        1 7.7049e+07 1.9368e+10 2842.8\n",
      "+ 홈런.9      1 7.3957e+07 1.9371e+10 2842.8\n",
      "+ 볼넷.9      1 6.4565e+07 1.9381e+10 2842.9\n",
      "+ BABIP       1 5.6938e+07 1.9388e+10 2842.9\n",
      "+ 홀드        1 3.8024e+07 1.9407e+10 2843.1\n",
      "+ 삼진.9      1 5.5081e+06 1.9440e+10 2843.3\n",
      "+ 경기        1 1.2651e+04 1.9445e+10 2843.4\n",
      "- 연봉.2017.  1 1.2511e+11 1.4456e+11 3144.3\n",
      "\n",
      "Step:  AIC=2775.03\n",
      "연봉.2018. ~ 연봉.2017. + WAR\n",
      "\n",
      "             Df  Sum of Sq        RSS    AIC\n",
      "+ 패          1 2.1336e+08 1.2190e+10 2774.4\n",
      "+ kFIP        1 1.8769e+08 1.2215e+10 2774.7\n",
      "+ 선발        1 1.7153e+08 1.2232e+10 2774.9\n",
      "+ FIP         1 1.6877e+08 1.2234e+10 2774.9\n",
      "+ 볼넷.9      1 1.6419e+08 1.2239e+10 2775.0\n",
      "<none>                     1.2403e+10 2775.0\n",
      "+ 이닝        1 1.4704e+08 1.2256e+10 2775.2\n",
      "+ 홈런.9      1 5.1612e+07 1.2351e+10 2776.4\n",
      "+ 삼진.9      1 4.8349e+07 1.2355e+10 2776.4\n",
      "+ 승          1 3.0076e+07 1.2373e+10 2776.7\n",
      "+ 경기        1 2.7246e+07 1.2376e+10 2776.7\n",
      "+ BABIP       1 2.4182e+07 1.2379e+10 2776.7\n",
      "+ ERA         1 1.7077e+07 1.2386e+10 2776.8\n",
      "+ 블론        1 1.1153e+07 1.2392e+10 2776.9\n",
      "+ RA9.WAR     1 6.6509e+06 1.2396e+10 2776.9\n",
      "+ 세          1 4.3325e+06 1.2399e+10 2777.0\n",
      "+ 홀드        1 3.4824e+06 1.2400e+10 2777.0\n",
      "+ LOB.        1 6.6018e+05 1.2402e+10 2777.0\n",
      "- WAR         1 7.0421e+09 1.9445e+10 2841.4\n",
      "- 연봉.2017.  1 4.1619e+10 5.4022e+10 2996.7\n",
      "\n",
      "Step:  AIC=2774.4\n",
      "연봉.2018. ~ 연봉.2017. + WAR + 패\n",
      "\n",
      "             Df  Sum of Sq        RSS    AIC\n",
      "+ kFIP        1 1.9738e+08 1.1992e+10 2773.9\n",
      "+ 승          1 1.8072e+08 1.2009e+10 2774.1\n",
      "+ FIP         1 1.7496e+08 1.2015e+10 2774.2\n",
      "<none>                     1.2190e+10 2774.4\n",
      "- 패          1 2.1336e+08 1.2403e+10 2775.0\n",
      "+ 볼넷.9      1 1.0330e+08 1.2086e+10 2775.1\n",
      "+ 홈런.9      1 7.1015e+07 1.2119e+10 2775.5\n",
      "+ 삼진.9      1 6.6895e+07 1.2123e+10 2775.6\n",
      "+ 블론        1 4.2173e+07 1.2148e+10 2775.9\n",
      "+ BABIP       1 4.1954e+07 1.2148e+10 2775.9\n",
      "+ 선발        1 3.1474e+07 1.2158e+10 2776.0\n",
      "+ ERA         1 1.3441e+07 1.2176e+10 2776.2\n",
      "+ 이닝        1 5.8966e+06 1.2184e+10 2776.3\n",
      "+ 세          1 3.4705e+06 1.2186e+10 2776.3\n",
      "+ RA9.WAR     1 2.4143e+06 1.2187e+10 2776.4\n",
      "+ LOB.        1 1.7129e+06 1.2188e+10 2776.4\n",
      "+ 경기        1 1.1252e+06 1.2189e+10 2776.4\n",
      "+ 홀드        1 1.8992e+05 1.2190e+10 2776.4\n",
      "- WAR         1 6.3743e+09 1.8564e+10 2836.3\n",
      "- 연봉.2017.  1 4.1680e+10 5.3870e+10 2998.3\n",
      "\n",
      "Step:  AIC=2773.92\n",
      "연봉.2018. ~ 연봉.2017. + WAR + 패 + kFIP\n",
      "\n",
      "             Df  Sum of Sq        RSS    AIC\n",
      "+ 승          1 1.6741e+08 1.1825e+10 2773.8\n",
      "<none>                     1.1992e+10 2773.9\n",
      "+ 블론        1 1.2836e+08 1.1864e+10 2774.3\n",
      "- kFIP        1 1.9738e+08 1.2190e+10 2774.4\n",
      "+ 선발        1 1.1764e+08 1.1875e+10 2774.4\n",
      "- 패          1 2.2305e+08 1.2215e+10 2774.7\n",
      "+ BABIP       1 7.5190e+07 1.1917e+10 2775.0\n",
      "+ ERA         1 2.1818e+07 1.1971e+10 2775.6\n",
      "+ 홀드        1 2.1404e+07 1.1971e+10 2775.6\n",
      "+ 삼진.9      1 1.9275e+07 1.1973e+10 2775.7\n",
      "+ 경기        1 1.7028e+07 1.1975e+10 2775.7\n",
      "+ 이닝        1 1.3041e+07 1.1979e+10 2775.8\n",
      "+ FIP         1 9.3610e+06 1.1983e+10 2775.8\n",
      "+ 볼넷.9      1 8.8432e+06 1.1983e+10 2775.8\n",
      "+ 홈런.9      1 8.7223e+06 1.1984e+10 2775.8\n",
      "+ LOB.        1 4.0316e+06 1.1988e+10 2775.9\n",
      "+ RA9.WAR     1 2.0131e+06 1.1990e+10 2775.9\n",
      "+ 세          1 1.4454e+06 1.1991e+10 2775.9\n",
      "- WAR         1 6.4941e+09 1.8486e+10 2837.7\n",
      "- 연봉.2017.  1 4.1735e+10 5.3727e+10 2999.9\n",
      "\n",
      "Step:  AIC=2773.78\n",
      "연봉.2018. ~ 연봉.2017. + WAR + 패 + kFIP + 승\n",
      "\n",
      "             Df  Sum of Sq        RSS    AIC\n",
      "+ 이닝        1 2.1565e+08 1.1609e+10 2773.0\n",
      "+ 선발        1 1.9668e+08 1.1628e+10 2773.2\n",
      "<none>                     1.1825e+10 2773.8\n",
      "- 승          1 1.6741e+08 1.1992e+10 2773.9\n",
      "- kFIP        1 1.8408e+08 1.2009e+10 2774.1\n",
      "+ 블론        1 8.3012e+07 1.1742e+10 2774.7\n",
      "+ RA9.WAR     1 6.3182e+07 1.1762e+10 2775.0\n",
      "+ BABIP       1 4.5875e+07 1.1779e+10 2775.2\n",
      "+ 볼넷.9      1 1.7921e+07 1.1807e+10 2775.6\n",
      "+ 삼진.9      1 1.4564e+07 1.1810e+10 2775.6\n",
      "+ 홈런.9      1 1.2160e+07 1.1813e+10 2775.6\n",
      "+ ERA         1 8.8026e+06 1.1816e+10 2775.7\n",
      "+ FIP         1 8.1221e+06 1.1817e+10 2775.7\n",
      "+ 세          1 5.8214e+06 1.1819e+10 2775.7\n",
      "+ 홀드        1 5.2671e+06 1.1820e+10 2775.7\n",
      "+ LOB.        1 3.9758e+05 1.1825e+10 2775.8\n",
      "+ 경기        1 3.3176e+05 1.1825e+10 2775.8\n",
      "- 패          1 3.6648e+08 1.2191e+10 2776.4\n",
      "- WAR         1 3.6353e+09 1.5460e+10 2812.5\n",
      "- 연봉.2017.  1 3.9188e+10 5.1013e+10 2994.0\n",
      "\n",
      "Step:  AIC=2772.98\n",
      "연봉.2018. ~ 연봉.2017. + WAR + 패 + kFIP + 승 + 이닝\n",
      "\n",
      "             Df  Sum of Sq        RSS    AIC\n",
      "- 패          1 3.1923e+07 1.1641e+10 2771.4\n",
      "<none>                     1.1609e+10 2773.0\n",
      "- kFIP        1 2.1496e+08 1.1824e+10 2773.8\n",
      "- 이닝        1 2.1565e+08 1.1825e+10 2773.8\n",
      "+ BABIP       1 8.7592e+07 1.1522e+10 2773.8\n",
      "+ 선발        1 5.0414e+07 1.1559e+10 2774.3\n",
      "+ 블론        1 3.9472e+07 1.1570e+10 2774.5\n",
      "+ 삼진.9      1 3.3863e+07 1.1575e+10 2774.5\n",
      "+ ERA         1 3.3525e+07 1.1576e+10 2774.5\n",
      "+ FIP         1 1.8310e+07 1.1591e+10 2774.7\n",
      "+ 홈런.9      1 1.2031e+07 1.1597e+10 2774.8\n",
      "+ RA9.WAR     1 1.0398e+07 1.1599e+10 2774.8\n",
      "+ LOB.        1 3.1362e+06 1.1606e+10 2774.9\n",
      "+ 경기        1 1.9500e+06 1.1607e+10 2775.0\n",
      "+ 볼넷.9      1 1.2880e+06 1.1608e+10 2775.0\n",
      "+ 세          1 2.2726e+05 1.1609e+10 2775.0\n",
      "+ 홀드        1 9.3003e+04 1.1609e+10 2775.0\n",
      "- 승          1 3.7002e+08 1.1979e+10 2775.8\n",
      "- WAR         1 3.7546e+09 1.5364e+10 2813.6\n",
      "- 연봉.2017.  1 3.8723e+10 5.0333e+10 2993.9\n",
      "\n",
      "Step:  AIC=2771.4\n",
      "연봉.2018. ~ 연봉.2017. + WAR + kFIP + 승 + 이닝\n",
      "\n",
      "             Df  Sum of Sq        RSS    AIC\n",
      "<none>                     1.1641e+10 2771.4\n",
      "+ BABIP       1 9.5915e+07 1.1545e+10 2772.1\n",
      "- kFIP        1 2.2291e+08 1.1864e+10 2772.3\n",
      "+ 선발        1 6.0820e+07 1.1580e+10 2772.6\n",
      "+ ERA         1 4.1760e+07 1.1599e+10 2772.8\n",
      "+ 삼진.9      1 3.6788e+07 1.1604e+10 2772.9\n",
      "+ 패          1 3.1923e+07 1.1609e+10 2773.0\n",
      "+ 블론        1 2.3680e+07 1.1618e+10 2773.1\n",
      "+ FIP         1 2.0239e+07 1.1621e+10 2773.1\n",
      "+ 홈런.9      1 1.4166e+07 1.1627e+10 2773.2\n",
      "+ LOB.        1 7.7349e+06 1.1633e+10 2773.3\n",
      "+ 경기        1 1.5351e+06 1.1640e+10 2773.4\n",
      "+ RA9.WAR     1 1.4350e+06 1.1640e+10 2773.4\n",
      "+ 볼넷.9      1 1.4095e+06 1.1640e+10 2773.4\n",
      "+ 홀드        1 2.5525e+05 1.1641e+10 2773.4\n",
      "+ 세          1 6.8181e+04 1.1641e+10 2773.4\n",
      "- 승          1 4.0011e+08 1.2041e+10 2774.5\n",
      "- 이닝        1 5.5021e+08 1.2191e+10 2776.4\n",
      "- WAR         1 3.9604e+09 1.5602e+10 2813.9\n",
      "- 연봉.2017.  1 3.8795e+10 5.0436e+10 2992.2\n"
     ]
    }
   ],
   "source": [
    "model3 = step(\n",
    " m0,\n",
    " scope = 연봉.2018. ~연봉.2017.+승+패+세+홀드+블론+경기+선발+이닝+삼진.9+볼넷.9+홈런.9+BABIP+LOB.+ERA+RA9.WAR+FIP+kFIP+WAR,\n",
    " direction = \"both\")"
   ]
  },
  {
   "cell_type": "markdown",
   "id": "0d220ec1-536b-4704-a2b5-85282707da92",
   "metadata": {},
   "source": [
    "#### summary"
   ]
  },
  {
   "cell_type": "code",
   "execution_count": 81,
   "id": "8a9cdf2d-93f8-4c96-a7da-160728b36479",
   "metadata": {},
   "outputs": [
    {
     "data": {
      "text/plain": [
       "\n",
       "Call:\n",
       "lm(formula = 연봉.2018. ~ 연봉.2017. + WAR + kFIP + 승 + \n",
       "    이닝, data = dt)\n",
       "\n",
       "Residuals:\n",
       "   Min     1Q Median     3Q    Max \n",
       "-48717  -2879    204   3083  48961 \n",
       "\n",
       "Coefficients:\n",
       "              Estimate Std. Error t value Pr(>|t|)    \n",
       "(Intercept) -2.691e+03  2.658e+03  -1.012  0.31310    \n",
       "연봉.2017.   8.862e-01  4.018e-02  22.058  < 2e-16 ***\n",
       "WAR          8.118e+03  1.152e+03   7.048 6.68e-11 ***\n",
       "kFIP         6.737e+02  4.029e+02   1.672  0.09666 .  \n",
       "승           1.059e+03  4.727e+02   2.240  0.02659 *  \n",
       "이닝        -9.701e+01  3.693e+01  -2.627  0.00954 ** \n",
       "---\n",
       "Signif. codes:  0 ‘***’ 0.001 ‘**’ 0.01 ‘*’ 0.05 ‘.’ 0.1 ‘ ’ 1\n",
       "\n",
       "Residual standard error: 8929 on 146 degrees of freedom\n",
       "Multiple R-squared:  0.9195,\tAdjusted R-squared:  0.9167 \n",
       "F-statistic: 333.4 on 5 and 146 DF,  p-value: < 2.2e-16\n"
      ]
     },
     "metadata": {},
     "output_type": "display_data"
    }
   ],
   "source": [
    "summary(model3)"
   ]
  },
  {
   "cell_type": "markdown",
   "id": "dd81826f-338e-4c6b-bb61-3713a2827d91",
   "metadata": {},
   "source": [
    "- AIC를 이용하면 최종 모형은 \"연봉.2018. ~ 연봉.2017. + WAR + kFIP+승+이닝\" 이다."
   ]
  },
  {
   "cell_type": "code",
   "execution_count": 82,
   "id": "41988bb5-5992-4e6c-93a9-4de67aedf5ea",
   "metadata": {},
   "outputs": [
    {
     "data": {
      "text/html": [
       "<style>\n",
       ".dl-inline {width: auto; margin:0; padding: 0}\n",
       ".dl-inline>dt, .dl-inline>dd {float: none; width: auto; display: inline-block}\n",
       ".dl-inline>dt::after {content: \":\\0020\"; padding-right: .5ex}\n",
       ".dl-inline>dt:not(:first-of-type) {padding-left: .5ex}\n",
       "</style><dl class=dl-inline><dt>연봉.2017.</dt><dd>1.91752518192932</dd><dt>WAR</dt><dd>4.3927072113068</dd><dt>kFIP</dt><dd>1.20722030237251</dd><dt>승</dt><dd>6.3165168650018</dd><dt>이닝</dt><dd>6.53436057823665</dd></dl>\n"
      ],
      "text/latex": [
       "\\begin{description*}\n",
       "\\item[연봉.2017.] 1.91752518192932\n",
       "\\item[WAR] 4.3927072113068\n",
       "\\item[kFIP] 1.20722030237251\n",
       "\\item[승] 6.3165168650018\n",
       "\\item[이닝] 6.53436057823665\n",
       "\\end{description*}\n"
      ],
      "text/markdown": [
       "연봉.2017.\n",
       ":   1.91752518192932WAR\n",
       ":   4.3927072113068kFIP\n",
       ":   1.20722030237251승\n",
       ":   6.3165168650018이닝\n",
       ":   6.53436057823665\n",
       "\n"
      ],
      "text/plain": [
       "연봉.2017.        WAR       kFIP         승       이닝 \n",
       "  1.917525   4.392707   1.207220   6.316517   6.534361 "
      ]
     },
     "metadata": {},
     "output_type": "display_data"
    }
   ],
   "source": [
    "vif(model3)"
   ]
  },
  {
   "cell_type": "markdown",
   "id": "4b9712d8-5d9f-4df3-8d17-3cb14743603f",
   "metadata": {},
   "source": [
    "연봉.2018. ~ 연봉.2017. + WAR + kFIP + 승 + \n",
    "    이닝"
   ]
  },
  {
   "cell_type": "markdown",
   "id": "e796bd49-51dd-42a8-89f4-6090fe10b8be",
   "metadata": {},
   "source": [
    "### 후진"
   ]
  },
  {
   "cell_type": "code",
   "execution_count": 30,
   "id": "98c01bf6-5226-4811-97c7-6764c3b11a3f",
   "metadata": {},
   "outputs": [
    {
     "name": "stdout",
     "output_type": "stream",
     "text": [
      "Start:  AIC=2793.07\n",
      "연봉.2018. ~ 승 + 패 + 세 + 홀드 + 블론 + 경기 + 선발 + \n",
      "    이닝 + 삼진.9 + 볼넷.9 + 홈런.9 + BABIP + LOB. + \n",
      "    ERA + RA9.WAR + FIP + kFIP + WAR + 연봉.2017.\n",
      "\n",
      "             Df  Sum of Sq        RSS    AIC\n",
      "- 홀드        1 2.7964e+05 1.1167e+10 2791.1\n",
      "- 세          1 5.1274e+05 1.1167e+10 2791.1\n",
      "- kFIP        1 9.4914e+05 1.1168e+10 2791.1\n",
      "- ERA         1 1.4342e+06 1.1168e+10 2791.1\n",
      "- FIP         1 1.7480e+06 1.1168e+10 2791.1\n",
      "- 삼진.9      1 3.2496e+06 1.1170e+10 2791.1\n",
      "- 패          1 9.4169e+06 1.1176e+10 2791.2\n",
      "- LOB.        1 9.4883e+06 1.1176e+10 2791.2\n",
      "- 홈런.9      1 1.0071e+07 1.1177e+10 2791.2\n",
      "- RA9.WAR     1 2.1998e+07 1.1189e+10 2791.4\n",
      "- 볼넷.9      1 2.3679e+07 1.1190e+10 2791.4\n",
      "- 블론        1 3.0047e+07 1.1197e+10 2791.5\n",
      "- 이닝        1 3.4909e+07 1.1201e+10 2791.6\n",
      "- BABIP       1 3.8305e+07 1.1205e+10 2791.6\n",
      "- 경기        1 1.2360e+08 1.1290e+10 2792.7\n",
      "<none>                     1.1167e+10 2793.1\n",
      "- 선발        1 1.7922e+08 1.1346e+10 2793.5\n",
      "- 승          1 2.9538e+08 1.1462e+10 2795.0\n",
      "- WAR         1 1.9353e+09 1.3102e+10 2815.4\n",
      "- 연봉.2017.  1 3.2824e+10 4.3991e+10 2999.5\n",
      "\n",
      "Step:  AIC=2791.07\n",
      "연봉.2018. ~ 승 + 패 + 세 + 블론 + 경기 + 선발 + 이닝 + \n",
      "    삼진.9 + 볼넷.9 + 홈런.9 + BABIP + LOB. + ERA + RA9.WAR + \n",
      "    FIP + kFIP + WAR + 연봉.2017.\n",
      "\n",
      "             Df  Sum of Sq        RSS    AIC\n",
      "- 세          1 2.6213e+05 1.1167e+10 2789.1\n",
      "- kFIP        1 9.3814e+05 1.1168e+10 2789.1\n",
      "- ERA         1 1.5378e+06 1.1168e+10 2789.1\n",
      "- FIP         1 1.7362e+06 1.1169e+10 2789.1\n",
      "- 삼진.9      1 3.2908e+06 1.1170e+10 2789.1\n",
      "- LOB.        1 9.8104e+06 1.1177e+10 2789.2\n",
      "- 홈런.9      1 1.0084e+07 1.1177e+10 2789.2\n",
      "- 패          1 1.1289e+07 1.1178e+10 2789.2\n",
      "- 볼넷.9      1 2.3701e+07 1.1191e+10 2789.4\n",
      "- RA9.WAR     1 2.3959e+07 1.1191e+10 2789.4\n",
      "- 블론        1 2.9856e+07 1.1197e+10 2789.5\n",
      "- BABIP       1 3.8334e+07 1.1205e+10 2789.6\n",
      "- 이닝        1 3.9219e+07 1.1206e+10 2789.6\n",
      "<none>                     1.1167e+10 2791.1\n",
      "- 선발        1 1.7952e+08 1.1346e+10 2791.5\n",
      "- 경기        1 1.8031e+08 1.1347e+10 2791.5\n",
      "- 승          1 2.9677e+08 1.1464e+10 2793.1\n",
      "- WAR         1 1.9405e+09 1.3107e+10 2813.4\n",
      "- 연봉.2017.  1 3.2987e+10 4.4154e+10 2998.0\n",
      "\n",
      "Step:  AIC=2789.08\n",
      "연봉.2018. ~ 승 + 패 + 블론 + 경기 + 선발 + 이닝 + \n",
      "    삼진.9 + 볼넷.9 + 홈런.9 + BABIP + LOB. + ERA + RA9.WAR + \n",
      "    FIP + kFIP + WAR + 연봉.2017.\n",
      "\n",
      "             Df  Sum of Sq        RSS    AIC\n",
      "- kFIP        1 9.9324e+05 1.1168e+10 2787.1\n",
      "- ERA         1 1.6052e+06 1.1169e+10 2787.1\n",
      "- FIP         1 1.8109e+06 1.1169e+10 2787.1\n",
      "- 삼진.9      1 3.2005e+06 1.1170e+10 2787.1\n",
      "- LOB.        1 9.9171e+06 1.1177e+10 2787.2\n",
      "- 홈런.9      1 1.0260e+07 1.1177e+10 2787.2\n",
      "- 패          1 1.1827e+07 1.1179e+10 2787.2\n",
      "- 볼넷.9      1 2.3993e+07 1.1191e+10 2787.4\n",
      "- RA9.WAR     1 2.8604e+07 1.1196e+10 2787.5\n",
      "- 블론        1 3.3423e+07 1.1201e+10 2787.5\n",
      "- BABIP       1 3.8245e+07 1.1205e+10 2787.6\n",
      "- 이닝        1 4.1983e+07 1.1209e+10 2787.7\n",
      "<none>                     1.1167e+10 2789.1\n",
      "- 선발        1 1.8297e+08 1.1350e+10 2789.6\n",
      "- 경기        1 1.9004e+08 1.1357e+10 2789.6\n",
      "- 승          1 3.2363e+08 1.1491e+10 2791.4\n",
      "- WAR         1 1.9440e+09 1.3111e+10 2811.5\n",
      "- 연봉.2017.  1 3.4986e+10 4.6153e+10 3002.8\n",
      "\n",
      "Step:  AIC=2787.09\n",
      "연봉.2018. ~ 승 + 패 + 블론 + 경기 + 선발 + 이닝 + \n",
      "    삼진.9 + 볼넷.9 + 홈런.9 + BABIP + LOB. + ERA + RA9.WAR + \n",
      "    FIP + WAR + 연봉.2017.\n",
      "\n",
      "             Df  Sum of Sq        RSS    AIC\n",
      "- ERA         1 1.8214e+06 1.1170e+10 2785.1\n",
      "- LOB.        1 1.0407e+07 1.1179e+10 2785.2\n",
      "- 패          1 1.1087e+07 1.1179e+10 2785.2\n",
      "- FIP         1 2.8081e+07 1.1196e+10 2785.5\n",
      "- RA9.WAR     1 2.8212e+07 1.1196e+10 2785.5\n",
      "- 블론        1 3.3436e+07 1.1202e+10 2785.6\n",
      "- BABIP       1 3.7443e+07 1.1206e+10 2785.6\n",
      "- 이닝        1 4.1025e+07 1.1209e+10 2785.7\n",
      "- 홈런.9      1 5.5367e+07 1.1223e+10 2785.8\n",
      "- 삼진.9      1 6.7478e+07 1.1236e+10 2786.0\n",
      "- 볼넷.9      1 7.1385e+07 1.1239e+10 2786.1\n",
      "<none>                     1.1168e+10 2787.1\n",
      "- 선발        1 1.8242e+08 1.1351e+10 2787.6\n",
      "- 경기        1 1.8950e+08 1.1358e+10 2787.7\n",
      "- 승          1 3.2639e+08 1.1494e+10 2789.5\n",
      "- WAR         1 1.9444e+09 1.3112e+10 2809.5\n",
      "- 연봉.2017.  1 3.5014e+10 4.6182e+10 3000.9\n",
      "\n",
      "Step:  AIC=2785.12\n",
      "연봉.2018. ~ 승 + 패 + 블론 + 경기 + 선발 + 이닝 + \n",
      "    삼진.9 + 볼넷.9 + 홈런.9 + BABIP + LOB. + RA9.WAR + \n",
      "    FIP + WAR + 연봉.2017.\n",
      "\n",
      "             Df  Sum of Sq        RSS    AIC\n",
      "- LOB.        1 1.0813e+07 1.1181e+10 2783.3\n",
      "- 패          1 1.1584e+07 1.1181e+10 2783.3\n",
      "- FIP         1 2.9304e+07 1.1199e+10 2783.5\n",
      "- 블론        1 3.2749e+07 1.1203e+10 2783.6\n",
      "- RA9.WAR     1 3.2883e+07 1.1203e+10 2783.6\n",
      "- 이닝        1 4.0932e+07 1.1211e+10 2783.7\n",
      "- 홈런.9      1 5.3929e+07 1.1224e+10 2783.8\n",
      "- BABIP       1 6.8000e+07 1.1238e+10 2784.0\n",
      "- 삼진.9      1 6.9211e+07 1.1239e+10 2784.1\n",
      "- 볼넷.9      1 6.9566e+07 1.1239e+10 2784.1\n",
      "<none>                     1.1170e+10 2785.1\n",
      "- 선발        1 1.8070e+08 1.1351e+10 2785.6\n",
      "- 경기        1 1.8826e+08 1.1358e+10 2785.7\n",
      "- 승          1 3.2533e+08 1.1495e+10 2787.5\n",
      "- WAR         1 1.9871e+09 1.3157e+10 2808.0\n",
      "- 연봉.2017.  1 3.5061e+10 4.6231e+10 2999.0\n",
      "\n",
      "Step:  AIC=2783.26\n",
      "연봉.2018. ~ 승 + 패 + 블론 + 경기 + 선발 + 이닝 + \n",
      "    삼진.9 + 볼넷.9 + 홈런.9 + BABIP + RA9.WAR + FIP + \n",
      "    WAR + 연봉.2017.\n",
      "\n",
      "             Df  Sum of Sq        RSS    AIC\n",
      "- 패          1 1.0204e+07 1.1191e+10 2781.4\n",
      "- FIP         1 2.3196e+07 1.1204e+10 2781.6\n",
      "- 블론        1 3.0781e+07 1.1212e+10 2781.7\n",
      "- 이닝        1 4.3368e+07 1.1224e+10 2781.8\n",
      "- 홈런.9      1 4.6793e+07 1.1228e+10 2781.9\n",
      "- RA9.WAR     1 5.5284e+07 1.1236e+10 2782.0\n",
      "- BABIP       1 5.7524e+07 1.1238e+10 2782.0\n",
      "- 볼넷.9      1 6.1767e+07 1.1242e+10 2782.1\n",
      "- 삼진.9      1 6.4118e+07 1.1245e+10 2782.1\n",
      "<none>                     1.1181e+10 2783.3\n",
      "- 선발        1 1.8271e+08 1.1363e+10 2783.7\n",
      "- 경기        1 1.8379e+08 1.1365e+10 2783.7\n",
      "- 승          1 3.3073e+08 1.1511e+10 2785.7\n",
      "- WAR         1 2.1202e+09 1.3301e+10 2807.7\n",
      "- 연봉.2017.  1 3.5097e+10 4.6278e+10 2997.2\n",
      "\n",
      "Step:  AIC=2781.4\n",
      "연봉.2018. ~ 승 + 블론 + 경기 + 선발 + 이닝 + 삼진.9 + \n",
      "    볼넷.9 + 홈런.9 + BABIP + RA9.WAR + FIP + WAR + 연봉.2017.\n",
      "\n",
      "             Df  Sum of Sq        RSS    AIC\n",
      "- FIP         1 2.2440e+07 1.1213e+10 2779.7\n",
      "- 블론        1 2.3243e+07 1.1214e+10 2779.7\n",
      "- 이닝        1 4.1401e+07 1.1232e+10 2780.0\n",
      "- 홈런.9      1 4.5529e+07 1.1236e+10 2780.0\n",
      "- RA9.WAR     1 4.6219e+07 1.1237e+10 2780.0\n",
      "- BABIP       1 5.8410e+07 1.1249e+10 2780.2\n",
      "- 볼넷.9      1 6.1274e+07 1.1252e+10 2780.2\n",
      "- 삼진.9      1 6.2728e+07 1.1254e+10 2780.2\n",
      "<none>                     1.1191e+10 2781.4\n",
      "- 경기        1 2.1328e+08 1.1404e+10 2782.3\n",
      "- 선발        1 2.3948e+08 1.1430e+10 2782.6\n",
      "- 승          1 3.4606e+08 1.1537e+10 2784.0\n",
      "- WAR         1 2.1342e+09 1.3325e+10 2805.9\n",
      "- 연봉.2017.  1 3.5334e+10 4.6525e+10 2996.0\n",
      "\n",
      "Step:  AIC=2779.71\n",
      "연봉.2018. ~ 승 + 블론 + 경기 + 선발 + 이닝 + 삼진.9 + \n",
      "    볼넷.9 + 홈런.9 + BABIP + RA9.WAR + WAR + 연봉.2017.\n",
      "\n",
      "             Df  Sum of Sq        RSS    AIC\n",
      "- 블론        1 2.8280e+07 1.1242e+10 2778.1\n",
      "- 이닝        1 4.0706e+07 1.1254e+10 2778.3\n",
      "- RA9.WAR     1 4.3431e+07 1.1257e+10 2778.3\n",
      "- BABIP       1 6.5327e+07 1.1279e+10 2778.6\n",
      "- 삼진.9      1 6.9757e+07 1.1283e+10 2778.7\n",
      "- 볼넷.9      1 8.4569e+07 1.1298e+10 2778.8\n",
      "- 홈런.9      1 1.0518e+08 1.1319e+10 2779.1\n",
      "<none>                     1.1213e+10 2779.7\n",
      "- 경기        1 2.0863e+08 1.1422e+10 2780.5\n",
      "- 선발        1 2.4225e+08 1.1456e+10 2781.0\n",
      "- 승          1 3.4542e+08 1.1559e+10 2782.3\n",
      "- WAR         1 2.1544e+09 1.3368e+10 2804.4\n",
      "- 연봉.2017.  1 3.5313e+10 4.6526e+10 2994.0\n",
      "\n",
      "Step:  AIC=2778.09\n",
      "연봉.2018. ~ 승 + 경기 + 선발 + 이닝 + 삼진.9 + 볼넷.9 + \n",
      "    홈런.9 + BABIP + RA9.WAR + WAR + 연봉.2017.\n",
      "\n",
      "             Df  Sum of Sq        RSS    AIC\n",
      "- 이닝        1 3.5553e+07 1.1277e+10 2776.6\n",
      "- RA9.WAR     1 4.1773e+07 1.1283e+10 2776.7\n",
      "- 삼진.9      1 6.2788e+07 1.1304e+10 2776.9\n",
      "- BABIP       1 6.6047e+07 1.1308e+10 2777.0\n",
      "- 볼넷.9      1 8.6190e+07 1.1328e+10 2777.2\n",
      "- 홈런.9      1 9.9781e+07 1.1341e+10 2777.4\n",
      "<none>                     1.1242e+10 2778.1\n",
      "- 경기        1 1.8104e+08 1.1423e+10 2778.5\n",
      "- 선발        1 2.4212e+08 1.1484e+10 2779.3\n",
      "- 승          1 3.7616e+08 1.1618e+10 2781.1\n",
      "- WAR         1 2.1262e+09 1.3368e+10 2802.4\n",
      "- 연봉.2017.  1 3.7489e+10 4.8731e+10 2999.0\n",
      "\n",
      "Step:  AIC=2776.57\n",
      "연봉.2018. ~ 승 + 경기 + 선발 + 삼진.9 + 볼넷.9 + \n",
      "    홈런.9 + BABIP + RA9.WAR + WAR + 연봉.2017.\n",
      "\n",
      "             Df  Sum of Sq        RSS    AIC\n",
      "- RA9.WAR     1 2.7446e+07 1.1305e+10 2774.9\n",
      "- BABIP       1 6.5912e+07 1.1343e+10 2775.5\n",
      "- 삼진.9      1 7.3754e+07 1.1351e+10 2775.6\n",
      "- 볼넷.9      1 7.9195e+07 1.1356e+10 2775.6\n",
      "- 홈런.9      1 1.1893e+08 1.1396e+10 2776.2\n",
      "<none>                     1.1277e+10 2776.6\n",
      "- 경기        1 2.5407e+08 1.1531e+10 2778.0\n",
      "- 승          1 4.4284e+08 1.1720e+10 2780.4\n",
      "- 선발        1 7.1295e+08 1.1990e+10 2783.9\n",
      "- WAR         1 2.3107e+09 1.3588e+10 2802.9\n",
      "- 연봉.2017.  1 3.7540e+10 4.8818e+10 2997.3\n",
      "\n",
      "Step:  AIC=2774.94\n",
      "연봉.2018. ~ 승 + 경기 + 선발 + 삼진.9 + 볼넷.9 + \n",
      "    홈런.9 + BABIP + WAR + 연봉.2017.\n",
      "\n",
      "             Df  Sum of Sq        RSS    AIC\n",
      "- BABIP       1 5.1810e+07 1.1356e+10 2773.6\n",
      "- 삼진.9      1 7.6555e+07 1.1381e+10 2774.0\n",
      "- 볼넷.9      1 7.6805e+07 1.1381e+10 2774.0\n",
      "- 홈런.9      1 1.1502e+08 1.1420e+10 2774.5\n",
      "<none>                     1.1305e+10 2774.9\n",
      "- 경기        1 2.6687e+08 1.1572e+10 2776.5\n",
      "- 승          1 4.1542e+08 1.1720e+10 2778.4\n",
      "- 선발        1 7.2929e+08 1.2034e+10 2782.4\n",
      "- WAR         1 3.6036e+09 1.4908e+10 2815.0\n",
      "- 연봉.2017.  1 3.7533e+10 4.8837e+10 2995.4\n",
      "\n",
      "Step:  AIC=2773.63\n",
      "연봉.2018. ~ 승 + 경기 + 선발 + 삼진.9 + 볼넷.9 + \n",
      "    홈런.9 + WAR + 연봉.2017.\n",
      "\n",
      "             Df  Sum of Sq        RSS    AIC\n",
      "- 볼넷.9      1 7.2317e+07 1.1429e+10 2772.6\n",
      "- 홈런.9      1 8.5360e+07 1.1442e+10 2772.8\n",
      "<none>                     1.1356e+10 2773.6\n",
      "- 삼진.9      1 1.8112e+08 1.1538e+10 2774.0\n",
      "- 경기        1 2.2627e+08 1.1583e+10 2774.6\n",
      "- 승          1 4.2114e+08 1.1778e+10 2777.2\n",
      "- 선발        1 7.1482e+08 1.2071e+10 2780.9\n",
      "- WAR         1 3.5773e+09 1.4934e+10 2813.3\n",
      "- 연봉.2017.  1 3.7607e+10 4.8964e+10 2993.8\n",
      "\n",
      "Step:  AIC=2772.6\n",
      "연봉.2018. ~ 승 + 경기 + 선발 + 삼진.9 + 홈런.9 + \n",
      "    WAR + 연봉.2017.\n",
      "\n",
      "             Df  Sum of Sq        RSS    AIC\n",
      "- 홈런.9      1 1.2421e+08 1.1553e+10 2772.2\n",
      "- 삼진.9      1 1.4867e+08 1.1577e+10 2772.6\n",
      "<none>                     1.1429e+10 2772.6\n",
      "- 경기        1 3.5597e+08 1.1785e+10 2775.3\n",
      "- 승          1 4.5207e+08 1.1881e+10 2776.5\n",
      "- 선발        1 7.9752e+08 1.2226e+10 2780.8\n",
      "- WAR         1 3.5112e+09 1.4940e+10 2811.3\n",
      "- 연봉.2017.  1 3.7614e+10 4.9042e+10 2992.0\n",
      "\n",
      "Step:  AIC=2772.24\n",
      "연봉.2018. ~ 승 + 경기 + 선발 + 삼진.9 + WAR + 연봉.2017.\n",
      "\n",
      "             Df  Sum of Sq        RSS    AIC\n",
      "- 삼진.9      1 8.2804e+07 1.1636e+10 2771.3\n",
      "<none>                     1.1553e+10 2772.2\n",
      "- 경기        1 4.0633e+08 1.1959e+10 2775.5\n",
      "- 승          1 4.9123e+08 1.2044e+10 2776.6\n",
      "- 선발        1 7.3028e+08 1.2283e+10 2779.6\n",
      "- WAR         1 3.4409e+09 1.4994e+10 2809.9\n",
      "- 연봉.2017.  1 3.8020e+10 4.9573e+10 2991.6\n",
      "\n",
      "Step:  AIC=2771.33\n",
      "연봉.2018. ~ 승 + 경기 + 선발 + WAR + 연봉.2017.\n",
      "\n",
      "             Df  Sum of Sq        RSS    AIC\n",
      "<none>                     1.1636e+10 2771.3\n",
      "- 경기        1 4.4893e+08 1.2085e+10 2775.1\n",
      "- 승          1 5.0693e+08 1.2143e+10 2775.8\n",
      "- 선발        1 6.7070e+08 1.2306e+10 2777.8\n",
      "- WAR         1 3.3777e+09 1.5014e+10 2808.1\n",
      "- 연봉.2017.  1 3.8082e+10 4.9718e+10 2990.1\n"
     ]
    },
    {
     "data": {
      "text/plain": [
       "\n",
       "Call:\n",
       "lm(formula = 연봉.2018. ~ 승 + 경기 + 선발 + WAR + 연봉.2017., \n",
       "    data = dt)\n",
       "\n",
       "Residuals:\n",
       "   Min     1Q Median     3Q    Max \n",
       "-48420  -1976    -56   2829  48859 \n",
       "\n",
       "Coefficients:\n",
       "              Estimate Std. Error t value Pr(>|t|)    \n",
       "(Intercept) 1969.51173 1500.85489   1.312   0.1915    \n",
       "승          1174.23883  465.58916   2.522   0.0127 *  \n",
       "경기        -120.60886   50.81729  -2.373   0.0189 *  \n",
       "선발        -440.87646  151.97589  -2.901   0.0043 ** \n",
       "WAR         7220.36610 1109.09601   6.510 1.13e-09 ***\n",
       "연봉.2017.     0.88247    0.04037  21.860  < 2e-16 ***\n",
       "---\n",
       "Signif. codes:  0 ‘***’ 0.001 ‘**’ 0.01 ‘*’ 0.05 ‘.’ 0.1 ‘ ’ 1\n",
       "\n",
       "Residual standard error: 8927 on 146 degrees of freedom\n",
       "Multiple R-squared:  0.9195,\tAdjusted R-squared:  0.9168 \n",
       "F-statistic: 333.6 on 5 and 146 DF,  p-value: < 2.2e-16\n"
      ]
     },
     "metadata": {},
     "output_type": "display_data"
    }
   ],
   "source": [
    "model_back = step(model1, direction = \"backward\")\n",
    "summary(model_back)"
   ]
  },
  {
   "cell_type": "markdown",
   "id": "331d8d80-5eaa-4753-a721-99200e2ac0e6",
   "metadata": {},
   "source": [
    "연봉.2018. ~ 승 + 경기 + 선발 + WAR + 연봉.2017."
   ]
  },
  {
   "cell_type": "markdown",
   "id": "95052577-a32a-40de-9c58-48cd36bb95d2",
   "metadata": {},
   "source": [
    "### 전진"
   ]
  },
  {
   "cell_type": "code",
   "execution_count": 41,
   "id": "bd8eafa0-939d-4849-a59e-36bc41035af9",
   "metadata": {},
   "outputs": [],
   "source": [
    "m0 = lm(연봉.2018. ~ 1, data = dt)"
   ]
  },
  {
   "cell_type": "code",
   "execution_count": 43,
   "id": "fed6befe-c532-4d39-a2c1-c225930e63cc",
   "metadata": {},
   "outputs": [
    {
     "name": "stdout",
     "output_type": "stream",
     "text": [
      "Start:  AIC=3144.3\n",
      "연봉.2018. ~ 1\n",
      "\n",
      "             Df  Sum of Sq        RSS    AIC\n",
      "+ 연봉.2017.  1 1.2511e+11 1.9445e+10 2841.4\n",
      "+ WAR         1 9.0535e+10 5.4022e+10 2996.7\n",
      "+ RA9.WAR     1 7.9230e+10 6.5326e+10 3025.6\n",
      "+ 승          1 7.3377e+10 7.1179e+10 3038.6\n",
      "+ 이닝        1 6.2759e+10 8.1797e+10 3059.8\n",
      "+ 선발        1 4.5409e+10 9.9147e+10 3089.0\n",
      "+ 패          1 3.1910e+10 1.1265e+11 3108.4\n",
      "+ 볼넷.9      1 1.5661e+10 1.2890e+11 3128.9\n",
      "+ kFIP        1 1.2591e+10 1.3197e+11 3132.4\n",
      "+ FIP         1 1.1403e+10 1.3315e+11 3133.8\n",
      "+ ERA         1 6.7332e+09 1.3782e+11 3139.1\n",
      "+ 세          1 6.4461e+09 1.3811e+11 3139.4\n",
      "+ 경기        1 6.3714e+09 1.3819e+11 3139.4\n",
      "+ LOB.        1 2.2831e+09 1.4227e+11 3143.9\n",
      "+ 홈런.9      1 1.9575e+09 1.4260e+11 3144.2\n",
      "<none>                     1.4456e+11 3144.3\n",
      "+ 삼진.9      1 1.5567e+09 1.4300e+11 3144.7\n",
      "+ BABIP       1 1.5139e+09 1.4304e+11 3144.7\n",
      "+ 블론        1 1.3815e+09 1.4318e+11 3144.8\n",
      "+ 홀드        1 4.3499e+07 1.4451e+11 3146.3\n",
      "\n",
      "Step:  AIC=2841.38\n",
      "연봉.2018. ~ 연봉.2017.\n",
      "\n",
      "          Df  Sum of Sq        RSS    AIC\n",
      "+ WAR      1 7042094427 1.2403e+10 2775.0\n",
      "+ RA9.WAR  1 4958914952 1.4486e+10 2798.6\n",
      "+ 승       1 3841387936 1.5604e+10 2809.9\n",
      "+ 이닝     1 2811807174 1.6633e+10 2819.6\n",
      "+ 선발     1 2131826098 1.7313e+10 2825.7\n",
      "+ 패       1  881138122 1.8564e+10 2836.3\n",
      "<none>                  1.9445e+10 2841.4\n",
      "+ 블론     1  220224080 1.9225e+10 2841.7\n",
      "+ 세       1  171052899 1.9274e+10 2842.0\n",
      "+ kFIP     1  162536872 1.9283e+10 2842.1\n",
      "+ FIP      1  154825743 1.9290e+10 2842.2\n",
      "+ ERA      1  107350094 1.9338e+10 2842.5\n",
      "+ LOB.     1   77049296 1.9368e+10 2842.8\n",
      "+ 홈런.9   1   73957140 1.9371e+10 2842.8\n",
      "+ 볼넷.9   1   64564811 1.9381e+10 2842.9\n",
      "+ BABIP    1   56938420 1.9388e+10 2842.9\n",
      "+ 홀드     1   38023685 1.9407e+10 2843.1\n",
      "+ 삼진.9   1    5508109 1.9440e+10 2843.3\n",
      "+ 경기     1      12651 1.9445e+10 2843.4\n",
      "\n",
      "Step:  AIC=2775.03\n",
      "연봉.2018. ~ 연봉.2017. + WAR\n",
      "\n",
      "          Df Sum of Sq        RSS    AIC\n",
      "+ 패       1 213356827 1.2190e+10 2774.4\n",
      "+ kFIP     1 187694356 1.2215e+10 2774.7\n",
      "+ 선발     1 171531569 1.2232e+10 2774.9\n",
      "+ FIP      1 168772833 1.2234e+10 2774.9\n",
      "+ 볼넷.9   1 164189202 1.2239e+10 2775.0\n",
      "<none>                 1.2403e+10 2775.0\n",
      "+ 이닝     1 147039192 1.2256e+10 2775.2\n",
      "+ 홈런.9   1  51612430 1.2351e+10 2776.4\n",
      "+ 삼진.9   1  48348966 1.2355e+10 2776.4\n",
      "+ 승       1  30075743 1.2373e+10 2776.7\n",
      "+ 경기     1  27245510 1.2376e+10 2776.7\n",
      "+ BABIP    1  24181791 1.2379e+10 2776.7\n",
      "+ ERA      1  17077047 1.2386e+10 2776.8\n",
      "+ 블론     1  11153112 1.2392e+10 2776.9\n",
      "+ RA9.WAR  1   6650871 1.2396e+10 2776.9\n",
      "+ 세       1   4332494 1.2399e+10 2777.0\n",
      "+ 홀드     1   3482363 1.2400e+10 2777.0\n",
      "+ LOB.     1    660176 1.2402e+10 2777.0\n",
      "\n",
      "Step:  AIC=2774.4\n",
      "연봉.2018. ~ 연봉.2017. + WAR + 패\n",
      "\n",
      "          Df Sum of Sq        RSS    AIC\n",
      "+ kFIP     1 197383620 1.1992e+10 2773.9\n",
      "+ 승       1 180715640 1.2009e+10 2774.1\n",
      "+ FIP      1 174958135 1.2015e+10 2774.2\n",
      "<none>                 1.2190e+10 2774.4\n",
      "+ 볼넷.9   1 103300993 1.2086e+10 2775.1\n",
      "+ 홈런.9   1  71014626 1.2119e+10 2775.5\n",
      "+ 삼진.9   1  66895356 1.2123e+10 2775.6\n",
      "+ 블론     1  42172679 1.2148e+10 2775.9\n",
      "+ BABIP    1  41953578 1.2148e+10 2775.9\n",
      "+ 선발     1  31473684 1.2158e+10 2776.0\n",
      "+ ERA      1  13441234 1.2176e+10 2776.2\n",
      "+ 이닝     1   5896647 1.2184e+10 2776.3\n",
      "+ 세       1   3470456 1.2186e+10 2776.3\n",
      "+ RA9.WAR  1   2414340 1.2187e+10 2776.4\n",
      "+ LOB.     1   1712854 1.2188e+10 2776.4\n",
      "+ 경기     1   1125166 1.2189e+10 2776.4\n",
      "+ 홀드     1    189917 1.2190e+10 2776.4\n",
      "\n",
      "Step:  AIC=2773.92\n",
      "연봉.2018. ~ 연봉.2017. + WAR + 패 + kFIP\n",
      "\n",
      "          Df Sum of Sq        RSS    AIC\n",
      "+ 승       1 167413120 1.1825e+10 2773.8\n",
      "<none>                 1.1992e+10 2773.9\n",
      "+ 블론     1 128359041 1.1864e+10 2774.3\n",
      "+ 선발     1 117641927 1.1875e+10 2774.4\n",
      "+ BABIP    1  75190355 1.1917e+10 2775.0\n",
      "+ ERA      1  21818455 1.1971e+10 2775.6\n",
      "+ 홀드     1  21403854 1.1971e+10 2775.6\n",
      "+ 삼진.9   1  19275489 1.1973e+10 2775.7\n",
      "+ 경기     1  17028183 1.1975e+10 2775.7\n",
      "+ 이닝     1  13040981 1.1979e+10 2775.8\n",
      "+ FIP      1   9361041 1.1983e+10 2775.8\n",
      "+ 볼넷.9   1   8843181 1.1983e+10 2775.8\n",
      "+ 홈런.9   1   8722328 1.1984e+10 2775.8\n",
      "+ LOB.     1   4031616 1.1988e+10 2775.9\n",
      "+ RA9.WAR  1   2013063 1.1990e+10 2775.9\n",
      "+ 세       1   1445393 1.1991e+10 2775.9\n",
      "\n",
      "Step:  AIC=2773.78\n",
      "연봉.2018. ~ 연봉.2017. + WAR + 패 + kFIP + 승\n",
      "\n",
      "          Df Sum of Sq        RSS    AIC\n",
      "+ 이닝     1 215650124 1.1609e+10 2773.0\n",
      "+ 선발     1 196677432 1.1628e+10 2773.2\n",
      "<none>                 1.1825e+10 2773.8\n",
      "+ 블론     1  83011867 1.1742e+10 2774.7\n",
      "+ RA9.WAR  1  63182313 1.1762e+10 2775.0\n",
      "+ BABIP    1  45874866 1.1779e+10 2775.2\n",
      "+ 볼넷.9   1  17920561 1.1807e+10 2775.6\n",
      "+ 삼진.9   1  14563944 1.1810e+10 2775.6\n",
      "+ 홈런.9   1  12160231 1.1813e+10 2775.6\n",
      "+ ERA      1   8802604 1.1816e+10 2775.7\n",
      "+ FIP      1   8122100 1.1817e+10 2775.7\n",
      "+ 세       1   5821352 1.1819e+10 2775.7\n",
      "+ 홀드     1   5267064 1.1820e+10 2775.7\n",
      "+ LOB.     1    397579 1.1825e+10 2775.8\n",
      "+ 경기     1    331762 1.1825e+10 2775.8\n",
      "\n",
      "Step:  AIC=2772.98\n",
      "연봉.2018. ~ 연봉.2017. + WAR + 패 + kFIP + 승 + 이닝\n",
      "\n",
      "          Df Sum of Sq        RSS    AIC\n",
      "<none>                 1.1609e+10 2773.0\n",
      "+ BABIP    1  87591503 1.1522e+10 2773.8\n",
      "+ 선발     1  50413708 1.1559e+10 2774.3\n",
      "+ 블론     1  39472232 1.1570e+10 2774.5\n",
      "+ 삼진.9   1  33863019 1.1575e+10 2774.5\n",
      "+ ERA      1  33524887 1.1576e+10 2774.5\n",
      "+ FIP      1  18310110 1.1591e+10 2774.7\n",
      "+ 홈런.9   1  12031455 1.1597e+10 2774.8\n",
      "+ RA9.WAR  1  10397930 1.1599e+10 2774.8\n",
      "+ LOB.     1   3136209 1.1606e+10 2774.9\n",
      "+ 경기     1   1950014 1.1607e+10 2775.0\n",
      "+ 볼넷.9   1   1288038 1.1608e+10 2775.0\n",
      "+ 세       1    227255 1.1609e+10 2775.0\n",
      "+ 홀드     1     93003 1.1609e+10 2775.0\n"
     ]
    },
    {
     "data": {
      "text/plain": [
       "\n",
       "Call:\n",
       "lm(formula = 연봉.2018. ~ 연봉.2017. + WAR + 패 + kFIP + \n",
       "    승 + 이닝, data = dt)\n",
       "\n",
       "Residuals:\n",
       "   Min     1Q Median     3Q    Max \n",
       "-48378  -2526    133   2563  48361 \n",
       "\n",
       "Coefficients:\n",
       "              Estimate Std. Error t value Pr(>|t|)    \n",
       "(Intercept) -2.653e+03  2.664e+03  -0.996   0.3209    \n",
       "연봉.2017.   8.856e-01  4.027e-02  21.992  < 2e-16 ***\n",
       "WAR          8.003e+03  1.169e+03   6.848 1.97e-10 ***\n",
       "패          -2.708e+02  4.288e+02  -0.631   0.5287    \n",
       "kFIP         6.622e+02  4.042e+02   1.639   0.1035    \n",
       "승           1.025e+03  4.767e+02   2.150   0.0332 *  \n",
       "이닝        -7.811e+01  4.760e+01  -1.641   0.1029    \n",
       "---\n",
       "Signif. codes:  0 ‘***’ 0.001 ‘**’ 0.01 ‘*’ 0.05 ‘.’ 0.1 ‘ ’ 1\n",
       "\n",
       "Residual standard error: 8948 on 145 degrees of freedom\n",
       "Multiple R-squared:  0.9197,\tAdjusted R-squared:  0.9164 \n",
       "F-statistic: 276.8 on 6 and 145 DF,  p-value: < 2.2e-16\n"
      ]
     },
     "metadata": {},
     "output_type": "display_data"
    }
   ],
   "source": [
    "model_forward = step(\n",
    " m0,\n",
    " scope = 연봉.2018. ~연봉.2017.+승+패+세+홀드+블론+경기+선발+이닝+삼진.9+볼넷.9+홈런.9+BABIP+LOB.+ERA+RA9.WAR+FIP+kFIP+WAR,\n",
    " direction = \"forward\")\n",
    "summary(model_forward)"
   ]
  },
  {
   "cell_type": "markdown",
   "id": "58df9020-e8ca-456d-ad98-414c323bcd2b",
   "metadata": {},
   "source": [
    "연봉.2018. ~ 연봉.2017. + WAR + 패 + kFIP + \n",
    "    승 + 이닝"
   ]
  },
  {
   "cell_type": "code",
   "execution_count": null,
   "id": "2943c68b-8d51-4994-a3ab-a3e227e47b8f",
   "metadata": {},
   "outputs": [],
   "source": []
  },
  {
   "cell_type": "code",
   "execution_count": null,
   "id": "7a82ed0b-2845-4ecc-a478-2efd6b00ebe5",
   "metadata": {},
   "outputs": [],
   "source": []
  },
  {
   "cell_type": "code",
   "execution_count": null,
   "id": "bfd695c9-3670-4cc5-af8b-5c13b94fafb7",
   "metadata": {},
   "outputs": [],
   "source": []
  },
  {
   "cell_type": "markdown",
   "id": "8d5d0bbd-185f-4e87-8067-5d78b2b2b534",
   "metadata": {},
   "source": [
    "## PCA(주성분분석)"
   ]
  },
  {
   "cell_type": "markdown",
   "id": "22f7eef2-a1eb-452a-ab1b-f301803c7311",
   "metadata": {},
   "source": [
    "- 서로 상관성이 높은 변수들의 선형 결합으로 만들어 기존의 상관성이 높은 변수들을 요약, 축소하는 기법"
   ]
  },
  {
   "cell_type": "code",
   "execution_count": 83,
   "id": "4876d20d-8a6f-44de-b388-2785a500a4cd",
   "metadata": {},
   "outputs": [],
   "source": [
    "dt2 <- dt[,1:19] # 설명변수"
   ]
  },
  {
   "cell_type": "code",
   "execution_count": 84,
   "id": "d7bb4aeb-16c8-4eea-b000-8cd32ec348e5",
   "metadata": {},
   "outputs": [],
   "source": [
    "dt3 <- dt[,20] # 종속변수"
   ]
  },
  {
   "cell_type": "code",
   "execution_count": 85,
   "id": "fc4e9c19-9b88-4ef8-8ac6-d9ec6c5a2ed8",
   "metadata": {
    "tags": []
   },
   "outputs": [
    {
     "data": {
      "text/plain": [
       "Importance of components:\n",
       "                          PC1    PC2    PC3     PC4     PC5     PC6     PC7\n",
       "Standard deviation     2.6109 1.8528 1.5587 1.27735 1.07673 0.94635 0.77437\n",
       "Proportion of Variance 0.3588 0.1807 0.1279 0.08588 0.06102 0.04714 0.03156\n",
       "Cumulative Proportion  0.3588 0.5395 0.6673 0.75322 0.81424 0.86137 0.89293\n",
       "                           PC8     PC9    PC10    PC11    PC12    PC13    PC14\n",
       "Standard deviation     0.75305 0.60013 0.57118 0.51280 0.43707 0.31874 0.28648\n",
       "Proportion of Variance 0.02985 0.01896 0.01717 0.01384 0.01005 0.00535 0.00432\n",
       "Cumulative Proportion  0.92278 0.94173 0.95890 0.97274 0.98280 0.98815 0.99247\n",
       "                          PC15    PC16   PC17    PC18     PC19\n",
       "Standard deviation     0.27007 0.21161 0.1236 0.10061 0.006742\n",
       "Proportion of Variance 0.00384 0.00236 0.0008 0.00053 0.000000\n",
       "Cumulative Proportion  0.99630 0.99866 0.9995 1.00000 1.000000"
      ]
     },
     "metadata": {},
     "output_type": "display_data"
    }
   ],
   "source": [
    "procomp.result2 <- prcomp(dt2, center=T, scale=T)\n",
    "summary(procomp.result2)"
   ]
  },
  {
   "cell_type": "code",
   "execution_count": null,
   "id": "5a3992d9-e586-4630-87b7-94925617dda6",
   "metadata": {},
   "outputs": [],
   "source": []
  },
  {
   "cell_type": "code",
   "execution_count": null,
   "id": "35cd8eda-88f6-4c1b-b9a4-af1af79338e0",
   "metadata": {},
   "outputs": [],
   "source": []
  },
  {
   "cell_type": "code",
   "execution_count": 86,
   "id": "f6b9f8d0-a8e2-4483-b2a8-81372c755e5a",
   "metadata": {},
   "outputs": [],
   "source": [
    "dt.pca <- princomp(dt2, cor=TRUE)"
   ]
  },
  {
   "cell_type": "code",
   "execution_count": 87,
   "id": "ba7c80cd-7352-4de2-8a06-3c83c7250a0c",
   "metadata": {},
   "outputs": [
    {
     "data": {
      "text/plain": [
       "Importance of components:\n",
       "                          Comp.1    Comp.2    Comp.3    Comp.4     Comp.5\n",
       "Standard deviation     2.6109027 1.8528422 1.5587351 1.2773530 1.07672785\n",
       "Proportion of Variance 0.3587796 0.1806855 0.1278766 0.0858753 0.06101805\n",
       "Cumulative Proportion  0.3587796 0.5394651 0.6673417 0.7532170 0.81423504\n",
       "                           Comp.6     Comp.7     Comp.8     Comp.9    Comp.10\n",
       "Standard deviation     0.94635475 0.77436931 0.75305028 0.60012648 0.57117946\n",
       "Proportion of Variance 0.04713617 0.03156041 0.02984656 0.01895536 0.01717084\n",
       "Cumulative Proportion  0.86137122 0.89293163 0.92277819 0.94173355 0.95890439\n",
       "                          Comp.11   Comp.12    Comp.13     Comp.14     Comp.15\n",
       "Standard deviation     0.51280325 0.4370697 0.31874103 0.286476368 0.270069813\n",
       "Proportion of Variance 0.01384038 0.0100542 0.00534715 0.004319406 0.003838827\n",
       "Cumulative Proportion  0.97274477 0.9827990 0.98814612 0.992465529 0.996304355\n",
       "                           Comp.16      Comp.17      Comp.18      Comp.19\n",
       "Standard deviation     0.211606675 0.1235839263 0.1006053051 6.741848e-03\n",
       "Proportion of Variance 0.002356704 0.0008038414 0.0005327067 2.392237e-06\n",
       "Cumulative Proportion  0.998661060 0.9994649011 0.9999976078 1.000000e+00"
      ]
     },
     "metadata": {},
     "output_type": "display_data"
    }
   ],
   "source": [
    "summary(dt.pca)"
   ]
  },
  {
   "cell_type": "markdown",
   "id": "7579ed7e-f42a-40bc-a70c-c23983337f98",
   "metadata": {},
   "source": [
    "- 제 1주성분과 제6주성분까지의 누적 분산비율은 대략 85.71%로 6개의 주성분 변수를 활용해 전체 데이터의 85.71%를 설명할 수 있다."
   ]
  },
  {
   "cell_type": "code",
   "execution_count": 88,
   "id": "314dd7e0-cddb-4927-aae0-3e12f218a0d6",
   "metadata": {},
   "outputs": [
    {
     "data": {
      "image/png": "[encoded data removed]",
      "text/plain": [
       "Plot with title “dt.pca”"
      ]
     },
     "metadata": {
      "image/png": {
       "height": 420,
       "width": 420
      }
     },
     "output_type": "display_data"
    }
   ],
   "source": [
    "screeplot(dt.pca, npcs=8, type=\"lines\")"
   ]
  },
  {
   "cell_type": "markdown",
   "id": "1bddf5b3-d84f-4e71-90b4-e210c14d80a1",
   "metadata": {},
   "source": [
    "- 주성분들에 의해 설명되는 변동 비율"
   ]
  },
  {
   "cell_type": "code",
   "execution_count": 89,
   "id": "ea8605f3-4836-424e-ad32-23df8009dd52",
   "metadata": {},
   "outputs": [
    {
     "data": {
      "text/plain": [
       "\n",
       "Loadings:\n",
       "           Comp.1 Comp.2 Comp.3 Comp.4 Comp.5 Comp.6 Comp.7 Comp.8 Comp.9\n",
       "승          0.322  0.201                              0.105              \n",
       "패          0.272  0.198         0.108  0.236 -0.108        -0.477 -0.294\n",
       "세                -0.202  0.289  0.126 -0.512 -0.426        -0.192  0.360\n",
       "홀드              -0.253  0.336  0.141  0.417  0.343  0.154  0.296       \n",
       "블론              -0.274  0.396  0.204        -0.208  0.116 -0.183 -0.354\n",
       "경기        0.191 -0.220  0.372  0.222  0.227                       0.236\n",
       "선발        0.261  0.350 -0.123                             -0.250 -0.105\n",
       "이닝        0.329  0.235                0.109               -0.134       \n",
       "삼진.9                    0.393 -0.404 -0.229  0.455 -0.171 -0.204 -0.211\n",
       "볼넷.9     -0.250  0.116               -0.236  0.289  0.752 -0.178       \n",
       "홈런.9     -0.173  0.286  0.276  0.268         0.154 -0.535              \n",
       "BABIP      -0.142  0.207  0.292 -0.444                              0.146\n",
       "LOB.        0.131 -0.209 -0.230  0.228 -0.416  0.495 -0.174              \n",
       "ERA        -0.235  0.294  0.288 -0.156        -0.133  0.106         0.107\n",
       "RA9.WAR     0.327  0.176               -0.181  0.124         0.119  0.391\n",
       "FIP        -0.259  0.284         0.378                                   \n",
       "kFIP       -0.257  0.268         0.423                                   \n",
       "WAR         0.318  0.213               -0.126         0.113  0.165  0.235\n",
       "연봉.2017.  0.252  0.130  0.103        -0.296 -0.181         0.629 -0.535\n",
       "           Comp.10 Comp.11 Comp.12 Comp.13 Comp.14 Comp.15 Comp.16 Comp.17\n",
       "승                  0.383   0.237   0.542   0.550   0.102                 \n",
       "패                 -0.478  -0.137           0.321  -0.270  -0.229         \n",
       "세         -0.134  -0.328           0.242           0.206   0.105         \n",
       "홀드        0.128  -0.339  -0.335   0.264  -0.113   0.240                 \n",
       "블론        0.363   0.513  -0.251  -0.150  -0.121                         \n",
       "경기       -0.183           0.560  -0.322          -0.240                 \n",
       "선발                                0.154  -0.463   0.328   0.249         \n",
       "이닝                        0.213          -0.370           0.151         \n",
       "삼진.9     -0.380                                                   0.376 \n",
       "볼넷.9     -0.105           0.128                                  -0.359 \n",
       "홈런.9                                                             -0.614 \n",
       "BABIP       0.665  -0.171   0.296  -0.149           0.187                 \n",
       "LOB.        0.414  -0.155           0.112          -0.328   0.216         \n",
       "ERA                        -0.141   0.336  -0.206  -0.663   0.296         \n",
       "RA9.WAR             0.123  -0.243          -0.247  -0.163  -0.683         \n",
       "FIP                                                                 0.323 \n",
       "kFIP                                                                0.492 \n",
       "WAR                        -0.398  -0.499   0.305           0.473         \n",
       "연봉.2017.         -0.229   0.174                                         \n",
       "           Comp.18 Comp.19\n",
       "승                        \n",
       "패                        \n",
       "세                        \n",
       "홀드                      \n",
       "블론                      \n",
       "경기        0.318         \n",
       "선발        0.553         \n",
       "이닝       -0.758         \n",
       "삼진.9                    \n",
       "볼넷.9                    \n",
       "홈런.9             -0.125 \n",
       "BABIP                     \n",
       "LOB.                      \n",
       "ERA                       \n",
       "RA9.WAR                   \n",
       "FIP                 0.754 \n",
       "kFIP               -0.641 \n",
       "WAR                       \n",
       "연봉.2017.                \n",
       "\n",
       "               Comp.1 Comp.2 Comp.3 Comp.4 Comp.5 Comp.6 Comp.7 Comp.8 Comp.9\n",
       "SS loadings     1.000  1.000  1.000  1.000  1.000  1.000  1.000  1.000  1.000\n",
       "Proportion Var  0.053  0.053  0.053  0.053  0.053  0.053  0.053  0.053  0.053\n",
       "Cumulative Var  0.053  0.105  0.158  0.211  0.263  0.316  0.368  0.421  0.474\n",
       "               Comp.10 Comp.11 Comp.12 Comp.13 Comp.14 Comp.15 Comp.16 Comp.17\n",
       "SS loadings      1.000   1.000   1.000   1.000   1.000   1.000   1.000   1.000\n",
       "Proportion Var   0.053   0.053   0.053   0.053   0.053   0.053   0.053   0.053\n",
       "Cumulative Var   0.526   0.579   0.632   0.684   0.737   0.789   0.842   0.895\n",
       "               Comp.18 Comp.19\n",
       "SS loadings      1.000   1.000\n",
       "Proportion Var   0.053   0.053\n",
       "Cumulative Var   0.947   1.000"
      ]
     },
     "metadata": {},
     "output_type": "display_data"
    }
   ],
   "source": [
    "loadings(dt.pca)"
   ]
  },
  {
   "cell_type": "code",
   "execution_count": null,
   "id": "81442141-25ff-4a99-ad90-74b3fe50e24e",
   "metadata": {},
   "outputs": [],
   "source": []
  },
  {
   "cell_type": "markdown",
   "id": "ace600da-d1f1-472f-bd90-879533c06afc",
   "metadata": {},
   "source": [
    "# 능형회귀"
   ]
  },
  {
   "cell_type": "code",
   "execution_count": 90,
   "id": "22bfea5f-5f68-4bca-9713-5350838b37cb",
   "metadata": {},
   "outputs": [],
   "source": [
    "rfit <- lm.ridge(연봉.2018.~., dt, lambda=seq(0.01,20,0.1))"
   ]
  },
  {
   "cell_type": "code",
   "execution_count": 91,
   "id": "1d944015-6c04-4eac-b19b-8ce95ca77118",
   "metadata": {},
   "outputs": [
    {
     "name": "stdout",
     "output_type": "stream",
     "text": [
      "modified HKB estimator is 1.552458 \n",
      "modified L-W estimator is 1.638756 \n",
      "smallest value of GCV  at 4.11 \n"
     ]
    }
   ],
   "source": [
    "select(rfit) "
   ]
  },
  {
   "cell_type": "code",
   "execution_count": 92,
   "id": "096a8cf4-e0ae-40f8-9c7c-c821fb1aecb7",
   "metadata": {},
   "outputs": [
    {
     "data": {
      "text/html": [
       "<style>\n",
       ".dl-inline {width: auto; margin:0; padding: 0}\n",
       ".dl-inline>dt, .dl-inline>dd {float: none; width: auto; display: inline-block}\n",
       ".dl-inline>dt::after {content: \":\\0020\"; padding-right: .5ex}\n",
       ".dl-inline>dt:not(:first-of-type) {padding-left: .5ex}\n",
       "</style><dl class=dl-inline><dt>승</dt><dd>3659.317</dd><dt>패</dt><dd>-737.614</dd><dt>세</dt><dd>-93.401</dd><dt>홀드</dt><dd>-155.777</dd><dt>블론</dt><dd>859.526</dd><dt>경기</dt><dd>-1932.839</dd><dt>선발</dt><dd>-3234.453</dd><dt>이닝</dt><dd>441.579</dd><dt>삼진.9</dt><dd>-934.786</dd><dt>볼넷.9</dt><dd>1047.402</dd><dt>홈런.9</dt><dd>1328.778</dd><dt>BABIP</dt><dd>-755.31</dd><dt>LOB.</dt><dd>-578.691</dd><dt>ERA</dt><dd>-288.368</dd><dt>RA9.WAR</dt><dd>516.127</dd><dt>FIP</dt><dd>-176.744</dd><dt>kFIP</dt><dd>-420.71</dd><dt>WAR</dt><dd>9904.312</dd><dt>연봉.2017.</dt><dd>21113.076</dd></dl>\n"
      ],
      "text/latex": [
       "\\begin{description*}\n",
       "\\item[승] 3659.317\n",
       "\\item[패] -737.614\n",
       "\\item[세] -93.401\n",
       "\\item[홀드] -155.777\n",
       "\\item[블론] 859.526\n",
       "\\item[경기] -1932.839\n",
       "\\item[선발] -3234.453\n",
       "\\item[이닝] 441.579\n",
       "\\item[삼진.9] -934.786\n",
       "\\item[볼넷.9] 1047.402\n",
       "\\item[홈런.9] 1328.778\n",
       "\\item[BABIP] -755.31\n",
       "\\item[LOB.] -578.691\n",
       "\\item[ERA] -288.368\n",
       "\\item[RA9.WAR] 516.127\n",
       "\\item[FIP] -176.744\n",
       "\\item[kFIP] -420.71\n",
       "\\item[WAR] 9904.312\n",
       "\\item[연봉.2017.] 21113.076\n",
       "\\end{description*}\n"
      ],
      "text/markdown": [
       "승\n",
       ":   3659.317패\n",
       ":   -737.614세\n",
       ":   -93.401홀드\n",
       ":   -155.777블론\n",
       ":   859.526경기\n",
       ":   -1932.839선발\n",
       ":   -3234.453이닝\n",
       ":   441.579삼진.9\n",
       ":   -934.786볼넷.9\n",
       ":   1047.402홈런.9\n",
       ":   1328.778BABIP\n",
       ":   -755.31LOB.\n",
       ":   -578.691ERA\n",
       ":   -288.368RA9.WAR\n",
       ":   516.127FIP\n",
       ":   -176.744kFIP\n",
       ":   -420.71WAR\n",
       ":   9904.312연봉.2017.\n",
       ":   21113.076\n",
       "\n"
      ],
      "text/plain": [
       "        승         패         세       홀드       블론       경기       선발 \n",
       "  3659.317   -737.614    -93.401   -155.777    859.526  -1932.839  -3234.453 \n",
       "      이닝     삼진.9     볼넷.9     홈런.9      BABIP       LOB.        ERA \n",
       "   441.579   -934.786   1047.402   1328.778   -755.310   -578.691   -288.368 \n",
       "   RA9.WAR        FIP       kFIP        WAR 연봉.2017. \n",
       "   516.127   -176.744   -420.710   9904.312  21113.076 "
      ]
     },
     "metadata": {},
     "output_type": "display_data"
    }
   ],
   "source": [
    "round(rfit$coef[,rfit$lam=='4.11'],3)"
   ]
  },
  {
   "cell_type": "code",
   "execution_count": 93,
   "id": "77028c5a-628d-45ee-b77c-2367c6460341",
   "metadata": {},
   "outputs": [
    {
     "data": {
      "image/png": "[encoded data removed]",
      "text/plain": [
       "plot without title"
      ]
     },
     "metadata": {
      "image/png": {
       "height": 420,
       "width": 420
      }
     },
     "output_type": "display_data"
    }
   ],
   "source": [
    "matplot(rfit$lambda, t(rfit$coef), type='l',\n",
    "        xlab=expression(lambda),\n",
    "        ylab=expression(bold(beta)(lambda)), lwd=2) \n",
    "abline(h=0, col=\"grey\", lty=2)\n",
    "abline(v=14.91, col=\"black\", lty=2)"
   ]
  },
  {
   "cell_type": "markdown",
   "id": "76d8f659-4e8d-48f4-8905-918efb6da3c0",
   "metadata": {},
   "source": [
    "## glm"
   ]
  },
  {
   "cell_type": "code",
   "execution_count": 94,
   "id": "c6f1124b-2194-4f87-83f3-e2d49469aff4",
   "metadata": {},
   "outputs": [],
   "source": [
    "\n",
    "X <- model.matrix(연봉.2018.~., dt)[,-1] \n",
    "y <- dt$연봉.2018."
   ]
  },
  {
   "cell_type": "code",
   "execution_count": 95,
   "id": "6b7555a2-a047-4333-a2ad-82c621a4f158",
   "metadata": {},
   "outputs": [
    {
     "data": {
      "text/html": [
       "<table class=\"dataframe\">\n",
       "<caption>A matrix: 6 × 19 of type dbl</caption>\n",
       "<thead>\n",
       "\t<tr><th></th><th scope=col>승</th><th scope=col>패</th><th scope=col>세</th><th scope=col>홀드</th><th scope=col>블론</th><th scope=col>경기</th><th scope=col>선발</th><th scope=col>이닝</th><th scope=col>삼진.9</th><th scope=col>볼넷.9</th><th scope=col>홈런.9</th><th scope=col>BABIP</th><th scope=col>LOB.</th><th scope=col>ERA</th><th scope=col>RA9.WAR</th><th scope=col>FIP</th><th scope=col>kFIP</th><th scope=col>WAR</th><th scope=col>연봉.2017.</th></tr>\n",
       "</thead>\n",
       "<tbody>\n",
       "\t<tr><th scope=row>1</th><td>16</td><td> 7</td><td>0</td><td>0</td><td>0</td><td>30</td><td>30</td><td>190.0</td><td>8.95</td><td>2.13</td><td>0.76</td><td>0.342</td><td>73.7</td><td>3.60</td><td>6.91</td><td>3.69</td><td>3.44</td><td>6.62</td><td> 85000</td></tr>\n",
       "\t<tr><th scope=row>2</th><td>11</td><td>11</td><td>1</td><td>0</td><td>0</td><td>30</td><td>29</td><td>185.1</td><td>7.43</td><td>1.85</td><td>0.53</td><td>0.319</td><td>67.1</td><td>3.88</td><td>6.80</td><td>3.52</td><td>3.41</td><td>6.08</td><td> 50000</td></tr>\n",
       "\t<tr><th scope=row>3</th><td>20</td><td> 6</td><td>0</td><td>0</td><td>0</td><td>31</td><td>31</td><td>193.1</td><td>7.36</td><td>2.09</td><td>0.79</td><td>0.332</td><td>72.1</td><td>3.44</td><td>6.54</td><td>3.94</td><td>3.82</td><td>5.64</td><td>150000</td></tr>\n",
       "\t<tr><th scope=row>4</th><td>10</td><td> 7</td><td>0</td><td>0</td><td>0</td><td>28</td><td>28</td><td>175.2</td><td>8.04</td><td>1.95</td><td>1.02</td><td>0.298</td><td>75.0</td><td>3.43</td><td>6.11</td><td>4.20</td><td>4.03</td><td>4.63</td><td>100000</td></tr>\n",
       "\t<tr><th scope=row>5</th><td>13</td><td> 7</td><td>0</td><td>0</td><td>0</td><td>30</td><td>30</td><td>187.1</td><td>7.49</td><td>2.11</td><td>0.91</td><td>0.323</td><td>74.1</td><td>3.80</td><td>6.13</td><td>4.36</td><td>4.31</td><td>4.38</td><td> 85000</td></tr>\n",
       "\t<tr><th scope=row>6</th><td> 8</td><td>10</td><td>0</td><td>0</td><td>0</td><td>26</td><td>26</td><td>160.0</td><td>7.42</td><td>1.74</td><td>1.12</td><td>0.289</td><td>76.1</td><td>3.04</td><td>6.52</td><td>4.42</td><td>4.32</td><td>3.94</td><td> 35000</td></tr>\n",
       "</tbody>\n",
       "</table>\n"
      ],
      "text/latex": [
       "A matrix: 6 × 19 of type dbl\n",
       "\\begin{tabular}{r|lllllllllllllllllll}\n",
       "  & 승 & 패 & 세 & 홀드 & 블론 & 경기 & 선발 & 이닝 & 삼진.9 & 볼넷.9 & 홈런.9 & BABIP & LOB. & ERA & RA9.WAR & FIP & kFIP & WAR & 연봉.2017.\\\\\n",
       "\\hline\n",
       "\t1 & 16 &  7 & 0 & 0 & 0 & 30 & 30 & 190.0 & 8.95 & 2.13 & 0.76 & 0.342 & 73.7 & 3.60 & 6.91 & 3.69 & 3.44 & 6.62 &  85000\\\\\n",
       "\t2 & 11 & 11 & 1 & 0 & 0 & 30 & 29 & 185.1 & 7.43 & 1.85 & 0.53 & 0.319 & 67.1 & 3.88 & 6.80 & 3.52 & 3.41 & 6.08 &  50000\\\\\n",
       "\t3 & 20 &  6 & 0 & 0 & 0 & 31 & 31 & 193.1 & 7.36 & 2.09 & 0.79 & 0.332 & 72.1 & 3.44 & 6.54 & 3.94 & 3.82 & 5.64 & 150000\\\\\n",
       "\t4 & 10 &  7 & 0 & 0 & 0 & 28 & 28 & 175.2 & 8.04 & 1.95 & 1.02 & 0.298 & 75.0 & 3.43 & 6.11 & 4.20 & 4.03 & 4.63 & 100000\\\\\n",
       "\t5 & 13 &  7 & 0 & 0 & 0 & 30 & 30 & 187.1 & 7.49 & 2.11 & 0.91 & 0.323 & 74.1 & 3.80 & 6.13 & 4.36 & 4.31 & 4.38 &  85000\\\\\n",
       "\t6 &  8 & 10 & 0 & 0 & 0 & 26 & 26 & 160.0 & 7.42 & 1.74 & 1.12 & 0.289 & 76.1 & 3.04 & 6.52 & 4.42 & 4.32 & 3.94 &  35000\\\\\n",
       "\\end{tabular}\n"
      ],
      "text/markdown": [
       "\n",
       "A matrix: 6 × 19 of type dbl\n",
       "\n",
       "| <!--/--> | 승 | 패 | 세 | 홀드 | 블론 | 경기 | 선발 | 이닝 | 삼진.9 | 볼넷.9 | 홈런.9 | BABIP | LOB. | ERA | RA9.WAR | FIP | kFIP | WAR | 연봉.2017. |\n",
       "|---|---|---|---|---|---|---|---|---|---|---|---|---|---|---|---|---|---|---|---|\n",
       "| 1 | 16 |  7 | 0 | 0 | 0 | 30 | 30 | 190.0 | 8.95 | 2.13 | 0.76 | 0.342 | 73.7 | 3.60 | 6.91 | 3.69 | 3.44 | 6.62 |  85000 |\n",
       "| 2 | 11 | 11 | 1 | 0 | 0 | 30 | 29 | 185.1 | 7.43 | 1.85 | 0.53 | 0.319 | 67.1 | 3.88 | 6.80 | 3.52 | 3.41 | 6.08 |  50000 |\n",
       "| 3 | 20 |  6 | 0 | 0 | 0 | 31 | 31 | 193.1 | 7.36 | 2.09 | 0.79 | 0.332 | 72.1 | 3.44 | 6.54 | 3.94 | 3.82 | 5.64 | 150000 |\n",
       "| 4 | 10 |  7 | 0 | 0 | 0 | 28 | 28 | 175.2 | 8.04 | 1.95 | 1.02 | 0.298 | 75.0 | 3.43 | 6.11 | 4.20 | 4.03 | 4.63 | 100000 |\n",
       "| 5 | 13 |  7 | 0 | 0 | 0 | 30 | 30 | 187.1 | 7.49 | 2.11 | 0.91 | 0.323 | 74.1 | 3.80 | 6.13 | 4.36 | 4.31 | 4.38 |  85000 |\n",
       "| 6 |  8 | 10 | 0 | 0 | 0 | 26 | 26 | 160.0 | 7.42 | 1.74 | 1.12 | 0.289 | 76.1 | 3.04 | 6.52 | 4.42 | 4.32 | 3.94 |  35000 |\n",
       "\n"
      ],
      "text/plain": [
       "  승 패 세 홀드 블론 경기 선발 이닝  삼진.9 볼넷.9 홈런.9 BABIP LOB. ERA \n",
       "1 16  7 0  0    0    30   30   190.0 8.95   2.13   0.76   0.342 73.7 3.60\n",
       "2 11 11 1  0    0    30   29   185.1 7.43   1.85   0.53   0.319 67.1 3.88\n",
       "3 20  6 0  0    0    31   31   193.1 7.36   2.09   0.79   0.332 72.1 3.44\n",
       "4 10  7 0  0    0    28   28   175.2 8.04   1.95   1.02   0.298 75.0 3.43\n",
       "5 13  7 0  0    0    30   30   187.1 7.49   2.11   0.91   0.323 74.1 3.80\n",
       "6  8 10 0  0    0    26   26   160.0 7.42   1.74   1.12   0.289 76.1 3.04\n",
       "  RA9.WAR FIP  kFIP WAR  연봉.2017.\n",
       "1 6.91    3.69 3.44 6.62  85000    \n",
       "2 6.80    3.52 3.41 6.08  50000    \n",
       "3 6.54    3.94 3.82 5.64 150000    \n",
       "4 6.11    4.20 4.03 4.63 100000    \n",
       "5 6.13    4.36 4.31 4.38  85000    \n",
       "6 6.52    4.42 4.32 3.94  35000    "
      ]
     },
     "metadata": {},
     "output_type": "display_data"
    }
   ],
   "source": [
    "head(X)"
   ]
  },
  {
   "cell_type": "code",
   "execution_count": 96,
   "id": "3e66ab82-9b06-4b50-a594-070d471ecf47",
   "metadata": {},
   "outputs": [
    {
     "data": {
      "image/png": "[encoded data removed]",
      "text/plain": [
       "plot without title"
      ]
     },
     "metadata": {
      "image/png": {
       "height": 420,
       "width": 420
      }
     },
     "output_type": "display_data"
    }
   ],
   "source": [
    "ridge.fit<-glmnet(X,y,alpha=0, lambda=seq(0,100,10)) ##ridge : alpha=0 \n",
    "plot(ridge.fit, label=TRUE)\n",
    "abline(h=0, col=\"grey\", lty=2)"
   ]
  },
  {
   "cell_type": "code",
   "execution_count": 97,
   "id": "4d785bf9-a5a5-44d9-956a-aaf7ccd3bc3b",
   "metadata": {},
   "outputs": [
    {
     "data": {
      "text/plain": [
       "          Length Class     Mode   \n",
       "a0         11    -none-    numeric\n",
       "beta      209    dgCMatrix S4     \n",
       "df         11    -none-    numeric\n",
       "dim         2    -none-    numeric\n",
       "lambda     11    -none-    numeric\n",
       "dev.ratio  11    -none-    numeric\n",
       "nulldev     1    -none-    numeric\n",
       "npasses     1    -none-    numeric\n",
       "jerr        1    -none-    numeric\n",
       "offset      1    -none-    logical\n",
       "call        5    -none-    call   \n",
       "nobs        1    -none-    numeric"
      ]
     },
     "metadata": {},
     "output_type": "display_data"
    }
   ],
   "source": [
    "summary(ridge.fit)"
   ]
  },
  {
   "cell_type": "code",
   "execution_count": 98,
   "id": "dbf97f85-9110-4325-927d-31e71743372a",
   "metadata": {},
   "outputs": [
    {
     "name": "stderr",
     "output_type": "stream",
     "text": [
      "Warning message:\n",
      "“Option grouped=FALSE enforced in cv.glmnet, since < 3 observations per fold”\n"
     ]
    }
   ],
   "source": [
    "cv.fit<-cv.glmnet(X,y,alpha=0,nfolds=length(y))"
   ]
  },
  {
   "cell_type": "code",
   "execution_count": 99,
   "id": "c4d73dba-7665-4a7d-80dc-3e1d3e84cfe3",
   "metadata": {},
   "outputs": [
    {
     "data": {
      "text/plain": [
       "\n",
       "Call:  cv.glmnet(x = X, y = y, nfolds = length(y), alpha = 0) \n",
       "\n",
       "Measure: Mean-Squared Error \n",
       "\n",
       "    Lambda Index   Measure       SE Nonzero\n",
       "min   2869   100 117171048 49876335      19\n",
       "1se  12711    84 166795504 78214517      19"
      ]
     },
     "metadata": {},
     "output_type": "display_data"
    }
   ],
   "source": [
    "cv.fit"
   ]
  },
  {
   "cell_type": "code",
   "execution_count": 100,
   "id": "6aa76f69-5930-4b3b-bfd2-b38744640b98",
   "metadata": {},
   "outputs": [
    {
     "data": {
      "image/png": "[encoded data removed]",
      "text/plain": [
       "plot without title"
      ]
     },
     "metadata": {
      "image/png": {
       "height": 420,
       "width": 420
      }
     },
     "output_type": "display_data"
    }
   ],
   "source": [
    "plot(cv.fit)"
   ]
  },
  {
   "cell_type": "markdown",
   "id": "d89c5032-f0f3-4761-a59f-98501dd4de64",
   "metadata": {},
   "source": [
    "# 예측"
   ]
  },
  {
   "cell_type": "markdown",
   "id": "28439a3d-f7e6-486c-8dd9-6286c7d348fa",
   "metadata": {},
   "source": [
    "WAR이라는 변수가 다른 설명변수의 곱으로 이루어진 변수니까, 인터넷에서 나오는 WAR계산법에 들어가는 변수들을 제거해보자.(근데 인터넷에 말이 다 다름 ㅎㅎ)"
   ]
  },
  {
   "cell_type": "markdown",
   "id": "005a7059-f2dc-462f-9f2d-3ffcc41cadf5",
   "metadata": {},
   "source": [
    "ERA, 이닝수, FIP는 일단 빼야함."
   ]
  },
  {
   "cell_type": "markdown",
   "id": "9b5588c3-20b4-444b-9817-ddc59767b098",
   "metadata": {},
   "source": [
    "FIP자체가 홈런, 삼진, 볼넷 등의 값인데.."
   ]
  },
  {
   "cell_type": "markdown",
   "id": "aafb98fa-7e1c-40fe-91fb-fc459256c323",
   "metadata": {},
   "source": [
    "step, 전진: 연봉.2017.이랑 kFIP, 볼넷.9, 삼진.9를ㄴ넣어보자."
   ]
  },
  {
   "cell_type": "markdown",
   "id": "c6943c44-d748-47c6-907b-9b35c0c6ca42",
   "metadata": {},
   "source": [
    "연봉.2018. ~ 연봉.2017. + WAR + kFIP + 승 + \n",
    "    이닝"
   ]
  },
  {
   "cell_type": "markdown",
   "id": "cd99f622-6678-40a5-8dbd-bc6fae683dcb",
   "metadata": {},
   "source": [
    "후진: 연봉.2018. ~ 연봉.2017. + WAR + 패 + kFIP + \n",
    "    승 + 이닝"
   ]
  },
  {
   "cell_type": "markdown",
   "id": "7e0eeafd-66ad-457d-ad16-341062568114",
   "metadata": {},
   "source": [
    "연봉.2018. ~ 연봉.2017. + WAR + 패 + kFIP + \n",
    "    승 + 이닝"
   ]
  },
  {
   "cell_type": "code",
   "execution_count": 39,
   "id": "1a38724f-4f11-44a0-903a-eefa46fa871f",
   "metadata": {},
   "outputs": [
    {
     "data": {
      "text/plain": [
       "\n",
       "Call:\n",
       "lm(formula = 연봉.2018. ~ 연봉.2017. + kFIP + 볼넷.9 + \n",
       "    삼진.9, data = dt)\n",
       "\n",
       "Residuals:\n",
       "   Min     1Q Median     3Q    Max \n",
       "-65987  -2665    -72   1406  61788 \n",
       "\n",
       "Coefficients:\n",
       "              Estimate Std. Error t value Pr(>|t|)    \n",
       "(Intercept) 3604.44247 4650.08368   0.775    0.440    \n",
       "연봉.2017.     1.13680    0.03994  28.461   <2e-16 ***\n",
       "kFIP        -552.00216  675.96374  -0.817    0.415    \n",
       "볼넷.9       -19.23606  556.28780  -0.035    0.972    \n",
       "삼진.9       -42.36062  381.57885  -0.111    0.912    \n",
       "---\n",
       "Signif. codes:  0 ‘***’ 0.001 ‘**’ 0.01 ‘*’ 0.05 ‘.’ 0.1 ‘ ’ 1\n",
       "\n",
       "Residual standard error: 11450 on 147 degrees of freedom\n",
       "Multiple R-squared:  0.8666,\tAdjusted R-squared:  0.863 \n",
       "F-statistic: 238.8 on 4 and 147 DF,  p-value: < 2.2e-16\n"
      ]
     },
     "metadata": {},
     "output_type": "display_data"
    }
   ],
   "source": [
    "model3 <- lm(연봉.2018. ~ 연봉.2017.+kFIP+볼넷.9+삼진.9, dt)\n",
    "summary(model3)"
   ]
  },
  {
   "cell_type": "code",
   "execution_count": null,
   "id": "c45e2561-a612-4768-bbeb-3ba165116da8",
   "metadata": {},
   "outputs": [],
   "source": []
  },
  {
   "cell_type": "code",
   "execution_count": 90,
   "id": "5f158ce2-83cd-40c3-bda8-767c13af2d25",
   "metadata": {},
   "outputs": [],
   "source": [
    "X <- data.frame(FIP = dt$\"FIP\",\n",
    "                        WAR = dt$\"WAR\",\n",
    "                        `볼넷/9` = dt$\"볼넷.9\",\n",
    "                        `삼진/9` = dt$\"삼진.9\",\n",
    "                        `연봉.2017.` = dt$\"연봉.2017.\")"
   ]
  },
  {
   "cell_type": "code",
   "execution_count": 91,
   "id": "e30903ad-a046-4123-bb06-f49041ef4bac",
   "metadata": {},
   "outputs": [],
   "source": [
    "y <- dt$\"연봉.2018.\""
   ]
  },
  {
   "cell_type": "code",
   "execution_count": 92,
   "id": "65b7cf59-d003-4b3c-b6f0-79e75cae8b74",
   "metadata": {},
   "outputs": [],
   "source": [
    "set.seed(19)\n",
    "train_indices <- createDataPartition(y, p = 0.8, list = FALSE)\n",
    "X_train <- X[train_indices, ]\n",
    "X_test <- X[-train_indices, ]\n",
    "y_train <- y[train_indices]\n",
    "y_test <- y[-train_indices]"
   ]
  },
  {
   "cell_type": "code",
   "execution_count": 93,
   "id": "8773597f-86b8-4e2f-864b-743614e84c83",
   "metadata": {},
   "outputs": [],
   "source": [
    "model <- lm(y_train ~ ., data = cbind(X_train, y_train))"
   ]
  },
  {
   "cell_type": "code",
   "execution_count": 94,
   "id": "986fc117-c741-4507-8bb5-8f2629a3229e",
   "metadata": {},
   "outputs": [
    {
     "data": {
      "text/plain": [
       "\n",
       "Call:\n",
       "lm(formula = y_train ~ ., data = cbind(X_train, y_train))\n",
       "\n",
       "Residuals:\n",
       "   Min     1Q Median     3Q    Max \n",
       "-49900  -1887    574   2975  49836 \n",
       "\n",
       "Coefficients:\n",
       "              Estimate Std. Error t value Pr(>|t|)    \n",
       "(Intercept) -1.261e+03  4.037e+03  -0.312    0.755    \n",
       "FIP          1.395e+02  6.349e+02   0.220    0.826    \n",
       "WAR          8.148e+03  9.161e+02   8.894 8.65e-15 ***\n",
       "볼넷.9       5.772e+02  5.144e+02   1.122    0.264    \n",
       "삼진.9      -4.929e+02  3.528e+02  -1.397    0.165    \n",
       "연봉.2017.   9.156e-01  4.691e-02  19.518  < 2e-16 ***\n",
       "---\n",
       "Signif. codes:  0 ‘***’ 0.001 ‘**’ 0.01 ‘*’ 0.05 ‘.’ 0.1 ‘ ’ 1\n",
       "\n",
       "Residual standard error: 9667 on 117 degrees of freedom\n",
       "Multiple R-squared:  0.9104,\tAdjusted R-squared:  0.9065 \n",
       "F-statistic: 237.7 on 5 and 117 DF,  p-value: < 2.2e-16\n"
      ]
     },
     "metadata": {},
     "output_type": "display_data"
    }
   ],
   "source": [
    "summary(model)"
   ]
  },
  {
   "cell_type": "markdown",
   "id": "ec9f76bf-20d2-433e-8f7c-da5268425b3a",
   "metadata": {},
   "source": [
    "### ㅎ므"
   ]
  },
  {
   "cell_type": "markdown",
   "id": "14476d90-0d2b-4bb8-8172-0112bfeff5aa",
   "metadata": {},
   "source": []
  },
  {
   "cell_type": "code",
   "execution_count": 95,
   "id": "816aaa5a-e571-43da-93c7-af958b43cb00",
   "metadata": {},
   "outputs": [],
   "source": [
    "X <- data.frame(FIP = picher$\"FIP\",\n",
    "                        WAR = picher$\"WAR\",\n",
    "                        `볼넷/9` = picher$\"볼넷.9\",\n",
    "                        `삼진/9` = picher$\"삼진.9\",\n",
    "                        `연봉.2017.` = picher$\"연봉.2017.\")"
   ]
  },
  {
   "cell_type": "code",
   "execution_count": 96,
   "id": "b7b357d0-eeae-437b-9b26-e3df8524d9de",
   "metadata": {},
   "outputs": [],
   "source": [
    "predict_2018_salary <- predict(model, newdata = X)"
   ]
  },
  {
   "cell_type": "code",
   "execution_count": 97,
   "id": "3563a69c-5d56-42d7-8dc2-4daea27b7c66",
   "metadata": {},
   "outputs": [],
   "source": [
    "picher <- cbind(picher, new_col = predict_2018_salary)"
   ]
  },
  {
   "cell_type": "code",
   "execution_count": 100,
   "id": "1e93f8e8-1a40-4c98-bc5c-a0c66b18784c",
   "metadata": {},
   "outputs": [
    {
     "data": {
      "text/html": [
       "<table class=\"dataframe\">\n",
       "<caption>A data.frame: 6 × 24</caption>\n",
       "<thead>\n",
       "\t<tr><th></th><th scope=col>선수명</th><th scope=col>팀명</th><th scope=col>승</th><th scope=col>패</th><th scope=col>세</th><th scope=col>홀드</th><th scope=col>블론</th><th scope=col>경기</th><th scope=col>선발</th><th scope=col>이닝</th><th scope=col>⋯</th><th scope=col>LOB.</th><th scope=col>ERA</th><th scope=col>RA9.WAR</th><th scope=col>FIP</th><th scope=col>kFIP</th><th scope=col>WAR</th><th scope=col>연봉.2018.</th><th scope=col>연봉.2017.</th><th scope=col>new_col</th><th scope=col>new_col.1</th></tr>\n",
       "\t<tr><th></th><th scope=col>&lt;chr&gt;</th><th scope=col>&lt;chr&gt;</th><th scope=col>&lt;int&gt;</th><th scope=col>&lt;int&gt;</th><th scope=col>&lt;int&gt;</th><th scope=col>&lt;int&gt;</th><th scope=col>&lt;int&gt;</th><th scope=col>&lt;int&gt;</th><th scope=col>&lt;int&gt;</th><th scope=col>&lt;dbl&gt;</th><th scope=col>⋯</th><th scope=col>&lt;dbl&gt;</th><th scope=col>&lt;dbl&gt;</th><th scope=col>&lt;dbl&gt;</th><th scope=col>&lt;dbl&gt;</th><th scope=col>&lt;dbl&gt;</th><th scope=col>&lt;dbl&gt;</th><th scope=col>&lt;int&gt;</th><th scope=col>&lt;int&gt;</th><th scope=col>&lt;dbl&gt;</th><th scope=col>&lt;dbl&gt;</th></tr>\n",
       "</thead>\n",
       "<tbody>\n",
       "\t<tr><th scope=row>1</th><td>켈리    </td><td>SK  </td><td>16</td><td> 7</td><td>0</td><td>0</td><td>0</td><td>30</td><td>30</td><td>190.0</td><td>⋯</td><td>73.7</td><td>3.60</td><td>6.91</td><td>3.69</td><td>3.44</td><td>6.62</td><td>140000</td><td> 85000</td><td> 63003.59</td><td>127838.00</td></tr>\n",
       "\t<tr><th scope=row>2</th><td>소사    </td><td>LG  </td><td>11</td><td>11</td><td>1</td><td>0</td><td>0</td><td>30</td><td>29</td><td>185.1</td><td>⋯</td><td>67.1</td><td>3.88</td><td>6.80</td><td>3.52</td><td>3.41</td><td>6.08</td><td>120000</td><td> 50000</td><td> 37061.64</td><td> 91955.34</td></tr>\n",
       "\t<tr><th scope=row>3</th><td>양현종  </td><td>KIA </td><td>20</td><td> 6</td><td>0</td><td>0</td><td>0</td><td>31</td><td>31</td><td>193.1</td><td>⋯</td><td>72.1</td><td>3.44</td><td>6.54</td><td>3.94</td><td>3.82</td><td>5.64</td><td>230000</td><td>150000</td><td>111180.99</td><td>180164.16</td></tr>\n",
       "\t<tr><th scope=row>4</th><td>차우찬  </td><td>LG  </td><td>10</td><td> 7</td><td>0</td><td>0</td><td>0</td><td>28</td><td>28</td><td>175.2</td><td>⋯</td><td>75.0</td><td>3.43</td><td>6.11</td><td>4.20</td><td>4.03</td><td>4.63</td><td>100000</td><td>100000</td><td> 74120.86</td><td>125774.08</td></tr>\n",
       "\t<tr><th scope=row>5</th><td>레일리  </td><td>롯데</td><td>13</td><td> 7</td><td>0</td><td>0</td><td>0</td><td>30</td><td>30</td><td>187.1</td><td>⋯</td><td>74.1</td><td>3.80</td><td>6.13</td><td>4.36</td><td>4.31</td><td>4.38</td><td>111000</td><td> 85000</td><td> 63002.89</td><td>110388.58</td></tr>\n",
       "\t<tr><th scope=row>6</th><td>피어밴드</td><td>KT  </td><td> 8</td><td>10</td><td>0</td><td>0</td><td>0</td><td>26</td><td>26</td><td>160.0</td><td>⋯</td><td>76.1</td><td>3.04</td><td>6.52</td><td>4.42</td><td>4.32</td><td>3.94</td><td> 85000</td><td> 35000</td><td> 25942.97</td><td> 60851.77</td></tr>\n",
       "</tbody>\n",
       "</table>\n"
      ],
      "text/latex": [
       "A data.frame: 6 × 24\n",
       "\\begin{tabular}{r|lllllllllllllllllllll}\n",
       "  & 선수명 & 팀명 & 승 & 패 & 세 & 홀드 & 블론 & 경기 & 선발 & 이닝 & ⋯ & LOB. & ERA & RA9.WAR & FIP & kFIP & WAR & 연봉.2018. & 연봉.2017. & new\\_col & new\\_col.1\\\\\n",
       "  & <chr> & <chr> & <int> & <int> & <int> & <int> & <int> & <int> & <int> & <dbl> & ⋯ & <dbl> & <dbl> & <dbl> & <dbl> & <dbl> & <dbl> & <int> & <int> & <dbl> & <dbl>\\\\\n",
       "\\hline\n",
       "\t1 & 켈리     & SK   & 16 &  7 & 0 & 0 & 0 & 30 & 30 & 190.0 & ⋯ & 73.7 & 3.60 & 6.91 & 3.69 & 3.44 & 6.62 & 140000 &  85000 &  63003.59 & 127838.00\\\\\n",
       "\t2 & 소사     & LG   & 11 & 11 & 1 & 0 & 0 & 30 & 29 & 185.1 & ⋯ & 67.1 & 3.88 & 6.80 & 3.52 & 3.41 & 6.08 & 120000 &  50000 &  37061.64 &  91955.34\\\\\n",
       "\t3 & 양현종   & KIA  & 20 &  6 & 0 & 0 & 0 & 31 & 31 & 193.1 & ⋯ & 72.1 & 3.44 & 6.54 & 3.94 & 3.82 & 5.64 & 230000 & 150000 & 111180.99 & 180164.16\\\\\n",
       "\t4 & 차우찬   & LG   & 10 &  7 & 0 & 0 & 0 & 28 & 28 & 175.2 & ⋯ & 75.0 & 3.43 & 6.11 & 4.20 & 4.03 & 4.63 & 100000 & 100000 &  74120.86 & 125774.08\\\\\n",
       "\t5 & 레일리   & 롯데 & 13 &  7 & 0 & 0 & 0 & 30 & 30 & 187.1 & ⋯ & 74.1 & 3.80 & 6.13 & 4.36 & 4.31 & 4.38 & 111000 &  85000 &  63002.89 & 110388.58\\\\\n",
       "\t6 & 피어밴드 & KT   &  8 & 10 & 0 & 0 & 0 & 26 & 26 & 160.0 & ⋯ & 76.1 & 3.04 & 6.52 & 4.42 & 4.32 & 3.94 &  85000 &  35000 &  25942.97 &  60851.77\\\\\n",
       "\\end{tabular}\n"
      ],
      "text/markdown": [
       "\n",
       "A data.frame: 6 × 24\n",
       "\n",
       "| <!--/--> | 선수명 &lt;chr&gt; | 팀명 &lt;chr&gt; | 승 &lt;int&gt; | 패 &lt;int&gt; | 세 &lt;int&gt; | 홀드 &lt;int&gt; | 블론 &lt;int&gt; | 경기 &lt;int&gt; | 선발 &lt;int&gt; | 이닝 &lt;dbl&gt; | ⋯ ⋯ | LOB. &lt;dbl&gt; | ERA &lt;dbl&gt; | RA9.WAR &lt;dbl&gt; | FIP &lt;dbl&gt; | kFIP &lt;dbl&gt; | WAR &lt;dbl&gt; | 연봉.2018. &lt;int&gt; | 연봉.2017. &lt;int&gt; | new_col &lt;dbl&gt; | new_col.1 &lt;dbl&gt; |\n",
       "|---|---|---|---|---|---|---|---|---|---|---|---|---|---|---|---|---|---|---|---|---|---|\n",
       "| 1 | 켈리     | SK   | 16 |  7 | 0 | 0 | 0 | 30 | 30 | 190.0 | ⋯ | 73.7 | 3.60 | 6.91 | 3.69 | 3.44 | 6.62 | 140000 |  85000 |  63003.59 | 127838.00 |\n",
       "| 2 | 소사     | LG   | 11 | 11 | 1 | 0 | 0 | 30 | 29 | 185.1 | ⋯ | 67.1 | 3.88 | 6.80 | 3.52 | 3.41 | 6.08 | 120000 |  50000 |  37061.64 |  91955.34 |\n",
       "| 3 | 양현종   | KIA  | 20 |  6 | 0 | 0 | 0 | 31 | 31 | 193.1 | ⋯ | 72.1 | 3.44 | 6.54 | 3.94 | 3.82 | 5.64 | 230000 | 150000 | 111180.99 | 180164.16 |\n",
       "| 4 | 차우찬   | LG   | 10 |  7 | 0 | 0 | 0 | 28 | 28 | 175.2 | ⋯ | 75.0 | 3.43 | 6.11 | 4.20 | 4.03 | 4.63 | 100000 | 100000 |  74120.86 | 125774.08 |\n",
       "| 5 | 레일리   | 롯데 | 13 |  7 | 0 | 0 | 0 | 30 | 30 | 187.1 | ⋯ | 74.1 | 3.80 | 6.13 | 4.36 | 4.31 | 4.38 | 111000 |  85000 |  63002.89 | 110388.58 |\n",
       "| 6 | 피어밴드 | KT   |  8 | 10 | 0 | 0 | 0 | 26 | 26 | 160.0 | ⋯ | 76.1 | 3.04 | 6.52 | 4.42 | 4.32 | 3.94 |  85000 |  35000 |  25942.97 |  60851.77 |\n",
       "\n"
      ],
      "text/plain": [
       "  선수명   팀명 승 패 세 홀드 블론 경기 선발 이닝  ⋯ LOB. ERA  RA9.WAR FIP \n",
       "1 켈리     SK   16  7 0  0    0    30   30   190.0 ⋯ 73.7 3.60 6.91    3.69\n",
       "2 소사     LG   11 11 1  0    0    30   29   185.1 ⋯ 67.1 3.88 6.80    3.52\n",
       "3 양현종   KIA  20  6 0  0    0    31   31   193.1 ⋯ 72.1 3.44 6.54    3.94\n",
       "4 차우찬   LG   10  7 0  0    0    28   28   175.2 ⋯ 75.0 3.43 6.11    4.20\n",
       "5 레일리   롯데 13  7 0  0    0    30   30   187.1 ⋯ 74.1 3.80 6.13    4.36\n",
       "6 피어밴드 KT    8 10 0  0    0    26   26   160.0 ⋯ 76.1 3.04 6.52    4.42\n",
       "  kFIP WAR  연봉.2018. 연봉.2017. new_col   new_col.1\n",
       "1 3.44 6.62 140000      85000      63003.59 127838.00\n",
       "2 3.41 6.08 120000      50000      37061.64  91955.34\n",
       "3 3.82 5.64 230000     150000     111180.99 180164.16\n",
       "4 4.03 4.63 100000     100000      74120.86 125774.08\n",
       "5 4.31 4.38 111000      85000      63002.89 110388.58\n",
       "6 4.32 3.94  85000      35000      25942.97  60851.77"
      ]
     },
     "metadata": {},
     "output_type": "display_data"
    }
   ],
   "source": [
    "head(picher)"
   ]
  },
  {
   "cell_type": "code",
   "execution_count": 119,
   "id": "9b40c819-6e8c-4138-8b72-4d1becc6b8be",
   "metadata": {},
   "outputs": [],
   "source": [
    "predictsalart <- round(predict_2018_salary,0)"
   ]
  },
  {
   "cell_type": "code",
   "execution_count": 121,
   "id": "4424858a-741c-4462-a1c3-2eebae682562",
   "metadata": {},
   "outputs": [],
   "source": [
    "result1 <- picher$\"선수명\"\n",
    "result2 <- picher$\"연봉.2018.\"\n",
    "result3 <- predictsalart\n",
    "result4 <- picher$\"연봉.2017.\"\n",
    "result <- cbind(result1,result2,result3,result4)"
   ]
  },
  {
   "cell_type": "code",
   "execution_count": 122,
   "id": "c2c3c98b-d10c-476b-be98-5aa924220a7d",
   "metadata": {},
   "outputs": [
    {
     "data": {
      "text/html": [
       "<table class=\"dataframe\">\n",
       "<caption>A matrix: 152 × 4 of type chr</caption>\n",
       "<thead>\n",
       "\t<tr><th></th><th scope=col>result1</th><th scope=col>result2</th><th scope=col>result3</th><th scope=col>result4</th></tr>\n",
       "</thead>\n",
       "<tbody>\n",
       "\t<tr><th scope=row>1</th><td>켈리    </td><td>140000</td><td>127838</td><td>85000 </td></tr>\n",
       "\t<tr><th scope=row>2</th><td>소사    </td><td>120000</td><td>91955 </td><td>50000 </td></tr>\n",
       "\t<tr><th scope=row>3</th><td>양현종  </td><td>230000</td><td>180164</td><td>150000</td></tr>\n",
       "\t<tr><th scope=row>4</th><td>차우찬  </td><td>100000</td><td>125774</td><td>100000</td></tr>\n",
       "\t<tr><th scope=row>5</th><td>레일리  </td><td>111000</td><td>110389</td><td>85000 </td></tr>\n",
       "\t<tr><th scope=row>6</th><td>피어밴드</td><td>85000 </td><td>60852 </td><td>35000 </td></tr>\n",
       "\t<tr><th scope=row>7</th><td>고영표  </td><td>11500 </td><td>32249 </td><td>5200  </td></tr>\n",
       "\t<tr><th scope=row>8</th><td>장원준  </td><td>100000</td><td>120661</td><td>100000</td></tr>\n",
       "\t<tr><th scope=row>9</th><td>함덕주  </td><td>16000 </td><td>34421 </td><td>7000  </td></tr>\n",
       "\t<tr><th scope=row>10</th><td>팻딘    </td><td>70000 </td><td>90685 </td><td>70000 </td></tr>\n",
       "\t<tr><th scope=row>11</th><td>윤성환  </td><td>80000 </td><td>95139 </td><td>80000 </td></tr>\n",
       "\t<tr><th scope=row>12</th><td>유희관  </td><td>50000 </td><td>67371 </td><td>50000 </td></tr>\n",
       "\t<tr><th scope=row>13</th><td>임기영  </td><td>13000 </td><td>22933 </td><td>3100  </td></tr>\n",
       "\t<tr><th scope=row>14</th><td>박세웅  </td><td>25000 </td><td>27964 </td><td>10000 </td></tr>\n",
       "\t<tr><th scope=row>15</th><td>백정현  </td><td>15500 </td><td>24575 </td><td>10000 </td></tr>\n",
       "\t<tr><th scope=row>16</th><td>송승준  </td><td>40000 </td><td>51763 </td><td>40000 </td></tr>\n",
       "\t<tr><th scope=row>17</th><td>류제국  </td><td>29000 </td><td>47535 </td><td>35000 </td></tr>\n",
       "\t<tr><th scope=row>18</th><td>우규민  </td><td>70000 </td><td>78523 </td><td>70000 </td></tr>\n",
       "\t<tr><th scope=row>19</th><td>임찬규  </td><td>11500 </td><td>19833 </td><td>6500  </td></tr>\n",
       "\t<tr><th scope=row>20</th><td>손승락  </td><td>70000 </td><td>74664 </td><td>70000 </td></tr>\n",
       "\t<tr><th scope=row>21</th><td>정우람  </td><td>120000</td><td>119624</td><td>120000</td></tr>\n",
       "\t<tr><th scope=row>22</th><td>윤희상  </td><td>13000 </td><td>26255 </td><td>15000 </td></tr>\n",
       "\t<tr><th scope=row>23</th><td>원종현  </td><td>18500 </td><td>23403 </td><td>14000 </td></tr>\n",
       "\t<tr><th scope=row>24</th><td>배영수  </td><td>50000 </td><td>61694 </td><td>55000 </td></tr>\n",
       "\t<tr><th scope=row>25</th><td>박종훈  </td><td>20000 </td><td>20806 </td><td>10000 </td></tr>\n",
       "\t<tr><th scope=row>26</th><td>이상화  </td><td>10000 </td><td>13334 </td><td>4500  </td></tr>\n",
       "\t<tr><th scope=row>27</th><td>김진성  </td><td>23000 </td><td>24511 </td><td>18000 </td></tr>\n",
       "\t<tr><th scope=row>28</th><td>이민호  </td><td>18800 </td><td>22706 </td><td>16000 </td></tr>\n",
       "\t<tr><th scope=row>29</th><td>이재학  </td><td>19000 </td><td>25924 </td><td>20000 </td></tr>\n",
       "\t<tr><th scope=row>30</th><td>김강률  </td><td>15000 </td><td>13575 </td><td>6200  </td></tr>\n",
       "\t<tr><th scope=row>⋮</th><td>⋮</td><td>⋮</td><td>⋮</td><td>⋮</td></tr>\n",
       "\t<tr><th scope=row>123</th><td>정재원</td><td>4000 </td><td>2960 </td><td>4000 </td></tr>\n",
       "\t<tr><th scope=row>124</th><td>김민우</td><td>3600 </td><td>3555 </td><td>3800 </td></tr>\n",
       "\t<tr><th scope=row>125</th><td>이현호</td><td>5200 </td><td>3447 </td><td>6000 </td></tr>\n",
       "\t<tr><th scope=row>126</th><td>권혁  </td><td>45000</td><td>38632</td><td>45000</td></tr>\n",
       "\t<tr><th scope=row>127</th><td>배제성</td><td>3000 </td><td>1539 </td><td>2700 </td></tr>\n",
       "\t<tr><th scope=row>128</th><td>홍상삼</td><td>9000 </td><td>11187</td><td>12500</td></tr>\n",
       "\t<tr><th scope=row>129</th><td>이태양</td><td>7300 </td><td>5930 </td><td>8300 </td></tr>\n",
       "\t<tr><th scope=row>130</th><td>김진우</td><td>6000 </td><td>9837 </td><td>12000</td></tr>\n",
       "\t<tr><th scope=row>131</th><td>이영하</td><td>4200 </td><td>-291 </td><td>2700 </td></tr>\n",
       "\t<tr><th scope=row>132</th><td>최성영</td><td>2900 </td><td>1140 </td><td>2900 </td></tr>\n",
       "\t<tr><th scope=row>133</th><td>김동호</td><td>6000 </td><td>3508 </td><td>5000 </td></tr>\n",
       "\t<tr><th scope=row>134</th><td>김윤동</td><td>15000</td><td>1585 </td><td>4700 </td></tr>\n",
       "\t<tr><th scope=row>135</th><td>정인욱</td><td>5700 </td><td>3266 </td><td>7200 </td></tr>\n",
       "\t<tr><th scope=row>136</th><td>송창식</td><td>24000</td><td>16351</td><td>22000</td></tr>\n",
       "\t<tr><th scope=row>137</th><td>배재환</td><td>3000 </td><td>3807 </td><td>4000 </td></tr>\n",
       "\t<tr><th scope=row>138</th><td>이정민</td><td>10000</td><td>11150</td><td>15000</td></tr>\n",
       "\t<tr><th scope=row>139</th><td>최동환</td><td>6500 </td><td>1652 </td><td>6000 </td></tr>\n",
       "\t<tr><th scope=row>140</th><td>이종혁</td><td>3200 </td><td>564  </td><td>2700 </td></tr>\n",
       "\t<tr><th scope=row>141</th><td>홍성용</td><td>6800 </td><td>2878 </td><td>6300 </td></tr>\n",
       "\t<tr><th scope=row>142</th><td>정영일</td><td>3000 </td><td>4241 </td><td>4000 </td></tr>\n",
       "\t<tr><th scope=row>143</th><td>김지용</td><td>9000 </td><td>3789 </td><td>10000</td></tr>\n",
       "\t<tr><th scope=row>144</th><td>최금강</td><td>12500</td><td>8542 </td><td>14000</td></tr>\n",
       "\t<tr><th scope=row>145</th><td>김범수</td><td>3600 </td><td>1207 </td><td>3300 </td></tr>\n",
       "\t<tr><th scope=row>146</th><td>이승현</td><td>7000 </td><td>2054 </td><td>6200 </td></tr>\n",
       "\t<tr><th scope=row>147</th><td>주권  </td><td>7600 </td><td>2162 </td><td>7500 </td></tr>\n",
       "\t<tr><th scope=row>148</th><td>장민재</td><td>7100 </td><td>2973 </td><td>8100 </td></tr>\n",
       "\t<tr><th scope=row>149</th><td>정용운</td><td>7500 </td><td>-673 </td><td>3100 </td></tr>\n",
       "\t<tr><th scope=row>150</th><td>노경은</td><td>10000</td><td>9953 </td><td>16000</td></tr>\n",
       "\t<tr><th scope=row>151</th><td>김승현</td><td>4000 </td><td>-3065</td><td>2900 </td></tr>\n",
       "\t<tr><th scope=row>152</th><td>류희운</td><td>4000 </td><td>-5132</td><td>3000 </td></tr>\n",
       "</tbody>\n",
       "</table>\n"
      ],
      "text/latex": [
       "A matrix: 152 × 4 of type chr\n",
       "\\begin{tabular}{r|llll}\n",
       "  & result1 & result2 & result3 & result4\\\\\n",
       "\\hline\n",
       "\t1 & 켈리     & 140000 & 127838 & 85000 \\\\\n",
       "\t2 & 소사     & 120000 & 91955  & 50000 \\\\\n",
       "\t3 & 양현종   & 230000 & 180164 & 150000\\\\\n",
       "\t4 & 차우찬   & 100000 & 125774 & 100000\\\\\n",
       "\t5 & 레일리   & 111000 & 110389 & 85000 \\\\\n",
       "\t6 & 피어밴드 & 85000  & 60852  & 35000 \\\\\n",
       "\t7 & 고영표   & 11500  & 32249  & 5200  \\\\\n",
       "\t8 & 장원준   & 100000 & 120661 & 100000\\\\\n",
       "\t9 & 함덕주   & 16000  & 34421  & 7000  \\\\\n",
       "\t10 & 팻딘     & 70000  & 90685  & 70000 \\\\\n",
       "\t11 & 윤성환   & 80000  & 95139  & 80000 \\\\\n",
       "\t12 & 유희관   & 50000  & 67371  & 50000 \\\\\n",
       "\t13 & 임기영   & 13000  & 22933  & 3100  \\\\\n",
       "\t14 & 박세웅   & 25000  & 27964  & 10000 \\\\\n",
       "\t15 & 백정현   & 15500  & 24575  & 10000 \\\\\n",
       "\t16 & 송승준   & 40000  & 51763  & 40000 \\\\\n",
       "\t17 & 류제국   & 29000  & 47535  & 35000 \\\\\n",
       "\t18 & 우규민   & 70000  & 78523  & 70000 \\\\\n",
       "\t19 & 임찬규   & 11500  & 19833  & 6500  \\\\\n",
       "\t20 & 손승락   & 70000  & 74664  & 70000 \\\\\n",
       "\t21 & 정우람   & 120000 & 119624 & 120000\\\\\n",
       "\t22 & 윤희상   & 13000  & 26255  & 15000 \\\\\n",
       "\t23 & 원종현   & 18500  & 23403  & 14000 \\\\\n",
       "\t24 & 배영수   & 50000  & 61694  & 55000 \\\\\n",
       "\t25 & 박종훈   & 20000  & 20806  & 10000 \\\\\n",
       "\t26 & 이상화   & 10000  & 13334  & 4500  \\\\\n",
       "\t27 & 김진성   & 23000  & 24511  & 18000 \\\\\n",
       "\t28 & 이민호   & 18800  & 22706  & 16000 \\\\\n",
       "\t29 & 이재학   & 19000  & 25924  & 20000 \\\\\n",
       "\t30 & 김강률   & 15000  & 13575  & 6200  \\\\\n",
       "\t⋮ & ⋮ & ⋮ & ⋮ & ⋮\\\\\n",
       "\t123 & 정재원 & 4000  & 2960  & 4000 \\\\\n",
       "\t124 & 김민우 & 3600  & 3555  & 3800 \\\\\n",
       "\t125 & 이현호 & 5200  & 3447  & 6000 \\\\\n",
       "\t126 & 권혁   & 45000 & 38632 & 45000\\\\\n",
       "\t127 & 배제성 & 3000  & 1539  & 2700 \\\\\n",
       "\t128 & 홍상삼 & 9000  & 11187 & 12500\\\\\n",
       "\t129 & 이태양 & 7300  & 5930  & 8300 \\\\\n",
       "\t130 & 김진우 & 6000  & 9837  & 12000\\\\\n",
       "\t131 & 이영하 & 4200  & -291  & 2700 \\\\\n",
       "\t132 & 최성영 & 2900  & 1140  & 2900 \\\\\n",
       "\t133 & 김동호 & 6000  & 3508  & 5000 \\\\\n",
       "\t134 & 김윤동 & 15000 & 1585  & 4700 \\\\\n",
       "\t135 & 정인욱 & 5700  & 3266  & 7200 \\\\\n",
       "\t136 & 송창식 & 24000 & 16351 & 22000\\\\\n",
       "\t137 & 배재환 & 3000  & 3807  & 4000 \\\\\n",
       "\t138 & 이정민 & 10000 & 11150 & 15000\\\\\n",
       "\t139 & 최동환 & 6500  & 1652  & 6000 \\\\\n",
       "\t140 & 이종혁 & 3200  & 564   & 2700 \\\\\n",
       "\t141 & 홍성용 & 6800  & 2878  & 6300 \\\\\n",
       "\t142 & 정영일 & 3000  & 4241  & 4000 \\\\\n",
       "\t143 & 김지용 & 9000  & 3789  & 10000\\\\\n",
       "\t144 & 최금강 & 12500 & 8542  & 14000\\\\\n",
       "\t145 & 김범수 & 3600  & 1207  & 3300 \\\\\n",
       "\t146 & 이승현 & 7000  & 2054  & 6200 \\\\\n",
       "\t147 & 주권   & 7600  & 2162  & 7500 \\\\\n",
       "\t148 & 장민재 & 7100  & 2973  & 8100 \\\\\n",
       "\t149 & 정용운 & 7500  & -673  & 3100 \\\\\n",
       "\t150 & 노경은 & 10000 & 9953  & 16000\\\\\n",
       "\t151 & 김승현 & 4000  & -3065 & 2900 \\\\\n",
       "\t152 & 류희운 & 4000  & -5132 & 3000 \\\\\n",
       "\\end{tabular}\n"
      ],
      "text/markdown": [
       "\n",
       "A matrix: 152 × 4 of type chr\n",
       "\n",
       "| <!--/--> | result1 | result2 | result3 | result4 |\n",
       "|---|---|---|---|---|\n",
       "| 1 | 켈리     | 140000 | 127838 | 85000  |\n",
       "| 2 | 소사     | 120000 | 91955  | 50000  |\n",
       "| 3 | 양현종   | 230000 | 180164 | 150000 |\n",
       "| 4 | 차우찬   | 100000 | 125774 | 100000 |\n",
       "| 5 | 레일리   | 111000 | 110389 | 85000  |\n",
       "| 6 | 피어밴드 | 85000  | 60852  | 35000  |\n",
       "| 7 | 고영표   | 11500  | 32249  | 5200   |\n",
       "| 8 | 장원준   | 100000 | 120661 | 100000 |\n",
       "| 9 | 함덕주   | 16000  | 34421  | 7000   |\n",
       "| 10 | 팻딘     | 70000  | 90685  | 70000  |\n",
       "| 11 | 윤성환   | 80000  | 95139  | 80000  |\n",
       "| 12 | 유희관   | 50000  | 67371  | 50000  |\n",
       "| 13 | 임기영   | 13000  | 22933  | 3100   |\n",
       "| 14 | 박세웅   | 25000  | 27964  | 10000  |\n",
       "| 15 | 백정현   | 15500  | 24575  | 10000  |\n",
       "| 16 | 송승준   | 40000  | 51763  | 40000  |\n",
       "| 17 | 류제국   | 29000  | 47535  | 35000  |\n",
       "| 18 | 우규민   | 70000  | 78523  | 70000  |\n",
       "| 19 | 임찬규   | 11500  | 19833  | 6500   |\n",
       "| 20 | 손승락   | 70000  | 74664  | 70000  |\n",
       "| 21 | 정우람   | 120000 | 119624 | 120000 |\n",
       "| 22 | 윤희상   | 13000  | 26255  | 15000  |\n",
       "| 23 | 원종현   | 18500  | 23403  | 14000  |\n",
       "| 24 | 배영수   | 50000  | 61694  | 55000  |\n",
       "| 25 | 박종훈   | 20000  | 20806  | 10000  |\n",
       "| 26 | 이상화   | 10000  | 13334  | 4500   |\n",
       "| 27 | 김진성   | 23000  | 24511  | 18000  |\n",
       "| 28 | 이민호   | 18800  | 22706  | 16000  |\n",
       "| 29 | 이재학   | 19000  | 25924  | 20000  |\n",
       "| 30 | 김강률   | 15000  | 13575  | 6200   |\n",
       "| ⋮ | ⋮ | ⋮ | ⋮ | ⋮ |\n",
       "| 123 | 정재원 | 4000  | 2960  | 4000  |\n",
       "| 124 | 김민우 | 3600  | 3555  | 3800  |\n",
       "| 125 | 이현호 | 5200  | 3447  | 6000  |\n",
       "| 126 | 권혁   | 45000 | 38632 | 45000 |\n",
       "| 127 | 배제성 | 3000  | 1539  | 2700  |\n",
       "| 128 | 홍상삼 | 9000  | 11187 | 12500 |\n",
       "| 129 | 이태양 | 7300  | 5930  | 8300  |\n",
       "| 130 | 김진우 | 6000  | 9837  | 12000 |\n",
       "| 131 | 이영하 | 4200  | -291  | 2700  |\n",
       "| 132 | 최성영 | 2900  | 1140  | 2900  |\n",
       "| 133 | 김동호 | 6000  | 3508  | 5000  |\n",
       "| 134 | 김윤동 | 15000 | 1585  | 4700  |\n",
       "| 135 | 정인욱 | 5700  | 3266  | 7200  |\n",
       "| 136 | 송창식 | 24000 | 16351 | 22000 |\n",
       "| 137 | 배재환 | 3000  | 3807  | 4000  |\n",
       "| 138 | 이정민 | 10000 | 11150 | 15000 |\n",
       "| 139 | 최동환 | 6500  | 1652  | 6000  |\n",
       "| 140 | 이종혁 | 3200  | 564   | 2700  |\n",
       "| 141 | 홍성용 | 6800  | 2878  | 6300  |\n",
       "| 142 | 정영일 | 3000  | 4241  | 4000  |\n",
       "| 143 | 김지용 | 9000  | 3789  | 10000 |\n",
       "| 144 | 최금강 | 12500 | 8542  | 14000 |\n",
       "| 145 | 김범수 | 3600  | 1207  | 3300  |\n",
       "| 146 | 이승현 | 7000  | 2054  | 6200  |\n",
       "| 147 | 주권   | 7600  | 2162  | 7500  |\n",
       "| 148 | 장민재 | 7100  | 2973  | 8100  |\n",
       "| 149 | 정용운 | 7500  | -673  | 3100  |\n",
       "| 150 | 노경은 | 10000 | 9953  | 16000 |\n",
       "| 151 | 김승현 | 4000  | -3065 | 2900  |\n",
       "| 152 | 류희운 | 4000  | -5132 | 3000  |\n",
       "\n"
      ],
      "text/plain": [
       "    result1  result2 result3 result4\n",
       "1   켈리     140000  127838  85000  \n",
       "2   소사     120000  91955   50000  \n",
       "3   양현종   230000  180164  150000 \n",
       "4   차우찬   100000  125774  100000 \n",
       "5   레일리   111000  110389  85000  \n",
       "6   피어밴드 85000   60852   35000  \n",
       "7   고영표   11500   32249   5200   \n",
       "8   장원준   100000  120661  100000 \n",
       "9   함덕주   16000   34421   7000   \n",
       "10  팻딘     70000   90685   70000  \n",
       "11  윤성환   80000   95139   80000  \n",
       "12  유희관   50000   67371   50000  \n",
       "13  임기영   13000   22933   3100   \n",
       "14  박세웅   25000   27964   10000  \n",
       "15  백정현   15500   24575   10000  \n",
       "16  송승준   40000   51763   40000  \n",
       "17  류제국   29000   47535   35000  \n",
       "18  우규민   70000   78523   70000  \n",
       "19  임찬규   11500   19833   6500   \n",
       "20  손승락   70000   74664   70000  \n",
       "21  정우람   120000  119624  120000 \n",
       "22  윤희상   13000   26255   15000  \n",
       "23  원종현   18500   23403   14000  \n",
       "24  배영수   50000   61694   55000  \n",
       "25  박종훈   20000   20806   10000  \n",
       "26  이상화   10000   13334   4500   \n",
       "27  김진성   23000   24511   18000  \n",
       "28  이민호   18800   22706   16000  \n",
       "29  이재학   19000   25924   20000  \n",
       "30  김강률   15000   13575   6200   \n",
       "⋮   ⋮        ⋮       ⋮       ⋮      \n",
       "123 정재원   4000    2960    4000   \n",
       "124 김민우   3600    3555    3800   \n",
       "125 이현호   5200    3447    6000   \n",
       "126 권혁     45000   38632   45000  \n",
       "127 배제성   3000    1539    2700   \n",
       "128 홍상삼   9000    11187   12500  \n",
       "129 이태양   7300    5930    8300   \n",
       "130 김진우   6000    9837    12000  \n",
       "131 이영하   4200    -291    2700   \n",
       "132 최성영   2900    1140    2900   \n",
       "133 김동호   6000    3508    5000   \n",
       "134 김윤동   15000   1585    4700   \n",
       "135 정인욱   5700    3266    7200   \n",
       "136 송창식   24000   16351   22000  \n",
       "137 배재환   3000    3807    4000   \n",
       "138 이정민   10000   11150   15000  \n",
       "139 최동환   6500    1652    6000   \n",
       "140 이종혁   3200    564     2700   \n",
       "141 홍성용   6800    2878    6300   \n",
       "142 정영일   3000    4241    4000   \n",
       "143 김지용   9000    3789    10000  \n",
       "144 최금강   12500   8542    14000  \n",
       "145 김범수   3600    1207    3300   \n",
       "146 이승현   7000    2054    6200   \n",
       "147 주권     7600    2162    7500   \n",
       "148 장민재   7100    2973    8100   \n",
       "149 정용운   7500    -673    3100   \n",
       "150 노경은   10000   9953    16000  \n",
       "151 김승현   4000    -3065   2900   \n",
       "152 류희운   4000    -5132   3000   "
      ]
     },
     "metadata": {},
     "output_type": "display_data"
    }
   ],
   "source": [
    "result"
   ]
  },
  {
   "cell_type": "markdown",
   "id": "c030a024-7ad5-4108-88bc-1a4b3e5ac379",
   "metadata": {},
   "source": [
    "# k-fold"
   ]
  },
  {
   "cell_type": "code",
   "execution_count": 125,
   "id": "0387e0dc-91a7-4cc3-9c88-6589bfd262c1",
   "metadata": {},
   "outputs": [],
   "source": [
    "X <- dt[c('FIP', 'WAR', '볼넷.9', '삼진.9', '연봉.2017.')]\n",
    "y <- dt$\"연봉.2018.\""
   ]
  },
  {
   "cell_type": "code",
   "execution_count": 126,
   "id": "a2d6617a-91ea-4eac-be0e-9bfdeeff1d31",
   "metadata": {},
   "outputs": [],
   "source": [
    "ctrl <- trainControl(method = \"cv\", \n",
    "                     number = 10, \n",
    "                     verboseIter = TRUE)"
   ]
  },
  {
   "cell_type": "code",
   "execution_count": 127,
   "id": "ba465c5e-ccba-43b3-92c3-9aa2288756aa",
   "metadata": {},
   "outputs": [
    {
     "name": "stdout",
     "output_type": "stream",
     "text": [
      "+ Fold01: intercept=TRUE \n",
      "- Fold01: intercept=TRUE \n",
      "+ Fold02: intercept=TRUE \n",
      "- Fold02: intercept=TRUE \n",
      "+ Fold03: intercept=TRUE \n",
      "- Fold03: intercept=TRUE \n",
      "+ Fold04: intercept=TRUE \n",
      "- Fold04: intercept=TRUE \n",
      "+ Fold05: intercept=TRUE \n",
      "- Fold05: intercept=TRUE \n",
      "+ Fold06: intercept=TRUE \n",
      "- Fold06: intercept=TRUE \n",
      "+ Fold07: intercept=TRUE \n",
      "- Fold07: intercept=TRUE \n",
      "+ Fold08: intercept=TRUE \n",
      "- Fold08: intercept=TRUE \n",
      "+ Fold09: intercept=TRUE \n",
      "- Fold09: intercept=TRUE \n",
      "+ Fold10: intercept=TRUE \n",
      "- Fold10: intercept=TRUE \n",
      "Aggregating results\n",
      "Fitting final model on full training set\n"
     ]
    }
   ],
   "source": [
    "model <- train(x = X, \n",
    "               y = y, \n",
    "               method = \"lm\", \n",
    "               trControl = ctrl)"
   ]
  },
  {
   "cell_type": "code",
   "execution_count": 128,
   "id": "5d21e0d6-335f-43ab-8795-142aa7d0bcdb",
   "metadata": {},
   "outputs": [
    {
     "name": "stdout",
     "output_type": "stream",
     "text": [
      "Linear Regression \n",
      "\n",
      "152 samples\n",
      "  5 predictor\n",
      "\n",
      "No pre-processing\n",
      "Resampling: Cross-Validated (10 fold) \n",
      "Summary of sample sizes: 136, 139, 137, 136, 137, 136, ... \n",
      "Resampling results:\n",
      "\n",
      "  RMSE      Rsquared   MAE     \n",
      "  8775.345  0.9234182  5096.303\n",
      "\n",
      "Tuning parameter 'intercept' was held constant at a value of TRUE\n"
     ]
    }
   ],
   "source": [
    "print(model)"
   ]
  },
  {
   "cell_type": "markdown",
   "id": "f44da02d-7918-472c-84f8-f1298df14559",
   "metadata": {},
   "source": [
    "# createDataPartition"
   ]
  },
  {
   "cell_type": "code",
   "execution_count": 129,
   "id": "1de7eb7f-62e4-4ada-8bf0-5272e03953f2",
   "metadata": {},
   "outputs": [],
   "source": [
    "\n",
    "set.seed(20) \n",
    "train_indices <- createDataPartition(y, p = 0.8, list = FALSE)  # 80%를 훈련 세트로 사용\n",
    "X_train <- X[train_indices, ]  # X 훈련 세트\n",
    "y_train <- y[train_indices]  # y 훈련 세트\n",
    "X_test <- X[-train_indices, ]  # X 테스트 세트\n",
    "y_test <- y[-train_indices]  # y 테스트 세트\n"
   ]
  },
  {
   "cell_type": "code",
   "execution_count": 130,
   "id": "5fcfef7c-7ad8-40cc-a8bb-15d7cd8cdeb6",
   "metadata": {},
   "outputs": [],
   "source": [
    "model <- lm(y_train ~ ., data = cbind(X_train, y_train))"
   ]
  },
  {
   "cell_type": "code",
   "execution_count": 131,
   "id": "e4591656-6769-4077-8168-0b2fa2066b9c",
   "metadata": {},
   "outputs": [
    {
     "data": {
      "text/plain": [
       "\n",
       "Call:\n",
       "lm(formula = y_train ~ ., data = cbind(X_train, y_train))\n",
       "\n",
       "Residuals:\n",
       "   Min     1Q Median     3Q    Max \n",
       "-51628  -1742    835   2679  54478 \n",
       "\n",
       "Coefficients:\n",
       "              Estimate Std. Error t value Pr(>|t|)    \n",
       "(Intercept) -3.132e+03  3.752e+03  -0.835    0.406    \n",
       "FIP          3.656e+02  6.383e+02   0.573    0.568    \n",
       "WAR          6.521e+03  9.510e+02   6.857 3.53e-10 ***\n",
       "볼넷.9       4.095e+02  4.922e+02   0.832    0.407    \n",
       "삼진.9      -2.664e+02  3.220e+02  -0.827    0.410    \n",
       "연봉.2017.   9.436e-01  4.885e-02  19.314  < 2e-16 ***\n",
       "---\n",
       "Signif. codes:  0 ‘***’ 0.001 ‘**’ 0.01 ‘*’ 0.05 ‘.’ 0.1 ‘ ’ 1\n",
       "\n",
       "Residual standard error: 9407 on 117 degrees of freedom\n",
       "Multiple R-squared:  0.9084,\tAdjusted R-squared:  0.9045 \n",
       "F-statistic: 232.1 on 5 and 117 DF,  p-value: < 2.2e-16\n"
      ]
     },
     "metadata": {},
     "output_type": "display_data"
    }
   ],
   "source": [
    "summary(model)"
   ]
  },
  {
   "cell_type": "code",
   "execution_count": 132,
   "id": "55b24ef4-d88d-4008-a55d-c81fe53220ff",
   "metadata": {},
   "outputs": [],
   "source": [
    "y_pred <- predict(model, newdata = X_test)\n"
   ]
  },
  {
   "cell_type": "code",
   "execution_count": 133,
   "id": "25cd5bf8-bef3-4225-b17b-99f2a50b0950",
   "metadata": {},
   "outputs": [
    {
     "data": {
      "text/html": [
       "<style>\n",
       ".dl-inline {width: auto; margin:0; padding: 0}\n",
       ".dl-inline>dt, .dl-inline>dd {float: none; width: auto; display: inline-block}\n",
       ".dl-inline>dt::after {content: \":\\0020\"; padding-right: .5ex}\n",
       ".dl-inline>dt:not(:first-of-type) {padding-left: .5ex}\n",
       "</style><dl class=dl-inline><dt>2</dt><dd>83760.5036635398</dd><dt>11</dt><dd>92856.5551719829</dd><dt>16</dt><dd>49834.1350433709</dd><dt>20</dt><dd>74394.6037441324</dd><dt>21</dt><dd>121111.857311619</dd><dt>23</dt><dd>21354.3954407502</dd><dt>30</dt><dd>11877.9200631754</dd><dt>31</dt><dd>13693.1214770523</dd><dt>36</dt><dd>10957.9331638088</dd><dt>39</dt><dd>7904.67772835263</dd><dt>41</dt><dd>22618.8632801464</dd><dt>47</dt><dd>3977.22428640269</dd><dt>51</dt><dd>4759.88345127168</dd><dt>58</dt><dd>5598.23942115724</dd><dt>62</dt><dd>2384.85845607467</dd><dt>64</dt><dd>3520.11810139773</dd><dt>67</dt><dd>3352.59845508957</dd><dt>68</dt><dd>22782.5629218232</dd><dt>73</dt><dd>2753.45775461199</dd><dt>77</dt><dd>8019.61080626648</dd><dt>80</dt><dd>5122.41200499673</dd><dt>83</dt><dd>-3354.1873156885</dd><dt>90</dt><dd>-1479.51353608508</dd><dt>98</dt><dd>2904.84077333906</dd><dt>118</dt><dd>5349.37841885841</dd><dt>121</dt><dd>3656.12420217399</dd><dt>132</dt><dd>2282.13105827633</dd><dt>141</dt><dd>3578.68637161238</dd><dt>142</dt><dd>4774.13856910488</dd></dl>\n"
      ],
      "text/latex": [
       "\\begin{description*}\n",
       "\\item[2] 83760.5036635398\n",
       "\\item[11] 92856.5551719829\n",
       "\\item[16] 49834.1350433709\n",
       "\\item[20] 74394.6037441324\n",
       "\\item[21] 121111.857311619\n",
       "\\item[23] 21354.3954407502\n",
       "\\item[30] 11877.9200631754\n",
       "\\item[31] 13693.1214770523\n",
       "\\item[36] 10957.9331638088\n",
       "\\item[39] 7904.67772835263\n",
       "\\item[41] 22618.8632801464\n",
       "\\item[47] 3977.22428640269\n",
       "\\item[51] 4759.88345127168\n",
       "\\item[58] 5598.23942115724\n",
       "\\item[62] 2384.85845607467\n",
       "\\item[64] 3520.11810139773\n",
       "\\item[67] 3352.59845508957\n",
       "\\item[68] 22782.5629218232\n",
       "\\item[73] 2753.45775461199\n",
       "\\item[77] 8019.61080626648\n",
       "\\item[80] 5122.41200499673\n",
       "\\item[83] -3354.1873156885\n",
       "\\item[90] -1479.51353608508\n",
       "\\item[98] 2904.84077333906\n",
       "\\item[118] 5349.37841885841\n",
       "\\item[121] 3656.12420217399\n",
       "\\item[132] 2282.13105827633\n",
       "\\item[141] 3578.68637161238\n",
       "\\item[142] 4774.13856910488\n",
       "\\end{description*}\n"
      ],
      "text/markdown": [
       "2\n",
       ":   83760.503663539811\n",
       ":   92856.555171982916\n",
       ":   49834.135043370920\n",
       ":   74394.603744132421\n",
       ":   121111.85731161923\n",
       ":   21354.395440750230\n",
       ":   11877.920063175431\n",
       ":   13693.121477052336\n",
       ":   10957.933163808839\n",
       ":   7904.6777283526341\n",
       ":   22618.863280146447\n",
       ":   3977.2242864026951\n",
       ":   4759.8834512716858\n",
       ":   5598.2394211572462\n",
       ":   2384.8584560746764\n",
       ":   3520.1181013977367\n",
       ":   3352.5984550895768\n",
       ":   22782.562921823273\n",
       ":   2753.4577546119977\n",
       ":   8019.6108062664880\n",
       ":   5122.4120049967383\n",
       ":   -3354.187315688590\n",
       ":   -1479.5135360850898\n",
       ":   2904.84077333906118\n",
       ":   5349.37841885841121\n",
       ":   3656.12420217399132\n",
       ":   2282.13105827633141\n",
       ":   3578.68637161238142\n",
       ":   4774.13856910488\n",
       "\n"
      ],
      "text/plain": [
       "         2         11         16         20         21         23         30 \n",
       " 83760.504  92856.555  49834.135  74394.604 121111.857  21354.395  11877.920 \n",
       "        31         36         39         41         47         51         58 \n",
       " 13693.121  10957.933   7904.678  22618.863   3977.224   4759.883   5598.239 \n",
       "        62         64         67         68         73         77         80 \n",
       "  2384.858   3520.118   3352.598  22782.563   2753.458   8019.611   5122.412 \n",
       "        83         90         98        118        121        132        141 \n",
       " -3354.187  -1479.514   2904.841   5349.378   3656.124   2282.131   3578.686 \n",
       "       142 \n",
       "  4774.139 "
      ]
     },
     "metadata": {},
     "output_type": "display_data"
    }
   ],
   "source": [
    "y_pred"
   ]
  },
  {
   "cell_type": "code",
   "execution_count": 135,
   "id": "9eae18da-1627-4a04-b408-56cdf06e795d",
   "metadata": {},
   "outputs": [
    {
     "data": {
      "text/html": [
       "8169.95343721918"
      ],
      "text/latex": [
       "8169.95343721918"
      ],
      "text/markdown": [
       "8169.95343721918"
      ],
      "text/plain": [
       "[1] 8169.953"
      ]
     },
     "metadata": {},
     "output_type": "display_data"
    }
   ],
   "source": [
    "rmse <- sqrt(mean((y_pred - y_test)^2))\n",
    "rmse"
   ]
  },
  {
   "cell_type": "code",
   "execution_count": 136,
   "id": "31a32467-fbe0-49da-b6b1-77b2cdf6ee09",
   "metadata": {},
   "outputs": [
    {
     "data": {
      "text/html": [
       "0.937905268099376"
      ],
      "text/latex": [
       "0.937905268099376"
      ],
      "text/markdown": [
       "0.937905268099376"
      ],
      "text/plain": [
       "[1] 0.9379053"
      ]
     },
     "metadata": {},
     "output_type": "display_data"
    }
   ],
   "source": [
    "r_squared <- 1 - sum((y_test - y_pred)^2) / sum((y_test - mean(y_test))^2)\n",
    "r_squared\n"
   ]
  },
  {
   "cell_type": "code",
   "execution_count": 138,
   "id": "632375c7-0507-494b-a6dd-5a25ca1ade0c",
   "metadata": {},
   "outputs": [
    {
     "data": {
      "text/html": [
       "<style>\n",
       ".dl-inline {width: auto; margin:0; padding: 0}\n",
       ".dl-inline>dt, .dl-inline>dd {float: none; width: auto; display: inline-block}\n",
       ".dl-inline>dt::after {content: \":\\0020\"; padding-right: .5ex}\n",
       ".dl-inline>dt:not(:first-of-type) {padding-left: .5ex}\n",
       "</style><dl class=dl-inline><dt>1</dt><dd>120079.644407696</dd><dt>2</dt><dd>83760.5036635398</dd><dt>3</dt><dd>175521.573203863</dd><dt>4</dt><dd>121612.06220557</dd><dt>5</dt><dd>106098.40123629</dd><dt>6</dt><dd>55938.3360303223</dd><dt>7</dt><dd>26731.8079691304</dd><dt>8</dt><dd>117272.89045312</dd><dt>9</dt><dd>28840.8622273183</dd><dt>10</dt><dd>87223.7553189251</dd><dt>11</dt><dd>92856.5551719829</dd><dt>12</dt><dd>64095.7326866766</dd><dt>13</dt><dd>18557.1211875583</dd><dt>14</dt><dd>24286.457756089</dd><dt>15</dt><dd>21705.8561903346</dd><dt>16</dt><dd>49834.1350433709</dd><dt>17</dt><dd>45256.3857125534</dd><dt>18</dt><dd>77519.7451159889</dd><dt>19</dt><dd>17218.5428165066</dd><dt>20</dt><dd>74394.6037441324</dd><dt>21</dt><dd>121111.857311619</dd><dt>22</dt><dd>24012.4794639814</dd><dt>23</dt><dd>21354.3954407502</dd><dt>24</dt><dd>60809.3599020221</dd><dt>25</dt><dd>18627.1334642915</dd><dt>26</dt><dd>11284.3959821959</dd><dt>27</dt><dd>23499.0012034168</dd><dt>28</dt><dd>21500.0921981219</dd><dt>29</dt><dd>25216.0463766418</dd><dt>30</dt><dd>11877.9200631754</dd><dt>31</dt><dd>13693.1214770523</dd><dt>32</dt><dd>9721.37978877243</dd><dt>33</dt><dd>10832.9902724258</dd><dt>34</dt><dd>22447.697009164</dd><dt>35</dt><dd>7824.80860177616</dd><dt>36</dt><dd>10957.9331638088</dd><dt>37</dt><dd>50497.4525617583</dd><dt>38</dt><dd>23384.8597822882</dd><dt>39</dt><dd>7904.67772835263</dd><dt>40</dt><dd>24703.2223966378</dd><dt>41</dt><dd>22618.8632801464</dd><dt>42</dt><dd>13201.8856253739</dd><dt>43</dt><dd>12816.7508124466</dd><dt>44</dt><dd>26147.3170424822</dd><dt>45</dt><dd>58131.6087102705</dd><dt>46</dt><dd>7523.01225446262</dd><dt>47</dt><dd>3977.22428640269</dd><dt>48</dt><dd>4591.4093894283</dd><dt>49</dt><dd>39003.2211855645</dd><dt>50</dt><dd>71627.7765552946</dd><dt>51</dt><dd>4759.88345127168</dd><dt>52</dt><dd>47644.4841594123</dd><dt>53</dt><dd>10530.7891568554</dd><dt>54</dt><dd>5199.11439751501</dd><dt>55</dt><dd>9368.46795181711</dd><dt>56</dt><dd>31579.4491180105</dd><dt>57</dt><dd>4231.50693696113</dd><dt>58</dt><dd>5598.23942115724</dd><dt>59</dt><dd>5136.52005559622</dd><dt>60</dt><dd>9102.06897972658</dd><dt>61</dt><dd>6984.12598013427</dd><dt>62</dt><dd>2384.85845607467</dd><dt>63</dt><dd>18303.363177317</dd><dt>64</dt><dd>3520.11810139773</dd><dt>65</dt><dd>3322.44698945243</dd><dt>66</dt><dd>1989.42705473082</dd><dt>67</dt><dd>3352.59845508957</dd><dt>68</dt><dd>22782.5629218232</dd><dt>69</dt><dd>10769.628209866</dd><dt>70</dt><dd>3902.99550968491</dd><dt>71</dt><dd>19176.2096780485</dd><dt>72</dt><dd>5598.20242176528</dd><dt>73</dt><dd>2753.45775461199</dd><dt>74</dt><dd>10039.0367084241</dd><dt>75</dt><dd>7357.93890125183</dd><dt>76</dt><dd>5058.81091390124</dd><dt>77</dt><dd>8019.61080626648</dd><dt>78</dt><dd>7277.46775096933</dd><dt>79</dt><dd>2999.80648325582</dd><dt>80</dt><dd>5122.41200499673</dd><dt>81</dt><dd>2190.6374430789</dd><dt>82</dt><dd>9310.17406653524</dd><dt>83</dt><dd>-3354.1873156885</dd><dt>84</dt><dd>-324.080566112093</dd><dt>85</dt><dd>3952.58752085951</dd><dt>86</dt><dd>3631.83930171537</dd><dt>87</dt><dd>129.350963084188</dd><dt>88</dt><dd>2855.73595792648</dd><dt>89</dt><dd>3556.52749004506</dd><dt>90</dt><dd>-1479.51353608508</dd><dt>91</dt><dd>9288.2135748458</dd><dt>92</dt><dd>2179.48869530268</dd><dt>93</dt><dd>2274.22153090663</dd><dt>94</dt><dd>2563.46139539266</dd><dt>95</dt><dd>4225.95510985668</dd><dt>96</dt><dd>779.354766372629</dd><dt>97</dt><dd>-2275.06753560988</dd><dt>98</dt><dd>2904.84077333906</dd><dt>99</dt><dd>1276.18575681504</dd><dt>100</dt><dd>1278.77949800168</dd><dt>101</dt><dd>1106.52488833093</dd><dt>102</dt><dd>1872.11890217375</dd><dt>103</dt><dd>2491.20505069081</dd><dt>104</dt><dd>5496.81554757196</dd><dt>105</dt><dd>7100.93204974382</dd><dt>106</dt><dd>2029.42471093689</dd><dt>107</dt><dd>6086.50404299722</dd><dt>108</dt><dd>6770.85899230805</dd><dt>109</dt><dd>229.654419792656</dd><dt>110</dt><dd>3410.59366971035</dd><dt>111</dt><dd>18753.9298630808</dd><dt>112</dt><dd>2464.93783388577</dd><dt>113</dt><dd>9614.92030264136</dd><dt>114</dt><dd>1084.00882682257</dd><dt>115</dt><dd>8543.2323809515</dd><dt>116</dt><dd>2825.44788089157</dd><dt>117</dt><dd>3470.9785470481</dd><dt>118</dt><dd>5349.37841885841</dd><dt>119</dt><dd>1957.02838737825</dd><dt>120</dt><dd>1942.46056909266</dd><dt>121</dt><dd>3656.12420217399</dd><dt>122</dt><dd>42166.0786594782</dd><dt>123</dt><dd>2646.91201627154</dd><dt>124</dt><dd>3912.29633727664</dd><dt>125</dt><dd>4053.21273794936</dd><dt>126</dt><dd>40416.3088155261</dd><dt>127</dt><dd>1718.55530132255</dd><dt>128</dt><dd>11344.8355840123</dd><dt>129</dt><dd>6449.57632010468</dd><dt>130</dt><dd>10343.4503716666</dd><dt>131</dt><dd>566.080172487302</dd><dt>132</dt><dd>2282.13105827633</dd><dt>133</dt><dd>3362.37196892649</dd><dt>134</dt><dd>2213.60459015082</dd><dt>135</dt><dd>4651.09395657194</dd><dt>136</dt><dd>17836.449861336</dd><dt>137</dt><dd>4905.41919551359</dd><dt>138</dt><dd>11939.7833450429</dd><dt>139</dt><dd>2934.46752999489</dd><dt>140</dt><dd>1059.70613969482</dd><dt>141</dt><dd>3578.68637161238</dd><dt>142</dt><dd>4774.13856910488</dd><dt>143</dt><dd>5340.39499497243</dd><dt>144</dt><dd>9744.24047688514</dd><dt>145</dt><dd>1838.44630518678</dd><dt>146</dt><dd>3450.35582952913</dd><dt>147</dt><dd>3280.22844632236</dd><dt>148</dt><dd>3919.93354796755</dd><dt>149</dt><dd>-53.2035118929793</dd><dt>150</dt><dd>11626.3868566865</dd><dt>151</dt><dd>-1610.41555450545</dd><dt>152</dt><dd>-3236.44776099906</dd></dl>\n"
      ],
      "text/latex": [
       "\\begin{description*}\n",
       "\\item[1] 120079.644407696\n",
       "\\item[2] 83760.5036635398\n",
       "\\item[3] 175521.573203863\n",
       "\\item[4] 121612.06220557\n",
       "\\item[5] 106098.40123629\n",
       "\\item[6] 55938.3360303223\n",
       "\\item[7] 26731.8079691304\n",
       "\\item[8] 117272.89045312\n",
       "\\item[9] 28840.8622273183\n",
       "\\item[10] 87223.7553189251\n",
       "\\item[11] 92856.5551719829\n",
       "\\item[12] 64095.7326866766\n",
       "\\item[13] 18557.1211875583\n",
       "\\item[14] 24286.457756089\n",
       "\\item[15] 21705.8561903346\n",
       "\\item[16] 49834.1350433709\n",
       "\\item[17] 45256.3857125534\n",
       "\\item[18] 77519.7451159889\n",
       "\\item[19] 17218.5428165066\n",
       "\\item[20] 74394.6037441324\n",
       "\\item[21] 121111.857311619\n",
       "\\item[22] 24012.4794639814\n",
       "\\item[23] 21354.3954407502\n",
       "\\item[24] 60809.3599020221\n",
       "\\item[25] 18627.1334642915\n",
       "\\item[26] 11284.3959821959\n",
       "\\item[27] 23499.0012034168\n",
       "\\item[28] 21500.0921981219\n",
       "\\item[29] 25216.0463766418\n",
       "\\item[30] 11877.9200631754\n",
       "\\item[31] 13693.1214770523\n",
       "\\item[32] 9721.37978877243\n",
       "\\item[33] 10832.9902724258\n",
       "\\item[34] 22447.697009164\n",
       "\\item[35] 7824.80860177616\n",
       "\\item[36] 10957.9331638088\n",
       "\\item[37] 50497.4525617583\n",
       "\\item[38] 23384.8597822882\n",
       "\\item[39] 7904.67772835263\n",
       "\\item[40] 24703.2223966378\n",
       "\\item[41] 22618.8632801464\n",
       "\\item[42] 13201.8856253739\n",
       "\\item[43] 12816.7508124466\n",
       "\\item[44] 26147.3170424822\n",
       "\\item[45] 58131.6087102705\n",
       "\\item[46] 7523.01225446262\n",
       "\\item[47] 3977.22428640269\n",
       "\\item[48] 4591.4093894283\n",
       "\\item[49] 39003.2211855645\n",
       "\\item[50] 71627.7765552946\n",
       "\\item[51] 4759.88345127168\n",
       "\\item[52] 47644.4841594123\n",
       "\\item[53] 10530.7891568554\n",
       "\\item[54] 5199.11439751501\n",
       "\\item[55] 9368.46795181711\n",
       "\\item[56] 31579.4491180105\n",
       "\\item[57] 4231.50693696113\n",
       "\\item[58] 5598.23942115724\n",
       "\\item[59] 5136.52005559622\n",
       "\\item[60] 9102.06897972658\n",
       "\\item[61] 6984.12598013427\n",
       "\\item[62] 2384.85845607467\n",
       "\\item[63] 18303.363177317\n",
       "\\item[64] 3520.11810139773\n",
       "\\item[65] 3322.44698945243\n",
       "\\item[66] 1989.42705473082\n",
       "\\item[67] 3352.59845508957\n",
       "\\item[68] 22782.5629218232\n",
       "\\item[69] 10769.628209866\n",
       "\\item[70] 3902.99550968491\n",
       "\\item[71] 19176.2096780485\n",
       "\\item[72] 5598.20242176528\n",
       "\\item[73] 2753.45775461199\n",
       "\\item[74] 10039.0367084241\n",
       "\\item[75] 7357.93890125183\n",
       "\\item[76] 5058.81091390124\n",
       "\\item[77] 8019.61080626648\n",
       "\\item[78] 7277.46775096933\n",
       "\\item[79] 2999.80648325582\n",
       "\\item[80] 5122.41200499673\n",
       "\\item[81] 2190.6374430789\n",
       "\\item[82] 9310.17406653524\n",
       "\\item[83] -3354.1873156885\n",
       "\\item[84] -324.080566112093\n",
       "\\item[85] 3952.58752085951\n",
       "\\item[86] 3631.83930171537\n",
       "\\item[87] 129.350963084188\n",
       "\\item[88] 2855.73595792648\n",
       "\\item[89] 3556.52749004506\n",
       "\\item[90] -1479.51353608508\n",
       "\\item[91] 9288.2135748458\n",
       "\\item[92] 2179.48869530268\n",
       "\\item[93] 2274.22153090663\n",
       "\\item[94] 2563.46139539266\n",
       "\\item[95] 4225.95510985668\n",
       "\\item[96] 779.354766372629\n",
       "\\item[97] -2275.06753560988\n",
       "\\item[98] 2904.84077333906\n",
       "\\item[99] 1276.18575681504\n",
       "\\item[100] 1278.77949800168\n",
       "\\item[101] 1106.52488833093\n",
       "\\item[102] 1872.11890217375\n",
       "\\item[103] 2491.20505069081\n",
       "\\item[104] 5496.81554757196\n",
       "\\item[105] 7100.93204974382\n",
       "\\item[106] 2029.42471093689\n",
       "\\item[107] 6086.50404299722\n",
       "\\item[108] 6770.85899230805\n",
       "\\item[109] 229.654419792656\n",
       "\\item[110] 3410.59366971035\n",
       "\\item[111] 18753.9298630808\n",
       "\\item[112] 2464.93783388577\n",
       "\\item[113] 9614.92030264136\n",
       "\\item[114] 1084.00882682257\n",
       "\\item[115] 8543.2323809515\n",
       "\\item[116] 2825.44788089157\n",
       "\\item[117] 3470.9785470481\n",
       "\\item[118] 5349.37841885841\n",
       "\\item[119] 1957.02838737825\n",
       "\\item[120] 1942.46056909266\n",
       "\\item[121] 3656.12420217399\n",
       "\\item[122] 42166.0786594782\n",
       "\\item[123] 2646.91201627154\n",
       "\\item[124] 3912.29633727664\n",
       "\\item[125] 4053.21273794936\n",
       "\\item[126] 40416.3088155261\n",
       "\\item[127] 1718.55530132255\n",
       "\\item[128] 11344.8355840123\n",
       "\\item[129] 6449.57632010468\n",
       "\\item[130] 10343.4503716666\n",
       "\\item[131] 566.080172487302\n",
       "\\item[132] 2282.13105827633\n",
       "\\item[133] 3362.37196892649\n",
       "\\item[134] 2213.60459015082\n",
       "\\item[135] 4651.09395657194\n",
       "\\item[136] 17836.449861336\n",
       "\\item[137] 4905.41919551359\n",
       "\\item[138] 11939.7833450429\n",
       "\\item[139] 2934.46752999489\n",
       "\\item[140] 1059.70613969482\n",
       "\\item[141] 3578.68637161238\n",
       "\\item[142] 4774.13856910488\n",
       "\\item[143] 5340.39499497243\n",
       "\\item[144] 9744.24047688514\n",
       "\\item[145] 1838.44630518678\n",
       "\\item[146] 3450.35582952913\n",
       "\\item[147] 3280.22844632236\n",
       "\\item[148] 3919.93354796755\n",
       "\\item[149] -53.2035118929793\n",
       "\\item[150] 11626.3868566865\n",
       "\\item[151] -1610.41555450545\n",
       "\\item[152] -3236.44776099906\n",
       "\\end{description*}\n"
      ],
      "text/markdown": [
       "1\n",
       ":   120079.6444076962\n",
       ":   83760.50366353983\n",
       ":   175521.5732038634\n",
       ":   121612.062205575\n",
       ":   106098.401236296\n",
       ":   55938.33603032237\n",
       ":   26731.80796913048\n",
       ":   117272.890453129\n",
       ":   28840.862227318310\n",
       ":   87223.755318925111\n",
       ":   92856.555171982912\n",
       ":   64095.732686676613\n",
       ":   18557.121187558314\n",
       ":   24286.45775608915\n",
       ":   21705.856190334616\n",
       ":   49834.135043370917\n",
       ":   45256.385712553418\n",
       ":   77519.745115988919\n",
       ":   17218.542816506620\n",
       ":   74394.603744132421\n",
       ":   121111.85731161922\n",
       ":   24012.479463981423\n",
       ":   21354.395440750224\n",
       ":   60809.359902022125\n",
       ":   18627.133464291526\n",
       ":   11284.395982195927\n",
       ":   23499.001203416828\n",
       ":   21500.092198121929\n",
       ":   25216.046376641830\n",
       ":   11877.920063175431\n",
       ":   13693.121477052332\n",
       ":   9721.3797887724333\n",
       ":   10832.990272425834\n",
       ":   22447.69700916435\n",
       ":   7824.8086017761636\n",
       ":   10957.933163808837\n",
       ":   50497.452561758338\n",
       ":   23384.859782288239\n",
       ":   7904.6777283526340\n",
       ":   24703.222396637841\n",
       ":   22618.863280146442\n",
       ":   13201.885625373943\n",
       ":   12816.750812446644\n",
       ":   26147.317042482245\n",
       ":   58131.608710270546\n",
       ":   7523.0122544626247\n",
       ":   3977.2242864026948\n",
       ":   4591.409389428349\n",
       ":   39003.221185564550\n",
       ":   71627.776555294651\n",
       ":   4759.8834512716852\n",
       ":   47644.484159412353\n",
       ":   10530.789156855454\n",
       ":   5199.1143975150155\n",
       ":   9368.4679518171156\n",
       ":   31579.449118010557\n",
       ":   4231.5069369611358\n",
       ":   5598.2394211572459\n",
       ":   5136.5200555962260\n",
       ":   9102.0689797265861\n",
       ":   6984.1259801342762\n",
       ":   2384.8584560746763\n",
       ":   18303.36317731764\n",
       ":   3520.1181013977365\n",
       ":   3322.4469894524366\n",
       ":   1989.4270547308267\n",
       ":   3352.5984550895768\n",
       ":   22782.562921823269\n",
       ":   10769.62820986670\n",
       ":   3902.9955096849171\n",
       ":   19176.209678048572\n",
       ":   5598.2024217652873\n",
       ":   2753.4577546119974\n",
       ":   10039.036708424175\n",
       ":   7357.9389012518376\n",
       ":   5058.8109139012477\n",
       ":   8019.6108062664878\n",
       ":   7277.4677509693379\n",
       ":   2999.8064832558280\n",
       ":   5122.4120049967381\n",
       ":   2190.637443078982\n",
       ":   9310.1740665352483\n",
       ":   -3354.187315688584\n",
       ":   -324.08056611209385\n",
       ":   3952.5875208595186\n",
       ":   3631.8393017153787\n",
       ":   129.35096308418888\n",
       ":   2855.7359579264889\n",
       ":   3556.5274900450690\n",
       ":   -1479.5135360850891\n",
       ":   9288.213574845892\n",
       ":   2179.4886953026893\n",
       ":   2274.2215309066394\n",
       ":   2563.4613953926695\n",
       ":   4225.9551098566896\n",
       ":   779.35476637262997\n",
       ":   -2275.0675356098898\n",
       ":   2904.8407733390699\n",
       ":   1276.18575681504100\n",
       ":   1278.77949800168101\n",
       ":   1106.52488833093102\n",
       ":   1872.11890217375103\n",
       ":   2491.20505069081104\n",
       ":   5496.81554757196105\n",
       ":   7100.93204974382106\n",
       ":   2029.42471093689107\n",
       ":   6086.50404299722108\n",
       ":   6770.85899230805109\n",
       ":   229.654419792656110\n",
       ":   3410.59366971035111\n",
       ":   18753.9298630808112\n",
       ":   2464.93783388577113\n",
       ":   9614.92030264136114\n",
       ":   1084.00882682257115\n",
       ":   8543.2323809515116\n",
       ":   2825.44788089157117\n",
       ":   3470.9785470481118\n",
       ":   5349.37841885841119\n",
       ":   1957.02838737825120\n",
       ":   1942.46056909266121\n",
       ":   3656.12420217399122\n",
       ":   42166.0786594782123\n",
       ":   2646.91201627154124\n",
       ":   3912.29633727664125\n",
       ":   4053.21273794936126\n",
       ":   40416.3088155261127\n",
       ":   1718.55530132255128\n",
       ":   11344.8355840123129\n",
       ":   6449.57632010468130\n",
       ":   10343.4503716666131\n",
       ":   566.080172487302132\n",
       ":   2282.13105827633133\n",
       ":   3362.37196892649134\n",
       ":   2213.60459015082135\n",
       ":   4651.09395657194136\n",
       ":   17836.449861336137\n",
       ":   4905.41919551359138\n",
       ":   11939.7833450429139\n",
       ":   2934.46752999489140\n",
       ":   1059.70613969482141\n",
       ":   3578.68637161238142\n",
       ":   4774.13856910488143\n",
       ":   5340.39499497243144\n",
       ":   9744.24047688514145\n",
       ":   1838.44630518678146\n",
       ":   3450.35582952913147\n",
       ":   3280.22844632236148\n",
       ":   3919.93354796755149\n",
       ":   -53.2035118929793150\n",
       ":   11626.3868566865151\n",
       ":   -1610.41555450545152\n",
       ":   -3236.44776099906\n",
       "\n"
      ],
      "text/plain": [
       "           1            2            3            4            5            6 \n",
       "120079.64441  83760.50366 175521.57320 121612.06221 106098.40124  55938.33603 \n",
       "           7            8            9           10           11           12 \n",
       " 26731.80797 117272.89045  28840.86223  87223.75532  92856.55517  64095.73269 \n",
       "          13           14           15           16           17           18 \n",
       " 18557.12119  24286.45776  21705.85619  49834.13504  45256.38571  77519.74512 \n",
       "          19           20           21           22           23           24 \n",
       " 17218.54282  74394.60374 121111.85731  24012.47946  21354.39544  60809.35990 \n",
       "          25           26           27           28           29           30 \n",
       " 18627.13346  11284.39598  23499.00120  21500.09220  25216.04638  11877.92006 \n",
       "          31           32           33           34           35           36 \n",
       " 13693.12148   9721.37979  10832.99027  22447.69701   7824.80860  10957.93316 \n",
       "          37           38           39           40           41           42 \n",
       " 50497.45256  23384.85978   7904.67773  24703.22240  22618.86328  13201.88563 \n",
       "          43           44           45           46           47           48 \n",
       " 12816.75081  26147.31704  58131.60871   7523.01225   3977.22429   4591.40939 \n",
       "          49           50           51           52           53           54 \n",
       " 39003.22119  71627.77656   4759.88345  47644.48416  10530.78916   5199.11440 \n",
       "          55           56           57           58           59           60 \n",
       "  9368.46795  31579.44912   4231.50694   5598.23942   5136.52006   9102.06898 \n",
       "          61           62           63           64           65           66 \n",
       "  6984.12598   2384.85846  18303.36318   3520.11810   3322.44699   1989.42705 \n",
       "          67           68           69           70           71           72 \n",
       "  3352.59846  22782.56292  10769.62821   3902.99551  19176.20968   5598.20242 \n",
       "          73           74           75           76           77           78 \n",
       "  2753.45775  10039.03671   7357.93890   5058.81091   8019.61081   7277.46775 \n",
       "          79           80           81           82           83           84 \n",
       "  2999.80648   5122.41200   2190.63744   9310.17407  -3354.18732   -324.08057 \n",
       "          85           86           87           88           89           90 \n",
       "  3952.58752   3631.83930    129.35096   2855.73596   3556.52749  -1479.51354 \n",
       "          91           92           93           94           95           96 \n",
       "  9288.21357   2179.48870   2274.22153   2563.46140   4225.95511    779.35477 \n",
       "          97           98           99          100          101          102 \n",
       " -2275.06754   2904.84077   1276.18576   1278.77950   1106.52489   1872.11890 \n",
       "         103          104          105          106          107          108 \n",
       "  2491.20505   5496.81555   7100.93205   2029.42471   6086.50404   6770.85899 \n",
       "         109          110          111          112          113          114 \n",
       "   229.65442   3410.59367  18753.92986   2464.93783   9614.92030   1084.00883 \n",
       "         115          116          117          118          119          120 \n",
       "  8543.23238   2825.44788   3470.97855   5349.37842   1957.02839   1942.46057 \n",
       "         121          122          123          124          125          126 \n",
       "  3656.12420  42166.07866   2646.91202   3912.29634   4053.21274  40416.30882 \n",
       "         127          128          129          130          131          132 \n",
       "  1718.55530  11344.83558   6449.57632  10343.45037    566.08017   2282.13106 \n",
       "         133          134          135          136          137          138 \n",
       "  3362.37197   2213.60459   4651.09396  17836.44986   4905.41920  11939.78335 \n",
       "         139          140          141          142          143          144 \n",
       "  2934.46753   1059.70614   3578.68637   4774.13857   5340.39499   9744.24048 \n",
       "         145          146          147          148          149          150 \n",
       "  1838.44631   3450.35583   3280.22845   3919.93355    -53.20351  11626.38686 \n",
       "         151          152 \n",
       " -1610.41555  -3236.44776 "
      ]
     },
     "metadata": {},
     "output_type": "display_data"
    }
   ],
   "source": [
    "y_pred <- predict(model, newdata = X)\n",
    "y_pred"
   ]
  },
  {
   "cell_type": "code",
   "execution_count": 142,
   "id": "c7fecac3-1367-4aab-86dd-1a96b2fc3164",
   "metadata": {},
   "outputs": [],
   "source": [
    "picher <- cbind(picher, new_data= y_pred)"
   ]
  },
  {
   "cell_type": "code",
   "execution_count": 143,
   "id": "85b36d2d-3980-4005-abc7-89593c0fcb28",
   "metadata": {},
   "outputs": [
    {
     "data": {
      "text/html": [
       "<table class=\"dataframe\">\n",
       "<caption>A data.frame: 152 × 25</caption>\n",
       "<thead>\n",
       "\t<tr><th></th><th scope=col>선수명</th><th scope=col>팀명</th><th scope=col>승</th><th scope=col>패</th><th scope=col>세</th><th scope=col>홀드</th><th scope=col>블론</th><th scope=col>경기</th><th scope=col>선발</th><th scope=col>이닝</th><th scope=col>⋯</th><th scope=col>ERA</th><th scope=col>RA9.WAR</th><th scope=col>FIP</th><th scope=col>kFIP</th><th scope=col>WAR</th><th scope=col>연봉.2018.</th><th scope=col>연봉.2017.</th><th scope=col>new_col</th><th scope=col>new_col.1</th><th scope=col>new_data</th></tr>\n",
       "\t<tr><th></th><th scope=col>&lt;chr&gt;</th><th scope=col>&lt;chr&gt;</th><th scope=col>&lt;int&gt;</th><th scope=col>&lt;int&gt;</th><th scope=col>&lt;int&gt;</th><th scope=col>&lt;int&gt;</th><th scope=col>&lt;int&gt;</th><th scope=col>&lt;int&gt;</th><th scope=col>&lt;int&gt;</th><th scope=col>&lt;dbl&gt;</th><th scope=col>⋯</th><th scope=col>&lt;dbl&gt;</th><th scope=col>&lt;dbl&gt;</th><th scope=col>&lt;dbl&gt;</th><th scope=col>&lt;dbl&gt;</th><th scope=col>&lt;dbl&gt;</th><th scope=col>&lt;int&gt;</th><th scope=col>&lt;int&gt;</th><th scope=col>&lt;dbl&gt;</th><th scope=col>&lt;dbl&gt;</th><th scope=col>&lt;dbl&gt;</th></tr>\n",
       "</thead>\n",
       "<tbody>\n",
       "\t<tr><th scope=row>3</th><td>양현종  </td><td>KIA </td><td>20</td><td> 6</td><td> 0</td><td> 0</td><td>0</td><td>31</td><td>31</td><td>193.1</td><td>⋯</td><td>3.44</td><td> 6.54</td><td>3.94</td><td>3.82</td><td> 5.64</td><td>230000</td><td>150000</td><td>111180.99</td><td>180164.16</td><td>175521.57</td></tr>\n",
       "\t<tr><th scope=row>1</th><td>켈리    </td><td>SK  </td><td>16</td><td> 7</td><td> 0</td><td> 0</td><td>0</td><td>30</td><td>30</td><td>190.0</td><td>⋯</td><td>3.60</td><td> 6.91</td><td>3.69</td><td>3.44</td><td> 6.62</td><td>140000</td><td> 85000</td><td> 63003.59</td><td>127838.00</td><td>120079.64</td></tr>\n",
       "\t<tr><th scope=row>2</th><td>소사    </td><td>LG  </td><td>11</td><td>11</td><td> 1</td><td> 0</td><td>0</td><td>30</td><td>29</td><td>185.1</td><td>⋯</td><td>3.88</td><td> 6.80</td><td>3.52</td><td>3.41</td><td> 6.08</td><td>120000</td><td> 50000</td><td> 37061.64</td><td> 91955.34</td><td> 83760.50</td></tr>\n",
       "\t<tr><th scope=row>21</th><td>정우람  </td><td>한화</td><td> 6</td><td> 4</td><td>26</td><td> 0</td><td>5</td><td>56</td><td> 0</td><td> 59.0</td><td>⋯</td><td>2.75</td><td> 2.85</td><td>3.26</td><td>2.69</td><td> 1.81</td><td>120000</td><td>120000</td><td> 88943.64</td><td>119624.39</td><td>121111.86</td></tr>\n",
       "\t<tr><th scope=row>5</th><td>레일리  </td><td>롯데</td><td>13</td><td> 7</td><td> 0</td><td> 0</td><td>0</td><td>30</td><td>30</td><td>187.1</td><td>⋯</td><td>3.80</td><td> 6.13</td><td>4.36</td><td>4.31</td><td> 4.38</td><td>111000</td><td> 85000</td><td> 63002.89</td><td>110388.58</td><td>106098.40</td></tr>\n",
       "\t<tr><th scope=row>4</th><td>차우찬  </td><td>LG  </td><td>10</td><td> 7</td><td> 0</td><td> 0</td><td>0</td><td>28</td><td>28</td><td>175.2</td><td>⋯</td><td>3.43</td><td> 6.11</td><td>4.20</td><td>4.03</td><td> 4.63</td><td>100000</td><td>100000</td><td> 74120.86</td><td>125774.08</td><td>121612.06</td></tr>\n",
       "\t<tr><th scope=row>8</th><td>장원준  </td><td>두산</td><td>14</td><td> 9</td><td> 0</td><td> 0</td><td>0</td><td>29</td><td>29</td><td>180.1</td><td>⋯</td><td>3.14</td><td> 7.28</td><td>4.26</td><td>4.35</td><td> 3.85</td><td>100000</td><td>100000</td><td> 74120.70</td><td>120660.77</td><td>117272.89</td></tr>\n",
       "\t<tr><th scope=row>6</th><td>피어밴드</td><td>KT  </td><td> 8</td><td>10</td><td> 0</td><td> 0</td><td>0</td><td>26</td><td>26</td><td>160.0</td><td>⋯</td><td>3.04</td><td> 6.52</td><td>4.42</td><td>4.32</td><td> 3.94</td><td> 85000</td><td> 35000</td><td> 25942.97</td><td> 60851.77</td><td> 55938.34</td></tr>\n",
       "\t<tr><th scope=row>11</th><td>윤성환  </td><td>삼성</td><td>12</td><td> 9</td><td> 0</td><td> 0</td><td>0</td><td>28</td><td>28</td><td>174.1</td><td>⋯</td><td>4.28</td><td> 5.36</td><td>4.78</td><td>4.80</td><td> 3.03</td><td> 80000</td><td> 80000</td><td> 59296.47</td><td> 95138.61</td><td> 92856.56</td></tr>\n",
       "\t<tr><th scope=row>10</th><td>팻딘    </td><td>KIA </td><td> 9</td><td> 7</td><td> 0</td><td> 0</td><td>0</td><td>30</td><td>29</td><td>176.0</td><td>⋯</td><td>4.14</td><td> 5.66</td><td>4.65</td><td>4.61</td><td> 3.64</td><td> 70000</td><td> 70000</td><td> 51884.71</td><td> 90684.81</td><td> 87223.76</td></tr>\n",
       "\t<tr><th scope=row>18</th><td>우규민  </td><td>삼성</td><td> 7</td><td>10</td><td> 0</td><td> 0</td><td>0</td><td>27</td><td>25</td><td>133.0</td><td>⋯</td><td>5.21</td><td> 1.48</td><td>4.95</td><td>4.98</td><td> 2.14</td><td> 70000</td><td> 70000</td><td> 51884.20</td><td> 78523.00</td><td> 77519.75</td></tr>\n",
       "\t<tr><th scope=row>20</th><td>손승락  </td><td>롯데</td><td> 1</td><td> 3</td><td>37</td><td> 0</td><td>5</td><td>61</td><td> 0</td><td> 62.0</td><td>⋯</td><td>2.18</td><td> 3.91</td><td>3.69</td><td>3.37</td><td> 1.82</td><td> 70000</td><td> 70000</td><td> 51883.97</td><td> 74663.86</td><td> 74394.60</td></tr>\n",
       "\t<tr><th scope=row>45</th><td>이동현  </td><td>LG  </td><td> 3</td><td> 6</td><td> 7</td><td> 5</td><td>3</td><td>45</td><td> 0</td><td> 50.2</td><td>⋯</td><td>4.80</td><td> 1.22</td><td>3.64</td><td>3.59</td><td> 0.68</td><td> 60000</td><td> 60000</td><td> 44471.73</td><td> 57336.45</td><td> 58131.61</td></tr>\n",
       "\t<tr><th scope=row>12</th><td>유희관  </td><td>두산</td><td>11</td><td> 6</td><td> 0</td><td> 1</td><td>0</td><td>30</td><td>29</td><td>188.2</td><td>⋯</td><td>4.53</td><td> 4.79</td><td>4.78</td><td>4.97</td><td> 2.89</td><td> 50000</td><td> 50000</td><td> 37060.65</td><td> 67371.43</td><td> 64095.73</td></tr>\n",
       "\t<tr><th scope=row>24</th><td>배영수  </td><td>한화</td><td> 7</td><td> 8</td><td> 0</td><td> 0</td><td>0</td><td>25</td><td>25</td><td>128.0</td><td>⋯</td><td>5.06</td><td> 2.47</td><td>5.10</td><td>5.21</td><td> 1.68</td><td> 50000</td><td> 55000</td><td> 40766.17</td><td> 61693.57</td><td> 60809.36</td></tr>\n",
       "\t<tr><th scope=row>37</th><td>임창용  </td><td>KIA </td><td> 8</td><td> 6</td><td> 7</td><td> 9</td><td>5</td><td>51</td><td> 0</td><td> 50.0</td><td>⋯</td><td>3.78</td><td> 1.40</td><td>3.69</td><td>3.35</td><td> 0.96</td><td> 50000</td><td> 50000</td><td> 37059.82</td><td> 49996.69</td><td> 50497.45</td></tr>\n",
       "\t<tr><th scope=row>52</th><td>윤길현  </td><td>롯데</td><td> 1</td><td> 4</td><td> 0</td><td>13</td><td>2</td><td>40</td><td> 0</td><td> 39.1</td><td>⋯</td><td>6.41</td><td>-0.04</td><td>3.99</td><td>3.73</td><td> 0.50</td><td> 50000</td><td> 50000</td><td> 37059.67</td><td> 46413.16</td><td> 47644.48</td></tr>\n",
       "\t<tr><th scope=row>122</th><td>송은범  </td><td>한화</td><td> 0</td><td> 4</td><td> 1</td><td> 0</td><td>1</td><td>13</td><td> 6</td><td> 37.1</td><td>⋯</td><td>6.51</td><td> 0.10</td><td>6.33</td><td>6.79</td><td>-0.12</td><td> 45000</td><td> 45000</td><td> 33353.86</td><td> 41260.88</td><td> 42166.08</td></tr>\n",
       "\t<tr><th scope=row>126</th><td>권혁    </td><td>한화</td><td> 1</td><td> 3</td><td> 0</td><td>11</td><td>1</td><td>37</td><td> 0</td><td> 31.1</td><td>⋯</td><td>6.32</td><td> 0.04</td><td>6.48</td><td>6.78</td><td>-0.16</td><td> 45000</td><td> 45000</td><td> 33353.67</td><td> 38632.11</td><td> 40416.31</td></tr>\n",
       "\t<tr><th scope=row>16</th><td>송승준  </td><td>롯데</td><td>11</td><td> 5</td><td> 0</td><td> 1</td><td>1</td><td>30</td><td>22</td><td>130.1</td><td>⋯</td><td>4.21</td><td> 4.22</td><td>4.91</td><td>4.77</td><td> 2.20</td><td> 40000</td><td> 40000</td><td> 29648.38</td><td> 51762.94</td><td> 49834.14</td></tr>\n",
       "\t<tr><th scope=row>49</th><td>이현승  </td><td>두산</td><td> 3</td><td> 2</td><td> 5</td><td> 9</td><td>7</td><td>57</td><td> 0</td><td> 52.0</td><td>⋯</td><td>3.98</td><td> 1.69</td><td>4.25</td><td>4.30</td><td> 0.53</td><td> 40000</td><td> 40000</td><td> 29647.84</td><td> 38630.86</td><td> 39003.22</td></tr>\n",
       "\t<tr><th scope=row>41</th><td>안영명  </td><td>한화</td><td> 1</td><td> 8</td><td> 0</td><td> 0</td><td>1</td><td>25</td><td>16</td><td> 87.2</td><td>⋯</td><td>5.75</td><td> 0.52</td><td>5.19</td><td>5.34</td><td> 0.81</td><td> 35000</td><td> 20000</td><td> 14824.10</td><td> 23301.25</td><td> 22618.86</td></tr>\n",
       "\t<tr><th scope=row>68</th><td>채병용  </td><td>SK  </td><td> 6</td><td> 4</td><td> 0</td><td> 6</td><td>3</td><td>43</td><td> 0</td><td> 50.0</td><td>⋯</td><td>6.84</td><td>-0.17</td><td>5.05</td><td>4.94</td><td> 0.22</td><td> 30000</td><td> 25000</td><td> 18529.76</td><td> 21870.11</td><td> 22782.56</td></tr>\n",
       "\t<tr><th scope=row>17</th><td>류제국  </td><td>LG  </td><td> 8</td><td> 6</td><td> 0</td><td> 0</td><td>0</td><td>25</td><td>25</td><td>131.1</td><td>⋯</td><td>5.35</td><td> 1.53</td><td>4.79</td><td>4.84</td><td> 2.15</td><td> 29000</td><td> 35000</td><td> 25942.45</td><td> 47534.93</td><td> 45256.39</td></tr>\n",
       "\t<tr><th scope=row>14</th><td>박세웅  </td><td>롯데</td><td>12</td><td> 6</td><td> 0</td><td> 0</td><td>0</td><td>28</td><td>28</td><td>171.1</td><td>⋯</td><td>3.68</td><td> 5.92</td><td>5.07</td><td>5.14</td><td> 2.54</td><td> 25000</td><td> 10000</td><td>  7412.73</td><td> 27963.63</td><td> 24286.46</td></tr>\n",
       "\t<tr><th scope=row>40</th><td>임창민  </td><td>NC  </td><td> 4</td><td> 3</td><td>29</td><td> 0</td><td>6</td><td>60</td><td> 0</td><td> 66.0</td><td>⋯</td><td>3.68</td><td> 2.68</td><td>4.83</td><td>4.60</td><td> 0.89</td><td> 25000</td><td> 22500</td><td> 16677.00</td><td> 24913.36</td><td> 24703.22</td></tr>\n",
       "\t<tr><th scope=row>56</th><td>박정진  </td><td>한화</td><td> 3</td><td> 2</td><td> 1</td><td> 7</td><td>0</td><td>55</td><td> 0</td><td> 48.0</td><td>⋯</td><td>3.94</td><td> 0.87</td><td>4.92</td><td>4.66</td><td> 0.38</td><td> 25000</td><td> 33000</td><td> 24459.37</td><td> 30622.42</td><td> 31579.45</td></tr>\n",
       "\t<tr><th scope=row>136</th><td>송창식  </td><td>한화</td><td> 5</td><td> 6</td><td> 0</td><td>15</td><td>6</td><td>63</td><td> 0</td><td> 73.1</td><td>⋯</td><td>6.63</td><td>-0.74</td><td>5.68</td><td>5.59</td><td>-0.22</td><td> 24000</td><td> 22000</td><td> 16306.09</td><td> 16351.07</td><td> 17836.45</td></tr>\n",
       "\t<tr><th scope=row>27</th><td>김진성  </td><td>NC  </td><td>10</td><td> 6</td><td> 0</td><td>15</td><td>2</td><td>69</td><td> 0</td><td> 89.2</td><td>⋯</td><td>3.61</td><td> 3.20</td><td>4.30</td><td>3.92</td><td> 1.47</td><td> 23000</td><td> 18000</td><td> 13341.73</td><td> 24511.49</td><td> 23499.00</td></tr>\n",
       "\t<tr><th scope=row>38</th><td>심창민  </td><td>삼성</td><td> 4</td><td> 7</td><td> 6</td><td>16</td><td>2</td><td>66</td><td> 0</td><td> 75.1</td><td>⋯</td><td>4.18</td><td> 1.82</td><td>4.82</td><td>4.26</td><td> 0.93</td><td> 23000</td><td> 21000</td><td> 15565.14</td><td> 23185.40</td><td> 23384.86</td></tr>\n",
       "\t<tr><th scope=row>⋮</th><td>⋮</td><td>⋮</td><td>⋮</td><td>⋮</td><td>⋮</td><td>⋮</td><td>⋮</td><td>⋮</td><td>⋮</td><td>⋮</td><td>⋱</td><td>⋮</td><td>⋮</td><td>⋮</td><td>⋮</td><td>⋮</td><td>⋮</td><td>⋮</td><td>⋮</td><td>⋮</td><td>⋮</td></tr>\n",
       "\t<tr><th scope=row>99</th><td>박치국</td><td>두산</td><td>1</td><td>1</td><td>0</td><td>0</td><td>0</td><td>21</td><td>3</td><td>32.0</td><td>⋯</td><td> 6.75</td><td>-0.12</td><td> 5.39</td><td> 5.58</td><td> 0.00</td><td>3400</td><td>2700</td><td>2001.156</td><td> 1048.3622</td><td> 1276.1858</td></tr>\n",
       "\t<tr><th scope=row>102</th><td>허건엽</td><td>SK  </td><td>0</td><td>0</td><td>0</td><td>0</td><td>0</td><td> 8</td><td>0</td><td> 8.1</td><td>⋯</td><td> 8.64</td><td>-0.20</td><td> 5.29</td><td> 5.64</td><td>-0.01</td><td>3400</td><td>3300</td><td>2445.935</td><td> 2067.0516</td><td> 1872.1189</td></tr>\n",
       "\t<tr><th scope=row>105</th><td>고봉재</td><td>두산</td><td>0</td><td>0</td><td>0</td><td>0</td><td>0</td><td> 1</td><td>0</td><td> 1.0</td><td>⋯</td><td> 0.00</td><td> 0.04</td><td> 6.73</td><td> 7.64</td><td>-0.01</td><td>3300</td><td>4400</td><td>3261.709</td><td> 8820.0864</td><td> 7100.9320</td></tr>\n",
       "\t<tr><th scope=row>112</th><td>김시현</td><td>삼성</td><td>0</td><td>0</td><td>0</td><td>0</td><td>0</td><td>17</td><td>0</td><td>21.1</td><td>⋯</td><td> 7.59</td><td> 0.08</td><td> 7.06</td><td> 7.18</td><td>-0.05</td><td>3300</td><td>2700</td><td>2001.245</td><td> 2115.3516</td><td> 2464.9378</td></tr>\n",
       "\t<tr><th scope=row>120</th><td>강장산</td><td>KT  </td><td>0</td><td>0</td><td>0</td><td>0</td><td>0</td><td>17</td><td>0</td><td>26.1</td><td>⋯</td><td> 5.47</td><td> 0.54</td><td> 6.16</td><td> 6.46</td><td>-0.10</td><td>3300</td><td>3000</td><td>2223.583</td><td> 1795.4384</td><td> 1942.4606</td></tr>\n",
       "\t<tr><th scope=row>118</th><td>배민관</td><td>LG  </td><td>0</td><td>0</td><td>0</td><td>0</td><td>0</td><td> 4</td><td>0</td><td> 3.2</td><td>⋯</td><td> 9.82</td><td>-0.11</td><td> 9.46</td><td> 9.77</td><td>-0.08</td><td>3200</td><td>3000</td><td>2223.850</td><td> 5401.6928</td><td> 5349.3784</td></tr>\n",
       "\t<tr><th scope=row>140</th><td>이종혁</td><td>KT  </td><td>2</td><td>0</td><td>0</td><td>0</td><td>0</td><td>16</td><td>0</td><td>19.0</td><td>⋯</td><td> 6.63</td><td>-0.09</td><td> 7.10</td><td> 7.57</td><td>-0.25</td><td>3200</td><td>2700</td><td>2001.196</td><td>  564.4227</td><td> 1059.7061</td></tr>\n",
       "\t<tr><th scope=row>70</th><td>최지광</td><td>삼성</td><td>0</td><td>2</td><td>0</td><td>0</td><td>0</td><td>11</td><td>6</td><td>25.0</td><td>⋯</td><td> 6.48</td><td>-0.16</td><td> 5.69</td><td> 5.65</td><td> 0.21</td><td>3100</td><td>2700</td><td>2001.325</td><td> 4206.2468</td><td> 3902.9955</td></tr>\n",
       "\t<tr><th scope=row>73</th><td>박세진</td><td>KT  </td><td>0</td><td>2</td><td>0</td><td>0</td><td>0</td><td> 4</td><td>3</td><td>11.1</td><td>⋯</td><td> 9.53</td><td>-0.13</td><td> 4.44</td><td> 4.67</td><td> 0.18</td><td>3100</td><td>3000</td><td>2223.610</td><td> 3189.5874</td><td> 2753.4578</td></tr>\n",
       "\t<tr><th scope=row>101</th><td>박상원</td><td>한화</td><td>0</td><td>0</td><td>0</td><td>1</td><td>0</td><td>18</td><td>0</td><td>21.2</td><td>⋯</td><td> 4.15</td><td> 0.32</td><td> 5.30</td><td> 5.42</td><td> 0.00</td><td>3100</td><td>2700</td><td>2001.158</td><td>  968.7329</td><td> 1106.5249</td></tr>\n",
       "\t<tr><th scope=row>81</th><td>김대유</td><td>SK  </td><td>0</td><td>0</td><td>0</td><td>0</td><td>0</td><td> 6</td><td>0</td><td> 4.2</td><td>⋯</td><td> 9.64</td><td> 0.08</td><td> 5.88</td><td> 5.91</td><td> 0.09</td><td>3000</td><td>2700</td><td>2001.218</td><td> 2139.0137</td><td> 2190.6374</td></tr>\n",
       "\t<tr><th scope=row>84</th><td>손주영</td><td>LG  </td><td>0</td><td>0</td><td>0</td><td>0</td><td>0</td><td> 5</td><td>0</td><td> 6.0</td><td>⋯</td><td> 4.50</td><td> 0.06</td><td> 3.07</td><td> 3.08</td><td> 0.08</td><td>3000</td><td>2700</td><td>2001.010</td><td> -539.4368</td><td> -324.0806</td></tr>\n",
       "\t<tr><th scope=row>87</th><td>김진영</td><td>한화</td><td>0</td><td>0</td><td>0</td><td>0</td><td>0</td><td> 3</td><td>0</td><td> 2.2</td><td>⋯</td><td>10.12</td><td>-0.02</td><td> 2.98</td><td> 2.29</td><td> 0.07</td><td>3000</td><td>2700</td><td>2000.967</td><td> -560.7629</td><td>  129.3510</td></tr>\n",
       "\t<tr><th scope=row>98</th><td>임진우</td><td>두산</td><td>0</td><td>0</td><td>0</td><td>0</td><td>0</td><td> 1</td><td>0</td><td> 1.0</td><td>⋯</td><td>27.00</td><td>-0.11</td><td> 4.73</td><td> 4.61</td><td> 0.00</td><td>3000</td><td>3200</td><td>2371.857</td><td> 3087.5908</td><td> 2904.8408</td></tr>\n",
       "\t<tr><th scope=row>109</th><td>서균  </td><td>한화</td><td>0</td><td>0</td><td>0</td><td>0</td><td>0</td><td>14</td><td>0</td><td>14.1</td><td>⋯</td><td> 4.40</td><td> 0.25</td><td> 5.41</td><td> 5.58</td><td>-0.04</td><td>3000</td><td>2700</td><td>2001.060</td><td> -370.1056</td><td>  229.6544</td></tr>\n",
       "\t<tr><th scope=row>121</th><td>홍성무</td><td>KT  </td><td>0</td><td>1</td><td>0</td><td>0</td><td>0</td><td> 7</td><td>0</td><td> 6.1</td><td>⋯</td><td>12.79</td><td>-0.29</td><td> 7.37</td><td> 7.58</td><td>-0.11</td><td>3000</td><td>3000</td><td>2223.730</td><td> 3741.6415</td><td> 3656.1242</td></tr>\n",
       "\t<tr><th scope=row>127</th><td>배제성</td><td>KT  </td><td>0</td><td>0</td><td>0</td><td>0</td><td>0</td><td>21</td><td>1</td><td>32.0</td><td>⋯</td><td> 8.72</td><td>-0.10</td><td> 6.39</td><td> 6.59</td><td>-0.17</td><td>3000</td><td>2700</td><td>2001.242</td><td> 1539.0311</td><td> 1718.5553</td></tr>\n",
       "\t<tr><th scope=row>137</th><td>배재환</td><td>NC  </td><td>0</td><td>1</td><td>0</td><td>0</td><td>0</td><td> 3</td><td>1</td><td> 8.0</td><td>⋯</td><td> 9.00</td><td>-0.16</td><td>11.48</td><td>11.73</td><td>-0.23</td><td>3000</td><td>4000</td><td>2964.893</td><td> 3807.0275</td><td> 4905.4192</td></tr>\n",
       "\t<tr><th scope=row>142</th><td>정영일</td><td>SK  </td><td>0</td><td>0</td><td>0</td><td>0</td><td>0</td><td> 9</td><td>0</td><td> 8.0</td><td>⋯</td><td>10.12</td><td>-0.61</td><td>10.73</td><td>11.37</td><td>-0.30</td><td>3000</td><td>4000</td><td>2964.964</td><td> 4241.1480</td><td> 4774.1386</td></tr>\n",
       "\t<tr><th scope=row>96</th><td>김도영</td><td>KT  </td><td>0</td><td>0</td><td>0</td><td>0</td><td>0</td><td> 1</td><td>0</td><td> 1.0</td><td>⋯</td><td> 0.00</td><td> 0.04</td><td> 3.73</td><td> 4.43</td><td> 0.00</td><td>2900</td><td>2700</td><td>2001.259</td><td> 1731.9157</td><td>  779.3548</td></tr>\n",
       "\t<tr><th scope=row>97</th><td>조근종</td><td>KT  </td><td>0</td><td>0</td><td>0</td><td>0</td><td>0</td><td> 1</td><td>0</td><td> 2.0</td><td>⋯</td><td>22.50</td><td>-0.16</td><td> 6.73</td><td> 4.86</td><td> 0.00</td><td>2900</td><td>2700</td><td>2000.470</td><td>-6343.0220</td><td>-2275.0675</td></tr>\n",
       "\t<tr><th scope=row>108</th><td>안규현</td><td>삼성</td><td>0</td><td>0</td><td>0</td><td>0</td><td>0</td><td> 1</td><td>0</td><td> 2.0</td><td>⋯</td><td> 9.00</td><td>-0.04</td><td> 8.73</td><td> 9.67</td><td>-0.04</td><td>2900</td><td>2800</td><td>2075.799</td><td> 7768.8014</td><td> 6770.8590</td></tr>\n",
       "\t<tr><th scope=row>115</th><td>김종훈</td><td>KIA </td><td>0</td><td>0</td><td>0</td><td>0</td><td>0</td><td> 1</td><td>0</td><td> 1.0</td><td>⋯</td><td>36.00</td><td>-0.16</td><td>18.73</td><td>17.60</td><td>-0.06</td><td>2900</td><td>2800</td><td>2075.467</td><td> 4943.5065</td><td> 8543.2324</td></tr>\n",
       "\t<tr><th scope=row>132</th><td>최성영</td><td>NC  </td><td>0</td><td>0</td><td>0</td><td>0</td><td>0</td><td> 7</td><td>0</td><td>11.1</td><td>⋯</td><td> 9.53</td><td>-0.26</td><td> 9.29</td><td> 9.48</td><td>-0.20</td><td>2900</td><td>2900</td><td>2149.435</td><td> 1140.0750</td><td> 2282.1311</td></tr>\n",
       "\t<tr><th scope=row>83</th><td>장지훈</td><td>삼성</td><td>0</td><td>0</td><td>0</td><td>0</td><td>0</td><td> 4</td><td>0</td><td> 2.1</td><td>⋯</td><td> 0.00</td><td> 0.09</td><td> 0.73</td><td>-0.69</td><td> 0.08</td><td>2800</td><td>2700</td><td>2000.563</td><td>-5315.1733</td><td>-3354.1873</td></tr>\n",
       "\t<tr><th scope=row>90</th><td>차재용</td><td>롯데</td><td>0</td><td>0</td><td>0</td><td>0</td><td>0</td><td> 3</td><td>0</td><td> 2.1</td><td>⋯</td><td> 0.00</td><td> 0.08</td><td> 2.02</td><td> 1.83</td><td> 0.05</td><td>2800</td><td>2800</td><td>2075.035</td><td>-1808.0465</td><td>-1479.5135</td></tr>\n",
       "\t<tr><th scope=row>106</th><td>이수민</td><td>삼성</td><td>0</td><td>0</td><td>0</td><td>0</td><td>0</td><td> 1</td><td>0</td><td> 2.2</td><td>⋯</td><td>10.12</td><td>-0.15</td><td> 5.23</td><td> 5.95</td><td>-0.01</td><td>2800</td><td>3000</td><td>2223.624</td><td> 2419.1537</td><td> 2029.4247</td></tr>\n",
       "\t<tr><th scope=row>94</th><td>장민익</td><td>두산</td><td>0</td><td>0</td><td>0</td><td>0</td><td>0</td><td> 3</td><td>0</td><td> 2.0</td><td>⋯</td><td> 0.00</td><td> 0.08</td><td> 4.73</td><td> 4.61</td><td> 0.02</td><td>2700</td><td>2700</td><td>2001.266</td><td> 2792.7349</td><td> 2563.4614</td></tr>\n",
       "\t<tr><th scope=row>104</th><td>성영훈</td><td>두산</td><td>0</td><td>0</td><td>0</td><td>0</td><td>0</td><td> 1</td><td>0</td><td> 1.0</td><td>⋯</td><td> 0.00</td><td> 0.04</td><td> 6.73</td><td> 7.64</td><td>-0.01</td><td>2700</td><td>2700</td><td>2001.678</td><td> 7263.5285</td><td> 5496.8155</td></tr>\n",
       "\t<tr><th scope=row>116</th><td>정동윤</td><td>SK  </td><td>0</td><td>0</td><td>0</td><td>0</td><td>0</td><td> 2</td><td>0</td><td> 3.0</td><td>⋯</td><td> 9.00</td><td>-0.03</td><td> 9.40</td><td>10.05</td><td>-0.07</td><td>2700</td><td>2700</td><td>2001.280</td><td> 2205.1885</td><td> 2825.4479</td></tr>\n",
       "</tbody>\n",
       "</table>\n"
      ],
      "text/latex": [
       "A data.frame: 152 × 25\n",
       "\\begin{tabular}{r|lllllllllllllllllllll}\n",
       "  & 선수명 & 팀명 & 승 & 패 & 세 & 홀드 & 블론 & 경기 & 선발 & 이닝 & ⋯ & ERA & RA9.WAR & FIP & kFIP & WAR & 연봉.2018. & 연봉.2017. & new\\_col & new\\_col.1 & new\\_data\\\\\n",
       "  & <chr> & <chr> & <int> & <int> & <int> & <int> & <int> & <int> & <int> & <dbl> & ⋯ & <dbl> & <dbl> & <dbl> & <dbl> & <dbl> & <int> & <int> & <dbl> & <dbl> & <dbl>\\\\\n",
       "\\hline\n",
       "\t3 & 양현종   & KIA  & 20 &  6 &  0 &  0 & 0 & 31 & 31 & 193.1 & ⋯ & 3.44 &  6.54 & 3.94 & 3.82 &  5.64 & 230000 & 150000 & 111180.99 & 180164.16 & 175521.57\\\\\n",
       "\t1 & 켈리     & SK   & 16 &  7 &  0 &  0 & 0 & 30 & 30 & 190.0 & ⋯ & 3.60 &  6.91 & 3.69 & 3.44 &  6.62 & 140000 &  85000 &  63003.59 & 127838.00 & 120079.64\\\\\n",
       "\t2 & 소사     & LG   & 11 & 11 &  1 &  0 & 0 & 30 & 29 & 185.1 & ⋯ & 3.88 &  6.80 & 3.52 & 3.41 &  6.08 & 120000 &  50000 &  37061.64 &  91955.34 &  83760.50\\\\\n",
       "\t21 & 정우람   & 한화 &  6 &  4 & 26 &  0 & 5 & 56 &  0 &  59.0 & ⋯ & 2.75 &  2.85 & 3.26 & 2.69 &  1.81 & 120000 & 120000 &  88943.64 & 119624.39 & 121111.86\\\\\n",
       "\t5 & 레일리   & 롯데 & 13 &  7 &  0 &  0 & 0 & 30 & 30 & 187.1 & ⋯ & 3.80 &  6.13 & 4.36 & 4.31 &  4.38 & 111000 &  85000 &  63002.89 & 110388.58 & 106098.40\\\\\n",
       "\t4 & 차우찬   & LG   & 10 &  7 &  0 &  0 & 0 & 28 & 28 & 175.2 & ⋯ & 3.43 &  6.11 & 4.20 & 4.03 &  4.63 & 100000 & 100000 &  74120.86 & 125774.08 & 121612.06\\\\\n",
       "\t8 & 장원준   & 두산 & 14 &  9 &  0 &  0 & 0 & 29 & 29 & 180.1 & ⋯ & 3.14 &  7.28 & 4.26 & 4.35 &  3.85 & 100000 & 100000 &  74120.70 & 120660.77 & 117272.89\\\\\n",
       "\t6 & 피어밴드 & KT   &  8 & 10 &  0 &  0 & 0 & 26 & 26 & 160.0 & ⋯ & 3.04 &  6.52 & 4.42 & 4.32 &  3.94 &  85000 &  35000 &  25942.97 &  60851.77 &  55938.34\\\\\n",
       "\t11 & 윤성환   & 삼성 & 12 &  9 &  0 &  0 & 0 & 28 & 28 & 174.1 & ⋯ & 4.28 &  5.36 & 4.78 & 4.80 &  3.03 &  80000 &  80000 &  59296.47 &  95138.61 &  92856.56\\\\\n",
       "\t10 & 팻딘     & KIA  &  9 &  7 &  0 &  0 & 0 & 30 & 29 & 176.0 & ⋯ & 4.14 &  5.66 & 4.65 & 4.61 &  3.64 &  70000 &  70000 &  51884.71 &  90684.81 &  87223.76\\\\\n",
       "\t18 & 우규민   & 삼성 &  7 & 10 &  0 &  0 & 0 & 27 & 25 & 133.0 & ⋯ & 5.21 &  1.48 & 4.95 & 4.98 &  2.14 &  70000 &  70000 &  51884.20 &  78523.00 &  77519.75\\\\\n",
       "\t20 & 손승락   & 롯데 &  1 &  3 & 37 &  0 & 5 & 61 &  0 &  62.0 & ⋯ & 2.18 &  3.91 & 3.69 & 3.37 &  1.82 &  70000 &  70000 &  51883.97 &  74663.86 &  74394.60\\\\\n",
       "\t45 & 이동현   & LG   &  3 &  6 &  7 &  5 & 3 & 45 &  0 &  50.2 & ⋯ & 4.80 &  1.22 & 3.64 & 3.59 &  0.68 &  60000 &  60000 &  44471.73 &  57336.45 &  58131.61\\\\\n",
       "\t12 & 유희관   & 두산 & 11 &  6 &  0 &  1 & 0 & 30 & 29 & 188.2 & ⋯ & 4.53 &  4.79 & 4.78 & 4.97 &  2.89 &  50000 &  50000 &  37060.65 &  67371.43 &  64095.73\\\\\n",
       "\t24 & 배영수   & 한화 &  7 &  8 &  0 &  0 & 0 & 25 & 25 & 128.0 & ⋯ & 5.06 &  2.47 & 5.10 & 5.21 &  1.68 &  50000 &  55000 &  40766.17 &  61693.57 &  60809.36\\\\\n",
       "\t37 & 임창용   & KIA  &  8 &  6 &  7 &  9 & 5 & 51 &  0 &  50.0 & ⋯ & 3.78 &  1.40 & 3.69 & 3.35 &  0.96 &  50000 &  50000 &  37059.82 &  49996.69 &  50497.45\\\\\n",
       "\t52 & 윤길현   & 롯데 &  1 &  4 &  0 & 13 & 2 & 40 &  0 &  39.1 & ⋯ & 6.41 & -0.04 & 3.99 & 3.73 &  0.50 &  50000 &  50000 &  37059.67 &  46413.16 &  47644.48\\\\\n",
       "\t122 & 송은범   & 한화 &  0 &  4 &  1 &  0 & 1 & 13 &  6 &  37.1 & ⋯ & 6.51 &  0.10 & 6.33 & 6.79 & -0.12 &  45000 &  45000 &  33353.86 &  41260.88 &  42166.08\\\\\n",
       "\t126 & 권혁     & 한화 &  1 &  3 &  0 & 11 & 1 & 37 &  0 &  31.1 & ⋯ & 6.32 &  0.04 & 6.48 & 6.78 & -0.16 &  45000 &  45000 &  33353.67 &  38632.11 &  40416.31\\\\\n",
       "\t16 & 송승준   & 롯데 & 11 &  5 &  0 &  1 & 1 & 30 & 22 & 130.1 & ⋯ & 4.21 &  4.22 & 4.91 & 4.77 &  2.20 &  40000 &  40000 &  29648.38 &  51762.94 &  49834.14\\\\\n",
       "\t49 & 이현승   & 두산 &  3 &  2 &  5 &  9 & 7 & 57 &  0 &  52.0 & ⋯ & 3.98 &  1.69 & 4.25 & 4.30 &  0.53 &  40000 &  40000 &  29647.84 &  38630.86 &  39003.22\\\\\n",
       "\t41 & 안영명   & 한화 &  1 &  8 &  0 &  0 & 1 & 25 & 16 &  87.2 & ⋯ & 5.75 &  0.52 & 5.19 & 5.34 &  0.81 &  35000 &  20000 &  14824.10 &  23301.25 &  22618.86\\\\\n",
       "\t68 & 채병용   & SK   &  6 &  4 &  0 &  6 & 3 & 43 &  0 &  50.0 & ⋯ & 6.84 & -0.17 & 5.05 & 4.94 &  0.22 &  30000 &  25000 &  18529.76 &  21870.11 &  22782.56\\\\\n",
       "\t17 & 류제국   & LG   &  8 &  6 &  0 &  0 & 0 & 25 & 25 & 131.1 & ⋯ & 5.35 &  1.53 & 4.79 & 4.84 &  2.15 &  29000 &  35000 &  25942.45 &  47534.93 &  45256.39\\\\\n",
       "\t14 & 박세웅   & 롯데 & 12 &  6 &  0 &  0 & 0 & 28 & 28 & 171.1 & ⋯ & 3.68 &  5.92 & 5.07 & 5.14 &  2.54 &  25000 &  10000 &   7412.73 &  27963.63 &  24286.46\\\\\n",
       "\t40 & 임창민   & NC   &  4 &  3 & 29 &  0 & 6 & 60 &  0 &  66.0 & ⋯ & 3.68 &  2.68 & 4.83 & 4.60 &  0.89 &  25000 &  22500 &  16677.00 &  24913.36 &  24703.22\\\\\n",
       "\t56 & 박정진   & 한화 &  3 &  2 &  1 &  7 & 0 & 55 &  0 &  48.0 & ⋯ & 3.94 &  0.87 & 4.92 & 4.66 &  0.38 &  25000 &  33000 &  24459.37 &  30622.42 &  31579.45\\\\\n",
       "\t136 & 송창식   & 한화 &  5 &  6 &  0 & 15 & 6 & 63 &  0 &  73.1 & ⋯ & 6.63 & -0.74 & 5.68 & 5.59 & -0.22 &  24000 &  22000 &  16306.09 &  16351.07 &  17836.45\\\\\n",
       "\t27 & 김진성   & NC   & 10 &  6 &  0 & 15 & 2 & 69 &  0 &  89.2 & ⋯ & 3.61 &  3.20 & 4.30 & 3.92 &  1.47 &  23000 &  18000 &  13341.73 &  24511.49 &  23499.00\\\\\n",
       "\t38 & 심창민   & 삼성 &  4 &  7 &  6 & 16 & 2 & 66 &  0 &  75.1 & ⋯ & 4.18 &  1.82 & 4.82 & 4.26 &  0.93 &  23000 &  21000 &  15565.14 &  23185.40 &  23384.86\\\\\n",
       "\t⋮ & ⋮ & ⋮ & ⋮ & ⋮ & ⋮ & ⋮ & ⋮ & ⋮ & ⋮ & ⋮ & ⋱ & ⋮ & ⋮ & ⋮ & ⋮ & ⋮ & ⋮ & ⋮ & ⋮ & ⋮ & ⋮\\\\\n",
       "\t99 & 박치국 & 두산 & 1 & 1 & 0 & 0 & 0 & 21 & 3 & 32.0 & ⋯ &  6.75 & -0.12 &  5.39 &  5.58 &  0.00 & 3400 & 2700 & 2001.156 &  1048.3622 &  1276.1858\\\\\n",
       "\t102 & 허건엽 & SK   & 0 & 0 & 0 & 0 & 0 &  8 & 0 &  8.1 & ⋯ &  8.64 & -0.20 &  5.29 &  5.64 & -0.01 & 3400 & 3300 & 2445.935 &  2067.0516 &  1872.1189\\\\\n",
       "\t105 & 고봉재 & 두산 & 0 & 0 & 0 & 0 & 0 &  1 & 0 &  1.0 & ⋯ &  0.00 &  0.04 &  6.73 &  7.64 & -0.01 & 3300 & 4400 & 3261.709 &  8820.0864 &  7100.9320\\\\\n",
       "\t112 & 김시현 & 삼성 & 0 & 0 & 0 & 0 & 0 & 17 & 0 & 21.1 & ⋯ &  7.59 &  0.08 &  7.06 &  7.18 & -0.05 & 3300 & 2700 & 2001.245 &  2115.3516 &  2464.9378\\\\\n",
       "\t120 & 강장산 & KT   & 0 & 0 & 0 & 0 & 0 & 17 & 0 & 26.1 & ⋯ &  5.47 &  0.54 &  6.16 &  6.46 & -0.10 & 3300 & 3000 & 2223.583 &  1795.4384 &  1942.4606\\\\\n",
       "\t118 & 배민관 & LG   & 0 & 0 & 0 & 0 & 0 &  4 & 0 &  3.2 & ⋯ &  9.82 & -0.11 &  9.46 &  9.77 & -0.08 & 3200 & 3000 & 2223.850 &  5401.6928 &  5349.3784\\\\\n",
       "\t140 & 이종혁 & KT   & 2 & 0 & 0 & 0 & 0 & 16 & 0 & 19.0 & ⋯ &  6.63 & -0.09 &  7.10 &  7.57 & -0.25 & 3200 & 2700 & 2001.196 &   564.4227 &  1059.7061\\\\\n",
       "\t70 & 최지광 & 삼성 & 0 & 2 & 0 & 0 & 0 & 11 & 6 & 25.0 & ⋯ &  6.48 & -0.16 &  5.69 &  5.65 &  0.21 & 3100 & 2700 & 2001.325 &  4206.2468 &  3902.9955\\\\\n",
       "\t73 & 박세진 & KT   & 0 & 2 & 0 & 0 & 0 &  4 & 3 & 11.1 & ⋯ &  9.53 & -0.13 &  4.44 &  4.67 &  0.18 & 3100 & 3000 & 2223.610 &  3189.5874 &  2753.4578\\\\\n",
       "\t101 & 박상원 & 한화 & 0 & 0 & 0 & 1 & 0 & 18 & 0 & 21.2 & ⋯ &  4.15 &  0.32 &  5.30 &  5.42 &  0.00 & 3100 & 2700 & 2001.158 &   968.7329 &  1106.5249\\\\\n",
       "\t81 & 김대유 & SK   & 0 & 0 & 0 & 0 & 0 &  6 & 0 &  4.2 & ⋯ &  9.64 &  0.08 &  5.88 &  5.91 &  0.09 & 3000 & 2700 & 2001.218 &  2139.0137 &  2190.6374\\\\\n",
       "\t84 & 손주영 & LG   & 0 & 0 & 0 & 0 & 0 &  5 & 0 &  6.0 & ⋯ &  4.50 &  0.06 &  3.07 &  3.08 &  0.08 & 3000 & 2700 & 2001.010 &  -539.4368 &  -324.0806\\\\\n",
       "\t87 & 김진영 & 한화 & 0 & 0 & 0 & 0 & 0 &  3 & 0 &  2.2 & ⋯ & 10.12 & -0.02 &  2.98 &  2.29 &  0.07 & 3000 & 2700 & 2000.967 &  -560.7629 &   129.3510\\\\\n",
       "\t98 & 임진우 & 두산 & 0 & 0 & 0 & 0 & 0 &  1 & 0 &  1.0 & ⋯ & 27.00 & -0.11 &  4.73 &  4.61 &  0.00 & 3000 & 3200 & 2371.857 &  3087.5908 &  2904.8408\\\\\n",
       "\t109 & 서균   & 한화 & 0 & 0 & 0 & 0 & 0 & 14 & 0 & 14.1 & ⋯ &  4.40 &  0.25 &  5.41 &  5.58 & -0.04 & 3000 & 2700 & 2001.060 &  -370.1056 &   229.6544\\\\\n",
       "\t121 & 홍성무 & KT   & 0 & 1 & 0 & 0 & 0 &  7 & 0 &  6.1 & ⋯ & 12.79 & -0.29 &  7.37 &  7.58 & -0.11 & 3000 & 3000 & 2223.730 &  3741.6415 &  3656.1242\\\\\n",
       "\t127 & 배제성 & KT   & 0 & 0 & 0 & 0 & 0 & 21 & 1 & 32.0 & ⋯ &  8.72 & -0.10 &  6.39 &  6.59 & -0.17 & 3000 & 2700 & 2001.242 &  1539.0311 &  1718.5553\\\\\n",
       "\t137 & 배재환 & NC   & 0 & 1 & 0 & 0 & 0 &  3 & 1 &  8.0 & ⋯ &  9.00 & -0.16 & 11.48 & 11.73 & -0.23 & 3000 & 4000 & 2964.893 &  3807.0275 &  4905.4192\\\\\n",
       "\t142 & 정영일 & SK   & 0 & 0 & 0 & 0 & 0 &  9 & 0 &  8.0 & ⋯ & 10.12 & -0.61 & 10.73 & 11.37 & -0.30 & 3000 & 4000 & 2964.964 &  4241.1480 &  4774.1386\\\\\n",
       "\t96 & 김도영 & KT   & 0 & 0 & 0 & 0 & 0 &  1 & 0 &  1.0 & ⋯ &  0.00 &  0.04 &  3.73 &  4.43 &  0.00 & 2900 & 2700 & 2001.259 &  1731.9157 &   779.3548\\\\\n",
       "\t97 & 조근종 & KT   & 0 & 0 & 0 & 0 & 0 &  1 & 0 &  2.0 & ⋯ & 22.50 & -0.16 &  6.73 &  4.86 &  0.00 & 2900 & 2700 & 2000.470 & -6343.0220 & -2275.0675\\\\\n",
       "\t108 & 안규현 & 삼성 & 0 & 0 & 0 & 0 & 0 &  1 & 0 &  2.0 & ⋯ &  9.00 & -0.04 &  8.73 &  9.67 & -0.04 & 2900 & 2800 & 2075.799 &  7768.8014 &  6770.8590\\\\\n",
       "\t115 & 김종훈 & KIA  & 0 & 0 & 0 & 0 & 0 &  1 & 0 &  1.0 & ⋯ & 36.00 & -0.16 & 18.73 & 17.60 & -0.06 & 2900 & 2800 & 2075.467 &  4943.5065 &  8543.2324\\\\\n",
       "\t132 & 최성영 & NC   & 0 & 0 & 0 & 0 & 0 &  7 & 0 & 11.1 & ⋯ &  9.53 & -0.26 &  9.29 &  9.48 & -0.20 & 2900 & 2900 & 2149.435 &  1140.0750 &  2282.1311\\\\\n",
       "\t83 & 장지훈 & 삼성 & 0 & 0 & 0 & 0 & 0 &  4 & 0 &  2.1 & ⋯ &  0.00 &  0.09 &  0.73 & -0.69 &  0.08 & 2800 & 2700 & 2000.563 & -5315.1733 & -3354.1873\\\\\n",
       "\t90 & 차재용 & 롯데 & 0 & 0 & 0 & 0 & 0 &  3 & 0 &  2.1 & ⋯ &  0.00 &  0.08 &  2.02 &  1.83 &  0.05 & 2800 & 2800 & 2075.035 & -1808.0465 & -1479.5135\\\\\n",
       "\t106 & 이수민 & 삼성 & 0 & 0 & 0 & 0 & 0 &  1 & 0 &  2.2 & ⋯ & 10.12 & -0.15 &  5.23 &  5.95 & -0.01 & 2800 & 3000 & 2223.624 &  2419.1537 &  2029.4247\\\\\n",
       "\t94 & 장민익 & 두산 & 0 & 0 & 0 & 0 & 0 &  3 & 0 &  2.0 & ⋯ &  0.00 &  0.08 &  4.73 &  4.61 &  0.02 & 2700 & 2700 & 2001.266 &  2792.7349 &  2563.4614\\\\\n",
       "\t104 & 성영훈 & 두산 & 0 & 0 & 0 & 0 & 0 &  1 & 0 &  1.0 & ⋯ &  0.00 &  0.04 &  6.73 &  7.64 & -0.01 & 2700 & 2700 & 2001.678 &  7263.5285 &  5496.8155\\\\\n",
       "\t116 & 정동윤 & SK   & 0 & 0 & 0 & 0 & 0 &  2 & 0 &  3.0 & ⋯ &  9.00 & -0.03 &  9.40 & 10.05 & -0.07 & 2700 & 2700 & 2001.280 &  2205.1885 &  2825.4479\\\\\n",
       "\\end{tabular}\n"
      ],
      "text/markdown": [
       "\n",
       "A data.frame: 152 × 25\n",
       "\n",
       "| <!--/--> | 선수명 &lt;chr&gt; | 팀명 &lt;chr&gt; | 승 &lt;int&gt; | 패 &lt;int&gt; | 세 &lt;int&gt; | 홀드 &lt;int&gt; | 블론 &lt;int&gt; | 경기 &lt;int&gt; | 선발 &lt;int&gt; | 이닝 &lt;dbl&gt; | ⋯ ⋯ | ERA &lt;dbl&gt; | RA9.WAR &lt;dbl&gt; | FIP &lt;dbl&gt; | kFIP &lt;dbl&gt; | WAR &lt;dbl&gt; | 연봉.2018. &lt;int&gt; | 연봉.2017. &lt;int&gt; | new_col &lt;dbl&gt; | new_col.1 &lt;dbl&gt; | new_data &lt;dbl&gt; |\n",
       "|---|---|---|---|---|---|---|---|---|---|---|---|---|---|---|---|---|---|---|---|---|---|\n",
       "| 3 | 양현종   | KIA  | 20 |  6 |  0 |  0 | 0 | 31 | 31 | 193.1 | ⋯ | 3.44 |  6.54 | 3.94 | 3.82 |  5.64 | 230000 | 150000 | 111180.99 | 180164.16 | 175521.57 |\n",
       "| 1 | 켈리     | SK   | 16 |  7 |  0 |  0 | 0 | 30 | 30 | 190.0 | ⋯ | 3.60 |  6.91 | 3.69 | 3.44 |  6.62 | 140000 |  85000 |  63003.59 | 127838.00 | 120079.64 |\n",
       "| 2 | 소사     | LG   | 11 | 11 |  1 |  0 | 0 | 30 | 29 | 185.1 | ⋯ | 3.88 |  6.80 | 3.52 | 3.41 |  6.08 | 120000 |  50000 |  37061.64 |  91955.34 |  83760.50 |\n",
       "| 21 | 정우람   | 한화 |  6 |  4 | 26 |  0 | 5 | 56 |  0 |  59.0 | ⋯ | 2.75 |  2.85 | 3.26 | 2.69 |  1.81 | 120000 | 120000 |  88943.64 | 119624.39 | 121111.86 |\n",
       "| 5 | 레일리   | 롯데 | 13 |  7 |  0 |  0 | 0 | 30 | 30 | 187.1 | ⋯ | 3.80 |  6.13 | 4.36 | 4.31 |  4.38 | 111000 |  85000 |  63002.89 | 110388.58 | 106098.40 |\n",
       "| 4 | 차우찬   | LG   | 10 |  7 |  0 |  0 | 0 | 28 | 28 | 175.2 | ⋯ | 3.43 |  6.11 | 4.20 | 4.03 |  4.63 | 100000 | 100000 |  74120.86 | 125774.08 | 121612.06 |\n",
       "| 8 | 장원준   | 두산 | 14 |  9 |  0 |  0 | 0 | 29 | 29 | 180.1 | ⋯ | 3.14 |  7.28 | 4.26 | 4.35 |  3.85 | 100000 | 100000 |  74120.70 | 120660.77 | 117272.89 |\n",
       "| 6 | 피어밴드 | KT   |  8 | 10 |  0 |  0 | 0 | 26 | 26 | 160.0 | ⋯ | 3.04 |  6.52 | 4.42 | 4.32 |  3.94 |  85000 |  35000 |  25942.97 |  60851.77 |  55938.34 |\n",
       "| 11 | 윤성환   | 삼성 | 12 |  9 |  0 |  0 | 0 | 28 | 28 | 174.1 | ⋯ | 4.28 |  5.36 | 4.78 | 4.80 |  3.03 |  80000 |  80000 |  59296.47 |  95138.61 |  92856.56 |\n",
       "| 10 | 팻딘     | KIA  |  9 |  7 |  0 |  0 | 0 | 30 | 29 | 176.0 | ⋯ | 4.14 |  5.66 | 4.65 | 4.61 |  3.64 |  70000 |  70000 |  51884.71 |  90684.81 |  87223.76 |\n",
       "| 18 | 우규민   | 삼성 |  7 | 10 |  0 |  0 | 0 | 27 | 25 | 133.0 | ⋯ | 5.21 |  1.48 | 4.95 | 4.98 |  2.14 |  70000 |  70000 |  51884.20 |  78523.00 |  77519.75 |\n",
       "| 20 | 손승락   | 롯데 |  1 |  3 | 37 |  0 | 5 | 61 |  0 |  62.0 | ⋯ | 2.18 |  3.91 | 3.69 | 3.37 |  1.82 |  70000 |  70000 |  51883.97 |  74663.86 |  74394.60 |\n",
       "| 45 | 이동현   | LG   |  3 |  6 |  7 |  5 | 3 | 45 |  0 |  50.2 | ⋯ | 4.80 |  1.22 | 3.64 | 3.59 |  0.68 |  60000 |  60000 |  44471.73 |  57336.45 |  58131.61 |\n",
       "| 12 | 유희관   | 두산 | 11 |  6 |  0 |  1 | 0 | 30 | 29 | 188.2 | ⋯ | 4.53 |  4.79 | 4.78 | 4.97 |  2.89 |  50000 |  50000 |  37060.65 |  67371.43 |  64095.73 |\n",
       "| 24 | 배영수   | 한화 |  7 |  8 |  0 |  0 | 0 | 25 | 25 | 128.0 | ⋯ | 5.06 |  2.47 | 5.10 | 5.21 |  1.68 |  50000 |  55000 |  40766.17 |  61693.57 |  60809.36 |\n",
       "| 37 | 임창용   | KIA  |  8 |  6 |  7 |  9 | 5 | 51 |  0 |  50.0 | ⋯ | 3.78 |  1.40 | 3.69 | 3.35 |  0.96 |  50000 |  50000 |  37059.82 |  49996.69 |  50497.45 |\n",
       "| 52 | 윤길현   | 롯데 |  1 |  4 |  0 | 13 | 2 | 40 |  0 |  39.1 | ⋯ | 6.41 | -0.04 | 3.99 | 3.73 |  0.50 |  50000 |  50000 |  37059.67 |  46413.16 |  47644.48 |\n",
       "| 122 | 송은범   | 한화 |  0 |  4 |  1 |  0 | 1 | 13 |  6 |  37.1 | ⋯ | 6.51 |  0.10 | 6.33 | 6.79 | -0.12 |  45000 |  45000 |  33353.86 |  41260.88 |  42166.08 |\n",
       "| 126 | 권혁     | 한화 |  1 |  3 |  0 | 11 | 1 | 37 |  0 |  31.1 | ⋯ | 6.32 |  0.04 | 6.48 | 6.78 | -0.16 |  45000 |  45000 |  33353.67 |  38632.11 |  40416.31 |\n",
       "| 16 | 송승준   | 롯데 | 11 |  5 |  0 |  1 | 1 | 30 | 22 | 130.1 | ⋯ | 4.21 |  4.22 | 4.91 | 4.77 |  2.20 |  40000 |  40000 |  29648.38 |  51762.94 |  49834.14 |\n",
       "| 49 | 이현승   | 두산 |  3 |  2 |  5 |  9 | 7 | 57 |  0 |  52.0 | ⋯ | 3.98 |  1.69 | 4.25 | 4.30 |  0.53 |  40000 |  40000 |  29647.84 |  38630.86 |  39003.22 |\n",
       "| 41 | 안영명   | 한화 |  1 |  8 |  0 |  0 | 1 | 25 | 16 |  87.2 | ⋯ | 5.75 |  0.52 | 5.19 | 5.34 |  0.81 |  35000 |  20000 |  14824.10 |  23301.25 |  22618.86 |\n",
       "| 68 | 채병용   | SK   |  6 |  4 |  0 |  6 | 3 | 43 |  0 |  50.0 | ⋯ | 6.84 | -0.17 | 5.05 | 4.94 |  0.22 |  30000 |  25000 |  18529.76 |  21870.11 |  22782.56 |\n",
       "| 17 | 류제국   | LG   |  8 |  6 |  0 |  0 | 0 | 25 | 25 | 131.1 | ⋯ | 5.35 |  1.53 | 4.79 | 4.84 |  2.15 |  29000 |  35000 |  25942.45 |  47534.93 |  45256.39 |\n",
       "| 14 | 박세웅   | 롯데 | 12 |  6 |  0 |  0 | 0 | 28 | 28 | 171.1 | ⋯ | 3.68 |  5.92 | 5.07 | 5.14 |  2.54 |  25000 |  10000 |   7412.73 |  27963.63 |  24286.46 |\n",
       "| 40 | 임창민   | NC   |  4 |  3 | 29 |  0 | 6 | 60 |  0 |  66.0 | ⋯ | 3.68 |  2.68 | 4.83 | 4.60 |  0.89 |  25000 |  22500 |  16677.00 |  24913.36 |  24703.22 |\n",
       "| 56 | 박정진   | 한화 |  3 |  2 |  1 |  7 | 0 | 55 |  0 |  48.0 | ⋯ | 3.94 |  0.87 | 4.92 | 4.66 |  0.38 |  25000 |  33000 |  24459.37 |  30622.42 |  31579.45 |\n",
       "| 136 | 송창식   | 한화 |  5 |  6 |  0 | 15 | 6 | 63 |  0 |  73.1 | ⋯ | 6.63 | -0.74 | 5.68 | 5.59 | -0.22 |  24000 |  22000 |  16306.09 |  16351.07 |  17836.45 |\n",
       "| 27 | 김진성   | NC   | 10 |  6 |  0 | 15 | 2 | 69 |  0 |  89.2 | ⋯ | 3.61 |  3.20 | 4.30 | 3.92 |  1.47 |  23000 |  18000 |  13341.73 |  24511.49 |  23499.00 |\n",
       "| 38 | 심창민   | 삼성 |  4 |  7 |  6 | 16 | 2 | 66 |  0 |  75.1 | ⋯ | 4.18 |  1.82 | 4.82 | 4.26 |  0.93 |  23000 |  21000 |  15565.14 |  23185.40 |  23384.86 |\n",
       "| ⋮ | ⋮ | ⋮ | ⋮ | ⋮ | ⋮ | ⋮ | ⋮ | ⋮ | ⋮ | ⋮ | ⋱ | ⋮ | ⋮ | ⋮ | ⋮ | ⋮ | ⋮ | ⋮ | ⋮ | ⋮ | ⋮ |\n",
       "| 99 | 박치국 | 두산 | 1 | 1 | 0 | 0 | 0 | 21 | 3 | 32.0 | ⋯ |  6.75 | -0.12 |  5.39 |  5.58 |  0.00 | 3400 | 2700 | 2001.156 |  1048.3622 |  1276.1858 |\n",
       "| 102 | 허건엽 | SK   | 0 | 0 | 0 | 0 | 0 |  8 | 0 |  8.1 | ⋯ |  8.64 | -0.20 |  5.29 |  5.64 | -0.01 | 3400 | 3300 | 2445.935 |  2067.0516 |  1872.1189 |\n",
       "| 105 | 고봉재 | 두산 | 0 | 0 | 0 | 0 | 0 |  1 | 0 |  1.0 | ⋯ |  0.00 |  0.04 |  6.73 |  7.64 | -0.01 | 3300 | 4400 | 3261.709 |  8820.0864 |  7100.9320 |\n",
       "| 112 | 김시현 | 삼성 | 0 | 0 | 0 | 0 | 0 | 17 | 0 | 21.1 | ⋯ |  7.59 |  0.08 |  7.06 |  7.18 | -0.05 | 3300 | 2700 | 2001.245 |  2115.3516 |  2464.9378 |\n",
       "| 120 | 강장산 | KT   | 0 | 0 | 0 | 0 | 0 | 17 | 0 | 26.1 | ⋯ |  5.47 |  0.54 |  6.16 |  6.46 | -0.10 | 3300 | 3000 | 2223.583 |  1795.4384 |  1942.4606 |\n",
       "| 118 | 배민관 | LG   | 0 | 0 | 0 | 0 | 0 |  4 | 0 |  3.2 | ⋯ |  9.82 | -0.11 |  9.46 |  9.77 | -0.08 | 3200 | 3000 | 2223.850 |  5401.6928 |  5349.3784 |\n",
       "| 140 | 이종혁 | KT   | 2 | 0 | 0 | 0 | 0 | 16 | 0 | 19.0 | ⋯ |  6.63 | -0.09 |  7.10 |  7.57 | -0.25 | 3200 | 2700 | 2001.196 |   564.4227 |  1059.7061 |\n",
       "| 70 | 최지광 | 삼성 | 0 | 2 | 0 | 0 | 0 | 11 | 6 | 25.0 | ⋯ |  6.48 | -0.16 |  5.69 |  5.65 |  0.21 | 3100 | 2700 | 2001.325 |  4206.2468 |  3902.9955 |\n",
       "| 73 | 박세진 | KT   | 0 | 2 | 0 | 0 | 0 |  4 | 3 | 11.1 | ⋯ |  9.53 | -0.13 |  4.44 |  4.67 |  0.18 | 3100 | 3000 | 2223.610 |  3189.5874 |  2753.4578 |\n",
       "| 101 | 박상원 | 한화 | 0 | 0 | 0 | 1 | 0 | 18 | 0 | 21.2 | ⋯ |  4.15 |  0.32 |  5.30 |  5.42 |  0.00 | 3100 | 2700 | 2001.158 |   968.7329 |  1106.5249 |\n",
       "| 81 | 김대유 | SK   | 0 | 0 | 0 | 0 | 0 |  6 | 0 |  4.2 | ⋯ |  9.64 |  0.08 |  5.88 |  5.91 |  0.09 | 3000 | 2700 | 2001.218 |  2139.0137 |  2190.6374 |\n",
       "| 84 | 손주영 | LG   | 0 | 0 | 0 | 0 | 0 |  5 | 0 |  6.0 | ⋯ |  4.50 |  0.06 |  3.07 |  3.08 |  0.08 | 3000 | 2700 | 2001.010 |  -539.4368 |  -324.0806 |\n",
       "| 87 | 김진영 | 한화 | 0 | 0 | 0 | 0 | 0 |  3 | 0 |  2.2 | ⋯ | 10.12 | -0.02 |  2.98 |  2.29 |  0.07 | 3000 | 2700 | 2000.967 |  -560.7629 |   129.3510 |\n",
       "| 98 | 임진우 | 두산 | 0 | 0 | 0 | 0 | 0 |  1 | 0 |  1.0 | ⋯ | 27.00 | -0.11 |  4.73 |  4.61 |  0.00 | 3000 | 3200 | 2371.857 |  3087.5908 |  2904.8408 |\n",
       "| 109 | 서균   | 한화 | 0 | 0 | 0 | 0 | 0 | 14 | 0 | 14.1 | ⋯ |  4.40 |  0.25 |  5.41 |  5.58 | -0.04 | 3000 | 2700 | 2001.060 |  -370.1056 |   229.6544 |\n",
       "| 121 | 홍성무 | KT   | 0 | 1 | 0 | 0 | 0 |  7 | 0 |  6.1 | ⋯ | 12.79 | -0.29 |  7.37 |  7.58 | -0.11 | 3000 | 3000 | 2223.730 |  3741.6415 |  3656.1242 |\n",
       "| 127 | 배제성 | KT   | 0 | 0 | 0 | 0 | 0 | 21 | 1 | 32.0 | ⋯ |  8.72 | -0.10 |  6.39 |  6.59 | -0.17 | 3000 | 2700 | 2001.242 |  1539.0311 |  1718.5553 |\n",
       "| 137 | 배재환 | NC   | 0 | 1 | 0 | 0 | 0 |  3 | 1 |  8.0 | ⋯ |  9.00 | -0.16 | 11.48 | 11.73 | -0.23 | 3000 | 4000 | 2964.893 |  3807.0275 |  4905.4192 |\n",
       "| 142 | 정영일 | SK   | 0 | 0 | 0 | 0 | 0 |  9 | 0 |  8.0 | ⋯ | 10.12 | -0.61 | 10.73 | 11.37 | -0.30 | 3000 | 4000 | 2964.964 |  4241.1480 |  4774.1386 |\n",
       "| 96 | 김도영 | KT   | 0 | 0 | 0 | 0 | 0 |  1 | 0 |  1.0 | ⋯ |  0.00 |  0.04 |  3.73 |  4.43 |  0.00 | 2900 | 2700 | 2001.259 |  1731.9157 |   779.3548 |\n",
       "| 97 | 조근종 | KT   | 0 | 0 | 0 | 0 | 0 |  1 | 0 |  2.0 | ⋯ | 22.50 | -0.16 |  6.73 |  4.86 |  0.00 | 2900 | 2700 | 2000.470 | -6343.0220 | -2275.0675 |\n",
       "| 108 | 안규현 | 삼성 | 0 | 0 | 0 | 0 | 0 |  1 | 0 |  2.0 | ⋯ |  9.00 | -0.04 |  8.73 |  9.67 | -0.04 | 2900 | 2800 | 2075.799 |  7768.8014 |  6770.8590 |\n",
       "| 115 | 김종훈 | KIA  | 0 | 0 | 0 | 0 | 0 |  1 | 0 |  1.0 | ⋯ | 36.00 | -0.16 | 18.73 | 17.60 | -0.06 | 2900 | 2800 | 2075.467 |  4943.5065 |  8543.2324 |\n",
       "| 132 | 최성영 | NC   | 0 | 0 | 0 | 0 | 0 |  7 | 0 | 11.1 | ⋯ |  9.53 | -0.26 |  9.29 |  9.48 | -0.20 | 2900 | 2900 | 2149.435 |  1140.0750 |  2282.1311 |\n",
       "| 83 | 장지훈 | 삼성 | 0 | 0 | 0 | 0 | 0 |  4 | 0 |  2.1 | ⋯ |  0.00 |  0.09 |  0.73 | -0.69 |  0.08 | 2800 | 2700 | 2000.563 | -5315.1733 | -3354.1873 |\n",
       "| 90 | 차재용 | 롯데 | 0 | 0 | 0 | 0 | 0 |  3 | 0 |  2.1 | ⋯ |  0.00 |  0.08 |  2.02 |  1.83 |  0.05 | 2800 | 2800 | 2075.035 | -1808.0465 | -1479.5135 |\n",
       "| 106 | 이수민 | 삼성 | 0 | 0 | 0 | 0 | 0 |  1 | 0 |  2.2 | ⋯ | 10.12 | -0.15 |  5.23 |  5.95 | -0.01 | 2800 | 3000 | 2223.624 |  2419.1537 |  2029.4247 |\n",
       "| 94 | 장민익 | 두산 | 0 | 0 | 0 | 0 | 0 |  3 | 0 |  2.0 | ⋯ |  0.00 |  0.08 |  4.73 |  4.61 |  0.02 | 2700 | 2700 | 2001.266 |  2792.7349 |  2563.4614 |\n",
       "| 104 | 성영훈 | 두산 | 0 | 0 | 0 | 0 | 0 |  1 | 0 |  1.0 | ⋯ |  0.00 |  0.04 |  6.73 |  7.64 | -0.01 | 2700 | 2700 | 2001.678 |  7263.5285 |  5496.8155 |\n",
       "| 116 | 정동윤 | SK   | 0 | 0 | 0 | 0 | 0 |  2 | 0 |  3.0 | ⋯ |  9.00 | -0.03 |  9.40 | 10.05 | -0.07 | 2700 | 2700 | 2001.280 |  2205.1885 |  2825.4479 |\n",
       "\n"
      ],
      "text/plain": [
       "    선수명   팀명 승 패 세 홀드 블론 경기 선발 이닝  ⋯ ERA   RA9.WAR FIP  \n",
       "3   양현종   KIA  20  6  0  0   0    31   31   193.1 ⋯ 3.44   6.54   3.94 \n",
       "1   켈리     SK   16  7  0  0   0    30   30   190.0 ⋯ 3.60   6.91   3.69 \n",
       "2   소사     LG   11 11  1  0   0    30   29   185.1 ⋯ 3.88   6.80   3.52 \n",
       "21  정우람   한화  6  4 26  0   5    56    0    59.0 ⋯ 2.75   2.85   3.26 \n",
       "5   레일리   롯데 13  7  0  0   0    30   30   187.1 ⋯ 3.80   6.13   4.36 \n",
       "4   차우찬   LG   10  7  0  0   0    28   28   175.2 ⋯ 3.43   6.11   4.20 \n",
       "8   장원준   두산 14  9  0  0   0    29   29   180.1 ⋯ 3.14   7.28   4.26 \n",
       "6   피어밴드 KT    8 10  0  0   0    26   26   160.0 ⋯ 3.04   6.52   4.42 \n",
       "11  윤성환   삼성 12  9  0  0   0    28   28   174.1 ⋯ 4.28   5.36   4.78 \n",
       "10  팻딘     KIA   9  7  0  0   0    30   29   176.0 ⋯ 4.14   5.66   4.65 \n",
       "18  우규민   삼성  7 10  0  0   0    27   25   133.0 ⋯ 5.21   1.48   4.95 \n",
       "20  손승락   롯데  1  3 37  0   5    61    0    62.0 ⋯ 2.18   3.91   3.69 \n",
       "45  이동현   LG    3  6  7  5   3    45    0    50.2 ⋯ 4.80   1.22   3.64 \n",
       "12  유희관   두산 11  6  0  1   0    30   29   188.2 ⋯ 4.53   4.79   4.78 \n",
       "24  배영수   한화  7  8  0  0   0    25   25   128.0 ⋯ 5.06   2.47   5.10 \n",
       "37  임창용   KIA   8  6  7  9   5    51    0    50.0 ⋯ 3.78   1.40   3.69 \n",
       "52  윤길현   롯데  1  4  0 13   2    40    0    39.1 ⋯ 6.41  -0.04   3.99 \n",
       "122 송은범   한화  0  4  1  0   1    13    6    37.1 ⋯ 6.51   0.10   6.33 \n",
       "126 권혁     한화  1  3  0 11   1    37    0    31.1 ⋯ 6.32   0.04   6.48 \n",
       "16  송승준   롯데 11  5  0  1   1    30   22   130.1 ⋯ 4.21   4.22   4.91 \n",
       "49  이현승   두산  3  2  5  9   7    57    0    52.0 ⋯ 3.98   1.69   4.25 \n",
       "41  안영명   한화  1  8  0  0   1    25   16    87.2 ⋯ 5.75   0.52   5.19 \n",
       "68  채병용   SK    6  4  0  6   3    43    0    50.0 ⋯ 6.84  -0.17   5.05 \n",
       "17  류제국   LG    8  6  0  0   0    25   25   131.1 ⋯ 5.35   1.53   4.79 \n",
       "14  박세웅   롯데 12  6  0  0   0    28   28   171.1 ⋯ 3.68   5.92   5.07 \n",
       "40  임창민   NC    4  3 29  0   6    60    0    66.0 ⋯ 3.68   2.68   4.83 \n",
       "56  박정진   한화  3  2  1  7   0    55    0    48.0 ⋯ 3.94   0.87   4.92 \n",
       "136 송창식   한화  5  6  0 15   6    63    0    73.1 ⋯ 6.63  -0.74   5.68 \n",
       "27  김진성   NC   10  6  0 15   2    69    0    89.2 ⋯ 3.61   3.20   4.30 \n",
       "38  심창민   삼성  4  7  6 16   2    66    0    75.1 ⋯ 4.18   1.82   4.82 \n",
       "⋮   ⋮        ⋮    ⋮  ⋮  ⋮  ⋮    ⋮    ⋮    ⋮    ⋮     ⋱ ⋮     ⋮       ⋮    \n",
       "99  박치국   두산 1  1  0  0    0    21   3    32.0  ⋯  6.75 -0.12    5.39\n",
       "102 허건엽   SK   0  0  0  0    0     8   0     8.1  ⋯  8.64 -0.20    5.29\n",
       "105 고봉재   두산 0  0  0  0    0     1   0     1.0  ⋯  0.00  0.04    6.73\n",
       "112 김시현   삼성 0  0  0  0    0    17   0    21.1  ⋯  7.59  0.08    7.06\n",
       "120 강장산   KT   0  0  0  0    0    17   0    26.1  ⋯  5.47  0.54    6.16\n",
       "118 배민관   LG   0  0  0  0    0     4   0     3.2  ⋯  9.82 -0.11    9.46\n",
       "140 이종혁   KT   2  0  0  0    0    16   0    19.0  ⋯  6.63 -0.09    7.10\n",
       "70  최지광   삼성 0  2  0  0    0    11   6    25.0  ⋯  6.48 -0.16    5.69\n",
       "73  박세진   KT   0  2  0  0    0     4   3    11.1  ⋯  9.53 -0.13    4.44\n",
       "101 박상원   한화 0  0  0  1    0    18   0    21.2  ⋯  4.15  0.32    5.30\n",
       "81  김대유   SK   0  0  0  0    0     6   0     4.2  ⋯  9.64  0.08    5.88\n",
       "84  손주영   LG   0  0  0  0    0     5   0     6.0  ⋯  4.50  0.06    3.07\n",
       "87  김진영   한화 0  0  0  0    0     3   0     2.2  ⋯ 10.12 -0.02    2.98\n",
       "98  임진우   두산 0  0  0  0    0     1   0     1.0  ⋯ 27.00 -0.11    4.73\n",
       "109 서균     한화 0  0  0  0    0    14   0    14.1  ⋯  4.40  0.25    5.41\n",
       "121 홍성무   KT   0  1  0  0    0     7   0     6.1  ⋯ 12.79 -0.29    7.37\n",
       "127 배제성   KT   0  0  0  0    0    21   1    32.0  ⋯  8.72 -0.10    6.39\n",
       "137 배재환   NC   0  1  0  0    0     3   1     8.0  ⋯  9.00 -0.16   11.48\n",
       "142 정영일   SK   0  0  0  0    0     9   0     8.0  ⋯ 10.12 -0.61   10.73\n",
       "96  김도영   KT   0  0  0  0    0     1   0     1.0  ⋯  0.00  0.04    3.73\n",
       "97  조근종   KT   0  0  0  0    0     1   0     2.0  ⋯ 22.50 -0.16    6.73\n",
       "108 안규현   삼성 0  0  0  0    0     1   0     2.0  ⋯  9.00 -0.04    8.73\n",
       "115 김종훈   KIA  0  0  0  0    0     1   0     1.0  ⋯ 36.00 -0.16   18.73\n",
       "132 최성영   NC   0  0  0  0    0     7   0    11.1  ⋯  9.53 -0.26    9.29\n",
       "83  장지훈   삼성 0  0  0  0    0     4   0     2.1  ⋯  0.00  0.09    0.73\n",
       "90  차재용   롯데 0  0  0  0    0     3   0     2.1  ⋯  0.00  0.08    2.02\n",
       "106 이수민   삼성 0  0  0  0    0     1   0     2.2  ⋯ 10.12 -0.15    5.23\n",
       "94  장민익   두산 0  0  0  0    0     3   0     2.0  ⋯  0.00  0.08    4.73\n",
       "104 성영훈   두산 0  0  0  0    0     1   0     1.0  ⋯  0.00  0.04    6.73\n",
       "116 정동윤   SK   0  0  0  0    0     2   0     3.0  ⋯  9.00 -0.03    9.40\n",
       "    kFIP  WAR   연봉.2018. 연봉.2017. new_col   new_col.1  new_data  \n",
       "3   3.82   5.64 230000     150000     111180.99 180164.16  175521.57 \n",
       "1   3.44   6.62 140000      85000      63003.59 127838.00  120079.64 \n",
       "2   3.41   6.08 120000      50000      37061.64  91955.34   83760.50 \n",
       "21  2.69   1.81 120000     120000      88943.64 119624.39  121111.86 \n",
       "5   4.31   4.38 111000      85000      63002.89 110388.58  106098.40 \n",
       "4   4.03   4.63 100000     100000      74120.86 125774.08  121612.06 \n",
       "8   4.35   3.85 100000     100000      74120.70 120660.77  117272.89 \n",
       "6   4.32   3.94  85000      35000      25942.97  60851.77   55938.34 \n",
       "11  4.80   3.03  80000      80000      59296.47  95138.61   92856.56 \n",
       "10  4.61   3.64  70000      70000      51884.71  90684.81   87223.76 \n",
       "18  4.98   2.14  70000      70000      51884.20  78523.00   77519.75 \n",
       "20  3.37   1.82  70000      70000      51883.97  74663.86   74394.60 \n",
       "45  3.59   0.68  60000      60000      44471.73  57336.45   58131.61 \n",
       "12  4.97   2.89  50000      50000      37060.65  67371.43   64095.73 \n",
       "24  5.21   1.68  50000      55000      40766.17  61693.57   60809.36 \n",
       "37  3.35   0.96  50000      50000      37059.82  49996.69   50497.45 \n",
       "52  3.73   0.50  50000      50000      37059.67  46413.16   47644.48 \n",
       "122 6.79  -0.12  45000      45000      33353.86  41260.88   42166.08 \n",
       "126 6.78  -0.16  45000      45000      33353.67  38632.11   40416.31 \n",
       "16  4.77   2.20  40000      40000      29648.38  51762.94   49834.14 \n",
       "49  4.30   0.53  40000      40000      29647.84  38630.86   39003.22 \n",
       "41  5.34   0.81  35000      20000      14824.10  23301.25   22618.86 \n",
       "68  4.94   0.22  30000      25000      18529.76  21870.11   22782.56 \n",
       "17  4.84   2.15  29000      35000      25942.45  47534.93   45256.39 \n",
       "14  5.14   2.54  25000      10000       7412.73  27963.63   24286.46 \n",
       "40  4.60   0.89  25000      22500      16677.00  24913.36   24703.22 \n",
       "56  4.66   0.38  25000      33000      24459.37  30622.42   31579.45 \n",
       "136 5.59  -0.22  24000      22000      16306.09  16351.07   17836.45 \n",
       "27  3.92   1.47  23000      18000      13341.73  24511.49   23499.00 \n",
       "38  4.26   0.93  23000      21000      15565.14  23185.40   23384.86 \n",
       "⋮   ⋮     ⋮     ⋮          ⋮          ⋮         ⋮          ⋮         \n",
       "99   5.58  0.00 3400       2700       2001.156   1048.3622  1276.1858\n",
       "102  5.64 -0.01 3400       3300       2445.935   2067.0516  1872.1189\n",
       "105  7.64 -0.01 3300       4400       3261.709   8820.0864  7100.9320\n",
       "112  7.18 -0.05 3300       2700       2001.245   2115.3516  2464.9378\n",
       "120  6.46 -0.10 3300       3000       2223.583   1795.4384  1942.4606\n",
       "118  9.77 -0.08 3200       3000       2223.850   5401.6928  5349.3784\n",
       "140  7.57 -0.25 3200       2700       2001.196    564.4227  1059.7061\n",
       "70   5.65  0.21 3100       2700       2001.325   4206.2468  3902.9955\n",
       "73   4.67  0.18 3100       3000       2223.610   3189.5874  2753.4578\n",
       "101  5.42  0.00 3100       2700       2001.158    968.7329  1106.5249\n",
       "81   5.91  0.09 3000       2700       2001.218   2139.0137  2190.6374\n",
       "84   3.08  0.08 3000       2700       2001.010   -539.4368  -324.0806\n",
       "87   2.29  0.07 3000       2700       2000.967   -560.7629   129.3510\n",
       "98   4.61  0.00 3000       3200       2371.857   3087.5908  2904.8408\n",
       "109  5.58 -0.04 3000       2700       2001.060   -370.1056   229.6544\n",
       "121  7.58 -0.11 3000       3000       2223.730   3741.6415  3656.1242\n",
       "127  6.59 -0.17 3000       2700       2001.242   1539.0311  1718.5553\n",
       "137 11.73 -0.23 3000       4000       2964.893   3807.0275  4905.4192\n",
       "142 11.37 -0.30 3000       4000       2964.964   4241.1480  4774.1386\n",
       "96   4.43  0.00 2900       2700       2001.259   1731.9157   779.3548\n",
       "97   4.86  0.00 2900       2700       2000.470  -6343.0220 -2275.0675\n",
       "108  9.67 -0.04 2900       2800       2075.799   7768.8014  6770.8590\n",
       "115 17.60 -0.06 2900       2800       2075.467   4943.5065  8543.2324\n",
       "132  9.48 -0.20 2900       2900       2149.435   1140.0750  2282.1311\n",
       "83  -0.69  0.08 2800       2700       2000.563  -5315.1733 -3354.1873\n",
       "90   1.83  0.05 2800       2800       2075.035  -1808.0465 -1479.5135\n",
       "106  5.95 -0.01 2800       3000       2223.624   2419.1537  2029.4247\n",
       "94   4.61  0.02 2700       2700       2001.266   2792.7349  2563.4614\n",
       "104  7.64 -0.01 2700       2700       2001.678   7263.5285  5496.8155\n",
       "116 10.05 -0.07 2700       2700       2001.280   2205.1885  2825.4479"
      ]
     },
     "metadata": {},
     "output_type": "display_data"
    }
   ],
   "source": [
    "sorted_picher <- picher[order(-picher$\"연봉.2018.\"), ]\n",
    "sorted_picher"
   ]
  },
  {
   "cell_type": "code",
   "execution_count": 145,
   "id": "a711db8d-5f3f-467c-97e7-5b12fadb4429",
   "metadata": {},
   "outputs": [
    {
     "data": {
      "text/html": [
       "<table class=\"dataframe\">\n",
       "<caption>A data.frame: 128 × 25</caption>\n",
       "<thead>\n",
       "\t<tr><th></th><th scope=col>선수명</th><th scope=col>팀명</th><th scope=col>승</th><th scope=col>패</th><th scope=col>세</th><th scope=col>홀드</th><th scope=col>블론</th><th scope=col>경기</th><th scope=col>선발</th><th scope=col>이닝</th><th scope=col>⋯</th><th scope=col>ERA</th><th scope=col>RA9.WAR</th><th scope=col>FIP</th><th scope=col>kFIP</th><th scope=col>WAR</th><th scope=col>연봉.2018.</th><th scope=col>연봉.2017.</th><th scope=col>new_col</th><th scope=col>new_col.1</th><th scope=col>new_data</th></tr>\n",
       "\t<tr><th></th><th scope=col>&lt;chr&gt;</th><th scope=col>&lt;chr&gt;</th><th scope=col>&lt;int&gt;</th><th scope=col>&lt;int&gt;</th><th scope=col>&lt;int&gt;</th><th scope=col>&lt;int&gt;</th><th scope=col>&lt;int&gt;</th><th scope=col>&lt;int&gt;</th><th scope=col>&lt;int&gt;</th><th scope=col>&lt;dbl&gt;</th><th scope=col>⋯</th><th scope=col>&lt;dbl&gt;</th><th scope=col>&lt;dbl&gt;</th><th scope=col>&lt;dbl&gt;</th><th scope=col>&lt;dbl&gt;</th><th scope=col>&lt;dbl&gt;</th><th scope=col>&lt;int&gt;</th><th scope=col>&lt;int&gt;</th><th scope=col>&lt;dbl&gt;</th><th scope=col>&lt;dbl&gt;</th><th scope=col>&lt;dbl&gt;</th></tr>\n",
       "</thead>\n",
       "<tbody>\n",
       "\t<tr><th scope=row>1</th><td>켈리    </td><td>SK  </td><td>16</td><td> 7</td><td> 0</td><td> 0</td><td>0</td><td>30</td><td>30</td><td>190.0</td><td>⋯</td><td>3.60</td><td>6.91</td><td>3.69</td><td>3.44</td><td>6.62</td><td>140000</td><td> 85000</td><td> 63003.595</td><td>127837.996</td><td>120079.644</td></tr>\n",
       "\t<tr><th scope=row>2</th><td>소사    </td><td>LG  </td><td>11</td><td>11</td><td> 1</td><td> 0</td><td>0</td><td>30</td><td>29</td><td>185.1</td><td>⋯</td><td>3.88</td><td>6.80</td><td>3.52</td><td>3.41</td><td>6.08</td><td>120000</td><td> 50000</td><td> 37061.640</td><td> 91955.341</td><td> 83760.504</td></tr>\n",
       "\t<tr><th scope=row>3</th><td>양현종  </td><td>KIA </td><td>20</td><td> 6</td><td> 0</td><td> 0</td><td>0</td><td>31</td><td>31</td><td>193.1</td><td>⋯</td><td>3.44</td><td>6.54</td><td>3.94</td><td>3.82</td><td>5.64</td><td>230000</td><td>150000</td><td>111180.994</td><td>180164.163</td><td>175521.573</td></tr>\n",
       "\t<tr><th scope=row>5</th><td>레일리  </td><td>롯데</td><td>13</td><td> 7</td><td> 0</td><td> 0</td><td>0</td><td>30</td><td>30</td><td>187.1</td><td>⋯</td><td>3.80</td><td>6.13</td><td>4.36</td><td>4.31</td><td>4.38</td><td>111000</td><td> 85000</td><td> 63002.886</td><td>110388.580</td><td>106098.401</td></tr>\n",
       "\t<tr><th scope=row>6</th><td>피어밴드</td><td>KT  </td><td> 8</td><td>10</td><td> 0</td><td> 0</td><td>0</td><td>26</td><td>26</td><td>160.0</td><td>⋯</td><td>3.04</td><td>6.52</td><td>4.42</td><td>4.32</td><td>3.94</td><td> 85000</td><td> 35000</td><td> 25942.975</td><td> 60851.766</td><td> 55938.336</td></tr>\n",
       "\t<tr><th scope=row>7</th><td>고영표  </td><td>KT  </td><td> 8</td><td>12</td><td> 0</td><td> 1</td><td>0</td><td>25</td><td>24</td><td>141.2</td><td>⋯</td><td>5.08</td><td>2.97</td><td>3.88</td><td>3.78</td><td>3.87</td><td> 11500</td><td>  5200</td><td>  3855.283</td><td> 32248.671</td><td> 26731.808</td></tr>\n",
       "\t<tr><th scope=row>9</th><td>함덕주  </td><td>두산</td><td> 9</td><td> 8</td><td> 0</td><td> 2</td><td>0</td><td>35</td><td>24</td><td>137.1</td><td>⋯</td><td>3.67</td><td>4.99</td><td>3.91</td><td>3.67</td><td>3.78</td><td> 16000</td><td>  7000</td><td>  5189.489</td><td> 34420.638</td><td> 28840.862</td></tr>\n",
       "\t<tr><th scope=row>13</th><td>임기영  </td><td>KIA </td><td> 8</td><td> 6</td><td> 0</td><td> 0</td><td>0</td><td>23</td><td>19</td><td>118.1</td><td>⋯</td><td>3.65</td><td>4.25</td><td>4.07</td><td>4.19</td><td>2.79</td><td> 13000</td><td>  3100</td><td>  2298.522</td><td> 22932.876</td><td> 18557.121</td></tr>\n",
       "\t<tr><th scope=row>14</th><td>박세웅  </td><td>롯데</td><td>12</td><td> 6</td><td> 0</td><td> 0</td><td>0</td><td>28</td><td>28</td><td>171.1</td><td>⋯</td><td>3.68</td><td>5.92</td><td>5.07</td><td>5.14</td><td>2.54</td><td> 25000</td><td> 10000</td><td>  7412.730</td><td> 27963.633</td><td> 24286.458</td></tr>\n",
       "\t<tr><th scope=row>15</th><td>백정현  </td><td>삼성</td><td> 8</td><td> 4</td><td> 0</td><td> 3</td><td>0</td><td>35</td><td>14</td><td>100.2</td><td>⋯</td><td>4.38</td><td>3.01</td><td>4.51</td><td>4.34</td><td>2.25</td><td> 15500</td><td> 10000</td><td>  7412.536</td><td> 24575.219</td><td> 21705.856</td></tr>\n",
       "\t<tr><th scope=row>17</th><td>류제국  </td><td>LG  </td><td> 8</td><td> 6</td><td> 0</td><td> 0</td><td>0</td><td>25</td><td>25</td><td>131.1</td><td>⋯</td><td>5.35</td><td>1.53</td><td>4.79</td><td>4.84</td><td>2.15</td><td> 29000</td><td> 35000</td><td> 25942.448</td><td> 47534.929</td><td> 45256.386</td></tr>\n",
       "\t<tr><th scope=row>19</th><td>임찬규  </td><td>LG  </td><td> 6</td><td>10</td><td> 0</td><td> 0</td><td>0</td><td>27</td><td>26</td><td>124.1</td><td>⋯</td><td>4.63</td><td>3.15</td><td>4.81</td><td>4.79</td><td>2.04</td><td> 11500</td><td>  6500</td><td>  4818.295</td><td> 19832.884</td><td> 17218.543</td></tr>\n",
       "\t<tr><th scope=row>22</th><td>윤희상  </td><td>SK  </td><td> 6</td><td> 7</td><td> 0</td><td> 0</td><td>0</td><td>23</td><td>22</td><td>120.0</td><td>⋯</td><td>6.00</td><td>1.52</td><td>5.13</td><td>5.22</td><td>1.80</td><td> 13000</td><td> 15000</td><td> 11118.427</td><td> 26255.265</td><td> 24012.479</td></tr>\n",
       "\t<tr><th scope=row>23</th><td>원종현  </td><td>NC  </td><td> 3</td><td> 6</td><td> 0</td><td>22</td><td>0</td><td>68</td><td> 0</td><td> 80.0</td><td>⋯</td><td>4.39</td><td>2.02</td><td>3.60</td><td>3.52</td><td>1.71</td><td> 18500</td><td> 14000</td><td> 10377.101</td><td> 23403.105</td><td> 21354.395</td></tr>\n",
       "\t<tr><th scope=row>24</th><td>배영수  </td><td>한화</td><td> 7</td><td> 8</td><td> 0</td><td> 0</td><td>0</td><td>25</td><td>25</td><td>128.0</td><td>⋯</td><td>5.06</td><td>2.47</td><td>5.10</td><td>5.21</td><td>1.68</td><td> 50000</td><td> 55000</td><td> 40766.167</td><td> 61693.571</td><td> 60809.360</td></tr>\n",
       "\t<tr><th scope=row>25</th><td>박종훈  </td><td>SK  </td><td>12</td><td> 7</td><td> 0</td><td> 1</td><td>0</td><td>29</td><td>28</td><td>151.1</td><td>⋯</td><td>4.10</td><td>4.31</td><td>5.38</td><td>5.55</td><td>1.62</td><td> 20000</td><td> 10000</td><td>  7412.434</td><td> 20805.675</td><td> 18627.133</td></tr>\n",
       "\t<tr><th scope=row>26</th><td>이상화  </td><td>KT  </td><td> 4</td><td> 3</td><td> 6</td><td> 4</td><td>1</td><td>70</td><td> 0</td><td> 66.0</td><td>⋯</td><td>3.95</td><td>2.43</td><td>3.57</td><td>3.45</td><td>1.54</td><td> 10000</td><td>  4500</td><td>  3335.691</td><td> 13333.548</td><td> 11284.396</td></tr>\n",
       "\t<tr><th scope=row>27</th><td>김진성  </td><td>NC  </td><td>10</td><td> 6</td><td> 0</td><td>15</td><td>2</td><td>69</td><td> 0</td><td> 89.2</td><td>⋯</td><td>3.61</td><td>3.20</td><td>4.30</td><td>3.92</td><td>1.47</td><td> 23000</td><td> 18000</td><td> 13341.734</td><td> 24511.486</td><td> 23499.001</td></tr>\n",
       "\t<tr><th scope=row>28</th><td>이민호  </td><td>NC  </td><td> 5</td><td> 1</td><td> 3</td><td> 6</td><td>1</td><td>60</td><td> 3</td><td> 88.2</td><td>⋯</td><td>4.06</td><td>1.97</td><td>4.41</td><td>4.22</td><td>1.38</td><td> 18800</td><td> 16000</td><td> 11859.379</td><td> 22705.669</td><td> 21500.092</td></tr>\n",
       "\t<tr><th scope=row>29</th><td>이재학  </td><td>NC  </td><td> 5</td><td> 7</td><td> 0</td><td> 0</td><td>0</td><td>28</td><td>23</td><td>119.0</td><td>⋯</td><td>5.67</td><td>1.04</td><td>5.53</td><td>5.35</td><td>1.31</td><td> 19000</td><td> 20000</td><td> 14824.140</td><td> 25923.735</td><td> 25216.046</td></tr>\n",
       "\t<tr><th scope=row>30</th><td>김강률  </td><td>두산</td><td> 7</td><td> 2</td><td> 7</td><td>12</td><td>1</td><td>70</td><td> 0</td><td> 89.0</td><td>⋯</td><td>3.44</td><td>2.68</td><td>4.15</td><td>4.09</td><td>1.27</td><td> 15000</td><td>  6200</td><td>  4595.698</td><td> 13575.161</td><td> 11877.920</td></tr>\n",
       "\t<tr><th scope=row>31</th><td>김재윤  </td><td>KT  </td><td> 3</td><td> 5</td><td>15</td><td> 0</td><td>4</td><td>41</td><td> 0</td><td> 37.1</td><td>⋯</td><td>5.79</td><td>0.73</td><td>3.15</td><td>3.05</td><td>1.24</td><td> 11000</td><td>  9000</td><td>  6670.994</td><td> 15370.094</td><td> 13693.121</td></tr>\n",
       "\t<tr><th scope=row>32</th><td>김원중  </td><td>롯데</td><td> 7</td><td> 8</td><td> 0</td><td> 0</td><td>0</td><td>24</td><td>24</td><td>107.1</td><td>⋯</td><td>5.70</td><td>2.22</td><td>5.53</td><td>5.56</td><td>1.23</td><td>  6300</td><td>  3000</td><td>  2223.940</td><td> 11393.858</td><td>  9721.380</td></tr>\n",
       "\t<tr><th scope=row>33</th><td>박진형  </td><td>롯데</td><td> 4</td><td> 4</td><td> 2</td><td>10</td><td>3</td><td>45</td><td> 9</td><td> 88.0</td><td>⋯</td><td>5.11</td><td>1.70</td><td>4.43</td><td>4.14</td><td>1.12</td><td> 10500</td><td>  6000</td><td>  4447.373</td><td> 11961.674</td><td> 10832.990</td></tr>\n",
       "\t<tr><th scope=row>34</th><td>윤규진  </td><td>한화</td><td> 8</td><td> 7</td><td> 0</td><td> 2</td><td>0</td><td>36</td><td>18</td><td>119.0</td><td>⋯</td><td>5.22</td><td>2.23</td><td>5.46</td><td>5.42</td><td>1.09</td><td> 21000</td><td> 18000</td><td> 13341.766</td><td> 23320.087</td><td> 22447.697</td></tr>\n",
       "\t<tr><th scope=row>35</th><td>김재영  </td><td>한화</td><td> 5</td><td> 7</td><td> 0</td><td> 0</td><td>1</td><td>20</td><td>15</td><td> 85.1</td><td>⋯</td><td>4.54</td><td>1.60</td><td>5.00</td><td>5.23</td><td>1.06</td><td>  5300</td><td>  3000</td><td>  2223.843</td><td>  9322.823</td><td>  7824.809</td></tr>\n",
       "\t<tr><th scope=row>36</th><td>신정락  </td><td>LG  </td><td> 3</td><td> 5</td><td>10</td><td>12</td><td>3</td><td>63</td><td> 0</td><td> 59.0</td><td>⋯</td><td>5.34</td><td>0.51</td><td>4.23</td><td>4.12</td><td>0.97</td><td> 10500</td><td>  7500</td><td>  5559.100</td><td> 11850.125</td><td> 10957.933</td></tr>\n",
       "\t<tr><th scope=row>38</th><td>심창민  </td><td>삼성</td><td> 4</td><td> 7</td><td> 6</td><td>16</td><td>2</td><td>66</td><td> 0</td><td> 75.1</td><td>⋯</td><td>4.18</td><td>1.82</td><td>4.82</td><td>4.26</td><td>0.93</td><td> 23000</td><td> 21000</td><td> 15565.136</td><td> 23185.400</td><td> 23384.860</td></tr>\n",
       "\t<tr><th scope=row>39</th><td>정찬헌  </td><td>LG  </td><td> 8</td><td> 7</td><td> 7</td><td> 3</td><td>3</td><td>61</td><td> 0</td><td> 61.2</td><td>⋯</td><td>5.84</td><td>0.97</td><td>3.96</td><td>3.80</td><td>0.93</td><td>  9500</td><td>  4500</td><td>  3335.522</td><td>  8995.166</td><td>  7904.678</td></tr>\n",
       "\t<tr><th scope=row>40</th><td>임창민  </td><td>NC  </td><td> 4</td><td> 3</td><td>29</td><td> 0</td><td>6</td><td>60</td><td> 0</td><td> 66.0</td><td>⋯</td><td>3.68</td><td>2.68</td><td>4.83</td><td>4.60</td><td>0.89</td><td> 25000</td><td> 22500</td><td> 16676.995</td><td> 24913.355</td><td> 24703.222</td></tr>\n",
       "\t<tr><th scope=row>⋮</th><td>⋮</td><td>⋮</td><td>⋮</td><td>⋮</td><td>⋮</td><td>⋮</td><td>⋮</td><td>⋮</td><td>⋮</td><td>⋮</td><td>⋱</td><td>⋮</td><td>⋮</td><td>⋮</td><td>⋮</td><td>⋮</td><td>⋮</td><td>⋮</td><td>⋮</td><td>⋮</td><td>⋮</td></tr>\n",
       "\t<tr><th scope=row>118</th><td>배민관</td><td>LG  </td><td>0</td><td>0</td><td> 0</td><td> 0</td><td>0</td><td> 4</td><td> 0</td><td> 3.2</td><td>⋯</td><td> 9.82</td><td>-0.11</td><td> 9.46</td><td> 9.77</td><td>-0.08</td><td> 3200</td><td> 3000</td><td> 2223.850</td><td> 5401.6928</td><td> 5349.37842</td></tr>\n",
       "\t<tr><th scope=row>119</th><td>윤근영</td><td>KT  </td><td>0</td><td>0</td><td> 0</td><td> 1</td><td>0</td><td>12</td><td> 0</td><td>18.0</td><td>⋯</td><td> 3.50</td><td> 0.30</td><td> 6.23</td><td> 6.31</td><td>-0.08</td><td> 4200</td><td> 4000</td><td> 2964.668</td><td> 1350.9942</td><td> 1957.02839</td></tr>\n",
       "\t<tr><th scope=row>120</th><td>강장산</td><td>KT  </td><td>0</td><td>0</td><td> 0</td><td> 0</td><td>0</td><td>17</td><td> 0</td><td>26.1</td><td>⋯</td><td> 5.47</td><td> 0.54</td><td> 6.16</td><td> 6.46</td><td>-0.10</td><td> 3300</td><td> 3000</td><td> 2223.583</td><td> 1795.4384</td><td> 1942.46057</td></tr>\n",
       "\t<tr><th scope=row>124</th><td>김민우</td><td>한화</td><td>0</td><td>0</td><td> 0</td><td> 0</td><td>0</td><td> 4</td><td> 2</td><td> 7.1</td><td>⋯</td><td>17.18</td><td>-0.52</td><td> 7.83</td><td> 8.32</td><td>-0.12</td><td> 3600</td><td> 3800</td><td> 2816.614</td><td> 3554.7700</td><td> 3912.29634</td></tr>\n",
       "\t<tr><th scope=row>125</th><td>이현호</td><td>두산</td><td>1</td><td>0</td><td> 0</td><td> 0</td><td>0</td><td>24</td><td> 2</td><td>30.0</td><td>⋯</td><td> 5.70</td><td>-0.51</td><td> 6.47</td><td> 6.57</td><td>-0.16</td><td> 5200</td><td> 6000</td><td> 4447.098</td><td> 3446.5228</td><td> 4053.21274</td></tr>\n",
       "\t<tr><th scope=row>127</th><td>배제성</td><td>KT  </td><td>0</td><td>0</td><td> 0</td><td> 0</td><td>0</td><td>21</td><td> 1</td><td>32.0</td><td>⋯</td><td> 8.72</td><td>-0.10</td><td> 6.39</td><td> 6.59</td><td>-0.17</td><td> 3000</td><td> 2700</td><td> 2001.242</td><td> 1539.0311</td><td> 1718.55530</td></tr>\n",
       "\t<tr><th scope=row>128</th><td>홍상삼</td><td>두산</td><td>1</td><td>1</td><td> 0</td><td> 0</td><td>0</td><td>11</td><td> 2</td><td>17.0</td><td>⋯</td><td> 7.94</td><td>-0.52</td><td> 6.73</td><td> 7.22</td><td>-0.18</td><td> 9000</td><td>12500</td><td> 9265.021</td><td>11187.3262</td><td>11344.83558</td></tr>\n",
       "\t<tr><th scope=row>129</th><td>이태양</td><td>한화</td><td>3</td><td>6</td><td> 0</td><td> 0</td><td>0</td><td>16</td><td>12</td><td>59.0</td><td>⋯</td><td> 7.17</td><td> 0.05</td><td> 6.77</td><td> 7.04</td><td>-0.18</td><td> 7300</td><td> 8300</td><td> 6151.890</td><td> 5929.5258</td><td> 6449.57632</td></tr>\n",
       "\t<tr><th scope=row>130</th><td>김진우</td><td>KIA </td><td>2</td><td>6</td><td> 0</td><td> 0</td><td>1</td><td>14</td><td> 8</td><td>36.1</td><td>⋯</td><td> 7.93</td><td>-0.35</td><td> 6.68</td><td> 7.04</td><td>-0.19</td><td> 6000</td><td>12000</td><td> 8894.348</td><td> 9837.3511</td><td>10343.45037</td></tr>\n",
       "\t<tr><th scope=row>131</th><td>이영하</td><td>두산</td><td>3</td><td>3</td><td> 0</td><td> 0</td><td>0</td><td>20</td><td> 3</td><td>35.2</td><td>⋯</td><td> 5.55</td><td> 0.59</td><td> 6.79</td><td> 6.86</td><td>-0.19</td><td> 4200</td><td> 2700</td><td> 2001.102</td><td> -291.0924</td><td>  566.08017</td></tr>\n",
       "\t<tr><th scope=row>133</th><td>김동호</td><td>삼성</td><td>0</td><td>1</td><td> 0</td><td> 0</td><td>0</td><td>20</td><td> 1</td><td>36.0</td><td>⋯</td><td> 6.75</td><td>-0.07</td><td> 5.46</td><td> 5.96</td><td>-0.20</td><td> 6000</td><td> 5000</td><td> 3706.004</td><td> 3508.1291</td><td> 3362.37197</td></tr>\n",
       "\t<tr><th scope=row>134</th><td>김윤동</td><td>KIA </td><td>7</td><td>4</td><td>11</td><td> 6</td><td>6</td><td>65</td><td> 1</td><td>80.1</td><td>⋯</td><td> 4.59</td><td> 1.89</td><td> 5.54</td><td> 5.53</td><td>-0.20</td><td>15000</td><td> 4700</td><td> 3483.494</td><td> 1585.1461</td><td> 2213.60459</td></tr>\n",
       "\t<tr><th scope=row>135</th><td>정인욱</td><td>삼성</td><td>1</td><td>4</td><td> 0</td><td> 0</td><td>0</td><td> 9</td><td> 7</td><td>32.0</td><td>⋯</td><td> 9.84</td><td>-0.43</td><td> 7.39</td><td> 7.36</td><td>-0.20</td><td> 5700</td><td> 7200</td><td> 5336.429</td><td> 3265.9890</td><td> 4651.09396</td></tr>\n",
       "\t<tr><th scope=row>136</th><td>송창식</td><td>한화</td><td>5</td><td>6</td><td> 0</td><td>15</td><td>6</td><td>63</td><td> 0</td><td>73.1</td><td>⋯</td><td> 6.63</td><td>-0.74</td><td> 5.68</td><td> 5.59</td><td>-0.22</td><td>24000</td><td>22000</td><td>16306.086</td><td>16351.0737</td><td>17836.44986</td></tr>\n",
       "\t<tr><th scope=row>137</th><td>배재환</td><td>NC  </td><td>0</td><td>1</td><td> 0</td><td> 0</td><td>0</td><td> 3</td><td> 1</td><td> 8.0</td><td>⋯</td><td> 9.00</td><td>-0.16</td><td>11.48</td><td>11.73</td><td>-0.23</td><td> 3000</td><td> 4000</td><td> 2964.893</td><td> 3807.0275</td><td> 4905.41920</td></tr>\n",
       "\t<tr><th scope=row>138</th><td>이정민</td><td>롯데</td><td>3</td><td>1</td><td> 0</td><td> 2</td><td>1</td><td>24</td><td> 0</td><td>26.2</td><td>⋯</td><td> 5.40</td><td> 0.19</td><td> 6.47</td><td> 6.83</td><td>-0.24</td><td>10000</td><td>15000</td><td>11117.848</td><td>11150.4349</td><td>11939.78335</td></tr>\n",
       "\t<tr><th scope=row>139</th><td>최동환</td><td>LG  </td><td>1</td><td>2</td><td> 1</td><td> 5</td><td>2</td><td>35</td><td> 0</td><td>38.0</td><td>⋯</td><td> 5.68</td><td>-0.05</td><td> 6.76</td><td> 6.77</td><td>-0.24</td><td> 6500</td><td> 6000</td><td> 4446.970</td><td> 1651.5907</td><td> 2934.46753</td></tr>\n",
       "\t<tr><th scope=row>140</th><td>이종혁</td><td>KT  </td><td>2</td><td>0</td><td> 0</td><td> 0</td><td>0</td><td>16</td><td> 0</td><td>19.0</td><td>⋯</td><td> 6.63</td><td>-0.09</td><td> 7.10</td><td> 7.57</td><td>-0.25</td><td> 3200</td><td> 2700</td><td> 2001.196</td><td>  564.4227</td><td> 1059.70614</td></tr>\n",
       "\t<tr><th scope=row>141</th><td>홍성용</td><td>KT  </td><td>0</td><td>2</td><td> 0</td><td> 1</td><td>0</td><td>37</td><td> 1</td><td>39.0</td><td>⋯</td><td> 6.23</td><td> 0.25</td><td> 6.40</td><td> 6.63</td><td>-0.28</td><td> 6800</td><td> 6300</td><td> 4669.430</td><td> 2877.7134</td><td> 3578.68637</td></tr>\n",
       "\t<tr><th scope=row>142</th><td>정영일</td><td>SK  </td><td>0</td><td>0</td><td> 0</td><td> 0</td><td>0</td><td> 9</td><td> 0</td><td> 8.0</td><td>⋯</td><td>10.12</td><td>-0.61</td><td>10.73</td><td>11.37</td><td>-0.30</td><td> 3000</td><td> 4000</td><td> 2964.964</td><td> 4241.1480</td><td> 4774.13857</td></tr>\n",
       "\t<tr><th scope=row>143</th><td>김지용</td><td>LG  </td><td>4</td><td>3</td><td> 3</td><td> 8</td><td>4</td><td>53</td><td> 0</td><td>53.0</td><td>⋯</td><td> 5.09</td><td> 0.28</td><td> 6.30</td><td> 6.27</td><td>-0.38</td><td> 9000</td><td>10000</td><td> 7411.678</td><td> 3788.8307</td><td> 5340.39499</td></tr>\n",
       "\t<tr><th scope=row>144</th><td>최금강</td><td>NC  </td><td>5</td><td>3</td><td> 0</td><td> 0</td><td>0</td><td>39</td><td>13</td><td>89.2</td><td>⋯</td><td> 7.33</td><td>-0.27</td><td> 6.31</td><td> 6.58</td><td>-0.41</td><td>12500</td><td>14000</td><td>10376.560</td><td> 8542.1622</td><td> 9744.24048</td></tr>\n",
       "\t<tr><th scope=row>145</th><td>김범수</td><td>한화</td><td>0</td><td>4</td><td> 0</td><td> 0</td><td>0</td><td>15</td><td> 5</td><td>31.0</td><td>⋯</td><td> 8.71</td><td>-0.42</td><td> 8.15</td><td> 8.52</td><td>-0.42</td><td> 3600</td><td> 3300</td><td> 2445.965</td><td> 1206.6108</td><td> 1838.44631</td></tr>\n",
       "\t<tr><th scope=row>146</th><td>이승현</td><td>삼성</td><td>2</td><td>0</td><td> 0</td><td> 0</td><td>0</td><td>30</td><td> 0</td><td>31.2</td><td>⋯</td><td> 5.12</td><td> 0.31</td><td> 8.03</td><td> 8.03</td><td>-0.44</td><td> 7000</td><td> 6200</td><td> 4595.280</td><td> 2054.0673</td><td> 3450.35583</td></tr>\n",
       "\t<tr><th scope=row>147</th><td>주권  </td><td>KT  </td><td>5</td><td>6</td><td> 1</td><td> 3</td><td>2</td><td>39</td><td>12</td><td>81.2</td><td>⋯</td><td> 6.61</td><td>-0.02</td><td> 6.33</td><td> 6.54</td><td>-0.46</td><td> 7600</td><td> 7500</td><td> 5558.774</td><td> 2162.2155</td><td> 3280.22845</td></tr>\n",
       "\t<tr><th scope=row>148</th><td>장민재</td><td>한화</td><td>2</td><td>5</td><td> 0</td><td> 0</td><td>2</td><td>33</td><td> 5</td><td>62.2</td><td>⋯</td><td> 7.76</td><td>-1.21</td><td> 6.21</td><td> 6.48</td><td>-0.47</td><td> 7100</td><td> 8100</td><td> 6003.520</td><td> 2972.9523</td><td> 3919.93355</td></tr>\n",
       "\t<tr><th scope=row>149</th><td>정용운</td><td>KIA </td><td>3</td><td>2</td><td> 0</td><td> 0</td><td>0</td><td>25</td><td>11</td><td>59.1</td><td>⋯</td><td> 5.92</td><td> 0.39</td><td> 6.41</td><td> 6.77</td><td>-0.49</td><td> 7500</td><td> 3100</td><td> 2297.618</td><td> -673.0981</td><td>  -53.20351</td></tr>\n",
       "\t<tr><th scope=row>150</th><td>노경은</td><td>롯데</td><td>0</td><td>2</td><td> 0</td><td> 0</td><td>0</td><td> 9</td><td> 2</td><td>14.2</td><td>⋯</td><td>11.66</td><td>-0.83</td><td> 8.03</td><td> 8.29</td><td>-0.61</td><td>10000</td><td>16000</td><td>11858.971</td><td> 9953.0416</td><td>11626.38686</td></tr>\n",
       "\t<tr><th scope=row>151</th><td>김승현</td><td>삼성</td><td>0</td><td>3</td><td> 0</td><td> 1</td><td>0</td><td>41</td><td> 0</td><td>43.2</td><td>⋯</td><td> 5.77</td><td>-0.40</td><td> 6.87</td><td> 6.95</td><td>-0.70</td><td> 4000</td><td> 2900</td><td> 2149.246</td><td>-3065.3516</td><td>-1610.41555</td></tr>\n",
       "\t<tr><th scope=row>152</th><td>류희운</td><td>KT  </td><td>4</td><td>4</td><td> 0</td><td> 0</td><td>0</td><td>24</td><td>14</td><td>81.0</td><td>⋯</td><td> 7.67</td><td>-0.68</td><td> 7.60</td><td> 7.81</td><td>-1.01</td><td> 4000</td><td> 3000</td><td> 2223.298</td><td>-5132.3247</td><td>-3236.44776</td></tr>\n",
       "</tbody>\n",
       "</table>\n"
      ],
      "text/latex": [
       "A data.frame: 128 × 25\n",
       "\\begin{tabular}{r|lllllllllllllllllllll}\n",
       "  & 선수명 & 팀명 & 승 & 패 & 세 & 홀드 & 블론 & 경기 & 선발 & 이닝 & ⋯ & ERA & RA9.WAR & FIP & kFIP & WAR & 연봉.2018. & 연봉.2017. & new\\_col & new\\_col.1 & new\\_data\\\\\n",
       "  & <chr> & <chr> & <int> & <int> & <int> & <int> & <int> & <int> & <int> & <dbl> & ⋯ & <dbl> & <dbl> & <dbl> & <dbl> & <dbl> & <int> & <int> & <dbl> & <dbl> & <dbl>\\\\\n",
       "\\hline\n",
       "\t1 & 켈리     & SK   & 16 &  7 &  0 &  0 & 0 & 30 & 30 & 190.0 & ⋯ & 3.60 & 6.91 & 3.69 & 3.44 & 6.62 & 140000 &  85000 &  63003.595 & 127837.996 & 120079.644\\\\\n",
       "\t2 & 소사     & LG   & 11 & 11 &  1 &  0 & 0 & 30 & 29 & 185.1 & ⋯ & 3.88 & 6.80 & 3.52 & 3.41 & 6.08 & 120000 &  50000 &  37061.640 &  91955.341 &  83760.504\\\\\n",
       "\t3 & 양현종   & KIA  & 20 &  6 &  0 &  0 & 0 & 31 & 31 & 193.1 & ⋯ & 3.44 & 6.54 & 3.94 & 3.82 & 5.64 & 230000 & 150000 & 111180.994 & 180164.163 & 175521.573\\\\\n",
       "\t5 & 레일리   & 롯데 & 13 &  7 &  0 &  0 & 0 & 30 & 30 & 187.1 & ⋯ & 3.80 & 6.13 & 4.36 & 4.31 & 4.38 & 111000 &  85000 &  63002.886 & 110388.580 & 106098.401\\\\\n",
       "\t6 & 피어밴드 & KT   &  8 & 10 &  0 &  0 & 0 & 26 & 26 & 160.0 & ⋯ & 3.04 & 6.52 & 4.42 & 4.32 & 3.94 &  85000 &  35000 &  25942.975 &  60851.766 &  55938.336\\\\\n",
       "\t7 & 고영표   & KT   &  8 & 12 &  0 &  1 & 0 & 25 & 24 & 141.2 & ⋯ & 5.08 & 2.97 & 3.88 & 3.78 & 3.87 &  11500 &   5200 &   3855.283 &  32248.671 &  26731.808\\\\\n",
       "\t9 & 함덕주   & 두산 &  9 &  8 &  0 &  2 & 0 & 35 & 24 & 137.1 & ⋯ & 3.67 & 4.99 & 3.91 & 3.67 & 3.78 &  16000 &   7000 &   5189.489 &  34420.638 &  28840.862\\\\\n",
       "\t13 & 임기영   & KIA  &  8 &  6 &  0 &  0 & 0 & 23 & 19 & 118.1 & ⋯ & 3.65 & 4.25 & 4.07 & 4.19 & 2.79 &  13000 &   3100 &   2298.522 &  22932.876 &  18557.121\\\\\n",
       "\t14 & 박세웅   & 롯데 & 12 &  6 &  0 &  0 & 0 & 28 & 28 & 171.1 & ⋯ & 3.68 & 5.92 & 5.07 & 5.14 & 2.54 &  25000 &  10000 &   7412.730 &  27963.633 &  24286.458\\\\\n",
       "\t15 & 백정현   & 삼성 &  8 &  4 &  0 &  3 & 0 & 35 & 14 & 100.2 & ⋯ & 4.38 & 3.01 & 4.51 & 4.34 & 2.25 &  15500 &  10000 &   7412.536 &  24575.219 &  21705.856\\\\\n",
       "\t17 & 류제국   & LG   &  8 &  6 &  0 &  0 & 0 & 25 & 25 & 131.1 & ⋯ & 5.35 & 1.53 & 4.79 & 4.84 & 2.15 &  29000 &  35000 &  25942.448 &  47534.929 &  45256.386\\\\\n",
       "\t19 & 임찬규   & LG   &  6 & 10 &  0 &  0 & 0 & 27 & 26 & 124.1 & ⋯ & 4.63 & 3.15 & 4.81 & 4.79 & 2.04 &  11500 &   6500 &   4818.295 &  19832.884 &  17218.543\\\\\n",
       "\t22 & 윤희상   & SK   &  6 &  7 &  0 &  0 & 0 & 23 & 22 & 120.0 & ⋯ & 6.00 & 1.52 & 5.13 & 5.22 & 1.80 &  13000 &  15000 &  11118.427 &  26255.265 &  24012.479\\\\\n",
       "\t23 & 원종현   & NC   &  3 &  6 &  0 & 22 & 0 & 68 &  0 &  80.0 & ⋯ & 4.39 & 2.02 & 3.60 & 3.52 & 1.71 &  18500 &  14000 &  10377.101 &  23403.105 &  21354.395\\\\\n",
       "\t24 & 배영수   & 한화 &  7 &  8 &  0 &  0 & 0 & 25 & 25 & 128.0 & ⋯ & 5.06 & 2.47 & 5.10 & 5.21 & 1.68 &  50000 &  55000 &  40766.167 &  61693.571 &  60809.360\\\\\n",
       "\t25 & 박종훈   & SK   & 12 &  7 &  0 &  1 & 0 & 29 & 28 & 151.1 & ⋯ & 4.10 & 4.31 & 5.38 & 5.55 & 1.62 &  20000 &  10000 &   7412.434 &  20805.675 &  18627.133\\\\\n",
       "\t26 & 이상화   & KT   &  4 &  3 &  6 &  4 & 1 & 70 &  0 &  66.0 & ⋯ & 3.95 & 2.43 & 3.57 & 3.45 & 1.54 &  10000 &   4500 &   3335.691 &  13333.548 &  11284.396\\\\\n",
       "\t27 & 김진성   & NC   & 10 &  6 &  0 & 15 & 2 & 69 &  0 &  89.2 & ⋯ & 3.61 & 3.20 & 4.30 & 3.92 & 1.47 &  23000 &  18000 &  13341.734 &  24511.486 &  23499.001\\\\\n",
       "\t28 & 이민호   & NC   &  5 &  1 &  3 &  6 & 1 & 60 &  3 &  88.2 & ⋯ & 4.06 & 1.97 & 4.41 & 4.22 & 1.38 &  18800 &  16000 &  11859.379 &  22705.669 &  21500.092\\\\\n",
       "\t29 & 이재학   & NC   &  5 &  7 &  0 &  0 & 0 & 28 & 23 & 119.0 & ⋯ & 5.67 & 1.04 & 5.53 & 5.35 & 1.31 &  19000 &  20000 &  14824.140 &  25923.735 &  25216.046\\\\\n",
       "\t30 & 김강률   & 두산 &  7 &  2 &  7 & 12 & 1 & 70 &  0 &  89.0 & ⋯ & 3.44 & 2.68 & 4.15 & 4.09 & 1.27 &  15000 &   6200 &   4595.698 &  13575.161 &  11877.920\\\\\n",
       "\t31 & 김재윤   & KT   &  3 &  5 & 15 &  0 & 4 & 41 &  0 &  37.1 & ⋯ & 5.79 & 0.73 & 3.15 & 3.05 & 1.24 &  11000 &   9000 &   6670.994 &  15370.094 &  13693.121\\\\\n",
       "\t32 & 김원중   & 롯데 &  7 &  8 &  0 &  0 & 0 & 24 & 24 & 107.1 & ⋯ & 5.70 & 2.22 & 5.53 & 5.56 & 1.23 &   6300 &   3000 &   2223.940 &  11393.858 &   9721.380\\\\\n",
       "\t33 & 박진형   & 롯데 &  4 &  4 &  2 & 10 & 3 & 45 &  9 &  88.0 & ⋯ & 5.11 & 1.70 & 4.43 & 4.14 & 1.12 &  10500 &   6000 &   4447.373 &  11961.674 &  10832.990\\\\\n",
       "\t34 & 윤규진   & 한화 &  8 &  7 &  0 &  2 & 0 & 36 & 18 & 119.0 & ⋯ & 5.22 & 2.23 & 5.46 & 5.42 & 1.09 &  21000 &  18000 &  13341.766 &  23320.087 &  22447.697\\\\\n",
       "\t35 & 김재영   & 한화 &  5 &  7 &  0 &  0 & 1 & 20 & 15 &  85.1 & ⋯ & 4.54 & 1.60 & 5.00 & 5.23 & 1.06 &   5300 &   3000 &   2223.843 &   9322.823 &   7824.809\\\\\n",
       "\t36 & 신정락   & LG   &  3 &  5 & 10 & 12 & 3 & 63 &  0 &  59.0 & ⋯ & 5.34 & 0.51 & 4.23 & 4.12 & 0.97 &  10500 &   7500 &   5559.100 &  11850.125 &  10957.933\\\\\n",
       "\t38 & 심창민   & 삼성 &  4 &  7 &  6 & 16 & 2 & 66 &  0 &  75.1 & ⋯ & 4.18 & 1.82 & 4.82 & 4.26 & 0.93 &  23000 &  21000 &  15565.136 &  23185.400 &  23384.860\\\\\n",
       "\t39 & 정찬헌   & LG   &  8 &  7 &  7 &  3 & 3 & 61 &  0 &  61.2 & ⋯ & 5.84 & 0.97 & 3.96 & 3.80 & 0.93 &   9500 &   4500 &   3335.522 &   8995.166 &   7904.678\\\\\n",
       "\t40 & 임창민   & NC   &  4 &  3 & 29 &  0 & 6 & 60 &  0 &  66.0 & ⋯ & 3.68 & 2.68 & 4.83 & 4.60 & 0.89 &  25000 &  22500 &  16676.995 &  24913.355 &  24703.222\\\\\n",
       "\t⋮ & ⋮ & ⋮ & ⋮ & ⋮ & ⋮ & ⋮ & ⋮ & ⋮ & ⋮ & ⋮ & ⋱ & ⋮ & ⋮ & ⋮ & ⋮ & ⋮ & ⋮ & ⋮ & ⋮ & ⋮ & ⋮\\\\\n",
       "\t118 & 배민관 & LG   & 0 & 0 &  0 &  0 & 0 &  4 &  0 &  3.2 & ⋯ &  9.82 & -0.11 &  9.46 &  9.77 & -0.08 &  3200 &  3000 &  2223.850 &  5401.6928 &  5349.37842\\\\\n",
       "\t119 & 윤근영 & KT   & 0 & 0 &  0 &  1 & 0 & 12 &  0 & 18.0 & ⋯ &  3.50 &  0.30 &  6.23 &  6.31 & -0.08 &  4200 &  4000 &  2964.668 &  1350.9942 &  1957.02839\\\\\n",
       "\t120 & 강장산 & KT   & 0 & 0 &  0 &  0 & 0 & 17 &  0 & 26.1 & ⋯ &  5.47 &  0.54 &  6.16 &  6.46 & -0.10 &  3300 &  3000 &  2223.583 &  1795.4384 &  1942.46057\\\\\n",
       "\t124 & 김민우 & 한화 & 0 & 0 &  0 &  0 & 0 &  4 &  2 &  7.1 & ⋯ & 17.18 & -0.52 &  7.83 &  8.32 & -0.12 &  3600 &  3800 &  2816.614 &  3554.7700 &  3912.29634\\\\\n",
       "\t125 & 이현호 & 두산 & 1 & 0 &  0 &  0 & 0 & 24 &  2 & 30.0 & ⋯ &  5.70 & -0.51 &  6.47 &  6.57 & -0.16 &  5200 &  6000 &  4447.098 &  3446.5228 &  4053.21274\\\\\n",
       "\t127 & 배제성 & KT   & 0 & 0 &  0 &  0 & 0 & 21 &  1 & 32.0 & ⋯ &  8.72 & -0.10 &  6.39 &  6.59 & -0.17 &  3000 &  2700 &  2001.242 &  1539.0311 &  1718.55530\\\\\n",
       "\t128 & 홍상삼 & 두산 & 1 & 1 &  0 &  0 & 0 & 11 &  2 & 17.0 & ⋯ &  7.94 & -0.52 &  6.73 &  7.22 & -0.18 &  9000 & 12500 &  9265.021 & 11187.3262 & 11344.83558\\\\\n",
       "\t129 & 이태양 & 한화 & 3 & 6 &  0 &  0 & 0 & 16 & 12 & 59.0 & ⋯ &  7.17 &  0.05 &  6.77 &  7.04 & -0.18 &  7300 &  8300 &  6151.890 &  5929.5258 &  6449.57632\\\\\n",
       "\t130 & 김진우 & KIA  & 2 & 6 &  0 &  0 & 1 & 14 &  8 & 36.1 & ⋯ &  7.93 & -0.35 &  6.68 &  7.04 & -0.19 &  6000 & 12000 &  8894.348 &  9837.3511 & 10343.45037\\\\\n",
       "\t131 & 이영하 & 두산 & 3 & 3 &  0 &  0 & 0 & 20 &  3 & 35.2 & ⋯ &  5.55 &  0.59 &  6.79 &  6.86 & -0.19 &  4200 &  2700 &  2001.102 &  -291.0924 &   566.08017\\\\\n",
       "\t133 & 김동호 & 삼성 & 0 & 1 &  0 &  0 & 0 & 20 &  1 & 36.0 & ⋯ &  6.75 & -0.07 &  5.46 &  5.96 & -0.20 &  6000 &  5000 &  3706.004 &  3508.1291 &  3362.37197\\\\\n",
       "\t134 & 김윤동 & KIA  & 7 & 4 & 11 &  6 & 6 & 65 &  1 & 80.1 & ⋯ &  4.59 &  1.89 &  5.54 &  5.53 & -0.20 & 15000 &  4700 &  3483.494 &  1585.1461 &  2213.60459\\\\\n",
       "\t135 & 정인욱 & 삼성 & 1 & 4 &  0 &  0 & 0 &  9 &  7 & 32.0 & ⋯ &  9.84 & -0.43 &  7.39 &  7.36 & -0.20 &  5700 &  7200 &  5336.429 &  3265.9890 &  4651.09396\\\\\n",
       "\t136 & 송창식 & 한화 & 5 & 6 &  0 & 15 & 6 & 63 &  0 & 73.1 & ⋯ &  6.63 & -0.74 &  5.68 &  5.59 & -0.22 & 24000 & 22000 & 16306.086 & 16351.0737 & 17836.44986\\\\\n",
       "\t137 & 배재환 & NC   & 0 & 1 &  0 &  0 & 0 &  3 &  1 &  8.0 & ⋯ &  9.00 & -0.16 & 11.48 & 11.73 & -0.23 &  3000 &  4000 &  2964.893 &  3807.0275 &  4905.41920\\\\\n",
       "\t138 & 이정민 & 롯데 & 3 & 1 &  0 &  2 & 1 & 24 &  0 & 26.2 & ⋯ &  5.40 &  0.19 &  6.47 &  6.83 & -0.24 & 10000 & 15000 & 11117.848 & 11150.4349 & 11939.78335\\\\\n",
       "\t139 & 최동환 & LG   & 1 & 2 &  1 &  5 & 2 & 35 &  0 & 38.0 & ⋯ &  5.68 & -0.05 &  6.76 &  6.77 & -0.24 &  6500 &  6000 &  4446.970 &  1651.5907 &  2934.46753\\\\\n",
       "\t140 & 이종혁 & KT   & 2 & 0 &  0 &  0 & 0 & 16 &  0 & 19.0 & ⋯ &  6.63 & -0.09 &  7.10 &  7.57 & -0.25 &  3200 &  2700 &  2001.196 &   564.4227 &  1059.70614\\\\\n",
       "\t141 & 홍성용 & KT   & 0 & 2 &  0 &  1 & 0 & 37 &  1 & 39.0 & ⋯ &  6.23 &  0.25 &  6.40 &  6.63 & -0.28 &  6800 &  6300 &  4669.430 &  2877.7134 &  3578.68637\\\\\n",
       "\t142 & 정영일 & SK   & 0 & 0 &  0 &  0 & 0 &  9 &  0 &  8.0 & ⋯ & 10.12 & -0.61 & 10.73 & 11.37 & -0.30 &  3000 &  4000 &  2964.964 &  4241.1480 &  4774.13857\\\\\n",
       "\t143 & 김지용 & LG   & 4 & 3 &  3 &  8 & 4 & 53 &  0 & 53.0 & ⋯ &  5.09 &  0.28 &  6.30 &  6.27 & -0.38 &  9000 & 10000 &  7411.678 &  3788.8307 &  5340.39499\\\\\n",
       "\t144 & 최금강 & NC   & 5 & 3 &  0 &  0 & 0 & 39 & 13 & 89.2 & ⋯ &  7.33 & -0.27 &  6.31 &  6.58 & -0.41 & 12500 & 14000 & 10376.560 &  8542.1622 &  9744.24048\\\\\n",
       "\t145 & 김범수 & 한화 & 0 & 4 &  0 &  0 & 0 & 15 &  5 & 31.0 & ⋯ &  8.71 & -0.42 &  8.15 &  8.52 & -0.42 &  3600 &  3300 &  2445.965 &  1206.6108 &  1838.44631\\\\\n",
       "\t146 & 이승현 & 삼성 & 2 & 0 &  0 &  0 & 0 & 30 &  0 & 31.2 & ⋯ &  5.12 &  0.31 &  8.03 &  8.03 & -0.44 &  7000 &  6200 &  4595.280 &  2054.0673 &  3450.35583\\\\\n",
       "\t147 & 주권   & KT   & 5 & 6 &  1 &  3 & 2 & 39 & 12 & 81.2 & ⋯ &  6.61 & -0.02 &  6.33 &  6.54 & -0.46 &  7600 &  7500 &  5558.774 &  2162.2155 &  3280.22845\\\\\n",
       "\t148 & 장민재 & 한화 & 2 & 5 &  0 &  0 & 2 & 33 &  5 & 62.2 & ⋯ &  7.76 & -1.21 &  6.21 &  6.48 & -0.47 &  7100 &  8100 &  6003.520 &  2972.9523 &  3919.93355\\\\\n",
       "\t149 & 정용운 & KIA  & 3 & 2 &  0 &  0 & 0 & 25 & 11 & 59.1 & ⋯ &  5.92 &  0.39 &  6.41 &  6.77 & -0.49 &  7500 &  3100 &  2297.618 &  -673.0981 &   -53.20351\\\\\n",
       "\t150 & 노경은 & 롯데 & 0 & 2 &  0 &  0 & 0 &  9 &  2 & 14.2 & ⋯ & 11.66 & -0.83 &  8.03 &  8.29 & -0.61 & 10000 & 16000 & 11858.971 &  9953.0416 & 11626.38686\\\\\n",
       "\t151 & 김승현 & 삼성 & 0 & 3 &  0 &  1 & 0 & 41 &  0 & 43.2 & ⋯ &  5.77 & -0.40 &  6.87 &  6.95 & -0.70 &  4000 &  2900 &  2149.246 & -3065.3516 & -1610.41555\\\\\n",
       "\t152 & 류희운 & KT   & 4 & 4 &  0 &  0 & 0 & 24 & 14 & 81.0 & ⋯ &  7.67 & -0.68 &  7.60 &  7.81 & -1.01 &  4000 &  3000 &  2223.298 & -5132.3247 & -3236.44776\\\\\n",
       "\\end{tabular}\n"
      ],
      "text/markdown": [
       "\n",
       "A data.frame: 128 × 25\n",
       "\n",
       "| <!--/--> | 선수명 &lt;chr&gt; | 팀명 &lt;chr&gt; | 승 &lt;int&gt; | 패 &lt;int&gt; | 세 &lt;int&gt; | 홀드 &lt;int&gt; | 블론 &lt;int&gt; | 경기 &lt;int&gt; | 선발 &lt;int&gt; | 이닝 &lt;dbl&gt; | ⋯ ⋯ | ERA &lt;dbl&gt; | RA9.WAR &lt;dbl&gt; | FIP &lt;dbl&gt; | kFIP &lt;dbl&gt; | WAR &lt;dbl&gt; | 연봉.2018. &lt;int&gt; | 연봉.2017. &lt;int&gt; | new_col &lt;dbl&gt; | new_col.1 &lt;dbl&gt; | new_data &lt;dbl&gt; |\n",
       "|---|---|---|---|---|---|---|---|---|---|---|---|---|---|---|---|---|---|---|---|---|---|\n",
       "| 1 | 켈리     | SK   | 16 |  7 |  0 |  0 | 0 | 30 | 30 | 190.0 | ⋯ | 3.60 | 6.91 | 3.69 | 3.44 | 6.62 | 140000 |  85000 |  63003.595 | 127837.996 | 120079.644 |\n",
       "| 2 | 소사     | LG   | 11 | 11 |  1 |  0 | 0 | 30 | 29 | 185.1 | ⋯ | 3.88 | 6.80 | 3.52 | 3.41 | 6.08 | 120000 |  50000 |  37061.640 |  91955.341 |  83760.504 |\n",
       "| 3 | 양현종   | KIA  | 20 |  6 |  0 |  0 | 0 | 31 | 31 | 193.1 | ⋯ | 3.44 | 6.54 | 3.94 | 3.82 | 5.64 | 230000 | 150000 | 111180.994 | 180164.163 | 175521.573 |\n",
       "| 5 | 레일리   | 롯데 | 13 |  7 |  0 |  0 | 0 | 30 | 30 | 187.1 | ⋯ | 3.80 | 6.13 | 4.36 | 4.31 | 4.38 | 111000 |  85000 |  63002.886 | 110388.580 | 106098.401 |\n",
       "| 6 | 피어밴드 | KT   |  8 | 10 |  0 |  0 | 0 | 26 | 26 | 160.0 | ⋯ | 3.04 | 6.52 | 4.42 | 4.32 | 3.94 |  85000 |  35000 |  25942.975 |  60851.766 |  55938.336 |\n",
       "| 7 | 고영표   | KT   |  8 | 12 |  0 |  1 | 0 | 25 | 24 | 141.2 | ⋯ | 5.08 | 2.97 | 3.88 | 3.78 | 3.87 |  11500 |   5200 |   3855.283 |  32248.671 |  26731.808 |\n",
       "| 9 | 함덕주   | 두산 |  9 |  8 |  0 |  2 | 0 | 35 | 24 | 137.1 | ⋯ | 3.67 | 4.99 | 3.91 | 3.67 | 3.78 |  16000 |   7000 |   5189.489 |  34420.638 |  28840.862 |\n",
       "| 13 | 임기영   | KIA  |  8 |  6 |  0 |  0 | 0 | 23 | 19 | 118.1 | ⋯ | 3.65 | 4.25 | 4.07 | 4.19 | 2.79 |  13000 |   3100 |   2298.522 |  22932.876 |  18557.121 |\n",
       "| 14 | 박세웅   | 롯데 | 12 |  6 |  0 |  0 | 0 | 28 | 28 | 171.1 | ⋯ | 3.68 | 5.92 | 5.07 | 5.14 | 2.54 |  25000 |  10000 |   7412.730 |  27963.633 |  24286.458 |\n",
       "| 15 | 백정현   | 삼성 |  8 |  4 |  0 |  3 | 0 | 35 | 14 | 100.2 | ⋯ | 4.38 | 3.01 | 4.51 | 4.34 | 2.25 |  15500 |  10000 |   7412.536 |  24575.219 |  21705.856 |\n",
       "| 17 | 류제국   | LG   |  8 |  6 |  0 |  0 | 0 | 25 | 25 | 131.1 | ⋯ | 5.35 | 1.53 | 4.79 | 4.84 | 2.15 |  29000 |  35000 |  25942.448 |  47534.929 |  45256.386 |\n",
       "| 19 | 임찬규   | LG   |  6 | 10 |  0 |  0 | 0 | 27 | 26 | 124.1 | ⋯ | 4.63 | 3.15 | 4.81 | 4.79 | 2.04 |  11500 |   6500 |   4818.295 |  19832.884 |  17218.543 |\n",
       "| 22 | 윤희상   | SK   |  6 |  7 |  0 |  0 | 0 | 23 | 22 | 120.0 | ⋯ | 6.00 | 1.52 | 5.13 | 5.22 | 1.80 |  13000 |  15000 |  11118.427 |  26255.265 |  24012.479 |\n",
       "| 23 | 원종현   | NC   |  3 |  6 |  0 | 22 | 0 | 68 |  0 |  80.0 | ⋯ | 4.39 | 2.02 | 3.60 | 3.52 | 1.71 |  18500 |  14000 |  10377.101 |  23403.105 |  21354.395 |\n",
       "| 24 | 배영수   | 한화 |  7 |  8 |  0 |  0 | 0 | 25 | 25 | 128.0 | ⋯ | 5.06 | 2.47 | 5.10 | 5.21 | 1.68 |  50000 |  55000 |  40766.167 |  61693.571 |  60809.360 |\n",
       "| 25 | 박종훈   | SK   | 12 |  7 |  0 |  1 | 0 | 29 | 28 | 151.1 | ⋯ | 4.10 | 4.31 | 5.38 | 5.55 | 1.62 |  20000 |  10000 |   7412.434 |  20805.675 |  18627.133 |\n",
       "| 26 | 이상화   | KT   |  4 |  3 |  6 |  4 | 1 | 70 |  0 |  66.0 | ⋯ | 3.95 | 2.43 | 3.57 | 3.45 | 1.54 |  10000 |   4500 |   3335.691 |  13333.548 |  11284.396 |\n",
       "| 27 | 김진성   | NC   | 10 |  6 |  0 | 15 | 2 | 69 |  0 |  89.2 | ⋯ | 3.61 | 3.20 | 4.30 | 3.92 | 1.47 |  23000 |  18000 |  13341.734 |  24511.486 |  23499.001 |\n",
       "| 28 | 이민호   | NC   |  5 |  1 |  3 |  6 | 1 | 60 |  3 |  88.2 | ⋯ | 4.06 | 1.97 | 4.41 | 4.22 | 1.38 |  18800 |  16000 |  11859.379 |  22705.669 |  21500.092 |\n",
       "| 29 | 이재학   | NC   |  5 |  7 |  0 |  0 | 0 | 28 | 23 | 119.0 | ⋯ | 5.67 | 1.04 | 5.53 | 5.35 | 1.31 |  19000 |  20000 |  14824.140 |  25923.735 |  25216.046 |\n",
       "| 30 | 김강률   | 두산 |  7 |  2 |  7 | 12 | 1 | 70 |  0 |  89.0 | ⋯ | 3.44 | 2.68 | 4.15 | 4.09 | 1.27 |  15000 |   6200 |   4595.698 |  13575.161 |  11877.920 |\n",
       "| 31 | 김재윤   | KT   |  3 |  5 | 15 |  0 | 4 | 41 |  0 |  37.1 | ⋯ | 5.79 | 0.73 | 3.15 | 3.05 | 1.24 |  11000 |   9000 |   6670.994 |  15370.094 |  13693.121 |\n",
       "| 32 | 김원중   | 롯데 |  7 |  8 |  0 |  0 | 0 | 24 | 24 | 107.1 | ⋯ | 5.70 | 2.22 | 5.53 | 5.56 | 1.23 |   6300 |   3000 |   2223.940 |  11393.858 |   9721.380 |\n",
       "| 33 | 박진형   | 롯데 |  4 |  4 |  2 | 10 | 3 | 45 |  9 |  88.0 | ⋯ | 5.11 | 1.70 | 4.43 | 4.14 | 1.12 |  10500 |   6000 |   4447.373 |  11961.674 |  10832.990 |\n",
       "| 34 | 윤규진   | 한화 |  8 |  7 |  0 |  2 | 0 | 36 | 18 | 119.0 | ⋯ | 5.22 | 2.23 | 5.46 | 5.42 | 1.09 |  21000 |  18000 |  13341.766 |  23320.087 |  22447.697 |\n",
       "| 35 | 김재영   | 한화 |  5 |  7 |  0 |  0 | 1 | 20 | 15 |  85.1 | ⋯ | 4.54 | 1.60 | 5.00 | 5.23 | 1.06 |   5300 |   3000 |   2223.843 |   9322.823 |   7824.809 |\n",
       "| 36 | 신정락   | LG   |  3 |  5 | 10 | 12 | 3 | 63 |  0 |  59.0 | ⋯ | 5.34 | 0.51 | 4.23 | 4.12 | 0.97 |  10500 |   7500 |   5559.100 |  11850.125 |  10957.933 |\n",
       "| 38 | 심창민   | 삼성 |  4 |  7 |  6 | 16 | 2 | 66 |  0 |  75.1 | ⋯ | 4.18 | 1.82 | 4.82 | 4.26 | 0.93 |  23000 |  21000 |  15565.136 |  23185.400 |  23384.860 |\n",
       "| 39 | 정찬헌   | LG   |  8 |  7 |  7 |  3 | 3 | 61 |  0 |  61.2 | ⋯ | 5.84 | 0.97 | 3.96 | 3.80 | 0.93 |   9500 |   4500 |   3335.522 |   8995.166 |   7904.678 |\n",
       "| 40 | 임창민   | NC   |  4 |  3 | 29 |  0 | 6 | 60 |  0 |  66.0 | ⋯ | 3.68 | 2.68 | 4.83 | 4.60 | 0.89 |  25000 |  22500 |  16676.995 |  24913.355 |  24703.222 |\n",
       "| ⋮ | ⋮ | ⋮ | ⋮ | ⋮ | ⋮ | ⋮ | ⋮ | ⋮ | ⋮ | ⋮ | ⋱ | ⋮ | ⋮ | ⋮ | ⋮ | ⋮ | ⋮ | ⋮ | ⋮ | ⋮ | ⋮ |\n",
       "| 118 | 배민관 | LG   | 0 | 0 |  0 |  0 | 0 |  4 |  0 |  3.2 | ⋯ |  9.82 | -0.11 |  9.46 |  9.77 | -0.08 |  3200 |  3000 |  2223.850 |  5401.6928 |  5349.37842 |\n",
       "| 119 | 윤근영 | KT   | 0 | 0 |  0 |  1 | 0 | 12 |  0 | 18.0 | ⋯ |  3.50 |  0.30 |  6.23 |  6.31 | -0.08 |  4200 |  4000 |  2964.668 |  1350.9942 |  1957.02839 |\n",
       "| 120 | 강장산 | KT   | 0 | 0 |  0 |  0 | 0 | 17 |  0 | 26.1 | ⋯ |  5.47 |  0.54 |  6.16 |  6.46 | -0.10 |  3300 |  3000 |  2223.583 |  1795.4384 |  1942.46057 |\n",
       "| 124 | 김민우 | 한화 | 0 | 0 |  0 |  0 | 0 |  4 |  2 |  7.1 | ⋯ | 17.18 | -0.52 |  7.83 |  8.32 | -0.12 |  3600 |  3800 |  2816.614 |  3554.7700 |  3912.29634 |\n",
       "| 125 | 이현호 | 두산 | 1 | 0 |  0 |  0 | 0 | 24 |  2 | 30.0 | ⋯ |  5.70 | -0.51 |  6.47 |  6.57 | -0.16 |  5200 |  6000 |  4447.098 |  3446.5228 |  4053.21274 |\n",
       "| 127 | 배제성 | KT   | 0 | 0 |  0 |  0 | 0 | 21 |  1 | 32.0 | ⋯ |  8.72 | -0.10 |  6.39 |  6.59 | -0.17 |  3000 |  2700 |  2001.242 |  1539.0311 |  1718.55530 |\n",
       "| 128 | 홍상삼 | 두산 | 1 | 1 |  0 |  0 | 0 | 11 |  2 | 17.0 | ⋯ |  7.94 | -0.52 |  6.73 |  7.22 | -0.18 |  9000 | 12500 |  9265.021 | 11187.3262 | 11344.83558 |\n",
       "| 129 | 이태양 | 한화 | 3 | 6 |  0 |  0 | 0 | 16 | 12 | 59.0 | ⋯ |  7.17 |  0.05 |  6.77 |  7.04 | -0.18 |  7300 |  8300 |  6151.890 |  5929.5258 |  6449.57632 |\n",
       "| 130 | 김진우 | KIA  | 2 | 6 |  0 |  0 | 1 | 14 |  8 | 36.1 | ⋯ |  7.93 | -0.35 |  6.68 |  7.04 | -0.19 |  6000 | 12000 |  8894.348 |  9837.3511 | 10343.45037 |\n",
       "| 131 | 이영하 | 두산 | 3 | 3 |  0 |  0 | 0 | 20 |  3 | 35.2 | ⋯ |  5.55 |  0.59 |  6.79 |  6.86 | -0.19 |  4200 |  2700 |  2001.102 |  -291.0924 |   566.08017 |\n",
       "| 133 | 김동호 | 삼성 | 0 | 1 |  0 |  0 | 0 | 20 |  1 | 36.0 | ⋯ |  6.75 | -0.07 |  5.46 |  5.96 | -0.20 |  6000 |  5000 |  3706.004 |  3508.1291 |  3362.37197 |\n",
       "| 134 | 김윤동 | KIA  | 7 | 4 | 11 |  6 | 6 | 65 |  1 | 80.1 | ⋯ |  4.59 |  1.89 |  5.54 |  5.53 | -0.20 | 15000 |  4700 |  3483.494 |  1585.1461 |  2213.60459 |\n",
       "| 135 | 정인욱 | 삼성 | 1 | 4 |  0 |  0 | 0 |  9 |  7 | 32.0 | ⋯ |  9.84 | -0.43 |  7.39 |  7.36 | -0.20 |  5700 |  7200 |  5336.429 |  3265.9890 |  4651.09396 |\n",
       "| 136 | 송창식 | 한화 | 5 | 6 |  0 | 15 | 6 | 63 |  0 | 73.1 | ⋯ |  6.63 | -0.74 |  5.68 |  5.59 | -0.22 | 24000 | 22000 | 16306.086 | 16351.0737 | 17836.44986 |\n",
       "| 137 | 배재환 | NC   | 0 | 1 |  0 |  0 | 0 |  3 |  1 |  8.0 | ⋯ |  9.00 | -0.16 | 11.48 | 11.73 | -0.23 |  3000 |  4000 |  2964.893 |  3807.0275 |  4905.41920 |\n",
       "| 138 | 이정민 | 롯데 | 3 | 1 |  0 |  2 | 1 | 24 |  0 | 26.2 | ⋯ |  5.40 |  0.19 |  6.47 |  6.83 | -0.24 | 10000 | 15000 | 11117.848 | 11150.4349 | 11939.78335 |\n",
       "| 139 | 최동환 | LG   | 1 | 2 |  1 |  5 | 2 | 35 |  0 | 38.0 | ⋯ |  5.68 | -0.05 |  6.76 |  6.77 | -0.24 |  6500 |  6000 |  4446.970 |  1651.5907 |  2934.46753 |\n",
       "| 140 | 이종혁 | KT   | 2 | 0 |  0 |  0 | 0 | 16 |  0 | 19.0 | ⋯ |  6.63 | -0.09 |  7.10 |  7.57 | -0.25 |  3200 |  2700 |  2001.196 |   564.4227 |  1059.70614 |\n",
       "| 141 | 홍성용 | KT   | 0 | 2 |  0 |  1 | 0 | 37 |  1 | 39.0 | ⋯ |  6.23 |  0.25 |  6.40 |  6.63 | -0.28 |  6800 |  6300 |  4669.430 |  2877.7134 |  3578.68637 |\n",
       "| 142 | 정영일 | SK   | 0 | 0 |  0 |  0 | 0 |  9 |  0 |  8.0 | ⋯ | 10.12 | -0.61 | 10.73 | 11.37 | -0.30 |  3000 |  4000 |  2964.964 |  4241.1480 |  4774.13857 |\n",
       "| 143 | 김지용 | LG   | 4 | 3 |  3 |  8 | 4 | 53 |  0 | 53.0 | ⋯ |  5.09 |  0.28 |  6.30 |  6.27 | -0.38 |  9000 | 10000 |  7411.678 |  3788.8307 |  5340.39499 |\n",
       "| 144 | 최금강 | NC   | 5 | 3 |  0 |  0 | 0 | 39 | 13 | 89.2 | ⋯ |  7.33 | -0.27 |  6.31 |  6.58 | -0.41 | 12500 | 14000 | 10376.560 |  8542.1622 |  9744.24048 |\n",
       "| 145 | 김범수 | 한화 | 0 | 4 |  0 |  0 | 0 | 15 |  5 | 31.0 | ⋯ |  8.71 | -0.42 |  8.15 |  8.52 | -0.42 |  3600 |  3300 |  2445.965 |  1206.6108 |  1838.44631 |\n",
       "| 146 | 이승현 | 삼성 | 2 | 0 |  0 |  0 | 0 | 30 |  0 | 31.2 | ⋯ |  5.12 |  0.31 |  8.03 |  8.03 | -0.44 |  7000 |  6200 |  4595.280 |  2054.0673 |  3450.35583 |\n",
       "| 147 | 주권   | KT   | 5 | 6 |  1 |  3 | 2 | 39 | 12 | 81.2 | ⋯ |  6.61 | -0.02 |  6.33 |  6.54 | -0.46 |  7600 |  7500 |  5558.774 |  2162.2155 |  3280.22845 |\n",
       "| 148 | 장민재 | 한화 | 2 | 5 |  0 |  0 | 2 | 33 |  5 | 62.2 | ⋯ |  7.76 | -1.21 |  6.21 |  6.48 | -0.47 |  7100 |  8100 |  6003.520 |  2972.9523 |  3919.93355 |\n",
       "| 149 | 정용운 | KIA  | 3 | 2 |  0 |  0 | 0 | 25 | 11 | 59.1 | ⋯ |  5.92 |  0.39 |  6.41 |  6.77 | -0.49 |  7500 |  3100 |  2297.618 |  -673.0981 |   -53.20351 |\n",
       "| 150 | 노경은 | 롯데 | 0 | 2 |  0 |  0 | 0 |  9 |  2 | 14.2 | ⋯ | 11.66 | -0.83 |  8.03 |  8.29 | -0.61 | 10000 | 16000 | 11858.971 |  9953.0416 | 11626.38686 |\n",
       "| 151 | 김승현 | 삼성 | 0 | 3 |  0 |  1 | 0 | 41 |  0 | 43.2 | ⋯ |  5.77 | -0.40 |  6.87 |  6.95 | -0.70 |  4000 |  2900 |  2149.246 | -3065.3516 | -1610.41555 |\n",
       "| 152 | 류희운 | KT   | 4 | 4 |  0 |  0 | 0 | 24 | 14 | 81.0 | ⋯ |  7.67 | -0.68 |  7.60 |  7.81 | -1.01 |  4000 |  3000 |  2223.298 | -5132.3247 | -3236.44776 |\n",
       "\n"
      ],
      "text/plain": [
       "    선수명   팀명 승 패 세 홀드 블론 경기 선발 이닝  ⋯ ERA   RA9.WAR FIP  \n",
       "1   켈리     SK   16  7  0  0   0    30   30   190.0 ⋯ 3.60  6.91    3.69 \n",
       "2   소사     LG   11 11  1  0   0    30   29   185.1 ⋯ 3.88  6.80    3.52 \n",
       "3   양현종   KIA  20  6  0  0   0    31   31   193.1 ⋯ 3.44  6.54    3.94 \n",
       "5   레일리   롯데 13  7  0  0   0    30   30   187.1 ⋯ 3.80  6.13    4.36 \n",
       "6   피어밴드 KT    8 10  0  0   0    26   26   160.0 ⋯ 3.04  6.52    4.42 \n",
       "7   고영표   KT    8 12  0  1   0    25   24   141.2 ⋯ 5.08  2.97    3.88 \n",
       "9   함덕주   두산  9  8  0  2   0    35   24   137.1 ⋯ 3.67  4.99    3.91 \n",
       "13  임기영   KIA   8  6  0  0   0    23   19   118.1 ⋯ 3.65  4.25    4.07 \n",
       "14  박세웅   롯데 12  6  0  0   0    28   28   171.1 ⋯ 3.68  5.92    5.07 \n",
       "15  백정현   삼성  8  4  0  3   0    35   14   100.2 ⋯ 4.38  3.01    4.51 \n",
       "17  류제국   LG    8  6  0  0   0    25   25   131.1 ⋯ 5.35  1.53    4.79 \n",
       "19  임찬규   LG    6 10  0  0   0    27   26   124.1 ⋯ 4.63  3.15    4.81 \n",
       "22  윤희상   SK    6  7  0  0   0    23   22   120.0 ⋯ 6.00  1.52    5.13 \n",
       "23  원종현   NC    3  6  0 22   0    68    0    80.0 ⋯ 4.39  2.02    3.60 \n",
       "24  배영수   한화  7  8  0  0   0    25   25   128.0 ⋯ 5.06  2.47    5.10 \n",
       "25  박종훈   SK   12  7  0  1   0    29   28   151.1 ⋯ 4.10  4.31    5.38 \n",
       "26  이상화   KT    4  3  6  4   1    70    0    66.0 ⋯ 3.95  2.43    3.57 \n",
       "27  김진성   NC   10  6  0 15   2    69    0    89.2 ⋯ 3.61  3.20    4.30 \n",
       "28  이민호   NC    5  1  3  6   1    60    3    88.2 ⋯ 4.06  1.97    4.41 \n",
       "29  이재학   NC    5  7  0  0   0    28   23   119.0 ⋯ 5.67  1.04    5.53 \n",
       "30  김강률   두산  7  2  7 12   1    70    0    89.0 ⋯ 3.44  2.68    4.15 \n",
       "31  김재윤   KT    3  5 15  0   4    41    0    37.1 ⋯ 5.79  0.73    3.15 \n",
       "32  김원중   롯데  7  8  0  0   0    24   24   107.1 ⋯ 5.70  2.22    5.53 \n",
       "33  박진형   롯데  4  4  2 10   3    45    9    88.0 ⋯ 5.11  1.70    4.43 \n",
       "34  윤규진   한화  8  7  0  2   0    36   18   119.0 ⋯ 5.22  2.23    5.46 \n",
       "35  김재영   한화  5  7  0  0   1    20   15    85.1 ⋯ 4.54  1.60    5.00 \n",
       "36  신정락   LG    3  5 10 12   3    63    0    59.0 ⋯ 5.34  0.51    4.23 \n",
       "38  심창민   삼성  4  7  6 16   2    66    0    75.1 ⋯ 4.18  1.82    4.82 \n",
       "39  정찬헌   LG    8  7  7  3   3    61    0    61.2 ⋯ 5.84  0.97    3.96 \n",
       "40  임창민   NC    4  3 29  0   6    60    0    66.0 ⋯ 3.68  2.68    4.83 \n",
       "⋮   ⋮        ⋮    ⋮  ⋮  ⋮  ⋮    ⋮    ⋮    ⋮    ⋮     ⋱ ⋮     ⋮       ⋮    \n",
       "118 배민관   LG   0  0   0  0   0     4    0    3.2  ⋯  9.82 -0.11    9.46\n",
       "119 윤근영   KT   0  0   0  1   0    12    0   18.0  ⋯  3.50  0.30    6.23\n",
       "120 강장산   KT   0  0   0  0   0    17    0   26.1  ⋯  5.47  0.54    6.16\n",
       "124 김민우   한화 0  0   0  0   0     4    2    7.1  ⋯ 17.18 -0.52    7.83\n",
       "125 이현호   두산 1  0   0  0   0    24    2   30.0  ⋯  5.70 -0.51    6.47\n",
       "127 배제성   KT   0  0   0  0   0    21    1   32.0  ⋯  8.72 -0.10    6.39\n",
       "128 홍상삼   두산 1  1   0  0   0    11    2   17.0  ⋯  7.94 -0.52    6.73\n",
       "129 이태양   한화 3  6   0  0   0    16   12   59.0  ⋯  7.17  0.05    6.77\n",
       "130 김진우   KIA  2  6   0  0   1    14    8   36.1  ⋯  7.93 -0.35    6.68\n",
       "131 이영하   두산 3  3   0  0   0    20    3   35.2  ⋯  5.55  0.59    6.79\n",
       "133 김동호   삼성 0  1   0  0   0    20    1   36.0  ⋯  6.75 -0.07    5.46\n",
       "134 김윤동   KIA  7  4  11  6   6    65    1   80.1  ⋯  4.59  1.89    5.54\n",
       "135 정인욱   삼성 1  4   0  0   0     9    7   32.0  ⋯  9.84 -0.43    7.39\n",
       "136 송창식   한화 5  6   0 15   6    63    0   73.1  ⋯  6.63 -0.74    5.68\n",
       "137 배재환   NC   0  1   0  0   0     3    1    8.0  ⋯  9.00 -0.16   11.48\n",
       "138 이정민   롯데 3  1   0  2   1    24    0   26.2  ⋯  5.40  0.19    6.47\n",
       "139 최동환   LG   1  2   1  5   2    35    0   38.0  ⋯  5.68 -0.05    6.76\n",
       "140 이종혁   KT   2  0   0  0   0    16    0   19.0  ⋯  6.63 -0.09    7.10\n",
       "141 홍성용   KT   0  2   0  1   0    37    1   39.0  ⋯  6.23  0.25    6.40\n",
       "142 정영일   SK   0  0   0  0   0     9    0    8.0  ⋯ 10.12 -0.61   10.73\n",
       "143 김지용   LG   4  3   3  8   4    53    0   53.0  ⋯  5.09  0.28    6.30\n",
       "144 최금강   NC   5  3   0  0   0    39   13   89.2  ⋯  7.33 -0.27    6.31\n",
       "145 김범수   한화 0  4   0  0   0    15    5   31.0  ⋯  8.71 -0.42    8.15\n",
       "146 이승현   삼성 2  0   0  0   0    30    0   31.2  ⋯  5.12  0.31    8.03\n",
       "147 주권     KT   5  6   1  3   2    39   12   81.2  ⋯  6.61 -0.02    6.33\n",
       "148 장민재   한화 2  5   0  0   2    33    5   62.2  ⋯  7.76 -1.21    6.21\n",
       "149 정용운   KIA  3  2   0  0   0    25   11   59.1  ⋯  5.92  0.39    6.41\n",
       "150 노경은   롯데 0  2   0  0   0     9    2   14.2  ⋯ 11.66 -0.83    8.03\n",
       "151 김승현   삼성 0  3   0  1   0    41    0   43.2  ⋯  5.77 -0.40    6.87\n",
       "152 류희운   KT   4  4   0  0   0    24   14   81.0  ⋯  7.67 -0.68    7.60\n",
       "    kFIP  WAR   연봉.2018. 연봉.2017. new_col    new_col.1  new_data   \n",
       "1   3.44  6.62  140000      85000      63003.595 127837.996 120079.644 \n",
       "2   3.41  6.08  120000      50000      37061.640  91955.341  83760.504 \n",
       "3   3.82  5.64  230000     150000     111180.994 180164.163 175521.573 \n",
       "5   4.31  4.38  111000      85000      63002.886 110388.580 106098.401 \n",
       "6   4.32  3.94   85000      35000      25942.975  60851.766  55938.336 \n",
       "7   3.78  3.87   11500       5200       3855.283  32248.671  26731.808 \n",
       "9   3.67  3.78   16000       7000       5189.489  34420.638  28840.862 \n",
       "13  4.19  2.79   13000       3100       2298.522  22932.876  18557.121 \n",
       "14  5.14  2.54   25000      10000       7412.730  27963.633  24286.458 \n",
       "15  4.34  2.25   15500      10000       7412.536  24575.219  21705.856 \n",
       "17  4.84  2.15   29000      35000      25942.448  47534.929  45256.386 \n",
       "19  4.79  2.04   11500       6500       4818.295  19832.884  17218.543 \n",
       "22  5.22  1.80   13000      15000      11118.427  26255.265  24012.479 \n",
       "23  3.52  1.71   18500      14000      10377.101  23403.105  21354.395 \n",
       "24  5.21  1.68   50000      55000      40766.167  61693.571  60809.360 \n",
       "25  5.55  1.62   20000      10000       7412.434  20805.675  18627.133 \n",
       "26  3.45  1.54   10000       4500       3335.691  13333.548  11284.396 \n",
       "27  3.92  1.47   23000      18000      13341.734  24511.486  23499.001 \n",
       "28  4.22  1.38   18800      16000      11859.379  22705.669  21500.092 \n",
       "29  5.35  1.31   19000      20000      14824.140  25923.735  25216.046 \n",
       "30  4.09  1.27   15000       6200       4595.698  13575.161  11877.920 \n",
       "31  3.05  1.24   11000       9000       6670.994  15370.094  13693.121 \n",
       "32  5.56  1.23    6300       3000       2223.940  11393.858   9721.380 \n",
       "33  4.14  1.12   10500       6000       4447.373  11961.674  10832.990 \n",
       "34  5.42  1.09   21000      18000      13341.766  23320.087  22447.697 \n",
       "35  5.23  1.06    5300       3000       2223.843   9322.823   7824.809 \n",
       "36  4.12  0.97   10500       7500       5559.100  11850.125  10957.933 \n",
       "38  4.26  0.93   23000      21000      15565.136  23185.400  23384.860 \n",
       "39  3.80  0.93    9500       4500       3335.522   8995.166   7904.678 \n",
       "40  4.60  0.89   25000      22500      16676.995  24913.355  24703.222 \n",
       "⋮   ⋮     ⋮     ⋮          ⋮          ⋮          ⋮          ⋮          \n",
       "118  9.77 -0.08  3200       3000       2223.850   5401.6928  5349.37842\n",
       "119  6.31 -0.08  4200       4000       2964.668   1350.9942  1957.02839\n",
       "120  6.46 -0.10  3300       3000       2223.583   1795.4384  1942.46057\n",
       "124  8.32 -0.12  3600       3800       2816.614   3554.7700  3912.29634\n",
       "125  6.57 -0.16  5200       6000       4447.098   3446.5228  4053.21274\n",
       "127  6.59 -0.17  3000       2700       2001.242   1539.0311  1718.55530\n",
       "128  7.22 -0.18  9000      12500       9265.021  11187.3262 11344.83558\n",
       "129  7.04 -0.18  7300       8300       6151.890   5929.5258  6449.57632\n",
       "130  7.04 -0.19  6000      12000       8894.348   9837.3511 10343.45037\n",
       "131  6.86 -0.19  4200       2700       2001.102   -291.0924   566.08017\n",
       "133  5.96 -0.20  6000       5000       3706.004   3508.1291  3362.37197\n",
       "134  5.53 -0.20 15000       4700       3483.494   1585.1461  2213.60459\n",
       "135  7.36 -0.20  5700       7200       5336.429   3265.9890  4651.09396\n",
       "136  5.59 -0.22 24000      22000      16306.086  16351.0737 17836.44986\n",
       "137 11.73 -0.23  3000       4000       2964.893   3807.0275  4905.41920\n",
       "138  6.83 -0.24 10000      15000      11117.848  11150.4349 11939.78335\n",
       "139  6.77 -0.24  6500       6000       4446.970   1651.5907  2934.46753\n",
       "140  7.57 -0.25  3200       2700       2001.196    564.4227  1059.70614\n",
       "141  6.63 -0.28  6800       6300       4669.430   2877.7134  3578.68637\n",
       "142 11.37 -0.30  3000       4000       2964.964   4241.1480  4774.13857\n",
       "143  6.27 -0.38  9000      10000       7411.678   3788.8307  5340.39499\n",
       "144  6.58 -0.41 12500      14000      10376.560   8542.1622  9744.24048\n",
       "145  8.52 -0.42  3600       3300       2445.965   1206.6108  1838.44631\n",
       "146  8.03 -0.44  7000       6200       4595.280   2054.0673  3450.35583\n",
       "147  6.54 -0.46  7600       7500       5558.774   2162.2155  3280.22845\n",
       "148  6.48 -0.47  7100       8100       6003.520   2972.9523  3919.93355\n",
       "149  6.77 -0.49  7500       3100       2297.618   -673.0981   -53.20351\n",
       "150  8.29 -0.61 10000      16000      11858.971   9953.0416 11626.38686\n",
       "151  6.95 -0.70  4000       2900       2149.246  -3065.3516 -1610.41555\n",
       "152  7.81 -1.01  4000       3000       2223.298  -5132.3247 -3236.44776"
      ]
     },
     "metadata": {},
     "output_type": "display_data"
    }
   ],
   "source": [
    "filtered_df <- picher[picher$\"연봉.2018.\" != picher$\"연봉.2017.\", ]\n",
    "filtered_df"
   ]
  },
  {
   "cell_type": "code",
   "execution_count": null,
   "id": "a9409d28-531b-4705-aef3-666bfc2c0a17",
   "metadata": {},
   "outputs": [],
   "source": []
  },
  {
   "cell_type": "code",
   "execution_count": null,
   "id": "8880f8ce-1469-4398-8f2a-8a8b8acdc442",
   "metadata": {},
   "outputs": [],
   "source": []
  },
  {
   "cell_type": "markdown",
   "id": "8dda8f12-87d9-4ff5-ba87-6b766ecbdb74",
   "metadata": {},
   "source": [
    "# 번외 (WAR을 y로)"
   ]
  },
  {
   "cell_type": "code",
   "execution_count": 101,
   "id": "b29cd3e7-7341-44a0-9535-dd72253ce369",
   "metadata": {},
   "outputs": [
    {
     "data": {
      "text/plain": [
       "\n",
       "Call:\n",
       "lm(formula = WAR ~ ., data = dt)\n",
       "\n",
       "Residuals:\n",
       "     Min       1Q   Median       3Q      Max \n",
       "-1.25837 -0.18387 -0.00443  0.17470  1.58012 \n",
       "\n",
       "Coefficients:\n",
       "              Estimate Std. Error t value Pr(>|t|)    \n",
       "(Intercept)  8.632e-01  8.184e-01   1.055   0.2935    \n",
       "승           7.000e-04  2.446e-02   0.029   0.9772    \n",
       "패           3.924e-02  2.449e-02   1.602   0.1115    \n",
       "세           1.444e-03  1.218e-02   0.119   0.9058    \n",
       "홀드         1.016e-02  1.417e-02   0.717   0.4747    \n",
       "블론        -5.186e-02  3.392e-02  -1.529   0.1287    \n",
       "경기        -1.216e-02  6.489e-03  -1.874   0.0631 .  \n",
       "선발        -2.104e-02  2.081e-02  -1.011   0.3139    \n",
       "이닝         7.125e-03  5.161e-03   1.381   0.1698    \n",
       "삼진.9       2.483e-02  1.055e-01   0.235   0.8142    \n",
       "볼넷.9       1.254e-02  1.014e-01   0.124   0.9017    \n",
       "홈런.9      -3.549e-03  6.346e-01  -0.006   0.9955    \n",
       "BABIP        9.050e-01  6.636e-01   1.364   0.1749    \n",
       "LOB.        -1.276e-02  5.728e-03  -2.227   0.0277 *  \n",
       "ERA         -3.164e-02  2.542e-02  -1.245   0.2154    \n",
       "RA9.WAR      4.259e-01  5.563e-02   7.655 3.63e-12 ***\n",
       "FIP         -2.926e-02  2.011e+00  -0.015   0.9884    \n",
       "kFIP        -2.821e-02  1.613e+00  -0.017   0.9861    \n",
       "연봉.2017.  -9.617e-06  3.872e-06  -2.484   0.0143 *  \n",
       "연봉.2018.   1.726e-05  3.608e-06   4.783 4.55e-06 ***\n",
       "---\n",
       "Signif. codes:  0 ‘***’ 0.001 ‘**’ 0.01 ‘*’ 0.05 ‘.’ 0.1 ‘ ’ 1\n",
       "\n",
       "Residual standard error: 0.413 on 132 degrees of freedom\n",
       "Multiple R-squared:  0.9147,\tAdjusted R-squared:  0.9024 \n",
       "F-statistic:  74.5 on 19 and 132 DF,  p-value: < 2.2e-16\n"
      ]
     },
     "metadata": {},
     "output_type": "display_data"
    }
   ],
   "source": [
    "model_ <- lm(WAR ~ ., dt)\n",
    "summary(model_)"
   ]
  },
  {
   "cell_type": "code",
   "execution_count": 102,
   "id": "eff3eb48-a77c-4c55-982a-530eda02e2e3",
   "metadata": {},
   "outputs": [
    {
     "data": {
      "text/html": [
       "<style>\n",
       ".dl-inline {width: auto; margin:0; padding: 0}\n",
       ".dl-inline>dt, .dl-inline>dd {float: none; width: auto; display: inline-block}\n",
       ".dl-inline>dt::after {content: \":\\0020\"; padding-right: .5ex}\n",
       ".dl-inline>dt:not(:first-of-type) {padding-left: .5ex}\n",
       "</style><dl class=dl-inline><dt>승</dt><dd>7.90295946434333</dd><dt>패</dt><dd>5.20359428013343</dd><dt>세</dt><dd>3.03700161686219</dd><dt>홀드</dt><dd>3.62204119070082</dd><dt>블론</dt><dd>2.71884077341594</dd><dt>경기</dt><dd>13.9861481235637</dd><dt>선발</dt><dd>36.4583393437973</dd><dt>이닝</dt><dd>59.6518045536396</dd><dt>삼진.9</dt><dd>78.7060221382563</dd><dt>볼넷.9</dt><dd>50.827473231828</dd><dt>홈런.9</dt><dd>368.731473824191</dd><dt>BABIP</dt><dd>3.08657710689232</dd><dt>LOB.</dt><dd>3.90285091455687</dd><dt>ERA</dt><dd>9.92892504245132</dd><dt>RA9.WAR</dt><dd>9.31215347437081</dd><dt>FIP</dt><dd>12527.1829609619</dd><dt>kFIP</dt><dd>9046.79675535442</dd><dt>연봉.2017.</dt><dd>8.32457422927786</dd><dt>연봉.2018.</dt><dd>11.033305518369</dd></dl>\n"
      ],
      "text/latex": [
       "\\begin{description*}\n",
       "\\item[승] 7.90295946434333\n",
       "\\item[패] 5.20359428013343\n",
       "\\item[세] 3.03700161686219\n",
       "\\item[홀드] 3.62204119070082\n",
       "\\item[블론] 2.71884077341594\n",
       "\\item[경기] 13.9861481235637\n",
       "\\item[선발] 36.4583393437973\n",
       "\\item[이닝] 59.6518045536396\n",
       "\\item[삼진.9] 78.7060221382563\n",
       "\\item[볼넷.9] 50.827473231828\n",
       "\\item[홈런.9] 368.731473824191\n",
       "\\item[BABIP] 3.08657710689232\n",
       "\\item[LOB.] 3.90285091455687\n",
       "\\item[ERA] 9.92892504245132\n",
       "\\item[RA9.WAR] 9.31215347437081\n",
       "\\item[FIP] 12527.1829609619\n",
       "\\item[kFIP] 9046.79675535442\n",
       "\\item[연봉.2017.] 8.32457422927786\n",
       "\\item[연봉.2018.] 11.033305518369\n",
       "\\end{description*}\n"
      ],
      "text/markdown": [
       "승\n",
       ":   7.90295946434333패\n",
       ":   5.20359428013343세\n",
       ":   3.03700161686219홀드\n",
       ":   3.62204119070082블론\n",
       ":   2.71884077341594경기\n",
       ":   13.9861481235637선발\n",
       ":   36.4583393437973이닝\n",
       ":   59.6518045536396삼진.9\n",
       ":   78.7060221382563볼넷.9\n",
       ":   50.827473231828홈런.9\n",
       ":   368.731473824191BABIP\n",
       ":   3.08657710689232LOB.\n",
       ":   3.90285091455687ERA\n",
       ":   9.92892504245132RA9.WAR\n",
       ":   9.31215347437081FIP\n",
       ":   12527.1829609619kFIP\n",
       ":   9046.79675535442연봉.2017.\n",
       ":   8.32457422927786연봉.2018.\n",
       ":   11.033305518369\n",
       "\n"
      ],
      "text/plain": [
       "          승           패           세         홀드         블론         경기 \n",
       "    7.902959     5.203594     3.037002     3.622041     2.718841    13.986148 \n",
       "        선발         이닝       삼진.9       볼넷.9       홈런.9        BABIP \n",
       "   36.458339    59.651805    78.706022    50.827473   368.731474     3.086577 \n",
       "        LOB.          ERA      RA9.WAR          FIP         kFIP   연봉.2017. \n",
       "    3.902851     9.928925     9.312153 12527.182961  9046.796755     8.324574 \n",
       "  연봉.2018. \n",
       "   11.033306 "
      ]
     },
     "metadata": {},
     "output_type": "display_data"
    }
   ],
   "source": [
    "vif(model_)"
   ]
  },
  {
   "cell_type": "markdown",
   "id": "b94886e3-1631-40d0-8eec-d049b145ded0",
   "metadata": {},
   "source": [
    "- WAR로 돌린 모델의 $R^2$값이 연봉으로 돌린 것보다 높게 나왔다."
   ]
  },
  {
   "cell_type": "code",
   "execution_count": null,
   "id": "bd08fee9-7034-4ff5-9bef-82ee7cc451b3",
   "metadata": {},
   "outputs": [],
   "source": []
  },
  {
   "cell_type": "code",
   "execution_count": null,
   "id": "2a7e53c6-62e5-4561-8e3d-a7672bf8a0aa",
   "metadata": {},
   "outputs": [],
   "source": []
  },
  {
   "cell_type": "code",
   "execution_count": null,
   "id": "fafaad0c-9558-4a4d-93c5-e3c71f2c65b9",
   "metadata": {},
   "outputs": [],
   "source": []
  },
  {
   "cell_type": "code",
   "execution_count": null,
   "id": "dc3c60cd-7746-443a-97bd-0ed653a0e137",
   "metadata": {},
   "outputs": [],
   "source": []
  },
  {
   "cell_type": "code",
   "execution_count": null,
   "id": "f660a4db-adf2-404e-b77f-8603bd27ee78",
   "metadata": {},
   "outputs": [],
   "source": []
  },
  {
   "cell_type": "code",
   "execution_count": null,
   "id": "c471cad5-4079-49ed-8259-83e69807c101",
   "metadata": {},
   "outputs": [],
   "source": []
  },
  {
   "cell_type": "code",
   "execution_count": null,
   "id": "62d14865-9fc9-450f-8d2a-aaddf4da40fe",
   "metadata": {},
   "outputs": [],
   "source": []
  }
 ],
 "metadata": {
  "kernelspec": {
   "display_name": "R",
   "language": "R",
   "name": "ir"
  },
  "language_info": {
   "codemirror_mode": "r",
   "file_extension": ".r",
   "mimetype": "text/x-r-source",
   "name": "R",
   "pygments_lexer": "r",
   "version": "4.2.2"
  }
 },
 "nbformat": 4,
 "nbformat_minor": 5
}
