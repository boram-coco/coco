{
 "cells": [
  {
   "cell_type": "raw",
   "id": "ea0f175a-0959-4897-80e7-680fd38273af",
   "metadata": {},
   "source": [
    "---\n",
    "title: \"07. 변수선택 실습\"\n",
    "author: \"김보람\"\n",
    "date: \"05/09/2023\"\n",
    "categories:\n",
    "  - Applied statistics\n",
    "---"
   ]
  },
  {
   "cell_type": "markdown",
   "id": "9d979f76-6416-423c-922e-03ab079d56ee",
   "metadata": {},
   "source": [
    "> 해당 자료는 전북대학교 이영미 교수님 2023응용통계학 자료임"
   ]
  },
  {
   "cell_type": "markdown",
   "id": "33bf3219-2cff-4910-a185-967f5ca687d0",
   "metadata": {},
   "source": [
    "# 변수선택"
   ]
  },
  {
   "cell_type": "code",
   "execution_count": 2,
   "id": "6b717319-54b0-47ab-b509-c9aecd17f0f5",
   "metadata": {},
   "outputs": [],
   "source": [
    "dt <- data.frame(\n",
    "\n",
    " x1 = c(7,1,11,11,7,11,3,1,2,21,1,11,10),\n",
    " x2 = c(26,29,56,31,52,55,71,31,54,47,40,66,68),\n",
    " x3 = c(6,15,8,8,6,9,17,22,18,4,23,9,8),\n",
    " x4 = c(60,52,20,47,33,22,6,44,22,26,34,12,12),\n",
    " y = c(78.5,74.3,104.3,87.6,95.9,109.2,102.7,72.5,93.1,115.9,83.8,113.3,109.4)\n",
    ")\n"
   ]
  },
  {
   "cell_type": "code",
   "execution_count": 3,
   "id": "a8fa05cc-2f72-42b5-8dfa-ece155193060",
   "metadata": {},
   "outputs": [
    {
     "data": {
      "text/html": [
       "<table class=\"dataframe\">\n",
       "<caption>A matrix: 5 × 5 of type dbl</caption>\n",
       "<thead>\n",
       "\t<tr><th></th><th scope=col>x1</th><th scope=col>x2</th><th scope=col>x3</th><th scope=col>x4</th><th scope=col>y</th></tr>\n",
       "</thead>\n",
       "<tbody>\n",
       "\t<tr><th scope=row>x1</th><td> 1.0000000</td><td> 0.2285795</td><td>-0.8241338</td><td>-0.2454451</td><td> 0.7307175</td></tr>\n",
       "\t<tr><th scope=row>x2</th><td> 0.2285795</td><td> 1.0000000</td><td>-0.1392424</td><td>-0.9729550</td><td> 0.8162526</td></tr>\n",
       "\t<tr><th scope=row>x3</th><td>-0.8241338</td><td>-0.1392424</td><td> 1.0000000</td><td> 0.0295370</td><td>-0.5346707</td></tr>\n",
       "\t<tr><th scope=row>x4</th><td>-0.2454451</td><td>-0.9729550</td><td> 0.0295370</td><td> 1.0000000</td><td>-0.8213050</td></tr>\n",
       "\t<tr><th scope=row>y</th><td> 0.7307175</td><td> 0.8162526</td><td>-0.5346707</td><td>-0.8213050</td><td> 1.0000000</td></tr>\n",
       "</tbody>\n",
       "</table>\n"
      ],
      "text/latex": [
       "A matrix: 5 × 5 of type dbl\n",
       "\\begin{tabular}{r|lllll}\n",
       "  & x1 & x2 & x3 & x4 & y\\\\\n",
       "\\hline\n",
       "\tx1 &  1.0000000 &  0.2285795 & -0.8241338 & -0.2454451 &  0.7307175\\\\\n",
       "\tx2 &  0.2285795 &  1.0000000 & -0.1392424 & -0.9729550 &  0.8162526\\\\\n",
       "\tx3 & -0.8241338 & -0.1392424 &  1.0000000 &  0.0295370 & -0.5346707\\\\\n",
       "\tx4 & -0.2454451 & -0.9729550 &  0.0295370 &  1.0000000 & -0.8213050\\\\\n",
       "\ty &  0.7307175 &  0.8162526 & -0.5346707 & -0.8213050 &  1.0000000\\\\\n",
       "\\end{tabular}\n"
      ],
      "text/markdown": [
       "\n",
       "A matrix: 5 × 5 of type dbl\n",
       "\n",
       "| <!--/--> | x1 | x2 | x3 | x4 | y |\n",
       "|---|---|---|---|---|---|\n",
       "| x1 |  1.0000000 |  0.2285795 | -0.8241338 | -0.2454451 |  0.7307175 |\n",
       "| x2 |  0.2285795 |  1.0000000 | -0.1392424 | -0.9729550 |  0.8162526 |\n",
       "| x3 | -0.8241338 | -0.1392424 |  1.0000000 |  0.0295370 | -0.5346707 |\n",
       "| x4 | -0.2454451 | -0.9729550 |  0.0295370 |  1.0000000 | -0.8213050 |\n",
       "| y |  0.7307175 |  0.8162526 | -0.5346707 | -0.8213050 |  1.0000000 |\n",
       "\n"
      ],
      "text/plain": [
       "   x1         x2         x3         x4         y         \n",
       "x1  1.0000000  0.2285795 -0.8241338 -0.2454451  0.7307175\n",
       "x2  0.2285795  1.0000000 -0.1392424 -0.9729550  0.8162526\n",
       "x3 -0.8241338 -0.1392424  1.0000000  0.0295370 -0.5346707\n",
       "x4 -0.2454451 -0.9729550  0.0295370  1.0000000 -0.8213050\n",
       "y   0.7307175  0.8162526 -0.5346707 -0.8213050  1.0000000"
      ]
     },
     "metadata": {},
     "output_type": "display_data"
    },
    {
     "data": {
      "image/png": "[encoded data removed]",
      "text/plain": [
       "plot without title"
      ]
     },
     "metadata": {
      "image/png": {
       "height": 420,
       "width": 420
      }
     },
     "output_type": "display_data"
    }
   ],
   "source": [
    "pairs(dt, pch=16)\n",
    "cor(dt)"
   ]
  },
  {
   "cell_type": "markdown",
   "id": "53be2edc-42a2-45c2-82f2-df9845095a5b",
   "metadata": {},
   "source": [
    "- Full Model : $𝑦 = 𝛽_0 + 𝛽_1𝑥_1 + 𝛽_2𝑥_2 + 𝛽_3𝑥_3 + 𝛽_4𝑥_4 + \\epsilon$"
   ]
  },
  {
   "cell_type": "code",
   "execution_count": 4,
   "id": "563a2da7-4faa-49b9-b884-e203ae1fa260",
   "metadata": {},
   "outputs": [
    {
     "data": {
      "text/plain": [
       "\n",
       "Call:\n",
       "lm(formula = y ~ ., data = dt)\n",
       "\n",
       "Residuals:\n",
       "    Min      1Q  Median      3Q     Max \n",
       "-3.1750 -1.6709  0.2508  1.3783  3.9254 \n",
       "\n",
       "Coefficients:\n",
       "            Estimate Std. Error t value Pr(>|t|)  \n",
       "(Intercept)  62.4054    70.0710   0.891   0.3991  \n",
       "x1            1.5511     0.7448   2.083   0.0708 .\n",
       "x2            0.5102     0.7238   0.705   0.5009  \n",
       "x3            0.1019     0.7547   0.135   0.8959  \n",
       "x4           -0.1441     0.7091  -0.203   0.8441  \n",
       "---\n",
       "Signif. codes:  0 ‘***’ 0.001 ‘**’ 0.01 ‘*’ 0.05 ‘.’ 0.1 ‘ ’ 1\n",
       "\n",
       "Residual standard error: 2.446 on 8 degrees of freedom\n",
       "Multiple R-squared:  0.9824,\tAdjusted R-squared:  0.9736 \n",
       "F-statistic: 111.5 on 4 and 8 DF,  p-value: 4.756e-07\n"
      ]
     },
     "metadata": {},
     "output_type": "display_data"
    }
   ],
   "source": [
    "m <- lm(y~., dt) ##FM\n",
    "summary(m)"
   ]
  },
  {
   "cell_type": "markdown",
   "id": "ae829d86-c844-467a-afa0-c67ca275a4df",
   "metadata": {},
   "source": [
    "> 모형은 유의하게 나오고 R^2도 값이 크게나오는데, 회귀계수는 하나도 유의한게 없다? 다중공산성 때문에 "
   ]
  },
  {
   "cell_type": "markdown",
   "id": "7909473d-2605-481a-abfc-5a69ef8abb67",
   "metadata": {},
   "source": [
    "## 후진제거법\n"
   ]
  },
  {
   "cell_type": "code",
   "execution_count": 5,
   "id": "a63a1984-823c-4a8b-85af-85d68aa9dd03",
   "metadata": {},
   "outputs": [
    {
     "data": {
      "text/plain": [
       "\n",
       "Call:\n",
       "lm(formula = y ~ ., data = dt)\n",
       "\n",
       "Residuals:\n",
       "    Min      1Q  Median      3Q     Max \n",
       "-3.1750 -1.6709  0.2508  1.3783  3.9254 \n",
       "\n",
       "Coefficients:\n",
       "            Estimate Std. Error t value Pr(>|t|)  \n",
       "(Intercept)  62.4054    70.0710   0.891   0.3991  \n",
       "x1            1.5511     0.7448   2.083   0.0708 .\n",
       "x2            0.5102     0.7238   0.705   0.5009  \n",
       "x3            0.1019     0.7547   0.135   0.8959  \n",
       "x4           -0.1441     0.7091  -0.203   0.8441  \n",
       "---\n",
       "Signif. codes:  0 ‘***’ 0.001 ‘**’ 0.01 ‘*’ 0.05 ‘.’ 0.1 ‘ ’ 1\n",
       "\n",
       "Residual standard error: 2.446 on 8 degrees of freedom\n",
       "Multiple R-squared:  0.9824,\tAdjusted R-squared:  0.9736 \n",
       "F-statistic: 111.5 on 4 and 8 DF,  p-value: 4.756e-07\n"
      ]
     },
     "metadata": {},
     "output_type": "display_data"
    }
   ],
   "source": [
    "summary(m)"
   ]
  },
  {
   "cell_type": "markdown",
   "id": "3a933133-9273-458c-a940-0b1eac1de976",
   "metadata": {},
   "source": [
    "> 부분 F통계량, F통계량 = t^2 (t검정)\n",
    ">\n",
    "> $H_0:\\beta_1= 0$\n",
    ">\n",
    "> 위의 `t value` 제곱하면 부분 F통계량이 됨\n",
    ">\n",
    "> t-value의 절대값이 가장 작은 값을 찾아주면 됨 -> x3"
   ]
  },
  {
   "cell_type": "code",
   "execution_count": 6,
   "id": "0a242fc6-c0a7-4c26-bbef-b6c0af5d1b7a",
   "metadata": {},
   "outputs": [
    {
     "data": {
      "text/html": [
       "<table class=\"dataframe\">\n",
       "<caption>A anova: 5 × 6</caption>\n",
       "<thead>\n",
       "\t<tr><th></th><th scope=col>Df</th><th scope=col>Sum of Sq</th><th scope=col>RSS</th><th scope=col>AIC</th><th scope=col>F value</th><th scope=col>Pr(&gt;F)</th></tr>\n",
       "\t<tr><th></th><th scope=col>&lt;dbl&gt;</th><th scope=col>&lt;dbl&gt;</th><th scope=col>&lt;dbl&gt;</th><th scope=col>&lt;dbl&gt;</th><th scope=col>&lt;dbl&gt;</th><th scope=col>&lt;dbl&gt;</th></tr>\n",
       "</thead>\n",
       "<tbody>\n",
       "\t<tr><th scope=row>&lt;none&gt;</th><td>NA</td><td>        NA</td><td>47.86364</td><td>26.94429</td><td>        NA</td><td>        NA</td></tr>\n",
       "\t<tr><th scope=row>x1</th><td> 1</td><td>25.9509114</td><td>73.81455</td><td>30.57588</td><td>4.33747400</td><td>0.07082169</td></tr>\n",
       "\t<tr><th scope=row>x2</th><td> 1</td><td> 2.9724782</td><td>50.83612</td><td>25.72755</td><td>0.49682444</td><td>0.50090110</td></tr>\n",
       "\t<tr><th scope=row>x3</th><td> 1</td><td> 0.1090900</td><td>47.97273</td><td>24.97388</td><td>0.01823347</td><td>0.89592269</td></tr>\n",
       "\t<tr><th scope=row>x4</th><td> 1</td><td> 0.2469747</td><td>48.11061</td><td>25.01120</td><td>0.04127972</td><td>0.84407147</td></tr>\n",
       "</tbody>\n",
       "</table>\n"
      ],
      "text/latex": [
       "A anova: 5 × 6\n",
       "\\begin{tabular}{r|llllll}\n",
       "  & Df & Sum of Sq & RSS & AIC & F value & Pr(>F)\\\\\n",
       "  & <dbl> & <dbl> & <dbl> & <dbl> & <dbl> & <dbl>\\\\\n",
       "\\hline\n",
       "\t<none> & NA &         NA & 47.86364 & 26.94429 &         NA &         NA\\\\\n",
       "\tx1 &  1 & 25.9509114 & 73.81455 & 30.57588 & 4.33747400 & 0.07082169\\\\\n",
       "\tx2 &  1 &  2.9724782 & 50.83612 & 25.72755 & 0.49682444 & 0.50090110\\\\\n",
       "\tx3 &  1 &  0.1090900 & 47.97273 & 24.97388 & 0.01823347 & 0.89592269\\\\\n",
       "\tx4 &  1 &  0.2469747 & 48.11061 & 25.01120 & 0.04127972 & 0.84407147\\\\\n",
       "\\end{tabular}\n"
      ],
      "text/markdown": [
       "\n",
       "A anova: 5 × 6\n",
       "\n",
       "| <!--/--> | Df &lt;dbl&gt; | Sum of Sq &lt;dbl&gt; | RSS &lt;dbl&gt; | AIC &lt;dbl&gt; | F value &lt;dbl&gt; | Pr(&gt;F) &lt;dbl&gt; |\n",
       "|---|---|---|---|---|---|---|\n",
       "| &lt;none&gt; | NA |         NA | 47.86364 | 26.94429 |         NA |         NA |\n",
       "| x1 |  1 | 25.9509114 | 73.81455 | 30.57588 | 4.33747400 | 0.07082169 |\n",
       "| x2 |  1 |  2.9724782 | 50.83612 | 25.72755 | 0.49682444 | 0.50090110 |\n",
       "| x3 |  1 |  0.1090900 | 47.97273 | 24.97388 | 0.01823347 | 0.89592269 |\n",
       "| x4 |  1 |  0.2469747 | 48.11061 | 25.01120 | 0.04127972 | 0.84407147 |\n",
       "\n"
      ],
      "text/plain": [
       "       Df Sum of Sq  RSS      AIC      F value    Pr(>F)    \n",
       "<none> NA         NA 47.86364 26.94429         NA         NA\n",
       "x1      1 25.9509114 73.81455 30.57588 4.33747400 0.07082169\n",
       "x2      1  2.9724782 50.83612 25.72755 0.49682444 0.50090110\n",
       "x3      1  0.1090900 47.97273 24.97388 0.01823347 0.89592269\n",
       "x4      1  0.2469747 48.11061 25.01120 0.04127972 0.84407147"
      ]
     },
     "metadata": {},
     "output_type": "display_data"
    }
   ],
   "source": [
    "drop1(m, test = \"F\") #x3 제거\n",
    "# m에서 F통계량 사요하여 제거한것 확인"
   ]
  },
  {
   "cell_type": "markdown",
   "id": "113c81fe-c8ba-47b6-9e3a-07c8b203d8a9",
   "metadata": {},
   "source": [
    "> `RSS`: SSE\n",
    ">\n",
    "> `F value` : $F=\\dfrac{SSE_{RM}-SSE_{FM}}{SSE_{FM}/(n-p-1)}$ F값이 작을수록 유의하지 않다. 클수록 유의하다.\n",
    ">\n",
    "> 3번째값이 가장 작은 값을 갖다. 유의확률이 제일 크니까 변수가 제거된다."
   ]
  },
  {
   "cell_type": "code",
   "execution_count": 7,
   "id": "240c5e0c-5a48-4c98-b5d9-3909fca4b7f2",
   "metadata": {},
   "outputs": [
    {
     "data": {
      "text/plain": [
       "\n",
       "Call:\n",
       "lm(formula = y ~ x1 + x2 + x4, data = dt)\n",
       "\n",
       "Residuals:\n",
       "    Min      1Q  Median      3Q     Max \n",
       "-3.0919 -1.8016  0.2562  1.2818  3.8982 \n",
       "\n",
       "Coefficients:\n",
       "            Estimate Std. Error t value Pr(>|t|)    \n",
       "(Intercept)  71.6483    14.1424   5.066 0.000675 ***\n",
       "x1            1.4519     0.1170  12.410 5.78e-07 ***\n",
       "x2            0.4161     0.1856   2.242 0.051687 .  \n",
       "x4           -0.2365     0.1733  -1.365 0.205395    \n",
       "---\n",
       "Signif. codes:  0 ‘***’ 0.001 ‘**’ 0.01 ‘*’ 0.05 ‘.’ 0.1 ‘ ’ 1\n",
       "\n",
       "Residual standard error: 2.309 on 9 degrees of freedom\n",
       "Multiple R-squared:  0.9823,\tAdjusted R-squared:  0.9764 \n",
       "F-statistic: 166.8 on 3 and 9 DF,  p-value: 3.323e-08\n"
      ]
     },
     "metadata": {},
     "output_type": "display_data"
    }
   ],
   "source": [
    "m1 <- update(m, ~ . -x3)\n",
    "summary(m1) #x4 제거"
   ]
  },
  {
   "cell_type": "markdown",
   "id": "60423ee2-e034-43b4-9eda-b35076817170",
   "metadata": {},
   "source": [
    "> $lm(y$~$x_1+x_2+x_4, dt)$ 라고 표현해도 된다.\n",
    ">\n",
    "> x1이 유의해졌다. (x3과 다중공산성이 심했었다)"
   ]
  },
  {
   "cell_type": "code",
   "execution_count": 8,
   "id": "1fdf6ec8-3554-46fc-a0ea-856575643f67",
   "metadata": {},
   "outputs": [
    {
     "data": {
      "text/html": [
       "<table class=\"dataframe\">\n",
       "<caption>A anova: 4 × 6</caption>\n",
       "<thead>\n",
       "\t<tr><th></th><th scope=col>Df</th><th scope=col>Sum of Sq</th><th scope=col>RSS</th><th scope=col>AIC</th><th scope=col>F value</th><th scope=col>Pr(&gt;F)</th></tr>\n",
       "\t<tr><th></th><th scope=col>&lt;dbl&gt;</th><th scope=col>&lt;dbl&gt;</th><th scope=col>&lt;dbl&gt;</th><th scope=col>&lt;dbl&gt;</th><th scope=col>&lt;dbl&gt;</th><th scope=col>&lt;dbl&gt;</th></tr>\n",
       "</thead>\n",
       "<tbody>\n",
       "\t<tr><th scope=row>&lt;none&gt;</th><td>NA</td><td>        NA</td><td> 47.97273</td><td>24.97388</td><td>        NA</td><td>          NA</td></tr>\n",
       "\t<tr><th scope=row>x1</th><td> 1</td><td>820.907402</td><td>868.88013</td><td>60.62933</td><td>154.007635</td><td>5.780764e-07</td></tr>\n",
       "\t<tr><th scope=row>x2</th><td> 1</td><td> 26.789383</td><td> 74.76211</td><td>28.74170</td><td>  5.025865</td><td>5.168735e-02</td></tr>\n",
       "\t<tr><th scope=row>x4</th><td> 1</td><td>  9.931754</td><td> 57.90448</td><td>25.41999</td><td>  1.863262</td><td>2.053954e-01</td></tr>\n",
       "</tbody>\n",
       "</table>\n"
      ],
      "text/latex": [
       "A anova: 4 × 6\n",
       "\\begin{tabular}{r|llllll}\n",
       "  & Df & Sum of Sq & RSS & AIC & F value & Pr(>F)\\\\\n",
       "  & <dbl> & <dbl> & <dbl> & <dbl> & <dbl> & <dbl>\\\\\n",
       "\\hline\n",
       "\t<none> & NA &         NA &  47.97273 & 24.97388 &         NA &           NA\\\\\n",
       "\tx1 &  1 & 820.907402 & 868.88013 & 60.62933 & 154.007635 & 5.780764e-07\\\\\n",
       "\tx2 &  1 &  26.789383 &  74.76211 & 28.74170 &   5.025865 & 5.168735e-02\\\\\n",
       "\tx4 &  1 &   9.931754 &  57.90448 & 25.41999 &   1.863262 & 2.053954e-01\\\\\n",
       "\\end{tabular}\n"
      ],
      "text/markdown": [
       "\n",
       "A anova: 4 × 6\n",
       "\n",
       "| <!--/--> | Df &lt;dbl&gt; | Sum of Sq &lt;dbl&gt; | RSS &lt;dbl&gt; | AIC &lt;dbl&gt; | F value &lt;dbl&gt; | Pr(&gt;F) &lt;dbl&gt; |\n",
       "|---|---|---|---|---|---|---|\n",
       "| &lt;none&gt; | NA |         NA |  47.97273 | 24.97388 |         NA |           NA |\n",
       "| x1 |  1 | 820.907402 | 868.88013 | 60.62933 | 154.007635 | 5.780764e-07 |\n",
       "| x2 |  1 |  26.789383 |  74.76211 | 28.74170 |   5.025865 | 5.168735e-02 |\n",
       "| x4 |  1 |   9.931754 |  57.90448 | 25.41999 |   1.863262 | 2.053954e-01 |\n",
       "\n"
      ],
      "text/plain": [
       "       Df Sum of Sq  RSS       AIC      F value    Pr(>F)      \n",
       "<none> NA         NA  47.97273 24.97388         NA           NA\n",
       "x1      1 820.907402 868.88013 60.62933 154.007635 5.780764e-07\n",
       "x2      1  26.789383  74.76211 28.74170   5.025865 5.168735e-02\n",
       "x4      1   9.931754  57.90448 25.41999   1.863262 2.053954e-01"
      ]
     },
     "metadata": {},
     "output_type": "display_data"
    }
   ],
   "source": [
    "drop1(m1, test = \"F\")"
   ]
  },
  {
   "cell_type": "markdown",
   "id": "deb99214-d914-4709-bcd7-1ca7d9ecfcac",
   "metadata": {},
   "source": [
    "> Fvalue의 x4가 가장 작으므로 제거하자. 유의하지 않다."
   ]
  },
  {
   "cell_type": "code",
   "execution_count": 9,
   "id": "fb1742a8-9c1e-4339-a764-9f65fca5b2b8",
   "metadata": {},
   "outputs": [
    {
     "data": {
      "text/plain": [
       "\n",
       "Call:\n",
       "lm(formula = y ~ x1 + x2, data = dt)\n",
       "\n",
       "Residuals:\n",
       "   Min     1Q Median     3Q    Max \n",
       "-2.893 -1.574 -1.302  1.363  4.048 \n",
       "\n",
       "Coefficients:\n",
       "            Estimate Std. Error t value Pr(>|t|)    \n",
       "(Intercept) 52.57735    2.28617   23.00 5.46e-10 ***\n",
       "x1           1.46831    0.12130   12.11 2.69e-07 ***\n",
       "x2           0.66225    0.04585   14.44 5.03e-08 ***\n",
       "---\n",
       "Signif. codes:  0 ‘***’ 0.001 ‘**’ 0.01 ‘*’ 0.05 ‘.’ 0.1 ‘ ’ 1\n",
       "\n",
       "Residual standard error: 2.406 on 10 degrees of freedom\n",
       "Multiple R-squared:  0.9787,\tAdjusted R-squared:  0.9744 \n",
       "F-statistic: 229.5 on 2 and 10 DF,  p-value: 4.407e-09\n"
      ]
     },
     "metadata": {},
     "output_type": "display_data"
    }
   ],
   "source": [
    "m2 <- update(m1, ~ . -x4)\n",
    "summary(m2) \n"
   ]
  },
  {
   "cell_type": "code",
   "execution_count": 10,
   "id": "994ce7f3-e13b-495d-9da0-da3c38ce3afa",
   "metadata": {},
   "outputs": [
    {
     "data": {
      "text/html": [
       "<table class=\"dataframe\">\n",
       "<caption>A anova: 3 × 6</caption>\n",
       "<thead>\n",
       "\t<tr><th></th><th scope=col>Df</th><th scope=col>Sum of Sq</th><th scope=col>RSS</th><th scope=col>AIC</th><th scope=col>F value</th><th scope=col>Pr(&gt;F)</th></tr>\n",
       "\t<tr><th></th><th scope=col>&lt;dbl&gt;</th><th scope=col>&lt;dbl&gt;</th><th scope=col>&lt;dbl&gt;</th><th scope=col>&lt;dbl&gt;</th><th scope=col>&lt;dbl&gt;</th><th scope=col>&lt;dbl&gt;</th></tr>\n",
       "</thead>\n",
       "<tbody>\n",
       "\t<tr><th scope=row>&lt;none&gt;</th><td>NA</td><td>       NA</td><td>  57.90448</td><td>25.41999</td><td>      NA</td><td>          NA</td></tr>\n",
       "\t<tr><th scope=row>x1</th><td> 1</td><td> 848.4319</td><td> 906.33634</td><td>59.17799</td><td>146.5227</td><td>2.692212e-07</td></tr>\n",
       "\t<tr><th scope=row>x2</th><td> 1</td><td>1207.7823</td><td>1265.68675</td><td>63.51947</td><td>208.5818</td><td>5.028960e-08</td></tr>\n",
       "</tbody>\n",
       "</table>\n"
      ],
      "text/latex": [
       "A anova: 3 × 6\n",
       "\\begin{tabular}{r|llllll}\n",
       "  & Df & Sum of Sq & RSS & AIC & F value & Pr(>F)\\\\\n",
       "  & <dbl> & <dbl> & <dbl> & <dbl> & <dbl> & <dbl>\\\\\n",
       "\\hline\n",
       "\t<none> & NA &        NA &   57.90448 & 25.41999 &       NA &           NA\\\\\n",
       "\tx1 &  1 &  848.4319 &  906.33634 & 59.17799 & 146.5227 & 2.692212e-07\\\\\n",
       "\tx2 &  1 & 1207.7823 & 1265.68675 & 63.51947 & 208.5818 & 5.028960e-08\\\\\n",
       "\\end{tabular}\n"
      ],
      "text/markdown": [
       "\n",
       "A anova: 3 × 6\n",
       "\n",
       "| <!--/--> | Df &lt;dbl&gt; | Sum of Sq &lt;dbl&gt; | RSS &lt;dbl&gt; | AIC &lt;dbl&gt; | F value &lt;dbl&gt; | Pr(&gt;F) &lt;dbl&gt; |\n",
       "|---|---|---|---|---|---|---|\n",
       "| &lt;none&gt; | NA |        NA |   57.90448 | 25.41999 |       NA |           NA |\n",
       "| x1 |  1 |  848.4319 |  906.33634 | 59.17799 | 146.5227 | 2.692212e-07 |\n",
       "| x2 |  1 | 1207.7823 | 1265.68675 | 63.51947 | 208.5818 | 5.028960e-08 |\n",
       "\n"
      ],
      "text/plain": [
       "       Df Sum of Sq RSS        AIC      F value  Pr(>F)      \n",
       "<none> NA        NA   57.90448 25.41999       NA           NA\n",
       "x1      1  848.4319  906.33634 59.17799 146.5227 2.692212e-07\n",
       "x2      1 1207.7823 1265.68675 63.51947 208.5818 5.028960e-08"
      ]
     },
     "metadata": {},
     "output_type": "display_data"
    }
   ],
   "source": [
    "drop1(m2, test = \"F\")"
   ]
  },
  {
   "cell_type": "markdown",
   "id": "38cd92a5-308f-40e0-8dba-fdd87bf5e5f9",
   "metadata": {},
   "source": [
    "> `F value`가 작은 x1을 제거할까? 하고 보니까 통계적으로 유의하므로 제거하지 않는다."
   ]
  },
  {
   "cell_type": "markdown",
   "id": "9f7b9391-1739-40d8-86a0-71f1c8e987ac",
   "metadata": {},
   "source": [
    "## 전진선택법\n"
   ]
  },
  {
   "cell_type": "markdown",
   "id": "82dd52e9-805b-4046-be17-17c49d35b85b",
   "metadata": {},
   "source": [
    "- Start model : $𝑦 = 𝛽_0 + \\epsilon$"
   ]
  },
  {
   "cell_type": "code",
   "execution_count": 11,
   "id": "0990d114-b671-460b-a76a-328793d4dc4e",
   "metadata": {},
   "outputs": [],
   "source": [
    "m0 = lm(y ~ 1, data = dt)"
   ]
  },
  {
   "cell_type": "code",
   "execution_count": 12,
   "id": "eca85e12-7703-43fb-a19d-49c9addda259",
   "metadata": {},
   "outputs": [
    {
     "data": {
      "text/html": [
       "<table class=\"dataframe\">\n",
       "<caption>A anova: 5 × 6</caption>\n",
       "<thead>\n",
       "\t<tr><th></th><th scope=col>Df</th><th scope=col>Sum of Sq</th><th scope=col>RSS</th><th scope=col>AIC</th><th scope=col>F value</th><th scope=col>Pr(&gt;F)</th></tr>\n",
       "\t<tr><th></th><th scope=col>&lt;dbl&gt;</th><th scope=col>&lt;dbl&gt;</th><th scope=col>&lt;dbl&gt;</th><th scope=col>&lt;dbl&gt;</th><th scope=col>&lt;dbl&gt;</th><th scope=col>&lt;dbl&gt;</th></tr>\n",
       "</thead>\n",
       "<tbody>\n",
       "\t<tr><th scope=row>&lt;none&gt;</th><td>NA</td><td>       NA</td><td>2715.7631</td><td>71.44443</td><td>       NA</td><td>          NA</td></tr>\n",
       "\t<tr><th scope=row>x1</th><td> 1</td><td>1450.0763</td><td>1265.6867</td><td>63.51947</td><td>12.602518</td><td>0.0045520446</td></tr>\n",
       "\t<tr><th scope=row>x2</th><td> 1</td><td>1809.4267</td><td> 906.3363</td><td>59.17799</td><td>21.960605</td><td>0.0006648249</td></tr>\n",
       "\t<tr><th scope=row>x3</th><td> 1</td><td> 776.3626</td><td>1939.4005</td><td>69.06740</td><td> 4.403417</td><td>0.0597623242</td></tr>\n",
       "\t<tr><th scope=row>x4</th><td> 1</td><td>1831.8962</td><td> 883.8669</td><td>58.85164</td><td>22.798520</td><td>0.0005762318</td></tr>\n",
       "</tbody>\n",
       "</table>\n"
      ],
      "text/latex": [
       "A anova: 5 × 6\n",
       "\\begin{tabular}{r|llllll}\n",
       "  & Df & Sum of Sq & RSS & AIC & F value & Pr(>F)\\\\\n",
       "  & <dbl> & <dbl> & <dbl> & <dbl> & <dbl> & <dbl>\\\\\n",
       "\\hline\n",
       "\t<none> & NA &        NA & 2715.7631 & 71.44443 &        NA &           NA\\\\\n",
       "\tx1 &  1 & 1450.0763 & 1265.6867 & 63.51947 & 12.602518 & 0.0045520446\\\\\n",
       "\tx2 &  1 & 1809.4267 &  906.3363 & 59.17799 & 21.960605 & 0.0006648249\\\\\n",
       "\tx3 &  1 &  776.3626 & 1939.4005 & 69.06740 &  4.403417 & 0.0597623242\\\\\n",
       "\tx4 &  1 & 1831.8962 &  883.8669 & 58.85164 & 22.798520 & 0.0005762318\\\\\n",
       "\\end{tabular}\n"
      ],
      "text/markdown": [
       "\n",
       "A anova: 5 × 6\n",
       "\n",
       "| <!--/--> | Df &lt;dbl&gt; | Sum of Sq &lt;dbl&gt; | RSS &lt;dbl&gt; | AIC &lt;dbl&gt; | F value &lt;dbl&gt; | Pr(&gt;F) &lt;dbl&gt; |\n",
       "|---|---|---|---|---|---|---|\n",
       "| &lt;none&gt; | NA |        NA | 2715.7631 | 71.44443 |        NA |           NA |\n",
       "| x1 |  1 | 1450.0763 | 1265.6867 | 63.51947 | 12.602518 | 0.0045520446 |\n",
       "| x2 |  1 | 1809.4267 |  906.3363 | 59.17799 | 21.960605 | 0.0006648249 |\n",
       "| x3 |  1 |  776.3626 | 1939.4005 | 69.06740 |  4.403417 | 0.0597623242 |\n",
       "| x4 |  1 | 1831.8962 |  883.8669 | 58.85164 | 22.798520 | 0.0005762318 |\n",
       "\n"
      ],
      "text/plain": [
       "       Df Sum of Sq RSS       AIC      F value   Pr(>F)      \n",
       "<none> NA        NA 2715.7631 71.44443        NA           NA\n",
       "x1      1 1450.0763 1265.6867 63.51947 12.602518 0.0045520446\n",
       "x2      1 1809.4267  906.3363 59.17799 21.960605 0.0006648249\n",
       "x3      1  776.3626 1939.4005 69.06740  4.403417 0.0597623242\n",
       "x4      1 1831.8962  883.8669 58.85164 22.798520 0.0005762318"
      ]
     },
     "metadata": {},
     "output_type": "display_data"
    }
   ],
   "source": [
    "add1(m0,\n",
    " scope = y ~ x1 + x2 + x3+ x4,\n",
    " test = \"F\") ## x4추가"
   ]
  },
  {
   "cell_type": "markdown",
   "id": "9ab0d0a2-1121-4e27-ad3b-beb41f3e6ab9",
   "metadata": {},
   "source": [
    "> F값이 크면 좋음. x4가 좋으니까 보면 유의하므로 추가하자."
   ]
  },
  {
   "cell_type": "code",
   "execution_count": 13,
   "id": "f22383d8-4a74-435e-9289-a6b53c658a12",
   "metadata": {},
   "outputs": [
    {
     "data": {
      "text/plain": [
       "\n",
       "Call:\n",
       "lm(formula = y ~ x4, data = dt)\n",
       "\n",
       "Residuals:\n",
       "    Min      1Q  Median      3Q     Max \n",
       "-12.589  -8.228   1.495   4.726  17.524 \n",
       "\n",
       "Coefficients:\n",
       "            Estimate Std. Error t value Pr(>|t|)    \n",
       "(Intercept) 117.5679     5.2622  22.342 1.62e-10 ***\n",
       "x4           -0.7382     0.1546  -4.775 0.000576 ***\n",
       "---\n",
       "Signif. codes:  0 ‘***’ 0.001 ‘**’ 0.01 ‘*’ 0.05 ‘.’ 0.1 ‘ ’ 1\n",
       "\n",
       "Residual standard error: 8.964 on 11 degrees of freedom\n",
       "Multiple R-squared:  0.6745,\tAdjusted R-squared:  0.645 \n",
       "F-statistic:  22.8 on 1 and 11 DF,  p-value: 0.0005762\n"
      ]
     },
     "metadata": {},
     "output_type": "display_data"
    }
   ],
   "source": [
    "m1 <- update(m0, ~ . +x4)\n",
    "summary(m1)"
   ]
  },
  {
   "cell_type": "code",
   "execution_count": 14,
   "id": "66f8922a-9a57-43ff-b701-9eef56700da5",
   "metadata": {},
   "outputs": [
    {
     "data": {
      "text/html": [
       "<table class=\"dataframe\">\n",
       "<caption>A anova: 4 × 6</caption>\n",
       "<thead>\n",
       "\t<tr><th></th><th scope=col>Df</th><th scope=col>Sum of Sq</th><th scope=col>RSS</th><th scope=col>AIC</th><th scope=col>F value</th><th scope=col>Pr(&gt;F)</th></tr>\n",
       "\t<tr><th></th><th scope=col>&lt;dbl&gt;</th><th scope=col>&lt;dbl&gt;</th><th scope=col>&lt;dbl&gt;</th><th scope=col>&lt;dbl&gt;</th><th scope=col>&lt;dbl&gt;</th><th scope=col>&lt;dbl&gt;</th></tr>\n",
       "</thead>\n",
       "<tbody>\n",
       "\t<tr><th scope=row>&lt;none&gt;</th><td>NA</td><td>       NA</td><td>883.86692</td><td>58.85164</td><td>         NA</td><td>          NA</td></tr>\n",
       "\t<tr><th scope=row>x1</th><td> 1</td><td>809.10480</td><td> 74.76211</td><td>28.74170</td><td>108.2239093</td><td>1.105281e-06</td></tr>\n",
       "\t<tr><th scope=row>x2</th><td> 1</td><td> 14.98679</td><td>868.88013</td><td>60.62933</td><td>  0.1724839</td><td>6.866842e-01</td></tr>\n",
       "\t<tr><th scope=row>x3</th><td> 1</td><td>708.12891</td><td>175.73800</td><td>39.85258</td><td> 40.2945802</td><td>8.375467e-05</td></tr>\n",
       "</tbody>\n",
       "</table>\n"
      ],
      "text/latex": [
       "A anova: 4 × 6\n",
       "\\begin{tabular}{r|llllll}\n",
       "  & Df & Sum of Sq & RSS & AIC & F value & Pr(>F)\\\\\n",
       "  & <dbl> & <dbl> & <dbl> & <dbl> & <dbl> & <dbl>\\\\\n",
       "\\hline\n",
       "\t<none> & NA &        NA & 883.86692 & 58.85164 &          NA &           NA\\\\\n",
       "\tx1 &  1 & 809.10480 &  74.76211 & 28.74170 & 108.2239093 & 1.105281e-06\\\\\n",
       "\tx2 &  1 &  14.98679 & 868.88013 & 60.62933 &   0.1724839 & 6.866842e-01\\\\\n",
       "\tx3 &  1 & 708.12891 & 175.73800 & 39.85258 &  40.2945802 & 8.375467e-05\\\\\n",
       "\\end{tabular}\n"
      ],
      "text/markdown": [
       "\n",
       "A anova: 4 × 6\n",
       "\n",
       "| <!--/--> | Df &lt;dbl&gt; | Sum of Sq &lt;dbl&gt; | RSS &lt;dbl&gt; | AIC &lt;dbl&gt; | F value &lt;dbl&gt; | Pr(&gt;F) &lt;dbl&gt; |\n",
       "|---|---|---|---|---|---|---|\n",
       "| &lt;none&gt; | NA |        NA | 883.86692 | 58.85164 |          NA |           NA |\n",
       "| x1 |  1 | 809.10480 |  74.76211 | 28.74170 | 108.2239093 | 1.105281e-06 |\n",
       "| x2 |  1 |  14.98679 | 868.88013 | 60.62933 |   0.1724839 | 6.866842e-01 |\n",
       "| x3 |  1 | 708.12891 | 175.73800 | 39.85258 |  40.2945802 | 8.375467e-05 |\n",
       "\n"
      ],
      "text/plain": [
       "       Df Sum of Sq RSS       AIC      F value     Pr(>F)      \n",
       "<none> NA        NA 883.86692 58.85164          NA           NA\n",
       "x1      1 809.10480  74.76211 28.74170 108.2239093 1.105281e-06\n",
       "x2      1  14.98679 868.88013 60.62933   0.1724839 6.866842e-01\n",
       "x3      1 708.12891 175.73800 39.85258  40.2945802 8.375467e-05"
      ]
     },
     "metadata": {},
     "output_type": "display_data"
    }
   ],
   "source": [
    "add1(m1,\n",
    " scope = y ~ x1 + x2 + x3+ x4,\n",
    " test = \"F\") ## x1추가"
   ]
  },
  {
   "cell_type": "markdown",
   "id": "eb5b4660-6dc9-493b-b391-c3ab6698e30d",
   "metadata": {},
   "source": [
    "> x1의 F갑싱 제일 크고 유의하므로 추가"
   ]
  },
  {
   "cell_type": "code",
   "execution_count": 15,
   "id": "936bf9be-01f0-4f55-875b-f30884588162",
   "metadata": {},
   "outputs": [
    {
     "data": {
      "text/plain": [
       "\n",
       "Call:\n",
       "lm(formula = y ~ x4 + x1, data = dt)\n",
       "\n",
       "Residuals:\n",
       "    Min      1Q  Median      3Q     Max \n",
       "-5.0234 -1.4737  0.1371  1.7305  3.7701 \n",
       "\n",
       "Coefficients:\n",
       "             Estimate Std. Error t value Pr(>|t|)    \n",
       "(Intercept) 103.09738    2.12398   48.54 3.32e-13 ***\n",
       "x4           -0.61395    0.04864  -12.62 1.81e-07 ***\n",
       "x1            1.43996    0.13842   10.40 1.11e-06 ***\n",
       "---\n",
       "Signif. codes:  0 ‘***’ 0.001 ‘**’ 0.01 ‘*’ 0.05 ‘.’ 0.1 ‘ ’ 1\n",
       "\n",
       "Residual standard error: 2.734 on 10 degrees of freedom\n",
       "Multiple R-squared:  0.9725,\tAdjusted R-squared:  0.967 \n",
       "F-statistic: 176.6 on 2 and 10 DF,  p-value: 1.581e-08\n"
      ]
     },
     "metadata": {},
     "output_type": "display_data"
    }
   ],
   "source": [
    "m2 <- update(m1, ~ . +x1)\n",
    "summary(m2)\n"
   ]
  },
  {
   "cell_type": "code",
   "execution_count": 16,
   "id": "b967813f-e308-45c8-9162-4c3d828982b1",
   "metadata": {},
   "outputs": [
    {
     "data": {
      "text/html": [
       "<table class=\"dataframe\">\n",
       "<caption>A anova: 3 × 6</caption>\n",
       "<thead>\n",
       "\t<tr><th></th><th scope=col>Df</th><th scope=col>Sum of Sq</th><th scope=col>RSS</th><th scope=col>AIC</th><th scope=col>F value</th><th scope=col>Pr(&gt;F)</th></tr>\n",
       "\t<tr><th></th><th scope=col>&lt;dbl&gt;</th><th scope=col>&lt;dbl&gt;</th><th scope=col>&lt;dbl&gt;</th><th scope=col>&lt;dbl&gt;</th><th scope=col>&lt;dbl&gt;</th><th scope=col>&lt;dbl&gt;</th></tr>\n",
       "</thead>\n",
       "<tbody>\n",
       "\t<tr><th scope=row>&lt;none&gt;</th><td>NA</td><td>      NA</td><td>74.76211</td><td>28.74170</td><td>      NA</td><td>        NA</td></tr>\n",
       "\t<tr><th scope=row>x2</th><td> 1</td><td>26.78938</td><td>47.97273</td><td>24.97388</td><td>5.025865</td><td>0.05168735</td></tr>\n",
       "\t<tr><th scope=row>x3</th><td> 1</td><td>23.92599</td><td>50.83612</td><td>25.72755</td><td>4.235846</td><td>0.06969226</td></tr>\n",
       "</tbody>\n",
       "</table>\n"
      ],
      "text/latex": [
       "A anova: 3 × 6\n",
       "\\begin{tabular}{r|llllll}\n",
       "  & Df & Sum of Sq & RSS & AIC & F value & Pr(>F)\\\\\n",
       "  & <dbl> & <dbl> & <dbl> & <dbl> & <dbl> & <dbl>\\\\\n",
       "\\hline\n",
       "\t<none> & NA &       NA & 74.76211 & 28.74170 &       NA &         NA\\\\\n",
       "\tx2 &  1 & 26.78938 & 47.97273 & 24.97388 & 5.025865 & 0.05168735\\\\\n",
       "\tx3 &  1 & 23.92599 & 50.83612 & 25.72755 & 4.235846 & 0.06969226\\\\\n",
       "\\end{tabular}\n"
      ],
      "text/markdown": [
       "\n",
       "A anova: 3 × 6\n",
       "\n",
       "| <!--/--> | Df &lt;dbl&gt; | Sum of Sq &lt;dbl&gt; | RSS &lt;dbl&gt; | AIC &lt;dbl&gt; | F value &lt;dbl&gt; | Pr(&gt;F) &lt;dbl&gt; |\n",
       "|---|---|---|---|---|---|---|\n",
       "| &lt;none&gt; | NA |       NA | 74.76211 | 28.74170 |       NA |         NA |\n",
       "| x2 |  1 | 26.78938 | 47.97273 | 24.97388 | 5.025865 | 0.05168735 |\n",
       "| x3 |  1 | 23.92599 | 50.83612 | 25.72755 | 4.235846 | 0.06969226 |\n",
       "\n"
      ],
      "text/plain": [
       "       Df Sum of Sq RSS      AIC      F value  Pr(>F)    \n",
       "<none> NA       NA  74.76211 28.74170       NA         NA\n",
       "x2      1 26.78938  47.97273 24.97388 5.025865 0.05168735\n",
       "x3      1 23.92599  50.83612 25.72755 4.235846 0.06969226"
      ]
     },
     "metadata": {},
     "output_type": "display_data"
    }
   ],
   "source": [
    "add1(m2,\n",
    " scope = y ~ x1 + x2 + x3+ x4,\n",
    " test = \"F\") ## stop"
   ]
  },
  {
   "cell_type": "markdown",
   "id": "6f917504-087b-4920-a9b7-2e224a1774ec",
   "metadata": {},
   "source": [
    "> x2의 F값이 더 크지만, pr값이 애매해. 유의수준  a=0.05면 유의하지 않다. 모형에 포함될 수 없으므로 멈춘다.\n",
    ">\n",
    "> 최종 모형은 x1과 x4를 선택한 모형"
   ]
  },
  {
   "cell_type": "markdown",
   "id": "4d4c8a1f-8875-4533-8ba8-7fc2055efad9",
   "metadata": {},
   "source": [
    "## 단계적선택법"
   ]
  },
  {
   "cell_type": "code",
   "execution_count": 7,
   "id": "b701b973-96fa-477e-bb85-cdc4306537c9",
   "metadata": {},
   "outputs": [],
   "source": [
    "m0 = lm(y ~ 1, data = dt)\n",
    "# 절편먼저 시작"
   ]
  },
  {
   "cell_type": "code",
   "execution_count": 18,
   "id": "b4e9bbbd-9c5e-41c8-8289-9edf523c3547",
   "metadata": {},
   "outputs": [
    {
     "data": {
      "text/html": [
       "<table class=\"dataframe\">\n",
       "<caption>A anova: 5 × 6</caption>\n",
       "<thead>\n",
       "\t<tr><th></th><th scope=col>Df</th><th scope=col>Sum of Sq</th><th scope=col>RSS</th><th scope=col>AIC</th><th scope=col>F value</th><th scope=col>Pr(&gt;F)</th></tr>\n",
       "\t<tr><th></th><th scope=col>&lt;dbl&gt;</th><th scope=col>&lt;dbl&gt;</th><th scope=col>&lt;dbl&gt;</th><th scope=col>&lt;dbl&gt;</th><th scope=col>&lt;dbl&gt;</th><th scope=col>&lt;dbl&gt;</th></tr>\n",
       "</thead>\n",
       "<tbody>\n",
       "\t<tr><th scope=row>&lt;none&gt;</th><td>NA</td><td>       NA</td><td>2715.7631</td><td>71.44443</td><td>       NA</td><td>          NA</td></tr>\n",
       "\t<tr><th scope=row>x1</th><td> 1</td><td>1450.0763</td><td>1265.6867</td><td>63.51947</td><td>12.602518</td><td>0.0045520446</td></tr>\n",
       "\t<tr><th scope=row>x2</th><td> 1</td><td>1809.4267</td><td> 906.3363</td><td>59.17799</td><td>21.960605</td><td>0.0006648249</td></tr>\n",
       "\t<tr><th scope=row>x3</th><td> 1</td><td> 776.3626</td><td>1939.4005</td><td>69.06740</td><td> 4.403417</td><td>0.0597623242</td></tr>\n",
       "\t<tr><th scope=row>x4</th><td> 1</td><td>1831.8962</td><td> 883.8669</td><td>58.85164</td><td>22.798520</td><td>0.0005762318</td></tr>\n",
       "</tbody>\n",
       "</table>\n"
      ],
      "text/latex": [
       "A anova: 5 × 6\n",
       "\\begin{tabular}{r|llllll}\n",
       "  & Df & Sum of Sq & RSS & AIC & F value & Pr(>F)\\\\\n",
       "  & <dbl> & <dbl> & <dbl> & <dbl> & <dbl> & <dbl>\\\\\n",
       "\\hline\n",
       "\t<none> & NA &        NA & 2715.7631 & 71.44443 &        NA &           NA\\\\\n",
       "\tx1 &  1 & 1450.0763 & 1265.6867 & 63.51947 & 12.602518 & 0.0045520446\\\\\n",
       "\tx2 &  1 & 1809.4267 &  906.3363 & 59.17799 & 21.960605 & 0.0006648249\\\\\n",
       "\tx3 &  1 &  776.3626 & 1939.4005 & 69.06740 &  4.403417 & 0.0597623242\\\\\n",
       "\tx4 &  1 & 1831.8962 &  883.8669 & 58.85164 & 22.798520 & 0.0005762318\\\\\n",
       "\\end{tabular}\n"
      ],
      "text/markdown": [
       "\n",
       "A anova: 5 × 6\n",
       "\n",
       "| <!--/--> | Df &lt;dbl&gt; | Sum of Sq &lt;dbl&gt; | RSS &lt;dbl&gt; | AIC &lt;dbl&gt; | F value &lt;dbl&gt; | Pr(&gt;F) &lt;dbl&gt; |\n",
       "|---|---|---|---|---|---|---|\n",
       "| &lt;none&gt; | NA |        NA | 2715.7631 | 71.44443 |        NA |           NA |\n",
       "| x1 |  1 | 1450.0763 | 1265.6867 | 63.51947 | 12.602518 | 0.0045520446 |\n",
       "| x2 |  1 | 1809.4267 |  906.3363 | 59.17799 | 21.960605 | 0.0006648249 |\n",
       "| x3 |  1 |  776.3626 | 1939.4005 | 69.06740 |  4.403417 | 0.0597623242 |\n",
       "| x4 |  1 | 1831.8962 |  883.8669 | 58.85164 | 22.798520 | 0.0005762318 |\n",
       "\n"
      ],
      "text/plain": [
       "       Df Sum of Sq RSS       AIC      F value   Pr(>F)      \n",
       "<none> NA        NA 2715.7631 71.44443        NA           NA\n",
       "x1      1 1450.0763 1265.6867 63.51947 12.602518 0.0045520446\n",
       "x2      1 1809.4267  906.3363 59.17799 21.960605 0.0006648249\n",
       "x3      1  776.3626 1939.4005 69.06740  4.403417 0.0597623242\n",
       "x4      1 1831.8962  883.8669 58.85164 22.798520 0.0005762318"
      ]
     },
     "metadata": {},
     "output_type": "display_data"
    }
   ],
   "source": [
    "add1(m0,\n",
    " scope = y ~ x1 + x2 + x3+ x4,\n",
    " test = \"F\") ## x4추가\n"
   ]
  },
  {
   "cell_type": "code",
   "execution_count": 19,
   "id": "0dbe64cf-3a47-4a41-a367-5e19d75cadbb",
   "metadata": {},
   "outputs": [
    {
     "data": {
      "text/plain": [
       "\n",
       "Call:\n",
       "lm(formula = y ~ x4, data = dt)\n",
       "\n",
       "Residuals:\n",
       "    Min      1Q  Median      3Q     Max \n",
       "-12.589  -8.228   1.495   4.726  17.524 \n",
       "\n",
       "Coefficients:\n",
       "            Estimate Std. Error t value Pr(>|t|)    \n",
       "(Intercept) 117.5679     5.2622  22.342 1.62e-10 ***\n",
       "x4           -0.7382     0.1546  -4.775 0.000576 ***\n",
       "---\n",
       "Signif. codes:  0 ‘***’ 0.001 ‘**’ 0.01 ‘*’ 0.05 ‘.’ 0.1 ‘ ’ 1\n",
       "\n",
       "Residual standard error: 8.964 on 11 degrees of freedom\n",
       "Multiple R-squared:  0.6745,\tAdjusted R-squared:  0.645 \n",
       "F-statistic:  22.8 on 1 and 11 DF,  p-value: 0.0005762\n"
      ]
     },
     "metadata": {},
     "output_type": "display_data"
    }
   ],
   "source": [
    "m1 <- update(m0, ~ . +x4)\n",
    "summary(m1)"
   ]
  },
  {
   "cell_type": "code",
   "execution_count": 20,
   "id": "49242776-c41d-4dda-b553-d04fc8c5204d",
   "metadata": {},
   "outputs": [
    {
     "data": {
      "text/html": [
       "<table class=\"dataframe\">\n",
       "<caption>A anova: 4 × 6</caption>\n",
       "<thead>\n",
       "\t<tr><th></th><th scope=col>Df</th><th scope=col>Sum of Sq</th><th scope=col>RSS</th><th scope=col>AIC</th><th scope=col>F value</th><th scope=col>Pr(&gt;F)</th></tr>\n",
       "\t<tr><th></th><th scope=col>&lt;dbl&gt;</th><th scope=col>&lt;dbl&gt;</th><th scope=col>&lt;dbl&gt;</th><th scope=col>&lt;dbl&gt;</th><th scope=col>&lt;dbl&gt;</th><th scope=col>&lt;dbl&gt;</th></tr>\n",
       "</thead>\n",
       "<tbody>\n",
       "\t<tr><th scope=row>&lt;none&gt;</th><td>NA</td><td>       NA</td><td>883.86692</td><td>58.85164</td><td>         NA</td><td>          NA</td></tr>\n",
       "\t<tr><th scope=row>x1</th><td> 1</td><td>809.10480</td><td> 74.76211</td><td>28.74170</td><td>108.2239093</td><td>1.105281e-06</td></tr>\n",
       "\t<tr><th scope=row>x2</th><td> 1</td><td> 14.98679</td><td>868.88013</td><td>60.62933</td><td>  0.1724839</td><td>6.866842e-01</td></tr>\n",
       "\t<tr><th scope=row>x3</th><td> 1</td><td>708.12891</td><td>175.73800</td><td>39.85258</td><td> 40.2945802</td><td>8.375467e-05</td></tr>\n",
       "</tbody>\n",
       "</table>\n"
      ],
      "text/latex": [
       "A anova: 4 × 6\n",
       "\\begin{tabular}{r|llllll}\n",
       "  & Df & Sum of Sq & RSS & AIC & F value & Pr(>F)\\\\\n",
       "  & <dbl> & <dbl> & <dbl> & <dbl> & <dbl> & <dbl>\\\\\n",
       "\\hline\n",
       "\t<none> & NA &        NA & 883.86692 & 58.85164 &          NA &           NA\\\\\n",
       "\tx1 &  1 & 809.10480 &  74.76211 & 28.74170 & 108.2239093 & 1.105281e-06\\\\\n",
       "\tx2 &  1 &  14.98679 & 868.88013 & 60.62933 &   0.1724839 & 6.866842e-01\\\\\n",
       "\tx3 &  1 & 708.12891 & 175.73800 & 39.85258 &  40.2945802 & 8.375467e-05\\\\\n",
       "\\end{tabular}\n"
      ],
      "text/markdown": [
       "\n",
       "A anova: 4 × 6\n",
       "\n",
       "| <!--/--> | Df &lt;dbl&gt; | Sum of Sq &lt;dbl&gt; | RSS &lt;dbl&gt; | AIC &lt;dbl&gt; | F value &lt;dbl&gt; | Pr(&gt;F) &lt;dbl&gt; |\n",
       "|---|---|---|---|---|---|---|\n",
       "| &lt;none&gt; | NA |        NA | 883.86692 | 58.85164 |          NA |           NA |\n",
       "| x1 |  1 | 809.10480 |  74.76211 | 28.74170 | 108.2239093 | 1.105281e-06 |\n",
       "| x2 |  1 |  14.98679 | 868.88013 | 60.62933 |   0.1724839 | 6.866842e-01 |\n",
       "| x3 |  1 | 708.12891 | 175.73800 | 39.85258 |  40.2945802 | 8.375467e-05 |\n",
       "\n"
      ],
      "text/plain": [
       "       Df Sum of Sq RSS       AIC      F value     Pr(>F)      \n",
       "<none> NA        NA 883.86692 58.85164          NA           NA\n",
       "x1      1 809.10480  74.76211 28.74170 108.2239093 1.105281e-06\n",
       "x2      1  14.98679 868.88013 60.62933   0.1724839 6.866842e-01\n",
       "x3      1 708.12891 175.73800 39.85258  40.2945802 8.375467e-05"
      ]
     },
     "metadata": {},
     "output_type": "display_data"
    }
   ],
   "source": [
    "add1(m1,\n",
    " scope = y ~ x1 + x2 + x3+ x4,\n",
    " test = \"F\") ## x1추가\n"
   ]
  },
  {
   "cell_type": "code",
   "execution_count": 21,
   "id": "6f85d1ed-58d8-40c3-94d4-2af53dca33f9",
   "metadata": {},
   "outputs": [],
   "source": [
    "m2 <- update(m1, ~ . +x1)"
   ]
  },
  {
   "cell_type": "code",
   "execution_count": 22,
   "id": "5fd71c79-93cf-4d01-afcf-265d84695605",
   "metadata": {},
   "outputs": [
    {
     "data": {
      "text/html": [
       "<table class=\"dataframe\">\n",
       "<caption>A anova: 3 × 6</caption>\n",
       "<thead>\n",
       "\t<tr><th></th><th scope=col>Df</th><th scope=col>Sum of Sq</th><th scope=col>RSS</th><th scope=col>AIC</th><th scope=col>F value</th><th scope=col>Pr(&gt;F)</th></tr>\n",
       "\t<tr><th></th><th scope=col>&lt;dbl&gt;</th><th scope=col>&lt;dbl&gt;</th><th scope=col>&lt;dbl&gt;</th><th scope=col>&lt;dbl&gt;</th><th scope=col>&lt;dbl&gt;</th><th scope=col>&lt;dbl&gt;</th></tr>\n",
       "</thead>\n",
       "<tbody>\n",
       "\t<tr><th scope=row>&lt;none&gt;</th><td>NA</td><td>       NA</td><td>  74.76211</td><td>28.74170</td><td>      NA</td><td>          NA</td></tr>\n",
       "\t<tr><th scope=row>x4</th><td> 1</td><td>1190.9246</td><td>1265.68675</td><td>63.51947</td><td>159.2952</td><td>1.814890e-07</td></tr>\n",
       "\t<tr><th scope=row>x1</th><td> 1</td><td> 809.1048</td><td> 883.86692</td><td>58.85164</td><td>108.2239</td><td>1.105281e-06</td></tr>\n",
       "</tbody>\n",
       "</table>\n"
      ],
      "text/latex": [
       "A anova: 3 × 6\n",
       "\\begin{tabular}{r|llllll}\n",
       "  & Df & Sum of Sq & RSS & AIC & F value & Pr(>F)\\\\\n",
       "  & <dbl> & <dbl> & <dbl> & <dbl> & <dbl> & <dbl>\\\\\n",
       "\\hline\n",
       "\t<none> & NA &        NA &   74.76211 & 28.74170 &       NA &           NA\\\\\n",
       "\tx4 &  1 & 1190.9246 & 1265.68675 & 63.51947 & 159.2952 & 1.814890e-07\\\\\n",
       "\tx1 &  1 &  809.1048 &  883.86692 & 58.85164 & 108.2239 & 1.105281e-06\\\\\n",
       "\\end{tabular}\n"
      ],
      "text/markdown": [
       "\n",
       "A anova: 3 × 6\n",
       "\n",
       "| <!--/--> | Df &lt;dbl&gt; | Sum of Sq &lt;dbl&gt; | RSS &lt;dbl&gt; | AIC &lt;dbl&gt; | F value &lt;dbl&gt; | Pr(&gt;F) &lt;dbl&gt; |\n",
       "|---|---|---|---|---|---|---|\n",
       "| &lt;none&gt; | NA |        NA |   74.76211 | 28.74170 |       NA |           NA |\n",
       "| x4 |  1 | 1190.9246 | 1265.68675 | 63.51947 | 159.2952 | 1.814890e-07 |\n",
       "| x1 |  1 |  809.1048 |  883.86692 | 58.85164 | 108.2239 | 1.105281e-06 |\n",
       "\n"
      ],
      "text/plain": [
       "       Df Sum of Sq RSS        AIC      F value  Pr(>F)      \n",
       "<none> NA        NA   74.76211 28.74170       NA           NA\n",
       "x4      1 1190.9246 1265.68675 63.51947 159.2952 1.814890e-07\n",
       "x1      1  809.1048  883.86692 58.85164 108.2239 1.105281e-06"
      ]
     },
     "metadata": {},
     "output_type": "display_data"
    }
   ],
   "source": [
    "drop1(m2, test = \"F\") #제거 없음"
   ]
  },
  {
   "cell_type": "markdown",
   "id": "d2b13478-79e9-4e50-9c1b-506103cf8f85",
   "metadata": {},
   "source": [
    "> x1,x4 유의하니까 그대로 가져가자"
   ]
  },
  {
   "cell_type": "code",
   "execution_count": 23,
   "id": "3303f489-ffa1-4c8e-8d3c-2143cdefb058",
   "metadata": {},
   "outputs": [
    {
     "data": {
      "text/html": [
       "<table class=\"dataframe\">\n",
       "<caption>A anova: 3 × 6</caption>\n",
       "<thead>\n",
       "\t<tr><th></th><th scope=col>Df</th><th scope=col>Sum of Sq</th><th scope=col>RSS</th><th scope=col>AIC</th><th scope=col>F value</th><th scope=col>Pr(&gt;F)</th></tr>\n",
       "\t<tr><th></th><th scope=col>&lt;dbl&gt;</th><th scope=col>&lt;dbl&gt;</th><th scope=col>&lt;dbl&gt;</th><th scope=col>&lt;dbl&gt;</th><th scope=col>&lt;dbl&gt;</th><th scope=col>&lt;dbl&gt;</th></tr>\n",
       "</thead>\n",
       "<tbody>\n",
       "\t<tr><th scope=row>&lt;none&gt;</th><td>NA</td><td>      NA</td><td>74.76211</td><td>28.74170</td><td>      NA</td><td>        NA</td></tr>\n",
       "\t<tr><th scope=row>x2</th><td> 1</td><td>26.78938</td><td>47.97273</td><td>24.97388</td><td>5.025865</td><td>0.05168735</td></tr>\n",
       "\t<tr><th scope=row>x3</th><td> 1</td><td>23.92599</td><td>50.83612</td><td>25.72755</td><td>4.235846</td><td>0.06969226</td></tr>\n",
       "</tbody>\n",
       "</table>\n"
      ],
      "text/latex": [
       "A anova: 3 × 6\n",
       "\\begin{tabular}{r|llllll}\n",
       "  & Df & Sum of Sq & RSS & AIC & F value & Pr(>F)\\\\\n",
       "  & <dbl> & <dbl> & <dbl> & <dbl> & <dbl> & <dbl>\\\\\n",
       "\\hline\n",
       "\t<none> & NA &       NA & 74.76211 & 28.74170 &       NA &         NA\\\\\n",
       "\tx2 &  1 & 26.78938 & 47.97273 & 24.97388 & 5.025865 & 0.05168735\\\\\n",
       "\tx3 &  1 & 23.92599 & 50.83612 & 25.72755 & 4.235846 & 0.06969226\\\\\n",
       "\\end{tabular}\n"
      ],
      "text/markdown": [
       "\n",
       "A anova: 3 × 6\n",
       "\n",
       "| <!--/--> | Df &lt;dbl&gt; | Sum of Sq &lt;dbl&gt; | RSS &lt;dbl&gt; | AIC &lt;dbl&gt; | F value &lt;dbl&gt; | Pr(&gt;F) &lt;dbl&gt; |\n",
       "|---|---|---|---|---|---|---|\n",
       "| &lt;none&gt; | NA |       NA | 74.76211 | 28.74170 |       NA |         NA |\n",
       "| x2 |  1 | 26.78938 | 47.97273 | 24.97388 | 5.025865 | 0.05168735 |\n",
       "| x3 |  1 | 23.92599 | 50.83612 | 25.72755 | 4.235846 | 0.06969226 |\n",
       "\n"
      ],
      "text/plain": [
       "       Df Sum of Sq RSS      AIC      F value  Pr(>F)    \n",
       "<none> NA       NA  74.76211 28.74170       NA         NA\n",
       "x2      1 26.78938  47.97273 24.97388 5.025865 0.05168735\n",
       "x3      1 23.92599  50.83612 25.72755 4.235846 0.06969226"
      ]
     },
     "metadata": {},
     "output_type": "display_data"
    }
   ],
   "source": [
    "add1(m2,\n",
    " scope = y ~ x1 + x2 + x3+ x4,\n",
    " test = \"F\") ## x2추가"
   ]
  },
  {
   "cell_type": "markdown",
   "id": "ec7af9c0-345e-45df-98ed-831a7239a4d8",
   "metadata": {},
   "source": [
    "> 유의수준 a=0.1로 보자"
   ]
  },
  {
   "cell_type": "code",
   "execution_count": 24,
   "id": "71e37e2c-a2d0-46e8-9b87-04f3f9ff8b4d",
   "metadata": {},
   "outputs": [
    {
     "data": {
      "text/plain": [
       "\n",
       "Call:\n",
       "lm(formula = y ~ x4 + x1 + x2, data = dt)\n",
       "\n",
       "Residuals:\n",
       "    Min      1Q  Median      3Q     Max \n",
       "-3.0919 -1.8016  0.2562  1.2818  3.8982 \n",
       "\n",
       "Coefficients:\n",
       "            Estimate Std. Error t value Pr(>|t|)    \n",
       "(Intercept)  71.6483    14.1424   5.066 0.000675 ***\n",
       "x4           -0.2365     0.1733  -1.365 0.205395    \n",
       "x1            1.4519     0.1170  12.410 5.78e-07 ***\n",
       "x2            0.4161     0.1856   2.242 0.051687 .  \n",
       "---\n",
       "Signif. codes:  0 ‘***’ 0.001 ‘**’ 0.01 ‘*’ 0.05 ‘.’ 0.1 ‘ ’ 1\n",
       "\n",
       "Residual standard error: 2.309 on 9 degrees of freedom\n",
       "Multiple R-squared:  0.9823,\tAdjusted R-squared:  0.9764 \n",
       "F-statistic: 166.8 on 3 and 9 DF,  p-value: 3.323e-08\n"
      ]
     },
     "metadata": {},
     "output_type": "display_data"
    }
   ],
   "source": [
    "m3 <- update(m2, ~ . +x2)\n",
    "summary(m3) \n"
   ]
  },
  {
   "cell_type": "code",
   "execution_count": 25,
   "id": "4d6f36d4-c710-46df-b83c-9b286a082157",
   "metadata": {},
   "outputs": [
    {
     "data": {
      "text/html": [
       "<table class=\"dataframe\">\n",
       "<caption>A anova: 4 × 6</caption>\n",
       "<thead>\n",
       "\t<tr><th></th><th scope=col>Df</th><th scope=col>Sum of Sq</th><th scope=col>RSS</th><th scope=col>AIC</th><th scope=col>F value</th><th scope=col>Pr(&gt;F)</th></tr>\n",
       "\t<tr><th></th><th scope=col>&lt;dbl&gt;</th><th scope=col>&lt;dbl&gt;</th><th scope=col>&lt;dbl&gt;</th><th scope=col>&lt;dbl&gt;</th><th scope=col>&lt;dbl&gt;</th><th scope=col>&lt;dbl&gt;</th></tr>\n",
       "</thead>\n",
       "<tbody>\n",
       "\t<tr><th scope=row>&lt;none&gt;</th><td>NA</td><td>        NA</td><td> 47.97273</td><td>24.97388</td><td>        NA</td><td>          NA</td></tr>\n",
       "\t<tr><th scope=row>x4</th><td> 1</td><td>  9.931754</td><td> 57.90448</td><td>25.41999</td><td>  1.863262</td><td>2.053954e-01</td></tr>\n",
       "\t<tr><th scope=row>x1</th><td> 1</td><td>820.907402</td><td>868.88013</td><td>60.62933</td><td>154.007635</td><td>5.780764e-07</td></tr>\n",
       "\t<tr><th scope=row>x2</th><td> 1</td><td> 26.789383</td><td> 74.76211</td><td>28.74170</td><td>  5.025865</td><td>5.168735e-02</td></tr>\n",
       "</tbody>\n",
       "</table>\n"
      ],
      "text/latex": [
       "A anova: 4 × 6\n",
       "\\begin{tabular}{r|llllll}\n",
       "  & Df & Sum of Sq & RSS & AIC & F value & Pr(>F)\\\\\n",
       "  & <dbl> & <dbl> & <dbl> & <dbl> & <dbl> & <dbl>\\\\\n",
       "\\hline\n",
       "\t<none> & NA &         NA &  47.97273 & 24.97388 &         NA &           NA\\\\\n",
       "\tx4 &  1 &   9.931754 &  57.90448 & 25.41999 &   1.863262 & 2.053954e-01\\\\\n",
       "\tx1 &  1 & 820.907402 & 868.88013 & 60.62933 & 154.007635 & 5.780764e-07\\\\\n",
       "\tx2 &  1 &  26.789383 &  74.76211 & 28.74170 &   5.025865 & 5.168735e-02\\\\\n",
       "\\end{tabular}\n"
      ],
      "text/markdown": [
       "\n",
       "A anova: 4 × 6\n",
       "\n",
       "| <!--/--> | Df &lt;dbl&gt; | Sum of Sq &lt;dbl&gt; | RSS &lt;dbl&gt; | AIC &lt;dbl&gt; | F value &lt;dbl&gt; | Pr(&gt;F) &lt;dbl&gt; |\n",
       "|---|---|---|---|---|---|---|\n",
       "| &lt;none&gt; | NA |         NA |  47.97273 | 24.97388 |         NA |           NA |\n",
       "| x4 |  1 |   9.931754 |  57.90448 | 25.41999 |   1.863262 | 2.053954e-01 |\n",
       "| x1 |  1 | 820.907402 | 868.88013 | 60.62933 | 154.007635 | 5.780764e-07 |\n",
       "| x2 |  1 |  26.789383 |  74.76211 | 28.74170 |   5.025865 | 5.168735e-02 |\n",
       "\n"
      ],
      "text/plain": [
       "       Df Sum of Sq  RSS       AIC      F value    Pr(>F)      \n",
       "<none> NA         NA  47.97273 24.97388         NA           NA\n",
       "x4      1   9.931754  57.90448 25.41999   1.863262 2.053954e-01\n",
       "x1      1 820.907402 868.88013 60.62933 154.007635 5.780764e-07\n",
       "x2      1  26.789383  74.76211 28.74170   5.025865 5.168735e-02"
      ]
     },
     "metadata": {},
     "output_type": "display_data"
    }
   ],
   "source": [
    "drop1(m3, test=\"F\") #x4 제거"
   ]
  },
  {
   "cell_type": "markdown",
   "id": "bb1b285c-1cd2-4ab9-b6db-1b227082ad60",
   "metadata": {},
   "source": [
    "> x2를 추가했기 때문에 x2는 보지 않고 x1과 x4만 보면 된다"
   ]
  },
  {
   "cell_type": "code",
   "execution_count": 26,
   "id": "f5b12b82-d64a-409b-80d6-d44653d32fa1",
   "metadata": {},
   "outputs": [
    {
     "data": {
      "text/plain": [
       "\n",
       "Call:\n",
       "lm(formula = y ~ x1 + x2, data = dt)\n",
       "\n",
       "Residuals:\n",
       "   Min     1Q Median     3Q    Max \n",
       "-2.893 -1.574 -1.302  1.363  4.048 \n",
       "\n",
       "Coefficients:\n",
       "            Estimate Std. Error t value Pr(>|t|)    \n",
       "(Intercept) 52.57735    2.28617   23.00 5.46e-10 ***\n",
       "x1           1.46831    0.12130   12.11 2.69e-07 ***\n",
       "x2           0.66225    0.04585   14.44 5.03e-08 ***\n",
       "---\n",
       "Signif. codes:  0 ‘***’ 0.001 ‘**’ 0.01 ‘*’ 0.05 ‘.’ 0.1 ‘ ’ 1\n",
       "\n",
       "Residual standard error: 2.406 on 10 degrees of freedom\n",
       "Multiple R-squared:  0.9787,\tAdjusted R-squared:  0.9744 \n",
       "F-statistic: 229.5 on 2 and 10 DF,  p-value: 4.407e-09\n"
      ]
     },
     "metadata": {},
     "output_type": "display_data"
    }
   ],
   "source": [
    "m4 <- update(m3, ~ . -x4)\n",
    "summary(m4)"
   ]
  },
  {
   "cell_type": "code",
   "execution_count": 27,
   "id": "ca651ed8-3572-478f-add3-766dc59d496b",
   "metadata": {},
   "outputs": [
    {
     "data": {
      "text/html": [
       "<table class=\"dataframe\">\n",
       "<caption>A anova: 3 × 6</caption>\n",
       "<thead>\n",
       "\t<tr><th></th><th scope=col>Df</th><th scope=col>Sum of Sq</th><th scope=col>RSS</th><th scope=col>AIC</th><th scope=col>F value</th><th scope=col>Pr(&gt;F)</th></tr>\n",
       "\t<tr><th></th><th scope=col>&lt;dbl&gt;</th><th scope=col>&lt;dbl&gt;</th><th scope=col>&lt;dbl&gt;</th><th scope=col>&lt;dbl&gt;</th><th scope=col>&lt;dbl&gt;</th><th scope=col>&lt;dbl&gt;</th></tr>\n",
       "</thead>\n",
       "<tbody>\n",
       "\t<tr><th scope=row>&lt;none&gt;</th><td>NA</td><td>      NA</td><td>57.90448</td><td>25.41999</td><td>      NA</td><td>       NA</td></tr>\n",
       "\t<tr><th scope=row>x3</th><td> 1</td><td>9.793869</td><td>48.11061</td><td>25.01120</td><td>1.832128</td><td>0.2088895</td></tr>\n",
       "\t<tr><th scope=row>x4</th><td> 1</td><td>9.931754</td><td>47.97273</td><td>24.97388</td><td>1.863262</td><td>0.2053954</td></tr>\n",
       "</tbody>\n",
       "</table>\n"
      ],
      "text/latex": [
       "A anova: 3 × 6\n",
       "\\begin{tabular}{r|llllll}\n",
       "  & Df & Sum of Sq & RSS & AIC & F value & Pr(>F)\\\\\n",
       "  & <dbl> & <dbl> & <dbl> & <dbl> & <dbl> & <dbl>\\\\\n",
       "\\hline\n",
       "\t<none> & NA &       NA & 57.90448 & 25.41999 &       NA &        NA\\\\\n",
       "\tx3 &  1 & 9.793869 & 48.11061 & 25.01120 & 1.832128 & 0.2088895\\\\\n",
       "\tx4 &  1 & 9.931754 & 47.97273 & 24.97388 & 1.863262 & 0.2053954\\\\\n",
       "\\end{tabular}\n"
      ],
      "text/markdown": [
       "\n",
       "A anova: 3 × 6\n",
       "\n",
       "| <!--/--> | Df &lt;dbl&gt; | Sum of Sq &lt;dbl&gt; | RSS &lt;dbl&gt; | AIC &lt;dbl&gt; | F value &lt;dbl&gt; | Pr(&gt;F) &lt;dbl&gt; |\n",
       "|---|---|---|---|---|---|---|\n",
       "| &lt;none&gt; | NA |       NA | 57.90448 | 25.41999 |       NA |        NA |\n",
       "| x3 |  1 | 9.793869 | 48.11061 | 25.01120 | 1.832128 | 0.2088895 |\n",
       "| x4 |  1 | 9.931754 | 47.97273 | 24.97388 | 1.863262 | 0.2053954 |\n",
       "\n"
      ],
      "text/plain": [
       "       Df Sum of Sq RSS      AIC      F value  Pr(>F)   \n",
       "<none> NA       NA  57.90448 25.41999       NA        NA\n",
       "x3      1 9.793869  48.11061 25.01120 1.832128 0.2088895\n",
       "x4      1 9.931754  47.97273 24.97388 1.863262 0.2053954"
      ]
     },
     "metadata": {},
     "output_type": "display_data"
    }
   ],
   "source": [
    "add1(m4,\n",
    " scope = y ~ x1 + x2 + x3+ x4,\n",
    " test = \"F\") #stop"
   ]
  },
  {
   "cell_type": "markdown",
   "id": "12e0c085-2949-4c15-81b3-28cd6c655d1f",
   "metadata": {},
   "source": [
    "## AIC를 이용한 변수 선택법"
   ]
  },
  {
   "cell_type": "markdown",
   "id": "c10f6929-1f2f-4297-a6b4-094710bd1ef3",
   "metadata": {},
   "source": [
    "- 모델 선택시 AIC가 작은 모델을 선택"
   ]
  },
  {
   "cell_type": "markdown",
   "id": "eb0696e8-b2c3-43b8-80ad-228400998527",
   "metadata": {},
   "source": [
    "### Backward - AIC"
   ]
  },
  {
   "cell_type": "markdown",
   "id": "a3bd6588-472e-4c1a-82a0-dc4b2128eb42",
   "metadata": {},
   "source": [
    "- 후진제거법 AIC로 해보기\n",
    "\n",
    "- step 함수: AIC가 기준임"
   ]
  },
  {
   "cell_type": "code",
   "execution_count": 28,
   "id": "ec8431f8-c807-4d2c-b6b7-1c680c4567b6",
   "metadata": {},
   "outputs": [
    {
     "name": "stdout",
     "output_type": "stream",
     "text": [
      "Start:  AIC=26.94\n",
      "y ~ x1 + x2 + x3 + x4\n",
      "\n",
      "       Df Sum of Sq    RSS    AIC\n",
      "- x3    1    0.1091 47.973 24.974\n",
      "- x4    1    0.2470 48.111 25.011\n",
      "- x2    1    2.9725 50.836 25.728\n",
      "<none>              47.864 26.944\n",
      "- x1    1   25.9509 73.815 30.576\n",
      "\n",
      "Step:  AIC=24.97\n",
      "y ~ x1 + x2 + x4\n",
      "\n",
      "       Df Sum of Sq    RSS    AIC\n",
      "<none>               47.97 24.974\n",
      "- x4    1      9.93  57.90 25.420\n",
      "- x2    1     26.79  74.76 28.742\n",
      "- x1    1    820.91 868.88 60.629\n"
     ]
    },
    {
     "data": {
      "text/plain": [
       "\n",
       "Call:\n",
       "lm(formula = y ~ x1 + x2 + x4, data = dt)\n",
       "\n",
       "Residuals:\n",
       "    Min      1Q  Median      3Q     Max \n",
       "-3.0919 -1.8016  0.2562  1.2818  3.8982 \n",
       "\n",
       "Coefficients:\n",
       "            Estimate Std. Error t value Pr(>|t|)    \n",
       "(Intercept)  71.6483    14.1424   5.066 0.000675 ***\n",
       "x1            1.4519     0.1170  12.410 5.78e-07 ***\n",
       "x2            0.4161     0.1856   2.242 0.051687 .  \n",
       "x4           -0.2365     0.1733  -1.365 0.205395    \n",
       "---\n",
       "Signif. codes:  0 ‘***’ 0.001 ‘**’ 0.01 ‘*’ 0.05 ‘.’ 0.1 ‘ ’ 1\n",
       "\n",
       "Residual standard error: 2.309 on 9 degrees of freedom\n",
       "Multiple R-squared:  0.9823,\tAdjusted R-squared:  0.9764 \n",
       "F-statistic: 166.8 on 3 and 9 DF,  p-value: 3.323e-08\n"
      ]
     },
     "metadata": {},
     "output_type": "display_data"
    }
   ],
   "source": [
    "model_back = step(m, direction = \"backward\")\n",
    "summary(model_back)"
   ]
  },
  {
   "cell_type": "markdown",
   "id": "96c72566-8502-4fab-8c69-313aedbbf982",
   "metadata": {},
   "source": [
    "```R\n",
    "     Df Sum of Sq    RSS    AIC\n",
    "- x3    1    0.1091 47.973 24.974\n",
    "- x4    1    0.2470 48.111 25.011\n",
    "- x2    1    2.9725 50.836 25.728\n",
    "<none>              47.864 26.944\n",
    "- x1    1   25.9509 73.815 30.576\n",
    "```\n",
    "\n",
    "-x3을 뺐을때 aic..\n",
    "-x4을 뺏을때 aic...\n",
    "\n",
    "- AIC가 작으면 작을수록 좋다.그래서 x3빼자\n",
    "\n"
   ]
  },
  {
   "cell_type": "markdown",
   "id": "917ecf2d-7c0d-45d6-bee2-083936a6510b",
   "metadata": {},
   "source": [
    "- x2와 x4가 애매하긴 하지만,, "
   ]
  },
  {
   "cell_type": "markdown",
   "id": "9793ce6e-c097-4ae9-a0ef-c72568dec934",
   "metadata": {},
   "source": [
    "### Forward - AIC"
   ]
  },
  {
   "cell_type": "markdown",
   "id": "3736ab2e-df71-4ab6-bb39-a1abe46fcf24",
   "metadata": {},
   "source": [
    "- 전진선택법"
   ]
  },
  {
   "cell_type": "code",
   "execution_count": 29,
   "id": "e4ce9a36-0f97-46cb-ada8-eeb18bdb5e41",
   "metadata": {},
   "outputs": [
    {
     "name": "stdout",
     "output_type": "stream",
     "text": [
      "Start:  AIC=71.44\n",
      "y ~ 1\n",
      "\n",
      "       Df Sum of Sq     RSS    AIC\n",
      "+ x4    1   1831.90  883.87 58.852\n",
      "+ x2    1   1809.43  906.34 59.178\n",
      "+ x1    1   1450.08 1265.69 63.519\n",
      "+ x3    1    776.36 1939.40 69.067\n",
      "<none>              2715.76 71.444\n",
      "\n",
      "Step:  AIC=58.85\n",
      "y ~ x4\n",
      "\n",
      "       Df Sum of Sq    RSS    AIC\n",
      "+ x1    1    809.10  74.76 28.742\n",
      "+ x3    1    708.13 175.74 39.853\n",
      "<none>              883.87 58.852\n",
      "+ x2    1     14.99 868.88 60.629\n",
      "\n",
      "Step:  AIC=28.74\n",
      "y ~ x4 + x1\n",
      "\n",
      "       Df Sum of Sq    RSS    AIC\n",
      "+ x2    1    26.789 47.973 24.974\n",
      "+ x3    1    23.926 50.836 25.728\n",
      "<none>              74.762 28.742\n",
      "\n",
      "Step:  AIC=24.97\n",
      "y ~ x4 + x1 + x2\n",
      "\n",
      "       Df Sum of Sq    RSS    AIC\n",
      "<none>              47.973 24.974\n",
      "+ x3    1   0.10909 47.864 26.944\n"
     ]
    },
    {
     "data": {
      "text/plain": [
       "\n",
       "Call:\n",
       "lm(formula = y ~ x4 + x1 + x2, data = dt)\n",
       "\n",
       "Residuals:\n",
       "    Min      1Q  Median      3Q     Max \n",
       "-3.0919 -1.8016  0.2562  1.2818  3.8982 \n",
       "\n",
       "Coefficients:\n",
       "            Estimate Std. Error t value Pr(>|t|)    \n",
       "(Intercept)  71.6483    14.1424   5.066 0.000675 ***\n",
       "x4           -0.2365     0.1733  -1.365 0.205395    \n",
       "x1            1.4519     0.1170  12.410 5.78e-07 ***\n",
       "x2            0.4161     0.1856   2.242 0.051687 .  \n",
       "---\n",
       "Signif. codes:  0 ‘***’ 0.001 ‘**’ 0.01 ‘*’ 0.05 ‘.’ 0.1 ‘ ’ 1\n",
       "\n",
       "Residual standard error: 2.309 on 9 degrees of freedom\n",
       "Multiple R-squared:  0.9823,\tAdjusted R-squared:  0.9764 \n",
       "F-statistic: 166.8 on 3 and 9 DF,  p-value: 3.323e-08\n"
      ]
     },
     "metadata": {},
     "output_type": "display_data"
    }
   ],
   "source": [
    "model_forward = step(\n",
    " m0,\n",
    " scope = y ~ x1 + x2 + x3+ x4,\n",
    " direction = \"forward\")\n",
    "summary(model_forward)"
   ]
  },
  {
   "cell_type": "markdown",
   "id": "60625e7c-85a9-46cc-878c-768f64f46785",
   "metadata": {},
   "source": [
    "### Step - AIC"
   ]
  },
  {
   "cell_type": "code",
   "execution_count": 30,
   "id": "3b6c77e6-f7bd-4841-bb63-5b33c0deecae",
   "metadata": {},
   "outputs": [
    {
     "name": "stdout",
     "output_type": "stream",
     "text": [
      "Start:  AIC=71.44\n",
      "y ~ 1\n",
      "\n",
      "       Df Sum of Sq     RSS    AIC\n",
      "+ x4    1   1831.90  883.87 58.852\n",
      "+ x2    1   1809.43  906.34 59.178\n",
      "+ x1    1   1450.08 1265.69 63.519\n",
      "+ x3    1    776.36 1939.40 69.067\n",
      "<none>              2715.76 71.444\n",
      "\n",
      "Step:  AIC=58.85\n",
      "y ~ x4\n",
      "\n",
      "       Df Sum of Sq     RSS    AIC\n",
      "+ x1    1    809.10   74.76 28.742\n",
      "+ x3    1    708.13  175.74 39.853\n",
      "<none>               883.87 58.852\n",
      "+ x2    1     14.99  868.88 60.629\n",
      "- x4    1   1831.90 2715.76 71.444\n",
      "\n",
      "Step:  AIC=28.74\n",
      "y ~ x4 + x1\n",
      "\n",
      "       Df Sum of Sq     RSS    AIC\n",
      "+ x2    1     26.79   47.97 24.974\n",
      "+ x3    1     23.93   50.84 25.728\n",
      "<none>                74.76 28.742\n",
      "- x1    1    809.10  883.87 58.852\n",
      "- x4    1   1190.92 1265.69 63.519\n",
      "\n",
      "Step:  AIC=24.97\n",
      "y ~ x4 + x1 + x2\n",
      "\n",
      "       Df Sum of Sq    RSS    AIC\n",
      "<none>               47.97 24.974\n",
      "- x4    1      9.93  57.90 25.420\n",
      "+ x3    1      0.11  47.86 26.944\n",
      "- x2    1     26.79  74.76 28.742\n",
      "- x1    1    820.91 868.88 60.629\n"
     ]
    },
    {
     "data": {
      "text/plain": [
       "\n",
       "Call:\n",
       "lm(formula = y ~ x4 + x1 + x2, data = dt)\n",
       "\n",
       "Residuals:\n",
       "    Min      1Q  Median      3Q     Max \n",
       "-3.0919 -1.8016  0.2562  1.2818  3.8982 \n",
       "\n",
       "Coefficients:\n",
       "            Estimate Std. Error t value Pr(>|t|)    \n",
       "(Intercept)  71.6483    14.1424   5.066 0.000675 ***\n",
       "x4           -0.2365     0.1733  -1.365 0.205395    \n",
       "x1            1.4519     0.1170  12.410 5.78e-07 ***\n",
       "x2            0.4161     0.1856   2.242 0.051687 .  \n",
       "---\n",
       "Signif. codes:  0 ‘***’ 0.001 ‘**’ 0.01 ‘*’ 0.05 ‘.’ 0.1 ‘ ’ 1\n",
       "\n",
       "Residual standard error: 2.309 on 9 degrees of freedom\n",
       "Multiple R-squared:  0.9823,\tAdjusted R-squared:  0.9764 \n",
       "F-statistic: 166.8 on 3 and 9 DF,  p-value: 3.323e-08\n"
      ]
     },
     "metadata": {},
     "output_type": "display_data"
    }
   ],
   "source": [
    "model_step = step(\n",
    " m0,\n",
    " scope = y ~ x1 + x2 + x3+ x4,\n",
    " direction = \"both\")\n",
    "summary(model_step)"
   ]
  },
  {
   "cell_type": "markdown",
   "id": "e7472205-6546-4b90-ac04-d31768c46bce",
   "metadata": {},
   "source": [
    "- 추가하는거랑 빼는거랑 동시에 진행"
   ]
  },
  {
   "cell_type": "markdown",
   "id": "f41a2210-ad3b-4b52-a353-31150c966baf",
   "metadata": {},
   "source": [
    "## regsubsets"
   ]
  },
  {
   "cell_type": "code",
   "execution_count": 50,
   "id": "d93e8179-93fc-43d1-99e8-55b4a3180201",
   "metadata": {},
   "outputs": [
    {
     "data": {
      "text/plain": [
       "\n",
       "Call:\n",
       "lm(formula = y ~ ., data = dt)\n",
       "\n",
       "Residuals:\n",
       "    Min      1Q  Median      3Q     Max \n",
       "-3.1750 -1.6709  0.2508  1.3783  3.9254 \n",
       "\n",
       "Coefficients:\n",
       "            Estimate Std. Error t value Pr(>|t|)  \n",
       "(Intercept)  62.4054    70.0710   0.891   0.3991  \n",
       "x1            1.5511     0.7448   2.083   0.0708 .\n",
       "x2            0.5102     0.7238   0.705   0.5009  \n",
       "x3            0.1019     0.7547   0.135   0.8959  \n",
       "x4           -0.1441     0.7091  -0.203   0.8441  \n",
       "---\n",
       "Signif. codes:  0 ‘***’ 0.001 ‘**’ 0.01 ‘*’ 0.05 ‘.’ 0.1 ‘ ’ 1\n",
       "\n",
       "Residual standard error: 2.446 on 8 degrees of freedom\n",
       "Multiple R-squared:  0.9824,\tAdjusted R-squared:  0.9736 \n",
       "F-statistic: 111.5 on 4 and 8 DF,  p-value: 4.756e-07\n"
      ]
     },
     "metadata": {},
     "output_type": "display_data"
    }
   ],
   "source": [
    "m_full <-lm(y~.,dt)\n",
    "summary(m_full)"
   ]
  },
  {
   "cell_type": "markdown",
   "id": "d9a3b758-5ddf-4f79-b8ad-47290ec9fd9a",
   "metadata": {},
   "source": [
    "### nbest=1"
   ]
  },
  {
   "cell_type": "code",
   "execution_count": 52,
   "id": "5396efa5-4ae3-44a7-99a8-521d2a128277",
   "metadata": {},
   "outputs": [],
   "source": [
    "fit <- regsubsets(y~., data=dt, nbest=1, nvmax=9, method='exhaustive',)"
   ]
  },
  {
   "cell_type": "code",
   "execution_count": 53,
   "id": "cda25286-bbab-4014-b89c-a8972235639d",
   "metadata": {},
   "outputs": [
    {
     "data": {
      "text/plain": [
       "Subset selection object\n",
       "Call: regsubsets.formula(y ~ ., data = dt, nbest = 1, nvmax = 9, method = \"exhaustive\", \n",
       "    )\n",
       "4 Variables  (and intercept)\n",
       "   Forced in Forced out\n",
       "x1     FALSE      FALSE\n",
       "x2     FALSE      FALSE\n",
       "x3     FALSE      FALSE\n",
       "x4     FALSE      FALSE\n",
       "1 subsets of each size up to 4\n",
       "Selection Algorithm: exhaustive\n",
       "         x1  x2  x3  x4 \n",
       "1  ( 1 ) \" \" \" \" \" \" \"*\"\n",
       "2  ( 1 ) \"*\" \"*\" \" \" \" \"\n",
       "3  ( 1 ) \"*\" \"*\" \" \" \"*\"\n",
       "4  ( 1 ) \"*\" \"*\" \"*\" \"*\""
      ]
     },
     "metadata": {},
     "output_type": "display_data"
    }
   ],
   "source": [
    "summary(fit)"
   ]
  },
  {
   "cell_type": "markdown",
   "id": "9cdcb535-7385-4ea7-88fb-e79b2a51400b",
   "metadata": {},
   "source": [
    "- 설명변수 1개, 2개, 3개 , 4개썼을때 제일 좋은 모형을 불러와 :nbest=1"
   ]
  },
  {
   "cell_type": "code",
   "execution_count": 54,
   "id": "43757d10-bf23-4ba6-ae84-54edd72f5e5b",
   "metadata": {},
   "outputs": [
    {
     "data": {
      "text/html": [
       "<table class=\"dataframe\">\n",
       "<caption>A matrix: 4 × 10 of type dbl</caption>\n",
       "<thead>\n",
       "\t<tr><th></th><th scope=col>(Intercept)</th><th scope=col>x1</th><th scope=col>x2</th><th scope=col>x3</th><th scope=col>x4</th><th scope=col>rss</th><th scope=col>rsq</th><th scope=col>adjr2</th><th scope=col>cp</th><th scope=col>bic</th></tr>\n",
       "</thead>\n",
       "<tbody>\n",
       "\t<tr><th scope=row>1</th><td>1</td><td>0</td><td>0</td><td>0</td><td>1</td><td>883.867</td><td>0.675</td><td>0.645</td><td>138.731</td><td> -9.463</td></tr>\n",
       "\t<tr><th scope=row>2</th><td>1</td><td>1</td><td>1</td><td>0</td><td>0</td><td> 57.904</td><td>0.979</td><td>0.974</td><td>  2.678</td><td>-42.330</td></tr>\n",
       "\t<tr><th scope=row>3</th><td>1</td><td>1</td><td>1</td><td>0</td><td>1</td><td> 47.973</td><td>0.982</td><td>0.976</td><td>  3.018</td><td>-42.211</td></tr>\n",
       "\t<tr><th scope=row>4</th><td>1</td><td>1</td><td>1</td><td>1</td><td>1</td><td> 47.864</td><td>0.982</td><td>0.974</td><td>  5.000</td><td>-39.675</td></tr>\n",
       "</tbody>\n",
       "</table>\n"
      ],
      "text/latex": [
       "A matrix: 4 × 10 of type dbl\n",
       "\\begin{tabular}{r|llllllllll}\n",
       "  & (Intercept) & x1 & x2 & x3 & x4 & rss & rsq & adjr2 & cp & bic\\\\\n",
       "\\hline\n",
       "\t1 & 1 & 0 & 0 & 0 & 1 & 883.867 & 0.675 & 0.645 & 138.731 &  -9.463\\\\\n",
       "\t2 & 1 & 1 & 1 & 0 & 0 &  57.904 & 0.979 & 0.974 &   2.678 & -42.330\\\\\n",
       "\t3 & 1 & 1 & 1 & 0 & 1 &  47.973 & 0.982 & 0.976 &   3.018 & -42.211\\\\\n",
       "\t4 & 1 & 1 & 1 & 1 & 1 &  47.864 & 0.982 & 0.974 &   5.000 & -39.675\\\\\n",
       "\\end{tabular}\n"
      ],
      "text/markdown": [
       "\n",
       "A matrix: 4 × 10 of type dbl\n",
       "\n",
       "| <!--/--> | (Intercept) | x1 | x2 | x3 | x4 | rss | rsq | adjr2 | cp | bic |\n",
       "|---|---|---|---|---|---|---|---|---|---|---|\n",
       "| 1 | 1 | 0 | 0 | 0 | 1 | 883.867 | 0.675 | 0.645 | 138.731 |  -9.463 |\n",
       "| 2 | 1 | 1 | 1 | 0 | 0 |  57.904 | 0.979 | 0.974 |   2.678 | -42.330 |\n",
       "| 3 | 1 | 1 | 1 | 0 | 1 |  47.973 | 0.982 | 0.976 |   3.018 | -42.211 |\n",
       "| 4 | 1 | 1 | 1 | 1 | 1 |  47.864 | 0.982 | 0.974 |   5.000 | -39.675 |\n",
       "\n"
      ],
      "text/plain": [
       "  (Intercept) x1 x2 x3 x4 rss     rsq   adjr2 cp      bic    \n",
       "1 1           0  0  0  1  883.867 0.675 0.645 138.731  -9.463\n",
       "2 1           1  1  0  0   57.904 0.979 0.974   2.678 -42.330\n",
       "3 1           1  1  0  1   47.973 0.982 0.976   3.018 -42.211\n",
       "4 1           1  1  1  1   47.864 0.982 0.974   5.000 -39.675"
      ]
     },
     "metadata": {},
     "output_type": "display_data"
    }
   ],
   "source": [
    "with(summary(fit), round(cbind(which,rss,rsq,adjr2,cp,bic),3))"
   ]
  },
  {
   "cell_type": "markdown",
   "id": "063779cc-3e06-46a1-8506-95b2190c3e92",
   "metadata": {},
   "source": [
    "### nbest=2"
   ]
  },
  {
   "cell_type": "code",
   "execution_count": 55,
   "id": "610fcc39-e05f-4ce7-b888-ef1b11073e78",
   "metadata": {},
   "outputs": [],
   "source": [
    "fit <- regsubsets(y~., data=dt, nbest=2, nvmax=9, method='exhaustive',)"
   ]
  },
  {
   "cell_type": "code",
   "execution_count": 56,
   "id": "c1d43ea5-4667-4aa7-9f46-dc95a33f850c",
   "metadata": {},
   "outputs": [
    {
     "data": {
      "text/plain": [
       "Subset selection object\n",
       "Call: regsubsets.formula(y ~ ., data = dt, nbest = 2, nvmax = 9, method = \"exhaustive\", \n",
       "    )\n",
       "4 Variables  (and intercept)\n",
       "   Forced in Forced out\n",
       "x1     FALSE      FALSE\n",
       "x2     FALSE      FALSE\n",
       "x3     FALSE      FALSE\n",
       "x4     FALSE      FALSE\n",
       "2 subsets of each size up to 4\n",
       "Selection Algorithm: exhaustive\n",
       "         x1  x2  x3  x4 \n",
       "1  ( 1 ) \" \" \" \" \" \" \"*\"\n",
       "1  ( 2 ) \" \" \"*\" \" \" \" \"\n",
       "2  ( 1 ) \"*\" \"*\" \" \" \" \"\n",
       "2  ( 2 ) \"*\" \" \" \" \" \"*\"\n",
       "3  ( 1 ) \"*\" \"*\" \" \" \"*\"\n",
       "3  ( 2 ) \"*\" \"*\" \"*\" \" \"\n",
       "4  ( 1 ) \"*\" \"*\" \"*\" \"*\""
      ]
     },
     "metadata": {},
     "output_type": "display_data"
    }
   ],
   "source": [
    "summary(fit)"
   ]
  },
  {
   "cell_type": "markdown",
   "id": "4da3dabc-2b71-4bf8-a24d-3a2c8854e88e",
   "metadata": {},
   "source": [
    "- 좋았던걸 2개씩 리턴"
   ]
  },
  {
   "cell_type": "markdown",
   "id": "beb73dd1-a06c-4e49-8415-33fd07e63ddd",
   "metadata": {},
   "source": [
    "### nbest=6"
   ]
  },
  {
   "cell_type": "code",
   "execution_count": 57,
   "id": "57efccb4-d485-4a3b-adfa-f9cfe1b3ecca",
   "metadata": {},
   "outputs": [
    {
     "data": {
      "text/plain": [
       "Subset selection object\n",
       "Call: regsubsets.formula(y ~ ., data = dt, nbest = 6, nvmax = 9, method = \"exhaustive\", \n",
       "    )\n",
       "4 Variables  (and intercept)\n",
       "   Forced in Forced out\n",
       "x1     FALSE      FALSE\n",
       "x2     FALSE      FALSE\n",
       "x3     FALSE      FALSE\n",
       "x4     FALSE      FALSE\n",
       "6 subsets of each size up to 4\n",
       "Selection Algorithm: exhaustive\n",
       "         x1  x2  x3  x4 \n",
       "1  ( 1 ) \" \" \" \" \" \" \"*\"\n",
       "1  ( 2 ) \" \" \"*\" \" \" \" \"\n",
       "1  ( 3 ) \"*\" \" \" \" \" \" \"\n",
       "1  ( 4 ) \" \" \" \" \"*\" \" \"\n",
       "2  ( 1 ) \"*\" \"*\" \" \" \" \"\n",
       "2  ( 2 ) \"*\" \" \" \" \" \"*\"\n",
       "2  ( 3 ) \" \" \" \" \"*\" \"*\"\n",
       "2  ( 4 ) \" \" \"*\" \"*\" \" \"\n",
       "2  ( 5 ) \" \" \"*\" \" \" \"*\"\n",
       "2  ( 6 ) \"*\" \" \" \"*\" \" \"\n",
       "3  ( 1 ) \"*\" \"*\" \" \" \"*\"\n",
       "3  ( 2 ) \"*\" \"*\" \"*\" \" \"\n",
       "3  ( 3 ) \"*\" \" \" \"*\" \"*\"\n",
       "3  ( 4 ) \" \" \"*\" \"*\" \"*\"\n",
       "4  ( 1 ) \"*\" \"*\" \"*\" \"*\""
      ]
     },
     "metadata": {},
     "output_type": "display_data"
    }
   ],
   "source": [
    "fit <- regsubsets(y~., data=dt, nbest=6, nvmax=9, method='exhaustive',)\n",
    "summary(fit)"
   ]
  },
  {
   "cell_type": "code",
   "execution_count": 58,
   "id": "16311109-aab4-4fad-9812-f8c58b908ecd",
   "metadata": {},
   "outputs": [
    {
     "data": {
      "text/html": [
       "<table class=\"dataframe\">\n",
       "<caption>A matrix: 15 × 10 of type dbl</caption>\n",
       "<thead>\n",
       "\t<tr><th></th><th scope=col>(Intercept)</th><th scope=col>x1</th><th scope=col>x2</th><th scope=col>x3</th><th scope=col>x4</th><th scope=col>rss</th><th scope=col>rsq</th><th scope=col>adjr2</th><th scope=col>cp</th><th scope=col>bic</th></tr>\n",
       "</thead>\n",
       "<tbody>\n",
       "\t<tr><th scope=row>1</th><td>1</td><td>0</td><td>0</td><td>0</td><td>1</td><td> 883.867</td><td>0.675</td><td>0.645</td><td>138.731</td><td> -9.463</td></tr>\n",
       "\t<tr><th scope=row>1</th><td>1</td><td>0</td><td>1</td><td>0</td><td>0</td><td> 906.336</td><td>0.666</td><td>0.636</td><td>142.486</td><td> -9.137</td></tr>\n",
       "\t<tr><th scope=row>1</th><td>1</td><td>1</td><td>0</td><td>0</td><td>0</td><td>1265.687</td><td>0.534</td><td>0.492</td><td>202.549</td><td> -4.795</td></tr>\n",
       "\t<tr><th scope=row>1</th><td>1</td><td>0</td><td>0</td><td>1</td><td>0</td><td>1939.400</td><td>0.286</td><td>0.221</td><td>315.154</td><td>  0.753</td></tr>\n",
       "\t<tr><th scope=row>2</th><td>1</td><td>1</td><td>1</td><td>0</td><td>0</td><td>  57.904</td><td>0.979</td><td>0.974</td><td>  2.678</td><td>-42.330</td></tr>\n",
       "\t<tr><th scope=row>2</th><td>1</td><td>1</td><td>0</td><td>0</td><td>1</td><td>  74.762</td><td>0.972</td><td>0.967</td><td>  5.496</td><td>-39.008</td></tr>\n",
       "\t<tr><th scope=row>2</th><td>1</td><td>0</td><td>0</td><td>1</td><td>1</td><td> 175.738</td><td>0.935</td><td>0.922</td><td> 22.373</td><td>-27.897</td></tr>\n",
       "\t<tr><th scope=row>2</th><td>1</td><td>0</td><td>1</td><td>1</td><td>0</td><td> 415.443</td><td>0.847</td><td>0.816</td><td> 62.438</td><td>-16.712</td></tr>\n",
       "\t<tr><th scope=row>2</th><td>1</td><td>0</td><td>1</td><td>0</td><td>1</td><td> 868.880</td><td>0.680</td><td>0.616</td><td>138.226</td><td> -7.120</td></tr>\n",
       "\t<tr><th scope=row>2</th><td>1</td><td>1</td><td>0</td><td>1</td><td>0</td><td>1227.072</td><td>0.548</td><td>0.458</td><td>198.095</td><td> -2.633</td></tr>\n",
       "\t<tr><th scope=row>3</th><td>1</td><td>1</td><td>1</td><td>0</td><td>1</td><td>  47.973</td><td>0.982</td><td>0.976</td><td>  3.018</td><td>-42.211</td></tr>\n",
       "\t<tr><th scope=row>3</th><td>1</td><td>1</td><td>1</td><td>1</td><td>0</td><td>  48.111</td><td>0.982</td><td>0.976</td><td>  3.041</td><td>-42.173</td></tr>\n",
       "\t<tr><th scope=row>3</th><td>1</td><td>1</td><td>0</td><td>1</td><td>1</td><td>  50.836</td><td>0.981</td><td>0.975</td><td>  3.497</td><td>-41.457</td></tr>\n",
       "\t<tr><th scope=row>3</th><td>1</td><td>0</td><td>1</td><td>1</td><td>1</td><td>  73.815</td><td>0.973</td><td>0.964</td><td>  7.337</td><td>-36.609</td></tr>\n",
       "\t<tr><th scope=row>4</th><td>1</td><td>1</td><td>1</td><td>1</td><td>1</td><td>  47.864</td><td>0.982</td><td>0.974</td><td>  5.000</td><td>-39.675</td></tr>\n",
       "</tbody>\n",
       "</table>\n"
      ],
      "text/latex": [
       "A matrix: 15 × 10 of type dbl\n",
       "\\begin{tabular}{r|llllllllll}\n",
       "  & (Intercept) & x1 & x2 & x3 & x4 & rss & rsq & adjr2 & cp & bic\\\\\n",
       "\\hline\n",
       "\t1 & 1 & 0 & 0 & 0 & 1 &  883.867 & 0.675 & 0.645 & 138.731 &  -9.463\\\\\n",
       "\t1 & 1 & 0 & 1 & 0 & 0 &  906.336 & 0.666 & 0.636 & 142.486 &  -9.137\\\\\n",
       "\t1 & 1 & 1 & 0 & 0 & 0 & 1265.687 & 0.534 & 0.492 & 202.549 &  -4.795\\\\\n",
       "\t1 & 1 & 0 & 0 & 1 & 0 & 1939.400 & 0.286 & 0.221 & 315.154 &   0.753\\\\\n",
       "\t2 & 1 & 1 & 1 & 0 & 0 &   57.904 & 0.979 & 0.974 &   2.678 & -42.330\\\\\n",
       "\t2 & 1 & 1 & 0 & 0 & 1 &   74.762 & 0.972 & 0.967 &   5.496 & -39.008\\\\\n",
       "\t2 & 1 & 0 & 0 & 1 & 1 &  175.738 & 0.935 & 0.922 &  22.373 & -27.897\\\\\n",
       "\t2 & 1 & 0 & 1 & 1 & 0 &  415.443 & 0.847 & 0.816 &  62.438 & -16.712\\\\\n",
       "\t2 & 1 & 0 & 1 & 0 & 1 &  868.880 & 0.680 & 0.616 & 138.226 &  -7.120\\\\\n",
       "\t2 & 1 & 1 & 0 & 1 & 0 & 1227.072 & 0.548 & 0.458 & 198.095 &  -2.633\\\\\n",
       "\t3 & 1 & 1 & 1 & 0 & 1 &   47.973 & 0.982 & 0.976 &   3.018 & -42.211\\\\\n",
       "\t3 & 1 & 1 & 1 & 1 & 0 &   48.111 & 0.982 & 0.976 &   3.041 & -42.173\\\\\n",
       "\t3 & 1 & 1 & 0 & 1 & 1 &   50.836 & 0.981 & 0.975 &   3.497 & -41.457\\\\\n",
       "\t3 & 1 & 0 & 1 & 1 & 1 &   73.815 & 0.973 & 0.964 &   7.337 & -36.609\\\\\n",
       "\t4 & 1 & 1 & 1 & 1 & 1 &   47.864 & 0.982 & 0.974 &   5.000 & -39.675\\\\\n",
       "\\end{tabular}\n"
      ],
      "text/markdown": [
       "\n",
       "A matrix: 15 × 10 of type dbl\n",
       "\n",
       "| <!--/--> | (Intercept) | x1 | x2 | x3 | x4 | rss | rsq | adjr2 | cp | bic |\n",
       "|---|---|---|---|---|---|---|---|---|---|---|\n",
       "| 1 | 1 | 0 | 0 | 0 | 1 |  883.867 | 0.675 | 0.645 | 138.731 |  -9.463 |\n",
       "| 1 | 1 | 0 | 1 | 0 | 0 |  906.336 | 0.666 | 0.636 | 142.486 |  -9.137 |\n",
       "| 1 | 1 | 1 | 0 | 0 | 0 | 1265.687 | 0.534 | 0.492 | 202.549 |  -4.795 |\n",
       "| 1 | 1 | 0 | 0 | 1 | 0 | 1939.400 | 0.286 | 0.221 | 315.154 |   0.753 |\n",
       "| 2 | 1 | 1 | 1 | 0 | 0 |   57.904 | 0.979 | 0.974 |   2.678 | -42.330 |\n",
       "| 2 | 1 | 1 | 0 | 0 | 1 |   74.762 | 0.972 | 0.967 |   5.496 | -39.008 |\n",
       "| 2 | 1 | 0 | 0 | 1 | 1 |  175.738 | 0.935 | 0.922 |  22.373 | -27.897 |\n",
       "| 2 | 1 | 0 | 1 | 1 | 0 |  415.443 | 0.847 | 0.816 |  62.438 | -16.712 |\n",
       "| 2 | 1 | 0 | 1 | 0 | 1 |  868.880 | 0.680 | 0.616 | 138.226 |  -7.120 |\n",
       "| 2 | 1 | 1 | 0 | 1 | 0 | 1227.072 | 0.548 | 0.458 | 198.095 |  -2.633 |\n",
       "| 3 | 1 | 1 | 1 | 0 | 1 |   47.973 | 0.982 | 0.976 |   3.018 | -42.211 |\n",
       "| 3 | 1 | 1 | 1 | 1 | 0 |   48.111 | 0.982 | 0.976 |   3.041 | -42.173 |\n",
       "| 3 | 1 | 1 | 0 | 1 | 1 |   50.836 | 0.981 | 0.975 |   3.497 | -41.457 |\n",
       "| 3 | 1 | 0 | 1 | 1 | 1 |   73.815 | 0.973 | 0.964 |   7.337 | -36.609 |\n",
       "| 4 | 1 | 1 | 1 | 1 | 1 |   47.864 | 0.982 | 0.974 |   5.000 | -39.675 |\n",
       "\n"
      ],
      "text/plain": [
       "  (Intercept) x1 x2 x3 x4 rss      rsq   adjr2 cp      bic    \n",
       "1 1           0  0  0  1   883.867 0.675 0.645 138.731  -9.463\n",
       "1 1           0  1  0  0   906.336 0.666 0.636 142.486  -9.137\n",
       "1 1           1  0  0  0  1265.687 0.534 0.492 202.549  -4.795\n",
       "1 1           0  0  1  0  1939.400 0.286 0.221 315.154   0.753\n",
       "2 1           1  1  0  0    57.904 0.979 0.974   2.678 -42.330\n",
       "2 1           1  0  0  1    74.762 0.972 0.967   5.496 -39.008\n",
       "2 1           0  0  1  1   175.738 0.935 0.922  22.373 -27.897\n",
       "2 1           0  1  1  0   415.443 0.847 0.816  62.438 -16.712\n",
       "2 1           0  1  0  1   868.880 0.680 0.616 138.226  -7.120\n",
       "2 1           1  0  1  0  1227.072 0.548 0.458 198.095  -2.633\n",
       "3 1           1  1  0  1    47.973 0.982 0.976   3.018 -42.211\n",
       "3 1           1  1  1  0    48.111 0.982 0.976   3.041 -42.173\n",
       "3 1           1  0  1  1    50.836 0.981 0.975   3.497 -41.457\n",
       "3 1           0  1  1  1    73.815 0.973 0.964   7.337 -36.609\n",
       "4 1           1  1  1  1    47.864 0.982 0.974   5.000 -39.675"
      ]
     },
     "metadata": {},
     "output_type": "display_data"
    }
   ],
   "source": [
    "with(summary(fit), round(cbind(which,rss,rsq,adjr2,cp,bic),3))"
   ]
  },
  {
   "cell_type": "markdown",
   "id": "16322744-1362-4cc5-beca-900e596f9585",
   "metadata": {},
   "source": [
    "### nvmax=2"
   ]
  },
  {
   "cell_type": "markdown",
   "id": "650a181c-d244-4d25-9fa7-6b23d933ff54",
   "metadata": {},
   "source": [
    "- 설명변수 최대 2개까지만"
   ]
  },
  {
   "cell_type": "code",
   "execution_count": 59,
   "id": "d15627c9-787c-4cc8-9c2f-850204c40754",
   "metadata": {},
   "outputs": [
    {
     "data": {
      "text/plain": [
       "Subset selection object\n",
       "Call: regsubsets.formula(y ~ ., data = dt, nbest = 6, nvmax = 2, method = \"exhaustive\", \n",
       "    )\n",
       "4 Variables  (and intercept)\n",
       "   Forced in Forced out\n",
       "x1     FALSE      FALSE\n",
       "x2     FALSE      FALSE\n",
       "x3     FALSE      FALSE\n",
       "x4     FALSE      FALSE\n",
       "6 subsets of each size up to 2\n",
       "Selection Algorithm: exhaustive\n",
       "         x1  x2  x3  x4 \n",
       "1  ( 1 ) \" \" \" \" \" \" \"*\"\n",
       "1  ( 2 ) \" \" \"*\" \" \" \" \"\n",
       "1  ( 3 ) \"*\" \" \" \" \" \" \"\n",
       "1  ( 4 ) \" \" \" \" \"*\" \" \"\n",
       "2  ( 1 ) \"*\" \"*\" \" \" \" \"\n",
       "2  ( 2 ) \"*\" \" \" \" \" \"*\"\n",
       "2  ( 3 ) \" \" \" \" \"*\" \"*\"\n",
       "2  ( 4 ) \" \" \"*\" \"*\" \" \"\n",
       "2  ( 5 ) \" \" \"*\" \" \" \"*\"\n",
       "2  ( 6 ) \"*\" \" \" \"*\" \" \""
      ]
     },
     "metadata": {},
     "output_type": "display_data"
    }
   ],
   "source": [
    "fit <- regsubsets(y~., data=dt, nbest=6, nvmax=2, method='exhaustive',)\n",
    "summary(fit)"
   ]
  },
  {
   "cell_type": "markdown",
   "id": "14680805-2ac8-4e0b-a853-e42c15e75e39",
   "metadata": {},
   "source": [
    "# 자동차 연비 자료 분석"
   ]
  },
  {
   "cell_type": "code",
   "execution_count": 34,
   "id": "4fc7adca-da5c-40cc-9157-895d9e79ca56",
   "metadata": {},
   "outputs": [
    {
     "name": "stdout",
     "output_type": "stream",
     "text": [
      "'data.frame':\t32 obs. of  11 variables:\n",
      " $ mpg : num  21 21 22.8 21.4 18.7 18.1 14.3 24.4 22.8 19.2 ...\n",
      " $ cyl : num  6 6 4 6 8 6 8 4 4 6 ...\n",
      " $ disp: num  160 160 108 258 360 ...\n",
      " $ hp  : num  110 110 93 110 175 105 245 62 95 123 ...\n",
      " $ drat: num  3.9 3.9 3.85 3.08 3.15 2.76 3.21 3.69 3.92 3.92 ...\n",
      " $ wt  : num  2.62 2.88 2.32 3.21 3.44 ...\n",
      " $ qsec: num  16.5 17 18.6 19.4 17 ...\n",
      " $ vs  : num  0 0 1 1 0 1 0 1 1 1 ...\n",
      " $ am  : num  1 1 1 0 0 0 0 0 0 0 ...\n",
      " $ gear: num  4 4 4 3 3 3 3 4 4 4 ...\n",
      " $ carb: num  4 4 1 1 2 1 4 2 2 4 ...\n"
     ]
    }
   ],
   "source": [
    "str(mtcars)"
   ]
  },
  {
   "cell_type": "code",
   "execution_count": 35,
   "id": "edab0890-27fe-4bcf-8a53-20863def2110",
   "metadata": {},
   "outputs": [
    {
     "data": {
      "text/html": [
       "<table class=\"dataframe\">\n",
       "<caption>A matrix: 11 × 11 of type dbl</caption>\n",
       "<thead>\n",
       "\t<tr><th></th><th scope=col>mpg</th><th scope=col>cyl</th><th scope=col>disp</th><th scope=col>hp</th><th scope=col>drat</th><th scope=col>wt</th><th scope=col>qsec</th><th scope=col>vs</th><th scope=col>am</th><th scope=col>gear</th><th scope=col>carb</th></tr>\n",
       "</thead>\n",
       "<tbody>\n",
       "\t<tr><th scope=row>mpg</th><td> 1.00</td><td>-0.85</td><td>-0.85</td><td>-0.78</td><td> 0.68</td><td>-0.87</td><td> 0.42</td><td> 0.66</td><td> 0.60</td><td> 0.48</td><td>-0.55</td></tr>\n",
       "\t<tr><th scope=row>cyl</th><td>-0.85</td><td> 1.00</td><td> 0.90</td><td> 0.83</td><td>-0.70</td><td> 0.78</td><td>-0.59</td><td>-0.81</td><td>-0.52</td><td>-0.49</td><td> 0.53</td></tr>\n",
       "\t<tr><th scope=row>disp</th><td>-0.85</td><td> 0.90</td><td> 1.00</td><td> 0.79</td><td>-0.71</td><td> 0.89</td><td>-0.43</td><td>-0.71</td><td>-0.59</td><td>-0.56</td><td> 0.39</td></tr>\n",
       "\t<tr><th scope=row>hp</th><td>-0.78</td><td> 0.83</td><td> 0.79</td><td> 1.00</td><td>-0.45</td><td> 0.66</td><td>-0.71</td><td>-0.72</td><td>-0.24</td><td>-0.13</td><td> 0.75</td></tr>\n",
       "\t<tr><th scope=row>drat</th><td> 0.68</td><td>-0.70</td><td>-0.71</td><td>-0.45</td><td> 1.00</td><td>-0.71</td><td> 0.09</td><td> 0.44</td><td> 0.71</td><td> 0.70</td><td>-0.09</td></tr>\n",
       "\t<tr><th scope=row>wt</th><td>-0.87</td><td> 0.78</td><td> 0.89</td><td> 0.66</td><td>-0.71</td><td> 1.00</td><td>-0.17</td><td>-0.55</td><td>-0.69</td><td>-0.58</td><td> 0.43</td></tr>\n",
       "\t<tr><th scope=row>qsec</th><td> 0.42</td><td>-0.59</td><td>-0.43</td><td>-0.71</td><td> 0.09</td><td>-0.17</td><td> 1.00</td><td> 0.74</td><td>-0.23</td><td>-0.21</td><td>-0.66</td></tr>\n",
       "\t<tr><th scope=row>vs</th><td> 0.66</td><td>-0.81</td><td>-0.71</td><td>-0.72</td><td> 0.44</td><td>-0.55</td><td> 0.74</td><td> 1.00</td><td> 0.17</td><td> 0.21</td><td>-0.57</td></tr>\n",
       "\t<tr><th scope=row>am</th><td> 0.60</td><td>-0.52</td><td>-0.59</td><td>-0.24</td><td> 0.71</td><td>-0.69</td><td>-0.23</td><td> 0.17</td><td> 1.00</td><td> 0.79</td><td> 0.06</td></tr>\n",
       "\t<tr><th scope=row>gear</th><td> 0.48</td><td>-0.49</td><td>-0.56</td><td>-0.13</td><td> 0.70</td><td>-0.58</td><td>-0.21</td><td> 0.21</td><td> 0.79</td><td> 1.00</td><td> 0.27</td></tr>\n",
       "\t<tr><th scope=row>carb</th><td>-0.55</td><td> 0.53</td><td> 0.39</td><td> 0.75</td><td>-0.09</td><td> 0.43</td><td>-0.66</td><td>-0.57</td><td> 0.06</td><td> 0.27</td><td> 1.00</td></tr>\n",
       "</tbody>\n",
       "</table>\n"
      ],
      "text/latex": [
       "A matrix: 11 × 11 of type dbl\n",
       "\\begin{tabular}{r|lllllllllll}\n",
       "  & mpg & cyl & disp & hp & drat & wt & qsec & vs & am & gear & carb\\\\\n",
       "\\hline\n",
       "\tmpg &  1.00 & -0.85 & -0.85 & -0.78 &  0.68 & -0.87 &  0.42 &  0.66 &  0.60 &  0.48 & -0.55\\\\\n",
       "\tcyl & -0.85 &  1.00 &  0.90 &  0.83 & -0.70 &  0.78 & -0.59 & -0.81 & -0.52 & -0.49 &  0.53\\\\\n",
       "\tdisp & -0.85 &  0.90 &  1.00 &  0.79 & -0.71 &  0.89 & -0.43 & -0.71 & -0.59 & -0.56 &  0.39\\\\\n",
       "\thp & -0.78 &  0.83 &  0.79 &  1.00 & -0.45 &  0.66 & -0.71 & -0.72 & -0.24 & -0.13 &  0.75\\\\\n",
       "\tdrat &  0.68 & -0.70 & -0.71 & -0.45 &  1.00 & -0.71 &  0.09 &  0.44 &  0.71 &  0.70 & -0.09\\\\\n",
       "\twt & -0.87 &  0.78 &  0.89 &  0.66 & -0.71 &  1.00 & -0.17 & -0.55 & -0.69 & -0.58 &  0.43\\\\\n",
       "\tqsec &  0.42 & -0.59 & -0.43 & -0.71 &  0.09 & -0.17 &  1.00 &  0.74 & -0.23 & -0.21 & -0.66\\\\\n",
       "\tvs &  0.66 & -0.81 & -0.71 & -0.72 &  0.44 & -0.55 &  0.74 &  1.00 &  0.17 &  0.21 & -0.57\\\\\n",
       "\tam &  0.60 & -0.52 & -0.59 & -0.24 &  0.71 & -0.69 & -0.23 &  0.17 &  1.00 &  0.79 &  0.06\\\\\n",
       "\tgear &  0.48 & -0.49 & -0.56 & -0.13 &  0.70 & -0.58 & -0.21 &  0.21 &  0.79 &  1.00 &  0.27\\\\\n",
       "\tcarb & -0.55 &  0.53 &  0.39 &  0.75 & -0.09 &  0.43 & -0.66 & -0.57 &  0.06 &  0.27 &  1.00\\\\\n",
       "\\end{tabular}\n"
      ],
      "text/markdown": [
       "\n",
       "A matrix: 11 × 11 of type dbl\n",
       "\n",
       "| <!--/--> | mpg | cyl | disp | hp | drat | wt | qsec | vs | am | gear | carb |\n",
       "|---|---|---|---|---|---|---|---|---|---|---|---|\n",
       "| mpg |  1.00 | -0.85 | -0.85 | -0.78 |  0.68 | -0.87 |  0.42 |  0.66 |  0.60 |  0.48 | -0.55 |\n",
       "| cyl | -0.85 |  1.00 |  0.90 |  0.83 | -0.70 |  0.78 | -0.59 | -0.81 | -0.52 | -0.49 |  0.53 |\n",
       "| disp | -0.85 |  0.90 |  1.00 |  0.79 | -0.71 |  0.89 | -0.43 | -0.71 | -0.59 | -0.56 |  0.39 |\n",
       "| hp | -0.78 |  0.83 |  0.79 |  1.00 | -0.45 |  0.66 | -0.71 | -0.72 | -0.24 | -0.13 |  0.75 |\n",
       "| drat |  0.68 | -0.70 | -0.71 | -0.45 |  1.00 | -0.71 |  0.09 |  0.44 |  0.71 |  0.70 | -0.09 |\n",
       "| wt | -0.87 |  0.78 |  0.89 |  0.66 | -0.71 |  1.00 | -0.17 | -0.55 | -0.69 | -0.58 |  0.43 |\n",
       "| qsec |  0.42 | -0.59 | -0.43 | -0.71 |  0.09 | -0.17 |  1.00 |  0.74 | -0.23 | -0.21 | -0.66 |\n",
       "| vs |  0.66 | -0.81 | -0.71 | -0.72 |  0.44 | -0.55 |  0.74 |  1.00 |  0.17 |  0.21 | -0.57 |\n",
       "| am |  0.60 | -0.52 | -0.59 | -0.24 |  0.71 | -0.69 | -0.23 |  0.17 |  1.00 |  0.79 |  0.06 |\n",
       "| gear |  0.48 | -0.49 | -0.56 | -0.13 |  0.70 | -0.58 | -0.21 |  0.21 |  0.79 |  1.00 |  0.27 |\n",
       "| carb | -0.55 |  0.53 |  0.39 |  0.75 | -0.09 |  0.43 | -0.66 | -0.57 |  0.06 |  0.27 |  1.00 |\n",
       "\n"
      ],
      "text/plain": [
       "     mpg   cyl   disp  hp    drat  wt    qsec  vs    am    gear  carb \n",
       "mpg   1.00 -0.85 -0.85 -0.78  0.68 -0.87  0.42  0.66  0.60  0.48 -0.55\n",
       "cyl  -0.85  1.00  0.90  0.83 -0.70  0.78 -0.59 -0.81 -0.52 -0.49  0.53\n",
       "disp -0.85  0.90  1.00  0.79 -0.71  0.89 -0.43 -0.71 -0.59 -0.56  0.39\n",
       "hp   -0.78  0.83  0.79  1.00 -0.45  0.66 -0.71 -0.72 -0.24 -0.13  0.75\n",
       "drat  0.68 -0.70 -0.71 -0.45  1.00 -0.71  0.09  0.44  0.71  0.70 -0.09\n",
       "wt   -0.87  0.78  0.89  0.66 -0.71  1.00 -0.17 -0.55 -0.69 -0.58  0.43\n",
       "qsec  0.42 -0.59 -0.43 -0.71  0.09 -0.17  1.00  0.74 -0.23 -0.21 -0.66\n",
       "vs    0.66 -0.81 -0.71 -0.72  0.44 -0.55  0.74  1.00  0.17  0.21 -0.57\n",
       "am    0.60 -0.52 -0.59 -0.24  0.71 -0.69 -0.23  0.17  1.00  0.79  0.06\n",
       "gear  0.48 -0.49 -0.56 -0.13  0.70 -0.58 -0.21  0.21  0.79  1.00  0.27\n",
       "carb -0.55  0.53  0.39  0.75 -0.09  0.43 -0.66 -0.57  0.06  0.27  1.00"
      ]
     },
     "metadata": {},
     "output_type": "display_data"
    }
   ],
   "source": [
    "round(cor(mtcars),2)"
   ]
  },
  {
   "cell_type": "markdown",
   "id": "7ef29f02-4cfe-4e3d-a69b-27778beb87d6",
   "metadata": {},
   "source": [
    "> mpg(연비)가 y이고 y와 상관관계가 가장 높은것은 wt(차무게), hp(마력)"
   ]
  },
  {
   "cell_type": "code",
   "execution_count": 36,
   "id": "c56522a1-d80a-42d3-b938-f719fcca66b0",
   "metadata": {},
   "outputs": [
    {
     "data": {
      "text/plain": [
       "\n",
       "Call:\n",
       "lm(formula = mpg ~ ., data = mtcars)\n",
       "\n",
       "Residuals:\n",
       "    Min      1Q  Median      3Q     Max \n",
       "-3.4506 -1.6044 -0.1196  1.2193  4.6271 \n",
       "\n",
       "Coefficients:\n",
       "            Estimate Std. Error t value Pr(>|t|)  \n",
       "(Intercept) 12.30337   18.71788   0.657   0.5181  \n",
       "cyl         -0.11144    1.04502  -0.107   0.9161  \n",
       "disp         0.01334    0.01786   0.747   0.4635  \n",
       "hp          -0.02148    0.02177  -0.987   0.3350  \n",
       "drat         0.78711    1.63537   0.481   0.6353  \n",
       "wt          -3.71530    1.89441  -1.961   0.0633 .\n",
       "qsec         0.82104    0.73084   1.123   0.2739  \n",
       "vs           0.31776    2.10451   0.151   0.8814  \n",
       "am           2.52023    2.05665   1.225   0.2340  \n",
       "gear         0.65541    1.49326   0.439   0.6652  \n",
       "carb        -0.19942    0.82875  -0.241   0.8122  \n",
       "---\n",
       "Signif. codes:  0 ‘***’ 0.001 ‘**’ 0.01 ‘*’ 0.05 ‘.’ 0.1 ‘ ’ 1\n",
       "\n",
       "Residual standard error: 2.65 on 21 degrees of freedom\n",
       "Multiple R-squared:  0.869,\tAdjusted R-squared:  0.8066 \n",
       "F-statistic: 13.93 on 10 and 21 DF,  p-value: 3.793e-07\n"
      ]
     },
     "metadata": {},
     "output_type": "display_data"
    }
   ],
   "source": [
    "m_full <- lm(mpg~., mtcars)\n",
    "summary(m_full)\n"
   ]
  },
  {
   "cell_type": "markdown",
   "id": "5fb6605c-0c35-4c00-a483-16cb72fc545f",
   "metadata": {},
   "source": [
    "> 다중공산성 떄문에 회귀계수는 다 유의하지 않게 나옴"
   ]
  },
  {
   "cell_type": "code",
   "execution_count": 40,
   "id": "23ede06a-1a95-4d19-98fe-fd03c68f5cca",
   "metadata": {},
   "outputs": [],
   "source": [
    "library(leaps)"
   ]
  },
  {
   "cell_type": "code",
   "execution_count": 43,
   "id": "b7f1aa54-927e-4a5c-b891-9e405222a55e",
   "metadata": {},
   "outputs": [],
   "source": [
    "fit<-regsubsets(mpg~., data=mtcars, nbest=1,nvmax=9,\n",
    "# method=c(\"exhaustive\"(모든가능한),\"backward\", \"forward\", \"seqrep\")\n",
    "method='exhaustive',\n",
    ")\n"
   ]
  },
  {
   "cell_type": "code",
   "execution_count": null,
   "id": "a419ccba-8941-4762-ac35-2d83fb5687ae",
   "metadata": {},
   "outputs": [],
   "source": []
  },
  {
   "cell_type": "code",
   "execution_count": 42,
   "id": "ea863335-6b97-4280-9789-ac55d4721533",
   "metadata": {},
   "outputs": [
    {
     "data": {
      "text/plain": [
       "Subset selection object\n",
       "Call: regsubsets.formula(mpg ~ ., data = mtcars, nbest = 1, nvmax = 9, \n",
       "    method = \"exhaustive\", )\n",
       "10 Variables  (and intercept)\n",
       "     Forced in Forced out\n",
       "cyl      FALSE      FALSE\n",
       "disp     FALSE      FALSE\n",
       "hp       FALSE      FALSE\n",
       "drat     FALSE      FALSE\n",
       "wt       FALSE      FALSE\n",
       "qsec     FALSE      FALSE\n",
       "vs       FALSE      FALSE\n",
       "am       FALSE      FALSE\n",
       "gear     FALSE      FALSE\n",
       "carb     FALSE      FALSE\n",
       "1 subsets of each size up to 9\n",
       "Selection Algorithm: exhaustive\n",
       "         cyl disp hp  drat wt  qsec vs  am  gear carb\n",
       "1  ( 1 ) \" \" \" \"  \" \" \" \"  \"*\" \" \"  \" \" \" \" \" \"  \" \" \n",
       "2  ( 1 ) \"*\" \" \"  \" \" \" \"  \"*\" \" \"  \" \" \" \" \" \"  \" \" \n",
       "3  ( 1 ) \" \" \" \"  \" \" \" \"  \"*\" \"*\"  \" \" \"*\" \" \"  \" \" \n",
       "4  ( 1 ) \" \" \" \"  \"*\" \" \"  \"*\" \"*\"  \" \" \"*\" \" \"  \" \" \n",
       "5  ( 1 ) \" \" \"*\"  \"*\" \" \"  \"*\" \"*\"  \" \" \"*\" \" \"  \" \" \n",
       "6  ( 1 ) \" \" \"*\"  \"*\" \"*\"  \"*\" \"*\"  \" \" \"*\" \" \"  \" \" \n",
       "7  ( 1 ) \" \" \"*\"  \"*\" \"*\"  \"*\" \"*\"  \" \" \"*\" \"*\"  \" \" \n",
       "8  ( 1 ) \" \" \"*\"  \"*\" \"*\"  \"*\" \"*\"  \" \" \"*\" \"*\"  \"*\" \n",
       "9  ( 1 ) \" \" \"*\"  \"*\" \"*\"  \"*\" \"*\"  \"*\" \"*\" \"*\"  \"*\" "
      ]
     },
     "metadata": {},
     "output_type": "display_data"
    }
   ],
   "source": [
    "summary(fit)\n"
   ]
  },
  {
   "cell_type": "markdown",
   "id": "f9a856d9-a6be-41ac-ba60-94722837d6aa",
   "metadata": {},
   "source": [
    "> 설명변수 2개를 쓴거는 $_{10}C_{2}=45$개 모형을 만들 수 있음. $R^2$을 봐서 좋은걸 보면 cyl이랑 wt쓴게 제일 좋은 모형이야.\n",
    "\n",
    "> 설명변수 1개를 쓴다면 그 중에서 wt쓴거의 $R^2$가 제일 좋아.\n",
    "\n",
    "> 설명변수 3개는 wt,qsec,am 쓴게 제일 좋아"
   ]
  },
  {
   "cell_type": "markdown",
   "id": "e5e26761-4681-4b1e-bcc7-c2daded2efc1",
   "metadata": {},
   "source": [
    "- `Forced in`: 나는 이 변수가 꼭 들어갔으면 좋겠어 \n",
    "\n",
    "- `Forced out` : 나는 이변수가 꼭 뺐으면 좋겠어\n",
    "\n",
    "- 10개 쓴거가 full model 이고 설명변수를 1개 2개 3개 쓴..."
   ]
  },
  {
   "cell_type": "code",
   "execution_count": 44,
   "id": "04148691-2d1a-4029-be18-b759bbf16362",
   "metadata": {},
   "outputs": [
    {
     "data": {
      "text/html": [
       "<table class=\"dataframe\">\n",
       "<caption>A matrix: 9 × 16 of type dbl</caption>\n",
       "<thead>\n",
       "\t<tr><th></th><th scope=col>(Intercept)</th><th scope=col>cyl</th><th scope=col>disp</th><th scope=col>hp</th><th scope=col>drat</th><th scope=col>wt</th><th scope=col>qsec</th><th scope=col>vs</th><th scope=col>am</th><th scope=col>gear</th><th scope=col>carb</th><th scope=col>rss</th><th scope=col>rsq</th><th scope=col>adjr2</th><th scope=col>cp</th><th scope=col>bic</th></tr>\n",
       "</thead>\n",
       "<tbody>\n",
       "\t<tr><th scope=row>1</th><td>1</td><td>0</td><td>0</td><td>0</td><td>0</td><td>1</td><td>0</td><td>0</td><td>0</td><td>0</td><td>0</td><td>278.322</td><td>0.753</td><td>0.745</td><td>11.627</td><td>-37.795</td></tr>\n",
       "\t<tr><th scope=row>2</th><td>1</td><td>1</td><td>0</td><td>0</td><td>0</td><td>1</td><td>0</td><td>0</td><td>0</td><td>0</td><td>0</td><td>191.172</td><td>0.830</td><td>0.819</td><td> 1.219</td><td>-46.348</td></tr>\n",
       "\t<tr><th scope=row>3</th><td>1</td><td>0</td><td>0</td><td>0</td><td>0</td><td>1</td><td>1</td><td>0</td><td>1</td><td>0</td><td>0</td><td>169.286</td><td>0.850</td><td>0.834</td><td> 0.103</td><td>-46.773</td></tr>\n",
       "\t<tr><th scope=row>4</th><td>1</td><td>0</td><td>0</td><td>1</td><td>0</td><td>1</td><td>1</td><td>0</td><td>1</td><td>0</td><td>0</td><td>160.066</td><td>0.858</td><td>0.837</td><td> 0.790</td><td>-45.099</td></tr>\n",
       "\t<tr><th scope=row>5</th><td>1</td><td>0</td><td>1</td><td>1</td><td>0</td><td>1</td><td>1</td><td>0</td><td>1</td><td>0</td><td>0</td><td>153.438</td><td>0.864</td><td>0.838</td><td> 1.846</td><td>-42.987</td></tr>\n",
       "\t<tr><th scope=row>6</th><td>1</td><td>0</td><td>1</td><td>1</td><td>1</td><td>1</td><td>1</td><td>0</td><td>1</td><td>0</td><td>0</td><td>150.093</td><td>0.867</td><td>0.835</td><td> 3.370</td><td>-40.227</td></tr>\n",
       "\t<tr><th scope=row>7</th><td>1</td><td>0</td><td>1</td><td>1</td><td>1</td><td>1</td><td>1</td><td>0</td><td>1</td><td>1</td><td>0</td><td>148.528</td><td>0.868</td><td>0.830</td><td> 5.147</td><td>-37.096</td></tr>\n",
       "\t<tr><th scope=row>8</th><td>1</td><td>0</td><td>1</td><td>1</td><td>1</td><td>1</td><td>1</td><td>0</td><td>1</td><td>1</td><td>1</td><td>147.843</td><td>0.869</td><td>0.823</td><td> 7.050</td><td>-33.779</td></tr>\n",
       "\t<tr><th scope=row>9</th><td>1</td><td>0</td><td>1</td><td>1</td><td>1</td><td>1</td><td>1</td><td>1</td><td>1</td><td>1</td><td>1</td><td>147.574</td><td>0.869</td><td>0.815</td><td> 9.011</td><td>-30.371</td></tr>\n",
       "</tbody>\n",
       "</table>\n"
      ],
      "text/latex": [
       "A matrix: 9 × 16 of type dbl\n",
       "\\begin{tabular}{r|llllllllllllllll}\n",
       "  & (Intercept) & cyl & disp & hp & drat & wt & qsec & vs & am & gear & carb & rss & rsq & adjr2 & cp & bic\\\\\n",
       "\\hline\n",
       "\t1 & 1 & 0 & 0 & 0 & 0 & 1 & 0 & 0 & 0 & 0 & 0 & 278.322 & 0.753 & 0.745 & 11.627 & -37.795\\\\\n",
       "\t2 & 1 & 1 & 0 & 0 & 0 & 1 & 0 & 0 & 0 & 0 & 0 & 191.172 & 0.830 & 0.819 &  1.219 & -46.348\\\\\n",
       "\t3 & 1 & 0 & 0 & 0 & 0 & 1 & 1 & 0 & 1 & 0 & 0 & 169.286 & 0.850 & 0.834 &  0.103 & -46.773\\\\\n",
       "\t4 & 1 & 0 & 0 & 1 & 0 & 1 & 1 & 0 & 1 & 0 & 0 & 160.066 & 0.858 & 0.837 &  0.790 & -45.099\\\\\n",
       "\t5 & 1 & 0 & 1 & 1 & 0 & 1 & 1 & 0 & 1 & 0 & 0 & 153.438 & 0.864 & 0.838 &  1.846 & -42.987\\\\\n",
       "\t6 & 1 & 0 & 1 & 1 & 1 & 1 & 1 & 0 & 1 & 0 & 0 & 150.093 & 0.867 & 0.835 &  3.370 & -40.227\\\\\n",
       "\t7 & 1 & 0 & 1 & 1 & 1 & 1 & 1 & 0 & 1 & 1 & 0 & 148.528 & 0.868 & 0.830 &  5.147 & -37.096\\\\\n",
       "\t8 & 1 & 0 & 1 & 1 & 1 & 1 & 1 & 0 & 1 & 1 & 1 & 147.843 & 0.869 & 0.823 &  7.050 & -33.779\\\\\n",
       "\t9 & 1 & 0 & 1 & 1 & 1 & 1 & 1 & 1 & 1 & 1 & 1 & 147.574 & 0.869 & 0.815 &  9.011 & -30.371\\\\\n",
       "\\end{tabular}\n"
      ],
      "text/markdown": [
       "\n",
       "A matrix: 9 × 16 of type dbl\n",
       "\n",
       "| <!--/--> | (Intercept) | cyl | disp | hp | drat | wt | qsec | vs | am | gear | carb | rss | rsq | adjr2 | cp | bic |\n",
       "|---|---|---|---|---|---|---|---|---|---|---|---|---|---|---|---|---|\n",
       "| 1 | 1 | 0 | 0 | 0 | 0 | 1 | 0 | 0 | 0 | 0 | 0 | 278.322 | 0.753 | 0.745 | 11.627 | -37.795 |\n",
       "| 2 | 1 | 1 | 0 | 0 | 0 | 1 | 0 | 0 | 0 | 0 | 0 | 191.172 | 0.830 | 0.819 |  1.219 | -46.348 |\n",
       "| 3 | 1 | 0 | 0 | 0 | 0 | 1 | 1 | 0 | 1 | 0 | 0 | 169.286 | 0.850 | 0.834 |  0.103 | -46.773 |\n",
       "| 4 | 1 | 0 | 0 | 1 | 0 | 1 | 1 | 0 | 1 | 0 | 0 | 160.066 | 0.858 | 0.837 |  0.790 | -45.099 |\n",
       "| 5 | 1 | 0 | 1 | 1 | 0 | 1 | 1 | 0 | 1 | 0 | 0 | 153.438 | 0.864 | 0.838 |  1.846 | -42.987 |\n",
       "| 6 | 1 | 0 | 1 | 1 | 1 | 1 | 1 | 0 | 1 | 0 | 0 | 150.093 | 0.867 | 0.835 |  3.370 | -40.227 |\n",
       "| 7 | 1 | 0 | 1 | 1 | 1 | 1 | 1 | 0 | 1 | 1 | 0 | 148.528 | 0.868 | 0.830 |  5.147 | -37.096 |\n",
       "| 8 | 1 | 0 | 1 | 1 | 1 | 1 | 1 | 0 | 1 | 1 | 1 | 147.843 | 0.869 | 0.823 |  7.050 | -33.779 |\n",
       "| 9 | 1 | 0 | 1 | 1 | 1 | 1 | 1 | 1 | 1 | 1 | 1 | 147.574 | 0.869 | 0.815 |  9.011 | -30.371 |\n",
       "\n"
      ],
      "text/plain": [
       "  (Intercept) cyl disp hp drat wt qsec vs am gear carb rss     rsq   adjr2\n",
       "1 1           0   0    0  0    1  0    0  0  0    0    278.322 0.753 0.745\n",
       "2 1           1   0    0  0    1  0    0  0  0    0    191.172 0.830 0.819\n",
       "3 1           0   0    0  0    1  1    0  1  0    0    169.286 0.850 0.834\n",
       "4 1           0   0    1  0    1  1    0  1  0    0    160.066 0.858 0.837\n",
       "5 1           0   1    1  0    1  1    0  1  0    0    153.438 0.864 0.838\n",
       "6 1           0   1    1  1    1  1    0  1  0    0    150.093 0.867 0.835\n",
       "7 1           0   1    1  1    1  1    0  1  1    0    148.528 0.868 0.830\n",
       "8 1           0   1    1  1    1  1    0  1  1    1    147.843 0.869 0.823\n",
       "9 1           0   1    1  1    1  1    1  1  1    1    147.574 0.869 0.815\n",
       "  cp     bic    \n",
       "1 11.627 -37.795\n",
       "2  1.219 -46.348\n",
       "3  0.103 -46.773\n",
       "4  0.790 -45.099\n",
       "5  1.846 -42.987\n",
       "6  3.370 -40.227\n",
       "7  5.147 -37.096\n",
       "8  7.050 -33.779\n",
       "9  9.011 -30.371"
      ]
     },
     "metadata": {},
     "output_type": "display_data"
    }
   ],
   "source": [
    "with(summary(fit),\n",
    "     round(cbind(which,rss,rsq,adjr2,cp,bic),3))"
   ]
  },
  {
   "cell_type": "markdown",
   "id": "61b908fb-b94b-4381-a36e-bf7eb5f6d327",
   "metadata": {},
   "source": [
    "`which,rss,rsq,adjr2,cp,bic`\n",
    "\n",
    "- which:어떤 변수를 썼는지?\n",
    "\n",
    "- rss: sse 작을 수록 좋다. -> `147.574` 제일작은데, 원래 제일 복잡한 모형이 제일 작다. 감소하는 차이를 보자.. \n",
    "\n",
    "- rsq : $R^2$ 크면 좋은데 둔화되는 점까지 보자.\n",
    "\n",
    "- adjr2 : $R^2_{adj}$ 크면 좋다. `0.838` 5개\n",
    "\n",
    "- cp: 작으면 좋다. $cp \\leq p+1$ `0.103` 3개\n",
    "\n",
    "- bic: 작으면 좋다. `-46.773` 3개\n",
    "\n",
    "\n",
    "> 3개를 쓰는게 좋을 거 같다."
   ]
  },
  {
   "cell_type": "code",
   "execution_count": 45,
   "id": "7e6489d9-ebec-4031-973c-4ece69c8ab06",
   "metadata": {},
   "outputs": [
    {
     "data": {
      "text/plain": [
       "\n",
       "Call:\n",
       "lm(formula = mpg ~ wt + qsec + am, data = mtcars)\n",
       "\n",
       "Residuals:\n",
       "    Min      1Q  Median      3Q     Max \n",
       "-3.4811 -1.5555 -0.7257  1.4110  4.6610 \n",
       "\n",
       "Coefficients:\n",
       "            Estimate Std. Error t value Pr(>|t|)    \n",
       "(Intercept)   9.6178     6.9596   1.382 0.177915    \n",
       "wt           -3.9165     0.7112  -5.507 6.95e-06 ***\n",
       "qsec          1.2259     0.2887   4.247 0.000216 ***\n",
       "am            2.9358     1.4109   2.081 0.046716 *  \n",
       "---\n",
       "Signif. codes:  0 ‘***’ 0.001 ‘**’ 0.01 ‘*’ 0.05 ‘.’ 0.1 ‘ ’ 1\n",
       "\n",
       "Residual standard error: 2.459 on 28 degrees of freedom\n",
       "Multiple R-squared:  0.8497,\tAdjusted R-squared:  0.8336 \n",
       "F-statistic: 52.75 on 3 and 28 DF,  p-value: 1.21e-11\n"
      ]
     },
     "metadata": {},
     "output_type": "display_data"
    }
   ],
   "source": [
    "fit_3<-lm(mpg~wt+qsec+am,mtcars)\n",
    "summary(fit_3)"
   ]
  },
  {
   "cell_type": "code",
   "execution_count": 46,
   "id": "855781e0-4156-4152-a1b1-267dcb1eef33",
   "metadata": {},
   "outputs": [
    {
     "data": {
      "text/plain": [
       "\n",
       "Call:\n",
       "lm(formula = mpg ~ hp + wt + qsec + am, data = mtcars)\n",
       "\n",
       "Residuals:\n",
       "    Min      1Q  Median      3Q     Max \n",
       "-3.4975 -1.5902 -0.1122  1.1795  4.5404 \n",
       "\n",
       "Coefficients:\n",
       "            Estimate Std. Error t value Pr(>|t|)   \n",
       "(Intercept) 17.44019    9.31887   1.871  0.07215 . \n",
       "hp          -0.01765    0.01415  -1.247  0.22309   \n",
       "wt          -3.23810    0.88990  -3.639  0.00114 **\n",
       "qsec         0.81060    0.43887   1.847  0.07573 . \n",
       "am           2.92550    1.39715   2.094  0.04579 * \n",
       "---\n",
       "Signif. codes:  0 ‘***’ 0.001 ‘**’ 0.01 ‘*’ 0.05 ‘.’ 0.1 ‘ ’ 1\n",
       "\n",
       "Residual standard error: 2.435 on 27 degrees of freedom\n",
       "Multiple R-squared:  0.8579,\tAdjusted R-squared:  0.8368 \n",
       "F-statistic: 40.74 on 4 and 27 DF,  p-value: 4.589e-11\n"
      ]
     },
     "metadata": {},
     "output_type": "display_data"
    }
   ],
   "source": [
    "fit_4<-lm(mpg~hp+wt+qsec+am,mtcars)\n",
    "summary(fit_4)"
   ]
  },
  {
   "cell_type": "code",
   "execution_count": 48,
   "id": "36d67640-eeee-4849-9347-299b5c10bb03",
   "metadata": {},
   "outputs": [
    {
     "data": {
      "text/plain": [
       "Subset selection object\n",
       "Call: regsubsets.formula(mpg ~ ., data = mtcars, nbest = 1, nvmax = 9, \n",
       "    method = \"backward\", )\n",
       "10 Variables  (and intercept)\n",
       "     Forced in Forced out\n",
       "cyl      FALSE      FALSE\n",
       "disp     FALSE      FALSE\n",
       "hp       FALSE      FALSE\n",
       "drat     FALSE      FALSE\n",
       "wt       FALSE      FALSE\n",
       "qsec     FALSE      FALSE\n",
       "vs       FALSE      FALSE\n",
       "am       FALSE      FALSE\n",
       "gear     FALSE      FALSE\n",
       "carb     FALSE      FALSE\n",
       "1 subsets of each size up to 9\n",
       "Selection Algorithm: backward\n",
       "         cyl disp hp  drat wt  qsec vs  am  gear carb\n",
       "1  ( 1 ) \" \" \" \"  \" \" \" \"  \"*\" \" \"  \" \" \" \" \" \"  \" \" \n",
       "2  ( 1 ) \" \" \" \"  \" \" \" \"  \"*\" \"*\"  \" \" \" \" \" \"  \" \" \n",
       "3  ( 1 ) \" \" \" \"  \" \" \" \"  \"*\" \"*\"  \" \" \"*\" \" \"  \" \" \n",
       "4  ( 1 ) \" \" \" \"  \"*\" \" \"  \"*\" \"*\"  \" \" \"*\" \" \"  \" \" \n",
       "5  ( 1 ) \" \" \"*\"  \"*\" \" \"  \"*\" \"*\"  \" \" \"*\" \" \"  \" \" \n",
       "6  ( 1 ) \" \" \"*\"  \"*\" \"*\"  \"*\" \"*\"  \" \" \"*\" \" \"  \" \" \n",
       "7  ( 1 ) \" \" \"*\"  \"*\" \"*\"  \"*\" \"*\"  \" \" \"*\" \"*\"  \" \" \n",
       "8  ( 1 ) \" \" \"*\"  \"*\" \"*\"  \"*\" \"*\"  \" \" \"*\" \"*\"  \"*\" \n",
       "9  ( 1 ) \" \" \"*\"  \"*\" \"*\"  \"*\" \"*\"  \"*\" \"*\" \"*\"  \"*\" "
      ]
     },
     "metadata": {},
     "output_type": "display_data"
    }
   ],
   "source": [
    "fit<-regsubsets(mpg~., data=mtcars, nbest=1,nvmax=9,\n",
    "# method=c(\"exhaustive\"(모든가능한),\"backward\", \"forward\", \"seqrep\")\n",
    "method='backward',\n",
    ")\n",
    "summary(fit)"
   ]
  },
  {
   "cell_type": "code",
   "execution_count": null,
   "id": "a0589ff1-925e-48a2-bcbb-f8d4fbba1451",
   "metadata": {},
   "outputs": [],
   "source": []
  },
  {
   "cell_type": "markdown",
   "id": "4a452599-5f3d-4373-9c11-23782b47e2f3",
   "metadata": {},
   "source": [
    "- 10번째부터 시작해서 거꾸로 올라감. 맨처음에 cyl이 빠지고 9개\n",
    "\n",
    "- 그다음 vs가 빠짐\n",
    "\n",
    "- 그다음 carb가 빠짐.\n"
   ]
  },
  {
   "cell_type": "code",
   "execution_count": 60,
   "id": "f0d39a1d-2bde-4213-a163-380b6c216440",
   "metadata": {},
   "outputs": [
    {
     "ename": "ERROR",
     "evalue": "Error in leaps.exhaustive(a, really.big): Exhaustive search will be S L O W, must specify really.big=T\n",
     "output_type": "error",
     "traceback": [
      "Error in leaps.exhaustive(a, really.big): Exhaustive search will be S L O W, must specify really.big=T\nTraceback:\n",
      "1. regsubsets(mpg ~ ., data = mtcars, nbest = 45, nvmax = 9, method = \"exhaustive\", \n .     )",
      "2. regsubsets.formula(mpg ~ ., data = mtcars, nbest = 45, nvmax = 9, \n .     method = \"exhaustive\", )",
      "3. leaps.exhaustive(a, really.big)",
      "4. stop(\"Exhaustive search will be S L O W, must specify really.big=T\")"
     ]
    }
   ],
   "source": [
    "fit<-regsubsets(mpg~., data=mtcars, nbest=45,nvmax=9,\n",
    "method='exhaustive',\n",
    ")\n",
    "summary(fit)"
   ]
  },
  {
   "cell_type": "markdown",
   "id": "518142cb-9637-48b6-97db-d094774ec32c",
   "metadata": {},
   "source": [
    "- nbest값을 너무 크게 주면 값이 너무 많아져서 에러메시지가뜬다. "
   ]
  },
  {
   "cell_type": "code",
   "execution_count": 61,
   "id": "49818a1d-2973-4932-ace7-35c5e83d997a",
   "metadata": {},
   "outputs": [
    {
     "data": {
      "text/plain": [
       "Subset selection object\n",
       "Call: regsubsets.formula(mpg ~ ., data = mtcars, nbest = 45, nvmax = 9, \n",
       "    method = \"exhaustive\", really.big = T)\n",
       "10 Variables  (and intercept)\n",
       "     Forced in Forced out\n",
       "cyl      FALSE      FALSE\n",
       "disp     FALSE      FALSE\n",
       "hp       FALSE      FALSE\n",
       "drat     FALSE      FALSE\n",
       "wt       FALSE      FALSE\n",
       "qsec     FALSE      FALSE\n",
       "vs       FALSE      FALSE\n",
       "am       FALSE      FALSE\n",
       "gear     FALSE      FALSE\n",
       "carb     FALSE      FALSE\n",
       "45 subsets of each size up to 9\n",
       "Selection Algorithm: exhaustive\n",
       "          cyl disp hp  drat wt  qsec vs  am  gear carb\n",
       "1  ( 1 )  \" \" \" \"  \" \" \" \"  \"*\" \" \"  \" \" \" \" \" \"  \" \" \n",
       "1  ( 2 )  \"*\" \" \"  \" \" \" \"  \" \" \" \"  \" \" \" \" \" \"  \" \" \n",
       "1  ( 3 )  \" \" \"*\"  \" \" \" \"  \" \" \" \"  \" \" \" \" \" \"  \" \" \n",
       "1  ( 4 )  \" \" \" \"  \"*\" \" \"  \" \" \" \"  \" \" \" \" \" \"  \" \" \n",
       "1  ( 5 )  \" \" \" \"  \" \" \"*\"  \" \" \" \"  \" \" \" \" \" \"  \" \" \n",
       "1  ( 6 )  \" \" \" \"  \" \" \" \"  \" \" \" \"  \"*\" \" \" \" \"  \" \" \n",
       "1  ( 7 )  \" \" \" \"  \" \" \" \"  \" \" \" \"  \" \" \"*\" \" \"  \" \" \n",
       "1  ( 8 )  \" \" \" \"  \" \" \" \"  \" \" \" \"  \" \" \" \" \" \"  \"*\" \n",
       "1  ( 9 )  \" \" \" \"  \" \" \" \"  \" \" \" \"  \" \" \" \" \"*\"  \" \" \n",
       "1  ( 10 ) \" \" \" \"  \" \" \" \"  \" \" \"*\"  \" \" \" \" \" \"  \" \" \n",
       "2  ( 1 )  \"*\" \" \"  \" \" \" \"  \"*\" \" \"  \" \" \" \" \" \"  \" \" \n",
       "2  ( 2 )  \" \" \" \"  \"*\" \" \"  \"*\" \" \"  \" \" \" \" \" \"  \" \" \n",
       "2  ( 3 )  \" \" \" \"  \" \" \" \"  \"*\" \"*\"  \" \" \" \" \" \"  \" \" \n",
       "2  ( 4 )  \" \" \" \"  \" \" \" \"  \"*\" \" \"  \"*\" \" \" \" \"  \" \" \n",
       "2  ( 5 )  \" \" \" \"  \" \" \" \"  \"*\" \" \"  \" \" \" \" \" \"  \"*\" \n",
       "2  ( 6 )  \" \" \" \"  \"*\" \" \"  \" \" \" \"  \" \" \"*\" \" \"  \" \" \n",
       "2  ( 7 )  \" \" \"*\"  \" \" \" \"  \"*\" \" \"  \" \" \" \" \" \"  \" \" \n",
       "2  ( 8 )  \" \" \"*\"  \" \" \" \"  \" \" \" \"  \" \" \" \" \" \"  \"*\" \n",
       "2  ( 9 )  \" \" \" \"  \" \" \"*\"  \"*\" \" \"  \" \" \" \" \" \"  \" \" \n",
       "2  ( 10 ) \"*\" \"*\"  \" \" \" \"  \" \" \" \"  \" \" \" \" \" \"  \" \" \n",
       "2  ( 11 ) \"*\" \" \"  \" \" \" \"  \" \" \" \"  \" \" \"*\" \" \"  \" \" \n",
       "2  ( 12 ) \" \" \" \"  \" \" \" \"  \"*\" \" \"  \" \" \" \" \"*\"  \" \" \n",
       "2  ( 13 ) \" \" \" \"  \" \" \" \"  \"*\" \" \"  \" \" \"*\" \" \"  \" \" \n",
       "2  ( 14 ) \" \" \" \"  \"*\" \" \"  \" \" \" \"  \" \" \" \" \"*\"  \" \" \n",
       "2  ( 15 ) \" \" \"*\"  \"*\" \" \"  \" \" \" \"  \" \" \" \" \" \"  \" \" \n",
       "2  ( 16 ) \" \" \" \"  \"*\" \"*\"  \" \" \" \"  \" \" \" \" \" \"  \" \" \n",
       "2  ( 17 ) \"*\" \" \"  \"*\" \" \"  \" \" \" \"  \" \" \" \" \" \"  \" \" \n",
       "2  ( 18 ) \"*\" \" \"  \" \" \" \"  \" \" \" \"  \" \" \" \" \" \"  \"*\" \n",
       "2  ( 19 ) \"*\" \" \"  \" \" \"*\"  \" \" \" \"  \" \" \" \" \" \"  \" \" \n",
       "2  ( 20 ) \"*\" \" \"  \" \" \" \"  \" \" \"*\"  \" \" \" \" \" \"  \" \" \n",
       "2  ( 21 ) \" \" \" \"  \" \" \" \"  \" \" \" \"  \" \" \" \" \"*\"  \"*\" \n",
       "2  ( 22 ) \" \" \"*\"  \" \" \" \"  \" \" \" \"  \" \" \"*\" \" \"  \" \" \n",
       "2  ( 23 ) \" \" \"*\"  \" \" \"*\"  \" \" \" \"  \" \" \" \" \" \"  \" \" \n",
       "2  ( 24 ) \"*\" \" \"  \" \" \" \"  \" \" \" \"  \" \" \" \" \"*\"  \" \" \n",
       "2  ( 25 ) \"*\" \" \"  \" \" \" \"  \" \" \" \"  \"*\" \" \" \" \"  \" \" \n",
       "2  ( 26 ) \" \" \"*\"  \" \" \" \"  \" \" \" \"  \"*\" \" \" \" \"  \" \" \n",
       "2  ( 27 ) \" \" \"*\"  \" \" \" \"  \" \" \"*\"  \" \" \" \" \" \"  \" \" \n",
       "2  ( 28 ) \" \" \"*\"  \" \" \" \"  \" \" \" \"  \" \" \" \" \"*\"  \" \" \n",
       "2  ( 29 ) \" \" \" \"  \" \" \"*\"  \" \" \" \"  \" \" \" \" \" \"  \"*\" \n",
       "2  ( 30 ) \" \" \" \"  \" \" \" \"  \" \" \" \"  \" \" \"*\" \" \"  \"*\" \n",
       "2  ( 31 ) \" \" \" \"  \" \" \" \"  \" \" \"*\"  \" \" \"*\" \" \"  \" \" \n",
       "2  ( 32 ) \" \" \" \"  \" \" \" \"  \" \" \" \"  \"*\" \"*\" \" \"  \" \" \n",
       "2  ( 33 ) \" \" \" \"  \"*\" \" \"  \" \" \"*\"  \" \" \" \" \" \"  \" \" \n",
       "2  ( 34 ) \" \" \" \"  \" \" \"*\"  \" \" \" \"  \"*\" \" \" \" \"  \" \" \n",
       "2  ( 35 ) \" \" \" \"  \"*\" \" \"  \" \" \" \"  \"*\" \" \" \" \"  \" \" \n",
       "2  ( 36 ) \" \" \" \"  \"*\" \" \"  \" \" \" \"  \" \" \" \" \" \"  \"*\" \n",
       "2  ( 37 ) \" \" \" \"  \" \" \"*\"  \" \" \"*\"  \" \" \" \" \" \"  \" \" \n",
       "2  ( 38 ) \" \" \" \"  \" \" \" \"  \" \" \" \"  \"*\" \" \" \"*\"  \" \" \n",
       "2  ( 39 ) \" \" \" \"  \" \" \" \"  \" \" \"*\"  \" \" \" \" \"*\"  \" \" \n",
       "2  ( 40 ) \" \" \" \"  \" \" \"*\"  \" \" \" \"  \" \" \"*\" \" \"  \" \" \n",
       "2  ( 41 ) \" \" \" \"  \" \" \" \"  \" \" \" \"  \"*\" \" \" \" \"  \"*\" \n",
       "2  ( 42 ) \" \" \" \"  \" \" \"*\"  \" \" \" \"  \" \" \" \" \"*\"  \" \" \n",
       "2  ( 43 ) \" \" \" \"  \" \" \" \"  \" \" \"*\"  \"*\" \" \" \" \"  \" \" \n",
       "2  ( 44 ) \" \" \" \"  \" \" \" \"  \" \" \" \"  \" \" \"*\" \"*\"  \" \" \n",
       "2  ( 45 ) \" \" \" \"  \" \" \" \"  \" \" \"*\"  \" \" \" \" \" \"  \"*\" \n",
       "3  ( 1 )  \" \" \" \"  \" \" \" \"  \"*\" \"*\"  \" \" \"*\" \" \"  \" \" \n",
       "3  ( 2 )  \"*\" \" \"  \"*\" \" \"  \"*\" \" \"  \" \" \" \" \" \"  \" \" \n",
       "3  ( 3 )  \"*\" \" \"  \" \" \" \"  \"*\" \" \"  \" \" \" \" \" \"  \"*\" \n",
       "3  ( 4 )  \" \" \" \"  \"*\" \" \"  \"*\" \" \"  \" \" \"*\" \" \"  \" \" \n",
       "3  ( 5 )  \"*\" \" \"  \" \" \" \"  \"*\" \"*\"  \" \" \" \" \" \"  \" \" \n",
       "3  ( 6 )  \" \" \" \"  \" \" \"*\"  \"*\" \"*\"  \" \" \" \" \" \"  \" \" \n",
       "3  ( 7 )  \" \" \" \"  \"*\" \"*\"  \"*\" \" \"  \" \" \" \" \" \"  \" \" \n",
       "3  ( 8 )  \" \" \" \"  \"*\" \" \"  \"*\" \" \"  \" \" \" \" \"*\"  \" \" \n",
       "3  ( 9 )  \" \" \" \"  \"*\" \" \"  \"*\" \"*\"  \" \" \" \" \" \"  \" \" \n",
       "3  ( 10 ) \" \" \" \"  \" \" \" \"  \"*\" \"*\"  \" \" \" \" \"*\"  \" \" \n",
       "3  ( 11 ) \"*\" \" \"  \" \" \" \"  \"*\" \" \"  \" \" \" \" \"*\"  \" \" \n",
       "3  ( 12 ) \" \" \" \"  \"*\" \" \"  \"*\" \" \"  \"*\" \" \" \" \"  \" \" \n",
       "3  ( 13 ) \"*\" \"*\"  \" \" \" \"  \"*\" \" \"  \" \" \" \" \" \"  \" \" \n",
       "3  ( 14 ) \"*\" \" \"  \" \" \" \"  \"*\" \" \"  \"*\" \" \" \" \"  \" \" \n",
       "3  ( 15 ) \"*\" \" \"  \" \" \" \"  \"*\" \" \"  \" \" \"*\" \" \"  \" \" \n",
       "3  ( 16 ) \"*\" \" \"  \" \" \"*\"  \"*\" \" \"  \" \" \" \" \" \"  \" \" \n",
       "3  ( 17 ) \" \" \"*\"  \" \" \" \"  \" \" \" \"  \" \" \"*\" \" \"  \"*\" \n",
       "3  ( 18 ) \" \" \" \"  \" \" \" \"  \"*\" \"*\"  \" \" \" \" \" \"  \"*\" \n",
       "3  ( 19 ) \" \" \" \"  \"*\" \" \"  \"*\" \" \"  \" \" \" \" \" \"  \"*\" \n",
       "3  ( 20 ) \" \" \"*\"  \"*\" \" \"  \"*\" \" \"  \" \" \" \" \" \"  \" \" \n",
       "3  ( 21 ) \" \" \" \"  \" \" \" \"  \"*\" \"*\"  \"*\" \" \" \" \"  \" \" \n",
       "3  ( 22 ) \" \" \"*\"  \" \" \" \"  \"*\" \"*\"  \" \" \" \" \" \"  \" \" \n",
       "3  ( 23 ) \" \" \" \"  \" \" \"*\"  \"*\" \" \"  \" \" \" \" \" \"  \"*\" \n",
       "3  ( 24 ) \" \" \"*\"  \" \" \" \"  \" \" \" \"  \" \" \" \" \"*\"  \"*\" \n",
       "3  ( 25 ) \" \" \"*\"  \" \" \" \"  \"*\" \" \"  \" \" \" \" \" \"  \"*\" \n",
       "3  ( 26 ) \" \" \" \"  \" \" \" \"  \"*\" \" \"  \" \" \" \" \"*\"  \"*\" \n",
       "3  ( 27 ) \" \" \" \"  \" \" \" \"  \"*\" \" \"  \"*\" \" \" \" \"  \"*\" \n",
       "3  ( 28 ) \"*\" \" \"  \" \" \" \"  \" \" \" \"  \" \" \"*\" \" \"  \"*\" \n",
       "3  ( 29 ) \" \" \"*\"  \" \" \"*\"  \" \" \" \"  \" \" \" \" \" \"  \"*\" \n",
       "3  ( 30 ) \" \" \" \"  \" \" \" \"  \"*\" \" \"  \" \" \"*\" \" \"  \"*\" \n",
       "3  ( 31 ) \" \" \" \"  \" \" \" \"  \"*\" \" \"  \"*\" \"*\" \" \"  \" \" \n",
       "3  ( 32 ) \" \" \" \"  \" \" \"*\"  \"*\" \" \"  \"*\" \" \" \" \"  \" \" \n",
       "3  ( 33 ) \" \" \" \"  \"*\" \" \"  \" \" \" \"  \"*\" \"*\" \" \"  \" \" \n",
       "3  ( 34 ) \"*\" \" \"  \"*\" \" \"  \" \" \" \"  \" \" \"*\" \" \"  \" \" \n",
       "3  ( 35 ) \" \" \"*\"  \" \" \" \"  \"*\" \" \"  \"*\" \" \" \" \"  \" \" \n",
       "3  ( 36 ) \" \" \" \"  \" \" \" \"  \"*\" \" \"  \"*\" \" \" \"*\"  \" \" \n",
       "3  ( 37 ) \" \" \"*\"  \"*\" \" \"  \" \" \" \"  \" \" \"*\" \" \"  \" \" \n",
       "3  ( 38 ) \" \" \" \"  \"*\" \" \"  \" \" \" \"  \" \" \"*\" \" \"  \"*\" \n",
       "3  ( 39 ) \" \" \" \"  \"*\" \"*\"  \" \" \" \"  \" \" \"*\" \" \"  \" \" \n",
       "3  ( 40 ) \" \" \" \"  \"*\" \" \"  \" \" \" \"  \" \" \" \" \"*\"  \"*\" \n",
       "3  ( 41 ) \"*\" \" \"  \" \" \" \"  \" \" \" \"  \" \" \" \" \"*\"  \"*\" \n",
       "3  ( 42 ) \" \" \" \"  \"*\" \" \"  \" \" \" \"  \" \" \"*\" \"*\"  \" \" \n",
       "3  ( 43 ) \" \" \" \"  \"*\" \" \"  \" \" \"*\"  \" \" \"*\" \" \"  \" \" \n",
       "3  ( 44 ) \"*\" \"*\"  \" \" \" \"  \" \" \" \"  \" \" \" \" \" \"  \"*\" \n",
       "3  ( 45 ) \" \" \"*\"  \" \" \" \"  \" \" \"*\"  \" \" \" \" \" \"  \"*\" \n",
       "4  ( 1 )  \" \" \" \"  \"*\" \" \"  \"*\" \"*\"  \" \" \"*\" \" \"  \" \" \n",
       "4  ( 2 )  \" \" \" \"  \" \" \" \"  \"*\" \"*\"  \" \" \"*\" \" \"  \"*\" \n",
       "4  ( 3 )  \" \" \"*\"  \" \" \" \"  \"*\" \"*\"  \" \" \"*\" \" \"  \" \" \n",
       "4  ( 4 )  \"*\" \" \"  \" \" \" \"  \"*\" \"*\"  \" \" \"*\" \" \"  \" \" \n",
       "4  ( 5 )  \" \" \" \"  \" \" \"*\"  \"*\" \"*\"  \" \" \"*\" \" \"  \" \" \n",
       "4  ( 6 )  \"*\" \" \"  \" \" \" \"  \"*\" \" \"  \" \" \"*\" \" \"  \"*\" \n",
       "4  ( 7 )  \" \" \" \"  \"*\" \" \"  \"*\" \" \"  \"*\" \"*\" \" \"  \" \" \n",
       "4  ( 8 )  \" \" \" \"  \" \" \" \"  \"*\" \"*\"  \" \" \"*\" \"*\"  \" \" \n",
       "4  ( 9 )  \" \" \" \"  \" \" \" \"  \"*\" \"*\"  \"*\" \"*\" \" \"  \" \" \n",
       "4  ( 10 ) \"*\" \" \"  \"*\" \" \"  \"*\" \" \"  \" \" \"*\" \" \"  \" \" \n",
       "4  ( 11 ) \"*\" \"*\"  \"*\" \" \"  \"*\" \" \"  \" \" \" \" \" \"  \" \" \n",
       "4  ( 12 ) \"*\" \" \"  \" \" \"*\"  \"*\" \" \"  \" \" \" \" \" \"  \"*\" \n",
       "4  ( 13 ) \"*\" \" \"  \" \" \" \"  \"*\" \" \"  \" \" \" \" \"*\"  \"*\" \n",
       "4  ( 14 ) \"*\" \" \"  \"*\" \" \"  \"*\" \" \"  \" \" \" \" \" \"  \"*\" \n",
       "4  ( 15 ) \" \" \" \"  \"*\" \"*\"  \"*\" \"*\"  \" \" \" \" \" \"  \" \" \n",
       "4  ( 16 ) \"*\" \" \"  \"*\" \"*\"  \"*\" \" \"  \" \" \" \" \" \"  \" \" \n",
       "4  ( 17 ) \" \" \" \"  \"*\" \" \"  \"*\" \"*\"  \" \" \" \" \"*\"  \" \" \n",
       "4  ( 18 ) \" \" \" \"  \" \" \" \"  \"*\" \"*\"  \" \" \" \" \"*\"  \"*\" \n",
       "4  ( 19 ) \" \" \" \"  \"*\" \" \"  \"*\" \" \"  \" \" \" \" \"*\"  \"*\" \n",
       "4  ( 20 ) \" \" \" \"  \"*\" \" \"  \"*\" \" \"  \" \" \"*\" \" \"  \"*\" \n",
       "4  ( 21 ) \"*\" \" \"  \"*\" \" \"  \"*\" \"*\"  \" \" \" \" \" \"  \" \" \n",
       "4  ( 22 ) \"*\" \"*\"  \" \" \" \"  \"*\" \"*\"  \" \" \" \" \" \"  \" \" \n",
       "4  ( 23 ) \"*\" \" \"  \"*\" \" \"  \"*\" \" \"  \" \" \" \" \"*\"  \" \" \n",
       "4  ( 24 ) \"*\" \" \"  \" \" \" \"  \"*\" \"*\"  \" \" \" \" \" \"  \"*\" \n",
       "4  ( 25 ) \"*\" \" \"  \"*\" \" \"  \"*\" \" \"  \"*\" \" \" \" \"  \" \" \n",
       "4  ( 26 ) \" \" \" \"  \" \" \"*\"  \"*\" \"*\"  \" \" \" \" \" \"  \"*\" \n",
       "4  ( 27 ) \" \" \" \"  \"*\" \"*\"  \"*\" \" \"  \" \" \"*\" \" \"  \" \" \n",
       "4  ( 28 ) \"*\" \"*\"  \" \" \" \"  \"*\" \" \"  \" \" \" \" \" \"  \"*\" \n",
       "4  ( 29 ) \"*\" \" \"  \" \" \" \"  \"*\" \" \"  \"*\" \" \" \" \"  \"*\" \n",
       "4  ( 30 ) \"*\" \" \"  \" \" \"*\"  \"*\" \"*\"  \" \" \" \" \" \"  \" \" \n",
       "4  ( 31 ) \" \" \" \"  \"*\" \"*\"  \"*\" \" \"  \"*\" \" \" \" \"  \" \" \n",
       "4  ( 32 ) \" \" \" \"  \"*\" \"*\"  \"*\" \" \"  \" \" \" \" \" \"  \"*\" \n",
       "4  ( 33 ) \" \" \" \"  \"*\" \" \"  \"*\" \" \"  \" \" \"*\" \"*\"  \" \" \n",
       "4  ( 34 ) \"*\" \" \"  \" \" \" \"  \"*\" \"*\"  \"*\" \" \" \" \"  \" \" \n",
       "4  ( 35 ) \" \" \"*\"  \"*\" \" \"  \"*\" \" \"  \" \" \"*\" \" \"  \" \" \n",
       "4  ( 36 ) \" \" \" \"  \"*\" \" \"  \"*\" \" \"  \"*\" \" \" \"*\"  \" \" \n",
       "4  ( 37 ) \"*\" \" \"  \" \" \" \"  \"*\" \"*\"  \" \" \" \" \"*\"  \" \" \n",
       "4  ( 38 ) \" \" \" \"  \"*\" \"*\"  \"*\" \" \"  \" \" \" \" \"*\"  \" \" \n",
       "4  ( 39 ) \" \" \"*\"  \" \" \"*\"  \"*\" \"*\"  \" \" \" \" \" \"  \" \" \n",
       "4  ( 40 ) \" \" \" \"  \" \" \"*\"  \"*\" \"*\"  \" \" \" \" \"*\"  \" \" \n",
       "4  ( 41 ) \" \" \"*\"  \"*\" \"*\"  \"*\" \" \"  \" \" \" \" \" \"  \" \" \n",
       "4  ( 42 ) \" \" \" \"  \" \" \"*\"  \"*\" \"*\"  \"*\" \" \" \" \"  \" \" \n",
       "4  ( 43 ) \" \" \"*\"  \" \" \"*\"  \" \" \" \"  \" \" \"*\" \" \"  \"*\" \n",
       "4  ( 44 ) \" \" \" \"  \" \" \" \"  \"*\" \" \"  \"*\" \"*\" \" \"  \"*\" \n",
       "4  ( 45 ) \" \" \"*\"  \"*\" \" \"  \"*\" \" \"  \" \" \" \" \"*\"  \" \" \n",
       "5  ( 1 )  \" \" \"*\"  \"*\" \" \"  \"*\" \"*\"  \" \" \"*\" \" \"  \" \" \n",
       "5  ( 2 )  \" \" \" \"  \" \" \"*\"  \"*\" \"*\"  \" \" \"*\" \" \"  \"*\" \n",
       "5  ( 3 )  \" \" \" \"  \"*\" \" \"  \"*\" \"*\"  \" \" \"*\" \" \"  \"*\" \n",
       "5  ( 4 )  \" \" \" \"  \" \" \" \"  \"*\" \"*\"  \" \" \"*\" \"*\"  \"*\" \n",
       "5  ( 5 )  \" \" \" \"  \"*\" \"*\"  \"*\" \"*\"  \" \" \"*\" \" \"  \" \" \n",
       "5  ( 6 )  \"*\" \" \"  \" \" \" \"  \"*\" \"*\"  \" \" \"*\" \" \"  \"*\" \n",
       "5  ( 7 )  \"*\" \" \"  \"*\" \" \"  \"*\" \"*\"  \" \" \"*\" \" \"  \" \" \n",
       "5  ( 8 )  \" \" \" \"  \"*\" \" \"  \"*\" \"*\"  \"*\" \"*\" \" \"  \" \" \n",
       "5  ( 9 )  \" \" \" \"  \"*\" \" \"  \"*\" \"*\"  \" \" \"*\" \"*\"  \" \" \n",
       "5  ( 10 ) \" \" \" \"  \" \" \" \"  \"*\" \"*\"  \"*\" \"*\" \" \"  \"*\" \n",
       "5  ( 11 ) \" \" \"*\"  \" \" \" \"  \"*\" \"*\"  \" \" \"*\" \" \"  \"*\" \n",
       "5  ( 12 ) \"*\" \"*\"  \" \" \" \"  \"*\" \"*\"  \" \" \"*\" \" \"  \" \" \n",
       "5  ( 13 ) \"*\" \" \"  \"*\" \" \"  \"*\" \" \"  \" \" \"*\" \" \"  \"*\" \n",
       "5  ( 14 ) \"*\" \"*\"  \"*\" \" \"  \"*\" \" \"  \" \" \"*\" \" \"  \" \" \n",
       "5  ( 15 ) \" \" \"*\"  \" \" \"*\"  \"*\" \"*\"  \" \" \"*\" \" \"  \" \" \n",
       "5  ( 16 ) \" \" \" \"  \"*\" \" \"  \"*\" \" \"  \"*\" \"*\" \" \"  \"*\" \n",
       "5  ( 17 ) \" \" \"*\"  \"*\" \" \"  \"*\" \" \"  \"*\" \"*\" \" \"  \" \" \n",
       "5  ( 18 ) \" \" \"*\"  \"*\" \" \"  \"*\" \"*\"  \" \" \" \" \"*\"  \" \" \n",
       "5  ( 19 ) \" \" \"*\"  \" \" \" \"  \"*\" \"*\"  \" \" \"*\" \"*\"  \" \" \n",
       "5  ( 20 ) \" \" \"*\"  \" \" \" \"  \"*\" \"*\"  \"*\" \"*\" \" \"  \" \" \n",
       "5  ( 21 ) \"*\" \" \"  \" \" \"*\"  \"*\" \" \"  \" \" \"*\" \" \"  \"*\" \n",
       "5  ( 22 ) \"*\" \" \"  \" \" \" \"  \"*\" \"*\"  \" \" \"*\" \"*\"  \" \" \n",
       "5  ( 23 ) \" \" \" \"  \" \" \"*\"  \"*\" \"*\"  \" \" \" \" \"*\"  \"*\" \n",
       "5  ( 24 ) \"*\" \" \"  \" \" \"*\"  \"*\" \"*\"  \" \" \"*\" \" \"  \" \" \n",
       "5  ( 25 ) \" \" \" \"  \" \" \"*\"  \"*\" \"*\"  \" \" \"*\" \"*\"  \" \" \n",
       "5  ( 26 ) \"*\" \" \"  \"*\" \" \"  \"*\" \" \"  \"*\" \"*\" \" \"  \" \" \n",
       "5  ( 27 ) \"*\" \"*\"  \"*\" \"*\"  \"*\" \" \"  \" \" \" \" \" \"  \" \" \n",
       "5  ( 28 ) \"*\" \" \"  \" \" \" \"  \"*\" \"*\"  \"*\" \"*\" \" \"  \" \" \n",
       "5  ( 29 ) \" \" \" \"  \"*\" \" \"  \"*\" \"*\"  \" \" \" \" \"*\"  \"*\" \n",
       "5  ( 30 ) \"*\" \"*\"  \"*\" \" \"  \"*\" \" \"  \" \" \" \" \"*\"  \" \" \n",
       "5  ( 31 ) \"*\" \" \"  \" \" \" \"  \"*\" \" \"  \"*\" \"*\" \" \"  \"*\" \n",
       "5  ( 32 ) \" \" \" \"  \"*\" \"*\"  \"*\" \" \"  \"*\" \"*\" \" \"  \" \" \n",
       "5  ( 33 ) \" \" \" \"  \" \" \"*\"  \"*\" \"*\"  \"*\" \"*\" \" \"  \" \" \n",
       "5  ( 34 ) \" \" \" \"  \"*\" \" \"  \"*\" \" \"  \" \" \"*\" \"*\"  \"*\" \n",
       "5  ( 35 ) \"*\" \" \"  \"*\" \" \"  \"*\" \" \"  \" \" \" \" \"*\"  \"*\" \n",
       "5  ( 36 ) \" \" \" \"  \"*\" \"*\"  \"*\" \" \"  \" \" \"*\" \" \"  \"*\" \n",
       "5  ( 37 ) \"*\" \" \"  \" \" \" \"  \"*\" \" \"  \" \" \"*\" \"*\"  \"*\" \n",
       "5  ( 38 ) \" \" \" \"  \"*\" \"*\"  \"*\" \" \"  \" \" \" \" \"*\"  \"*\" \n",
       "5  ( 39 ) \"*\" \"*\"  \" \" \" \"  \"*\" \" \"  \" \" \"*\" \" \"  \"*\" \n",
       "5  ( 40 ) \"*\" \"*\"  \"*\" \" \"  \"*\" \"*\"  \" \" \" \" \" \"  \" \" \n",
       "5  ( 41 ) \" \" \" \"  \"*\" \" \"  \"*\" \" \"  \"*\" \"*\" \"*\"  \" \" \n",
       "5  ( 42 ) \"*\" \" \"  \"*\" \"*\"  \"*\" \" \"  \" \" \" \" \" \"  \"*\" \n",
       "5  ( 43 ) \" \" \" \"  \" \" \" \"  \"*\" \"*\"  \"*\" \"*\" \"*\"  \" \" \n",
       "5  ( 44 ) \"*\" \" \"  \"*\" \"*\"  \"*\" \" \"  \" \" \"*\" \" \"  \" \" \n",
       "5  ( 45 ) \"*\" \" \"  \"*\" \" \"  \"*\" \" \"  \" \" \"*\" \"*\"  \" \" \n",
       "6  ( 1 )  \" \" \"*\"  \"*\" \"*\"  \"*\" \"*\"  \" \" \"*\" \" \"  \" \" \n",
       "6  ( 2 )  \" \" \"*\"  \"*\" \" \"  \"*\" \"*\"  \" \" \"*\" \"*\"  \" \" \n",
       "6  ( 3 )  \"*\" \"*\"  \"*\" \" \"  \"*\" \"*\"  \" \" \"*\" \" \"  \" \" \n",
       "6  ( 4 )  \" \" \"*\"  \"*\" \" \"  \"*\" \"*\"  \"*\" \"*\" \" \"  \" \" \n",
       "6  ( 5 )  \" \" \" \"  \"*\" \"*\"  \"*\" \"*\"  \" \" \"*\" \" \"  \"*\" \n",
       "6  ( 6 )  \" \" \"*\"  \"*\" \" \"  \"*\" \"*\"  \" \" \"*\" \" \"  \"*\" \n",
       "6  ( 7 )  \" \" \" \"  \"*\" \" \"  \"*\" \"*\"  \" \" \"*\" \"*\"  \"*\" \n",
       "6  ( 8 )  \" \" \" \"  \" \" \"*\"  \"*\" \"*\"  \" \" \"*\" \"*\"  \"*\" \n",
       "6  ( 9 )  \"*\" \" \"  \"*\" \" \"  \"*\" \"*\"  \" \" \"*\" \" \"  \"*\" \n",
       "6  ( 10 ) \"*\" \" \"  \" \" \"*\"  \"*\" \"*\"  \" \" \"*\" \" \"  \"*\" \n",
       "6  ( 11 ) \" \" \" \"  \"*\" \" \"  \"*\" \"*\"  \"*\" \"*\" \" \"  \"*\" \n",
       "6  ( 12 ) \" \" \"*\"  \" \" \"*\"  \"*\" \"*\"  \" \" \"*\" \" \"  \"*\" \n",
       "6  ( 13 ) \" \" \" \"  \" \" \"*\"  \"*\" \"*\"  \"*\" \"*\" \" \"  \"*\" \n",
       "6  ( 14 ) \"*\" \" \"  \" \" \" \"  \"*\" \"*\"  \" \" \"*\" \"*\"  \"*\" \n",
       "6  ( 15 ) \"*\" \"*\"  \" \" \" \"  \"*\" \"*\"  \" \" \"*\" \" \"  \"*\" \n",
       "6  ( 16 ) \" \" \"*\"  \" \" \" \"  \"*\" \"*\"  \" \" \"*\" \"*\"  \"*\" \n",
       "6  ( 17 ) \" \" \" \"  \" \" \" \"  \"*\" \"*\"  \"*\" \"*\" \"*\"  \"*\" \n",
       "6  ( 18 ) \" \" \" \"  \"*\" \"*\"  \"*\" \"*\"  \"*\" \"*\" \" \"  \" \" \n",
       "6  ( 19 ) \"*\" \" \"  \"*\" \"*\"  \"*\" \"*\"  \" \" \"*\" \" \"  \" \" \n",
       "6  ( 20 ) \" \" \" \"  \"*\" \"*\"  \"*\" \"*\"  \" \" \"*\" \"*\"  \" \" \n",
       "6  ( 21 ) \"*\" \" \"  \" \" \" \"  \"*\" \"*\"  \"*\" \"*\" \" \"  \"*\" \n",
       "6  ( 22 ) \"*\" \"*\"  \"*\" \" \"  \"*\" \" \"  \"*\" \"*\" \" \"  \" \" \n",
       "6  ( 23 ) \"*\" \" \"  \"*\" \" \"  \"*\" \"*\"  \"*\" \"*\" \" \"  \" \" \n",
       "6  ( 24 ) \" \" \" \"  \"*\" \" \"  \"*\" \"*\"  \"*\" \"*\" \"*\"  \" \" \n",
       "6  ( 25 ) \"*\" \" \"  \"*\" \" \"  \"*\" \"*\"  \" \" \"*\" \"*\"  \" \" \n",
       "6  ( 26 ) \" \" \" \"  \"*\" \"*\"  \"*\" \" \"  \"*\" \"*\" \" \"  \"*\" \n",
       "6  ( 27 ) \"*\" \"*\"  \" \" \"*\"  \"*\" \"*\"  \" \" \"*\" \" \"  \" \" \n",
       "6  ( 28 ) \"*\" \" \"  \"*\" \"*\"  \"*\" \" \"  \" \" \"*\" \" \"  \"*\" \n",
       "6  ( 29 ) \" \" \" \"  \"*\" \" \"  \"*\" \" \"  \"*\" \"*\" \"*\"  \"*\" \n",
       "6  ( 30 ) \" \" \"*\"  \"*\" \"*\"  \"*\" \"*\"  \" \" \" \" \"*\"  \" \" \n",
       "6  ( 31 ) \"*\" \" \"  \"*\" \" \"  \"*\" \" \"  \"*\" \"*\" \" \"  \"*\" \n",
       "6  ( 32 ) \" \" \"*\"  \" \" \" \"  \"*\" \"*\"  \"*\" \"*\" \" \"  \"*\" \n",
       "6  ( 33 ) \"*\" \"*\"  \" \" \" \"  \"*\" \"*\"  \"*\" \"*\" \" \"  \" \" \n",
       "6  ( 34 ) \"*\" \"*\"  \" \" \" \"  \"*\" \"*\"  \" \" \"*\" \"*\"  \" \" \n",
       "6  ( 35 ) \"*\" \" \"  \"*\" \" \"  \"*\" \" \"  \" \" \"*\" \"*\"  \"*\" \n",
       "6  ( 36 ) \"*\" \"*\"  \"*\" \" \"  \"*\" \" \"  \" \" \"*\" \" \"  \"*\" \n",
       "6  ( 37 ) \"*\" \"*\"  \"*\" \" \"  \"*\" \"*\"  \" \" \" \" \"*\"  \" \" \n",
       "6  ( 38 ) \" \" \"*\"  \"*\" \"*\"  \"*\" \" \"  \"*\" \"*\" \" \"  \" \" \n",
       "6  ( 39 ) \" \" \" \"  \"*\" \"*\"  \"*\" \"*\"  \" \" \" \" \"*\"  \"*\" \n",
       "6  ( 40 ) \"*\" \"*\"  \"*\" \"*\"  \"*\" \" \"  \" \" \"*\" \" \"  \" \" \n",
       "6  ( 41 ) \"*\" \"*\"  \"*\" \" \"  \"*\" \" \"  \" \" \"*\" \"*\"  \" \" \n",
       "6  ( 42 ) \" \" \"*\"  \"*\" \" \"  \"*\" \" \"  \"*\" \"*\" \" \"  \"*\" \n",
       "6  ( 43 ) \" \" \"*\"  \"*\" \" \"  \"*\" \" \"  \"*\" \"*\" \"*\"  \" \" \n",
       "6  ( 44 ) \" \" \"*\"  \" \" \"*\"  \"*\" \"*\"  \" \" \"*\" \"*\"  \" \" \n",
       "6  ( 45 ) \" \" \"*\"  \" \" \"*\"  \"*\" \"*\"  \"*\" \"*\" \" \"  \" \" \n",
       "7  ( 1 )  \" \" \"*\"  \"*\" \"*\"  \"*\" \"*\"  \" \" \"*\" \"*\"  \" \" \n",
       "7  ( 2 )  \"*\" \"*\"  \"*\" \"*\"  \"*\" \"*\"  \" \" \"*\" \" \"  \" \" \n",
       "7  ( 3 )  \" \" \"*\"  \"*\" \"*\"  \"*\" \"*\"  \"*\" \"*\" \" \"  \" \" \n",
       "7  ( 4 )  \"*\" \"*\"  \"*\" \" \"  \"*\" \"*\"  \" \" \"*\" \"*\"  \" \" \n",
       "7  ( 5 )  \" \" \"*\"  \"*\" \" \"  \"*\" \"*\"  \"*\" \"*\" \"*\"  \" \" \n",
       "7  ( 6 )  \" \" \"*\"  \"*\" \"*\"  \"*\" \"*\"  \" \" \"*\" \" \"  \"*\" \n",
       "7  ( 7 )  \" \" \"*\"  \"*\" \" \"  \"*\" \"*\"  \" \" \"*\" \"*\"  \"*\" \n",
       "7  ( 8 )  \"*\" \"*\"  \"*\" \" \"  \"*\" \"*\"  \"*\" \"*\" \" \"  \" \" \n",
       "7  ( 9 )  \"*\" \"*\"  \"*\" \" \"  \"*\" \"*\"  \" \" \"*\" \" \"  \"*\" \n",
       "7  ( 10 ) \" \" \" \"  \"*\" \"*\"  \"*\" \"*\"  \" \" \"*\" \"*\"  \"*\" \n",
       "7  ( 11 ) \" \" \"*\"  \"*\" \" \"  \"*\" \"*\"  \"*\" \"*\" \" \"  \"*\" \n",
       "7  ( 12 ) \" \" \" \"  \"*\" \"*\"  \"*\" \"*\"  \"*\" \"*\" \" \"  \"*\" \n",
       "7  ( 13 ) \"*\" \" \"  \"*\" \"*\"  \"*\" \"*\"  \" \" \"*\" \" \"  \"*\" \n",
       "7  ( 14 ) \" \" \" \"  \"*\" \" \"  \"*\" \"*\"  \"*\" \"*\" \"*\"  \"*\" \n",
       "7  ( 15 ) \"*\" \" \"  \"*\" \" \"  \"*\" \"*\"  \" \" \"*\" \"*\"  \"*\" \n",
       "7  ( 16 ) \"*\" \" \"  \" \" \"*\"  \"*\" \"*\"  \" \" \"*\" \"*\"  \"*\" \n",
       "7  ( 17 ) \" \" \"*\"  \" \" \"*\"  \"*\" \"*\"  \" \" \"*\" \"*\"  \"*\" \n",
       "7  ( 18 ) \" \" \" \"  \" \" \"*\"  \"*\" \"*\"  \"*\" \"*\" \"*\"  \"*\" \n",
       "7  ( 19 ) \"*\" \"*\"  \" \" \"*\"  \"*\" \"*\"  \" \" \"*\" \" \"  \"*\" \n",
       "7  ( 20 ) \"*\" \" \"  \"*\" \" \"  \"*\" \"*\"  \"*\" \"*\" \" \"  \"*\" \n",
       "7  ( 21 ) \"*\" \" \"  \" \" \"*\"  \"*\" \"*\"  \"*\" \"*\" \" \"  \"*\" \n",
       "7  ( 22 ) \" \" \"*\"  \" \" \"*\"  \"*\" \"*\"  \"*\" \"*\" \" \"  \"*\" \n",
       "7  ( 23 ) \"*\" \"*\"  \" \" \" \"  \"*\" \"*\"  \" \" \"*\" \"*\"  \"*\" \n",
       "7  ( 24 ) \"*\" \" \"  \" \" \" \"  \"*\" \"*\"  \"*\" \"*\" \"*\"  \"*\" \n",
       "7  ( 25 ) \"*\" \"*\"  \" \" \" \"  \"*\" \"*\"  \"*\" \"*\" \" \"  \"*\" \n",
       "7  ( 26 ) \" \" \"*\"  \" \" \" \"  \"*\" \"*\"  \"*\" \"*\" \"*\"  \"*\" \n",
       "7  ( 27 ) \" \" \" \"  \"*\" \"*\"  \"*\" \" \"  \"*\" \"*\" \"*\"  \"*\" \n",
       "7  ( 28 ) \"*\" \" \"  \"*\" \"*\"  \"*\" \"*\"  \"*\" \"*\" \" \"  \" \" \n",
       "7  ( 29 ) \" \" \" \"  \"*\" \"*\"  \"*\" \"*\"  \"*\" \"*\" \"*\"  \" \" \n",
       "7  ( 30 ) \"*\" \" \"  \"*\" \"*\"  \"*\" \"*\"  \" \" \"*\" \"*\"  \" \" \n",
       "7  ( 31 ) \"*\" \"*\"  \"*\" \"*\"  \"*\" \" \"  \"*\" \"*\" \" \"  \" \" \n",
       "7  ( 32 ) \"*\" \"*\"  \"*\" \" \"  \"*\" \" \"  \"*\" \"*\" \" \"  \"*\" \n",
       "7  ( 33 ) \"*\" \"*\"  \"*\" \"*\"  \"*\" \"*\"  \" \" \" \" \"*\"  \" \" \n",
       "7  ( 34 ) \"*\" \" \"  \"*\" \"*\"  \"*\" \" \"  \"*\" \"*\" \" \"  \"*\" \n",
       "7  ( 35 ) \"*\" \"*\"  \"*\" \" \"  \"*\" \" \"  \"*\" \"*\" \"*\"  \" \" \n",
       "7  ( 36 ) \" \" \"*\"  \"*\" \"*\"  \"*\" \"*\"  \" \" \" \" \"*\"  \"*\" \n",
       "7  ( 37 ) \"*\" \" \"  \"*\" \" \"  \"*\" \" \"  \"*\" \"*\" \"*\"  \"*\" \n",
       "7  ( 38 ) \"*\" \" \"  \"*\" \"*\"  \"*\" \" \"  \" \" \"*\" \"*\"  \"*\" \n",
       "7  ( 39 ) \" \" \"*\"  \"*\" \"*\"  \"*\" \" \"  \"*\" \"*\" \" \"  \"*\" \n",
       "7  ( 40 ) \"*\" \" \"  \"*\" \" \"  \"*\" \"*\"  \"*\" \"*\" \"*\"  \" \" \n",
       "7  ( 41 ) \"*\" \"*\"  \"*\" \"*\"  \"*\" \" \"  \" \" \"*\" \" \"  \"*\" \n",
       "7  ( 42 ) \" \" \"*\"  \"*\" \" \"  \"*\" \" \"  \"*\" \"*\" \"*\"  \"*\" \n",
       "7  ( 43 ) \"*\" \"*\"  \" \" \"*\"  \"*\" \"*\"  \"*\" \"*\" \" \"  \" \" \n",
       "7  ( 44 ) \"*\" \"*\"  \" \" \"*\"  \"*\" \"*\"  \" \" \"*\" \"*\"  \" \" \n",
       "7  ( 45 ) \"*\" \"*\"  \"*\" \" \"  \"*\" \" \"  \" \" \"*\" \"*\"  \"*\" \n",
       "8  ( 1 )  \" \" \"*\"  \"*\" \"*\"  \"*\" \"*\"  \" \" \"*\" \"*\"  \"*\" \n",
       "8  ( 2 )  \" \" \"*\"  \"*\" \"*\"  \"*\" \"*\"  \"*\" \"*\" \"*\"  \" \" \n",
       "8  ( 3 )  \"*\" \"*\"  \"*\" \"*\"  \"*\" \"*\"  \" \" \"*\" \"*\"  \" \" \n",
       "8  ( 4 )  \"*\" \"*\"  \"*\" \"*\"  \"*\" \"*\"  \"*\" \"*\" \" \"  \" \" \n",
       "8  ( 5 )  \"*\" \"*\"  \"*\" \"*\"  \"*\" \"*\"  \" \" \"*\" \" \"  \"*\" \n",
       "8  ( 6 )  \"*\" \"*\"  \"*\" \" \"  \"*\" \"*\"  \"*\" \"*\" \"*\"  \" \" \n",
       "8  ( 7 )  \"*\" \"*\"  \"*\" \" \"  \"*\" \"*\"  \" \" \"*\" \"*\"  \"*\" \n",
       "8  ( 8 )  \" \" \"*\"  \"*\" \"*\"  \"*\" \"*\"  \"*\" \"*\" \" \"  \"*\" \n",
       "8  ( 9 )  \" \" \"*\"  \"*\" \" \"  \"*\" \"*\"  \"*\" \"*\" \"*\"  \"*\" \n",
       "8  ( 10 ) \"*\" \"*\"  \"*\" \" \"  \"*\" \"*\"  \"*\" \"*\" \" \"  \"*\" \n",
       "8  ( 11 ) \"*\" \" \"  \"*\" \"*\"  \"*\" \"*\"  \" \" \"*\" \"*\"  \"*\" \n",
       "8  ( 12 ) \" \" \" \"  \"*\" \"*\"  \"*\" \"*\"  \"*\" \"*\" \"*\"  \"*\" \n",
       "8  ( 13 ) \"*\" \" \"  \"*\" \"*\"  \"*\" \"*\"  \"*\" \"*\" \" \"  \"*\" \n",
       "8  ( 14 ) \"*\" \" \"  \"*\" \" \"  \"*\" \"*\"  \"*\" \"*\" \"*\"  \"*\" \n",
       "8  ( 15 ) \"*\" \"*\"  \" \" \"*\"  \"*\" \"*\"  \" \" \"*\" \"*\"  \"*\" \n",
       "8  ( 16 ) \"*\" \" \"  \" \" \"*\"  \"*\" \"*\"  \"*\" \"*\" \"*\"  \"*\" \n",
       "8  ( 17 ) \" \" \"*\"  \" \" \"*\"  \"*\" \"*\"  \"*\" \"*\" \"*\"  \"*\" \n",
       "8  ( 18 ) \"*\" \"*\"  \" \" \"*\"  \"*\" \"*\"  \"*\" \"*\" \" \"  \"*\" \n",
       "8  ( 19 ) \"*\" \"*\"  \" \" \" \"  \"*\" \"*\"  \"*\" \"*\" \"*\"  \"*\" \n",
       "8  ( 20 ) \"*\" \"*\"  \"*\" \"*\"  \"*\" \" \"  \"*\" \"*\" \" \"  \"*\" \n",
       "8  ( 21 ) \" \" \"*\"  \"*\" \"*\"  \"*\" \" \"  \"*\" \"*\" \"*\"  \"*\" \n",
       "8  ( 22 ) \"*\" \"*\"  \"*\" \" \"  \"*\" \" \"  \"*\" \"*\" \"*\"  \"*\" \n",
       "8  ( 23 ) \"*\" \" \"  \"*\" \"*\"  \"*\" \" \"  \"*\" \"*\" \"*\"  \"*\" \n",
       "8  ( 24 ) \"*\" \"*\"  \"*\" \"*\"  \"*\" \"*\"  \" \" \" \" \"*\"  \"*\" \n",
       "8  ( 25 ) \"*\" \" \"  \"*\" \"*\"  \"*\" \"*\"  \"*\" \"*\" \"*\"  \" \" \n",
       "8  ( 26 ) \"*\" \"*\"  \"*\" \"*\"  \"*\" \" \"  \"*\" \"*\" \"*\"  \" \" \n",
       "8  ( 27 ) \"*\" \"*\"  \"*\" \"*\"  \"*\" \"*\"  \"*\" \" \" \"*\"  \" \" \n",
       "8  ( 28 ) \"*\" \"*\"  \"*\" \"*\"  \"*\" \" \"  \" \" \"*\" \"*\"  \"*\" \n",
       "8  ( 29 ) \" \" \"*\"  \"*\" \"*\"  \"*\" \"*\"  \"*\" \" \" \"*\"  \"*\" \n",
       "8  ( 30 ) \"*\" \"*\"  \" \" \"*\"  \"*\" \"*\"  \"*\" \"*\" \"*\"  \" \" \n",
       "8  ( 31 ) \"*\" \"*\"  \"*\" \" \"  \"*\" \"*\"  \"*\" \" \" \"*\"  \"*\" \n",
       "8  ( 32 ) \"*\" \" \"  \"*\" \"*\"  \"*\" \"*\"  \"*\" \" \" \"*\"  \"*\" \n",
       "8  ( 33 ) \"*\" \"*\"  \"*\" \"*\"  \"*\" \" \"  \"*\" \" \" \"*\"  \"*\" \n",
       "8  ( 34 ) \"*\" \"*\"  \"*\" \"*\"  \"*\" \"*\"  \"*\" \" \" \" \"  \"*\" \n",
       "8  ( 35 ) \"*\" \"*\"  \" \" \"*\"  \"*\" \"*\"  \"*\" \" \" \"*\"  \"*\" \n",
       "8  ( 36 ) \"*\" \"*\"  \" \" \"*\"  \"*\" \" \"  \"*\" \"*\" \"*\"  \"*\" \n",
       "8  ( 37 ) \" \" \"*\"  \"*\" \"*\"  \" \" \"*\"  \"*\" \"*\" \"*\"  \"*\" \n",
       "8  ( 38 ) \"*\" \"*\"  \"*\" \"*\"  \" \" \" \"  \"*\" \"*\" \"*\"  \"*\" \n",
       "8  ( 39 ) \"*\" \"*\"  \"*\" \"*\"  \" \" \"*\"  \" \" \"*\" \"*\"  \"*\" \n",
       "8  ( 40 ) \"*\" \"*\"  \" \" \"*\"  \" \" \"*\"  \"*\" \"*\" \"*\"  \"*\" \n",
       "8  ( 41 ) \"*\" \"*\"  \"*\" \"*\"  \" \" \"*\"  \"*\" \"*\" \" \"  \"*\" \n",
       "8  ( 42 ) \"*\" \"*\"  \"*\" \" \"  \" \" \"*\"  \"*\" \"*\" \"*\"  \"*\" \n",
       "8  ( 43 ) \"*\" \" \"  \"*\" \"*\"  \" \" \"*\"  \"*\" \"*\" \"*\"  \"*\" \n",
       "8  ( 44 ) \"*\" \"*\"  \"*\" \"*\"  \" \" \"*\"  \"*\" \" \" \"*\"  \"*\" \n",
       "8  ( 45 ) \"*\" \"*\"  \"*\" \"*\"  \" \" \"*\"  \"*\" \"*\" \"*\"  \" \" \n",
       "9  ( 1 )  \" \" \"*\"  \"*\" \"*\"  \"*\" \"*\"  \"*\" \"*\" \"*\"  \"*\" \n",
       "9  ( 2 )  \"*\" \"*\"  \"*\" \"*\"  \"*\" \"*\"  \" \" \"*\" \"*\"  \"*\" \n",
       "9  ( 3 )  \"*\" \"*\"  \"*\" \"*\"  \"*\" \"*\"  \"*\" \"*\" \"*\"  \" \" \n",
       "9  ( 4 )  \"*\" \"*\"  \"*\" \"*\"  \"*\" \"*\"  \"*\" \"*\" \" \"  \"*\" \n",
       "9  ( 5 )  \"*\" \"*\"  \"*\" \" \"  \"*\" \"*\"  \"*\" \"*\" \"*\"  \"*\" \n",
       "9  ( 6 )  \"*\" \" \"  \"*\" \"*\"  \"*\" \"*\"  \"*\" \"*\" \"*\"  \"*\" \n",
       "9  ( 7 )  \"*\" \"*\"  \" \" \"*\"  \"*\" \"*\"  \"*\" \"*\" \"*\"  \"*\" \n",
       "9  ( 8 )  \"*\" \"*\"  \"*\" \"*\"  \"*\" \" \"  \"*\" \"*\" \"*\"  \"*\" \n",
       "9  ( 9 )  \"*\" \"*\"  \"*\" \"*\"  \"*\" \"*\"  \"*\" \" \" \"*\"  \"*\" \n",
       "9  ( 10 ) \"*\" \"*\"  \"*\" \"*\"  \" \" \"*\"  \"*\" \"*\" \"*\"  \"*\" "
      ]
     },
     "metadata": {},
     "output_type": "display_data"
    }
   ],
   "source": [
    "fit<-regsubsets(mpg~., data=mtcars, nbest=45,nvmax=9,\n",
    "method='exhaustive', really.big=T\n",
    ")\n",
    "summary(fit)"
   ]
  },
  {
   "cell_type": "code",
   "execution_count": 63,
   "id": "f4bf1b28-0ab8-4170-83ff-a232f143d462",
   "metadata": {},
   "outputs": [
    {
     "data": {
      "text/plain": [
       "Subset selection object\n",
       "Call: regsubsets.formula(mpg ~ ., data = mtcars, nbest = 1, method = \"backward\", \n",
       "    )\n",
       "10 Variables  (and intercept)\n",
       "     Forced in Forced out\n",
       "cyl      FALSE      FALSE\n",
       "disp     FALSE      FALSE\n",
       "hp       FALSE      FALSE\n",
       "drat     FALSE      FALSE\n",
       "wt       FALSE      FALSE\n",
       "qsec     FALSE      FALSE\n",
       "vs       FALSE      FALSE\n",
       "am       FALSE      FALSE\n",
       "gear     FALSE      FALSE\n",
       "carb     FALSE      FALSE\n",
       "1 subsets of each size up to 8\n",
       "Selection Algorithm: backward\n",
       "         cyl disp hp  drat wt  qsec vs  am  gear carb\n",
       "1  ( 1 ) \" \" \" \"  \" \" \" \"  \"*\" \" \"  \" \" \" \" \" \"  \" \" \n",
       "2  ( 1 ) \" \" \" \"  \" \" \" \"  \"*\" \"*\"  \" \" \" \" \" \"  \" \" \n",
       "3  ( 1 ) \" \" \" \"  \" \" \" \"  \"*\" \"*\"  \" \" \"*\" \" \"  \" \" \n",
       "4  ( 1 ) \" \" \" \"  \"*\" \" \"  \"*\" \"*\"  \" \" \"*\" \" \"  \" \" \n",
       "5  ( 1 ) \" \" \"*\"  \"*\" \" \"  \"*\" \"*\"  \" \" \"*\" \" \"  \" \" \n",
       "6  ( 1 ) \" \" \"*\"  \"*\" \"*\"  \"*\" \"*\"  \" \" \"*\" \" \"  \" \" \n",
       "7  ( 1 ) \" \" \"*\"  \"*\" \"*\"  \"*\" \"*\"  \" \" \"*\" \"*\"  \" \" \n",
       "8  ( 1 ) \" \" \"*\"  \"*\" \"*\"  \"*\" \"*\"  \" \" \"*\" \"*\"  \"*\" "
      ]
     },
     "metadata": {},
     "output_type": "display_data"
    },
    {
     "data": {
      "text/html": [
       "<table class=\"dataframe\">\n",
       "<caption>A matrix: 8 × 16 of type dbl</caption>\n",
       "<thead>\n",
       "\t<tr><th></th><th scope=col>(Intercept)</th><th scope=col>cyl</th><th scope=col>disp</th><th scope=col>hp</th><th scope=col>drat</th><th scope=col>wt</th><th scope=col>qsec</th><th scope=col>vs</th><th scope=col>am</th><th scope=col>gear</th><th scope=col>carb</th><th scope=col>rss</th><th scope=col>rsq</th><th scope=col>adjr2</th><th scope=col>cp</th><th scope=col>bic</th></tr>\n",
       "</thead>\n",
       "<tbody>\n",
       "\t<tr><th scope=row>1</th><td>1</td><td>0</td><td>0</td><td>0</td><td>0</td><td>1</td><td>0</td><td>0</td><td>0</td><td>0</td><td>0</td><td>278.322</td><td>0.753</td><td>0.745</td><td>11.627</td><td>-37.795</td></tr>\n",
       "\t<tr><th scope=row>2</th><td>1</td><td>0</td><td>0</td><td>0</td><td>0</td><td>1</td><td>1</td><td>0</td><td>0</td><td>0</td><td>0</td><td>195.464</td><td>0.826</td><td>0.814</td><td> 1.830</td><td>-45.638</td></tr>\n",
       "\t<tr><th scope=row>3</th><td>1</td><td>0</td><td>0</td><td>0</td><td>0</td><td>1</td><td>1</td><td>0</td><td>1</td><td>0</td><td>0</td><td>169.286</td><td>0.850</td><td>0.834</td><td> 0.103</td><td>-46.773</td></tr>\n",
       "\t<tr><th scope=row>4</th><td>1</td><td>0</td><td>0</td><td>1</td><td>0</td><td>1</td><td>1</td><td>0</td><td>1</td><td>0</td><td>0</td><td>160.066</td><td>0.858</td><td>0.837</td><td> 0.790</td><td>-45.099</td></tr>\n",
       "\t<tr><th scope=row>5</th><td>1</td><td>0</td><td>1</td><td>1</td><td>0</td><td>1</td><td>1</td><td>0</td><td>1</td><td>0</td><td>0</td><td>153.438</td><td>0.864</td><td>0.838</td><td> 1.846</td><td>-42.987</td></tr>\n",
       "\t<tr><th scope=row>6</th><td>1</td><td>0</td><td>1</td><td>1</td><td>1</td><td>1</td><td>1</td><td>0</td><td>1</td><td>0</td><td>0</td><td>150.093</td><td>0.867</td><td>0.835</td><td> 3.370</td><td>-40.227</td></tr>\n",
       "\t<tr><th scope=row>7</th><td>1</td><td>0</td><td>1</td><td>1</td><td>1</td><td>1</td><td>1</td><td>0</td><td>1</td><td>1</td><td>0</td><td>148.528</td><td>0.868</td><td>0.830</td><td> 5.147</td><td>-37.096</td></tr>\n",
       "\t<tr><th scope=row>8</th><td>1</td><td>0</td><td>1</td><td>1</td><td>1</td><td>1</td><td>1</td><td>0</td><td>1</td><td>1</td><td>1</td><td>147.843</td><td>0.869</td><td>0.823</td><td> 7.050</td><td>-33.779</td></tr>\n",
       "</tbody>\n",
       "</table>\n"
      ],
      "text/latex": [
       "A matrix: 8 × 16 of type dbl\n",
       "\\begin{tabular}{r|llllllllllllllll}\n",
       "  & (Intercept) & cyl & disp & hp & drat & wt & qsec & vs & am & gear & carb & rss & rsq & adjr2 & cp & bic\\\\\n",
       "\\hline\n",
       "\t1 & 1 & 0 & 0 & 0 & 0 & 1 & 0 & 0 & 0 & 0 & 0 & 278.322 & 0.753 & 0.745 & 11.627 & -37.795\\\\\n",
       "\t2 & 1 & 0 & 0 & 0 & 0 & 1 & 1 & 0 & 0 & 0 & 0 & 195.464 & 0.826 & 0.814 &  1.830 & -45.638\\\\\n",
       "\t3 & 1 & 0 & 0 & 0 & 0 & 1 & 1 & 0 & 1 & 0 & 0 & 169.286 & 0.850 & 0.834 &  0.103 & -46.773\\\\\n",
       "\t4 & 1 & 0 & 0 & 1 & 0 & 1 & 1 & 0 & 1 & 0 & 0 & 160.066 & 0.858 & 0.837 &  0.790 & -45.099\\\\\n",
       "\t5 & 1 & 0 & 1 & 1 & 0 & 1 & 1 & 0 & 1 & 0 & 0 & 153.438 & 0.864 & 0.838 &  1.846 & -42.987\\\\\n",
       "\t6 & 1 & 0 & 1 & 1 & 1 & 1 & 1 & 0 & 1 & 0 & 0 & 150.093 & 0.867 & 0.835 &  3.370 & -40.227\\\\\n",
       "\t7 & 1 & 0 & 1 & 1 & 1 & 1 & 1 & 0 & 1 & 1 & 0 & 148.528 & 0.868 & 0.830 &  5.147 & -37.096\\\\\n",
       "\t8 & 1 & 0 & 1 & 1 & 1 & 1 & 1 & 0 & 1 & 1 & 1 & 147.843 & 0.869 & 0.823 &  7.050 & -33.779\\\\\n",
       "\\end{tabular}\n"
      ],
      "text/markdown": [
       "\n",
       "A matrix: 8 × 16 of type dbl\n",
       "\n",
       "| <!--/--> | (Intercept) | cyl | disp | hp | drat | wt | qsec | vs | am | gear | carb | rss | rsq | adjr2 | cp | bic |\n",
       "|---|---|---|---|---|---|---|---|---|---|---|---|---|---|---|---|---|\n",
       "| 1 | 1 | 0 | 0 | 0 | 0 | 1 | 0 | 0 | 0 | 0 | 0 | 278.322 | 0.753 | 0.745 | 11.627 | -37.795 |\n",
       "| 2 | 1 | 0 | 0 | 0 | 0 | 1 | 1 | 0 | 0 | 0 | 0 | 195.464 | 0.826 | 0.814 |  1.830 | -45.638 |\n",
       "| 3 | 1 | 0 | 0 | 0 | 0 | 1 | 1 | 0 | 1 | 0 | 0 | 169.286 | 0.850 | 0.834 |  0.103 | -46.773 |\n",
       "| 4 | 1 | 0 | 0 | 1 | 0 | 1 | 1 | 0 | 1 | 0 | 0 | 160.066 | 0.858 | 0.837 |  0.790 | -45.099 |\n",
       "| 5 | 1 | 0 | 1 | 1 | 0 | 1 | 1 | 0 | 1 | 0 | 0 | 153.438 | 0.864 | 0.838 |  1.846 | -42.987 |\n",
       "| 6 | 1 | 0 | 1 | 1 | 1 | 1 | 1 | 0 | 1 | 0 | 0 | 150.093 | 0.867 | 0.835 |  3.370 | -40.227 |\n",
       "| 7 | 1 | 0 | 1 | 1 | 1 | 1 | 1 | 0 | 1 | 1 | 0 | 148.528 | 0.868 | 0.830 |  5.147 | -37.096 |\n",
       "| 8 | 1 | 0 | 1 | 1 | 1 | 1 | 1 | 0 | 1 | 1 | 1 | 147.843 | 0.869 | 0.823 |  7.050 | -33.779 |\n",
       "\n"
      ],
      "text/plain": [
       "  (Intercept) cyl disp hp drat wt qsec vs am gear carb rss     rsq   adjr2\n",
       "1 1           0   0    0  0    1  0    0  0  0    0    278.322 0.753 0.745\n",
       "2 1           0   0    0  0    1  1    0  0  0    0    195.464 0.826 0.814\n",
       "3 1           0   0    0  0    1  1    0  1  0    0    169.286 0.850 0.834\n",
       "4 1           0   0    1  0    1  1    0  1  0    0    160.066 0.858 0.837\n",
       "5 1           0   1    1  0    1  1    0  1  0    0    153.438 0.864 0.838\n",
       "6 1           0   1    1  1    1  1    0  1  0    0    150.093 0.867 0.835\n",
       "7 1           0   1    1  1    1  1    0  1  1    0    148.528 0.868 0.830\n",
       "8 1           0   1    1  1    1  1    0  1  1    1    147.843 0.869 0.823\n",
       "  cp     bic    \n",
       "1 11.627 -37.795\n",
       "2  1.830 -45.638\n",
       "3  0.103 -46.773\n",
       "4  0.790 -45.099\n",
       "5  1.846 -42.987\n",
       "6  3.370 -40.227\n",
       "7  5.147 -37.096\n",
       "8  7.050 -33.779"
      ]
     },
     "metadata": {},
     "output_type": "display_data"
    }
   ],
   "source": [
    "fit<-regsubsets(mpg~., data=mtcars, nbest=1,\n",
    "method='backward',\n",
    ")\n",
    "summary(fit)\n",
    "with(summary(fit),\n",
    "     round(cbind(which,rss,rsq,adjr2,cp,bic),3))"
   ]
  },
  {
   "cell_type": "code",
   "execution_count": 64,
   "id": "3d056af1-36be-491a-ba7c-49c12cd2bc4b",
   "metadata": {},
   "outputs": [
    {
     "data": {
      "text/plain": [
       "Subset selection object\n",
       "Call: regsubsets.formula(mpg ~ ., data = mtcars, nbest = 1, method = \"forward\", \n",
       "    )\n",
       "10 Variables  (and intercept)\n",
       "     Forced in Forced out\n",
       "cyl      FALSE      FALSE\n",
       "disp     FALSE      FALSE\n",
       "hp       FALSE      FALSE\n",
       "drat     FALSE      FALSE\n",
       "wt       FALSE      FALSE\n",
       "qsec     FALSE      FALSE\n",
       "vs       FALSE      FALSE\n",
       "am       FALSE      FALSE\n",
       "gear     FALSE      FALSE\n",
       "carb     FALSE      FALSE\n",
       "1 subsets of each size up to 8\n",
       "Selection Algorithm: forward\n",
       "         cyl disp hp  drat wt  qsec vs  am  gear carb\n",
       "1  ( 1 ) \" \" \" \"  \" \" \" \"  \"*\" \" \"  \" \" \" \" \" \"  \" \" \n",
       "2  ( 1 ) \"*\" \" \"  \" \" \" \"  \"*\" \" \"  \" \" \" \" \" \"  \" \" \n",
       "3  ( 1 ) \"*\" \" \"  \"*\" \" \"  \"*\" \" \"  \" \" \" \" \" \"  \" \" \n",
       "4  ( 1 ) \"*\" \" \"  \"*\" \" \"  \"*\" \" \"  \" \" \"*\" \" \"  \" \" \n",
       "5  ( 1 ) \"*\" \" \"  \"*\" \" \"  \"*\" \"*\"  \" \" \"*\" \" \"  \" \" \n",
       "6  ( 1 ) \"*\" \"*\"  \"*\" \" \"  \"*\" \"*\"  \" \" \"*\" \" \"  \" \" \n",
       "7  ( 1 ) \"*\" \"*\"  \"*\" \"*\"  \"*\" \"*\"  \" \" \"*\" \" \"  \" \" \n",
       "8  ( 1 ) \"*\" \"*\"  \"*\" \"*\"  \"*\" \"*\"  \" \" \"*\" \"*\"  \" \" "
      ]
     },
     "metadata": {},
     "output_type": "display_data"
    },
    {
     "data": {
      "text/html": [
       "<table class=\"dataframe\">\n",
       "<caption>A matrix: 8 × 16 of type dbl</caption>\n",
       "<thead>\n",
       "\t<tr><th></th><th scope=col>(Intercept)</th><th scope=col>cyl</th><th scope=col>disp</th><th scope=col>hp</th><th scope=col>drat</th><th scope=col>wt</th><th scope=col>qsec</th><th scope=col>vs</th><th scope=col>am</th><th scope=col>gear</th><th scope=col>carb</th><th scope=col>rss</th><th scope=col>rsq</th><th scope=col>adjr2</th><th scope=col>cp</th><th scope=col>bic</th></tr>\n",
       "</thead>\n",
       "<tbody>\n",
       "\t<tr><th scope=row>1</th><td>1</td><td>0</td><td>0</td><td>0</td><td>0</td><td>1</td><td>0</td><td>0</td><td>0</td><td>0</td><td>0</td><td>278.322</td><td>0.753</td><td>0.745</td><td>11.627</td><td>-37.795</td></tr>\n",
       "\t<tr><th scope=row>2</th><td>1</td><td>1</td><td>0</td><td>0</td><td>0</td><td>1</td><td>0</td><td>0</td><td>0</td><td>0</td><td>0</td><td>191.172</td><td>0.830</td><td>0.819</td><td> 1.219</td><td>-46.348</td></tr>\n",
       "\t<tr><th scope=row>3</th><td>1</td><td>1</td><td>0</td><td>1</td><td>0</td><td>1</td><td>0</td><td>0</td><td>0</td><td>0</td><td>0</td><td>176.621</td><td>0.843</td><td>0.826</td><td> 1.147</td><td>-45.416</td></tr>\n",
       "\t<tr><th scope=row>4</th><td>1</td><td>1</td><td>0</td><td>1</td><td>0</td><td>1</td><td>0</td><td>0</td><td>1</td><td>0</td><td>0</td><td>169.998</td><td>0.849</td><td>0.827</td><td> 2.204</td><td>-43.173</td></tr>\n",
       "\t<tr><th scope=row>5</th><td>1</td><td>1</td><td>0</td><td>1</td><td>0</td><td>1</td><td>1</td><td>0</td><td>1</td><td>0</td><td>0</td><td>159.817</td><td>0.858</td><td>0.831</td><td> 2.755</td><td>-41.684</td></tr>\n",
       "\t<tr><th scope=row>6</th><td>1</td><td>1</td><td>1</td><td>1</td><td>0</td><td>1</td><td>1</td><td>0</td><td>1</td><td>0</td><td>0</td><td>150.991</td><td>0.866</td><td>0.834</td><td> 3.498</td><td>-40.036</td></tr>\n",
       "\t<tr><th scope=row>7</th><td>1</td><td>1</td><td>1</td><td>1</td><td>1</td><td>1</td><td>1</td><td>0</td><td>1</td><td>0</td><td>0</td><td>149.090</td><td>0.868</td><td>0.829</td><td> 5.227</td><td>-36.976</td></tr>\n",
       "\t<tr><th scope=row>8</th><td>1</td><td>1</td><td>1</td><td>1</td><td>1</td><td>1</td><td>1</td><td>0</td><td>1</td><td>1</td><td>0</td><td>148.114</td><td>0.868</td><td>0.823</td><td> 7.088</td><td>-33.720</td></tr>\n",
       "</tbody>\n",
       "</table>\n"
      ],
      "text/latex": [
       "A matrix: 8 × 16 of type dbl\n",
       "\\begin{tabular}{r|llllllllllllllll}\n",
       "  & (Intercept) & cyl & disp & hp & drat & wt & qsec & vs & am & gear & carb & rss & rsq & adjr2 & cp & bic\\\\\n",
       "\\hline\n",
       "\t1 & 1 & 0 & 0 & 0 & 0 & 1 & 0 & 0 & 0 & 0 & 0 & 278.322 & 0.753 & 0.745 & 11.627 & -37.795\\\\\n",
       "\t2 & 1 & 1 & 0 & 0 & 0 & 1 & 0 & 0 & 0 & 0 & 0 & 191.172 & 0.830 & 0.819 &  1.219 & -46.348\\\\\n",
       "\t3 & 1 & 1 & 0 & 1 & 0 & 1 & 0 & 0 & 0 & 0 & 0 & 176.621 & 0.843 & 0.826 &  1.147 & -45.416\\\\\n",
       "\t4 & 1 & 1 & 0 & 1 & 0 & 1 & 0 & 0 & 1 & 0 & 0 & 169.998 & 0.849 & 0.827 &  2.204 & -43.173\\\\\n",
       "\t5 & 1 & 1 & 0 & 1 & 0 & 1 & 1 & 0 & 1 & 0 & 0 & 159.817 & 0.858 & 0.831 &  2.755 & -41.684\\\\\n",
       "\t6 & 1 & 1 & 1 & 1 & 0 & 1 & 1 & 0 & 1 & 0 & 0 & 150.991 & 0.866 & 0.834 &  3.498 & -40.036\\\\\n",
       "\t7 & 1 & 1 & 1 & 1 & 1 & 1 & 1 & 0 & 1 & 0 & 0 & 149.090 & 0.868 & 0.829 &  5.227 & -36.976\\\\\n",
       "\t8 & 1 & 1 & 1 & 1 & 1 & 1 & 1 & 0 & 1 & 1 & 0 & 148.114 & 0.868 & 0.823 &  7.088 & -33.720\\\\\n",
       "\\end{tabular}\n"
      ],
      "text/markdown": [
       "\n",
       "A matrix: 8 × 16 of type dbl\n",
       "\n",
       "| <!--/--> | (Intercept) | cyl | disp | hp | drat | wt | qsec | vs | am | gear | carb | rss | rsq | adjr2 | cp | bic |\n",
       "|---|---|---|---|---|---|---|---|---|---|---|---|---|---|---|---|---|\n",
       "| 1 | 1 | 0 | 0 | 0 | 0 | 1 | 0 | 0 | 0 | 0 | 0 | 278.322 | 0.753 | 0.745 | 11.627 | -37.795 |\n",
       "| 2 | 1 | 1 | 0 | 0 | 0 | 1 | 0 | 0 | 0 | 0 | 0 | 191.172 | 0.830 | 0.819 |  1.219 | -46.348 |\n",
       "| 3 | 1 | 1 | 0 | 1 | 0 | 1 | 0 | 0 | 0 | 0 | 0 | 176.621 | 0.843 | 0.826 |  1.147 | -45.416 |\n",
       "| 4 | 1 | 1 | 0 | 1 | 0 | 1 | 0 | 0 | 1 | 0 | 0 | 169.998 | 0.849 | 0.827 |  2.204 | -43.173 |\n",
       "| 5 | 1 | 1 | 0 | 1 | 0 | 1 | 1 | 0 | 1 | 0 | 0 | 159.817 | 0.858 | 0.831 |  2.755 | -41.684 |\n",
       "| 6 | 1 | 1 | 1 | 1 | 0 | 1 | 1 | 0 | 1 | 0 | 0 | 150.991 | 0.866 | 0.834 |  3.498 | -40.036 |\n",
       "| 7 | 1 | 1 | 1 | 1 | 1 | 1 | 1 | 0 | 1 | 0 | 0 | 149.090 | 0.868 | 0.829 |  5.227 | -36.976 |\n",
       "| 8 | 1 | 1 | 1 | 1 | 1 | 1 | 1 | 0 | 1 | 1 | 0 | 148.114 | 0.868 | 0.823 |  7.088 | -33.720 |\n",
       "\n"
      ],
      "text/plain": [
       "  (Intercept) cyl disp hp drat wt qsec vs am gear carb rss     rsq   adjr2\n",
       "1 1           0   0    0  0    1  0    0  0  0    0    278.322 0.753 0.745\n",
       "2 1           1   0    0  0    1  0    0  0  0    0    191.172 0.830 0.819\n",
       "3 1           1   0    1  0    1  0    0  0  0    0    176.621 0.843 0.826\n",
       "4 1           1   0    1  0    1  0    0  1  0    0    169.998 0.849 0.827\n",
       "5 1           1   0    1  0    1  1    0  1  0    0    159.817 0.858 0.831\n",
       "6 1           1   1    1  0    1  1    0  1  0    0    150.991 0.866 0.834\n",
       "7 1           1   1    1  1    1  1    0  1  0    0    149.090 0.868 0.829\n",
       "8 1           1   1    1  1    1  1    0  1  1    0    148.114 0.868 0.823\n",
       "  cp     bic    \n",
       "1 11.627 -37.795\n",
       "2  1.219 -46.348\n",
       "3  1.147 -45.416\n",
       "4  2.204 -43.173\n",
       "5  2.755 -41.684\n",
       "6  3.498 -40.036\n",
       "7  5.227 -36.976\n",
       "8  7.088 -33.720"
      ]
     },
     "metadata": {},
     "output_type": "display_data"
    }
   ],
   "source": [
    "fit<-regsubsets(mpg~., data=mtcars, nbest=1,\n",
    "method='forward',\n",
    ")\n",
    "summary(fit)\n",
    "with(summary(fit),\n",
    "     round(cbind(which,rss,rsq,adjr2,cp,bic),3))"
   ]
  },
  {
   "cell_type": "code",
   "execution_count": null,
   "id": "da507a07-3af0-4168-9843-bbbb25fee20d",
   "metadata": {},
   "outputs": [],
   "source": []
  }
 ],
 "metadata": {
  "kernelspec": {
   "display_name": "R",
   "language": "R",
   "name": "ir"
  },
  "language_info": {
   "codemirror_mode": "r",
   "file_extension": ".r",
   "mimetype": "text/x-r-source",
   "name": "R",
   "pygments_lexer": "r",
   "version": "4.2.2"
  }
 },
 "nbformat": 4,
 "nbformat_minor": 5
}
