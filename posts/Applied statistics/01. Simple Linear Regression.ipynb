{
 "cells": [
  {
   "cell_type": "raw",
   "id": "f374cd55-4254-40d8-bc00-611e4c6c0db4",
   "metadata": {},
   "source": [
    "---\n",
    "title: \"01. SLR(Simple Linear Regression)\"\n",
    "author: \"김보람\"\n",
    "date: \"03/30/2023\"\n",
    "categories:\n",
    "  - Applied statistics\n",
    "  - Simple Linear Regression\n",
    "---"
   ]
  },
  {
   "cell_type": "markdown",
   "id": "3339e995-fb39-4109-be7b-ae64b35600aa",
   "metadata": {},
   "source": [
    "> 해당 자료는 전북대학교 이영미 교수님 2023응용통계학 자료임"
   ]
  },
  {
   "cell_type": "markdown",
   "id": "861929a5-d35d-491a-8fa6-ef9fa2177e7e",
   "metadata": {},
   "source": [
    "# 회귀모형 적합"
   ]
  },
  {
   "cell_type": "markdown",
   "id": "0c204eed-2248-4507-9bda-58f8bcbfa008",
   "metadata": {},
   "source": [
    "## 1. 산점도(시각화), 상관 계수 (두 변수 사이 관계 요약)"
   ]
  },
  {
   "cell_type": "markdown",
   "id": "7da7adf5-5389-4d65-886f-98f421f1962c",
   "metadata": {},
   "source": [
    "## 2. 회귀모형 적합: $\\widehat E(y|x) = \\widehat \\beta_0 + \\widehat \\beta_1 x, \\epsilon \\sim N(0, \\widehat \\sigma^2)$"
   ]
  },
  {
   "cell_type": "markdown",
   "id": "5ed4934c-f23a-4942-b657-eac62628ac42",
   "metadata": {},
   "source": [
    "`-` 모수추정\n",
    "\n",
    "- $\\widehat\\beta_0, \\widehat\\beta_1$ : 최소제곱추정량(LSE)\n",
    "\n",
    "- $\\widehat\\sigma^2$ : MSE"
   ]
  },
  {
   "cell_type": "markdown",
   "id": "af829aba-a75f-4495-942f-f2225c3ad6c9",
   "metadata": {},
   "source": [
    "## 3. 통계적 유의성 검정\n",
    "\n"
   ]
  },
  {
   "cell_type": "markdown",
   "id": "51593773-84a4-496a-a143-d1590fee214b",
   "metadata": {},
   "source": [
    "`-` 회귀직선의 유의성 검정\n",
    "\n",
    "- F검정\n",
    "\n",
    "- $H_0 : \\beta_1 = 0 \\ vs \\  H_1 : \\beta_1 \\neq 0$"
   ]
  },
  {
   "cell_type": "markdown",
   "id": "ef49f738-998c-4e4a-9f14-a6b6643f7158",
   "metadata": {},
   "source": [
    "`-` 개별 회귀 계수의 유의성 검정\n",
    "\n",
    "- t검정\n",
    "\n",
    "- $H_0 : \\beta_0 = 0 \\ vs \\  H_1 : \\beta _{0}=\\begin{cases} >0\\\\ \\neq 0\\\\ <0\\end{cases}$\n",
    "\n",
    "- $H_0 : \\beta_1 = 0 \\ vs \\  H_1 : \\beta _{1}=\\begin{cases} >0\\\\ \\neq 0\\\\ <0\\end{cases}$"
   ]
  },
  {
   "cell_type": "markdown",
   "id": "d03f161a-c78f-4dd2-9286-198f5a80331e",
   "metadata": {},
   "source": [
    "> NOTE: 단순회귀모형에서는 회귀직선이 유의성검정, 개별회귀 계수의 유의성 검정이 같다. 중회귀모형에서는 다르다."
   ]
  },
  {
   "cell_type": "markdown",
   "id": "b7665975-d6f5-416b-96c1-09bf300df326",
   "metadata": {},
   "source": [
    "## 4. 모형의 적합도"
   ]
  },
  {
   "cell_type": "markdown",
   "id": "f8adda55-96a7-4952-997c-b6b1d22626a0",
   "metadata": {},
   "source": [
    "- $\\mathbb{R} ^{2}$, MSE, $\\dots$"
   ]
  },
  {
   "cell_type": "markdown",
   "id": "acac290f-1962-424e-b88d-380defc10233",
   "metadata": {},
   "source": [
    "## 5. 회귀진단"
   ]
  },
  {
   "cell_type": "markdown",
   "id": "bd4d244c-cdea-4e0a-9505-2f1c0bdf5e91",
   "metadata": {},
   "source": [
    "- 잔차분석(오차항에 대한 가정 검토)\n",
    "\n",
    "- 이상점(leverage point)\n",
    "\n",
    "- 변수선택, 다중곤산성"
   ]
  },
  {
   "cell_type": "markdown",
   "id": "cd2ab051-deb5-46e1-88d2-eeca009f561a",
   "metadata": {},
   "source": [
    "# 단순선형회귀 모형"
   ]
  },
  {
   "cell_type": "markdown",
   "id": "66021419-568e-4b17-9069-382d6b4dd2e0",
   "metadata": {},
   "source": [
    "$y=\\beta_0+\\beta_1x+\\epsilon, \\epsilon \\sim_{i.i.d} N(0,\\sigma^2)$"
   ]
  },
  {
   "cell_type": "markdown",
   "id": "265d536b-5d2f-4c26-b972-d5c5238fd1ba",
   "metadata": {},
   "source": [
    "$E(y_i|x_i) = \\widehat\\beta_0 + \\widehat \\beta_1 x_i$"
   ]
  },
  {
   "cell_type": "markdown",
   "id": "374b70b4-e35e-4288-9620-1a09bdfb2d06",
   "metadata": {},
   "source": [
    "`-` Linearity(선형성)"
   ]
  },
  {
   "cell_type": "markdown",
   "id": "9ded2df6-fe1a-4bab-8768-ef39ae91bf70",
   "metadata": {},
   "source": [
    "$E(y|x)= \\mu_{yx} = \\beta_0 + \\beta_1x$\n",
    "\n",
    "i.e $E(\\epsilon_i)=0$"
   ]
  },
  {
   "cell_type": "markdown",
   "id": "739bce3f-1bea-4d56-b5da-213396522e3c",
   "metadata": {},
   "source": [
    "`-` Homoscedastic(등분산성)\n",
    "\n"
   ]
  },
  {
   "cell_type": "markdown",
   "id": "2fa6e15a-e671-4e02-8304-bea04e6c631a",
   "metadata": {},
   "source": [
    "$Var(y|x)=\\sigma^2$\n",
    "\n",
    "i.e $Var(\\epsilon_i)=\\sigma^2$"
   ]
  },
  {
   "cell_type": "markdown",
   "id": "c1afc4d8-2978-4fe1-a4bc-0adaf0084c97",
   "metadata": {},
   "source": [
    "`-` Normality(정규성)"
   ]
  },
  {
   "cell_type": "markdown",
   "id": "b310658b-b92b-48f6-95f5-8336b2f39d7d",
   "metadata": {},
   "source": [
    "$y|x \\sim N(E(y|x),\\sigma^2)$\n",
    "\n",
    "i.e $\\epsilon \\sim N(0,\\sigma^2)$"
   ]
  },
  {
   "cell_type": "markdown",
   "id": "befbdb61-7a02-4299-9ad0-23cb64401702",
   "metadata": {},
   "source": [
    "`-` Independency(독립성)"
   ]
  },
  {
   "cell_type": "markdown",
   "id": "7b30f426-1294-4eee-8357-6f97c3a0716a",
   "metadata": {},
   "source": [
    "$\\epsilon$s are mutually independent\n",
    "\n",
    "i.e $y_i$도 독립"
   ]
  },
  {
   "cell_type": "markdown",
   "id": "a7e1103e-16ff-4229-b31c-ed5eb9964e4b",
   "metadata": {},
   "source": [
    "# LSE"
   ]
  },
  {
   "cell_type": "markdown",
   "id": "eeb902c3-757f-4791-bcf0-6d7e5a8a74de",
   "metadata": {},
   "source": [
    "- Least Square Estimation"
   ]
  },
  {
   "cell_type": "markdown",
   "id": "ae4bf9d7-8f3d-4567-afb7-d66468b12327",
   "metadata": {},
   "source": [
    "`-` 오차제곱합\n",
    "\n",
    "$S=\\sum_{i=1}^n \\epsilon_i^2 = \\sum_{i=1}^n [{y_i-(\\beta_0+\\beta_1 x_i)}]^2$"
   ]
  },
  {
   "cell_type": "markdown",
   "id": "ceaa8c68-d21d-4d07-ad75-4b7339aabfd1",
   "metadata": {},
   "source": [
    "`-` 최소제곱추정량(LSE)"
   ]
  },
  {
   "cell_type": "markdown",
   "id": "e9125d7e-e5cc-43aa-bcf5-a35c3ba95746",
   "metadata": {},
   "source": [
    "$(\\widehat \\beta_0, \\widehat \\beta_1) = argmin_{\\beta_0,\\beta_1 \\in \\mathbb{R}} \\sum_{i=1}^n [y_i-(\\beta_0+\\beta_1 x_i)]^2$"
   ]
  },
  {
   "cell_type": "markdown",
   "id": "996cff2f-3bea-4ec8-8755-ec089d3a294c",
   "metadata": {},
   "source": [
    "$\\widehat \\beta_1 = \\dfrac{\\sum_{i=1}^n (x_i- \\bar x)(y_i - \\bar y)}{\\sum_{i=1}^n (x_i - \\bar x)^2} = \\dfrac{S_{(xy)}}{S_{(xx)}}$"
   ]
  },
  {
   "cell_type": "markdown",
   "id": "3314de83-ed83-4126-acd1-4c7935440e18",
   "metadata": {},
   "source": [
    "$\\widehat \\beta_0 = \\bar y - \\widehat \\beta_1 \\bar x$"
   ]
  },
  {
   "cell_type": "markdown",
   "id": "c97a0dfd-801a-4fe2-8b12-af6a5c843fb5",
   "metadata": {},
   "source": [
    "$\\bar y = \\dfrac{1}{n} \\sum_{i=1}^n y_i, \\bar x = \\dfrac{1}{n} \\sum_{i=1}^n x_i$"
   ]
  },
  {
   "cell_type": "markdown",
   "id": "47987e83-b442-42d6-b0b4-e31d8a85a2e5",
   "metadata": {},
   "source": [
    "# 오차분산($\\sigma^2$)"
   ]
  },
  {
   "cell_type": "markdown",
   "id": "3d4a4226-7ec6-4e27-897d-760d30711128",
   "metadata": {},
   "source": [
    "`-` 잔차(오차)제곱합 (residual (or error) sum of squares)\n",
    "\n",
    "$$SSE = \\sum_{i=1}^n(y_i-\\widehat y_i)^2 = \\sum_{i=1}^n e_i^2$$"
   ]
  },
  {
   "cell_type": "markdown",
   "id": "4826bf6f-5c7e-4746-ae08-903daa10e12b",
   "metadata": {},
   "source": [
    "`-` 평균제곱오차(MSE: Mean Squared Error)\n",
    "\n",
    "$$MSE=\\dfrac{SSE}{n-2}$$"
   ]
  },
  {
   "cell_type": "markdown",
   "id": "6eef5517-3918-4671-b608-2f1e22082ba9",
   "metadata": {},
   "source": [
    "- 분모 $n-2$의 의미: $\\widehat \\beta_0, \\widehat \\beta_1$을 구하기 위해서 제약조건 2개($\\sum e_i=0, \\sum x_i e_i=0$)  제거"
   ]
  },
  {
   "cell_type": "markdown",
   "id": "dae35595-e888-4bca-9aec-d90278530b98",
   "metadata": {},
   "source": [
    "`-` 오차분산의 추정값\n",
    "\n",
    "$$\\widehat \\sigma^2 = MSE$$"
   ]
  },
  {
   "cell_type": "markdown",
   "id": "9f3fddc8-49e1-41ca-88cc-2cca0ea98d94",
   "metadata": {},
   "source": [
    "- 오차가 작아지면 SSE가 낮아진다.."
   ]
  },
  {
   "cell_type": "markdown",
   "id": "ca630118-797a-44b9-b312-56cf2c11b604",
   "metadata": {},
   "source": [
    "# 제곱합의 분해"
   ]
  },
  {
   "cell_type": "markdown",
   "id": "bff93e2d-2e2f-4215-aa80-9ab68594222e",
   "metadata": {},
   "source": [
    "$$SST(총제곱합)=SSE(잔차제곱합)+SSR(회귀제곱합)$$"
   ]
  },
  {
   "cell_type": "markdown",
   "id": "3ecacef8-ca9f-4dad-a6a3-ca511e665d8b",
   "metadata": {},
   "source": [
    "$$\\sum_{i=1}^n(y_i- \\bar y)^2 = \\sum_{i=1}^n(y_i- \\widehat y_i)^2 + \\sum_{i=1}^n(\\widehat y_i- \\bar y)^2$$"
   ]
  },
  {
   "cell_type": "markdown",
   "id": "6351c3ad-c4a3-4924-bf30-8b7730c454f8",
   "metadata": {},
   "source": [
    "# 결정계수"
   ]
  },
  {
   "cell_type": "markdown",
   "id": "edbac148-bd47-468a-8198-3d83ccc4a26b",
   "metadata": {},
   "source": [
    "`-` Coefficien of determination"
   ]
  },
  {
   "cell_type": "markdown",
   "id": "fa938a81-c092-4e33-8e30-778716915939",
   "metadata": {},
   "source": [
    "$$\\mathbb{R^2}=\\dfrac{SSR}{SST}=1-\\dfrac{SSE}{SST}$$"
   ]
  },
  {
   "cell_type": "markdown",
   "id": "eb6fa1e5-271f-477e-900c-b1506f5dacc1",
   "metadata": {},
   "source": [
    "- 회귀직선의 기여율(총변동 가운데 회귀직선으로 설명되는 변동의 비율)\n",
    "\n",
    "- $0 \\leq \\mathbb{R^2} \\leq 1$\n",
    "\n",
    "- 1에 가까울수록 설명이 잘됨\n",
    "\n",
    "- $\\mathbb{R^2}=r^2$(r:sample correlation) : 단순선형회귀모형에서만 성립"
   ]
  },
  {
   "cell_type": "markdown",
   "id": "e27a115f-69df-4638-8e25-251f532c6bd0",
   "metadata": {},
   "source": [
    "# 분산분석(ANOVA)"
   ]
  },
  {
   "cell_type": "markdown",
   "id": "88527a46-7ab0-40bb-9eee-0993157d783d",
   "metadata": {},
   "source": [
    "`-` 분산분석표"
   ]
  },
  {
   "cell_type": "markdown",
   "id": "78bd9bdd-473a-4aa5-8d88-5588aad1892c",
   "metadata": {},
   "source": [
    "| 요인 | 제곱합(SS) | 자유도(df) |      평균제곱(MS)      |        $F_0$       |     유의확률    |\n",
    "|:----:|:----------:|:----------:|:----------------------:|:------------------:|:---------------:|\n",
    "| 회귀 |    $SSR$   |      1     |  $MSR=\\dfrac{SSR}{1}$  | $\\dfrac{MSR}{MSE}$ | $P(F \\geq F_0)$ |\n",
    "| 잔차 |    $SSE$   |    $n-2$   | $MSE=\\dfrac{SSE}{n-2}$ |                    |                 |\n",
    "|  계  |    $SST$   |    $n-1$   |                        |                    |                 |"
   ]
  },
  {
   "cell_type": "markdown",
   "id": "bf7e5e7e-a5ca-463f-b098-db0e738930b6",
   "metadata": {},
   "source": [
    "- $F \\sim F(1,n-2)$\n",
    "\n",
    "- $F_0 > F(1,n-2;\\alpha) \\to$ 유의수준 $\\alpha$하에서 회귀직선이 유의"
   ]
  },
  {
   "cell_type": "markdown",
   "id": "e0e87389-59ed-4f5b-8b2b-f5fcfc504bcf",
   "metadata": {},
   "source": [
    "- qf$(100(1-\\alpha),1,n-2)$"
   ]
  },
  {
   "cell_type": "markdown",
   "id": "4b419a2e-32c0-4a13-9fe5-6a259f72335d",
   "metadata": {},
   "source": [
    "# 회귀직선의 유의성 검정"
   ]
  },
  {
   "cell_type": "markdown",
   "id": "6e9f2d6b-e057-4df5-bb74-075bfb6d7ae8",
   "metadata": {},
   "source": [
    "`-` F-test"
   ]
  },
  {
   "cell_type": "markdown",
   "id": "3b5b4cc6-7c2c-4d78-867c-3c28eda633df",
   "metadata": {},
   "source": [
    "- 가설: $H_0: \\beta_1 = 0 \\ vs \\ H_1:\\beta_1 \\neq 0$\n",
    "\n",
    "- 검정통계량 $F=\\dfrac{MSR}{MSE}=\\dfrac{SSR/1}{SSE/(n-2)} \\sim_{H_0} F(1,n-2)$\n",
    "\n",
    "- 유의수준 $\\alpha$에서 기각역: $F_0 \\geq F_\\alpha(1,n-2)$\n",
    "\n",
    "- 유의확률 = $P(F \\geq F_0)$"
   ]
  },
  {
   "cell_type": "markdown",
   "id": "45f259eb-e36f-47c4-8683-19f7a25366f6",
   "metadata": {},
   "source": [
    "# 회귀계수에 대한 추론"
   ]
  },
  {
   "cell_type": "markdown",
   "id": "8e82906d-5bbe-4cdc-97e9-1eb52f9d451b",
   "metadata": {},
   "source": [
    "## $\\beta_1$에 대한 추론\n"
   ]
  },
  {
   "cell_type": "markdown",
   "id": "9cca8e81-5d9d-4602-936f-f9cd2aa628b8",
   "metadata": {},
   "source": [
    "\n",
    "$$\\widehat \\beta_1 = \\dfrac{S_{(xy)}}{S_{(xx)}}$$"
   ]
  },
  {
   "cell_type": "markdown",
   "id": "9e028e90-cf55-4faf-8e2e-31f7511398a2",
   "metadata": {},
   "source": [
    "분자 $S_{(xy)}= \\sum(x_i - \\bar x)(y_i - \\bar y) = \\sum(x_i - \\bar x)y_i - \\sum(x_i- \\bar x)\\bar y= \\sum(x_i - \\bar x)y_i$"
   ]
  },
  {
   "cell_type": "markdown",
   "id": "8c7575cc-8007-482b-8e01-ea76acdf2aae",
   "metadata": {},
   "source": [
    "$\\widehat \\beta_1 = \\dfrac{S_{(xy)}}{S_{(xx)}}=\\dfrac{\\sum(x_i-\\bar x)y_i}{S_{(xx)}}=\\sum \\dfrac{x_i- \\bar x}{S_{(xx)}} y_i= \\sum a_i y_i$"
   ]
  },
  {
   "cell_type": "markdown",
   "id": "48eb3e27-2c7e-46f2-bdb0-15a77eab22da",
   "metadata": {},
   "source": [
    "$$\\widehat \\beta_1 \\sim N(\\beta_1, \\dfrac{\\sigma^2}{S_{(xx)}})$$"
   ]
  },
  {
   "cell_type": "markdown",
   "id": "27976f4b-058f-4dd9-8ecc-fe64a20e26c2",
   "metadata": {},
   "source": [
    "`-` $E(\\widehat \\beta_1)=\\beta_1$ : 불편추정량(unbiase-)"
   ]
  },
  {
   "cell_type": "markdown",
   "id": "6ba0b24e-5949-4db9-94d5-a2e0f1de5826",
   "metadata": {},
   "source": [
    "- $E(\\widehat \\beta_1)$\n",
    "\n",
    "= $\\sum a_i E(y_i)$\n",
    "\n",
    "= $\\sum \\dfrac{(x_i - \\bar x)}{S_{xx}}(\\beta_0 + \\beta_1 x_i)$\n",
    "\n",
    "= $\\dfrac{1}{S_{xx}}[\\beta_0 \\sum(x_i - \\bar x) + \\beta_1 \\sum(x_i - \\bar x) x_i]$\n",
    "\n"
   ]
  },
  {
   "cell_type": "markdown",
   "id": "34a9d5b1-1649-4b01-9ded-81f7f8d46310",
   "metadata": {},
   "source": [
    "$\\because \\sum(x_i - \\bar x)=0$"
   ]
  },
  {
   "cell_type": "markdown",
   "id": "a39f8527-ddd9-4702-af8a-ba3834810cd8",
   "metadata": {},
   "source": [
    "$\\because \\sum(x_i - \\bar x)(x_i -\\bar x + \\bar x) = \\sum(x_i- \\bar x)^2 + \\bar x \\sum(x_i - \\bar x) =\\sum(x_i- \\bar x)^2= S_{(xx)}$"
   ]
  },
  {
   "cell_type": "markdown",
   "id": "4deca580-7974-4006-8b69-f5939e07c4e1",
   "metadata": {},
   "source": [
    "= $\\dfrac{\\beta_1 S_{xx}}{S_{xx}} = \\beta_1$"
   ]
  },
  {
   "cell_type": "markdown",
   "id": "5a7a233f-e5c3-4bdb-aa28-60d5a60250bf",
   "metadata": {},
   "source": [
    "`-` $Var(\\widehat \\beta_1)$"
   ]
  },
  {
   "cell_type": "markdown",
   "id": "b445e99b-492c-468b-8189-e6178082c46f",
   "metadata": {},
   "source": [
    "- $Var(\\widehat \\beta_1)$"
   ]
  },
  {
   "cell_type": "markdown",
   "id": "63fbe76c-aa4d-4c13-9956-5d576287f65f",
   "metadata": {},
   "source": [
    "= $Var(\\sum a_i y_i)$\n",
    "\n",
    "= $\\sum a_i^2 Var(y_i)$\n",
    "\n",
    "$\\because Var(y_i)=\\sigma^2$\n",
    "\n",
    "= $\\sigma^2 \\sum a_i^2$\n",
    "\n",
    "= $\\sigma^2 \\sum \\dfrac{(x_i- \\bar x)^2}{S_{xx}^2}$\n",
    "\n",
    "= $\\sigma^2 \\dfrac{S_{xx}}{S_{xx}^2}$\n",
    "\n",
    "= $\\dfrac{\\sigma^2}{S_{xx}}$"
   ]
  },
  {
   "cell_type": "markdown",
   "id": "d7916fc1-f2ff-4127-a537-ecbf8b80ce96",
   "metadata": {},
   "source": [
    "`-` BLUE"
   ]
  },
  {
   "cell_type": "markdown",
   "id": "9378cd71-89c3-40a7-a77f-3872e80091e8",
   "metadata": {},
   "source": [
    "- Best Linear Unbiased Estimation"
   ]
  },
  {
   "cell_type": "markdown",
   "id": "85dea382-b4a8-4669-81cc-fc4bc96f9671",
   "metadata": {},
   "source": [
    "$$\\widehat{Var}(\\widehat \\beta_1) = \\dfrac{MSE}{S_{xx}}$$"
   ]
  },
  {
   "cell_type": "markdown",
   "id": "201bda99-cb9a-4456-812e-6d3f9fc5c6f6",
   "metadata": {},
   "source": [
    "$$\\widehat \\sigma_{\\widehat \\beta_1} = \\sqrt{\\dfrac{MSE}{S_{xx}}}$$"
   ]
  },
  {
   "cell_type": "markdown",
   "id": "740f5fb2-4c16-44b0-b5d4-2db71063fa42",
   "metadata": {},
   "source": [
    "`-` stuendtized $\\widehat \\beta_1$의 분포"
   ]
  },
  {
   "cell_type": "markdown",
   "id": "260bb8ce-0dd6-4bad-a185-4a3f0eaa4326",
   "metadata": {},
   "source": [
    "$$\\dfrac{\\widehat \\beta_1 - \\beta_1}{\\widehat \\sigma / \\sqrt{S_{xx}}} \\sim t(n-2), \\widehat \\sigma = \\sqrt{MSE}$$"
   ]
  },
  {
   "cell_type": "markdown",
   "id": "77cfe84f-d488-4f70-9a8f-9aed25319299",
   "metadata": {},
   "source": [
    "`-` $\\widehat \\beta_1$의 $100(1-\\alpha)$% 신뢰구간"
   ]
  },
  {
   "cell_type": "markdown",
   "id": "f5e5aae8-c6c7-4617-acec-944f7882fa22",
   "metadata": {},
   "source": [
    "$$\\widehat \\beta_1 \\pm t_{\\alpha/2}(n-2) \\dfrac{\\widehat \\sigma}{\\sqrt{S_{xx}}}$$"
   ]
  },
  {
   "cell_type": "markdown",
   "id": "6e6be370-5a63-4c29-bed2-e99b60e88751",
   "metadata": {},
   "source": [
    "- $\\sigma$를 몰라 추정하므로 t분포로 바뀌고 분산이 더 커진다."
   ]
  },
  {
   "cell_type": "markdown",
   "id": "3cc3b006-96b5-4b99-8e90-ee7a21036f0f",
   "metadata": {},
   "source": [
    "`-` 모회귀계수(기울기) $\\beta_1$에 대한 추론\n",
    "\n",
    "- t검정\n",
    "\n",
    "- $H_0 : \\beta_1 = 0 \\ vs \\  H_1 : \\beta _{1}=\\begin{cases} >0\\\\ \\neq 0\\\\ <0\\end{cases}$"
   ]
  },
  {
   "cell_type": "markdown",
   "id": "e13d9eb8-85c9-48cd-acb5-4857efa578a9",
   "metadata": {},
   "source": [
    "- 검정통계량 \n",
    "\n",
    "$$\\dfrac{\\widehat \\beta_1 - \\beta_1}{\\widehat \\sigma / \\sqrt{S_{xx}}} \\sim t(n-2)$$"
   ]
  },
  {
   "cell_type": "markdown",
   "id": "65d5c472-45dd-4ce2-87b5-a46fe693ae0c",
   "metadata": {},
   "source": [
    "## $\\beta_0$에 대한 추론"
   ]
  },
  {
   "cell_type": "markdown",
   "id": "70b26160-9b8c-44b3-bf62-fe54198e66e7",
   "metadata": {},
   "source": [
    "`-` $\\beta_0$의 최소제곱추정량"
   ]
  },
  {
   "cell_type": "markdown",
   "id": "5ec3d77f-0904-44ee-b4eb-a2ac547b4104",
   "metadata": {},
   "source": [
    "$$\\widehat \\beta_0 = \\bar y - \\widehat \\beta_1 \\bar x$$"
   ]
  },
  {
   "cell_type": "markdown",
   "id": "309e85db-a950-4982-ae9f-81788b6d5731",
   "metadata": {},
   "source": [
    "$$\\widehat \\beta_0 \\sim N(\\beta_0, \\sigma^2(\\dfrac{1}{n} + \\dfrac{\\bar x^2}{S_{xx}}))$$"
   ]
  },
  {
   "cell_type": "markdown",
   "id": "246d22d6-7ec3-4fc2-977b-0a79e1f68280",
   "metadata": {},
   "source": [
    "`-` stuendtized $\\widehat \\beta_0$의 분포"
   ]
  },
  {
   "cell_type": "markdown",
   "id": "a0f38820-3975-4d20-af79-aa19f31dbc24",
   "metadata": {},
   "source": [
    "$$\\dfrac{\\widehat \\beta_0 - \\beta_0}{\\widehat \\sigma_{\\widehat \\beta_0}} \\sim t(n-2)   ,  \\widehat \\sigma_{\\widehat \\beta_0} = \\widehat \\sigma \\sqrt{\\dfrac{1}{n}+\\dfrac{\\bar x^2}{S_{xx}}}$$"
   ]
  },
  {
   "cell_type": "markdown",
   "id": "271c1c82-38e1-4fef-90b7-ff8671ea3889",
   "metadata": {},
   "source": [
    "`-` $\\widehat \\beta_1$의 $100(1-\\alpha)$% 신뢰구간"
   ]
  },
  {
   "cell_type": "markdown",
   "id": "ed023baf-49d4-48b5-8e00-62062336b33d",
   "metadata": {},
   "source": [
    "$$\\widehat \\beta_0 \\pm t_{\\alpha/2}(n-2) \\widehat \\sigma \\sqrt{\\dfrac{1}{n}+\\dfrac{\\bar x^2}{S_{xx}}}$$"
   ]
  },
  {
   "cell_type": "markdown",
   "id": "1ae6e01d-f49b-488c-bfbe-d8c6f6b101f6",
   "metadata": {},
   "source": [
    "# 평균반응예측\n"
   ]
  },
  {
   "cell_type": "markdown",
   "id": "dc8db731-bd07-4da3-8c56-b1e8e04d2e10",
   "metadata": {},
   "source": [
    "`-` $x=x_0$가 주어졌을 때 평균 반응 예측(prediction)"
   ]
  },
  {
   "cell_type": "markdown",
   "id": "6b13109f-a283-4b5f-a326-fd1facf65541",
   "metadata": {},
   "source": [
    "`-` 평균반응\n",
    "\n",
    "$$\\mu_0 = E(Y|x_0)=\\beta_0+\\beta_1x_0$$"
   ]
  },
  {
   "cell_type": "markdown",
   "id": "4f0fb200-bd6b-4174-96e5-d4d8d86dab82",
   "metadata": {},
   "source": [
    "`-` 평균반응 추정량\n",
    "\n",
    "$$\\widehat \\mu_0 = \\widehat \\beta_0 + \\widehat \\beta_1 x_0$$"
   ]
  },
  {
   "cell_type": "markdown",
   "id": "d6d8a65d-a296-494c-a4d0-7e176253e12c",
   "metadata": {},
   "source": [
    "$$\\widehat \\mu_0 \\sim N(\\mu_0, \\sigma^2(\\dfrac{1}{n} + \\dfrac{(x_0 - \\bar x)^2}{S_{xx}}))$$"
   ]
  },
  {
   "cell_type": "markdown",
   "id": "7260f24e-fdc1-49e5-b2b3-ff5669788278",
   "metadata": {},
   "source": [
    "`-` stuendtized $\\widehat \\mu_0$의 분포"
   ]
  },
  {
   "cell_type": "markdown",
   "id": "2d8a22de-d8dc-44cc-aa00-faf2dbaa4b99",
   "metadata": {},
   "source": [
    "$$\\dfrac{\\widehat \\mu_0 - \\mu_0}{\\widehat \\sigma_{\\widehat \\mu_0}} \\sim t(n-2) \\ , \\ \\widehat \\sigma_{\\widehat \\mu_0} = \\widehat \\sigma \\sqrt{\\dfrac{1}{n}+\\dfrac{(x_0 - \\bar x)^2}{S_{xx}}}$$"
   ]
  },
  {
   "cell_type": "markdown",
   "id": "4dd525e5-32ae-4e2a-92d1-51854f9e0a72",
   "metadata": {},
   "source": [
    "`-` $\\widehat \\mu_0$의 $100(1-\\alpha)$% 신뢰구간"
   ]
  },
  {
   "cell_type": "markdown",
   "id": "a407de4d-40a2-4471-8ee6-a9b5bff78391",
   "metadata": {},
   "source": [
    "$$\\widehat \\mu_0 \\pm t_{\\alpha/2}(n-2) \\widehat \\sigma \\sqrt{\\dfrac{1}{n}+\\dfrac{(x_0 - \\bar x)^2}{S_{xx}}}$$"
   ]
  },
  {
   "cell_type": "markdown",
   "id": "555ed92c-0e7e-4e19-ad36-583b5a768c94",
   "metadata": {},
   "source": [
    "# 개별적인 $y$값 예측"
   ]
  },
  {
   "cell_type": "markdown",
   "id": "68b74657-e12f-46b5-b82f-652352c7255d",
   "metadata": {},
   "source": [
    "$y_0 = \\beta_0 + \\beta_1 x_0 + \\epsilon_0$"
   ]
  },
  {
   "cell_type": "markdown",
   "id": "dab57823-640e-4bcb-9ca7-4bee4e8759c9",
   "metadata": {},
   "source": [
    "- 예측값: $\\widehat y_0 = \\widehat \\beta_0 + \\widehat \\beta_1 x_0$"
   ]
  },
  {
   "cell_type": "markdown",
   "id": "1e4b3594-b5c5-4437-8a45-d3f8a71277f9",
   "metadata": {},
   "source": [
    "$$\\widehat y_0 \\sim N(\\mu_0, (1+\\dfrac{1}{n}+\\dfrac{(x_0 - \\bar x)^2}{S_{xx}})\\sigma^2)$$"
   ]
  },
  {
   "cell_type": "markdown",
   "id": "41377914-bf77-4ef6-a8a0-45e3244012b5",
   "metadata": {},
   "source": [
    "- 분산에 있는 1+~ 의 1은 $\\widehat e$ 때문에 생김.ㅡ"
   ]
  },
  {
   "cell_type": "markdown",
   "id": "24a42c25-9742-4310-9c92-784ea05283a9",
   "metadata": {},
   "source": [
    "`-` stuendtized $\\widehat y_0$의 분포"
   ]
  },
  {
   "cell_type": "markdown",
   "id": "1eb60fb5-716e-4920-9c51-d8f291a0e91b",
   "metadata": {},
   "source": [
    "$$\\dfrac{\\widehat y_0 - y_0}{\\widehat \\sigma_{\\widehat y_0}} \\sim t(n-2) \\ , \\ \\widehat \\sigma_{\\widehat y_0} = \\widehat \\sigma \\sqrt{1+\\dfrac{1}{n}+\\dfrac{(x_0 - \\bar x)^2}{S_{xx}}}$$"
   ]
  },
  {
   "cell_type": "markdown",
   "id": "402c434c-8171-4fd3-9252-203ad64135b7",
   "metadata": {},
   "source": [
    "`-` $\\widehat y_0$의 $100(1-\\alpha)$% 신뢰구간"
   ]
  },
  {
   "cell_type": "markdown",
   "id": "6ca26c4e-ad0b-48d0-82d4-6c34dba30b83",
   "metadata": {},
   "source": [
    "$$\\widehat y_0 \\pm t_{\\alpha/2}(n-2) \\widehat \\sigma_{\\widehat y_0}$$"
   ]
  },
  {
   "cell_type": "markdown",
   "id": "0f8bacdf-c659-4774-b56c-0712582febce",
   "metadata": {},
   "source": [
    "# 잔차"
   ]
  },
  {
   "cell_type": "markdown",
   "id": "b743448f-de27-4f8e-a0cd-5626581b29f7",
   "metadata": {},
   "source": [
    "- residual\n",
    "\n",
    "- $e_i = \\widehat \\epsilon_i = y_i - \\widehat y_i, i=1,\\dots,n$"
   ]
  },
  {
   "cell_type": "markdown",
   "id": "4341b762-d9ea-43da-84db-1c3cb983ca8c",
   "metadata": {},
   "source": [
    "`-` 잔차의 성질\n",
    "\n",
    "- 잔차의 합은 0이다 ($\\sum_{i=1}^n e_i = 0$)\n",
    "\n",
    "- $\\sum_{i=1}^n e_i^2$은 최소값을 갖는다. ($\\widehat \\beta_0,\\widehat \\beta_1$:minimize LSE)\n",
    "\n",
    "- 잔차의 $x_i$에 의한 가중합은 0이다. ($\\sum_{i=1}^n x_i e_i = 0$)\n",
    "\n",
    "- 잔차의 $\\widehat y_i$에 의한 가중합은 0이다. ($\\sum_{i=1}^n \\widehat y_i e_i = 0$)\n",
    "\n",
    "- ($\\bar x, \\bar y$)는 적합된 휘귀직선 위에 있다."
   ]
  },
  {
   "cell_type": "markdown",
   "id": "583518dd-8fd5-490d-bef2-39b5a7d2a712",
   "metadata": {},
   "source": [
    "1. 선형성(0을 대칭으로 잘 펴져있는지)\n",
    "\n",
    "2. 등분산성\n",
    "\n",
    "3. 정규성(표준화) \n",
    "\n",
    "$e \\to \\dfrac{e- \\bar e}{s.e(e)} \\sim N(0,1)$\n",
    "\n",
    "4. 독립성"
   ]
  },
  {
   "cell_type": "markdown",
   "id": "e30c6082-7ca6-417b-a3dc-6baf9d6ae91c",
   "metadata": {},
   "source": [
    "# Durbin-Waston Test"
   ]
  },
  {
   "cell_type": "markdown",
   "id": "7c2277f7-a73d-49ff-bdce-52fae8cdf19a",
   "metadata": {},
   "source": [
    "`-` 가정\n",
    "\n",
    "$H_0$:오차항들은 독립이다. \n",
    "\n",
    "vs \n",
    "\n",
    "$H_1$: 오차항들은 독립이 아니다.\n",
    "\n",
    "$H_1$: 오차항들은 양의 상관관계를 갖는다.\n",
    "\n",
    "$H_1$: 오차항들은 음의 상관관계를 갖는다."
   ]
  },
  {
   "cell_type": "markdown",
   "id": "442971ee-fcec-447c-98ca-80a8bf6b14bc",
   "metadata": {},
   "source": [
    "`-` 검정통계량\n",
    "\n",
    "$$d= \\dfrac{\\sum_{t=2}^n(e_t - e_{t-1})^2}{\\sum_{t=1}^n e_t^2}$$"
   ]
  },
  {
   "cell_type": "markdown",
   "id": "a496ddc0-cf5e-4cc5-8bd2-92ef5441395b",
   "metadata": {},
   "source": [
    "- 0~4의 값\n",
    "\n",
    "- 4에 가까울수록 음의상관관계가 큼\n",
    "\n",
    "- 2에 가까울수록 양의상관관계가 큼\n",
    "\n",
    "- 2는 기준으로 2에 가까우면 결정 보류"
   ]
  },
  {
   "cell_type": "code",
   "execution_count": null,
   "id": "a81bd280-117e-4c97-b0cf-cc2d304d20e9",
   "metadata": {},
   "outputs": [],
   "source": []
  }
 ],
 "metadata": {
  "kernelspec": {
   "display_name": "Python 3 (ipykernel)",
   "language": "python",
   "name": "python3"
  },
  "language_info": {
   "codemirror_mode": {
    "name": "ipython",
    "version": 3
   },
   "file_extension": ".py",
   "mimetype": "text/x-python",
   "name": "python",
   "nbconvert_exporter": "python",
   "pygments_lexer": "ipython3",
   "version": "3.8.16"
  }
 },
 "nbformat": 4,
 "nbformat_minor": 5
}
