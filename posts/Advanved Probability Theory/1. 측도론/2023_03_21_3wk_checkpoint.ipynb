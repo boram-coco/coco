{
 "cells": [
  {
   "cell_type": "raw",
   "id": "700eed9c-8649-4f78-bb4e-54acc2c928f3",
   "metadata": {
    "id": "700eed9c-8649-4f78-bb4e-54acc2c928f3"
   },
   "source": [
    "---\n",
    "title: \"03wk: 측도론 intro (3)\"\n",
    "author: \"김보람\"\n",
    "date: \"03/21/2023\"\n",
    "---"
   ]
  },
  {
   "cell_type": "markdown",
   "id": "5075eff9-72ac-499a-b69a-0035fcf781b9",
   "metadata": {
    "id": "eb5417e9-8d8e-4b43-bcab-c179a61311ff"
   },
   "source": [
    "> 해당 강의노트는 전북대학교 최규빈교수님 [AP2023](https://guebin.github.io/AP2023/) 자료임"
   ]
  },
  {
   "cell_type": "markdown",
   "id": "40064a5a-af3a-4d76-baa2-a9412a2751e9",
   "metadata": {
    "id": "40064a5a-af3a-4d76-baa2-a9412a2751e9",
    "tags": []
   },
   "source": [
    "# 셀 수 있는"
   ]
  },
  {
   "cell_type": "markdown",
   "id": "31192fd5-9048-429c-a5e8-71da5c5ae8b4",
   "metadata": {
    "id": "31192fd5-9048-429c-a5e8-71da5c5ae8b4"
   },
   "source": [
    "`-` 셀 수 있는 집합(가산집합)과 셀 수 없는 집합(비가산집합). \n",
    "\n",
    "- countable: finite, countable many : ex) 자연수, 유리수\n",
    "- uncountable: uncountable many : ex) 무리수, 실수\n"
   ]
  },
  {
   "cell_type": "markdown",
   "id": "fc1d71e4-02fa-4901-8c0d-e0e86e124f34",
   "metadata": {
    "id": "fc1d71e4-02fa-4901-8c0d-e0e86e124f34"
   },
   "source": [
    "`-` 예시1: countable set, uncountable set "
   ]
  },
  {
   "cell_type": "markdown",
   "id": "f9f2d2bf-6ce5-437c-9dad-756b964ccb15",
   "metadata": {
    "id": "f9f2d2bf-6ce5-437c-9dad-756b964ccb15"
   },
   "source": [
    "- $\\{1,2,3,4,5\\}$는 셀 수 있는 집합이다. (finite)\n",
    "- $\\mathbb{N}$은 셀 수 있는 집합이다.  (countable)\n",
    "- $\\mathbb{Z}$는 셀 수 있는 집합이다.  (countable)\n",
    "- $\\mathbb{Q}$는 셀 수 있는 집합이다.  (countable)\n",
    "- $\\mathbb{R}$은 셀 수 없는 집합이다.   (uncountable)"
   ]
  },
  {
   "cell_type": "markdown",
   "id": "b02b72fa-496c-46d7-b2e1-5c258a1db1b0",
   "metadata": {
    "id": "b02b72fa-496c-46d7-b2e1-5c258a1db1b0"
   },
   "source": [
    "`-` 예시2: countable sum: 아래는 모두 countable sum을 의미한다. "
   ]
  },
  {
   "cell_type": "markdown",
   "id": "10c789ec-55c6-4225-8aea-a4aa5e32ef4a",
   "metadata": {
    "id": "10c789ec-55c6-4225-8aea-a4aa5e32ef4a"
   },
   "source": [
    "- $\\sum_{i=1}^{n}a_i$.\n",
    "- $\\sum_{i \\in I} a_i$, where $I=\\{1,2,3,\\dots,10\\}$.\n",
    "- $\\sum_{i=1}^{\\infty} a_i$, $\\sum_{i=0}^{\\infty} a_i$.\n",
    "- $\\sum_{i \\in \\mathbb{N}}a_i$.\n",
    "- $\\sum_{x \\in \\mathbb{Q}}m(\\{x\\})$, where $m$ is Lebesgue measure $\\to$ ex) m({0})+m({1/2})+m({1/3})..."
   ]
  },
  {
   "cell_type": "markdown",
   "id": "a1042349-c97c-4abb-975c-81d4544b7fea",
   "metadata": {
    "id": "a1042349-c97c-4abb-975c-81d4544b7fea"
   },
   "source": [
    "`-` 예시3: countable union: 아래는 countalbe union을 의미한다. "
   ]
  },
  {
   "cell_type": "markdown",
   "id": "fb17a180-dcfc-44cf-90c0-28f09aa95477",
   "metadata": {
    "id": "fb17a180-dcfc-44cf-90c0-28f09aa95477"
   },
   "source": [
    "- $\\cup_{i=1}^n A_i$\n",
    "- $\\cup_{i=1}^{\\infty} A_i$\n",
    "- $\\cup_{x \\in \\mathbb{Q}} \\{x\\}$ : 유리수의 집합"
   ]
  },
  {
   "cell_type": "markdown",
   "id": "d5b888aa-9211-49b0-9fcc-ee4cb08e17fa",
   "metadata": {
    "id": "d5b888aa-9211-49b0-9fcc-ee4cb08e17fa"
   },
   "source": [
    "`-` 예시4: 아래는 uncountable sum을 의미한다. "
   ]
  },
  {
   "cell_type": "markdown",
   "id": "cc54efec-5c5e-41fb-adc0-9ad1a60d2be1",
   "metadata": {
    "id": "cc54efec-5c5e-41fb-adc0-9ad1a60d2be1"
   },
   "source": [
    "- $\\sum_{x \\in [0,1]}m(\\{x\\})$, where $m$ is Lebesgue measure"
   ]
  },
  {
   "cell_type": "markdown",
   "id": "9844db43-45c8-4064-a97a-d5181283bef8",
   "metadata": {
    "id": "9844db43-45c8-4064-a97a-d5181283bef8"
   },
   "source": [
    "`-` 예시5: 아래는 uncountable union을 의미한다. "
   ]
  },
  {
   "cell_type": "markdown",
   "id": "ef29ac86-a078-4119-8609-9781fd858a01",
   "metadata": {
    "id": "ef29ac86-a078-4119-8609-9781fd858a01"
   },
   "source": [
    "- $\\cup_{x \\in [0,1]} \\{x\\}$"
   ]
  },
  {
   "cell_type": "markdown",
   "id": "16528b59-4d43-4488-aef1-efe74f9bab52",
   "metadata": {
    "id": "16528b59-4d43-4488-aef1-efe74f9bab52"
   },
   "source": [
    "# 보충학습: 집합정리"
   ]
  },
  {
   "cell_type": "markdown",
   "id": "1b0e9e7f-672d-4ee9-a442-5612178160a6",
   "metadata": {
    "id": "1b0e9e7f-672d-4ee9-a442-5612178160a6"
   },
   "source": [
    "|집합|카디널리티|분류|르벡메져|\n",
    "|:-:|:-:|:-:|:-:|\n",
    "|$\\{1,2,3\\}$|3|가산집합|0|\n",
    "|$\\mathbb{N}$|$\\aleph_0$|가산집합|0|\n",
    "|$\\mathbb{Z}$|$\\aleph_0$|가산집합|0|\n",
    "|$\\mathbb{Q}$|$\\aleph_0$|가산집합|0|\n",
    "|$[0,1]$|$2^{\\aleph_0}$|비가산집합|1|\n",
    "|$[0,1]\\cap \\mathbb{Q}$|$\\aleph_0$|가산집합|0|\n",
    "|$[0,1]\\cup \\mathbb{Q}$|$2^{\\aleph_0}$|비가산집합|1|\n",
    "|$[0,1]\\cap \\mathbb{Q}^c$ : 0과 1사이의 모든 무리수|$2^{\\aleph_0}$|비가산집합|1|\n",
    "|$[0,\\infty)$|$2^{\\aleph_0}$|비가산집합|$\\infty$|\n",
    "|비탈리집합|$2^{\\aleph_0}$|비가산집합|NA|\n",
    "|칸토어집합|$2^{\\aleph_0}$|비가산집합|0|"
   ]
  },
  {
   "cell_type": "markdown",
   "id": "eec9db2f-8b89-4823-a4b0-fa6c902403d3",
   "metadata": {
    "id": "eec9db2f-8b89-4823-a4b0-fa6c902403d3"
   },
   "source": [
    "# 지금까지의 스토리 "
   ]
  },
  {
   "cell_type": "markdown",
   "id": "9b5d0a55-1770-4ca6-865a-bbfc4918a981",
   "metadata": {
    "id": "9b5d0a55-1770-4ca6-865a-bbfc4918a981"
   },
   "source": [
    "`-` 지금까지의 이야기. \n",
    "\n",
    "- **$\\Omega$의 모든 부분집합에 대해서 확률을 \"무모순\"으로 정의**하는게 엄청 쉬운일 인줄 알았는데,^[동전예제]\n",
    "- 사실은 그렇지가 않았다.^[바늘이 하나 있는 시계예제] 확률을 정의하는건 매우 까다로운 일이었다. \n",
    "- 이러한 까다로움을 해결하기 위해서 \"르벡메져\"라는 새로운 도구를 사용했다. 이 도구는 몇 가지 까다로운 집합에 대하여 확률을 무모순으로 정의할 수 있었다. \n",
    "- 르벡메져는 구간 $[0,2\\pi)$의 모든 유리수 집합의 길이와 구간 $[0,2\\pi)$의 모든 무리수 집합의 길이를 다르게 정의하는 신기한 방식을 사용하는데, 이러한 방식을 납득하기 위한 최소한의 노력으로 \"셀 수 있는 무한\"과 \"셀 수 없는 무한\"의 개념을 공부했다. \n",
    "- 하지만 르벡메져를 통해서도 $\\Omega$의 모든 부분집합에 대하여 길이를 잴 수 없는 집합^[비탈리집합]이 존재함이 밝혀졌다. \n",
    "- 따라서 **$\\Omega$의 모든 부분집합에 대해서 확률을 \"무모순\"으로 정의**하는 일은 포기하였다. \n",
    "- 대신에 **$\\Omega$의 부분집합 중, 잴 수 있는 집합들에 대해서만 확률을 \"무모순\"으로 정의**하는 일을 시도하고자 한다. "
   ]
  },
  {
   "cell_type": "markdown",
   "id": "9099088c-474a-45c3-9da7-63ba792cbe99",
   "metadata": {
    "id": "9099088c-474a-45c3-9da7-63ba792cbe99"
   },
   "source": [
    "`-` 앞으로 $\\Omega$의 부분집합 중, 잴 수 있는 집합들의 모임을 \"$\\Omega$에 대한 시그마필드\" 라고 하고 기호로는 ${\\cal F}$로 정의한다. "
   ]
  },
  {
   "cell_type": "markdown",
   "id": "d0090cfb-77bb-460c-a6e1-11f2dd579388",
   "metadata": {
    "id": "d0090cfb-77bb-460c-a6e1-11f2dd579388"
   },
   "source": [
    "`-` 그런데 \"잴 수 있는 집합\"이 뭐지????"
   ]
  },
  {
   "cell_type": "markdown",
   "id": "1fab9700-f77a-4f0e-b8cd-793f32a07db3",
   "metadata": {
    "id": "1fab9700-f77a-4f0e-b8cd-793f32a07db3"
   },
   "source": [
    "# 시그마필드 motivation "
   ]
  },
  {
   "cell_type": "markdown",
   "id": "08de7279-f020-4761-a11f-1f7800eaa8de",
   "metadata": {
    "id": "08de7279-f020-4761-a11f-1f7800eaa8de"
   },
   "source": [
    "## **(예제1)** -- 잴 수 있는 집합의 모임"
   ]
  },
  {
   "cell_type": "markdown",
   "id": "a9565c1e-5124-4522-86bf-dbceeff981a9",
   "metadata": {
    "id": "a9565c1e-5124-4522-86bf-dbceeff981a9"
   },
   "source": [
    "$\\Omega=\\{H,T\\}$라고 하자. 아래집합들은 모두 확률을 정의할 수 있는 집합들이다. \n",
    "\n",
    "$$\\emptyset, \\{H\\}, \\{T\\}, \\Omega$$ \n",
    "\n",
    "따라서 ${\\cal F}$을 아래와 같이 정의한다면 묶음 ${\\cal F}$가 합리적일 것이다. \n",
    "\n",
    "$${\\cal F}=\\big\\{\\emptyset, \\{H\\}, \\{T\\}, \\Omega\\big\\}$$ "
   ]
  },
  {
   "cell_type": "markdown",
   "id": "b716293e-5ef4-4606-9b09-e1cc8df81611",
   "metadata": {
    "id": "b716293e-5ef4-4606-9b09-e1cc8df81611"
   },
   "source": [
    "> 이때 ${\\cal F}$는 집합들의 집합인데, 이러한 집합을 collection 이라고 한다. "
   ]
  },
  {
   "cell_type": "markdown",
   "id": "c4709ffb-a4c0-4887-8064-8029e7a7808e",
   "metadata": {
    "id": "c4709ffb-a4c0-4887-8064-8029e7a7808e"
   },
   "source": [
    "## **(예제2)** -- 집합 $A$를 잴 수 있다면, 집합 $A^c$도 잴 수 있어~"
   ]
  },
  {
   "cell_type": "markdown",
   "id": "41e1b06e-50e3-4ff8-b499-d6f8ba3a619f",
   "metadata": {
    "id": "41e1b06e-50e3-4ff8-b499-d6f8ba3a619f"
   },
   "source": [
    "$\\Omega=\\{H,T\\}$라고 하자. ${\\cal F}$을 아래와 같이 정의한다면 묶음 ${\\cal F}$는 합리적이지 않다. \n",
    "\n",
    "$${\\cal F}=\\big\\{\\emptyset, \\{H\\}, \\Omega\\big\\}$$ "
   ]
  },
  {
   "cell_type": "markdown",
   "id": "713574b1-f6c2-4369-ab09-d6854d2ac4dc",
   "metadata": {
    "id": "713574b1-f6c2-4369-ab09-d6854d2ac4dc"
   },
   "source": [
    "(해설1)"
   ]
  },
  {
   "cell_type": "markdown",
   "id": "8cbba6af-6a6c-4bc1-aacb-b0f51b2b0eae",
   "metadata": {
    "id": "8cbba6af-6a6c-4bc1-aacb-b0f51b2b0eae"
   },
   "source": [
    "이러한 묶음이 의미하는건 \"앞면이 나올 확률은 모순없이 정의할 수 있지만, 뒷면이 나오는 확률은 모순없이 정의하는게 불가능해~\" 라는 뜻이다. 그런데 뒷면이 나올 확률은 \"1-앞면이 나올 확률\" 로 모순없이 정의할 수 있으므로 \"앞면이 나올 확률이 모순없이 정의되면서\" 동시에 \"뒷면이 나올 확률이 모순없이 정의되지 않는\" 상황은 없다. "
   ]
  },
  {
   "cell_type": "markdown",
   "id": "cbf3c705-cedf-4f97-95a6-aae738a037e5",
   "metadata": {
    "id": "cbf3c705-cedf-4f97-95a6-aae738a037e5"
   },
   "source": [
    "(해설2)"
   ]
  },
  {
   "cell_type": "markdown",
   "id": "411bf55e-c9f9-49e7-ac7f-a22213edbf29",
   "metadata": {
    "id": "411bf55e-c9f9-49e7-ac7f-a22213edbf29"
   },
   "source": [
    "$\\Omega$의 어떠한 부분집합 $A$에 확률이 모순없이 정의된다면 그 집합의 여집합인 $A^c$에 대하여서도 확률이 모순없이 정의되어야 한다. \n",
    "\n",
    "$\\Leftrightarrow$ $\\forall A \\subset {\\Omega}: ~ A \\in {\\cal F} \\Rightarrow A^c \\in {\\cal F}$"
   ]
  },
  {
   "cell_type": "markdown",
   "id": "2f82aab5-3e60-4fe1-917a-4dcb5b8c1997",
   "metadata": {
    "id": "2f82aab5-3e60-4fe1-917a-4dcb5b8c1997"
   },
   "source": [
    "## **(예제3)** -- 전체집합이 잴 수 있는 집합이니까 공집합도 잴 수 있는 집합이야"
   ]
  },
  {
   "cell_type": "markdown",
   "id": "58017d88-3751-4354-9246-db5e0e49077b",
   "metadata": {
    "id": "58017d88-3751-4354-9246-db5e0e49077b"
   },
   "source": [
    "$\\Omega=\\{H,T\\}$라고 하자. ${\\cal F}$를 아래와 같이 정의한다면 묶음 ${\\cal F}$는 합리적이지 않다. \n",
    "\n",
    "$${\\cal F}=\\big\\{ \\{H\\}, \\{T\\}, \\Omega\\big\\}$$ "
   ]
  },
  {
   "cell_type": "markdown",
   "id": "9d06aa5c-620c-4494-be3a-53054c480d84",
   "metadata": {
    "id": "9d06aa5c-620c-4494-be3a-53054c480d84"
   },
   "source": [
    "(해설)"
   ]
  },
  {
   "cell_type": "markdown",
   "id": "4a47d4f5-d2a5-47a8-a5a3-1c62ee33c223",
   "metadata": {
    "id": "4a47d4f5-d2a5-47a8-a5a3-1c62ee33c223"
   },
   "source": [
    "전체집합의 확률은 $P(\\Omega)=1$로 정의할 수 있다. 그런데 전체집합의 여집합인 공집합의 확률을 정의할 수 없는건 말이 안되므로 공집합은 $\\cal F$에 포함되어야 한다. "
   ]
  },
  {
   "cell_type": "markdown",
   "id": "e2c2c4a8-f985-4a9b-aa6b-eacf2a1125f9",
   "metadata": {
    "id": "e2c2c4a8-f985-4a9b-aa6b-eacf2a1125f9"
   },
   "source": [
    "## **(예제4)** -- 원소의 수가 유한한 경우 ${\\cal F}=2^\\Omega$은 잴 수 있는 집합의 모임이야. "
   ]
  },
  {
   "cell_type": "markdown",
   "id": "6bb4f957-cf00-4218-8d7e-302e80d522fa",
   "metadata": {
    "id": "6bb4f957-cf00-4218-8d7e-302e80d522fa"
   },
   "source": [
    "$\\Omega=\\{1,2,3,4,5,6\\}$이라고 하자. ${\\cal F}$을 아래와 같이 정의한다고 하자. 이러한 묶음은 ${\\cal F}$은 합리적이다. \n",
    "\n",
    "$${\\cal F}=\\text{all subset of $\\Omega$}= 2^\\Omega = \\big\\{ \\emptyset, \\{1\\}, \\{2\\}, \\dots, \\{6\\}, \\dots, \\{1,2,3,4,5\\} \\dots \\Omega\\big\\}$$ "
   ]
  },
  {
   "cell_type": "markdown",
   "id": "4ff57e78-1b27-4acc-9190-87b7e9bf2429",
   "metadata": {
    "id": "4ff57e78-1b27-4acc-9190-87b7e9bf2429"
   },
   "source": [
    "(해설)"
   ]
  },
  {
   "cell_type": "markdown",
   "id": "21524e7c-08bb-4d08-b719-d2d2670f3f09",
   "metadata": {
    "id": "21524e7c-08bb-4d08-b719-d2d2670f3f09"
   },
   "source": [
    "$\\Omega$의 모든 부분집합에 대하여 확률을 모순없이 정의할 수 있다. 예를들면 \n",
    "\n",
    "- $P(\\Omega)=1$, $P(\\emptyset)=0$ \n",
    "- $P(\\{1\\})=\\frac{1}{6}$\n",
    "- $P(\\{1,2,4\\})=\\frac{3}{6}$\n",
    "- $P(\\{2,3,4,5,6\\})=\\frac{5}{6}$\n",
    "- $\\dots$\n",
    "\n",
    "이런식으로 정의할 수 있다. "
   ]
  },
  {
   "cell_type": "markdown",
   "id": "4e787d94-9fc6-41ff-94c1-4d00a10fb649",
   "metadata": {
    "id": "4e787d94-9fc6-41ff-94c1-4d00a10fb649"
   },
   "source": [
    "## **(예제5)** -- 동일한 $\\Omega$에 대하여 잴 수 있는 집합의 모임 ${\\cal F}$는 유니크하지 않음. (하나만 있는게 아니다)"
   ]
  },
  {
   "cell_type": "markdown",
   "id": "a37ca021-5772-42d4-8541-3b23a49cc412",
   "metadata": {
    "id": "a37ca021-5772-42d4-8541-3b23a49cc412"
   },
   "source": [
    "$\\Omega=\\{1,2,3,4,5,6\\}$이라고 하자. ${\\cal F}$을 아래와 같이 정의한다고 하자. 이러한 묶음 ${\\cal F}$는 합리적이다. \n",
    "\n",
    "$${\\cal F}=\\big\\{\\emptyset, \\{6\\}, \\{1,2,3,4,5\\},\\Omega \\big\\}$$ "
   ]
  },
  {
   "cell_type": "markdown",
   "id": "0c73f8af-a674-492b-9857-a95b50e1543f",
   "metadata": {
    "id": "0c73f8af-a674-492b-9857-a95b50e1543f"
   },
   "source": [
    "(해설) "
   ]
  },
  {
   "cell_type": "markdown",
   "id": "1db2caf4-b6b2-4c59-b359-e20e3c21ec74",
   "metadata": {
    "id": "1db2caf4-b6b2-4c59-b359-e20e3c21ec74"
   },
   "source": [
    "어떠한 특수한 상황을 가정하자. 주사위를 던져야하는데 6이 나오면 살수 있고 6이 나오지 않으면 죽는다고 하자. 따라서 던지는 사람 입장에서는 주사위를 던져서 6이 나오는지 안나오는지만 관심있을 것이다. 이 사람의 머리속에서 순간적으로 떠오르는 확률들은 아래와 같다.^[공평한 주사위라고 하자..]\n",
    "\n",
    "- 살수있다 => 1/6 \n",
    "- 죽는다 => 5/6 \n",
    "- 살거나 죽는다 => 1 \n",
    "- 살지도 죽지도 않는다  => 0 \n",
    "\n",
    "이러한 확률은 합리적이다. 즉 아래의 집합들만 확률을 정의한다고 해도, 확률을 잘 정의할 수 있을 것 같다. \n",
    "\n",
    "$$\\emptyset, \\{6\\}, \\{1,2,3,4,5\\}, \\Omega$$"
   ]
  },
  {
   "cell_type": "markdown",
   "id": "696a6aa7-dd9b-487d-88c8-77cf8f5e55e9",
   "metadata": {
    "id": "696a6aa7-dd9b-487d-88c8-77cf8f5e55e9"
   },
   "source": [
    "## **(예제6)** -- $\\Omega$를 어떠한 사건의 집합으로 보느냐에 따라서 ${\\cal F}$를 달리 구성할 수 있다. "
   ]
  },
  {
   "cell_type": "markdown",
   "id": "6e2c848a-b574-40df-a169-df84c66ddf82",
   "metadata": {
    "id": "6e2c848a-b574-40df-a169-df84c66ddf82"
   },
   "source": [
    "$\\Omega=\\{1,2,3,4,5,6\\}$이라고 하자. ${\\cal F}$을 아래와 같이 정의한다고 하자. 이러한 묶음 ${\\cal F}$는 합리적이다. \n",
    "\n",
    "$${\\cal F}=\\big\\{\\emptyset, \\{1,3,5\\}, \\{2,4,6\\},\\Omega \\big\\}$$ "
   ]
  },
  {
   "cell_type": "markdown",
   "id": "ee37925a-6fa7-4249-acdc-fd7a66a4b8de",
   "metadata": {
    "id": "ee37925a-6fa7-4249-acdc-fd7a66a4b8de"
   },
   "source": [
    "(해설) "
   ]
  },
  {
   "cell_type": "markdown",
   "id": "6cfbafe7-c29b-4c51-85ff-f75b273197b0",
   "metadata": {
    "id": "6cfbafe7-c29b-4c51-85ff-f75b273197b0"
   },
   "source": [
    "전체사건을 \"주사위를 던져서 짝이 나오는 사건\", \"주사위를 던져서 홀이 나오는 사건\" 정도만 구분하겠다는 의미"
   ]
  },
  {
   "cell_type": "markdown",
   "id": "20ead21e-170e-4374-805b-6c4e0b06a3e9",
   "metadata": {
    "id": "20ead21e-170e-4374-805b-6c4e0b06a3e9"
   },
   "source": [
    "## **(예제7)** -- $A\\in {\\cal F} \\Rightarrow A^c \\in {\\cal F}$"
   ]
  },
  {
   "cell_type": "markdown",
   "id": "6986d69a-6d1f-41cf-9e13-d0631aeaba80",
   "metadata": {
    "id": "6986d69a-6d1f-41cf-9e13-d0631aeaba80"
   },
   "source": [
    "$\\Omega=\\{1,2,3,4,5,6\\}$이라고 하자. ${\\cal F}$을 아래와 같이 정의한다고 하자. 이러한 묶음 ${\\cal F}$는 합리적이지 않다. \n",
    "\n",
    "$${\\cal F}=\\big\\{\\emptyset, \\{1,3,5\\}, \\Omega \\big\\}$$ "
   ]
  },
  {
   "cell_type": "markdown",
   "id": "15b8f94d-7e6f-4364-a22b-bfb9e5a5b4a5",
   "metadata": {
    "id": "15b8f94d-7e6f-4364-a22b-bfb9e5a5b4a5"
   },
   "source": [
    "(해설) "
   ]
  },
  {
   "cell_type": "markdown",
   "id": "2e23ef34-cf57-4919-a6c2-2e133ed1fa27",
   "metadata": {
    "id": "2e23ef34-cf57-4919-a6c2-2e133ed1fa27"
   },
   "source": [
    "\"주사위를 던져서 홀수가 나올 사건\"에 대한 확률을 정의할 수 있는데, 짝수가 나올 사건에 대한 확률을 정의할 수 없다는건 말이 안되는 소리임. "
   ]
  },
  {
   "cell_type": "markdown",
   "id": "fe69cd8b-34fe-45c0-ae0b-7d0b6738b987",
   "metadata": {
    "id": "fe69cd8b-34fe-45c0-ae0b-7d0b6738b987"
   },
   "source": [
    "## **(예제8)** -- trivial $\\sigma$-field : 공집합과 전체집합만 포함된 $\\sigma$-field"
   ]
  },
  {
   "cell_type": "markdown",
   "id": "c9a081f2-af0e-427a-b56f-2a817c5921b0",
   "metadata": {
    "id": "c9a081f2-af0e-427a-b56f-2a817c5921b0"
   },
   "source": [
    "$\\Omega=\\{1,2,3,4,5,6\\}$이라고 하자. ${\\cal F}$을 아래와 같이 정의한다고 하자. 이러한 묶음 ${\\cal F}$는 합리적이다. \n",
    "\n",
    "$${\\cal F}=\\{\\emptyset, \\Omega \\}$$ "
   ]
  },
  {
   "cell_type": "markdown",
   "id": "d25a436a-0760-4f96-9c87-0e0e6ed3b565",
   "metadata": {
    "id": "d25a436a-0760-4f96-9c87-0e0e6ed3b565"
   },
   "source": [
    "(해설) "
   ]
  },
  {
   "cell_type": "markdown",
   "id": "ec325edf-47e5-413d-a14b-5d6b64dff80d",
   "metadata": {
    "id": "ec325edf-47e5-413d-a14b-5d6b64dff80d"
   },
   "source": [
    "아예 이렇게 잡으면 모순이 일어나진 않음. (쓸모가 없겠지)"
   ]
  },
  {
   "cell_type": "markdown",
   "id": "25a2b481-49dc-4d66-b3db-fc8a781fc72c",
   "metadata": {
    "id": "25a2b481-49dc-4d66-b3db-fc8a781fc72c"
   },
   "source": [
    "## **(예제9)** -- 서로소인 두 집합의 합, 포함관계에 있는 집합의 차"
   ]
  },
  {
   "cell_type": "markdown",
   "id": "5a6814ee-969e-4169-a9fb-e59e39b35468",
   "metadata": {
    "id": "5a6814ee-969e-4169-a9fb-e59e39b35468"
   },
   "source": [
    "$\\Omega=\\{1,2,3,4\\}$이라고 하자. 어떠한 필요에 따라서 1이 나올 확률과 2가 나올 확률에만 관심이 있고 나머지는 별로 관심이 없다고 하자. 그래서 ${\\cal F}$을 아래와 같이 정의했다고 하자. 이러한 묶음 ${\\cal F}$는 합리적이지 않다. \n",
    "\n",
    "$${\\cal F}=\\{\\emptyset, \\{1\\}, \\{2\\}, \\{2,3,4\\}, \\{1,3,4\\}, \\Omega \\}$$ "
   ]
  },
  {
   "cell_type": "markdown",
   "id": "43ffde8e-8941-462c-83ff-16a8c1ac90fa",
   "metadata": {
    "id": "24f51d2c-7c29-4259-9d99-8cf5e8f40c22"
   },
   "source": [
    "(해설1) "
   ]
  },
  {
   "cell_type": "markdown",
   "id": "5255d015-826a-40d6-9659-322575b430a1",
   "metadata": {
    "id": "e025c514-cd6c-4326-9947-53344c07ac8b"
   },
   "source": [
    "생각해보니까 $\\{2\\}$는 $\\{2,3,4\\}$의 부분집합이다. 그런데 $P(\\{2\\})$와 $P(\\{2,3,4\\})$를 각각 정의할 수 있는데 \n",
    "\n",
    "$$P(\\{2,3,4\\} - \\{2\\}) = P(\\{3,4\\})$$ \n",
    "\n",
    "를 정의할 수 없는건 말이 안된다. 따라서 ${\\cal F}$를 아래와 같이 수정해야 한다. \n",
    "\n",
    "$${\\cal F}=\\{\\emptyset, \\{1\\}, \\{2\\}, \\{2,3,4\\}, \\{1,3,4\\}, \\Omega, \\{3,4\\}, \\{1,2\\} \\}$$ "
   ]
  },
  {
   "cell_type": "markdown",
   "id": "b4fa7e27-8d85-44c0-9a6c-ef64f2044c33",
   "metadata": {
    "id": "b4fa7e27-8d85-44c0-9a6c-ef64f2044c33"
   },
   "source": [
    "(해설2) "
   ]
  },
  {
   "cell_type": "markdown",
   "id": "ef8c3510-46ea-46c1-a0d6-03beed054ac6",
   "metadata": {
    "id": "ef8c3510-46ea-46c1-a0d6-03beed054ac6"
   },
   "source": [
    "${\\cal F}$은 전체집합과 공집합을 포함하고 여집합에 닫혀있으므로 언뜻 생각해보면 합리적인듯 보이지만 그렇지 않다. 왜냐하면 $\\{1,2\\}$이 빠졌기 때문이다. 1이 나올 확률 $P(\\{1\\})$와 2가 나올 확률 $P(\\{2\\})$를 각각 정의할 수 있는데, 1 또는 2가 나올 확률 $P(\\{1,2\\})$을 정의할 때 모순이 발생한다는 것은 합리적이지 못하다. 왜냐하면 $\\{1\\} \\cap \\{2\\} = \\emptyset$ 이므로 \n",
    "\n",
    "$$P(\\{1\\} \\cup \\{2\\})=P(\\{1\\}) + P(\\{2\\})$$\n",
    "\n",
    "와 같이 정의가능하기 때문이다. 따라서 집합이 아래와 같이 수정되어야 한다. \n",
    "\n",
    "$${\\cal F}=\\{\\emptyset, \\{1\\}, \\{2\\}, \\{2,3,4\\}, \\{1,3,4\\}, \\Omega, \\{1,2\\}, \\{3,4\\} \\}$$ "
   ]
  },
  {
   "cell_type": "markdown",
   "id": "01be030b-a7f4-438c-a7a8-e3df381e2fec",
   "metadata": {
    "id": "01be030b-a7f4-438c-a7a8-e3df381e2fec"
   },
   "source": [
    "(해설3) \n",
    "\n",
    "$\\Omega$의 어떠한 두 부분집합 $A$, $B$가 서로소라고 상상하자. 집합 $A$, $B$에 대한 확률이 각각 무모순으로 정의된다면, 집합 $A\\cup B$에 대한 확률도 무모순으로 정의되어야 한다. "
   ]
  },
  {
   "cell_type": "markdown",
   "id": "f7e4fe93-a1b6-4eaf-b09f-88e0e9a597fa",
   "metadata": {
    "id": "f7e4fe93-a1b6-4eaf-b09f-88e0e9a597fa"
   },
   "source": [
    "$\\Leftrightarrow$ $\\forall A,B \\subset \\Omega$ such that $A \\cap B =\\emptyset$: $A,B \\in {\\cal F} \\Rightarrow A \\cup B \\in {\\cal F}$ "
   ]
  },
  {
   "cell_type": "markdown",
   "id": "e37e8105-ab05-4e7b-a647-c1171c480ca2",
   "metadata": {
    "id": "e37e8105-ab05-4e7b-a647-c1171c480ca2"
   },
   "source": [
    "또한 $\\Omega$의 임의의 두 부분집합이 $A \\subset B$와 같은 포함관계가 성립할때, 집합 $A$, $B$에 대한 확률이 각각 무모순으로 정의된다면, 집합 $B-A$에 대한 확률로 무모순으로 정의되어야 한다. "
   ]
  },
  {
   "cell_type": "markdown",
   "id": "69a40d8c-fee2-44fd-a156-5ac8bb554f40",
   "metadata": {
    "id": "69a40d8c-fee2-44fd-a156-5ac8bb554f40"
   },
   "source": [
    "$\\Leftrightarrow$ $\\forall A,B \\subset \\Omega$ such that $A \\subset B$: $A,B \\in {\\cal F} \\Rightarrow B-A \\in {\\cal F}$ "
   ]
  },
  {
   "cell_type": "markdown",
   "id": "8ac7f1f2-9bb3-4efa-8999-6408bc730d0f",
   "metadata": {
    "id": "8ac7f1f2-9bb3-4efa-8999-6408bc730d0f"
   },
   "source": [
    "## **(예제10)** -- ${\\cal A}=\\{\\{1\\},\\{2\\}\\}$ 일때, $\\sigma({\\cal A})$ 를 구하는 문제 "
   ]
  },
  {
   "cell_type": "markdown",
   "id": "db27490b-f9df-4c57-aae2-bba5a9b4549f",
   "metadata": {
    "id": "db27490b-f9df-4c57-aae2-bba5a9b4549f"
   },
   "source": [
    "$\\Omega=\\{1,2,3,4\\}$이라고 하자. 내가 관심이 있는 확률은 $P(\\{1\\})$, $P(\\{2\\})$ 밖에 없다고 하자. 이러한 확률들이 무모순으로 정의되기 위한 최소한의 ${\\cal F}$를 정의하라. "
   ]
  },
  {
   "cell_type": "markdown",
   "id": "aa73ef53-4fd8-4725-b63c-6d5abb32e8f5",
   "metadata": {
    "id": "aa73ef53-4fd8-4725-b63c-6d5abb32e8f5"
   },
   "source": [
    "(해설) -- 좀 귀찮네..?"
   ]
  },
  {
   "cell_type": "markdown",
   "id": "264a2d94-750f-4cd4-be24-6cd679040aa8",
   "metadata": {
    "id": "264a2d94-750f-4cd4-be24-6cd679040aa8"
   },
   "source": [
    "0차수정: ${\\cal A} = \\big\\{\\{1\\}, \\{2\\}\\big\\}$"
   ]
  },
  {
   "cell_type": "markdown",
   "id": "336b7435-5b43-4b38-8ccc-82240bad114e",
   "metadata": {
    "id": "336b7435-5b43-4b38-8ccc-82240bad114e"
   },
   "source": [
    "1차수정: $\\big\\{\\emptyset, \\{1\\}, \\{2\\}, \\Omega \\big\\}$"
   ]
  },
  {
   "cell_type": "markdown",
   "id": "9743a4d3-e4ec-43bb-a05d-aafb4f5fdb00",
   "metadata": {
    "id": "9743a4d3-e4ec-43bb-a05d-aafb4f5fdb00"
   },
   "source": [
    "2차수정: $\\big\\{\\emptyset, \\{1\\}, \\{2\\}, \\{2,3,4\\}, \\{1,3,4\\}, \\Omega \\big\\}$"
   ]
  },
  {
   "cell_type": "markdown",
   "id": "5675cbf4-2087-4957-99b3-09b5bb2bb768",
   "metadata": {
    "id": "5675cbf4-2087-4957-99b3-09b5bb2bb768"
   },
   "source": [
    "3차수정: $\\big\\{\\emptyset, \\{1\\}, \\{2\\}, \\{2,3,4\\}, \\{1,3,4\\}, \\Omega, \\{1,2\\}, \\{3,4\\} \\big\\}$"
   ]
  },
  {
   "cell_type": "markdown",
   "id": "9477e2b8-a258-4e9c-8f0d-8cc80ed4571f",
   "metadata": {
    "id": "9477e2b8-a258-4e9c-8f0d-8cc80ed4571f"
   },
   "source": [
    "> 사실 우리가 관심 있는건 ${\\cal A} = \\{ \\{1\\}, \\{2\\} \\}$ 뿐 이었음. 그런데 뭔가 $P(\\{1\\})$와 $P(\\{2\\})$를 합리적으로 정의하기 위해서 필연적으로 발생하는 어떠한 집합들을 모두 생각하는건 매우 피곤하고 귀찮은 일임. 그래서 \"아 모르겠고, $\\{1\\}$ 와 $\\{2\\}$를 포함하고 확률의 뜻에 모순되지 않게 만드는 최소한의 ${\\cal F}$가 있을텐데, 거기서만 확률을 정의할래!\" 라고 쉽게 생각하고 싶은 사람들이 생김. 그러한 공간을 $\\sigma({\\cal A})$라는 기호로 약속하고 smallest $\\sigma$-field containing ${\\cal A}$ 라는 용어로 부름. "
   ]
  },
  {
   "cell_type": "markdown",
   "id": "da326b44-6f07-4b70-b90e-97614aca9139",
   "metadata": {},
   "source": [
    " > $\\sigma({\\cal A})$ 가 1. 존재하는가? -> 존재한다. 2. 유니크한가? -> smallest가 존재한다는 것은 유니크하다는 뜻"
   ]
  },
  {
   "cell_type": "markdown",
   "id": "d0fd5e06",
   "metadata": {
    "id": "d0fd5e06"
   },
   "source": [
    "---"
   ]
  },
  {
   "cell_type": "markdown",
   "id": "f364aaf2",
   "metadata": {
    "id": "f364aaf2",
    "tags": []
   },
   "source": [
    "## ***생각의 시간1*** "
   ]
  },
  {
   "cell_type": "markdown",
   "id": "65984144",
   "metadata": {
    "id": "65984144"
   },
   "source": [
    "우리가 잴 수 있는 집합의 모임들 ${\\cal F}$라는 것은 답을 구체적으로 쓸 수는 없으나 현재까지 파악한 직관에 한정하여 아래와 같은 조건^[이 조건들은 수정 및 보완 될 예정임]들을 만족하는 collection이라고 \"일단은\" 생각할 수 있다. \n",
    "\n",
    "1. $\\Omega, \\emptyset \\in {\\cal F}$ \n",
    "2. $\\forall A \\subset \\Omega: ~ A \\in {\\cal F} \\Rightarrow A^c \\in {\\cal F}$ \n",
    "3. $\\forall A,B \\subset \\Omega$ such that $A\\cap B =\\emptyset$: $A,B \\in {\\cal F} \\Rightarrow A \\cup B \\in {\\cal F}$ \n",
    "4. $\\forall A,B \\subset \\Omega$ such that $A \\subset B$: $A,B  \\in {\\cal F} \\Rightarrow B-A \\in {\\cal F}$ "
   ]
  },
  {
   "cell_type": "markdown",
   "id": "66c06671",
   "metadata": {
    "id": "66c06671"
   },
   "source": [
    "이것은 우리가 \"확률\"이라는 개념을 올바르게 정의하기 위해서 필요한 최소한의 합의^[모든 사람들이 인정할 수 밖에 없는 합의]이다. "
   ]
  },
  {
   "cell_type": "markdown",
   "id": "f3608c76",
   "metadata": {
    "id": "f3608c76"
   },
   "source": [
    "여기에서 우리가 따져볼 것은 (1) 시그마필드의 조건으로 1~4이면 충분한지 (더 많은 조건들이 필요한건 아닌지) 그리고 (2) 우리가 있었으면 하는 조건들이 꼭 필요한 조건은 맞는지 (예를들면 한두개의 조건이 다른조건을 암시하는건 아닌지) 이다. "
   ]
  },
  {
   "cell_type": "markdown",
   "id": "bfe9461f",
   "metadata": {
    "id": "bfe9461f"
   },
   "source": [
    "`(충분할까?)` 조건 1,2,3,4 정도를 만족하는 집합으로 시그마필드를 정의해도 충분할까? 좀 더 많은 조건들이 필요한건 아닐까? 예를들면 아래와 같은 조건들이 필요한건 아닌가?  \n",
    "\n",
    "5. $\\forall A,B \\subset \\Omega:~ A,B \\in {\\cal F} ~ \\Rightarrow A\\cap B \\in {\\cal F}$\n",
    "6. $\\forall A,B \\subset \\Omega:~ A,B \\in {\\cal F} ~ \\Rightarrow A\\cup B \\in {\\cal F}$\n",
    "7. $\\forall B_1,B_2,\\dots \\subset \\Omega$ such that $B_1, B_2,\\dots$ are disjoint: $B_1,B_2,\\dots \\in {\\cal F} \\Rightarrow \\cup_{i=1}^{\\infty}B_i \\in {\\cal F}$\n",
    "8. $\\forall A_1,A_2,\\dots \\subset \\Omega$: $A_1,A_2,\\dots \\in {\\cal F} \\Rightarrow \\cup_{i=1}^{\\infty}A_i \\in {\\cal F}$"
   ]
  },
  {
   "cell_type": "markdown",
   "id": "35abaf17",
   "metadata": {
    "id": "35abaf17"
   },
   "source": [
    "여기에서 잠시 7의 의미를 살펴보자. \n",
    "\n",
    "7. 3의 확장버전이라고 볼 수 있다. 3은 \"각 집합을 잴 수 있다면 서로소인 집합을 유한번 더한 집합도 잴 수 있어야 한다\" 라는 의미가 된다. 7은 \"각 집합을 잴 수 있다면 서로소인 집합을 `셀 수 있는 무한번` 더한 집합도 잴 수 있어야 한다\" 라는 의미가 된다. "
   ]
  },
  {
   "cell_type": "markdown",
   "id": "5748f1db",
   "metadata": {
    "id": "5748f1db"
   },
   "source": [
    "---"
   ]
  },
  {
   "cell_type": "markdown",
   "id": "5e833f4c",
   "metadata": {
    "id": "5e833f4c"
   },
   "source": [
    "## **(예제11)** -- 람다시스템"
   ]
  },
  {
   "cell_type": "markdown",
   "id": "c721ba1c",
   "metadata": {
    "id": "c721ba1c"
   },
   "source": [
    "$\\Omega=(0,2\\pi]$ 라고 하자. ${\\cal A} = \\{\\{x\\}: x\\in \\mathbb{Q} \\cap \\Omega \\}$ 이라고 할 때 아래가 성립할까?\n",
    "\n",
    "$$\\mathbb{Q} \\cap \\Omega \\in \\sigma({\\cal A})$$"
   ]
  },
  {
   "cell_type": "markdown",
   "id": "587f6b14-2a7b-40d6-8095-53298a893535",
   "metadata": {},
   "source": [
    "$\\mathbb{Q} \\cap \\Omega$ : 구간 (0,2π] 에 있는 모든 유리수 모임"
   ]
  },
  {
   "cell_type": "markdown",
   "id": "c13a1d73",
   "metadata": {
    "id": "c13a1d73"
   },
   "source": [
    "즉 각각의 유리수 한점씩을 잴 수 있을 때^[$P(\\{0\\})$, $P(\\{0.21\\})$, $\\dots$를 각각 정의가능할 때] 유리수 전체의 집합 역시 잴 수 있을까? "
   ]
  },
  {
   "cell_type": "markdown",
   "id": "4961bea2",
   "metadata": {
    "id": "4961bea2"
   },
   "source": [
    "(해설1)"
   ]
  },
  {
   "cell_type": "markdown",
   "id": "326121f0",
   "metadata": {
    "id": "326121f0"
   },
   "source": [
    "유리수는 셀 수 있는 무한이므로 집합 $\\mathbb{Q} \\cap \\Omega$의 길이나 확률 따위는 잴 수 있다."
   ]
  },
  {
   "cell_type": "markdown",
   "id": "a14f69c0",
   "metadata": {
    "id": "a14f69c0"
   },
   "source": [
    "(해설2)"
   ]
  },
  {
   "cell_type": "markdown",
   "id": "f5ccd5a7",
   "metadata": {
    "id": "f5ccd5a7"
   },
   "source": [
    "[확률의 공리](https://en.wikipedia.org/wiki/Probability_axioms)중 3을 살펴보면 이미 서로소인 집합의 countable union은 잴 수 있는 대상이라고 생각하고 있다. 이건 마치 \"확률은 양수\"이어야 한다든가, \"전체확률은 1이어야\" 한다는 사실처럼 당연한 사실이다.^[사실 일반인에게 당연하지 않을 수도 있지만 최소한 수학자들은 당연하게 생각한다. 그래서 우리도 그냥 당연하게 생각하자.] "
   ]
  },
  {
   "cell_type": "markdown",
   "id": "d1bb2edf",
   "metadata": {
    "id": "d1bb2edf"
   },
   "source": [
    "![그림1: 위키에서 캡쳐했어요~ 3번째 공리를 살펴보세요](https://guebin.github.io/AP2023/posts/I.%20Measure%20Theory/2023-03-21-3wk_files/figure-html/d1bb2edf-1-image.png)"
   ]
  },
  {
   "cell_type": "markdown",
   "id": "1ca726ca",
   "metadata": {
    "id": "1ca726ca"
   },
   "source": [
    "> 사실 납득이 되는건 아님. 그렇지만 일단은 \"수학자들이 합의해서 이런건 잴 수 있다고 했어. 그러니까 잴 수 있어\" 라고 이해하고 넘어가자. "
   ]
  },
  {
   "cell_type": "markdown",
   "id": "dcc7e403",
   "metadata": {
    "id": "dcc7e403"
   },
   "source": [
    "---"
   ]
  },
  {
   "cell_type": "markdown",
   "id": "e21f1e0d",
   "metadata": {
    "id": "e21f1e0d"
   },
   "source": [
    "## ***생각의 시간2***"
   ]
  },
  {
   "cell_type": "markdown",
   "id": "531f630b",
   "metadata": {
    "id": "531f630b"
   },
   "source": [
    "이제 5,6의 성질을 살펴보자. "
   ]
  },
  {
   "cell_type": "markdown",
   "id": "f47fc1f2",
   "metadata": {
    "id": "f47fc1f2"
   },
   "source": [
    "5. $\\forall A,B \\subset \\Omega:~ A,B \\in {\\cal F} ~ \\Rightarrow A\\cap B \\in {\\cal F}$\n",
    "6. $\\forall A,B \\subset \\Omega:~ A,B \\in {\\cal F} ~ \\Rightarrow A\\cup B \\in {\\cal F}$"
   ]
  },
  {
   "cell_type": "markdown",
   "id": "25a4e656",
   "metadata": {
    "id": "25a4e656"
   },
   "source": [
    "6의 경우는 $A$와 $B$가 서로소가 아니더라고 $A \\cup B$를 잴 수 있느냐? 라는 것이다. (결국 이는 교집합을 잴 수 있느냐? 라는 물음과 같아서 5와 6은 같은 질문이다.)"
   ]
  },
  {
   "cell_type": "markdown",
   "id": "56066e5b",
   "metadata": {
    "id": "56066e5b"
   },
   "source": [
    "---"
   ]
  },
  {
   "cell_type": "markdown",
   "id": "9f287f5f",
   "metadata": {
    "id": "9f287f5f"
   },
   "source": [
    "## **(예제12)** -- 교집합을 넣을까 말까"
   ]
  },
  {
   "cell_type": "markdown",
   "id": "75a99e78",
   "metadata": {
    "id": "75a99e78"
   },
   "source": [
    "$\\Omega=\\{1,2,3,4\\}$라고 하자. 아래와 같은 ${\\cal F}$는 합리적일까?"
   ]
  },
  {
   "cell_type": "markdown",
   "id": "6a86288e",
   "metadata": {
    "id": "6a86288e"
   },
   "source": [
    "$${\\cal F}= \\big\\{ \\emptyset, \\{1,2\\}, \\{1,3\\}, \\{1,4\\},\\{2,3\\},\\{2,4\\},\\{3,4\\}, \\Omega\\big\\}$$"
   ]
  },
  {
   "cell_type": "markdown",
   "id": "5d28fbd9",
   "metadata": {
    "id": "5d28fbd9"
   },
   "source": [
    "(해설1) -- 틀린해설"
   ]
  },
  {
   "cell_type": "markdown",
   "id": "c6154fcd",
   "metadata": {
    "id": "c6154fcd"
   },
   "source": [
    "이러한 집합은 원칙 1-4,7 에 위배되지 않는다. "
   ]
  },
  {
   "cell_type": "markdown",
   "id": "e8d6a074",
   "metadata": {
    "id": "e8d6a074"
   },
   "source": [
    "`1`. $\\Omega, \\emptyset \\in {\\cal F}$ \n",
    "\n",
    "`2`. $\\forall A \\subset \\Omega: ~ A \\in {\\cal F} \\Rightarrow A^c \\in {\\cal F}$ \n",
    "\n",
    "`3`. $\\forall A,B \\subset \\Omega$ such that $A\\cap B =\\emptyset$: $A,B \\in {\\cal F} \\Rightarrow A \\cup B \\in {\\cal F}$ \n",
    "\n",
    "`4`. $\\forall A,B \\subset \\Omega$ such that $A \\subset B$: $A,B  \\in {\\cal F} \\Rightarrow B-A \\in {\\cal F}$ \n",
    "\n",
    "`7`. $\\forall B_1,B_2,\\dots \\subset \\Omega$ such that $B_1, B_2,\\dots$ are disjoint: $B_1,B_2,\\dots \\in {\\cal F} \\Rightarrow \\cup_{i=1}^{\\infty}B_i \\in {\\cal F}$"
   ]
  },
  {
   "cell_type": "markdown",
   "id": "65bbbedb",
   "metadata": {
    "id": "65bbbedb"
   },
   "source": [
    "그런데 이 집합은 \n",
    "\n",
    "$$\\{1,2\\} \\cap \\{1,3\\} = \\{1\\}$$\n",
    "\n",
    "와 같은 집합이라든가, \n",
    "\n",
    "$$\\{1,2\\} \\cup \\{1,3\\} = \\{1,3,4\\}$$\n",
    "\n",
    "와 같은 집합의 길이를 잴 수 없다. 따라서 아래와 같이 우리가 고등학교때 부터 써왔던 공식을 쓸 수 없다. ([ref](\n",
    "https://en.wikipedia.org/wiki/Probability_axioms), Further consequences)\n",
    "\n",
    "$$P(A\\cup B) = P(A) + P(B) - P(A\\cap B)$$"
   ]
  },
  {
   "cell_type": "markdown",
   "id": "16757e9b",
   "metadata": {
    "id": "16757e9b"
   },
   "source": [
    "이것은 불편하니까 $A,B$가 잴 수 있다면, $A,B$의 교집합이나 합집합따위도 잴 수 있다고 정하자. "
   ]
  },
  {
   "cell_type": "markdown",
   "id": "b9885cf9",
   "metadata": {
    "id": "b9885cf9"
   },
   "source": [
    "(해설1의 반론) "
   ]
  },
  {
   "cell_type": "markdown",
   "id": "493779f6",
   "metadata": {
    "id": "493779f6"
   },
   "source": [
    "약속하지 않으면 \"불편\"하니까 약속하자라는 논리는 말이 되지 않음. 그 논리대로라면 $\\Omega$의 모든 부분 집합에 대하여 확률을 정의할 수 없다고 하면 \"불편\"하니까 약속하자라는 논리가 됨. 잴 수 있는 집합의 합집합이나 교집합을 잴 수 있다라는 근거는 없음. "
   ]
  },
  {
   "cell_type": "markdown",
   "id": "873fd0bd",
   "metadata": {
    "id": "873fd0bd"
   },
   "source": [
    "(해설1의 반론의 반론) -- 참고용으로만.. "
   ]
  },
  {
   "cell_type": "markdown",
   "id": "1c1d5e15",
   "metadata": {
    "id": "1c1d5e15"
   },
   "source": [
    "사실 근거가 있긴함. 즉 $A$와 $B$를 각각 잴 수 있다면 $A$, $B$의 교집합도 잴 수 있음. (그렇다면 자동으로 합집합도 잴 수 있게 됨.) 이것을 지금 수준에서 엄밀하게 따지기 위해서는 \"잴 수 있는 집합\"의 정의를 해야하는데 지금 수준에서는 까다로움. "
   ]
  },
  {
   "cell_type": "markdown",
   "id": "017b13fc",
   "metadata": {
    "id": "017b13fc"
   },
   "source": [
    "**(해설2)** -- 엄밀한 해설 X "
   ]
  },
  {
   "cell_type": "markdown",
   "id": "895085f2",
   "metadata": {
    "id": "895085f2"
   },
   "source": [
    "잴 수 있는 집합을 우리는 지금 까지 당연하게 \n",
    "\n",
    "- 확률을 잴 수 있는 집합들\n",
    "\n",
    "로 생각했음, 그런데 원래 잴 수 있는 집합이라는 개념은 \"선분의 길이\" 따위를 모순없이 정의할 수 있는가? 즉 수직선 $\\mathbb{R}$의 모든 부분집합의 길이라는 개념을 정의할 수 있는가? 에서 출발하였음. 즉 원래 잴 수 있는 집합이라는 의미는\n",
    "\n",
    "- 수직선에서 길이를 잴 수 있는 집합들\n",
    "\n",
    "이라고 생각해야함. 그렇다면 \"길이\"(메저)라는 개념을 다시 추상화 해야하는데 \"길이\"라는 개념은 아래의 원칙에 위배되면 안될 것 같음. "
   ]
  },
  {
   "cell_type": "markdown",
   "id": "eb9220e0",
   "metadata": {
    "id": "eb9220e0"
   },
   "source": [
    "![그림2: 위키에서 긁어온 그림. 길이는 1-4의 성질이 있어야 할 것으로 판단됨](https://guebin.github.io/AP2023/posts/I.%20Measure%20Theory/2023-03-21-3wk_files/figure-html/eb9220e0-1-image.png)"
   ]
  },
  {
   "cell_type": "markdown",
   "id": "8a8376ee",
   "metadata": {
    "id": "8a8376ee"
   },
   "source": [
    "교집합을 잴 수 없다는 논리라면, 구간 $[a_1,b_1]$의 길이는 잴 수 있고 구간 $[a_2,b_2]$의 길이는 잴 수 있지만 구간 $[a_1,b_1] \\cap [a_2,b_2]$의 길이는 잴 수 없다는 말인데 이는 말이되지 않음. "
   ]
  },
  {
   "cell_type": "markdown",
   "id": "3f8c12ce-78d8-4176-911e-14986a44bf67",
   "metadata": {
    "id": "3f8c12ce-78d8-4176-911e-14986a44bf67"
   },
   "source": [
    "> 결론 (엄밀한 해설은 아님): \"잴 수 있다\" 라는 개념은 확률, 길이에 모두 적용할 수 있어야 한다. 잴 수 있는 대상을 확률로 상상하면 $A \\in {\\cal F} \\Rightarrow A^c \\in {\\cal F}$ 인것이 당연하듯이 잴 수 있는 대상을 길이로 상상하면 $A,B \\in {\\cal F} \\Rightarrow A \\cap B \\in {\\cal F}$ 임은 당연하다. "
   ]
  },
  {
   "cell_type": "markdown",
   "id": "a8f569c0",
   "metadata": {
    "id": "a8f569c0"
   },
   "source": [
    "---"
   ]
  },
  {
   "cell_type": "markdown",
   "id": "9b09d702",
   "metadata": {
    "id": "9b09d702"
   },
   "source": [
    "## ***생각의 시간3***"
   ]
  },
  {
   "cell_type": "markdown",
   "id": "b7876bdf",
   "metadata": {
    "id": "b7876bdf"
   },
   "source": [
    "따라서 아래의 성질들은 모두 시그마필드가 가져아할 규칙들로 인정할 수 있다. "
   ]
  },
  {
   "cell_type": "markdown",
   "id": "7467ef58",
   "metadata": {
    "id": "7467ef58"
   },
   "source": [
    "1. $\\Omega, \\emptyset \\in {\\cal F}$ \n",
    "2. $\\forall A \\subset \\Omega: ~ A \\in {\\cal F} \\Rightarrow A^c \\in {\\cal F}$ \n",
    "3. $\\forall A,B \\subset \\Omega$ such that $A\\cap B =\\emptyset$: $A,B \\in {\\cal F} \\Rightarrow A \\cup B \\in {\\cal F}$ \n",
    "4. $\\forall A,B \\subset \\Omega$ such that $A \\subset B$: $A,B  \\in {\\cal F} \\Rightarrow B-A \\in {\\cal F}$ \n",
    "5. $\\forall A,B \\subset \\Omega:~ A,B \\in {\\cal F} ~ \\Rightarrow A\\cap B \\in {\\cal F}$\n",
    "6. $\\forall A,B \\subset \\Omega:~ A,B \\in {\\cal F} ~ \\Rightarrow A\\cup B \\in {\\cal F}$\n",
    "7. $\\forall B_1,B_2,\\dots \\subset \\Omega$ such that $B_1, B_2,\\dots$ are disjoint: $B_1,B_2,\\dots \\in {\\cal F} \\Rightarrow \\cup_{i=1}^{\\infty}B_i \\in {\\cal F}$\n"
   ]
  },
  {
   "cell_type": "markdown",
   "id": "8217133a",
   "metadata": {
    "id": "8217133a"
   },
   "source": [
    "남은건 8번의 규칙이다. "
   ]
  },
  {
   "cell_type": "markdown",
   "id": "f920b3cc",
   "metadata": {
    "id": "f920b3cc"
   },
   "source": [
    "8. $\\forall A_1,A_2,\\dots \\subset \\Omega$: $A_1,A_2,\\dots \\in {\\cal F} \\Rightarrow \\cup_{i=1}^{\\infty}A_i \\in {\\cal F}$"
   ]
  },
  {
   "cell_type": "markdown",
   "id": "f2ce00fe",
   "metadata": {
    "id": "f2ce00fe"
   },
   "source": [
    "이 8^[countable union]번 규칙은 사실 5^[교집합],  7^[서로소의 countable union]번 잘 조합하면 자동으로 이끌어진다. 즉 $(5), (7) \\Rightarrow (8)$. 그 외에도 \"있었으면 싶은\" 규칙은 모두 1-7중 적당한 것을 섞으면 만들 수 있다. 예를들어 아래와 같은 규칙을 고려하자. "
   ]
  },
  {
   "cell_type": "markdown",
   "id": "6518b9b2",
   "metadata": {
    "id": "6518b9b2"
   },
   "source": [
    "9. $\\forall A,B \\subset \\Omega:~ A,B \\in {\\cal F} \\Rightarrow A-B \\in {\\cal F}$\n",
    " - $A-B$ = $A \\cap B^c$\n",
    "10. $\\forall A,B,C \\subset \\Omega: A,B,C \\in {\\cal F} \\Rightarrow A\\cup B \\cup C \\in {\\cal F}$\n",
    "11. $\\forall A_1,A_2,\\dots \\subset \\Omega$: $A_1,A_2,\\dots \\in {\\cal F} \\Rightarrow \\cap_{i=1}^{\\infty}A_i \\in {\\cal F}$"
   ]
  },
  {
   "cell_type": "markdown",
   "id": "72dbde04",
   "metadata": {
    "id": "72dbde04"
   },
   "source": [
    "규칙9는 규칙2^[여집합]와 5^[교집합]로 임플라이 할 수 있고, 규칙10은 규칙6^[2개 집합의 합집합]의 확장으로 임플라이 할 수 있고, 규칙11은 규칙 2^[여집합]와 8^[서로소의 countable union]로 임플라이 할 수 있다. "
   ]
  },
  {
   "cell_type": "markdown",
   "id": "a4345364",
   "metadata": {
    "id": "a4345364"
   },
   "source": [
    "> 결론: 규칙 1-8으로 시그마필드를 표현하기에 충분하다. "
   ]
  },
  {
   "cell_type": "markdown",
   "id": "525766ab",
   "metadata": {
    "id": "525766ab"
   },
   "source": [
    "## ***생각의 시간4***"
   ]
  },
  {
   "cell_type": "markdown",
   "id": "287936b6",
   "metadata": {
    "id": "287936b6"
   },
   "source": [
    "규칙 1-8중 필요없는 규칙을 제거하자."
   ]
  },
  {
   "cell_type": "markdown",
   "id": "8cff1826",
   "metadata": {
    "id": "8cff1826"
   },
   "source": [
    "`1`. 규칙2^[여집합]가 있다면, 규칙1에서 공집합은 빼도 될 것 같다. \n",
    "\n",
    "`2`. 규칙8^[countable union]이 있다면, 규칙3^[disjoint union of two sets], 규칙6^[2개의 합집합], 규칙7^[countable union of disjoint sets]은 필요 없다. 즉 규칙8은 규칙3,6,7의 효과를 모두 가진다. \n",
    "\n",
    "`3`. 규칙2^[여집합]와 규칙6^[합집합]이 있다면, 규칙5^[교집합]는 필요없다. 따라서 규칙2^[여집합]와 규칙8^[countable union]이 있어도 규칙5는 필요없다. \n",
    "\n",
    "`4`. 규칙2^[여집합]와 규칙5^[교집합]가 있다면 규칙4^[포함관계의 차집합]는 필요없다. 그런데 규칙5는 규칙2와 규칙8^[countable union]이 임플라이 하므로 결국 규칙2와 규칙8이 있다면 규칙4가 필요없다. \n",
    "\n",
    "`5`. 결론: 규칙1에서 공집합을 제외한 버전, 그리고 규칙2, 규칙8만 있으면 된다. "
   ]
  },
  {
   "cell_type": "markdown",
   "id": "94ce77ff",
   "metadata": {
    "id": "94ce77ff"
   },
   "source": [
    "# 시그마필드의 정의 "
   ]
  },
  {
   "cell_type": "markdown",
   "id": "8336715b",
   "metadata": {
    "id": "8336715b"
   },
   "source": [
    "`-` 시그마필드, 즉 $\\Omega$의 부분집합 중 \"잴 수 있는 집합의 모임\"은 Durret 교재에 의하여 아래와 같이 정의된다. "
   ]
  },
  {
   "cell_type": "markdown",
   "id": "73a9e952",
   "metadata": {
    "id": "73a9e952"
   },
   "source": [
    "![그림3: Durret교재에서 긁어온 시그마필드의 정의, 드래그한 부분이 정의임](https://guebin.github.io/AP2023/posts/I.%20Measure%20Theory/2023-03-21-3wk_files/figure-html/73a9e952-1-cf2e33ce-3af7-4926-859a-98e92811920c.png)"
   ]
  },
  {
   "cell_type": "markdown",
   "id": "cd2a9e18",
   "metadata": {
    "id": "cd2a9e18"
   },
   "source": [
    "`-` 교재에는 $\\Omega \\in {\\cal F}$이라는 조건이 빠져있는데, $\\Omega \\in {\\cal F}$이라는 조건을 포함하여 기억하는 것이 편리하다. ([위키](https://en.wikipedia.org/wiki/Σ-algebra)등에서 일반적으로 정의할때는 $\\Omega \\in {\\cal F}$ 조건을 포함한다) 즉 위키와 Durret을 적당히 혼합하여 아래와 같이 정의하고 기억하는게 좋다. "
   ]
  },
  {
   "cell_type": "markdown",
   "id": "ee8cc1f5",
   "metadata": {
    "id": "ee8cc1f5"
   },
   "source": [
    "**(Def)** Let $\\Omega$ be some set, and let $2^{\\Omega}$ represent its power set. Then a subset  ${\\cal F} \\subset 2^\\Omega$ is called a $\\sigma$-field if it satisfies the following three properties: \n",
    "\n",
    "1. $\\Omega \\in {\\cal F}$\n",
    "2. $A \\in {\\cal F} \\Rightarrow A^c \\in {\\cal F}$\n",
    "3. $A_1,A_2,A_3\\dots \\in {\\cal F}$ $\\Rightarrow$ $\\cup_{i=1}^{\\infty}A_i \\in {\\cal F}$"
   ]
  },
  {
   "cell_type": "markdown",
   "id": "e07186dd",
   "metadata": {
    "id": "e07186dd"
   },
   "source": [
    "`-` 좀 더 편리하게 아래와 같이 기억하면 좋다. \n",
    "\n",
    "> 시그마필드는 잴 수 있는 집합의 모임인데 아래와 같은 규칙을 만족해야 한다. (1) 전체집합을 포함한다. (2) 여집합에 닫혀있다. (3) 가산합집합에 닫혀있다."
   ]
  },
  {
   "cell_type": "markdown",
   "id": "0ba22b42",
   "metadata": {
    "id": "0ba22b42"
   },
   "source": [
    "`-` 참고1: 시그마필드라는 것은 유일하게 정의되지 않는다. 즉 동일한 $\\Omega$에 대하여 정의할 수 있는 잴수있는 집합의 모임 ${\\cal F}$는 유일하지 않다. "
   ]
  },
  {
   "cell_type": "markdown",
   "id": "4a3982dd",
   "metadata": {
    "id": "4a3982dd"
   },
   "source": [
    "`-` 참고2: 시그마필드는 $\\Omega$없이 단독으로 정의되지 않는다. 즉 \n",
    "\n",
    "$${\\cal F}=\\{\\emptyset, \\{H\\}, \\{T\\}, \\{H,T\\}\\}$$\n",
    "\n",
    "는 단지 그냥 시그마필드라고 주장하기 보다 $\\Omega=\\{H,T\\}$에 대한 시그마필드라고 해야 정확한 표현이다. "
   ]
  },
  {
   "cell_type": "markdown",
   "id": "3d7a9b79",
   "metadata": {
    "id": "3d7a9b79"
   },
   "source": [
    "`-` 참고3: 참고2에 따라서 ${\\cal F}$ 단독으로 표기하는 것 보다 $\\Omega$를 붙여서 $(\\Omega,{\\cal F})$와 같이 쌍으로 표기하는게 더 합리적이다. 앞으로는 이러한 쌍을 ***measurable space*** 라고 부른다. "
   ]
  }
 ],
 "metadata": {
  "colab": {
   "provenance": []
  },
  "kernelspec": {
   "display_name": "Python 3 (ipykernel)",
   "language": "python",
   "name": "python3"
  },
  "language_info": {
   "codemirror_mode": {
    "name": "ipython",
    "version": 3
   },
   "file_extension": ".py",
   "mimetype": "text/x-python",
   "name": "python",
   "nbconvert_exporter": "python",
   "pygments_lexer": "ipython3",
   "version": "3.8.16"
  }
 },
 "nbformat": 4,
 "nbformat_minor": 5
}
