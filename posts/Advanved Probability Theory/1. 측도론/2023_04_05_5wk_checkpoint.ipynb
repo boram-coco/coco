{
 "cells": [
  {
   "cell_type": "raw",
   "id": "b6fc7968-cc29-4724-89af-e4fe56ffba40",
   "metadata": {
    "id": "b6fc7968-cc29-4724-89af-e4fe56ffba40"
   },
   "source": [
    "---\n",
    "title: \"05wk: 측도론 (1)\"\n",
    "author: \"김보람\"\n",
    "date: \"04/10/2023\"\n",
    "---"
   ]
  },
  {
   "cell_type": "markdown",
   "id": "55ccf81f-5fb2-4172-9cc1-b491720703d9",
   "metadata": {
    "id": "eb5417e9-8d8e-4b43-bcab-c179a61311ff"
   },
   "source": [
    "> 해당 강의노트는 전북대학교 최규빈교수님 [AP2023](https://guebin.github.io/AP2023/) 자료임"
   ]
  },
  {
   "cell_type": "markdown",
   "id": "12ed7666-2445-47c8-8abc-ad1df65acbbc",
   "metadata": {
    "id": "12ed7666-2445-47c8-8abc-ad1df65acbbc"
   },
   "source": [
    "# 언젠가 필요할까?"
   ]
  },
  {
   "cell_type": "markdown",
   "id": "1ca80204-cc88-4935-a2d5-46973e606c74",
   "metadata": {
    "id": "1ca80204-cc88-4935-a2d5-46973e606c74"
   },
   "source": [
    "`-` 이론: $|x|<\\epsilon, ~\\forall \\epsilon>0 ~\\Leftrightarrow x=0$"
   ]
  },
  {
   "cell_type": "markdown",
   "id": "785d9459-352f-4b7f-811f-b44a1a5c6714",
   "metadata": {
    "id": "785d9459-352f-4b7f-811f-b44a1a5c6714"
   },
   "source": [
    "(증명) "
   ]
  },
  {
   "cell_type": "markdown",
   "id": "3294cca9-d04c-454d-a5a2-cb19490256a0",
   "metadata": {
    "id": "3294cca9-d04c-454d-a5a2-cb19490256a0"
   },
   "source": [
    "\"$\\Leftarrow$\" 자명함. "
   ]
  },
  {
   "cell_type": "markdown",
   "id": "283e9a69-2e4e-4221-8b14-7bbf0f1fbf34",
   "metadata": {
    "id": "283e9a69-2e4e-4221-8b14-7bbf0f1fbf34"
   },
   "source": [
    "\"$\\Rightarrow$\""
   ]
  },
  {
   "cell_type": "markdown",
   "id": "5b31a76a-a5a3-4a71-b2d4-336f789d4ee0",
   "metadata": {},
   "source": [
    "$\\epsilon$은 굉장히 작은 값.."
   ]
  },
  {
   "cell_type": "markdown",
   "id": "298f2f97-de07-408a-a2b8-2e3a624a78ab",
   "metadata": {
    "id": "298f2f97-de07-408a-a2b8-2e3a624a78ab"
   },
   "source": [
    "**SUPPOSE**: $|x| > 0$  -- 귀류법($|x| \\neq 0$)이면 $|x|>0$을 보이자"
   ]
  },
  {
   "cell_type": "markdown",
   "id": "db99e86e-8531-4245-aa10-2a3ee358a7d3",
   "metadata": {
    "id": "db99e86e-8531-4245-aa10-2a3ee358a7d3"
   },
   "source": [
    "**CHOOSE**: $\\epsilon=\\frac{1}{2}|x|$ \n",
    "\n",
    "$\\Rightarrow$ $0<\\frac{1}{2}|x|<|x|$\n",
    "\n",
    "$\\Rightarrow$ $0<\\epsilon<|x|$\n",
    "\n",
    "$\\Rightarrow$ 모순(맨위의 이론)"
   ]
  },
  {
   "cell_type": "markdown",
   "id": "7c89e341-1dc5-4e3c-af6c-dc6c2b2f8dc6",
   "metadata": {
    "id": "7c89e341-1dc5-4e3c-af6c-dc6c2b2f8dc6"
   },
   "source": [
    "`-` 이론: $|x| < \\frac{1}{n},~ \\forall n \\in \\mathbb{N} ~ \\Leftrightarrow ~x=0$"
   ]
  },
  {
   "cell_type": "markdown",
   "id": "9fbe5b9a-a7ca-4fa9-aff5-778d51f7dc60",
   "metadata": {
    "id": "9fbe5b9a-a7ca-4fa9-aff5-778d51f7dc60"
   },
   "source": [
    "(증명) "
   ]
  },
  {
   "cell_type": "markdown",
   "id": "1eee8561-88c1-4311-b880-a917975a92b5",
   "metadata": {
    "id": "1eee8561-88c1-4311-b880-a917975a92b5"
   },
   "source": [
    "\"$\\Leftarrow$\" 자명함. "
   ]
  },
  {
   "cell_type": "markdown",
   "id": "ba4ee7d8-5f49-476a-8b48-9e022f5eb7eb",
   "metadata": {
    "id": "ba4ee7d8-5f49-476a-8b48-9e022f5eb7eb"
   },
   "source": [
    "\"$\\Rightarrow$\""
   ]
  },
  {
   "cell_type": "markdown",
   "id": "825072b5-dc1e-4b24-9cb7-8d8dbfe03804",
   "metadata": {
    "id": "825072b5-dc1e-4b24-9cb7-8d8dbfe03804"
   },
   "source": [
    "**SUPPOSE**: $|x| > 0$  -- 귀류법"
   ]
  },
  {
   "cell_type": "markdown",
   "id": "c46ab16e-1360-48c8-a222-459fb3354a48",
   "metadata": {
    "id": "c46ab16e-1360-48c8-a222-459fb3354a48"
   },
   "source": [
    "**CHOOSE**: $\\epsilon=\\frac{1}{2}|x|$ \n",
    "\n",
    "$\\Rightarrow$ $0<\\epsilon<|x|$ \n",
    "\n",
    "$\\Rightarrow$ $\\exists n: ~0<\\frac{1}{n}<\\epsilon<|x|$ ($\\because$ 아르키메데스의 성질) \n",
    "\n",
    "$\\Rightarrow$ 모순"
   ]
  },
  {
   "cell_type": "markdown",
   "id": "36326cdf-3f73-4244-bcef-1285888f10fe",
   "metadata": {
    "id": "36326cdf-3f73-4244-bcef-1285888f10fe"
   },
   "source": [
    "# 수학과의 표현"
   ]
  },
  {
   "cell_type": "markdown",
   "id": "bb121515-2601-4265-a5bc-45e18e43a2bd",
   "metadata": {
    "id": "bb121515-2601-4265-a5bc-45e18e43a2bd"
   },
   "source": [
    "## 수학과의 기호 "
   ]
  },
  {
   "cell_type": "markdown",
   "id": "bf3eccc5-f145-471e-ac8d-28775d180dd6",
   "metadata": {
    "id": "bf3eccc5-f145-471e-ac8d-28775d180dd6"
   },
   "source": [
    "`-` 아래는 기호는 몇 가지 영어단어의 축약형이다. \n",
    "\n",
    "- for all: $\\forall$ \n",
    "- exists: $\\exists$ \n",
    "- such that, satisfying: ${\\sf s.t.}$, ${\\sf st}$\n",
    "- if-then, implies, therefore: $\\Rightarrow$ \n",
    "- if and only if: $\\Leftrightarrow$ \n",
    "- because: $\\because$\n",
    "- therefore: $\\therefore$ \n",
    "- quod erat: $\\square$, $\\blacksquare$ 교재에서 증명이 끝낫을 때"
   ]
  },
  {
   "cell_type": "markdown",
   "id": "344e907e-8e92-45ac-9c23-fb755982efa9",
   "metadata": {
    "id": "344e907e-8e92-45ac-9c23-fb755982efa9"
   },
   "source": [
    "`-` 예시1: 모든 실수 $x$에 대하여, $x^2$은 양수이다. \n",
    "\n",
    "**언어** \n",
    "\n",
    "- for any $x$ in $\\mathbb{R}$, $x^2 \\geq 0$. \n",
    "- for arbitrary $x \\in \\mathbb{R}$, $x^2 \\geq 0$. \n",
    "- for any choice of $x \\in \\mathbb{R}$, $x^2 \\geq 0$. \n",
    "- for all $x \\in \\mathbb{R}$, $x^2 \\geq 0$. \n",
    "- if $x \\in \\mathbb{R}$, then $x^2 \\geq 0$. \n",
    "\n",
    "**기호** \n",
    "\n",
    "- $\\forall x \\in \\mathbb{R}$: $x^2\\geq 0$. \n",
    "- $\\forall x \\in \\mathbb{R}$, $x^2\\geq 0$. \n",
    "- $x^2 \\geq 0$, for all $x \\in \\mathbb{R}$. \n",
    "- $x^2 \\geq 0$, $\\forall x \\in \\mathbb{R}$. \n",
    "- $x \\in \\mathbb{R} \\Rightarrow x^2 \\geq 0$. "
   ]
  },
  {
   "cell_type": "markdown",
   "id": "7737fb75-f0c5-42e3-8c6d-3fad18355560",
   "metadata": {
    "id": "7737fb75-f0c5-42e3-8c6d-3fad18355560"
   },
   "source": [
    "> 거의 쓰는 사람 마음임, 그런데 뉘앙스가 조금씩 다름. "
   ]
  },
  {
   "cell_type": "markdown",
   "id": "a207e58d-3839-4a1f-bf92-c73f8822559b",
   "metadata": {
    "id": "a207e58d-3839-4a1f-bf92-c73f8822559b"
   },
   "source": [
    "`-` 예시2: $\\Omega$의 임의의 부분집합 $A$,$B$에 대하여, $A=B$ 일 필요충분조건은 $A\\subset B$ 이고 $B \\subset A$ 이어야 한다. \n",
    "\n",
    "**언어**\n",
    "\n",
    "- for all $A,B \\subset \\Omega$, $A=B$ if and only if (1) $A \\subset B$ and (2) $B \\subset A$. \n",
    "\n",
    "**기호**\n",
    "\n",
    "- $A = B \\Leftrightarrow A \\subset B \\text{ and } B \\subset A, \\forall A,B \\subset \\Omega$. \n",
    "- $A = B \\Leftrightarrow \\big(A \\subset B \\text{ and } B \\subset A\\big), \\forall A,B \\subset \\Omega$. 좀 더 명확하게 쓰기 위해서 가로 \n",
    "- $\\forall A,B \\subset \\Omega$: $A = B \\Leftrightarrow \\big(A \\subset B \\text{ and } B \\subset A\\big)$"
   ]
  },
  {
   "cell_type": "markdown",
   "id": "3a224d89-50ad-498a-a3f5-643febf1ccc3",
   "metadata": {
    "id": "3a224d89-50ad-498a-a3f5-643febf1ccc3"
   },
   "source": [
    "> 의미가 때로는 모호할때가 있지만 눈치껏 알아먹어야 한다. "
   ]
  },
  {
   "cell_type": "markdown",
   "id": "cf1da874-10e6-4b00-b485-d2451ca59d61",
   "metadata": {
    "id": "cf1da874-10e6-4b00-b485-d2451ca59d61"
   },
   "source": [
    "`-` 예시3: 임의의 양수 $\\epsilon>0$에 대하여 $|x| \\leq \\epsilon$이라면 $x=0$일 수 밖에 없다. "
   ]
  },
  {
   "cell_type": "markdown",
   "id": "db3b7880-9666-4a79-98e1-401f78ccc4e3",
   "metadata": {
    "id": "db3b7880-9666-4a79-98e1-401f78ccc4e3"
   },
   "source": [
    "**언어** "
   ]
  },
  {
   "cell_type": "markdown",
   "id": "f2dc8c68-3e28-4809-b719-09b2ba5fabbe",
   "metadata": {
    "id": "f2dc8c68-3e28-4809-b719-09b2ba5fabbe"
   },
   "source": [
    "- If $|x|< \\epsilon$ for all $\\epsilon>0$, then $x=0$. \n",
    "- If $|x|< \\epsilon$, $\\forall \\epsilon>0$, then $x=0$.\n",
    "- For all $\\epsilon>0$, $|x|< \\epsilon$ implies $x=0$. -- 틀린표현"
   ]
  },
  {
   "cell_type": "markdown",
   "id": "26940c99-5ee8-4dd4-969c-518e74418e17",
   "metadata": {
    "id": "26940c99-5ee8-4dd4-969c-518e74418e17"
   },
   "source": [
    "**기호**\n",
    "\n",
    "- $|x| < \\epsilon,~ \\forall \\epsilon>0 \\Rightarrow x=0$\n",
    "- $\\forall \\epsilon>0: |x| < \\epsilon \\Rightarrow x=0$ -- 애매하다?\n",
    "- $\\big(\\forall \\epsilon>0:|x| < \\epsilon\\big) \\Rightarrow x=0$\n",
    "- $\\big(\\forall \\epsilon>0\\big)\\big(|x| < \\epsilon \\Rightarrow x=0\\big)$ -- 틀린표현\n"
   ]
  },
  {
   "cell_type": "markdown",
   "id": "acf63036-3aad-4dbf-8210-8f07c711633a",
   "metadata": {
    "id": "acf63036-3aad-4dbf-8210-8f07c711633a"
   },
   "source": [
    "## 기타 약어 및 상투적인 표현 "
   ]
  },
  {
   "cell_type": "markdown",
   "id": "2e3decd8-1d20-4c43-978f-a27008b2b9f5",
   "metadata": {
    "id": "2e3decd8-1d20-4c43-978f-a27008b2b9f5"
   },
   "source": [
    "`-` **약어** \n",
    "\n",
    "- ${\\sf WLOG}$: Without Loss Of Generality \n",
    "- ${\\sf WTS}$: What/Want To Show\n",
    "- ${\\sf iff}$: if and only if \n",
    "- ${\\sf Q.E.D.}$: 증명완료 (쓰지마..) \n",
    "- ${\\sf LHS}$: Left Hand Side\n",
    "- ${\\sf RHS}$: Right Hand Side"
   ]
  },
  {
   "cell_type": "markdown",
   "id": "002bf0bc-569c-47af-a138-0cc06f8d3b33",
   "metadata": {
    "id": "002bf0bc-569c-47af-a138-0cc06f8d3b33"
   },
   "source": [
    "`-` 상투적인 표현 \n",
    "\n",
    "- It suffices to show that, It is sufficient to show that \n",
    "\n",
    "- that이하의 내용을 보이면 증명이 끝난다"
   ]
  },
  {
   "cell_type": "markdown",
   "id": "2b224151-1e12-4cac-8cd7-3e1c4778b151",
   "metadata": {
    "id": "2b224151-1e12-4cac-8cd7-3e1c4778b151"
   },
   "source": [
    "# Classes of sets"
   ]
  },
  {
   "cell_type": "markdown",
   "id": "f1d8970d-5249-4fd0-bd2d-c0c7e0b042e3",
   "metadata": {
    "id": "f1d8970d-5249-4fd0-bd2d-c0c7e0b042e3"
   },
   "source": [
    "## Before "
   ]
  },
  {
   "cell_type": "markdown",
   "id": "08b2eaca-c2e9-4179-8e17-bca1c529f760",
   "metadata": {
    "id": "08b2eaca-c2e9-4179-8e17-bca1c529f760"
   },
   "source": [
    "`-` 아래의 기호를 약속\n",
    "\n",
    "- 전체집합: $\\Omega$\n",
    "- 관심있는 집합의 모임: ${\\cal A} \\subset 2^{\\Omega}$"
   ]
  },
  {
   "cell_type": "markdown",
   "id": "c7827b5f-2e4a-4ce7-8a93-72967cadd494",
   "metadata": {
    "id": "c7827b5f-2e4a-4ce7-8a93-72967cadd494"
   },
   "source": [
    "`-` $\\Omega \\neq \\emptyset$, ${\\cal A} \\neq \\emptyset$ 를 가정. "
   ]
  },
  {
   "cell_type": "markdown",
   "id": "99cb5b42-f1ec-416f-ada0-c8e7f9a9d734",
   "metadata": {
    "id": "99cb5b42-f1ec-416f-ada0-c8e7f9a9d734"
   },
   "source": [
    "`-` 약속: 집합 ${\\cal A} \\subset 2^{\\Omega}$에 대하여 아래와 같은 용어를 약속하자. \n",
    "\n",
    "- $\\cap$-closed (closed under intersection) or a **$\\pi$-system**: $\\forall A,B \\in {\\cal A}:~ A \\cap B \\in {\\cal A}$\n",
    "- $\\sigma$-$\\cap$-closed (closed under countable interserction): $\\forall \\{A_i\\}_{i=1}^{\\infty} \\subset {\\cal A}:~ \\cap_{i=1}^{\\infty} A_i \\in {\\cal A}$\n",
    "- $\\cup$-closed (closed under unions): $\\forall A,B \\in {\\cal A}:~  A\\cup B \\in {\\cal A}$\n",
    "- $\\sigma$-$\\cup$-closed (closed under countable unois): $\\forall \\{A_i\\}_{i=1}^{\\infty} \\subset {\\cal A}:~ \\cup_{i=1}^{\\infty}A_i \\in {\\cal A}$\n",
    "- ＼-closed (closed under differences): $\\forall A,B \\in {\\cal A}:~ A-B \\in {\\cal A}$\n",
    "- $^c$-closed (closed under complements): $\\forall A \\in {\\cal A}:~ A^c \\in {\\cal A}$"
   ]
  },
  {
   "cell_type": "markdown",
   "id": "a06b70b4-a42b-4007-8050-71e76d660401",
   "metadata": {
    "id": "a06b70b4-a42b-4007-8050-71e76d660401"
   },
   "source": [
    "`-` 우리만의 약속: \n",
    "\n",
    "- 앞으로 서로소인 집합들에 대한 합집합은 기호로 $\\uplus$라고 표현하겠다. \n",
    "- 따라서 앞으로 $B_1 \\uplus B_2$의 의미는 (1) $B_1 \\cup B_2$ (2) $B_1 \\cap B_2 = \\emptyset$ 을 의미한다고 정의하겠다. (꼭 서로소임을 명시하지 않아도) \n",
    "- $\\sigma$-$\\uplus$-closed 의 의미는 $\\uplus_{i=1}^{\\infty}B_i \\in {\\cal A}, \\forall \\{B_i\\}_{i=1}^{\\infty} \\subset {\\cal A}:$ 의 의미이다. "
   ]
  },
  {
   "cell_type": "markdown",
   "id": "16c970a1-c626-42e0-9758-8fa1ec27a615",
   "metadata": {
    "id": "16c970a1-c626-42e0-9758-8fa1ec27a615"
   },
   "source": [
    "`-` 이론: ${\\cal A}\\subset 2^{\\Omega}$ 가 여집합에 닫혀있다면, 아래가 성립한다. \n",
    "\n",
    "- ${\\cal A}$가 교집합^[finite]에 닫혀있음. $\\Leftrightarrow$ ${\\cal A}$가 합집합^[finite]에 닫혀있음. \n",
    "- ${\\cal A}$가 가산교집합^[countable infinite]에 닫혀있음. $\\Leftrightarrow$ ${\\cal A}$가 가산합집합^[countable infite]에 닫혀있음. "
   ]
  },
  {
   "cell_type": "markdown",
   "id": "6626b16f-0873-4f4e-9f43-432682d23cd6",
   "metadata": {
    "id": "6626b16f-0873-4f4e-9f43-432682d23cd6"
   },
   "source": [
    "(증명) 생략 "
   ]
  },
  {
   "cell_type": "markdown",
   "id": "b93e9521-1194-44d1-bdb5-4cd34e1176aa",
   "metadata": {
    "id": "b93e9521-1194-44d1-bdb5-4cd34e1176aa"
   },
   "source": [
    "`-` 이론: ${\\cal A}\\subset 2^{\\Omega}$가 차집합에 닫혀있다면, 아래가 성립한다. \n",
    "\n",
    "- ${\\cal A}$는 교집합에 닫혀있다. \n",
    "- ${\\cal A}$가 가산합집합에 닫혀있다. $\\Rightarrow$ ${\\cal A}$가 가산교집합에 닫혀있다. \n",
    "- $\\forall \\{A_i\\} \\subset {\\cal A},~ \\exists \\{B_i\\} \\subset {\\cal A}$ such that $\\cup_{i=1}^{\\infty} A_i = \\uplus_{i=1}^{\\infty} B_i$.^[이건 차집합에 반쯤 닫혀있어도 성립함]"
   ]
  },
  {
   "cell_type": "markdown",
   "id": "79a97c6b-c1dc-44e1-93e9-ec0aaef7c7ba",
   "metadata": {
    "id": "79a97c6b-c1dc-44e1-93e9-ec0aaef7c7ba"
   },
   "source": [
    "(증명) \n",
    "\n",
    "- Note: $A\\cap B = A-(A-B)$.\n",
    "- Note: $\\cap_{i=1}^{\\infty}A_i = \\cap_{i=2}^{n}(A_1\\cap A_i)= \\cap_{i=2}^{n}(A_1 - (A_1-A_i))=A_1 - \\cup_{i=2}^{n}(A_1-A_i)$.\n",
    "- Note: $\\cup_{i=1}^{\\infty}A_i = A_1 \\uplus(A_2-A_1) \\uplus \\big((A_3-A_1) - A_2 \\big) \\uplus \\big(\\big((A_4-A_1)-A_2\\big)-A_3\\big)\\uplus \\cdots$ "
   ]
  },
  {
   "cell_type": "markdown",
   "id": "e416cc9d-f63f-4e82-954a-de64b5cc7dad",
   "metadata": {
    "id": "e416cc9d-f63f-4e82-954a-de64b5cc7dad"
   },
   "source": [
    "> 차집합에 닫혀있다는 것은 매우 좋은 성질임. "
   ]
  },
  {
   "cell_type": "markdown",
   "id": "e5a3c8a1-b731-4ed6-9921-f9e9e80956cf",
   "metadata": {
    "id": "e5a3c8a1-b731-4ed6-9921-f9e9e80956cf"
   },
   "source": [
    "## 시그마필드 ($\\star\\star\\star$)"
   ]
  },
  {
   "cell_type": "markdown",
   "id": "d73b8acb-1d0e-4702-92bb-2eaf3c8f6fe8",
   "metadata": {
    "id": "d73b8acb-1d0e-4702-92bb-2eaf3c8f6fe8"
   },
   "source": [
    "`-` **<U>정의</U>**: 시그마필드 ($\\sigma$-field, $\\sigma$-algebra) \n",
    "\n",
    "집합 ${\\cal F} \\subset 2^{\\Omega}$가 아래의 조건을 만족하면 ${\\cal F}$를 $\\Omega$에 대한 시그마필드라고 부른다. \n",
    "\n",
    "1. $\\Omega \\in {\\cal F}$.\n",
    "2. ${\\cal F}$는 여집합에 닫혀있다. \n",
    "3. ${\\cal F}$는 가산합집합에 닫혀있다. \n"
   ]
  },
  {
   "cell_type": "markdown",
   "id": "0fb01261-d1e1-4268-99fe-e17ca1f60bee",
   "metadata": {
    "id": "0fb01261-d1e1-4268-99fe-e17ca1f60bee"
   },
   "source": [
    "`-` 시그마필드의 정의에서 1을 생략하기도 한다. 이럴 경우는 특별히 ${\\cal F}\\neq\\emptyset$임을 강조한다. 1을 생략할 수 있는 논리는 아래와 같다. \n",
    "\n",
    "- ${\\cal F}$는 공집합이 아니므로 최소한 하나의 집합 $A$는 포함해야 한다. 즉 $A \\in {\\cal F}$. \n",
    "- 2번 원리에 의하여 $A^c \\in {\\cal F}$. \n",
    "- 시그마필드는 합집합에 닫혀있으므로 $A\\cup A^c \\in {\\cal F}$. "
   ]
  },
  {
   "cell_type": "markdown",
   "id": "83c3e5f2-403b-483b-9768-d1d399b6a2bf",
   "metadata": {
    "id": "83c3e5f2-403b-483b-9768-d1d399b6a2bf"
   },
   "source": [
    "## 알지브라, 필드 ($\\star$)"
   ]
  },
  {
   "cell_type": "markdown",
   "id": "92469404-db78-47b0-bc9c-b0dd7f11bfbf",
   "metadata": {
    "id": "92469404-db78-47b0-bc9c-b0dd7f11bfbf"
   },
   "source": [
    "`-` **<U>정의1</U>:** 알지브라, 필드 (algebra, field)\n",
    "\n",
    "집합 ${\\cal A}\\subset 2^{\\Omega}$가 아래의 조건을 만족하면 ${\\cal A}$를 $\\Omega$에 대한 대수라고 부른다. \n",
    "\n",
    "1. $\\Omega \\in {\\cal A}$.\n",
    "2. ${\\cal A}$는 차집합에 닫혀있다. \n",
    "3. ${\\cal A}$는 합집합에 닫혀있다. "
   ]
  },
  {
   "cell_type": "markdown",
   "id": "7bcc7b3c-b3fc-4b2a-be92-088bb8b60d45",
   "metadata": {
    "id": "7bcc7b3c-b3fc-4b2a-be92-088bb8b60d45"
   },
   "source": [
    "`-` 알지브라 역시 1의 조건을 생략하기도 한다. "
   ]
  },
  {
   "cell_type": "markdown",
   "id": "bec10a2f-56c8-4921-b161-6d2f49243147",
   "metadata": {
    "id": "bec10a2f-56c8-4921-b161-6d2f49243147"
   },
   "source": [
    "`-` 전체집합을 포함 $\\Rightarrow$ (차집합에 닫혀있음 $\\Rightarrow$ 여집합에 닫혀있음) $\\Rightarrow$ 따라서 대수는 여집합에 닫혀있다. "
   ]
  },
  {
   "cell_type": "markdown",
   "id": "c0adf2a4-3499-4a4a-acb0-7786e3afce30",
   "metadata": {
    "id": "c0adf2a4-3499-4a4a-acb0-7786e3afce30"
   },
   "source": [
    "`-` 차집합에 닫혀있음 $\\Rightarrow$ 교집합에 닫혀있게 된다. \n",
    "\n",
    "- 혹은 (여집합에 닫혀있음 \\& 합집합에 닫혀있음) $\\Rightarrow$ 교집합에 닫혀있음. "
   ]
  },
  {
   "cell_type": "markdown",
   "id": "e0e18fa1-b90f-4b2b-b0d8-1aa3143731b8",
   "metadata": {
    "id": "e0e18fa1-b90f-4b2b-b0d8-1aa3143731b8"
   },
   "source": [
    "`-` **<U>정의2</U>:** 알지브라의 또 다른 정의\n",
    "\n",
    "집합 ${\\cal A}\\subset 2^{\\Omega}$가 아래의 조건을 만족하면 ${\\cal A}$를 $\\Omega$에 대한 대수라고 부른다. \n",
    "\n",
    "1. $\\Omega \\in {\\cal A}$.\n",
    "2. ${\\cal A}$는 교집합에 닫혀있다. \n",
    "3. ${\\cal A}$는 여집합에 닫혀있다. \n"
   ]
  },
  {
   "cell_type": "markdown",
   "id": "280db750-b642-44fa-b185-f28ab06e0f11",
   "metadata": {
    "id": "280db750-b642-44fa-b185-f28ab06e0f11"
   },
   "source": [
    "`-` 여집합에 닫혀있음 $\\Rightarrow$ (합집합에 닫혀있음 $\\Rightarrow$ 교집합에 닫혀있음) $\\Rightarrow$ 2번 조건을 합집합으로 바꿔도 무방 "
   ]
  },
  {
   "cell_type": "markdown",
   "id": "8f6beae0-7d2c-4a0e-9355-c1a371f5cafd",
   "metadata": {
    "id": "280db750-b642-44fa-b185-f28ab06e0f11"
   },
   "source": [
    "`-` 여집합에 닫혀있음 $\\Rightarrow$ (합집합에 닫혀있음 $\\Leftrightarrow$ 교집합에 닫혀있음) $\\Rightarrow$ 2번 조건을 합집합으로 바꿔도 무방  (이예제에서는)"
   ]
  },
  {
   "cell_type": "markdown",
   "id": "6938eca8-6cb6-4507-b444-1183620b1c17",
   "metadata": {
    "id": "6938eca8-6cb6-4507-b444-1183620b1c17"
   },
   "source": [
    "`-` **<U>정의3</U>:** 알지브라의 또 또 다른 정의 (교재의 정의)\n",
    "\n",
    "집합 ${\\cal A}\\subset 2^{\\Omega}$가 아래의 조건을 만족하면 ${\\cal A}$를 $\\Omega$에 대한 대수라고 부른다. \n",
    "\n",
    "1. $\\Omega \\in {\\cal A}$.\n",
    "2. ${\\cal A}$는 여집합에 닫혀있다. \n",
    "3. ${\\cal A}$는 합집합에 닫혀있다. \n",
    "\n"
   ]
  },
  {
   "cell_type": "markdown",
   "id": "1ebc388a-9650-4cb6-8141-e2e40f909095",
   "metadata": {},
   "source": [
    "드모르간의 법칙으로 정의2랑 정의3이 동치인 것을 확인할 수 있음"
   ]
  },
  {
   "cell_type": "markdown",
   "id": "813bd688-c797-4086-8e53-7ba8c6f0cd30",
   "metadata": {
    "id": "813bd688-c797-4086-8e53-7ba8c6f0cd30"
   },
   "source": [
    "`-` 알지브라의 예시\n",
    "\n",
    "- $\\Omega = \\{H,T\\}$, ${\\cal A} = 2^\\Omega$ 일때, ${\\cal A}$는 알지브라이다. ($|\\Omega| <\\infty$ 이라면 \"시그마필드 = 알지브라(필드)\" 이다.) "
   ]
  },
  {
   "cell_type": "markdown",
   "id": "daf891d7-8048-468f-b535-ffa017099277",
   "metadata": {
    "id": "daf891d7-8048-468f-b535-ffa017099277"
   },
   "source": [
    "## 링"
   ]
  },
  {
   "cell_type": "markdown",
   "id": "e4e9942f-8df0-4c59-8d54-99fe91db4d38",
   "metadata": {
    "id": "e4e9942f-8df0-4c59-8d54-99fe91db4d38"
   },
   "source": [
    "`-` **<U>정의</U>:** 링 (ring)\n",
    "\n",
    "집합 ${\\cal A}\\subset 2^{\\Omega}$가 아래의 조건을 만족하면 ${\\cal A}$를 $\\Omega$에 대한 링이라고 부른다. \n",
    "\n",
    "1. $\\emptyset \\in {\\cal A}$.\n",
    "2. ${\\cal A}$는 차집합에 닫혀있다.\n",
    "3. ${\\cal A}$는 합집합에 닫혀있다. "
   ]
  },
  {
   "cell_type": "markdown",
   "id": "f9916469-7d25-4fc1-98c0-3fda7a6457c3",
   "metadata": {
    "id": "f9916469-7d25-4fc1-98c0-3fda7a6457c3"
   },
   "source": [
    "`-` 여기에서 1의 조건을 생략할 수 있다. (이럴경우 특별히 ${\\cal A}\\neq \\emptyset$ 임을 강조한다.) \n",
    "\n",
    "- ${\\cal A}$는 공집합이 아니므로 최소한 하나의 원소 $A$는 가져야 한다.  \n",
    "- 조건2에 의하여 $A-A$ 역시 ${\\cal A}$의 원소이다. "
   ]
  },
  {
   "cell_type": "markdown",
   "id": "a59da7da-fb88-49a8-ac49-874e33e9e460",
   "metadata": {
    "id": "a59da7da-fb88-49a8-ac49-874e33e9e460"
   },
   "source": [
    "`-` 링은 차집합에 닫혀있음 $\\Rightarrow$ 링은 교집합에도 닫혀있음 $\\Rightarrow$ 링은 교집합과 합집합 모두에 닫혀 있다. "
   ]
  },
  {
   "cell_type": "markdown",
   "id": "f940226d-6b05-4228-bfbd-e6b1a3746a66",
   "metadata": {
    "id": "f940226d-6b05-4228-bfbd-e6b1a3746a66"
   },
   "source": [
    "`-` 링과 알지브라의 차이는 전체집합이 포함되느냐 마느냐임 $\\Rightarrow$ 그런데 이 차이로 인해 알지브라는 여집합에 닫혀있지만 링은 여집합에 닫혀있지 않게 된다. "
   ]
  },
  {
   "cell_type": "markdown",
   "id": "f8b9d774-688d-4f88-8b08-4ff2fad57ad2",
   "metadata": {
    "id": "f8b9d774-688d-4f88-8b08-4ff2fad57ad2"
   },
   "source": [
    "## 시그마링"
   ]
  },
  {
   "cell_type": "markdown",
   "id": "3288495e-7ccf-4a6e-a74e-69cf1caffcd5",
   "metadata": {
    "id": "3288495e-7ccf-4a6e-a74e-69cf1caffcd5"
   },
   "source": [
    "`-` **<U>정의</U>:** 시그마링 ($\\sigma$-ring)\n",
    "\n",
    "집합 ${\\cal A}\\subset 2^{\\Omega}$가 아래의 조건을 만족하면 ${\\cal A}$를 $\\Omega$에 대한 링이라고 부른다. \n",
    "\n",
    "1. $\\emptyset \\in {\\cal A}$.\n",
    "2. ${\\cal A}$는 차집합에 닫혀있다.\n",
    "3. ${\\cal A}$는 가산합집합에 닫혀있다. "
   ]
  },
  {
   "cell_type": "markdown",
   "id": "20499ed4-78ec-4369-ad01-96022062a717",
   "metadata": {
    "id": "20499ed4-78ec-4369-ad01-96022062a717"
   },
   "source": [
    "`-` 여기에서 1의 조건을 생략할 수 있다. "
   ]
  },
  {
   "cell_type": "markdown",
   "id": "61fe961e-aa37-4558-95b9-22bdc25a4a2a",
   "metadata": {
    "id": "61fe961e-aa37-4558-95b9-22bdc25a4a2a"
   },
   "source": [
    "## 세미알지브라 ($\\star\\star\\star$)"
   ]
  },
  {
   "cell_type": "markdown",
   "id": "55fcf690-ceb4-4128-92a3-1a92e09b787d",
   "metadata": {
    "id": "55fcf690-ceb4-4128-92a3-1a92e09b787d"
   },
   "source": [
    "`-` **<U>정의1</U>:** 세미알지브라 (semi-algebra) // ref : [위키북스](https://en.wikibooks.org/wiki/Measure_Theory/Basic_Structures_And_Definitions/Semialgebras,_Algebras_and_%CF%83-algebras)\n",
    "\n",
    "집합 ${\\cal A}\\subset 2^{\\Omega}$가 아래의 조건을 만족하면 ${\\cal A}$를 $\\Omega$에 대한 세미알지브라 라고 부른다. \n",
    "\n",
    "1. $\\Omega \\in {\\cal A}$.\n",
    "2. ${\\cal A}$는 교집합에 닫혀있다. \n",
    "3. $\\forall A,B \\in {\\cal A}, \\exists \\{B_i\\}_{i=1}^{n} \\subset {\\cal A}$ such that $$A-B = \\uplus_{i=1}^{n} B_i.$$"
   ]
  },
  {
   "cell_type": "markdown",
   "id": "cd3f51af-6464-4c12-8efc-b507210e4bf7",
   "metadata": {
    "id": "cd3f51af-6464-4c12-8efc-b507210e4bf7"
   },
   "source": [
    "> 3번을 ${\\cal A}$가 차집합에 반쯤 닫혀있다고 표현한다. 즉 차집합 자체가 ${\\cal A}$에 들어가는건 아니지만 차집합의 disjoint한 조각들은 모두 ${\\cal A}$에 들어간다. "
   ]
  },
  {
   "cell_type": "markdown",
   "id": "53c7a149-44e3-46c4-b97d-13954e014962",
   "metadata": {
    "id": "53c7a149-44e3-46c4-b97d-13954e014962"
   },
   "source": [
    "`-` 세미알지브라는 공집합을 포함한다. (이때 ${\\cal A}\\neq \\emptyset$임을 강조함)\n",
    "\n",
    "- ${\\cal A}$는 공집합이 아니므로 최소한 하나의 집합 $A$는 포함해야 한다. 즉 $A \\in {\\cal A}$. \n",
    "- $A \\in {\\cal A}$이면 조건3에 의하여 $\\emptyset$^[$A-A$]을 ${\\cal A}$의 원소들의 countable union으로 만들 수 있어야 한다. 이 조건을 만족하기 위해서는 $\\emptyset \\in {\\cal A}$이어야만 한다. "
   ]
  },
  {
   "cell_type": "markdown",
   "id": "bbbf484f-9bf9-4ddd-8209-3c61ac45fee0",
   "metadata": {
    "id": "bbbf484f-9bf9-4ddd-8209-3c61ac45fee0"
   },
   "source": [
    "`-` **<U>정의2</U>:** 세미알지브라의 또 다른 정의 // ref: [세미링의 위키에서 언급](https://en.wikipedia.org/wiki/Semiring), Durret의 정의.\n",
    "\n",
    "집합 ${\\cal A}\\subset 2^{\\Omega}$가 아래의 조건을 만족하면 ${\\cal A}$를 $\\Omega$에 대한 세미알지브라 라고 부른다. \n",
    "\n",
    "1. $\\Omega \\in {\\cal A}$\n",
    "1. ${\\cal A}$는 교집합에 닫혀있다. \n",
    "2. $\\forall A \\in {\\cal A}, \\exists \\{B_i\\}_{i=1}^{n} \\subset {\\cal A}$ such that $$A^c = \\uplus_{i=1}^{n} B_i.$$\n"
   ]
  },
  {
   "cell_type": "markdown",
   "id": "c7f77f5a-6be9-4213-b04f-c706e412e28f",
   "metadata": {
    "id": "c7f77f5a-6be9-4213-b04f-c706e412e28f"
   },
   "source": [
    "> 3번을 ${\\cal A}$가 여집합에 반쯤 닫혀있다고 표현한다. 즉 여집합 자체가 ${\\cal A}$에 들어가는건 아니지만 차집합의 disjoint한 조각들은 모두 ${\\cal A}$에 들어간다. "
   ]
  },
  {
   "cell_type": "markdown",
   "id": "db17992a-d8fe-46e7-b61a-06fca215372a",
   "metadata": {
    "id": "db17992a-d8fe-46e7-b61a-06fca215372a"
   },
   "source": [
    "`-` 이 정의에서도 세미알지브라는 공집합을 포함한다. (이때 ${\\cal A}\\neq \\emptyset$임을 강조함)\n",
    "\n",
    "- ${\\cal A}$는 공집합이 아니므로 최소한 하나의 집합 $A$는 포함해야 한다. 즉 $A \\in {\\cal A}$. \n",
    "- 3에 의하여 $A^c=\\uplus_{i=1}^{n}B_i$를 만족하는 $B_1,\\dots, B_n$ 역시 ${\\cal A}$에 포함되어야 한다. \n",
    "- 2에 의하여 $A \\cap B_1=\\emptyset$ 역시 ${\\cal A}$에 포함되어야 한다. "
   ]
  },
  {
   "cell_type": "markdown",
   "id": "030b3271-61d4-41a3-9ad2-eac6b7029f77",
   "metadata": {
    "id": "030b3271-61d4-41a3-9ad2-eac6b7029f77"
   },
   "source": [
    "`-` Note: 정의2의 3번조건은 정의1의 3번조건보다 강한 조건이다. (정의2의 조건3 $\\Rightarrow$ 정의1의 조건3) \n",
    "\n",
    "- 증명은 [세미링/위키](https://en.wikipedia.org/wiki/Semiring) 에서 스스로 확인 "
   ]
  },
  {
   "cell_type": "markdown",
   "id": "932a22c6-e2b9-4d5c-937e-71c99236b415",
   "metadata": {
    "id": "932a22c6-e2b9-4d5c-937e-71c99236b415"
   },
   "source": [
    "`-` 교재의 정의: 정의2에서 $\\Omega \\in {\\cal A}$이 생략되어 있음. \n",
    "\n",
    "- 왜 생략할 수 있는지 모르겠음. (교재가 틀렸을 수도 있음) "
   ]
  },
  {
   "cell_type": "markdown",
   "id": "4ac9076b-7d6b-4670-8e02-d4d18aaba533",
   "metadata": {
    "id": "4ac9076b-7d6b-4670-8e02-d4d18aaba533"
   },
   "source": [
    "`-` 세미알지브라의 예시: 아래의 ${\\cal A}$는 모두 $\\Omega$에 대한 세미알지브라이다. \n",
    "\n",
    "- 예시1: $\\Omega=\\{a,b,c,d\\}$, ${\\cal A} = \\{\\emptyset, \\{a\\},\\{b,c,d\\}, \\Omega \\}$\n",
    "- 예시2: $\\Omega=\\{a,b,c,d\\}$, ${\\cal A} = \\{\\emptyset, \\{a\\},\\{b\\},\\{c,d\\}, \\Omega \\}$\n",
    "- 예시3: $\\Omega=\\{a,b,c,d\\}$, ${\\cal A} = \\{\\emptyset, \\{a\\},\\{b,c\\},\\{d\\}, \\Omega \\}$\n",
    "- 예시4: $\\Omega=\\{a,b,c,d\\}$, ${\\cal A} = \\{\\emptyset, \\{a\\},\\{b\\},\\{c\\},\\{d\\}, \\Omega \\}$\n",
    "- 예시5: $\\Omega=\\{a,b,c,d\\}$, ${\\cal A} = \\{\\emptyset, \\{a\\},\\{b\\},\\{c\\},\\{d\\}, \\{a,b\\},\\{b,c\\},\\Omega \\}$"
   ]
  },
  {
   "cell_type": "markdown",
   "id": "9b11ab7d-ba63-4c3b-b3b5-aaa23a2e68e2",
   "metadata": {
    "id": "9b11ab7d-ba63-4c3b-b3b5-aaa23a2e68e2"
   },
   "source": [
    "> 세미알지브라는 전체집합이 몇개의 파티션으로 쪼개져서 원소로 들어가는 느낌이 있음. "
   ]
  },
  {
   "cell_type": "markdown",
   "id": "11ef3c09-e3ba-4ff0-9d6b-8314e4788e7f",
   "metadata": {
    "id": "11ef3c09-e3ba-4ff0-9d6b-8314e4788e7f"
   },
   "source": [
    "`-` 세미알지브라의 예시$(\\star)$: 아래의 ${\\cal A}$는 모두 $\\Omega=\\mathbb{R}$에 대한 세미알지브라이다. \n",
    "\n",
    "- 예시1: ${\\cal A} = \\{(a,b]: -\\infty \\leq a < b \\leq \\infty \\}\\cup \\{\\emptyset\\}$\n",
    "- 예시2: ${\\cal A} = \\{[a,b): -\\infty \\leq a < b \\leq \\infty \\}\\cup \\{\\emptyset\\}$"
   ]
  },
  {
   "cell_type": "markdown",
   "id": "f9b11f1f-bc33-4b08-94d2-a50927442eec",
   "metadata": {
    "id": "f9b11f1f-bc33-4b08-94d2-a50927442eec"
   },
   "source": [
    "`-` 세미알지브라가 아닌 예시: 아래의 ${\\cal A}$는 $\\Omega=\\mathbb{R}$에 대한 세미알지브라가 아니다. \n",
    "\n",
    "- 예시1: ${\\cal A} = \\{(a,b): -\\infty \\leq a < b \\leq \\infty \\}\\cup \\{\\emptyset\\}$\n",
    "\n",
    "$(1,5)-(2,3) = (1,2] \\cup [3,5) \\notin \\cal A$\n",
    "\n",
    "- 예시2: ${\\cal A} = \\{[a,b]: -\\infty \\leq a < b \\leq \\infty \\}\\cup \\{\\emptyset\\}$\n",
    "\n",
    "$[1,5]-[2,3] = [1,2) \\cup (3,5] \\notin \\cal A$"
   ]
  },
  {
   "cell_type": "markdown",
   "id": "23108c2a-9cbe-411b-9d14-f7b36ed773d9",
   "metadata": {
    "id": "23108c2a-9cbe-411b-9d14-f7b36ed773d9"
   },
   "source": [
    "`-` 교재의 언급 (p3)"
   ]
  },
  {
   "cell_type": "markdown",
   "id": "0b8c7ded-3d4a-40d0-9583-b2ce545c3393",
   "metadata": {
    "id": "0b8c7ded-3d4a-40d0-9583-b2ce545c3393"
   },
   "source": [
    "![그림1: 교재에서의 세미알지브라 설명](https://guebin.github.io/AP2023/posts/I.%20Measure%20Theory/2023-04-05-5wk_files/figure-html/0b8c7ded-3d4a-40d0-9583-b2ce545c3393-1-003fb509-9d2e-4940-ae04-b94564848690.png)"
   ]
  },
  {
   "cell_type": "markdown",
   "id": "21e18951-adcf-478a-a319-32817c4dd9f4",
   "metadata": {
    "id": "21e18951-adcf-478a-a319-32817c4dd9f4"
   },
   "source": [
    "## 세미링 $(\\star\\star\\star)$"
   ]
  },
  {
   "cell_type": "markdown",
   "id": "f3a49321-90ee-470f-8b63-1bdc85eda3e2",
   "metadata": {
    "id": "f3a49321-90ee-470f-8b63-1bdc85eda3e2"
   },
   "source": [
    "`-` **<U>정의</U>:** 세미링\n",
    "\n",
    "집합 ${\\cal A}\\subset 2^{\\Omega}$가 아래의 조건을 만족하면 ${\\cal A}$를 $\\Omega$에 대한 세미링이라고 부른다. \n",
    "\n",
    "1. $\\emptyset \\in {\\cal A}$.\n",
    "2. ${\\cal A}$는 교집합에 닫혀있다. \n",
    "3. ${\\cal A}$는 차집합에 반쯤 닫혀있다. "
   ]
  },
  {
   "cell_type": "markdown",
   "id": "a099f45b-2fa2-4339-bbc7-644beffd3b43",
   "metadata": {
    "id": "a099f45b-2fa2-4339-bbc7-644beffd3b43"
   },
   "source": [
    "`-` 세미링에서도 공집합포함 조건을 생략할 수 있다. "
   ]
  },
  {
   "cell_type": "markdown",
   "id": "eb2ef6a5-401d-4b7f-842d-1dda5145a8f2",
   "metadata": {
    "id": "eb2ef6a5-401d-4b7f-842d-1dda5145a8f2"
   },
   "source": [
    "`-` 세미링의 예시: 아래의 ${\\cal A}$는 모두 $\\Omega$에 대한 세미링이다. \n",
    "\n",
    "- 예시1: $\\Omega=\\{a,b,c,d,e,f\\}$, ${\\cal A} = \\{\\emptyset, \\{a\\},\\{b,c,d\\}\\}$\n",
    "- 예시2: $\\Omega=\\{a,b,c,d,e,f\\}$, ${\\cal A} = \\{\\emptyset, \\{a\\},\\{b\\},\\{c,d\\}\\}$\n",
    "- 예시3: $\\Omega=\\{a,b,c,d,e,f\\}$, ${\\cal A} = \\{\\emptyset,\\{a,b,c\\},\\{b,c,d\\}, \\{a\\},\\{b,c\\},\\{d\\}\\}$"
   ]
  },
  {
   "cell_type": "markdown",
   "id": "c8cd0e1a-0f60-42d2-bfc9-0b89dc24ec3d",
   "metadata": {
    "id": "c8cd0e1a-0f60-42d2-bfc9-0b89dc24ec3d"
   },
   "source": [
    "> 전체집합이 포함될 필요가 없는 세미알지브라 느낌임. "
   ]
  },
  {
   "cell_type": "markdown",
   "id": "f638c5d7-8096-49cb-a21f-1a5af801513f",
   "metadata": {
    "id": "f638c5d7-8096-49cb-a21f-1a5af801513f"
   },
   "source": [
    "`-` 세미링의 예시: 아래의 ${\\cal A}$는 모두 $\\Omega=\\mathbb{R}$에 대한 세미링이다. \n",
    "\n",
    "- 예시1: ${\\cal A} = \\{(a,b]: -\\infty < a < b < \\infty \\}\\cup \\{\\emptyset\\}$\n",
    "- 예시2: ${\\cal A} = \\{[a,b): -\\infty < a < b < \\infty \\}\\cup \\{\\emptyset\\}$"
   ]
  },
  {
   "cell_type": "markdown",
   "id": "ae35309a-7c54-47f3-b025-903d1ba3b90e",
   "metadata": {},
   "source": [
    "equal이 빠져있음. a와 b가 +-무한대, 전체집합을 커버할 필요가 없다."
   ]
  },
  {
   "cell_type": "markdown",
   "id": "1a0b8a4f-7fa6-4024-946c-c63d544a7d60",
   "metadata": {
    "id": "1a0b8a4f-7fa6-4024-946c-c63d544a7d60"
   },
   "source": [
    "`-` 세미알지브라가 아닌 예시: 아래의 ${\\cal A}$는 $\\Omega=\\mathbb{R}$에 대한 세미알지브라가 아니다. \n",
    "\n",
    "- 예시1: ${\\cal A} = \\{(a,b): -\\infty < a < b < \\infty \\}\\cup \\{\\emptyset\\}$\n",
    "- 예시2: ${\\cal A} = \\{[a,b]: -\\infty < a < b < \\infty \\}\\cup \\{\\emptyset\\}$"
   ]
  },
  {
   "cell_type": "markdown",
   "id": "704cede0-0b17-4f9e-9053-a0c067bb0a71",
   "metadata": {
    "id": "704cede0-0b17-4f9e-9053-a0c067bb0a71"
   },
   "source": [
    "## 파이시스템 ($\\star\\star$)"
   ]
  },
  {
   "cell_type": "markdown",
   "id": "6fe6e982-aae2-4a0e-94c6-b933baf56b59",
   "metadata": {
    "id": "6fe6e982-aae2-4a0e-94c6-b933baf56b59"
   },
   "source": [
    "`-` **<U>정의</U>:** $\\pi$-system\n",
    "\n",
    "집합 ${\\cal A}\\subset 2^{\\Omega}$가 아래의 조건을 만족하면 ${\\cal A}$를 $\\Omega$에 대한 파이스시템 이라고 부른다. \n",
    "\n",
    "1. ${\\cal A}$는 교집합에 닫혀있다. "
   ]
  },
  {
   "cell_type": "markdown",
   "id": "109146bd-3b8f-4b10-8814-73a6ce9e2c27",
   "metadata": {
    "id": "109146bd-3b8f-4b10-8814-73a6ce9e2c27"
   },
   "source": [
    "`-` 파이시스템임을 강조하기 위해서 ${\\cal A}$ 대신에 ${\\cal P}$ 라고 교재에서 표현하기도 한다. "
   ]
  },
  {
   "cell_type": "markdown",
   "id": "e8841913-5320-49da-a55e-f359c3d866f2",
   "metadata": {
    "id": "e8841913-5320-49da-a55e-f359c3d866f2"
   },
   "source": [
    "`-` 파이시스템의 예시: 아래는 모두 $\\Omega=\\mathbb{R}$에 대한 파이시스템이다. \n",
    "\n",
    "- 예시1: ${\\cal A} = \\{(a,b]: -\\infty < a < b < \\infty \\}$\n",
    "- 예시2: ${\\cal A} = \\{[a,b): -\\infty < a < b < \\infty \\}$\n",
    "- 예시3: ${\\cal A} = \\{(a,b): -\\infty < a < b < \\infty \\}$\n",
    "- 예시4: ${\\cal A} = \\{[a,b]: -\\infty < a < b < \\infty \\}$"
   ]
  },
  {
   "cell_type": "markdown",
   "id": "8991fa22-53ad-4657-9d7a-3fab274977c4",
   "metadata": {
    "id": "8991fa22-53ad-4657-9d7a-3fab274977c4",
    "tags": []
   },
   "source": [
    "## 람다시스템 ($\\star\\star$)"
   ]
  },
  {
   "cell_type": "markdown",
   "id": "1ddb058f-365b-43c5-9893-840284537882",
   "metadata": {
    "id": "1ddb058f-365b-43c5-9893-840284537882"
   },
   "source": [
    "`-` **<U>정의1</U>:** $\\lambda$-system\n",
    "\n",
    "집합 ${\\cal A}\\subset 2^{\\Omega}$가 아래의 조건을 만족하면 ${\\cal A}$를 $\\Omega$에 대한 람다시스템 이라고 부른다. \n",
    "\n",
    "1. $\\Omega \\in {\\cal A}$\n",
    "2. $\\forall A,B \\in {\\cal A}:~ A\\subset B \\Rightarrow B-A \\in {\\cal A}$\n",
    "3. $\\forall B_1,B_2,\\dots \\in {\\cal A}$ such that $B_1,B_2\\dots$ are disjoint: $$\\uplus_{i=1}^{\\infty} B_i \\in {\\cal A}$$"
   ]
  },
  {
   "cell_type": "markdown",
   "id": "179ae090-1dd6-45a6-8f0a-bb1b2dc9bd34",
   "metadata": {
    "id": "179ae090-1dd6-45a6-8f0a-bb1b2dc9bd34"
   },
   "source": [
    "> 람다시스템은 1. 전체집합이 포함되고 2. 두 집합이 포함관계에 있는 경우 차집합에 닫혀있으며 3. 서로소인 가산합집합에 닫혀있다. "
   ]
  },
  {
   "cell_type": "markdown",
   "id": "f40c0b73-5ddf-48e8-8bce-ced51fbf24c5",
   "metadata": {
    "id": "f40c0b73-5ddf-48e8-8bce-ced51fbf24c5"
   },
   "source": [
    "`-` 람다시스템은 여집합에 닫혀있다. 그리고 람다시스템은 공집합을 포함한다. \n",
    "\n",
    "- 1,2번 조함. 2번에서 $B$에 $\\Omega$를 대입해보자"
   ]
  },
  {
   "cell_type": "markdown",
   "id": "3eee2b46-219d-498d-9074-6bc7369331ae",
   "metadata": {
    "id": "3eee2b46-219d-498d-9074-6bc7369331ae"
   },
   "source": [
    "`-` 람다시스템임을 강조하기위해서 ${\\cal A}$ 대신에 ${\\cal L}$ 이라고 교재에서 표현하기도 한다. "
   ]
  },
  {
   "cell_type": "markdown",
   "id": "5dd9bbe3-1489-4629-a953-91b158a4a073",
   "metadata": {
    "id": "5dd9bbe3-1489-4629-a953-91b158a4a073"
   },
   "source": [
    "`-` 람다시스템의 느낌: 3주차 시그마필의 motivation에서 소개한 거의 모든 예제는 사실 람다시스템이다. \n",
    "\n",
    "- 람다시스템의 원칙1,2,3은 사실 확률의 공리와 깊게 관련되어있음. \n",
    "- 내 생각: 딘킨은 확률의 공리에 착안해서 람다시스템을 만들지 않았을까? "
   ]
  },
  {
   "cell_type": "markdown",
   "id": "4d9c01da-b648-43fd-9741-de1ea572f881",
   "metadata": {
    "id": "4d9c01da-b648-43fd-9741-de1ea572f881"
   },
   "source": [
    "`-` 아래는 모두 람다시스템의 예시이다. \n",
    "\n",
    "- $\\Omega=\\{H,T\\}$, ${\\cal L}=\\{\\emptyset, \\{H\\},\\{T\\},\\Omega\\}$ -- 3주차 예제1\n",
    "- $\\Omega=\\{1,2,3,4,5,6\\}$, ${\\cal L}=2^\\Omega$ -- 3주차 예제4\n",
    "- $\\Omega=\\{1,2,3,4,5,6\\}$, ${\\cal L}=\\{\\emptyset,\\{6\\},\\{1,2,3,4,5\\},\\Omega\\}$ -- 3주차 예제5\n",
    "- $\\Omega=\\{1,2,3,4,5,6\\}$, ${\\cal L}=\\{\\emptyset,\\{1,2,3\\},\\{3,4,5\\},\\Omega\\}$ -- 3주차 예제6\n",
    "- $\\Omega=\\{1,2,3,4,5,6\\}$, ${\\cal L}=\\{\\emptyset,\\Omega\\}$ -- 3주차 예제8\n",
    "- $\\Omega=\\{1,2,3,4,5,6\\}$, ${\\cal L}=\\{\\emptyset,\\{1\\}, \\{2\\}, \\{2,3,4\\}, \\{1,3,4\\}, \\{3,4\\}, \\{1,2\\},\\Omega\\}$ -- 3주차 예제9,10 \n",
    "- $\\Omega=(0,2\\pi]$, ${\\cal L}=\\sigma({\\cal A})$ where ${\\cal A} = \\{\\{x\\}: x\\in \\mathbb{Q} \\cap \\Omega \\}$ -- 3주차 예제11\n",
    "- $\\Omega=\\{1,2,3,4\\}$, ${\\cal L}=\\{\\emptyset, \\{1,2\\}, \\{1,3\\}, \\{1,4\\}, \\{2,3\\}, \\{2,4\\}, \\{3,4\\}, \\Omega\\}$ -- 3주차 예제12에서 교집합 안넣은 버전 "
   ]
  },
  {
   "cell_type": "markdown",
   "id": "4e00f4d8-6950-4030-88c4-0a3b962d9be4",
   "metadata": {
    "id": "4e00f4d8-6950-4030-88c4-0a3b962d9be4"
   },
   "source": [
    "`-` **<U>정의2</U>:** $\\lambda$-system (교재의 정의)\n",
    "\n",
    "집합 ${\\cal A}\\subset 2^{\\Omega}$가 아래의 조건을 만족하면 ${\\cal A}$를 $\\Omega$에 대한 람다시스템 이라고 부른다. \n",
    "\n",
    "1. $\\Omega \\in {\\cal A}$\n",
    "2. $\\forall A,B \\in {\\cal A}:~ A\\subset B \\Rightarrow B-A \\in {\\cal A}$\n",
    "3. $\\forall A_1,A_2,\\dots \\in {\\cal A}$ such that $A_1 \\subset A_2 \\subset \\dots$: $$\\cup_{i=1}^{\\infty} A_i \\in {\\cal A}$$"
   ]
  },
  {
   "cell_type": "markdown",
   "id": "4bf89051-9570-4b1f-83c8-791f088b89e5",
   "metadata": {
    "id": "4bf89051-9570-4b1f-83c8-791f088b89e5"
   },
   "source": [
    "`-` Note: 정의1의 3번조건과 정의2의 3번조건은 서로 동치관계이다. "
   ]
  },
  {
   "cell_type": "markdown",
   "id": "06797f31-9677-440e-b54c-d2b7224d88b1",
   "metadata": {
    "id": "06797f31-9677-440e-b54c-d2b7224d88b1"
   },
   "source": [
    "`-` 교재에서의 파이시스템, 람다시스템 설명 "
   ]
  },
  {
   "cell_type": "markdown",
   "id": "e9c00cca-b7a6-4d6b-924d-389ad0758be6",
   "metadata": {
    "id": "e9c00cca-b7a6-4d6b-924d-389ad0758be6"
   },
   "source": [
    "![그림2: 교재에서의 파이시스템과 람다시스템](https://guebin.github.io/AP2023/posts/I.%20Measure%20Theory/2023-04-05-5wk_files/figure-html/e9c00cca-b7a6-4d6b-924d-389ad0758be6-1-5135f65d-640a-4f6e-9775-58145ad1c8f3.png)"
   ]
  },
  {
   "cell_type": "markdown",
   "id": "a9067f1f-dabe-4cff-b4e8-534e33507a22",
   "metadata": {
    "id": "a9067f1f-dabe-4cff-b4e8-534e33507a22"
   },
   "source": [
    "> 위의 정의에서 기호 $A_n \\uparrow A$의 의미는 \"$A_1 \\subset A_2 \\subset \\dots$ and $\\cup_{i}^{\\infty}A_i=A$\"를 뜻하는 축약표현이다. "
   ]
  },
  {
   "cell_type": "markdown",
   "id": "3516df49-97b3-406a-a920-54b5db4a51d5",
   "metadata": {
    "id": "3516df49-97b3-406a-a920-54b5db4a51d5"
   },
   "source": [
    "## 정리"
   ]
  },
  {
   "cell_type": "markdown",
   "id": "a85e5350-46e4-45c7-8740-0090a911574a",
   "metadata": {
    "id": "a85e5350-46e4-45c7-8740-0090a911574a"
   },
   "source": [
    "`-` 정리표 (hw): 물음표를 채워라"
   ]
  },
  {
   "cell_type": "markdown",
   "id": "11ab34f0-5457-49da-a990-2613a263d30a",
   "metadata": {
    "id": "11ab34f0-5457-49da-a990-2613a263d30a"
   },
   "source": [
    "||$A \\cap B$|$\\emptyset$|$A-B$|$\\cup_i\\to\\uplus_i$|$\\Omega$|$A^c$|$A\\cup B$|$\\cup_{i=1}^{\\infty}A_i$ |$\\uplus_{i=1}^{\\infty}B_i$|$\\cap_{i=1}^{\\infty}A_i$|\n",
    "|:-:|:-:|:-:|:-:|:-:|:-:|:-:|:-:|:-:|:-:|:-:|\n",
    "|$\\pi$-system|$O$|$X$|$X$|$X$|$X$|$X$|$X$|$X$|$X$|$X$|\n",
    "|semi-ring|$O$|$O$|$\\Delta$|$O$|$X$|$O$|$O$|$O$|$O$|$O$|\n",
    "|semi-algebra|$O$|$O$|$\\Delta$|$O$|$O$|$\\Delta$|$O$|$O$|$\\Delta$|$O$|\n",
    "|ring|$O$|$O$|$O$|$O$|$X$|$X$|$O$|$O$|$O$|$X$|\n",
    "|algebra|$O$|$O$|$O$|$O$|$O$|$O$|$O$|$O$|$O$|$O$|\n",
    "|$\\sigma$-ring|$O$|$O$|$O$|$O$|$X$|$X$|$O$|$O$|$O$|$X$|\n",
    "|$\\lambda$-system|$X$|$O$|$\\Delta'$|$X$|$O$|$O$|$X$|$X$|$O$|$X$|\n",
    "|$\\sigma$-field|$O$|$O$|$O$|$O$|$O$|$O$|$O$|$O$|$O$|$O$|\n"
   ]
  },
  {
   "cell_type": "markdown",
   "id": "b3afbfa0-08cd-412f-99ca-e74855977c3a",
   "metadata": {},
   "source": [
    "$\\Delta$는 반쯤 닫힌 거\n",
    "\n",
    "차집합에 닫혀있으면 -> $\\cup_i\\to\\uplus_i$자동으로 닫혀있다.\n",
    "\n",
    "$\\Omega$을 포함하고 차집합에 닫혀있다면 -> $A^c$에 닫혀있다"
   ]
  },
  {
   "cell_type": "markdown",
   "id": "a30daec7-11bf-4bbb-b7b5-3ac5e3456ed7",
   "metadata": {
    "id": "a30daec7-11bf-4bbb-b7b5-3ac5e3456ed7"
   },
   "source": [
    "`-` 다이어그램 (포함관계) "
   ]
  },
  {
   "cell_type": "markdown",
   "id": "fc003eff-f4f6-48ee-854e-c259a9f22cd4",
   "metadata": {
    "id": "275f6624-3ba2-4097-8d55-f44daef7b400"
   },
   "source": [
    "```{dot}\n",
    "digraph G {\n",
    "  node [style=filled];\n",
    "  edge [style=tapered];\n",
    "  subgraph cluster_0 {\n",
    "    style=rounded;\n",
    "    σ－ring -> ring -> semiring ;\n",
    "    label = \"RING\";\n",
    "  }\n",
    "\n",
    "  subgraph cluster_1 {\n",
    "    style=rounded;\n",
    "    σ－algebra -> algebra -> semialgebra;\n",
    "    label = \"ALGEBRA\";\n",
    "  }\n",
    "  \n",
    "  subgraph cluster_2 {\n",
    "    style=rounded;  \n",
    "    λ－system;\n",
    "    label = \"LAMBDA\";\n",
    "  }  \n",
    "  σ－algebra -> σ－ring;\n",
    "  σ－algebra -> λ－system; \n",
    "  algebra -> ring;\n",
    "  semialgebra -> semiring;\n",
    "  semiring -> π－system;\n",
    "}\n",
    "```"
   ]
  },
  {
   "cell_type": "markdown",
   "id": "4c3a6e2d-0541-494a-9156-960ec4095672",
   "metadata": {
    "id": "4c3a6e2d-0541-494a-9156-960ec4095672"
   },
   "source": [
    "`-` 다이어그램 (이해용) -- 그림은 더럽지만.."
   ]
  },
  {
   "cell_type": "markdown",
   "id": "5545ab54-f25c-499d-bbe4-c63e373577c2",
   "metadata": {
    "id": "5545ab54-f25c-499d-bbe4-c63e373577c2"
   },
   "source": [
    "```{dot}\n",
    "digraph G {\n",
    "  node [style=filled];\n",
    "  edge [style=tapered];\n",
    "  subgraph cluster_0 {\n",
    "    style=rounded;\n",
    "    semiring -> ring [label = ∪－stable];\n",
    "    ring -> σ－ring [label = σ－∪－stable];\n",
    "    label = \"RING\";\n",
    "  }\n",
    "\n",
    "  subgraph cluster_1 {\n",
    "    style=rounded;\n",
    "    semialgebra -> algebra [label = ∪－stable];\n",
    "    algebra -> σ－algebra [label = σ－∪－stable];    \n",
    "    label = \"ALGEBRA\";\n",
    "  }\n",
    "  \n",
    "  subgraph cluster_2 {\n",
    "    style=rounded;  \n",
    "    λ－system;\n",
    "    label = \"LAMBDA\";\n",
    "  }    \n",
    "  λ－system -> σ－algebra [label = ∩－stable]; \n",
    "  π－system -> semiring [label = ＼－semistable];\n",
    "  ring -> algebra [label = Ω－contained];\n",
    "  semiring -> semialgebra [label = Ω－contained];\n",
    "  σ－ring -> σ－algebra [label = Ω－contained];\n",
    "}\n",
    "```"
   ]
  },
  {
   "cell_type": "code",
   "execution_count": null,
   "id": "2a8f4ce1-a089-4981-8ef0-319f35145685",
   "metadata": {},
   "outputs": [],
   "source": []
  }
 ],
 "metadata": {
  "colab": {
   "provenance": []
  },
  "kernelspec": {
   "display_name": "Python 3 (ipykernel)",
   "language": "python",
   "name": "python3"
  },
  "language_info": {
   "codemirror_mode": {
    "name": "ipython",
    "version": 3
   },
   "file_extension": ".py",
   "mimetype": "text/x-python",
   "name": "python",
   "nbconvert_exporter": "python",
   "pygments_lexer": "ipython3",
   "version": "3.8.16"
  }
 },
 "nbformat": 4,
 "nbformat_minor": 5
}
