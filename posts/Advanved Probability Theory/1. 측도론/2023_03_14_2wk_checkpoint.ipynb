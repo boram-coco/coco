{
 "cells": [
  {
   "cell_type": "raw",
   "id": "acf0da76-03e8-4dfa-b55e-de5bd34c9c07",
   "metadata": {
    "id": "acf0da76-03e8-4dfa-b55e-de5bd34c9c07"
   },
   "source": [
    "---\n",
    "title: \"02wk: 측도론 intro (2)\"\n",
    "author: \"김보람\"\n",
    "date: \"03/14/2023\"\n",
    "---"
   ]
  },
  {
   "cell_type": "markdown",
   "id": "eb5417e9-8d8e-4b43-bcab-c179a61311ff",
   "metadata": {
    "id": "eb5417e9-8d8e-4b43-bcab-c179a61311ff"
   },
   "source": [
    "> 해당 강의노트는 전북대학교 최규빈교수님 [AP2023](https://guebin.github.io/AP2023/) 자료임"
   ]
  },
  {
   "cell_type": "markdown",
   "id": "c791c190-6f67-4973-8404-c50a03aab536",
   "metadata": {
    "id": "c791c190-6f67-4973-8404-c50a03aab536",
    "tags": []
   },
   "source": [
    "# 예비개념1: 귀류법 "
   ]
  },
  {
   "cell_type": "markdown",
   "id": "4575a5a7-d41e-4939-a7a6-4647ba698bb9",
   "metadata": {
    "id": "4575a5a7-d41e-4939-a7a6-4647ba698bb9"
   },
   "source": [
    "`-` 귀류법: **니 논리 대로면...** <- 인터넷 댓글에 많음.. "
   ]
  },
  {
   "cell_type": "markdown",
   "id": "209e6f39-8597-45e9-9f68-e385acd7a66f",
   "metadata": {
    "id": "209e6f39-8597-45e9-9f68-e385acd7a66f"
   },
   "source": [
    "```\n",
    "님 논리대로면..\n",
    "- XXX가 문제 없으면 서울 전체가 문제가 없고 (애초에 서울은 문제도 아니라는데 왜 이소리는 하고 계신지 모르겠지만)\n",
    "- 수도권 모 대학이 문제가 없으면 전체가 문제가 없겠네요?\n",
    "- 지방도 1개 대학이 문제가 없으니 전체가 문제 없겠네요?\n",
    "와우! 모든 문제가 해결되었습니다! 출산율 감소로 인한 한국대학의 위기가 해결되었.. 아니 애초에 위기가 없었군요!.\n",
    "어휴.. ㅠㅠ\n",
    "```"
   ]
  },
  {
   "cell_type": "markdown",
   "id": "45ca997b-1041-4cca-a084-2e33e21d806e",
   "metadata": {
    "id": "45ca997b-1041-4cca-a084-2e33e21d806e"
   },
   "source": [
    "ref: [하이브레인넷](https://m.hibrain.net/braincafe/cafes/38/posts/205/articles/466461?pagekey=466461&listType=TOTAL&pagesize=5&sortType=RDT&limit=30&displayType=TIT&siteid=1&page=1)"
   ]
  },
  {
   "cell_type": "markdown",
   "id": "45aca77c-6071-48a9-887d-52a7a558650b",
   "metadata": {
    "id": "45aca77c-6071-48a9-887d-52a7a558650b"
   },
   "source": [
    "# 예비개념2: 일반화 "
   ]
  },
  {
   "cell_type": "markdown",
   "id": "ed8279f1-402d-4b9f-8413-9a350a058a28",
   "metadata": {
    "id": "ed8279f1-402d-4b9f-8413-9a350a058a28"
   },
   "source": [
    "`-` 연필의 정의: 필기도구의 하나. 흑연과 점토의 혼합물을 구워 만든 가느다란 심을 속에 넣고, 겉은 나무로 둘러싸서 만든다. 1565년에 영국에서 처음으로 만들었다."
   ]
  },
  {
   "cell_type": "markdown",
   "id": "d7414026-ec8e-43a1-9f41-99c38a219b50",
   "metadata": {
    "id": "d7414026-ec8e-43a1-9f41-99c38a219b50"
   },
   "source": [
    "`-` 질문: 아래는 연필인가? \n",
    "\n",
    "![](https://guebin.github.io/AP2023/posts/I.%20Measure%20Theory/2023-03-14-2wk_files/figure-html/d7414026-ec8e-43a1-9f41-99c38a219b50-1-bc4ce260-8b68-4d31-8d65-674a0cf58a33.png)"
   ]
  },
  {
   "cell_type": "markdown",
   "id": "3d3f645b-2624-4069-84cc-2c89f4d9e7c6",
   "metadata": {},
   "source": [
    "- 연필을 정의하는 '속성'을 개념으로 확장하자! (기본 연필의 정의를 포함하면서) $\\to$ cardinality"
   ]
  },
  {
   "cell_type": "markdown",
   "id": "5835f250-1262-4eca-91f3-f3f3efbcb03b",
   "metadata": {
    "id": "5835f250-1262-4eca-91f3-f3f3efbcb03b"
   },
   "source": [
    "# cardinality"
   ]
  },
  {
   "cell_type": "markdown",
   "id": "1ffd5db3-9d2c-4f70-92b6-4e96f4bc185a",
   "metadata": {
    "id": "1ffd5db3-9d2c-4f70-92b6-4e96f4bc185a"
   },
   "source": [
    "- ref: <https://en.wikipedia.org/wiki/Cardinality>"
   ]
  },
  {
   "cell_type": "markdown",
   "id": "5e9bfd0e-76c4-4090-bb2c-dfcc5e719e5d",
   "metadata": {
    "id": "5e9bfd0e-76c4-4090-bb2c-dfcc5e719e5d"
   },
   "source": [
    "`-` $A=\\{2,4,6\\}$  $\\Rightarrow$ $|A|=3$, $A$ has a cardinality of 3. "
   ]
  },
  {
   "cell_type": "markdown",
   "id": "948941f2-348f-47c5-b7a7-7f190cff45eb",
   "metadata": {
    "id": "948941f2-348f-47c5-b7a7-7f190cff45eb"
   },
   "source": [
    "`-` $A=\\{1,2,3,4,\\dots\\}=\\mathbb{N}$ $\\Rightarrow$ $|A|=?$\n",
    "\n",
    "- Cardinal number: 유한집합에서의 \"갯수\"라는 개념을 좀 더 일반화 하여 무한집합으로 적용하고 싶다. \n",
    "- 유한집합: 우리가 친숙한 size 와 그 뜻이 같음\n",
    "- 무한집합: 무한집합의 경우는 그 동작원리가 조금 더 복잡함 "
   ]
  },
  {
   "cell_type": "markdown",
   "id": "54a94070-4b60-4aad-a0d5-ca25fbcf6033",
   "metadata": {
    "id": "54a94070-4b60-4aad-a0d5-ca25fbcf6033"
   },
   "source": [
    "`-` 질문: $|\\mathbb{Q}| < |\\mathbb{Q}^c|$ ?? "
   ]
  },
  {
   "cell_type": "markdown",
   "id": "0edabd5a-1f93-4ee5-966f-689913f83e7e",
   "metadata": {
    "id": "0edabd5a-1f93-4ee5-966f-689913f83e7e"
   },
   "source": [
    "***Bijection, injection and surjection (예비학습)***\n",
    "\n",
    "- ref: <https://en.wikipedia.org/wiki/Bijection,_injection_and_surjection>"
   ]
  },
  {
   "cell_type": "markdown",
   "id": "ca77155b-27b6-4b95-adb8-eb0058157e40",
   "metadata": {
    "id": "ca77155b-27b6-4b95-adb8-eb0058157e40"
   },
   "source": [
    "![](https://guebin.github.io/AP2023/posts/I.%20Measure%20Theory/2023-03-14-2wk_files/figure-html/ca77155b-27b6-4b95-adb8-eb0058157e40-1-ad3042e4-1c17-4c0c-855a-7a4c6ab775da.png)"
   ]
  },
  {
   "cell_type": "markdown",
   "id": "58b13450-c477-42c9-af35-92d9c975fd92",
   "metadata": {
    "id": "58b13450-c477-42c9-af35-92d9c975fd92"
   },
   "source": [
    "`-` 용어 정리 \n",
    "\n",
    "- surjective = onto = 전사 = 위로의 함수 \n",
    "- injective = one-to-one = 단사 = 일대일 함수\n",
    "- bijective = one-to-one and onto, one-to-one correspondence = 전단사 = 일대일 대응 "
   ]
  },
  {
   "cell_type": "markdown",
   "id": "ce1199e9-96a5-41ce-9133-f457d0b0147e",
   "metadata": {
    "id": "ce1199e9-96a5-41ce-9133-f457d0b0147e"
   },
   "source": [
    "`-` 따지는 방법: \n",
    "    \n",
    "- 단사: 함수 $f$는 $X$에서 $Y$로 향하는 단사함수이다. $\\Leftrightarrow$ $\\forall x_1,x_2 \\in X$: $x_1\\neq x_2 \\Rightarrow f(x_1)\\neq f(x_2)$\n",
    "- ($\\star$)전사: 함수 $f$는 $X$에서 $Y$로 향하는 전사함수이다. $\\Leftrightarrow$ $\\forall y \\in Y ~\\exists x \\in X$ such that $f(x)=y$. "
   ]
  },
  {
   "cell_type": "markdown",
   "id": "c4754c0b-4b3f-47c7-9d43-69ebe123bb2f",
   "metadata": {
    "id": "c4754c0b-4b3f-47c7-9d43-69ebe123bb2f"
   },
   "source": [
    "`-` 성질1: 어떤함수가 전사함수 & 단사함수 $\\Rightarrow$ 전단사함수 "
   ]
  },
  {
   "cell_type": "markdown",
   "id": "2930373f-06df-4a5b-ac08-b20254c88523",
   "metadata": {
    "id": "2930373f-06df-4a5b-ac08-b20254c88523"
   },
   "source": [
    "`-` 성질2: \n",
    "\n",
    "- 집합 $X$에서 집합 $Y$로 가는 단사함수 $f$가 존재한다. $\\Rightarrow$ $|X| \\leq |Y|$\n",
    "- 집합 $X$에서 집합 $Y$로 가는 전사함수 $f$가 존재한다. $\\Rightarrow$ $|X| \\geq |Y|$"
   ]
  },
  {
   "cell_type": "markdown",
   "id": "1480057c-714d-499b-8ae6-14503b2148a4",
   "metadata": {
    "id": "1480057c-714d-499b-8ae6-14503b2148a4"
   },
   "source": [
    "(예비학습 끝)"
   ]
  },
  {
   "cell_type": "markdown",
   "id": "db55d255-2bc1-4c68-ac89-31234bc66388",
   "metadata": {
    "id": "db55d255-2bc1-4c68-ac89-31234bc66388"
   },
   "source": [
    "`-` 성질1~2로 유추하면 아래와 같은 사실을 주장 할 수 있지 않을까? \n",
    "\n",
    "- 집합 $X$에서 집합 $Y$로 향하는 전단사함수가 존재한다 $\\Rightarrow$ $|X|=|Y|$"
   ]
  },
  {
   "cell_type": "markdown",
   "id": "4649e4bc-4d7c-4bf4-938c-58ea5c65961b",
   "metadata": {
    "id": "4649e4bc-4d7c-4bf4-938c-58ea5c65961b"
   },
   "source": [
    "`-` 그렇다면 우리가 주장하고 싶은 것은 아래와 같이 된다. \n",
    "\n",
    "- 유리수집합의 무리수집합의 cardinality는 다르다. \n",
    "- 유리수집합과 무리수집합사이의 전단사함수는 존재할 수 없다. "
   ]
  },
  {
   "cell_type": "markdown",
   "id": "d17a7859-3132-4e54-ac26-1a937afb7cac",
   "metadata": {
    "id": "d17a7859-3132-4e54-ac26-1a937afb7cac"
   },
   "source": [
    "# 유리수집합의 카디널리티 "
   ]
  },
  {
   "cell_type": "markdown",
   "id": "978fb730-1895-46b0-8ee6-4cf8de4220bf",
   "metadata": {
    "id": "978fb730-1895-46b0-8ee6-4cf8de4220bf"
   },
   "source": [
    "`-` 우리가 궁극적으로 궁금한 것 \n",
    "\n",
    "- 유리수집합과 무리수집합의 카디널리티는 다를까? "
   ]
  },
  {
   "cell_type": "markdown",
   "id": "b963835f-e5e6-4515-aef1-35de2b461129",
   "metadata": {
    "id": "b963835f-e5e6-4515-aef1-35de2b461129"
   },
   "source": [
    "`-` 그냥 궁금한 것 \n",
    "\n",
    "- 양의 정수의 집합, 음의 정수의 집합, 정수의 집합, 짝수의 집합, 홀수의 집합의 카디널리티는 어떠할까? "
   ]
  },
  {
   "cell_type": "markdown",
   "id": "09219f19-710b-48e1-979e-5e3fa09fd67d",
   "metadata": {},
   "source": [
    "- 미리보는 답 ㅎ 카디너릴티는 다 똑같다 ㅎ"
   ]
  },
  {
   "cell_type": "markdown",
   "id": "c3979434-60d7-4f85-ac12-2e28d7971465",
   "metadata": {
    "id": "c3979434-60d7-4f85-ac12-2e28d7971465"
   },
   "source": [
    "`-` (예제1) "
   ]
  },
  {
   "cell_type": "markdown",
   "id": "4ab264e9-7223-420b-9c5d-38e97dab5efb",
   "metadata": {
    "id": "4ab264e9-7223-420b-9c5d-38e97dab5efb"
   },
   "source": [
    "집합 $X=\\{1,2,3\\}$, $Y=\\{2,4,6\\}$을 생각하자. 적당한 함수 $f$를 아래와 같이 정의하자. \n",
    "\n",
    "- $f(1)=2$\n",
    "- $f(2)=4$\n",
    "- $f(3)=6$"
   ]
  },
  {
   "cell_type": "markdown",
   "id": "e01011d3-2c45-40dd-bcfd-80b8abdd7cef",
   "metadata": {
    "id": "e01011d3-2c45-40dd-bcfd-80b8abdd7cef"
   },
   "source": [
    "아래의 질문에 대답해보자. \n",
    "\n",
    "1. (단사) 함수 $f$는 정의역의 모든 값에 대해 함수값이 모두 다른가? // $\\forall x_1,x_2 \\in X$, $x_1\\neq x_2$ $\\Rightarrow$ $f(x_1)\\neq f(x_2)$? \n",
    "2. (전사) 함수 $f$는 공역=치역인가? // $\\forall y \\in Y~ \\exists x \\in X$ such that $f(x)=y$. \n",
    "\n",
    "1의 질문과 2의 질문이 모두 맞으므로 함수 $f$는 전단사 함수이다. 집합 $X$에서 집합 $Y$로 가는 전단사 함수가 존재하므로 집합 $X$와 집합 $Y$의 카디널리티는 동일하다. 즉 위의 예제1에서 $Y$의 카디널리티는 3이다! "
   ]
  },
  {
   "cell_type": "markdown",
   "id": "06e42221-15f2-452d-ac30-34c717352331",
   "metadata": {
    "id": "06e42221-15f2-452d-ac30-34c717352331"
   },
   "source": [
    "`-` (예제2) "
   ]
  },
  {
   "cell_type": "markdown",
   "id": "c7cae0cf-d6a0-47ba-8ca2-c550abf3990d",
   "metadata": {
    "id": "c7cae0cf-d6a0-47ba-8ca2-c550abf3990d"
   },
   "source": [
    "집합 $X=\\{1,2,3,\\dots \\}$, $Y=\\{2,4,6,\\dots \\}$을 생각하자. 적당한 함수 $f$를 아래와 같이 정의하자. \n",
    "\n",
    "- $f(1)=2$\n",
    "- $f(2)=4$\n",
    "- $f(3)=6$\n",
    "- $\\dots$"
   ]
  },
  {
   "cell_type": "markdown",
   "id": "33727a92-4a6b-4e78-9ed5-81df152d7ddd",
   "metadata": {
    "id": "33727a92-4a6b-4e78-9ed5-81df152d7ddd"
   },
   "source": [
    "아래의 질문에 대답해보자. \n",
    "\n",
    "1. (단사) 함수 $f$는 정의역의 모든 값에 대해 함수값이 모두 다른가? // $\\forall x_1,x_2 \\in X$, $x_1\\neq x_2$ $\\Rightarrow$ $f(x_1)\\neq f(x_2)$? \n",
    "2. (전사) 함수 $f$는 공역=치역인가? // $\\forall y \\in Y~ \\exists x \\in X$ such that $f(x)=y$. \n",
    "\n",
    "1의 질문과 2의 질문이 모두 맞으므로 함수 $f$는 전단사함수이다. 집합 $X$에서 집합 $Y$로 가는 전단사 함수가 존재하므로 집합 $X$와 집합 $Y$의 카디널리티는 동일하다. "
   ]
  },
  {
   "cell_type": "markdown",
   "id": "0d1ce05f-d0c5-458a-b676-98ed896f9fbd",
   "metadata": {
    "id": "0d1ce05f-d0c5-458a-b676-98ed896f9fbd"
   },
   "source": [
    "`-` $\\aleph_0$ (알레프 널, 혹은 알레프 제로라고 읽음) \n",
    "\n",
    "- 자연수집합 $\\mathbb{N}$의 카디널리티는 $\\aleph_0$이다. 즉 $|\\mathbb{N}|=\\aleph_0$.\n",
    "- 짝수인 자연수 집합의 카디널리티는 $\\aleph_0$이고, 홀수인 자연수 집합의 카디널리티는 $\\aleph_0$이다. \n",
    "- 정수집합 $\\mathbb{Z}$의 카디널리티는 $\\aleph_0$이다. 즉 $|\\mathbb{Z}|=\\aleph_0$. "
   ]
  },
  {
   "cell_type": "markdown",
   "id": "ae3ddcd8-7f1d-4c3c-9e6b-332bb05a689a",
   "metadata": {
    "id": "ae3ddcd8-7f1d-4c3c-9e6b-332bb05a689a"
   },
   "source": [
    "`-` 느낌: $\\aleph_0$를 2배,3배,4배 하여도 $\\aleph_0$이다. \n",
    "\n",
    "- 즉 무한집합의 경우, 본인과 카디널넘버가 같은 진부분집합(자기자신을 제외한 부분집합)이 존재할 수 있다. (유한집합에서는 불가능하겠지) \n",
    "- 무한집합의 정의: 집합 $A$가 무한집합이다. $\\Leftrightarrow$ $A$와 동일한 카디널리티를 가지는 $A$의 진 부분집합이 존재한다. "
   ]
  },
  {
   "cell_type": "markdown",
   "id": "8fb91b82-a2e0-47e3-be8c-ec8219c4d538",
   "metadata": {
    "id": "8fb91b82-a2e0-47e3-be8c-ec8219c4d538"
   },
   "source": [
    "`-` (예제3) \n",
    "\n",
    "원소의 수가 $n$인 임의의 유한집합 $A$에 대하여 $|A|=n$ 이다."
   ]
  },
  {
   "cell_type": "markdown",
   "id": "4bc9a3a2-daa7-462e-bbb4-dc916e0ff80b",
   "metadata": {
    "id": "4bc9a3a2-daa7-462e-bbb4-dc916e0ff80b"
   },
   "source": [
    "`-` (예제4)\n",
    "\n",
    "유리수집합의 카디널리티는 얼마인가? (<https://en.wikipedia.org/wiki/Rational_number>)"
   ]
  },
  {
   "cell_type": "markdown",
   "id": "afe5e8c0-76dd-4b01-97ae-3e8665126a89",
   "metadata": {
    "id": "afe5e8c0-76dd-4b01-97ae-3e8665126a89"
   },
   "source": [
    "집합 $X$를 자연수의 집합이라고 하자. 집합 $Y$를 아래그림에 있는 숫자들의 집합이라고 하자.^[그래서 일단 집합 $Y$는 양의 유리수의 집합을 포함한다]"
   ]
  },
  {
   "cell_type": "markdown",
   "id": "3afa2cf4-c2b0-444f-b9b6-4dbbe076cc75",
   "metadata": {
    "id": "3afa2cf4-c2b0-444f-b9b6-4dbbe076cc75"
   },
   "source": [
    "![](https://upload.wikimedia.org/wikipedia/commons/thumb/8/85/Diagonal_argument.svg/1024px-Diagonal_argument.svg.png)"
   ]
  },
  {
   "cell_type": "markdown",
   "id": "aa77a71a-df8d-415b-9935-e13c2297b0a3",
   "metadata": {
    "id": "aa77a71a-df8d-415b-9935-e13c2297b0a3"
   },
   "source": [
    "예를들어 집합 $X$와 집합 $Y$를 앞의 몇개만 써보면 \n",
    "\n",
    "- $X=\\{1,2,3,4,5,6,\\dots\\}$\n",
    "- $Y=\\{1,\\frac{2}{1},\\frac{1}{2},\\frac{3}{1},\\frac{2}{2},\\frac{1}{3},\\dots \\}$"
   ]
  },
  {
   "cell_type": "markdown",
   "id": "b5076b9b-da71-4a71-9595-3732141b1349",
   "metadata": {
    "id": "b5076b9b-da71-4a71-9595-3732141b1349"
   },
   "source": [
    "함수 $f$를 아래와 같이 정의하자. \n",
    "\n",
    "- $f(1)=1$ \n",
    "- $f(2)=2/1$\n",
    "- $f(3)=1/2$\n",
    "- $f(4)=3/1$\n",
    "- $f(5)=2/2$\n",
    "- $f(6)=1/3$\n",
    "- $\\dots$"
   ]
  },
  {
   "cell_type": "markdown",
   "id": "d4efb525-3918-4f24-97a1-701bc634d660",
   "metadata": {
    "id": "d4efb525-3918-4f24-97a1-701bc634d660"
   },
   "source": [
    "함수 $f$는 $X$에서 $Y$로 향하는 전단사함수이다. $\\Rightarrow$ $|X|=\\aleph_0=|Y|$"
   ]
  },
  {
   "cell_type": "markdown",
   "id": "4daf1e60-3502-4d01-983a-bde006e387ae",
   "metadata": {
    "id": "4daf1e60-3502-4d01-983a-bde006e387ae"
   },
   "source": [
    "**(관찰)** 임의의 양의 유리수의 집합 $\\mathbb{Q}^+$는 모두 $Y$에 포함되어 있다. $\\Rightarrow$ $X \\subset \\mathbb{Q}^+ \\subset Y$ $\\Rightarrow$ $|\\mathbb{Q}^+|=\\aleph_0$"
   ]
  },
  {
   "cell_type": "markdown",
   "id": "30d31307-c3ce-4d4a-a49e-d994e53867fc",
   "metadata": {
    "id": "30d31307-c3ce-4d4a-a49e-d994e53867fc"
   },
   "source": [
    "**(생각)** 그럼 음의 유리수의 집합 $\\mathbb{Q}^-$의 카디널넘버 역시 $\\aleph_0$이다. 즉 $|\\mathbb{Q}^-|=\\aleph_0$."
   ]
  },
  {
   "cell_type": "markdown",
   "id": "3da77114-9884-460f-a66d-9696797af585",
   "metadata": {
    "id": "3da77114-9884-460f-a66d-9696797af585"
   },
   "source": [
    "**(결론)** 그럼 유리수의 카디널넘버는 $\\aleph_0$ 이다. [$\\mathbb{Q} = \\mathbb{Q}^+ \\cup \\{0\\} \\cup \\mathbb{Q}^-$] 좀 더 자극적으로 말하면 \"자연수의 갯수와 유리수의 갯수는 같다\" 라고 말할 수 있다. "
   ]
  },
  {
   "cell_type": "markdown",
   "id": "523553c5-4aef-46d2-8eee-b590a4ea8f50",
   "metadata": {
    "id": "523553c5-4aef-46d2-8eee-b590a4ea8f50"
   },
   "source": [
    "`-` 조금 무식하게 쓰면 아래와 같이 쓸 수 있다. \n",
    "\n",
    "- $\\aleph_0 + 1 = \\aleph_0$ \n",
    "- $\\aleph_0 \\times 2 = \\aleph_0$ \n",
    "- $\\aleph_0 \\times \\aleph_0 = \\aleph_0^2 =  \\aleph_0$  (위의 격자를 생각..)"
   ]
  },
  {
   "cell_type": "markdown",
   "id": "a7085c93-c0b1-49a3-992b-6d0723c9bcb9",
   "metadata": {
    "id": "a7085c93-c0b1-49a3-992b-6d0723c9bcb9"
   },
   "source": [
    "# 실수집합의 카디널리티 "
   ]
  },
  {
   "cell_type": "markdown",
   "id": "bb189e00-c03d-403e-9266-13bd95d2ca31",
   "metadata": {
    "id": "bb189e00-c03d-403e-9266-13bd95d2ca31"
   },
   "source": [
    "`-` 아래의 관계가 성립했다. \n",
    "\n",
    "- $|\\mathbb{N}| = \\aleph_0$\n",
    "- $|\\mathbb{N}\\cup \\{0\\}| = \\aleph_0$\n",
    "- $|\\mathbb{Z}| = \\aleph_0$\n",
    "- $|\\mathbb{Q}| = \\aleph_0$"
   ]
  },
  {
   "cell_type": "markdown",
   "id": "e434b7f2-ae20-4c3f-a3ab-0bdabbdcb82f",
   "metadata": {
    "id": "e434b7f2-ae20-4c3f-a3ab-0bdabbdcb82f"
   },
   "source": [
    "`-` 그렇다면 아래는 어떠할까? "
   ]
  },
  {
   "cell_type": "markdown",
   "id": "f5b00a3f-3184-4ede-91f1-4f2bd55bc720",
   "metadata": {
    "id": "f5b00a3f-3184-4ede-91f1-4f2bd55bc720"
   },
   "source": [
    "$$|\\mathbb{R}|=??$$"
   ]
  },
  {
   "cell_type": "markdown",
   "id": "5ac1d091-657b-4818-81da-0c5c215a30e7",
   "metadata": {
    "id": "5ac1d091-657b-4818-81da-0c5c215a30e7"
   },
   "source": [
    "**(주장)** 실수에 포함된 카디널넘버는 유리수의 카디널넘버 보다 크다. "
   ]
  },
  {
   "cell_type": "markdown",
   "id": "604d972b-0973-46d4-b670-5d7da9835272",
   "metadata": {
    "id": "604d972b-0973-46d4-b670-5d7da9835272"
   },
   "source": [
    "- $\\mathbb{Q}$에서 $\\mathbb{R}$로 가는 단사함수는 존재하지만 전사함수는 존재할 수 없음을 보이면 된다. \n",
    "- $\\mathbb{N}$에서 $\\mathbb{R}$로 가는 단사함수는 존재하지만 전사함수는 존재할 수 없음을 보여도 된다.[$|\\mathbb{Q}|=|\\mathbb{N}|=\\aleph_0$]"
   ]
  },
  {
   "cell_type": "markdown",
   "id": "0960331a-3b9b-43a6-b247-bafcafa08917",
   "metadata": {
    "id": "0960331a-3b9b-43a6-b247-bafcafa08917"
   },
   "source": [
    "**(단사)**"
   ]
  },
  {
   "cell_type": "markdown",
   "id": "c4c26a95-39e5-4290-a073-6d5df85c2dbb",
   "metadata": {
    "id": "c4c26a95-39e5-4290-a073-6d5df85c2dbb"
   },
   "source": [
    "자연수에서 실수로 가는 단사함수는 존재한다. (자연수는 실수의 부분집합이니까)"
   ]
  },
  {
   "cell_type": "markdown",
   "id": "ffb8a869-2591-4b28-89a0-7adfa16c7600",
   "metadata": {
    "id": "ffb8a869-2591-4b28-89a0-7adfa16c7600"
   },
   "source": [
    "**(전사)**"
   ]
  },
  {
   "cell_type": "markdown",
   "id": "ca0b04a9-209a-44fd-9d88-471c666f3fb4",
   "metadata": {
    "id": "ca0b04a9-209a-44fd-9d88-471c666f3fb4"
   },
   "source": [
    "**소망**: $\\mathbb{N}$에서 $\\mathbb{R}$로 향하는 전사는 존재할 수 없음을 보이고 싶음."
   ]
  },
  {
   "cell_type": "markdown",
   "id": "ecdb8796-e13a-4093-9442-011e720ebb2e",
   "metadata": {
    "id": "ecdb8796-e13a-4093-9442-011e720ebb2e"
   },
   "source": [
    "**소망2**: 그런데 $\\mathbb{N}$에서 $[0,1]$로 향하는 전사가 존재할 수 없음을 보여도 충분함. "
   ]
  },
  {
   "cell_type": "markdown",
   "id": "304e1fd8-1aff-42ec-b2d8-4be5383d88cc",
   "metadata": {},
   "source": [
    "$[0,1] \\subset \\mathbb{R}$ 이므로"
   ]
  },
  {
   "cell_type": "markdown",
   "id": "449ef37c-2dc4-43b0-82e3-f9c633e52724",
   "metadata": {
    "id": "449ef37c-2dc4-43b0-82e3-f9c633e52724"
   },
   "source": [
    "**전략**: $\\mathbb{N}$에서 $[0,1]$로 가는 전사가 존재한다고 가정하고 모순을 이끌어 내자. "
   ]
  },
  {
   "cell_type": "markdown",
   "id": "1f44cd68-6139-4638-8f74-6074b02bfbaf",
   "metadata": {
    "id": "1f44cd68-6139-4638-8f74-6074b02bfbaf"
   },
   "source": [
    "`1`. 아래와 같은 주장을 하는 가상의 인물을 세움: \n",
    "\n",
    "> $\\mathbb{N}$에서 $[0,1]$로 향하는 전사함수가 존재한다. \n"
   ]
  },
  {
   "cell_type": "markdown",
   "id": "5d66739f-2ba0-4876-9d55-114c51fe28d3",
   "metadata": {
    "id": "5d66739f-2ba0-4876-9d55-114c51fe28d3"
   },
   "source": [
    "`2`. 그 가상의 인물이 하는 주장을 잘 생각해보면 아래와 같음 \n",
    "\n",
    "$f$는 정의역이 자연수이고 공역이 실수인 함수이므로 아래와 같은 형태일 것임. \n",
    "\n",
    "- $f(1)=0.2344253456\\cdots$\n",
    "- $f(2)=0.3459837981\\cdots$\n",
    "- $f(3)=0.5452349871\\cdots$ \n",
    "- $\\dots$"
   ]
  },
  {
   "cell_type": "markdown",
   "id": "f5f23cf1-2428-4bef-a21a-f429bac7683c",
   "metadata": {
    "id": "f5f23cf1-2428-4bef-a21a-f429bac7683c"
   },
   "source": [
    "그 가상의 인물의 주장대로라면 \n",
    "\n",
    "$$[0,1]=\\{f(1),f(2),f(3),\\dots\\}$$"
   ]
  },
  {
   "cell_type": "markdown",
   "id": "e6c6afc4-81a4-41e5-8e9c-e53de4f49fa0",
   "metadata": {
    "id": "e6c6afc4-81a4-41e5-8e9c-e53de4f49fa0"
   },
   "source": [
    "이라는 의미임. [다시 말하면 $[0,1]$ 사이의 모든 실수는 \"셀수있다\"라는 의미임]"
   ]
  },
  {
   "cell_type": "markdown",
   "id": "5d9bcaf3-0e0f-4874-88be-29ebb50a87b0",
   "metadata": {
    "id": "5d9bcaf3-0e0f-4874-88be-29ebb50a87b0"
   },
   "source": [
    "`3`. 전사함수의 정의에 의하여 아래가 성립해야 함\n",
    "\n",
    "> $\\forall y\\in [0,1] ~\\exists x \\in \\mathbb{N}$ such that $f(x)=y$"
   ]
  },
  {
   "cell_type": "markdown",
   "id": "58d89f64-d782-413d-8dfb-d1a49002b0bc",
   "metadata": {
    "id": "58d89f64-d782-413d-8dfb-d1a49002b0bc"
   },
   "source": [
    "아래의 원리에 따라서 $y=0.x_1x_2x_3\\cdots$를 뽑는다면? \n",
    "\n",
    "- $y$의 첫번째 소수점의 값 $x_1$은 $f(1)$의 첫번째 소수점과 다르게 한다. $\\Rightarrow$ $y\\neq f(1)$ $\\Rightarrow$ $y \\notin \\{f(1)\\}$\n",
    "- $y$의 두번째 소수점의 값 $x_2$은 $f(2)$의 두번째 소수점과 다르게 한다. $\\Rightarrow$ $y\\neq f(1)$ and $y\\neq f(2)$ $\\Rightarrow$ $y \\notin \\{f(1), f(2)\\}$\n"
   ]
  },
  {
   "cell_type": "markdown",
   "id": "e62e4609-a3ad-402c-bb62-21883536d09f",
   "metadata": {},
   "source": [
    "위의 예시에서 y=0.245......"
   ]
  },
  {
   "cell_type": "markdown",
   "id": "e5a13754-43fd-408f-8b13-26238a24075a",
   "metadata": {
    "id": "e5a13754-43fd-408f-8b13-26238a24075a"
   },
   "source": [
    "이러한 $y$는 분명히 실수이지만 $y \\notin \\{f(1),f(2),f(3),\\dots,\\}$ 이다.^[모순이네?]"
   ]
  },
  {
   "cell_type": "markdown",
   "id": "db3aac86-770a-4dd5-8f09-20adfa4410f6",
   "metadata": {
    "id": "db3aac86-770a-4dd5-8f09-20adfa4410f6"
   },
   "source": [
    "# 무리수집합의 카디널리티 "
   ]
  },
  {
   "cell_type": "markdown",
   "id": "7f951ddb-b147-4efb-a870-29096f2cecdb",
   "metadata": {
    "id": "7f951ddb-b147-4efb-a870-29096f2cecdb"
   },
   "source": [
    "**(주장)** 무리수집합의 카디널리티는 $\\aleph_0$가 아니다. "
   ]
  },
  {
   "cell_type": "markdown",
   "id": "0c91c7dc-1271-4af5-bbe2-a6662fad8799",
   "metadata": {
    "id": "0c91c7dc-1271-4af5-bbe2-a6662fad8799"
   },
   "source": [
    "**(쉐도복싱)** 무리수집합의 카디널리티가 $\\aleph_0$ 이라고 하자. "
   ]
  },
  {
   "cell_type": "markdown",
   "id": "f2fa57f0-7d44-4bc5-8655-9792513b87ed",
   "metadata": {
    "id": "f2fa57f0-7d44-4bc5-8655-9792513b87ed"
   },
   "source": [
    "- $\\mathbb{R} = \\mathbb{Q} \\cup \\mathbb{Q}^c$ \n",
    "- $|\\mathbb{Q}|=\\aleph_0$ 이므로 $\\mathbb{Q}$와 $\\mathbb{N}$사이에는 전단사함수가 존재함. \n",
    "- $|\\mathbb{Q}^c|=\\aleph_0$ 이므로 $\\mathbb{Q}^c$와 $\\mathbb{N}^{-}=\\{-1,-2,\\dots\\}$사이에는 전단사함수가 존재함. \n",
    "- 따라서 $\\mathbb{Q} \\cup \\mathbb{Q}^c$ 와 $\\mathbb{N} \\cup \\mathbb{N}^-$ 사이에는 전단사함수가 존재함. (모순) "
   ]
  },
  {
   "cell_type": "markdown",
   "id": "d2b3d300-1bb0-4a2f-8571-3c25ab7eacdd",
   "metadata": {},
   "source": [
    "![](20230314_201930.png)"
   ]
  },
  {
   "cell_type": "code",
   "execution_count": null,
   "id": "aced6e48-b166-40dd-a450-6efbc5269b48",
   "metadata": {},
   "outputs": [],
   "source": []
  }
 ],
 "metadata": {
  "colab": {
   "provenance": []
  },
  "kernelspec": {
   "display_name": "Python 3 (ipykernel)",
   "language": "python",
   "name": "python3"
  },
  "language_info": {
   "codemirror_mode": {
    "name": "ipython",
    "version": 3
   },
   "file_extension": ".py",
   "mimetype": "text/x-python",
   "name": "python",
   "nbconvert_exporter": "python",
   "pygments_lexer": "ipython3",
   "version": "3.8.16"
  }
 },
 "nbformat": 4,
 "nbformat_minor": 5
}
