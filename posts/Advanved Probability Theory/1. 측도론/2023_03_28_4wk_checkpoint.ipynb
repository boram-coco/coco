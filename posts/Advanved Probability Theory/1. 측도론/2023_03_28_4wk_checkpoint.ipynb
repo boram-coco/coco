{
 "cells": [
  {
   "cell_type": "raw",
   "id": "23c757c8-0fe1-4736-8cf3-735ae1247bf6",
   "metadata": {
    "id": "23c757c8-0fe1-4736-8cf3-735ae1247bf6"
   },
   "source": [
    "---\n",
    "title: \"04wk: 측도론 intro (4)\"\n",
    "author: \"김보람\"\n",
    "date: \"04/01/2023\"\n",
    "---"
   ]
  },
  {
   "cell_type": "markdown",
   "id": "6a265018-008a-442e-9e59-c52acf9f8568",
   "metadata": {
    "id": "eb5417e9-8d8e-4b43-bcab-c179a61311ff"
   },
   "source": [
    "> 해당 강의노트는 전북대학교 최규빈교수님 [AP2023](https://guebin.github.io/AP2023/) 자료임"
   ]
  },
  {
   "cell_type": "markdown",
   "id": "e0389bdf-ec9f-4c31-a2cc-d55a2e9eb6da",
   "metadata": {
    "id": "e0389bdf-ec9f-4c31-a2cc-d55a2e9eb6da"
   },
   "source": [
    "# 지금까지의 스토리 "
   ]
  },
  {
   "cell_type": "markdown",
   "id": "69ee4625-6864-4449-9a0e-d187f05d4c42",
   "metadata": {
    "id": "69ee4625-6864-4449-9a0e-d187f05d4c42"
   },
   "source": [
    "`-` 지금까지의 이야기. \n",
    "\n",
    "- **$\\Omega$의 모든 부분집합에 대해서 확률을 \"무모순\"으로 정의**하는게 엄청 쉬운일 인줄 알았는데,^[동전예제]\n",
    "- 사실은 그렇지가 않았다.^[바늘이 하나 있는 시계예제] 확률을 정의하는건 매우 까다로운 일이었다. \n",
    "- 이러한 까다로움을 해결하기 위해서 \"르벡메져\"라는 새로운 도구를 사용했다. 이 도구는 몇 가지 까다로운 집합에 대하여 확률을 무모순으로 정의할 수 있었다. \n",
    "- 르벡메져는 구간 $[0,2\\pi)$의 모든 유리수 집합의 길이와 구간 $[0,2\\pi)$의 모든 무리수 집합의 길이를 다르게 정의하는 신기한 방식을 사용하는데, 이러한 방식을 납득하기 위한 최소한의 노력으로 \"셀 수 있는 무한\"과 \"셀 수 없는 무한\"의 개념을 공부했다. \n",
    "- 하지만 르벡메져를 통해서도 $\\Omega$의 모든 부분집합에 대하여 길이를 잴 수 없는 집합^[비탈리집합]이 존재함이 밝혀졌다. \n",
    "- 따라서 **$\\Omega$의 모든 부분집합에 대해서 확률을 \"무모순\"으로 정의**하는 일은 포기하였다. \n",
    "- 대신에 **$\\Omega$의 부분집합 중, 잴 수 있는 집합들에 대해서만 확률을 \"무모순\"으로 정의**하는 일을 시도했다. \n",
    "- 이 잴 수 있는 집합들의 모임을 시그마필드라 칭하고 기호로는 ${\\cal F}$라고 정의하였다. "
   ]
  },
  {
   "cell_type": "markdown",
   "id": "c90c0da6-68f3-45c1-8dd6-df21e7967af6",
   "metadata": {
    "id": "c90c0da6-68f3-45c1-8dd6-df21e7967af6"
   },
   "source": [
    "`-` 이제 하고 싶은 것 "
   ]
  },
  {
   "cell_type": "markdown",
   "id": "6111ca1a-801d-4545-91af-a18e57f57f26",
   "metadata": {
    "id": "6111ca1a-801d-4545-91af-a18e57f57f26"
   },
   "source": [
    "> 시그마필드에서 확률을 정의하자! $\\Leftrightarrow$ 시그마필드를 정의역으로 하는 \"확률\"이라는 이름의 함수(메저,프로버빌리티,,)ㅡ를 정의하자. "
   ]
  },
  {
   "cell_type": "markdown",
   "id": "91826162-f22d-424d-9721-0e933d989359",
   "metadata": {
    "id": "91826162-f22d-424d-9721-0e933d989359"
   },
   "source": [
    "# 확률측도 motivation "
   ]
  },
  {
   "cell_type": "markdown",
   "id": "1e024c64-061b-4612-8324-54c8d24d709f",
   "metadata": {
    "id": "1e024c64-061b-4612-8324-54c8d24d709f"
   },
   "source": [
    "**(예제1)** -- 시그마필드에서만 확률정의가능"
   ]
  },
  {
   "cell_type": "markdown",
   "id": "fe333418-6f4f-464d-ab5c-444ba3f30bf2",
   "metadata": {
    "id": "fe333418-6f4f-464d-ab5c-444ba3f30bf2"
   },
   "source": [
    "$\\Omega=\\{H,T\\}$ 라고 하고 ${\\cal F}=\\{\\emptyset, \\{H\\},\\Omega\\}$ 이라고 하자. 아래와 같은 함수 $P$를 고려하고 이것을 확률이라고 하자. 이러한 확률은 합리적인가? "
   ]
  },
  {
   "cell_type": "markdown",
   "id": "acd4870b-55b1-4a57-a335-6d954d4469e3",
   "metadata": {
    "id": "acd4870b-55b1-4a57-a335-6d954d4469e3"
   },
   "source": [
    "- $P(\\emptyset) = 0$ \n",
    "- $P(\\{H\\}) = \\frac{1}{2}$ \n",
    "- $P(\\Omega) = 1$ "
   ]
  },
  {
   "cell_type": "markdown",
   "id": "3a0a9550-9267-45b6-b17d-01dfcdd6d457",
   "metadata": {
    "id": "3a0a9550-9267-45b6-b17d-01dfcdd6d457"
   },
   "source": [
    "(해설1) ${\\cal F}$는 시그마필드가 아니므로 이 위에서는 애초에 확률을 정의할 수 없음. "
   ]
  },
  {
   "cell_type": "markdown",
   "id": "5e3e6d67-5851-4bec-8e95-c40958995c51",
   "metadata": {
    "id": "5e3e6d67-5851-4bec-8e95-c40958995c51"
   },
   "source": [
    "(해설2) 확률을 잘 정의하기 위해서는 우선 잘 정의된 \"잴 수 있는 공간 $(\\Omega, {\\cal F})$\" 가 필요하다. "
   ]
  },
  {
   "cell_type": "markdown",
   "id": "c84994b5-0c32-4601-bc3b-d662da97eb64",
   "metadata": {
    "id": "c84994b5-0c32-4601-bc3b-d662da97eb64"
   },
   "source": [
    "**(예제2)** -- 잘 정의된 확률"
   ]
  },
  {
   "cell_type": "markdown",
   "id": "6f6fcf04-f1bb-40f8-9268-6f7df05d352c",
   "metadata": {
    "id": "6f6fcf04-f1bb-40f8-9268-6f7df05d352c"
   },
   "source": [
    "$\\Omega=\\{H,T\\}$ 라고 하고 ${\\cal F}=2^{\\Omega}=\\{\\emptyset, \\{H\\}, \\{T\\}, \\Omega\\}$ 이다. 아래와 같은 함수 $P$를 고려하고 이를 잴 수 있는 공간 $(\\Omega,{\\cal F})$ 에서의 확률이라고 하자. 이러한 확률은 합리적인가? "
   ]
  },
  {
   "cell_type": "markdown",
   "id": "2774f900-5bdf-4b4d-872c-44059dd4766e",
   "metadata": {
    "id": "2774f900-5bdf-4b4d-872c-44059dd4766e"
   },
   "source": [
    "- $P(\\emptyset) = 0$ \n",
    "- $P(\\{H\\}) = \\frac{1}{100}$ \n",
    "- $P(\\{T\\}) = \\frac{99}{100}$ \n",
    "- $P(\\Omega) = 1$ "
   ]
  },
  {
   "cell_type": "markdown",
   "id": "473f2c0c-5933-4b9f-8a8f-2b60dda19004",
   "metadata": {
    "id": "473f2c0c-5933-4b9f-8a8f-2b60dda19004"
   },
   "source": [
    "(해설) 합리적임."
   ]
  },
  {
   "cell_type": "markdown",
   "id": "8439265a-0fe5-46cc-91ee-786d21edefa0",
   "metadata": {
    "id": "8439265a-0fe5-46cc-91ee-786d21edefa0"
   },
   "source": [
    "**(예제3)** -- 확률은 0보다 커야해."
   ]
  },
  {
   "cell_type": "markdown",
   "id": "1d5bfe5d-a97e-42b6-b243-edaf3e44690d",
   "metadata": {
    "id": "1d5bfe5d-a97e-42b6-b243-edaf3e44690d"
   },
   "source": [
    "$\\Omega=\\{H,T\\}$ 라고 하고 ${\\cal F}=2^{\\Omega}$ 이다. 아래와 같은 함수 $P$를 고려하고 이를 잴 수 있는 공간 $(\\Omega,{\\cal F})$ 에서의 확률이라고 하자. 이러한 확률은 합리적인가? "
   ]
  },
  {
   "cell_type": "markdown",
   "id": "7a9fccce-322e-45a0-bb84-bc29398b0f8e",
   "metadata": {
    "id": "7a9fccce-322e-45a0-bb84-bc29398b0f8e"
   },
   "source": [
    "- $P(\\emptyset) = 0$ \n",
    "- $P(\\{H\\}) = -\\frac{1}{2}$ \n",
    "- $P(\\{T\\}) = \\frac{1}{2}$ \n",
    "- $P(\\Omega) = 1$ "
   ]
  },
  {
   "cell_type": "markdown",
   "id": "4c6503d2-7a3c-43b5-b900-f70d4014517d",
   "metadata": {
    "id": "4c6503d2-7a3c-43b5-b900-f70d4014517d"
   },
   "source": [
    "(해설) 확률은 음수가 나오면 안되므로 합리적이지 않음. "
   ]
  },
  {
   "cell_type": "markdown",
   "id": "fbca0189-f62b-41dc-b1a5-20d992435df8",
   "metadata": {
    "id": "fbca0189-f62b-41dc-b1a5-20d992435df8"
   },
   "source": [
    "**(예제4)** -- 전체확률은 1이어야 함. "
   ]
  },
  {
   "cell_type": "markdown",
   "id": "f8139a3b-43fa-49f5-a8ee-f7506285d2a5",
   "metadata": {
    "id": "f8139a3b-43fa-49f5-a8ee-f7506285d2a5"
   },
   "source": [
    "$\\Omega=\\{H,T\\}$ 라고 하고 ${\\cal F}=\\{\\emptyset, \\Omega\\}$ 이다. 아래와 같은 함수 $P:{\\cal F} \\to [0,1]$를 고려하고 이를 잴 수 있는 공간 $(\\Omega,{\\cal F})$ 에서의 확률이라고 하자. 이러한 확률은 합리적인가? "
   ]
  },
  {
   "cell_type": "markdown",
   "id": "985e5b16-0703-4399-ab75-a28673772bf8",
   "metadata": {
    "id": "985e5b16-0703-4399-ab75-a28673772bf8"
   },
   "source": [
    "- $P(\\emptyset) = 0$ \n",
    "- $P(\\Omega) = 0.5$ "
   ]
  },
  {
   "cell_type": "markdown",
   "id": "0a7ebbce-5ab1-459d-9eff-b3705790323f",
   "metadata": {
    "id": "0a7ebbce-5ab1-459d-9eff-b3705790323f"
   },
   "source": [
    "(해설) 전체확률은 1이어야 하므로 합리적이지 않음. "
   ]
  },
  {
   "cell_type": "markdown",
   "id": "4e2e65a2-e39c-4a76-8ecc-cf2d4e9f0db1",
   "metadata": {
    "id": "4e2e65a2-e39c-4a76-8ecc-cf2d4e9f0db1"
   },
   "source": [
    "**(예제5)** -- 공집합의 확률은 0이어야 함. "
   ]
  },
  {
   "cell_type": "markdown",
   "id": "0694a35a-6921-41d9-bb53-f397d4612db3",
   "metadata": {
    "id": "0694a35a-6921-41d9-bb53-f397d4612db3"
   },
   "source": [
    "$\\Omega=\\{H,T\\}$ 라고 하고 ${\\cal F}=\\{\\emptyset, \\Omega\\}$ 이다. 아래와 같은 함수 $P:{\\cal F} \\to [0,1]$를 고려하고 이를 잴 수 있는 공간 $(\\Omega,{\\cal F})$ 에서의 확률이라고 하자. 이러한 확률은 합리적인가? "
   ]
  },
  {
   "cell_type": "markdown",
   "id": "e5015343-e44f-4903-8b76-668057dbbb01",
   "metadata": {
    "id": "e5015343-e44f-4903-8b76-668057dbbb01"
   },
   "source": [
    "- $P(\\emptyset) = 0.5$ \n",
    "- $P(\\Omega) = 1$ "
   ]
  },
  {
   "cell_type": "markdown",
   "id": "a35973c9-68d8-4fba-8606-6b491871f25e",
   "metadata": {
    "id": "a35973c9-68d8-4fba-8606-6b491871f25e"
   },
   "source": [
    "(해설) 공집합의 확률은 0이어야 하므로 합리적이지 않음. "
   ]
  },
  {
   "cell_type": "markdown",
   "id": "5860819c-2af3-438b-b450-d58a03395607",
   "metadata": {
    "id": "5860819c-2af3-438b-b450-d58a03395607"
   },
   "source": [
    "**(예제6)** -- 서로소인 집합을 합친 확률, 여집합의 확률"
   ]
  },
  {
   "cell_type": "markdown",
   "id": "83d9e37b-44f7-4e03-a322-feef5385823b",
   "metadata": {
    "id": "83d9e37b-44f7-4e03-a322-feef5385823b"
   },
   "source": [
    "$\\Omega=\\{H,T\\}$ 라고 하고 ${\\cal F}=\\{\\emptyset, \\{H\\}, \\{T\\}, \\Omega\\}$ 이다. 아래와 같은 함수 $P:{\\cal F} \\to [0,1]$를 고려하고 이를 잴 수 있는 공간 $(\\Omega,{\\cal F})$ 에서의 확률이라고 하자. 이러한 확률은 합리적인가? "
   ]
  },
  {
   "cell_type": "markdown",
   "id": "b8af976e-be3c-4f8b-ad3f-a7458ba30847",
   "metadata": {
    "id": "b8af976e-be3c-4f8b-ad3f-a7458ba30847"
   },
   "source": [
    "- $P(\\emptyset) = 0$ \n",
    "- $P(\\{H\\}) = 1/3$\n",
    "- $P(\\{T\\}) = 1/3$\n",
    "- $P(\\Omega) = 1$ "
   ]
  },
  {
   "cell_type": "markdown",
   "id": "c5c55f06-78ce-48f8-8ad9-30efe9030ee7",
   "metadata": {
    "id": "c5c55f06-78ce-48f8-8ad9-30efe9030ee7"
   },
   "source": [
    "(해설1) 합리적이지 않음. 왜냐하면 "
   ]
  },
  {
   "cell_type": "markdown",
   "id": "07004e4e-a06e-4c98-bd0d-aa4c017063d5",
   "metadata": {
    "id": "07004e4e-a06e-4c98-bd0d-aa4c017063d5"
   },
   "source": [
    "- $P(\\{H\\}\\cup \\{T\\})=P(\\Omega)=1$\n",
    "- $P(\\{H\\}\\cup \\{T\\})=P(\\{H\\})+P(\\{T\\})=2/3$"
   ]
  },
  {
   "cell_type": "markdown",
   "id": "3b912804-0c3c-454b-b711-8fcf0f11ee54",
   "metadata": {
    "id": "3b912804-0c3c-454b-b711-8fcf0f11ee54"
   },
   "source": [
    "이므로 모순임. "
   ]
  },
  {
   "cell_type": "markdown",
   "id": "d5a6e3c7-ecaf-4eb5-99d8-2e12247db93e",
   "metadata": {
    "id": "d5a6e3c7-ecaf-4eb5-99d8-2e12247db93e"
   },
   "source": [
    "(해설2) 합리적이지 않음. 왜냐하면 \n",
    "\n",
    "- $P(\\Omega-\\{H\\})=P(\\{T\\})=1/3$\n",
    "- $P(\\Omega-\\{H\\})=1-P(\\{H\\})=2/3$\n",
    "\n",
    "이므로 모순임. "
   ]
  },
  {
   "cell_type": "markdown",
   "id": "5deca2f0-aca4-4d5a-8acb-c10cca347ee2",
   "metadata": {
    "id": "5deca2f0-aca4-4d5a-8acb-c10cca347ee2"
   },
   "source": [
    "**(예제7)** -- 포함관계에 있는 집합의 확률 "
   ]
  },
  {
   "cell_type": "markdown",
   "id": "2dbc0c0c-3a0f-44ae-829e-2be432458223",
   "metadata": {
    "id": "2dbc0c0c-3a0f-44ae-829e-2be432458223"
   },
   "source": [
    "$\\Omega=\\{1,2,3\\}$ 라고 하고 \n",
    "\n",
    "$${\\cal F}=\\{\\emptyset, \\{1\\}, \\{2\\}, \\{3\\}, \\{1,2\\}, \\{1,3\\}, \\{2,3\\}, \\Omega\\}$$ \n",
    "\n",
    "라고 하자. 아래와 같은 함수 $P:{\\cal F} \\to [0,1]$를 고려하고 이를 잴 수 있는 공간 $(\\Omega,{\\cal F})$ 에서의 확률이라고 하자. 이러한 확률은 합리적인가? "
   ]
  },
  {
   "cell_type": "markdown",
   "id": "bebfcb8e-1413-4310-8165-57805c41c268",
   "metadata": {
    "id": "bebfcb8e-1413-4310-8165-57805c41c268"
   },
   "source": [
    "- $P(\\emptyset) = 0$ \n",
    "- $P(\\{1\\}) = 1/4$\n",
    "- $P(\\{2\\}) = 1/4$\n",
    "- $P(\\{3\\}) = 2/4$ \n",
    "- $P(\\{1,2\\}) = 2/4$ \n",
    "- $P(\\{1,3\\}) = 3/4$ \n",
    "- $P(\\{2,3\\}) = 1/4$ \n",
    "- $P(\\Omega) = 1$ \n"
   ]
  },
  {
   "cell_type": "markdown",
   "id": "272fba91-dd18-4a94-821b-8b097c15b9a3",
   "metadata": {
    "id": "272fba91-dd18-4a94-821b-8b097c15b9a3"
   },
   "source": [
    "(해설1) 합리적이지 않음. 왜냐하면 "
   ]
  },
  {
   "cell_type": "markdown",
   "id": "4fb4cf06-749c-420f-a471-df33287bfabb",
   "metadata": {
    "id": "4fb4cf06-749c-420f-a471-df33287bfabb"
   },
   "source": [
    "- $P(\\{2\\}\\cup \\{3\\})=P(\\{2,3\\})=1/4$\n",
    "- $P(\\{2\\}\\cup \\{3\\})=P(\\{2\\})+P(\\{3\\})=3/4$"
   ]
  },
  {
   "cell_type": "markdown",
   "id": "e15f0535-e2ca-4d9e-bbf5-f1a0ab7b2cc8",
   "metadata": {
    "id": "e15f0535-e2ca-4d9e-bbf5-f1a0ab7b2cc8"
   },
   "source": [
    "이므로 모순임. "
   ]
  },
  {
   "cell_type": "markdown",
   "id": "c57d8545-1a48-4ea6-8da0-906d48e5790c",
   "metadata": {
    "id": "c57d8545-1a48-4ea6-8da0-906d48e5790c"
   },
   "source": [
    "(해설2) 합리적이지 않음. 왜냐하면 "
   ]
  },
  {
   "cell_type": "markdown",
   "id": "6201934c-cb7b-4bac-87e2-382f1b9a2a41",
   "metadata": {
    "id": "6201934c-cb7b-4bac-87e2-382f1b9a2a41"
   },
   "source": [
    "- $\\{3\\} \\subset \\{2,3\\}$ \n",
    "- $P(\\{3\\}) \\geq P(\\{2,3\\})$"
   ]
  },
  {
   "cell_type": "markdown",
   "id": "f72ee2ee-4192-40a8-862c-7a9da6f46e9d",
   "metadata": {
    "id": "f72ee2ee-4192-40a8-862c-7a9da6f46e9d"
   },
   "source": [
    "이므로 $A \\subset B \\Rightarrow P(A) \\leq P(B)$ 가 성립하지 않음. "
   ]
  },
  {
   "cell_type": "markdown",
   "id": "eef7c6f3-9feb-48d6-8694-32e8b8cda096",
   "metadata": {
    "id": "eef7c6f3-9feb-48d6-8694-32e8b8cda096"
   },
   "source": [
    "(기타등등 해설) "
   ]
  },
  {
   "cell_type": "markdown",
   "id": "568205b8-4557-457f-9bcf-46b7a6b4b20a",
   "metadata": {
    "id": "568205b8-4557-457f-9bcf-46b7a6b4b20a"
   },
   "source": [
    "$P(\\{2,3\\}^c) \\ ,\\  P(\\{1\\}\\cup \\{2,3\\})$ 따위를 계산해도 모순임 "
   ]
  },
  {
   "cell_type": "markdown",
   "id": "f35c4005-26b5-4a1b-b279-58f47b81ecdc",
   "metadata": {
    "id": "f35c4005-26b5-4a1b-b279-58f47b81ecdc"
   },
   "source": [
    "***생각의 시간*** "
   ]
  },
  {
   "cell_type": "markdown",
   "id": "d64ccb88-c2fb-440c-a753-84fd2207daaf",
   "metadata": {
    "id": "d64ccb88-c2fb-440c-a753-84fd2207daaf"
   },
   "source": [
    "`-` 확률이라는 것을 구체적으로 정의하지는 않았지만 적어도 현재까지 파악한 직관에 의하면 아래와 같은 조건을 만족하는 함수라고 \"일단은\" 생각할 수 있다. \n",
    "\n",
    "1. 확률 $P$는 시그마필드에서 정의되어야 한다. 따라서 확률이라는 말을 하기 전에 우선 \"$\\Omega$에 대한 ${\\cal F}$\"를 정의하거나 \"잴 수 있는 공간 $(\\Omega, {\\cal F})$\"을 정의해야 한다. \n",
    "2. 확률 $P$는 0보다 크고 1보다 작아야 한다. \n",
    "3. 전체확률은 항상 1이어야 한다. 즉 $P(\\Omega)=1$ 이어야 한다. // (이게 5번과 결합하면 공집합일 확률이 0이어야 한다는 것을 암시한다)\n",
    "4. 서로소인 두 집합 $A,B$에 대하여 확률 $P(A\\cup B)$는 $P(A)+P(B)$와 같이 계산 되어야 한다. \n",
    "5. $P(A^c)=1-P(A)$ 가 성립해야 한다. \n",
    "6. 포함관계에 있는 두 집합 $A\\subset B$에 대하여 $P(A)\\leq P(B)$가 항상 성립해야 한다. \n"
   ]
  },
  {
   "cell_type": "markdown",
   "id": "be39176d-3b27-4d5a-ab35-98450d16bb92",
   "metadata": {
    "id": "be39176d-3b27-4d5a-ab35-98450d16bb92"
   },
   "source": [
    "`-` 또한 아래와 같은 성질도 있어야 할 것 같다. (혹은 있었으면 좋겠다) \n",
    "\n",
    "7. 서로소인 집합열 $B_1,B_2,\\dots$ 에 대하여 $P(\\cup_{i=1}^{\\infty} B_i) = \\sum_{i=1}^{\\infty}P(B_i)$ 가 성립하면 좋겠다. (4번의 업그레이드 버전)\n",
    "8. $P(A\\cup B)= P(A) + P(B) - P(A\\cap B)$ 등을 포함한 기타 잡스러운 성질들도 모두 성립하면 좋겠다. "
   ]
  },
  {
   "cell_type": "markdown",
   "id": "de1a3896-78af-4e87-9e27-011af21985d6",
   "metadata": {
    "id": "de1a3896-78af-4e87-9e27-011af21985d6"
   },
   "source": [
    "`-` 이제 우리가 따져봐야 할 것은 (1) 확률을 정의하기 위한 조건으로 1-8이면 충분한지 (혹시 더 많은 조건들이 필요한건 아닌지) (2) 위에서 리스팅한 조건들이 꼭 모두 다 필요한지? (예를 들면 한 두개의 조건이 다른조건을 암시하는건 아닌지) 이다. "
   ]
  },
  {
   "cell_type": "markdown",
   "id": "de94bea5-0719-46d9-a72f-47bdc1402724",
   "metadata": {
    "id": "de94bea5-0719-46d9-a72f-47bdc1402724"
   },
   "source": [
    "`-` 결론적으로는 말하면 1,2,3,7만 있으면 충분하다. "
   ]
  },
  {
   "cell_type": "markdown",
   "id": "79ff65c4-9937-43f2-8d3b-fe397f543a11",
   "metadata": {
    "id": "79ff65c4-9937-43f2-8d3b-fe397f543a11"
   },
   "source": [
    "`-` 연습1: $(3),(4) \\Rightarrow (5)$ 임을 보여라. "
   ]
  },
  {
   "cell_type": "markdown",
   "id": "a808f2da-526b-4522-aeae-4aacfb70f5be",
   "metadata": {},
   "source": [
    "$P(A \\cup A^c)=P(\\Omega)=P(A) + P(A^c)$\n",
    "\n",
    "즉, $1=P(A)+P(A^c)$"
   ]
  },
  {
   "cell_type": "markdown",
   "id": "ce543574-1465-4f25-a8f9-41e833d46fed",
   "metadata": {
    "id": "ce543574-1465-4f25-a8f9-41e833d46fed"
   },
   "source": [
    "`-` 연습2: $(2),(4) \\Rightarrow (6)$ 임을 보여라. "
   ]
  },
  {
   "cell_type": "markdown",
   "id": "332c4504-76c9-4911-b76e-8a86da5dd708",
   "metadata": {},
   "source": [
    "$A\\subset B \\to B=A \\cup (B-A) \\to B=A \\cup(B \\cap A^c)$ , 두집합은 서로소이므로\n",
    "\n",
    "$P(B)=P(A)+P(B \\cup A^c) \\geq 0$"
   ]
  },
  {
   "cell_type": "code",
   "execution_count": null,
   "id": "b9d447da-d321-478b-9e01-6fc042294d04",
   "metadata": {},
   "outputs": [],
   "source": []
  },
  {
   "cell_type": "code",
   "execution_count": null,
   "id": "22c204a9-894f-4206-9783-7bf364c17aec",
   "metadata": {},
   "outputs": [],
   "source": []
  },
  {
   "cell_type": "markdown",
   "id": "f9cdb21a-e46b-4c60-a958-be5117dd5646",
   "metadata": {
    "id": "f9cdb21a-e46b-4c60-a958-be5117dd5646"
   },
   "source": [
    "# 확률측도의 정의 "
   ]
  },
  {
   "cell_type": "markdown",
   "id": "ba967a91-6662-47e9-88d4-f055de4b4221",
   "metadata": {
    "id": "ba967a91-6662-47e9-88d4-f055de4b4221"
   },
   "source": [
    "`-` 확률의 정의: 메져(measure)는 길이따위를 일반화한 개념이다. 확률은 메져의 특수한 형태이다.^[메져의 조건에서 전체집합의 길이가 1이라는 제약만 있음]메져와 확률은 아래와 같이 정의한다."
   ]
  },
  {
   "cell_type": "markdown",
   "id": "e321c92a-7ba1-4ad6-a54d-ca8133a1db9d",
   "metadata": {
    "id": "e321c92a-7ba1-4ad6-a54d-ca8133a1db9d"
   },
   "source": [
    "![그림1: Durret책에서 정의한 measure와 probability measure의 정의, 드래그한 부분이 정의임.](https://guebin.github.io/AP2023/posts/I.%20Measure%20Theory/2023-03-28-4wk_files/figure-html/e321c92a-7ba1-4ad6-a54d-ca8133a1db9d-1-2e3b6cdd-8339-4938-9606-9ceb390e6459.png)"
   ]
  },
  {
   "cell_type": "markdown",
   "id": "447a3078-016c-4a91-8780-d3b0051b92d0",
   "metadata": {},
   "source": [
    "# `조건`\n",
    "\n",
    "1. 시그마필드에서 정의되어야 한다.\n",
    "2. 양수이어야 한다.\n",
    "3. 전체 확률=1\n",
    "4. 합집합=더한거"
   ]
  },
  {
   "cell_type": "markdown",
   "id": "152b1157-f8fa-4232-9be0-96ab174ade03",
   "metadata": {
    "id": "152b1157-f8fa-4232-9be0-96ab174ade03"
   },
   "source": [
    "`-` 교재의 정의 약간 설명 \n",
    "\n",
    "- 교재에서는 일반적인 측도 $\\mu$를 설명하고 전체집합의 길이가 1인 측도를 확률측도 $P$라고 한다고 설명하고 있다. 따라서 교재의 $\\mu$는 문맥상 $P$로 바꾸어 이해해도 무방함. \n",
    "- 교재에서 $\\mu$는 잴 수 있는 공간 $(\\Omega,{\\cal F})$에서 정의한다고 서술하고 있으며 이는 우리가 이미 살펴본 조건 `1`과 일치한다. \n",
    "- 교재에서 $\\mu:{\\cal F} \\to \\mathbb{R}$이라고 서술되어 있는데 우리의 경우는 $P:{\\cal F} \\to [0,1]$로 바꾸어 이해하면 된다. "
   ]
  },
  {
   "cell_type": "markdown",
   "id": "1507da98-c9b0-456d-a4ed-fe70ff76f5d5",
   "metadata": {
    "id": "1507da98-c9b0-456d-a4ed-fe70ff76f5d5"
   },
   "source": [
    "`-` 사실 잘 따져보면 이것은 우리가 위키에서 찾아본 확률의 공리도 결국 같은 소리를 하고 있다. "
   ]
  },
  {
   "cell_type": "markdown",
   "id": "194d78d7-1dd8-4826-9269-e545077c12a3",
   "metadata": {
    "id": "194d78d7-1dd8-4826-9269-e545077c12a3"
   },
   "source": [
    "![그림2: 확률의 공리](https://guebin.github.io/AP2023/posts/I.%20Measure%20Theory/2023-03-28-4wk_files/figure-html/194d78d7-1dd8-4826-9269-e545077c12a3-1-image.png)"
   ]
  },
  {
   "cell_type": "markdown",
   "id": "aa9509f9-fc97-4d3c-b019-a407c5507b6c",
   "metadata": {
    "id": "aa9509f9-fc97-4d3c-b019-a407c5507b6c"
   },
   "source": [
    "`-` 확률의 정의: 확률은 잴 수 있는 공간 $(\\Omega, {\\cal F})$가 전제되었을 경우 정의 할 수 있는 일종의 함수 $P:{\\cal F} \\to [0,1]$ 인데, 아래의 조건을 만족해야 한다. // 위키버전\n",
    "\n",
    "1. 확률은 항상 양수이어야 하며,\n",
    "2. 전체 확률은 1이어야 하며, (그리고 이것은 공집합일 확률이 0임을 암시함)\n",
    "3. $\\sigma$-additivity가 성립해야 한다. "
   ]
  },
  {
   "cell_type": "markdown",
   "id": "3c961b63-decd-4124-ac28-038167eec362",
   "metadata": {
    "id": "3c961b63-decd-4124-ac28-038167eec362"
   },
   "source": [
    "`-` 메져의 정의: 메져는 잴 수 있는 공간 $(\\Omega, {\\cal F})$가 전제되었을 경우 정의 할 수 있는 일종의 함수 $m: {\\cal F} \\to [0,\\infty]$인데, 아래의 조건을 만족해야 한다. \n",
    "\n",
    "1. 메저는 항상 양수이어야 하며, \n",
    "2. 공집합은 메져가 0이어야 하며, \n",
    "3. $\\sigma$-additivity가 성립해야 한다. "
   ]
  },
  {
   "cell_type": "markdown",
   "id": "65d15246-395e-4e52-a81f-3bd03c5ba215",
   "metadata": {
    "id": "65d15246-395e-4e52-a81f-3bd03c5ba215"
   },
   "source": [
    "# 귀찮아서 만든 이론들 ($\\star$)"
   ]
  },
  {
   "cell_type": "markdown",
   "id": "4d117d6a-19ea-44db-bdc3-4074f915e267",
   "metadata": {
    "id": "4d117d6a-19ea-44db-bdc3-4074f915e267"
   },
   "source": [
    "## 상황1: 시그마필드 구하기 귀찮아"
   ]
  },
  {
   "cell_type": "markdown",
   "id": "4330c9ae-16ce-4f03-9cc9-8720cd1a2f2c",
   "metadata": {
    "id": "4330c9ae-16ce-4f03-9cc9-8720cd1a2f2c"
   },
   "source": [
    "**(예제1)**"
   ]
  },
  {
   "cell_type": "markdown",
   "id": "1227ad1b-d696-4fac-a4ce-fab0ae410fcf",
   "metadata": {
    "id": "1227ad1b-d696-4fac-a4ce-fab0ae410fcf"
   },
   "source": [
    "`-` $\\Omega=\\{1,2,3,4\\}$이라고 하자. 내가 관심있는 event의 모음은 아래와 같다. \n",
    "\n",
    "$${\\cal A} = \\{\\{1\\},\\{2\\}\\}$$"
   ]
  },
  {
   "cell_type": "markdown",
   "id": "9e167ae7-5747-4b7f-8631-fd47d0eb8b9a",
   "metadata": {
    "id": "9e167ae7-5747-4b7f-8631-fd47d0eb8b9a"
   },
   "source": [
    "`-` 당연히 이러한 이벤트에 대해서만 적절한 확률을 정의하면 좋겠는데, 이는 불가능 하다. 왜냐하면 ${\\cal A}$는 시그마필드가 아니기 때문이다. "
   ]
  },
  {
   "cell_type": "markdown",
   "id": "5c5f3344-5f8b-46ea-afe6-03706f460762",
   "metadata": {
    "id": "5c5f3344-5f8b-46ea-afe6-03706f460762"
   },
   "source": [
    "`-` 따라서 할 수 없이 아래와 같은 방식으로 시그마필드를 구해야 했다. "
   ]
  },
  {
   "cell_type": "markdown",
   "id": "d7c5c735-0f82-4116-b706-4304b28ee4c9",
   "metadata": {
    "id": "d7c5c735-0f82-4116-b706-4304b28ee4c9"
   },
   "source": [
    "$${\\cal F} = \\big\\{\\emptyset, \\{1\\}, \\{2\\}, \\{1,2\\}, \\{3,4\\}, \\{1,3,4\\}, \\{2,3,4\\}, \\Omega \\big\\}$$"
   ]
  },
  {
   "cell_type": "markdown",
   "id": "affa2047-6ee5-459f-9c24-d2e19a590e9e",
   "metadata": {
    "id": "affa2047-6ee5-459f-9c24-d2e19a590e9e"
   },
   "source": [
    "`-` 이러한 ${\\cal F}$를 구하기는 것은 귀찮은 일인데, 이를 편리하게 해결하기 위해서 $\\sigma({\\cal A})$라는 기호를 도입하고 이를 \"$\\{1\\}$, $\\{2\\}$를 원소로 가지는 최소한의 ${\\cal F}$\" 라고 생각 하기로 하였다. 즉 앞으로는 "
   ]
  },
  {
   "cell_type": "markdown",
   "id": "cb4b8f6d-5e1c-4120-8c97-5de6acaca6e4",
   "metadata": {
    "id": "cb4b8f6d-5e1c-4120-8c97-5de6acaca6e4"
   },
   "source": [
    "$$\\sigma({\\cal A})$$ "
   ]
  },
  {
   "cell_type": "markdown",
   "id": "55ad0538-220f-4e9e-874c-c35429c8e10c",
   "metadata": {
    "id": "55ad0538-220f-4e9e-874c-c35429c8e10c"
   },
   "source": [
    "라고만 써도 위에서 명시한 ${\\cal F}$를 의미한다고 알아서 생각하면 된다는 것이다. "
   ]
  },
  {
   "cell_type": "markdown",
   "id": "4eccc98e-d35f-4f39-a208-26ac7cef4101",
   "metadata": {
    "id": "4eccc98e-d35f-4f39-a208-26ac7cef4101"
   },
   "source": [
    "`걱정`: 문제는 이러한 논리전개가 항상 가능하냐는 것이다. "
   ]
  },
  {
   "cell_type": "markdown",
   "id": "fad638c5-753f-4cce-8180-7af88041503a",
   "metadata": {
    "id": "fad638c5-753f-4cce-8180-7af88041503a"
   },
   "source": [
    "> 귀찮아서 만든 이론1: 걱정할 필요 없다. \n",
    "\n",
    "> 언제나 $\\sigma({\\cal A})$라는 표현은 가능하다. \n",
    "\n",
    "> 즉 $\\Omega$의 임의의 부분집합에 대하여 우리가 관심있는 집합만 모은 것을 ${\\cal A}$라고 할때, \n",
    "\n",
    "> ${\\cal A}$의 모든 원소를 포함하고 시그마필드의 정의를 만족하는 최소한의 시그마필드 $\\sigma({\\cal A})$는 항상 존재한다. "
   ]
  },
  {
   "cell_type": "markdown",
   "id": "da6c9bd5-8c7a-4bb0-b976-30ec9c512e12",
   "metadata": {
    "id": "da6c9bd5-8c7a-4bb0-b976-30ec9c512e12"
   },
   "source": [
    "**(예제2)**"
   ]
  },
  {
   "cell_type": "markdown",
   "id": "b1434942-8bb0-4449-ac30-840d99af50e8",
   "metadata": {
    "id": "b1434942-8bb0-4449-ac30-840d99af50e8"
   },
   "source": [
    "$\\Omega = \\mathbb{R}$ 이라고 하자. 이중에서 우리가 관심있는 집합들은 르벡메져로 길이를 명확하게 잴 수 있는 아래와 같은 형태이다. "
   ]
  },
  {
   "cell_type": "markdown",
   "id": "56156c91-a7e3-498b-9be3-0ca05fce9d35",
   "metadata": {
    "id": "56156c91-a7e3-498b-9be3-0ca05fce9d35"
   },
   "source": [
    "$$[a,b]$$"
   ]
  },
  {
   "cell_type": "markdown",
   "id": "4cb57d84-36d6-41e4-8796-561a7001f3f0",
   "metadata": {
    "id": "4cb57d84-36d6-41e4-8796-561a7001f3f0"
   },
   "source": [
    "여기에서 $a,b \\in \\mathbb{R}$, $a<b$ 이라고 하자. 따라서 이 경우 ${\\cal A}$를 아래와 같이 설정할 수 있다. \n",
    "\n",
    "$${\\cal A} = \\big\\{[a,b]: a,b \\in \\mathbb{R}, a<b \\big\\}$$"
   ]
  },
  {
   "cell_type": "markdown",
   "id": "2a4c29ae-acbb-497e-a9b9-dc4bbfe1d9bf",
   "metadata": {
    "id": "2a4c29ae-acbb-497e-a9b9-dc4bbfe1d9bf"
   },
   "source": [
    "이제 $\\sigma({\\cal A})$를 상상하자. 이는 $\\Omega=\\mathbb{R}$에서 잴 수 있는 집합들의 모임이다. 편의상 $\\sigma({\\cal A}):={\\cal R}$로 정의하자. 여기에서 ${\\cal R}$ 상당히 많은 케이스를 포함하는 집합이다. 예를들면 아래와 같은 집합들은 모두 ${\\cal R}$의 원소이다. (즉 아래의 집합은 $[a,b]$를 잴 수 있다고 할때, 당연히 잴 수 있다고 여겨지는 집합들이다.)"
   ]
  },
  {
   "cell_type": "markdown",
   "id": "368776d7-5eae-45e0-b21c-a56f1df5ee84",
   "metadata": {},
   "source": [
    "- $[0,2)$ \n",
    "\n",
    "$[0,2]$를 잴 수 있고 $[0,5]$를 잴 수 있다면, $[0,5] - [0,2] = [0,2)$도 잴수 있어야 한다.\n",
    "\n",
    "- $\\{2\\}$\n",
    "\n",
    "$[0,5]$ 잴 수 있고, $[0,2]$ 잴 수 있고 $(2,5]$도 잴 수 있다.  위에서 $[0,2)$도 잴 수 있었는데, $[0,2) \\cup (2,5]$ 도 잴수 있다.\n",
    "\n",
    "즉, $[0,5]$ - $[0,2) \\cup (2,5]$ 를 한 $\\{2\\}$도 잴 수 있음\n",
    "\n",
    "- $(0,2)$\n",
    "\n",
    "- $[0,\\infty)$, $(0,\\infty)$\n",
    "\n",
    "- $(-\\infty,0)$, $(-\\infty,0]$ 위의 여집합\n",
    "\n",
    "- $[1,2] \\cup [3,4]$\n",
    "\n",
    "- $(1,2] \\cup [3,4)$\n",
    "\n",
    "- $\\mathbb{N}$, $\\mathbb{Z}$, $\\mathbb{Q}$\n",
    "\n",
    "- $[0,2] \\cap \\mathbb{Q}$"
   ]
  },
  {
   "cell_type": "code",
   "execution_count": null,
   "id": "a7d2395f-838e-43cf-b5d5-92b9ced0c66d",
   "metadata": {},
   "outputs": [],
   "source": []
  },
  {
   "cell_type": "markdown",
   "id": "25c86f73-84a5-463c-a814-5b4496c438ac",
   "metadata": {
    "id": "25c86f73-84a5-463c-a814-5b4496c438ac"
   },
   "source": [
    "> 사실상 ${\\cal R}=\\sigma({\\cal A})$와 같은 기호가 없다면 $\\mathbb{R}$에서 잴 수 있는 집합들의 모임은 명시적으로 쓰는 것 자체가 불가능함. "
   ]
  },
  {
   "cell_type": "markdown",
   "id": "14ea3c22-6930-495f-946d-e4861514132c",
   "metadata": {
    "id": "14ea3c22-6930-495f-946d-e4861514132c"
   },
   "source": [
    "## 상황2: 확률 정의하기 귀찮아 "
   ]
  },
  {
   "cell_type": "markdown",
   "id": "abac5089-4f03-4353-9cb0-1addc8d8546e",
   "metadata": {
    "id": "abac5089-4f03-4353-9cb0-1addc8d8546e"
   },
   "source": [
    "**(예제1)** -- motivating EX"
   ]
  },
  {
   "cell_type": "markdown",
   "id": "9ac6034e-e845-4e03-a54f-0035e057e1c7",
   "metadata": {
    "id": "9ac6034e-e845-4e03-a54f-0035e057e1c7"
   },
   "source": [
    "`-` $\\Omega=\\{1,2,3,4\\}$이라고 하자. 내가 관심있는 집합의 모음은 아래와 같다. \n",
    "\n",
    "$${\\cal A} = \\{\\emptyset, \\{1\\},\\{2\\},\\{3,4\\},\\Omega\\}$$"
   ]
  },
  {
   "cell_type": "markdown",
   "id": "a7c2d6fa-8391-4974-ad94-c42b636bbb8b",
   "metadata": {
    "id": "a7c2d6fa-8391-4974-ad94-c42b636bbb8b"
   },
   "source": [
    "`-` 여기에서 ${\\cal A}$는 시그마필드가 아니다. 따라서 ${\\cal A}$에서는 확률을 정의할 수 없다. 확률을 정의하려면 $\\sigma({\\cal A})$에서 정의해야 한다. "
   ]
  },
  {
   "cell_type": "markdown",
   "id": "66e55b5e-4863-44aa-8efb-65294c466871",
   "metadata": {
    "id": "66e55b5e-4863-44aa-8efb-65294c466871"
   },
   "source": [
    "`-` 소망: 그래도 그냥 ${\\cal A}$에서만 확률 비슷한걸^[정의역이 시그마필드가 아니므로 확률이라고 말할 수 없다] 잘 정의하면 안될까? "
   ]
  },
  {
   "cell_type": "markdown",
   "id": "6700bca1-00e8-4208-bc4c-adbbddfb4bc8",
   "metadata": {
    "id": "6700bca1-00e8-4208-bc4c-adbbddfb4bc8"
   },
   "source": [
    "`-` 희망: 이게 될 것 같다. 예를들면 함수 $\\tilde{P}:{\\cal A} \\to [0,1]$를 아래와 같이 정의하자. \n",
    "\n",
    "- $\\tilde{P}(\\emptyset) = 0$\n",
    "- $\\tilde{P}(\\{1\\}) = 1/4$\n",
    "- $\\tilde{P}(\\{2\\}) = 1/2$\n",
    "- $\\tilde{P}(\\{3,4\\}) = 1/4$\n",
    "- $\\tilde{P}(\\Omega) = 1$\n",
    "\n",
    "이 정도만 정의해보자. $\\tilde{P}$는 정의역이 시그마필드가 아니라는 점만 제외하면 확률의 공리 1,2,3을 따른다. 이렇게 함수 $\\tilde{P}$를 정의하게 되면 "
   ]
  },
  {
   "cell_type": "markdown",
   "id": "fd52e500-fb7e-4c32-bdc6-0a271ed826e6",
   "metadata": {
    "id": "fd52e500-fb7e-4c32-bdc6-0a271ed826e6"
   },
   "source": [
    "$$\\sigma({\\cal A}) = \\big\\{\\emptyset, \\{1\\}, \\{2\\}, \\{1,2\\}, \\{3,4\\}, \\{1,3,4\\}, \\{2,3,4\\}, \\Omega \\big\\}$$"
   ]
  },
  {
   "cell_type": "markdown",
   "id": "b14e8c3b-28e2-4267-9326-e49868fc0f88",
   "metadata": {
    "id": "b14e8c3b-28e2-4267-9326-e49868fc0f88"
   },
   "source": [
    "에서의 확률 $P:\\sigma({\\cal A}) \\to [0,1]$는 확률 비슷한 함수 $\\tilde{P}$를 \"알아서, 잘, 센스있게\" 확장하여 정의할 수 있다. 구체적으로는 아래와 같이 된다. "
   ]
  },
  {
   "cell_type": "markdown",
   "id": "8ed1dced-dd0e-4b3e-88e3-276f551ce464",
   "metadata": {
    "id": "8ed1dced-dd0e-4b3e-88e3-276f551ce464"
   },
   "source": [
    "||$P$|$\\tilde{P}$|\n",
    "|:-:|:-:|:-:|\n",
    "|$\\emptyset$|$0$|$0$|\n",
    "|$\\{1\\}$|$\\frac{1}{4}$ | $\\frac{1}{4}$| \n",
    "|$\\{2\\}$|$\\frac{1}{2}$ | $\\frac{1}{2}$| \n",
    "|$\\{3,4\\}$|$\\frac{1}{4}$ | $\\frac{1}{4}$| \n",
    "|$\\Omega$|$1$ | $1$|\n",
    "|$-$|$-$|$-$|\n",
    "|$\\{1,2\\}$|$\\frac{3}{4}$ | None|\n",
    "|$\\{1,3,4\\}$|$\\frac{1}{2}$ | None|\n",
    "|$\\{2,3,4\\}$|$\\frac{3}{4}$ | None |"
   ]
  },
  {
   "cell_type": "markdown",
   "id": "cbdb6d97-a531-444b-9b0a-5cd814c3318e",
   "metadata": {
    "id": "cbdb6d97-a531-444b-9b0a-5cd814c3318e"
   },
   "source": [
    "**(예제2)** -- motivating EX (2)"
   ]
  },
  {
   "cell_type": "markdown",
   "id": "c150a22a-ce06-4ff5-8033-a61c97bdcb2e",
   "metadata": {
    "id": "c150a22a-ce06-4ff5-8033-a61c97bdcb2e"
   },
   "source": [
    "`-` $\\Omega=\\{1,2,3,4\\}$이라고 하고 ${\\cal A} = \\{\\emptyset, \\{1\\},\\{2\\}, \\{3,4\\}, \\Omega\\}$ 라고 하자. 그리고 아래와 같은 $\\sigma({\\cal A})$를 다시 상상하자. \n",
    "\n",
    "$$\\sigma({\\cal A}) = \\big\\{\\emptyset, \\{1\\}, \\{2\\}, \\{1,2\\}, \\{3,4\\}, \\{1,3,4\\}, \\{2,3,4\\}, \\Omega \\big\\}$$"
   ]
  },
  {
   "cell_type": "markdown",
   "id": "0a80e7ab-2cb3-4149-bf7e-c20022d36c17",
   "metadata": {
    "id": "0a80e7ab-2cb3-4149-bf7e-c20022d36c17"
   },
   "source": [
    "`-` 위의 시그마필드에서 확률을 예제1과 다른 방식으로 정의할 수 도 있다. 예를들면 아래와 같은 방식으로 정의가능하다. "
   ]
  },
  {
   "cell_type": "markdown",
   "id": "ac298d4a-6414-4ecd-950b-b13636bf1e2e",
   "metadata": {
    "id": "ac298d4a-6414-4ecd-950b-b13636bf1e2e"
   },
   "source": [
    "||$P_1$|$\\tilde{P}_1$|\n",
    "|:-:|:-:|:-:|\n",
    "|$\\emptyset$|$0$|$0$|\n",
    "|$\\{1\\}$|$\\frac{1}{3}$ | $\\frac{1}{3}$| \n",
    "|$\\{2\\}$|$\\frac{1}{3}$ | $\\frac{1}{3}$| \n",
    "|$\\{3,4\\}$|$\\frac{1}{3}$ | $\\frac{1}{3}$| \n",
    "|$\\Omega$|$1$ | $1$|\n",
    "|$-$|$-$|$-$|\n",
    "|$\\{1,2\\}$|$\\frac{2}{3}$ | None|\n",
    "|$\\{1,3,4\\}$|$\\frac{2}{3}$ | None|\n",
    "|$\\{2,3,4\\}$|$\\frac{2}{3}$ | None |"
   ]
  },
  {
   "cell_type": "markdown",
   "id": "323d99b2-3e12-4aa8-a607-5774e2f399d9",
   "metadata": {
    "id": "323d99b2-3e12-4aa8-a607-5774e2f399d9"
   },
   "source": [
    "또한 아래와 같은 방식도 가능하다. "
   ]
  },
  {
   "cell_type": "markdown",
   "id": "308f3fd3-415e-419e-8dff-418e837257e3",
   "metadata": {
    "id": "308f3fd3-415e-419e-8dff-418e837257e3"
   },
   "source": [
    "||$P_2$|$\\tilde{P}_2$|\n",
    "|:-:|:-:|:-:|\n",
    "|$\\emptyset$|$0$|$0$|\n",
    "|$\\{1\\}$|$0$ | $0$| \n",
    "|$\\{2\\}$|$0$ | $0$| \n",
    "|$\\{3,4\\}$|$1$ | $1$| \n",
    "|$\\Omega$|$1$ | $1$|\n",
    "|$-$|$-$|$-$|\n",
    "|$\\{1,2\\}$|$0$ | None|\n",
    "|$\\{1,3,4\\}$|$1$ | None|\n",
    "|$\\{2,3,4\\}$|$1$ | None |"
   ]
  },
  {
   "cell_type": "markdown",
   "id": "dda7c657-be3a-4dfb-a102-45030bc5d190",
   "metadata": {
    "id": "dda7c657-be3a-4dfb-a102-45030bc5d190"
   },
   "source": [
    "`-` 어떠한 방식으로 정의하든 ${\\cal A}$에서 확률 비슷한 것 $\\tilde{P}_1,\\tilde{P}_2$를 잘 정의하기만 $\\sigma({\\cal A})$에서의 확률 $P$로 적절하게 확장할 수 있다. 심지어 이런 확장은 유일한 듯 하다. "
   ]
  },
  {
   "cell_type": "markdown",
   "id": "7a0c3c81-606e-4c80-81a9-f486449552b8",
   "metadata": {
    "id": "7a0c3c81-606e-4c80-81a9-f486449552b8"
   },
   "source": [
    "> 귀찮아서 만든 이론2: 운이 좋다면, ${\\cal A}$ 에서 확률의 공리를 만족하는 적당한 함수 $\\tilde{P}:{\\cal A} \\to [0,1]$를 $(\\Omega, \\sigma({\\cal A}))$ 에서의 확률측도 $P$로 업그레이드 할 수 있으며 업그레이드 결과는 유일하다. "
   ]
  },
  {
   "cell_type": "markdown",
   "id": "2cc6d4a4-18db-4e8b-bcc7-a38418565df4",
   "metadata": {
    "id": "2cc6d4a4-18db-4e8b-bcc7-a38418565df4"
   },
   "source": [
    "**(예제3)** -- 운이 안 좋은 경우 "
   ]
  },
  {
   "cell_type": "markdown",
   "id": "98555744-bd38-4774-850d-46740a42298e",
   "metadata": {
    "id": "98555744-bd38-4774-850d-46740a42298e"
   },
   "source": [
    "`-` $\\Omega=\\{1,2,3\\}$ 이라고 하고 ${\\cal A} = \\{\\emptyset, \\{1,2\\},\\{2,3\\}, \\Omega\\}$ 라고 하자. "
   ]
  },
  {
   "cell_type": "markdown",
   "id": "19c87e92-3059-419c-ac3b-984a89d14ede",
   "metadata": {
    "id": "19c87e92-3059-419c-ac3b-984a89d14ede"
   },
   "source": [
    "`-` 아래와 같은 확률 비슷한 함수 $\\tilde{P}:{\\cal A} \\to [0,1]$를 정의하자."
   ]
  },
  {
   "cell_type": "markdown",
   "id": "47ff1195-0340-42a3-8fb2-21997d0730fe",
   "metadata": {
    "id": "47ff1195-0340-42a3-8fb2-21997d0730fe"
   },
   "source": [
    "- $\\tilde{P}(\\emptyset) = 0$\n",
    "- $\\tilde{P}(\\{1,2\\}) = 0$\n",
    "- $\\tilde{P}(\\{2,3\\}) = 0$\n",
    "- $\\tilde{P}(\\Omega) = 1$"
   ]
  },
  {
   "cell_type": "markdown",
   "id": "ab69a7ad-f555-4cbe-8fe7-0a57daf98af0",
   "metadata": {
    "id": "ab69a7ad-f555-4cbe-8fe7-0a57daf98af0"
   },
   "source": [
    "`-` $\\tilde{P}$는 분명히 ${\\cal A}$에서 확률의 공리1-3을 만족한다. "
   ]
  },
  {
   "cell_type": "markdown",
   "id": "1ab55109-d990-479a-8339-2e19a383c952",
   "metadata": {
    "id": "1ab55109-d990-479a-8339-2e19a383c952"
   },
   "source": [
    "`-` 하지만 $\\sigma({\\cal A})$로의 확장은 불가능하다. "
   ]
  },
  {
   "cell_type": "markdown",
   "id": "8d874563-5e61-4c2e-a0f1-d6a7f65983f8",
   "metadata": {},
   "source": [
    "$\\{1,2\\} \\cup \\{2,3\\} =\\{1,2,3\\}$인데 $0+0 \\neq 1$"
   ]
  },
  {
   "cell_type": "markdown",
   "id": "51d972bd-73e5-4303-970f-15996a788a5b",
   "metadata": {
    "id": "51d972bd-73e5-4303-970f-15996a788a5b"
   },
   "source": [
    "**(예제4)** -- 운이 안 좋은 경우 "
   ]
  },
  {
   "cell_type": "markdown",
   "id": "820351d4-b785-4e76-97d4-c14884dede5f",
   "metadata": {
    "id": "820351d4-b785-4e76-97d4-c14884dede5f"
   },
   "source": [
    "`-` $\\Omega=\\{1,2,3,4\\}$ 이라고 하고 ${\\cal A} = \\{\\emptyset, \\{1,2\\},\\{2,3\\}, \\Omega\\}$ 라고 하자. "
   ]
  },
  {
   "cell_type": "markdown",
   "id": "bb661fdb-0ff7-4831-8d94-20d64a4f7b00",
   "metadata": {
    "id": "bb661fdb-0ff7-4831-8d94-20d64a4f7b00"
   },
   "source": [
    "`-` 아래와 같은 확률 비슷한 함수 $\\tilde{P}:{\\cal A} \\to [0,1]$를 정의하자."
   ]
  },
  {
   "cell_type": "markdown",
   "id": "d52d9fa7-6cac-44f1-a203-e04cf881aa61",
   "metadata": {
    "id": "d52d9fa7-6cac-44f1-a203-e04cf881aa61"
   },
   "source": [
    "- $\\tilde{P}(\\emptyset) = 0$\n",
    "- $\\tilde{P}(\\{1,2\\}) = 1/2$\n",
    "- $\\tilde{P}(\\{2,3\\}) = 1/2$\n",
    "- $\\tilde{P}(\\Omega) = 1$"
   ]
  },
  {
   "cell_type": "markdown",
   "id": "3f8ea27e-0757-4b5f-a0e3-18c958313af3",
   "metadata": {
    "id": "3f8ea27e-0757-4b5f-a0e3-18c958313af3"
   },
   "source": [
    "`-` $\\tilde{P}$는 분명히 ${\\cal A}$에서 확률의 공리1-3을 만족한다. "
   ]
  },
  {
   "cell_type": "markdown",
   "id": "398501b7-a1f2-47de-88c5-cd5319f2abf4",
   "metadata": {
    "id": "398501b7-a1f2-47de-88c5-cd5319f2abf4"
   },
   "source": [
    "`-` $\\sigma({\\cal A})$로의 확장도 가능하다. 하지만 유일한 확장을 보장하지 않는다. "
   ]
  },
  {
   "cell_type": "markdown",
   "id": "d152ac10-0bff-4964-b5a4-3514be462954",
   "metadata": {
    "id": "d152ac10-0bff-4964-b5a4-3514be462954"
   },
   "source": [
    "||$P_1$|$P_2$|$\\tilde{P}$\n",
    "|:-:|:-:|:-:|:-:|\n",
    "|$\\emptyset$|$0$|$0$|$0$|\n",
    "|$\\{1,2\\}$|$\\frac{1}{2}$ | $\\frac{1}{2}$| $\\frac{1}{2}$ | \n",
    "|$\\{2,3\\}$|$\\frac{1}{2}$ | $\\frac{1}{2}$| $\\frac{1}{2}$ | \n",
    "|$\\Omega$|$1$ | $1$| $1$\n",
    "|$-$|$-$|$-$|$-$|\n",
    "|$\\{1\\}$|$0$ | $\\frac{1}{2}$| None|\n",
    "|$\\{2\\}$|$\\frac{1}{2}$ | $0$| None|\n",
    "|$\\{3\\}$|$0$ | $\\frac{1}{2}$| None|\n",
    "|$\\{4\\}$|$\\frac{1}{2}$ | $0$| None|\n",
    "|$\\{1,3\\}$|$0$ | $1$| None|\n",
    "|$\\{1,4\\}$|$\\frac{1}{2}$ | $\\frac{1}{2}$| None|\n",
    "|$\\{2,4\\}$|$1$ | $0$| None|\n",
    "|$\\{3,4\\}$|$\\frac{1}{2}$ | $\\frac{1}{2}$| None|\n",
    "|$\\{2,3,4\\}$|$1$ | $\\frac{1}{2}$| None|\n",
    "|$\\{1,3,4\\}$|$\\frac{1}{2}$ | $1$| None|\n",
    "|$\\{1,2,4\\}$|$1$ | $\\frac{1}{2}$| None|\n",
    "|$\\{1,2,3\\}$|$\\frac{1}{2}$ | $1$| None|"
   ]
  },
  {
   "cell_type": "markdown",
   "id": "77838b4c-d4d6-4a69-a48d-8941a55adb09",
   "metadata": {
    "id": "77838b4c-d4d6-4a69-a48d-8941a55adb09"
   },
   "source": [
    "**(예제5)** -- 혹시... "
   ]
  },
  {
   "cell_type": "markdown",
   "id": "8042f3d8-88ff-4ae4-9574-6a730f303e64",
   "metadata": {
    "id": "8042f3d8-88ff-4ae4-9574-6a730f303e64"
   },
   "source": [
    "`-` $\\Omega=\\mathbb{R}$, ${\\cal A}=\\big\\{[a,b]: a,b \\in \\mathbb{R}, a<b \\big\\}$ 라고 하자. "
   ]
  },
  {
   "cell_type": "markdown",
   "id": "b8eaa7c4-be30-45fe-aeb7-673282843ce0",
   "metadata": {
    "id": "b8eaa7c4-be30-45fe-aeb7-673282843ce0"
   },
   "source": [
    "`-` ${\\cal A}$에서만 측도비슷한 함수 $\\tilde{m}([a,b])=b-a$를 잘 정의한다면 그것이 $\\sigma({\\cal A})$에서의 측도 $m$으로 업그레이드 가능하며, 그 업그레이드 결과는 유일할까? "
   ]
  }
 ],
 "metadata": {
  "colab": {
   "provenance": []
  },
  "kernelspec": {
   "display_name": "Python 3 (ipykernel)",
   "language": "python",
   "name": "python3"
  },
  "language_info": {
   "codemirror_mode": {
    "name": "ipython",
    "version": 3
   },
   "file_extension": ".py",
   "mimetype": "text/x-python",
   "name": "python",
   "nbconvert_exporter": "python",
   "pygments_lexer": "ipython3",
   "version": "3.8.16"
  }
 },
 "nbformat": 4,
 "nbformat_minor": 5
}
