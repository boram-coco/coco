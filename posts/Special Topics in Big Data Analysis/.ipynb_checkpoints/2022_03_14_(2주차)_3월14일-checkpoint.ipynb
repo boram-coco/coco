{
 "cells": [
  {
   "cell_type": "raw",
   "id": "3324b576-9bc3-4fbb-b067-9a4ac1c69763",
   "metadata": {},
   "source": [
    "---\n",
    "title: \"[STBDA] 02wk: tensorflow_matrix\"\n",
    "author: \"김보람\"\n",
    "date: \"06/16/2023\"\n",
    "---"
   ]
  },
  {
   "cell_type": "markdown",
   "id": "fd996e94-11ec-4769-895d-9038fb685733",
   "metadata": {},
   "source": [
    "> 해당 강의노트는 전북대학교 최규빈교수님 [STBDA2022](https://guebin.github.io/STBDA2022/) 자료임"
   ]
  },
  {
   "cell_type": "markdown",
   "id": "cdc4da3d-9aaa-4a1a-ac19-5070c0a4cbf8",
   "metadata": {
    "id": "cdc4da3d-9aaa-4a1a-ac19-5070c0a4cbf8"
   },
   "source": [
    "### import"
   ]
  },
  {
   "cell_type": "code",
   "execution_count": 1,
   "id": "e18d4288-4668-45c2-a66f-5bb76f5b9ca2",
   "metadata": {
    "id": "e18d4288-4668-45c2-a66f-5bb76f5b9ca2"
   },
   "outputs": [
    {
     "name": "stderr",
     "output_type": "stream",
     "text": [
      "2023-06-16 15:15:55.862384: I tensorflow/core/platform/cpu_feature_guard.cc:193] This TensorFlow binary is optimized with oneAPI Deep Neural Network Library (oneDNN) to use the following CPU instructions in performance-critical operations:  AVX2 FMA\n",
      "To enable them in other operations, rebuild TensorFlow with the appropriate compiler flags.\n"
     ]
    }
   ],
   "source": [
    "import tensorflow as tf\n",
    "import numpy as np"
   ]
  },
  {
   "cell_type": "code",
   "execution_count": 2,
   "id": "c4a78936-73df-4a20-8041-0d76aa07fd0f",
   "metadata": {
    "id": "c4a78936-73df-4a20-8041-0d76aa07fd0f",
    "outputId": "bb0c528a-0fcd-418b-eb56-8f4adceb3eea"
   },
   "outputs": [
    {
     "data": {
      "text/plain": [
       "[]"
      ]
     },
     "execution_count": 2,
     "metadata": {},
     "output_type": "execute_result"
    }
   ],
   "source": [
    "tf.config.experimental.list_physical_devices('GPU')"
   ]
  },
  {
   "cell_type": "markdown",
   "id": "1f7d8172-8b82-4777-b922-aa46ea9e5a48",
   "metadata": {
    "id": "1f7d8172-8b82-4777-b922-aa46ea9e5a48"
   },
   "source": [
    "### tf.constant"
   ]
  },
  {
   "cell_type": "markdown",
   "id": "19d1b4f6-91ae-4638-b332-103dadaf6473",
   "metadata": {
    "id": "19d1b4f6-91ae-4638-b332-103dadaf6473"
   },
   "source": [
    "#### 예비학습: 중첩리스트"
   ]
  },
  {
   "cell_type": "markdown",
   "id": "988425c2-1d49-456f-946b-c7e770458016",
   "metadata": {
    "id": "988425c2-1d49-456f-946b-c7e770458016"
   },
   "source": [
    "`-` 리스트"
   ]
  },
  {
   "cell_type": "code",
   "execution_count": 3,
   "id": "8ce62ead-2002-4e4c-b9c6-faef7c87e3a9",
   "metadata": {
    "id": "8ce62ead-2002-4e4c-b9c6-faef7c87e3a9",
    "outputId": "b91245ab-726f-47ab-e7c1-5fb5b4f5c155"
   },
   "outputs": [
    {
     "data": {
      "text/plain": [
       "[1, 2, 4, 5, 6]"
      ]
     },
     "execution_count": 3,
     "metadata": {},
     "output_type": "execute_result"
    }
   ],
   "source": [
    "lst = [1,2,4,5,6]\n",
    "lst"
   ]
  },
  {
   "cell_type": "code",
   "execution_count": 4,
   "id": "640326fb-ac17-4f52-8fb6-f10d15dfc8c2",
   "metadata": {
    "id": "640326fb-ac17-4f52-8fb6-f10d15dfc8c2",
    "outputId": "27386e23-598a-4f43-d5b6-d48f858eb930"
   },
   "outputs": [
    {
     "data": {
      "text/plain": [
       "2"
      ]
     },
     "execution_count": 4,
     "metadata": {},
     "output_type": "execute_result"
    }
   ],
   "source": [
    "lst[1] # 두번쨰원소"
   ]
  },
  {
   "cell_type": "code",
   "execution_count": 5,
   "id": "c8e2ee14-9ae9-4e4c-8995-f935bd33cbe2",
   "metadata": {
    "id": "c8e2ee14-9ae9-4e4c-8995-f935bd33cbe2",
    "outputId": "95b55233-ffbc-46de-cd9b-d912300ee8e6"
   },
   "outputs": [
    {
     "data": {
      "text/plain": [
       "6"
      ]
     },
     "execution_count": 5,
     "metadata": {},
     "output_type": "execute_result"
    }
   ],
   "source": [
    "lst[-1] # 마지막원소"
   ]
  },
  {
   "cell_type": "markdown",
   "id": "6d2dbe9f-74c2-455a-afb0-341aebc9531a",
   "metadata": {
    "id": "6d2dbe9f-74c2-455a-afb0-341aebc9531a"
   },
   "source": [
    "`-` (2,2) matrix 느낌의 list"
   ]
  },
  {
   "cell_type": "code",
   "execution_count": 8,
   "id": "94f4135c-5c14-4145-8c29-5a91f3d6bf62",
   "metadata": {
    "id": "94f4135c-5c14-4145-8c29-5a91f3d6bf62",
    "outputId": "d7b0a320-f510-4f99-fac0-8b4180bfa5af"
   },
   "outputs": [
    {
     "data": {
      "text/plain": [
       "[[1, 2], [3, 4]]"
      ]
     },
     "execution_count": 8,
     "metadata": {},
     "output_type": "execute_result"
    }
   ],
   "source": [
    "lst= [[1,2],[3,4]]\n",
    "lst"
   ]
  },
  {
   "cell_type": "markdown",
   "id": "eec78e89-0206-487f-a7b9-ef3c0785fb7d",
   "metadata": {
    "id": "eec78e89-0206-487f-a7b9-ef3c0785fb7d"
   },
   "source": [
    "위를 아래와 같은 매트릭스로 생각할수 있다.\n",
    "\n",
    "```\n",
    "1 2\n",
    "3 4\n",
    "```"
   ]
  },
  {
   "cell_type": "code",
   "execution_count": 9,
   "id": "1633ffe1-7530-4f4b-9b83-d63288f62776",
   "metadata": {
    "id": "1633ffe1-7530-4f4b-9b83-d63288f62776",
    "outputId": "6b0e09f9-995e-4d32-8fd7-251fea45bf35"
   },
   "outputs": [
    {
     "name": "stdout",
     "output_type": "stream",
     "text": [
      "1\n",
      "2\n",
      "3\n",
      "4\n"
     ]
    }
   ],
   "source": [
    "print(lst[0][0]) # (1,1)\n",
    "print(lst[0][1]) # (1,2)\n",
    "print(lst[1][0]) # (2,1)\n",
    "print(lst[1][1]) # (2,2)"
   ]
  },
  {
   "cell_type": "code",
   "execution_count": 10,
   "id": "52acc29d-2daa-49a6-b839-e9ca1d23a69e",
   "metadata": {},
   "outputs": [
    {
     "data": {
      "text/plain": [
       "array([[1, 2],\n",
       "       [3, 4]])"
      ]
     },
     "execution_count": 10,
     "metadata": {},
     "output_type": "execute_result"
    }
   ],
   "source": [
    "np.array(lst)"
   ]
  },
  {
   "cell_type": "markdown",
   "id": "94ad7902-0710-4d6e-8bc1-490a3033b3b4",
   "metadata": {
    "id": "94ad7902-0710-4d6e-8bc1-490a3033b3b4"
   },
   "source": [
    "`-` (4,1) matrix 느낌의 list"
   ]
  },
  {
   "cell_type": "code",
   "execution_count": 14,
   "id": "c85cff1f-ee24-495a-98bf-6ca14b2fad7c",
   "metadata": {
    "id": "c85cff1f-ee24-495a-98bf-6ca14b2fad7c",
    "outputId": "0574e817-a640-4195-e36e-ce5452cb6c67"
   },
   "outputs": [
    {
     "data": {
      "text/plain": [
       "[[1], [2], [3], [4]]"
      ]
     },
     "execution_count": 14,
     "metadata": {},
     "output_type": "execute_result"
    }
   ],
   "source": [
    "lst=[[1],[2],[3],[4]] # (4,1) matrix = 길이가 4인 col-vector\n",
    "lst"
   ]
  },
  {
   "cell_type": "code",
   "execution_count": 15,
   "id": "821f22ea-3b97-410d-b384-4c014fdf626f",
   "metadata": {},
   "outputs": [
    {
     "data": {
      "text/plain": [
       "array([[1],\n",
       "       [2],\n",
       "       [3],\n",
       "       [4]])"
      ]
     },
     "execution_count": 15,
     "metadata": {},
     "output_type": "execute_result"
    }
   ],
   "source": [
    "np.array(lst)"
   ]
  },
  {
   "cell_type": "markdown",
   "id": "74c7d4ca-1ce1-4eb6-ac69-9cd62e736f37",
   "metadata": {
    "id": "74c7d4ca-1ce1-4eb6-ac69-9cd62e736f37"
   },
   "source": [
    "`-` (1,4) matrix 느낌의 list"
   ]
  },
  {
   "cell_type": "code",
   "execution_count": 16,
   "id": "5e1a530e-afa6-430d-b7bd-ff78958483bc",
   "metadata": {
    "id": "5e1a530e-afa6-430d-b7bd-ff78958483bc",
    "outputId": "34d73dd8-5e4e-4a9d-e116-0011d4fd72c4"
   },
   "outputs": [
    {
     "data": {
      "text/plain": [
       "[[1, 2, 3, 4]]"
      ]
     },
     "execution_count": 16,
     "metadata": {},
     "output_type": "execute_result"
    }
   ],
   "source": [
    "lst=[[1,2,3,4]] # (1,4) matrix = 길이가 4인 row-vector\n",
    "lst"
   ]
  },
  {
   "cell_type": "code",
   "execution_count": 17,
   "id": "5af3a5e1-f5a5-4fba-b612-d48cb3fbd8ff",
   "metadata": {},
   "outputs": [
    {
     "data": {
      "text/plain": [
       "array([[1, 2, 3, 4]])"
      ]
     },
     "execution_count": 17,
     "metadata": {},
     "output_type": "execute_result"
    }
   ],
   "source": [
    "np.array(lst)"
   ]
  },
  {
   "cell_type": "markdown",
   "id": "6a4dd379-e9c5-4e5d-a3ec-c2383ae1ac56",
   "metadata": {
    "id": "6a4dd379-e9c5-4e5d-a3ec-c2383ae1ac56"
   },
   "source": [
    "#### 선언"
   ]
  },
  {
   "cell_type": "markdown",
   "id": "679e7366-50a9-4034-87b4-962d1aa64090",
   "metadata": {
    "id": "679e7366-50a9-4034-87b4-962d1aa64090"
   },
   "source": [
    "`-` 스칼라"
   ]
  },
  {
   "cell_type": "code",
   "execution_count": 18,
   "id": "43e60a45-17d6-4d2e-809a-9efe4ebec72c",
   "metadata": {
    "id": "43e60a45-17d6-4d2e-809a-9efe4ebec72c",
    "outputId": "ae9e8c8b-4bfc-40be-905a-69e42986f00c"
   },
   "outputs": [
    {
     "data": {
      "text/plain": [
       "<tf.Tensor: shape=(), dtype=float32, numpy=3.14>"
      ]
     },
     "execution_count": 18,
     "metadata": {},
     "output_type": "execute_result"
    }
   ],
   "source": [
    "tf.constant(3.14)"
   ]
  },
  {
   "cell_type": "code",
   "execution_count": 19,
   "id": "df80b9d7-4cc8-42d1-a32c-503170307103",
   "metadata": {
    "id": "df80b9d7-4cc8-42d1-a32c-503170307103",
    "outputId": "cd39b926-ac53-4260-ed9b-ca00d8255319"
   },
   "outputs": [
    {
     "data": {
      "text/plain": [
       "<tf.Tensor: shape=(), dtype=float32, numpy=6.28>"
      ]
     },
     "execution_count": 19,
     "metadata": {},
     "output_type": "execute_result"
    }
   ],
   "source": [
    "tf.constant(3.14)+tf.constant(3.14)"
   ]
  },
  {
   "cell_type": "markdown",
   "id": "82978720-7a2d-4e6a-a601-1c983ba2156b",
   "metadata": {
    "id": "82978720-7a2d-4e6a-a601-1c983ba2156b"
   },
   "source": [
    "`-` 벡터"
   ]
  },
  {
   "cell_type": "code",
   "execution_count": 20,
   "id": "3501b056-7453-4904-96cd-d1fdb58bbc37",
   "metadata": {
    "id": "3501b056-7453-4904-96cd-d1fdb58bbc37"
   },
   "outputs": [],
   "source": [
    "_vector=tf.constant([1,2,3])"
   ]
  },
  {
   "cell_type": "code",
   "execution_count": 21,
   "id": "489f0cf0-2ca4-4e9c-8d15-8a7d9b907788",
   "metadata": {
    "id": "489f0cf0-2ca4-4e9c-8d15-8a7d9b907788",
    "outputId": "3666fb49-7bec-469e-938c-ff8129fec69b"
   },
   "outputs": [
    {
     "data": {
      "text/plain": [
       "<tf.Tensor: shape=(), dtype=int32, numpy=3>"
      ]
     },
     "execution_count": 21,
     "metadata": {},
     "output_type": "execute_result"
    }
   ],
   "source": [
    "_vector[-1]"
   ]
  },
  {
   "cell_type": "markdown",
   "id": "b66e0cca-27d7-4891-89b8-82dee75a0176",
   "metadata": {
    "id": "b66e0cca-27d7-4891-89b8-82dee75a0176"
   },
   "source": [
    "`-` 매트릭스"
   ]
  },
  {
   "cell_type": "code",
   "execution_count": 22,
   "id": "2f85c204-a946-4b36-b843-0a46cdefba76",
   "metadata": {
    "id": "2f85c204-a946-4b36-b843-0a46cdefba76",
    "outputId": "ece939d8-e353-4384-d600-aecf5e55fb26"
   },
   "outputs": [
    {
     "data": {
      "text/plain": [
       "<tf.Tensor: shape=(2, 2), dtype=int32, numpy=\n",
       "array([[1, 0],\n",
       "       [0, 1]], dtype=int32)>"
      ]
     },
     "execution_count": 22,
     "metadata": {},
     "output_type": "execute_result"
    }
   ],
   "source": [
    "_matrix= tf.constant([[1,0],[0,1]])\n",
    "_matrix"
   ]
  },
  {
   "cell_type": "markdown",
   "id": "9707518f-e69e-4734-a1cb-70bbf11697b0",
   "metadata": {
    "id": "9707518f-e69e-4734-a1cb-70bbf11697b0"
   },
   "source": [
    "`-` array"
   ]
  },
  {
   "cell_type": "code",
   "execution_count": 23,
   "id": "d1e10f35-6e03-4ca2-8c06-dcb691cde56c",
   "metadata": {
    "id": "d1e10f35-6e03-4ca2-8c06-dcb691cde56c",
    "outputId": "1d09099e-bff2-467e-ddf0-d97c1c7cb966"
   },
   "outputs": [
    {
     "data": {
      "text/plain": [
       "<tf.Tensor: shape=(2, 2, 3), dtype=int32, numpy=\n",
       "array([[[ 0,  1,  1],\n",
       "        [ 1,  2, -1]],\n",
       "\n",
       "       [[ 0,  1,  2],\n",
       "        [ 1,  2, -1]]], dtype=int32)>"
      ]
     },
     "execution_count": 23,
     "metadata": {},
     "output_type": "execute_result"
    }
   ],
   "source": [
    "tf.constant([[[0,1,1],[1,2,-1]],[[0,1,2],[1,2,-1]]])"
   ]
  },
  {
   "cell_type": "markdown",
   "id": "db79211f-706f-4388-9e10-6b057ec840fb",
   "metadata": {
    "id": "db79211f-706f-4388-9e10-6b057ec840fb"
   },
   "source": [
    "#### 타입"
   ]
  },
  {
   "cell_type": "code",
   "execution_count": 27,
   "id": "6fbb7e42-32dc-452e-97f1-eb8f4cd7e53d",
   "metadata": {
    "id": "6fbb7e42-32dc-452e-97f1-eb8f4cd7e53d",
    "outputId": "fd5f23c9-a90d-48e7-e20d-2b5c03a96812"
   },
   "outputs": [
    {
     "data": {
      "text/plain": [
       "tensorflow.python.framework.ops.EagerTensor"
      ]
     },
     "execution_count": 27,
     "metadata": {},
     "output_type": "execute_result"
    }
   ],
   "source": [
    "type(tf.constant(3.14))"
   ]
  },
  {
   "cell_type": "markdown",
   "id": "f06b1e19-16d1-4667-b881-5aabf63c84d9",
   "metadata": {
    "id": "f06b1e19-16d1-4667-b881-5aabf63c84d9"
   },
   "source": [
    "#### 인덱싱"
   ]
  },
  {
   "cell_type": "code",
   "execution_count": 28,
   "id": "1843d446-7d13-449a-a49a-f7863d452ef8",
   "metadata": {
    "id": "1843d446-7d13-449a-a49a-f7863d452ef8",
    "outputId": "27dbaff4-a3a2-41b4-8471-911450aa0c45"
   },
   "outputs": [
    {
     "data": {
      "text/plain": [
       "<tf.Tensor: shape=(2, 2), dtype=int32, numpy=\n",
       "array([[1, 2],\n",
       "       [3, 4]], dtype=int32)>"
      ]
     },
     "execution_count": 28,
     "metadata": {},
     "output_type": "execute_result"
    }
   ],
   "source": [
    "_matrix = tf.constant([[1,2],[3,4]])\n",
    "_matrix"
   ]
  },
  {
   "cell_type": "code",
   "execution_count": 29,
   "id": "607a83e5-ac70-407d-9246-8fa650d16e2f",
   "metadata": {
    "id": "607a83e5-ac70-407d-9246-8fa650d16e2f",
    "outputId": "a2d633f4-2211-4261-f2ec-e9a917cae512"
   },
   "outputs": [
    {
     "data": {
      "text/plain": [
       "<tf.Tensor: shape=(), dtype=int32, numpy=1>"
      ]
     },
     "execution_count": 29,
     "metadata": {},
     "output_type": "execute_result"
    }
   ],
   "source": [
    "_matrix[0][0]"
   ]
  },
  {
   "cell_type": "code",
   "execution_count": 30,
   "id": "0b78e746-e6ac-4d19-a9ea-825abdfbbf28",
   "metadata": {
    "id": "0b78e746-e6ac-4d19-a9ea-825abdfbbf28",
    "outputId": "07014ac8-99d4-4d0c-b4bc-4cd66ce732da"
   },
   "outputs": [
    {
     "data": {
      "text/plain": [
       "<tf.Tensor: shape=(2,), dtype=int32, numpy=array([1, 2], dtype=int32)>"
      ]
     },
     "execution_count": 30,
     "metadata": {},
     "output_type": "execute_result"
    }
   ],
   "source": [
    "_matrix[0]"
   ]
  },
  {
   "cell_type": "code",
   "execution_count": 31,
   "id": "64cc08c4-088c-4e16-9be1-98395e7075b6",
   "metadata": {
    "id": "64cc08c4-088c-4e16-9be1-98395e7075b6",
    "outputId": "c739885a-0f79-43d4-a8ab-4cdc8f1d56ec"
   },
   "outputs": [
    {
     "data": {
      "text/plain": [
       "<tf.Tensor: shape=(2,), dtype=int32, numpy=array([1, 2], dtype=int32)>"
      ]
     },
     "execution_count": 31,
     "metadata": {},
     "output_type": "execute_result"
    }
   ],
   "source": [
    "_matrix[0,:]"
   ]
  },
  {
   "cell_type": "code",
   "execution_count": 33,
   "id": "69f49c92-e220-4b05-8ed7-44df78eaea92",
   "metadata": {
    "id": "1aaa7862-1ccc-4f48-bc0d-191a95ef773b",
    "outputId": "31afb0cb-b0b7-4565-afde-13c94bd94f96"
   },
   "outputs": [
    {
     "data": {
      "text/plain": [
       "<tf.Tensor: shape=(2,), dtype=int32, numpy=array([1, 3], dtype=int32)>"
      ]
     },
     "execution_count": 33,
     "metadata": {},
     "output_type": "execute_result"
    }
   ],
   "source": [
    "_matrix[:,0] # column"
   ]
  },
  {
   "cell_type": "markdown",
   "id": "cebc2e49-6c71-47bf-a884-e8556c3198cf",
   "metadata": {
    "id": "cebc2e49-6c71-47bf-a884-e8556c3198cf"
   },
   "source": [
    "#### tf.constant는 불편하다."
   ]
  },
  {
   "cell_type": "markdown",
   "id": "3f0d5c88-8aeb-4163-a0e8-a04c26ebd64e",
   "metadata": {
    "id": "3f0d5c88-8aeb-4163-a0e8-a04c26ebd64e"
   },
   "source": [
    "`-` 불편한점\n",
    "1. 모든 원소가 같은 dtype을 가지고 있어야함.\n",
    "2. 원소 수정이 불가능함.\n",
    "3. 묵시적 형변환이 불가능하다."
   ]
  },
  {
   "cell_type": "markdown",
   "id": "665ca8fb-0d51-44cc-aac9-f8884808f78f",
   "metadata": {
    "id": "665ca8fb-0d51-44cc-aac9-f8884808f78f"
   },
   "source": [
    "`-` 원소수정이 불가능함"
   ]
  },
  {
   "cell_type": "code",
   "execution_count": 34,
   "id": "0e82d6a5-9004-44be-b50e-5ffbe8384597",
   "metadata": {
    "id": "0e82d6a5-9004-44be-b50e-5ffbe8384597",
    "outputId": "5d8f012c-e9aa-4983-b578-41839b725c14"
   },
   "outputs": [
    {
     "data": {
      "text/plain": [
       "<tf.Tensor: shape=(3,), dtype=int32, numpy=array([ 1, 22, 33], dtype=int32)>"
      ]
     },
     "execution_count": 34,
     "metadata": {},
     "output_type": "execute_result"
    }
   ],
   "source": [
    "a=tf.constant([1,22,33])\n",
    "a"
   ]
  },
  {
   "cell_type": "code",
   "execution_count": 36,
   "id": "0b6e46df-6a0e-4c7d-85e7-c218d181da9d",
   "metadata": {},
   "outputs": [
    {
     "data": {
      "text/plain": [
       "<tf.Tensor: shape=(), dtype=int32, numpy=1>"
      ]
     },
     "execution_count": 36,
     "metadata": {},
     "output_type": "execute_result"
    }
   ],
   "source": [
    "a[0]"
   ]
  },
  {
   "cell_type": "code",
   "execution_count": 35,
   "id": "5fc80571-5c93-498c-bc68-1f7e8c14d238",
   "metadata": {
    "id": "5fc80571-5c93-498c-bc68-1f7e8c14d238",
    "outputId": "0962bbf0-1d0f-4858-ab6e-ed564fc1017e"
   },
   "outputs": [
    {
     "ename": "TypeError",
     "evalue": "'tensorflow.python.framework.ops.EagerTensor' object does not support item assignment",
     "output_type": "error",
     "traceback": [
      "\u001b[0;31m---------------------------------------------------------------------------\u001b[0m",
      "\u001b[0;31mTypeError\u001b[0m                                 Traceback (most recent call last)",
      "Cell \u001b[0;32mIn[35], line 1\u001b[0m\n\u001b[0;32m----> 1\u001b[0m a[\u001b[38;5;241m0\u001b[39m]\u001b[38;5;241m=\u001b[39m\u001b[38;5;241m11\u001b[39m\n",
      "\u001b[0;31mTypeError\u001b[0m: 'tensorflow.python.framework.ops.EagerTensor' object does not support item assignment"
     ]
    }
   ],
   "source": [
    "a[0]=11"
   ]
  },
  {
   "cell_type": "markdown",
   "id": "d2c51e51-36ed-4453-afd6-f2b9029fa0d1",
   "metadata": {
    "id": "d2c51e51-36ed-4453-afd6-f2b9029fa0d1"
   },
   "source": [
    "`-` 묵시적 형변환이 불가능하다"
   ]
  },
  {
   "cell_type": "code",
   "execution_count": 37,
   "id": "352d5bf3-6b2e-4085-ac0e-3e0839830851",
   "metadata": {},
   "outputs": [
    {
     "data": {
      "text/plain": [
       "4.140000000000001"
      ]
     },
     "execution_count": 37,
     "metadata": {},
     "output_type": "execute_result"
    }
   ],
   "source": [
    "1+3.14"
   ]
  },
  {
   "cell_type": "code",
   "execution_count": 38,
   "id": "30a9382d-cb1a-4e3f-ab24-7870d0b77b5a",
   "metadata": {
    "id": "30a9382d-cb1a-4e3f-ab24-7870d0b77b5a",
    "outputId": "ad086c36-10fd-4db3-f55b-633654c25258"
   },
   "outputs": [
    {
     "ename": "InvalidArgumentError",
     "evalue": "cannot compute AddV2 as input #1(zero-based) was expected to be a int32 tensor but is a float tensor [Op:AddV2]",
     "output_type": "error",
     "traceback": [
      "\u001b[0;31m---------------------------------------------------------------------------\u001b[0m",
      "\u001b[0;31mInvalidArgumentError\u001b[0m                      Traceback (most recent call last)",
      "Cell \u001b[0;32mIn[38], line 1\u001b[0m\n\u001b[0;32m----> 1\u001b[0m \u001b[43mtf\u001b[49m\u001b[38;5;241;43m.\u001b[39;49m\u001b[43mconstant\u001b[49m\u001b[43m(\u001b[49m\u001b[38;5;241;43m1\u001b[39;49m\u001b[43m)\u001b[49m\u001b[38;5;241;43m+\u001b[39;49m\u001b[43mtf\u001b[49m\u001b[38;5;241;43m.\u001b[39;49m\u001b[43mconstant\u001b[49m\u001b[43m(\u001b[49m\u001b[38;5;241;43m3.14\u001b[39;49m\u001b[43m)\u001b[49m\n",
      "File \u001b[0;32m~/anaconda3/envs/py38/lib/python3.8/site-packages/tensorflow/python/util/traceback_utils.py:153\u001b[0m, in \u001b[0;36mfilter_traceback.<locals>.error_handler\u001b[0;34m(*args, **kwargs)\u001b[0m\n\u001b[1;32m    151\u001b[0m \u001b[38;5;28;01mexcept\u001b[39;00m \u001b[38;5;167;01mException\u001b[39;00m \u001b[38;5;28;01mas\u001b[39;00m e:\n\u001b[1;32m    152\u001b[0m   filtered_tb \u001b[38;5;241m=\u001b[39m _process_traceback_frames(e\u001b[38;5;241m.\u001b[39m__traceback__)\n\u001b[0;32m--> 153\u001b[0m   \u001b[38;5;28;01mraise\u001b[39;00m e\u001b[38;5;241m.\u001b[39mwith_traceback(filtered_tb) \u001b[38;5;28;01mfrom\u001b[39;00m \u001b[38;5;28mNone\u001b[39m\n\u001b[1;32m    154\u001b[0m \u001b[38;5;28;01mfinally\u001b[39;00m:\n\u001b[1;32m    155\u001b[0m   \u001b[38;5;28;01mdel\u001b[39;00m filtered_tb\n",
      "File \u001b[0;32m~/anaconda3/envs/py38/lib/python3.8/site-packages/tensorflow/python/framework/ops.py:7215\u001b[0m, in \u001b[0;36mraise_from_not_ok_status\u001b[0;34m(e, name)\u001b[0m\n\u001b[1;32m   7213\u001b[0m \u001b[38;5;28;01mdef\u001b[39;00m \u001b[38;5;21mraise_from_not_ok_status\u001b[39m(e, name):\n\u001b[1;32m   7214\u001b[0m   e\u001b[38;5;241m.\u001b[39mmessage \u001b[38;5;241m+\u001b[39m\u001b[38;5;241m=\u001b[39m (\u001b[38;5;124m\"\u001b[39m\u001b[38;5;124m name: \u001b[39m\u001b[38;5;124m\"\u001b[39m \u001b[38;5;241m+\u001b[39m name \u001b[38;5;28;01mif\u001b[39;00m name \u001b[38;5;129;01mis\u001b[39;00m \u001b[38;5;129;01mnot\u001b[39;00m \u001b[38;5;28;01mNone\u001b[39;00m \u001b[38;5;28;01melse\u001b[39;00m \u001b[38;5;124m\"\u001b[39m\u001b[38;5;124m\"\u001b[39m)\n\u001b[0;32m-> 7215\u001b[0m   \u001b[38;5;28;01mraise\u001b[39;00m core\u001b[38;5;241m.\u001b[39m_status_to_exception(e) \u001b[38;5;28;01mfrom\u001b[39;00m \u001b[38;5;28mNone\u001b[39m\n",
      "\u001b[0;31mInvalidArgumentError\u001b[0m: cannot compute AddV2 as input #1(zero-based) was expected to be a int32 tensor but is a float tensor [Op:AddV2]"
     ]
    }
   ],
   "source": [
    "tf.constant(1)+tf.constant(3.14)"
   ]
  },
  {
   "cell_type": "markdown",
   "id": "d87c1d51-7bf8-48af-881d-625bbfa49f7e",
   "metadata": {},
   "source": [
    "- int형+float형 계산이 불가하다."
   ]
  },
  {
   "cell_type": "code",
   "execution_count": 39,
   "id": "253e4106-9c73-440e-ab39-470305770bf8",
   "metadata": {
    "id": "253e4106-9c73-440e-ab39-470305770bf8",
    "outputId": "72d62ca0-8ead-482d-e9a3-4230aa5135ea"
   },
   "outputs": [
    {
     "data": {
      "text/plain": [
       "<tf.Tensor: shape=(), dtype=float32, numpy=4.1400003>"
      ]
     },
     "execution_count": 39,
     "metadata": {},
     "output_type": "execute_result"
    }
   ],
   "source": [
    "tf.constant(1.0)+tf.constant(3.14)"
   ]
  },
  {
   "cell_type": "markdown",
   "id": "d0c476fe-2c7e-4258-b97a-a0588629ede8",
   "metadata": {},
   "source": [
    "- float형+float형 으로 변경해서 계산해줘야함"
   ]
  },
  {
   "cell_type": "markdown",
   "id": "51f12a82-3ffa-45ea-8718-fd78146a0e62",
   "metadata": {
    "id": "51f12a82-3ffa-45ea-8718-fd78146a0e62"
   },
   "source": [
    "`-` 같은 float도 안되는 경우가 있음"
   ]
  },
  {
   "cell_type": "code",
   "execution_count": 40,
   "id": "c4e854b9-7e32-4322-bb18-7634c6e71b1b",
   "metadata": {
    "id": "c4e854b9-7e32-4322-bb18-7634c6e71b1b",
    "outputId": "caea2a9c-f194-4419-9732-1148ba439534"
   },
   "outputs": [
    {
     "data": {
      "text/plain": [
       "<tf.Tensor: shape=(), dtype=float64, numpy=1.0>"
      ]
     },
     "execution_count": 40,
     "metadata": {},
     "output_type": "execute_result"
    }
   ],
   "source": [
    "tf.constant(1.0,dtype=tf.float64)"
   ]
  },
  {
   "cell_type": "code",
   "execution_count": 41,
   "id": "71a0d05d-5190-4055-93d7-7c93903ab04a",
   "metadata": {
    "id": "71a0d05d-5190-4055-93d7-7c93903ab04a",
    "outputId": "01cf3cf1-62ed-4f1c-ea09-0d5caeaacad8"
   },
   "outputs": [
    {
     "data": {
      "text/plain": [
       "<tf.Tensor: shape=(), dtype=float32, numpy=3.14>"
      ]
     },
     "execution_count": 41,
     "metadata": {},
     "output_type": "execute_result"
    }
   ],
   "source": [
    "tf.constant(3.14)"
   ]
  },
  {
   "cell_type": "code",
   "execution_count": 42,
   "id": "d95be72f-599e-42bc-a98a-1d39d4deedb2",
   "metadata": {
    "id": "d95be72f-599e-42bc-a98a-1d39d4deedb2",
    "outputId": "10241cb4-53c9-4bd4-f831-462a51ae3969"
   },
   "outputs": [
    {
     "ename": "InvalidArgumentError",
     "evalue": "cannot compute AddV2 as input #1(zero-based) was expected to be a double tensor but is a float tensor [Op:AddV2]",
     "output_type": "error",
     "traceback": [
      "\u001b[0;31m---------------------------------------------------------------------------\u001b[0m",
      "\u001b[0;31mInvalidArgumentError\u001b[0m                      Traceback (most recent call last)",
      "Cell \u001b[0;32mIn[42], line 1\u001b[0m\n\u001b[0;32m----> 1\u001b[0m \u001b[43mtf\u001b[49m\u001b[38;5;241;43m.\u001b[39;49m\u001b[43mconstant\u001b[49m\u001b[43m(\u001b[49m\u001b[38;5;241;43m1.0\u001b[39;49m\u001b[43m,\u001b[49m\u001b[43mdtype\u001b[49m\u001b[38;5;241;43m=\u001b[39;49m\u001b[43mtf\u001b[49m\u001b[38;5;241;43m.\u001b[39;49m\u001b[43mfloat64\u001b[49m\u001b[43m)\u001b[49m\u001b[38;5;241;43m+\u001b[39;49m\u001b[43mtf\u001b[49m\u001b[38;5;241;43m.\u001b[39;49m\u001b[43mconstant\u001b[49m\u001b[43m(\u001b[49m\u001b[38;5;241;43m3.14\u001b[39;49m\u001b[43m)\u001b[49m\n",
      "File \u001b[0;32m~/anaconda3/envs/py38/lib/python3.8/site-packages/tensorflow/python/util/traceback_utils.py:153\u001b[0m, in \u001b[0;36mfilter_traceback.<locals>.error_handler\u001b[0;34m(*args, **kwargs)\u001b[0m\n\u001b[1;32m    151\u001b[0m \u001b[38;5;28;01mexcept\u001b[39;00m \u001b[38;5;167;01mException\u001b[39;00m \u001b[38;5;28;01mas\u001b[39;00m e:\n\u001b[1;32m    152\u001b[0m   filtered_tb \u001b[38;5;241m=\u001b[39m _process_traceback_frames(e\u001b[38;5;241m.\u001b[39m__traceback__)\n\u001b[0;32m--> 153\u001b[0m   \u001b[38;5;28;01mraise\u001b[39;00m e\u001b[38;5;241m.\u001b[39mwith_traceback(filtered_tb) \u001b[38;5;28;01mfrom\u001b[39;00m \u001b[38;5;28mNone\u001b[39m\n\u001b[1;32m    154\u001b[0m \u001b[38;5;28;01mfinally\u001b[39;00m:\n\u001b[1;32m    155\u001b[0m   \u001b[38;5;28;01mdel\u001b[39;00m filtered_tb\n",
      "File \u001b[0;32m~/anaconda3/envs/py38/lib/python3.8/site-packages/tensorflow/python/framework/ops.py:7215\u001b[0m, in \u001b[0;36mraise_from_not_ok_status\u001b[0;34m(e, name)\u001b[0m\n\u001b[1;32m   7213\u001b[0m \u001b[38;5;28;01mdef\u001b[39;00m \u001b[38;5;21mraise_from_not_ok_status\u001b[39m(e, name):\n\u001b[1;32m   7214\u001b[0m   e\u001b[38;5;241m.\u001b[39mmessage \u001b[38;5;241m+\u001b[39m\u001b[38;5;241m=\u001b[39m (\u001b[38;5;124m\"\u001b[39m\u001b[38;5;124m name: \u001b[39m\u001b[38;5;124m\"\u001b[39m \u001b[38;5;241m+\u001b[39m name \u001b[38;5;28;01mif\u001b[39;00m name \u001b[38;5;129;01mis\u001b[39;00m \u001b[38;5;129;01mnot\u001b[39;00m \u001b[38;5;28;01mNone\u001b[39;00m \u001b[38;5;28;01melse\u001b[39;00m \u001b[38;5;124m\"\u001b[39m\u001b[38;5;124m\"\u001b[39m)\n\u001b[0;32m-> 7215\u001b[0m   \u001b[38;5;28;01mraise\u001b[39;00m core\u001b[38;5;241m.\u001b[39m_status_to_exception(e) \u001b[38;5;28;01mfrom\u001b[39;00m \u001b[38;5;28mNone\u001b[39m\n",
      "\u001b[0;31mInvalidArgumentError\u001b[0m: cannot compute AddV2 as input #1(zero-based) was expected to be a double tensor but is a float tensor [Op:AddV2]"
     ]
    }
   ],
   "source": [
    "tf.constant(1.0,dtype=tf.float64)+tf.constant(3.14)"
   ]
  },
  {
   "cell_type": "markdown",
   "id": "0f7a75ed-b984-4f27-9440-d57253cb89bd",
   "metadata": {
    "id": "0f7a75ed-b984-4f27-9440-d57253cb89bd"
   },
   "source": [
    "#### tf.constant $\\to$ 넘파이"
   ]
  },
  {
   "cell_type": "code",
   "execution_count": 44,
   "id": "4efd3dc5-738c-4e3f-9078-a8b1e8655376",
   "metadata": {},
   "outputs": [
    {
     "data": {
      "text/plain": [
       "<tf.Tensor: shape=(2,), dtype=float64, numpy=array([ 4.14, -1.14])>"
      ]
     },
     "execution_count": 44,
     "metadata": {},
     "output_type": "execute_result"
    }
   ],
   "source": [
    "tf.constant(np.array([3.14,-3.14])+np.array([1,2]))"
   ]
  },
  {
   "cell_type": "code",
   "execution_count": 45,
   "id": "b0f01b69-4a9a-46d3-94f3-5e26bcf48ac8",
   "metadata": {
    "id": "b0f01b69-4a9a-46d3-94f3-5e26bcf48ac8",
    "outputId": "9595346d-cb27-4907-d368-ce50cfb4ca26"
   },
   "outputs": [
    {
     "data": {
      "text/plain": [
       "array(1, dtype=int32)"
      ]
     },
     "execution_count": 45,
     "metadata": {},
     "output_type": "execute_result"
    }
   ],
   "source": [
    "np.array(tf.constant(1)) # 방법1"
   ]
  },
  {
   "cell_type": "code",
   "execution_count": 46,
   "id": "4e97a26f-6d2b-48d8-aa77-34ad2d2d748a",
   "metadata": {
    "id": "4e97a26f-6d2b-48d8-aa77-34ad2d2d748a",
    "outputId": "d630cf30-3cf2-4fd2-9a3d-d6f14a0b6e50"
   },
   "outputs": [
    {
     "data": {
      "text/plain": [
       "tensorflow.python.framework.ops.EagerTensor"
      ]
     },
     "execution_count": 46,
     "metadata": {},
     "output_type": "execute_result"
    }
   ],
   "source": [
    "a=tf.constant([3.14,-3.14])\n",
    "type(a)"
   ]
  },
  {
   "cell_type": "code",
   "execution_count": 47,
   "id": "8dbd0c41-9d05-459c-8347-ea25d92798ba",
   "metadata": {
    "id": "8dbd0c41-9d05-459c-8347-ea25d92798ba",
    "outputId": "5f2c4496-9138-4cbf-a78f-93865e3b6ce2"
   },
   "outputs": [
    {
     "data": {
      "text/plain": [
       "array([ 3.14, -3.14], dtype=float32)"
      ]
     },
     "execution_count": 47,
     "metadata": {},
     "output_type": "execute_result"
    }
   ],
   "source": [
    "a.numpy()"
   ]
  },
  {
   "cell_type": "markdown",
   "id": "b1e11f1e-122d-4de3-95e8-e8eda9dac045",
   "metadata": {
    "id": "b1e11f1e-122d-4de3-95e8-e8eda9dac045",
    "tags": []
   },
   "source": [
    "#### 연산"
   ]
  },
  {
   "cell_type": "markdown",
   "id": "56d2fe05-93cc-4f76-a9a2-a65db01ee991",
   "metadata": {
    "id": "56d2fe05-93cc-4f76-a9a2-a65db01ee991"
   },
   "source": [
    "`-` 더하기"
   ]
  },
  {
   "cell_type": "code",
   "execution_count": 48,
   "id": "5bb395b3-3a2c-4080-b459-c8c5047ac8ca",
   "metadata": {
    "id": "5bb395b3-3a2c-4080-b459-c8c5047ac8ca",
    "outputId": "52ce9931-c594-4a92-8426-3680da7f7448"
   },
   "outputs": [
    {
     "data": {
      "text/plain": [
       "<tf.Tensor: shape=(2,), dtype=int32, numpy=array([4, 6], dtype=int32)>"
      ]
     },
     "execution_count": 48,
     "metadata": {},
     "output_type": "execute_result"
    }
   ],
   "source": [
    "a=tf.constant([1,2])\n",
    "b=tf.constant([3,4])\n",
    "a+b"
   ]
  },
  {
   "cell_type": "code",
   "execution_count": 49,
   "id": "a84a265f-58ca-4bda-9dc0-33c6bacacb74",
   "metadata": {
    "id": "a84a265f-58ca-4bda-9dc0-33c6bacacb74",
    "outputId": "64319220-e898-4af1-8e63-20c51cd79243"
   },
   "outputs": [
    {
     "data": {
      "text/plain": [
       "<tf.Tensor: shape=(2,), dtype=int32, numpy=array([4, 6], dtype=int32)>"
      ]
     },
     "execution_count": 49,
     "metadata": {},
     "output_type": "execute_result"
    }
   ],
   "source": [
    "tf.add(a,b)"
   ]
  },
  {
   "cell_type": "markdown",
   "id": "0b637dbb-e313-47de-be58-3a42a6e2c512",
   "metadata": {
    "id": "0b637dbb-e313-47de-be58-3a42a6e2c512"
   },
   "source": [
    "`-` 곱하기"
   ]
  },
  {
   "cell_type": "code",
   "execution_count": 50,
   "id": "76906234-6425-4e99-b7a9-21a9b6d102a2",
   "metadata": {
    "id": "76906234-6425-4e99-b7a9-21a9b6d102a2",
    "outputId": "a7aac373-abb4-44d0-d04e-cad2c66d9527"
   },
   "outputs": [
    {
     "data": {
      "text/plain": [
       "<tf.Tensor: shape=(2, 2), dtype=int32, numpy=\n",
       "array([[ 5, 12],\n",
       "       [21, 32]], dtype=int32)>"
      ]
     },
     "execution_count": 50,
     "metadata": {},
     "output_type": "execute_result"
    }
   ],
   "source": [
    "a=tf.constant([[1,2],[3,4]])\n",
    "b=tf.constant([[5,6],[7,8]])\n",
    "a*b"
   ]
  },
  {
   "cell_type": "code",
   "execution_count": 51,
   "id": "d1cd1de9-0b9f-4c06-bb57-4254e69e037b",
   "metadata": {
    "id": "d1cd1de9-0b9f-4c06-bb57-4254e69e037b",
    "outputId": "a0840d8d-0baa-415b-efc3-2be4ebb871ae"
   },
   "outputs": [
    {
     "data": {
      "text/plain": [
       "<tf.Tensor: shape=(2, 2), dtype=int32, numpy=\n",
       "array([[ 5, 12],\n",
       "       [21, 32]], dtype=int32)>"
      ]
     },
     "execution_count": 51,
     "metadata": {},
     "output_type": "execute_result"
    }
   ],
   "source": [
    "tf.multiply(a,b)"
   ]
  },
  {
   "cell_type": "markdown",
   "id": "dd0e6699-39bd-4eeb-b862-8af0ce5a652d",
   "metadata": {
    "id": "dd0e6699-39bd-4eeb-b862-8af0ce5a652d"
   },
   "source": [
    "`-` 매트릭스의곱"
   ]
  },
  {
   "cell_type": "code",
   "execution_count": 52,
   "id": "3c5621f7-b27e-4958-8e42-06265a8ccf9a",
   "metadata": {
    "id": "3c5621f7-b27e-4958-8e42-06265a8ccf9a",
    "outputId": "50e419cf-0980-4a78-e48e-d617fc2f9ee3"
   },
   "outputs": [
    {
     "data": {
      "text/plain": [
       "<tf.Tensor: shape=(2, 1), dtype=int32, numpy=\n",
       "array([[5],\n",
       "       [7]], dtype=int32)>"
      ]
     },
     "execution_count": 52,
     "metadata": {},
     "output_type": "execute_result"
    }
   ],
   "source": [
    "a=tf.constant([[1,0],[0,1]]) # (2,2)\n",
    "b=tf.constant([[5],[7]]) # (2,1)\n",
    "a@b"
   ]
  },
  {
   "cell_type": "code",
   "execution_count": 53,
   "id": "77e8f14a-0413-4c3f-9eef-00cc202eb62b",
   "metadata": {
    "id": "77e8f14a-0413-4c3f-9eef-00cc202eb62b",
    "outputId": "d1b46c1e-8a7e-41ba-90fd-279e78569098"
   },
   "outputs": [
    {
     "data": {
      "text/plain": [
       "<tf.Tensor: shape=(2, 1), dtype=int32, numpy=\n",
       "array([[5],\n",
       "       [7]], dtype=int32)>"
      ]
     },
     "execution_count": 53,
     "metadata": {},
     "output_type": "execute_result"
    }
   ],
   "source": [
    "tf.matmul(a,b)"
   ]
  },
  {
   "cell_type": "markdown",
   "id": "686c844e-6813-4f14-95c9-8d1aad8231bf",
   "metadata": {
    "id": "686c844e-6813-4f14-95c9-8d1aad8231bf"
   },
   "source": [
    "`-` 역행렬"
   ]
  },
  {
   "cell_type": "code",
   "execution_count": 54,
   "id": "507fbd44-d03c-4454-aabb-bd330ffcb4f2",
   "metadata": {
    "id": "507fbd44-d03c-4454-aabb-bd330ffcb4f2",
    "outputId": "ea24cc6c-45fc-4152-9aaf-c8b9949b48ba"
   },
   "outputs": [
    {
     "data": {
      "text/plain": [
       "<tf.Tensor: shape=(2, 2), dtype=int32, numpy=\n",
       "array([[1, 0],\n",
       "       [0, 2]], dtype=int32)>"
      ]
     },
     "execution_count": 54,
     "metadata": {},
     "output_type": "execute_result"
    }
   ],
   "source": [
    "a=tf.constant([[1,0],[0,2]])\n",
    "a"
   ]
  },
  {
   "cell_type": "code",
   "execution_count": 55,
   "id": "3affc7b8-de95-44f7-9872-4b6fafe08787",
   "metadata": {
    "id": "3affc7b8-de95-44f7-9872-4b6fafe08787",
    "outputId": "bcb8773b-3cb7-4dff-f21f-da38aaf94da0"
   },
   "outputs": [
    {
     "ename": "InvalidArgumentError",
     "evalue": "Value for attr 'T' of int32 is not in the list of allowed values: double, float, half, complex64, complex128\n\t; NodeDef: {{node MatrixInverse}}; Op<name=MatrixInverse; signature=input:T -> output:T; attr=adjoint:bool,default=false; attr=T:type,allowed=[DT_DOUBLE, DT_FLOAT, DT_HALF, DT_COMPLEX64, DT_COMPLEX128]> [Op:MatrixInverse]",
     "output_type": "error",
     "traceback": [
      "\u001b[0;31m---------------------------------------------------------------------------\u001b[0m",
      "\u001b[0;31mInvalidArgumentError\u001b[0m                      Traceback (most recent call last)",
      "Cell \u001b[0;32mIn[55], line 1\u001b[0m\n\u001b[0;32m----> 1\u001b[0m \u001b[43mtf\u001b[49m\u001b[38;5;241;43m.\u001b[39;49m\u001b[43mlinalg\u001b[49m\u001b[38;5;241;43m.\u001b[39;49m\u001b[43minv\u001b[49m\u001b[43m(\u001b[49m\u001b[43ma\u001b[49m\u001b[43m)\u001b[49m\n",
      "File \u001b[0;32m~/anaconda3/envs/py38/lib/python3.8/site-packages/tensorflow/python/ops/gen_linalg_ops.py:1506\u001b[0m, in \u001b[0;36mmatrix_inverse\u001b[0;34m(input, adjoint, name)\u001b[0m\n\u001b[1;32m   1504\u001b[0m   \u001b[38;5;28;01mreturn\u001b[39;00m _result\n\u001b[1;32m   1505\u001b[0m \u001b[38;5;28;01mexcept\u001b[39;00m _core\u001b[38;5;241m.\u001b[39m_NotOkStatusException \u001b[38;5;28;01mas\u001b[39;00m e:\n\u001b[0;32m-> 1506\u001b[0m   \u001b[43m_ops\u001b[49m\u001b[38;5;241;43m.\u001b[39;49m\u001b[43mraise_from_not_ok_status\u001b[49m\u001b[43m(\u001b[49m\u001b[43me\u001b[49m\u001b[43m,\u001b[49m\u001b[43m \u001b[49m\u001b[43mname\u001b[49m\u001b[43m)\u001b[49m\n\u001b[1;32m   1507\u001b[0m \u001b[38;5;28;01mexcept\u001b[39;00m _core\u001b[38;5;241m.\u001b[39m_FallbackException:\n\u001b[1;32m   1508\u001b[0m   \u001b[38;5;28;01mpass\u001b[39;00m\n",
      "File \u001b[0;32m~/anaconda3/envs/py38/lib/python3.8/site-packages/tensorflow/python/framework/ops.py:7215\u001b[0m, in \u001b[0;36mraise_from_not_ok_status\u001b[0;34m(e, name)\u001b[0m\n\u001b[1;32m   7213\u001b[0m \u001b[38;5;28;01mdef\u001b[39;00m \u001b[38;5;21mraise_from_not_ok_status\u001b[39m(e, name):\n\u001b[1;32m   7214\u001b[0m   e\u001b[38;5;241m.\u001b[39mmessage \u001b[38;5;241m+\u001b[39m\u001b[38;5;241m=\u001b[39m (\u001b[38;5;124m\"\u001b[39m\u001b[38;5;124m name: \u001b[39m\u001b[38;5;124m\"\u001b[39m \u001b[38;5;241m+\u001b[39m name \u001b[38;5;28;01mif\u001b[39;00m name \u001b[38;5;129;01mis\u001b[39;00m \u001b[38;5;129;01mnot\u001b[39;00m \u001b[38;5;28;01mNone\u001b[39;00m \u001b[38;5;28;01melse\u001b[39;00m \u001b[38;5;124m\"\u001b[39m\u001b[38;5;124m\"\u001b[39m)\n\u001b[0;32m-> 7215\u001b[0m   \u001b[38;5;28;01mraise\u001b[39;00m core\u001b[38;5;241m.\u001b[39m_status_to_exception(e) \u001b[38;5;28;01mfrom\u001b[39;00m \u001b[38;5;28mNone\u001b[39m\n",
      "\u001b[0;31mInvalidArgumentError\u001b[0m: Value for attr 'T' of int32 is not in the list of allowed values: double, float, half, complex64, complex128\n\t; NodeDef: {{node MatrixInverse}}; Op<name=MatrixInverse; signature=input:T -> output:T; attr=adjoint:bool,default=false; attr=T:type,allowed=[DT_DOUBLE, DT_FLOAT, DT_HALF, DT_COMPLEX64, DT_COMPLEX128]> [Op:MatrixInverse]"
     ]
    }
   ],
   "source": [
    "tf.linalg.inv(a)"
   ]
  },
  {
   "cell_type": "markdown",
   "id": "4f190fb4-b782-409a-89d4-3a84ed650c1d",
   "metadata": {},
   "source": [
    "- 1/2만들려먼 float로..."
   ]
  },
  {
   "cell_type": "code",
   "execution_count": 56,
   "id": "f22b4b87-8c65-4c98-872b-e75a0d4bc03d",
   "metadata": {
    "id": "f22b4b87-8c65-4c98-872b-e75a0d4bc03d",
    "outputId": "1ce69261-c3c5-4c75-944a-c0cb4455a958"
   },
   "outputs": [
    {
     "data": {
      "text/plain": [
       "<tf.Tensor: shape=(2, 2), dtype=float32, numpy=\n",
       "array([[1. , 0. ],\n",
       "       [0. , 0.5]], dtype=float32)>"
      ]
     },
     "execution_count": 56,
     "metadata": {},
     "output_type": "execute_result"
    }
   ],
   "source": [
    "a=tf.constant([[1.0,0.0],[0.0,2.0]])\n",
    "tf.linalg.inv(a)"
   ]
  },
  {
   "cell_type": "markdown",
   "id": "a27f0b2c-1218-447f-aa1d-a8ae55b67e5c",
   "metadata": {
    "id": "a27f0b2c-1218-447f-aa1d-a8ae55b67e5c"
   },
   "source": [
    "`-` `tf.linalg.` + `tab`을 누르면 좋아보이는 연산들 많음"
   ]
  },
  {
   "cell_type": "code",
   "execution_count": 58,
   "id": "8c4cd06c-73f2-4e82-bfd0-55438ee2a5de",
   "metadata": {
    "id": "8c4cd06c-73f2-4e82-bfd0-55438ee2a5de",
    "outputId": "3f93e064-bea0-47f6-b5e6-16e4c01090da"
   },
   "outputs": [
    {
     "name": "stdout",
     "output_type": "stream",
     "text": [
      "tf.Tensor(\n",
      "[[1. 2.]\n",
      " [3. 4.]], shape=(2, 2), dtype=float32)\n"
     ]
    },
    {
     "data": {
      "text/plain": [
       "<tf.Tensor: shape=(), dtype=float32, numpy=-2.0>"
      ]
     },
     "execution_count": 58,
     "metadata": {},
     "output_type": "execute_result"
    }
   ],
   "source": [
    "a=tf.constant([[1.0,2.0],[3.0,4.0]])\n",
    "print(a)\n",
    "tf.linalg.det(a) #determinant:4-2"
   ]
  },
  {
   "cell_type": "code",
   "execution_count": 59,
   "id": "dc33a91b-fc0e-49f9-b9ee-8c098f84e662",
   "metadata": {
    "id": "dc33a91b-fc0e-49f9-b9ee-8c098f84e662",
    "outputId": "ea23f66d-dc63-49de-c52b-d6b303b60a29"
   },
   "outputs": [
    {
     "data": {
      "text/plain": [
       "<tf.Tensor: shape=(), dtype=float32, numpy=5.0>"
      ]
     },
     "execution_count": 59,
     "metadata": {},
     "output_type": "execute_result"
    }
   ],
   "source": [
    "tf.linalg.trace(a) # 대각선 원소의 합"
   ]
  },
  {
   "cell_type": "markdown",
   "id": "36eb6964-8d92-469c-b4fd-5e9ae19bf9af",
   "metadata": {
    "id": "36eb6964-8d92-469c-b4fd-5e9ae19bf9af",
    "tags": []
   },
   "source": [
    "#### 형태변환"
   ]
  },
  {
   "cell_type": "markdown",
   "id": "9c1dee18-c09a-423c-bff2-ab18dbe79071",
   "metadata": {
    "id": "9c1dee18-c09a-423c-bff2-ab18dbe79071"
   },
   "source": [
    "`-` 기본: tf.reshape() 를 이용"
   ]
  },
  {
   "cell_type": "code",
   "execution_count": 60,
   "id": "07db8721-4087-47a5-8b73-15f1c64eb65f",
   "metadata": {
    "id": "07db8721-4087-47a5-8b73-15f1c64eb65f",
    "outputId": "0b422e4d-29ff-4cfc-c4e5-60c9a42a32cc"
   },
   "outputs": [
    {
     "data": {
      "text/plain": [
       "<tf.Tensor: shape=(4,), dtype=int32, numpy=array([1, 2, 3, 4], dtype=int32)>"
      ]
     },
     "execution_count": 60,
     "metadata": {},
     "output_type": "execute_result"
    }
   ],
   "source": [
    "a=tf.constant([1,2,3,4])\n",
    "a"
   ]
  },
  {
   "cell_type": "code",
   "execution_count": 61,
   "id": "5ef2a9f3-c54a-4d8e-9291-ae57d0d4741f",
   "metadata": {
    "id": "5ef2a9f3-c54a-4d8e-9291-ae57d0d4741f",
    "outputId": "dc3480ad-a4a9-4ea3-8934-2e847e2387c2"
   },
   "outputs": [
    {
     "data": {
      "text/plain": [
       "<tf.Tensor: shape=(4, 1), dtype=int32, numpy=\n",
       "array([[1],\n",
       "       [2],\n",
       "       [3],\n",
       "       [4]], dtype=int32)>"
      ]
     },
     "execution_count": 61,
     "metadata": {},
     "output_type": "execute_result"
    }
   ],
   "source": [
    "tf.reshape(a,(4,1))"
   ]
  },
  {
   "cell_type": "code",
   "execution_count": 62,
   "id": "9354e52f-40e9-45a1-b4e9-abdd7bf14ef7",
   "metadata": {
    "id": "9354e52f-40e9-45a1-b4e9-abdd7bf14ef7",
    "outputId": "299cab1d-c9d2-4fea-b312-d799fc9b1045"
   },
   "outputs": [
    {
     "data": {
      "text/plain": [
       "<tf.Tensor: shape=(2, 2), dtype=int32, numpy=\n",
       "array([[1, 2],\n",
       "       [3, 4]], dtype=int32)>"
      ]
     },
     "execution_count": 62,
     "metadata": {},
     "output_type": "execute_result"
    }
   ],
   "source": [
    "tf.reshape(a,(2,2))"
   ]
  },
  {
   "cell_type": "code",
   "execution_count": 63,
   "id": "de9bb009-a2e2-413e-9be1-44775fdd2357",
   "metadata": {
    "id": "de9bb009-a2e2-413e-9be1-44775fdd2357",
    "outputId": "403b781b-b86f-401c-a232-e9dc4f1301e5"
   },
   "outputs": [
    {
     "data": {
      "text/plain": [
       "<tf.Tensor: shape=(2, 2, 1), dtype=int32, numpy=\n",
       "array([[[1],\n",
       "        [2]],\n",
       "\n",
       "       [[3],\n",
       "        [4]]], dtype=int32)>"
      ]
     },
     "execution_count": 63,
     "metadata": {},
     "output_type": "execute_result"
    }
   ],
   "source": [
    "tf.reshape(a,(2,2,1))"
   ]
  },
  {
   "cell_type": "markdown",
   "id": "b6ae5c1a-d0e3-46a2-81c0-520f2bbea0f7",
   "metadata": {
    "id": "b6ae5c1a-d0e3-46a2-81c0-520f2bbea0f7"
   },
   "source": [
    "`-` 다차원"
   ]
  },
  {
   "cell_type": "code",
   "execution_count": 64,
   "id": "dcec2dd7-8da3-4feb-9dce-895047ab3033",
   "metadata": {
    "id": "dcec2dd7-8da3-4feb-9dce-895047ab3033",
    "outputId": "6a16d0ac-d573-4c48-9b4c-dec751d304f8"
   },
   "outputs": [
    {
     "data": {
      "text/plain": [
       "<tf.Tensor: shape=(12,), dtype=int32, numpy=array([ 1,  2,  3,  4,  5,  6,  7,  8,  9, 10, 11, 12], dtype=int32)>"
      ]
     },
     "execution_count": 64,
     "metadata": {},
     "output_type": "execute_result"
    }
   ],
   "source": [
    "a=tf.constant([1,2,3,4,5,6,7,8,9,10,11,12])\n",
    "a"
   ]
  },
  {
   "cell_type": "code",
   "execution_count": 65,
   "id": "cf51544b-013b-4d58-a961-89c99318dbe2",
   "metadata": {
    "id": "cf51544b-013b-4d58-a961-89c99318dbe2",
    "outputId": "8db0eac9-f634-4831-cedc-d778420d7c38"
   },
   "outputs": [
    {
     "data": {
      "text/plain": [
       "<tf.Tensor: shape=(2, 2, 3), dtype=int32, numpy=\n",
       "array([[[ 1,  2,  3],\n",
       "        [ 4,  5,  6]],\n",
       "\n",
       "       [[ 7,  8,  9],\n",
       "        [10, 11, 12]]], dtype=int32)>"
      ]
     },
     "execution_count": 65,
     "metadata": {},
     "output_type": "execute_result"
    }
   ],
   "source": [
    "tf.reshape(a,(2,2,3))"
   ]
  },
  {
   "cell_type": "code",
   "execution_count": 66,
   "id": "6ee27b0d-be41-45a7-8b2f-28d10b285703",
   "metadata": {
    "id": "6ee27b0d-be41-45a7-8b2f-28d10b285703",
    "outputId": "ba32321b-6f95-44fd-be25-61295d24073c"
   },
   "outputs": [
    {
     "data": {
      "text/plain": [
       "<tf.Tensor: shape=(4, 3), dtype=int32, numpy=\n",
       "array([[ 1,  2,  3],\n",
       "       [ 4,  5,  6],\n",
       "       [ 7,  8,  9],\n",
       "       [10, 11, 12]], dtype=int32)>"
      ]
     },
     "execution_count": 66,
     "metadata": {},
     "output_type": "execute_result"
    }
   ],
   "source": [
    "tf.reshape(a,(4,3))"
   ]
  },
  {
   "cell_type": "markdown",
   "id": "d832a7c4-123f-48a9-9ae3-01042fa92593",
   "metadata": {
    "id": "d832a7c4-123f-48a9-9ae3-01042fa92593"
   },
   "source": [
    "`-` tf.resh"
   ]
  },
  {
   "cell_type": "code",
   "execution_count": 67,
   "id": "43f908fd-6bca-47da-91f3-26e6185cfa6b",
   "metadata": {
    "id": "43f908fd-6bca-47da-91f3-26e6185cfa6b",
    "outputId": "461220a7-1a46-475a-912e-d27c9cf05845"
   },
   "outputs": [
    {
     "data": {
      "text/plain": [
       "<tf.Tensor: shape=(12,), dtype=int32, numpy=array([ 1,  2,  3,  4,  5,  6,  7,  8,  9, 10, 11, 12], dtype=int32)>"
      ]
     },
     "execution_count": 67,
     "metadata": {},
     "output_type": "execute_result"
    }
   ],
   "source": [
    "a=tf.constant([1,2,3,4,5,6,7,8,9,10,11,12])\n",
    "a"
   ]
  },
  {
   "cell_type": "code",
   "execution_count": 68,
   "id": "90f10eb0-1e82-49e6-a3ee-f731ec1f72a5",
   "metadata": {
    "id": "90f10eb0-1e82-49e6-a3ee-f731ec1f72a5",
    "outputId": "3928378b-471d-4094-dd60-e9c5c513f057"
   },
   "outputs": [
    {
     "data": {
      "text/plain": [
       "<tf.Tensor: shape=(4, 3), dtype=int32, numpy=\n",
       "array([[ 1,  2,  3],\n",
       "       [ 4,  5,  6],\n",
       "       [ 7,  8,  9],\n",
       "       [10, 11, 12]], dtype=int32)>"
      ]
     },
     "execution_count": 68,
     "metadata": {},
     "output_type": "execute_result"
    }
   ],
   "source": [
    "tf.reshape(a,(4,-1))"
   ]
  },
  {
   "cell_type": "code",
   "execution_count": 69,
   "id": "04e750b1-5421-4211-8528-5aba29b14e5d",
   "metadata": {
    "id": "04e750b1-5421-4211-8528-5aba29b14e5d",
    "outputId": "d1ffcc2c-6ec0-49d6-f2f2-c1bba0a21160"
   },
   "outputs": [
    {
     "data": {
      "text/plain": [
       "<tf.Tensor: shape=(2, 2, 3), dtype=int32, numpy=\n",
       "array([[[ 1,  2,  3],\n",
       "        [ 4,  5,  6]],\n",
       "\n",
       "       [[ 7,  8,  9],\n",
       "        [10, 11, 12]]], dtype=int32)>"
      ]
     },
     "execution_count": 69,
     "metadata": {},
     "output_type": "execute_result"
    }
   ],
   "source": [
    "tf.reshape(a,(2,2,-1))"
   ]
  },
  {
   "cell_type": "code",
   "execution_count": 70,
   "id": "df4aabe7-0aa0-40b0-b871-bb9c3fb774c8",
   "metadata": {
    "id": "df4aabe7-0aa0-40b0-b871-bb9c3fb774c8",
    "outputId": "7dcce93b-db12-4ca3-9ca2-2e62d72ec35a"
   },
   "outputs": [
    {
     "data": {
      "text/plain": [
       "<tf.Tensor: shape=(2, 2, 3), dtype=int32, numpy=\n",
       "array([[[ 1,  2,  3],\n",
       "        [ 4,  5,  6]],\n",
       "\n",
       "       [[ 7,  8,  9],\n",
       "        [10, 11, 12]]], dtype=int32)>"
      ]
     },
     "execution_count": 70,
     "metadata": {},
     "output_type": "execute_result"
    }
   ],
   "source": [
    "b=tf.reshape(a,(2,2,-1))\n",
    "b"
   ]
  },
  {
   "cell_type": "code",
   "execution_count": 71,
   "id": "eda38fc5-f863-42fe-9d15-223ff98d6974",
   "metadata": {
    "id": "eda38fc5-f863-42fe-9d15-223ff98d6974",
    "outputId": "95f73054-a0e2-419c-f8ce-f88810236f93"
   },
   "outputs": [
    {
     "data": {
      "text/plain": [
       "<tf.Tensor: shape=(12,), dtype=int32, numpy=array([ 1,  2,  3,  4,  5,  6,  7,  8,  9, 10, 11, 12], dtype=int32)>"
      ]
     },
     "execution_count": 71,
     "metadata": {},
     "output_type": "execute_result"
    }
   ],
   "source": [
    "tf.reshape(b,-1)"
   ]
  },
  {
   "cell_type": "markdown",
   "id": "327eb735-9f41-40d5-8837-1ff630860b58",
   "metadata": {
    "id": "327eb735-9f41-40d5-8837-1ff630860b58"
   },
   "source": [
    "#### 선언고급"
   ]
  },
  {
   "cell_type": "markdown",
   "id": "78a276fe-ebf1-481d-9f3e-c887e233f6f2",
   "metadata": {
    "id": "78a276fe-ebf1-481d-9f3e-c887e233f6f2"
   },
   "source": [
    "`-` 다른 자료형 (리스트나 넘파이)로 만들고 바꾸는것도 좋다."
   ]
  },
  {
   "cell_type": "code",
   "execution_count": 72,
   "id": "9185ab7c-7458-447c-9bb8-7b158bd68f53",
   "metadata": {
    "id": "9185ab7c-7458-447c-9bb8-7b158bd68f53",
    "outputId": "c7ae99ae-ff07-402d-c9a3-77fde1947160"
   },
   "outputs": [
    {
     "data": {
      "text/plain": [
       "array([[1, 0, 0, 0],\n",
       "       [0, 2, 0, 0],\n",
       "       [0, 0, 3, 0],\n",
       "       [0, 0, 0, 4]])"
      ]
     },
     "execution_count": 72,
     "metadata": {},
     "output_type": "execute_result"
    }
   ],
   "source": [
    "np.diag([1,2,3,4])"
   ]
  },
  {
   "cell_type": "code",
   "execution_count": 73,
   "id": "f9be760f-aca3-4771-b857-49ccd36c1bdd",
   "metadata": {
    "id": "f9be760f-aca3-4771-b857-49ccd36c1bdd",
    "outputId": "e65d8521-0391-4a27-8fc8-2116bfbd6adf"
   },
   "outputs": [
    {
     "data": {
      "text/plain": [
       "<tf.Tensor: shape=(4, 4), dtype=int64, numpy=\n",
       "array([[1, 0, 0, 0],\n",
       "       [0, 2, 0, 0],\n",
       "       [0, 0, 3, 0],\n",
       "       [0, 0, 0, 4]])>"
      ]
     },
     "execution_count": 73,
     "metadata": {},
     "output_type": "execute_result"
    }
   ],
   "source": [
    "tf.constant(np.diag([1,2,3,4]))"
   ]
  },
  {
   "cell_type": "markdown",
   "id": "bc7ff27a-5296-437a-afe9-1ed94ec680b5",
   "metadata": {
    "id": "bc7ff27a-5296-437a-afe9-1ed94ec680b5"
   },
   "source": [
    "`-` tf.ones, tf.zeros"
   ]
  },
  {
   "cell_type": "code",
   "execution_count": 74,
   "id": "60158e48-431a-4a32-97f2-2f20826e6b21",
   "metadata": {
    "id": "60158e48-431a-4a32-97f2-2f20826e6b21",
    "outputId": "3e1d62d5-51d9-4eca-e26e-b2f40c229916"
   },
   "outputs": [
    {
     "data": {
      "text/plain": [
       "<tf.Tensor: shape=(3, 3), dtype=float32, numpy=\n",
       "array([[0., 0., 0.],\n",
       "       [0., 0., 0.],\n",
       "       [0., 0., 0.]], dtype=float32)>"
      ]
     },
     "execution_count": 74,
     "metadata": {},
     "output_type": "execute_result"
    }
   ],
   "source": [
    "tf.zeros([3,3])"
   ]
  },
  {
   "cell_type": "code",
   "execution_count": 75,
   "id": "198bc334-ad60-4169-ba4c-a34004214040",
   "metadata": {
    "id": "198bc334-ad60-4169-ba4c-a34004214040",
    "outputId": "51a10abc-f89e-4c1f-93bc-b1c769a5b597"
   },
   "outputs": [
    {
     "data": {
      "text/plain": [
       "<tf.Tensor: shape=(3, 3), dtype=int32, numpy=\n",
       "array([[0, 0, 0],\n",
       "       [0, 0, 0],\n",
       "       [0, 0, 0]], dtype=int32)>"
      ]
     },
     "execution_count": 75,
     "metadata": {},
     "output_type": "execute_result"
    }
   ],
   "source": [
    "tf.reshape(tf.constant([0]*9),(3,3))"
   ]
  },
  {
   "cell_type": "markdown",
   "id": "1eb6b6bb-a2b3-4b8c-bd0b-d4aa701a1fa3",
   "metadata": {
    "id": "1eb6b6bb-a2b3-4b8c-bd0b-d4aa701a1fa3"
   },
   "source": [
    "`-` range(10)"
   ]
  },
  {
   "cell_type": "code",
   "execution_count": 76,
   "id": "20340c4c-c619-42b6-9001-c0b26a26f5b9",
   "metadata": {
    "id": "20340c4c-c619-42b6-9001-c0b26a26f5b9",
    "outputId": "48157a46-e4cd-47d5-9d4f-80b39c3e68d7"
   },
   "outputs": [
    {
     "data": {
      "text/plain": [
       "<tf.Tensor: shape=(12,), dtype=int32, numpy=array([ 0,  1,  2,  3,  4,  5,  6,  7,  8,  9, 10, 11], dtype=int32)>"
      ]
     },
     "execution_count": 76,
     "metadata": {},
     "output_type": "execute_result"
    }
   ],
   "source": [
    "a=range(0,12)\n",
    "tf.constant(a)"
   ]
  },
  {
   "cell_type": "code",
   "execution_count": 77,
   "id": "84e1cdd1-d2e2-4f23-8a20-28943d3c3562",
   "metadata": {
    "id": "84e1cdd1-d2e2-4f23-8a20-28943d3c3562",
    "outputId": "97374c40-5e86-43ae-b314-eeb7e214cf59"
   },
   "outputs": [
    {
     "data": {
      "text/plain": [
       "<tf.Tensor: shape=(7,), dtype=int32, numpy=array([ 1,  4,  7, 10, 13, 16, 19], dtype=int32)>"
      ]
     },
     "execution_count": 77,
     "metadata": {},
     "output_type": "execute_result"
    }
   ],
   "source": [
    "tf.constant(range(1,20,3))"
   ]
  },
  {
   "cell_type": "markdown",
   "id": "233cc1ed-5fc2-4174-985b-a3f18815436b",
   "metadata": {
    "id": "233cc1ed-5fc2-4174-985b-a3f18815436b"
   },
   "source": [
    "`-` tf.linspace"
   ]
  },
  {
   "cell_type": "code",
   "execution_count": 78,
   "id": "74a8c861-e0cb-47d5-bd01-9bc40bb55191",
   "metadata": {
    "id": "74a8c861-e0cb-47d5-bd01-9bc40bb55191",
    "outputId": "e305f5ab-9428-42f8-ab4d-bfb06bd852fd"
   },
   "outputs": [
    {
     "data": {
      "text/plain": [
       "<tf.Tensor: shape=(10,), dtype=float64, numpy=\n",
       "array([0.        , 0.11111111, 0.22222222, 0.33333333, 0.44444444,\n",
       "       0.55555556, 0.66666667, 0.77777778, 0.88888889, 1.        ])>"
      ]
     },
     "execution_count": 78,
     "metadata": {},
     "output_type": "execute_result"
    }
   ],
   "source": [
    "tf.linspace(0,1,10)"
   ]
  },
  {
   "cell_type": "markdown",
   "id": "2d0f27b7-688e-437a-856a-7ebb6d6a4a27",
   "metadata": {
    "id": "2d0f27b7-688e-437a-856a-7ebb6d6a4a27"
   },
   "source": [
    "#### tf.concat"
   ]
  },
  {
   "cell_type": "markdown",
   "id": "9d24bcf0-7c14-499c-9647-bd48451c7765",
   "metadata": {
    "id": "9d24bcf0-7c14-499c-9647-bd48451c7765"
   },
   "source": [
    "`-` (2,1) concat (2,1) => (2,2)\n",
    "- 두번째 축이 바뀌었다. => axis=1"
   ]
  },
  {
   "cell_type": "code",
   "execution_count": 79,
   "id": "6637263c-4d2c-4902-b609-2c1d043c7f51",
   "metadata": {
    "id": "6637263c-4d2c-4902-b609-2c1d043c7f51",
    "outputId": "9c9aabf3-c024-46bf-ecab-25a841daa53a"
   },
   "outputs": [
    {
     "data": {
      "text/plain": [
       "(<tf.Tensor: shape=(2, 1), dtype=int32, numpy=\n",
       " array([[1],\n",
       "        [2]], dtype=int32)>,\n",
       " <tf.Tensor: shape=(2, 1), dtype=int32, numpy=\n",
       " array([[3],\n",
       "        [4]], dtype=int32)>)"
      ]
     },
     "execution_count": 79,
     "metadata": {},
     "output_type": "execute_result"
    }
   ],
   "source": [
    "a=tf.constant([[1],[2]])\n",
    "b=tf.constant([[3],[4]])\n",
    "a,b"
   ]
  },
  {
   "cell_type": "code",
   "execution_count": 80,
   "id": "e14c479a-b757-437e-aa6c-b4ec195ccef9",
   "metadata": {
    "id": "e14c479a-b757-437e-aa6c-b4ec195ccef9",
    "outputId": "1a0eec8c-1d78-4552-b083-3f22926b400e"
   },
   "outputs": [
    {
     "data": {
      "text/plain": [
       "<tf.Tensor: shape=(2, 2), dtype=int32, numpy=\n",
       "array([[1, 3],\n",
       "       [2, 4]], dtype=int32)>"
      ]
     },
     "execution_count": 80,
     "metadata": {},
     "output_type": "execute_result"
    }
   ],
   "source": [
    "tf.concat([a,b],axis=1)"
   ]
  },
  {
   "cell_type": "markdown",
   "id": "bc88c9f5-df4b-420d-9fe7-40a51de2e92f",
   "metadata": {
    "id": "bc88c9f5-df4b-420d-9fe7-40a51de2e92f"
   },
   "source": [
    "`-` (2,1) concat (2,1) => (4,1)\n",
    "- 첫번째 축이 바뀌었다. => axis=0"
   ]
  },
  {
   "cell_type": "code",
   "execution_count": 81,
   "id": "c9303d28-e105-40cd-845e-48b88350a2c3",
   "metadata": {
    "id": "c9303d28-e105-40cd-845e-48b88350a2c3",
    "outputId": "b3e09c6e-b98f-4c26-cbb4-c13124e3c155"
   },
   "outputs": [
    {
     "data": {
      "text/plain": [
       "(<tf.Tensor: shape=(2, 1), dtype=int32, numpy=\n",
       " array([[1],\n",
       "        [2]], dtype=int32)>,\n",
       " <tf.Tensor: shape=(2, 1), dtype=int32, numpy=\n",
       " array([[3],\n",
       "        [4]], dtype=int32)>)"
      ]
     },
     "execution_count": 81,
     "metadata": {},
     "output_type": "execute_result"
    }
   ],
   "source": [
    "a=tf.constant([[1],[2]])\n",
    "b=tf.constant([[3],[4]])\n",
    "a,b"
   ]
  },
  {
   "cell_type": "code",
   "execution_count": 82,
   "id": "93574aad-a592-45cd-bdac-2f2b93d1ca4e",
   "metadata": {
    "id": "93574aad-a592-45cd-bdac-2f2b93d1ca4e",
    "outputId": "c7f4514e-cac2-43c4-b88e-e8395d87f187"
   },
   "outputs": [
    {
     "data": {
      "text/plain": [
       "<tf.Tensor: shape=(4, 1), dtype=int32, numpy=\n",
       "array([[1],\n",
       "       [2],\n",
       "       [3],\n",
       "       [4]], dtype=int32)>"
      ]
     },
     "execution_count": 82,
     "metadata": {},
     "output_type": "execute_result"
    }
   ],
   "source": [
    "tf.concat([a,b],axis=0)"
   ]
  },
  {
   "cell_type": "markdown",
   "id": "f1515d99-1a9a-426d-acb3-860df3076552",
   "metadata": {
    "id": "f1515d99-1a9a-426d-acb3-860df3076552"
   },
   "source": [
    "`-` (1,2) concat (1,2) => (2,2)\n",
    "- 첫번째 // axis=0"
   ]
  },
  {
   "cell_type": "code",
   "execution_count": 83,
   "id": "e95c64f4-e416-49e4-8a1d-c50f74965470",
   "metadata": {
    "id": "e95c64f4-e416-49e4-8a1d-c50f74965470"
   },
   "outputs": [],
   "source": [
    "a=tf.constant([[1,2]])\n",
    "b=tf.constant([[3,4]])"
   ]
  },
  {
   "cell_type": "code",
   "execution_count": 84,
   "id": "9c23f461-7340-444b-9fba-a105e8b37961",
   "metadata": {
    "id": "9c23f461-7340-444b-9fba-a105e8b37961",
    "outputId": "8449f67d-3eed-4d47-ef46-13f312568226"
   },
   "outputs": [
    {
     "data": {
      "text/plain": [
       "<tf.Tensor: shape=(2, 2), dtype=int32, numpy=\n",
       "array([[1, 2],\n",
       "       [3, 4]], dtype=int32)>"
      ]
     },
     "execution_count": 84,
     "metadata": {},
     "output_type": "execute_result"
    }
   ],
   "source": [
    "tf.concat([a,b],axis=0)"
   ]
  },
  {
   "cell_type": "markdown",
   "id": "2ff3f9de-d9e6-4091-a0f8-ce4eed1f6a9f",
   "metadata": {
    "id": "2ff3f9de-d9e6-4091-a0f8-ce4eed1f6a9f"
   },
   "source": [
    "`-` (1,2) concat (1,2) => (1,4)\n",
    "- 두번째 // axis=1"
   ]
  },
  {
   "cell_type": "code",
   "execution_count": 85,
   "id": "302b934e-b9f0-434d-bcd4-9a1219f16093",
   "metadata": {},
   "outputs": [],
   "source": [
    "a=tf.constant([[1,2]])\n",
    "b=tf.constant([[3,4]])"
   ]
  },
  {
   "cell_type": "code",
   "execution_count": 86,
   "id": "e287b131-28df-4398-bace-b579bd758fcd",
   "metadata": {},
   "outputs": [
    {
     "data": {
      "text/plain": [
       "<tf.Tensor: shape=(1, 4), dtype=int32, numpy=array([[1, 2, 3, 4]], dtype=int32)>"
      ]
     },
     "execution_count": 86,
     "metadata": {},
     "output_type": "execute_result"
    }
   ],
   "source": [
    "tf.concat([a,b],axis=1)"
   ]
  },
  {
   "cell_type": "markdown",
   "id": "38ce37d2-d9a5-4544-b33c-392b0f7d36d9",
   "metadata": {
    "id": "38ce37d2-d9a5-4544-b33c-392b0f7d36d9"
   },
   "source": [
    "`-` (2,3,4,5) concat (2,3,4,5) => (4,3,4,5)\n",
    "- 첫번째 // axis=0"
   ]
  },
  {
   "cell_type": "code",
   "execution_count": 87,
   "id": "8f250340-fd33-48ef-86aa-153f0fc23968",
   "metadata": {
    "id": "8f250340-fd33-48ef-86aa-153f0fc23968"
   },
   "outputs": [],
   "source": [
    "a=tf.reshape(tf.constant(range(120)),(2,3,4,5))\n",
    "b=-a"
   ]
  },
  {
   "cell_type": "code",
   "execution_count": 88,
   "id": "31591041-8fed-4367-bc21-515bf830578b",
   "metadata": {
    "id": "31591041-8fed-4367-bc21-515bf830578b",
    "outputId": "6b1dfe42-2141-40b6-af87-4d7e2d836eac"
   },
   "outputs": [
    {
     "data": {
      "text/plain": [
       "<tf.Tensor: shape=(4, 3, 4, 5), dtype=int32, numpy=\n",
       "array([[[[   0,    1,    2,    3,    4],\n",
       "         [   5,    6,    7,    8,    9],\n",
       "         [  10,   11,   12,   13,   14],\n",
       "         [  15,   16,   17,   18,   19]],\n",
       "\n",
       "        [[  20,   21,   22,   23,   24],\n",
       "         [  25,   26,   27,   28,   29],\n",
       "         [  30,   31,   32,   33,   34],\n",
       "         [  35,   36,   37,   38,   39]],\n",
       "\n",
       "        [[  40,   41,   42,   43,   44],\n",
       "         [  45,   46,   47,   48,   49],\n",
       "         [  50,   51,   52,   53,   54],\n",
       "         [  55,   56,   57,   58,   59]]],\n",
       "\n",
       "\n",
       "       [[[  60,   61,   62,   63,   64],\n",
       "         [  65,   66,   67,   68,   69],\n",
       "         [  70,   71,   72,   73,   74],\n",
       "         [  75,   76,   77,   78,   79]],\n",
       "\n",
       "        [[  80,   81,   82,   83,   84],\n",
       "         [  85,   86,   87,   88,   89],\n",
       "         [  90,   91,   92,   93,   94],\n",
       "         [  95,   96,   97,   98,   99]],\n",
       "\n",
       "        [[ 100,  101,  102,  103,  104],\n",
       "         [ 105,  106,  107,  108,  109],\n",
       "         [ 110,  111,  112,  113,  114],\n",
       "         [ 115,  116,  117,  118,  119]]],\n",
       "\n",
       "\n",
       "       [[[   0,   -1,   -2,   -3,   -4],\n",
       "         [  -5,   -6,   -7,   -8,   -9],\n",
       "         [ -10,  -11,  -12,  -13,  -14],\n",
       "         [ -15,  -16,  -17,  -18,  -19]],\n",
       "\n",
       "        [[ -20,  -21,  -22,  -23,  -24],\n",
       "         [ -25,  -26,  -27,  -28,  -29],\n",
       "         [ -30,  -31,  -32,  -33,  -34],\n",
       "         [ -35,  -36,  -37,  -38,  -39]],\n",
       "\n",
       "        [[ -40,  -41,  -42,  -43,  -44],\n",
       "         [ -45,  -46,  -47,  -48,  -49],\n",
       "         [ -50,  -51,  -52,  -53,  -54],\n",
       "         [ -55,  -56,  -57,  -58,  -59]]],\n",
       "\n",
       "\n",
       "       [[[ -60,  -61,  -62,  -63,  -64],\n",
       "         [ -65,  -66,  -67,  -68,  -69],\n",
       "         [ -70,  -71,  -72,  -73,  -74],\n",
       "         [ -75,  -76,  -77,  -78,  -79]],\n",
       "\n",
       "        [[ -80,  -81,  -82,  -83,  -84],\n",
       "         [ -85,  -86,  -87,  -88,  -89],\n",
       "         [ -90,  -91,  -92,  -93,  -94],\n",
       "         [ -95,  -96,  -97,  -98,  -99]],\n",
       "\n",
       "        [[-100, -101, -102, -103, -104],\n",
       "         [-105, -106, -107, -108, -109],\n",
       "         [-110, -111, -112, -113, -114],\n",
       "         [-115, -116, -117, -118, -119]]]], dtype=int32)>"
      ]
     },
     "execution_count": 88,
     "metadata": {},
     "output_type": "execute_result"
    }
   ],
   "source": [
    "tf.concat([a,b],axis=0)"
   ]
  },
  {
   "cell_type": "markdown",
   "id": "0f85fe76-300e-44cb-9911-431594e89b21",
   "metadata": {
    "id": "0f85fe76-300e-44cb-9911-431594e89b21"
   },
   "source": [
    "`-` (2,3,4,5) concat (2,3,4,5) => (2,6,4,5)\n",
    "- 두번째 // axis=1"
   ]
  },
  {
   "cell_type": "code",
   "execution_count": 89,
   "id": "fe2075cd-aa38-494d-8b3a-1156e3c40e6a",
   "metadata": {
    "id": "fe2075cd-aa38-494d-8b3a-1156e3c40e6a"
   },
   "outputs": [],
   "source": [
    "a=tf.reshape(tf.constant(range(120)),(2,3,4,5))\n",
    "b=-a"
   ]
  },
  {
   "cell_type": "code",
   "execution_count": 90,
   "id": "a59f627a-3423-4b9b-962a-7869f500ec2f",
   "metadata": {
    "id": "a59f627a-3423-4b9b-962a-7869f500ec2f",
    "outputId": "c188f01a-a609-492e-fbbf-025d9475c8a6"
   },
   "outputs": [
    {
     "data": {
      "text/plain": [
       "<tf.Tensor: shape=(2, 6, 4, 5), dtype=int32, numpy=\n",
       "array([[[[   0,    1,    2,    3,    4],\n",
       "         [   5,    6,    7,    8,    9],\n",
       "         [  10,   11,   12,   13,   14],\n",
       "         [  15,   16,   17,   18,   19]],\n",
       "\n",
       "        [[  20,   21,   22,   23,   24],\n",
       "         [  25,   26,   27,   28,   29],\n",
       "         [  30,   31,   32,   33,   34],\n",
       "         [  35,   36,   37,   38,   39]],\n",
       "\n",
       "        [[  40,   41,   42,   43,   44],\n",
       "         [  45,   46,   47,   48,   49],\n",
       "         [  50,   51,   52,   53,   54],\n",
       "         [  55,   56,   57,   58,   59]],\n",
       "\n",
       "        [[   0,   -1,   -2,   -3,   -4],\n",
       "         [  -5,   -6,   -7,   -8,   -9],\n",
       "         [ -10,  -11,  -12,  -13,  -14],\n",
       "         [ -15,  -16,  -17,  -18,  -19]],\n",
       "\n",
       "        [[ -20,  -21,  -22,  -23,  -24],\n",
       "         [ -25,  -26,  -27,  -28,  -29],\n",
       "         [ -30,  -31,  -32,  -33,  -34],\n",
       "         [ -35,  -36,  -37,  -38,  -39]],\n",
       "\n",
       "        [[ -40,  -41,  -42,  -43,  -44],\n",
       "         [ -45,  -46,  -47,  -48,  -49],\n",
       "         [ -50,  -51,  -52,  -53,  -54],\n",
       "         [ -55,  -56,  -57,  -58,  -59]]],\n",
       "\n",
       "\n",
       "       [[[  60,   61,   62,   63,   64],\n",
       "         [  65,   66,   67,   68,   69],\n",
       "         [  70,   71,   72,   73,   74],\n",
       "         [  75,   76,   77,   78,   79]],\n",
       "\n",
       "        [[  80,   81,   82,   83,   84],\n",
       "         [  85,   86,   87,   88,   89],\n",
       "         [  90,   91,   92,   93,   94],\n",
       "         [  95,   96,   97,   98,   99]],\n",
       "\n",
       "        [[ 100,  101,  102,  103,  104],\n",
       "         [ 105,  106,  107,  108,  109],\n",
       "         [ 110,  111,  112,  113,  114],\n",
       "         [ 115,  116,  117,  118,  119]],\n",
       "\n",
       "        [[ -60,  -61,  -62,  -63,  -64],\n",
       "         [ -65,  -66,  -67,  -68,  -69],\n",
       "         [ -70,  -71,  -72,  -73,  -74],\n",
       "         [ -75,  -76,  -77,  -78,  -79]],\n",
       "\n",
       "        [[ -80,  -81,  -82,  -83,  -84],\n",
       "         [ -85,  -86,  -87,  -88,  -89],\n",
       "         [ -90,  -91,  -92,  -93,  -94],\n",
       "         [ -95,  -96,  -97,  -98,  -99]],\n",
       "\n",
       "        [[-100, -101, -102, -103, -104],\n",
       "         [-105, -106, -107, -108, -109],\n",
       "         [-110, -111, -112, -113, -114],\n",
       "         [-115, -116, -117, -118, -119]]]], dtype=int32)>"
      ]
     },
     "execution_count": 90,
     "metadata": {},
     "output_type": "execute_result"
    }
   ],
   "source": [
    "tf.concat([a,b],axis=1)"
   ]
  },
  {
   "cell_type": "markdown",
   "id": "aad1526d-1ac1-4f00-871d-1985f51c7df8",
   "metadata": {
    "id": "aad1526d-1ac1-4f00-871d-1985f51c7df8"
   },
   "source": [
    "`-` (2,3,4,5) concat (2,3,4,5) => (2,3,8,5)\n",
    "- 세번째 // axis=2"
   ]
  },
  {
   "cell_type": "code",
   "execution_count": 91,
   "id": "156589da-05fc-469e-b498-468c0936f9ad",
   "metadata": {
    "id": "156589da-05fc-469e-b498-468c0936f9ad"
   },
   "outputs": [],
   "source": [
    "a=tf.reshape(tf.constant(range(120)),(2,3,4,5))\n",
    "b=-a"
   ]
  },
  {
   "cell_type": "code",
   "execution_count": 92,
   "id": "92c131ed-8ec8-4143-b55c-35c6d8efe323",
   "metadata": {
    "id": "92c131ed-8ec8-4143-b55c-35c6d8efe323",
    "outputId": "bcb536b0-87d7-4674-f67f-bde232289ac6"
   },
   "outputs": [
    {
     "data": {
      "text/plain": [
       "<tf.Tensor: shape=(2, 3, 8, 5), dtype=int32, numpy=\n",
       "array([[[[   0,    1,    2,    3,    4],\n",
       "         [   5,    6,    7,    8,    9],\n",
       "         [  10,   11,   12,   13,   14],\n",
       "         [  15,   16,   17,   18,   19],\n",
       "         [   0,   -1,   -2,   -3,   -4],\n",
       "         [  -5,   -6,   -7,   -8,   -9],\n",
       "         [ -10,  -11,  -12,  -13,  -14],\n",
       "         [ -15,  -16,  -17,  -18,  -19]],\n",
       "\n",
       "        [[  20,   21,   22,   23,   24],\n",
       "         [  25,   26,   27,   28,   29],\n",
       "         [  30,   31,   32,   33,   34],\n",
       "         [  35,   36,   37,   38,   39],\n",
       "         [ -20,  -21,  -22,  -23,  -24],\n",
       "         [ -25,  -26,  -27,  -28,  -29],\n",
       "         [ -30,  -31,  -32,  -33,  -34],\n",
       "         [ -35,  -36,  -37,  -38,  -39]],\n",
       "\n",
       "        [[  40,   41,   42,   43,   44],\n",
       "         [  45,   46,   47,   48,   49],\n",
       "         [  50,   51,   52,   53,   54],\n",
       "         [  55,   56,   57,   58,   59],\n",
       "         [ -40,  -41,  -42,  -43,  -44],\n",
       "         [ -45,  -46,  -47,  -48,  -49],\n",
       "         [ -50,  -51,  -52,  -53,  -54],\n",
       "         [ -55,  -56,  -57,  -58,  -59]]],\n",
       "\n",
       "\n",
       "       [[[  60,   61,   62,   63,   64],\n",
       "         [  65,   66,   67,   68,   69],\n",
       "         [  70,   71,   72,   73,   74],\n",
       "         [  75,   76,   77,   78,   79],\n",
       "         [ -60,  -61,  -62,  -63,  -64],\n",
       "         [ -65,  -66,  -67,  -68,  -69],\n",
       "         [ -70,  -71,  -72,  -73,  -74],\n",
       "         [ -75,  -76,  -77,  -78,  -79]],\n",
       "\n",
       "        [[  80,   81,   82,   83,   84],\n",
       "         [  85,   86,   87,   88,   89],\n",
       "         [  90,   91,   92,   93,   94],\n",
       "         [  95,   96,   97,   98,   99],\n",
       "         [ -80,  -81,  -82,  -83,  -84],\n",
       "         [ -85,  -86,  -87,  -88,  -89],\n",
       "         [ -90,  -91,  -92,  -93,  -94],\n",
       "         [ -95,  -96,  -97,  -98,  -99]],\n",
       "\n",
       "        [[ 100,  101,  102,  103,  104],\n",
       "         [ 105,  106,  107,  108,  109],\n",
       "         [ 110,  111,  112,  113,  114],\n",
       "         [ 115,  116,  117,  118,  119],\n",
       "         [-100, -101, -102, -103, -104],\n",
       "         [-105, -106, -107, -108, -109],\n",
       "         [-110, -111, -112, -113, -114],\n",
       "         [-115, -116, -117, -118, -119]]]], dtype=int32)>"
      ]
     },
     "execution_count": 92,
     "metadata": {},
     "output_type": "execute_result"
    }
   ],
   "source": [
    "tf.concat([a,b],axis=2)"
   ]
  },
  {
   "cell_type": "markdown",
   "id": "9f65a127-51cb-40e3-b526-5f41a84248f8",
   "metadata": {
    "id": "9f65a127-51cb-40e3-b526-5f41a84248f8"
   },
   "source": [
    "`-` (2,3,4,5) concat (2,3,4,5) => (2,3,4,10)\n",
    "- 네번째 // axis=3 # 0,1,2,3 // -4 -3 -2 -1"
   ]
  },
  {
   "cell_type": "code",
   "execution_count": 93,
   "id": "d59cf9ac-67c7-4931-be01-8f1432b2d4d5",
   "metadata": {
    "id": "d59cf9ac-67c7-4931-be01-8f1432b2d4d5"
   },
   "outputs": [],
   "source": [
    "a=tf.reshape(tf.constant(range(120)),(2,3,4,5))\n",
    "b=-a"
   ]
  },
  {
   "cell_type": "code",
   "execution_count": 94,
   "id": "050efe1d-9744-4b7c-93b5-ab92f01191e4",
   "metadata": {
    "id": "050efe1d-9744-4b7c-93b5-ab92f01191e4",
    "outputId": "ed530031-8a50-4798-c979-f5228f4d3587"
   },
   "outputs": [
    {
     "data": {
      "text/plain": [
       "<tf.Tensor: shape=(2, 3, 4, 10), dtype=int32, numpy=\n",
       "array([[[[   0,    1,    2,    3,    4,    0,   -1,   -2,   -3,   -4],\n",
       "         [   5,    6,    7,    8,    9,   -5,   -6,   -7,   -8,   -9],\n",
       "         [  10,   11,   12,   13,   14,  -10,  -11,  -12,  -13,  -14],\n",
       "         [  15,   16,   17,   18,   19,  -15,  -16,  -17,  -18,  -19]],\n",
       "\n",
       "        [[  20,   21,   22,   23,   24,  -20,  -21,  -22,  -23,  -24],\n",
       "         [  25,   26,   27,   28,   29,  -25,  -26,  -27,  -28,  -29],\n",
       "         [  30,   31,   32,   33,   34,  -30,  -31,  -32,  -33,  -34],\n",
       "         [  35,   36,   37,   38,   39,  -35,  -36,  -37,  -38,  -39]],\n",
       "\n",
       "        [[  40,   41,   42,   43,   44,  -40,  -41,  -42,  -43,  -44],\n",
       "         [  45,   46,   47,   48,   49,  -45,  -46,  -47,  -48,  -49],\n",
       "         [  50,   51,   52,   53,   54,  -50,  -51,  -52,  -53,  -54],\n",
       "         [  55,   56,   57,   58,   59,  -55,  -56,  -57,  -58,  -59]]],\n",
       "\n",
       "\n",
       "       [[[  60,   61,   62,   63,   64,  -60,  -61,  -62,  -63,  -64],\n",
       "         [  65,   66,   67,   68,   69,  -65,  -66,  -67,  -68,  -69],\n",
       "         [  70,   71,   72,   73,   74,  -70,  -71,  -72,  -73,  -74],\n",
       "         [  75,   76,   77,   78,   79,  -75,  -76,  -77,  -78,  -79]],\n",
       "\n",
       "        [[  80,   81,   82,   83,   84,  -80,  -81,  -82,  -83,  -84],\n",
       "         [  85,   86,   87,   88,   89,  -85,  -86,  -87,  -88,  -89],\n",
       "         [  90,   91,   92,   93,   94,  -90,  -91,  -92,  -93,  -94],\n",
       "         [  95,   96,   97,   98,   99,  -95,  -96,  -97,  -98,  -99]],\n",
       "\n",
       "        [[ 100,  101,  102,  103,  104, -100, -101, -102, -103, -104],\n",
       "         [ 105,  106,  107,  108,  109, -105, -106, -107, -108, -109],\n",
       "         [ 110,  111,  112,  113,  114, -110, -111, -112, -113, -114],\n",
       "         [ 115,  116,  117,  118,  119, -115, -116, -117, -118, -119]]]],\n",
       "      dtype=int32)>"
      ]
     },
     "execution_count": 94,
     "metadata": {},
     "output_type": "execute_result"
    }
   ],
   "source": [
    "tf.concat([a,b],axis=-1)"
   ]
  },
  {
   "cell_type": "markdown",
   "id": "acd955d0-8df1-43cb-8b93-c5aa6e884575",
   "metadata": {
    "id": "acd955d0-8df1-43cb-8b93-c5aa6e884575"
   },
   "source": [
    "`-` (4,) concat (4,) => (8,)\n",
    "- 첫번째축? // axis=0"
   ]
  },
  {
   "cell_type": "code",
   "execution_count": 95,
   "id": "45a1cc9b-d2a1-4896-9f10-384896f3e2e8",
   "metadata": {
    "id": "45a1cc9b-d2a1-4896-9f10-384896f3e2e8",
    "outputId": "4a9590b4-6d42-4fa5-a7bf-57cf537548e8"
   },
   "outputs": [
    {
     "data": {
      "text/plain": [
       "(<tf.Tensor: shape=(4,), dtype=int32, numpy=array([1, 2, 3, 4], dtype=int32)>,\n",
       " <tf.Tensor: shape=(4,), dtype=int32, numpy=array([-1, -2, -3, -4], dtype=int32)>)"
      ]
     },
     "execution_count": 95,
     "metadata": {},
     "output_type": "execute_result"
    }
   ],
   "source": [
    "a=tf.constant([1,2,3,4])\n",
    "b=-a\n",
    "a,b"
   ]
  },
  {
   "cell_type": "code",
   "execution_count": 96,
   "id": "b2f99383-354f-4c41-a6e4-f624b303acc4",
   "metadata": {
    "id": "b2f99383-354f-4c41-a6e4-f624b303acc4",
    "outputId": "6a97b39c-3e85-417a-ef89-ade0e45ce848"
   },
   "outputs": [
    {
     "data": {
      "text/plain": [
       "<tf.Tensor: shape=(8,), dtype=int32, numpy=array([ 1,  2,  3,  4, -1, -2, -3, -4], dtype=int32)>"
      ]
     },
     "execution_count": 96,
     "metadata": {},
     "output_type": "execute_result"
    }
   ],
   "source": [
    "tf.concat([a,b],axis=0)"
   ]
  },
  {
   "cell_type": "markdown",
   "id": "9919a953-60c7-4318-b9bc-a75506223688",
   "metadata": {
    "id": "9919a953-60c7-4318-b9bc-a75506223688"
   },
   "source": [
    "`-` (4,) concat (4,) => (4,2)\n",
    "- 두번째축? // axis=1 ==> 이런거없다.."
   ]
  },
  {
   "cell_type": "code",
   "execution_count": 97,
   "id": "02794bf8-bdbe-48d9-ad75-f3035e884cc8",
   "metadata": {
    "id": "02794bf8-bdbe-48d9-ad75-f3035e884cc8",
    "outputId": "e960b091-0b55-4d5e-ff31-c37b0c04989e"
   },
   "outputs": [
    {
     "data": {
      "text/plain": [
       "(<tf.Tensor: shape=(4,), dtype=int32, numpy=array([1, 2, 3, 4], dtype=int32)>,\n",
       " <tf.Tensor: shape=(4,), dtype=int32, numpy=array([-1, -2, -3, -4], dtype=int32)>)"
      ]
     },
     "execution_count": 97,
     "metadata": {},
     "output_type": "execute_result"
    }
   ],
   "source": [
    "a=tf.constant([1,2,3,4])\n",
    "b=-a\n",
    "a,b"
   ]
  },
  {
   "cell_type": "code",
   "execution_count": 98,
   "id": "0ee1d090-7481-4a45-9e43-01783dc1583d",
   "metadata": {
    "id": "0ee1d090-7481-4a45-9e43-01783dc1583d",
    "outputId": "a362a337-052f-4aae-bad9-148091f7fe79"
   },
   "outputs": [
    {
     "ename": "InvalidArgumentError",
     "evalue": "{{function_node __wrapped__ConcatV2_N_2_device_/job:localhost/replica:0/task:0/device:CPU:0}} ConcatOp : Expected concatenating dimensions in the range [-1, 1), but got 1 [Op:ConcatV2] name: concat",
     "output_type": "error",
     "traceback": [
      "\u001b[0;31m---------------------------------------------------------------------------\u001b[0m",
      "\u001b[0;31mInvalidArgumentError\u001b[0m                      Traceback (most recent call last)",
      "Cell \u001b[0;32mIn[98], line 1\u001b[0m\n\u001b[0;32m----> 1\u001b[0m \u001b[43mtf\u001b[49m\u001b[38;5;241;43m.\u001b[39;49m\u001b[43mconcat\u001b[49m\u001b[43m(\u001b[49m\u001b[43m[\u001b[49m\u001b[43ma\u001b[49m\u001b[43m,\u001b[49m\u001b[43mb\u001b[49m\u001b[43m]\u001b[49m\u001b[43m,\u001b[49m\u001b[43maxis\u001b[49m\u001b[38;5;241;43m=\u001b[39;49m\u001b[38;5;241;43m1\u001b[39;49m\u001b[43m)\u001b[49m\n",
      "File \u001b[0;32m~/anaconda3/envs/py38/lib/python3.8/site-packages/tensorflow/python/util/traceback_utils.py:153\u001b[0m, in \u001b[0;36mfilter_traceback.<locals>.error_handler\u001b[0;34m(*args, **kwargs)\u001b[0m\n\u001b[1;32m    151\u001b[0m \u001b[38;5;28;01mexcept\u001b[39;00m \u001b[38;5;167;01mException\u001b[39;00m \u001b[38;5;28;01mas\u001b[39;00m e:\n\u001b[1;32m    152\u001b[0m   filtered_tb \u001b[38;5;241m=\u001b[39m _process_traceback_frames(e\u001b[38;5;241m.\u001b[39m__traceback__)\n\u001b[0;32m--> 153\u001b[0m   \u001b[38;5;28;01mraise\u001b[39;00m e\u001b[38;5;241m.\u001b[39mwith_traceback(filtered_tb) \u001b[38;5;28;01mfrom\u001b[39;00m \u001b[38;5;28mNone\u001b[39m\n\u001b[1;32m    154\u001b[0m \u001b[38;5;28;01mfinally\u001b[39;00m:\n\u001b[1;32m    155\u001b[0m   \u001b[38;5;28;01mdel\u001b[39;00m filtered_tb\n",
      "File \u001b[0;32m~/anaconda3/envs/py38/lib/python3.8/site-packages/tensorflow/python/framework/ops.py:7215\u001b[0m, in \u001b[0;36mraise_from_not_ok_status\u001b[0;34m(e, name)\u001b[0m\n\u001b[1;32m   7213\u001b[0m \u001b[38;5;28;01mdef\u001b[39;00m \u001b[38;5;21mraise_from_not_ok_status\u001b[39m(e, name):\n\u001b[1;32m   7214\u001b[0m   e\u001b[38;5;241m.\u001b[39mmessage \u001b[38;5;241m+\u001b[39m\u001b[38;5;241m=\u001b[39m (\u001b[38;5;124m\"\u001b[39m\u001b[38;5;124m name: \u001b[39m\u001b[38;5;124m\"\u001b[39m \u001b[38;5;241m+\u001b[39m name \u001b[38;5;28;01mif\u001b[39;00m name \u001b[38;5;129;01mis\u001b[39;00m \u001b[38;5;129;01mnot\u001b[39;00m \u001b[38;5;28;01mNone\u001b[39;00m \u001b[38;5;28;01melse\u001b[39;00m \u001b[38;5;124m\"\u001b[39m\u001b[38;5;124m\"\u001b[39m)\n\u001b[0;32m-> 7215\u001b[0m   \u001b[38;5;28;01mraise\u001b[39;00m core\u001b[38;5;241m.\u001b[39m_status_to_exception(e) \u001b[38;5;28;01mfrom\u001b[39;00m \u001b[38;5;28mNone\u001b[39m\n",
      "\u001b[0;31mInvalidArgumentError\u001b[0m: {{function_node __wrapped__ConcatV2_N_2_device_/job:localhost/replica:0/task:0/device:CPU:0}} ConcatOp : Expected concatenating dimensions in the range [-1, 1), but got 1 [Op:ConcatV2] name: concat"
     ]
    }
   ],
   "source": [
    "tf.concat([a,b],axis=1)"
   ]
  },
  {
   "cell_type": "markdown",
   "id": "fd8402bf-ccef-414e-a574-22524b02b593",
   "metadata": {
    "id": "fd8402bf-ccef-414e-a574-22524b02b593"
   },
   "source": [
    "#### tf.stack (concat이랑 달라,, 헷갈려!)"
   ]
  },
  {
   "cell_type": "code",
   "execution_count": 99,
   "id": "e1915563-830b-447e-9cab-a2b8263529ea",
   "metadata": {
    "id": "e1915563-830b-447e-9cab-a2b8263529ea",
    "outputId": "08685c6f-3393-43dd-8706-39d6ad165954"
   },
   "outputs": [
    {
     "data": {
      "text/plain": [
       "(<tf.Tensor: shape=(4,), dtype=int32, numpy=array([1, 2, 3, 4], dtype=int32)>,\n",
       " <tf.Tensor: shape=(4,), dtype=int32, numpy=array([-1, -2, -3, -4], dtype=int32)>)"
      ]
     },
     "execution_count": 99,
     "metadata": {},
     "output_type": "execute_result"
    }
   ],
   "source": [
    "a=tf.constant([1,2,3,4])\n",
    "b=-a\n",
    "a,b"
   ]
  },
  {
   "cell_type": "code",
   "execution_count": 100,
   "id": "e156bea0-cfa3-4f93-9773-aff0101a46be",
   "metadata": {
    "id": "e156bea0-cfa3-4f93-9773-aff0101a46be",
    "outputId": "3f93b9d5-7815-4cd7-e7e6-9a0d42b4c735"
   },
   "outputs": [
    {
     "data": {
      "text/plain": [
       "<tf.Tensor: shape=(2, 4), dtype=int32, numpy=\n",
       "array([[ 1,  2,  3,  4],\n",
       "       [-1, -2, -3, -4]], dtype=int32)>"
      ]
     },
     "execution_count": 100,
     "metadata": {},
     "output_type": "execute_result"
    }
   ],
   "source": [
    "tf.stack([a,b],axis=0)"
   ]
  },
  {
   "cell_type": "code",
   "execution_count": 101,
   "id": "9a2389a3-47da-4567-893b-15a9568d6277",
   "metadata": {
    "id": "9a2389a3-47da-4567-893b-15a9568d6277",
    "outputId": "8451acec-a566-46fc-fdda-c2cc6a7170ea"
   },
   "outputs": [
    {
     "data": {
      "text/plain": [
       "<tf.Tensor: shape=(4, 2), dtype=int32, numpy=\n",
       "array([[ 1, -1],\n",
       "       [ 2, -2],\n",
       "       [ 3, -3],\n",
       "       [ 4, -4]], dtype=int32)>"
      ]
     },
     "execution_count": 101,
     "metadata": {},
     "output_type": "execute_result"
    }
   ],
   "source": [
    "tf.stack([a,b],axis=1)"
   ]
  },
  {
   "cell_type": "markdown",
   "id": "d314cfb7-f3f1-496d-b5cb-ac6f57eaa503",
   "metadata": {
    "id": "d314cfb7-f3f1-496d-b5cb-ac6f57eaa503"
   },
   "source": [
    "### tnp"
   ]
  },
  {
   "cell_type": "markdown",
   "id": "6cc24d34-a9db-445a-82a8-f0e8ab7372d5",
   "metadata": {
    "id": "6cc24d34-a9db-445a-82a8-f0e8ab7372d5"
   },
   "source": [
    "`-` tf는 넘파이에 비하여 텐서만들기가 너무힘듬"
   ]
  },
  {
   "cell_type": "code",
   "execution_count": 103,
   "id": "263cba81-c9be-472f-8919-6f467dba2433",
   "metadata": {},
   "outputs": [
    {
     "data": {
      "text/plain": [
       "array([[1, 0, 0],\n",
       "       [0, 2, 0],\n",
       "       [0, 0, 3]])"
      ]
     },
     "execution_count": 103,
     "metadata": {},
     "output_type": "execute_result"
    }
   ],
   "source": [
    "np.diag([1,2,3])"
   ]
  },
  {
   "cell_type": "code",
   "execution_count": 102,
   "id": "2d8d64ab-b1cf-44dd-bd96-089ae64d41e4",
   "metadata": {
    "id": "2d8d64ab-b1cf-44dd-bd96-089ae64d41e4",
    "outputId": "b21fe444-7858-404e-bced-3d7f123e1756"
   },
   "outputs": [
    {
     "data": {
      "text/plain": [
       "array([1, 0, 0, 0, 2, 0, 0, 0, 3])"
      ]
     },
     "execution_count": 102,
     "metadata": {},
     "output_type": "execute_result"
    }
   ],
   "source": [
    "np.diag([1,2,3]).reshape(-1)"
   ]
  },
  {
   "cell_type": "markdown",
   "id": "28cb4a1a-d8b9-43e3-83bc-9603cb290c25",
   "metadata": {
    "id": "28cb4a1a-d8b9-43e3-83bc-9603cb290c25"
   },
   "source": [
    "- 넘파이는 이런식으로 `np.diag()`도 쓸수 있고 reshape을 메소드로 쓸 수도 있는데..."
   ]
  },
  {
   "cell_type": "markdown",
   "id": "de010dbc-4294-4a4f-a861-c13799fe1eb6",
   "metadata": {
    "id": "de010dbc-4294-4a4f-a861-c13799fe1eb6"
   },
   "source": [
    "#### tnp 사용방법 (불만해결방법)"
   ]
  },
  {
   "cell_type": "code",
   "execution_count": 104,
   "id": "7da47e02-6e20-4988-a300-6248e8969472",
   "metadata": {
    "id": "7da47e02-6e20-4988-a300-6248e8969472"
   },
   "outputs": [],
   "source": [
    "import tensorflow.experimental.numpy as tnp\n",
    "tnp.experimental_enable_numpy_behavior()"
   ]
  },
  {
   "cell_type": "code",
   "execution_count": 105,
   "id": "be506db8-700b-4a5b-ba39-c6a46d809eb0",
   "metadata": {
    "id": "be506db8-700b-4a5b-ba39-c6a46d809eb0",
    "outputId": "517155fc-5d52-4eef-d68e-5bb8b07877e4"
   },
   "outputs": [
    {
     "data": {
      "text/plain": [
       "tensorflow.python.framework.ops.EagerTensor"
      ]
     },
     "execution_count": 105,
     "metadata": {},
     "output_type": "execute_result"
    }
   ],
   "source": [
    "type(tnp.array([1,2,3]))"
   ]
  },
  {
   "cell_type": "markdown",
   "id": "6f802adc-e72e-4cbc-98b1-1568af58c29d",
   "metadata": {
    "id": "6f802adc-e72e-4cbc-98b1-1568af58c29d"
   },
   "source": [
    "`-` int와 float을 더할 수 있음"
   ]
  },
  {
   "cell_type": "code",
   "execution_count": 106,
   "id": "dd6414b7-33d3-4fda-9d5f-ec6451db05e4",
   "metadata": {
    "id": "dd6414b7-33d3-4fda-9d5f-ec6451db05e4",
    "outputId": "e506f6cb-de81-4e10-d713-2943cef24ffd"
   },
   "outputs": [
    {
     "data": {
      "text/plain": [
       "<tf.Tensor: shape=(3,), dtype=float64, numpy=array([2., 4., 6.])>"
      ]
     },
     "execution_count": 106,
     "metadata": {},
     "output_type": "execute_result"
    }
   ],
   "source": [
    "tnp.array([1,2,3])+tnp.array([1.0,2.0,3.0])"
   ]
  },
  {
   "cell_type": "code",
   "execution_count": 107,
   "id": "369c0c5a-f87c-412a-b959-7837e0b9c1db",
   "metadata": {
    "id": "369c0c5a-f87c-412a-b959-7837e0b9c1db",
    "outputId": "f6c6a22e-8723-4873-f861-16f10f132c1e"
   },
   "outputs": [
    {
     "data": {
      "text/plain": [
       "<tf.Tensor: shape=(3,), dtype=float64, numpy=array([2., 4., 6.])>"
      ]
     },
     "execution_count": 107,
     "metadata": {},
     "output_type": "execute_result"
    }
   ],
   "source": [
    "tf.constant([1,2,3])+tf.constant([1.0,2.0,3.0])"
   ]
  },
  {
   "cell_type": "code",
   "execution_count": 108,
   "id": "9a091e68-2ac3-42ec-b97e-bd908e7917a4",
   "metadata": {
    "id": "9a091e68-2ac3-42ec-b97e-bd908e7917a4",
    "outputId": "c0b49f3c-6d45-44f2-b948-eaf1d8a1ca12"
   },
   "outputs": [
    {
     "data": {
      "text/plain": [
       "<tf.Tensor: shape=(3,), dtype=float64, numpy=array([2., 3., 4.])>"
      ]
     },
     "execution_count": 108,
     "metadata": {},
     "output_type": "execute_result"
    }
   ],
   "source": [
    "tnp.array(1)+tnp.array([1.0,2.0,3.0])"
   ]
  },
  {
   "cell_type": "code",
   "execution_count": 109,
   "id": "7f1bb98a-f10b-47b2-8557-6dc4c352e5d2",
   "metadata": {
    "id": "7f1bb98a-f10b-47b2-8557-6dc4c352e5d2",
    "outputId": "b60f134f-6cde-43d8-d1d0-e9090b193162"
   },
   "outputs": [
    {
     "data": {
      "text/plain": [
       "<tf.Tensor: shape=(3, 3), dtype=int64, numpy=\n",
       "array([[1, 0, 0],\n",
       "       [0, 2, 0],\n",
       "       [0, 0, 3]])>"
      ]
     },
     "execution_count": 109,
     "metadata": {},
     "output_type": "execute_result"
    }
   ],
   "source": [
    "tnp.diag([1,2,3])"
   ]
  },
  {
   "cell_type": "code",
   "execution_count": 110,
   "id": "f0e851cc-5833-4e60-ab4f-2c88af9d05be",
   "metadata": {
    "id": "f0e851cc-5833-4e60-ab4f-2c88af9d05be",
    "outputId": "4b6ba620-4d99-41e4-81b2-6cd8d788c94c"
   },
   "outputs": [
    {
     "data": {
      "text/plain": [
       "tensorflow.python.framework.ops.EagerTensor"
      ]
     },
     "execution_count": 110,
     "metadata": {},
     "output_type": "execute_result"
    }
   ],
   "source": [
    "a=tnp.diag([1,2,3])\n",
    "type(a)"
   ]
  },
  {
   "cell_type": "code",
   "execution_count": 111,
   "id": "6f016b73-b45c-4579-8c40-0ed16e9690e3",
   "metadata": {
    "id": "6f016b73-b45c-4579-8c40-0ed16e9690e3",
    "outputId": "2305225e-b6de-4c80-98a7-780856923721"
   },
   "outputs": [
    {
     "data": {
      "text/plain": [
       "<tf.Tensor: shape=(3, 1), dtype=int32, numpy=\n",
       "array([[1],\n",
       "       [2],\n",
       "       [3]], dtype=int32)>"
      ]
     },
     "execution_count": 111,
     "metadata": {},
     "output_type": "execute_result"
    }
   ],
   "source": [
    "a=tf.constant([1,2,3])\n",
    "a.reshape(3,1)"
   ]
  },
  {
   "cell_type": "code",
   "execution_count": 112,
   "id": "93079556-24a1-459a-866f-a9ebab77d0ea",
   "metadata": {},
   "outputs": [
    {
     "data": {
      "text/plain": [
       "<tf.Tensor: shape=(), dtype=int32, numpy=1>"
      ]
     },
     "execution_count": 112,
     "metadata": {},
     "output_type": "execute_result"
    }
   ],
   "source": [
    "a.min()"
   ]
  },
  {
   "cell_type": "code",
   "execution_count": 113,
   "id": "196368bc-4b19-4255-aed6-ffc694fcd7d8",
   "metadata": {},
   "outputs": [
    {
     "data": {
      "text/plain": [
       "<tf.Tensor: shape=(), dtype=int32, numpy=3>"
      ]
     },
     "execution_count": 113,
     "metadata": {},
     "output_type": "execute_result"
    }
   ],
   "source": [
    "a.max()"
   ]
  },
  {
   "cell_type": "markdown",
   "id": "a7e4538a-52ff-4f84-8ac9-5381e0970fef",
   "metadata": {
    "id": "a7e4538a-52ff-4f84-8ac9-5381e0970fef"
   },
   "source": [
    "#### 선언고급"
   ]
  },
  {
   "cell_type": "code",
   "execution_count": 114,
   "id": "aa230a41-46e4-42ec-8313-ca9a65af9b5e",
   "metadata": {
    "id": "aa230a41-46e4-42ec-8313-ca9a65af9b5e",
    "outputId": "37eb9530-54fa-409f-952b-37a2aa0f5fd5"
   },
   "outputs": [
    {
     "data": {
      "text/plain": [
       "array([-0.47166768, -0.3030497 ,  0.73806592,  1.31800301, -1.19399028])"
      ]
     },
     "execution_count": 114,
     "metadata": {},
     "output_type": "execute_result"
    }
   ],
   "source": [
    "np.random.randn(5)"
   ]
  },
  {
   "cell_type": "code",
   "execution_count": 115,
   "id": "75831108-494d-4257-9bb3-4f9bd1d96f90",
   "metadata": {
    "id": "75831108-494d-4257-9bb3-4f9bd1d96f90",
    "outputId": "d3df3307-317c-44df-bdb1-c9696f6dc093"
   },
   "outputs": [
    {
     "data": {
      "text/plain": [
       "<tf.Tensor: shape=(5,), dtype=float64, numpy=array([-2.59664514, -0.70758736,  0.37895368,  0.23741269, -1.46921997])>"
      ]
     },
     "execution_count": 115,
     "metadata": {},
     "output_type": "execute_result"
    }
   ],
   "source": [
    "tnp.random.randn(5) # 넘파이가 되면 나도 된다."
   ]
  },
  {
   "cell_type": "markdown",
   "id": "c1a84f81-fff4-4a5a-b8b2-8045ba3943fe",
   "metadata": {
    "id": "c1a84f81-fff4-4a5a-b8b2-8045ba3943fe"
   },
   "source": [
    "#### 타입"
   ]
  },
  {
   "cell_type": "code",
   "execution_count": 116,
   "id": "001eefa5-3215-47fc-83a7-46c6974a477d",
   "metadata": {
    "id": "001eefa5-3215-47fc-83a7-46c6974a477d",
    "outputId": "e4bd082d-beff-4359-f0e0-45ae49e37dbb"
   },
   "outputs": [
    {
     "data": {
      "text/plain": [
       "tensorflow.python.framework.ops.EagerTensor"
      ]
     },
     "execution_count": 116,
     "metadata": {},
     "output_type": "execute_result"
    }
   ],
   "source": [
    "type(tnp.random.randn(5))"
   ]
  },
  {
   "cell_type": "markdown",
   "id": "bb759864-ef75-4ba0-9a11-d10cca6669f3",
   "metadata": {
    "id": "bb759864-ef75-4ba0-9a11-d10cca6669f3"
   },
   "source": [
    "#### tf.contant로 만들어도 마치 넘파이인듯 쓰는 기능들"
   ]
  },
  {
   "cell_type": "markdown",
   "id": "4eaf886c-4162-450c-83ab-40aa08af1465",
   "metadata": {
    "id": "4eaf886c-4162-450c-83ab-40aa08af1465"
   },
   "source": [
    "`-` 묵시적형변환이 가능"
   ]
  },
  {
   "cell_type": "code",
   "execution_count": 117,
   "id": "0e5ded82-30fe-40f8-94e1-81cefcdf3d49",
   "metadata": {
    "id": "0e5ded82-30fe-40f8-94e1-81cefcdf3d49",
    "outputId": "b418cb0a-d8f3-437e-cf12-8de9e298f456"
   },
   "outputs": [
    {
     "data": {
      "text/plain": [
       "<tf.Tensor: shape=(2,), dtype=float64, numpy=array([3.20000005, 4.29999995])>"
      ]
     },
     "execution_count": 117,
     "metadata": {},
     "output_type": "execute_result"
    }
   ],
   "source": [
    "tf.constant([1,1])+tf.constant([2.2,3.3])"
   ]
  },
  {
   "cell_type": "markdown",
   "id": "75131459-b680-4fca-bf95-a4c571e052d2",
   "metadata": {
    "id": "75131459-b680-4fca-bf95-a4c571e052d2"
   },
   "source": [
    "`-` 메소드를 쓸수 있음."
   ]
  },
  {
   "cell_type": "code",
   "execution_count": 118,
   "id": "f343b9ff-ebde-4eb0-b4a7-790e2cd59bd4",
   "metadata": {
    "id": "f343b9ff-ebde-4eb0-b4a7-790e2cd59bd4",
    "outputId": "ad3a3426-0517-4490-f29d-60f441b55a76"
   },
   "outputs": [
    {
     "data": {
      "text/plain": [
       "<tf.Tensor: shape=(4, 1), dtype=int64, numpy=\n",
       "array([[1],\n",
       "       [2],\n",
       "       [3],\n",
       "       [4]])>"
      ]
     },
     "execution_count": 118,
     "metadata": {},
     "output_type": "execute_result"
    }
   ],
   "source": [
    "a= tnp.array([[1,2,3,4]])\n",
    "a.T"
   ]
  },
  {
   "cell_type": "markdown",
   "id": "8426767e-976c-4e35-a390-7f2943ec4e8d",
   "metadata": {
    "id": "8426767e-976c-4e35-a390-7f2943ec4e8d"
   },
   "source": [
    "#### 그렇지만 np.array는 아님"
   ]
  },
  {
   "cell_type": "markdown",
   "id": "f771ea7c-6701-4499-b312-f2fc27d2549f",
   "metadata": {
    "id": "f771ea7c-6701-4499-b312-f2fc27d2549f"
   },
   "source": [
    "`-` 원소를 할당하는것은 불가능"
   ]
  },
  {
   "cell_type": "code",
   "execution_count": 119,
   "id": "3ff7d767-683c-4138-8ce3-c75d62e2bff7",
   "metadata": {
    "id": "3ff7d767-683c-4138-8ce3-c75d62e2bff7",
    "outputId": "4e89091a-63c7-4500-fcce-79e7864862b3"
   },
   "outputs": [
    {
     "data": {
      "text/plain": [
       "<tf.Tensor: shape=(3,), dtype=int32, numpy=array([1, 2, 3], dtype=int32)>"
      ]
     },
     "execution_count": 119,
     "metadata": {},
     "output_type": "execute_result"
    }
   ],
   "source": [
    "a=tf.constant([1,2,3])\n",
    "a"
   ]
  },
  {
   "cell_type": "code",
   "execution_count": 120,
   "id": "218f3734-9de8-4ba6-b861-947b8ebc0932",
   "metadata": {
    "id": "218f3734-9de8-4ba6-b861-947b8ebc0932",
    "outputId": "1cc26441-4156-4c98-c5e9-1a4e0e967478"
   },
   "outputs": [
    {
     "ename": "TypeError",
     "evalue": "'tensorflow.python.framework.ops.EagerTensor' object does not support item assignment",
     "output_type": "error",
     "traceback": [
      "\u001b[0;31m---------------------------------------------------------------------------\u001b[0m",
      "\u001b[0;31mTypeError\u001b[0m                                 Traceback (most recent call last)",
      "Cell \u001b[0;32mIn[120], line 1\u001b[0m\n\u001b[0;32m----> 1\u001b[0m a[\u001b[38;5;241m0\u001b[39m]\u001b[38;5;241m=\u001b[39m\u001b[38;5;241m11\u001b[39m\n",
      "\u001b[0;31mTypeError\u001b[0m: 'tensorflow.python.framework.ops.EagerTensor' object does not support item assignment"
     ]
    }
   ],
   "source": [
    "a[0]=11"
   ]
  },
  {
   "cell_type": "code",
   "execution_count": null,
   "id": "b0669a0b-23cc-469a-b61a-da95a683c907",
   "metadata": {},
   "outputs": [],
   "source": []
  }
 ],
 "metadata": {
  "colab": {
   "provenance": []
  },
  "kernelspec": {
   "display_name": "Python 3 (ipykernel)",
   "language": "python",
   "name": "python3"
  },
  "language_info": {
   "codemirror_mode": {
    "name": "ipython",
    "version": 3
   },
   "file_extension": ".py",
   "mimetype": "text/x-python",
   "name": "python",
   "nbconvert_exporter": "python",
   "pygments_lexer": "ipython3",
   "version": "3.8.16"
  }
 },
 "nbformat": 4,
 "nbformat_minor": 5
}
