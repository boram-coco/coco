{
 "cells": [
  {
   "cell_type": "raw",
   "id": "365660b1-04da-4d86-8967-4f471d3a9776",
   "metadata": {},
   "source": [
    "---\n",
    "title: \"파이썬 (0523) 12주차 \"\n",
    "author: \"김보람\"\n",
    "date: \"05/23/2022\"\n",
    "categories:\n",
    "  - 클래스\n",
    "---"
   ]
  },
  {
   "cell_type": "code",
   "execution_count": 1,
   "id": "e23f4022-573d-436c-a864-bebe2630d5e2",
   "metadata": {},
   "outputs": [],
   "source": [
    "import numpy as np"
   ]
  },
  {
   "cell_type": "markdown",
   "id": "3fa5dd02-2349-4c82-b0cf-ad6f9b799075",
   "metadata": {},
   "source": [
    "## 클래스공부 4단계"
   ]
  },
  {
   "cell_type": "markdown",
   "id": "69f3f88f-46da-4268-bfa4-7687015de657",
   "metadata": {},
   "source": [
    "### Motivating Example"
   ]
  },
  {
   "cell_type": "markdown",
   "id": "1c9699ec-cf95-488d-93f8-590b79e0fd2e",
   "metadata": {},
   "source": [
    "`-` 가위바위보"
   ]
  },
  {
   "cell_type": "markdown",
   "id": "435e8133-f7a8-442f-a3bb-737d05615005",
   "metadata": {},
   "source": [
    "- 방법1"
   ]
  },
  {
   "cell_type": "code",
   "execution_count": 9,
   "id": "01ac3be6-f8ea-4c51-bf25-6c3bc09393d7",
   "metadata": {},
   "outputs": [],
   "source": [
    "class RPC2:\n",
    "    def throw2(self):\n",
    "        print(np.random.choice(['가위', '바위','보']))"
   ]
  },
  {
   "cell_type": "code",
   "execution_count": 10,
   "id": "c7c98b2b-2f0e-43ad-a112-3fb067c08897",
   "metadata": {},
   "outputs": [],
   "source": [
    "a=RPC2()"
   ]
  },
  {
   "cell_type": "code",
   "execution_count": 11,
   "id": "5d28de9b-6723-4bad-9bc5-b10039d281dd",
   "metadata": {},
   "outputs": [
    {
     "name": "stdout",
     "output_type": "stream",
     "text": [
      "바위\n"
     ]
    }
   ],
   "source": [
    "a.throw2()"
   ]
  },
  {
   "cell_type": "markdown",
   "id": "1b361cfe-5dfb-4ccc-8eeb-04f7428b7f92",
   "metadata": {},
   "source": [
    "- 방법2"
   ]
  },
  {
   "cell_type": "code",
   "execution_count": 12,
   "id": "4712ea59-290b-48e7-87fa-198ef7362af3",
   "metadata": {},
   "outputs": [],
   "source": [
    "class RPC:\n",
    "    def thorw(self, candidate):\n",
    "        print(np.random.choice(candidate))"
   ]
  },
  {
   "cell_type": "code",
   "execution_count": 13,
   "id": "25d87b65-f506-4676-969f-a2ce97e10f4f",
   "metadata": {},
   "outputs": [],
   "source": [
    "a=RPC()"
   ]
  },
  {
   "cell_type": "code",
   "execution_count": 17,
   "id": "72dbc081-bb25-4874-8366-6fce2d81b27f",
   "metadata": {},
   "outputs": [
    {
     "name": "stdout",
     "output_type": "stream",
     "text": [
      "바위\n"
     ]
    }
   ],
   "source": [
    "a.thorw(['가위','바위','보'])"
   ]
  },
  {
   "cell_type": "markdown",
   "id": "3326c406-a6c6-4577-abcb-2a3e1d205e63",
   "metadata": {},
   "source": [
    "- 방법3"
   ]
  },
  {
   "cell_type": "code",
   "execution_count": 21,
   "id": "c0eb2ebf-7585-40b3-90c4-614977ac3286",
   "metadata": {},
   "outputs": [],
   "source": [
    "class RPC3:\n",
    "    def __init__(self, candidate=['가위','바위','보']):\n",
    "        self.candidate = candidate\n",
    "    def throw3(self):\n",
    "        print(np.random.choice(self.candidate))"
   ]
  },
  {
   "cell_type": "code",
   "execution_count": 30,
   "id": "d1626993-edcf-40c4-8c7a-848e19401f5e",
   "metadata": {},
   "outputs": [],
   "source": [
    "a=RPC3()   # __init__ 는 암묵적으로 실행"
   ]
  },
  {
   "cell_type": "code",
   "execution_count": 23,
   "id": "b57bf7a8-ccb7-43fa-8adc-043e0c64312a",
   "metadata": {},
   "outputs": [
    {
     "name": "stdout",
     "output_type": "stream",
     "text": [
      "바위\n"
     ]
    }
   ],
   "source": [
    "a.throw3()"
   ]
  },
  {
   "cell_type": "markdown",
   "id": "172d040b-b63d-4e24-9c86-8fcf96c21c04",
   "metadata": {},
   "source": [
    "- 방법4"
   ]
  },
  {
   "cell_type": "code",
   "execution_count": 36,
   "id": "bad2b6a9-a1a6-4b1e-a626-99cf11c00b64",
   "metadata": {},
   "outputs": [],
   "source": [
    "class RPC4:\n",
    "    pass"
   ]
  },
  {
   "cell_type": "code",
   "execution_count": 37,
   "id": "8dcf8171-f82d-4c4a-8039-ac4d8c2b1dc4",
   "metadata": {},
   "outputs": [],
   "source": [
    "b=RPC4()"
   ]
  },
  {
   "cell_type": "code",
   "execution_count": 38,
   "id": "e048f6e4-9700-4486-8631-f25a510e9311",
   "metadata": {},
   "outputs": [],
   "source": [
    "def initt(b, candidate=['가위','바위','보']):\n",
    "    b.candidate = candidate"
   ]
  },
  {
   "cell_type": "code",
   "execution_count": 39,
   "id": "31cb5975-8cef-4bc0-a4d7-2242b428384e",
   "metadata": {},
   "outputs": [],
   "source": [
    "initt(b)"
   ]
  },
  {
   "cell_type": "code",
   "execution_count": 40,
   "id": "e5cff861-39b3-44c4-a8cf-9344ee75e651",
   "metadata": {},
   "outputs": [
    {
     "data": {
      "text/plain": [
       "['가위', '바위', '보']"
      ]
     },
     "execution_count": 40,
     "metadata": {},
     "output_type": "execute_result"
    }
   ],
   "source": [
    "b.candidate"
   ]
  },
  {
   "cell_type": "code",
   "execution_count": 41,
   "id": "dd522808-316f-4e13-a62e-2b6e58bacd67",
   "metadata": {},
   "outputs": [],
   "source": [
    "def throww(b):\n",
    "        print(np.random.choice(b.candidate))"
   ]
  },
  {
   "cell_type": "code",
   "execution_count": 42,
   "id": "b787b0d9-6d61-48e5-ae32-69f9566689f3",
   "metadata": {},
   "outputs": [
    {
     "name": "stdout",
     "output_type": "stream",
     "text": [
      "가위\n"
     ]
    }
   ],
   "source": [
    "throww(b)"
   ]
  },
  {
   "cell_type": "markdown",
   "id": "418a1112-ecb7-4fc1-8c87-09f626613875",
   "metadata": {},
   "source": [
    "- 방법5"
   ]
  },
  {
   "cell_type": "code",
   "execution_count": 43,
   "id": "56badac5-8d33-4149-a5f7-b9870eb4b23d",
   "metadata": {},
   "outputs": [],
   "source": [
    "# 위의 코드를 하나로 합치면.."
   ]
  },
  {
   "cell_type": "code",
   "execution_count": 54,
   "id": "3cb68630-f541-4c6e-9684-e2a55c747a50",
   "metadata": {},
   "outputs": [],
   "source": [
    "class RPC4:\n",
    "    def __init__(self, candidate=['가위','바위','보']):\n",
    "        self.candidate = candidate\n",
    "    def throww(self):\n",
    "        print(np.random.choice(self.candidate))"
   ]
  },
  {
   "cell_type": "code",
   "execution_count": 55,
   "id": "fda64d23-140f-4eff-9257-e8593201eb65",
   "metadata": {},
   "outputs": [],
   "source": [
    "a=RPC4()"
   ]
  },
  {
   "cell_type": "code",
   "execution_count": 56,
   "id": "16c7b468-8e3d-4556-99cf-ec96c15b61db",
   "metadata": {},
   "outputs": [
    {
     "name": "stdout",
     "output_type": "stream",
     "text": [
      "가위\n"
     ]
    }
   ],
   "source": [
    "a.throww()"
   ]
  },
  {
   "cell_type": "markdown",
   "id": "c3b99ff7-895a-4eeb-89d3-a530ce510309",
   "metadata": {},
   "source": [
    "`-` 생각해보니까 throw는 choose + show 의 결합인 것 같다."
   ]
  },
  {
   "cell_type": "code",
   "execution_count": 57,
   "id": "74e90821-c775-4409-bf76-f261ecba55d7",
   "metadata": {},
   "outputs": [],
   "source": [
    "class RPC:\n",
    "    def __init__(self, candidate=['가위','바위','보']):\n",
    "        self.candidate = candidate\n",
    "    def choose(self):\n",
    "        self.actions = np.random.choice(self.candidate)\n",
    "    def show(self):\n",
    "        print(self.actions)"
   ]
  },
  {
   "cell_type": "code",
   "execution_count": 58,
   "id": "dcda21fa-7a52-4e45-96f7-bd9233b9c4b6",
   "metadata": {},
   "outputs": [],
   "source": [
    "a=RPC()"
   ]
  },
  {
   "cell_type": "code",
   "execution_count": 60,
   "id": "51ae154a-74de-4247-8678-ca0bef1d0694",
   "metadata": {},
   "outputs": [
    {
     "ename": "AttributeError",
     "evalue": "'RPC' object has no attribute 'actions'",
     "output_type": "error",
     "traceback": [
      "\u001b[0;31m---------------------------------------------------------------------------\u001b[0m",
      "\u001b[0;31mAttributeError\u001b[0m                            Traceback (most recent call last)",
      "\u001b[0;32m<ipython-input-60-b23e72a98d26>\u001b[0m in \u001b[0;36m<module>\u001b[0;34m\u001b[0m\n\u001b[0;32m----> 1\u001b[0;31m \u001b[0ma\u001b[0m\u001b[0;34m.\u001b[0m\u001b[0mactions\u001b[0m\u001b[0;34m(\u001b[0m\u001b[0;34m)\u001b[0m   \u001b[0;31m# 지금은 정의되지 않음\u001b[0m\u001b[0;34m\u001b[0m\u001b[0;34m\u001b[0m\u001b[0m\n\u001b[0m",
      "\u001b[0;31mAttributeError\u001b[0m: 'RPC' object has no attribute 'actions'"
     ]
    }
   ],
   "source": [
    "a.actions()   # 지금은 정의되지 않음"
   ]
  },
  {
   "cell_type": "code",
   "execution_count": 61,
   "id": "9aeb3209-dbc5-4967-b818-d9ed7b36d44e",
   "metadata": {},
   "outputs": [],
   "source": [
    "a.choose()"
   ]
  },
  {
   "cell_type": "code",
   "execution_count": 63,
   "id": "983130f1-33b7-4680-a3f2-9af8e2d80a72",
   "metadata": {},
   "outputs": [
    {
     "data": {
      "text/plain": [
       "'가위'"
      ]
     },
     "execution_count": 63,
     "metadata": {},
     "output_type": "execute_result"
    }
   ],
   "source": [
    "a.actions  # 가위, 바위, 보 중 고른 결과가 나옴"
   ]
  },
  {
   "cell_type": "code",
   "execution_count": 64,
   "id": "1412f66e-d29c-4958-9eed-06fe66fa1ca0",
   "metadata": {},
   "outputs": [
    {
     "name": "stdout",
     "output_type": "stream",
     "text": [
      "가위\n"
     ]
    }
   ],
   "source": [
    "a.show()"
   ]
  },
  {
   "cell_type": "markdown",
   "id": "edd9848f-55ad-4b9c-addf-2a77f0f4d39a",
   "metadata": {},
   "source": [
    "***보충학습*** : 위와 같은 코드"
   ]
  },
  {
   "cell_type": "code",
   "execution_count": 78,
   "id": "16466eef-8e6d-41f4-99dc-d70baceb0a7c",
   "metadata": {},
   "outputs": [],
   "source": [
    "class _RPS: ## 시점1\n",
    "    pass # <- 이렇게하면 아무기능이 없는 비어있는 클래스가 정의된다"
   ]
  },
  {
   "cell_type": "code",
   "execution_count": 79,
   "id": "3b7d66fa-2792-4ae6-994a-a32d0e5d7f5f",
   "metadata": {},
   "outputs": [],
   "source": [
    "_a = _RPS() ## 시점2\n",
    "def _init(_a,candidate=['가위','바위','보']):\n",
    "    _a.candidate = candidate \n",
    "_init(_a)"
   ]
  },
  {
   "cell_type": "code",
   "execution_count": 80,
   "id": "0b8343c2-089f-42ee-b248-f463ce712b88",
   "metadata": {},
   "outputs": [
    {
     "ename": "AttributeError",
     "evalue": "'_RPS' object has no attribute 'actions'",
     "output_type": "error",
     "traceback": [
      "\u001b[0;31m---------------------------------------------------------------------------\u001b[0m",
      "\u001b[0;31mAttributeError\u001b[0m                            Traceback (most recent call last)",
      "\u001b[0;32m<ipython-input-80-677af6ef3a23>\u001b[0m in \u001b[0;36m<module>\u001b[0;34m\u001b[0m\n\u001b[0;32m----> 1\u001b[0;31m \u001b[0m_a\u001b[0m\u001b[0;34m.\u001b[0m\u001b[0mactions\u001b[0m \u001b[0;31m## 시점3\u001b[0m\u001b[0;34m\u001b[0m\u001b[0;34m\u001b[0m\u001b[0m\n\u001b[0m",
      "\u001b[0;31mAttributeError\u001b[0m: '_RPS' object has no attribute 'actions'"
     ]
    }
   ],
   "source": [
    "_a.actions ## 시점3"
   ]
  },
  {
   "cell_type": "code",
   "execution_count": 81,
   "id": "d9255a88-3127-4779-8127-d5d960203008",
   "metadata": {},
   "outputs": [],
   "source": [
    "def _choose(_a): ## 시점4\n",
    "    _a.actions = np.random.choice(_a.candidate)\n",
    "_choose(_a)"
   ]
  },
  {
   "cell_type": "code",
   "execution_count": 82,
   "id": "ec5862d4-6cdd-4119-8f7e-5cafa9475951",
   "metadata": {},
   "outputs": [
    {
     "data": {
      "text/plain": [
       "'보'"
      ]
     },
     "execution_count": 82,
     "metadata": {},
     "output_type": "execute_result"
    }
   ],
   "source": [
    "_a.actions ## 시점5"
   ]
  },
  {
   "cell_type": "code",
   "execution_count": 83,
   "id": "4635006e-a730-4d44-8baf-2233b4e0650e",
   "metadata": {},
   "outputs": [
    {
     "name": "stdout",
     "output_type": "stream",
     "text": [
      "보\n"
     ]
    }
   ],
   "source": [
    "def _show(_a): ## 시점6\n",
    "    print(_a.actions)\n",
    "_show(_a)"
   ]
  },
  {
   "cell_type": "markdown",
   "id": "36f9248f-1123-4b1b-b20e-6de5ed960001",
   "metadata": {},
   "source": [
    "`-` 또 다른 인스턴스 b를 만들자. b는 가위만 낼 수 있다."
   ]
  },
  {
   "cell_type": "code",
   "execution_count": 85,
   "id": "7f80818b-b981-4c63-943c-774d49473f95",
   "metadata": {},
   "outputs": [
    {
     "data": {
      "text/plain": [
       "\u001b[0;31mInit signature:\u001b[0m \u001b[0mRPC\u001b[0m\u001b[0;34m(\u001b[0m\u001b[0mcandidate\u001b[0m\u001b[0;34m=\u001b[0m\u001b[0;34m[\u001b[0m\u001b[0;34m'가위'\u001b[0m\u001b[0;34m,\u001b[0m \u001b[0;34m'바위'\u001b[0m\u001b[0;34m,\u001b[0m \u001b[0;34m'보'\u001b[0m\u001b[0;34m]\u001b[0m\u001b[0;34m)\u001b[0m\u001b[0;34m\u001b[0m\u001b[0;34m\u001b[0m\u001b[0m\n",
       "\u001b[0;31mDocstring:\u001b[0m      <no docstring>\n",
       "\u001b[0;31mType:\u001b[0m           type\n",
       "\u001b[0;31mSubclasses:\u001b[0m     \n"
      ]
     },
     "metadata": {},
     "output_type": "display_data"
    }
   ],
   "source": [
    "RPC?"
   ]
  },
  {
   "cell_type": "code",
   "execution_count": 86,
   "id": "84529d88-81bc-4974-8183-17816433f0ec",
   "metadata": {},
   "outputs": [],
   "source": [
    "b=RPC(['가위'])"
   ]
  },
  {
   "cell_type": "code",
   "execution_count": 87,
   "id": "bb425279-f38f-4806-a9b0-21768e1f7b78",
   "metadata": {},
   "outputs": [
    {
     "data": {
      "text/plain": [
       "['가위']"
      ]
     },
     "execution_count": 87,
     "metadata": {},
     "output_type": "execute_result"
    }
   ],
   "source": [
    "b.candidate"
   ]
  },
  {
   "cell_type": "code",
   "execution_count": 88,
   "id": "a45c69aa-f785-42ad-8639-1e8212d46cf4",
   "metadata": {},
   "outputs": [
    {
     "name": "stdout",
     "output_type": "stream",
     "text": [
      "가위\n"
     ]
    }
   ],
   "source": [
    "b.choose()\n",
    "b.show()"
   ]
  },
  {
   "cell_type": "markdown",
   "id": "95993f12-fb64-4903-bec8-04c956fac251",
   "metadata": {},
   "source": [
    "`-` a,b의 선택들을 모아서 기록을 하고 싶다."
   ]
  },
  {
   "cell_type": "code",
   "execution_count": 92,
   "id": "f5d3e1f9-a3a7-4ffd-9e11-049174602e83",
   "metadata": {},
   "outputs": [],
   "source": [
    "class RPS:\n",
    "    def __init__(self,candidate=['가위','바위','보']):\n",
    "        self.candidate = candidate\n",
    "        self.actions = list() \n",
    "    def choose(self):\n",
    "        self.actions.append(np.random.choice(self.candidate))\n",
    "    def show(self):\n",
    "        print(self.actions[-1])   # 지금 현재 내가 선택한 마지막만 보여줘!"
   ]
  },
  {
   "cell_type": "code",
   "execution_count": 90,
   "id": "2d09950c-2f7a-418f-a795-af9e6923108f",
   "metadata": {},
   "outputs": [],
   "source": [
    "a=RPS()\n",
    "b=RPS(['가위'])"
   ]
  },
  {
   "cell_type": "code",
   "execution_count": 91,
   "id": "f26758de-efdf-4c09-8b0e-4b048de49316",
   "metadata": {},
   "outputs": [
    {
     "name": "stdout",
     "output_type": "stream",
     "text": [
      "바위\n",
      "가위\n",
      "바위\n",
      "바위\n",
      "보\n"
     ]
    }
   ],
   "source": [
    "for i in range(5):\n",
    "    a.choose()\n",
    "    a.show()"
   ]
  },
  {
   "cell_type": "code",
   "execution_count": 94,
   "id": "f1fd546b-d1d0-4290-b253-c49ec2aa6d70",
   "metadata": {},
   "outputs": [
    {
     "data": {
      "text/plain": [
       "['바위', '가위', '바위', '바위', '보']"
      ]
     },
     "execution_count": 94,
     "metadata": {},
     "output_type": "execute_result"
    }
   ],
   "source": [
    "a.actions   # 지금까지 뽑힌 히스토리들"
   ]
  },
  {
   "cell_type": "code",
   "execution_count": 95,
   "id": "8b8a2532-b092-4c76-8e9d-704d3fdd9d2f",
   "metadata": {},
   "outputs": [
    {
     "name": "stdout",
     "output_type": "stream",
     "text": [
      "가위\n",
      "가위\n",
      "가위\n",
      "가위\n",
      "가위\n"
     ]
    }
   ],
   "source": [
    "for i in range(5):\n",
    "    b.choose()\n",
    "    b.show()"
   ]
  },
  {
   "cell_type": "code",
   "execution_count": 96,
   "id": "a3084278-dd60-407d-a2d5-889859398db5",
   "metadata": {},
   "outputs": [
    {
     "data": {
      "text/plain": [
       "['가위', '가위', '가위', '가위', '가위']"
      ]
     },
     "execution_count": 96,
     "metadata": {},
     "output_type": "execute_result"
    }
   ],
   "source": [
    "b.actions"
   ]
  },
  {
   "cell_type": "code",
   "execution_count": 97,
   "id": "b55f5d1f-458a-46b7-89b9-a69d0b81e729",
   "metadata": {},
   "outputs": [
    {
     "data": {
      "text/plain": [
       "(['가위', '바위', '보'], ['바위', '가위', '바위', '바위', '보'])"
      ]
     },
     "execution_count": 97,
     "metadata": {},
     "output_type": "execute_result"
    }
   ],
   "source": [
    "a.candidate, a.actions"
   ]
  },
  {
   "cell_type": "code",
   "execution_count": 98,
   "id": "6072d1e0-dead-4950-a680-176423688263",
   "metadata": {},
   "outputs": [
    {
     "data": {
      "text/plain": [
       "(['가위'], ['가위', '가위', '가위', '가위', '가위'])"
      ]
     },
     "execution_count": 98,
     "metadata": {},
     "output_type": "execute_result"
    }
   ],
   "source": [
    "b.candidate, b.actions"
   ]
  },
  {
   "cell_type": "markdown",
   "id": "ca15db7f-ebbf-4e2b-8ab3-43cf599ed965",
   "metadata": {},
   "source": [
    "`-` info라는 함수를 만들어서 a의 오브젝트가 가지고 있는 정보를 모두 보도록 하자."
   ]
  },
  {
   "cell_type": "markdown",
   "id": "81b95cbd-d8e8-4c38-9599-7759bd19694a",
   "metadata": {},
   "source": [
    "(예비학습) 문자열 `\\n`이 포함된다면?"
   ]
  },
  {
   "cell_type": "code",
   "execution_count": 99,
   "id": "c312c240-8d5d-4320-b4ef-3eb73d3db007",
   "metadata": {},
   "outputs": [
    {
     "data": {
      "text/plain": [
       "'asdf\\n1234'"
      ]
     },
     "execution_count": 99,
     "metadata": {},
     "output_type": "execute_result"
    }
   ],
   "source": [
    "'asdf\\n1234'"
   ]
  },
  {
   "cell_type": "code",
   "execution_count": 100,
   "id": "0f321919-6ff1-43d4-a78a-23884dd666f8",
   "metadata": {},
   "outputs": [
    {
     "name": "stdout",
     "output_type": "stream",
     "text": [
      "asdf\n",
      "1234\n"
     ]
    }
   ],
   "source": [
    "print('asdf\\n1234')"
   ]
  },
  {
   "cell_type": "markdown",
   "id": "0d63ce50-e0c4-48bd-94de-d2000f96a6e9",
   "metadata": {},
   "source": [
    "예비학습 끝"
   ]
  },
  {
   "cell_type": "code",
   "execution_count": 101,
   "id": "ba33e71a-2a50-4ee2-9918-8a9b89e993d3",
   "metadata": {},
   "outputs": [],
   "source": [
    "class RPS: \n",
    "    def __init__(self,candidate=['가위','바위','보']):\n",
    "        self.candidate = candidate\n",
    "        self.actions = list() \n",
    "    def choose(self):\n",
    "        self.actions.append(np.random.choice(self.candidate))\n",
    "    def show(self):\n",
    "        print(self.actions[-1])\n",
    "    def info(self):\n",
    "        print(\"낼 수 있는 패: {}\\n기록: {}\".format(self.candidate,self.actions))"
   ]
  },
  {
   "cell_type": "code",
   "execution_count": 102,
   "id": "a6f45e3b-2408-467b-a396-752277656a9d",
   "metadata": {},
   "outputs": [],
   "source": [
    "a=RPS()\n",
    "b=RPS(['가위'])"
   ]
  },
  {
   "cell_type": "code",
   "execution_count": 103,
   "id": "d02d3674-3756-41dd-a0ea-beefc355c9a0",
   "metadata": {},
   "outputs": [
    {
     "name": "stdout",
     "output_type": "stream",
     "text": [
      "가위\n",
      "바위\n",
      "가위\n",
      "보\n",
      "보\n"
     ]
    }
   ],
   "source": [
    "for i in range(5):\n",
    "    a.choose()\n",
    "    a.show()    "
   ]
  },
  {
   "cell_type": "code",
   "execution_count": 104,
   "id": "39540620-8aa4-49db-ba27-831196821144",
   "metadata": {},
   "outputs": [
    {
     "name": "stdout",
     "output_type": "stream",
     "text": [
      "가위\n",
      "가위\n",
      "가위\n",
      "가위\n",
      "가위\n"
     ]
    }
   ],
   "source": [
    "for i in range(5):\n",
    "    b.choose()\n",
    "    b.show()"
   ]
  },
  {
   "cell_type": "code",
   "execution_count": 105,
   "id": "6eae057d-29f0-4356-a47d-5f78ccc122fe",
   "metadata": {},
   "outputs": [
    {
     "name": "stdout",
     "output_type": "stream",
     "text": [
      "낼 수 있는 패: ['가위', '바위', '보']\n",
      "기록: ['가위', '바위', '가위', '보', '보']\n"
     ]
    }
   ],
   "source": [
    "a.info()"
   ]
  },
  {
   "cell_type": "code",
   "execution_count": 106,
   "id": "140a81e4-7314-4714-9061-832354325027",
   "metadata": {},
   "outputs": [
    {
     "name": "stdout",
     "output_type": "stream",
     "text": [
      "낼 수 있는 패: ['가위']\n",
      "기록: ['가위', '가위', '가위', '가위', '가위']\n"
     ]
    }
   ],
   "source": [
    "b.info()"
   ]
  },
  {
   "cell_type": "markdown",
   "id": "558c9d5e-9cb8-4175-abb5-e7c0ecd0c25c",
   "metadata": {},
   "source": [
    "`-` 만들고 보니까 info와 print의 기능이 거의 비슷함 $\\to$ print(a)를 하면 a.info()와 동일한 효과를 내도록 만들 수 있을까?"
   ]
  },
  {
   "cell_type": "markdown",
   "id": "0e9b3c95-faec-4aa8-a08b-afb3cb52ed62",
   "metadata": {},
   "source": [
    "`-` 안될 거 같다. 왜?\n",
    "\n",
    "- 안될 것 같은 이유 1: print 는 파이썬 내장기능, 내장기능을 우리가 맘대로 커스터마이징해서 쓰기는 어려울 것 같다.\n",
    "\n",
    "- 안될 것 같은 이유 2: 이유1이 해결된다고 해도 문제다. 다 꼬아져버려... 그럼 지금까지 사용했던 print()의 결과는 어떻게 되는가?"
   ]
  },
  {
   "cell_type": "markdown",
   "id": "a3b73570-7be8-4633-995b-d325257b48d7",
   "metadata": {},
   "source": [
    "(예)"
   ]
  },
  {
   "cell_type": "code",
   "execution_count": 107,
   "id": "b1607b79-eb2d-470e-9db6-719d6b075f88",
   "metadata": {},
   "outputs": [
    {
     "data": {
      "text/plain": [
       "__main__.RPS"
      ]
     },
     "execution_count": 107,
     "metadata": {},
     "output_type": "execute_result"
    }
   ],
   "source": [
    "type(a)"
   ]
  },
  {
   "cell_type": "code",
   "execution_count": 108,
   "id": "0c837726-7201-4337-bebd-b422a727a2f8",
   "metadata": {},
   "outputs": [
    {
     "data": {
      "text/plain": [
       "\u001b[0;31mType:\u001b[0m        RPS\n",
       "\u001b[0;31mString form:\u001b[0m <__main__.RPS object at 0x7f6565f29e10>\n",
       "\u001b[0;31mDocstring:\u001b[0m   <no docstring>\n"
      ]
     },
     "metadata": {},
     "output_type": "display_data"
    }
   ],
   "source": [
    "a?"
   ]
  },
  {
   "cell_type": "markdown",
   "id": "b5974566-e197-4255-afa3-2b24cfb79013",
   "metadata": {},
   "source": [
    "`-` 그런데 a의 자료형(RPS자료형)에 해당하는 오브젝트들에 한정하여 print를 수정하는 방법이 가능하다면? (그럼 다른 오브젝트들은 수정된 print에 영향을 받지 않음)"
   ]
  },
  {
   "cell_type": "markdown",
   "id": "e4596d81-bf18-4093-8c32-5ad18c24ba76",
   "metadata": {},
   "source": [
    "### `__str___`"
   ]
  },
  {
   "cell_type": "markdown",
   "id": "e671ea80-b859-4c56-87ff-18e296e96a7d",
   "metadata": {},
   "source": [
    "`-` 관찰1: 현재 print(a)의 결과는 아래와 같다."
   ]
  },
  {
   "cell_type": "code",
   "execution_count": 109,
   "id": "3c449053-0542-44d5-8a55-46fcc3931e24",
   "metadata": {},
   "outputs": [
    {
     "name": "stdout",
     "output_type": "stream",
     "text": [
      "<__main__.RPS object at 0x7f6565f29e10>\n"
     ]
    }
   ],
   "source": [
    "print(a)"
   ]
  },
  {
   "cell_type": "code",
   "execution_count": 110,
   "id": "22860857-1d27-4789-b6e0-5d1ded48c628",
   "metadata": {},
   "outputs": [
    {
     "name": "stdout",
     "output_type": "stream",
     "text": [
      "[1, 2, 3]\n"
     ]
    }
   ],
   "source": [
    "print([1,2,3])"
   ]
  },
  {
   "cell_type": "markdown",
   "id": "b836e576-8e1e-42c1-a207-6fd9ed06c298",
   "metadata": {},
   "source": [
    "- a는 RPS클래스에서 만든 오브젝트이며 a가 저장된 메모리 주소는 0x7f6565f29e10라는 의미"
   ]
  },
  {
   "cell_type": "markdown",
   "id": "fe144fce-521c-46c0-893e-ebdc64747cd8",
   "metadata": {},
   "source": [
    "`-` 관찰2: a에는 `__str__` 이 있다."
   ]
  },
  {
   "cell_type": "code",
   "execution_count": 112,
   "id": "fb5d0426-3548-472f-94ff-f0d2adfef9c6",
   "metadata": {},
   "outputs": [
    {
     "data": {
      "text/plain": [
       "['__class__',\n",
       " '__delattr__',\n",
       " '__dict__',\n",
       " '__dir__',\n",
       " '__doc__',\n",
       " '__eq__',\n",
       " '__format__',\n",
       " '__ge__',\n",
       " '__getattribute__',\n",
       " '__gt__',\n",
       " '__hash__',\n",
       " '__init__',\n",
       " '__init_subclass__',\n",
       " '__le__',\n",
       " '__lt__',\n",
       " '__module__',\n",
       " '__ne__',\n",
       " '__new__',\n",
       " '__reduce__',\n",
       " '__reduce_ex__',\n",
       " '__repr__',\n",
       " '__setattr__',\n",
       " '__sizeof__',\n",
       " '__str__',\n",
       " '__subclasshook__',\n",
       " '__weakref__',\n",
       " 'actions',\n",
       " 'candidate',\n",
       " 'choose',\n",
       " 'info',\n",
       " 'show']"
      ]
     },
     "execution_count": 112,
     "metadata": {},
     "output_type": "execute_result"
    }
   ],
   "source": [
    "dir(a)   # a + _ + tab을 누르면 숨겨진 메소드들이 나온다."
   ]
  },
  {
   "cell_type": "code",
   "execution_count": 116,
   "id": "5cbacdae-98f7-4d7a-82c2-c202d33a61ba",
   "metadata": {},
   "outputs": [
    {
     "data": {
      "text/plain": [
       "{'__str__'}"
      ]
     },
     "execution_count": 116,
     "metadata": {},
     "output_type": "execute_result"
    }
   ],
   "source": [
    "set(dir(a)) & {'__str__'}"
   ]
  },
  {
   "cell_type": "code",
   "execution_count": 113,
   "id": "6258311f-dca5-4c11-827a-1a76269ea8cf",
   "metadata": {},
   "outputs": [
    {
     "data": {
      "text/plain": [
       "<method-wrapper '__str__' of RPS object at 0x7f6565f29e10>"
      ]
     },
     "execution_count": 113,
     "metadata": {},
     "output_type": "execute_result"
    }
   ],
   "source": [
    "a.__str__"
   ]
  },
  {
   "cell_type": "markdown",
   "id": "26424c2c-fa66-47b7-bce9-adc1c44b1aa3",
   "metadata": {},
   "source": [
    "이것을 함수처럼 사용하니까 아래와 같이 된다."
   ]
  },
  {
   "cell_type": "code",
   "execution_count": 114,
   "id": "6e4b4afc-fe93-4eb2-89a2-486c86ed5a26",
   "metadata": {},
   "outputs": [
    {
     "data": {
      "text/plain": [
       "'<__main__.RPS object at 0x7f6565f29e10>'"
      ]
     },
     "execution_count": 114,
     "metadata": {},
     "output_type": "execute_result"
    }
   ],
   "source": [
    "a.__str__()"
   ]
  },
  {
   "cell_type": "markdown",
   "id": "c974ec37-6955-4ce2-ab29-bb9c055be1b6",
   "metadata": {},
   "source": [
    "?? print(a)를 해서 나오는 문자열이 리턴된다.."
   ]
  },
  {
   "cell_type": "code",
   "execution_count": 118,
   "id": "ac9a8684-aa7a-497e-a165-2e3cd7061864",
   "metadata": {},
   "outputs": [
    {
     "name": "stdout",
     "output_type": "stream",
     "text": [
      "<__main__.RPS object at 0x7f6565f29e10>\n"
     ]
    }
   ],
   "source": [
    "print(a.__str__()) # 이거 print(a)를 실행한 결과와 같다?"
   ]
  },
  {
   "cell_type": "markdown",
   "id": "bac68198-dcb5-4598-92a5-5c97793da186",
   "metadata": {},
   "source": [
    "`-` 생각: 만약 내가 `a.__str__()` 라는 함수를 재정의하여 리턴값을 `boram hahaha`로 바꾸게 되면 print(a)해서 나오는 결과는 어떻게 될까? (해커???)"
   ]
  },
  {
   "cell_type": "markdown",
   "id": "0eafea74-aae5-4e1e-b30d-6b0acbfefd3f",
   "metadata": {},
   "source": [
    "(예비학습)"
   ]
  },
  {
   "cell_type": "code",
   "execution_count": 119,
   "id": "6bca5540-0cde-492e-9066-e29ba1f45ade",
   "metadata": {},
   "outputs": [],
   "source": [
    "def f():\n",
    "    print('adsf')"
   ]
  },
  {
   "cell_type": "code",
   "execution_count": 120,
   "id": "5814fa31-1f65-41e2-b288-80942bab6c7e",
   "metadata": {},
   "outputs": [
    {
     "name": "stdout",
     "output_type": "stream",
     "text": [
      "adsf\n"
     ]
    }
   ],
   "source": [
    "f()"
   ]
  },
  {
   "cell_type": "code",
   "execution_count": 121,
   "id": "f908ff8e-882a-4bff-8e88-07cd17997a36",
   "metadata": {},
   "outputs": [],
   "source": [
    "def f():\n",
    "    print('boram hahaha')"
   ]
  },
  {
   "cell_type": "code",
   "execution_count": 122,
   "id": "5a8eaf7b-9472-4a36-9851-f3619ad1345d",
   "metadata": {},
   "outputs": [
    {
     "name": "stdout",
     "output_type": "stream",
     "text": [
      "boram hahaha\n"
     ]
    }
   ],
   "source": [
    "f()"
   ]
  },
  {
   "cell_type": "markdown",
   "id": "dd24d8fe-99fd-49f8-88d7-45dbfc2cab8d",
   "metadata": {},
   "source": [
    "이런식으로 함수가 이미 정의되어 있더라도, 내가 나중에 덮어씌우면 그 함수의 기능을 다시 정의한다."
   ]
  },
  {
   "cell_type": "markdown",
   "id": "8696e1d8-e034-4d25-acb0-b959d1984f9b",
   "metadata": {},
   "source": [
    "(해킹시작)"
   ]
  },
  {
   "cell_type": "code",
   "execution_count": 124,
   "id": "8c561163-518b-46c3-b96b-75b348032a0a",
   "metadata": {},
   "outputs": [],
   "source": [
    "class RPS: \n",
    "    def __init__(self,candidate=['가위','바위','보']):\n",
    "        self.candidate = candidate\n",
    "        self.actions = list() \n",
    "    def choose(self):\n",
    "        self.actions.append(np.random.choice(self.candidate))\n",
    "    def show(self):\n",
    "        print(self.actions[-1])\n",
    "    def __str__(self):\n",
    "        return 'boram hahaha'\n",
    "    def info(self):\n",
    "        print(\"낼 수 있는 패: {}\\n기록: {}\".format(self.candidate,self.actions))"
   ]
  },
  {
   "cell_type": "code",
   "execution_count": 125,
   "id": "ce17d20d-c6ac-4a5a-a1b7-81d91d5ef6a7",
   "metadata": {},
   "outputs": [],
   "source": [
    "a=RPS()"
   ]
  },
  {
   "cell_type": "code",
   "execution_count": 126,
   "id": "94851e6a-e865-4dfc-a274-139a9a38aefb",
   "metadata": {},
   "outputs": [
    {
     "name": "stdout",
     "output_type": "stream",
     "text": [
      "boram hahaha\n"
     ]
    }
   ],
   "source": [
    "print(a)"
   ]
  },
  {
   "cell_type": "code",
   "execution_count": 128,
   "id": "d3b2afaa-11e2-4912-b3cd-e30566f58689",
   "metadata": {},
   "outputs": [
    {
     "name": "stdout",
     "output_type": "stream",
     "text": [
      "boram hahaha\n"
     ]
    }
   ],
   "source": [
    "print(a.__str__())"
   ]
  },
  {
   "cell_type": "code",
   "execution_count": 132,
   "id": "7fad5410-104e-4217-a8b1-751bc4ad4822",
   "metadata": {},
   "outputs": [],
   "source": [
    "# 다른건 다 변함이 없음"
   ]
  },
  {
   "cell_type": "code",
   "execution_count": 129,
   "id": "a66114d9-8125-4c6f-9258-a58609a0eff8",
   "metadata": {},
   "outputs": [
    {
     "name": "stdout",
     "output_type": "stream",
     "text": [
      "가위\n"
     ]
    }
   ],
   "source": [
    "a.choose()\n",
    "a.show()"
   ]
  },
  {
   "cell_type": "code",
   "execution_count": 130,
   "id": "80416466-e2c1-4fab-a20b-f2d7f0070017",
   "metadata": {},
   "outputs": [
    {
     "data": {
      "text/plain": [
       "['가위']"
      ]
     },
     "execution_count": 130,
     "metadata": {},
     "output_type": "execute_result"
    }
   ],
   "source": [
    "a.actions"
   ]
  },
  {
   "cell_type": "code",
   "execution_count": 131,
   "id": "a4675fd2-3c33-48d3-ad65-3d82b3ab4b08",
   "metadata": {},
   "outputs": [
    {
     "name": "stdout",
     "output_type": "stream",
     "text": [
      "낼 수 있는 패: ['가위', '바위', '보']\n",
      "기록: ['가위']\n"
     ]
    }
   ],
   "source": [
    "a.info()"
   ]
  },
  {
   "cell_type": "markdown",
   "id": "8057b3e8-ddbc-496d-a363-838173e72a95",
   "metadata": {},
   "source": [
    "`-` `__str__`의 리턴값을 info에서 타이핑했던 문자열로 재정의 한다면?"
   ]
  },
  {
   "cell_type": "code",
   "execution_count": 133,
   "id": "f1b69238-0e5f-4ab3-81f2-0007e7ad3228",
   "metadata": {},
   "outputs": [],
   "source": [
    "class RPS: \n",
    "    def __init__(self,candidate=['가위','바위','보']):\n",
    "        self.candidate = candidate\n",
    "        self.actions = list() \n",
    "    def choose(self):\n",
    "        self.actions.append(np.random.choice(self.candidate))\n",
    "    def show(self):\n",
    "        print(self.actions[-1])\n",
    "    def __str__(self):\n",
    "        return \"낼 수 있는 패: {}\\n기록: {}\".format(self.candidate,self.actions)"
   ]
  },
  {
   "cell_type": "code",
   "execution_count": 134,
   "id": "f948a9e4-b917-451d-ae15-2d0da63f82e7",
   "metadata": {},
   "outputs": [],
   "source": [
    "a=RPS()"
   ]
  },
  {
   "cell_type": "code",
   "execution_count": 135,
   "id": "39ad2304-2b9a-4bdf-a53c-6b4d2c206315",
   "metadata": {},
   "outputs": [
    {
     "name": "stdout",
     "output_type": "stream",
     "text": [
      "낼 수 있는 패: ['가위', '바위', '보']\n",
      "기록: []\n"
     ]
    }
   ],
   "source": [
    "print(a)"
   ]
  },
  {
   "cell_type": "code",
   "execution_count": 138,
   "id": "774723e4-bec1-4e25-83be-5530dbce081a",
   "metadata": {},
   "outputs": [
    {
     "name": "stdout",
     "output_type": "stream",
     "text": [
      "바위\n"
     ]
    }
   ],
   "source": [
    "a.choose()\n",
    "a.show()"
   ]
  },
  {
   "cell_type": "code",
   "execution_count": 139,
   "id": "ff1c9953-9466-4dfa-88e9-8167d36fa7f0",
   "metadata": {},
   "outputs": [
    {
     "name": "stdout",
     "output_type": "stream",
     "text": [
      "낼 수 있는 패: ['가위', '바위', '보']\n",
      "기록: ['보', '바위']\n"
     ]
    }
   ],
   "source": [
    "print(a)"
   ]
  },
  {
   "cell_type": "markdown",
   "id": "2308c592-80ac-488c-bec7-7bbed3c6d6a3",
   "metadata": {},
   "source": [
    "### 파이썬의 비밀2"
   ]
  },
  {
   "cell_type": "markdown",
   "id": "5a070995-5a85-47b1-9e8d-04ffa3a461d9",
   "metadata": {},
   "source": [
    "`-` `print(a)`와 `print(a.__str__())` 는 같은 문법이다."
   ]
  },
  {
   "cell_type": "markdown",
   "id": "2c82f590-8121-4b3b-b8fe-9ae5f3052209",
   "metadata": {},
   "source": [
    "`-` 참고로 `a.__Str__()` 와 `str(a)` 도 같은 문법"
   ]
  },
  {
   "cell_type": "code",
   "execution_count": 141,
   "id": "0c746256-4e70-4c81-92f9-3a36f4005d25",
   "metadata": {},
   "outputs": [
    {
     "data": {
      "text/plain": [
       "\"낼 수 있는 패: ['가위', '바위', '보']\\n기록: ['보', '바위']\""
      ]
     },
     "execution_count": 141,
     "metadata": {},
     "output_type": "execute_result"
    }
   ],
   "source": [
    "a.__str__()"
   ]
  },
  {
   "cell_type": "code",
   "execution_count": 142,
   "id": "bcbbafe5-4bcf-4d9a-999a-feedcee122c8",
   "metadata": {},
   "outputs": [
    {
     "data": {
      "text/plain": [
       "\"낼 수 있는 패: ['가위', '바위', '보']\\n기록: ['보', '바위']\""
      ]
     },
     "execution_count": 142,
     "metadata": {},
     "output_type": "execute_result"
    }
   ],
   "source": [
    "str(a)"
   ]
  },
  {
   "cell_type": "markdown",
   "id": "298b1dac-9a9f-4c35-8f23-a1554a7632ad",
   "metadata": {},
   "source": [
    "`-` 지금까지 썼던 기능들 확인!"
   ]
  },
  {
   "cell_type": "markdown",
   "id": "264031d7-3f34-4d5e-9ab5-0476d711c786",
   "metadata": {},
   "source": [
    "(예제1)"
   ]
  },
  {
   "cell_type": "code",
   "execution_count": 143,
   "id": "9384618e-97f3-40fc-acd9-4cf72153e4ae",
   "metadata": {},
   "outputs": [
    {
     "name": "stdout",
     "output_type": "stream",
     "text": [
      "[1, 2, 3]\n"
     ]
    }
   ],
   "source": [
    "a=[1,2,3]\n",
    "print(a)"
   ]
  },
  {
   "cell_type": "code",
   "execution_count": 144,
   "id": "ea08c5d0-8e46-47f2-89d7-60b730ede280",
   "metadata": {},
   "outputs": [
    {
     "data": {
      "text/plain": [
       "'[1, 2, 3]'"
      ]
     },
     "execution_count": 144,
     "metadata": {},
     "output_type": "execute_result"
    }
   ],
   "source": [
    "a.__str__()"
   ]
  },
  {
   "cell_type": "code",
   "execution_count": 145,
   "id": "38a578c4-f1ae-4efd-9fba-64c4f2f3bc27",
   "metadata": {},
   "outputs": [
    {
     "data": {
      "text/plain": [
       "'[1, 2, 3]'"
      ]
     },
     "execution_count": 145,
     "metadata": {},
     "output_type": "execute_result"
    }
   ],
   "source": [
    "str(a)"
   ]
  },
  {
   "cell_type": "markdown",
   "id": "e81b6740-dd89-4478-ba1d-8dcb878fd473",
   "metadata": {},
   "source": [
    "(예제2)"
   ]
  },
  {
   "cell_type": "code",
   "execution_count": 147,
   "id": "3fae859a-3f86-46f5-af6a-6933b1457780",
   "metadata": {},
   "outputs": [
    {
     "name": "stdout",
     "output_type": "stream",
     "text": [
      "{1, 2, 3}\n"
     ]
    }
   ],
   "source": [
    "a={1,2,3}\n",
    "print(a)"
   ]
  },
  {
   "cell_type": "code",
   "execution_count": 148,
   "id": "1b929c19-5813-4405-a206-62d76910b868",
   "metadata": {},
   "outputs": [
    {
     "data": {
      "text/plain": [
       "'{1, 2, 3}'"
      ]
     },
     "execution_count": 148,
     "metadata": {},
     "output_type": "execute_result"
    }
   ],
   "source": [
    "a.__str__()"
   ]
  },
  {
   "cell_type": "code",
   "execution_count": 149,
   "id": "4b74bb31-f61d-4737-8ccd-0c914350f514",
   "metadata": {},
   "outputs": [
    {
     "data": {
      "text/plain": [
       "'{1, 2, 3}'"
      ]
     },
     "execution_count": 149,
     "metadata": {},
     "output_type": "execute_result"
    }
   ],
   "source": [
    "str(a)"
   ]
  },
  {
   "cell_type": "markdown",
   "id": "f02e1311-b8b7-4603-9105-bd0bd5a96a39",
   "metadata": {},
   "source": [
    "(예제3)"
   ]
  },
  {
   "cell_type": "code",
   "execution_count": 150,
   "id": "5201886c-cf62-459c-be82-62906a6a9dd6",
   "metadata": {},
   "outputs": [
    {
     "data": {
      "text/plain": [
       "()"
      ]
     },
     "execution_count": 150,
     "metadata": {},
     "output_type": "execute_result"
    }
   ],
   "source": [
    "a=np.array(1)\n",
    "a.shape"
   ]
  },
  {
   "cell_type": "code",
   "execution_count": 152,
   "id": "618822c7-239c-4406-a607-c78830dd2059",
   "metadata": {},
   "outputs": [
    {
     "data": {
      "text/plain": [
       "tuple"
      ]
     },
     "execution_count": 152,
     "metadata": {},
     "output_type": "execute_result"
    }
   ],
   "source": [
    "type(a.shape)"
   ]
  },
  {
   "cell_type": "code",
   "execution_count": 153,
   "id": "51d32726-e92c-4f12-a7b8-d5d52e72f7b2",
   "metadata": {},
   "outputs": [
    {
     "name": "stdout",
     "output_type": "stream",
     "text": [
      "()\n"
     ]
    }
   ],
   "source": [
    "print(a.shape)"
   ]
  },
  {
   "cell_type": "code",
   "execution_count": 154,
   "id": "92d9ffa5-8c00-4111-bfd3-3fea9f01ca6a",
   "metadata": {},
   "outputs": [
    {
     "data": {
      "text/plain": [
       "'()'"
      ]
     },
     "execution_count": 154,
     "metadata": {},
     "output_type": "execute_result"
    }
   ],
   "source": [
    "a.shape.__str__()"
   ]
  },
  {
   "cell_type": "code",
   "execution_count": 155,
   "id": "014171bc-1039-47c1-a29a-017367e5dfed",
   "metadata": {},
   "outputs": [
    {
     "data": {
      "text/plain": [
       "'()'"
      ]
     },
     "execution_count": 155,
     "metadata": {},
     "output_type": "execute_result"
    }
   ],
   "source": [
    "str(a.shape)"
   ]
  },
  {
   "cell_type": "markdown",
   "id": "8da922ec-d6ca-4d69-8071-afb512a4e4ad",
   "metadata": {},
   "source": [
    "(예제4)"
   ]
  },
  {
   "cell_type": "code",
   "execution_count": 157,
   "id": "03005659-bac3-4147-a4d9-b36aebbf6ad7",
   "metadata": {},
   "outputs": [
    {
     "name": "stdout",
     "output_type": "stream",
     "text": [
      "range(0, 10)\n"
     ]
    }
   ],
   "source": [
    "a = range(10)\n",
    "print(a)"
   ]
  },
  {
   "cell_type": "code",
   "execution_count": 158,
   "id": "9b8c3f03-0852-485f-92b5-1f76c7782970",
   "metadata": {},
   "outputs": [
    {
     "data": {
      "text/plain": [
       "'range(0, 10)'"
      ]
     },
     "execution_count": 158,
     "metadata": {},
     "output_type": "execute_result"
    }
   ],
   "source": [
    "a.__str__()"
   ]
  },
  {
   "cell_type": "markdown",
   "id": "eafd826e-a0dc-42e5-ad2b-f4ec10040e21",
   "metadata": {},
   "source": [
    "(예제5)"
   ]
  },
  {
   "cell_type": "code",
   "execution_count": 160,
   "id": "5cedcb55-d526-41e2-b9b6-9e75f2f2bb1d",
   "metadata": {},
   "outputs": [
    {
     "name": "stdout",
     "output_type": "stream",
     "text": [
      "[[ 0  1  2  3  4  5  6  7  8  9]\n",
      " [10 11 12 13 14 15 16 17 18 19]\n",
      " [20 21 22 23 24 25 26 27 28 29]\n",
      " [30 31 32 33 34 35 36 37 38 39]\n",
      " [40 41 42 43 44 45 46 47 48 49]\n",
      " [50 51 52 53 54 55 56 57 58 59]\n",
      " [60 61 62 63 64 65 66 67 68 69]\n",
      " [70 71 72 73 74 75 76 77 78 79]\n",
      " [80 81 82 83 84 85 86 87 88 89]\n",
      " [90 91 92 93 94 95 96 97 98 99]]\n"
     ]
    }
   ],
   "source": [
    "a = np.arange(100).reshape(10,10)\n",
    "print(a)"
   ]
  },
  {
   "cell_type": "code",
   "execution_count": 161,
   "id": "4b0c2bbc-c29c-40ca-8253-6bbb48a97680",
   "metadata": {},
   "outputs": [
    {
     "data": {
      "text/plain": [
       "'[[ 0  1  2  3  4  5  6  7  8  9]\\n [10 11 12 13 14 15 16 17 18 19]\\n [20 21 22 23 24 25 26 27 28 29]\\n [30 31 32 33 34 35 36 37 38 39]\\n [40 41 42 43 44 45 46 47 48 49]\\n [50 51 52 53 54 55 56 57 58 59]\\n [60 61 62 63 64 65 66 67 68 69]\\n [70 71 72 73 74 75 76 77 78 79]\\n [80 81 82 83 84 85 86 87 88 89]\\n [90 91 92 93 94 95 96 97 98 99]]'"
      ]
     },
     "execution_count": 161,
     "metadata": {},
     "output_type": "execute_result"
    }
   ],
   "source": [
    "a.__str__()"
   ]
  },
  {
   "cell_type": "code",
   "execution_count": 162,
   "id": "91c878b0-96be-476e-9076-229fea4424f0",
   "metadata": {},
   "outputs": [
    {
     "data": {
      "text/plain": [
       "'[[ 0  1  2  3  4  5  6  7  8  9]\\n [10 11 12 13 14 15 16 17 18 19]\\n [20 21 22 23 24 25 26 27 28 29]\\n [30 31 32 33 34 35 36 37 38 39]\\n [40 41 42 43 44 45 46 47 48 49]\\n [50 51 52 53 54 55 56 57 58 59]\\n [60 61 62 63 64 65 66 67 68 69]\\n [70 71 72 73 74 75 76 77 78 79]\\n [80 81 82 83 84 85 86 87 88 89]\\n [90 91 92 93 94 95 96 97 98 99]]'"
      ]
     },
     "execution_count": 162,
     "metadata": {},
     "output_type": "execute_result"
    }
   ],
   "source": [
    "str(a)"
   ]
  },
  {
   "cell_type": "markdown",
   "id": "e1780b89-a795-4b38-b4b1-b8fbc72ce461",
   "metadata": {},
   "source": [
    "### `__repr__`"
   ]
  },
  {
   "cell_type": "markdown",
   "id": "643e109b-964d-4b9f-9941-cd6eacd2b5b8",
   "metadata": {},
   "source": [
    "`-` 생각해보니까 print를 해서 원하는 정보를 확인하는 건 아니었음"
   ]
  },
  {
   "cell_type": "code",
   "execution_count": 164,
   "id": "a2a948fb-5a68-408d-a51c-1e4aae71cc14",
   "metadata": {},
   "outputs": [],
   "source": [
    "a=[1,2,3]"
   ]
  },
  {
   "cell_type": "code",
   "execution_count": 165,
   "id": "825f67de-f866-4343-82ce-aabcd3cf9b4f",
   "metadata": {},
   "outputs": [
    {
     "data": {
      "text/plain": [
       "[1, 2, 3]"
      ]
     },
     "execution_count": 165,
     "metadata": {},
     "output_type": "execute_result"
    }
   ],
   "source": [
    "a"
   ]
  },
  {
   "cell_type": "code",
   "execution_count": 166,
   "id": "4de4327f-41ce-406a-9287-670da7698bf2",
   "metadata": {},
   "outputs": [
    {
     "name": "stdout",
     "output_type": "stream",
     "text": [
      "[1, 2, 3]\n"
     ]
    }
   ],
   "source": [
    "print(a)   # print(a.__str__()) + enter => a + enter 와 같은 효과?"
   ]
  },
  {
   "cell_type": "markdown",
   "id": "432b03d7-8b12-4295-8f37-004db8e007b9",
   "metadata": {},
   "source": [
    "`-` `a + 엔터`를 하면 `print(a) + 엔터`를 하는 것과 같은 효과인가?"
   ]
  },
  {
   "cell_type": "markdown",
   "id": "28ae2ddc-dd88-45da-abd2-4eeff01b8f38",
   "metadata": {},
   "source": [
    "(반례)"
   ]
  },
  {
   "cell_type": "code",
   "execution_count": 167,
   "id": "99afe228-b22c-4758-a484-5e69b8dd5863",
   "metadata": {},
   "outputs": [],
   "source": [
    "a=np.array([1,2,3,4]).reshape(2,2)"
   ]
  },
  {
   "cell_type": "code",
   "execution_count": 168,
   "id": "8f11b64b-a8d4-4bd3-8233-4c5c3f1fd544",
   "metadata": {},
   "outputs": [
    {
     "data": {
      "text/plain": [
       "array([[1, 2],\n",
       "       [3, 4]])"
      ]
     },
     "execution_count": 168,
     "metadata": {},
     "output_type": "execute_result"
    }
   ],
   "source": [
    "a"
   ]
  },
  {
   "cell_type": "code",
   "execution_count": 169,
   "id": "337d6a87-e998-4d80-b2ad-ff11d3ef3834",
   "metadata": {},
   "outputs": [
    {
     "name": "stdout",
     "output_type": "stream",
     "text": [
      "[[1 2]\n",
      " [3 4]]\n"
     ]
    }
   ],
   "source": [
    "print(a)"
   ]
  },
  {
   "cell_type": "markdown",
   "id": "3d46fb6f-5fc7-4785-8bfe-3a5fffe244a9",
   "metadata": {},
   "source": [
    "`-` `a + 엔터`를 하면 `print(a) + 엔터`가 다른 경우도 있다. $\\to$ 서로 다른 숨겨진 기능이 잇다! $\\to$ 결론 : 그 기능은 `__repr__`에 저장되어 있다. "
   ]
  },
  {
   "cell_type": "code",
   "execution_count": 177,
   "id": "e567c619-e45c-46b3-89b5-27e49e8d8df6",
   "metadata": {},
   "outputs": [],
   "source": [
    "class RPS: \n",
    "    def __init__(self,candidate=['가위','바위','보']):\n",
    "        self.candidate = candidate\n",
    "        self.actions = list() \n",
    "    def choose(self):\n",
    "        self.actions.append(np.random.choice(self.candidate))\n",
    "    def show(self):\n",
    "        print(self.actions[-1])\n",
    "    def __repr__(self):\n",
    "        return \"낼 수 있는 패: {}\\n기록: {}\".format(self.candidate,self.actions)"
   ]
  },
  {
   "cell_type": "code",
   "execution_count": 178,
   "id": "e4ea8c17-669f-4e36-b878-bcbc2cd5866e",
   "metadata": {},
   "outputs": [],
   "source": [
    "a=RPS()"
   ]
  },
  {
   "cell_type": "code",
   "execution_count": 180,
   "id": "f5a0fd36-15a5-4c23-8a3a-fcf8934bc4c1",
   "metadata": {},
   "outputs": [
    {
     "data": {
      "text/plain": [
       "낼 수 있는 패: ['가위', '바위', '보']\n",
       "기록: []"
      ]
     },
     "execution_count": 180,
     "metadata": {},
     "output_type": "execute_result"
    }
   ],
   "source": [
    "a  # print(a.__repr__())"
   ]
  },
  {
   "cell_type": "markdown",
   "id": "15bca005-f535-40f5-b12c-d0a7a519b626",
   "metadata": {},
   "source": [
    "`-` 그럼 지금까지 한것은?"
   ]
  },
  {
   "cell_type": "code",
   "execution_count": 181,
   "id": "e960e92d-3461-47d0-b863-ceba8aef88c6",
   "metadata": {},
   "outputs": [],
   "source": [
    "a = np.array([1,2,3])"
   ]
  },
  {
   "cell_type": "code",
   "execution_count": 182,
   "id": "60667cf4-89bf-48f3-bcca-bd43b4b87b32",
   "metadata": {},
   "outputs": [
    {
     "data": {
      "text/plain": [
       "array([1, 2, 3])"
      ]
     },
     "execution_count": 182,
     "metadata": {},
     "output_type": "execute_result"
    }
   ],
   "source": [
    "a"
   ]
  },
  {
   "cell_type": "code",
   "execution_count": 183,
   "id": "ce97b526-982f-4657-b558-5ddd86438e6b",
   "metadata": {},
   "outputs": [
    {
     "name": "stdout",
     "output_type": "stream",
     "text": [
      "[1 2 3]\n"
     ]
    }
   ],
   "source": [
    "print(a)"
   ]
  },
  {
   "cell_type": "code",
   "execution_count": 184,
   "id": "13519845-efc1-474c-99e6-f81cbf3a58d4",
   "metadata": {},
   "outputs": [
    {
     "data": {
      "text/plain": [
       "'array([1, 2, 3])'"
      ]
     },
     "execution_count": 184,
     "metadata": {},
     "output_type": "execute_result"
    }
   ],
   "source": [
    "a.__repr__()"
   ]
  },
  {
   "cell_type": "code",
   "execution_count": 185,
   "id": "714fe911-4d23-4d25-91ea-226fb9f7e04b",
   "metadata": {},
   "outputs": [
    {
     "data": {
      "text/plain": [
       "'[1 2 3]'"
      ]
     },
     "execution_count": 185,
     "metadata": {},
     "output_type": "execute_result"
    }
   ],
   "source": [
    "a.__str__()"
   ]
  },
  {
   "cell_type": "markdown",
   "id": "3c793f9a-91fe-46c4-aed4-3db086b8c967",
   "metadata": {},
   "source": [
    "### 파이썬의 비밀3"
   ]
  },
  {
   "cell_type": "markdown",
   "id": "8c321370-87a0-4d65-a6d4-10e7955bdc5c",
   "metadata": {},
   "source": [
    "`-` 대화형 콘솔에서 `오브젝트 이름 + 엔터` 를 쳐서 나오는 출력은 `__repr__` 의 결과와 연관 있다. "
   ]
  },
  {
   "cell_type": "code",
   "execution_count": 186,
   "id": "a277c1b7-299f-4ba6-8123-d20291b1c5d3",
   "metadata": {},
   "outputs": [],
   "source": [
    "a = np.array(range(10000)).reshape(100,100)"
   ]
  },
  {
   "cell_type": "code",
   "execution_count": 187,
   "id": "6f376ac3-c2c4-40a8-9bb7-216769b754fe",
   "metadata": {},
   "outputs": [
    {
     "data": {
      "text/plain": [
       "array([[   0,    1,    2, ...,   97,   98,   99],\n",
       "       [ 100,  101,  102, ...,  197,  198,  199],\n",
       "       [ 200,  201,  202, ...,  297,  298,  299],\n",
       "       ...,\n",
       "       [9700, 9701, 9702, ..., 9797, 9798, 9799],\n",
       "       [9800, 9801, 9802, ..., 9897, 9898, 9899],\n",
       "       [9900, 9901, 9902, ..., 9997, 9998, 9999]])"
      ]
     },
     "execution_count": 187,
     "metadata": {},
     "output_type": "execute_result"
    }
   ],
   "source": [
    "a"
   ]
  },
  {
   "cell_type": "code",
   "execution_count": 188,
   "id": "756fd3cd-07b0-4fa1-bf51-4796dfe5f0fc",
   "metadata": {},
   "outputs": [
    {
     "data": {
      "text/plain": [
       "'array([[   0,    1,    2, ...,   97,   98,   99],\\n       [ 100,  101,  102, ...,  197,  198,  199],\\n       [ 200,  201,  202, ...,  297,  298,  299],\\n       ...,\\n       [9700, 9701, 9702, ..., 9797, 9798, 9799],\\n       [9800, 9801, 9802, ..., 9897, 9898, 9899],\\n       [9900, 9901, 9902, ..., 9997, 9998, 9999]])'"
      ]
     },
     "execution_count": 188,
     "metadata": {},
     "output_type": "execute_result"
    }
   ],
   "source": [
    "a.__repr__()"
   ]
  },
  {
   "cell_type": "markdown",
   "id": "79239bd2-752e-4bb9-9488-26a3ebf3f8cd",
   "metadata": {},
   "source": [
    "`-` 참고로 `a.__repr__()` 은 representation의 약자인데, `repr(a)`와 같다."
   ]
  },
  {
   "cell_type": "markdown",
   "id": "de0b14aa-3070-47d2-99fa-918ac90c386c",
   "metadata": {},
   "source": [
    "### 주피터 노브북의 비밀 `(__repr__html__)`"
   ]
  },
  {
   "cell_type": "markdown",
   "id": "80245e2f-e989-4a25-8f67-27e7e5dbcf31",
   "metadata": {},
   "source": [
    "`-` 요즘에는 IDE의 발전에 따라서 `오브젝트이름+엔터` 칠때 나오는 출력의 형태도 다양해지고 있다."
   ]
  },
  {
   "cell_type": "code",
   "execution_count": 190,
   "id": "05e97c6d-e4a7-4451-9769-1c4abbfeddbf",
   "metadata": {},
   "outputs": [],
   "source": [
    "import pandas as pd"
   ]
  },
  {
   "cell_type": "code",
   "execution_count": 191,
   "id": "1b412868-11bf-4959-8e4c-240bbed6d20b",
   "metadata": {},
   "outputs": [],
   "source": [
    "df = pd.DataFrame({'a':[1,2,3],'b':[2,3,4]})"
   ]
  },
  {
   "cell_type": "code",
   "execution_count": 192,
   "id": "75c5afb4-54db-48ed-8462-cada2729d92a",
   "metadata": {},
   "outputs": [
    {
     "data": {
      "text/html": [
       "<div>\n",
       "<style scoped>\n",
       "    .dataframe tbody tr th:only-of-type {\n",
       "        vertical-align: middle;\n",
       "    }\n",
       "\n",
       "    .dataframe tbody tr th {\n",
       "        vertical-align: top;\n",
       "    }\n",
       "\n",
       "    .dataframe thead th {\n",
       "        text-align: right;\n",
       "    }\n",
       "</style>\n",
       "<table border=\"1\" class=\"dataframe\">\n",
       "  <thead>\n",
       "    <tr style=\"text-align: right;\">\n",
       "      <th></th>\n",
       "      <th>a</th>\n",
       "      <th>b</th>\n",
       "    </tr>\n",
       "  </thead>\n",
       "  <tbody>\n",
       "    <tr>\n",
       "      <th>0</th>\n",
       "      <td>1</td>\n",
       "      <td>2</td>\n",
       "    </tr>\n",
       "    <tr>\n",
       "      <th>1</th>\n",
       "      <td>2</td>\n",
       "      <td>3</td>\n",
       "    </tr>\n",
       "    <tr>\n",
       "      <th>2</th>\n",
       "      <td>3</td>\n",
       "      <td>4</td>\n",
       "    </tr>\n",
       "  </tbody>\n",
       "</table>\n",
       "</div>"
      ],
      "text/plain": [
       "   a  b\n",
       "0  1  2\n",
       "1  2  3\n",
       "2  3  4"
      ]
     },
     "execution_count": 192,
     "metadata": {},
     "output_type": "execute_result"
    }
   ],
   "source": [
    "df"
   ]
  },
  {
   "cell_type": "markdown",
   "id": "ce61b4da-2017-4a05-a6a8-5c832e421050",
   "metadata": {},
   "source": [
    "- 예쁘게 나온다."
   ]
  },
  {
   "cell_type": "markdown",
   "id": "d4c693d5-84dc-42f4-8a52-5496f404fc82",
   "metadata": {},
   "source": [
    "`-` 그런데? `print(df.__repr__())`의 결과가 조금 다르게 나온당"
   ]
  },
  {
   "cell_type": "code",
   "execution_count": 193,
   "id": "c20d4247-3fd8-4be9-a5ef-4ef7064c1789",
   "metadata": {},
   "outputs": [
    {
     "name": "stdout",
     "output_type": "stream",
     "text": [
      "   a  b\n",
      "0  1  2\n",
      "1  2  3\n",
      "2  3  4\n"
     ]
    }
   ],
   "source": [
    "print(df.__repr__())"
   ]
  },
  {
   "cell_type": "markdown",
   "id": "f0090f63-909e-4ea0-affa-e5bafb44e10d",
   "metadata": {},
   "source": [
    "`-` `print(df.__repr__())` 는 예전 검은화면에서 코딩할 때가 나오는 출력임"
   ]
  },
  {
   "cell_type": "markdown",
   "id": "5d239f29-0ae9-4ece-bbb9-dabf26e267fd",
   "metadata": {},
   "source": [
    "```python\n",
    "Python 3.10.2 | packaged by conda-forge | (main, Feb  1 2022, 19:28:35) [GCC 9.4.0] on linux\n",
    "Type \"help\", \"copyright\", \"credits\" or \"license\" for more information.\n",
    "> >> import pandas as pd \n",
    ">>> df = pd.DataFrame({'a':[1,2,3],'b':[2,3,4]})>>> df\n",
    "   a  b\n",
    "0  1  2\n",
    "1  2  3\n",
    "2  3  4\n",
    ">>>\n",
    "```"
   ]
  },
  {
   "cell_type": "markdown",
   "id": "ce146a41-df43-404f-a69e-5499e4408146",
   "metadata": {},
   "source": [
    "`-` 주피터에서는? \"오브젝트이름+엔터\"치면 `HTML(df._repr_html_())`이 실행되고, `_repr_html_()`이 정의되어 있지 않으면 `print(df.__repr__())`이 실행된다."
   ]
  },
  {
   "cell_type": "code",
   "execution_count": 196,
   "id": "15ac6476-7c2e-45eb-bcec-dbfee5415827",
   "metadata": {},
   "outputs": [
    {
     "data": {
      "text/plain": [
       "'<div>\\n<style scoped>\\n    .dataframe tbody tr th:only-of-type {\\n        vertical-align: middle;\\n    }\\n\\n    .dataframe tbody tr th {\\n        vertical-align: top;\\n    }\\n\\n    .dataframe thead th {\\n        text-align: right;\\n    }\\n</style>\\n<table border=\"1\" class=\"dataframe\">\\n  <thead>\\n    <tr style=\"text-align: right;\">\\n      <th></th>\\n      <th>a</th>\\n      <th>b</th>\\n    </tr>\\n  </thead>\\n  <tbody>\\n    <tr>\\n      <th>0</th>\\n      <td>1</td>\\n      <td>2</td>\\n    </tr>\\n    <tr>\\n      <th>1</th>\\n      <td>2</td>\\n      <td>3</td>\\n    </tr>\\n    <tr>\\n      <th>2</th>\\n      <td>3</td>\\n      <td>4</td>\\n    </tr>\\n  </tbody>\\n</table>\\n</div>'"
      ]
     },
     "execution_count": 196,
     "metadata": {},
     "output_type": "execute_result"
    }
   ],
   "source": [
    "df._repr_html_()"
   ]
  },
  {
   "cell_type": "markdown",
   "id": "1d413215-7d56-4707-b3fe-76ffbd11691e",
   "metadata": {},
   "source": [
    "- html코드"
   ]
  },
  {
   "cell_type": "code",
   "execution_count": 197,
   "id": "65058187-6baa-40b4-b6b8-5ed07e715665",
   "metadata": {},
   "outputs": [],
   "source": [
    "from IPython.core.display import HTML"
   ]
  },
  {
   "cell_type": "code",
   "execution_count": 198,
   "id": "5c89f216-db7d-4d33-8cdb-cddb1a809f42",
   "metadata": {},
   "outputs": [
    {
     "data": {
      "text/html": [
       "<div>\n",
       "<style scoped>\n",
       "    .dataframe tbody tr th:only-of-type {\n",
       "        vertical-align: middle;\n",
       "    }\n",
       "\n",
       "    .dataframe tbody tr th {\n",
       "        vertical-align: top;\n",
       "    }\n",
       "\n",
       "    .dataframe thead th {\n",
       "        text-align: right;\n",
       "    }\n",
       "</style>\n",
       "<table border=\"1\" class=\"dataframe\">\n",
       "  <thead>\n",
       "    <tr style=\"text-align: right;\">\n",
       "      <th></th>\n",
       "      <th>a</th>\n",
       "      <th>b</th>\n",
       "    </tr>\n",
       "  </thead>\n",
       "  <tbody>\n",
       "    <tr>\n",
       "      <th>0</th>\n",
       "      <td>1</td>\n",
       "      <td>2</td>\n",
       "    </tr>\n",
       "    <tr>\n",
       "      <th>1</th>\n",
       "      <td>2</td>\n",
       "      <td>3</td>\n",
       "    </tr>\n",
       "    <tr>\n",
       "      <th>2</th>\n",
       "      <td>3</td>\n",
       "      <td>4</td>\n",
       "    </tr>\n",
       "  </tbody>\n",
       "</table>\n",
       "</div>"
      ],
      "text/plain": [
       "<IPython.core.display.HTML object>"
      ]
     },
     "execution_count": 198,
     "metadata": {},
     "output_type": "execute_result"
    }
   ],
   "source": [
    "HTML('<div>\\n<style scoped>\\n    .dataframe tbody tr th:only-of-type {\\n        vertical-align: middle;\\n    }\\n\\n    .dataframe tbody tr th {\\n        vertical-align: top;\\n    }\\n\\n    .dataframe thead th {\\n        text-align: right;\\n    }\\n</style>\\n<table border=\"1\" class=\"dataframe\">\\n  <thead>\\n    <tr style=\"text-align: right;\">\\n      <th></th>\\n      <th>a</th>\\n      <th>b</th>\\n    </tr>\\n  </thead>\\n  <tbody>\\n    <tr>\\n      <th>0</th>\\n      <td>1</td>\\n      <td>2</td>\\n    </tr>\\n    <tr>\\n      <th>1</th>\\n      <td>2</td>\\n      <td>3</td>\\n    </tr>\\n    <tr>\\n      <th>2</th>\\n      <td>3</td>\\n      <td>4</td>\\n    </tr>\\n  </tbody>\\n</table>\\n</div>')"
   ]
  },
  {
   "cell_type": "code",
   "execution_count": 200,
   "id": "2000004c-6001-4f52-ae15-e6af9106cb63",
   "metadata": {},
   "outputs": [
    {
     "data": {
      "text/html": [
       "<div>\n",
       "<style scoped>\n",
       "    .dataframe tbody tr th:only-of-type {\n",
       "        vertical-align: middle;\n",
       "    }\n",
       "\n",
       "    .dataframe tbody tr th {\n",
       "        vertical-align: top;\n",
       "    }\n",
       "\n",
       "    .dataframe thead th {\n",
       "        text-align: right;\n",
       "    }\n",
       "</style>\n",
       "<table border=\"1\" class=\"dataframe\">\n",
       "  <thead>\n",
       "    <tr style=\"text-align: right;\">\n",
       "      <th></th>\n",
       "      <th>a</th>\n",
       "      <th>b</th>\n",
       "    </tr>\n",
       "  </thead>\n",
       "  <tbody>\n",
       "    <tr>\n",
       "      <th>0</th>\n",
       "      <td>1</td>\n",
       "      <td>2</td>\n",
       "    </tr>\n",
       "    <tr>\n",
       "      <th>1</th>\n",
       "      <td>2</td>\n",
       "      <td>3</td>\n",
       "    </tr>\n",
       "    <tr>\n",
       "      <th>2</th>\n",
       "      <td>3</td>\n",
       "      <td>4</td>\n",
       "    </tr>\n",
       "  </tbody>\n",
       "</table>\n",
       "</div>"
      ],
      "text/plain": [
       "<IPython.core.display.HTML object>"
      ]
     },
     "execution_count": 200,
     "metadata": {},
     "output_type": "execute_result"
    }
   ],
   "source": [
    "HTML(df._repr_html_())"
   ]
  },
  {
   "cell_type": "markdown",
   "id": "42d1f7ff-27bd-4df7-9ae8-8e519deec07a",
   "metadata": {},
   "source": [
    "`-` 물론 `df._repr_html_()` 함수가 내부적으로 있어도 html이 지원되지 않는 환경이라면 `print(__repr__())`이 내부적으로 수행된다."
   ]
  },
  {
   "cell_type": "markdown",
   "id": "c67b09e3-3ded-47b5-8436-793442fbd1a3",
   "metadata": {},
   "source": [
    "### `__repr__`와 `__str__`의 우선적용 순위"
   ]
  },
  {
   "cell_type": "markdown",
   "id": "b86510d9-11f8-4743-a81b-f89149032c8e",
   "metadata": {},
   "source": [
    "(예제1)"
   ]
  },
  {
   "cell_type": "code",
   "execution_count": 201,
   "id": "bfc32482-e7f4-4db3-a920-17ae964d6732",
   "metadata": {},
   "outputs": [],
   "source": [
    "class RPS: \n",
    "    def __init__(self,candidate=['가위','바위','보']):\n",
    "        self.candidate = candidate\n",
    "        self.actions = list() \n",
    "    def choose(self):\n",
    "        self.actions.append(np.random.choice(self.candidate))\n",
    "    def show(self):\n",
    "        print(self.actions[-1])\n",
    "    def __repr__(self):\n",
    "        return \"낼 수 있는 패: {}\\n기록: {}\".format(self.candidate,self.actions)"
   ]
  },
  {
   "cell_type": "code",
   "execution_count": 202,
   "id": "465b9ebf-0273-4cbe-93a7-9f101bf881a1",
   "metadata": {},
   "outputs": [
    {
     "data": {
      "text/plain": [
       "낼 수 있는 패: ['가위', '바위', '보']\n",
       "기록: []"
      ]
     },
     "execution_count": 202,
     "metadata": {},
     "output_type": "execute_result"
    }
   ],
   "source": [
    "a=RPS()\n",
    "a"
   ]
  },
  {
   "cell_type": "code",
   "execution_count": 203,
   "id": "9a6e1d59-16eb-49f2-8502-869f9825a02b",
   "metadata": {},
   "outputs": [
    {
     "data": {
      "text/plain": [
       "\"낼 수 있는 패: ['가위', '바위', '보']\\n기록: []\""
      ]
     },
     "execution_count": 203,
     "metadata": {},
     "output_type": "execute_result"
    }
   ],
   "source": [
    "a.__repr__()"
   ]
  },
  {
   "cell_type": "code",
   "execution_count": 205,
   "id": "5ba445f5-dd4d-4188-9207-56d23b24a515",
   "metadata": {},
   "outputs": [
    {
     "data": {
      "text/plain": [
       "\"낼 수 있는 패: ['가위', '바위', '보']\\n기록: []\""
      ]
     },
     "execution_count": 205,
     "metadata": {},
     "output_type": "execute_result"
    }
   ],
   "source": [
    "repr(a)"
   ]
  },
  {
   "cell_type": "markdown",
   "id": "4152c7b8-5bc3-4188-af0a-f80cf4af9c6f",
   "metadata": {},
   "source": [
    "`-` 여기까지는 상식수준의 결과. 아래 관찰하자"
   ]
  },
  {
   "cell_type": "code",
   "execution_count": 206,
   "id": "27fcbca6-249a-430a-a13e-21886f146c05",
   "metadata": {},
   "outputs": [
    {
     "name": "stdout",
     "output_type": "stream",
     "text": [
      "낼 수 있는 패: ['가위', '바위', '보']\n",
      "기록: []\n"
     ]
    }
   ],
   "source": [
    "print(a) # print(a.__str__())"
   ]
  },
  {
   "cell_type": "code",
   "execution_count": 208,
   "id": "11dab19d-7d8a-47aa-a67d-595a75ba5fc2",
   "metadata": {},
   "outputs": [
    {
     "data": {
      "text/plain": [
       "\"낼 수 있는 패: ['가위', '바위', '보']\\n기록: []\""
      ]
     },
     "execution_count": 208,
     "metadata": {},
     "output_type": "execute_result"
    }
   ],
   "source": [
    "a.__str__()"
   ]
  },
  {
   "cell_type": "code",
   "execution_count": 209,
   "id": "845fba29-1819-426f-802b-28230254bf87",
   "metadata": {},
   "outputs": [
    {
     "data": {
      "text/plain": [
       "\"낼 수 있는 패: ['가위', '바위', '보']\\n기록: []\""
      ]
     },
     "execution_count": 209,
     "metadata": {},
     "output_type": "execute_result"
    }
   ],
   "source": [
    "str(a)"
   ]
  },
  {
   "cell_type": "markdown",
   "id": "ceb2f5e8-04ab-423d-a9b7-7a3814eec7a0",
   "metadata": {},
   "source": [
    "`-` `__str__()`은 건드린적이 없다...?"
   ]
  },
  {
   "cell_type": "code",
   "execution_count": 213,
   "id": "e0972e19-b97d-4be3-94df-3c4c37f28533",
   "metadata": {},
   "outputs": [
    {
     "data": {
      "text/plain": [
       "\u001b[0;31mSignature:\u001b[0m \u001b[0ma\u001b[0m\u001b[0;34m.\u001b[0m\u001b[0m__repr__\u001b[0m\u001b[0;34m(\u001b[0m\u001b[0;34m)\u001b[0m\u001b[0;34m\u001b[0m\u001b[0;34m\u001b[0m\u001b[0m\n",
       "\u001b[0;31mDocstring:\u001b[0m Return repr(self).\n",
       "\u001b[0;31mSource:\u001b[0m   \n",
       "    \u001b[0;32mdef\u001b[0m \u001b[0m__repr__\u001b[0m\u001b[0;34m(\u001b[0m\u001b[0mself\u001b[0m\u001b[0;34m)\u001b[0m\u001b[0;34m:\u001b[0m\u001b[0;34m\u001b[0m\n",
       "\u001b[0;34m\u001b[0m        \u001b[0;32mreturn\u001b[0m \u001b[0;34m\"낼 수 있는 패: {}\\n기록: {}\"\u001b[0m\u001b[0;34m.\u001b[0m\u001b[0mformat\u001b[0m\u001b[0;34m(\u001b[0m\u001b[0mself\u001b[0m\u001b[0;34m.\u001b[0m\u001b[0mcandidate\u001b[0m\u001b[0;34m,\u001b[0m\u001b[0mself\u001b[0m\u001b[0;34m.\u001b[0m\u001b[0mactions\u001b[0m\u001b[0;34m)\u001b[0m\u001b[0;34m\u001b[0m\u001b[0;34m\u001b[0m\u001b[0m\n",
       "\u001b[0;31mFile:\u001b[0m      ~/Dropbox/coco/posts/python/<ipython-input-201-29baf6ff56bf>\n",
       "\u001b[0;31mType:\u001b[0m      method\n"
      ]
     },
     "metadata": {},
     "output_type": "display_data"
    }
   ],
   "source": [
    "a.__repr__??"
   ]
  },
  {
   "cell_type": "markdown",
   "id": "f5062e65-0fe3-4184-9b25-a1e08088cf90",
   "metadata": {},
   "source": [
    "얘는 건드림"
   ]
  },
  {
   "cell_type": "code",
   "execution_count": 211,
   "id": "abb744fb-ab9a-4e98-8398-d114e8ba028f",
   "metadata": {},
   "outputs": [
    {
     "data": {
      "text/plain": [
       "\u001b[0;31mSignature:\u001b[0m      \u001b[0ma\u001b[0m\u001b[0;34m.\u001b[0m\u001b[0m__str__\u001b[0m\u001b[0;34m(\u001b[0m\u001b[0;34m)\u001b[0m\u001b[0;34m\u001b[0m\u001b[0;34m\u001b[0m\u001b[0m\n",
       "\u001b[0;31mCall signature:\u001b[0m \u001b[0ma\u001b[0m\u001b[0;34m.\u001b[0m\u001b[0m__str__\u001b[0m\u001b[0;34m(\u001b[0m\u001b[0;34m*\u001b[0m\u001b[0margs\u001b[0m\u001b[0;34m,\u001b[0m \u001b[0;34m**\u001b[0m\u001b[0mkwargs\u001b[0m\u001b[0;34m)\u001b[0m\u001b[0;34m\u001b[0m\u001b[0;34m\u001b[0m\u001b[0m\n",
       "\u001b[0;31mType:\u001b[0m           method-wrapper\n",
       "\u001b[0;31mString form:\u001b[0m    <method-wrapper '__str__' of RPS object at 0x7f6561614c10>\n",
       "\u001b[0;31mDocstring:\u001b[0m      Return str(self).\n"
      ]
     },
     "metadata": {},
     "output_type": "display_data"
    }
   ],
   "source": [
    "a.__str__??"
   ]
  },
  {
   "cell_type": "markdown",
   "id": "8e6d968c-cb94-4039-8905-e5eeb5815100",
   "metadata": {},
   "source": [
    "얘는 안건드렸는디.."
   ]
  },
  {
   "cell_type": "markdown",
   "id": "ba70b81d-5a04-4508-9ecf-dddd0075f0ed",
   "metadata": {},
   "source": [
    "(예제2)"
   ]
  },
  {
   "cell_type": "code",
   "execution_count": 214,
   "id": "e19553c2-e8e8-483b-b1d2-c92d539fadc0",
   "metadata": {},
   "outputs": [],
   "source": [
    "class RPS: \n",
    "    def __init__(self,candidate=['가위','바위','보']):\n",
    "        self.candidate = candidate\n",
    "        self.actions = list() \n",
    "    def choose(self):\n",
    "        self.actions.append(np.random.choice(self.candidate))\n",
    "    def show(self):\n",
    "        print(self.actions[-1])\n",
    "    def __str__(self):\n",
    "        return \"낼 수 있는 패: {}\\n기록: {}\".format(self.candidate,self.actions)"
   ]
  },
  {
   "cell_type": "code",
   "execution_count": 215,
   "id": "754c473f-deff-4385-9412-494b0a57454b",
   "metadata": {},
   "outputs": [],
   "source": [
    "a=RPS()"
   ]
  },
  {
   "cell_type": "code",
   "execution_count": 216,
   "id": "2b7fab2b-94e5-4bf9-82cc-14e3f2d245ad",
   "metadata": {},
   "outputs": [
    {
     "name": "stdout",
     "output_type": "stream",
     "text": [
      "낼 수 있는 패: ['가위', '바위', '보']\n",
      "기록: []\n"
     ]
    }
   ],
   "source": [
    "print(a)"
   ]
  },
  {
   "cell_type": "code",
   "execution_count": 217,
   "id": "7de16d37-e7d7-46c4-9885-1eef732a2999",
   "metadata": {},
   "outputs": [
    {
     "data": {
      "text/plain": [
       "<__main__.RPS at 0x7f6561429950>"
      ]
     },
     "execution_count": 217,
     "metadata": {},
     "output_type": "execute_result"
    }
   ],
   "source": [
    "a"
   ]
  },
  {
   "cell_type": "code",
   "execution_count": 218,
   "id": "c3ade78e-7fda-4f6f-9dad-3b459bb4cc85",
   "metadata": {},
   "outputs": [
    {
     "data": {
      "text/plain": [
       "\"낼 수 있는 패: ['가위', '바위', '보']\\n기록: []\""
      ]
     },
     "execution_count": 218,
     "metadata": {},
     "output_type": "execute_result"
    }
   ],
   "source": [
    "a.__str__()"
   ]
  },
  {
   "cell_type": "code",
   "execution_count": 219,
   "id": "1aa82a83-31d1-4305-a7ad-d92a38a638b8",
   "metadata": {},
   "outputs": [
    {
     "data": {
      "text/plain": [
       "'<__main__.RPS object at 0x7f6561429950>'"
      ]
     },
     "execution_count": 219,
     "metadata": {},
     "output_type": "execute_result"
    }
   ],
   "source": [
    "a.__repr__()"
   ]
  },
  {
   "cell_type": "code",
   "execution_count": 220,
   "id": "a33862e4-c476-43a6-8c34-92662a7eebc0",
   "metadata": {},
   "outputs": [
    {
     "data": {
      "text/plain": [
       "\u001b[0;31mSignature:\u001b[0m \u001b[0ma\u001b[0m\u001b[0;34m.\u001b[0m\u001b[0m__str__\u001b[0m\u001b[0;34m(\u001b[0m\u001b[0;34m)\u001b[0m\u001b[0;34m\u001b[0m\u001b[0;34m\u001b[0m\u001b[0m\n",
       "\u001b[0;31mDocstring:\u001b[0m Return str(self).\n",
       "\u001b[0;31mSource:\u001b[0m   \n",
       "    \u001b[0;32mdef\u001b[0m \u001b[0m__str__\u001b[0m\u001b[0;34m(\u001b[0m\u001b[0mself\u001b[0m\u001b[0;34m)\u001b[0m\u001b[0;34m:\u001b[0m\u001b[0;34m\u001b[0m\n",
       "\u001b[0;34m\u001b[0m        \u001b[0;32mreturn\u001b[0m \u001b[0;34m\"낼 수 있는 패: {}\\n기록: {}\"\u001b[0m\u001b[0;34m.\u001b[0m\u001b[0mformat\u001b[0m\u001b[0;34m(\u001b[0m\u001b[0mself\u001b[0m\u001b[0;34m.\u001b[0m\u001b[0mcandidate\u001b[0m\u001b[0;34m,\u001b[0m\u001b[0mself\u001b[0m\u001b[0;34m.\u001b[0m\u001b[0mactions\u001b[0m\u001b[0;34m)\u001b[0m\u001b[0;34m\u001b[0m\u001b[0;34m\u001b[0m\u001b[0m\n",
       "\u001b[0;31mFile:\u001b[0m      ~/Dropbox/coco/posts/python/<ipython-input-214-cd2a21868510>\n",
       "\u001b[0;31mType:\u001b[0m      method\n"
      ]
     },
     "metadata": {},
     "output_type": "display_data"
    }
   ],
   "source": [
    "a.__str__??"
   ]
  },
  {
   "cell_type": "code",
   "execution_count": 221,
   "id": "59d0293b-0e0a-4899-86b9-c8cdf6c52038",
   "metadata": {},
   "outputs": [
    {
     "name": "stdout",
     "output_type": "stream",
     "text": [
      "Object `a.__repr_` not found.\n"
     ]
    }
   ],
   "source": [
    "a.__repr_??"
   ]
  },
  {
   "cell_type": "markdown",
   "id": "1d0ce033-2f3e-49dd-94f1-bb9267c9bf06",
   "metadata": {},
   "source": [
    "(예제3)"
   ]
  },
  {
   "cell_type": "code",
   "execution_count": 222,
   "id": "cc6b38a3-7d84-4cde-be77-583379363191",
   "metadata": {},
   "outputs": [],
   "source": [
    "class RPS: \n",
    "    def __init__(self,candidate=['가위','바위','보']):\n",
    "        self.candidate = candidate\n",
    "        self.actions = list() \n",
    "    def choose(self):\n",
    "        self.actions.append(np.random.choice(self.candidate))\n",
    "    def show(self):\n",
    "        print(self.actions[-1])\n",
    "    def __repr__(self):\n",
    "        return \"haha\"\n",
    "    def __str__(self):\n",
    "        return \"낼 수 있는 패: {}\\n기록: {}\".format(self.candidate,self.actions)"
   ]
  },
  {
   "cell_type": "code",
   "execution_count": 223,
   "id": "5a5ce301-f6eb-43dd-a0f0-200d450b4ace",
   "metadata": {},
   "outputs": [],
   "source": [
    "a=RPS()"
   ]
  },
  {
   "cell_type": "code",
   "execution_count": 224,
   "id": "2249f4e7-8861-41ce-9359-59256a6a4663",
   "metadata": {},
   "outputs": [
    {
     "data": {
      "text/plain": [
       "haha"
      ]
     },
     "execution_count": 224,
     "metadata": {},
     "output_type": "execute_result"
    }
   ],
   "source": [
    "a"
   ]
  },
  {
   "cell_type": "code",
   "execution_count": 225,
   "id": "6b1b0283-75ad-42a4-96d5-af451e4ce41e",
   "metadata": {},
   "outputs": [
    {
     "name": "stdout",
     "output_type": "stream",
     "text": [
      "낼 수 있는 패: ['가위', '바위', '보']\n",
      "기록: []\n"
     ]
    }
   ],
   "source": [
    "print(a)"
   ]
  },
  {
   "cell_type": "markdown",
   "id": "257b3e58-fcf5-45ff-b8dd-f513b8da7181",
   "metadata": {},
   "source": [
    "`-` `__str__` 와 `__repr__` 을 건드리지 않고 출력결과를 바꾸고 싶다면?"
   ]
  },
  {
   "cell_type": "code",
   "execution_count": 244,
   "id": "78a533e5-4af0-4982-a28e-7998ede46dbe",
   "metadata": {},
   "outputs": [],
   "source": [
    "class RPS: \n",
    "    def __init__(self,candidate=['가위','바위','보']):\n",
    "        self.candidate = candidate\n",
    "        self.actions = list() \n",
    "    def choose(self):\n",
    "        self.actions.append(np.random.choice(self.candidate))\n",
    "    def show(self):\n",
    "        print(self.actions[-1])\n",
    "    def _repr_html_(self):\n",
    "        html_str = \"\"\"\n",
    "        낼 수 있는 패: {} <br/> \n",
    "        기록: {}\n",
    "        \"\"\"\n",
    "        return html_str.format(self.candidate,self.actions)"
   ]
  },
  {
   "cell_type": "code",
   "execution_count": 245,
   "id": "1a20514b-c854-479e-9325-5883b3b01a87",
   "metadata": {},
   "outputs": [],
   "source": [
    "a=RPS()"
   ]
  },
  {
   "cell_type": "code",
   "execution_count": 246,
   "id": "7c6d460a-5b81-461f-b514-f6e95d6aa4af",
   "metadata": {},
   "outputs": [
    {
     "data": {
      "text/html": [
       "\n",
       "        낼 수 있는 패: ['가위', '바위', '보'] <br/> \n",
       "        기록: []\n",
       "        "
      ],
      "text/plain": [
       "<__main__.RPS at 0x7f6561534410>"
      ]
     },
     "execution_count": 246,
     "metadata": {},
     "output_type": "execute_result"
    }
   ],
   "source": [
    "a"
   ]
  },
  {
   "cell_type": "code",
   "execution_count": 247,
   "id": "efc4d738-7db7-4e83-b404-a13cd375272c",
   "metadata": {},
   "outputs": [
    {
     "name": "stdout",
     "output_type": "stream",
     "text": [
      "<__main__.RPS object at 0x7f6561534410>\n"
     ]
    }
   ],
   "source": [
    "print(a)"
   ]
  },
  {
   "cell_type": "code",
   "execution_count": 248,
   "id": "fedfe02d-b4e2-4a4b-bf3a-c3af1985af62",
   "metadata": {},
   "outputs": [
    {
     "data": {
      "text/plain": [
       "'<__main__.RPS object at 0x7f6561534410>'"
      ]
     },
     "execution_count": 248,
     "metadata": {},
     "output_type": "execute_result"
    }
   ],
   "source": [
    "str(a)"
   ]
  },
  {
   "cell_type": "code",
   "execution_count": 249,
   "id": "0f82c01a-9301-4ccb-af13-356d9dac1174",
   "metadata": {},
   "outputs": [
    {
     "data": {
      "text/plain": [
       "'<__main__.RPS object at 0x7f6561534410>'"
      ]
     },
     "execution_count": 249,
     "metadata": {},
     "output_type": "execute_result"
    }
   ],
   "source": [
    "repr(a)"
   ]
  },
  {
   "cell_type": "code",
   "execution_count": 250,
   "id": "9975df1c-ea4a-4124-bc2f-0996bf70a83d",
   "metadata": {},
   "outputs": [
    {
     "name": "stdout",
     "output_type": "stream",
     "text": [
      "바위\n",
      "바위\n",
      "바위\n",
      "가위\n",
      "보\n"
     ]
    }
   ],
   "source": [
    "for i in range(5):\n",
    "    a.choose()\n",
    "    a.show()"
   ]
  },
  {
   "cell_type": "code",
   "execution_count": 251,
   "id": "dd280c0d-1c73-4643-9ee8-bf57391c5acf",
   "metadata": {},
   "outputs": [
    {
     "data": {
      "text/html": [
       "\n",
       "        낼 수 있는 패: ['가위', '바위', '보'] <br/> \n",
       "        기록: ['바위', '바위', '바위', '가위', '보']\n",
       "        "
      ],
      "text/plain": [
       "<__main__.RPS at 0x7f6561534410>"
      ]
     },
     "execution_count": 251,
     "metadata": {},
     "output_type": "execute_result"
    }
   ],
   "source": [
    "a"
   ]
  },
  {
   "cell_type": "code",
   "execution_count": null,
   "id": "f07fa27d-6c8d-404b-b692-970edb8ee481",
   "metadata": {},
   "outputs": [],
   "source": []
  },
  {
   "cell_type": "code",
   "execution_count": null,
   "id": "037b3546-cd47-480f-9268-a6c693a900f9",
   "metadata": {},
   "outputs": [],
   "source": []
  }
 ],
 "metadata": {
  "kernelspec": {
   "display_name": "Python 3",
   "language": "python",
   "name": "python3"
  },
  "language_info": {
   "codemirror_mode": {
    "name": "ipython",
    "version": 3
   },
   "file_extension": ".py",
   "mimetype": "text/x-python",
   "name": "python",
   "nbconvert_exporter": "python",
   "pygments_lexer": "ipython3",
   "version": "3.7.16"
  }
 },
 "nbformat": 4,
 "nbformat_minor": 5
}
