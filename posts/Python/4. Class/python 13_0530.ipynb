{
 "cells": [
  {
   "cell_type": "raw",
   "id": "38a2405c-ef53-414d-843e-1bcf82756077",
   "metadata": {},
   "source": [
    "---\n",
    "title: \"파이썬 (0530) 13주차 \"\n",
    "author: \"김보람\"\n",
    "date: \"05/30/2022\"\n",
    "categories:\n",
    "  - 클래스\n",
    "---"
   ]
  },
  {
   "cell_type": "markdown",
   "id": "42d55fe2-76b5-467c-99b6-f3d12aef219c",
   "metadata": {},
   "source": [
    "## 클래스 공부 6단계"
   ]
  },
  {
   "cell_type": "markdown",
   "id": "e7162efa-6fc8-42e3-a769-94539c8e8995",
   "metadata": {},
   "source": [
    "`-` 상속"
   ]
  },
  {
   "cell_type": "markdown",
   "id": "a4d9fe86-e2db-4b9c-bb04-e44710a5f6df",
   "metadata": {},
   "source": [
    "### 인사관리 예제"
   ]
  },
  {
   "cell_type": "markdown",
   "id": "d744b1bd-94d7-4a41-b13c-f3be2333a2a3",
   "metadata": {},
   "source": [
    "`-` 아래와 같은 클래스를 만들자.\n",
    "- 이름, 직급, 연봉에 대한 정보가 있다.\n",
    "- 연봉을 올려주는 메소드가 존재"
   ]
  },
  {
   "cell_type": "code",
   "execution_count": 20,
   "id": "b3d0296d-83af-49e1-88dc-f19f598e4048",
   "metadata": {},
   "outputs": [],
   "source": [
    "class Employee:\n",
    "    def __init__(self, name, position=None, pay=0):\n",
    "        self.name = name\n",
    "        self.position = position\n",
    "        self.pay = pay\n",
    "    def _repr_html_(self):\n",
    "        html_str = \"\"\"\n",
    "        이름: {} <br/>\n",
    "        직급: {} <br/>\n",
    "        연봉: {} <br/>\n",
    "        \"\"\".format(self.name, self.position, self.pay)\n",
    "        return html_str\n",
    "    def giveraise(self,pct):\n",
    "        self.pay = self.pay * (1+pct)\n",
    "        "
   ]
  },
  {
   "cell_type": "markdown",
   "id": "b6f7e284-4105-488b-bba3-9e2511c1e5ce",
   "metadata": {},
   "source": [
    "`-` 확인"
   ]
  },
  {
   "cell_type": "code",
   "execution_count": 21,
   "id": "cec7bbaf-68f8-4db2-a960-a12e38372325",
   "metadata": {},
   "outputs": [],
   "source": [
    "iu = Employee('iu', position='staff', pay=5000)\n",
    "hynn = Employee('hynn', position='staff', pay=4000)\n",
    "hd = Employee('hodonh', position='mgr', pay=8000)"
   ]
  },
  {
   "cell_type": "code",
   "execution_count": 22,
   "id": "0386de75-2814-410d-9c36-652713e37abe",
   "metadata": {},
   "outputs": [
    {
     "data": {
      "text/html": [
       "\n",
       "        이름: iu <br/>\n",
       "        직급: staff <br/>\n",
       "        연봉: 5000 <br/>\n",
       "        "
      ],
      "text/plain": [
       "<__main__.Employee at 0x7f588028f490>"
      ]
     },
     "execution_count": 22,
     "metadata": {},
     "output_type": "execute_result"
    }
   ],
   "source": [
    "iu"
   ]
  },
  {
   "cell_type": "code",
   "execution_count": 23,
   "id": "69a75b81-e346-4df0-863c-8b1233e977d6",
   "metadata": {},
   "outputs": [
    {
     "data": {
      "text/html": [
       "\n",
       "        이름: hynn <br/>\n",
       "        직급: staff <br/>\n",
       "        연봉: 4000 <br/>\n",
       "        "
      ],
      "text/plain": [
       "<__main__.Employee at 0x7f588028f350>"
      ]
     },
     "execution_count": 23,
     "metadata": {},
     "output_type": "execute_result"
    }
   ],
   "source": [
    "hynn"
   ]
  },
  {
   "cell_type": "code",
   "execution_count": 24,
   "id": "6a033f13-eaab-4e73-9587-e00f71c3417d",
   "metadata": {},
   "outputs": [
    {
     "data": {
      "text/html": [
       "\n",
       "        이름: hodonh <br/>\n",
       "        직급: mgr <br/>\n",
       "        연봉: 8000 <br/>\n",
       "        "
      ],
      "text/plain": [
       "<__main__.Employee at 0x7f5882ff2f10>"
      ]
     },
     "execution_count": 24,
     "metadata": {},
     "output_type": "execute_result"
    }
   ],
   "source": [
    "hd"
   ]
  },
  {
   "cell_type": "code",
   "execution_count": 25,
   "id": "326585d0-3e68-4df6-a125-65c6f68c288d",
   "metadata": {},
   "outputs": [],
   "source": [
    "iu.giveraise(0.1)"
   ]
  },
  {
   "cell_type": "code",
   "execution_count": 26,
   "id": "ccfb0603-f85f-4537-88a6-ed45866ffd06",
   "metadata": {},
   "outputs": [
    {
     "data": {
      "text/html": [
       "\n",
       "        이름: iu <br/>\n",
       "        직급: staff <br/>\n",
       "        연봉: 5500.0 <br/>\n",
       "        "
      ],
      "text/plain": [
       "<__main__.Employee at 0x7f588028f490>"
      ]
     },
     "execution_count": 26,
     "metadata": {},
     "output_type": "execute_result"
    }
   ],
   "source": [
    "iu"
   ]
  },
  {
   "cell_type": "code",
   "execution_count": 27,
   "id": "1f3a58fe-0e5d-4cae-9ec8-016f3986ed28",
   "metadata": {},
   "outputs": [],
   "source": [
    "hynn.giveraise(0.2)"
   ]
  },
  {
   "cell_type": "code",
   "execution_count": 28,
   "id": "1b72dfe8-207d-422e-9c8c-0f5a47d8f46f",
   "metadata": {},
   "outputs": [
    {
     "data": {
      "text/html": [
       "\n",
       "        이름: hynn <br/>\n",
       "        직급: staff <br/>\n",
       "        연봉: 4800.0 <br/>\n",
       "        "
      ],
      "text/plain": [
       "<__main__.Employee at 0x7f588028f350>"
      ]
     },
     "execution_count": 28,
     "metadata": {},
     "output_type": "execute_result"
    }
   ],
   "source": [
    "hynn"
   ]
  },
  {
   "cell_type": "markdown",
   "id": "12fc8131-7e54-4442-a4c7-eb7c51e874b0",
   "metadata": {},
   "source": [
    "`-` 회사의 모든 직원의 연봉을 10%씩 올려보자."
   ]
  },
  {
   "cell_type": "code",
   "execution_count": 32,
   "id": "b401171c-68dc-434d-a7dd-56f0edc24c5c",
   "metadata": {},
   "outputs": [],
   "source": [
    "iu = Employee('iu', position='staff', pay=5000)\n",
    "hynn = Employee('hynn', position='staff', pay=4000)\n",
    "hd = Employee('hodonh', position='mgr', pay=8000)"
   ]
  },
  {
   "cell_type": "code",
   "execution_count": 33,
   "id": "946be16f-bf8d-49ab-ba3f-325e7ca2bf2a",
   "metadata": {},
   "outputs": [
    {
     "name": "stdout",
     "output_type": "stream",
     "text": [
      "iu\n",
      "hynn\n",
      "hodonh\n"
     ]
    }
   ],
   "source": [
    "for i in [iu, hynn, hd]:\n",
    "    print(i.name)"
   ]
  },
  {
   "cell_type": "code",
   "execution_count": 34,
   "id": "377037e8-b638-4905-bfe0-40ccc14c4015",
   "metadata": {},
   "outputs": [],
   "source": [
    "for i in [iu, hynn, hd]:\n",
    "    i.giveraise(0.1) # 일괄적으로 상승"
   ]
  },
  {
   "cell_type": "code",
   "execution_count": 35,
   "id": "3d35f255-cdee-461a-80e1-893bdee24dc5",
   "metadata": {},
   "outputs": [
    {
     "data": {
      "text/html": [
       "\n",
       "        이름: iu <br/>\n",
       "        직급: staff <br/>\n",
       "        연봉: 5500.0 <br/>\n",
       "        "
      ],
      "text/plain": [
       "<__main__.Employee at 0x7f58717fc150>"
      ]
     },
     "execution_count": 35,
     "metadata": {},
     "output_type": "execute_result"
    }
   ],
   "source": [
    "iu"
   ]
  },
  {
   "cell_type": "code",
   "execution_count": 36,
   "id": "8c3cb592-2cf3-4b58-8b36-71454153be80",
   "metadata": {},
   "outputs": [
    {
     "data": {
      "text/html": [
       "\n",
       "        이름: hynn <br/>\n",
       "        직급: staff <br/>\n",
       "        연봉: 4400.0 <br/>\n",
       "        "
      ],
      "text/plain": [
       "<__main__.Employee at 0x7f58717fc110>"
      ]
     },
     "execution_count": 36,
     "metadata": {},
     "output_type": "execute_result"
    }
   ],
   "source": [
    "hynn"
   ]
  },
  {
   "cell_type": "code",
   "execution_count": 37,
   "id": "ee29e946-f8a5-41d5-b57c-e7dc420e6346",
   "metadata": {},
   "outputs": [
    {
     "data": {
      "text/html": [
       "\n",
       "        이름: hodonh <br/>\n",
       "        직급: mgr <br/>\n",
       "        연봉: 8800.0 <br/>\n",
       "        "
      ],
      "text/plain": [
       "<__main__.Employee at 0x7f58717fc190>"
      ]
     },
     "execution_count": 37,
     "metadata": {},
     "output_type": "execute_result"
    }
   ],
   "source": [
    "hd"
   ]
  },
  {
   "cell_type": "markdown",
   "id": "13b47d73-4fbc-4868-9b1e-0bc6d5fe50d7",
   "metadata": {},
   "source": [
    "`-` 매니저 직급은 일반직원들의 상승분에서 5%의 보너스가 추가되어 상승한다고 가정"
   ]
  },
  {
   "cell_type": "markdown",
   "id": "dbb1aed9-48a9-405b-97ce-c7ce1e6621d9",
   "metadata": {},
   "source": [
    "`-` 모든회사 직원들의 연봉을 10% 상승"
   ]
  },
  {
   "cell_type": "markdown",
   "id": "0375d947-d2f3-461d-8767-a0eff15ddfa5",
   "metadata": {},
   "source": [
    "(구현1) if문을 통한"
   ]
  },
  {
   "cell_type": "code",
   "execution_count": 38,
   "id": "135ea341-63df-421a-b09a-13ebb82a57d4",
   "metadata": {},
   "outputs": [],
   "source": [
    "iu = Employee('iu', position='staff', pay=5000)\n",
    "hynn = Employee('hynn', position='staff', pay=4000)\n",
    "hd = Employee('hodonh', position='mgr', pay=8000)"
   ]
  },
  {
   "cell_type": "code",
   "execution_count": 39,
   "id": "33be5a36-a28f-405e-9790-06c7e630b6d2",
   "metadata": {},
   "outputs": [],
   "source": [
    "for i in [iu,hynn,hd]:\n",
    "    if i.position == 'mgr':\n",
    "        i.giveraise(0.1 + 0.05)\n",
    "    else:\n",
    "        i.giveraise(0.1)"
   ]
  },
  {
   "cell_type": "code",
   "execution_count": 40,
   "id": "c727b466-6b2b-49fb-a7de-d652c238d8e6",
   "metadata": {},
   "outputs": [
    {
     "data": {
      "text/html": [
       "\n",
       "        이름: iu <br/>\n",
       "        직급: staff <br/>\n",
       "        연봉: 5500.0 <br/>\n",
       "        "
      ],
      "text/plain": [
       "<__main__.Employee at 0x7f587184b190>"
      ]
     },
     "execution_count": 40,
     "metadata": {},
     "output_type": "execute_result"
    }
   ],
   "source": [
    "iu"
   ]
  },
  {
   "cell_type": "code",
   "execution_count": 41,
   "id": "99423409-6fe0-489b-ae48-8577214fa18c",
   "metadata": {},
   "outputs": [
    {
     "data": {
      "text/html": [
       "\n",
       "        이름: hynn <br/>\n",
       "        직급: staff <br/>\n",
       "        연봉: 4400.0 <br/>\n",
       "        "
      ],
      "text/plain": [
       "<__main__.Employee at 0x7f587184b150>"
      ]
     },
     "execution_count": 41,
     "metadata": {},
     "output_type": "execute_result"
    }
   ],
   "source": [
    "hynn"
   ]
  },
  {
   "cell_type": "code",
   "execution_count": 42,
   "id": "02772422-4280-426e-b04e-b6fd9102e15c",
   "metadata": {},
   "outputs": [
    {
     "data": {
      "text/html": [
       "\n",
       "        이름: hodonh <br/>\n",
       "        직급: mgr <br/>\n",
       "        연봉: 9200.0 <br/>\n",
       "        "
      ],
      "text/plain": [
       "<__main__.Employee at 0x7f587184b1d0>"
      ]
     },
     "execution_count": 42,
     "metadata": {},
     "output_type": "execute_result"
    }
   ],
   "source": [
    "hd"
   ]
  },
  {
   "cell_type": "markdown",
   "id": "5d5b3ec1-3076-4c5a-aa79-c5741c0f4c9d",
   "metadata": {},
   "source": [
    "(구현2) 새로운 클래스를 만들자"
   ]
  },
  {
   "cell_type": "code",
   "execution_count": 43,
   "id": "b853fdaf-00ba-4d17-809b-fa59b497ab2a",
   "metadata": {},
   "outputs": [],
   "source": [
    "class Manager:\n",
    "    def __init__(self, name, position=None, pay=0):\n",
    "        self.name = name\n",
    "        self.position = position\n",
    "        self.pay = pay\n",
    "    def _repr_html_(self):\n",
    "        html_str = \"\"\"\n",
    "        이름: {} <br/>\n",
    "        직급: {} <br/>\n",
    "        연봉: {} <br/>\n",
    "        \"\"\".format(self.name, self.position, self.pay)\n",
    "        return html_str\n",
    "    def giveraise(self,pct):\n",
    "        self.pay = self.pay * (1+pct+0.05)\n",
    "        "
   ]
  },
  {
   "cell_type": "code",
   "execution_count": 45,
   "id": "ef1765b4-ad74-42c0-9262-8aff05ef5ae1",
   "metadata": {},
   "outputs": [],
   "source": [
    "iu = Employee('iu', position='staff', pay=5000)\n",
    "hynn = Employee('hynn', position='staff', pay=4000)\n",
    "hd = Manager('hodonh', position='mgr', pay=8000)"
   ]
  },
  {
   "cell_type": "code",
   "execution_count": 46,
   "id": "f77550be-c203-417b-9211-503bdab9c85e",
   "metadata": {},
   "outputs": [],
   "source": [
    "for i in [iu,hynn,hd]:\n",
    "    i.giveraise(0.1)"
   ]
  },
  {
   "cell_type": "code",
   "execution_count": 47,
   "id": "1e2f2a3f-d8a3-494b-bc7a-9abf69ccf86d",
   "metadata": {},
   "outputs": [
    {
     "data": {
      "text/html": [
       "\n",
       "        이름: iu <br/>\n",
       "        직급: staff <br/>\n",
       "        연봉: 5500.0 <br/>\n",
       "        "
      ],
      "text/plain": [
       "<__main__.Employee at 0x7f587171fd10>"
      ]
     },
     "execution_count": 47,
     "metadata": {},
     "output_type": "execute_result"
    }
   ],
   "source": [
    "iu"
   ]
  },
  {
   "cell_type": "code",
   "execution_count": 48,
   "id": "94ad9b3f-cc63-410f-86bf-7d69f99f1c30",
   "metadata": {},
   "outputs": [
    {
     "data": {
      "text/html": [
       "\n",
       "        이름: hynn <br/>\n",
       "        직급: staff <br/>\n",
       "        연봉: 4400.0 <br/>\n",
       "        "
      ],
      "text/plain": [
       "<__main__.Employee at 0x7f587171fcd0>"
      ]
     },
     "execution_count": 48,
     "metadata": {},
     "output_type": "execute_result"
    }
   ],
   "source": [
    "hynn"
   ]
  },
  {
   "cell_type": "code",
   "execution_count": 49,
   "id": "86a50879-a3bc-43f1-9af5-cdc3f87bbd09",
   "metadata": {},
   "outputs": [
    {
     "data": {
      "text/html": [
       "\n",
       "        이름: hodonh <br/>\n",
       "        직급: mgr <br/>\n",
       "        연봉: 9200.000000000002 <br/>\n",
       "        "
      ],
      "text/plain": [
       "<__main__.Manager at 0x7f587171f810>"
      ]
     },
     "execution_count": 49,
     "metadata": {},
     "output_type": "execute_result"
    }
   ],
   "source": [
    "hd"
   ]
  },
  {
   "cell_type": "markdown",
   "id": "9fec6a4f-a263-42db-ad99-992eabcfbbc3",
   "metadata": {},
   "source": [
    "`-` 구현3: 이미 만들어진 클래스에서"
   ]
  },
  {
   "cell_type": "code",
   "execution_count": 50,
   "id": "ca0841fa-7fa6-4dbe-9de7-565bbdca5490",
   "metadata": {},
   "outputs": [],
   "source": [
    "class Manager(Employee):\n",
    "    # 나머지 기타 함수내용은 Emplyee 클래스와 같음걸 표현하려면 위 가로에 Employee를 작성한다.\n",
    "    def giveraise(self,pct):\n",
    "        self.pay = self.pay * (1+pct+0.05)\n",
    "        "
   ]
  },
  {
   "cell_type": "code",
   "execution_count": 52,
   "id": "b24108d9-2935-4ceb-8250-5a3f8415d407",
   "metadata": {},
   "outputs": [
    {
     "data": {
      "text/html": [
       "\n",
       "        이름: hodong <br/>\n",
       "        직급: None <br/>\n",
       "        연봉: 8000 <br/>\n",
       "        "
      ],
      "text/plain": [
       "<__main__.Manager at 0x7f5871702190>"
      ]
     },
     "execution_count": 52,
     "metadata": {},
     "output_type": "execute_result"
    }
   ],
   "source": [
    "hd=Manager('hodong',pay=8000)\n",
    "hd  # 명시하지 않았는데 상속됨"
   ]
  },
  {
   "cell_type": "code",
   "execution_count": 53,
   "id": "2e0fa4f8-e464-40bd-939f-edd8c8b02ac3",
   "metadata": {},
   "outputs": [],
   "source": [
    "iu = Employee('iu', position='staff', pay=5000)\n",
    "hynn = Employee('hynn', position='staff', pay=4000)\n",
    "hd = Manager('hodonh', position='mgr', pay=8000)"
   ]
  },
  {
   "cell_type": "code",
   "execution_count": 54,
   "id": "d8346622-8bbd-4172-8e89-c8fa1f91ec01",
   "metadata": {},
   "outputs": [],
   "source": [
    "for i in [iu,hynn,hd]:\n",
    "    i.giveraise(0.1)"
   ]
  },
  {
   "cell_type": "code",
   "execution_count": 55,
   "id": "263883b8-34de-4124-9285-2754af1db010",
   "metadata": {},
   "outputs": [
    {
     "data": {
      "text/html": [
       "\n",
       "        이름: iu <br/>\n",
       "        직급: staff <br/>\n",
       "        연봉: 5500.0 <br/>\n",
       "        "
      ],
      "text/plain": [
       "<__main__.Employee at 0x7f5871702290>"
      ]
     },
     "execution_count": 55,
     "metadata": {},
     "output_type": "execute_result"
    }
   ],
   "source": [
    "iu"
   ]
  },
  {
   "cell_type": "code",
   "execution_count": 56,
   "id": "84fa6a23-330d-473c-b452-adf7e200183f",
   "metadata": {},
   "outputs": [
    {
     "data": {
      "text/html": [
       "\n",
       "        이름: hynn <br/>\n",
       "        직급: staff <br/>\n",
       "        연봉: 4400.0 <br/>\n",
       "        "
      ],
      "text/plain": [
       "<__main__.Employee at 0x7f5871702250>"
      ]
     },
     "execution_count": 56,
     "metadata": {},
     "output_type": "execute_result"
    }
   ],
   "source": [
    "hynn"
   ]
  },
  {
   "cell_type": "code",
   "execution_count": 57,
   "id": "75124989-4fc3-46e1-846a-04cddf4d6f6d",
   "metadata": {},
   "outputs": [
    {
     "data": {
      "text/html": [
       "\n",
       "        이름: hodonh <br/>\n",
       "        직급: mgr <br/>\n",
       "        연봉: 9200.000000000002 <br/>\n",
       "        "
      ],
      "text/plain": [
       "<__main__.Manager at 0x7f5871702090>"
      ]
     },
     "execution_count": 57,
     "metadata": {},
     "output_type": "execute_result"
    }
   ],
   "source": [
    "hd"
   ]
  },
  {
   "cell_type": "markdown",
   "id": "badbce79-2417-4fe1-a217-7a774192659e",
   "metadata": {},
   "source": [
    "`-` 요약: 이미 만들어진 클래스에서 대부분의 기능은 그대로 쓰지만 일부기능만 변경 혹은 추가하고 싶다면 클래스를 상속하면 된다!"
   ]
  },
  {
   "cell_type": "markdown",
   "id": "e8897768-1b7f-43ce-a8ab-b38ef788f0ae",
   "metadata": {},
   "source": [
    "### 리스트의 상속"
   ]
  },
  {
   "cell_type": "markdown",
   "id": "511734ff-1fa4-47b3-af08-7908e07facde",
   "metadata": {},
   "source": [
    "- 내가 만든 클래스를 계속 상속하는 경우"
   ]
  },
  {
   "cell_type": "markdown",
   "id": "566c1245-0d88-48b6-ba6f-8a4864c91cd8",
   "metadata": {},
   "source": [
    "`-` list 와 비슷한데 멤버들의 빈도가 계산되는 메소드를 포함하는 새로운 나만의 list를 만들자"
   ]
  },
  {
   "cell_type": "code",
   "execution_count": 58,
   "id": "215d16ff-961b-457e-9e29-9a4bfba4d1b8",
   "metadata": {},
   "outputs": [
    {
     "data": {
      "text/plain": [
       "['a', 'b', 'a', 'c', 'b', 'a', 'd']"
      ]
     },
     "execution_count": 58,
     "metadata": {},
     "output_type": "execute_result"
    }
   ],
   "source": [
    "lst = ['a','b','a','c','b','a','d']\n",
    "lst"
   ]
  },
  {
   "cell_type": "markdown",
   "id": "ce45f198-1bcd-432c-ae15-329f8cf71a6e",
   "metadata": {},
   "source": [
    "`-` 아래와 같은 딕셔너리를 만들고 싶다."
   ]
  },
  {
   "cell_type": "code",
   "execution_count": 60,
   "id": "d18b2b12-913a-4f49-a8d4-a3648b7d4cf7",
   "metadata": {},
   "outputs": [
    {
     "data": {
      "text/plain": [
       "{'a': 3, 'b': 2, 'c': 1, 'd': 1}"
      ]
     },
     "execution_count": 60,
     "metadata": {},
     "output_type": "execute_result"
    }
   ],
   "source": [
    "freq = {'a':3, 'b':2, 'c':1, 'd':1}  # 갯수\n",
    "freq"
   ]
  },
  {
   "cell_type": "markdown",
   "id": "17173085-d7f7-4a5e-9c75-d9a2fc30a3f0",
   "metadata": {},
   "source": [
    "- lst.frequency()를 입력하면 위의 기능이 수행되도록 변형된 list를 쓰고 싶다."
   ]
  },
  {
   "cell_type": "markdown",
   "id": "75bb6d80-5548-4f08-b61c-978fb441e99b",
   "metadata": {},
   "source": [
    "`-` 구현"
   ]
  },
  {
   "cell_type": "markdown",
   "id": "b8355111-d6ca-4dbb-a81e-57a3d7af9fba",
   "metadata": {},
   "source": [
    "(시도1) 절반 성공"
   ]
  },
  {
   "cell_type": "code",
   "execution_count": 61,
   "id": "402ca681-2fa8-446d-a5b5-2d1c30d93df5",
   "metadata": {},
   "outputs": [
    {
     "data": {
      "text/plain": [
       "{'a': 0, 'b': 0, 'c': 0, 'd': 0}"
      ]
     },
     "execution_count": 61,
     "metadata": {},
     "output_type": "execute_result"
    }
   ],
   "source": [
    "freq = {'a':0, 'b':0, 'c':0, 'd':0}   # 일단 다 0이라 생각하고 코드 짜기 \n",
    "freq"
   ]
  },
  {
   "cell_type": "code",
   "execution_count": 63,
   "id": "e892d4f2-704b-442b-9c21-f9739c0a57db",
   "metadata": {},
   "outputs": [
    {
     "name": "stdout",
     "output_type": "stream",
     "text": [
      "a\n",
      "b\n",
      "a\n",
      "c\n",
      "b\n",
      "a\n",
      "d\n"
     ]
    }
   ],
   "source": [
    "for item in lst:\n",
    "    print(item)"
   ]
  },
  {
   "cell_type": "code",
   "execution_count": 64,
   "id": "cd2fda50-2db7-48b6-acc8-d4ea71e30cf4",
   "metadata": {},
   "outputs": [
    {
     "name": "stdout",
     "output_type": "stream",
     "text": [
      "0\n",
      "0\n",
      "0\n",
      "0\n",
      "0\n",
      "0\n",
      "0\n"
     ]
    }
   ],
   "source": [
    "for item in lst:\n",
    "    print(freq[item])"
   ]
  },
  {
   "cell_type": "code",
   "execution_count": 65,
   "id": "b5f9ec82-0061-4c60-8a66-e33e4cdc807a",
   "metadata": {},
   "outputs": [],
   "source": [
    "for item in lst:\n",
    "    freq[item] = freq[item] + 1"
   ]
  },
  {
   "cell_type": "code",
   "execution_count": 66,
   "id": "2a5d24af-abed-4cf0-81cc-6e8d449dbe5d",
   "metadata": {},
   "outputs": [
    {
     "data": {
      "text/plain": [
       "{'a': 3, 'b': 2, 'c': 1, 'd': 1}"
      ]
     },
     "execution_count": 66,
     "metadata": {},
     "output_type": "execute_result"
    }
   ],
   "source": [
    "freq"
   ]
  },
  {
   "cell_type": "markdown",
   "id": "0a18d7a7-a59f-416f-8946-5eaf6ea2f55f",
   "metadata": {},
   "source": [
    "반쯤 성공.. 리스트가 a,b,c,d 라는걸 알고 있어야 함"
   ]
  },
  {
   "cell_type": "markdown",
   "id": "bb3e399b-4a77-458c-a8d7-16ab677f1785",
   "metadata": {},
   "source": [
    "(시도2) 실패"
   ]
  },
  {
   "cell_type": "code",
   "execution_count": 67,
   "id": "ab516181-e3a1-4f2a-a515-fff1582728d4",
   "metadata": {},
   "outputs": [
    {
     "data": {
      "text/plain": [
       "['a', 'b', 'a', 'c', 'b', 'a', 'd']"
      ]
     },
     "execution_count": 67,
     "metadata": {},
     "output_type": "execute_result"
    }
   ],
   "source": [
    "lst"
   ]
  },
  {
   "cell_type": "code",
   "execution_count": 68,
   "id": "cda80d15-8f81-4c36-bd18-746ed5a84258",
   "metadata": {},
   "outputs": [
    {
     "data": {
      "text/plain": [
       "{}"
      ]
     },
     "execution_count": 68,
     "metadata": {},
     "output_type": "execute_result"
    }
   ],
   "source": [
    "freq = dict()\n",
    "freq"
   ]
  },
  {
   "cell_type": "code",
   "execution_count": 69,
   "id": "74e07a23-680f-4a7b-93f2-8d36c7f1ff14",
   "metadata": {},
   "outputs": [
    {
     "ename": "KeyError",
     "evalue": "'a'",
     "output_type": "error",
     "traceback": [
      "\u001b[0;31m---------------------------------------------------------------------------\u001b[0m",
      "\u001b[0;31mKeyError\u001b[0m                                  Traceback (most recent call last)",
      "\u001b[0;32m<ipython-input-69-9a68de33f0f7>\u001b[0m in \u001b[0;36m<module>\u001b[0;34m\u001b[0m\n\u001b[1;32m      1\u001b[0m \u001b[0;32mfor\u001b[0m \u001b[0mitem\u001b[0m \u001b[0;32min\u001b[0m \u001b[0mlst\u001b[0m\u001b[0;34m:\u001b[0m\u001b[0;34m\u001b[0m\u001b[0;34m\u001b[0m\u001b[0m\n\u001b[0;32m----> 2\u001b[0;31m     \u001b[0mfreq\u001b[0m\u001b[0;34m[\u001b[0m\u001b[0mitem\u001b[0m\u001b[0;34m]\u001b[0m \u001b[0;34m=\u001b[0m \u001b[0mfreq\u001b[0m\u001b[0;34m[\u001b[0m\u001b[0mitem\u001b[0m\u001b[0;34m]\u001b[0m \u001b[0;34m+\u001b[0m \u001b[0;36m1\u001b[0m\u001b[0;34m\u001b[0m\u001b[0;34m\u001b[0m\u001b[0m\n\u001b[0m",
      "\u001b[0;31mKeyError\u001b[0m: 'a'"
     ]
    }
   ],
   "source": [
    "for item in lst:\n",
    "    freq[item] = freq[item] + 1"
   ]
  },
  {
   "cell_type": "code",
   "execution_count": 71,
   "id": "b665aab8-cd09-4198-b1da-6182bc6cc2db",
   "metadata": {},
   "outputs": [
    {
     "ename": "KeyError",
     "evalue": "'a'",
     "output_type": "error",
     "traceback": [
      "\u001b[0;31m---------------------------------------------------------------------------\u001b[0m",
      "\u001b[0;31mKeyError\u001b[0m                                  Traceback (most recent call last)",
      "\u001b[0;32m<ipython-input-71-b792a548c695>\u001b[0m in \u001b[0;36m<module>\u001b[0;34m\u001b[0m\n\u001b[0;32m----> 1\u001b[0;31m \u001b[0mfreq\u001b[0m\u001b[0;34m[\u001b[0m\u001b[0;34m'a'\u001b[0m\u001b[0;34m]\u001b[0m  \u001b[0;31m# 매칭되는게 없다!\u001b[0m\u001b[0;34m\u001b[0m\u001b[0;34m\u001b[0m\u001b[0m\n\u001b[0m",
      "\u001b[0;31mKeyError\u001b[0m: 'a'"
     ]
    }
   ],
   "source": [
    "freq['a']  # 매칭되는게 없다!"
   ]
  },
  {
   "cell_type": "markdown",
   "id": "cb8b6f68-cfff-4ba1-95d3-a1f023522d2d",
   "metadata": {},
   "source": [
    "에러이유? `freq['a']` 를 호출할 수 없다 -> `freq.get('a',0)`을 이용"
   ]
  },
  {
   "cell_type": "code",
   "execution_count": 73,
   "id": "83f3633a-63d3-408f-9e9f-d994ebe4bd40",
   "metadata": {},
   "outputs": [],
   "source": [
    "freq.get('a')   # 4주차 3월 23일 복습  get메소드를 사용하면 없어도 에러를 표시하지 않음"
   ]
  },
  {
   "cell_type": "code",
   "execution_count": 75,
   "id": "1fb45eb7-406d-4115-a072-29f22c42a39d",
   "metadata": {},
   "outputs": [
    {
     "data": {
      "text/plain": [
       "\u001b[0;31mSignature:\u001b[0m \u001b[0mfreq\u001b[0m\u001b[0;34m.\u001b[0m\u001b[0mget\u001b[0m\u001b[0;34m(\u001b[0m\u001b[0mkey\u001b[0m\u001b[0;34m,\u001b[0m \u001b[0mdefault\u001b[0m\u001b[0;34m=\u001b[0m\u001b[0;32mNone\u001b[0m\u001b[0;34m,\u001b[0m \u001b[0;34m/\u001b[0m\u001b[0;34m)\u001b[0m\u001b[0;34m\u001b[0m\u001b[0;34m\u001b[0m\u001b[0m\n",
       "\u001b[0;31mDocstring:\u001b[0m Return the value for key if key is in the dictionary, else default.\n",
       "\u001b[0;31mType:\u001b[0m      builtin_function_or_method\n"
      ]
     },
     "metadata": {},
     "output_type": "display_data"
    }
   ],
   "source": [
    "freq.get?"
   ]
  },
  {
   "cell_type": "markdown",
   "id": "16b35064-80eb-4fa4-984a-5e5dab0a9fac",
   "metadata": {},
   "source": [
    "- key에 대응하는 값이 있으면 그 값을 리턴하고 없으면 default를 리턴"
   ]
  },
  {
   "cell_type": "code",
   "execution_count": 78,
   "id": "f88e6a6c-a651-4747-a0d9-677c5588fbd4",
   "metadata": {},
   "outputs": [
    {
     "data": {
      "text/plain": [
       "0"
      ]
     },
     "execution_count": 78,
     "metadata": {},
     "output_type": "execute_result"
    }
   ],
   "source": [
    "freq.get('a',0)  # a값 없으면 0으로 리턴"
   ]
  },
  {
   "cell_type": "markdown",
   "id": "1754f020-315a-4cf4-a2d2-c5199345ce57",
   "metadata": {},
   "source": [
    "(시도3)"
   ]
  },
  {
   "cell_type": "code",
   "execution_count": 79,
   "id": "95b67b67-587d-4bba-9ee3-a3d2b32c1e7e",
   "metadata": {},
   "outputs": [
    {
     "data": {
      "text/plain": [
       "['a', 'b', 'a', 'c', 'b', 'a', 'd']"
      ]
     },
     "execution_count": 79,
     "metadata": {},
     "output_type": "execute_result"
    }
   ],
   "source": [
    "lst"
   ]
  },
  {
   "cell_type": "code",
   "execution_count": 80,
   "id": "2e0d16fa-6988-4753-9046-767fa25af654",
   "metadata": {},
   "outputs": [
    {
     "data": {
      "text/plain": [
       "{}"
      ]
     },
     "execution_count": 80,
     "metadata": {},
     "output_type": "execute_result"
    }
   ],
   "source": [
    "freq = dict()\n",
    "freq"
   ]
  },
  {
   "cell_type": "code",
   "execution_count": 82,
   "id": "9d9b7884-a832-4af2-804d-8d0472840236",
   "metadata": {},
   "outputs": [],
   "source": [
    "for item in lst:\n",
    "    freq[item] = freq.get(item,0) + 1"
   ]
  },
  {
   "cell_type": "code",
   "execution_count": 83,
   "id": "b9cb093a-d46a-4a3f-9371-c8af9e2ca569",
   "metadata": {},
   "outputs": [
    {
     "data": {
      "text/plain": [
       "{'a': 3, 'b': 2, 'c': 1, 'd': 1}"
      ]
     },
     "execution_count": 83,
     "metadata": {},
     "output_type": "execute_result"
    }
   ],
   "source": [
    "freq"
   ]
  },
  {
   "cell_type": "markdown",
   "id": "e33ebbb1-3f30-47d8-9ebc-ca1c28d0ca84",
   "metadata": {},
   "source": [
    "`-` 이것을 내가 정의하는 새로운 list의 메소드로 넣고 싶다."
   ]
  },
  {
   "cell_type": "code",
   "execution_count": 89,
   "id": "dd2c9e34-61b8-471f-aebe-862b429c7650",
   "metadata": {},
   "outputs": [],
   "source": [
    "class L(list):   # L 이라는 클래스에 list에 있는 모든걸 상속받겠다.\n",
    "    pass"
   ]
  },
  {
   "cell_type": "code",
   "execution_count": 85,
   "id": "1e00098e-055c-4c75-a56a-77f544dc8d07",
   "metadata": {},
   "outputs": [
    {
     "data": {
      "text/plain": [
       "[1, 2, 3]"
      ]
     },
     "execution_count": 85,
     "metadata": {},
     "output_type": "execute_result"
    }
   ],
   "source": [
    "a=[1,2,3]\n",
    "a"
   ]
  },
  {
   "cell_type": "code",
   "execution_count": 86,
   "id": "998b0d11-6e6e-4f57-803f-77b83a63d521",
   "metadata": {},
   "outputs": [
    {
     "data": {
      "text/plain": [
       "\u001b[0;31mType:\u001b[0m        list\n",
       "\u001b[0;31mString form:\u001b[0m [1, 2, 3]\n",
       "\u001b[0;31mLength:\u001b[0m      3\n",
       "\u001b[0;31mDocstring:\u001b[0m  \n",
       "Built-in mutable sequence.\n",
       "\n",
       "If no argument is given, the constructor creates a new empty list.\n",
       "The argument must be an iterable if specified.\n"
      ]
     },
     "metadata": {},
     "output_type": "display_data"
    }
   ],
   "source": [
    "a?"
   ]
  },
  {
   "cell_type": "code",
   "execution_count": 91,
   "id": "b3778e7f-4d45-46d4-b1dc-8a86f9be975c",
   "metadata": {},
   "outputs": [],
   "source": [
    "class L(list):\n",
    "    def frequency(self):\n",
    "        freq = dict()\n",
    "        for item in self:\n",
    "            freq[item] = freq.get(item,0) + 1\n",
    "        return freq"
   ]
  },
  {
   "cell_type": "code",
   "execution_count": 92,
   "id": "e2184319-1b21-44ba-8f95-d767bf260a06",
   "metadata": {},
   "outputs": [],
   "source": [
    "lst = L([1,1,1,2,2,3])"
   ]
  },
  {
   "cell_type": "code",
   "execution_count": 96,
   "id": "2a6a4326-50d0-4b1b-998d-c98ecefb5d46",
   "metadata": {},
   "outputs": [
    {
     "ename": "SyntaxError",
     "evalue": "invalid syntax (<ipython-input-96-8d8983ef4faf>, line 1)",
     "output_type": "error",
     "traceback": [
      "\u001b[0;36m  File \u001b[0;32m\"<ipython-input-96-8d8983ef4faf>\"\u001b[0;36m, line \u001b[0;32m1\u001b[0m\n\u001b[0;31m    lst?\u001b[0m\n\u001b[0m       ^\u001b[0m\n\u001b[0;31mSyntaxError\u001b[0m\u001b[0;31m:\u001b[0m invalid syntax\n"
     ]
    }
   ],
   "source": [
    "lst?  "
   ]
  },
  {
   "cell_type": "code",
   "execution_count": 95,
   "id": "04ffd361-b906-4c6b-97b9-776bdd2d5433",
   "metadata": {},
   "outputs": [],
   "source": [
    " # 리스트 같아 보이지만 타입이 L! 내가 설정한 클래스"
   ]
  },
  {
   "cell_type": "code",
   "execution_count": 97,
   "id": "bf67056f-4fd1-49aa-809a-8c0c63f5bec3",
   "metadata": {},
   "outputs": [
    {
     "data": {
      "text/plain": [
       "[1, 1, 1, 2, 2, 3]"
      ]
     },
     "execution_count": 97,
     "metadata": {},
     "output_type": "execute_result"
    }
   ],
   "source": [
    "lst  #원래 list에 있는 repr 기능을 상속받아서 이루어지는 결과"
   ]
  },
  {
   "cell_type": "code",
   "execution_count": 98,
   "id": "4c9a71b5-e37c-4348-af9e-8f855343283a",
   "metadata": {},
   "outputs": [
    {
     "data": {
      "text/plain": [
       "[4, 5, 6, 4, 5, 6]"
      ]
     },
     "execution_count": 98,
     "metadata": {},
     "output_type": "execute_result"
    }
   ],
   "source": [
    "_lst = L([4,5,6])\n",
    "_lst + _lst   # L자로형끼리 덧셈"
   ]
  },
  {
   "cell_type": "code",
   "execution_count": 105,
   "id": "b48dd294-d5f3-482a-a4cb-1b23196e9c2b",
   "metadata": {},
   "outputs": [
    {
     "data": {
      "text/plain": [
       "[1, 1, 1, 2, 2, 3, 10, 10, 4, 5, 6]"
      ]
     },
     "execution_count": 105,
     "metadata": {},
     "output_type": "execute_result"
    }
   ],
   "source": [
    "lst + [4,5,6]   # l자료형과  list 자료형의 덧셈도 가능"
   ]
  },
  {
   "cell_type": "markdown",
   "id": "d37b40a5-d0cc-43fb-ab88-9dbe4ef6a61f",
   "metadata": {},
   "source": [
    "- L자료형의 덧셈은 list의 덧셈과 완전히 같음"
   ]
  },
  {
   "cell_type": "code",
   "execution_count": 104,
   "id": "acd1b50f-a2be-4e7e-947b-f52f4eeedb29",
   "metadata": {},
   "outputs": [
    {
     "data": {
      "text/plain": [
       "[1, 1, 1, 2, 2, 3, 10, 10]"
      ]
     },
     "execution_count": 104,
     "metadata": {},
     "output_type": "execute_result"
    }
   ],
   "source": [
    "lst.append(10)\n",
    "lst   # 요론 기본적인 리스트 기능도 가능"
   ]
  },
  {
   "cell_type": "code",
   "execution_count": 102,
   "id": "576853a5-a644-4025-8803-f10a507feea2",
   "metadata": {
    "tags": []
   },
   "outputs": [
    {
     "data": {
      "text/plain": [
       "{1: 3, 2: 2, 3: 1}"
      ]
     },
     "execution_count": 102,
     "metadata": {},
     "output_type": "execute_result"
    }
   ],
   "source": [
    "lst.frequency()  # 리스트에서 이것 기능만 추가된거랑 똑같고 나머지는 다 리스트랑 똑같다"
   ]
  },
  {
   "cell_type": "markdown",
   "id": "5d6bcc1e-211c-4586-aa00-b918d7e0c34a",
   "metadata": {},
   "source": [
    "## Appendix: 사용자 정의 자료형의 유용함"
   ]
  },
  {
   "cell_type": "markdown",
   "id": "fe6b4725-3d66-493d-99c5-09ab19edfb0e",
   "metadata": {},
   "source": [
    "`-` 사용자정의 자료형이 어떤 경우에는 유용할 수 있다."
   ]
  },
  {
   "cell_type": "code",
   "execution_count": 108,
   "id": "394d44d4-90a5-4875-b1af-b279e8fadbc7",
   "metadata": {},
   "outputs": [
    {
     "name": "stdout",
     "output_type": "stream",
     "text": [
      "Collecting matplotlib\n",
      "  Downloading matplotlib-3.5.3-cp37-cp37m-manylinux_2_5_x86_64.manylinux1_x86_64.whl (11.2 MB)\n",
      "\u001b[2K     \u001b[90m━━━━━━━━━━━━━━━━━━━━━━━━━━━━━━━━━━━━━━━━\u001b[0m \u001b[32m11.2/11.2 MB\u001b[0m \u001b[31m97.5 MB/s\u001b[0m eta \u001b[36m0:00:00\u001b[0ma \u001b[36m0:00:01\u001b[0m\n",
      "\u001b[?25hCollecting fonttools>=4.22.0\n",
      "  Downloading fonttools-4.38.0-py3-none-any.whl (965 kB)\n",
      "\u001b[2K     \u001b[90m━━━━━━━━━━━━━━━━━━━━━━━━━━━━━━━━━━━━━━\u001b[0m \u001b[32m965.4/965.4 kB\u001b[0m \u001b[31m81.8 MB/s\u001b[0m eta \u001b[36m0:00:00\u001b[0m\n",
      "\u001b[?25hRequirement already satisfied: packaging>=20.0 in /home/koinup4/anaconda3/envs/py37/lib/python3.7/site-packages (from matplotlib) (23.0)\n",
      "Requirement already satisfied: python-dateutil>=2.7 in /home/koinup4/anaconda3/envs/py37/lib/python3.7/site-packages (from matplotlib) (2.8.2)\n",
      "Collecting pyparsing>=2.2.1\n",
      "  Downloading pyparsing-3.0.9-py3-none-any.whl (98 kB)\n",
      "\u001b[2K     \u001b[90m━━━━━━━━━━━━━━━━━━━━━━━━━━━━━━━━━━━━━━━━\u001b[0m \u001b[32m98.3/98.3 kB\u001b[0m \u001b[31m18.6 MB/s\u001b[0m eta \u001b[36m0:00:00\u001b[0m\n",
      "\u001b[?25hCollecting kiwisolver>=1.0.1\n",
      "  Downloading kiwisolver-1.4.4-cp37-cp37m-manylinux_2_5_x86_64.manylinux1_x86_64.whl (1.1 MB)\n",
      "\u001b[2K     \u001b[90m━━━━━━━━━━━━━━━━━━━━━━━━━━━━━━━━━━━━━━━━\u001b[0m \u001b[32m1.1/1.1 MB\u001b[0m \u001b[31m82.9 MB/s\u001b[0m eta \u001b[36m0:00:00\u001b[0m\n",
      "\u001b[?25hRequirement already satisfied: numpy>=1.17 in /home/koinup4/anaconda3/envs/py37/lib/python3.7/site-packages (from matplotlib) (1.21.6)\n",
      "Collecting cycler>=0.10\n",
      "  Downloading cycler-0.11.0-py3-none-any.whl (6.4 kB)\n",
      "Requirement already satisfied: pillow>=6.2.0 in /home/koinup4/anaconda3/envs/py37/lib/python3.7/site-packages (from matplotlib) (9.4.0)\n",
      "Requirement already satisfied: typing-extensions in /home/koinup4/anaconda3/envs/py37/lib/python3.7/site-packages (from kiwisolver>=1.0.1->matplotlib) (4.4.0)\n",
      "Requirement already satisfied: six>=1.5 in /home/koinup4/anaconda3/envs/py37/lib/python3.7/site-packages (from python-dateutil>=2.7->matplotlib) (1.16.0)\n",
      "Installing collected packages: pyparsing, kiwisolver, fonttools, cycler, matplotlib\n",
      "Successfully installed cycler-0.11.0 fonttools-4.38.0 kiwisolver-1.4.4 matplotlib-3.5.3 pyparsing-3.0.9\n"
     ]
    }
   ],
   "source": [
    "!pip install matplotlib"
   ]
  },
  {
   "cell_type": "code",
   "execution_count": 109,
   "id": "764c5d09-38b3-483a-969b-232803f4fc74",
   "metadata": {},
   "outputs": [],
   "source": [
    "import pandas as pd\n",
    "import numpy as np\n",
    "import matplotlib.pyplot as plt"
   ]
  },
  {
   "cell_type": "markdown",
   "id": "71208fef-8a08-46d9-9cfd-208b562609af",
   "metadata": {},
   "source": [
    "`-` 예제1"
   ]
  },
  {
   "cell_type": "code",
   "execution_count": 110,
   "id": "191d56d7-72c9-4330-aedd-1a4b483aaee4",
   "metadata": {},
   "outputs": [],
   "source": [
    "year = ['2016', '2017', '2017', '2017', 2017, 2018, 2018, 2019, 2019]\n",
    "value = np.random.randn(9)"
   ]
  },
  {
   "cell_type": "code",
   "execution_count": 111,
   "id": "e89b135f-867a-42c8-9622-b2af0a31fa87",
   "metadata": {},
   "outputs": [
    {
     "data": {
      "text/html": [
       "<div>\n",
       "<style scoped>\n",
       "    .dataframe tbody tr th:only-of-type {\n",
       "        vertical-align: middle;\n",
       "    }\n",
       "\n",
       "    .dataframe tbody tr th {\n",
       "        vertical-align: top;\n",
       "    }\n",
       "\n",
       "    .dataframe thead th {\n",
       "        text-align: right;\n",
       "    }\n",
       "</style>\n",
       "<table border=\"1\" class=\"dataframe\">\n",
       "  <thead>\n",
       "    <tr style=\"text-align: right;\">\n",
       "      <th></th>\n",
       "      <th>year</th>\n",
       "      <th>value</th>\n",
       "    </tr>\n",
       "  </thead>\n",
       "  <tbody>\n",
       "    <tr>\n",
       "      <th>0</th>\n",
       "      <td>2016</td>\n",
       "      <td>0.729447</td>\n",
       "    </tr>\n",
       "    <tr>\n",
       "      <th>1</th>\n",
       "      <td>2017</td>\n",
       "      <td>0.110630</td>\n",
       "    </tr>\n",
       "    <tr>\n",
       "      <th>2</th>\n",
       "      <td>2017</td>\n",
       "      <td>0.108119</td>\n",
       "    </tr>\n",
       "    <tr>\n",
       "      <th>3</th>\n",
       "      <td>2017</td>\n",
       "      <td>-0.095107</td>\n",
       "    </tr>\n",
       "    <tr>\n",
       "      <th>4</th>\n",
       "      <td>2017</td>\n",
       "      <td>-0.337716</td>\n",
       "    </tr>\n",
       "    <tr>\n",
       "      <th>5</th>\n",
       "      <td>2018</td>\n",
       "      <td>-0.134635</td>\n",
       "    </tr>\n",
       "    <tr>\n",
       "      <th>6</th>\n",
       "      <td>2018</td>\n",
       "      <td>-2.182677</td>\n",
       "    </tr>\n",
       "    <tr>\n",
       "      <th>7</th>\n",
       "      <td>2019</td>\n",
       "      <td>-0.150227</td>\n",
       "    </tr>\n",
       "    <tr>\n",
       "      <th>8</th>\n",
       "      <td>2019</td>\n",
       "      <td>0.849774</td>\n",
       "    </tr>\n",
       "  </tbody>\n",
       "</table>\n",
       "</div>"
      ],
      "text/plain": [
       "   year     value\n",
       "0  2016  0.729447\n",
       "1  2017  0.110630\n",
       "2  2017  0.108119\n",
       "3  2017 -0.095107\n",
       "4  2017 -0.337716\n",
       "5  2018 -0.134635\n",
       "6  2018 -2.182677\n",
       "7  2019 -0.150227\n",
       "8  2019  0.849774"
      ]
     },
     "execution_count": 111,
     "metadata": {},
     "output_type": "execute_result"
    }
   ],
   "source": [
    "df = pd.DataFrame({'year':year, 'value':value})\n",
    "df"
   ]
  },
  {
   "cell_type": "code",
   "execution_count": 112,
   "id": "0c30eb4a-581a-4938-943d-32a9353b80e8",
   "metadata": {},
   "outputs": [
    {
     "ename": "TypeError",
     "evalue": "'value' must be an instance of str or bytes, not a int",
     "output_type": "error",
     "traceback": [
      "\u001b[0;31m---------------------------------------------------------------------------\u001b[0m",
      "\u001b[0;31mTypeError\u001b[0m                                 Traceback (most recent call last)",
      "\u001b[0;32m<ipython-input-112-9e7bb4f68986>\u001b[0m in \u001b[0;36m<module>\u001b[0;34m\u001b[0m\n\u001b[0;32m----> 1\u001b[0;31m \u001b[0mplt\u001b[0m\u001b[0;34m.\u001b[0m\u001b[0mplot\u001b[0m\u001b[0;34m(\u001b[0m\u001b[0mdf\u001b[0m\u001b[0;34m.\u001b[0m\u001b[0myear\u001b[0m\u001b[0;34m,\u001b[0m \u001b[0mdf\u001b[0m\u001b[0;34m.\u001b[0m\u001b[0mvalue\u001b[0m\u001b[0;34m)\u001b[0m\u001b[0;34m\u001b[0m\u001b[0;34m\u001b[0m\u001b[0m\n\u001b[0m",
      "\u001b[0;32m~/anaconda3/envs/py37/lib/python3.7/site-packages/matplotlib/pyplot.py\u001b[0m in \u001b[0;36mplot\u001b[0;34m(scalex, scaley, data, *args, **kwargs)\u001b[0m\n\u001b[1;32m   2767\u001b[0m     return gca().plot(\n\u001b[1;32m   2768\u001b[0m         \u001b[0;34m*\u001b[0m\u001b[0margs\u001b[0m\u001b[0;34m,\u001b[0m \u001b[0mscalex\u001b[0m\u001b[0;34m=\u001b[0m\u001b[0mscalex\u001b[0m\u001b[0;34m,\u001b[0m \u001b[0mscaley\u001b[0m\u001b[0;34m=\u001b[0m\u001b[0mscaley\u001b[0m\u001b[0;34m,\u001b[0m\u001b[0;34m\u001b[0m\u001b[0;34m\u001b[0m\u001b[0m\n\u001b[0;32m-> 2769\u001b[0;31m         **({\"data\": data} if data is not None else {}), **kwargs)\n\u001b[0m\u001b[1;32m   2770\u001b[0m \u001b[0;34m\u001b[0m\u001b[0m\n\u001b[1;32m   2771\u001b[0m \u001b[0;34m\u001b[0m\u001b[0m\n",
      "\u001b[0;32m~/anaconda3/envs/py37/lib/python3.7/site-packages/matplotlib/axes/_axes.py\u001b[0m in \u001b[0;36mplot\u001b[0;34m(self, scalex, scaley, data, *args, **kwargs)\u001b[0m\n\u001b[1;32m   1633\u001b[0m         \"\"\"\n\u001b[1;32m   1634\u001b[0m         \u001b[0mkwargs\u001b[0m \u001b[0;34m=\u001b[0m \u001b[0mcbook\u001b[0m\u001b[0;34m.\u001b[0m\u001b[0mnormalize_kwargs\u001b[0m\u001b[0;34m(\u001b[0m\u001b[0mkwargs\u001b[0m\u001b[0;34m,\u001b[0m \u001b[0mmlines\u001b[0m\u001b[0;34m.\u001b[0m\u001b[0mLine2D\u001b[0m\u001b[0;34m)\u001b[0m\u001b[0;34m\u001b[0m\u001b[0;34m\u001b[0m\u001b[0m\n\u001b[0;32m-> 1635\u001b[0;31m         \u001b[0mlines\u001b[0m \u001b[0;34m=\u001b[0m \u001b[0;34m[\u001b[0m\u001b[0;34m*\u001b[0m\u001b[0mself\u001b[0m\u001b[0;34m.\u001b[0m\u001b[0m_get_lines\u001b[0m\u001b[0;34m(\u001b[0m\u001b[0;34m*\u001b[0m\u001b[0margs\u001b[0m\u001b[0;34m,\u001b[0m \u001b[0mdata\u001b[0m\u001b[0;34m=\u001b[0m\u001b[0mdata\u001b[0m\u001b[0;34m,\u001b[0m \u001b[0;34m**\u001b[0m\u001b[0mkwargs\u001b[0m\u001b[0;34m)\u001b[0m\u001b[0;34m]\u001b[0m\u001b[0;34m\u001b[0m\u001b[0;34m\u001b[0m\u001b[0m\n\u001b[0m\u001b[1;32m   1636\u001b[0m         \u001b[0;32mfor\u001b[0m \u001b[0mline\u001b[0m \u001b[0;32min\u001b[0m \u001b[0mlines\u001b[0m\u001b[0;34m:\u001b[0m\u001b[0;34m\u001b[0m\u001b[0;34m\u001b[0m\u001b[0m\n\u001b[1;32m   1637\u001b[0m             \u001b[0mself\u001b[0m\u001b[0;34m.\u001b[0m\u001b[0madd_line\u001b[0m\u001b[0;34m(\u001b[0m\u001b[0mline\u001b[0m\u001b[0;34m)\u001b[0m\u001b[0;34m\u001b[0m\u001b[0;34m\u001b[0m\u001b[0m\n",
      "\u001b[0;32m~/anaconda3/envs/py37/lib/python3.7/site-packages/matplotlib/axes/_base.py\u001b[0m in \u001b[0;36m__call__\u001b[0;34m(self, data, *args, **kwargs)\u001b[0m\n\u001b[1;32m    310\u001b[0m                 \u001b[0mthis\u001b[0m \u001b[0;34m+=\u001b[0m \u001b[0margs\u001b[0m\u001b[0;34m[\u001b[0m\u001b[0;36m0\u001b[0m\u001b[0;34m]\u001b[0m\u001b[0;34m,\u001b[0m\u001b[0;34m\u001b[0m\u001b[0;34m\u001b[0m\u001b[0m\n\u001b[1;32m    311\u001b[0m                 \u001b[0margs\u001b[0m \u001b[0;34m=\u001b[0m \u001b[0margs\u001b[0m\u001b[0;34m[\u001b[0m\u001b[0;36m1\u001b[0m\u001b[0;34m:\u001b[0m\u001b[0;34m]\u001b[0m\u001b[0;34m\u001b[0m\u001b[0;34m\u001b[0m\u001b[0m\n\u001b[0;32m--> 312\u001b[0;31m             \u001b[0;32myield\u001b[0m \u001b[0;32mfrom\u001b[0m \u001b[0mself\u001b[0m\u001b[0;34m.\u001b[0m\u001b[0m_plot_args\u001b[0m\u001b[0;34m(\u001b[0m\u001b[0mthis\u001b[0m\u001b[0;34m,\u001b[0m \u001b[0mkwargs\u001b[0m\u001b[0;34m)\u001b[0m\u001b[0;34m\u001b[0m\u001b[0;34m\u001b[0m\u001b[0m\n\u001b[0m\u001b[1;32m    313\u001b[0m \u001b[0;34m\u001b[0m\u001b[0m\n\u001b[1;32m    314\u001b[0m     \u001b[0;32mdef\u001b[0m \u001b[0mget_next_color\u001b[0m\u001b[0;34m(\u001b[0m\u001b[0mself\u001b[0m\u001b[0;34m)\u001b[0m\u001b[0;34m:\u001b[0m\u001b[0;34m\u001b[0m\u001b[0;34m\u001b[0m\u001b[0m\n",
      "\u001b[0;32m~/anaconda3/envs/py37/lib/python3.7/site-packages/matplotlib/axes/_base.py\u001b[0m in \u001b[0;36m_plot_args\u001b[0;34m(self, tup, kwargs, return_kwargs)\u001b[0m\n\u001b[1;32m    491\u001b[0m \u001b[0;34m\u001b[0m\u001b[0m\n\u001b[1;32m    492\u001b[0m         \u001b[0;32mif\u001b[0m \u001b[0mself\u001b[0m\u001b[0;34m.\u001b[0m\u001b[0maxes\u001b[0m\u001b[0;34m.\u001b[0m\u001b[0mxaxis\u001b[0m \u001b[0;32mis\u001b[0m \u001b[0;32mnot\u001b[0m \u001b[0;32mNone\u001b[0m\u001b[0;34m:\u001b[0m\u001b[0;34m\u001b[0m\u001b[0;34m\u001b[0m\u001b[0m\n\u001b[0;32m--> 493\u001b[0;31m             \u001b[0mself\u001b[0m\u001b[0;34m.\u001b[0m\u001b[0maxes\u001b[0m\u001b[0;34m.\u001b[0m\u001b[0mxaxis\u001b[0m\u001b[0;34m.\u001b[0m\u001b[0mupdate_units\u001b[0m\u001b[0;34m(\u001b[0m\u001b[0mx\u001b[0m\u001b[0;34m)\u001b[0m\u001b[0;34m\u001b[0m\u001b[0;34m\u001b[0m\u001b[0m\n\u001b[0m\u001b[1;32m    494\u001b[0m         \u001b[0;32mif\u001b[0m \u001b[0mself\u001b[0m\u001b[0;34m.\u001b[0m\u001b[0maxes\u001b[0m\u001b[0;34m.\u001b[0m\u001b[0myaxis\u001b[0m \u001b[0;32mis\u001b[0m \u001b[0;32mnot\u001b[0m \u001b[0;32mNone\u001b[0m\u001b[0;34m:\u001b[0m\u001b[0;34m\u001b[0m\u001b[0;34m\u001b[0m\u001b[0m\n\u001b[1;32m    495\u001b[0m             \u001b[0mself\u001b[0m\u001b[0;34m.\u001b[0m\u001b[0maxes\u001b[0m\u001b[0;34m.\u001b[0m\u001b[0myaxis\u001b[0m\u001b[0;34m.\u001b[0m\u001b[0mupdate_units\u001b[0m\u001b[0;34m(\u001b[0m\u001b[0my\u001b[0m\u001b[0;34m)\u001b[0m\u001b[0;34m\u001b[0m\u001b[0;34m\u001b[0m\u001b[0m\n",
      "\u001b[0;32m~/anaconda3/envs/py37/lib/python3.7/site-packages/matplotlib/axis.py\u001b[0m in \u001b[0;36mupdate_units\u001b[0;34m(self, data)\u001b[0m\n\u001b[1;32m   1447\u001b[0m         \u001b[0mneednew\u001b[0m \u001b[0;34m=\u001b[0m \u001b[0mself\u001b[0m\u001b[0;34m.\u001b[0m\u001b[0mconverter\u001b[0m \u001b[0;34m!=\u001b[0m \u001b[0mconverter\u001b[0m\u001b[0;34m\u001b[0m\u001b[0;34m\u001b[0m\u001b[0m\n\u001b[1;32m   1448\u001b[0m         \u001b[0mself\u001b[0m\u001b[0;34m.\u001b[0m\u001b[0mconverter\u001b[0m \u001b[0;34m=\u001b[0m \u001b[0mconverter\u001b[0m\u001b[0;34m\u001b[0m\u001b[0;34m\u001b[0m\u001b[0m\n\u001b[0;32m-> 1449\u001b[0;31m         \u001b[0mdefault\u001b[0m \u001b[0;34m=\u001b[0m \u001b[0mself\u001b[0m\u001b[0;34m.\u001b[0m\u001b[0mconverter\u001b[0m\u001b[0;34m.\u001b[0m\u001b[0mdefault_units\u001b[0m\u001b[0;34m(\u001b[0m\u001b[0mdata\u001b[0m\u001b[0;34m,\u001b[0m \u001b[0mself\u001b[0m\u001b[0;34m)\u001b[0m\u001b[0;34m\u001b[0m\u001b[0;34m\u001b[0m\u001b[0m\n\u001b[0m\u001b[1;32m   1450\u001b[0m         \u001b[0;32mif\u001b[0m \u001b[0mdefault\u001b[0m \u001b[0;32mis\u001b[0m \u001b[0;32mnot\u001b[0m \u001b[0;32mNone\u001b[0m \u001b[0;32mand\u001b[0m \u001b[0mself\u001b[0m\u001b[0;34m.\u001b[0m\u001b[0munits\u001b[0m \u001b[0;32mis\u001b[0m \u001b[0;32mNone\u001b[0m\u001b[0;34m:\u001b[0m\u001b[0;34m\u001b[0m\u001b[0;34m\u001b[0m\u001b[0m\n\u001b[1;32m   1451\u001b[0m             \u001b[0mself\u001b[0m\u001b[0;34m.\u001b[0m\u001b[0mset_units\u001b[0m\u001b[0;34m(\u001b[0m\u001b[0mdefault\u001b[0m\u001b[0;34m)\u001b[0m\u001b[0;34m\u001b[0m\u001b[0;34m\u001b[0m\u001b[0m\n",
      "\u001b[0;32m~/anaconda3/envs/py37/lib/python3.7/site-packages/matplotlib/category.py\u001b[0m in \u001b[0;36mdefault_units\u001b[0;34m(data, axis)\u001b[0m\n\u001b[1;32m    114\u001b[0m         \u001b[0;31m# the conversion call stack is default_units -> axis_info -> convert\u001b[0m\u001b[0;34m\u001b[0m\u001b[0;34m\u001b[0m\u001b[0;34m\u001b[0m\u001b[0m\n\u001b[1;32m    115\u001b[0m         \u001b[0;32mif\u001b[0m \u001b[0maxis\u001b[0m\u001b[0;34m.\u001b[0m\u001b[0munits\u001b[0m \u001b[0;32mis\u001b[0m \u001b[0;32mNone\u001b[0m\u001b[0;34m:\u001b[0m\u001b[0;34m\u001b[0m\u001b[0;34m\u001b[0m\u001b[0m\n\u001b[0;32m--> 116\u001b[0;31m             \u001b[0maxis\u001b[0m\u001b[0;34m.\u001b[0m\u001b[0mset_units\u001b[0m\u001b[0;34m(\u001b[0m\u001b[0mUnitData\u001b[0m\u001b[0;34m(\u001b[0m\u001b[0mdata\u001b[0m\u001b[0;34m)\u001b[0m\u001b[0;34m)\u001b[0m\u001b[0;34m\u001b[0m\u001b[0;34m\u001b[0m\u001b[0m\n\u001b[0m\u001b[1;32m    117\u001b[0m         \u001b[0;32melse\u001b[0m\u001b[0;34m:\u001b[0m\u001b[0;34m\u001b[0m\u001b[0;34m\u001b[0m\u001b[0m\n\u001b[1;32m    118\u001b[0m             \u001b[0maxis\u001b[0m\u001b[0;34m.\u001b[0m\u001b[0munits\u001b[0m\u001b[0;34m.\u001b[0m\u001b[0mupdate\u001b[0m\u001b[0;34m(\u001b[0m\u001b[0mdata\u001b[0m\u001b[0;34m)\u001b[0m\u001b[0;34m\u001b[0m\u001b[0;34m\u001b[0m\u001b[0m\n",
      "\u001b[0;32m~/anaconda3/envs/py37/lib/python3.7/site-packages/matplotlib/category.py\u001b[0m in \u001b[0;36m__init__\u001b[0;34m(self, data)\u001b[0m\n\u001b[1;32m    190\u001b[0m         \u001b[0mself\u001b[0m\u001b[0;34m.\u001b[0m\u001b[0m_counter\u001b[0m \u001b[0;34m=\u001b[0m \u001b[0mitertools\u001b[0m\u001b[0;34m.\u001b[0m\u001b[0mcount\u001b[0m\u001b[0;34m(\u001b[0m\u001b[0;34m)\u001b[0m\u001b[0;34m\u001b[0m\u001b[0;34m\u001b[0m\u001b[0m\n\u001b[1;32m    191\u001b[0m         \u001b[0;32mif\u001b[0m \u001b[0mdata\u001b[0m \u001b[0;32mis\u001b[0m \u001b[0;32mnot\u001b[0m \u001b[0;32mNone\u001b[0m\u001b[0;34m:\u001b[0m\u001b[0;34m\u001b[0m\u001b[0;34m\u001b[0m\u001b[0m\n\u001b[0;32m--> 192\u001b[0;31m             \u001b[0mself\u001b[0m\u001b[0;34m.\u001b[0m\u001b[0mupdate\u001b[0m\u001b[0;34m(\u001b[0m\u001b[0mdata\u001b[0m\u001b[0;34m)\u001b[0m\u001b[0;34m\u001b[0m\u001b[0;34m\u001b[0m\u001b[0m\n\u001b[0m\u001b[1;32m    193\u001b[0m \u001b[0;34m\u001b[0m\u001b[0m\n\u001b[1;32m    194\u001b[0m     \u001b[0;34m@\u001b[0m\u001b[0mstaticmethod\u001b[0m\u001b[0;34m\u001b[0m\u001b[0;34m\u001b[0m\u001b[0m\n",
      "\u001b[0;32m~/anaconda3/envs/py37/lib/python3.7/site-packages/matplotlib/category.py\u001b[0m in \u001b[0;36mupdate\u001b[0;34m(self, data)\u001b[0m\n\u001b[1;32m    225\u001b[0m         \u001b[0;32mfor\u001b[0m \u001b[0mval\u001b[0m \u001b[0;32min\u001b[0m \u001b[0mOrderedDict\u001b[0m\u001b[0;34m.\u001b[0m\u001b[0mfromkeys\u001b[0m\u001b[0;34m(\u001b[0m\u001b[0mdata\u001b[0m\u001b[0;34m)\u001b[0m\u001b[0;34m:\u001b[0m\u001b[0;34m\u001b[0m\u001b[0;34m\u001b[0m\u001b[0m\n\u001b[1;32m    226\u001b[0m             \u001b[0;31m# OrderedDict just iterates over unique values in data.\u001b[0m\u001b[0;34m\u001b[0m\u001b[0;34m\u001b[0m\u001b[0;34m\u001b[0m\u001b[0m\n\u001b[0;32m--> 227\u001b[0;31m             \u001b[0m_api\u001b[0m\u001b[0;34m.\u001b[0m\u001b[0mcheck_isinstance\u001b[0m\u001b[0;34m(\u001b[0m\u001b[0;34m(\u001b[0m\u001b[0mstr\u001b[0m\u001b[0;34m,\u001b[0m \u001b[0mbytes\u001b[0m\u001b[0;34m)\u001b[0m\u001b[0;34m,\u001b[0m \u001b[0mvalue\u001b[0m\u001b[0;34m=\u001b[0m\u001b[0mval\u001b[0m\u001b[0;34m)\u001b[0m\u001b[0;34m\u001b[0m\u001b[0;34m\u001b[0m\u001b[0m\n\u001b[0m\u001b[1;32m    228\u001b[0m             \u001b[0;32mif\u001b[0m \u001b[0mconvertible\u001b[0m\u001b[0;34m:\u001b[0m\u001b[0;34m\u001b[0m\u001b[0;34m\u001b[0m\u001b[0m\n\u001b[1;32m    229\u001b[0m                 \u001b[0;31m# this will only be called so long as convertible is True.\u001b[0m\u001b[0;34m\u001b[0m\u001b[0;34m\u001b[0m\u001b[0;34m\u001b[0m\u001b[0m\n",
      "\u001b[0;32m~/anaconda3/envs/py37/lib/python3.7/site-packages/matplotlib/_api/__init__.py\u001b[0m in \u001b[0;36mcheck_isinstance\u001b[0;34m(_types, **kwargs)\u001b[0m\n\u001b[1;32m     96\u001b[0m                     \u001b[0;34m\", \"\u001b[0m\u001b[0;34m.\u001b[0m\u001b[0mjoin\u001b[0m\u001b[0;34m(\u001b[0m\u001b[0mnames\u001b[0m\u001b[0;34m[\u001b[0m\u001b[0;34m:\u001b[0m\u001b[0;34m-\u001b[0m\u001b[0;36m1\u001b[0m\u001b[0;34m]\u001b[0m\u001b[0;34m)\u001b[0m \u001b[0;34m+\u001b[0m \u001b[0;34m\" or \"\u001b[0m \u001b[0;34m+\u001b[0m \u001b[0mnames\u001b[0m\u001b[0;34m[\u001b[0m\u001b[0;34m-\u001b[0m\u001b[0;36m1\u001b[0m\u001b[0;34m]\u001b[0m\u001b[0;34m\u001b[0m\u001b[0;34m\u001b[0m\u001b[0m\n\u001b[1;32m     97\u001b[0m                     \u001b[0;32mif\u001b[0m \u001b[0mlen\u001b[0m\u001b[0;34m(\u001b[0m\u001b[0mnames\u001b[0m\u001b[0;34m)\u001b[0m \u001b[0;34m>\u001b[0m \u001b[0;36m1\u001b[0m \u001b[0;32melse\u001b[0m \u001b[0mnames\u001b[0m\u001b[0;34m[\u001b[0m\u001b[0;36m0\u001b[0m\u001b[0;34m]\u001b[0m\u001b[0;34m,\u001b[0m\u001b[0;34m\u001b[0m\u001b[0;34m\u001b[0m\u001b[0m\n\u001b[0;32m---> 98\u001b[0;31m                     type_name(type(v))))\n\u001b[0m\u001b[1;32m     99\u001b[0m \u001b[0;34m\u001b[0m\u001b[0m\n\u001b[1;32m    100\u001b[0m \u001b[0;34m\u001b[0m\u001b[0m\n",
      "\u001b[0;31mTypeError\u001b[0m: 'value' must be an instance of str or bytes, not a int"
     ]
    },
    {
     "data": {
      "image/png": "[encoded data removed]",
      "text/plain": [
       "<Figure size 432x288 with 1 Axes>"
      ]
     },
     "metadata": {
      "needs_background": "light"
     },
     "output_type": "display_data"
    }
   ],
   "source": [
    "plt.plot(df.year, df.value)"
   ]
  },
  {
   "cell_type": "code",
   "execution_count": 114,
   "id": "44b5fe12-ff2c-4c1e-b104-b5fa691724ea",
   "metadata": {},
   "outputs": [
    {
     "data": {
      "text/plain": [
       "0    2016\n",
       "1    2017\n",
       "2    2017\n",
       "3    2017\n",
       "4    2017\n",
       "5    2018\n",
       "6    2018\n",
       "7    2019\n",
       "8    2019\n",
       "Name: year, dtype: object"
      ]
     },
     "execution_count": 114,
     "metadata": {},
     "output_type": "execute_result"
    }
   ],
   "source": [
    "df.year"
   ]
  },
  {
   "cell_type": "markdown",
   "id": "eb66ded7-31ba-4a68-af32-98b47a390657",
   "metadata": {},
   "source": [
    "- dtype이 object 로 되어있어서 그림이 그려지지 않는다.. float로 되어야 할텐데?"
   ]
  },
  {
   "cell_type": "markdown",
   "id": "be08fab7-a01d-434e-b267-9b95a93ea4fd",
   "metadata": {},
   "source": [
    "- 에러의 이유: df.year에 str, int가 동시에 있음"
   ]
  },
  {
   "cell_type": "code",
   "execution_count": 115,
   "id": "0a03f977-5090-45ab-a496-9b473d17de1a",
   "metadata": {},
   "outputs": [
    {
     "data": {
      "text/plain": [
       "array(['2016', '2017', '2017', '2017', 2017, 2018, 2018, 2019, 2019],\n",
       "      dtype=object)"
      ]
     },
     "execution_count": 115,
     "metadata": {},
     "output_type": "execute_result"
    }
   ],
   "source": [
    "np.array(df.year)"
   ]
  },
  {
   "cell_type": "markdown",
   "id": "f071caa6-0d68-4331-953f-b00779291344",
   "metadata": {},
   "source": [
    "- 자료형의 형태를 바꿔주면 해결할 수 있다."
   ]
  },
  {
   "cell_type": "code",
   "execution_count": 116,
   "id": "494db8cd-37c8-446f-8a1f-e85772452e3a",
   "metadata": {},
   "outputs": [
    {
     "data": {
      "text/plain": [
       "array([2016., 2017., 2017., 2017., 2017., 2018., 2018., 2019., 2019.])"
      ]
     },
     "execution_count": 116,
     "metadata": {},
     "output_type": "execute_result"
    }
   ],
   "source": [
    "np.array(df.year, dtype=np.float64)"
   ]
  },
  {
   "cell_type": "code",
   "execution_count": 117,
   "id": "bb1a705d-b570-43db-a36c-1712d2623f02",
   "metadata": {},
   "outputs": [
    {
     "data": {
      "text/plain": [
       "array([2016., 2017., 2017., 2017., 2017., 2018., 2018., 2019., 2019.])"
      ]
     },
     "execution_count": 117,
     "metadata": {},
     "output_type": "execute_result"
    }
   ],
   "source": [
    "np.array(df.year).astype(np.float64) # 위와 같은 효과"
   ]
  },
  {
   "cell_type": "code",
   "execution_count": 120,
   "id": "9f00be49-150e-4e6d-828a-a0710d5d21dd",
   "metadata": {},
   "outputs": [
    {
     "data": {
      "text/plain": [
       "0    2016.0\n",
       "1    2017.0\n",
       "2    2017.0\n",
       "3    2017.0\n",
       "4    2017.0\n",
       "5    2018.0\n",
       "6    2018.0\n",
       "7    2019.0\n",
       "8    2019.0\n",
       "Name: year, dtype: float64"
      ]
     },
     "execution_count": 120,
     "metadata": {},
     "output_type": "execute_result"
    }
   ],
   "source": [
    "df.year.astype(np.float64)  # 위와 같은 효과"
   ]
  },
  {
   "cell_type": "code",
   "execution_count": 121,
   "id": "a977656c-5f92-42e3-9e76-5048bb98f247",
   "metadata": {},
   "outputs": [
    {
     "data": {
      "text/plain": [
       "[<matplotlib.lines.Line2D at 0x7f586023cfd0>]"
      ]
     },
     "execution_count": 121,
     "metadata": {},
     "output_type": "execute_result"
    },
    {
     "data": {
      "image/png": "[encoded data removed]",
      "text/plain": [
       "<Figure size 432x288 with 1 Axes>"
      ]
     },
     "metadata": {
      "needs_background": "light"
     },
     "output_type": "display_data"
    }
   ],
   "source": [
    "plt.plot(df.year.astype(np.float64), df.value,'.')"
   ]
  },
  {
   "cell_type": "markdown",
   "id": "0defa088-79df-4c76-91e3-dd2025dc7782",
   "metadata": {},
   "source": [
    "`-` 예제2"
   ]
  },
  {
   "cell_type": "code",
   "execution_count": 122,
   "id": "80a0b814-918c-4c8a-a11d-27672b4bbab4",
   "metadata": {},
   "outputs": [],
   "source": [
    "year = ['2016', '2017', '2017', '2017년', 2017, 2018, 2018, 2019, 2019]\n",
    "value = np.random.randn(9)"
   ]
  },
  {
   "cell_type": "code",
   "execution_count": 123,
   "id": "dda2fcdc-942a-4bb3-aacf-4737e368977b",
   "metadata": {},
   "outputs": [
    {
     "data": {
      "text/html": [
       "<div>\n",
       "<style scoped>\n",
       "    .dataframe tbody tr th:only-of-type {\n",
       "        vertical-align: middle;\n",
       "    }\n",
       "\n",
       "    .dataframe tbody tr th {\n",
       "        vertical-align: top;\n",
       "    }\n",
       "\n",
       "    .dataframe thead th {\n",
       "        text-align: right;\n",
       "    }\n",
       "</style>\n",
       "<table border=\"1\" class=\"dataframe\">\n",
       "  <thead>\n",
       "    <tr style=\"text-align: right;\">\n",
       "      <th></th>\n",
       "      <th>year</th>\n",
       "      <th>value</th>\n",
       "    </tr>\n",
       "  </thead>\n",
       "  <tbody>\n",
       "    <tr>\n",
       "      <th>0</th>\n",
       "      <td>2016</td>\n",
       "      <td>-0.254312</td>\n",
       "    </tr>\n",
       "    <tr>\n",
       "      <th>1</th>\n",
       "      <td>2017</td>\n",
       "      <td>0.839603</td>\n",
       "    </tr>\n",
       "    <tr>\n",
       "      <th>2</th>\n",
       "      <td>2017</td>\n",
       "      <td>-1.386845</td>\n",
       "    </tr>\n",
       "    <tr>\n",
       "      <th>3</th>\n",
       "      <td>2017년</td>\n",
       "      <td>0.010756</td>\n",
       "    </tr>\n",
       "    <tr>\n",
       "      <th>4</th>\n",
       "      <td>2017</td>\n",
       "      <td>0.949379</td>\n",
       "    </tr>\n",
       "    <tr>\n",
       "      <th>5</th>\n",
       "      <td>2018</td>\n",
       "      <td>0.280954</td>\n",
       "    </tr>\n",
       "    <tr>\n",
       "      <th>6</th>\n",
       "      <td>2018</td>\n",
       "      <td>-0.227516</td>\n",
       "    </tr>\n",
       "    <tr>\n",
       "      <th>7</th>\n",
       "      <td>2019</td>\n",
       "      <td>-1.100002</td>\n",
       "    </tr>\n",
       "    <tr>\n",
       "      <th>8</th>\n",
       "      <td>2019</td>\n",
       "      <td>0.152285</td>\n",
       "    </tr>\n",
       "  </tbody>\n",
       "</table>\n",
       "</div>"
      ],
      "text/plain": [
       "    year     value\n",
       "0   2016 -0.254312\n",
       "1   2017  0.839603\n",
       "2   2017 -1.386845\n",
       "3  2017년  0.010756\n",
       "4   2017  0.949379\n",
       "5   2018  0.280954\n",
       "6   2018 -0.227516\n",
       "7   2019 -1.100002\n",
       "8   2019  0.152285"
      ]
     },
     "execution_count": 123,
     "metadata": {},
     "output_type": "execute_result"
    }
   ],
   "source": [
    "df = pd.DataFrame({'year':year, 'value':value})\n",
    "df"
   ]
  },
  {
   "cell_type": "code",
   "execution_count": 125,
   "id": "110a38d5-6aef-4b58-8477-a75e8d918920",
   "metadata": {},
   "outputs": [
    {
     "ename": "ValueError",
     "evalue": "could not convert string to float: '2017년'",
     "output_type": "error",
     "traceback": [
      "\u001b[0;31m---------------------------------------------------------------------------\u001b[0m",
      "\u001b[0;31mValueError\u001b[0m                                Traceback (most recent call last)",
      "\u001b[0;32m<ipython-input-125-52480b86d54a>\u001b[0m in \u001b[0;36m<module>\u001b[0;34m\u001b[0m\n\u001b[0;32m----> 1\u001b[0;31m \u001b[0mnp\u001b[0m\u001b[0;34m.\u001b[0m\u001b[0marray\u001b[0m\u001b[0;34m(\u001b[0m\u001b[0mdf\u001b[0m\u001b[0;34m.\u001b[0m\u001b[0myear\u001b[0m\u001b[0;34m,\u001b[0m \u001b[0mdtype\u001b[0m\u001b[0;34m=\u001b[0m\u001b[0mnp\u001b[0m\u001b[0;34m.\u001b[0m\u001b[0mfloat64\u001b[0m\u001b[0;34m)\u001b[0m \u001b[0;31m# \"년\"이 써있어서 타입을 일괄적으로 바꾸기 어렵다.\u001b[0m\u001b[0;34m\u001b[0m\u001b[0;34m\u001b[0m\u001b[0m\n\u001b[0m",
      "\u001b[0;32m~/anaconda3/envs/py37/lib/python3.7/site-packages/pandas/core/series.py\u001b[0m in \u001b[0;36m__array__\u001b[0;34m(self, dtype)\u001b[0m\n\u001b[1;32m    855\u001b[0m               dtype='datetime64[ns]')\n\u001b[1;32m    856\u001b[0m         \"\"\"\n\u001b[0;32m--> 857\u001b[0;31m         \u001b[0;32mreturn\u001b[0m \u001b[0mnp\u001b[0m\u001b[0;34m.\u001b[0m\u001b[0masarray\u001b[0m\u001b[0;34m(\u001b[0m\u001b[0mself\u001b[0m\u001b[0;34m.\u001b[0m\u001b[0m_values\u001b[0m\u001b[0;34m,\u001b[0m \u001b[0mdtype\u001b[0m\u001b[0;34m)\u001b[0m\u001b[0;34m\u001b[0m\u001b[0;34m\u001b[0m\u001b[0m\n\u001b[0m\u001b[1;32m    858\u001b[0m \u001b[0;34m\u001b[0m\u001b[0m\n\u001b[1;32m    859\u001b[0m     \u001b[0;31m# ----------------------------------------------------------------------\u001b[0m\u001b[0;34m\u001b[0m\u001b[0;34m\u001b[0m\u001b[0;34m\u001b[0m\u001b[0m\n",
      "\u001b[0;31mValueError\u001b[0m: could not convert string to float: '2017년'"
     ]
    }
   ],
   "source": [
    "np.array(df.year, dtype=np.float64) # \"년\"이 써있어서 타입을 일괄적으로 바꾸기 어렵다."
   ]
  },
  {
   "cell_type": "code",
   "execution_count": 127,
   "id": "4c9f8f08-dde7-45ee-bee4-5c9d134b606d",
   "metadata": {},
   "outputs": [
    {
     "data": {
      "text/plain": [
       "0     2016\n",
       "1     2017\n",
       "2     2017\n",
       "3    2017년\n",
       "4     2017\n",
       "5     2018\n",
       "6     2018\n",
       "7     2019\n",
       "8     2019\n",
       "Name: year, dtype: object"
      ]
     },
     "execution_count": 127,
     "metadata": {},
     "output_type": "execute_result"
    }
   ],
   "source": [
    "df.year   # 어떤 값이 있는지 확인"
   ]
  },
  {
   "cell_type": "code",
   "execution_count": 131,
   "id": "d114efcf-d2ca-4050-ae4c-77ccede8ae05",
   "metadata": {},
   "outputs": [
    {
     "ename": "TypeError",
     "evalue": "'<' not supported between instances of 'int' and 'str'",
     "output_type": "error",
     "traceback": [
      "\u001b[0;31m---------------------------------------------------------------------------\u001b[0m",
      "\u001b[0;31mTypeError\u001b[0m                                 Traceback (most recent call last)",
      "\u001b[0;32m<ipython-input-131-9a8082235baa>\u001b[0m in \u001b[0;36m<module>\u001b[0;34m\u001b[0m\n\u001b[0;32m----> 1\u001b[0;31m \u001b[0mnp\u001b[0m\u001b[0;34m.\u001b[0m\u001b[0munique\u001b[0m\u001b[0;34m(\u001b[0m\u001b[0mdf\u001b[0m\u001b[0;34m.\u001b[0m\u001b[0myear\u001b[0m\u001b[0;34m)\u001b[0m   \u001b[0;31m# 섞여있는 타입에서는 unique는 동작하지 않는다.\u001b[0m\u001b[0;34m\u001b[0m\u001b[0;34m\u001b[0m\u001b[0m\n\u001b[0m",
      "\u001b[0;32m<__array_function__ internals>\u001b[0m in \u001b[0;36munique\u001b[0;34m(*args, **kwargs)\u001b[0m\n",
      "\u001b[0;32m~/anaconda3/envs/py37/lib/python3.7/site-packages/numpy/lib/arraysetops.py\u001b[0m in \u001b[0;36munique\u001b[0;34m(ar, return_index, return_inverse, return_counts, axis)\u001b[0m\n\u001b[1;32m    270\u001b[0m     \u001b[0mar\u001b[0m \u001b[0;34m=\u001b[0m \u001b[0mnp\u001b[0m\u001b[0;34m.\u001b[0m\u001b[0masanyarray\u001b[0m\u001b[0;34m(\u001b[0m\u001b[0mar\u001b[0m\u001b[0;34m)\u001b[0m\u001b[0;34m\u001b[0m\u001b[0;34m\u001b[0m\u001b[0m\n\u001b[1;32m    271\u001b[0m     \u001b[0;32mif\u001b[0m \u001b[0maxis\u001b[0m \u001b[0;32mis\u001b[0m \u001b[0;32mNone\u001b[0m\u001b[0;34m:\u001b[0m\u001b[0;34m\u001b[0m\u001b[0;34m\u001b[0m\u001b[0m\n\u001b[0;32m--> 272\u001b[0;31m         \u001b[0mret\u001b[0m \u001b[0;34m=\u001b[0m \u001b[0m_unique1d\u001b[0m\u001b[0;34m(\u001b[0m\u001b[0mar\u001b[0m\u001b[0;34m,\u001b[0m \u001b[0mreturn_index\u001b[0m\u001b[0;34m,\u001b[0m \u001b[0mreturn_inverse\u001b[0m\u001b[0;34m,\u001b[0m \u001b[0mreturn_counts\u001b[0m\u001b[0;34m)\u001b[0m\u001b[0;34m\u001b[0m\u001b[0;34m\u001b[0m\u001b[0m\n\u001b[0m\u001b[1;32m    273\u001b[0m         \u001b[0;32mreturn\u001b[0m \u001b[0m_unpack_tuple\u001b[0m\u001b[0;34m(\u001b[0m\u001b[0mret\u001b[0m\u001b[0;34m)\u001b[0m\u001b[0;34m\u001b[0m\u001b[0;34m\u001b[0m\u001b[0m\n\u001b[1;32m    274\u001b[0m \u001b[0;34m\u001b[0m\u001b[0m\n",
      "\u001b[0;32m~/anaconda3/envs/py37/lib/python3.7/site-packages/numpy/lib/arraysetops.py\u001b[0m in \u001b[0;36m_unique1d\u001b[0;34m(ar, return_index, return_inverse, return_counts)\u001b[0m\n\u001b[1;32m    331\u001b[0m         \u001b[0maux\u001b[0m \u001b[0;34m=\u001b[0m \u001b[0mar\u001b[0m\u001b[0;34m[\u001b[0m\u001b[0mperm\u001b[0m\u001b[0;34m]\u001b[0m\u001b[0;34m\u001b[0m\u001b[0;34m\u001b[0m\u001b[0m\n\u001b[1;32m    332\u001b[0m     \u001b[0;32melse\u001b[0m\u001b[0;34m:\u001b[0m\u001b[0;34m\u001b[0m\u001b[0;34m\u001b[0m\u001b[0m\n\u001b[0;32m--> 333\u001b[0;31m         \u001b[0mar\u001b[0m\u001b[0;34m.\u001b[0m\u001b[0msort\u001b[0m\u001b[0;34m(\u001b[0m\u001b[0;34m)\u001b[0m\u001b[0;34m\u001b[0m\u001b[0;34m\u001b[0m\u001b[0m\n\u001b[0m\u001b[1;32m    334\u001b[0m         \u001b[0maux\u001b[0m \u001b[0;34m=\u001b[0m \u001b[0mar\u001b[0m\u001b[0;34m\u001b[0m\u001b[0;34m\u001b[0m\u001b[0m\n\u001b[1;32m    335\u001b[0m     \u001b[0mmask\u001b[0m \u001b[0;34m=\u001b[0m \u001b[0mnp\u001b[0m\u001b[0;34m.\u001b[0m\u001b[0mempty\u001b[0m\u001b[0;34m(\u001b[0m\u001b[0maux\u001b[0m\u001b[0;34m.\u001b[0m\u001b[0mshape\u001b[0m\u001b[0;34m,\u001b[0m \u001b[0mdtype\u001b[0m\u001b[0;34m=\u001b[0m\u001b[0mnp\u001b[0m\u001b[0;34m.\u001b[0m\u001b[0mbool_\u001b[0m\u001b[0;34m)\u001b[0m\u001b[0;34m\u001b[0m\u001b[0;34m\u001b[0m\u001b[0m\n",
      "\u001b[0;31mTypeError\u001b[0m: '<' not supported between instances of 'int' and 'str'"
     ]
    }
   ],
   "source": [
    "np.unique(df.year)   # 섞여있는 타입에서는 unique는 동작하지 않는다."
   ]
  },
  {
   "cell_type": "code",
   "execution_count": 132,
   "id": "9bdf7464-ccb3-4350-ae0d-e1c3175c7d42",
   "metadata": {},
   "outputs": [
    {
     "data": {
      "text/plain": [
       "{'2016': 1, '2017': 2, '2017년': 1, 2017: 1, 2018: 2, 2019: 2}"
      ]
     },
     "execution_count": 132,
     "metadata": {},
     "output_type": "execute_result"
    }
   ],
   "source": [
    "L(df.year).frequency()"
   ]
  },
  {
   "cell_type": "markdown",
   "id": "39a3156d-1fa8-4349-b9c7-fcdbf1505723",
   "metadata": {},
   "source": [
    "- '2016'과 같은 형태, '2017년'과 같은 형태, 숫자형이 혼합 .. 이라는 파악 가능 -> 맞춤형 변환이 필요함"
   ]
  },
  {
   "cell_type": "code",
   "execution_count": 133,
   "id": "8b2f06ea-4599-4bdc-8e1f-fda29e98e482",
   "metadata": {},
   "outputs": [
    {
     "data": {
      "text/plain": [
       "'2017'"
      ]
     },
     "execution_count": 133,
     "metadata": {},
     "output_type": "execute_result"
    }
   ],
   "source": [
    "'2017년'.replace(\"년\",\"\")"
   ]
  },
  {
   "cell_type": "code",
   "execution_count": 142,
   "id": "86e4172f-65c2-419d-836a-f4806c9b245b",
   "metadata": {},
   "outputs": [],
   "source": [
    "def f(a):    # 데이터의 구조를 모르면 이런 함수를 짤 수가 없다. -> 자료의 구조를 확인해준다는 의미에서 freq가 있다면 편리하다.\n",
    "    if type(a) is str:\n",
    "        if \"년\" in a:\n",
    "            return int(a.replace(\"년\",\"\"))\n",
    "        else:\n",
    "            return int(a)\n",
    "    else:\n",
    "        return a"
   ]
  },
  {
   "cell_type": "code",
   "execution_count": 143,
   "id": "2422c665-b814-46d7-806a-63fc9e3940e3",
   "metadata": {},
   "outputs": [
    {
     "data": {
      "text/plain": [
       "[2016, 2017, 2017, 2017, 2017, 2018, 2018, 2019, 2019]"
      ]
     },
     "execution_count": 143,
     "metadata": {},
     "output_type": "execute_result"
    }
   ],
   "source": [
    "[f(a) for a in df.year]"
   ]
  },
  {
   "cell_type": "code",
   "execution_count": 144,
   "id": "309d053c-9bf7-41a9-9185-994b812f5ce1",
   "metadata": {},
   "outputs": [],
   "source": [
    "df.year = [f(a) for a in df.year]"
   ]
  },
  {
   "cell_type": "code",
   "execution_count": 139,
   "id": "d2201aec-e21b-4bc5-91c3-7d67db0e247a",
   "metadata": {},
   "outputs": [
    {
     "data": {
      "text/html": [
       "<div>\n",
       "<style scoped>\n",
       "    .dataframe tbody tr th:only-of-type {\n",
       "        vertical-align: middle;\n",
       "    }\n",
       "\n",
       "    .dataframe tbody tr th {\n",
       "        vertical-align: top;\n",
       "    }\n",
       "\n",
       "    .dataframe thead th {\n",
       "        text-align: right;\n",
       "    }\n",
       "</style>\n",
       "<table border=\"1\" class=\"dataframe\">\n",
       "  <thead>\n",
       "    <tr style=\"text-align: right;\">\n",
       "      <th></th>\n",
       "      <th>year</th>\n",
       "      <th>value</th>\n",
       "    </tr>\n",
       "  </thead>\n",
       "  <tbody>\n",
       "    <tr>\n",
       "      <th>0</th>\n",
       "      <td>2016</td>\n",
       "      <td>-0.254312</td>\n",
       "    </tr>\n",
       "    <tr>\n",
       "      <th>1</th>\n",
       "      <td>2017</td>\n",
       "      <td>0.839603</td>\n",
       "    </tr>\n",
       "    <tr>\n",
       "      <th>2</th>\n",
       "      <td>2017</td>\n",
       "      <td>-1.386845</td>\n",
       "    </tr>\n",
       "    <tr>\n",
       "      <th>3</th>\n",
       "      <td>2017</td>\n",
       "      <td>0.010756</td>\n",
       "    </tr>\n",
       "    <tr>\n",
       "      <th>4</th>\n",
       "      <td>2017</td>\n",
       "      <td>0.949379</td>\n",
       "    </tr>\n",
       "    <tr>\n",
       "      <th>5</th>\n",
       "      <td>2018</td>\n",
       "      <td>0.280954</td>\n",
       "    </tr>\n",
       "    <tr>\n",
       "      <th>6</th>\n",
       "      <td>2018</td>\n",
       "      <td>-0.227516</td>\n",
       "    </tr>\n",
       "    <tr>\n",
       "      <th>7</th>\n",
       "      <td>2019</td>\n",
       "      <td>-1.100002</td>\n",
       "    </tr>\n",
       "    <tr>\n",
       "      <th>8</th>\n",
       "      <td>2019</td>\n",
       "      <td>0.152285</td>\n",
       "    </tr>\n",
       "  </tbody>\n",
       "</table>\n",
       "</div>"
      ],
      "text/plain": [
       "   year     value\n",
       "0  2016 -0.254312\n",
       "1  2017  0.839603\n",
       "2  2017 -1.386845\n",
       "3  2017  0.010756\n",
       "4  2017  0.949379\n",
       "5  2018  0.280954\n",
       "6  2018 -0.227516\n",
       "7  2019 -1.100002\n",
       "8  2019  0.152285"
      ]
     },
     "execution_count": 139,
     "metadata": {},
     "output_type": "execute_result"
    }
   ],
   "source": [
    "df"
   ]
  },
  {
   "cell_type": "code",
   "execution_count": 145,
   "id": "3144b79b-1319-4ae0-bc4d-0b675d633490",
   "metadata": {},
   "outputs": [
    {
     "data": {
      "text/plain": [
       "[<matplotlib.lines.Line2D at 0x7f585d90b4d0>]"
      ]
     },
     "execution_count": 145,
     "metadata": {},
     "output_type": "execute_result"
    },
    {
     "data": {
      "image/png": "[encoded data removed]",
      "text/plain": [
       "<Figure size 432x288 with 1 Axes>"
      ]
     },
     "metadata": {
      "needs_background": "light"
     },
     "output_type": "display_data"
    }
   ],
   "source": [
    "plt.plot(df.year, df.value, '.')"
   ]
  },
  {
   "cell_type": "code",
   "execution_count": null,
   "id": "93895567-f72b-4c07-8268-e6de44ee8cdf",
   "metadata": {},
   "outputs": [],
   "source": []
  }
 ],
 "metadata": {
  "kernelspec": {
   "display_name": "Python 3",
   "language": "python",
   "name": "python3"
  },
  "language_info": {
   "codemirror_mode": {
    "name": "ipython",
    "version": 3
   },
   "file_extension": ".py",
   "mimetype": "text/x-python",
   "name": "python",
   "nbconvert_exporter": "python",
   "pygments_lexer": "ipython3",
   "version": "3.7.16"
  }
 },
 "nbformat": 4,
 "nbformat_minor": 5
}
