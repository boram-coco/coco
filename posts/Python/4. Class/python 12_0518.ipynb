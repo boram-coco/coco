{
 "cells": [
  {
   "cell_type": "code",
   "execution_count": null,
   "id": "c8afcc84-a619-4ea3-b012-c0e302c8d668",
   "metadata": {},
   "outputs": [],
   "source": []
  },
  {
   "cell_type": "raw",
   "id": "ce614b2a-7e84-4a94-8e99-059c3329b8b2",
   "metadata": {},
   "source": [
    "---\n",
    "title: \"파이썬 (0518) 12주차 \"\n",
    "author: \"김보람\"\n",
    "date: \"05/18/2022\"\n",
    "categories:\n",
    "  - 클래스\n",
    "---"
   ]
  },
  {
   "cell_type": "markdown",
   "id": "16b4ed28-2826-4a29-ac1d-e141614e8aa8",
   "metadata": {},
   "source": [
    "## 클래스 공부 3단계"
   ]
  },
  {
   "cell_type": "markdown",
   "id": "b19bad49-ab7d-47e0-8ce7-9d0a7ca47a90",
   "metadata": {},
   "source": [
    "`-` 클래스 오브젝트에 소속된 변수와 인스턴스오브젝트에 소속된 변수를 설명한다."
   ]
  },
  {
   "cell_type": "markdown",
   "id": "cacc2476-afae-40c5-8954-1becabae4d1c",
   "metadata": {},
   "source": [
    "### 오브젝트의 개념"
   ]
  },
  {
   "cell_type": "markdown",
   "id": "e9d036d0-9255-48cf-8907-4fdbf1da2be2",
   "metadata": {},
   "source": [
    "`-` 파이썬은 모든 것이 오브젝트로 이루어져 있다. <- 우선은 그냥 명언처럼 외우자"
   ]
  },
  {
   "cell_type": "markdown",
   "id": "539b5e46-dd31-4bab-a749-ae5f80032c52",
   "metadata": {},
   "source": [
    "`-` 오브젝트는 메모리 주소에 저장되는 모든 것을 의미한다."
   ]
  },
  {
   "cell_type": "code",
   "execution_count": 3,
   "id": "45836e85-7dc9-41ea-98c1-b1afb5e32d54",
   "metadata": {},
   "outputs": [
    {
     "data": {
      "text/plain": [
       "7390560"
      ]
     },
     "execution_count": 3,
     "metadata": {},
     "output_type": "execute_result"
    }
   ],
   "source": [
    "a=1\n",
    "id(a)  # 메모리주소를 보는 명령어"
   ]
  },
  {
   "cell_type": "code",
   "execution_count": 4,
   "id": "2ef24218-67ba-47fc-a976-794e639bdb9a",
   "metadata": {},
   "outputs": [
    {
     "data": {
      "text/plain": [
       "139914601692912"
      ]
     },
     "execution_count": 4,
     "metadata": {},
     "output_type": "execute_result"
    }
   ],
   "source": [
    "a='asdf'\n",
    "id(a)"
   ]
  },
  {
   "cell_type": "code",
   "execution_count": 5,
   "id": "4dbe039b-5074-4169-bcb0-4d1624f391e4",
   "metadata": {},
   "outputs": [
    {
     "data": {
      "text/plain": [
       "139914601744176"
      ]
     },
     "execution_count": 5,
     "metadata": {},
     "output_type": "execute_result"
    }
   ],
   "source": [
    "a=[1,2,3]\n",
    "id(a)"
   ]
  },
  {
   "cell_type": "markdown",
   "id": "34755b0f-865a-412b-a176-b05fd61df561",
   "metadata": {},
   "source": [
    "`-` 클래스와 인스턴스도 오브젝트이다."
   ]
  },
  {
   "cell_type": "code",
   "execution_count": 8,
   "id": "a60d7bdd-11de-4f2d-a0d6-bc4a97580fc4",
   "metadata": {},
   "outputs": [],
   "source": [
    "class A:\n",
    "    x=0\n",
    "    def f(self):\n",
    "        print(self.x)"
   ]
  },
  {
   "cell_type": "markdown",
   "id": "6ea53a42-7052-4e41-ae72-378e1216d750",
   "metadata": {},
   "source": [
    "- A는 오브젝트"
   ]
  },
  {
   "cell_type": "code",
   "execution_count": 9,
   "id": "8e45cc17-ef44-4845-a927-e8ff34f4367d",
   "metadata": {},
   "outputs": [
    {
     "data": {
      "text/plain": [
       "37700928"
      ]
     },
     "execution_count": 9,
     "metadata": {},
     "output_type": "execute_result"
    }
   ],
   "source": [
    "id(A)"
   ]
  },
  {
   "cell_type": "markdown",
   "id": "dbf232c8-95f9-4499-ad10-84cff80def2a",
   "metadata": {},
   "source": [
    "- a는 오브젝트"
   ]
  },
  {
   "cell_type": "code",
   "execution_count": 11,
   "id": "1bc8e505-6475-48d2-af36-41831d0b2a57",
   "metadata": {},
   "outputs": [
    {
     "data": {
      "text/plain": [
       "139914601844368"
      ]
     },
     "execution_count": 11,
     "metadata": {},
     "output_type": "execute_result"
    }
   ],
   "source": [
    "a=A()\n",
    "id(a)"
   ]
  },
  {
   "cell_type": "markdown",
   "id": "90982b89-0337-4ba2-ba6a-2382102a90a2",
   "metadata": {},
   "source": [
    "- b는 오브젝트"
   ]
  },
  {
   "cell_type": "code",
   "execution_count": 12,
   "id": "2a9e8441-02a8-437b-9b57-161a15a7fc37",
   "metadata": {},
   "outputs": [
    {
     "data": {
      "text/plain": [
       "139914601854160"
      ]
     },
     "execution_count": 12,
     "metadata": {},
     "output_type": "execute_result"
    }
   ],
   "source": [
    "b=A()\n",
    "id(b)"
   ]
  },
  {
   "cell_type": "markdown",
   "id": "a436ef93-faed-4bf9-9319-87015e726ad7",
   "metadata": {},
   "source": [
    "`-` 앞으로는 A를 클래스오브젝트, a,b를 인스턴스 오브젝트라고 부르자."
   ]
  },
  {
   "cell_type": "markdown",
   "id": "0467058a-8d2f-475c-8ae6-044083c1d043",
   "metadata": {},
   "source": [
    "### 예제1 : 클래스변수, 인스턴스변수"
   ]
  },
  {
   "cell_type": "markdown",
   "id": "49d75219-4699-42b3-9171-2adde5f483eb",
   "metadata": {},
   "source": [
    "`-` 시점0"
   ]
  },
  {
   "cell_type": "code",
   "execution_count": 31,
   "id": "a812a844-b0d9-460c-8cdc-9323080d890f",
   "metadata": {},
   "outputs": [],
   "source": [
    "class A:\n",
    "    x=0\n",
    "    y=0\n",
    "    def f(self):\n",
    "        self.x=self.x + 1\n",
    "        A.y = A.y + 1\n",
    "        # self.y = self.y + 1 이렇게 안쓰고 위에처럼 써보자!\n",
    "        print(\"현재 인스턴스에서 f가 {}번 실행\".format(self.x))\n",
    "        print(\"A클래스에서 만들어진 모든 인스턴스들에서 f가 총 {}번 실행\".format(self.y))\n"
   ]
  },
  {
   "cell_type": "code",
   "execution_count": 32,
   "id": "218ab466-bdd4-444d-849e-b3bb4b0e3035",
   "metadata": {},
   "outputs": [
    {
     "data": {
      "text/plain": [
       "38051088"
      ]
     },
     "execution_count": 32,
     "metadata": {},
     "output_type": "execute_result"
    }
   ],
   "source": [
    "id(A)"
   ]
  },
  {
   "cell_type": "code",
   "execution_count": 33,
   "id": "fafe4e16-8e78-468a-b632-a7519bff3802",
   "metadata": {},
   "outputs": [
    {
     "data": {
      "text/plain": [
       "(0, 0)"
      ]
     },
     "execution_count": 33,
     "metadata": {},
     "output_type": "execute_result"
    }
   ],
   "source": [
    "A.x, A.y"
   ]
  },
  {
   "cell_type": "markdown",
   "id": "d52249f8-72d0-40b5-81dd-d2967279e93d",
   "metadata": {},
   "source": [
    "`-` 시점1"
   ]
  },
  {
   "cell_type": "code",
   "execution_count": 34,
   "id": "2324abba-581c-47da-8ae0-1f8f38dc39d5",
   "metadata": {},
   "outputs": [],
   "source": [
    "a= A()\n",
    "b= A()"
   ]
  },
  {
   "cell_type": "code",
   "execution_count": 35,
   "id": "705864cc-1755-4189-a9b3-190855160552",
   "metadata": {},
   "outputs": [
    {
     "data": {
      "text/plain": [
       "([0, 0], [0, 0], [0, 0])"
      ]
     },
     "execution_count": 35,
     "metadata": {},
     "output_type": "execute_result"
    }
   ],
   "source": [
    "[A.x, A.y], [a.x, a.y], [b.x, b.y]"
   ]
  },
  {
   "cell_type": "markdown",
   "id": "c806b9b9-e8ed-4df5-81d3-c83d94903919",
   "metadata": {},
   "source": [
    "`-` 시점2"
   ]
  },
  {
   "cell_type": "code",
   "execution_count": 36,
   "id": "f01517bd-0aa1-4876-9ba8-6159ef3d23e6",
   "metadata": {},
   "outputs": [
    {
     "name": "stdout",
     "output_type": "stream",
     "text": [
      "현재 인스턴스에서 f가 1번 실행\n",
      "A클래스에서 만들어진 모든 인스턴스들에서 f가 총 1번 실행\n"
     ]
    }
   ],
   "source": [
    "a.f()"
   ]
  },
  {
   "cell_type": "code",
   "execution_count": 37,
   "id": "1b6b1162-0cc9-4d95-b87e-99b6899be09b",
   "metadata": {},
   "outputs": [
    {
     "data": {
      "text/plain": [
       "([0, 1], [1, 1], [0, 1])"
      ]
     },
     "execution_count": 37,
     "metadata": {},
     "output_type": "execute_result"
    }
   ],
   "source": [
    "[A.x, A.y], [a.x, a.y], [b.x, b.y]"
   ]
  },
  {
   "cell_type": "markdown",
   "id": "9d933c70-2bcd-4280-8c73-17d8ea19e376",
   "metadata": {},
   "source": [
    "`-` 시점3"
   ]
  },
  {
   "cell_type": "code",
   "execution_count": 38,
   "id": "94c074e4-ac8c-453a-b8da-4bcf56dcea37",
   "metadata": {},
   "outputs": [
    {
     "name": "stdout",
     "output_type": "stream",
     "text": [
      "현재 인스턴스에서 f가 1번 실행\n",
      "A클래스에서 만들어진 모든 인스턴스들에서 f가 총 2번 실행\n"
     ]
    }
   ],
   "source": [
    "b.f()"
   ]
  },
  {
   "cell_type": "code",
   "execution_count": 39,
   "id": "e09e1cb4-b8df-4904-a26d-ddc82e80414e",
   "metadata": {},
   "outputs": [
    {
     "data": {
      "text/plain": [
       "([0, 2], [1, 2], [1, 2])"
      ]
     },
     "execution_count": 39,
     "metadata": {},
     "output_type": "execute_result"
    }
   ],
   "source": [
    "[A.x, A.y], [a.x, a.y], [b.x, b.y]"
   ]
  },
  {
   "cell_type": "markdown",
   "id": "af31aaec-75f2-49ed-be2b-879d116ef545",
   "metadata": {},
   "source": [
    "`-` 시점4"
   ]
  },
  {
   "cell_type": "code",
   "execution_count": 40,
   "id": "9429f1f2-49f2-40cb-a3d2-4217f50bd0ef",
   "metadata": {},
   "outputs": [
    {
     "name": "stdout",
     "output_type": "stream",
     "text": [
      "현재 인스턴스에서 f가 2번 실행\n",
      "A클래스에서 만들어진 모든 인스턴스들에서 f가 총 3번 실행\n"
     ]
    }
   ],
   "source": [
    "b.f()"
   ]
  },
  {
   "cell_type": "code",
   "execution_count": 41,
   "id": "abc10827-1b0a-4b93-8243-fe07cb7b611a",
   "metadata": {},
   "outputs": [
    {
     "data": {
      "text/plain": [
       "([0, 3], [1, 3], [2, 3])"
      ]
     },
     "execution_count": 41,
     "metadata": {},
     "output_type": "execute_result"
    }
   ],
   "source": [
    "[A.x, A.y], [a.x, a.y], [b.x, b.y]"
   ]
  },
  {
   "cell_type": "markdown",
   "id": "ba882089-fc79-4ddd-9876-f29bff66ae44",
   "metadata": {},
   "source": [
    "`-` 시점5"
   ]
  },
  {
   "cell_type": "code",
   "execution_count": 42,
   "id": "46b74abd-a38d-4189-8b78-d4f130423856",
   "metadata": {},
   "outputs": [
    {
     "name": "stdout",
     "output_type": "stream",
     "text": [
      "현재 인스턴스에서 f가 2번 실행\n",
      "A클래스에서 만들어진 모든 인스턴스들에서 f가 총 4번 실행\n"
     ]
    }
   ],
   "source": [
    "a.f()"
   ]
  },
  {
   "cell_type": "code",
   "execution_count": 43,
   "id": "2cbd9432-d5ce-4e4d-9867-c6c5f7b72594",
   "metadata": {},
   "outputs": [
    {
     "data": {
      "text/plain": [
       "([0, 4], [2, 4], [2, 4])"
      ]
     },
     "execution_count": 43,
     "metadata": {},
     "output_type": "execute_result"
    }
   ],
   "source": [
    "[A.x, A.y], [a.x, a.y], [b.x, b.y]"
   ]
  },
  {
   "cell_type": "markdown",
   "id": "1ccb9f32-acf3-44f5-ab41-ac19c7777496",
   "metadata": {},
   "source": [
    "`-` 시점6"
   ]
  },
  {
   "cell_type": "code",
   "execution_count": 44,
   "id": "4c67dfa6-7eb3-4842-8ee1-0f4f5b1cb1c6",
   "metadata": {},
   "outputs": [],
   "source": [
    "c=A()"
   ]
  },
  {
   "cell_type": "code",
   "execution_count": 45,
   "id": "e043d60e-960e-4df7-8352-3f5b22c10f75",
   "metadata": {},
   "outputs": [
    {
     "data": {
      "text/plain": [
       "([0, 4], [2, 4], [2, 4], [0, 4])"
      ]
     },
     "execution_count": 45,
     "metadata": {},
     "output_type": "execute_result"
    }
   ],
   "source": [
    "[A.x, A.y], [a.x, a.y], [b.x, b.y], [c.x, c.y]"
   ]
  },
  {
   "cell_type": "markdown",
   "id": "1396b98b-2dd9-441f-a249-00a560dc2e1c",
   "metadata": {},
   "source": [
    "`-` 시점7"
   ]
  },
  {
   "cell_type": "code",
   "execution_count": 46,
   "id": "9744fef2-8fca-400c-998d-72f6128cb922",
   "metadata": {},
   "outputs": [
    {
     "name": "stdout",
     "output_type": "stream",
     "text": [
      "현재 인스턴스에서 f가 1번 실행\n",
      "A클래스에서 만들어진 모든 인스턴스들에서 f가 총 5번 실행\n"
     ]
    }
   ],
   "source": [
    "c.f()"
   ]
  },
  {
   "cell_type": "code",
   "execution_count": 47,
   "id": "f035841a-b629-4e68-8e4e-d9c546e12fac",
   "metadata": {},
   "outputs": [
    {
     "data": {
      "text/plain": [
       "([0, 5], [2, 5], [2, 5], [1, 5])"
      ]
     },
     "execution_count": 47,
     "metadata": {},
     "output_type": "execute_result"
    }
   ],
   "source": [
    "[A.x, A.y], [a.x, a.y], [b.x, b.y], [c.x, c.y]"
   ]
  },
  {
   "cell_type": "markdown",
   "id": "5fb397df-01ca-471e-a40a-3651eb52bfd3",
   "metadata": {},
   "source": [
    "`-` 신기한점: 각 인스턴스에서 `인스턴스이름.f()`를 실행한 횟수를 서로 공유하는 듯 하다. (A가 관리하는 것처럼 느껴진다.)"
   ]
  },
  {
   "cell_type": "markdown",
   "id": "c9b65098-2092-49a2-ba67-a25e3d29bdc8",
   "metadata": {},
   "source": [
    "`-` x와 y는 약간 느낌이 다르다. x는 지점소속, y는 본사소속의 느낌?"
   ]
  },
  {
   "cell_type": "markdown",
   "id": "64c23c3c-c6d4-41a4-8103-cc1d84dea358",
   "metadata": {},
   "source": [
    "> 이 예제에서 x는 인스턴스오브젝트에 소속된 변수, y는 클래스 오브젝트에 소속된 변수처럼 느껴짐"
   ]
  },
  {
   "cell_type": "markdown",
   "id": "8f59232b-7d2e-48f5-b752-b7582b290401",
   "metadata": {},
   "source": [
    "(약속) 앞으로는 인스턴스 오브젝트에 소속된 변수를 인스턴스 변수라고 하고, 클래스 오브젝트에 소속된 변수를 클래스 변수라고 하자."
   ]
  },
  {
   "cell_type": "markdown",
   "id": "c234525a-cc97-4237-aa0b-7b10c09190e4",
   "metadata": {},
   "source": [
    "`-` 인스턴스 변수와 클래스 변수를 구분하는 방법? `인스턴스이름.__dict__`를 쓰면 인스턴스 변수만 출력된다."
   ]
  },
  {
   "cell_type": "markdown",
   "id": "ff15fce6-ea0d-4865-9b8e-de9ec8eb869c",
   "metadata": {},
   "source": [
    "- 따라서 a. + tab을 눌러서 나오는 변수중 `a.__dict__`에 출력되지 않으면 클래스 변수이다."
   ]
  },
  {
   "cell_type": "code",
   "execution_count": 51,
   "id": "fba34bc2-db49-4f72-9465-9831ef5e90e2",
   "metadata": {},
   "outputs": [
    {
     "data": {
      "text/plain": [
       "{'x': 2}"
      ]
     },
     "execution_count": 51,
     "metadata": {},
     "output_type": "execute_result"
    }
   ],
   "source": [
    "a.__dict__"
   ]
  },
  {
   "cell_type": "code",
   "execution_count": 52,
   "id": "2f005c87-7784-4a12-a2fc-2fd98b75d5fc",
   "metadata": {},
   "outputs": [
    {
     "data": {
      "text/plain": [
       "{'x': 2}"
      ]
     },
     "execution_count": 52,
     "metadata": {},
     "output_type": "execute_result"
    }
   ],
   "source": [
    "b.__dict__"
   ]
  },
  {
   "cell_type": "code",
   "execution_count": 53,
   "id": "b161080f-8bf7-4fb4-8814-a51f14d9dbcb",
   "metadata": {},
   "outputs": [
    {
     "data": {
      "text/plain": [
       "{'x': 1}"
      ]
     },
     "execution_count": 53,
     "metadata": {},
     "output_type": "execute_result"
    }
   ],
   "source": [
    "c.__dict__"
   ]
  },
  {
   "cell_type": "markdown",
   "id": "cadffe6c-d1f5-43c1-86b9-c3f313ec8d04",
   "metadata": {},
   "source": [
    "`-` 이 예제에서 아래는 모두 클래스 변수이다."
   ]
  },
  {
   "cell_type": "code",
   "execution_count": 54,
   "id": "a80be837-35b6-4b5a-a108-5a79f5d7169b",
   "metadata": {},
   "outputs": [
    {
     "data": {
      "text/plain": [
       "(5, 5, 5)"
      ]
     },
     "execution_count": 54,
     "metadata": {},
     "output_type": "execute_result"
    }
   ],
   "source": [
    "a.y, b.y, c.y"
   ]
  },
  {
   "cell_type": "markdown",
   "id": "4716c305-c1dd-424e-ac6c-0c4e161e43a4",
   "metadata": {
    "tags": []
   },
   "source": [
    "### 예제2: 인스턴스에서 인스턴스 변수 x 변경 (변경 가능)"
   ]
  },
  {
   "cell_type": "markdown",
   "id": "0bc16378-a5d0-4ae6-b84e-9ad535feb2ca",
   "metadata": {},
   "source": [
    "`-` 시점0"
   ]
  },
  {
   "cell_type": "code",
   "execution_count": 55,
   "id": "87599832-72fc-41c9-b59c-4c284bdd9f63",
   "metadata": {},
   "outputs": [],
   "source": [
    "class A:\n",
    "    x=0\n",
    "    y=0\n",
    "    def f(self):\n",
    "        self.x=self.x + 1\n",
    "        A.y = A.y + 1\n",
    "        # self.y = self.y + 1 이렇게 안쓰고 위에처럼 써보자!\n",
    "        print(\"현재 인스턴스에서 f가 {}번 실행\".format(self.x))\n",
    "        print(\"A클래스에서 만들어진 모든 인스턴스들에서 f가 총 {}번 실행\".format(self.y))\n"
   ]
  },
  {
   "cell_type": "code",
   "execution_count": 56,
   "id": "efa8da9f-8a41-4007-84d7-cb4baaf5b421",
   "metadata": {},
   "outputs": [],
   "source": [
    "a=A()"
   ]
  },
  {
   "cell_type": "code",
   "execution_count": 57,
   "id": "78722a44-8547-4451-9770-6af8cf2a65f8",
   "metadata": {},
   "outputs": [
    {
     "data": {
      "text/plain": [
       "([0, 0], [0, 0])"
      ]
     },
     "execution_count": 57,
     "metadata": {},
     "output_type": "execute_result"
    }
   ],
   "source": [
    "[A.x, A.y], [a.x, a.y]"
   ]
  },
  {
   "cell_type": "markdown",
   "id": "e36ca613-2b19-4f50-a72c-bba72278ba06",
   "metadata": {},
   "source": [
    "`-` 시점1"
   ]
  },
  {
   "cell_type": "code",
   "execution_count": 58,
   "id": "8e465a6e-7cb6-479b-9cab-c608f1c9a15b",
   "metadata": {},
   "outputs": [
    {
     "name": "stdout",
     "output_type": "stream",
     "text": [
      "현재 인스턴스에서 f가 1번 실행\n",
      "A클래스에서 만들어진 모든 인스턴스들에서 f가 총 1번 실행\n"
     ]
    }
   ],
   "source": [
    "a.f()"
   ]
  },
  {
   "cell_type": "code",
   "execution_count": 59,
   "id": "c8ee9398-fc9c-4fbe-9b5d-ceb8909e8c4a",
   "metadata": {},
   "outputs": [
    {
     "name": "stdout",
     "output_type": "stream",
     "text": [
      "현재 인스턴스에서 f가 2번 실행\n",
      "A클래스에서 만들어진 모든 인스턴스들에서 f가 총 2번 실행\n"
     ]
    }
   ],
   "source": [
    "a.f()"
   ]
  },
  {
   "cell_type": "code",
   "execution_count": 60,
   "id": "36f83e0a-6623-4835-bc82-45aef5e209dd",
   "metadata": {},
   "outputs": [
    {
     "name": "stdout",
     "output_type": "stream",
     "text": [
      "현재 인스턴스에서 f가 3번 실행\n",
      "A클래스에서 만들어진 모든 인스턴스들에서 f가 총 3번 실행\n"
     ]
    }
   ],
   "source": [
    "a.f()"
   ]
  },
  {
   "cell_type": "code",
   "execution_count": 61,
   "id": "ca6a747c-55f3-4d5c-88a9-2327e7a27ab5",
   "metadata": {},
   "outputs": [
    {
     "data": {
      "text/plain": [
       "([0, 3], [3, 3])"
      ]
     },
     "execution_count": 61,
     "metadata": {},
     "output_type": "execute_result"
    }
   ],
   "source": [
    "[A.x,A.y], [a.x, a.y]"
   ]
  },
  {
   "cell_type": "markdown",
   "id": "ecd9a185-b496-4895-89a3-647f8e8f995d",
   "metadata": {},
   "source": [
    "`-` 시점2"
   ]
  },
  {
   "cell_type": "code",
   "execution_count": 63,
   "id": "fbc767ef-1c59-4f2f-b003-94621b04c1f2",
   "metadata": {},
   "outputs": [],
   "source": [
    "a.x = 0 # f의 실행기록을 초기화 하고 싶다."
   ]
  },
  {
   "cell_type": "code",
   "execution_count": 64,
   "id": "4dc97984-84ad-443d-9240-6f63acab390c",
   "metadata": {},
   "outputs": [
    {
     "name": "stdout",
     "output_type": "stream",
     "text": [
      "현재 인스턴스에서 f가 1번 실행\n",
      "A클래스에서 만들어진 모든 인스턴스들에서 f가 총 4번 실행\n"
     ]
    }
   ],
   "source": [
    "a.f()"
   ]
  },
  {
   "cell_type": "code",
   "execution_count": 65,
   "id": "56ed1476-f405-4eda-8561-45a8ec9b64a3",
   "metadata": {},
   "outputs": [
    {
     "data": {
      "text/plain": [
       "([0, 4], [1, 4])"
      ]
     },
     "execution_count": 65,
     "metadata": {},
     "output_type": "execute_result"
    }
   ],
   "source": [
    "[A.x,A.y], [a.x, a.y]"
   ]
  },
  {
   "cell_type": "markdown",
   "id": "46dad1f7-8b3c-44a9-a41e-81befc36bd43",
   "metadata": {
    "tags": []
   },
   "source": [
    "### 예제3: 클래스에서 클래스 변수 y 변경 (변경가능)"
   ]
  },
  {
   "cell_type": "code",
   "execution_count": 66,
   "id": "31725070-f57a-40aa-b9a4-1c690eec3a14",
   "metadata": {},
   "outputs": [],
   "source": [
    "class A:\n",
    "    x=0\n",
    "    y=0\n",
    "    def f(self):\n",
    "        self.x=self.x + 1\n",
    "        A.y = A.y + 1\n",
    "        # self.y = self.y + 1 이렇게 안쓰고 위에처럼 써보자!\n",
    "        print(\"현재 인스턴스에서 f가 {}번 실행\".format(self.x))\n",
    "        print(\"A클래스에서 만들어진 모든 인스턴스들에서 f가 총 {}번 실행\".format(self.y))\n"
   ]
  },
  {
   "cell_type": "code",
   "execution_count": 67,
   "id": "fd285437-f2a6-47bb-ab19-65c5562bb477",
   "metadata": {},
   "outputs": [],
   "source": [
    "a=A()"
   ]
  },
  {
   "cell_type": "code",
   "execution_count": 68,
   "id": "1ab32cd5-4319-4abe-9e9f-a9cdc61dc415",
   "metadata": {},
   "outputs": [],
   "source": [
    "b=A()"
   ]
  },
  {
   "cell_type": "code",
   "execution_count": 69,
   "id": "78f95b93-5a5e-49cb-9021-fd6f5fa090dc",
   "metadata": {},
   "outputs": [
    {
     "data": {
      "text/plain": [
       "([0, 0], [0, 0], [0, 0])"
      ]
     },
     "execution_count": 69,
     "metadata": {},
     "output_type": "execute_result"
    }
   ],
   "source": [
    "[A.x, A.y], [a.x, a.y], [b.x, b.y]"
   ]
  },
  {
   "cell_type": "markdown",
   "id": "29cdba98-ef8f-4a1d-9176-08e4994d3ec6",
   "metadata": {},
   "source": [
    "`-` 시점1"
   ]
  },
  {
   "cell_type": "code",
   "execution_count": 70,
   "id": "04c9a07e-53a9-4ed7-a498-ed393e68d614",
   "metadata": {},
   "outputs": [
    {
     "name": "stdout",
     "output_type": "stream",
     "text": [
      "현재 인스턴스에서 f가 1번 실행\n",
      "A클래스에서 만들어진 모든 인스턴스들에서 f가 총 1번 실행\n"
     ]
    }
   ],
   "source": [
    "a.f()"
   ]
  },
  {
   "cell_type": "code",
   "execution_count": 71,
   "id": "ed804bf8-6faf-48e8-884e-56ae08e636bf",
   "metadata": {},
   "outputs": [
    {
     "data": {
      "text/plain": [
       "([0, 1], [1, 1], [0, 1])"
      ]
     },
     "execution_count": 71,
     "metadata": {},
     "output_type": "execute_result"
    }
   ],
   "source": [
    "[A.x, A.y], [a.x, a.y], [b.x, b.y]"
   ]
  },
  {
   "cell_type": "markdown",
   "id": "c9b1d7c7-a43c-46d4-a845-3c82f5f828c4",
   "metadata": {},
   "source": [
    "`-` 시점2"
   ]
  },
  {
   "cell_type": "code",
   "execution_count": 73,
   "id": "6ec407d8-12a4-48a7-b6f3-b884d39e5084",
   "metadata": {},
   "outputs": [],
   "source": [
    "A.y = 100"
   ]
  },
  {
   "cell_type": "code",
   "execution_count": 74,
   "id": "89161bc8-5978-40dd-80d4-b23748550457",
   "metadata": {},
   "outputs": [
    {
     "data": {
      "text/plain": [
       "([0, 100], [1, 100], [0, 100])"
      ]
     },
     "execution_count": 74,
     "metadata": {},
     "output_type": "execute_result"
    }
   ],
   "source": [
    "[A.x, A.y], [a.x, a.y], [b.x, b.y]"
   ]
  },
  {
   "cell_type": "code",
   "execution_count": 75,
   "id": "85a894b8-d2c3-43a0-a535-12d22db8d8c1",
   "metadata": {},
   "outputs": [
    {
     "name": "stdout",
     "output_type": "stream",
     "text": [
      "현재 인스턴스에서 f가 2번 실행\n",
      "A클래스에서 만들어진 모든 인스턴스들에서 f가 총 101번 실행\n"
     ]
    }
   ],
   "source": [
    "a.f()"
   ]
  },
  {
   "cell_type": "markdown",
   "id": "423e73d7-a7db-4025-938f-e0c406b92123",
   "metadata": {
    "tags": []
   },
   "source": [
    "### 예제4: 클래스에서 클래스 변수 x 변경 (변경가능)"
   ]
  },
  {
   "cell_type": "code",
   "execution_count": 90,
   "id": "9556974f-2df7-49db-b81f-045e5610636d",
   "metadata": {},
   "outputs": [],
   "source": [
    "class A:\n",
    "    x=0\n",
    "    y=0\n",
    "    def f(self):\n",
    "        self.x=self.x + 1\n",
    "        A.y = A.y + 1\n",
    "        # self.y = self.y + 1 이렇게 안쓰고 위에처럼 써보자!\n",
    "        print(\"현재 인스턴스에서 f가 {}번 실행\".format(self.x))\n",
    "        print(\"A클래스에서 만들어진 모든 인스턴스들에서 f가 총 {}번 실행\".format(self.y))\n"
   ]
  },
  {
   "cell_type": "code",
   "execution_count": 91,
   "id": "d8beb687-7862-480f-98b9-705a53ef1907",
   "metadata": {},
   "outputs": [],
   "source": [
    "a=A()"
   ]
  },
  {
   "cell_type": "code",
   "execution_count": 92,
   "id": "b88bb015-5ea2-4934-be79-d32425f2e35a",
   "metadata": {},
   "outputs": [
    {
     "data": {
      "text/plain": [
       "([0, 0], [0, 0])"
      ]
     },
     "execution_count": 92,
     "metadata": {},
     "output_type": "execute_result"
    }
   ],
   "source": [
    "[A.x, A.y], [a.x, a.y]"
   ]
  },
  {
   "cell_type": "markdown",
   "id": "cf6e8f4d-adde-4925-bb17-6c2af8c9ed70",
   "metadata": {},
   "source": [
    "`-` 시점1"
   ]
  },
  {
   "cell_type": "code",
   "execution_count": 93,
   "id": "4154705d-3cd5-4eb5-945a-537b96bc9cfc",
   "metadata": {},
   "outputs": [
    {
     "name": "stdout",
     "output_type": "stream",
     "text": [
      "현재 인스턴스에서 f가 1번 실행\n",
      "A클래스에서 만들어진 모든 인스턴스들에서 f가 총 1번 실행\n"
     ]
    }
   ],
   "source": [
    "a.f()"
   ]
  },
  {
   "cell_type": "code",
   "execution_count": 94,
   "id": "d520b475-f72b-49da-9856-789c8b0f91b2",
   "metadata": {},
   "outputs": [
    {
     "data": {
      "text/plain": [
       "([0, 1], [1, 1])"
      ]
     },
     "execution_count": 94,
     "metadata": {},
     "output_type": "execute_result"
    }
   ],
   "source": [
    "[A.x, A.y], [a.x, a.y]"
   ]
  },
  {
   "cell_type": "markdown",
   "id": "a6ae2dda-b3c0-4376-b336-8f54d4931742",
   "metadata": {},
   "source": [
    "`-` 시점2"
   ]
  },
  {
   "cell_type": "code",
   "execution_count": 95,
   "id": "95b247c4-fd0c-44fe-aefd-70b41e21396d",
   "metadata": {},
   "outputs": [],
   "source": [
    "A.x = 100   # 이렇게 되면 앞으로 만들어진 인스턴스튼 기본적으로 현재 인스턴스에서| 100번 f를 실행하였다는 정보를 가지고 태어나게 된다."
   ]
  },
  {
   "cell_type": "code",
   "execution_count": 96,
   "id": "473829a6-b628-4c96-8f39-3a8c69c26d98",
   "metadata": {},
   "outputs": [
    {
     "data": {
      "text/plain": [
       "([100, 1], [1, 1])"
      ]
     },
     "execution_count": 96,
     "metadata": {},
     "output_type": "execute_result"
    }
   ],
   "source": [
    "[A.x, A.y], [a.x, a.y]"
   ]
  },
  {
   "cell_type": "markdown",
   "id": "2970a9f9-6614-4378-a915-a3891893a3e6",
   "metadata": {},
   "source": [
    "`-` 시점3"
   ]
  },
  {
   "cell_type": "code",
   "execution_count": 97,
   "id": "93b405a3-7aca-47da-bcc7-786f136b03e5",
   "metadata": {},
   "outputs": [],
   "source": [
    "b=A()"
   ]
  },
  {
   "cell_type": "code",
   "execution_count": 98,
   "id": "de8b1ee1-d132-4c27-b516-5ad8041977f6",
   "metadata": {},
   "outputs": [
    {
     "data": {
      "text/plain": [
       "([100, 1], [1, 1], [100, 1])"
      ]
     },
     "execution_count": 98,
     "metadata": {},
     "output_type": "execute_result"
    }
   ],
   "source": [
    "[A.x, A.y], [a.x, a.y], [b.x, b.y]"
   ]
  },
  {
   "cell_type": "markdown",
   "id": "ae2928de-ccd7-43bb-a85f-e0e4ea26c96a",
   "metadata": {},
   "source": [
    "`-` 시점4"
   ]
  },
  {
   "cell_type": "code",
   "execution_count": 99,
   "id": "27c94bc9-a14d-4f3f-a884-410847dc1ea1",
   "metadata": {},
   "outputs": [
    {
     "name": "stdout",
     "output_type": "stream",
     "text": [
      "현재 인스턴스에서 f가 101번 실행\n",
      "A클래스에서 만들어진 모든 인스턴스들에서 f가 총 2번 실행\n"
     ]
    }
   ],
   "source": [
    "b.f()"
   ]
  },
  {
   "cell_type": "markdown",
   "id": "9b84a088-45c3-45c4-aad6-c79444830233",
   "metadata": {},
   "source": [
    "`-` 시점5"
   ]
  },
  {
   "cell_type": "code",
   "execution_count": 100,
   "id": "0d3e4dce-bd15-4aa0-b852-072b66a0088f",
   "metadata": {},
   "outputs": [
    {
     "name": "stdout",
     "output_type": "stream",
     "text": [
      "현재 인스턴스에서 f가 2번 실행\n",
      "A클래스에서 만들어진 모든 인스턴스들에서 f가 총 3번 실행\n"
     ]
    }
   ],
   "source": [
    "a.f()"
   ]
  },
  {
   "cell_type": "code",
   "execution_count": 101,
   "id": "756ebe33-d78b-46f7-98ec-1a648840a358",
   "metadata": {},
   "outputs": [
    {
     "name": "stdout",
     "output_type": "stream",
     "text": [
      "현재 인스턴스에서 f가 3번 실행\n",
      "A클래스에서 만들어진 모든 인스턴스들에서 f가 총 4번 실행\n"
     ]
    }
   ],
   "source": [
    "a.f()"
   ]
  },
  {
   "cell_type": "code",
   "execution_count": 102,
   "id": "c0e87b14-2643-44bd-ad72-c26b44e0819e",
   "metadata": {},
   "outputs": [
    {
     "name": "stdout",
     "output_type": "stream",
     "text": [
      "현재 인스턴스에서 f가 102번 실행\n",
      "A클래스에서 만들어진 모든 인스턴스들에서 f가 총 5번 실행\n"
     ]
    }
   ],
   "source": [
    "b.f()"
   ]
  },
  {
   "cell_type": "markdown",
   "id": "f31b2767-82bd-4b44-a929-4b301a2d0413",
   "metadata": {
    "tags": []
   },
   "source": [
    "### 예제4의 변형"
   ]
  },
  {
   "cell_type": "code",
   "execution_count": null,
   "id": "637db7f0-f972-47f1-9c85-c905b214fabd",
   "metadata": {},
   "outputs": [],
   "source": []
  },
  {
   "cell_type": "code",
   "execution_count": 108,
   "id": "23c320e8-6f51-4635-a345-dfff9b8facf6",
   "metadata": {},
   "outputs": [],
   "source": [
    "class B:\n",
    "    x=100   # 초기자본금\n",
    "    y=0\n",
    "    def f(self):   # f를 실행할때마다 돈을 쓴다.\n",
    "        self.x=self.x - 1\n",
    "        B.y = B.y + 1\n",
    "        # self.y = self.y + 1 이렇게 안쓰고 위에처럼 써보자!\n",
    "        print(\"현재 인스턴스에서 {}원 잔액남음\".format(self.x))\n",
    "        print(\"A클래스에서 만들어진 모든 인스턴스들에서 총 {}원 사용\".format(self.y))\n"
   ]
  },
  {
   "cell_type": "code",
   "execution_count": 109,
   "id": "b0a89f25-1c33-4cb7-a668-126c6e5abbf1",
   "metadata": {},
   "outputs": [],
   "source": [
    "a=B()"
   ]
  },
  {
   "cell_type": "code",
   "execution_count": 110,
   "id": "bcdf8ea4-800d-4bc7-a634-eac0559adf84",
   "metadata": {},
   "outputs": [],
   "source": [
    "b=B()"
   ]
  },
  {
   "cell_type": "code",
   "execution_count": 111,
   "id": "a667b5d5-24ec-43ca-b0e1-2ff70403ddd0",
   "metadata": {},
   "outputs": [
    {
     "data": {
      "text/plain": [
       "([100, 0], [100, 0], [100, 0])"
      ]
     },
     "execution_count": 111,
     "metadata": {},
     "output_type": "execute_result"
    }
   ],
   "source": [
    "[B.x, B.y], [a.x, a.y], [b.x, b.y]"
   ]
  },
  {
   "cell_type": "markdown",
   "id": "a2342234-e5ce-4594-87c6-41774ef1dbd1",
   "metadata": {},
   "source": [
    "`-` 시점1"
   ]
  },
  {
   "cell_type": "code",
   "execution_count": 112,
   "id": "727966a1-a329-4143-8258-84de940bf777",
   "metadata": {},
   "outputs": [
    {
     "name": "stdout",
     "output_type": "stream",
     "text": [
      "현재 인스턴스에서 99원 잔액남음\n",
      "A클래스에서 만들어진 모든 인스턴스들에서 총 1원 사용\n"
     ]
    }
   ],
   "source": [
    "a.f() # 돈을 쓴다"
   ]
  },
  {
   "cell_type": "code",
   "execution_count": 113,
   "id": "8617837d-cb2a-49c1-bbf5-930206d588db",
   "metadata": {},
   "outputs": [
    {
     "name": "stdout",
     "output_type": "stream",
     "text": [
      "현재 인스턴스에서 98원 잔액남음\n",
      "A클래스에서 만들어진 모든 인스턴스들에서 총 2원 사용\n"
     ]
    }
   ],
   "source": [
    "a.f()"
   ]
  },
  {
   "cell_type": "code",
   "execution_count": 114,
   "id": "69232fe0-e198-4694-90ad-ff8768fcb4f9",
   "metadata": {},
   "outputs": [
    {
     "name": "stdout",
     "output_type": "stream",
     "text": [
      "현재 인스턴스에서 99원 잔액남음\n",
      "A클래스에서 만들어진 모든 인스턴스들에서 총 3원 사용\n"
     ]
    }
   ],
   "source": [
    "b.f()"
   ]
  },
  {
   "cell_type": "markdown",
   "id": "b9ebd702-dddc-4703-93e3-75798c39bb31",
   "metadata": {},
   "source": [
    "`-` 시점2"
   ]
  },
  {
   "cell_type": "code",
   "execution_count": 115,
   "id": "6b6d83b5-4997-4245-9c77-d09969eacce2",
   "metadata": {},
   "outputs": [
    {
     "data": {
      "text/plain": [
       "([100, 3], [98, 3], [99, 3])"
      ]
     },
     "execution_count": 115,
     "metadata": {},
     "output_type": "execute_result"
    }
   ],
   "source": [
    "[B.x, B.y], [a.x, a.y], [b.x, b.y]"
   ]
  },
  {
   "cell_type": "code",
   "execution_count": 117,
   "id": "b33e8b43-bd7d-4b13-8a22-1d2c0f4078cf",
   "metadata": {},
   "outputs": [],
   "source": [
    "B.x=999"
   ]
  },
  {
   "cell_type": "code",
   "execution_count": 118,
   "id": "47aedf1d-c39f-4ada-b638-b52d7ee5ff1a",
   "metadata": {},
   "outputs": [
    {
     "data": {
      "text/plain": [
       "([999, 3], [98, 3], [99, 3])"
      ]
     },
     "execution_count": 118,
     "metadata": {},
     "output_type": "execute_result"
    }
   ],
   "source": [
    "[B.x, B.y], [a.x, a.y], [b.x, b.y]"
   ]
  },
  {
   "cell_type": "markdown",
   "id": "1111ed73-1c57-4423-b9c0-489082674d53",
   "metadata": {},
   "source": [
    "`-` 시점3"
   ]
  },
  {
   "cell_type": "code",
   "execution_count": 119,
   "id": "4fb2c3c4-9cf6-4970-9017-c0a409f97c62",
   "metadata": {},
   "outputs": [],
   "source": [
    "c=B()"
   ]
  },
  {
   "cell_type": "code",
   "execution_count": 120,
   "id": "fb2386f9-13e0-4471-8328-154d2252ec11",
   "metadata": {},
   "outputs": [
    {
     "name": "stdout",
     "output_type": "stream",
     "text": [
      "현재 인스턴스에서 998원 잔액남음\n",
      "A클래스에서 만들어진 모든 인스턴스들에서 총 4원 사용\n"
     ]
    }
   ],
   "source": [
    "c.f()"
   ]
  },
  {
   "cell_type": "markdown",
   "id": "427f689f-02b3-4666-8f2e-fc323dd2ac1c",
   "metadata": {},
   "source": [
    "`-` 시점4"
   ]
  },
  {
   "cell_type": "code",
   "execution_count": 121,
   "id": "4e0a45ff-21cf-455b-a50e-47e75c39721b",
   "metadata": {},
   "outputs": [
    {
     "name": "stdout",
     "output_type": "stream",
     "text": [
      "현재 인스턴스에서 97원 잔액남음\n",
      "A클래스에서 만들어진 모든 인스턴스들에서 총 5원 사용\n"
     ]
    }
   ],
   "source": [
    "a.f()"
   ]
  },
  {
   "cell_type": "code",
   "execution_count": 122,
   "id": "466198ca-881c-472e-96c4-b5ab340a24d1",
   "metadata": {},
   "outputs": [
    {
     "name": "stdout",
     "output_type": "stream",
     "text": [
      "현재 인스턴스에서 98원 잔액남음\n",
      "A클래스에서 만들어진 모든 인스턴스들에서 총 6원 사용\n"
     ]
    }
   ],
   "source": [
    "b.f()"
   ]
  },
  {
   "cell_type": "code",
   "execution_count": 123,
   "id": "ba38d542-d185-4251-bc0b-0cb606622e0b",
   "metadata": {},
   "outputs": [
    {
     "name": "stdout",
     "output_type": "stream",
     "text": [
      "현재 인스턴스에서 997원 잔액남음\n",
      "A클래스에서 만들어진 모든 인스턴스들에서 총 7원 사용\n"
     ]
    }
   ],
   "source": [
    "c.f()"
   ]
  },
  {
   "cell_type": "code",
   "execution_count": 124,
   "id": "eee42185-c94b-42ec-a40f-a5e60a5c63a3",
   "metadata": {},
   "outputs": [
    {
     "name": "stdout",
     "output_type": "stream",
     "text": [
      "현재 인스턴스에서 996원 잔액남음\n",
      "A클래스에서 만들어진 모든 인스턴스들에서 총 8원 사용\n"
     ]
    }
   ],
   "source": [
    "c.f()"
   ]
  },
  {
   "cell_type": "markdown",
   "id": "e6b02577-7166-4a7a-b93b-b24285e70374",
   "metadata": {},
   "source": [
    "### 예제5 : 인스턴스에서 클래스변수 변경 (변경가능???)"
   ]
  },
  {
   "cell_type": "code",
   "execution_count": 146,
   "id": "3eec3eef-a2a1-4ae7-ae5d-4a6db2e75bd0",
   "metadata": {},
   "outputs": [],
   "source": [
    "class A:\n",
    "    x=0\n",
    "    y=0\n",
    "    def f(self):\n",
    "        self.x=self.x + 1\n",
    "        A.y = A.y + 1\n",
    "        # self.y = self.y + 1 이렇게 안쓰고 위에처럼 써보자!\n",
    "        print(\"현재 인스턴스에서 f가 {}번 실행\".format(self.x))\n",
    "        print(\"A클래스에서 만들어진 모든 인스턴스들에서 f가 총 {}번 실행\".format(self.y))\n"
   ]
  },
  {
   "cell_type": "code",
   "execution_count": 147,
   "id": "9ad31eaa-2a47-4b79-ba4c-fdb7c139f446",
   "metadata": {},
   "outputs": [
    {
     "data": {
      "text/plain": [
       "[0, 0]"
      ]
     },
     "execution_count": 147,
     "metadata": {},
     "output_type": "execute_result"
    }
   ],
   "source": [
    "[A.x, A.y]"
   ]
  },
  {
   "cell_type": "code",
   "execution_count": 148,
   "id": "368794d1-6e89-478f-a075-4c9632765f63",
   "metadata": {},
   "outputs": [],
   "source": [
    "a=A()\n",
    "b=A()"
   ]
  },
  {
   "cell_type": "code",
   "execution_count": 149,
   "id": "5f9d4490-4728-4366-9bf2-f6852f546559",
   "metadata": {},
   "outputs": [
    {
     "data": {
      "text/plain": [
       "([0, 0], [0, 0], [0, 0])"
      ]
     },
     "execution_count": 149,
     "metadata": {},
     "output_type": "execute_result"
    }
   ],
   "source": [
    "[A.x, A.y], [a.x, a.y], [b.x,b.y]"
   ]
  },
  {
   "cell_type": "markdown",
   "id": "a2c83d05-fb3b-407f-9dea-38dbadabb099",
   "metadata": {},
   "source": [
    "`-` 시점1"
   ]
  },
  {
   "cell_type": "code",
   "execution_count": 150,
   "id": "06777c70-88b4-4518-a040-efc85c82a172",
   "metadata": {},
   "outputs": [
    {
     "name": "stdout",
     "output_type": "stream",
     "text": [
      "현재 인스턴스에서 f가 1번 실행\n",
      "A클래스에서 만들어진 모든 인스턴스들에서 f가 총 1번 실행\n"
     ]
    }
   ],
   "source": [
    "a.f()"
   ]
  },
  {
   "cell_type": "code",
   "execution_count": 151,
   "id": "a6326f4e-8a5d-4dfd-8d0b-1d54fc901de7",
   "metadata": {},
   "outputs": [
    {
     "name": "stdout",
     "output_type": "stream",
     "text": [
      "현재 인스턴스에서 f가 1번 실행\n",
      "A클래스에서 만들어진 모든 인스턴스들에서 f가 총 2번 실행\n"
     ]
    }
   ],
   "source": [
    "b.f()"
   ]
  },
  {
   "cell_type": "code",
   "execution_count": 152,
   "id": "a06913c4-0a0f-4581-9063-29255cbd454f",
   "metadata": {},
   "outputs": [
    {
     "name": "stdout",
     "output_type": "stream",
     "text": [
      "현재 인스턴스에서 f가 2번 실행\n",
      "A클래스에서 만들어진 모든 인스턴스들에서 f가 총 3번 실행\n"
     ]
    }
   ],
   "source": [
    "a.f()"
   ]
  },
  {
   "cell_type": "markdown",
   "id": "b094bb6f-3dab-4369-91cc-6d245982355d",
   "metadata": {},
   "source": [
    "`-` 시점2"
   ]
  },
  {
   "cell_type": "code",
   "execution_count": 153,
   "id": "32d1cc3d-58b5-4d0f-979b-a18162651936",
   "metadata": {},
   "outputs": [
    {
     "data": {
      "text/plain": [
       "{'x': 2}"
      ]
     },
     "execution_count": 153,
     "metadata": {},
     "output_type": "execute_result"
    }
   ],
   "source": [
    "a.__dict__"
   ]
  },
  {
   "cell_type": "code",
   "execution_count": 154,
   "id": "df53753d-d1af-45e9-bf12-466e09bb5c3c",
   "metadata": {},
   "outputs": [
    {
     "data": {
      "text/plain": [
       "3"
      ]
     },
     "execution_count": 154,
     "metadata": {},
     "output_type": "execute_result"
    }
   ],
   "source": [
    "a.y  # 인스턴스 a에 소속되어 있지만 클래스 변수 "
   ]
  },
  {
   "cell_type": "code",
   "execution_count": 155,
   "id": "70967f14-108e-43d6-bff6-639dc8860c93",
   "metadata": {},
   "outputs": [],
   "source": [
    "a.y = 999 # A.y 였으면 다 바꼈을 테지만 a.y 였다면??\n",
    "# 내가 하드코딩으로 a.y에 999 입력 -> 이것이 A.y나 b.y에도 반영될까? (x)"
   ]
  },
  {
   "cell_type": "code",
   "execution_count": 156,
   "id": "c2b67c41-2617-46f8-aa8f-a1533352f4b9",
   "metadata": {},
   "outputs": [
    {
     "data": {
      "text/plain": [
       "([0, 3], [2, 999], [1, 3])"
      ]
     },
     "execution_count": 156,
     "metadata": {},
     "output_type": "execute_result"
    }
   ],
   "source": [
    "[A.x, A.y], [a.x, a.y], [b.x,b.y]"
   ]
  },
  {
   "cell_type": "code",
   "execution_count": 163,
   "id": "ad7fdf6f-d92c-4a26-a7b5-70d577ad4b7c",
   "metadata": {},
   "outputs": [
    {
     "data": {
      "text/plain": [
       "{'x': 4, 'y': 999}"
      ]
     },
     "execution_count": 163,
     "metadata": {},
     "output_type": "execute_result"
    }
   ],
   "source": [
    "a.__dict__"
   ]
  },
  {
   "cell_type": "markdown",
   "id": "bf39dd7b-5615-431f-8281-7c5254b23800",
   "metadata": {},
   "source": [
    "`-` 시점3"
   ]
  },
  {
   "cell_type": "code",
   "execution_count": 157,
   "id": "78a1a51f-1672-452f-9e4b-19267f259998",
   "metadata": {},
   "outputs": [
    {
     "name": "stdout",
     "output_type": "stream",
     "text": [
      "현재 인스턴스에서 f가 2번 실행\n",
      "A클래스에서 만들어진 모든 인스턴스들에서 f가 총 4번 실행\n"
     ]
    }
   ],
   "source": [
    "b.f()"
   ]
  },
  {
   "cell_type": "code",
   "execution_count": 158,
   "id": "0ecce187-4c45-4bc3-96f9-b7353258cd45",
   "metadata": {},
   "outputs": [
    {
     "name": "stdout",
     "output_type": "stream",
     "text": [
      "현재 인스턴스에서 f가 3번 실행\n",
      "A클래스에서 만들어진 모든 인스턴스들에서 f가 총 999번 실행\n"
     ]
    }
   ],
   "source": [
    "a.f()"
   ]
  },
  {
   "cell_type": "code",
   "execution_count": 159,
   "id": "965bd13e-dfb3-4836-83c9-b6111f537115",
   "metadata": {},
   "outputs": [
    {
     "name": "stdout",
     "output_type": "stream",
     "text": [
      "현재 인스턴스에서 f가 3번 실행\n",
      "A클래스에서 만들어진 모든 인스턴스들에서 f가 총 6번 실행\n"
     ]
    }
   ],
   "source": [
    "b.f()"
   ]
  },
  {
   "cell_type": "code",
   "execution_count": 160,
   "id": "853d973f-10cc-497d-98d9-aa562d0b6577",
   "metadata": {},
   "outputs": [
    {
     "name": "stdout",
     "output_type": "stream",
     "text": [
      "현재 인스턴스에서 f가 4번 실행\n",
      "A클래스에서 만들어진 모든 인스턴스들에서 f가 총 7번 실행\n"
     ]
    }
   ],
   "source": [
    "b.f()"
   ]
  },
  {
   "cell_type": "code",
   "execution_count": 161,
   "id": "47bcc4c2-febf-454d-ab14-2000fa412d10",
   "metadata": {},
   "outputs": [
    {
     "name": "stdout",
     "output_type": "stream",
     "text": [
      "현재 인스턴스에서 f가 4번 실행\n",
      "A클래스에서 만들어진 모든 인스턴스들에서 f가 총 999번 실행\n"
     ]
    }
   ],
   "source": [
    "a.f()"
   ]
  },
  {
   "cell_type": "markdown",
   "id": "d90a00d0-7859-44a8-8e1f-aa140704eede",
   "metadata": {},
   "source": [
    "`-` 요약\n",
    "- 인스턴스에서 클래스 변수의 값을 변경하면? -> 클래스변수의 값이 변경되는 것이 아니라 인스턴스 변수가 새롭게 만들어져서 할당 된다.\n",
    "- 이 예제에서 a.y는 이제 클래스변수에서 인스턴스 변수로 재탄생 되었다. 즉, 999오브젝트가 새롭게 만들어져서 a.x라는 이름을 얻은것이다.\n",
    "- 기존의 A.y나 b.y에는 아무런 변화가 없다."
   ]
  },
  {
   "cell_type": "code",
   "execution_count": 162,
   "id": "94438724-7bfa-4bb4-8b3c-ae9ff1094a12",
   "metadata": {},
   "outputs": [
    {
     "data": {
      "text/plain": [
       "139914476320048"
      ]
     },
     "execution_count": 162,
     "metadata": {},
     "output_type": "execute_result"
    }
   ],
   "source": [
    "id(999) #999도 오브젝트임"
   ]
  },
  {
   "cell_type": "markdown",
   "id": "c512a76e-cfef-45b3-bb2a-e955334e8624",
   "metadata": {},
   "source": [
    "> a.y = 999 는 새로운 인스턴스 변수 y를 할당하는 역할을 한다. 클래스변수의 값을 변경하는 것이 아니다. (왜냐하면 애초에 a.y는 없는 값이었고, A.y를 빌리고 있었던 것임)"
   ]
  },
  {
   "cell_type": "code",
   "execution_count": 164,
   "id": "3ac94222-bf88-43fd-b118-71a612425344",
   "metadata": {},
   "outputs": [
    {
     "data": {
      "text/plain": [
       "{'x': 4, 'y': 999}"
      ]
     },
     "execution_count": 164,
     "metadata": {},
     "output_type": "execute_result"
    }
   ],
   "source": [
    "a.__dict__"
   ]
  },
  {
   "cell_type": "code",
   "execution_count": 165,
   "id": "1a764deb-c00a-4437-aa17-ca4b0432bc2e",
   "metadata": {},
   "outputs": [
    {
     "data": {
      "text/plain": [
       "{'x': 4}"
      ]
     },
     "execution_count": 165,
     "metadata": {},
     "output_type": "execute_result"
    }
   ],
   "source": [
    "b.__dict__"
   ]
  },
  {
   "cell_type": "markdown",
   "id": "76921faa-e4c0-4652-8ce3-90fee1416157",
   "metadata": {
    "tags": []
   },
   "source": [
    "### 예제5의 변형"
   ]
  },
  {
   "cell_type": "code",
   "execution_count": 171,
   "id": "82581344-c2fb-4af8-b14a-3dd5603af77a",
   "metadata": {},
   "outputs": [],
   "source": [
    "class A:\n",
    "    x=0\n",
    "    y=0\n",
    "    def f(self):\n",
    "        self.x=self.x + 1\n",
    "        A.y = A.y + 1\n",
    "        # self.y = self.y + 1 이렇게 안쓰고 위에처럼 써보자!\n",
    "        print(\"현재 인스턴스에서 f가 {}번 실행 (인스턴스레벨)\".format(self.x))\n",
    "        print(\"A클래스에서 만들어진 모든 인스턴스들에서 f가 총 {}번 실행 (클레스레벨)\".format(A.y))\n",
    "        print(\"A클래스에서 만들어진 모든 인스턴스들에서 f가 총 {}번 실행 (인스턴스레벨)\".format(self.y))\n"
   ]
  },
  {
   "cell_type": "code",
   "execution_count": 172,
   "id": "4ee21564-149f-499b-af7a-838926ac7105",
   "metadata": {},
   "outputs": [],
   "source": [
    "a=A()"
   ]
  },
  {
   "cell_type": "code",
   "execution_count": 173,
   "id": "125616b2-97a9-4a42-a8a7-2bdd4429f42a",
   "metadata": {},
   "outputs": [
    {
     "name": "stdout",
     "output_type": "stream",
     "text": [
      "현재 인스턴스에서 f가 1번 실행 (인스턴스레벨)\n",
      "A클래스에서 만들어진 모든 인스턴스들에서 f가 총 1번 실행 (클레스레벨)\n",
      "A클래스에서 만들어진 모든 인스턴스들에서 f가 총 1번 실행 (인스턴스레벨)\n"
     ]
    }
   ],
   "source": [
    "a.f()"
   ]
  },
  {
   "cell_type": "code",
   "execution_count": 174,
   "id": "39bd0ca0-fcf2-41ce-850b-bb0e52c9c7c1",
   "metadata": {},
   "outputs": [],
   "source": [
    "b=A()"
   ]
  },
  {
   "cell_type": "code",
   "execution_count": 175,
   "id": "74cf5530-42b4-413a-89ee-7a7286e8111b",
   "metadata": {},
   "outputs": [
    {
     "name": "stdout",
     "output_type": "stream",
     "text": [
      "현재 인스턴스에서 f가 1번 실행 (인스턴스레벨)\n",
      "A클래스에서 만들어진 모든 인스턴스들에서 f가 총 2번 실행 (클레스레벨)\n",
      "A클래스에서 만들어진 모든 인스턴스들에서 f가 총 2번 실행 (인스턴스레벨)\n"
     ]
    }
   ],
   "source": [
    "b.f()"
   ]
  },
  {
   "cell_type": "markdown",
   "id": "ad0e1d70-8509-45a8-8f61-28a591f5f758",
   "metadata": {},
   "source": [
    "`-` 시점1"
   ]
  },
  {
   "cell_type": "code",
   "execution_count": 176,
   "id": "d3e4abb3-ea60-4b7a-bdf4-6c5149caf414",
   "metadata": {},
   "outputs": [],
   "source": [
    "a.y = 999"
   ]
  },
  {
   "cell_type": "code",
   "execution_count": 177,
   "id": "d41bc919-3333-4036-a725-4bf9c96eea49",
   "metadata": {},
   "outputs": [
    {
     "name": "stdout",
     "output_type": "stream",
     "text": [
      "현재 인스턴스에서 f가 2번 실행 (인스턴스레벨)\n",
      "A클래스에서 만들어진 모든 인스턴스들에서 f가 총 3번 실행 (클레스레벨)\n",
      "A클래스에서 만들어진 모든 인스턴스들에서 f가 총 999번 실행 (인스턴스레벨)\n"
     ]
    }
   ],
   "source": [
    "a.f()"
   ]
  },
  {
   "cell_type": "code",
   "execution_count": 178,
   "id": "a9801e66-0021-4228-a876-61ab3d65e702",
   "metadata": {},
   "outputs": [
    {
     "name": "stdout",
     "output_type": "stream",
     "text": [
      "현재 인스턴스에서 f가 3번 실행 (인스턴스레벨)\n",
      "A클래스에서 만들어진 모든 인스턴스들에서 f가 총 4번 실행 (클레스레벨)\n",
      "A클래스에서 만들어진 모든 인스턴스들에서 f가 총 999번 실행 (인스턴스레벨)\n"
     ]
    }
   ],
   "source": [
    "a.f()"
   ]
  },
  {
   "cell_type": "markdown",
   "id": "5f44bfea-a548-48be-8e2d-270370dfebf4",
   "metadata": {},
   "source": [
    "### 예제6: 인스턴스 생성시점에 대한 분석"
   ]
  },
  {
   "cell_type": "markdown",
   "id": "ca2ee67b-9d0f-4d83-97d4-b7c8816ff724",
   "metadata": {},
   "source": [
    "`-` 의문: 아래의 코드에서 x는 클래스 변수라고 봐야할까? 인스턴스 변수라고 봐야할까?  ---> 클래스 변수!\n",
    "\n",
    "```python\n",
    "class SoWhaTV: \n",
    "    x=0   # 이 시점에서 x는 클래스변수인가? 아니면 인스턴스 변수인가?\n",
    "    def f(self):\n",
    "        print(self.x)\n",
    "```"
   ]
  },
  {
   "cell_type": "markdown",
   "id": "3bda2ef7-fda9-43a3-b7ad-58efbaa788a1",
   "metadata": {},
   "source": [
    "`-` 시점0"
   ]
  },
  {
   "cell_type": "code",
   "execution_count": 180,
   "id": "4c766366-a955-4cf8-8b6c-44b602e1fe4d",
   "metadata": {},
   "outputs": [],
   "source": [
    "class A:\n",
    "    x=0\n",
    "    y=0\n",
    "    def f(self):\n",
    "        self.x=self.x + 1\n",
    "        A.y = A.y + 1\n",
    "        # self.y = self.y + 1 이렇게 안쓰고 위에처럼 써보자!\n",
    "        print(\"현재 인스턴스에서 f가 {}번 실행 (인스턴스레벨)\".format(self.x))\n",
    "        print(\"A클래스에서 만들어진 모든 인스턴스들에서 f가 총 {}번 실행 (클레스레벨)\".format(A.y))\n",
    "        print(\"A클래스에서 만들어진 모든 인스턴스들에서 f가 총 {}번 실행 (인스턴스레벨)\".format(self.y))\n"
   ]
  },
  {
   "cell_type": "code",
   "execution_count": 181,
   "id": "08e563f5-8a22-4190-a7ed-780080dfabe1",
   "metadata": {},
   "outputs": [],
   "source": [
    "a=A()\n",
    "b=A()"
   ]
  },
  {
   "cell_type": "code",
   "execution_count": 182,
   "id": "d1ea6f39-18be-42b6-8692-26cb9d0488a2",
   "metadata": {},
   "outputs": [
    {
     "data": {
      "text/plain": [
       "(0, 0, 0, 0)"
      ]
     },
     "execution_count": 182,
     "metadata": {},
     "output_type": "execute_result"
    }
   ],
   "source": [
    "a.x, a.y, b.x, b.y"
   ]
  },
  {
   "cell_type": "code",
   "execution_count": 183,
   "id": "f56d3fec-b4ac-41e1-bc23-dc7bcfcf33ae",
   "metadata": {},
   "outputs": [
    {
     "data": {
      "text/plain": [
       "({}, {})"
      ]
     },
     "execution_count": 183,
     "metadata": {},
     "output_type": "execute_result"
    }
   ],
   "source": [
    "a.__dict__, b.__dict__"
   ]
  },
  {
   "cell_type": "markdown",
   "id": "a052d546-873c-4bb0-9bbf-73f0c7f2a291",
   "metadata": {},
   "source": [
    "- 지금 시점에서 a.x, a.y, b.x, b.y는 모두 클래스 변수임"
   ]
  },
  {
   "cell_type": "markdown",
   "id": "267e84ef-59f0-4f68-84cc-e85e79f12516",
   "metadata": {},
   "source": [
    "`-` 시점1"
   ]
  },
  {
   "cell_type": "code",
   "execution_count": 184,
   "id": "af845f0e-5fd8-4eb3-ba95-3f426c95d0bb",
   "metadata": {},
   "outputs": [
    {
     "name": "stdout",
     "output_type": "stream",
     "text": [
      "현재 인스턴스에서 f가 1번 실행 (인스턴스레벨)\n",
      "A클래스에서 만들어진 모든 인스턴스들에서 f가 총 1번 실행 (클레스레벨)\n",
      "A클래스에서 만들어진 모든 인스턴스들에서 f가 총 1번 실행 (인스턴스레벨)\n"
     ]
    }
   ],
   "source": [
    "a.f()"
   ]
  },
  {
   "cell_type": "code",
   "execution_count": 185,
   "id": "3800937d-cda3-4cb5-a8ce-91f8a4a989e1",
   "metadata": {},
   "outputs": [
    {
     "data": {
      "text/plain": [
       "({'x': 1}, {})"
      ]
     },
     "execution_count": 185,
     "metadata": {},
     "output_type": "execute_result"
    }
   ],
   "source": [
    "a.__dict__, b.__dict__"
   ]
  },
  {
   "cell_type": "markdown",
   "id": "bab7da98-8c6a-4005-a6ba-d524708ec881",
   "metadata": {},
   "source": [
    "- 이 순간 a.x가 클래스변수에서 인스턴스 변수로 변경되었다. (예제5와 같이..) 왜? f가 실행되면서 self.x = self.x + 1이 실행되었으므로!"
   ]
  },
  {
   "cell_type": "markdown",
   "id": "5e0dbf5d-ed07-42ed-92ab-5a06408c024f",
   "metadata": {},
   "source": [
    "`-` 시점2"
   ]
  },
  {
   "cell_type": "code",
   "execution_count": 186,
   "id": "53b0e067-c205-40f4-b891-565b84075ead",
   "metadata": {},
   "outputs": [
    {
     "name": "stdout",
     "output_type": "stream",
     "text": [
      "현재 인스턴스에서 f가 1번 실행 (인스턴스레벨)\n",
      "A클래스에서 만들어진 모든 인스턴스들에서 f가 총 2번 실행 (클레스레벨)\n",
      "A클래스에서 만들어진 모든 인스턴스들에서 f가 총 2번 실행 (인스턴스레벨)\n"
     ]
    }
   ],
   "source": [
    "b.f()"
   ]
  },
  {
   "cell_type": "code",
   "execution_count": 187,
   "id": "5f1f57f4-8ebe-4822-b6b7-412425c08f9b",
   "metadata": {},
   "outputs": [
    {
     "data": {
      "text/plain": [
       "({'x': 1}, {'x': 1})"
      ]
     },
     "execution_count": 187,
     "metadata": {},
     "output_type": "execute_result"
    }
   ],
   "source": [
    "a.__dict__, b.__dict__"
   ]
  },
  {
   "cell_type": "markdown",
   "id": "cf6ff825-71cb-4cc3-a94f-300799aa4b41",
   "metadata": {},
   "source": [
    "### 예제7: 잘못된 사용"
   ]
  },
  {
   "cell_type": "markdown",
   "id": "70e8623f-00d5-4aa7-b460-d5f24d52d871",
   "metadata": {},
   "source": [
    "`-` 아래처럼 코드를 바꾸면 어떻게 되는가?"
   ]
  },
  {
   "cell_type": "code",
   "execution_count": 188,
   "id": "6e4ffa63-97d1-49e2-a88d-5293fe9b8f5b",
   "metadata": {},
   "outputs": [],
   "source": [
    "class A:\n",
    "    def __init__(self):\n",
    "        self.x=0 # 인스턴스 변수로 나중에 쓸꺼니까 명시함\n",
    "        A.y=0  # 클래스변수로 나중에 쓸꺼니까 명시함\n",
    "    def f(self):\n",
    "        self.x=self.x + 1\n",
    "        A.y = A.y + 1\n",
    "        # self.y = self.y + 1 이렇게 안쓰고 위에처럼 써보자!\n",
    "        print(\"현재 인스턴스에서 f가 {}번 실행 (인스턴스레벨)\".format(self.x))\n",
    "        print(\"A클래스에서 만들어진 모든 인스턴스들에서 f가 총 {}번 실행 (클레스레벨)\".format(A.y))\n",
    "        #print(\"A클래스에서 만들어진 모든 인스턴스들에서 f가 총 {}번 실행 (인스턴스레벨)\".format(self.y))\n"
   ]
  },
  {
   "cell_type": "markdown",
   "id": "317bc1ac-62b9-4eee-af9d-2350edd03741",
   "metadata": {},
   "source": [
    "`-` 사용"
   ]
  },
  {
   "cell_type": "code",
   "execution_count": 189,
   "id": "4fa7cb86-89f0-463a-bb49-85ce4f144b01",
   "metadata": {},
   "outputs": [],
   "source": [
    "a=A()\n",
    "b=A()"
   ]
  },
  {
   "cell_type": "code",
   "execution_count": 190,
   "id": "96a2d532-0a0a-40b1-bced-9da3ec7b017a",
   "metadata": {},
   "outputs": [
    {
     "name": "stdout",
     "output_type": "stream",
     "text": [
      "현재 인스턴스에서 f가 1번 실행 (인스턴스레벨)\n",
      "A클래스에서 만들어진 모든 인스턴스들에서 f가 총 1번 실행 (클레스레벨)\n"
     ]
    }
   ],
   "source": [
    "a.f()"
   ]
  },
  {
   "cell_type": "code",
   "execution_count": 191,
   "id": "7c962bb6-1764-4c12-b61c-eee8f59a7828",
   "metadata": {},
   "outputs": [
    {
     "name": "stdout",
     "output_type": "stream",
     "text": [
      "현재 인스턴스에서 f가 1번 실행 (인스턴스레벨)\n",
      "A클래스에서 만들어진 모든 인스턴스들에서 f가 총 2번 실행 (클레스레벨)\n"
     ]
    }
   ],
   "source": [
    "b.f()"
   ]
  },
  {
   "cell_type": "code",
   "execution_count": 192,
   "id": "c9a72c05-058b-4ff6-809a-3267a1633895",
   "metadata": {},
   "outputs": [
    {
     "name": "stdout",
     "output_type": "stream",
     "text": [
      "현재 인스턴스에서 f가 2번 실행 (인스턴스레벨)\n",
      "A클래스에서 만들어진 모든 인스턴스들에서 f가 총 3번 실행 (클레스레벨)\n"
     ]
    }
   ],
   "source": [
    "b.f()"
   ]
  },
  {
   "cell_type": "code",
   "execution_count": 193,
   "id": "796ac23a-ad04-473d-ad8c-18e1f48a8060",
   "metadata": {},
   "outputs": [
    {
     "name": "stdout",
     "output_type": "stream",
     "text": [
      "현재 인스턴스에서 f가 3번 실행 (인스턴스레벨)\n",
      "A클래스에서 만들어진 모든 인스턴스들에서 f가 총 4번 실행 (클레스레벨)\n"
     ]
    }
   ],
   "source": [
    "b.f()"
   ]
  },
  {
   "cell_type": "code",
   "execution_count": 194,
   "id": "a04bf301-2959-41ff-8d24-680eb1c49855",
   "metadata": {},
   "outputs": [
    {
     "name": "stdout",
     "output_type": "stream",
     "text": [
      "현재 인스턴스에서 f가 2번 실행 (인스턴스레벨)\n",
      "A클래스에서 만들어진 모든 인스턴스들에서 f가 총 5번 실행 (클레스레벨)\n"
     ]
    }
   ],
   "source": [
    "a.f()"
   ]
  },
  {
   "cell_type": "markdown",
   "id": "d03d2a2b-8f7f-4099-9726-38486478619a",
   "metadata": {},
   "source": [
    "`-` 잘 되는 것 같다?"
   ]
  },
  {
   "cell_type": "markdown",
   "id": "7acb8a62-0e71-4d02-8253-562ae1aeacf9",
   "metadata": {},
   "source": [
    "`-` 조금만 생각해보면 엉터리라는 것을 알 수 있다. 아래를 관찰하자."
   ]
  },
  {
   "cell_type": "code",
   "execution_count": 197,
   "id": "2260fd8b-bc20-4a3f-83bd-fda070732a8f",
   "metadata": {},
   "outputs": [],
   "source": [
    "c=A()   # 이 시점에서 __init__()이 실행된다"
   ]
  },
  {
   "cell_type": "code",
   "execution_count": 196,
   "id": "ef111e78-507e-4503-a0a2-2379c6d63817",
   "metadata": {},
   "outputs": [
    {
     "name": "stdout",
     "output_type": "stream",
     "text": [
      "현재 인스턴스에서 f가 3번 실행 (인스턴스레벨)\n",
      "A클래스에서 만들어진 모든 인스턴스들에서 f가 총 1번 실행 (클레스레벨)\n"
     ]
    }
   ],
   "source": [
    "a.f()"
   ]
  },
  {
   "cell_type": "markdown",
   "id": "1a951d81-97e5-49b9-aa28-91d164b06899",
   "metadata": {},
   "source": [
    "- 클래스 레벨의 변수가 왜 초기화가 되었지?"
   ]
  },
  {
   "cell_type": "markdown",
   "id": "e6a68d80-8a6d-48ca-8cee-9979b3de71dd",
   "metadata": {},
   "source": [
    "`-` 오류의 이유? c=A()가 실행되는 시점에 `__init__()`이 실행되면서 `A.y=0`이 실행된다. 따라서 강제 초기화가 진행되었다."
   ]
  },
  {
   "cell_type": "code",
   "execution_count": null,
   "id": "5a29cc41-8608-42be-8185-f587d68ff05c",
   "metadata": {},
   "outputs": [],
   "source": [
    "ㅇ"
   ]
  }
 ],
 "metadata": {
  "kernelspec": {
   "display_name": "Python 3",
   "language": "python",
   "name": "python3"
  },
  "language_info": {
   "codemirror_mode": {
    "name": "ipython",
    "version": 3
   },
   "file_extension": ".py",
   "mimetype": "text/x-python",
   "name": "python",
   "nbconvert_exporter": "python",
   "pygments_lexer": "ipython3",
   "version": "3.7.16"
  }
 },
 "nbformat": 4,
 "nbformat_minor": 5
}
