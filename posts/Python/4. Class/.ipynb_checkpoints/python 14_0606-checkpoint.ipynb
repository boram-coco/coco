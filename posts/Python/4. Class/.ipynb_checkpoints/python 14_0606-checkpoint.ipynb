{
 "cells": [
  {
   "cell_type": "raw",
   "id": "e1beb218-4d12-49ea-aedd-cc7daf1126bb",
   "metadata": {},
   "source": [
    "---\n",
    "title: \"파이썬 (0606) 14주차 \"\n",
    "author: \"김보람\"\n",
    "date: \"06/06/2022\"\n",
    "categories:\n",
    "  - 클래스\n",
    "---"
   ]
  },
  {
   "cell_type": "code",
   "execution_count": 119,
   "id": "79e5f7b6-b9db-4681-b35e-e2e63ffd6eb2",
   "metadata": {},
   "outputs": [],
   "source": [
    "import numpy as np\n",
    "import matplotlib.pyplot as plt\n",
    "import pandas as pd"
   ]
  },
  {
   "cell_type": "markdown",
   "id": "5cba69db-1efe-4d01-ae11-42b230bce7c1",
   "metadata": {},
   "source": [
    "## 클래스공부 7단계"
   ]
  },
  {
   "cell_type": "markdown",
   "id": "15ca84e5-a4c9-420f-bbfd-424e70f398fc",
   "metadata": {},
   "source": [
    "### 함수공부"
   ]
  },
  {
   "cell_type": "markdown",
   "id": "b9dda74b-6e0d-4419-9a44-01bd4964fc3f",
   "metadata": {},
   "source": [
    "`-` 다시 함수를 공부해보자"
   ]
  },
  {
   "cell_type": "code",
   "execution_count": 2,
   "id": "021b38df-65ea-464c-9961-e9aca1c3796e",
   "metadata": {},
   "outputs": [],
   "source": [
    "def f(x):\n",
    "    return x+1"
   ]
  },
  {
   "cell_type": "code",
   "execution_count": 3,
   "id": "e9191a7e-c3da-4edf-985a-8de1f03eb392",
   "metadata": {},
   "outputs": [
    {
     "data": {
      "text/plain": [
       "4"
      ]
     },
     "execution_count": 3,
     "metadata": {},
     "output_type": "execute_result"
    }
   ],
   "source": [
    "f(3)"
   ]
  },
  {
   "cell_type": "markdown",
   "id": "5af031de-8c6a-498d-a867-eacd03f20022",
   "metadata": {},
   "source": [
    "`-` 함수의 사용방법?\n",
    "- 입력으로 변수 x를 받음 = 입력으로 인스턴스 x를 받음\n",
    "- 출력으로 변수 x+1을 리턴 = 출력으로 인스턴스 x+1을 리턴"
   ]
  },
  {
   "cell_type": "markdown",
   "id": "b0122861-ef0c-4d81-9d6b-3d9c4d8c1164",
   "metadata": {},
   "source": [
    "`-` 사실1: 파이썬에서 함수는 인스턴스를 입력으로 받고 인스턴스를 출력한다."
   ]
  },
  {
   "cell_type": "markdown",
   "id": "28e1f8ef-843f-481f-87f4-6cf29b79a403",
   "metadata": {},
   "source": [
    "`-` 함수의 자료형?"
   ]
  },
  {
   "cell_type": "code",
   "execution_count": 5,
   "id": "51094d83-8887-4198-a905-e3a76b0fb075",
   "metadata": {},
   "outputs": [
    {
     "data": {
      "text/plain": [
       "<function __main__.f(x)>"
      ]
     },
     "execution_count": 5,
     "metadata": {},
     "output_type": "execute_result"
    }
   ],
   "source": [
    "f"
   ]
  },
  {
   "cell_type": "code",
   "execution_count": 6,
   "id": "0d20fab9-172b-434d-a1c3-d31c1befd44b",
   "metadata": {},
   "outputs": [
    {
     "data": {
      "text/plain": [
       "\u001b[0;31mSignature:\u001b[0m \u001b[0mf\u001b[0m\u001b[0;34m(\u001b[0m\u001b[0mx\u001b[0m\u001b[0;34m)\u001b[0m\u001b[0;34m\u001b[0m\u001b[0;34m\u001b[0m\u001b[0m\n",
       "\u001b[0;31mDocstring:\u001b[0m <no docstring>\n",
       "\u001b[0;31mFile:\u001b[0m      ~/Dropbox/coco/posts/python/<ipython-input-2-9897bae5f29b>\n",
       "\u001b[0;31mType:\u001b[0m      function\n"
      ]
     },
     "metadata": {},
     "output_type": "display_data"
    }
   ],
   "source": [
    "?f"
   ]
  },
  {
   "cell_type": "markdown",
   "id": "5e5f2287-4f28-476f-8e6b-263870716db2",
   "metadata": {},
   "source": [
    "- type이 function 이다.\n",
    "- f는 function 의 class의 instance이다.\n",
    "- 결국 f도 하나의 오브젝트에 불과하다."
   ]
  },
  {
   "cell_type": "markdown",
   "id": "fa8b8cda-9c65-4bb5-9af1-61d9be3b44ab",
   "metadata": {},
   "source": [
    "`-` 사실2: 함수도 결국 인스턴스이다. -> 함수의 입력으로 함수를 쓸 수도 있고 함수의 출력으로 함수가 나올 수도 있다."
   ]
  },
  {
   "cell_type": "markdown",
   "id": "1ea3be92-9218-4ed0-9450-a11d37608bf1",
   "metadata": {},
   "source": [
    "### 함수형 프로그래밍"
   ]
  },
  {
   "cell_type": "markdown",
   "id": "f32ba9d5-3152-4fc3-be9b-884c4606d9b2",
   "metadata": {},
   "source": [
    "(예제1) 숫자입력, 함수출력"
   ]
  },
  {
   "cell_type": "code",
   "execution_count": 7,
   "id": "4990d1f4-aa21-4bba-97e8-381c59f9e1f6",
   "metadata": {},
   "outputs": [],
   "source": [
    "def f(a):\n",
    "    def _f(x):\n",
    "        return (x-a)**2\n",
    "    return _f"
   ]
  },
  {
   "cell_type": "code",
   "execution_count": 10,
   "id": "abcc2197-d807-4cd3-b927-d8382a0cdef9",
   "metadata": {},
   "outputs": [],
   "source": [
    "g=f(10)    # g(x) = (x-10)**2"
   ]
  },
  {
   "cell_type": "code",
   "execution_count": 11,
   "id": "52345faf-eafb-4b54-8aba-a18141fef81a",
   "metadata": {},
   "outputs": [
    {
     "data": {
      "text/plain": [
       "64"
      ]
     },
     "execution_count": 11,
     "metadata": {},
     "output_type": "execute_result"
    }
   ],
   "source": [
    "g(2)    # (8)**2"
   ]
  },
  {
   "cell_type": "markdown",
   "id": "45fe374d-b63e-40e0-b1d5-b98f8286d76c",
   "metadata": {},
   "source": [
    "- 해석: f(a)는 a를 입력으로 받고 g(x) = (x-a)^2 함수를 리턴해주는 함수"
   ]
  },
  {
   "cell_type": "markdown",
   "id": "2c0f7fd5-f2e0-4582-97c6-8def9d4171c5",
   "metadata": {},
   "source": [
    "(예제1)의 다른표현: 익명함수 lambda"
   ]
  },
  {
   "cell_type": "markdown",
   "id": "4035bca3-fd16-4caf-bc85-409be103a84e",
   "metadata": {},
   "source": [
    "표현1"
   ]
  },
  {
   "cell_type": "code",
   "execution_count": 17,
   "id": "c6900f6c-2769-4828-86c0-37845e3287d4",
   "metadata": {},
   "outputs": [],
   "source": [
    "def f(a):\n",
    "    _f = lambda x: (x-a)**2   # lambda x : (x-a)**2 가 실행되는 순간 함수오브젝트가 만들어지고 그것이 _f로 저장됨\n",
    "    return _f"
   ]
  },
  {
   "cell_type": "code",
   "execution_count": 18,
   "id": "c247f257-e450-4293-899c-04d968d38356",
   "metadata": {},
   "outputs": [],
   "source": [
    "g=f(10)    # g(x) = (x-10)**2"
   ]
  },
  {
   "cell_type": "code",
   "execution_count": 19,
   "id": "6f14ff11-3a27-4c87-b7d1-73039a6704d7",
   "metadata": {},
   "outputs": [
    {
     "data": {
      "text/plain": [
       "64"
      ]
     },
     "execution_count": 19,
     "metadata": {},
     "output_type": "execute_result"
    }
   ],
   "source": [
    "g(2)"
   ]
  },
  {
   "cell_type": "markdown",
   "id": "1de89bd1-2543-4b57-8ff9-eba6bb5db0a4",
   "metadata": {},
   "source": [
    "표현2"
   ]
  },
  {
   "cell_type": "code",
   "execution_count": 20,
   "id": "0c86e389-0ccc-4d4a-81e4-e97477dc3200",
   "metadata": {},
   "outputs": [],
   "source": [
    "def f(a):\n",
    "    return lambda x: (x-a)**2"
   ]
  },
  {
   "cell_type": "code",
   "execution_count": 21,
   "id": "a0956c62-edb3-4646-af25-2270703b526f",
   "metadata": {},
   "outputs": [],
   "source": [
    "g=f(10)    # g(x) = (x-10)**2"
   ]
  },
  {
   "cell_type": "code",
   "execution_count": 22,
   "id": "1ca3e6ad-6080-4698-8990-56757155d8f8",
   "metadata": {},
   "outputs": [
    {
     "data": {
      "text/plain": [
       "64"
      ]
     },
     "execution_count": 22,
     "metadata": {},
     "output_type": "execute_result"
    }
   ],
   "source": [
    "g(2)"
   ]
  },
  {
   "cell_type": "markdown",
   "id": "34763f11-55f8-4ffa-b0f7-72d36b0a558e",
   "metadata": {},
   "source": [
    "- `lambda x: (x-a)**2` 는 $\\text{lambda}(x) = (x-a)^2$ 의 느낌으로 기억하면 쉽다.\n",
    "- `lambda x: (x-a)**2` 는 \"아직 이름이 없는 함수 오브젝트를 (가칭 lmabda라고 하자) 만들고 기능은 x를 입력으로 하고 (x-a)**2를 출력하도록 하자\" 라는 뜻이로 해석"
   ]
  },
  {
   "cell_type": "code",
   "execution_count": 24,
   "id": "d9ff4ae6-2526-45d8-a175-c8fd769a8cb6",
   "metadata": {},
   "outputs": [
    {
     "data": {
      "text/plain": [
       "True"
      ]
     },
     "execution_count": 24,
     "metadata": {},
     "output_type": "execute_result"
    }
   ],
   "source": [
    "(lambda x,y : x<y)(2,3)"
   ]
  },
  {
   "cell_type": "code",
   "execution_count": 26,
   "id": "537127ff-e196-4b12-aa45-4243d86abddd",
   "metadata": {},
   "outputs": [
    {
     "data": {
      "text/plain": [
       "True"
      ]
     },
     "execution_count": 26,
     "metadata": {},
     "output_type": "execute_result"
    }
   ],
   "source": [
    "f=lambda x,y : x<y   # 위와 같은 코드\n",
    "f(2,3)"
   ]
  },
  {
   "cell_type": "markdown",
   "id": "67752983-d3e1-48dc-a73a-c1eaf929c6e4",
   "metadata": {},
   "source": [
    "(예제2) 함수입력, 숫자출력"
   ]
  },
  {
   "cell_type": "code",
   "execution_count": 27,
   "id": "3b9b1e90-d762-4cf0-91b5-b5bd14897b6f",
   "metadata": {},
   "outputs": [],
   "source": [
    "def f(x):\n",
    "    return x**2"
   ]
  },
  {
   "cell_type": "code",
   "execution_count": 28,
   "id": "103175e7-2395-4544-bcbf-2cf84949481f",
   "metadata": {},
   "outputs": [
    {
     "data": {
      "text/plain": [
       "9"
      ]
     },
     "execution_count": 28,
     "metadata": {},
     "output_type": "execute_result"
    }
   ],
   "source": [
    "f(3)"
   ]
  },
  {
   "cell_type": "code",
   "execution_count": 31,
   "id": "d20ab30a-7714-49c1-8f20-79423d80661d",
   "metadata": {},
   "outputs": [],
   "source": [
    "def d(f,x):    # 함수를 입력을 받는 함수를 정의\n",
    "    h=0.0000000000001\n",
    "    return (f(x+h)-f(x)) / h"
   ]
  },
  {
   "cell_type": "markdown",
   "id": "d721c5b2-57ff-48d2-8ed8-57a4734a3677",
   "metadata": {},
   "source": [
    "$$f'(x)\\approx \\frac{f(x+h)-f(x)}{h}$$"
   ]
  },
  {
   "cell_type": "markdown",
   "id": "cbf46401-f128-473b-b82e-2e91dd8ea9b5",
   "metadata": {},
   "source": [
    "- $h$ 의 값이 점점 0에 가까울수록 등호에 가까워짐"
   ]
  },
  {
   "cell_type": "code",
   "execution_count": 32,
   "id": "b516932b-27f4-495c-906c-f6c3b13606c7",
   "metadata": {},
   "outputs": [
    {
     "data": {
      "text/plain": [
       "8.029132914089132"
      ]
     },
     "execution_count": 32,
     "metadata": {},
     "output_type": "execute_result"
    }
   ],
   "source": [
    "d(f,4)   # f'(4) = 2*4 = 8"
   ]
  },
  {
   "cell_type": "markdown",
   "id": "924a7633-ab7a-4710-95a6-8fd0337d3bd4",
   "metadata": {},
   "source": [
    "(예제3) 함수입력, 함수출력"
   ]
  },
  {
   "cell_type": "code",
   "execution_count": 42,
   "id": "d7025e28-cfb8-47ec-b821-c432254709a4",
   "metadata": {},
   "outputs": [],
   "source": [
    "def f(x):\n",
    "    return x**2"
   ]
  },
  {
   "cell_type": "code",
   "execution_count": 46,
   "id": "66d21991-f758-4687-b713-f127b44b7d60",
   "metadata": {},
   "outputs": [],
   "source": [
    "def derivate(f):\n",
    "    def df(x):\n",
    "        h=0.0000000000001\n",
    "        return (f(x+h)-f(x)) / h\n",
    "    return df"
   ]
  },
  {
   "cell_type": "code",
   "execution_count": 47,
   "id": "d2154483-a64c-4e55-83c2-1470ccee32ed",
   "metadata": {},
   "outputs": [],
   "source": [
    "ff = derivate(f)  # f미분"
   ]
  },
  {
   "cell_type": "code",
   "execution_count": 49,
   "id": "c79ba583-0f24-43d7-aa84-1b745ae9f087",
   "metadata": {},
   "outputs": [
    {
     "data": {
      "text/plain": [
       "19.895196601282805"
      ]
     },
     "execution_count": 49,
     "metadata": {},
     "output_type": "execute_result"
    }
   ],
   "source": [
    "ff(10)  #f의 도함수"
   ]
  },
  {
   "cell_type": "markdown",
   "id": "8638d428-7b35-4eb3-8f09-a8d44596f436",
   "metadata": {},
   "source": [
    "**원래함수 시각화**"
   ]
  },
  {
   "cell_type": "code",
   "execution_count": 50,
   "id": "e0c59338-dab7-4dfd-af72-5bd2727babb1",
   "metadata": {},
   "outputs": [
    {
     "data": {
      "text/plain": [
       "[<matplotlib.lines.Line2D at 0x7f4b7dc61c50>]"
      ]
     },
     "execution_count": 50,
     "metadata": {},
     "output_type": "execute_result"
    },
    {
     "data": {
      "image/png": "[encoded data removed]",
      "text/plain": [
       "<Figure size 432x288 with 1 Axes>"
      ]
     },
     "metadata": {
      "needs_background": "light"
     },
     "output_type": "display_data"
    }
   ],
   "source": [
    "x=np.linspace(-1,1,100)\n",
    "plt.plot(x,f(x))"
   ]
  },
  {
   "cell_type": "markdown",
   "id": "c82ce977-0360-4136-a614-ebed1fd2c062",
   "metadata": {},
   "source": [
    "**도함수 시각화**"
   ]
  },
  {
   "cell_type": "code",
   "execution_count": 52,
   "id": "473b1340-c02a-4ceb-99cf-92c8e14d6749",
   "metadata": {},
   "outputs": [
    {
     "data": {
      "text/plain": [
       "[<matplotlib.lines.Line2D at 0x7f4b7d8e80d0>]"
      ]
     },
     "execution_count": 52,
     "metadata": {},
     "output_type": "execute_result"
    },
    {
     "data": {
      "image/png": "[encoded data removed]",
      "text/plain": [
       "<Figure size 432x288 with 1 Axes>"
      ]
     },
     "metadata": {
      "needs_background": "light"
     },
     "output_type": "display_data"
    }
   ],
   "source": [
    "x=np.linspace(-1,1,100)\n",
    "plt.plot(x,ff(x))"
   ]
  },
  {
   "cell_type": "markdown",
   "id": "e280fa8b-7f93-4ca1-9128-cc9195a08e46",
   "metadata": {},
   "source": [
    "(예제3)의 다른표현"
   ]
  },
  {
   "cell_type": "code",
   "execution_count": 53,
   "id": "9c4bc3bc-4fa0-46e9-ad1f-ab38bf276ee8",
   "metadata": {},
   "outputs": [],
   "source": [
    "def f(x):\n",
    "    return x**2"
   ]
  },
  {
   "cell_type": "code",
   "execution_count": 54,
   "id": "aa3b6c4c-79f8-4361-be3b-6f73465fb606",
   "metadata": {},
   "outputs": [],
   "source": [
    "def derivate(f):\n",
    "    h=0.0000000000001\n",
    "    return lambda x:(f(x+h)-f(x)) / h"
   ]
  },
  {
   "cell_type": "code",
   "execution_count": 55,
   "id": "a01d5965-5def-4855-92a6-444af0efcf80",
   "metadata": {},
   "outputs": [],
   "source": [
    "ff=derivate(f)"
   ]
  },
  {
   "cell_type": "code",
   "execution_count": 56,
   "id": "9c7339dc-b9b8-423a-8cec-edd50ce54a32",
   "metadata": {},
   "outputs": [
    {
     "data": {
      "text/plain": [
       "19.895196601282805"
      ]
     },
     "execution_count": 56,
     "metadata": {},
     "output_type": "execute_result"
    }
   ],
   "source": [
    "ff(10)"
   ]
  },
  {
   "cell_type": "markdown",
   "id": "9545254f-421d-4cb7-b870-19e121c574ad",
   "metadata": {},
   "source": [
    "(예제4) 함수들의 리스트"
   ]
  },
  {
   "cell_type": "code",
   "execution_count": 58,
   "id": "a5da4d86-2abc-4b70-a0ec-7423d3c03fac",
   "metadata": {},
   "outputs": [],
   "source": [
    "# # 리스트의 컴마 컴마 안에 들어갈 수 있는것은 \n",
    "# [인스턴스, 인스턴스, 인스턴스]\n",
    "# [오브젝트, 오브젝트, 오브젝트]\n",
    "# [함수오브젝트, 함수오브젝트, 함수오브젝트]\n",
    "# # ...."
   ]
  },
  {
   "cell_type": "code",
   "execution_count": 59,
   "id": "1f6c0825-537e-41f6-8850-78387a6e4f41",
   "metadata": {},
   "outputs": [
    {
     "data": {
      "text/plain": [
       "[<function __main__.<lambda>(x)>,\n",
       " <function __main__.<lambda>(x)>,\n",
       " <function __main__.<lambda>(x)>]"
      ]
     },
     "execution_count": 59,
     "metadata": {},
     "output_type": "execute_result"
    }
   ],
   "source": [
    "flst = [lambda x:x, lambda x:x**2, lambda x:x**3]\n",
    "flst"
   ]
  },
  {
   "cell_type": "code",
   "execution_count": 60,
   "id": "4eb7f09a-2372-40c3-aa80-2ce2d4cf8609",
   "metadata": {},
   "outputs": [
    {
     "name": "stdout",
     "output_type": "stream",
     "text": [
      "2\n",
      "4\n",
      "8\n"
     ]
    }
   ],
   "source": [
    "for f in flst:\n",
    "    print(f(2))"
   ]
  },
  {
   "cell_type": "code",
   "execution_count": 61,
   "id": "605cf563-d387-4994-99c3-3ed27bea31f5",
   "metadata": {},
   "outputs": [
    {
     "data": {
      "image/png": "[encoded data removed]",
      "text/plain": [
       "<Figure size 432x288 with 1 Axes>"
      ]
     },
     "metadata": {
      "needs_background": "light"
     },
     "output_type": "display_data"
    }
   ],
   "source": [
    "for f in flst:\n",
    "    plt.plot(x,f(x),'--')"
   ]
  },
  {
   "cell_type": "markdown",
   "id": "c870401f-753a-492f-a1fd-0eda3276a7de",
   "metadata": {},
   "source": [
    "위 아래 동일"
   ]
  },
  {
   "cell_type": "code",
   "execution_count": 65,
   "id": "16ec40a0-d45f-40b2-8109-cbd8b99cfc88",
   "metadata": {},
   "outputs": [
    {
     "data": {
      "text/plain": [
       "[<matplotlib.lines.Line2D at 0x7f4b7d735490>]"
      ]
     },
     "execution_count": 65,
     "metadata": {},
     "output_type": "execute_result"
    },
    {
     "data": {
      "image/png": "[encoded data removed]",
      "text/plain": [
       "<Figure size 432x288 with 1 Axes>"
      ]
     },
     "metadata": {
      "needs_background": "light"
     },
     "output_type": "display_data"
    }
   ],
   "source": [
    "plt.plot(x, (lambda x:x)(x),'--')\n",
    "plt.plot(x, (lambda x:x**2)(x),'--')\n",
    "plt.plot(x, (lambda x:x**3)(x),'--')"
   ]
  },
  {
   "cell_type": "markdown",
   "id": "1446ceeb-1aa5-4902-be36-c521e56c45e0",
   "metadata": {},
   "source": [
    "### 정리"
   ]
  },
  {
   "cell_type": "markdown",
   "id": "a4f52052-41c2-4e7f-ae1c-4ad67dc1f18e",
   "metadata": {},
   "source": [
    "`-` 지금까지 개념\n",
    "- 함수: 변수를 입력으로 받아서 변수를 출력하는 개념\n",
    "- 변수: 어떠한 값을 저장하는 용도로 쓰이거나 함수의 입력 혹은 출력으로 사용함"
   ]
  },
  {
   "cell_type": "markdown",
   "id": "c8b898da-bc65-47ba-a8ad-cd256df5046c",
   "metadata": {},
   "source": [
    "`-` 파이썬의 함수형프로그래밍을 잘하려면?\n",
    "- 변수든 함수든 둘다 인스턴스임\n",
    "- 변수를 함수처럼: 메소드\n",
    "- 함수를 변수처럼($\\star$) : 함수자체를 함수의 입력으로 혹은 출력으로 쓸 수도 있음. 함수를 특정 값처럼 생각해서 함수들의 list를 만들 수도 있다."
   ]
  },
  {
   "cell_type": "markdown",
   "id": "8d8e5338-3107-4d81-9bf8-47d4fa28bdb9",
   "metadata": {},
   "source": [
    "### collable object"
   ]
  },
  {
   "cell_type": "markdown",
   "id": "bbfd5ff2-5bc2-45e4-8c82-fbe84927ef57",
   "metadata": {},
   "source": [
    "`-` 함수 오브젝트의 비밀?"
   ]
  },
  {
   "cell_type": "code",
   "execution_count": 66,
   "id": "1aaae659-440c-4dd0-968d-a7b56e871814",
   "metadata": {},
   "outputs": [],
   "source": [
    "f = lambda x: x+1"
   ]
  },
  {
   "cell_type": "code",
   "execution_count": 68,
   "id": "9d23517b-84fd-4aa5-a030-f842e212c764",
   "metadata": {},
   "outputs": [
    {
     "data": {
      "text/plain": [
       "5"
      ]
     },
     "execution_count": 68,
     "metadata": {},
     "output_type": "execute_result"
    }
   ],
   "source": [
    "f(4)"
   ]
  },
  {
   "cell_type": "code",
   "execution_count": 69,
   "id": "1b24a760-2f4a-4e29-9f38-2f798c7219e5",
   "metadata": {},
   "outputs": [
    {
     "data": {
      "text/plain": [
       "\u001b[0;31mSignature:\u001b[0m \u001b[0mf\u001b[0m\u001b[0;34m(\u001b[0m\u001b[0mx\u001b[0m\u001b[0;34m)\u001b[0m\u001b[0;34m\u001b[0m\u001b[0;34m\u001b[0m\u001b[0m\n",
       "\u001b[0;31mDocstring:\u001b[0m <no docstring>\n",
       "\u001b[0;31mFile:\u001b[0m      ~/Dropbox/coco/posts/python/<ipython-input-66-1a55436594c9>\n",
       "\u001b[0;31mType:\u001b[0m      function\n"
      ]
     },
     "metadata": {},
     "output_type": "display_data"
    }
   ],
   "source": [
    "?f"
   ]
  },
  {
   "cell_type": "code",
   "execution_count": 70,
   "id": "36366407-0709-4448-935c-8d96bb558673",
   "metadata": {},
   "outputs": [
    {
     "data": {
      "text/plain": [
       "['__annotations__',\n",
       " '__call__',\n",
       " '__class__',\n",
       " '__closure__',\n",
       " '__code__',\n",
       " '__defaults__',\n",
       " '__delattr__',\n",
       " '__dict__',\n",
       " '__dir__',\n",
       " '__doc__',\n",
       " '__eq__',\n",
       " '__format__',\n",
       " '__ge__',\n",
       " '__get__',\n",
       " '__getattribute__',\n",
       " '__globals__',\n",
       " '__gt__',\n",
       " '__hash__',\n",
       " '__init__',\n",
       " '__init_subclass__',\n",
       " '__kwdefaults__',\n",
       " '__le__',\n",
       " '__lt__',\n",
       " '__module__',\n",
       " '__name__',\n",
       " '__ne__',\n",
       " '__new__',\n",
       " '__qualname__',\n",
       " '__reduce__',\n",
       " '__reduce_ex__',\n",
       " '__repr__',\n",
       " '__setattr__',\n",
       " '__sizeof__',\n",
       " '__str__',\n",
       " '__subclasshook__']"
      ]
     },
     "execution_count": 70,
     "metadata": {},
     "output_type": "execute_result"
    }
   ],
   "source": [
    "dir(f)"
   ]
  },
  {
   "cell_type": "code",
   "execution_count": 71,
   "id": "93b66b74-77d2-4e06-8a32-3a2c93113d2f",
   "metadata": {},
   "outputs": [
    {
     "data": {
      "text/plain": [
       "{'__call__'}"
      ]
     },
     "execution_count": 71,
     "metadata": {},
     "output_type": "execute_result"
    }
   ],
   "source": [
    "set(dir(f)) & {'__call__'}"
   ]
  },
  {
   "cell_type": "markdown",
   "id": "83d74220-b025-4298-8b06-d85ef81ef828",
   "metadata": {},
   "source": [
    "- 함수 오브젝트에는 숨겨징 기능 `__call__`이 있다."
   ]
  },
  {
   "cell_type": "code",
   "execution_count": 72,
   "id": "bf8ea44e-0fdd-4669-9412-a80a35b0a667",
   "metadata": {},
   "outputs": [
    {
     "data": {
      "text/plain": [
       "4"
      ]
     },
     "execution_count": 72,
     "metadata": {},
     "output_type": "execute_result"
    }
   ],
   "source": [
    "f.__call__(3)    # f(3)"
   ]
  },
  {
   "cell_type": "code",
   "execution_count": 73,
   "id": "4e1b6232-b89d-49e8-a618-6639dc129c7c",
   "metadata": {},
   "outputs": [
    {
     "data": {
      "text/plain": [
       "5"
      ]
     },
     "execution_count": 73,
     "metadata": {},
     "output_type": "execute_result"
    }
   ],
   "source": [
    "f.__call__(4)   # f(4)"
   ]
  },
  {
   "cell_type": "markdown",
   "id": "40e97ea4-e392-47fa-97bc-3299bc285158",
   "metadata": {},
   "source": [
    "- 여기에 우리가 정의한 내용이 있따."
   ]
  },
  {
   "cell_type": "markdown",
   "id": "abe763b0-2d29-4cfb-b1bc-857734a50694",
   "metadata": {},
   "source": [
    "call 만 정의를 해주면 함수처럼 쓸 수 있다 ?! -> list의 dir 확인해보면 call 없음"
   ]
  },
  {
   "cell_type": "markdown",
   "id": "484a284e-329e-46c6-8036-c3b9331e240f",
   "metadata": {},
   "source": [
    "`-` 함수처럼 쓸 수 없는 인스턴스는 단지 call이 없는 것일 뿐이다."
   ]
  },
  {
   "cell_type": "code",
   "execution_count": 74,
   "id": "6c0555ea-838b-4333-b0e1-05ac29c5749f",
   "metadata": {},
   "outputs": [],
   "source": [
    "class Klass:\n",
    "    def __init__(self):\n",
    "        self.name = 'boram'"
   ]
  },
  {
   "cell_type": "code",
   "execution_count": 75,
   "id": "e7c4cee0-acd7-41b6-adf2-1c1b6c34bf6b",
   "metadata": {},
   "outputs": [],
   "source": [
    "a=Klass()"
   ]
  },
  {
   "cell_type": "code",
   "execution_count": 76,
   "id": "66088dfa-8551-4b9b-ba56-f091b2c275a1",
   "metadata": {},
   "outputs": [
    {
     "ename": "TypeError",
     "evalue": "'Klass' object is not callable",
     "output_type": "error",
     "traceback": [
      "\u001b[0;31m---------------------------------------------------------------------------\u001b[0m",
      "\u001b[0;31mTypeError\u001b[0m                                 Traceback (most recent call last)",
      "\u001b[0;32m<ipython-input-76-8d7b4527e81d>\u001b[0m in \u001b[0;36m<module>\u001b[0;34m\u001b[0m\n\u001b[0;32m----> 1\u001b[0;31m \u001b[0ma\u001b[0m\u001b[0;34m(\u001b[0m\u001b[0;34m)\u001b[0m\u001b[0;34m\u001b[0m\u001b[0;34m\u001b[0m\u001b[0m\n\u001b[0m",
      "\u001b[0;31mTypeError\u001b[0m: 'Klass' object is not callable"
     ]
    }
   ],
   "source": [
    "a()"
   ]
  },
  {
   "cell_type": "markdown",
   "id": "305182c3-b6e4-4019-b325-32aab106d561",
   "metadata": {},
   "source": [
    "- TypeError: 'Klass' object is not callable"
   ]
  },
  {
   "cell_type": "code",
   "execution_count": 77,
   "id": "fa2feb66-3ee6-4ccf-aad3-a7480e9d2296",
   "metadata": {},
   "outputs": [],
   "source": [
    "class Klass2(Klass):  # 상속\n",
    "    def __call__(self):\n",
    "        print(self.name)"
   ]
  },
  {
   "cell_type": "code",
   "execution_count": 79,
   "id": "36516e13-ba71-4183-b597-eb08e6c1685f",
   "metadata": {},
   "outputs": [],
   "source": [
    "b=Klass2()"
   ]
  },
  {
   "cell_type": "code",
   "execution_count": 80,
   "id": "602d5a4e-c5a0-429d-aa8b-92f510b789f9",
   "metadata": {},
   "outputs": [
    {
     "name": "stdout",
     "output_type": "stream",
     "text": [
      "boram\n"
     ]
    }
   ],
   "source": [
    "b()"
   ]
  },
  {
   "cell_type": "markdown",
   "id": "e4e62adf-5855-4195-831c-24178b4513cb",
   "metadata": {},
   "source": [
    "- b는 collable obeject 라는 의미. 즉 숨겨진 메서드로 `__call__`를 가진 오브젝트!\n",
    "- Klass는 collable object를 만들지 못하지만 Klass2는 collable object를 만든다."
   ]
  },
  {
   "cell_type": "markdown",
   "id": "58f5995c-d428-42d3-b8ca-fbba4487a7a7",
   "metadata": {},
   "source": [
    "`-` 클래스로 함수를 만들기"
   ]
  },
  {
   "cell_type": "code",
   "execution_count": 81,
   "id": "fabcecf0-ae0f-4e98-a88a-f66552ff3adc",
   "metadata": {},
   "outputs": [],
   "source": [
    "class AddConstant:\n",
    "    def __init__(self,c):\n",
    "        self.c = c\n",
    "    def __call__(self,a):\n",
    "        return a + self.c"
   ]
  },
  {
   "cell_type": "code",
   "execution_count": 86,
   "id": "c848c2e5-7ea3-41ed-a287-969b0cead54c",
   "metadata": {},
   "outputs": [],
   "source": [
    "f = AddConstant(3)   # collabe object 생성, f.c에는 3이 저장되어 있음."
   ]
  },
  {
   "cell_type": "code",
   "execution_count": 89,
   "id": "1ef9c758-2149-4023-9a78-37aacf49dea2",
   "metadata": {},
   "outputs": [
    {
     "data": {
      "text/plain": [
       "10"
      ]
     },
     "execution_count": 89,
     "metadata": {},
     "output_type": "execute_result"
    }
   ],
   "source": [
    "f(7)   # f.c와 7을 더하는 기능을 수행, # f(x) = x+3 을 수행함"
   ]
  },
  {
   "cell_type": "code",
   "execution_count": 90,
   "id": "9c6e9c06-3568-4a5c-a4b1-7b9e7f3cb00c",
   "metadata": {},
   "outputs": [
    {
     "data": {
      "text/plain": [
       "13"
      ]
     },
     "execution_count": 90,
     "metadata": {},
     "output_type": "execute_result"
    }
   ],
   "source": [
    "f(10)"
   ]
  },
  {
   "cell_type": "markdown",
   "id": "288821a1-75fe-4d36-8c0b-c0c19c8a51e1",
   "metadata": {},
   "source": [
    "`-` 클래스도 일종의 `오브젝트`이고 함수처럼 `Klass()`와 같이 사용하여 인스턴스를 만들었음. -> `Klass.__call__()`는 `Klass()`와 같은 역할을 할 것이다."
   ]
  },
  {
   "cell_type": "code",
   "execution_count": 91,
   "id": "394d674a-4c81-4dbe-a0d2-e02b5103bba0",
   "metadata": {},
   "outputs": [],
   "source": [
    "class Klass:\n",
    "    def __init__(self):\n",
    "        self.name='coco'\n",
    "    "
   ]
  },
  {
   "cell_type": "code",
   "execution_count": 94,
   "id": "6ed1e297-8377-49de-859b-7de6fa54bde0",
   "metadata": {},
   "outputs": [],
   "source": [
    "a=Klass.__call__()   # 이것이 a=Klass()와 같은 효과"
   ]
  },
  {
   "cell_type": "code",
   "execution_count": 93,
   "id": "1bc70de7-b3d2-4446-881b-f100a2106138",
   "metadata": {},
   "outputs": [
    {
     "data": {
      "text/plain": [
       "'coco'"
      ]
     },
     "execution_count": 93,
     "metadata": {},
     "output_type": "execute_result"
    }
   ],
   "source": [
    "a.name"
   ]
  },
  {
   "cell_type": "markdown",
   "id": "375bc3e1-c5e2-4f0f-882b-c613272f3ac9",
   "metadata": {},
   "source": [
    "### 파이썬의 비밀 1~4"
   ]
  },
  {
   "cell_type": "markdown",
   "id": "42d82796-3859-4b9d-90a6-ac111488213d",
   "metadata": {},
   "source": [
    "- 파이썬의 비밀1: 자료형은 클래스의 비밀이다.(11주차)\n",
    "- 파이썬의 비밀2: 클래스에는 `__str__`처럼 숨겨진 메서드가 존재한다. 이를 이용하여 파이썬 내부의 기능을 가로챌 수 있다.(12주차0523)\n",
    "- 파이썬의 비밀3: 주피터노트북에서는 \"오브젝트이름+엔터\" 를 쳐서 나오는 출력은 `__repr__`로 가로챌 수 잇다.(주피터의 비밀)\n",
    "- 파이썬의 비밀4: 함수와 클래스는 숨겨진 메서드에 `__call__`을 가진 오브젝트일 뿐이다."
   ]
  },
  {
   "cell_type": "markdown",
   "id": "1bf4ba9a-a5c4-4319-9dbe-6bfdaa29d422",
   "metadata": {},
   "source": [
    "## 클래스공부 8단계"
   ]
  },
  {
   "cell_type": "markdown",
   "id": "08b8c50b-42f6-44bf-8f31-9dd0e5fc6b78",
   "metadata": {},
   "source": [
    "### for문의 복습"
   ]
  },
  {
   "cell_type": "markdown",
   "id": "4ebadb11-709b-4b0e-b34a-7f960e4161ad",
   "metadata": {},
   "source": [
    "`-` 아래와 같은 예제들을 관찰하여 for문을 복습하자."
   ]
  },
  {
   "cell_type": "markdown",
   "id": "3a1d5542-30ba-40a0-a8f7-3913c68f47b4",
   "metadata": {},
   "source": [
    "(예제1)"
   ]
  },
  {
   "cell_type": "code",
   "execution_count": 95,
   "id": "8d853108-845c-42c5-8e5f-b0b865623240",
   "metadata": {},
   "outputs": [
    {
     "name": "stdout",
     "output_type": "stream",
     "text": [
      "1\n",
      "2\n",
      "3\n",
      "4\n"
     ]
    }
   ],
   "source": [
    "for i in [1,2,3,4]:\n",
    "    print(i)"
   ]
  },
  {
   "cell_type": "markdown",
   "id": "eb280a1e-eceb-4aa9-9d3f-4eb7dfc37520",
   "metadata": {},
   "source": [
    "(예제2)"
   ]
  },
  {
   "cell_type": "code",
   "execution_count": 96,
   "id": "080ef71e-a737-47c9-835c-846921a9a6fc",
   "metadata": {},
   "outputs": [
    {
     "name": "stdout",
     "output_type": "stream",
     "text": [
      "1\n",
      "2\n",
      "3\n",
      "4\n"
     ]
    }
   ],
   "source": [
    "for i in (1,2,3,4):\n",
    "    print(i)"
   ]
  },
  {
   "cell_type": "markdown",
   "id": "e61b3f86-52ba-405f-b0b0-cc7df9714457",
   "metadata": {},
   "source": [
    "(예제3)"
   ]
  },
  {
   "cell_type": "code",
   "execution_count": 97,
   "id": "1a46e6f5-ee0a-4fb0-9812-32acef6bc52e",
   "metadata": {},
   "outputs": [
    {
     "name": "stdout",
     "output_type": "stream",
     "text": [
      "1\n",
      "2\n",
      "3\n",
      "4\n"
     ]
    }
   ],
   "source": [
    "for i in'1234':\n",
    "    print(i)"
   ]
  },
  {
   "cell_type": "markdown",
   "id": "74d8228d-152b-4959-8fd1-e7a6f4388f66",
   "metadata": {},
   "source": [
    "(예제4)"
   ]
  },
  {
   "cell_type": "code",
   "execution_count": 98,
   "id": "eff88d74-387a-4c1f-af0d-395c4882ac43",
   "metadata": {},
   "outputs": [
    {
     "ename": "TypeError",
     "evalue": "'int' object is not iterable",
     "output_type": "error",
     "traceback": [
      "\u001b[0;31m---------------------------------------------------------------------------\u001b[0m",
      "\u001b[0;31mTypeError\u001b[0m                                 Traceback (most recent call last)",
      "\u001b[0;32m<ipython-input-98-8cda0e52ee6d>\u001b[0m in \u001b[0;36m<module>\u001b[0;34m\u001b[0m\n\u001b[1;32m      1\u001b[0m \u001b[0ma\u001b[0m\u001b[0;34m=\u001b[0m\u001b[0;36m5\u001b[0m\u001b[0;34m\u001b[0m\u001b[0;34m\u001b[0m\u001b[0m\n\u001b[0;32m----> 2\u001b[0;31m \u001b[0;32mfor\u001b[0m \u001b[0mi\u001b[0m \u001b[0;32min\u001b[0m \u001b[0ma\u001b[0m\u001b[0;34m:\u001b[0m\u001b[0;34m\u001b[0m\u001b[0;34m\u001b[0m\u001b[0m\n\u001b[0m\u001b[1;32m      3\u001b[0m     \u001b[0mprint\u001b[0m\u001b[0;34m(\u001b[0m\u001b[0mi\u001b[0m\u001b[0;34m)\u001b[0m\u001b[0;34m\u001b[0m\u001b[0;34m\u001b[0m\u001b[0m\n",
      "\u001b[0;31mTypeError\u001b[0m: 'int' object is not iterable"
     ]
    }
   ],
   "source": [
    "a=5\n",
    "for i in a:\n",
    "    print(i)"
   ]
  },
  {
   "cell_type": "markdown",
   "id": "d186f877-6ba4-4a1e-aaa5-2203b705893b",
   "metadata": {},
   "source": [
    "- 5라고 출력되어야 하지 않나?"
   ]
  },
  {
   "cell_type": "markdown",
   "id": "4b72cb11-f4a5-47ff-badf-6c20df013e02",
   "metadata": {},
   "source": [
    "`-` 의문1:\n",
    "```python\n",
    "for i in ???:\n",
    "    print(i)\n",
    "```\n",
    "에서 ??? 자리에 올수 있는 것이 무엇일까?"
   ]
  },
  {
   "cell_type": "markdown",
   "id": "80bfc242-0179-48fa-8441-9a4e6b292c84",
   "metadata": {},
   "source": [
    "(예제5)"
   ]
  },
  {
   "cell_type": "markdown",
   "id": "640138c1-b158-49fb-8433-5fe21de0d4af",
   "metadata": {},
   "source": [
    "상황1"
   ]
  },
  {
   "cell_type": "code",
   "execution_count": 99,
   "id": "6d1b71fc-e6e6-49da-a52a-b46403893598",
   "metadata": {},
   "outputs": [
    {
     "name": "stdout",
     "output_type": "stream",
     "text": [
      "[1, 2, 3, 4]\n",
      "[3, 4, 5, 6]\n"
     ]
    }
   ],
   "source": [
    "lst = [[1,2,3,4],[3,4,5,6]]\n",
    "for l in lst:\n",
    "    print(l)"
   ]
  },
  {
   "cell_type": "markdown",
   "id": "aceb5b02-bea6-49e9-8efd-80ae43be727a",
   "metadata": {},
   "source": [
    "상황2"
   ]
  },
  {
   "cell_type": "code",
   "execution_count": 100,
   "id": "e38034cf-5000-4386-aa94-fca8322bf903",
   "metadata": {},
   "outputs": [
    {
     "data": {
      "text/html": [
       "<div>\n",
       "<style scoped>\n",
       "    .dataframe tbody tr th:only-of-type {\n",
       "        vertical-align: middle;\n",
       "    }\n",
       "\n",
       "    .dataframe tbody tr th {\n",
       "        vertical-align: top;\n",
       "    }\n",
       "\n",
       "    .dataframe thead th {\n",
       "        text-align: right;\n",
       "    }\n",
       "</style>\n",
       "<table border=\"1\" class=\"dataframe\">\n",
       "  <thead>\n",
       "    <tr style=\"text-align: right;\">\n",
       "      <th></th>\n",
       "      <th>0</th>\n",
       "      <th>1</th>\n",
       "      <th>2</th>\n",
       "      <th>3</th>\n",
       "    </tr>\n",
       "  </thead>\n",
       "  <tbody>\n",
       "    <tr>\n",
       "      <th>0</th>\n",
       "      <td>1</td>\n",
       "      <td>2</td>\n",
       "      <td>3</td>\n",
       "      <td>4</td>\n",
       "    </tr>\n",
       "    <tr>\n",
       "      <th>1</th>\n",
       "      <td>3</td>\n",
       "      <td>4</td>\n",
       "      <td>5</td>\n",
       "      <td>6</td>\n",
       "    </tr>\n",
       "  </tbody>\n",
       "</table>\n",
       "</div>"
      ],
      "text/plain": [
       "   0  1  2  3\n",
       "0  1  2  3  4\n",
       "1  3  4  5  6"
      ]
     },
     "execution_count": 100,
     "metadata": {},
     "output_type": "execute_result"
    }
   ],
   "source": [
    "df=pd.DataFrame(lst)\n",
    "df"
   ]
  },
  {
   "cell_type": "code",
   "execution_count": 101,
   "id": "96d472a8-95b5-47d7-9c3d-76e1bfa59026",
   "metadata": {},
   "outputs": [
    {
     "name": "stdout",
     "output_type": "stream",
     "text": [
      "0\n",
      "1\n",
      "2\n",
      "3\n"
     ]
    }
   ],
   "source": [
    "for i in df:\n",
    "    print(i)"
   ]
  },
  {
   "cell_type": "markdown",
   "id": "99ee3c40-e213-4811-b47f-06c5e3fd8738",
   "metadata": {},
   "source": [
    "칼럼이름들이 나오는 것 같음 -> 확인해보자"
   ]
  },
  {
   "cell_type": "code",
   "execution_count": 104,
   "id": "fd06c1f2-8bc8-4355-8611-8345e043dc62",
   "metadata": {},
   "outputs": [
    {
     "data": {
      "text/html": [
       "<div>\n",
       "<style scoped>\n",
       "    .dataframe tbody tr th:only-of-type {\n",
       "        vertical-align: middle;\n",
       "    }\n",
       "\n",
       "    .dataframe tbody tr th {\n",
       "        vertical-align: top;\n",
       "    }\n",
       "\n",
       "    .dataframe thead th {\n",
       "        text-align: right;\n",
       "    }\n",
       "</style>\n",
       "<table border=\"1\" class=\"dataframe\">\n",
       "  <thead>\n",
       "    <tr style=\"text-align: right;\">\n",
       "      <th></th>\n",
       "      <th>X1</th>\n",
       "      <th>X2</th>\n",
       "      <th>X3</th>\n",
       "      <th>X4</th>\n",
       "    </tr>\n",
       "  </thead>\n",
       "  <tbody>\n",
       "    <tr>\n",
       "      <th>0</th>\n",
       "      <td>1</td>\n",
       "      <td>2</td>\n",
       "      <td>3</td>\n",
       "      <td>4</td>\n",
       "    </tr>\n",
       "    <tr>\n",
       "      <th>1</th>\n",
       "      <td>3</td>\n",
       "      <td>4</td>\n",
       "      <td>5</td>\n",
       "      <td>6</td>\n",
       "    </tr>\n",
       "  </tbody>\n",
       "</table>\n",
       "</div>"
      ],
      "text/plain": [
       "   X1  X2  X3  X4\n",
       "0   1   2   3   4\n",
       "1   3   4   5   6"
      ]
     },
     "execution_count": 104,
     "metadata": {},
     "output_type": "execute_result"
    }
   ],
   "source": [
    "df.columns = pd.Index(['X'+str(i) for i in range(1,5)])\n",
    "df"
   ]
  },
  {
   "cell_type": "code",
   "execution_count": 106,
   "id": "9dfe6c59-e314-4d74-a188-5b269b125cb6",
   "metadata": {},
   "outputs": [
    {
     "name": "stdout",
     "output_type": "stream",
     "text": [
      "X1\n",
      "X2\n",
      "X3\n",
      "X4\n"
     ]
    }
   ],
   "source": [
    "for i in df:\n",
    "    print(i)"
   ]
  },
  {
   "cell_type": "markdown",
   "id": "4e3100a0-3f86-476d-bd40-4f34e71c6f75",
   "metadata": {},
   "source": [
    "`-` 의문2: for의 출력결과는 어떻게 예측할 수 있을까?"
   ]
  },
  {
   "cell_type": "markdown",
   "id": "48ea754b-f98a-4876-8410-a40b0e78b206",
   "metadata": {},
   "source": [
    "### for문의 동작원리"
   ]
  },
  {
   "cell_type": "markdown",
   "id": "7bd572cb-7dbe-40c4-a931-d13f7b2a934d",
   "metadata": {},
   "source": [
    "`-` 의문1의 해결: 아래의 ???자리에 올 수 있는 것은 dir()하여 `__iter__`가 있는 object이다.\n",
    "```python\n",
    "for i in ???:\n",
    "    print(i)\n",
    "```\n",
    "이러한 오브젝트를 iterable object라고 한다."
   ]
  },
  {
   "cell_type": "markdown",
   "id": "676b18e1-2938-4549-bed9-237156c4a4e8",
   "metadata": {},
   "source": [
    "`-` 확인"
   ]
  },
  {
   "cell_type": "code",
   "execution_count": 107,
   "id": "2bd98ecd-71b8-4f83-8093-6eb48bb16175",
   "metadata": {},
   "outputs": [
    {
     "data": {
      "text/plain": [
       "{'__iter__'}"
      ]
     },
     "execution_count": 107,
     "metadata": {},
     "output_type": "execute_result"
    }
   ],
   "source": [
    "a=[1,2,3]\n",
    "set(dir(a)) & {'__iter__'}"
   ]
  },
  {
   "cell_type": "code",
   "execution_count": 108,
   "id": "cd3571b5-2550-43b7-b207-316bd730e8d5",
   "metadata": {},
   "outputs": [
    {
     "data": {
      "text/plain": [
       "{'__iter__'}"
      ]
     },
     "execution_count": 108,
     "metadata": {},
     "output_type": "execute_result"
    }
   ],
   "source": [
    "a='123'\n",
    "set(dir(a)) & {'__iter__'}"
   ]
  },
  {
   "cell_type": "code",
   "execution_count": 109,
   "id": "1b73b592-c5f2-473a-802d-92e7d10bf2ee",
   "metadata": {},
   "outputs": [
    {
     "data": {
      "text/plain": [
       "set()"
      ]
     },
     "execution_count": 109,
     "metadata": {},
     "output_type": "execute_result"
    }
   ],
   "source": [
    "a=3\n",
    "set(dir(a)) & {'__iter__'}"
   ]
  },
  {
   "cell_type": "markdown",
   "id": "0f1cce51-2960-40af-afe7-5f36ae3c4b8a",
   "metadata": {},
   "source": [
    "- 예상대로 예제 1~4에서는 int클래스의 instance만 `__iter__` 가 없다."
   ]
  },
  {
   "cell_type": "markdown",
   "id": "305fb7a1-b25c-4475-b7bd-23cae07ba42a",
   "metadata": {},
   "source": [
    "`-` `__iter__` 의 역할: iterable object를 iterator로 만들 수 있다!"
   ]
  },
  {
   "cell_type": "code",
   "execution_count": 132,
   "id": "7ac40feb-9c25-453f-ab39-f4b5668b864d",
   "metadata": {},
   "outputs": [
    {
     "data": {
      "text/plain": [
       "[1, 2, 3]"
      ]
     },
     "execution_count": 132,
     "metadata": {},
     "output_type": "execute_result"
    }
   ],
   "source": [
    "lst = [1,2,3]\n",
    "lst"
   ]
  },
  {
   "cell_type": "code",
   "execution_count": 133,
   "id": "ccd06529-3e41-4a5f-add1-0fa617152d16",
   "metadata": {},
   "outputs": [
    {
     "data": {
      "text/plain": [
       "2"
      ]
     },
     "execution_count": 133,
     "metadata": {},
     "output_type": "execute_result"
    }
   ],
   "source": [
    "lst[1] # 충실한 리스트"
   ]
  },
  {
   "cell_type": "code",
   "execution_count": 134,
   "id": "e3246deb-abbc-4b5e-a67a-b0ae83f4a387",
   "metadata": {},
   "outputs": [
    {
     "data": {
      "text/plain": [
       "<list_iterator at 0x7f4b7b39efd0>"
      ]
     },
     "execution_count": 134,
     "metadata": {},
     "output_type": "execute_result"
    }
   ],
   "source": [
    "ltor = iter(lst)\n",
    "#ltor = lst.__iter__()\n",
    "ltor"
   ]
  },
  {
   "cell_type": "code",
   "execution_count": 135,
   "id": "36322a05-231d-4408-ab13-2737e2c6e1dc",
   "metadata": {},
   "outputs": [
    {
     "ename": "TypeError",
     "evalue": "'list_iterator' object is not subscriptable",
     "output_type": "error",
     "traceback": [
      "\u001b[0;31m---------------------------------------------------------------------------\u001b[0m",
      "\u001b[0;31mTypeError\u001b[0m                                 Traceback (most recent call last)",
      "\u001b[0;32m<ipython-input-135-7820a8b9f75c>\u001b[0m in \u001b[0;36m<module>\u001b[0;34m\u001b[0m\n\u001b[0;32m----> 1\u001b[0;31m \u001b[0mltor\u001b[0m\u001b[0;34m[\u001b[0m\u001b[0;36m1\u001b[0m\u001b[0;34m]\u001b[0m   \u001b[0;31m# 더이상 리스트가 아니다.\u001b[0m\u001b[0;34m\u001b[0m\u001b[0;34m\u001b[0m\u001b[0m\n\u001b[0m",
      "\u001b[0;31mTypeError\u001b[0m: 'list_iterator' object is not subscriptable"
     ]
    }
   ],
   "source": [
    "ltor[1]   # 더이상 리스트가 아니다."
   ]
  },
  {
   "cell_type": "code",
   "execution_count": 136,
   "id": "0155e7df-6528-4992-adb3-ad460c24d354",
   "metadata": {},
   "outputs": [
    {
     "data": {
      "text/plain": [
       "\u001b[0;31mType:\u001b[0m        list_iterator\n",
       "\u001b[0;31mString form:\u001b[0m <list_iterator object at 0x7f4b7b39efd0>\n",
       "\u001b[0;31mDocstring:\u001b[0m   <no docstring>\n"
      ]
     },
     "metadata": {},
     "output_type": "display_data"
    }
   ],
   "source": [
    "ltor?"
   ]
  },
  {
   "cell_type": "markdown",
   "id": "3f267050-8fb6-4977-9183-a185a2cef133",
   "metadata": {},
   "source": [
    "`-` iterator가 되면 무엇이 좋은가? -> 숨겨진 기능 `__next__` 가 열린다."
   ]
  },
  {
   "cell_type": "code",
   "execution_count": 137,
   "id": "98001766-2252-4d65-85f9-8abeee4bd64d",
   "metadata": {},
   "outputs": [
    {
     "data": {
      "text/plain": [
       "set()"
      ]
     },
     "execution_count": 137,
     "metadata": {},
     "output_type": "execute_result"
    }
   ],
   "source": [
    "set(dir(lst)) & {'__next__'}"
   ]
  },
  {
   "cell_type": "code",
   "execution_count": 138,
   "id": "1a25e3a5-ae79-4360-85c8-471a81e12400",
   "metadata": {},
   "outputs": [
    {
     "data": {
      "text/plain": [
       "{'__next__'}"
      ]
     },
     "execution_count": 138,
     "metadata": {},
     "output_type": "execute_result"
    }
   ],
   "source": [
    "set(dir(ltor)) & {'__next__'}"
   ]
  },
  {
   "cell_type": "markdown",
   "id": "4c20d227-ed8b-4109-b0c6-a64724f31196",
   "metadata": {},
   "source": [
    "- lst에는 `__next__`가 없지만 ltor에는 있다!"
   ]
  },
  {
   "cell_type": "markdown",
   "id": "731015f4-dcbc-429b-a611-9062a5b23b55",
   "metadata": {},
   "source": [
    "`-` 그래서 `__next__`의 기능은? -> 원소를 차례대로 꺼내준다. + 더 이상 꺼낼 원소가 없으면 StopIteration Error를 발생시킨다."
   ]
  },
  {
   "cell_type": "code",
   "execution_count": 139,
   "id": "267c8c9c-7b65-4f02-b043-e65273e936d1",
   "metadata": {},
   "outputs": [
    {
     "data": {
      "text/plain": [
       "[1, 2, 3]"
      ]
     },
     "execution_count": 139,
     "metadata": {},
     "output_type": "execute_result"
    }
   ],
   "source": [
    "lst"
   ]
  },
  {
   "cell_type": "code",
   "execution_count": 140,
   "id": "fa2de92f-9728-4373-a508-2cd01c47df99",
   "metadata": {},
   "outputs": [
    {
     "data": {
      "text/plain": [
       "1"
      ]
     },
     "execution_count": 140,
     "metadata": {},
     "output_type": "execute_result"
    }
   ],
   "source": [
    "ltor.__next__()"
   ]
  },
  {
   "cell_type": "code",
   "execution_count": 141,
   "id": "74f3d5d1-0e56-48c0-a8ec-8c06444ca2bf",
   "metadata": {},
   "outputs": [
    {
     "data": {
      "text/plain": [
       "2"
      ]
     },
     "execution_count": 141,
     "metadata": {},
     "output_type": "execute_result"
    }
   ],
   "source": [
    "ltor.__next__()"
   ]
  },
  {
   "cell_type": "code",
   "execution_count": 142,
   "id": "1e98d81a-84a0-4db4-aeb1-57e8690537a3",
   "metadata": {},
   "outputs": [
    {
     "data": {
      "text/plain": [
       "3"
      ]
     },
     "execution_count": 142,
     "metadata": {},
     "output_type": "execute_result"
    }
   ],
   "source": [
    "ltor.__next__()"
   ]
  },
  {
   "cell_type": "code",
   "execution_count": 143,
   "id": "a197c590-a1e2-4d15-ad95-8de6b73e2968",
   "metadata": {},
   "outputs": [
    {
     "ename": "StopIteration",
     "evalue": "",
     "output_type": "error",
     "traceback": [
      "\u001b[0;31m---------------------------------------------------------------------------\u001b[0m",
      "\u001b[0;31mStopIteration\u001b[0m                             Traceback (most recent call last)",
      "\u001b[0;32m<ipython-input-143-ac903d7f0adb>\u001b[0m in \u001b[0;36m<module>\u001b[0;34m\u001b[0m\n\u001b[0;32m----> 1\u001b[0;31m \u001b[0mltor\u001b[0m\u001b[0;34m.\u001b[0m\u001b[0m__next__\u001b[0m\u001b[0;34m(\u001b[0m\u001b[0;34m)\u001b[0m\u001b[0;34m\u001b[0m\u001b[0;34m\u001b[0m\u001b[0m\n\u001b[0m",
      "\u001b[0;31mStopIteration\u001b[0m: "
     ]
    }
   ],
   "source": [
    "ltor.__next__()"
   ]
  },
  {
   "cell_type": "markdown",
   "id": "99f729b1-1f82-4c50-9e7b-5659285fed0b",
   "metadata": {},
   "source": [
    "`-` for 문의 동작원리"
   ]
  },
  {
   "cell_type": "markdown",
   "id": "75a794d9-7fd9-42de-ba68-5bea8cc5ded7",
   "metadata": {},
   "source": [
    "```python\n",
    "for i in lst\n",
    "    print(i)\n",
    "```\n",
    "\n",
    "(1) `lst.__iter__()` 혹은 `iter(lst)` 를 이용하여 lst를 iterator로 만든다. (iterable object를 iterator object로 만든다.)\n",
    "\n",
    "(2) iterator에서 `.__next__()` 함수를 호출하고 결과를 i에 저장한 뒤에 for문 블락안에 있는 내용 (들여쓰기 된 내용)을 실행한다.  -> 반복\n",
    "\n",
    "(3) StopIteration 에러가 발생하면 for무늘 멈춘다. "
   ]
  },
  {
   "cell_type": "markdown",
   "id": "6ca5d9ec-46b5-4262-baca-5d385bc02d06",
   "metadata": {},
   "source": [
    "`-` 아래의 ??? 자리에 올 수 있는 것이 iterable object가 아니라 iterator 자체여도 for 문이 돌아갈까? -> (당연히 돌아가야 할 것 같음)\n",
    "\n",
    "```python\n",
    "for i in ???\n",
    "    print(i)\n",
    "```"
   ]
  },
  {
   "cell_type": "code",
   "execution_count": 145,
   "id": "8d914345-b742-494e-a5dc-6d95ea14cd00",
   "metadata": {},
   "outputs": [
    {
     "name": "stdout",
     "output_type": "stream",
     "text": [
      "1\n",
      "2\n",
      "3\n"
     ]
    }
   ],
   "source": [
    "for i in iter([1,2,3]):\n",
    "    print(i)"
   ]
  },
  {
   "cell_type": "markdown",
   "id": "ca5a3bec-4400-474b-9a37-475d20cff781",
   "metadata": {},
   "source": [
    "- 당연히 가능!"
   ]
  },
  {
   "cell_type": "markdown",
   "id": "41764596-f209-4e11-bde5-125b354b5760",
   "metadata": {},
   "source": [
    "`-` a가 iterator일때 iter(a) 의 출력결과가 a와 같도록 조정한다면 for문의 동작원리 (1) ~ (3) 을 수정하지 않아도 좋다. -> 실제로 이렇게 동작한다."
   ]
  },
  {
   "cell_type": "code",
   "execution_count": 147,
   "id": "162a94d8-bf39-4a73-9025-c73725794c69",
   "metadata": {},
   "outputs": [
    {
     "data": {
      "text/plain": [
       "\u001b[0;31mType:\u001b[0m        list_iterator\n",
       "\u001b[0;31mString form:\u001b[0m <list_iterator object at 0x7f4b7b39efd0>\n",
       "\u001b[0;31mDocstring:\u001b[0m   <no docstring>\n"
      ]
     },
     "metadata": {},
     "output_type": "display_data"
    }
   ],
   "source": [
    "ltor?"
   ]
  },
  {
   "cell_type": "code",
   "execution_count": 148,
   "id": "82aa63f2-1cd8-434a-afd1-13f16ed9a0c0",
   "metadata": {},
   "outputs": [
    {
     "data": {
      "text/plain": [
       "['__class__',\n",
       " '__delattr__',\n",
       " '__dir__',\n",
       " '__doc__',\n",
       " '__eq__',\n",
       " '__format__',\n",
       " '__ge__',\n",
       " '__getattribute__',\n",
       " '__gt__',\n",
       " '__hash__',\n",
       " '__init__',\n",
       " '__init_subclass__',\n",
       " '__iter__',\n",
       " '__le__',\n",
       " '__length_hint__',\n",
       " '__lt__',\n",
       " '__ne__',\n",
       " '__new__',\n",
       " '__next__',\n",
       " '__reduce__',\n",
       " '__reduce_ex__',\n",
       " '__repr__',\n",
       " '__setattr__',\n",
       " '__setstate__',\n",
       " '__sizeof__',\n",
       " '__str__',\n",
       " '__subclasshook__']"
      ]
     },
     "execution_count": 148,
     "metadata": {},
     "output_type": "execute_result"
    }
   ],
   "source": [
    "dir(ltor)"
   ]
  },
  {
   "cell_type": "markdown",
   "id": "4ae94887-5ebd-4a04-9d42-5d14f67617b2",
   "metadata": {},
   "source": [
    "`-` 요약\n",
    "- iterable object는 숨겨진 기능으로 `__iter__`를 가진다.\n",
    "- iterator object는 숨겨진 기능으로 `__iter__`와 `__next__`를 가진다. (즉 iterator는 그 자체로 iterable object가 된다!)"
   ]
  },
  {
   "cell_type": "code",
   "execution_count": 150,
   "id": "39ccfc71-af23-42a6-bcc8-a0f03b29f4f5",
   "metadata": {},
   "outputs": [],
   "source": [
    "lst = [1,2,3]\n",
    "ltor = iter(lst)"
   ]
  },
  {
   "cell_type": "code",
   "execution_count": 151,
   "id": "91d28126-81a7-499a-be9d-8a1acc7949a0",
   "metadata": {},
   "outputs": [
    {
     "data": {
      "text/plain": [
       "{'__iter__'}"
      ]
     },
     "execution_count": 151,
     "metadata": {},
     "output_type": "execute_result"
    }
   ],
   "source": [
    "set(dir(lst)) & {'__iter__', '__next__'}"
   ]
  },
  {
   "cell_type": "code",
   "execution_count": 152,
   "id": "43eaf2b0-52a2-4eba-ac5d-803010e7c15d",
   "metadata": {},
   "outputs": [
    {
     "data": {
      "text/plain": [
       "{'__iter__', '__next__'}"
      ]
     },
     "execution_count": 152,
     "metadata": {},
     "output_type": "execute_result"
    }
   ],
   "source": [
    "set(dir(ltor)) & {'__iter__', '__next__'}"
   ]
  },
  {
   "cell_type": "markdown",
   "id": "8d99b707-76f3-4072-baaf-27cf00817dec",
   "metadata": {},
   "source": [
    "`-` 의문2의 해결: for문의 출력결과는 어떻게 예측할 수 있을까? iterator를 만들어서 `__next__()`의 출력값을 확인하면 알 수 있다."
   ]
  },
  {
   "cell_type": "code",
   "execution_count": 153,
   "id": "90aa9969-0ec1-44b2-a847-7a8baa165d0c",
   "metadata": {},
   "outputs": [
    {
     "name": "stdout",
     "output_type": "stream",
     "text": [
      "X1\n",
      "X2\n",
      "X3\n",
      "X4\n"
     ]
    }
   ],
   "source": [
    "for i in df:\n",
    "    print(i)"
   ]
  },
  {
   "cell_type": "code",
   "execution_count": 154,
   "id": "db31570f-cf4d-4644-b88b-2d73ae1bfd22",
   "metadata": {},
   "outputs": [
    {
     "data": {
      "text/plain": [
       "\u001b[0;31mType:\u001b[0m        map\n",
       "\u001b[0;31mString form:\u001b[0m <map object at 0x7f4b7c0d1350>\n",
       "\u001b[0;31mDocstring:\u001b[0m  \n",
       "map(func, *iterables) --> map object\n",
       "\n",
       "Make an iterator that computes the function using arguments from\n",
       "each of the iterables.  Stops when the shortest iterable is exhausted.\n"
      ]
     },
     "metadata": {},
     "output_type": "display_data"
    }
   ],
   "source": [
    "dftor = iter(df)\n",
    "dftor?"
   ]
  },
  {
   "cell_type": "code",
   "execution_count": 155,
   "id": "e0e754fd-84ed-4107-adcc-529b03621552",
   "metadata": {},
   "outputs": [
    {
     "data": {
      "text/plain": [
       "'X1'"
      ]
     },
     "execution_count": 155,
     "metadata": {},
     "output_type": "execute_result"
    }
   ],
   "source": [
    "dftor.__next__()"
   ]
  },
  {
   "cell_type": "code",
   "execution_count": 156,
   "id": "0d79f43a-c8a0-4a52-b6c4-e24b9b695b85",
   "metadata": {},
   "outputs": [
    {
     "data": {
      "text/plain": [
       "'X2'"
      ]
     },
     "execution_count": 156,
     "metadata": {},
     "output_type": "execute_result"
    }
   ],
   "source": [
    "dftor.__next__()"
   ]
  },
  {
   "cell_type": "code",
   "execution_count": 157,
   "id": "34799754-735e-4479-ac98-8d7a25d30404",
   "metadata": {},
   "outputs": [
    {
     "data": {
      "text/plain": [
       "'X3'"
      ]
     },
     "execution_count": 157,
     "metadata": {},
     "output_type": "execute_result"
    }
   ],
   "source": [
    "dftor.__next__()"
   ]
  },
  {
   "cell_type": "code",
   "execution_count": 158,
   "id": "0cddeb4f-efcc-4674-9caa-2ef7d145d49d",
   "metadata": {},
   "outputs": [
    {
     "data": {
      "text/plain": [
       "'X4'"
      ]
     },
     "execution_count": 158,
     "metadata": {},
     "output_type": "execute_result"
    }
   ],
   "source": [
    "dftor.__next__()"
   ]
  },
  {
   "cell_type": "code",
   "execution_count": 159,
   "id": "6b307ba4-c811-4474-be0d-b998106ecd51",
   "metadata": {},
   "outputs": [
    {
     "ename": "StopIteration",
     "evalue": "",
     "output_type": "error",
     "traceback": [
      "\u001b[0;31m---------------------------------------------------------------------------\u001b[0m",
      "\u001b[0;31mStopIteration\u001b[0m                             Traceback (most recent call last)",
      "\u001b[0;32m<ipython-input-159-a887df92fa8e>\u001b[0m in \u001b[0;36m<module>\u001b[0;34m\u001b[0m\n\u001b[0;32m----> 1\u001b[0;31m \u001b[0mdftor\u001b[0m\u001b[0;34m.\u001b[0m\u001b[0m__next__\u001b[0m\u001b[0;34m(\u001b[0m\u001b[0;34m)\u001b[0m\u001b[0;34m\u001b[0m\u001b[0;34m\u001b[0m\u001b[0m\n\u001b[0m",
      "\u001b[0;31mStopIteration\u001b[0m: "
     ]
    }
   ],
   "source": [
    "dftor.__next__()"
   ]
  },
  {
   "cell_type": "markdown",
   "id": "c784c602-bbb5-4634-8a6e-9af0bea4cb87",
   "metadata": {},
   "source": [
    "### range()"
   ]
  },
  {
   "cell_type": "markdown",
   "id": "a075521c-1d59-425d-9374-28f731f3174e",
   "metadata": {},
   "source": [
    "`-` 파이썬에서 for문을 처음 배울 때: range(5)를 써라! "
   ]
  },
  {
   "cell_type": "code",
   "execution_count": 160,
   "id": "a15ccfd8-ffe3-454f-9f7a-1e3d1694daa0",
   "metadata": {},
   "outputs": [
    {
     "name": "stdout",
     "output_type": "stream",
     "text": [
      "0\n",
      "1\n",
      "2\n",
      "3\n",
      "4\n"
     ]
    }
   ],
   "source": [
    "for i in range(5):\n",
    "    print(i)"
   ]
  },
  {
   "cell_type": "markdown",
   "id": "6d3502f8-6060-4ddc-a2a3-b0aab4251018",
   "metadata": {},
   "source": [
    "- range(5) 가 도대체 무엇인가?"
   ]
  },
  {
   "cell_type": "code",
   "execution_count": 163,
   "id": "ee230926-6d80-47a4-860d-5ba65d48fb30",
   "metadata": {},
   "outputs": [
    {
     "data": {
      "text/plain": [
       "{'__iter__'}"
      ]
     },
     "execution_count": 163,
     "metadata": {},
     "output_type": "execute_result"
    }
   ],
   "source": [
    "set(dir(range(5))) & {'__iter__', '__next__'}"
   ]
  },
  {
   "cell_type": "markdown",
   "id": "439faa82-1cf1-429f-b362-770f1010801d",
   "metadata": {},
   "source": [
    "`-` range(5)의 정체는 그냥 iterable object이다."
   ]
  },
  {
   "cell_type": "markdown",
   "id": "aedeec45-d29a-4158-839b-8cb7b6191e7f",
   "metadata": {},
   "source": [
    "`-` 그래서 언제든지 iterator로 바꿀 수 있다."
   ]
  },
  {
   "cell_type": "code",
   "execution_count": 166,
   "id": "12262bd1-20c8-4fdc-9c89-4fb81966b18e",
   "metadata": {},
   "outputs": [
    {
     "data": {
      "text/plain": [
       "<range_iterator at 0x7f4b7af5d8a0>"
      ]
     },
     "execution_count": 166,
     "metadata": {},
     "output_type": "execute_result"
    }
   ],
   "source": [
    "rtor = iter(range(5))\n",
    "rtor"
   ]
  },
  {
   "cell_type": "code",
   "execution_count": 167,
   "id": "a64df0c5-0766-4466-af68-e3ce98a8ad4c",
   "metadata": {},
   "outputs": [
    {
     "data": {
      "text/plain": [
       "{'__iter__', '__next__'}"
      ]
     },
     "execution_count": 167,
     "metadata": {},
     "output_type": "execute_result"
    }
   ],
   "source": [
    "set(dir(rtor)) & {'__iter__', '__next__'}"
   ]
  },
  {
   "cell_type": "markdown",
   "id": "e6207536-4508-4eae-ac0b-706375031075",
   "metadata": {},
   "source": [
    "`-` for문에서 range(5)가 행동하는 방법?"
   ]
  },
  {
   "cell_type": "code",
   "execution_count": 168,
   "id": "19403b94-a724-4b7e-a18f-9cdbfb639452",
   "metadata": {},
   "outputs": [],
   "source": [
    "rtor = iter(range(5))"
   ]
  },
  {
   "cell_type": "code",
   "execution_count": 169,
   "id": "05b10833-1c5a-42ce-ab3a-ae09d8bfc186",
   "metadata": {},
   "outputs": [
    {
     "data": {
      "text/plain": [
       "0"
      ]
     },
     "execution_count": 169,
     "metadata": {},
     "output_type": "execute_result"
    }
   ],
   "source": [
    "rtor.__next__()"
   ]
  },
  {
   "cell_type": "code",
   "execution_count": 170,
   "id": "b518a2db-ac04-4815-8452-e024d1d41820",
   "metadata": {},
   "outputs": [
    {
     "data": {
      "text/plain": [
       "1"
      ]
     },
     "execution_count": 170,
     "metadata": {},
     "output_type": "execute_result"
    }
   ],
   "source": [
    "rtor.__next__()"
   ]
  },
  {
   "cell_type": "code",
   "execution_count": 171,
   "id": "a420bb8b-6edb-4c33-bc75-2e934eb5c581",
   "metadata": {},
   "outputs": [
    {
     "data": {
      "text/plain": [
       "2"
      ]
     },
     "execution_count": 171,
     "metadata": {},
     "output_type": "execute_result"
    }
   ],
   "source": [
    "rtor.__next__()"
   ]
  },
  {
   "cell_type": "code",
   "execution_count": 172,
   "id": "e0195802-f957-4acd-baa7-6d9918307c22",
   "metadata": {},
   "outputs": [
    {
     "data": {
      "text/plain": [
       "3"
      ]
     },
     "execution_count": 172,
     "metadata": {},
     "output_type": "execute_result"
    }
   ],
   "source": [
    "rtor.__next__()"
   ]
  },
  {
   "cell_type": "code",
   "execution_count": 173,
   "id": "38d1c8c1-fe6d-43f8-b115-e1d9075fe5e9",
   "metadata": {},
   "outputs": [
    {
     "data": {
      "text/plain": [
       "4"
      ]
     },
     "execution_count": 173,
     "metadata": {},
     "output_type": "execute_result"
    }
   ],
   "source": [
    "rtor.__next__()"
   ]
  },
  {
   "cell_type": "code",
   "execution_count": 174,
   "id": "a90707a5-32dc-45e4-9ad3-75578fe70fde",
   "metadata": {},
   "outputs": [
    {
     "ename": "StopIteration",
     "evalue": "",
     "output_type": "error",
     "traceback": [
      "\u001b[0;31m---------------------------------------------------------------------------\u001b[0m",
      "\u001b[0;31mStopIteration\u001b[0m                             Traceback (most recent call last)",
      "\u001b[0;32m<ipython-input-174-5efa938fa125>\u001b[0m in \u001b[0;36m<module>\u001b[0;34m\u001b[0m\n\u001b[0;32m----> 1\u001b[0;31m \u001b[0mrtor\u001b[0m\u001b[0;34m.\u001b[0m\u001b[0m__next__\u001b[0m\u001b[0;34m(\u001b[0m\u001b[0;34m)\u001b[0m\u001b[0;34m\u001b[0m\u001b[0;34m\u001b[0m\u001b[0m\n\u001b[0m",
      "\u001b[0;31mStopIteration\u001b[0m: "
     ]
    }
   ],
   "source": [
    "rtor.__next__()"
   ]
  },
  {
   "cell_type": "markdown",
   "id": "62d323b8-703c-44bf-a70d-bf7167ce1504",
   "metadata": {},
   "source": [
    "### zip"
   ]
  },
  {
   "cell_type": "markdown",
   "id": "6dd82f3e-3b15-4acd-ba14-a2ce023b811c",
   "metadata": {},
   "source": [
    "`-` 이터레이터의 개념을 알면 for문에 대한 이해도가 대폭 상승한다."
   ]
  },
  {
   "cell_type": "code",
   "execution_count": 175,
   "id": "7732b898-8518-4f91-8af0-0b7e5a7f047a",
   "metadata": {},
   "outputs": [
    {
     "name": "stdout",
     "output_type": "stream",
     "text": [
      "(1, 'a')\n",
      "(2, 'b')\n",
      "(3, 'c')\n"
     ]
    }
   ],
   "source": [
    "for i in zip([1,2,3],'abc'):\n",
    "    print(i)"
   ]
  },
  {
   "cell_type": "markdown",
   "id": "60542b1b-dc59-4bbf-9fdf-5eaaa8ec8f61",
   "metadata": {},
   "source": [
    "- zip은 뭐지?"
   ]
  },
  {
   "cell_type": "code",
   "execution_count": 176,
   "id": "f6c1f5d5-9a2f-45ba-afd0-9e3069dbbe1c",
   "metadata": {},
   "outputs": [
    {
     "data": {
      "text/plain": [
       "<zip at 0x7f4b7c63a690>"
      ]
     },
     "execution_count": 176,
     "metadata": {},
     "output_type": "execute_result"
    }
   ],
   "source": [
    "zip([1,2,3],'abc')"
   ]
  },
  {
   "cell_type": "markdown",
   "id": "9b65e7c7-19a2-429f-be1c-07174ed80fdb",
   "metadata": {},
   "source": [
    "`-` 어차피 `for i in ????`: 의 ???? 자리는 iterable object의 자리이다."
   ]
  },
  {
   "cell_type": "code",
   "execution_count": 177,
   "id": "79cc2e48-c634-48ce-a8f6-e7b16b172f51",
   "metadata": {},
   "outputs": [
    {
     "data": {
      "text/plain": [
       "{'__iter__', '__next__'}"
      ]
     },
     "execution_count": 177,
     "metadata": {},
     "output_type": "execute_result"
    }
   ],
   "source": [
    "set(dir(zip([1,2,3],'abc'))) & {'__iter__', '__next__'}"
   ]
  },
  {
   "cell_type": "markdown",
   "id": "db9a6020-2e34-4196-9c2b-5c0f4b59fa05",
   "metadata": {},
   "source": [
    "- `__next__()` 함수가 있음 $\\to$ `zip([1,2,3],'abc')`은 그 자체로 iterator 이다!"
   ]
  },
  {
   "cell_type": "code",
   "execution_count": 178,
   "id": "92d7524c-f7d9-4ff2-abce-c281a56d5670",
   "metadata": {},
   "outputs": [],
   "source": [
    "z = zip([1,2,3],'abc')"
   ]
  },
  {
   "cell_type": "code",
   "execution_count": 179,
   "id": "41189420-dc0a-43e5-9dfb-7ba421615f74",
   "metadata": {},
   "outputs": [
    {
     "data": {
      "text/plain": [
       "(1, 'a')"
      ]
     },
     "execution_count": 179,
     "metadata": {},
     "output_type": "execute_result"
    }
   ],
   "source": [
    "z.__next__()"
   ]
  },
  {
   "cell_type": "code",
   "execution_count": 180,
   "id": "76aebcfb-52a0-4bc3-b7ce-9c7793297e65",
   "metadata": {},
   "outputs": [
    {
     "data": {
      "text/plain": [
       "(2, 'b')"
      ]
     },
     "execution_count": 180,
     "metadata": {},
     "output_type": "execute_result"
    }
   ],
   "source": [
    "z.__next__()"
   ]
  },
  {
   "cell_type": "code",
   "execution_count": 181,
   "id": "e2443ca6-b855-46d6-a6bc-b84e77fb8c78",
   "metadata": {},
   "outputs": [
    {
     "data": {
      "text/plain": [
       "(3, 'c')"
      ]
     },
     "execution_count": 181,
     "metadata": {},
     "output_type": "execute_result"
    }
   ],
   "source": [
    "z.__next__()"
   ]
  },
  {
   "cell_type": "code",
   "execution_count": 182,
   "id": "9c15e090-78ad-46f9-a52e-f272f3679dcd",
   "metadata": {},
   "outputs": [
    {
     "ename": "StopIteration",
     "evalue": "",
     "output_type": "error",
     "traceback": [
      "\u001b[0;31m---------------------------------------------------------------------------\u001b[0m",
      "\u001b[0;31mStopIteration\u001b[0m                             Traceback (most recent call last)",
      "\u001b[0;32m<ipython-input-182-4fa93f463859>\u001b[0m in \u001b[0;36m<module>\u001b[0;34m\u001b[0m\n\u001b[0;32m----> 1\u001b[0;31m \u001b[0mz\u001b[0m\u001b[0;34m.\u001b[0m\u001b[0m__next__\u001b[0m\u001b[0;34m(\u001b[0m\u001b[0;34m)\u001b[0m\u001b[0;34m\u001b[0m\u001b[0;34m\u001b[0m\u001b[0m\n\u001b[0m",
      "\u001b[0;31mStopIteration\u001b[0m: "
     ]
    }
   ],
   "source": [
    "z.__next__()"
   ]
  },
  {
   "cell_type": "markdown",
   "id": "85dd5c92-737a-4be6-a3b7-9acc736fe58e",
   "metadata": {},
   "source": [
    "### 사용자정의 이터레이터"
   ]
  },
  {
   "cell_type": "markdown",
   "id": "c3f1adf7-09d0-46ac-972f-a7b588d99480",
   "metadata": {},
   "source": [
    "`-` 내가 이터레이터를 만들어보자."
   ]
  },
  {
   "cell_type": "code",
   "execution_count": 183,
   "id": "8abefc72-e415-4b41-9bb2-0de461469c6e",
   "metadata": {},
   "outputs": [],
   "source": [
    "class Klass: # 찌를 내는 순간 for문이 멈추도록 하는 이터레이터를 만들자.\n",
    "    def __init__(self):\n",
    "        self.candidate = [\"묵\", \"찌\", \"빠\"]\n",
    "    def __iter__(self):\n",
    "        return self\n",
    "    def __next__(self):\n",
    "        action = np.random.choice(self.candidate)\n",
    "        if action == \"찌\":\n",
    "            print(\"찌가 나와서 for문을 멈춥니다.\")\n",
    "            raise StopIteration\n",
    "        else:\n",
    "            return action"
   ]
  },
  {
   "cell_type": "code",
   "execution_count": 184,
   "id": "79322e06-06d7-4da4-917a-e0ce7dccf3a2",
   "metadata": {},
   "outputs": [],
   "source": [
    "a=Klass()"
   ]
  },
  {
   "cell_type": "code",
   "execution_count": 185,
   "id": "847a8737-59ec-44cb-b27e-3974bb32d1f5",
   "metadata": {},
   "outputs": [
    {
     "data": {
      "text/plain": [
       "\u001b[0;31mType:\u001b[0m        Klass\n",
       "\u001b[0;31mString form:\u001b[0m <__main__.Klass object at 0x7f4b7aabf0d0>\n",
       "\u001b[0;31mDocstring:\u001b[0m   <no docstring>\n"
      ]
     },
     "metadata": {},
     "output_type": "display_data"
    }
   ],
   "source": [
    "a?"
   ]
  },
  {
   "cell_type": "code",
   "execution_count": 187,
   "id": "51d2d920-1c5e-452e-bfca-c2ff6d501619",
   "metadata": {},
   "outputs": [
    {
     "data": {
      "text/plain": [
       "{'__iter__', '__next__'}"
      ]
     },
     "execution_count": 187,
     "metadata": {},
     "output_type": "execute_result"
    }
   ],
   "source": [
    "set(dir(a)) & {'__iter__', '__next__'}  # a는 이터레이터"
   ]
  },
  {
   "cell_type": "code",
   "execution_count": 189,
   "id": "4430eeb6-3faa-49ea-81f2-3802e9f79909",
   "metadata": {},
   "outputs": [
    {
     "data": {
      "text/plain": [
       "'묵'"
      ]
     },
     "execution_count": 189,
     "metadata": {},
     "output_type": "execute_result"
    }
   ],
   "source": [
    "a.__next__()"
   ]
  },
  {
   "cell_type": "code",
   "execution_count": 190,
   "id": "a7917ac5-c1cb-4d3c-ade3-5dc5f831cc92",
   "metadata": {},
   "outputs": [
    {
     "data": {
      "text/plain": [
       "'빠'"
      ]
     },
     "execution_count": 190,
     "metadata": {},
     "output_type": "execute_result"
    }
   ],
   "source": [
    "a.__next__()"
   ]
  },
  {
   "cell_type": "code",
   "execution_count": 191,
   "id": "cacf5e33-a1b9-44ab-8571-2cacbaf86c24",
   "metadata": {},
   "outputs": [
    {
     "data": {
      "text/plain": [
       "'묵'"
      ]
     },
     "execution_count": 191,
     "metadata": {},
     "output_type": "execute_result"
    }
   ],
   "source": [
    "a.__next__()"
   ]
  },
  {
   "cell_type": "code",
   "execution_count": 192,
   "id": "a7cb1855-36bf-43ef-8e49-22f391c8a6c0",
   "metadata": {},
   "outputs": [
    {
     "data": {
      "text/plain": [
       "'빠'"
      ]
     },
     "execution_count": 192,
     "metadata": {},
     "output_type": "execute_result"
    }
   ],
   "source": [
    "a.__next__()"
   ]
  },
  {
   "cell_type": "code",
   "execution_count": 193,
   "id": "73b04ebc-5217-4b37-9984-ca9fba6e3388",
   "metadata": {},
   "outputs": [
    {
     "data": {
      "text/plain": [
       "'묵'"
      ]
     },
     "execution_count": 193,
     "metadata": {},
     "output_type": "execute_result"
    }
   ],
   "source": [
    "a.__next__()"
   ]
  },
  {
   "cell_type": "code",
   "execution_count": 194,
   "id": "fea45d8e-ccee-49a4-a295-f7531cf0e5d9",
   "metadata": {},
   "outputs": [
    {
     "data": {
      "text/plain": [
       "'묵'"
      ]
     },
     "execution_count": 194,
     "metadata": {},
     "output_type": "execute_result"
    }
   ],
   "source": [
    "a.__next__()"
   ]
  },
  {
   "cell_type": "code",
   "execution_count": 195,
   "id": "83ca426d-2ebf-4a63-8764-5216e477b86f",
   "metadata": {},
   "outputs": [
    {
     "name": "stdout",
     "output_type": "stream",
     "text": [
      "찌가 나와서 for문을 멈춥니다.\n"
     ]
    },
    {
     "ename": "StopIteration",
     "evalue": "",
     "output_type": "error",
     "traceback": [
      "\u001b[0;31m---------------------------------------------------------------------------\u001b[0m",
      "\u001b[0;31mStopIteration\u001b[0m                             Traceback (most recent call last)",
      "\u001b[0;32m<ipython-input-195-d34d2a8c0899>\u001b[0m in \u001b[0;36m<module>\u001b[0;34m\u001b[0m\n\u001b[0;32m----> 1\u001b[0;31m \u001b[0ma\u001b[0m\u001b[0;34m.\u001b[0m\u001b[0m__next__\u001b[0m\u001b[0;34m(\u001b[0m\u001b[0;34m)\u001b[0m\u001b[0;34m\u001b[0m\u001b[0;34m\u001b[0m\u001b[0m\n\u001b[0m",
      "\u001b[0;32m<ipython-input-183-204b5b8e222f>\u001b[0m in \u001b[0;36m__next__\u001b[0;34m(self)\u001b[0m\n\u001b[1;32m      8\u001b[0m         \u001b[0;32mif\u001b[0m \u001b[0maction\u001b[0m \u001b[0;34m==\u001b[0m \u001b[0;34m\"찌\"\u001b[0m\u001b[0;34m:\u001b[0m\u001b[0;34m\u001b[0m\u001b[0;34m\u001b[0m\u001b[0m\n\u001b[1;32m      9\u001b[0m             \u001b[0mprint\u001b[0m\u001b[0;34m(\u001b[0m\u001b[0;34m\"찌가 나와서 for문을 멈춥니다.\"\u001b[0m\u001b[0;34m)\u001b[0m\u001b[0;34m\u001b[0m\u001b[0;34m\u001b[0m\u001b[0m\n\u001b[0;32m---> 10\u001b[0;31m             \u001b[0;32mraise\u001b[0m \u001b[0mStopIteration\u001b[0m\u001b[0;34m\u001b[0m\u001b[0;34m\u001b[0m\u001b[0m\n\u001b[0m\u001b[1;32m     11\u001b[0m         \u001b[0;32melse\u001b[0m\u001b[0;34m:\u001b[0m\u001b[0;34m\u001b[0m\u001b[0;34m\u001b[0m\u001b[0m\n\u001b[1;32m     12\u001b[0m             \u001b[0;32mreturn\u001b[0m \u001b[0maction\u001b[0m\u001b[0;34m\u001b[0m\u001b[0;34m\u001b[0m\u001b[0m\n",
      "\u001b[0;31mStopIteration\u001b[0m: "
     ]
    }
   ],
   "source": [
    "a.__next__()"
   ]
  },
  {
   "cell_type": "code",
   "execution_count": 196,
   "id": "b8ed4219-e2be-4740-8866-e92775124b8e",
   "metadata": {},
   "outputs": [
    {
     "name": "stdout",
     "output_type": "stream",
     "text": [
      "묵\n",
      "묵\n",
      "묵\n",
      "찌가 나와서 for문을 멈춥니다.\n"
     ]
    }
   ],
   "source": [
    "for i in a:\n",
    "    print(i)"
   ]
  },
  {
   "cell_type": "markdown",
   "id": "9d57eced-2154-44c1-bbd8-9a50c5ac5678",
   "metadata": {},
   "source": [
    "### 파이썬의 비밀 1~5"
   ]
  },
  {
   "cell_type": "markdown",
   "id": "e29ee061-4eaa-4804-b416-2a255e6f1a19",
   "metadata": {},
   "source": [
    "- 파이썬의 비밀1: 자료형은 클래스의 비밀이다.(11주차)\n",
    "- 파이썬의 비밀2: 클래스에는 `__str__`처럼 숨겨진 메서드가 존재한다. 이를 이용하여 파이썬 내부의 기능을 가로챌 수 있다.(12주차0523)\n",
    "- 파이썬의 비밀3: 주피터노트북에서는 \"오브젝트이름+엔터\" 를 쳐서 나오는 출력은 `__repr__`로 가로챌 수 잇다.(주피터의 비밀)\n",
    "- 파이썬의 비밀4: 함수와 클래스는 숨겨진 메서드에 `__call__`을 가진 오브젝트일 뿐이다.\n",
    "- 파이썬의 비밀5: for문의 비밀 (iterable object, iterator, StopIteration Error)"
   ]
  },
  {
   "cell_type": "markdown",
   "id": "5fe90dc0-cd50-470b-8409-9a269177c5f9",
   "metadata": {},
   "source": [
    "## 클래스공부 9단계"
   ]
  },
  {
   "cell_type": "markdown",
   "id": "22b954c0-24c8-488c-a481-98940623c915",
   "metadata": {},
   "source": [
    "### 예비학습 (변수의 범위)"
   ]
  },
  {
   "cell_type": "markdown",
   "id": "32dc5f91-b557-498e-8878-c125286b7632",
   "metadata": {},
   "source": [
    "커널을 재시작하고 아래를 관찰하자"
   ]
  },
  {
   "cell_type": "markdown",
   "id": "91cc8b34-1497-4283-9de6-b276dd281bd8",
   "metadata": {},
   "source": [
    "예제1"
   ]
  },
  {
   "cell_type": "markdown",
   "id": "946aaed9-cb43-413e-a32f-9defb271b9e2",
   "metadata": {},
   "source": [
    "`-` 관찰1: 함수내의 변수 출력"
   ]
  },
  {
   "cell_type": "code",
   "execution_count": 1,
   "id": "b4b752a1-0f82-4bf7-976e-b2dd4cd9396e",
   "metadata": {},
   "outputs": [],
   "source": [
    "def f():\n",
    "    x=10\n",
    "    print(x)"
   ]
  },
  {
   "cell_type": "code",
   "execution_count": 2,
   "id": "4fb41548-c8cf-432c-85c0-582cc9584420",
   "metadata": {},
   "outputs": [
    {
     "name": "stdout",
     "output_type": "stream",
     "text": [
      "10\n"
     ]
    }
   ],
   "source": [
    "f()"
   ]
  },
  {
   "cell_type": "markdown",
   "id": "2b179c75-7a56-4f37-b379-1200059c6351",
   "metadata": {},
   "source": [
    "`-` 관찰2: 함수내의 변수가 없을 경우 출력이 되지 않음"
   ]
  },
  {
   "cell_type": "code",
   "execution_count": 3,
   "id": "4b6e4741-3a2f-4e43-840d-e63290d0ba06",
   "metadata": {},
   "outputs": [],
   "source": [
    "def g():\n",
    "    print(x)"
   ]
  },
  {
   "cell_type": "code",
   "execution_count": 4,
   "id": "138dc452-0975-4b12-b4c5-3d644013509b",
   "metadata": {},
   "outputs": [
    {
     "ename": "NameError",
     "evalue": "name 'x' is not defined",
     "output_type": "error",
     "traceback": [
      "\u001b[0;31m---------------------------------------------------------------------------\u001b[0m",
      "\u001b[0;31mNameError\u001b[0m                                 Traceback (most recent call last)",
      "\u001b[0;32m<ipython-input-4-5fd69ddb5074>\u001b[0m in \u001b[0;36m<module>\u001b[0;34m\u001b[0m\n\u001b[0;32m----> 1\u001b[0;31m \u001b[0mg\u001b[0m\u001b[0;34m(\u001b[0m\u001b[0;34m)\u001b[0m\u001b[0;34m\u001b[0m\u001b[0;34m\u001b[0m\u001b[0m\n\u001b[0m",
      "\u001b[0;32m<ipython-input-3-1d94cc520f82>\u001b[0m in \u001b[0;36mg\u001b[0;34m()\u001b[0m\n\u001b[1;32m      1\u001b[0m \u001b[0;32mdef\u001b[0m \u001b[0mg\u001b[0m\u001b[0;34m(\u001b[0m\u001b[0;34m)\u001b[0m\u001b[0;34m:\u001b[0m\u001b[0;34m\u001b[0m\u001b[0;34m\u001b[0m\u001b[0m\n\u001b[0;32m----> 2\u001b[0;31m     \u001b[0mprint\u001b[0m\u001b[0;34m(\u001b[0m\u001b[0mx\u001b[0m\u001b[0;34m)\u001b[0m\u001b[0;34m\u001b[0m\u001b[0;34m\u001b[0m\u001b[0m\n\u001b[0m",
      "\u001b[0;31mNameError\u001b[0m: name 'x' is not defined"
     ]
    }
   ],
   "source": [
    "g()"
   ]
  },
  {
   "cell_type": "markdown",
   "id": "f8defab2-d5fb-4454-ad4d-badf8d806a69",
   "metadata": {},
   "source": [
    "`-` 관찰3: 동일한 이름의 변수가 global에 있다면 함수내에 (local에) 그 이름의 변수가 선언되지 않아도 global의 변수를 빌려서 사용함"
   ]
  },
  {
   "cell_type": "code",
   "execution_count": 7,
   "id": "8c485ea9-e1db-4248-810d-6517a2db83dc",
   "metadata": {},
   "outputs": [],
   "source": [
    "x=20        # global\n",
    "def g():    # local\n",
    "    print(x)"
   ]
  },
  {
   "cell_type": "code",
   "execution_count": 8,
   "id": "dc37861a-87fc-4b2c-87ef-814dbadfab11",
   "metadata": {},
   "outputs": [
    {
     "name": "stdout",
     "output_type": "stream",
     "text": [
      "20\n"
     ]
    }
   ],
   "source": [
    "g()"
   ]
  },
  {
   "cell_type": "markdown",
   "id": "24b222c5-db44-4c39-aaed-86eca2de0031",
   "metadata": {},
   "source": [
    "`-` 관찰4: f()가 실행되면서 `x=10`이 함수내에 (=local에) 실행되지만 이 결과가 외부의 x=20에 (=global에) 영향을 미치지는 못함"
   ]
  },
  {
   "cell_type": "code",
   "execution_count": 10,
   "id": "8eb59e4c-043e-47e5-b01e-cea8cd2b7b1b",
   "metadata": {},
   "outputs": [
    {
     "name": "stdout",
     "output_type": "stream",
     "text": [
      "10\n"
     ]
    }
   ],
   "source": [
    "f()"
   ]
  },
  {
   "cell_type": "code",
   "execution_count": 12,
   "id": "3a399ca0-5e3f-45c6-ae89-67765eb16390",
   "metadata": {},
   "outputs": [
    {
     "data": {
      "text/plain": [
       "20"
      ]
     },
     "execution_count": 12,
     "metadata": {},
     "output_type": "execute_result"
    }
   ],
   "source": [
    "x"
   ]
  },
  {
   "cell_type": "markdown",
   "id": "192486c5-ba3e-46e5-b899-9c5d802c061f",
   "metadata": {},
   "source": [
    "**예제2**"
   ]
  },
  {
   "cell_type": "markdown",
   "id": "2b5eeb64-8b8a-4596-9da4-e0738480d66c",
   "metadata": {},
   "source": [
    "(코드1)"
   ]
  },
  {
   "cell_type": "code",
   "execution_count": 15,
   "id": "8dc7ec34-b462-4605-b73a-9f98aafc7704",
   "metadata": {},
   "outputs": [
    {
     "name": "stdout",
     "output_type": "stream",
     "text": [
      "38 39\n"
     ]
    }
   ],
   "source": [
    "x= 38\n",
    "def nextyear():\n",
    "    y=x+1\n",
    "    print(x,y)\n",
    "nextyear()"
   ]
  },
  {
   "cell_type": "markdown",
   "id": "a967c9bc-fdb5-4610-9e73-7a244bc68e04",
   "metadata": {},
   "source": [
    "(코드2)"
   ]
  },
  {
   "cell_type": "code",
   "execution_count": 16,
   "id": "0d5c70c8-adbb-460f-8823-25c14f87467a",
   "metadata": {},
   "outputs": [
    {
     "ename": "UnboundLocalError",
     "evalue": "local variable 'x' referenced before assignment",
     "output_type": "error",
     "traceback": [
      "\u001b[0;31m---------------------------------------------------------------------------\u001b[0m",
      "\u001b[0;31mUnboundLocalError\u001b[0m                         Traceback (most recent call last)",
      "\u001b[0;32m<ipython-input-16-76998c4de784>\u001b[0m in \u001b[0;36m<module>\u001b[0;34m\u001b[0m\n\u001b[1;32m      4\u001b[0m     \u001b[0mprint\u001b[0m\u001b[0;34m(\u001b[0m\u001b[0mx\u001b[0m\u001b[0;34m,\u001b[0m\u001b[0my\u001b[0m\u001b[0;34m)\u001b[0m\u001b[0;34m\u001b[0m\u001b[0;34m\u001b[0m\u001b[0m\n\u001b[1;32m      5\u001b[0m     \u001b[0mx\u001b[0m\u001b[0;34m=\u001b[0m\u001b[0;36m0\u001b[0m\u001b[0;34m\u001b[0m\u001b[0;34m\u001b[0m\u001b[0m\n\u001b[0;32m----> 6\u001b[0;31m \u001b[0mnextyear\u001b[0m\u001b[0;34m(\u001b[0m\u001b[0;34m)\u001b[0m\u001b[0;34m\u001b[0m\u001b[0;34m\u001b[0m\u001b[0m\n\u001b[0m",
      "\u001b[0;32m<ipython-input-16-76998c4de784>\u001b[0m in \u001b[0;36mnextyear\u001b[0;34m()\u001b[0m\n\u001b[1;32m      1\u001b[0m \u001b[0mx\u001b[0m\u001b[0;34m=\u001b[0m \u001b[0;36m38\u001b[0m\u001b[0;34m\u001b[0m\u001b[0;34m\u001b[0m\u001b[0m\n\u001b[1;32m      2\u001b[0m \u001b[0;32mdef\u001b[0m \u001b[0mnextyear\u001b[0m\u001b[0;34m(\u001b[0m\u001b[0;34m)\u001b[0m\u001b[0;34m:\u001b[0m\u001b[0;34m\u001b[0m\u001b[0;34m\u001b[0m\u001b[0m\n\u001b[0;32m----> 3\u001b[0;31m     \u001b[0my\u001b[0m\u001b[0;34m=\u001b[0m\u001b[0mx\u001b[0m\u001b[0;34m+\u001b[0m\u001b[0;36m1\u001b[0m\u001b[0;34m\u001b[0m\u001b[0;34m\u001b[0m\u001b[0m\n\u001b[0m\u001b[1;32m      4\u001b[0m     \u001b[0mprint\u001b[0m\u001b[0;34m(\u001b[0m\u001b[0mx\u001b[0m\u001b[0;34m,\u001b[0m\u001b[0my\u001b[0m\u001b[0;34m)\u001b[0m\u001b[0;34m\u001b[0m\u001b[0;34m\u001b[0m\u001b[0m\n\u001b[1;32m      5\u001b[0m     \u001b[0mx\u001b[0m\u001b[0;34m=\u001b[0m\u001b[0;36m0\u001b[0m\u001b[0;34m\u001b[0m\u001b[0;34m\u001b[0m\u001b[0m\n",
      "\u001b[0;31mUnboundLocalError\u001b[0m: local variable 'x' referenced before assignment"
     ]
    }
   ],
   "source": [
    "x= 38\n",
    "def nextyear():\n",
    "    y=x+1\n",
    "    print(x,y)\n",
    "    x=0\n",
    "nextyear()"
   ]
  },
  {
   "cell_type": "markdown",
   "id": "97eeddeb-a97e-42ee-b646-d8f9761100db",
   "metadata": {},
   "source": [
    "`-` 해석:\n",
    "- 잘못된 해석: 코드1은 실행되었고 코드 2에서 에러가 남. 코드1과 2의 차이점은 `x=0` 이라는 코드가 코드2에 추가로 포함되어 있다는 것이다. 따라서 `x=0`이 잘못된 코드이고 이걸 실행하는 과정에서 에러가 발생했다.\n",
    "- 올바른 해석: 코드1에서는 x가 global variable 이고 코드2에서는 x가 local bariable이어서 생기는 문제"
   ]
  },
  {
   "cell_type": "markdown",
   "id": "79d83524-a9d3-4142-9e1b-fc51aee3b1c7",
   "metadata": {},
   "source": [
    "`-` 코드2의 올바른 수정"
   ]
  },
  {
   "cell_type": "code",
   "execution_count": 17,
   "id": "b899666f-ee93-417d-b53f-16251ee12b54",
   "metadata": {},
   "outputs": [
    {
     "name": "stdout",
     "output_type": "stream",
     "text": [
      "0 1\n"
     ]
    }
   ],
   "source": [
    "x= 38\n",
    "def nextyear():\n",
    "    x=0\n",
    "    y=x+1\n",
    "    print(x,y)\n",
    "nextyear()"
   ]
  },
  {
   "cell_type": "markdown",
   "id": "a5c58a6e-57dc-4c42-b40f-9de573e51577",
   "metadata": {},
   "source": [
    "### 인스턴스 변수, 클래스 변수 (12주차) 0518"
   ]
  },
  {
   "cell_type": "markdown",
   "id": "dc536f77-6fb2-4308-8044-71aa445f9a16",
   "metadata": {},
   "source": [
    "`-` 예비학습이 주는 교훈\n",
    "\n",
    "(원칙1) global 에서 정의된 이름은 local에서 정의된 이름이 없을 경우 그를 대신할 수 있다. (local은 경우에 따라서 global에 있는 변수를 빌려 쓸 수 있다.)\n",
    "\n",
    "(원칙2) local과 global 에서 같은 이름이 'x'가 각각 정의되어 있는 경우? global의 변수와 local의 변수는 각각 따로 행동하며 서로 영향을 주지 않는다. (독립적이다)"
   ]
  },
  {
   "cell_type": "markdown",
   "id": "d57b4df6-cd3e-4cd3-a1b7-caa7f17166e6",
   "metadata": {},
   "source": [
    "- 만약에 local이 global의 변수를 같이 쓰고 있었다고 할지라도, 추후 새롭게 local에 이름이 새롭게 같은 이름의 변수가 정의된다면 그 순간 local과 global의 변수를 각자 따로 행동하며 서로 영향을 주지 않는다. $\\to$ 아래 예제 확인"
   ]
  },
  {
   "cell_type": "code",
   "execution_count": 18,
   "id": "ae21dafe-a512-4866-9d1d-c82de98733b1",
   "metadata": {},
   "outputs": [],
   "source": [
    "x=10\n",
    "def f():\n",
    "    print(x)"
   ]
  },
  {
   "cell_type": "code",
   "execution_count": 19,
   "id": "250f66ec-b3e5-474d-8a2d-af0e8a56481e",
   "metadata": {},
   "outputs": [
    {
     "name": "stdout",
     "output_type": "stream",
     "text": [
      "10\n"
     ]
    }
   ],
   "source": [
    "f() # x를 빌려쓰는 신세"
   ]
  },
  {
   "cell_type": "code",
   "execution_count": 22,
   "id": "c1581dab-d0e4-4035-b3e3-05ffb2acfb11",
   "metadata": {},
   "outputs": [],
   "source": [
    "def f():\n",
    "    x=20   # 이제 새롭게 x를 정의했으니까\n",
    "    print(x)"
   ]
  },
  {
   "cell_type": "code",
   "execution_count": 23,
   "id": "6549b3ae-2a7c-4919-b7ca-770c4e5c193e",
   "metadata": {},
   "outputs": [
    {
     "name": "stdout",
     "output_type": "stream",
     "text": [
      "20\n"
     ]
    }
   ],
   "source": [
    "f()    # 다른길을 간다"
   ]
  },
  {
   "cell_type": "markdown",
   "id": "33d66d91-b4de-459c-bfc2-76608e8442aa",
   "metadata": {},
   "source": [
    "`-` 이전에 공부하였던 인스턴스변수와 클래스변수 역시 비슷한 행동을 보인다."
   ]
  },
  {
   "cell_type": "code",
   "execution_count": 31,
   "id": "740d9ca9-668d-4097-be85-4d2c3eda2552",
   "metadata": {},
   "outputs": [],
   "source": [
    "class Moo:\n",
    "    x=0  # 클래스변수\n",
    "    \n",
    "    \n",
    "    ## 인스턴스변수는 self.x 또는 __init__ 이렇게"
   ]
  },
  {
   "cell_type": "code",
   "execution_count": 32,
   "id": "3e2b8216-d285-45c7-bfb0-5d1fb09a00e5",
   "metadata": {},
   "outputs": [],
   "source": [
    "moo=Moo()"
   ]
  },
  {
   "cell_type": "markdown",
   "id": "854f49a8-7881-4ac0-a87b-7a708d0e2019",
   "metadata": {},
   "source": [
    "(관찰1)"
   ]
  },
  {
   "cell_type": "code",
   "execution_count": 33,
   "id": "eba9e946-dac1-422a-a7e8-4b98db2977f2",
   "metadata": {},
   "outputs": [
    {
     "data": {
      "text/plain": [
       "(0, 0)"
      ]
     },
     "execution_count": 33,
     "metadata": {},
     "output_type": "execute_result"
    }
   ],
   "source": [
    "Moo.x, moo.x"
   ]
  },
  {
   "cell_type": "markdown",
   "id": "3be8563a-4b12-463b-9b2c-1e8f24bd9e40",
   "metadata": {},
   "source": [
    "- moo.x는 사실 정의한적 없지만 Moo.x 를 빌려쓰고 있다 (원칙1)"
   ]
  },
  {
   "cell_type": "markdown",
   "id": "1d47fd97-e6c6-429d-beae-7120a94360b1",
   "metadata": {},
   "source": [
    "(관찰2)"
   ]
  },
  {
   "cell_type": "code",
   "execution_count": 34,
   "id": "2a1f78b7-6aed-4c7a-8127-2aab1a92be41",
   "metadata": {},
   "outputs": [],
   "source": [
    "Moo.x=100"
   ]
  },
  {
   "cell_type": "code",
   "execution_count": 35,
   "id": "c9abe34a-068d-402e-b6b3-390c94730a27",
   "metadata": {},
   "outputs": [
    {
     "data": {
      "text/plain": [
       "(100, 100)"
      ]
     },
     "execution_count": 35,
     "metadata": {},
     "output_type": "execute_result"
    }
   ],
   "source": [
    "Moo.x, moo.x"
   ]
  },
  {
   "cell_type": "markdown",
   "id": "8575dbdb-08a9-484b-b6b2-09bd6622626d",
   "metadata": {},
   "source": [
    "- Moo.x를 변화시키면 moo.x도 변화한다. (빌려쓰고 있는 것이므로, 원칙1 재확인)"
   ]
  },
  {
   "cell_type": "markdown",
   "id": "4ccc7a29-7929-45f2-aeae-9313b3e35a59",
   "metadata": {},
   "source": [
    "(관찰3)"
   ]
  },
  {
   "cell_type": "code",
   "execution_count": 36,
   "id": "77e47136-1a2c-4d70-b1ec-4a7c6b8af796",
   "metadata": {},
   "outputs": [],
   "source": [
    "moo.x = 200"
   ]
  },
  {
   "cell_type": "code",
   "execution_count": 37,
   "id": "40e3951e-45d9-4f0d-bc50-a0a44caccafc",
   "metadata": {},
   "outputs": [
    {
     "data": {
      "text/plain": [
       "(100, 200)"
      ]
     },
     "execution_count": 37,
     "metadata": {},
     "output_type": "execute_result"
    }
   ],
   "source": [
    "Moo.x, moo.x"
   ]
  },
  {
   "cell_type": "markdown",
   "id": "f814d334-d200-4289-9b4e-0a52afb5df8d",
   "metadata": {},
   "source": [
    "- moo.x=200 을 하는 순간 새롭게 인스턴스 변수를 선언한 셈이 된다. 따라서 원칙2가 적용되어 이제부터 Moo.x와 moo.x는 서로 독립적으로 행동한다."
   ]
  },
  {
   "cell_type": "markdown",
   "id": "11266033-9d95-4e46-87f0-c4ee57b140b0",
   "metadata": {},
   "source": [
    "(관찰4)"
   ]
  },
  {
   "cell_type": "code",
   "execution_count": 38,
   "id": "21831fb5-087a-4eb4-b6bf-b69f278966a5",
   "metadata": {},
   "outputs": [],
   "source": [
    "Moo.x= -99"
   ]
  },
  {
   "cell_type": "code",
   "execution_count": 39,
   "id": "9cd74042-0c3e-4b41-9698-277a761f5a12",
   "metadata": {},
   "outputs": [
    {
     "data": {
      "text/plain": [
       "(-99, 200)"
      ]
     },
     "execution_count": 39,
     "metadata": {},
     "output_type": "execute_result"
    }
   ],
   "source": [
    "Moo.x, moo.x"
   ]
  },
  {
   "cell_type": "code",
   "execution_count": 40,
   "id": "ab6dcabd-f4c1-4c03-9266-e198e21e6f8e",
   "metadata": {},
   "outputs": [],
   "source": [
    "moo.x=99"
   ]
  },
  {
   "cell_type": "code",
   "execution_count": 41,
   "id": "e8e18e0c-832b-45f5-a515-456211da5186",
   "metadata": {},
   "outputs": [
    {
     "data": {
      "text/plain": [
       "(-99, 99)"
      ]
     },
     "execution_count": 41,
     "metadata": {},
     "output_type": "execute_result"
    }
   ],
   "source": [
    "Moo.x, moo.x"
   ]
  },
  {
   "cell_type": "markdown",
   "id": "4b4c531b-0b84-4654-b06d-ab9a14171e8d",
   "metadata": {},
   "source": [
    "- Moo.x를 바꾼다고 해서 moo.x가 영향받지 않고 moo.x를 바꿔도 Moo.x가 영향 받지 않음 (완전히 독립, 원칙2의 재확인)"
   ]
  },
  {
   "cell_type": "markdown",
   "id": "b71d1a7d-9ed9-49b1-bfc2-b22108a1a89f",
   "metadata": {},
   "source": [
    "`-` 포인트: (1) 클래스변수와 인스턴스 변수의 구분 (2) 인스턴스 변수가 정의되지 않으면 클래스변수를 빌려쓸 수 있음 (3) 인스턴스변수와 클래스변수가 같은 이름으로 저장되어 있으면 각각 독립적으로 행동 "
   ]
  },
  {
   "cell_type": "markdown",
   "id": "2bc27b59-3f9b-411c-a802-5c57f1fdd3b3",
   "metadata": {},
   "source": [
    "### 인스턴스 메서드"
   ]
  },
  {
   "cell_type": "markdown",
   "id": "2494d5a9-5e79-4738-8a54-18a4cd9b60c2",
   "metadata": {},
   "source": [
    "`-` self의 비밀: 사실 클래스에서 정의된 함수의 첫번째 인자의 이름이 꼭 self일 필요는 없다. (무엇으로 전달하든 클래스안에서 정의된 메소드의 첫번째 인자는 기본적으로 instance의 태명 역할을 한다.)"
   ]
  },
  {
   "cell_type": "code",
   "execution_count": 48,
   "id": "c680497f-9309-4c10-8a5b-1b14ebc659bc",
   "metadata": {},
   "outputs": [],
   "source": [
    "class Moo:\n",
    "    def __init__(abab):\n",
    "        abab.name = 'boram'\n",
    "    def f(self):\n",
    "        print(self.name)"
   ]
  },
  {
   "cell_type": "code",
   "execution_count": 49,
   "id": "7ecbe936-063d-426d-9292-2e4c5d8eff13",
   "metadata": {},
   "outputs": [],
   "source": [
    "moo=Moo()"
   ]
  },
  {
   "cell_type": "code",
   "execution_count": 50,
   "id": "e2b7eedb-9134-405b-9d08-b1da2c7d72cf",
   "metadata": {},
   "outputs": [
    {
     "data": {
      "text/plain": [
       "'boram'"
      ]
     },
     "execution_count": 50,
     "metadata": {},
     "output_type": "execute_result"
    }
   ],
   "source": [
    "moo.name"
   ]
  },
  {
   "cell_type": "code",
   "execution_count": 51,
   "id": "86e31a05-957e-435a-ad9f-f6ea4d89e978",
   "metadata": {},
   "outputs": [
    {
     "name": "stdout",
     "output_type": "stream",
     "text": [
      "boram\n"
     ]
    }
   ],
   "source": [
    "moo.f()"
   ]
  },
  {
   "cell_type": "code",
   "execution_count": 47,
   "id": "d789c1a8-72d3-4966-aa50-540739efaca6",
   "metadata": {},
   "outputs": [],
   "source": [
    "# self대신에 ababab 이런거 써도 되긴 함"
   ]
  },
  {
   "cell_type": "markdown",
   "id": "5f08eff7-68e0-4caf-8b8c-94c56572762d",
   "metadata": {},
   "source": [
    "`-` 인스턴스 메서드: 위의 `__init__` 와 `f` 와 같이 첫번째 인자를 인스턴스의 태명으로 받는 함수를 인스턴스 메서드(간단히 메서드) 라고 한다.\n",
    "- 인스턴스 메소드는 `self.f()` 와 같이 사용한다. 의미는 `f(self)` 이다."
   ]
  },
  {
   "cell_type": "code",
   "execution_count": 52,
   "id": "f14fdd9e-23e8-4d84-ab4a-c02895a29e4a",
   "metadata": {},
   "outputs": [],
   "source": [
    "moo.name = 'hynn'"
   ]
  },
  {
   "cell_type": "code",
   "execution_count": 55,
   "id": "0460273c-1c5a-49b6-935f-8636498d8820",
   "metadata": {},
   "outputs": [],
   "source": [
    "moo.__init__()   # 인스턴스메서드의 사용예시: self.__init__()의 꼴로 사용"
   ]
  },
  {
   "cell_type": "code",
   "execution_count": 56,
   "id": "07cefc12-e55d-46fa-aa7a-6481db2d44a0",
   "metadata": {},
   "outputs": [
    {
     "data": {
      "text/plain": [
       "'boram'"
      ]
     },
     "execution_count": 56,
     "metadata": {},
     "output_type": "execute_result"
    }
   ],
   "source": [
    "moo.name"
   ]
  },
  {
   "cell_type": "code",
   "execution_count": 57,
   "id": "0c147336-2d55-4121-8c1d-ee30e8eac9a9",
   "metadata": {},
   "outputs": [
    {
     "name": "stdout",
     "output_type": "stream",
     "text": [
      "boram\n"
     ]
    }
   ],
   "source": [
    "moo.f() # 인스턴스메서드의 사용예시: self.__init__()의 꼴로 사용"
   ]
  },
  {
   "cell_type": "code",
   "execution_count": 59,
   "id": "99e59b20-3680-4c4e-80b8-f2df331b11aa",
   "metadata": {},
   "outputs": [
    {
     "ename": "TypeError",
     "evalue": "__init__() missing 1 required positional argument: 'abab'",
     "output_type": "error",
     "traceback": [
      "\u001b[0;31m---------------------------------------------------------------------------\u001b[0m",
      "\u001b[0;31mTypeError\u001b[0m                                 Traceback (most recent call last)",
      "\u001b[0;32m<ipython-input-59-db4dc062ce4d>\u001b[0m in \u001b[0;36m<module>\u001b[0;34m\u001b[0m\n\u001b[0;32m----> 1\u001b[0;31m \u001b[0mMoo\u001b[0m\u001b[0;34m.\u001b[0m\u001b[0m__init__\u001b[0m\u001b[0;34m(\u001b[0m\u001b[0;34m)\u001b[0m  \u001b[0;31m# 사용안됨\u001b[0m\u001b[0;34m\u001b[0m\u001b[0;34m\u001b[0m\u001b[0m\n\u001b[0m",
      "\u001b[0;31mTypeError\u001b[0m: __init__() missing 1 required positional argument: 'abab'"
     ]
    }
   ],
   "source": [
    "Moo.__init__()  # 사용안됨"
   ]
  },
  {
   "cell_type": "code",
   "execution_count": 60,
   "id": "d59aad2b-8502-405a-ab95-48fcd78381f8",
   "metadata": {
    "tags": []
   },
   "outputs": [
    {
     "ename": "TypeError",
     "evalue": "f() missing 1 required positional argument: 'self'",
     "output_type": "error",
     "traceback": [
      "\u001b[0;31m---------------------------------------------------------------------------\u001b[0m",
      "\u001b[0;31mTypeError\u001b[0m                                 Traceback (most recent call last)",
      "\u001b[0;32m<ipython-input-60-0ba6e66e2543>\u001b[0m in \u001b[0;36m<module>\u001b[0;34m\u001b[0m\n\u001b[0;32m----> 1\u001b[0;31m \u001b[0mMoo\u001b[0m\u001b[0;34m.\u001b[0m\u001b[0mf\u001b[0m\u001b[0;34m(\u001b[0m\u001b[0;34m)\u001b[0m  \u001b[0;31m# 사용안됨\u001b[0m\u001b[0;34m\u001b[0m\u001b[0;34m\u001b[0m\u001b[0m\n\u001b[0m",
      "\u001b[0;31mTypeError\u001b[0m: f() missing 1 required positional argument: 'self'"
     ]
    }
   ],
   "source": [
    "Moo.f()  # 사용안됨"
   ]
  },
  {
   "cell_type": "markdown",
   "id": "48d3e1b7-867e-4b53-bc6f-310c803ea8c2",
   "metadata": {},
   "source": [
    "### 클래스 메서드"
   ]
  },
  {
   "cell_type": "markdown",
   "id": "966281f9-5e58-45d2-99ee-d3d862d25416",
   "metadata": {},
   "source": [
    "`-` 클래스 메서드: 함수의 첫 인자로 클래스오브젝트를 받는 메서드를 클래스 메서드라고 한다. "
   ]
  },
  {
   "cell_type": "markdown",
   "id": "aafa0c4c-5d05-48b1-90a4-78a7243262b0",
   "metadata": {},
   "source": [
    "`-` 목표: `Moo.f()`와 같은 형태로 사용할 수 있는 함수를 만들어 보자 -> 클래스 메서드를 만들어보자!"
   ]
  },
  {
   "cell_type": "code",
   "execution_count": 62,
   "id": "29d88943-251c-43e9-b1e3-6bfd0adea64a",
   "metadata": {},
   "outputs": [],
   "source": [
    "class Moo:\n",
    "    def f(self):\n",
    "        print(\"인스턴스 메서드\")"
   ]
  },
  {
   "cell_type": "code",
   "execution_count": 63,
   "id": "d86b6acf-e868-491f-b105-6808330813a8",
   "metadata": {},
   "outputs": [],
   "source": [
    "moo=Moo()"
   ]
  },
  {
   "cell_type": "code",
   "execution_count": 64,
   "id": "51647381-6dd8-4541-831f-cbb02e777ea8",
   "metadata": {},
   "outputs": [
    {
     "name": "stdout",
     "output_type": "stream",
     "text": [
      "인스턴스 메서드\n"
     ]
    }
   ],
   "source": [
    "moo.f()"
   ]
  },
  {
   "cell_type": "code",
   "execution_count": 65,
   "id": "80f388ed-4ec6-4651-b7ba-0b58d4095075",
   "metadata": {},
   "outputs": [
    {
     "ename": "TypeError",
     "evalue": "f() missing 1 required positional argument: 'self'",
     "output_type": "error",
     "traceback": [
      "\u001b[0;31m---------------------------------------------------------------------------\u001b[0m",
      "\u001b[0;31mTypeError\u001b[0m                                 Traceback (most recent call last)",
      "\u001b[0;32m<ipython-input-65-67f80ffe6b16>\u001b[0m in \u001b[0;36m<module>\u001b[0;34m\u001b[0m\n\u001b[0;32m----> 1\u001b[0;31m \u001b[0mMoo\u001b[0m\u001b[0;34m.\u001b[0m\u001b[0mf\u001b[0m\u001b[0;34m(\u001b[0m\u001b[0;34m)\u001b[0m\u001b[0;34m\u001b[0m\u001b[0;34m\u001b[0m\u001b[0m\n\u001b[0m",
      "\u001b[0;31mTypeError\u001b[0m: f() missing 1 required positional argument: 'self'"
     ]
    }
   ],
   "source": [
    "Moo.f()"
   ]
  },
  {
   "cell_type": "code",
   "execution_count": 67,
   "id": "d59e5e66-179d-40cb-9b7e-e038d0f9cd0f",
   "metadata": {},
   "outputs": [],
   "source": [
    "class Moo:\n",
    "    @classmethod\n",
    "    def f(cls):  # 함수의 첫 인자로 클래스오브젝트를 받는다. cls는 클래스 Moo의 가칭이라고 생각하면 된다.\n",
    "        print(\"클래스 메서드\")"
   ]
  },
  {
   "cell_type": "code",
   "execution_count": 68,
   "id": "9f35b1dc-41dd-4a03-8911-feabfa467255",
   "metadata": {},
   "outputs": [],
   "source": [
    "moo=Moo()"
   ]
  },
  {
   "cell_type": "code",
   "execution_count": 69,
   "id": "e6491a66-d69c-4f09-a2f0-cc8a80410e4b",
   "metadata": {},
   "outputs": [
    {
     "name": "stdout",
     "output_type": "stream",
     "text": [
      "클래스 메서드\n"
     ]
    }
   ],
   "source": [
    "Moo.f()"
   ]
  },
  {
   "cell_type": "code",
   "execution_count": 71,
   "id": "f1944f33-8f71-4e01-963b-b9c8fd88314e",
   "metadata": {},
   "outputs": [
    {
     "name": "stdout",
     "output_type": "stream",
     "text": [
      "클래스 메서드\n"
     ]
    }
   ],
   "source": [
    "moo.f()  # 상위에서 정의한걸 빌려옴.. \n",
    "#인스턴스 메서드를 따로 정의한적은 없지만 같은 이름의 클래스 메서드가 있으므로 빌려서 씀"
   ]
  },
  {
   "cell_type": "markdown",
   "id": "b6f767d0-6a0f-45c8-9ce5-f988e2f8ffb9",
   "metadata": {},
   "source": [
    "`-` 예제"
   ]
  },
  {
   "cell_type": "code",
   "execution_count": 83,
   "id": "a36a6ad8-235e-40de-a844-ece97ac69749",
   "metadata": {},
   "outputs": [],
   "source": [
    "class Moo:\n",
    "    @classmethod\n",
    "    def set_class_x(cls,value): # 클래스메서드\n",
    "        cls.x=value   # 클래스변수 선언, note: Moo.x = value와 같은 코드 \n",
    "    def set_instance_x(self, value): # 인스턴스메서드\n",
    "        self.x = value  # 인스턴스 변수선언"
   ]
  },
  {
   "cell_type": "code",
   "execution_count": 84,
   "id": "2c938972-fee5-4500-84cb-7544492df0b8",
   "metadata": {},
   "outputs": [],
   "source": [
    "moo=Moo()"
   ]
  },
  {
   "cell_type": "code",
   "execution_count": 85,
   "id": "be7cf7d3-0092-4dfe-9bb3-5252e6e75ae9",
   "metadata": {},
   "outputs": [],
   "source": [
    "Moo.set_class_x(10)   # 클래스 메서드로 클래스 변수에 10을 설정"
   ]
  },
  {
   "cell_type": "code",
   "execution_count": 86,
   "id": "f804d99f-7c40-4084-b833-36a76e4f85b7",
   "metadata": {},
   "outputs": [
    {
     "ename": "TypeError",
     "evalue": "set_instance_x() missing 1 required positional argument: 'value'",
     "output_type": "error",
     "traceback": [
      "\u001b[0;31m---------------------------------------------------------------------------\u001b[0m",
      "\u001b[0;31mTypeError\u001b[0m                                 Traceback (most recent call last)",
      "\u001b[0;32m<ipython-input-86-839969ee868b>\u001b[0m in \u001b[0;36m<module>\u001b[0;34m\u001b[0m\n\u001b[0;32m----> 1\u001b[0;31m \u001b[0mMoo\u001b[0m\u001b[0;34m.\u001b[0m\u001b[0mset_instance_x\u001b[0m\u001b[0;34m(\u001b[0m\u001b[0;36m10\u001b[0m\u001b[0;34m)\u001b[0m   \u001b[0;31m# 클래스에서 인스턴스 메서드를 사용 -> 사용 불가\u001b[0m\u001b[0;34m\u001b[0m\u001b[0;34m\u001b[0m\u001b[0m\n\u001b[0m",
      "\u001b[0;31mTypeError\u001b[0m: set_instance_x() missing 1 required positional argument: 'value'"
     ]
    }
   ],
   "source": [
    "Moo.set_instance_x(10)   # 클래스에서 인스턴스 메서드를 사용 -> 사용 불가"
   ]
  },
  {
   "cell_type": "code",
   "execution_count": 87,
   "id": "8913f355-d8e0-4c7f-a4a2-d97d2675d515",
   "metadata": {},
   "outputs": [
    {
     "data": {
      "text/plain": [
       "(10, 10)"
      ]
     },
     "execution_count": 87,
     "metadata": {},
     "output_type": "execute_result"
    }
   ],
   "source": [
    "Moo.x, moo.x   # 인스턴스 변수는 따로 설정하지 않았지만 클래스 변수값을 빌려쓰고 있음"
   ]
  },
  {
   "cell_type": "code",
   "execution_count": 90,
   "id": "49fe8c9a-9da5-4059-a628-caff8279d2ab",
   "metadata": {},
   "outputs": [],
   "source": [
    "moo.set_class_x(20) # 인스턴스에서는 원래 set_class_x 라는 메서드는 없지만 클래스에는 있어서 빌려씀"
   ]
  },
  {
   "cell_type": "code",
   "execution_count": 93,
   "id": "b170952f-98ee-4852-85f2-08b8cb2c8ddf",
   "metadata": {},
   "outputs": [
    {
     "data": {
      "text/plain": [
       "(20, 20)"
      ]
     },
     "execution_count": 93,
     "metadata": {},
     "output_type": "execute_result"
    }
   ],
   "source": [
    "Moo.x, moo.x  # 현재 moo.x는 클래스 변수를 빌려쓰고 있는 상황이므로 같이 바뀜"
   ]
  },
  {
   "cell_type": "code",
   "execution_count": 96,
   "id": "684f25d4-afee-4a93-9583-c73eb2bcb958",
   "metadata": {},
   "outputs": [],
   "source": [
    "moo.set_instance_x(-20) # 인스턴스에서 인스턴스 메서드를 사용하여 인스턴스 변수값을 -20으로 설정\n",
    "#-> 이때부터 인스턴스변수와 클래스 변수는 서로 독립적인 노선을 간다."
   ]
  },
  {
   "cell_type": "code",
   "execution_count": 97,
   "id": "dcc29c0d-ea52-4169-bf2f-4ffa8a96c384",
   "metadata": {},
   "outputs": [
    {
     "data": {
      "text/plain": [
       "(20, -20)"
      ]
     },
     "execution_count": 97,
     "metadata": {},
     "output_type": "execute_result"
    }
   ],
   "source": [
    "Moo.x, moo.x "
   ]
  },
  {
   "cell_type": "code",
   "execution_count": 100,
   "id": "55c10319-30c1-42c3-926a-0e4c573bb243",
   "metadata": {},
   "outputs": [],
   "source": [
    "Moo.set_class_x(30)   # 독립적인 노선을 가기로 했으므로 클래스변수만 30으로 바뀜"
   ]
  },
  {
   "cell_type": "code",
   "execution_count": 99,
   "id": "ed4d6a1c-31d0-4307-ab82-4125f9c70753",
   "metadata": {},
   "outputs": [
    {
     "data": {
      "text/plain": [
       "(30, -20)"
      ]
     },
     "execution_count": 99,
     "metadata": {},
     "output_type": "execute_result"
    }
   ],
   "source": [
    "Moo.x, moo.x "
   ]
  },
  {
   "cell_type": "code",
   "execution_count": 102,
   "id": "cfebd0ed-1e46-4a40-b709-ba36d08de3bf",
   "metadata": {},
   "outputs": [
    {
     "data": {
      "text/plain": [
       "(-40, -20)"
      ]
     },
     "execution_count": 102,
     "metadata": {},
     "output_type": "execute_result"
    }
   ],
   "source": [
    "moo.set_class_x(-40)   # 여전히 인스턴스에서 set_class_x라는 함수는 없으므로 클래스메서드를 빌려쓰고 있음\n",
    "Moo.x, moo.x"
   ]
  },
  {
   "cell_type": "markdown",
   "id": "ceaba615-892d-4b45-8eab-5d368e6550a0",
   "metadata": {},
   "source": [
    "### 스태틱 메서드"
   ]
  },
  {
   "cell_type": "markdown",
   "id": "f78e993c-79c3-4b39-a94e-1002c814b0d8",
   "metadata": {},
   "source": [
    "`-` 스태틱 메서드: 첫 인자로 인스턴스와 클래스 모두 받지 않음. (클래스 안에 정의되어 있지만 그냥 함수와 같음)"
   ]
  },
  {
   "cell_type": "code",
   "execution_count": 103,
   "id": "f9f1ac4c-b1cf-43a9-9037-a8383b5e3eff",
   "metadata": {},
   "outputs": [],
   "source": [
    "class Cals:\n",
    "    @staticmethod\n",
    "    def add(a,b):\n",
    "        return a+b\n",
    "    @staticmethod\n",
    "    def sub(a,b):\n",
    "        return a-b"
   ]
  },
  {
   "cell_type": "code",
   "execution_count": 104,
   "id": "a45b03e0-01af-4612-b651-3657f1e4d38c",
   "metadata": {},
   "outputs": [],
   "source": [
    "fs = Cals()"
   ]
  },
  {
   "cell_type": "code",
   "execution_count": 105,
   "id": "b772620e-b137-4a6f-97be-e3e3487ace4e",
   "metadata": {},
   "outputs": [
    {
     "data": {
      "text/plain": [
       "3"
      ]
     },
     "execution_count": 105,
     "metadata": {},
     "output_type": "execute_result"
    }
   ],
   "source": [
    "fs.add(1,2)"
   ]
  },
  {
   "cell_type": "code",
   "execution_count": 106,
   "id": "07a331ce-0359-4454-a1ab-3d9b0bf8e9c7",
   "metadata": {},
   "outputs": [
    {
     "data": {
      "text/plain": [
       "-1"
      ]
     },
     "execution_count": 106,
     "metadata": {},
     "output_type": "execute_result"
    }
   ],
   "source": [
    "fs.sub(1,2)"
   ]
  },
  {
   "cell_type": "markdown",
   "id": "5aff164f-8dcc-42cd-85ef-12600d28c25f",
   "metadata": {},
   "source": [
    "- fs는 그냥 함수들을 묶어놓은 느낌? 정리하기 편하게"
   ]
  },
  {
   "cell_type": "markdown",
   "id": "738fcb44-a7b3-4ece-a6f2-b7e2fc7d281c",
   "metadata": {},
   "source": [
    "## 클래스공부 10단계"
   ]
  },
  {
   "cell_type": "markdown",
   "id": "12ee4ed6-d08b-4da1-9925-c777a1b063bc",
   "metadata": {},
   "source": [
    "### 문자열 join"
   ]
  },
  {
   "cell_type": "markdown",
   "id": "c789baa3-a63c-4bd0-996f-21bee2d15f91",
   "metadata": {},
   "source": [
    "`-` 예제"
   ]
  },
  {
   "cell_type": "code",
   "execution_count": 107,
   "id": "3ca3d978-55d9-4259-9cf0-7d596ca3798f",
   "metadata": {},
   "outputs": [],
   "source": [
    "lst = list('abcd')"
   ]
  },
  {
   "cell_type": "code",
   "execution_count": 108,
   "id": "8a722e88-0b1c-4843-a1b1-9e7ea0620199",
   "metadata": {},
   "outputs": [
    {
     "data": {
      "text/plain": [
       "['a', 'b', 'c', 'd']"
      ]
     },
     "execution_count": 108,
     "metadata": {},
     "output_type": "execute_result"
    }
   ],
   "source": [
    "list('abcd')"
   ]
  },
  {
   "cell_type": "code",
   "execution_count": 110,
   "id": "572233f3-10c9-4f88-87a9-8cf2959e164c",
   "metadata": {},
   "outputs": [
    {
     "data": {
      "text/plain": [
       "'abcd'"
      ]
     },
     "execution_count": 110,
     "metadata": {},
     "output_type": "execute_result"
    }
   ],
   "source": [
    "'abcd' #위의 리스트를 이렇게 모여서 쓰여지게 하고 싶다"
   ]
  },
  {
   "cell_type": "code",
   "execution_count": 111,
   "id": "ad72ca63-f17c-439c-94eb-640fbd09c3a0",
   "metadata": {},
   "outputs": [
    {
     "data": {
      "text/plain": [
       "'abcd'"
      ]
     },
     "execution_count": 111,
     "metadata": {},
     "output_type": "execute_result"
    }
   ],
   "source": [
    "''.join(lst)"
   ]
  },
  {
   "cell_type": "markdown",
   "id": "415c1e6a-73db-4f8a-9ee0-845e6062accd",
   "metadata": {},
   "source": [
    "`-` 해설: ''는 string object이고 `.join`는 string object에 소속된 메서드이다."
   ]
  },
  {
   "cell_type": "code",
   "execution_count": 112,
   "id": "e83b4b46-1ae0-48d5-80a4-9e920b2ce61d",
   "metadata": {},
   "outputs": [],
   "source": [
    "a=''"
   ]
  },
  {
   "cell_type": "code",
   "execution_count": 113,
   "id": "70b52ba7-bfb9-477d-92bd-453c35998338",
   "metadata": {},
   "outputs": [
    {
     "data": {
      "text/plain": [
       "\u001b[0;31mType:\u001b[0m        str\n",
       "\u001b[0;31mString form:\u001b[0m \n",
       "\u001b[0;31mLength:\u001b[0m      0\n",
       "\u001b[0;31mDocstring:\u001b[0m  \n",
       "str(object='') -> str\n",
       "str(bytes_or_buffer[, encoding[, errors]]) -> str\n",
       "\n",
       "Create a new string object from the given object. If encoding or\n",
       "errors is specified, then the object must expose a data buffer\n",
       "that will be decoded using the given encoding and error handler.\n",
       "Otherwise, returns the result of object.__str__() (if defined)\n",
       "or repr(object).\n",
       "encoding defaults to sys.getdefaultencoding().\n",
       "errors defaults to 'strict'.\n"
      ]
     },
     "metadata": {},
     "output_type": "display_data"
    }
   ],
   "source": [
    "a?"
   ]
  },
  {
   "cell_type": "code",
   "execution_count": 114,
   "id": "80191670-2b58-4ecb-af9a-1e0c1a94e6ef",
   "metadata": {},
   "outputs": [
    {
     "data": {
      "text/plain": [
       "\u001b[0;31mSignature:\u001b[0m \u001b[0ma\u001b[0m\u001b[0;34m.\u001b[0m\u001b[0mjoin\u001b[0m\u001b[0;34m(\u001b[0m\u001b[0miterable\u001b[0m\u001b[0;34m,\u001b[0m \u001b[0;34m/\u001b[0m\u001b[0;34m)\u001b[0m\u001b[0;34m\u001b[0m\u001b[0;34m\u001b[0m\u001b[0m\n",
       "\u001b[0;31mDocstring:\u001b[0m\n",
       "Concatenate any number of strings.\n",
       "\n",
       "The string whose method is called is inserted in between each given string.\n",
       "The result is returned as a new string.\n",
       "\n",
       "Example: '.'.join(['ab', 'pq', 'rs']) -> 'ab.pq.rs'\n",
       "\u001b[0;31mType:\u001b[0m      builtin_function_or_method\n"
      ]
     },
     "metadata": {},
     "output_type": "display_data"
    }
   ],
   "source": [
    "a.join?"
   ]
  },
  {
   "cell_type": "code",
   "execution_count": 115,
   "id": "833ef377-fa31-4150-8a79-1ef2d2c70da4",
   "metadata": {},
   "outputs": [
    {
     "data": {
      "text/plain": [
       "'abcd'"
      ]
     },
     "execution_count": 115,
     "metadata": {},
     "output_type": "execute_result"
    }
   ],
   "source": [
    "a.join(lst)  # join(a,lst)와 같은효과"
   ]
  },
  {
   "cell_type": "markdown",
   "id": "1d28be0f-4ca3-4944-a7e4-8cd6569a536e",
   "metadata": {},
   "source": [
    "`-` join의 간단한 사용방법"
   ]
  },
  {
   "cell_type": "code",
   "execution_count": 117,
   "id": "5ed52589-3f59-4064-aabf-2b9adaa176b3",
   "metadata": {},
   "outputs": [
    {
     "data": {
      "text/plain": [
       "'a-b-c-d'"
      ]
     },
     "execution_count": 117,
     "metadata": {},
     "output_type": "execute_result"
    }
   ],
   "source": [
    "'-'.join(lst)  # '' 안에 - 넣어서 "
   ]
  },
  {
   "cell_type": "markdown",
   "id": "9293a3eb-d3a0-4308-8524-c7b1824a7f1d",
   "metadata": {},
   "source": [
    "### matplotlib"
   ]
  },
  {
   "cell_type": "markdown",
   "id": "dcb1fc8b-ca62-4d7a-9b4c-79d6f99ca328",
   "metadata": {
    "tags": []
   },
   "source": [
    "`-` 파이썬의 모든 것은 객체이다: - matplotlib의 다른사용 (객체지향적 언어로 그림 그리기!)"
   ]
  },
  {
   "cell_type": "markdown",
   "id": "467caa7a-e2a4-4e3f-a65e-0f2f37d330ef",
   "metadata": {},
   "source": []
  },
  {
   "cell_type": "markdown",
   "id": "129b5124-c275-446f-b0e3-9fb7c7249a50",
   "metadata": {},
   "source": [
    "`-` 그림 오브젝트 생성"
   ]
  },
  {
   "cell_type": "code",
   "execution_count": 120,
   "id": "c20aae3b-75f5-46d5-8eec-3ad253cb8226",
   "metadata": {},
   "outputs": [
    {
     "data": {
      "text/plain": [
       "<Figure size 432x288 with 0 Axes>"
      ]
     },
     "metadata": {},
     "output_type": "display_data"
    }
   ],
   "source": [
    "fig = plt.figure() # 그림 오브젝트가 생성되고 fig라는 이름 "
   ]
  },
  {
   "cell_type": "code",
   "execution_count": 121,
   "id": "a9bf0458-9bb8-4e84-a762-b2b1f0b38f8c",
   "metadata": {},
   "outputs": [
    {
     "data": {
      "text/plain": [
       "<Figure size 432x288 with 0 Axes>"
      ]
     },
     "execution_count": 121,
     "metadata": {},
     "output_type": "execute_result"
    }
   ],
   "source": [
    "fig"
   ]
  },
  {
   "cell_type": "markdown",
   "id": "d67d0c0b-ddd1-47ba-a09e-b0e88b615c8c",
   "metadata": {},
   "source": [
    "`-` 그림 오브젝트의 액시즈를 확인 -> 아무것도 없음.."
   ]
  },
  {
   "cell_type": "code",
   "execution_count": 124,
   "id": "a14f6407-0bb1-406a-9a94-b0b8be911c08",
   "metadata": {},
   "outputs": [
    {
     "data": {
      "text/plain": [
       "[]"
      ]
     },
     "execution_count": 124,
     "metadata": {},
     "output_type": "execute_result"
    }
   ],
   "source": [
    "fig.axes"
   ]
  },
  {
   "cell_type": "markdown",
   "id": "9eb0f41e-992c-4fb4-9300-2ac7c5089634",
   "metadata": {},
   "source": [
    "`-` (0,0) 자리에 (가로=1, 세로=1) 크기의 그림틀(액시즈)을 넣어보자."
   ]
  },
  {
   "cell_type": "code",
   "execution_count": 125,
   "id": "70410581-9af7-4294-9c81-b2302dddba04",
   "metadata": {},
   "outputs": [
    {
     "data": {
      "text/plain": [
       "<Axes:>"
      ]
     },
     "execution_count": 125,
     "metadata": {},
     "output_type": "execute_result"
    }
   ],
   "source": [
    "fig.add_axes([0,0,1,1])"
   ]
  },
  {
   "cell_type": "code",
   "execution_count": 126,
   "id": "156e5581-8f63-4e51-8d2c-e27c6b92409e",
   "metadata": {},
   "outputs": [
    {
     "data": {
      "text/plain": [
       "[<Axes:>]"
      ]
     },
     "execution_count": 126,
     "metadata": {},
     "output_type": "execute_result"
    }
   ],
   "source": [
    "fig.axes"
   ]
  },
  {
   "cell_type": "code",
   "execution_count": 127,
   "id": "0bdfe5f8-0876-4cb7-9937-b105e29e1f99",
   "metadata": {},
   "outputs": [
    {
     "data": {
      "image/png": "[encoded data removed]",
      "text/plain": [
       "<Figure size 432x288 with 1 Axes>"
      ]
     },
     "execution_count": 127,
     "metadata": {},
     "output_type": "execute_result"
    }
   ],
   "source": [
    "fig"
   ]
  },
  {
   "cell_type": "markdown",
   "id": "0d8340b4-55b3-4302-bc97-ec02af60f270",
   "metadata": {},
   "source": [
    "`-` 액시즈추가"
   ]
  },
  {
   "cell_type": "code",
   "execution_count": 128,
   "id": "087c4e7a-b6d9-4884-9630-dfc7a376a3fa",
   "metadata": {},
   "outputs": [
    {
     "data": {
      "text/plain": [
       "<Axes:>"
      ]
     },
     "execution_count": 128,
     "metadata": {},
     "output_type": "execute_result"
    }
   ],
   "source": [
    "fig.add_axes([0,1.2, 1,1])  #   (0,1.2) 위치에  가로길이가 1, 세로길이가 1인 그림"
   ]
  },
  {
   "cell_type": "code",
   "execution_count": 129,
   "id": "8d2cde0d-587e-4303-852b-8ff6d7e78d18",
   "metadata": {},
   "outputs": [
    {
     "data": {
      "image/png": "[encoded data removed]",
      "text/plain": [
       "<Figure size 432x288 with 2 Axes>"
      ]
     },
     "execution_count": 129,
     "metadata": {},
     "output_type": "execute_result"
    }
   ],
   "source": [
    "fig"
   ]
  },
  {
   "cell_type": "markdown",
   "id": "bfd9e382-eae0-43b3-976c-4683a5a88fdd",
   "metadata": {},
   "source": [
    "`-` (0.5,0.5) 위치에 (가로=1, 세로=1 ) 크기의 그림 추가"
   ]
  },
  {
   "cell_type": "code",
   "execution_count": 130,
   "id": "3fb30763-9c38-40ab-9dc7-2de8a9340043",
   "metadata": {},
   "outputs": [
    {
     "data": {
      "text/plain": [
       "<Axes:>"
      ]
     },
     "execution_count": 130,
     "metadata": {},
     "output_type": "execute_result"
    }
   ],
   "source": [
    "fig.add_axes([0.5,0.5,1,1])"
   ]
  },
  {
   "cell_type": "code",
   "execution_count": 131,
   "id": "2f6e60b7-cb59-4402-a333-e753f1d9f34c",
   "metadata": {},
   "outputs": [
    {
     "data": {
      "image/png": "[encoded data removed]",
      "text/plain": [
       "<Figure size 432x288 with 3 Axes>"
      ]
     },
     "execution_count": 131,
     "metadata": {},
     "output_type": "execute_result"
    }
   ],
   "source": [
    "fig"
   ]
  },
  {
   "cell_type": "markdown",
   "id": "4d819530-7820-43b8-b22e-d1dd1fce0bb3",
   "metadata": {},
   "source": [
    "`-` fig 의 세번째 액시즈에 접근"
   ]
  },
  {
   "cell_type": "code",
   "execution_count": 134,
   "id": "f32879e9-262c-497c-bb61-060ceb42b371",
   "metadata": {},
   "outputs": [
    {
     "data": {
      "text/plain": [
       "<Axes:>"
      ]
     },
     "execution_count": 134,
     "metadata": {},
     "output_type": "execute_result"
    }
   ],
   "source": [
    "a3=fig.axes[2]   # id 찍어보면 어딘가게 엊장되어 있음. 오브젝트임\n",
    "a3"
   ]
  },
  {
   "cell_type": "markdown",
   "id": "b18d540c-63b3-43d3-a3a1-35ef2c710de8",
   "metadata": {},
   "source": [
    "`-` 액시즈의 메소드중에 plot가 있음 -> 이것을 그림으로 그려보자"
   ]
  },
  {
   "cell_type": "code",
   "execution_count": 135,
   "id": "0513f7b8-8ad8-468a-b2cf-efca2b9c5cfa",
   "metadata": {},
   "outputs": [
    {
     "data": {
      "text/plain": [
       "[<matplotlib.lines.Line2D at 0x7fe85f1d6e50>]"
      ]
     },
     "execution_count": 135,
     "metadata": {},
     "output_type": "execute_result"
    }
   ],
   "source": [
    "a3.plot([1,2,3],[4,5,3],'--r')   # --r : 점선으로 빨간색으로 "
   ]
  },
  {
   "cell_type": "code",
   "execution_count": 137,
   "id": "6b221c1a-747e-4ee1-b9ec-4817db846638",
   "metadata": {},
   "outputs": [
    {
     "data": {
      "image/png": "[encoded data removed]",
      "text/plain": [
       "<Figure size 432x288 with 3 Axes>"
      ]
     },
     "execution_count": 137,
     "metadata": {},
     "output_type": "execute_result"
    }
   ],
   "source": [
    "fig"
   ]
  },
  {
   "cell_type": "markdown",
   "id": "86fbeff7-47e3-482b-8614-22330c7448b5",
   "metadata": {},
   "source": [
    "`-` 다시 세번째 축에 접근하여 다른그림을 그려보자."
   ]
  },
  {
   "cell_type": "code",
   "execution_count": 138,
   "id": "3b728464-befb-48c6-8d4a-1bea1651030b",
   "metadata": {},
   "outputs": [
    {
     "data": {
      "image/png": "[encoded data removed]",
      "text/plain": [
       "<Figure size 432x288 with 3 Axes>"
      ]
     },
     "execution_count": 138,
     "metadata": {},
     "output_type": "execute_result"
    }
   ],
   "source": [
    "fig.axes[-1].plot([1,2,3],[5,4,3],':o')\n",
    "fig"
   ]
  },
  {
   "cell_type": "markdown",
   "id": "b74cdfaa-8090-4a76-bed6-0d4a3a0373af",
   "metadata": {},
   "source": [
    "`-` 이제 첫번째 축에 접근하여 다른그림을 그려보자."
   ]
  },
  {
   "cell_type": "code",
   "execution_count": 139,
   "id": "3de379c4-2e58-436d-8e03-1707fe49eefc",
   "metadata": {},
   "outputs": [
    {
     "data": {
      "image/png": "[encoded data removed]",
      "text/plain": [
       "<Figure size 432x288 with 3 Axes>"
      ]
     },
     "execution_count": 139,
     "metadata": {},
     "output_type": "execute_result"
    }
   ],
   "source": [
    "fig.axes[0].plot([1,2,3],[4,1,4],'--b')\n",
    "fig"
   ]
  },
  {
   "cell_type": "markdown",
   "id": "0c538e06-5f0a-450e-a1db-34a73df7eced",
   "metadata": {},
   "source": [
    "`-` 클래스에 대한 이해가 없다면 위와 같은 그림을 그리기도 힘들고 코드를 해석하기도 힘듬"
   ]
  },
  {
   "cell_type": "markdown",
   "id": "fd46f67a-9ec1-4caf-a99f-c0c143cdaf1f",
   "metadata": {},
   "source": [
    "### shallow copy"
   ]
  },
  {
   "cell_type": "markdown",
   "id": "6f2f6a01-1389-420f-ac26-bff2255063aa",
   "metadata": {},
   "source": [
    "`-` 아래의 코드를 관찰하자."
   ]
  },
  {
   "cell_type": "code",
   "execution_count": 140,
   "id": "e21dcb08-e7ba-4148-95c1-523693183405",
   "metadata": {},
   "outputs": [],
   "source": [
    "a=[1,2,3]\n",
    "b=a\n",
    "a=a+[4]"
   ]
  },
  {
   "cell_type": "markdown",
   "id": "9ce35cf9-a723-404c-a3a5-e501bca18beb",
   "metadata": {},
   "source": [
    "현재 a,b의 출력 결과는?"
   ]
  },
  {
   "cell_type": "code",
   "execution_count": 143,
   "id": "2e3b0e6d-888f-42b9-820d-26572196a3d0",
   "metadata": {},
   "outputs": [
    {
     "data": {
      "text/plain": [
       "([1, 2, 3, 4], [1, 2, 3])"
      ]
     },
     "execution_count": 143,
     "metadata": {},
     "output_type": "execute_result"
    }
   ],
   "source": [
    "a, b"
   ]
  },
  {
   "cell_type": "markdown",
   "id": "b484f645-85c5-4dff-9cbb-d621478f17f6",
   "metadata": {},
   "source": [
    "`-` 이제 다시 아래의 코드를 관찰하자."
   ]
  },
  {
   "cell_type": "code",
   "execution_count": 144,
   "id": "9676ac6d-591f-49c6-8922-4c3db5a5cdc0",
   "metadata": {},
   "outputs": [],
   "source": [
    "a=[1,2,3]\n",
    "b=a\n",
    "a.append(4)"
   ]
  },
  {
   "cell_type": "markdown",
   "id": "165d20c9-74d2-480f-99b6-7205e2562225",
   "metadata": {},
   "source": [
    "현재 a,b의 출력 결과는?"
   ]
  },
  {
   "cell_type": "code",
   "execution_count": 145,
   "id": "fd496e63-7584-45d5-a6bb-77bc956dca06",
   "metadata": {},
   "outputs": [
    {
     "data": {
      "text/plain": [
       "([1, 2, 3, 4], [1, 2, 3, 4])"
      ]
     },
     "execution_count": 145,
     "metadata": {},
     "output_type": "execute_result"
    }
   ],
   "source": [
    "a, b"
   ]
  },
  {
   "cell_type": "code",
   "execution_count": null,
   "id": "8f109a60-0d34-4926-82b0-e4945d4347fe",
   "metadata": {},
   "outputs": [],
   "source": []
  }
 ],
 "metadata": {
  "kernelspec": {
   "display_name": "Python 3",
   "language": "python",
   "name": "python3"
  },
  "language_info": {
   "codemirror_mode": {
    "name": "ipython",
    "version": 3
   },
   "file_extension": ".py",
   "mimetype": "text/x-python",
   "name": "python",
   "nbconvert_exporter": "python",
   "pygments_lexer": "ipython3",
   "version": "3.7.16"
  }
 },
 "nbformat": 4,
 "nbformat_minor": 5
}
