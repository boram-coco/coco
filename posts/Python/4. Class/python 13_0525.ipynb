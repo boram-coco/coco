{
 "cells": [
  {
   "cell_type": "raw",
   "id": "c8406ca4-c77c-4da1-adf3-34021e9467b4",
   "metadata": {},
   "source": [
    "---\n",
    "title: \"파이썬 (0525) 13주차 \"\n",
    "author: \"김보람\"\n",
    "date: \"05/25/2022\"\n",
    "categories:\n",
    "  - 클래스\n",
    "---"
   ]
  },
  {
   "cell_type": "code",
   "execution_count": 71,
   "id": "99d9d7d2-1642-4aff-b7d2-4c9bd6641d2a",
   "metadata": {},
   "outputs": [],
   "source": [
    "import numpy as np"
   ]
  },
  {
   "cell_type": "markdown",
   "id": "22121472-ac5c-4c80-b6a4-4c770ee7e67a",
   "metadata": {},
   "source": [
    "## 클래스 공부 5단계"
   ]
  },
  {
   "cell_type": "markdown",
   "id": "01667ac2-3358-4c52-9895-fe64146d3dae",
   "metadata": {},
   "source": [
    "`-` 지난시간까지 배운것: RPC자료형에 한정해서 print() 등의 기능을 조작할 수 있었다. (재정의 할 수 있었다.)"
   ]
  },
  {
   "cell_type": "markdown",
   "id": "2387f620-8e29-4332-924a-24b4663c0c3d",
   "metadata": {},
   "source": [
    "`-` 이번시간에 배울것: 특정자료형에 한정하여 print 이외의 파이썬 내부기능을 조작하여 보자. (재정의하여 보자)"
   ]
  },
  {
   "cell_type": "markdown",
   "id": "a0b77bd3-88ec-48d3-b9eb-2c783402033d",
   "metadata": {},
   "source": [
    "### motive"
   ]
  },
  {
   "cell_type": "code",
   "execution_count": 1,
   "id": "97291266-335d-426e-8bc3-1a5bd84b73c8",
   "metadata": {},
   "outputs": [],
   "source": [
    "a=1\n",
    "b=2"
   ]
  },
  {
   "cell_type": "code",
   "execution_count": 2,
   "id": "9e9976e2-335c-4582-b9ed-7a50a15b9260",
   "metadata": {},
   "outputs": [
    {
     "data": {
      "text/plain": [
       "int"
      ]
     },
     "execution_count": 2,
     "metadata": {},
     "output_type": "execute_result"
    }
   ],
   "source": [
    "type(a)"
   ]
  },
  {
   "cell_type": "code",
   "execution_count": 3,
   "id": "874ca191-362d-4cad-9ce0-290294a15a54",
   "metadata": {},
   "outputs": [
    {
     "data": {
      "text/plain": [
       "3"
      ]
     },
     "execution_count": 3,
     "metadata": {},
     "output_type": "execute_result"
    }
   ],
   "source": [
    "a+b"
   ]
  },
  {
   "cell_type": "markdown",
   "id": "3815d188-a0ac-4f42-b3cd-f008cc48fb35",
   "metadata": {},
   "source": [
    "- a라는 인스턴스와 b라는 인스턴스를 + 라는 기호가 연결하고 있다."
   ]
  },
  {
   "cell_type": "code",
   "execution_count": 4,
   "id": "34a51a33-7a2e-4e78-939e-63a0a891b908",
   "metadata": {},
   "outputs": [
    {
     "data": {
      "text/plain": [
       "[1, 2, 3, 4]"
      ]
     },
     "execution_count": 4,
     "metadata": {},
     "output_type": "execute_result"
    }
   ],
   "source": [
    "a=[1,2]\n",
    "b=[3,4]\n",
    "a+b"
   ]
  },
  {
   "cell_type": "markdown",
   "id": "4281ebaf-2c6f-47ff-9c24-44b25ba40568",
   "metadata": {},
   "source": [
    "- a라는 인스턴스와 b라는 인스턴스를 + 라는 기호가 연결하고 있다."
   ]
  },
  {
   "cell_type": "markdown",
   "id": "f44af996-5c5d-410a-a9ec-68b5947b491d",
   "metadata": {},
   "source": [
    "`-` 동작이 다른 이유?\n",
    "\n",
    "- 클래스를 배우기 이전: int자료형의 `+` 는 \"정수의 덧셈\"을 의미하고 list 자료형의 `+`는 \"자료의 추가\"를 의미한다.\n",
    "\n",
    "- 클래스를 배운 이후: 아마 클래스는 `+` 라는 연산을 정의하는 숨겨진 메소드가 있을 것이다. (print가 그랬듯이) 그런데 int 클래스에서는 그 메소드를 \"정수의 덧셈\"이 되도록 정의하였고 list클래스에서는 그 메소드를 \"자료의 추가\"를 의미하도록 정의하였다."
   ]
  },
  {
   "cell_type": "code",
   "execution_count": 5,
   "id": "145584a7-62c8-488a-adae-11f4244c3fa4",
   "metadata": {},
   "outputs": [],
   "source": [
    "a=1\n",
    "b=2"
   ]
  },
  {
   "cell_type": "code",
   "execution_count": 6,
   "id": "20d046c6-e419-417e-879e-7a24c890b3b2",
   "metadata": {},
   "outputs": [
    {
     "data": {
      "text/plain": [
       "<method-wrapper '__add__' of int object at 0x70c560>"
      ]
     },
     "execution_count": 6,
     "metadata": {},
     "output_type": "execute_result"
    }
   ],
   "source": [
    "a.__add__"
   ]
  },
  {
   "cell_type": "code",
   "execution_count": 7,
   "id": "65e6b976-3f9c-42de-bd3e-50d9b44bf0b6",
   "metadata": {},
   "outputs": [
    {
     "data": {
      "text/plain": [
       "['__abs__',\n",
       " '__add__',\n",
       " '__and__',\n",
       " '__bool__',\n",
       " '__ceil__',\n",
       " '__class__',\n",
       " '__delattr__',\n",
       " '__dir__',\n",
       " '__divmod__',\n",
       " '__doc__',\n",
       " '__eq__',\n",
       " '__float__',\n",
       " '__floor__',\n",
       " '__floordiv__',\n",
       " '__format__',\n",
       " '__ge__',\n",
       " '__getattribute__',\n",
       " '__getnewargs__',\n",
       " '__gt__',\n",
       " '__hash__',\n",
       " '__index__',\n",
       " '__init__',\n",
       " '__init_subclass__',\n",
       " '__int__',\n",
       " '__invert__',\n",
       " '__le__',\n",
       " '__lshift__',\n",
       " '__lt__',\n",
       " '__mod__',\n",
       " '__mul__',\n",
       " '__ne__',\n",
       " '__neg__',\n",
       " '__new__',\n",
       " '__or__',\n",
       " '__pos__',\n",
       " '__pow__',\n",
       " '__radd__',\n",
       " '__rand__',\n",
       " '__rdivmod__',\n",
       " '__reduce__',\n",
       " '__reduce_ex__',\n",
       " '__repr__',\n",
       " '__rfloordiv__',\n",
       " '__rlshift__',\n",
       " '__rmod__',\n",
       " '__rmul__',\n",
       " '__ror__',\n",
       " '__round__',\n",
       " '__rpow__',\n",
       " '__rrshift__',\n",
       " '__rshift__',\n",
       " '__rsub__',\n",
       " '__rtruediv__',\n",
       " '__rxor__',\n",
       " '__setattr__',\n",
       " '__sizeof__',\n",
       " '__str__',\n",
       " '__sub__',\n",
       " '__subclasshook__',\n",
       " '__truediv__',\n",
       " '__trunc__',\n",
       " '__xor__',\n",
       " 'bit_length',\n",
       " 'conjugate',\n",
       " 'denominator',\n",
       " 'from_bytes',\n",
       " 'imag',\n",
       " 'numerator',\n",
       " 'real',\n",
       " 'to_bytes']"
      ]
     },
     "execution_count": 7,
     "metadata": {},
     "output_type": "execute_result"
    }
   ],
   "source": [
    "dir(a)"
   ]
  },
  {
   "cell_type": "code",
   "execution_count": 11,
   "id": "8b5988dc-ff1c-49c1-94a3-72fd6417548e",
   "metadata": {},
   "outputs": [
    {
     "data": {
      "text/plain": [
       "3"
      ]
     },
     "execution_count": 11,
     "metadata": {},
     "output_type": "execute_result"
    }
   ],
   "source": [
    "a.__add__(b)"
   ]
  },
  {
   "cell_type": "code",
   "execution_count": 12,
   "id": "512ca629-68bc-47cc-86bc-06f8611047d3",
   "metadata": {},
   "outputs": [
    {
     "data": {
      "text/plain": [
       "3"
      ]
     },
     "execution_count": 12,
     "metadata": {},
     "output_type": "execute_result"
    }
   ],
   "source": [
    "b.__add__(a)"
   ]
  },
  {
   "cell_type": "code",
   "execution_count": 13,
   "id": "b453bd62-72ca-44e9-bc56-8189e1c86ea8",
   "metadata": {},
   "outputs": [],
   "source": [
    "a=[1,2]\n",
    "b=[3,4]"
   ]
  },
  {
   "cell_type": "code",
   "execution_count": 14,
   "id": "ee176873-6d36-4705-ac58-332e869f2709",
   "metadata": {},
   "outputs": [
    {
     "data": {
      "text/plain": [
       "[1, 2, 3, 4]"
      ]
     },
     "execution_count": 14,
     "metadata": {},
     "output_type": "execute_result"
    }
   ],
   "source": [
    "a.__add__(b)"
   ]
  },
  {
   "cell_type": "code",
   "execution_count": 15,
   "id": "18265c80-701c-4c7c-acd1-7f198ba49911",
   "metadata": {},
   "outputs": [
    {
     "data": {
      "text/plain": [
       "[3, 4, 1, 2]"
      ]
     },
     "execution_count": 15,
     "metadata": {},
     "output_type": "execute_result"
    }
   ],
   "source": [
    "b.__add__(a)"
   ]
  },
  {
   "cell_type": "markdown",
   "id": "9e5ffb66-9b06-4f41-8c2a-4cc12d9ea948",
   "metadata": {},
   "source": [
    "`-` a+b는 사실 내부적으로 `a.__add__(b)`의 축약구문이다. 따라서 먄악 `a.__add__(b)`의 기능을 바꾸면 (재정의하면) a+b의 기능도 바뀔 것이다."
   ]
  },
  {
   "cell_type": "markdown",
   "id": "849dc2bc-7a8b-42be-b9a3-890774c1bd7d",
   "metadata": {},
   "source": [
    "### `__add__`"
   ]
  },
  {
   "cell_type": "markdown",
   "id": "6f4cdf41-b68b-4f6e-b086-1d71bd10dee6",
   "metadata": {},
   "source": [
    "`-` 예제"
   ]
  },
  {
   "cell_type": "code",
   "execution_count": 42,
   "id": "0c0d7855-6d3b-437e-a183-156a5a6deb3b",
   "metadata": {},
   "outputs": [],
   "source": [
    "class Student:\n",
    "    def __init__(self, age=20.0, semester=1):\n",
    "        self.age = age\n",
    "        self.semester = semester\n",
    "        print(\"입학을 축하합니다. 나이는 {}이고 현재 {}학기 입니다.\".format(self.age, self.semester))\n",
    "    def __add__(self,val): \n",
    "        # val == 0: 휴학 \n",
    "        # val == 1: 등록 \n",
    "        if val==0: \n",
    "            self.age=self.age+0.5\n",
    "        elif val==1:\n",
    "            self.age=self.age+0.5 \n",
    "            self.semester= self.semester+1 \n",
    "    def _repr_html_(self):\n",
    "        html_str = \"\"\"\n",
    "        나이: {}<br/>\n",
    "        학기: {}<br/>\n",
    "        \"\"\"\n",
    "        return html_str.format(self.age, self.semester)"
   ]
  },
  {
   "cell_type": "code",
   "execution_count": 43,
   "id": "31deaf2f-8319-4915-8a6a-02c481cc790e",
   "metadata": {},
   "outputs": [
    {
     "name": "stdout",
     "output_type": "stream",
     "text": [
      "입학을 축하합니다. 나이는 20.0이고 현재 1학기 입니다.\n"
     ]
    }
   ],
   "source": [
    "iu = Student()"
   ]
  },
  {
   "cell_type": "code",
   "execution_count": 44,
   "id": "217a39de-a4eb-4ea3-a27a-5df4bd5094c3",
   "metadata": {},
   "outputs": [
    {
     "data": {
      "text/plain": [
       "1"
      ]
     },
     "execution_count": 44,
     "metadata": {},
     "output_type": "execute_result"
    }
   ],
   "source": [
    "iu.semester"
   ]
  },
  {
   "cell_type": "code",
   "execution_count": 45,
   "id": "b2578f9a-57ef-48c2-9c3e-ca7a24e83538",
   "metadata": {},
   "outputs": [
    {
     "data": {
      "text/html": [
       "\n",
       "        나이: 20.0<br/>\n",
       "        학기: 1<br/>\n",
       "        "
      ],
      "text/plain": [
       "<__main__.Student at 0x7fdc30d5d510>"
      ]
     },
     "execution_count": 45,
     "metadata": {},
     "output_type": "execute_result"
    }
   ],
   "source": [
    "iu  # 클래스가 저장되어있는 주소를 _repr_html_ 통해서 바꿔즘"
   ]
  },
  {
   "cell_type": "code",
   "execution_count": 46,
   "id": "ff528168-6671-4670-9162-a9da9db33664",
   "metadata": {},
   "outputs": [
    {
     "data": {
      "text/html": [
       "\n",
       "        나이: 20.5<br/>\n",
       "        학기: 2<br/>\n",
       "        "
      ],
      "text/plain": [
       "<__main__.Student at 0x7fdc30d5d510>"
      ]
     },
     "execution_count": 46,
     "metadata": {},
     "output_type": "execute_result"
    }
   ],
   "source": [
    "iu + 1 #1학년 2학기 등록\n",
    "iu"
   ]
  },
  {
   "cell_type": "code",
   "execution_count": 47,
   "id": "882e33a0-d089-40d1-8831-77970dfb990c",
   "metadata": {},
   "outputs": [
    {
     "data": {
      "text/html": [
       "\n",
       "        나이: 21.0<br/>\n",
       "        학기: 2<br/>\n",
       "        "
      ],
      "text/plain": [
       "<__main__.Student at 0x7fdc30d5d510>"
      ]
     },
     "execution_count": 47,
     "metadata": {},
     "output_type": "execute_result"
    }
   ],
   "source": [
    "iu + 0 # 휴학\n",
    "iu"
   ]
  },
  {
   "cell_type": "markdown",
   "id": "68533e8a-2b40-4916-8882-842d20a83f15",
   "metadata": {},
   "source": [
    "`-` 연산을 연속으로 하고 싶다."
   ]
  },
  {
   "cell_type": "code",
   "execution_count": 48,
   "id": "6b5ef861-77fd-4701-8ae3-8f3f3134c011",
   "metadata": {},
   "outputs": [
    {
     "ename": "TypeError",
     "evalue": "unsupported operand type(s) for +: 'NoneType' and 'int'",
     "output_type": "error",
     "traceback": [
      "\u001b[0;31m---------------------------------------------------------------------------\u001b[0m",
      "\u001b[0;31mTypeError\u001b[0m                                 Traceback (most recent call last)",
      "\u001b[0;32m<ipython-input-48-730058f9dbe2>\u001b[0m in \u001b[0;36m<module>\u001b[0;34m\u001b[0m\n\u001b[0;32m----> 1\u001b[0;31m \u001b[0miu\u001b[0m \u001b[0;34m+\u001b[0m \u001b[0;36m1\u001b[0m \u001b[0;34m+\u001b[0m \u001b[0;36m0\u001b[0m \u001b[0;34m+\u001b[0m \u001b[0;36m0\u001b[0m \u001b[0;34m+\u001b[0m \u001b[0;36m0\u001b[0m \u001b[0;34m+\u001b[0m \u001b[0;36m0\u001b[0m\u001b[0;34m\u001b[0m\u001b[0;34m\u001b[0m\u001b[0m\n\u001b[0m",
      "\u001b[0;31mTypeError\u001b[0m: unsupported operand type(s) for +: 'NoneType' and 'int'"
     ]
    }
   ],
   "source": [
    "iu + 1 + 0 + 0 + 0 + 0"
   ]
  },
  {
   "cell_type": "markdown",
   "id": "f103745f-e566-481a-bc28-49ab0ebff947",
   "metadata": {},
   "source": [
    "`-` 에러의 이유?"
   ]
  },
  {
   "cell_type": "code",
   "execution_count": 49,
   "id": "c606d254-4656-4269-b305-586b499caf5b",
   "metadata": {},
   "outputs": [
    {
     "data": {
      "text/plain": [
       "3"
      ]
     },
     "execution_count": 49,
     "metadata": {},
     "output_type": "execute_result"
    }
   ],
   "source": [
    "1+1+1 #이거는 되는데?"
   ]
  },
  {
   "cell_type": "code",
   "execution_count": 50,
   "id": "d6d3a4a7-5530-4412-9964-6f333b5f3040",
   "metadata": {},
   "outputs": [
    {
     "data": {
      "text/plain": [
       "3"
      ]
     },
     "execution_count": 50,
     "metadata": {},
     "output_type": "execute_result"
    }
   ],
   "source": [
    "(1+1)+1"
   ]
  },
  {
   "cell_type": "code",
   "execution_count": 52,
   "id": "d0d79d63-2323-46aa-b39f-3ae63115b341",
   "metadata": {},
   "outputs": [
    {
     "data": {
      "text/plain": [
       "int"
      ]
     },
     "execution_count": 52,
     "metadata": {},
     "output_type": "execute_result"
    }
   ],
   "source": [
    "_a = (1+1)\n",
    "type(_a)"
   ]
  },
  {
   "cell_type": "code",
   "execution_count": 54,
   "id": "f950ff89-0fbd-4984-8bf2-68843ad89333",
   "metadata": {},
   "outputs": [
    {
     "data": {
      "text/plain": [
       "3"
      ]
     },
     "execution_count": 54,
     "metadata": {},
     "output_type": "execute_result"
    }
   ],
   "source": [
    "_a + 1    # 이 연산은 int인스턴스 + int인스턴스 "
   ]
  },
  {
   "cell_type": "markdown",
   "id": "2bd9fa08-844c-46bd-8042-2bf9381921af",
   "metadata": {},
   "source": [
    "(안되는거)"
   ]
  },
  {
   "cell_type": "code",
   "execution_count": 55,
   "id": "4eee1828-c973-44c2-8a39-88ca6ce888ca",
   "metadata": {},
   "outputs": [
    {
     "ename": "TypeError",
     "evalue": "unsupported operand type(s) for +: 'NoneType' and 'int'",
     "output_type": "error",
     "traceback": [
      "\u001b[0;31m---------------------------------------------------------------------------\u001b[0m",
      "\u001b[0;31mTypeError\u001b[0m                                 Traceback (most recent call last)",
      "\u001b[0;32m<ipython-input-55-020b70a142d9>\u001b[0m in \u001b[0;36m<module>\u001b[0;34m\u001b[0m\n\u001b[0;32m----> 1\u001b[0;31m \u001b[0miu\u001b[0m\u001b[0;34m+\u001b[0m\u001b[0;36m1\u001b[0m\u001b[0;34m+\u001b[0m\u001b[0;36m1\u001b[0m\u001b[0;34m\u001b[0m\u001b[0;34m\u001b[0m\u001b[0m\n\u001b[0m",
      "\u001b[0;31mTypeError\u001b[0m: unsupported operand type(s) for +: 'NoneType' and 'int'"
     ]
    }
   ],
   "source": [
    "iu+1+1"
   ]
  },
  {
   "cell_type": "code",
   "execution_count": 56,
   "id": "39ab1108-b40f-46ca-affd-1a3dffb3589d",
   "metadata": {},
   "outputs": [],
   "source": [
    "_a=iu+1"
   ]
  },
  {
   "cell_type": "code",
   "execution_count": 57,
   "id": "f7d519c2-b9ad-41f9-b7b2-8f2b58b949fb",
   "metadata": {},
   "outputs": [
    {
     "data": {
      "text/plain": [
       "NoneType"
      ]
     },
     "execution_count": 57,
     "metadata": {},
     "output_type": "execute_result"
    }
   ],
   "source": [
    "type(_a)"
   ]
  },
  {
   "cell_type": "code",
   "execution_count": 58,
   "id": "3cc8b492-c12b-4d74-abd0-fd64339aab03",
   "metadata": {},
   "outputs": [
    {
     "ename": "TypeError",
     "evalue": "unsupported operand type(s) for +: 'NoneType' and 'int'",
     "output_type": "error",
     "traceback": [
      "\u001b[0;31m---------------------------------------------------------------------------\u001b[0m",
      "\u001b[0;31mTypeError\u001b[0m                                 Traceback (most recent call last)",
      "\u001b[0;32m<ipython-input-58-fd4792aa388c>\u001b[0m in \u001b[0;36m<module>\u001b[0;34m\u001b[0m\n\u001b[0;32m----> 1\u001b[0;31m \u001b[0m_a\u001b[0m\u001b[0;34m+\u001b[0m\u001b[0;36m1\u001b[0m\u001b[0;34m\u001b[0m\u001b[0;34m\u001b[0m\u001b[0m\n\u001b[0m",
      "\u001b[0;31mTypeError\u001b[0m: unsupported operand type(s) for +: 'NoneType' and 'int'"
     ]
    }
   ],
   "source": [
    "_a+1"
   ]
  },
  {
   "cell_type": "markdown",
   "id": "61280ac0-2268-4f16-9953-ec4c957c554c",
   "metadata": {},
   "source": [
    "`-` 에러를 해결하는 방법: iu+1의 결과로 Student 클래스의 인스턴스가 리턴되면 된다."
   ]
  },
  {
   "cell_type": "code",
   "execution_count": 59,
   "id": "187b1145-efc2-45c3-9131-b35151e7fed8",
   "metadata": {},
   "outputs": [],
   "source": [
    "class Student:\n",
    "    def __init__(self, age=20.0, semester=1):\n",
    "        self.age = age\n",
    "        self.semester = semester\n",
    "        print(\"입학을 축하합니다. 나이는 {}이고 현재 {}학기 입니다.\".format(self.age, self.semester))\n",
    "    def __add__(self,val): \n",
    "        # val == 0: 휴학 \n",
    "        # val == 1: 등록 \n",
    "        if val==0: \n",
    "            self.age=self.age+0.5\n",
    "        elif val==1:\n",
    "            self.age=self.age+0.5 \n",
    "            self.semester= self.semester+1 \n",
    "        return self\n",
    "    def _repr_html_(self):\n",
    "        html_str = \"\"\"\n",
    "        나이: {}<br/>\n",
    "        학기: {}<br/>\n",
    "        \"\"\"\n",
    "        return html_str.format(self.age, self.semester)"
   ]
  },
  {
   "cell_type": "code",
   "execution_count": 60,
   "id": "26850b33-8a8a-44fa-acb8-b4c519d98709",
   "metadata": {},
   "outputs": [
    {
     "name": "stdout",
     "output_type": "stream",
     "text": [
      "입학을 축하합니다. 나이는 20.0이고 현재 1학기 입니다.\n"
     ]
    }
   ],
   "source": [
    "iu = Student()"
   ]
  },
  {
   "cell_type": "code",
   "execution_count": 63,
   "id": "88ab9b15-ff82-46b4-96ad-7abda7b80d11",
   "metadata": {},
   "outputs": [
    {
     "data": {
      "text/html": [
       "\n",
       "        나이: 23.0<br/>\n",
       "        학기: 4<br/>\n",
       "        "
      ],
      "text/plain": [
       "<__main__.Student at 0x7fdc312d66d0>"
      ]
     },
     "execution_count": 63,
     "metadata": {},
     "output_type": "execute_result"
    }
   ],
   "source": [
    "iu + 1   # __add__의 return에 Student클래스의 인스턴스가 리턴되면서 자동으로 __repr_html_()실행"
   ]
  },
  {
   "cell_type": "code",
   "execution_count": 64,
   "id": "b903de56-2efc-46c6-8999-6f281cb8b0f7",
   "metadata": {},
   "outputs": [
    {
     "data": {
      "text/html": [
       "\n",
       "        나이: 25.0<br/>\n",
       "        학기: 5<br/>\n",
       "        "
      ],
      "text/plain": [
       "<__main__.Student at 0x7fdc312d66d0>"
      ]
     },
     "execution_count": 64,
     "metadata": {},
     "output_type": "execute_result"
    }
   ],
   "source": [
    "iu + 1 + 0 + 0 + 0 "
   ]
  },
  {
   "cell_type": "markdown",
   "id": "ddcab6a3-fe0c-4826-a96b-02de373c15a9",
   "metadata": {},
   "source": [
    "### `__mul__`"
   ]
  },
  {
   "cell_type": "code",
   "execution_count": 65,
   "id": "7407b2f4-51bb-4165-97b6-7d41982402d2",
   "metadata": {},
   "outputs": [
    {
     "data": {
      "text/plain": [
       "1"
      ]
     },
     "execution_count": 65,
     "metadata": {},
     "output_type": "execute_result"
    }
   ],
   "source": [
    "a=1\n",
    "b=1\n",
    "a*b"
   ]
  },
  {
   "cell_type": "code",
   "execution_count": 66,
   "id": "6a7ea2fd-92ee-4084-b634-41524cf47df6",
   "metadata": {},
   "outputs": [
    {
     "data": {
      "text/plain": [
       "<method-wrapper '__mul__' of int object at 0x70c560>"
      ]
     },
     "execution_count": 66,
     "metadata": {},
     "output_type": "execute_result"
    }
   ],
   "source": [
    "a.__mul__"
   ]
  },
  {
   "cell_type": "code",
   "execution_count": 67,
   "id": "509fdb50-c869-4fe5-9445-1afca57f0140",
   "metadata": {},
   "outputs": [],
   "source": [
    "class RPS: \n",
    "    def __init__(self,candidate=['가위','바위','보']):\n",
    "        self.candidate = candidate\n",
    "        self.actions = list() \n",
    "    def choose(self):\n",
    "        self.actions.append(np.random.choice(self.candidate))\n",
    "    def show(self):\n",
    "        print(self.actions[-1])\n",
    "    def _repr_html_(self):\n",
    "        html_str = \"\"\"\n",
    "        낼 수 있는 패: {} <br/> \n",
    "        기록: {}\n",
    "        \"\"\"\n",
    "        return html_str.format(self.candidate,self.actions)"
   ]
  },
  {
   "cell_type": "code",
   "execution_count": 68,
   "id": "dcccdfb4-0308-46d6-aa82-98e670d4e4c8",
   "metadata": {},
   "outputs": [],
   "source": [
    "a=RPS()\n",
    "b=RPS()"
   ]
  },
  {
   "cell_type": "code",
   "execution_count": 69,
   "id": "35b544ce-fab7-44c6-8105-da25f7665701",
   "metadata": {},
   "outputs": [
    {
     "data": {
      "text/html": [
       "\n",
       "        낼 수 있는 패: ['가위', '바위', '보'] <br/> \n",
       "        기록: []\n",
       "        "
      ],
      "text/plain": [
       "<__main__.RPS at 0x7fdc31312610>"
      ]
     },
     "execution_count": 69,
     "metadata": {},
     "output_type": "execute_result"
    }
   ],
   "source": [
    "a"
   ]
  },
  {
   "cell_type": "code",
   "execution_count": 70,
   "id": "e9562db4-743a-4c20-9fb8-00b6a0b39ced",
   "metadata": {},
   "outputs": [
    {
     "data": {
      "text/html": [
       "\n",
       "        낼 수 있는 패: ['가위', '바위', '보'] <br/> \n",
       "        기록: []\n",
       "        "
      ],
      "text/plain": [
       "<__main__.RPS at 0x7fdc31312a50>"
      ]
     },
     "execution_count": 70,
     "metadata": {},
     "output_type": "execute_result"
    }
   ],
   "source": [
    "b"
   ]
  },
  {
   "cell_type": "markdown",
   "id": "789c154b-040a-4189-910e-46a074c05c85",
   "metadata": {},
   "source": [
    "- a*b 해서 승패를 확인하기 위한 클래스를 만들자"
   ]
  },
  {
   "cell_type": "code",
   "execution_count": 81,
   "id": "4f5abbd6-3ba6-420e-8792-748af27d92f8",
   "metadata": {},
   "outputs": [],
   "source": [
    "class RPS: \n",
    "    def __init__(self,candidate=['가위','바위','보']):\n",
    "        self.candidate = candidate\n",
    "        self.actions = list() \n",
    "        self.results = list()\n",
    "    def __mul__(self,other):\n",
    "        self.choose()\n",
    "        other.choose()\n",
    "        if self.actions[-1]=='가위' and other.actions[-1]=='가위':\n",
    "            self.results.append(0)\n",
    "            other.results.append(0)\n",
    "        if self.actions[-1]=='가위' and other.actions[-1]=='바위':\n",
    "            self.results.append(-1)\n",
    "            other.results.append(1)\n",
    "        if self.actions[-1]=='가위' and other.actions[-1]=='보':\n",
    "            self.results.append(1)\n",
    "            other.results.append(-1)\n",
    "        if self.actions[-1]=='바위' and other.actions[-1]=='가위':\n",
    "            self.results.append(1)\n",
    "            other.results.append(-1)\n",
    "        if self.actions[-1]=='바위' and other.actions[-1]=='바위':\n",
    "            self.results.append(0)\n",
    "            other.results.append(0)\n",
    "        if self.actions[-1]=='바위' and other.actions[-1]=='보':\n",
    "            self.results.append(-1)\n",
    "            other.results.append(1)\n",
    "        if self.actions[-1]=='보' and other.actions[-1]=='가위':\n",
    "            self.results.append(-1)\n",
    "            other.results.append(1)\n",
    "        if self.actions[-1]=='보' and other.actions[-1]=='바위':\n",
    "            self.results.append(1)\n",
    "            other.results.append(-1)\n",
    "        if self.actions[-1]=='보' and other.actions[-1]=='보':\n",
    "            self.results.append(0)\n",
    "            other.results.append(0)\n",
    "    def choose(self):\n",
    "        self.actions.append(np.random.choice(self.candidate))\n",
    "    def _repr_html_(self):\n",
    "        html_str = \"\"\"\n",
    "        낼 수 있는 패: {} <br/> \n",
    "        액션: {} <br/>\n",
    "        승패: {}\n",
    "        \"\"\"\n",
    "        return html_str.format(self.candidate,self.actions,self.results)\n"
   ]
  },
  {
   "cell_type": "code",
   "execution_count": 82,
   "id": "ff9aa69a-6eca-42b5-8801-e762057ebac2",
   "metadata": {},
   "outputs": [],
   "source": [
    "a=RPS()\n",
    "b=RPS()"
   ]
  },
  {
   "cell_type": "code",
   "execution_count": 83,
   "id": "56f481ed-0e14-41f8-9cd5-42fcd8d12adc",
   "metadata": {},
   "outputs": [
    {
     "data": {
      "text/html": [
       "\n",
       "        낼 수 있는 패: ['가위', '바위', '보'] <br/> \n",
       "        액션: [] <br/>\n",
       "        승패: []\n",
       "        "
      ],
      "text/plain": [
       "<__main__.RPS at 0x7fdc312d6810>"
      ]
     },
     "execution_count": 83,
     "metadata": {},
     "output_type": "execute_result"
    }
   ],
   "source": [
    "a"
   ]
  },
  {
   "cell_type": "code",
   "execution_count": 84,
   "id": "f2873065-99f8-4364-b16e-b675411fb776",
   "metadata": {},
   "outputs": [
    {
     "data": {
      "text/html": [
       "\n",
       "        낼 수 있는 패: ['가위', '바위', '보'] <br/> \n",
       "        액션: [] <br/>\n",
       "        승패: []\n",
       "        "
      ],
      "text/plain": [
       "<__main__.RPS at 0x7fdc312d6890>"
      ]
     },
     "execution_count": 84,
     "metadata": {},
     "output_type": "execute_result"
    }
   ],
   "source": [
    "b"
   ]
  },
  {
   "cell_type": "code",
   "execution_count": 85,
   "id": "a49bad2c-d778-494c-88e2-76bda8fdfd4f",
   "metadata": {},
   "outputs": [],
   "source": [
    "for i in range(5):\n",
    "    a*b"
   ]
  },
  {
   "cell_type": "code",
   "execution_count": 86,
   "id": "9678e2cc-2837-420c-b05a-b5fd2cc9787c",
   "metadata": {},
   "outputs": [
    {
     "data": {
      "text/html": [
       "\n",
       "        낼 수 있는 패: ['가위', '바위', '보'] <br/> \n",
       "        액션: ['보', '바위', '가위', '가위', '바위'] <br/>\n",
       "        승패: [1, 0, -1, 0, 1]\n",
       "        "
      ],
      "text/plain": [
       "<__main__.RPS at 0x7fdc312d6810>"
      ]
     },
     "execution_count": 86,
     "metadata": {},
     "output_type": "execute_result"
    }
   ],
   "source": [
    "a"
   ]
  },
  {
   "cell_type": "code",
   "execution_count": 87,
   "id": "dbdc7956-599a-4b83-922c-00602d231a43",
   "metadata": {},
   "outputs": [
    {
     "data": {
      "text/html": [
       "\n",
       "        낼 수 있는 패: ['가위', '바위', '보'] <br/> \n",
       "        액션: ['바위', '바위', '바위', '가위', '가위'] <br/>\n",
       "        승패: [-1, 0, 1, 0, -1]\n",
       "        "
      ],
      "text/plain": [
       "<__main__.RPS at 0x7fdc312d6890>"
      ]
     },
     "execution_count": 87,
     "metadata": {},
     "output_type": "execute_result"
    }
   ],
   "source": [
    "\n",
    "b"
   ]
  },
  {
   "cell_type": "code",
   "execution_count": null,
   "id": "966654a4-3467-4f55-b807-d581764e1f29",
   "metadata": {},
   "outputs": [],
   "source": []
  },
  {
   "cell_type": "markdown",
   "id": "c955b9d9-d358-40a9-8c39-f010d4b9d218",
   "metadata": {},
   "source": [
    "## 숙제"
   ]
  },
  {
   "cell_type": "markdown",
   "id": "4faeb593-c6e9-4b95-98a9-19efd3b9c18f",
   "metadata": {},
   "source": [
    "RPS클래스에서 player a와 player b를 만들어라. Player a는 ['가위','보'] 중에 하나를 낼 수 있다. 그리고 Player b는 ['가위','바위'] 중에 하나를 낼 수 있다. 두 player는 가지고 있는 패를 (같은확률로) 랜덤으로 낸다. (즉 player a가 가위만 내거나 보만 내는 경우는 없다.)\n",
    "\n",
    "(1) 누가 더 유리한가? 이유를 스스로 생각해보라. (이유를 정리하여 숙제로 제출할 필요 없음)\n",
    "\n",
    "(2) 50000번의 시뮬레이션을 해보고 결과를 분석해보라."
   ]
  },
  {
   "cell_type": "code",
   "execution_count": 88,
   "id": "39d28eef-e11b-40d4-88cc-5af738e350f6",
   "metadata": {},
   "outputs": [],
   "source": [
    "class RPS: \n",
    "    def __init__(self,candidate=['가위','바위','보']):\n",
    "        self.candidate = candidate\n",
    "        self.actions = list() \n",
    "        self.results = list()\n",
    "    def __mul__(self,other):\n",
    "        self.choose()\n",
    "        other.choose()\n",
    "        if self.actions[-1]=='가위' and other.actions[-1]=='가위':\n",
    "            self.results.append(0)\n",
    "            other.results.append(0)\n",
    "        if self.actions[-1]=='가위' and other.actions[-1]=='바위':\n",
    "            self.results.append(-1)\n",
    "            other.results.append(1)\n",
    "        if self.actions[-1]=='보' and other.actions[-1]=='가위':\n",
    "            self.results.append(-1)\n",
    "            other.results.append(1)\n",
    "        if self.actions[-1]=='보' and other.actions[-1]=='바위':\n",
    "            self.results.append(1)\n",
    "            other.results.append(-1)\n",
    "    def choose(self):\n",
    "        self.actions.append(np.random.choice(self.candidate))\n",
    "    def _repr_html_(self):\n",
    "        html_str = \"\"\"\n",
    "        낼 수 있는 패: {} <br/> \n",
    "        액션: {} <br/>\n",
    "        승패: {}\n",
    "        \"\"\"\n",
    "        return html_str.format(self.candidate,self.actions,self.results)\n"
   ]
  },
  {
   "cell_type": "code",
   "execution_count": 90,
   "id": "191101e6-43b0-49d5-8423-aae98038e537",
   "metadata": {},
   "outputs": [],
   "source": [
    "a=RPS(['가위','보'])\n",
    "b=RPS(['가위','바위'])"
   ]
  },
  {
   "cell_type": "code",
   "execution_count": 91,
   "id": "d90b91f7-0730-4e90-9aa3-1287c9bd8651",
   "metadata": {},
   "outputs": [],
   "source": [
    "for i in range(50000):\n",
    "    a*b"
   ]
  },
  {
   "cell_type": "code",
   "execution_count": 92,
   "id": "008e553c-dc78-4478-867c-c8cc6f2c0569",
   "metadata": {},
   "outputs": [
    {
     "data": {
      "text/plain": [
       "-12358"
      ]
     },
     "execution_count": 92,
     "metadata": {},
     "output_type": "execute_result"
    }
   ],
   "source": [
    "sum(a.results)"
   ]
  },
  {
   "cell_type": "code",
   "execution_count": 93,
   "id": "a4c2863c-e82a-45fd-9957-5d3d435c8f1b",
   "metadata": {},
   "outputs": [
    {
     "data": {
      "text/plain": [
       "12358"
      ]
     },
     "execution_count": 93,
     "metadata": {},
     "output_type": "execute_result"
    }
   ],
   "source": [
    "sum(b.results)"
   ]
  }
 ],
 "metadata": {
  "kernelspec": {
   "display_name": "Python 3",
   "language": "python",
   "name": "python3"
  },
  "language_info": {
   "codemirror_mode": {
    "name": "ipython",
    "version": 3
   },
   "file_extension": ".py",
   "mimetype": "text/x-python",
   "name": "python",
   "nbconvert_exporter": "python",
   "pygments_lexer": "ipython3",
   "version": "3.7.16"
  }
 },
 "nbformat": 4,
 "nbformat_minor": 5
}
