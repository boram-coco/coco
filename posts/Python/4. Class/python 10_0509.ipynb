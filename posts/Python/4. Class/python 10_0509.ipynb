{
 "cells": [
  {
   "cell_type": "raw",
   "id": "e3b509c4-3aa6-4ee0-8c24-71f4f9458bee",
   "metadata": {},
   "source": [
    "---\n",
    "title: \"파이썬 (0509) 10주차 \"\n",
    "author: \"김보람\"\n",
    "date: \"05/09/2022\"\n",
    "categories:\n",
    "  - 클래스\n",
    "---"
   ]
  },
  {
   "cell_type": "code",
   "execution_count": 1,
   "id": "6744474b-3bc5-4124-bc58-4b3216f8811d",
   "metadata": {},
   "outputs": [],
   "source": [
    "# jupyter notebook을 통한 ppt발표(슬라이드)가 가능. 관련 프로그램을 깔아야한다."
   ]
  },
  {
   "cell_type": "markdown",
   "id": "4c1ea067-e23a-4a8b-ab67-83cbcd28e75b",
   "metadata": {},
   "source": [
    "## 밈(Meme)과 클래스"
   ]
  },
  {
   "cell_type": "markdown",
   "id": "12682384-4eff-4d47-aab9-ee94fe6bc7ad",
   "metadata": {},
   "source": [
    "#### 신혜선의 어쩔티비"
   ]
  },
  {
   "cell_type": "markdown",
   "id": "02d1a1a5-bb46-4774-b49c-b2d1662f32c7",
   "metadata": {},
   "source": [
    "`-` 밈이란? 유전자처럼 복제가능한 something"
   ]
  },
  {
   "cell_type": "markdown",
   "id": "f7ea09c9-4a6c-4040-8226-b5ffd363841b",
   "metadata": {},
   "source": [
    "## 클래스"
   ]
  },
  {
   "cell_type": "markdown",
   "id": "9af4025d-274e-492c-b484-a4ca6f12304e",
   "metadata": {},
   "source": [
    "`-` 클래스에 대한 비유적 설명 (implicit definition)"
   ]
  },
  {
   "cell_type": "markdown",
   "id": "c69b7726-3953-4664-862a-42f4eefb31c0",
   "metadata": {},
   "source": [
    "- 클래스는 과자틀과 비슷하다. 클래스란 똑같은 무엇인가를 계속 만들어 낼 수도 있는 설계도면이고 객체란 클래스로 만든 피조물을 뜻한다. (점프투파이썬)\n",
    "\n",
    "- In object-oriented programming, a class is an extensible program-code-template for creating objects, providing initial values for state (member variables) and implementations of behavior (member functions or methods). // 객체 지향 프로그래밍에서 클래스는 상태(멤버 변수) 및 동작 구현(멤버 함수 또는 메서드)에 대한 초기 값을 제공하는 객체 생성을 위한 확장 가능한 프로그램 코드 템플릿입니다.\n",
    "\n",
    "- http://www.tcpschool.com/java/java_class_intro\n",
    "\n",
    "- https://javacpro.tistory.com/29\n",
    "\n",
    "- https://ko.wikipedia.org/wiki/%ED%81%B4%EB%9E%98%EC%8A%A4_(%EC%BB%B4%ED%93%A8%ED%84%B0_%ED%94%84%EB%A1%9C%EA%B7%B8%EB%9E%98%EB%B0%8D)"
   ]
  },
  {
   "cell_type": "markdown",
   "id": "1681f40a-2577-4917-a754-12c348a9957d",
   "metadata": {},
   "source": [
    "`-` 클래스에 대한 명시적 정의 (교수님 생각)"
   ]
  },
  {
   "cell_type": "markdown",
   "id": "1ef149d5-e7e3-4dd2-b8c7-7dc917b639e0",
   "metadata": {},
   "source": [
    "- 클래스는 복제, 변형, 재생산을 용이하게 하기 위해 만들어진 확장가능한 프로그램의 코드의 단위(extensible program-code-template)이다. 즉 밈이다. "
   ]
  },
  {
   "cell_type": "markdown",
   "id": "d4d0c2e4-9ae7-4cc0-ab8e-4840db2fcd95",
   "metadata": {},
   "source": [
    "`-`  클래스도 결국 밈이다. 생각해보면 클래스를 만들고 사용하는 과정이 인터넷에서 밈을 만들고 노는것과 닮아 있다."
   ]
  },
  {
   "cell_type": "markdown",
   "id": "191ef6d2-9bf9-4e19-a42c-3a10dac678ba",
   "metadata": {},
   "source": [
    "- 1단계: 개념의 인지 (이거 재미있겠다 밈으로 만들자 // 이 코드 쓸모있다, 이 코드를 쉽게 찍어내는 클래스로 만들어두자)\n",
    "\n",
    "- 2단계: 복사하고 싶은 속성을 추려 복사가능한 틀을 만듬 (밈 초기 컨텐츠 // 클래스의 선언)\n",
    "\n",
    "- 3단계: 밈에서 다양한 컨텐츠를 재생산, 때로는 변형하여 재생산, 때로는 그것을 응용한 다른밈을 만듬 (밈화 // 클래스의 인스턴스화, 상속, 메소드오버라이딩)"
   ]
  },
  {
   "cell_type": "markdown",
   "id": "083f0e30-9788-4e7f-bc5e-2196d4110b31",
   "metadata": {},
   "source": [
    "## \"멈춰\" 밈을 컨텐츠화"
   ]
  },
  {
   "cell_type": "markdown",
   "id": "e8408731-dc69-43b0-9e00-4834b94dc538",
   "metadata": {},
   "source": [
    "`-` 멈춰 밈을 이용하여 코스피하락, 수강신청 매크로 등 다양한 예제를 만들자"
   ]
  },
  {
   "cell_type": "code",
   "execution_count": 2,
   "id": "3e70fbbd-4c39-437f-a5e6-3fde7ae5af1b",
   "metadata": {},
   "outputs": [],
   "source": [
    "from IPython.core.display import HTML"
   ]
  },
  {
   "cell_type": "markdown",
   "id": "a1b6e7f2-c4aa-4666-8f4b-d900bb6456f6",
   "metadata": {},
   "source": [
    "### 예비학습"
   ]
  },
  {
   "cell_type": "markdown",
   "id": "c6ece777-3f61-4fe3-bd6c-8414ce8e8cc1",
   "metadata": {},
   "source": [
    "#### 문자열포맷팅 (문자열끼워넣기)"
   ]
  },
  {
   "cell_type": "markdown",
   "id": "34b837db-e5ca-4fe9-8f45-08dd4ffacee0",
   "metadata": {},
   "source": [
    "`-` 예제1"
   ]
  },
  {
   "cell_type": "code",
   "execution_count": 4,
   "id": "70d39366-a23e-41f3-b830-278fadeeef2c",
   "metadata": {},
   "outputs": [
    {
     "data": {
      "text/plain": [
       "'제 이름은 보람입니다.'"
      ]
     },
     "execution_count": 4,
     "metadata": {},
     "output_type": "execute_result"
    }
   ],
   "source": [
    "'제 이름은 {}입니다.'.format('보람')"
   ]
  },
  {
   "cell_type": "markdown",
   "id": "c15a2d88-b095-4388-a628-ef69afd50659",
   "metadata": {},
   "source": [
    "`-`예제2"
   ]
  },
  {
   "cell_type": "code",
   "execution_count": 5,
   "id": "195d6b16-558b-4fac-b8e5-dea03352bc71",
   "metadata": {},
   "outputs": [
    {
     "data": {
      "text/plain": [
       "'제 이름은 보람이고 사는 곳은 전주입니다.'"
      ]
     },
     "execution_count": 5,
     "metadata": {},
     "output_type": "execute_result"
    }
   ],
   "source": [
    "'제 이름은 {}이고 사는 곳은 {}입니다.'.format('보람','전주')"
   ]
  },
  {
   "cell_type": "code",
   "execution_count": 6,
   "id": "dd229e64-d083-40a2-af0c-701aa637b098",
   "metadata": {},
   "outputs": [
    {
     "data": {
      "text/plain": [
       "'제 이름은 전주이고 사는 곳은 보람입니다.'"
      ]
     },
     "execution_count": 6,
     "metadata": {},
     "output_type": "execute_result"
    }
   ],
   "source": [
    "'제 이름은 {}이고 사는 곳은 {}입니다.'.format('전주','보람')"
   ]
  },
  {
   "cell_type": "markdown",
   "id": "52c6f214-5520-4466-9205-68bf589ae43d",
   "metadata": {},
   "source": [
    "`-`예제3"
   ]
  },
  {
   "cell_type": "code",
   "execution_count": 7,
   "id": "0181c2eb-cffa-4143-819a-e56a243644bc",
   "metadata": {},
   "outputs": [
    {
     "data": {
      "text/plain": [
       "'제 이름은 보람이고 사는 곳은 전주입니다.'"
      ]
     },
     "execution_count": 7,
     "metadata": {},
     "output_type": "execute_result"
    }
   ],
   "source": [
    "'제 이름은 {name}이고 사는 곳은 {add}입니다.'.format(name='보람',add='전주')"
   ]
  },
  {
   "cell_type": "code",
   "execution_count": 9,
   "id": "270d4c1c-2401-4bde-910c-83689620eaec",
   "metadata": {},
   "outputs": [
    {
     "data": {
      "text/plain": [
       "'제 이름은 보람이고 사는 곳은 전주입니다.'"
      ]
     },
     "execution_count": 9,
     "metadata": {},
     "output_type": "execute_result"
    }
   ],
   "source": [
    "'제 이름은 {name}이고 사는 곳은 {add}입니다.'.format(add='전주',name='보람')"
   ]
  },
  {
   "cell_type": "markdown",
   "id": "ea181330-867c-4082-9113-80f9d0bac9f5",
   "metadata": {},
   "source": [
    "#### HTML"
   ]
  },
  {
   "cell_type": "markdown",
   "id": "b907a675-1ed3-4582-814d-6e550aeb51fd",
   "metadata": {},
   "source": [
    "`-`예제1"
   ]
  },
  {
   "cell_type": "code",
   "execution_count": 11,
   "id": "05db3cc5-e0ed-41a9-a4a4-680d315cb0f3",
   "metadata": {},
   "outputs": [
    {
     "data": {
      "text/html": [
       "<p> 이름 </p>"
      ],
      "text/plain": [
       "<IPython.core.display.HTML object>"
      ]
     },
     "execution_count": 11,
     "metadata": {},
     "output_type": "execute_result"
    }
   ],
   "source": [
    "HTML(\"<p> 이름 </p>\")"
   ]
  },
  {
   "cell_type": "markdown",
   "id": "be7a5751-0fea-41f7-acf0-75d2b8d5dadd",
   "metadata": {},
   "source": [
    "`-`예제2"
   ]
  },
  {
   "cell_type": "code",
   "execution_count": 12,
   "id": "3ea2abdf-3900-41ca-b969-5948d0193e58",
   "metadata": {},
   "outputs": [
    {
     "data": {
      "text/html": [
       "<img src='https://stat.jbnu.ac.kr/sites/stat/atchmnfl_mngr/imageSlide/469/temp_1573001043314100.jpg'>"
      ],
      "text/plain": [
       "<IPython.core.display.HTML object>"
      ]
     },
     "execution_count": 12,
     "metadata": {},
     "output_type": "execute_result"
    }
   ],
   "source": [
    "HTML(\"<img src='https://stat.jbnu.ac.kr/sites/stat/atchmnfl_mngr/imageSlide/469/temp_1573001043314100.jpg'>\")"
   ]
  },
  {
   "cell_type": "markdown",
   "id": "ee4279f7-9c1d-435b-9455-edcb41b31da7",
   "metadata": {},
   "source": [
    "`-` 예제3"
   ]
  },
  {
   "cell_type": "code",
   "execution_count": 14,
   "id": "ed1ed23d-c440-45fa-aa10-9f4134714ef4",
   "metadata": {},
   "outputs": [
    {
     "data": {
      "text/html": [
       "<p> 전북대학교 </p><img src='https://stat.jbnu.ac.kr/sites/stat/atchmnfl_mngr/imageSlide/469/temp_1573001043314100.jpg'>"
      ],
      "text/plain": [
       "<IPython.core.display.HTML object>"
      ]
     },
     "execution_count": 14,
     "metadata": {},
     "output_type": "execute_result"
    }
   ],
   "source": [
    "HTML(\"<p> 전북대학교 </p><img src='https://stat.jbnu.ac.kr/sites/stat/atchmnfl_mngr/imageSlide/469/temp_1573001043314100.jpg'>\")"
   ]
  },
  {
   "cell_type": "markdown",
   "id": "235eda29-6384-4ab2-9de5-aee3822367d4",
   "metadata": {},
   "source": [
    "#### HTML을 이용한 밈생성"
   ]
  },
  {
   "cell_type": "markdown",
   "id": "f49b847a-909d-4092-89a3-b92d0e1da7f8",
   "metadata": {},
   "source": [
    "`-` 밈을 위한 이미지 주소"
   ]
  },
  {
   "cell_type": "code",
   "execution_count": 15,
   "id": "be62ee76-9cbb-4ee9-a830-ee9f628b432d",
   "metadata": {},
   "outputs": [],
   "source": [
    "url1='https://github.com/guebin/IP2022/blob/master/_notebooks/2022-05-07-stop1.jpeg?raw=true'\n",
    "url2='https://github.com/guebin/IP2022/blob/master/_notebooks/2022-05-07-stop2.png?raw=true'"
   ]
  },
  {
   "cell_type": "markdown",
   "id": "394b5412-ba3a-4cf9-b2a0-baf71f6f9fd1",
   "metadata": {},
   "source": [
    "`-` 예제1: 원본"
   ]
  },
  {
   "cell_type": "code",
   "execution_count": 28,
   "id": "ecefc0f1-0564-44af-bcf3-f849e8a39f55",
   "metadata": {},
   "outputs": [
    {
     "data": {
      "text/plain": [
       "\"<p> 학교폭력 </p> <img src='https://github.com/guebin/IP2022/blob/master/_notebooks/2022-05-07-stop1.jpeg?raw=true'> <p> 멈춰~~~~ </p>\""
      ]
     },
     "execution_count": 28,
     "metadata": {},
     "output_type": "execute_result"
    }
   ],
   "source": [
    "htmlstr.format(title='학교폭력',url=url1,end='멈춰~~~~')"
   ]
  },
  {
   "cell_type": "code",
   "execution_count": 29,
   "id": "4a38d8b3-b1d3-43be-a734-834f5bb919bb",
   "metadata": {},
   "outputs": [
    {
     "data": {
      "text/html": [
       "<p> 학교폭력 </p> <img src='https://github.com/guebin/IP2022/blob/master/_notebooks/2022-05-07-stop1.jpeg?raw=true'> <p> 멈춰~~~~ </p>"
      ],
      "text/plain": [
       "<IPython.core.display.HTML object>"
      ]
     },
     "execution_count": 29,
     "metadata": {},
     "output_type": "execute_result"
    }
   ],
   "source": [
    "htmlstr = \"<p> {title} </p> <img src='{url}'> <p> {end} </p>\"\n",
    "HTML(htmlstr.format(title='학교폭력',url=url1,end='멈춰~~~~'))"
   ]
  },
  {
   "cell_type": "markdown",
   "id": "f6344edb-0f56-46f5-8497-76766ab26268",
   "metadata": {},
   "source": [
    "`-` 예제2: 코스피하락 멈춰어"
   ]
  },
  {
   "cell_type": "code",
   "execution_count": 33,
   "id": "a1daac90-6ac6-4cbb-aae9-a516d6e7ead0",
   "metadata": {},
   "outputs": [
    {
     "data": {
      "text/html": [
       "<p> 코스피하락 </p> <img src='https://github.com/guebin/IP2022/blob/master/_notebooks/2022-05-07-stop1.jpeg?raw=true'> <p> 멈춰~~~~ </p>"
      ],
      "text/plain": [
       "<IPython.core.display.HTML object>"
      ]
     },
     "execution_count": 33,
     "metadata": {},
     "output_type": "execute_result"
    }
   ],
   "source": [
    "HTML(htmlstr.format(title='코스피하락',url=url1,end='멈춰~~~~'))"
   ]
  },
  {
   "cell_type": "code",
   "execution_count": null,
   "id": "409b757c-f973-4dea-943d-f1366f35ea49",
   "metadata": {},
   "outputs": [],
   "source": []
  },
  {
   "cell_type": "markdown",
   "id": "b3b6e58f-38ee-43e7-8919-48bc485736a1",
   "metadata": {},
   "source": [
    "`-` 예제3: 매크로 멈춰어"
   ]
  },
  {
   "cell_type": "code",
   "execution_count": 32,
   "id": "fa826dd3-1e5f-41d6-8aa6-9abd61c52d92",
   "metadata": {},
   "outputs": [
    {
     "data": {
      "text/html": [
       "<p> 수강신청매크로 </p> <img src='https://github.com/guebin/IP2022/blob/master/_notebooks/2022-05-07-stop1.jpeg?raw=true'> <p> 멈춰~~~~ </p>"
      ],
      "text/plain": [
       "<IPython.core.display.HTML object>"
      ]
     },
     "execution_count": 32,
     "metadata": {},
     "output_type": "execute_result"
    }
   ],
   "source": [
    "HTML(htmlstr.format(title='수강신청매크로',url=url1,end='멈춰~~~~'))"
   ]
  },
  {
   "cell_type": "markdown",
   "id": "b6d5a371-036b-4abc-9724-f77c55e00e2d",
   "metadata": {},
   "source": [
    "### 함수를 만들어서 코드를 관리"
   ]
  },
  {
   "cell_type": "markdown",
   "id": "3bdddb1c-aaec-4b51-9b16-78d9601db540",
   "metadata": {},
   "source": [
    "`-` 함수의 선언"
   ]
  },
  {
   "cell_type": "code",
   "execution_count": 43,
   "id": "25a48cab-287e-40f0-a6b8-6fb13322aba3",
   "metadata": {},
   "outputs": [],
   "source": [
    "def stop():\n",
    "    htmlstr = \"<p> {title} </p> <img src='{url}'> <p> {end} </p>\"\n",
    "    display(HTML(htmlstr.format(title=ttl,url=url,end=end)))   #display로 받아주는게 좋다\n",
    "    "
   ]
  },
  {
   "cell_type": "markdown",
   "id": "d6e02a55-bef1-4bc3-94f3-70c8a8d1e88d",
   "metadata": {},
   "source": [
    "`-` 사용"
   ]
  },
  {
   "cell_type": "code",
   "execution_count": 38,
   "id": "83b2209b-4411-465a-8737-20df1fd11ba7",
   "metadata": {},
   "outputs": [
    {
     "data": {
      "text/html": [
       "<p> 돈쓰는거 </p> <img src='https://github.com/guebin/IP2022/blob/master/_notebooks/2022-05-07-stop1.jpeg?raw=true'> <p> 멈춰 ㅠ </p>"
      ],
      "text/plain": [
       "<IPython.core.display.HTML object>"
      ]
     },
     "metadata": {},
     "output_type": "display_data"
    }
   ],
   "source": [
    "ttl = '돈쓰는거'\n",
    "url = url1\n",
    "end = '멈춰 ㅠ'\n",
    "stop()"
   ]
  },
  {
   "cell_type": "code",
   "execution_count": 40,
   "id": "63b065f4-d2cd-41cb-a834-201df2601f43",
   "metadata": {},
   "outputs": [
    {
     "data": {
      "text/html": [
       "<p> 술담배 </p> <img src='https://github.com/guebin/IP2022/blob/master/_notebooks/2022-05-07-stop1.jpeg?raw=true'> <p> 멈춰! </p>"
      ],
      "text/plain": [
       "<IPython.core.display.HTML object>"
      ]
     },
     "metadata": {},
     "output_type": "display_data"
    }
   ],
   "source": [
    "ttl = '술담배'\n",
    "url = url1\n",
    "end = '멈춰!'\n",
    "stop()"
   ]
  },
  {
   "cell_type": "code",
   "execution_count": 42,
   "id": "85961f5f-c914-48bb-8052-75a30738d1a3",
   "metadata": {},
   "outputs": [
    {
     "data": {
      "text/html": [
       "<p> 코코 주워먹는거 </p> <img src='https://github.com/guebin/IP2022/blob/master/_notebooks/2022-05-07-stop2.png?raw=true'> <p> 멈춰!!!!! </p>"
      ],
      "text/plain": [
       "<IPython.core.display.HTML object>"
      ]
     },
     "metadata": {},
     "output_type": "display_data"
    }
   ],
   "source": [
    "ttl = '코코 주워먹는거'\n",
    "url = url2\n",
    "end = '멈춰!!!!!'\n",
    "stop()"
   ]
  },
  {
   "cell_type": "markdown",
   "id": "27d8963b-b48e-460d-b00f-7d41d574d365",
   "metadata": {},
   "source": [
    "### 클래스를 만들어서 관리"
   ]
  },
  {
   "cell_type": "code",
   "execution_count": 52,
   "id": "9cb15a20-5713-4024-9dfd-cacb22e1f260",
   "metadata": {},
   "outputs": [],
   "source": [
    "class STOOOP: #STOOOP은 양식문서의 이름이라 생각하자.\n",
    "    title = \"학교폭력\"\n",
    "    url = url1\n",
    "    end = \"멈춰~~~~\"\n",
    "    def stop(self):  # 규칙1: class안에서 정의된 함수는 첫번째 입력으로 무조건 self를 받는다.\n",
    "        htmlstr = \"<p> {title} </p> <img src='{url}'> <p> {end} </p>\"\n",
    "        display(HTML(htmlstr.format(title=self.title,url=self.url,end=self.end))) \n",
    "        # 규칙2: class안에서 정의된 변수 (title, url, end)를 쓰려면 \"self.변수이름\"의 형태로 써야함"
   ]
  },
  {
   "cell_type": "markdown",
   "id": "62f03e7e-a602-4209-b57e-1565b0ac379e",
   "metadata": {},
   "source": [
    "#### t=1 학교폭력멈춰"
   ]
  },
  {
   "cell_type": "code",
   "execution_count": 59,
   "id": "2e649f69-012c-4516-b781-e341e5af8b53",
   "metadata": {},
   "outputs": [],
   "source": [
    "school = STOOOP()   \n",
    "\n",
    "# STOOOP이라는 이름의 양식문서를 복사해 하나의 hwp 파일을 만들어 밈을 생성하고 그 파일이름을 school이라고 하자.\n",
    "# 그러니가 STOOP.hwp 와 school.hwp가 잇다.."
   ]
  },
  {
   "cell_type": "code",
   "execution_count": 54,
   "id": "e19b6c9a-1ad9-4a27-893b-b243674e8acd",
   "metadata": {},
   "outputs": [
    {
     "data": {
      "text/plain": [
       "'학교폭력'"
      ]
     },
     "execution_count": 54,
     "metadata": {},
     "output_type": "execute_result"
    }
   ],
   "source": [
    "school.title"
   ]
  },
  {
   "cell_type": "code",
   "execution_count": 55,
   "id": "b70f2d33-91ac-446b-85e6-1c87138a13cc",
   "metadata": {},
   "outputs": [
    {
     "data": {
      "text/plain": [
       "'https://github.com/guebin/IP2022/blob/master/_notebooks/2022-05-07-stop1.jpeg?raw=true'"
      ]
     },
     "execution_count": 55,
     "metadata": {},
     "output_type": "execute_result"
    }
   ],
   "source": [
    "school.url"
   ]
  },
  {
   "cell_type": "code",
   "execution_count": 56,
   "id": "3753507b-e3c0-49f9-96da-747221b6fe65",
   "metadata": {},
   "outputs": [
    {
     "data": {
      "text/plain": [
       "'멈춰~~~~'"
      ]
     },
     "execution_count": 56,
     "metadata": {},
     "output_type": "execute_result"
    }
   ],
   "source": [
    "school.end"
   ]
  },
  {
   "cell_type": "code",
   "execution_count": 57,
   "id": "470c14ae-f235-41a3-aadc-bbc33b5fec87",
   "metadata": {},
   "outputs": [
    {
     "data": {
      "text/html": [
       "<p> 학교폭력 </p> <img src='https://github.com/guebin/IP2022/blob/master/_notebooks/2022-05-07-stop1.jpeg?raw=true'> <p> 멈춰~~~~ </p>"
      ],
      "text/plain": [
       "<IPython.core.display.HTML object>"
      ]
     },
     "metadata": {},
     "output_type": "display_data"
    }
   ],
   "source": [
    "school.stop()"
   ]
  },
  {
   "cell_type": "markdown",
   "id": "ab2fd00b-1006-4380-a858-88065ac80f86",
   "metadata": {},
   "source": [
    "#### t=2 코스피하락멈춰"
   ]
  },
  {
   "cell_type": "code",
   "execution_count": 60,
   "id": "a6d35916-2de3-4cfe-99d3-b460dc259ab8",
   "metadata": {},
   "outputs": [],
   "source": [
    "kospi = STOOOP() # 코스피하락 멈춰를 위해 STOOP.hwp양식문서에서 하나의 밈을 찍어낸다. (kospi.hwp)\n",
    "kospi.title = '코스피하락' #제목변경\n"
   ]
  },
  {
   "cell_type": "code",
   "execution_count": 61,
   "id": "007075b1-9b38-4584-80b4-21732c508fea",
   "metadata": {},
   "outputs": [
    {
     "data": {
      "text/html": [
       "<p> 코스피하락 </p> <img src='https://github.com/guebin/IP2022/blob/master/_notebooks/2022-05-07-stop1.jpeg?raw=true'> <p> 멈춰~~~~ </p>"
      ],
      "text/plain": [
       "<IPython.core.display.HTML object>"
      ]
     },
     "metadata": {},
     "output_type": "display_data"
    }
   ],
   "source": [
    "kospi.stop()"
   ]
  },
  {
   "cell_type": "markdown",
   "id": "cf277848-c86f-40bb-baa8-d3dc137555d3",
   "metadata": {},
   "source": [
    "#### t=3 수강신청매크로 멈춰"
   ]
  },
  {
   "cell_type": "code",
   "execution_count": 62,
   "id": "85594fa9-a33a-4ee6-aa95-68fbe7b18b04",
   "metadata": {},
   "outputs": [],
   "source": [
    "macro = STOOOP()"
   ]
  },
  {
   "cell_type": "code",
   "execution_count": 63,
   "id": "1ebb2900-5877-4b86-a552-d05f1199084b",
   "metadata": {},
   "outputs": [
    {
     "data": {
      "text/plain": [
       "('학교폭력',\n",
       " 'https://github.com/guebin/IP2022/blob/master/_notebooks/2022-05-07-stop1.jpeg?raw=true',\n",
       " '멈춰~~~~')"
      ]
     },
     "execution_count": 63,
     "metadata": {},
     "output_type": "execute_result"
    }
   ],
   "source": [
    "macro.title, macro.url, macro.end"
   ]
  },
  {
   "cell_type": "code",
   "execution_count": 64,
   "id": "a5762f80-beb8-4f94-aaef-a86ae3f4d626",
   "metadata": {},
   "outputs": [],
   "source": [
    "macro.title = \"수강신청매크로\""
   ]
  },
  {
   "cell_type": "code",
   "execution_count": 65,
   "id": "9d2a1b73-b73c-4cf3-b5da-5caad1f5d30b",
   "metadata": {},
   "outputs": [
    {
     "data": {
      "text/html": [
       "<p> 수강신청매크로 </p> <img src='https://github.com/guebin/IP2022/blob/master/_notebooks/2022-05-07-stop1.jpeg?raw=true'> <p> 멈춰~~~~ </p>"
      ],
      "text/plain": [
       "<IPython.core.display.HTML object>"
      ]
     },
     "metadata": {},
     "output_type": "display_data"
    }
   ],
   "source": [
    "macro.stop()"
   ]
  },
  {
   "cell_type": "markdown",
   "id": "c58d89c0-e195-4f4f-afcf-a7b22b1ece38",
   "metadata": {},
   "source": [
    "#### t=4 수강신청 매크로 멈춰 끝 물결대신 느낌표"
   ]
  },
  {
   "cell_type": "code",
   "execution_count": 66,
   "id": "be7bae4c-bd52-4dc5-b6de-028da508203b",
   "metadata": {},
   "outputs": [],
   "source": [
    "macro.end = \"멈춰!!!!!!!!\""
   ]
  },
  {
   "cell_type": "code",
   "execution_count": 67,
   "id": "30c15ad9-5566-4653-af09-ba7e059cd872",
   "metadata": {},
   "outputs": [
    {
     "data": {
      "text/plain": [
       "('수강신청매크로',\n",
       " 'https://github.com/guebin/IP2022/blob/master/_notebooks/2022-05-07-stop1.jpeg?raw=true',\n",
       " '멈춰!!!!!!!!')"
      ]
     },
     "execution_count": 67,
     "metadata": {},
     "output_type": "execute_result"
    }
   ],
   "source": [
    "macro.title, macro.url, macro.end"
   ]
  },
  {
   "cell_type": "code",
   "execution_count": 68,
   "id": "9e81dfe9-9f4f-4da8-bf45-52d2299e062e",
   "metadata": {},
   "outputs": [
    {
     "data": {
      "text/html": [
       "<p> 수강신청매크로 </p> <img src='https://github.com/guebin/IP2022/blob/master/_notebooks/2022-05-07-stop1.jpeg?raw=true'> <p> 멈춰!!!!!!!! </p>"
      ],
      "text/plain": [
       "<IPython.core.display.HTML object>"
      ]
     },
     "metadata": {},
     "output_type": "display_data"
    }
   ],
   "source": [
    "macro.stop()"
   ]
  },
  {
   "cell_type": "markdown",
   "id": "29a90927-b76d-4efa-b989-f4819ee94247",
   "metadata": {},
   "source": [
    "#### t=5 코스피하락 다시 출력 (함수와 비교했을때 실수 발생x)"
   ]
  },
  {
   "cell_type": "code",
   "execution_count": 69,
   "id": "f541ae60-858f-4ec5-b71b-8a06bdfa40c5",
   "metadata": {},
   "outputs": [
    {
     "data": {
      "text/html": [
       "<p> 코스피하락 </p> <img src='https://github.com/guebin/IP2022/blob/master/_notebooks/2022-05-07-stop1.jpeg?raw=true'> <p> 멈춰~~~~ </p>"
      ],
      "text/plain": [
       "<IPython.core.display.HTML object>"
      ]
     },
     "metadata": {},
     "output_type": "display_data"
    }
   ],
   "source": [
    "kospi.stop()"
   ]
  },
  {
   "cell_type": "markdown",
   "id": "e0db0a62-7fda-495c-b502-e683d60ad210",
   "metadata": {},
   "source": [
    "#### t=6 학교폭력 멈춰와 코스피하락 멈춰 동시에 출력"
   ]
  },
  {
   "cell_type": "code",
   "execution_count": 70,
   "id": "65c4130c-98d0-48b7-a6e7-9b2d72d3b117",
   "metadata": {},
   "outputs": [
    {
     "data": {
      "text/html": [
       "<p> 학교폭력 </p> <img src='https://github.com/guebin/IP2022/blob/master/_notebooks/2022-05-07-stop1.jpeg?raw=true'> <p> 멈춰~~~~ </p>"
      ],
      "text/plain": [
       "<IPython.core.display.HTML object>"
      ]
     },
     "metadata": {},
     "output_type": "display_data"
    }
   ],
   "source": [
    "school.stop()"
   ]
  },
  {
   "cell_type": "code",
   "execution_count": 71,
   "id": "7b8e2927-0ce3-42dd-aeba-08ddbaf03c7c",
   "metadata": {},
   "outputs": [
    {
     "data": {
      "text/html": [
       "<p> 코스피하락 </p> <img src='https://github.com/guebin/IP2022/blob/master/_notebooks/2022-05-07-stop1.jpeg?raw=true'> <p> 멈춰~~~~ </p>"
      ],
      "text/plain": [
       "<IPython.core.display.HTML object>"
      ]
     },
     "metadata": {},
     "output_type": "display_data"
    }
   ],
   "source": [
    "kospi.stop()"
   ]
  },
  {
   "cell_type": "markdown",
   "id": "59e60121-55d0-4a1f-997b-55fdf4f75f35",
   "metadata": {},
   "source": [
    "#### t=7 \"학교폭력 멈춰\"의 이미지를 신혜선으로 변경, \"코스피하락 멈춰\"의 title을 'KOSPI하락'으로 변경\n"
   ]
  },
  {
   "cell_type": "code",
   "execution_count": 72,
   "id": "3b9cef6d-6485-4688-a2bb-6f89c4e79908",
   "metadata": {},
   "outputs": [],
   "source": [
    "school.url = url2\n",
    "kospi.title = \"KOSPI하락\""
   ]
  },
  {
   "cell_type": "code",
   "execution_count": 73,
   "id": "98a1e668-991d-4cbc-8b22-88741abc97f8",
   "metadata": {},
   "outputs": [
    {
     "data": {
      "text/html": [
       "<p> 학교폭력 </p> <img src='https://github.com/guebin/IP2022/blob/master/_notebooks/2022-05-07-stop2.png?raw=true'> <p> 멈춰~~~~ </p>"
      ],
      "text/plain": [
       "<IPython.core.display.HTML object>"
      ]
     },
     "metadata": {},
     "output_type": "display_data"
    }
   ],
   "source": [
    "school.stop()"
   ]
  },
  {
   "cell_type": "code",
   "execution_count": 74,
   "id": "ce13aba0-b533-47dd-b193-6bf3859e5467",
   "metadata": {},
   "outputs": [
    {
     "data": {
      "text/html": [
       "<p> KOSPI하락 </p> <img src='https://github.com/guebin/IP2022/blob/master/_notebooks/2022-05-07-stop1.jpeg?raw=true'> <p> 멈춰~~~~ </p>"
      ],
      "text/plain": [
       "<IPython.core.display.HTML object>"
      ]
     },
     "metadata": {},
     "output_type": "display_data"
    }
   ],
   "source": [
    "kospi.stop()"
   ]
  },
  {
   "cell_type": "markdown",
   "id": "cacb05ce-59ab-45d8-a139-5ff4bf54bd7c",
   "metadata": {},
   "source": [
    "### 숙제"
   ]
  },
  {
   "cell_type": "markdown",
   "id": "c60e5228-92b4-46e5-976b-f5ae0da8a01d",
   "metadata": {},
   "source": [
    "\"수강신청 멈춰\"의 이미지를 신혜선으로 변경하고 출력해볼 것\n",
    "\n",
    "macro.url 변경\n",
    "macro.stop() 을 사용\n"
   ]
  },
  {
   "cell_type": "code",
   "execution_count": 75,
   "id": "48914bab-9eac-4d79-a04d-f82cda3ebeab",
   "metadata": {},
   "outputs": [],
   "source": [
    "macro.url=url2"
   ]
  },
  {
   "cell_type": "code",
   "execution_count": 76,
   "id": "90611d79-6261-4014-8e12-ddb9e3442389",
   "metadata": {},
   "outputs": [
    {
     "data": {
      "text/html": [
       "<p> 수강신청매크로 </p> <img src='https://github.com/guebin/IP2022/blob/master/_notebooks/2022-05-07-stop2.png?raw=true'> <p> 멈춰!!!!!!!! </p>"
      ],
      "text/plain": [
       "<IPython.core.display.HTML object>"
      ]
     },
     "metadata": {},
     "output_type": "display_data"
    }
   ],
   "source": [
    "macro.stop()"
   ]
  },
  {
   "cell_type": "code",
   "execution_count": null,
   "id": "d4d18850-08cd-4f07-96b0-b83f8ae33e80",
   "metadata": {},
   "outputs": [],
   "source": []
  }
 ],
 "metadata": {
  "kernelspec": {
   "display_name": "Python 3 (ipykernel)",
   "language": "python",
   "name": "python3"
  },
  "language_info": {
   "codemirror_mode": {
    "name": "ipython",
    "version": 3
   },
   "file_extension": ".py",
   "mimetype": "text/x-python",
   "name": "python",
   "nbconvert_exporter": "python",
   "pygments_lexer": "ipython3",
   "version": "3.8.18"
  }
 },
 "nbformat": 4,
 "nbformat_minor": 5
}
