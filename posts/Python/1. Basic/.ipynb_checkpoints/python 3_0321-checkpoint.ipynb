{
 "cells": [
  {
   "cell_type": "raw",
   "id": "6873a408-04b8-477a-bf32-dbe50db009a3",
   "metadata": {},
   "source": [
    "---\n",
    "title: \"파이썬 (0321) 3주차 \"\n",
    "author: \"김보람\"\n",
    "date: \"03/21/2022\"\n",
    "categories:\n",
    "  - 스트라이딩\n",
    "  - 컴프리헨션고급\n",
    "  - len함수\n",
    "  - 딕셔너리\n",
    "---"
   ]
  },
  {
   "cell_type": "markdown",
   "id": "6c0421a8",
   "metadata": {},
   "source": [
    "### (리스트가 아니고) 튜플을 쓰는 이유 "
   ]
  },
  {
   "cell_type": "markdown",
   "id": "19d99f7b",
   "metadata": {},
   "source": [
    "`-` 책의 설명 (파이썬에 한정되는 것은 아니고 모든 언어에 존재하는 불변형 객체에 적용가능한 설명)\n",
    "- 실수방지\n",
    "- 빠르다, 다중작업에 유리하다, 여러사람과 작업하기에 유리하다, 깊은복사/얕은복사시 원하지 않는 오류(side effect라고 함)를 방지할 수 있다, 메모리관리에도 유리함 등등\n",
    "- 느낌: 불변형은 기능제한이 있는데 가볍고 빠른, 가변형은 기능은 풍부하지만 약간 느리고 무거운 느낌임 (불변형: 라면사리, 가변형:라면)"
   ]
  },
  {
   "cell_type": "markdown",
   "id": "eb7d4b37",
   "metadata": {},
   "source": [
    "`-` 교수님 설명 (파이썬 한정 불변객체, 즉 튜플에 대한 설명)\n",
    "- 튜플의 장점은 소괄호의 생략에 있음 (파이썬과 줄리아만 가능)\n",
    "- 이것이 언패킹구문과 결합하여 어마무시한 가독성을 제공한다."
   ]
  },
  {
   "cell_type": "code",
   "execution_count": 4,
   "id": "92e62612",
   "metadata": {},
   "outputs": [],
   "source": [
    "def mycal(a,b):\n",
    "    return a+b, a-b, a*b, a/b # 여러개의 값을 리턴하는 듯 보인다. ->  사실은 길이가 4인 튜플 1개를 리턴"
   ]
  },
  {
   "cell_type": "code",
   "execution_count": 5,
   "id": "4e1b9624",
   "metadata": {},
   "outputs": [
    {
     "data": {
      "text/plain": [
       "(5, -1, 6, 0.6666666666666666)"
      ]
     },
     "execution_count": 5,
     "metadata": {},
     "output_type": "execute_result"
    }
   ],
   "source": [
    "mycal(2,3)"
   ]
  },
  {
   "cell_type": "code",
   "execution_count": 6,
   "id": "a2ff5d0d",
   "metadata": {},
   "outputs": [],
   "source": [
    "_, _, mulrslt, _ = mycal(2,3) # 병렬할당"
   ]
  },
  {
   "cell_type": "code",
   "execution_count": 7,
   "id": "cf9e1690",
   "metadata": {},
   "outputs": [
    {
     "data": {
      "text/plain": [
       "6"
      ]
     },
     "execution_count": 7,
     "metadata": {},
     "output_type": "execute_result"
    }
   ],
   "source": [
    "mulrslt"
   ]
  },
  {
   "cell_type": "markdown",
   "id": "80564038",
   "metadata": {},
   "source": [
    "`-` 의문: 왜 튜플만 괄호를 생략할 수 있지?"
   ]
  },
  {
   "cell_type": "markdown",
   "id": "bb12103e",
   "metadata": {},
   "source": [
    "`-` 교수님 생각\n",
    "- 튜플을 먼저 만들고, 괄호를 생략하는 문법을 추가한것은 아닐것임\n",
    "- 원래 괄호없이 컴마만 대충찍어서 선언가능한 간단한 타입의 벡터형을 만들고 싶었을 것임\n",
    "- 왜? 괄호없는 벡터를 만들고 + 연패킹을 사용하면 여러가지 구문들이 엄청나게 간단해짐\n",
    "- 컴마컴마로 선언하는 벡터는 한 두번 쓰고 버리는 경우가 많으며 대부분 이름도 필요 없음 -> 원소에 접근해서 sorting하여 순서를 바꾸고 싶다던가 원소를 추가할 이유가 없음 -> 비싼 가변형으로 만들 이유가 없다. \n",
    "- 필요한것: 데이터가 벡터의 형태로 모여있기만 하면 된다."
   ]
  },
  {
   "cell_type": "markdown",
   "id": "0f97c259",
   "metadata": {},
   "source": [
    "`-` 다른사람들 의견 (컴공과)\n",
    "- 튜플 + 언패킹에 충격 $\\to$ 파이썬 편하다.."
   ]
  },
  {
   "cell_type": "markdown",
   "id": "3479b314",
   "metadata": {},
   "source": [
    "### 인덱싱고급(스트라이딩)"
   ]
  },
  {
   "cell_type": "markdown",
   "id": "117ab477",
   "metadata": {},
   "source": [
    "`-` 스트라이딩 [start:stop:step]"
   ]
  },
  {
   "cell_type": "code",
   "execution_count": 1,
   "id": "8e55871e",
   "metadata": {},
   "outputs": [
    {
     "data": {
      "text/plain": [
       "['a', 'b', 'c', 'd', 'e', 'f', 'g', 'h']"
      ]
     },
     "execution_count": 1,
     "metadata": {},
     "output_type": "execute_result"
    }
   ],
   "source": [
    "lst = list('abcdefgh')\n",
    "lst"
   ]
  },
  {
   "cell_type": "code",
   "execution_count": 3,
   "id": "2abce8ad",
   "metadata": {},
   "outputs": [
    {
     "data": {
      "text/plain": [
       "['a', 'c', 'e', 'g']"
      ]
     },
     "execution_count": 3,
     "metadata": {},
     "output_type": "execute_result"
    }
   ],
   "source": [
    "lst[0:8:2]"
   ]
  },
  {
   "cell_type": "markdown",
   "id": "c99a0a0d",
   "metadata": {},
   "source": [
    "`-` 생략"
   ]
  },
  {
   "cell_type": "code",
   "execution_count": 4,
   "id": "2295f766",
   "metadata": {},
   "outputs": [
    {
     "data": {
      "text/plain": [
       "['a', 'b', 'c', 'd', 'e', 'f', 'g', 'h']"
      ]
     },
     "execution_count": 4,
     "metadata": {},
     "output_type": "execute_result"
    }
   ],
   "source": [
    "lst[:]"
   ]
  },
  {
   "cell_type": "code",
   "execution_count": 5,
   "id": "764b7c73",
   "metadata": {},
   "outputs": [
    {
     "data": {
      "text/plain": [
       "['a', 'c', 'e', 'g']"
      ]
     },
     "execution_count": 5,
     "metadata": {},
     "output_type": "execute_result"
    }
   ],
   "source": [
    "lst[::2]"
   ]
  },
  {
   "cell_type": "code",
   "execution_count": 6,
   "id": "b1eb7656",
   "metadata": {},
   "outputs": [
    {
     "data": {
      "text/plain": [
       "['a', 'c', 'e', 'g']"
      ]
     },
     "execution_count": 6,
     "metadata": {},
     "output_type": "execute_result"
    }
   ],
   "source": [
    "lst[:8:2]"
   ]
  },
  {
   "cell_type": "markdown",
   "id": "cfdc77d1",
   "metadata": {},
   "source": [
    "`-` 예제: 짝수/홀수 원소 추출"
   ]
  },
  {
   "cell_type": "code",
   "execution_count": 7,
   "id": "88b7f28a",
   "metadata": {},
   "outputs": [
    {
     "data": {
      "text/plain": [
       "['a', 'b', 'c', 'd', 'e', 'f', 'g', 'h']"
      ]
     },
     "execution_count": 7,
     "metadata": {},
     "output_type": "execute_result"
    }
   ],
   "source": [
    "lst"
   ]
  },
  {
   "cell_type": "code",
   "execution_count": 8,
   "id": "6e5e877a",
   "metadata": {},
   "outputs": [
    {
     "data": {
      "text/plain": [
       "['a', 'c', 'e', 'g']"
      ]
     },
     "execution_count": 8,
     "metadata": {},
     "output_type": "execute_result"
    }
   ],
   "source": [
    "lst[::2]  # 1,3,5,7, ... 홀수 원소"
   ]
  },
  {
   "cell_type": "code",
   "execution_count": 9,
   "id": "5123efc5",
   "metadata": {},
   "outputs": [
    {
     "data": {
      "text/plain": [
       "['b', 'd', 'f', 'h']"
      ]
     },
     "execution_count": 9,
     "metadata": {},
     "output_type": "execute_result"
    }
   ],
   "source": [
    "lst[1::2] # 2,4,6,8,... 짝수 원소"
   ]
  },
  {
   "cell_type": "markdown",
   "id": "546c7177",
   "metadata": {},
   "source": [
    "`-` step = -1이면?"
   ]
  },
  {
   "cell_type": "code",
   "execution_count": 10,
   "id": "12e1d615",
   "metadata": {},
   "outputs": [
    {
     "data": {
      "text/plain": [
       "['h', 'g', 'f', 'e', 'd', 'c', 'b', 'a']"
      ]
     },
     "execution_count": 10,
     "metadata": {},
     "output_type": "execute_result"
    }
   ],
   "source": [
    "lst[::-1]    # 뒤에서부터"
   ]
  },
  {
   "cell_type": "markdown",
   "id": "29c6ca45",
   "metadata": {},
   "source": [
    "- reverse와 같은 기능"
   ]
  },
  {
   "cell_type": "markdown",
   "id": "2625c824",
   "metadata": {},
   "source": [
    "(reverse)와 비교\n",
    "\n",
    "관찰1: reverse 메소드는 리소드 자체를 변화시킴"
   ]
  },
  {
   "cell_type": "code",
   "execution_count": 11,
   "id": "71e040dd",
   "metadata": {},
   "outputs": [
    {
     "data": {
      "text/plain": [
       "['a', 'b', 'c', 'd', 'e', 'f', 'g', 'h']"
      ]
     },
     "execution_count": 11,
     "metadata": {},
     "output_type": "execute_result"
    }
   ],
   "source": [
    "lst = list('abcdefgh')\n",
    "lst"
   ]
  },
  {
   "cell_type": "code",
   "execution_count": 14,
   "id": "e00d3c2b",
   "metadata": {},
   "outputs": [
    {
     "data": {
      "text/plain": [
       "['h', 'g', 'f', 'e', 'd', 'c', 'b', 'a']"
      ]
     },
     "execution_count": 14,
     "metadata": {},
     "output_type": "execute_result"
    }
   ],
   "source": [
    "lst.reverse()  # 리버스는 자체가 변화한다.\n",
    "lst  "
   ]
  },
  {
   "cell_type": "raw",
   "id": "e4ab371f",
   "metadata": {},
   "source": [
    "관찰2: [::-1] 는 리스트는 변화시키지 않음"
   ]
  },
  {
   "cell_type": "code",
   "execution_count": 15,
   "id": "e40db16a",
   "metadata": {},
   "outputs": [
    {
     "data": {
      "text/plain": [
       "['a', 'b', 'c', 'd', 'e', 'f', 'g', 'h']"
      ]
     },
     "execution_count": 15,
     "metadata": {},
     "output_type": "execute_result"
    }
   ],
   "source": [
    "lst = list('abcdefgh')\n",
    "lst"
   ]
  },
  {
   "cell_type": "code",
   "execution_count": 16,
   "id": "3d54552f",
   "metadata": {},
   "outputs": [
    {
     "data": {
      "text/plain": [
       "['h', 'g', 'f', 'e', 'd', 'c', 'b', 'a']"
      ]
     },
     "execution_count": 16,
     "metadata": {},
     "output_type": "execute_result"
    }
   ],
   "source": [
    "lst[::-1]"
   ]
  },
  {
   "cell_type": "code",
   "execution_count": 17,
   "id": "3e70629a",
   "metadata": {},
   "outputs": [
    {
     "data": {
      "text/plain": [
       "['a', 'b', 'c', 'd', 'e', 'f', 'g', 'h']"
      ]
     },
     "execution_count": 17,
     "metadata": {},
     "output_type": "execute_result"
    }
   ],
   "source": [
    "lst"
   ]
  },
  {
   "cell_type": "markdown",
   "id": "ce5449bb",
   "metadata": {},
   "source": [
    "`-` 사실 -step은 쓰는 것이 조금 까다롭다."
   ]
  },
  {
   "cell_type": "markdown",
   "id": "d9bf37f7",
   "metadata": {},
   "source": [
    "(예제) 처음과 끝을 생략하지 않고 아래와 동일한 효과를 주는 코드를 만들어 보자."
   ]
  },
  {
   "cell_type": "code",
   "execution_count": 18,
   "id": "f5e7f4da",
   "metadata": {},
   "outputs": [
    {
     "data": {
      "text/plain": [
       "['h', 'g', 'f', 'e', 'd', 'c', 'b', 'a']"
      ]
     },
     "execution_count": 18,
     "metadata": {},
     "output_type": "execute_result"
    }
   ],
   "source": [
    "lst = list('abcdefgh')\n",
    "lst[::-1]"
   ]
  },
  {
   "cell_type": "markdown",
   "id": "f104b3b0",
   "metadata": {},
   "source": [
    "결국 lst[?:?:-1]의 꼴에서 적당히 ?의 값을 채우면 된다."
   ]
  },
  {
   "cell_type": "code",
   "execution_count": 19,
   "id": "c3417a34",
   "metadata": {},
   "outputs": [
    {
     "data": {
      "text/plain": [
       "['h', 'g', 'f', 'e', 'd', 'c', 'b', 'a']"
      ]
     },
     "execution_count": 19,
     "metadata": {},
     "output_type": "execute_result"
    }
   ],
   "source": [
    "lst[-1::-1] # 일단 첫 시작ㄷ은 제일 마지막 원소"
   ]
  },
  {
   "cell_type": "code",
   "execution_count": 20,
   "id": "e8f24db5",
   "metadata": {},
   "outputs": [
    {
     "data": {
      "text/plain": [
       "['h', 'g', 'f', 'e', 'd', 'c', 'b']"
      ]
     },
     "execution_count": 20,
     "metadata": {},
     "output_type": "execute_result"
    }
   ],
   "source": [
    "lst[-1:0:-1] # 마지막 인덱스는 포함x"
   ]
  },
  {
   "cell_type": "code",
   "execution_count": 21,
   "id": "26e50e0b",
   "metadata": {},
   "outputs": [
    {
     "data": {
      "text/plain": [
       "[]"
      ]
     },
     "execution_count": 21,
     "metadata": {},
     "output_type": "execute_result"
    }
   ],
   "source": [
    "lst[-1:-1:-1] "
   ]
  },
  {
   "cell_type": "markdown",
   "id": "ed4a0684",
   "metadata": {},
   "source": [
    "잠깐 인덱스를 생각해보자."
   ]
  },
  {
   "cell_type": "markdown",
   "id": "2a32a5bc",
   "metadata": {},
   "source": [
    "|a|b|c|d|e|f|g|h|\n",
    "|:-:|:-:|:-:|:-:|:-:|:-:|:-:|:-:|\n",
    "|0|1|2|3|4|5|6|7|\n",
    "|-8|-7|-6|-5|-4|-3|-2|-1|"
   ]
  },
  {
   "cell_type": "code",
   "execution_count": 23,
   "id": "09405dcf",
   "metadata": {},
   "outputs": [
    {
     "data": {
      "text/plain": [
       "['h', 'g', 'f', 'e', 'd', 'c', 'b']"
      ]
     },
     "execution_count": 23,
     "metadata": {},
     "output_type": "execute_result"
    }
   ],
   "source": [
    "lst[-1:-8:-1] "
   ]
  },
  {
   "cell_type": "code",
   "execution_count": 24,
   "id": "2867d8f4",
   "metadata": {},
   "outputs": [
    {
     "data": {
      "text/plain": [
       "['h', 'g', 'f', 'e', 'd', 'c', 'b', 'a']"
      ]
     },
     "execution_count": 24,
     "metadata": {},
     "output_type": "execute_result"
    }
   ],
   "source": [
    "lst[-1:-9:-1] "
   ]
  },
  {
   "cell_type": "markdown",
   "id": "a1c9d221",
   "metadata": {},
   "source": [
    "(예제)"
   ]
  },
  {
   "cell_type": "code",
   "execution_count": 25,
   "id": "473d00fb",
   "metadata": {},
   "outputs": [
    {
     "data": {
      "text/plain": [
       "['c', 'e', 'g']"
      ]
     },
     "execution_count": 25,
     "metadata": {},
     "output_type": "execute_result"
    }
   ],
   "source": [
    "lst[2::2]"
   ]
  },
  {
   "cell_type": "code",
   "execution_count": 26,
   "id": "21290531",
   "metadata": {},
   "outputs": [
    {
     "data": {
      "text/plain": [
       "['g', 'e', 'c', 'a']"
      ]
     },
     "execution_count": 26,
     "metadata": {},
     "output_type": "execute_result"
    }
   ],
   "source": [
    "lst[-2::-2]"
   ]
  },
  {
   "cell_type": "code",
   "execution_count": 27,
   "id": "5d42e105",
   "metadata": {},
   "outputs": [
    {
     "data": {
      "text/plain": [
       "[]"
      ]
     },
     "execution_count": 27,
     "metadata": {},
     "output_type": "execute_result"
    }
   ],
   "source": [
    "lst[-2:2:2]"
   ]
  },
  {
   "cell_type": "code",
   "execution_count": 29,
   "id": "162299b9",
   "metadata": {},
   "outputs": [
    {
     "data": {
      "text/plain": [
       "['c']"
      ]
     },
     "execution_count": 29,
     "metadata": {},
     "output_type": "execute_result"
    }
   ],
   "source": [
    "lst[2:3:2]"
   ]
  },
  {
   "cell_type": "code",
   "execution_count": 28,
   "id": "a5487326",
   "metadata": {},
   "outputs": [
    {
     "data": {
      "text/plain": [
       "[]"
      ]
     },
     "execution_count": 28,
     "metadata": {},
     "output_type": "execute_result"
    }
   ],
   "source": [
    "lst[2:2:2]"
   ]
  },
  {
   "cell_type": "code",
   "execution_count": 30,
   "id": "d959c890",
   "metadata": {},
   "outputs": [
    {
     "data": {
      "text/plain": [
       "[]"
      ]
     },
     "execution_count": 30,
     "metadata": {},
     "output_type": "execute_result"
    }
   ],
   "source": [
    "lst[2:2:-2]"
   ]
  },
  {
   "cell_type": "markdown",
   "id": "ed45dea6",
   "metadata": {},
   "source": [
    "결론: -step을 자주 쓰진 말자"
   ]
  },
  {
   "cell_type": "markdown",
   "id": "4e7aa34e",
   "metadata": {},
   "source": [
    "### 컴프리헨션 고급 (if문이 포함된 컴프리헨션)"
   ]
  },
  {
   "cell_type": "markdown",
   "id": "e77c678d",
   "metadata": {},
   "source": [
    "`-` 예제: 제곱수준에서 12로 나누어 떨어지는 수만 원소로 가지는 리스트를 만들고 싶다.\n",
    "- 제곱수: 1,4, 9, 16, 25, 36, ...\n",
    "- 12로 나누어 떨어지는 수: 36..."
   ]
  },
  {
   "cell_type": "markdown",
   "id": "0388ada1",
   "metadata": {},
   "source": [
    "(예비학습)"
   ]
  },
  {
   "cell_type": "code",
   "execution_count": 31,
   "id": "547190b6",
   "metadata": {},
   "outputs": [
    {
     "data": {
      "text/plain": [
       "2"
      ]
     },
     "execution_count": 31,
     "metadata": {},
     "output_type": "execute_result"
    }
   ],
   "source": [
    "12 % 5 # 나머지 리턴"
   ]
  },
  {
   "cell_type": "markdown",
   "id": "5eae9ffb",
   "metadata": {},
   "source": [
    "(풀이)"
   ]
  },
  {
   "cell_type": "code",
   "execution_count": 32,
   "id": "0a25d1ff",
   "metadata": {},
   "outputs": [],
   "source": [
    "lst=[]\n",
    "for i in range(1,101):\n",
    "    if (i**2 % 12 == 0 ):\n",
    "        lst.append(i**2)\n"
   ]
  },
  {
   "cell_type": "code",
   "execution_count": 33,
   "id": "478365ef",
   "metadata": {},
   "outputs": [
    {
     "data": {
      "text/plain": [
       "[36,\n",
       " 144,\n",
       " 324,\n",
       " 576,\n",
       " 900,\n",
       " 1296,\n",
       " 1764,\n",
       " 2304,\n",
       " 2916,\n",
       " 3600,\n",
       " 4356,\n",
       " 5184,\n",
       " 6084,\n",
       " 7056,\n",
       " 8100,\n",
       " 9216]"
      ]
     },
     "execution_count": 33,
     "metadata": {},
     "output_type": "execute_result"
    }
   ],
   "source": [
    "lst"
   ]
  },
  {
   "cell_type": "markdown",
   "id": "d30dad07",
   "metadata": {},
   "source": [
    "(풀이2)"
   ]
  },
  {
   "cell_type": "code",
   "execution_count": 34,
   "id": "0ef4bb0f",
   "metadata": {},
   "outputs": [
    {
     "data": {
      "text/plain": [
       "[36,\n",
       " 144,\n",
       " 324,\n",
       " 576,\n",
       " 900,\n",
       " 1296,\n",
       " 1764,\n",
       " 2304,\n",
       " 2916,\n",
       " 3600,\n",
       " 4356,\n",
       " 5184,\n",
       " 6084,\n",
       " 7056,\n",
       " 8100,\n",
       " 9216]"
      ]
     },
     "execution_count": 34,
     "metadata": {},
     "output_type": "execute_result"
    }
   ],
   "source": [
    "[i**2 for i in range(1,101) if (i**2 % 12==0)]"
   ]
  },
  {
   "cell_type": "markdown",
   "id": "dd43e497",
   "metadata": {},
   "source": [
    "### 함수고급 (조건부리턴)"
   ]
  },
  {
   "cell_type": "markdown",
   "id": "da4bac2d",
   "metadata": {},
   "source": [
    "`-` 홀수 짝수를 판별하는 함수 만들기1 "
   ]
  },
  {
   "cell_type": "code",
   "execution_count": 39,
   "id": "d0e25391",
   "metadata": {},
   "outputs": [],
   "source": [
    "def test(a):\n",
    "    if a% 2 ==0:\n",
    "        return 'even'\n",
    "    else:\n",
    "        return 'odd'"
   ]
  },
  {
   "cell_type": "code",
   "execution_count": 36,
   "id": "00f262ae",
   "metadata": {},
   "outputs": [
    {
     "data": {
      "text/plain": [
       "'even'"
      ]
     },
     "execution_count": 36,
     "metadata": {},
     "output_type": "execute_result"
    }
   ],
   "source": [
    "test(0)"
   ]
  },
  {
   "cell_type": "code",
   "execution_count": 37,
   "id": "d56e5d9a",
   "metadata": {},
   "outputs": [
    {
     "data": {
      "text/plain": [
       "'odd'"
      ]
     },
     "execution_count": 37,
     "metadata": {},
     "output_type": "execute_result"
    }
   ],
   "source": [
    "test(3)"
   ]
  },
  {
   "cell_type": "code",
   "execution_count": 38,
   "id": "960b2266",
   "metadata": {
    "scrolled": true
   },
   "outputs": [
    {
     "data": {
      "text/plain": [
       "['odd', 'even', 'odd', 'even', 'odd', 'even', 'odd', 'even', 'odd', 'even']"
      ]
     },
     "execution_count": 38,
     "metadata": {},
     "output_type": "execute_result"
    }
   ],
   "source": [
    "[test(a) for a in range(1,11)]"
   ]
  },
  {
   "cell_type": "markdown",
   "id": "455dd90e",
   "metadata": {},
   "source": [
    "`-` 홀수 짝수를 판별하는 함수 만들기2"
   ]
  },
  {
   "cell_type": "code",
   "execution_count": 43,
   "id": "ff41ae91",
   "metadata": {},
   "outputs": [],
   "source": [
    "def test(a):\n",
    "    return 'even' if a%2==0 else 'odd'"
   ]
  },
  {
   "cell_type": "code",
   "execution_count": 44,
   "id": "5551137c",
   "metadata": {},
   "outputs": [
    {
     "data": {
      "text/plain": [
       "'even'"
      ]
     },
     "execution_count": 44,
     "metadata": {},
     "output_type": "execute_result"
    }
   ],
   "source": [
    "test(2)"
   ]
  },
  {
   "cell_type": "code",
   "execution_count": 45,
   "id": "17f3ec43",
   "metadata": {},
   "outputs": [
    {
     "data": {
      "text/plain": [
       "['odd', 'even', 'odd', 'even', 'odd', 'even', 'odd', 'even', 'odd', 'even']"
      ]
     },
     "execution_count": 45,
     "metadata": {},
     "output_type": "execute_result"
    }
   ],
   "source": [
    "[test(a) for a in range(1,11)]"
   ]
  },
  {
   "cell_type": "markdown",
   "id": "c35fcad8",
   "metadata": {},
   "source": [
    "### len함수"
   ]
  },
  {
   "cell_type": "markdown",
   "id": "4d2c8077",
   "metadata": {},
   "source": [
    "`-` 0차원 자료형은 len함수가 동작하지 않음"
   ]
  },
  {
   "cell_type": "code",
   "execution_count": 46,
   "id": "34c57799",
   "metadata": {},
   "outputs": [
    {
     "ename": "TypeError",
     "evalue": "object of type 'int' has no len()",
     "output_type": "error",
     "traceback": [
      "\u001b[1;31m---------------------------------------------------------------------------\u001b[0m",
      "\u001b[1;31mTypeError\u001b[0m                                 Traceback (most recent call last)",
      "Input \u001b[1;32mIn [46]\u001b[0m, in \u001b[0;36m<cell line: 2>\u001b[1;34m()\u001b[0m\n\u001b[0;32m      1\u001b[0m a\u001b[38;5;241m=\u001b[39m\u001b[38;5;241m1\u001b[39m\n\u001b[1;32m----> 2\u001b[0m \u001b[38;5;28;43mlen\u001b[39;49m\u001b[43m(\u001b[49m\u001b[43ma\u001b[49m\u001b[43m)\u001b[49m\n",
      "\u001b[1;31mTypeError\u001b[0m: object of type 'int' has no len()"
     ]
    }
   ],
   "source": [
    "a=1\n",
    "len(a)"
   ]
  },
  {
   "cell_type": "code",
   "execution_count": 47,
   "id": "375c26a4",
   "metadata": {},
   "outputs": [
    {
     "ename": "TypeError",
     "evalue": "object of type 'bool' has no len()",
     "output_type": "error",
     "traceback": [
      "\u001b[1;31m---------------------------------------------------------------------------\u001b[0m",
      "\u001b[1;31mTypeError\u001b[0m                                 Traceback (most recent call last)",
      "Input \u001b[1;32mIn [47]\u001b[0m, in \u001b[0;36m<cell line: 2>\u001b[1;34m()\u001b[0m\n\u001b[0;32m      1\u001b[0m a\u001b[38;5;241m=\u001b[39m\u001b[38;5;28;01mTrue\u001b[39;00m\n\u001b[1;32m----> 2\u001b[0m \u001b[38;5;28;43mlen\u001b[39;49m\u001b[43m(\u001b[49m\u001b[43ma\u001b[49m\u001b[43m)\u001b[49m\n",
      "\u001b[1;31mTypeError\u001b[0m: object of type 'bool' has no len()"
     ]
    }
   ],
   "source": [
    "a=True\n",
    "len(a)"
   ]
  },
  {
   "cell_type": "code",
   "execution_count": 48,
   "id": "946f9c86",
   "metadata": {},
   "outputs": [
    {
     "ename": "TypeError",
     "evalue": "object of type 'float' has no len()",
     "output_type": "error",
     "traceback": [
      "\u001b[1;31m---------------------------------------------------------------------------\u001b[0m",
      "\u001b[1;31mTypeError\u001b[0m                                 Traceback (most recent call last)",
      "Input \u001b[1;32mIn [48]\u001b[0m, in \u001b[0;36m<cell line: 2>\u001b[1;34m()\u001b[0m\n\u001b[0;32m      1\u001b[0m a\u001b[38;5;241m=\u001b[39m\u001b[38;5;241m3.14\u001b[39m\n\u001b[1;32m----> 2\u001b[0m \u001b[38;5;28;43mlen\u001b[39;49m\u001b[43m(\u001b[49m\u001b[43ma\u001b[49m\u001b[43m)\u001b[49m\n",
      "\u001b[1;31mTypeError\u001b[0m: object of type 'float' has no len()"
     ]
    }
   ],
   "source": [
    "a=3.14\n",
    "len(a)"
   ]
  },
  {
   "cell_type": "markdown",
   "id": "278c76b9",
   "metadata": {},
   "source": [
    "> note: 이것이 어떠한 수학적인 의미를 가지거나 0차원의 본질적인 진리를 뜻하는 것은 아니다.\n",
    "    R에서는 1, 3.14, True의 길이가 1로 존재함"
   ]
  },
  {
   "cell_type": "markdown",
   "id": "b07106a5",
   "metadata": {},
   "source": [
    "`-` 1차원 자료형은 len함수가 동작"
   ]
  },
  {
   "cell_type": "code",
   "execution_count": 50,
   "id": "7a0e6fee",
   "metadata": {},
   "outputs": [
    {
     "data": {
      "text/plain": [
       "5"
      ]
     },
     "execution_count": 50,
     "metadata": {},
     "output_type": "execute_result"
    }
   ],
   "source": [
    "a='boram'\n",
    "len(a)"
   ]
  },
  {
   "cell_type": "code",
   "execution_count": 51,
   "id": "507d3fcb",
   "metadata": {},
   "outputs": [
    {
     "data": {
      "text/plain": [
       "7"
      ]
     },
     "execution_count": 51,
     "metadata": {},
     "output_type": "execute_result"
    }
   ],
   "source": [
    "a=[1,2,3,4,5,6,7]\n",
    "len(a)"
   ]
  },
  {
   "cell_type": "code",
   "execution_count": 52,
   "id": "976a5dd2",
   "metadata": {},
   "outputs": [
    {
     "data": {
      "text/plain": [
       "4"
      ]
     },
     "execution_count": 52,
     "metadata": {},
     "output_type": "execute_result"
    }
   ],
   "source": [
    "a=1,2,3,4\n",
    "len(a)"
   ]
  },
  {
   "cell_type": "code",
   "execution_count": 53,
   "id": "f4d30039",
   "metadata": {},
   "outputs": [
    {
     "data": {
      "text/plain": [
       "10"
      ]
     },
     "execution_count": 53,
     "metadata": {},
     "output_type": "execute_result"
    }
   ],
   "source": [
    "a=range(10)\n",
    "len(a)"
   ]
  },
  {
   "cell_type": "markdown",
   "id": "a977b325",
   "metadata": {},
   "source": [
    "`-` 길이가 1인 1차원 자료형과 0차원 자료형은 다른것임"
   ]
  },
  {
   "cell_type": "code",
   "execution_count": 55,
   "id": "25f8eb74",
   "metadata": {},
   "outputs": [
    {
     "data": {
      "text/plain": [
       "1"
      ]
     },
     "execution_count": 55,
     "metadata": {},
     "output_type": "execute_result"
    }
   ],
   "source": [
    "a='g'\n",
    "len(a)"
   ]
  },
  {
   "cell_type": "code",
   "execution_count": 56,
   "id": "772580aa",
   "metadata": {},
   "outputs": [
    {
     "data": {
      "text/plain": [
       "1"
      ]
     },
     "execution_count": 56,
     "metadata": {},
     "output_type": "execute_result"
    }
   ],
   "source": [
    "a=[1]   \n",
    "len(a)"
   ]
  },
  {
   "cell_type": "code",
   "execution_count": 57,
   "id": "9d380070",
   "metadata": {},
   "outputs": [
    {
     "data": {
      "text/plain": [
       "1"
      ]
     },
     "execution_count": 57,
     "metadata": {},
     "output_type": "execute_result"
    }
   ],
   "source": [
    "a=(1,)\n",
    "len(a)"
   ]
  },
  {
   "cell_type": "code",
   "execution_count": 58,
   "id": "52572144",
   "metadata": {},
   "outputs": [
    {
     "data": {
      "text/plain": [
       "1"
      ]
     },
     "execution_count": 58,
     "metadata": {},
     "output_type": "execute_result"
    }
   ],
   "source": [
    "a=range(1)\n",
    "len(a)"
   ]
  },
  {
   "cell_type": "markdown",
   "id": "6e0db92f",
   "metadata": {},
   "source": [
    "`-` 길이가 0인 1차원 자료형도 존재함"
   ]
  },
  {
   "cell_type": "code",
   "execution_count": 62,
   "id": "9b6c240b",
   "metadata": {},
   "outputs": [
    {
     "data": {
      "text/plain": [
       "0"
      ]
     },
     "execution_count": 62,
     "metadata": {},
     "output_type": "execute_result"
    }
   ],
   "source": [
    "a=''\n",
    "len(a)"
   ]
  },
  {
   "cell_type": "code",
   "execution_count": 59,
   "id": "7b9c83cb",
   "metadata": {},
   "outputs": [
    {
     "data": {
      "text/plain": [
       "0"
      ]
     },
     "execution_count": 59,
     "metadata": {},
     "output_type": "execute_result"
    }
   ],
   "source": [
    "a=[]\n",
    "len(a)"
   ]
  },
  {
   "cell_type": "code",
   "execution_count": 60,
   "id": "87f29359",
   "metadata": {},
   "outputs": [
    {
     "data": {
      "text/plain": [
       "0"
      ]
     },
     "execution_count": 60,
     "metadata": {},
     "output_type": "execute_result"
    }
   ],
   "source": [
    "a=()\n",
    "len(a)"
   ]
  },
  {
   "cell_type": "code",
   "execution_count": 61,
   "id": "c15451d3",
   "metadata": {},
   "outputs": [
    {
     "data": {
      "text/plain": [
       "0"
      ]
     },
     "execution_count": 61,
     "metadata": {},
     "output_type": "execute_result"
    }
   ],
   "source": [
    "a=range(0)\n",
    "len(a)"
   ]
  },
  {
   "cell_type": "markdown",
   "id": "24f5851e",
   "metadata": {},
   "source": [
    "### summary : str, list, tuple"
   ]
  },
  {
   "cell_type": "markdown",
   "id": "65993268",
   "metadata": {},
   "source": [
    "`-` str,list, tuple은 모두 시퀀스형이라는 공통점이 있다. $\\to$ 원소의 위치번호로 인덱싱이 가능"
   ]
  },
  {
   "cell_type": "code",
   "execution_count": 63,
   "id": "c6caef42",
   "metadata": {},
   "outputs": [],
   "source": [
    "lst=[1,2,3,4]"
   ]
  },
  {
   "cell_type": "code",
   "execution_count": 68,
   "id": "ea6fb017",
   "metadata": {},
   "outputs": [
    {
     "data": {
      "text/plain": [
       "1"
      ]
     },
     "execution_count": 68,
     "metadata": {},
     "output_type": "execute_result"
    }
   ],
   "source": [
    "lst[0]  #위치번호=0"
   ]
  },
  {
   "cell_type": "code",
   "execution_count": 69,
   "id": "005e2323",
   "metadata": {},
   "outputs": [
    {
     "data": {
      "text/plain": [
       "4"
      ]
     },
     "execution_count": 69,
     "metadata": {},
     "output_type": "execute_result"
    }
   ],
   "source": [
    "lst[-1]  #위치번호=1"
   ]
  },
  {
   "cell_type": "markdown",
   "id": "090b37a2",
   "metadata": {},
   "source": [
    "`-` str, list, tuple은 차이점도 존재함. 잠깐 정리해보자."
   ]
  },
  {
   "cell_type": "markdown",
   "id": "52d0a70b",
   "metadata": {},
   "source": [
    "*** 시퀀스형의 카테고리***"
   ]
  },
  {
   "cell_type": "markdown",
   "id": "2baa90f9",
   "metadata": {},
   "source": [
    "- 컨테이너형: list, tuple\n",
    "- 균일형: str\n",
    "- 가변형: list\n",
    "- 불변형: tuple, str"
   ]
  },
  {
   "cell_type": "markdown",
   "id": "7a97d295",
   "metadata": {},
   "source": [
    "*****표로 정리하면*****"
   ]
  },
  {
   "cell_type": "markdown",
   "id": "0ef9fa82",
   "metadata": {},
   "source": [
    "||컨테이너형|균일형|\n",
    "|:-:|:-:|:-:|\n",
    "|가변형|list|-|\n",
    "|불변형|tuple|str|"
   ]
  },
  {
   "cell_type": "markdown",
   "id": "50fba5a7",
   "metadata": {},
   "source": [
    "`-` 시퀀스형이 아닌 1차원 자료형도 있을까? 원소의 위치번호로 인덱싱이 불가능한 자료형"
   ]
  },
  {
   "cell_type": "markdown",
   "id": "f5e496ba",
   "metadata": {},
   "source": [
    "`-` 왜 이런게 필요할까?\n",
    "- 벡터에서 원소를 뽑는것은 정보의 모임에서 정보를 검색하는 것과 같다.\n",
    "- 정보를 `순서`대로 나열한 뒤에 그 `순서`를 이용하여 검색하는 방법은 유용하다.\n",
    "- 하지만 경우에 따라서는 `키워드` 를 기억해서 그 키워드를 바탕으로 정보에 접근하는 방법이 유용할 수 있다."
   ]
  },
  {
   "cell_type": "markdown",
   "id": "0deb8ea2",
   "metadata": {},
   "source": [
    "****카카오톡 대화내용 검색****"
   ]
  },
  {
   "cell_type": "markdown",
   "id": "32a078f9",
   "metadata": {},
   "source": [
    "(상황1) 오늘 `아침`에 와이프가 `뭔가`를 카톡으로 부탁함. 그런데 그 `뭔가`가 기억안남."
   ]
  },
  {
   "cell_type": "markdown",
   "id": "ae2ae477",
   "metadata": {},
   "source": [
    "(상황2) `개강전에` 동료교수와 함께 `저녁약속`을 카톡으로 잡았었음. 그런데 그게 언제인지 기억안남."
   ]
  },
  {
   "cell_type": "markdown",
   "id": "2f937c8e",
   "metadata": {},
   "source": [
    "(상황3) `오늘아침` 동료교수와 함께 `점심약속`을 카톡으로 잡았었음. 그런데 그 장소가 기억나지 않음\n",
    "\n"
   ]
  },
  {
   "cell_type": "markdown",
   "id": "63c57260",
   "metadata": {},
   "source": [
    "`-` 순서대로 정리된 자료를 검색할때는 시퀀스형이 유리하다. 그런데 키워드로 검색하고 싶을 경우는 딕셔너리 타입이 유리하다."
   ]
  },
  {
   "cell_type": "markdown",
   "id": "21aa3932",
   "metadata": {},
   "source": [
    "### dict"
   ]
  },
  {
   "cell_type": "markdown",
   "id": "85290f9e",
   "metadata": {},
   "source": [
    "선언"
   ]
  },
  {
   "cell_type": "markdown",
   "id": "21a0a148",
   "metadata": {},
   "source": [
    "`-` 방법1"
   ]
  },
  {
   "cell_type": "code",
   "execution_count": 76,
   "id": "aba92669",
   "metadata": {},
   "outputs": [
    {
     "data": {
      "text/plain": [
       "{'boram': 49, 'iu': 80}"
      ]
     },
     "execution_count": 76,
     "metadata": {},
     "output_type": "execute_result"
    }
   ],
   "source": [
    "score={'boram':49, 'iu':80}\n",
    "score"
   ]
  },
  {
   "cell_type": "code",
   "execution_count": 77,
   "id": "928cddb2",
   "metadata": {},
   "outputs": [
    {
     "data": {
      "text/plain": [
       "dict"
      ]
     },
     "execution_count": 77,
     "metadata": {},
     "output_type": "execute_result"
    }
   ],
   "source": [
    "type(score)"
   ]
  },
  {
   "cell_type": "markdown",
   "id": "1f81b9fc",
   "metadata": {},
   "source": [
    "`-` 방법2"
   ]
  },
  {
   "cell_type": "code",
   "execution_count": 80,
   "id": "18b7118c",
   "metadata": {},
   "outputs": [
    {
     "data": {
      "text/plain": [
       "{'boram': 49, 'iu': 80}"
      ]
     },
     "execution_count": 80,
     "metadata": {},
     "output_type": "execute_result"
    }
   ],
   "source": [
    "score=dict(boram=49, iu=80)\n",
    "score"
   ]
  },
  {
   "cell_type": "code",
   "execution_count": 81,
   "id": "485d18ab",
   "metadata": {},
   "outputs": [
    {
     "data": {
      "text/plain": [
       "dict"
      ]
     },
     "execution_count": 81,
     "metadata": {},
     "output_type": "execute_result"
    }
   ],
   "source": [
    "type(score)"
   ]
  },
  {
   "cell_type": "markdown",
   "id": "18bb9c6d",
   "metadata": {},
   "source": [
    "`-` 방법3"
   ]
  },
  {
   "cell_type": "code",
   "execution_count": 82,
   "id": "83140cab",
   "metadata": {},
   "outputs": [
    {
     "data": {
      "text/plain": [
       "[['boram', 40], ['iu', 80]]"
      ]
     },
     "execution_count": 82,
     "metadata": {},
     "output_type": "execute_result"
    }
   ],
   "source": [
    "_lst= [['boram',40],['iu',80]] \n",
    "_lst"
   ]
  },
  {
   "cell_type": "code",
   "execution_count": 83,
   "id": "aa4f7d1d",
   "metadata": {},
   "outputs": [
    {
     "data": {
      "text/plain": [
       "{'boram': 40, 'iu': 80}"
      ]
     },
     "execution_count": 83,
     "metadata": {},
     "output_type": "execute_result"
    }
   ],
   "source": [
    "dict(_lst)"
   ]
  },
  {
   "cell_type": "markdown",
   "id": "d6e865f5",
   "metadata": {},
   "source": [
    "`-` 방법4"
   ]
  },
  {
   "cell_type": "code",
   "execution_count": 86,
   "id": "d2155e9f",
   "metadata": {},
   "outputs": [
    {
     "data": {
      "text/plain": [
       "(('boram', 49), ('iu', 80))"
      ]
     },
     "execution_count": 86,
     "metadata": {},
     "output_type": "execute_result"
    }
   ],
   "source": [
    "_tpl = ('boram',49),('iu',80)\n",
    "_tpl"
   ]
  },
  {
   "cell_type": "code",
   "execution_count": 87,
   "id": "87da1968",
   "metadata": {},
   "outputs": [
    {
     "data": {
      "text/plain": [
       "{'boram': 49, 'iu': 80}"
      ]
     },
     "execution_count": 87,
     "metadata": {},
     "output_type": "execute_result"
    }
   ],
   "source": [
    "dict(_tpl)"
   ]
  },
  {
   "cell_type": "markdown",
   "id": "f605e19e",
   "metadata": {},
   "source": [
    "**원소추출**"
   ]
  },
  {
   "cell_type": "code",
   "execution_count": 88,
   "id": "66345145",
   "metadata": {},
   "outputs": [
    {
     "data": {
      "text/plain": [
       "{'boram': 49, 'iu': 80}"
      ]
     },
     "execution_count": 88,
     "metadata": {},
     "output_type": "execute_result"
    }
   ],
   "source": [
    "score={'boram':49, 'iu':80}\n",
    "score"
   ]
  },
  {
   "cell_type": "markdown",
   "id": "98ab63a6",
   "metadata": {},
   "source": [
    "boram의 점수를 추출하고 싶다면?"
   ]
  },
  {
   "cell_type": "code",
   "execution_count": 89,
   "id": "29925b7a",
   "metadata": {},
   "outputs": [
    {
     "ename": "KeyError",
     "evalue": "0",
     "output_type": "error",
     "traceback": [
      "\u001b[1;31m---------------------------------------------------------------------------\u001b[0m",
      "\u001b[1;31mKeyError\u001b[0m                                  Traceback (most recent call last)",
      "Input \u001b[1;32mIn [89]\u001b[0m, in \u001b[0;36m<cell line: 1>\u001b[1;34m()\u001b[0m\n\u001b[1;32m----> 1\u001b[0m \u001b[43mscore\u001b[49m\u001b[43m[\u001b[49m\u001b[38;5;241;43m0\u001b[39;49m\u001b[43m]\u001b[49m\n",
      "\u001b[1;31mKeyError\u001b[0m: 0"
     ]
    }
   ],
   "source": [
    "score[0]   # 이렇게 ㄴㄴ "
   ]
  },
  {
   "cell_type": "code",
   "execution_count": 90,
   "id": "dfeff979",
   "metadata": {},
   "outputs": [
    {
     "data": {
      "text/plain": [
       "49"
      ]
     },
     "execution_count": 90,
     "metadata": {},
     "output_type": "execute_result"
    }
   ],
   "source": [
    "score['boram']   # 위치번호가 아닌 key를 넣어야 한다."
   ]
  },
  {
   "cell_type": "markdown",
   "id": "ec1e1392",
   "metadata": {},
   "source": [
    "`-` 리스트로 저장했다면?"
   ]
  },
  {
   "cell_type": "code",
   "execution_count": 93,
   "id": "6d890d46",
   "metadata": {},
   "outputs": [
    {
     "data": {
      "text/plain": [
       "[['boram', 49], ['iu', 80]]"
      ]
     },
     "execution_count": 93,
     "metadata": {},
     "output_type": "execute_result"
    }
   ],
   "source": [
    "score=[['boram',49],['iu',80]]\n",
    "score"
   ]
  },
  {
   "cell_type": "markdown",
   "id": "40674661",
   "metadata": {},
   "source": [
    "(방법1)"
   ]
  },
  {
   "cell_type": "code",
   "execution_count": 95,
   "id": "a37e55b2",
   "metadata": {},
   "outputs": [
    {
     "data": {
      "text/plain": [
       "49"
      ]
     },
     "execution_count": 95,
     "metadata": {},
     "output_type": "execute_result"
    }
   ],
   "source": [
    "score[0][1]  # boram의 점수를 출력하란 의미 , 가독성이 떨어짐,"
   ]
  },
  {
   "cell_type": "markdown",
   "id": "2fca444e",
   "metadata": {},
   "source": [
    "(방법2)"
   ]
  },
  {
   "cell_type": "code",
   "execution_count": 96,
   "id": "509d3c0c",
   "metadata": {},
   "outputs": [
    {
     "data": {
      "text/plain": [
       "['boram', 'iu']"
      ]
     },
     "execution_count": 96,
     "metadata": {},
     "output_type": "execute_result"
    }
   ],
   "source": [
    "_keys = [score[i][0] for i in range(len(score))]   #리스트컴프리헨션\n",
    "_keys"
   ]
  },
  {
   "cell_type": "code",
   "execution_count": 98,
   "id": "ec0a4cbf",
   "metadata": {},
   "outputs": [
    {
     "data": {
      "text/plain": [
       "[49]"
      ]
     },
     "execution_count": 98,
     "metadata": {},
     "output_type": "execute_result"
    }
   ],
   "source": [
    "_values = [score[i][1] for i in range(len(score)) if score[i][0]=='boram']  \n",
    "_values"
   ]
  },
  {
   "cell_type": "markdown",
   "id": "820869ad",
   "metadata": {},
   "source": [
    "**원소추가, 변경, 삭제**"
   ]
  },
  {
   "cell_type": "code",
   "execution_count": 101,
   "id": "ceb667c3",
   "metadata": {},
   "outputs": [
    {
     "data": {
      "text/plain": [
       "{'boram': 49, 'iu': 80}"
      ]
     },
     "execution_count": 101,
     "metadata": {},
     "output_type": "execute_result"
    }
   ],
   "source": [
    "score={'boram':49, 'iu':80}\n",
    "score"
   ]
  },
  {
   "cell_type": "markdown",
   "id": "cfc635aa",
   "metadata": {},
   "source": [
    "`-` 추가"
   ]
  },
  {
   "cell_type": "code",
   "execution_count": 102,
   "id": "b2b9cf52",
   "metadata": {},
   "outputs": [],
   "source": [
    "score['hynn']=99 # 추가"
   ]
  },
  {
   "cell_type": "code",
   "execution_count": 103,
   "id": "4bf3ff9c",
   "metadata": {},
   "outputs": [
    {
     "data": {
      "text/plain": [
       "{'boram': 49, 'iu': 80, 'hynn': 99}"
      ]
     },
     "execution_count": 103,
     "metadata": {},
     "output_type": "execute_result"
    }
   ],
   "source": [
    "score"
   ]
  },
  {
   "cell_type": "code",
   "execution_count": 104,
   "id": "72763b1a",
   "metadata": {},
   "outputs": [
    {
     "data": {
      "text/plain": [
       "49"
      ]
     },
     "execution_count": 104,
     "metadata": {},
     "output_type": "execute_result"
    }
   ],
   "source": [
    "score['boram']"
   ]
  },
  {
   "cell_type": "markdown",
   "id": "ec00754e",
   "metadata": {},
   "source": [
    "`-` 변경"
   ]
  },
  {
   "cell_type": "code",
   "execution_count": 105,
   "id": "b07e572e",
   "metadata": {},
   "outputs": [
    {
     "data": {
      "text/plain": [
       "{'boram': 49, 'iu': 99, 'hynn': 99}"
      ]
     },
     "execution_count": 105,
     "metadata": {},
     "output_type": "execute_result"
    }
   ],
   "source": [
    "score['iu']=99   # 변경 ( 가변형)\n",
    "score"
   ]
  },
  {
   "cell_type": "code",
   "execution_count": 106,
   "id": "140ec51c",
   "metadata": {},
   "outputs": [
    {
     "data": {
      "text/plain": [
       "{'boram': 49, 'iu': 99, 'hynn': 99}"
      ]
     },
     "execution_count": 106,
     "metadata": {},
     "output_type": "execute_result"
    }
   ],
   "source": [
    "score"
   ]
  },
  {
   "cell_type": "markdown",
   "id": "e9893ec5",
   "metadata": {},
   "source": [
    "`-`삭제1"
   ]
  },
  {
   "cell_type": "code",
   "execution_count": 108,
   "id": "329e1dc2",
   "metadata": {},
   "outputs": [
    {
     "data": {
      "text/plain": [
       "{'iu': 80, 'hynn': 99}"
      ]
     },
     "execution_count": 108,
     "metadata": {},
     "output_type": "execute_result"
    }
   ],
   "source": [
    "score={'boram':49, 'iu':80, 'hynn':99}\n",
    "del score['boram']   # 삭제 방법 1\n",
    "score"
   ]
  },
  {
   "cell_type": "markdown",
   "id": "74160ad8",
   "metadata": {},
   "source": [
    "`-`삭제2"
   ]
  },
  {
   "cell_type": "code",
   "execution_count": 109,
   "id": "ca8bcbb6",
   "metadata": {},
   "outputs": [
    {
     "data": {
      "text/plain": [
       "{'iu': 80, 'hynn': 99}"
      ]
     },
     "execution_count": 109,
     "metadata": {},
     "output_type": "execute_result"
    }
   ],
   "source": [
    "score={'boram':49, 'iu':80, 'hynn':99}\n",
    "score.pop('boram')   # 삭제 방법 2\n",
    "score"
   ]
  },
  {
   "cell_type": "markdown",
   "id": "6b3d304d",
   "metadata": {},
   "source": [
    "`-` 참고로 리스트였다면 이러한 삭제작업역시 비효율적이였을 것임"
   ]
  },
  {
   "cell_type": "code",
   "execution_count": 111,
   "id": "497b7ca6",
   "metadata": {},
   "outputs": [
    {
     "data": {
      "text/plain": [
       "[['guebin', 49], ['iu', 80], ['hynn', 99]]"
      ]
     },
     "execution_count": 111,
     "metadata": {},
     "output_type": "execute_result"
    }
   ],
   "source": [
    "score = [['guebin',49],['iu',80],['hynn',99]] \n",
    "score"
   ]
  },
  {
   "cell_type": "code",
   "execution_count": 112,
   "id": "6b985625",
   "metadata": {},
   "outputs": [
    {
     "data": {
      "text/plain": [
       "[['iu', 80], ['hynn', 99]]"
      ]
     },
     "execution_count": 112,
     "metadata": {},
     "output_type": "execute_result"
    }
   ],
   "source": [
    "score = [[key,val] for key,val in score if key != 'guebin'] \n",
    "score"
   ]
  },
  {
   "cell_type": "code",
   "execution_count": null,
   "id": "a7fd37b0",
   "metadata": {},
   "outputs": [],
   "source": []
  },
  {
   "cell_type": "code",
   "execution_count": null,
   "id": "e643b767",
   "metadata": {},
   "outputs": [],
   "source": []
  },
  {
   "cell_type": "markdown",
   "id": "4fec85e0",
   "metadata": {},
   "source": [
    "(숙제) 길이가 4인 dictionary를 생성 \n",
    "- len 함수를 이용하여 길이를 측정\n",
    "- key를 이용하여 각 원소에 접근하여 보기"
   ]
  },
  {
   "cell_type": "code",
   "execution_count": 113,
   "id": "6ae1a657",
   "metadata": {},
   "outputs": [
    {
     "data": {
      "text/plain": [
       "{'sung': 2195, 'park': 2836, 'choi': 4236, 'kim': 4738}"
      ]
     },
     "execution_count": 113,
     "metadata": {},
     "output_type": "execute_result"
    }
   ],
   "source": [
    "_number = {'sung':2195, 'park':2836, 'choi':4236, 'kim':4738}\n",
    "_number"
   ]
  },
  {
   "cell_type": "code",
   "execution_count": 114,
   "id": "71d7a00c",
   "metadata": {},
   "outputs": [
    {
     "data": {
      "text/plain": [
       "4"
      ]
     },
     "execution_count": 114,
     "metadata": {},
     "output_type": "execute_result"
    }
   ],
   "source": [
    "len(_number)"
   ]
  },
  {
   "cell_type": "code",
   "execution_count": 118,
   "id": "1d816812",
   "metadata": {},
   "outputs": [
    {
     "data": {
      "text/plain": [
       "2836"
      ]
     },
     "execution_count": 118,
     "metadata": {},
     "output_type": "execute_result"
    }
   ],
   "source": [
    "_number['park']"
   ]
  },
  {
   "cell_type": "code",
   "execution_count": 120,
   "id": "ffb9f66f",
   "metadata": {},
   "outputs": [
    {
     "data": {
      "text/plain": [
       "4236"
      ]
     },
     "execution_count": 120,
     "metadata": {},
     "output_type": "execute_result"
    }
   ],
   "source": [
    "_number['choi']"
   ]
  },
  {
   "cell_type": "code",
   "execution_count": 121,
   "id": "67403851",
   "metadata": {},
   "outputs": [],
   "source": [
    "_number['jung']=4280"
   ]
  },
  {
   "cell_type": "code",
   "execution_count": 122,
   "id": "c707e124",
   "metadata": {},
   "outputs": [
    {
     "data": {
      "text/plain": [
       "{'sung': 2195, 'park': 2836, 'choi': 4236, 'kim': 4738, 'jung': 4280}"
      ]
     },
     "execution_count": 122,
     "metadata": {},
     "output_type": "execute_result"
    }
   ],
   "source": [
    "_number"
   ]
  },
  {
   "cell_type": "code",
   "execution_count": 123,
   "id": "4b080a68",
   "metadata": {},
   "outputs": [
    {
     "data": {
      "text/plain": [
       "4738"
      ]
     },
     "execution_count": 123,
     "metadata": {},
     "output_type": "execute_result"
    }
   ],
   "source": [
    "_number.pop('kim')"
   ]
  },
  {
   "cell_type": "code",
   "execution_count": 125,
   "id": "ccaa0079",
   "metadata": {},
   "outputs": [
    {
     "data": {
      "text/plain": [
       "{'sung': 2195, 'park': 2836, 'choi': 4236, 'jung': 4280}"
      ]
     },
     "execution_count": 125,
     "metadata": {},
     "output_type": "execute_result"
    }
   ],
   "source": [
    "_number"
   ]
  },
  {
   "cell_type": "code",
   "execution_count": null,
   "id": "87092fb4",
   "metadata": {},
   "outputs": [],
   "source": []
  },
  {
   "cell_type": "code",
   "execution_count": null,
   "id": "bf844cef",
   "metadata": {},
   "outputs": [],
   "source": []
  },
  {
   "cell_type": "code",
   "execution_count": null,
   "id": "9d7f089d",
   "metadata": {},
   "outputs": [],
   "source": []
  },
  {
   "cell_type": "code",
   "execution_count": null,
   "id": "dee1c43a",
   "metadata": {},
   "outputs": [],
   "source": []
  },
  {
   "cell_type": "code",
   "execution_count": null,
   "id": "1ea98df0",
   "metadata": {},
   "outputs": [],
   "source": []
  },
  {
   "cell_type": "code",
   "execution_count": null,
   "id": "159bc608",
   "metadata": {},
   "outputs": [],
   "source": []
  },
  {
   "cell_type": "code",
   "execution_count": null,
   "id": "5a6f8129",
   "metadata": {},
   "outputs": [],
   "source": []
  },
  {
   "cell_type": "code",
   "execution_count": null,
   "id": "a394a38c",
   "metadata": {},
   "outputs": [],
   "source": []
  },
  {
   "cell_type": "code",
   "execution_count": null,
   "id": "07b2d083",
   "metadata": {},
   "outputs": [],
   "source": []
  }
 ],
 "metadata": {
  "kernelspec": {
   "display_name": "Python 3",
   "language": "python",
   "name": "python3"
  },
  "language_info": {
   "codemirror_mode": {
    "name": "ipython",
    "version": 3
   },
   "file_extension": ".py",
   "mimetype": "text/x-python",
   "name": "python",
   "nbconvert_exporter": "python",
   "pygments_lexer": "ipython3",
   "version": "3.7.16"
  },
  "toc": {
   "base_numbering": 1,
   "nav_menu": {},
   "number_sections": true,
   "sideBar": true,
   "skip_h1_title": false,
   "title_cell": "Table of Contents",
   "title_sidebar": "Contents",
   "toc_cell": false,
   "toc_position": {},
   "toc_section_display": true,
   "toc_window_display": false
  }
 },
 "nbformat": 4,
 "nbformat_minor": 5
}
