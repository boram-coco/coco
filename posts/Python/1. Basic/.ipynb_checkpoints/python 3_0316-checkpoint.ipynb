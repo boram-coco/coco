{
 "cells": [
  {
   "cell_type": "raw",
   "id": "c72becb4-88a4-4ebc-9a29-6de7126599f3",
   "metadata": {},
   "source": [
    "---\n",
    "title: \"파이썬 (0316) 3주차 \"\n",
    "author: \"김보람\"\n",
    "date: \"03/16/2022\"\n",
    "categories:\n",
    "  - 튜플\n",
    "---"
   ]
  },
  {
   "cell_type": "markdown",
   "id": "d887f9f3",
   "metadata": {},
   "source": [
    "# 튜플"
   ]
  },
  {
   "cell_type": "markdown",
   "id": "287d93f3",
   "metadata": {},
   "source": [
    "## 리스트 vs 튜플"
   ]
  },
  {
   "cell_type": "markdown",
   "id": "c1aef5da",
   "metadata": {},
   "source": [
    "`-` 컨테이너형타입이라는 점, 그리고 연산 및 인덱싱을 하는 방법은 리스트와 같음\n",
    "\n",
    "- 차이점1: [] 대신에 ()를 사용\n",
    "\n",
    "- 차이점2: 불변형이다. (원소의 값을 바꿀 수 없음)\n",
    "\n",
    "- 차이점3: 하나의 원소를 선언할 때는 (1,)와 같이 해야 한다.\n",
    "\n",
    "- 차이점4: 의미가 명확할때는 튜플의 ()를 생략가능하다.\n"
   ]
  },
  {
   "cell_type": "markdown",
   "id": "36568114",
   "metadata": {},
   "source": [
    "컨테이너형이라는 것이 무슨의미?"
   ]
  },
  {
   "cell_type": "code",
   "execution_count": 1,
   "id": "b0626ca5",
   "metadata": {},
   "outputs": [],
   "source": [
    "a=(4,6,'pencil',3.2+4.6j,[3,4])"
   ]
  },
  {
   "cell_type": "code",
   "execution_count": 3,
   "id": "8f8636a3",
   "metadata": {},
   "outputs": [
    {
     "data": {
      "text/plain": [
       "complex"
      ]
     },
     "execution_count": 3,
     "metadata": {},
     "output_type": "execute_result"
    }
   ],
   "source": [
    "type(a[3])"
   ]
  },
  {
   "cell_type": "code",
   "execution_count": 4,
   "id": "7de5d787",
   "metadata": {},
   "outputs": [
    {
     "data": {
      "text/plain": [
       "str"
      ]
     },
     "execution_count": 4,
     "metadata": {},
     "output_type": "execute_result"
    }
   ],
   "source": [
    "type(a[2])"
   ]
  },
  {
   "cell_type": "markdown",
   "id": "d7d6daf8",
   "metadata": {},
   "source": [
    "`-` 불변형이라는 것은 무슨 의미?"
   ]
  },
  {
   "cell_type": "code",
   "execution_count": 5,
   "id": "55756f5d",
   "metadata": {},
   "outputs": [
    {
     "ename": "TypeError",
     "evalue": "'tuple' object does not support item assignment",
     "output_type": "error",
     "traceback": [
      "\u001b[1;31m---------------------------------------------------------------------------\u001b[0m",
      "\u001b[1;31mTypeError\u001b[0m                                 Traceback (most recent call last)",
      "Input \u001b[1;32mIn [5]\u001b[0m, in \u001b[0;36m<cell line: 1>\u001b[1;34m()\u001b[0m\n\u001b[1;32m----> 1\u001b[0m a[\u001b[38;5;241m2\u001b[39m] \u001b[38;5;241m=\u001b[39m \u001b[38;5;124m'\u001b[39m\u001b[38;5;124mPencil\u001b[39m\u001b[38;5;124m'\u001b[39m\n",
      "\u001b[1;31mTypeError\u001b[0m: 'tuple' object does not support item assignment"
     ]
    }
   ],
   "source": [
    "a[2] = 'Pencil'"
   ]
  },
  {
   "cell_type": "markdown",
   "id": "ae11ae16",
   "metadata": {},
   "source": [
    "참고로 a를 튜플이 아니라 리스트로 선언하면 값이 잘 바뀐다."
   ]
  },
  {
   "cell_type": "markdown",
   "id": "15e2699b",
   "metadata": {},
   "source": [
    "`-` 하나의 원소로 이루어진 튜플을 만들때는 쉼표를 붙여야함"
   ]
  },
  {
   "cell_type": "code",
   "execution_count": 6,
   "id": "2d3ecb5c",
   "metadata": {},
   "outputs": [
    {
     "data": {
      "text/plain": [
       "[1, 2, 3, 4]"
      ]
     },
     "execution_count": 6,
     "metadata": {},
     "output_type": "execute_result"
    }
   ],
   "source": [
    "[1]+[2,3,4]"
   ]
  },
  {
   "cell_type": "code",
   "execution_count": 7,
   "id": "a7c36bae",
   "metadata": {},
   "outputs": [
    {
     "ename": "TypeError",
     "evalue": "unsupported operand type(s) for +: 'int' and 'tuple'",
     "output_type": "error",
     "traceback": [
      "\u001b[1;31m---------------------------------------------------------------------------\u001b[0m",
      "\u001b[1;31mTypeError\u001b[0m                                 Traceback (most recent call last)",
      "Input \u001b[1;32mIn [7]\u001b[0m, in \u001b[0;36m<cell line: 1>\u001b[1;34m()\u001b[0m\n\u001b[1;32m----> 1\u001b[0m \u001b[43m(\u001b[49m\u001b[38;5;241;43m1\u001b[39;49m\u001b[43m)\u001b[49m\u001b[38;5;241;43m+\u001b[39;49m\u001b[43m(\u001b[49m\u001b[38;5;241;43m2\u001b[39;49m\u001b[43m,\u001b[49m\u001b[38;5;241;43m3\u001b[39;49m\u001b[43m,\u001b[49m\u001b[38;5;241;43m4\u001b[39;49m\u001b[43m)\u001b[49m\n",
      "\u001b[1;31mTypeError\u001b[0m: unsupported operand type(s) for +: 'int' and 'tuple'"
     ]
    }
   ],
   "source": [
    "(1)+(2,3,4)   # int형+tuple형 이므로 계산 불가 "
   ]
  },
  {
   "cell_type": "code",
   "execution_count": 8,
   "id": "3cb8e6e1",
   "metadata": {},
   "outputs": [
    {
     "data": {
      "text/plain": [
       "int"
      ]
     },
     "execution_count": 8,
     "metadata": {},
     "output_type": "execute_result"
    }
   ],
   "source": [
    "type(1)"
   ]
  },
  {
   "cell_type": "code",
   "execution_count": 9,
   "id": "bcf9f936",
   "metadata": {},
   "outputs": [
    {
     "data": {
      "text/plain": [
       "(1, 2, 3, 4)"
      ]
     },
     "execution_count": 9,
     "metadata": {},
     "output_type": "execute_result"
    }
   ],
   "source": [
    "(1,)+(2,3,4)"
   ]
  },
  {
   "cell_type": "markdown",
   "id": "f0473e4a",
   "metadata": {},
   "source": [
    "`-` 마지막차이점! 의미가 명확할때 튜플의 괄호는 생략가능하다. (중요)"
   ]
  },
  {
   "cell_type": "code",
   "execution_count": 10,
   "id": "741fc94a",
   "metadata": {},
   "outputs": [
    {
     "data": {
      "text/plain": [
       "(1, 2)"
      ]
     },
     "execution_count": 10,
     "metadata": {},
     "output_type": "execute_result"
    }
   ],
   "source": [
    "a=(1,2)\n",
    "a"
   ]
  },
  {
   "cell_type": "markdown",
   "id": "5606d4f0",
   "metadata": {},
   "source": [
    "의미가 명확할때 생략해야함"
   ]
  },
  {
   "cell_type": "code",
   "execution_count": 12,
   "id": "17cf209f",
   "metadata": {},
   "outputs": [
    {
     "data": {
      "text/plain": [
       "(1, 5, 4, 5)"
      ]
     },
     "execution_count": 12,
     "metadata": {},
     "output_type": "execute_result"
    }
   ],
   "source": [
    "1,2 + 3,4,5"
   ]
  },
  {
   "cell_type": "code",
   "execution_count": 13,
   "id": "53b0d517",
   "metadata": {},
   "outputs": [
    {
     "data": {
      "text/plain": [
       "(1, 2, 3, 4, 5)"
      ]
     },
     "execution_count": 13,
     "metadata": {},
     "output_type": "execute_result"
    }
   ],
   "source": [
    "(1,2)+(3,4,5)"
   ]
  },
  {
   "cell_type": "markdown",
   "id": "7d454cff",
   "metadata": {},
   "source": [
    "## 선언"
   ]
  },
  {
   "cell_type": "markdown",
   "id": "c7fd0027",
   "metadata": {},
   "source": [
    "`-` 소괄호를 이용"
   ]
  },
  {
   "cell_type": "code",
   "execution_count": 14,
   "id": "5b523cbc",
   "metadata": {},
   "outputs": [
    {
     "data": {
      "text/plain": [
       "(1, 2, 3)"
      ]
     },
     "execution_count": 14,
     "metadata": {},
     "output_type": "execute_result"
    }
   ],
   "source": [
    "a=(1,2,3)\n",
    "a"
   ]
  },
  {
   "cell_type": "code",
   "execution_count": 15,
   "id": "23e1f5cf",
   "metadata": {},
   "outputs": [
    {
     "data": {
      "text/plain": [
       "tuple"
      ]
     },
     "execution_count": 15,
     "metadata": {},
     "output_type": "execute_result"
    }
   ],
   "source": [
    "type(a)"
   ]
  },
  {
   "cell_type": "markdown",
   "id": "894cecff",
   "metadata": {},
   "source": [
    "`-` 생략가능하다는 점이 포인트"
   ]
  },
  {
   "cell_type": "code",
   "execution_count": 16,
   "id": "3378c507",
   "metadata": {},
   "outputs": [
    {
     "data": {
      "text/plain": [
       "(1, 2, 3)"
      ]
     },
     "execution_count": 16,
     "metadata": {},
     "output_type": "execute_result"
    }
   ],
   "source": [
    "a=1,2,3\n",
    "a"
   ]
  },
  {
   "cell_type": "code",
   "execution_count": 17,
   "id": "d2e1eca2",
   "metadata": {},
   "outputs": [
    {
     "data": {
      "text/plain": [
       "tuple"
      ]
     },
     "execution_count": 17,
     "metadata": {},
     "output_type": "execute_result"
    }
   ],
   "source": [
    "type(a)"
   ]
  },
  {
   "cell_type": "markdown",
   "id": "f5a2ed3d",
   "metadata": {},
   "source": [
    "`-` 원소가 하나인 튜플을 만들고 싶다면?"
   ]
  },
  {
   "cell_type": "code",
   "execution_count": 18,
   "id": "118144d1",
   "metadata": {},
   "outputs": [
    {
     "data": {
      "text/plain": [
       "(1,)"
      ]
     },
     "execution_count": 18,
     "metadata": {},
     "output_type": "execute_result"
    }
   ],
   "source": [
    "a=(1,)\n",
    "a"
   ]
  },
  {
   "cell_type": "markdown",
   "id": "3ace2614",
   "metadata": {},
   "source": [
    "## 연산"
   ]
  },
  {
   "cell_type": "markdown",
   "id": "455d7721",
   "metadata": {},
   "source": [
    "`-` 리스트와 동일"
   ]
  },
  {
   "cell_type": "code",
   "execution_count": 19,
   "id": "b1f57c13",
   "metadata": {},
   "outputs": [
    {
     "data": {
      "text/plain": [
       "(1, 2, 3, 4, 5)"
      ]
     },
     "execution_count": 19,
     "metadata": {},
     "output_type": "execute_result"
    }
   ],
   "source": [
    "(1,2)+(3,4,5)"
   ]
  },
  {
   "cell_type": "code",
   "execution_count": 20,
   "id": "17fbb112",
   "metadata": {},
   "outputs": [
    {
     "data": {
      "text/plain": [
       "(1, 2, 1, 2)"
      ]
     },
     "execution_count": 20,
     "metadata": {},
     "output_type": "execute_result"
    }
   ],
   "source": [
    "(1,2)*2"
   ]
  },
  {
   "cell_type": "markdown",
   "id": "a78d8019",
   "metadata": {},
   "source": [
    "## 인덱싱"
   ]
  },
  {
   "cell_type": "markdown",
   "id": "f81c75d1",
   "metadata": {},
   "source": [
    "`-` 리스트와 동일"
   ]
  },
  {
   "cell_type": "code",
   "execution_count": 21,
   "id": "93261374",
   "metadata": {},
   "outputs": [
    {
     "data": {
      "text/plain": [
       "(1, 2, 3, -4, -5)"
      ]
     },
     "execution_count": 21,
     "metadata": {},
     "output_type": "execute_result"
    }
   ],
   "source": [
    "a=(1,2,3,-4,-5)\n",
    "a"
   ]
  },
  {
   "cell_type": "code",
   "execution_count": 22,
   "id": "2d73cd2f",
   "metadata": {},
   "outputs": [
    {
     "data": {
      "text/plain": [
       "-5"
      ]
     },
     "execution_count": 22,
     "metadata": {},
     "output_type": "execute_result"
    }
   ],
   "source": [
    "a[-1]"
   ]
  },
  {
   "cell_type": "code",
   "execution_count": 23,
   "id": "2ad9ba68",
   "metadata": {},
   "outputs": [
    {
     "data": {
      "text/plain": [
       "(3, -4, -5)"
      ]
     },
     "execution_count": 23,
     "metadata": {},
     "output_type": "execute_result"
    }
   ],
   "source": [
    "a[-3:]"
   ]
  },
  {
   "cell_type": "markdown",
   "id": "f8d6ecf2",
   "metadata": {},
   "source": [
    "## 튜플고급"
   ]
  },
  {
   "cell_type": "markdown",
   "id": "c549dfd6",
   "metadata": {},
   "source": [
    "### 튜플은 왜 불변함으로 만들었을까?\n",
    "- 책의설명: 실수로 값이 변경되는 것을 방지할 수 있다.\n",
    "- shaaly copy / deep copy 를 막을 수 있는 무기"
   ]
  },
  {
   "cell_type": "markdown",
   "id": "62d49a20",
   "metadata": {},
   "source": [
    "### 튜플을 슬기롭게 사용하는 방법 (★★★★★)"
   ]
  },
  {
   "cell_type": "markdown",
   "id": "ee536dbf",
   "metadata": {},
   "source": [
    "`-` 예제: 여러변수를 동시에 출력하고 싶을 경우 (다중출력?)"
   ]
  },
  {
   "cell_type": "markdown",
   "id": "9d02b678",
   "metadata": {},
   "source": [
    "변수를 아래와 같이 선언하였다고 하자."
   ]
  },
  {
   "cell_type": "code",
   "execution_count": 24,
   "id": "dd5bafbb",
   "metadata": {},
   "outputs": [],
   "source": [
    "a=1\n",
    "b=2\n",
    "c=3"
   ]
  },
  {
   "cell_type": "markdown",
   "id": "9c36444a",
   "metadata": {},
   "source": [
    "선언된 값을 확인하려면?"
   ]
  },
  {
   "cell_type": "code",
   "execution_count": 25,
   "id": "a09889aa",
   "metadata": {},
   "outputs": [
    {
     "data": {
      "text/plain": [
       "1"
      ]
     },
     "execution_count": 25,
     "metadata": {},
     "output_type": "execute_result"
    }
   ],
   "source": [
    "a"
   ]
  },
  {
   "cell_type": "code",
   "execution_count": 26,
   "id": "124bd1fd",
   "metadata": {},
   "outputs": [
    {
     "data": {
      "text/plain": [
       "2"
      ]
     },
     "execution_count": 26,
     "metadata": {},
     "output_type": "execute_result"
    }
   ],
   "source": [
    "b"
   ]
  },
  {
   "cell_type": "code",
   "execution_count": 27,
   "id": "9b9b3a79",
   "metadata": {},
   "outputs": [
    {
     "data": {
      "text/plain": [
       "3"
      ]
     },
     "execution_count": 27,
     "metadata": {},
     "output_type": "execute_result"
    }
   ],
   "source": [
    "c"
   ]
  },
  {
   "cell_type": "markdown",
   "id": "155ed868",
   "metadata": {},
   "source": [
    "튜플을 이용하면?\n",
    "\n"
   ]
  },
  {
   "cell_type": "code",
   "execution_count": 28,
   "id": "e21573e3",
   "metadata": {},
   "outputs": [
    {
     "data": {
      "text/plain": [
       "(1, 2, 3)"
      ]
     },
     "execution_count": 28,
     "metadata": {},
     "output_type": "execute_result"
    }
   ],
   "source": [
    "a,b,c #괄호하나 생략하는 것이 편함"
   ]
  },
  {
   "cell_type": "markdown",
   "id": "6cd0de79",
   "metadata": {},
   "source": [
    "`-` 예제: 다중할당1 (여러개의 변수를 동시에 선언하고 싶을 경우)"
   ]
  },
  {
   "cell_type": "code",
   "execution_count": 29,
   "id": "580bad5c",
   "metadata": {},
   "outputs": [],
   "source": [
    "name, age, sex, height, weight = 'Tom', 20, 'M', 180, 70"
   ]
  },
  {
   "cell_type": "code",
   "execution_count": 31,
   "id": "784b24a1",
   "metadata": {},
   "outputs": [
    {
     "data": {
      "text/plain": [
       "('Tom', 20, 'M', 180, 70)"
      ]
     },
     "execution_count": 31,
     "metadata": {},
     "output_type": "execute_result"
    }
   ],
   "source": [
    "name, age, sex, height, weight"
   ]
  },
  {
   "cell_type": "code",
   "execution_count": 32,
   "id": "cf3346de",
   "metadata": {},
   "outputs": [
    {
     "data": {
      "text/plain": [
       "180"
      ]
     },
     "execution_count": 32,
     "metadata": {},
     "output_type": "execute_result"
    }
   ],
   "source": [
    "height"
   ]
  },
  {
   "cell_type": "markdown",
   "id": "b6e54f80",
   "metadata": {},
   "source": [
    "`-` 예제: 다중할당2, 위도와 경도"
   ]
  },
  {
   "cell_type": "code",
   "execution_count": 34,
   "id": "7e700b36",
   "metadata": {},
   "outputs": [
    {
     "data": {
      "text/plain": [
       "(37, 127)"
      ]
     },
     "execution_count": 34,
     "metadata": {},
     "output_type": "execute_result"
    }
   ],
   "source": [
    "coor = (37,127) #서울\n",
    "coor"
   ]
  },
  {
   "cell_type": "code",
   "execution_count": 35,
   "id": "1a045e7a",
   "metadata": {},
   "outputs": [],
   "source": [
    "lat, long = coor   # (왼쪽) 가로가 생략된 튜플 "
   ]
  },
  {
   "cell_type": "code",
   "execution_count": 36,
   "id": "ee27b300",
   "metadata": {},
   "outputs": [
    {
     "data": {
      "text/plain": [
       "37"
      ]
     },
     "execution_count": 36,
     "metadata": {},
     "output_type": "execute_result"
    }
   ],
   "source": [
    "lat"
   ]
  },
  {
   "cell_type": "code",
   "execution_count": 37,
   "id": "ba3495c9",
   "metadata": {},
   "outputs": [
    {
     "data": {
      "text/plain": [
       "127"
      ]
     },
     "execution_count": 37,
     "metadata": {},
     "output_type": "execute_result"
    }
   ],
   "source": [
    "long"
   ]
  },
  {
   "cell_type": "markdown",
   "id": "43f5a4c5",
   "metadata": {},
   "source": [
    "`-` 잠깐만: 다중할당은 꼭 튜플에서만 가능한가?\n",
    "\n"
   ]
  },
  {
   "cell_type": "code",
   "execution_count": 44,
   "id": "aaec2d0a",
   "metadata": {},
   "outputs": [
    {
     "data": {
      "text/plain": [
       "(1, 2, 3)"
      ]
     },
     "execution_count": 44,
     "metadata": {},
     "output_type": "execute_result"
    }
   ],
   "source": [
    "[x,y,z] = [1,2,3]\n",
    "x,y,z # 다중출력"
   ]
  },
  {
   "cell_type": "code",
   "execution_count": 45,
   "id": "ade8dfc4",
   "metadata": {},
   "outputs": [
    {
     "data": {
      "text/plain": [
       "('h', 'i')"
      ]
     },
     "execution_count": 45,
     "metadata": {},
     "output_type": "execute_result"
    }
   ],
   "source": [
    "[x,y] = 'hi'\n",
    "x,y"
   ]
  },
  {
   "cell_type": "markdown",
   "id": "70cd9c83",
   "metadata": {},
   "source": [
    "튜플과 같이 사용하면 가독성이 극대화 (그래서 다중할당은 거의 튜플과 세트로 사용함)"
   ]
  },
  {
   "cell_type": "code",
   "execution_count": 46,
   "id": "e3dee7c7",
   "metadata": {},
   "outputs": [
    {
     "data": {
      "text/plain": [
       "(1, 2, 3)"
      ]
     },
     "execution_count": 46,
     "metadata": {},
     "output_type": "execute_result"
    }
   ],
   "source": [
    "x,y,z=1,2,3\n",
    "x,y,z"
   ]
  },
  {
   "cell_type": "markdown",
   "id": "dfadc64a",
   "metadata": {},
   "source": [
    "`-` 예제: 임시변수 사용없이 두 변수의 값을 교환"
   ]
  },
  {
   "cell_type": "code",
   "execution_count": 38,
   "id": "c41307eb",
   "metadata": {},
   "outputs": [],
   "source": [
    "a=10\n",
    "b=20"
   ]
  },
  {
   "cell_type": "code",
   "execution_count": 39,
   "id": "c67f8a18",
   "metadata": {},
   "outputs": [],
   "source": [
    "a,b= b,a"
   ]
  },
  {
   "cell_type": "code",
   "execution_count": 40,
   "id": "86cf3aa1",
   "metadata": {},
   "outputs": [
    {
     "data": {
      "text/plain": [
       "20"
      ]
     },
     "execution_count": 40,
     "metadata": {},
     "output_type": "execute_result"
    }
   ],
   "source": [
    "a"
   ]
  },
  {
   "cell_type": "code",
   "execution_count": 42,
   "id": "e2511ea2",
   "metadata": {},
   "outputs": [
    {
     "data": {
      "text/plain": [
       "10"
      ]
     },
     "execution_count": 42,
     "metadata": {},
     "output_type": "execute_result"
    }
   ],
   "source": [
    "b"
   ]
  },
  {
   "cell_type": "markdown",
   "id": "964ef3cc",
   "metadata": {},
   "source": [
    "`-` 예제: for문과 튜플"
   ]
  },
  {
   "cell_type": "code",
   "execution_count": 49,
   "id": "8be8945e",
   "metadata": {},
   "outputs": [
    {
     "data": {
      "text/plain": [
       "[['boram', 202212345, 'F'], ['iu', 202212365, 'F'], ['hodong', 202215323, 'M']]"
      ]
     },
     "execution_count": 49,
     "metadata": {},
     "output_type": "execute_result"
    }
   ],
   "source": [
    "lst = [['boram', 202212345, 'F'],\n",
    "      ['iu',202212365,'F'],\n",
    "      ['hodong',202215323,'M']]\n",
    "lst"
   ]
  },
  {
   "cell_type": "code",
   "execution_count": 50,
   "id": "01531799",
   "metadata": {},
   "outputs": [
    {
     "name": "stdout",
     "output_type": "stream",
     "text": [
      "['boram', 202212345, 'F']\n",
      "['iu', 202212365, 'F']\n",
      "['hodong', 202215323, 'M']\n"
     ]
    }
   ],
   "source": [
    "for i in lst:\n",
    "    print(i)"
   ]
  },
  {
   "cell_type": "code",
   "execution_count": 51,
   "id": "050bb0fe",
   "metadata": {},
   "outputs": [
    {
     "name": "stdout",
     "output_type": "stream",
     "text": [
      "boram\n",
      "iu\n",
      "hodong\n"
     ]
    }
   ],
   "source": [
    "for name, studentid, sex in lst:\n",
    "    print(name)"
   ]
  },
  {
   "cell_type": "code",
   "execution_count": 52,
   "id": "f668a276",
   "metadata": {},
   "outputs": [
    {
     "name": "stdout",
     "output_type": "stream",
     "text": [
      "boram F\n",
      "iu F\n",
      "hodong M\n"
     ]
    }
   ],
   "source": [
    "for name, studentid, sex in lst:\n",
    "    print(name, sex)"
   ]
  },
  {
   "cell_type": "markdown",
   "id": "c2c6ece9",
   "metadata": {},
   "source": [
    "`-` 예제: for문과 튜플, dummy variable `_`"
   ]
  },
  {
   "cell_type": "code",
   "execution_count": 53,
   "id": "ea85fc87",
   "metadata": {},
   "outputs": [
    {
     "name": "stdout",
     "output_type": "stream",
     "text": [
      "boram\n",
      "iu\n",
      "hodong\n"
     ]
    }
   ],
   "source": [
    "for name, studentid, sex in lst:\n",
    "    print(name)"
   ]
  },
  {
   "cell_type": "code",
   "execution_count": 54,
   "id": "c3b44ccc",
   "metadata": {},
   "outputs": [
    {
     "name": "stdout",
     "output_type": "stream",
     "text": [
      "boram\n",
      "iu\n",
      "hodong\n"
     ]
    }
   ],
   "source": [
    "for name, _, _ in lst:\n",
    "    print(name)   #name만 관심있으므로 그 외는 언더바를 통해 작성하는 편리함"
   ]
  },
  {
   "cell_type": "code",
   "execution_count": 55,
   "id": "aa63ee2d",
   "metadata": {},
   "outputs": [
    {
     "ename": "ValueError",
     "evalue": "too many values to unpack (expected 2)",
     "output_type": "error",
     "traceback": [
      "\u001b[1;31m---------------------------------------------------------------------------\u001b[0m",
      "\u001b[1;31mValueError\u001b[0m                                Traceback (most recent call last)",
      "Input \u001b[1;32mIn [55]\u001b[0m, in \u001b[0;36m<cell line: 1>\u001b[1;34m()\u001b[0m\n\u001b[1;32m----> 1\u001b[0m \u001b[38;5;28;01mfor\u001b[39;00m name, _ \u001b[38;5;129;01min\u001b[39;00m lst:\n\u001b[0;32m      2\u001b[0m     \u001b[38;5;28mprint\u001b[39m(name)\n",
      "\u001b[1;31mValueError\u001b[0m: too many values to unpack (expected 2)"
     ]
    }
   ],
   "source": [
    "for name, _ in lst:\n",
    "    print(name)"
   ]
  },
  {
   "cell_type": "code",
   "execution_count": 56,
   "id": "c8598d0b",
   "metadata": {},
   "outputs": [
    {
     "name": "stdout",
     "output_type": "stream",
     "text": [
      "boram\n",
      "iu\n",
      "hodong\n"
     ]
    }
   ],
   "source": [
    "for name, *args in lst:    #  *args 를 통해 위 오류 해결\n",
    "    print(name)"
   ]
  },
  {
   "cell_type": "markdown",
   "id": "e9d453b1",
   "metadata": {},
   "source": [
    "`-` 예제: 튜플과 언패킹연산자 `*`"
   ]
  },
  {
   "cell_type": "code",
   "execution_count": 60,
   "id": "f922e4df",
   "metadata": {},
   "outputs": [
    {
     "data": {
      "text/plain": [
       "(1, 2, [3, 4, 5, 6, 7, 8, 9, 10])"
      ]
     },
     "execution_count": 60,
     "metadata": {},
     "output_type": "execute_result"
    }
   ],
   "source": [
    "head, body, *tail = range(1,11)\n",
    "head, body, tail"
   ]
  },
  {
   "cell_type": "code",
   "execution_count": 61,
   "id": "d09e2e9b",
   "metadata": {},
   "outputs": [
    {
     "data": {
      "text/plain": [
       "(1, 2, [3, 4, 5, 6, 7], 8, 9, 10)"
      ]
     },
     "execution_count": 61,
     "metadata": {},
     "output_type": "execute_result"
    }
   ],
   "source": [
    "head1, head2, *body, tail1, tail2, tail3 = range(1,11)\n",
    "head1, head2, body, tail1, tail2, tail3"
   ]
  },
  {
   "cell_type": "code",
   "execution_count": 62,
   "id": "93d60dfa",
   "metadata": {},
   "outputs": [
    {
     "ename": "SyntaxError",
     "evalue": "multiple starred expressions in assignment (2478039376.py, line 1)",
     "output_type": "error",
     "traceback": [
      "\u001b[1;36m  Input \u001b[1;32mIn [62]\u001b[1;36m\u001b[0m\n\u001b[1;33m    head1, *body, tail1, *tail2, *tail3 = range(1,11) #명확하지 않아서 오류남\u001b[0m\n\u001b[1;37m    ^\u001b[0m\n\u001b[1;31mSyntaxError\u001b[0m\u001b[1;31m:\u001b[0m multiple starred expressions in assignment\n"
     ]
    }
   ],
   "source": [
    "head1, *body, tail1, *tail2, *tail3 = range(1,11) #명확하지 않아서 오류남"
   ]
  },
  {
   "cell_type": "code",
   "execution_count": 63,
   "id": "a4add397",
   "metadata": {},
   "outputs": [
    {
     "data": {
      "text/plain": [
       "([1, 2, 3, 4, 5, 6], 7, 8)"
      ]
     },
     "execution_count": 63,
     "metadata": {},
     "output_type": "execute_result"
    }
   ],
   "source": [
    "*head, body, tail1, tail2, tail3 = range(1,11)\n",
    "head, body, tail1"
   ]
  },
  {
   "cell_type": "markdown",
   "id": "d267cb49",
   "metadata": {},
   "source": [
    "(관찰)"
   ]
  },
  {
   "cell_type": "markdown",
   "id": "f0d8894d",
   "metadata": {},
   "source": [
    "```\n",
    "head1, head2, body, tail1, tail2, tail3 = (1, 2, [3, 4, 5, 6, 7], 8, 9, 10)\n",
    "head1, head3, *body, tail1, tail2, tail3 = (1,2, 3,4,5,6,7, 8, 9, 10) \n",
    "```"
   ]
  },
  {
   "cell_type": "markdown",
   "id": "efad0362",
   "metadata": {},
   "source": [
    "`*` 를 붙이면 1차원 자료구조가 풀린다!"
   ]
  },
  {
   "cell_type": "code",
   "execution_count": 66,
   "id": "5018350b",
   "metadata": {},
   "outputs": [
    {
     "ename": "SyntaxError",
     "evalue": "can't use starred expression here (386627056.py, line 1)",
     "output_type": "error",
     "traceback": [
      "\u001b[1;36m  Input \u001b[1;32mIn [66]\u001b[1;36m\u001b[0m\n\u001b[1;33m    *[1,2,3]\u001b[0m\n\u001b[1;37m    ^\u001b[0m\n\u001b[1;31mSyntaxError\u001b[0m\u001b[1;31m:\u001b[0m can't use starred expression here\n"
     ]
    }
   ],
   "source": [
    "*[1,2,3]"
   ]
  },
  {
   "cell_type": "code",
   "execution_count": 67,
   "id": "f85ef87f",
   "metadata": {},
   "outputs": [
    {
     "name": "stdout",
     "output_type": "stream",
     "text": [
      "[1, 2, 3]\n"
     ]
    }
   ],
   "source": [
    "print([1,2,3])"
   ]
  },
  {
   "cell_type": "code",
   "execution_count": 69,
   "id": "52a26b0f",
   "metadata": {},
   "outputs": [
    {
     "name": "stdout",
     "output_type": "stream",
     "text": [
      "1 2 3\n"
     ]
    }
   ],
   "source": [
    "print(*[1,2,3])   # 풀린다!!!"
   ]
  },
  {
   "cell_type": "markdown",
   "id": "9742b68d",
   "metadata": {},
   "source": [
    "`-` 예제: 함수의 입력으로 `*args` 를 넣을때"
   ]
  },
  {
   "cell_type": "markdown",
   "id": "c1e52105",
   "metadata": {},
   "source": [
    "[예비학습] 함수 벼락치기"
   ]
  },
  {
   "cell_type": "code",
   "execution_count": 70,
   "id": "26e0a080",
   "metadata": {},
   "outputs": [],
   "source": [
    "def myadd(a,b):\n",
    "    return a+b"
   ]
  },
  {
   "cell_type": "code",
   "execution_count": 72,
   "id": "a21b2547",
   "metadata": {},
   "outputs": [
    {
     "data": {
      "text/plain": [
       "7"
      ]
     },
     "execution_count": 72,
     "metadata": {},
     "output_type": "execute_result"
    }
   ],
   "source": [
    "myadd(3,4)"
   ]
  },
  {
   "cell_type": "code",
   "execution_count": 73,
   "id": "9855df17",
   "metadata": {},
   "outputs": [
    {
     "data": {
      "text/plain": [
       "0"
      ]
     },
     "execution_count": 73,
     "metadata": {},
     "output_type": "execute_result"
    }
   ],
   "source": [
    "myadd(3,-3)"
   ]
  },
  {
   "cell_type": "markdown",
   "id": "433b3374",
   "metadata": {},
   "source": [
    "예제: 두 점 사이의 거리를 구하는 함수를 만들어 보자."
   ]
  },
  {
   "cell_type": "markdown",
   "id": "87c4bc1d",
   "metadata": {},
   "source": [
    "점 $p=(p_x,p_y)$ 와 $q=(q_x,q_y)$의 거리는 $\\sqrt{(p_x-q_x)^2, (p_y-q_y)^2}$이다. 이것을 계산하는 프로그램을 만들자"
   ]
  },
  {
   "cell_type": "code",
   "execution_count": 75,
   "id": "1b1cd8d9",
   "metadata": {},
   "outputs": [],
   "source": [
    "import numpy as np\n",
    "def dist(px,py,qx,qy):\n",
    "    return np.sqrt((px-qx)**2 + (py-qy)**2)"
   ]
  },
  {
   "cell_type": "code",
   "execution_count": 76,
   "id": "d21d6b47",
   "metadata": {},
   "outputs": [
    {
     "data": {
      "text/plain": [
       "5.0"
      ]
     },
     "execution_count": 76,
     "metadata": {},
     "output_type": "execute_result"
    }
   ],
   "source": [
    "\n",
    "dist(0,3,4,0) # 헷갈려"
   ]
  },
  {
   "cell_type": "code",
   "execution_count": 77,
   "id": "c09698a6",
   "metadata": {},
   "outputs": [
    {
     "ename": "TypeError",
     "evalue": "dist() missing 2 required positional arguments: 'qx' and 'qy'",
     "output_type": "error",
     "traceback": [
      "\u001b[1;31m---------------------------------------------------------------------------\u001b[0m",
      "\u001b[1;31mTypeError\u001b[0m                                 Traceback (most recent call last)",
      "Input \u001b[1;32mIn [77]\u001b[0m, in \u001b[0;36m<cell line: 3>\u001b[1;34m()\u001b[0m\n\u001b[0;32m      1\u001b[0m p\u001b[38;5;241m=\u001b[39m(\u001b[38;5;241m0\u001b[39m,\u001b[38;5;241m3\u001b[39m)\n\u001b[0;32m      2\u001b[0m q\u001b[38;5;241m=\u001b[39m(\u001b[38;5;241m4\u001b[39m,\u001b[38;5;241m0\u001b[39m)\n\u001b[1;32m----> 3\u001b[0m \u001b[43mdist\u001b[49m\u001b[43m(\u001b[49m\u001b[43mp\u001b[49m\u001b[43m,\u001b[49m\u001b[43mq\u001b[49m\u001b[43m)\u001b[49m\n",
      "\u001b[1;31mTypeError\u001b[0m: dist() missing 2 required positional arguments: 'qx' and 'qy'"
     ]
    }
   ],
   "source": [
    "p=(0,3)\n",
    "q=(4,0)\n",
    "dist(p,q)"
   ]
  },
  {
   "cell_type": "markdown",
   "id": "8cfb76f3",
   "metadata": {},
   "source": [
    "(방법1)"
   ]
  },
  {
   "cell_type": "code",
   "execution_count": 79,
   "id": "ee47cc7e",
   "metadata": {},
   "outputs": [
    {
     "data": {
      "text/plain": [
       "5.0"
      ]
     },
     "execution_count": 79,
     "metadata": {},
     "output_type": "execute_result"
    }
   ],
   "source": [
    "px, py = p #또는(0,3)\n",
    "qx, qy = (4,0)\n",
    "dist(px,py,qx,qy)"
   ]
  },
  {
   "cell_type": "markdown",
   "id": "9afe655d",
   "metadata": {},
   "source": [
    "(방법2)"
   ]
  },
  {
   "cell_type": "code",
   "execution_count": 84,
   "id": "aa40df6c",
   "metadata": {},
   "outputs": [],
   "source": [
    "def dist2(p, q):\n",
    "    px, py = p\n",
    "    qx, qy = q\n",
    "    return np.sqrt((px-qx)**2 + (py-qy)**2)\n",
    "\n",
    "\n",
    "#def dist2(p, q):\n",
    "#    px=p[0]\n",
    "#    py=p[1]\n",
    "#    qx=q[0]\n",
    "#    qy=q[1]\n",
    "#    return np.sqrt((px-qx)**2 + (py-qy)**2)"
   ]
  },
  {
   "cell_type": "code",
   "execution_count": 85,
   "id": "494251ef",
   "metadata": {},
   "outputs": [
    {
     "data": {
      "text/plain": [
       "5.0"
      ]
     },
     "execution_count": 85,
     "metadata": {},
     "output_type": "execute_result"
    }
   ],
   "source": [
    "p=(0,3)\n",
    "q=(4,0)\n",
    "dist2(p,q)"
   ]
  },
  {
   "cell_type": "markdown",
   "id": "48b43cf9",
   "metadata": {},
   "source": [
    "(방법3)"
   ]
  },
  {
   "cell_type": "code",
   "execution_count": 86,
   "id": "994c4a14",
   "metadata": {},
   "outputs": [
    {
     "data": {
      "text/plain": [
       "5.0"
      ]
     },
     "execution_count": 86,
     "metadata": {},
     "output_type": "execute_result"
    }
   ],
   "source": [
    "dist(*p, *q)    # 입력을 *(px,py), *(qx, qy) 형태로 넣기도 하고"
   ]
  },
  {
   "cell_type": "code",
   "execution_count": 87,
   "id": "98ce9c5b",
   "metadata": {},
   "outputs": [
    {
     "data": {
      "text/plain": [
       "5.0"
      ]
     },
     "execution_count": 87,
     "metadata": {},
     "output_type": "execute_result"
    }
   ],
   "source": [
    "dist(px, py, qx, qy)  # 입력을 px,py,qx,qy 형태로 넣기도 하고"
   ]
  },
  {
   "cell_type": "markdown",
   "id": "639d994f",
   "metadata": {},
   "source": [
    "(숙제) 원소로 자기학번을 포함하는 튜플을 만들기 (길이가 1인 튜플)"
   ]
  },
  {
   "cell_type": "code",
   "execution_count": 89,
   "id": "7e6a5ba7",
   "metadata": {},
   "outputs": [
    {
     "data": {
      "text/plain": [
       "tuple"
      ]
     },
     "execution_count": 89,
     "metadata": {},
     "output_type": "execute_result"
    }
   ],
   "source": [
    "type((202250926,))"
   ]
  },
  {
   "cell_type": "code",
   "execution_count": 90,
   "id": "75ee0210",
   "metadata": {},
   "outputs": [
    {
     "data": {
      "text/plain": [
       "1"
      ]
     },
     "execution_count": 90,
     "metadata": {},
     "output_type": "execute_result"
    }
   ],
   "source": [
    "len((202250926,))"
   ]
  },
  {
   "cell_type": "code",
   "execution_count": null,
   "id": "5fb18c4d",
   "metadata": {},
   "outputs": [],
   "source": []
  },
  {
   "cell_type": "code",
   "execution_count": null,
   "id": "e25cc827",
   "metadata": {},
   "outputs": [],
   "source": []
  },
  {
   "cell_type": "code",
   "execution_count": null,
   "id": "a8d55d88",
   "metadata": {},
   "outputs": [],
   "source": []
  },
  {
   "cell_type": "code",
   "execution_count": null,
   "id": "52055d63",
   "metadata": {},
   "outputs": [],
   "source": []
  },
  {
   "cell_type": "code",
   "execution_count": null,
   "id": "f3201816",
   "metadata": {},
   "outputs": [],
   "source": []
  },
  {
   "cell_type": "code",
   "execution_count": null,
   "id": "89e6d34e",
   "metadata": {},
   "outputs": [],
   "source": []
  },
  {
   "cell_type": "code",
   "execution_count": null,
   "id": "e9e62b93",
   "metadata": {},
   "outputs": [],
   "source": []
  },
  {
   "cell_type": "code",
   "execution_count": null,
   "id": "377b92a4",
   "metadata": {},
   "outputs": [],
   "source": []
  },
  {
   "cell_type": "code",
   "execution_count": null,
   "id": "46fb39c8",
   "metadata": {},
   "outputs": [],
   "source": []
  },
  {
   "cell_type": "code",
   "execution_count": null,
   "id": "bdf3992a",
   "metadata": {},
   "outputs": [],
   "source": []
  },
  {
   "cell_type": "code",
   "execution_count": null,
   "id": "355e9142",
   "metadata": {},
   "outputs": [],
   "source": []
  },
  {
   "cell_type": "code",
   "execution_count": null,
   "id": "60211590",
   "metadata": {},
   "outputs": [],
   "source": []
  },
  {
   "cell_type": "code",
   "execution_count": null,
   "id": "d99e0af5",
   "metadata": {},
   "outputs": [],
   "source": []
  },
  {
   "cell_type": "code",
   "execution_count": null,
   "id": "23399937",
   "metadata": {},
   "outputs": [],
   "source": []
  },
  {
   "cell_type": "code",
   "execution_count": null,
   "id": "80f196a1",
   "metadata": {},
   "outputs": [],
   "source": []
  },
  {
   "cell_type": "code",
   "execution_count": null,
   "id": "57468476",
   "metadata": {},
   "outputs": [],
   "source": []
  },
  {
   "cell_type": "code",
   "execution_count": null,
   "id": "5444fc67",
   "metadata": {},
   "outputs": [],
   "source": []
  },
  {
   "cell_type": "code",
   "execution_count": null,
   "id": "f256727c",
   "metadata": {},
   "outputs": [],
   "source": []
  },
  {
   "cell_type": "code",
   "execution_count": null,
   "id": "57e75d6f",
   "metadata": {},
   "outputs": [],
   "source": []
  },
  {
   "cell_type": "code",
   "execution_count": null,
   "id": "b14c97f5",
   "metadata": {},
   "outputs": [],
   "source": []
  },
  {
   "cell_type": "code",
   "execution_count": null,
   "id": "cbb4a550",
   "metadata": {},
   "outputs": [],
   "source": []
  },
  {
   "cell_type": "code",
   "execution_count": null,
   "id": "5cf15b95",
   "metadata": {},
   "outputs": [],
   "source": []
  },
  {
   "cell_type": "code",
   "execution_count": null,
   "id": "945a900a",
   "metadata": {},
   "outputs": [],
   "source": []
  },
  {
   "cell_type": "code",
   "execution_count": null,
   "id": "7bbe39d4",
   "metadata": {},
   "outputs": [],
   "source": []
  },
  {
   "cell_type": "code",
   "execution_count": null,
   "id": "a91e5358",
   "metadata": {},
   "outputs": [],
   "source": []
  },
  {
   "cell_type": "code",
   "execution_count": null,
   "id": "6542c488",
   "metadata": {},
   "outputs": [],
   "source": []
  },
  {
   "cell_type": "code",
   "execution_count": null,
   "id": "4ed22e68",
   "metadata": {},
   "outputs": [],
   "source": []
  },
  {
   "cell_type": "code",
   "execution_count": null,
   "id": "3ac80cf9",
   "metadata": {},
   "outputs": [],
   "source": []
  },
  {
   "cell_type": "code",
   "execution_count": null,
   "id": "1c34505a",
   "metadata": {},
   "outputs": [],
   "source": []
  },
  {
   "cell_type": "code",
   "execution_count": null,
   "id": "2afed8a1",
   "metadata": {},
   "outputs": [],
   "source": []
  },
  {
   "cell_type": "code",
   "execution_count": null,
   "id": "027d1e8e",
   "metadata": {},
   "outputs": [],
   "source": []
  },
  {
   "cell_type": "code",
   "execution_count": null,
   "id": "3512d207",
   "metadata": {},
   "outputs": [],
   "source": []
  },
  {
   "cell_type": "code",
   "execution_count": null,
   "id": "bc296ee2",
   "metadata": {},
   "outputs": [],
   "source": []
  },
  {
   "cell_type": "code",
   "execution_count": null,
   "id": "4b0471d5",
   "metadata": {},
   "outputs": [],
   "source": []
  },
  {
   "cell_type": "code",
   "execution_count": null,
   "id": "f04ed41b",
   "metadata": {},
   "outputs": [],
   "source": []
  },
  {
   "cell_type": "code",
   "execution_count": null,
   "id": "453111ac",
   "metadata": {},
   "outputs": [],
   "source": []
  },
  {
   "cell_type": "code",
   "execution_count": null,
   "id": "738386a2",
   "metadata": {},
   "outputs": [],
   "source": [
    "ㅁ"
   ]
  }
 ],
 "metadata": {
  "kernelspec": {
   "display_name": "Python 3",
   "language": "python",
   "name": "python3"
  },
  "language_info": {
   "codemirror_mode": {
    "name": "ipython",
    "version": 3
   },
   "file_extension": ".py",
   "mimetype": "text/x-python",
   "name": "python",
   "nbconvert_exporter": "python",
   "pygments_lexer": "ipython3",
   "version": "3.7.16"
  },
  "toc": {
   "base_numbering": 1,
   "nav_menu": {},
   "number_sections": true,
   "sideBar": true,
   "skip_h1_title": false,
   "title_cell": "Table of Contents",
   "title_sidebar": "Contents",
   "toc_cell": false,
   "toc_position": {},
   "toc_section_display": true,
   "toc_window_display": false
  }
 },
 "nbformat": 4,
 "nbformat_minor": 5
}
