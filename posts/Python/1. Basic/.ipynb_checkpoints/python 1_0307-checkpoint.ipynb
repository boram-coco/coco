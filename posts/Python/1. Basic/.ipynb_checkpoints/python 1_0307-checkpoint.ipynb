{
 "cells": [
  {
   "cell_type": "raw",
   "id": "9adec1c0-6dc8-4e8d-ab13-f7fb3bbb1704",
   "metadata": {},
   "source": [
    "---\n",
    "title: \"파이썬 (0307) 1주차 \"\n",
    "author: \"김보람\"\n",
    "date: \"03/07/2022\"\n",
    "categories:\n",
    "  - 자료형\n",
    "---"
   ]
  },
  {
   "cell_type": "markdown",
   "id": "284b8a94",
   "metadata": {},
   "source": [
    "# 자료형"
   ]
  },
  {
   "cell_type": "markdown",
   "id": "d0450b72",
   "metadata": {},
   "source": [
    "`-` 파이썬의 기본자료형은 int, float, bool, str, list, tuple, dict, set 등이 있다.\n",
    "\n",
    "- 0차원 자료형: int, float, bool\n",
    "- 1차원 자료형: str, list, tuple, dict, set"
   ]
  },
  {
   "cell_type": "markdown",
   "id": "2cc4d40f",
   "metadata": {},
   "source": [
    "## 0차원"
   ]
  },
  {
   "cell_type": "markdown",
   "id": "e0390f31",
   "metadata": {},
   "source": [
    "`-` int형"
   ]
  },
  {
   "cell_type": "code",
   "execution_count": 1,
   "id": "9484fd48",
   "metadata": {},
   "outputs": [],
   "source": [
    "a=100"
   ]
  },
  {
   "cell_type": "code",
   "execution_count": 2,
   "id": "a5e4537c",
   "metadata": {},
   "outputs": [
    {
     "data": {
      "text/plain": [
       "int"
      ]
     },
     "execution_count": 2,
     "metadata": {},
     "output_type": "execute_result"
    }
   ],
   "source": [
    "type(a)"
   ]
  },
  {
   "cell_type": "markdown",
   "id": "2ea591cb",
   "metadata": {},
   "source": [
    "`-` float형"
   ]
  },
  {
   "cell_type": "code",
   "execution_count": 3,
   "id": "7729e9a0",
   "metadata": {},
   "outputs": [],
   "source": [
    "a?"
   ]
  },
  {
   "cell_type": "code",
   "execution_count": 4,
   "id": "e5efcb88",
   "metadata": {},
   "outputs": [],
   "source": [
    "a=1.2*3"
   ]
  },
  {
   "cell_type": "code",
   "execution_count": 5,
   "id": "e87ba759",
   "metadata": {},
   "outputs": [
    {
     "data": {
      "text/plain": [
       "float"
      ]
     },
     "execution_count": 5,
     "metadata": {},
     "output_type": "execute_result"
    }
   ],
   "source": [
    "type(a)"
   ]
  },
  {
   "cell_type": "markdown",
   "id": "b2787211",
   "metadata": {},
   "source": [
    "`-` bool형"
   ]
  },
  {
   "cell_type": "code",
   "execution_count": 30,
   "id": "d37460b3",
   "metadata": {},
   "outputs": [],
   "source": [
    "a=True   # 숫자1\n",
    "b=False  # 숫자0"
   ]
  },
  {
   "cell_type": "code",
   "execution_count": 31,
   "id": "95dab68c",
   "metadata": {},
   "outputs": [
    {
     "data": {
      "text/plain": [
       "bool"
      ]
     },
     "execution_count": 31,
     "metadata": {},
     "output_type": "execute_result"
    }
   ],
   "source": [
    "type(a)"
   ]
  },
  {
   "cell_type": "code",
   "execution_count": 33,
   "id": "574195c1",
   "metadata": {},
   "outputs": [
    {
     "data": {
      "text/plain": [
       "1"
      ]
     },
     "execution_count": 33,
     "metadata": {},
     "output_type": "execute_result"
    }
   ],
   "source": [
    "# bool형의 연산\n",
    "a+b"
   ]
  },
  {
   "cell_type": "markdown",
   "id": "653fa8bb",
   "metadata": {},
   "source": [
    "`-` complex형"
   ]
  },
  {
   "cell_type": "code",
   "execution_count": 10,
   "id": "21fcd215",
   "metadata": {},
   "outputs": [],
   "source": [
    "a=1+2j\n",
    "b=2-2j"
   ]
  },
  {
   "cell_type": "code",
   "execution_count": 11,
   "id": "5d607881",
   "metadata": {},
   "outputs": [
    {
     "data": {
      "text/plain": [
       "(1+2j)"
      ]
     },
     "execution_count": 11,
     "metadata": {},
     "output_type": "execute_result"
    }
   ],
   "source": [
    "a"
   ]
  },
  {
   "cell_type": "code",
   "execution_count": 12,
   "id": "05c3aff3",
   "metadata": {},
   "outputs": [
    {
     "data": {
      "text/plain": [
       "complex"
      ]
     },
     "execution_count": 12,
     "metadata": {},
     "output_type": "execute_result"
    }
   ],
   "source": [
    "type(a)"
   ]
  },
  {
   "cell_type": "code",
   "execution_count": 13,
   "id": "b7a71099",
   "metadata": {},
   "outputs": [
    {
     "data": {
      "text/plain": [
       "(3+0j)"
      ]
     },
     "execution_count": 13,
     "metadata": {},
     "output_type": "execute_result"
    }
   ],
   "source": [
    "a+b"
   ]
  },
  {
   "cell_type": "code",
   "execution_count": 14,
   "id": "aead166d",
   "metadata": {},
   "outputs": [
    {
     "data": {
      "text/plain": [
       "complex"
      ]
     },
     "execution_count": 14,
     "metadata": {},
     "output_type": "execute_result"
    }
   ],
   "source": [
    "type(a+b)"
   ]
  },
  {
   "cell_type": "markdown",
   "id": "8afc30bb",
   "metadata": {},
   "source": [
    "`-` 형태변환: float -> int"
   ]
  },
  {
   "cell_type": "code",
   "execution_count": 15,
   "id": "81af3057",
   "metadata": {},
   "outputs": [
    {
     "data": {
      "text/plain": [
       "float"
      ]
     },
     "execution_count": 15,
     "metadata": {},
     "output_type": "execute_result"
    }
   ],
   "source": [
    "a=3.0\n",
    "type(a)"
   ]
  },
  {
   "cell_type": "code",
   "execution_count": 17,
   "id": "eb55a23e",
   "metadata": {},
   "outputs": [],
   "source": [
    "a=int(a)"
   ]
  },
  {
   "cell_type": "code",
   "execution_count": 18,
   "id": "46ad9c33",
   "metadata": {},
   "outputs": [],
   "source": [
    "a?"
   ]
  },
  {
   "cell_type": "code",
   "execution_count": 19,
   "id": "1bd643fe",
   "metadata": {},
   "outputs": [
    {
     "data": {
      "text/plain": [
       "3"
      ]
     },
     "execution_count": 19,
     "metadata": {},
     "output_type": "execute_result"
    }
   ],
   "source": [
    "a=3.14\n",
    "int(a)\n",
    "\n",
    "# 0.14날라가고 3만나옴. 정보의 손실이 있다."
   ]
  },
  {
   "cell_type": "markdown",
   "id": "9c9b1a8b",
   "metadata": {},
   "source": [
    "`-` 형태변환: int $\\to\\$ float"
   ]
  },
  {
   "cell_type": "code",
   "execution_count": 20,
   "id": "1a6bf4ea",
   "metadata": {},
   "outputs": [
    {
     "data": {
      "text/plain": [
       "int"
      ]
     },
     "execution_count": 20,
     "metadata": {},
     "output_type": "execute_result"
    }
   ],
   "source": [
    "a=3\n",
    "type(a)"
   ]
  },
  {
   "cell_type": "code",
   "execution_count": 22,
   "id": "cc94cfa1",
   "metadata": {},
   "outputs": [
    {
     "data": {
      "text/plain": [
       "float"
      ]
     },
     "execution_count": 22,
     "metadata": {},
     "output_type": "execute_result"
    }
   ],
   "source": [
    "a=float(a)\n",
    "type(a)"
   ]
  },
  {
   "cell_type": "markdown",
   "id": "cf250c8d",
   "metadata": {},
   "source": [
    "`-` 형태변환: bool $\\to\\$ int/float"
   ]
  },
  {
   "cell_type": "markdown",
   "id": "03c8f238",
   "metadata": {},
   "source": [
    "(예시1)"
   ]
  },
  {
   "cell_type": "code",
   "execution_count": 23,
   "id": "0ccc7933",
   "metadata": {},
   "outputs": [
    {
     "data": {
      "text/plain": [
       "bool"
      ]
     },
     "execution_count": 23,
     "metadata": {},
     "output_type": "execute_result"
    }
   ],
   "source": [
    "a=True\n",
    "type(a)"
   ]
  },
  {
   "cell_type": "code",
   "execution_count": 25,
   "id": "9c07a16f",
   "metadata": {},
   "outputs": [
    {
     "data": {
      "text/plain": [
       "1"
      ]
     },
     "execution_count": 25,
     "metadata": {},
     "output_type": "execute_result"
    }
   ],
   "source": [
    "int(a)"
   ]
  },
  {
   "cell_type": "code",
   "execution_count": 26,
   "id": "b6798945",
   "metadata": {},
   "outputs": [
    {
     "data": {
      "text/plain": [
       "1.0"
      ]
     },
     "execution_count": 26,
     "metadata": {},
     "output_type": "execute_result"
    }
   ],
   "source": [
    "float(a)"
   ]
  },
  {
   "cell_type": "markdown",
   "id": "aa18b1ba",
   "metadata": {},
   "source": [
    "(예시2)"
   ]
  },
  {
   "cell_type": "code",
   "execution_count": 27,
   "id": "ab260c40",
   "metadata": {},
   "outputs": [
    {
     "data": {
      "text/plain": [
       "True"
      ]
     },
     "execution_count": 27,
     "metadata": {},
     "output_type": "execute_result"
    }
   ],
   "source": [
    "a=1\n",
    "bool(a)"
   ]
  },
  {
   "cell_type": "markdown",
   "id": "b7c0718a",
   "metadata": {},
   "source": [
    "(예시3)"
   ]
  },
  {
   "cell_type": "code",
   "execution_count": 28,
   "id": "f454921a",
   "metadata": {},
   "outputs": [
    {
     "data": {
      "text/plain": [
       "True"
      ]
     },
     "execution_count": 28,
     "metadata": {},
     "output_type": "execute_result"
    }
   ],
   "source": [
    "a=1.0\n",
    "bool(a)"
   ]
  },
  {
   "cell_type": "code",
   "execution_count": 29,
   "id": "f516b65e",
   "metadata": {},
   "outputs": [
    {
     "data": {
      "text/plain": [
       "False"
      ]
     },
     "execution_count": 29,
     "metadata": {},
     "output_type": "execute_result"
    }
   ],
   "source": [
    "a=0.0\n",
    "bool(a)"
   ]
  },
  {
   "cell_type": "markdown",
   "id": "b08b2209",
   "metadata": {},
   "source": [
    "`-` 이상한 형태변환도 가능하다"
   ]
  },
  {
   "cell_type": "code",
   "execution_count": 34,
   "id": "9a0151cb",
   "metadata": {},
   "outputs": [
    {
     "data": {
      "text/plain": [
       "True"
      ]
     },
     "execution_count": 34,
     "metadata": {},
     "output_type": "execute_result"
    }
   ],
   "source": [
    "bool(-3.14)"
   ]
  },
  {
   "cell_type": "code",
   "execution_count": 35,
   "id": "93026674",
   "metadata": {},
   "outputs": [
    {
     "data": {
      "text/plain": [
       "True"
      ]
     },
     "execution_count": 35,
     "metadata": {},
     "output_type": "execute_result"
    }
   ],
   "source": [
    "bool(3.14)"
   ]
  },
  {
   "cell_type": "code",
   "execution_count": 36,
   "id": "9ab693cc",
   "metadata": {},
   "outputs": [
    {
     "data": {
      "text/plain": [
       "False"
      ]
     },
     "execution_count": 36,
     "metadata": {},
     "output_type": "execute_result"
    }
   ],
   "source": [
    "bool(0)"
   ]
  },
  {
   "cell_type": "code",
   "execution_count": 37,
   "id": "b4aae455",
   "metadata": {},
   "outputs": [
    {
     "data": {
      "text/plain": [
       "True"
      ]
     },
     "execution_count": 37,
     "metadata": {},
     "output_type": "execute_result"
    }
   ],
   "source": [
    "bool(3.24342)"
   ]
  },
  {
   "cell_type": "code",
   "execution_count": null,
   "id": "85054edd",
   "metadata": {},
   "outputs": [],
   "source": [
    "# 위와 같은 코드를 의도적으로 사용하진 않는다. "
   ]
  },
  {
   "cell_type": "markdown",
   "id": "ef5ac2d5",
   "metadata": {},
   "source": [
    "`-` 형태변환이 항상 가능한 것도 아님"
   ]
  },
  {
   "cell_type": "code",
   "execution_count": 38,
   "id": "88b794b1",
   "metadata": {},
   "outputs": [
    {
     "ename": "TypeError",
     "evalue": "can't convert complex to float",
     "output_type": "error",
     "traceback": [
      "\u001b[1;31m---------------------------------------------------------------------------\u001b[0m",
      "\u001b[1;31mTypeError\u001b[0m                                 Traceback (most recent call last)",
      "Input \u001b[1;32mIn [38]\u001b[0m, in \u001b[0;36m<cell line: 1>\u001b[1;34m()\u001b[0m\n\u001b[1;32m----> 1\u001b[0m \u001b[38;5;28;43mfloat\u001b[39;49m\u001b[43m(\u001b[49m\u001b[38;5;241;43m3\u001b[39;49m\u001b[38;5;241;43m+\u001b[39;49m\u001b[38;5;241;43m0\u001b[39;49m\u001b[43mj\u001b[49m\u001b[43m)\u001b[49m\n",
      "\u001b[1;31mTypeError\u001b[0m: can't convert complex to float"
     ]
    }
   ],
   "source": [
    "float(3+0j) # 사실상 3+0j= 3이므로 float으로 형변환하면 3.0이 되어야 할 것 같은데 오류가 남"
   ]
  },
  {
   "cell_type": "markdown",
   "id": "70e8bf79",
   "metadata": {},
   "source": [
    "`-` 암묵적형변환 (implicit)"
   ]
  },
  {
   "cell_type": "markdown",
   "id": "44eeda97",
   "metadata": {},
   "source": [
    "(예비학습) implicit의 의미\n",
    "- 추운날씨 -> 보일러좀 틀자! 명시적(explicit) / 오늘 날씨가 좀 춥지 않아? (implicit)\n",
    "- 짜장면 먹을래? -> 싫어 (explicit) / 난 어제 짜장면 먹었는데... (implicit)"
   ]
  },
  {
   "cell_type": "code",
   "execution_count": 39,
   "id": "9af6390a",
   "metadata": {},
   "outputs": [
    {
     "data": {
      "text/plain": [
       "1"
      ]
     },
     "execution_count": 39,
     "metadata": {},
     "output_type": "execute_result"
    }
   ],
   "source": [
    "int(True) #명시적"
   ]
  },
  {
   "cell_type": "code",
   "execution_count": 40,
   "id": "a1b02621",
   "metadata": {},
   "outputs": [
    {
     "data": {
      "text/plain": [
       "1"
      ]
     },
     "execution_count": 40,
     "metadata": {},
     "output_type": "execute_result"
    }
   ],
   "source": [
    "True * 1 # 암묵적형"
   ]
  },
  {
   "cell_type": "code",
   "execution_count": 42,
   "id": "74e54d56",
   "metadata": {},
   "outputs": [
    {
     "data": {
      "text/plain": [
       "1.0"
      ]
     },
     "execution_count": 42,
     "metadata": {},
     "output_type": "execute_result"
    }
   ],
   "source": [
    "1 * 1.0"
   ]
  },
  {
   "cell_type": "code",
   "execution_count": 43,
   "id": "9e851c0a",
   "metadata": {},
   "outputs": [
    {
     "data": {
      "text/plain": [
       "2"
      ]
     },
     "execution_count": 43,
     "metadata": {},
     "output_type": "execute_result"
    }
   ],
   "source": [
    "True+True"
   ]
  },
  {
   "cell_type": "markdown",
   "id": "ebc5829c",
   "metadata": {},
   "source": [
    "## 1차원"
   ]
  },
  {
   "cell_type": "markdown",
   "id": "641e4cd6",
   "metadata": {},
   "source": [
    "`-` str"
   ]
  },
  {
   "cell_type": "code",
   "execution_count": 45,
   "id": "72b50413",
   "metadata": {},
   "outputs": [],
   "source": [
    "# 선언\n",
    "a='br'"
   ]
  },
  {
   "cell_type": "code",
   "execution_count": 46,
   "id": "018567a9",
   "metadata": {},
   "outputs": [
    {
     "data": {
      "text/plain": [
       "'br'"
      ]
     },
     "execution_count": 46,
     "metadata": {},
     "output_type": "execute_result"
    }
   ],
   "source": [
    "a"
   ]
  },
  {
   "cell_type": "code",
   "execution_count": 47,
   "id": "d9ccb064",
   "metadata": {},
   "outputs": [],
   "source": [
    "# 연산\n",
    "# 더하기 연산\n",
    "a='x'\n",
    "b='2'"
   ]
  },
  {
   "cell_type": "code",
   "execution_count": 49,
   "id": "35f91565",
   "metadata": {},
   "outputs": [
    {
     "data": {
      "text/plain": [
       "'x2'"
      ]
     },
     "execution_count": 49,
     "metadata": {},
     "output_type": "execute_result"
    }
   ],
   "source": [
    "a+b"
   ]
  },
  {
   "cell_type": "code",
   "execution_count": 50,
   "id": "5695056f",
   "metadata": {},
   "outputs": [
    {
     "ename": "TypeError",
     "evalue": "unsupported operand type(s) for -: 'str' and 'str'",
     "output_type": "error",
     "traceback": [
      "\u001b[1;31m---------------------------------------------------------------------------\u001b[0m",
      "\u001b[1;31mTypeError\u001b[0m                                 Traceback (most recent call last)",
      "Input \u001b[1;32mIn [50]\u001b[0m, in \u001b[0;36m<cell line: 1>\u001b[1;34m()\u001b[0m\n\u001b[1;32m----> 1\u001b[0m \u001b[43ma\u001b[49m\u001b[38;5;241;43m-\u001b[39;49m\u001b[43mb\u001b[49m\n",
      "\u001b[1;31mTypeError\u001b[0m: unsupported operand type(s) for -: 'str' and 'str'"
     ]
    }
   ],
   "source": [
    "# 빼기 연산 없다. \n",
    "a-b"
   ]
  },
  {
   "cell_type": "code",
   "execution_count": 51,
   "id": "aa891d0a",
   "metadata": {},
   "outputs": [
    {
     "data": {
      "text/plain": [
       "'xx'"
      ]
     },
     "execution_count": 51,
     "metadata": {},
     "output_type": "execute_result"
    }
   ],
   "source": [
    "# 곱하기 연산\n",
    "a*2"
   ]
  },
  {
   "cell_type": "code",
   "execution_count": 52,
   "id": "5744bbd4",
   "metadata": {},
   "outputs": [
    {
     "data": {
      "text/plain": [
       "'xx'"
      ]
     },
     "execution_count": 52,
     "metadata": {},
     "output_type": "execute_result"
    }
   ],
   "source": [
    "2*a"
   ]
  },
  {
   "cell_type": "code",
   "execution_count": 53,
   "id": "0e089329",
   "metadata": {},
   "outputs": [
    {
     "data": {
      "text/plain": [
       "'xy'"
      ]
     },
     "execution_count": 53,
     "metadata": {},
     "output_type": "execute_result"
    }
   ],
   "source": [
    "# 의미상 맞지 않는 것은 수행되지 않는다.\n",
    "a='x'\n",
    "b='y'\n",
    "a+b"
   ]
  },
  {
   "cell_type": "code",
   "execution_count": 54,
   "id": "a919ab31",
   "metadata": {},
   "outputs": [
    {
     "ename": "TypeError",
     "evalue": "can't multiply sequence by non-int of type 'str'",
     "output_type": "error",
     "traceback": [
      "\u001b[1;31m---------------------------------------------------------------------------\u001b[0m",
      "\u001b[1;31mTypeError\u001b[0m                                 Traceback (most recent call last)",
      "Input \u001b[1;32mIn [54]\u001b[0m, in \u001b[0;36m<cell line: 1>\u001b[1;34m()\u001b[0m\n\u001b[1;32m----> 1\u001b[0m \u001b[43ma\u001b[49m\u001b[38;5;241;43m*\u001b[39;49m\u001b[43mb\u001b[49m\n",
      "\u001b[1;31mTypeError\u001b[0m: can't multiply sequence by non-int of type 'str'"
     ]
    }
   ],
   "source": [
    "a*b"
   ]
  },
  {
   "cell_type": "code",
   "execution_count": 55,
   "id": "af253934",
   "metadata": {},
   "outputs": [
    {
     "ename": "TypeError",
     "evalue": "unsupported operand type(s) for /: 'str' and 'int'",
     "output_type": "error",
     "traceback": [
      "\u001b[1;31m---------------------------------------------------------------------------\u001b[0m",
      "\u001b[1;31mTypeError\u001b[0m                                 Traceback (most recent call last)",
      "Input \u001b[1;32mIn [55]\u001b[0m, in \u001b[0;36m<cell line: 3>\u001b[1;34m()\u001b[0m\n\u001b[0;32m      1\u001b[0m \u001b[38;5;66;03m# 나눗셈연산\u001b[39;00m\n\u001b[0;32m      2\u001b[0m a\u001b[38;5;241m=\u001b[39m\u001b[38;5;124m'\u001b[39m\u001b[38;5;124mxx\u001b[39m\u001b[38;5;124m'\u001b[39m\n\u001b[1;32m----> 3\u001b[0m \u001b[43ma\u001b[49m\u001b[38;5;241;43m/\u001b[39;49m\u001b[38;5;241;43m2\u001b[39;49m\n",
      "\u001b[1;31mTypeError\u001b[0m: unsupported operand type(s) for /: 'str' and 'int'"
     ]
    }
   ],
   "source": [
    "# 나눗셈연산은 없다. \n",
    "a='xx'\n",
    "a/2"
   ]
  },
  {
   "cell_type": "markdown",
   "id": "64e8ba1b",
   "metadata": {},
   "source": [
    "## 인덱싱\n"
   ]
  },
  {
   "cell_type": "markdown",
   "id": "c733ee8c",
   "metadata": {},
   "source": [
    "`-` str은 하나의 벡터 문자가 여러개 있는 형태라고 생각하기"
   ]
  },
  {
   "cell_type": "code",
   "execution_count": 56,
   "id": "36f6b04e",
   "metadata": {},
   "outputs": [
    {
     "data": {
      "text/plain": [
       "'boram'"
      ]
     },
     "execution_count": 56,
     "metadata": {},
     "output_type": "execute_result"
    }
   ],
   "source": [
    "a='boram'\n",
    "a"
   ]
  },
  {
   "cell_type": "markdown",
   "id": "e334ff26",
   "metadata": {},
   "source": [
    "- 5개의 칸에 글씨가 하나씩 들어가 있음"
   ]
  },
  {
   "cell_type": "code",
   "execution_count": 57,
   "id": "9a13f1be",
   "metadata": {},
   "outputs": [
    {
     "data": {
      "text/plain": [
       "'b'"
      ]
     },
     "execution_count": 57,
     "metadata": {},
     "output_type": "execute_result"
    }
   ],
   "source": [
    "a[0]  # 0이 첫번쨰 원소"
   ]
  },
  {
   "cell_type": "code",
   "execution_count": 59,
   "id": "abd66235",
   "metadata": {},
   "outputs": [
    {
     "data": {
      "text/plain": [
       "'o'"
      ]
     },
     "execution_count": 59,
     "metadata": {},
     "output_type": "execute_result"
    }
   ],
   "source": [
    "a[1] # 두번째 원소"
   ]
  },
  {
   "cell_type": "code",
   "execution_count": 60,
   "id": "fdcb80ee",
   "metadata": {},
   "outputs": [
    {
     "data": {
      "text/plain": [
       "'m'"
      ]
     },
     "execution_count": 60,
     "metadata": {},
     "output_type": "execute_result"
    }
   ],
   "source": [
    "# 마지막 원소를 호출하려면 -1로 호출할 수도 있다.\n",
    "a[-1]"
   ]
  },
  {
   "cell_type": "code",
   "execution_count": 61,
   "id": "ef4453f8",
   "metadata": {},
   "outputs": [
    {
     "data": {
      "text/plain": [
       "'m'"
      ]
     },
     "execution_count": 61,
     "metadata": {},
     "output_type": "execute_result"
    }
   ],
   "source": [
    "a[4]"
   ]
  },
  {
   "cell_type": "code",
   "execution_count": 63,
   "id": "eb45d0b0",
   "metadata": {},
   "outputs": [
    {
     "data": {
      "text/plain": [
       "'a'"
      ]
     },
     "execution_count": 63,
     "metadata": {},
     "output_type": "execute_result"
    }
   ],
   "source": [
    "a[-2]\n",
    "# 마지막에서 2번째 원소는 -2로 호출 가능"
   ]
  },
  {
   "cell_type": "markdown",
   "id": "6d041df8",
   "metadata": {},
   "source": [
    "- 어려개의 원소는 `:`을 이용하여 호출할 수 있음"
   ]
  },
  {
   "cell_type": "code",
   "execution_count": 66,
   "id": "eacd9d30",
   "metadata": {},
   "outputs": [
    {
     "data": {
      "text/plain": [
       "'bor'"
      ]
     },
     "execution_count": 66,
     "metadata": {},
     "output_type": "execute_result"
    }
   ],
   "source": [
    "a[0:3] # a[0], a[1], a[2]까지만 뽑힌다. a[3]은 호출되지 않는다."
   ]
  },
  {
   "cell_type": "code",
   "execution_count": 67,
   "id": "550e94da",
   "metadata": {},
   "outputs": [
    {
     "data": {
      "text/plain": [
       "'or'"
      ]
     },
     "execution_count": 67,
     "metadata": {},
     "output_type": "execute_result"
    }
   ],
   "source": [
    "a[1:3]"
   ]
  },
  {
   "cell_type": "markdown",
   "id": "030df57e",
   "metadata": {},
   "source": [
    "- index=1부터 시작해서 마지막 원소까지 호출하려면?"
   ]
  },
  {
   "cell_type": "code",
   "execution_count": 68,
   "id": "30a9a927",
   "metadata": {},
   "outputs": [
    {
     "ename": "IndexError",
     "evalue": "string index out of range",
     "output_type": "error",
     "traceback": [
      "\u001b[1;31m---------------------------------------------------------------------------\u001b[0m",
      "\u001b[1;31mIndexError\u001b[0m                                Traceback (most recent call last)",
      "Input \u001b[1;32mIn [68]\u001b[0m, in \u001b[0;36m<cell line: 1>\u001b[1;34m()\u001b[0m\n\u001b[1;32m----> 1\u001b[0m \u001b[43ma\u001b[49m\u001b[43m[\u001b[49m\u001b[38;5;241;43m5\u001b[39;49m\u001b[43m]\u001b[49m\n",
      "\u001b[1;31mIndexError\u001b[0m: string index out of range"
     ]
    }
   ],
   "source": [
    "a[5]"
   ]
  },
  {
   "cell_type": "code",
   "execution_count": 70,
   "id": "2a499005",
   "metadata": {},
   "outputs": [
    {
     "data": {
      "text/plain": [
       "'oram'"
      ]
     },
     "execution_count": 70,
     "metadata": {},
     "output_type": "execute_result"
    }
   ],
   "source": [
    "a[1:5]  # a[5]는 없는데,, 이렇게 쓰니까 헷갈릴 수 있다."
   ]
  },
  {
   "cell_type": "code",
   "execution_count": 71,
   "id": "9cda1861",
   "metadata": {},
   "outputs": [
    {
     "data": {
      "text/plain": [
       "'ora'"
      ]
     },
     "execution_count": 71,
     "metadata": {},
     "output_type": "execute_result"
    }
   ],
   "source": [
    "a[1:-1]   # 이것은 a[1:4] 와 같음"
   ]
  },
  {
   "cell_type": "code",
   "execution_count": 72,
   "id": "388176ba",
   "metadata": {},
   "outputs": [
    {
     "data": {
      "text/plain": [
       "'oram'"
      ]
     },
     "execution_count": 72,
     "metadata": {},
     "output_type": "execute_result"
    }
   ],
   "source": [
    "# 해결책! 생략한다.\n",
    "a[1:]"
   ]
  },
  {
   "cell_type": "markdown",
   "id": "f8efee07",
   "metadata": {},
   "source": [
    "`-` 생략의 응용1"
   ]
  },
  {
   "cell_type": "code",
   "execution_count": 73,
   "id": "edaafee9",
   "metadata": {},
   "outputs": [
    {
     "data": {
      "text/plain": [
       "'k-pop'"
      ]
     },
     "execution_count": 73,
     "metadata": {},
     "output_type": "execute_result"
    }
   ],
   "source": [
    "a='k-pop'\n",
    "a"
   ]
  },
  {
   "cell_type": "code",
   "execution_count": 74,
   "id": "c71dd55f",
   "metadata": {},
   "outputs": [
    {
     "data": {
      "text/plain": [
       "'pop'"
      ]
     },
     "execution_count": 74,
     "metadata": {},
     "output_type": "execute_result"
    }
   ],
   "source": [
    "a[2:]"
   ]
  },
  {
   "cell_type": "code",
   "execution_count": 75,
   "id": "3ed942ee",
   "metadata": {},
   "outputs": [
    {
     "data": {
      "text/plain": [
       "'pop'"
      ]
     },
     "execution_count": 75,
     "metadata": {},
     "output_type": "execute_result"
    }
   ],
   "source": [
    "a[2:5]"
   ]
  },
  {
   "cell_type": "markdown",
   "id": "a6aac848",
   "metadata": {},
   "source": [
    "`-` 생략의 응용2"
   ]
  },
  {
   "cell_type": "code",
   "execution_count": 76,
   "id": "b4d5a932",
   "metadata": {},
   "outputs": [
    {
     "data": {
      "text/plain": [
       "'k-pop'"
      ]
     },
     "execution_count": 76,
     "metadata": {},
     "output_type": "execute_result"
    }
   ],
   "source": [
    "a='k-pop'\n",
    "a"
   ]
  },
  {
   "cell_type": "code",
   "execution_count": 77,
   "id": "fc9e913c",
   "metadata": {},
   "outputs": [
    {
     "data": {
      "text/plain": [
       "'k-'"
      ]
     },
     "execution_count": 77,
     "metadata": {},
     "output_type": "execute_result"
    }
   ],
   "source": [
    "a[0:2]"
   ]
  },
  {
   "cell_type": "code",
   "execution_count": 79,
   "id": "71a1a232",
   "metadata": {},
   "outputs": [
    {
     "data": {
      "text/plain": [
       "'k-'"
      ]
     },
     "execution_count": 79,
     "metadata": {},
     "output_type": "execute_result"
    }
   ],
   "source": [
    "a[:2]   # 앞을 생략하면 첫 원소부터 나온다."
   ]
  },
  {
   "cell_type": "markdown",
   "id": "ed27b12d",
   "metadata": {},
   "source": [
    "`-` 생략의 응용3"
   ]
  },
  {
   "cell_type": "code",
   "execution_count": 80,
   "id": "51493814",
   "metadata": {},
   "outputs": [
    {
     "data": {
      "text/plain": [
       "'k-pop'"
      ]
     },
     "execution_count": 80,
     "metadata": {},
     "output_type": "execute_result"
    }
   ],
   "source": [
    "a='k-pop'\n",
    "a"
   ]
  },
  {
   "cell_type": "code",
   "execution_count": 81,
   "id": "de1f0a45",
   "metadata": {},
   "outputs": [
    {
     "data": {
      "text/plain": [
       "'k-pop'"
      ]
     },
     "execution_count": 81,
     "metadata": {},
     "output_type": "execute_result"
    }
   ],
   "source": [
    "a[:]"
   ]
  },
  {
   "cell_type": "code",
   "execution_count": 82,
   "id": "f93b6caa",
   "metadata": {},
   "outputs": [
    {
     "data": {
      "text/plain": [
       "'k-pop'"
      ]
     },
     "execution_count": 82,
     "metadata": {},
     "output_type": "execute_result"
    }
   ],
   "source": [
    "a[0:5]"
   ]
  },
  {
   "cell_type": "markdown",
   "id": "b386ea71",
   "metadata": {},
   "source": [
    "#### str특수기능"
   ]
  },
  {
   "cell_type": "markdown",
   "id": "c2b5f00b",
   "metadata": {},
   "source": [
    "`-` 파이썬의 변수는 단순히 정보를 담는 그릇이 아니다. 유용한 기능을 제공하는 경우가 있다."
   ]
  },
  {
   "cell_type": "code",
   "execution_count": 85,
   "id": "95bc9ff9",
   "metadata": {},
   "outputs": [
    {
     "data": {
      "text/plain": [
       "'ABCD'"
      ]
     },
     "execution_count": 85,
     "metadata": {},
     "output_type": "execute_result"
    }
   ],
   "source": [
    "a='ABCD'  #a라는 변수는 'ABCD'라는 정보를 담는 그릇의 역할만 하지 않고, 특화된 어떠한 기능도 제공한다.\n",
    "a"
   ]
  },
  {
   "cell_type": "code",
   "execution_count": 84,
   "id": "bd8a96c5",
   "metadata": {},
   "outputs": [
    {
     "data": {
      "text/plain": [
       "'abcd'"
      ]
     },
     "execution_count": 84,
     "metadata": {},
     "output_type": "execute_result"
    }
   ],
   "source": [
    "a.lower() #소문자변환"
   ]
  },
  {
   "cell_type": "code",
   "execution_count": 86,
   "id": "01962486",
   "metadata": {},
   "outputs": [
    {
     "ename": "AttributeError",
     "evalue": "'float' object has no attribute 'lower'",
     "output_type": "error",
     "traceback": [
      "\u001b[1;31m---------------------------------------------------------------------------\u001b[0m",
      "\u001b[1;31mAttributeError\u001b[0m                            Traceback (most recent call last)",
      "Input \u001b[1;32mIn [86]\u001b[0m, in \u001b[0;36m<cell line: 3>\u001b[1;34m()\u001b[0m\n\u001b[0;32m      1\u001b[0m \u001b[38;5;66;03m# lower()는 문자열에 특화된 기능이며 아래 내용은 안됨\u001b[39;00m\n\u001b[0;32m      2\u001b[0m a\u001b[38;5;241m=\u001b[39m\u001b[38;5;241m3.14\u001b[39m\n\u001b[1;32m----> 3\u001b[0m \u001b[43ma\u001b[49m\u001b[38;5;241;43m.\u001b[39;49m\u001b[43mlower\u001b[49m()\n",
      "\u001b[1;31mAttributeError\u001b[0m: 'float' object has no attribute 'lower'"
     ]
    }
   ],
   "source": [
    "# lower()는 문자열에 특화된 기능이며 아래 내용은 안됨\n",
    "a=3.14\n",
    "a.lower()"
   ]
  },
  {
   "cell_type": "markdown",
   "id": "8fe0dbf1",
   "metadata": {},
   "source": [
    "`-` 자료형에 특화된 기능(=함수)을 확인하는 방법 `a.` + `tab` 으로 목록 확인 가능"
   ]
  },
  {
   "cell_type": "code",
   "execution_count": 87,
   "id": "0530086e",
   "metadata": {},
   "outputs": [],
   "source": [
    "a='boram'"
   ]
  },
  {
   "cell_type": "code",
   "execution_count": 88,
   "id": "e516c58d",
   "metadata": {},
   "outputs": [],
   "source": [
    "a.lower?"
   ]
  },
  {
   "cell_type": "code",
   "execution_count": 92,
   "id": "8521a5c8",
   "metadata": {},
   "outputs": [
    {
     "data": {
      "text/plain": [
       "'BORAM'"
      ]
     },
     "execution_count": 92,
     "metadata": {},
     "output_type": "execute_result"
    }
   ],
   "source": [
    "a.upper()   # 대문자 변환\n",
    "# upper(a)"
   ]
  },
  {
   "cell_type": "code",
   "execution_count": 90,
   "id": "a72cd5cd",
   "metadata": {},
   "outputs": [
    {
     "data": {
      "text/plain": [
       "'Boram'"
      ]
     },
     "execution_count": 90,
     "metadata": {},
     "output_type": "execute_result"
    }
   ],
   "source": [
    "a.capitalize()"
   ]
  },
  {
   "cell_type": "markdown",
   "id": "c32820bc",
   "metadata": {},
   "source": [
    "`-` 마음의눈: `a.f()` 형태를 읽는 팁\n",
    "- `a.f()`는 `f(a)`로 생각하면 편리함\n",
    "- `a.f(2)`는 `f(a,2)`로 생각하면 편리함\n",
    "- 이런점에서 R `%>%` 연산자와 비슷하다고 생각할 수 있다. (약간 다름)"
   ]
  },
  {
   "cell_type": "markdown",
   "id": "45d9396f",
   "metadata": {},
   "source": [
    "`-` 사실 `.`은 좀 더 다양한 상황에서 쓰일 수 있다. `변수이름.함수이름()` 의 형태가 아니라\n",
    "- `패키지이름.함수이름()`\n",
    "- `패키지이름.변수이름`\n",
    "- `패키지이름.패키지이름.함수이름()`\n",
    "\n",
    "\n",
    "... 와 같이 다양한 형태가 가능하다. 근본적인 고통점은 `.`을 기준으로 `상위개념.하위개념`으로 이해하는 것이 좋다."
   ]
  },
  {
   "cell_type": "markdown",
   "id": "ce5e2d29",
   "metadata": {},
   "source": [
    "## 0차원 vs 1차원"
   ]
  },
  {
   "cell_type": "markdown",
   "id": "6e2ece80",
   "metadata": {},
   "source": [
    "`-` len 함수 : 원소의 갯수를 알려주는 함수"
   ]
  },
  {
   "cell_type": "markdown",
   "id": "9b8a07e0",
   "metadata": {},
   "source": [
    "(0차원) len함수가 동작하지 않는다."
   ]
  },
  {
   "cell_type": "code",
   "execution_count": 95,
   "id": "8db719b7",
   "metadata": {},
   "outputs": [
    {
     "ename": "TypeError",
     "evalue": "object of type 'float' has no len()",
     "output_type": "error",
     "traceback": [
      "\u001b[1;31m---------------------------------------------------------------------------\u001b[0m",
      "\u001b[1;31mTypeError\u001b[0m                                 Traceback (most recent call last)",
      "Input \u001b[1;32mIn [95]\u001b[0m, in \u001b[0;36m<cell line: 2>\u001b[1;34m()\u001b[0m\n\u001b[0;32m      1\u001b[0m a\u001b[38;5;241m=\u001b[39m\u001b[38;5;241m3.14\u001b[39m\n\u001b[1;32m----> 2\u001b[0m \u001b[38;5;28;43mlen\u001b[39;49m\u001b[43m(\u001b[49m\u001b[43ma\u001b[49m\u001b[43m)\u001b[49m\n",
      "\u001b[1;31mTypeError\u001b[0m: object of type 'float' has no len()"
     ]
    }
   ],
   "source": [
    "a=3.14\n",
    "len(a)"
   ]
  },
  {
   "cell_type": "code",
   "execution_count": 97,
   "id": "0f415dd3",
   "metadata": {},
   "outputs": [
    {
     "ename": "TypeError",
     "evalue": "object of type 'bool' has no len()",
     "output_type": "error",
     "traceback": [
      "\u001b[1;31m---------------------------------------------------------------------------\u001b[0m",
      "\u001b[1;31mTypeError\u001b[0m                                 Traceback (most recent call last)",
      "Input \u001b[1;32mIn [97]\u001b[0m, in \u001b[0;36m<cell line: 2>\u001b[1;34m()\u001b[0m\n\u001b[0;32m      1\u001b[0m b\u001b[38;5;241m=\u001b[39m\u001b[38;5;28;01mTrue\u001b[39;00m\n\u001b[1;32m----> 2\u001b[0m \u001b[38;5;28;43mlen\u001b[39;49m\u001b[43m(\u001b[49m\u001b[43mb\u001b[49m\u001b[43m)\u001b[49m\n",
      "\u001b[1;31mTypeError\u001b[0m: object of type 'bool' has no len()"
     ]
    }
   ],
   "source": [
    "b=True\n",
    "len(b)"
   ]
  },
  {
   "cell_type": "markdown",
   "id": "f7511f2c",
   "metadata": {},
   "source": [
    "(1차원) len함수가 잘 동작함 "
   ]
  },
  {
   "cell_type": "code",
   "execution_count": 96,
   "id": "95cd032a",
   "metadata": {},
   "outputs": [
    {
     "data": {
      "text/plain": [
       "4"
      ]
     },
     "execution_count": 96,
     "metadata": {},
     "output_type": "execute_result"
    }
   ],
   "source": [
    "a='3.14'\n",
    "len(a)"
   ]
  },
  {
   "cell_type": "code",
   "execution_count": 99,
   "id": "100c16b3",
   "metadata": {},
   "outputs": [
    {
     "data": {
      "text/plain": [
       "3"
      ]
     },
     "execution_count": 99,
     "metadata": {},
     "output_type": "execute_result"
    }
   ],
   "source": [
    "b=[1,2,3]\n",
    "len(b)"
   ]
  },
  {
   "cell_type": "markdown",
   "id": "f24bf6c4",
   "metadata": {},
   "source": [
    "숙제"
   ]
  },
  {
   "cell_type": "code",
   "execution_count": 100,
   "id": "de85481a",
   "metadata": {},
   "outputs": [
    {
     "data": {
      "text/plain": [
       "'BoramKim'"
      ]
     },
     "execution_count": 100,
     "metadata": {},
     "output_type": "execute_result"
    }
   ],
   "source": [
    "a='BoramKim'\n",
    "a"
   ]
  },
  {
   "cell_type": "code",
   "execution_count": 101,
   "id": "e2de66fc",
   "metadata": {},
   "outputs": [
    {
     "data": {
      "text/plain": [
       "'Boram'"
      ]
     },
     "execution_count": 101,
     "metadata": {},
     "output_type": "execute_result"
    }
   ],
   "source": [
    "a[:5]"
   ]
  },
  {
   "cell_type": "code",
   "execution_count": 102,
   "id": "be3e8ee0",
   "metadata": {},
   "outputs": [
    {
     "data": {
      "text/plain": [
       "'Kim'"
      ]
     },
     "execution_count": 102,
     "metadata": {},
     "output_type": "execute_result"
    }
   ],
   "source": [
    "a[5:]"
   ]
  },
  {
   "cell_type": "code",
   "execution_count": null,
   "id": "9696950d",
   "metadata": {},
   "outputs": [],
   "source": []
  },
  {
   "cell_type": "code",
   "execution_count": null,
   "id": "e3a45a8e",
   "metadata": {},
   "outputs": [],
   "source": []
  },
  {
   "cell_type": "code",
   "execution_count": null,
   "id": "63a026cf",
   "metadata": {},
   "outputs": [],
   "source": []
  },
  {
   "cell_type": "code",
   "execution_count": null,
   "id": "ebc1edb2",
   "metadata": {},
   "outputs": [],
   "source": []
  }
 ],
 "metadata": {
  "kernelspec": {
   "display_name": "Python 3",
   "language": "python",
   "name": "python3"
  },
  "language_info": {
   "codemirror_mode": {
    "name": "ipython",
    "version": 3
   },
   "file_extension": ".py",
   "mimetype": "text/x-python",
   "name": "python",
   "nbconvert_exporter": "python",
   "pygments_lexer": "ipython3",
   "version": "3.7.16"
  },
  "toc": {
   "base_numbering": 1,
   "nav_menu": {},
   "number_sections": true,
   "sideBar": true,
   "skip_h1_title": false,
   "title_cell": "Table of Contents",
   "title_sidebar": "Contents",
   "toc_cell": false,
   "toc_position": {},
   "toc_section_display": true,
   "toc_window_display": false
  }
 },
 "nbformat": 4,
 "nbformat_minor": 5
}
