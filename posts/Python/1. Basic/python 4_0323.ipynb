{
 "cells": [
  {
   "cell_type": "raw",
   "id": "0a65d2b7-a1c1-465c-b096-a10f98c36d1d",
   "metadata": {},
   "source": [
    "---\n",
    "title: \"파이썬 (0323) 4주차 \"\n",
    "author: \"김보람\"\n",
    "date: \"03/23/2022\"\n",
    "categories:\n",
    "  - 딕셔너리\n",
    "  - 집합\n",
    "---"
   ]
  },
  {
   "cell_type": "markdown",
   "id": "ffbd0f6b",
   "metadata": {},
   "source": [
    "### 연산"
   ]
  },
  {
   "cell_type": "markdown",
   "id": "e80bd626",
   "metadata": {},
   "source": [
    "`-` 하나있다.`"
   ]
  },
  {
   "cell_type": "code",
   "execution_count": 21,
   "id": "42432e06",
   "metadata": {},
   "outputs": [
    {
     "data": {
      "text/plain": [
       "{'boram': 49, 'iu': 80}"
      ]
     },
     "execution_count": 21,
     "metadata": {},
     "output_type": "execute_result"
    }
   ],
   "source": [
    "score={'boram':49, 'iu':80}\n",
    "score"
   ]
  },
  {
   "cell_type": "code",
   "execution_count": 22,
   "id": "e8783f98",
   "metadata": {},
   "outputs": [
    {
     "data": {
      "text/plain": [
       "True"
      ]
     },
     "execution_count": 22,
     "metadata": {},
     "output_type": "execute_result"
    }
   ],
   "source": [
    "'boram' in score\n"
   ]
  },
  {
   "cell_type": "code",
   "execution_count": 23,
   "id": "e141f71f",
   "metadata": {},
   "outputs": [
    {
     "data": {
      "text/plain": [
       "True"
      ]
     },
     "execution_count": 23,
     "metadata": {},
     "output_type": "execute_result"
    }
   ],
   "source": [
    "\n",
    "'iu' in score"
   ]
  },
  {
   "cell_type": "code",
   "execution_count": 24,
   "id": "a0d8cd9f",
   "metadata": {},
   "outputs": [
    {
     "data": {
      "text/plain": [
       "False"
      ]
     },
     "execution_count": 24,
     "metadata": {},
     "output_type": "execute_result"
    }
   ],
   "source": [
    "'hynn' in score"
   ]
  },
  {
   "cell_type": "markdown",
   "id": "37b37276",
   "metadata": {},
   "source": [
    "`-` in은 사실 다른 자료형도 가능하다`"
   ]
  },
  {
   "cell_type": "markdown",
   "id": "9ed9617f",
   "metadata": {},
   "source": [
    "(관찰1)"
   ]
  },
  {
   "cell_type": "code",
   "execution_count": 25,
   "id": "a021f9ea",
   "metadata": {},
   "outputs": [
    {
     "data": {
      "text/plain": [
       "True"
      ]
     },
     "execution_count": 25,
     "metadata": {},
     "output_type": "execute_result"
    }
   ],
   "source": [
    "'a' in 'boram'"
   ]
  },
  {
   "cell_type": "code",
   "execution_count": 26,
   "id": "2e2688cd",
   "metadata": {},
   "outputs": [
    {
     "data": {
      "text/plain": [
       "False"
      ]
     },
     "execution_count": 26,
     "metadata": {},
     "output_type": "execute_result"
    }
   ],
   "source": [
    "'c' in 'boram'"
   ]
  },
  {
   "cell_type": "markdown",
   "id": "e591041e",
   "metadata": {},
   "source": [
    "(관찰2)"
   ]
  },
  {
   "cell_type": "code",
   "execution_count": 27,
   "id": "4b47f7b5",
   "metadata": {},
   "outputs": [
    {
     "data": {
      "text/plain": [
       "(1, 2, 3)"
      ]
     },
     "execution_count": 27,
     "metadata": {},
     "output_type": "execute_result"
    }
   ],
   "source": [
    "tpl = 1,2,3\n",
    "tpl"
   ]
  },
  {
   "cell_type": "code",
   "execution_count": 28,
   "id": "14532faf",
   "metadata": {},
   "outputs": [
    {
     "data": {
      "text/plain": [
       "True"
      ]
     },
     "execution_count": 28,
     "metadata": {},
     "output_type": "execute_result"
    }
   ],
   "source": [
    "1 in tpl"
   ]
  },
  {
   "cell_type": "code",
   "execution_count": 29,
   "id": "53031a00",
   "metadata": {},
   "outputs": [
    {
     "data": {
      "text/plain": [
       "False"
      ]
     },
     "execution_count": 29,
     "metadata": {},
     "output_type": "execute_result"
    }
   ],
   "source": [
    "4 in tpl"
   ]
  },
  {
   "cell_type": "markdown",
   "id": "2b8c9490",
   "metadata": {},
   "source": [
    "(관찰3)"
   ]
  },
  {
   "cell_type": "code",
   "execution_count": 30,
   "id": "29fd3454",
   "metadata": {},
   "outputs": [
    {
     "data": {
      "text/plain": [
       "[['boram', 49], ['iu', 80]]"
      ]
     },
     "execution_count": 30,
     "metadata": {},
     "output_type": "execute_result"
    }
   ],
   "source": [
    "score=[['boram',49], ['iu',80]]\n",
    "score"
   ]
  },
  {
   "cell_type": "code",
   "execution_count": 31,
   "id": "c6584796",
   "metadata": {},
   "outputs": [
    {
     "data": {
      "text/plain": [
       "True"
      ]
     },
     "execution_count": 31,
     "metadata": {},
     "output_type": "execute_result"
    }
   ],
   "source": [
    "['boram', 49] in score"
   ]
  },
  {
   "cell_type": "markdown",
   "id": "2c90e0ba",
   "metadata": {},
   "source": [
    "`-` in 연산자가 dict형에 사용되면 key를 기준으로 True, False을 판단한다."
   ]
  },
  {
   "cell_type": "markdown",
   "id": "3715dcc8",
   "metadata": {},
   "source": [
    "### 메소드"
   ]
  },
  {
   "cell_type": "markdown",
   "id": "9ac4cf6c",
   "metadata": {},
   "source": [
    "***(get)***"
   ]
  },
  {
   "cell_type": "code",
   "execution_count": 32,
   "id": "f6b8bf13",
   "metadata": {},
   "outputs": [
    {
     "data": {
      "text/plain": [
       "{'boram': 49, 'iu': 80}"
      ]
     },
     "execution_count": 32,
     "metadata": {},
     "output_type": "execute_result"
    }
   ],
   "source": [
    "score={'boram':49, 'iu':80}\n",
    "score"
   ]
  },
  {
   "cell_type": "code",
   "execution_count": 33,
   "id": "074b90b3",
   "metadata": {},
   "outputs": [
    {
     "data": {
      "text/plain": [
       "49"
      ]
     },
     "execution_count": 33,
     "metadata": {},
     "output_type": "execute_result"
    }
   ],
   "source": [
    "score.get('boram')"
   ]
  },
  {
   "cell_type": "markdown",
   "id": "2723672b",
   "metadata": {},
   "source": [
    "아래와 같은 기능"
   ]
  },
  {
   "cell_type": "code",
   "execution_count": 35,
   "id": "407e6755",
   "metadata": {},
   "outputs": [
    {
     "data": {
      "text/plain": [
       "49"
      ]
     },
     "execution_count": 35,
     "metadata": {},
     "output_type": "execute_result"
    }
   ],
   "source": [
    "score['boram']"
   ]
  },
  {
   "cell_type": "markdown",
   "id": "9350d277",
   "metadata": {},
   "source": [
    "미묘한 차이점이 존재함"
   ]
  },
  {
   "cell_type": "code",
   "execution_count": 37,
   "id": "604eaa14",
   "metadata": {},
   "outputs": [
    {
     "ename": "KeyError",
     "evalue": "'hynn'",
     "output_type": "error",
     "traceback": [
      "\u001b[1;31m---------------------------------------------------------------------------\u001b[0m",
      "\u001b[1;31mKeyError\u001b[0m                                  Traceback (most recent call last)",
      "Input \u001b[1;32mIn [37]\u001b[0m, in \u001b[0;36m<cell line: 1>\u001b[1;34m()\u001b[0m\n\u001b[1;32m----> 1\u001b[0m \u001b[43mscore\u001b[49m\u001b[43m[\u001b[49m\u001b[38;5;124;43m'\u001b[39;49m\u001b[38;5;124;43mhynn\u001b[39;49m\u001b[38;5;124;43m'\u001b[39;49m\u001b[43m]\u001b[49m\n",
      "\u001b[1;31mKeyError\u001b[0m: 'hynn'"
     ]
    }
   ],
   "source": [
    "score['hynn']  # hynn이 없어서 키에러 출력, 그런 key는 없다.."
   ]
  },
  {
   "cell_type": "code",
   "execution_count": 39,
   "id": "f9b87695",
   "metadata": {},
   "outputs": [],
   "source": [
    "score.get('hynn')  #hynn이 없으면 아무것도 출력안함"
   ]
  },
  {
   "cell_type": "markdown",
   "id": "b8a0e540",
   "metadata": {},
   "source": [
    "***(kyes, values, items)***"
   ]
  },
  {
   "cell_type": "markdown",
   "id": "3f5cb0e6",
   "metadata": {},
   "source": [
    "`-`.keys()는 딕셔너리의 키를 리턴한다."
   ]
  },
  {
   "cell_type": "code",
   "execution_count": 40,
   "id": "fcc0a90e",
   "metadata": {},
   "outputs": [
    {
     "data": {
      "text/plain": [
       "{'boram': 49, 'iu': 80}"
      ]
     },
     "execution_count": 40,
     "metadata": {},
     "output_type": "execute_result"
    }
   ],
   "source": [
    "score={'boram':49, 'iu':80}\n",
    "score"
   ]
  },
  {
   "cell_type": "code",
   "execution_count": 43,
   "id": "b25d141a",
   "metadata": {},
   "outputs": [],
   "source": [
    "?score.keys"
   ]
  },
  {
   "cell_type": "code",
   "execution_count": 47,
   "id": "3946be55",
   "metadata": {},
   "outputs": [
    {
     "data": {
      "text/plain": [
       "dict_keys(['boram', 'iu'])"
      ]
     },
     "execution_count": 47,
     "metadata": {},
     "output_type": "execute_result"
    }
   ],
   "source": [
    "_keys=score.keys()\n",
    "_keys"
   ]
  },
  {
   "cell_type": "code",
   "execution_count": 49,
   "id": "c272b723",
   "metadata": {},
   "outputs": [
    {
     "data": {
      "text/plain": [
       "dict_keys"
      ]
     },
     "execution_count": 49,
     "metadata": {},
     "output_type": "execute_result"
    }
   ],
   "source": [
    "type(_keys)   # 모르는 자료형이지만, list나 tuple과 같이 자료형을 바꿀수 있다."
   ]
  },
  {
   "cell_type": "code",
   "execution_count": 50,
   "id": "6b581231",
   "metadata": {},
   "outputs": [
    {
     "data": {
      "text/plain": [
       "['boram', 'iu']"
      ]
     },
     "execution_count": 50,
     "metadata": {},
     "output_type": "execute_result"
    }
   ],
   "source": [
    "list(_keys)  # 아무튼 그 이상한 자료형도 리스트화가 가능"
   ]
  },
  {
   "cell_type": "markdown",
   "id": "18332ce5",
   "metadata": {},
   "source": [
    "`-`.values()는 딕셔너리의 키를 리턴한다."
   ]
  },
  {
   "cell_type": "code",
   "execution_count": 51,
   "id": "44711098",
   "metadata": {},
   "outputs": [
    {
     "data": {
      "text/plain": [
       "dict_values([49, 80])"
      ]
     },
     "execution_count": 51,
     "metadata": {},
     "output_type": "execute_result"
    }
   ],
   "source": [
    "_values=score.values()\n",
    "_values"
   ]
  },
  {
   "cell_type": "code",
   "execution_count": 52,
   "id": "d8c06338",
   "metadata": {},
   "outputs": [
    {
     "data": {
      "text/plain": [
       "dict_values"
      ]
     },
     "execution_count": 52,
     "metadata": {},
     "output_type": "execute_result"
    }
   ],
   "source": [
    "type(_values)"
   ]
  },
  {
   "cell_type": "code",
   "execution_count": 53,
   "id": "fe128fd1",
   "metadata": {},
   "outputs": [
    {
     "data": {
      "text/plain": [
       "[49, 80]"
      ]
     },
     "execution_count": 53,
     "metadata": {},
     "output_type": "execute_result"
    }
   ],
   "source": [
    "list(_values)"
   ]
  },
  {
   "cell_type": "markdown",
   "id": "886a50ac",
   "metadata": {},
   "source": [
    "`-`.items()는 딕셔너리의 키를 리턴한다."
   ]
  },
  {
   "cell_type": "code",
   "execution_count": 54,
   "id": "449a3d88",
   "metadata": {},
   "outputs": [
    {
     "data": {
      "text/plain": [
       "dict_items([('boram', 49), ('iu', 80)])"
      ]
     },
     "execution_count": 54,
     "metadata": {},
     "output_type": "execute_result"
    }
   ],
   "source": [
    "_items=score.items()\n",
    "_items"
   ]
  },
  {
   "cell_type": "code",
   "execution_count": 56,
   "id": "bf737195",
   "metadata": {},
   "outputs": [
    {
     "data": {
      "text/plain": [
       "dict_items"
      ]
     },
     "execution_count": 56,
     "metadata": {},
     "output_type": "execute_result"
    }
   ],
   "source": [
    "type(_items)"
   ]
  },
  {
   "cell_type": "code",
   "execution_count": 57,
   "id": "ba5029d8",
   "metadata": {},
   "outputs": [
    {
     "data": {
      "text/plain": [
       "[('boram', 49), ('iu', 80)]"
      ]
     },
     "execution_count": 57,
     "metadata": {},
     "output_type": "execute_result"
    }
   ],
   "source": [
    "list(_items)"
   ]
  },
  {
   "cell_type": "markdown",
   "id": "fb81443d",
   "metadata": {},
   "source": [
    "`-` for문에서의 dict"
   ]
  },
  {
   "cell_type": "markdown",
   "id": "63ab754a",
   "metadata": {},
   "source": [
    "(예시1)"
   ]
  },
  {
   "cell_type": "code",
   "execution_count": 59,
   "id": "965590c1",
   "metadata": {},
   "outputs": [
    {
     "name": "stdout",
     "output_type": "stream",
     "text": [
      "boram\n",
      "iu\n"
     ]
    }
   ],
   "source": [
    "for i in score.keys():\n",
    "    print(i)"
   ]
  },
  {
   "cell_type": "code",
   "execution_count": 60,
   "id": "39f7242b",
   "metadata": {},
   "outputs": [
    {
     "name": "stdout",
     "output_type": "stream",
     "text": [
      "boram\n",
      "iu\n"
     ]
    }
   ],
   "source": [
    "for i in score:\n",
    "    print(i)"
   ]
  },
  {
   "cell_type": "markdown",
   "id": "6fe5606b",
   "metadata": {},
   "source": [
    "- 딕셔너리 그자체도 for문에 넣을 수 있다.\n",
    "- i에는 value가 삭제되어 들어간다. (즉 key만)\n",
    "- 결과를 보면 score대신에 score.keys()와 list(score)를 넣었을때와 결과가 같다."
   ]
  },
  {
   "cell_type": "markdown",
   "id": "4035fef1",
   "metadata": {},
   "source": [
    "> Note: list(score)하면 key만 리턴된다."
   ]
  },
  {
   "cell_type": "markdown",
   "id": "8facc18e",
   "metadata": {},
   "source": [
    "(예시2)"
   ]
  },
  {
   "cell_type": "code",
   "execution_count": 61,
   "id": "f859be16",
   "metadata": {},
   "outputs": [
    {
     "name": "stdout",
     "output_type": "stream",
     "text": [
      "49\n",
      "80\n"
     ]
    }
   ],
   "source": [
    "for i in score.values():\n",
    "    print(i)"
   ]
  },
  {
   "cell_type": "markdown",
   "id": "0c09f116",
   "metadata": {},
   "source": [
    "(예시3)"
   ]
  },
  {
   "cell_type": "code",
   "execution_count": 62,
   "id": "646e4202",
   "metadata": {},
   "outputs": [
    {
     "name": "stdout",
     "output_type": "stream",
     "text": [
      "('boram', 49)\n",
      "('iu', 80)\n"
     ]
    }
   ],
   "source": [
    "for k in score.items():\n",
    "    print(k)"
   ]
  },
  {
   "cell_type": "markdown",
   "id": "3b24a489",
   "metadata": {},
   "source": [
    "(예시4)"
   ]
  },
  {
   "cell_type": "code",
   "execution_count": 63,
   "id": "1490d7c3",
   "metadata": {},
   "outputs": [
    {
     "name": "stdout",
     "output_type": "stream",
     "text": [
      "boram 49\n",
      "iu 80\n"
     ]
    }
   ],
   "source": [
    "for i,j in score.items():\n",
    "    print(i,j)"
   ]
  },
  {
   "cell_type": "markdown",
   "id": "e3247150",
   "metadata": {},
   "source": [
    "(예시5)"
   ]
  },
  {
   "cell_type": "code",
   "execution_count": 67,
   "id": "7742c1cb",
   "metadata": {},
   "outputs": [
    {
     "name": "stdout",
     "output_type": "stream",
     "text": [
      "boram의 중간고사 점수는 49점입니다\n",
      "iu의 중간고사 점수는 80점입니다\n"
     ]
    }
   ],
   "source": [
    "for i,j in score.items():\n",
    "    print(i + '의 중간고사 점수는 %s점입니다' %j)"
   ]
  },
  {
   "cell_type": "markdown",
   "id": "3eed3ffd",
   "metadata": {},
   "source": [
    "[보충학습] 문자열 새치기"
   ]
  },
  {
   "cell_type": "code",
   "execution_count": 71,
   "id": "3a435b2c",
   "metadata": {},
   "outputs": [
    {
     "data": {
      "text/plain": [
       "'제 이름은 김보람입니다.'"
      ]
     },
     "execution_count": 71,
     "metadata": {},
     "output_type": "execute_result"
    }
   ],
   "source": [
    "'제 이름은 %s입니다.'  % '김보람' "
   ]
  },
  {
   "cell_type": "code",
   "execution_count": 72,
   "id": "a2868902",
   "metadata": {},
   "outputs": [
    {
     "data": {
      "text/plain": [
       "'제 이름은 [1, 2]입니다.'"
      ]
     },
     "execution_count": 72,
     "metadata": {},
     "output_type": "execute_result"
    }
   ],
   "source": [
    "'제 이름은 %s입니다.'  % [1,2]"
   ]
  },
  {
   "cell_type": "code",
   "execution_count": 69,
   "id": "1ce9d32c",
   "metadata": {},
   "outputs": [
    {
     "data": {
      "text/plain": [
       "2"
      ]
     },
     "execution_count": 69,
     "metadata": {},
     "output_type": "execute_result"
    }
   ],
   "source": [
    "1+1"
   ]
  },
  {
   "cell_type": "code",
   "execution_count": 70,
   "id": "40da2949",
   "metadata": {},
   "outputs": [
    {
     "data": {
      "text/plain": [
       "[1, 2, 3, 4]"
      ]
     },
     "execution_count": 70,
     "metadata": {},
     "output_type": "execute_result"
    }
   ],
   "source": [
    "[1,2]+[3,4]"
   ]
  },
  {
   "cell_type": "markdown",
   "id": "2f64e90c",
   "metadata": {},
   "source": [
    "- %는 새치기연산자임. %s는 새치기하는 자리라고 생각"
   ]
  },
  {
   "cell_type": "markdown",
   "id": "5046284d",
   "metadata": {},
   "source": [
    "보충학습끝"
   ]
  },
  {
   "cell_type": "markdown",
   "id": "7fdb6d4b",
   "metadata": {},
   "source": [
    "### 딕셔너리 고급"
   ]
  },
  {
   "cell_type": "markdown",
   "id": "76a9d1cf",
   "metadata": {},
   "source": [
    "키는 문자열만 가능한 것이 아니다."
   ]
  },
  {
   "cell_type": "markdown",
   "id": "aa614a3c",
   "metadata": {},
   "source": [
    "`-` 정수키"
   ]
  },
  {
   "cell_type": "code",
   "execution_count": 84,
   "id": "0d87f065",
   "metadata": {},
   "outputs": [
    {
     "data": {
      "text/plain": [
       "{0: 49, 1: 99}"
      ]
     },
     "execution_count": 84,
     "metadata": {},
     "output_type": "execute_result"
    }
   ],
   "source": [
    "score = {0:49, 1:80, 1:99} # key를 0,1,2로\n",
    "score"
   ]
  },
  {
   "cell_type": "markdown",
   "id": "d29dcf94",
   "metadata": {},
   "source": [
    "`-` 인덱싱은?"
   ]
  },
  {
   "cell_type": "code",
   "execution_count": 85,
   "id": "4c0104cb",
   "metadata": {},
   "outputs": [
    {
     "data": {
      "text/plain": [
       "49"
      ]
     },
     "execution_count": 85,
     "metadata": {},
     "output_type": "execute_result"
    }
   ],
   "source": [
    "score[0] # 키로 인덱싱을 하고 있는데 마치 원소의 위치로 인덱싱을 하는 기분\n"
   ]
  },
  {
   "cell_type": "markdown",
   "id": "d6a5fadb",
   "metadata": {},
   "source": [
    "`-` 그럼 혹시 이것도?"
   ]
  },
  {
   "cell_type": "code",
   "execution_count": 83,
   "id": "67f8d7d2",
   "metadata": {},
   "outputs": [
    {
     "ename": "TypeError",
     "evalue": "unhashable type: 'slice'",
     "output_type": "error",
     "traceback": [
      "\u001b[1;31m---------------------------------------------------------------------------\u001b[0m",
      "\u001b[1;31mTypeError\u001b[0m                                 Traceback (most recent call last)",
      "Input \u001b[1;32mIn [83]\u001b[0m, in \u001b[0;36m<cell line: 1>\u001b[1;34m()\u001b[0m\n\u001b[1;32m----> 1\u001b[0m \u001b[43mscore\u001b[49m\u001b[43m[\u001b[49m\u001b[43m:\u001b[49m\u001b[38;5;241;43m2\u001b[39;49m\u001b[43m]\u001b[49m\n",
      "\u001b[1;31mTypeError\u001b[0m: unhashable type: 'slice'"
     ]
    }
   ],
   "source": [
    "score[:2]"
   ]
  },
  {
   "cell_type": "code",
   "execution_count": 87,
   "id": "c8a9a66b",
   "metadata": {},
   "outputs": [
    {
     "ename": "KeyError",
     "evalue": "-1",
     "output_type": "error",
     "traceback": [
      "\u001b[1;31m---------------------------------------------------------------------------\u001b[0m",
      "\u001b[1;31mKeyError\u001b[0m                                  Traceback (most recent call last)",
      "Input \u001b[1;32mIn [87]\u001b[0m, in \u001b[0;36m<cell line: 1>\u001b[1;34m()\u001b[0m\n\u001b[1;32m----> 1\u001b[0m \u001b[43mscore\u001b[49m\u001b[43m[\u001b[49m\u001b[38;5;241;43m-\u001b[39;49m\u001b[38;5;241;43m1\u001b[39;49m\u001b[43m]\u001b[49m\n",
      "\u001b[1;31mKeyError\u001b[0m: -1"
     ]
    }
   ],
   "source": [
    "score[-1]   # 될리가 없지.."
   ]
  },
  {
   "cell_type": "markdown",
   "id": "66da5681",
   "metadata": {},
   "source": [
    "`-` key로 가능한 것이 문자열만 가능한 것이 아니라 다른 것도 가능하다. (숫자,튜플,,)"
   ]
  },
  {
   "cell_type": "markdown",
   "id": "03cf1f78",
   "metadata": {},
   "source": [
    "(예시)"
   ]
  },
  {
   "cell_type": "code",
   "execution_count": 89,
   "id": "9f1e519f",
   "metadata": {},
   "outputs": [
    {
     "data": {
      "text/plain": [
       "{(0, 'boram'): 49, (1, 'iu'): 80, (2, 'hynn'): 99}"
      ]
     },
     "execution_count": 89,
     "metadata": {},
     "output_type": "execute_result"
    }
   ],
   "source": [
    "score={(0,'boram'):49, (1, 'iu'):80, (2, 'hynn'):99}\n",
    "score"
   ]
  },
  {
   "cell_type": "code",
   "execution_count": 90,
   "id": "66832ae0",
   "metadata": {},
   "outputs": [
    {
     "data": {
      "text/plain": [
       "49"
      ]
     },
     "execution_count": 90,
     "metadata": {},
     "output_type": "execute_result"
    }
   ],
   "source": [
    "score[(0,'boram')]"
   ]
  },
  {
   "cell_type": "code",
   "execution_count": 91,
   "id": "79313461",
   "metadata": {},
   "outputs": [
    {
     "data": {
      "text/plain": [
       "49"
      ]
     },
     "execution_count": 91,
     "metadata": {},
     "output_type": "execute_result"
    }
   ],
   "source": [
    "score[0,'boram'] #tuple이니까 가로 생략 가능"
   ]
  },
  {
   "cell_type": "markdown",
   "id": "3f66ffbd",
   "metadata": {},
   "source": [
    "(예시)"
   ]
  },
  {
   "cell_type": "code",
   "execution_count": 92,
   "id": "38c9656b",
   "metadata": {},
   "outputs": [
    {
     "data": {
      "text/plain": [
       "{('boram', 0): 10, ('boram', 1): 20, ('boram', 2): 30}"
      ]
     },
     "execution_count": 92,
     "metadata": {},
     "output_type": "execute_result"
    }
   ],
   "source": [
    "score={('boram',0):10, ('boram',1):20, ('boram',2):30} #0은 출석점수, 1은 레포트 점수, 2는 중간고사 점수\n",
    "score"
   ]
  },
  {
   "cell_type": "code",
   "execution_count": 93,
   "id": "eee5345f",
   "metadata": {},
   "outputs": [
    {
     "data": {
      "text/plain": [
       "10"
      ]
     },
     "execution_count": 93,
     "metadata": {},
     "output_type": "execute_result"
    }
   ],
   "source": [
    "score[('boram',0)]"
   ]
  },
  {
   "cell_type": "code",
   "execution_count": 98,
   "id": "c2c855db",
   "metadata": {},
   "outputs": [
    {
     "data": {
      "text/plain": [
       "10"
      ]
     },
     "execution_count": 98,
     "metadata": {},
     "output_type": "execute_result"
    }
   ],
   "source": [
    "score['boram',0]"
   ]
  },
  {
   "cell_type": "code",
   "execution_count": 101,
   "id": "4d508d6a",
   "metadata": {},
   "outputs": [],
   "source": [
    "score[('broam,3')] = 99  # 보람의 기말고사 점수를 추가"
   ]
  },
  {
   "cell_type": "code",
   "execution_count": 102,
   "id": "a397b9e9",
   "metadata": {},
   "outputs": [
    {
     "data": {
      "text/plain": [
       "{('boram', 0): 10, ('boram', 1): 20, ('boram', 2): 30, 'broam,3': 99}"
      ]
     },
     "execution_count": 102,
     "metadata": {},
     "output_type": "execute_result"
    }
   ],
   "source": [
    "score"
   ]
  },
  {
   "cell_type": "markdown",
   "id": "176aaeb3",
   "metadata": {},
   "source": [
    "`-` 문자열, 숫자값, 튜플의 공통점? 불변객체"
   ]
  },
  {
   "cell_type": "code",
   "execution_count": 103,
   "id": "b2323bba",
   "metadata": {},
   "outputs": [],
   "source": [
    "a=11"
   ]
  },
  {
   "cell_type": "code",
   "execution_count": 104,
   "id": "ae8cce34",
   "metadata": {},
   "outputs": [],
   "source": [
    "a=22  # 22로 수정된 것이 아니고 재할당된것임.."
   ]
  },
  {
   "cell_type": "code",
   "execution_count": 105,
   "id": "6ded23f5",
   "metadata": {},
   "outputs": [
    {
     "data": {
      "text/plain": [
       "22"
      ]
     },
     "execution_count": 105,
     "metadata": {},
     "output_type": "execute_result"
    }
   ],
   "source": [
    "a"
   ]
  },
  {
   "cell_type": "code",
   "execution_count": 106,
   "id": "b40dda3d",
   "metadata": {},
   "outputs": [],
   "source": [
    "a='boram'"
   ]
  },
  {
   "cell_type": "code",
   "execution_count": 107,
   "id": "3a5eedf5",
   "metadata": {},
   "outputs": [],
   "source": [
    "a='Broam'"
   ]
  },
  {
   "cell_type": "code",
   "execution_count": 108,
   "id": "6fcc00b2",
   "metadata": {},
   "outputs": [
    {
     "data": {
      "text/plain": [
       "'Broam'"
      ]
     },
     "execution_count": 108,
     "metadata": {},
     "output_type": "execute_result"
    }
   ],
   "source": [
    "a  # 이것도 재할당.."
   ]
  },
  {
   "cell_type": "code",
   "execution_count": 109,
   "id": "0c708b01",
   "metadata": {},
   "outputs": [
    {
     "data": {
      "text/plain": [
       "'B'"
      ]
     },
     "execution_count": 109,
     "metadata": {},
     "output_type": "execute_result"
    }
   ],
   "source": [
    "a[0]"
   ]
  },
  {
   "cell_type": "code",
   "execution_count": 110,
   "id": "35d2a7e3",
   "metadata": {},
   "outputs": [
    {
     "ename": "TypeError",
     "evalue": "'str' object does not support item assignment",
     "output_type": "error",
     "traceback": [
      "\u001b[1;31m---------------------------------------------------------------------------\u001b[0m",
      "\u001b[1;31mTypeError\u001b[0m                                 Traceback (most recent call last)",
      "Input \u001b[1;32mIn [110]\u001b[0m, in \u001b[0;36m<cell line: 1>\u001b[1;34m()\u001b[0m\n\u001b[1;32m----> 1\u001b[0m a[\u001b[38;5;241m0\u001b[39m]\u001b[38;5;241m=\u001b[39m\u001b[38;5;124m'\u001b[39m\u001b[38;5;124mb\u001b[39m\u001b[38;5;124m'\u001b[39m\n",
      "\u001b[1;31mTypeError\u001b[0m: 'str' object does not support item assignment"
     ]
    }
   ],
   "source": [
    "a[0]='b'  # 문자열 불변"
   ]
  },
  {
   "cell_type": "code",
   "execution_count": null,
   "id": "517e8baf",
   "metadata": {},
   "outputs": [],
   "source": [
    "# 수정이랑 재할당을 구분하는 방법 -> 메모리 주소 값을 찍어보면 된다."
   ]
  },
  {
   "cell_type": "markdown",
   "id": "5b37d634",
   "metadata": {},
   "source": [
    "[참고로만]\n",
    "\n",
    "\n",
    "(인트형은 불변)"
   ]
  },
  {
   "cell_type": "code",
   "execution_count": 113,
   "id": "495d44f4",
   "metadata": {},
   "outputs": [
    {
     "data": {
      "text/plain": [
       "(1, 2254873389360)"
      ]
     },
     "execution_count": 113,
     "metadata": {},
     "output_type": "execute_result"
    }
   ],
   "source": [
    "a=1\n",
    "a, id(a)"
   ]
  },
  {
   "cell_type": "code",
   "execution_count": 115,
   "id": "bf189873",
   "metadata": {},
   "outputs": [
    {
     "data": {
      "text/plain": [
       "(2, 2254873389392)"
      ]
     },
     "execution_count": 115,
     "metadata": {},
     "output_type": "execute_result"
    }
   ],
   "source": [
    "a=2\n",
    "a, id(a)"
   ]
  },
  {
   "cell_type": "markdown",
   "id": "207f0e23",
   "metadata": {},
   "source": [
    "(문자열도 불변)"
   ]
  },
  {
   "cell_type": "code",
   "execution_count": 116,
   "id": "925dd068",
   "metadata": {},
   "outputs": [
    {
     "data": {
      "text/plain": [
       "('boram', 2254959000432)"
      ]
     },
     "execution_count": 116,
     "metadata": {},
     "output_type": "execute_result"
    }
   ],
   "source": [
    "a='boram'\n",
    "a, id(a)"
   ]
  },
  {
   "cell_type": "code",
   "execution_count": 117,
   "id": "c9ea45e9",
   "metadata": {},
   "outputs": [
    {
     "data": {
      "text/plain": [
       "('Boram', 2254988509296)"
      ]
     },
     "execution_count": 117,
     "metadata": {},
     "output_type": "execute_result"
    }
   ],
   "source": [
    "a='Boram'\n",
    "a, id(a)"
   ]
  },
  {
   "cell_type": "markdown",
   "id": "ff2207a1",
   "metadata": {},
   "source": [
    "(리스트는 가변)"
   ]
  },
  {
   "cell_type": "code",
   "execution_count": 118,
   "id": "f1aa9f81",
   "metadata": {},
   "outputs": [
    {
     "data": {
      "text/plain": [
       "(['b', 'o', 'r', 'a', 'm'], 2254989018304)"
      ]
     },
     "execution_count": 118,
     "metadata": {},
     "output_type": "execute_result"
    }
   ],
   "source": [
    "a=list('boram')\n",
    "a, id(a)"
   ]
  },
  {
   "cell_type": "code",
   "execution_count": 119,
   "id": "e091f694",
   "metadata": {},
   "outputs": [],
   "source": [
    "a[0]='B'"
   ]
  },
  {
   "cell_type": "code",
   "execution_count": 120,
   "id": "2545c528",
   "metadata": {},
   "outputs": [
    {
     "data": {
      "text/plain": [
       "(['B', 'o', 'r', 'a', 'm'], 2254989018304)"
      ]
     },
     "execution_count": 120,
     "metadata": {},
     "output_type": "execute_result"
    }
   ],
   "source": [
    "a,id(a)   #id가 같다. 편집!"
   ]
  },
  {
   "cell_type": "markdown",
   "id": "8c8e365d",
   "metadata": {},
   "source": [
    "### 집합"
   ]
  },
  {
   "cell_type": "markdown",
   "id": "7cefe86f",
   "metadata": {},
   "source": [
    "#### 선언"
   ]
  },
  {
   "cell_type": "code",
   "execution_count": 121,
   "id": "80099f28",
   "metadata": {},
   "outputs": [],
   "source": [
    "a={'notebook', 'desktop'}"
   ]
  },
  {
   "cell_type": "markdown",
   "id": "ef25f0ea",
   "metadata": {},
   "source": [
    "#### 원소추출"
   ]
  },
  {
   "cell_type": "markdown",
   "id": "b46ce2bd",
   "metadata": {},
   "source": [
    "`-` 일단 인덱스로는 못한다."
   ]
  },
  {
   "cell_type": "code",
   "execution_count": 123,
   "id": "ad4b91af",
   "metadata": {},
   "outputs": [
    {
     "ename": "TypeError",
     "evalue": "'set' object is not subscriptable",
     "output_type": "error",
     "traceback": [
      "\u001b[1;31m---------------------------------------------------------------------------\u001b[0m",
      "\u001b[1;31mTypeError\u001b[0m                                 Traceback (most recent call last)",
      "Input \u001b[1;32mIn [123]\u001b[0m, in \u001b[0;36m<cell line: 2>\u001b[1;34m()\u001b[0m\n\u001b[0;32m      1\u001b[0m a\u001b[38;5;241m=\u001b[39m{\u001b[38;5;124m'\u001b[39m\u001b[38;5;124mnotebook\u001b[39m\u001b[38;5;124m'\u001b[39m, \u001b[38;5;124m'\u001b[39m\u001b[38;5;124mdesktop\u001b[39m\u001b[38;5;124m'\u001b[39m}\n\u001b[1;32m----> 2\u001b[0m \u001b[43ma\u001b[49m\u001b[43m[\u001b[49m\u001b[38;5;241;43m0\u001b[39;49m\u001b[43m]\u001b[49m\n",
      "\u001b[1;31mTypeError\u001b[0m: 'set' object is not subscriptable"
     ]
    }
   ],
   "source": [
    "a={'notebook', 'desktop'}\n",
    "a[0]"
   ]
  },
  {
   "cell_type": "markdown",
   "id": "b4bc0c4e",
   "metadata": {},
   "source": [
    "`-` 딱히 하는 방법이 없다. 그리고 이걸 하는 의미가 없다. 원소에 접근해서 뭐하려고...!!"
   ]
  },
  {
   "cell_type": "markdown",
   "id": "51665cfb",
   "metadata": {},
   "source": [
    "원소추가"
   ]
  },
  {
   "cell_type": "markdown",
   "id": "7ae501b4",
   "metadata": {},
   "source": [
    "`-` 이건 의미가 있다."
   ]
  },
  {
   "cell_type": "code",
   "execution_count": 130,
   "id": "f847118b",
   "metadata": {},
   "outputs": [],
   "source": [
    "a={'notebook', 'desktop'}"
   ]
  },
  {
   "cell_type": "code",
   "execution_count": 131,
   "id": "1d794df2",
   "metadata": {},
   "outputs": [
    {
     "data": {
      "text/plain": [
       "{'desktop', 'ipad', 'notebook'}"
      ]
     },
     "execution_count": 131,
     "metadata": {},
     "output_type": "execute_result"
    }
   ],
   "source": [
    "a.add('ipad')\n",
    "a"
   ]
  },
  {
   "cell_type": "code",
   "execution_count": 133,
   "id": "5ebdfc60",
   "metadata": {},
   "outputs": [
    {
     "data": {
      "text/plain": [
       "{'desktop', 'ipad', 'notebook'}"
      ]
     },
     "execution_count": 133,
     "metadata": {},
     "output_type": "execute_result"
    }
   ],
   "source": [
    "a.add('notebook') # 이미 원소로 있는 건 추가 되지 않음\n",
    "a"
   ]
  },
  {
   "cell_type": "markdown",
   "id": "99cd740b",
   "metadata": {},
   "source": [
    "원소삭제"
   ]
  },
  {
   "cell_type": "code",
   "execution_count": 134,
   "id": "2058562d",
   "metadata": {},
   "outputs": [
    {
     "data": {
      "text/plain": [
       "{'desktop', 'ipad'}"
      ]
     },
     "execution_count": 134,
     "metadata": {},
     "output_type": "execute_result"
    }
   ],
   "source": [
    "a.remove('notebook')\n",
    "a"
   ]
  },
  {
   "cell_type": "markdown",
   "id": "d1d61323",
   "metadata": {},
   "source": [
    "연산"
   ]
  },
  {
   "cell_type": "markdown",
   "id": "b26382a4",
   "metadata": {},
   "source": [
    "`-` in 연산자"
   ]
  },
  {
   "cell_type": "code",
   "execution_count": 135,
   "id": "ea5b8266",
   "metadata": {},
   "outputs": [
    {
     "data": {
      "text/plain": [
       "True"
      ]
     },
     "execution_count": 135,
     "metadata": {},
     "output_type": "execute_result"
    }
   ],
   "source": [
    "1 in [1,2,3,4]"
   ]
  },
  {
   "cell_type": "code",
   "execution_count": 136,
   "id": "aed25d37",
   "metadata": {},
   "outputs": [
    {
     "data": {
      "text/plain": [
       "False"
      ]
     },
     "execution_count": 136,
     "metadata": {},
     "output_type": "execute_result"
    }
   ],
   "source": [
    "5 in [1,2,3,4]"
   ]
  },
  {
   "cell_type": "code",
   "execution_count": 137,
   "id": "89e395c9",
   "metadata": {},
   "outputs": [
    {
     "data": {
      "text/plain": [
       "('desktop', 'ipad', 'notebook')"
      ]
     },
     "execution_count": 137,
     "metadata": {},
     "output_type": "execute_result"
    }
   ],
   "source": [
    "a=('desktop','ipad','notebook')\n",
    "a"
   ]
  },
  {
   "cell_type": "code",
   "execution_count": 138,
   "id": "82a16d75",
   "metadata": {},
   "outputs": [
    {
     "data": {
      "text/plain": [
       "True"
      ]
     },
     "execution_count": 138,
     "metadata": {},
     "output_type": "execute_result"
    }
   ],
   "source": [
    "'notebook' in a"
   ]
  },
  {
   "cell_type": "markdown",
   "id": "c5c1984a",
   "metadata": {},
   "source": [
    "`-` 참고로 `in` 연산자는 집합에서만 쓰는 것은 아님"
   ]
  },
  {
   "cell_type": "markdown",
   "id": "88601bab",
   "metadata": {},
   "source": [
    "`-` 합집합, 교집합, 차집합"
   ]
  },
  {
   "cell_type": "code",
   "execution_count": 139,
   "id": "d8e3affe",
   "metadata": {},
   "outputs": [],
   "source": [
    "day1 = {'notebook', 'desktop'}\n",
    "day2 = {'notebook', 'ipad'}"
   ]
  },
  {
   "cell_type": "code",
   "execution_count": 140,
   "id": "b43dff3b",
   "metadata": {},
   "outputs": [
    {
     "data": {
      "text/plain": [
       "{'desktop', 'ipad', 'notebook'}"
      ]
     },
     "execution_count": 140,
     "metadata": {},
     "output_type": "execute_result"
    }
   ],
   "source": [
    "day1 | day2   # 합집합"
   ]
  },
  {
   "cell_type": "code",
   "execution_count": 141,
   "id": "01246f74",
   "metadata": {},
   "outputs": [
    {
     "data": {
      "text/plain": [
       "{'notebook'}"
      ]
     },
     "execution_count": 141,
     "metadata": {},
     "output_type": "execute_result"
    }
   ],
   "source": [
    "day1 & day2 # 교집합"
   ]
  },
  {
   "cell_type": "code",
   "execution_count": 142,
   "id": "20bbb31a",
   "metadata": {},
   "outputs": [
    {
     "data": {
      "text/plain": [
       "{'desktop'}"
      ]
     },
     "execution_count": 142,
     "metadata": {},
     "output_type": "execute_result"
    }
   ],
   "source": [
    "day1 - day2  # 차집합"
   ]
  },
  {
   "cell_type": "code",
   "execution_count": 143,
   "id": "4b453658",
   "metadata": {},
   "outputs": [
    {
     "data": {
      "text/plain": [
       "{'ipad'}"
      ]
     },
     "execution_count": 143,
     "metadata": {},
     "output_type": "execute_result"
    }
   ],
   "source": [
    "day2 - day1"
   ]
  },
  {
   "cell_type": "markdown",
   "id": "40103f02",
   "metadata": {},
   "source": [
    "`-` 부분집합"
   ]
  },
  {
   "cell_type": "code",
   "execution_count": 144,
   "id": "1a37c6c3",
   "metadata": {},
   "outputs": [],
   "source": [
    "day1={'notebook','desktop'}\n",
    "day2= day1 | {'ipad'}"
   ]
  },
  {
   "cell_type": "code",
   "execution_count": 145,
   "id": "79213efc",
   "metadata": {},
   "outputs": [
    {
     "data": {
      "text/plain": [
       "{'desktop', 'notebook'}"
      ]
     },
     "execution_count": 145,
     "metadata": {},
     "output_type": "execute_result"
    }
   ],
   "source": [
    "day1"
   ]
  },
  {
   "cell_type": "code",
   "execution_count": 146,
   "id": "13f95ce8",
   "metadata": {},
   "outputs": [
    {
     "data": {
      "text/plain": [
       "{'desktop', 'ipad', 'notebook'}"
      ]
     },
     "execution_count": 146,
     "metadata": {},
     "output_type": "execute_result"
    }
   ],
   "source": [
    "day2"
   ]
  },
  {
   "cell_type": "code",
   "execution_count": 147,
   "id": "adce350d",
   "metadata": {},
   "outputs": [
    {
     "data": {
      "text/plain": [
       "True"
      ]
     },
     "execution_count": 147,
     "metadata": {},
     "output_type": "execute_result"
    }
   ],
   "source": [
    "day1<day2   # day1는 day2의 부분집합인가?"
   ]
  },
  {
   "cell_type": "code",
   "execution_count": 148,
   "id": "161b3f67",
   "metadata": {},
   "outputs": [
    {
     "data": {
      "text/plain": [
       "False"
      ]
     },
     "execution_count": 148,
     "metadata": {},
     "output_type": "execute_result"
    }
   ],
   "source": [
    "day2<day1"
   ]
  },
  {
   "cell_type": "markdown",
   "id": "392d5b2b",
   "metadata": {},
   "source": [
    "**메소드**"
   ]
  },
  {
   "cell_type": "markdown",
   "id": "e17d97e8",
   "metadata": {},
   "source": [
    "`-` 합집합"
   ]
  },
  {
   "cell_type": "code",
   "execution_count": 149,
   "id": "44b810a8",
   "metadata": {},
   "outputs": [],
   "source": [
    "day1= {'notebook','desktop'}\n",
    "day2 = {'notebook','ipad'}"
   ]
  },
  {
   "cell_type": "code",
   "execution_count": 153,
   "id": "e9ee1895",
   "metadata": {},
   "outputs": [
    {
     "data": {
      "text/plain": [
       "{'desktop', 'ipad', 'notebook'}"
      ]
     },
     "execution_count": 153,
     "metadata": {},
     "output_type": "execute_result"
    }
   ],
   "source": [
    "day1.union(day2)"
   ]
  },
  {
   "cell_type": "code",
   "execution_count": null,
   "id": "166e7283",
   "metadata": {},
   "outputs": [],
   "source": [
    "# 나머지 메소드는 스스로 찾아보세용"
   ]
  },
  {
   "cell_type": "markdown",
   "id": "612bccbb",
   "metadata": {},
   "source": [
    "**for문**"
   ]
  },
  {
   "cell_type": "code",
   "execution_count": 151,
   "id": "e6ea1410",
   "metadata": {},
   "outputs": [],
   "source": [
    "day1= {'notebook','desktop'}\n",
    "day2 = {'notebook','ipad'}"
   ]
  },
  {
   "cell_type": "code",
   "execution_count": 152,
   "id": "848ae733",
   "metadata": {},
   "outputs": [
    {
     "name": "stdout",
     "output_type": "stream",
     "text": [
      "desktop\n",
      "ipad\n",
      "notebook\n"
     ]
    }
   ],
   "source": [
    "for i in day1|day2:\n",
    "    print(i)"
   ]
  },
  {
   "cell_type": "markdown",
   "id": "e37ee3b6",
   "metadata": {},
   "source": [
    "(숙제)\n",
    "길이가 4인 집합을 두개만들고 공통원소를 2개로 설정한 뒤 합집합을 구하는 코드를 작성하라."
   ]
  },
  {
   "cell_type": "code",
   "execution_count": 154,
   "id": "70d0c95e",
   "metadata": {},
   "outputs": [],
   "source": [
    "boram={'father','mother','me','coco'}"
   ]
  },
  {
   "cell_type": "code",
   "execution_count": 155,
   "id": "cdd7f8a5",
   "metadata": {},
   "outputs": [
    {
     "data": {
      "text/plain": [
       "4"
      ]
     },
     "execution_count": 155,
     "metadata": {},
     "output_type": "execute_result"
    }
   ],
   "source": [
    "len(boram)\n"
   ]
  },
  {
   "cell_type": "code",
   "execution_count": 159,
   "id": "d55b819d",
   "metadata": {},
   "outputs": [],
   "source": [
    "su={'father','mother','su','name'}"
   ]
  },
  {
   "cell_type": "code",
   "execution_count": 160,
   "id": "611e65a6",
   "metadata": {},
   "outputs": [
    {
     "data": {
      "text/plain": [
       "4"
      ]
     },
     "execution_count": 160,
     "metadata": {},
     "output_type": "execute_result"
    }
   ],
   "source": [
    "len(su)"
   ]
  },
  {
   "cell_type": "code",
   "execution_count": 161,
   "id": "ec6fd211",
   "metadata": {},
   "outputs": [
    {
     "data": {
      "text/plain": [
       "{'coco', 'father', 'me', 'mother', 'name', 'su'}"
      ]
     },
     "execution_count": 161,
     "metadata": {},
     "output_type": "execute_result"
    }
   ],
   "source": [
    "boram | su"
   ]
  },
  {
   "cell_type": "code",
   "execution_count": null,
   "id": "bb6ea54c",
   "metadata": {},
   "outputs": [],
   "source": []
  }
 ],
 "metadata": {
  "kernelspec": {
   "display_name": "Python 3",
   "language": "python",
   "name": "python3"
  },
  "language_info": {
   "codemirror_mode": {
    "name": "ipython",
    "version": 3
   },
   "file_extension": ".py",
   "mimetype": "text/x-python",
   "name": "python",
   "nbconvert_exporter": "python",
   "pygments_lexer": "ipython3",
   "version": "3.7.16"
  },
  "toc": {
   "base_numbering": 1,
   "nav_menu": {},
   "number_sections": true,
   "sideBar": true,
   "skip_h1_title": false,
   "title_cell": "Table of Contents",
   "title_sidebar": "Contents",
   "toc_cell": false,
   "toc_position": {},
   "toc_section_display": true,
   "toc_window_display": false
  }
 },
 "nbformat": 4,
 "nbformat_minor": 5
}
