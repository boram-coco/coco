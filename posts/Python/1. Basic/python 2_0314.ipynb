{
 "cells": [
  {
   "cell_type": "raw",
   "id": "05d323c2-b4f0-46eb-b5d5-4d793bd5e2e4",
   "metadata": {},
   "source": [
    "---\n",
    "title: \"파이썬 (0314) 2주차 \"\n",
    "author: \"김보람\"\n",
    "date: \"03/14/2022\"\n",
    "categories:\n",
    "  - 리스트\n",
    "---"
   ]
  },
  {
   "cell_type": "markdown",
   "id": "1c61abd3",
   "metadata": {},
   "source": [
    "# 리스트"
   ]
  },
  {
   "cell_type": "markdown",
   "id": "7f78b664",
   "metadata": {},
   "source": [
    "## 선언"
   ]
  },
  {
   "cell_type": "markdown",
   "id": "c5cf1f73",
   "metadata": {},
   "source": [
    "`-` 리스트의 선언"
   ]
  },
  {
   "cell_type": "code",
   "execution_count": 2,
   "id": "048dcce8",
   "metadata": {},
   "outputs": [
    {
     "data": {
      "text/plain": [
       "[11, 22]"
      ]
     },
     "execution_count": 2,
     "metadata": {},
     "output_type": "execute_result"
    }
   ],
   "source": [
    "a=[11,22]\n",
    "a"
   ]
  },
  {
   "cell_type": "code",
   "execution_count": 3,
   "id": "51f17531",
   "metadata": {},
   "outputs": [
    {
     "data": {
      "text/plain": [
       "list"
      ]
     },
     "execution_count": 3,
     "metadata": {},
     "output_type": "execute_result"
    }
   ],
   "source": [
    "type(a)"
   ]
  },
  {
   "cell_type": "markdown",
   "id": "b6d28f2f",
   "metadata": {},
   "source": [
    "`-` 비어있는 리스트의 선언"
   ]
  },
  {
   "cell_type": "code",
   "execution_count": 4,
   "id": "07c57672",
   "metadata": {},
   "outputs": [
    {
     "data": {
      "text/plain": [
       "[]"
      ]
     },
     "execution_count": 4,
     "metadata": {},
     "output_type": "execute_result"
    }
   ],
   "source": [
    "a=[] # 방법1\n",
    "a"
   ]
  },
  {
   "cell_type": "code",
   "execution_count": 5,
   "id": "f2257584",
   "metadata": {},
   "outputs": [
    {
     "data": {
      "text/plain": [
       "[]"
      ]
     },
     "execution_count": 5,
     "metadata": {},
     "output_type": "execute_result"
    }
   ],
   "source": [
    "a=list() # 방법2\n",
    "a"
   ]
  },
  {
   "cell_type": "markdown",
   "id": "dfafc55d",
   "metadata": {},
   "source": [
    "## 연산"
   ]
  },
  {
   "cell_type": "markdown",
   "id": "04b1d5c7",
   "metadata": {},
   "source": [
    "`-` 더하기연산"
   ]
  },
  {
   "cell_type": "code",
   "execution_count": 6,
   "id": "a896ec76",
   "metadata": {},
   "outputs": [],
   "source": [
    "a=[11,22]\n",
    "b=[12,13]"
   ]
  },
  {
   "cell_type": "code",
   "execution_count": 7,
   "id": "8d33d2ed",
   "metadata": {},
   "outputs": [
    {
     "data": {
      "text/plain": [
       "[11, 22]"
      ]
     },
     "execution_count": 7,
     "metadata": {},
     "output_type": "execute_result"
    }
   ],
   "source": [
    "a"
   ]
  },
  {
   "cell_type": "code",
   "execution_count": 8,
   "id": "068643e7",
   "metadata": {},
   "outputs": [
    {
     "data": {
      "text/plain": [
       "[12, 13]"
      ]
     },
     "execution_count": 8,
     "metadata": {},
     "output_type": "execute_result"
    }
   ],
   "source": [
    "b"
   ]
  },
  {
   "cell_type": "code",
   "execution_count": 9,
   "id": "6402c2e8",
   "metadata": {},
   "outputs": [
    {
     "data": {
      "text/plain": [
       "[11, 22, 12, 13]"
      ]
     },
     "execution_count": 9,
     "metadata": {},
     "output_type": "execute_result"
    }
   ],
   "source": [
    "a+b"
   ]
  },
  {
   "cell_type": "markdown",
   "id": "62d5d09c",
   "metadata": {},
   "source": [
    "- 우리의 예상과 다른 결과가 나옴 $\\to$ 파이썬은 R처럼 자체적으로 좋은 계산기능을 내장하고 있찌 않음"
   ]
  },
  {
   "cell_type": "markdown",
   "id": "a7550461",
   "metadata": {},
   "source": [
    "`-` 브로드캐스팅과 같이 R에서는 당연히 가능했던 기능을 사용할 수 없음"
   ]
  },
  {
   "cell_type": "code",
   "execution_count": 12,
   "id": "9e0115e8",
   "metadata": {},
   "outputs": [
    {
     "ename": "TypeError",
     "evalue": "can only concatenate list (not \"int\") to list",
     "output_type": "error",
     "traceback": [
      "\u001b[1;31m---------------------------------------------------------------------------\u001b[0m",
      "\u001b[1;31mTypeError\u001b[0m                                 Traceback (most recent call last)",
      "Input \u001b[1;32mIn [12]\u001b[0m, in \u001b[0;36m<cell line: 3>\u001b[1;34m()\u001b[0m\n\u001b[0;32m      1\u001b[0m a\u001b[38;5;241m=\u001b[39m[\u001b[38;5;241m1\u001b[39m,\u001b[38;5;241m2\u001b[39m,\u001b[38;5;241m3\u001b[39m]\n\u001b[0;32m      2\u001b[0m b\u001b[38;5;241m=\u001b[39m\u001b[38;5;241m1\u001b[39m\n\u001b[1;32m----> 3\u001b[0m \u001b[43ma\u001b[49m\u001b[38;5;241;43m+\u001b[39;49m\u001b[43mb\u001b[49m\n",
      "\u001b[1;31mTypeError\u001b[0m: can only concatenate list (not \"int\") to list"
     ]
    }
   ],
   "source": [
    "a=[1,2,3]\n",
    "b=1\n",
    "a+b"
   ]
  },
  {
   "cell_type": "markdown",
   "id": "ee19b9aa",
   "metadata": {},
   "source": [
    "`-` 뺄셈은 정의되지 않음"
   ]
  },
  {
   "cell_type": "code",
   "execution_count": 13,
   "id": "66307dc1",
   "metadata": {},
   "outputs": [
    {
     "ename": "TypeError",
     "evalue": "unsupported operand type(s) for -: 'list' and 'list'",
     "output_type": "error",
     "traceback": [
      "\u001b[1;31m---------------------------------------------------------------------------\u001b[0m",
      "\u001b[1;31mTypeError\u001b[0m                                 Traceback (most recent call last)",
      "Input \u001b[1;32mIn [13]\u001b[0m, in \u001b[0;36m<cell line: 3>\u001b[1;34m()\u001b[0m\n\u001b[0;32m      1\u001b[0m a\u001b[38;5;241m=\u001b[39m[\u001b[38;5;241m1\u001b[39m,\u001b[38;5;241m2\u001b[39m]\n\u001b[0;32m      2\u001b[0m b\u001b[38;5;241m=\u001b[39m[\u001b[38;5;241m1\u001b[39m,\u001b[38;5;241m2\u001b[39m]\n\u001b[1;32m----> 3\u001b[0m \u001b[43ma\u001b[49m\u001b[38;5;241;43m-\u001b[39;49m\u001b[43mb\u001b[49m\n",
      "\u001b[1;31mTypeError\u001b[0m: unsupported operand type(s) for -: 'list' and 'list'"
     ]
    }
   ],
   "source": [
    "a=[1,2]\n",
    "b=[1,2]\n",
    "a-b"
   ]
  },
  {
   "cell_type": "markdown",
   "id": "f1235027",
   "metadata": {},
   "source": [
    "`-` 곱하기는 정의 가능\n",
    "\n"
   ]
  },
  {
   "cell_type": "code",
   "execution_count": 14,
   "id": "c9bb1e5d",
   "metadata": {},
   "outputs": [],
   "source": [
    "a=[1,2]"
   ]
  },
  {
   "cell_type": "code",
   "execution_count": 15,
   "id": "a83c8878",
   "metadata": {},
   "outputs": [
    {
     "data": {
      "text/plain": [
       "[1, 2, 1, 2]"
      ]
     },
     "execution_count": 15,
     "metadata": {},
     "output_type": "execute_result"
    }
   ],
   "source": [
    "2*a  #a+a"
   ]
  },
  {
   "cell_type": "markdown",
   "id": "6055c6b8",
   "metadata": {},
   "source": [
    "`-` 나눗셈은 정의되지 않음"
   ]
  },
  {
   "cell_type": "code",
   "execution_count": 16,
   "id": "ee28ab71",
   "metadata": {},
   "outputs": [
    {
     "ename": "TypeError",
     "evalue": "unsupported operand type(s) for /: 'list' and 'int'",
     "output_type": "error",
     "traceback": [
      "\u001b[1;31m---------------------------------------------------------------------------\u001b[0m",
      "\u001b[1;31mTypeError\u001b[0m                                 Traceback (most recent call last)",
      "Input \u001b[1;32mIn [16]\u001b[0m, in \u001b[0;36m<cell line: 2>\u001b[1;34m()\u001b[0m\n\u001b[0;32m      1\u001b[0m a\u001b[38;5;241m=\u001b[39m[\u001b[38;5;241m1\u001b[39m,\u001b[38;5;241m2\u001b[39m,\u001b[38;5;241m1\u001b[39m,\u001b[38;5;241m2\u001b[39m]\n\u001b[1;32m----> 2\u001b[0m \u001b[43ma\u001b[49m\u001b[38;5;241;43m/\u001b[39;49m\u001b[38;5;241;43m2\u001b[39;49m\n",
      "\u001b[1;31mTypeError\u001b[0m: unsupported operand type(s) for /: 'list' and 'int'"
     ]
    }
   ],
   "source": [
    "a=[1,2,1,2]\n",
    "a/2"
   ]
  },
  {
   "cell_type": "markdown",
   "id": "0afde23b",
   "metadata": {},
   "source": [
    "`-` 더하기와 곱하기는 원소의 추가와 반복추가를 의미하지만 그렇다고 해서 뺄샘과 나눗셈이 원소의 삭제를 의미하는 것은 아님"
   ]
  },
  {
   "cell_type": "code",
   "execution_count": 18,
   "id": "9f991bc2",
   "metadata": {},
   "outputs": [
    {
     "ename": "TypeError",
     "evalue": "unsupported operand type(s) for -: 'list' and 'list'",
     "output_type": "error",
     "traceback": [
      "\u001b[1;31m---------------------------------------------------------------------------\u001b[0m",
      "\u001b[1;31mTypeError\u001b[0m                                 Traceback (most recent call last)",
      "Input \u001b[1;32mIn [18]\u001b[0m, in \u001b[0;36m<cell line: 2>\u001b[1;34m()\u001b[0m\n\u001b[0;32m      1\u001b[0m a\u001b[38;5;241m=\u001b[39m[\u001b[38;5;241m1\u001b[39m,\u001b[38;5;241m2\u001b[39m,\u001b[38;5;241m3\u001b[39m]\n\u001b[1;32m----> 2\u001b[0m \u001b[43ma\u001b[49m\u001b[38;5;241;43m-\u001b[39;49m\u001b[43m[\u001b[49m\u001b[38;5;241;43m3\u001b[39;49m\u001b[43m]\u001b[49m\n",
      "\u001b[1;31mTypeError\u001b[0m: unsupported operand type(s) for -: 'list' and 'list'"
     ]
    }
   ],
   "source": [
    "a=[1,2,3]\n",
    "a-[3]   #이런건없다"
   ]
  },
  {
   "cell_type": "code",
   "execution_count": 19,
   "id": "cabe5b3b",
   "metadata": {},
   "outputs": [
    {
     "ename": "TypeError",
     "evalue": "unsupported operand type(s) for /: 'list' and 'int'",
     "output_type": "error",
     "traceback": [
      "\u001b[1;31m---------------------------------------------------------------------------\u001b[0m",
      "\u001b[1;31mTypeError\u001b[0m                                 Traceback (most recent call last)",
      "Input \u001b[1;32mIn [19]\u001b[0m, in \u001b[0;36m<cell line: 2>\u001b[1;34m()\u001b[0m\n\u001b[0;32m      1\u001b[0m a\u001b[38;5;241m=\u001b[39m[\u001b[38;5;241m1\u001b[39m,\u001b[38;5;241m2\u001b[39m,\u001b[38;5;241m1\u001b[39m,\u001b[38;5;241m2\u001b[39m,\u001b[38;5;241m1\u001b[39m,\u001b[38;5;241m2\u001b[39m,]\n\u001b[1;32m----> 2\u001b[0m \u001b[43ma\u001b[49m\u001b[38;5;241;43m/\u001b[39;49m\u001b[38;5;241;43m3\u001b[39;49m\n",
      "\u001b[1;31mTypeError\u001b[0m: unsupported operand type(s) for /: 'list' and 'int'"
     ]
    }
   ],
   "source": [
    "a=[1,2,1,2,1,2,]\n",
    "a/3    # 이런건없다"
   ]
  },
  {
   "cell_type": "markdown",
   "id": "5336931d",
   "metadata": {},
   "source": [
    "`-` 더하기와 곱하기가 원소의 추가와 반복추가를 의미하여 편리할때도 있긴하지만, 우리는 산술적인 `+`, `*`를 원하는 경우도 있다. \n",
    "이럴 경우는 어떻게 할 수 있을까?"
   ]
  },
  {
   "cell_type": "markdown",
   "id": "6c6d4dc4",
   "metadata": {},
   "source": [
    "(예제)"
   ]
  },
  {
   "cell_type": "code",
   "execution_count": 25,
   "id": "0f280b56",
   "metadata": {},
   "outputs": [],
   "source": [
    "a=[1,2]\n",
    "b=[3,4]"
   ]
  },
  {
   "cell_type": "markdown",
   "id": "389d6188",
   "metadata": {},
   "source": [
    "a+b=[4,6]이 되도록 하려면?"
   ]
  },
  {
   "cell_type": "markdown",
   "id": "c17fac70",
   "metadata": {},
   "source": [
    "(풀이1)"
   ]
  },
  {
   "cell_type": "code",
   "execution_count": 22,
   "id": "5a1f6ae4",
   "metadata": {},
   "outputs": [
    {
     "data": {
      "text/plain": [
       "list"
      ]
     },
     "execution_count": 22,
     "metadata": {},
     "output_type": "execute_result"
    }
   ],
   "source": [
    "type(a)"
   ]
  },
  {
   "cell_type": "code",
   "execution_count": 23,
   "id": "582a3637",
   "metadata": {},
   "outputs": [
    {
     "data": {
      "text/plain": [
       "int"
      ]
     },
     "execution_count": 23,
     "metadata": {},
     "output_type": "execute_result"
    }
   ],
   "source": [
    "type(a[0])"
   ]
  },
  {
   "cell_type": "code",
   "execution_count": 26,
   "id": "191babf4",
   "metadata": {},
   "outputs": [
    {
     "data": {
      "text/plain": [
       "4"
      ]
     },
     "execution_count": 26,
     "metadata": {},
     "output_type": "execute_result"
    }
   ],
   "source": [
    "a[0]+b[0]  #a의 첫번째 원소 추출, b의 첫번째 원소 추출, 둘을 더함"
   ]
  },
  {
   "cell_type": "code",
   "execution_count": 27,
   "id": "e5801249",
   "metadata": {},
   "outputs": [
    {
     "data": {
      "text/plain": [
       "6"
      ]
     },
     "execution_count": 27,
     "metadata": {},
     "output_type": "execute_result"
    }
   ],
   "source": [
    "a[1]+b[1]"
   ]
  },
  {
   "cell_type": "code",
   "execution_count": 28,
   "id": "f4d3222f",
   "metadata": {},
   "outputs": [
    {
     "data": {
      "text/plain": [
       "[4, 6]"
      ]
     },
     "execution_count": 28,
     "metadata": {},
     "output_type": "execute_result"
    }
   ],
   "source": [
    "[a[0]+b[0], a[1]+b[1]]"
   ]
  },
  {
   "cell_type": "markdown",
   "id": "77edc0ac",
   "metadata": {},
   "source": [
    "풀이가 가능한 이유? a,b는 리스트이지만 a[0], a[1], b[0], b[1]은 각각 인트형임. 인트형은 +연산이 가능함"
   ]
  },
  {
   "cell_type": "markdown",
   "id": "3893d2d0",
   "metadata": {},
   "source": [
    "(풀이2)"
   ]
  },
  {
   "cell_type": "markdown",
   "id": "a25930f6",
   "metadata": {},
   "source": [
    "numpy패키지 (파이썬의 여러 수치연산들을 담당하는 라이브러리)\n",
    "- 이러한 벡터연산은 누구나 필요로 하는 연산\n",
    "- 내가 아니더라도 누군가가 프로그램화 해놓았을 것임\n",
    "- 그 누군가가 자신이 만든 코드를 잘 정리하여 무료로 배포했을 수도 있음 (패키지를 배포한다고 표현)\n",
    "- 그 패키지를 가져와서 설치한 뒤 사용하기만 하면 된다.\n",
    "\n",
    "패키지를 설치하는 방법\n",
    "- `!pip install numpy`  # 최신버전을 설치함\n",
    "- `!conda install -c conda-forge numpy -y`  # 안전한 버전을 설치함\n",
    "\n",
    "설치된 패키지를 사용하는 방법\n",
    "- `import numpy` 한뒤에 `numpy.??`로 기능을 사용\n",
    "- `import numpy as np` 한뒤에 `np.??`로 기능을 사용"
   ]
  },
  {
   "cell_type": "markdown",
   "id": "17042beb",
   "metadata": {},
   "source": [
    "파이썬의 기본 패키지\n",
    "numpy pandas matplotlib"
   ]
  },
  {
   "cell_type": "code",
   "execution_count": 44,
   "id": "c45e25fe",
   "metadata": {},
   "outputs": [
    {
     "name": "stdout",
     "output_type": "stream",
     "text": [
      "Requirement already satisfied: numpy in c:\\users\\user\\anaconda3\\lib\\site-packages (1.21.5)\n"
     ]
    }
   ],
   "source": [
    "!pip install numpy"
   ]
  },
  {
   "cell_type": "code",
   "execution_count": 29,
   "id": "226a4963",
   "metadata": {},
   "outputs": [],
   "source": [
    "import numpy # 설치한 패키지를 쓰겠다고 선언함 library(tidyverse)와 비슷."
   ]
  },
  {
   "cell_type": "code",
   "execution_count": 30,
   "id": "8a44e690",
   "metadata": {},
   "outputs": [],
   "source": [
    "a=[1,2]\n",
    "b=[3,4]"
   ]
  },
  {
   "cell_type": "code",
   "execution_count": 31,
   "id": "d6b40ccb",
   "metadata": {},
   "outputs": [
    {
     "data": {
      "text/plain": [
       "[1, 2, 3, 4]"
      ]
     },
     "execution_count": 31,
     "metadata": {},
     "output_type": "execute_result"
    }
   ],
   "source": [
    "a+b"
   ]
  },
  {
   "cell_type": "code",
   "execution_count": 33,
   "id": "5b4e7e06",
   "metadata": {},
   "outputs": [
    {
     "data": {
      "text/plain": [
       "numpy.ndarray"
      ]
     },
     "execution_count": 33,
     "metadata": {},
     "output_type": "execute_result"
    }
   ],
   "source": [
    "type(numpy.array(a))"
   ]
  },
  {
   "cell_type": "code",
   "execution_count": 36,
   "id": "054d7268",
   "metadata": {},
   "outputs": [],
   "source": [
    "aa=numpy.array(a)   #aa는 리스트가 아니라 넘파이 어레이, numpy.array()는 numpy패키지에서 제공하는 array함수를 쓰겠다는 의미\n",
    "bb=numpy.array(b)   "
   ]
  },
  {
   "cell_type": "code",
   "execution_count": 37,
   "id": "e2afed99",
   "metadata": {},
   "outputs": [
    {
     "data": {
      "text/plain": [
       "array([4, 6])"
      ]
     },
     "execution_count": 37,
     "metadata": {},
     "output_type": "execute_result"
    }
   ],
   "source": [
    "aa+bb"
   ]
  },
  {
   "cell_type": "code",
   "execution_count": 38,
   "id": "ae8a45f5",
   "metadata": {},
   "outputs": [
    {
     "data": {
      "text/plain": [
       "[1, 2, 3, 4]"
      ]
     },
     "execution_count": 38,
     "metadata": {},
     "output_type": "execute_result"
    }
   ],
   "source": [
    "a+b"
   ]
  },
  {
   "cell_type": "markdown",
   "id": "2dd7ab74",
   "metadata": {},
   "source": [
    "이런것도 가능"
   ]
  },
  {
   "cell_type": "code",
   "execution_count": 39,
   "id": "54768bbd",
   "metadata": {},
   "outputs": [
    {
     "data": {
      "text/plain": [
       "array([3, 5])"
      ]
     },
     "execution_count": 39,
     "metadata": {},
     "output_type": "execute_result"
    }
   ],
   "source": [
    "2*aa+1"
   ]
  },
  {
   "cell_type": "code",
   "execution_count": 40,
   "id": "50ce8c39",
   "metadata": {},
   "outputs": [
    {
     "data": {
      "text/plain": [
       "array([6, 9])"
      ]
     },
     "execution_count": 40,
     "metadata": {},
     "output_type": "execute_result"
    }
   ],
   "source": [
    "2*aa+1+bb"
   ]
  },
  {
   "cell_type": "markdown",
   "id": "c8aaa2f6",
   "metadata": {},
   "source": [
    "(풀이3)"
   ]
  },
  {
   "cell_type": "code",
   "execution_count": 41,
   "id": "c0a90e0b",
   "metadata": {},
   "outputs": [],
   "source": [
    "import numpy as np # 설치한 numpy라는 패키지를 쓰겠음. 그런데 numpy 말고 np라는 이름으로 쓰겠음"
   ]
  },
  {
   "cell_type": "code",
   "execution_count": 42,
   "id": "7c037e9f",
   "metadata": {},
   "outputs": [
    {
     "data": {
      "text/plain": [
       "array([4, 6])"
      ]
     },
     "execution_count": 42,
     "metadata": {},
     "output_type": "execute_result"
    }
   ],
   "source": [
    "np.array(a)+np.array(b)"
   ]
  },
  {
   "cell_type": "markdown",
   "id": "b21ad05b",
   "metadata": {},
   "source": [
    "## 인덱싱"
   ]
  },
  {
   "cell_type": "markdown",
   "id": "5e159dc6",
   "metadata": {},
   "source": [
    "`-` str형과 동일한 방식"
   ]
  },
  {
   "cell_type": "code",
   "execution_count": 45,
   "id": "b5c1ff17",
   "metadata": {},
   "outputs": [],
   "source": [
    "a=[11,22,33,44,55]"
   ]
  },
  {
   "cell_type": "code",
   "execution_count": 46,
   "id": "c670ce19",
   "metadata": {},
   "outputs": [
    {
     "data": {
      "text/plain": [
       "[11, 22, 33]"
      ]
     },
     "execution_count": 46,
     "metadata": {},
     "output_type": "execute_result"
    }
   ],
   "source": [
    "a[0:3]"
   ]
  },
  {
   "cell_type": "markdown",
   "id": "f4eceb97",
   "metadata": {},
   "source": [
    "# 리스트 고급"
   ]
  },
  {
   "cell_type": "markdown",
   "id": "ab6355d0",
   "metadata": {},
   "source": [
    "## 콘테이너형 객체, 가변객체"
   ]
  },
  {
   "cell_type": "markdown",
   "id": "a17a6e70",
   "metadata": {},
   "source": [
    "`-` 객체 - Object - Something \n",
    "\n",
    "`-` 리스트의 원소는 int, float따위만 가능한 것이 아니다. (리스트는 콘테이너형 객체이므로)"
   ]
  },
  {
   "cell_type": "code",
   "execution_count": 47,
   "id": "fcbc7001",
   "metadata": {},
   "outputs": [],
   "source": [
    "lst = [1,3.14,True, 'a', [1,2],\n",
    "      (1,2), {'name':'iu','age':30},{1,2,3}]"
   ]
  },
  {
   "cell_type": "code",
   "execution_count": 48,
   "id": "ef9ad054",
   "metadata": {},
   "outputs": [
    {
     "data": {
      "text/plain": [
       "[1, 3.14, True, 'a', [1, 2], (1, 2), {'name': 'iu', 'age': 30}, {1, 2, 3}]"
      ]
     },
     "execution_count": 48,
     "metadata": {},
     "output_type": "execute_result"
    }
   ],
   "source": [
    "lst"
   ]
  },
  {
   "cell_type": "markdown",
   "id": "128150fa",
   "metadata": {},
   "source": [
    "각 원소의 타입을 알아보자"
   ]
  },
  {
   "cell_type": "code",
   "execution_count": 49,
   "id": "29d37216",
   "metadata": {},
   "outputs": [
    {
     "data": {
      "text/plain": [
       "int"
      ]
     },
     "execution_count": 49,
     "metadata": {},
     "output_type": "execute_result"
    }
   ],
   "source": [
    "type(lst[0])"
   ]
  },
  {
   "cell_type": "code",
   "execution_count": 50,
   "id": "3c64b900",
   "metadata": {},
   "outputs": [
    {
     "data": {
      "text/plain": [
       "float"
      ]
     },
     "execution_count": 50,
     "metadata": {},
     "output_type": "execute_result"
    }
   ],
   "source": [
    "type(lst[1])"
   ]
  },
  {
   "cell_type": "code",
   "execution_count": 51,
   "id": "854ce46a",
   "metadata": {},
   "outputs": [
    {
     "data": {
      "text/plain": [
       "bool"
      ]
     },
     "execution_count": 51,
     "metadata": {},
     "output_type": "execute_result"
    }
   ],
   "source": [
    "type(lst[2])"
   ]
  },
  {
   "cell_type": "code",
   "execution_count": 52,
   "id": "ac099206",
   "metadata": {},
   "outputs": [
    {
     "data": {
      "text/plain": [
       "str"
      ]
     },
     "execution_count": 52,
     "metadata": {},
     "output_type": "execute_result"
    }
   ],
   "source": [
    "type(lst[3])"
   ]
  },
  {
   "cell_type": "code",
   "execution_count": 53,
   "id": "ea752dce",
   "metadata": {},
   "outputs": [
    {
     "data": {
      "text/plain": [
       "list"
      ]
     },
     "execution_count": 53,
     "metadata": {},
     "output_type": "execute_result"
    }
   ],
   "source": [
    "type(lst[4])"
   ]
  },
  {
   "cell_type": "code",
   "execution_count": 54,
   "id": "cb25f671",
   "metadata": {},
   "outputs": [
    {
     "data": {
      "text/plain": [
       "tuple"
      ]
     },
     "execution_count": 54,
     "metadata": {},
     "output_type": "execute_result"
    }
   ],
   "source": [
    "type(lst[5])"
   ]
  },
  {
   "cell_type": "code",
   "execution_count": 55,
   "id": "f5b83e8a",
   "metadata": {},
   "outputs": [
    {
     "data": {
      "text/plain": [
       "dict"
      ]
     },
     "execution_count": 55,
     "metadata": {},
     "output_type": "execute_result"
    }
   ],
   "source": [
    "type(lst[6])   # dictionary"
   ]
  },
  {
   "cell_type": "code",
   "execution_count": 56,
   "id": "8e0956fa",
   "metadata": {},
   "outputs": [
    {
     "data": {
      "text/plain": [
       "set"
      ]
     },
     "execution_count": 56,
     "metadata": {},
     "output_type": "execute_result"
    }
   ],
   "source": [
    "type(lst[7]) #집합"
   ]
  },
  {
   "cell_type": "markdown",
   "id": "f7028645",
   "metadata": {},
   "source": [
    "`-` str은 컨테이너형이 아니다"
   ]
  },
  {
   "cell_type": "code",
   "execution_count": 57,
   "id": "c50a114e",
   "metadata": {},
   "outputs": [
    {
     "data": {
      "text/plain": [
       "'a'"
      ]
     },
     "execution_count": 57,
     "metadata": {},
     "output_type": "execute_result"
    }
   ],
   "source": [
    "# 컨테이너형이 아닌것\n",
    "'abcd'[0]"
   ]
  },
  {
   "cell_type": "markdown",
   "id": "217aeb7e",
   "metadata": {},
   "source": [
    "- str의 모든 원소는 문자임"
   ]
  },
  {
   "cell_type": "markdown",
   "id": "c9073ea4",
   "metadata": {},
   "source": [
    "`-` 리스트의 원소를 수정할 수 있다. (리스트는 가변객체이므로)"
   ]
  },
  {
   "cell_type": "code",
   "execution_count": 60,
   "id": "be17a746",
   "metadata": {},
   "outputs": [],
   "source": [
    "a=[11,22,33]"
   ]
  },
  {
   "cell_type": "code",
   "execution_count": 61,
   "id": "a25770e8",
   "metadata": {},
   "outputs": [
    {
     "data": {
      "text/plain": [
       "11"
      ]
     },
     "execution_count": 61,
     "metadata": {},
     "output_type": "execute_result"
    }
   ],
   "source": [
    "a[0]"
   ]
  },
  {
   "cell_type": "code",
   "execution_count": 62,
   "id": "40db03d2",
   "metadata": {},
   "outputs": [],
   "source": [
    "a[0]=111"
   ]
  },
  {
   "cell_type": "code",
   "execution_count": 63,
   "id": "5c0c0bb0",
   "metadata": {},
   "outputs": [
    {
     "data": {
      "text/plain": [
       "[111, 22, 33]"
      ]
     },
     "execution_count": 63,
     "metadata": {},
     "output_type": "execute_result"
    }
   ],
   "source": [
    "a"
   ]
  },
  {
   "cell_type": "markdown",
   "id": "e24262ec",
   "metadata": {},
   "source": [
    "`-` 원소수정은 당연한 기능 같은데 이것이 불가능한 경우도 있다."
   ]
  },
  {
   "cell_type": "markdown",
   "id": "730d8f5b",
   "metadata": {},
   "source": [
    "(가능한경우)"
   ]
  },
  {
   "cell_type": "code",
   "execution_count": 64,
   "id": "dba08e6e",
   "metadata": {},
   "outputs": [
    {
     "data": {
      "text/plain": [
       "'o'"
      ]
     },
     "execution_count": 64,
     "metadata": {},
     "output_type": "execute_result"
    }
   ],
   "source": [
    "'boram'[1]"
   ]
  },
  {
   "cell_type": "code",
   "execution_count": 65,
   "id": "453cb545",
   "metadata": {},
   "outputs": [],
   "source": [
    "a=['b','o','r','a','m']"
   ]
  },
  {
   "cell_type": "code",
   "execution_count": 66,
   "id": "fdc0e90f",
   "metadata": {},
   "outputs": [
    {
     "data": {
      "text/plain": [
       "'b'"
      ]
     },
     "execution_count": 66,
     "metadata": {},
     "output_type": "execute_result"
    }
   ],
   "source": [
    "a[0]"
   ]
  },
  {
   "cell_type": "code",
   "execution_count": 67,
   "id": "40773d98",
   "metadata": {},
   "outputs": [],
   "source": [
    "a[0]='B'"
   ]
  },
  {
   "cell_type": "code",
   "execution_count": 68,
   "id": "56bb602c",
   "metadata": {},
   "outputs": [
    {
     "data": {
      "text/plain": [
       "['B', 'o', 'r', 'a', 'm']"
      ]
     },
     "execution_count": 68,
     "metadata": {},
     "output_type": "execute_result"
    }
   ],
   "source": [
    "a"
   ]
  },
  {
   "cell_type": "markdown",
   "id": "a47e3097",
   "metadata": {},
   "source": [
    "(불가능한경우)"
   ]
  },
  {
   "cell_type": "code",
   "execution_count": 69,
   "id": "720fde58",
   "metadata": {},
   "outputs": [],
   "source": [
    "a='boram'"
   ]
  },
  {
   "cell_type": "code",
   "execution_count": 70,
   "id": "8eb9a652",
   "metadata": {},
   "outputs": [
    {
     "data": {
      "text/plain": [
       "'boram'"
      ]
     },
     "execution_count": 70,
     "metadata": {},
     "output_type": "execute_result"
    }
   ],
   "source": [
    "a"
   ]
  },
  {
   "cell_type": "code",
   "execution_count": 71,
   "id": "93a2e52c",
   "metadata": {},
   "outputs": [
    {
     "data": {
      "text/plain": [
       "'b'"
      ]
     },
     "execution_count": 71,
     "metadata": {},
     "output_type": "execute_result"
    }
   ],
   "source": [
    "a[0]"
   ]
  },
  {
   "cell_type": "code",
   "execution_count": 72,
   "id": "15fa1416",
   "metadata": {},
   "outputs": [
    {
     "ename": "TypeError",
     "evalue": "'str' object does not support item assignment",
     "output_type": "error",
     "traceback": [
      "\u001b[1;31m---------------------------------------------------------------------------\u001b[0m",
      "\u001b[1;31mTypeError\u001b[0m                                 Traceback (most recent call last)",
      "Input \u001b[1;32mIn [72]\u001b[0m, in \u001b[0;36m<cell line: 1>\u001b[1;34m()\u001b[0m\n\u001b[1;32m----> 1\u001b[0m a[\u001b[38;5;241m0\u001b[39m]\u001b[38;5;241m=\u001b[39m\u001b[38;5;124m'\u001b[39m\u001b[38;5;124mB\u001b[39m\u001b[38;5;124m'\u001b[39m\n",
      "\u001b[1;31mTypeError\u001b[0m: 'str' object does not support item assignment"
     ]
    }
   ],
   "source": [
    "a[0]='B'"
   ]
  },
  {
   "cell_type": "markdown",
   "id": "a15b89f3",
   "metadata": {},
   "source": [
    "`-` 리스트 원소 삭제"
   ]
  },
  {
   "cell_type": "markdown",
   "id": "4832ac8a",
   "metadata": {},
   "source": [
    "(예제)"
   ]
  },
  {
   "cell_type": "markdown",
   "id": "714abe46",
   "metadata": {},
   "source": [
    "아래와 같이 문자로 된 리스트를 선언하자."
   ]
  },
  {
   "cell_type": "code",
   "execution_count": 74,
   "id": "6c1aadac",
   "metadata": {},
   "outputs": [
    {
     "data": {
      "text/plain": [
       "['b', 'o', 'r', 'a', 'm']"
      ]
     },
     "execution_count": 74,
     "metadata": {},
     "output_type": "execute_result"
    }
   ],
   "source": [
    "a=['b','o','r','a','m']\n",
    "a"
   ]
  },
  {
   "cell_type": "markdown",
   "id": "6b0016ec",
   "metadata": {},
   "source": [
    "사실 더 쉽게 선언할 수 있음"
   ]
  },
  {
   "cell_type": "code",
   "execution_count": 82,
   "id": "2b05257f",
   "metadata": {},
   "outputs": [],
   "source": [
    "a='boram'   #string으로 a를 선언"
   ]
  },
  {
   "cell_type": "code",
   "execution_count": 83,
   "id": "ec2b2f94",
   "metadata": {},
   "outputs": [
    {
     "data": {
      "text/plain": [
       "str"
      ]
     },
     "execution_count": 83,
     "metadata": {},
     "output_type": "execute_result"
    }
   ],
   "source": [
    "type(a)"
   ]
  },
  {
   "cell_type": "code",
   "execution_count": 84,
   "id": "fc6eba39",
   "metadata": {},
   "outputs": [
    {
     "data": {
      "text/plain": [
       "['b', 'o', 'r', 'a', 'm']"
      ]
     },
     "execution_count": 84,
     "metadata": {},
     "output_type": "execute_result"
    }
   ],
   "source": [
    "list(a)"
   ]
  },
  {
   "cell_type": "code",
   "execution_count": 85,
   "id": "63a6ec50",
   "metadata": {},
   "outputs": [],
   "source": [
    "a=list(a)  #list(a)를 통하여 str을 list로 변환 "
   ]
  },
  {
   "cell_type": "code",
   "execution_count": 86,
   "id": "bb02a923",
   "metadata": {},
   "outputs": [
    {
     "data": {
      "text/plain": [
       "['b', 'o', 'r', 'a', 'm']"
      ]
     },
     "execution_count": 86,
     "metadata": {},
     "output_type": "execute_result"
    }
   ],
   "source": [
    "a  # 그 결과를 a에 다시 저장"
   ]
  },
  {
   "cell_type": "markdown",
   "id": "bfbe1db1",
   "metadata": {},
   "source": [
    "첫 번째 원소를 삭제하고 싶다면?"
   ]
  },
  {
   "cell_type": "code",
   "execution_count": 87,
   "id": "4c5ba196",
   "metadata": {},
   "outputs": [
    {
     "data": {
      "text/plain": [
       "['o', 'r', 'a', 'm']"
      ]
     },
     "execution_count": 87,
     "metadata": {},
     "output_type": "execute_result"
    }
   ],
   "source": [
    "\n",
    "del a[0]\n",
    "a"
   ]
  },
  {
   "cell_type": "markdown",
   "id": "bad74807",
   "metadata": {},
   "source": [
    "`-` 리스트의 원소 추가"
   ]
  },
  {
   "cell_type": "markdown",
   "id": "64987f36",
   "metadata": {},
   "source": [
    "(예제) 비어있는 리스틀를 만들고 원소 0,1,2 를 차례로 추가하여 보자."
   ]
  },
  {
   "cell_type": "markdown",
   "id": "aeef03e9",
   "metadata": {},
   "source": [
    "(풀이1)"
   ]
  },
  {
   "cell_type": "code",
   "execution_count": 96,
   "id": "1d51a8e9",
   "metadata": {},
   "outputs": [
    {
     "data": {
      "text/plain": [
       "[]"
      ]
     },
     "execution_count": 96,
     "metadata": {},
     "output_type": "execute_result"
    }
   ],
   "source": [
    "a=[]\n",
    "a"
   ]
  },
  {
   "cell_type": "code",
   "execution_count": 97,
   "id": "73d6f00c",
   "metadata": {},
   "outputs": [
    {
     "data": {
      "text/plain": [
       "[0]"
      ]
     },
     "execution_count": 97,
     "metadata": {},
     "output_type": "execute_result"
    }
   ],
   "source": [
    "a= a+[0]\n",
    "a"
   ]
  },
  {
   "cell_type": "code",
   "execution_count": 98,
   "id": "37a3d4eb",
   "metadata": {},
   "outputs": [
    {
     "data": {
      "text/plain": [
       "[0, 1]"
      ]
     },
     "execution_count": 98,
     "metadata": {},
     "output_type": "execute_result"
    }
   ],
   "source": [
    "a=a+[1]\n",
    "a"
   ]
  },
  {
   "cell_type": "code",
   "execution_count": 99,
   "id": "2d1109f6",
   "metadata": {},
   "outputs": [
    {
     "data": {
      "text/plain": [
       "[0, 1, 2]"
      ]
     },
     "execution_count": 99,
     "metadata": {},
     "output_type": "execute_result"
    }
   ],
   "source": [
    "a= a+[2]\n",
    "a"
   ]
  },
  {
   "cell_type": "markdown",
   "id": "4dcb5912",
   "metadata": {},
   "source": [
    "(풀이2)"
   ]
  },
  {
   "cell_type": "code",
   "execution_count": 101,
   "id": "8620d53e",
   "metadata": {},
   "outputs": [
    {
     "data": {
      "text/plain": [
       "[]"
      ]
     },
     "execution_count": 101,
     "metadata": {},
     "output_type": "execute_result"
    }
   ],
   "source": [
    "a=[]\n",
    "a"
   ]
  },
  {
   "cell_type": "code",
   "execution_count": 102,
   "id": "1a7106c0",
   "metadata": {},
   "outputs": [
    {
     "data": {
      "text/plain": [
       "[0]"
      ]
     },
     "execution_count": 102,
     "metadata": {},
     "output_type": "execute_result"
    }
   ],
   "source": [
    "a+=[0]\n",
    "a"
   ]
  },
  {
   "cell_type": "code",
   "execution_count": 103,
   "id": "9a1276bb",
   "metadata": {},
   "outputs": [
    {
     "data": {
      "text/plain": [
       "[0, 1]"
      ]
     },
     "execution_count": 103,
     "metadata": {},
     "output_type": "execute_result"
    }
   ],
   "source": [
    "a+=[1]\n",
    "a"
   ]
  },
  {
   "cell_type": "code",
   "execution_count": 104,
   "id": "22f7b187",
   "metadata": {},
   "outputs": [
    {
     "data": {
      "text/plain": [
       "[0, 1, 2]"
      ]
     },
     "execution_count": 104,
     "metadata": {},
     "output_type": "execute_result"
    }
   ],
   "source": [
    "a+=[2]\n",
    "a"
   ]
  },
  {
   "cell_type": "markdown",
   "id": "99f4db95",
   "metadata": {},
   "source": [
    "- 암기법: 중복되는 변수를 지우고 연산자의 순서를 바꾼다."
   ]
  },
  {
   "cell_type": "markdown",
   "id": "c60e1650",
   "metadata": {},
   "source": [
    "(풀이3) 리스트 특화기능(=메소드)를 이용"
   ]
  },
  {
   "cell_type": "code",
   "execution_count": 105,
   "id": "b6bf08d0",
   "metadata": {},
   "outputs": [
    {
     "data": {
      "text/plain": [
       "[]"
      ]
     },
     "execution_count": 105,
     "metadata": {},
     "output_type": "execute_result"
    }
   ],
   "source": [
    "a=[]\n",
    "a"
   ]
  },
  {
   "cell_type": "code",
   "execution_count": 106,
   "id": "7d584bf1",
   "metadata": {},
   "outputs": [],
   "source": [
    "a.append?"
   ]
  },
  {
   "cell_type": "code",
   "execution_count": 107,
   "id": "9d0b44ed",
   "metadata": {},
   "outputs": [
    {
     "data": {
      "text/plain": [
       "[0]"
      ]
     },
     "execution_count": 107,
     "metadata": {},
     "output_type": "execute_result"
    }
   ],
   "source": [
    "a.append(0)\n",
    "a"
   ]
  },
  {
   "cell_type": "code",
   "execution_count": 108,
   "id": "d95a313b",
   "metadata": {},
   "outputs": [
    {
     "data": {
      "text/plain": [
       "[0, 1]"
      ]
     },
     "execution_count": 108,
     "metadata": {},
     "output_type": "execute_result"
    }
   ],
   "source": [
    "a.append(1)\n",
    "a"
   ]
  },
  {
   "cell_type": "code",
   "execution_count": 109,
   "id": "75fc252c",
   "metadata": {},
   "outputs": [
    {
     "data": {
      "text/plain": [
       "[0, 1, 2]"
      ]
     },
     "execution_count": 109,
     "metadata": {},
     "output_type": "execute_result"
    }
   ],
   "source": [
    "a.append(2)\n",
    "a"
   ]
  },
  {
   "cell_type": "markdown",
   "id": "d30b6b47",
   "metadata": {},
   "source": [
    "`-` `a+[4]`와 `a.append(4)`의 차이점은?"
   ]
  },
  {
   "cell_type": "markdown",
   "id": "10d8fff9",
   "metadata": {},
   "source": [
    "(관찰1)"
   ]
  },
  {
   "cell_type": "code",
   "execution_count": 111,
   "id": "bb102078",
   "metadata": {},
   "outputs": [
    {
     "data": {
      "text/plain": [
       "[1, 2, 3, 4]"
      ]
     },
     "execution_count": 111,
     "metadata": {},
     "output_type": "execute_result"
    }
   ],
   "source": [
    "a=[1,2,3]\n",
    "a+[4]  ## 리스트 a와 리스트 [4]의 연산결과"
   ]
  },
  {
   "cell_type": "code",
   "execution_count": 112,
   "id": "be29d7dd",
   "metadata": {},
   "outputs": [
    {
     "data": {
      "text/plain": [
       "[1, 2, 3]"
      ]
     },
     "execution_count": 112,
     "metadata": {},
     "output_type": "execute_result"
    }
   ],
   "source": [
    "a  # a는 그대로임. 변화없음"
   ]
  },
  {
   "cell_type": "markdown",
   "id": "36c3b7db",
   "metadata": {},
   "source": [
    "(관찰2)"
   ]
  },
  {
   "cell_type": "code",
   "execution_count": 113,
   "id": "c65cc1f5",
   "metadata": {},
   "outputs": [],
   "source": [
    "a=[1,2,3]\n",
    "a.append(4)"
   ]
  },
  {
   "cell_type": "code",
   "execution_count": 114,
   "id": "fc2cfce4",
   "metadata": {},
   "outputs": [
    {
     "data": {
      "text/plain": [
       "[1, 2, 3, 4]"
      ]
     },
     "execution_count": 114,
     "metadata": {},
     "output_type": "execute_result"
    }
   ],
   "source": [
    "a    # a자체가 변화함"
   ]
  },
  {
   "cell_type": "markdown",
   "id": "4a650948",
   "metadata": {},
   "source": [
    "비슷해보이지만 굉장히 미묘한 차이가 있음"
   ]
  },
  {
   "cell_type": "markdown",
   "id": "82b8a5ae",
   "metadata": {},
   "source": [
    "`a.append(4)` : `a`에 4를 append하라 $\\to$ `a`가 변함\n",
    "    \n",
    "`a+[4]` : `a`와 4를 연산하고 수행결과를 보여달라"
   ]
  },
  {
   "cell_type": "markdown",
   "id": "36952aed",
   "metadata": {},
   "source": [
    "## 메소드(리스트자료형에 특화된 특수한 함수들)"
   ]
  },
  {
   "cell_type": "markdown",
   "id": "60a7e6c9",
   "metadata": {},
   "source": [
    "**(append)**"
   ]
  },
  {
   "cell_type": "code",
   "execution_count": 119,
   "id": "4d0645a5",
   "metadata": {},
   "outputs": [],
   "source": [
    "a=[1,2,3,4]\n",
    "a.append?"
   ]
  },
  {
   "cell_type": "code",
   "execution_count": 120,
   "id": "661d5f8c",
   "metadata": {},
   "outputs": [
    {
     "data": {
      "text/plain": [
       "[1, 2, 3, 4, 5]"
      ]
     },
     "execution_count": 120,
     "metadata": {},
     "output_type": "execute_result"
    }
   ],
   "source": [
    "a.append(5)\n",
    "a"
   ]
  },
  {
   "cell_type": "markdown",
   "id": "ee44d415",
   "metadata": {},
   "source": [
    "**(clear)**"
   ]
  },
  {
   "cell_type": "code",
   "execution_count": 121,
   "id": "bd5dc0b6",
   "metadata": {},
   "outputs": [],
   "source": [
    "a=[1,2,3,4]\n",
    "a.clear?"
   ]
  },
  {
   "cell_type": "code",
   "execution_count": 122,
   "id": "fb07f810",
   "metadata": {},
   "outputs": [],
   "source": [
    "a.clear()"
   ]
  },
  {
   "cell_type": "code",
   "execution_count": 123,
   "id": "0b1d0bfe",
   "metadata": {},
   "outputs": [
    {
     "data": {
      "text/plain": [
       "[]"
      ]
     },
     "execution_count": 123,
     "metadata": {},
     "output_type": "execute_result"
    }
   ],
   "source": [
    "a"
   ]
  },
  {
   "cell_type": "markdown",
   "id": "52d3c0b5",
   "metadata": {},
   "source": [
    "**(copy)**"
   ]
  },
  {
   "cell_type": "code",
   "execution_count": 124,
   "id": "48a9e4d3",
   "metadata": {},
   "outputs": [],
   "source": [
    "a=[1,2,3,4]\n",
    "a.copy?"
   ]
  },
  {
   "cell_type": "code",
   "execution_count": 126,
   "id": "c50d1d83",
   "metadata": {},
   "outputs": [
    {
     "data": {
      "text/plain": [
       "[1, 2, 3, 4]"
      ]
     },
     "execution_count": 126,
     "metadata": {},
     "output_type": "execute_result"
    }
   ],
   "source": [
    "b=a.copy()\n",
    "b"
   ]
  },
  {
   "cell_type": "markdown",
   "id": "ac655dcc",
   "metadata": {},
   "source": [
    "**(count)**"
   ]
  },
  {
   "cell_type": "code",
   "execution_count": 129,
   "id": "db9e6588",
   "metadata": {},
   "outputs": [
    {
     "data": {
      "text/plain": [
       "2"
      ]
     },
     "execution_count": 129,
     "metadata": {},
     "output_type": "execute_result"
    }
   ],
   "source": [
    "a=[1,1,2,3,3,4,4,4,]\n",
    "a.count(1)"
   ]
  },
  {
   "cell_type": "code",
   "execution_count": 130,
   "id": "72d3b26b",
   "metadata": {},
   "outputs": [
    {
     "data": {
      "text/plain": [
       "1"
      ]
     },
     "execution_count": 130,
     "metadata": {},
     "output_type": "execute_result"
    }
   ],
   "source": [
    "a.count(2) #특정 원소가 몇개 포함되어있는지 숫자 세줌"
   ]
  },
  {
   "cell_type": "markdown",
   "id": "e45c596f",
   "metadata": {},
   "source": [
    "**(extend)**"
   ]
  },
  {
   "cell_type": "code",
   "execution_count": 131,
   "id": "c3f8617a",
   "metadata": {},
   "outputs": [],
   "source": [
    "a=[1,2,3,4]\n",
    "b=[-1,-2,-3,-4]"
   ]
  },
  {
   "cell_type": "code",
   "execution_count": 132,
   "id": "cfc9f583",
   "metadata": {},
   "outputs": [
    {
     "data": {
      "text/plain": [
       "[1, 2, 3, 4, -1, -2, -3, -4]"
      ]
     },
     "execution_count": 132,
     "metadata": {},
     "output_type": "execute_result"
    }
   ],
   "source": [
    "a.extend(b)\n",
    "a"
   ]
  },
  {
   "cell_type": "code",
   "execution_count": 133,
   "id": "6bf4a7f2",
   "metadata": {},
   "outputs": [
    {
     "data": {
      "text/plain": [
       "[1, 2, 3, 4, -1, -2, -3, -4, [-1, -2, -3, -4]]"
      ]
     },
     "execution_count": 133,
     "metadata": {},
     "output_type": "execute_result"
    }
   ],
   "source": [
    "a.append(b)   \n",
    "a"
   ]
  },
  {
   "cell_type": "markdown",
   "id": "6523969f",
   "metadata": {},
   "source": [
    "**(index)**"
   ]
  },
  {
   "cell_type": "code",
   "execution_count": 136,
   "id": "2bee1c1c",
   "metadata": {},
   "outputs": [
    {
     "data": {
      "text/plain": [
       "3"
      ]
     },
     "execution_count": 136,
     "metadata": {},
     "output_type": "execute_result"
    }
   ],
   "source": [
    "a=[11,22,'a',True,22]\n",
    "a.index(True)"
   ]
  },
  {
   "cell_type": "code",
   "execution_count": 137,
   "id": "c9489433",
   "metadata": {},
   "outputs": [
    {
     "data": {
      "text/plain": [
       "2"
      ]
     },
     "execution_count": 137,
     "metadata": {},
     "output_type": "execute_result"
    }
   ],
   "source": [
    "a.index('a')"
   ]
  },
  {
   "cell_type": "code",
   "execution_count": 139,
   "id": "ec6d4315",
   "metadata": {},
   "outputs": [
    {
     "data": {
      "text/plain": [
       "1"
      ]
     },
     "execution_count": 139,
     "metadata": {},
     "output_type": "execute_result"
    }
   ],
   "source": [
    "a.index(22)"
   ]
  },
  {
   "cell_type": "markdown",
   "id": "487bc1e4",
   "metadata": {},
   "source": [
    "**(insert)**"
   ]
  },
  {
   "cell_type": "code",
   "execution_count": 149,
   "id": "f10f3d37",
   "metadata": {},
   "outputs": [],
   "source": [
    "a=[1,2,3]"
   ]
  },
  {
   "cell_type": "code",
   "execution_count": 151,
   "id": "e40dd1d3",
   "metadata": {},
   "outputs": [
    {
     "data": {
      "text/plain": [
       "[1, 88, 2, 3]"
      ]
     },
     "execution_count": 151,
     "metadata": {},
     "output_type": "execute_result"
    }
   ],
   "source": [
    "a.insert(1,88)\n",
    "a"
   ]
  },
  {
   "cell_type": "markdown",
   "id": "5cea8c6a",
   "metadata": {},
   "source": [
    "**(pop)**"
   ]
  },
  {
   "cell_type": "code",
   "execution_count": 152,
   "id": "1ae38309",
   "metadata": {},
   "outputs": [
    {
     "data": {
      "text/plain": [
       "'d'"
      ]
     },
     "execution_count": 152,
     "metadata": {},
     "output_type": "execute_result"
    }
   ],
   "source": [
    "a=['a',1,2,'d']\n",
    "a.pop()   # index= -1이므로 마지막원소가 나타남"
   ]
  },
  {
   "cell_type": "code",
   "execution_count": 153,
   "id": "3c10b00c",
   "metadata": {},
   "outputs": [
    {
     "data": {
      "text/plain": [
       "['a', 1, 2]"
      ]
     },
     "execution_count": 153,
     "metadata": {},
     "output_type": "execute_result"
    }
   ],
   "source": [
    "a   # a는 마지막 원소가 사라진 상태"
   ]
  },
  {
   "cell_type": "code",
   "execution_count": 154,
   "id": "a24dde9e",
   "metadata": {},
   "outputs": [
    {
     "data": {
      "text/plain": [
       "'a'"
      ]
     },
     "execution_count": 154,
     "metadata": {},
     "output_type": "execute_result"
    }
   ],
   "source": [
    "a.pop(0)   # index=0 이므로 첫번째 원소가 나타남"
   ]
  },
  {
   "cell_type": "code",
   "execution_count": 155,
   "id": "855e3826",
   "metadata": {},
   "outputs": [
    {
     "data": {
      "text/plain": [
       "[1, 2]"
      ]
     },
     "execution_count": 155,
     "metadata": {},
     "output_type": "execute_result"
    }
   ],
   "source": [
    "a    # a에서는 첫번쨰 원소가 사라진 상태"
   ]
  },
  {
   "cell_type": "markdown",
   "id": "af133cb3",
   "metadata": {},
   "source": [
    "**(remove)**"
   ]
  },
  {
   "cell_type": "code",
   "execution_count": 161,
   "id": "9991b60f",
   "metadata": {},
   "outputs": [],
   "source": [
    "a=['a',2,3,'d']\n",
    "a.remove('d')"
   ]
  },
  {
   "cell_type": "code",
   "execution_count": 162,
   "id": "80fcfb69",
   "metadata": {},
   "outputs": [
    {
     "data": {
      "text/plain": [
       "['a', 2, 3]"
      ]
     },
     "execution_count": 162,
     "metadata": {},
     "output_type": "execute_result"
    }
   ],
   "source": [
    "a"
   ]
  },
  {
   "cell_type": "code",
   "execution_count": 163,
   "id": "298b547d",
   "metadata": {},
   "outputs": [
    {
     "data": {
      "text/plain": [
       "[2, 3]"
      ]
     },
     "execution_count": 163,
     "metadata": {},
     "output_type": "execute_result"
    }
   ],
   "source": [
    "a.remove('a')\n",
    "a"
   ]
  },
  {
   "cell_type": "markdown",
   "id": "f227548c",
   "metadata": {},
   "source": [
    "**(reverse)**"
   ]
  },
  {
   "cell_type": "code",
   "execution_count": 164,
   "id": "b6732d42",
   "metadata": {},
   "outputs": [
    {
     "data": {
      "text/plain": [
       "[4, 3, 2, 1]"
      ]
     },
     "execution_count": 164,
     "metadata": {},
     "output_type": "execute_result"
    }
   ],
   "source": [
    "a=[1,2,3,4]\n",
    "a.reverse()\n",
    "a"
   ]
  },
  {
   "cell_type": "markdown",
   "id": "b6a55d1d",
   "metadata": {},
   "source": [
    "**(sort)**"
   ]
  },
  {
   "cell_type": "code",
   "execution_count": 165,
   "id": "f1339691",
   "metadata": {},
   "outputs": [
    {
     "data": {
      "text/plain": [
       "[1, 2, 3, 4]"
      ]
     },
     "execution_count": 165,
     "metadata": {},
     "output_type": "execute_result"
    }
   ],
   "source": [
    "a=[1,3,2,4]\n",
    "a.sort()\n",
    "a"
   ]
  },
  {
   "cell_type": "markdown",
   "id": "1c682de4",
   "metadata": {},
   "source": [
    "(다른예제들)"
   ]
  },
  {
   "cell_type": "code",
   "execution_count": 166,
   "id": "9acae861",
   "metadata": {},
   "outputs": [
    {
     "data": {
      "text/plain": [
       "['b', 'o', 'r', 'a', 'm']"
      ]
     },
     "execution_count": 166,
     "metadata": {},
     "output_type": "execute_result"
    }
   ],
   "source": [
    "a=list('boram')\n",
    "a"
   ]
  },
  {
   "cell_type": "code",
   "execution_count": 167,
   "id": "24cafd0c",
   "metadata": {},
   "outputs": [
    {
     "data": {
      "text/plain": [
       "['a', 'b', 'm', 'o', 'r']"
      ]
     },
     "execution_count": 167,
     "metadata": {},
     "output_type": "execute_result"
    }
   ],
   "source": [
    "a.sort()\n",
    "a"
   ]
  },
  {
   "cell_type": "code",
   "execution_count": 168,
   "id": "5d1d5f3f",
   "metadata": {},
   "outputs": [
    {
     "data": {
      "text/plain": [
       "['r', 'o', 'm', 'b', 'a']"
      ]
     },
     "execution_count": 168,
     "metadata": {},
     "output_type": "execute_result"
    }
   ],
   "source": [
    "a.sort(reverse=True)\n",
    "a"
   ]
  },
  {
   "cell_type": "markdown",
   "id": "8c81c92d",
   "metadata": {},
   "source": [
    "## 중첩리스트"
   ]
  },
  {
   "cell_type": "code",
   "execution_count": 169,
   "id": "52ad4e04",
   "metadata": {},
   "outputs": [
    {
     "data": {
      "text/plain": [
       "[[1, 2, 3], [4, 5, 6], [7, 8, 9]]"
      ]
     },
     "execution_count": 169,
     "metadata": {},
     "output_type": "execute_result"
    }
   ],
   "source": [
    "A=[[1,2,3],[4,5,6],[7,8,9]]\n",
    "A"
   ]
  },
  {
   "cell_type": "markdown",
   "id": "7ea33eb1",
   "metadata": {},
   "source": [
    "`-` A는 아래와 같은 매트릭스로 이해할 수 있다."
   ]
  },
  {
   "cell_type": "markdown",
   "id": "dd9291f2",
   "metadata": {},
   "source": [
    "$\n",
    "\\bf{A}=\\begin{bmatrix}\n",
    "1 & 2 & 3 \\\\\n",
    "4 & 5 & 6 \\\\\n",
    "7 & 8 & 9 \n",
    "\\end{bmatrix}\n",
    "$"
   ]
  },
  {
   "cell_type": "markdown",
   "id": "f26c874f",
   "metadata": {},
   "source": [
    "`-` A에서 (2,1)의 원소를 뽑고 싶다. =  1을 뽑고싶다. "
   ]
  },
  {
   "cell_type": "code",
   "execution_count": 173,
   "id": "1925a368",
   "metadata": {},
   "outputs": [
    {
     "ename": "TypeError",
     "evalue": "list indices must be integers or slices, not tuple",
     "output_type": "error",
     "traceback": [
      "\u001b[1;31m---------------------------------------------------------------------------\u001b[0m",
      "\u001b[1;31mTypeError\u001b[0m                                 Traceback (most recent call last)",
      "Input \u001b[1;32mIn [173]\u001b[0m, in \u001b[0;36m<cell line: 1>\u001b[1;34m()\u001b[0m\n\u001b[1;32m----> 1\u001b[0m \u001b[43mA\u001b[49m\u001b[43m[\u001b[49m\u001b[38;5;241;43m1\u001b[39;49m\u001b[43m,\u001b[49m\u001b[38;5;241;43m0\u001b[39;49m\u001b[43m]\u001b[49m\n",
      "\u001b[1;31mTypeError\u001b[0m: list indices must be integers or slices, not tuple"
     ]
    }
   ],
   "source": [
    "A[1,0]"
   ]
  },
  {
   "cell_type": "markdown",
   "id": "7976382c",
   "metadata": {},
   "source": [
    "- 실패"
   ]
  },
  {
   "cell_type": "code",
   "execution_count": 174,
   "id": "43b26e3c",
   "metadata": {},
   "outputs": [
    {
     "data": {
      "text/plain": [
       "4"
      ]
     },
     "execution_count": 174,
     "metadata": {},
     "output_type": "execute_result"
    }
   ],
   "source": [
    "A[1][0]"
   ]
  },
  {
   "cell_type": "markdown",
   "id": "ce038f1b",
   "metadata": {},
   "source": [
    "- 성공"
   ]
  },
  {
   "cell_type": "markdown",
   "id": "b7009382",
   "metadata": {},
   "source": [
    "성고의 이유를 분석해 보자."
   ]
  },
  {
   "cell_type": "code",
   "execution_count": 175,
   "id": "1d011fc0",
   "metadata": {},
   "outputs": [
    {
     "data": {
      "text/plain": [
       "[1, 2, 3]"
      ]
     },
     "execution_count": 175,
     "metadata": {},
     "output_type": "execute_result"
    }
   ],
   "source": [
    "A[0]"
   ]
  },
  {
   "cell_type": "code",
   "execution_count": 176,
   "id": "eeb236b2",
   "metadata": {},
   "outputs": [
    {
     "data": {
      "text/plain": [
       "1"
      ]
     },
     "execution_count": 176,
     "metadata": {},
     "output_type": "execute_result"
    }
   ],
   "source": [
    "A[0][0]"
   ]
  },
  {
   "cell_type": "markdown",
   "id": "d23b7c84",
   "metadata": {},
   "source": [
    "`-` 매트릭스는 아니지만 매트릭스 같음!\n",
    "- 1차원 배열을 다차원 배열로 확장할 수 있는 기본 아이디어를 제공함"
   ]
  },
  {
   "cell_type": "markdown",
   "id": "4e6be80e",
   "metadata": {},
   "source": [
    "## 리스트컴프리헨션 (★★★)"
   ]
  },
  {
   "cell_type": "markdown",
   "id": "07ca8797",
   "metadata": {},
   "source": [
    "`-` 리스트 컴프리헨션을 이해하기 전에 for문에 대하여 알아보자."
   ]
  },
  {
   "cell_type": "markdown",
   "id": "5c329858",
   "metadata": {},
   "source": [
    "[예비학습] `for`문 벼락치기"
   ]
  },
  {
   "cell_type": "markdown",
   "id": "24777ffd",
   "metadata": {},
   "source": [
    "프로그램안에서 반복해서 무언가를 하고싶다 $\\to$ for"
   ]
  },
  {
   "cell_type": "code",
   "execution_count": 177,
   "id": "f909e8ee",
   "metadata": {},
   "outputs": [
    {
     "name": "stdout",
     "output_type": "stream",
     "text": [
      "0\n",
      "1\n",
      "2\n",
      "3\n"
     ]
    }
   ],
   "source": [
    "for i in [0,1,2,3]:   # 반복실행계획\n",
    "    print(i)          # 반복실행내용, 탭을 이용하여 들여쓰기 해야한다. "
   ]
  },
  {
   "cell_type": "markdown",
   "id": "f114f749",
   "metadata": {},
   "source": [
    "(예제) 1,2,3,4의 합을 for문을 이용하여 구해보자."
   ]
  },
  {
   "cell_type": "code",
   "execution_count": 179,
   "id": "404a8e34",
   "metadata": {},
   "outputs": [],
   "source": [
    "_sum = 0\n",
    "for i in [1,2,3,4]:\n",
    "    _sum = _sum + i\n"
   ]
  },
  {
   "cell_type": "code",
   "execution_count": 180,
   "id": "7de5922b",
   "metadata": {},
   "outputs": [
    {
     "data": {
      "text/plain": [
       "10"
      ]
     },
     "execution_count": 180,
     "metadata": {},
     "output_type": "execute_result"
    }
   ],
   "source": [
    "_sum"
   ]
  },
  {
   "cell_type": "markdown",
   "id": "5a95e558",
   "metadata": {},
   "source": [
    "`-` 예제: $ 2^0, 2^1, 2^2, 2^3$ 를 원소로 가지는 리스트를 생성"
   ]
  },
  {
   "cell_type": "markdown",
   "id": "be9e1a51",
   "metadata": {},
   "source": [
    "(풀이1)"
   ]
  },
  {
   "cell_type": "code",
   "execution_count": 182,
   "id": "53653d2d",
   "metadata": {},
   "outputs": [
    {
     "data": {
      "text/plain": [
       "[1, 2, 4, 8]"
      ]
     },
     "execution_count": 182,
     "metadata": {},
     "output_type": "execute_result"
    }
   ],
   "source": [
    "x=[2**0, 2**1, 2**2, 2**3]    ## 2의 0승\n",
    "x"
   ]
  },
  {
   "cell_type": "markdown",
   "id": "295c4017",
   "metadata": {},
   "source": [
    "(풀이2) for문을 이용"
   ]
  },
  {
   "cell_type": "code",
   "execution_count": 183,
   "id": "7aa8ece0",
   "metadata": {},
   "outputs": [],
   "source": [
    "x=[]\n",
    "for i in [0,1,2,3]:\n",
    "    x.append(2**i)  "
   ]
  },
  {
   "cell_type": "code",
   "execution_count": 184,
   "id": "a5c80edd",
   "metadata": {},
   "outputs": [
    {
     "data": {
      "text/plain": [
       "[1, 2, 4, 8]"
      ]
     },
     "execution_count": 184,
     "metadata": {},
     "output_type": "execute_result"
    }
   ],
   "source": [
    "x"
   ]
  },
  {
   "cell_type": "markdown",
   "id": "2a74bb27",
   "metadata": {},
   "source": [
    "(풀이3) for문을 이용"
   ]
  },
  {
   "cell_type": "code",
   "execution_count": 185,
   "id": "58d3e5c9",
   "metadata": {},
   "outputs": [
    {
     "data": {
      "text/plain": [
       "[1, 2, 4, 8]"
      ]
     },
     "execution_count": 185,
     "metadata": {},
     "output_type": "execute_result"
    }
   ],
   "source": [
    "x=[]\n",
    "for i in [0,1,2,3]:\n",
    "    x= x+[2**i]\n",
    "x"
   ]
  },
  {
   "cell_type": "markdown",
   "id": "cf97f24f",
   "metadata": {},
   "source": [
    "(풀이4) for문을 이용"
   ]
  },
  {
   "cell_type": "code",
   "execution_count": 187,
   "id": "11ad7828",
   "metadata": {},
   "outputs": [
    {
     "data": {
      "text/plain": [
       "[1, 2, 4, 8]"
      ]
     },
     "execution_count": 187,
     "metadata": {},
     "output_type": "execute_result"
    }
   ],
   "source": [
    "x=[]\n",
    "for i in [0,1,2,3]:\n",
    "    x+= [2**i]\n",
    "x(풀이2) for문을 이용"
   ]
  },
  {
   "cell_type": "markdown",
   "id": "1568d53b",
   "metadata": {},
   "source": [
    "(풀이5) 리스트컴프리헨션을 이용한 풀이"
   ]
  },
  {
   "cell_type": "code",
   "execution_count": 188,
   "id": "7e06aa78",
   "metadata": {},
   "outputs": [
    {
     "data": {
      "text/plain": [
       "[1, 2, 4, 8]"
      ]
     },
     "execution_count": 188,
     "metadata": {},
     "output_type": "execute_result"
    }
   ],
   "source": [
    "x= [2**i for i in [0,1,2,3]]\n",
    "x"
   ]
  },
  {
   "cell_type": "markdown",
   "id": "7fdf6950",
   "metadata": {},
   "source": [
    "`-` 리스트컴프리헨션의 문법 암기방법\n",
    "- 집합에서 조건제시법을 연상\n",
    "- 원소나열법, 조건제시법\n",
    "- $\\{2^0, 2^1, 2^2, 2^3\\} = \\{2^i: \\text{for} i \\in \\{0,1,2,3\\}$"
   ]
  },
  {
   "cell_type": "markdown",
   "id": "70190cc8",
   "metadata": {},
   "source": [
    "`-` 리스트컴프리헨션이란?\n",
    "- 리스트를 매우 효율적으로 만드는 테크닉\n",
    "- for문에 비하여 가지고 있는 장점 : 1. 코드가 간결하다. 2, 빠르다"
   ]
  },
  {
   "cell_type": "markdown",
   "id": "b73eea66",
   "metadata": {},
   "source": [
    "`-` 예제: 리스트 컴프리헨션을 이용하여 아래와 같은 리스트를 만들자."
   ]
  },
  {
   "cell_type": "code",
   "execution_count": 189,
   "id": "0a7bcc76",
   "metadata": {},
   "outputs": [
    {
     "data": {
      "text/plain": [
       "['SSSS', 'PPPP', 'AAAA', 'MMMM']"
      ]
     },
     "execution_count": 189,
     "metadata": {},
     "output_type": "execute_result"
    }
   ],
   "source": [
    "['SSSS','PPPP','AAAA','MMMM']"
   ]
  },
  {
   "cell_type": "markdown",
   "id": "6fe7fa39",
   "metadata": {},
   "source": [
    "(풀이)\n"
   ]
  },
  {
   "cell_type": "code",
   "execution_count": 190,
   "id": "e3753dd7",
   "metadata": {},
   "outputs": [
    {
     "data": {
      "text/plain": [
       "['SSSS', 'PPPP', 'AAAA', 'MMMM']"
      ]
     },
     "execution_count": 190,
     "metadata": {},
     "output_type": "execute_result"
    }
   ],
   "source": [
    "[i*4 for i in 'SPAM']"
   ]
  },
  {
   "cell_type": "markdown",
   "id": "afeed47a",
   "metadata": {},
   "source": [
    "`-` 예제: 리스트 컴프리헨션을 이용하여 아래와 같은 리스트를 만들자."
   ]
  },
  {
   "cell_type": "markdown",
   "id": "a7149fb5",
   "metadata": {},
   "source": [
    "`-` 예제: 리스트 컴프리헨션을 이용하여 아래와 같은 리스트를 만들자."
   ]
  },
  {
   "cell_type": "code",
   "execution_count": 191,
   "id": "efa21f16",
   "metadata": {},
   "outputs": [
    {
     "data": {
      "text/plain": [
       "['X1', 'X2', 'X3', 'Y1', 'Y2', 'Y3']"
      ]
     },
     "execution_count": 191,
     "metadata": {},
     "output_type": "execute_result"
    }
   ],
   "source": [
    "['X1','X2','X3','Y1','Y2','Y3']"
   ]
  },
  {
   "cell_type": "markdown",
   "id": "0f5f242b",
   "metadata": {},
   "source": [
    "(풀이)\n",
    "\n"
   ]
  },
  {
   "cell_type": "code",
   "execution_count": 194,
   "id": "993432bb",
   "metadata": {},
   "outputs": [
    {
     "name": "stdout",
     "output_type": "stream",
     "text": [
      "X1\n",
      "X2\n",
      "X3\n",
      "Y1\n",
      "Y2\n",
      "Y3\n"
     ]
    }
   ],
   "source": [
    "for i in 'XY':\n",
    "    for j in '123':\n",
    "        print(i+j)"
   ]
  },
  {
   "cell_type": "code",
   "execution_count": 195,
   "id": "f96a27f9",
   "metadata": {},
   "outputs": [
    {
     "data": {
      "text/plain": [
       "['X1', 'X2', 'X3', 'Y1', 'Y2', 'Y3']"
      ]
     },
     "execution_count": 195,
     "metadata": {},
     "output_type": "execute_result"
    }
   ],
   "source": [
    "[i+j for i in 'XY' for j in '123']"
   ]
  },
  {
   "cell_type": "markdown",
   "id": "00fb204b",
   "metadata": {},
   "source": [
    "`-` 예제: 리스트 컴프리헨션을 이용하여 통계1,,..,통계5,수학1,...,수학5를 만들어라 "
   ]
  },
  {
   "cell_type": "markdown",
   "id": "587c4ff5",
   "metadata": {},
   "source": [
    "(풀이)"
   ]
  },
  {
   "cell_type": "code",
   "execution_count": 199,
   "id": "da3fc5aa",
   "metadata": {},
   "outputs": [
    {
     "data": {
      "text/plain": [
       "['stat1',\n",
       " 'stat2',\n",
       " 'stat3',\n",
       " 'stat4',\n",
       " 'stat5',\n",
       " 'math1',\n",
       " 'math2',\n",
       " 'math3',\n",
       " 'math4',\n",
       " 'math5']"
      ]
     },
     "execution_count": 199,
     "metadata": {},
     "output_type": "execute_result"
    }
   ],
   "source": [
    "[i+j for i in ['stat', 'math'] for j in '12345']"
   ]
  },
  {
   "cell_type": "markdown",
   "id": "858e199e",
   "metadata": {},
   "source": [
    "(다른풀이) 참고로 for문을 쓰면 좀 복잡해진다."
   ]
  },
  {
   "cell_type": "code",
   "execution_count": 201,
   "id": "be501f9a",
   "metadata": {},
   "outputs": [],
   "source": [
    "_lst=[]\n",
    "for x in ['stat', 'math']:\n",
    "    for y in '12345':\n",
    "        _lst = _lst + [x+y]"
   ]
  },
  {
   "cell_type": "code",
   "execution_count": 202,
   "id": "bd864a3a",
   "metadata": {},
   "outputs": [
    {
     "data": {
      "text/plain": [
       "['stat1',\n",
       " 'stat2',\n",
       " 'stat3',\n",
       " 'stat4',\n",
       " 'stat5',\n",
       " 'math1',\n",
       " 'math2',\n",
       " 'math3',\n",
       " 'math4',\n",
       " 'math5']"
      ]
     },
     "execution_count": 202,
     "metadata": {},
     "output_type": "execute_result"
    }
   ],
   "source": [
    "_lst"
   ]
  },
  {
   "cell_type": "markdown",
   "id": "391593fe",
   "metadata": {},
   "source": [
    "`-` 예제: 'jbnu'를 이용하여 아래와 같은 리스트르 만들어라."
   ]
  },
  {
   "cell_type": "code",
   "execution_count": 205,
   "id": "aea63ead",
   "metadata": {},
   "outputs": [
    {
     "data": {
      "text/plain": [
       "['j', 'b', 'n', 'u']"
      ]
     },
     "execution_count": 205,
     "metadata": {},
     "output_type": "execute_result"
    }
   ],
   "source": [
    "['j','b','n','u']"
   ]
  },
  {
   "cell_type": "code",
   "execution_count": 206,
   "id": "80f634ea",
   "metadata": {},
   "outputs": [
    {
     "data": {
      "text/plain": [
       "['j', 'b', 'n', 'u']"
      ]
     },
     "execution_count": 206,
     "metadata": {},
     "output_type": "execute_result"
    }
   ],
   "source": [
    "list('jbnu')"
   ]
  },
  {
   "cell_type": "markdown",
   "id": "43d34e2f",
   "metadata": {},
   "source": [
    "(풀이)"
   ]
  },
  {
   "cell_type": "code",
   "execution_count": 207,
   "id": "afc47ef7",
   "metadata": {},
   "outputs": [
    {
     "data": {
      "text/plain": [
       "['j', 'b', 'n', 'u']"
      ]
     },
     "execution_count": 207,
     "metadata": {},
     "output_type": "execute_result"
    }
   ],
   "source": [
    "[x for x in 'jbnu']"
   ]
  },
  {
   "cell_type": "markdown",
   "id": "b5090582",
   "metadata": {},
   "source": [
    "`-`예제: x에는 무엇이 있을까?"
   ]
  },
  {
   "cell_type": "markdown",
   "id": "5eeb9fda",
   "metadata": {},
   "source": [
    "(경우1)"
   ]
  },
  {
   "cell_type": "code",
   "execution_count": 209,
   "id": "2e61d83c",
   "metadata": {},
   "outputs": [],
   "source": [
    "x=1\n",
    "lst=[]\n",
    "for x in 'jbnu':\n",
    "    lst = lst + [x]"
   ]
  },
  {
   "cell_type": "code",
   "execution_count": 210,
   "id": "85c2df4b",
   "metadata": {},
   "outputs": [
    {
     "data": {
      "text/plain": [
       "['j', 'b', 'n', 'u']"
      ]
     },
     "execution_count": 210,
     "metadata": {},
     "output_type": "execute_result"
    }
   ],
   "source": [
    "lst"
   ]
  },
  {
   "cell_type": "code",
   "execution_count": 211,
   "id": "063e488d",
   "metadata": {},
   "outputs": [
    {
     "data": {
      "text/plain": [
       "'u'"
      ]
     },
     "execution_count": 211,
     "metadata": {},
     "output_type": "execute_result"
    }
   ],
   "source": [
    "x"
   ]
  },
  {
   "cell_type": "markdown",
   "id": "1339fb17",
   "metadata": {},
   "source": [
    "(경우2)"
   ]
  },
  {
   "cell_type": "code",
   "execution_count": 212,
   "id": "92790a34",
   "metadata": {},
   "outputs": [
    {
     "data": {
      "text/plain": [
       "['j', 'b', 'n', 'u']"
      ]
     },
     "execution_count": 212,
     "metadata": {},
     "output_type": "execute_result"
    }
   ],
   "source": [
    "x=1\n",
    "lst = [x for x in 'jbnu']\n",
    "lst"
   ]
  },
  {
   "cell_type": "code",
   "execution_count": 213,
   "id": "88d42ec3",
   "metadata": {},
   "outputs": [
    {
     "data": {
      "text/plain": [
       "1"
      ]
     },
     "execution_count": 213,
     "metadata": {},
     "output_type": "execute_result"
    }
   ],
   "source": [
    "x"
   ]
  },
  {
   "cell_type": "markdown",
   "id": "139b86a7",
   "metadata": {},
   "source": [
    "`-` 예제: [X1,X2,X3,...,X100]과 같은 리스트를 만들어보자."
   ]
  },
  {
   "cell_type": "markdown",
   "id": "da5e1e13",
   "metadata": {},
   "source": [
    "(풀이)"
   ]
  },
  {
   "cell_type": "code",
   "execution_count": 220,
   "id": "6821fb47",
   "metadata": {},
   "outputs": [
    {
     "data": {
      "text/plain": [
       "['X1', 'X2', 'X3', 'X4']"
      ]
     },
     "execution_count": 220,
     "metadata": {},
     "output_type": "execute_result"
    }
   ],
   "source": [
    "['X'+str(i) for i in [1,2,3,4]]"
   ]
  },
  {
   "cell_type": "code",
   "execution_count": 223,
   "id": "73955903",
   "metadata": {},
   "outputs": [
    {
     "ename": "SyntaxError",
     "evalue": "invalid syntax (1716365648.py, line 1)",
     "output_type": "error",
     "traceback": [
      "\u001b[1;36m  Input \u001b[1;32mIn [223]\u001b[1;36m\u001b[0m\n\u001b[1;33m    ['X'+str(i) for i in [1:100]]   #오류!!\u001b[0m\n\u001b[1;37m                           ^\u001b[0m\n\u001b[1;31mSyntaxError\u001b[0m\u001b[1;31m:\u001b[0m invalid syntax\n"
     ]
    }
   ],
   "source": [
    "['X'+str(i) for i in [1:100]]   #오류!!"
   ]
  },
  {
   "cell_type": "markdown",
   "id": "21ab00bb",
   "metadata": {},
   "source": [
    "[예비학습]"
   ]
  },
  {
   "cell_type": "code",
   "execution_count": 222,
   "id": "073f1969",
   "metadata": {},
   "outputs": [
    {
     "data": {
      "text/plain": [
       "range(0, 10)"
      ]
     },
     "execution_count": 222,
     "metadata": {},
     "output_type": "execute_result"
    }
   ],
   "source": [
    "range(0,10)"
   ]
  },
  {
   "cell_type": "code",
   "execution_count": 224,
   "id": "5781a3fc",
   "metadata": {},
   "outputs": [],
   "source": [
    "_tmp = range(0,10)"
   ]
  },
  {
   "cell_type": "code",
   "execution_count": 225,
   "id": "3e58cd48",
   "metadata": {},
   "outputs": [
    {
     "data": {
      "text/plain": [
       "range"
      ]
     },
     "execution_count": 225,
     "metadata": {},
     "output_type": "execute_result"
    }
   ],
   "source": [
    "type(_tmp)"
   ]
  },
  {
   "cell_type": "code",
   "execution_count": 226,
   "id": "80282154",
   "metadata": {},
   "outputs": [
    {
     "data": {
      "text/plain": [
       "[0, 1, 2, 3, 4, 5, 6, 7, 8, 9]"
      ]
     },
     "execution_count": 226,
     "metadata": {},
     "output_type": "execute_result"
    }
   ],
   "source": [
    "list(_tmp)"
   ]
  },
  {
   "cell_type": "code",
   "execution_count": 228,
   "id": "740dab7f",
   "metadata": {},
   "outputs": [
    {
     "data": {
      "text/plain": [
       "[0, 1, 2, 3, 4, 5, 6, 7, 8, 9]"
      ]
     },
     "execution_count": 228,
     "metadata": {},
     "output_type": "execute_result"
    }
   ],
   "source": [
    "list(range(0,10)) #0을 포함, 10을 미포함"
   ]
  },
  {
   "cell_type": "markdown",
   "id": "12952905",
   "metadata": {},
   "source": [
    "- 이게 중요한 것. range(0,10)을 리스트화시키면 [0,1,2,...,9]와 같은기능을 얻을 수 있다."
   ]
  },
  {
   "cell_type": "code",
   "execution_count": 229,
   "id": "28463925",
   "metadata": {},
   "outputs": [
    {
     "data": {
      "text/plain": [
       "[0, 1, 2, 3, 4, 5, 6, 7, 8, 9]"
      ]
     },
     "execution_count": 229,
     "metadata": {},
     "output_type": "execute_result"
    }
   ],
   "source": [
    "list(range(10))  # 0은 생략가능"
   ]
  },
  {
   "cell_type": "code",
   "execution_count": 230,
   "id": "f14ddf31",
   "metadata": {},
   "outputs": [
    {
     "data": {
      "text/plain": [
       "[2, 3, 4, 5, 6, 7, 8, 9]"
      ]
     },
     "execution_count": 230,
     "metadata": {},
     "output_type": "execute_result"
    }
   ],
   "source": [
    "list(range(2,10))  # 2는 포함, 10은 미포함"
   ]
  },
  {
   "cell_type": "code",
   "execution_count": 231,
   "id": "d7f84894",
   "metadata": {},
   "outputs": [
    {
     "data": {
      "text/plain": [
       "[1, 3, 5, 7, 9]"
      ]
     },
     "execution_count": 231,
     "metadata": {},
     "output_type": "execute_result"
    }
   ],
   "source": [
    "list(range(1,10,2))  # 2칸씩! "
   ]
  },
  {
   "cell_type": "markdown",
   "id": "6d9c9706",
   "metadata": {},
   "source": [
    "예비학습 끝"
   ]
  },
  {
   "cell_type": "code",
   "execution_count": 232,
   "id": "b62ad8e2",
   "metadata": {
    "scrolled": true
   },
   "outputs": [
    {
     "data": {
      "text/plain": [
       "['X1',\n",
       " 'X2',\n",
       " 'X3',\n",
       " 'X4',\n",
       " 'X5',\n",
       " 'X6',\n",
       " 'X7',\n",
       " 'X8',\n",
       " 'X9',\n",
       " 'X10',\n",
       " 'X11',\n",
       " 'X12',\n",
       " 'X13',\n",
       " 'X14',\n",
       " 'X15',\n",
       " 'X16',\n",
       " 'X17',\n",
       " 'X18',\n",
       " 'X19',\n",
       " 'X20',\n",
       " 'X21',\n",
       " 'X22',\n",
       " 'X23',\n",
       " 'X24',\n",
       " 'X25',\n",
       " 'X26',\n",
       " 'X27',\n",
       " 'X28',\n",
       " 'X29',\n",
       " 'X30',\n",
       " 'X31',\n",
       " 'X32',\n",
       " 'X33',\n",
       " 'X34',\n",
       " 'X35',\n",
       " 'X36',\n",
       " 'X37',\n",
       " 'X38',\n",
       " 'X39',\n",
       " 'X40',\n",
       " 'X41',\n",
       " 'X42',\n",
       " 'X43',\n",
       " 'X44',\n",
       " 'X45',\n",
       " 'X46',\n",
       " 'X47',\n",
       " 'X48',\n",
       " 'X49',\n",
       " 'X50',\n",
       " 'X51',\n",
       " 'X52',\n",
       " 'X53',\n",
       " 'X54',\n",
       " 'X55',\n",
       " 'X56',\n",
       " 'X57',\n",
       " 'X58',\n",
       " 'X59',\n",
       " 'X60',\n",
       " 'X61',\n",
       " 'X62',\n",
       " 'X63',\n",
       " 'X64',\n",
       " 'X65',\n",
       " 'X66',\n",
       " 'X67',\n",
       " 'X68',\n",
       " 'X69',\n",
       " 'X70',\n",
       " 'X71',\n",
       " 'X72',\n",
       " 'X73',\n",
       " 'X74',\n",
       " 'X75',\n",
       " 'X76',\n",
       " 'X77',\n",
       " 'X78',\n",
       " 'X79',\n",
       " 'X80',\n",
       " 'X81',\n",
       " 'X82',\n",
       " 'X83',\n",
       " 'X84',\n",
       " 'X85',\n",
       " 'X86',\n",
       " 'X87',\n",
       " 'X88',\n",
       " 'X89',\n",
       " 'X90',\n",
       " 'X91',\n",
       " 'X92',\n",
       " 'X93',\n",
       " 'X94',\n",
       " 'X95',\n",
       " 'X96',\n",
       " 'X97',\n",
       " 'X98',\n",
       " 'X99',\n",
       " 'X100']"
      ]
     },
     "execution_count": 232,
     "metadata": {},
     "output_type": "execute_result"
    }
   ],
   "source": [
    "['X'+str(i) for i in list(range(1,101))]  # 세로로 넘 길엉 "
   ]
  },
  {
   "cell_type": "markdown",
   "id": "c6475007",
   "metadata": {},
   "source": [
    "(아래와 같은 풀이도 가능)"
   ]
  },
  {
   "cell_type": "code",
   "execution_count": 233,
   "id": "4d1ec1e8",
   "metadata": {},
   "outputs": [
    {
     "data": {
      "text/plain": [
       "['X1', 'X2', 'X3', 'X4', 'X5', 'X6', 'X7', 'X8', 'X9', 'X10', 'X11', 'X12']"
      ]
     },
     "execution_count": 233,
     "metadata": {},
     "output_type": "execute_result"
    }
   ],
   "source": [
    "['X'+str(i) for i in range(1,13)]  # 리스트화해주지 않아도 가능 for i in 뒤에 list뿐 아니라.. str도 되고... "
   ]
  },
  {
   "cell_type": "markdown",
   "id": "322a8670",
   "metadata": {},
   "source": [
    "(딴생각) for문 뒤에 올 수 있는 것이 무엇인지 생각해보자."
   ]
  },
  {
   "cell_type": "code",
   "execution_count": 234,
   "id": "c9aec8d3",
   "metadata": {},
   "outputs": [
    {
     "name": "stdout",
     "output_type": "stream",
     "text": [
      "1\n",
      "2\n",
      "3\n",
      "4\n"
     ]
    }
   ],
   "source": [
    "for i in '1234':\n",
    "    print(i)"
   ]
  },
  {
   "cell_type": "code",
   "execution_count": 235,
   "id": "d08c50e6",
   "metadata": {},
   "outputs": [
    {
     "name": "stdout",
     "output_type": "stream",
     "text": [
      "1\n",
      "2\n",
      "3\n",
      "4\n"
     ]
    }
   ],
   "source": [
    "for i in [1,2,3,4]:\n",
    "    print(i)"
   ]
  },
  {
   "cell_type": "code",
   "execution_count": 236,
   "id": "27a511a8",
   "metadata": {},
   "outputs": [
    {
     "name": "stdout",
     "output_type": "stream",
     "text": [
      "1\n",
      "2\n",
      "3\n",
      "4\n"
     ]
    }
   ],
   "source": [
    "for i in (1,2,3,4):   # 튜플\n",
    "    print(i)"
   ]
  },
  {
   "cell_type": "code",
   "execution_count": 237,
   "id": "9d7777d2",
   "metadata": {},
   "outputs": [
    {
     "name": "stdout",
     "output_type": "stream",
     "text": [
      "1\n",
      "2\n",
      "3\n",
      "4\n"
     ]
    }
   ],
   "source": [
    "for i in {1,2,3,4}: # set\n",
    "    print(i)"
   ]
  },
  {
   "cell_type": "code",
   "execution_count": 238,
   "id": "067c4ef7",
   "metadata": {},
   "outputs": [
    {
     "name": "stdout",
     "output_type": "stream",
     "text": [
      "name\n",
      "age\n"
     ]
    }
   ],
   "source": [
    "for i in {'name':'iu','age':31}:   # 딕셔너리\n",
    "    print(i)"
   ]
  },
  {
   "cell_type": "code",
   "execution_count": 240,
   "id": "022f7b39",
   "metadata": {},
   "outputs": [
    {
     "name": "stdout",
     "output_type": "stream",
     "text": [
      "1\n",
      "2\n",
      "3\n",
      "4\n"
     ]
    }
   ],
   "source": [
    "for i in range(1,5):\n",
    "    print(i)"
   ]
  },
  {
   "cell_type": "markdown",
   "id": "b6df86af",
   "metadata": {},
   "source": [
    "(숙제)"
   ]
  },
  {
   "cell_type": "markdown",
   "id": "108d44da",
   "metadata": {},
   "source": [
    "리스트컴프리헨션을 이용하여 아래와 같은 리스트를 만들어라\n",
    "\n",
    "\n",
    "['X1','X2X2','X3X3X3','X4X4X4X4','X5X5X5X5X5']\n"
   ]
  },
  {
   "cell_type": "code",
   "execution_count": 246,
   "id": "9cfbc5c0",
   "metadata": {},
   "outputs": [
    {
     "data": {
      "text/plain": [
       "['X1', 'X2X2', 'X3X3X3', 'X4X4X4X4', 'X5X5X5X5X5']"
      ]
     },
     "execution_count": 246,
     "metadata": {},
     "output_type": "execute_result"
    }
   ],
   "source": [
    "[('X'+str(i))*i for i in range(1,6)]"
   ]
  },
  {
   "cell_type": "code",
   "execution_count": null,
   "id": "a02678eb",
   "metadata": {},
   "outputs": [],
   "source": []
  },
  {
   "cell_type": "code",
   "execution_count": null,
   "id": "2bba76b8",
   "metadata": {},
   "outputs": [],
   "source": []
  },
  {
   "cell_type": "code",
   "execution_count": null,
   "id": "869097b5",
   "metadata": {},
   "outputs": [],
   "source": []
  },
  {
   "cell_type": "code",
   "execution_count": null,
   "id": "80bb2ba2",
   "metadata": {},
   "outputs": [],
   "source": []
  },
  {
   "cell_type": "code",
   "execution_count": null,
   "id": "cf05b79e",
   "metadata": {},
   "outputs": [],
   "source": []
  },
  {
   "cell_type": "code",
   "execution_count": null,
   "id": "cee51530",
   "metadata": {},
   "outputs": [],
   "source": []
  },
  {
   "cell_type": "code",
   "execution_count": null,
   "id": "b3c831cd",
   "metadata": {},
   "outputs": [],
   "source": []
  },
  {
   "cell_type": "code",
   "execution_count": null,
   "id": "dbf738c9",
   "metadata": {},
   "outputs": [],
   "source": []
  },
  {
   "cell_type": "code",
   "execution_count": null,
   "id": "faca8e8c",
   "metadata": {},
   "outputs": [],
   "source": []
  },
  {
   "cell_type": "code",
   "execution_count": null,
   "id": "f4d560d9",
   "metadata": {},
   "outputs": [],
   "source": []
  },
  {
   "cell_type": "code",
   "execution_count": null,
   "id": "782f3cbd",
   "metadata": {},
   "outputs": [],
   "source": []
  },
  {
   "cell_type": "code",
   "execution_count": null,
   "id": "93f07670",
   "metadata": {},
   "outputs": [],
   "source": []
  },
  {
   "cell_type": "code",
   "execution_count": null,
   "id": "edafc5af",
   "metadata": {},
   "outputs": [],
   "source": []
  },
  {
   "cell_type": "code",
   "execution_count": null,
   "id": "efa11ec3",
   "metadata": {},
   "outputs": [],
   "source": []
  },
  {
   "cell_type": "code",
   "execution_count": null,
   "id": "f13dc170",
   "metadata": {},
   "outputs": [],
   "source": []
  },
  {
   "cell_type": "code",
   "execution_count": null,
   "id": "b2f0af10",
   "metadata": {},
   "outputs": [],
   "source": []
  },
  {
   "cell_type": "code",
   "execution_count": null,
   "id": "10b42bbd",
   "metadata": {},
   "outputs": [],
   "source": []
  },
  {
   "cell_type": "code",
   "execution_count": null,
   "id": "5fe1704f",
   "metadata": {},
   "outputs": [],
   "source": []
  },
  {
   "cell_type": "code",
   "execution_count": null,
   "id": "976d31c9",
   "metadata": {},
   "outputs": [],
   "source": []
  },
  {
   "cell_type": "code",
   "execution_count": null,
   "id": "b29dbd1c",
   "metadata": {},
   "outputs": [],
   "source": []
  },
  {
   "cell_type": "code",
   "execution_count": null,
   "id": "5523ce8d",
   "metadata": {},
   "outputs": [],
   "source": []
  },
  {
   "cell_type": "code",
   "execution_count": null,
   "id": "884e4582",
   "metadata": {},
   "outputs": [],
   "source": []
  },
  {
   "cell_type": "code",
   "execution_count": null,
   "id": "0ae0d4bb",
   "metadata": {},
   "outputs": [],
   "source": []
  },
  {
   "cell_type": "code",
   "execution_count": null,
   "id": "0fad2e86",
   "metadata": {},
   "outputs": [],
   "source": []
  },
  {
   "cell_type": "code",
   "execution_count": null,
   "id": "690a3710",
   "metadata": {},
   "outputs": [],
   "source": []
  },
  {
   "cell_type": "code",
   "execution_count": null,
   "id": "422f45c1",
   "metadata": {},
   "outputs": [],
   "source": []
  },
  {
   "cell_type": "code",
   "execution_count": null,
   "id": "19f1f228",
   "metadata": {},
   "outputs": [],
   "source": []
  },
  {
   "cell_type": "code",
   "execution_count": null,
   "id": "7e0bf196",
   "metadata": {},
   "outputs": [],
   "source": []
  },
  {
   "cell_type": "code",
   "execution_count": null,
   "id": "06f0c29d",
   "metadata": {},
   "outputs": [],
   "source": []
  },
  {
   "cell_type": "code",
   "execution_count": null,
   "id": "b9f6c940",
   "metadata": {},
   "outputs": [],
   "source": []
  },
  {
   "cell_type": "code",
   "execution_count": null,
   "id": "75a37e83",
   "metadata": {},
   "outputs": [],
   "source": []
  },
  {
   "cell_type": "code",
   "execution_count": null,
   "id": "6d80c21f",
   "metadata": {},
   "outputs": [],
   "source": []
  },
  {
   "cell_type": "code",
   "execution_count": null,
   "id": "3953b973",
   "metadata": {},
   "outputs": [],
   "source": []
  },
  {
   "cell_type": "code",
   "execution_count": null,
   "id": "88dfaaa7",
   "metadata": {},
   "outputs": [],
   "source": []
  },
  {
   "cell_type": "code",
   "execution_count": null,
   "id": "ef4f61cb",
   "metadata": {},
   "outputs": [],
   "source": []
  },
  {
   "cell_type": "code",
   "execution_count": null,
   "id": "4dfa463d",
   "metadata": {},
   "outputs": [],
   "source": []
  },
  {
   "cell_type": "code",
   "execution_count": null,
   "id": "4c2e9c1c",
   "metadata": {},
   "outputs": [],
   "source": []
  },
  {
   "cell_type": "code",
   "execution_count": null,
   "id": "6076106c",
   "metadata": {},
   "outputs": [],
   "source": []
  },
  {
   "cell_type": "code",
   "execution_count": null,
   "id": "e7064a89",
   "metadata": {},
   "outputs": [],
   "source": []
  },
  {
   "cell_type": "code",
   "execution_count": null,
   "id": "61e3504f",
   "metadata": {},
   "outputs": [],
   "source": []
  },
  {
   "cell_type": "code",
   "execution_count": null,
   "id": "372f6ee5",
   "metadata": {},
   "outputs": [],
   "source": []
  },
  {
   "cell_type": "code",
   "execution_count": null,
   "id": "c297e801",
   "metadata": {},
   "outputs": [],
   "source": []
  },
  {
   "cell_type": "code",
   "execution_count": null,
   "id": "f41a6012",
   "metadata": {},
   "outputs": [],
   "source": []
  },
  {
   "cell_type": "code",
   "execution_count": null,
   "id": "582b59d7",
   "metadata": {},
   "outputs": [],
   "source": []
  },
  {
   "cell_type": "code",
   "execution_count": null,
   "id": "71215369",
   "metadata": {},
   "outputs": [],
   "source": []
  },
  {
   "cell_type": "code",
   "execution_count": null,
   "id": "aeb698c7",
   "metadata": {},
   "outputs": [],
   "source": []
  },
  {
   "cell_type": "code",
   "execution_count": null,
   "id": "bfe69ff1",
   "metadata": {},
   "outputs": [],
   "source": []
  }
 ],
 "metadata": {
  "kernelspec": {
   "display_name": "Python 3",
   "language": "python",
   "name": "python3"
  },
  "language_info": {
   "codemirror_mode": {
    "name": "ipython",
    "version": 3
   },
   "file_extension": ".py",
   "mimetype": "text/x-python",
   "name": "python",
   "nbconvert_exporter": "python",
   "pygments_lexer": "ipython3",
   "version": "3.7.16"
  },
  "toc": {
   "base_numbering": 1,
   "nav_menu": {},
   "number_sections": true,
   "sideBar": true,
   "skip_h1_title": false,
   "title_cell": "Table of Contents",
   "title_sidebar": "Contents",
   "toc_cell": false,
   "toc_position": {},
   "toc_section_display": true,
   "toc_window_display": false
  }
 },
 "nbformat": 4,
 "nbformat_minor": 5
}
