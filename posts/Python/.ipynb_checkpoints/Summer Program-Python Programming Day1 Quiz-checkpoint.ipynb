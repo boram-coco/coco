{
 "cells": [
  {
   "cell_type": "raw",
   "id": "15ca6a34-eaea-414d-a2e3-6a70d6618b49",
   "metadata": {},
   "source": [
    "---\n",
    "title: \"Summer Program: Python Programming _ Day1 Quiz\"\n",
    "author: \"김보람\"\n",
    "date: \"07/24/2023\"\n",
    "---"
   ]
  },
  {
   "cell_type": "code",
   "execution_count": null,
   "id": "df626738-7e6e-4f07-aab5-e99737df33e4",
   "metadata": {},
   "outputs": [],
   "source": []
  },
  {
   "cell_type": "code",
   "execution_count": null,
   "id": "e1ed2e40-3726-4df6-a164-fd1e1e3bcc54",
   "metadata": {},
   "outputs": [],
   "source": []
  },
  {
   "cell_type": "markdown",
   "id": "531a2fb3-673d-4d43-8f57-1526f574c943",
   "metadata": {
    "tags": []
   },
   "source": [
    "# lesson 1"
   ]
  },
  {
   "cell_type": "markdown",
   "id": "493584b2-821f-443c-b2ad-c93c57c92b98",
   "metadata": {
    "tags": []
   },
   "source": [
    "## Quiz"
   ]
  },
  {
   "cell_type": "markdown",
   "id": "de39d6c3-c7fa-44c9-bdb3-717dab56276e",
   "metadata": {
    "tags": []
   },
   "source": [
    "### 1"
   ]
  },
  {
   "cell_type": "code",
   "execution_count": 1,
   "id": "3c3308eb-8d3c-4f7c-b938-5a4eb4695d50",
   "metadata": {},
   "outputs": [],
   "source": [
    "a='Jeonbuk National University' "
   ]
  },
  {
   "cell_type": "code",
   "execution_count": 11,
   "id": "be69044c-e82a-4d9c-88b7-0541869a8e07",
   "metadata": {},
   "outputs": [
    {
     "data": {
      "text/plain": [
       "'University'"
      ]
     },
     "execution_count": 11,
     "metadata": {},
     "output_type": "execute_result"
    }
   ],
   "source": [
    "a[-10:]"
   ]
  },
  {
   "cell_type": "markdown",
   "id": "6c8e3954-a72c-42ad-acbf-34987b0c4067",
   "metadata": {},
   "source": [
    "### 2"
   ]
  },
  {
   "cell_type": "code",
   "execution_count": 12,
   "id": "815dd06d-22b3-4fbb-8e4a-69e12a10fae9",
   "metadata": {},
   "outputs": [
    {
     "data": {
      "text/plain": [
       "'jeonbuk national university'"
      ]
     },
     "execution_count": 12,
     "metadata": {},
     "output_type": "execute_result"
    }
   ],
   "source": [
    "a.lower()"
   ]
  },
  {
   "cell_type": "markdown",
   "id": "14dfcf5a-300d-4f28-a21e-3941f8402367",
   "metadata": {},
   "source": [
    "### 3"
   ]
  },
  {
   "cell_type": "code",
   "execution_count": 13,
   "id": "89b2951e-806a-4b6b-b3d1-1eb995a2e009",
   "metadata": {},
   "outputs": [
    {
     "data": {
      "text/plain": [
       "True"
      ]
     },
     "execution_count": 13,
     "metadata": {},
     "output_type": "execute_result"
    }
   ],
   "source": [
    "'A'.isupper()"
   ]
  },
  {
   "cell_type": "code",
   "execution_count": 14,
   "id": "7d0eb6e9-51a5-415f-943a-3e71b6ab4225",
   "metadata": {},
   "outputs": [
    {
     "data": {
      "text/plain": [
       "False"
      ]
     },
     "execution_count": 14,
     "metadata": {},
     "output_type": "execute_result"
    }
   ],
   "source": [
    "'Aa'.isupper()"
   ]
  },
  {
   "cell_type": "code",
   "execution_count": 15,
   "id": "879577e8-53ee-44d8-9a68-e0a0db38da7b",
   "metadata": {},
   "outputs": [
    {
     "data": {
      "text/plain": [
       "False"
      ]
     },
     "execution_count": 15,
     "metadata": {},
     "output_type": "execute_result"
    }
   ],
   "source": [
    "'aa'.isupper()"
   ]
  },
  {
   "cell_type": "code",
   "execution_count": 16,
   "id": "e3aeaecc-2d51-450c-9607-a26dea02bbf2",
   "metadata": {},
   "outputs": [
    {
     "data": {
      "text/plain": [
       "False"
      ]
     },
     "execution_count": 16,
     "metadata": {},
     "output_type": "execute_result"
    }
   ],
   "source": [
    "'aA'.isupper()"
   ]
  },
  {
   "cell_type": "markdown",
   "id": "5971b4a1-1153-44f4-b324-7eb7d49e6395",
   "metadata": {},
   "source": [
    "- 문자열이 모두 대문자가 맞는지 확인"
   ]
  },
  {
   "cell_type": "markdown",
   "id": "33518170-85a7-4f24-a436-132bd9494cfc",
   "metadata": {},
   "source": [
    "### 4"
   ]
  },
  {
   "cell_type": "markdown",
   "id": "c0d943fb-0a13-46cc-a7c2-1e812c5b9740",
   "metadata": {},
   "source": [
    "(a) 'a'*2 \n",
    "\n",
    "(b) 'a'*'2'\n",
    "\n",
    "(c) 'a'+2 \n",
    "\n",
    "(d) 'a'+'2'"
   ]
  },
  {
   "cell_type": "code",
   "execution_count": 17,
   "id": "0dcf37ae-ad62-4ac5-b35f-bbd1a2017a6c",
   "metadata": {},
   "outputs": [
    {
     "data": {
      "text/plain": [
       "'aa'"
      ]
     },
     "execution_count": 17,
     "metadata": {},
     "output_type": "execute_result"
    }
   ],
   "source": [
    "'a'*2"
   ]
  },
  {
   "cell_type": "code",
   "execution_count": 18,
   "id": "361f9348-e0f1-4beb-8766-65d2445b70a7",
   "metadata": {},
   "outputs": [
    {
     "ename": "TypeError",
     "evalue": "can't multiply sequence by non-int of type 'str'",
     "output_type": "error",
     "traceback": [
      "\u001b[0;31m---------------------------------------------------------------------------\u001b[0m",
      "\u001b[0;31mTypeError\u001b[0m                                 Traceback (most recent call last)",
      "Cell \u001b[0;32mIn[18], line 1\u001b[0m\n\u001b[0;32m----> 1\u001b[0m \u001b[38;5;124;43m'\u001b[39;49m\u001b[38;5;124;43ma\u001b[39;49m\u001b[38;5;124;43m'\u001b[39;49m\u001b[38;5;241;43m*\u001b[39;49m\u001b[38;5;124;43m'\u001b[39;49m\u001b[38;5;124;43m2\u001b[39;49m\u001b[38;5;124;43m'\u001b[39;49m\n",
      "\u001b[0;31mTypeError\u001b[0m: can't multiply sequence by non-int of type 'str'"
     ]
    }
   ],
   "source": [
    "'a'*'2'"
   ]
  },
  {
   "cell_type": "code",
   "execution_count": 19,
   "id": "73fb6da0-b946-469a-b0e7-5c3095d9a7c2",
   "metadata": {},
   "outputs": [
    {
     "ename": "TypeError",
     "evalue": "can only concatenate str (not \"int\") to str",
     "output_type": "error",
     "traceback": [
      "\u001b[0;31m---------------------------------------------------------------------------\u001b[0m",
      "\u001b[0;31mTypeError\u001b[0m                                 Traceback (most recent call last)",
      "Cell \u001b[0;32mIn[19], line 1\u001b[0m\n\u001b[0;32m----> 1\u001b[0m \u001b[38;5;124;43m'\u001b[39;49m\u001b[38;5;124;43ma\u001b[39;49m\u001b[38;5;124;43m'\u001b[39;49m\u001b[38;5;241;43m+\u001b[39;49m\u001b[38;5;241;43m2\u001b[39;49m\n",
      "\u001b[0;31mTypeError\u001b[0m: can only concatenate str (not \"int\") to str"
     ]
    }
   ],
   "source": [
    "'a'+2"
   ]
  },
  {
   "cell_type": "code",
   "execution_count": 20,
   "id": "93863168-758a-4252-b3d7-434f0c805357",
   "metadata": {},
   "outputs": [
    {
     "data": {
      "text/plain": [
       "'a2'"
      ]
     },
     "execution_count": 20,
     "metadata": {},
     "output_type": "execute_result"
    }
   ],
   "source": [
    "'a'+'2'"
   ]
  },
  {
   "cell_type": "markdown",
   "id": "4a0416e7-761a-437d-a4d9-99fe83189ad3",
   "metadata": {},
   "source": [
    "### 5"
   ]
  },
  {
   "cell_type": "code",
   "execution_count": 21,
   "id": "658fc039-8554-4ded-b6df-541301369470",
   "metadata": {},
   "outputs": [
    {
     "data": {
      "text/plain": [
       "'제 이름은 최규빈입니다'"
      ]
     },
     "execution_count": 21,
     "metadata": {},
     "output_type": "execute_result"
    }
   ],
   "source": [
    "'제 이름은 {}입니다'.format('최규빈')"
   ]
  },
  {
   "cell_type": "code",
   "execution_count": 22,
   "id": "8f1149ce-6908-41cc-880e-1ddbf418c297",
   "metadata": {},
   "outputs": [
    {
     "data": {
      "text/plain": [
       "'제 이름은 최규빈이고 사는곳은 전주입니다.'"
      ]
     },
     "execution_count": 22,
     "metadata": {},
     "output_type": "execute_result"
    }
   ],
   "source": [
    "'제 이름은 {}이고 사는곳은 {}입니다.'.format('최규빈','전주')"
   ]
  },
  {
   "cell_type": "code",
   "execution_count": 23,
   "id": "a270d16b-3410-4a2f-ac50-f32a71f55d7a",
   "metadata": {},
   "outputs": [
    {
     "data": {
      "text/plain": [
       "'제 이름은 전주이고 사는곳은 김보람입니다.'"
      ]
     },
     "execution_count": 23,
     "metadata": {},
     "output_type": "execute_result"
    }
   ],
   "source": [
    "'제 이름은 {}이고 사는곳은 {}입니다.'.format('전주','김보람')"
   ]
  },
  {
   "cell_type": "markdown",
   "id": "45526214-aaf5-4688-8ea0-23d2820d9c8c",
   "metadata": {},
   "source": [
    "- 뒤에 format을 순서에 맞춰서 써줘야 한다."
   ]
  },
  {
   "cell_type": "code",
   "execution_count": 24,
   "id": "e4247e62-69dd-49e7-aef0-7f82e91e6f70",
   "metadata": {},
   "outputs": [
    {
     "data": {
      "text/plain": [
       "'전북대학교 학생엠티가 3월24일-3월25일 완주 곶감펜션에서 있다고 합니다. 자세한 일정 등은 다시 공지하겠습니다.'"
      ]
     },
     "execution_count": 24,
     "metadata": {},
     "output_type": "execute_result"
    }
   ],
   "source": [
    "string = '전북대학교 학생엠티가 {}월{}일-{}월{}일 완주 곶감펜션에서 있다고 합니다. 자세한 일정 등은 다시 공지하겠습니다.' \n",
    "string.format(3,24,3,25)"
   ]
  },
  {
   "cell_type": "markdown",
   "id": "42899ddf-9ac3-468c-8ee8-70bbb61b9364",
   "metadata": {},
   "source": [
    "### 6"
   ]
  },
  {
   "cell_type": "code",
   "execution_count": 25,
   "id": "696f5b1a-5440-4426-a71b-3b3de6d3da5f",
   "metadata": {},
   "outputs": [
    {
     "data": {
      "text/plain": [
       "'abcdefu'"
      ]
     },
     "execution_count": 25,
     "metadata": {},
     "output_type": "execute_result"
    }
   ],
   "source": [
    "'abcdefg'.replace('g','u')"
   ]
  },
  {
   "cell_type": "markdown",
   "id": "a9bc4708-ab67-4de7-a80e-615b4a7f284c",
   "metadata": {},
   "source": [
    "- g를 u로 바꿔줌"
   ]
  },
  {
   "cell_type": "markdown",
   "id": "080c3a0b-9985-4a70-bef7-408ee5904cc2",
   "metadata": {},
   "source": [
    "### 7"
   ]
  },
  {
   "cell_type": "code",
   "execution_count": 26,
   "id": "1bb06a75-8cdb-4510-9c6f-98a2c4c04a0f",
   "metadata": {},
   "outputs": [
    {
     "data": {
      "text/plain": [
       "['2023', '03', '22']"
      ]
     },
     "execution_count": 26,
     "metadata": {},
     "output_type": "execute_result"
    }
   ],
   "source": [
    "'2023-03-22'.split('-')"
   ]
  },
  {
   "cell_type": "markdown",
   "id": "c5146625-48fd-42e4-b892-4d28e8ca401c",
   "metadata": {},
   "source": [
    "`-`을 기준으로 나누어줌"
   ]
  },
  {
   "cell_type": "code",
   "execution_count": 27,
   "id": "1882dada-34ea-4a01-b924-070580a8bfc1",
   "metadata": {},
   "outputs": [
    {
     "data": {
      "text/plain": [
       "['2023', '03', '22']"
      ]
     },
     "execution_count": 27,
     "metadata": {},
     "output_type": "execute_result"
    }
   ],
   "source": [
    "'2023.03.22'.split('.')"
   ]
  },
  {
   "cell_type": "markdown",
   "id": "b3dd2b6e-038f-4026-9201-57f244324fc4",
   "metadata": {},
   "source": [
    "### 8"
   ]
  },
  {
   "cell_type": "code",
   "execution_count": 28,
   "id": "d31a120c-fc5f-427d-8974-47f73d4b4872",
   "metadata": {},
   "outputs": [
    {
     "data": {
      "text/plain": [
       "True"
      ]
     },
     "execution_count": 28,
     "metadata": {},
     "output_type": "execute_result"
    }
   ],
   "source": [
    "'a' in 'abcd'"
   ]
  },
  {
   "cell_type": "markdown",
   "id": "9831a46c-c4de-45d3-b473-f3e8c3b8b805",
   "metadata": {},
   "source": [
    "- 'a'라는 문자가 'abcd' 안에 있는지 확인해주는 함수"
   ]
  },
  {
   "cell_type": "code",
   "execution_count": 29,
   "id": "cb6596ac-7245-4e66-809d-ec921d69c633",
   "metadata": {},
   "outputs": [
    {
     "data": {
      "text/plain": [
       "True"
      ]
     },
     "execution_count": 29,
     "metadata": {},
     "output_type": "execute_result"
    }
   ],
   "source": [
    "'b' in 'boram'"
   ]
  },
  {
   "cell_type": "code",
   "execution_count": 30,
   "id": "345573f1-8559-474e-ac7e-89e687dca2dc",
   "metadata": {},
   "outputs": [
    {
     "data": {
      "text/plain": [
       "False"
      ]
     },
     "execution_count": 30,
     "metadata": {},
     "output_type": "execute_result"
    }
   ],
   "source": [
    "'c' in 'boram'"
   ]
  },
  {
   "cell_type": "markdown",
   "id": "7d9d461b-87e1-495d-bb4c-3cf8f0f615fa",
   "metadata": {},
   "source": [
    "# lesson 2"
   ]
  },
  {
   "cell_type": "markdown",
   "id": "12cc2d22-8f7a-4756-996c-080b18e9643d",
   "metadata": {},
   "source": [
    "## Quiz"
   ]
  },
  {
   "cell_type": "markdown",
   "id": "ae4b43f1-0f6b-4886-95d3-87e9af0796c4",
   "metadata": {},
   "source": [
    "### 1"
   ]
  },
  {
   "cell_type": "code",
   "execution_count": 54,
   "id": "41a68e10-391e-4a62-972c-ba1dd7517dec",
   "metadata": {},
   "outputs": [
    {
     "data": {
      "text/plain": [
       "[]"
      ]
     },
     "execution_count": 54,
     "metadata": {},
     "output_type": "execute_result"
    }
   ],
   "source": [
    "a=[]\n",
    "a"
   ]
  },
  {
   "cell_type": "code",
   "execution_count": 55,
   "id": "addc9764-80e5-4e35-b90a-077fe12ec9f9",
   "metadata": {},
   "outputs": [
    {
     "data": {
      "text/plain": [
       "0"
      ]
     },
     "execution_count": 55,
     "metadata": {},
     "output_type": "execute_result"
    }
   ],
   "source": [
    "len(a)"
   ]
  },
  {
   "cell_type": "markdown",
   "id": "252eb4e2-cea3-4edc-9589-c021fbcd4c00",
   "metadata": {},
   "source": [
    "### 2"
   ]
  },
  {
   "cell_type": "code",
   "execution_count": 57,
   "id": "8dc24d5a-9d82-4f9c-a200-8004ef86cd73",
   "metadata": {},
   "outputs": [
    {
     "ename": "TypeError",
     "evalue": "object of type 'float' has no len()",
     "output_type": "error",
     "traceback": [
      "\u001b[0;31m---------------------------------------------------------------------------\u001b[0m",
      "\u001b[0;31mTypeError\u001b[0m                                 Traceback (most recent call last)",
      "Cell \u001b[0;32mIn[57], line 1\u001b[0m\n\u001b[0;32m----> 1\u001b[0m \u001b[38;5;28;43mlen\u001b[39;49m\u001b[43m(\u001b[49m\u001b[38;5;241;43m3.14\u001b[39;49m\u001b[43m)\u001b[49m\n",
      "\u001b[0;31mTypeError\u001b[0m: object of type 'float' has no len()"
     ]
    }
   ],
   "source": [
    "len(3.14)"
   ]
  },
  {
   "cell_type": "code",
   "execution_count": 58,
   "id": "36a2d228-8b51-47f4-91fa-4764c1faac4d",
   "metadata": {},
   "outputs": [
    {
     "data": {
      "text/plain": [
       "1"
      ]
     },
     "execution_count": 58,
     "metadata": {},
     "output_type": "execute_result"
    }
   ],
   "source": [
    "len([3.14]) "
   ]
  },
  {
   "cell_type": "code",
   "execution_count": 59,
   "id": "e8422528-692f-416c-9482-899e7fa5ed95",
   "metadata": {},
   "outputs": [
    {
     "data": {
      "text/plain": [
       "4"
      ]
     },
     "execution_count": 59,
     "metadata": {},
     "output_type": "execute_result"
    }
   ],
   "source": [
    "len('3.14') "
   ]
  },
  {
   "cell_type": "markdown",
   "id": "8c6b338c-1669-47b8-996a-854410817c70",
   "metadata": {},
   "source": [
    "### 3"
   ]
  },
  {
   "cell_type": "code",
   "execution_count": 60,
   "id": "7b151e84-3bdd-4a2b-ab07-1532ffdea073",
   "metadata": {},
   "outputs": [
    {
     "data": {
      "text/plain": [
       "[1, 2, 2, 3, 3, 4, 4, 4, 4, 5, 5, 5, 5, 5]"
      ]
     },
     "execution_count": 60,
     "metadata": {},
     "output_type": "execute_result"
    }
   ],
   "source": [
    "[1]*1+[2]*2+[3]*2+[4]*4+[5]*5"
   ]
  },
  {
   "cell_type": "markdown",
   "id": "885fc4f2-1b39-4d4f-b086-a8046f1c5146",
   "metadata": {},
   "source": [
    "### 4"
   ]
  },
  {
   "cell_type": "code",
   "execution_count": 61,
   "id": "919688d2-5695-4c3e-b0a1-b326951b72fb",
   "metadata": {},
   "outputs": [
    {
     "data": {
      "text/plain": [
       "2"
      ]
     },
     "execution_count": 61,
     "metadata": {},
     "output_type": "execute_result"
    }
   ],
   "source": [
    "sum([1,0,1,0])"
   ]
  },
  {
   "cell_type": "code",
   "execution_count": 62,
   "id": "1b6a252c-102b-481c-b004-1cbd6677ea8c",
   "metadata": {},
   "outputs": [
    {
     "data": {
      "text/plain": [
       "2"
      ]
     },
     "execution_count": 62,
     "metadata": {},
     "output_type": "execute_result"
    }
   ],
   "source": [
    "sum([True,False,True,False])"
   ]
  },
  {
   "cell_type": "markdown",
   "id": "73c87732-7b79-4fda-9235-eb2db0e4de50",
   "metadata": {},
   "source": [
    "### 5"
   ]
  },
  {
   "cell_type": "code",
   "execution_count": 63,
   "id": "a4848585-6879-43aa-8b15-93a047709685",
   "metadata": {},
   "outputs": [
    {
     "data": {
      "text/plain": [
       "[80, 60, 80, 90, 55, 85, 95, 100, 35, 70, 75, 65, 95]"
      ]
     },
     "execution_count": 63,
     "metadata": {},
     "output_type": "execute_result"
    }
   ],
   "source": [
    "x = [80,60,80,90,55,85,95,100,35,70,75,65,95]\n",
    "x"
   ]
  },
  {
   "cell_type": "code",
   "execution_count": 80,
   "id": "424d0b5b-b29a-48d3-b7c5-25c1f2563810",
   "metadata": {},
   "outputs": [
    {
     "data": {
      "text/plain": [
       "5"
      ]
     },
     "execution_count": 80,
     "metadata": {},
     "output_type": "execute_result"
    }
   ],
   "source": [
    "sum([xi >80 for xi in x])"
   ]
  },
  {
   "cell_type": "markdown",
   "id": "b5b17080-386e-409f-8873-dc4a6004a324",
   "metadata": {},
   "source": [
    "### 6"
   ]
  },
  {
   "cell_type": "code",
   "execution_count": 81,
   "id": "910781b4-15d6-486c-ae23-566530937bc3",
   "metadata": {},
   "outputs": [
    {
     "data": {
      "text/plain": [
       "['A', 'B', 'C', 'D', 'A', 'A', 'B', 'A', 'F', 'C', 'C', 'C', 'A']"
      ]
     },
     "execution_count": 81,
     "metadata": {},
     "output_type": "execute_result"
    }
   ],
   "source": [
    "['A','B','C','D','A','A','B','A','F','C','C','C','A']"
   ]
  },
  {
   "cell_type": "code",
   "execution_count": 82,
   "id": "a3a5c5ab-27f5-44e1-aec3-7aad046fc4e3",
   "metadata": {},
   "outputs": [],
   "source": [
    "a=['A','B','C','D','A','A','B','A','F','C','C','C','A']"
   ]
  },
  {
   "cell_type": "code",
   "execution_count": 85,
   "id": "8f19357c-e70c-4d17-957f-d5457ec8d569",
   "metadata": {},
   "outputs": [
    {
     "data": {
      "text/plain": [
       "5"
      ]
     },
     "execution_count": 85,
     "metadata": {},
     "output_type": "execute_result"
    }
   ],
   "source": [
    "a.count('A')"
   ]
  },
  {
   "cell_type": "code",
   "execution_count": 86,
   "id": "05cd9eb0-6bd9-4ed5-ac58-9cc7c4787032",
   "metadata": {},
   "outputs": [
    {
     "data": {
      "text/plain": [
       "2"
      ]
     },
     "execution_count": 86,
     "metadata": {},
     "output_type": "execute_result"
    }
   ],
   "source": [
    "a.count('B')"
   ]
  },
  {
   "cell_type": "code",
   "execution_count": 87,
   "id": "2e81e72a-8b54-4529-8186-865c67b5a575",
   "metadata": {},
   "outputs": [
    {
     "data": {
      "text/plain": [
       "7"
      ]
     },
     "execution_count": 87,
     "metadata": {},
     "output_type": "execute_result"
    }
   ],
   "source": [
    "lst = ['A','B','C','D','A','A','B','A','F','C','C','C','A']\n",
    "sum([l <'C' for l in lst])"
   ]
  },
  {
   "cell_type": "markdown",
   "id": "7a30f2bf-c152-4069-bcd8-aa7b5ecf602b",
   "metadata": {},
   "source": [
    "### 7"
   ]
  },
  {
   "cell_type": "code",
   "execution_count": 88,
   "id": "eaabfdd2-d39f-4dc3-b2c9-4828b6c04af1",
   "metadata": {},
   "outputs": [],
   "source": [
    "x=[1,2,1,5,6,2,4,7]\n",
    "y=[3,2,4,1,2,5,6,7] "
   ]
  },
  {
   "cell_type": "code",
   "execution_count": 96,
   "id": "27c8fe01-cc0a-4a2d-83b2-33b06d3bae8f",
   "metadata": {},
   "outputs": [
    {
     "data": {
      "text/plain": [
       "[10, 8, 17, 26, 40, 29, 52, 98]"
      ]
     },
     "execution_count": 96,
     "metadata": {},
     "output_type": "execute_result"
    }
   ],
   "source": [
    "[x[i]**2+y[i]**2 for i in range(8)]"
   ]
  },
  {
   "cell_type": "markdown",
   "id": "497effa0-3d01-4ca4-a9ca-c07161b9826e",
   "metadata": {},
   "source": [
    "### 8"
   ]
  },
  {
   "cell_type": "code",
   "execution_count": 97,
   "id": "fe52b84c-7a1c-446e-b22e-98900507dd8d",
   "metadata": {},
   "outputs": [],
   "source": [
    "test_arr = 'ssh-rsa AAAAB3NzaC1yc2EAAAABIwAAAQEAklOUpkDHrfHY17SbrmTIpNLTGK9Tjom/BWDSUGPl+nafzlHDTYW7hdI4yZ5ew18JH4JW9jbhUFrviQzM7xlELEVf4h9lFX5QVkbPppSwg0cda3Pbv7kOdJ/MTyBlWXFCR+HAo3FXRitBqxiX1nKhXpHAZsMciLq8V6RjsNAQwdsdMFvSlVK/7XAt3FaoJoAsncM1Q9x5+3V0Ww68/eIFmb1zuUFljQJKprrX88XypNDvjYNby6vw/Pb0rwert/EnmZ+AW4OZPnTPI89ZPmVMLuayrD2cE86Z/il8b+gw3r3+1nKatmIkjn2so1d01QraTlMqVSsbxNrRFi9wrf+M7Q== schacon@mylaptop.local'"
   ]
  },
  {
   "cell_type": "code",
   "execution_count": 102,
   "id": "bd8a940c-2db4-47e0-b7c4-6992390b2e12",
   "metadata": {},
   "outputs": [
    {
     "data": {
      "text/plain": [
       "155"
      ]
     },
     "execution_count": 102,
     "metadata": {},
     "output_type": "execute_result"
    }
   ],
   "source": [
    "sum([s.isupper() for s in test_arr ])"
   ]
  },
  {
   "cell_type": "markdown",
   "id": "92419b2c-4f40-48a9-8e20-297812169d7a",
   "metadata": {},
   "source": [
    "### 9"
   ]
  },
  {
   "cell_type": "code",
   "execution_count": 109,
   "id": "22ce1cd0-fd5e-4169-a428-11b85087d205",
   "metadata": {},
   "outputs": [
    {
     "data": {
      "text/plain": [
       "['a',\n",
       " 'aa',\n",
       " 'aaa',\n",
       " 'aaaa',\n",
       " 'aaaaa',\n",
       " 'aaaaaa',\n",
       " 'aaaaaaa',\n",
       " 'aaaaaaaa',\n",
       " 'aaaaaaaaa',\n",
       " 'aaaaaaaaaa']"
      ]
     },
     "execution_count": 109,
     "metadata": {},
     "output_type": "execute_result"
    }
   ],
   "source": [
    "['a'*i for i in range(1,11)]"
   ]
  },
  {
   "cell_type": "markdown",
   "id": "87da8dce-838a-4a31-b89e-370c22906e71",
   "metadata": {},
   "source": [
    "### 10"
   ]
  },
  {
   "cell_type": "code",
   "execution_count": 110,
   "id": "db3b266c-7536-4caf-8b3a-2b0126a854cc",
   "metadata": {},
   "outputs": [],
   "source": [
    "test_lst = [['g',1],['u',5],['e',2],['b',8],['i',2],['n',9]]"
   ]
  },
  {
   "cell_type": "code",
   "execution_count": 116,
   "id": "5300cc81-6ec5-4ce4-b6a4-490cc1c8ea8e",
   "metadata": {},
   "outputs": [
    {
     "data": {
      "text/plain": [
       "['g', 'uuuuu', 'ee', 'bbbbbbbb', 'ii', 'nnnnnnnnn']"
      ]
     },
     "execution_count": 116,
     "metadata": {},
     "output_type": "execute_result"
    }
   ],
   "source": [
    "[i[0]*i[1] for i in test_lst]"
   ]
  },
  {
   "cell_type": "markdown",
   "id": "9824fb53-e7e4-4966-929c-7c81708cef09",
   "metadata": {},
   "source": [
    "### 11"
   ]
  },
  {
   "cell_type": "code",
   "execution_count": 117,
   "id": "9c69945f-a168-467f-811a-5ec0379aa3d1",
   "metadata": {},
   "outputs": [
    {
     "data": {
      "text/plain": [
       "[1, 2, 2, 3, 3, 3]"
      ]
     },
     "execution_count": 117,
     "metadata": {},
     "output_type": "execute_result"
    }
   ],
   "source": [
    "[1,2,2,3,3,3]"
   ]
  },
  {
   "cell_type": "code",
   "execution_count": 127,
   "id": "486c2031-8010-46f3-add1-b96b4a1c7c18",
   "metadata": {},
   "outputs": [],
   "source": [
    "a = []\n",
    "for i in range(1,4):\n",
    "    a = a + [i]*i"
   ]
  },
  {
   "cell_type": "code",
   "execution_count": 128,
   "id": "cec3b6ff-2f0e-4f98-82f1-a58bcf3f7fc4",
   "metadata": {},
   "outputs": [
    {
     "data": {
      "text/plain": [
       "[1, 2, 2, 3, 3, 3]"
      ]
     },
     "execution_count": 128,
     "metadata": {},
     "output_type": "execute_result"
    }
   ],
   "source": [
    "a"
   ]
  },
  {
   "cell_type": "markdown",
   "id": "918642b8-86f2-4dd9-8600-8eb08f09bf0f",
   "metadata": {},
   "source": [
    "### 12"
   ]
  },
  {
   "cell_type": "code",
   "execution_count": 129,
   "id": "3389685e-8092-4f15-a4ee-5c4fd2c5f2be",
   "metadata": {},
   "outputs": [],
   "source": [
    "lst = ['2022/09/21','2022/10/30','2022/12/25','2023/01/01','2023/01/31','2023/03/20']"
   ]
  },
  {
   "cell_type": "code",
   "execution_count": 134,
   "id": "236b602d-963f-41cb-bf50-5a750dd11966",
   "metadata": {},
   "outputs": [
    {
     "data": {
      "text/plain": [
       "['2022-09-21',\n",
       " '2022-10-30',\n",
       " '2022-12-25',\n",
       " '2023-01-01',\n",
       " '2023-01-31',\n",
       " '2023-03-20']"
      ]
     },
     "execution_count": 134,
     "metadata": {},
     "output_type": "execute_result"
    }
   ],
   "source": [
    "[a.replace('/','-') for a in lst]"
   ]
  },
  {
   "cell_type": "markdown",
   "id": "4ae07106-d90c-4a01-93d0-820163b90f6d",
   "metadata": {},
   "source": [
    "### 13"
   ]
  },
  {
   "cell_type": "code",
   "execution_count": 137,
   "id": "bf4c31ee-b3b9-428b-ad3f-0c67ae0d8a16",
   "metadata": {},
   "outputs": [
    {
     "data": {
      "text/plain": [
       "'2021. 01. 05.'"
      ]
     },
     "execution_count": 137,
     "metadata": {},
     "output_type": "execute_result"
    }
   ],
   "source": [
    "a='2021. 01. 05.'\n",
    "a"
   ]
  },
  {
   "cell_type": "code",
   "execution_count": 139,
   "id": "b34575e6-9483-4150-95a9-0214325026f3",
   "metadata": {},
   "outputs": [
    {
     "data": {
      "text/plain": [
       "'2021.01.05.'"
      ]
     },
     "execution_count": 139,
     "metadata": {},
     "output_type": "execute_result"
    }
   ],
   "source": [
    "a.replace(' ','')"
   ]
  },
  {
   "cell_type": "markdown",
   "id": "e8295bbb-d889-4ab7-9100-62262618eb99",
   "metadata": {},
   "source": [
    "### 14"
   ]
  },
  {
   "cell_type": "code",
   "execution_count": 140,
   "id": "8a5b3fea-8a8d-4655-a9d9-4a4aefabbcf0",
   "metadata": {},
   "outputs": [
    {
     "data": {
      "text/plain": [
       "'2022-01-05'"
      ]
     },
     "execution_count": 140,
     "metadata": {},
     "output_type": "execute_result"
    }
   ],
   "source": [
    "'-'.join(['2022','01','05'])"
   ]
  },
  {
   "cell_type": "code",
   "execution_count": 141,
   "id": "d533f827-a5f1-42c8-943d-0b62fc38e79a",
   "metadata": {},
   "outputs": [
    {
     "data": {
      "text/plain": [
       "'2022.01.05'"
      ]
     },
     "execution_count": 141,
     "metadata": {},
     "output_type": "execute_result"
    }
   ],
   "source": [
    "'.'.join(['2022','01','05'])"
   ]
  },
  {
   "cell_type": "code",
   "execution_count": 142,
   "id": "eb88127d-0b25-4cea-b370-82b24d55500b",
   "metadata": {},
   "outputs": [
    {
     "data": {
      "text/plain": [
       "'2022/01/05'"
      ]
     },
     "execution_count": 142,
     "metadata": {},
     "output_type": "execute_result"
    }
   ],
   "source": [
    "'/'.join(['2022','01','05'])"
   ]
  },
  {
   "cell_type": "markdown",
   "id": "ee1e26de-33ce-493d-aa49-554be66b11f7",
   "metadata": {},
   "source": [
    "### 15"
   ]
  },
  {
   "cell_type": "code",
   "execution_count": 143,
   "id": "9969feb4-ffee-47b3-9ad8-c148ea9e08d8",
   "metadata": {},
   "outputs": [],
   "source": [
    "block = ['■'] "
   ]
  },
  {
   "cell_type": "code",
   "execution_count": 147,
   "id": "8ebff647-f7c3-49c0-9fec-0dbf58c2a4c7",
   "metadata": {},
   "outputs": [
    {
     "data": {
      "text/plain": [
       "['■', '■', '■', '■', '■', '■', '■', '■', '■', '■']"
      ]
     },
     "execution_count": 147,
     "metadata": {},
     "output_type": "execute_result"
    }
   ],
   "source": [
    "block*10"
   ]
  },
  {
   "cell_type": "code",
   "execution_count": 148,
   "id": "5bf27e8f-fb8d-499a-9e7e-a8e4e9a45955",
   "metadata": {},
   "outputs": [
    {
     "data": {
      "text/plain": [
       "'■-■-■-■-■-■-■-■-■-■'"
      ]
     },
     "execution_count": 148,
     "metadata": {},
     "output_type": "execute_result"
    }
   ],
   "source": [
    "'-'.join(block*10)"
   ]
  },
  {
   "cell_type": "markdown",
   "id": "5323d02a-8ba8-48a5-acfc-5cae54884b19",
   "metadata": {},
   "source": [
    "### 16"
   ]
  },
  {
   "cell_type": "code",
   "execution_count": 152,
   "id": "158054a1-1071-49ef-967f-ad56f80c65e5",
   "metadata": {},
   "outputs": [
    {
     "data": {
      "text/plain": [
       "['2023', '03', '22']"
      ]
     },
     "execution_count": 152,
     "metadata": {},
     "output_type": "execute_result"
    }
   ],
   "source": [
    "['2023', '03', '22']"
   ]
  },
  {
   "cell_type": "code",
   "execution_count": 151,
   "id": "6ad0b14b-0eda-4e85-bf24-bf59ba4bc23b",
   "metadata": {},
   "outputs": [
    {
     "data": {
      "text/plain": [
       "'2023-03-22'"
      ]
     },
     "execution_count": 151,
     "metadata": {},
     "output_type": "execute_result"
    }
   ],
   "source": [
    "'-'.join(['2023', '03', '22'])"
   ]
  },
  {
   "cell_type": "markdown",
   "id": "50b71669-ffa0-4ae4-9fac-86a823992815",
   "metadata": {},
   "source": [
    "### 17"
   ]
  },
  {
   "cell_type": "code",
   "execution_count": 154,
   "id": "5460c423-2f3a-442b-b3cc-f8412f61ba0d",
   "metadata": {},
   "outputs": [],
   "source": [
    "a = ('202250926',)"
   ]
  },
  {
   "cell_type": "code",
   "execution_count": 155,
   "id": "0c579de2-a22e-4fad-abaf-e58d7903a106",
   "metadata": {},
   "outputs": [
    {
     "data": {
      "text/plain": [
       "1"
      ]
     },
     "execution_count": 155,
     "metadata": {},
     "output_type": "execute_result"
    }
   ],
   "source": [
    "len(a)"
   ]
  },
  {
   "cell_type": "code",
   "execution_count": 156,
   "id": "af2dbfd2-21e1-4332-8fab-3c04bbf55284",
   "metadata": {},
   "outputs": [
    {
     "data": {
      "text/plain": [
       "tuple"
      ]
     },
     "execution_count": 156,
     "metadata": {},
     "output_type": "execute_result"
    }
   ],
   "source": [
    "type(a)"
   ]
  },
  {
   "cell_type": "code",
   "execution_count": 162,
   "id": "8474719d-9790-4e24-8e61-690b0baad97f",
   "metadata": {},
   "outputs": [],
   "source": [
    "b = ('boram',)"
   ]
  },
  {
   "cell_type": "code",
   "execution_count": 163,
   "id": "9fa0640f-85fc-4d22-b02e-fff21880692f",
   "metadata": {},
   "outputs": [
    {
     "data": {
      "text/plain": [
       "('202250926', 'boram')"
      ]
     },
     "execution_count": 163,
     "metadata": {},
     "output_type": "execute_result"
    }
   ],
   "source": [
    "a + b"
   ]
  },
  {
   "cell_type": "markdown",
   "id": "2eaa5b28-5fb5-452c-9c71-c68aede7454d",
   "metadata": {},
   "source": [
    "### 18"
   ]
  },
  {
   "cell_type": "code",
   "execution_count": 164,
   "id": "ec5c2707-716e-43de-b080-defde7098905",
   "metadata": {},
   "outputs": [
    {
     "data": {
      "text/plain": [
       "[['2021-43052', 'GuebinChoi', 5, 10, 20, 25],\n",
       " ['2019-12342', 'Heung-min Son', 10, 15, 30, 15],\n",
       " ['2018-32234', 'hynn', 7, 20, 30, 15],\n",
       " ['2022-42323', 'Minji', 8, 20, 20, 35],\n",
       " ['2023-55342', 'Hanni', 7, 20, 30, 35],\n",
       " ['2022-46624', 'Danielle', 3, 15, 30, 40],\n",
       " ['2022-11239', 'Haerin', 10, 20, 30, 40],\n",
       " ['2022-32114', 'Hyein', 10, 20, 20, 35]]"
      ]
     },
     "execution_count": 164,
     "metadata": {},
     "output_type": "execute_result"
    }
   ],
   "source": [
    "lst = [['2021-43052', 'GuebinChoi', 5, 10, 20, 25],\n",
    "       ['2019-12342', 'Heung-min Son', 10, 15, 30, 15],\n",
    "       ['2018-32234', 'hynn', 7, 20, 30, 15],\n",
    "       ['2022-42323', 'Minji', 8, 20, 20, 35],\n",
    "       ['2023-55342', 'Hanni', 7, 20, 30, 35],\n",
    "       ['2022-46624', 'Danielle', 3, 15, 30, 40],\n",
    "       ['2022-11239', 'Haerin', 10, 20, 30, 40],\n",
    "       ['2022-32114', 'Hyein', 10, 20, 20, 35]]\n",
    "lst "
   ]
  },
  {
   "cell_type": "code",
   "execution_count": 165,
   "id": "d65faaf4-7a3f-4e7e-9aa5-a7b48036b590",
   "metadata": {},
   "outputs": [
    {
     "data": {
      "text/plain": [
       "8"
      ]
     },
     "execution_count": 165,
     "metadata": {},
     "output_type": "execute_result"
    }
   ],
   "source": [
    "len(lst)"
   ]
  },
  {
   "cell_type": "markdown",
   "id": "42beed83-4339-4442-8c3c-c56fd5cfd5f2",
   "metadata": {},
   "source": [
    "### 19"
   ]
  },
  {
   "cell_type": "markdown",
   "id": "8de3aa7c-1af6-4e4b-8a14-2146403fb36c",
   "metadata": {},
   "source": [
    ". 전북대학교 지침에 따라 출석점수가 7보다 작은 학생은 (즉 출석점수 < 7 일 경우) F학점을 부여하게 되어있다. 이 기준에 따르면 F를 받는 학생은 모두 몇명인가?"
   ]
  },
  {
   "cell_type": "code",
   "execution_count": 169,
   "id": "750c4d88-05e7-4957-a7b5-42b6db1eb3e1",
   "metadata": {},
   "outputs": [
    {
     "data": {
      "text/plain": [
       "2"
      ]
     },
     "execution_count": 169,
     "metadata": {},
     "output_type": "execute_result"
    }
   ],
   "source": [
    "sum([a<7 for _,_,a, *rest in lst])"
   ]
  },
  {
   "cell_type": "markdown",
   "id": "c7b1389e-0b3c-4eaf-9f2d-63b297b2d54b",
   "metadata": {},
   "source": [
    "### 20"
   ]
  },
  {
   "cell_type": "markdown",
   "id": "6e07e12f-718e-4363-9cb4-3b4fce2650f9",
   "metadata": {},
   "source": [
    "파이썬프로그래밍 수업의 경우 출석+레포트 < 21 일 경우 F학점을 부여한다고 한다. 이 기준에 따르면 F를 받는 학생은 모두 몇명인가?"
   ]
  },
  {
   "cell_type": "code",
   "execution_count": 173,
   "id": "782ee5e2-236c-456c-af3a-71dca330462b",
   "metadata": {},
   "outputs": [
    {
     "data": {
      "text/plain": [
       "2"
      ]
     },
     "execution_count": 173,
     "metadata": {},
     "output_type": "execute_result"
    }
   ],
   "source": [
    "sum([a+b<21 for _,_,a,b, *rest in lst])"
   ]
  },
  {
   "cell_type": "markdown",
   "id": "ca49dc9a-4447-4eb0-a80a-aa321fd788a1",
   "metadata": {},
   "source": [
    "### 21"
   ]
  },
  {
   "cell_type": "markdown",
   "id": "084bad09-becd-4261-b13b-43da20382454",
   "metadata": {},
   "source": [
    " 리스트의 정렬순서를 [학번, 이름, …, 기말고사점수] 가 아니라 [이름, 학번, … , 기말고사점수] 와 같이 되도록 변경하는 코드를 작성하라."
   ]
  },
  {
   "cell_type": "code",
   "execution_count": 174,
   "id": "c714f394-4d56-4ee3-b50c-2615e778b68d",
   "metadata": {},
   "outputs": [
    {
     "data": {
      "text/plain": [
       "[['GuebinChoi', '2021-43052', 5, 10, 20, 25],\n",
       " ['Heung-min Son', '2019-12342', 10, 15, 30, 15],\n",
       " ['hynn', '2018-32234', 7, 20, 30, 15],\n",
       " ['Minji', '2022-42323', 8, 20, 20, 35],\n",
       " ['Hanni', '2023-55342', 7, 20, 30, 35],\n",
       " ['Danielle', '2022-46624', 3, 15, 30, 40],\n",
       " ['Haerin', '2022-11239', 10, 20, 30, 40],\n",
       " ['Hyein', '2022-32114', 10, 20, 20, 35]]"
      ]
     },
     "execution_count": 174,
     "metadata": {},
     "output_type": "execute_result"
    }
   ],
   "source": [
    "[[name,studentid,*rest] for studentid, name, *rest in lst]"
   ]
  },
  {
   "cell_type": "markdown",
   "id": "9404cc5c-5b73-457e-ade0-0753836e3c7d",
   "metadata": {},
   "source": [
    "### 22"
   ]
  },
  {
   "cell_type": "code",
   "execution_count": 421,
   "id": "3dd145d1-db9b-4c2a-bbd8-424c5b40b025",
   "metadata": {},
   "outputs": [],
   "source": [
    "text = \"국내뿐 아니라 해외 인기도 심상치 않다. 2023년 1월 18일 'Ditto'가 빌보드 핫 100에 96위로 진입했다. 이는 K-pop 역사상 데뷔후 최단 빌보드 Hot 100 차트 입성 기록이다. 다른 뮤지션들이 보통 데뷔 후 수년간 쌓아온 팬덤을 기반으로 빌보드에 입성한데 비해, 뉴진스의 기록은 이례적인 것으로 평가받고 있다. 또한 'OMG'가 빌보드 핫 100에 91위로 진입한 동시에 'Ditto'는 85위로 순위가 상승, 핫 100 주간차트에 두 곡을 올려놓았다. K-Pop 역사상 이 차트에 두 곡 이상을 진입시킨 아티스트는 방탄소년단과 블랙핑크가 유일하다. 'Ditto'는 1월 셋째주 기준, 빌보드뿐만 아니라 영국 오피셜 싱글 차트 '톱 100'에 2주 연속 진입하기도 했다.\""
   ]
  },
  {
   "cell_type": "code",
   "execution_count": 422,
   "id": "9a670635-974a-4062-b6f3-ebe511a786f7",
   "metadata": {},
   "outputs": [
    {
     "data": {
      "text/plain": [
       "['국내뿐 아니라 해외 인기도 심상치 않다',\n",
       " \" 2023년 1월 18일 'Ditto'가 빌보드 핫 100에 96위로 진입했다\",\n",
       " ' 이는 K-pop 역사상 데뷔후 최단 빌보드 Hot 100 차트 입성 기록이다',\n",
       " ' 다른 뮤지션들이 보통 데뷔 후 수년간 쌓아온 팬덤을 기반으로 빌보드에 입성한데 비해, 뉴진스의 기록은 이례적인 것으로 평가받고 있다',\n",
       " \" 또한 'OMG'가 빌보드 핫 100에 91위로 진입한 동시에 'Ditto'는 85위로 순위가 상승, 핫 100 주간차트에 두 곡을 올려놓았다\",\n",
       " ' K-Pop 역사상 이 차트에 두 곡 이상을 진입시킨 아티스트는 방탄소년단과 블랙핑크가 유일하다',\n",
       " \" 'Ditto'는 1월 셋째주 기준, 빌보드뿐만 아니라 영국 오피셜 싱글 차트 '톱 100'에 2주 연속 진입하기도 했다\",\n",
       " '']"
      ]
     },
     "execution_count": 422,
     "metadata": {},
     "output_type": "execute_result"
    }
   ],
   "source": [
    "aa=text.split('.')\n",
    "aa"
   ]
  },
  {
   "cell_type": "code",
   "execution_count": 423,
   "id": "65ba9838-8d0b-496e-a15f-99bf4194de87",
   "metadata": {},
   "outputs": [
    {
     "data": {
      "text/plain": [
       "8"
      ]
     },
     "execution_count": 423,
     "metadata": {},
     "output_type": "execute_result"
    }
   ],
   "source": [
    "len(aa)"
   ]
  },
  {
   "cell_type": "markdown",
   "id": "c1d260b7-0980-4c49-ba86-a96a19bd3d83",
   "metadata": {},
   "source": [
    "- 그냥 '.' 으로 구분해버리게 되면 맨 마지막 \"\"까지 길이를 세게 된다. 조심!"
   ]
  },
  {
   "cell_type": "code",
   "execution_count": 200,
   "id": "24c1f837-74c0-4e3f-8fec-7d2a17633c35",
   "metadata": {},
   "outputs": [
    {
     "data": {
      "text/plain": [
       "['국내뿐 아니라 해외 인기도 심상치 않다',\n",
       " \"2023년 1월 18일 'Ditto'가 빌보드 핫 100에 96위로 진입했다\",\n",
       " '이는 K-pop 역사상 데뷔후 최단 빌보드 Hot 100 차트 입성 기록이다',\n",
       " '다른 뮤지션들이 보통 데뷔 후 수년간 쌓아온 팬덤을 기반으로 빌보드에 입성한데 비해, 뉴진스의 기록은 이례적인 것으로 평가받고 있다',\n",
       " \"또한 'OMG'가 빌보드 핫 100에 91위로 진입한 동시에 'Ditto'는 85위로 순위가 상승, 핫 100 주간차트에 두 곡을 올려놓았다\",\n",
       " 'K-Pop 역사상 이 차트에 두 곡 이상을 진입시킨 아티스트는 방탄소년단과 블랙핑크가 유일하다',\n",
       " \"'Ditto'는 1월 셋째주 기준, 빌보드뿐만 아니라 영국 오피셜 싱글 차트 '톱 100'에 2주 연속 진입하기도 했다.\"]"
      ]
     },
     "execution_count": 200,
     "metadata": {},
     "output_type": "execute_result"
    }
   ],
   "source": [
    "a=text.split('. ')\n",
    "a"
   ]
  },
  {
   "cell_type": "code",
   "execution_count": 201,
   "id": "dedd496f-2ee5-47dc-8d20-9c21c8834bab",
   "metadata": {},
   "outputs": [
    {
     "data": {
      "text/plain": [
       "7"
      ]
     },
     "execution_count": 201,
     "metadata": {},
     "output_type": "execute_result"
    }
   ],
   "source": [
    "len(a)"
   ]
  },
  {
   "cell_type": "markdown",
   "id": "01441aec-8fc0-4a7f-8f6c-ef381ab5a95e",
   "metadata": {},
   "source": [
    "### 23"
   ]
  },
  {
   "cell_type": "code",
   "execution_count": 190,
   "id": "1c3f70ee-7c76-488b-9afd-ccc9382c31c5",
   "metadata": {},
   "outputs": [
    {
     "data": {
      "text/plain": [
       "90"
      ]
     },
     "execution_count": 190,
     "metadata": {},
     "output_type": "execute_result"
    }
   ],
   "source": [
    "a=text.split(' ')\n",
    "a\n",
    "len(a)"
   ]
  },
  {
   "cell_type": "markdown",
   "id": "da07e736-e590-40a4-a807-0b8efb46accf",
   "metadata": {},
   "source": [
    "### 24"
   ]
  },
  {
   "cell_type": "code",
   "execution_count": 202,
   "id": "fba74982-33c2-4406-8d3f-1b5931a6c922",
   "metadata": {},
   "outputs": [
    {
     "data": {
      "text/plain": [
       "[False, True, True, False, True, False, True]"
      ]
     },
     "execution_count": 202,
     "metadata": {},
     "output_type": "execute_result"
    }
   ],
   "source": [
    "['100' in s for s in a]"
   ]
  },
  {
   "cell_type": "code",
   "execution_count": 204,
   "id": "f975cd35-156c-460f-843b-3653ad6b1e9e",
   "metadata": {},
   "outputs": [
    {
     "data": {
      "text/plain": [
       "4"
      ]
     },
     "execution_count": 204,
     "metadata": {},
     "output_type": "execute_result"
    }
   ],
   "source": [
    "sum(['100' in s for s in a])"
   ]
  },
  {
   "cell_type": "markdown",
   "id": "1e6373f0-acdb-4ae3-a654-b2f12e07118a",
   "metadata": {},
   "source": [
    "# lesson 3"
   ]
  },
  {
   "cell_type": "markdown",
   "id": "93d9e1a8-9a0a-449e-a55a-f98edc28f702",
   "metadata": {},
   "source": [
    "## Quiz"
   ]
  },
  {
   "cell_type": "markdown",
   "id": "886361d4-e927-4b39-a5f0-6bb6cc0e9601",
   "metadata": {
    "tags": []
   },
   "source": [
    "### 1"
   ]
  },
  {
   "cell_type": "code",
   "execution_count": 205,
   "id": "cf62af9b-7d59-463d-9ae8-9107f11b921f",
   "metadata": {},
   "outputs": [],
   "source": [
    "test_arr = 'ssh-rsa AAAAB3NzaC1yc2EAAAABIwAAAQEAklOUpkDHrfHY17SbrmTIpNLTGK9Tjom/BWDSUGPl+nafzlHDTYW7hdI4yZ5ew18JH4JW9jbhUFrviQzM7xlELEVf4h9lFX5QVkbPppSwg0cda3Pbv7kOdJ/MTyBlWXFCR+HAo3FXRitBqxiX1nKhXpHAZsMciLq8V6RjsNAQwdsdMFvSlVK/7XAt3FaoJoAsncM1Q9x5+3V0Ww68/eIFmb1zuUFljQJKprrX88XypNDvjYNby6vw/Pb0rwert/EnmZ+AW4OZPnTPI89ZPmVMLuayrD2cE86Z/il8b+gw3r3+1nKatmIkjn2so1d01QraTlMqVSsbxNrRFi9wrf+M7Q== schacon@mylaptop.local'"
   ]
  },
  {
   "cell_type": "code",
   "execution_count": 207,
   "id": "8b885f37-83f0-4084-8c4d-abeca219225c",
   "metadata": {},
   "outputs": [
    {
     "data": {
      "text/plain": [
       "'shraAABNa1cEAAIAAEkOpDrH1SrTpLG9jmBDUP+azHTWhIy5w8HJ9bUriz7lLV49F5VbpSgcaPvkd/TBWFRHoFRtqi1KXHZMiqVRsAwsMvlK7A3aJAnMQx+VW6/Im1uFjJpr8XpDjNyv/bretEm+WOPTI9PVLar2E6/lbg331KtIj2od1rTMVsxrF9r+7= cao@yatplcl'"
      ]
     },
     "execution_count": 207,
     "metadata": {},
     "output_type": "execute_result"
    }
   ],
   "source": [
    "test_arr[::2]"
   ]
  },
  {
   "cell_type": "markdown",
   "id": "2eb590ba-2c1a-40ab-a7e4-976c7ede1afe",
   "metadata": {},
   "source": [
    "### 2"
   ]
  },
  {
   "cell_type": "code",
   "execution_count": 208,
   "id": "aad5dfdd-d3e6-448a-a69e-67d24e4cfed1",
   "metadata": {},
   "outputs": [
    {
     "data": {
      "text/plain": [
       "'lacol.potpalym@nocahcs ==Q7M+frw9iFRrNxbsSVqMlTarQ10d1os2njkImtaKn1+3r3wg+b8li/Z68Ec2DryauLMVmPZ98IPTnPZO4WA+ZmnE/trewr0bP/wv6ybNYjvDNpyX88XrrpKJQjlFUuz1bmFIe/86wW0V3+5x9Q1McnsAoJoaF3tAX7/KVlSvFMdsdwQANsjR6V8qLicMsZAHpXhKn1XixqBtiRXF3oAH+RCFXWlByTM/JdOk7vbP3adc0gwSppPbkVQ5XFl9h4fVELElx7MzQivrFUhbj9WJ4HJ81we5Zy4Idh7WYTDHlzfan+lPGUSDWB/mojT9KGTLNpITmrbS71YHfrHDkpUOlkAEQAAAwIBAAAAE2cy1CazN3BAAAA asr-hss'"
      ]
     },
     "execution_count": 208,
     "metadata": {},
     "output_type": "execute_result"
    }
   ],
   "source": [
    "test_arr[::-1]"
   ]
  },
  {
   "cell_type": "markdown",
   "id": "1f4a22d4-b08d-4f41-8d7f-34739dd89295",
   "metadata": {},
   "source": [
    "### 3"
   ]
  },
  {
   "cell_type": "code",
   "execution_count": 210,
   "id": "b9c47eed-d40c-45ec-b757-28394ba03d55",
   "metadata": {},
   "outputs": [],
   "source": [
    "dct={'202212377': {'att': 65, 'rep': 45, 'mid': 0, 'fin': 10},\n",
    "     '202212473': {'att': 95, 'rep': 30, 'mid': 60, 'fin': 10},\n",
    "     '202212310': {'att': 65, 'rep': 85, 'mid': 15, 'fin': 20},\n",
    "     '202212460': {'att': 55, 'rep': 35, 'mid': 35, 'fin': 5},\n",
    "     '202212320': {'att': 80, 'rep': 60, 'mid': 55, 'fin': 70},\n",
    "     '202212329': {'att': 75, 'rep': 40, 'mid': 75, 'fin': 85},\n",
    "     '202212408': {'att': 65, 'rep': 70, 'mid': 60, 'fin': 75},\n",
    "     '202212319': {'att': 60, 'rep': 25, 'mid': 20, 'fin': 35},\n",
    "     '202212348': {'att': 95, 'rep': 55, 'mid': 65, 'fin': 90},\n",
    "     '202212306': {'att': 90, 'rep': 25, 'mid': 95, 'fin': 50},\n",
    "     '202212308': {'att': 55, 'rep': 45, 'mid': 75, 'fin': 30},\n",
    "     '202212366': {'att': 95, 'rep': 60, 'mid': 25, 'fin': 55},\n",
    "     '202212367': {'att': 95, 'rep': 35, 'mid': 0, 'fin': 25},\n",
    "     '202212461': {'att': 50, 'rep': 55, 'mid': 90, 'fin': 45}}"
   ]
  },
  {
   "cell_type": "code",
   "execution_count": 214,
   "id": "dcfb79d3-5d48-44fe-9469-2f372a9e050c",
   "metadata": {},
   "outputs": [
    {
     "data": {
      "text/plain": [
       "['202212377',\n",
       " '202212473',\n",
       " '202212310',\n",
       " '202212460',\n",
       " '202212320',\n",
       " '202212329',\n",
       " '202212408',\n",
       " '202212319',\n",
       " '202212348',\n",
       " '202212306',\n",
       " '202212308',\n",
       " '202212366',\n",
       " '202212367',\n",
       " '202212461']"
      ]
     },
     "execution_count": 214,
     "metadata": {},
     "output_type": "execute_result"
    }
   ],
   "source": [
    "[a for a  in dct]"
   ]
  },
  {
   "cell_type": "markdown",
   "id": "89ba0f96-cab2-40de-b9c8-39c9fd13831d",
   "metadata": {},
   "source": [
    "### 4($\\star$)"
   ]
  },
  {
   "cell_type": "code",
   "execution_count": 218,
   "id": "8dd979e3-550f-411f-9268-059426f420cf",
   "metadata": {},
   "outputs": [
    {
     "data": {
      "text/plain": [
       "['202212473',\n",
       " '202212320',\n",
       " '202212329',\n",
       " '202212348',\n",
       " '202212306',\n",
       " '202212366',\n",
       " '202212367']"
      ]
     },
     "execution_count": 218,
     "metadata": {},
     "output_type": "execute_result"
    }
   ],
   "source": [
    "[a for a,b in dct.items() if b['att']>70]"
   ]
  },
  {
   "cell_type": "markdown",
   "id": "4f428c35-dacd-4aee-8fbe-50bdc6158b71",
   "metadata": {},
   "source": [
    "### 5"
   ]
  },
  {
   "cell_type": "code",
   "execution_count": 219,
   "id": "1ce50f32-e2cf-48dd-b03e-c5dedcbbcc9a",
   "metadata": {},
   "outputs": [],
   "source": [
    "import requests\n",
    "url = 'https://raw.githubusercontent.com/guebin/PP2023/main/posts/01_PythonBasic/Oxford-IIIT.txt'\n",
    "txt = requests.get(url).content.decode()"
   ]
  },
  {
   "cell_type": "code",
   "execution_count": 230,
   "id": "5e4658a3-8770-462f-94bd-9d14905a8fa0",
   "metadata": {},
   "outputs": [],
   "source": [
    "fname= txt.split('\\n')"
   ]
  },
  {
   "cell_type": "code",
   "execution_count": 231,
   "id": "9290cc18-01a9-468b-b2ec-04d3ba68fcde",
   "metadata": {},
   "outputs": [
    {
     "data": {
      "text/plain": [
       "['Abyssinian_1.jpg',\n",
       " 'Abyssinian_10.jpg',\n",
       " 'Abyssinian_100.jpg',\n",
       " 'Abyssinian_100.mat',\n",
       " 'Abyssinian_101.jpg']"
      ]
     },
     "execution_count": 231,
     "metadata": {},
     "output_type": "execute_result"
    }
   ],
   "source": [
    "fname[:5]"
   ]
  },
  {
   "cell_type": "markdown",
   "id": "9a0cf3b5-8f06-495f-b326-7a8693ffce82",
   "metadata": {},
   "source": [
    "### 6($\\star$)"
   ]
  },
  {
   "cell_type": "code",
   "execution_count": 232,
   "id": "ed42d6d3-b967-4746-a873-48ada450fea5",
   "metadata": {},
   "outputs": [],
   "source": [
    "def f(fname):\n",
    "    return 'cat' if fname[0].isupper() else 'dog'"
   ]
  },
  {
   "cell_type": "code",
   "execution_count": 233,
   "id": "3cef55b6-3fa1-4fcc-a8e4-ba6bf82898a5",
   "metadata": {},
   "outputs": [
    {
     "data": {
      "text/plain": [
       "'dog'"
      ]
     },
     "execution_count": 233,
     "metadata": {},
     "output_type": "execute_result"
    }
   ],
   "source": [
    "f('yorkshire_terrier_99.jpg')"
   ]
  },
  {
   "cell_type": "code",
   "execution_count": 234,
   "id": "605c1b26-ed40-4851-aeb5-e1ea1d233690",
   "metadata": {},
   "outputs": [
    {
     "data": {
      "text/plain": [
       "'cat'"
      ]
     },
     "execution_count": 234,
     "metadata": {},
     "output_type": "execute_result"
    }
   ],
   "source": [
    "f('Abyssinian_1.jpg')"
   ]
  },
  {
   "cell_type": "markdown",
   "id": "16e02fc4-e039-4ad5-92dc-c7eab591bd7a",
   "metadata": {},
   "source": [
    "### 7"
   ]
  },
  {
   "cell_type": "code",
   "execution_count": 236,
   "id": "1b7c221c-ff91-46e9-b65b-ae5a8cdf0648",
   "metadata": {},
   "outputs": [
    {
     "data": {
      "text/plain": [
       "['cat', 'cat', 'cat', 'cat', 'cat', 'cat', 'cat', 'cat', 'cat', 'cat']"
      ]
     },
     "execution_count": 236,
     "metadata": {},
     "output_type": "execute_result"
    }
   ],
   "source": [
    "result = [f(l) for l in fname]\n",
    "result[:10]"
   ]
  },
  {
   "cell_type": "markdown",
   "id": "21fa2f50-2942-4204-8e7d-b5d850aab932",
   "metadata": {},
   "source": [
    "### 8"
   ]
  },
  {
   "cell_type": "code",
   "execution_count": 237,
   "id": "8bbc203b-8039-47e7-ac9c-de70cd35191c",
   "metadata": {},
   "outputs": [
    {
     "data": {
      "text/plain": [
       "2403"
      ]
     },
     "execution_count": 237,
     "metadata": {},
     "output_type": "execute_result"
    }
   ],
   "source": [
    "sum([c == 'cat' for c in result])"
   ]
  },
  {
   "cell_type": "code",
   "execution_count": 238,
   "id": "d9262f46-3352-4ed0-927f-84e875286463",
   "metadata": {},
   "outputs": [
    {
     "data": {
      "text/plain": [
       "4990"
      ]
     },
     "execution_count": 238,
     "metadata": {},
     "output_type": "execute_result"
    }
   ],
   "source": [
    "sum([d == 'dog' for d in result])"
   ]
  },
  {
   "cell_type": "markdown",
   "id": "acc734a7-a6c3-4923-ba7f-527b797918c3",
   "metadata": {},
   "source": [
    "### 9"
   ]
  },
  {
   "cell_type": "code",
   "execution_count": 239,
   "id": "e6b010e7-3c3c-444f-9d6f-d1b877489be8",
   "metadata": {},
   "outputs": [
    {
     "data": {
      "text/plain": [
       "200"
      ]
     },
     "execution_count": 239,
     "metadata": {},
     "output_type": "execute_result"
    }
   ],
   "source": [
    "sum(['pomeranian'  in s for s in fname])"
   ]
  },
  {
   "cell_type": "markdown",
   "id": "5c47acf0-eefa-48eb-b576-4a31f76d6fe2",
   "metadata": {},
   "source": [
    "# lesson 4"
   ]
  },
  {
   "cell_type": "markdown",
   "id": "bde5623f-e659-4397-9606-96ef42f6f7c3",
   "metadata": {},
   "source": [
    "## Quiz"
   ]
  },
  {
   "cell_type": "markdown",
   "id": "bbfa1d0f-76ea-4888-abd3-590ecc53f445",
   "metadata": {
    "tags": []
   },
   "source": [
    "### 1"
   ]
  },
  {
   "cell_type": "code",
   "execution_count": 242,
   "id": "e770b7eb-cfdc-4922-8467-5a4f68428307",
   "metadata": {},
   "outputs": [],
   "source": [
    "dct = {'a':0, 'b':1} "
   ]
  },
  {
   "cell_type": "code",
   "execution_count": 243,
   "id": "5048b3bc-d367-4e45-a064-1a9ad3e8da19",
   "metadata": {},
   "outputs": [],
   "source": [
    "lst = [1, 0, 1, 0, 1, 0, 1, 1, 1, 1, 0, 0, 1, 0, 1]"
   ]
  },
  {
   "cell_type": "code",
   "execution_count": 247,
   "id": "76d3fc4a-f399-4360-af75-40c5bb4a8cf7",
   "metadata": {},
   "outputs": [
    {
     "data": {
      "text/plain": [
       "dict_items([('a', 0), ('b', 1)])"
      ]
     },
     "execution_count": 247,
     "metadata": {},
     "output_type": "execute_result"
    }
   ],
   "source": [
    "dct.items()"
   ]
  },
  {
   "cell_type": "code",
   "execution_count": 244,
   "id": "21fd9eb6-840e-42b7-8e55-dd0ea310775d",
   "metadata": {},
   "outputs": [
    {
     "data": {
      "text/plain": [
       "['b', 'a', 'b', 'a', 'b', 'a', 'b', 'b', 'b', 'b', 'a', 'a', 'b', 'a', 'b']"
      ]
     },
     "execution_count": 244,
     "metadata": {},
     "output_type": "execute_result"
    }
   ],
   "source": [
    "[k for l in lst for k,v in dct.items() if v==l]"
   ]
  },
  {
   "cell_type": "markdown",
   "id": "7da7b426-512a-4fbd-88a3-a9ed8d9ec7b1",
   "metadata": {},
   "source": [
    "### 2"
   ]
  },
  {
   "cell_type": "code",
   "execution_count": 262,
   "id": "3d0f0bb4-b67a-4714-95ea-3891ad1e8c6b",
   "metadata": {},
   "outputs": [
    {
     "data": {
      "text/plain": [
       "{'겨울방학': [1, 2], '1학기': [3, 4, 5, 6], '여름방학': [7, 8], '2학기': [9, 10, 11, 12]}"
      ]
     },
     "execution_count": 262,
     "metadata": {},
     "output_type": "execute_result"
    }
   ],
   "source": [
    "dct = {'겨울방학':[1,2], '1학기':[3,4,5,6], '여름방학':[7,8], '2학기':[9,10,11,12]}\n",
    "dct"
   ]
  },
  {
   "cell_type": "code",
   "execution_count": 263,
   "id": "99b393fb-67cf-40be-bac5-6badc0f6d2b3",
   "metadata": {},
   "outputs": [],
   "source": [
    "month = [1,2,2,3,4,5,6,7,8,9,9,10,11,12] "
   ]
  },
  {
   "cell_type": "code",
   "execution_count": 264,
   "id": "3b146f7f-376f-4530-96e9-c77c8f6a8216",
   "metadata": {},
   "outputs": [
    {
     "data": {
      "text/plain": [
       "['겨울방학',\n",
       " '겨울방학',\n",
       " '겨울방학',\n",
       " '1학기',\n",
       " '1학기',\n",
       " '1학기',\n",
       " '1학기',\n",
       " '여름방학',\n",
       " '여름방학',\n",
       " '2학기',\n",
       " '2학기',\n",
       " '2학기',\n",
       " '2학기',\n",
       " '2학기']"
      ]
     },
     "execution_count": 264,
     "metadata": {},
     "output_type": "execute_result"
    }
   ],
   "source": [
    "[x for l in month for x,y in dct.items() if l in y]"
   ]
  },
  {
   "cell_type": "markdown",
   "id": "1f95e884-d121-4cfd-b1bc-817141f9b74b",
   "metadata": {},
   "source": [
    "### 3"
   ]
  },
  {
   "cell_type": "code",
   "execution_count": 265,
   "id": "079182b5-38a2-49a0-8148-6fc6baf2d726",
   "metadata": {},
   "outputs": [],
   "source": [
    "dct1 = {'바나나':0, '사과':1, '오토바이':2, '자동차':3, '자전거':4} \n",
    "dct2 = {'과일':['바나나','사과'], '탈것':['오토바이','자동차','자전거']} "
   ]
  },
  {
   "cell_type": "code",
   "execution_count": 267,
   "id": "b5df693a-9441-4d20-b488-b97fc10dfbc2",
   "metadata": {},
   "outputs": [],
   "source": [
    "def f(i):\n",
    "    return [k for l in i for k,v in dct1.items() if v == 1]"
   ]
  },
  {
   "cell_type": "code",
   "execution_count": 268,
   "id": "ef2e079c-e75b-4844-92e6-3d057794b29b",
   "metadata": {},
   "outputs": [
    {
     "data": {
      "text/plain": [
       "['사과', '사과', '사과', '사과', '사과']"
      ]
     },
     "execution_count": 268,
     "metadata": {},
     "output_type": "execute_result"
    }
   ],
   "source": [
    "f([0,1,0,1,4])"
   ]
  },
  {
   "cell_type": "markdown",
   "id": "b288e2e1-5675-4f3e-8655-40dd1e43e130",
   "metadata": {},
   "source": [
    "### 4"
   ]
  },
  {
   "cell_type": "code",
   "execution_count": 271,
   "id": "b795a5f6-c445-4c14-893e-3a273f26e0dd",
   "metadata": {},
   "outputs": [],
   "source": [
    "def g(i):\n",
    "    return [k for l in i for k,v in dct2.items() if l in v]"
   ]
  },
  {
   "cell_type": "code",
   "execution_count": 272,
   "id": "762fa425-02c2-48d4-bfa0-c364b371ce05",
   "metadata": {},
   "outputs": [
    {
     "data": {
      "text/plain": [
       "['과일', '과일', '과일', '탈것']"
      ]
     },
     "execution_count": 272,
     "metadata": {},
     "output_type": "execute_result"
    }
   ],
   "source": [
    "g(['바나나','바나나','바나나','자동차'])"
   ]
  },
  {
   "cell_type": "markdown",
   "id": "20678ec9-6f9d-450a-a92e-77a2e4dca16a",
   "metadata": {},
   "source": [
    "### 5"
   ]
  },
  {
   "cell_type": "code",
   "execution_count": 273,
   "id": "d5528de8-fa4b-47a7-85d4-b225342573d7",
   "metadata": {},
   "outputs": [
    {
     "data": {
      "text/plain": [
       "['과일', '과일', '과일', '과일', '과일', '과일', '과일', '과일', '과일', '과일', '과일', '과일']"
      ]
     },
     "execution_count": 273,
     "metadata": {},
     "output_type": "execute_result"
    }
   ],
   "source": [
    "g(f([0,1,0,1,3,4,2,2,3,4,1,0]))"
   ]
  },
  {
   "cell_type": "markdown",
   "id": "ebc79f59-2f43-4d0a-bfb9-37cadaeadcd9",
   "metadata": {},
   "source": [
    "### 6"
   ]
  },
  {
   "cell_type": "code",
   "execution_count": 274,
   "id": "e8fd6201-f469-4c7d-97ff-8d48f2cb7c90",
   "metadata": {},
   "outputs": [],
   "source": [
    "import requests\n",
    "url = 'https://raw.githubusercontent.com/guebin/PP2023/main/posts/01_PythonBasic/Oxford-IIIT.txt'\n",
    "txt = requests.get(url).content.decode()"
   ]
  },
  {
   "cell_type": "code",
   "execution_count": 275,
   "id": "e62c86e6-10d4-4471-a7b4-b696b1252562",
   "metadata": {},
   "outputs": [],
   "source": [
    "lst = [''.join(filename.split('_')[:-1]) for filename in txt.split('\\n')]"
   ]
  },
  {
   "cell_type": "code",
   "execution_count": 276,
   "id": "f7007764-921d-4c75-b20a-66e541897133",
   "metadata": {},
   "outputs": [
    {
     "data": {
      "text/plain": [
       "(['Abyssinian',\n",
       "  'Abyssinian',\n",
       "  'Abyssinian',\n",
       "  'Abyssinian',\n",
       "  'Abyssinian',\n",
       "  'Abyssinian',\n",
       "  'Abyssinian',\n",
       "  'Abyssinian',\n",
       "  'Abyssinian',\n",
       "  'Abyssinian'],\n",
       " ['BritishShorthair',\n",
       "  'BritishShorthair',\n",
       "  'BritishShorthair',\n",
       "  'BritishShorthair',\n",
       "  'BritishShorthair',\n",
       "  'BritishShorthair',\n",
       "  'BritishShorthair',\n",
       "  'BritishShorthair',\n",
       "  'BritishShorthair',\n",
       "  'BritishShorthair'])"
      ]
     },
     "execution_count": 276,
     "metadata": {},
     "output_type": "execute_result"
    }
   ],
   "source": [
    "lst[:10],lst[810:820]"
   ]
  },
  {
   "cell_type": "markdown",
   "id": "4f652b30-6bfb-413f-8989-a056319734ed",
   "metadata": {},
   "source": [
    "### 7"
   ]
  },
  {
   "cell_type": "code",
   "execution_count": 277,
   "id": "bb37da4f-4005-4e35-937d-45fbe3925a1a",
   "metadata": {},
   "outputs": [
    {
     "data": {
      "text/plain": [
       "12"
      ]
     },
     "execution_count": 277,
     "metadata": {},
     "output_type": "execute_result"
    }
   ],
   "source": [
    "[s[0].isupper() for s in set(lst)].count(True) # 고양이 12"
   ]
  },
  {
   "cell_type": "code",
   "execution_count": 278,
   "id": "7eaa9243-fe9f-4f2a-8b5f-795e1625c595",
   "metadata": {},
   "outputs": [
    {
     "data": {
      "text/plain": [
       "25"
      ]
     },
     "execution_count": 278,
     "metadata": {},
     "output_type": "execute_result"
    }
   ],
   "source": [
    "[s[0].isupper() for s in set(lst)].count(False) "
   ]
  },
  {
   "cell_type": "markdown",
   "id": "2150d6ce-9472-4cec-a9bb-8a8804c1d7d4",
   "metadata": {},
   "source": [
    "### 8"
   ]
  },
  {
   "cell_type": "code",
   "execution_count": 279,
   "id": "4302619e-40b4-4f4c-b69d-01a9a753d166",
   "metadata": {},
   "outputs": [],
   "source": [
    "dct = {'cat': [s for s in set(lst) if s[0].isupper()], 'dog': [s for s in set(lst) if not s[0].isupper()]}\n"
   ]
  },
  {
   "cell_type": "code",
   "execution_count": 280,
   "id": "b91dfcdb-114d-4e47-980e-4939031e32f8",
   "metadata": {},
   "outputs": [],
   "source": [
    "lst2 = [k for l in lst for k, v in dct.items() if l in v]"
   ]
  },
  {
   "cell_type": "code",
   "execution_count": 282,
   "id": "a0bded95-9323-49f1-a303-7c8fd272ff0f",
   "metadata": {},
   "outputs": [
    {
     "data": {
      "text/plain": [
       "(['cat', 'cat', 'cat', 'cat', 'cat', 'cat', 'cat', 'cat', 'cat', 'cat'],\n",
       " ['dog', 'dog', 'dog', 'dog', 'dog', 'dog', 'dog', 'dog', 'dog', 'dog'])"
      ]
     },
     "execution_count": 282,
     "metadata": {},
     "output_type": "execute_result"
    }
   ],
   "source": [
    "lst2[:10], lst2[-10:] # 바뀐 lst"
   ]
  },
  {
   "cell_type": "markdown",
   "id": "1f9eb277-f64a-461b-b128-d06c3fc42c25",
   "metadata": {},
   "source": [
    "### 9"
   ]
  },
  {
   "cell_type": "code",
   "execution_count": 285,
   "id": "aaf1226f-451b-494a-aab4-f67b7c36bb2c",
   "metadata": {},
   "outputs": [
    {
     "data": {
      "text/plain": [
       "{'dog': 4990, 'cat': 2403}"
      ]
     },
     "execution_count": 285,
     "metadata": {},
     "output_type": "execute_result"
    }
   ],
   "source": [
    "{k:lst2.count(k) for k in ['dog','cat']}"
   ]
  },
  {
   "cell_type": "markdown",
   "id": "ba170a11-6fc3-4850-a98a-e6b4f9aacae8",
   "metadata": {},
   "source": [
    "### 10"
   ]
  },
  {
   "cell_type": "code",
   "execution_count": 286,
   "id": "94575479-c7dd-4117-b2e1-6e955751c697",
   "metadata": {},
   "outputs": [
    {
     "data": {
      "text/plain": [
       "{'Ragdoll': 200,\n",
       " 'Birman': 200,\n",
       " 'americanpitbullterrier': 200,\n",
       " 'boxer': 200,\n",
       " 'RussianBlue': 200,\n",
       " 'japanesechin': 200,\n",
       " 'Bengal': 200,\n",
       " 'beagle': 200,\n",
       " 'havanese': 200,\n",
       " 'yorkshireterrier': 200,\n",
       " 'miniaturepinscher': 200,\n",
       " 'newfoundland': 200,\n",
       " 'bassethound': 200,\n",
       " 'wheatenterrier': 200,\n",
       " 'EgyptianMau': 200,\n",
       " 'Abyssinian': 203,\n",
       " 'pomeranian': 200,\n",
       " 'englishsetter': 200,\n",
       " 'Persian': 200,\n",
       " 'Sphynx': 200,\n",
       " 'leonberger': 200,\n",
       " 'Siamese': 200,\n",
       " 'MaineCoon': 200,\n",
       " 'BritishShorthair': 200,\n",
       " 'shibainu': 200,\n",
       " 'americanbulldog': 200,\n",
       " 'germanshorthaired': 200,\n",
       " 'keeshond': 200,\n",
       " 'samoyed': 200,\n",
       " 'pug': 200,\n",
       " 'Bombay': 200,\n",
       " 'staffordshirebullterrier': 191,\n",
       " 'englishcockerspaniel': 200,\n",
       " 'greatpyrenees': 200,\n",
       " 'scottishterrier': 199,\n",
       " 'chihuahua': 200,\n",
       " 'saintbernard': 200}"
      ]
     },
     "execution_count": 286,
     "metadata": {},
     "output_type": "execute_result"
    }
   ],
   "source": [
    "{k:lst.count(k) for k in set(lst)}"
   ]
  },
  {
   "cell_type": "markdown",
   "id": "d88cecdb-d9fe-47a9-b9c5-351072b9de6f",
   "metadata": {},
   "source": [
    "# lesson 5"
   ]
  },
  {
   "cell_type": "code",
   "execution_count": 424,
   "id": "5df4664c-b81c-44b9-9db4-749e63898339",
   "metadata": {},
   "outputs": [
    {
     "data": {
      "text/plain": [
       "array([[1., 0., 0.],\n",
       "       [0., 1., 0.],\n",
       "       [0., 0., 1.]])"
      ]
     },
     "execution_count": 424,
     "metadata": {},
     "output_type": "execute_result"
    }
   ],
   "source": [
    "np.eye(3)"
   ]
  },
  {
   "cell_type": "code",
   "execution_count": 426,
   "id": "39cb5de8-03ce-4ff6-8e9c-72b2442871ac",
   "metadata": {},
   "outputs": [
    {
     "data": {
      "text/plain": [
       "array([[1., 0., 0.],\n",
       "       [0., 1., 0.],\n",
       "       [0., 0., 1.]])"
      ]
     },
     "execution_count": 426,
     "metadata": {},
     "output_type": "execute_result"
    }
   ],
   "source": [
    "(np.array([i==j for i in range(3) for j in range(3)])*1.0).reshape(3,3)"
   ]
  },
  {
   "cell_type": "code",
   "execution_count": 428,
   "id": "3bf9e77d-422d-47e1-b0c0-048c0ad269d0",
   "metadata": {},
   "outputs": [
    {
     "data": {
      "text/plain": [
       "array([[1., 1., 0., 0., 0.],\n",
       "       [1., 1., 1., 0., 0.],\n",
       "       [0., 1., 1., 1., 0.],\n",
       "       [0., 0., 1., 1., 1.],\n",
       "       [0., 0., 0., 1., 1.]])"
      ]
     },
     "execution_count": 428,
     "metadata": {},
     "output_type": "execute_result"
    }
   ],
   "source": [
    "(np.array([abs(i-j)<2 for i in range(5) for j in range(5)])*1.0).reshape(5,5)"
   ]
  },
  {
   "cell_type": "markdown",
   "id": "0ac81155-0d2b-4f1a-abce-0167073e8008",
   "metadata": {},
   "source": [
    "- 이동평균 구할 때 많이 쓰이는 matrix"
   ]
  },
  {
   "cell_type": "code",
   "execution_count": null,
   "id": "5f0d5b08-a2a3-4708-84c7-7dee31891bdb",
   "metadata": {},
   "outputs": [],
   "source": []
  },
  {
   "cell_type": "code",
   "execution_count": null,
   "id": "32a76c69-df20-47cf-aa13-9c4f853f0eac",
   "metadata": {},
   "outputs": [],
   "source": []
  },
  {
   "cell_type": "markdown",
   "id": "4ac5f9e4-84c2-4c8b-afca-ce2b84d3ddba",
   "metadata": {
    "jp-MarkdownHeadingCollapsed": true,
    "tags": []
   },
   "source": [
    "## Quiz"
   ]
  },
  {
   "cell_type": "markdown",
   "id": "9efd04e0-13c9-4716-b699-b64261aee854",
   "metadata": {
    "tags": []
   },
   "source": [
    "### 1"
   ]
  },
  {
   "cell_type": "code",
   "execution_count": 287,
   "id": "a9f722ca-2b94-430b-8dcd-8b559b8d36cb",
   "metadata": {},
   "outputs": [
    {
     "data": {
      "text/plain": [
       "()"
      ]
     },
     "execution_count": 287,
     "metadata": {},
     "output_type": "execute_result"
    }
   ],
   "source": [
    "a= np.array(0)\n",
    "a.shape"
   ]
  },
  {
   "cell_type": "markdown",
   "id": "b4fc72b5-5ccb-456e-9f63-54a2eb6dbbb9",
   "metadata": {},
   "source": [
    "### 2"
   ]
  },
  {
   "cell_type": "code",
   "execution_count": 288,
   "id": "5bcb3a0f-dc11-4849-98fb-70ec95f91ba0",
   "metadata": {},
   "outputs": [
    {
     "data": {
      "text/plain": [
       "array([ 2,  4,  3,  6, -2,  4,  9,  3,  4,  2])"
      ]
     },
     "execution_count": 288,
     "metadata": {},
     "output_type": "execute_result"
    }
   ],
   "source": [
    "a=[1,3,2,5,-3,3,8,2,3,1]\n",
    "np.array(a)+1"
   ]
  },
  {
   "cell_type": "markdown",
   "id": "748db710-bc61-4aff-91c6-82826e1027ed",
   "metadata": {},
   "source": [
    "### 3"
   ]
  },
  {
   "cell_type": "code",
   "execution_count": 291,
   "id": "0b6e9057-a9ca-4d9e-9160-e76ceeb388d0",
   "metadata": {},
   "outputs": [
    {
     "data": {
      "text/plain": [
       "array([ 0,  3,  6,  9, 12, 15, 18, 21, 24, 27, 30, 33, 36, 39, 42, 45, 48,\n",
       "       51, 54, 57, 60, 63, 66, 69, 72, 75, 78, 81, 84, 87, 90, 93, 96, 99])"
      ]
     },
     "execution_count": 291,
     "metadata": {},
     "output_type": "execute_result"
    }
   ],
   "source": [
    "np.arange(100)[::3]"
   ]
  },
  {
   "cell_type": "markdown",
   "id": "644a7dfa-2ebb-4354-a09a-ab2e5f691f26",
   "metadata": {},
   "source": [
    "### 4"
   ]
  },
  {
   "cell_type": "code",
   "execution_count": 293,
   "id": "bf199964-e879-479b-9445-e3d215ddc478",
   "metadata": {},
   "outputs": [
    {
     "data": {
      "text/plain": [
       "array([[1., 0., 0., 0., 0.],\n",
       "       [0., 1., 0., 0., 0.],\n",
       "       [0., 0., 1., 0., 0.],\n",
       "       [0., 0., 0., 1., 0.],\n",
       "       [0., 0., 0., 0., 1.]])"
      ]
     },
     "execution_count": 293,
     "metadata": {},
     "output_type": "execute_result"
    }
   ],
   "source": [
    "np.eye(5)"
   ]
  },
  {
   "cell_type": "markdown",
   "id": "1f28c3ce-7a0e-4584-9b3e-7c8ab8ea3439",
   "metadata": {},
   "source": [
    "### 5"
   ]
  },
  {
   "cell_type": "code",
   "execution_count": 294,
   "id": "b721b104-0406-406f-9bae-c09c116e3d52",
   "metadata": {},
   "outputs": [],
   "source": [
    "a = np.array([[1,0],[0,3]])"
   ]
  },
  {
   "cell_type": "code",
   "execution_count": 295,
   "id": "d635e959-1f04-4bd2-af8f-9d9722f18be3",
   "metadata": {},
   "outputs": [
    {
     "data": {
      "text/plain": [
       "array([[1.        , 0.        ],\n",
       "       [0.        , 0.33333333]])"
      ]
     },
     "execution_count": 295,
     "metadata": {},
     "output_type": "execute_result"
    }
   ],
   "source": [
    "np.linalg.inv(a)"
   ]
  },
  {
   "cell_type": "markdown",
   "id": "a0bf6bfd-b89f-43f1-ab5b-f210bd8d9fbd",
   "metadata": {},
   "source": [
    "### 6"
   ]
  },
  {
   "cell_type": "code",
   "execution_count": 296,
   "id": "a8f48b7c-9d72-4110-8530-f3cc13e8e247",
   "metadata": {},
   "outputs": [],
   "source": [
    "np.random.seed(19931217)"
   ]
  },
  {
   "cell_type": "code",
   "execution_count": 298,
   "id": "7d0f606b-8738-4a68-9811-a3bf4d342cf3",
   "metadata": {},
   "outputs": [],
   "source": [
    "a= np.random.randn(1000)"
   ]
  },
  {
   "cell_type": "markdown",
   "id": "a7ce8358-446a-4835-a88f-23a82bd01dd9",
   "metadata": {},
   "source": [
    "### 7"
   ]
  },
  {
   "cell_type": "code",
   "execution_count": 299,
   "id": "bcd2780e-0a24-48bc-82ae-39c1d6e09910",
   "metadata": {},
   "outputs": [
    {
     "data": {
      "text/plain": [
       "59"
      ]
     },
     "execution_count": 299,
     "metadata": {},
     "output_type": "execute_result"
    }
   ],
   "source": [
    "sum(a>1.96) + sum(a<-1.96)"
   ]
  },
  {
   "cell_type": "markdown",
   "id": "744e25b8-52a5-4198-9dd9-f555dddd7331",
   "metadata": {},
   "source": [
    "### 8"
   ]
  },
  {
   "cell_type": "code",
   "execution_count": 300,
   "id": "67f76682-166a-416b-85ed-94c949adf982",
   "metadata": {},
   "outputs": [
    {
     "data": {
      "text/plain": [
       "array([[ 0,  1,  2,  3],\n",
       "       [ 4,  5,  6,  7],\n",
       "       [ 8,  9, 10, 11]])"
      ]
     },
     "execution_count": 300,
     "metadata": {},
     "output_type": "execute_result"
    }
   ],
   "source": [
    "a=np.arange(12).reshape(3,4)\n",
    "a"
   ]
  },
  {
   "cell_type": "code",
   "execution_count": 303,
   "id": "4154f4cf-fb1a-44bb-ba94-38a8066a13f7",
   "metadata": {},
   "outputs": [
    {
     "data": {
      "text/plain": [
       "array([[0],\n",
       "       [4],\n",
       "       [8]])"
      ]
     },
     "execution_count": 303,
     "metadata": {},
     "output_type": "execute_result"
    }
   ],
   "source": [
    "a[:,[0]]"
   ]
  },
  {
   "cell_type": "markdown",
   "id": "a4ee2bda-663e-4dee-848e-6015cedd04bd",
   "metadata": {},
   "source": [
    "### 9"
   ]
  },
  {
   "cell_type": "code",
   "execution_count": 304,
   "id": "c5a42777-d952-4137-a0db-ae7ce485c181",
   "metadata": {},
   "outputs": [],
   "source": [
    "np.random.seed(43052)\n",
    "a=np.random.randint(low=20,high=25,size=(10,10))"
   ]
  },
  {
   "cell_type": "code",
   "execution_count": 305,
   "id": "6131e9fb-8c9b-43b9-90f1-2aaa42ebacf2",
   "metadata": {},
   "outputs": [
    {
     "data": {
      "text/plain": [
       "array([[23, 24, 23, 21, 23, 21, 23, 24, 23, 23],\n",
       "       [24, 22, 23, 21, 20, 21, 21, 21, 24, 20],\n",
       "       [24, 20, 24, 21, 20, 23, 24, 20, 23, 21],\n",
       "       [23, 24, 20, 23, 22, 23, 21, 21, 21, 22],\n",
       "       [22, 24, 24, 22, 21, 24, 20, 22, 21, 23],\n",
       "       [20, 23, 23, 21, 23, 20, 21, 22, 24, 20],\n",
       "       [20, 20, 20, 24, 23, 22, 20, 22, 24, 20],\n",
       "       [21, 24, 23, 22, 24, 21, 23, 22, 23, 22],\n",
       "       [22, 21, 24, 24, 24, 21, 22, 22, 22, 23],\n",
       "       [23, 20, 23, 23, 22, 20, 21, 22, 22, 23]])"
      ]
     },
     "execution_count": 305,
     "metadata": {},
     "output_type": "execute_result"
    }
   ],
   "source": [
    "a"
   ]
  },
  {
   "cell_type": "code",
   "execution_count": 306,
   "id": "5290e204-7b78-4696-a355-15f858898a75",
   "metadata": {},
   "outputs": [
    {
     "data": {
      "text/plain": [
       "(17, 20, 19)"
      ]
     },
     "execution_count": 306,
     "metadata": {},
     "output_type": "execute_result"
    }
   ],
   "source": [
    "(a==20).sum(), (a==21).sum(), (a==22).sum()"
   ]
  },
  {
   "cell_type": "markdown",
   "id": "9a194301-aec9-419d-a9fe-51f5887bd461",
   "metadata": {},
   "source": [
    "### 10"
   ]
  },
  {
   "cell_type": "code",
   "execution_count": 307,
   "id": "0adee2d4-6df4-485b-9a94-f2c2989e08e0",
   "metadata": {},
   "outputs": [
    {
     "data": {
      "text/plain": [
       "[[True, False, False, False, False],\n",
       " [False, True, False, False, False],\n",
       " [False, False, True, False, False],\n",
       " [False, False, False, True, False],\n",
       " [False, False, False, False, True]]"
      ]
     },
     "execution_count": 307,
     "metadata": {},
     "output_type": "execute_result"
    }
   ],
   "source": [
    "lst = [[i==j for i in range(5)] for j in range(5)]\n",
    "lst"
   ]
  },
  {
   "cell_type": "code",
   "execution_count": 308,
   "id": "35706495-8dbf-44d3-afeb-31fa3fece6fa",
   "metadata": {},
   "outputs": [
    {
     "data": {
      "text/plain": [
       "array([[1., 0., 0., 0., 0.],\n",
       "       [0., 1., 0., 0., 0.],\n",
       "       [0., 0., 1., 0., 0.],\n",
       "       [0., 0., 0., 1., 0.],\n",
       "       [0., 0., 0., 0., 1.]])"
      ]
     },
     "execution_count": 308,
     "metadata": {},
     "output_type": "execute_result"
    }
   ],
   "source": [
    "np.array([[i==j for i in range(5)] for j in range(5)])*1.0"
   ]
  },
  {
   "cell_type": "markdown",
   "id": "e42b34ca-380f-4003-a483-6f0aa2eb761a",
   "metadata": {},
   "source": [
    "### 12"
   ]
  },
  {
   "cell_type": "code",
   "execution_count": 309,
   "id": "e8a233fa-bc74-4e92-974a-fd114094b6ac",
   "metadata": {},
   "outputs": [
    {
     "data": {
      "text/plain": [
       "array([[0, 1, 2, 3, 4],\n",
       "       [1, 2, 3, 4, 5],\n",
       "       [2, 3, 4, 5, 6],\n",
       "       [3, 4, 5, 6, 7],\n",
       "       [4, 5, 6, 7, 8]])"
      ]
     },
     "execution_count": 309,
     "metadata": {},
     "output_type": "execute_result"
    }
   ],
   "source": [
    "np.array([[i+j for i in range(5)] for j in range(5)] )"
   ]
  },
  {
   "cell_type": "markdown",
   "id": "c5e722a3-f764-4118-a9fa-89344c55ece8",
   "metadata": {},
   "source": [
    "### 13"
   ]
  },
  {
   "cell_type": "code",
   "execution_count": 311,
   "id": "f9e8b5ba-b55b-4441-ae67-1eda03625918",
   "metadata": {},
   "outputs": [
    {
     "data": {
      "text/plain": [
       "array([[1, 1, 0, 0, 0, 0, 0, 0, 0, 0],\n",
       "       [1, 1, 1, 0, 0, 0, 0, 0, 0, 0],\n",
       "       [0, 1, 1, 1, 0, 0, 0, 0, 0, 0],\n",
       "       [0, 0, 1, 1, 1, 0, 0, 0, 0, 0],\n",
       "       [0, 0, 0, 1, 1, 1, 0, 0, 0, 0],\n",
       "       [0, 0, 0, 0, 1, 1, 1, 0, 0, 0],\n",
       "       [0, 0, 0, 0, 0, 1, 1, 1, 0, 0],\n",
       "       [0, 0, 0, 0, 0, 0, 1, 1, 1, 0],\n",
       "       [0, 0, 0, 0, 0, 0, 0, 1, 1, 1],\n",
       "       [0, 0, 0, 0, 0, 0, 0, 0, 1, 1]])"
      ]
     },
     "execution_count": 311,
     "metadata": {},
     "output_type": "execute_result"
    }
   ],
   "source": [
    "np.array([[abs(i-j)<2 for i in range(10)] for j in range(10)])*1"
   ]
  },
  {
   "cell_type": "markdown",
   "id": "d1d3baa8-9cba-435c-bc7d-6426389094e6",
   "metadata": {},
   "source": [
    "### 14"
   ]
  },
  {
   "cell_type": "code",
   "execution_count": 312,
   "id": "9922016c-71a7-4e1a-a937-a15ffe790403",
   "metadata": {},
   "outputs": [
    {
     "data": {
      "text/plain": [
       "array([False, False, False, False,  True, False, False,  True, False,\n",
       "        True, False,  True, False, False, False, False,  True,  True,\n",
       "        True, False, False, False, False, False,  True,  True,  True,\n",
       "        True, False, False,  True,  True, False,  True,  True,  True,\n",
       "       False, False, False, False,  True, False, False, False, False,\n",
       "        True,  True, False, False, False,  True,  True, False,  True,\n",
       "       False, False,  True,  True, False,  True, False, False, False,\n",
       "       False, False,  True, False, False,  True, False, False, False,\n",
       "        True, False, False,  True,  True,  True, False, False,  True,\n",
       "        True, False, False,  True,  True,  True,  True,  True,  True,\n",
       "       False, False, False,  True, False, False,  True,  True, False,\n",
       "       False])"
      ]
     },
     "execution_count": 312,
     "metadata": {},
     "output_type": "execute_result"
    }
   ],
   "source": [
    "np.random.rand(100)<0.45"
   ]
  },
  {
   "cell_type": "markdown",
   "id": "510ec882-5895-4808-b9f2-cb7cbe2ce0e7",
   "metadata": {},
   "source": [
    "# lesson 6"
   ]
  },
  {
   "cell_type": "markdown",
   "id": "f2d0624f-8e44-42a5-bf2a-7bcb12669fa5",
   "metadata": {},
   "source": [
    "## lesson"
   ]
  },
  {
   "cell_type": "code",
   "execution_count": 430,
   "id": "c1d75ef9-5eab-4116-ba52-0283a62b82d6",
   "metadata": {},
   "outputs": [],
   "source": [
    "a=np.array([1,2]) \n",
    "b=-a"
   ]
  },
  {
   "cell_type": "code",
   "execution_count": 433,
   "id": "a092655c-adb2-426a-8b30-d1dff01be970",
   "metadata": {},
   "outputs": [
    {
     "data": {
      "text/plain": [
       "(2,)"
      ]
     },
     "execution_count": 433,
     "metadata": {},
     "output_type": "execute_result"
    }
   ],
   "source": [
    "a.shape"
   ]
  },
  {
   "cell_type": "code",
   "execution_count": 435,
   "id": "508a80fa-0567-47a4-a87b-e7dbdce6c944",
   "metadata": {},
   "outputs": [
    {
     "data": {
      "text/plain": [
       "(2,)"
      ]
     },
     "execution_count": 435,
     "metadata": {},
     "output_type": "execute_result"
    }
   ],
   "source": [
    "b.shape"
   ]
  },
  {
   "cell_type": "code",
   "execution_count": 437,
   "id": "1ab429e6-057d-441f-97dc-8f5ebf8d6635",
   "metadata": {},
   "outputs": [
    {
     "data": {
      "text/plain": [
       "array([ 1,  2, -1, -2])"
      ]
     },
     "execution_count": 437,
     "metadata": {},
     "output_type": "execute_result"
    }
   ],
   "source": [
    "c = np.concatenate([a,b])\n",
    "c"
   ]
  },
  {
   "cell_type": "code",
   "execution_count": 438,
   "id": "6511a097-c058-40ca-8a17-3b48dfdbb0f8",
   "metadata": {},
   "outputs": [
    {
     "data": {
      "text/plain": [
       "(4,)"
      ]
     },
     "execution_count": 438,
     "metadata": {},
     "output_type": "execute_result"
    }
   ],
   "source": [
    "c.shape"
   ]
  },
  {
   "cell_type": "markdown",
   "id": "ccec67a4-f393-4a18-964a-1cee8849616f",
   "metadata": {},
   "source": [
    "## Quiz"
   ]
  },
  {
   "cell_type": "code",
   "execution_count": null,
   "id": "8b578a8d-581c-4be3-9436-90c72fedf00d",
   "metadata": {},
   "outputs": [],
   "source": []
  },
  {
   "cell_type": "markdown",
   "id": "8e298618-3de3-489f-a9e6-b314134b9cab",
   "metadata": {
    "tags": []
   },
   "source": [
    "## 1~6"
   ]
  },
  {
   "cell_type": "code",
   "execution_count": 313,
   "id": "1e656f63-f5e5-4de6-ac3a-e2f9cf9c0583",
   "metadata": {},
   "outputs": [],
   "source": [
    "a=np.array([1]*10)\n",
    "b=np.array([2]*10)"
   ]
  },
  {
   "cell_type": "code",
   "execution_count": 314,
   "id": "f199341d-b813-47d0-948d-ea2e4af35d92",
   "metadata": {},
   "outputs": [
    {
     "data": {
      "text/plain": [
       "array([1, 1, 1, 1, 1, 1, 1, 1, 1, 1])"
      ]
     },
     "execution_count": 314,
     "metadata": {},
     "output_type": "execute_result"
    }
   ],
   "source": [
    "a"
   ]
  },
  {
   "cell_type": "code",
   "execution_count": 315,
   "id": "575da183-1d40-4421-ba45-94eed63cc4bc",
   "metadata": {},
   "outputs": [
    {
     "data": {
      "text/plain": [
       "array([2, 2, 2, 2, 2, 2, 2, 2, 2, 2])"
      ]
     },
     "execution_count": 315,
     "metadata": {},
     "output_type": "execute_result"
    }
   ],
   "source": [
    "b"
   ]
  },
  {
   "cell_type": "markdown",
   "id": "430b571f-7515-486e-b6fe-e58dde17b8a4",
   "metadata": {},
   "source": [
    "### 1"
   ]
  },
  {
   "cell_type": "code",
   "execution_count": 317,
   "id": "537db331-77da-450b-b1b3-49404be337e5",
   "metadata": {},
   "outputs": [
    {
     "data": {
      "text/plain": [
       "array([1, 1, 1, 1, 1, 1, 1, 1, 1, 1, 2, 2, 2, 2, 2, 2, 2, 2, 2, 2])"
      ]
     },
     "execution_count": 317,
     "metadata": {},
     "output_type": "execute_result"
    }
   ],
   "source": [
    "np.concatenate([a,b],axis=0)"
   ]
  },
  {
   "cell_type": "markdown",
   "id": "3a83f4e9-6f8e-4af0-be15-3611c5a27d09",
   "metadata": {},
   "source": [
    "### 2"
   ]
  },
  {
   "cell_type": "code",
   "execution_count": 320,
   "id": "42dc69b5-fe1d-492f-bd0d-adb3385560d2",
   "metadata": {},
   "outputs": [],
   "source": [
    "a=np.array([1]*10)\n",
    "b=np.array([2]*10)"
   ]
  },
  {
   "cell_type": "code",
   "execution_count": 324,
   "id": "5757e7fa-717c-4dbb-a466-30c31a808f74",
   "metadata": {},
   "outputs": [
    {
     "data": {
      "text/plain": [
       "array([[1],\n",
       "       [1],\n",
       "       [1],\n",
       "       [1],\n",
       "       [1],\n",
       "       [1],\n",
       "       [1],\n",
       "       [1],\n",
       "       [1],\n",
       "       [1]])"
      ]
     },
     "execution_count": 324,
     "metadata": {},
     "output_type": "execute_result"
    }
   ],
   "source": [
    "a.reshape(10,1)"
   ]
  },
  {
   "cell_type": "code",
   "execution_count": 326,
   "id": "645cda0b-4b97-4361-9398-63da466d99cd",
   "metadata": {},
   "outputs": [
    {
     "data": {
      "text/plain": [
       "array([[1],\n",
       "       [1],\n",
       "       [1],\n",
       "       [1],\n",
       "       [1],\n",
       "       [1],\n",
       "       [1],\n",
       "       [1],\n",
       "       [1],\n",
       "       [1],\n",
       "       [2],\n",
       "       [2],\n",
       "       [2],\n",
       "       [2],\n",
       "       [2],\n",
       "       [2],\n",
       "       [2],\n",
       "       [2],\n",
       "       [2],\n",
       "       [2]])"
      ]
     },
     "execution_count": 326,
     "metadata": {},
     "output_type": "execute_result"
    }
   ],
   "source": [
    "np.concatenate([a.reshape(10,1),b.reshape(10,1)],axis=0)"
   ]
  },
  {
   "cell_type": "markdown",
   "id": "6fe53ce6-0f5d-4b3f-9ab4-0acbcee1bc99",
   "metadata": {},
   "source": [
    "### 3"
   ]
  },
  {
   "cell_type": "code",
   "execution_count": 332,
   "id": "816334e6-e9ac-4c5b-aa77-d6b4a1b06ce4",
   "metadata": {},
   "outputs": [],
   "source": [
    "a=np.array([1]*10)\n",
    "b=np.array([2]*10)"
   ]
  },
  {
   "cell_type": "code",
   "execution_count": 335,
   "id": "240ecd51-825b-48d9-a259-120c4e7a411d",
   "metadata": {},
   "outputs": [
    {
     "data": {
      "text/plain": [
       "array([[1, 1, 1, 1, 1, 1, 1, 1, 1, 1],\n",
       "       [2, 2, 2, 2, 2, 2, 2, 2, 2, 2]])"
      ]
     },
     "execution_count": 335,
     "metadata": {},
     "output_type": "execute_result"
    }
   ],
   "source": [
    "np.concatenate([a.reshape(1,10),b.reshape(1,10)],axis=0)"
   ]
  },
  {
   "cell_type": "markdown",
   "id": "1740eb15-cf93-4de4-bde7-5cc127a1c15a",
   "metadata": {},
   "source": [
    "### 4"
   ]
  },
  {
   "cell_type": "code",
   "execution_count": 340,
   "id": "8d0606ac-3a08-41fb-aadd-3d1fd5086435",
   "metadata": {},
   "outputs": [
    {
     "data": {
      "text/plain": [
       "array([[1, 2],\n",
       "       [1, 2],\n",
       "       [1, 2],\n",
       "       [1, 2],\n",
       "       [1, 2],\n",
       "       [1, 2],\n",
       "       [1, 2],\n",
       "       [1, 2],\n",
       "       [1, 2],\n",
       "       [1, 2]])"
      ]
     },
     "execution_count": 340,
     "metadata": {},
     "output_type": "execute_result"
    }
   ],
   "source": [
    "np.concatenate([a.reshape(10,1),b.reshape(10,1)],axis=1)"
   ]
  },
  {
   "cell_type": "markdown",
   "id": "6f6a30a9-3773-4922-a34b-c47486a6def4",
   "metadata": {},
   "source": [
    "### 5"
   ]
  },
  {
   "cell_type": "code",
   "execution_count": 343,
   "id": "c9cfe133-41cc-4979-bd76-c7c5742f67af",
   "metadata": {},
   "outputs": [
    {
     "data": {
      "text/plain": [
       "(10,)"
      ]
     },
     "execution_count": 343,
     "metadata": {},
     "output_type": "execute_result"
    }
   ],
   "source": [
    "a.shape"
   ]
  },
  {
   "cell_type": "code",
   "execution_count": 344,
   "id": "e4875c1a-2edd-46da-9762-2544a30e16b0",
   "metadata": {},
   "outputs": [
    {
     "data": {
      "text/plain": [
       "(10,)"
      ]
     },
     "execution_count": 344,
     "metadata": {},
     "output_type": "execute_result"
    }
   ],
   "source": [
    "b.shape"
   ]
  },
  {
   "cell_type": "code",
   "execution_count": 346,
   "id": "049422c3-5b4e-45a5-877f-0debd890d88b",
   "metadata": {},
   "outputs": [
    {
     "data": {
      "text/plain": [
       "(2, 10)"
      ]
     },
     "execution_count": 346,
     "metadata": {},
     "output_type": "execute_result"
    }
   ],
   "source": [
    "np.stack([a,b]).shape"
   ]
  },
  {
   "cell_type": "code",
   "execution_count": 347,
   "id": "a7763c27-6452-400b-9a41-b141e62b443b",
   "metadata": {},
   "outputs": [
    {
     "data": {
      "text/plain": [
       "array([[1, 1, 1, 1, 1, 1, 1, 1, 1, 1],\n",
       "       [2, 2, 2, 2, 2, 2, 2, 2, 2, 2]])"
      ]
     },
     "execution_count": 347,
     "metadata": {},
     "output_type": "execute_result"
    }
   ],
   "source": [
    "np.stack([a,b])"
   ]
  },
  {
   "cell_type": "markdown",
   "id": "49a6e2e2-893b-43a6-b58d-d7faedf7deef",
   "metadata": {},
   "source": [
    "### 6"
   ]
  },
  {
   "cell_type": "code",
   "execution_count": 348,
   "id": "9c42cc62-c7d2-43cd-9840-1329ceb53001",
   "metadata": {},
   "outputs": [
    {
     "data": {
      "text/plain": [
       "array([[1, 2],\n",
       "       [1, 2],\n",
       "       [1, 2],\n",
       "       [1, 2],\n",
       "       [1, 2],\n",
       "       [1, 2],\n",
       "       [1, 2],\n",
       "       [1, 2],\n",
       "       [1, 2],\n",
       "       [1, 2]])"
      ]
     },
     "execution_count": 348,
     "metadata": {},
     "output_type": "execute_result"
    }
   ],
   "source": [
    "np.stack([a,b],axis=1)"
   ]
  },
  {
   "cell_type": "markdown",
   "id": "a4f40e14-bdeb-464d-a0c7-19796360a759",
   "metadata": {},
   "source": [
    "## 7~8"
   ]
  },
  {
   "cell_type": "code",
   "execution_count": 349,
   "id": "c0c05215-b896-4e7c-ae32-648de532012d",
   "metadata": {},
   "outputs": [
    {
     "data": {
      "text/plain": [
       "array([[ 0.38342049,  1.0841745 ,  1.14277825, ..., -0.18506968,\n",
       "         1.05538764,  1.18701443],\n",
       "       [-0.25027283, -1.58045215,  0.1124153 , ...,  1.0321894 ,\n",
       "         0.40438012, -0.13491595],\n",
       "       [-0.76763724, -0.64294232, -0.24782396, ..., -0.01530161,\n",
       "         0.89125897, -0.82683395],\n",
       "       ...,\n",
       "       [-1.41379028,  0.79611333, -0.71011837, ..., -0.9860352 ,\n",
       "         1.30755244,  2.18677233],\n",
       "       [ 1.33968105, -0.78457449, -0.10405858, ..., -0.71110186,\n",
       "         0.99841286,  2.34371635],\n",
       "       [-0.66422032, -0.07550233,  0.7405869 , ...,  1.03232398,\n",
       "        -0.18988252, -0.03578389]])"
      ]
     },
     "execution_count": 349,
     "metadata": {},
     "output_type": "execute_result"
    }
   ],
   "source": [
    "np.random.seed(43052)\n",
    "a=np.random.randn(10000).reshape(100,100)\n",
    "a"
   ]
  },
  {
   "cell_type": "code",
   "execution_count": 352,
   "id": "02c9983b-abe1-4dab-9252-cbb3457314fa",
   "metadata": {},
   "outputs": [
    {
     "data": {
      "text/plain": [
       "array([-8.13607922e+00,  9.87120533e+00, -1.41434956e+01, -2.21705363e+00,\n",
       "       -1.45535236e+01, -9.15821678e+00, -2.59866360e+00, -1.54562385e+01,\n",
       "       -1.42005088e+00, -3.51523111e+00,  9.70487578e+00, -1.26229105e+01,\n",
       "        1.66837113e+00,  2.43015457e+00,  2.72990184e+00, -7.99486429e+00,\n",
       "       -8.38305954e-01, -8.45002020e+00, -1.03610098e+00,  2.07251861e+01,\n",
       "        1.11461478e+01,  7.62144075e+00, -7.93734585e+00,  1.82844319e+01,\n",
       "       -2.63562392e+00, -8.97916930e+00, -1.88986183e+00, -9.32477049e+00,\n",
       "       -6.69074565e+00, -1.42463143e+01,  6.45540510e-01,  1.80911488e+00,\n",
       "        2.40997157e+00,  1.63367254e+01,  7.63990677e+00,  8.13524813e+00,\n",
       "        3.97159000e+00, -1.10542949e+00,  4.37564512e-01,  2.87299971e+00,\n",
       "       -4.01016768e+00,  5.71115215e+00, -4.64132698e+00, -9.13987753e+00,\n",
       "       -6.78326000e+00,  3.36308150e+00, -5.13704342e+00, -5.09782466e+00,\n",
       "        6.54192465e-03,  7.19722660e+00, -4.64674820e+00, -9.24124039e+00,\n",
       "        6.73530841e+00,  1.12168921e+00,  1.61615988e+00,  1.37602200e+01,\n",
       "        6.67289840e-01, -2.09578108e+00, -2.81826564e-01, -8.52416541e+00,\n",
       "       -7.21970047e+00,  2.27146777e+01, -1.40341974e+01,  1.69263136e+01,\n",
       "       -1.80568372e+01,  6.52142336e+00, -1.73092812e+01, -1.34999285e+01,\n",
       "       -7.85539317e+00, -4.74940393e-01, -2.75765037e+01,  8.74991555e+00,\n",
       "       -9.77324158e+00,  1.42854121e+01, -1.10130356e+00, -1.39206483e-01,\n",
       "       -1.54638921e+01,  1.36814794e+00,  8.41394160e+00, -2.42153833e+00,\n",
       "       -2.57155344e+01, -6.72423820e+00, -9.49366257e-01,  3.79493472e+00,\n",
       "       -6.23508582e+00,  7.75657189e+00,  9.69403620e+00,  1.46847519e+01,\n",
       "        7.36500792e+00, -2.54755192e+01,  1.22792449e+01, -1.02497847e+01,\n",
       "        1.30452028e+01,  3.92943038e+00, -3.27227585e+00, -1.06633071e+01,\n",
       "       -1.56942302e+01,  8.01451222e+00,  2.81546938e+00,  5.56774384e+00])"
      ]
     },
     "execution_count": 352,
     "metadata": {},
     "output_type": "execute_result"
    }
   ],
   "source": [
    "a.sum(axis=1)"
   ]
  },
  {
   "cell_type": "markdown",
   "id": "52cc80b3-c9f3-4829-b1b5-c9676fbd9be1",
   "metadata": {},
   "source": [
    "### 8"
   ]
  },
  {
   "cell_type": "code",
   "execution_count": 353,
   "id": "97522ee5-4f6a-488f-b967-6287cc563a61",
   "metadata": {},
   "outputs": [
    {
     "data": {
      "text/plain": [
       "array([ 5.05543481e-03, -8.11250975e-03, -7.27142023e-03,  9.64876493e-02,\n",
       "        5.64186324e-02, -2.22728206e-02,  1.32808256e-04, -9.60905067e-02,\n",
       "        9.42144096e-02, -1.21946518e-01, -2.21878576e-02, -3.77018716e-02,\n",
       "        2.35739166e-03, -1.13202128e-01, -9.00374437e-02, -3.09372275e-02,\n",
       "       -2.18029121e-02,  7.04210003e-02, -4.12563112e-02,  2.58233488e-02,\n",
       "        1.16578817e-01, -1.59430241e-01, -1.53668953e-02,  9.21879710e-02,\n",
       "       -1.11346500e-01, -1.20131585e-01,  5.94139652e-02, -3.27022797e-02,\n",
       "       -1.46466366e-02, -1.78386785e-02, -1.06650333e-01, -9.04542721e-02,\n",
       "       -8.52586244e-02,  5.52166280e-02,  1.94115122e-01,  4.64389603e-02,\n",
       "        5.13636914e-02,  1.11424801e-01, -4.18629084e-02,  9.23822150e-02,\n",
       "       -2.00433998e-02, -5.73784795e-02, -8.79928414e-02, -3.01766235e-02,\n",
       "        6.47256326e-02,  3.14419234e-02, -1.16146865e-01, -1.04800787e-01,\n",
       "        3.17924308e-02,  5.51687322e-02,  1.04913214e-01, -2.79741703e-03,\n",
       "        2.56767141e-01, -1.35620430e-01, -9.59492302e-02,  1.23241275e-01,\n",
       "       -5.26436946e-03, -3.14823093e-02, -4.00286104e-02, -1.48618576e-01,\n",
       "        4.85988487e-02, -1.37972086e-01, -1.04715966e-01, -7.13893940e-02,\n",
       "        4.35483376e-02, -2.10610822e-01, -1.03231108e-01, -1.62132451e-01,\n",
       "        2.85187037e-01, -8.25697744e-02,  4.33723229e-02,  1.32763889e-02,\n",
       "       -1.61919484e-01, -5.07924036e-02,  6.62243327e-02, -9.72863991e-02,\n",
       "        2.71962223e-01, -5.97710822e-02,  1.54580795e-01, -5.46739064e-02,\n",
       "       -1.08611574e-01, -1.56520706e-01, -1.40476317e-01,  1.06067589e-01,\n",
       "       -3.46141736e-02, -6.07673046e-02,  5.33471760e-03,  8.10276105e-02,\n",
       "       -1.31994569e-01, -1.00936968e-02,  6.13944222e-02, -9.72765699e-02,\n",
       "        1.61342793e-01,  1.02634369e-01, -5.03038014e-02, -7.50604837e-02,\n",
       "        2.63992605e-02,  6.98470602e-02, -1.89567885e-01,  7.91910813e-02])"
      ]
     },
     "execution_count": 353,
     "metadata": {},
     "output_type": "execute_result"
    }
   ],
   "source": [
    "a.mean(axis=0)"
   ]
  },
  {
   "cell_type": "markdown",
   "id": "ede98ed8-f995-4591-9502-14f54e38682f",
   "metadata": {},
   "source": [
    "# lesson 7"
   ]
  },
  {
   "cell_type": "code",
   "execution_count": 355,
   "id": "40d7b729-14a1-424d-9820-0876346fa6f0",
   "metadata": {},
   "outputs": [],
   "source": [
    "import pandas as pd"
   ]
  },
  {
   "cell_type": "markdown",
   "id": "92561a22-99de-45a5-8a9c-7cd7786e388b",
   "metadata": {},
   "source": [
    "### 1"
   ]
  },
  {
   "cell_type": "code",
   "execution_count": null,
   "id": "a55eb181-3a38-4e14-bdf1-afe67b6ba370",
   "metadata": {},
   "outputs": [],
   "source": []
  },
  {
   "cell_type": "code",
   "execution_count": 354,
   "id": "e838291a-a344-4819-9994-7ddfb08f14cd",
   "metadata": {},
   "outputs": [
    {
     "data": {
      "text/html": [
       "<table border=\"1\" class=\"dataframe\">\n",
       "  <thead>\n",
       "    <tr style=\"text-align: right;\">\n",
       "      <th></th>\n",
       "      <th>A</th>\n",
       "      <th>B</th>\n",
       "    </tr>\n",
       "  </thead>\n",
       "  <tbody>\n",
       "    <tr>\n",
       "      <th>0</th>\n",
       "      <td>1</td>\n",
       "      <td>-2</td>\n",
       "    </tr>\n",
       "    <tr>\n",
       "      <th>1</th>\n",
       "      <td>2</td>\n",
       "      <td>-3</td>\n",
       "    </tr>\n",
       "    <tr>\n",
       "      <th>2</th>\n",
       "      <td>3</td>\n",
       "      <td>-4</td>\n",
       "    </tr>\n",
       "  </tbody>\n",
       "</table>"
      ],
      "text/plain": [
       "<IPython.core.display.HTML object>"
      ]
     },
     "execution_count": 354,
     "metadata": {},
     "output_type": "execute_result"
    }
   ],
   "source": [
    "from IPython.core.display import HTML \n",
    "HTML('<table border=\"1\" class=\"dataframe\">\\n  <thead>\\n    <tr style=\"text-align: right;\">\\n      <th></th>\\n      <th>A</th>\\n      <th>B</th>\\n    </tr>\\n  </thead>\\n  <tbody>\\n    <tr>\\n      <th>0</th>\\n      <td>1</td>\\n      <td>-2</td>\\n    </tr>\\n    <tr>\\n      <th>1</th>\\n      <td>2</td>\\n      <td>-3</td>\\n    </tr>\\n    <tr>\\n      <th>2</th>\\n      <td>3</td>\\n      <td>-4</td>\\n    </tr>\\n  </tbody>\\n</table>')"
   ]
  },
  {
   "cell_type": "code",
   "execution_count": 357,
   "id": "4d01f83c-2ad0-4ea8-b759-aee8e114ab10",
   "metadata": {},
   "outputs": [
    {
     "data": {
      "text/html": [
       "<div>\n",
       "<style scoped>\n",
       "    .dataframe tbody tr th:only-of-type {\n",
       "        vertical-align: middle;\n",
       "    }\n",
       "\n",
       "    .dataframe tbody tr th {\n",
       "        vertical-align: top;\n",
       "    }\n",
       "\n",
       "    .dataframe thead th {\n",
       "        text-align: right;\n",
       "    }\n",
       "</style>\n",
       "<table border=\"1\" class=\"dataframe\">\n",
       "  <thead>\n",
       "    <tr style=\"text-align: right;\">\n",
       "      <th></th>\n",
       "      <th>A</th>\n",
       "      <th>B</th>\n",
       "    </tr>\n",
       "  </thead>\n",
       "  <tbody>\n",
       "    <tr>\n",
       "      <th>0</th>\n",
       "      <td>1</td>\n",
       "      <td>-2</td>\n",
       "    </tr>\n",
       "    <tr>\n",
       "      <th>1</th>\n",
       "      <td>2</td>\n",
       "      <td>-3</td>\n",
       "    </tr>\n",
       "    <tr>\n",
       "      <th>2</th>\n",
       "      <td>3</td>\n",
       "      <td>-4</td>\n",
       "    </tr>\n",
       "  </tbody>\n",
       "</table>\n",
       "</div>"
      ],
      "text/plain": [
       "   A  B\n",
       "0  1 -2\n",
       "1  2 -3\n",
       "2  3 -4"
      ]
     },
     "execution_count": 357,
     "metadata": {},
     "output_type": "execute_result"
    }
   ],
   "source": [
    "df = pd.DataFrame({'A':[1,2,3],'B':[-2,-3,-4]})\n",
    "df"
   ]
  },
  {
   "cell_type": "markdown",
   "id": "07a761d2-c326-4257-9234-e171db44e1c9",
   "metadata": {},
   "source": [
    "### 2"
   ]
  },
  {
   "cell_type": "code",
   "execution_count": 359,
   "id": "8203655f-3318-4938-a5f5-16581399f3fc",
   "metadata": {},
   "outputs": [
    {
     "data": {
      "text/html": [
       "<div>\n",
       "<style scoped>\n",
       "    .dataframe tbody tr th:only-of-type {\n",
       "        vertical-align: middle;\n",
       "    }\n",
       "\n",
       "    .dataframe tbody tr th {\n",
       "        vertical-align: top;\n",
       "    }\n",
       "\n",
       "    .dataframe thead th {\n",
       "        text-align: right;\n",
       "    }\n",
       "</style>\n",
       "<table border=\"1\" class=\"dataframe\">\n",
       "  <thead>\n",
       "    <tr style=\"text-align: right;\">\n",
       "      <th></th>\n",
       "      <th>X1</th>\n",
       "      <th>X2</th>\n",
       "    </tr>\n",
       "  </thead>\n",
       "  <tbody>\n",
       "    <tr>\n",
       "      <th>0</th>\n",
       "      <td>1</td>\n",
       "      <td>-2</td>\n",
       "    </tr>\n",
       "    <tr>\n",
       "      <th>1</th>\n",
       "      <td>2</td>\n",
       "      <td>-3</td>\n",
       "    </tr>\n",
       "    <tr>\n",
       "      <th>2</th>\n",
       "      <td>3</td>\n",
       "      <td>-4</td>\n",
       "    </tr>\n",
       "  </tbody>\n",
       "</table>\n",
       "</div>"
      ],
      "text/plain": [
       "   X1  X2\n",
       "0   1  -2\n",
       "1   2  -3\n",
       "2   3  -4"
      ]
     },
     "execution_count": 359,
     "metadata": {},
     "output_type": "execute_result"
    }
   ],
   "source": [
    "df.columns = ['X1','X2']\n",
    "df"
   ]
  },
  {
   "cell_type": "markdown",
   "id": "a6d467e1-34d3-418c-af5c-74daefd37e69",
   "metadata": {},
   "source": [
    "### 3"
   ]
  },
  {
   "cell_type": "code",
   "execution_count": 360,
   "id": "1b556f81-0d79-4904-a342-93a1cb76facb",
   "metadata": {},
   "outputs": [
    {
     "data": {
      "text/html": [
       "<div>\n",
       "<style scoped>\n",
       "    .dataframe tbody tr th:only-of-type {\n",
       "        vertical-align: middle;\n",
       "    }\n",
       "\n",
       "    .dataframe tbody tr th {\n",
       "        vertical-align: top;\n",
       "    }\n",
       "\n",
       "    .dataframe thead th {\n",
       "        text-align: right;\n",
       "    }\n",
       "</style>\n",
       "<table border=\"1\" class=\"dataframe\">\n",
       "  <thead>\n",
       "    <tr style=\"text-align: right;\">\n",
       "      <th></th>\n",
       "      <th>A</th>\n",
       "      <th>B</th>\n",
       "      <th>C</th>\n",
       "      <th>D</th>\n",
       "      <th>E</th>\n",
       "    </tr>\n",
       "  </thead>\n",
       "  <tbody>\n",
       "    <tr>\n",
       "      <th>0</th>\n",
       "      <td>1.463910</td>\n",
       "      <td>-0.189044</td>\n",
       "      <td>-1.154230</td>\n",
       "      <td>-1.063342</td>\n",
       "      <td>1.027457</td>\n",
       "    </tr>\n",
       "    <tr>\n",
       "      <th>1</th>\n",
       "      <td>0.821139</td>\n",
       "      <td>-0.511394</td>\n",
       "      <td>-3.710588</td>\n",
       "      <td>1.160104</td>\n",
       "      <td>-0.107635</td>\n",
       "    </tr>\n",
       "    <tr>\n",
       "      <th>2</th>\n",
       "      <td>-0.732671</td>\n",
       "      <td>-1.033050</td>\n",
       "      <td>-0.295740</td>\n",
       "      <td>0.282198</td>\n",
       "      <td>-0.215732</td>\n",
       "    </tr>\n",
       "    <tr>\n",
       "      <th>3</th>\n",
       "      <td>1.598415</td>\n",
       "      <td>-2.190977</td>\n",
       "      <td>-0.803828</td>\n",
       "      <td>-0.956396</td>\n",
       "      <td>-0.174917</td>\n",
       "    </tr>\n",
       "    <tr>\n",
       "      <th>4</th>\n",
       "      <td>-0.185002</td>\n",
       "      <td>1.154373</td>\n",
       "      <td>-0.236004</td>\n",
       "      <td>-2.128459</td>\n",
       "      <td>-1.623930</td>\n",
       "    </tr>\n",
       "    <tr>\n",
       "      <th>...</th>\n",
       "      <td>...</td>\n",
       "      <td>...</td>\n",
       "      <td>...</td>\n",
       "      <td>...</td>\n",
       "      <td>...</td>\n",
       "    </tr>\n",
       "    <tr>\n",
       "      <th>95</th>\n",
       "      <td>-1.085273</td>\n",
       "      <td>0.428166</td>\n",
       "      <td>0.744181</td>\n",
       "      <td>0.533127</td>\n",
       "      <td>-0.263671</td>\n",
       "    </tr>\n",
       "    <tr>\n",
       "      <th>96</th>\n",
       "      <td>-0.528071</td>\n",
       "      <td>1.460818</td>\n",
       "      <td>-0.773037</td>\n",
       "      <td>-0.355642</td>\n",
       "      <td>1.661265</td>\n",
       "    </tr>\n",
       "    <tr>\n",
       "      <th>97</th>\n",
       "      <td>-0.044476</td>\n",
       "      <td>-0.269066</td>\n",
       "      <td>0.018526</td>\n",
       "      <td>-0.318183</td>\n",
       "      <td>0.990264</td>\n",
       "    </tr>\n",
       "    <tr>\n",
       "      <th>98</th>\n",
       "      <td>-0.324435</td>\n",
       "      <td>0.583649</td>\n",
       "      <td>1.500259</td>\n",
       "      <td>0.257866</td>\n",
       "      <td>-2.036244</td>\n",
       "    </tr>\n",
       "    <tr>\n",
       "      <th>99</th>\n",
       "      <td>2.104528</td>\n",
       "      <td>0.380031</td>\n",
       "      <td>-0.353625</td>\n",
       "      <td>-1.402250</td>\n",
       "      <td>-1.109209</td>\n",
       "    </tr>\n",
       "  </tbody>\n",
       "</table>\n",
       "<p>100 rows × 5 columns</p>\n",
       "</div>"
      ],
      "text/plain": [
       "           A         B         C         D         E\n",
       "0   1.463910 -0.189044 -1.154230 -1.063342  1.027457\n",
       "1   0.821139 -0.511394 -3.710588  1.160104 -0.107635\n",
       "2  -0.732671 -1.033050 -0.295740  0.282198 -0.215732\n",
       "3   1.598415 -2.190977 -0.803828 -0.956396 -0.174917\n",
       "4  -0.185002  1.154373 -0.236004 -2.128459 -1.623930\n",
       "..       ...       ...       ...       ...       ...\n",
       "95 -1.085273  0.428166  0.744181  0.533127 -0.263671\n",
       "96 -0.528071  1.460818 -0.773037 -0.355642  1.661265\n",
       "97 -0.044476 -0.269066  0.018526 -0.318183  0.990264\n",
       "98 -0.324435  0.583649  1.500259  0.257866 -2.036244\n",
       "99  2.104528  0.380031 -0.353625 -1.402250 -1.109209\n",
       "\n",
       "[100 rows x 5 columns]"
      ]
     },
     "execution_count": 360,
     "metadata": {},
     "output_type": "execute_result"
    }
   ],
   "source": [
    "df = pd.DataFrame(np.random.normal(size=(100,5)),columns=list('ABCDE'))\n",
    "df"
   ]
  },
  {
   "cell_type": "code",
   "execution_count": 363,
   "id": "d7a4e0bd-99b9-47e4-8906-59cbe5a618a3",
   "metadata": {},
   "outputs": [
    {
     "data": {
      "text/html": [
       "<div>\n",
       "<style scoped>\n",
       "    .dataframe tbody tr th:only-of-type {\n",
       "        vertical-align: middle;\n",
       "    }\n",
       "\n",
       "    .dataframe tbody tr th {\n",
       "        vertical-align: top;\n",
       "    }\n",
       "\n",
       "    .dataframe thead th {\n",
       "        text-align: right;\n",
       "    }\n",
       "</style>\n",
       "<table border=\"1\" class=\"dataframe\">\n",
       "  <thead>\n",
       "    <tr style=\"text-align: right;\">\n",
       "      <th></th>\n",
       "      <th>B</th>\n",
       "      <th>D</th>\n",
       "    </tr>\n",
       "  </thead>\n",
       "  <tbody>\n",
       "    <tr>\n",
       "      <th>0</th>\n",
       "      <td>-0.189044</td>\n",
       "      <td>-1.063342</td>\n",
       "    </tr>\n",
       "    <tr>\n",
       "      <th>1</th>\n",
       "      <td>-0.511394</td>\n",
       "      <td>1.160104</td>\n",
       "    </tr>\n",
       "    <tr>\n",
       "      <th>2</th>\n",
       "      <td>-1.033050</td>\n",
       "      <td>0.282198</td>\n",
       "    </tr>\n",
       "    <tr>\n",
       "      <th>3</th>\n",
       "      <td>-2.190977</td>\n",
       "      <td>-0.956396</td>\n",
       "    </tr>\n",
       "    <tr>\n",
       "      <th>4</th>\n",
       "      <td>1.154373</td>\n",
       "      <td>-2.128459</td>\n",
       "    </tr>\n",
       "    <tr>\n",
       "      <th>...</th>\n",
       "      <td>...</td>\n",
       "      <td>...</td>\n",
       "    </tr>\n",
       "    <tr>\n",
       "      <th>95</th>\n",
       "      <td>0.428166</td>\n",
       "      <td>0.533127</td>\n",
       "    </tr>\n",
       "    <tr>\n",
       "      <th>96</th>\n",
       "      <td>1.460818</td>\n",
       "      <td>-0.355642</td>\n",
       "    </tr>\n",
       "    <tr>\n",
       "      <th>97</th>\n",
       "      <td>-0.269066</td>\n",
       "      <td>-0.318183</td>\n",
       "    </tr>\n",
       "    <tr>\n",
       "      <th>98</th>\n",
       "      <td>0.583649</td>\n",
       "      <td>0.257866</td>\n",
       "    </tr>\n",
       "    <tr>\n",
       "      <th>99</th>\n",
       "      <td>0.380031</td>\n",
       "      <td>-1.402250</td>\n",
       "    </tr>\n",
       "  </tbody>\n",
       "</table>\n",
       "<p>100 rows × 2 columns</p>\n",
       "</div>"
      ],
      "text/plain": [
       "           B         D\n",
       "0  -0.189044 -1.063342\n",
       "1  -0.511394  1.160104\n",
       "2  -1.033050  0.282198\n",
       "3  -2.190977 -0.956396\n",
       "4   1.154373 -2.128459\n",
       "..       ...       ...\n",
       "95  0.428166  0.533127\n",
       "96  1.460818 -0.355642\n",
       "97 -0.269066 -0.318183\n",
       "98  0.583649  0.257866\n",
       "99  0.380031 -1.402250\n",
       "\n",
       "[100 rows x 2 columns]"
      ]
     },
     "execution_count": 363,
     "metadata": {},
     "output_type": "execute_result"
    }
   ],
   "source": [
    "df[['B','D']]"
   ]
  },
  {
   "cell_type": "markdown",
   "id": "f1a7d08d-541e-4b53-8052-600164425570",
   "metadata": {},
   "source": [
    "### 4"
   ]
  },
  {
   "cell_type": "code",
   "execution_count": 366,
   "id": "3c84aca6-8763-4d5a-b790-b49152bb7ab3",
   "metadata": {},
   "outputs": [
    {
     "data": {
      "text/html": [
       "<div>\n",
       "<style scoped>\n",
       "    .dataframe tbody tr th:only-of-type {\n",
       "        vertical-align: middle;\n",
       "    }\n",
       "\n",
       "    .dataframe tbody tr th {\n",
       "        vertical-align: top;\n",
       "    }\n",
       "\n",
       "    .dataframe thead th {\n",
       "        text-align: right;\n",
       "    }\n",
       "</style>\n",
       "<table border=\"1\" class=\"dataframe\">\n",
       "  <thead>\n",
       "    <tr style=\"text-align: right;\">\n",
       "      <th></th>\n",
       "      <th>A</th>\n",
       "      <th>B</th>\n",
       "      <th>C</th>\n",
       "      <th>D</th>\n",
       "      <th>E</th>\n",
       "    </tr>\n",
       "  </thead>\n",
       "  <tbody>\n",
       "    <tr>\n",
       "      <th>90</th>\n",
       "      <td>-0.167761</td>\n",
       "      <td>-0.664358</td>\n",
       "      <td>1.867122</td>\n",
       "      <td>-0.177171</td>\n",
       "      <td>0.197525</td>\n",
       "    </tr>\n",
       "    <tr>\n",
       "      <th>91</th>\n",
       "      <td>0.377890</td>\n",
       "      <td>-1.048871</td>\n",
       "      <td>2.145238</td>\n",
       "      <td>0.424379</td>\n",
       "      <td>0.525715</td>\n",
       "    </tr>\n",
       "    <tr>\n",
       "      <th>92</th>\n",
       "      <td>0.696097</td>\n",
       "      <td>-0.948450</td>\n",
       "      <td>0.611477</td>\n",
       "      <td>1.591229</td>\n",
       "      <td>0.091939</td>\n",
       "    </tr>\n",
       "    <tr>\n",
       "      <th>93</th>\n",
       "      <td>-0.419354</td>\n",
       "      <td>1.160804</td>\n",
       "      <td>-0.993989</td>\n",
       "      <td>0.987491</td>\n",
       "      <td>-1.580077</td>\n",
       "    </tr>\n",
       "    <tr>\n",
       "      <th>94</th>\n",
       "      <td>1.178698</td>\n",
       "      <td>-0.141507</td>\n",
       "      <td>-0.717452</td>\n",
       "      <td>1.447968</td>\n",
       "      <td>0.585297</td>\n",
       "    </tr>\n",
       "    <tr>\n",
       "      <th>95</th>\n",
       "      <td>-1.085273</td>\n",
       "      <td>0.428166</td>\n",
       "      <td>0.744181</td>\n",
       "      <td>0.533127</td>\n",
       "      <td>-0.263671</td>\n",
       "    </tr>\n",
       "    <tr>\n",
       "      <th>96</th>\n",
       "      <td>-0.528071</td>\n",
       "      <td>1.460818</td>\n",
       "      <td>-0.773037</td>\n",
       "      <td>-0.355642</td>\n",
       "      <td>1.661265</td>\n",
       "    </tr>\n",
       "    <tr>\n",
       "      <th>97</th>\n",
       "      <td>-0.044476</td>\n",
       "      <td>-0.269066</td>\n",
       "      <td>0.018526</td>\n",
       "      <td>-0.318183</td>\n",
       "      <td>0.990264</td>\n",
       "    </tr>\n",
       "    <tr>\n",
       "      <th>98</th>\n",
       "      <td>-0.324435</td>\n",
       "      <td>0.583649</td>\n",
       "      <td>1.500259</td>\n",
       "      <td>0.257866</td>\n",
       "      <td>-2.036244</td>\n",
       "    </tr>\n",
       "    <tr>\n",
       "      <th>99</th>\n",
       "      <td>2.104528</td>\n",
       "      <td>0.380031</td>\n",
       "      <td>-0.353625</td>\n",
       "      <td>-1.402250</td>\n",
       "      <td>-1.109209</td>\n",
       "    </tr>\n",
       "  </tbody>\n",
       "</table>\n",
       "</div>"
      ],
      "text/plain": [
       "           A         B         C         D         E\n",
       "90 -0.167761 -0.664358  1.867122 -0.177171  0.197525\n",
       "91  0.377890 -1.048871  2.145238  0.424379  0.525715\n",
       "92  0.696097 -0.948450  0.611477  1.591229  0.091939\n",
       "93 -0.419354  1.160804 -0.993989  0.987491 -1.580077\n",
       "94  1.178698 -0.141507 -0.717452  1.447968  0.585297\n",
       "95 -1.085273  0.428166  0.744181  0.533127 -0.263671\n",
       "96 -0.528071  1.460818 -0.773037 -0.355642  1.661265\n",
       "97 -0.044476 -0.269066  0.018526 -0.318183  0.990264\n",
       "98 -0.324435  0.583649  1.500259  0.257866 -2.036244\n",
       "99  2.104528  0.380031 -0.353625 -1.402250 -1.109209"
      ]
     },
     "execution_count": 366,
     "metadata": {},
     "output_type": "execute_result"
    }
   ],
   "source": [
    "df[-10:]"
   ]
  },
  {
   "cell_type": "markdown",
   "id": "7020e46f-a288-4713-a3a1-c43e9d65224c",
   "metadata": {},
   "source": [
    "### 5"
   ]
  },
  {
   "cell_type": "code",
   "execution_count": 368,
   "id": "7e1e1c69-fc44-4e89-8ee8-38c64d102891",
   "metadata": {},
   "outputs": [
    {
     "data": {
      "text/html": [
       "<div>\n",
       "<style scoped>\n",
       "    .dataframe tbody tr th:only-of-type {\n",
       "        vertical-align: middle;\n",
       "    }\n",
       "\n",
       "    .dataframe tbody tr th {\n",
       "        vertical-align: top;\n",
       "    }\n",
       "\n",
       "    .dataframe thead th {\n",
       "        text-align: right;\n",
       "    }\n",
       "</style>\n",
       "<table border=\"1\" class=\"dataframe\">\n",
       "  <thead>\n",
       "    <tr style=\"text-align: right;\">\n",
       "      <th></th>\n",
       "      <th>A</th>\n",
       "      <th>B</th>\n",
       "    </tr>\n",
       "  </thead>\n",
       "  <tbody>\n",
       "    <tr>\n",
       "      <th>0</th>\n",
       "      <td>1.463910</td>\n",
       "      <td>-0.189044</td>\n",
       "    </tr>\n",
       "    <tr>\n",
       "      <th>1</th>\n",
       "      <td>0.821139</td>\n",
       "      <td>-0.511394</td>\n",
       "    </tr>\n",
       "    <tr>\n",
       "      <th>2</th>\n",
       "      <td>-0.732671</td>\n",
       "      <td>-1.033050</td>\n",
       "    </tr>\n",
       "    <tr>\n",
       "      <th>3</th>\n",
       "      <td>1.598415</td>\n",
       "      <td>-2.190977</td>\n",
       "    </tr>\n",
       "    <tr>\n",
       "      <th>4</th>\n",
       "      <td>-0.185002</td>\n",
       "      <td>1.154373</td>\n",
       "    </tr>\n",
       "    <tr>\n",
       "      <th>5</th>\n",
       "      <td>1.410994</td>\n",
       "      <td>-1.352321</td>\n",
       "    </tr>\n",
       "    <tr>\n",
       "      <th>6</th>\n",
       "      <td>0.547868</td>\n",
       "      <td>0.647899</td>\n",
       "    </tr>\n",
       "    <tr>\n",
       "      <th>7</th>\n",
       "      <td>-2.993996</td>\n",
       "      <td>-0.656354</td>\n",
       "    </tr>\n",
       "    <tr>\n",
       "      <th>8</th>\n",
       "      <td>0.016301</td>\n",
       "      <td>0.654041</td>\n",
       "    </tr>\n",
       "    <tr>\n",
       "      <th>9</th>\n",
       "      <td>-0.973628</td>\n",
       "      <td>0.756796</td>\n",
       "    </tr>\n",
       "  </tbody>\n",
       "</table>\n",
       "</div>"
      ],
      "text/plain": [
       "          A         B\n",
       "0  1.463910 -0.189044\n",
       "1  0.821139 -0.511394\n",
       "2 -0.732671 -1.033050\n",
       "3  1.598415 -2.190977\n",
       "4 -0.185002  1.154373\n",
       "5  1.410994 -1.352321\n",
       "6  0.547868  0.647899\n",
       "7 -2.993996 -0.656354\n",
       "8  0.016301  0.654041\n",
       "9 -0.973628  0.756796"
      ]
     },
     "execution_count": 368,
     "metadata": {},
     "output_type": "execute_result"
    }
   ],
   "source": [
    "df[['A','B']][:10]"
   ]
  },
  {
   "cell_type": "code",
   "execution_count": 369,
   "id": "1dc9983d-9dbe-43ee-8594-6ff3151f2010",
   "metadata": {},
   "outputs": [
    {
     "data": {
      "text/html": [
       "<div>\n",
       "<style scoped>\n",
       "    .dataframe tbody tr th:only-of-type {\n",
       "        vertical-align: middle;\n",
       "    }\n",
       "\n",
       "    .dataframe tbody tr th {\n",
       "        vertical-align: top;\n",
       "    }\n",
       "\n",
       "    .dataframe thead th {\n",
       "        text-align: right;\n",
       "    }\n",
       "</style>\n",
       "<table border=\"1\" class=\"dataframe\">\n",
       "  <thead>\n",
       "    <tr style=\"text-align: right;\">\n",
       "      <th></th>\n",
       "      <th>A</th>\n",
       "      <th>B</th>\n",
       "    </tr>\n",
       "  </thead>\n",
       "  <tbody>\n",
       "    <tr>\n",
       "      <th>0</th>\n",
       "      <td>1.463910</td>\n",
       "      <td>-0.189044</td>\n",
       "    </tr>\n",
       "    <tr>\n",
       "      <th>1</th>\n",
       "      <td>0.821139</td>\n",
       "      <td>-0.511394</td>\n",
       "    </tr>\n",
       "    <tr>\n",
       "      <th>2</th>\n",
       "      <td>-0.732671</td>\n",
       "      <td>-1.033050</td>\n",
       "    </tr>\n",
       "    <tr>\n",
       "      <th>3</th>\n",
       "      <td>1.598415</td>\n",
       "      <td>-2.190977</td>\n",
       "    </tr>\n",
       "    <tr>\n",
       "      <th>4</th>\n",
       "      <td>-0.185002</td>\n",
       "      <td>1.154373</td>\n",
       "    </tr>\n",
       "    <tr>\n",
       "      <th>5</th>\n",
       "      <td>1.410994</td>\n",
       "      <td>-1.352321</td>\n",
       "    </tr>\n",
       "    <tr>\n",
       "      <th>6</th>\n",
       "      <td>0.547868</td>\n",
       "      <td>0.647899</td>\n",
       "    </tr>\n",
       "    <tr>\n",
       "      <th>7</th>\n",
       "      <td>-2.993996</td>\n",
       "      <td>-0.656354</td>\n",
       "    </tr>\n",
       "    <tr>\n",
       "      <th>8</th>\n",
       "      <td>0.016301</td>\n",
       "      <td>0.654041</td>\n",
       "    </tr>\n",
       "    <tr>\n",
       "      <th>9</th>\n",
       "      <td>-0.973628</td>\n",
       "      <td>0.756796</td>\n",
       "    </tr>\n",
       "  </tbody>\n",
       "</table>\n",
       "</div>"
      ],
      "text/plain": [
       "          A         B\n",
       "0  1.463910 -0.189044\n",
       "1  0.821139 -0.511394\n",
       "2 -0.732671 -1.033050\n",
       "3  1.598415 -2.190977\n",
       "4 -0.185002  1.154373\n",
       "5  1.410994 -1.352321\n",
       "6  0.547868  0.647899\n",
       "7 -2.993996 -0.656354\n",
       "8  0.016301  0.654041\n",
       "9 -0.973628  0.756796"
      ]
     },
     "execution_count": 369,
     "metadata": {},
     "output_type": "execute_result"
    }
   ],
   "source": [
    "df.loc[:,['A','B']].iloc[:10]"
   ]
  },
  {
   "cell_type": "markdown",
   "id": "6671d134-2813-4419-aa13-6357652a1f19",
   "metadata": {},
   "source": [
    "### 6"
   ]
  },
  {
   "cell_type": "code",
   "execution_count": 370,
   "id": "114f5dca-209f-46ab-81d7-b17dc0b6d130",
   "metadata": {},
   "outputs": [
    {
     "data": {
      "text/html": [
       "<div>\n",
       "<style scoped>\n",
       "    .dataframe tbody tr th:only-of-type {\n",
       "        vertical-align: middle;\n",
       "    }\n",
       "\n",
       "    .dataframe tbody tr th {\n",
       "        vertical-align: top;\n",
       "    }\n",
       "\n",
       "    .dataframe thead th {\n",
       "        text-align: right;\n",
       "    }\n",
       "</style>\n",
       "<table border=\"1\" class=\"dataframe\">\n",
       "  <thead>\n",
       "    <tr style=\"text-align: right;\">\n",
       "      <th></th>\n",
       "      <th>color</th>\n",
       "      <th>director_name</th>\n",
       "      <th>num_critic_for_reviews</th>\n",
       "      <th>duration</th>\n",
       "      <th>director_facebook_likes</th>\n",
       "      <th>actor_3_facebook_likes</th>\n",
       "      <th>actor_2_name</th>\n",
       "      <th>actor_1_facebook_likes</th>\n",
       "      <th>gross</th>\n",
       "      <th>genres</th>\n",
       "      <th>...</th>\n",
       "      <th>num_user_for_reviews</th>\n",
       "      <th>language</th>\n",
       "      <th>country</th>\n",
       "      <th>content_rating</th>\n",
       "      <th>budget</th>\n",
       "      <th>title_year</th>\n",
       "      <th>actor_2_facebook_likes</th>\n",
       "      <th>imdb_score</th>\n",
       "      <th>aspect_ratio</th>\n",
       "      <th>movie_facebook_likes</th>\n",
       "    </tr>\n",
       "  </thead>\n",
       "  <tbody>\n",
       "    <tr>\n",
       "      <th>0</th>\n",
       "      <td>Color</td>\n",
       "      <td>James Cameron</td>\n",
       "      <td>723.0</td>\n",
       "      <td>178.0</td>\n",
       "      <td>0.0</td>\n",
       "      <td>855.0</td>\n",
       "      <td>Joel David Moore</td>\n",
       "      <td>1000.0</td>\n",
       "      <td>760505847.0</td>\n",
       "      <td>Action|Adventure|Fantasy|Sci-Fi</td>\n",
       "      <td>...</td>\n",
       "      <td>3054.0</td>\n",
       "      <td>English</td>\n",
       "      <td>USA</td>\n",
       "      <td>PG-13</td>\n",
       "      <td>237000000.0</td>\n",
       "      <td>2009.0</td>\n",
       "      <td>936.0</td>\n",
       "      <td>7.9</td>\n",
       "      <td>1.78</td>\n",
       "      <td>33000</td>\n",
       "    </tr>\n",
       "    <tr>\n",
       "      <th>1</th>\n",
       "      <td>Color</td>\n",
       "      <td>Gore Verbinski</td>\n",
       "      <td>302.0</td>\n",
       "      <td>169.0</td>\n",
       "      <td>563.0</td>\n",
       "      <td>1000.0</td>\n",
       "      <td>Orlando Bloom</td>\n",
       "      <td>40000.0</td>\n",
       "      <td>309404152.0</td>\n",
       "      <td>Action|Adventure|Fantasy</td>\n",
       "      <td>...</td>\n",
       "      <td>1238.0</td>\n",
       "      <td>English</td>\n",
       "      <td>USA</td>\n",
       "      <td>PG-13</td>\n",
       "      <td>300000000.0</td>\n",
       "      <td>2007.0</td>\n",
       "      <td>5000.0</td>\n",
       "      <td>7.1</td>\n",
       "      <td>2.35</td>\n",
       "      <td>0</td>\n",
       "    </tr>\n",
       "    <tr>\n",
       "      <th>2</th>\n",
       "      <td>Color</td>\n",
       "      <td>Sam Mendes</td>\n",
       "      <td>602.0</td>\n",
       "      <td>148.0</td>\n",
       "      <td>0.0</td>\n",
       "      <td>161.0</td>\n",
       "      <td>Rory Kinnear</td>\n",
       "      <td>11000.0</td>\n",
       "      <td>200074175.0</td>\n",
       "      <td>Action|Adventure|Thriller</td>\n",
       "      <td>...</td>\n",
       "      <td>994.0</td>\n",
       "      <td>English</td>\n",
       "      <td>UK</td>\n",
       "      <td>PG-13</td>\n",
       "      <td>245000000.0</td>\n",
       "      <td>2015.0</td>\n",
       "      <td>393.0</td>\n",
       "      <td>6.8</td>\n",
       "      <td>2.35</td>\n",
       "      <td>85000</td>\n",
       "    </tr>\n",
       "    <tr>\n",
       "      <th>3</th>\n",
       "      <td>Color</td>\n",
       "      <td>Christopher Nolan</td>\n",
       "      <td>813.0</td>\n",
       "      <td>164.0</td>\n",
       "      <td>22000.0</td>\n",
       "      <td>23000.0</td>\n",
       "      <td>Christian Bale</td>\n",
       "      <td>27000.0</td>\n",
       "      <td>448130642.0</td>\n",
       "      <td>Action|Thriller</td>\n",
       "      <td>...</td>\n",
       "      <td>2701.0</td>\n",
       "      <td>English</td>\n",
       "      <td>USA</td>\n",
       "      <td>PG-13</td>\n",
       "      <td>250000000.0</td>\n",
       "      <td>2012.0</td>\n",
       "      <td>23000.0</td>\n",
       "      <td>8.5</td>\n",
       "      <td>2.35</td>\n",
       "      <td>164000</td>\n",
       "    </tr>\n",
       "    <tr>\n",
       "      <th>4</th>\n",
       "      <td>NaN</td>\n",
       "      <td>Doug Walker</td>\n",
       "      <td>NaN</td>\n",
       "      <td>NaN</td>\n",
       "      <td>131.0</td>\n",
       "      <td>NaN</td>\n",
       "      <td>Rob Walker</td>\n",
       "      <td>131.0</td>\n",
       "      <td>NaN</td>\n",
       "      <td>Documentary</td>\n",
       "      <td>...</td>\n",
       "      <td>NaN</td>\n",
       "      <td>NaN</td>\n",
       "      <td>NaN</td>\n",
       "      <td>NaN</td>\n",
       "      <td>NaN</td>\n",
       "      <td>NaN</td>\n",
       "      <td>12.0</td>\n",
       "      <td>7.1</td>\n",
       "      <td>NaN</td>\n",
       "      <td>0</td>\n",
       "    </tr>\n",
       "    <tr>\n",
       "      <th>...</th>\n",
       "      <td>...</td>\n",
       "      <td>...</td>\n",
       "      <td>...</td>\n",
       "      <td>...</td>\n",
       "      <td>...</td>\n",
       "      <td>...</td>\n",
       "      <td>...</td>\n",
       "      <td>...</td>\n",
       "      <td>...</td>\n",
       "      <td>...</td>\n",
       "      <td>...</td>\n",
       "      <td>...</td>\n",
       "      <td>...</td>\n",
       "      <td>...</td>\n",
       "      <td>...</td>\n",
       "      <td>...</td>\n",
       "      <td>...</td>\n",
       "      <td>...</td>\n",
       "      <td>...</td>\n",
       "      <td>...</td>\n",
       "      <td>...</td>\n",
       "    </tr>\n",
       "    <tr>\n",
       "      <th>4911</th>\n",
       "      <td>Color</td>\n",
       "      <td>Scott Smith</td>\n",
       "      <td>1.0</td>\n",
       "      <td>87.0</td>\n",
       "      <td>2.0</td>\n",
       "      <td>318.0</td>\n",
       "      <td>Daphne Zuniga</td>\n",
       "      <td>637.0</td>\n",
       "      <td>NaN</td>\n",
       "      <td>Comedy|Drama</td>\n",
       "      <td>...</td>\n",
       "      <td>6.0</td>\n",
       "      <td>English</td>\n",
       "      <td>Canada</td>\n",
       "      <td>NaN</td>\n",
       "      <td>NaN</td>\n",
       "      <td>2013.0</td>\n",
       "      <td>470.0</td>\n",
       "      <td>7.7</td>\n",
       "      <td>NaN</td>\n",
       "      <td>84</td>\n",
       "    </tr>\n",
       "    <tr>\n",
       "      <th>4912</th>\n",
       "      <td>Color</td>\n",
       "      <td>NaN</td>\n",
       "      <td>43.0</td>\n",
       "      <td>43.0</td>\n",
       "      <td>NaN</td>\n",
       "      <td>319.0</td>\n",
       "      <td>Valorie Curry</td>\n",
       "      <td>841.0</td>\n",
       "      <td>NaN</td>\n",
       "      <td>Crime|Drama|Mystery|Thriller</td>\n",
       "      <td>...</td>\n",
       "      <td>359.0</td>\n",
       "      <td>English</td>\n",
       "      <td>USA</td>\n",
       "      <td>TV-14</td>\n",
       "      <td>NaN</td>\n",
       "      <td>NaN</td>\n",
       "      <td>593.0</td>\n",
       "      <td>7.5</td>\n",
       "      <td>16.00</td>\n",
       "      <td>32000</td>\n",
       "    </tr>\n",
       "    <tr>\n",
       "      <th>4913</th>\n",
       "      <td>Color</td>\n",
       "      <td>Benjamin Roberds</td>\n",
       "      <td>13.0</td>\n",
       "      <td>76.0</td>\n",
       "      <td>0.0</td>\n",
       "      <td>0.0</td>\n",
       "      <td>Maxwell Moody</td>\n",
       "      <td>0.0</td>\n",
       "      <td>NaN</td>\n",
       "      <td>Drama|Horror|Thriller</td>\n",
       "      <td>...</td>\n",
       "      <td>3.0</td>\n",
       "      <td>English</td>\n",
       "      <td>USA</td>\n",
       "      <td>NaN</td>\n",
       "      <td>1400.0</td>\n",
       "      <td>2013.0</td>\n",
       "      <td>0.0</td>\n",
       "      <td>6.3</td>\n",
       "      <td>NaN</td>\n",
       "      <td>16</td>\n",
       "    </tr>\n",
       "    <tr>\n",
       "      <th>4914</th>\n",
       "      <td>Color</td>\n",
       "      <td>Daniel Hsia</td>\n",
       "      <td>14.0</td>\n",
       "      <td>100.0</td>\n",
       "      <td>0.0</td>\n",
       "      <td>489.0</td>\n",
       "      <td>Daniel Henney</td>\n",
       "      <td>946.0</td>\n",
       "      <td>10443.0</td>\n",
       "      <td>Comedy|Drama|Romance</td>\n",
       "      <td>...</td>\n",
       "      <td>9.0</td>\n",
       "      <td>English</td>\n",
       "      <td>USA</td>\n",
       "      <td>PG-13</td>\n",
       "      <td>NaN</td>\n",
       "      <td>2012.0</td>\n",
       "      <td>719.0</td>\n",
       "      <td>6.3</td>\n",
       "      <td>2.35</td>\n",
       "      <td>660</td>\n",
       "    </tr>\n",
       "    <tr>\n",
       "      <th>4915</th>\n",
       "      <td>Color</td>\n",
       "      <td>Jon Gunn</td>\n",
       "      <td>43.0</td>\n",
       "      <td>90.0</td>\n",
       "      <td>16.0</td>\n",
       "      <td>16.0</td>\n",
       "      <td>Brian Herzlinger</td>\n",
       "      <td>86.0</td>\n",
       "      <td>85222.0</td>\n",
       "      <td>Documentary</td>\n",
       "      <td>...</td>\n",
       "      <td>84.0</td>\n",
       "      <td>English</td>\n",
       "      <td>USA</td>\n",
       "      <td>PG</td>\n",
       "      <td>1100.0</td>\n",
       "      <td>2004.0</td>\n",
       "      <td>23.0</td>\n",
       "      <td>6.6</td>\n",
       "      <td>1.85</td>\n",
       "      <td>456</td>\n",
       "    </tr>\n",
       "  </tbody>\n",
       "</table>\n",
       "<p>4916 rows × 28 columns</p>\n",
       "</div>"
      ],
      "text/plain": [
       "      color      director_name  num_critic_for_reviews  duration  \\\n",
       "0     Color      James Cameron                   723.0     178.0   \n",
       "1     Color     Gore Verbinski                   302.0     169.0   \n",
       "2     Color         Sam Mendes                   602.0     148.0   \n",
       "3     Color  Christopher Nolan                   813.0     164.0   \n",
       "4       NaN        Doug Walker                     NaN       NaN   \n",
       "...     ...                ...                     ...       ...   \n",
       "4911  Color        Scott Smith                     1.0      87.0   \n",
       "4912  Color                NaN                    43.0      43.0   \n",
       "4913  Color   Benjamin Roberds                    13.0      76.0   \n",
       "4914  Color        Daniel Hsia                    14.0     100.0   \n",
       "4915  Color           Jon Gunn                    43.0      90.0   \n",
       "\n",
       "      director_facebook_likes  actor_3_facebook_likes      actor_2_name  \\\n",
       "0                         0.0                   855.0  Joel David Moore   \n",
       "1                       563.0                  1000.0     Orlando Bloom   \n",
       "2                         0.0                   161.0      Rory Kinnear   \n",
       "3                     22000.0                 23000.0    Christian Bale   \n",
       "4                       131.0                     NaN        Rob Walker   \n",
       "...                       ...                     ...               ...   \n",
       "4911                      2.0                   318.0     Daphne Zuniga   \n",
       "4912                      NaN                   319.0     Valorie Curry   \n",
       "4913                      0.0                     0.0     Maxwell Moody   \n",
       "4914                      0.0                   489.0     Daniel Henney   \n",
       "4915                     16.0                    16.0  Brian Herzlinger   \n",
       "\n",
       "      actor_1_facebook_likes        gross                           genres  \\\n",
       "0                     1000.0  760505847.0  Action|Adventure|Fantasy|Sci-Fi   \n",
       "1                    40000.0  309404152.0         Action|Adventure|Fantasy   \n",
       "2                    11000.0  200074175.0        Action|Adventure|Thriller   \n",
       "3                    27000.0  448130642.0                  Action|Thriller   \n",
       "4                      131.0          NaN                      Documentary   \n",
       "...                      ...          ...                              ...   \n",
       "4911                   637.0          NaN                     Comedy|Drama   \n",
       "4912                   841.0          NaN     Crime|Drama|Mystery|Thriller   \n",
       "4913                     0.0          NaN            Drama|Horror|Thriller   \n",
       "4914                   946.0      10443.0             Comedy|Drama|Romance   \n",
       "4915                    86.0      85222.0                      Documentary   \n",
       "\n",
       "      ... num_user_for_reviews language  country  content_rating       budget  \\\n",
       "0     ...               3054.0  English      USA           PG-13  237000000.0   \n",
       "1     ...               1238.0  English      USA           PG-13  300000000.0   \n",
       "2     ...                994.0  English       UK           PG-13  245000000.0   \n",
       "3     ...               2701.0  English      USA           PG-13  250000000.0   \n",
       "4     ...                  NaN      NaN      NaN             NaN          NaN   \n",
       "...   ...                  ...      ...      ...             ...          ...   \n",
       "4911  ...                  6.0  English   Canada             NaN          NaN   \n",
       "4912  ...                359.0  English      USA           TV-14          NaN   \n",
       "4913  ...                  3.0  English      USA             NaN       1400.0   \n",
       "4914  ...                  9.0  English      USA           PG-13          NaN   \n",
       "4915  ...                 84.0  English      USA              PG       1100.0   \n",
       "\n",
       "      title_year actor_2_facebook_likes imdb_score  aspect_ratio  \\\n",
       "0         2009.0                  936.0        7.9          1.78   \n",
       "1         2007.0                 5000.0        7.1          2.35   \n",
       "2         2015.0                  393.0        6.8          2.35   \n",
       "3         2012.0                23000.0        8.5          2.35   \n",
       "4            NaN                   12.0        7.1           NaN   \n",
       "...          ...                    ...        ...           ...   \n",
       "4911      2013.0                  470.0        7.7           NaN   \n",
       "4912         NaN                  593.0        7.5         16.00   \n",
       "4913      2013.0                    0.0        6.3           NaN   \n",
       "4914      2012.0                  719.0        6.3          2.35   \n",
       "4915      2004.0                   23.0        6.6          1.85   \n",
       "\n",
       "     movie_facebook_likes  \n",
       "0                   33000  \n",
       "1                       0  \n",
       "2                   85000  \n",
       "3                  164000  \n",
       "4                       0  \n",
       "...                   ...  \n",
       "4911                   84  \n",
       "4912                32000  \n",
       "4913                   16  \n",
       "4914                  660  \n",
       "4915                  456  \n",
       "\n",
       "[4916 rows x 28 columns]"
      ]
     },
     "execution_count": 370,
     "metadata": {},
     "output_type": "execute_result"
    }
   ],
   "source": [
    "df=pd.read_csv('https://raw.githubusercontent.com/PacktPublishing/Pandas-Cookbook/master/data/movie.csv')\n",
    "df"
   ]
  },
  {
   "cell_type": "code",
   "execution_count": 371,
   "id": "c520a8de-f963-4f76-839b-b63049fc6be5",
   "metadata": {},
   "outputs": [
    {
     "data": {
      "text/plain": [
       "28"
      ]
     },
     "execution_count": 371,
     "metadata": {},
     "output_type": "execute_result"
    }
   ],
   "source": [
    "len(df.columns)"
   ]
  },
  {
   "cell_type": "markdown",
   "id": "89aa7761-829a-48ef-8cdd-5aa6a7c3c025",
   "metadata": {},
   "source": [
    "### 7"
   ]
  },
  {
   "cell_type": "code",
   "execution_count": 373,
   "id": "5f54a47a-adb4-4ca5-ae7f-f70e0a0ee9d0",
   "metadata": {},
   "outputs": [
    {
     "data": {
      "text/plain": [
       "Index(['color', 'director_name', 'num_critic_for_reviews', 'duration',\n",
       "       'director_facebook_likes', 'actor_3_facebook_likes', 'actor_2_name',\n",
       "       'actor_1_facebook_likes', 'gross', 'genres', 'actor_1_name',\n",
       "       'movie_title', 'num_voted_users', 'cast_total_facebook_likes',\n",
       "       'actor_3_name', 'facenumber_in_poster', 'plot_keywords',\n",
       "       'movie_imdb_link', 'num_user_for_reviews', 'language', 'country',\n",
       "       'content_rating', 'budget', 'title_year', 'actor_2_facebook_likes',\n",
       "       'imdb_score', 'aspect_ratio', 'movie_facebook_likes'],\n",
       "      dtype='object')"
      ]
     },
     "execution_count": 373,
     "metadata": {},
     "output_type": "execute_result"
    }
   ],
   "source": [
    "index = df.columns\n",
    "index"
   ]
  },
  {
   "cell_type": "code",
   "execution_count": 376,
   "id": "09c70f20-c08f-49fe-bd95-1391cfe419fd",
   "metadata": {},
   "outputs": [
    {
     "data": {
      "text/plain": [
       "['color',\n",
       " 'director_name',\n",
       " 'duration',\n",
       " 'director_facebook_likes',\n",
       " 'cast_total_facebook_likes',\n",
       " 'country',\n",
       " 'content_rating']"
      ]
     },
     "execution_count": 376,
     "metadata": {},
     "output_type": "execute_result"
    }
   ],
   "source": [
    "[l for l in index if l[0]=='c' or l[0]=='d']"
   ]
  },
  {
   "cell_type": "code",
   "execution_count": 377,
   "id": "197c4b17-bd45-4123-bb75-dd72f7f73434",
   "metadata": {},
   "outputs": [
    {
     "data": {
      "text/plain": [
       "7"
      ]
     },
     "execution_count": 377,
     "metadata": {},
     "output_type": "execute_result"
    }
   ],
   "source": [
    "len([l for l in index if l[0]=='c' or l[0]=='d'])"
   ]
  },
  {
   "cell_type": "markdown",
   "id": "621acd39-ac23-4e7f-b6b8-fb8f491507b3",
   "metadata": {},
   "source": [
    "### 8"
   ]
  },
  {
   "cell_type": "code",
   "execution_count": 378,
   "id": "95ae58d0-111a-40d0-a7dc-b3c61a7f96d7",
   "metadata": {},
   "outputs": [
    {
     "data": {
      "text/plain": [
       "['actor_3_facebook_likes',\n",
       " 'actor_2_name',\n",
       " 'actor_1_facebook_likes',\n",
       " 'actor_1_name',\n",
       " 'actor_3_name',\n",
       " 'actor_2_facebook_likes']"
      ]
     },
     "execution_count": 378,
     "metadata": {},
     "output_type": "execute_result"
    }
   ],
   "source": [
    "[l for l in df.columns if 'actor' in l]"
   ]
  },
  {
   "cell_type": "code",
   "execution_count": 379,
   "id": "362ee876-0136-4550-96aa-d7df6723cf5c",
   "metadata": {},
   "outputs": [
    {
     "data": {
      "text/plain": [
       "6"
      ]
     },
     "execution_count": 379,
     "metadata": {},
     "output_type": "execute_result"
    }
   ],
   "source": [
    "len([l for l in df.columns if 'actor' in l])"
   ]
  },
  {
   "cell_type": "markdown",
   "id": "93730224-22b2-4e4f-bf8d-997d9aed37a4",
   "metadata": {},
   "source": [
    "### 9"
   ]
  },
  {
   "cell_type": "code",
   "execution_count": 380,
   "id": "701c817d-4884-4336-a05c-c4916b76b80b",
   "metadata": {},
   "outputs": [
    {
     "data": {
      "text/html": [
       "<div>\n",
       "<style scoped>\n",
       "    .dataframe tbody tr th:only-of-type {\n",
       "        vertical-align: middle;\n",
       "    }\n",
       "\n",
       "    .dataframe tbody tr th {\n",
       "        vertical-align: top;\n",
       "    }\n",
       "\n",
       "    .dataframe thead th {\n",
       "        text-align: right;\n",
       "    }\n",
       "</style>\n",
       "<table border=\"1\" class=\"dataframe\">\n",
       "  <thead>\n",
       "    <tr style=\"text-align: right;\">\n",
       "      <th></th>\n",
       "      <th>actor_3_facebook_likes</th>\n",
       "      <th>actor_2_name</th>\n",
       "      <th>actor_1_facebook_likes</th>\n",
       "      <th>actor_1_name</th>\n",
       "      <th>actor_3_name</th>\n",
       "      <th>actor_2_facebook_likes</th>\n",
       "    </tr>\n",
       "  </thead>\n",
       "  <tbody>\n",
       "    <tr>\n",
       "      <th>0</th>\n",
       "      <td>855.0</td>\n",
       "      <td>Joel David Moore</td>\n",
       "      <td>1000.0</td>\n",
       "      <td>CCH Pounder</td>\n",
       "      <td>Wes Studi</td>\n",
       "      <td>936.0</td>\n",
       "    </tr>\n",
       "    <tr>\n",
       "      <th>1</th>\n",
       "      <td>1000.0</td>\n",
       "      <td>Orlando Bloom</td>\n",
       "      <td>40000.0</td>\n",
       "      <td>Johnny Depp</td>\n",
       "      <td>Jack Davenport</td>\n",
       "      <td>5000.0</td>\n",
       "    </tr>\n",
       "    <tr>\n",
       "      <th>2</th>\n",
       "      <td>161.0</td>\n",
       "      <td>Rory Kinnear</td>\n",
       "      <td>11000.0</td>\n",
       "      <td>Christoph Waltz</td>\n",
       "      <td>Stephanie Sigman</td>\n",
       "      <td>393.0</td>\n",
       "    </tr>\n",
       "    <tr>\n",
       "      <th>3</th>\n",
       "      <td>23000.0</td>\n",
       "      <td>Christian Bale</td>\n",
       "      <td>27000.0</td>\n",
       "      <td>Tom Hardy</td>\n",
       "      <td>Joseph Gordon-Levitt</td>\n",
       "      <td>23000.0</td>\n",
       "    </tr>\n",
       "    <tr>\n",
       "      <th>4</th>\n",
       "      <td>NaN</td>\n",
       "      <td>Rob Walker</td>\n",
       "      <td>131.0</td>\n",
       "      <td>Doug Walker</td>\n",
       "      <td>NaN</td>\n",
       "      <td>12.0</td>\n",
       "    </tr>\n",
       "    <tr>\n",
       "      <th>...</th>\n",
       "      <td>...</td>\n",
       "      <td>...</td>\n",
       "      <td>...</td>\n",
       "      <td>...</td>\n",
       "      <td>...</td>\n",
       "      <td>...</td>\n",
       "    </tr>\n",
       "    <tr>\n",
       "      <th>4911</th>\n",
       "      <td>318.0</td>\n",
       "      <td>Daphne Zuniga</td>\n",
       "      <td>637.0</td>\n",
       "      <td>Eric Mabius</td>\n",
       "      <td>Crystal Lowe</td>\n",
       "      <td>470.0</td>\n",
       "    </tr>\n",
       "    <tr>\n",
       "      <th>4912</th>\n",
       "      <td>319.0</td>\n",
       "      <td>Valorie Curry</td>\n",
       "      <td>841.0</td>\n",
       "      <td>Natalie Zea</td>\n",
       "      <td>Sam Underwood</td>\n",
       "      <td>593.0</td>\n",
       "    </tr>\n",
       "    <tr>\n",
       "      <th>4913</th>\n",
       "      <td>0.0</td>\n",
       "      <td>Maxwell Moody</td>\n",
       "      <td>0.0</td>\n",
       "      <td>Eva Boehnke</td>\n",
       "      <td>David Chandler</td>\n",
       "      <td>0.0</td>\n",
       "    </tr>\n",
       "    <tr>\n",
       "      <th>4914</th>\n",
       "      <td>489.0</td>\n",
       "      <td>Daniel Henney</td>\n",
       "      <td>946.0</td>\n",
       "      <td>Alan Ruck</td>\n",
       "      <td>Eliza Coupe</td>\n",
       "      <td>719.0</td>\n",
       "    </tr>\n",
       "    <tr>\n",
       "      <th>4915</th>\n",
       "      <td>16.0</td>\n",
       "      <td>Brian Herzlinger</td>\n",
       "      <td>86.0</td>\n",
       "      <td>John August</td>\n",
       "      <td>Jon Gunn</td>\n",
       "      <td>23.0</td>\n",
       "    </tr>\n",
       "  </tbody>\n",
       "</table>\n",
       "<p>4916 rows × 6 columns</p>\n",
       "</div>"
      ],
      "text/plain": [
       "      actor_3_facebook_likes      actor_2_name  actor_1_facebook_likes  \\\n",
       "0                      855.0  Joel David Moore                  1000.0   \n",
       "1                     1000.0     Orlando Bloom                 40000.0   \n",
       "2                      161.0      Rory Kinnear                 11000.0   \n",
       "3                    23000.0    Christian Bale                 27000.0   \n",
       "4                        NaN        Rob Walker                   131.0   \n",
       "...                      ...               ...                     ...   \n",
       "4911                   318.0     Daphne Zuniga                   637.0   \n",
       "4912                   319.0     Valorie Curry                   841.0   \n",
       "4913                     0.0     Maxwell Moody                     0.0   \n",
       "4914                   489.0     Daniel Henney                   946.0   \n",
       "4915                    16.0  Brian Herzlinger                    86.0   \n",
       "\n",
       "         actor_1_name          actor_3_name  actor_2_facebook_likes  \n",
       "0         CCH Pounder             Wes Studi                   936.0  \n",
       "1         Johnny Depp        Jack Davenport                  5000.0  \n",
       "2     Christoph Waltz      Stephanie Sigman                   393.0  \n",
       "3           Tom Hardy  Joseph Gordon-Levitt                 23000.0  \n",
       "4         Doug Walker                   NaN                    12.0  \n",
       "...               ...                   ...                     ...  \n",
       "4911      Eric Mabius          Crystal Lowe                   470.0  \n",
       "4912      Natalie Zea         Sam Underwood                   593.0  \n",
       "4913      Eva Boehnke        David Chandler                     0.0  \n",
       "4914        Alan Ruck           Eliza Coupe                   719.0  \n",
       "4915      John August              Jon Gunn                    23.0  \n",
       "\n",
       "[4916 rows x 6 columns]"
      ]
     },
     "execution_count": 380,
     "metadata": {},
     "output_type": "execute_result"
    }
   ],
   "source": [
    "df.loc[:, ['actor' in l for l in df.columns]]"
   ]
  },
  {
   "cell_type": "markdown",
   "id": "794f65d5-1337-4629-938e-7af6c89d0c3f",
   "metadata": {},
   "source": [
    "# lesson 8"
   ]
  },
  {
   "cell_type": "code",
   "execution_count": 381,
   "id": "71e6a38d-66a5-43c8-8787-ea05a0fba7c8",
   "metadata": {},
   "outputs": [
    {
     "data": {
      "text/html": [
       "<div>\n",
       "<style scoped>\n",
       "    .dataframe tbody tr th:only-of-type {\n",
       "        vertical-align: middle;\n",
       "    }\n",
       "\n",
       "    .dataframe tbody tr th {\n",
       "        vertical-align: top;\n",
       "    }\n",
       "\n",
       "    .dataframe thead th {\n",
       "        text-align: right;\n",
       "    }\n",
       "</style>\n",
       "<table border=\"1\" class=\"dataframe\">\n",
       "  <thead>\n",
       "    <tr style=\"text-align: right;\">\n",
       "      <th></th>\n",
       "      <th>hours(R)</th>\n",
       "      <th>hours(Python)</th>\n",
       "    </tr>\n",
       "  </thead>\n",
       "  <tbody>\n",
       "    <tr>\n",
       "      <th>2023-04-24(Mon)</th>\n",
       "      <td>11.064829</td>\n",
       "      <td>9.254671</td>\n",
       "    </tr>\n",
       "    <tr>\n",
       "      <th>2023-04-25(Tue)</th>\n",
       "      <td>9.790750</td>\n",
       "      <td>7.327548</td>\n",
       "    </tr>\n",
       "    <tr>\n",
       "      <th>2023-04-26(Wed)</th>\n",
       "      <td>5.993362</td>\n",
       "      <td>9.185495</td>\n",
       "    </tr>\n",
       "    <tr>\n",
       "      <th>2023-04-27(Thu)</th>\n",
       "      <td>7.542498</td>\n",
       "      <td>12.525569</td>\n",
       "    </tr>\n",
       "    <tr>\n",
       "      <th>2023-04-28(Fri)</th>\n",
       "      <td>8.598600</td>\n",
       "      <td>10.906909</td>\n",
       "    </tr>\n",
       "    <tr>\n",
       "      <th>2023-05-01(Mon)</th>\n",
       "      <td>6.933549</td>\n",
       "      <td>9.865538</td>\n",
       "    </tr>\n",
       "    <tr>\n",
       "      <th>2023-05-02(Tue)</th>\n",
       "      <td>6.456987</td>\n",
       "      <td>11.081043</td>\n",
       "    </tr>\n",
       "    <tr>\n",
       "      <th>2023-05-03(Wed)</th>\n",
       "      <td>4.976548</td>\n",
       "      <td>10.240239</td>\n",
       "    </tr>\n",
       "    <tr>\n",
       "      <th>2023-05-04(Thu)</th>\n",
       "      <td>6.021139</td>\n",
       "      <td>5.822405</td>\n",
       "    </tr>\n",
       "    <tr>\n",
       "      <th>2023-05-05(Fri)</th>\n",
       "      <td>1.851839</td>\n",
       "      <td>5.522484</td>\n",
       "    </tr>\n",
       "    <tr>\n",
       "      <th>2023-05-08(Mon)</th>\n",
       "      <td>1.000000</td>\n",
       "      <td>4.319094</td>\n",
       "    </tr>\n",
       "    <tr>\n",
       "      <th>2023-05-09(Tue)</th>\n",
       "      <td>1.350073</td>\n",
       "      <td>1.000000</td>\n",
       "    </tr>\n",
       "    <tr>\n",
       "      <th>2023-05-10(Wed)</th>\n",
       "      <td>3.138700</td>\n",
       "      <td>2.633662</td>\n",
       "    </tr>\n",
       "    <tr>\n",
       "      <th>2023-05-11(Thu)</th>\n",
       "      <td>3.153756</td>\n",
       "      <td>4.870860</td>\n",
       "    </tr>\n",
       "    <tr>\n",
       "      <th>2023-05-12(Fri)</th>\n",
       "      <td>1.353976</td>\n",
       "      <td>1.785441</td>\n",
       "    </tr>\n",
       "  </tbody>\n",
       "</table>\n",
       "</div>"
      ],
      "text/plain": [
       "                  hours(R)  hours(Python)\n",
       "2023-04-24(Mon)  11.064829       9.254671\n",
       "2023-04-25(Tue)   9.790750       7.327548\n",
       "2023-04-26(Wed)   5.993362       9.185495\n",
       "2023-04-27(Thu)   7.542498      12.525569\n",
       "2023-04-28(Fri)   8.598600      10.906909\n",
       "2023-05-01(Mon)   6.933549       9.865538\n",
       "2023-05-02(Tue)   6.456987      11.081043\n",
       "2023-05-03(Wed)   4.976548      10.240239\n",
       "2023-05-04(Thu)   6.021139       5.822405\n",
       "2023-05-05(Fri)   1.851839       5.522484\n",
       "2023-05-08(Mon)   1.000000       4.319094\n",
       "2023-05-09(Tue)   1.350073       1.000000\n",
       "2023-05-10(Wed)   3.138700       2.633662\n",
       "2023-05-11(Thu)   3.153756       4.870860\n",
       "2023-05-12(Fri)   1.353976       1.785441"
      ]
     },
     "execution_count": 381,
     "metadata": {},
     "output_type": "execute_result"
    }
   ],
   "source": [
    "np.random.seed(20230426)\n",
    "day = ['2023-04-24(Mon)','2023-04-25(Tue)','2023-04-26(Wed)','2023-04-27(Thu)','2023-04-28(Fri)',\n",
    "       '2023-05-01(Mon)','2023-05-02(Tue)','2023-05-03(Wed)','2023-05-04(Thu)','2023-05-05(Fri)',\n",
    "       '2023-05-08(Mon)','2023-05-09(Tue)','2023-05-10(Wed)','2023-05-11(Thu)','2023-05-12(Fri)']\n",
    "hours1 = np.random.randn(15).cumsum()*2\n",
    "hours1 = hours1 - hours1.min() +1\n",
    "hours2 = np.random.randn(15).cumsum()*2\n",
    "hours2 = hours2 - hours2.min() +1\n",
    "\n",
    "df = pd.DataFrame({'hours(R)':hours1, 'hours(Python)':hours2},index=day)\n",
    "df"
   ]
  },
  {
   "cell_type": "markdown",
   "id": "44f212ed-04fc-4c8f-be27-8b9e4dcda3de",
   "metadata": {},
   "source": [
    "### 1"
   ]
  },
  {
   "cell_type": "code",
   "execution_count": 384,
   "id": "aa56c703-b651-4bb2-9016-439abdafe678",
   "metadata": {},
   "outputs": [],
   "source": [
    "index = [l.replace(')','').split('(') for l in df.index]"
   ]
  },
  {
   "cell_type": "code",
   "execution_count": 385,
   "id": "8c8cb2de-faf8-4fe7-91bf-3cadb080a2a1",
   "metadata": {},
   "outputs": [
    {
     "data": {
      "text/plain": [
       "[['2023-04-24', 'Mon'],\n",
       " ['2023-04-25', 'Tue'],\n",
       " ['2023-04-26', 'Wed'],\n",
       " ['2023-04-27', 'Thu'],\n",
       " ['2023-04-28', 'Fri'],\n",
       " ['2023-05-01', 'Mon'],\n",
       " ['2023-05-02', 'Tue'],\n",
       " ['2023-05-03', 'Wed'],\n",
       " ['2023-05-04', 'Thu'],\n",
       " ['2023-05-05', 'Fri'],\n",
       " ['2023-05-08', 'Mon'],\n",
       " ['2023-05-09', 'Tue'],\n",
       " ['2023-05-10', 'Wed'],\n",
       " ['2023-05-11', 'Thu'],\n",
       " ['2023-05-12', 'Fri']]"
      ]
     },
     "execution_count": 385,
     "metadata": {},
     "output_type": "execute_result"
    }
   ],
   "source": [
    "index"
   ]
  },
  {
   "cell_type": "code",
   "execution_count": 387,
   "id": "8a9ea570-e0f3-4210-9b7b-1966859c3246",
   "metadata": {},
   "outputs": [
    {
     "data": {
      "text/html": [
       "<div>\n",
       "<style scoped>\n",
       "    .dataframe tbody tr th:only-of-type {\n",
       "        vertical-align: middle;\n",
       "    }\n",
       "\n",
       "    .dataframe tbody tr th {\n",
       "        vertical-align: top;\n",
       "    }\n",
       "\n",
       "    .dataframe thead th {\n",
       "        text-align: right;\n",
       "    }\n",
       "</style>\n",
       "<table border=\"1\" class=\"dataframe\">\n",
       "  <thead>\n",
       "    <tr style=\"text-align: right;\">\n",
       "      <th></th>\n",
       "      <th>hours(R)</th>\n",
       "      <th>hours(Python)</th>\n",
       "      <th>day</th>\n",
       "      <th>weekday</th>\n",
       "    </tr>\n",
       "  </thead>\n",
       "  <tbody>\n",
       "    <tr>\n",
       "      <th>2023-04-24(Mon)</th>\n",
       "      <td>11.064829</td>\n",
       "      <td>9.254671</td>\n",
       "      <td>2023-04-24</td>\n",
       "      <td>Mon</td>\n",
       "    </tr>\n",
       "    <tr>\n",
       "      <th>2023-04-25(Tue)</th>\n",
       "      <td>9.790750</td>\n",
       "      <td>7.327548</td>\n",
       "      <td>2023-04-25</td>\n",
       "      <td>Tue</td>\n",
       "    </tr>\n",
       "    <tr>\n",
       "      <th>2023-04-26(Wed)</th>\n",
       "      <td>5.993362</td>\n",
       "      <td>9.185495</td>\n",
       "      <td>2023-04-26</td>\n",
       "      <td>Wed</td>\n",
       "    </tr>\n",
       "    <tr>\n",
       "      <th>2023-04-27(Thu)</th>\n",
       "      <td>7.542498</td>\n",
       "      <td>12.525569</td>\n",
       "      <td>2023-04-27</td>\n",
       "      <td>Thu</td>\n",
       "    </tr>\n",
       "    <tr>\n",
       "      <th>2023-04-28(Fri)</th>\n",
       "      <td>8.598600</td>\n",
       "      <td>10.906909</td>\n",
       "      <td>2023-04-28</td>\n",
       "      <td>Fri</td>\n",
       "    </tr>\n",
       "    <tr>\n",
       "      <th>2023-05-01(Mon)</th>\n",
       "      <td>6.933549</td>\n",
       "      <td>9.865538</td>\n",
       "      <td>2023-05-01</td>\n",
       "      <td>Mon</td>\n",
       "    </tr>\n",
       "    <tr>\n",
       "      <th>2023-05-02(Tue)</th>\n",
       "      <td>6.456987</td>\n",
       "      <td>11.081043</td>\n",
       "      <td>2023-05-02</td>\n",
       "      <td>Tue</td>\n",
       "    </tr>\n",
       "    <tr>\n",
       "      <th>2023-05-03(Wed)</th>\n",
       "      <td>4.976548</td>\n",
       "      <td>10.240239</td>\n",
       "      <td>2023-05-03</td>\n",
       "      <td>Wed</td>\n",
       "    </tr>\n",
       "    <tr>\n",
       "      <th>2023-05-04(Thu)</th>\n",
       "      <td>6.021139</td>\n",
       "      <td>5.822405</td>\n",
       "      <td>2023-05-04</td>\n",
       "      <td>Thu</td>\n",
       "    </tr>\n",
       "    <tr>\n",
       "      <th>2023-05-05(Fri)</th>\n",
       "      <td>1.851839</td>\n",
       "      <td>5.522484</td>\n",
       "      <td>2023-05-05</td>\n",
       "      <td>Fri</td>\n",
       "    </tr>\n",
       "    <tr>\n",
       "      <th>2023-05-08(Mon)</th>\n",
       "      <td>1.000000</td>\n",
       "      <td>4.319094</td>\n",
       "      <td>2023-05-08</td>\n",
       "      <td>Mon</td>\n",
       "    </tr>\n",
       "    <tr>\n",
       "      <th>2023-05-09(Tue)</th>\n",
       "      <td>1.350073</td>\n",
       "      <td>1.000000</td>\n",
       "      <td>2023-05-09</td>\n",
       "      <td>Tue</td>\n",
       "    </tr>\n",
       "    <tr>\n",
       "      <th>2023-05-10(Wed)</th>\n",
       "      <td>3.138700</td>\n",
       "      <td>2.633662</td>\n",
       "      <td>2023-05-10</td>\n",
       "      <td>Wed</td>\n",
       "    </tr>\n",
       "    <tr>\n",
       "      <th>2023-05-11(Thu)</th>\n",
       "      <td>3.153756</td>\n",
       "      <td>4.870860</td>\n",
       "      <td>2023-05-11</td>\n",
       "      <td>Thu</td>\n",
       "    </tr>\n",
       "    <tr>\n",
       "      <th>2023-05-12(Fri)</th>\n",
       "      <td>1.353976</td>\n",
       "      <td>1.785441</td>\n",
       "      <td>2023-05-12</td>\n",
       "      <td>Fri</td>\n",
       "    </tr>\n",
       "  </tbody>\n",
       "</table>\n",
       "</div>"
      ],
      "text/plain": [
       "                  hours(R)  hours(Python)         day weekday\n",
       "2023-04-24(Mon)  11.064829       9.254671  2023-04-24     Mon\n",
       "2023-04-25(Tue)   9.790750       7.327548  2023-04-25     Tue\n",
       "2023-04-26(Wed)   5.993362       9.185495  2023-04-26     Wed\n",
       "2023-04-27(Thu)   7.542498      12.525569  2023-04-27     Thu\n",
       "2023-04-28(Fri)   8.598600      10.906909  2023-04-28     Fri\n",
       "2023-05-01(Mon)   6.933549       9.865538  2023-05-01     Mon\n",
       "2023-05-02(Tue)   6.456987      11.081043  2023-05-02     Tue\n",
       "2023-05-03(Wed)   4.976548      10.240239  2023-05-03     Wed\n",
       "2023-05-04(Thu)   6.021139       5.822405  2023-05-04     Thu\n",
       "2023-05-05(Fri)   1.851839       5.522484  2023-05-05     Fri\n",
       "2023-05-08(Mon)   1.000000       4.319094  2023-05-08     Mon\n",
       "2023-05-09(Tue)   1.350073       1.000000  2023-05-09     Tue\n",
       "2023-05-10(Wed)   3.138700       2.633662  2023-05-10     Wed\n",
       "2023-05-11(Thu)   3.153756       4.870860  2023-05-11     Thu\n",
       "2023-05-12(Fri)   1.353976       1.785441  2023-05-12     Fri"
      ]
     },
     "execution_count": 387,
     "metadata": {},
     "output_type": "execute_result"
    }
   ],
   "source": [
    "df.assign(day = [day for day, _ in index], weekday = [weekday for _, weekday in index])\n"
   ]
  },
  {
   "cell_type": "code",
   "execution_count": 391,
   "id": "7e37b664-6a10-4ba6-88bf-439bcb38a6b5",
   "metadata": {},
   "outputs": [
    {
     "data": {
      "text/html": [
       "<div>\n",
       "<style scoped>\n",
       "    .dataframe tbody tr th:only-of-type {\n",
       "        vertical-align: middle;\n",
       "    }\n",
       "\n",
       "    .dataframe tbody tr th {\n",
       "        vertical-align: top;\n",
       "    }\n",
       "\n",
       "    .dataframe thead th {\n",
       "        text-align: right;\n",
       "    }\n",
       "</style>\n",
       "<table border=\"1\" class=\"dataframe\">\n",
       "  <thead>\n",
       "    <tr style=\"text-align: right;\">\n",
       "      <th></th>\n",
       "      <th>hours(R)</th>\n",
       "      <th>hours(Python)</th>\n",
       "      <th>day</th>\n",
       "      <th>weekday</th>\n",
       "    </tr>\n",
       "  </thead>\n",
       "  <tbody>\n",
       "    <tr>\n",
       "      <th>0</th>\n",
       "      <td>11.064829</td>\n",
       "      <td>9.254671</td>\n",
       "      <td>2023-04-24</td>\n",
       "      <td>Mon</td>\n",
       "    </tr>\n",
       "    <tr>\n",
       "      <th>1</th>\n",
       "      <td>9.790750</td>\n",
       "      <td>7.327548</td>\n",
       "      <td>2023-04-25</td>\n",
       "      <td>Tue</td>\n",
       "    </tr>\n",
       "    <tr>\n",
       "      <th>2</th>\n",
       "      <td>5.993362</td>\n",
       "      <td>9.185495</td>\n",
       "      <td>2023-04-26</td>\n",
       "      <td>Wed</td>\n",
       "    </tr>\n",
       "    <tr>\n",
       "      <th>3</th>\n",
       "      <td>7.542498</td>\n",
       "      <td>12.525569</td>\n",
       "      <td>2023-04-27</td>\n",
       "      <td>Thu</td>\n",
       "    </tr>\n",
       "    <tr>\n",
       "      <th>4</th>\n",
       "      <td>8.598600</td>\n",
       "      <td>10.906909</td>\n",
       "      <td>2023-04-28</td>\n",
       "      <td>Fri</td>\n",
       "    </tr>\n",
       "    <tr>\n",
       "      <th>5</th>\n",
       "      <td>6.933549</td>\n",
       "      <td>9.865538</td>\n",
       "      <td>2023-05-01</td>\n",
       "      <td>Mon</td>\n",
       "    </tr>\n",
       "    <tr>\n",
       "      <th>6</th>\n",
       "      <td>6.456987</td>\n",
       "      <td>11.081043</td>\n",
       "      <td>2023-05-02</td>\n",
       "      <td>Tue</td>\n",
       "    </tr>\n",
       "    <tr>\n",
       "      <th>7</th>\n",
       "      <td>4.976548</td>\n",
       "      <td>10.240239</td>\n",
       "      <td>2023-05-03</td>\n",
       "      <td>Wed</td>\n",
       "    </tr>\n",
       "    <tr>\n",
       "      <th>8</th>\n",
       "      <td>6.021139</td>\n",
       "      <td>5.822405</td>\n",
       "      <td>2023-05-04</td>\n",
       "      <td>Thu</td>\n",
       "    </tr>\n",
       "    <tr>\n",
       "      <th>9</th>\n",
       "      <td>1.851839</td>\n",
       "      <td>5.522484</td>\n",
       "      <td>2023-05-05</td>\n",
       "      <td>Fri</td>\n",
       "    </tr>\n",
       "    <tr>\n",
       "      <th>10</th>\n",
       "      <td>1.000000</td>\n",
       "      <td>4.319094</td>\n",
       "      <td>2023-05-08</td>\n",
       "      <td>Mon</td>\n",
       "    </tr>\n",
       "    <tr>\n",
       "      <th>11</th>\n",
       "      <td>1.350073</td>\n",
       "      <td>1.000000</td>\n",
       "      <td>2023-05-09</td>\n",
       "      <td>Tue</td>\n",
       "    </tr>\n",
       "    <tr>\n",
       "      <th>12</th>\n",
       "      <td>3.138700</td>\n",
       "      <td>2.633662</td>\n",
       "      <td>2023-05-10</td>\n",
       "      <td>Wed</td>\n",
       "    </tr>\n",
       "    <tr>\n",
       "      <th>13</th>\n",
       "      <td>3.153756</td>\n",
       "      <td>4.870860</td>\n",
       "      <td>2023-05-11</td>\n",
       "      <td>Thu</td>\n",
       "    </tr>\n",
       "    <tr>\n",
       "      <th>14</th>\n",
       "      <td>1.353976</td>\n",
       "      <td>1.785441</td>\n",
       "      <td>2023-05-12</td>\n",
       "      <td>Fri</td>\n",
       "    </tr>\n",
       "  </tbody>\n",
       "</table>\n",
       "</div>"
      ],
      "text/plain": [
       "     hours(R)  hours(Python)         day weekday\n",
       "0   11.064829       9.254671  2023-04-24     Mon\n",
       "1    9.790750       7.327548  2023-04-25     Tue\n",
       "2    5.993362       9.185495  2023-04-26     Wed\n",
       "3    7.542498      12.525569  2023-04-27     Thu\n",
       "4    8.598600      10.906909  2023-04-28     Fri\n",
       "5    6.933549       9.865538  2023-05-01     Mon\n",
       "6    6.456987      11.081043  2023-05-02     Tue\n",
       "7    4.976548      10.240239  2023-05-03     Wed\n",
       "8    6.021139       5.822405  2023-05-04     Thu\n",
       "9    1.851839       5.522484  2023-05-05     Fri\n",
       "10   1.000000       4.319094  2023-05-08     Mon\n",
       "11   1.350073       1.000000  2023-05-09     Tue\n",
       "12   3.138700       2.633662  2023-05-10     Wed\n",
       "13   3.153756       4.870860  2023-05-11     Thu\n",
       "14   1.353976       1.785441  2023-05-12     Fri"
      ]
     },
     "execution_count": 391,
     "metadata": {},
     "output_type": "execute_result"
    }
   ],
   "source": [
    "df = df.assign(day = [day for day, _ in index], weekday = [weekday for _, weekday in index]).reset_index().loc[:,'hours(R)':]\n",
    "df"
   ]
  },
  {
   "cell_type": "markdown",
   "id": "46e447ae-e4b6-4ec8-adee-c5f8541d9869",
   "metadata": {},
   "source": [
    "### 2"
   ]
  },
  {
   "cell_type": "code",
   "execution_count": 395,
   "id": "e966b6ce-cf9a-4cec-b81a-7ad91886ed76",
   "metadata": {},
   "outputs": [
    {
     "data": {
      "text/plain": [
       "42.99003889835529"
      ]
     },
     "execution_count": 395,
     "metadata": {},
     "output_type": "execute_result"
    }
   ],
   "source": [
    "df.query('day < \"2023-05-01\"')['hours(R)'].sum()"
   ]
  },
  {
   "cell_type": "code",
   "execution_count": 396,
   "id": "af140c90-4d9a-4e93-9a9b-73d938a08f79",
   "metadata": {},
   "outputs": [
    {
     "data": {
      "text/plain": [
       "49.20019054928582"
      ]
     },
     "execution_count": 396,
     "metadata": {},
     "output_type": "execute_result"
    }
   ],
   "source": [
    "df.query('day < \"2023-05-01\"')['hours(Python)'].sum()"
   ]
  },
  {
   "cell_type": "markdown",
   "id": "c833abf6-1c9f-41ae-9086-374866dbf923",
   "metadata": {},
   "source": [
    "- python"
   ]
  },
  {
   "cell_type": "markdown",
   "id": "d7af3532-8461-4a05-999b-afd6783aed50",
   "metadata": {},
   "source": [
    "### 3"
   ]
  },
  {
   "cell_type": "code",
   "execution_count": 397,
   "id": "a3343294-72eb-447f-a9b9-7de3716806d7",
   "metadata": {},
   "outputs": [
    {
     "data": {
      "text/plain": [
       "{'Thu': 16.717393020928853,\n",
       " 'Mon': 18.99837797631909,\n",
       " 'Wed': 14.10860912003022,\n",
       " 'Fri': 11.804415159359687,\n",
       " 'Tue': 17.597810683605076}"
      ]
     },
     "execution_count": 397,
     "metadata": {},
     "output_type": "execute_result"
    }
   ],
   "source": [
    "{s:df.loc[df.weekday == s, 'hours(R)'].sum() for s in set(df.weekday)}"
   ]
  },
  {
   "cell_type": "markdown",
   "id": "5052e73d-5904-4810-853a-2c3739cb9f31",
   "metadata": {},
   "source": [
    "### 4"
   ]
  },
  {
   "cell_type": "code",
   "execution_count": 401,
   "id": "a12bef38-9910-4b8b-9bdc-2f5f457fafb3",
   "metadata": {},
   "outputs": [
    {
     "data": {
      "text/plain": [
       "{'Thu': 16.717393020928853,\n",
       " 'Mon': 18.99837797631909,\n",
       " 'Wed': 14.10860912003022,\n",
       " 'Fri': 11.804415159359687,\n",
       " 'Tue': 17.597810683605076}"
      ]
     },
     "execution_count": 401,
     "metadata": {},
     "output_type": "execute_result"
    }
   ],
   "source": [
    "{s:df.loc[df.weekday == s, 'hours(R)'].sum() for s in set(df.weekday)}"
   ]
  },
  {
   "cell_type": "code",
   "execution_count": 400,
   "id": "f5c53f0f-919c-4007-a9ec-7fb2ca7d913c",
   "metadata": {},
   "outputs": [
    {
     "data": {
      "text/plain": [
       "{'Thu': 23.21883427607518,\n",
       " 'Mon': 23.43930191418699,\n",
       " 'Wed': 22.05939511920843,\n",
       " 'Fri': 18.214832977059253,\n",
       " 'Tue': 19.408591083196185}"
      ]
     },
     "execution_count": 400,
     "metadata": {},
     "output_type": "execute_result"
    }
   ],
   "source": [
    "{s:df.loc[df.weekday == s, 'hours(Python)'].sum() for s in set(df.weekday)}"
   ]
  },
  {
   "cell_type": "code",
   "execution_count": null,
   "id": "e718fd08-8562-436a-a585-4a99e8c4d07a",
   "metadata": {},
   "outputs": [],
   "source": []
  },
  {
   "cell_type": "code",
   "execution_count": 402,
   "id": "6a8cf4c5-0892-4d15-8ae5-695c61c118bd",
   "metadata": {},
   "outputs": [
    {
     "data": {
      "text/plain": [
       "{'Thu': 39.93622729700404,\n",
       " 'Mon': 42.43767989050608,\n",
       " 'Wed': 36.16800423923865,\n",
       " 'Fri': 30.019248136418938,\n",
       " 'Tue': 37.00640176680126}"
      ]
     },
     "execution_count": 402,
     "metadata": {},
     "output_type": "execute_result"
    }
   ],
   "source": [
    "{s:df.loc[df.weekday == s,'hours(R)',].sum()+df.loc[df.weekday == s,'hours(Python)'].sum() for s in set(df.weekday)}"
   ]
  },
  {
   "cell_type": "markdown",
   "id": "7ae0a914-e6a0-4d98-bd32-2037615d4118",
   "metadata": {},
   "source": [
    "### 5"
   ]
  },
  {
   "cell_type": "code",
   "execution_count": 410,
   "id": "1b2f90bb-f055-4849-9230-5182d0c43118",
   "metadata": {},
   "outputs": [],
   "source": [
    "import matplotlib.pyplot as plt"
   ]
  },
  {
   "cell_type": "code",
   "execution_count": 411,
   "id": "8250c352-6e1b-4cf2-a303-eb7edb6af00f",
   "metadata": {},
   "outputs": [
    {
     "data": {
      "text/plain": [
       "[<matplotlib.lines.Line2D at 0x7f762fd95580>]"
      ]
     },
     "execution_count": 411,
     "metadata": {},
     "output_type": "execute_result"
    },
    {
     "data": {
      "image/png": "[encoded data removed]",
      "text/plain": [
       "<Figure size 640x480 with 1 Axes>"
      ]
     },
     "metadata": {},
     "output_type": "display_data"
    }
   ],
   "source": [
    "y = df['hours(R)'] - df['hours(Python)']\n",
    "plt.plot(y,'--o')"
   ]
  },
  {
   "cell_type": "code",
   "execution_count": null,
   "id": "b5a9bfad-e2bc-439c-af6d-278c961ccd54",
   "metadata": {},
   "outputs": [],
   "source": []
  }
 ],
 "metadata": {
  "kernelspec": {
   "display_name": "Python 3 (ipykernel)",
   "language": "python",
   "name": "python3"
  },
  "language_info": {
   "codemirror_mode": {
    "name": "ipython",
    "version": 3
   },
   "file_extension": ".py",
   "mimetype": "text/x-python",
   "name": "python",
   "nbconvert_exporter": "python",
   "pygments_lexer": "ipython3",
   "version": "3.8.16"
  }
 },
 "nbformat": 4,
 "nbformat_minor": 5
}
