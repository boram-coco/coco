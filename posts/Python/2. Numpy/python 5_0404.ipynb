{
 "cells": [
  {
   "cell_type": "raw",
   "id": "1b134910-1b7f-4202-a94e-3f0f543eec15",
   "metadata": {},
   "source": [
    "---\n",
    "title: \"파이썬 (0404) 5주차 \"\n",
    "author: \"김보람\"\n",
    "date: \"04/04/2022\"\n",
    "categories:\n",
    "  - 소스코드 관리\n",
    "  - 모듈\n",
    "  - 패키지\n",
    "  - 라이브러리\n",
    "---"
   ]
  },
  {
   "cell_type": "markdown",
   "id": "4aa6db7a",
   "metadata": {},
   "source": [
    "\n",
    "# 소스코드 관리(모듈, 패키지, 라이브러리)"
   ]
  },
  {
   "cell_type": "markdown",
   "id": "f160b990",
   "metadata": {},
   "source": [
    "**intro**"
   ]
  },
  {
   "cell_type": "markdown",
   "id": "69e18452",
   "metadata": {},
   "source": [
    "`-` 현재 파이썬은 길이가 2인 벡터의 덧셈을 지원하지 않음"
   ]
  },
  {
   "cell_type": "code",
   "execution_count": 1,
   "id": "51bf989b",
   "metadata": {},
   "outputs": [
    {
     "data": {
      "text/plain": [
       "[1, 2, 3, 4]"
      ]
     },
     "execution_count": 1,
     "metadata": {},
     "output_type": "execute_result"
    }
   ],
   "source": [
    "a=[1,2]\n",
    "b=[3,4]\n",
    "a+b"
   ]
  },
  {
   "cell_type": "markdown",
   "id": "d9c0f0bb",
   "metadata": {},
   "source": [
    "`-` 아래와 같은 기능을 구현하는 함수를 만들고 싶음"
   ]
  },
  {
   "cell_type": "markdown",
   "id": "8e4377c5",
   "metadata": {},
   "source": [
    "[1,2],[3,4] -> [4,6]"
   ]
  },
  {
   "cell_type": "markdown",
   "id": "6af30a83",
   "metadata": {},
   "source": [
    "`-` 구현"
   ]
  },
  {
   "cell_type": "code",
   "execution_count": 2,
   "id": "2c514e6f",
   "metadata": {},
   "outputs": [],
   "source": [
    "def vec2_add(a,b):\n",
    "    return [a[0]+b[0], a[1]+b[1]]"
   ]
  },
  {
   "cell_type": "markdown",
   "id": "e3a5520a",
   "metadata": {},
   "source": [
    "`-` test"
   ]
  },
  {
   "cell_type": "code",
   "execution_count": 3,
   "id": "1c0c2993",
   "metadata": {},
   "outputs": [],
   "source": [
    "a=[1,2]\n",
    "b=[3,4]"
   ]
  },
  {
   "cell_type": "code",
   "execution_count": 4,
   "id": "964441b6",
   "metadata": {},
   "outputs": [
    {
     "data": {
      "text/plain": [
       "[4, 6]"
      ]
     },
     "execution_count": 4,
     "metadata": {},
     "output_type": "execute_result"
    }
   ],
   "source": [
    "vec2_add(a,b)"
   ]
  },
  {
   "cell_type": "markdown",
   "id": "2155ec47",
   "metadata": {},
   "source": [
    " make `myfuns.py`"
   ]
  },
  {
   "cell_type": "markdown",
   "id": "98b85a45",
   "metadata": {},
   "source": [
    "`-` 생각해보니까 vec2_add는 내가 앞으로 자주 쓸 기능임"
   ]
  },
  {
   "cell_type": "markdown",
   "id": "4ab0baea",
   "metadata": {},
   "source": [
    "`-` 그런데 현재 사용방법으로는 내가 노트북파일을 새로 만들때마다 `def vec2_add(a,b):`와 같은 함수를 매번 정의해줘야 하는 불편함이 있다."
   ]
  },
  {
   "cell_type": "markdown",
   "id": "5aae91c3",
   "metadata": {},
   "source": [
    " 해결1"
   ]
  },
  {
   "cell_type": "markdown",
   "id": "ee429979",
   "metadata": {
    "tags": []
   },
   "source": [
    "`-` 자주 사용하는 함수를 `myfuns.py`에 저장한다. (4주차 수업)\n",
    "```python\n",
    "# myfuns.py\n",
    "def vec2_add(a,b):\n",
    "    return [a[0]+b[0], a[1]+b[1]]\n",
    "```"
   ]
  },
  {
   "cell_type": "markdown",
   "id": "8a6a81d3-5bda-4fad-9125-be15c43f8843",
   "metadata": {},
   "source": [
    "%run myfuns를 실행\n",
    "\n",
    "준비:\"00\" -> 커널재시작"
   ]
  },
  {
   "cell_type": "code",
   "execution_count": 3,
   "id": "fa7ffdb1-878a-4625-bfc0-15c06480c2ca",
   "metadata": {},
   "outputs": [],
   "source": [
    "# "
   ]
  },
  {
   "cell_type": "code",
   "execution_count": 1,
   "id": "7fc97c4a",
   "metadata": {},
   "outputs": [],
   "source": [
    "%run myfuns"
   ]
  },
  {
   "cell_type": "code",
   "execution_count": 2,
   "id": "41e8060b-fda0-4e03-a804-6834d4c252ca",
   "metadata": {},
   "outputs": [
    {
     "data": {
      "text/plain": [
       "[4, 6]"
      ]
     },
     "execution_count": 2,
     "metadata": {},
     "output_type": "execute_result"
    }
   ],
   "source": [
    "vec2_add([1,2],[3,4])"
   ]
  },
  {
   "cell_type": "markdown",
   "id": "832617dd",
   "metadata": {},
   "source": [
    "해결 2"
   ]
  },
  {
   "cell_type": "markdown",
   "id": "98c34d05-87f3-4219-9d35-81d50726e88f",
   "metadata": {},
   "source": [
    "`-` 자주 사용하는 함수를 `myfuns.py`에 저장한다. (4주차 수업)\n",
    "```python\n",
    "# myfuns.py\n",
    "def vec2_add(a,b):\n",
    "    return [a[0]+b[0], a[1]+b[1]]\n",
    "```"
   ]
  },
  {
   "cell_type": "markdown",
   "id": "b1fc62a3",
   "metadata": {},
   "source": [
    "`-` import myfuns를 이용"
   ]
  },
  {
   "cell_type": "markdown",
   "id": "f262ff18",
   "metadata": {},
   "source": [
    "(준비) \"00\" -> 커널 재시작"
   ]
  },
  {
   "cell_type": "code",
   "execution_count": 1,
   "id": "38539fa9",
   "metadata": {},
   "outputs": [],
   "source": [
    "import myfuns"
   ]
  },
  {
   "cell_type": "code",
   "execution_count": 2,
   "id": "a79bc932",
   "metadata": {},
   "outputs": [
    {
     "data": {
      "text/plain": [
       "[4, 6]"
      ]
     },
     "execution_count": 2,
     "metadata": {},
     "output_type": "execute_result"
    }
   ],
   "source": [
    "a=[1,2]\n",
    "b=[3,4]\n",
    "myfuns.vec2_add(a,b)"
   ]
  },
  {
   "cell_type": "markdown",
   "id": "e67e6fa0-4f5e-4839-9c33-4afd56611b84",
   "metadata": {},
   "source": [
    "### import 기본"
   ]
  },
  {
   "cell_type": "markdown",
   "id": "515e01c7-80dd-4b45-bcd2-3e6e99b5e9eb",
   "metadata": {},
   "source": [
    "`-`사용방법1"
   ]
  },
  {
   "cell_type": "markdown",
   "id": "1d325f2f-d9f5-4edb-b340-8acd8d727fe4",
   "metadata": {},
   "source": [
    "준비: \"00\" -> 커널재시작"
   ]
  },
  {
   "cell_type": "code",
   "execution_count": 1,
   "id": "6b3a082c-ea71-4585-ab27-8ffb289e6d9e",
   "metadata": {},
   "outputs": [],
   "source": [
    "import myfuns"
   ]
  },
  {
   "cell_type": "code",
   "execution_count": 2,
   "id": "3d5b7863-0e85-420c-9a00-dc0d5e95d32c",
   "metadata": {},
   "outputs": [
    {
     "data": {
      "text/plain": [
       "[4, 6]"
      ]
     },
     "execution_count": 2,
     "metadata": {},
     "output_type": "execute_result"
    }
   ],
   "source": [
    "myfuns.vec2_add([1,2],[3,4])"
   ]
  },
  {
   "cell_type": "markdown",
   "id": "d148ad94-60e4-43e5-a120-c88d8f9c3f30",
   "metadata": {},
   "source": [
    "- myfuns.vec2_add의 의미: myfuns.py라는 파일안에 vec2_add라는 함수가 있음. 그것을 실행하라.\n",
    "- `.`의 의미: `상위, 하위`의 개념!"
   ]
  },
  {
   "cell_type": "markdown",
   "id": "3508984a-9ad6-4804-b37b-5b83addf1504",
   "metadata": {},
   "source": [
    "(주의) 아래와 같이 사용 불가능 하다."
   ]
  },
  {
   "cell_type": "code",
   "execution_count": 4,
   "id": "6c43acd3-128a-4156-8ddb-21d574d41117",
   "metadata": {},
   "outputs": [
    {
     "ename": "NameError",
     "evalue": "name 'vec2_add' is not defined",
     "output_type": "error",
     "traceback": [
      "\u001b[1;31m---------------------------------------------------------------------------\u001b[0m",
      "\u001b[1;31mNameError\u001b[0m                                 Traceback (most recent call last)",
      "Cell \u001b[1;32mIn[4], line 1\u001b[0m\n\u001b[1;32m----> 1\u001b[0m \u001b[43mvec2_add\u001b[49m([\u001b[38;5;241m1\u001b[39m,\u001b[38;5;241m2\u001b[39m],[\u001b[38;5;241m3\u001b[39m,\u001b[38;5;241m4\u001b[39m])\n",
      "\u001b[1;31mNameError\u001b[0m: name 'vec2_add' is not defined"
     ]
    }
   ],
   "source": [
    "vec2_add([1,2],[3,4])  #myfuns가 import가 된거지 vec2Add가 import가 된 것이 아님."
   ]
  },
  {
   "cell_type": "markdown",
   "id": "735ec64f-cf6a-4c0f-91b0-208c6d51abbf",
   "metadata": {},
   "source": [
    "\n",
    "`-` 사용방법2\n",
    "\n",
    "\n",
    "\n",
    "준비: \"00\" -> 커널재시작\n",
    "\n",
    "\n"
   ]
  },
  {
   "cell_type": "code",
   "execution_count": 1,
   "id": "5af286d9-805d-4467-bbe2-45c439592f0d",
   "metadata": {},
   "outputs": [],
   "source": [
    "from myfuns import vec2_add"
   ]
  },
  {
   "cell_type": "code",
   "execution_count": 2,
   "id": "4584a083-3c7c-47b1-99bc-6dba31e34b1e",
   "metadata": {},
   "outputs": [
    {
     "data": {
      "text/plain": [
       "[4, 6]"
      ]
     },
     "execution_count": 2,
     "metadata": {},
     "output_type": "execute_result"
    }
   ],
   "source": [
    "vec2_add([1,2],[3,4])"
   ]
  },
  {
   "cell_type": "code",
   "execution_count": 4,
   "id": "637f9c38-08ec-4172-b80f-c024021758d4",
   "metadata": {},
   "outputs": [
    {
     "ename": "NameError",
     "evalue": "name 'myfuns' is not defined",
     "output_type": "error",
     "traceback": [
      "\u001b[1;31m---------------------------------------------------------------------------\u001b[0m",
      "\u001b[1;31mNameError\u001b[0m                                 Traceback (most recent call last)",
      "Cell \u001b[1;32mIn[4], line 1\u001b[0m\n\u001b[1;32m----> 1\u001b[0m \u001b[43mmyfuns\u001b[49m\u001b[38;5;241m.\u001b[39mvec2_add([\u001b[38;5;241m1\u001b[39m,\u001b[38;5;241m2\u001b[39m],[\u001b[38;5;241m3\u001b[39m,\u001b[38;5;241m4\u001b[39m])  \u001b[38;5;66;03m# myfuns안의 vec2_add만 임포트했지 myfuns자체를 임포트 한것은 아님..\u001b[39;00m\n",
      "\u001b[1;31mNameError\u001b[0m: name 'myfuns' is not defined"
     ]
    }
   ],
   "source": [
    "myfuns.vec2_add([1,2],[3,4])  # myfuns안의 vec2_add만 임포트했지 myfuns자체를 임포트 한것은 아님.."
   ]
  },
  {
   "cell_type": "markdown",
   "id": "ea141b5d-cbf8-4fb3-9382-e5d985d08f65",
   "metadata": {},
   "source": [
    "`-` 사용방법3"
   ]
  },
  {
   "cell_type": "markdown",
   "id": "ace03b0f-cdf0-462c-b8c5-f66989c49230",
   "metadata": {},
   "source": [
    "\n",
    "준비: \"00\" -> 커널재시작\n",
    "\n"
   ]
  },
  {
   "cell_type": "code",
   "execution_count": 1,
   "id": "d6bfdcb7-59f6-4ad0-b722-4cdfca21ec4b",
   "metadata": {},
   "outputs": [],
   "source": [
    "import myfuns\n",
    "from myfuns import vec2_add"
   ]
  },
  {
   "cell_type": "code",
   "execution_count": 2,
   "id": "07920906-4493-4e4b-9b8c-1bd190340e38",
   "metadata": {},
   "outputs": [
    {
     "data": {
      "text/plain": [
       "[4, 6]"
      ]
     },
     "execution_count": 2,
     "metadata": {},
     "output_type": "execute_result"
    }
   ],
   "source": [
    "myfuns.vec2_add([1,2],[3,4])"
   ]
  },
  {
   "cell_type": "code",
   "execution_count": 3,
   "id": "3d980c9d-9597-45cd-ba1e-92dde80f9227",
   "metadata": {},
   "outputs": [
    {
     "data": {
      "text/plain": [
       "[4, 6]"
      ]
     },
     "execution_count": 3,
     "metadata": {},
     "output_type": "execute_result"
    }
   ],
   "source": [
    "vec2_add([1,2],[3,4])"
   ]
  },
  {
   "cell_type": "code",
   "execution_count": 4,
   "id": "919410fd-b48c-4989-bc55-6365b86e023d",
   "metadata": {},
   "outputs": [
    {
     "ename": "NameError",
     "evalue": "name 'vec2_sub' is not defined",
     "output_type": "error",
     "traceback": [
      "\u001b[1;31m---------------------------------------------------------------------------\u001b[0m",
      "\u001b[1;31mNameError\u001b[0m                                 Traceback (most recent call last)",
      "Cell \u001b[1;32mIn[4], line 1\u001b[0m\n\u001b[1;32m----> 1\u001b[0m \u001b[43mvec2_sub\u001b[49m([\u001b[38;5;241m1\u001b[39m,\u001b[38;5;241m2\u001b[39m],[\u001b[38;5;241m3\u001b[39m,\u001b[38;5;241m4\u001b[39m])\n",
      "\u001b[1;31mNameError\u001b[0m: name 'vec2_sub' is not defined"
     ]
    }
   ],
   "source": [
    "vec2_sub([1,2],[3,4])   # vec2_sub는 import하지 않았기 때문에 오류남.. "
   ]
  },
  {
   "cell_type": "code",
   "execution_count": 5,
   "id": "9f463b25-0755-4bf5-8cc6-9250ada2d7fa",
   "metadata": {},
   "outputs": [
    {
     "data": {
      "text/plain": [
       "[-2, -2]"
      ]
     },
     "execution_count": 5,
     "metadata": {},
     "output_type": "execute_result"
    }
   ],
   "source": [
    "myfuns.vec2_sub([1,2],[3,4])"
   ]
  },
  {
   "cell_type": "markdown",
   "id": "6614cdcf-22a6-4a47-9361-6896654727a7",
   "metadata": {},
   "source": [
    "`-` 사용방법4"
   ]
  },
  {
   "cell_type": "markdown",
   "id": "60c73a00-8b64-41e6-9c45-71ce5a77b793",
   "metadata": {},
   "source": [
    "준비: \"00\" -> 커널재시작"
   ]
  },
  {
   "cell_type": "code",
   "execution_count": 1,
   "id": "a14d842f-d54b-4b19-a068-1ef6449c2c41",
   "metadata": {},
   "outputs": [],
   "source": [
    "from myfuns import vec2_add, vec2_sub"
   ]
  },
  {
   "cell_type": "code",
   "execution_count": 2,
   "id": "516d0846-5e1b-442c-806b-398bf5ca56f0",
   "metadata": {},
   "outputs": [
    {
     "data": {
      "text/plain": [
       "([4, 6], [-2, -2])"
      ]
     },
     "execution_count": 2,
     "metadata": {},
     "output_type": "execute_result"
    }
   ],
   "source": [
    "vec2_add([1,2],[3,4]), vec2_sub([1,2],[3,4])"
   ]
  },
  {
   "cell_type": "markdown",
   "id": "5e7ee450-d9bb-48ca-9356-01d6d92c2cf7",
   "metadata": {},
   "source": [
    "`-` 사용방법5"
   ]
  },
  {
   "cell_type": "markdown",
   "id": "b07ca4d3-d80a-4126-9ece-ff1cc7b5a361",
   "metadata": {},
   "source": [
    "준비: \"00\" -> 커널재시작"
   ]
  },
  {
   "cell_type": "code",
   "execution_count": 4,
   "id": "dc1f3231-8591-47a3-aa31-c780649db7c2",
   "metadata": {},
   "outputs": [],
   "source": [
    "from myfuns import *   # *는 all의 의미"
   ]
  },
  {
   "cell_type": "code",
   "execution_count": 7,
   "id": "c37826c3-d326-42f7-b5d3-88a2498eaabe",
   "metadata": {},
   "outputs": [
    {
     "data": {
      "text/plain": [
       "([4, 6], [-2, -2])"
      ]
     },
     "execution_count": 7,
     "metadata": {},
     "output_type": "execute_result"
    }
   ],
   "source": [
    "vec2_add([1,2],[3,4]), vec2_sub([1,2],[3,4])"
   ]
  },
  {
   "cell_type": "markdown",
   "id": "62f1b997-07f3-4add-9568-f206c63ff341",
   "metadata": {},
   "source": [
    "`-` 사용방법6"
   ]
  },
  {
   "cell_type": "markdown",
   "id": "ac507dff-6687-4def-a10f-7f2d12e9f693",
   "metadata": {},
   "source": [
    "준비: \"00\" -> 커널재시작"
   ]
  },
  {
   "cell_type": "code",
   "execution_count": 8,
   "id": "f2085419-dd32-46ef-9b30-76617b88d9f5",
   "metadata": {},
   "outputs": [],
   "source": [
    "import myfuns as mf "
   ]
  },
  {
   "cell_type": "code",
   "execution_count": 9,
   "id": "4077beb8-90cb-4e9f-9523-d1ec6ae95184",
   "metadata": {},
   "outputs": [
    {
     "data": {
      "text/plain": [
       "[4, 6]"
      ]
     },
     "execution_count": 9,
     "metadata": {},
     "output_type": "execute_result"
    }
   ],
   "source": [
    "mf.vec2_add([1,2],[3,4])"
   ]
  },
  {
   "cell_type": "code",
   "execution_count": 10,
   "id": "b2e7733f-e7e0-4d71-8513-82af183fdb0f",
   "metadata": {},
   "outputs": [
    {
     "data": {
      "text/plain": [
       "[-2, -2]"
      ]
     },
     "execution_count": 10,
     "metadata": {},
     "output_type": "execute_result"
    }
   ],
   "source": [
    "mf.vec2_sub([1,2],[3,4])"
   ]
  },
  {
   "cell_type": "markdown",
   "id": "da7b8bd3-f0ac-48af-a154-de9a8cd6ce1f",
   "metadata": {},
   "source": [
    "(오히려 아래는 실행불가능)"
   ]
  },
  {
   "cell_type": "code",
   "execution_count": 11,
   "id": "dd2e3905-c9fd-4506-9cce-1a36df57cf83",
   "metadata": {},
   "outputs": [
    {
     "ename": "NameError",
     "evalue": "name 'myfuns' is not defined",
     "output_type": "error",
     "traceback": [
      "\u001b[1;31m---------------------------------------------------------------------------\u001b[0m",
      "\u001b[1;31mNameError\u001b[0m                                 Traceback (most recent call last)",
      "Cell \u001b[1;32mIn[11], line 1\u001b[0m\n\u001b[1;32m----> 1\u001b[0m \u001b[43mmyfuns\u001b[49m\u001b[38;5;241m.\u001b[39mvec2_add([\u001b[38;5;241m1\u001b[39m,\u001b[38;5;241m2\u001b[39m],[\u001b[38;5;241m3\u001b[39m,\u001b[38;5;241m4\u001b[39m])\n",
      "\u001b[1;31mNameError\u001b[0m: name 'myfuns' is not defined"
     ]
    }
   ],
   "source": [
    "myfuns.vec2_add([1,2],[3,4])"
   ]
  },
  {
   "cell_type": "markdown",
   "id": "530c4718-2c16-47d7-9bf5-9b03d23e2c56",
   "metadata": {},
   "source": [
    "`-` 잘못된 사용방법1"
   ]
  },
  {
   "cell_type": "markdown",
   "id": "94d300cf-8ed3-4871-8cdc-03c47327fef6",
   "metadata": {},
   "source": [
    "준비: \"00\" -> 커널재시작"
   ]
  },
  {
   "cell_type": "code",
   "execution_count": 1,
   "id": "f7ef5da0-824d-4fe5-8f09-086a5a4f19ba",
   "metadata": {},
   "outputs": [
    {
     "ename": "ModuleNotFoundError",
     "evalue": "No module named 'mf'",
     "output_type": "error",
     "traceback": [
      "\u001b[1;31m---------------------------------------------------------------------------\u001b[0m",
      "\u001b[1;31mModuleNotFoundError\u001b[0m                       Traceback (most recent call last)",
      "Cell \u001b[1;32mIn[1], line 2\u001b[0m\n\u001b[0;32m      1\u001b[0m \u001b[38;5;28;01mimport\u001b[39;00m \u001b[38;5;21;01mmyfuns\u001b[39;00m \u001b[38;5;28;01mas\u001b[39;00m \u001b[38;5;21;01mmf\u001b[39;00m\n\u001b[1;32m----> 2\u001b[0m \u001b[38;5;28;01mfrom\u001b[39;00m \u001b[38;5;21;01mmf\u001b[39;00m \u001b[38;5;28;01mimport\u001b[39;00m vec2_add\n",
      "\u001b[1;31mModuleNotFoundError\u001b[0m: No module named 'mf'"
     ]
    }
   ],
   "source": [
    "import myfuns as mf\n",
    "from mf import vec2_add"
   ]
  },
  {
   "cell_type": "markdown",
   "id": "f97aab4a-8d8f-4072-8d3a-6d4e7b48cf3e",
   "metadata": {},
   "source": [
    "`-` 사용방법 7"
   ]
  },
  {
   "cell_type": "markdown",
   "id": "e3e61969-82b7-4dea-bd48-66117e3c35a5",
   "metadata": {},
   "source": [
    "준비: \"00\" -> 커널재시작"
   ]
  },
  {
   "cell_type": "code",
   "execution_count": 1,
   "id": "f8280075-8ae4-4b08-b043-7aa6eb466ab8",
   "metadata": {},
   "outputs": [],
   "source": [
    "import myfuns as mf\n",
    "from myfuns import vec2_add as add"
   ]
  },
  {
   "cell_type": "code",
   "execution_count": 2,
   "id": "9e3eb2f1-bbc8-4ce7-b8c2-265c60a176f4",
   "metadata": {},
   "outputs": [
    {
     "data": {
      "text/plain": [
       "[4, 6]"
      ]
     },
     "execution_count": 2,
     "metadata": {},
     "output_type": "execute_result"
    }
   ],
   "source": [
    "mf.vec2_add([1,2],[3,4])"
   ]
  },
  {
   "cell_type": "code",
   "execution_count": 5,
   "id": "17f9973c-df31-452d-83b8-0a9e7391bff6",
   "metadata": {},
   "outputs": [
    {
     "ename": "NameError",
     "evalue": "name 'vec2_add' is not defined",
     "output_type": "error",
     "traceback": [
      "\u001b[1;31m---------------------------------------------------------------------------\u001b[0m",
      "\u001b[1;31mNameError\u001b[0m                                 Traceback (most recent call last)",
      "Cell \u001b[1;32mIn[5], line 1\u001b[0m\n\u001b[1;32m----> 1\u001b[0m \u001b[43mvec2_add\u001b[49m([\u001b[38;5;241m1\u001b[39m,\u001b[38;5;241m2\u001b[39m],[\u001b[38;5;241m3\u001b[39m,\u001b[38;5;241m4\u001b[39m])   \u001b[38;5;66;03m# 위에서 vec2_add를 add로 부르기로 했음. 그래서 이건 안뎀 \u001b[39;00m\n",
      "\u001b[1;31mNameError\u001b[0m: name 'vec2_add' is not defined"
     ]
    }
   ],
   "source": [
    "vec2_add([1,2],[3,4])   # 위에서 vec2_add를 add로 부르기로 했음. 그래서 이건 안뎀 "
   ]
  },
  {
   "cell_type": "code",
   "execution_count": 4,
   "id": "872a9bfd-61d1-4dbf-a98b-dfcb7cfe0e60",
   "metadata": {},
   "outputs": [
    {
     "data": {
      "text/plain": [
       "[4, 6]"
      ]
     },
     "execution_count": 4,
     "metadata": {},
     "output_type": "execute_result"
    }
   ],
   "source": [
    "add([1,2],[3,4])"
   ]
  },
  {
   "cell_type": "markdown",
   "id": "89d04566-c3bf-4d90-9835-91f746896ed3",
   "metadata": {},
   "source": [
    "### 도움말 작성기능"
   ]
  },
  {
   "cell_type": "markdown",
   "id": "6a5f9b1f-5732-43af-8c9a-67296faee65b",
   "metadata": {},
   "source": [
    "`-` mf란 무엇인가?"
   ]
  },
  {
   "cell_type": "markdown",
   "id": "f2c07e37-133b-41a0-bb78-4aca410bbf8a",
   "metadata": {},
   "source": [
    "준비: \"00\" -> 커널재시작"
   ]
  },
  {
   "cell_type": "code",
   "execution_count": 1,
   "id": "529b3a28-d40c-4aa4-8719-6dfd9705a431",
   "metadata": {},
   "outputs": [],
   "source": [
    "import myfuns as mf"
   ]
  },
  {
   "cell_type": "code",
   "execution_count": 2,
   "id": "a8eeceec-d46d-436a-aa49-a14e64e577a1",
   "metadata": {},
   "outputs": [
    {
     "data": {
      "text/plain": [
       "<module 'myfuns' from 'C:\\\\Users\\\\koinu\\\\python2022\\\\myfuns.py'>"
      ]
     },
     "execution_count": 2,
     "metadata": {},
     "output_type": "execute_result"
    }
   ],
   "source": [
    "mf"
   ]
  },
  {
   "cell_type": "code",
   "execution_count": 3,
   "id": "bf17233a-8ece-4226-bda5-9e1a476b9809",
   "metadata": {},
   "outputs": [
    {
     "data": {
      "text/plain": [
       "\u001b[1;31mType:\u001b[0m        module\n",
       "\u001b[1;31mString form:\u001b[0m <module 'myfuns' from 'C:\\\\Users\\\\koinu\\\\python2022\\\\myfuns.py'>\n",
       "\u001b[1;31mFile:\u001b[0m        c:\\users\\koinu\\python2022\\myfuns.py\n",
       "\u001b[1;31mDocstring:\u001b[0m   <no docstring>"
      ]
     },
     "metadata": {},
     "output_type": "display_data"
    }
   ],
   "source": [
    "mf?"
   ]
  },
  {
   "cell_type": "code",
   "execution_count": 4,
   "id": "8b5cf21f-4086-47e3-8d92-da1bdc71835e",
   "metadata": {},
   "outputs": [
    {
     "data": {
      "text/plain": [
       "module"
      ]
     },
     "execution_count": 4,
     "metadata": {},
     "output_type": "execute_result"
    }
   ],
   "source": [
    "type(mf)"
   ]
  },
  {
   "cell_type": "markdown",
   "id": "7b8f6a51-0e11-441e-aa9c-258757279df4",
   "metadata": {},
   "source": [
    "- mf의 타입은 모듈이라고 나옴, 현재 단계에서는 무엇인지 알기 어려움.."
   ]
  },
  {
   "cell_type": "markdown",
   "id": "8a40e1c9-af24-4f29-90b4-3776911d2e8f",
   "metadata": {},
   "source": [
    "`-` Docstring의 내용을 채울 수 있을까?"
   ]
  },
  {
   "cell_type": "markdown",
   "id": "558fc1ed-088b-445e-99ce-c2f0ec27cedb",
   "metadata": {},
   "source": [
    "준비1: myfuns.py의 파일을 수정한다.  (큰따옴표 \"\"\" 세개)"
   ]
  },
  {
   "cell_type": "markdown",
   "id": "f26e1899-6753-44f3-be6a-54cd5cd62377",
   "metadata": {},
   "source": [
    "준비2: \"00\"->커널재시작"
   ]
  },
  {
   "cell_type": "code",
   "execution_count": 1,
   "id": "ba102809-be18-4e26-ab80-94b497e4a974",
   "metadata": {},
   "outputs": [],
   "source": [
    "import myfuns as mf"
   ]
  },
  {
   "cell_type": "code",
   "execution_count": 2,
   "id": "b48ede7f-7071-4f35-97ed-04cc3015a52b",
   "metadata": {},
   "outputs": [
    {
     "data": {
      "text/plain": [
       "\u001b[1;31mType:\u001b[0m        module\n",
       "\u001b[1;31mString form:\u001b[0m <module 'myfuns' from 'C:\\\\Users\\\\koinu\\\\python2022\\\\myfuns.py'>\n",
       "\u001b[1;31mFile:\u001b[0m        c:\\users\\koinu\\python2022\\myfuns.py\n",
       "\u001b[1;31mDocstring:\u001b[0m   이것은 길이가 2인 벡터이 합 혹은 차를 구하는 모듈입니다."
      ]
     },
     "metadata": {},
     "output_type": "display_data"
    }
   ],
   "source": [
    "mf?"
   ]
  },
  {
   "cell_type": "markdown",
   "id": "367ca689-c76a-4110-a790-8b1fed604c64",
   "metadata": {},
   "source": [
    "### 주의점"
   ]
  },
  {
   "cell_type": "markdown",
   "id": "6aabe11c-70f3-46bb-a484-02e63c55e77d",
   "metadata": {},
   "source": [
    "`-` `myfuns.py`는 최초 한번만 import된다."
   ]
  },
  {
   "cell_type": "markdown",
   "id": "748d1f3b-6006-4708-a9fc-2aefb019fbe3",
   "metadata": {},
   "source": [
    "준비: \"00\" -> 커널재시작"
   ]
  },
  {
   "cell_type": "code",
   "execution_count": 1,
   "id": "63cd2397-005d-4330-b6c2-29a0190b5e34",
   "metadata": {},
   "outputs": [],
   "source": [
    "import myfuns"
   ]
  },
  {
   "cell_type": "code",
   "execution_count": 2,
   "id": "c4a8d4c6-d8a9-4129-ad40-d9297c3586ff",
   "metadata": {},
   "outputs": [
    {
     "data": {
      "text/plain": [
       "[4, 6]"
      ]
     },
     "execution_count": 2,
     "metadata": {},
     "output_type": "execute_result"
    }
   ],
   "source": [
    "myfuns.vec2_add([1,2],[3,4])"
   ]
  },
  {
   "cell_type": "markdown",
   "id": "dda53f1d-6f5f-4013-b5db-e125557855c4",
   "metadata": {},
   "source": [
    "`myfuns.py`파일을 열고 함수를 바꾸자.\n",
    "```python\n",
    "\"\"\"이것은 길이가 2인 벡터이 합 혹은 차를 구하는 모듈입니다.\"\"\"\n",
    "\n",
    "def vec2_add(a,b):\n",
    "    print(\"이것은 myfuns.py에 정의된 함수입니다.\")\n",
    "    return [a[0]+b[0], a[1]+b[1]]\n",
    "\n",
    "\n",
    "def vec2_sub(a,b):\n",
    "    return [a[0]-b[0], a[1]-b[1]]\n",
    "```"
   ]
  },
  {
   "cell_type": "markdown",
   "id": "cd04e671-37d6-4c6c-83ee-bb28da189cb7",
   "metadata": {},
   "source": [
    "다시 myfuns를 로드하고 위를 실행하여 보자"
   ]
  },
  {
   "cell_type": "code",
   "execution_count": 3,
   "id": "94cafdcf-0f08-4ef5-9dfc-09aa6a313c1c",
   "metadata": {},
   "outputs": [],
   "source": [
    "import myfuns"
   ]
  },
  {
   "cell_type": "code",
   "execution_count": 4,
   "id": "d573ad51-3643-413a-8939-bc24b6d03ad3",
   "metadata": {},
   "outputs": [
    {
     "data": {
      "text/plain": [
       "[4, 6]"
      ]
     },
     "execution_count": 4,
     "metadata": {},
     "output_type": "execute_result"
    }
   ],
   "source": [
    "myfuns.vec2_add([1,2],[3,4])"
   ]
  },
  {
   "cell_type": "markdown",
   "id": "e7ec8d1f-14f8-4633-9048-2ccbe68cfe32",
   "metadata": {},
   "source": [
    "바뀐내용이 적용되지 않는다."
   ]
  },
  {
   "cell_type": "markdown",
   "id": "ca3f60f1-8664-4e60-a2e3-ff92b048683c",
   "metadata": {},
   "source": [
    "커널을 다시 시작하고 임포트해보자."
   ]
  },
  {
   "cell_type": "markdown",
   "id": "d441ac9f-c05d-437e-a22d-a3ae12f67250",
   "metadata": {},
   "source": [
    "\"00\" -> 커널재시작"
   ]
  },
  {
   "cell_type": "code",
   "execution_count": 1,
   "id": "fa687e02-138a-4628-9f3e-2468e091dcb9",
   "metadata": {},
   "outputs": [],
   "source": [
    "import myfuns"
   ]
  },
  {
   "cell_type": "code",
   "execution_count": 2,
   "id": "9200d15e-64ce-4575-8d95-a1d20dd574e4",
   "metadata": {},
   "outputs": [
    {
     "name": "stdout",
     "output_type": "stream",
     "text": [
      "이것은 myfuns.py에 정의된 함수입니다.\n"
     ]
    },
    {
     "data": {
      "text/plain": [
       "[4, 6]"
      ]
     },
     "execution_count": 2,
     "metadata": {},
     "output_type": "execute_result"
    }
   ],
   "source": [
    "myfuns.vec2_add([1,2],[3,4])"
   ]
  },
  {
   "cell_type": "markdown",
   "id": "27d1b027-2f8d-4079-9f59-9109eb93f870",
   "metadata": {},
   "source": [
    "`-` myfuns.py는 주피너노트북파일과 같은 폴더내에 존재해야 한다."
   ]
  },
  {
   "cell_type": "markdown",
   "id": "f601b711-5789-4ba9-863d-3b817a637082",
   "metadata": {},
   "source": [
    "준비1: \"00\"->커널재시작"
   ]
  },
  {
   "cell_type": "markdown",
   "id": "434ed71b-2c81-4db1-9b76-30d70aa8ffd2",
   "metadata": {},
   "source": [
    "준비2: myfuns.py 을 복사하여 다른 폴더로 이동. 예를들면 IP0403폴더를 만들고 그 폴더안에 myfuns2.py파일을 만들자."
   ]
  },
  {
   "cell_type": "code",
   "execution_count": 3,
   "id": "31f792c9-acbb-4f86-90a9-7963c23a71fe",
   "metadata": {},
   "outputs": [],
   "source": [
    "import myfuns  # 주피터노트북과 같은 폴더에 있는 myfuns는 잘 로드되지만"
   ]
  },
  {
   "cell_type": "code",
   "execution_count": 4,
   "id": "219ff3d0-4242-47e7-830a-c26ef2621e47",
   "metadata": {},
   "outputs": [
    {
     "ename": "ModuleNotFoundError",
     "evalue": "No module named 'myfuns2'",
     "output_type": "error",
     "traceback": [
      "\u001b[1;31m---------------------------------------------------------------------------\u001b[0m",
      "\u001b[1;31mModuleNotFoundError\u001b[0m                       Traceback (most recent call last)",
      "Cell \u001b[1;32mIn[4], line 1\u001b[0m\n\u001b[1;32m----> 1\u001b[0m \u001b[38;5;28;01mimport\u001b[39;00m \u001b[38;5;21;01mmyfuns2\u001b[39;00m \u001b[38;5;66;03m# 주피터노트북과 다른 폴더에 있는 myfuns2는 그렇지 않다.\u001b[39;00m\n",
      "\u001b[1;31mModuleNotFoundError\u001b[0m: No module named 'myfuns2'"
     ]
    }
   ],
   "source": [
    "import myfuns2 # 주피터노트북과 다른 폴더에 있는 myfuns2는 그렇지 않다."
   ]
  },
  {
   "cell_type": "markdown",
   "id": "9a0bf55d-09c8-41c0-96d5-471bf452fe71",
   "metadata": {},
   "source": [
    "`-` IP0403 폴더에 있는 myfuns2.py를 실행하기 위해서는 아래와 같이 할 수 있다."
   ]
  },
  {
   "cell_type": "markdown",
   "id": "fe300399-17ba-4275-84c2-fe655ebd4996",
   "metadata": {
    "tags": []
   },
   "source": [
    "준비: \"00\" -> 커널재시작"
   ]
  },
  {
   "cell_type": "code",
   "execution_count": 1,
   "id": "d71b4c1c-0017-4cfb-8f8d-9e7a2e69e5ea",
   "metadata": {},
   "outputs": [],
   "source": [
    "from IP0403 import myfuns2"
   ]
  },
  {
   "cell_type": "code",
   "execution_count": 2,
   "id": "2497afa2-e231-48e1-81c9-35921560cb24",
   "metadata": {},
   "outputs": [
    {
     "name": "stdout",
     "output_type": "stream",
     "text": [
      "이것은 myfuns2.py에 정의된 함수입니다.\n"
     ]
    },
    {
     "data": {
      "text/plain": [
       "[4, 6]"
      ]
     },
     "execution_count": 2,
     "metadata": {},
     "output_type": "execute_result"
    }
   ],
   "source": [
    "myfuns2.vec2_add([1,2],[3,4])"
   ]
  },
  {
   "cell_type": "markdown",
   "id": "6da944f3-8116-43c1-9430-b9a682e17e6b",
   "metadata": {},
   "source": [
    "`-` 아래도 가능하다."
   ]
  },
  {
   "cell_type": "markdown",
   "id": "b922644d-5d8c-487b-972a-8bcb80ea3cba",
   "metadata": {},
   "source": [
    "준비: \"00\" -> 커널재시작"
   ]
  },
  {
   "cell_type": "code",
   "execution_count": 1,
   "id": "017e43f9-d623-4b6b-9ba6-8bc447942309",
   "metadata": {},
   "outputs": [],
   "source": [
    "from IP0403.myfuns2 import vec2_add as add"
   ]
  },
  {
   "cell_type": "code",
   "execution_count": 2,
   "id": "7a47d9a2-df48-4228-9968-664077920384",
   "metadata": {},
   "outputs": [
    {
     "name": "stdout",
     "output_type": "stream",
     "text": [
      "이것은 myfuns2.py에 정의된 함수입니다.\n"
     ]
    },
    {
     "data": {
      "text/plain": [
       "[4, 6]"
      ]
     },
     "execution_count": 2,
     "metadata": {},
     "output_type": "execute_result"
    }
   ],
   "source": [
    "add([1,2],[3,4])"
   ]
  },
  {
   "cell_type": "markdown",
   "id": "46a16703-5143-4363-9c13-12400f0b4d3f",
   "metadata": {},
   "source": [
    "참고로 아래는 모두 정의되지 않음"
   ]
  },
  {
   "cell_type": "code",
   "execution_count": 3,
   "id": "a8aae434-7e78-4563-b971-50a157a6626f",
   "metadata": {},
   "outputs": [
    {
     "ename": "NameError",
     "evalue": "name 'IP0403' is not defined",
     "output_type": "error",
     "traceback": [
      "\u001b[1;31m---------------------------------------------------------------------------\u001b[0m",
      "\u001b[1;31mNameError\u001b[0m                                 Traceback (most recent call last)",
      "Cell \u001b[1;32mIn[3], line 1\u001b[0m\n\u001b[1;32m----> 1\u001b[0m \u001b[43mIP0403\u001b[49m\u001b[38;5;241m.\u001b[39mmyfuns2\u001b[38;5;241m.\u001b[39mvec2_add([\u001b[38;5;241m1\u001b[39m,\u001b[38;5;241m2\u001b[39m],[\u001b[38;5;241m3\u001b[39m,\u001b[38;5;241m4\u001b[39m])\n",
      "\u001b[1;31mNameError\u001b[0m: name 'IP0403' is not defined"
     ]
    }
   ],
   "source": [
    "IP0403.myfuns2.vec2_add([1,2],[3,4])"
   ]
  },
  {
   "cell_type": "code",
   "execution_count": 4,
   "id": "c1a1a3a9-2431-4962-8ce7-33878711594b",
   "metadata": {},
   "outputs": [
    {
     "ename": "NameError",
     "evalue": "name 'myfuns2' is not defined",
     "output_type": "error",
     "traceback": [
      "\u001b[1;31m---------------------------------------------------------------------------\u001b[0m",
      "\u001b[1;31mNameError\u001b[0m                                 Traceback (most recent call last)",
      "Cell \u001b[1;32mIn[4], line 1\u001b[0m\n\u001b[1;32m----> 1\u001b[0m \u001b[43mmyfuns2\u001b[49m\u001b[38;5;241m.\u001b[39mvec2_add([\u001b[38;5;241m1\u001b[39m,\u001b[38;5;241m2\u001b[39m],[\u001b[38;5;241m3\u001b[39m,\u001b[38;5;241m4\u001b[39m])\n",
      "\u001b[1;31mNameError\u001b[0m: name 'myfuns2' is not defined"
     ]
    }
   ],
   "source": [
    "myfuns2.vec2_add([1,2],[3,4])"
   ]
  },
  {
   "cell_type": "code",
   "execution_count": 5,
   "id": "c42b2162-4f4b-45ad-a4c1-cc0910e34bfe",
   "metadata": {},
   "outputs": [
    {
     "ename": "NameError",
     "evalue": "name 'vec2_add' is not defined",
     "output_type": "error",
     "traceback": [
      "\u001b[1;31m---------------------------------------------------------------------------\u001b[0m",
      "\u001b[1;31mNameError\u001b[0m                                 Traceback (most recent call last)",
      "Cell \u001b[1;32mIn[5], line 1\u001b[0m\n\u001b[1;32m----> 1\u001b[0m \u001b[43mvec2_add\u001b[49m([\u001b[38;5;241m1\u001b[39m,\u001b[38;5;241m2\u001b[39m],[\u001b[38;5;241m3\u001b[39m,\u001b[38;5;241m4\u001b[39m])\n",
      "\u001b[1;31mNameError\u001b[0m: name 'vec2_add' is not defined"
     ]
    }
   ],
   "source": [
    "vec2_add([1,2],[3,4])"
   ]
  },
  {
   "cell_type": "markdown",
   "id": "849c2457-7b41-4c8b-afab-3e5ee7a55afb",
   "metadata": {},
   "source": [
    "### import 고급"
   ]
  },
  {
   "cell_type": "markdown",
   "id": "163390e5-4d9f-42d0-b237-bbf9d430c852",
   "metadata": {},
   "source": [
    "#### 폴더와 함께 사용할시"
   ]
  },
  {
   "cell_type": "markdown",
   "id": "6c5e8ab2-34d6-4cc3-bd65-fb6c53fb6395",
   "metadata": {},
   "source": [
    "`-` 언뜻 생각하면 아래가 가능할 것 같다.\n",
    "```python\n",
    "import IP0403\n",
    "IP0403.myfuns.vec2_add([1,2],[3,4])\n",
    "```"
   ]
  },
  {
   "cell_type": "markdown",
   "id": "1d4780f8-4909-49e8-aa48-c15e39263be7",
   "metadata": {},
   "source": [
    "`-` 하지만 불가능"
   ]
  },
  {
   "cell_type": "markdown",
   "id": "a7a89d62-047b-43cc-b7b8-af3ab3e4a827",
   "metadata": {},
   "source": [
    "준비: \"00\" -> 커널재시작"
   ]
  },
  {
   "cell_type": "code",
   "execution_count": 1,
   "id": "33e3b0df-83b8-4aca-a621-14cd1097f477",
   "metadata": {},
   "outputs": [],
   "source": [
    "import IP0403"
   ]
  },
  {
   "cell_type": "markdown",
   "id": "66ea369c-1afb-42f2-b319-da3c5466b76e",
   "metadata": {},
   "source": [
    "여기까지는 됨.."
   ]
  },
  {
   "cell_type": "code",
   "execution_count": 2,
   "id": "bcfdfd8b-884b-4551-a470-99f302375005",
   "metadata": {},
   "outputs": [
    {
     "ename": "AttributeError",
     "evalue": "module 'IP0403' has no attribute 'myfuns2'",
     "output_type": "error",
     "traceback": [
      "\u001b[1;31m---------------------------------------------------------------------------\u001b[0m",
      "\u001b[1;31mAttributeError\u001b[0m                            Traceback (most recent call last)",
      "Cell \u001b[1;32mIn[2], line 1\u001b[0m\n\u001b[1;32m----> 1\u001b[0m \u001b[43mIP0403\u001b[49m\u001b[38;5;241;43m.\u001b[39;49m\u001b[43mmyfuns2\u001b[49m\u001b[38;5;241m.\u001b[39madd([\u001b[38;5;241m1\u001b[39m,\u001b[38;5;241m2\u001b[39m],[\u001b[38;5;241m3\u001b[39m,\u001b[38;5;241m4\u001b[39m])\n",
      "\u001b[1;31mAttributeError\u001b[0m: module 'IP0403' has no attribute 'myfuns2'"
     ]
    }
   ],
   "source": [
    "IP0403.myfuns2.add([1,2],[3,4])"
   ]
  },
  {
   "cell_type": "markdown",
   "id": "4bbdd065-6bfa-45ba-87b7-d87172bbe54b",
   "metadata": {},
   "source": [
    "- 여기서 불가능하다."
   ]
  },
  {
   "cell_type": "markdown",
   "id": "17583805-7da0-4e1b-86a6-f14966db104b",
   "metadata": {},
   "source": [
    "`-` **(암기)** IP0403 폴더안에 `__init__.py`라는 파일을 만들고 내용에 아래와 같이 쓰면 가능하다.\n",
    "```python\n",
    "# ./IP0403/__init__.py\n",
    "form. import myfuns2\n",
    "```"
   ]
  },
  {
   "cell_type": "markdown",
   "id": "09973614-9fd1-4588-a6af-8907a7344a94",
   "metadata": {},
   "source": [
    "준비1: 위의 지침을 따른다.\n",
    "\n",
    "준비2: \"00\" -> 커널재시작\n"
   ]
  },
  {
   "cell_type": "code",
   "execution_count": 1,
   "id": "1ea25ee0-1bc6-4b76-bcc9-53d99a2be228",
   "metadata": {},
   "outputs": [],
   "source": [
    "import IP0403"
   ]
  },
  {
   "cell_type": "code",
   "execution_count": 4,
   "id": "bcda4e74-f11b-49c2-8e8e-3f3f29a9bff8",
   "metadata": {},
   "outputs": [
    {
     "name": "stdout",
     "output_type": "stream",
     "text": [
      "이것은 myfuns2.py에 정의된 함수입니다.\n"
     ]
    },
    {
     "data": {
      "text/plain": [
       "[4, 6]"
      ]
     },
     "execution_count": 4,
     "metadata": {},
     "output_type": "execute_result"
    }
   ],
   "source": [
    "IP0403.myfuns2.vec2_add([1,2],[3,4])  "
   ]
  },
  {
   "cell_type": "markdown",
   "id": "2ce14a93-5fcd-4976-b4cc-371026bf341a",
   "metadata": {},
   "source": [
    "**컴퓨터 상식**\n",
    "\n",
    "- `.` : 현재폴더를 의미\n",
    "\n",
    "- `..` : 상위폴더를 의미\n",
    "\n",
    "- `./myfuns.py` : 현재폴더안에 있는 myfuns.py를 의미\n",
    "\n",
    "- `./IP0403/myfuns2.py` : 현재폴더안에 IP0403폴더안의 myfuns2.py를 의미\n",
    "\n",
    "- `../myfuns.py` : 현재폴더보다 한단계 상위폴더에 있는 myfuns.py를 의미\n",
    "\n",
    "- `cd ./IP0403` : 현재 폴더안에 있는 IP0403폴더로 이동해라. (`cd IP0403`으로 줄여쓸 수 있음)\n",
    "\n",
    "- `cd ..` 현재 폴더보다 한단계 상위폴더로 이동해라."
   ]
  },
  {
   "cell_type": "markdown",
   "id": "4127ab45-e304-414e-b6ce-7aa38adaacf7",
   "metadata": {},
   "source": [
    "따라서 `from . import myfuns2`는 현재 폴더에서 myfuns2를 찾아서 임포트 하라는 의미로 해석가능"
   ]
  },
  {
   "cell_type": "markdown",
   "id": "178a43db-c0af-4dae-b4e0-12a7cd2197f1",
   "metadata": {},
   "source": [
    "`-` 의미상으로 보면 아래가 실해아능할 것 같은데 불가능하다.\n"
   ]
  },
  {
   "cell_type": "code",
   "execution_count": 5,
   "id": "67e9e170-0045-44be-a870-566bc4ff84b2",
   "metadata": {},
   "outputs": [
    {
     "ename": "ImportError",
     "evalue": "attempted relative import with no known parent package",
     "output_type": "error",
     "traceback": [
      "\u001b[1;31m---------------------------------------------------------------------------\u001b[0m",
      "\u001b[1;31mImportError\u001b[0m                               Traceback (most recent call last)",
      "Cell \u001b[1;32mIn[5], line 2\u001b[0m\n\u001b[0;32m      1\u001b[0m \u001b[38;5;66;03m# import myfuns.py\u001b[39;00m\n\u001b[1;32m----> 2\u001b[0m \u001b[38;5;28;01mfrom\u001b[39;00m \u001b[38;5;21;01m.\u001b[39;00m \u001b[38;5;28;01mimport\u001b[39;00m myfuns\n",
      "\u001b[1;31mImportError\u001b[0m: attempted relative import with no known parent package"
     ]
    }
   ],
   "source": [
    "# import myfuns.py\n",
    "from . import myfuns"
   ]
  },
  {
   "cell_type": "markdown",
   "id": "f010a004-cc75-4159-a209-54c55baa7d1d",
   "metadata": {},
   "source": [
    "### slite-packages (실습금지)"
   ]
  },
  {
   "cell_type": "markdown",
   "id": "c33c6687-f3c1-4545-a527-fe049f06552e",
   "metadata": {},
   "source": [
    "https://guebin.github.io/IP2022/2022/04/03/(5%EC%A3%BC%EC%B0%A8)-4%EC%9B%942%EC%9D%BC.html#site-packages-(%EC%8B%A4%EC%8A%B5%EA%B8%88%EC%A7%80)"
   ]
  },
  {
   "cell_type": "markdown",
   "id": "ec013b6f-b9f7-4790-bd24-ca7f260b55f2",
   "metadata": {},
   "source": [
    "### 모듈, 패키지, 라이브러리?"
   ]
  },
  {
   "cell_type": "markdown",
   "id": "a368fb40-9f62-44ed-a37d-48c0b5086775",
   "metadata": {},
   "source": [
    "`-` 모듈의 개념은 아까 살펴본 것과 같다. (import를 하여 생기게 되는 오브젝트)"
   ]
  },
  {
   "cell_type": "markdown",
   "id": "ed13d33f-b782-4847-a2cf-6839ca71ce51",
   "metadata": {},
   "source": [
    "`-` 교수님들: 모듈이 모이면 패키지라고 부른다. 그리고 라이브러리는 패키지보다 큰 개념이다."
   ]
  },
  {
   "cell_type": "markdown",
   "id": "d70ef2fe-b5fb-4c7e-90ad-753121381f3e",
   "metadata": {},
   "source": [
    "`-`그런데 구분이 모호하다."
   ]
  },
  {
   "cell_type": "code",
   "execution_count": 2,
   "id": "1cdc3fda-416f-40e8-b7b4-02dfbfc75830",
   "metadata": {},
   "outputs": [
    {
     "ename": "ModuleNotFoundError",
     "evalue": "No module named 'numpy'",
     "output_type": "error",
     "traceback": [
      "\u001b[1;31m---------------------------------------------------------------------------\u001b[0m",
      "\u001b[1;31mModuleNotFoundError\u001b[0m                       Traceback (most recent call last)",
      "Cell \u001b[1;32mIn[2], line 1\u001b[0m\n\u001b[1;32m----> 1\u001b[0m \u001b[38;5;28;01mimport\u001b[39;00m \u001b[38;5;21;01mnumpy\u001b[39;00m \u001b[38;5;28;01mas\u001b[39;00m \u001b[38;5;21;01mnp\u001b[39;00m\n",
      "\u001b[1;31mModuleNotFoundError\u001b[0m: No module named 'numpy'"
     ]
    }
   ],
   "source": [
    "import numpy as np   # 오잉 왜 안되지... "
   ]
  },
  {
   "cell_type": "code",
   "execution_count": 3,
   "id": "f83b57ad-39ba-4095-b9ed-baa2e8d1617a",
   "metadata": {},
   "outputs": [
    {
     "ename": "NameError",
     "evalue": "name 'np' is not defined",
     "output_type": "error",
     "traceback": [
      "\u001b[1;31m---------------------------------------------------------------------------\u001b[0m",
      "\u001b[1;31mNameError\u001b[0m                                 Traceback (most recent call last)",
      "Cell \u001b[1;32mIn[3], line 1\u001b[0m\n\u001b[1;32m----> 1\u001b[0m \u001b[38;5;28mtype\u001b[39m(\u001b[43mnp\u001b[49m)\n",
      "\u001b[1;31mNameError\u001b[0m: name 'np' is not defined"
     ]
    }
   ],
   "source": [
    "type(np)"
   ]
  },
  {
   "cell_type": "markdown",
   "id": "948160c0-724c-4265-ac78-3c83561e8718",
   "metadata": {},
   "source": [
    "`-` python 에서 numpy의 type은 모듈"
   ]
  },
  {
   "cell_type": "markdown",
   "id": "27e9a0e6-f2d6-4d07-b61a-713bb7913836",
   "metadata": {},
   "source": [
    "`-` 그런데 numpy package라고 검색하면 검색이 된다."
   ]
  },
  {
   "cell_type": "markdown",
   "id": "e0452ecc-18fb-4f46-91c7-1429d426822c",
   "metadata": {},
   "source": [
    "`-`  심지어 numpy library 라고 해도 검색가능"
   ]
  },
  {
   "cell_type": "markdown",
   "id": "8ec8b360-4fe3-462a-90a3-75a56189f7b7",
   "metadata": {},
   "source": [
    "`-` 교수님 생각: 넘파이모듈, 넘파이패키지, 넘파이라이브러리 다 맞는 말임"
   ]
  },
  {
   "cell_type": "markdown",
   "id": "8c19b97f-087e-4e1c-a8dd-d9364cd50add",
   "metadata": {},
   "source": [
    "(숙제)"
   ]
  },
  {
   "cell_type": "code",
   "execution_count": 1,
   "id": "a9250cd9-c607-4464-8851-ae5f14a6ec63",
   "metadata": {},
   "outputs": [],
   "source": [
    "import myfuns"
   ]
  },
  {
   "cell_type": "code",
   "execution_count": 2,
   "id": "04cd63c4-6e2b-4300-9a01-9ec4870cac73",
   "metadata": {},
   "outputs": [
    {
     "name": "stdout",
     "output_type": "stream",
     "text": [
      "이것은 myfuns.py에 정의된 함수입니다.\n"
     ]
    },
    {
     "data": {
      "text/plain": [
       "[6, 8]"
      ]
     },
     "execution_count": 2,
     "metadata": {},
     "output_type": "execute_result"
    }
   ],
   "source": [
    "myfuns.vec2_add([1,2],[5,6])"
   ]
  },
  {
   "cell_type": "code",
   "execution_count": 3,
   "id": "c6365b47-436e-44af-a9d9-fdc3677d09f6",
   "metadata": {},
   "outputs": [
    {
     "data": {
      "text/plain": [
       "\u001b[1;31mType:\u001b[0m        module\n",
       "\u001b[1;31mString form:\u001b[0m <module 'myfuns' from 'C:\\\\Users\\\\koinu\\\\python2022\\\\myfuns.py'>\n",
       "\u001b[1;31mFile:\u001b[0m        c:\\users\\koinu\\python2022\\myfuns.py\n",
       "\u001b[1;31mDocstring:\u001b[0m   이것은 길이가 2인 벡터이 합 혹은 차를 구하는 모듈입니다. 202250926"
      ]
     },
     "metadata": {},
     "output_type": "display_data"
    }
   ],
   "source": [
    "myfuns?"
   ]
  },
  {
   "cell_type": "code",
   "execution_count": null,
   "id": "d3907dfa-dda5-4936-a777-4cdf79eea85f",
   "metadata": {},
   "outputs": [],
   "source": []
  }
 ],
 "metadata": {
  "kernelspec": {
   "display_name": "Python 3",
   "language": "python",
   "name": "python3"
  },
  "language_info": {
   "codemirror_mode": {
    "name": "ipython",
    "version": 3
   },
   "file_extension": ".py",
   "mimetype": "text/x-python",
   "name": "python",
   "nbconvert_exporter": "python",
   "pygments_lexer": "ipython3",
   "version": "3.7.16"
  },
  "toc": {
   "base_numbering": 1,
   "nav_menu": {},
   "number_sections": true,
   "sideBar": true,
   "skip_h1_title": false,
   "title_cell": "Table of Contents",
   "title_sidebar": "Contents",
   "toc_cell": false,
   "toc_position": {},
   "toc_section_display": true,
   "toc_window_display": false
  }
 },
 "nbformat": 4,
 "nbformat_minor": 5
}
