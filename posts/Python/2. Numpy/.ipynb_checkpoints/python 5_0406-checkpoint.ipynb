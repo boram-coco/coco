{
 "cells": [
  {
   "cell_type": "raw",
   "id": "b000176f-8401-471b-8653-d36520b0724c",
   "metadata": {},
   "source": [
    "---\n",
    "title: \"파이썬 5주차 (0406)\"\n",
    "author: \"김보람\"\n",
    "date: \"04/06/2022\"\n",
    "categories:\n",
    "  - numpy (선언, 브로드캐스팅, 수학연산, 인덱싱, reshape, 랜덤으로 생성, 행렬관련기능)\n",
    "---"
   ]
  },
  {
   "cell_type": "markdown",
   "id": "f0b5cced-87dc-4fdc-bec6-48c0007032b9",
   "metadata": {},
   "source": [
    "### import"
   ]
  },
  {
   "cell_type": "code",
   "execution_count": 2,
   "id": "77606dfa-2c87-462b-b7f9-3ebb141e96e9",
   "metadata": {},
   "outputs": [
    {
     "name": "stdout",
     "output_type": "stream",
     "text": [
      "Collecting numpy\n",
      "  Downloading numpy-1.24.1-cp39-cp39-win_amd64.whl (14.9 MB)\n",
      "     --------------------------------------- 14.9/14.9 MB 10.7 MB/s eta 0:00:00\n",
      "Installing collected packages: numpy\n",
      "Successfully installed numpy-1.24.1\n"
     ]
    }
   ],
   "source": [
    "!pip install numpy "
   ]
  },
  {
   "cell_type": "code",
   "execution_count": 3,
   "id": "84745161-0528-4637-b8af-5c9dfdacc3ae",
   "metadata": {},
   "outputs": [],
   "source": [
    "import numpy as np"
   ]
  },
  {
   "cell_type": "markdown",
   "id": "a95cd2d6-5b34-494c-8b27-b88bbb8e76a3",
   "metadata": {},
   "source": [
    "## 넘파이 공부 1단계"
   ]
  },
  {
   "cell_type": "markdown",
   "id": "fc33b369-2b90-49e3-86b3-d7daee72e6c4",
   "metadata": {},
   "source": [
    "### 선언"
   ]
  },
  {
   "cell_type": "code",
   "execution_count": 5,
   "id": "cdc13084-c7c0-4a3e-9fb1-c5ae049b6d5c",
   "metadata": {},
   "outputs": [
    {
     "data": {
      "text/plain": [
       "[1, 2, 3]"
      ]
     },
     "execution_count": 5,
     "metadata": {},
     "output_type": "execute_result"
    }
   ],
   "source": [
    "list([1,2,3])\n"
   ]
  },
  {
   "cell_type": "code",
   "execution_count": 6,
   "id": "b9fea95a-504d-4bee-a167-24a463dcfac2",
   "metadata": {},
   "outputs": [
    {
     "data": {
      "text/plain": [
       "[1, 2, 3]"
      ]
     },
     "execution_count": 6,
     "metadata": {},
     "output_type": "execute_result"
    }
   ],
   "source": [
    "[1,2,3]"
   ]
  },
  {
   "cell_type": "code",
   "execution_count": 7,
   "id": "cb30e1df-bb22-4398-96eb-fa1c52d4a27b",
   "metadata": {},
   "outputs": [],
   "source": [
    "a=np.array([1,2,3])  # list만들고 ndarray화 시킴\n",
    "l=[1,2,3]"
   ]
  },
  {
   "cell_type": "markdown",
   "id": "59497e1a-b52d-43e3-a4ea-4f637cf7400d",
   "metadata": {},
   "source": [
    "### 기본연산 브로드캐스팅"
   ]
  },
  {
   "cell_type": "code",
   "execution_count": 8,
   "id": "aa5570b3-62ec-4500-9008-67a0a9076ef6",
   "metadata": {},
   "outputs": [
    {
     "data": {
      "text/plain": [
       "array([1, 2, 3])"
      ]
     },
     "execution_count": 8,
     "metadata": {},
     "output_type": "execute_result"
    }
   ],
   "source": [
    "a"
   ]
  },
  {
   "cell_type": "code",
   "execution_count": 9,
   "id": "b35d2907-fe68-49b3-9f15-e2cd0a8aceb5",
   "metadata": {},
   "outputs": [
    {
     "data": {
      "text/plain": [
       "[1, 2, 3]"
      ]
     },
     "execution_count": 9,
     "metadata": {},
     "output_type": "execute_result"
    }
   ],
   "source": [
    "l"
   ]
  },
  {
   "cell_type": "code",
   "execution_count": 10,
   "id": "b0122837-2158-44ff-a00a-1c2c286ed562",
   "metadata": {},
   "outputs": [
    {
     "data": {
      "text/plain": [
       "array([2, 3, 4])"
      ]
     },
     "execution_count": 10,
     "metadata": {},
     "output_type": "execute_result"
    }
   ],
   "source": [
    "a+1 ## [1,2,3] + 1 = [2,3,4]"
   ]
  },
  {
   "cell_type": "code",
   "execution_count": 11,
   "id": "7c35365e-2ee8-44d0-9d78-4286687f365e",
   "metadata": {},
   "outputs": [
    {
     "ename": "TypeError",
     "evalue": "can only concatenate list (not \"int\") to list",
     "output_type": "error",
     "traceback": [
      "\u001b[1;31m---------------------------------------------------------------------------\u001b[0m",
      "\u001b[1;31mTypeError\u001b[0m                                 Traceback (most recent call last)",
      "Cell \u001b[1;32mIn[11], line 1\u001b[0m\n\u001b[1;32m----> 1\u001b[0m \u001b[43ml\u001b[49m\u001b[38;5;241;43m+\u001b[39;49m\u001b[38;5;241;43m1\u001b[39;49m\n",
      "\u001b[1;31mTypeError\u001b[0m: can only concatenate list (not \"int\") to list"
     ]
    }
   ],
   "source": [
    "l+1"
   ]
  },
  {
   "cell_type": "code",
   "execution_count": 12,
   "id": "4b2890fb-7948-491a-a217-27a45e704305",
   "metadata": {},
   "outputs": [
    {
     "data": {
      "text/plain": [
       "array([0, 0, 0])"
      ]
     },
     "execution_count": 12,
     "metadata": {},
     "output_type": "execute_result"
    }
   ],
   "source": [
    "a+np.array([-1,-2,-3])"
   ]
  },
  {
   "cell_type": "code",
   "execution_count": 13,
   "id": "97740fa4-7268-4f3f-bf55-26efc1ecff13",
   "metadata": {},
   "outputs": [
    {
     "data": {
      "text/plain": [
       "array([0, 0, 0])"
      ]
     },
     "execution_count": 13,
     "metadata": {},
     "output_type": "execute_result"
    }
   ],
   "source": [
    "a-a"
   ]
  },
  {
   "cell_type": "code",
   "execution_count": 15,
   "id": "08d20609-fafc-405e-83e3-08657fbc1b10",
   "metadata": {},
   "outputs": [
    {
     "ename": "TypeError",
     "evalue": "unsupported operand type(s) for -: 'list' and 'list'",
     "output_type": "error",
     "traceback": [
      "\u001b[1;31m---------------------------------------------------------------------------\u001b[0m",
      "\u001b[1;31mTypeError\u001b[0m                                 Traceback (most recent call last)",
      "Cell \u001b[1;32mIn[15], line 1\u001b[0m\n\u001b[1;32m----> 1\u001b[0m \u001b[43ml\u001b[49m\u001b[38;5;241;43m-\u001b[39;49m\u001b[43ml\u001b[49m  \u001b[38;5;66;03m# 리스트는 안됨\u001b[39;00m\n",
      "\u001b[1;31mTypeError\u001b[0m: unsupported operand type(s) for -: 'list' and 'list'"
     ]
    }
   ],
   "source": [
    "l-l  # 리스트는 안됨"
   ]
  },
  {
   "cell_type": "code",
   "execution_count": 16,
   "id": "5b53904e-fd2e-4ad4-8d74-3c5d11d1e962",
   "metadata": {},
   "outputs": [
    {
     "data": {
      "text/plain": [
       "array([2, 4, 6])"
      ]
     },
     "execution_count": 16,
     "metadata": {},
     "output_type": "execute_result"
    }
   ],
   "source": [
    "a*2"
   ]
  },
  {
   "cell_type": "code",
   "execution_count": 17,
   "id": "ce0756b0-9b05-4f1a-97b3-da920b75cab4",
   "metadata": {},
   "outputs": [
    {
     "data": {
      "text/plain": [
       "[1, 2, 3, 1, 2, 3]"
      ]
     },
     "execution_count": 17,
     "metadata": {},
     "output_type": "execute_result"
    }
   ],
   "source": [
    "l*2"
   ]
  },
  {
   "cell_type": "code",
   "execution_count": 18,
   "id": "6dd18a4c-78cb-466e-8268-7e730da11975",
   "metadata": {},
   "outputs": [
    {
     "data": {
      "text/plain": [
       "array([0.5, 1. , 1.5])"
      ]
     },
     "execution_count": 18,
     "metadata": {},
     "output_type": "execute_result"
    }
   ],
   "source": [
    "a/2"
   ]
  },
  {
   "cell_type": "code",
   "execution_count": 19,
   "id": "f79ec45f-ae57-4ce5-8c81-22e0ca0db268",
   "metadata": {},
   "outputs": [
    {
     "ename": "TypeError",
     "evalue": "unsupported operand type(s) for /: 'list' and 'int'",
     "output_type": "error",
     "traceback": [
      "\u001b[1;31m---------------------------------------------------------------------------\u001b[0m",
      "\u001b[1;31mTypeError\u001b[0m                                 Traceback (most recent call last)",
      "Cell \u001b[1;32mIn[19], line 1\u001b[0m\n\u001b[1;32m----> 1\u001b[0m \u001b[43ml\u001b[49m\u001b[38;5;241;43m/\u001b[39;49m\u001b[38;5;241;43m2\u001b[39;49m\n",
      "\u001b[1;31mTypeError\u001b[0m: unsupported operand type(s) for /: 'list' and 'int'"
     ]
    }
   ],
   "source": [
    "l/2"
   ]
  },
  {
   "cell_type": "code",
   "execution_count": 20,
   "id": "ee37bfbd-e347-4427-b251-97a04195b92c",
   "metadata": {},
   "outputs": [
    {
     "data": {
      "text/plain": [
       "array([1, 4, 9])"
      ]
     },
     "execution_count": 20,
     "metadata": {},
     "output_type": "execute_result"
    }
   ],
   "source": [
    "a**2"
   ]
  },
  {
   "cell_type": "code",
   "execution_count": 21,
   "id": "d54cb915-ea0f-46bf-b563-44222ff47a9b",
   "metadata": {},
   "outputs": [
    {
     "ename": "TypeError",
     "evalue": "unsupported operand type(s) for ** or pow(): 'list' and 'int'",
     "output_type": "error",
     "traceback": [
      "\u001b[1;31m---------------------------------------------------------------------------\u001b[0m",
      "\u001b[1;31mTypeError\u001b[0m                                 Traceback (most recent call last)",
      "Cell \u001b[1;32mIn[21], line 1\u001b[0m\n\u001b[1;32m----> 1\u001b[0m \u001b[43ml\u001b[49m\u001b[38;5;241;43m*\u001b[39;49m\u001b[38;5;241;43m*\u001b[39;49m\u001b[38;5;241;43m2\u001b[39;49m\n",
      "\u001b[1;31mTypeError\u001b[0m: unsupported operand type(s) for ** or pow(): 'list' and 'int'"
     ]
    }
   ],
   "source": [
    "l**2"
   ]
  },
  {
   "cell_type": "code",
   "execution_count": 22,
   "id": "a5aed701-c894-4844-a6a5-42909deaf5df",
   "metadata": {},
   "outputs": [
    {
     "data": {
      "text/plain": [
       "array([1, 0, 1], dtype=int32)"
      ]
     },
     "execution_count": 22,
     "metadata": {},
     "output_type": "execute_result"
    }
   ],
   "source": [
    "a%2   # %2 = 2로 나눈 나머지 리턴"
   ]
  },
  {
   "cell_type": "code",
   "execution_count": 23,
   "id": "1edaf9a3-1376-4292-ab3a-7057ea872102",
   "metadata": {},
   "outputs": [
    {
     "ename": "TypeError",
     "evalue": "unsupported operand type(s) for %: 'list' and 'int'",
     "output_type": "error",
     "traceback": [
      "\u001b[1;31m---------------------------------------------------------------------------\u001b[0m",
      "\u001b[1;31mTypeError\u001b[0m                                 Traceback (most recent call last)",
      "Cell \u001b[1;32mIn[23], line 1\u001b[0m\n\u001b[1;32m----> 1\u001b[0m \u001b[43ml\u001b[49m\u001b[38;5;241;43m%\u001b[39;49m\u001b[38;5;241;43m2\u001b[39;49m\n",
      "\u001b[1;31mTypeError\u001b[0m: unsupported operand type(s) for %: 'list' and 'int'"
     ]
    }
   ],
   "source": [
    "l%2"
   ]
  },
  {
   "cell_type": "markdown",
   "id": "3c8dd6d5-5d47-40ba-b678-0a69c57623d3",
   "metadata": {},
   "source": [
    "### 기타 수학연산 지원"
   ]
  },
  {
   "cell_type": "code",
   "execution_count": 25,
   "id": "d4f6b2b1-e485-4ac1-af17-634664506747",
   "metadata": {},
   "outputs": [
    {
     "data": {
      "text/plain": [
       "1.4142135623730951"
      ]
     },
     "execution_count": 25,
     "metadata": {},
     "output_type": "execute_result"
    }
   ],
   "source": [
    "np.sqrt(2)"
   ]
  },
  {
   "cell_type": "code",
   "execution_count": 26,
   "id": "11555fb9-4dcc-45a5-a6d1-9cd7e8edb8d0",
   "metadata": {},
   "outputs": [
    {
     "data": {
      "text/plain": [
       "(array([1.        , 1.41421356, 1.73205081]),\n",
       " array([1.        , 1.41421356, 1.73205081]))"
      ]
     },
     "execution_count": 26,
     "metadata": {},
     "output_type": "execute_result"
    }
   ],
   "source": [
    "np.sqrt(a), np.sqrt(l)"
   ]
  },
  {
   "cell_type": "code",
   "execution_count": 27,
   "id": "36ecdf66-f930-4f96-bf6d-cc1857a7cf1b",
   "metadata": {},
   "outputs": [
    {
     "data": {
      "text/plain": [
       "(array([0.        , 0.69314718, 1.09861229]),\n",
       " array([0.        , 0.69314718, 1.09861229]))"
      ]
     },
     "execution_count": 27,
     "metadata": {},
     "output_type": "execute_result"
    }
   ],
   "source": [
    "np.log(a), np.log(l)"
   ]
  },
  {
   "cell_type": "code",
   "execution_count": 28,
   "id": "7a4bcacf-e477-4b98-a784-41bcba34be57",
   "metadata": {},
   "outputs": [
    {
     "data": {
      "text/plain": [
       "(array([ 2.71828183,  7.3890561 , 20.08553692]),\n",
       " array([ 2.71828183,  7.3890561 , 20.08553692]))"
      ]
     },
     "execution_count": 28,
     "metadata": {},
     "output_type": "execute_result"
    }
   ],
   "source": [
    "np.exp(a), np.exp(l)"
   ]
  },
  {
   "cell_type": "code",
   "execution_count": 29,
   "id": "95fb21a2-6019-4d9e-bf6e-51ad1bdb53b6",
   "metadata": {},
   "outputs": [
    {
     "data": {
      "text/plain": [
       "(array([0.84147098, 0.90929743, 0.14112001]),\n",
       " array([0.84147098, 0.90929743, 0.14112001]))"
      ]
     },
     "execution_count": 29,
     "metadata": {},
     "output_type": "execute_result"
    }
   ],
   "source": [
    "np.sin(a), np.sin(l)"
   ]
  },
  {
   "cell_type": "markdown",
   "id": "1f1bdf7a-1293-4bf5-8e87-821100e90a60",
   "metadata": {},
   "source": [
    "## 넘파이 공부 2단계"
   ]
  },
  {
   "cell_type": "markdown",
   "id": "92ddcab7-7575-49e7-9350-b6190def29e3",
   "metadata": {},
   "source": [
    "### 인덱싱 1차원"
   ]
  },
  {
   "cell_type": "markdown",
   "id": "4937333a-0a76-43af-a942-bba64ec6a01a",
   "metadata": {},
   "source": [
    "`-` 선언"
   ]
  },
  {
   "cell_type": "code",
   "execution_count": 31,
   "id": "899dba37-3090-42d6-9563-7cd11b772b44",
   "metadata": {},
   "outputs": [],
   "source": [
    "l=[11,22,33,44,55,66]\n",
    "a=np.array(l)"
   ]
  },
  {
   "cell_type": "markdown",
   "id": "ab3b9078-48ee-47dd-9b10-9ad9d8cd02f6",
   "metadata": {},
   "source": [
    "`-`  인덱스로 접근"
   ]
  },
  {
   "cell_type": "code",
   "execution_count": 32,
   "id": "88b48d93-c4ff-4b51-8a80-9fa8b3d7fd43",
   "metadata": {},
   "outputs": [
    {
     "data": {
      "text/plain": [
       "(11, 22, 33, 44, 55, 66)"
      ]
     },
     "execution_count": 32,
     "metadata": {},
     "output_type": "execute_result"
    }
   ],
   "source": [
    "l[0], l[1], l[2], l[3], l[4], l[5]"
   ]
  },
  {
   "cell_type": "code",
   "execution_count": 33,
   "id": "ad70a3a6-c9cf-4a62-b47c-4d67cbd55abf",
   "metadata": {},
   "outputs": [
    {
     "data": {
      "text/plain": [
       "(11, 22, 33, 44, 55, 66)"
      ]
     },
     "execution_count": 33,
     "metadata": {},
     "output_type": "execute_result"
    }
   ],
   "source": [
    "a[0], a[1], a[2], a[3], a[4], a[5]"
   ]
  },
  {
   "cell_type": "markdown",
   "id": "7003bac8-d40f-4aa4-98b7-73089e48a2a0",
   "metadata": {},
   "source": [
    "`-` `:` 이용 (슬라이싱)"
   ]
  },
  {
   "cell_type": "code",
   "execution_count": 34,
   "id": "fea2eec3-3c6a-49e7-8d6c-fe4bf7c72305",
   "metadata": {},
   "outputs": [
    {
     "data": {
      "text/plain": [
       "[33, 44]"
      ]
     },
     "execution_count": 34,
     "metadata": {},
     "output_type": "execute_result"
    }
   ],
   "source": [
    "l[2:4] # index 2에서 시작, index 4는 포함하지 않음"
   ]
  },
  {
   "cell_type": "code",
   "execution_count": 35,
   "id": "5840b51b-4034-41a3-bd10-80e6e4342ac9",
   "metadata": {},
   "outputs": [
    {
     "data": {
      "text/plain": [
       "array([33, 44])"
      ]
     },
     "execution_count": 35,
     "metadata": {},
     "output_type": "execute_result"
    }
   ],
   "source": [
    "a[2:4]"
   ]
  },
  {
   "cell_type": "markdown",
   "id": "92eb9643-cc11-4c5e-8b57-ca0fee2b7ce9",
   "metadata": {},
   "source": [
    "`-` 점수배열에 의한 익덱싱"
   ]
  },
  {
   "cell_type": "code",
   "execution_count": 42,
   "id": "e92f4e88-0c82-4e19-b305-488d9751fa57",
   "metadata": {},
   "outputs": [
    {
     "data": {
      "text/plain": [
       "array([11, 22, 33, 44, 55, 66])"
      ]
     },
     "execution_count": 42,
     "metadata": {},
     "output_type": "execute_result"
    }
   ],
   "source": [
    "a"
   ]
  },
  {
   "cell_type": "code",
   "execution_count": 43,
   "id": "f4493348-c184-4e0a-920b-70cfd9d3e312",
   "metadata": {},
   "outputs": [
    {
     "data": {
      "text/plain": [
       "array([11, 33, 55])"
      ]
     },
     "execution_count": 43,
     "metadata": {},
     "output_type": "execute_result"
    }
   ],
   "source": [
    "  a[[0,2,4]]  # index=0, index=2, index=4 에 해당하는 원소를 뽑고 싶다 -> 가능"
   ]
  },
  {
   "cell_type": "code",
   "execution_count": 44,
   "id": "f0813fae-574d-47b5-a160-55165bc440c3",
   "metadata": {},
   "outputs": [
    {
     "ename": "TypeError",
     "evalue": "list indices must be integers or slices, not list",
     "output_type": "error",
     "traceback": [
      "\u001b[1;31m---------------------------------------------------------------------------\u001b[0m",
      "\u001b[1;31mTypeError\u001b[0m                                 Traceback (most recent call last)",
      "Cell \u001b[1;32mIn[44], line 1\u001b[0m\n\u001b[1;32m----> 1\u001b[0m \u001b[43ml\u001b[49m\u001b[43m[\u001b[49m\u001b[43m[\u001b[49m\u001b[38;5;241;43m0\u001b[39;49m\u001b[43m,\u001b[49m\u001b[38;5;241;43m2\u001b[39;49m\u001b[43m,\u001b[49m\u001b[38;5;241;43m4\u001b[39;49m\u001b[43m]\u001b[49m\u001b[43m]\u001b[49m    \u001b[38;5;66;03m# 리스트는 불가능\u001b[39;00m\n",
      "\u001b[1;31mTypeError\u001b[0m: list indices must be integers or slices, not list"
     ]
    }
   ],
   "source": [
    " l[[0,2,4]]    # 리스트는 불가능"
   ]
  },
  {
   "cell_type": "markdown",
   "id": "abee8124-97e9-400b-a0ce-a194706d1867",
   "metadata": {},
   "source": [
    "`-` 부울값에 의한 인덱싱"
   ]
  },
  {
   "cell_type": "code",
   "execution_count": 45,
   "id": "9ab06483-d2a5-4bf3-9616-f7077e08c67b",
   "metadata": {},
   "outputs": [
    {
     "data": {
      "text/plain": [
       "array([11, 22, 33, 44, 55, 66])"
      ]
     },
     "execution_count": 45,
     "metadata": {},
     "output_type": "execute_result"
    }
   ],
   "source": [
    "a"
   ]
  },
  {
   "cell_type": "code",
   "execution_count": 46,
   "id": "0891a94c-42b9-4041-8417-d6f3c659e6f1",
   "metadata": {},
   "outputs": [
    {
     "data": {
      "text/plain": [
       "array([11, 22, 44])"
      ]
     },
     "execution_count": 46,
     "metadata": {},
     "output_type": "execute_result"
    }
   ],
   "source": [
    "a[[True, True, False, True, False, False]]"
   ]
  },
  {
   "cell_type": "markdown",
   "id": "1364abdb-0089-44ba-ae75-02f6a28efa47",
   "metadata": {},
   "source": [
    "응용하면?"
   ]
  },
  {
   "cell_type": "code",
   "execution_count": 47,
   "id": "afbe7e9b-ce01-4684-9178-dc9494ce184d",
   "metadata": {},
   "outputs": [
    {
     "data": {
      "text/plain": [
       "array([ True,  True, False, False, False, False])"
      ]
     },
     "execution_count": 47,
     "metadata": {},
     "output_type": "execute_result"
    }
   ],
   "source": [
    "a<33"
   ]
  },
  {
   "cell_type": "code",
   "execution_count": 49,
   "id": "071436d1-a08f-4f17-ab4c-db6fcff3caf7",
   "metadata": {},
   "outputs": [
    {
     "data": {
      "text/plain": [
       "array([11, 22])"
      ]
     },
     "execution_count": 49,
     "metadata": {},
     "output_type": "execute_result"
    }
   ],
   "source": [
    "a[[ True,  True, False, False, False, False]]"
   ]
  },
  {
   "cell_type": "code",
   "execution_count": 48,
   "id": "b1015ba0-e9b8-4ed6-ab23-1f5e733227be",
   "metadata": {},
   "outputs": [
    {
     "data": {
      "text/plain": [
       "array([11, 22])"
      ]
     },
     "execution_count": 48,
     "metadata": {},
     "output_type": "execute_result"
    }
   ],
   "source": [
    "a[a<33]"
   ]
  },
  {
   "cell_type": "markdown",
   "id": "66918e97-1a7f-490d-bb50-c8dafef8fc35",
   "metadata": {},
   "source": [
    "리스트는 불가능"
   ]
  },
  {
   "cell_type": "code",
   "execution_count": 50,
   "id": "f93bdbd3-df57-422f-b578-1bd27730997c",
   "metadata": {},
   "outputs": [
    {
     "ename": "TypeError",
     "evalue": "'<' not supported between instances of 'list' and 'int'",
     "output_type": "error",
     "traceback": [
      "\u001b[1;31m---------------------------------------------------------------------------\u001b[0m",
      "\u001b[1;31mTypeError\u001b[0m                                 Traceback (most recent call last)",
      "Cell \u001b[1;32mIn[50], line 1\u001b[0m\n\u001b[1;32m----> 1\u001b[0m \u001b[43ml\u001b[49m\u001b[38;5;241;43m<\u001b[39;49m\u001b[38;5;241;43m33\u001b[39;49m\n",
      "\u001b[1;31mTypeError\u001b[0m: '<' not supported between instances of 'list' and 'int'"
     ]
    }
   ],
   "source": [
    "l<33"
   ]
  },
  {
   "cell_type": "code",
   "execution_count": 51,
   "id": "8b2aa4ea-1398-46c0-8c85-c41110c68fc5",
   "metadata": {},
   "outputs": [
    {
     "ename": "TypeError",
     "evalue": "list indices must be integers or slices, not list",
     "output_type": "error",
     "traceback": [
      "\u001b[1;31m---------------------------------------------------------------------------\u001b[0m",
      "\u001b[1;31mTypeError\u001b[0m                                 Traceback (most recent call last)",
      "Cell \u001b[1;32mIn[51], line 1\u001b[0m\n\u001b[1;32m----> 1\u001b[0m \u001b[43ml\u001b[49m\u001b[43m[\u001b[49m\u001b[43m[\u001b[49m\u001b[38;5;28;43;01mTrue\u001b[39;49;00m\u001b[43m,\u001b[49m\u001b[43m \u001b[49m\u001b[38;5;28;43;01mTrue\u001b[39;49;00m\u001b[43m,\u001b[49m\u001b[43m \u001b[49m\u001b[38;5;28;43;01mFalse\u001b[39;49;00m\u001b[43m,\u001b[49m\u001b[43m \u001b[49m\u001b[38;5;28;43;01mTrue\u001b[39;49;00m\u001b[43m,\u001b[49m\u001b[43m \u001b[49m\u001b[38;5;28;43;01mFalse\u001b[39;49;00m\u001b[43m,\u001b[49m\u001b[43m \u001b[49m\u001b[38;5;28;43;01mFalse\u001b[39;49;00m\u001b[43m]\u001b[49m\u001b[43m]\u001b[49m\n",
      "\u001b[1;31mTypeError\u001b[0m: list indices must be integers or slices, not list"
     ]
    }
   ],
   "source": [
    "l[[True, True, False, True, False, False]]"
   ]
  },
  {
   "cell_type": "markdown",
   "id": "38ef096f-4dbd-49e4-81c6-f3f70646feb7",
   "metadata": {},
   "source": [
    "### 인덱싱 2차원"
   ]
  },
  {
   "cell_type": "markdown",
   "id": "e004418a-a830-4acc-9ca0-f1628be6be0f",
   "metadata": {},
   "source": [
    "`-` 중첩리스트와 2차원 np.array 선언"
   ]
  },
  {
   "cell_type": "code",
   "execution_count": 53,
   "id": "35533477-9227-425f-be84-30ad4c78b80b",
   "metadata": {},
   "outputs": [],
   "source": [
    "A = [[1,2,3,4],[-1,-2,-3,-4],[5,6,7,8],[-5,-6,-7,-8]]\n",
    "A2 = np.array(A)"
   ]
  },
  {
   "cell_type": "code",
   "execution_count": 54,
   "id": "46fb18e3-03a2-410a-bfc3-94f1b039c2c4",
   "metadata": {},
   "outputs": [
    {
     "data": {
      "text/plain": [
       "array([[ 1,  2,  3,  4],\n",
       "       [-1, -2, -3, -4],\n",
       "       [ 5,  6,  7,  8],\n",
       "       [-5, -6, -7, -8]])"
      ]
     },
     "execution_count": 54,
     "metadata": {},
     "output_type": "execute_result"
    }
   ],
   "source": [
    "A2"
   ]
  },
  {
   "cell_type": "code",
   "execution_count": 55,
   "id": "15db1579-3f20-4067-afd9-f47e0b4cc8cb",
   "metadata": {},
   "outputs": [
    {
     "data": {
      "text/plain": [
       "[[1, 2, 3, 4], [-1, -2, -3, -4], [5, 6, 7, 8], [-5, -6, -7, -8]]"
      ]
     },
     "execution_count": 55,
     "metadata": {},
     "output_type": "execute_result"
    }
   ],
   "source": [
    "A"
   ]
  },
  {
   "cell_type": "markdown",
   "id": "2103e329-7c28-49c7-a441-f963d423e533",
   "metadata": {},
   "source": [
    "`-` A의 원소 인덱싱"
   ]
  },
  {
   "cell_type": "code",
   "execution_count": 56,
   "id": "3ed89f74-307a-4866-99af-eff7579cf47a",
   "metadata": {},
   "outputs": [
    {
     "data": {
      "text/plain": [
       "1"
      ]
     },
     "execution_count": 56,
     "metadata": {},
     "output_type": "execute_result"
    }
   ],
   "source": [
    "A[0][0] # A의 (1,1)의 원소"
   ]
  },
  {
   "cell_type": "code",
   "execution_count": 60,
   "id": "c46a3367-ad2e-4480-83da-7082dbf21740",
   "metadata": {},
   "outputs": [
    {
     "data": {
      "text/plain": [
       "-3"
      ]
     },
     "execution_count": 60,
     "metadata": {},
     "output_type": "execute_result"
    }
   ],
   "source": [
    "A[1][2] # A의 (2,3)의 원소"
   ]
  },
  {
   "cell_type": "code",
   "execution_count": 61,
   "id": "a1e1984a-2617-4e71-95bc-2f53441ff6a6",
   "metadata": {},
   "outputs": [
    {
     "data": {
      "text/plain": [
       "-5"
      ]
     },
     "execution_count": 61,
     "metadata": {},
     "output_type": "execute_result"
    }
   ],
   "source": [
    "A[-1][0] # A의 (4,1)의 원소"
   ]
  },
  {
   "cell_type": "markdown",
   "id": "395e1bcf-d83a-47ac-b1f8-9e3e5b53b862",
   "metadata": {},
   "source": [
    "`-` A2의 원소 인덱싱"
   ]
  },
  {
   "cell_type": "code",
   "execution_count": 59,
   "id": "0fb15881-c7d7-4c72-b013-e7f7ff8b31d0",
   "metadata": {},
   "outputs": [
    {
     "data": {
      "text/plain": [
       "1"
      ]
     },
     "execution_count": 59,
     "metadata": {},
     "output_type": "execute_result"
    }
   ],
   "source": [
    "A2[0][0]"
   ]
  },
  {
   "cell_type": "code",
   "execution_count": 62,
   "id": "e2fe5966-1ad1-4ded-aa7f-e6275f878a27",
   "metadata": {},
   "outputs": [
    {
     "data": {
      "text/plain": [
       "-3"
      ]
     },
     "execution_count": 62,
     "metadata": {},
     "output_type": "execute_result"
    }
   ],
   "source": [
    "A2[1][2] # A2의 (2,3)의 원소"
   ]
  },
  {
   "cell_type": "code",
   "execution_count": 63,
   "id": "cbbd6842-fbce-41d6-b5eb-2937f3566106",
   "metadata": {},
   "outputs": [
    {
     "data": {
      "text/plain": [
       "-5"
      ]
     },
     "execution_count": 63,
     "metadata": {},
     "output_type": "execute_result"
    }
   ],
   "source": [
    "A2[-1][0] # A2의 (4,1)의 원소"
   ]
  },
  {
   "cell_type": "markdown",
   "id": "e525700c-db4d-4e1f-9711-924732466a75",
   "metadata": {},
   "source": [
    "`-` A2에서만 되는 기술 (넘파이에서 제시하는 신기술, R에서는 기본적으로 쓰던것, 이중list는 불가능)"
   ]
  },
  {
   "cell_type": "code",
   "execution_count": 64,
   "id": "ccbcdecb-2ea4-42cc-aed8-2e173c16def4",
   "metadata": {},
   "outputs": [
    {
     "data": {
      "text/plain": [
       "1"
      ]
     },
     "execution_count": 64,
     "metadata": {},
     "output_type": "execute_result"
    }
   ],
   "source": [
    "A2[0,0]"
   ]
  },
  {
   "cell_type": "code",
   "execution_count": 65,
   "id": "d4a8b6f6-6025-4c34-a729-d79f3c2fb005",
   "metadata": {},
   "outputs": [
    {
     "data": {
      "text/plain": [
       "-3"
      ]
     },
     "execution_count": 65,
     "metadata": {},
     "output_type": "execute_result"
    }
   ],
   "source": [
    "A2[1,2] # A2의 (2,3)의 원소"
   ]
  },
  {
   "cell_type": "code",
   "execution_count": 66,
   "id": "3d4a8092-6fad-415a-846d-de70900f5756",
   "metadata": {},
   "outputs": [
    {
     "data": {
      "text/plain": [
       "-5"
      ]
     },
     "execution_count": 66,
     "metadata": {},
     "output_type": "execute_result"
    }
   ],
   "source": [
    "A2[-1,0] # A2의 (4,1)의 원소"
   ]
  },
  {
   "cell_type": "markdown",
   "id": "d99a1415-efc7-4111-8826-1950e83c70c8",
   "metadata": {},
   "source": [
    "`-` 정수배열에 의한 인덱싱 & 슬라이싱!"
   ]
  },
  {
   "cell_type": "code",
   "execution_count": 67,
   "id": "6ac93815-3257-4994-8a36-bb5eca33f584",
   "metadata": {},
   "outputs": [
    {
     "data": {
      "text/plain": [
       "array([[ 1,  2,  3,  4],\n",
       "       [-1, -2, -3, -4],\n",
       "       [ 5,  6,  7,  8],\n",
       "       [-5, -6, -7, -8]])"
      ]
     },
     "execution_count": 67,
     "metadata": {},
     "output_type": "execute_result"
    }
   ],
   "source": [
    "A2"
   ]
  },
  {
   "cell_type": "code",
   "execution_count": 68,
   "id": "edd422eb-0245-4209-8f84-0bbb19191204",
   "metadata": {},
   "outputs": [
    {
     "data": {
      "text/plain": [
       "array([1, 2])"
      ]
     },
     "execution_count": 68,
     "metadata": {},
     "output_type": "execute_result"
    }
   ],
   "source": [
    "A2[0,0:2]   # 1행 1열, 1행 2열"
   ]
  },
  {
   "cell_type": "code",
   "execution_count": 69,
   "id": "2c8cc645-b2a6-4bcf-bbf1-0a246da75fdb",
   "metadata": {},
   "outputs": [
    {
     "data": {
      "text/plain": [
       "array([1, 2, 3, 4])"
      ]
     },
     "execution_count": 69,
     "metadata": {},
     "output_type": "execute_result"
    }
   ],
   "source": [
    "A2[0,:]  # 1행"
   ]
  },
  {
   "cell_type": "code",
   "execution_count": 73,
   "id": "09ebc8cd-dede-4028-9fca-75c89d31a3b8",
   "metadata": {},
   "outputs": [
    {
     "data": {
      "text/plain": [
       "array([1, 2, 3, 4])"
      ]
     },
     "execution_count": 73,
     "metadata": {},
     "output_type": "execute_result"
    }
   ],
   "source": [
    "A2[0]  # 1행"
   ]
  },
  {
   "cell_type": "code",
   "execution_count": 71,
   "id": "d7ae59e5-85c8-43b6-8155-7dc33fecb58b",
   "metadata": {},
   "outputs": [
    {
     "data": {
      "text/plain": [
       "array([[1, 2, 3, 4],\n",
       "       [5, 6, 7, 8]])"
      ]
     },
     "execution_count": 71,
     "metadata": {},
     "output_type": "execute_result"
    }
   ],
   "source": [
    "A2[[0,2],:]   # 1행, 3행"
   ]
  },
  {
   "cell_type": "code",
   "execution_count": 75,
   "id": "93ef2bf6-5bc8-4dac-b5da-7a0e0788ad5e",
   "metadata": {},
   "outputs": [
    {
     "data": {
      "text/plain": [
       "array([[1, 2, 3, 4],\n",
       "       [5, 6, 7, 8]])"
      ]
     },
     "execution_count": 75,
     "metadata": {},
     "output_type": "execute_result"
    }
   ],
   "source": [
    "A2[[0,2]]   # 1행, 3행"
   ]
  },
  {
   "cell_type": "code",
   "execution_count": 77,
   "id": "10ecbef2-21c4-44ec-b9f4-998cbb74d5eb",
   "metadata": {},
   "outputs": [
    {
     "data": {
      "text/plain": [
       "array([ 1, -1,  5, -5])"
      ]
     },
     "execution_count": 77,
     "metadata": {},
     "output_type": "execute_result"
    }
   ],
   "source": [
    "A2[:,0] # 1열"
   ]
  },
  {
   "cell_type": "code",
   "execution_count": 78,
   "id": "22b2a603-1a88-4d9b-8438-cdc616eaf11c",
   "metadata": {},
   "outputs": [
    {
     "data": {
      "text/plain": [
       "array([[ 1],\n",
       "       [-1],\n",
       "       [ 5],\n",
       "       [-5]])"
      ]
     },
     "execution_count": 78,
     "metadata": {},
     "output_type": "execute_result"
    }
   ],
   "source": [
    "A2[:,[0]] # 1열"
   ]
  },
  {
   "cell_type": "code",
   "execution_count": 79,
   "id": "0693685d-2dfe-49e4-a4ee-a202040bb3f6",
   "metadata": {},
   "outputs": [
    {
     "data": {
      "text/plain": [
       "array([[ 1,  3],\n",
       "       [-1, -3],\n",
       "       [ 5,  7],\n",
       "       [-5, -7]])"
      ]
     },
     "execution_count": 79,
     "metadata": {},
     "output_type": "execute_result"
    }
   ],
   "source": [
    "A2[:,[0,2]] # 1열, 3열"
   ]
  },
  {
   "cell_type": "code",
   "execution_count": 81,
   "id": "239b0fc7-12a5-4a73-a643-c384bee522e3",
   "metadata": {},
   "outputs": [
    {
     "data": {
      "text/plain": [
       "array([[ 1,  3],\n",
       "       [-1, -3]])"
      ]
     },
     "execution_count": 81,
     "metadata": {},
     "output_type": "execute_result"
    }
   ],
   "source": [
    "A2[0:2,[0,2]]  # 1행-2행 / 1열-3열"
   ]
  },
  {
   "cell_type": "markdown",
   "id": "f59e4e41-4741-4fda-94d0-ef7e84e86b35",
   "metadata": {},
   "source": [
    "### 1차원 배열의 선언"
   ]
  },
  {
   "cell_type": "markdown",
   "id": "f6c7ad67-ef0f-4102-b428-20d5cd6e226c",
   "metadata": {},
   "source": [
    "\n",
    "`-` 리스트나 튜플을 선언하고 형변환"
   ]
  },
  {
   "cell_type": "code",
   "execution_count": 82,
   "id": "d8837afa-eaac-4992-a5e1-42163b2ddcc5",
   "metadata": {},
   "outputs": [
    {
     "data": {
      "text/plain": [
       "array([1, 2, 3])"
      ]
     },
     "execution_count": 82,
     "metadata": {},
     "output_type": "execute_result"
    }
   ],
   "source": [
    "np.array((1,2,3)) # 튜플->넘파이어레이"
   ]
  },
  {
   "cell_type": "code",
   "execution_count": 83,
   "id": "4d354f81-672d-42b8-92b2-6d2cc7a8f475",
   "metadata": {},
   "outputs": [
    {
     "data": {
      "text/plain": [
       "array([1, 2, 3])"
      ]
     },
     "execution_count": 83,
     "metadata": {},
     "output_type": "execute_result"
    }
   ],
   "source": [
    "np.array([1,2,3]) # 리스트->넘파이어레이"
   ]
  },
  {
   "cell_type": "markdown",
   "id": "30614301-b022-43fd-b628-0829404738b9",
   "metadata": {},
   "source": [
    "`-` range()를 이용해서 선언하고 형변환"
   ]
  },
  {
   "cell_type": "code",
   "execution_count": 85,
   "id": "4d02cfc0-596c-4b29-b4da-e50ec1bd8c76",
   "metadata": {},
   "outputs": [
    {
     "data": {
      "text/plain": [
       "array([0, 1, 2, 3, 4, 5, 6, 7, 8, 9])"
      ]
     },
     "execution_count": 85,
     "metadata": {},
     "output_type": "execute_result"
    }
   ],
   "source": [
    "np.array(range(10))  # range(10)->넘파이어레이"
   ]
  },
  {
   "cell_type": "markdown",
   "id": "bbef4ec5-3b2a-4f7e-b700-7f99ce9a37cf",
   "metadata": {},
   "source": [
    "`-` np.zeros, np.ones"
   ]
  },
  {
   "cell_type": "code",
   "execution_count": 88,
   "id": "dbdba1e0-1d85-49c1-9a81-80ddc71e74ca",
   "metadata": {},
   "outputs": [
    {
     "data": {
      "text/plain": [
       "array([0., 0., 0.])"
      ]
     },
     "execution_count": 88,
     "metadata": {},
     "output_type": "execute_result"
    }
   ],
   "source": [
    "np.zeros(3)"
   ]
  },
  {
   "cell_type": "code",
   "execution_count": 89,
   "id": "058eb8cf-3065-4670-b8de-c352fcb12b9a",
   "metadata": {},
   "outputs": [
    {
     "data": {
      "text/plain": [
       "array([1., 1., 1., 1.])"
      ]
     },
     "execution_count": 89,
     "metadata": {},
     "output_type": "execute_result"
    }
   ],
   "source": [
    "np.ones(4)"
   ]
  },
  {
   "cell_type": "markdown",
   "id": "5b70a2cb-82d5-4a2b-a60c-e260fef5c6a5",
   "metadata": {},
   "source": [
    "`-` np.linspace"
   ]
  },
  {
   "cell_type": "code",
   "execution_count": 91,
   "id": "70d90fd5-f802-48d5-a2ab-b2bcbdfe9d9b",
   "metadata": {},
   "outputs": [
    {
     "data": {
      "text/plain": [
       "array([0.        , 0.09090909, 0.18181818, 0.27272727, 0.36363636,\n",
       "       0.45454545, 0.54545455, 0.63636364, 0.72727273, 0.81818182,\n",
       "       0.90909091, 1.        ])"
      ]
     },
     "execution_count": 91,
     "metadata": {},
     "output_type": "execute_result"
    }
   ],
   "source": [
    "np.linspace(0,1,12)   # 0부터 1까지 12개로 쪼개기   (양끝점 모두 포함)"
   ]
  },
  {
   "cell_type": "code",
   "execution_count": 93,
   "id": "ef853bd2-5df2-4027-8b67-ec9e6aa6e141",
   "metadata": {},
   "outputs": [
    {
     "data": {
      "text/plain": [
       "12"
      ]
     },
     "execution_count": 93,
     "metadata": {},
     "output_type": "execute_result"
    }
   ],
   "source": [
    "len(np.linspace(0,1,12))"
   ]
  },
  {
   "cell_type": "markdown",
   "id": "81302503-fbfd-4d46-a318-20d7fb81032a",
   "metadata": {},
   "source": [
    "`-` np.arange"
   ]
  },
  {
   "cell_type": "code",
   "execution_count": 94,
   "id": "3ee6ccf9-f653-4460-a7cb-709323236d79",
   "metadata": {},
   "outputs": [
    {
     "data": {
      "text/plain": [
       "array([0, 1, 2, 3, 4])"
      ]
     },
     "execution_count": 94,
     "metadata": {},
     "output_type": "execute_result"
    }
   ],
   "source": [
    "np.arange(5)  #np.array(range(5))"
   ]
  },
  {
   "cell_type": "code",
   "execution_count": 95,
   "id": "e94858b0-66ed-4294-a82f-7abf0ddba147",
   "metadata": {},
   "outputs": [
    {
     "data": {
      "text/plain": [
       "array([1, 2, 3, 4, 5])"
      ]
     },
     "execution_count": 95,
     "metadata": {},
     "output_type": "execute_result"
    }
   ],
   "source": [
    "np.arange(1,6)   #np.array(range(1,6))"
   ]
  },
  {
   "cell_type": "markdown",
   "id": "cd97e954-b107-4d1a-922c-0b53bf3b2960",
   "metadata": {},
   "source": [
    "### reshape"
   ]
  },
  {
   "cell_type": "markdown",
   "id": "f0f6ce4b-69d4-4efd-8f9a-10b9e3aa458c",
   "metadata": {},
   "source": [
    "`-` reshape: ndarray의 특수한 기능"
   ]
  },
  {
   "cell_type": "code",
   "execution_count": 103,
   "id": "bb5b5fba-7fc2-41a6-ba2a-24b7eb4218a7",
   "metadata": {},
   "outputs": [
    {
     "data": {
      "text/plain": [
       "array([11, 22, 33, 44, 55, 66])"
      ]
     },
     "execution_count": 103,
     "metadata": {},
     "output_type": "execute_result"
    }
   ],
   "source": [
    "a=np.array([11,22,33,44,55,66])\n",
    "a  #길이가 6인 벡터"
   ]
  },
  {
   "cell_type": "code",
   "execution_count": 98,
   "id": "3c2a75bc-acf5-44ff-b1d8-48aa07af454c",
   "metadata": {},
   "outputs": [
    {
     "data": {
      "text/plain": [
       "numpy.ndarray"
      ]
     },
     "execution_count": 98,
     "metadata": {},
     "output_type": "execute_result"
    }
   ],
   "source": [
    "type(a)"
   ]
  },
  {
   "cell_type": "code",
   "execution_count": 99,
   "id": "8c1b9e8b-e764-446e-9838-3bd9ab714e18",
   "metadata": {},
   "outputs": [
    {
     "data": {
      "text/plain": [
       "<function ndarray.reshape>"
      ]
     },
     "execution_count": 99,
     "metadata": {},
     "output_type": "execute_result"
    }
   ],
   "source": [
    "a.reshape"
   ]
  },
  {
   "cell_type": "code",
   "execution_count": 104,
   "id": "52e414d2-e95c-415d-a201-39d63986e6da",
   "metadata": {},
   "outputs": [
    {
     "data": {
      "text/plain": [
       "array([[11, 22, 33],\n",
       "       [44, 55, 66]])"
      ]
     },
     "execution_count": 104,
     "metadata": {},
     "output_type": "execute_result"
    }
   ],
   "source": [
    "a.reshape(2,3)  # (2,3) matrix라고 생각해도 무방"
   ]
  },
  {
   "cell_type": "code",
   "execution_count": 102,
   "id": "5c627454-f3a3-467a-a054-3d0d917e091a",
   "metadata": {},
   "outputs": [
    {
     "ename": "ValueError",
     "evalue": "cannot reshape array of size 6 into shape (5,2)",
     "output_type": "error",
     "traceback": [
      "\u001b[1;31m---------------------------------------------------------------------------\u001b[0m",
      "\u001b[1;31mValueError\u001b[0m                                Traceback (most recent call last)",
      "Cell \u001b[1;32mIn[102], line 1\u001b[0m\n\u001b[1;32m----> 1\u001b[0m \u001b[43ma\u001b[49m\u001b[38;5;241;43m.\u001b[39;49m\u001b[43mreshape\u001b[49m\u001b[43m(\u001b[49m\u001b[38;5;241;43m5\u001b[39;49m\u001b[43m,\u001b[49m\u001b[38;5;241;43m2\u001b[39;49m\u001b[43m)\u001b[49m\n",
      "\u001b[1;31mValueError\u001b[0m: cannot reshape array of size 6 into shape (5,2)"
     ]
    }
   ],
   "source": [
    "a.reshape(5,2)"
   ]
  },
  {
   "cell_type": "markdown",
   "id": "8e296912-d825-418a-847c-d3f275eb958b",
   "metadata": {},
   "source": [
    "note: reshape은 a자체를 변홧키는 것은 아님"
   ]
  },
  {
   "cell_type": "code",
   "execution_count": 106,
   "id": "c079ce19-8e15-4859-bbe3-3763ed3d35c0",
   "metadata": {},
   "outputs": [
    {
     "data": {
      "text/plain": [
       "array([11, 22, 33, 44, 55, 66])"
      ]
     },
     "execution_count": 106,
     "metadata": {},
     "output_type": "execute_result"
    }
   ],
   "source": [
    "a  # reshape은 a자체는 변화하지 않음"
   ]
  },
  {
   "cell_type": "code",
   "execution_count": 109,
   "id": "f4aba230-5e42-4d5c-8e84-b28432d3082a",
   "metadata": {},
   "outputs": [
    {
     "data": {
      "text/plain": [
       "array([[11, 22, 33],\n",
       "       [44, 55, 66]])"
      ]
     },
     "execution_count": 109,
     "metadata": {},
     "output_type": "execute_result"
    }
   ],
   "source": [
    "b=a.reshape(2,3)  # a를 reshape한 결과를 b에 저장\n",
    "b"
   ]
  },
  {
   "cell_type": "code",
   "execution_count": 110,
   "id": "865c06c1-4e9b-44cf-95ab-ff53ac80f29b",
   "metadata": {},
   "outputs": [
    {
     "data": {
      "text/plain": [
       "array([11, 22, 33, 44, 55, 66])"
      ]
     },
     "execution_count": 110,
     "metadata": {},
     "output_type": "execute_result"
    }
   ],
   "source": [
    " a  # a는 여전히 그대로 있음"
   ]
  },
  {
   "cell_type": "markdown",
   "id": "5e0723c7-c71e-4f4a-9e5d-6f0ec207e235",
   "metadata": {},
   "source": [
    "`-` 다시 b를 a처럼 바꾸고 싶다."
   ]
  },
  {
   "cell_type": "code",
   "execution_count": 111,
   "id": "29a9ed9e-fcce-4fed-ba1a-c22fba23fb7a",
   "metadata": {},
   "outputs": [
    {
     "data": {
      "text/plain": [
       "array([[11, 22, 33],\n",
       "       [44, 55, 66]])"
      ]
     },
     "execution_count": 111,
     "metadata": {},
     "output_type": "execute_result"
    }
   ],
   "source": [
    "b"
   ]
  },
  {
   "cell_type": "code",
   "execution_count": 115,
   "id": "8e8ec5aa-f352-40e3-ac6d-5a4832c1350b",
   "metadata": {},
   "outputs": [
    {
     "data": {
      "text/plain": [
       "array([11, 22, 33, 44, 55, 66])"
      ]
     },
     "execution_count": 115,
     "metadata": {},
     "output_type": "execute_result"
    }
   ],
   "source": [
    "b.reshape(6) # b는 (2,3) matrix, 그런데 이것을 길이가 6인 벡터로 만들고 싶다."
   ]
  },
  {
   "cell_type": "code",
   "execution_count": 118,
   "id": "c8cdfd18-2356-427b-80c9-887adad8efc9",
   "metadata": {},
   "outputs": [
    {
     "data": {
      "text/plain": [
       "(6,)"
      ]
     },
     "execution_count": 118,
     "metadata": {},
     "output_type": "execute_result"
    }
   ],
   "source": [
    "a.shape   # 길이가 1인 튜플"
   ]
  },
  {
   "cell_type": "code",
   "execution_count": 119,
   "id": "6b68b9b3-55ab-4777-854f-2d860abc3010",
   "metadata": {},
   "outputs": [
    {
     "data": {
      "text/plain": [
       "(2, 3)"
      ]
     },
     "execution_count": 119,
     "metadata": {},
     "output_type": "execute_result"
    }
   ],
   "source": [
    "b.shape   # 길이가 2인 튜플이니까 2차원 "
   ]
  },
  {
   "cell_type": "markdown",
   "id": "54167146-0210-4479-ae6b-74d706fe0673",
   "metadata": {},
   "source": [
    "`-` reshape with -1"
   ]
  },
  {
   "cell_type": "code",
   "execution_count": 122,
   "id": "ebb8e5aa-a2ea-4738-8cc3-a4cdbf906ace",
   "metadata": {},
   "outputs": [
    {
     "data": {
      "text/plain": [
       "array([ 0,  1,  2,  3,  4,  5,  6,  7,  8,  9, 10, 11, 12, 13, 14, 15, 16,\n",
       "       17, 18, 19, 20, 21, 22, 23])"
      ]
     },
     "execution_count": 122,
     "metadata": {},
     "output_type": "execute_result"
    }
   ],
   "source": [
    "a=np.arange(24)  #np.array(range(24))\n",
    "a"
   ]
  },
  {
   "cell_type": "code",
   "execution_count": 124,
   "id": "70e915de-ffbc-4e37-aa76-e0e60d2c27ab",
   "metadata": {},
   "outputs": [
    {
     "ename": "SyntaxError",
     "evalue": "invalid syntax (2529973538.py, line 1)",
     "output_type": "error",
     "traceback": [
      "\u001b[1;36m  Cell \u001b[1;32mIn[124], line 1\u001b[1;36m\u001b[0m\n\u001b[1;33m    a.reshape(2,?) # 에러..\u001b[0m\n\u001b[1;37m                ^\u001b[0m\n\u001b[1;31mSyntaxError\u001b[0m\u001b[1;31m:\u001b[0m invalid syntax\n"
     ]
    }
   ],
   "source": [
    "a.reshape(2,?) # 에러.."
   ]
  },
  {
   "cell_type": "code",
   "execution_count": 125,
   "id": "3d1cda6e-21c2-40e8-b8e6-9a0c62deb752",
   "metadata": {},
   "outputs": [
    {
     "data": {
      "text/plain": [
       "array([[ 0,  1,  2,  3,  4,  5,  6,  7,  8,  9, 10, 11],\n",
       "       [12, 13, 14, 15, 16, 17, 18, 19, 20, 21, 22, 23]])"
      ]
     },
     "execution_count": 125,
     "metadata": {},
     "output_type": "execute_result"
    }
   ],
   "source": [
    "a.reshape(2,-1)"
   ]
  },
  {
   "cell_type": "code",
   "execution_count": 126,
   "id": "ce1d20a3-294a-4328-af1c-ec4f6492563e",
   "metadata": {},
   "outputs": [
    {
     "data": {
      "text/plain": [
       "array([[ 0,  1,  2,  3,  4,  5,  6,  7],\n",
       "       [ 8,  9, 10, 11, 12, 13, 14, 15],\n",
       "       [16, 17, 18, 19, 20, 21, 22, 23]])"
      ]
     },
     "execution_count": 126,
     "metadata": {},
     "output_type": "execute_result"
    }
   ],
   "source": [
    "a.reshape(3,-1)"
   ]
  },
  {
   "cell_type": "code",
   "execution_count": 127,
   "id": "9961943b-5981-4059-936c-a3d8493bcd01",
   "metadata": {},
   "outputs": [
    {
     "data": {
      "text/plain": [
       "array([[ 0,  1,  2,  3,  4,  5],\n",
       "       [ 6,  7,  8,  9, 10, 11],\n",
       "       [12, 13, 14, 15, 16, 17],\n",
       "       [18, 19, 20, 21, 22, 23]])"
      ]
     },
     "execution_count": 127,
     "metadata": {},
     "output_type": "execute_result"
    }
   ],
   "source": [
    "a.reshape(4,-1)"
   ]
  },
  {
   "cell_type": "code",
   "execution_count": 128,
   "id": "32199bf8-930d-4399-a900-36abd60aaa1c",
   "metadata": {},
   "outputs": [
    {
     "ename": "ValueError",
     "evalue": "cannot reshape array of size 24 into shape (7,newaxis)",
     "output_type": "error",
     "traceback": [
      "\u001b[1;31m---------------------------------------------------------------------------\u001b[0m",
      "\u001b[1;31mValueError\u001b[0m                                Traceback (most recent call last)",
      "Cell \u001b[1;32mIn[128], line 1\u001b[0m\n\u001b[1;32m----> 1\u001b[0m \u001b[43ma\u001b[49m\u001b[38;5;241;43m.\u001b[39;49m\u001b[43mreshape\u001b[49m\u001b[43m(\u001b[49m\u001b[38;5;241;43m7\u001b[39;49m\u001b[43m,\u001b[49m\u001b[38;5;241;43m-\u001b[39;49m\u001b[38;5;241;43m1\u001b[39;49m\u001b[43m)\u001b[49m\n",
      "\u001b[1;31mValueError\u001b[0m: cannot reshape array of size 24 into shape (7,newaxis)"
     ]
    }
   ],
   "source": [
    "a.reshape(7,-1)  # 나눠떨어지지 않으니까.. "
   ]
  },
  {
   "cell_type": "code",
   "execution_count": 130,
   "id": "e529df5c-ee2d-42d7-9bef-538147c629f0",
   "metadata": {},
   "outputs": [
    {
     "data": {
      "text/plain": [
       "array([[ 0,  1],\n",
       "       [ 2,  3],\n",
       "       [ 4,  5],\n",
       "       [ 6,  7],\n",
       "       [ 8,  9],\n",
       "       [10, 11],\n",
       "       [12, 13],\n",
       "       [14, 15],\n",
       "       [16, 17],\n",
       "       [18, 19],\n",
       "       [20, 21],\n",
       "       [22, 23]])"
      ]
     },
     "execution_count": 130,
     "metadata": {},
     "output_type": "execute_result"
    }
   ],
   "source": [
    "b=a.reshape(12,-1)\n",
    "b"
   ]
  },
  {
   "cell_type": "code",
   "execution_count": 131,
   "id": "bb7ef277-ca40-425e-ae1b-977bad8f6952",
   "metadata": {},
   "outputs": [
    {
     "data": {
      "text/plain": [
       "array([ 0,  1,  2,  3,  4,  5,  6,  7,  8,  9, 10, 11, 12, 13, 14, 15, 16,\n",
       "       17, 18, 19, 20, 21, 22, 23])"
      ]
     },
     "execution_count": 131,
     "metadata": {},
     "output_type": "execute_result"
    }
   ],
   "source": [
    "b.reshape(24) # b를 다시 길이가 24인 벡터로 만들고 싶다."
   ]
  },
  {
   "cell_type": "code",
   "execution_count": 133,
   "id": "19f6fa21-0e55-4851-8744-8ebfe6d67feb",
   "metadata": {},
   "outputs": [
    {
     "data": {
      "text/plain": [
       "array([ 0,  1,  2,  3,  4,  5,  6,  7,  8,  9, 10, 11, 12, 13, 14, 15, 16,\n",
       "       17, 18, 19, 20, 21, 22, 23])"
      ]
     },
     "execution_count": 133,
     "metadata": {},
     "output_type": "execute_result"
    }
   ],
   "source": [
    "b.reshape(-1) # b를 다시 길이가 24인 벡터로 만들고 싶다."
   ]
  },
  {
   "cell_type": "markdown",
   "id": "4cd8c4ad-7cfd-4863-9021-e7ada7142aff",
   "metadata": {},
   "source": [
    "### 2차원 배열의 선언"
   ]
  },
  {
   "cell_type": "code",
   "execution_count": 134,
   "id": "1ea17a37-9e36-4a46-a961-2db3c0780252",
   "metadata": {},
   "outputs": [
    {
     "data": {
      "text/plain": [
       "array([[0., 0., 0.],\n",
       "       [0., 0., 0.],\n",
       "       [0., 0., 0.]])"
      ]
     },
     "execution_count": 134,
     "metadata": {},
     "output_type": "execute_result"
    }
   ],
   "source": [
    "\n",
    "np.zeros((3,3))"
   ]
  },
  {
   "cell_type": "code",
   "execution_count": 135,
   "id": "59316186-4eef-4094-9610-9fceff60c532",
   "metadata": {},
   "outputs": [
    {
     "data": {
      "text/plain": [
       "array([[1., 1., 1.],\n",
       "       [1., 1., 1.],\n",
       "       [1., 1., 1.]])"
      ]
     },
     "execution_count": 135,
     "metadata": {},
     "output_type": "execute_result"
    }
   ],
   "source": [
    "np.ones((3,3))"
   ]
  },
  {
   "cell_type": "code",
   "execution_count": 138,
   "id": "9edde4a7-8d94-407f-9331-cbcb25726de1",
   "metadata": {},
   "outputs": [
    {
     "data": {
      "text/plain": [
       "array([[1., 0., 0.],\n",
       "       [0., 1., 0.],\n",
       "       [0., 0., 1.]])"
      ]
     },
     "execution_count": 138,
     "metadata": {},
     "output_type": "execute_result"
    }
   ],
   "source": [
    "np.eye(3) "
   ]
  },
  {
   "cell_type": "code",
   "execution_count": 139,
   "id": "e2b9f810-22ea-4106-9166-797cf69894dd",
   "metadata": {},
   "outputs": [
    {
     "data": {
      "text/plain": [
       "array([[ 1,  0,  0,  0],\n",
       "       [ 0,  2,  0,  0],\n",
       "       [ 0,  0,  3,  0],\n",
       "       [ 0,  0,  0, -1]])"
      ]
     },
     "execution_count": 139,
     "metadata": {},
     "output_type": "execute_result"
    }
   ],
   "source": [
    "np.diag([1,2,3,-1])"
   ]
  },
  {
   "cell_type": "markdown",
   "id": "0dba0fd6-bf04-4ab3-8bfc-710b7cfff873",
   "metadata": {},
   "source": [
    "### 랜덤으로 생성"
   ]
  },
  {
   "cell_type": "code",
   "execution_count": 141,
   "id": "a2f1289a-cd61-491f-9352-589f971ab0e7",
   "metadata": {},
   "outputs": [
    {
     "data": {
      "text/plain": [
       "array([-1.62694735, -0.46057632,  0.9092888 , -0.52150285, -0.0409467 ,\n",
       "        0.98561001,  1.87613924, -2.08870029,  0.28577046, -0.15794105])"
      ]
     },
     "execution_count": 141,
     "metadata": {},
     "output_type": "execute_result"
    }
   ],
   "source": [
    "np.random.randn(10)  # 표준정규분포에서 10개를 뽑음"
   ]
  },
  {
   "cell_type": "code",
   "execution_count": 142,
   "id": "d8d1e0a1-9459-4964-a0c6-144af5f2876d",
   "metadata": {},
   "outputs": [
    {
     "data": {
      "text/plain": [
       "array([0.7377278 , 0.61091057, 0.17571601, 0.29298532, 0.90149596,\n",
       "       0.84002052, 0.50700681, 0.40217981, 0.30557984, 0.34392417])"
      ]
     },
     "execution_count": 142,
     "metadata": {},
     "output_type": "execute_result"
    }
   ],
   "source": [
    "np.random.rand(10)  # 0~1 사이에서 10개를 뽑음"
   ]
  },
  {
   "cell_type": "code",
   "execution_count": 144,
   "id": "6921b870-9ba0-490c-a6b5-3f8fb3e8938d",
   "metadata": {},
   "outputs": [
    {
     "data": {
      "text/plain": [
       "array([[0.50093512, 0.74336071],\n",
       "       [0.91296027, 0.04033486]])"
      ]
     },
     "execution_count": 144,
     "metadata": {},
     "output_type": "execute_result"
    }
   ],
   "source": [
    "np.random.randn(4).reshape(2,2)  # 표준정규분포에서 4개를 뽑고 (2,2) nparray로 형태변환"
   ]
  },
  {
   "cell_type": "code",
   "execution_count": 145,
   "id": "6c3e36c8-c241-4f1c-b3e6-b522ca31ac30",
   "metadata": {},
   "outputs": [
    {
     "data": {
      "text/plain": [
       "array([[0.30484011, 0.57731961],\n",
       "       [0.30645542, 0.2189475 ]])"
      ]
     },
     "execution_count": 145,
     "metadata": {},
     "output_type": "execute_result"
    }
   ],
   "source": [
    "np.random.rand(4).reshape(2,2)  # 0~1에서 4개를 뽑고 (2,2) nparray로 형태변환"
   ]
  },
  {
   "cell_type": "markdown",
   "id": "a0b6f48e-7380-4689-8c8f-0f35914d5cf2",
   "metadata": {},
   "source": [
    "### 행렬"
   ]
  },
  {
   "cell_type": "code",
   "execution_count": 149,
   "id": "f0535a9d-5071-4c99-b63f-f4bd0614bb1c",
   "metadata": {},
   "outputs": [
    {
     "data": {
      "text/plain": [
       "array([[0, 1],\n",
       "       [2, 3]])"
      ]
     },
     "execution_count": 149,
     "metadata": {},
     "output_type": "execute_result"
    }
   ],
   "source": [
    "A=np.array(range(4)).reshape(2,2)\n",
    "A"
   ]
  },
  {
   "cell_type": "code",
   "execution_count": 150,
   "id": "e7722d9a-e94c-4dfb-9304-15f15e8ddbf0",
   "metadata": {},
   "outputs": [
    {
     "data": {
      "text/plain": [
       "array([[0, 2],\n",
       "       [1, 3]])"
      ]
     },
     "execution_count": 150,
     "metadata": {},
     "output_type": "execute_result"
    }
   ],
   "source": [
    "A.T #전치행렬"
   ]
  },
  {
   "cell_type": "code",
   "execution_count": 151,
   "id": "eec3bf78-fa79-4e9c-b5ec-42e81b5ab94d",
   "metadata": {},
   "outputs": [
    {
     "data": {
      "text/plain": [
       "array([[-1.5,  0.5],\n",
       "       [ 1. ,  0. ]])"
      ]
     },
     "execution_count": 151,
     "metadata": {},
     "output_type": "execute_result"
    }
   ],
   "source": [
    "np.linalg.inv(A)   # 역행렬"
   ]
  },
  {
   "cell_type": "code",
   "execution_count": 152,
   "id": "a0eda476-d681-421c-b088-8497ce570ad4",
   "metadata": {},
   "outputs": [
    {
     "data": {
      "text/plain": [
       "array([[1., 0.],\n",
       "       [0., 1.]])"
      ]
     },
     "execution_count": 152,
     "metadata": {},
     "output_type": "execute_result"
    }
   ],
   "source": [
    "A @ np.linalg.inv(A)  # 단위행렬   # @는 행렬곱을 수행\n"
   ]
  },
  {
   "cell_type": "markdown",
   "id": "47356cf7-2108-4d5c-a130-7fe3d4490da3",
   "metadata": {},
   "source": [
    "## 숙제"
   ]
  },
  {
   "cell_type": "code",
   "execution_count": 153,
   "id": "7d6c40a7-75b4-4552-a511-2012dbe7d4d6",
   "metadata": {},
   "outputs": [
    {
     "data": {
      "text/plain": [
       "array([0, 1, 2, 3, 4, 5])"
      ]
     },
     "execution_count": 153,
     "metadata": {},
     "output_type": "execute_result"
    }
   ],
   "source": [
    "A=np.array(range(6))\n",
    "A # 길이가 6인 벡터"
   ]
  },
  {
   "cell_type": "markdown",
   "id": "ff20bc11-daf2-4ff8-ab2d-34e4e82363ad",
   "metadata": {},
   "source": [
    "위와 같이 길이가 6인 벡터 A를 (2,3) ndarray로 변경"
   ]
  },
  {
   "cell_type": "code",
   "execution_count": 154,
   "id": "2624d5af-2d46-4f89-beab-42acfdb2abf8",
   "metadata": {},
   "outputs": [
    {
     "data": {
      "text/plain": [
       "array([[0, 1, 2],\n",
       "       [3, 4, 5]])"
      ]
     },
     "execution_count": 154,
     "metadata": {},
     "output_type": "execute_result"
    }
   ],
   "source": [
    "A.reshape(2,3)"
   ]
  },
  {
   "cell_type": "code",
   "execution_count": 155,
   "id": "e7e88552-b2c1-4839-a9ef-4275306243ff",
   "metadata": {},
   "outputs": [
    {
     "data": {
      "text/plain": [
       "2"
      ]
     },
     "execution_count": 155,
     "metadata": {},
     "output_type": "execute_result"
    }
   ],
   "source": [
    "len(A.reshape(2,3))"
   ]
  },
  {
   "cell_type": "code",
   "execution_count": null,
   "id": "cc1c7675-012e-40c0-91fb-1709d7c86e75",
   "metadata": {},
   "outputs": [],
   "source": []
  }
 ],
 "metadata": {
  "kernelspec": {
   "display_name": "Python 3",
   "language": "python",
   "name": "python3"
  },
  "language_info": {
   "codemirror_mode": {
    "name": "ipython",
    "version": 3
   },
   "file_extension": ".py",
   "mimetype": "text/x-python",
   "name": "python",
   "nbconvert_exporter": "python",
   "pygments_lexer": "ipython3",
   "version": "3.7.16"
  },
  "toc-showcode": false
 },
 "nbformat": 4,
 "nbformat_minor": 5
}
