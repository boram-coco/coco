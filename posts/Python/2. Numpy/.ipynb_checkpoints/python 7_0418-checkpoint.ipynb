{
 "cells": [
  {
   "cell_type": "raw",
   "id": "d3df4242-7613-412c-86ee-c52215c5c0c9",
   "metadata": {},
   "source": [
    "---\n",
    "title: \"파이썬 7주차 (0418)\"\n",
    "author: \"김보람\"\n",
    "date: \"04/18/2022\"\n",
    "categories:\n",
    "  - numpy (메소드 도움말확인, hstack, vstack, append, ravel, flatten, 기타통계함수들, dtype, 브로드캐스팅), matploblib (plt.pyplot, plt.hist)\n",
    "---"
   ]
  },
  {
   "cell_type": "code",
   "execution_count": 1,
   "id": "80270ce4",
   "metadata": {},
   "outputs": [],
   "source": [
    "import numpy as np"
   ]
  },
  {
   "cell_type": "markdown",
   "id": "77ad519c",
   "metadata": {},
   "source": [
    "## numpy공부 7단계"
   ]
  },
  {
   "cell_type": "markdown",
   "id": "1ea239c0",
   "metadata": {},
   "source": [
    "### note 1: 메소드 도움말 확인하기"
   ]
  },
  {
   "cell_type": "markdown",
   "id": "5baa923b",
   "metadata": {},
   "source": [
    "`-` 파이썬에서 함수를 적용하는 2가지 방식\n",
    "- np.sum(a)\n",
    "- a.sum()"
   ]
  },
  {
   "cell_type": "code",
   "execution_count": 2,
   "id": "ee05e952",
   "metadata": {},
   "outputs": [
    {
     "data": {
      "text/plain": [
       "array([1, 2, 3, 4, 5])"
      ]
     },
     "execution_count": 2,
     "metadata": {},
     "output_type": "execute_result"
    }
   ],
   "source": [
    "a=np.array([1,2,3,4,5])\n",
    "a"
   ]
  },
  {
   "cell_type": "code",
   "execution_count": 3,
   "id": "8b6f2719",
   "metadata": {},
   "outputs": [
    {
     "data": {
      "text/plain": [
       "15"
      ]
     },
     "execution_count": 3,
     "metadata": {},
     "output_type": "execute_result"
    }
   ],
   "source": [
    "a.sum()"
   ]
  },
  {
   "cell_type": "code",
   "execution_count": 5,
   "id": "3d81fd93",
   "metadata": {},
   "outputs": [
    {
     "data": {
      "text/plain": [
       "15"
      ]
     },
     "execution_count": 5,
     "metadata": {},
     "output_type": "execute_result"
    }
   ],
   "source": [
    "np.sum(a)"
   ]
  },
  {
   "cell_type": "markdown",
   "id": "38728036",
   "metadata": {},
   "source": [
    "`-` 넘파이에서 `a.sum`에 대한 도움말은 보통 `np.sum()`에 자세히 나와있음 $\\to$  `np.sum()`의 도움말을 확인하고 `np.sum(a)`와 `a.sum()`이 동일함을 이용하여 `a.sum()`의 사용법을 미루어 유추해야함"
   ]
  },
  {
   "cell_type": "code",
   "execution_count": 6,
   "id": "7c271964",
   "metadata": {},
   "outputs": [],
   "source": [
    "a.sum?"
   ]
  },
  {
   "cell_type": "code",
   "execution_count": 7,
   "id": "0ce15325",
   "metadata": {},
   "outputs": [],
   "source": [
    "np.sum?"
   ]
  },
  {
   "cell_type": "code",
   "execution_count": 9,
   "id": "d9a532cd",
   "metadata": {},
   "outputs": [
    {
     "data": {
      "text/plain": [
       "2.0"
      ]
     },
     "execution_count": 9,
     "metadata": {},
     "output_type": "execute_result"
    }
   ],
   "source": [
    "np.sum([0.5, 1.5])"
   ]
  },
  {
   "cell_type": "markdown",
   "id": "39b9324f",
   "metadata": {},
   "source": [
    "### note2: hstack, vstack"
   ]
  },
  {
   "cell_type": "markdown",
   "id": "50f84ba2",
   "metadata": {},
   "source": [
    "`-` hstack, vstack를 쓰는 사람도 있다."
   ]
  },
  {
   "cell_type": "code",
   "execution_count": 14,
   "id": "99722015",
   "metadata": {},
   "outputs": [],
   "source": [
    "a=np.arange(6)\n",
    "b=-a"
   ]
  },
  {
   "cell_type": "code",
   "execution_count": 15,
   "id": "24b01c28",
   "metadata": {},
   "outputs": [
    {
     "data": {
      "text/plain": [
       "array([[ 0,  1,  2,  3,  4,  5],\n",
       "       [ 0, -1, -2, -3, -4, -5]])"
      ]
     },
     "execution_count": 15,
     "metadata": {},
     "output_type": "execute_result"
    }
   ],
   "source": [
    "np.vstack([a,b])"
   ]
  },
  {
   "cell_type": "code",
   "execution_count": 17,
   "id": "27834008",
   "metadata": {},
   "outputs": [
    {
     "data": {
      "text/plain": [
       "array([[ 0,  1,  2,  3,  4,  5],\n",
       "       [ 0, -1, -2, -3, -4, -5]])"
      ]
     },
     "execution_count": 17,
     "metadata": {},
     "output_type": "execute_result"
    }
   ],
   "source": [
    "np.stack([a,b],axis=0)"
   ]
  },
  {
   "cell_type": "code",
   "execution_count": 18,
   "id": "309434c8",
   "metadata": {},
   "outputs": [
    {
     "data": {
      "text/plain": [
       "array([ 0,  1,  2,  3,  4,  5,  0, -1, -2, -3, -4, -5])"
      ]
     },
     "execution_count": 18,
     "metadata": {},
     "output_type": "execute_result"
    }
   ],
   "source": [
    "np.hstack([a,b])"
   ]
  },
  {
   "cell_type": "code",
   "execution_count": 19,
   "id": "6c9d5a31",
   "metadata": {},
   "outputs": [
    {
     "data": {
      "text/plain": [
       "array([ 0,  1,  2,  3,  4,  5,  0, -1, -2, -3, -4, -5])"
      ]
     },
     "execution_count": 19,
     "metadata": {},
     "output_type": "execute_result"
    }
   ],
   "source": [
    "np.concatenate([a,b],axis=0)"
   ]
  },
  {
   "cell_type": "markdown",
   "id": "4c94d126",
   "metadata": {},
   "source": [
    "#### note3: append"
   ]
  },
  {
   "cell_type": "markdown",
   "id": "4acc4bfc",
   "metadata": {},
   "source": [
    "`-` 기능1:reshape(-1) + concat"
   ]
  },
  {
   "cell_type": "code",
   "execution_count": 20,
   "id": "471a6b78",
   "metadata": {},
   "outputs": [],
   "source": [
    "a=np.arange(30).reshape(5,6)\n",
    "b= -np.arange(8).reshape(2,2,2)"
   ]
  },
  {
   "cell_type": "code",
   "execution_count": 21,
   "id": "90f9c193",
   "metadata": {},
   "outputs": [
    {
     "data": {
      "text/plain": [
       "((5, 6), (2, 2, 2))"
      ]
     },
     "execution_count": 21,
     "metadata": {},
     "output_type": "execute_result"
    }
   ],
   "source": [
    "a.shape, b.shape"
   ]
  },
  {
   "cell_type": "code",
   "execution_count": 23,
   "id": "80e42c7c",
   "metadata": {},
   "outputs": [
    {
     "data": {
      "text/plain": [
       "array([ 0,  1,  2,  3,  4,  5,  6,  7,  8,  9, 10, 11, 12, 13, 14, 15, 16,\n",
       "       17, 18, 19, 20, 21, 22, 23, 24, 25, 26, 27, 28, 29,  0, -1, -2, -3,\n",
       "       -4, -5, -6, -7])"
      ]
     },
     "execution_count": 23,
     "metadata": {},
     "output_type": "execute_result"
    }
   ],
   "source": [
    "np.append(a,b)"
   ]
  },
  {
   "cell_type": "code",
   "execution_count": 24,
   "id": "7acc8f0e",
   "metadata": {},
   "outputs": [
    {
     "data": {
      "text/plain": [
       "array([ 0,  1,  2,  3,  4,  5,  6,  7,  8,  9, 10, 11, 12, 13, 14, 15, 16,\n",
       "       17, 18, 19, 20, 21, 22, 23, 24, 25, 26, 27, 28, 29,  0, -1, -2, -3,\n",
       "       -4, -5, -6, -7])"
      ]
     },
     "execution_count": 24,
     "metadata": {},
     "output_type": "execute_result"
    }
   ],
   "source": [
    "np.concatenate([a.reshape(-1), b.reshape(-1)])"
   ]
  },
  {
   "cell_type": "markdown",
   "id": "dc467055",
   "metadata": {},
   "source": [
    "`-` 기능2: concat  "
   ]
  },
  {
   "cell_type": "code",
   "execution_count": 25,
   "id": "30435e3e",
   "metadata": {},
   "outputs": [],
   "source": [
    "a=np.arange(2*3*4).reshape(2,3,4)\n",
    "b=-a"
   ]
  },
  {
   "cell_type": "code",
   "execution_count": 34,
   "id": "026eb49b",
   "metadata": {},
   "outputs": [
    {
     "data": {
      "text/plain": [
       "((2, 3, 4), (2, 3, 4), (4, 3, 4))"
      ]
     },
     "execution_count": 34,
     "metadata": {},
     "output_type": "execute_result"
    }
   ],
   "source": [
    "a.shape, b.shape, np.append(a,b, axis=0).shape   # 대괄호를 쓰지 않아도 됨"
   ]
  },
  {
   "cell_type": "code",
   "execution_count": 35,
   "id": "b1f6a9c0",
   "metadata": {},
   "outputs": [
    {
     "data": {
      "text/plain": [
       "((2, 3, 4), (2, 3, 4), (2, 6, 4))"
      ]
     },
     "execution_count": 35,
     "metadata": {},
     "output_type": "execute_result"
    }
   ],
   "source": [
    "a.shape, b.shape, np.append(a,b, axis=1).shape"
   ]
  },
  {
   "cell_type": "code",
   "execution_count": 36,
   "id": "17b46c9b",
   "metadata": {},
   "outputs": [
    {
     "data": {
      "text/plain": [
       "((2, 3, 4), (2, 3, 4), (2, 3, 8))"
      ]
     },
     "execution_count": 36,
     "metadata": {},
     "output_type": "execute_result"
    }
   ],
   "source": [
    "a.shape, b.shape, np.append(a,b, axis=2).shape"
   ]
  },
  {
   "cell_type": "markdown",
   "id": "99c1f38d",
   "metadata": {},
   "source": [
    "`-` concat과의 차이?"
   ]
  },
  {
   "cell_type": "code",
   "execution_count": 37,
   "id": "26ec04c9",
   "metadata": {},
   "outputs": [],
   "source": [
    "a=np.arange(2*3*4).reshape(2,3,4)\n",
    "b=-a\n",
    "c=2*a"
   ]
  },
  {
   "cell_type": "code",
   "execution_count": 38,
   "id": "a3bf9b6d",
   "metadata": {},
   "outputs": [
    {
     "data": {
      "text/plain": [
       "array([[[  0,   1,   2,   3],\n",
       "        [  4,   5,   6,   7],\n",
       "        [  8,   9,  10,  11]],\n",
       "\n",
       "       [[ 12,  13,  14,  15],\n",
       "        [ 16,  17,  18,  19],\n",
       "        [ 20,  21,  22,  23]],\n",
       "\n",
       "       [[  0,  -1,  -2,  -3],\n",
       "        [ -4,  -5,  -6,  -7],\n",
       "        [ -8,  -9, -10, -11]],\n",
       "\n",
       "       [[-12, -13, -14, -15],\n",
       "        [-16, -17, -18, -19],\n",
       "        [-20, -21, -22, -23]],\n",
       "\n",
       "       [[  0,   2,   4,   6],\n",
       "        [  8,  10,  12,  14],\n",
       "        [ 16,  18,  20,  22]],\n",
       "\n",
       "       [[ 24,  26,  28,  30],\n",
       "        [ 32,  34,  36,  38],\n",
       "        [ 40,  42,  44,  46]]])"
      ]
     },
     "execution_count": 38,
     "metadata": {},
     "output_type": "execute_result"
    }
   ],
   "source": [
    "np.concatenate([a,b,c],axis=0)"
   ]
  },
  {
   "cell_type": "markdown",
   "id": "0a34a170",
   "metadata": {},
   "source": [
    "#### note4: revel, flatten"
   ]
  },
  {
   "cell_type": "code",
   "execution_count": 39,
   "id": "2dfa6105",
   "metadata": {},
   "outputs": [
    {
     "data": {
      "text/plain": [
       "array([[[ 0,  1,  2,  3],\n",
       "        [ 4,  5,  6,  7],\n",
       "        [ 8,  9, 10, 11]],\n",
       "\n",
       "       [[12, 13, 14, 15],\n",
       "        [16, 17, 18, 19],\n",
       "        [20, 21, 22, 23]]])"
      ]
     },
     "execution_count": 39,
     "metadata": {},
     "output_type": "execute_result"
    }
   ],
   "source": [
    "a=np.arange(2*3*4).reshape(2,3,4)\n",
    "a"
   ]
  },
  {
   "cell_type": "code",
   "execution_count": 40,
   "id": "b76dad87",
   "metadata": {},
   "outputs": [
    {
     "data": {
      "text/plain": [
       "array([ 0,  1,  2,  3,  4,  5,  6,  7,  8,  9, 10, 11, 12, 13, 14, 15, 16,\n",
       "       17, 18, 19, 20, 21, 22, 23])"
      ]
     },
     "execution_count": 40,
     "metadata": {},
     "output_type": "execute_result"
    }
   ],
   "source": [
    "a.reshape(-1) #디멘전 1차원으로"
   ]
  },
  {
   "cell_type": "code",
   "execution_count": 42,
   "id": "bccef0b3",
   "metadata": {},
   "outputs": [
    {
     "data": {
      "text/plain": [
       "array([ 0,  1,  2,  3,  4,  5,  6,  7,  8,  9, 10, 11, 12, 13, 14, 15, 16,\n",
       "       17, 18, 19, 20, 21, 22, 23])"
      ]
     },
     "execution_count": 42,
     "metadata": {},
     "output_type": "execute_result"
    }
   ],
   "source": [
    "a.ravel()"
   ]
  },
  {
   "cell_type": "code",
   "execution_count": 43,
   "id": "cac9afba",
   "metadata": {},
   "outputs": [
    {
     "data": {
      "text/plain": [
       "array([ 0,  1,  2,  3,  4,  5,  6,  7,  8,  9, 10, 11, 12, 13, 14, 15, 16,\n",
       "       17, 18, 19, 20, 21, 22, 23])"
      ]
     },
     "execution_count": 43,
     "metadata": {},
     "output_type": "execute_result"
    }
   ],
   "source": [
    "a.flatten()"
   ]
  },
  {
   "cell_type": "markdown",
   "id": "d20a2630",
   "metadata": {},
   "source": [
    "#### note 5: 기타 통계함수들"
   ]
  },
  {
   "cell_type": "markdown",
   "id": "6a79a169",
   "metadata": {},
   "source": [
    "`-` 평균, 중앙값, 표준편차, 분산 "
   ]
  },
  {
   "cell_type": "code",
   "execution_count": 46,
   "id": "3f061142",
   "metadata": {},
   "outputs": [
    {
     "data": {
      "text/plain": [
       "array([-2.01759369e+00,  1.70831942e+00, -7.66284153e-01,  2.15177363e+00,\n",
       "        1.93917905e+00, -2.74073590e-01, -2.04642372e+00, -1.98463689e+00,\n",
       "        1.83815582e+00,  4.49207271e+00, -5.40520993e-03,  1.45933943e+00,\n",
       "       -1.88730370e+00,  2.53422937e+00, -1.43846951e+00, -2.69938884e-01,\n",
       "       -2.68912083e+00,  6.01230062e-01,  1.21155692e+00, -1.78259314e+00,\n",
       "        3.08941967e-01,  1.22338707e+00, -1.03232597e+00, -1.79667669e+00,\n",
       "        2.19458228e+00,  5.75514508e-01, -3.02570319e+00, -1.21868604e+00,\n",
       "       -9.60932070e-01,  1.11771254e+00, -5.34063250e-01, -2.68962004e+00,\n",
       "       -4.62864312e+00,  4.64113175e+00, -1.05051461e+00, -6.14152261e-01,\n",
       "       -1.56320062e+00,  1.18863285e-01,  1.71819177e+00,  5.04434396e-01,\n",
       "       -1.59021839e+00, -8.40274272e-01, -1.92903415e+00, -3.31025301e+00,\n",
       "       -5.44121948e+00,  1.71770231e+00,  1.78729433e+00,  1.04315736e+00,\n",
       "       -1.44847729e+00,  3.41070754e+00,  2.81655462e+00,  2.88886247e-01,\n",
       "        2.61248115e+00, -5.28811327e-01, -2.47391400e+00, -6.04240520e-02,\n",
       "       -2.86388739e+00,  2.50495252e+00,  5.34019240e+00,  8.27782165e-01,\n",
       "       -2.19088172e+00, -7.82626427e-01, -1.12548033e+00, -2.09109091e+00,\n",
       "       -2.06466297e+00, -5.36374068e-01, -3.65861892e+00, -1.42345921e+00,\n",
       "       -6.67080354e-01, -2.57114581e+00, -2.37356246e-01, -1.01485014e-02,\n",
       "       -3.65219208e+00,  1.30174327e+00,  9.43287089e-01, -5.41965726e-01,\n",
       "        1.89596089e+00, -3.26373304e+00, -1.66761926e+00, -1.14963754e+00,\n",
       "        4.34701574e-01, -4.87043020e-01, -5.10792557e-01, -9.05609502e-01,\n",
       "        3.51588424e-01, -9.72910253e-01, -1.11823422e+00, -8.02920775e-01,\n",
       "       -1.51091269e+00,  4.97543437e-01, -8.98957916e-03,  1.47902427e+00,\n",
       "       -8.44007525e-01, -5.03900902e-01,  1.26720080e+00, -5.25199252e+00,\n",
       "       -3.15857694e+00,  2.43006841e+00, -6.43759610e-01,  1.16296529e+00])"
      ]
     },
     "execution_count": 46,
     "metadata": {},
     "output_type": "execute_result"
    }
   ],
   "source": [
    "a=np.random.normal(loc=0, scale=2, size=(100,))\n",
    "a"
   ]
  },
  {
   "cell_type": "code",
   "execution_count": 47,
   "id": "21825e2e",
   "metadata": {},
   "outputs": [
    {
     "data": {
      "text/plain": [
       "-0.34664187661644286"
      ]
     },
     "execution_count": 47,
     "metadata": {},
     "output_type": "execute_result"
    }
   ],
   "source": [
    "np.mean(a)"
   ]
  },
  {
   "cell_type": "code",
   "execution_count": 48,
   "id": "fa000812",
   "metadata": {},
   "outputs": [
    {
     "data": {
      "text/plain": [
       "-0.5352186588272133"
      ]
     },
     "execution_count": 48,
     "metadata": {},
     "output_type": "execute_result"
    }
   ],
   "source": [
    "np.median(a)"
   ]
  },
  {
   "cell_type": "code",
   "execution_count": 49,
   "id": "ec70f64c",
   "metadata": {},
   "outputs": [
    {
     "data": {
      "text/plain": [
       "2.0168674618593685"
      ]
     },
     "execution_count": 49,
     "metadata": {},
     "output_type": "execute_result"
    }
   ],
   "source": [
    "np.std(a)"
   ]
  },
  {
   "cell_type": "code",
   "execution_count": 50,
   "id": "107a73a8",
   "metadata": {},
   "outputs": [
    {
     "data": {
      "text/plain": [
       "4.0677543587070515"
      ]
     },
     "execution_count": 50,
     "metadata": {},
     "output_type": "execute_result"
    }
   ],
   "source": [
    "np.var(a)"
   ]
  },
  {
   "cell_type": "markdown",
   "id": "b7b8bbb8",
   "metadata": {},
   "source": [
    "`-` corr matrix, cov matrix"
   ]
  },
  {
   "cell_type": "code",
   "execution_count": 51,
   "id": "0ec03fb8",
   "metadata": {},
   "outputs": [],
   "source": [
    "np.random.seed(43052)\n",
    "x=np.random.randn(10000)\n",
    "y=np.random.randn(10000)*2\n",
    "z=np.random.randn(10000)*0.5"
   ]
  },
  {
   "cell_type": "code",
   "execution_count": 52,
   "id": "a8001f71",
   "metadata": {},
   "outputs": [
    {
     "data": {
      "text/plain": [
       "array([[ 1.  , -0.01,  0.01],\n",
       "       [-0.01,  1.  ,  0.  ],\n",
       "       [ 0.01,  0.  ,  1.  ]])"
      ]
     },
     "execution_count": 52,
     "metadata": {},
     "output_type": "execute_result"
    }
   ],
   "source": [
    "np.corrcoef([x,y,z]).round(2)"
   ]
  },
  {
   "cell_type": "code",
   "execution_count": 53,
   "id": "bd4c0955",
   "metadata": {},
   "outputs": [
    {
     "data": {
      "text/plain": [
       "array([[ 0.99, -0.02,  0.  ],\n",
       "       [-0.02,  4.06,  0.  ],\n",
       "       [ 0.  ,  0.  ,  0.25]])"
      ]
     },
     "execution_count": 53,
     "metadata": {},
     "output_type": "execute_result"
    }
   ],
   "source": [
    "np.cov([x,y,z]).round(2)"
   ]
  },
  {
   "cell_type": "markdown",
   "id": "97b1c13e",
   "metadata": {},
   "source": [
    "#### note 6 : dtype"
   ]
  },
  {
   "cell_type": "markdown",
   "id": "c1a2f023",
   "metadata": {},
   "source": [
    "`-` np.array는 항상 dtype이 있다."
   ]
  },
  {
   "cell_type": "code",
   "execution_count": 54,
   "id": "b81cad69",
   "metadata": {},
   "outputs": [
    {
     "data": {
      "text/plain": [
       "array([1, 2, 3])"
      ]
     },
     "execution_count": 54,
     "metadata": {},
     "output_type": "execute_result"
    }
   ],
   "source": [
    "a=np.array([1,2,3])\n",
    "a"
   ]
  },
  {
   "cell_type": "code",
   "execution_count": 55,
   "id": "1d6a44bc",
   "metadata": {},
   "outputs": [
    {
     "data": {
      "text/plain": [
       "dtype('int32')"
      ]
     },
     "execution_count": 55,
     "metadata": {},
     "output_type": "execute_result"
    }
   ],
   "source": [
    "a.dtype"
   ]
  },
  {
   "cell_type": "code",
   "execution_count": 56,
   "id": "74fa1826",
   "metadata": {},
   "outputs": [
    {
     "data": {
      "text/plain": [
       "array([1., 2., 3.])"
      ]
     },
     "execution_count": 56,
     "metadata": {},
     "output_type": "execute_result"
    }
   ],
   "source": [
    "a=np.array([1.0,2.0,3.0])\n",
    "a"
   ]
  },
  {
   "cell_type": "code",
   "execution_count": 57,
   "id": "b6aa9341",
   "metadata": {},
   "outputs": [
    {
     "data": {
      "text/plain": [
       "dtype('float64')"
      ]
     },
     "execution_count": 57,
     "metadata": {},
     "output_type": "execute_result"
    }
   ],
   "source": [
    "a.dtype"
   ]
  },
  {
   "cell_type": "code",
   "execution_count": 58,
   "id": "303f885f",
   "metadata": {},
   "outputs": [
    {
     "data": {
      "text/plain": [
       "int"
      ]
     },
     "execution_count": 58,
     "metadata": {},
     "output_type": "execute_result"
    }
   ],
   "source": [
    "a=1\n",
    "type(a)"
   ]
  },
  {
   "cell_type": "code",
   "execution_count": 59,
   "id": "18ea6ed6",
   "metadata": {},
   "outputs": [
    {
     "data": {
      "text/plain": [
       "float"
      ]
     },
     "execution_count": 59,
     "metadata": {},
     "output_type": "execute_result"
    }
   ],
   "source": [
    "a=1.0\n",
    "type(a)"
   ]
  },
  {
   "cell_type": "markdown",
   "id": "1acbb5f2",
   "metadata": {},
   "source": [
    "`-` 같은 int라도 int16, int32, int64으로 나누어진다."
   ]
  },
  {
   "cell_type": "code",
   "execution_count": 61,
   "id": "e8521567",
   "metadata": {},
   "outputs": [
    {
     "data": {
      "text/plain": [
       "array([1, 2, 3], dtype=int64)"
      ]
     },
     "execution_count": 61,
     "metadata": {},
     "output_type": "execute_result"
    }
   ],
   "source": [
    "a= np.array([1,2,3], dtype=np.int64)\n",
    "a"
   ]
  },
  {
   "cell_type": "code",
   "execution_count": 62,
   "id": "68904474",
   "metadata": {},
   "outputs": [
    {
     "data": {
      "text/plain": [
       "array([1, 2, 3])"
      ]
     },
     "execution_count": 62,
     "metadata": {},
     "output_type": "execute_result"
    }
   ],
   "source": [
    "a= np.array([1,2,3], dtype=np.int32)\n",
    "a"
   ]
  },
  {
   "cell_type": "code",
   "execution_count": 63,
   "id": "288f4bc4",
   "metadata": {},
   "outputs": [
    {
     "data": {
      "text/plain": [
       "dtype('int32')"
      ]
     },
     "execution_count": 63,
     "metadata": {},
     "output_type": "execute_result"
    }
   ],
   "source": [
    "a.dtype"
   ]
  },
  {
   "cell_type": "markdown",
   "id": "14999338",
   "metadata": {},
   "source": [
    "`-` float도 float16, float32, float64가 있다."
   ]
  },
  {
   "cell_type": "code",
   "execution_count": 64,
   "id": "143d0426",
   "metadata": {},
   "outputs": [
    {
     "data": {
      "text/plain": [
       "array([1., 2., 3.])"
      ]
     },
     "execution_count": 64,
     "metadata": {},
     "output_type": "execute_result"
    }
   ],
   "source": [
    "a=np.array([1,2,3],dtype=np.float64) #64는 기본이라 표시가 안된당. \n",
    "a"
   ]
  },
  {
   "cell_type": "code",
   "execution_count": 65,
   "id": "f5dd14ca",
   "metadata": {},
   "outputs": [
    {
     "data": {
      "text/plain": [
       "array([1., 2., 3.], dtype=float32)"
      ]
     },
     "execution_count": 65,
     "metadata": {},
     "output_type": "execute_result"
    }
   ],
   "source": [
    "a=np.array([1,2,3],dtype=np.float32)\n",
    "a"
   ]
  },
  {
   "cell_type": "markdown",
   "id": "75f267c7",
   "metadata": {},
   "source": [
    "`-` 데이터타입은 아래와 같은 방법으로 변환시킬 수 있다."
   ]
  },
  {
   "cell_type": "code",
   "execution_count": 66,
   "id": "ebe66988",
   "metadata": {},
   "outputs": [
    {
     "data": {
      "text/plain": [
       "array([1, 2, 3])"
      ]
     },
     "execution_count": 66,
     "metadata": {},
     "output_type": "execute_result"
    }
   ],
   "source": [
    "a = np.array([1,2,3],dtype=np.int32)\n",
    "a"
   ]
  },
  {
   "cell_type": "code",
   "execution_count": 68,
   "id": "0c5a7424",
   "metadata": {},
   "outputs": [],
   "source": [
    "a=a.astype(dtype=np.int64)"
   ]
  },
  {
   "cell_type": "code",
   "execution_count": 69,
   "id": "2063b1f0",
   "metadata": {},
   "outputs": [
    {
     "data": {
      "text/plain": [
       "dtype('int64')"
      ]
     },
     "execution_count": 69,
     "metadata": {},
     "output_type": "execute_result"
    }
   ],
   "source": [
    "a.dtype"
   ]
  },
  {
   "cell_type": "markdown",
   "id": "78f0a397",
   "metadata": {},
   "source": [
    "`-` 문자열의 경우"
   ]
  },
  {
   "cell_type": "code",
   "execution_count": 70,
   "id": "5bb180eb",
   "metadata": {},
   "outputs": [
    {
     "data": {
      "text/plain": [
       "array(['a', 'b', 'c'], dtype='<U1')"
      ]
     },
     "execution_count": 70,
     "metadata": {},
     "output_type": "execute_result"
    }
   ],
   "source": [
    "a= np.array(['a','b','c'])\n",
    "a"
   ]
  },
  {
   "cell_type": "code",
   "execution_count": 71,
   "id": "69208fad",
   "metadata": {},
   "outputs": [
    {
     "data": {
      "text/plain": [
       "array(['ab', 'b', 'c'], dtype='<U2')"
      ]
     },
     "execution_count": 71,
     "metadata": {},
     "output_type": "execute_result"
    }
   ],
   "source": [
    "a= np.array(['ab','b','c'])\n",
    "a"
   ]
  },
  {
   "cell_type": "code",
   "execution_count": 72,
   "id": "3186923d",
   "metadata": {},
   "outputs": [
    {
     "data": {
      "text/plain": [
       "array(['absfd', 'b', 'c'], dtype='<U5')"
      ]
     },
     "execution_count": 72,
     "metadata": {},
     "output_type": "execute_result"
    }
   ],
   "source": [
    "a= np.array(['absfd','b','c'])\n",
    "a"
   ]
  },
  {
   "cell_type": "markdown",
   "id": "c4f50af3",
   "metadata": {},
   "source": [
    "`-` 문자열+숫자혼합 => 문자열로 통일"
   ]
  },
  {
   "cell_type": "code",
   "execution_count": 73,
   "id": "8ba4a324",
   "metadata": {},
   "outputs": [
    {
     "data": {
      "text/plain": [
       "array(['a', '1'], dtype='<U11')"
      ]
     },
     "execution_count": 73,
     "metadata": {},
     "output_type": "execute_result"
    }
   ],
   "source": [
    "a=np.array(['a',1])\n",
    "a"
   ]
  },
  {
   "cell_type": "code",
   "execution_count": 74,
   "id": "4bf357e7",
   "metadata": {},
   "outputs": [
    {
     "data": {
      "text/plain": [
       "array(['a', '1423'], dtype='<U11')"
      ]
     },
     "execution_count": 74,
     "metadata": {},
     "output_type": "execute_result"
    }
   ],
   "source": [
    "a=np.array(['a',1423])\n",
    "a"
   ]
  },
  {
   "cell_type": "code",
   "execution_count": 75,
   "id": "38e5c51d",
   "metadata": {},
   "outputs": [
    {
     "data": {
      "text/plain": [
       "array(['a', '1.0'], dtype='<U32')"
      ]
     },
     "execution_count": 75,
     "metadata": {},
     "output_type": "execute_result"
    }
   ],
   "source": [
    "a=np.array(['a',1.0])\n",
    "a"
   ]
  },
  {
   "cell_type": "markdown",
   "id": "fb9463c0",
   "metadata": {},
   "source": [
    "`-` 숫자를 문자열로 전환: "
   ]
  },
  {
   "cell_type": "code",
   "execution_count": 76,
   "id": "f60c7ca3",
   "metadata": {},
   "outputs": [
    {
     "data": {
      "text/plain": [
       "array([1, 2, 3])"
      ]
     },
     "execution_count": 76,
     "metadata": {},
     "output_type": "execute_result"
    }
   ],
   "source": [
    "a=np.array([1,2,3])\n",
    "a"
   ]
  },
  {
   "cell_type": "code",
   "execution_count": 78,
   "id": "9713dd47",
   "metadata": {},
   "outputs": [
    {
     "data": {
      "text/plain": [
       "array(['1', '2', '3'], dtype='<U11')"
      ]
     },
     "execution_count": 78,
     "metadata": {},
     "output_type": "execute_result"
    }
   ],
   "source": [
    "a.astype(np.str_)\n",
    "\n",
    "# 문자열 타입으로 바뀌는"
   ]
  },
  {
   "cell_type": "markdown",
   "id": "fd34cc68",
   "metadata": {},
   "source": [
    "#### note 7: 브로드캐스팅과 시간측정"
   ]
  },
  {
   "cell_type": "markdown",
   "id": "3b35b892",
   "metadata": {},
   "source": [
    "(예비학습)"
   ]
  },
  {
   "cell_type": "code",
   "execution_count": 80,
   "id": "7dc7e49f",
   "metadata": {},
   "outputs": [],
   "source": [
    "import time"
   ]
  },
  {
   "cell_type": "code",
   "execution_count": 81,
   "id": "b9219f58",
   "metadata": {},
   "outputs": [],
   "source": [
    "t1=time.time()"
   ]
  },
  {
   "cell_type": "code",
   "execution_count": 82,
   "id": "6ea9c097",
   "metadata": {},
   "outputs": [
    {
     "data": {
      "text/plain": [
       "14.808058738708496"
      ]
     },
     "execution_count": 82,
     "metadata": {},
     "output_type": "execute_result"
    }
   ],
   "source": [
    "t2=time.time()\n",
    "t2-t1"
   ]
  },
  {
   "cell_type": "markdown",
   "id": "527cdaf2",
   "metadata": {},
   "source": [
    "예비학습끝"
   ]
  },
  {
   "cell_type": "markdown",
   "id": "1fec3f4e",
   "metadata": {},
   "source": [
    "(예제) x=[0,1,2,3,4]인 벡터가 있다고 하자. (i,j)의 원소는 `(x[i]-x[j])**2`를 의미하는 $5\\times5$ 매트릭스를 구하라.."
   ]
  },
  {
   "cell_type": "markdown",
   "id": "a3630790",
   "metadata": {},
   "source": [
    "(풀이)"
   ]
  },
  {
   "cell_type": "code",
   "execution_count": 102,
   "id": "377d37f6",
   "metadata": {},
   "outputs": [
    {
     "data": {
      "text/plain": [
       "array([0, 1, 2, 3, 4])"
      ]
     },
     "execution_count": 102,
     "metadata": {},
     "output_type": "execute_result"
    }
   ],
   "source": [
    "x=np.array(range(5))\n",
    "x"
   ]
  },
  {
   "cell_type": "code",
   "execution_count": 85,
   "id": "92005793",
   "metadata": {},
   "outputs": [
    {
     "data": {
      "text/plain": [
       "array([[0., 0., 0., 0., 0.],\n",
       "       [0., 0., 0., 0., 0.],\n",
       "       [0., 0., 0., 0., 0.],\n",
       "       [0., 0., 0., 0., 0.],\n",
       "       [0., 0., 0., 0., 0.]])"
      ]
     },
     "execution_count": 85,
     "metadata": {},
     "output_type": "execute_result"
    }
   ],
   "source": [
    "dist= np.zeros([5,5])\n",
    "dist"
   ]
  },
  {
   "cell_type": "code",
   "execution_count": 86,
   "id": "8e61636f",
   "metadata": {},
   "outputs": [],
   "source": [
    "for i in range(5):\n",
    "    for j in range(5):\n",
    "        dist[i,j] = (x[i]-x[j])**2"
   ]
  },
  {
   "cell_type": "code",
   "execution_count": 87,
   "id": "f62ece7b",
   "metadata": {},
   "outputs": [
    {
     "data": {
      "text/plain": [
       "array([[ 0.,  1.,  4.,  9., 16.],\n",
       "       [ 1.,  0.,  1.,  4.,  9.],\n",
       "       [ 4.,  1.,  0.,  1.,  4.],\n",
       "       [ 9.,  4.,  1.,  0.,  1.],\n",
       "       [16.,  9.,  4.,  1.,  0.]])"
      ]
     },
     "execution_count": 87,
     "metadata": {},
     "output_type": "execute_result"
    }
   ],
   "source": [
    "dist"
   ]
  },
  {
   "cell_type": "markdown",
   "id": "2f81e018",
   "metadata": {},
   "source": [
    "(풀이2)"
   ]
  },
  {
   "cell_type": "code",
   "execution_count": 103,
   "id": "f8a33348",
   "metadata": {},
   "outputs": [],
   "source": [
    "x1=x.reshape(5,1).astype(dtype=np.float64)\n",
    "x2=x.reshape(1,5).astype(dtype=np.float64)"
   ]
  },
  {
   "cell_type": "code",
   "execution_count": 104,
   "id": "f8358b4a",
   "metadata": {},
   "outputs": [
    {
     "data": {
      "text/plain": [
       "array([[0.],\n",
       "       [1.],\n",
       "       [2.],\n",
       "       [3.],\n",
       "       [4.]])"
      ]
     },
     "execution_count": 104,
     "metadata": {},
     "output_type": "execute_result"
    }
   ],
   "source": [
    "x1"
   ]
  },
  {
   "cell_type": "code",
   "execution_count": 105,
   "id": "c56ea6ac",
   "metadata": {},
   "outputs": [
    {
     "data": {
      "text/plain": [
       "array([[0., 1., 2., 3., 4.]])"
      ]
     },
     "execution_count": 105,
     "metadata": {},
     "output_type": "execute_result"
    }
   ],
   "source": [
    "x2"
   ]
  },
  {
   "cell_type": "code",
   "execution_count": 106,
   "id": "a43e1bb8",
   "metadata": {},
   "outputs": [
    {
     "data": {
      "text/plain": [
       "array([[ 0., -1., -2., -3., -4.],\n",
       "       [ 1.,  0., -1., -2., -3.],\n",
       "       [ 2.,  1.,  0., -1., -2.],\n",
       "       [ 3.,  2.,  1.,  0., -1.],\n",
       "       [ 4.,  3.,  2.,  1.,  0.]])"
      ]
     },
     "execution_count": 106,
     "metadata": {},
     "output_type": "execute_result"
    }
   ],
   "source": [
    "x1-x2"
   ]
  },
  {
   "cell_type": "markdown",
   "id": "17a89538",
   "metadata": {},
   "source": [
    "- (i,j)th element = x[i] - x[j]"
   ]
  },
  {
   "cell_type": "code",
   "execution_count": 92,
   "id": "9c18a0bd",
   "metadata": {},
   "outputs": [
    {
     "data": {
      "text/plain": [
       "array([[ 0,  1,  4,  9, 16],\n",
       "       [ 1,  0,  1,  4,  9],\n",
       "       [ 4,  1,  0,  1,  4],\n",
       "       [ 9,  4,  1,  0,  1],\n",
       "       [16,  9,  4,  1,  0]], dtype=int32)"
      ]
     },
     "execution_count": 92,
     "metadata": {},
     "output_type": "execute_result"
    }
   ],
   "source": [
    "(x1-x2)**2"
   ]
  },
  {
   "cell_type": "markdown",
   "id": "d7987193",
   "metadata": {},
   "source": [
    "---"
   ]
  },
  {
   "cell_type": "code",
   "execution_count": 93,
   "id": "96951783",
   "metadata": {},
   "outputs": [],
   "source": [
    "y=x=np.array(range(10000))"
   ]
  },
  {
   "cell_type": "code",
   "execution_count": 94,
   "id": "c09ee6c5",
   "metadata": {},
   "outputs": [
    {
     "data": {
      "text/plain": [
       "array([[0., 0., 0., ..., 0., 0., 0.],\n",
       "       [0., 0., 0., ..., 0., 0., 0.],\n",
       "       [0., 0., 0., ..., 0., 0., 0.],\n",
       "       ...,\n",
       "       [0., 0., 0., ..., 0., 0., 0.],\n",
       "       [0., 0., 0., ..., 0., 0., 0.],\n",
       "       [0., 0., 0., ..., 0., 0., 0.]])"
      ]
     },
     "execution_count": 94,
     "metadata": {},
     "output_type": "execute_result"
    }
   ],
   "source": [
    "dist= np.zeros([10000,10000])\n",
    "dist"
   ]
  },
  {
   "cell_type": "code",
   "execution_count": 95,
   "id": "5915213b",
   "metadata": {},
   "outputs": [
    {
     "data": {
      "text/plain": [
       "66.71002793312073"
      ]
     },
     "execution_count": 95,
     "metadata": {},
     "output_type": "execute_result"
    }
   ],
   "source": [
    "t1=time.time()\n",
    "for i in range(10000):\n",
    "    for j in range(10000):\n",
    "        dist[i,j] = (y[i]-y[j])**2\n",
    "t2=time.time()\n",
    "t2-t1"
   ]
  },
  {
   "cell_type": "code",
   "execution_count": 107,
   "id": "7e903faa",
   "metadata": {},
   "outputs": [],
   "source": [
    "y1=y.reshape(10000,1).astype(np.float64)\n",
    "y2=y.reshape(1,10000).astype(np.float64)"
   ]
  },
  {
   "cell_type": "code",
   "execution_count": 108,
   "id": "a28838a9",
   "metadata": {},
   "outputs": [
    {
     "data": {
      "text/plain": [
       "0.426450252532959"
      ]
     },
     "execution_count": 108,
     "metadata": {},
     "output_type": "execute_result"
    }
   ],
   "source": [
    "t1=time.time()\n",
    "dist2=(y1-y2)**2\n",
    "t2=time.time()\n",
    "t2-t1"
   ]
  },
  {
   "cell_type": "code",
   "execution_count": 109,
   "id": "b01818a4",
   "metadata": {},
   "outputs": [
    {
     "data": {
      "text/plain": [
       "(array([[ 0.,  1.,  4.,  9., 16.],\n",
       "        [ 1.,  0.,  1.,  4.,  9.],\n",
       "        [ 4.,  1.,  0.,  1.,  4.],\n",
       "        [ 9.,  4.,  1.,  0.,  1.],\n",
       "        [16.,  9.,  4.,  1.,  0.]]),\n",
       " array([[ 0.,  1.,  4.,  9., 16.],\n",
       "        [ 1.,  0.,  1.,  4.,  9.],\n",
       "        [ 4.,  1.,  0.,  1.,  4.],\n",
       "        [ 9.,  4.,  1.,  0.,  1.],\n",
       "        [16.,  9.,  4.,  1.,  0.]]))"
      ]
     },
     "execution_count": 109,
     "metadata": {},
     "output_type": "execute_result"
    }
   ],
   "source": [
    "dist[:5,:5], dist2[:5,:5]"
   ]
  },
  {
   "cell_type": "code",
   "execution_count": 100,
   "id": "40d365cf",
   "metadata": {},
   "outputs": [
    {
     "data": {
      "text/plain": [
       "0.0"
      ]
     },
     "execution_count": 100,
     "metadata": {},
     "output_type": "execute_result"
    }
   ],
   "source": [
    "(dist-dist2).sum()"
   ]
  },
  {
   "cell_type": "markdown",
   "id": "86118ae2",
   "metadata": {},
   "source": [
    "## matplotlib"
   ]
  },
  {
   "cell_type": "code",
   "execution_count": 110,
   "id": "c2578a8b",
   "metadata": {},
   "outputs": [],
   "source": [
    "import matplotlib.pyplot as plt"
   ]
  },
  {
   "cell_type": "markdown",
   "id": "2c3a0bf6",
   "metadata": {},
   "source": [
    "### plt.plot"
   ]
  },
  {
   "cell_type": "markdown",
   "id": "d18f8b20",
   "metadata": {},
   "source": [
    "`-` 기본그림"
   ]
  },
  {
   "cell_type": "code",
   "execution_count": 114,
   "id": "0e996b41",
   "metadata": {},
   "outputs": [
    {
     "data": {
      "text/plain": [
       "[<matplotlib.lines.Line2D at 0x1cfb236f1f0>]"
      ]
     },
     "execution_count": 114,
     "metadata": {},
     "output_type": "execute_result"
    },
    {
     "data": {
      "image/png": "[encoded data removed]",
      "text/plain": [
       "<Figure size 432x288 with 1 Axes>"
      ]
     },
     "metadata": {
      "needs_background": "light"
     },
     "output_type": "display_data"
    }
   ],
   "source": [
    "plt.plot([1,2,3],[3,4,5],'.')"
   ]
  },
  {
   "cell_type": "code",
   "execution_count": 115,
   "id": "8f7e28b3",
   "metadata": {},
   "outputs": [
    {
     "data": {
      "text/plain": [
       "[<matplotlib.lines.Line2D at 0x1cfb23e17c0>]"
      ]
     },
     "execution_count": 115,
     "metadata": {},
     "output_type": "execute_result"
    },
    {
     "data": {
      "image/png": "[encoded data removed]",
      "text/plain": [
       "<Figure size 432x288 with 1 Axes>"
      ]
     },
     "metadata": {
      "needs_background": "light"
     },
     "output_type": "display_data"
    }
   ],
   "source": [
    "plt.plot(np.array([1,2,3]),np.array([3,4,5]),'.')"
   ]
  },
  {
   "cell_type": "markdown",
   "id": "9bf4b4a0",
   "metadata": {},
   "source": [
    "`-` 예제들"
   ]
  },
  {
   "cell_type": "code",
   "execution_count": 116,
   "id": "e5b8f087",
   "metadata": {},
   "outputs": [
    {
     "data": {
      "text/plain": [
       "array([-6.        , -5.87878788, -5.75757576, -5.63636364, -5.51515152,\n",
       "       -5.39393939, -5.27272727, -5.15151515, -5.03030303, -4.90909091,\n",
       "       -4.78787879, -4.66666667, -4.54545455, -4.42424242, -4.3030303 ,\n",
       "       -4.18181818, -4.06060606, -3.93939394, -3.81818182, -3.6969697 ,\n",
       "       -3.57575758, -3.45454545, -3.33333333, -3.21212121, -3.09090909,\n",
       "       -2.96969697, -2.84848485, -2.72727273, -2.60606061, -2.48484848,\n",
       "       -2.36363636, -2.24242424, -2.12121212, -2.        , -1.87878788,\n",
       "       -1.75757576, -1.63636364, -1.51515152, -1.39393939, -1.27272727,\n",
       "       -1.15151515, -1.03030303, -0.90909091, -0.78787879, -0.66666667,\n",
       "       -0.54545455, -0.42424242, -0.3030303 , -0.18181818, -0.06060606,\n",
       "        0.06060606,  0.18181818,  0.3030303 ,  0.42424242,  0.54545455,\n",
       "        0.66666667,  0.78787879,  0.90909091,  1.03030303,  1.15151515,\n",
       "        1.27272727,  1.39393939,  1.51515152,  1.63636364,  1.75757576,\n",
       "        1.87878788,  2.        ,  2.12121212,  2.24242424,  2.36363636,\n",
       "        2.48484848,  2.60606061,  2.72727273,  2.84848485,  2.96969697,\n",
       "        3.09090909,  3.21212121,  3.33333333,  3.45454545,  3.57575758,\n",
       "        3.6969697 ,  3.81818182,  3.93939394,  4.06060606,  4.18181818,\n",
       "        4.3030303 ,  4.42424242,  4.54545455,  4.66666667,  4.78787879,\n",
       "        4.90909091,  5.03030303,  5.15151515,  5.27272727,  5.39393939,\n",
       "        5.51515152,  5.63636364,  5.75757576,  5.87878788,  6.        ])"
      ]
     },
     "execution_count": 116,
     "metadata": {},
     "output_type": "execute_result"
    }
   ],
   "source": [
    "t=np.linspace(-6,6,100)\n",
    "t"
   ]
  },
  {
   "cell_type": "code",
   "execution_count": 117,
   "id": "b2a8fec4",
   "metadata": {},
   "outputs": [],
   "source": [
    "x=np.sin(t)\n",
    "y=np.cos(t)"
   ]
  },
  {
   "cell_type": "code",
   "execution_count": 118,
   "id": "b6748257",
   "metadata": {},
   "outputs": [
    {
     "data": {
      "text/plain": [
       "[<matplotlib.lines.Line2D at 0x1cfb2455670>]"
      ]
     },
     "execution_count": 118,
     "metadata": {},
     "output_type": "execute_result"
    },
    {
     "data": {
      "image/png": "[encoded data removed]",
      "text/plain": [
       "<Figure size 432x288 with 1 Axes>"
      ]
     },
     "metadata": {
      "needs_background": "light"
     },
     "output_type": "display_data"
    }
   ],
   "source": [
    "plt.plot(t,x)"
   ]
  },
  {
   "cell_type": "code",
   "execution_count": 119,
   "id": "baf14f6a",
   "metadata": {},
   "outputs": [
    {
     "data": {
      "text/plain": [
       "[<matplotlib.lines.Line2D at 0x1cfb24bfe80>]"
      ]
     },
     "execution_count": 119,
     "metadata": {},
     "output_type": "execute_result"
    },
    {
     "data": {
      "image/png": "[encoded data removed]",
      "text/plain": [
       "<Figure size 432x288 with 1 Axes>"
      ]
     },
     "metadata": {
      "needs_background": "light"
     },
     "output_type": "display_data"
    }
   ],
   "source": [
    "plt.plot(t,y)"
   ]
  },
  {
   "cell_type": "code",
   "execution_count": 120,
   "id": "41b775b2",
   "metadata": {},
   "outputs": [
    {
     "data": {
      "text/plain": [
       "[<matplotlib.lines.Line2D at 0x1cfb34fc8e0>]"
      ]
     },
     "execution_count": 120,
     "metadata": {},
     "output_type": "execute_result"
    },
    {
     "data": {
      "image/png": "[encoded data removed]",
      "text/plain": [
       "<Figure size 432x288 with 1 Axes>"
      ]
     },
     "metadata": {
      "needs_background": "light"
     },
     "output_type": "display_data"
    }
   ],
   "source": [
    "plt.plot(t,x)\n",
    "plt.plot(t,y)"
   ]
  },
  {
   "cell_type": "code",
   "execution_count": 121,
   "id": "1a928000",
   "metadata": {},
   "outputs": [
    {
     "data": {
      "text/plain": [
       "[<matplotlib.lines.Line2D at 0x1cfb356f460>]"
      ]
     },
     "execution_count": 121,
     "metadata": {},
     "output_type": "execute_result"
    },
    {
     "data": {
      "image/png": "[encoded data removed]",
      "text/plain": [
       "<Figure size 432x288 with 1 Axes>"
      ]
     },
     "metadata": {
      "needs_background": "light"
     },
     "output_type": "display_data"
    }
   ],
   "source": [
    "plt.plot(t,x)\n",
    "plt.plot(t,y,'.')"
   ]
  },
  {
   "cell_type": "code",
   "execution_count": 122,
   "id": "db3ab4c4",
   "metadata": {},
   "outputs": [
    {
     "data": {
      "text/plain": [
       "[<matplotlib.lines.Line2D at 0x1cfb35d2f10>]"
      ]
     },
     "execution_count": 122,
     "metadata": {},
     "output_type": "execute_result"
    },
    {
     "data": {
      "image/png": "[encoded data removed]",
      "text/plain": [
       "<Figure size 432x288 with 1 Axes>"
      ]
     },
     "metadata": {
      "needs_background": "light"
     },
     "output_type": "display_data"
    }
   ],
   "source": [
    "plt.plot(t,x)\n",
    "plt.plot(t,y,'--')"
   ]
  },
  {
   "cell_type": "markdown",
   "id": "f1974d9d",
   "metadata": {},
   "source": [
    "### plt.hist"
   ]
  },
  {
   "cell_type": "code",
   "execution_count": 124,
   "id": "d1bb0756",
   "metadata": {},
   "outputs": [],
   "source": [
    "X=np.random.randn(1000)"
   ]
  },
  {
   "cell_type": "code",
   "execution_count": 125,
   "id": "22881c2f",
   "metadata": {},
   "outputs": [
    {
     "data": {
      "text/plain": [
       "(array([  3.,  14.,  66., 157., 232., 245., 155.,  92.,  28.,   8.]),\n",
       " array([-3.29472542, -2.65210581, -2.0094862 , -1.36686658, -0.72424697,\n",
       "        -0.08162736,  0.56099226,  1.20361187,  1.84623148,  2.4888511 ,\n",
       "         3.13147071]),\n",
       " <BarContainer object of 10 artists>)"
      ]
     },
     "execution_count": 125,
     "metadata": {},
     "output_type": "execute_result"
    },
    {
     "data": {
      "image/png": "[encoded data removed]",
      "text/plain": [
       "<Figure size 432x288 with 1 Axes>"
      ]
     },
     "metadata": {
      "needs_background": "light"
     },
     "output_type": "display_data"
    }
   ],
   "source": [
    "plt.hist(X)"
   ]
  },
  {
   "cell_type": "code",
   "execution_count": 127,
   "id": "10d3fd5a",
   "metadata": {},
   "outputs": [
    {
     "data": {
      "text/plain": [
       "(array([ 98., 127., 107.,  87.,  83.,  86.,  85., 118., 110.,  99.]),\n",
       " array([0.00162071, 0.10140453, 0.20118836, 0.30097218, 0.40075601,\n",
       "        0.50053983, 0.60032366, 0.70010748, 0.79989131, 0.89967513,\n",
       "        0.99945896]),\n",
       " <BarContainer object of 10 artists>)"
      ]
     },
     "execution_count": 127,
     "metadata": {},
     "output_type": "execute_result"
    },
    {
     "data": {
      "image/png": "[encoded data removed]",
      "text/plain": [
       "<Figure size 432x288 with 1 Axes>"
      ]
     },
     "metadata": {
      "needs_background": "light"
     },
     "output_type": "display_data"
    }
   ],
   "source": [
    "Y=np.random.rand(1000)\n",
    "plt.hist(Y)"
   ]
  },
  {
   "cell_type": "code",
   "execution_count": 128,
   "id": "61054718",
   "metadata": {},
   "outputs": [
    {
     "data": {
      "text/plain": [
       "(array([ 98., 127., 107.,  87.,  83.,  86.,  85., 118., 110.,  99.]),\n",
       " array([0.00162071, 0.10140453, 0.20118836, 0.30097218, 0.40075601,\n",
       "        0.50053983, 0.60032366, 0.70010748, 0.79989131, 0.89967513,\n",
       "        0.99945896]),\n",
       " <BarContainer object of 10 artists>)"
      ]
     },
     "execution_count": 128,
     "metadata": {},
     "output_type": "execute_result"
    },
    {
     "data": {
      "image/png": "[encoded data removed]",
      "text/plain": [
       "<Figure size 432x288 with 1 Axes>"
      ]
     },
     "metadata": {
      "needs_background": "light"
     },
     "output_type": "display_data"
    }
   ],
   "source": [
    "plt.hist(X)\n",
    "plt.hist(Y)"
   ]
  },
  {
   "cell_type": "code",
   "execution_count": null,
   "id": "5717973d",
   "metadata": {},
   "outputs": [],
   "source": []
  }
 ],
 "metadata": {
  "kernelspec": {
   "display_name": "Python 3",
   "language": "python",
   "name": "python3"
  },
  "language_info": {
   "codemirror_mode": {
    "name": "ipython",
    "version": 3
   },
   "file_extension": ".py",
   "mimetype": "text/x-python",
   "name": "python",
   "nbconvert_exporter": "python",
   "pygments_lexer": "ipython3",
   "version": "3.7.16"
  },
  "toc": {
   "base_numbering": 1,
   "nav_menu": {},
   "number_sections": true,
   "sideBar": true,
   "skip_h1_title": false,
   "title_cell": "Table of Contents",
   "title_sidebar": "Contents",
   "toc_cell": false,
   "toc_position": {},
   "toc_section_display": true,
   "toc_window_display": false
  }
 },
 "nbformat": 4,
 "nbformat_minor": 5
}
