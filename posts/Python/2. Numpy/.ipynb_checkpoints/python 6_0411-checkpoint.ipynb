{
 "cells": [
  {
   "cell_type": "raw",
   "id": "5820646a-8710-4c92-aee5-06c33101a8e4",
   "metadata": {
    "id": "c05a6ee2-0d7e-402e-af7a-5a865064e6f1",
    "tags": []
   },
   "source": [
    "---\n",
    "title: \"파이썬 (0411) 6주차 \"\n",
    "author: \"김보람\"\n",
    "date: \"04/11/2022\"\n",
    "categories:\n",
    "  - numpy\n",
    "---"
   ]
  },
  {
   "cell_type": "markdown",
   "id": "96547ef3-2a25-420f-9e6a-0a04c82557dd",
   "metadata": {
    "id": "96547ef3-2a25-420f-9e6a-0a04c82557dd"
   },
   "source": [
    "### imports "
   ]
  },
  {
   "cell_type": "code",
   "execution_count": null,
   "id": "c4a2c671-67bb-4247-93ee-12eaf3e8d3ae",
   "metadata": {
    "id": "c4a2c671-67bb-4247-93ee-12eaf3e8d3ae"
   },
   "outputs": [],
   "source": [
    "import numpy as np"
   ]
  },
  {
   "cell_type": "markdown",
   "id": "5d011159-1fea-4c7a-9306-a43d71f22372",
   "metadata": {
    "id": "5d011159-1fea-4c7a-9306-a43d71f22372"
   },
   "source": [
    "### numpy공부 3단계: 차원 "
   ]
  },
  {
   "cell_type": "markdown",
   "id": "8aa5c072-ce38-44a9-9835-7b0bde83887e",
   "metadata": {
    "id": "8aa5c072-ce38-44a9-9835-7b0bde83887e"
   },
   "source": [
    "#### 2차원 배열과 연립 1차 방정식 "
   ]
  },
  {
   "cell_type": "markdown",
   "id": "56f14dfa-e364-403e-8603-9cb84c7bb4f5",
   "metadata": {
    "id": "56f14dfa-e364-403e-8603-9cb84c7bb4f5"
   },
   "source": [
    "`-` 아래의 연립방정식 고려 \n",
    "\n",
    "$\\begin{cases}\n",
    "y+z+w = 3 \\\\ \n",
    "x+z+w = 3 \\\\ \n",
    "x+y+w = 3 \\\\\n",
    "x+y+z = 3 \n",
    "\\end{cases}$"
   ]
  },
  {
   "cell_type": "markdown",
   "id": "5184df4a-063e-440c-8ded-78ee0dbb9658",
   "metadata": {
    "id": "5184df4a-063e-440c-8ded-78ee0dbb9658"
   },
   "source": [
    "`-` 행렬표현? \n",
    "\n",
    "$\\begin{bmatrix} \n",
    "0 & 1 & 1 & 1 \\\\\n",
    "1 & 0 & 1 & 1 \\\\\n",
    "1 & 1 & 0 & 1 \\\\\n",
    "1 & 1 & 1 & 0 \n",
    "\\end{bmatrix}\n",
    "\\begin{bmatrix}\n",
    "x \\\\ \n",
    "y \\\\ \n",
    "z \\\\ \n",
    "w \n",
    "\\end{bmatrix} =\n",
    "\\begin{bmatrix}\n",
    "3 \\\\ \n",
    "3 \\\\ \n",
    "3 \\\\ \n",
    "3 \n",
    "\\end{bmatrix}$\n"
   ]
  },
  {
   "cell_type": "markdown",
   "id": "98b21e66-13f2-4b15-86ff-36a7da934854",
   "metadata": {
    "id": "98b21e66-13f2-4b15-86ff-36a7da934854"
   },
   "source": [
    "`-` 풀이"
   ]
  },
  {
   "cell_type": "code",
   "execution_count": null,
   "id": "8ead3cfd-c2c2-4396-b5b3-a29f046dca75",
   "metadata": {
    "id": "8ead3cfd-c2c2-4396-b5b3-a29f046dca75",
    "outputId": "8037f409-969e-4037-fab8-2937910705b5"
   },
   "outputs": [
    {
     "data": {
      "text/plain": [
       "array([[0, 1, 1, 1],\n",
       "       [1, 0, 1, 1],\n",
       "       [1, 1, 0, 1],\n",
       "       [1, 1, 1, 0]])"
      ]
     },
     "execution_count": 3,
     "metadata": {},
     "output_type": "execute_result"
    }
   ],
   "source": [
    "A = np.array([[0,1,1,1],[1,0,1,1],[1,1,0,1],[1,1,1,0]])\n",
    "A"
   ]
  },
  {
   "cell_type": "code",
   "execution_count": null,
   "id": "d1076ac5-6da8-40c4-a300-cc5568282f63",
   "metadata": {
    "id": "d1076ac5-6da8-40c4-a300-cc5568282f63",
    "outputId": "b24d96a7-f27f-467d-c3af-997d1aaecf6e"
   },
   "outputs": [
    {
     "data": {
      "text/plain": [
       "array([[3],\n",
       "       [3],\n",
       "       [3],\n",
       "       [3]])"
      ]
     },
     "execution_count": 5,
     "metadata": {},
     "output_type": "execute_result"
    }
   ],
   "source": [
    "b= np.array([3,3,3,3]).reshape(4,1)\n",
    "b"
   ]
  },
  {
   "cell_type": "code",
   "execution_count": null,
   "id": "6f1095cf-098e-48ae-a980-81bea7538c5d",
   "metadata": {
    "id": "6f1095cf-098e-48ae-a980-81bea7538c5d",
    "outputId": "27aabe73-3d4f-47a2-8b9b-16986c1baadf"
   },
   "outputs": [
    {
     "data": {
      "text/plain": [
       "array([[1.],\n",
       "       [1.],\n",
       "       [1.],\n",
       "       [1.]])"
      ]
     },
     "execution_count": 7,
     "metadata": {},
     "output_type": "execute_result"
    }
   ],
   "source": [
    "np.linalg.inv(A) @ b "
   ]
  },
  {
   "cell_type": "markdown",
   "id": "adc7c347-7ab8-41b1-9900-e4537154cdd4",
   "metadata": {
    "id": "adc7c347-7ab8-41b1-9900-e4537154cdd4"
   },
   "source": [
    "`-` 다른풀이 "
   ]
  },
  {
   "cell_type": "markdown",
   "id": "dc780d85-517d-4214-98ae-e26b3df643ca",
   "metadata": {
    "id": "dc780d85-517d-4214-98ae-e26b3df643ca"
   },
   "source": [
    "b를 아래와 같이 만들어도 된다. "
   ]
  },
  {
   "cell_type": "code",
   "execution_count": null,
   "id": "5f7663ab-e096-47f4-afff-b761c7777a80",
   "metadata": {
    "id": "5f7663ab-e096-47f4-afff-b761c7777a80",
    "outputId": "31d64595-1070-43fe-9af0-f3b2cc553155"
   },
   "outputs": [
    {
     "data": {
      "text/plain": [
       "array([3, 3, 3, 3])"
      ]
     },
     "execution_count": 11,
     "metadata": {},
     "output_type": "execute_result"
    }
   ],
   "source": [
    "b=np.array([3,3,3,3])\n",
    "b"
   ]
  },
  {
   "cell_type": "code",
   "execution_count": null,
   "id": "7b82c5b9-0eba-4c21-8dec-0d094156e1e7",
   "metadata": {
    "id": "7b82c5b9-0eba-4c21-8dec-0d094156e1e7",
    "outputId": "7093b44a-452a-4817-865d-39d79bad2632"
   },
   "outputs": [
    {
     "data": {
      "text/plain": [
       "(4,)"
      ]
     },
     "execution_count": 13,
     "metadata": {},
     "output_type": "execute_result"
    }
   ],
   "source": [
    "b.shape # b.shape은 길이가 1인 튜플로 나온다. "
   ]
  },
  {
   "cell_type": "code",
   "execution_count": null,
   "id": "83aaac2e-7526-4b1c-aa75-422a96021fa5",
   "metadata": {
    "id": "83aaac2e-7526-4b1c-aa75-422a96021fa5",
    "outputId": "4b0fe592-17a2-49b8-c002-262d5086977c"
   },
   "outputs": [
    {
     "data": {
      "text/plain": [
       "array([1., 1., 1., 1.])"
      ]
     },
     "execution_count": 14,
     "metadata": {},
     "output_type": "execute_result"
    }
   ],
   "source": [
    "np.linalg.inv(A) @ b "
   ]
  },
  {
   "cell_type": "markdown",
   "id": "715bbae9-6120-4266-837e-c726c6ff17f7",
   "metadata": {
    "id": "715bbae9-6120-4266-837e-c726c6ff17f7"
   },
   "source": [
    "#### `@`의 유연성 "
   ]
  },
  {
   "cell_type": "markdown",
   "id": "4f0a884b-e208-4f0b-90dc-9f64aae25508",
   "metadata": {
    "id": "4f0a884b-e208-4f0b-90dc-9f64aae25508"
   },
   "source": [
    "`-` 엄밀하게는 아래의 행렬곱이 가능하다. \n",
    "- (2,2) @ (2,1) => (2,1) \n",
    "- (1,2) @ (2,2) => (1,2) "
   ]
  },
  {
   "cell_type": "code",
   "execution_count": null,
   "id": "504906f8-b92b-480b-a2bb-e37f7d873df6",
   "metadata": {
    "id": "504906f8-b92b-480b-a2bb-e37f7d873df6",
    "outputId": "632d66cd-9206-4e6c-b1b4-6cfe70bf2908"
   },
   "outputs": [
    {
     "data": {
      "text/plain": [
       "array([[ 5],\n",
       "       [11]])"
      ]
     },
     "execution_count": 17,
     "metadata": {},
     "output_type": "execute_result"
    }
   ],
   "source": [
    "A = np.array([1,2,3,4]).reshape(2,2) \n",
    "b = np.array([1,2]).reshape(2,1) \n",
    "A@b"
   ]
  },
  {
   "cell_type": "code",
   "execution_count": null,
   "id": "97634696-a710-4045-ae86-9a3fc81760aa",
   "metadata": {
    "id": "97634696-a710-4045-ae86-9a3fc81760aa",
    "outputId": "fef65396-e0e6-447d-f345-6c950c298ff6"
   },
   "outputs": [
    {
     "data": {
      "text/plain": [
       "((2, 2), (2, 1), (2, 1))"
      ]
     },
     "execution_count": 18,
     "metadata": {},
     "output_type": "execute_result"
    }
   ],
   "source": [
    "A.shape, b.shape, (A@b).shape"
   ]
  },
  {
   "cell_type": "code",
   "execution_count": null,
   "id": "17f2c007-db45-4adc-8f71-8647d6a3e3f4",
   "metadata": {
    "id": "17f2c007-db45-4adc-8f71-8647d6a3e3f4",
    "outputId": "9f1c5b3f-9ce4-4b6f-823f-70acf528cb45"
   },
   "outputs": [
    {
     "data": {
      "text/plain": [
       "array([[ 7, 10]])"
      ]
     },
     "execution_count": 20,
     "metadata": {},
     "output_type": "execute_result"
    }
   ],
   "source": [
    "A = np.array([1,2,3,4]).reshape(2,2) \n",
    "b = np.array([1,2]).reshape(1,2) \n",
    "b@A "
   ]
  },
  {
   "cell_type": "code",
   "execution_count": null,
   "id": "9b760f32-cf00-46ca-b9e7-7fe420d2fb76",
   "metadata": {
    "id": "9b760f32-cf00-46ca-b9e7-7fe420d2fb76",
    "outputId": "157afcb9-92e9-49d9-956c-afd8b2efc07d"
   },
   "outputs": [
    {
     "data": {
      "text/plain": [
       "((2, 2), (1, 2), (1, 2))"
      ]
     },
     "execution_count": 21,
     "metadata": {},
     "output_type": "execute_result"
    }
   ],
   "source": [
    "A.shape, b.shape, (b@A).shape"
   ]
  },
  {
   "cell_type": "markdown",
   "id": "f41d3993-aed4-40ac-9801-3ff30df2e63a",
   "metadata": {
    "id": "f41d3993-aed4-40ac-9801-3ff30df2e63a"
   },
   "source": [
    "`-` 당연히 아래는 성립안한다. "
   ]
  },
  {
   "cell_type": "code",
   "execution_count": null,
   "id": "ad0c85a3-39e4-4ac5-b7dc-ae9e5356a229",
   "metadata": {
    "id": "ad0c85a3-39e4-4ac5-b7dc-ae9e5356a229",
    "outputId": "aef4f02a-09a1-48e9-ea5d-9954430738e8"
   },
   "outputs": [
    {
     "ename": "ValueError",
     "evalue": "matmul: Input operand 1 has a mismatch in its core dimension 0, with gufunc signature (n?,k),(k,m?)->(n?,m?) (size 2 is different from 1)",
     "output_type": "error",
     "traceback": [
      "\u001b[0;31m---------------------------------------------------------------------------\u001b[0m",
      "\u001b[0;31mValueError\u001b[0m                                Traceback (most recent call last)",
      "Input \u001b[0;32mIn [22]\u001b[0m, in \u001b[0;36m<cell line: 3>\u001b[0;34m()\u001b[0m\n\u001b[1;32m      1\u001b[0m A \u001b[38;5;241m=\u001b[39m np\u001b[38;5;241m.\u001b[39marray([\u001b[38;5;241m1\u001b[39m,\u001b[38;5;241m2\u001b[39m,\u001b[38;5;241m3\u001b[39m,\u001b[38;5;241m4\u001b[39m])\u001b[38;5;241m.\u001b[39mreshape(\u001b[38;5;241m2\u001b[39m,\u001b[38;5;241m2\u001b[39m) \n\u001b[1;32m      2\u001b[0m b \u001b[38;5;241m=\u001b[39m np\u001b[38;5;241m.\u001b[39marray([\u001b[38;5;241m1\u001b[39m,\u001b[38;5;241m2\u001b[39m])\u001b[38;5;241m.\u001b[39mreshape(\u001b[38;5;241m2\u001b[39m,\u001b[38;5;241m1\u001b[39m) \n\u001b[0;32m----> 3\u001b[0m \u001b[43mb\u001b[49m\u001b[38;5;129;43m@A\u001b[39;49m\n",
      "\u001b[0;31mValueError\u001b[0m: matmul: Input operand 1 has a mismatch in its core dimension 0, with gufunc signature (n?,k),(k,m?)->(n?,m?) (size 2 is different from 1)"
     ]
    }
   ],
   "source": [
    "A = np.array([1,2,3,4]).reshape(2,2) \n",
    "b = np.array([1,2]).reshape(2,1) \n",
    "b@A"
   ]
  },
  {
   "cell_type": "code",
   "execution_count": null,
   "id": "0e7502de-a2e1-418f-b605-24e2c9e0afc1",
   "metadata": {
    "id": "0e7502de-a2e1-418f-b605-24e2c9e0afc1",
    "outputId": "0dfeadfa-98fa-4578-db50-2380c101183e"
   },
   "outputs": [
    {
     "ename": "ValueError",
     "evalue": "matmul: Input operand 1 has a mismatch in its core dimension 0, with gufunc signature (n?,k),(k,m?)->(n?,m?) (size 1 is different from 2)",
     "output_type": "error",
     "traceback": [
      "\u001b[0;31m---------------------------------------------------------------------------\u001b[0m",
      "\u001b[0;31mValueError\u001b[0m                                Traceback (most recent call last)",
      "Input \u001b[0;32mIn [23]\u001b[0m, in \u001b[0;36m<cell line: 3>\u001b[0;34m()\u001b[0m\n\u001b[1;32m      1\u001b[0m A \u001b[38;5;241m=\u001b[39m np\u001b[38;5;241m.\u001b[39marray([\u001b[38;5;241m1\u001b[39m,\u001b[38;5;241m2\u001b[39m,\u001b[38;5;241m3\u001b[39m,\u001b[38;5;241m4\u001b[39m])\u001b[38;5;241m.\u001b[39mreshape(\u001b[38;5;241m2\u001b[39m,\u001b[38;5;241m2\u001b[39m) \n\u001b[1;32m      2\u001b[0m b \u001b[38;5;241m=\u001b[39m np\u001b[38;5;241m.\u001b[39marray([\u001b[38;5;241m1\u001b[39m,\u001b[38;5;241m2\u001b[39m])\u001b[38;5;241m.\u001b[39mreshape(\u001b[38;5;241m1\u001b[39m,\u001b[38;5;241m2\u001b[39m) \n\u001b[0;32m----> 3\u001b[0m \u001b[43mA\u001b[49m\u001b[38;5;129;43m@b\u001b[39;49m\n",
      "\u001b[0;31mValueError\u001b[0m: matmul: Input operand 1 has a mismatch in its core dimension 0, with gufunc signature (n?,k),(k,m?)->(n?,m?) (size 1 is different from 2)"
     ]
    }
   ],
   "source": [
    "A = np.array([1,2,3,4]).reshape(2,2) \n",
    "b = np.array([1,2]).reshape(1,2) \n",
    "A@b"
   ]
  },
  {
   "cell_type": "markdown",
   "id": "5a285ab7-7b0a-456f-b13e-00a77cd7979e",
   "metadata": {
    "id": "5a285ab7-7b0a-456f-b13e-00a77cd7979e"
   },
   "source": [
    "`-` 아래는 어떨까? 계산가능할까? $\\to$ 모두 계산가능!\n",
    "- (2,) @ (2,2) = (2,) \n",
    "- (2,2) @ (2,) = (2,) "
   ]
  },
  {
   "cell_type": "code",
   "execution_count": null,
   "id": "b711f1c6-300f-4718-a06f-37dadd295359",
   "metadata": {
    "id": "b711f1c6-300f-4718-a06f-37dadd295359",
    "outputId": "3ec2c07e-cf75-4bbb-ef8e-eca6e34a7c75"
   },
   "outputs": [
    {
     "data": {
      "text/plain": [
       "array([ 5, 11])"
      ]
     },
     "execution_count": 25,
     "metadata": {},
     "output_type": "execute_result"
    }
   ],
   "source": [
    "A = np.array([1,2,3,4]).reshape(2,2)\n",
    "b = np.array([1,2]) \n",
    "A@b"
   ]
  },
  {
   "cell_type": "code",
   "execution_count": null,
   "id": "32dcab3c-aacb-4f86-b39e-d7ad0b4d6f7e",
   "metadata": {
    "id": "32dcab3c-aacb-4f86-b39e-d7ad0b4d6f7e",
    "outputId": "aae6a2d6-775c-4508-8026-eb46c2bb6f1e"
   },
   "outputs": [
    {
     "data": {
      "text/plain": [
       "((2, 2), (2,), (2,))"
      ]
     },
     "execution_count": 26,
     "metadata": {},
     "output_type": "execute_result"
    }
   ],
   "source": [
    "A.shape, b.shape, (A@b).shape "
   ]
  },
  {
   "cell_type": "markdown",
   "id": "383b422b-fb77-42ac-995f-6372132a346e",
   "metadata": {
    "id": "383b422b-fb77-42ac-995f-6372132a346e"
   },
   "source": [
    "- b를 마치 (2,1)처럼 해석하여 행렬곱하고 결과는 다시 (2,) 로 만든것 같다. "
   ]
  },
  {
   "cell_type": "code",
   "execution_count": null,
   "id": "f8c4fa6c-0734-49c7-9000-4242ba774032",
   "metadata": {
    "id": "f8c4fa6c-0734-49c7-9000-4242ba774032",
    "outputId": "3b9104c9-aa25-4bd2-dfe3-cc291a15e1f1"
   },
   "outputs": [
    {
     "data": {
      "text/plain": [
       "array([ 7, 10])"
      ]
     },
     "execution_count": 27,
     "metadata": {},
     "output_type": "execute_result"
    }
   ],
   "source": [
    "b@A"
   ]
  },
  {
   "cell_type": "code",
   "execution_count": null,
   "id": "1e47215f-9f55-4ee1-bc87-203a615cb39f",
   "metadata": {
    "id": "1e47215f-9f55-4ee1-bc87-203a615cb39f",
    "outputId": "85395d78-6127-4955-ef16-476f9bfa2599"
   },
   "outputs": [
    {
     "data": {
      "text/plain": [
       "((2, 2), (2,), (2,))"
      ]
     },
     "execution_count": 28,
     "metadata": {},
     "output_type": "execute_result"
    }
   ],
   "source": [
    "A.shape, b.shape, (b@A).shape "
   ]
  },
  {
   "cell_type": "markdown",
   "id": "c1449ae5-a433-48a1-9ba1-dbf18639b0a8",
   "metadata": {
    "id": "c1449ae5-a433-48a1-9ba1-dbf18639b0a8"
   },
   "source": [
    "- 이때는 $b$를 마치 (1,2)처럼 해석하여 행렬곱하고 결과는 다시 (2,)로 만든것 같다. "
   ]
  },
  {
   "cell_type": "markdown",
   "id": "a2cfd4ae-333a-4f7f-9077-c955fada3357",
   "metadata": {
    "id": "a2cfd4ae-333a-4f7f-9077-c955fada3357"
   },
   "source": [
    "`-` 아래는 어떠할까? "
   ]
  },
  {
   "cell_type": "code",
   "execution_count": null,
   "id": "5a14ac90-eb80-481e-be9e-3eef002fbf13",
   "metadata": {
    "id": "5a14ac90-eb80-481e-be9e-3eef002fbf13",
    "outputId": "85314cb1-3720-441f-eace-7c5e8d6618f6"
   },
   "outputs": [
    {
     "data": {
      "text/plain": [
       "30"
      ]
     },
     "execution_count": 32,
     "metadata": {},
     "output_type": "execute_result"
    }
   ],
   "source": [
    "b1 = np.array([1,2,3,4]) \n",
    "b2 = np.array([1,2,3,4]) \n",
    "b1@b2 "
   ]
  },
  {
   "cell_type": "code",
   "execution_count": null,
   "id": "9c99fc6a-52ed-4531-ae28-01ab9566a07f",
   "metadata": {
    "id": "9c99fc6a-52ed-4531-ae28-01ab9566a07f",
    "outputId": "b6d6f3fe-bd3b-4f05-e187-69a7b3c53193"
   },
   "outputs": [
    {
     "data": {
      "text/plain": [
       "((4,), (4,), ())"
      ]
     },
     "execution_count": 31,
     "metadata": {},
     "output_type": "execute_result"
    }
   ],
   "source": [
    "b1.shape, b2.shape, (b1@b2).shape "
   ]
  },
  {
   "cell_type": "markdown",
   "id": "2d45f6ad-c180-496c-837f-46d39cbe7a64",
   "metadata": {
    "id": "2d45f6ad-c180-496c-837f-46d39cbe7a64"
   },
   "source": [
    "- (1,4) @ (4,1) = (1,1) 로 생각 "
   ]
  },
  {
   "cell_type": "markdown",
   "id": "0264e583-f787-4f53-9984-4e580fea359c",
   "metadata": {
    "id": "0264e583-f787-4f53-9984-4e580fea359c"
   },
   "source": [
    "`-` 즉 위는 아래와 같이 해석하고 행렬곱한것과 결과가 같다. "
   ]
  },
  {
   "cell_type": "code",
   "execution_count": null,
   "id": "4bc5d376-dcd4-4fd5-809d-0bc9c1f6f13a",
   "metadata": {
    "id": "4bc5d376-dcd4-4fd5-809d-0bc9c1f6f13a",
    "outputId": "6a8c5eff-a6ef-4fb2-9d46-d4dbf90dc48d"
   },
   "outputs": [
    {
     "data": {
      "text/plain": [
       "array([[30]])"
      ]
     },
     "execution_count": 35,
     "metadata": {},
     "output_type": "execute_result"
    }
   ],
   "source": [
    "b1 = np.array([1,2,3,4]).reshape(1,4) \n",
    "b2 = np.array([1,2,3,4]).reshape(4,1) \n",
    "b1@b2 "
   ]
  },
  {
   "cell_type": "code",
   "execution_count": null,
   "id": "fe66d5b0-7627-4779-8481-bf9f2c6efde1",
   "metadata": {
    "id": "fe66d5b0-7627-4779-8481-bf9f2c6efde1",
    "outputId": "bf55f278-6bff-4e2c-abfc-bad0ad1a5f2e"
   },
   "outputs": [
    {
     "data": {
      "text/plain": [
       "((1, 4), (4, 1), (1, 1))"
      ]
     },
     "execution_count": 36,
     "metadata": {},
     "output_type": "execute_result"
    }
   ],
   "source": [
    "b1.shape, b2.shape, (b1@b2).shape "
   ]
  },
  {
   "cell_type": "markdown",
   "id": "0ac1a74e-b69e-4f00-a981-9fd7506434a5",
   "metadata": {
    "id": "0ac1a74e-b69e-4f00-a981-9fd7506434a5"
   },
   "source": [
    "`-` 때로는 (4,1) @ (1,4)와 같은 계산결과를 얻고 싶을 수 있는데 이때는 차원을 명시해야함 "
   ]
  },
  {
   "cell_type": "code",
   "execution_count": null,
   "id": "db4f0c1b-db75-433e-80a4-249251409f2f",
   "metadata": {
    "id": "db4f0c1b-db75-433e-80a4-249251409f2f",
    "outputId": "879576fd-288d-4fad-95c3-8c637384ce3e"
   },
   "outputs": [
    {
     "data": {
      "text/plain": [
       "array([[ 1,  2,  3,  4],\n",
       "       [ 2,  4,  6,  8],\n",
       "       [ 3,  6,  9, 12],\n",
       "       [ 4,  8, 12, 16]])"
      ]
     },
     "execution_count": 34,
     "metadata": {},
     "output_type": "execute_result"
    }
   ],
   "source": [
    "b1 = np.array([1,2,3,4]).reshape(4,1) \n",
    "b2 = np.array([1,2,3,4]).reshape(1,4) \n",
    "b1@b2 "
   ]
  },
  {
   "cell_type": "markdown",
   "id": "5fdb8c2f-948a-4e4a-887e-12ab77a15f43",
   "metadata": {
    "id": "5fdb8c2f-948a-4e4a-887e-12ab77a15f43"
   },
   "source": [
    "#### 차원 "
   ]
  },
  {
   "cell_type": "markdown",
   "id": "9fe7f938-d177-4c8c-8349-9096563107ab",
   "metadata": {
    "id": "9fe7f938-d177-4c8c-8349-9096563107ab"
   },
   "source": [
    "`-` 넘파이배열의 차원은 .shape 으로 확인가능 "
   ]
  },
  {
   "cell_type": "markdown",
   "id": "aa67745e-8220-423a-944d-77d32da4c5f9",
   "metadata": {
    "id": "aa67745e-8220-423a-944d-77d32da4c5f9"
   },
   "source": [
    "`-` 아래는 모두 미묘하게 다르다. "
   ]
  },
  {
   "cell_type": "code",
   "execution_count": null,
   "id": "687bf7e4-ccb0-484b-b9ab-698006fdf1db",
   "metadata": {
    "id": "687bf7e4-ccb0-484b-b9ab-698006fdf1db",
    "outputId": "f0b98970-ee0d-4e1d-a5ba-c6cffc3a25b0"
   },
   "outputs": [
    {
     "data": {
      "text/plain": [
       "(array(3.14), ())"
      ]
     },
     "execution_count": 49,
     "metadata": {},
     "output_type": "execute_result"
    }
   ],
   "source": [
    "a=np.array(3.14) # 스칼라, 0d array \n",
    "a, a.shape"
   ]
  },
  {
   "cell_type": "code",
   "execution_count": null,
   "id": "ccf8514b-a1eb-4066-b9a6-ce8a730f1767",
   "metadata": {
    "id": "ccf8514b-a1eb-4066-b9a6-ce8a730f1767",
    "outputId": "88ebcb38-ec3c-42cd-b573-1b27dfa90ba3"
   },
   "outputs": [
    {
     "data": {
      "text/plain": [
       "(array([3.14]), (1,))"
      ]
     },
     "execution_count": 50,
     "metadata": {},
     "output_type": "execute_result"
    }
   ],
   "source": [
    "a=np.array([3.14]) # 벡터, 1d array \n",
    "a, a.shape"
   ]
  },
  {
   "cell_type": "code",
   "execution_count": null,
   "id": "2ed898fe-350e-45fe-9457-a3054ff2d468",
   "metadata": {
    "id": "2ed898fe-350e-45fe-9457-a3054ff2d468",
    "outputId": "7abdf1dd-7a96-4d08-d513-826a85c88684"
   },
   "outputs": [
    {
     "data": {
      "text/plain": [
       "(array([[3.14]]), (1, 1))"
      ]
     },
     "execution_count": 51,
     "metadata": {},
     "output_type": "execute_result"
    }
   ],
   "source": [
    "a=np.array([[3.14]]) # 매트릭스, 2d array \n",
    "a, a.shape"
   ]
  },
  {
   "cell_type": "code",
   "execution_count": null,
   "id": "21c1082c-e53e-4f9e-a11f-3feda9bac49c",
   "metadata": {
    "id": "21c1082c-e53e-4f9e-a11f-3feda9bac49c",
    "outputId": "b0e08a72-30f1-4ca0-ddf1-5ac69795f7b8"
   },
   "outputs": [
    {
     "data": {
      "text/plain": [
       "(array([[[3.14]]]), (1, 1, 1))"
      ]
     },
     "execution_count": 52,
     "metadata": {},
     "output_type": "execute_result"
    }
   ],
   "source": [
    "a=np.array([[[3.14]]]) # 텐서, 3d array \n",
    "a, a.shape"
   ]
  },
  {
   "cell_type": "markdown",
   "id": "e4c53e53-a19e-4c8b-985b-e1bdccf10e37",
   "metadata": {
    "id": "e4c53e53-a19e-4c8b-985b-e1bdccf10e37"
   },
   "source": [
    "### numpy공부 4단계: 축 "
   ]
  },
  {
   "cell_type": "markdown",
   "id": "3d4058b1-519b-4bd6-9077-7b7b135be586",
   "metadata": {
    "id": "3d4058b1-519b-4bd6-9077-7b7b135be586"
   },
   "source": [
    "#### np.concatenate"
   ]
  },
  {
   "cell_type": "markdown",
   "id": "ad075910-9c37-429f-92c7-c43cf05d1a45",
   "metadata": {
    "id": "ad075910-9c37-429f-92c7-c43cf05d1a45"
   },
   "source": [
    "`-` 기본예제 "
   ]
  },
  {
   "cell_type": "code",
   "execution_count": null,
   "id": "7f5c3986-9b1d-4ae3-9b72-905d0077d8f0",
   "metadata": {
    "id": "7f5c3986-9b1d-4ae3-9b72-905d0077d8f0"
   },
   "outputs": [],
   "source": [
    "a=np.array([1,2]) \n",
    "b=-a"
   ]
  },
  {
   "cell_type": "code",
   "execution_count": null,
   "id": "8780358a-324d-47e8-b965-87b05007116d",
   "metadata": {
    "id": "8780358a-324d-47e8-b965-87b05007116d",
    "outputId": "72ce3061-fee3-4d26-a72b-e0a9e82b203e"
   },
   "outputs": [
    {
     "data": {
      "text/plain": [
       "array([ 1,  2, -1, -2])"
      ]
     },
     "execution_count": 56,
     "metadata": {},
     "output_type": "execute_result"
    }
   ],
   "source": [
    "np.concatenate([a,b]) "
   ]
  },
  {
   "cell_type": "markdown",
   "id": "be4c99f6-4b10-4bb3-aa55-50436e343ebc",
   "metadata": {
    "id": "be4c99f6-4b10-4bb3-aa55-50436e343ebc"
   },
   "source": [
    "`-` 응용 "
   ]
  },
  {
   "cell_type": "code",
   "execution_count": null,
   "id": "6ed1e58f-c53a-45f7-bef6-dbff8f7bf8ca",
   "metadata": {
    "id": "6ed1e58f-c53a-45f7-bef6-dbff8f7bf8ca"
   },
   "outputs": [],
   "source": [
    "a=np.array([1,2])\n",
    "b=-a \n",
    "c=np.array([3,4,5])"
   ]
  },
  {
   "cell_type": "code",
   "execution_count": null,
   "id": "9c2e6f38-7b5c-4421-867c-56fef1015812",
   "metadata": {
    "id": "9c2e6f38-7b5c-4421-867c-56fef1015812",
    "outputId": "23a8e5c2-385c-45ba-feb6-cc68f1f88550"
   },
   "outputs": [
    {
     "data": {
      "text/plain": [
       "array([ 1,  2, -1, -2,  3,  4,  5])"
      ]
     },
     "execution_count": 58,
     "metadata": {},
     "output_type": "execute_result"
    }
   ],
   "source": [
    "np.concatenate([a,b,c])"
   ]
  },
  {
   "cell_type": "markdown",
   "id": "db8b8482-bed3-48a0-af30-fc50151aae78",
   "metadata": {
    "id": "db8b8482-bed3-48a0-af30-fc50151aae78"
   },
   "source": [
    "- 여기까진 딱히 칸캐터네이트의 메리트가 없어보임\n",
    "- 리스트였다면 a+b+c 하면 되는 기능이니까? "
   ]
  },
  {
   "cell_type": "markdown",
   "id": "ca6fc614-e1e9-43f8-80f5-6959fa182ef7",
   "metadata": {
    "id": "ca6fc614-e1e9-43f8-80f5-6959fa182ef7"
   },
   "source": [
    "`-` 2d array에 적용해보자. "
   ]
  },
  {
   "cell_type": "code",
   "execution_count": null,
   "id": "531d1db9-ded8-42cc-aae0-4e024af5bcd4",
   "metadata": {
    "id": "531d1db9-ded8-42cc-aae0-4e024af5bcd4"
   },
   "outputs": [],
   "source": [
    "a=np.arange(4).reshape(2,2) \n",
    "b=-a"
   ]
  },
  {
   "cell_type": "code",
   "execution_count": null,
   "id": "2d7ec281-20b8-4c48-9665-90ccce842cfe",
   "metadata": {
    "id": "2d7ec281-20b8-4c48-9665-90ccce842cfe",
    "outputId": "34b1b790-a562-4d55-aafa-4029413969b0"
   },
   "outputs": [
    {
     "data": {
      "text/plain": [
       "array([[ 0,  1],\n",
       "       [ 2,  3],\n",
       "       [ 0, -1],\n",
       "       [-2, -3]])"
      ]
     },
     "execution_count": 62,
     "metadata": {},
     "output_type": "execute_result"
    }
   ],
   "source": [
    "np.concatenate([a,b]) "
   ]
  },
  {
   "cell_type": "markdown",
   "id": "1be49608-c8ff-47c3-b7a1-0cb425a8db03",
   "metadata": {
    "id": "1be49608-c8ff-47c3-b7a1-0cb425a8db03"
   },
   "source": [
    "`-` 옆으로 붙일려면? "
   ]
  },
  {
   "cell_type": "code",
   "execution_count": null,
   "id": "8302a372-c5c6-4861-befb-cc0c40420baa",
   "metadata": {
    "id": "8302a372-c5c6-4861-befb-cc0c40420baa",
    "outputId": "ec915137-f06b-4246-c56b-ab278b7adb75"
   },
   "outputs": [
    {
     "data": {
      "text/plain": [
       "array([[ 0,  1,  0, -1],\n",
       "       [ 2,  3, -2, -3]])"
      ]
     },
     "execution_count": 63,
     "metadata": {},
     "output_type": "execute_result"
    }
   ],
   "source": [
    "np.concatenate([a,b],axis=1)"
   ]
  },
  {
   "cell_type": "markdown",
   "id": "83eeb66f-dfdb-439c-89d0-6a52518f1bec",
   "metadata": {
    "id": "83eeb66f-dfdb-439c-89d0-6a52518f1bec"
   },
   "source": [
    "`-` 위의 코드에서 axis=1 이 뭐지? axis=0,2 등을 치면 결과가 어떻게 될까? "
   ]
  },
  {
   "cell_type": "code",
   "execution_count": null,
   "id": "bc5e516a-dcae-4a27-af2a-9f6a5c25b6fd",
   "metadata": {
    "id": "bc5e516a-dcae-4a27-af2a-9f6a5c25b6fd",
    "outputId": "a6d270f6-fe6c-4931-9789-113dfc8dd983"
   },
   "outputs": [
    {
     "data": {
      "text/plain": [
       "array([[ 0,  1],\n",
       "       [ 2,  3],\n",
       "       [ 0, -1],\n",
       "       [-2, -3]])"
      ]
     },
     "execution_count": 64,
     "metadata": {},
     "output_type": "execute_result"
    }
   ],
   "source": [
    "np.concatenate([a,b],axis=0)"
   ]
  },
  {
   "cell_type": "markdown",
   "id": "e4e8a097-2375-47ec-8d09-b69655309c19",
   "metadata": {
    "id": "e4e8a097-2375-47ec-8d09-b69655309c19"
   },
   "source": [
    "- 이건 그냥 np.concatenate([a,b])와 같다. \n",
    "- np.concatenate([a,b])는 np.concatenate([a,b],axis=0)의 생략버전이군? "
   ]
  },
  {
   "cell_type": "code",
   "execution_count": null,
   "id": "37d10b18-f9b8-4fcc-a7d6-99df849fb1c1",
   "metadata": {
    "id": "37d10b18-f9b8-4fcc-a7d6-99df849fb1c1",
    "outputId": "fcdc589d-0696-4c29-dacb-93a88d8cdf47"
   },
   "outputs": [
    {
     "ename": "AxisError",
     "evalue": "axis 2 is out of bounds for array of dimension 2",
     "output_type": "error",
     "traceback": [
      "\u001b[0;31m---------------------------------------------------------------------------\u001b[0m",
      "\u001b[0;31mAxisError\u001b[0m                                 Traceback (most recent call last)",
      "Input \u001b[0;32mIn [65]\u001b[0m, in \u001b[0;36m<cell line: 1>\u001b[0;34m()\u001b[0m\n\u001b[0;32m----> 1\u001b[0m \u001b[43mnp\u001b[49m\u001b[38;5;241;43m.\u001b[39;49m\u001b[43mconcatenate\u001b[49m\u001b[43m(\u001b[49m\u001b[43m[\u001b[49m\u001b[43ma\u001b[49m\u001b[43m,\u001b[49m\u001b[43mb\u001b[49m\u001b[43m]\u001b[49m\u001b[43m,\u001b[49m\u001b[43maxis\u001b[49m\u001b[38;5;241;43m=\u001b[39;49m\u001b[38;5;241;43m2\u001b[39;49m\u001b[43m)\u001b[49m\n",
      "File \u001b[0;32m<__array_function__ internals>:5\u001b[0m, in \u001b[0;36mconcatenate\u001b[0;34m(*args, **kwargs)\u001b[0m\n",
      "\u001b[0;31mAxisError\u001b[0m: axis 2 is out of bounds for array of dimension 2"
     ]
    }
   ],
   "source": [
    "np.concatenate([a,b],axis=2)"
   ]
  },
  {
   "cell_type": "markdown",
   "id": "c918ff04-8d38-4404-a147-b2b18c26ef64",
   "metadata": {
    "id": "c918ff04-8d38-4404-a147-b2b18c26ef64"
   },
   "source": [
    "- 이런건 없다. "
   ]
  },
  {
   "cell_type": "markdown",
   "id": "d7a41c46-f96d-42cc-b6f7-6816e7735f0d",
   "metadata": {
    "id": "d7a41c46-f96d-42cc-b6f7-6816e7735f0d"
   },
   "source": [
    "`-` axis의 의미가 뭔지 궁금함. 좀 더 예제를 살펴보자. "
   ]
  },
  {
   "cell_type": "code",
   "execution_count": null,
   "id": "edaca1f5-1204-4d46-afd2-989390fb8191",
   "metadata": {
    "id": "edaca1f5-1204-4d46-afd2-989390fb8191",
    "outputId": "ec5f5c09-c50d-4990-ee55-4b0fe4d1f4ba"
   },
   "outputs": [
    {
     "data": {
      "text/plain": [
       "array([[[ 0,  1,  2,  3],\n",
       "        [ 4,  5,  6,  7],\n",
       "        [ 8,  9, 10, 11]],\n",
       "\n",
       "       [[12, 13, 14, 15],\n",
       "        [16, 17, 18, 19],\n",
       "        [20, 21, 22, 23]]])"
      ]
     },
     "execution_count": 68,
     "metadata": {},
     "output_type": "execute_result"
    }
   ],
   "source": [
    "a=np.array(range(2*3*4)).reshape(2,3,4)\n",
    "a"
   ]
  },
  {
   "cell_type": "code",
   "execution_count": null,
   "id": "4698e4c5-7767-4a18-b873-cc1f343c0b63",
   "metadata": {
    "id": "4698e4c5-7767-4a18-b873-cc1f343c0b63",
    "outputId": "6dd184cc-6d2f-49b5-f7a2-24856cad6917"
   },
   "outputs": [
    {
     "data": {
      "text/plain": [
       "array([[[  0,  -1,  -2,  -3],\n",
       "        [ -4,  -5,  -6,  -7],\n",
       "        [ -8,  -9, -10, -11]],\n",
       "\n",
       "       [[-12, -13, -14, -15],\n",
       "        [-16, -17, -18, -19],\n",
       "        [-20, -21, -22, -23]]])"
      ]
     },
     "execution_count": 69,
     "metadata": {},
     "output_type": "execute_result"
    }
   ],
   "source": [
    "b=-a\n",
    "b"
   ]
  },
  {
   "cell_type": "code",
   "execution_count": null,
   "id": "1d95bf56-f92c-4667-9715-7d757434faa6",
   "metadata": {
    "id": "1d95bf56-f92c-4667-9715-7d757434faa6",
    "outputId": "aa9e2387-e1e2-4122-9f5b-ad6ea27bd2fd"
   },
   "outputs": [
    {
     "data": {
      "text/plain": [
       "array([[[  0,   1,   2,   3],\n",
       "        [  4,   5,   6,   7],\n",
       "        [  8,   9,  10,  11]],\n",
       "\n",
       "       [[ 12,  13,  14,  15],\n",
       "        [ 16,  17,  18,  19],\n",
       "        [ 20,  21,  22,  23]],\n",
       "\n",
       "       [[  0,  -1,  -2,  -3],\n",
       "        [ -4,  -5,  -6,  -7],\n",
       "        [ -8,  -9, -10, -11]],\n",
       "\n",
       "       [[-12, -13, -14, -15],\n",
       "        [-16, -17, -18, -19],\n",
       "        [-20, -21, -22, -23]]])"
      ]
     },
     "execution_count": 70,
     "metadata": {},
     "output_type": "execute_result"
    }
   ],
   "source": [
    "np.concatenate([a,b],axis=0) "
   ]
  },
  {
   "cell_type": "code",
   "execution_count": null,
   "id": "623d87d6-3c0c-44b4-b5f3-ce7567cd396a",
   "metadata": {
    "id": "623d87d6-3c0c-44b4-b5f3-ce7567cd396a",
    "outputId": "47a85073-7a72-499c-a453-f871680da3d2"
   },
   "outputs": [
    {
     "data": {
      "text/plain": [
       "array([[[  0,   1,   2,   3],\n",
       "        [  4,   5,   6,   7],\n",
       "        [  8,   9,  10,  11],\n",
       "        [  0,  -1,  -2,  -3],\n",
       "        [ -4,  -5,  -6,  -7],\n",
       "        [ -8,  -9, -10, -11]],\n",
       "\n",
       "       [[ 12,  13,  14,  15],\n",
       "        [ 16,  17,  18,  19],\n",
       "        [ 20,  21,  22,  23],\n",
       "        [-12, -13, -14, -15],\n",
       "        [-16, -17, -18, -19],\n",
       "        [-20, -21, -22, -23]]])"
      ]
     },
     "execution_count": 72,
     "metadata": {},
     "output_type": "execute_result"
    }
   ],
   "source": [
    "np.concatenate([a,b],axis=1) "
   ]
  },
  {
   "cell_type": "code",
   "execution_count": null,
   "id": "7db69480-7d80-4c62-ab4c-908b1e914113",
   "metadata": {
    "id": "7db69480-7d80-4c62-ab4c-908b1e914113",
    "outputId": "d0ba523c-f9ce-4472-9075-0e81177db905"
   },
   "outputs": [
    {
     "data": {
      "text/plain": [
       "array([[[  0,   1,   2,   3,   0,  -1,  -2,  -3],\n",
       "        [  4,   5,   6,   7,  -4,  -5,  -6,  -7],\n",
       "        [  8,   9,  10,  11,  -8,  -9, -10, -11]],\n",
       "\n",
       "       [[ 12,  13,  14,  15, -12, -13, -14, -15],\n",
       "        [ 16,  17,  18,  19, -16, -17, -18, -19],\n",
       "        [ 20,  21,  22,  23, -20, -21, -22, -23]]])"
      ]
     },
     "execution_count": 73,
     "metadata": {},
     "output_type": "execute_result"
    }
   ],
   "source": [
    "np.concatenate([a,b],axis=2) "
   ]
  },
  {
   "cell_type": "markdown",
   "id": "1255b763-1348-4f8a-a624-e0ceb95e3e3e",
   "metadata": {
    "id": "1255b763-1348-4f8a-a624-e0ceb95e3e3e"
   },
   "source": [
    "- 이번에는 axis=2까지 된다? "
   ]
  },
  {
   "cell_type": "code",
   "execution_count": null,
   "id": "8335898a-ccd3-48ea-b1ac-a9ed1436207f",
   "metadata": {
    "id": "8335898a-ccd3-48ea-b1ac-a9ed1436207f",
    "outputId": "96c4ee74-c115-4d58-e650-5db178d95bea"
   },
   "outputs": [
    {
     "ename": "AxisError",
     "evalue": "axis 3 is out of bounds for array of dimension 3",
     "output_type": "error",
     "traceback": [
      "\u001b[0;31m---------------------------------------------------------------------------\u001b[0m",
      "\u001b[0;31mAxisError\u001b[0m                                 Traceback (most recent call last)",
      "Input \u001b[0;32mIn [75]\u001b[0m, in \u001b[0;36m<cell line: 1>\u001b[0;34m()\u001b[0m\n\u001b[0;32m----> 1\u001b[0m \u001b[43mnp\u001b[49m\u001b[38;5;241;43m.\u001b[39;49m\u001b[43mconcatenate\u001b[49m\u001b[43m(\u001b[49m\u001b[43m[\u001b[49m\u001b[43ma\u001b[49m\u001b[43m,\u001b[49m\u001b[43mb\u001b[49m\u001b[43m]\u001b[49m\u001b[43m,\u001b[49m\u001b[43maxis\u001b[49m\u001b[38;5;241;43m=\u001b[39;49m\u001b[38;5;241;43m3\u001b[39;49m\u001b[43m)\u001b[49m\n",
      "File \u001b[0;32m<__array_function__ internals>:5\u001b[0m, in \u001b[0;36mconcatenate\u001b[0;34m(*args, **kwargs)\u001b[0m\n",
      "\u001b[0;31mAxisError\u001b[0m: axis 3 is out of bounds for array of dimension 3"
     ]
    }
   ],
   "source": [
    "np.concatenate([a,b],axis=3) "
   ]
  },
  {
   "cell_type": "markdown",
   "id": "f21f5d85-cf58-4c7d-8f43-a23397216730",
   "metadata": {
    "id": "f21f5d85-cf58-4c7d-8f43-a23397216730"
   },
   "source": [
    "- axis=3까지는 안된다? "
   ]
  },
  {
   "cell_type": "markdown",
   "id": "0957319d-38f6-4776-8b02-425cd5d9f9f5",
   "metadata": {
    "id": "0957319d-38f6-4776-8b02-425cd5d9f9f5"
   },
   "source": [
    "`-` 뭔가 나름의 방식으로 합쳐지는데 원리가 뭘까? "
   ]
  },
  {
   "cell_type": "markdown",
   "id": "b0b1a34c-f7e0-453c-a06d-a560e1180c2f",
   "metadata": {
    "id": "b0b1a34c-f7e0-453c-a06d-a560e1180c2f"
   },
   "source": [
    "(분석1) np.concatenate([a,b],axis=0) "
   ]
  },
  {
   "cell_type": "code",
   "execution_count": null,
   "id": "5c143f84-ec3b-4baa-a586-7d821127ea41",
   "metadata": {
    "id": "5c143f84-ec3b-4baa-a586-7d821127ea41"
   },
   "outputs": [],
   "source": [
    "a=np.array(range(2*3*4)).reshape(2,3,4) \n",
    "b=-a "
   ]
  },
  {
   "cell_type": "code",
   "execution_count": null,
   "id": "7bea044d-9f8c-4450-a654-aa230e78c45b",
   "metadata": {
    "id": "7bea044d-9f8c-4450-a654-aa230e78c45b",
    "outputId": "da7336e4-a767-4e98-a34d-5f8213ad2306"
   },
   "outputs": [
    {
     "data": {
      "text/plain": [
       "((2, 3, 4), (2, 3, 4), (4, 3, 4))"
      ]
     },
     "execution_count": 86,
     "metadata": {},
     "output_type": "execute_result"
    }
   ],
   "source": [
    "a.shape, b.shape, np.concatenate([a,b],axis=0).shape"
   ]
  },
  {
   "cell_type": "markdown",
   "id": "3f1edf74-2d3c-436d-acbe-ce8de7397079",
   "metadata": {
    "id": "3f1edf74-2d3c-436d-acbe-ce8de7397079"
   },
   "source": [
    "- 첫번째차원이 바뀌었다 => 첫번째 축이 바뀌었다 => axis=0 (파이썬은 0부터 시작하니까!) "
   ]
  },
  {
   "cell_type": "markdown",
   "id": "5709e6e0-93bc-4ae8-b4d2-8c45059e9bb8",
   "metadata": {
    "id": "5709e6e0-93bc-4ae8-b4d2-8c45059e9bb8"
   },
   "source": [
    "(분석2) np.concatenate([a,b],axis=1) "
   ]
  },
  {
   "cell_type": "code",
   "execution_count": null,
   "id": "ebdb2a12-7119-4386-bd8f-4009be840c9e",
   "metadata": {
    "id": "ebdb2a12-7119-4386-bd8f-4009be840c9e"
   },
   "outputs": [],
   "source": [
    "a=np.array(range(2*3*4)).reshape(2,3,4) \n",
    "b=-a "
   ]
  },
  {
   "cell_type": "code",
   "execution_count": null,
   "id": "58d41012-d05e-4812-8206-7bde5d01f764",
   "metadata": {
    "id": "58d41012-d05e-4812-8206-7bde5d01f764",
    "outputId": "c775fff9-42c8-4b10-eb87-8551c3ca1cac"
   },
   "outputs": [
    {
     "data": {
      "text/plain": [
       "((2, 3, 4), (2, 3, 4), (2, 6, 4))"
      ]
     },
     "execution_count": 89,
     "metadata": {},
     "output_type": "execute_result"
    }
   ],
   "source": [
    "a.shape, b.shape, np.concatenate([a,b],axis=1).shape"
   ]
  },
  {
   "cell_type": "markdown",
   "id": "fd141fa0-9d9b-474f-9306-fef75190b9db",
   "metadata": {
    "id": "fd141fa0-9d9b-474f-9306-fef75190b9db"
   },
   "source": [
    "- 두번째차원이 바뀌었다 => 두번째 축이 바뀌었다 => axis=1"
   ]
  },
  {
   "cell_type": "markdown",
   "id": "85220403-2a2d-4f80-b9ea-e0f2af4d9c05",
   "metadata": {
    "id": "85220403-2a2d-4f80-b9ea-e0f2af4d9c05"
   },
   "source": [
    "(분석3) np.concatenate([a,b],axis=2) "
   ]
  },
  {
   "cell_type": "code",
   "execution_count": null,
   "id": "225caccb-6140-4943-9c2c-a505b67b0b8b",
   "metadata": {
    "id": "225caccb-6140-4943-9c2c-a505b67b0b8b"
   },
   "outputs": [],
   "source": [
    "a=np.array(range(2*3*4)).reshape(2,3,4) \n",
    "b=-a "
   ]
  },
  {
   "cell_type": "code",
   "execution_count": null,
   "id": "e4d12427-11e2-48b7-a2ba-4b00b274ebcf",
   "metadata": {
    "id": "e4d12427-11e2-48b7-a2ba-4b00b274ebcf",
    "outputId": "edcbccc0-7d78-4ca6-e382-7206c776e624"
   },
   "outputs": [
    {
     "data": {
      "text/plain": [
       "((2, 3, 4), (2, 3, 4), (2, 3, 8))"
      ]
     },
     "execution_count": 92,
     "metadata": {},
     "output_type": "execute_result"
    }
   ],
   "source": [
    "a.shape, b.shape, np.concatenate([a,b],axis=2).shape"
   ]
  },
  {
   "cell_type": "markdown",
   "id": "00fbf9cb-9f9d-4543-b422-b6409957c3d4",
   "metadata": {
    "id": "00fbf9cb-9f9d-4543-b422-b6409957c3d4"
   },
   "source": [
    "- 세번째차원이 바뀌었다 => 세번째 축이 바뀌었다 => axis=2"
   ]
  },
  {
   "cell_type": "markdown",
   "id": "56889475-b4be-4148-8b3f-362b44340566",
   "metadata": {
    "id": "56889475-b4be-4148-8b3f-362b44340566"
   },
   "source": [
    "(분석4) np.concatenate([a,b],axis=3) "
   ]
  },
  {
   "cell_type": "code",
   "execution_count": null,
   "id": "35357cff-31aa-4a22-8e76-32dbf6246788",
   "metadata": {
    "id": "35357cff-31aa-4a22-8e76-32dbf6246788"
   },
   "outputs": [],
   "source": [
    "a=np.array(range(2*3*4)).reshape(2,3,4) \n",
    "b=-a "
   ]
  },
  {
   "cell_type": "code",
   "execution_count": null,
   "id": "b5cecfdb-24ec-4952-928d-7bb4016c747f",
   "metadata": {
    "id": "b5cecfdb-24ec-4952-928d-7bb4016c747f",
    "outputId": "164533ef-84b7-45fd-8bcb-3c54e4a720ba"
   },
   "outputs": [
    {
     "ename": "AxisError",
     "evalue": "axis 3 is out of bounds for array of dimension 3",
     "output_type": "error",
     "traceback": [
      "\u001b[0;31m---------------------------------------------------------------------------\u001b[0m",
      "\u001b[0;31mAxisError\u001b[0m                                 Traceback (most recent call last)",
      "Input \u001b[0;32mIn [95]\u001b[0m, in \u001b[0;36m<cell line: 1>\u001b[0;34m()\u001b[0m\n\u001b[0;32m----> 1\u001b[0m a\u001b[38;5;241m.\u001b[39mshape, b\u001b[38;5;241m.\u001b[39mshape, \u001b[43mnp\u001b[49m\u001b[38;5;241;43m.\u001b[39;49m\u001b[43mconcatenate\u001b[49m\u001b[43m(\u001b[49m\u001b[43m[\u001b[49m\u001b[43ma\u001b[49m\u001b[43m,\u001b[49m\u001b[43mb\u001b[49m\u001b[43m]\u001b[49m\u001b[43m,\u001b[49m\u001b[43maxis\u001b[49m\u001b[38;5;241;43m=\u001b[39;49m\u001b[38;5;241;43m3\u001b[39;49m\u001b[43m)\u001b[49m\u001b[38;5;241m.\u001b[39mshape\n",
      "File \u001b[0;32m<__array_function__ internals>:5\u001b[0m, in \u001b[0;36mconcatenate\u001b[0;34m(*args, **kwargs)\u001b[0m\n",
      "\u001b[0;31mAxisError\u001b[0m: axis 3 is out of bounds for array of dimension 3"
     ]
    }
   ],
   "source": [
    "a.shape, b.shape, np.concatenate([a,b],axis=3).shape"
   ]
  },
  {
   "cell_type": "markdown",
   "id": "8ea6b7db-e4a0-47f9-a59d-a15a404f1b3e",
   "metadata": {
    "id": "8ea6b7db-e4a0-47f9-a59d-a15a404f1b3e"
   },
   "source": [
    "- 네번째차원이 없다 => 네번째 축이 없다 => axis=3으로 하면 에러가 난다. "
   ]
  },
  {
   "cell_type": "markdown",
   "id": "5c5ae5dd-d9c0-4357-a30f-0e5b611c360b",
   "metadata": {
    "id": "5c5ae5dd-d9c0-4357-a30f-0e5b611c360b"
   },
   "source": [
    "(보너스1) "
   ]
  },
  {
   "cell_type": "code",
   "execution_count": null,
   "id": "e1dede62-9671-4980-8d7b-14419d5743b4",
   "metadata": {
    "id": "e1dede62-9671-4980-8d7b-14419d5743b4"
   },
   "outputs": [],
   "source": [
    "a=np.array(range(2*3*4)).reshape(2,3,4) \n",
    "b=-a "
   ]
  },
  {
   "cell_type": "code",
   "execution_count": null,
   "id": "3bcde92f-4b88-4786-8c71-026dbd7d1fa9",
   "metadata": {
    "id": "3bcde92f-4b88-4786-8c71-026dbd7d1fa9",
    "outputId": "f520b202-0b5c-4639-f117-3d3d17d8d3d7"
   },
   "outputs": [
    {
     "data": {
      "text/plain": [
       "array([[[  0,   1,   2,   3,   0,  -1,  -2,  -3],\n",
       "        [  4,   5,   6,   7,  -4,  -5,  -6,  -7],\n",
       "        [  8,   9,  10,  11,  -8,  -9, -10, -11]],\n",
       "\n",
       "       [[ 12,  13,  14,  15, -12, -13, -14, -15],\n",
       "        [ 16,  17,  18,  19, -16, -17, -18, -19],\n",
       "        [ 20,  21,  22,  23, -20, -21, -22, -23]]])"
      ]
     },
     "execution_count": 101,
     "metadata": {},
     "output_type": "execute_result"
    }
   ],
   "source": [
    "np.concatenate([a,b],axis=-1)"
   ]
  },
  {
   "cell_type": "code",
   "execution_count": null,
   "id": "1bcd4e0f-46e8-47e4-a614-cc5a3eef5890",
   "metadata": {
    "id": "1bcd4e0f-46e8-47e4-a614-cc5a3eef5890",
    "outputId": "b9ce2db8-7ed5-473a-e0f4-b55b5c1fd97d"
   },
   "outputs": [
    {
     "data": {
      "text/plain": [
       "((2, 3, 4), (2, 3, 4), (2, 3, 8))"
      ]
     },
     "execution_count": 100,
     "metadata": {},
     "output_type": "execute_result"
    }
   ],
   "source": [
    "a.shape, b.shape, np.concatenate([a,b],axis=-1).shape"
   ]
  },
  {
   "cell_type": "markdown",
   "id": "1f849708-bb9d-451c-bd19-c7e0c64351ac",
   "metadata": {
    "id": "1f849708-bb9d-451c-bd19-c7e0c64351ac"
   },
   "source": [
    "- 마지막 차원이 바뀌었다 => 마지막 축이 바뀌었다 => axis = -1 "
   ]
  },
  {
   "cell_type": "markdown",
   "id": "40b5a7e1-ccb7-4eef-84aa-846c831fcc85",
   "metadata": {
    "id": "40b5a7e1-ccb7-4eef-84aa-846c831fcc85"
   },
   "source": [
    "(보너스2) "
   ]
  },
  {
   "cell_type": "code",
   "execution_count": null,
   "id": "bf8315fd-a7d4-4deb-b516-b50995c46a3b",
   "metadata": {
    "id": "bf8315fd-a7d4-4deb-b516-b50995c46a3b"
   },
   "outputs": [],
   "source": [
    "a=np.array(range(2*3*4)).reshape(2,3,4) \n",
    "b=-a "
   ]
  },
  {
   "cell_type": "code",
   "execution_count": null,
   "id": "7cf8d7e1-33ae-4756-be14-3ec77dd88cf2",
   "metadata": {
    "id": "7cf8d7e1-33ae-4756-be14-3ec77dd88cf2",
    "outputId": "21888509-f063-495f-b801-f19766a8b1e0"
   },
   "outputs": [
    {
     "data": {
      "text/plain": [
       "array([[[  0,   1,   2,   3],\n",
       "        [  4,   5,   6,   7],\n",
       "        [  8,   9,  10,  11],\n",
       "        [  0,  -1,  -2,  -3],\n",
       "        [ -4,  -5,  -6,  -7],\n",
       "        [ -8,  -9, -10, -11]],\n",
       "\n",
       "       [[ 12,  13,  14,  15],\n",
       "        [ 16,  17,  18,  19],\n",
       "        [ 20,  21,  22,  23],\n",
       "        [-12, -13, -14, -15],\n",
       "        [-16, -17, -18, -19],\n",
       "        [-20, -21, -22, -23]]])"
      ]
     },
     "execution_count": 108,
     "metadata": {},
     "output_type": "execute_result"
    }
   ],
   "source": [
    "np.concatenate([a,b],axis=-2)"
   ]
  },
  {
   "cell_type": "code",
   "execution_count": null,
   "id": "9c696517-a26f-4054-8e3c-b6b7991014e5",
   "metadata": {
    "id": "9c696517-a26f-4054-8e3c-b6b7991014e5",
    "outputId": "95f5c142-9739-4d4e-8de9-c7428882bce8"
   },
   "outputs": [
    {
     "data": {
      "text/plain": [
       "((2, 3, 4), (2, 3, 4), (2, 6, 4))"
      ]
     },
     "execution_count": 109,
     "metadata": {},
     "output_type": "execute_result"
    }
   ],
   "source": [
    "a.shape, b.shape, np.concatenate([a,b],axis=-2).shape"
   ]
  },
  {
   "cell_type": "markdown",
   "id": "91abe2dc-c4a1-498c-b556-04816a1ecc7f",
   "metadata": {
    "id": "91abe2dc-c4a1-498c-b556-04816a1ecc7f"
   },
   "source": [
    "- 마지막에서 2번째 차원이 바뀌었다 => 마지막에서 2번째 축이 바뀌었다 => axis = -2 "
   ]
  },
  {
   "cell_type": "markdown",
   "id": "e4052348-b0bd-4160-9cbc-50b6e97a126f",
   "metadata": {
    "id": "e4052348-b0bd-4160-9cbc-50b6e97a126f"
   },
   "source": [
    "(보너스3) "
   ]
  },
  {
   "cell_type": "code",
   "execution_count": null,
   "id": "ca02d56c-fd44-4da2-b080-fcb616a556b9",
   "metadata": {
    "id": "ca02d56c-fd44-4da2-b080-fcb616a556b9"
   },
   "outputs": [],
   "source": [
    "a=np.array(range(2*3*4)).reshape(2,3,4) \n",
    "b=-a "
   ]
  },
  {
   "cell_type": "code",
   "execution_count": null,
   "id": "def662c8-4ddc-4ae2-8a6e-c1ce4fd1238a",
   "metadata": {
    "id": "def662c8-4ddc-4ae2-8a6e-c1ce4fd1238a",
    "outputId": "2f1dae95-383a-49c4-f735-430216a244db"
   },
   "outputs": [
    {
     "data": {
      "text/plain": [
       "array([[[  0,   1,   2,   3],\n",
       "        [  4,   5,   6,   7],\n",
       "        [  8,   9,  10,  11]],\n",
       "\n",
       "       [[ 12,  13,  14,  15],\n",
       "        [ 16,  17,  18,  19],\n",
       "        [ 20,  21,  22,  23]],\n",
       "\n",
       "       [[  0,  -1,  -2,  -3],\n",
       "        [ -4,  -5,  -6,  -7],\n",
       "        [ -8,  -9, -10, -11]],\n",
       "\n",
       "       [[-12, -13, -14, -15],\n",
       "        [-16, -17, -18, -19],\n",
       "        [-20, -21, -22, -23]]])"
      ]
     },
     "execution_count": 111,
     "metadata": {},
     "output_type": "execute_result"
    }
   ],
   "source": [
    "np.concatenate([a,b],axis=-3)"
   ]
  },
  {
   "cell_type": "code",
   "execution_count": null,
   "id": "88593722-3496-4799-bf8a-2a9cbb2e096c",
   "metadata": {
    "id": "88593722-3496-4799-bf8a-2a9cbb2e096c",
    "outputId": "44f7fa2f-d31a-4dde-870e-0a49ae6db396"
   },
   "outputs": [
    {
     "data": {
      "text/plain": [
       "((2, 3, 4), (2, 3, 4), (4, 3, 4))"
      ]
     },
     "execution_count": 112,
     "metadata": {},
     "output_type": "execute_result"
    }
   ],
   "source": [
    "a.shape, b.shape, np.concatenate([a,b],axis=-3).shape"
   ]
  },
  {
   "cell_type": "markdown",
   "id": "a6ba35a4-9188-4eaf-aae6-5e573131cfb0",
   "metadata": {
    "id": "a6ba35a4-9188-4eaf-aae6-5e573131cfb0"
   },
   "source": [
    "- 마지막에서 3번째 차원이 바뀌었다 => 마지막에서 3번째 축이 바뀌었다 => axis = -3 "
   ]
  },
  {
   "cell_type": "markdown",
   "id": "e7c805cd-3ad6-4acc-87fb-f8c01f120531",
   "metadata": {
    "id": "e7c805cd-3ad6-4acc-87fb-f8c01f120531"
   },
   "source": [
    "(보너스3) "
   ]
  },
  {
   "cell_type": "code",
   "execution_count": null,
   "id": "f8d9108c-6e3e-418b-a300-3dc59e8aa2a6",
   "metadata": {
    "id": "f8d9108c-6e3e-418b-a300-3dc59e8aa2a6"
   },
   "outputs": [],
   "source": [
    "a=np.array(range(2*3*4)).reshape(2,3,4) \n",
    "b=-a "
   ]
  },
  {
   "cell_type": "code",
   "execution_count": null,
   "id": "251abf15-45da-4514-b01a-f2c0b0e17e48",
   "metadata": {
    "id": "251abf15-45da-4514-b01a-f2c0b0e17e48",
    "outputId": "2e41ff03-2f30-4b4d-b1ca-9fc714ddcf28"
   },
   "outputs": [
    {
     "ename": "AxisError",
     "evalue": "axis -4 is out of bounds for array of dimension 3",
     "output_type": "error",
     "traceback": [
      "\u001b[0;31m---------------------------------------------------------------------------\u001b[0m",
      "\u001b[0;31mAxisError\u001b[0m                                 Traceback (most recent call last)",
      "Input \u001b[0;32mIn [115]\u001b[0m, in \u001b[0;36m<cell line: 1>\u001b[0;34m()\u001b[0m\n\u001b[0;32m----> 1\u001b[0m \u001b[43mnp\u001b[49m\u001b[38;5;241;43m.\u001b[39;49m\u001b[43mconcatenate\u001b[49m\u001b[43m(\u001b[49m\u001b[43m[\u001b[49m\u001b[43ma\u001b[49m\u001b[43m,\u001b[49m\u001b[43mb\u001b[49m\u001b[43m]\u001b[49m\u001b[43m,\u001b[49m\u001b[43maxis\u001b[49m\u001b[38;5;241;43m=\u001b[39;49m\u001b[38;5;241;43m-\u001b[39;49m\u001b[38;5;241;43m4\u001b[39;49m\u001b[43m)\u001b[49m\n",
      "File \u001b[0;32m<__array_function__ internals>:5\u001b[0m, in \u001b[0;36mconcatenate\u001b[0;34m(*args, **kwargs)\u001b[0m\n",
      "\u001b[0;31mAxisError\u001b[0m: axis -4 is out of bounds for array of dimension 3"
     ]
    }
   ],
   "source": [
    "np.concatenate([a,b],axis=-4)"
   ]
  },
  {
   "cell_type": "markdown",
   "id": "ae1bebfc-5d13-43fc-a519-42fb1b288ba5",
   "metadata": {
    "id": "ae1bebfc-5d13-43fc-a519-42fb1b288ba5"
   },
   "source": [
    "- 마지막에서 4번째 차원은 없다 => 마지막에서 4번째 축이 없다 => axis = -4는 에러가 난다. "
   ]
  },
  {
   "cell_type": "markdown",
   "id": "506765fe-4938-41bd-b051-ebcaf36649b8",
   "metadata": {
    "id": "506765fe-4938-41bd-b051-ebcaf36649b8"
   },
   "source": [
    "`-` 0차원은 축이 없으므로 concatenate를 쓸 수 없다. "
   ]
  },
  {
   "cell_type": "code",
   "execution_count": null,
   "id": "a4f849d2-1898-4028-92a4-d3e7b632d155",
   "metadata": {
    "id": "a4f849d2-1898-4028-92a4-d3e7b632d155"
   },
   "outputs": [],
   "source": [
    "a= np.array(1)\n",
    "b= np.array(-1) "
   ]
  },
  {
   "cell_type": "code",
   "execution_count": null,
   "id": "1a4b96f4-3d0e-4e15-bacc-1a41c93fb4b9",
   "metadata": {
    "id": "1a4b96f4-3d0e-4e15-bacc-1a41c93fb4b9",
    "outputId": "a6abb59b-4194-4361-a941-bcff6438b1d3"
   },
   "outputs": [
    {
     "data": {
      "text/plain": [
       "((), ())"
      ]
     },
     "execution_count": 126,
     "metadata": {},
     "output_type": "execute_result"
    }
   ],
   "source": [
    "a.shape, b.shape"
   ]
  },
  {
   "cell_type": "code",
   "execution_count": null,
   "id": "e3b5f961-ca20-4b86-851e-a16fa9aa015e",
   "metadata": {
    "id": "e3b5f961-ca20-4b86-851e-a16fa9aa015e",
    "outputId": "cc29e502-8f85-4766-c00e-a68cd4ab81a3"
   },
   "outputs": [
    {
     "ename": "ValueError",
     "evalue": "zero-dimensional arrays cannot be concatenated",
     "output_type": "error",
     "traceback": [
      "\u001b[0;31m---------------------------------------------------------------------------\u001b[0m",
      "\u001b[0;31mValueError\u001b[0m                                Traceback (most recent call last)",
      "Input \u001b[0;32mIn [127]\u001b[0m, in \u001b[0;36m<cell line: 1>\u001b[0;34m()\u001b[0m\n\u001b[0;32m----> 1\u001b[0m \u001b[43mnp\u001b[49m\u001b[38;5;241;43m.\u001b[39;49m\u001b[43mconcatenate\u001b[49m\u001b[43m(\u001b[49m\u001b[43m[\u001b[49m\u001b[43ma\u001b[49m\u001b[43m,\u001b[49m\u001b[43mb\u001b[49m\u001b[43m]\u001b[49m\u001b[43m)\u001b[49m\n",
      "File \u001b[0;32m<__array_function__ internals>:5\u001b[0m, in \u001b[0;36mconcatenate\u001b[0;34m(*args, **kwargs)\u001b[0m\n",
      "\u001b[0;31mValueError\u001b[0m: zero-dimensional arrays cannot be concatenated"
     ]
    }
   ],
   "source": [
    "np.concatenate([a,b])"
   ]
  },
  {
   "cell_type": "markdown",
   "id": "1fa5d482-abcf-4873-a5ff-584f02d1f07b",
   "metadata": {
    "id": "1fa5d482-abcf-4873-a5ff-584f02d1f07b"
   },
   "source": [
    "`-` 꼭 a,b가 같은 차원일 필요는 없다. "
   ]
  },
  {
   "cell_type": "code",
   "execution_count": null,
   "id": "3ecea3e0-6599-4b32-9412-9d961025b333",
   "metadata": {
    "id": "3ecea3e0-6599-4b32-9412-9d961025b333"
   },
   "outputs": [],
   "source": [
    "a=np.array(range(4)).reshape(2,2) \n",
    "b=np.array(range(2)).reshape(2,1)  "
   ]
  },
  {
   "cell_type": "code",
   "execution_count": null,
   "id": "1de31e29-c99d-4e59-91e3-407969ba3b23",
   "metadata": {
    "id": "1de31e29-c99d-4e59-91e3-407969ba3b23",
    "outputId": "1dcfd8f8-f27e-4d69-ae73-e06e8cbc4787"
   },
   "outputs": [
    {
     "data": {
      "text/plain": [
       "array([[0, 1, 0],\n",
       "       [2, 3, 1]])"
      ]
     },
     "execution_count": 131,
     "metadata": {},
     "output_type": "execute_result"
    }
   ],
   "source": [
    "np.concatenate([a,b],axis=1)"
   ]
  },
  {
   "cell_type": "code",
   "execution_count": null,
   "id": "82c96966-caa0-4650-9393-6b73a8b08780",
   "metadata": {
    "id": "82c96966-caa0-4650-9393-6b73a8b08780",
    "outputId": "46c9fcae-57d4-4958-aed4-fbba22b716a1"
   },
   "outputs": [
    {
     "data": {
      "text/plain": [
       "((2, 2), (2, 1), (2, 3))"
      ]
     },
     "execution_count": 133,
     "metadata": {},
     "output_type": "execute_result"
    }
   ],
   "source": [
    "a.shape, b.shape, np.concatenate([a,b],axis=1).shape"
   ]
  },
  {
   "cell_type": "markdown",
   "id": "23fb3385-331d-466a-9470-28184d517112",
   "metadata": {
    "id": "23fb3385-331d-466a-9470-28184d517112"
   },
   "source": [
    "#### np.stack "
   ]
  },
  {
   "cell_type": "markdown",
   "id": "70f87203-fb3d-4497-9bcd-43c936d37feb",
   "metadata": {
    "id": "70f87203-fb3d-4497-9bcd-43c936d37feb"
   },
   "source": [
    "`-` 혹시 아래가 가능할까? "
   ]
  },
  {
   "cell_type": "markdown",
   "id": "6b32b895-09e4-470a-b5fa-538e098e206c",
   "metadata": {
    "id": "6b32b895-09e4-470a-b5fa-538e098e206c"
   },
   "source": [
    "- (3,) 결합 (3,) => (3,2) "
   ]
  },
  {
   "cell_type": "code",
   "execution_count": null,
   "id": "1b55334c-43a5-4f21-8a8f-00c1928cd826",
   "metadata": {
    "id": "1b55334c-43a5-4f21-8a8f-00c1928cd826"
   },
   "outputs": [],
   "source": [
    "a=np.array([1,2,3])\n",
    "b=-a"
   ]
  },
  {
   "cell_type": "code",
   "execution_count": null,
   "id": "2b3e598b-ba83-481e-ac48-d3a78b3f8b66",
   "metadata": {
    "id": "2b3e598b-ba83-481e-ac48-d3a78b3f8b66",
    "outputId": "3d35765e-aafd-4ba8-8a86-a42a4ed7d441"
   },
   "outputs": [
    {
     "data": {
      "text/plain": [
       "(array([1, 2, 3]), array([-1, -2, -3]))"
      ]
     },
     "execution_count": 150,
     "metadata": {},
     "output_type": "execute_result"
    }
   ],
   "source": [
    "a,b"
   ]
  },
  {
   "cell_type": "code",
   "execution_count": null,
   "id": "738b106b-2d64-4f05-9eeb-26a6875d9bd8",
   "metadata": {
    "id": "738b106b-2d64-4f05-9eeb-26a6875d9bd8",
    "outputId": "6f81d4c5-f208-434a-db30-a15b3f00b8e1"
   },
   "outputs": [
    {
     "ename": "AxisError",
     "evalue": "axis 1 is out of bounds for array of dimension 1",
     "output_type": "error",
     "traceback": [
      "\u001b[0;31m---------------------------------------------------------------------------\u001b[0m",
      "\u001b[0;31mAxisError\u001b[0m                                 Traceback (most recent call last)",
      "Input \u001b[0;32mIn [151]\u001b[0m, in \u001b[0;36m<cell line: 1>\u001b[0;34m()\u001b[0m\n\u001b[0;32m----> 1\u001b[0m \u001b[43mnp\u001b[49m\u001b[38;5;241;43m.\u001b[39;49m\u001b[43mconcatenate\u001b[49m\u001b[43m(\u001b[49m\u001b[43m[\u001b[49m\u001b[43ma\u001b[49m\u001b[43m,\u001b[49m\u001b[43mb\u001b[49m\u001b[43m]\u001b[49m\u001b[43m,\u001b[49m\u001b[43maxis\u001b[49m\u001b[38;5;241;43m=\u001b[39;49m\u001b[38;5;241;43m1\u001b[39;49m\u001b[43m)\u001b[49m\n",
      "File \u001b[0;32m<__array_function__ internals>:5\u001b[0m, in \u001b[0;36mconcatenate\u001b[0;34m(*args, **kwargs)\u001b[0m\n",
      "\u001b[0;31mAxisError\u001b[0m: axis 1 is out of bounds for array of dimension 1"
     ]
    }
   ],
   "source": [
    "np.concatenate([a,b],axis=1)"
   ]
  },
  {
   "cell_type": "markdown",
   "id": "dba4b07f-9193-4172-b552-43b6505241ea",
   "metadata": {
    "id": "dba4b07f-9193-4172-b552-43b6505241ea"
   },
   "source": [
    "- 불가능 "
   ]
  },
  {
   "cell_type": "markdown",
   "id": "4862146a-9e31-4811-9502-17b4aa68b840",
   "metadata": {
    "id": "4862146a-9e31-4811-9502-17b4aa68b840"
   },
   "source": [
    "`-` 아래와 같이 하면 해결가능 "
   ]
  },
  {
   "cell_type": "code",
   "execution_count": null,
   "id": "e803f77b-2970-4955-a87d-d5658f8ec364",
   "metadata": {
    "id": "e803f77b-2970-4955-a87d-d5658f8ec364"
   },
   "outputs": [],
   "source": [
    "a=np.array([1,2,3]).reshape(3,1) \n",
    "b=-a"
   ]
  },
  {
   "cell_type": "code",
   "execution_count": null,
   "id": "afeeb4e3-7660-4d40-ae9b-896f5314b61e",
   "metadata": {
    "id": "afeeb4e3-7660-4d40-ae9b-896f5314b61e",
    "outputId": "56aa3f4f-8222-4eca-ec9b-26d23927fdfa"
   },
   "outputs": [
    {
     "data": {
      "text/plain": [
       "(array([[1],\n",
       "        [2],\n",
       "        [3]]),\n",
       " array([[-1],\n",
       "        [-2],\n",
       "        [-3]]))"
      ]
     },
     "execution_count": 153,
     "metadata": {},
     "output_type": "execute_result"
    }
   ],
   "source": [
    "a,b"
   ]
  },
  {
   "cell_type": "code",
   "execution_count": null,
   "id": "e1dcb7ba-fc9c-4feb-8b75-068b3181eb2e",
   "metadata": {
    "id": "e1dcb7ba-fc9c-4feb-8b75-068b3181eb2e",
    "outputId": "3e0b3225-300f-4689-9905-74d711df692d"
   },
   "outputs": [
    {
     "data": {
      "text/plain": [
       "array([[ 1, -1],\n",
       "       [ 2, -2],\n",
       "       [ 3, -3]])"
      ]
     },
     "execution_count": 154,
     "metadata": {},
     "output_type": "execute_result"
    }
   ],
   "source": [
    "np.concatenate([a,b],axis=1)"
   ]
  },
  {
   "cell_type": "markdown",
   "id": "99465b54-fdcd-431a-94b4-1aefd0041800",
   "metadata": {
    "id": "99465b54-fdcd-431a-94b4-1aefd0041800"
   },
   "source": [
    "- 분석: (3) (3) => (3,1) (3,1) => (3,1) concat (3,1) "
   ]
  },
  {
   "cell_type": "markdown",
   "id": "b3d6f6ec-bbdf-4f34-8914-d7bfe874156f",
   "metadata": {
    "id": "b3d6f6ec-bbdf-4f34-8914-d7bfe874156f"
   },
   "source": [
    "`-` 위의 과정을 줄여서 아래와 같이 할 수 있다. "
   ]
  },
  {
   "cell_type": "code",
   "execution_count": null,
   "id": "989920f1-1829-4507-ad3a-d5410f5d0e72",
   "metadata": {
    "id": "989920f1-1829-4507-ad3a-d5410f5d0e72"
   },
   "outputs": [],
   "source": [
    "a=np.array([1,2,3])\n",
    "b=-a"
   ]
  },
  {
   "cell_type": "code",
   "execution_count": null,
   "id": "7cc35aeb-2ee4-4b5b-9328-e800f0d17fb9",
   "metadata": {
    "id": "7cc35aeb-2ee4-4b5b-9328-e800f0d17fb9",
    "outputId": "84855b65-eb6c-44a1-f583-61d4cfc1e5e4"
   },
   "outputs": [
    {
     "data": {
      "text/plain": [
       "array([[ 1, -1],\n",
       "       [ 2, -2],\n",
       "       [ 3, -3]])"
      ]
     },
     "execution_count": 157,
     "metadata": {},
     "output_type": "execute_result"
    }
   ],
   "source": [
    "np.stack([a,b],axis=1)"
   ]
  },
  {
   "cell_type": "markdown",
   "id": "c87fceef-4668-4791-afb8-a659e64660ec",
   "metadata": {
    "id": "c87fceef-4668-4791-afb8-a659e64660ec"
   },
   "source": [
    "`-` 아래도 가능 "
   ]
  },
  {
   "cell_type": "code",
   "execution_count": null,
   "id": "5d1a73cc-2a51-4094-98bc-c36e842e9d29",
   "metadata": {
    "id": "5d1a73cc-2a51-4094-98bc-c36e842e9d29",
    "outputId": "e6d0b6c6-1d01-4f65-84fd-3d12d5891340"
   },
   "outputs": [
    {
     "data": {
      "text/plain": [
       "array([[ 1,  2,  3],\n",
       "       [-1, -2, -3]])"
      ]
     },
     "execution_count": 158,
     "metadata": {},
     "output_type": "execute_result"
    }
   ],
   "source": [
    "np.stack([a,b],axis=0)"
   ]
  },
  {
   "cell_type": "markdown",
   "id": "a844de25-da88-457b-af60-d532d59becb5",
   "metadata": {
    "id": "a844de25-da88-457b-af60-d532d59becb5"
   },
   "source": [
    "`-` 분석해보고 외우자"
   ]
  },
  {
   "cell_type": "markdown",
   "id": "3c22449b-ca58-4fe7-8e1a-76e4c2af43ed",
   "metadata": {
    "id": "3c22449b-ca58-4fe7-8e1a-76e4c2af43ed"
   },
   "source": [
    "(분석1)"
   ]
  },
  {
   "cell_type": "code",
   "execution_count": null,
   "id": "34e06fb2-431c-43ba-b2d5-77dfab86b6e7",
   "metadata": {
    "id": "34e06fb2-431c-43ba-b2d5-77dfab86b6e7"
   },
   "outputs": [],
   "source": [
    "a=np.array([1,2,3])\n",
    "b=-a"
   ]
  },
  {
   "cell_type": "code",
   "execution_count": null,
   "id": "80821e3e-5bd9-4e09-8a83-972559116297",
   "metadata": {
    "id": "80821e3e-5bd9-4e09-8a83-972559116297",
    "outputId": "a2f8eb64-b03c-46d2-cb5f-a48fefe8e445"
   },
   "outputs": [
    {
     "data": {
      "text/plain": [
       "((3,), (3,), (2, 3))"
      ]
     },
     "execution_count": 162,
     "metadata": {},
     "output_type": "execute_result"
    }
   ],
   "source": [
    "a.shape, b.shape, np.stack([a,b],axis=0).shape"
   ]
  },
  {
   "cell_type": "markdown",
   "id": "5c98d932-668b-4952-9474-43a50b81315f",
   "metadata": {
    "id": "5c98d932-668b-4952-9474-43a50b81315f"
   },
   "source": [
    "- (3) (3) => 첫 위치에 축을 추가 (axis=0) => (1,3) (1,3) => (2,3) "
   ]
  },
  {
   "cell_type": "markdown",
   "id": "58397bcf-f4c7-4484-84b2-6ca4cebee5c3",
   "metadata": {
    "id": "58397bcf-f4c7-4484-84b2-6ca4cebee5c3"
   },
   "source": [
    "(분석2)"
   ]
  },
  {
   "cell_type": "code",
   "execution_count": null,
   "id": "7723dfa1-10dc-4df7-9eab-b25960cd0509",
   "metadata": {
    "id": "7723dfa1-10dc-4df7-9eab-b25960cd0509"
   },
   "outputs": [],
   "source": [
    "a=np.array([1,2,3])\n",
    "b=-a"
   ]
  },
  {
   "cell_type": "code",
   "execution_count": null,
   "id": "96ade04f-a96d-4a91-bd3d-5937703d8315",
   "metadata": {
    "id": "96ade04f-a96d-4a91-bd3d-5937703d8315",
    "outputId": "633c8569-05af-46ae-fb30-0a2efd18de69"
   },
   "outputs": [
    {
     "data": {
      "text/plain": [
       "((3,), (3,), (3, 2))"
      ]
     },
     "execution_count": 164,
     "metadata": {},
     "output_type": "execute_result"
    }
   ],
   "source": [
    "a.shape, b.shape, np.stack([a,b],axis=1).shape"
   ]
  },
  {
   "cell_type": "markdown",
   "id": "44905952-3fd1-436c-a595-a4cfb5ae1353",
   "metadata": {
    "id": "44905952-3fd1-436c-a595-a4cfb5ae1353"
   },
   "source": [
    "- (3) (3) => 두 위치에 축을 추가 (axis=1) => (3,1) (3,1) => (3,2) "
   ]
  },
  {
   "cell_type": "markdown",
   "id": "0b446203-ea93-43dc-8426-646f99c4d669",
   "metadata": {
    "id": "0b446203-ea93-43dc-8426-646f99c4d669"
   },
   "source": [
    "`-` 고차원예제 "
   ]
  },
  {
   "cell_type": "code",
   "execution_count": null,
   "id": "c7c6731b-4b9a-4889-9867-1be7cc9e5af0",
   "metadata": {
    "id": "c7c6731b-4b9a-4889-9867-1be7cc9e5af0"
   },
   "outputs": [],
   "source": [
    "a=np.arange(3*4*5).reshape(3,4,5) \n",
    "b=-a"
   ]
  },
  {
   "cell_type": "code",
   "execution_count": null,
   "id": "159d59df-120f-47da-9fc1-7022bed0b91e",
   "metadata": {
    "id": "159d59df-120f-47da-9fc1-7022bed0b91e",
    "outputId": "7e15fd5b-db01-412f-b946-8170668f1c82"
   },
   "outputs": [
    {
     "data": {
      "text/plain": [
       "((3, 4, 5), (3, 4, 5))"
      ]
     },
     "execution_count": 167,
     "metadata": {},
     "output_type": "execute_result"
    }
   ],
   "source": [
    "a.shape, b.shape"
   ]
  },
  {
   "cell_type": "code",
   "execution_count": null,
   "id": "f0c1e5af-56eb-4730-a32a-fa0ecfd18e0e",
   "metadata": {
    "id": "f0c1e5af-56eb-4730-a32a-fa0ecfd18e0e",
    "outputId": "19bd712a-440f-422c-82e0-db5de045893a"
   },
   "outputs": [
    {
     "data": {
      "text/plain": [
       "(2, 3, 4, 5)"
      ]
     },
     "execution_count": 170,
     "metadata": {},
     "output_type": "execute_result"
    }
   ],
   "source": [
    "np.stack([a,b],axis=0).shape # (3,4,5) => (1,3,4,5) // 첫 위치에 축이 추가되고 스택 "
   ]
  },
  {
   "cell_type": "code",
   "execution_count": null,
   "id": "33579e71-71ae-4a80-872a-4740767142b9",
   "metadata": {
    "id": "33579e71-71ae-4a80-872a-4740767142b9",
    "outputId": "e58edab4-7d44-4625-ff87-881331890e32"
   },
   "outputs": [
    {
     "data": {
      "text/plain": [
       "(3, 2, 4, 5)"
      ]
     },
     "execution_count": 174,
     "metadata": {},
     "output_type": "execute_result"
    }
   ],
   "source": [
    "np.stack([a,b],axis=1).shape # (3,4,5) => (3,1,4,5) // 두번째 위치에 축이 추가되고 스택 "
   ]
  },
  {
   "cell_type": "code",
   "execution_count": null,
   "id": "837cb344-9432-4585-a343-c435c868bd8c",
   "metadata": {
    "id": "837cb344-9432-4585-a343-c435c868bd8c",
    "outputId": "47dd5387-4b77-4ddf-85c1-e9b78b2895fb"
   },
   "outputs": [
    {
     "data": {
      "text/plain": [
       "(3, 4, 2, 5)"
      ]
     },
     "execution_count": 175,
     "metadata": {},
     "output_type": "execute_result"
    }
   ],
   "source": [
    "np.stack([a,b],axis=2).shape # (3,4,5) => (3,4,1,5) // 세번째 위치에 축이 추가되고 스택 "
   ]
  },
  {
   "cell_type": "code",
   "execution_count": null,
   "id": "dd3c5d3a-28c5-4b9f-ad75-6753d9dfce9e",
   "metadata": {
    "id": "dd3c5d3a-28c5-4b9f-ad75-6753d9dfce9e",
    "outputId": "99b8993d-4e3e-48eb-8b81-2686181730b6"
   },
   "outputs": [
    {
     "data": {
      "text/plain": [
       "(3, 4, 5, 2)"
      ]
     },
     "execution_count": 179,
     "metadata": {},
     "output_type": "execute_result"
    }
   ],
   "source": [
    "np.stack([a,b],axis=3).shape # (3,4,5) => (3,4,5,1) // 네번째 위치에 축이 추가되고 스택 "
   ]
  },
  {
   "cell_type": "code",
   "execution_count": null,
   "id": "338b3cc3-3be8-4895-be29-cc83194f0666",
   "metadata": {
    "id": "338b3cc3-3be8-4895-be29-cc83194f0666",
    "outputId": "b67a7534-a33b-49e5-ec8f-b7cd12e2a893"
   },
   "outputs": [
    {
     "data": {
      "text/plain": [
       "(3, 4, 5, 2)"
      ]
     },
     "execution_count": 181,
     "metadata": {},
     "output_type": "execute_result"
    }
   ],
   "source": [
    "np.stack([a,b],axis=-1).shape # axis=-1 <=> axis=3 "
   ]
  },
  {
   "cell_type": "code",
   "execution_count": null,
   "id": "a2451178-1d8f-4cc3-b449-f71909163bca",
   "metadata": {
    "id": "a2451178-1d8f-4cc3-b449-f71909163bca",
    "outputId": "c5179e0a-1a79-4ec0-e6e6-5b1e2809233d"
   },
   "outputs": [
    {
     "data": {
      "text/plain": [
       "(3, 4, 2, 5)"
      ]
     },
     "execution_count": 182,
     "metadata": {},
     "output_type": "execute_result"
    }
   ],
   "source": [
    "np.stack([a,b],axis=-2).shape # axis=-2 <=> axis=2"
   ]
  },
  {
   "cell_type": "markdown",
   "id": "653abf3e-5e92-4b35-8013-5e445c6ae775",
   "metadata": {
    "id": "653abf3e-5e92-4b35-8013-5e445c6ae775"
   },
   "source": [
    "***np.concatenate*** 는 축의 총 갯수를 유지하면서 결합, ***np.stack***은 축의 갯수를 하나 증가시키면서 결합"
   ]
  },
  {
   "cell_type": "markdown",
   "id": "a052182b-b314-4475-946c-9249f313ee3b",
   "metadata": {
    "id": "a052182b-b314-4475-946c-9249f313ee3b"
   },
   "source": [
    "#### sum"
   ]
  },
  {
   "cell_type": "markdown",
   "id": "a2ba28bd-6483-4dfd-8be1-272a07993a6a",
   "metadata": {
    "id": "a2ba28bd-6483-4dfd-8be1-272a07993a6a"
   },
   "source": [
    "`-` 1차원 "
   ]
  },
  {
   "cell_type": "code",
   "execution_count": null,
   "id": "83099798-4678-4fa7-882b-15fd9bf548fc",
   "metadata": {
    "id": "83099798-4678-4fa7-882b-15fd9bf548fc",
    "outputId": "9806326f-2644-4152-9e7c-d63b39f94f8d"
   },
   "outputs": [
    {
     "data": {
      "text/plain": [
       "array([1, 2, 3])"
      ]
     },
     "execution_count": 212,
     "metadata": {},
     "output_type": "execute_result"
    }
   ],
   "source": [
    "a = np.array([1,2,3]) \n",
    "a"
   ]
  },
  {
   "cell_type": "code",
   "execution_count": null,
   "id": "013cc74d-bff8-468c-814c-038db4c4e9a5",
   "metadata": {
    "id": "013cc74d-bff8-468c-814c-038db4c4e9a5",
    "outputId": "762df28b-f9b9-4496-8778-7e9a9cecc104"
   },
   "outputs": [
    {
     "data": {
      "text/plain": [
       "6"
      ]
     },
     "execution_count": 213,
     "metadata": {},
     "output_type": "execute_result"
    }
   ],
   "source": [
    "a.sum()"
   ]
  },
  {
   "cell_type": "code",
   "execution_count": null,
   "id": "7e9c6443-4789-45f7-a3c0-e8e2a684a0b5",
   "metadata": {
    "id": "7e9c6443-4789-45f7-a3c0-e8e2a684a0b5",
    "outputId": "bde99fd5-64fc-471b-c07d-f9af686d1f94"
   },
   "outputs": [
    {
     "data": {
      "text/plain": [
       "6"
      ]
     },
     "execution_count": 214,
     "metadata": {},
     "output_type": "execute_result"
    }
   ],
   "source": [
    "a.sum(axis=0)"
   ]
  },
  {
   "cell_type": "markdown",
   "id": "ffb9534d-1b72-4287-8fc9-f8aabe34c352",
   "metadata": {
    "id": "ffb9534d-1b72-4287-8fc9-f8aabe34c352"
   },
   "source": [
    "`-` 2차원 "
   ]
  },
  {
   "cell_type": "code",
   "execution_count": null,
   "id": "bc77d601-5384-41fd-ae3f-f7977eff0b8a",
   "metadata": {
    "id": "bc77d601-5384-41fd-ae3f-f7977eff0b8a",
    "outputId": "9583751b-d006-4553-f164-005c832d0093"
   },
   "outputs": [
    {
     "data": {
      "text/plain": [
       "array([[0, 1, 2],\n",
       "       [3, 4, 5]])"
      ]
     },
     "execution_count": 208,
     "metadata": {},
     "output_type": "execute_result"
    }
   ],
   "source": [
    "a=np.array(range(6)).reshape(2,3)\n",
    "a"
   ]
  },
  {
   "cell_type": "code",
   "execution_count": null,
   "id": "ff773f35-a3c9-4a2b-b634-c10677d766aa",
   "metadata": {
    "id": "ff773f35-a3c9-4a2b-b634-c10677d766aa",
    "outputId": "f76cffbf-1345-4691-98cc-c5e769f34249"
   },
   "outputs": [
    {
     "data": {
      "text/plain": [
       "15"
      ]
     },
     "execution_count": 209,
     "metadata": {},
     "output_type": "execute_result"
    }
   ],
   "source": [
    "a.sum() # 전체합"
   ]
  },
  {
   "cell_type": "code",
   "execution_count": null,
   "id": "882a94a3-b201-4737-96d6-165fc5b40ef6",
   "metadata": {
    "id": "882a94a3-b201-4737-96d6-165fc5b40ef6",
    "outputId": "92d33c3d-04c1-49a4-f525-0aafe1a4d866"
   },
   "outputs": [
    {
     "data": {
      "text/plain": [
       "array([3, 5, 7])"
      ]
     },
     "execution_count": 210,
     "metadata": {},
     "output_type": "execute_result"
    }
   ],
   "source": [
    "a.sum(axis=0) "
   ]
  },
  {
   "cell_type": "code",
   "execution_count": null,
   "id": "4d12bc83-d5b4-4863-8564-1ea48416ca79",
   "metadata": {
    "id": "4d12bc83-d5b4-4863-8564-1ea48416ca79",
    "outputId": "4844fd12-b70a-4267-ab8e-13679ce453cf"
   },
   "outputs": [
    {
     "data": {
      "text/plain": [
       "array([ 3, 12])"
      ]
     },
     "execution_count": 211,
     "metadata": {},
     "output_type": "execute_result"
    }
   ],
   "source": [
    "a.sum(axis=1) "
   ]
  },
  {
   "cell_type": "markdown",
   "id": "0a657604-3823-4463-8d73-5a77cacd1f1e",
   "metadata": {
    "id": "0a657604-3823-4463-8d73-5a77cacd1f1e"
   },
   "source": [
    "`-` 2차원 결과 분석 "
   ]
  },
  {
   "cell_type": "code",
   "execution_count": null,
   "id": "00d0c4e8-1852-48ac-a1aa-995e5a6f0a60",
   "metadata": {
    "id": "00d0c4e8-1852-48ac-a1aa-995e5a6f0a60",
    "outputId": "8df6e753-d143-466d-e273-626bb88cdbd5"
   },
   "outputs": [
    {
     "data": {
      "text/plain": [
       "((2, 3), (3,))"
      ]
     },
     "execution_count": 193,
     "metadata": {},
     "output_type": "execute_result"
    }
   ],
   "source": [
    "a.shape, a.sum(axis=0).shape"
   ]
  },
  {
   "cell_type": "markdown",
   "id": "48d34b53-d102-4537-9121-93163662c839",
   "metadata": {
    "id": "48d34b53-d102-4537-9121-93163662c839"
   },
   "source": [
    "- 첫번째 축이 삭제됨 => axis=0 "
   ]
  },
  {
   "cell_type": "code",
   "execution_count": null,
   "id": "d88b697e-610f-40a0-88e0-ee6dc78a2af6",
   "metadata": {
    "id": "d88b697e-610f-40a0-88e0-ee6dc78a2af6",
    "outputId": "aaeb4d51-52b6-41aa-bf06-f0e7fb14e4b8"
   },
   "outputs": [
    {
     "data": {
      "text/plain": [
       "((2, 3), (2,))"
      ]
     },
     "execution_count": 195,
     "metadata": {},
     "output_type": "execute_result"
    }
   ],
   "source": [
    "a.shape, a.sum(axis=1).shape"
   ]
  },
  {
   "cell_type": "markdown",
   "id": "9dd9cd8c-e6b7-4c70-b10b-90720862ff81",
   "metadata": {
    "id": "9dd9cd8c-e6b7-4c70-b10b-90720862ff81"
   },
   "source": [
    "- 두번째 축이 삭제됨 => axis=1 "
   ]
  },
  {
   "cell_type": "markdown",
   "id": "76fdfe3b-c102-4e62-9ddb-a5cde5b71d6d",
   "metadata": {
    "id": "76fdfe3b-c102-4e62-9ddb-a5cde5b71d6d"
   },
   "source": [
    "`-` 연습"
   ]
  },
  {
   "cell_type": "code",
   "execution_count": null,
   "id": "9557ef8a-a606-41f1-97b7-93f7e1c07ec2",
   "metadata": {
    "id": "9557ef8a-a606-41f1-97b7-93f7e1c07ec2",
    "outputId": "31f3280e-7cbb-428a-c288-2d46e5f41497"
   },
   "outputs": [
    {
     "data": {
      "text/plain": [
       "array([[0, 1],\n",
       "       [2, 3],\n",
       "       [4, 5],\n",
       "       [6, 7],\n",
       "       [8, 9]])"
      ]
     },
     "execution_count": 197,
     "metadata": {},
     "output_type": "execute_result"
    }
   ],
   "source": [
    "a=np.array(range(10)).reshape(5,2) \n",
    "a"
   ]
  },
  {
   "cell_type": "markdown",
   "id": "27682ef3-5e9a-443d-abfc-fd5082a7afb2",
   "metadata": {
    "id": "27682ef3-5e9a-443d-abfc-fd5082a7afb2"
   },
   "source": [
    "(문제1) 1열의 합, 2열의 합을 계산하고 싶다면? "
   ]
  },
  {
   "cell_type": "markdown",
   "id": "bc74b888-486c-47f9-9e5b-89ed4c0de016",
   "metadata": {
    "id": "bc74b888-486c-47f9-9e5b-89ed4c0de016"
   },
   "source": [
    "(풀이) 차원이 (5,2) => (2,) 로 나와야 한다. (그럼 첫번째 축이 삭제되어야 하네?) "
   ]
  },
  {
   "cell_type": "code",
   "execution_count": null,
   "id": "c1104e8d-665d-4765-b1d3-9a882e4aaa34",
   "metadata": {
    "id": "c1104e8d-665d-4765-b1d3-9a882e4aaa34",
    "outputId": "cc58aa8a-1a58-4bbb-8cfc-f7695c40589c"
   },
   "outputs": [
    {
     "data": {
      "text/plain": [
       "array([20, 25])"
      ]
     },
     "execution_count": 198,
     "metadata": {},
     "output_type": "execute_result"
    }
   ],
   "source": [
    "a.sum(axis=0)"
   ]
  },
  {
   "cell_type": "markdown",
   "id": "3b7b8e5d-2103-4eb0-b348-7c9e1d056460",
   "metadata": {
    "id": "3b7b8e5d-2103-4eb0-b348-7c9e1d056460"
   },
   "source": [
    "(문제2) 1행의 합, 2행의 합, ... , 5행의 합을 계산하고 싶다면? "
   ]
  },
  {
   "cell_type": "markdown",
   "id": "9454809b-2a4c-4d20-9f23-c9dd450e5697",
   "metadata": {
    "id": "9454809b-2a4c-4d20-9f23-c9dd450e5697"
   },
   "source": [
    "(풀이) 차원이 (5,2) => (5,)로 나와야 한다. (그럼 두번째 축이 삭제되어야 하네?) "
   ]
  },
  {
   "cell_type": "code",
   "execution_count": null,
   "id": "ad5aa245-5892-49e0-8fc7-a97dd2b6fed0",
   "metadata": {
    "id": "ad5aa245-5892-49e0-8fc7-a97dd2b6fed0",
    "outputId": "f6b07789-2468-4aa6-9049-6cd36bd75afa"
   },
   "outputs": [
    {
     "data": {
      "text/plain": [
       "array([ 1,  5,  9, 13, 17])"
      ]
     },
     "execution_count": 199,
     "metadata": {},
     "output_type": "execute_result"
    }
   ],
   "source": [
    "a.sum(axis=1)"
   ]
  },
  {
   "cell_type": "markdown",
   "id": "f50c1b58-ee5a-4c4f-b81c-72c7d5bf66ea",
   "metadata": {
    "id": "f50c1b58-ee5a-4c4f-b81c-72c7d5bf66ea"
   },
   "source": [
    "(문제3) a의 모든원소의 합을 계산하고 싶다면? "
   ]
  },
  {
   "cell_type": "markdown",
   "id": "8a560156-07ab-4526-af34-795ecad6f03d",
   "metadata": {
    "id": "8a560156-07ab-4526-af34-795ecad6f03d"
   },
   "source": [
    "(풀이) 차원이 (5,2) => () 로 나와야 한다. (첫번째축, 두번째축이 모두 삭제되어야 하네?) "
   ]
  },
  {
   "cell_type": "code",
   "execution_count": null,
   "id": "fa77efad-75f3-45dc-88fb-8649abce8520",
   "metadata": {
    "id": "fa77efad-75f3-45dc-88fb-8649abce8520",
    "outputId": "264f1a31-5cca-488c-9547-c1cd57b1ed85"
   },
   "outputs": [
    {
     "data": {
      "text/plain": [
       "45"
      ]
     },
     "execution_count": 201,
     "metadata": {},
     "output_type": "execute_result"
    }
   ],
   "source": [
    "a.sum(axis=(0,1))"
   ]
  },
  {
   "cell_type": "code",
   "execution_count": null,
   "id": "be5f8f2c-09b6-45ec-ae2f-c15bc3549b96",
   "metadata": {
    "id": "be5f8f2c-09b6-45ec-ae2f-c15bc3549b96",
    "outputId": "945170f2-a733-47fa-fff4-7e3ab52f4dda"
   },
   "outputs": [
    {
     "data": {
      "text/plain": [
       "45"
      ]
     },
     "execution_count": 203,
     "metadata": {},
     "output_type": "execute_result"
    }
   ],
   "source": [
    "a.sum() # 즉 a.sum(axis=(0,1))이 디폴트값임 "
   ]
  },
  {
   "cell_type": "markdown",
   "id": "e19c3cce-e706-4cbe-be98-0aca47e1f10c",
   "metadata": {
    "id": "e19c3cce-e706-4cbe-be98-0aca47e1f10c"
   },
   "source": [
    "#### mean, std, max, min, prod "
   ]
  },
  {
   "cell_type": "markdown",
   "id": "5d25b1da-e29a-4ee0-a834-019e81e398a4",
   "metadata": {
    "id": "5d25b1da-e29a-4ee0-a834-019e81e398a4"
   },
   "source": [
    "`-` 모두 sum이랑 유사한 논리 "
   ]
  },
  {
   "cell_type": "code",
   "execution_count": null,
   "id": "e4ae2cb5-85ff-4bf4-9c51-61b0ace3a8b1",
   "metadata": {
    "id": "e4ae2cb5-85ff-4bf4-9c51-61b0ace3a8b1",
    "outputId": "6c28fa10-7573-4037-92de-93982fe84949"
   },
   "outputs": [
    {
     "data": {
      "text/plain": [
       "array([[0, 1],\n",
       "       [2, 3],\n",
       "       [4, 5],\n",
       "       [6, 7],\n",
       "       [8, 9]])"
      ]
     },
     "execution_count": 218,
     "metadata": {},
     "output_type": "execute_result"
    }
   ],
   "source": [
    "a=np.array(range(10)).reshape(5,2)\n",
    "a"
   ]
  },
  {
   "cell_type": "code",
   "execution_count": null,
   "id": "9bfce9a6-83b8-48c9-b941-8fe20dc04f93",
   "metadata": {
    "id": "9bfce9a6-83b8-48c9-b941-8fe20dc04f93",
    "outputId": "a019f510-fbb5-47c5-db64-8034b7bc211b"
   },
   "outputs": [
    {
     "data": {
      "text/plain": [
       "(array([4., 5.]),\n",
       " array([2.82842712, 2.82842712]),\n",
       " array([8, 9]),\n",
       " array([0, 1]),\n",
       " array([  0, 945]))"
      ]
     },
     "execution_count": 225,
     "metadata": {},
     "output_type": "execute_result"
    }
   ],
   "source": [
    "a.mean(axis=0), a.std(axis=0), a.max(axis=0), a.min(axis=0), a.prod(axis=0)"
   ]
  },
  {
   "cell_type": "code",
   "execution_count": null,
   "id": "87ca0c91-e3bb-4dc2-a958-8a5c8a4ebda3",
   "metadata": {
    "id": "87ca0c91-e3bb-4dc2-a958-8a5c8a4ebda3",
    "outputId": "23a196ea-7ce5-4785-e8d8-b267708f9484"
   },
   "outputs": [
    {
     "data": {
      "text/plain": [
       "(array([0.5, 2.5, 4.5, 6.5, 8.5]),\n",
       " array([0.5, 0.5, 0.5, 0.5, 0.5]),\n",
       " array([1, 3, 5, 7, 9]),\n",
       " array([0, 2, 4, 6, 8]),\n",
       " array([ 0,  6, 20, 42, 72]))"
      ]
     },
     "execution_count": 227,
     "metadata": {},
     "output_type": "execute_result"
    }
   ],
   "source": [
    "a.mean(axis=1), a.std(axis=1), a.max(axis=1), a.min(axis=1), a.prod(axis=1)"
   ]
  },
  {
   "cell_type": "markdown",
   "id": "26cdee4a-1ca0-4102-9b0e-907be0208f42",
   "metadata": {
    "id": "26cdee4a-1ca0-4102-9b0e-907be0208f42"
   },
   "source": [
    "`-` 참고로 std는 분포를 n으로 나눈다. "
   ]
  },
  {
   "cell_type": "code",
   "execution_count": null,
   "id": "67ace49e-5e67-4595-9210-3e103d6f4228",
   "metadata": {
    "id": "67ace49e-5e67-4595-9210-3e103d6f4228",
    "outputId": "edf872cd-ec84-4797-9d94-47d520a1f9f0"
   },
   "outputs": [
    {
     "data": {
      "text/plain": [
       "1.118033988749895"
      ]
     },
     "execution_count": 228,
     "metadata": {},
     "output_type": "execute_result"
    }
   ],
   "source": [
    "a=np.array([1,2,3,4])\n",
    "a.std()"
   ]
  },
  {
   "cell_type": "code",
   "execution_count": null,
   "id": "763412c1-42af-4ae5-88c0-269c9bfb05e7",
   "metadata": {
    "id": "763412c1-42af-4ae5-88c0-269c9bfb05e7",
    "outputId": "734fc3f2-37b2-41e3-b592-dd13c7c01fbe"
   },
   "outputs": [
    {
     "data": {
      "text/plain": [
       "1.118033988749895"
      ]
     },
     "execution_count": 233,
     "metadata": {},
     "output_type": "execute_result"
    }
   ],
   "source": [
    "np.sqrt(sum((a-a.mean())**2)/4)"
   ]
  },
  {
   "cell_type": "markdown",
   "id": "90d3bea1-79a9-462d-8bb6-e1793198d314",
   "metadata": {
    "id": "90d3bea1-79a9-462d-8bb6-e1793198d314"
   },
   "source": [
    "`-` 분모를 n-1로 나눌려면? "
   ]
  },
  {
   "cell_type": "code",
   "execution_count": null,
   "id": "252f0d48-3e99-4e81-8d7d-a079eb36d615",
   "metadata": {
    "id": "252f0d48-3e99-4e81-8d7d-a079eb36d615",
    "outputId": "6e38d4dc-d5e4-478a-97e5-afcf8fa2eca5"
   },
   "outputs": [
    {
     "data": {
      "text/plain": [
       "1.2909944487358056"
      ]
     },
     "execution_count": 234,
     "metadata": {},
     "output_type": "execute_result"
    }
   ],
   "source": [
    "a=np.array([1,2,3,4])\n",
    "a.std(ddof=1)"
   ]
  },
  {
   "cell_type": "code",
   "execution_count": null,
   "id": "4aecb9b5-80ba-4c64-9d11-876ba5621138",
   "metadata": {
    "id": "4aecb9b5-80ba-4c64-9d11-876ba5621138",
    "outputId": "d74985ca-028a-424e-b595-915ac2d8226a"
   },
   "outputs": [
    {
     "data": {
      "text/plain": [
       "1.2909944487358056"
      ]
     },
     "execution_count": 235,
     "metadata": {},
     "output_type": "execute_result"
    }
   ],
   "source": [
    "np.sqrt(sum((a-a.mean())**2)/3)"
   ]
  },
  {
   "cell_type": "markdown",
   "id": "2d1c2e69-7661-4dec-830a-706b7beb4432",
   "metadata": {
    "id": "2d1c2e69-7661-4dec-830a-706b7beb4432"
   },
   "source": [
    "#### argmax, argmin "
   ]
  },
  {
   "cell_type": "markdown",
   "id": "26a85a1f-58cc-4b86-9383-82a85726a4da",
   "metadata": {
    "id": "26a85a1f-58cc-4b86-9383-82a85726a4da"
   },
   "source": [
    "`-` 1차원 "
   ]
  },
  {
   "cell_type": "code",
   "execution_count": null,
   "id": "0e0c4638-84f5-4ddc-8f04-4e3214112d89",
   "metadata": {
    "id": "0e0c4638-84f5-4ddc-8f04-4e3214112d89",
    "outputId": "b2e1dd43-0013-4b14-efbb-ad86de045171"
   },
   "outputs": [
    {
     "data": {
      "text/plain": [
       "array([ 1, -2,  3, 10,  4])"
      ]
     },
     "execution_count": 299,
     "metadata": {},
     "output_type": "execute_result"
    }
   ],
   "source": [
    "a= np.array([1,-2,3,10,4])\n",
    "a"
   ]
  },
  {
   "cell_type": "code",
   "execution_count": null,
   "id": "780c6853-a969-474c-aaaf-5f5e38034e2b",
   "metadata": {
    "id": "780c6853-a969-474c-aaaf-5f5e38034e2b",
    "outputId": "2ff6c710-8f12-4914-c0f1-887a5179b341"
   },
   "outputs": [
    {
     "data": {
      "text/plain": [
       "3"
      ]
     },
     "execution_count": 300,
     "metadata": {},
     "output_type": "execute_result"
    }
   ],
   "source": [
    "a.argmax() # 가장 큰 값이 위치한 원소의 인덱스를 리턴 "
   ]
  },
  {
   "cell_type": "code",
   "execution_count": null,
   "id": "d69aacc7-e73a-4a1a-a876-505be107f57d",
   "metadata": {
    "id": "d69aacc7-e73a-4a1a-a876-505be107f57d",
    "outputId": "78a1f58a-d352-4a17-c9df-9a13bf4ebc68"
   },
   "outputs": [
    {
     "data": {
      "text/plain": [
       "1"
      ]
     },
     "execution_count": 301,
     "metadata": {},
     "output_type": "execute_result"
    }
   ],
   "source": [
    "a.argmin() # 가장 작은 값이 위치한 원소의 인덱스를 리턴 "
   ]
  },
  {
   "cell_type": "markdown",
   "id": "f4acc2d0-da4b-4d9b-bd6e-11d49607ff29",
   "metadata": {
    "id": "f4acc2d0-da4b-4d9b-bd6e-11d49607ff29"
   },
   "source": [
    "`-` 2차원 "
   ]
  },
  {
   "cell_type": "code",
   "execution_count": null,
   "id": "7de08fc3-7320-4784-9b67-888354b47511",
   "metadata": {
    "id": "7de08fc3-7320-4784-9b67-888354b47511",
    "outputId": "1906ea75-b3a7-461f-dfab-2b08c896c5e2"
   },
   "outputs": [
    {
     "data": {
      "text/plain": [
       "array([[ 0.38342049,  1.0841745 ,  1.14277825,  0.30789368,  0.23778744],\n",
       "       [ 0.35595116, -1.66307542, -1.38277318, -1.92684484, -1.4862163 ],\n",
       "       [ 0.00692519, -0.03488725, -0.34357323,  0.70895648, -1.55100608],\n",
       "       [ 1.34565583, -0.05654272, -0.83017342, -1.46395159, -0.35459593]])"
      ]
     },
     "execution_count": 312,
     "metadata": {},
     "output_type": "execute_result"
    }
   ],
   "source": [
    "np.random.seed(43052)\n",
    "a=np.random.randn(4*5).reshape(4,5)\n",
    "a"
   ]
  },
  {
   "cell_type": "code",
   "execution_count": null,
   "id": "1b9f6e67-a3cb-49a3-8533-694a53cc527f",
   "metadata": {
    "id": "1b9f6e67-a3cb-49a3-8533-694a53cc527f",
    "outputId": "54d2e996-3e9c-450c-a092-2960b96828eb"
   },
   "outputs": [
    {
     "data": {
      "text/plain": [
       "(8, -1.9268448358915802)"
      ]
     },
     "execution_count": 314,
     "metadata": {},
     "output_type": "execute_result"
    }
   ],
   "source": [
    "a.argmin(), a.min()"
   ]
  },
  {
   "cell_type": "code",
   "execution_count": null,
   "id": "6dc37e88-88b9-473c-ab18-bf915924c453",
   "metadata": {
    "id": "6dc37e88-88b9-473c-ab18-bf915924c453",
    "outputId": "326d7979-eb63-4b1e-8dfe-d50ac6b02b74"
   },
   "outputs": [
    {
     "data": {
      "text/plain": [
       "(15, 1.3456558341738827)"
      ]
     },
     "execution_count": 315,
     "metadata": {},
     "output_type": "execute_result"
    }
   ],
   "source": [
    "a.argmax(), a.max()"
   ]
  },
  {
   "cell_type": "code",
   "execution_count": null,
   "id": "65b50b52-8100-4356-9885-fecd6d533bdf",
   "metadata": {
    "id": "65b50b52-8100-4356-9885-fecd6d533bdf",
    "outputId": "352bf896-91cf-451b-d9e8-2e9d39019ebd"
   },
   "outputs": [
    {
     "data": {
      "text/plain": [
       "(array([2, 1, 1, 1, 2]), array([4, 3, 4, 3]))"
      ]
     },
     "execution_count": 317,
     "metadata": {},
     "output_type": "execute_result"
    }
   ],
   "source": [
    "a.argmin(axis=0), a.argmin(axis=1)"
   ]
  },
  {
   "cell_type": "code",
   "execution_count": null,
   "id": "61fa4732-1d44-493f-b83c-ad960c296432",
   "metadata": {
    "id": "61fa4732-1d44-493f-b83c-ad960c296432",
    "outputId": "1e1fc973-5b80-440a-fe03-8c8473a611d9"
   },
   "outputs": [
    {
     "data": {
      "text/plain": [
       "(array([3, 0, 0, 2, 0]), array([2, 0, 3, 0]))"
      ]
     },
     "execution_count": 318,
     "metadata": {},
     "output_type": "execute_result"
    }
   ],
   "source": [
    "a.argmax(axis=0), a.argmax(axis=1)"
   ]
  },
  {
   "cell_type": "markdown",
   "id": "6bd45079-4683-471c-9f2b-3f84a42b46e2",
   "metadata": {
    "id": "6bd45079-4683-471c-9f2b-3f84a42b46e2"
   },
   "source": [
    "#### cumsum, cumprod"
   ]
  },
  {
   "cell_type": "markdown",
   "id": "858c45a0-2b09-47b9-8fe8-4ec47936d380",
   "metadata": {
    "id": "858c45a0-2b09-47b9-8fe8-4ec47936d380"
   },
   "source": [
    "`-` 1차원"
   ]
  },
  {
   "cell_type": "code",
   "execution_count": null,
   "id": "b86cea88-5814-4daa-91b7-926b6bc8ba2e",
   "metadata": {
    "id": "b86cea88-5814-4daa-91b7-926b6bc8ba2e",
    "outputId": "11a65c97-92bc-4869-ae30-72522a0406e0"
   },
   "outputs": [
    {
     "data": {
      "text/plain": [
       "array([1, 2, 3, 4])"
      ]
     },
     "execution_count": 319,
     "metadata": {},
     "output_type": "execute_result"
    }
   ],
   "source": [
    "a=np.array([1,2,3,4])\n",
    "a"
   ]
  },
  {
   "cell_type": "code",
   "execution_count": null,
   "id": "c92c7c0d-25a8-48f5-aca4-55ad0166310f",
   "metadata": {
    "id": "c92c7c0d-25a8-48f5-aca4-55ad0166310f",
    "outputId": "ed2e9d8f-b007-4361-8bd1-35edd29be94a"
   },
   "outputs": [
    {
     "data": {
      "text/plain": [
       "array([ 1,  3,  6, 10])"
      ]
     },
     "execution_count": 320,
     "metadata": {},
     "output_type": "execute_result"
    }
   ],
   "source": [
    "a.cumsum()"
   ]
  },
  {
   "cell_type": "code",
   "execution_count": null,
   "id": "56773406-0d82-456a-ada8-1ee178cb693d",
   "metadata": {
    "id": "56773406-0d82-456a-ada8-1ee178cb693d",
    "outputId": "29abb26f-0e7a-47fe-b92e-1c247b8aea9b"
   },
   "outputs": [
    {
     "data": {
      "text/plain": [
       "array([ 1,  2,  6, 24])"
      ]
     },
     "execution_count": 321,
     "metadata": {},
     "output_type": "execute_result"
    }
   ],
   "source": [
    "a.cumprod()"
   ]
  },
  {
   "cell_type": "markdown",
   "id": "0de97c9b-378f-48cf-aa78-eb0bcb7cd1ba",
   "metadata": {
    "id": "0de97c9b-378f-48cf-aa78-eb0bcb7cd1ba"
   },
   "source": [
    "`-` 2차원"
   ]
  },
  {
   "cell_type": "code",
   "execution_count": null,
   "id": "13aafce9-b550-4d41-916e-8a3127715daf",
   "metadata": {
    "id": "13aafce9-b550-4d41-916e-8a3127715daf",
    "outputId": "cc013388-8e1b-4901-bd51-52dd63d06f53"
   },
   "outputs": [
    {
     "data": {
      "text/plain": [
       "array([[ 0,  1,  2,  3],\n",
       "       [ 4,  5,  6,  7],\n",
       "       [ 8,  9, 10, 11]])"
      ]
     },
     "execution_count": 322,
     "metadata": {},
     "output_type": "execute_result"
    }
   ],
   "source": [
    "a=np.array(range(3*4)).reshape(3,4)\n",
    "a"
   ]
  },
  {
   "cell_type": "code",
   "execution_count": null,
   "id": "682187e7-572a-4886-8e97-195feb86b216",
   "metadata": {
    "id": "682187e7-572a-4886-8e97-195feb86b216",
    "outputId": "efffba3e-fdc8-4fd3-e0d1-92a0bdbc44eb"
   },
   "outputs": [
    {
     "data": {
      "text/plain": [
       "(array([[ 0,  1,  2,  3],\n",
       "        [ 4,  6,  8, 10],\n",
       "        [12, 15, 18, 21]]),\n",
       " array([[ 0,  1,  3,  6],\n",
       "        [ 4,  9, 15, 22],\n",
       "        [ 8, 17, 27, 38]]))"
      ]
     },
     "execution_count": 325,
     "metadata": {},
     "output_type": "execute_result"
    }
   ],
   "source": [
    "a.cumsum(axis=0), a.cumsum(axis=1)"
   ]
  },
  {
   "cell_type": "code",
   "execution_count": null,
   "id": "21f6cbf2-3666-4614-97cb-37f36c35a9f8",
   "metadata": {
    "id": "21f6cbf2-3666-4614-97cb-37f36c35a9f8",
    "outputId": "b7123c33-e829-476b-9516-e303dfc95548"
   },
   "outputs": [
    {
     "data": {
      "text/plain": [
       "(array([[  0,   1,   2,   3],\n",
       "        [  0,   5,  12,  21],\n",
       "        [  0,  45, 120, 231]]),\n",
       " array([[   0,    0,    0,    0],\n",
       "        [   4,   20,  120,  840],\n",
       "        [   8,   72,  720, 7920]]))"
      ]
     },
     "execution_count": 326,
     "metadata": {},
     "output_type": "execute_result"
    }
   ],
   "source": [
    "a.cumprod(axis=0), a.cumprod(axis=1)"
   ]
  },
  {
   "cell_type": "markdown",
   "id": "3e6b8c1c-af77-4c28-a790-57d743a787e9",
   "metadata": {
    "id": "3e6b8c1c-af77-4c28-a790-57d743a787e9"
   },
   "source": [
    "#### diff "
   ]
  },
  {
   "cell_type": "markdown",
   "id": "b557694f-53a5-4f4c-b648-8bf8b54f86e2",
   "metadata": {
    "id": "b557694f-53a5-4f4c-b648-8bf8b54f86e2"
   },
   "source": [
    "`-` 1차차분 "
   ]
  },
  {
   "cell_type": "code",
   "execution_count": null,
   "id": "c93736ce-ae2b-4ea6-bc1e-5cb149b7f601",
   "metadata": {
    "id": "c93736ce-ae2b-4ea6-bc1e-5cb149b7f601",
    "outputId": "ce37ad9e-5c56-4521-c482-159bfa1d7276"
   },
   "outputs": [
    {
     "data": {
      "text/plain": [
       "array([1, 2, 4, 6, 7])"
      ]
     },
     "execution_count": 327,
     "metadata": {},
     "output_type": "execute_result"
    }
   ],
   "source": [
    "a=np.array([1,2,4,6,7])\n",
    "a"
   ]
  },
  {
   "cell_type": "code",
   "execution_count": null,
   "id": "7d3bca10-3580-48dc-8c92-a7c56947f88a",
   "metadata": {
    "id": "7d3bca10-3580-48dc-8c92-a7c56947f88a",
    "outputId": "1da5b7b1-36e4-4a97-e71c-58f8b0486e66"
   },
   "outputs": [
    {
     "data": {
      "text/plain": [
       "array([1, 2, 2, 1])"
      ]
     },
     "execution_count": 328,
     "metadata": {},
     "output_type": "execute_result"
    }
   ],
   "source": [
    "np.diff(a)"
   ]
  },
  {
   "cell_type": "markdown",
   "id": "e841c1aa-68ae-41b9-b02d-d18492ddd098",
   "metadata": {
    "id": "e841c1aa-68ae-41b9-b02d-d18492ddd098"
   },
   "source": [
    "`-` 2차차분 "
   ]
  },
  {
   "cell_type": "code",
   "execution_count": null,
   "id": "ca0e8ee7-a3fd-4bb0-a071-70f264e96f74",
   "metadata": {
    "id": "ca0e8ee7-a3fd-4bb0-a071-70f264e96f74",
    "outputId": "ec0eeaa9-20e8-48f5-a83f-45253885f5eb"
   },
   "outputs": [
    {
     "data": {
      "text/plain": [
       "array([ 1,  0, -1])"
      ]
     },
     "execution_count": 331,
     "metadata": {},
     "output_type": "execute_result"
    }
   ],
   "source": [
    "np.diff(np.diff(a))"
   ]
  },
  {
   "cell_type": "markdown",
   "id": "1d1f9458-6b11-4eb2-bb09-b37cba566426",
   "metadata": {
    "id": "1d1f9458-6b11-4eb2-bb09-b37cba566426"
   },
   "source": [
    "`-` prepend, append "
   ]
  },
  {
   "cell_type": "code",
   "execution_count": null,
   "id": "124bbe15-7e0f-4a17-afa1-062d370a9225",
   "metadata": {
    "id": "124bbe15-7e0f-4a17-afa1-062d370a9225",
    "outputId": "075f0772-303b-4549-d99b-d696ac8e6360"
   },
   "outputs": [
    {
     "data": {
      "text/plain": [
       "array([1, 2, 4, 6, 7])"
      ]
     },
     "execution_count": 332,
     "metadata": {},
     "output_type": "execute_result"
    }
   ],
   "source": [
    "a=np.array([1,2,4,6,7])\n",
    "a"
   ]
  },
  {
   "cell_type": "code",
   "execution_count": null,
   "id": "279a6bfe-2ac4-44ac-9f21-866cacad0750",
   "metadata": {
    "id": "279a6bfe-2ac4-44ac-9f21-866cacad0750",
    "outputId": "a5374672-6b46-4578-f3eb-840ac9d6ad34"
   },
   "outputs": [
    {
     "data": {
      "text/plain": [
       "array([-99,   1,   2,   2,   1])"
      ]
     },
     "execution_count": 339,
     "metadata": {},
     "output_type": "execute_result"
    }
   ],
   "source": [
    "np.diff(a,prepend=100)\n",
    "#np.diff(np.array([100]+a.tolist()) )"
   ]
  },
  {
   "cell_type": "markdown",
   "id": "7a2a1a5b-88e1-41a8-8e44-818f9f5465b4",
   "metadata": {
    "id": "7a2a1a5b-88e1-41a8-8e44-818f9f5465b4"
   },
   "source": [
    "- [1,2,4,6,7] -> [100,1,2,3,4,6] -> np.diff "
   ]
  },
  {
   "cell_type": "code",
   "execution_count": null,
   "id": "f8b06675-97e6-4ed5-abac-20d3e0f3f54a",
   "metadata": {
    "id": "f8b06675-97e6-4ed5-abac-20d3e0f3f54a",
    "outputId": "3eef6b0d-f818-4d79-bd31-219ee37de020"
   },
   "outputs": [
    {
     "data": {
      "text/plain": [
       "array([ 1,  2,  2,  1, 93])"
      ]
     },
     "execution_count": 343,
     "metadata": {},
     "output_type": "execute_result"
    }
   ],
   "source": [
    "np.diff(a,append=100)\n",
    "#np.diff(np.array(a.tolist()+[100]) )"
   ]
  },
  {
   "cell_type": "markdown",
   "id": "1fe8d974-2823-4f38-a357-a5c478472ec0",
   "metadata": {
    "id": "1fe8d974-2823-4f38-a357-a5c478472ec0"
   },
   "source": [
    "(예제) a=[1,2,4,6,7]의 앞에 1을 추가하여 차분하라. "
   ]
  },
  {
   "cell_type": "code",
   "execution_count": null,
   "id": "ecb80844-adf9-415f-96d5-ff2c98490c32",
   "metadata": {
    "id": "ecb80844-adf9-415f-96d5-ff2c98490c32",
    "outputId": "19e74df0-526c-4c3a-c3fc-b0eb4701fe6b"
   },
   "outputs": [
    {
     "data": {
      "text/plain": [
       "array([0, 1, 2, 2, 1])"
      ]
     },
     "execution_count": 347,
     "metadata": {},
     "output_type": "execute_result"
    }
   ],
   "source": [
    "np.diff(a,prepend=a[0])\n",
    "#np.diff(a,prepend=1)"
   ]
  },
  {
   "cell_type": "markdown",
   "id": "37c80127-236d-43cb-bf49-6906930daa04",
   "metadata": {
    "id": "37c80127-236d-43cb-bf49-6906930daa04"
   },
   "source": [
    "(예제) a=[1,2,4,6,7]의 뒤에 7을 추가하여 차분하라. "
   ]
  },
  {
   "cell_type": "code",
   "execution_count": null,
   "id": "cf852951-0063-4e6d-a75b-d0ee8dc3d054",
   "metadata": {
    "id": "cf852951-0063-4e6d-a75b-d0ee8dc3d054",
    "outputId": "0272f4cc-02c5-449d-e28a-e25d32f858d2"
   },
   "outputs": [
    {
     "data": {
      "text/plain": [
       "array([1, 2, 2, 1, 0])"
      ]
     },
     "execution_count": 348,
     "metadata": {},
     "output_type": "execute_result"
    }
   ],
   "source": [
    "np.diff(a,append=a[-1])\n",
    "#np.diff(a,append=7)"
   ]
  },
  {
   "cell_type": "markdown",
   "id": "b285ab90-2c67-4511-b46b-7372723501e9",
   "metadata": {
    "id": "b285ab90-2c67-4511-b46b-7372723501e9"
   },
   "source": [
    "`-` 2차원 array의 차분 "
   ]
  },
  {
   "cell_type": "code",
   "execution_count": null,
   "id": "32f31b74-b9a0-4142-9f43-6f7990dcea33",
   "metadata": {
    "id": "32f31b74-b9a0-4142-9f43-6f7990dcea33",
    "outputId": "28a4ea44-1e6a-4c51-fec2-c129d1ff3d95"
   },
   "outputs": [
    {
     "data": {
      "text/plain": [
       "array([[ 0,  1,  2,  3,  4,  5],\n",
       "       [ 6,  7,  8,  9, 10, 11],\n",
       "       [12, 13, 14, 15, 16, 17],\n",
       "       [18, 19, 20, 21, 22, 23]])"
      ]
     },
     "execution_count": 367,
     "metadata": {},
     "output_type": "execute_result"
    }
   ],
   "source": [
    "a=np.arange(24).reshape(4,6)\n",
    "a"
   ]
  },
  {
   "cell_type": "code",
   "execution_count": null,
   "id": "53cbfd4a-6441-4ae2-8bcd-6b6b85132b5b",
   "metadata": {
    "id": "53cbfd4a-6441-4ae2-8bcd-6b6b85132b5b",
    "outputId": "56bdcf30-0abb-40db-d877-9b0d3c98ed0b"
   },
   "outputs": [
    {
     "data": {
      "text/plain": [
       "array([[6, 6, 6, 6, 6, 6],\n",
       "       [6, 6, 6, 6, 6, 6],\n",
       "       [6, 6, 6, 6, 6, 6]])"
      ]
     },
     "execution_count": 368,
     "metadata": {},
     "output_type": "execute_result"
    }
   ],
   "source": [
    "np.diff(a,axis=0) "
   ]
  },
  {
   "cell_type": "code",
   "execution_count": null,
   "id": "e45efaa0-c6c2-4998-b504-49df0fc6c85b",
   "metadata": {
    "id": "e45efaa0-c6c2-4998-b504-49df0fc6c85b",
    "outputId": "9f581222-b3fb-4a1f-ec1c-d08d36c85590"
   },
   "outputs": [
    {
     "data": {
      "text/plain": [
       "array([[1, 1, 1, 1, 1],\n",
       "       [1, 1, 1, 1, 1],\n",
       "       [1, 1, 1, 1, 1],\n",
       "       [1, 1, 1, 1, 1]])"
      ]
     },
     "execution_count": 369,
     "metadata": {},
     "output_type": "execute_result"
    }
   ],
   "source": [
    "np.diff(a,axis=1) "
   ]
  },
  {
   "cell_type": "markdown",
   "id": "0b92146a-7ab7-4469-b48e-cf4766caabdf",
   "metadata": {
    "id": "0b92146a-7ab7-4469-b48e-cf4766caabdf"
   },
   "source": [
    "(숙제) "
   ]
  },
  {
   "cell_type": "code",
   "execution_count": null,
   "id": "30c9a1e2-1b7f-47c7-9c70-75e258c53048",
   "metadata": {
    "id": "30c9a1e2-1b7f-47c7-9c70-75e258c53048",
    "outputId": "a71f3424-387e-4b60-ff97-31a85d755b45"
   },
   "outputs": [
    {
     "data": {
      "text/plain": [
       "array([[ 0,  1,  2,  3,  4,  5],\n",
       "       [ 6,  7,  8,  9, 10, 11],\n",
       "       [12, 13, 14, 15, 16, 17],\n",
       "       [18, 19, 20, 21, 22, 23]])"
      ]
     },
     "execution_count": 370,
     "metadata": {},
     "output_type": "execute_result"
    }
   ],
   "source": [
    "a=np.arange(24).reshape(4,6)\n",
    "a"
   ]
  },
  {
   "cell_type": "markdown",
   "id": "fff1c524-ca90-40bf-ac31-00b3308089dd",
   "metadata": {
    "id": "fff1c524-ca90-40bf-ac31-00b3308089dd"
   },
   "source": [
    "에서 axis=1 옵션으로 np.diff를 적용하여 (4,5) array를 만들고 왼쪽열에 1이 포함된 column을 추가하여 최종 결과가 아래와 같이 되도록 하라. \n",
    "\n",
    "```\n",
    "array([[1, 1, 1, 1, 1, 1],\n",
    "       [1, 1, 1, 1, 1, 1],\n",
    "       [1, 1, 1, 1, 1, 1],\n",
    "       [1, 1, 1, 1, 1, 1]])\n",
    "```"
   ]
  }
 ],
 "metadata": {
  "colab": {
   "provenance": [],
   "toc_visible": true
  },
  "kernelspec": {
   "display_name": "Python 3",
   "language": "python",
   "name": "python3"
  },
  "language_info": {
   "codemirror_mode": {
    "name": "ipython",
    "version": 3
   },
   "file_extension": ".py",
   "mimetype": "text/x-python",
   "name": "python",
   "nbconvert_exporter": "python",
   "pygments_lexer": "ipython3",
   "version": "3.7.16"
  }
 },
 "nbformat": 4,
 "nbformat_minor": 5
}
