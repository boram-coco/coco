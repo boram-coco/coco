{
 "cells": [
  {
   "cell_type": "raw",
   "id": "ed70fb7d-a164-4104-ae42-0abf6eea8a83",
   "metadata": {},
   "source": [
    "---\n",
    "title: \"파이썬 (0413) 7주차 \"\n",
    "author: \"김보람\"\n",
    "date: \"04/13/2022\"\n",
    "categories:\n",
    "  - numpy\n",
    "---"
   ]
  },
  {
   "cell_type": "code",
   "execution_count": 2,
   "id": "ab285960-da51-40a6-bb53-00d0d3e192c1",
   "metadata": {},
   "outputs": [],
   "source": [
    "import numpy as np"
   ]
  },
  {
   "cell_type": "markdown",
   "id": "b3472920-9a8a-495a-a0d2-e62cacf0f547",
   "metadata": {},
   "source": [
    "## numpy공부 5단계 : 랜덤모듈"
   ]
  },
  {
   "cell_type": "markdown",
   "id": "63439168-724f-4b9e-bfd6-8f110875f8d4",
   "metadata": {},
   "source": [
    "### np.random.rand()"
   ]
  },
  {
   "cell_type": "markdown",
   "id": "ff8daabf-c4e7-46a0-b9a0-ca2aa2fa1663",
   "metadata": {},
   "source": [
    "`-` 0~1사이에서 10개의 난수 생성"
   ]
  },
  {
   "cell_type": "code",
   "execution_count": 3,
   "id": "784c06fe-a861-45f6-b60b-179521dfdc70",
   "metadata": {},
   "outputs": [
    {
     "data": {
      "text/plain": [
       "array([0.30133684, 0.33047977, 0.37682904, 0.34945581, 0.88634262,\n",
       "       0.272207  , 0.75103749, 0.55871507, 0.12304257, 0.88020941])"
      ]
     },
     "execution_count": 3,
     "metadata": {},
     "output_type": "execute_result"
    }
   ],
   "source": [
    "np.random.rand(10)"
   ]
  },
  {
   "cell_type": "markdown",
   "id": "0dfdbfdd-4cc5-4b44-a8d6-13709bbafcf7",
   "metadata": {},
   "source": [
    "`-` 0~2사이에서 10개의 난수 생성"
   ]
  },
  {
   "cell_type": "code",
   "execution_count": 4,
   "id": "8046baf5-6eff-4105-8518-04396e08aab8",
   "metadata": {},
   "outputs": [
    {
     "data": {
      "text/plain": [
       "array([1.85950286, 0.90618509, 0.3153    , 0.47472741, 1.60545103,\n",
       "       1.07072774, 1.10650141, 0.77505785, 1.19933414, 1.76222208])"
      ]
     },
     "execution_count": 4,
     "metadata": {},
     "output_type": "execute_result"
    }
   ],
   "source": [
    "np.random.rand(10)*2"
   ]
  },
  {
   "cell_type": "markdown",
   "id": "15ea4d10-822a-42de-9776-67aaed5d1559",
   "metadata": {},
   "source": [
    "`-` 1~2사이에서 10개의 난수 생성"
   ]
  },
  {
   "cell_type": "code",
   "execution_count": 6,
   "id": "d0b85229-1557-4dbe-9308-31a496ba36a6",
   "metadata": {},
   "outputs": [
    {
     "data": {
      "text/plain": [
       "array([1.01747795, 1.52789889, 1.29223002, 1.53147587, 1.13455031,\n",
       "       1.51668185, 1.2430438 , 1.59676278, 1.8731811 , 1.36113831])"
      ]
     },
     "execution_count": 6,
     "metadata": {},
     "output_type": "execute_result"
    }
   ],
   "source": [
    "np.random.rand(10)+1"
   ]
  },
  {
   "cell_type": "markdown",
   "id": "bc8ab4b8-9cf6-4159-99f4-1845d6623f6b",
   "metadata": {},
   "source": [
    "`-` 1~3사이에서 10개의 난수 생성"
   ]
  },
  {
   "cell_type": "code",
   "execution_count": 8,
   "id": "175f798a-e0a1-4bf4-86a2-45426fbac56c",
   "metadata": {},
   "outputs": [
    {
     "data": {
      "text/plain": [
       "array([2.79324839, 2.37177079, 1.12638737, 1.71767497, 2.95057073,\n",
       "       1.23158048, 2.56688411, 2.94392262, 1.32675882, 2.29817471])"
      ]
     },
     "execution_count": 8,
     "metadata": {},
     "output_type": "execute_result"
    }
   ],
   "source": [
    "np.random.rand(10)*2+1    # 1~3"
   ]
  },
  {
   "cell_type": "markdown",
   "id": "954bc55c-cdd8-4cf8-a13d-e8b44d722b2d",
   "metadata": {},
   "source": [
    "### np.random.randn()"
   ]
  },
  {
   "cell_type": "markdown",
   "id": "eb116f8b-ee6a-4a3e-93b2-6dc9d4755472",
   "metadata": {},
   "source": [
    "`-` N(0,1) 에서 10개 추출"
   ]
  },
  {
   "cell_type": "code",
   "execution_count": 10,
   "id": "6b2a2651-7105-4955-8c7a-5aa1f0b4d084",
   "metadata": {},
   "outputs": [
    {
     "data": {
      "text/plain": [
       "array([ 1.895967  , -0.26215342,  0.87906492,  0.45616171,  1.66244424,\n",
       "        0.72458419,  0.31057676, -0.55909889,  0.47656554,  0.35143513])"
      ]
     },
     "execution_count": 10,
     "metadata": {},
     "output_type": "execute_result"
    }
   ],
   "source": [
    "np.random.randn(10) # 표준정규분포에서 10개의 샘플 추출"
   ]
  },
  {
   "cell_type": "markdown",
   "id": "a0d79cde-08e7-4390-9be0-1d14ea960032",
   "metadata": {},
   "source": [
    "`-` N(1,1)에서 10개 추출"
   ]
  },
  {
   "cell_type": "code",
   "execution_count": 11,
   "id": "77625585-9352-4666-ac81-2f8ba4e2d632",
   "metadata": {},
   "outputs": [
    {
     "data": {
      "text/plain": [
       "array([ 1.11007188, -0.44321876,  0.04904333, -0.10478302,  0.13301967,\n",
       "       -0.49468263,  1.7751611 , -0.84760291,  0.40840343,  0.638133  ])"
      ]
     },
     "execution_count": 11,
     "metadata": {},
     "output_type": "execute_result"
    }
   ],
   "source": [
    "np.random.randn(10)+1"
   ]
  },
  {
   "cell_type": "markdown",
   "id": "3e6ea144-f234-4368-858c-c4d0954b63a7",
   "metadata": {},
   "source": [
    "\n",
    "`-` N(0,4)에서 10개 추출 (평균이 0이고 분산이 4인 분포)"
   ]
  },
  {
   "cell_type": "code",
   "execution_count": 13,
   "id": "0d7ac935-6ebb-4112-b002-146110220a2a",
   "metadata": {},
   "outputs": [
    {
     "data": {
      "text/plain": [
       "array([-1.14364925,  2.60415043, -1.65488974, -0.59463897,  0.97607708,\n",
       "        2.33979589,  3.49290763, -1.50749403, -1.41447157,  0.45852112])"
      ]
     },
     "execution_count": 13,
     "metadata": {},
     "output_type": "execute_result"
    }
   ],
   "source": [
    "np.random.randn(10)*2"
   ]
  },
  {
   "cell_type": "markdown",
   "id": "896ddb17-2a0f-4786-8f9f-b1ee34f264cb",
   "metadata": {},
   "source": [
    "`-` N(3,4)에서 10개 추출"
   ]
  },
  {
   "cell_type": "code",
   "execution_count": 14,
   "id": "236efc10-6c00-47d3-a098-d880dd1bb984",
   "metadata": {},
   "outputs": [
    {
     "data": {
      "text/plain": [
       "array([ 4.736406  ,  2.35419865,  2.8265146 ,  0.26470966, -0.4240817 ,\n",
       "        1.00836216,  6.23531314,  3.75134991,  0.60427655, -0.13645246])"
      ]
     },
     "execution_count": 14,
     "metadata": {},
     "output_type": "execute_result"
    }
   ],
   "source": [
    "np.random.randn(10)*2+3"
   ]
  },
  {
   "cell_type": "markdown",
   "id": "92a24e00-1b57-4ab3-892a-40a82c879cc5",
   "metadata": {},
   "source": [
    "### np.random.randint()"
   ]
  },
  {
   "cell_type": "markdown",
   "id": "fd1d46df-387e-4582-bdc6-c9e8310142e8",
   "metadata": {},
   "source": [
    "`-` [0,7)의 범위에서 하나의 정수를 랜덤으로 생성"
   ]
  },
  {
   "cell_type": "code",
   "execution_count": 24,
   "id": "a25c7aca-7c07-4e86-a3c7-cf95ab78313b",
   "metadata": {},
   "outputs": [
    {
     "data": {
      "text/plain": [
       "3"
      ]
     },
     "execution_count": 24,
     "metadata": {},
     "output_type": "execute_result"
    }
   ],
   "source": [
    "np.random.randint(7)   #[0,7)의 범위에서 하나의 정수 생성"
   ]
  },
  {
   "cell_type": "markdown",
   "id": "d1066a50-e99b-4ac5-8b2c-cec2198e23c3",
   "metadata": {},
   "source": [
    "`-` [0,7)의 범위에서 20개의 정수를 랜덤으로 생성"
   ]
  },
  {
   "cell_type": "code",
   "execution_count": 25,
   "id": "070f58c3-1608-4a98-a6b8-00a7f5512277",
   "metadata": {},
   "outputs": [
    {
     "data": {
      "text/plain": [
       "array([2, 5, 5, 5, 2, 4, 3, 4, 1, 4, 1, 2, 3, 2, 4, 2, 2, 6, 1, 2])"
      ]
     },
     "execution_count": 25,
     "metadata": {},
     "output_type": "execute_result"
    }
   ],
   "source": [
    "np.random.randint(7,size=(20,))  # [0,7)의 범위에서 20개의 정수 생성"
   ]
  },
  {
   "cell_type": "markdown",
   "id": "917aaf5f-afc4-45f1-965b-edaacd64e77b",
   "metadata": {},
   "source": [
    "`-` [0,7)의 범우에서 (5,5) shape으로 정수를 랜덤으로 생성"
   ]
  },
  {
   "cell_type": "code",
   "execution_count": 29,
   "id": "3d6df460-1522-4b8a-aa29-254c5d58b922",
   "metadata": {},
   "outputs": [
    {
     "data": {
      "text/plain": [
       "array([[1, 6, 2, 5, 0],\n",
       "       [3, 3, 3, 1, 0],\n",
       "       [4, 0, 2, 5, 6],\n",
       "       [1, 0, 1, 2, 0],\n",
       "       [6, 6, 5, 1, 3]])"
      ]
     },
     "execution_count": 29,
     "metadata": {},
     "output_type": "execute_result"
    }
   ],
   "source": [
    "np.random.randint(7,size=(5,5))  "
   ]
  },
  {
   "cell_type": "markdown",
   "id": "7e3c3657-dc9e-4b11-8578-55178da147fd",
   "metadata": {},
   "source": [
    "`-` 위와 같은 코드를 아래와 같이 구현가능"
   ]
  },
  {
   "cell_type": "code",
   "execution_count": 27,
   "id": "758958de-6763-4be5-9646-1e04ea651192",
   "metadata": {},
   "outputs": [
    {
     "data": {
      "text/plain": [
       "array([[2, 4],\n",
       "       [6, 4]])"
      ]
     },
     "execution_count": 27,
     "metadata": {},
     "output_type": "execute_result"
    }
   ],
   "source": [
    "np.random.randint(low=7,size=(2,2))  # [0,7)의 범위에서 20개의 정수 생성"
   ]
  },
  {
   "cell_type": "markdown",
   "id": "640c5f61-b747-4bc4-ac51-c2afe2e88ea6",
   "metadata": {},
   "source": [
    "`-` [10,20)의 범위에서 (5,5) shape 정수를 랜덤으로 생성"
   ]
  },
  {
   "cell_type": "code",
   "execution_count": 28,
   "id": "b81e334a-4c86-48f7-b017-32e385bccd81",
   "metadata": {},
   "outputs": [
    {
     "data": {
      "text/plain": [
       "array([[14, 19, 17, 14, 17],\n",
       "       [16, 11, 14, 17, 16],\n",
       "       [12, 11, 18, 17, 14],\n",
       "       [11, 15, 14, 18, 11],\n",
       "       [13, 19, 10, 17, 14]])"
      ]
     },
     "execution_count": 28,
     "metadata": {},
     "output_type": "execute_result"
    }
   ],
   "source": [
    "np.random.randint(low=10, high=20,size=(5,5))  "
   ]
  },
  {
   "cell_type": "markdown",
   "id": "05d3eef3-8382-460c-9ae6-dcc878c471b4",
   "metadata": {},
   "source": [
    "`-` 의문: `np.random.randint(low=7,size=(5,5))` 가 좀 이상하다. 사실 `np.random.randint(high=7,size=(5,5))`가 되어야 맞지 않는가? \n",
    "\n",
    "-> 저도 그렇게 생각하긴 하는데요, 구현이 이렇게 되어있습니다. 도움말 확인!\n",
    "```\n",
    "Return random integers from the \"discrete uniform\" distribution of the specified dtype in the \"half-open\" interval [`low`, `high`). If `high` is None (the default), then results are from [0, `low`).\n",
    "```"
   ]
  },
  {
   "cell_type": "markdown",
   "id": "b8c638f7-1f66-4db0-8af7-06d827309a99",
   "metadata": {},
   "source": [
    "### np.random.choice()"
   ]
  },
  {
   "cell_type": "markdown",
   "id": "751912c7-fb97-4152-8939-4071add2209b",
   "metadata": {},
   "source": [
    "`-` ver1"
   ]
  },
  {
   "cell_type": "code",
   "execution_count": 33,
   "id": "2176d5c6-1e34-4b17-b61d-ce293b814830",
   "metadata": {},
   "outputs": [
    {
     "data": {
      "text/plain": [
       "array([3, 2, 0, 3, 3, 3, 0, 0, 2, 2, 0, 0, 0, 1, 3, 1, 3, 2, 0, 0])"
      ]
     },
     "execution_count": 33,
     "metadata": {},
     "output_type": "execute_result"
    }
   ],
   "source": [
    "np.random.choice(5,20)  # [0,5)에서 20개를 뽑음, 중복허용"
   ]
  },
  {
   "cell_type": "code",
   "execution_count": 32,
   "id": "e64ae587-13f2-47dd-900a-fd1990495ebb",
   "metadata": {},
   "outputs": [
    {
     "data": {
      "text/plain": [
       "array([3, 2, 2, 3, 4, 1, 0, 1, 4, 1, 3, 2, 2, 2, 4, 3, 2, 4, 2, 3])"
      ]
     },
     "execution_count": 32,
     "metadata": {},
     "output_type": "execute_result"
    }
   ],
   "source": [
    "np.random.randint(5, size=(20,))"
   ]
  },
  {
   "cell_type": "markdown",
   "id": "fc0f6377-0ffa-40b2-8f2c-6089efa062c6",
   "metadata": {},
   "source": [
    "`-` ver2"
   ]
  },
  {
   "cell_type": "code",
   "execution_count": 36,
   "id": "82db642a-a97c-44d1-90d1-579dd827d50a",
   "metadata": {},
   "outputs": [
    {
     "data": {
      "text/plain": [
       "array([2, 0, 1, 3, 1, 1, 2, 2, 1, 2, 0, 1, 1, 0, 1, 0, 2, 3, 3, 1])"
      ]
     },
     "execution_count": 36,
     "metadata": {},
     "output_type": "execute_result"
    }
   ],
   "source": [
    "np.random.choice([0,1,2,3],20) # [0,1,2,3] 에서 20개를 뽑음 , 중복허용"
   ]
  },
  {
   "cell_type": "code",
   "execution_count": 37,
   "id": "4cccfcab-4242-47d6-ae6d-5559fa0d6e0b",
   "metadata": {},
   "outputs": [
    {
     "data": {
      "text/plain": [
       "array(['orange', 'banana', 'banana', 'orange', 'banana', 'orange',\n",
       "       'banana', 'orange', 'apple', 'orange', 'orange', 'apple', 'apple',\n",
       "       'orange', 'apple', 'apple', 'orange', 'orange', 'apple', 'apple'],\n",
       "      dtype='<U6')"
      ]
     },
     "execution_count": 37,
     "metadata": {},
     "output_type": "execute_result"
    }
   ],
   "source": [
    "np.random.choice([\"apple\",\"orange\",\"banana\"],20)"
   ]
  },
  {
   "cell_type": "code",
   "execution_count": 38,
   "id": "7cd3ea57-a049-4998-8170-dd0b31cccb53",
   "metadata": {},
   "outputs": [
    {
     "data": {
      "text/plain": [
       "array(['apple', 'orange'], dtype='<U6')"
      ]
     },
     "execution_count": 38,
     "metadata": {},
     "output_type": "execute_result"
    }
   ],
   "source": [
    "np.random.choice([\"apple\",\"orange\",\"banana\"],2,replace=False) # 중복허용 X "
   ]
  },
  {
   "cell_type": "markdown",
   "id": "800042b9-1a7b-4e20-83df-3aed24b595bf",
   "metadata": {},
   "source": [
    "### 통계분포"
   ]
  },
  {
   "cell_type": "code",
   "execution_count": 40,
   "id": "34e429b3-6bf8-406e-955b-785d444768cf",
   "metadata": {},
   "outputs": [
    {
     "data": {
      "text/plain": [
       "array([1, 0, 2, 0, 2])"
      ]
     },
     "execution_count": 40,
     "metadata": {},
     "output_type": "execute_result"
    }
   ],
   "source": [
    "np.random.binomial(n=10, p=0.1, size=(5,)) #X1, ..., X5 ~ B(10,0.2)"
   ]
  },
  {
   "cell_type": "code",
   "execution_count": 41,
   "id": "257fcfd3-38a8-4779-aaba-dd6a62d3b89d",
   "metadata": {},
   "outputs": [
    {
     "data": {
      "text/plain": [
       "array([8.5617943 , 8.9716337 , 7.90650741, 6.59782362, 7.90620931])"
      ]
     },
     "execution_count": 41,
     "metadata": {},
     "output_type": "execute_result"
    }
   ],
   "source": [
    "np.random.normal(loc=10,scale=2,size=(5,)) # X1, ..., X5 ~ N(10,4) "
   ]
  },
  {
   "cell_type": "markdown",
   "id": "06e2c6e1-c88c-4ad6-a314-3a663ac87520",
   "metadata": {},
   "source": [
    "- `np.radom.randn(5)*2 + 10 `와 같은코드"
   ]
  },
  {
   "cell_type": "code",
   "execution_count": 42,
   "id": "49fd8a1c-4da7-49dc-99a2-2cd2978f5b86",
   "metadata": {},
   "outputs": [
    {
     "data": {
      "text/plain": [
       "array([2.49501161, 3.10469251, 3.89920656, 2.33160764, 2.28406983])"
      ]
     },
     "execution_count": 42,
     "metadata": {},
     "output_type": "execute_result"
    }
   ],
   "source": [
    "np.random.uniform(low=2,high=4,size=(5,)) # X1, ..., X5 ~ U(2,4)  #균일분포"
   ]
  },
  {
   "cell_type": "markdown",
   "id": "ca8fd4b4-8be6-47f9-9704-e02dacbe10d2",
   "metadata": {},
   "source": [
    "- `np.random.rand(5)*2+2 `와 같은 코드 "
   ]
  },
  {
   "cell_type": "code",
   "execution_count": 43,
   "id": "c9479a6c-3989-4af5-a8e3-276c2750723d",
   "metadata": {},
   "outputs": [
    {
     "data": {
      "text/plain": [
       "array([5, 5, 7, 4, 6])"
      ]
     },
     "execution_count": 43,
     "metadata": {},
     "output_type": "execute_result"
    }
   ],
   "source": [
    "np.random.poisson(lam=5,size=(5,)) # X1,...,X5 ~ Poi(5) "
   ]
  },
  {
   "cell_type": "markdown",
   "id": "3b300982-eac2-4a0b-b703-1a7f697e382c",
   "metadata": {},
   "source": [
    "## nupmy공부 6단계: 기타 유용한 기본기능들"
   ]
  },
  {
   "cell_type": "markdown",
   "id": "91f1e1ec-0152-4f6c-9b50-da4b5b348fc2",
   "metadata": {},
   "source": [
    "### np.where, np.argwhere"
   ]
  },
  {
   "cell_type": "code",
   "execution_count": 44,
   "id": "7463b2a4-ab76-4ec1-acd1-a850e9d18113",
   "metadata": {},
   "outputs": [
    {
     "data": {
      "text/plain": [
       "array([0, 0, 0, 1, 0])"
      ]
     },
     "execution_count": 44,
     "metadata": {},
     "output_type": "execute_result"
    }
   ],
   "source": [
    "a=np.array([0,0,0,1,0])\n",
    "a"
   ]
  },
  {
   "cell_type": "code",
   "execution_count": 45,
   "id": "0b5935eb-856e-4384-b7f1-6a91df8c4200",
   "metadata": {},
   "outputs": [
    {
     "data": {
      "text/plain": [
       "(array([3], dtype=int64),)"
      ]
     },
     "execution_count": 45,
     "metadata": {},
     "output_type": "execute_result"
    }
   ],
   "source": [
    "np.where(a==1) # 조건 a==1을 만족하는 인덱스를 출력하라"
   ]
  },
  {
   "cell_type": "code",
   "execution_count": 46,
   "id": "583ff609-095f-4c65-8a54-61e8edef10e8",
   "metadata": {},
   "outputs": [
    {
     "data": {
      "text/plain": [
       "array([[3]], dtype=int64)"
      ]
     },
     "execution_count": 46,
     "metadata": {},
     "output_type": "execute_result"
    }
   ],
   "source": [
    "np.argwhere(a==1)"
   ]
  },
  {
   "cell_type": "code",
   "execution_count": 47,
   "id": "60dee7fc-db2c-43d7-8adc-9d68ddb11212",
   "metadata": {},
   "outputs": [
    {
     "data": {
      "text/plain": [
       "array([[0],\n",
       "       [1],\n",
       "       [2],\n",
       "       [4]], dtype=int64)"
      ]
     },
     "execution_count": 47,
     "metadata": {},
     "output_type": "execute_result"
    }
   ],
   "source": [
    "np.argwhere(a==0)"
   ]
  },
  {
   "cell_type": "markdown",
   "id": "5a854d38-6ee0-4585-afee-779f014221d0",
   "metadata": {},
   "source": [
    "`-` 2차원"
   ]
  },
  {
   "cell_type": "code",
   "execution_count": 51,
   "id": "00bb08c0-c27f-41b7-a653-32ef47abc1c4",
   "metadata": {},
   "outputs": [
    {
     "data": {
      "text/plain": [
       "array([[ 0.38342049,  1.0841745 ,  1.14277825,  0.30789368],\n",
       "       [ 0.23778744,  0.35595116, -1.66307542, -1.38277318],\n",
       "       [-1.92684484, -1.4862163 ,  0.00692519, -0.03488725]])"
      ]
     },
     "execution_count": 51,
     "metadata": {},
     "output_type": "execute_result"
    }
   ],
   "source": [
    "np.random.seed(43052)\n",
    "a=np.random.randn(12).reshape(3,4)\n",
    "a"
   ]
  },
  {
   "cell_type": "code",
   "execution_count": 53,
   "id": "ee0fc9e1-8721-489d-b950-92554247cd6c",
   "metadata": {},
   "outputs": [
    {
     "data": {
      "text/plain": [
       "(array([1, 1, 2, 2, 2], dtype=int64), array([2, 3, 0, 1, 3], dtype=int64))"
      ]
     },
     "execution_count": 53,
     "metadata": {},
     "output_type": "execute_result"
    }
   ],
   "source": [
    "np.where(a<0) # 조건을 만족하는 인덱스가 (1,2), (1,3), (2,0), (2,1), (2,3) 이라는 의미"
   ]
  },
  {
   "cell_type": "code",
   "execution_count": 55,
   "id": "4e84522a-9bf3-4fd3-ab04-de81c221a6d5",
   "metadata": {},
   "outputs": [
    {
     "data": {
      "text/plain": [
       "array([[1, 2],\n",
       "       [1, 3],\n",
       "       [2, 0],\n",
       "       [2, 1],\n",
       "       [2, 3]], dtype=int64)"
      ]
     },
     "execution_count": 55,
     "metadata": {},
     "output_type": "execute_result"
    }
   ],
   "source": [
    "np.argwhere(a<0)  # 조건을 만족하는 인덱스가 (1,2), (1,3), (2,0), (2,1), (2,3) 이라는 의미"
   ]
  },
  {
   "cell_type": "code",
   "execution_count": 58,
   "id": "287bb219-f935-4691-a96c-c9e15a515597",
   "metadata": {},
   "outputs": [
    {
     "data": {
      "text/plain": [
       "array([-1.66307542, -1.38277318, -1.92684484, -1.4862163 , -0.03488725])"
      ]
     },
     "execution_count": 58,
     "metadata": {},
     "output_type": "execute_result"
    }
   ],
   "source": [
    "a[np.where(a<0)]  # 조건을 만족하는 인덱스가 모두 출력=> 1차원 array로 출력"
   ]
  },
  {
   "cell_type": "code",
   "execution_count": 59,
   "id": "cf42331d-835f-4eff-8e53-34ffa7e7e4f3",
   "metadata": {},
   "outputs": [
    {
     "ename": "IndexError",
     "evalue": "index 3 is out of bounds for axis 0 with size 3",
     "output_type": "error",
     "traceback": [
      "\u001b[1;31m---------------------------------------------------------------------------\u001b[0m",
      "\u001b[1;31mIndexError\u001b[0m                                Traceback (most recent call last)",
      "Cell \u001b[1;32mIn[59], line 1\u001b[0m\n\u001b[1;32m----> 1\u001b[0m \u001b[43ma\u001b[49m\u001b[43m[\u001b[49m\u001b[43mnp\u001b[49m\u001b[38;5;241;43m.\u001b[39;49m\u001b[43margwhere\u001b[49m\u001b[43m(\u001b[49m\u001b[43ma\u001b[49m\u001b[38;5;241;43m<\u001b[39;49m\u001b[38;5;241;43m0\u001b[39;49m\u001b[43m)\u001b[49m\u001b[43m]\u001b[49m  \u001b[38;5;66;03m# 출력불가능\u001b[39;00m\n",
      "\u001b[1;31mIndexError\u001b[0m: index 3 is out of bounds for axis 0 with size 3"
     ]
    }
   ],
   "source": [
    "a[np.argwhere(a<0)]  # 출력불가능"
   ]
  },
  {
   "cell_type": "code",
   "execution_count": 60,
   "id": "40824947-89c0-4d97-9942-55e1c8ae363b",
   "metadata": {},
   "outputs": [
    {
     "data": {
      "text/plain": [
       "-1.6630754187023522"
      ]
     },
     "execution_count": 60,
     "metadata": {},
     "output_type": "execute_result"
    }
   ],
   "source": [
    "a[np.argwhere(a<0)[0][0],np.argwhere(a<0)[0][1]] # 어거지로 출력할수는 있음 "
   ]
  },
  {
   "cell_type": "markdown",
   "id": "9726df04-888c-48aa-94dc-81821c0da41c",
   "metadata": {},
   "source": [
    "`-` np.where의 특수기능"
   ]
  },
  {
   "cell_type": "code",
   "execution_count": 61,
   "id": "bd433616-e52e-42de-837d-87767ab5bd5f",
   "metadata": {},
   "outputs": [
    {
     "data": {
      "text/plain": [
       "array([[ 0.38342049,  1.0841745 ,  1.14277825,  0.30789368],\n",
       "       [ 0.23778744,  0.35595116, -1.66307542, -1.38277318],\n",
       "       [-1.92684484, -1.4862163 ,  0.00692519, -0.03488725]])"
      ]
     },
     "execution_count": 61,
     "metadata": {},
     "output_type": "execute_result"
    }
   ],
   "source": [
    "np.random.seed(43052)\n",
    "a=np.random.randn(12).reshape(3,4)\n",
    "a"
   ]
  },
  {
   "cell_type": "code",
   "execution_count": 63,
   "id": "cf74d872-8a6b-4937-a9e4-cafe7f79b092",
   "metadata": {},
   "outputs": [
    {
     "data": {
      "text/plain": [
       "array([[0.38342049, 1.0841745 , 1.14277825, 0.30789368],\n",
       "       [0.23778744, 0.35595116, 0.        , 0.        ],\n",
       "       [0.        , 0.        , 0.00692519, 0.        ]])"
      ]
     },
     "execution_count": 63,
     "metadata": {},
     "output_type": "execute_result"
    }
   ],
   "source": [
    "np.where(a<0,0,a)   #a<0을 체크=> 조건에 맞으면 0, 조건에 안맞으면 a 출력"
   ]
  },
  {
   "cell_type": "code",
   "execution_count": 65,
   "id": "c4abe000-cf8b-4842-9522-d5ac2604fb77",
   "metadata": {},
   "outputs": [
    {
     "data": {
      "text/plain": [
       "array([[1, 1, 1, 1],\n",
       "       [1, 1, 0, 0],\n",
       "       [0, 0, 1, 0]])"
      ]
     },
     "execution_count": 65,
     "metadata": {},
     "output_type": "execute_result"
    }
   ],
   "source": [
    "np.where(a<0,0,1) # #a<0을 체크=> 조건에 맞으면 0, 조건에 안맞으면 1 출력"
   ]
  },
  {
   "cell_type": "markdown",
   "id": "7eb24828-267c-4261-a44a-db9d5a9ebc77",
   "metadata": {},
   "source": [
    "`-` 요약\n",
    "- np.where : 인덱스의 좌표를 읽는 가독성은 떨어짐. 그러나 조건에 맞는 원소를 출력하거나 조건에 맞는 특수기능을 처리하는 목적으로 좋은 함수\n",
    "- np.argwhere : 인덱스의 좌표를 읽는 가독성은 좋은 편임. 그러나 조건에 맞는 원소를 출력하거나 처리하는 기능은 떨어짐"
   ]
  },
  {
   "cell_type": "markdown",
   "id": "2c10233c-61e7-46b2-9552-0d28e396f650",
   "metadata": {},
   "source": [
    "### 인덱싱고급"
   ]
  },
  {
   "cell_type": "markdown",
   "id": "c87f1096-6135-4e2c-a942-76614c299f65",
   "metadata": {},
   "source": [
    "`-` 원래 a는 2d array"
   ]
  },
  {
   "cell_type": "code",
   "execution_count": 66,
   "id": "c241d534-022d-46f0-8ee1-c344f00e6f28",
   "metadata": {},
   "outputs": [
    {
     "data": {
      "text/plain": [
       "array([[ 0,  1,  2,  3],\n",
       "       [ 4,  5,  6,  7],\n",
       "       [ 8,  9, 10, 11]])"
      ]
     },
     "execution_count": 66,
     "metadata": {},
     "output_type": "execute_result"
    }
   ],
   "source": [
    "a=np.arange(12).reshape(3,4)\n",
    "a"
   ]
  },
  {
   "cell_type": "markdown",
   "id": "20d52c39-8035-4c76-b688-a0cd1f8dd661",
   "metadata": {},
   "source": [
    "`-` 경우 1: 인덱싱 결과가 1d array로 나올 수 있음"
   ]
  },
  {
   "cell_type": "code",
   "execution_count": 68,
   "id": "2bf1fbef-6e7b-46d1-b3c8-a439ab63e4ab",
   "metadata": {},
   "outputs": [
    {
     "data": {
      "text/plain": [
       "array([0, 1, 2, 3])"
      ]
     },
     "execution_count": 68,
     "metadata": {},
     "output_type": "execute_result"
    }
   ],
   "source": [
    "a[0,:] # 인덱싱의 결과 축의 갯수가 바뀐다. 2d array -> 1d array"
   ]
  },
  {
   "cell_type": "markdown",
   "id": "949e5ea0-78cb-4e7a-aa4f-e53099bf89c6",
   "metadata": {},
   "source": [
    "`-` 경우2: 인덱싱 결과가 2d array로 나올 수 있음"
   ]
  },
  {
   "cell_type": "code",
   "execution_count": 74,
   "id": "d105d9af-dbbb-441f-a99d-4d5fda90a8be",
   "metadata": {},
   "outputs": [
    {
     "data": {
      "text/plain": [
       "array([[0, 1, 2, 3],\n",
       "       [4, 5, 6, 7]])"
      ]
     },
     "execution_count": 74,
     "metadata": {},
     "output_type": "execute_result"
    }
   ],
   "source": [
    "a[[0,1],:] # 이것은 축의 숫자가 유지됨 2d array-> 2d array"
   ]
  },
  {
   "cell_type": "markdown",
   "id": "1505ddbd-e000-43a7-9bcc-eb89b9e8c6be",
   "metadata": {},
   "source": [
    "`-` 경우1의 상황에서도 축의 갯수를 유지하면서 인덱싱하려면?"
   ]
  },
  {
   "cell_type": "code",
   "execution_count": 71,
   "id": "045bf872-027c-4754-8bee-2f811ade6545",
   "metadata": {},
   "outputs": [
    {
     "data": {
      "text/plain": [
       "array([[0, 1, 2, 3]])"
      ]
     },
     "execution_count": 71,
     "metadata": {},
     "output_type": "execute_result"
    }
   ],
   "source": [
    "a[[0],:] # 인덱싱의 결과 축의 갯수가 유지된다. 2d array->2d array"
   ]
  },
  {
   "cell_type": "markdown",
   "id": "5c031fbc-042f-4d54-a1cc-10293dd8e7db",
   "metadata": {},
   "source": [
    "`-` 미묘한 차이를 이해할 것"
   ]
  },
  {
   "cell_type": "code",
   "execution_count": 78,
   "id": "ae5cc829-0aaf-40bc-bad9-bf6ada657180",
   "metadata": {},
   "outputs": [
    {
     "data": {
      "text/plain": [
       "(array([0, 4, 8]),\n",
       " array([[0],\n",
       "        [4],\n",
       "        [8]]))"
      ]
     },
     "execution_count": 78,
     "metadata": {},
     "output_type": "execute_result"
    }
   ],
   "source": [
    "a[:,0], a[:,[0]]"
   ]
  },
  {
   "cell_type": "markdown",
   "id": "e2ae47d8-42e0-43ec-9547-089dc79e52c5",
   "metadata": {},
   "source": [
    "### np.ix_"
   ]
  },
  {
   "cell_type": "markdown",
   "id": "4ed91dc4-abb1-427f-be51-17da18261b36",
   "metadata": {},
   "source": [
    "\n",
    "`-` 아래의 인덱싱을 비교하자"
   ]
  },
  {
   "cell_type": "code",
   "execution_count": 80,
   "id": "1be7df27-96b7-4da4-af15-5f937eb80c8c",
   "metadata": {},
   "outputs": [
    {
     "data": {
      "text/plain": [
       "array([[ 0,  1,  2,  3],\n",
       "       [ 4,  5,  6,  7],\n",
       "       [ 8,  9, 10, 11]])"
      ]
     },
     "execution_count": 80,
     "metadata": {},
     "output_type": "execute_result"
    }
   ],
   "source": [
    "a=np.arange(12).reshape(3,4)\n",
    "a"
   ]
  },
  {
   "cell_type": "code",
   "execution_count": 81,
   "id": "ebd7cba4-bf5c-48e0-9428-6f9e50532330",
   "metadata": {},
   "outputs": [
    {
     "data": {
      "text/plain": [
       "array([[0, 1],\n",
       "       [4, 5]])"
      ]
     },
     "execution_count": 81,
     "metadata": {},
     "output_type": "execute_result"
    }
   ],
   "source": [
    "a[0:2,0:2]"
   ]
  },
  {
   "cell_type": "code",
   "execution_count": 82,
   "id": "4a5ccfaa-8a6d-470b-b78b-ba8f844e005a",
   "metadata": {},
   "outputs": [
    {
     "data": {
      "text/plain": [
       "array([[0, 1],\n",
       "       [4, 5]])"
      ]
     },
     "execution_count": 82,
     "metadata": {},
     "output_type": "execute_result"
    }
   ],
   "source": [
    "a[[0,1],0:2]"
   ]
  },
  {
   "cell_type": "code",
   "execution_count": 83,
   "id": "f98e13fd-1f1f-403f-b277-f00910377ab0",
   "metadata": {},
   "outputs": [
    {
     "data": {
      "text/plain": [
       "array([[0, 1],\n",
       "       [4, 5]])"
      ]
     },
     "execution_count": 83,
     "metadata": {},
     "output_type": "execute_result"
    }
   ],
   "source": [
    "a[0:2,[0,1]]"
   ]
  },
  {
   "cell_type": "markdown",
   "id": "90012436-9a50-4bf7-b6aa-b04e48c62458",
   "metadata": {},
   "source": [
    "`-` 언뜻 생각하면 위의 결과와 a[[0,1],[0,1]의 결과가 동일할 것 같다."
   ]
  },
  {
   "cell_type": "code",
   "execution_count": 84,
   "id": "198edc51-3eea-4bc1-bb9f-efd1dec3fd08",
   "metadata": {},
   "outputs": [
    {
     "data": {
      "text/plain": [
       "array([0, 5])"
      ]
     },
     "execution_count": 84,
     "metadata": {},
     "output_type": "execute_result"
    }
   ],
   "source": [
    "a[[0,1],[0,1]]"
   ]
  },
  {
   "cell_type": "markdown",
   "id": "7a46b0ca-b2b7-40d9-b17e-5ed0bcbd48e4",
   "metadata": {},
   "source": [
    "- 실제로는 [a[0,0],a[1,1]]이 array로 나옴"
   ]
  },
  {
   "cell_type": "markdown",
   "id": "abdf2539-1fb5-479b-bda9-e99157bc1a37",
   "metadata": {},
   "source": [
    "`-` 사실 np.where에서 이미 관찰하였음"
   ]
  },
  {
   "cell_type": "code",
   "execution_count": 85,
   "id": "d41908f3-1717-475d-8a3d-93c56b1f6ea3",
   "metadata": {},
   "outputs": [
    {
     "data": {
      "text/plain": [
       "array([[ 0,  1,  2,  3],\n",
       "       [ 4,  5,  6,  7],\n",
       "       [ 8,  9, 10, 11]])"
      ]
     },
     "execution_count": 85,
     "metadata": {},
     "output_type": "execute_result"
    }
   ],
   "source": [
    "a"
   ]
  },
  {
   "cell_type": "code",
   "execution_count": 86,
   "id": "8c56aefb-13c7-4663-9711-4caba76cf2ea",
   "metadata": {},
   "outputs": [
    {
     "data": {
      "text/plain": [
       "(array([0, 1, 2], dtype=int64), array([0, 1, 2], dtype=int64))"
      ]
     },
     "execution_count": 86,
     "metadata": {},
     "output_type": "execute_result"
    }
   ],
   "source": [
    "np.where(a % 5 ==0)"
   ]
  },
  {
   "cell_type": "code",
   "execution_count": 87,
   "id": "c7f20563-2ca5-4ffb-8bf2-3d9bb267c76a",
   "metadata": {},
   "outputs": [
    {
     "data": {
      "text/plain": [
       "array([ 0,  5, 10])"
      ]
     },
     "execution_count": 87,
     "metadata": {},
     "output_type": "execute_result"
    }
   ],
   "source": [
    "a[np.where(a % 5 ==0)]"
   ]
  },
  {
   "cell_type": "code",
   "execution_count": 88,
   "id": "32321855-22df-4f31-aa4e-8b8cb0a059bd",
   "metadata": {},
   "outputs": [
    {
     "data": {
      "text/plain": [
       "array([ 0,  5, 10])"
      ]
     },
     "execution_count": 88,
     "metadata": {},
     "output_type": "execute_result"
    }
   ],
   "source": [
    "a[[0, 1, 2],[0, 1, 2]]"
   ]
  },
  {
   "cell_type": "markdown",
   "id": "02042c76-859a-4673-9780-430e658df85b",
   "metadata": {},
   "source": [
    "`-` a[[0,1],[0,1]]이 a[0:2,0:2]를 의미하게 하려면 아래와 같이 하면 된다. "
   ]
  },
  {
   "cell_type": "code",
   "execution_count": 89,
   "id": "ddbde004-9345-4d04-9069-4780cda5b216",
   "metadata": {},
   "outputs": [
    {
     "data": {
      "text/plain": [
       "array([[0, 1],\n",
       "       [4, 5]])"
      ]
     },
     "execution_count": 89,
     "metadata": {},
     "output_type": "execute_result"
    }
   ],
   "source": [
    "a[np.ix_([0,1],[0,1])] # 유용해보이지만 생각보다 잘 쓰이는건 아님 "
   ]
  },
  {
   "cell_type": "markdown",
   "id": "2db5bedc-7f55-4260-8c4b-27626fc90c50",
   "metadata": {},
   "source": [
    "(숙제) "
   ]
  },
  {
   "cell_type": "code",
   "execution_count": 90,
   "id": "b086610b-d7a9-4608-b108-2d4f7c9d63c7",
   "metadata": {},
   "outputs": [
    {
     "data": {
      "text/plain": [
       "array([1.65411132, 1.42531485, 1.54567744, 1.44735207, 1.33217747,\n",
       "       1.48856969, 1.47329978, 1.38976795, 1.30469965, 1.66634909])"
      ]
     },
     "execution_count": 90,
     "metadata": {},
     "output_type": "execute_result"
    }
   ],
   "source": [
    "np.random.uniform(low=1.3,high=1.7,size=(10,))"
   ]
  },
  {
   "cell_type": "markdown",
   "id": "e893fead-c148-4002-8d05-57716aa7cdae",
   "metadata": {},
   "source": [
    "위와 같은코드를 np.random.rand()를 이용하여 구현하라. "
   ]
  },
  {
   "cell_type": "code",
   "execution_count": null,
   "id": "bc810079-9a42-45e0-908b-d2104141fbbc",
   "metadata": {},
   "outputs": [],
   "source": []
  }
 ],
 "metadata": {
  "kernelspec": {
   "display_name": "Python 3",
   "language": "python",
   "name": "python3"
  },
  "language_info": {
   "codemirror_mode": {
    "name": "ipython",
    "version": 3
   },
   "file_extension": ".py",
   "mimetype": "text/x-python",
   "name": "python",
   "nbconvert_exporter": "python",
   "pygments_lexer": "ipython3",
   "version": "3.7.16"
  }
 },
 "nbformat": 4,
 "nbformat_minor": 5
}
