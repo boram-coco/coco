{
 "cells": [
  {
   "cell_type": "raw",
   "id": "800d7cd9-4d48-4dd1-af2f-494cc2f91f9c",
   "metadata": {},
   "source": [
    "---\n",
    "title: \"[STBDA2023] 02wk-003: 타이타닉, 첫 제출\"\n",
    "author: \"김보람\"\n",
    "date: \"09/17/2023\"\n",
    "---"
   ]
  },
  {
   "cell_type": "markdown",
   "id": "163a6ca9-afa2-4d05-9ffc-80f34c6967e8",
   "metadata": {},
   "source": [
    "> 해당 자료는 전북대학교 최규빈 교수님 2023학년도 2학기 [빅데이터분석특강](https://guebin.github.io/STBDA2023/) 자료임"
   ]
  },
  {
   "cell_type": "markdown",
   "id": "fbdd0331-fbe6-4fb9-b453-e508a70e5dbd",
   "metadata": {},
   "source": [
    "\n",
    "\n",
    "# 2. 제출방법\n",
    "\n",
    "`-` 제출: Submit Predictions\n",
    "\n",
    "`-` 결과확인: Leaderboard\n",
    "\n",
    "# 3. 결과확인\n",
    "\n",
    "## A. test – 답을 모름, 제출해야 알 수 있음\n",
    "\n",
    "`-` 제출결과는 리더보드에서 확인할 수 있음.\n",
    "\n",
    "## B. train – 스스로 풀어보고 채점할 수 있음\n",
    "\n",
    "`-` 캐글에서 code $\\to$ New Notebook 클릭\n",
    "\n",
    "``` python\n",
    "# This Python 3 environment comes with many helpful analytics libraries installed\n",
    "# It is defined by the kaggle/python Docker image: https://github.com/kaggle/docker-python\n",
    "# For example, here's several helpful packages to load\n",
    "\n",
    "import numpy as np # linear algebra\n",
    "import pandas as pd # data processing, CSV file I/O (e.g. pd.read_csv)\n",
    "\n",
    "# Input data files are available in the read-only \"../input/\" directory\n",
    "# For example, running this (by clicking run or pressing Shift+Enter) will list all files under the input directory\n",
    "\n",
    "import os\n",
    "for dirname, _, filenames in os.walk('/kaggle/input'):\n",
    "    for filename in filenames:\n",
    "        print(os.path.join(dirname, filename))\n",
    "\n",
    "# You can write up to 20GB to the current directory (/kaggle/working/) that gets preserved as output when you create a version using \"Save & Run All\" \n",
    "# You can also write temporary files to /kaggle/temp/, but they won't be saved outside of the current session\n",
    "```\n",
    "\n",
    "    /kaggle/input/titanic/train.csv\n",
    "    /kaggle/input/titanic/test.csv\n",
    "    /kaggle/input/titanic/gender_submission.csv"
   ]
  },
  {
   "cell_type": "markdown",
   "id": "3900355f-321e-4133-9ed0-50c43615bb62",
   "metadata": {},
   "source": [
    "```\n",
    "tr=pd.read_csv(\"/kaggle/input/titanic/train.csv\")\n",
    "tst=pd.read_csv(\"/kaggle/input/titanic/test.csv\")\n",
    "```"
   ]
  },
  {
   "cell_type": "markdown",
   "id": "c94ffec3-dffb-4bfb-bde6-37f9a4b18dd2",
   "metadata": {},
   "source": [
    "`#` 예비학습 – accuracy의 계산"
   ]
  },
  {
   "cell_type": "code",
   "execution_count": 3,
   "id": "838b552c-5ec7-4cd3-8702-51b9625ed536",
   "metadata": {},
   "outputs": [],
   "source": [
    "import pandas as pd "
   ]
  },
  {
   "cell_type": "code",
   "execution_count": 4,
   "id": "4d2cee85-51bc-446a-8a03-644913818b62",
   "metadata": {},
   "outputs": [],
   "source": [
    "df = pd.DataFrame({'Surv':[1,0,1,1,0],'Sex':['f','m','f','m','m']})"
   ]
  },
  {
   "cell_type": "markdown",
   "id": "0781dcb2-1837-421c-b3da-df199464c970",
   "metadata": {},
   "source": [
    "`-` Surv 열의 선택"
   ]
  },
  {
   "cell_type": "code",
   "execution_count": 5,
   "id": "6536357c-2939-4f15-822a-e3e4bb9f0cda",
   "metadata": {},
   "outputs": [
    {
     "data": {
      "text/plain": [
       "0    1\n",
       "1    0\n",
       "2    1\n",
       "3    1\n",
       "4    0\n",
       "Name: Surv, dtype: int64"
      ]
     },
     "execution_count": 5,
     "metadata": {},
     "output_type": "execute_result"
    }
   ],
   "source": [
    "df.Surv"
   ]
  },
  {
   "cell_type": "markdown",
   "id": "cc3a857d-d64a-4da7-bb8a-2afa71150c3f",
   "metadata": {},
   "source": [
    "`-` Sex 열의 선택"
   ]
  },
  {
   "cell_type": "code",
   "execution_count": 6,
   "id": "9f72546b-14c7-4dbf-ac49-642dc103666a",
   "metadata": {},
   "outputs": [
    {
     "data": {
      "text/plain": [
       "0    f\n",
       "1    m\n",
       "2    f\n",
       "3    m\n",
       "4    m\n",
       "Name: Sex, dtype: object"
      ]
     },
     "execution_count": 6,
     "metadata": {},
     "output_type": "execute_result"
    }
   ],
   "source": [
    "df.Sex"
   ]
  },
  {
   "cell_type": "markdown",
   "id": "45c8eda9-57d6-453c-bf05-c6885cf530b8",
   "metadata": {},
   "source": [
    "`-` `Sex == f`이면 생존(1), 그렇지 않으면 사망(0)이라고 예측"
   ]
  },
  {
   "cell_type": "code",
   "execution_count": 7,
   "id": "8ca835df-a89e-4372-9b36-0d4ec6a18d04",
   "metadata": {},
   "outputs": [
    {
     "data": {
      "text/plain": [
       "0    1\n",
       "1    0\n",
       "2    1\n",
       "3    0\n",
       "4    0\n",
       "Name: Sex, dtype: int64"
      ]
     },
     "execution_count": 7,
     "metadata": {},
     "output_type": "execute_result"
    }
   ],
   "source": [
    "(df.Sex == 'f')*1"
   ]
  },
  {
   "cell_type": "markdown",
   "id": "f2e1e817-7c75-4721-8ec2-392d65631443",
   "metadata": {},
   "source": [
    "`-` 결과를 정리하면 아래와 같음"
   ]
  },
  {
   "cell_type": "code",
   "execution_count": 8,
   "id": "6b7f721d-454c-4be7-8a2f-35cafefa72e6",
   "metadata": {},
   "outputs": [
    {
     "data": {
      "text/html": [
       "<div>\n",
       "<style scoped>\n",
       "    .dataframe tbody tr th:only-of-type {\n",
       "        vertical-align: middle;\n",
       "    }\n",
       "\n",
       "    .dataframe tbody tr th {\n",
       "        vertical-align: top;\n",
       "    }\n",
       "\n",
       "    .dataframe thead th {\n",
       "        text-align: right;\n",
       "    }\n",
       "</style>\n",
       "<table border=\"1\" class=\"dataframe\">\n",
       "  <thead>\n",
       "    <tr style=\"text-align: right;\">\n",
       "      <th></th>\n",
       "      <th>real</th>\n",
       "      <th>estimate</th>\n",
       "    </tr>\n",
       "  </thead>\n",
       "  <tbody>\n",
       "    <tr>\n",
       "      <th>0</th>\n",
       "      <td>1</td>\n",
       "      <td>1</td>\n",
       "    </tr>\n",
       "    <tr>\n",
       "      <th>1</th>\n",
       "      <td>0</td>\n",
       "      <td>0</td>\n",
       "    </tr>\n",
       "    <tr>\n",
       "      <th>2</th>\n",
       "      <td>1</td>\n",
       "      <td>1</td>\n",
       "    </tr>\n",
       "    <tr>\n",
       "      <th>3</th>\n",
       "      <td>1</td>\n",
       "      <td>0</td>\n",
       "    </tr>\n",
       "    <tr>\n",
       "      <th>4</th>\n",
       "      <td>0</td>\n",
       "      <td>0</td>\n",
       "    </tr>\n",
       "  </tbody>\n",
       "</table>\n",
       "</div>"
      ],
      "text/plain": [
       "   real  estimate\n",
       "0     1         1\n",
       "1     0         0\n",
       "2     1         1\n",
       "3     1         0\n",
       "4     0         0"
      ]
     },
     "execution_count": 8,
     "metadata": {},
     "output_type": "execute_result"
    }
   ],
   "source": [
    "pd.DataFrame({'real': df.Surv, 'estimate': (df.Sex == 'f')*1})"
   ]
  },
  {
   "cell_type": "markdown",
   "id": "19657d84-ea06-4033-a84c-9f28e34b19c3",
   "metadata": {},
   "source": [
    "`-` accuracy를 손으로 계산하면 $\\frac{4}{5}=0.8$.\n",
    "\n",
    "`-` 컴퓨터로 accuracy를 계산한다면"
   ]
  },
  {
   "cell_type": "code",
   "execution_count": 9,
   "id": "c54e275e-6260-4e74-9b47-7c1f33ef4b66",
   "metadata": {},
   "outputs": [
    {
     "data": {
      "text/plain": [
       "0.8"
      ]
     },
     "execution_count": 9,
     "metadata": {},
     "output_type": "execute_result"
    }
   ],
   "source": [
    "(df.Surv == (df.Sex == 'f')*1).sum()/5 # 방법1"
   ]
  },
  {
   "cell_type": "code",
   "execution_count": 10,
   "id": "c888d597-ab06-4056-a5ef-4dbcee789563",
   "metadata": {},
   "outputs": [
    {
     "data": {
      "text/plain": [
       "0.8"
      ]
     },
     "execution_count": 10,
     "metadata": {},
     "output_type": "execute_result"
    }
   ],
   "source": [
    "(df.Surv == (df.Sex == 'f')*1).mean() # 방법2"
   ]
  },
  {
   "cell_type": "markdown",
   "id": "ced59da8-f02d-42fa-b632-418f8b53474d",
   "metadata": {},
   "source": [
    "`#`\n",
    "\n",
    "`-` 실제자료의 accuracy를 구해보자."
   ]
  },
  {
   "cell_type": "code",
   "execution_count": 35,
   "id": "7b6eee3f-d94c-4912-bef1-4ca0db980cf1",
   "metadata": {},
   "outputs": [],
   "source": [
    "tr = pd.read_csv('./titanic/train.csv')"
   ]
  },
  {
   "cell_type": "code",
   "execution_count": 36,
   "id": "712c3e52-fb01-4a19-8a61-a18965e551c7",
   "metadata": {},
   "outputs": [],
   "source": [
    "(tr.Survived == (tr.Sex == 'female')).mean()"
   ]
  },
  {
   "cell_type": "markdown",
   "id": "d0f17336-c7ed-4c29-b667-abe006e61359",
   "metadata": {},
   "source": [
    "# 4. 개념\n",
    "\n",
    "`-` 캐글대회는 시험과 비슷하다.\n",
    "\n",
    "-   캐글대회를 여는 사람은 보통 (1) 모의고사문제+답 (training set) (2)\n",
    "    실제시험문제 (test set)를 준다.[1]\n",
    "-   (1)의 자료에서는 문제(X,독립변수,설명변수)와\n",
    "    답(y,종속변수,반응변수)이 함께 주어진다.\n",
    "-   (2)의 자료에서는 문제(X,독립변수,설명변수)만 주어진다.\n",
    "-   우리는 (1)을 이용하여 문제(X,독립변수,설명변수)와\n",
    "    답(y,종속변수,반응변수)사이의 관계를 찾아내는 훈련을 한다.\n",
    "-   그리고 그 훈련이 잘 되었는지를 평가하기 위해서 (2)를 풀어보고 그\n",
    "    결과를 제출한다.\n",
    "\n",
    "`-` 타이타닉의 training set\n",
    "\n",
    "[1] 물론 모든 대회가 이런건 아님, 시험도 수능같은 시험만 있는게 아닌\n",
    "실기같은것도 있잖아요?"
   ]
  },
  {
   "cell_type": "code",
   "execution_count": 39,
   "id": "a6dc0209-e416-47c5-a4db-aa9153ab1af8",
   "metadata": {},
   "outputs": [],
   "source": [
    "tr.iloc[0]"
   ]
  },
  {
   "cell_type": "markdown",
   "id": "9325cecc-ad95-4d09-a50e-8d30e0c83c3b",
   "metadata": {},
   "source": [
    "-   모의고사문제1: Pclass는 3이에요, 그리고 이름은 ‘Braund, Mr. Owen\n",
    "    Harris’ 입니다. 성별은 ‘male’ 입니다. 그리고 …. 입니다. 이 사람은\n",
    "    죽었을까요? 살았을까요?\n",
    "\n",
    "-   답1: 죽었습니다."
   ]
  },
  {
   "cell_type": "code",
   "execution_count": 44,
   "id": "83d4b234-bec6-42c4-8c6a-65300ffee511",
   "metadata": {},
   "outputs": [],
   "source": [
    "tr.iloc[1]"
   ]
  },
  {
   "cell_type": "markdown",
   "id": "4b977a1c-c42b-47df-9964-e46ea30fdf64",
   "metadata": {},
   "source": [
    "-   모의고사문제2: Pclass는 1이에요, 그리고 이름은 ‘Cumings, Mrs. John\n",
    "    Bradley (Florence Briggs Thayer)’ 입니다. 성별은 ‘female’ 입니다.\n",
    "    그리고 …. 입니다. 이 사람은 죽었을까요? 살았을까요?\n",
    "\n",
    "-   답2: 살았습니다.\n",
    "\n",
    "`-` 타이타닉의 test set"
   ]
  },
  {
   "cell_type": "code",
   "execution_count": 47,
   "id": "51c4c3d6-b7b3-4fcb-acfb-3795719654a2",
   "metadata": {},
   "outputs": [],
   "source": [
    "tst = pd.read_csv('./titanic/test.csv')"
   ]
  },
  {
   "cell_type": "code",
   "execution_count": 48,
   "id": "c5233522-3740-4dfd-8038-ed1cc151fe3b",
   "metadata": {},
   "outputs": [],
   "source": [
    "tst.iloc[0]"
   ]
  },
  {
   "cell_type": "markdown",
   "id": "cb5e59a9-d444-4027-a6eb-a7ee6af93d1a",
   "metadata": {},
   "source": [
    "-   실전문제1: Pclass는 3이에요, 그리고 이름은 ‘Kelly, Mr. James’\n",
    "    입니다. 성별은 ‘male’ 입니다. 그리고 …. 입니다. 이 사람은\n",
    "    죽었을까요? 살았을까요?\n",
    "\n",
    "-   답1: (속마음: 훈련집합에서 대부분 남자는 죽고 여자는 살았다고 푸니까\n",
    "    대충 78점 정도는 맞던데? 이 사람도 남자니까 죽었다고 하자) 죽었다고\n",
    "    예측하겠습니다."
   ]
  }
 ],
 "metadata": {
  "kernelspec": {
   "display_name": "Python 3 (ipykernel)",
   "language": "python",
   "name": "python3"
  },
  "language_info": {
   "codemirror_mode": {
    "name": "ipython",
    "version": 3
   },
   "file_extension": ".py",
   "mimetype": "text/x-python",
   "name": "python",
   "nbconvert_exporter": "python",
   "pygments_lexer": "ipython3",
   "version": "3.8.18"
  }
 },
 "nbformat": 4,
 "nbformat_minor": 5
}
