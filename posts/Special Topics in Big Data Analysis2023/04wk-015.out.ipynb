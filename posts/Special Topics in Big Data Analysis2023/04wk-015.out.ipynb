{
 "cells": [
  {
   "cell_type": "code",
   "execution_count": null,
   "id": "e9ae87c9-c698-4719-ac28-7e536df1462c",
   "metadata": {},
   "outputs": [],
   "source": []
  },
  {
   "cell_type": "raw",
   "id": "38b2d953-4bba-47e3-83f0-0ab3d7c4881a",
   "metadata": {},
   "source": [
    "---\n",
    "title: \"[STBDA2023] 04wk-015: 결측치 처리, `sklearn.impute`\"\n",
    "author: \"김보람\"\n",
    "date: \"09/28/2023\"\n",
    "---"
   ]
  },
  {
   "cell_type": "markdown",
   "id": "9e424f06-3c98-47f6-bfd5-c24b26485397",
   "metadata": {},
   "source": [
    "> 해당 자료는 전북대학교 최규빈 교수님 2023학년도 2학기 [빅데이터분석특강](https://guebin.github.io/STBDA2023/) 자료임"
   ]
  },
  {
   "cell_type": "markdown",
   "id": "ba39f34a-a2e7-460d-a875-ef5d95ac91b6",
   "metadata": {},
   "source": [
    "# 04wk-015: 결측치 처리, `sklearn.impute`\n",
    "\n",
    "최규빈  \n",
    "2023-09-26\n",
    "\n",
    "# 1. 강의영상\n",
    "\n",
    "<https://youtu.be/playlist?list=PLQqh36zP38-xoMM63o6AOYEePSFHrVsv9&si=DMXAb7dsADV4BG7C>\n",
    "\n",
    "# 2. Import"
   ]
  },
  {
   "cell_type": "code",
   "execution_count": 1,
   "id": "e6f62597-d477-4ecb-95d8-15201acdfd65",
   "metadata": {},
   "outputs": [],
   "source": [
    "import numpy as np\n",
    "import pandas as pd \n",
    "import sklearn.impute"
   ]
  },
  {
   "cell_type": "markdown",
   "id": "f2cae61c-46df-41b8-af13-e5daaf21062e",
   "metadata": {},
   "source": [
    "# 3. `sklearn.impute`\n",
    "\n",
    "## A. 숫자형자료의 impute\n",
    "\n",
    "`-` 주어진자료"
   ]
  },
  {
   "cell_type": "code",
   "execution_count": 2,
   "id": "42aca123-1988-459d-9417-88b2865e201f",
   "metadata": {},
   "outputs": [
    {
     "data": {
      "text/html": [
       "<div>\n",
       "<style scoped>\n",
       "    .dataframe tbody tr th:only-of-type {\n",
       "        vertical-align: middle;\n",
       "    }\n",
       "\n",
       "    .dataframe tbody tr th {\n",
       "        vertical-align: top;\n",
       "    }\n",
       "\n",
       "    .dataframe thead th {\n",
       "        text-align: right;\n",
       "    }\n",
       "</style>\n",
       "<table border=\"1\" class=\"dataframe\">\n",
       "  <thead>\n",
       "    <tr style=\"text-align: right;\">\n",
       "      <th></th>\n",
       "      <th>A</th>\n",
       "      <th>B</th>\n",
       "    </tr>\n",
       "  </thead>\n",
       "  <tbody>\n",
       "    <tr>\n",
       "      <th>0</th>\n",
       "      <td>2.1</td>\n",
       "      <td>0.0</td>\n",
       "    </tr>\n",
       "    <tr>\n",
       "      <th>1</th>\n",
       "      <td>1.9</td>\n",
       "      <td>0.0</td>\n",
       "    </tr>\n",
       "    <tr>\n",
       "      <th>2</th>\n",
       "      <td>2.2</td>\n",
       "      <td>NaN</td>\n",
       "    </tr>\n",
       "    <tr>\n",
       "      <th>3</th>\n",
       "      <td>NaN</td>\n",
       "      <td>0.0</td>\n",
       "    </tr>\n",
       "    <tr>\n",
       "      <th>4</th>\n",
       "      <td>1.9</td>\n",
       "      <td>0.0</td>\n",
       "    </tr>\n",
       "  </tbody>\n",
       "</table>\n",
       "</div>"
      ],
      "text/plain": [
       "     A    B\n",
       "0  2.1  0.0\n",
       "1  1.9  0.0\n",
       "2  2.2  NaN\n",
       "3  NaN  0.0\n",
       "4  1.9  0.0"
      ]
     },
     "execution_count": 2,
     "metadata": {},
     "output_type": "execute_result"
    }
   ],
   "source": [
    "df = pd.DataFrame({'A':[2.1,1.9,2.2,np.nan,1.9], 'B':[0,0,np.nan,0,0]})\n",
    "df"
   ]
  },
  {
   "cell_type": "markdown",
   "id": "3992d7a5-b527-48d8-84f9-af3239cd6f89",
   "metadata": {},
   "source": [
    "`-` 빈칸은 대충 아래와 같이 추정하면 되지 않을까?"
   ]
  },
  {
   "cell_type": "code",
   "execution_count": 3,
   "id": "b8560511-594f-4394-9e09-94a1f8921e81",
   "metadata": {},
   "outputs": [],
   "source": [
    "df.loc[3,'A'] = df.A.mean()\n",
    "df.loc[2,'B'] = df.B.mean()"
   ]
  },
  {
   "cell_type": "code",
   "execution_count": 4,
   "id": "3847b75d-247f-400f-9a14-037a6d95880e",
   "metadata": {},
   "outputs": [
    {
     "data": {
      "text/html": [
       "<div>\n",
       "<style scoped>\n",
       "    .dataframe tbody tr th:only-of-type {\n",
       "        vertical-align: middle;\n",
       "    }\n",
       "\n",
       "    .dataframe tbody tr th {\n",
       "        vertical-align: top;\n",
       "    }\n",
       "\n",
       "    .dataframe thead th {\n",
       "        text-align: right;\n",
       "    }\n",
       "</style>\n",
       "<table border=\"1\" class=\"dataframe\">\n",
       "  <thead>\n",
       "    <tr style=\"text-align: right;\">\n",
       "      <th></th>\n",
       "      <th>A</th>\n",
       "      <th>B</th>\n",
       "    </tr>\n",
       "  </thead>\n",
       "  <tbody>\n",
       "    <tr>\n",
       "      <th>0</th>\n",
       "      <td>2.100</td>\n",
       "      <td>0.0</td>\n",
       "    </tr>\n",
       "    <tr>\n",
       "      <th>1</th>\n",
       "      <td>1.900</td>\n",
       "      <td>0.0</td>\n",
       "    </tr>\n",
       "    <tr>\n",
       "      <th>2</th>\n",
       "      <td>2.200</td>\n",
       "      <td>0.0</td>\n",
       "    </tr>\n",
       "    <tr>\n",
       "      <th>3</th>\n",
       "      <td>2.025</td>\n",
       "      <td>0.0</td>\n",
       "    </tr>\n",
       "    <tr>\n",
       "      <th>4</th>\n",
       "      <td>1.900</td>\n",
       "      <td>0.0</td>\n",
       "    </tr>\n",
       "  </tbody>\n",
       "</table>\n",
       "</div>"
      ],
      "text/plain": [
       "       A    B\n",
       "0  2.100  0.0\n",
       "1  1.900  0.0\n",
       "2  2.200  0.0\n",
       "3  2.025  0.0\n",
       "4  1.900  0.0"
      ]
     },
     "execution_count": 4,
     "metadata": {},
     "output_type": "execute_result"
    }
   ],
   "source": [
    "df"
   ]
  },
  {
   "cell_type": "markdown",
   "id": "a1d70ba9-52b0-4a40-a8d1-d3718cd5e24a",
   "metadata": {},
   "source": [
    "`-` 자동으로 하려면?"
   ]
  },
  {
   "cell_type": "code",
   "execution_count": 5,
   "id": "86e575a4-26ea-4307-bd8d-718d9e6ebc02",
   "metadata": {},
   "outputs": [
    {
     "data": {
      "text/html": [
       "<div>\n",
       "<style scoped>\n",
       "    .dataframe tbody tr th:only-of-type {\n",
       "        vertical-align: middle;\n",
       "    }\n",
       "\n",
       "    .dataframe tbody tr th {\n",
       "        vertical-align: top;\n",
       "    }\n",
       "\n",
       "    .dataframe thead th {\n",
       "        text-align: right;\n",
       "    }\n",
       "</style>\n",
       "<table border=\"1\" class=\"dataframe\">\n",
       "  <thead>\n",
       "    <tr style=\"text-align: right;\">\n",
       "      <th></th>\n",
       "      <th>A</th>\n",
       "      <th>B</th>\n",
       "    </tr>\n",
       "  </thead>\n",
       "  <tbody>\n",
       "    <tr>\n",
       "      <th>0</th>\n",
       "      <td>2.1</td>\n",
       "      <td>0.0</td>\n",
       "    </tr>\n",
       "    <tr>\n",
       "      <th>1</th>\n",
       "      <td>1.9</td>\n",
       "      <td>0.0</td>\n",
       "    </tr>\n",
       "    <tr>\n",
       "      <th>2</th>\n",
       "      <td>2.2</td>\n",
       "      <td>NaN</td>\n",
       "    </tr>\n",
       "    <tr>\n",
       "      <th>3</th>\n",
       "      <td>NaN</td>\n",
       "      <td>0.0</td>\n",
       "    </tr>\n",
       "    <tr>\n",
       "      <th>4</th>\n",
       "      <td>1.9</td>\n",
       "      <td>0.0</td>\n",
       "    </tr>\n",
       "  </tbody>\n",
       "</table>\n",
       "</div>"
      ],
      "text/plain": [
       "     A    B\n",
       "0  2.1  0.0\n",
       "1  1.9  0.0\n",
       "2  2.2  NaN\n",
       "3  NaN  0.0\n",
       "4  1.9  0.0"
      ]
     },
     "execution_count": 5,
     "metadata": {},
     "output_type": "execute_result"
    }
   ],
   "source": [
    "df = pd.DataFrame({'A':[2.1,1.9,2.2,np.nan,1.9], 'B':[0,0,np.nan,0,0]})\n",
    "df"
   ]
  },
  {
   "cell_type": "markdown",
   "id": "479fa91a-7b8b-4947-9da9-fd0c417cb704",
   "metadata": {},
   "source": [
    "`-` `sklearn.impute.SimpleImputer()`"
   ]
  },
  {
   "cell_type": "markdown",
   "id": "378998fb-1f32-440b-9357-5a19765a8986",
   "metadata": {},
   "source": [
    "(방법1) "
   ]
  },
  {
   "cell_type": "code",
   "execution_count": 6,
   "id": "73853388-4d11-4840-9760-401cc38ea139",
   "metadata": {},
   "outputs": [
    {
     "data": {
      "text/plain": [
       "array([[2.1  , 0.   ],\n",
       "       [1.9  , 0.   ],\n",
       "       [2.2  , 0.   ],\n",
       "       [2.025, 0.   ],\n",
       "       [1.9  , 0.   ]])"
      ]
     },
     "execution_count": 6,
     "metadata": {},
     "output_type": "execute_result"
    }
   ],
   "source": [
    "imputer = sklearn.impute.SimpleImputer()\n",
    "imputer.fit(df)\n",
    "imputer.transform(df)"
   ]
  },
  {
   "cell_type": "markdown",
   "id": "c66d1105-a070-4cf5-92ce-88895bb93006",
   "metadata": {},
   "source": [
    "(방법2) fit, transform 두개 기능 합친거"
   ]
  },
  {
   "cell_type": "code",
   "execution_count": 7,
   "id": "d640dd4a-51ca-4c1f-a6d3-afd9827e7e3c",
   "metadata": {},
   "outputs": [
    {
     "data": {
      "text/plain": [
       "array([[2.1  , 0.   ],\n",
       "       [1.9  , 0.   ],\n",
       "       [2.2  , 0.   ],\n",
       "       [2.025, 0.   ],\n",
       "       [1.9  , 0.   ]])"
      ]
     },
     "execution_count": 7,
     "metadata": {},
     "output_type": "execute_result"
    }
   ],
   "source": [
    "imputer = sklearn.impute.SimpleImputer()\n",
    "imputer.fit_transform(df)"
   ]
  },
  {
   "cell_type": "markdown",
   "id": "055a462e-2c91-446a-b95b-708769c2dcc9",
   "metadata": {},
   "source": [
    "`-` 다른방식으로 결측값 대체\n",
    "\n",
    "(방법1) – 평균으로 대체"
   ]
  },
  {
   "cell_type": "code",
   "execution_count": 8,
   "id": "b968cead-4852-48e0-ad46-6507357b8702",
   "metadata": {},
   "outputs": [
    {
     "data": {
      "text/plain": [
       "array([[2.1  , 0.   ],\n",
       "       [1.9  , 0.   ],\n",
       "       [2.2  , 0.   ],\n",
       "       [2.025, 0.   ],\n",
       "       [1.9  , 0.   ]])"
      ]
     },
     "execution_count": 8,
     "metadata": {},
     "output_type": "execute_result"
    }
   ],
   "source": [
    "imputer = sklearn.impute.SimpleImputer(strategy='mean')\n",
    "imputer.fit_transform(df)"
   ]
  },
  {
   "cell_type": "markdown",
   "id": "b86148d8-8bf3-4123-8832-eeefe1df388d",
   "metadata": {},
   "source": [
    "(방법2) – 중앙값으로 대체"
   ]
  },
  {
   "cell_type": "code",
   "execution_count": 9,
   "id": "4a894761-644c-4373-92fe-7d7a3653c899",
   "metadata": {},
   "outputs": [
    {
     "data": {
      "text/plain": [
       "array([[2.1, 0. ],\n",
       "       [1.9, 0. ],\n",
       "       [2.2, 0. ],\n",
       "       [2. , 0. ],\n",
       "       [1.9, 0. ]])"
      ]
     },
     "execution_count": 9,
     "metadata": {},
     "output_type": "execute_result"
    }
   ],
   "source": [
    "imputer = sklearn.impute.SimpleImputer(strategy='median')\n",
    "imputer.fit_transform(df)"
   ]
  },
  {
   "cell_type": "markdown",
   "id": "11b7333c-86ad-4fde-83d1-dcdf8269c35d",
   "metadata": {},
   "source": [
    "(방법3) – 최빈값으로 대체"
   ]
  },
  {
   "cell_type": "code",
   "execution_count": 10,
   "id": "1a4c3a82-0acf-4dae-aa83-dd92e45df875",
   "metadata": {},
   "outputs": [
    {
     "data": {
      "text/plain": [
       "array([[2.1, 0. ],\n",
       "       [1.9, 0. ],\n",
       "       [2.2, 0. ],\n",
       "       [1.9, 0. ],\n",
       "       [1.9, 0. ]])"
      ]
     },
     "execution_count": 10,
     "metadata": {},
     "output_type": "execute_result"
    }
   ],
   "source": [
    "imputer = sklearn.impute.SimpleImputer(strategy='most_frequent')\n",
    "imputer.fit_transform(df)"
   ]
  },
  {
   "cell_type": "markdown",
   "id": "4227abec-fc27-430c-adb1-6c77de68e918",
   "metadata": {},
   "source": [
    "(방법4) – 상수대체"
   ]
  },
  {
   "cell_type": "code",
   "execution_count": 11,
   "id": "a6b9f114-5cbd-44d1-8e38-0535567155a3",
   "metadata": {},
   "outputs": [
    {
     "data": {
      "text/plain": [
       "array([[   2.1,    0. ],\n",
       "       [   1.9,    0. ],\n",
       "       [   2.2, -999. ],\n",
       "       [-999. ,    0. ],\n",
       "       [   1.9,    0. ]])"
      ]
     },
     "execution_count": 11,
     "metadata": {},
     "output_type": "execute_result"
    }
   ],
   "source": [
    "imputer = sklearn.impute.SimpleImputer(strategy='constant',fill_value=-999)\n",
    "imputer.fit_transform(df)"
   ]
  },
  {
   "cell_type": "markdown",
   "id": "533d487d-ef68-49c7-863c-5693dddc76e9",
   "metadata": {},
   "source": [
    "## B. 범주형자료의 impute\n",
    "\n",
    "`-` 자료"
   ]
  },
  {
   "cell_type": "code",
   "execution_count": 12,
   "id": "10cb2b46-52de-4a4f-96fd-8e238abbfc1f",
   "metadata": {},
   "outputs": [
    {
     "data": {
      "text/html": [
       "<div>\n",
       "<style scoped>\n",
       "    .dataframe tbody tr th:only-of-type {\n",
       "        vertical-align: middle;\n",
       "    }\n",
       "\n",
       "    .dataframe tbody tr th {\n",
       "        vertical-align: top;\n",
       "    }\n",
       "\n",
       "    .dataframe thead th {\n",
       "        text-align: right;\n",
       "    }\n",
       "</style>\n",
       "<table border=\"1\" class=\"dataframe\">\n",
       "  <thead>\n",
       "    <tr style=\"text-align: right;\">\n",
       "      <th></th>\n",
       "      <th>A</th>\n",
       "      <th>B</th>\n",
       "    </tr>\n",
       "  </thead>\n",
       "  <tbody>\n",
       "    <tr>\n",
       "      <th>0</th>\n",
       "      <td>Y</td>\n",
       "      <td>stat</td>\n",
       "    </tr>\n",
       "    <tr>\n",
       "      <th>1</th>\n",
       "      <td>N</td>\n",
       "      <td>math</td>\n",
       "    </tr>\n",
       "    <tr>\n",
       "      <th>2</th>\n",
       "      <td>Y</td>\n",
       "      <td>NaN</td>\n",
       "    </tr>\n",
       "    <tr>\n",
       "      <th>3</th>\n",
       "      <td>Y</td>\n",
       "      <td>stat</td>\n",
       "    </tr>\n",
       "    <tr>\n",
       "      <th>4</th>\n",
       "      <td>NaN</td>\n",
       "      <td>bio</td>\n",
       "    </tr>\n",
       "  </tbody>\n",
       "</table>\n",
       "</div>"
      ],
      "text/plain": [
       "     A     B\n",
       "0    Y  stat\n",
       "1    N  math\n",
       "2    Y   NaN\n",
       "3    Y  stat\n",
       "4  NaN   bio"
      ]
     },
     "execution_count": 12,
     "metadata": {},
     "output_type": "execute_result"
    }
   ],
   "source": [
    "df = pd.DataFrame({'A':['Y','N','Y','Y',np.nan], 'B':['stat','math',np.nan,'stat','bio']})\n",
    "df"
   ]
  },
  {
   "cell_type": "markdown",
   "id": "7df57ed8-ad1d-43a5-93a5-02183c67220d",
   "metadata": {},
   "source": [
    "`-` 최빈값 혹은 상수대체만 가능\n",
    "\n",
    "(방법1) – 최빈값을 이용"
   ]
  },
  {
   "cell_type": "code",
   "execution_count": 13,
   "id": "9e537444-a7a4-4395-b3fd-dd094c8bbbac",
   "metadata": {},
   "outputs": [
    {
     "data": {
      "text/plain": [
       "array([['Y', 'stat'],\n",
       "       ['N', 'math'],\n",
       "       ['Y', 'stat'],\n",
       "       ['Y', 'stat'],\n",
       "       ['Y', 'bio']], dtype=object)"
      ]
     },
     "execution_count": 13,
     "metadata": {},
     "output_type": "execute_result"
    }
   ],
   "source": [
    "imptr = sklearn.impute.SimpleImputer(strategy='most_frequent')\n",
    "imptr.fit_transform(df)"
   ]
  },
  {
   "cell_type": "markdown",
   "id": "651c42a0-bc63-4b61-9b0a-b37d1d93d614",
   "metadata": {},
   "source": [
    "(방법2) – 상수로 대체함"
   ]
  },
  {
   "cell_type": "code",
   "execution_count": 16,
   "id": "ef4fc6c9-b06f-440b-b88f-1b5f86625cde",
   "metadata": {},
   "outputs": [
    {
     "data": {
      "text/plain": [
       "array([['Y'],\n",
       "       ['N'],\n",
       "       ['Y'],\n",
       "       ['Y'],\n",
       "       ['Y']], dtype=object)"
      ]
     },
     "execution_count": 16,
     "metadata": {},
     "output_type": "execute_result"
    }
   ],
   "source": [
    "imptr1 = sklearn.impute.SimpleImputer(strategy='constant',fill_value='Y')\n",
    "imptr1.fit_transform(df[['A']])"
   ]
  },
  {
   "cell_type": "code",
   "execution_count": 17,
   "id": "86a0e463-2471-4052-b37e-b2d4c7d7262e",
   "metadata": {},
   "outputs": [
    {
     "data": {
      "text/plain": [
       "array([['stat'],\n",
       "       ['math'],\n",
       "       ['math'],\n",
       "       ['stat'],\n",
       "       ['bio']], dtype=object)"
      ]
     },
     "execution_count": 17,
     "metadata": {},
     "output_type": "execute_result"
    }
   ],
   "source": [
    "imptr2 = sklearn.impute.SimpleImputer(strategy='constant',fill_value='math')\n",
    "imptr2.fit_transform(df[['B']])"
   ]
  },
  {
   "cell_type": "code",
   "execution_count": 18,
   "id": "af303ecb-5344-4c3a-8616-d9c66901a6ef",
   "metadata": {},
   "outputs": [
    {
     "data": {
      "text/plain": [
       "array([['Y', 'stat'],\n",
       "       ['N', 'math'],\n",
       "       ['Y', 'math'],\n",
       "       ['Y', 'stat'],\n",
       "       ['Y', 'bio']], dtype=object)"
      ]
     },
     "execution_count": 18,
     "metadata": {},
     "output_type": "execute_result"
    }
   ],
   "source": [
    "np.concatenate([imptr1.fit_transform(df[['A']]),imptr2.fit_transform(df[['B']])],axis=1)"
   ]
  },
  {
   "cell_type": "markdown",
   "id": "5dec8957-9046-4cf2-a47e-c03071cdb5f3",
   "metadata": {},
   "source": [
    "## C. 혼합형자료의 impute – (1) 모두 최빈값으로 impute\n",
    "\n",
    "`# 예제`: 아래의 df에서 결측치를 모두 최빈값으로 impute하라."
   ]
  },
  {
   "cell_type": "code",
   "execution_count": 19,
   "id": "e43e0196-35ae-449f-8263-da41ecf5d95f",
   "metadata": {},
   "outputs": [
    {
     "data": {
      "text/html": [
       "<div>\n",
       "<style scoped>\n",
       "    .dataframe tbody tr th:only-of-type {\n",
       "        vertical-align: middle;\n",
       "    }\n",
       "\n",
       "    .dataframe tbody tr th {\n",
       "        vertical-align: top;\n",
       "    }\n",
       "\n",
       "    .dataframe thead th {\n",
       "        text-align: right;\n",
       "    }\n",
       "</style>\n",
       "<table border=\"1\" class=\"dataframe\">\n",
       "  <thead>\n",
       "    <tr style=\"text-align: right;\">\n",
       "      <th></th>\n",
       "      <th>A</th>\n",
       "      <th>B</th>\n",
       "      <th>C</th>\n",
       "      <th>D</th>\n",
       "    </tr>\n",
       "  </thead>\n",
       "  <tbody>\n",
       "    <tr>\n",
       "      <th>0</th>\n",
       "      <td>2.1</td>\n",
       "      <td>0.0</td>\n",
       "      <td>Y</td>\n",
       "      <td>stat</td>\n",
       "    </tr>\n",
       "    <tr>\n",
       "      <th>1</th>\n",
       "      <td>1.9</td>\n",
       "      <td>0.0</td>\n",
       "      <td>N</td>\n",
       "      <td>math</td>\n",
       "    </tr>\n",
       "    <tr>\n",
       "      <th>2</th>\n",
       "      <td>2.2</td>\n",
       "      <td>NaN</td>\n",
       "      <td>Y</td>\n",
       "      <td>NaN</td>\n",
       "    </tr>\n",
       "    <tr>\n",
       "      <th>3</th>\n",
       "      <td>NaN</td>\n",
       "      <td>0.0</td>\n",
       "      <td>Y</td>\n",
       "      <td>stat</td>\n",
       "    </tr>\n",
       "    <tr>\n",
       "      <th>4</th>\n",
       "      <td>1.9</td>\n",
       "      <td>0.0</td>\n",
       "      <td>NaN</td>\n",
       "      <td>bio</td>\n",
       "    </tr>\n",
       "  </tbody>\n",
       "</table>\n",
       "</div>"
      ],
      "text/plain": [
       "     A    B    C     D\n",
       "0  2.1  0.0    Y  stat\n",
       "1  1.9  0.0    N  math\n",
       "2  2.2  NaN    Y   NaN\n",
       "3  NaN  0.0    Y  stat\n",
       "4  1.9  0.0  NaN   bio"
      ]
     },
     "execution_count": 19,
     "metadata": {},
     "output_type": "execute_result"
    }
   ],
   "source": [
    "df = pd.DataFrame(\n",
    "    {'A':[2.1,1.9,2.2,np.nan,1.9],\n",
    "     'B':[0,0,np.nan,0,0],\n",
    "     'C':['Y','N','Y','Y',np.nan], \n",
    "     'D':['stat','math',np.nan,'stat','bio']}\n",
    ")\n",
    "df"
   ]
  },
  {
   "cell_type": "markdown",
   "id": "5693f085-da01-4e91-890a-2468c031b33f",
   "metadata": {},
   "source": [
    "(풀이)"
   ]
  },
  {
   "cell_type": "code",
   "execution_count": 20,
   "id": "a70bb6bd-db29-497c-be44-e0fdade57273",
   "metadata": {},
   "outputs": [
    {
     "data": {
      "text/plain": [
       "array([[2.1, 0.0, 'Y', 'stat'],\n",
       "       [1.9, 0.0, 'N', 'math'],\n",
       "       [2.2, 0.0, 'Y', 'stat'],\n",
       "       [1.9, 0.0, 'Y', 'stat'],\n",
       "       [1.9, 0.0, 'Y', 'bio']], dtype=object)"
      ]
     },
     "execution_count": 20,
     "metadata": {},
     "output_type": "execute_result"
    }
   ],
   "source": [
    "imptr = sklearn.impute.SimpleImputer(strategy='most_frequent')\n",
    "imptr.fit_transform(df)"
   ]
  },
  {
   "cell_type": "markdown",
   "id": "2003f734-1531-42a3-8fd8-9dd8dc37c7ea",
   "metadata": {},
   "source": [
    "\n",
    "\n",
    "## D. 혼합형자료의 impute – (2) 숫자형은 평균값으로, 범주는 최빈값으로 impute\n",
    "\n",
    "`# 예제`: 아래의 df를 숫자형일 경우는 평균대치, 문자형일 경우는\n",
    "최빈값으로 대치하라."
   ]
  },
  {
   "cell_type": "code",
   "execution_count": 21,
   "id": "d5df4a1f-75cb-4570-a99d-89826bdac68a",
   "metadata": {},
   "outputs": [
    {
     "data": {
      "text/html": [
       "<div>\n",
       "<style scoped>\n",
       "    .dataframe tbody tr th:only-of-type {\n",
       "        vertical-align: middle;\n",
       "    }\n",
       "\n",
       "    .dataframe tbody tr th {\n",
       "        vertical-align: top;\n",
       "    }\n",
       "\n",
       "    .dataframe thead th {\n",
       "        text-align: right;\n",
       "    }\n",
       "</style>\n",
       "<table border=\"1\" class=\"dataframe\">\n",
       "  <thead>\n",
       "    <tr style=\"text-align: right;\">\n",
       "      <th></th>\n",
       "      <th>A</th>\n",
       "      <th>B</th>\n",
       "      <th>C</th>\n",
       "      <th>D</th>\n",
       "    </tr>\n",
       "  </thead>\n",
       "  <tbody>\n",
       "    <tr>\n",
       "      <th>0</th>\n",
       "      <td>2.1</td>\n",
       "      <td>0.0</td>\n",
       "      <td>Y</td>\n",
       "      <td>stat</td>\n",
       "    </tr>\n",
       "    <tr>\n",
       "      <th>1</th>\n",
       "      <td>1.9</td>\n",
       "      <td>0.0</td>\n",
       "      <td>N</td>\n",
       "      <td>math</td>\n",
       "    </tr>\n",
       "    <tr>\n",
       "      <th>2</th>\n",
       "      <td>2.2</td>\n",
       "      <td>NaN</td>\n",
       "      <td>Y</td>\n",
       "      <td>NaN</td>\n",
       "    </tr>\n",
       "    <tr>\n",
       "      <th>3</th>\n",
       "      <td>NaN</td>\n",
       "      <td>0.0</td>\n",
       "      <td>Y</td>\n",
       "      <td>stat</td>\n",
       "    </tr>\n",
       "    <tr>\n",
       "      <th>4</th>\n",
       "      <td>1.9</td>\n",
       "      <td>0.0</td>\n",
       "      <td>NaN</td>\n",
       "      <td>bio</td>\n",
       "    </tr>\n",
       "  </tbody>\n",
       "</table>\n",
       "</div>"
      ],
      "text/plain": [
       "     A    B    C     D\n",
       "0  2.1  0.0    Y  stat\n",
       "1  1.9  0.0    N  math\n",
       "2  2.2  NaN    Y   NaN\n",
       "3  NaN  0.0    Y  stat\n",
       "4  1.9  0.0  NaN   bio"
      ]
     },
     "execution_count": 21,
     "metadata": {},
     "output_type": "execute_result"
    }
   ],
   "source": [
    "df = pd.DataFrame(\n",
    "    {'A':[2.1,1.9,2.2,np.nan,1.9],\n",
    "     'B':[0,0,np.nan,0,0],\n",
    "     'C':['Y','N','Y','Y',np.nan], \n",
    "     'D':['stat','math',np.nan,'stat','bio']}\n",
    ")\n",
    "df"
   ]
  },
  {
   "cell_type": "markdown",
   "id": "a988c95e-5c00-427e-81dc-24000424f646",
   "metadata": {},
   "source": [
    "(풀이)\n",
    "\n",
    "`-` step1: 복사본 생성"
   ]
  },
  {
   "cell_type": "code",
   "execution_count": 22,
   "id": "eca5d372-6024-4c9e-827f-0222d9b0a7ad",
   "metadata": {},
   "outputs": [
    {
     "data": {
      "text/html": [
       "<div>\n",
       "<style scoped>\n",
       "    .dataframe tbody tr th:only-of-type {\n",
       "        vertical-align: middle;\n",
       "    }\n",
       "\n",
       "    .dataframe tbody tr th {\n",
       "        vertical-align: top;\n",
       "    }\n",
       "\n",
       "    .dataframe thead th {\n",
       "        text-align: right;\n",
       "    }\n",
       "</style>\n",
       "<table border=\"1\" class=\"dataframe\">\n",
       "  <thead>\n",
       "    <tr style=\"text-align: right;\">\n",
       "      <th></th>\n",
       "      <th>A</th>\n",
       "      <th>B</th>\n",
       "      <th>C</th>\n",
       "      <th>D</th>\n",
       "    </tr>\n",
       "  </thead>\n",
       "  <tbody>\n",
       "    <tr>\n",
       "      <th>0</th>\n",
       "      <td>2.1</td>\n",
       "      <td>0.0</td>\n",
       "      <td>Y</td>\n",
       "      <td>stat</td>\n",
       "    </tr>\n",
       "    <tr>\n",
       "      <th>1</th>\n",
       "      <td>1.9</td>\n",
       "      <td>0.0</td>\n",
       "      <td>N</td>\n",
       "      <td>math</td>\n",
       "    </tr>\n",
       "    <tr>\n",
       "      <th>2</th>\n",
       "      <td>2.2</td>\n",
       "      <td>NaN</td>\n",
       "      <td>Y</td>\n",
       "      <td>NaN</td>\n",
       "    </tr>\n",
       "    <tr>\n",
       "      <th>3</th>\n",
       "      <td>NaN</td>\n",
       "      <td>0.0</td>\n",
       "      <td>Y</td>\n",
       "      <td>stat</td>\n",
       "    </tr>\n",
       "    <tr>\n",
       "      <th>4</th>\n",
       "      <td>1.9</td>\n",
       "      <td>0.0</td>\n",
       "      <td>NaN</td>\n",
       "      <td>bio</td>\n",
       "    </tr>\n",
       "  </tbody>\n",
       "</table>\n",
       "</div>"
      ],
      "text/plain": [
       "     A    B    C     D\n",
       "0  2.1  0.0    Y  stat\n",
       "1  1.9  0.0    N  math\n",
       "2  2.2  NaN    Y   NaN\n",
       "3  NaN  0.0    Y  stat\n",
       "4  1.9  0.0  NaN   bio"
      ]
     },
     "execution_count": 22,
     "metadata": {},
     "output_type": "execute_result"
    }
   ],
   "source": [
    "df_imputed = df.copy()\n",
    "df_imputed"
   ]
  },
  {
   "cell_type": "markdown",
   "id": "d17fe613-35bf-4b24-ab8e-c05ea2b98d7c",
   "metadata": {},
   "source": [
    "`-` step2: 데이터프레임 분리"
   ]
  },
  {
   "cell_type": "code",
   "execution_count": 23,
   "id": "ea80139e-124a-4418-8ac0-cc8b1d416604",
   "metadata": {},
   "outputs": [
    {
     "data": {
      "text/html": [
       "<div>\n",
       "<style scoped>\n",
       "    .dataframe tbody tr th:only-of-type {\n",
       "        vertical-align: middle;\n",
       "    }\n",
       "\n",
       "    .dataframe tbody tr th {\n",
       "        vertical-align: top;\n",
       "    }\n",
       "\n",
       "    .dataframe thead th {\n",
       "        text-align: right;\n",
       "    }\n",
       "</style>\n",
       "<table border=\"1\" class=\"dataframe\">\n",
       "  <thead>\n",
       "    <tr style=\"text-align: right;\">\n",
       "      <th></th>\n",
       "      <th>A</th>\n",
       "      <th>B</th>\n",
       "    </tr>\n",
       "  </thead>\n",
       "  <tbody>\n",
       "    <tr>\n",
       "      <th>0</th>\n",
       "      <td>2.1</td>\n",
       "      <td>0.0</td>\n",
       "    </tr>\n",
       "    <tr>\n",
       "      <th>1</th>\n",
       "      <td>1.9</td>\n",
       "      <td>0.0</td>\n",
       "    </tr>\n",
       "    <tr>\n",
       "      <th>2</th>\n",
       "      <td>2.2</td>\n",
       "      <td>NaN</td>\n",
       "    </tr>\n",
       "    <tr>\n",
       "      <th>3</th>\n",
       "      <td>NaN</td>\n",
       "      <td>0.0</td>\n",
       "    </tr>\n",
       "    <tr>\n",
       "      <th>4</th>\n",
       "      <td>1.9</td>\n",
       "      <td>0.0</td>\n",
       "    </tr>\n",
       "  </tbody>\n",
       "</table>\n",
       "</div>"
      ],
      "text/plain": [
       "     A    B\n",
       "0  2.1  0.0\n",
       "1  1.9  0.0\n",
       "2  2.2  NaN\n",
       "3  NaN  0.0\n",
       "4  1.9  0.0"
      ]
     },
     "execution_count": 23,
     "metadata": {},
     "output_type": "execute_result"
    }
   ],
   "source": [
    "df_num = df.select_dtypes(include=\"number\")\n",
    "df_num"
   ]
  },
  {
   "cell_type": "code",
   "execution_count": 24,
   "id": "9a543015-13be-4c46-a51d-20ca4b8460c0",
   "metadata": {},
   "outputs": [
    {
     "data": {
      "text/html": [
       "<div>\n",
       "<style scoped>\n",
       "    .dataframe tbody tr th:only-of-type {\n",
       "        vertical-align: middle;\n",
       "    }\n",
       "\n",
       "    .dataframe tbody tr th {\n",
       "        vertical-align: top;\n",
       "    }\n",
       "\n",
       "    .dataframe thead th {\n",
       "        text-align: right;\n",
       "    }\n",
       "</style>\n",
       "<table border=\"1\" class=\"dataframe\">\n",
       "  <thead>\n",
       "    <tr style=\"text-align: right;\">\n",
       "      <th></th>\n",
       "      <th>C</th>\n",
       "      <th>D</th>\n",
       "    </tr>\n",
       "  </thead>\n",
       "  <tbody>\n",
       "    <tr>\n",
       "      <th>0</th>\n",
       "      <td>Y</td>\n",
       "      <td>stat</td>\n",
       "    </tr>\n",
       "    <tr>\n",
       "      <th>1</th>\n",
       "      <td>N</td>\n",
       "      <td>math</td>\n",
       "    </tr>\n",
       "    <tr>\n",
       "      <th>2</th>\n",
       "      <td>Y</td>\n",
       "      <td>NaN</td>\n",
       "    </tr>\n",
       "    <tr>\n",
       "      <th>3</th>\n",
       "      <td>Y</td>\n",
       "      <td>stat</td>\n",
       "    </tr>\n",
       "    <tr>\n",
       "      <th>4</th>\n",
       "      <td>NaN</td>\n",
       "      <td>bio</td>\n",
       "    </tr>\n",
       "  </tbody>\n",
       "</table>\n",
       "</div>"
      ],
      "text/plain": [
       "     C     D\n",
       "0    Y  stat\n",
       "1    N  math\n",
       "2    Y   NaN\n",
       "3    Y  stat\n",
       "4  NaN   bio"
      ]
     },
     "execution_count": 24,
     "metadata": {},
     "output_type": "execute_result"
    }
   ],
   "source": [
    "df_cat = df.select_dtypes(exclude=\"number\")\n",
    "df_cat "
   ]
  },
  {
   "cell_type": "markdown",
   "id": "c063b121-5106-4d13-bcbc-d9714fd1f454",
   "metadata": {},
   "source": [
    "`-` step3: impute"
   ]
  },
  {
   "cell_type": "code",
   "execution_count": 25,
   "id": "f8190463-2588-4485-9859-36c61b9e0ff6",
   "metadata": {},
   "outputs": [],
   "source": [
    "df_imputed[df_num.columns] = sklearn.impute.SimpleImputer(strategy='mean').fit_transform(df_num)\n",
    "df_imputed[df_cat.columns] = sklearn.impute.SimpleImputer(strategy='most_frequent').fit_transform(df_cat)"
   ]
  },
  {
   "cell_type": "code",
   "execution_count": 26,
   "id": "9c80f369-2290-492e-ae54-ba07bdecdb0e",
   "metadata": {},
   "outputs": [
    {
     "data": {
      "text/html": [
       "<div>\n",
       "<style scoped>\n",
       "    .dataframe tbody tr th:only-of-type {\n",
       "        vertical-align: middle;\n",
       "    }\n",
       "\n",
       "    .dataframe tbody tr th {\n",
       "        vertical-align: top;\n",
       "    }\n",
       "\n",
       "    .dataframe thead th {\n",
       "        text-align: right;\n",
       "    }\n",
       "</style>\n",
       "<table border=\"1\" class=\"dataframe\">\n",
       "  <thead>\n",
       "    <tr style=\"text-align: right;\">\n",
       "      <th></th>\n",
       "      <th>A</th>\n",
       "      <th>B</th>\n",
       "      <th>C</th>\n",
       "      <th>D</th>\n",
       "    </tr>\n",
       "  </thead>\n",
       "  <tbody>\n",
       "    <tr>\n",
       "      <th>0</th>\n",
       "      <td>2.100</td>\n",
       "      <td>0.0</td>\n",
       "      <td>Y</td>\n",
       "      <td>stat</td>\n",
       "    </tr>\n",
       "    <tr>\n",
       "      <th>1</th>\n",
       "      <td>1.900</td>\n",
       "      <td>0.0</td>\n",
       "      <td>N</td>\n",
       "      <td>math</td>\n",
       "    </tr>\n",
       "    <tr>\n",
       "      <th>2</th>\n",
       "      <td>2.200</td>\n",
       "      <td>0.0</td>\n",
       "      <td>Y</td>\n",
       "      <td>stat</td>\n",
       "    </tr>\n",
       "    <tr>\n",
       "      <th>3</th>\n",
       "      <td>2.025</td>\n",
       "      <td>0.0</td>\n",
       "      <td>Y</td>\n",
       "      <td>stat</td>\n",
       "    </tr>\n",
       "    <tr>\n",
       "      <th>4</th>\n",
       "      <td>1.900</td>\n",
       "      <td>0.0</td>\n",
       "      <td>Y</td>\n",
       "      <td>bio</td>\n",
       "    </tr>\n",
       "  </tbody>\n",
       "</table>\n",
       "</div>"
      ],
      "text/plain": [
       "       A    B  C     D\n",
       "0  2.100  0.0  Y  stat\n",
       "1  1.900  0.0  N  math\n",
       "2  2.200  0.0  Y  stat\n",
       "3  2.025  0.0  Y  stat\n",
       "4  1.900  0.0  Y   bio"
      ]
     },
     "execution_count": 26,
     "metadata": {},
     "output_type": "execute_result"
    }
   ],
   "source": [
    "df_imputed"
   ]
  },
  {
   "cell_type": "code",
   "execution_count": null,
   "id": "04871eba-4ebc-4ac3-ba53-b55ec9238000",
   "metadata": {},
   "outputs": [],
   "source": []
  }
 ],
 "metadata": {
  "kernelspec": {
   "display_name": "Python 3 (ipykernel)",
   "language": "python",
   "name": "python3"
  },
  "language_info": {
   "codemirror_mode": {
    "name": "ipython",
    "version": 3
   },
   "file_extension": ".py",
   "mimetype": "text/x-python",
   "name": "python",
   "nbconvert_exporter": "python",
   "pygments_lexer": "ipython3",
   "version": "3.8.18"
  }
 },
 "nbformat": 4,
 "nbformat_minor": 5
}
