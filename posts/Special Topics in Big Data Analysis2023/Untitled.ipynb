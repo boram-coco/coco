{
 "cells": [
  {
   "cell_type": "code",
   "execution_count": null,
   "id": "cdc0eda1-0120-4e9d-b34a-e5259312b07e",
   "metadata": {},
   "outputs": [],
   "source": []
  },
  {
   "cell_type": "code",
   "execution_count": null,
   "id": "fd16203a-3a23-4676-baea-b1f310df151b",
   "metadata": {},
   "outputs": [],
   "source": []
  },
  {
   "cell_type": "code",
   "execution_count": null,
   "id": "b676ba39-019d-4322-953c-733fed2cc686",
   "metadata": {},
   "outputs": [],
   "source": []
  },
  {
   "cell_type": "markdown",
   "id": "f5d0a6e2-4edc-4211-9707-6cef45c3e507",
   "metadata": {},
   "source": [
    "1주차 수업"
   ]
  },
  {
   "cell_type": "markdown",
   "id": "45e825d6-1cf9-41f4-a337-80f40df24f53",
   "metadata": {},
   "source": [
    "모듈 1. 캐글소개\n",
    "1. 타이타닉 경진대회\n",
    "2. 데이터 구경\n",
    "3. 캐글메뉴 소개"
   ]
  },
  {
   "cell_type": "code",
   "execution_count": null,
   "id": "c0461365-7fea-4266-ad59-3683039315c7",
   "metadata": {},
   "outputs": [],
   "source": []
  }
 ],
 "metadata": {
  "kernelspec": {
   "display_name": "Python 3 (ipykernel)",
   "language": "python",
   "name": "python3"
  },
  "language_info": {
   "codemirror_mode": {
    "name": "ipython",
    "version": 3
   },
   "file_extension": ".py",
   "mimetype": "text/x-python",
   "name": "python",
   "nbconvert_exporter": "python",
   "pygments_lexer": "ipython3",
   "version": "3.8.16"
  }
 },
 "nbformat": 4,
 "nbformat_minor": 5
}
