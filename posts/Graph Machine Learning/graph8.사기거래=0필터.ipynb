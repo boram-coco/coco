{
 "cells": [
  {
   "cell_type": "raw",
   "id": "2d3bccd3-61cb-41da-aade-03fa9e019674",
   "metadata": {},
   "source": [
    "---\n",
    "title: \"CH8. 신용카드 거래 분석(사기거래=0제외:_df2)\"\n",
    "author: \"김보람\"\n",
    "date: \"04/16/2023\"\n",
    "categories:\n",
    "  - graph\n",
    "---"
   ]
  },
  {
   "cell_type": "markdown",
   "id": "186ff057-aa4b-4c34-95be-fa3e78910135",
   "metadata": {},
   "source": [
    "> df에서 사기거래가 한 번이라도 있었던 사람의 데이터만 모아서 학습시켜봄. 즉, 사기거래가 한번이라도 없던 사람의 데이터는 제거했다."
   ]
  },
  {
   "cell_type": "code",
   "execution_count": 2,
   "id": "684974fd-9c59-4721-a371-2bf29b0197ea",
   "metadata": {},
   "outputs": [],
   "source": [
    "import pandas as pd\n",
    "import numpy as np\n",
    "import matplotlib.pyplot as plt"
   ]
  },
  {
   "cell_type": "code",
   "execution_count": 3,
   "id": "c9575792-7113-4c37-95eb-093fb94e844f",
   "metadata": {},
   "outputs": [],
   "source": [
    "_df = pd.read_csv(\"fraudTrain.csv\")"
   ]
  },
  {
   "cell_type": "code",
   "execution_count": 4,
   "id": "5c580b86-81c7-4abb-8a97-94150569615c",
   "metadata": {},
   "outputs": [],
   "source": [
    "cus_list = set(_df.query('is_fraud==1').cc_num.tolist())\n",
    "_df2 = _df.query(\"cc_num in @ cus_list\")\n",
    "_df2 = _df2.assign(time= list(map(lambda x: int(x.split(' ')[-1].split(':')[0]), _df2['trans_date_trans_time'])))"
   ]
  },
  {
   "cell_type": "code",
   "execution_count": 5,
   "id": "e108fe5b-ecaa-4ee9-b507-c7cdcef39944",
   "metadata": {},
   "outputs": [
    {
     "data": {
      "text/plain": [
       "(651430, 24)"
      ]
     },
     "execution_count": 5,
     "metadata": {},
     "output_type": "execute_result"
    }
   ],
   "source": [
    "_df2.shape"
   ]
  },
  {
   "cell_type": "code",
   "execution_count": null,
   "id": "8288fc56-67e3-411a-8a5b-9317fad3071e",
   "metadata": {},
   "outputs": [],
   "source": []
  },
  {
   "cell_type": "code",
   "execution_count": 6,
   "id": "5c716391-5a00-4fd8-badf-ec36fae5e498",
   "metadata": {},
   "outputs": [
    {
     "data": {
      "text/plain": [
       "Index(['Unnamed: 0', 'trans_date_trans_time', 'cc_num', 'merchant', 'category',\n",
       "       'amt', 'first', 'last', 'gender', 'street', 'city', 'state', 'zip',\n",
       "       'lat', 'long', 'city_pop', 'job', 'dob', 'trans_num', 'unix_time',\n",
       "       'merch_lat', 'merch_long', 'is_fraud', 'time'],\n",
       "      dtype='object')"
      ]
     },
     "execution_count": 6,
     "metadata": {},
     "output_type": "execute_result"
    }
   ],
   "source": [
    "_df2.columns"
   ]
  },
  {
   "cell_type": "code",
   "execution_count": 7,
   "id": "712b9c3c-5c29-4f23-b95e-d4bee20b0e57",
   "metadata": {},
   "outputs": [
    {
     "name": "stdout",
     "output_type": "stream",
     "text": [
      "<class 'pandas.core.frame.DataFrame'>\n",
      "Int64Index: 651430 entries, 3 to 1048574\n",
      "Data columns (total 24 columns):\n",
      " #   Column                 Non-Null Count   Dtype  \n",
      "---  ------                 --------------   -----  \n",
      " 0   Unnamed: 0             651430 non-null  int64  \n",
      " 1   trans_date_trans_time  651430 non-null  object \n",
      " 2   cc_num                 651430 non-null  float64\n",
      " 3   merchant               651430 non-null  object \n",
      " 4   category               651430 non-null  object \n",
      " 5   amt                    651430 non-null  float64\n",
      " 6   first                  651430 non-null  object \n",
      " 7   last                   651430 non-null  object \n",
      " 8   gender                 651430 non-null  object \n",
      " 9   street                 651430 non-null  object \n",
      " 10  city                   651430 non-null  object \n",
      " 11  state                  651430 non-null  object \n",
      " 12  zip                    651430 non-null  int64  \n",
      " 13  lat                    651430 non-null  float64\n",
      " 14  long                   651430 non-null  float64\n",
      " 15  city_pop               651430 non-null  int64  \n",
      " 16  job                    651430 non-null  object \n",
      " 17  dob                    651430 non-null  object \n",
      " 18  trans_num              651430 non-null  object \n",
      " 19  unix_time              651430 non-null  int64  \n",
      " 20  merch_lat              651430 non-null  float64\n",
      " 21  merch_long             651430 non-null  float64\n",
      " 22  is_fraud               651430 non-null  int64  \n",
      " 23  time                   651430 non-null  int64  \n",
      "dtypes: float64(6), int64(6), object(12)\n",
      "memory usage: 124.3+ MB\n"
     ]
    }
   ],
   "source": [
    "_df2.info()"
   ]
  },
  {
   "cell_type": "code",
   "execution_count": 8,
   "id": "10d8945f-8bea-45ad-bbc1-492e303adba3",
   "metadata": {},
   "outputs": [
    {
     "data": {
      "text/plain": [
       "0    645424\n",
       "1      6006\n",
       "Name: is_fraud, dtype: int64"
      ]
     },
     "execution_count": 8,
     "metadata": {},
     "output_type": "execute_result"
    }
   ],
   "source": [
    "_df2[\"is_fraud\"].value_counts()"
   ]
  },
  {
   "cell_type": "code",
   "execution_count": 9,
   "id": "087fdf68-baa5-4ba9-a565-e5c436b21d5b",
   "metadata": {},
   "outputs": [
    {
     "data": {
      "text/plain": [
       "0    0.99078\n",
       "1    0.00922\n",
       "Name: is_fraud, dtype: float64"
      ]
     },
     "execution_count": 9,
     "metadata": {},
     "output_type": "execute_result"
    }
   ],
   "source": [
    "_df2[\"is_fraud\"].value_counts()/len(_df2)"
   ]
  },
  {
   "cell_type": "code",
   "execution_count": 11,
   "id": "0fe781ee-2742-4c5f-9004-1cd8eed6f137",
   "metadata": {},
   "outputs": [
    {
     "data": {
      "text/html": [
       "<div>\n",
       "<style scoped>\n",
       "    .dataframe tbody tr th:only-of-type {\n",
       "        vertical-align: middle;\n",
       "    }\n",
       "\n",
       "    .dataframe tbody tr th {\n",
       "        vertical-align: top;\n",
       "    }\n",
       "\n",
       "    .dataframe thead th {\n",
       "        text-align: right;\n",
       "    }\n",
       "</style>\n",
       "<table border=\"1\" class=\"dataframe\">\n",
       "  <thead>\n",
       "    <tr style=\"text-align: right;\">\n",
       "      <th></th>\n",
       "      <th>Unnamed: 0</th>\n",
       "      <th>trans_date_trans_time</th>\n",
       "      <th>cc_num</th>\n",
       "      <th>merchant</th>\n",
       "      <th>category</th>\n",
       "      <th>amt</th>\n",
       "      <th>first</th>\n",
       "      <th>last</th>\n",
       "      <th>gender</th>\n",
       "      <th>street</th>\n",
       "      <th>...</th>\n",
       "      <th>long</th>\n",
       "      <th>city_pop</th>\n",
       "      <th>job</th>\n",
       "      <th>dob</th>\n",
       "      <th>trans_num</th>\n",
       "      <th>unix_time</th>\n",
       "      <th>merch_lat</th>\n",
       "      <th>merch_long</th>\n",
       "      <th>is_fraud</th>\n",
       "      <th>time</th>\n",
       "    </tr>\n",
       "  </thead>\n",
       "  <tbody>\n",
       "    <tr>\n",
       "      <th>3</th>\n",
       "      <td>3</td>\n",
       "      <td>2019-01-01 0:01</td>\n",
       "      <td>3.534090e+15</td>\n",
       "      <td>fraud_Kutch, Hermiston and Farrell</td>\n",
       "      <td>gas_transport</td>\n",
       "      <td>45.00</td>\n",
       "      <td>Jeremy</td>\n",
       "      <td>White</td>\n",
       "      <td>M</td>\n",
       "      <td>9443 Cynthia Court Apt. 038</td>\n",
       "      <td>...</td>\n",
       "      <td>-112.1138</td>\n",
       "      <td>1939</td>\n",
       "      <td>Patent attorney</td>\n",
       "      <td>1967-01-12</td>\n",
       "      <td>6b849c168bdad6f867558c3793159a81</td>\n",
       "      <td>1325376076</td>\n",
       "      <td>47.034331</td>\n",
       "      <td>-112.561071</td>\n",
       "      <td>0</td>\n",
       "      <td>0</td>\n",
       "    </tr>\n",
       "    <tr>\n",
       "      <th>5</th>\n",
       "      <td>5</td>\n",
       "      <td>2019-01-01 0:04</td>\n",
       "      <td>4.767270e+15</td>\n",
       "      <td>fraud_Stroman, Hudson and Erdman</td>\n",
       "      <td>gas_transport</td>\n",
       "      <td>94.63</td>\n",
       "      <td>Jennifer</td>\n",
       "      <td>Conner</td>\n",
       "      <td>F</td>\n",
       "      <td>4655 David Island</td>\n",
       "      <td>...</td>\n",
       "      <td>-75.2045</td>\n",
       "      <td>2158</td>\n",
       "      <td>Transport planner</td>\n",
       "      <td>1961-06-19</td>\n",
       "      <td>189a841a0a8ba03058526bcfe566aab5</td>\n",
       "      <td>1325376248</td>\n",
       "      <td>40.653382</td>\n",
       "      <td>-76.152667</td>\n",
       "      <td>0</td>\n",
       "      <td>0</td>\n",
       "    </tr>\n",
       "    <tr>\n",
       "      <th>6</th>\n",
       "      <td>6</td>\n",
       "      <td>2019-01-01 0:04</td>\n",
       "      <td>3.007470e+13</td>\n",
       "      <td>fraud_Rowe-Vandervort</td>\n",
       "      <td>grocery_net</td>\n",
       "      <td>44.54</td>\n",
       "      <td>Kelsey</td>\n",
       "      <td>Richards</td>\n",
       "      <td>F</td>\n",
       "      <td>889 Sarah Station Suite 624</td>\n",
       "      <td>...</td>\n",
       "      <td>-100.9893</td>\n",
       "      <td>2691</td>\n",
       "      <td>Arboriculturist</td>\n",
       "      <td>1993-08-16</td>\n",
       "      <td>83ec1cc84142af6e2acf10c44949e720</td>\n",
       "      <td>1325376282</td>\n",
       "      <td>37.162705</td>\n",
       "      <td>-100.153370</td>\n",
       "      <td>0</td>\n",
       "      <td>0</td>\n",
       "    </tr>\n",
       "    <tr>\n",
       "      <th>7</th>\n",
       "      <td>7</td>\n",
       "      <td>2019-01-01 0:05</td>\n",
       "      <td>6.011360e+15</td>\n",
       "      <td>fraud_Corwin-Collins</td>\n",
       "      <td>gas_transport</td>\n",
       "      <td>71.65</td>\n",
       "      <td>Steven</td>\n",
       "      <td>Williams</td>\n",
       "      <td>M</td>\n",
       "      <td>231 Flores Pass Suite 720</td>\n",
       "      <td>...</td>\n",
       "      <td>-78.6003</td>\n",
       "      <td>6018</td>\n",
       "      <td>Designer, multimedia</td>\n",
       "      <td>1947-08-21</td>\n",
       "      <td>6d294ed2cc447d2c71c7171a3d54967c</td>\n",
       "      <td>1325376308</td>\n",
       "      <td>38.948089</td>\n",
       "      <td>-78.540296</td>\n",
       "      <td>0</td>\n",
       "      <td>0</td>\n",
       "    </tr>\n",
       "    <tr>\n",
       "      <th>8</th>\n",
       "      <td>8</td>\n",
       "      <td>2019-01-01 0:05</td>\n",
       "      <td>4.922710e+15</td>\n",
       "      <td>fraud_Herzog Ltd</td>\n",
       "      <td>misc_pos</td>\n",
       "      <td>4.27</td>\n",
       "      <td>Heather</td>\n",
       "      <td>Chase</td>\n",
       "      <td>F</td>\n",
       "      <td>6888 Hicks Stream Suite 954</td>\n",
       "      <td>...</td>\n",
       "      <td>-79.6607</td>\n",
       "      <td>1472</td>\n",
       "      <td>Public affairs consultant</td>\n",
       "      <td>1941-03-07</td>\n",
       "      <td>fc28024ce480f8ef21a32d64c93a29f5</td>\n",
       "      <td>1325376318</td>\n",
       "      <td>40.351813</td>\n",
       "      <td>-79.958146</td>\n",
       "      <td>0</td>\n",
       "      <td>0</td>\n",
       "    </tr>\n",
       "  </tbody>\n",
       "</table>\n",
       "<p>5 rows × 24 columns</p>\n",
       "</div>"
      ],
      "text/plain": [
       "   Unnamed: 0 trans_date_trans_time        cc_num  \\\n",
       "3           3       2019-01-01 0:01  3.534090e+15   \n",
       "5           5       2019-01-01 0:04  4.767270e+15   \n",
       "6           6       2019-01-01 0:04  3.007470e+13   \n",
       "7           7       2019-01-01 0:05  6.011360e+15   \n",
       "8           8       2019-01-01 0:05  4.922710e+15   \n",
       "\n",
       "                             merchant       category    amt     first  \\\n",
       "3  fraud_Kutch, Hermiston and Farrell  gas_transport  45.00    Jeremy   \n",
       "5    fraud_Stroman, Hudson and Erdman  gas_transport  94.63  Jennifer   \n",
       "6               fraud_Rowe-Vandervort    grocery_net  44.54    Kelsey   \n",
       "7                fraud_Corwin-Collins  gas_transport  71.65    Steven   \n",
       "8                    fraud_Herzog Ltd       misc_pos   4.27   Heather   \n",
       "\n",
       "       last gender                       street  ...      long city_pop  \\\n",
       "3     White      M  9443 Cynthia Court Apt. 038  ... -112.1138     1939   \n",
       "5    Conner      F            4655 David Island  ...  -75.2045     2158   \n",
       "6  Richards      F  889 Sarah Station Suite 624  ... -100.9893     2691   \n",
       "7  Williams      M    231 Flores Pass Suite 720  ...  -78.6003     6018   \n",
       "8     Chase      F  6888 Hicks Stream Suite 954  ...  -79.6607     1472   \n",
       "\n",
       "                         job         dob                         trans_num  \\\n",
       "3            Patent attorney  1967-01-12  6b849c168bdad6f867558c3793159a81   \n",
       "5          Transport planner  1961-06-19  189a841a0a8ba03058526bcfe566aab5   \n",
       "6            Arboriculturist  1993-08-16  83ec1cc84142af6e2acf10c44949e720   \n",
       "7       Designer, multimedia  1947-08-21  6d294ed2cc447d2c71c7171a3d54967c   \n",
       "8  Public affairs consultant  1941-03-07  fc28024ce480f8ef21a32d64c93a29f5   \n",
       "\n",
       "    unix_time  merch_lat  merch_long is_fraud  time  \n",
       "3  1325376076  47.034331 -112.561071        0     0  \n",
       "5  1325376248  40.653382  -76.152667        0     0  \n",
       "6  1325376282  37.162705 -100.153370        0     0  \n",
       "7  1325376308  38.948089  -78.540296        0     0  \n",
       "8  1325376318  40.351813  -79.958146        0     0  \n",
       "\n",
       "[5 rows x 24 columns]"
      ]
     },
     "execution_count": 11,
     "metadata": {},
     "output_type": "execute_result"
    }
   ],
   "source": [
    "_df2.head()"
   ]
  },
  {
   "cell_type": "code",
   "execution_count": 12,
   "id": "6fb7dea4-2caa-4282-bd32-e6d9b4cd8deb",
   "metadata": {},
   "outputs": [],
   "source": [
    "df = _df2"
   ]
  },
  {
   "cell_type": "code",
   "execution_count": 14,
   "id": "f1d07dd1-3f49-44ad-bf2d-78a396eb014c",
   "metadata": {},
   "outputs": [],
   "source": [
    "import os\n",
    "import math\n",
    "import numpy as np\n",
    "import networkx as nx\n",
    "import matplotlib.pyplot as plt\n",
    "%matplotlib inline\n",
    "\n",
    "default_edge_color = 'gray'\n",
    "default_node_color = '#407cc9'\n",
    "enhanced_node_color = '#f5b042'\n",
    "enhanced_edge_color = '#cc2f04'"
   ]
  },
  {
   "cell_type": "code",
   "execution_count": 15,
   "id": "b6847d6c-7195-40c0-8db4-9a6510210622",
   "metadata": {},
   "outputs": [],
   "source": [
    "def build_graph_bipartite(df_input, graph_type=nx.Graph()):\n",
    "    df=df_input.copy()\n",
    "    mapping={x:node_id for node_id, x in enumerate(set(df[\"cc_num\"].values.tolist()+\\\n",
    "                                                      df[\"merchant\"].values.tolist()))}\n",
    "    \n",
    "    df[\"from\"]=df[\"cc_num\"].apply(lambda x:mapping[x])  #엣지의 출발점\n",
    "    df[\"to\"]=df[\"merchant\"].apply(lambda x:mapping[x])  #엣지의 도착점\n",
    "    \n",
    "    df = df[['from', 'to', \"amt\", \"is_fraud\"]].groupby(['from','to']).agg({\"is_fraud\":\"sum\",\"amt\":\"sum\"}).reset_index()\n",
    "    df[\"is_fraud\"]=df[\"is_fraud\"].apply(lambda x:1 if x>0 else 0)\n",
    "    \n",
    "    G=nx.from_edgelist(df[[\"from\",\"to\"]].values, create_using=graph_type)\n",
    "    \n",
    "    nx.set_edge_attributes(G, {(int(x[\"from\"]),int(x[\"to\"])):x[\"is_fraud\"] for idx, x in df[[\"from\",\"to\",\"is_fraud\"]].iterrows()}, \"label\")  #엣지 속성 설정,각 속성의 사기 여부부 \n",
    "    \n",
    "    nx.set_edge_attributes(G,{(int(x[\"from\"]),int(x[\"to\"])):x[\"amt\"] for idx,x in df[[\"from\",\"to\",\"amt\"]].iterrows()}, \"weight\") # 엣지 속성 설정, 각 엣지의 거래 금액\n",
    "\n",
    "    return G"
   ]
  },
  {
   "cell_type": "code",
   "execution_count": 16,
   "id": "cef15dd1-359b-4959-9891-a9894de80630",
   "metadata": {},
   "outputs": [],
   "source": [
    "def build_graph_tripartite(df_input, graph_type=nx.Graph()):\n",
    "    df=df_input.copy()\n",
    "    mapping={x:node_id for node_id, x in enumerate(set(df.index.values.tolist() + \n",
    "                                                       df[\"cc_num\"].values.tolist() +\n",
    "                                                       df[\"merchant\"].values.tolist()))}\n",
    "    df[\"in_node\"]= df[\"cc_num\"].apply(lambda x: mapping[x])\n",
    "    df[\"out_node\"]=df[\"merchant\"].apply(lambda x:mapping[x])\n",
    "    \n",
    "        \n",
    "    G=nx.from_edgelist([(x[\"in_node\"], mapping[idx]) for idx, x in df.iterrows()] +\\\n",
    "                        [(x[\"out_node\"], mapping[idx]) for idx, x in df.iterrows()], create_using=graph_type)\n",
    "    \n",
    "    nx.set_edge_attributes(G,{(x[\"in_node\"], mapping[idx]):x[\"is_fraud\"] for idx, x in df.iterrows()}, \"label\")\n",
    "     \n",
    "    nx.set_edge_attributes(G,{(x[\"out_node\"], mapping[idx]):x[\"is_fraud\"] for idx, x in df.iterrows()}, \"label\")\n",
    "    \n",
    "    nx.set_edge_attributes(G,{(x[\"in_node\"], mapping[idx]):x[\"amt\"] for idx, x in df.iterrows()}, \"weight\")\n",
    "    \n",
    "    nx.set_edge_attributes(G,{(x[\"out_node\"], mapping[idx]):x[\"amt\"] for idx, x in df.iterrows()}, \"weight\")\n",
    "    \n",
    "    \n",
    "    return G\n",
    "    "
   ]
  },
  {
   "cell_type": "code",
   "execution_count": 17,
   "id": "c59d4db1-7b3f-4421-afce-5568a104a806",
   "metadata": {},
   "outputs": [],
   "source": [
    "G_bu = build_graph_bipartite(df, nx.Graph(name=\"Bipartite Undirect\"))"
   ]
  },
  {
   "cell_type": "code",
   "execution_count": 18,
   "id": "b425d7bc-400c-4f90-8244-1701229e9fec",
   "metadata": {},
   "outputs": [],
   "source": [
    "G_tu = build_graph_tripartite(df, nx.Graph())"
   ]
  },
  {
   "cell_type": "code",
   "execution_count": 20,
   "id": "067b3de1-26f8-42fb-910f-7812c78f89f3",
   "metadata": {},
   "outputs": [
    {
     "name": "stdout",
     "output_type": "stream",
     "text": [
      "nede: 1289\n",
      "nede: 652719\n",
      "edge: 268964\n",
      "edge: 1302860\n"
     ]
    }
   ],
   "source": [
    "for G in [G_bu, G_tu]:\n",
    "    print(\"nede:\", nx.number_of_nodes(G))\n",
    "for G in [G_bu, G_tu]:\n",
    "    print(\"edge:\",nx.number_of_edges(G))"
   ]
  },
  {
   "cell_type": "code",
   "execution_count": 22,
   "id": "942de23d-5ca5-4d42-8382-f1494479460f",
   "metadata": {},
   "outputs": [
    {
     "name": "stdout",
     "output_type": "stream",
     "text": [
      "-0.37874509971252246\n",
      "-0.7222260615980979\n"
     ]
    }
   ],
   "source": [
    "for G in [G_bu, G_tu]:\n",
    "    print(nx.degree_pearson_correlation_coefficient(G))"
   ]
  },
  {
   "cell_type": "code",
   "execution_count": 23,
   "id": "5b3657a8-c130-41f4-b33d-39d7faa25b09",
   "metadata": {},
   "outputs": [],
   "source": [
    "import networkx as nx\n",
    "import community"
   ]
  },
  {
   "cell_type": "code",
   "execution_count": 24,
   "id": "57e76eb6-f5f6-4bb7-a4c6-e45862675532",
   "metadata": {},
   "outputs": [],
   "source": [
    "import community\n",
    "for G in [G_bu, G_tu]:\n",
    "    parts = community.best_partition(G, random_state=42, weight='weight')"
   ]
  },
  {
   "cell_type": "code",
   "execution_count": 25,
   "id": "c2405c57-9829-426e-bb7d-4b0383647e33",
   "metadata": {},
   "outputs": [],
   "source": [
    "communities = pd.Series(parts)"
   ]
  },
  {
   "cell_type": "code",
   "execution_count": 26,
   "id": "41b456f7-4876-4645-a9c3-d2d08eaa481d",
   "metadata": {},
   "outputs": [
    {
     "name": "stdout",
     "output_type": "stream",
     "text": [
      "2      21225\n",
      "34      9652\n",
      "117     9362\n",
      "3       8477\n",
      "78      8384\n",
      "       ...  \n",
      "127      812\n",
      "110      793\n",
      "121      785\n",
      "103      449\n",
      "95       439\n",
      "Length: 142, dtype: int64\n"
     ]
    }
   ],
   "source": [
    "print(communities.value_counts().sort_values(ascending=False))"
   ]
  },
  {
   "cell_type": "code",
   "execution_count": 27,
   "id": "45310a5a-c7f2-40bc-a2b6-f20665f46841",
   "metadata": {},
   "outputs": [
    {
     "data": {
      "text/plain": [
       "<Axes: ylabel='Frequency'>"
      ]
     },
     "execution_count": 27,
     "metadata": {},
     "output_type": "execute_result"
    },
    {
     "data": {
      "image/png": "[encoded data removed]",
      "text/plain": [
       "<Figure size 640x480 with 1 Axes>"
      ]
     },
     "metadata": {},
     "output_type": "display_data"
    }
   ],
   "source": [
    "communities.value_counts().plot.hist(bins=20)"
   ]
  },
  {
   "cell_type": "code",
   "execution_count": 28,
   "id": "327dff89-38dd-4385-afc8-5d0bb30ad7fa",
   "metadata": {},
   "outputs": [
    {
     "data": {
      "text/plain": [
       "99     2.549511\n",
       "69     2.080000\n",
       "4      1.996198\n",
       "43     1.969697\n",
       "133    1.871491\n",
       "         ...   \n",
       "127    0.246609\n",
       "91     0.120192\n",
       "104    0.115207\n",
       "103    0.000000\n",
       "121    0.000000\n",
       "Length: 142, dtype: float64"
      ]
     },
     "execution_count": 28,
     "metadata": {},
     "output_type": "execute_result"
    }
   ],
   "source": [
    "graphs = [] # 부분그래프 저장\n",
    "d = {}  # 부정 거래 비율 저장 \n",
    "for x in communities.unique():\n",
    "    tmp = nx.subgraph(G, communities[communities==x].index)\n",
    "    fraud_edges = sum(nx.get_edge_attributes(tmp, \"label\").values())\n",
    "    ratio = 0 if fraud_edges == 0 else (fraud_edges/tmp.number_of_edges())*100\n",
    "    d[x] = ratio\n",
    "    graphs += [tmp]\n",
    "\n",
    "pd.Series(d).sort_values(ascending=False)"
   ]
  },
  {
   "cell_type": "code",
   "execution_count": 30,
   "id": "0666810e-305b-4596-af26-e63326d082c3",
   "metadata": {},
   "outputs": [
    {
     "name": "stdout",
     "output_type": "stream",
     "text": [
      "1    6006\n",
      "0    6006\n",
      "Name: is_fraud, dtype: int64\n"
     ]
    }
   ],
   "source": [
    "from sklearn.utils import resample\n",
    "\n",
    "df_majority = df[df.is_fraud==0]\n",
    "df_minority = df[df.is_fraud==1]\n",
    "\n",
    "df_maj_dowsampled = resample(df_majority,\n",
    "                             n_samples=len(df_minority),\n",
    "                             random_state=42)\n",
    "\n",
    "df_downsampled = pd.concat([df_minority, df_maj_dowsampled])\n",
    "\n",
    "print(df_downsampled.is_fraud.value_counts())\n",
    "G_down = build_graph_bipartite(df_downsampled)"
   ]
  },
  {
   "cell_type": "code",
   "execution_count": 31,
   "id": "3e720f6e-d129-4d96-a467-acfa331cbd9d",
   "metadata": {},
   "outputs": [],
   "source": [
    "from sklearn.model_selection import train_test_split\n",
    "\n",
    "\n",
    "train_edges, test_edges, train_labels, test_labels = train_test_split(list(range(len(G_down.edges))), \n",
    "                                                                      list(nx.get_edge_attributes(G_down, \"label\").values()), \n",
    "                                                                      test_size=0.20, \n",
    "                                                                      random_state=42)"
   ]
  },
  {
   "cell_type": "code",
   "execution_count": 32,
   "id": "e2df7135-cbd2-4485-93b4-7a631e8fc7a6",
   "metadata": {},
   "outputs": [],
   "source": [
    "edgs = list(G_down.edges)\n",
    "train_graph = G_down.edge_subgraph([edgs[x] for x in train_edges]).copy()\n",
    "train_graph.add_nodes_from(list(set(G_down.nodes) - set(train_graph.nodes)))"
   ]
  },
  {
   "cell_type": "code",
   "execution_count": 33,
   "id": "682b265a-080c-4050-b4ea-ec5f14b0a89e",
   "metadata": {},
   "outputs": [
    {
     "data": {
      "application/vnd.jupyter.widget-view+json": {
       "model_id": "17d3bab9973b4276adbd55fbfd683b5e",
       "version_major": 2,
       "version_minor": 0
      },
      "text/plain": [
       "HBox(children=(FloatProgress(value=0.0, description='Computing transition probabilities', max=1288.0, style=Pr…"
      ]
     },
     "metadata": {},
     "output_type": "display_data"
    },
    {
     "name": "stderr",
     "output_type": "stream",
     "text": [
      "Generating walks (CPU: 1):   0%|          | 0/10 [00:00<?, ?it/s]"
     ]
    },
    {
     "name": "stdout",
     "output_type": "stream",
     "text": [
      "\n"
     ]
    },
    {
     "name": "stderr",
     "output_type": "stream",
     "text": [
      "Generating walks (CPU: 1): 100%|██████████| 10/10 [00:03<00:00,  3.09it/s]\n"
     ]
    }
   ],
   "source": [
    "from node2vec import Node2Vec\n",
    "from node2vec.edges import HadamardEmbedder, AverageEmbedder, WeightedL1Embedder, WeightedL2Embedder\n",
    "\n",
    "node2vec_train = Node2Vec(train_graph, weight_key='weight')\n",
    "model_train = node2vec_train.fit(window=10)"
   ]
  },
  {
   "cell_type": "code",
   "execution_count": 34,
   "id": "ac75676f-b83d-4797-bfec-e8da6cd3d4e7",
   "metadata": {},
   "outputs": [
    {
     "name": "stdout",
     "output_type": "stream",
     "text": [
      "<class 'node2vec.edges.HadamardEmbedder'>\n",
      "Precision: 0.5428571428571428\n",
      "Recall: 0.016725352112676055\n",
      "F1-Score: 0.032450896669513236\n",
      "<class 'node2vec.edges.AverageEmbedder'>\n",
      "Precision: 0.6840981856990395\n",
      "Recall: 0.5642605633802817\n",
      "F1-Score: 0.6184273999035215\n",
      "<class 'node2vec.edges.WeightedL1Embedder'>\n",
      "Precision: 0.45454545454545453\n",
      "Recall: 0.022007042253521125\n",
      "F1-Score: 0.041981528127623846\n",
      "<class 'node2vec.edges.WeightedL2Embedder'>\n",
      "Precision: 0.46296296296296297\n",
      "Recall: 0.022007042253521125\n",
      "F1-Score: 0.04201680672268907\n"
     ]
    }
   ],
   "source": [
    "from sklearn.ensemble import RandomForestClassifier \n",
    "from sklearn import metrics \n",
    "\n",
    "classes = [HadamardEmbedder, AverageEmbedder, WeightedL1Embedder, WeightedL2Embedder]\n",
    "for cl in classes:\n",
    "    embeddings_train = cl(keyed_vectors=model_train.wv) \n",
    "\n",
    "    train_embeddings = [embeddings_train[str(edgs[x][0]), str(edgs[x][1])] for x in train_edges]\n",
    "    test_embeddings = [embeddings_train[str(edgs[x][0]), str(edgs[x][1])] for x in test_edges]\n",
    "    \n",
    "    rf = RandomForestClassifier(n_estimators=1000, random_state=42) \n",
    "    rf.fit(train_embeddings, train_labels); \n",
    "\n",
    "    y_pred = rf.predict(test_embeddings)\n",
    "    print(cl)\n",
    "    print('Precision:', metrics.precision_score(test_labels, y_pred)) \n",
    "    print('Recall:', metrics.recall_score(test_labels, y_pred)) \n",
    "    print('F1-Score:', metrics.f1_score(test_labels, y_pred)) "
   ]
  },
  {
   "cell_type": "markdown",
   "id": "44b705b7-3d29-48ec-a0a2-057b1626e9e5",
   "metadata": {},
   "source": [
    "오히려 f1score가 낮아졌다..."
   ]
  },
  {
   "cell_type": "code",
   "execution_count": null,
   "id": "e8199e59-87f3-49fe-9232-0844fbd17abe",
   "metadata": {},
   "outputs": [],
   "source": []
  }
 ],
 "metadata": {
  "kernelspec": {
   "display_name": "Python 3 (ipykernel)",
   "language": "python",
   "name": "python3"
  },
  "language_info": {
   "codemirror_mode": {
    "name": "ipython",
    "version": 3
   },
   "file_extension": ".py",
   "mimetype": "text/x-python",
   "name": "python",
   "nbconvert_exporter": "python",
   "pygments_lexer": "ipython3",
   "version": "3.8.16"
  }
 },
 "nbformat": 4,
 "nbformat_minor": 5
}
