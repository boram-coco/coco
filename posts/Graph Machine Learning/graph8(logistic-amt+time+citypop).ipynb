{
 "cells": [
  {
   "cell_type": "raw",
   "id": "f0e05e45-98d8-4b5e-8e5d-efbad52a2dd6",
   "metadata": {},
   "source": [
    "---\n",
    "title: \"CH8. 신용카드 거래 분석(로지스틱amt+time+city_pop-f1:0.986655)\"\n",
    "author: \"김보람\"\n",
    "date: \"04/27/2023\"\n",
    "categories:\n",
    "  - graph\n",
    "---"
   ]
  },
  {
   "cell_type": "code",
   "execution_count": 96,
   "id": "684974fd-9c59-4721-a371-2bf29b0197ea",
   "metadata": {},
   "outputs": [],
   "source": [
    "import pandas as pd\n",
    "import numpy as np\n",
    "import matplotlib.pyplot as plt"
   ]
  },
  {
   "cell_type": "code",
   "execution_count": 97,
   "id": "c9575792-7113-4c37-95eb-093fb94e844f",
   "metadata": {},
   "outputs": [],
   "source": [
    "_df = pd.read_csv(\"fraudTrain.csv\")"
   ]
  },
  {
   "cell_type": "code",
   "execution_count": 98,
   "id": "5c580b86-81c7-4abb-8a97-94150569615c",
   "metadata": {},
   "outputs": [],
   "source": [
    "cus_list = set(_df.query('is_fraud==1').cc_num.tolist())\n",
    "_df2 = _df.query(\"cc_num in @ cus_list\")\n",
    "_df2 = _df2.assign(time= list(map(lambda x: int(x.split(' ')[-1].split(':')[0]), _df2['trans_date_trans_time'])))"
   ]
  },
  {
   "cell_type": "code",
   "execution_count": 99,
   "id": "e108fe5b-ecaa-4ee9-b507-c7cdcef39944",
   "metadata": {},
   "outputs": [
    {
     "data": {
      "text/plain": [
       "(651430, 24)"
      ]
     },
     "execution_count": 99,
     "metadata": {},
     "output_type": "execute_result"
    }
   ],
   "source": [
    "_df2.shape"
   ]
  },
  {
   "cell_type": "code",
   "execution_count": null,
   "id": "8288fc56-67e3-411a-8a5b-9317fad3071e",
   "metadata": {},
   "outputs": [],
   "source": []
  },
  {
   "cell_type": "code",
   "execution_count": 18,
   "id": "5c716391-5a00-4fd8-badf-ec36fae5e498",
   "metadata": {},
   "outputs": [
    {
     "data": {
      "text/plain": [
       "Index(['Unnamed: 0', 'trans_date_trans_time', 'cc_num', 'merchant', 'category',\n",
       "       'amt', 'first', 'last', 'gender', 'street', 'city', 'state', 'zip',\n",
       "       'lat', 'long', 'city_pop', 'job', 'dob', 'trans_num', 'unix_time',\n",
       "       'merch_lat', 'merch_long', 'is_fraud', 'time'],\n",
       "      dtype='object')"
      ]
     },
     "execution_count": 18,
     "metadata": {},
     "output_type": "execute_result"
    }
   ],
   "source": [
    "_df2.columns"
   ]
  },
  {
   "cell_type": "code",
   "execution_count": 19,
   "id": "712b9c3c-5c29-4f23-b95e-d4bee20b0e57",
   "metadata": {},
   "outputs": [
    {
     "name": "stdout",
     "output_type": "stream",
     "text": [
      "<class 'pandas.core.frame.DataFrame'>\n",
      "Int64Index: 651430 entries, 3 to 1048574\n",
      "Data columns (total 24 columns):\n",
      " #   Column                 Non-Null Count   Dtype  \n",
      "---  ------                 --------------   -----  \n",
      " 0   Unnamed: 0             651430 non-null  int64  \n",
      " 1   trans_date_trans_time  651430 non-null  object \n",
      " 2   cc_num                 651430 non-null  float64\n",
      " 3   merchant               651430 non-null  object \n",
      " 4   category               651430 non-null  object \n",
      " 5   amt                    651430 non-null  float64\n",
      " 6   first                  651430 non-null  object \n",
      " 7   last                   651430 non-null  object \n",
      " 8   gender                 651430 non-null  object \n",
      " 9   street                 651430 non-null  object \n",
      " 10  city                   651430 non-null  object \n",
      " 11  state                  651430 non-null  object \n",
      " 12  zip                    651430 non-null  int64  \n",
      " 13  lat                    651430 non-null  float64\n",
      " 14  long                   651430 non-null  float64\n",
      " 15  city_pop               651430 non-null  int64  \n",
      " 16  job                    651430 non-null  object \n",
      " 17  dob                    651430 non-null  object \n",
      " 18  trans_num              651430 non-null  object \n",
      " 19  unix_time              651430 non-null  int64  \n",
      " 20  merch_lat              651430 non-null  float64\n",
      " 21  merch_long             651430 non-null  float64\n",
      " 22  is_fraud               651430 non-null  int64  \n",
      " 23  time                   651430 non-null  int64  \n",
      "dtypes: float64(6), int64(6), object(12)\n",
      "memory usage: 124.3+ MB\n"
     ]
    }
   ],
   "source": [
    "_df2.info()"
   ]
  },
  {
   "cell_type": "markdown",
   "id": "07378bfe-aa48-4ef4-a109-c84ef8219ee2",
   "metadata": {},
   "source": [
    "`merch_lat`과 `merch_long` 은 상점의 위도 경도, 위의 lat과 long은 고객의 ??\n",
    "\n",
    "`dob`는 생년월일(date of birth)을 나타내는 변수\n",
    "\n",
    "`unix_time` 1970년 1월 1일 0시 0분 0초(UTC)부터 경과된 시간을 초(second) 단위로 표현하는 방법\n",
    "\n",
    "`zip` 우편번호\n",
    "\n",
    "`"
   ]
  },
  {
   "cell_type": "code",
   "execution_count": 57,
   "id": "767c47e3-d2ca-4b37-a80e-cb1264cf0bf9",
   "metadata": {},
   "outputs": [
    {
     "data": {
      "text/plain": [
       "576"
      ]
     },
     "execution_count": 57,
     "metadata": {},
     "output_type": "execute_result"
    }
   ],
   "source": [
    "len(set(_df2['city']))"
   ]
  },
  {
   "cell_type": "code",
   "execution_count": 20,
   "id": "10d8945f-8bea-45ad-bbc1-492e303adba3",
   "metadata": {},
   "outputs": [
    {
     "data": {
      "text/plain": [
       "0    645424\n",
       "1      6006\n",
       "Name: is_fraud, dtype: int64"
      ]
     },
     "execution_count": 20,
     "metadata": {},
     "output_type": "execute_result"
    }
   ],
   "source": [
    "_df2[\"is_fraud\"].value_counts()"
   ]
  },
  {
   "cell_type": "code",
   "execution_count": 21,
   "id": "087fdf68-baa5-4ba9-a565-e5c436b21d5b",
   "metadata": {},
   "outputs": [
    {
     "data": {
      "text/plain": [
       "0    0.99078\n",
       "1    0.00922\n",
       "Name: is_fraud, dtype: float64"
      ]
     },
     "execution_count": 21,
     "metadata": {},
     "output_type": "execute_result"
    }
   ],
   "source": [
    "_df2[\"is_fraud\"].value_counts()/len(_df2)"
   ]
  },
  {
   "cell_type": "code",
   "execution_count": 22,
   "id": "f2018f37-0783-4471-864f-f35d7dd42d85",
   "metadata": {},
   "outputs": [
    {
     "data": {
      "text/html": [
       "<div>\n",
       "<style scoped>\n",
       "    .dataframe tbody tr th:only-of-type {\n",
       "        vertical-align: middle;\n",
       "    }\n",
       "\n",
       "    .dataframe tbody tr th {\n",
       "        vertical-align: top;\n",
       "    }\n",
       "\n",
       "    .dataframe thead th {\n",
       "        text-align: right;\n",
       "    }\n",
       "</style>\n",
       "<table border=\"1\" class=\"dataframe\">\n",
       "  <thead>\n",
       "    <tr style=\"text-align: right;\">\n",
       "      <th></th>\n",
       "      <th>city_pop</th>\n",
       "      <th>amt</th>\n",
       "      <th>time</th>\n",
       "    </tr>\n",
       "    <tr>\n",
       "      <th>is_fraud</th>\n",
       "      <th></th>\n",
       "      <th></th>\n",
       "      <th></th>\n",
       "    </tr>\n",
       "  </thead>\n",
       "  <tbody>\n",
       "    <tr>\n",
       "      <th>0</th>\n",
       "      <td>83870.443845</td>\n",
       "      <td>67.743047</td>\n",
       "      <td>12.813152</td>\n",
       "    </tr>\n",
       "    <tr>\n",
       "      <th>1</th>\n",
       "      <td>96323.951715</td>\n",
       "      <td>530.573492</td>\n",
       "      <td>13.915917</td>\n",
       "    </tr>\n",
       "  </tbody>\n",
       "</table>\n",
       "</div>"
      ],
      "text/plain": [
       "              city_pop         amt       time\n",
       "is_fraud                                     \n",
       "0         83870.443845   67.743047  12.813152\n",
       "1         96323.951715  530.573492  13.915917"
      ]
     },
     "execution_count": 22,
     "metadata": {},
     "output_type": "execute_result"
    }
   ],
   "source": [
    "_df2.groupby(by=['is_fraud']).agg({'city_pop':np.mean,'amt':np.mean,'time':np.mean})"
   ]
  },
  {
   "cell_type": "code",
   "execution_count": 41,
   "id": "f85fe0a2-acfb-451d-98d5-8720547ef3c7",
   "metadata": {},
   "outputs": [],
   "source": [
    "_df3=_df2[['amt','time','city_pop','is_fraud']]"
   ]
  },
  {
   "cell_type": "code",
   "execution_count": 42,
   "id": "048f9420-a24b-4ab5-9e08-fea36104b3a3",
   "metadata": {},
   "outputs": [
    {
     "name": "stdout",
     "output_type": "stream",
     "text": [
      "<class 'pandas.core.frame.DataFrame'>\n",
      "Int64Index: 651430 entries, 3 to 1048574\n",
      "Data columns (total 4 columns):\n",
      " #   Column    Non-Null Count   Dtype  \n",
      "---  ------    --------------   -----  \n",
      " 0   amt       651430 non-null  float64\n",
      " 1   time      651430 non-null  int64  \n",
      " 2   city_pop  651430 non-null  int64  \n",
      " 3   is_fraud  651430 non-null  int64  \n",
      "dtypes: float64(1), int64(3)\n",
      "memory usage: 24.9 MB\n"
     ]
    }
   ],
   "source": [
    "_df3.info()"
   ]
  },
  {
   "cell_type": "code",
   "execution_count": 43,
   "id": "71a5e1c1-0f0f-439b-aa46-ecc5ffc079e4",
   "metadata": {},
   "outputs": [],
   "source": [
    "data=np.hstack([_df3.values[:,:]])"
   ]
  },
  {
   "cell_type": "code",
   "execution_count": 44,
   "id": "2c5bc9fe-5aa4-4d38-a3ea-a6e6570c4c7c",
   "metadata": {},
   "outputs": [
    {
     "data": {
      "text/plain": [
       "array([[4.50000e+01, 0.00000e+00, 1.93900e+03, 0.00000e+00],\n",
       "       [9.46300e+01, 0.00000e+00, 2.15800e+03, 0.00000e+00],\n",
       "       [4.45400e+01, 0.00000e+00, 2.69100e+03, 0.00000e+00],\n",
       "       ...,\n",
       "       [6.03000e+00, 1.60000e+01, 5.20000e+02, 0.00000e+00],\n",
       "       [1.16940e+02, 1.60000e+01, 1.58300e+03, 0.00000e+00],\n",
       "       [6.81000e+00, 1.60000e+01, 1.65556e+05, 0.00000e+00]])"
      ]
     },
     "execution_count": 44,
     "metadata": {},
     "output_type": "execute_result"
    }
   ],
   "source": [
    "data"
   ]
  },
  {
   "cell_type": "code",
   "execution_count": 45,
   "id": "8ba7c160-4678-44c9-9d66-84ccf0a2f62a",
   "metadata": {},
   "outputs": [],
   "source": [
    "X = data[:,:-1]\n",
    "y = data[:,-1]"
   ]
  },
  {
   "cell_type": "code",
   "execution_count": null,
   "id": "2eab77a9-8a78-4697-b8d4-a0603cdf1677",
   "metadata": {},
   "outputs": [],
   "source": []
  },
  {
   "cell_type": "code",
   "execution_count": 46,
   "id": "d4fb117c-02dc-468c-a717-315828e328d3",
   "metadata": {},
   "outputs": [],
   "source": [
    "from sklearn.linear_model import LogisticRegression\n",
    "from sklearn.model_selection import train_test_split\n",
    "from sklearn.metrics import accuracy_score, precision_score, recall_score, f1_score"
   ]
  },
  {
   "cell_type": "code",
   "execution_count": 47,
   "id": "2e6a6e8d-662a-4f03-a69e-43fbe87de15f",
   "metadata": {},
   "outputs": [],
   "source": [
    "X_train, X_test, y_train, y_test = train_test_split(X,y, test_size=0.2)"
   ]
  },
  {
   "cell_type": "code",
   "execution_count": 48,
   "id": "0f58080e-f0e9-4d7a-8914-fd42b5b23b3d",
   "metadata": {},
   "outputs": [],
   "source": [
    "lr = LogisticRegression()"
   ]
  },
  {
   "cell_type": "code",
   "execution_count": 49,
   "id": "5db39836-9a52-4e8d-a652-8667c65ca056",
   "metadata": {},
   "outputs": [
    {
     "data": {
      "text/html": [
       "<style>#sk-container-id-1 {color: black;background-color: white;}#sk-container-id-1 pre{padding: 0;}#sk-container-id-1 div.sk-toggleable {background-color: white;}#sk-container-id-1 label.sk-toggleable__label {cursor: pointer;display: block;width: 100%;margin-bottom: 0;padding: 0.3em;box-sizing: border-box;text-align: center;}#sk-container-id-1 label.sk-toggleable__label-arrow:before {content: \"▸\";float: left;margin-right: 0.25em;color: #696969;}#sk-container-id-1 label.sk-toggleable__label-arrow:hover:before {color: black;}#sk-container-id-1 div.sk-estimator:hover label.sk-toggleable__label-arrow:before {color: black;}#sk-container-id-1 div.sk-toggleable__content {max-height: 0;max-width: 0;overflow: hidden;text-align: left;background-color: #f0f8ff;}#sk-container-id-1 div.sk-toggleable__content pre {margin: 0.2em;color: black;border-radius: 0.25em;background-color: #f0f8ff;}#sk-container-id-1 input.sk-toggleable__control:checked~div.sk-toggleable__content {max-height: 200px;max-width: 100%;overflow: auto;}#sk-container-id-1 input.sk-toggleable__control:checked~label.sk-toggleable__label-arrow:before {content: \"▾\";}#sk-container-id-1 div.sk-estimator input.sk-toggleable__control:checked~label.sk-toggleable__label {background-color: #d4ebff;}#sk-container-id-1 div.sk-label input.sk-toggleable__control:checked~label.sk-toggleable__label {background-color: #d4ebff;}#sk-container-id-1 input.sk-hidden--visually {border: 0;clip: rect(1px 1px 1px 1px);clip: rect(1px, 1px, 1px, 1px);height: 1px;margin: -1px;overflow: hidden;padding: 0;position: absolute;width: 1px;}#sk-container-id-1 div.sk-estimator {font-family: monospace;background-color: #f0f8ff;border: 1px dotted black;border-radius: 0.25em;box-sizing: border-box;margin-bottom: 0.5em;}#sk-container-id-1 div.sk-estimator:hover {background-color: #d4ebff;}#sk-container-id-1 div.sk-parallel-item::after {content: \"\";width: 100%;border-bottom: 1px solid gray;flex-grow: 1;}#sk-container-id-1 div.sk-label:hover label.sk-toggleable__label {background-color: #d4ebff;}#sk-container-id-1 div.sk-serial::before {content: \"\";position: absolute;border-left: 1px solid gray;box-sizing: border-box;top: 0;bottom: 0;left: 50%;z-index: 0;}#sk-container-id-1 div.sk-serial {display: flex;flex-direction: column;align-items: center;background-color: white;padding-right: 0.2em;padding-left: 0.2em;position: relative;}#sk-container-id-1 div.sk-item {position: relative;z-index: 1;}#sk-container-id-1 div.sk-parallel {display: flex;align-items: stretch;justify-content: center;background-color: white;position: relative;}#sk-container-id-1 div.sk-item::before, #sk-container-id-1 div.sk-parallel-item::before {content: \"\";position: absolute;border-left: 1px solid gray;box-sizing: border-box;top: 0;bottom: 0;left: 50%;z-index: -1;}#sk-container-id-1 div.sk-parallel-item {display: flex;flex-direction: column;z-index: 1;position: relative;background-color: white;}#sk-container-id-1 div.sk-parallel-item:first-child::after {align-self: flex-end;width: 50%;}#sk-container-id-1 div.sk-parallel-item:last-child::after {align-self: flex-start;width: 50%;}#sk-container-id-1 div.sk-parallel-item:only-child::after {width: 0;}#sk-container-id-1 div.sk-dashed-wrapped {border: 1px dashed gray;margin: 0 0.4em 0.5em 0.4em;box-sizing: border-box;padding-bottom: 0.4em;background-color: white;}#sk-container-id-1 div.sk-label label {font-family: monospace;font-weight: bold;display: inline-block;line-height: 1.2em;}#sk-container-id-1 div.sk-label-container {text-align: center;}#sk-container-id-1 div.sk-container {/* jupyter's `normalize.less` sets `[hidden] { display: none; }` but bootstrap.min.css set `[hidden] { display: none !important; }` so we also need the `!important` here to be able to override the default hidden behavior on the sphinx rendered scikit-learn.org. See: https://github.com/scikit-learn/scikit-learn/issues/21755 */display: inline-block !important;position: relative;}#sk-container-id-1 div.sk-text-repr-fallback {display: none;}</style><div id=\"sk-container-id-1\" class=\"sk-top-container\"><div class=\"sk-text-repr-fallback\"><pre>LogisticRegression()</pre><b>In a Jupyter environment, please rerun this cell to show the HTML representation or trust the notebook. <br />On GitHub, the HTML representation is unable to render, please try loading this page with nbviewer.org.</b></div><div class=\"sk-container\" hidden><div class=\"sk-item\"><div class=\"sk-estimator sk-toggleable\"><input class=\"sk-toggleable__control sk-hidden--visually\" id=\"sk-estimator-id-1\" type=\"checkbox\" checked><label for=\"sk-estimator-id-1\" class=\"sk-toggleable__label sk-toggleable__label-arrow\">LogisticRegression</label><div class=\"sk-toggleable__content\"><pre>LogisticRegression()</pre></div></div></div></div></div>"
      ],
      "text/plain": [
       "LogisticRegression()"
      ]
     },
     "execution_count": 49,
     "metadata": {},
     "output_type": "execute_result"
    }
   ],
   "source": [
    "lr.fit(X_train, y_train)"
   ]
  },
  {
   "cell_type": "code",
   "execution_count": 51,
   "id": "92b6ae82-76ff-4466-9105-811390641583",
   "metadata": {},
   "outputs": [],
   "source": [
    "y_pred=lr.predict(X_test)"
   ]
  },
  {
   "cell_type": "code",
   "execution_count": 59,
   "id": "0060c96a-ec3e-4b50-aaed-41c42cef07cb",
   "metadata": {},
   "outputs": [
    {
     "name": "stdout",
     "output_type": "stream",
     "text": [
      "Accuracy: 0.9902215126721213\n",
      "Precision: 0.9831134944972946\n",
      "Recall: 0.9902215126721213\n",
      "F1 score: 0.9866547019260462\n"
     ]
    }
   ],
   "source": [
    "acc= accuracy_score(y_test, y_pred)\n",
    "precision = precision_score(y_test, y_pred, average='weighted')\n",
    "recall = recall_score(y_test, y_pred, average='weighted')\n",
    "f1score = f1_score(y_test, y_pred, average='weighted')\n",
    "print(\"Accuracy: {}\".format(acc))\n",
    "print(\"Precision: {}\".format(precision))\n",
    "print(\"Recall: {}\".format(recall))\n",
    "print(\"F1 score: {}\".format(f1score))"
   ]
  },
  {
   "cell_type": "code",
   "execution_count": 53,
   "id": "9d2585a0-55dd-40f9-8711-4f43f1141e1b",
   "metadata": {
    "tags": []
   },
   "outputs": [
    {
     "name": "stdout",
     "output_type": "stream",
     "text": [
      "Accuracy: 0.9902215126721213\n",
      "Precision:0.4957576316517569\n",
      "Recall: 0.49934201359322505\n",
      "F1 score: 0.49754336709114605\n"
     ]
    }
   ],
   "source": [
    "acc= accuracy_score(y_test, y_pred)\n",
    "precision = precision_score(y_test, y_pred, average='macro')\n",
    "recall = recall_score(y_test, y_pred, average='macro')\n",
    "f1score = f1_score(y_test, y_pred, average='macro')\n",
    "print(\"Accuracy: {}\".format(acc))\n",
    "print(\"Precision:{}\".format(precision))\n",
    "print(\"Recall: {}\".format(recall))\n",
    "print(\"F1 score: {}\".format(f1score))"
   ]
  },
  {
   "cell_type": "markdown",
   "id": "dad6693e-a503-4471-8bb2-6e9962a65e36",
   "metadata": {},
   "source": [
    "> f1 score가 엄청 커졌다. 이유가 뭘까? 처음에 city_pop에 대한 걸 생각했을때는 사기거래=0과 사기거래=1의 큰 차이가 없어보였는데 갑자기..."
   ]
  },
  {
   "cell_type": "code",
   "execution_count": null,
   "id": "7997cd01-c013-479d-83f7-ec4c52220f6d",
   "metadata": {},
   "outputs": [],
   "source": []
  }
 ],
 "metadata": {
  "kernelspec": {
   "display_name": "Python 3 (ipykernel)",
   "language": "python",
   "name": "python3"
  },
  "language_info": {
   "codemirror_mode": {
    "name": "ipython",
    "version": 3
   },
   "file_extension": ".py",
   "mimetype": "text/x-python",
   "name": "python",
   "nbconvert_exporter": "python",
   "pygments_lexer": "ipython3",
   "version": "3.8.16"
  }
 },
 "nbformat": 4,
 "nbformat_minor": 5
}
