{
 "cells": [
  {
   "cell_type": "code",
   "execution_count": null,
   "id": "c8a17da8-c6de-4f9a-9489-caa3537da924",
   "metadata": {},
   "outputs": [],
   "source": []
  },
  {
   "cell_type": "raw",
   "id": "1e6f3664-2206-4c42-ad36-775fd25fe4f2",
   "metadata": {},
   "source": [
    "---\n",
    "title: \"CH4. 지도 그래프 학습(특징기반방법)\"\n",
    "author: \"김보람\"\n",
    "date: \"04/06/2023\"\n",
    "categories:\n",
    "  - graph\n",
    "---"
   ]
  },
  {
   "cell_type": "markdown",
   "id": "4dfe843c-f46c-43ad-a505-7b625ac31ed2",
   "metadata": {
    "tags": []
   },
   "source": [
    "# ref"
   ]
  },
  {
   "cell_type": "markdown",
   "id": "2658b435-c458-4fa4-972e-074999f99db1",
   "metadata": {
    "tags": []
   },
   "source": [
    "- [그래프 머신러닝](https://product.kyobobook.co.kr/detail/S000200738068)\n",
    "\n",
    "- [github](https://github.com/PacktPublishing/Graph-Machine-Learning)"
   ]
  },
  {
   "cell_type": "markdown",
   "id": "8be29b74-a6b2-4274-87d8-7ce7b76769ca",
   "metadata": {},
   "source": [
    "# 특징기반방법(Feature based methods)"
   ]
  },
  {
   "cell_type": "markdown",
   "id": "54eebf52-6a4f-429a-91ef-01e0d84a9e68",
   "metadata": {},
   "source": [
    "- 설명적인 특징 집합을 특정 출력에 매핑하는 함수 찾기.\n",
    "\n",
    "- 해당 개념을 학습할 만큼 전체를 충분히 대표하도록 주의 깊게 설계.\n",
    "\n",
    "- 평균 차수, 전체 효율성, 특징정인 경로 길이에 의존\n",
    "\n"
   ]
  },
  {
   "cell_type": "code",
   "execution_count": null,
   "id": "bedc4bc4-da72-4b23-8b1f-b586d503751b",
   "metadata": {},
   "outputs": [],
   "source": []
  },
  {
   "cell_type": "code",
   "execution_count": null,
   "id": "e461aae8-3d0b-4cb1-86ef-f62023c50c53",
   "metadata": {},
   "outputs": [],
   "source": []
  },
  {
   "cell_type": "code",
   "execution_count": null,
   "id": "88f225ba-cdda-49b2-8055-504076d9311f",
   "metadata": {},
   "outputs": [],
   "source": []
  },
  {
   "cell_type": "markdown",
   "id": "0befd9d0-11bd-4e4c-bbcb-8d48abddd9c4",
   "metadata": {},
   "source": [
    "1. sellargraph 통해서 데이터셋 로드"
   ]
  },
  {
   "cell_type": "code",
   "execution_count": 1,
   "id": "2b729918-ccfa-453d-891e-5c67fa193b37",
   "metadata": {},
   "outputs": [
    {
     "name": "stderr",
     "output_type": "stream",
     "text": [
      "2023-04-06 21:04:18.948281: I tensorflow/core/platform/cpu_feature_guard.cc:193] This TensorFlow binary is optimized with oneAPI Deep Neural Network Library (oneDNN) to use the following CPU instructions in performance-critical operations:  AVX2 FMA\n",
      "To enable them in other operations, rebuild TensorFlow with the appropriate compiler flags.\n"
     ]
    },
    {
     "data": {
      "text/html": [
       "Each graph represents a protein and graph labels represent whether they are are enzymes or non-enzymes. The dataset includes 1113 graphs with 39 nodes and 73 edges on average for each graph. Graph nodes have 4 attributes (including a one-hot encoding of their label), and each graph is labelled as belonging to 1 of 2 classes."
      ],
      "text/plain": [
       "<IPython.core.display.HTML object>"
      ]
     },
     "metadata": {},
     "output_type": "display_data"
    }
   ],
   "source": [
    "from stellargraph import datasets\n",
    "from IPython.display import display, HTML\n",
    "\n",
    "dataset = datasets.PROTEINS()\n",
    "display(HTML(dataset.description))\n",
    "graphs, graph_labels = dataset.load()"
   ]
  },
  {
   "cell_type": "markdown",
   "id": "9358cc88-a3b4-44ce-ae3a-835ba90f7b24",
   "metadata": {},
   "source": [
    "2. stellargraph형식에서 networkx 형식으로 그래프 변환\n",
    "\n",
    "- stellargraph 표현에서 numpy 인접행렬로 그래프 변환\n",
    "\n",
    "- 인접행렬을 사용해 networkx 표현으로 돌리기"
   ]
  },
  {
   "cell_type": "code",
   "execution_count": 2,
   "id": "df28ba3d-3027-4857-96ab-188dd9eb89a0",
   "metadata": {},
   "outputs": [],
   "source": [
    "# tellargraph 형태에서 numpy인접행렬로 변환\n",
    "adjs = [graph.to_adjacency_matrix().A for graph in graphs]\n",
    "\n",
    "# Pandas.Series로 구성된 라벨을 numpy array로 변환\n",
    "labels = graph_labels.to_numpy(dtype=int)"
   ]
  },
  {
   "cell_type": "markdown",
   "id": "34a04ae0-9d59-439f-b546-947b352bee71",
   "metadata": {},
   "source": [
    "3. 각 그래프에 대해 설명하기 위해 전역 측정 지표 계산\n",
    "\n",
    "- 간선수, 평균 클러스터 계수, 전역 효율성 선택"
   ]
  },
  {
   "cell_type": "code",
   "execution_count": 3,
   "id": "7456b74f-34f5-4c5d-99a8-815f061c6786",
   "metadata": {},
   "outputs": [],
   "source": [
    "import numpy as np\n",
    "import networkx as nx\n",
    "\n",
    "metrics = []\n",
    "for adj in adjs:\n",
    "  G = nx.from_numpy_matrix(adj)\n",
    "\n",
    "  # 기본 속성\n",
    "  num_edges = G.number_of_edges()\n",
    "\n",
    "  # 클러스터링 방법\n",
    "  cc = nx.average_clustering(G)\n",
    "\n",
    "  # 효율성 측정\n",
    "  eff = nx.global_efficiency(G)\n",
    "\n",
    "  metrics.append([num_edges, cc, eff])\n"
   ]
  },
  {
   "cell_type": "markdown",
   "id": "12ea6f9a-b4c1-49c6-89bc-599fd089d094",
   "metadata": {},
   "source": [
    "4. scikit-learn 유틸리티를 활용해 훈련 및 테스트 세트를 생성\n",
    "\n",
    "데이터셋의 70% 훈련, 30% 테스트 "
   ]
  },
  {
   "cell_type": "code",
   "execution_count": 4,
   "id": "f0d1fdc8-80d4-4042-ae36-60a60af69237",
   "metadata": {},
   "outputs": [],
   "source": [
    "from sklearn.model_selection import train_test_split\n",
    "X_train, X_test, y_train, y_test = train_test_split(metrics, labels, test_size=0.3, random_state=42)"
   ]
  },
  {
   "cell_type": "markdown",
   "id": "3985a870-7e50-402c-9c35-b3ec9449c0d2",
   "metadata": {},
   "source": [
    "5. 머신러닝 알고리즘 학습 시작\n",
    "\n",
    "scikit-learn의 SVC모듈 사용"
   ]
  },
  {
   "cell_type": "code",
   "execution_count": 6,
   "id": "6181ba75-1282-415e-a255-a76a0e59ce67",
   "metadata": {},
   "outputs": [],
   "source": [
    "from sklearn.preprocessing import StandardScaler\n",
    "\n",
    "scaler = StandardScaler()\n",
    "scaler.fit(X_train)\n",
    "\n",
    "X_train_scaled = scaler.transform(X_train)\n",
    "X_test_scaled = scaler.transform(X_test)"
   ]
  },
  {
   "cell_type": "code",
   "execution_count": 7,
   "id": "5ee10a64-22db-4950-912d-6f2f11a784ae",
   "metadata": {},
   "outputs": [
    {
     "name": "stdout",
     "output_type": "stream",
     "text": [
      "Accuracy 0.7455089820359282\n",
      "Precision 0.7709251101321586\n",
      "Recall 0.8413461538461539\n",
      "F1-score 0.8045977011494253\n"
     ]
    }
   ],
   "source": [
    "from sklearn import svm\n",
    "from sklearn.metrics import accuracy_score, precision_score, recall_score, f1_score\n",
    "\n",
    "clf = svm.SVC()\n",
    "clf.fit(X_train_scaled, y_train)\n",
    "\n",
    "y_pred = clf.predict(X_test_scaled)\n",
    "\n",
    "print('Accuracy', accuracy_score(y_test,y_pred))\n",
    "print('Precision', precision_score(y_test,y_pred))\n",
    "print('Recall', recall_score(y_test,y_pred))\n",
    "print('F1-score', f1_score(y_test,y_pred))"
   ]
  },
  {
   "cell_type": "code",
   "execution_count": null,
   "id": "7a8a3d18-5746-4f81-94f5-60d64ab740be",
   "metadata": {},
   "outputs": [],
   "source": []
  }
 ],
 "metadata": {
  "kernelspec": {
   "display_name": "Python 3 (ipykernel)",
   "language": "python",
   "name": "python3"
  },
  "language_info": {
   "codemirror_mode": {
    "name": "ipython",
    "version": 3
   },
   "file_extension": ".py",
   "mimetype": "text/x-python",
   "name": "python",
   "nbconvert_exporter": "python",
   "pygments_lexer": "ipython3",
   "version": "3.8.16"
  }
 },
 "nbformat": 4,
 "nbformat_minor": 5
}
