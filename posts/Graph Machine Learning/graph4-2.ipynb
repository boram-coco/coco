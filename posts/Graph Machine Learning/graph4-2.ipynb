{
 "cells": [
  {
   "cell_type": "code",
   "execution_count": null,
   "id": "1aae19e4-3c01-4441-a5f1-d12dd6e517bb",
   "metadata": {},
   "outputs": [],
   "source": []
  },
  {
   "cell_type": "raw",
   "id": "e247e77b-5e11-4345-b2c1-521a84a182c2",
   "metadata": {},
   "source": [
    "---\n",
    "title: \"CH4. 지도 그래프 학습(얕은 임베딩 방법)\"\n",
    "author: \"김보람\"\n",
    "date: \"04/06/2023\"\n",
    "categories:\n",
    "  - graph\n",
    "---"
   ]
  },
  {
   "cell_type": "markdown",
   "id": "5cba4bb4-3438-4f0d-a692-c688c4262842",
   "metadata": {
    "tags": []
   },
   "source": [
    "# ref"
   ]
  },
  {
   "cell_type": "markdown",
   "id": "5928b1d5-d906-4ffc-8cf2-713c2c82463a",
   "metadata": {
    "tags": []
   },
   "source": [
    "- [그래프 머신러닝](https://product.kyobobook.co.kr/detail/S000200738068)\n",
    "\n",
    "- [github](https://github.com/PacktPublishing/Graph-Machine-Learning)"
   ]
  },
  {
   "cell_type": "markdown",
   "id": "d17197a9-a9c6-4e41-8876-f1474acac14b",
   "metadata": {},
   "source": [
    "# 얕은 임베딩 방법"
   ]
  },
  {
   "cell_type": "markdown",
   "id": "641f9f70-9860-4a2b-8042-1546af3b4050",
   "metadata": {},
   "source": [
    "- 유한한 입력 데이터 집합에 대해서 노드, 간선 또는 그래프 표현을 학습하는 그래프 임베딩 방법의 하위 집합\n",
    "\n",
    "- 모델 학습에 사용된 것과 같은 데이터를 사용\n",
    "\n"
   ]
  },
  {
   "cell_type": "markdown",
   "id": "2f7bef99-b883-4d5a-a6d6-5dd2dac16cce",
   "metadata": {
    "tags": []
   },
   "source": [
    "## Utility graph plot matrix"
   ]
  },
  {
   "cell_type": "code",
   "execution_count": 3,
   "id": "928c8f31-8fba-4926-bb66-fa0566b036ee",
   "metadata": {},
   "outputs": [],
   "source": [
    "import matplotlib.pyplot as plt\n",
    "\n",
    "def draw_graph(G, node_names={}, nodes_label=[], node_size=900):\n",
    "    pos_nodes = nx.spring_layout(G)\n",
    "    \n",
    "    col = {0:\"steelblue\",1:\"red\",2:\"green\"}\n",
    "    \n",
    "    colors = [col[x] for x in nodes_label]\n",
    "    \n",
    "    nx.draw_networkx(G, pos_nodes, with_labels=True, node_color=colors, node_size=node_size, edge_color='gray', \n",
    "            arrowsize=30)\n",
    "    \n",
    "    \n",
    "    \n",
    "    pos_attrs = {}\n",
    "    for node, coords in pos_nodes.items():\n",
    "        pos_attrs[node] = (coords[0], coords[1] + 0.08)\n",
    "        \n",
    "    \n",
    "    plt.axis('off')\n",
    "    axis = plt.gca()\n",
    "    axis.set_xlim([1.2*x for x in axis.get_xlim()])\n",
    "    axis.set_ylim([1.2*y for y in axis.get_ylim()])\n",
    "    plt.show()"
   ]
  },
  {
   "cell_type": "markdown",
   "id": "1a676274-1c0e-40c8-9e6d-5a6115a259d2",
   "metadata": {},
   "source": [
    "## 라벨 전파 알고리즘"
   ]
  },
  {
   "cell_type": "markdown",
   "id": "cd8cadfa-992f-48d3-8931-221afe950e99",
   "metadata": {},
   "source": [
    "- 주어진 노드의 라벨을 인접 노드 또는 해당 노드에서 도달할 가능성이 높은 노드로 전파"
   ]
  },
  {
   "cell_type": "code",
   "execution_count": 4,
   "id": "d98d07da-933b-4492-8165-590f12bb3cd7",
   "metadata": {},
   "outputs": [
    {
     "data": {
      "image/png": "[encoded data removed]",
      "text/plain": [
       "<Figure size 640x480 with 1 Axes>"
      ]
     },
     "metadata": {},
     "output_type": "display_data"
    }
   ],
   "source": [
    "import networkx as nx\n",
    "\n",
    "G = nx.barbell_graph(m1=3, m2=2)\n",
    "nodes_label = [0 for x in range(len(G.nodes()))]\n",
    "nodes_label[0] = 1\n",
    "nodes_label[6] = 2\n",
    "draw_graph(G, nodes_label=nodes_label, node_size=1200)"
   ]
  },
  {
   "cell_type": "markdown",
   "id": "dec13fd8-5b58-4d59-9d3f-9b9a555c7696",
   "metadata": {},
   "source": [
    "- 0과 6에만 라벨이 지정됨\n",
    "\n",
    "- 라벨이 지정된 노드의 정보를 이용하여 다른 노드로 이동할 확률 계싼"
   ]
  },
  {
   "cell_type": "markdown",
   "id": "1543d8c6-bb17-4377-9ddd-c4281a2a8d59",
   "metadata": {},
   "source": [
    "### 그림의 그래프에 대한 대각 차수 행렬"
   ]
  },
  {
   "cell_type": "code",
   "execution_count": 5,
   "id": "f257bb03-8abb-468c-8780-9388a6bf8ac6",
   "metadata": {},
   "outputs": [
    {
     "data": {
      "text/plain": [
       "array([[2, 0, 0, 0, 0, 0, 0, 0],\n",
       "       [0, 2, 0, 0, 0, 0, 0, 0],\n",
       "       [0, 0, 3, 0, 0, 0, 0, 0],\n",
       "       [0, 0, 0, 2, 0, 0, 0, 0],\n",
       "       [0, 0, 0, 0, 2, 0, 0, 0],\n",
       "       [0, 0, 0, 0, 0, 3, 0, 0],\n",
       "       [0, 0, 0, 0, 0, 0, 2, 0],\n",
       "       [0, 0, 0, 0, 0, 0, 0, 2]])"
      ]
     },
     "execution_count": 5,
     "metadata": {},
     "output_type": "execute_result"
    }
   ],
   "source": [
    "import numpy as np\n",
    "from numpy.linalg import inv\n",
    "\n",
    "D = [G.degree(n) for n in G.nodes()]\n",
    "D = np.diag(D)\n",
    "D"
   ]
  },
  {
   "cell_type": "markdown",
   "id": "576ef4d2-ca05-47e4-80b9-9ceda2df1408",
   "metadata": {},
   "source": [
    "###  그림의 그래프에 대한 전이 행렬"
   ]
  },
  {
   "cell_type": "code",
   "execution_count": 6,
   "id": "08eb5d2b-368b-4f69-805c-ad565deb1a42",
   "metadata": {},
   "outputs": [
    {
     "data": {
      "text/plain": [
       "matrix([[0.        , 0.5       , 0.5       , 0.        , 0.        ,\n",
       "         0.        , 0.        , 0.        ],\n",
       "        [0.5       , 0.        , 0.5       , 0.        , 0.        ,\n",
       "         0.        , 0.        , 0.        ],\n",
       "        [0.33333333, 0.33333333, 0.        , 0.33333333, 0.        ,\n",
       "         0.        , 0.        , 0.        ],\n",
       "        [0.        , 0.        , 0.5       , 0.        , 0.5       ,\n",
       "         0.        , 0.        , 0.        ],\n",
       "        [0.        , 0.        , 0.        , 0.5       , 0.        ,\n",
       "         0.5       , 0.        , 0.        ],\n",
       "        [0.        , 0.        , 0.        , 0.        , 0.33333333,\n",
       "         0.        , 0.33333333, 0.33333333],\n",
       "        [0.        , 0.        , 0.        , 0.        , 0.        ,\n",
       "         0.5       , 0.        , 0.5       ],\n",
       "        [0.        , 0.        , 0.        , 0.        , 0.        ,\n",
       "         0.5       , 0.5       , 0.        ]])"
      ]
     },
     "execution_count": 6,
     "metadata": {},
     "output_type": "execute_result"
    }
   ],
   "source": [
    "A = inv(D)*nx.to_numpy_matrix(G)\n",
    "A"
   ]
  },
  {
   "cell_type": "markdown",
   "id": "b7939e88-96c2-4dc8-9f07-7807eedd2e3c",
   "metadata": {},
   "source": [
    "### Label propagation implemenation"
   ]
  },
  {
   "cell_type": "markdown",
   "id": "09355c0b-aa25-4675-b33b-2161074733ba",
   "metadata": {},
   "source": [
    "- 행렬의 각 행은 샘플, 각 열은 특징을 나타냄\n",
    "\n"
   ]
  },
  {
   "cell_type": "code",
   "execution_count": 7,
   "id": "9c97021f-b664-4dac-9be6-8e2e9e7165ab",
   "metadata": {},
   "outputs": [],
   "source": [
    "import numpy as np\n",
    "import networkx as nx\n",
    "from numpy.linalg import inv\n",
    "from abc import ABCMeta, abstractmethod\n",
    "from sklearn.base import BaseEstimator, ClassifierMixin\n",
    "from sklearn.utils.multiclass import check_classification_targets\n",
    "from sklearn.utils.validation import check_is_fitted, _deprecate_positional_args\n",
    "\n",
    "class GraphLabelPropagation(ClassifierMixin, BaseEstimator, metaclass=ABCMeta):\n",
    "    \"\"\"Graph label propagation module.\n",
    "    Parameters\n",
    "    ----------\n",
    "    max_iter : int, default=30\n",
    "        Change maximum number of iterations allowed.\n",
    "    tol : float, default=1e-3\n",
    "        Convergence tolerance: threshold to consider the system at steady\n",
    "        state.\n",
    "    \"\"\"\n",
    "\n",
    "    @_deprecate_positional_args\n",
    "    def __init__(self, max_iter=30, tol=1e-3):\n",
    "\n",
    "        self.max_iter = max_iter\n",
    "        self.tol = tol\n",
    "\n",
    "    def predict(self, X):\n",
    "        \"\"\"Performs inductive inference across the model.\n",
    "        Parameters\n",
    "        ----------\n",
    "        X : A networkx array.\n",
    "            The data matrix.\n",
    "        Returns\n",
    "        -------\n",
    "        y : ndarray of shape (n_samples,)\n",
    "            Predictions for input data.\n",
    "        \"\"\"\n",
    "        probas = self.predict_proba(X)\n",
    "        return self.classes_[np.argmax(probas, axis=1)].ravel()\n",
    "\n",
    "    def predict_proba(self, X):\n",
    "        \"\"\"Predict probability for each possible outcome.\n",
    "        Compute the probability estimates for each single node in X\n",
    "        and each possible outcome seen during training (categorical\n",
    "        distribution).\n",
    "        Parameters\n",
    "        ----------\n",
    "        X : A networkx array.\n",
    "        Returns\n",
    "        -------\n",
    "        probabilities : ndarray of shape (n_samples, n_classes)\n",
    "            Normalized probability distributions across\n",
    "            class labels.\n",
    "        \"\"\"\n",
    "        check_is_fitted(self)\n",
    "        \n",
    "        return self.label_distributions_\n",
    "    \n",
    "    def _validate_data(self, X, y):\n",
    "        if not isinstance(X, nx.Graph):\n",
    "            raise ValueError(\"Input should be a networkX graph\")\n",
    "        if not len(y) == len(X.nodes()):\n",
    "            raise ValueError(\"Label data input shape should be equal to the number of nodes in the graph\")\n",
    "        return X, y\n",
    "    \n",
    "    @staticmethod\n",
    "    def build_label(x,classes):\n",
    "        tmp = np.zeros((classes))\n",
    "        tmp[x] = 1\n",
    "        return tmp\n",
    "    \n",
    "    def fit(self, X, y):\n",
    "        \"\"\"Fit a semi-supervised label propagation model based\n",
    "        on the input graph G and corresponding label matrix y with a dedicated marker value for\n",
    "        unlabeled samples.\n",
    "        Parameters\n",
    "        ----------\n",
    "        X : A networkX array.\n",
    "        y : array-like of shape (n_samples,)\n",
    "            `n_labeled_samples` (unlabeled points are marked as -1)\n",
    "            All unlabeled samples will be transductively assigned labels.\n",
    "        Returns\n",
    "        -------\n",
    "        self : object\n",
    "        \"\"\"\n",
    "        X, y = self._validate_data(X, y)\n",
    "        self.X_ = X\n",
    "        check_classification_targets(y)\n",
    "\n",
    "        D = [X.degree(n) for n in X.nodes()]\n",
    "        D = np.diag(D)\n",
    "        \n",
    "        # label construction\n",
    "        # construct a categorical distribution for classification only\n",
    "        unlabeled_index = np.where(y==-1)[0]\n",
    "        labeled_index = np.where(y!=-1)[0]\n",
    "        unique_classes = np.unique(y[labeled_index])\n",
    "        \n",
    "        self.classes_ = unique_classes\n",
    "        \n",
    "        Y0 = np.array([self.build_label(y[x], len(unique_classes)) \n",
    "                                 if x in labeled_index else np.zeros(len(unique_classes)) for x in range(len(y))])\n",
    "        \n",
    "        A = inv(D)*nx.to_numpy_matrix(G)\n",
    "        Y_prev = Y0\n",
    "        it = 0\n",
    "        c_tool = 10\n",
    "        \n",
    "        while it < self.max_iter & c_tool > self.tol:\n",
    "            Y = A*Y_prev\n",
    "            #force labeled nodes\n",
    "            Y[labeled_index] = Y0[labeled_index]\n",
    "            \n",
    "            it +=1\n",
    "            c_tol = np.sum(np.abs(Y-Y_prev))\n",
    "            \n",
    "            Y_prev = Y\n",
    "            \n",
    "        self.label_distributions_ = Y\n",
    "        return self"
   ]
  },
  {
   "cell_type": "markdown",
   "id": "dd2fffac-e5b0-4a26-9f89-4e6c6d67ecf8",
   "metadata": {},
   "source": [
    "- 이게 뭐시여"
   ]
  },
  {
   "cell_type": "markdown",
   "id": "57894cbb-7042-4a29-9ccf-e9d197b9e262",
   "metadata": {},
   "source": [
    "### Label propagation execution"
   ]
  },
  {
   "cell_type": "code",
   "execution_count": 8,
   "id": "c2a2a574-b689-4f66-a952-d1044c909633",
   "metadata": {},
   "outputs": [
    {
     "name": "stdout",
     "output_type": "stream",
     "text": [
      "[[0.         1.        ]\n",
      " [0.05338542 0.90006109]\n",
      " [0.11845743 0.8081115 ]\n",
      " [0.31951678 0.553297  ]\n",
      " [0.553297   0.31951678]\n",
      " [0.8081115  0.11845743]\n",
      " [1.         0.        ]\n",
      " [0.90006109 0.05338542]]\n"
     ]
    },
    {
     "data": {
      "image/png": "[encoded data removed]",
      "text/plain": [
       "<Figure size 640x480 with 1 Axes>"
      ]
     },
     "metadata": {},
     "output_type": "display_data"
    }
   ],
   "source": [
    "glp = GraphLabelPropagation()\n",
    "y = np.array([-1 for x in range(len(G.nodes()))])\n",
    "y[0] = 1\n",
    "y[6] = 0\n",
    "glp.fit(G,y)\n",
    "tmp = glp.predict(G)\n",
    "print(glp.predict_proba(G))\n",
    "\n",
    "draw_graph(G, nodes_label=tmp+1, node_size=1200)"
   ]
  },
  {
   "cell_type": "markdown",
   "id": "6a29c955-e42a-4858-af82-c41009e05139",
   "metadata": {},
   "source": [
    "## 라벨 확산 알고리즘"
   ]
  },
  {
   "cell_type": "markdown",
   "id": "1fad58a2-3ea1-472e-a209-12aa51ef6c56",
   "metadata": {},
   "source": [
    "- 라벨 전파 방식의 한계인 초기 라벨링 극복하고자 만들어짐\n",
    "\n",
    "- 초기 라벨은 학습 과정엥서 수정이 불가. 각 반복에서 얻은 원래 값과 같아야함\n",
    "\n",
    "- 라벨이 지정된 제약을 완화해 라벨이 지정된 입력 노드가 교육 프로세스 중에 라벨 변경할 수 있도록 한다."
   ]
  },
  {
   "cell_type": "code",
   "execution_count": 9,
   "id": "28608191-df5f-46c6-917b-a8b0d92fe9ee",
   "metadata": {},
   "outputs": [
    {
     "data": {
      "image/png": "[encoded data removed]",
      "text/plain": [
       "<Figure size 640x480 with 1 Axes>"
      ]
     },
     "metadata": {},
     "output_type": "display_data"
    }
   ],
   "source": [
    "import networkx as nx\n",
    "\n",
    "G = nx.barbell_graph(m1=3, m2=2)\n",
    "nodes_label = [0 for x in range(len(G.nodes()))]\n",
    "nodes_label[0] = 1\n",
    "nodes_label[6] = 2\n",
    "draw_graph(G, nodes_label=nodes_label, node_size=1200)"
   ]
  },
  {
   "cell_type": "markdown",
   "id": "2d1d7903-7080-4994-bad4-5ce79d7bc11c",
   "metadata": {},
   "source": [
    "### Degree matrix"
   ]
  },
  {
   "cell_type": "code",
   "execution_count": 10,
   "id": "d7fa8d4c-65d5-4928-9e14-999329e6bda8",
   "metadata": {},
   "outputs": [
    {
     "data": {
      "text/plain": [
       "array([[2, 0, 0, 0, 0, 0, 0, 0],\n",
       "       [0, 2, 0, 0, 0, 0, 0, 0],\n",
       "       [0, 0, 3, 0, 0, 0, 0, 0],\n",
       "       [0, 0, 0, 2, 0, 0, 0, 0],\n",
       "       [0, 0, 0, 0, 2, 0, 0, 0],\n",
       "       [0, 0, 0, 0, 0, 3, 0, 0],\n",
       "       [0, 0, 0, 0, 0, 0, 2, 0],\n",
       "       [0, 0, 0, 0, 0, 0, 0, 2]])"
      ]
     },
     "execution_count": 10,
     "metadata": {},
     "output_type": "execute_result"
    }
   ],
   "source": [
    "import numpy as np\n",
    "from numpy.linalg import inv\n",
    "\n",
    "D = [G.degree(n) for n in G.nodes()]\n",
    "D = np.diag(D)\n",
    "D"
   ]
  },
  {
   "cell_type": "markdown",
   "id": "9c8cdeeb-c367-4885-801e-c9a937b54a10",
   "metadata": {},
   "source": [
    "### Normalized graph Laplacian matrix"
   ]
  },
  {
   "cell_type": "markdown",
   "id": "83bb9758-c6fd-4b6f-b27c-a9e8d08ed1aa",
   "metadata": {},
   "source": [
    "> [라플라시안 행렬 위키백과](https://en.wikipedia.org/wiki/Laplacian_matrix#Random_walk_normalized_Laplacian)"
   ]
  },
  {
   "cell_type": "markdown",
   "id": "5e259edc-da4a-4791-9e1d-14c16174e50a",
   "metadata": {},
   "source": [
    "![](라플라시안.png)"
   ]
  },
  {
   "cell_type": "code",
   "execution_count": 11,
   "id": "84d42495-b2e4-4923-81eb-e58d33a49164",
   "metadata": {},
   "outputs": [
    {
     "data": {
      "text/plain": [
       "matrix([[0.        , 0.5       , 0.40824829, 0.        , 0.        ,\n",
       "         0.        , 0.        , 0.        ],\n",
       "        [0.5       , 0.        , 0.40824829, 0.        , 0.        ,\n",
       "         0.        , 0.        , 0.        ],\n",
       "        [0.40824829, 0.40824829, 0.        , 0.40824829, 0.        ,\n",
       "         0.        , 0.        , 0.        ],\n",
       "        [0.        , 0.        , 0.40824829, 0.        , 0.5       ,\n",
       "         0.        , 0.        , 0.        ],\n",
       "        [0.        , 0.        , 0.        , 0.5       , 0.        ,\n",
       "         0.40824829, 0.        , 0.        ],\n",
       "        [0.        , 0.        , 0.        , 0.        , 0.40824829,\n",
       "         0.        , 0.40824829, 0.40824829],\n",
       "        [0.        , 0.        , 0.        , 0.        , 0.        ,\n",
       "         0.40824829, 0.        , 0.5       ],\n",
       "        [0.        , 0.        , 0.        , 0.        , 0.        ,\n",
       "         0.40824829, 0.5       , 0.        ]])"
      ]
     },
     "execution_count": 11,
     "metadata": {},
     "output_type": "execute_result"
    }
   ],
   "source": [
    "from scipy.linalg import fractional_matrix_power\n",
    "D_inv = fractional_matrix_power(D, -0.5)\n",
    "L = D_inv*nx.to_numpy_matrix(G)*D_inv\n",
    "L"
   ]
  },
  {
   "cell_type": "markdown",
   "id": "81f66559-7955-4448-ac05-3bc0c95b0fcd",
   "metadata": {},
   "source": [
    "### Label spreading implementation"
   ]
  },
  {
   "cell_type": "code",
   "execution_count": 12,
   "id": "c1573e39-d4d0-4af4-af1c-0ea56bf2b23f",
   "metadata": {},
   "outputs": [],
   "source": [
    "import numpy as np\n",
    "import networkx as nx\n",
    "from sklearn.preprocessing import normalize\n",
    "from scipy.linalg import fractional_matrix_power\n",
    "from sklearn.utils.multiclass import check_classification_targets\n",
    "\n",
    "class GraphLabelSpreading(GraphLabelPropagation):\n",
    "    \"\"\"Graph label propagation module.\n",
    "    Parameters\n",
    "    ----------\n",
    "    max_iter : int, default=30\n",
    "        Change maximum number of iterations allowed.\n",
    "    tol : float, default=1e-3\n",
    "        Convergence tolerance: threshold to consider the system at steady\n",
    "        state.\n",
    "    \"\"\"\n",
    "\n",
    "    @_deprecate_positional_args\n",
    "    def __init__(self, max_iter=30, tol=1e-3, alpha=0.6):\n",
    "\n",
    "        self.alpha = alpha\n",
    "        super().__init__(max_iter, tol)\n",
    "    \n",
    "    def fit(self, X, y):\n",
    "        \"\"\"Fit a semi-supervised label propagation model based\n",
    "        on the input graph G and corresponding label matrix y with a dedicated marker value for\n",
    "        unlabeled samples.\n",
    "        Parameters\n",
    "        ----------\n",
    "        X : A networkX array.\n",
    "        y : array-like of shape (n_samples,)\n",
    "            `n_labeled_samples` (unlabeled points are marked as -1)\n",
    "            All unlabeled samples will be transductively assigned labels.\n",
    "        Returns\n",
    "        -------\n",
    "        self : object\n",
    "        \"\"\"\n",
    "        X, y = self._validate_data(X, y)\n",
    "        self.X_ = X\n",
    "        check_classification_targets(y)\n",
    "\n",
    "        D = [X.degree(n) for n in X.nodes()]\n",
    "        D = np.diag(D)\n",
    "        D_inv = np.matrix(fractional_matrix_power(D,-0.5))\n",
    "        L = D_inv*nx.to_numpy_matrix(G)*D_inv\n",
    "        \n",
    "        # label construction\n",
    "        # construct a categorical distribution for classification only\n",
    "        unlabeled_index = np.where(y==-1)[0]\n",
    "        labeled_index = np.where(y!=-1)[0]\n",
    "        unique_classes = np.unique(y[labeled_index])\n",
    "        \n",
    "        self.classes_ = unique_classes\n",
    "        \n",
    "        Y0 = np.array([self.build_label(y[x], len(unique_classes)) \n",
    "                                 if x in labeled_index else np.zeros(len(unique_classes)) for x in range(len(y))])\n",
    "        \n",
    "        Y_prev = Y0\n",
    "        it = 0\n",
    "        c_tool = 10\n",
    "        \n",
    "        while it < self.max_iter & c_tool > self.tol:\n",
    "            Y = self.alpha*(L*Y_prev)+((1-self.alpha)*Y0)\n",
    "\n",
    "            it +=1\n",
    "            c_tol = np.sum(np.abs(Y-Y_prev))\n",
    "            Y_prev = Y\n",
    "        self.label_distributions_ = Y\n",
    "        return self"
   ]
  },
  {
   "cell_type": "markdown",
   "id": "2f654d0a-cd9d-4f9e-876d-365cbd6f22ad",
   "metadata": {},
   "source": [
    "### Label Spreading"
   ]
  },
  {
   "cell_type": "code",
   "execution_count": 13,
   "id": "d10ca302-6de5-4e70-a33c-b78519d6fe32",
   "metadata": {},
   "outputs": [
    {
     "name": "stdout",
     "output_type": "stream",
     "text": [
      "[[0.00148824 0.50403871]\n",
      " [0.00148824 0.19630098]\n",
      " [0.00471728 0.18369265]\n",
      " [0.01591722 0.05001252]\n",
      " [0.05001252 0.01591722]\n",
      " [0.18369265 0.00471728]\n",
      " [0.50403871 0.00148824]\n",
      " [0.19630098 0.00148824]]\n"
     ]
    },
    {
     "data": {
      "image/png": "[encoded data removed]",
      "text/plain": [
       "<Figure size 640x480 with 1 Axes>"
      ]
     },
     "metadata": {},
     "output_type": "display_data"
    }
   ],
   "source": [
    "gls = GraphLabelSpreading(max_iter=1000)\n",
    "y = np.array([-1 for x in range(len(G.nodes()))])\n",
    "y[0] = 1\n",
    "y[6] = 0\n",
    "gls.fit(G,y)\n",
    "tmp = gls.predict(G)\n",
    "print(gls.predict_proba(G))\n",
    "draw_graph(G, nodes_label=tmp+1, node_size=1200)"
   ]
  },
  {
   "cell_type": "markdown",
   "id": "d09d56ed-1358-4351-b997-28369f72a9c2",
   "metadata": {},
   "source": [
    "- 라벨 전파 할당보다 라벨 확산 할당이 확률이 더 낮다.\n",
    "\n",
    "- 초기 라벨 할당의 영향이 정규화 매개 변수 $\\alpha$에 의해 가중되기 때문에"
   ]
  },
  {
   "cell_type": "code",
   "execution_count": null,
   "id": "c957353d-8bff-402a-8e41-6df06771eaa4",
   "metadata": {},
   "outputs": [],
   "source": []
  }
 ],
 "metadata": {
  "kernelspec": {
   "display_name": "Python 3 (ipykernel)",
   "language": "python",
   "name": "python3"
  },
  "language_info": {
   "codemirror_mode": {
    "name": "ipython",
    "version": 3
   },
   "file_extension": ".py",
   "mimetype": "text/x-python",
   "name": "python",
   "nbconvert_exporter": "python",
   "pygments_lexer": "ipython3",
   "version": "3.8.16"
  }
 },
 "nbformat": 4,
 "nbformat_minor": 5
}
