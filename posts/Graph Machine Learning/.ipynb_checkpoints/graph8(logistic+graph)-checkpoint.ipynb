{
 "cells": [
  {
   "cell_type": "raw",
   "id": "f0e05e45-98d8-4b5e-8e5d-efbad52a2dd6",
   "metadata": {},
   "source": [
    "---\n",
    "title: \"CH8. 신용카드 거래 분석(로지스틱amt+time+city_pop+latabs+longabs-f1:0.986334)\"\n",
    "author: \"김보람\"\n",
    "date: \"04/27/2023\"\n",
    "categories:\n",
    "  - graph\n",
    "---"
   ]
  },
  {
   "cell_type": "code",
   "execution_count": 31,
   "id": "70217bdd-39ac-4000-b33e-8fca4d634ccd",
   "metadata": {},
   "outputs": [],
   "source": [
    "import os\n",
    "import math\n",
    "import numpy as np\n",
    "import networkx as nx\n",
    "import matplotlib.pyplot as plt\n",
    "%matplotlib inline\n",
    "\n",
    "default_edge_color = 'gray'\n",
    "default_node_color = '#407cc9'\n",
    "enhanced_node_color = '#f5b042'\n",
    "enhanced_edge_color = '#cc2f04'"
   ]
  },
  {
   "cell_type": "markdown",
   "id": "6a44a2fe-f344-4519-9b8f-2ea43677a1fa",
   "metadata": {},
   "source": [
    "# df"
   ]
  },
  {
   "cell_type": "code",
   "execution_count": 27,
   "id": "684974fd-9c59-4721-a371-2bf29b0197ea",
   "metadata": {},
   "outputs": [
    {
     "data": {
      "text/html": [
       "<div>\n",
       "<style scoped>\n",
       "    .dataframe tbody tr th:only-of-type {\n",
       "        vertical-align: middle;\n",
       "    }\n",
       "\n",
       "    .dataframe tbody tr th {\n",
       "        vertical-align: top;\n",
       "    }\n",
       "\n",
       "    .dataframe thead th {\n",
       "        text-align: right;\n",
       "    }\n",
       "</style>\n",
       "<table border=\"1\" class=\"dataframe\">\n",
       "  <thead>\n",
       "    <tr style=\"text-align: right;\">\n",
       "      <th></th>\n",
       "      <th>Unnamed: 0</th>\n",
       "      <th>trans_date_trans_time</th>\n",
       "      <th>cc_num</th>\n",
       "      <th>merchant</th>\n",
       "      <th>category</th>\n",
       "      <th>amt</th>\n",
       "      <th>first</th>\n",
       "      <th>last</th>\n",
       "      <th>gender</th>\n",
       "      <th>street</th>\n",
       "      <th>...</th>\n",
       "      <th>lat</th>\n",
       "      <th>long</th>\n",
       "      <th>city_pop</th>\n",
       "      <th>job</th>\n",
       "      <th>dob</th>\n",
       "      <th>trans_num</th>\n",
       "      <th>unix_time</th>\n",
       "      <th>merch_lat</th>\n",
       "      <th>merch_long</th>\n",
       "      <th>is_fraud</th>\n",
       "    </tr>\n",
       "  </thead>\n",
       "  <tbody>\n",
       "    <tr>\n",
       "      <th>669418</th>\n",
       "      <td>669418</td>\n",
       "      <td>2019-10-12 18:21</td>\n",
       "      <td>4.089100e+18</td>\n",
       "      <td>fraud_Haley, Jewess and Bechtelar</td>\n",
       "      <td>shopping_pos</td>\n",
       "      <td>7.53</td>\n",
       "      <td>Debra</td>\n",
       "      <td>Stark</td>\n",
       "      <td>F</td>\n",
       "      <td>686 Linda Rest</td>\n",
       "      <td>...</td>\n",
       "      <td>32.3836</td>\n",
       "      <td>-94.8653</td>\n",
       "      <td>24536</td>\n",
       "      <td>Multimedia programmer</td>\n",
       "      <td>1983-10-14</td>\n",
       "      <td>d313353fa30233e5fab5468e852d22fc</td>\n",
       "      <td>1350066071</td>\n",
       "      <td>32.202008</td>\n",
       "      <td>-94.371865</td>\n",
       "      <td>0</td>\n",
       "    </tr>\n",
       "    <tr>\n",
       "      <th>32567</th>\n",
       "      <td>32567</td>\n",
       "      <td>2019-01-20 13:06</td>\n",
       "      <td>4.247920e+12</td>\n",
       "      <td>fraud_Turner LLC</td>\n",
       "      <td>travel</td>\n",
       "      <td>3.79</td>\n",
       "      <td>Judith</td>\n",
       "      <td>Moss</td>\n",
       "      <td>F</td>\n",
       "      <td>46297 Benjamin Plains Suite 703</td>\n",
       "      <td>...</td>\n",
       "      <td>39.5370</td>\n",
       "      <td>-83.4550</td>\n",
       "      <td>22305</td>\n",
       "      <td>Television floor manager</td>\n",
       "      <td>1939-03-09</td>\n",
       "      <td>88c65b4e1585934d578511e627fe3589</td>\n",
       "      <td>1327064760</td>\n",
       "      <td>39.156673</td>\n",
       "      <td>-82.930503</td>\n",
       "      <td>0</td>\n",
       "    </tr>\n",
       "    <tr>\n",
       "      <th>156587</th>\n",
       "      <td>156587</td>\n",
       "      <td>2019-03-24 18:09</td>\n",
       "      <td>4.026220e+12</td>\n",
       "      <td>fraud_Klein Group</td>\n",
       "      <td>entertainment</td>\n",
       "      <td>59.07</td>\n",
       "      <td>Debbie</td>\n",
       "      <td>Payne</td>\n",
       "      <td>F</td>\n",
       "      <td>204 Ashley Neck Apt. 169</td>\n",
       "      <td>...</td>\n",
       "      <td>41.5224</td>\n",
       "      <td>-71.9934</td>\n",
       "      <td>4720</td>\n",
       "      <td>Broadcast presenter</td>\n",
       "      <td>1977-05-18</td>\n",
       "      <td>3bd9ede04b5c093143d5e5292940b670</td>\n",
       "      <td>1332612553</td>\n",
       "      <td>41.657152</td>\n",
       "      <td>-72.595751</td>\n",
       "      <td>0</td>\n",
       "    </tr>\n",
       "    <tr>\n",
       "      <th>1020243</th>\n",
       "      <td>1020243</td>\n",
       "      <td>2020-02-25 15:12</td>\n",
       "      <td>4.957920e+12</td>\n",
       "      <td>fraud_Monahan-Morar</td>\n",
       "      <td>personal_care</td>\n",
       "      <td>25.58</td>\n",
       "      <td>Alan</td>\n",
       "      <td>Parsons</td>\n",
       "      <td>M</td>\n",
       "      <td>0547 Russell Ford Suite 574</td>\n",
       "      <td>...</td>\n",
       "      <td>39.6171</td>\n",
       "      <td>-102.4776</td>\n",
       "      <td>207</td>\n",
       "      <td>Network engineer</td>\n",
       "      <td>1955-12-04</td>\n",
       "      <td>19e16ee7a01d229e750359098365e321</td>\n",
       "      <td>1361805120</td>\n",
       "      <td>39.080346</td>\n",
       "      <td>-103.213452</td>\n",
       "      <td>0</td>\n",
       "    </tr>\n",
       "    <tr>\n",
       "      <th>116272</th>\n",
       "      <td>116272</td>\n",
       "      <td>2019-03-06 23:19</td>\n",
       "      <td>4.178100e+15</td>\n",
       "      <td>fraud_Kozey-Kuhlman</td>\n",
       "      <td>personal_care</td>\n",
       "      <td>84.96</td>\n",
       "      <td>Jill</td>\n",
       "      <td>Flores</td>\n",
       "      <td>F</td>\n",
       "      <td>639 Cruz Islands</td>\n",
       "      <td>...</td>\n",
       "      <td>41.9488</td>\n",
       "      <td>-86.4913</td>\n",
       "      <td>3104</td>\n",
       "      <td>Horticulturist, commercial</td>\n",
       "      <td>1981-03-29</td>\n",
       "      <td>a0c8641ca1f5d6e243ed5a2246e66176</td>\n",
       "      <td>1331075954</td>\n",
       "      <td>42.502065</td>\n",
       "      <td>-86.732664</td>\n",
       "      <td>0</td>\n",
       "    </tr>\n",
       "  </tbody>\n",
       "</table>\n",
       "<p>5 rows × 23 columns</p>\n",
       "</div>"
      ],
      "text/plain": [
       "         Unnamed: 0 trans_date_trans_time        cc_num  \\\n",
       "669418       669418      2019-10-12 18:21  4.089100e+18   \n",
       "32567         32567      2019-01-20 13:06  4.247920e+12   \n",
       "156587       156587      2019-03-24 18:09  4.026220e+12   \n",
       "1020243     1020243      2020-02-25 15:12  4.957920e+12   \n",
       "116272       116272      2019-03-06 23:19  4.178100e+15   \n",
       "\n",
       "                                  merchant       category    amt   first  \\\n",
       "669418   fraud_Haley, Jewess and Bechtelar   shopping_pos   7.53   Debra   \n",
       "32567                     fraud_Turner LLC         travel   3.79  Judith   \n",
       "156587                   fraud_Klein Group  entertainment  59.07  Debbie   \n",
       "1020243                fraud_Monahan-Morar  personal_care  25.58    Alan   \n",
       "116272                 fraud_Kozey-Kuhlman  personal_care  84.96    Jill   \n",
       "\n",
       "            last gender                           street  ...      lat  \\\n",
       "669418     Stark      F                   686 Linda Rest  ...  32.3836   \n",
       "32567       Moss      F  46297 Benjamin Plains Suite 703  ...  39.5370   \n",
       "156587     Payne      F         204 Ashley Neck Apt. 169  ...  41.5224   \n",
       "1020243  Parsons      M      0547 Russell Ford Suite 574  ...  39.6171   \n",
       "116272    Flores      F                 639 Cruz Islands  ...  41.9488   \n",
       "\n",
       "             long  city_pop                         job         dob  \\\n",
       "669418   -94.8653     24536       Multimedia programmer  1983-10-14   \n",
       "32567    -83.4550     22305    Television floor manager  1939-03-09   \n",
       "156587   -71.9934      4720         Broadcast presenter  1977-05-18   \n",
       "1020243 -102.4776       207            Network engineer  1955-12-04   \n",
       "116272   -86.4913      3104  Horticulturist, commercial  1981-03-29   \n",
       "\n",
       "                                trans_num   unix_time  merch_lat  merch_long  \\\n",
       "669418   d313353fa30233e5fab5468e852d22fc  1350066071  32.202008  -94.371865   \n",
       "32567    88c65b4e1585934d578511e627fe3589  1327064760  39.156673  -82.930503   \n",
       "156587   3bd9ede04b5c093143d5e5292940b670  1332612553  41.657152  -72.595751   \n",
       "1020243  19e16ee7a01d229e750359098365e321  1361805120  39.080346 -103.213452   \n",
       "116272   a0c8641ca1f5d6e243ed5a2246e66176  1331075954  42.502065  -86.732664   \n",
       "\n",
       "         is_fraud  \n",
       "669418          0  \n",
       "32567           0  \n",
       "156587          0  \n",
       "1020243         0  \n",
       "116272          0  \n",
       "\n",
       "[5 rows x 23 columns]"
      ]
     },
     "execution_count": 27,
     "metadata": {},
     "output_type": "execute_result"
    }
   ],
   "source": [
    "import pandas as pd\n",
    "df = pd.read_csv(\"fraudTrain.csv\")\n",
    "df = df[df[\"is_fraud\"]==0].sample(frac=0.20, random_state=42).append(df[df[\"is_fraud\"] == 1])\n",
    "df.head()"
   ]
  },
  {
   "cell_type": "code",
   "execution_count": 28,
   "id": "718e5ab6-7124-4a0b-9da9-ca7f107e42a6",
   "metadata": {},
   "outputs": [
    {
     "data": {
      "text/plain": [
       "0    208514\n",
       "1      6006\n",
       "Name: is_fraud, dtype: int64"
      ]
     },
     "execution_count": 28,
     "metadata": {},
     "output_type": "execute_result"
    }
   ],
   "source": [
    "df[\"is_fraud\"].value_counts()"
   ]
  },
  {
   "cell_type": "code",
   "execution_count": 32,
   "id": "a7526b45-9dc8-4d80-a3af-1569fe6421ad",
   "metadata": {},
   "outputs": [],
   "source": [
    "def build_graph_bipartite(df_input, graph_type=nx.Graph()):\n",
    "    df=df_input.copy()\n",
    "    mapping={x:node_id for node_id, x in enumerate(set(df[\"cc_num\"].values.tolist()+\\\n",
    "                                                      df[\"merchant\"].values.tolist()))}\n",
    "    \n",
    "    df[\"from\"]=df[\"cc_num\"].apply(lambda x:mapping[x])  #엣지의 출발점\n",
    "    df[\"to\"]=df[\"merchant\"].apply(lambda x:mapping[x])  #엣지의 도착점\n",
    "    \n",
    "    df = df[['from', 'to', \"amt\", \"is_fraud\"]].groupby(['from','to']).agg({\"is_fraud\":\"sum\",\"amt\":\"sum\"}).reset_index()\n",
    "    df[\"is_fraud\"]=df[\"is_fraud\"].apply(lambda x:1 if x>0 else 0)\n",
    "    \n",
    "    G=nx.from_edgelist(df[[\"from\",\"to\"]].values, create_using=graph_type)\n",
    "    \n",
    "    nx.set_edge_attributes(G, {(int(x[\"from\"]),int(x[\"to\"])):x[\"is_fraud\"] for idx, x in df[[\"from\",\"to\",\"is_fraud\"]].iterrows()}, \"label\")  #엣지 속성 설정,각 속성의 사기 여부부 \n",
    "    \n",
    "    nx.set_edge_attributes(G,{(int(x[\"from\"]),int(x[\"to\"])):x[\"amt\"] for idx,x in df[[\"from\",\"to\",\"amt\"]].iterrows()}, \"weight\") # 엣지 속성 설정, 각 엣지의 거래 금액\n",
    "\n",
    "    return G"
   ]
  },
  {
   "cell_type": "code",
   "execution_count": 33,
   "id": "deb20eec-5a09-4d01-ae88-d9e2cd5c1c6e",
   "metadata": {},
   "outputs": [
    {
     "name": "stdout",
     "output_type": "stream",
     "text": [
      "1    6006\n",
      "0    6006\n",
      "Name: is_fraud, dtype: int64\n"
     ]
    }
   ],
   "source": [
    "from sklearn.utils import resample\n",
    "\n",
    "df_majority = df[df.is_fraud==0]\n",
    "df_minority = df[df.is_fraud==1]\n",
    "\n",
    "df_maj_dowsampled = resample(df_majority,\n",
    "                             n_samples=len(df_minority),\n",
    "                             random_state=42)\n",
    "\n",
    "df_downsampled = pd.concat([df_minority, df_maj_dowsampled])\n",
    "\n",
    "print(df_downsampled.is_fraud.value_counts())\n",
    "G_down = build_graph_bipartite(df_downsampled)"
   ]
  },
  {
   "cell_type": "code",
   "execution_count": 46,
   "id": "9921b5c7-7d98-4ef4-ba91-254d79c7fa8a",
   "metadata": {},
   "outputs": [],
   "source": [
    "from sklearn.model_selection import train_test_split\n",
    "\n",
    "\n",
    "train_edges, test_edges, train_labels, test_labels = train_test_split(list(range(len(G_down.edges))), \n",
    "                                                                      list(nx.get_edge_attributes(G_down, \"label\").values()), \n",
    "                                                                      test_size=0.30, \n",
    "                                                                      random_state=42)"
   ]
  },
  {
   "cell_type": "code",
   "execution_count": 47,
   "id": "50814a7e-f393-4245-a8df-1c09ce4b912c",
   "metadata": {},
   "outputs": [],
   "source": [
    "edgs = list(G_down.edges)\n",
    "train_graph = G_down.edge_subgraph([edgs[x] for x in train_edges]).copy()\n",
    "train_graph.add_nodes_from(list(set(G_down.nodes) - set(train_graph.nodes)))"
   ]
  },
  {
   "cell_type": "code",
   "execution_count": 48,
   "id": "284a59f2-10de-4d2e-ba7f-d56edcaa3983",
   "metadata": {},
   "outputs": [
    {
     "data": {
      "application/vnd.jupyter.widget-view+json": {
       "model_id": "d8ee9df585114d8c8ffadd41b281c98e",
       "version_major": 2,
       "version_minor": 0
      },
      "text/plain": [
       "HBox(children=(FloatProgress(value=0.0, description='Computing transition probabilities', max=1624.0, style=Pr…"
      ]
     },
     "metadata": {},
     "output_type": "display_data"
    },
    {
     "name": "stderr",
     "output_type": "stream",
     "text": [
      "Generating walks (CPU: 1):   0%|          | 0/10 [00:00<?, ?it/s]"
     ]
    },
    {
     "name": "stdout",
     "output_type": "stream",
     "text": [
      "\n"
     ]
    },
    {
     "name": "stderr",
     "output_type": "stream",
     "text": [
      "Generating walks (CPU: 1): 100%|██████████| 10/10 [00:04<00:00,  2.29it/s]\n"
     ]
    }
   ],
   "source": [
    "from node2vec import Node2Vec\n",
    "from node2vec.edges import HadamardEmbedder, AverageEmbedder, WeightedL1Embedder, WeightedL2Embedder\n",
    "\n",
    "node2vec_train = Node2Vec(train_graph, weight_key='weight')\n",
    "model_train = node2vec_train.fit(window=10)"
   ]
  },
  {
   "cell_type": "markdown",
   "id": "47a2ba2b-b918-40cb-9819-e80a6f2b3698",
   "metadata": {},
   "source": [
    "# _df2"
   ]
  },
  {
   "cell_type": "code",
   "execution_count": 34,
   "id": "5c580b86-81c7-4abb-8a97-94150569615c",
   "metadata": {},
   "outputs": [],
   "source": [
    "cus_list = set(_df.query('is_fraud==1').cc_num.tolist())\n",
    "_df2 = _df.query(\"cc_num in @ cus_list\")\n",
    "_df2 = _df2.assign(time= list(map(lambda x: int(x.split(' ')[-1].split(':')[0]), _df2['trans_date_trans_time'])))"
   ]
  },
  {
   "cell_type": "code",
   "execution_count": 6,
   "id": "10d8945f-8bea-45ad-bbc1-492e303adba3",
   "metadata": {},
   "outputs": [
    {
     "data": {
      "text/plain": [
       "0    645424\n",
       "1      6006\n",
       "Name: is_fraud, dtype: int64"
      ]
     },
     "execution_count": 6,
     "metadata": {},
     "output_type": "execute_result"
    }
   ],
   "source": [
    "_df2[\"is_fraud\"].value_counts()"
   ]
  },
  {
   "cell_type": "code",
   "execution_count": null,
   "id": "a6e52adb-6ce7-44e9-ba66-e30112067e60",
   "metadata": {},
   "outputs": [],
   "source": []
  },
  {
   "cell_type": "code",
   "execution_count": null,
   "id": "090182d4-4639-445a-a138-cfa6715995cd",
   "metadata": {},
   "outputs": [],
   "source": []
  },
  {
   "cell_type": "markdown",
   "id": "e7ba0b53-d28c-4ee0-9462-f46a6c62118f",
   "metadata": {},
   "source": [
    "# traing(graph), test(logistic)"
   ]
  },
  {
   "cell_type": "code",
   "execution_count": null,
   "id": "6b4684f0-41cb-4b6a-b73e-8a10ddbe39ef",
   "metadata": {},
   "outputs": [],
   "source": []
  },
  {
   "cell_type": "code",
   "execution_count": null,
   "id": "06294a12-bd48-49fe-b61b-8f85aac5c31d",
   "metadata": {},
   "outputs": [],
   "source": []
  },
  {
   "cell_type": "code",
   "execution_count": null,
   "id": "7ed2dd15-1147-400f-83d2-31a5f55bcf67",
   "metadata": {},
   "outputs": [],
   "source": []
  },
  {
   "cell_type": "code",
   "execution_count": null,
   "id": "c4ded90d-9924-4979-82ba-4db01d258a3e",
   "metadata": {},
   "outputs": [],
   "source": []
  },
  {
   "cell_type": "code",
   "execution_count": 25,
   "id": "0060c96a-ec3e-4b50-aaed-41c42cef07cb",
   "metadata": {},
   "outputs": [
    {
     "name": "stdout",
     "output_type": "stream",
     "text": [
      "Accuracy: 0.9901370830327126\n",
      "Precision: 0.9828081572713412\n",
      "Recall: 0.9901370830327126\n",
      "F1 score: 0.9863349833795687\n"
     ]
    }
   ],
   "source": [
    "acc= accuracy_score(y_test, y_pred)\n",
    "precision = precision_score(y_test, y_pred, average='weighted')\n",
    "recall = recall_score(y_test, y_pred, average='weighted')\n",
    "f1score = f1_score(y_test, y_pred, average='weighted')\n",
    "print(\"Accuracy: {}\".format(acc))\n",
    "print(\"Precision: {}\".format(precision))\n",
    "print(\"Recall: {}\".format(recall))\n",
    "print(\"F1 score: {}\".format(f1score))"
   ]
  },
  {
   "cell_type": "code",
   "execution_count": 26,
   "id": "9d2585a0-55dd-40f9-8711-4f43f1141e1b",
   "metadata": {
    "tags": []
   },
   "outputs": [
    {
     "name": "stdout",
     "output_type": "stream",
     "text": [
      "Accuracy: 0.9901370830327126\n",
      "Precision:0.5161488365532587\n",
      "Recall: 0.502064360813953\n",
      "F1 score: 0.5021479963069431\n"
     ]
    }
   ],
   "source": [
    "acc= accuracy_score(y_test, y_pred)\n",
    "precision = precision_score(y_test, y_pred, average='macro')\n",
    "recall = recall_score(y_test, y_pred, average='macro')\n",
    "f1score = f1_score(y_test, y_pred, average='macro')\n",
    "print(\"Accuracy: {}\".format(acc))\n",
    "print(\"Precision:{}\".format(precision))\n",
    "print(\"Recall: {}\".format(recall))\n",
    "print(\"F1 score: {}\".format(f1score))"
   ]
  },
  {
   "cell_type": "markdown",
   "id": "dad6693e-a503-4471-8bb2-6e9962a65e36",
   "metadata": {},
   "source": [
    "> 간단하게 생각해보면, 고객의 lat과 상점의 lat의 차이가 크다.. 그러면 사기거래일 가능성이 클 거 같은 느낌.?"
   ]
  },
  {
   "cell_type": "code",
   "execution_count": null,
   "id": "7997cd01-c013-479d-83f7-ec4c52220f6d",
   "metadata": {},
   "outputs": [],
   "source": [
    "from sklearn.ensemble import RandomForestClassifier \n",
    "from sklearn import metrics \n",
    "\n",
    "classes = [HadamardEmbedder, AverageEmbedder, WeightedL1Embedder, WeightedL2Embedder]\n",
    "for cl in classes:\n",
    "    embeddings_train = cl(keyed_vectors=model_train.wv) \n",
    "\n",
    "    train_embeddings = [embeddings_train[str(edgs[x][0]), str(edgs[x][1])] for x in train_edges]\n",
    "    test_embeddings = [embeddings_train[str(edgs[x][0]), str(edgs[x][1])] for x in test_edges]\n",
    "    \n",
    "    rf = RandomForestClassifier(n_estimators=1000, random_state=42) \n",
    "    rf.fit(train_embeddings, train_labels); \n",
    "\n",
    "    y_pred2 = rf.predict(test_embeddings)\n",
    "    print(cl)\n",
    "    print('Precision:', metrics.precision_score(test_labels, y_pred)) \n",
    "    print('Recall:', metrics.recall_score(test_labels, y_pred)) \n",
    "    print('F1-Score:', metrics.f1_score(test_labels, y_pred)) "
   ]
  }
 ],
 "metadata": {
  "kernelspec": {
   "display_name": "Python 3 (ipykernel)",
   "language": "python",
   "name": "python3"
  },
  "language_info": {
   "codemirror_mode": {
    "name": "ipython",
    "version": 3
   },
   "file_extension": ".py",
   "mimetype": "text/x-python",
   "name": "python",
   "nbconvert_exporter": "python",
   "pygments_lexer": "ipython3",
   "version": "3.8.16"
  }
 },
 "nbformat": 4,
 "nbformat_minor": 5
}
