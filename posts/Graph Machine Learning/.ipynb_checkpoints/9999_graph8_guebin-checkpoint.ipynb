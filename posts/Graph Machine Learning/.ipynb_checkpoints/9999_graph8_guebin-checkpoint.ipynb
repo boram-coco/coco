{
 "cells": [
  {
   "cell_type": "raw",
   "id": "c8593b37-a6e6-4ccb-b9b2-349f55cb2b69",
   "metadata": {},
   "source": [
    "---\n",
    "title: \"CH8. 신용카드 거래에 대한 그래프 분석(basic)\"\n",
    "author: \"김보람\"\n",
    "date: \"04/04/2023\"\n",
    "categories:\n",
    "  - graph\n",
    "---"
   ]
  },
  {
   "cell_type": "markdown",
   "id": "8e03341d-db6a-473a-91fa-7d878f69f879",
   "metadata": {},
   "source": [
    "# ref "
   ]
  },
  {
   "cell_type": "markdown",
   "id": "58852ab1-0532-4ed0-ae31-7ce58f1dc17c",
   "metadata": {},
   "source": [
    "- [그래프 머신러닝](https://product.kyobobook.co.kr/detail/S000200738068)\n",
    "\n",
    "- [github](https://github.com/PacktPublishing/Graph-Machine-Learning)\n",
    "\n",
    "- [Credit Card Transactions Fraud Detection Dataset](https://www.kaggle.com/datasets/kartik2112/fraud-detection?select=fraudTrain.csv)\n",
    "\n",
    "- [컬리이미지](https://static.packt-cdn.com/downloads/9781800204492_ColorImages.pdf)"
   ]
  },
  {
   "cell_type": "markdown",
   "id": "fa2cb411-6c24-4f68-9d52-1da81a074567",
   "metadata": {},
   "source": [
    "# 신용카드 거래에 대한 그래프 분석"
   ]
  },
  {
   "cell_type": "markdown",
   "id": "1ef8d7dd-ab41-4225-b146-2dd58706335a",
   "metadata": {},
   "source": [
    "- 신용카드 거래 그래프 생성\n",
    "\n",
    "- 그래프에서 속성 및 커뮤니티 추출\n",
    "\n",
    "- 사기 거래 분류에 지도 및 비지도 머신러닝 알고리즘 적용"
   ]
  },
  {
   "cell_type": "code",
   "execution_count": 3,
   "id": "2890a534-f6f5-48b1-a590-6c4fcadb3e3c",
   "metadata": {},
   "outputs": [],
   "source": [
    "import pandas as pd"
   ]
  },
  {
   "cell_type": "code",
   "execution_count": 4,
   "id": "34e84c4e-e473-48ea-92dd-f070438e993d",
   "metadata": {},
   "outputs": [],
   "source": [
    "import os\n",
    "import math\n",
    "import numpy as np\n",
    "import networkx as nx\n",
    "import matplotlib.pyplot as plt\n",
    "%matplotlib inline\n",
    "\n",
    "default_edge_color = 'gray'\n",
    "default_node_color = '#407cc9'\n",
    "enhanced_node_color = '#f5b042'\n",
    "enhanced_edge_color = '#cc2f04'"
   ]
  },
  {
   "cell_type": "code",
   "execution_count": 5,
   "id": "b16bdd74-66b8-483c-bfd8-61d55b3ac6c3",
   "metadata": {},
   "outputs": [
    {
     "data": {
      "text/html": [
       "<div>\n",
       "<style scoped>\n",
       "    .dataframe tbody tr th:only-of-type {\n",
       "        vertical-align: middle;\n",
       "    }\n",
       "\n",
       "    .dataframe tbody tr th {\n",
       "        vertical-align: top;\n",
       "    }\n",
       "\n",
       "    .dataframe thead th {\n",
       "        text-align: right;\n",
       "    }\n",
       "</style>\n",
       "<table border=\"1\" class=\"dataframe\">\n",
       "  <thead>\n",
       "    <tr style=\"text-align: right;\">\n",
       "      <th></th>\n",
       "      <th>Unnamed: 0</th>\n",
       "      <th>trans_date_trans_time</th>\n",
       "      <th>cc_num</th>\n",
       "      <th>merchant</th>\n",
       "      <th>category</th>\n",
       "      <th>amt</th>\n",
       "      <th>first</th>\n",
       "      <th>last</th>\n",
       "      <th>gender</th>\n",
       "      <th>street</th>\n",
       "      <th>...</th>\n",
       "      <th>lat</th>\n",
       "      <th>long</th>\n",
       "      <th>city_pop</th>\n",
       "      <th>job</th>\n",
       "      <th>dob</th>\n",
       "      <th>trans_num</th>\n",
       "      <th>unix_time</th>\n",
       "      <th>merch_lat</th>\n",
       "      <th>merch_long</th>\n",
       "      <th>is_fraud</th>\n",
       "    </tr>\n",
       "  </thead>\n",
       "  <tbody>\n",
       "    <tr>\n",
       "      <th>669418</th>\n",
       "      <td>669418</td>\n",
       "      <td>2019-10-12 18:21</td>\n",
       "      <td>4.089100e+18</td>\n",
       "      <td>fraud_Haley, Jewess and Bechtelar</td>\n",
       "      <td>shopping_pos</td>\n",
       "      <td>7.53</td>\n",
       "      <td>Debra</td>\n",
       "      <td>Stark</td>\n",
       "      <td>F</td>\n",
       "      <td>686 Linda Rest</td>\n",
       "      <td>...</td>\n",
       "      <td>32.3836</td>\n",
       "      <td>-94.8653</td>\n",
       "      <td>24536</td>\n",
       "      <td>Multimedia programmer</td>\n",
       "      <td>1983-10-14</td>\n",
       "      <td>d313353fa30233e5fab5468e852d22fc</td>\n",
       "      <td>1350066071</td>\n",
       "      <td>32.202008</td>\n",
       "      <td>-94.371865</td>\n",
       "      <td>0</td>\n",
       "    </tr>\n",
       "    <tr>\n",
       "      <th>32567</th>\n",
       "      <td>32567</td>\n",
       "      <td>2019-01-20 13:06</td>\n",
       "      <td>4.247920e+12</td>\n",
       "      <td>fraud_Turner LLC</td>\n",
       "      <td>travel</td>\n",
       "      <td>3.79</td>\n",
       "      <td>Judith</td>\n",
       "      <td>Moss</td>\n",
       "      <td>F</td>\n",
       "      <td>46297 Benjamin Plains Suite 703</td>\n",
       "      <td>...</td>\n",
       "      <td>39.5370</td>\n",
       "      <td>-83.4550</td>\n",
       "      <td>22305</td>\n",
       "      <td>Television floor manager</td>\n",
       "      <td>1939-03-09</td>\n",
       "      <td>88c65b4e1585934d578511e627fe3589</td>\n",
       "      <td>1327064760</td>\n",
       "      <td>39.156673</td>\n",
       "      <td>-82.930503</td>\n",
       "      <td>0</td>\n",
       "    </tr>\n",
       "    <tr>\n",
       "      <th>156587</th>\n",
       "      <td>156587</td>\n",
       "      <td>2019-03-24 18:09</td>\n",
       "      <td>4.026220e+12</td>\n",
       "      <td>fraud_Klein Group</td>\n",
       "      <td>entertainment</td>\n",
       "      <td>59.07</td>\n",
       "      <td>Debbie</td>\n",
       "      <td>Payne</td>\n",
       "      <td>F</td>\n",
       "      <td>204 Ashley Neck Apt. 169</td>\n",
       "      <td>...</td>\n",
       "      <td>41.5224</td>\n",
       "      <td>-71.9934</td>\n",
       "      <td>4720</td>\n",
       "      <td>Broadcast presenter</td>\n",
       "      <td>1977-05-18</td>\n",
       "      <td>3bd9ede04b5c093143d5e5292940b670</td>\n",
       "      <td>1332612553</td>\n",
       "      <td>41.657152</td>\n",
       "      <td>-72.595751</td>\n",
       "      <td>0</td>\n",
       "    </tr>\n",
       "    <tr>\n",
       "      <th>1020243</th>\n",
       "      <td>1020243</td>\n",
       "      <td>2020-02-25 15:12</td>\n",
       "      <td>4.957920e+12</td>\n",
       "      <td>fraud_Monahan-Morar</td>\n",
       "      <td>personal_care</td>\n",
       "      <td>25.58</td>\n",
       "      <td>Alan</td>\n",
       "      <td>Parsons</td>\n",
       "      <td>M</td>\n",
       "      <td>0547 Russell Ford Suite 574</td>\n",
       "      <td>...</td>\n",
       "      <td>39.6171</td>\n",
       "      <td>-102.4776</td>\n",
       "      <td>207</td>\n",
       "      <td>Network engineer</td>\n",
       "      <td>1955-12-04</td>\n",
       "      <td>19e16ee7a01d229e750359098365e321</td>\n",
       "      <td>1361805120</td>\n",
       "      <td>39.080346</td>\n",
       "      <td>-103.213452</td>\n",
       "      <td>0</td>\n",
       "    </tr>\n",
       "    <tr>\n",
       "      <th>116272</th>\n",
       "      <td>116272</td>\n",
       "      <td>2019-03-06 23:19</td>\n",
       "      <td>4.178100e+15</td>\n",
       "      <td>fraud_Kozey-Kuhlman</td>\n",
       "      <td>personal_care</td>\n",
       "      <td>84.96</td>\n",
       "      <td>Jill</td>\n",
       "      <td>Flores</td>\n",
       "      <td>F</td>\n",
       "      <td>639 Cruz Islands</td>\n",
       "      <td>...</td>\n",
       "      <td>41.9488</td>\n",
       "      <td>-86.4913</td>\n",
       "      <td>3104</td>\n",
       "      <td>Horticulturist, commercial</td>\n",
       "      <td>1981-03-29</td>\n",
       "      <td>a0c8641ca1f5d6e243ed5a2246e66176</td>\n",
       "      <td>1331075954</td>\n",
       "      <td>42.502065</td>\n",
       "      <td>-86.732664</td>\n",
       "      <td>0</td>\n",
       "    </tr>\n",
       "  </tbody>\n",
       "</table>\n",
       "<p>5 rows × 23 columns</p>\n",
       "</div>"
      ],
      "text/plain": [
       "         Unnamed: 0 trans_date_trans_time        cc_num  \\\n",
       "669418       669418      2019-10-12 18:21  4.089100e+18   \n",
       "32567         32567      2019-01-20 13:06  4.247920e+12   \n",
       "156587       156587      2019-03-24 18:09  4.026220e+12   \n",
       "1020243     1020243      2020-02-25 15:12  4.957920e+12   \n",
       "116272       116272      2019-03-06 23:19  4.178100e+15   \n",
       "\n",
       "                                  merchant       category    amt   first  \\\n",
       "669418   fraud_Haley, Jewess and Bechtelar   shopping_pos   7.53   Debra   \n",
       "32567                     fraud_Turner LLC         travel   3.79  Judith   \n",
       "156587                   fraud_Klein Group  entertainment  59.07  Debbie   \n",
       "1020243                fraud_Monahan-Morar  personal_care  25.58    Alan   \n",
       "116272                 fraud_Kozey-Kuhlman  personal_care  84.96    Jill   \n",
       "\n",
       "            last gender                           street  ...      lat  \\\n",
       "669418     Stark      F                   686 Linda Rest  ...  32.3836   \n",
       "32567       Moss      F  46297 Benjamin Plains Suite 703  ...  39.5370   \n",
       "156587     Payne      F         204 Ashley Neck Apt. 169  ...  41.5224   \n",
       "1020243  Parsons      M      0547 Russell Ford Suite 574  ...  39.6171   \n",
       "116272    Flores      F                 639 Cruz Islands  ...  41.9488   \n",
       "\n",
       "             long  city_pop                         job         dob  \\\n",
       "669418   -94.8653     24536       Multimedia programmer  1983-10-14   \n",
       "32567    -83.4550     22305    Television floor manager  1939-03-09   \n",
       "156587   -71.9934      4720         Broadcast presenter  1977-05-18   \n",
       "1020243 -102.4776       207            Network engineer  1955-12-04   \n",
       "116272   -86.4913      3104  Horticulturist, commercial  1981-03-29   \n",
       "\n",
       "                                trans_num   unix_time  merch_lat  merch_long  \\\n",
       "669418   d313353fa30233e5fab5468e852d22fc  1350066071  32.202008  -94.371865   \n",
       "32567    88c65b4e1585934d578511e627fe3589  1327064760  39.156673  -82.930503   \n",
       "156587   3bd9ede04b5c093143d5e5292940b670  1332612553  41.657152  -72.595751   \n",
       "1020243  19e16ee7a01d229e750359098365e321  1361805120  39.080346 -103.213452   \n",
       "116272   a0c8641ca1f5d6e243ed5a2246e66176  1331075954  42.502065  -86.732664   \n",
       "\n",
       "         is_fraud  \n",
       "669418          0  \n",
       "32567           0  \n",
       "156587          0  \n",
       "1020243         0  \n",
       "116272          0  \n",
       "\n",
       "[5 rows x 23 columns]"
      ]
     },
     "execution_count": 5,
     "metadata": {},
     "output_type": "execute_result"
    }
   ],
   "source": [
    "import pandas as pd\n",
    "df = pd.read_csv(\"~/Desktop/fraudTrain.csv\")\n",
    "df = df[df[\"is_fraud\"]==0].sample(frac=0.20, random_state=42).append(df[df[\"is_fraud\"] == 1])\n",
    "df.head()"
   ]
  },
  {
   "cell_type": "code",
   "execution_count": 6,
   "id": "44c63d11-f4aa-4ba7-8f9c-318186a08de3",
   "metadata": {},
   "outputs": [
    {
     "data": {
      "text/plain": [
       "0    208514\n",
       "1      6006\n",
       "Name: is_fraud, dtype: int64"
      ]
     },
     "execution_count": 6,
     "metadata": {},
     "output_type": "execute_result"
    }
   ],
   "source": [
    "df[\"is_fraud\"].value_counts()"
   ]
  },
  {
   "cell_type": "markdown",
   "id": "0bf5ddc2-3c94-4d75-ae2e-d24960901f17",
   "metadata": {},
   "source": [
    "- 책: 총 265,342건 거래 중 7,506건(2,83%)가 사기\n",
    "\n",
    "- 214,520건 거래중 6,006건(2.8%)가 사기"
   ]
  },
  {
   "cell_type": "markdown",
   "id": "9d1c0923-3747-4592-9d4c-3f05ddc86195",
   "metadata": {},
   "source": [
    "`-` 이분 접근 방식 $G=(V,E,w)$\n",
    "\n",
    "$V=V_C \\cup V_m$\n",
    "\n",
    "$c \\in V_c$ $c$:고객\n",
    "\n",
    "$m \\in V_m$ $m$:판매자"
   ]
  },
  {
   "cell_type": "markdown",
   "id": "9472937e-ac8d-45ab-8d26-454bbbf76c3d",
   "metadata": {},
   "source": [
    "`-` 이분그래프"
   ]
  },
  {
   "cell_type": "code",
   "execution_count": 7,
   "id": "44f78797-91db-4943-880f-625f41ff87ff",
   "metadata": {},
   "outputs": [],
   "source": [
    "def build_graph_bipartite(df_input, graph_type=nx.Graph()):\n",
    "    df=df_input.copy()\n",
    "    mapping={x:node_id for node_id, x in enumerate(set(df[\"cc_num\"].values.tolist()+\\\n",
    "                                                      df[\"merchant\"].values.tolist()))}\n",
    "    \n",
    "    df[\"from\"]=df[\"cc_num\"].apply(lambda x:mapping[x])  #엣지의 출발점\n",
    "    df[\"to\"]=df[\"merchant\"].apply(lambda x:mapping[x])  #엣지의 도착점\n",
    "    \n",
    "    df = df[['from', 'to', \"amt\", \"is_fraud\"]].groupby(['from','to']).agg({\"is_fraud\":\"sum\",\"amt\":\"sum\"}).reset_index()\n",
    "    df[\"is_fraud\"]=df[\"is_fraud\"].apply(lambda x:1 if x>0 else 0)\n",
    "    \n",
    "    G=nx.from_edgelist(df[[\"from\",\"to\"]].values, create_using=graph_type)\n",
    "    \n",
    "    nx.set_edge_attributes(G, {(int(x[\"from\"]),int(x[\"to\"])):x[\"is_fraud\"] for idx, x in df[[\"from\",\"to\",\"is_fraud\"]].iterrows()}, \"label\")  #엣지 속성 설정,각 속성의 사기 여부부 \n",
    "    \n",
    "    nx.set_edge_attributes(G,{(int(x[\"from\"]),int(x[\"to\"])):x[\"amt\"] for idx,x in df[[\"from\",\"to\",\"amt\"]].iterrows()}, \"weight\") # 엣지 속성 설정, 각 엣지의 거래 금액\n",
    "\n",
    "    return G"
   ]
  },
  {
   "cell_type": "markdown",
   "id": "288a03e6-65d8-439b-8125-345bd05c4060",
   "metadata": {},
   "source": [
    "- 판매자, 고객에게 node 할당"
   ]
  },
  {
   "cell_type": "code",
   "execution_count": 8,
   "id": "bc51943a-aa8c-4d50-bfe5-370f04da2dbd",
   "metadata": {},
   "outputs": [],
   "source": [
    "G_bu = build_graph_bipartite(df, nx.Graph(name=\"Bipartite Undirect\"))"
   ]
  },
  {
   "cell_type": "markdown",
   "id": "15cb469b-37c0-4fcc-bb29-a5ba083162c3",
   "metadata": {},
   "source": [
    "- 무향 그래프 작성"
   ]
  },
  {
   "cell_type": "markdown",
   "id": "e4a5f718-5b3e-4c30-8d67-f30a737143bb",
   "metadata": {},
   "source": [
    "`-` 삼분그래프"
   ]
  },
  {
   "cell_type": "code",
   "execution_count": 9,
   "id": "de4f50b6-213c-4b04-b3bd-4ff0a8221ff5",
   "metadata": {},
   "outputs": [],
   "source": [
    "# def build_graph_tripartite(df_input, graph_type=nx.Graph()):\n",
    "#     df=df_input.copy()\n",
    "#     mapping={x:node_id for node_id, x in enumerate(set(df.index.values.tolist() + \n",
    "#                                                        df[\"cc_num\"].values.tolist() +\n",
    "#                                                        df[\"merchant\"].values.tolist()))}\n",
    "#     df[\"in_node\"]= df[\"cc_num\"].apply(lambda x: mapping[x])\n",
    "#     df[\"out_node\"]=df[\"merchant\"].apply(lambda x:mapping[x])\n",
    "    \n",
    "        \n",
    "#     G=nx.from_edgelist([(x[\"in_node\"], mapping[idx]) for idx, x in df.iterrows()] +\\\n",
    "#                         [(x[\"out_node\"], mapping[idx]) for idx, x in df.iterrows()], create_using=graph_type)\n",
    "    \n",
    "#     nx.set_edge_attributes(G,{(x[\"in_node\"], mapping[idx]):x[\"is_fraud\"] for idx, x in df.iterrows()}, \"label\")\n",
    "     \n",
    "#     nx.set_edge_attributes(G,{(x[\"out_node\"], mapping[idx]):x[\"is_fraud\"] for idx, x in df.iterrows()}, \"label\")\n",
    "    \n",
    "#     nx.set_edge_attributes(G,{(x[\"in_node\"], mapping[idx]):x[\"amt\"] for idx, x in df.iterrows()}, \"weight\")\n",
    "    \n",
    "#     nx.set_edge_attributes(G,{(x[\"out_node\"], mapping[idx]):x[\"amt\"] for idx, x in df.iterrows()}, \"weight\")\n",
    "    \n",
    "    \n",
    "#     return G\n",
    "    "
   ]
  },
  {
   "cell_type": "markdown",
   "id": "6027823d-ca18-439f-9bea-54460f7d7e70",
   "metadata": {},
   "source": [
    "- 판매자, 고객, 거래에 노드 할당"
   ]
  },
  {
   "cell_type": "code",
   "execution_count": 10,
   "id": "2be1fed8-bc99-46cd-8946-78e5edffb031",
   "metadata": {},
   "outputs": [],
   "source": [
    "# G_tu = build_graph_tripartite(df, nx.Graph())\n"
   ]
  },
  {
   "cell_type": "code",
   "execution_count": 12,
   "id": "a252ac33-7b45-430e-b094-13c66aa19546",
   "metadata": {},
   "outputs": [],
   "source": [
    "# from networkx.algorithms import bipartite\n",
    "# all([bipartite.is_bipartite(G) for G in [G_bu, G_tu]])"
   ]
  },
  {
   "cell_type": "markdown",
   "id": "d7f41bf3-d60d-4be7-a496-0b71f2ddd935",
   "metadata": {},
   "source": [
    "- 그래프가 실제 이분그래프인지 검증하는 코드"
   ]
  },
  {
   "cell_type": "code",
   "execution_count": 14,
   "id": "78fd8dcf-34e6-4a3a-b443-5d92ab157cb5",
   "metadata": {},
   "outputs": [],
   "source": [
    "# for G in [G_bu, G_tu]:\n",
    "#     print(nx.number_of_nodes(G))"
   ]
  },
  {
   "cell_type": "code",
   "execution_count": 15,
   "id": "beada851-671f-4202-8fff-bcb88aeecec3",
   "metadata": {},
   "outputs": [],
   "source": [
    "# for G in [G_bu, G_tu]:\n",
    "#     print(nx.number_of_edges(G))"
   ]
  },
  {
   "cell_type": "markdown",
   "id": "02d3d95b-d4c7-4a4e-8003-664c91ea8b63",
   "metadata": {},
   "source": [
    "## 네트워크 토폴로지"
   ]
  },
  {
   "cell_type": "markdown",
   "id": "0c1a5ca7-c1c3-4ea6-8a21-ab589890a006",
   "metadata": {},
   "source": [
    "- 각 그래프별 차수 분포 살펴보기"
   ]
  },
  {
   "cell_type": "code",
   "execution_count": 16,
   "id": "ca34a830-f531-4638-bf3c-bac82b9796a3",
   "metadata": {},
   "outputs": [],
   "source": [
    "# for G in [G_bu, G_tu]:\n",
    "#     plt.figure(figsize=(10,10))\n",
    "#     degrees = pd.Series({k:v for k, v in nx.degree(G)})\n",
    "#     degrees.plot.hist()\n",
    "#     plt.yscale(\"log\")"
   ]
  },
  {
   "cell_type": "markdown",
   "id": "3fd24d1d-d266-4153-b984-09abf3a1f3b8",
   "metadata": {},
   "source": [
    "`-` 각 그래프 간선 가중치 분포"
   ]
  },
  {
   "cell_type": "code",
   "execution_count": 17,
   "id": "f9d2a094-f8c4-4ce1-9bea-b901c6d3db41",
   "metadata": {},
   "outputs": [],
   "source": [
    "# for G in [G_bu, G_tu]:\n",
    "#     allEdgeWeights = pd.Series({\n",
    "#         (d[0],d[1]):d[2][\"weight\"]\n",
    "#         for d in G.edges(data=True)})\n",
    "#     np.quantile(allEdgeWeights.values,\n",
    "#                [0.10, 0.50, 0.70, 0.9])\n",
    "    "
   ]
  },
  {
   "cell_type": "code",
   "execution_count": 18,
   "id": "cf7e938c-4b81-4459-8d5e-10cbdfa5034d",
   "metadata": {},
   "outputs": [],
   "source": [
    "# np.quantile(allEdgeWeights.values,[0.10, 0.50, 0.70, 0.9])"
   ]
  },
  {
   "cell_type": "markdown",
   "id": "0ead2609-9fe1-41a9-b52c-5f7bd6747b54",
   "metadata": {},
   "source": [
    "`-` 매게 중심성 측정 지표"
   ]
  },
  {
   "cell_type": "code",
   "execution_count": 19,
   "id": "2b8e3a13-e474-4031-979b-272d755590fe",
   "metadata": {},
   "outputs": [],
   "source": [
    "# for G in [G_bu, G_tu]:\n",
    "#     plt.figure(figsize=(10,10))\n",
    "#     bc_distr = pd.Series(nx.betweenness_centrality(G))\n",
    "#     bc_distr.plot.hist()\n",
    "#     plt.yscale(\"log\")"
   ]
  },
  {
   "cell_type": "markdown",
   "id": "8d86a2cd-d794-4a9e-9c07-4c27aa8b949e",
   "metadata": {},
   "source": [
    "- 그래프 내에서 노드가 얼마나 중심적인 역할을 하는지 나타내는 지표\n",
    "\n",
    "- 해당 노드가 얼마나 많은 최단경로에 포함되는지 살피기\n",
    "\n",
    "- 노드가 많은 최단경로를 포함하면 해당노드의 매개중심성은 커진다."
   ]
  },
  {
   "cell_type": "markdown",
   "id": "6133b1b8-53cf-4d6e-bcd5-a776d6649b1d",
   "metadata": {},
   "source": [
    "`-` 상관계수"
   ]
  },
  {
   "cell_type": "code",
   "execution_count": 20,
   "id": "cadd5e18-554d-4ebc-845f-0e8861de978a",
   "metadata": {},
   "outputs": [],
   "source": [
    "# for G in [G_bu, G_tu]:\n",
    "#     print(nx.degree_pearson_correlation_coefficient(G))"
   ]
  },
  {
   "cell_type": "markdown",
   "id": "ae7303fe-e73f-4733-87fa-65fea617790a",
   "metadata": {},
   "source": [
    "- 음의 동류성\n",
    "\n",
    "- 연결도 높은 개인이 연골도 낮은 개인과 연관돼 있다.\n",
    "\n",
    "- 이분그래프: 낮은 차수의 고객은 들어오는 트랜잭션 수가 많은 높은 차수의 판매자와만 연결되어 상관계수가 낮다.\n",
    "\n",
    "- 삼분그래프:동류성이 훨씬 더 낮다. 트랜잭션 노드가 있기 댸문에?"
   ]
  },
  {
   "cell_type": "markdown",
   "id": "8bf8ea27-358d-4ab6-93f9-9850f8f24837",
   "metadata": {},
   "source": [
    "## 커뮤니티 감지"
   ]
  },
  {
   "cell_type": "code",
   "execution_count": 23,
   "id": "1b032ee5-ddd4-40c2-bb6c-c0d0af31f8cb",
   "metadata": {},
   "outputs": [],
   "source": [
    "# pip install python-louvain"
   ]
  },
  {
   "cell_type": "code",
   "execution_count": 22,
   "id": "79ded21f-9052-4769-9d2a-9a61bb967ba9",
   "metadata": {},
   "outputs": [],
   "source": [
    "# import networkx as nx\n",
    "# import community"
   ]
  },
  {
   "cell_type": "code",
   "execution_count": 23,
   "id": "0c4c89e4-a84d-4f3c-ac37-6731c13a3294",
   "metadata": {},
   "outputs": [],
   "source": [
    "# import community\n",
    "# for G in [G_bu, G_tu]:\n",
    "#     parts = community.best_partition(G, random_state=42, weight='weight')"
   ]
  },
  {
   "cell_type": "code",
   "execution_count": 24,
   "id": "efe199a4-55c6-453f-a6d4-55ed2d264e35",
   "metadata": {},
   "outputs": [],
   "source": [
    "# communities = pd.Series(parts)"
   ]
  },
  {
   "cell_type": "code",
   "execution_count": 25,
   "id": "7b1225bd-e0ce-4256-9441-32c703055372",
   "metadata": {},
   "outputs": [],
   "source": [
    "# print(communities.value_counts().sort_values(ascending=False))"
   ]
  },
  {
   "cell_type": "markdown",
   "id": "46092186-a2de-43fe-a9b2-f3789cc0aaff",
   "metadata": {},
   "source": [
    "- 커뮤니티 감지를 통해 특정 사기 패턴 식별\n",
    "\n",
    "- 커뮤니티 추출 후 포함된 노드 수에 따라 정렬"
   ]
  },
  {
   "cell_type": "code",
   "execution_count": 26,
   "id": "40b56032-6819-430b-a508-d48f3b272d23",
   "metadata": {},
   "outputs": [],
   "source": [
    "# communities.value_counts().plot.hist(bins=20)"
   ]
  },
  {
   "cell_type": "markdown",
   "id": "d2e1e2db-c6ab-41b8-a2f5-074d2440f535",
   "metadata": {},
   "source": [
    "- 2500부근에 형성되었고 .."
   ]
  },
  {
   "cell_type": "code",
   "execution_count": 27,
   "id": "54c1f5a9-235a-46ba-b1d2-a80785886446",
   "metadata": {},
   "outputs": [],
   "source": [
    "# graphs = [] # 부분그래프 저장\n",
    "# d = {}  # 부정 거래 비율 저장 \n",
    "# for x in communities.unique():\n",
    "#     tmp = nx.subgraph(G, communities[communities==x].index)\n",
    "#     fraud_edges = sum(nx.get_edge_attributes(tmp, \"label\").values())\n",
    "#     ratio = 0 if fraud_edges == 0 else (fraud_edges/tmp.number_of_edges())*100\n",
    "#     d[x] = ratio\n",
    "#     graphs += [tmp]\n",
    "\n",
    "# pd.Series(d).sort_values(ascending=False)"
   ]
  },
  {
   "cell_type": "markdown",
   "id": "67d1a991-3f3a-42b0-97a9-a98e078395a7",
   "metadata": {},
   "source": [
    "- 사기 거래 비율 계산. 사기 거래가 집중된 특정 하위 그래프 식별\n",
    "\n",
    "- 특정 커뮤니티에 포함된 노드를 사용하여 노드 유도 하위 그래프 생성\n",
    "\n",
    "- 하위 그래프: 모든 간선 수에 대한 사기 거래 간선 수의 비율로 사기 거래 백분율 계싼"
   ]
  },
  {
   "cell_type": "code",
   "execution_count": 28,
   "id": "21ccf12c-ada2-4db0-9ea6-614081a87024",
   "metadata": {},
   "outputs": [],
   "source": [
    "# gId = 10\n",
    "# plt.figure(figsize=(10,10))\n",
    "# spring_pos = nx.spring_layout(graphs[gId])\n",
    "# plt.axis(\"off\")\n",
    "# edge_colors = [\"r\" if x == 1 else \"g\" for x in nx.get_edge_attributes(graphs[gId], 'label').values()]  #r:빨간색, g:녹색\n",
    "# nx.draw_networkx(graphs[gId], pos=spring_pos, node_color=default_node_color, \n",
    "#                  edge_color=edge_colors, with_labels=False, node_size=15)"
   ]
  },
  {
   "cell_type": "markdown",
   "id": "123b30fe-f165-4d40-b711-e20e6099dca5",
   "metadata": {},
   "source": [
    "- 커뮤니티 감지 알고리즘에 의해 감지된 노드 유도 하위 그래프 그리기\n",
    "\n",
    "- 특정 커뮤니티 인덱스 gId가 주어지면 해당 커뮤니티에서 사용 가능한 노드로 유도 하위 그래프 추출하고 얻는다."
   ]
  },
  {
   "cell_type": "code",
   "execution_count": 29,
   "id": "1822b5a1-a8f3-461e-a544-c5c9bef1b6cc",
   "metadata": {},
   "outputs": [],
   "source": [
    "# gId = 6\n",
    "# plt.figure(figsize=(10,10))\n",
    "# spring_pos = nx.spring_layout(graphs[gId])\n",
    "# plt.axis(\"off\")\n",
    "# edge_colors = [\"r\" if x == 1 else \"g\" for x in nx.get_edge_attributes(graphs[gId], 'label').values()]  #r:빨간색, g:녹색\n",
    "# nx.draw_networkx(graphs[gId], pos=spring_pos, node_color=default_node_color, \n",
    "#                  edge_color=edge_colors, with_labels=False, node_size=15)"
   ]
  },
  {
   "cell_type": "code",
   "execution_count": 30,
   "id": "18ed43c5-00b1-490b-bb87-d9afa068981a",
   "metadata": {},
   "outputs": [],
   "source": [
    "# pd.Series(d).plot.hist(bins=20)"
   ]
  },
  {
   "cell_type": "markdown",
   "id": "23fb33a5-23a8-4378-91ac-aedcca26ef9b",
   "metadata": {},
   "source": [
    "## 사기 탐지를 위한 지도 및 비지도 임베딩"
   ]
  },
  {
   "cell_type": "markdown",
   "id": "35581a46-cf9e-4e7b-8f8c-f343c65fa7f4",
   "metadata": {},
   "source": [
    "- 트랜잭션 간선으로 표기\n",
    "\n",
    "- 각 간선을 올바른 클래스(사기 또는 정상)으로 분류"
   ]
  },
  {
   "cell_type": "markdown",
   "id": "d59d2633-61e6-4a0e-aee5-5d676f3bf563",
   "metadata": {},
   "source": [
    "### 지도학습"
   ]
  },
  {
   "cell_type": "code",
   "execution_count": null,
   "id": "2e9f5acd-e59d-44ca-972c-aba3f14b729c",
   "metadata": {},
   "outputs": [
    {
     "name": "stdout",
     "output_type": "stream",
     "text": [
      "1    6006\n",
      "0    6006\n",
      "Name: is_fraud, dtype: int64\n"
     ]
    }
   ],
   "source": [
    "from sklearn.utils import resample\n",
    "\n",
    "df_majority = df[df.is_fraud==0]\n",
    "df_minority = df[df.is_fraud==1]\n",
    "\n",
    "df_maj_dowsampled = resample(df_majority,\n",
    "                             n_samples=len(df_minority),\n",
    "                             random_state=42)\n",
    "\n",
    "df_downsampled = pd.concat([df_minority, df_maj_dowsampled])\n",
    "\n",
    "print(df_downsampled.is_fraud.value_counts())\n",
    "G_down = build_graph_bipartite(df_downsampled)"
   ]
  },
  {
   "cell_type": "code",
   "execution_count": 32,
   "id": "919dbd7d-9dcf-405b-9aad-7a48217036f4",
   "metadata": {},
   "outputs": [
    {
     "data": {
      "text/html": [
       "<div>\n",
       "<style scoped>\n",
       "    .dataframe tbody tr th:only-of-type {\n",
       "        vertical-align: middle;\n",
       "    }\n",
       "\n",
       "    .dataframe tbody tr th {\n",
       "        vertical-align: top;\n",
       "    }\n",
       "\n",
       "    .dataframe thead th {\n",
       "        text-align: right;\n",
       "    }\n",
       "</style>\n",
       "<table border=\"1\" class=\"dataframe\">\n",
       "  <thead>\n",
       "    <tr style=\"text-align: right;\">\n",
       "      <th></th>\n",
       "      <th>Unnamed: 0</th>\n",
       "      <th>trans_date_trans_time</th>\n",
       "      <th>cc_num</th>\n",
       "      <th>merchant</th>\n",
       "      <th>category</th>\n",
       "      <th>amt</th>\n",
       "      <th>first</th>\n",
       "      <th>last</th>\n",
       "      <th>gender</th>\n",
       "      <th>street</th>\n",
       "      <th>...</th>\n",
       "      <th>lat</th>\n",
       "      <th>long</th>\n",
       "      <th>city_pop</th>\n",
       "      <th>job</th>\n",
       "      <th>dob</th>\n",
       "      <th>trans_num</th>\n",
       "      <th>unix_time</th>\n",
       "      <th>merch_lat</th>\n",
       "      <th>merch_long</th>\n",
       "      <th>is_fraud</th>\n",
       "    </tr>\n",
       "  </thead>\n",
       "  <tbody>\n",
       "    <tr>\n",
       "      <th>2449</th>\n",
       "      <td>2449</td>\n",
       "      <td>2019-01-02 1:06</td>\n",
       "      <td>4.613310e+12</td>\n",
       "      <td>fraud_Rutherford-Mertz</td>\n",
       "      <td>grocery_pos</td>\n",
       "      <td>281.06</td>\n",
       "      <td>Jason</td>\n",
       "      <td>Murphy</td>\n",
       "      <td>M</td>\n",
       "      <td>542 Steve Curve Suite 011</td>\n",
       "      <td>...</td>\n",
       "      <td>35.9946</td>\n",
       "      <td>-81.7266</td>\n",
       "      <td>885</td>\n",
       "      <td>Soil scientist</td>\n",
       "      <td>1988-09-15</td>\n",
       "      <td>e8a81877ae9a0a7f883e15cb39dc4022</td>\n",
       "      <td>1325466397</td>\n",
       "      <td>36.430124</td>\n",
       "      <td>-81.179483</td>\n",
       "      <td>1</td>\n",
       "    </tr>\n",
       "    <tr>\n",
       "      <th>2472</th>\n",
       "      <td>2472</td>\n",
       "      <td>2019-01-02 1:47</td>\n",
       "      <td>3.401870e+14</td>\n",
       "      <td>fraud_Jenkins, Hauck and Friesen</td>\n",
       "      <td>gas_transport</td>\n",
       "      <td>11.52</td>\n",
       "      <td>Misty</td>\n",
       "      <td>Hart</td>\n",
       "      <td>F</td>\n",
       "      <td>27954 Hall Mill Suite 575</td>\n",
       "      <td>...</td>\n",
       "      <td>29.4400</td>\n",
       "      <td>-98.4590</td>\n",
       "      <td>1595797</td>\n",
       "      <td>Horticultural consultant</td>\n",
       "      <td>1960-10-28</td>\n",
       "      <td>bc7d41c41103877b03232f03f1f8d3f5</td>\n",
       "      <td>1325468849</td>\n",
       "      <td>29.819364</td>\n",
       "      <td>-99.142791</td>\n",
       "      <td>1</td>\n",
       "    </tr>\n",
       "    <tr>\n",
       "      <th>2523</th>\n",
       "      <td>2523</td>\n",
       "      <td>2019-01-02 3:05</td>\n",
       "      <td>3.401870e+14</td>\n",
       "      <td>fraud_Goodwin-Nitzsche</td>\n",
       "      <td>grocery_pos</td>\n",
       "      <td>276.31</td>\n",
       "      <td>Misty</td>\n",
       "      <td>Hart</td>\n",
       "      <td>F</td>\n",
       "      <td>27954 Hall Mill Suite 575</td>\n",
       "      <td>...</td>\n",
       "      <td>29.4400</td>\n",
       "      <td>-98.4590</td>\n",
       "      <td>1595797</td>\n",
       "      <td>Horticultural consultant</td>\n",
       "      <td>1960-10-28</td>\n",
       "      <td>b98f12f4168391b2203238813df5aa8c</td>\n",
       "      <td>1325473523</td>\n",
       "      <td>29.273085</td>\n",
       "      <td>-98.836360</td>\n",
       "      <td>1</td>\n",
       "    </tr>\n",
       "    <tr>\n",
       "      <th>2546</th>\n",
       "      <td>2546</td>\n",
       "      <td>2019-01-02 3:38</td>\n",
       "      <td>4.613310e+12</td>\n",
       "      <td>fraud_Erdman-Kertzmann</td>\n",
       "      <td>gas_transport</td>\n",
       "      <td>7.03</td>\n",
       "      <td>Jason</td>\n",
       "      <td>Murphy</td>\n",
       "      <td>M</td>\n",
       "      <td>542 Steve Curve Suite 011</td>\n",
       "      <td>...</td>\n",
       "      <td>35.9946</td>\n",
       "      <td>-81.7266</td>\n",
       "      <td>885</td>\n",
       "      <td>Soil scientist</td>\n",
       "      <td>1988-09-15</td>\n",
       "      <td>397894a5c4c02e3c61c784001f0f14e4</td>\n",
       "      <td>1325475483</td>\n",
       "      <td>35.909292</td>\n",
       "      <td>-82.091010</td>\n",
       "      <td>1</td>\n",
       "    </tr>\n",
       "    <tr>\n",
       "      <th>2553</th>\n",
       "      <td>2553</td>\n",
       "      <td>2019-01-02 3:55</td>\n",
       "      <td>3.401870e+14</td>\n",
       "      <td>fraud_Koepp-Parker</td>\n",
       "      <td>grocery_pos</td>\n",
       "      <td>275.73</td>\n",
       "      <td>Misty</td>\n",
       "      <td>Hart</td>\n",
       "      <td>F</td>\n",
       "      <td>27954 Hall Mill Suite 575</td>\n",
       "      <td>...</td>\n",
       "      <td>29.4400</td>\n",
       "      <td>-98.4590</td>\n",
       "      <td>1595797</td>\n",
       "      <td>Horticultural consultant</td>\n",
       "      <td>1960-10-28</td>\n",
       "      <td>7863235a750d73a244c07f1fb7f0185a</td>\n",
       "      <td>1325476547</td>\n",
       "      <td>29.786426</td>\n",
       "      <td>-98.683410</td>\n",
       "      <td>1</td>\n",
       "    </tr>\n",
       "    <tr>\n",
       "      <th>...</th>\n",
       "      <td>...</td>\n",
       "      <td>...</td>\n",
       "      <td>...</td>\n",
       "      <td>...</td>\n",
       "      <td>...</td>\n",
       "      <td>...</td>\n",
       "      <td>...</td>\n",
       "      <td>...</td>\n",
       "      <td>...</td>\n",
       "      <td>...</td>\n",
       "      <td>...</td>\n",
       "      <td>...</td>\n",
       "      <td>...</td>\n",
       "      <td>...</td>\n",
       "      <td>...</td>\n",
       "      <td>...</td>\n",
       "      <td>...</td>\n",
       "      <td>...</td>\n",
       "      <td>...</td>\n",
       "      <td>...</td>\n",
       "      <td>...</td>\n",
       "    </tr>\n",
       "    <tr>\n",
       "      <th>725847</th>\n",
       "      <td>725847</td>\n",
       "      <td>2019-11-06 1:26</td>\n",
       "      <td>3.040770e+13</td>\n",
       "      <td>fraud_Hackett-Lueilwitz</td>\n",
       "      <td>grocery_pos</td>\n",
       "      <td>78.05</td>\n",
       "      <td>Danielle</td>\n",
       "      <td>Evans</td>\n",
       "      <td>F</td>\n",
       "      <td>76752 David Lodge Apt. 064</td>\n",
       "      <td>...</td>\n",
       "      <td>42.1939</td>\n",
       "      <td>-76.7361</td>\n",
       "      <td>520</td>\n",
       "      <td>Psychotherapist</td>\n",
       "      <td>1991-10-13</td>\n",
       "      <td>2aa8214261dd0db70698227a1d32c5bd</td>\n",
       "      <td>1352165216</td>\n",
       "      <td>42.703030</td>\n",
       "      <td>-76.806033</td>\n",
       "      <td>0</td>\n",
       "    </tr>\n",
       "    <tr>\n",
       "      <th>459398</th>\n",
       "      <td>459398</td>\n",
       "      <td>2019-07-22 3:02</td>\n",
       "      <td>3.014350e+13</td>\n",
       "      <td>fraud_Schaefer, McGlynn and Bosco</td>\n",
       "      <td>gas_transport</td>\n",
       "      <td>58.00</td>\n",
       "      <td>Lisa</td>\n",
       "      <td>Collins</td>\n",
       "      <td>F</td>\n",
       "      <td>44197 Jeffrey Port Suite 050</td>\n",
       "      <td>...</td>\n",
       "      <td>39.8016</td>\n",
       "      <td>-75.3478</td>\n",
       "      <td>504</td>\n",
       "      <td>Engineer, control and instrumentation</td>\n",
       "      <td>1980-08-17</td>\n",
       "      <td>5ee3245696a1c6d9b05fe24b2a4b0d9f</td>\n",
       "      <td>1342926151</td>\n",
       "      <td>39.410811</td>\n",
       "      <td>-75.758650</td>\n",
       "      <td>0</td>\n",
       "    </tr>\n",
       "    <tr>\n",
       "      <th>757268</th>\n",
       "      <td>757268</td>\n",
       "      <td>2019-11-19 23:35</td>\n",
       "      <td>3.525590e+15</td>\n",
       "      <td>fraud_Jewess LLC</td>\n",
       "      <td>shopping_pos</td>\n",
       "      <td>3.87</td>\n",
       "      <td>Scott</td>\n",
       "      <td>Fuller</td>\n",
       "      <td>M</td>\n",
       "      <td>861 Karen Common</td>\n",
       "      <td>...</td>\n",
       "      <td>36.0424</td>\n",
       "      <td>-79.3242</td>\n",
       "      <td>6006</td>\n",
       "      <td>Paramedic</td>\n",
       "      <td>1984-07-20</td>\n",
       "      <td>a54289bca789f924f76758aa39330473</td>\n",
       "      <td>1353368126</td>\n",
       "      <td>35.365866</td>\n",
       "      <td>-78.437476</td>\n",
       "      <td>0</td>\n",
       "    </tr>\n",
       "    <tr>\n",
       "      <th>42530</th>\n",
       "      <td>42530</td>\n",
       "      <td>2019-01-26 10:32</td>\n",
       "      <td>5.501080e+15</td>\n",
       "      <td>fraud_Torp-Labadie</td>\n",
       "      <td>gas_transport</td>\n",
       "      <td>91.58</td>\n",
       "      <td>Wayne</td>\n",
       "      <td>Payne</td>\n",
       "      <td>M</td>\n",
       "      <td>587 Bradley Inlet Suite 281</td>\n",
       "      <td>...</td>\n",
       "      <td>41.1464</td>\n",
       "      <td>-81.5107</td>\n",
       "      <td>47772</td>\n",
       "      <td>Equities trader</td>\n",
       "      <td>1966-01-04</td>\n",
       "      <td>b834d64418609bbbc79656203425e47b</td>\n",
       "      <td>1327573922</td>\n",
       "      <td>41.563620</td>\n",
       "      <td>-82.136101</td>\n",
       "      <td>0</td>\n",
       "    </tr>\n",
       "    <tr>\n",
       "      <th>806990</th>\n",
       "      <td>806990</td>\n",
       "      <td>2019-12-06 6:37</td>\n",
       "      <td>2.297450e+15</td>\n",
       "      <td>fraud_Torphy-Goyette</td>\n",
       "      <td>shopping_pos</td>\n",
       "      <td>8.58</td>\n",
       "      <td>Laura</td>\n",
       "      <td>Walker</td>\n",
       "      <td>F</td>\n",
       "      <td>611 Michael Rue</td>\n",
       "      <td>...</td>\n",
       "      <td>39.9972</td>\n",
       "      <td>-88.6962</td>\n",
       "      <td>478</td>\n",
       "      <td>Landscape architect</td>\n",
       "      <td>1960-01-13</td>\n",
       "      <td>a5046e10941bcea5e3dedc55a4b8b8e0</td>\n",
       "      <td>1354775833</td>\n",
       "      <td>40.571912</td>\n",
       "      <td>-88.132946</td>\n",
       "      <td>0</td>\n",
       "    </tr>\n",
       "  </tbody>\n",
       "</table>\n",
       "<p>12012 rows × 23 columns</p>\n",
       "</div>"
      ],
      "text/plain": [
       "        Unnamed: 0 trans_date_trans_time        cc_num  \\\n",
       "2449          2449       2019-01-02 1:06  4.613310e+12   \n",
       "2472          2472       2019-01-02 1:47  3.401870e+14   \n",
       "2523          2523       2019-01-02 3:05  3.401870e+14   \n",
       "2546          2546       2019-01-02 3:38  4.613310e+12   \n",
       "2553          2553       2019-01-02 3:55  3.401870e+14   \n",
       "...            ...                   ...           ...   \n",
       "725847      725847       2019-11-06 1:26  3.040770e+13   \n",
       "459398      459398       2019-07-22 3:02  3.014350e+13   \n",
       "757268      757268      2019-11-19 23:35  3.525590e+15   \n",
       "42530        42530      2019-01-26 10:32  5.501080e+15   \n",
       "806990      806990       2019-12-06 6:37  2.297450e+15   \n",
       "\n",
       "                                 merchant       category     amt     first  \\\n",
       "2449               fraud_Rutherford-Mertz    grocery_pos  281.06     Jason   \n",
       "2472     fraud_Jenkins, Hauck and Friesen  gas_transport   11.52     Misty   \n",
       "2523               fraud_Goodwin-Nitzsche    grocery_pos  276.31     Misty   \n",
       "2546               fraud_Erdman-Kertzmann  gas_transport    7.03     Jason   \n",
       "2553                   fraud_Koepp-Parker    grocery_pos  275.73     Misty   \n",
       "...                                   ...            ...     ...       ...   \n",
       "725847            fraud_Hackett-Lueilwitz    grocery_pos   78.05  Danielle   \n",
       "459398  fraud_Schaefer, McGlynn and Bosco  gas_transport   58.00      Lisa   \n",
       "757268                   fraud_Jewess LLC   shopping_pos    3.87     Scott   \n",
       "42530                  fraud_Torp-Labadie  gas_transport   91.58     Wayne   \n",
       "806990               fraud_Torphy-Goyette   shopping_pos    8.58     Laura   \n",
       "\n",
       "           last gender                        street  ...      lat     long  \\\n",
       "2449     Murphy      M     542 Steve Curve Suite 011  ...  35.9946 -81.7266   \n",
       "2472       Hart      F     27954 Hall Mill Suite 575  ...  29.4400 -98.4590   \n",
       "2523       Hart      F     27954 Hall Mill Suite 575  ...  29.4400 -98.4590   \n",
       "2546     Murphy      M     542 Steve Curve Suite 011  ...  35.9946 -81.7266   \n",
       "2553       Hart      F     27954 Hall Mill Suite 575  ...  29.4400 -98.4590   \n",
       "...         ...    ...                           ...  ...      ...      ...   \n",
       "725847    Evans      F    76752 David Lodge Apt. 064  ...  42.1939 -76.7361   \n",
       "459398  Collins      F  44197 Jeffrey Port Suite 050  ...  39.8016 -75.3478   \n",
       "757268   Fuller      M              861 Karen Common  ...  36.0424 -79.3242   \n",
       "42530     Payne      M   587 Bradley Inlet Suite 281  ...  41.1464 -81.5107   \n",
       "806990   Walker      F               611 Michael Rue  ...  39.9972 -88.6962   \n",
       "\n",
       "        city_pop                                    job         dob  \\\n",
       "2449         885                         Soil scientist  1988-09-15   \n",
       "2472     1595797               Horticultural consultant  1960-10-28   \n",
       "2523     1595797               Horticultural consultant  1960-10-28   \n",
       "2546         885                         Soil scientist  1988-09-15   \n",
       "2553     1595797               Horticultural consultant  1960-10-28   \n",
       "...          ...                                    ...         ...   \n",
       "725847       520                        Psychotherapist  1991-10-13   \n",
       "459398       504  Engineer, control and instrumentation  1980-08-17   \n",
       "757268      6006                              Paramedic  1984-07-20   \n",
       "42530      47772                        Equities trader  1966-01-04   \n",
       "806990       478                    Landscape architect  1960-01-13   \n",
       "\n",
       "                               trans_num   unix_time  merch_lat merch_long  \\\n",
       "2449    e8a81877ae9a0a7f883e15cb39dc4022  1325466397  36.430124 -81.179483   \n",
       "2472    bc7d41c41103877b03232f03f1f8d3f5  1325468849  29.819364 -99.142791   \n",
       "2523    b98f12f4168391b2203238813df5aa8c  1325473523  29.273085 -98.836360   \n",
       "2546    397894a5c4c02e3c61c784001f0f14e4  1325475483  35.909292 -82.091010   \n",
       "2553    7863235a750d73a244c07f1fb7f0185a  1325476547  29.786426 -98.683410   \n",
       "...                                  ...         ...        ...        ...   \n",
       "725847  2aa8214261dd0db70698227a1d32c5bd  1352165216  42.703030 -76.806033   \n",
       "459398  5ee3245696a1c6d9b05fe24b2a4b0d9f  1342926151  39.410811 -75.758650   \n",
       "757268  a54289bca789f924f76758aa39330473  1353368126  35.365866 -78.437476   \n",
       "42530   b834d64418609bbbc79656203425e47b  1327573922  41.563620 -82.136101   \n",
       "806990  a5046e10941bcea5e3dedc55a4b8b8e0  1354775833  40.571912 -88.132946   \n",
       "\n",
       "        is_fraud  \n",
       "2449           1  \n",
       "2472           1  \n",
       "2523           1  \n",
       "2546           1  \n",
       "2553           1  \n",
       "...          ...  \n",
       "725847         0  \n",
       "459398         0  \n",
       "757268         0  \n",
       "42530          0  \n",
       "806990         0  \n",
       "\n",
       "[12012 rows x 23 columns]"
      ]
     },
     "execution_count": 32,
     "metadata": {},
     "output_type": "execute_result"
    }
   ],
   "source": [
    "df_downsampled"
   ]
  },
  {
   "cell_type": "markdown",
   "id": "6ed889e8-0d35-4087-8c3a-2b63b7c75807",
   "metadata": {},
   "source": [
    "- 무작위 언더샘플링 사용\n",
    "\n",
    "- 소수 클래스(사기거래)이 샘플 수 와 일치시키려고 다수 클래스(정상거래)의 하위 샘플을 가져옴\n",
    "\n",
    "- 데이터 불균형을 처리하기 위해서"
   ]
  },
  {
   "cell_type": "code",
   "execution_count": 33,
   "id": "b3a43a7b-30ff-4de4-98aa-bef38365830c",
   "metadata": {},
   "outputs": [],
   "source": [
    "from sklearn.model_selection import train_test_split\n",
    "\n",
    "\n",
    "train_edges, test_edges, train_labels, test_labels = train_test_split(list(range(len(G_down.edges))), \n",
    "                                                                      list(nx.get_edge_attributes(G_down, \"label\").values()), \n",
    "                                                                      test_size=0.20, \n",
    "                                                                      random_state=42)"
   ]
  },
  {
   "cell_type": "code",
   "execution_count": 51,
   "id": "3ecbfefb-fd75-4b34-b45e-4e6f70cdcff0",
   "metadata": {},
   "outputs": [],
   "source": [
    "edgs = list(G_down.edges)\n",
    "train_graph = G_down.edge_subgraph([edgs[x] for x in train_edges]).copy()\n",
    "train_graph.add_nodes_from(list(set(G_down.nodes) - set(train_graph.nodes)))"
   ]
  },
  {
   "cell_type": "markdown",
   "id": "7bcd2289-1468-456b-a00f-fe7f851fb9bd",
   "metadata": {},
   "source": [
    "- 데이터 8:2 비율로 학습 검증"
   ]
  },
  {
   "cell_type": "code",
   "execution_count": 53,
   "id": "2a0189fa-7329-4dda-9703-21a1b63e2010",
   "metadata": {},
   "outputs": [
    {
     "name": "stdout",
     "output_type": "stream",
     "text": [
      "Collecting node2vec\n",
      "  Downloading node2vec-0.4.6-py3-none-any.whl (7.0 kB)\n",
      "Requirement already satisfied: joblib<2.0.0,>=1.1.0 in /home/coco/anaconda3/envs/py38/lib/python3.8/site-packages (from node2vec) (1.2.0)\n",
      "Collecting gensim<5.0.0,>=4.1.2\n",
      "  Downloading gensim-4.3.1-cp38-cp38-manylinux_2_17_x86_64.manylinux2014_x86_64.whl (26.5 MB)\n",
      "\u001b[2K     \u001b[90m━━━━━━━━━━━━━━━━━━━━━━━━━━━━━━━━━━━━━━━━\u001b[0m \u001b[32m26.5/26.5 MB\u001b[0m \u001b[31m71.8 MB/s\u001b[0m eta \u001b[36m0:00:00\u001b[0m00:01\u001b[0m00:01\u001b[0m\n",
      "\u001b[?25hCollecting tqdm<5.0.0,>=4.55.1\n",
      "  Downloading tqdm-4.65.0-py3-none-any.whl (77 kB)\n",
      "\u001b[2K     \u001b[90m━━━━━━━━━━━━━━━━━━━━━━━━━━━━━━━━━━━━━━━━\u001b[0m \u001b[32m77.1/77.1 kB\u001b[0m \u001b[31m18.6 MB/s\u001b[0m eta \u001b[36m0:00:00\u001b[0m\n",
      "\u001b[?25hCollecting networkx<3.0,>=2.5\n",
      "  Downloading networkx-2.8.8-py3-none-any.whl (2.0 MB)\n",
      "\u001b[2K     \u001b[90m━━━━━━━━━━━━━━━━━━━━━━━━━━━━━━━━━━━━━━━━\u001b[0m \u001b[32m2.0/2.0 MB\u001b[0m \u001b[31m90.4 MB/s\u001b[0m eta \u001b[36m0:00:00\u001b[0m\n",
      "\u001b[?25hRequirement already satisfied: numpy<2.0.0,>=1.19.5 in /home/coco/anaconda3/envs/py38/lib/python3.8/site-packages (from node2vec) (1.24.2)\n",
      "Requirement already satisfied: scipy>=1.7.0 in /home/coco/anaconda3/envs/py38/lib/python3.8/site-packages (from gensim<5.0.0,>=4.1.2->node2vec) (1.10.1)\n",
      "Collecting smart-open>=1.8.1\n",
      "  Downloading smart_open-6.3.0-py3-none-any.whl (56 kB)\n",
      "\u001b[2K     \u001b[90m━━━━━━━━━━━━━━━━━━━━━━━━━━━━━━━━━━━━━━━━\u001b[0m \u001b[32m56.8/56.8 kB\u001b[0m \u001b[31m13.6 MB/s\u001b[0m eta \u001b[36m0:00:00\u001b[0m\n",
      "\u001b[?25hInstalling collected packages: tqdm, smart-open, networkx, gensim, node2vec\n",
      "  Attempting uninstall: networkx\n",
      "    Found existing installation: networkx 3.0\n",
      "    Uninstalling networkx-3.0:\n",
      "      Successfully uninstalled networkx-3.0\n",
      "Successfully installed gensim-4.3.1 networkx-2.8.8 node2vec-0.4.6 smart-open-6.3.0 tqdm-4.65.0\n",
      "Note: you may need to restart the kernel to use updated packages.\n"
     ]
    }
   ],
   "source": [
    "pip install node2vec"
   ]
  },
  {
   "cell_type": "code",
   "execution_count": 54,
   "id": "ab4daf40-17bb-4ddc-a0ae-ddf7b5449d8c",
   "metadata": {},
   "outputs": [
    {
     "data": {
      "application/vnd.jupyter.widget-view+json": {
       "model_id": "afa250d57cc445499c6cbe06f06fe288",
       "version_major": 2,
       "version_minor": 0
      },
      "text/plain": [
       "Computing transition probabilities:   0%|          | 0/1624 [00:00<?, ?it/s]"
      ]
     },
     "metadata": {},
     "output_type": "display_data"
    },
    {
     "name": "stderr",
     "output_type": "stream",
     "text": [
      "Generating walks (CPU: 1): 100%|██████████| 10/10 [00:04<00:00,  2.44it/s]\n"
     ]
    }
   ],
   "source": [
    "from node2vec import Node2Vec\n",
    "from node2vec.edges import HadamardEmbedder, AverageEmbedder, WeightedL1Embedder, WeightedL2Embedder\n",
    "\n",
    "node2vec_train = Node2Vec(train_graph, weight_key='weight')\n",
    "model_train = node2vec_train.fit(window=10)"
   ]
  },
  {
   "cell_type": "markdown",
   "id": "5384e4bb-9dc7-4ef4-a3f0-fc0df1878335",
   "metadata": {},
   "source": [
    "- Node2Vec 알고리즘 사용해 특징 공간 구축"
   ]
  },
  {
   "cell_type": "code",
   "execution_count": 55,
   "id": "6182fb3a-d48e-4853-86df-85da6b2173e0",
   "metadata": {},
   "outputs": [
    {
     "name": "stdout",
     "output_type": "stream",
     "text": [
      "<class 'node2vec.edges.HadamardEmbedder'>\n",
      "Precision: 0.6953125\n",
      "Recall: 0.156140350877193\n",
      "F1-Score: 0.2550143266475645\n",
      "<class 'node2vec.edges.AverageEmbedder'>\n",
      "Precision: 0.6813353566009105\n",
      "Recall: 0.787719298245614\n",
      "F1-Score: 0.7306753458096015\n",
      "<class 'node2vec.edges.WeightedL1Embedder'>\n",
      "Precision: 0.5925925925925926\n",
      "Recall: 0.028070175438596492\n",
      "F1-Score: 0.05360134003350084\n",
      "<class 'node2vec.edges.WeightedL2Embedder'>\n",
      "Precision: 0.5833333333333334\n",
      "Recall: 0.02456140350877193\n",
      "F1-Score: 0.04713804713804714\n"
     ]
    }
   ],
   "source": [
    "from sklearn.ensemble import RandomForestClassifier \n",
    "from sklearn import metrics \n",
    "\n",
    "classes = [HadamardEmbedder, AverageEmbedder, WeightedL1Embedder, WeightedL2Embedder]\n",
    "for cl in classes:\n",
    "    embeddings_train = cl(keyed_vectors=model_train.wv) \n",
    "\n",
    "    train_embeddings = [embeddings_train[str(edgs[x][0]), str(edgs[x][1])] for x in train_edges]\n",
    "    test_embeddings = [embeddings_train[str(edgs[x][0]), str(edgs[x][1])] for x in test_edges]\n",
    "    \n",
    "    rf = RandomForestClassifier(n_estimators=1000, random_state=42) \n",
    "    rf.fit(train_embeddings, train_labels); \n",
    "\n",
    "    y_pred = rf.predict(test_embeddings)\n",
    "    print(cl)\n",
    "    print('Precision:', metrics.precision_score(test_labels, y_pred)) \n",
    "    print('Recall:', metrics.recall_score(test_labels, y_pred)) \n",
    "    print('F1-Score:', metrics.f1_score(test_labels, y_pred)) "
   ]
  },
  {
   "cell_type": "markdown",
   "id": "568bde9e-c32f-438e-926e-c771e3c2dbb9",
   "metadata": {},
   "source": [
    "- Node2Vec 알고리즘 사용해 각 Edge2Vec 알고리즘으로 특징 공간 생성\n",
    "\n",
    "- sklearn 파이썬 라이브러리의 RandomForestClassifier은 이전 단계에서 생성한 특징에 대해 학습\n",
    "\n",
    "- 검증 테스트 위해 정밀도, 재현율, F1-score 성능 지표 측정"
   ]
  },
  {
   "cell_type": "markdown",
   "id": "c29c3bc5-0f5d-4715-8a08-b078381123ce",
   "metadata": {},
   "source": [
    "### 비지도학습"
   ]
  },
  {
   "cell_type": "markdown",
   "id": "a96e83f7-8592-448a-9564-61ec22b0ab34",
   "metadata": {},
   "source": [
    "- k-means 알고리즘 사용\n",
    "\n",
    "- 지도학습과의 차이점은 특징 공간이 학습-검증 분할을 안함."
   ]
  },
  {
   "cell_type": "code",
   "execution_count": 56,
   "id": "ab1996fe-51e5-48ba-b8d0-fef9832a19c1",
   "metadata": {},
   "outputs": [
    {
     "data": {
      "application/vnd.jupyter.widget-view+json": {
       "model_id": "364a0146133e4594b178e25e808795dc",
       "version_major": 2,
       "version_minor": 0
      },
      "text/plain": [
       "Computing transition probabilities:   0%|          | 0/1624 [00:00<?, ?it/s]"
      ]
     },
     "metadata": {},
     "output_type": "display_data"
    },
    {
     "name": "stderr",
     "output_type": "stream",
     "text": [
      "Generating walks (CPU: 1): 100%|██████████| 10/10 [00:04<00:00,  2.25it/s]\n"
     ]
    }
   ],
   "source": [
    "nod2vec_unsup = Node2Vec(G_down, weight_key='weight')\n",
    "unsup_vals = nod2vec_unsup.fit(window=10)"
   ]
  },
  {
   "cell_type": "markdown",
   "id": "53021801-fc17-4559-a313-3ab976bea314",
   "metadata": {},
   "source": [
    "- 다운샘플링 절차에 전체 그래프 알고리즘 계산"
   ]
  },
  {
   "cell_type": "code",
   "execution_count": 57,
   "id": "780618b6-d3ff-4d36-a277-5ab6ab3f1c5f",
   "metadata": {},
   "outputs": [
    {
     "name": "stderr",
     "output_type": "stream",
     "text": [
      "/home/coco/anaconda3/envs/py38/lib/python3.8/site-packages/sklearn/cluster/_kmeans.py:870: FutureWarning: The default value of `n_init` will change from 10 to 'auto' in 1.4. Set the value of `n_init` explicitly to suppress the warning\n",
      "  warnings.warn(\n"
     ]
    },
    {
     "name": "stdout",
     "output_type": "stream",
     "text": [
      "<class 'node2vec.edges.HadamardEmbedder'>\n",
      "NMI: 0.0429862559854\n",
      "Homogeneity: 0.03813140300201337\n",
      "Completeness: 0.049433212382250756\n",
      "V-Measure: 0.0430529554606017\n"
     ]
    },
    {
     "name": "stderr",
     "output_type": "stream",
     "text": [
      "/home/coco/anaconda3/envs/py38/lib/python3.8/site-packages/sklearn/cluster/_kmeans.py:870: FutureWarning: The default value of `n_init` will change from 10 to 'auto' in 1.4. Set the value of `n_init` explicitly to suppress the warning\n",
      "  warnings.warn(\n"
     ]
    },
    {
     "name": "stdout",
     "output_type": "stream",
     "text": [
      "<class 'node2vec.edges.AverageEmbedder'>\n",
      "NMI: 0.09395128496638593\n",
      "Homogeneity: 0.08960753766432715\n",
      "Completeness: 0.09886731281849871\n",
      "V-Measure: 0.09400995872350308\n"
     ]
    },
    {
     "name": "stderr",
     "output_type": "stream",
     "text": [
      "/home/coco/anaconda3/envs/py38/lib/python3.8/site-packages/sklearn/cluster/_kmeans.py:870: FutureWarning: The default value of `n_init` will change from 10 to 'auto' in 1.4. Set the value of `n_init` explicitly to suppress the warning\n",
      "  warnings.warn(\n"
     ]
    },
    {
     "name": "stdout",
     "output_type": "stream",
     "text": [
      "<class 'node2vec.edges.WeightedL1Embedder'>\n",
      "NMI: 0.17593048106009063\n",
      "Homogeneity: 0.17598531397290276\n",
      "Completeness: 0.17597737533152563\n",
      "V-Measure: 0.17598134456268477\n",
      "<class 'node2vec.edges.WeightedL2Embedder'>\n",
      "NMI: 0.1362053730791375\n",
      "Homogeneity: 0.1349991253997398\n",
      "Completeness: 0.1375429939044335\n",
      "V-Measure: 0.13625918760275774\n"
     ]
    },
    {
     "name": "stderr",
     "output_type": "stream",
     "text": [
      "/home/coco/anaconda3/envs/py38/lib/python3.8/site-packages/sklearn/cluster/_kmeans.py:870: FutureWarning: The default value of `n_init` will change from 10 to 'auto' in 1.4. Set the value of `n_init` explicitly to suppress the warning\n",
      "  warnings.warn(\n"
     ]
    }
   ],
   "source": [
    "from sklearn.cluster import KMeans\n",
    "\n",
    "classes = [HadamardEmbedder, AverageEmbedder, WeightedL1Embedder, WeightedL2Embedder]\n",
    "true_labels = [x for x in nx.get_edge_attributes(G_down, \"label\").values()]\n",
    "\n",
    "for cl in classes:\n",
    "    embedding_edge = cl(keyed_vectors=unsup_vals.wv) \n",
    "\n",
    "    embedding = [embedding_edge[str(x[0]), str(x[1])] for x in G_down.edges()]\n",
    "    kmeans = KMeans(2, random_state=42).fit(embedding)\n",
    "    \n",
    "    \n",
    "    nmi = metrics.adjusted_mutual_info_score(true_labels, kmeans.labels_)\n",
    "    ho = metrics.homogeneity_score(true_labels, kmeans.labels_)\n",
    "    co = metrics.completeness_score(true_labels, kmeans.labels_)\n",
    "    vmeasure = metrics.v_measure_score(true_labels, kmeans.labels_)\n",
    "    \n",
    "    print(cl)\n",
    "    print('NMI:', nmi)\n",
    "    print('Homogeneity:', ho)\n",
    "    print('Completeness:', co)\n",
    "    print('V-Measure:', vmeasure)"
   ]
  },
  {
   "cell_type": "code",
   "execution_count": null,
   "id": "ef03e2f2-337e-4bfa-b397-9fdc7f00e4f4",
   "metadata": {},
   "outputs": [],
   "source": []
  }
 ],
 "metadata": {
  "kernelspec": {
   "display_name": "Python 3 (ipykernel)",
   "language": "python",
   "name": "python3"
  },
  "language_info": {
   "codemirror_mode": {
    "name": "ipython",
    "version": 3
   },
   "file_extension": ".py",
   "mimetype": "text/x-python",
   "name": "python",
   "nbconvert_exporter": "python",
   "pygments_lexer": "ipython3",
   "version": "3.8.16"
  }
 },
 "nbformat": 4,
 "nbformat_minor": 5
}
