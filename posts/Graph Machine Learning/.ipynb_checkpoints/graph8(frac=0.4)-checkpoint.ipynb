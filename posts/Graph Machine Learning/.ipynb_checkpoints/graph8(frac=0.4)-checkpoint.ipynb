{
 "cells": [
  {
   "cell_type": "raw",
   "id": "c8593b37-a6e6-4ccb-b9b2-349f55cb2b69",
   "metadata": {},
   "source": [
    "---\n",
    "title: \"CH8. 신용카드 거래에 대한 그래프 분석(frac=0.4)\"\n",
    "author: \"김보람\"\n",
    "date: \"04/04/2023\"\n",
    "categories:\n",
    "  - graph\n",
    "---"
   ]
  },
  {
   "cell_type": "markdown",
   "id": "8e03341d-db6a-473a-91fa-7d878f69f879",
   "metadata": {},
   "source": [
    "# ref "
   ]
  },
  {
   "cell_type": "markdown",
   "id": "58852ab1-0532-4ed0-ae31-7ce58f1dc17c",
   "metadata": {},
   "source": [
    "- [그래프 머신러닝](https://product.kyobobook.co.kr/detail/S000200738068)\n",
    "\n",
    "- [github](https://github.com/PacktPublishing/Graph-Machine-Learning)\n",
    "\n",
    "- [Credit Card Transactions Fraud Detection Dataset](https://www.kaggle.com/datasets/kartik2112/fraud-detection?select=fraudTrain.csv)\n",
    "\n",
    "- [컬리이미지](https://static.packt-cdn.com/downloads/9781800204492_ColorImages.pdf)\n",
    "\n",
    "- [networkx](https://networkx.org/documentation/stable/reference/generated/networkx.classes.function.set_edge_attributes.html)"
   ]
  },
  {
   "cell_type": "markdown",
   "id": "fa2cb411-6c24-4f68-9d52-1da81a074567",
   "metadata": {},
   "source": [
    "# 신용카드 거래에 대한 그래프 분석"
   ]
  },
  {
   "cell_type": "markdown",
   "id": "1ef8d7dd-ab41-4225-b146-2dd58706335a",
   "metadata": {},
   "source": [
    "- 신용카드 거래 그래프 생성\n",
    "\n",
    "- 그래프에서 속성 및 커뮤니티 추출\n",
    "\n",
    "- 사기 거래 분류에 지도 및 비지도 머신러닝 알고리즘 적용"
   ]
  },
  {
   "cell_type": "code",
   "execution_count": 5,
   "id": "a2b7b74a-4dc4-42d0-850b-60a18505f945",
   "metadata": {},
   "outputs": [],
   "source": [
    "import pandas as pd\n",
    "\n",
    "import os\n",
    "import math\n",
    "import numpy as np\n",
    "import networkx as nx\n",
    "import matplotlib.pyplot as plt\n",
    "%matplotlib inline\n",
    "\n",
    "default_edge_color = 'gray'\n",
    "default_node_color = '#407cc9'\n",
    "enhanced_node_color = '#f5b042'\n",
    "enhanced_edge_color = '#cc2f04'"
   ]
  },
  {
   "cell_type": "markdown",
   "id": "792b9770-4a15-42ce-b6ea-07ef72d12f1e",
   "metadata": {},
   "source": [
    "# 샘플 = 0.4"
   ]
  },
  {
   "cell_type": "code",
   "execution_count": 1,
   "id": "b16bdd74-66b8-483c-bfd8-61d55b3ac6c3",
   "metadata": {},
   "outputs": [
    {
     "data": {
      "text/html": [
       "<div>\n",
       "<style scoped>\n",
       "    .dataframe tbody tr th:only-of-type {\n",
       "        vertical-align: middle;\n",
       "    }\n",
       "\n",
       "    .dataframe tbody tr th {\n",
       "        vertical-align: top;\n",
       "    }\n",
       "\n",
       "    .dataframe thead th {\n",
       "        text-align: right;\n",
       "    }\n",
       "</style>\n",
       "<table border=\"1\" class=\"dataframe\">\n",
       "  <thead>\n",
       "    <tr style=\"text-align: right;\">\n",
       "      <th></th>\n",
       "      <th>Unnamed: 0</th>\n",
       "      <th>trans_date_trans_time</th>\n",
       "      <th>cc_num</th>\n",
       "      <th>merchant</th>\n",
       "      <th>category</th>\n",
       "      <th>amt</th>\n",
       "      <th>first</th>\n",
       "      <th>last</th>\n",
       "      <th>gender</th>\n",
       "      <th>street</th>\n",
       "      <th>...</th>\n",
       "      <th>lat</th>\n",
       "      <th>long</th>\n",
       "      <th>city_pop</th>\n",
       "      <th>job</th>\n",
       "      <th>dob</th>\n",
       "      <th>trans_num</th>\n",
       "      <th>unix_time</th>\n",
       "      <th>merch_lat</th>\n",
       "      <th>merch_long</th>\n",
       "      <th>is_fraud</th>\n",
       "    </tr>\n",
       "  </thead>\n",
       "  <tbody>\n",
       "    <tr>\n",
       "      <th>669418</th>\n",
       "      <td>669418</td>\n",
       "      <td>2019-10-12 18:21</td>\n",
       "      <td>4.089100e+18</td>\n",
       "      <td>fraud_Haley, Jewess and Bechtelar</td>\n",
       "      <td>shopping_pos</td>\n",
       "      <td>7.53</td>\n",
       "      <td>Debra</td>\n",
       "      <td>Stark</td>\n",
       "      <td>F</td>\n",
       "      <td>686 Linda Rest</td>\n",
       "      <td>...</td>\n",
       "      <td>32.3836</td>\n",
       "      <td>-94.8653</td>\n",
       "      <td>24536</td>\n",
       "      <td>Multimedia programmer</td>\n",
       "      <td>1983-10-14</td>\n",
       "      <td>d313353fa30233e5fab5468e852d22fc</td>\n",
       "      <td>1350066071</td>\n",
       "      <td>32.202008</td>\n",
       "      <td>-94.371865</td>\n",
       "      <td>0</td>\n",
       "    </tr>\n",
       "    <tr>\n",
       "      <th>32567</th>\n",
       "      <td>32567</td>\n",
       "      <td>2019-01-20 13:06</td>\n",
       "      <td>4.247920e+12</td>\n",
       "      <td>fraud_Turner LLC</td>\n",
       "      <td>travel</td>\n",
       "      <td>3.79</td>\n",
       "      <td>Judith</td>\n",
       "      <td>Moss</td>\n",
       "      <td>F</td>\n",
       "      <td>46297 Benjamin Plains Suite 703</td>\n",
       "      <td>...</td>\n",
       "      <td>39.5370</td>\n",
       "      <td>-83.4550</td>\n",
       "      <td>22305</td>\n",
       "      <td>Television floor manager</td>\n",
       "      <td>1939-03-09</td>\n",
       "      <td>88c65b4e1585934d578511e627fe3589</td>\n",
       "      <td>1327064760</td>\n",
       "      <td>39.156673</td>\n",
       "      <td>-82.930503</td>\n",
       "      <td>0</td>\n",
       "    </tr>\n",
       "    <tr>\n",
       "      <th>156587</th>\n",
       "      <td>156587</td>\n",
       "      <td>2019-03-24 18:09</td>\n",
       "      <td>4.026220e+12</td>\n",
       "      <td>fraud_Klein Group</td>\n",
       "      <td>entertainment</td>\n",
       "      <td>59.07</td>\n",
       "      <td>Debbie</td>\n",
       "      <td>Payne</td>\n",
       "      <td>F</td>\n",
       "      <td>204 Ashley Neck Apt. 169</td>\n",
       "      <td>...</td>\n",
       "      <td>41.5224</td>\n",
       "      <td>-71.9934</td>\n",
       "      <td>4720</td>\n",
       "      <td>Broadcast presenter</td>\n",
       "      <td>1977-05-18</td>\n",
       "      <td>3bd9ede04b5c093143d5e5292940b670</td>\n",
       "      <td>1332612553</td>\n",
       "      <td>41.657152</td>\n",
       "      <td>-72.595751</td>\n",
       "      <td>0</td>\n",
       "    </tr>\n",
       "    <tr>\n",
       "      <th>1020243</th>\n",
       "      <td>1020243</td>\n",
       "      <td>2020-02-25 15:12</td>\n",
       "      <td>4.957920e+12</td>\n",
       "      <td>fraud_Monahan-Morar</td>\n",
       "      <td>personal_care</td>\n",
       "      <td>25.58</td>\n",
       "      <td>Alan</td>\n",
       "      <td>Parsons</td>\n",
       "      <td>M</td>\n",
       "      <td>0547 Russell Ford Suite 574</td>\n",
       "      <td>...</td>\n",
       "      <td>39.6171</td>\n",
       "      <td>-102.4776</td>\n",
       "      <td>207</td>\n",
       "      <td>Network engineer</td>\n",
       "      <td>1955-12-04</td>\n",
       "      <td>19e16ee7a01d229e750359098365e321</td>\n",
       "      <td>1361805120</td>\n",
       "      <td>39.080346</td>\n",
       "      <td>-103.213452</td>\n",
       "      <td>0</td>\n",
       "    </tr>\n",
       "    <tr>\n",
       "      <th>116272</th>\n",
       "      <td>116272</td>\n",
       "      <td>2019-03-06 23:19</td>\n",
       "      <td>4.178100e+15</td>\n",
       "      <td>fraud_Kozey-Kuhlman</td>\n",
       "      <td>personal_care</td>\n",
       "      <td>84.96</td>\n",
       "      <td>Jill</td>\n",
       "      <td>Flores</td>\n",
       "      <td>F</td>\n",
       "      <td>639 Cruz Islands</td>\n",
       "      <td>...</td>\n",
       "      <td>41.9488</td>\n",
       "      <td>-86.4913</td>\n",
       "      <td>3104</td>\n",
       "      <td>Horticulturist, commercial</td>\n",
       "      <td>1981-03-29</td>\n",
       "      <td>a0c8641ca1f5d6e243ed5a2246e66176</td>\n",
       "      <td>1331075954</td>\n",
       "      <td>42.502065</td>\n",
       "      <td>-86.732664</td>\n",
       "      <td>0</td>\n",
       "    </tr>\n",
       "  </tbody>\n",
       "</table>\n",
       "<p>5 rows × 23 columns</p>\n",
       "</div>"
      ],
      "text/plain": [
       "         Unnamed: 0 trans_date_trans_time        cc_num  \\\n",
       "669418       669418      2019-10-12 18:21  4.089100e+18   \n",
       "32567         32567      2019-01-20 13:06  4.247920e+12   \n",
       "156587       156587      2019-03-24 18:09  4.026220e+12   \n",
       "1020243     1020243      2020-02-25 15:12  4.957920e+12   \n",
       "116272       116272      2019-03-06 23:19  4.178100e+15   \n",
       "\n",
       "                                  merchant       category    amt   first  \\\n",
       "669418   fraud_Haley, Jewess and Bechtelar   shopping_pos   7.53   Debra   \n",
       "32567                     fraud_Turner LLC         travel   3.79  Judith   \n",
       "156587                   fraud_Klein Group  entertainment  59.07  Debbie   \n",
       "1020243                fraud_Monahan-Morar  personal_care  25.58    Alan   \n",
       "116272                 fraud_Kozey-Kuhlman  personal_care  84.96    Jill   \n",
       "\n",
       "            last gender                           street  ...      lat  \\\n",
       "669418     Stark      F                   686 Linda Rest  ...  32.3836   \n",
       "32567       Moss      F  46297 Benjamin Plains Suite 703  ...  39.5370   \n",
       "156587     Payne      F         204 Ashley Neck Apt. 169  ...  41.5224   \n",
       "1020243  Parsons      M      0547 Russell Ford Suite 574  ...  39.6171   \n",
       "116272    Flores      F                 639 Cruz Islands  ...  41.9488   \n",
       "\n",
       "             long  city_pop                         job         dob  \\\n",
       "669418   -94.8653     24536       Multimedia programmer  1983-10-14   \n",
       "32567    -83.4550     22305    Television floor manager  1939-03-09   \n",
       "156587   -71.9934      4720         Broadcast presenter  1977-05-18   \n",
       "1020243 -102.4776       207            Network engineer  1955-12-04   \n",
       "116272   -86.4913      3104  Horticulturist, commercial  1981-03-29   \n",
       "\n",
       "                                trans_num   unix_time  merch_lat  merch_long  \\\n",
       "669418   d313353fa30233e5fab5468e852d22fc  1350066071  32.202008  -94.371865   \n",
       "32567    88c65b4e1585934d578511e627fe3589  1327064760  39.156673  -82.930503   \n",
       "156587   3bd9ede04b5c093143d5e5292940b670  1332612553  41.657152  -72.595751   \n",
       "1020243  19e16ee7a01d229e750359098365e321  1361805120  39.080346 -103.213452   \n",
       "116272   a0c8641ca1f5d6e243ed5a2246e66176  1331075954  42.502065  -86.732664   \n",
       "\n",
       "         is_fraud  \n",
       "669418          0  \n",
       "32567           0  \n",
       "156587          0  \n",
       "1020243         0  \n",
       "116272          0  \n",
       "\n",
       "[5 rows x 23 columns]"
      ]
     },
     "execution_count": 1,
     "metadata": {},
     "output_type": "execute_result"
    }
   ],
   "source": [
    "import pandas as pd\n",
    "df = pd.read_csv(\"fraudTrain.csv\")\n",
    "df = df[df[\"is_fraud\"]==0].sample(frac=0.40, random_state=42).append(df[df[\"is_fraud\"] == 1])\n",
    "df.head()"
   ]
  },
  {
   "cell_type": "code",
   "execution_count": 2,
   "id": "44c63d11-f4aa-4ba7-8f9c-318186a08de3",
   "metadata": {},
   "outputs": [
    {
     "data": {
      "text/plain": [
       "0    417028\n",
       "1      6006\n",
       "Name: is_fraud, dtype: int64"
      ]
     },
     "execution_count": 2,
     "metadata": {},
     "output_type": "execute_result"
    }
   ],
   "source": [
    "df[\"is_fraud\"].value_counts()"
   ]
  },
  {
   "cell_type": "code",
   "execution_count": 3,
   "id": "c07320d2-38c1-4243-9444-b2bdf579ac47",
   "metadata": {},
   "outputs": [
    {
     "data": {
      "text/plain": [
       "0    0.985803\n",
       "1    0.014197\n",
       "Name: is_fraud, dtype: float64"
      ]
     },
     "execution_count": 3,
     "metadata": {},
     "output_type": "execute_result"
    }
   ],
   "source": [
    "df[\"is_fraud\"].value_counts()/len(df)"
   ]
  },
  {
   "cell_type": "markdown",
   "id": "9472937e-ac8d-45ab-8d26-454bbbf76c3d",
   "metadata": {},
   "source": [
    "`-` 이분그래프"
   ]
  },
  {
   "cell_type": "code",
   "execution_count": 7,
   "id": "44f78797-91db-4943-880f-625f41ff87ff",
   "metadata": {},
   "outputs": [],
   "source": [
    "def build_graph_bipartite(df_input, graph_type=nx.Graph()):\n",
    "    df=df_input.copy()\n",
    "    mapping={x:node_id for node_id, x in enumerate(set(df[\"cc_num\"].values.tolist()+\\\n",
    "                                                      df[\"merchant\"].values.tolist()))}\n",
    "    \n",
    "    df[\"from\"]=df[\"cc_num\"].apply(lambda x:mapping[x])  #엣지의 출발점\n",
    "    df[\"to\"]=df[\"merchant\"].apply(lambda x:mapping[x])  #엣지의 도착점\n",
    "    \n",
    "    df = df[['from', 'to', \"amt\", \"is_fraud\"]].groupby(['from','to']).agg({\"is_fraud\":\"sum\",\"amt\":\"sum\"}).reset_index()\n",
    "    df[\"is_fraud\"]=df[\"is_fraud\"].apply(lambda x:1 if x>0 else 0)\n",
    "    \n",
    "    G=nx.from_edgelist(df[[\"from\",\"to\"]].values, create_using=graph_type)\n",
    "    \n",
    "    nx.set_edge_attributes(G, {(int(x[\"from\"]),int(x[\"to\"])):x[\"is_fraud\"] for idx, x in df[[\"from\",\"to\",\"is_fraud\"]].iterrows()}, \"label\")  #엣지 속성 설정,각 속성의 사기 여부부 \n",
    "    \n",
    "    nx.set_edge_attributes(G,{(int(x[\"from\"]),int(x[\"to\"])):x[\"amt\"] for idx,x in df[[\"from\",\"to\",\"amt\"]].iterrows()}, \"weight\") # 엣지 속성 설정, 각 엣지의 거래 금액\n",
    "\n",
    "    return G"
   ]
  },
  {
   "cell_type": "markdown",
   "id": "288a03e6-65d8-439b-8125-345bd05c4060",
   "metadata": {},
   "source": [
    "- 판매자, 고객에게 node 할당"
   ]
  },
  {
   "cell_type": "code",
   "execution_count": 8,
   "id": "bc51943a-aa8c-4d50-bfe5-370f04da2dbd",
   "metadata": {},
   "outputs": [],
   "source": [
    "G_bu = build_graph_bipartite(df, nx.Graph(name=\"Bipartite Undirect\"))"
   ]
  },
  {
   "cell_type": "markdown",
   "id": "15cb469b-37c0-4fcc-bb29-a5ba083162c3",
   "metadata": {},
   "source": [
    "- 무향 그래프 작성"
   ]
  },
  {
   "cell_type": "markdown",
   "id": "e4a5f718-5b3e-4c30-8d67-f30a737143bb",
   "metadata": {},
   "source": [
    "`-` 삼분그래프"
   ]
  },
  {
   "cell_type": "code",
   "execution_count": 9,
   "id": "de4f50b6-213c-4b04-b3bd-4ff0a8221ff5",
   "metadata": {},
   "outputs": [],
   "source": [
    "def build_graph_tripartite(df_input, graph_type=nx.Graph()):\n",
    "    df=df_input.copy()\n",
    "    mapping={x:node_id for node_id, x in enumerate(set(df.index.values.tolist() + #set으로 중복 제거\n",
    "                                                       df[\"cc_num\"].values.tolist() +\n",
    "                                                       df[\"merchant\"].values.tolist()))}\n",
    "    df[\"in_node\"]= df[\"cc_num\"].apply(lambda x: mapping[x])\n",
    "    df[\"out_node\"]=df[\"merchant\"].apply(lambda x:mapping[x])\n",
    "    \n",
    "        \n",
    "    G=nx.from_edgelist([(x[\"in_node\"], mapping[idx]) for idx, x in df.iterrows()] +\\\n",
    "                        [(x[\"out_node\"], mapping[idx]) for idx, x in df.iterrows()], create_using=graph_type)\n",
    "    \n",
    "    nx.set_edge_attributes(G,{(x[\"in_node\"], mapping[idx]):x[\"is_fraud\"] for idx, x in df.iterrows()}, \"label\")\n",
    "     \n",
    "    nx.set_edge_attributes(G,{(x[\"out_node\"], mapping[idx]):x[\"is_fraud\"] for idx, x in df.iterrows()}, \"label\")\n",
    "    \n",
    "    nx.set_edge_attributes(G,{(x[\"in_node\"], mapping[idx]):x[\"amt\"] for idx, x in df.iterrows()}, \"weight\")\n",
    "    \n",
    "    nx.set_edge_attributes(G,{(x[\"out_node\"], mapping[idx]):x[\"amt\"] for idx, x in df.iterrows()}, \"weight\")\n",
    "    \n",
    "    \n",
    "    return G\n",
    "    "
   ]
  },
  {
   "cell_type": "markdown",
   "id": "6027823d-ca18-439f-9bea-54460f7d7e70",
   "metadata": {},
   "source": [
    "- 판매자, 고객, 거래에 노드 할당"
   ]
  },
  {
   "cell_type": "code",
   "execution_count": 10,
   "id": "2be1fed8-bc99-46cd-8946-78e5edffb031",
   "metadata": {},
   "outputs": [],
   "source": [
    "G_tu = build_graph_tripartite(df, nx.Graph())\n"
   ]
  },
  {
   "cell_type": "code",
   "execution_count": 11,
   "id": "78fd8dcf-34e6-4a3a-b443-5d92ab157cb5",
   "metadata": {},
   "outputs": [
    {
     "name": "stdout",
     "output_type": "stream",
     "text": [
      "1636\n",
      "424670\n"
     ]
    }
   ],
   "source": [
    "for G in [G_bu, G_tu]:\n",
    "    print(nx.number_of_nodes(G))"
   ]
  },
  {
   "cell_type": "code",
   "execution_count": null,
   "id": "55af02c4-8741-4862-9d62-c504d9fb8422",
   "metadata": {},
   "outputs": [],
   "source": []
  },
  {
   "cell_type": "markdown",
   "id": "23fb33a5-23a8-4378-91ac-aedcca26ef9b",
   "metadata": {},
   "source": [
    "## 사기 탐지를 위한 지도 및 비지도 임베딩"
   ]
  },
  {
   "cell_type": "markdown",
   "id": "35581a46-cf9e-4e7b-8f8c-f343c65fa7f4",
   "metadata": {},
   "source": [
    "- 트랜잭션 간선으로 표기\n",
    "\n",
    "- 각 간선을 올바른 클래스(사기 또는 정상)으로 분류"
   ]
  },
  {
   "cell_type": "markdown",
   "id": "d59d2633-61e6-4a0e-aee5-5d676f3bf563",
   "metadata": {},
   "source": [
    "### 지도학습"
   ]
  },
  {
   "cell_type": "code",
   "execution_count": 23,
   "id": "2e9f5acd-e59d-44ca-972c-aba3f14b729c",
   "metadata": {},
   "outputs": [
    {
     "name": "stdout",
     "output_type": "stream",
     "text": [
      "1    6006\n",
      "0    6006\n",
      "Name: is_fraud, dtype: int64\n"
     ]
    }
   ],
   "source": [
    "from sklearn.utils import resample\n",
    "\n",
    "df_majority = df[df.is_fraud==0]\n",
    "df_minority = df[df.is_fraud==1]\n",
    "\n",
    "df_maj_dowsampled = resample(df_majority,\n",
    "                             n_samples=len(df_minority),\n",
    "                             random_state=42)\n",
    "\n",
    "df_downsampled = pd.concat([df_minority, df_maj_dowsampled])\n",
    "\n",
    "print(df_downsampled.is_fraud.value_counts())\n",
    "G_down = build_graph_bipartite(df_downsampled)"
   ]
  },
  {
   "cell_type": "markdown",
   "id": "6ed889e8-0d35-4087-8c3a-2b63b7c75807",
   "metadata": {},
   "source": [
    "- 무작위 언더샘플링 사용\n",
    "\n",
    "- 소수 클래스(사기거래)이 샘플 수 와 일치시키려고 다수 클래스(정상거래)의 하위 샘플을 가져옴\n",
    "\n",
    "- 데이터 불균형을 처리하기 위해서"
   ]
  },
  {
   "cell_type": "code",
   "execution_count": 24,
   "id": "b3a43a7b-30ff-4de4-98aa-bef38365830c",
   "metadata": {},
   "outputs": [],
   "source": [
    "from sklearn.model_selection import train_test_split\n",
    "\n",
    "\n",
    "train_edges, test_edges, train_labels, test_labels = train_test_split(list(range(len(G_down.edges))), \n",
    "                                                                      list(nx.get_edge_attributes(G_down, \"label\").values()), \n",
    "                                                                      test_size=0.20, \n",
    "                                                                      random_state=42)"
   ]
  },
  {
   "cell_type": "code",
   "execution_count": 25,
   "id": "3ecbfefb-fd75-4b34-b45e-4e6f70cdcff0",
   "metadata": {},
   "outputs": [],
   "source": [
    "edgs = list(G_down.edges)\n",
    "train_graph = G_down.edge_subgraph([edgs[x] for x in train_edges]).copy()\n",
    "train_graph.add_nodes_from(list(set(G_down.nodes) - set(train_graph.nodes)))"
   ]
  },
  {
   "cell_type": "markdown",
   "id": "7bcd2289-1468-456b-a00f-fe7f851fb9bd",
   "metadata": {},
   "source": [
    "- 데이터 8:2 비율로 학습 검증"
   ]
  },
  {
   "cell_type": "code",
   "execution_count": 53,
   "id": "2a0189fa-7329-4dda-9703-21a1b63e2010",
   "metadata": {},
   "outputs": [
    {
     "name": "stdout",
     "output_type": "stream",
     "text": [
      "Collecting node2vec\n",
      "  Downloading node2vec-0.4.6-py3-none-any.whl (7.0 kB)\n",
      "Requirement already satisfied: joblib<2.0.0,>=1.1.0 in /home/coco/anaconda3/envs/py38/lib/python3.8/site-packages (from node2vec) (1.2.0)\n",
      "Collecting gensim<5.0.0,>=4.1.2\n",
      "  Downloading gensim-4.3.1-cp38-cp38-manylinux_2_17_x86_64.manylinux2014_x86_64.whl (26.5 MB)\n",
      "\u001b[2K     \u001b[90m━━━━━━━━━━━━━━━━━━━━━━━━━━━━━━━━━━━━━━━━\u001b[0m \u001b[32m26.5/26.5 MB\u001b[0m \u001b[31m71.8 MB/s\u001b[0m eta \u001b[36m0:00:00\u001b[0m00:01\u001b[0m00:01\u001b[0m\n",
      "\u001b[?25hCollecting tqdm<5.0.0,>=4.55.1\n",
      "  Downloading tqdm-4.65.0-py3-none-any.whl (77 kB)\n",
      "\u001b[2K     \u001b[90m━━━━━━━━━━━━━━━━━━━━━━━━━━━━━━━━━━━━━━━━\u001b[0m \u001b[32m77.1/77.1 kB\u001b[0m \u001b[31m18.6 MB/s\u001b[0m eta \u001b[36m0:00:00\u001b[0m\n",
      "\u001b[?25hCollecting networkx<3.0,>=2.5\n",
      "  Downloading networkx-2.8.8-py3-none-any.whl (2.0 MB)\n",
      "\u001b[2K     \u001b[90m━━━━━━━━━━━━━━━━━━━━━━━━━━━━━━━━━━━━━━━━\u001b[0m \u001b[32m2.0/2.0 MB\u001b[0m \u001b[31m90.4 MB/s\u001b[0m eta \u001b[36m0:00:00\u001b[0m\n",
      "\u001b[?25hRequirement already satisfied: numpy<2.0.0,>=1.19.5 in /home/coco/anaconda3/envs/py38/lib/python3.8/site-packages (from node2vec) (1.24.2)\n",
      "Requirement already satisfied: scipy>=1.7.0 in /home/coco/anaconda3/envs/py38/lib/python3.8/site-packages (from gensim<5.0.0,>=4.1.2->node2vec) (1.10.1)\n",
      "Collecting smart-open>=1.8.1\n",
      "  Downloading smart_open-6.3.0-py3-none-any.whl (56 kB)\n",
      "\u001b[2K     \u001b[90m━━━━━━━━━━━━━━━━━━━━━━━━━━━━━━━━━━━━━━━━\u001b[0m \u001b[32m56.8/56.8 kB\u001b[0m \u001b[31m13.6 MB/s\u001b[0m eta \u001b[36m0:00:00\u001b[0m\n",
      "\u001b[?25hInstalling collected packages: tqdm, smart-open, networkx, gensim, node2vec\n",
      "  Attempting uninstall: networkx\n",
      "    Found existing installation: networkx 3.0\n",
      "    Uninstalling networkx-3.0:\n",
      "      Successfully uninstalled networkx-3.0\n",
      "Successfully installed gensim-4.3.1 networkx-2.8.8 node2vec-0.4.6 smart-open-6.3.0 tqdm-4.65.0\n",
      "Note: you may need to restart the kernel to use updated packages.\n"
     ]
    }
   ],
   "source": [
    "pip install node2vec"
   ]
  },
  {
   "cell_type": "code",
   "execution_count": 26,
   "id": "ab4daf40-17bb-4ddc-a0ae-ddf7b5449d8c",
   "metadata": {},
   "outputs": [
    {
     "data": {
      "application/vnd.jupyter.widget-view+json": {
       "model_id": "6c1404becb014422895efdf05208c9b9",
       "version_major": 2,
       "version_minor": 0
      },
      "text/plain": [
       "Computing transition probabilities:   0%|          | 0/1630 [00:00<?, ?it/s]"
      ]
     },
     "metadata": {},
     "output_type": "display_data"
    },
    {
     "name": "stderr",
     "output_type": "stream",
     "text": [
      "Generating walks (CPU: 1): 100%|██████████| 10/10 [00:03<00:00,  2.62it/s]\n"
     ]
    }
   ],
   "source": [
    "from node2vec import Node2Vec\n",
    "from node2vec.edges import HadamardEmbedder, AverageEmbedder, WeightedL1Embedder, WeightedL2Embedder\n",
    "\n",
    "node2vec_train = Node2Vec(train_graph, weight_key='weight')\n",
    "model_train = node2vec_train.fit(window=10)"
   ]
  },
  {
   "cell_type": "markdown",
   "id": "5384e4bb-9dc7-4ef4-a3f0-fc0df1878335",
   "metadata": {},
   "source": [
    "- Node2Vec 알고리즘 사용해 특징 공간 구축"
   ]
  },
  {
   "cell_type": "code",
   "execution_count": 27,
   "id": "6182fb3a-d48e-4853-86df-85da6b2173e0",
   "metadata": {},
   "outputs": [
    {
     "name": "stdout",
     "output_type": "stream",
     "text": [
      "<class 'node2vec.edges.HadamardEmbedder'>\n",
      "Precision: 0.7451737451737451\n",
      "Recall: 0.16538131962296487\n",
      "F1-Score: 0.270687237026648\n",
      "<class 'node2vec.edges.AverageEmbedder'>\n",
      "Precision: 0.691699604743083\n",
      "Recall: 0.7497857754927164\n",
      "F1-Score: 0.7195723684210527\n",
      "<class 'node2vec.edges.WeightedL1Embedder'>\n",
      "Precision: 0.7142857142857143\n",
      "Recall: 0.029991431019708654\n",
      "F1-Score: 0.0575657894736842\n",
      "<class 'node2vec.edges.WeightedL2Embedder'>\n",
      "Precision: 0.64\n",
      "Recall: 0.027420736932305057\n",
      "F1-Score: 0.052588331963845526\n"
     ]
    }
   ],
   "source": [
    "from sklearn.ensemble import RandomForestClassifier \n",
    "from sklearn import metrics \n",
    "\n",
    "classes = [HadamardEmbedder, AverageEmbedder, WeightedL1Embedder, WeightedL2Embedder]\n",
    "for cl in classes:\n",
    "    embeddings_train = cl(keyed_vectors=model_train.wv) \n",
    "    # 벡터스페이스 상에 edge를 투영.. \n",
    "\n",
    "    train_embeddings = [embeddings_train[str(edgs[x][0]), str(edgs[x][1])] for x in train_edges]\n",
    "    test_embeddings = [embeddings_train[str(edgs[x][0]), str(edgs[x][1])] for x in test_edges]\n",
    "    \n",
    "    rf = RandomForestClassifier(n_estimators=1000, random_state=42) \n",
    "    rf.fit(train_embeddings, train_labels); \n",
    "\n",
    "    y_pred = rf.predict(test_embeddings)\n",
    "    print(cl)\n",
    "    print('Precision:', metrics.precision_score(test_labels, y_pred)) \n",
    "    print('Recall:', metrics.recall_score(test_labels, y_pred)) \n",
    "    print('F1-Score:', metrics.f1_score(test_labels, y_pred)) "
   ]
  },
  {
   "cell_type": "markdown",
   "id": "568bde9e-c32f-438e-926e-c771e3c2dbb9",
   "metadata": {},
   "source": [
    "- Node2Vec 알고리즘 사용해 각 Edge2Vec 알고리즘으로 특징 공간 생성\n",
    "\n",
    "- sklearn 파이썬 라이브러리의 RandomForestClassifier은 이전 단계에서 생성한 특징에 대해 학습\n",
    "\n",
    "- 검증 테스트 위해 정밀도, 재현율, F1-score 성능 지표 측정"
   ]
  },
  {
   "cell_type": "markdown",
   "id": "c29c3bc5-0f5d-4715-8a08-b078381123ce",
   "metadata": {},
   "source": [
    "### 비지도학습"
   ]
  },
  {
   "cell_type": "markdown",
   "id": "a96e83f7-8592-448a-9564-61ec22b0ab34",
   "metadata": {},
   "source": [
    "- k-means 알고리즘 사용\n",
    "\n",
    "- 지도학습과의 차이점은 특징 공간이 학습-검증 분할을 안함."
   ]
  },
  {
   "cell_type": "code",
   "execution_count": 28,
   "id": "ab1996fe-51e5-48ba-b8d0-fef9832a19c1",
   "metadata": {},
   "outputs": [
    {
     "data": {
      "application/vnd.jupyter.widget-view+json": {
       "model_id": "64d1d140ddde4c63bdcfef613a4f6960",
       "version_major": 2,
       "version_minor": 0
      },
      "text/plain": [
       "Computing transition probabilities:   0%|          | 0/1630 [00:00<?, ?it/s]"
      ]
     },
     "metadata": {},
     "output_type": "display_data"
    },
    {
     "name": "stderr",
     "output_type": "stream",
     "text": [
      "Generating walks (CPU: 1): 100%|██████████| 10/10 [00:04<00:00,  2.32it/s]\n"
     ]
    }
   ],
   "source": [
    "nod2vec_unsup = Node2Vec(G_down, weight_key='weight')\n",
    "unsup_vals = nod2vec_unsup.fit(window=10)"
   ]
  },
  {
   "cell_type": "markdown",
   "id": "53021801-fc17-4559-a313-3ab976bea314",
   "metadata": {},
   "source": [
    "- 다운샘플링 절차에 전체 그래프 알고리즘 계산"
   ]
  },
  {
   "cell_type": "code",
   "execution_count": 29,
   "id": "780618b6-d3ff-4d36-a277-5ab6ab3f1c5f",
   "metadata": {},
   "outputs": [
    {
     "name": "stderr",
     "output_type": "stream",
     "text": [
      "/home/coco/anaconda3/envs/py38/lib/python3.8/site-packages/sklearn/cluster/_kmeans.py:870: FutureWarning: The default value of `n_init` will change from 10 to 'auto' in 1.4. Set the value of `n_init` explicitly to suppress the warning\n",
      "  warnings.warn(\n"
     ]
    },
    {
     "name": "stdout",
     "output_type": "stream",
     "text": [
      "<class 'node2vec.edges.HadamardEmbedder'>\n",
      "NMI: 0.04336246478827236\n",
      "Homogeneity: 0.0383178531539123\n",
      "Completeness: 0.05011351404941123\n",
      "V-Measure: 0.043428985282038965\n"
     ]
    },
    {
     "name": "stderr",
     "output_type": "stream",
     "text": [
      "/home/coco/anaconda3/envs/py38/lib/python3.8/site-packages/sklearn/cluster/_kmeans.py:870: FutureWarning: The default value of `n_init` will change from 10 to 'auto' in 1.4. Set the value of `n_init` explicitly to suppress the warning\n",
      "  warnings.warn(\n"
     ]
    },
    {
     "name": "stdout",
     "output_type": "stream",
     "text": [
      "<class 'node2vec.edges.AverageEmbedder'>\n",
      "NMI: 0.11206093720015026\n",
      "Homogeneity: 0.10817496918905492\n",
      "Completeness: 0.11635805522328385\n",
      "V-Measure: 0.11211739628609738\n"
     ]
    },
    {
     "name": "stderr",
     "output_type": "stream",
     "text": [
      "/home/coco/anaconda3/envs/py38/lib/python3.8/site-packages/sklearn/cluster/_kmeans.py:870: FutureWarning: The default value of `n_init` will change from 10 to 'auto' in 1.4. Set the value of `n_init` explicitly to suppress the warning\n",
      "  warnings.warn(\n"
     ]
    },
    {
     "name": "stdout",
     "output_type": "stream",
     "text": [
      "<class 'node2vec.edges.WeightedL1Embedder'>\n",
      "NMI: 0.16558117117175825\n",
      "Homogeneity: 0.16557714823761863\n",
      "Completeness: 0.16568764408717976\n",
      "V-Measure: 0.16563237773404058\n"
     ]
    },
    {
     "name": "stderr",
     "output_type": "stream",
     "text": [
      "/home/coco/anaconda3/envs/py38/lib/python3.8/site-packages/sklearn/cluster/_kmeans.py:870: FutureWarning: The default value of `n_init` will change from 10 to 'auto' in 1.4. Set the value of `n_init` explicitly to suppress the warning\n",
      "  warnings.warn(\n"
     ]
    },
    {
     "name": "stdout",
     "output_type": "stream",
     "text": [
      "<class 'node2vec.edges.WeightedL2Embedder'>\n",
      "NMI: 0.1349652677966787\n",
      "Homogeneity: 0.1337881599748603\n",
      "Completeness: 0.1362723387302234\n",
      "V-Measure: 0.13501882386803338\n"
     ]
    }
   ],
   "source": [
    "from sklearn.cluster import KMeans\n",
    "\n",
    "classes = [HadamardEmbedder, AverageEmbedder, WeightedL1Embedder, WeightedL2Embedder]\n",
    "true_labels = [x for x in nx.get_edge_attributes(G_down, \"label\").values()]\n",
    "\n",
    "for cl in classes:\n",
    "    embedding_edge = cl(keyed_vectors=unsup_vals.wv) \n",
    "\n",
    "    embedding = [embedding_edge[str(x[0]), str(x[1])] for x in G_down.edges()]\n",
    "    kmeans = KMeans(2, random_state=42).fit(embedding)\n",
    "    \n",
    "    \n",
    "    nmi = metrics.adjusted_mutual_info_score(true_labels, kmeans.labels_)\n",
    "    ho = metrics.homogeneity_score(true_labels, kmeans.labels_)\n",
    "    co = metrics.completeness_score(true_labels, kmeans.labels_)\n",
    "    vmeasure = metrics.v_measure_score(true_labels, kmeans.labels_)\n",
    "    \n",
    "    print(cl)\n",
    "    print('NMI:', nmi)\n",
    "    print('Homogeneity:', ho)\n",
    "    print('Completeness:', co)\n",
    "    print('V-Measure:', vmeasure)"
   ]
  },
  {
   "cell_type": "code",
   "execution_count": null,
   "id": "6501069f-df20-47e7-b508-270ce6b53c7a",
   "metadata": {},
   "outputs": [],
   "source": []
  },
  {
   "cell_type": "markdown",
   "id": "5141be69-da32-41a5-98f5-8d8c9075bdeb",
   "metadata": {},
   "source": [
    "`-` NMI(Normalized Mutual Information)\n",
    "\n",
    "- 두 개의 군집 결과 비교\n",
    "\n",
    "- 0~1이며 1에 가까울수록 높은 성능\n",
    "\n",
    "`-` Homogeneity\n",
    "\n",
    "- 하나의 실제 군집 내에서 같은 군집에 속한 샘플들이 군집화 결과에서 같은 군집에 속할 비율\n",
    "\n",
    "- 1에 가까울수록 높은 성능\n",
    "\n",
    "`-` Completeness\n",
    "\n",
    "- 하나의 예측 군집 내에서 같은 실제 군집에 속한 샘플들이 군집화 결과에서 같은 군집에 속할 비율\n",
    "\n",
    "- 0~1이며 1에 가까울수록 높은 성능\n",
    "\n",
    "`-` V-measure\n",
    "\n",
    "- Homogeneity와 Completeness의 조화 평균\n",
    "\n",
    "- 0~1이며 1에 가까울수록 높은 성능"
   ]
  },
  {
   "cell_type": "markdown",
   "id": "d25664f1-e208-4a84-990a-26106b9535a5",
   "metadata": {},
   "source": [
    "- 비지도 학습에 이상치 탐지 방법\n",
    "\n",
    "- k-means/LOF/One-class SVM 등이 있다.. 한번 같이 해보자."
   ]
  },
  {
   "cell_type": "markdown",
   "id": "f42d2d4e-8905-4697-973f-110926a89fdb",
   "metadata": {},
   "source": [
    "- 조금씩 다 커졌넹.."
   ]
  },
  {
   "cell_type": "markdown",
   "id": "bcd0f1b4-6c8e-40b2-b2ca-1f83005b6f30",
   "metadata": {},
   "source": [
    "`-` 지도학습에서 정상거래에서 다운샘플링을 했는데\n",
    "\n",
    "만약, 사기거래에서 업샘플링을 하게되면 어떻게 될까?"
   ]
  },
  {
   "cell_type": "code",
   "execution_count": null,
   "id": "f11ddb6b-1aa6-4d2d-b066-3575de67115c",
   "metadata": {},
   "outputs": [],
   "source": []
  }
 ],
 "metadata": {
  "kernelspec": {
   "display_name": "Python 3 (ipykernel)",
   "language": "python",
   "name": "python3"
  },
  "language_info": {
   "codemirror_mode": {
    "name": "ipython",
    "version": 3
   },
   "file_extension": ".py",
   "mimetype": "text/x-python",
   "name": "python",
   "nbconvert_exporter": "python",
   "pygments_lexer": "ipython3",
   "version": "3.8.16"
  }
 },
 "nbformat": 4,
 "nbformat_minor": 5
}
