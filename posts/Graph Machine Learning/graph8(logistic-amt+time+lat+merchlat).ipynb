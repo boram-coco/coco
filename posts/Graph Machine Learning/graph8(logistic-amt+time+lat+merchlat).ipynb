{
 "cells": [
  {
   "cell_type": "raw",
   "id": "f0e05e45-98d8-4b5e-8e5d-efbad52a2dd6",
   "metadata": {},
   "source": [
    "---\n",
    "title: \"CH8. 신용카드 거래 분석(로지스틱amt+time+lat+merch_lat-f1:0.98538)\"\n",
    "author: \"김보람\"\n",
    "date: \"04/27/2023\"\n",
    "categories:\n",
    "  - graph\n",
    "---"
   ]
  },
  {
   "cell_type": "code",
   "execution_count": 2,
   "id": "684974fd-9c59-4721-a371-2bf29b0197ea",
   "metadata": {},
   "outputs": [],
   "source": [
    "import pandas as pd\n",
    "import numpy as np\n",
    "import matplotlib.pyplot as plt"
   ]
  },
  {
   "cell_type": "code",
   "execution_count": 3,
   "id": "c9575792-7113-4c37-95eb-093fb94e844f",
   "metadata": {},
   "outputs": [],
   "source": [
    "_df = pd.read_csv(\"fraudTrain.csv\")"
   ]
  },
  {
   "cell_type": "code",
   "execution_count": 4,
   "id": "5c580b86-81c7-4abb-8a97-94150569615c",
   "metadata": {},
   "outputs": [],
   "source": [
    "cus_list = set(_df.query('is_fraud==1').cc_num.tolist())\n",
    "_df2 = _df.query(\"cc_num in @ cus_list\")\n",
    "_df2 = _df2.assign(time= list(map(lambda x: int(x.split(' ')[-1].split(':')[0]), _df2['trans_date_trans_time'])))"
   ]
  },
  {
   "cell_type": "code",
   "execution_count": 5,
   "id": "712b9c3c-5c29-4f23-b95e-d4bee20b0e57",
   "metadata": {},
   "outputs": [
    {
     "name": "stdout",
     "output_type": "stream",
     "text": [
      "<class 'pandas.core.frame.DataFrame'>\n",
      "Int64Index: 651430 entries, 3 to 1048574\n",
      "Data columns (total 24 columns):\n",
      " #   Column                 Non-Null Count   Dtype  \n",
      "---  ------                 --------------   -----  \n",
      " 0   Unnamed: 0             651430 non-null  int64  \n",
      " 1   trans_date_trans_time  651430 non-null  object \n",
      " 2   cc_num                 651430 non-null  float64\n",
      " 3   merchant               651430 non-null  object \n",
      " 4   category               651430 non-null  object \n",
      " 5   amt                    651430 non-null  float64\n",
      " 6   first                  651430 non-null  object \n",
      " 7   last                   651430 non-null  object \n",
      " 8   gender                 651430 non-null  object \n",
      " 9   street                 651430 non-null  object \n",
      " 10  city                   651430 non-null  object \n",
      " 11  state                  651430 non-null  object \n",
      " 12  zip                    651430 non-null  int64  \n",
      " 13  lat                    651430 non-null  float64\n",
      " 14  long                   651430 non-null  float64\n",
      " 15  city_pop               651430 non-null  int64  \n",
      " 16  job                    651430 non-null  object \n",
      " 17  dob                    651430 non-null  object \n",
      " 18  trans_num              651430 non-null  object \n",
      " 19  unix_time              651430 non-null  int64  \n",
      " 20  merch_lat              651430 non-null  float64\n",
      " 21  merch_long             651430 non-null  float64\n",
      " 22  is_fraud               651430 non-null  int64  \n",
      " 23  time                   651430 non-null  int64  \n",
      "dtypes: float64(6), int64(6), object(12)\n",
      "memory usage: 124.3+ MB\n"
     ]
    }
   ],
   "source": [
    "_df2.info()"
   ]
  },
  {
   "cell_type": "markdown",
   "id": "07378bfe-aa48-4ef4-a109-c84ef8219ee2",
   "metadata": {},
   "source": [
    "`merch_lat`과 `merch_long` 은 상점의 위도 경도, 위의 lat과 long은 고객의 ??\n",
    "\n",
    "`dob`는 생년월일(date of birth)을 나타내는 변수\n",
    "\n",
    "`unix_time` 1970년 1월 1일 0시 0분 0초(UTC)부터 경과된 시간을 초(second) 단위로 표현하는 방법\n",
    "\n",
    "`zip` 우편번호\n",
    "\n",
    "`"
   ]
  },
  {
   "cell_type": "code",
   "execution_count": 6,
   "id": "10d8945f-8bea-45ad-bbc1-492e303adba3",
   "metadata": {},
   "outputs": [
    {
     "data": {
      "text/plain": [
       "0    645424\n",
       "1      6006\n",
       "Name: is_fraud, dtype: int64"
      ]
     },
     "execution_count": 6,
     "metadata": {},
     "output_type": "execute_result"
    }
   ],
   "source": [
    "_df2[\"is_fraud\"].value_counts()"
   ]
  },
  {
   "cell_type": "code",
   "execution_count": 7,
   "id": "087fdf68-baa5-4ba9-a565-e5c436b21d5b",
   "metadata": {},
   "outputs": [
    {
     "data": {
      "text/plain": [
       "0    0.99078\n",
       "1    0.00922\n",
       "Name: is_fraud, dtype: float64"
      ]
     },
     "execution_count": 7,
     "metadata": {},
     "output_type": "execute_result"
    }
   ],
   "source": [
    "_df2[\"is_fraud\"].value_counts()/len(_df2)"
   ]
  },
  {
   "cell_type": "code",
   "execution_count": 8,
   "id": "84d364a6-8b70-4b2c-84e4-b3fbc7cffd12",
   "metadata": {},
   "outputs": [
    {
     "data": {
      "text/plain": [
       "pandas.core.frame.DataFrame"
      ]
     },
     "execution_count": 8,
     "metadata": {},
     "output_type": "execute_result"
    }
   ],
   "source": [
    "type(_df2)"
   ]
  },
  {
   "cell_type": "code",
   "execution_count": 9,
   "id": "21e611d8-bbe2-4a72-b058-9660c1866faa",
   "metadata": {},
   "outputs": [
    {
     "name": "stdout",
     "output_type": "stream",
     "text": [
      "lat: 0.5002190204058765\n",
      "long: 0.5004574515650185\n"
     ]
    }
   ],
   "source": [
    "diff = _df2['lat'] - _df2['merch_lat']\n",
    "latabs=abs(diff)\n",
    "print(\"lat:\",abs(diff).mean())\n",
    "diff2 = _df2['long'] - _df2['merch_long']\n",
    "longabs=abs(diff2)\n",
    "print(\"long:\",abs(diff2).mean())"
   ]
  },
  {
   "cell_type": "code",
   "execution_count": 10,
   "id": "7ff15237-2cce-4605-8174-ecb5fa33d24b",
   "metadata": {},
   "outputs": [],
   "source": [
    "_df2 = _df2.assign(latabs=abs(_df2['lat'] - _df2['merch_lat']))"
   ]
  },
  {
   "cell_type": "code",
   "execution_count": 11,
   "id": "e11ce258-af14-4066-87f4-e1c2bf7f665f",
   "metadata": {},
   "outputs": [],
   "source": [
    "_df2 = _df2.assign(longabs=abs(_df2['long'] - _df2['merch_long']))"
   ]
  },
  {
   "cell_type": "code",
   "execution_count": null,
   "id": "a3b456f9-984a-43ed-8ab3-5010776513ca",
   "metadata": {},
   "outputs": [],
   "source": []
  },
  {
   "cell_type": "code",
   "execution_count": 12,
   "id": "f2018f37-0783-4471-864f-f35d7dd42d85",
   "metadata": {},
   "outputs": [
    {
     "data": {
      "text/html": [
       "<div>\n",
       "<style scoped>\n",
       "    .dataframe tbody tr th:only-of-type {\n",
       "        vertical-align: middle;\n",
       "    }\n",
       "\n",
       "    .dataframe tbody tr th {\n",
       "        vertical-align: top;\n",
       "    }\n",
       "\n",
       "    .dataframe thead th {\n",
       "        text-align: right;\n",
       "    }\n",
       "</style>\n",
       "<table border=\"1\" class=\"dataframe\">\n",
       "  <thead>\n",
       "    <tr style=\"text-align: right;\">\n",
       "      <th></th>\n",
       "      <th>city_pop</th>\n",
       "      <th>amt</th>\n",
       "      <th>time</th>\n",
       "      <th>latabs</th>\n",
       "      <th>longabs</th>\n",
       "    </tr>\n",
       "    <tr>\n",
       "      <th>is_fraud</th>\n",
       "      <th></th>\n",
       "      <th></th>\n",
       "      <th></th>\n",
       "      <th></th>\n",
       "      <th></th>\n",
       "    </tr>\n",
       "  </thead>\n",
       "  <tbody>\n",
       "    <tr>\n",
       "      <th>0</th>\n",
       "      <td>83870.443845</td>\n",
       "      <td>67.743047</td>\n",
       "      <td>12.813152</td>\n",
       "      <td>0.500202</td>\n",
       "      <td>0.500468</td>\n",
       "    </tr>\n",
       "    <tr>\n",
       "      <th>1</th>\n",
       "      <td>96323.951715</td>\n",
       "      <td>530.573492</td>\n",
       "      <td>13.915917</td>\n",
       "      <td>0.502055</td>\n",
       "      <td>0.499343</td>\n",
       "    </tr>\n",
       "  </tbody>\n",
       "</table>\n",
       "</div>"
      ],
      "text/plain": [
       "              city_pop         amt       time    latabs   longabs\n",
       "is_fraud                                                         \n",
       "0         83870.443845   67.743047  12.813152  0.500202  0.500468\n",
       "1         96323.951715  530.573492  13.915917  0.502055  0.499343"
      ]
     },
     "execution_count": 12,
     "metadata": {},
     "output_type": "execute_result"
    }
   ],
   "source": [
    "_df2.groupby(by=['is_fraud']).agg({'city_pop':np.mean,'amt':np.mean,'time':np.mean,'latabs':np.mean, 'longabs':np.mean})"
   ]
  },
  {
   "cell_type": "code",
   "execution_count": 13,
   "id": "f85fe0a2-acfb-451d-98d5-8720547ef3c7",
   "metadata": {},
   "outputs": [],
   "source": [
    "_df3=_df2[['amt','time','lat','merch_lat','is_fraud']]"
   ]
  },
  {
   "cell_type": "code",
   "execution_count": 14,
   "id": "71a5e1c1-0f0f-439b-aa46-ecc5ffc079e4",
   "metadata": {},
   "outputs": [],
   "source": [
    "data=np.hstack([_df3.values[:,:]])"
   ]
  },
  {
   "cell_type": "code",
   "execution_count": 15,
   "id": "2c5bc9fe-5aa4-4d38-a3ea-a6e6570c4c7c",
   "metadata": {},
   "outputs": [
    {
     "data": {
      "text/plain": [
       "array([[ 45.      ,   0.      ,  46.2306  ,  47.034331,   0.      ],\n",
       "       [ 94.63    ,   0.      ,  40.375   ,  40.653382,   0.      ],\n",
       "       [ 44.54    ,   0.      ,  37.9931  ,  37.162705,   0.      ],\n",
       "       ...,\n",
       "       [  6.03    ,  16.      ,  42.1939  ,  42.633354,   0.      ],\n",
       "       [116.94    ,  16.      ,  41.1826  ,  41.400318,   0.      ],\n",
       "       [  6.81    ,  16.      ,  34.077   ,  33.601468,   0.      ]])"
      ]
     },
     "execution_count": 15,
     "metadata": {},
     "output_type": "execute_result"
    }
   ],
   "source": [
    "data"
   ]
  },
  {
   "cell_type": "code",
   "execution_count": 16,
   "id": "8ba7c160-4678-44c9-9d66-84ccf0a2f62a",
   "metadata": {},
   "outputs": [],
   "source": [
    "X = data[:,:-1]\n",
    "y = data[:,-1]"
   ]
  },
  {
   "cell_type": "code",
   "execution_count": null,
   "id": "2eab77a9-8a78-4697-b8d4-a0603cdf1677",
   "metadata": {},
   "outputs": [],
   "source": []
  },
  {
   "cell_type": "code",
   "execution_count": 17,
   "id": "d4fb117c-02dc-468c-a717-315828e328d3",
   "metadata": {},
   "outputs": [],
   "source": [
    "from sklearn.linear_model import LogisticRegression\n",
    "from sklearn.model_selection import train_test_split\n",
    "from sklearn.metrics import accuracy_score, precision_score, recall_score, f1_score"
   ]
  },
  {
   "cell_type": "code",
   "execution_count": 47,
   "id": "2e6a6e8d-662a-4f03-a69e-43fbe87de15f",
   "metadata": {},
   "outputs": [],
   "source": [
    "X_train, X_test, y_train, y_test = train_test_split(X,y, test_size=0.2)"
   ]
  },
  {
   "cell_type": "code",
   "execution_count": 48,
   "id": "0f58080e-f0e9-4d7a-8914-fd42b5b23b3d",
   "metadata": {},
   "outputs": [],
   "source": [
    "lr = LogisticRegression()"
   ]
  },
  {
   "cell_type": "code",
   "execution_count": 49,
   "id": "5db39836-9a52-4e8d-a652-8667c65ca056",
   "metadata": {},
   "outputs": [
    {
     "data": {
      "text/html": [
       "<style>#sk-container-id-6 {color: black;background-color: white;}#sk-container-id-6 pre{padding: 0;}#sk-container-id-6 div.sk-toggleable {background-color: white;}#sk-container-id-6 label.sk-toggleable__label {cursor: pointer;display: block;width: 100%;margin-bottom: 0;padding: 0.3em;box-sizing: border-box;text-align: center;}#sk-container-id-6 label.sk-toggleable__label-arrow:before {content: \"▸\";float: left;margin-right: 0.25em;color: #696969;}#sk-container-id-6 label.sk-toggleable__label-arrow:hover:before {color: black;}#sk-container-id-6 div.sk-estimator:hover label.sk-toggleable__label-arrow:before {color: black;}#sk-container-id-6 div.sk-toggleable__content {max-height: 0;max-width: 0;overflow: hidden;text-align: left;background-color: #f0f8ff;}#sk-container-id-6 div.sk-toggleable__content pre {margin: 0.2em;color: black;border-radius: 0.25em;background-color: #f0f8ff;}#sk-container-id-6 input.sk-toggleable__control:checked~div.sk-toggleable__content {max-height: 200px;max-width: 100%;overflow: auto;}#sk-container-id-6 input.sk-toggleable__control:checked~label.sk-toggleable__label-arrow:before {content: \"▾\";}#sk-container-id-6 div.sk-estimator input.sk-toggleable__control:checked~label.sk-toggleable__label {background-color: #d4ebff;}#sk-container-id-6 div.sk-label input.sk-toggleable__control:checked~label.sk-toggleable__label {background-color: #d4ebff;}#sk-container-id-6 input.sk-hidden--visually {border: 0;clip: rect(1px 1px 1px 1px);clip: rect(1px, 1px, 1px, 1px);height: 1px;margin: -1px;overflow: hidden;padding: 0;position: absolute;width: 1px;}#sk-container-id-6 div.sk-estimator {font-family: monospace;background-color: #f0f8ff;border: 1px dotted black;border-radius: 0.25em;box-sizing: border-box;margin-bottom: 0.5em;}#sk-container-id-6 div.sk-estimator:hover {background-color: #d4ebff;}#sk-container-id-6 div.sk-parallel-item::after {content: \"\";width: 100%;border-bottom: 1px solid gray;flex-grow: 1;}#sk-container-id-6 div.sk-label:hover label.sk-toggleable__label {background-color: #d4ebff;}#sk-container-id-6 div.sk-serial::before {content: \"\";position: absolute;border-left: 1px solid gray;box-sizing: border-box;top: 0;bottom: 0;left: 50%;z-index: 0;}#sk-container-id-6 div.sk-serial {display: flex;flex-direction: column;align-items: center;background-color: white;padding-right: 0.2em;padding-left: 0.2em;position: relative;}#sk-container-id-6 div.sk-item {position: relative;z-index: 1;}#sk-container-id-6 div.sk-parallel {display: flex;align-items: stretch;justify-content: center;background-color: white;position: relative;}#sk-container-id-6 div.sk-item::before, #sk-container-id-6 div.sk-parallel-item::before {content: \"\";position: absolute;border-left: 1px solid gray;box-sizing: border-box;top: 0;bottom: 0;left: 50%;z-index: -1;}#sk-container-id-6 div.sk-parallel-item {display: flex;flex-direction: column;z-index: 1;position: relative;background-color: white;}#sk-container-id-6 div.sk-parallel-item:first-child::after {align-self: flex-end;width: 50%;}#sk-container-id-6 div.sk-parallel-item:last-child::after {align-self: flex-start;width: 50%;}#sk-container-id-6 div.sk-parallel-item:only-child::after {width: 0;}#sk-container-id-6 div.sk-dashed-wrapped {border: 1px dashed gray;margin: 0 0.4em 0.5em 0.4em;box-sizing: border-box;padding-bottom: 0.4em;background-color: white;}#sk-container-id-6 div.sk-label label {font-family: monospace;font-weight: bold;display: inline-block;line-height: 1.2em;}#sk-container-id-6 div.sk-label-container {text-align: center;}#sk-container-id-6 div.sk-container {/* jupyter's `normalize.less` sets `[hidden] { display: none; }` but bootstrap.min.css set `[hidden] { display: none !important; }` so we also need the `!important` here to be able to override the default hidden behavior on the sphinx rendered scikit-learn.org. See: https://github.com/scikit-learn/scikit-learn/issues/21755 */display: inline-block !important;position: relative;}#sk-container-id-6 div.sk-text-repr-fallback {display: none;}</style><div id=\"sk-container-id-6\" class=\"sk-top-container\"><div class=\"sk-text-repr-fallback\"><pre>LogisticRegression()</pre><b>In a Jupyter environment, please rerun this cell to show the HTML representation or trust the notebook. <br />On GitHub, the HTML representation is unable to render, please try loading this page with nbviewer.org.</b></div><div class=\"sk-container\" hidden><div class=\"sk-item\"><div class=\"sk-estimator sk-toggleable\"><input class=\"sk-toggleable__control sk-hidden--visually\" id=\"sk-estimator-id-6\" type=\"checkbox\" checked><label for=\"sk-estimator-id-6\" class=\"sk-toggleable__label sk-toggleable__label-arrow\">LogisticRegression</label><div class=\"sk-toggleable__content\"><pre>LogisticRegression()</pre></div></div></div></div></div>"
      ],
      "text/plain": [
       "LogisticRegression()"
      ]
     },
     "execution_count": 49,
     "metadata": {},
     "output_type": "execute_result"
    }
   ],
   "source": [
    "lr.fit(X_train, y_train)"
   ]
  },
  {
   "cell_type": "code",
   "execution_count": 50,
   "id": "92b6ae82-76ff-4466-9105-811390641583",
   "metadata": {},
   "outputs": [],
   "source": [
    "y_pred=lr.predict(X_test)"
   ]
  },
  {
   "cell_type": "code",
   "execution_count": 51,
   "id": "0060c96a-ec3e-4b50-aaed-41c42cef07cb",
   "metadata": {},
   "outputs": [
    {
     "name": "stdout",
     "output_type": "stream",
     "text": [
      "Accuracy: 0.9891776553121594\n",
      "Precision: 0.9810129371194015\n",
      "Recall: 0.9891776553121594\n",
      "F1 score: 0.9850783784050309\n"
     ]
    }
   ],
   "source": [
    "acc= accuracy_score(y_test, y_pred)\n",
    "precision = precision_score(y_test, y_pred, average='weighted')\n",
    "recall = recall_score(y_test, y_pred, average='weighted')\n",
    "f1score = f1_score(y_test, y_pred, average='weighted')\n",
    "print(\"Accuracy: {}\".format(acc))\n",
    "print(\"Precision: {}\".format(precision))\n",
    "print(\"Recall: {}\".format(recall))\n",
    "print(\"F1 score: {}\".format(f1score))"
   ]
  },
  {
   "cell_type": "code",
   "execution_count": 52,
   "id": "9d2585a0-55dd-40f9-8711-4f43f1141e1b",
   "metadata": {
    "tags": []
   },
   "outputs": [
    {
     "name": "stdout",
     "output_type": "stream",
     "text": [
      "Accuracy: 0.9891776553121594\n",
      "Precision:0.4952274089672451\n",
      "Recall: 0.49934905923560957\n",
      "F1 score: 0.4972796937822675\n"
     ]
    }
   ],
   "source": [
    "acc= accuracy_score(y_test, y_pred)\n",
    "precision = precision_score(y_test, y_pred, average='macro')\n",
    "recall = recall_score(y_test, y_pred, average='macro')\n",
    "f1score = f1_score(y_test, y_pred, average='macro')\n",
    "print(\"Accuracy: {}\".format(acc))\n",
    "print(\"Precision:{}\".format(precision))\n",
    "print(\"Recall: {}\".format(recall))\n",
    "print(\"F1 score: {}\".format(f1score))"
   ]
  },
  {
   "cell_type": "markdown",
   "id": "dad6693e-a503-4471-8bb2-6e9962a65e36",
   "metadata": {},
   "source": [
    "> 간단하게 생각해보면, 고객의 lat과 상점의 lat의 차이가 크다.. 그러면 사기거래일 가능성이 클 거 같은 느낌.?"
   ]
  },
  {
   "cell_type": "code",
   "execution_count": null,
   "id": "7997cd01-c013-479d-83f7-ec4c52220f6d",
   "metadata": {},
   "outputs": [],
   "source": []
  }
 ],
 "metadata": {
  "kernelspec": {
   "display_name": "Python 3 (ipykernel)",
   "language": "python",
   "name": "python3"
  },
  "language_info": {
   "codemirror_mode": {
    "name": "ipython",
    "version": 3
   },
   "file_extension": ".py",
   "mimetype": "text/x-python",
   "name": "python",
   "nbconvert_exporter": "python",
   "pygments_lexer": "ipython3",
   "version": "3.8.16"
  }
 },
 "nbformat": 4,
 "nbformat_minor": 5
}
