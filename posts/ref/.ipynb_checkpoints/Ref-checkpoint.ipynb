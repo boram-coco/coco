{
 "cells": [
  {
   "cell_type": "raw",
   "id": "11f920a3-29f8-4498-b340-315e8a1a5726",
   "metadata": {},
   "source": [
    "---\n",
    "title: \"Ref\"\n",
    "author: \"김보람\"\n",
    "date: \"03/10/2023\"\n",
    "categories:\n",
    "  - Ref\n",
    "---"
   ]
  },
  {
   "cell_type": "markdown",
   "id": "6b40d320-6772-4dec-8e88-53007376aec7",
   "metadata": {},
   "source": [
    "# 기본"
   ]
  },
  {
   "cell_type": "markdown",
   "id": "11f530cd-e995-4054-85c8-5ba65687484a",
   "metadata": {},
   "source": [
    "`-` ref: https://3months.tistory.com/392"
   ]
  },
  {
   "cell_type": "markdown",
   "id": "e6bfed3c-9eb9-4e28-8571-95e9797b528c",
   "metadata": {},
   "source": [
    "- 주피터 랩 단축키"
   ]
  },
  {
   "cell_type": "markdown",
   "id": "2de32efd-3273-4358-8e3c-f952f3c7853a",
   "metadata": {},
   "source": [
    "`-` ref: [Markdown 문법](https://shjchad78.tistory.com/18)"
   ]
  },
  {
   "cell_type": "markdown",
   "id": "032ffdc2-7871-459a-9660-475c603232b4",
   "metadata": {},
   "source": [
    "---"
   ]
  },
  {
   "cell_type": "markdown",
   "id": "49cc0f8f-ecb5-4099-be21-0652f99a5e55",
   "metadata": {},
   "source": [
    "`-` ref: [Quarto](https://nbdev.fast.ai/tutorials/blogging.html), [Quarto](https://quarto.org/docs/get-started/hello/jupyter.html)\n",
    "\n",
    "- Quarto 블로그"
   ]
  },
  {
   "cell_type": "markdown",
   "id": "a2aec3ea-2a98-4875-9133-f45c171a7119",
   "metadata": {},
   "source": [
    "---"
   ]
  },
  {
   "cell_type": "markdown",
   "id": "10211af8-0cdd-4c5e-8bc1-f114f3ecce41",
   "metadata": {},
   "source": [
    "# R"
   ]
  },
  {
   "cell_type": "markdown",
   "id": "8684d93d-bb3d-461f-936c-556e0b781728",
   "metadata": {},
   "source": [
    "`-` Book: [R for Data Science](https://quarto.org/docs/get-started/hello/jupyter.html)"
   ]
  },
  {
   "cell_type": "markdown",
   "id": "7a12e273-f694-4e61-8ede-46ebd3f929c5",
   "metadata": {},
   "source": [
    "# 파이썬"
   ]
  },
  {
   "cell_type": "markdown",
   "id": "653f825e-1cd5-46cc-9e8d-b84f07e08b21",
   "metadata": {},
   "source": [
    "`-` Book: [Python Data Science Handbook](https://jakevdp.github.io/PythonDataScienceHandbook/)"
   ]
  },
  {
   "cell_type": "markdown",
   "id": "636834eb-e5f8-4879-8c79-0f5e8d59ebc4",
   "metadata": {},
   "source": [
    "`-` Book: [Python for Data Analysis](https://wesmckinney.com/book/)"
   ]
  },
  {
   "cell_type": "markdown",
   "id": "97888fb0-2f5b-42f0-bb19-e13621dc1acc",
   "metadata": {},
   "source": [
    "---"
   ]
  },
  {
   "cell_type": "markdown",
   "id": "b291cc7d-aa9e-4d7e-b4e3-cff4acad447a",
   "metadata": {},
   "source": [
    "`-` ref: [pandas](https://pandas.pydata.org/docs/getting_started/comparison/index.html)"
   ]
  },
  {
   "cell_type": "markdown",
   "id": "aacfbf61-9f19-4275-af04-ab511c86b809",
   "metadata": {},
   "source": [
    "---"
   ]
  },
  {
   "cell_type": "markdown",
   "id": "fff458f7-4c30-466e-a4f9-0c3ddf825f22",
   "metadata": {},
   "source": [
    "# 데이터 시각화"
   ]
  },
  {
   "cell_type": "markdown",
   "id": "4c539854-4b59-41f2-90a8-1b22ca752989",
   "metadata": {},
   "source": [
    "`-` Book: [Visualization Curriculum](https://jjallaire.github.io/visualization-curriculum/)"
   ]
  },
  {
   "cell_type": "markdown",
   "id": "89e8ad01-9028-49c7-93fa-2e28a2741237",
   "metadata": {},
   "source": [
    "---"
   ]
  },
  {
   "cell_type": "markdown",
   "id": "5975a31e-74ed-489b-984c-7b093c26d4a6",
   "metadata": {},
   "source": [
    "`-` ref: [boxplot](https://github.com/mGalarnyk/Python_Tutorials/blob/master/Statistics/boxplot/box_plot.ipynb)\n",
    "\n",
    "- [DV_1주차: boxplot](https://boram-coco.github.io/coco/posts/Data%20Visualization/DV_1(0910).html)"
   ]
  },
  {
   "cell_type": "markdown",
   "id": "84a1c8da-7c5f-4c17-a467-bb9fb35b6e59",
   "metadata": {},
   "source": [
    "---"
   ]
  },
  {
   "cell_type": "markdown",
   "id": "33cdd981-ef40-4319-bf36-46e705f83c52",
   "metadata": {},
   "source": [
    "`-` ref: [histogram](https://en.wikipedia.org/wiki/Histogram_equalization)\n",
    "\n",
    "- [DV_2주차:히스토그램 이퀄라이제이션](https://boram-coco.github.io/coco/posts/Data%20Visualization/DV_2(0914).html)"
   ]
  },
  {
   "cell_type": "markdown",
   "id": "91315855-0736-4305-a497-4b47c9ab928d",
   "metadata": {},
   "source": [
    "---"
   ]
  },
  {
   "cell_type": "markdown",
   "id": "a2d7e6b6-5f56-41ad-8d4c-1a3b28724a10",
   "metadata": {},
   "source": [
    "`-` ref: [matplotlib](https://matplotlib.org/stable/api/_as_gen/matplotlib.pyplot.plot.html)\n",
    "\n",
    "- [DV_3주차:plot](https://boram-coco.github.io/coco/posts/Data%20Visualization/DV_3(0919).html)"
   ]
  },
  {
   "cell_type": "markdown",
   "id": "f0095d69-4cd2-4b00-ad60-39642efe053a",
   "metadata": {},
   "source": [
    "---"
   ]
  },
  {
   "cell_type": "markdown",
   "id": "a3ed5997-ff85-45dd-a749-f53c0d3c6942",
   "metadata": {},
   "source": [
    "`-` ref: [해들리 위컴의 그래프 레이어](https://byrneslab.net/classes/biol607/readings/wickham_layered-grammar.pdf)\n",
    "\n",
    "-  [DV_10주차](https://boram-coco.github.io/coco/posts/Data%20Visualization/DV_10(1107).html)"
   ]
  },
  {
   "cell_type": "markdown",
   "id": "ad2a2b82-1742-4587-9527-03433a062174",
   "metadata": {},
   "source": [
    "---"
   ]
  },
  {
   "cell_type": "markdown",
   "id": "a7a486a0-eb65-4873-b5a2-71496c99f8cf",
   "metadata": {},
   "source": [
    "`-` ref: [folium](https://python-visualization.github.io/folium/#)\n",
    "\n",
    "- [DV_12주차](https://boram-coco.github.io/coco/posts/Data%20Visualization/DV_12(1121).html)\n",
    "- [leaflet](https://leafletjs.com/#map)\n",
    "- [아이콘](https://getbootstrap.com/docs/3.3/components/)"
   ]
  },
  {
   "cell_type": "markdown",
   "id": "b4d9b5af-bad9-4e31-a8ed-1610e678ee72",
   "metadata": {},
   "source": [
    "---"
   ]
  },
  {
   "cell_type": "markdown",
   "id": "18d97a64-ed09-4295-a51b-88d86a9d00be",
   "metadata": {},
   "source": [
    "# 블로그"
   ]
  },
  {
   "cell_type": "markdown",
   "id": "a814967f-0d0b-41dc-97a8-da63df42c9c6",
   "metadata": {},
   "source": [
    "## [Essi Alizadeh](https://ealizadeh.com/)"
   ]
  },
  {
   "cell_type": "code",
   "execution_count": null,
   "id": "0e4b33f3-539f-49b7-9754-b3ba452f41a9",
   "metadata": {},
   "outputs": [],
   "source": []
  }
 ],
 "metadata": {
  "kernelspec": {
   "display_name": "Python 3",
   "language": "python",
   "name": "python3"
  },
  "language_info": {
   "codemirror_mode": {
    "name": "ipython",
    "version": 3
   },
   "file_extension": ".py",
   "mimetype": "text/x-python",
   "name": "python",
   "nbconvert_exporter": "python",
   "pygments_lexer": "ipython3",
   "version": "3.7.16"
  }
 },
 "nbformat": 4,
 "nbformat_minor": 5
}
