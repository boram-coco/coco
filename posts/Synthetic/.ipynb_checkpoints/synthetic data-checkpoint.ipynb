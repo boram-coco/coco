{
 "cells": [
  {
   "cell_type": "raw",
   "id": "64d1cb29-8ac3-4cef-ae2c-99fc54e932a8",
   "metadata": {},
   "source": [
    "---\n",
    "title: \"Synthetic Data\"\n",
    "author: \"김보람\"\n",
    "date: \"03/13/2023\"\n",
    "categories:\n",
    "  - Synthetic Data\n",
    "---"
   ]
  },
  {
   "cell_type": "markdown",
   "id": "2231d787-905a-4850-a79a-55eabca3f71a",
   "metadata": {},
   "source": [
    "# 합성데이터 연구 동향"
   ]
  },
  {
   "cell_type": "markdown",
   "id": "34da5b38-026b-4142-ad75-80b993c1df66",
   "metadata": {},
   "source": [
    "1. 딥러닝 기술 발전 $\\to$ 합성 데이터 생성 기술, 생성적 적대 신경망(GAN) 등 이미지, 음성, 자연어 등의 합성 데이터 생성\n",
    "\n",
    "2. 유효성 검증 기술 $\\to$ 실제 데이터와 합성 데이터의 차이 최소화, 합성 데이터가 실제 데이터와 비슷하게 생성되었는지 검증\n",
    "\n",
    "3. 개인정보 보호 문제에 대한 대응책 $\\to$ 개인정보 마스킹 기술이나 개인정보 사용하지 않고도 유사한 합성데이터 생성 기술 연구\n",
    "\n",
    "4. 활용 분야 $\\to$ 컴퓨터 비전, 자연어 처리, 의료 분야, 로봇 분야 등\n",
    "\n",
    "5. 효과 입증 $\\to$ 모델 학습시 성능이 개선되는 경우가 있음"
   ]
  },
  {
   "cell_type": "markdown",
   "id": "bfa20f77-bd54-4878-bfb4-7748c3a5224e",
   "metadata": {},
   "source": [
    "# 합성데이터 논문"
   ]
  },
  {
   "cell_type": "markdown",
   "id": "9d39664a-1598-4c7a-bdfa-3def4044c835",
   "metadata": {},
   "source": [
    "1. \"딥러닝을 이용한 합성 데이터 생성 기술 연구 동향\" (한국정보기술학회 논문지, 2019)\n",
    "- 딥러닝 기술을 이용한 합성 데이터 생성 기술의 연구 동향을 조사하고 분석한 내용\n",
    "\n",
    "2. \"합성 데이터를 이용한 자율주행 차량 인식 모델의 성능 분석\" (한국컴퓨터정보학회 논문지, 2019)\n",
    "- 합성 데이터를 이용하여 자율주행 차량 인식 모델을 학습시키고 성능을 분석한 내용\n",
    "\n",
    "3. \"의료 영상 데이터를 위한 합성 데이터 생성 기술\" (한국정보과학회 논문지, 2020)\n",
    "- 의료 영상 데이터를 위한 합성 데이터 생성 기술을 소개하고, 생성된 합성 데이터를 이용하여 의료 영상 인식 모델을 학습시키는 실험을 수행한 내용\n",
    "\n",
    "4. \"합성 데이터 생성 기술을 이용한 동작 인식 성능 개선에 관한 연구\" (한국지능시스템학회 논문지, 2020)\n",
    "\n",
    "- 합성 데이터 생성 기술을 이용하여 동작 인식 모델을 학습시키고 성능을 개선하는 실험을 수행한 내용\n",
    "\n",
    "5. \"합성 데이터를 이용한 자연어 처리 분야에서의 문제 해결 방안 연구\" (한국인터넷정보학회 논문지, 2021)\n",
    "\n",
    "- 합성 데이터를 이용하여 자연어 처리 분야에서의 문제를 해결하는 방안을 제시하고, 생성된 합성 데이터를 이용하여 자연어 처리 모델을 학습시키는 실험을 수행한 내용"
   ]
  },
  {
   "cell_type": "markdown",
   "id": "6dfaa0f2-9d3a-4496-a199-e2093c982be4",
   "metadata": {},
   "source": [
    "> 위 관련 내용은 chat GPT가 소개해준 내용"
   ]
  },
  {
   "cell_type": "markdown",
   "id": "e25d3946-b4c9-4a81-a820-8566f25457c7",
   "metadata": {},
   "source": [
    "> 합성 데이터 관련 논문이나 코드가 너무 없담... 어디서 찾지.. "
   ]
  },
  {
   "cell_type": "markdown",
   "id": "db960bb3-8686-4909-a080-7090995f8950",
   "metadata": {},
   "source": [
    "# 예시1: Faker 데이터 사용"
   ]
  },
  {
   "cell_type": "code",
   "execution_count": 1,
   "id": "a7e17a4d-2075-48b7-b51d-ccb50cb9a009",
   "metadata": {},
   "outputs": [
    {
     "name": "stdout",
     "output_type": "stream",
     "text": [
      "Collecting Faker\n",
      "  Downloading Faker-17.6.0-py3-none-any.whl (1.7 MB)\n",
      "\u001b[2K     \u001b[38;2;114;156;31m━━━━━━━━━━━━━━━━━━━━━━━━━━━━━━━━━━━━━━━━\u001b[0m \u001b[32m1.7/1.7 MB\u001b[0m \u001b[31m10.5 MB/s\u001b[0m eta \u001b[36m0:00:00\u001b[0m31m38.6 MB/s\u001b[0m eta \u001b[36m0:00:01\u001b[0m\n",
      "\u001b[?25hRequirement already satisfied: python-dateutil>=2.4 in /home/coco/anaconda3/envs/py38/lib/python3.8/site-packages (from Faker) (2.8.2)\n",
      "Requirement already satisfied: six>=1.5 in /home/coco/anaconda3/envs/py38/lib/python3.8/site-packages (from python-dateutil>=2.4->Faker) (1.16.0)\n",
      "Installing collected packages: Faker\n",
      "Successfully installed Faker-17.6.0\n"
     ]
    }
   ],
   "source": [
    "!pip install Faker"
   ]
  },
  {
   "cell_type": "markdown",
   "id": "83c81495-07ae-4316-85b6-1975604a8266",
   "metadata": {},
   "source": [
    "> Faker: 가짜 데이터 생성하는 라이브러리"
   ]
  },
  {
   "cell_type": "code",
   "execution_count": 7,
   "id": "91394beb-702f-4fdd-b842-1a0f705b2610",
   "metadata": {},
   "outputs": [],
   "source": [
    "import numpy as np\n",
    "import pandas as pd"
   ]
  },
  {
   "cell_type": "code",
   "execution_count": 8,
   "id": "e2ba0afc-4d7b-4e3d-bf34-ce6742611229",
   "metadata": {},
   "outputs": [],
   "source": [
    "from faker import Faker\n",
    "fake = Faker()\n",
    "\n",
    "# 가짜 이름, 주소, 전화번호, 이메일 생성하기\n",
    "name = fake.name()\n",
    "address = fake.address()\n",
    "phone_number = fake.phone_number()\n",
    "email = fake.email()\n"
   ]
  },
  {
   "cell_type": "code",
   "execution_count": 9,
   "id": "519a6932-08c7-47a4-a3ae-9beb33386e3b",
   "metadata": {},
   "outputs": [],
   "source": [
    "data = np.random.rand(100)"
   ]
  },
  {
   "cell_type": "code",
   "execution_count": 30,
   "id": "8b4a721b-49d4-4600-a5c9-ebb5c37d6af1",
   "metadata": {},
   "outputs": [],
   "source": [
    "names = [fake.name() for i in range(100)]\n",
    "addresses = [fake.address() for i in range(100)]\n",
    "ages = [fake.random_int(min=18, max=80, step=1) for i in range(100)]"
   ]
  },
  {
   "cell_type": "code",
   "execution_count": 33,
   "id": "89e7dc13-cf54-4b1f-8754-868749ad70a2",
   "metadata": {},
   "outputs": [
    {
     "data": {
      "text/html": [
       "<div>\n",
       "<style scoped>\n",
       "    .dataframe tbody tr th:only-of-type {\n",
       "        vertical-align: middle;\n",
       "    }\n",
       "\n",
       "    .dataframe tbody tr th {\n",
       "        vertical-align: top;\n",
       "    }\n",
       "\n",
       "    .dataframe thead th {\n",
       "        text-align: right;\n",
       "    }\n",
       "</style>\n",
       "<table border=\"1\" class=\"dataframe\">\n",
       "  <thead>\n",
       "    <tr style=\"text-align: right;\">\n",
       "      <th></th>\n",
       "      <th>Name</th>\n",
       "      <th>Address</th>\n",
       "      <th>Age</th>\n",
       "    </tr>\n",
       "  </thead>\n",
       "  <tbody>\n",
       "    <tr>\n",
       "      <th>0</th>\n",
       "      <td>Jason Williams</td>\n",
       "      <td>88899 Miller Fall Apt. 222\\nNew Eric, VA 87882</td>\n",
       "      <td>36</td>\n",
       "    </tr>\n",
       "    <tr>\n",
       "      <th>1</th>\n",
       "      <td>Brett Ramos</td>\n",
       "      <td>81526 Jacqueline Corners Suite 818\\nJessicaton...</td>\n",
       "      <td>73</td>\n",
       "    </tr>\n",
       "    <tr>\n",
       "      <th>2</th>\n",
       "      <td>Mario Mitchell</td>\n",
       "      <td>54833 Cox Lake Suite 142\\nChristianville, PW 0...</td>\n",
       "      <td>22</td>\n",
       "    </tr>\n",
       "    <tr>\n",
       "      <th>3</th>\n",
       "      <td>David Ryan</td>\n",
       "      <td>80999 Melissa Club\\nNorth Curtis, MI 28118</td>\n",
       "      <td>32</td>\n",
       "    </tr>\n",
       "    <tr>\n",
       "      <th>4</th>\n",
       "      <td>Marcus Adkins</td>\n",
       "      <td>6770 Jessica Radial\\nFloresberg, AR 35810</td>\n",
       "      <td>58</td>\n",
       "    </tr>\n",
       "    <tr>\n",
       "      <th>...</th>\n",
       "      <td>...</td>\n",
       "      <td>...</td>\n",
       "      <td>...</td>\n",
       "    </tr>\n",
       "    <tr>\n",
       "      <th>95</th>\n",
       "      <td>Francisco Porter</td>\n",
       "      <td>84916 Brown Mission\\nWest Williamborough, MI 3...</td>\n",
       "      <td>43</td>\n",
       "    </tr>\n",
       "    <tr>\n",
       "      <th>96</th>\n",
       "      <td>Alexander Martinez</td>\n",
       "      <td>3583 David View\\nPatrickfurt, IA 27730</td>\n",
       "      <td>50</td>\n",
       "    </tr>\n",
       "    <tr>\n",
       "      <th>97</th>\n",
       "      <td>Joshua Torres</td>\n",
       "      <td>4304 Macdonald Lake Suite 363\\nLake Melissashi...</td>\n",
       "      <td>24</td>\n",
       "    </tr>\n",
       "    <tr>\n",
       "      <th>98</th>\n",
       "      <td>Lauren Morris</td>\n",
       "      <td>584 Walker Squares Suite 817\\nSharonshire, MO ...</td>\n",
       "      <td>48</td>\n",
       "    </tr>\n",
       "    <tr>\n",
       "      <th>99</th>\n",
       "      <td>Jay Benson</td>\n",
       "      <td>64335 Smith Rest Suite 370\\nNorth Robertland, ...</td>\n",
       "      <td>54</td>\n",
       "    </tr>\n",
       "  </tbody>\n",
       "</table>\n",
       "<p>100 rows × 3 columns</p>\n",
       "</div>"
      ],
      "text/plain": [
       "                  Name                                            Address  Age\n",
       "0       Jason Williams     88899 Miller Fall Apt. 222\\nNew Eric, VA 87882   36\n",
       "1          Brett Ramos  81526 Jacqueline Corners Suite 818\\nJessicaton...   73\n",
       "2       Mario Mitchell  54833 Cox Lake Suite 142\\nChristianville, PW 0...   22\n",
       "3           David Ryan         80999 Melissa Club\\nNorth Curtis, MI 28118   32\n",
       "4        Marcus Adkins          6770 Jessica Radial\\nFloresberg, AR 35810   58\n",
       "..                 ...                                                ...  ...\n",
       "95    Francisco Porter  84916 Brown Mission\\nWest Williamborough, MI 3...   43\n",
       "96  Alexander Martinez             3583 David View\\nPatrickfurt, IA 27730   50\n",
       "97       Joshua Torres  4304 Macdonald Lake Suite 363\\nLake Melissashi...   24\n",
       "98       Lauren Morris  584 Walker Squares Suite 817\\nSharonshire, MO ...   48\n",
       "99          Jay Benson  64335 Smith Rest Suite 370\\nNorth Robertland, ...   54\n",
       "\n",
       "[100 rows x 3 columns]"
      ]
     },
     "execution_count": 33,
     "metadata": {},
     "output_type": "execute_result"
    }
   ],
   "source": [
    "df = pd.DataFrame({'Name': names, 'Address': addresses, 'Age': ages})\n",
    "df # 100개의 가짜 데이터 생성"
   ]
  },
  {
   "cell_type": "markdown",
   "id": "ac75fcab-f1e1-4412-a6a5-e400128ca70d",
   "metadata": {},
   "source": [
    "# 예시2: GAN 사용"
   ]
  },
  {
   "cell_type": "code",
   "execution_count": 35,
   "id": "c8f8d985-6ec1-4c45-be22-5c46707795fc",
   "metadata": {},
   "outputs": [
    {
     "name": "stdout",
     "output_type": "stream",
     "text": [
      "Collecting tensorflow\n",
      "  Downloading tensorflow-2.11.0-cp38-cp38-manylinux_2_17_x86_64.manylinux2014_x86_64.whl (588.3 MB)\n",
      "\u001b[2K     \u001b[38;2;114;156;31m━━━━━━━━━━━━━━━━━━━━━━━━━━━━━━━━━━━━━━━\u001b[0m \u001b[32m588.3/588.3 MB\u001b[0m \u001b[31m8.2 MB/s\u001b[0m eta \u001b[36m0:00:00\u001b[0mm eta \u001b[36m0:00:01\u001b[0m[36m0:00:01\u001b[0m\n",
      "\u001b[?25hCollecting grpcio<2.0,>=1.24.3\n",
      "  Downloading grpcio-1.51.3-cp38-cp38-manylinux_2_17_x86_64.manylinux2014_x86_64.whl (4.8 MB)\n",
      "\u001b[2K     \u001b[38;2;114;156;31m━━━━━━━━━━━━━━━━━━━━━━━━━━━━━━━━━━━━━━━━\u001b[0m \u001b[32m4.8/4.8 MB\u001b[0m \u001b[31m86.3 MB/s\u001b[0m eta \u001b[36m0:00:00\u001b[0m31m106.4 MB/s\u001b[0m eta \u001b[36m0:00:01\u001b[0m\n",
      "\u001b[?25hRequirement already satisfied: six>=1.12.0 in /home/coco/anaconda3/envs/py38/lib/python3.8/site-packages (from tensorflow) (1.16.0)\n",
      "Collecting opt-einsum>=2.3.2\n",
      "  Downloading opt_einsum-3.3.0-py3-none-any.whl (65 kB)\n",
      "\u001b[2K     \u001b[38;2;114;156;31m━━━━━━━━━━━━━━━━━━━━━━━━━━━━━━━━━━━━━━━━\u001b[0m \u001b[32m65.5/65.5 kB\u001b[0m \u001b[31m16.0 MB/s\u001b[0m eta \u001b[36m0:00:00\u001b[0m\n",
      "\u001b[?25hCollecting astunparse>=1.6.0\n",
      "  Downloading astunparse-1.6.3-py2.py3-none-any.whl (12 kB)\n",
      "Collecting google-pasta>=0.1.1\n",
      "  Downloading google_pasta-0.2.0-py3-none-any.whl (57 kB)\n",
      "\u001b[2K     \u001b[38;2;114;156;31m━━━━━━━━━━━━━━━━━━━━━━━━━━━━━━━━━━━━━━━━\u001b[0m \u001b[32m57.5/57.5 kB\u001b[0m \u001b[31m13.7 MB/s\u001b[0m eta \u001b[36m0:00:00\u001b[0m\n",
      "\u001b[?25hCollecting tensorboard<2.12,>=2.11\n",
      "  Downloading tensorboard-2.11.2-py3-none-any.whl (6.0 MB)\n",
      "\u001b[2K     \u001b[38;2;114;156;31m━━━━━━━━━━━━━━━━━━━━━━━━━━━━━━━━━━━━━━━━\u001b[0m \u001b[32m6.0/6.0 MB\u001b[0m \u001b[31m93.8 MB/s\u001b[0m eta \u001b[36m0:00:00\u001b[0m31m124.4 MB/s\u001b[0m eta \u001b[36m0:00:01\u001b[0m\n",
      "\u001b[?25hRequirement already satisfied: numpy>=1.20 in /home/coco/anaconda3/envs/py38/lib/python3.8/site-packages (from tensorflow) (1.24.2)\n",
      "Collecting protobuf<3.20,>=3.9.2\n",
      "  Downloading protobuf-3.19.6-cp38-cp38-manylinux_2_17_x86_64.manylinux2014_x86_64.whl (1.1 MB)\n",
      "\u001b[2K     \u001b[38;2;114;156;31m━━━━━━━━━━━━━━━━━━━━━━━━━━━━━━━━━━━━━━━━\u001b[0m \u001b[32m1.1/1.1 MB\u001b[0m \u001b[31m95.7 MB/s\u001b[0m eta \u001b[36m0:00:00\u001b[0m\n",
      "\u001b[?25hCollecting termcolor>=1.1.0\n",
      "  Downloading termcolor-2.2.0-py3-none-any.whl (6.6 kB)\n",
      "Collecting tensorflow-io-gcs-filesystem>=0.23.1\n",
      "  Downloading tensorflow_io_gcs_filesystem-0.31.0-cp38-cp38-manylinux_2_12_x86_64.manylinux2010_x86_64.whl (2.4 MB)\n",
      "\u001b[2K     \u001b[38;2;114;156;31m━━━━━━━━━━━━━━━━━━━━━━━━━━━━━━━━━━━━━━━━\u001b[0m \u001b[32m2.4/2.4 MB\u001b[0m \u001b[31m97.2 MB/s\u001b[0m eta \u001b[36m0:00:00\u001b[0m\n",
      "\u001b[?25hCollecting keras<2.12,>=2.11.0\n",
      "  Downloading keras-2.11.0-py2.py3-none-any.whl (1.7 MB)\n",
      "\u001b[2K     \u001b[38;2;114;156;31m━━━━━━━━━━━━━━━━━━━━━━━━━━━━━━━━━━━━━━━━\u001b[0m \u001b[32m1.7/1.7 MB\u001b[0m \u001b[31m100.2 MB/s\u001b[0m eta \u001b[36m0:00:00\u001b[0m\n",
      "\u001b[?25hCollecting gast<=0.4.0,>=0.2.1\n",
      "  Downloading gast-0.4.0-py3-none-any.whl (9.8 kB)\n",
      "Collecting h5py>=2.9.0\n",
      "  Downloading h5py-3.8.0-cp38-cp38-manylinux_2_17_x86_64.manylinux2014_x86_64.whl (4.7 MB)\n",
      "\u001b[2K     \u001b[38;2;114;156;31m━━━━━━━━━━━━━━━━━━━━━━━━━━━━━━━━━━━━━━━━\u001b[0m \u001b[32m4.7/4.7 MB\u001b[0m \u001b[31m98.9 MB/s\u001b[0m eta \u001b[36m0:00:00\u001b[0m2 MB/s\u001b[0m eta \u001b[36m0:00:01\u001b[0m\n",
      "\u001b[?25hCollecting flatbuffers>=2.0\n",
      "  Downloading flatbuffers-23.3.3-py2.py3-none-any.whl (26 kB)\n",
      "Requirement already satisfied: setuptools in /home/coco/anaconda3/envs/py38/lib/python3.8/site-packages (from tensorflow) (65.6.3)\n",
      "Collecting wrapt>=1.11.0\n",
      "  Downloading wrapt-1.15.0-cp38-cp38-manylinux_2_5_x86_64.manylinux1_x86_64.manylinux_2_17_x86_64.manylinux2014_x86_64.whl (81 kB)\n",
      "\u001b[2K     \u001b[38;2;114;156;31m━━━━━━━━━━━━━━━━━━━━━━━━━━━━━━━━━━━━━━━━\u001b[0m \u001b[32m81.5/81.5 kB\u001b[0m \u001b[31m24.3 MB/s\u001b[0m eta \u001b[36m0:00:00\u001b[0m\n",
      "\u001b[?25hCollecting tensorflow-estimator<2.12,>=2.11.0\n",
      "  Downloading tensorflow_estimator-2.11.0-py2.py3-none-any.whl (439 kB)\n",
      "\u001b[2K     \u001b[38;2;114;156;31m━━━━━━━━━━━━━━━━━━━━━━━━━━━━━━━━━━━━━━\u001b[0m \u001b[32m439.2/439.2 kB\u001b[0m \u001b[31m76.0 MB/s\u001b[0m eta \u001b[36m0:00:00\u001b[0m\n",
      "\u001b[?25hCollecting libclang>=13.0.0\n",
      "  Downloading libclang-15.0.6.1-py2.py3-none-manylinux2010_x86_64.whl (21.5 MB)\n",
      "\u001b[2K     \u001b[38;2;114;156;31m━━━━━━━━━━━━━━━━━━━━━━━━━━━━━━━━━━━━━━━━\u001b[0m \u001b[32m21.5/21.5 MB\u001b[0m \u001b[31m73.7 MB/s\u001b[0m eta \u001b[36m0:00:00\u001b[0mm eta \u001b[36m0:00:01\u001b[0m0:01\u001b[0m:01\u001b[0m\n",
      "\u001b[?25hCollecting absl-py>=1.0.0\n",
      "  Downloading absl_py-1.4.0-py3-none-any.whl (126 kB)\n",
      "\u001b[2K     \u001b[38;2;114;156;31m━━━━━━━━━━━━━━━━━━━━━━━━━━━━━━━━━━━━━━\u001b[0m \u001b[32m126.5/126.5 kB\u001b[0m \u001b[31m30.3 MB/s\u001b[0m eta \u001b[36m0:00:00\u001b[0m\n",
      "\u001b[?25hRequirement already satisfied: packaging in /home/coco/anaconda3/envs/py38/lib/python3.8/site-packages (from tensorflow) (23.0)\n",
      "Requirement already satisfied: typing-extensions>=3.6.6 in /home/coco/anaconda3/envs/py38/lib/python3.8/site-packages (from tensorflow) (4.4.0)\n",
      "Requirement already satisfied: wheel<1.0,>=0.23.0 in /home/coco/anaconda3/envs/py38/lib/python3.8/site-packages (from astunparse>=1.6.0->tensorflow) (0.38.4)\n",
      "Collecting tensorboard-data-server<0.7.0,>=0.6.0\n",
      "  Downloading tensorboard_data_server-0.6.1-py3-none-manylinux2010_x86_64.whl (4.9 MB)\n",
      "\u001b[2K     \u001b[38;2;114;156;31m━━━━━━━━━━━━━━━━━━━━━━━━━━━━━━━━━━━━━━━━\u001b[0m \u001b[32m4.9/4.9 MB\u001b[0m \u001b[31m100.6 MB/s\u001b[0m eta \u001b[36m0:00:00\u001b[0m1m123.6 MB/s\u001b[0m eta \u001b[36m0:00:01\u001b[0m\n",
      "\u001b[?25hCollecting google-auth-oauthlib<0.5,>=0.4.1\n",
      "  Downloading google_auth_oauthlib-0.4.6-py2.py3-none-any.whl (18 kB)\n",
      "Collecting google-auth<3,>=1.6.3\n",
      "  Downloading google_auth-2.16.2-py2.py3-none-any.whl (177 kB)\n",
      "\u001b[2K     \u001b[38;2;114;156;31m━━━━━━━━━━━━━━━━━━━━━━━━━━━━━━━━━━━━━━\u001b[0m \u001b[32m177.2/177.2 kB\u001b[0m \u001b[31m41.2 MB/s\u001b[0m eta \u001b[36m0:00:00\u001b[0m\n",
      "\u001b[?25hCollecting markdown>=2.6.8\n",
      "  Downloading Markdown-3.4.1-py3-none-any.whl (93 kB)\n",
      "\u001b[2K     \u001b[38;2;114;156;31m━━━━━━━━━━━━━━━━━━━━━━━━━━━━━━━━━━━━━━━━\u001b[0m \u001b[32m93.3/93.3 kB\u001b[0m \u001b[31m22.9 MB/s\u001b[0m eta \u001b[36m0:00:00\u001b[0m\n",
      "\u001b[?25hCollecting tensorboard-plugin-wit>=1.6.0\n",
      "  Downloading tensorboard_plugin_wit-1.8.1-py3-none-any.whl (781 kB)\n",
      "\u001b[2K     \u001b[38;2;114;156;31m━━━━━━━━━━━━━━━━━━━━━━━━━━━━━━━━━━━━━━\u001b[0m \u001b[32m781.3/781.3 kB\u001b[0m \u001b[31m83.9 MB/s\u001b[0m eta \u001b[36m0:00:00\u001b[0m\n",
      "\u001b[?25hRequirement already satisfied: requests<3,>=2.21.0 in /home/coco/anaconda3/envs/py38/lib/python3.8/site-packages (from tensorboard<2.12,>=2.11->tensorflow) (2.28.2)\n",
      "Requirement already satisfied: werkzeug>=1.0.1 in /home/coco/anaconda3/envs/py38/lib/python3.8/site-packages (from tensorboard<2.12,>=2.11->tensorflow) (2.2.3)\n",
      "Collecting cachetools<6.0,>=2.0.0\n",
      "  Downloading cachetools-5.3.0-py3-none-any.whl (9.3 kB)\n",
      "Collecting pyasn1-modules>=0.2.1\n",
      "  Downloading pyasn1_modules-0.2.8-py2.py3-none-any.whl (155 kB)\n",
      "\u001b[2K     \u001b[38;2;114;156;31m━━━━━━━━━━━━━━━━━━━━━━━━━━━━━━━━━━━━━━\u001b[0m \u001b[32m155.3/155.3 kB\u001b[0m \u001b[31m38.6 MB/s\u001b[0m eta \u001b[36m0:00:00\u001b[0m\n",
      "\u001b[?25hCollecting rsa<5,>=3.1.4\n",
      "  Downloading rsa-4.9-py3-none-any.whl (34 kB)\n",
      "Collecting requests-oauthlib>=0.7.0\n",
      "  Downloading requests_oauthlib-1.3.1-py2.py3-none-any.whl (23 kB)\n",
      "Requirement already satisfied: importlib-metadata>=4.4 in /home/coco/anaconda3/envs/py38/lib/python3.8/site-packages (from markdown>=2.6.8->tensorboard<2.12,>=2.11->tensorflow) (6.0.0)\n",
      "Requirement already satisfied: certifi>=2017.4.17 in /home/coco/anaconda3/envs/py38/lib/python3.8/site-packages (from requests<3,>=2.21.0->tensorboard<2.12,>=2.11->tensorflow) (2022.12.7)\n",
      "Requirement already satisfied: charset-normalizer<4,>=2 in /home/coco/anaconda3/envs/py38/lib/python3.8/site-packages (from requests<3,>=2.21.0->tensorboard<2.12,>=2.11->tensorflow) (2.1.1)\n",
      "Requirement already satisfied: idna<4,>=2.5 in /home/coco/anaconda3/envs/py38/lib/python3.8/site-packages (from requests<3,>=2.21.0->tensorboard<2.12,>=2.11->tensorflow) (3.4)\n",
      "Requirement already satisfied: urllib3<1.27,>=1.21.1 in /home/coco/anaconda3/envs/py38/lib/python3.8/site-packages (from requests<3,>=2.21.0->tensorboard<2.12,>=2.11->tensorflow) (1.26.14)\n",
      "Requirement already satisfied: MarkupSafe>=2.1.1 in /home/coco/anaconda3/envs/py38/lib/python3.8/site-packages (from werkzeug>=1.0.1->tensorboard<2.12,>=2.11->tensorflow) (2.1.1)\n",
      "Requirement already satisfied: zipp>=0.5 in /home/coco/anaconda3/envs/py38/lib/python3.8/site-packages (from importlib-metadata>=4.4->markdown>=2.6.8->tensorboard<2.12,>=2.11->tensorflow) (3.15.0)\n",
      "Collecting pyasn1<0.5.0,>=0.4.6\n",
      "  Downloading pyasn1-0.4.8-py2.py3-none-any.whl (77 kB)\n",
      "\u001b[2K     \u001b[38;2;114;156;31m━━━━━━━━━━━━━━━━━━━━━━━━━━━━━━━━━━━━━━━━\u001b[0m \u001b[32m77.1/77.1 kB\u001b[0m \u001b[31m18.9 MB/s\u001b[0m eta \u001b[36m0:00:00\u001b[0m\n",
      "\u001b[?25hCollecting oauthlib>=3.0.0\n",
      "  Downloading oauthlib-3.2.2-py3-none-any.whl (151 kB)\n",
      "\u001b[2K     \u001b[38;2;114;156;31m━━━━━━━━━━━━━━━━━━━━━━━━━━━━━━━━━━━━━━\u001b[0m \u001b[32m151.7/151.7 kB\u001b[0m \u001b[31m37.3 MB/s\u001b[0m eta \u001b[36m0:00:00\u001b[0m\n",
      "\u001b[?25hInstalling collected packages: tensorboard-plugin-wit, pyasn1, libclang, flatbuffers, wrapt, termcolor, tensorflow-io-gcs-filesystem, tensorflow-estimator, tensorboard-data-server, rsa, pyasn1-modules, protobuf, opt-einsum, oauthlib, keras, h5py, grpcio, google-pasta, gast, cachetools, astunparse, absl-py, requests-oauthlib, markdown, google-auth, google-auth-oauthlib, tensorboard, tensorflow\n",
      "Successfully installed absl-py-1.4.0 astunparse-1.6.3 cachetools-5.3.0 flatbuffers-23.3.3 gast-0.4.0 google-auth-2.16.2 google-auth-oauthlib-0.4.6 google-pasta-0.2.0 grpcio-1.51.3 h5py-3.8.0 keras-2.11.0 libclang-15.0.6.1 markdown-3.4.1 oauthlib-3.2.2 opt-einsum-3.3.0 protobuf-3.19.6 pyasn1-0.4.8 pyasn1-modules-0.2.8 requests-oauthlib-1.3.1 rsa-4.9 tensorboard-2.11.2 tensorboard-data-server-0.6.1 tensorboard-plugin-wit-1.8.1 tensorflow-2.11.0 tensorflow-estimator-2.11.0 tensorflow-io-gcs-filesystem-0.31.0 termcolor-2.2.0 wrapt-1.15.0\n"
     ]
    }
   ],
   "source": [
    "!pip install tensorflow\n",
    "import tensorflow as tf\n",
    "from tensorflow.keras import layers"
   ]
  },
  {
   "cell_type": "code",
   "execution_count": 55,
   "id": "5f887071-ee76-42e5-8504-abab10d3b958",
   "metadata": {},
   "outputs": [],
   "source": [
    "# Define the generator model\n",
    "def make_generator_model():\n",
    "    model = tf.keras.Sequential()\n",
    "    model.add(layers.Dense(256, input_shape=(100,), use_bias=False))\n",
    "    model.add(layers.BatchNormalization())\n",
    "    model.add(layers.LeakyReLU())\n",
    "\n",
    "    model.add(layers.Dense(512, use_bias=False))\n",
    "    model.add(layers.BatchNormalization())\n",
    "    model.add(layers.LeakyReLU())\n",
    "\n",
    "    model.add(layers.Dense(28*28*1, use_bias=False, activation='tanh'))\n",
    "    model.add(layers.Reshape((28, 28, 1)))\n",
    "\n",
    "    return model"
   ]
  },
  {
   "cell_type": "markdown",
   "id": "9070384d-7114-4e27-ad14-d95e500b6138",
   "metadata": {},
   "source": [
    "```python\n",
    "make_generator_model()\n",
    "```\n",
    "\n",
    "`-` 생성기 모델 정의\n",
    "\n",
    "- 100차원 벡터를 입력으로 사용하고 데이터 세트의 입력 이미지와 동일한 크기의 출력 이미지 생성\n",
    "\n",
    "- batch normalization $\\to$ leaky ReLU activation function $\\to$ dense layer with a hyperbolic tangent activation function\n",
    "\n"
   ]
  },
  {
   "cell_type": "code",
   "execution_count": 56,
   "id": "66bbecc7-ec3c-496e-838b-787d01d4382e",
   "metadata": {},
   "outputs": [],
   "source": [
    "# Define the discriminator model\n",
    "def make_discriminator_model():\n",
    "    model = tf.keras.Sequential()\n",
    "    model.add(layers.Flatten(input_shape=(28, 28, 1)))\n",
    "    model.add(layers.Dense(512, use_bias=False))\n",
    "    model.add(layers.BatchNormalization())\n",
    "    model.add(layers.LeakyReLU())\n",
    "    model.add(layers.Dense(256, use_bias=False))\n",
    "    model.add(layers.BatchNormalization())\n",
    "    model.add(layers.LeakyReLU())\n",
    "    model.add(layers.Dense(1))\n",
    "\n",
    "    return model\n"
   ]
  },
  {
   "cell_type": "markdown",
   "id": "7f981b1f-b84e-4a09-b112-d8234bdbf7d4",
   "metadata": {},
   "source": [
    "```python\n",
    "make_discriminator_model()\n",
    "```\n",
    "\n",
    "`-` 판별기 모델\n",
    "\n",
    "- 이미지를 입력으로 받아 실제여부 구별하여 스칼라 값 출력(마지막 레이어가)\n",
    "\n",
    "- batch normalization, leaky ReLU activation function,final dense layer with no activation function\n"
   ]
  },
  {
   "cell_type": "code",
   "execution_count": 58,
   "id": "0bba5b67-e891-45dc-b85e-340c2d9401ab",
   "metadata": {},
   "outputs": [],
   "source": [
    "# Define the GAN model\n",
    "def make_gan_model(generator, discriminator):\n",
    "    discriminator.trainable = False\n",
    "\n",
    "    model = tf.keras.Sequential()\n",
    "    model.add(generator)\n",
    "    model.add(discriminator)\n",
    "\n",
    "    return model\n"
   ]
  },
  {
   "cell_type": "markdown",
   "id": "515437db-6d15-4021-b277-780088fe19f4",
   "metadata": {},
   "source": [
    "```python\n",
    "make_gan_model( , )\n",
    "```\n",
    "\n",
    "`-` GAN 모델\n",
    "\n",
    "- 생성기와 판별기 모델 단일 모델로 결합\n",
    "\n",
    "- generator: discriminator가 실제로 분류하는 이미지 생성하도록 훈련\n",
    "\n",
    "- disciminator: generator가 생성하는 실제 이미지와 가짜 이미지 정확하게 분류하도록 훈련\n"
   ]
  },
  {
   "cell_type": "code",
   "execution_count": 59,
   "id": "97d084f7-cf83-438a-8acb-1ac25ce70628",
   "metadata": {},
   "outputs": [],
   "source": [
    "# Define the loss functions and optimizers\n",
    "cross_entropy = tf.keras.losses.BinaryCrossentropy(from_logits=True)\n",
    "\n",
    "def discriminator_loss(real_output, fake_output):\n",
    "    real_loss = cross_entropy(tf.ones_like(real_output), real_output)\n",
    "    fake_loss = cross_entropy(tf.zeros_like(fake_output), fake_output)\n",
    "    total_loss = real_loss + fake_loss\n",
    "    return total_loss\n",
    "\n",
    "def generator_loss(fake_output):\n",
    "    return cross_entropy(tf.ones_like(fake_output), fake_output)\n",
    "\n",
    "generator_optimizer = tf.keras.optimizers.Adam(1e-4)\n",
    "discriminator_optimizer = tf.keras.optimizers.Adam(1e-4)\n"
   ]
  },
  {
   "cell_type": "markdown",
   "id": "c18640bd-4d98-4a5f-bbcc-afa5cbff812a",
   "metadata": {
    "tags": []
   },
   "source": [
    "- GAN 훈련시키려면 `loss functions`와 `optimizers` 정의\n",
    "\n",
    "- binary cross-entropy loss 사용\n",
    "\n",
    "- Adam:0.0001"
   ]
  },
  {
   "cell_type": "code",
   "execution_count": 60,
   "id": "8bff6027-73ec-4efe-a3ff-867ec2c183a8",
   "metadata": {},
   "outputs": [],
   "source": [
    "# Train the GAN model\n",
    "def train_gan(gan_model, dataset, epochs, batch_size):\n",
    "    generator, discriminator = gan_model.layers\n",
    "\n",
    "    for epoch in range(epochs):\n",
    "        for batch in dataset:\n",
    "            noise = tf.random.normal([batch_size, 100])\n",
    "\n",
    "            with tf.GradientTape() as gen_tape, tf.GradientTape() as disc_tape:\n",
    "                generated_images = generator(noise, training=True)\n",
    "\n",
    "                real_output = discriminator(batch, training=True)\n",
    "                fake_output = discriminator(generated_images, training=True)\n",
    "\n",
    "                gen_loss = generator_loss(fake_output)\n",
    "                disc_loss = discriminator_loss(real_output, fake_output)\n",
    "\n",
    "            gradients_of_generator = gen_tape.gradient(gen_loss, generator.trainable_variables)\n",
    "            gradients_of_discriminator = disc_tape.gradient(disc_loss, discriminator.trainable_variables)\n",
    "\n",
    "            generator_optimizer.apply_gradients(zip(gradients_of_generator, generator.trainable_variables))\n",
    "            discriminator_optimizer.apply_gradients(zip(gradients_of_discriminator, discriminator.trainable_variables))\n",
    "\n",
    "        print(\"Epoch {} complete\".format(epoch))"
   ]
  },
  {
   "cell_type": "code",
   "execution_count": 43,
   "id": "21169a45-1711-4e5f-a5e4-2d5147cb35d3",
   "metadata": {},
   "outputs": [],
   "source": [
    "# Generate synthetic images using the trained generator\n",
    "def generate_images(generator, num_images):\n",
    "    noise = tf.random.normal([num_images, 100])\n",
    "    generated_images = generator(noise, training=False)\n",
    "    generated_images = (generated_images + 1) / 2.0  # scale images to [0, 1]\n",
    "    return generated_images.numpy()\n"
   ]
  },
  {
   "cell_type": "markdown",
   "id": "7e4d1dbf-4309-4036-b1e8-eb7955082dc4",
   "metadata": {
    "tags": []
   },
   "source": [
    "- 훈련된 generator로 synthetic imges "
   ]
  },
  {
   "cell_type": "code",
   "execution_count": 61,
   "id": "3235429b-4110-446a-888e-d446585d5bd5",
   "metadata": {},
   "outputs": [],
   "source": [
    "# Load and preprocess real images for training\n",
    "(x_train, _), (_, _) = tf.keras.datasets.mnist.load_data()\n",
    "x_train = x_train.reshape(x_train.shape[0], 28,28,1)"
   ]
  },
  {
   "cell_type": "markdown",
   "id": "7281eac7-fcf2-46a1-abad-4f5f886d2b1b",
   "metadata": {},
   "source": [
    "# 예시3: VAE사용 (개념부터 알아야할듯..)"
   ]
  },
  {
   "cell_type": "code",
   "execution_count": 64,
   "id": "7cf585a9-40a9-44a2-bd50-91c3d8790e95",
   "metadata": {},
   "outputs": [],
   "source": [
    "import matplotlib.pyplot as plt\n",
    "from tensorflow import keras\n",
    "from tensorflow.keras import layers"
   ]
  },
  {
   "cell_type": "code",
   "execution_count": 65,
   "id": "63dda6ba-079c-439e-8470-9a8dadb4604c",
   "metadata": {},
   "outputs": [],
   "source": [
    "# load and preprocess the real images for training\n",
    "(train_images, _), (_, _) = keras.datasets.mnist.load_data()\n",
    "train_images = train_images.reshape(train_images.shape[0], 28, 28, 1).astype('float32')\n",
    "train_images = (train_images - 127.5) / 127.5  # Normalize the images to [-1, 1]"
   ]
  },
  {
   "cell_type": "code",
   "execution_count": 70,
   "id": "8fe67732-9b4f-487c-ae5b-1ff3281c442e",
   "metadata": {},
   "outputs": [],
   "source": [
    "# define the VAE model\n",
    "latent_dim = 2"
   ]
  },
  {
   "cell_type": "code",
   "execution_count": 73,
   "id": "5637f026-7e25-47d6-a437-a0b78d97a18d",
   "metadata": {},
   "outputs": [],
   "source": [
    "latent_dim = 2\n",
    "\n",
    "encoder_inputs = keras.Input(shape=(28, 28, 1))\n",
    "x = layers.Conv2D(32, 3, activation=\"relu\", strides=2, padding=\"same\")(encoder_inputs)\n",
    "x = layers.Conv2D(64, 3, activation=\"relu\", strides=2, padding=\"same\")(x)\n",
    "x = layers.Flatten()(x)\n",
    "x = layers.Dense(16, activation=\"relu\")(x)\n",
    "z_mean = layers.Dense(latent_dim, name=\"z_mean\")(x)\n",
    "z_log_var = layers.Dense(latent_dim, name=\"z_log_var\")(x)\n",
    "encoder = keras.Model(encoder_inputs, [z_mean, z_log_var], name=\"encoder\")\n",
    "\n",
    "latent_inputs = keras.Input(shape=(latent_dim,))\n",
    "x = layers.Dense(7 * 7 * 64, activation=\"relu\")(latent_inputs)\n",
    "x = layers.Reshape((7, 7, 64))(x)\n",
    "x = layers.Conv2DTranspose(64, 3, activation=\"relu\", strides=2, padding=\"same\")(x)\n",
    "x = layers.Conv2DTranspose(32, 3, activation=\"relu\", strides=2, padding=\"same\")(x)\n",
    "decoder_outputs = layers.Conv2DTranspose(1, 3, activation=\"sigmoid\", padding=\"same\")(x)\n",
    "decoder = keras.Model(latent_inputs, decoder_outputs, name=\"decoder\")\n",
    "\n",
    "class Sampling(layers.Layer):\n",
    "    \"\"\"Uses (z_mean, z_log_var) to sample z, the vector encoding a digit.\"\"\"\n",
    "\n",
    "    def call(self, inputs):\n",
    "        z_mean, z_log_var = inputs\n",
    "        batch = keras.backend.shape(z_mean)[0]\n",
    "        dim = keras.backend.int_shape(z_mean)[1]\n",
    "        epsilon = keras.backend.random_normal(shape=(batch, dim))\n",
    "        return z_mean + keras.backend.exp(0.5 * z_log_var) * epsilon\n",
    "\n",
    "z = Sampling()([z_mean, z_log_var])\n",
    "outputs = decoder(z)\n",
    "vae = keras.Model(encoder_inputs, outputs, name=\"vae\")"
   ]
  },
  {
   "cell_type": "code",
   "execution_count": 77,
   "id": "dde9b4aa-a9f4-42a0-a707-cd74a604bfc4",
   "metadata": {},
   "outputs": [],
   "source": [
    "\n",
    "# define the loss function\n",
    "reconstruction_loss = keras.losses.binary_crossentropy(encoder_inputs, outputs)\n",
    "reconstruction_loss *= 28 * 28\n",
    "kl_loss = 1 + z_log_var - keras.backend.square(z_mean) - keras.backend.exp(z_log_var)\n",
    "kl_loss = keras.backend.sum(kl_loss, axis=-1)\n",
    "kl_loss *= -0.5\n",
    "vae_loss = keras.backend.mean(reconstruction_loss + kl_loss)\n",
    "vae.add_loss(vae_loss)\n"
   ]
  },
  {
   "cell_type": "code",
   "execution_count": 78,
   "id": "1e55fbe0-31fb-43e4-80b1-a4e86ec943c2",
   "metadata": {},
   "outputs": [],
   "source": [
    "\n",
    "# compile the model\n",
    "vae.compile(optimizer='adam')"
   ]
  },
  {
   "cell_type": "code",
   "execution_count": 79,
   "id": "299c433e-f055-4838-b412-48cbd08782db",
   "metadata": {},
   "outputs": [
    {
     "name": "stdout",
     "output_type": "stream",
     "text": [
      "Epoch 1/10\n"
     ]
    },
    {
     "ename": "InvalidArgumentError",
     "evalue": "Graph execution error:\n\nDetected at node 'gradient_tape/vae/tf.__operators__.add_1/BroadcastGradientArgs' defined at (most recent call last):\n    File \"/home/coco/anaconda3/envs/py38/lib/python3.8/runpy.py\", line 194, in _run_module_as_main\n      return _run_code(code, main_globals, None,\n    File \"/home/coco/anaconda3/envs/py38/lib/python3.8/runpy.py\", line 87, in _run_code\n      exec(code, run_globals)\n    File \"/home/coco/anaconda3/envs/py38/lib/python3.8/site-packages/ipykernel_launcher.py\", line 16, in <module>\n      app.launch_new_instance()\n    File \"/home/coco/anaconda3/envs/py38/lib/python3.8/site-packages/traitlets/config/application.py\", line 1043, in launch_instance\n      app.start()\n    File \"/home/coco/anaconda3/envs/py38/lib/python3.8/site-packages/ipykernel/kernelapp.py\", line 619, in start\n      self.io_loop.start()\n    File \"/home/coco/anaconda3/envs/py38/lib/python3.8/site-packages/tornado/platform/asyncio.py\", line 199, in start\n      self.asyncio_loop.run_forever()\n    File \"/home/coco/anaconda3/envs/py38/lib/python3.8/asyncio/base_events.py\", line 570, in run_forever\n      self._run_once()\n    File \"/home/coco/anaconda3/envs/py38/lib/python3.8/asyncio/base_events.py\", line 1859, in _run_once\n      handle._run()\n    File \"/home/coco/anaconda3/envs/py38/lib/python3.8/asyncio/events.py\", line 81, in _run\n      self._context.run(self._callback, *self._args)\n    File \"/home/coco/anaconda3/envs/py38/lib/python3.8/site-packages/tornado/ioloop.py\", line 688, in <lambda>\n      lambda f: self._run_callback(functools.partial(callback, future))\n    File \"/home/coco/anaconda3/envs/py38/lib/python3.8/site-packages/tornado/ioloop.py\", line 741, in _run_callback\n      ret = callback()\n    File \"/home/coco/anaconda3/envs/py38/lib/python3.8/site-packages/tornado/gen.py\", line 814, in inner\n      self.ctx_run(self.run)\n    File \"/home/coco/anaconda3/envs/py38/lib/python3.8/site-packages/tornado/gen.py\", line 775, in run\n      yielded = self.gen.send(value)\n    File \"/home/coco/anaconda3/envs/py38/lib/python3.8/site-packages/ipykernel/kernelbase.py\", line 358, in process_one\n      yield gen.maybe_future(dispatch(*args))\n    File \"/home/coco/anaconda3/envs/py38/lib/python3.8/site-packages/tornado/gen.py\", line 234, in wrapper\n      yielded = ctx_run(next, result)\n    File \"/home/coco/anaconda3/envs/py38/lib/python3.8/site-packages/ipykernel/kernelbase.py\", line 261, in dispatch_shell\n      yield gen.maybe_future(handler(stream, idents, msg))\n    File \"/home/coco/anaconda3/envs/py38/lib/python3.8/site-packages/tornado/gen.py\", line 234, in wrapper\n      yielded = ctx_run(next, result)\n    File \"/home/coco/anaconda3/envs/py38/lib/python3.8/site-packages/ipykernel/kernelbase.py\", line 536, in execute_request\n      self.do_execute(\n    File \"/home/coco/anaconda3/envs/py38/lib/python3.8/site-packages/tornado/gen.py\", line 234, in wrapper\n      yielded = ctx_run(next, result)\n    File \"/home/coco/anaconda3/envs/py38/lib/python3.8/site-packages/ipykernel/ipkernel.py\", line 302, in do_execute\n      res = shell.run_cell(code, store_history=store_history, silent=silent)\n    File \"/home/coco/anaconda3/envs/py38/lib/python3.8/site-packages/ipykernel/zmqshell.py\", line 539, in run_cell\n      return super(ZMQInteractiveShell, self).run_cell(*args, **kwargs)\n    File \"/home/coco/anaconda3/envs/py38/lib/python3.8/site-packages/IPython/core/interactiveshell.py\", line 2961, in run_cell\n      result = self._run_cell(\n    File \"/home/coco/anaconda3/envs/py38/lib/python3.8/site-packages/IPython/core/interactiveshell.py\", line 3016, in _run_cell\n      result = runner(coro)\n    File \"/home/coco/anaconda3/envs/py38/lib/python3.8/site-packages/IPython/core/async_helpers.py\", line 129, in _pseudo_sync_runner\n      coro.send(None)\n    File \"/home/coco/anaconda3/envs/py38/lib/python3.8/site-packages/IPython/core/interactiveshell.py\", line 3221, in run_cell_async\n      has_raised = await self.run_ast_nodes(code_ast.body, cell_name,\n    File \"/home/coco/anaconda3/envs/py38/lib/python3.8/site-packages/IPython/core/interactiveshell.py\", line 3400, in run_ast_nodes\n      if await self.run_code(code, result, async_=asy):\n    File \"/home/coco/anaconda3/envs/py38/lib/python3.8/site-packages/IPython/core/interactiveshell.py\", line 3460, in run_code\n      exec(code_obj, self.user_global_ns, self.user_ns)\n    File \"<ipython-input-79-41cbac8b1cbb>\", line 2, in <module>\n      vae.fit(train_images, epochs=10, batch_size=128)\n    File \"/home/coco/anaconda3/envs/py38/lib/python3.8/site-packages/keras/utils/traceback_utils.py\", line 65, in error_handler\n      return fn(*args, **kwargs)\n    File \"/home/coco/anaconda3/envs/py38/lib/python3.8/site-packages/keras/engine/training.py\", line 1650, in fit\n      tmp_logs = self.train_function(iterator)\n    File \"/home/coco/anaconda3/envs/py38/lib/python3.8/site-packages/keras/engine/training.py\", line 1249, in train_function\n      return step_function(self, iterator)\n    File \"/home/coco/anaconda3/envs/py38/lib/python3.8/site-packages/keras/engine/training.py\", line 1233, in step_function\n      outputs = model.distribute_strategy.run(run_step, args=(data,))\n    File \"/home/coco/anaconda3/envs/py38/lib/python3.8/site-packages/keras/engine/training.py\", line 1222, in run_step\n      outputs = model.train_step(data)\n    File \"/home/coco/anaconda3/envs/py38/lib/python3.8/site-packages/keras/engine/training.py\", line 1027, in train_step\n      self.optimizer.minimize(loss, self.trainable_variables, tape=tape)\n    File \"/home/coco/anaconda3/envs/py38/lib/python3.8/site-packages/keras/optimizers/optimizer_experimental/optimizer.py\", line 526, in minimize\n      grads_and_vars = self.compute_gradients(loss, var_list, tape)\n    File \"/home/coco/anaconda3/envs/py38/lib/python3.8/site-packages/keras/optimizers/optimizer_experimental/optimizer.py\", line 259, in compute_gradients\n      grads = tape.gradient(loss, var_list)\nNode: 'gradient_tape/vae/tf.__operators__.add_1/BroadcastGradientArgs'\nIncompatible shapes: [128,28,28] vs. [128]\n\t [[{{node gradient_tape/vae/tf.__operators__.add_1/BroadcastGradientArgs}}]] [Op:__inference_train_function_3053]",
     "output_type": "error",
     "traceback": [
      "\u001b[0;31m---------------------------------------------------------------------------\u001b[0m",
      "\u001b[0;31mInvalidArgumentError\u001b[0m                      Traceback (most recent call last)",
      "Cell \u001b[0;32mIn[79], line 2\u001b[0m\n\u001b[1;32m      1\u001b[0m \u001b[38;5;66;03m# train the model\u001b[39;00m\n\u001b[0;32m----> 2\u001b[0m \u001b[43mvae\u001b[49m\u001b[38;5;241;43m.\u001b[39;49m\u001b[43mfit\u001b[49m\u001b[43m(\u001b[49m\u001b[43mtrain_images\u001b[49m\u001b[43m,\u001b[49m\u001b[43m \u001b[49m\u001b[43mepochs\u001b[49m\u001b[38;5;241;43m=\u001b[39;49m\u001b[38;5;241;43m10\u001b[39;49m\u001b[43m,\u001b[49m\u001b[43m \u001b[49m\u001b[43mbatch_size\u001b[49m\u001b[38;5;241;43m=\u001b[39;49m\u001b[38;5;241;43m128\u001b[39;49m\u001b[43m)\u001b[49m\n",
      "File \u001b[0;32m~/anaconda3/envs/py38/lib/python3.8/site-packages/keras/utils/traceback_utils.py:70\u001b[0m, in \u001b[0;36mfilter_traceback.<locals>.error_handler\u001b[0;34m(*args, **kwargs)\u001b[0m\n\u001b[1;32m     67\u001b[0m     filtered_tb \u001b[38;5;241m=\u001b[39m _process_traceback_frames(e\u001b[38;5;241m.\u001b[39m__traceback__)\n\u001b[1;32m     68\u001b[0m     \u001b[38;5;66;03m# To get the full stack trace, call:\u001b[39;00m\n\u001b[1;32m     69\u001b[0m     \u001b[38;5;66;03m# `tf.debugging.disable_traceback_filtering()`\u001b[39;00m\n\u001b[0;32m---> 70\u001b[0m     \u001b[38;5;28;01mraise\u001b[39;00m e\u001b[38;5;241m.\u001b[39mwith_traceback(filtered_tb) \u001b[38;5;28;01mfrom\u001b[39;00m \u001b[38;5;28mNone\u001b[39m\n\u001b[1;32m     71\u001b[0m \u001b[38;5;28;01mfinally\u001b[39;00m:\n\u001b[1;32m     72\u001b[0m     \u001b[38;5;28;01mdel\u001b[39;00m filtered_tb\n",
      "File \u001b[0;32m~/anaconda3/envs/py38/lib/python3.8/site-packages/tensorflow/python/eager/execute.py:52\u001b[0m, in \u001b[0;36mquick_execute\u001b[0;34m(op_name, num_outputs, inputs, attrs, ctx, name)\u001b[0m\n\u001b[1;32m     50\u001b[0m \u001b[38;5;28;01mtry\u001b[39;00m:\n\u001b[1;32m     51\u001b[0m   ctx\u001b[38;5;241m.\u001b[39mensure_initialized()\n\u001b[0;32m---> 52\u001b[0m   tensors \u001b[38;5;241m=\u001b[39m pywrap_tfe\u001b[38;5;241m.\u001b[39mTFE_Py_Execute(ctx\u001b[38;5;241m.\u001b[39m_handle, device_name, op_name,\n\u001b[1;32m     53\u001b[0m                                       inputs, attrs, num_outputs)\n\u001b[1;32m     54\u001b[0m \u001b[38;5;28;01mexcept\u001b[39;00m core\u001b[38;5;241m.\u001b[39m_NotOkStatusException \u001b[38;5;28;01mas\u001b[39;00m e:\n\u001b[1;32m     55\u001b[0m   \u001b[38;5;28;01mif\u001b[39;00m name \u001b[38;5;129;01mis\u001b[39;00m \u001b[38;5;129;01mnot\u001b[39;00m \u001b[38;5;28;01mNone\u001b[39;00m:\n",
      "\u001b[0;31mInvalidArgumentError\u001b[0m: Graph execution error:\n\nDetected at node 'gradient_tape/vae/tf.__operators__.add_1/BroadcastGradientArgs' defined at (most recent call last):\n    File \"/home/coco/anaconda3/envs/py38/lib/python3.8/runpy.py\", line 194, in _run_module_as_main\n      return _run_code(code, main_globals, None,\n    File \"/home/coco/anaconda3/envs/py38/lib/python3.8/runpy.py\", line 87, in _run_code\n      exec(code, run_globals)\n    File \"/home/coco/anaconda3/envs/py38/lib/python3.8/site-packages/ipykernel_launcher.py\", line 16, in <module>\n      app.launch_new_instance()\n    File \"/home/coco/anaconda3/envs/py38/lib/python3.8/site-packages/traitlets/config/application.py\", line 1043, in launch_instance\n      app.start()\n    File \"/home/coco/anaconda3/envs/py38/lib/python3.8/site-packages/ipykernel/kernelapp.py\", line 619, in start\n      self.io_loop.start()\n    File \"/home/coco/anaconda3/envs/py38/lib/python3.8/site-packages/tornado/platform/asyncio.py\", line 199, in start\n      self.asyncio_loop.run_forever()\n    File \"/home/coco/anaconda3/envs/py38/lib/python3.8/asyncio/base_events.py\", line 570, in run_forever\n      self._run_once()\n    File \"/home/coco/anaconda3/envs/py38/lib/python3.8/asyncio/base_events.py\", line 1859, in _run_once\n      handle._run()\n    File \"/home/coco/anaconda3/envs/py38/lib/python3.8/asyncio/events.py\", line 81, in _run\n      self._context.run(self._callback, *self._args)\n    File \"/home/coco/anaconda3/envs/py38/lib/python3.8/site-packages/tornado/ioloop.py\", line 688, in <lambda>\n      lambda f: self._run_callback(functools.partial(callback, future))\n    File \"/home/coco/anaconda3/envs/py38/lib/python3.8/site-packages/tornado/ioloop.py\", line 741, in _run_callback\n      ret = callback()\n    File \"/home/coco/anaconda3/envs/py38/lib/python3.8/site-packages/tornado/gen.py\", line 814, in inner\n      self.ctx_run(self.run)\n    File \"/home/coco/anaconda3/envs/py38/lib/python3.8/site-packages/tornado/gen.py\", line 775, in run\n      yielded = self.gen.send(value)\n    File \"/home/coco/anaconda3/envs/py38/lib/python3.8/site-packages/ipykernel/kernelbase.py\", line 358, in process_one\n      yield gen.maybe_future(dispatch(*args))\n    File \"/home/coco/anaconda3/envs/py38/lib/python3.8/site-packages/tornado/gen.py\", line 234, in wrapper\n      yielded = ctx_run(next, result)\n    File \"/home/coco/anaconda3/envs/py38/lib/python3.8/site-packages/ipykernel/kernelbase.py\", line 261, in dispatch_shell\n      yield gen.maybe_future(handler(stream, idents, msg))\n    File \"/home/coco/anaconda3/envs/py38/lib/python3.8/site-packages/tornado/gen.py\", line 234, in wrapper\n      yielded = ctx_run(next, result)\n    File \"/home/coco/anaconda3/envs/py38/lib/python3.8/site-packages/ipykernel/kernelbase.py\", line 536, in execute_request\n      self.do_execute(\n    File \"/home/coco/anaconda3/envs/py38/lib/python3.8/site-packages/tornado/gen.py\", line 234, in wrapper\n      yielded = ctx_run(next, result)\n    File \"/home/coco/anaconda3/envs/py38/lib/python3.8/site-packages/ipykernel/ipkernel.py\", line 302, in do_execute\n      res = shell.run_cell(code, store_history=store_history, silent=silent)\n    File \"/home/coco/anaconda3/envs/py38/lib/python3.8/site-packages/ipykernel/zmqshell.py\", line 539, in run_cell\n      return super(ZMQInteractiveShell, self).run_cell(*args, **kwargs)\n    File \"/home/coco/anaconda3/envs/py38/lib/python3.8/site-packages/IPython/core/interactiveshell.py\", line 2961, in run_cell\n      result = self._run_cell(\n    File \"/home/coco/anaconda3/envs/py38/lib/python3.8/site-packages/IPython/core/interactiveshell.py\", line 3016, in _run_cell\n      result = runner(coro)\n    File \"/home/coco/anaconda3/envs/py38/lib/python3.8/site-packages/IPython/core/async_helpers.py\", line 129, in _pseudo_sync_runner\n      coro.send(None)\n    File \"/home/coco/anaconda3/envs/py38/lib/python3.8/site-packages/IPython/core/interactiveshell.py\", line 3221, in run_cell_async\n      has_raised = await self.run_ast_nodes(code_ast.body, cell_name,\n    File \"/home/coco/anaconda3/envs/py38/lib/python3.8/site-packages/IPython/core/interactiveshell.py\", line 3400, in run_ast_nodes\n      if await self.run_code(code, result, async_=asy):\n    File \"/home/coco/anaconda3/envs/py38/lib/python3.8/site-packages/IPython/core/interactiveshell.py\", line 3460, in run_code\n      exec(code_obj, self.user_global_ns, self.user_ns)\n    File \"<ipython-input-79-41cbac8b1cbb>\", line 2, in <module>\n      vae.fit(train_images, epochs=10, batch_size=128)\n    File \"/home/coco/anaconda3/envs/py38/lib/python3.8/site-packages/keras/utils/traceback_utils.py\", line 65, in error_handler\n      return fn(*args, **kwargs)\n    File \"/home/coco/anaconda3/envs/py38/lib/python3.8/site-packages/keras/engine/training.py\", line 1650, in fit\n      tmp_logs = self.train_function(iterator)\n    File \"/home/coco/anaconda3/envs/py38/lib/python3.8/site-packages/keras/engine/training.py\", line 1249, in train_function\n      return step_function(self, iterator)\n    File \"/home/coco/anaconda3/envs/py38/lib/python3.8/site-packages/keras/engine/training.py\", line 1233, in step_function\n      outputs = model.distribute_strategy.run(run_step, args=(data,))\n    File \"/home/coco/anaconda3/envs/py38/lib/python3.8/site-packages/keras/engine/training.py\", line 1222, in run_step\n      outputs = model.train_step(data)\n    File \"/home/coco/anaconda3/envs/py38/lib/python3.8/site-packages/keras/engine/training.py\", line 1027, in train_step\n      self.optimizer.minimize(loss, self.trainable_variables, tape=tape)\n    File \"/home/coco/anaconda3/envs/py38/lib/python3.8/site-packages/keras/optimizers/optimizer_experimental/optimizer.py\", line 526, in minimize\n      grads_and_vars = self.compute_gradients(loss, var_list, tape)\n    File \"/home/coco/anaconda3/envs/py38/lib/python3.8/site-packages/keras/optimizers/optimizer_experimental/optimizer.py\", line 259, in compute_gradients\n      grads = tape.gradient(loss, var_list)\nNode: 'gradient_tape/vae/tf.__operators__.add_1/BroadcastGradientArgs'\nIncompatible shapes: [128,28,28] vs. [128]\n\t [[{{node gradient_tape/vae/tf.__operators__.add_1/BroadcastGradientArgs}}]] [Op:__inference_train_function_3053]"
     ]
    }
   ],
   "source": [
    "\n",
    "# train the model\n",
    "vae.fit(train_images, epochs=10, batch_size=128)"
   ]
  },
  {
   "cell_type": "code",
   "execution_count": 80,
   "id": "cbed96c8-e01d-4e8f-a348-dfb0d4bd324a",
   "metadata": {},
   "outputs": [
    {
     "name": "stdout",
     "output_type": "stream",
     "text": [
      "1/1 [==============================] - 0s 55ms/step\n"
     ]
    }
   ],
   "source": [
    "# generate synthetic data\n",
    "n_samples = 10\n",
    "random_latent_vectors = np.random.normal(size=(n_samples, latent_dim))\n",
    "generated_images = decoder.predict(random_latent_vectors)\n"
   ]
  },
  {
   "cell_type": "code",
   "execution_count": 81,
   "id": "f598d505-248d-4dfe-bdd6-ed710bcca340",
   "metadata": {},
   "outputs": [
    {
     "data": {
      "image/png": "[encoded data removed]",
      "text/plain": [
       "<Figure size 432x288 with 1 Axes>"
      ]
     },
     "metadata": {
      "needs_background": "light"
     },
     "output_type": "display_data"
    },
    {
     "data": {
      "image/png": "[encoded data removed]",
      "text/plain": [
       "<Figure size 432x288 with 1 Axes>"
      ]
     },
     "metadata": {
      "needs_background": "light"
     },
     "output_type": "display_data"
    },
    {
     "data": {
      "image/png": "[encoded data removed]",
      "text/plain": [
       "<Figure size 432x288 with 1 Axes>"
      ]
     },
     "metadata": {
      "needs_background": "light"
     },
     "output_type": "display_data"
    },
    {
     "data": {
      "image/png": "[encoded data removed]",
      "text/plain": [
       "<Figure size 432x288 with 1 Axes>"
      ]
     },
     "metadata": {
      "needs_background": "light"
     },
     "output_type": "display_data"
    },
    {
     "data": {
      "image/png": "[encoded data removed]",
      "text/plain": [
       "<Figure size 432x288 with 1 Axes>"
      ]
     },
     "metadata": {
      "needs_background": "light"
     },
     "output_type": "display_data"
    },
    {
     "data": {
      "image/png": "[encoded data removed]",
      "text/plain": [
       "<Figure size 432x288 with 1 Axes>"
      ]
     },
     "metadata": {
      "needs_background": "light"
     },
     "output_type": "display_data"
    },
    {
     "data": {
      "image/png": "[encoded data removed]",
      "text/plain": [
       "<Figure size 432x288 with 1 Axes>"
      ]
     },
     "metadata": {
      "needs_background": "light"
     },
     "output_type": "display_data"
    },
    {
     "data": {
      "image/png": "[encoded data removed]",
      "text/plain": [
       "<Figure size 432x288 with 1 Axes>"
      ]
     },
     "metadata": {
      "needs_background": "light"
     },
     "output_type": "display_data"
    },
    {
     "data": {
      "image/png": "[encoded data removed]",
      "text/plain": [
       "<Figure size 432x288 with 1 Axes>"
      ]
     },
     "metadata": {
      "needs_background": "light"
     },
     "output_type": "display_data"
    },
    {
     "data": {
      "image/png": "[encoded data removed]",
      "text/plain": [
       "<Figure size 432x288 with 1 Axes>"
      ]
     },
     "metadata": {
      "needs_background": "light"
     },
     "output_type": "display_data"
    }
   ],
   "source": [
    "# display the generated images\n",
    "for i in range(n_samples):\n",
    "    plt.imshow(generated_images[i].reshape(28, 28))\n",
    "    plt.show()"
   ]
  },
  {
   "cell_type": "markdown",
   "id": "8af6709b-8bd4-43a1-a545-28e0af0c13f6",
   "metadata": {},
   "source": [
    "# 예시4: a simple feedforward neural network"
   ]
  },
  {
   "cell_type": "code",
   "execution_count": 90,
   "id": "a084e3d1-1c76-480d-b9ea-205fc0295263",
   "metadata": {},
   "outputs": [
    {
     "name": "stdout",
     "output_type": "stream",
     "text": [
      "Collecting scikit-learn\n",
      "  Downloading scikit_learn-1.2.2-cp38-cp38-manylinux_2_17_x86_64.manylinux2014_x86_64.whl (9.8 MB)\n",
      "\u001b[2K     \u001b[38;2;114;156;31m━━━━━━━━━━━━━━━━━━━━━━━━━━━━━━━━━━━━━━━━\u001b[0m \u001b[32m9.8/9.8 MB\u001b[0m \u001b[31m80.6 MB/s\u001b[0m eta \u001b[36m0:00:00\u001b[0mm eta \u001b[36m0:00:01\u001b[0m0:01\u001b[0m\n",
      "\u001b[?25hRequirement already satisfied: scipy>=1.3.2 in /home/coco/anaconda3/envs/py38/lib/python3.8/site-packages (from scikit-learn) (1.10.1)\n",
      "Collecting joblib>=1.1.1\n",
      "  Downloading joblib-1.2.0-py3-none-any.whl (297 kB)\n",
      "\u001b[2K     \u001b[38;2;114;156;31m━━━━━━━━━━━━━━━━━━━━━━━━━━━━━━━━━━━━━━\u001b[0m \u001b[32m298.0/298.0 kB\u001b[0m \u001b[31m58.5 MB/s\u001b[0m eta \u001b[36m0:00:00\u001b[0m\n",
      "\u001b[?25hRequirement already satisfied: numpy>=1.17.3 in /home/coco/anaconda3/envs/py38/lib/python3.8/site-packages (from scikit-learn) (1.24.2)\n",
      "Collecting threadpoolctl>=2.0.0\n",
      "  Downloading threadpoolctl-3.1.0-py3-none-any.whl (14 kB)\n",
      "Installing collected packages: threadpoolctl, joblib, scikit-learn\n",
      "Successfully installed joblib-1.2.0 scikit-learn-1.2.2 threadpoolctl-3.1.0\n"
     ]
    }
   ],
   "source": [
    "!pip install scikit-learn"
   ]
  },
  {
   "cell_type": "code",
   "execution_count": 91,
   "id": "35dce7c0-92b5-46df-b640-5183243627f7",
   "metadata": {},
   "outputs": [],
   "source": [
    "# import necessary libraries\n",
    "\n",
    "import numpy as np\n",
    "import matplotlib.pyplot as plt\n",
    "from sklearn.datasets import make_classification\n",
    "from sklearn.preprocessing import StandardScaler\n",
    "from tensorflow import keras\n",
    "from tensorflow.keras import layers"
   ]
  },
  {
   "cell_type": "code",
   "execution_count": 92,
   "id": "96668d24-f6eb-4663-ba42-48e7545e65e4",
   "metadata": {},
   "outputs": [],
   "source": [
    "# generate and preprocess the real data for training\n",
    "X, y = make_classification(n_samples=1000, n_features=10, n_classes=2, random_state=42)\n",
    "scaler = StandardScaler()\n",
    "X = scaler.fit_transform(X)"
   ]
  },
  {
   "cell_type": "code",
   "execution_count": 93,
   "id": "e53f617d-50b3-4337-86af-4ead66cb6a6c",
   "metadata": {},
   "outputs": [],
   "source": [
    "# define the feedforward neural network\n",
    "model = keras.Sequential([\n",
    "    layers.Dense(16, activation='relu', input_shape=(X.shape[1],)),\n",
    "    layers.Dense(8, activation='relu'),\n",
    "    layers.Dense(1, activation='sigmoid')\n",
    "])\n"
   ]
  },
  {
   "cell_type": "code",
   "execution_count": 94,
   "id": "302d42e2-b912-49c4-ac63-a1f3d456a30c",
   "metadata": {},
   "outputs": [],
   "source": [
    "\n",
    "# compile the model\n",
    "model.compile(optimizer='adam', loss='binary_crossentropy')\n",
    "\n"
   ]
  },
  {
   "cell_type": "code",
   "execution_count": 95,
   "id": "2498ceb6-1b52-4714-89dd-0294e797514b",
   "metadata": {},
   "outputs": [
    {
     "name": "stdout",
     "output_type": "stream",
     "text": [
      "Epoch 1/100\n",
      "32/32 [==============================] - 0s 553us/step - loss: 0.5901\n",
      "Epoch 2/100\n",
      "32/32 [==============================] - 0s 472us/step - loss: 0.5224\n",
      "Epoch 3/100\n",
      "32/32 [==============================] - 0s 477us/step - loss: 0.4699\n",
      "Epoch 4/100\n",
      "32/32 [==============================] - 0s 472us/step - loss: 0.4287\n",
      "Epoch 5/100\n",
      "32/32 [==============================] - 0s 459us/step - loss: 0.3960\n",
      "Epoch 6/100\n",
      "32/32 [==============================] - 0s 461us/step - loss: 0.3715\n",
      "Epoch 7/100\n",
      "32/32 [==============================] - 0s 466us/step - loss: 0.3530\n",
      "Epoch 8/100\n",
      "32/32 [==============================] - 0s 466us/step - loss: 0.3412\n",
      "Epoch 9/100\n",
      "32/32 [==============================] - 0s 464us/step - loss: 0.3338\n",
      "Epoch 10/100\n",
      "32/32 [==============================] - 0s 470us/step - loss: 0.3267\n",
      "Epoch 11/100\n",
      "32/32 [==============================] - 0s 470us/step - loss: 0.3219\n",
      "Epoch 12/100\n",
      "32/32 [==============================] - 0s 471us/step - loss: 0.3182\n",
      "Epoch 13/100\n",
      "32/32 [==============================] - 0s 471us/step - loss: 0.3158\n",
      "Epoch 14/100\n",
      "32/32 [==============================] - 0s 461us/step - loss: 0.3131\n",
      "Epoch 15/100\n",
      "32/32 [==============================] - 0s 459us/step - loss: 0.3110\n",
      "Epoch 16/100\n",
      "32/32 [==============================] - 0s 456us/step - loss: 0.3095\n",
      "Epoch 17/100\n",
      "32/32 [==============================] - 0s 458us/step - loss: 0.3075\n",
      "Epoch 18/100\n",
      "32/32 [==============================] - 0s 454us/step - loss: 0.3059\n",
      "Epoch 19/100\n",
      "32/32 [==============================] - 0s 448us/step - loss: 0.3042\n",
      "Epoch 20/100\n",
      "32/32 [==============================] - 0s 459us/step - loss: 0.3028\n",
      "Epoch 21/100\n",
      "32/32 [==============================] - 0s 458us/step - loss: 0.3017\n",
      "Epoch 22/100\n",
      "32/32 [==============================] - 0s 457us/step - loss: 0.3018\n",
      "Epoch 23/100\n",
      "32/32 [==============================] - 0s 462us/step - loss: 0.3001\n",
      "Epoch 24/100\n",
      "32/32 [==============================] - 0s 456us/step - loss: 0.2992\n",
      "Epoch 25/100\n",
      "32/32 [==============================] - 0s 457us/step - loss: 0.2979\n",
      "Epoch 26/100\n",
      "32/32 [==============================] - 0s 467us/step - loss: 0.2966\n",
      "Epoch 27/100\n",
      "32/32 [==============================] - 0s 465us/step - loss: 0.2960\n",
      "Epoch 28/100\n",
      "32/32 [==============================] - 0s 467us/step - loss: 0.2950\n",
      "Epoch 29/100\n",
      "32/32 [==============================] - 0s 467us/step - loss: 0.2938\n",
      "Epoch 30/100\n",
      "32/32 [==============================] - 0s 467us/step - loss: 0.2929\n",
      "Epoch 31/100\n",
      "32/32 [==============================] - 0s 469us/step - loss: 0.2925\n",
      "Epoch 32/100\n",
      "32/32 [==============================] - 0s 473us/step - loss: 0.2915\n",
      "Epoch 33/100\n",
      "32/32 [==============================] - 0s 469us/step - loss: 0.2906\n",
      "Epoch 34/100\n",
      "32/32 [==============================] - 0s 472us/step - loss: 0.2896\n",
      "Epoch 35/100\n",
      "32/32 [==============================] - 0s 473us/step - loss: 0.2891\n",
      "Epoch 36/100\n",
      "32/32 [==============================] - 0s 461us/step - loss: 0.2874\n",
      "Epoch 37/100\n",
      "32/32 [==============================] - 0s 456us/step - loss: 0.2871\n",
      "Epoch 38/100\n",
      "32/32 [==============================] - 0s 455us/step - loss: 0.2865\n",
      "Epoch 39/100\n",
      "32/32 [==============================] - 0s 457us/step - loss: 0.2855\n",
      "Epoch 40/100\n",
      "32/32 [==============================] - 0s 457us/step - loss: 0.2848\n",
      "Epoch 41/100\n",
      "32/32 [==============================] - 0s 459us/step - loss: 0.2843\n",
      "Epoch 42/100\n",
      "32/32 [==============================] - 0s 454us/step - loss: 0.2835\n",
      "Epoch 43/100\n",
      "32/32 [==============================] - 0s 457us/step - loss: 0.2827\n",
      "Epoch 44/100\n",
      "32/32 [==============================] - 0s 444us/step - loss: 0.2818\n",
      "Epoch 45/100\n",
      "32/32 [==============================] - 0s 447us/step - loss: 0.2813\n",
      "Epoch 46/100\n",
      "32/32 [==============================] - 0s 457us/step - loss: 0.2801\n",
      "Epoch 47/100\n",
      "32/32 [==============================] - 0s 460us/step - loss: 0.2795\n",
      "Epoch 48/100\n",
      "32/32 [==============================] - 0s 458us/step - loss: 0.2789\n",
      "Epoch 49/100\n",
      "32/32 [==============================] - 0s 462us/step - loss: 0.2781\n",
      "Epoch 50/100\n",
      "32/32 [==============================] - 0s 459us/step - loss: 0.2775\n",
      "Epoch 51/100\n",
      "32/32 [==============================] - 0s 459us/step - loss: 0.2766\n",
      "Epoch 52/100\n",
      "32/32 [==============================] - 0s 461us/step - loss: 0.2762\n",
      "Epoch 53/100\n",
      "32/32 [==============================] - 0s 460us/step - loss: 0.2757\n",
      "Epoch 54/100\n",
      "32/32 [==============================] - 0s 462us/step - loss: 0.2750\n",
      "Epoch 55/100\n",
      "32/32 [==============================] - 0s 457us/step - loss: 0.2729\n",
      "Epoch 56/100\n",
      "32/32 [==============================] - 0s 462us/step - loss: 0.2722\n",
      "Epoch 57/100\n",
      "32/32 [==============================] - 0s 465us/step - loss: 0.2711\n",
      "Epoch 58/100\n",
      "32/32 [==============================] - 0s 447us/step - loss: 0.2708\n",
      "Epoch 59/100\n",
      "32/32 [==============================] - 0s 451us/step - loss: 0.2704\n",
      "Epoch 60/100\n",
      "32/32 [==============================] - 0s 449us/step - loss: 0.2687\n",
      "Epoch 61/100\n",
      "32/32 [==============================] - 0s 454us/step - loss: 0.2683\n",
      "Epoch 62/100\n",
      "32/32 [==============================] - 0s 464us/step - loss: 0.2673\n",
      "Epoch 63/100\n",
      "32/32 [==============================] - 0s 469us/step - loss: 0.2663\n",
      "Epoch 64/100\n",
      "32/32 [==============================] - 0s 473us/step - loss: 0.2658\n",
      "Epoch 65/100\n",
      "32/32 [==============================] - 0s 466us/step - loss: 0.2651\n",
      "Epoch 66/100\n",
      "32/32 [==============================] - 0s 467us/step - loss: 0.2641\n",
      "Epoch 67/100\n",
      "32/32 [==============================] - 0s 467us/step - loss: 0.2633\n",
      "Epoch 68/100\n",
      "32/32 [==============================] - 0s 467us/step - loss: 0.2622\n",
      "Epoch 69/100\n",
      "32/32 [==============================] - 0s 463us/step - loss: 0.2618\n",
      "Epoch 70/100\n",
      "32/32 [==============================] - 0s 463us/step - loss: 0.2611\n",
      "Epoch 71/100\n",
      "32/32 [==============================] - 0s 464us/step - loss: 0.2598\n",
      "Epoch 72/100\n",
      "32/32 [==============================] - 0s 466us/step - loss: 0.2596\n",
      "Epoch 73/100\n",
      "32/32 [==============================] - 0s 460us/step - loss: 0.2582\n",
      "Epoch 74/100\n",
      "32/32 [==============================] - 0s 448us/step - loss: 0.2583\n",
      "Epoch 75/100\n",
      "32/32 [==============================] - 0s 452us/step - loss: 0.2573\n",
      "Epoch 76/100\n",
      "32/32 [==============================] - 0s 466us/step - loss: 0.2558\n",
      "Epoch 77/100\n",
      "32/32 [==============================] - 0s 462us/step - loss: 0.2556\n",
      "Epoch 78/100\n",
      "32/32 [==============================] - 0s 462us/step - loss: 0.2543\n",
      "Epoch 79/100\n",
      "32/32 [==============================] - 0s 451us/step - loss: 0.2547\n",
      "Epoch 80/100\n",
      "32/32 [==============================] - 0s 448us/step - loss: 0.2527\n",
      "Epoch 81/100\n",
      "32/32 [==============================] - 0s 453us/step - loss: 0.2516\n",
      "Epoch 82/100\n",
      "32/32 [==============================] - 0s 450us/step - loss: 0.2505\n",
      "Epoch 83/100\n",
      "32/32 [==============================] - 0s 451us/step - loss: 0.2502\n",
      "Epoch 84/100\n",
      "32/32 [==============================] - 0s 453us/step - loss: 0.2485\n",
      "Epoch 85/100\n",
      "32/32 [==============================] - 0s 452us/step - loss: 0.2475\n",
      "Epoch 86/100\n",
      "32/32 [==============================] - 0s 448us/step - loss: 0.2468\n",
      "Epoch 87/100\n",
      "32/32 [==============================] - 0s 453us/step - loss: 0.2461\n",
      "Epoch 88/100\n",
      "32/32 [==============================] - 0s 451us/step - loss: 0.2448\n",
      "Epoch 89/100\n",
      "32/32 [==============================] - 0s 450us/step - loss: 0.2438\n",
      "Epoch 90/100\n",
      "32/32 [==============================] - 0s 447us/step - loss: 0.2431\n",
      "Epoch 91/100\n",
      "32/32 [==============================] - 0s 456us/step - loss: 0.2421\n",
      "Epoch 92/100\n",
      "32/32 [==============================] - 0s 452us/step - loss: 0.2413\n",
      "Epoch 93/100\n",
      "32/32 [==============================] - 0s 452us/step - loss: 0.2403\n",
      "Epoch 94/100\n",
      "32/32 [==============================] - 0s 454us/step - loss: 0.2395\n",
      "Epoch 95/100\n",
      "32/32 [==============================] - 0s 460us/step - loss: 0.2388\n",
      "Epoch 96/100\n",
      "32/32 [==============================] - 0s 457us/step - loss: 0.2381\n",
      "Epoch 97/100\n",
      "32/32 [==============================] - 0s 460us/step - loss: 0.2368\n",
      "Epoch 98/100\n",
      "32/32 [==============================] - 0s 459us/step - loss: 0.2362\n",
      "Epoch 99/100\n",
      "32/32 [==============================] - 0s 460us/step - loss: 0.2349\n",
      "Epoch 100/100\n",
      "32/32 [==============================] - 0s 459us/step - loss: 0.2347\n"
     ]
    },
    {
     "data": {
      "text/plain": [
       "<keras.callbacks.History at 0x7f71e8106490>"
      ]
     },
     "execution_count": 95,
     "metadata": {},
     "output_type": "execute_result"
    }
   ],
   "source": [
    "# train the model\n",
    "model.fit(X, y, epochs=100, batch_size=32)"
   ]
  },
  {
   "cell_type": "code",
   "execution_count": 96,
   "id": "1f4b906d-aad4-4951-889c-14afe65767a5",
   "metadata": {},
   "outputs": [
    {
     "name": "stdout",
     "output_type": "stream",
     "text": [
      "1/1 [==============================] - 0s 22ms/step\n"
     ]
    }
   ],
   "source": [
    "# generate synthetic data\n",
    "n_samples = 10\n",
    "random_vectors = np.random.normal(size=(n_samples, X.shape[1]))\n",
    "generated_data = model.predict(random_vectors)"
   ]
  },
  {
   "cell_type": "code",
   "execution_count": 97,
   "id": "5a74734a-38e9-4503-ae7b-e01efca32ab5",
   "metadata": {},
   "outputs": [
    {
     "name": "stdout",
     "output_type": "stream",
     "text": [
      "[[0.00134968]\n",
      " [0.11726338]\n",
      " [0.6508618 ]\n",
      " [0.9898428 ]\n",
      " [0.9719319 ]\n",
      " [0.9829191 ]\n",
      " [0.6400001 ]\n",
      " [0.00335612]\n",
      " [0.15759172]\n",
      " [0.00645017]]\n"
     ]
    }
   ],
   "source": [
    "# display the generated data\n",
    "print(generated_data)"
   ]
  },
  {
   "cell_type": "markdown",
   "id": "02914119-8d21-40da-b036-eaa191074ef6",
   "metadata": {},
   "source": [
    "# 예시5: KDE(Kernel Density Estimation)"
   ]
  },
  {
   "cell_type": "code",
   "execution_count": 98,
   "id": "c8720518-6875-4277-970d-eab3f0b3b826",
   "metadata": {},
   "outputs": [],
   "source": [
    "import numpy as np\n",
    "import matplotlib.pyplot as plt\n",
    "from sklearn.datasets import make_classification\n",
    "from sklearn.neighbors import KernelDensity\n"
   ]
  },
  {
   "cell_type": "code",
   "execution_count": 102,
   "id": "7cb073df-1dfc-44c1-8628-1592d2cf8309",
   "metadata": {},
   "outputs": [],
   "source": [
    "X, y = make_classification(n_samples=1000, n_features=10, n_classes=2, random_state=42)"
   ]
  },
  {
   "cell_type": "code",
   "execution_count": 103,
   "id": "78fe18e7-d2c0-42f7-b646-4ad0f18e6c29",
   "metadata": {},
   "outputs": [
    {
     "data": {
      "text/html": [
       "<style>#sk-container-id-1 {color: black;background-color: white;}#sk-container-id-1 pre{padding: 0;}#sk-container-id-1 div.sk-toggleable {background-color: white;}#sk-container-id-1 label.sk-toggleable__label {cursor: pointer;display: block;width: 100%;margin-bottom: 0;padding: 0.3em;box-sizing: border-box;text-align: center;}#sk-container-id-1 label.sk-toggleable__label-arrow:before {content: \"▸\";float: left;margin-right: 0.25em;color: #696969;}#sk-container-id-1 label.sk-toggleable__label-arrow:hover:before {color: black;}#sk-container-id-1 div.sk-estimator:hover label.sk-toggleable__label-arrow:before {color: black;}#sk-container-id-1 div.sk-toggleable__content {max-height: 0;max-width: 0;overflow: hidden;text-align: left;background-color: #f0f8ff;}#sk-container-id-1 div.sk-toggleable__content pre {margin: 0.2em;color: black;border-radius: 0.25em;background-color: #f0f8ff;}#sk-container-id-1 input.sk-toggleable__control:checked~div.sk-toggleable__content {max-height: 200px;max-width: 100%;overflow: auto;}#sk-container-id-1 input.sk-toggleable__control:checked~label.sk-toggleable__label-arrow:before {content: \"▾\";}#sk-container-id-1 div.sk-estimator input.sk-toggleable__control:checked~label.sk-toggleable__label {background-color: #d4ebff;}#sk-container-id-1 div.sk-label input.sk-toggleable__control:checked~label.sk-toggleable__label {background-color: #d4ebff;}#sk-container-id-1 input.sk-hidden--visually {border: 0;clip: rect(1px 1px 1px 1px);clip: rect(1px, 1px, 1px, 1px);height: 1px;margin: -1px;overflow: hidden;padding: 0;position: absolute;width: 1px;}#sk-container-id-1 div.sk-estimator {font-family: monospace;background-color: #f0f8ff;border: 1px dotted black;border-radius: 0.25em;box-sizing: border-box;margin-bottom: 0.5em;}#sk-container-id-1 div.sk-estimator:hover {background-color: #d4ebff;}#sk-container-id-1 div.sk-parallel-item::after {content: \"\";width: 100%;border-bottom: 1px solid gray;flex-grow: 1;}#sk-container-id-1 div.sk-label:hover label.sk-toggleable__label {background-color: #d4ebff;}#sk-container-id-1 div.sk-serial::before {content: \"\";position: absolute;border-left: 1px solid gray;box-sizing: border-box;top: 0;bottom: 0;left: 50%;z-index: 0;}#sk-container-id-1 div.sk-serial {display: flex;flex-direction: column;align-items: center;background-color: white;padding-right: 0.2em;padding-left: 0.2em;position: relative;}#sk-container-id-1 div.sk-item {position: relative;z-index: 1;}#sk-container-id-1 div.sk-parallel {display: flex;align-items: stretch;justify-content: center;background-color: white;position: relative;}#sk-container-id-1 div.sk-item::before, #sk-container-id-1 div.sk-parallel-item::before {content: \"\";position: absolute;border-left: 1px solid gray;box-sizing: border-box;top: 0;bottom: 0;left: 50%;z-index: -1;}#sk-container-id-1 div.sk-parallel-item {display: flex;flex-direction: column;z-index: 1;position: relative;background-color: white;}#sk-container-id-1 div.sk-parallel-item:first-child::after {align-self: flex-end;width: 50%;}#sk-container-id-1 div.sk-parallel-item:last-child::after {align-self: flex-start;width: 50%;}#sk-container-id-1 div.sk-parallel-item:only-child::after {width: 0;}#sk-container-id-1 div.sk-dashed-wrapped {border: 1px dashed gray;margin: 0 0.4em 0.5em 0.4em;box-sizing: border-box;padding-bottom: 0.4em;background-color: white;}#sk-container-id-1 div.sk-label label {font-family: monospace;font-weight: bold;display: inline-block;line-height: 1.2em;}#sk-container-id-1 div.sk-label-container {text-align: center;}#sk-container-id-1 div.sk-container {/* jupyter's `normalize.less` sets `[hidden] { display: none; }` but bootstrap.min.css set `[hidden] { display: none !important; }` so we also need the `!important` here to be able to override the default hidden behavior on the sphinx rendered scikit-learn.org. See: https://github.com/scikit-learn/scikit-learn/issues/21755 */display: inline-block !important;position: relative;}#sk-container-id-1 div.sk-text-repr-fallback {display: none;}</style><div id=\"sk-container-id-1\" class=\"sk-top-container\"><div class=\"sk-text-repr-fallback\"><pre>KernelDensity(bandwidth=0.5)</pre><b>In a Jupyter environment, please rerun this cell to show the HTML representation or trust the notebook. <br />On GitHub, the HTML representation is unable to render, please try loading this page with nbviewer.org.</b></div><div class=\"sk-container\" hidden><div class=\"sk-item\"><div class=\"sk-estimator sk-toggleable\"><input class=\"sk-toggleable__control sk-hidden--visually\" id=\"sk-estimator-id-1\" type=\"checkbox\" checked><label for=\"sk-estimator-id-1\" class=\"sk-toggleable__label sk-toggleable__label-arrow\">KernelDensity</label><div class=\"sk-toggleable__content\"><pre>KernelDensity(bandwidth=0.5)</pre></div></div></div></div></div>"
      ],
      "text/plain": [
       "KernelDensity(bandwidth=0.5)"
      ]
     },
     "execution_count": 103,
     "metadata": {},
     "output_type": "execute_result"
    }
   ],
   "source": [
    "kde = KernelDensity(kernel='gaussian', bandwidth=0.5)\n",
    "kde.fit(X)\n"
   ]
  },
  {
   "cell_type": "code",
   "execution_count": 105,
   "id": "0e63f1dd-9627-4127-ab1a-5f7fa39662d3",
   "metadata": {},
   "outputs": [
    {
     "data": {
      "text/plain": [
       "array([[-6.40543316e-01, -2.00816029e-01, -1.38112318e+00,\n",
       "        -5.04647026e-01, -1.16412835e-01,  2.31176462e-01,\n",
       "         2.67275989e+00, -2.43788602e+00, -1.07609433e+00,\n",
       "        -7.60376957e-01],\n",
       "       [-1.96154361e+00, -5.44035464e-01, -1.29299914e+00,\n",
       "        -1.79243149e+00, -7.91254247e-01, -1.49100460e+00,\n",
       "         2.59878119e+00, -7.00449777e-01,  2.46705029e+00,\n",
       "        -8.13271665e-01],\n",
       "       [ 4.92102583e-01,  4.61885958e-01,  9.06165151e-01,\n",
       "         7.09125038e-01,  3.62018015e-01,  1.33662227e+00,\n",
       "        -1.73166578e+00, -1.54776550e+00, -6.47684988e-01,\n",
       "         1.50384591e+00],\n",
       "       [-1.37270120e+00,  1.11711271e+00,  1.69950848e-01,\n",
       "         1.71370541e+00, -9.95787406e-01,  9.37075645e-01,\n",
       "         6.86130469e-01,  2.68568255e+00,  5.23540728e-01,\n",
       "         1.28789991e+00],\n",
       "       [-6.09739471e-01,  2.74003692e-01, -4.99186042e-01,\n",
       "         7.55177619e-01,  1.10635851e+00, -6.33249957e-01,\n",
       "         1.45340497e+00,  1.50254494e-01,  1.70527839e+00,\n",
       "        -1.68688562e+00],\n",
       "       [ 2.82712325e-01,  6.99937229e-01,  2.35281704e-01,\n",
       "        -1.38757829e+00, -3.07830479e-01, -1.66666566e+00,\n",
       "         3.49788502e-01,  1.81251770e+00,  1.41807360e+00,\n",
       "        -1.14791545e-01],\n",
       "       [ 6.89280678e-01, -2.94374178e-03,  1.00903417e+00,\n",
       "         1.42917675e+00,  9.38636180e-01,  6.54756154e-01,\n",
       "        -1.50349162e+00, -1.72798315e-01,  7.09793089e-01,\n",
       "         2.34657027e+00],\n",
       "       [ 1.40766106e+00,  1.33457643e+00,  6.06365408e-02,\n",
       "        -1.61743252e+00,  1.29343257e+00, -4.73977756e-01,\n",
       "         2.15440056e-01, -1.41240310e+00, -3.73397331e+00,\n",
       "         1.15540476e+00],\n",
       "       [-4.13886212e-02,  1.31264769e+00,  2.42505327e-01,\n",
       "        -9.10608344e-01,  1.92476492e+00,  5.73378858e-01,\n",
       "        -9.79660592e-01,  1.66989518e+00, -3.47583358e-02,\n",
       "         2.49848587e-01],\n",
       "       [ 1.73735646e-01, -8.64171575e-01, -1.98493560e-01,\n",
       "         1.64845898e-01, -8.99243472e-01, -1.51645063e-01,\n",
       "        -8.09655616e-01, -7.19465453e-01, -9.90817553e-01,\n",
       "        -1.45541083e+00]])"
      ]
     },
     "execution_count": 105,
     "metadata": {},
     "output_type": "execute_result"
    }
   ],
   "source": [
    "n_samples = 10\n",
    "synthetic_data = kde.sample(n_samples)\n",
    "synthetic_data"
   ]
  },
  {
   "cell_type": "code",
   "execution_count": 106,
   "id": "018ee2d1-9063-4d6a-927d-e9c45fa938e5",
   "metadata": {},
   "outputs": [
    {
     "data": {
      "image/png": "[encoded data removed]",
      "text/plain": [
       "<Figure size 432x288 with 1 Axes>"
      ]
     },
     "metadata": {
      "needs_background": "light"
     },
     "output_type": "display_data"
    }
   ],
   "source": [
    "fig, ax = plt.subplots()\n",
    "ax.scatter(X[:, 0], X[:, 1], c=y)\n",
    "ax.scatter(synthetic_data[:, 0], synthetic_data[:, 1], c='r')\n",
    "plt.show()\n"
   ]
  },
  {
   "cell_type": "markdown",
   "id": "ee076682-ab5a-478a-a40e-2a8fdb450ca6",
   "metadata": {},
   "source": [
    "# 예시6: random sampling technique"
   ]
  },
  {
   "cell_type": "code",
   "execution_count": 107,
   "id": "e0ed4e8d-ae94-4da6-9690-803e690815f5",
   "metadata": {},
   "outputs": [],
   "source": [
    "import numpy as np\n",
    "import matplotlib.pyplot as plt\n",
    "from sklearn.datasets import make_classification\n"
   ]
  },
  {
   "cell_type": "code",
   "execution_count": 108,
   "id": "dfdd6f3c-f6de-455f-ba81-c1c6c525a653",
   "metadata": {},
   "outputs": [],
   "source": [
    "X, y = make_classification(n_samples=1000, n_features=10, n_classes=2, random_state=42)\n"
   ]
  },
  {
   "cell_type": "code",
   "execution_count": 109,
   "id": "4dcd78cf-4c5a-48e7-b55e-ee8a0c51ef1f",
   "metadata": {},
   "outputs": [],
   "source": [
    "n_samples = 10\n",
    "synthetic_data = np.random.rand(n_samples, X.shape[1])\n"
   ]
  },
  {
   "cell_type": "code",
   "execution_count": 110,
   "id": "8d015751-6612-40de-b0b9-3fa7910b04db",
   "metadata": {},
   "outputs": [
    {
     "data": {
      "image/png": "[encoded data removed]",
      "text/plain": [
       "<Figure size 432x288 with 1 Axes>"
      ]
     },
     "metadata": {
      "needs_background": "light"
     },
     "output_type": "display_data"
    }
   ],
   "source": [
    "fig, ax = plt.subplots()\n",
    "ax.scatter(X[:, 0], X[:, 1], c=y)\n",
    "ax.scatter(synthetic_data[:, 0], synthetic_data[:, 1], c='r')\n",
    "plt.show()\n"
   ]
  },
  {
   "cell_type": "markdown",
   "id": "a4f905af-786c-462b-8c52-82923e24cf81",
   "metadata": {},
   "source": [
    "# 예시7: linear regression model"
   ]
  },
  {
   "cell_type": "code",
   "execution_count": 111,
   "id": "ca615ffb-b1b1-4778-bfa8-e34668ebfdda",
   "metadata": {},
   "outputs": [],
   "source": [
    "import numpy as np\n",
    "import matplotlib.pyplot as plt\n",
    "from sklearn.datasets import make_regression\n",
    "from sklearn.linear_model import LinearRegression\n"
   ]
  },
  {
   "cell_type": "code",
   "execution_count": 112,
   "id": "2707cc14-05d3-49ae-9db2-9c25c5ea3f1d",
   "metadata": {},
   "outputs": [],
   "source": [
    "X, y = make_regression(n_samples=100, n_features=1, noise=10, random_state=42)\n"
   ]
  },
  {
   "cell_type": "code",
   "execution_count": 113,
   "id": "9d5d68bc-3d03-4bc3-9188-da7a61b06289",
   "metadata": {},
   "outputs": [
    {
     "data": {
      "text/html": [
       "<style>#sk-container-id-2 {color: black;background-color: white;}#sk-container-id-2 pre{padding: 0;}#sk-container-id-2 div.sk-toggleable {background-color: white;}#sk-container-id-2 label.sk-toggleable__label {cursor: pointer;display: block;width: 100%;margin-bottom: 0;padding: 0.3em;box-sizing: border-box;text-align: center;}#sk-container-id-2 label.sk-toggleable__label-arrow:before {content: \"▸\";float: left;margin-right: 0.25em;color: #696969;}#sk-container-id-2 label.sk-toggleable__label-arrow:hover:before {color: black;}#sk-container-id-2 div.sk-estimator:hover label.sk-toggleable__label-arrow:before {color: black;}#sk-container-id-2 div.sk-toggleable__content {max-height: 0;max-width: 0;overflow: hidden;text-align: left;background-color: #f0f8ff;}#sk-container-id-2 div.sk-toggleable__content pre {margin: 0.2em;color: black;border-radius: 0.25em;background-color: #f0f8ff;}#sk-container-id-2 input.sk-toggleable__control:checked~div.sk-toggleable__content {max-height: 200px;max-width: 100%;overflow: auto;}#sk-container-id-2 input.sk-toggleable__control:checked~label.sk-toggleable__label-arrow:before {content: \"▾\";}#sk-container-id-2 div.sk-estimator input.sk-toggleable__control:checked~label.sk-toggleable__label {background-color: #d4ebff;}#sk-container-id-2 div.sk-label input.sk-toggleable__control:checked~label.sk-toggleable__label {background-color: #d4ebff;}#sk-container-id-2 input.sk-hidden--visually {border: 0;clip: rect(1px 1px 1px 1px);clip: rect(1px, 1px, 1px, 1px);height: 1px;margin: -1px;overflow: hidden;padding: 0;position: absolute;width: 1px;}#sk-container-id-2 div.sk-estimator {font-family: monospace;background-color: #f0f8ff;border: 1px dotted black;border-radius: 0.25em;box-sizing: border-box;margin-bottom: 0.5em;}#sk-container-id-2 div.sk-estimator:hover {background-color: #d4ebff;}#sk-container-id-2 div.sk-parallel-item::after {content: \"\";width: 100%;border-bottom: 1px solid gray;flex-grow: 1;}#sk-container-id-2 div.sk-label:hover label.sk-toggleable__label {background-color: #d4ebff;}#sk-container-id-2 div.sk-serial::before {content: \"\";position: absolute;border-left: 1px solid gray;box-sizing: border-box;top: 0;bottom: 0;left: 50%;z-index: 0;}#sk-container-id-2 div.sk-serial {display: flex;flex-direction: column;align-items: center;background-color: white;padding-right: 0.2em;padding-left: 0.2em;position: relative;}#sk-container-id-2 div.sk-item {position: relative;z-index: 1;}#sk-container-id-2 div.sk-parallel {display: flex;align-items: stretch;justify-content: center;background-color: white;position: relative;}#sk-container-id-2 div.sk-item::before, #sk-container-id-2 div.sk-parallel-item::before {content: \"\";position: absolute;border-left: 1px solid gray;box-sizing: border-box;top: 0;bottom: 0;left: 50%;z-index: -1;}#sk-container-id-2 div.sk-parallel-item {display: flex;flex-direction: column;z-index: 1;position: relative;background-color: white;}#sk-container-id-2 div.sk-parallel-item:first-child::after {align-self: flex-end;width: 50%;}#sk-container-id-2 div.sk-parallel-item:last-child::after {align-self: flex-start;width: 50%;}#sk-container-id-2 div.sk-parallel-item:only-child::after {width: 0;}#sk-container-id-2 div.sk-dashed-wrapped {border: 1px dashed gray;margin: 0 0.4em 0.5em 0.4em;box-sizing: border-box;padding-bottom: 0.4em;background-color: white;}#sk-container-id-2 div.sk-label label {font-family: monospace;font-weight: bold;display: inline-block;line-height: 1.2em;}#sk-container-id-2 div.sk-label-container {text-align: center;}#sk-container-id-2 div.sk-container {/* jupyter's `normalize.less` sets `[hidden] { display: none; }` but bootstrap.min.css set `[hidden] { display: none !important; }` so we also need the `!important` here to be able to override the default hidden behavior on the sphinx rendered scikit-learn.org. See: https://github.com/scikit-learn/scikit-learn/issues/21755 */display: inline-block !important;position: relative;}#sk-container-id-2 div.sk-text-repr-fallback {display: none;}</style><div id=\"sk-container-id-2\" class=\"sk-top-container\"><div class=\"sk-text-repr-fallback\"><pre>LinearRegression()</pre><b>In a Jupyter environment, please rerun this cell to show the HTML representation or trust the notebook. <br />On GitHub, the HTML representation is unable to render, please try loading this page with nbviewer.org.</b></div><div class=\"sk-container\" hidden><div class=\"sk-item\"><div class=\"sk-estimator sk-toggleable\"><input class=\"sk-toggleable__control sk-hidden--visually\" id=\"sk-estimator-id-2\" type=\"checkbox\" checked><label for=\"sk-estimator-id-2\" class=\"sk-toggleable__label sk-toggleable__label-arrow\">LinearRegression</label><div class=\"sk-toggleable__content\"><pre>LinearRegression()</pre></div></div></div></div></div>"
      ],
      "text/plain": [
       "LinearRegression()"
      ]
     },
     "execution_count": 113,
     "metadata": {},
     "output_type": "execute_result"
    }
   ],
   "source": [
    "lr = LinearRegression()\n",
    "lr.fit(X, y)\n"
   ]
  },
  {
   "cell_type": "code",
   "execution_count": 114,
   "id": "4946ae02-c18c-4764-9725-b3bbf2af092e",
   "metadata": {},
   "outputs": [],
   "source": [
    "n_samples = 10\n",
    "synthetic_data = lr.predict(np.random.rand(n_samples, 1))\n"
   ]
  },
  {
   "cell_type": "code",
   "execution_count": 115,
   "id": "c33c033d-8f4b-492f-bd05-222b8a784cc5",
   "metadata": {},
   "outputs": [
    {
     "data": {
      "image/png": "[encoded data removed]",
      "text/plain": [
       "<Figure size 432x288 with 1 Axes>"
      ]
     },
     "metadata": {
      "needs_background": "light"
     },
     "output_type": "display_data"
    }
   ],
   "source": [
    "fig, ax = plt.subplots()\n",
    "ax.scatter(X, y)\n",
    "ax.scatter(np.random.rand(n_samples, 1), synthetic_data, c='r')\n",
    "plt.show()\n"
   ]
  },
  {
   "cell_type": "code",
   "execution_count": null,
   "id": "db35741d-b6a2-41dc-ba76-d87273f9de6f",
   "metadata": {},
   "outputs": [],
   "source": []
  }
 ],
 "metadata": {
  "kernelspec": {
   "display_name": "Python 3",
   "language": "python",
   "name": "python3"
  },
  "language_info": {
   "codemirror_mode": {
    "name": "ipython",
    "version": 3
   },
   "file_extension": ".py",
   "mimetype": "text/x-python",
   "name": "python",
   "nbconvert_exporter": "python",
   "pygments_lexer": "ipython3",
   "version": "3.8.16"
  }
 },
 "nbformat": 4,
 "nbformat_minor": 5
}
