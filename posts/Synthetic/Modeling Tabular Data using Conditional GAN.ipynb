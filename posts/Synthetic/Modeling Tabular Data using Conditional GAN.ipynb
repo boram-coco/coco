{
 "cells": [
  {
   "cell_type": "raw",
   "id": "96ecea15-e592-4974-bc0d-2d2bfefc5082",
   "metadata": {},
   "source": [
    "---\n",
    "title: \"[논문] Modeling Tabular Data using Conditional GAN\"\n",
    "author: \"김보람\"\n",
    "date: \"03/31/2023\"\n",
    "categories:\n",
    "  - Synthetic data\n",
    "  - GAN\n",
    "---"
   ]
  },
  {
   "cell_type": "markdown",
   "id": "206cc602-7693-48f2-95c5-28894b4933db",
   "metadata": {},
   "source": [
    "# ref"
   ]
  },
  {
   "cell_type": "markdown",
   "id": "d97c257e-4c3d-4321-bdfa-5536a7cbf289",
   "metadata": {},
   "source": [
    "- [Lei Xu, Maria Skoularidou, Alfredo Cuesta-Infante, Kalyan Veeramachaneni, \"Modeling Tabular data using Conditional GAN\" , NIPS'19, 2019](https://arxiv.org/pdf/1907.00503)\n",
    "\n",
    "- [CTGAN model open source](https://github.com/DAI-Lab/CTGAN)\n",
    "\n",
    "- [benchmark](https://github.com/DAI-Lab/SDGym)\n",
    "\n",
    "- [Shine's dev log Tstory](https://ddongwon.tistory.com/125)"
   ]
  },
  {
   "cell_type": "markdown",
   "id": "96db9260-2aeb-40c3-81a1-473d9635f814",
   "metadata": {},
   "source": [
    "# Introduction"
   ]
  },
  {
   "cell_type": "markdown",
   "id": "79c88f45-fc41-4401-b8d6-1598083f7e51",
   "metadata": {},
   "source": [
    "`-` tabular data GAN"
   ]
  },
  {
   "cell_type": "markdown",
   "id": "31756c1f-4b0d-4763-a1cf-8377fc505db6",
   "metadata": {},
   "source": [
    "- likelihood fitness, machine learning efficiency"
   ]
  },
  {
   "cell_type": "markdown",
   "id": "8a4eeb22-a4cc-46a1-8ef2-39eef8ac1611",
   "metadata": {},
   "source": [
    "`-` CTGAN"
   ]
  },
  {
   "cell_type": "markdown",
   "id": "d96bea91-879b-4bff-9df3-b706532f699f",
   "metadata": {},
   "source": [
    "- **Conditional GANs for synthetic data generation**\n",
    "\n",
    "- **A benchmarking system for synthetic data geration algorithms**"
   ]
  },
  {
   "cell_type": "markdown",
   "id": "45d2b781-850c-4580-b0fe-ceaba2604982",
   "metadata": {},
   "source": [
    "## Related Work"
   ]
  },
  {
   "cell_type": "markdown",
   "id": "7e1e2c74-a486-4d26-9bd4-ad1bab67c2fc",
   "metadata": {},
   "source": [
    "과거에 synthetic data는 랜덤변수, 결합 다변량 분포를 모형화하여 표본을 추출했다."
   ]
  },
  {
   "cell_type": "markdown",
   "id": "e1c50e55-febc-4deb-9850-372a9ce371a0",
   "metadata": {},
   "source": [
    "# Challenges with GANs in Tabular Data Generation Task"
   ]
  },
  {
   "cell_type": "markdown",
   "id": "b0596d0f-b68e-4c14-a26b-8476f374de05",
   "metadata": {},
   "source": [
    "- $N_c$: continuous columns $({C_1, \\dots, C_{N_c}})$\n",
    "\n",
    "- $N_d$:discrete columns $({D_1, \\dots, D_{N_d}})$\n",
    "\n",
    "- 위 두개는 각각 $random \\ variable$이고 아래와 같이 두 변수의 결합분포를 가진다.\n",
    "\n",
    "- $r_j=(c_{1,j},\\dots,c_{N_{c,j}},d_{1,j},\\dots,d_{N_{d,j}}), \\ j \\in {1,\\dots,n}$\n",
    "\n",
    "- table $T$ 는 $N_c, N_d$를 포함한다.\n",
    "\n",
    "- data synthesizer $G$를 사용하여 synthetic table $T_{syn}$을 만든다.\n",
    "\n",
    "- $T$ is partitioned into training set $T_{train}$ and test set $T_{test}$."
   ]
  },
  {
   "cell_type": "markdown",
   "id": "bcd660ae-d719-4a90-b120-4144cb68a1d5",
   "metadata": {},
   "source": [
    "`-` $T_{syn}$ 효율성 평가 방법\n",
    "\n",
    "- **Likelihood fitness** : Do columns in Tsyn follow the same joint distribution as Ttrain?\n",
    "\n",
    "$T_{syn}$의 columns이 $T_{train}$의 결합분포를 따르는가?\n",
    "\n",
    "- **Machine learning efficacy** : When training a classifier or a regressor to predict one column using other columns as features, can such classifier or regressor learned from Tsyn achieve a similar performance on Ttest, as a model learned on Ttrain?"
   ]
  },
  {
   "cell_type": "markdown",
   "id": "16da5358-a05a-4230-8126-7cb6a5fdd977",
   "metadata": {},
   "source": [
    "`-` Mixed data types\n",
    "\n",
    "- tabula data는 혼합된 경우가 많다.\n",
    "\n",
    "- 이산형 연속형..\n",
    "\n",
    "- GAN은 softmax와 tanh를 사용해야 한다."
   ]
  },
  {
   "cell_type": "markdown",
   "id": "34f1a7b6-de6b-4f6a-8e34-e8326790b83f",
   "metadata": {},
   "source": [
    "`-` Non-Gaussian distributions\n",
    "\n",
    "- 가우시안 분포를 따르는 것은 min-max transformation을 사용해 [-1,1]로 표준화 한다.\n",
    "\n",
    "- 연속형 변수는 비가우시안 분포를 사용?"
   ]
  },
  {
   "cell_type": "markdown",
   "id": "3b580836-e755-4ed6-bde2-1c9cc87911bb",
   "metadata": {},
   "source": [
    "`-` Multimodal distributions"
   ]
  },
  {
   "cell_type": "markdown",
   "id": "877962a3-5c9c-4cb0-9e78-957fe757503e",
   "metadata": {},
   "source": [
    "`-` Learning from sparse one-hot-encoded vectors\n",
    "\n",
    "- synthetic sample은 softmax를 사용하여 생성한다.\n",
    "\n",
    "- real data는 one-hot vector를 이용한다. "
   ]
  },
  {
   "cell_type": "markdown",
   "id": "4d0b44e8-6bbf-4fb3-8ce8-cdd0d39dd04e",
   "metadata": {},
   "source": [
    "`-` Highly imbalanced categorical columns"
   ]
  },
  {
   "cell_type": "markdown",
   "id": "279c135c-d398-4e88-a08f-b3a86a34e67a",
   "metadata": {},
   "source": [
    "# CTGAN Model"
   ]
  },
  {
   "cell_type": "markdown",
   "id": "b0a22509-7eea-4749-b312-72dc7bb2c419",
   "metadata": {},
   "source": [
    "`-` mode-specific normalization을 사용하여 non-Gaussian과 multimodal distribution를 해결한다.\n",
    "\n",
    "`-` `contidional generator`, `training-by-sampling` 를 통해 불균형이산형(`imbalanced discrete columns`) 열들을 해결한다."
   ]
  },
  {
   "cell_type": "markdown",
   "id": "9255c2e6-eda7-4f88-a469-36a4ba2f1c2e",
   "metadata": {},
   "source": [
    "## Notations"
   ]
  },
  {
   "cell_type": "markdown",
   "id": "c96edb3f-9542-4547-999d-3ff508dc6ef1",
   "metadata": {},
   "source": [
    "– $x_1 \\oplus x_2 \\oplus \\dots$: concatenate vectors $x_1, x_2, \\dots$\n",
    "\n",
    "– $gumbel_{\\gamma} (x)$: apply Gumbel softmax with parameter $\\gamma$ on a vector $x$\n",
    "\n",
    "– $leaky_{\\gamma}(x)$: apply a leaky ReLU activation on $x$ with leaky ratio $\\gamma$\n",
    "\n",
    "– $FC_{u \\to v}(x)$: apply a linear transformation on a $u$-dim input to get a $v$-dim output."
   ]
  },
  {
   "cell_type": "markdown",
   "id": "c2eb0d55-bad9-4d03-b3bd-f2f0960c70ee",
   "metadata": {},
   "source": [
    "이 외에도 tanh, ReLU, softmax, BN, drop 등을 사용한다."
   ]
  },
  {
   "cell_type": "markdown",
   "id": "e2ba7929-a2b7-4b67-b066-dfdc6fd91ba3",
   "metadata": {},
   "source": [
    "## Mode-specific Normalization "
   ]
  },
  {
   "cell_type": "markdown",
   "id": "1edadba8-9adf-4294-8436-f72707d4c71a",
   "metadata": {},
   "source": [
    "![](figure1.png)"
   ]
  },
  {
   "cell_type": "markdown",
   "id": "5f49ec99-2d68-48a7-b9a3-1dfa0e293285",
   "metadata": {},
   "source": [
    "1. 연속형 변수 $C_i$는 variational Gaussian mixture model(VGM) 을 사용한다.\n",
    "\n",
    "위 예시에서 VGM은 $\\eta_1,\\eta_2,\\eta_3$인 $m_i=3$인 mode를 찾는다.\n",
    "\n",
    "Gaussian mixture = $\\mathbb{P}_{C_i}(c_{i,j}) = \\sum_{k=1}^3 \\mu_k N (c_{i,j}: \\eta_k, \\phi_k)$\n",
    "\n",
    "$\\mu_k, \\phi_k$ 의 가중치와 분산은 각각 구해놓는다."
   ]
  },
  {
   "cell_type": "markdown",
   "id": "c8e5b031-42fb-4ea7-9d1f-5bc41fceff43",
   "metadata": {},
   "source": [
    "2. $c_{i,j}$의 확률밀도함수는 각각 $\\rho_1, \\rho_2, \\rho_3$이다.\n",
    "\n",
    "s.t $\\rho_k = \\mu_k N(c_{i,j}: \\eta_k, \\phi_k)$"
   ]
  },
  {
   "cell_type": "markdown",
   "id": "45aeec87-98ed-4f8e-b708-cf842cebc246",
   "metadata": {},
   "source": [
    "3. 3번째 mode를 선택한다. 원핫인코딩을 통해서 $c_{i,j} \\to \\beta_{i,j}=[0,0,1]$로 바꾼다.\n",
    "\n",
    "그리고 $\\alpha_{i,j}= \\dfrac{c_{i,j}0 - \\eta_3}{4\\phi_3}$ 가중치를 곱한다."
   ]
  },
  {
   "cell_type": "markdown",
   "id": "365bda74-7cc3-4f54-95e9-bd1597032c02",
   "metadata": {},
   "source": [
    "연속형과 이산형 열들을 바꿔준다."
   ]
  },
  {
   "cell_type": "markdown",
   "id": "a0a82bdf-3cc6-47f8-8184-c4ee5b84fc8e",
   "metadata": {},
   "source": [
    "$r_j = \\alpha_{1,j}\\oplus \\beta_{1,j}\\oplus \\dots \\oplus \\alpha_{N_{c,j}} \\oplus \\beta_{N_{c,j}} \\oplus d_{1,j} \\oplus \\dots \\oplus d_{N_{d,j}}$ "
   ]
  },
  {
   "cell_type": "markdown",
   "id": "48fc0189-c127-4be5-84d6-946e8535953e",
   "metadata": {},
   "source": [
    "## Conditional Generator and Training-by-Sampling"
   ]
  },
  {
   "cell_type": "markdown",
   "id": "d8e55f74-1312-4d6d-90d0-fccdd1b729aa",
   "metadata": {},
   "source": [
    "***class imbalance***\n",
    "\n",
    "만약 훈련 데이터가 랜덤샘플에서 훈련된다면 열은 적은카테고리를 가지고 있는 분류를 충분히 대표할수 없다."
   ]
  },
  {
   "cell_type": "markdown",
   "id": "07a94dc3-fc0e-47be-88c0-0722b45e6de3",
   "metadata": {},
   "source": [
    "이 문제를 the conditional vector, the generator loss, the training-by-sampling method를 이용해 해결하자."
   ]
  },
  {
   "cell_type": "markdown",
   "id": "00280bf0-138e-41bb-943e-f438d9b7a8ab",
   "metadata": {},
   "source": [
    "![](figure2.png)"
   ]
  },
  {
   "cell_type": "markdown",
   "id": "c8cb40e0-4f95-4c02-8504-f69f799d9408",
   "metadata": {},
   "source": [
    "### Conditional vector"
   ]
  },
  {
   "cell_type": "markdown",
   "id": "7e3692c6-3b1b-43c5-bf03-c00f07230b06",
   "metadata": {},
   "source": [
    "이산형 분포인 $D_{N_d}$를 원핫인코딩을 통해 $d_{N_d}$로 바꾼다.\n",
    "\n",
    "For instance, for two discrete columns,D1 = f1, 2, 3g and D2 = f1, 2g,the condition (D2 = 1) is expressed by the mask vectors m1 = [0, 0, 0] and m2 = [1, 0]; so cond = [0, 0, 0, 1, 0]."
   ]
  },
  {
   "cell_type": "markdown",
   "id": "9911676d-f63c-4099-91a9-77aa1d1700b9",
   "metadata": {},
   "source": [
    "### Generator loss"
   ]
  },
  {
   "cell_type": "markdown",
   "id": "be43c49c-8edd-42fc-b684-8edf02a69d5e",
   "metadata": {},
   "source": [
    "### Training-by-sampling"
   ]
  },
  {
   "cell_type": "markdown",
   "id": "9e08cc6b-bb9c-4b0d-83f1-38baea908c9c",
   "metadata": {},
   "source": [
    "`-` Figure2\n",
    "\n",
    "$m_i^{(k)} = I(if i=i^* \\  and \\ k=k^*)$\n",
    "\n",
    "1. $D_2$ 열을 선택한다. 즉 $i^*=2$이다.\n",
    "\n",
    "2. $D_2$에서 첫번째를 선택한다. 즉 $k^*=1$이다.\n",
    "\n",
    "3. $m_1=[0,0,0], m_2=[1,0], cond=[0,0,0,1,0]$\n"
   ]
  },
  {
   "cell_type": "code",
   "execution_count": null,
   "id": "79c08ba3-d792-41a0-8797-dfe842c68cda",
   "metadata": {},
   "outputs": [],
   "source": []
  },
  {
   "cell_type": "code",
   "execution_count": null,
   "id": "42b2a292-09da-4a2e-8c01-c57ab2dcb8f7",
   "metadata": {},
   "outputs": [],
   "source": []
  },
  {
   "cell_type": "markdown",
   "id": "24026f51-0992-4832-a90a-a74b2ff24bf1",
   "metadata": {},
   "source": [
    "## Network Structure"
   ]
  },
  {
   "cell_type": "markdown",
   "id": "69ff0e20-600c-4307-b76f-262f82683902",
   "metadata": {},
   "source": [
    "### generator $\\mathbb{g}(z,cond)$"
   ]
  },
  {
   "cell_type": "markdown",
   "id": "7cb15e42-27f0-4f3d-afc4-7d51f232368b",
   "metadata": {},
   "source": [
    "- $h_0 = z \\oplus cond$\n",
    "\n",
    "- $h_1 = h_0 \\oplus ReLU(BN(FC_{|cond|+|z| \\to 256}(h_0)))$\n",
    "\n",
    "- $h_2 = h_1 \\oplus ReLU(BN(FC_{|cond|+|z|+256 \\to 256}(h_1)))$\n",
    "\n",
    "- $\\widehat \\alpha_i = tanh(FC_{|cond|+|z|+512 \\to 1}(h_2)),  \\ 1 \\leq i \\leq N_c$\n",
    "\n",
    "- $\\widehat \\beta_i = gumbel_{0.2}(FC_{|cond|+|z|+512 \\to m_i} (h_2)),  \\ 1 \\leq i \\leq N_c$\n",
    "\n",
    "- $\\widehat d_i = gumbel_{0.2}(FC_{|cond|+|z|+512 \\to |D_i|}(h_2)),  \\ 1 \\leq i \\leq N_c$"
   ]
  },
  {
   "cell_type": "markdown",
   "id": "e9a7e6c9-a221-4914-b555-778ea52e6f4d",
   "metadata": {},
   "source": [
    "### critic $C(r_1,\\dots,r_{10},cond_1,\\dots,cond_{10})$"
   ]
  },
  {
   "cell_type": "markdown",
   "id": "a1a8e082-b563-4d78-96cf-6b4609fd9bd3",
   "metadata": {},
   "source": [
    "`-` use PacGAN with 10 samples in each pac to prevent mode collapse"
   ]
  },
  {
   "cell_type": "markdown",
   "id": "8bdf67ca-480e-48d0-8c84-8c8636bf5187",
   "metadata": {},
   "source": [
    "- $h_0 = r_1 \\oplus \\dots \\oplus r_{10} \\oplus cond_1  \\oplus \\dots  \\oplus cond_{10}$\n",
    "\n",
    "- $h_1 = drop(leaky_{0.2}(FC_{10|r|+10|cond| \\to 256}(h_0)))$\n",
    "\n",
    "- $h_2 = drop(leaky_{0.2}(FC_{256 \\to 256}(h_1)))$\n",
    "\n",
    "- $C(\\cdot) = FC_{256 \\to 1}(h_2)$"
   ]
  },
  {
   "cell_type": "markdown",
   "id": "69d40160-4cb1-4db6-9c7b-b2a14b7de1bb",
   "metadata": {},
   "source": [
    "Adam optimaizer 사용한 학습률 $2·10^{-4}$"
   ]
  },
  {
   "cell_type": "markdown",
   "id": "f6dbf232-1eb6-4fe8-b35c-d714be3afd4d",
   "metadata": {},
   "source": [
    "## TVAE Model"
   ]
  },
  {
   "cell_type": "markdown",
   "id": "225ce373-026f-4ba4-ac72-4fbee49363be",
   "metadata": {},
   "source": [
    "`-` TVAE generator"
   ]
  },
  {
   "cell_type": "markdown",
   "id": "01725de9-c802-4a84-940d-3945492a0709",
   "metadata": {},
   "source": [
    "- $h_1 = ReLU(FC_{128 \\to 128}(z_j))$\n",
    "\n",
    "- $h_2 = ReLU(FC_{128 \\to 128}(h_1))$\n",
    "\n",
    "- $\\bar \\alpha _{i,j} = tanh(FC_{128 \\to 1}(h_2)) \\ , \\ 1 \\leq i \\leq N_c$\n",
    "\n",
    "- $\\widehat \\alpha_{i,j} \\sim N(\\bar \\alpha_{i,j} , \\delta_i) \\ , \\ 1 \\leq i \\leq N_c$\n",
    "\n",
    "- $\\widehat \\beta_{i,j} \\sim softmax(FC_{128 \\to m_i} (h_2)) \\ , \\ 1 \\leq i \\leq N_c$\n",
    "\n",
    "- $\\widehat d_{i,j} \\sim  softmax(FC_{128 \\to |D_i|}(h_2)) \\ , \\ 1 \\leq i \\leq N_d$\n",
    "\n",
    "- $p_\\theta(r_j|z_j) = \\Pi_{i=1}^{N_c} \\mathbb{P}(\\widehat \\alpha_{i,j} = \\alpha_{i,j}) \\Pi_{i=1}^{N_c} \\mathbb{P}(\\widehat \\beta_{i,j} = \\beta_{i,j}) \\Pi_{i=1}^{N_d} \\mathbb{P}(\\widehat \\alpha_{i,j} = \\alpha_{i,j})$"
   ]
  },
  {
   "cell_type": "markdown",
   "id": "31e13c49-e6d9-424e-a952-c73f65f9ffbf",
   "metadata": {},
   "source": [
    "$\\widehat \\alpha_{i,j}, \\widehat \\beta_{i,j}, \\widehat d_{i,j}$ : random variable\n",
    "\n",
    "$p_\\theta(r_j|z_j)$ : joint distribuion"
   ]
  },
  {
   "cell_type": "markdown",
   "id": "01b372c6-07d0-4de6-8246-bde4b04090db",
   "metadata": {},
   "source": [
    "TVAE를 Adam으로 학습한 학습률: $1e^{-3}$"
   ]
  },
  {
   "cell_type": "markdown",
   "id": "a74eb740-6e51-429a-8d2a-e0dbb28017af",
   "metadata": {},
   "source": [
    "# Benchmarking Synthetic Data Generation Algorithms"
   ]
  },
  {
   "cell_type": "markdown",
   "id": "e33b22bb-920b-4bf9-bc65-888b69a6d807",
   "metadata": {},
   "source": [
    "## Baselines and Datasets"
   ]
  },
  {
   "cell_type": "markdown",
   "id": "e41b65b4-ce2f-4136-8173-5e63d3455711",
   "metadata": {},
   "source": [
    "### simulated data"
   ]
  },
  {
   "cell_type": "markdown",
   "id": "121c10a5-71aa-4fc4-82e6-8129d587b21a",
   "metadata": {},
   "source": [
    "- 오라클 S로부터 $T_{train}, T_{test}$을 만든다.\n",
    "                        \n",
    "- 이 오라클은 가우시안 혼합 모델 또는 베이지안 네트워크이다.\n",
    "                        \n",
    "- GridR:각 모드에 랜덤 오프셋을 추가\n",
    "                        \n",
    "- 베이지안 네트워크:  alarm, child, asia, insurance를 사용                        \n",
    "                        "
   ]
  },
  {
   "cell_type": "markdown",
   "id": "2f051b0e-3e67-4df8-a37a-8877e5074511",
   "metadata": {},
   "source": [
    "### real datasets"
   ]
  },
  {
   "cell_type": "markdown",
   "id": "b84a1a3b-7f8a-4a36-9798-cc36f40b4d88",
   "metadata": {},
   "source": [
    "- UCI머신러닝에서 사용되는 6개 사용\n",
    "\n",
    "- adult, census, covertype, intrusion,news\n",
    "\n",
    "- MNIST 사용"
   ]
  },
  {
   "cell_type": "markdown",
   "id": "7e97c38e-762e-41df-96a3-25a3ad2ce241",
   "metadata": {},
   "source": [
    "## Evaluation Metrics and Framework"
   ]
  },
  {
   "cell_type": "markdown",
   "id": "a3501afc-aa26-4bb8-bfef-6e42106d0e02",
   "metadata": {},
   "source": [
    "![](figure3.png)"
   ]
  },
  {
   "cell_type": "markdown",
   "id": "5f23cbb1-6d99-4eff-b882-23b58efe02f6",
   "metadata": {},
   "source": [
    "### Likelihood fitness metric"
   ]
  },
  {
   "cell_type": "markdown",
   "id": "847ac632-72fd-4969-9e21-87a52b5d0c6b",
   "metadata": {},
   "source": [
    "- simulated data 사용\n",
    "\n",
    "- $T_{syn} \\to L_{syn},T_{test} \\to L_{test}, $\n",
    "\n",
    "- $L_{syn}$이 과적합되는 문제를 해결하기 위하 $L_{test}$를 사용"
   ]
  },
  {
   "cell_type": "markdown",
   "id": "de376b20-6874-45e2-8873-c0ca0bdc1ba8",
   "metadata": {},
   "source": [
    "### Machine learning efficacy"
   ]
  },
  {
   "cell_type": "markdown",
   "id": "d1287bc8-fec2-401a-ae4d-fb3d033a4ba4",
   "metadata": {},
   "source": [
    "- real dataset 사용"
   ]
  },
  {
   "cell_type": "markdown",
   "id": "cfa17be7-fa36-4640-94cc-8df220edb440",
   "metadata": {},
   "source": [
    "- accruracy와 F1, $\\mathbb{R^2}$ 측정"
   ]
  },
  {
   "cell_type": "code",
   "execution_count": null,
   "id": "0b3e54b5-66c3-4269-afbb-a458492c5337",
   "metadata": {},
   "outputs": [],
   "source": []
  },
  {
   "cell_type": "markdown",
   "id": "6cc47026-d115-4323-a2d9-9d5ddce5fcf7",
   "metadata": {},
   "source": [
    "## Benchmarking Results"
   ]
  },
  {
   "cell_type": "markdown",
   "id": "09a85e35-1746-437e-bb29-ab73a353a447",
   "metadata": {},
   "source": [
    "![](figure4.png)"
   ]
  },
  {
   "cell_type": "markdown",
   "id": "6d6053df-b8fc-424c-983d-2d7394b00688",
   "metadata": {},
   "source": [
    "- GM Sim : Gaussian mixture\n",
    "\n",
    "- BN Sim : Bayesian networks\n",
    "\n",
    "- TVAE가 CTGAN보다 우수한 편이지만 privacy해결은 못하므로 privacy생각하면 CTGAN사용.."
   ]
  },
  {
   "cell_type": "markdown",
   "id": "8f487b34-6ed0-4138-b43b-dabcab25ac13",
   "metadata": {},
   "source": [
    "# Dataset Details"
   ]
  },
  {
   "cell_type": "markdown",
   "id": "6cbeaf08-8070-4054-b393-86cf5fff2e45",
   "metadata": {},
   "source": [
    "– Adult: http://archive.ics.uci.edu/ml/datasets/adult\n",
    "\n",
    "– Census: https://archive.ics.uci.edu/ml/datasets/census+income\n",
    "\n",
    "– Covertype: https://archive.ics.uci.edu/ml/datasets/covertype\n",
    "\n",
    "– Credit: https://www.kaggle.com/mlg-ulb/creditcardfraud\n",
    "\n",
    "– Intrusion: http://archive.ics.uci.edu/ml/datasets/kdd+cup+1999+data\n",
    "\n",
    "– MNIST: http://yann.lecun.com/exdb/mnist/index.html\n",
    "\n",
    "– News: https://archive.ics.uci.edu/ml/datasets/online+news+popularity"
   ]
  },
  {
   "cell_type": "markdown",
   "id": "7068cf26-8d7a-4ad5-a2a8-1ba76c773079",
   "metadata": {},
   "source": [
    "# 사용예시"
   ]
  },
  {
   "cell_type": "code",
   "execution_count": 10,
   "id": "4b399694-d88d-44dd-931d-65afe8d9684f",
   "metadata": {},
   "outputs": [],
   "source": [
    "#pip install ctgan"
   ]
  },
  {
   "cell_type": "code",
   "execution_count": 8,
   "id": "dcc0200e-a84a-4fb3-a765-5efc6c65cb77",
   "metadata": {},
   "outputs": [],
   "source": [
    "from ctgan import CTGAN\n",
    "from ctgan import load_demo\n",
    "\n",
    "real_data = load_demo()\n",
    "\n",
    "# Names of the columns that are discrete\n",
    "discrete_columns = [\n",
    "    'workclass',\n",
    "    'education',\n",
    "    'marital-status',\n",
    "    'occupation',\n",
    "    'relationship',\n",
    "    'race',\n",
    "    'sex',\n",
    "    'native-country',\n",
    "    'income'\n",
    "]\n",
    "\n",
    "ctgan = CTGAN(epochs=10)\n",
    "ctgan.fit(real_data, discrete_columns)\n",
    "\n",
    "# Create synthetic data\n",
    "synthetic_data = ctgan.sample(1000)"
   ]
  },
  {
   "cell_type": "code",
   "execution_count": 9,
   "id": "74db7996-1c2a-4602-b542-64df4a3a2187",
   "metadata": {},
   "outputs": [
    {
     "data": {
      "text/html": [
       "<div>\n",
       "<style scoped>\n",
       "    .dataframe tbody tr th:only-of-type {\n",
       "        vertical-align: middle;\n",
       "    }\n",
       "\n",
       "    .dataframe tbody tr th {\n",
       "        vertical-align: top;\n",
       "    }\n",
       "\n",
       "    .dataframe thead th {\n",
       "        text-align: right;\n",
       "    }\n",
       "</style>\n",
       "<table border=\"1\" class=\"dataframe\">\n",
       "  <thead>\n",
       "    <tr style=\"text-align: right;\">\n",
       "      <th></th>\n",
       "      <th>age</th>\n",
       "      <th>workclass</th>\n",
       "      <th>fnlwgt</th>\n",
       "      <th>education</th>\n",
       "      <th>education-num</th>\n",
       "      <th>marital-status</th>\n",
       "      <th>occupation</th>\n",
       "      <th>relationship</th>\n",
       "      <th>race</th>\n",
       "      <th>sex</th>\n",
       "      <th>capital-gain</th>\n",
       "      <th>capital-loss</th>\n",
       "      <th>hours-per-week</th>\n",
       "      <th>native-country</th>\n",
       "      <th>income</th>\n",
       "    </tr>\n",
       "  </thead>\n",
       "  <tbody>\n",
       "    <tr>\n",
       "      <th>0</th>\n",
       "      <td>21</td>\n",
       "      <td>Private</td>\n",
       "      <td>168287</td>\n",
       "      <td>HS-grad</td>\n",
       "      <td>14</td>\n",
       "      <td>Married-civ-spouse</td>\n",
       "      <td>Transport-moving</td>\n",
       "      <td>Unmarried</td>\n",
       "      <td>Black</td>\n",
       "      <td>Male</td>\n",
       "      <td>27</td>\n",
       "      <td>2</td>\n",
       "      <td>47</td>\n",
       "      <td>United-States</td>\n",
       "      <td>&lt;=50K</td>\n",
       "    </tr>\n",
       "    <tr>\n",
       "      <th>1</th>\n",
       "      <td>40</td>\n",
       "      <td>Local-gov</td>\n",
       "      <td>129105</td>\n",
       "      <td>HS-grad</td>\n",
       "      <td>14</td>\n",
       "      <td>Married-civ-spouse</td>\n",
       "      <td>Machine-op-inspct</td>\n",
       "      <td>Husband</td>\n",
       "      <td>Other</td>\n",
       "      <td>Female</td>\n",
       "      <td>127</td>\n",
       "      <td>1503</td>\n",
       "      <td>40</td>\n",
       "      <td>United-States</td>\n",
       "      <td>&lt;=50K</td>\n",
       "    </tr>\n",
       "    <tr>\n",
       "      <th>2</th>\n",
       "      <td>19</td>\n",
       "      <td>State-gov</td>\n",
       "      <td>182904</td>\n",
       "      <td>Some-college</td>\n",
       "      <td>10</td>\n",
       "      <td>Divorced</td>\n",
       "      <td>Adm-clerical</td>\n",
       "      <td>Wife</td>\n",
       "      <td>White</td>\n",
       "      <td>Male</td>\n",
       "      <td>-17</td>\n",
       "      <td>-4</td>\n",
       "      <td>40</td>\n",
       "      <td>United-States</td>\n",
       "      <td>&lt;=50K</td>\n",
       "    </tr>\n",
       "    <tr>\n",
       "      <th>3</th>\n",
       "      <td>34</td>\n",
       "      <td>Self-emp-inc</td>\n",
       "      <td>203270</td>\n",
       "      <td>1st-4th</td>\n",
       "      <td>1</td>\n",
       "      <td>Never-married</td>\n",
       "      <td>Prof-specialty</td>\n",
       "      <td>Not-in-family</td>\n",
       "      <td>White</td>\n",
       "      <td>Male</td>\n",
       "      <td>121</td>\n",
       "      <td>1918</td>\n",
       "      <td>29</td>\n",
       "      <td>United-States</td>\n",
       "      <td>&lt;=50K</td>\n",
       "    </tr>\n",
       "    <tr>\n",
       "      <th>4</th>\n",
       "      <td>23</td>\n",
       "      <td>Private</td>\n",
       "      <td>181278</td>\n",
       "      <td>10th</td>\n",
       "      <td>3</td>\n",
       "      <td>Never-married</td>\n",
       "      <td>?</td>\n",
       "      <td>Husband</td>\n",
       "      <td>White</td>\n",
       "      <td>Male</td>\n",
       "      <td>8805</td>\n",
       "      <td>6</td>\n",
       "      <td>38</td>\n",
       "      <td>China</td>\n",
       "      <td>&lt;=50K</td>\n",
       "    </tr>\n",
       "    <tr>\n",
       "      <th>...</th>\n",
       "      <td>...</td>\n",
       "      <td>...</td>\n",
       "      <td>...</td>\n",
       "      <td>...</td>\n",
       "      <td>...</td>\n",
       "      <td>...</td>\n",
       "      <td>...</td>\n",
       "      <td>...</td>\n",
       "      <td>...</td>\n",
       "      <td>...</td>\n",
       "      <td>...</td>\n",
       "      <td>...</td>\n",
       "      <td>...</td>\n",
       "      <td>...</td>\n",
       "      <td>...</td>\n",
       "    </tr>\n",
       "    <tr>\n",
       "      <th>995</th>\n",
       "      <td>28</td>\n",
       "      <td>State-gov</td>\n",
       "      <td>29365</td>\n",
       "      <td>Some-college</td>\n",
       "      <td>5</td>\n",
       "      <td>Married-civ-spouse</td>\n",
       "      <td>Adm-clerical</td>\n",
       "      <td>Husband</td>\n",
       "      <td>Asian-Pac-Islander</td>\n",
       "      <td>Male</td>\n",
       "      <td>16</td>\n",
       "      <td>-6</td>\n",
       "      <td>40</td>\n",
       "      <td>United-States</td>\n",
       "      <td>&gt;50K</td>\n",
       "    </tr>\n",
       "    <tr>\n",
       "      <th>996</th>\n",
       "      <td>27</td>\n",
       "      <td>Private</td>\n",
       "      <td>130995</td>\n",
       "      <td>HS-grad</td>\n",
       "      <td>1</td>\n",
       "      <td>Married-civ-spouse</td>\n",
       "      <td>Exec-managerial</td>\n",
       "      <td>Husband</td>\n",
       "      <td>White</td>\n",
       "      <td>Female</td>\n",
       "      <td>35</td>\n",
       "      <td>2</td>\n",
       "      <td>49</td>\n",
       "      <td>Canada</td>\n",
       "      <td>&lt;=50K</td>\n",
       "    </tr>\n",
       "    <tr>\n",
       "      <th>997</th>\n",
       "      <td>35</td>\n",
       "      <td>Private</td>\n",
       "      <td>128850</td>\n",
       "      <td>Some-college</td>\n",
       "      <td>3</td>\n",
       "      <td>Married-spouse-absent</td>\n",
       "      <td>Adm-clerical</td>\n",
       "      <td>Unmarried</td>\n",
       "      <td>White</td>\n",
       "      <td>Female</td>\n",
       "      <td>119</td>\n",
       "      <td>-7</td>\n",
       "      <td>40</td>\n",
       "      <td>United-States</td>\n",
       "      <td>&lt;=50K</td>\n",
       "    </tr>\n",
       "    <tr>\n",
       "      <th>998</th>\n",
       "      <td>28</td>\n",
       "      <td>Private</td>\n",
       "      <td>188708</td>\n",
       "      <td>HS-grad</td>\n",
       "      <td>10</td>\n",
       "      <td>Married-spouse-absent</td>\n",
       "      <td>Prof-specialty</td>\n",
       "      <td>Not-in-family</td>\n",
       "      <td>Black</td>\n",
       "      <td>Male</td>\n",
       "      <td>58</td>\n",
       "      <td>-1</td>\n",
       "      <td>40</td>\n",
       "      <td>United-States</td>\n",
       "      <td>&lt;=50K</td>\n",
       "    </tr>\n",
       "    <tr>\n",
       "      <th>999</th>\n",
       "      <td>30</td>\n",
       "      <td>Private</td>\n",
       "      <td>146128</td>\n",
       "      <td>Some-college</td>\n",
       "      <td>2</td>\n",
       "      <td>Married-civ-spouse</td>\n",
       "      <td>Sales</td>\n",
       "      <td>Husband</td>\n",
       "      <td>White</td>\n",
       "      <td>Female</td>\n",
       "      <td>85</td>\n",
       "      <td>0</td>\n",
       "      <td>26</td>\n",
       "      <td>United-States</td>\n",
       "      <td>&lt;=50K</td>\n",
       "    </tr>\n",
       "  </tbody>\n",
       "</table>\n",
       "<p>1000 rows × 15 columns</p>\n",
       "</div>"
      ],
      "text/plain": [
       "     age      workclass  fnlwgt      education  education-num  \\\n",
       "0     21        Private  168287        HS-grad             14   \n",
       "1     40      Local-gov  129105        HS-grad             14   \n",
       "2     19      State-gov  182904   Some-college             10   \n",
       "3     34   Self-emp-inc  203270        1st-4th              1   \n",
       "4     23        Private  181278           10th              3   \n",
       "..   ...            ...     ...            ...            ...   \n",
       "995   28      State-gov   29365   Some-college              5   \n",
       "996   27        Private  130995        HS-grad              1   \n",
       "997   35        Private  128850   Some-college              3   \n",
       "998   28        Private  188708        HS-grad             10   \n",
       "999   30        Private  146128   Some-college              2   \n",
       "\n",
       "             marital-status          occupation    relationship  \\\n",
       "0        Married-civ-spouse    Transport-moving       Unmarried   \n",
       "1        Married-civ-spouse   Machine-op-inspct         Husband   \n",
       "2                  Divorced        Adm-clerical            Wife   \n",
       "3             Never-married      Prof-specialty   Not-in-family   \n",
       "4             Never-married                   ?         Husband   \n",
       "..                      ...                 ...             ...   \n",
       "995      Married-civ-spouse        Adm-clerical         Husband   \n",
       "996      Married-civ-spouse     Exec-managerial         Husband   \n",
       "997   Married-spouse-absent        Adm-clerical       Unmarried   \n",
       "998   Married-spouse-absent      Prof-specialty   Not-in-family   \n",
       "999      Married-civ-spouse               Sales         Husband   \n",
       "\n",
       "                    race      sex  capital-gain  capital-loss  hours-per-week  \\\n",
       "0                  Black     Male            27             2              47   \n",
       "1                  Other   Female           127          1503              40   \n",
       "2                  White     Male           -17            -4              40   \n",
       "3                  White     Male           121          1918              29   \n",
       "4                  White     Male          8805             6              38   \n",
       "..                   ...      ...           ...           ...             ...   \n",
       "995   Asian-Pac-Islander     Male            16            -6              40   \n",
       "996                White   Female            35             2              49   \n",
       "997                White   Female           119            -7              40   \n",
       "998                Black     Male            58            -1              40   \n",
       "999                White   Female            85             0              26   \n",
       "\n",
       "     native-country  income  \n",
       "0     United-States   <=50K  \n",
       "1     United-States   <=50K  \n",
       "2     United-States   <=50K  \n",
       "3     United-States   <=50K  \n",
       "4             China   <=50K  \n",
       "..              ...     ...  \n",
       "995   United-States    >50K  \n",
       "996          Canada   <=50K  \n",
       "997   United-States   <=50K  \n",
       "998   United-States   <=50K  \n",
       "999   United-States   <=50K  \n",
       "\n",
       "[1000 rows x 15 columns]"
      ]
     },
     "execution_count": 9,
     "metadata": {},
     "output_type": "execute_result"
    }
   ],
   "source": [
    "synthetic_data"
   ]
  },
  {
   "cell_type": "code",
   "execution_count": null,
   "id": "6b1ce2f5-9af8-4d9a-98ff-2f4eec0268b5",
   "metadata": {},
   "outputs": [],
   "source": []
  }
 ],
 "metadata": {
  "kernelspec": {
   "display_name": "Python 3",
   "language": "python",
   "name": "python3"
  },
  "language_info": {
   "codemirror_mode": {
    "name": "ipython",
    "version": 3
   },
   "file_extension": ".py",
   "mimetype": "text/x-python",
   "name": "python",
   "nbconvert_exporter": "python",
   "pygments_lexer": "ipython3",
   "version": "3.8.16"
  }
 },
 "nbformat": 4,
 "nbformat_minor": 5
}
