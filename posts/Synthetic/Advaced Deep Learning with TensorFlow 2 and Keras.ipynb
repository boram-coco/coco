{
 "cells": [
  {
   "cell_type": "raw",
   "id": "d8110fd8-4702-46ab-bee0-fc8631758e05",
   "metadata": {},
   "source": [
    "---\n",
    "title: \"Advanced Deep Learning with TensorFlow 2 and Keras(-ing)\"\n",
    "author: \"김보람\"\n",
    "date: \"03/22/2023\"\n",
    "categories:\n",
    "  - 오토인코더\n",
    "  - AutoEncoder\n",
    "  - GAN\n",
    "---"
   ]
  },
  {
   "cell_type": "code",
   "execution_count": 1,
   "id": "aeedcc71-0fa9-4e19-8f59-b4fc9f65eeef",
   "metadata": {},
   "outputs": [],
   "source": [
    "import tensorflow as tf"
   ]
  },
  {
   "cell_type": "code",
   "execution_count": 2,
   "id": "16d77e22-a9a7-4b85-85e4-9646754f83ba",
   "metadata": {},
   "outputs": [
    {
     "name": "stdout",
     "output_type": "stream",
     "text": [
      "2.11.0\n"
     ]
    }
   ],
   "source": [
    "print(tf.__version__)"
   ]
  },
  {
   "cell_type": "code",
   "execution_count": 3,
   "id": "8d58ca7d-fb3f-4473-9018-4def070c2a01",
   "metadata": {},
   "outputs": [
    {
     "name": "stdout",
     "output_type": "stream",
     "text": [
      "1e-07\n"
     ]
    }
   ],
   "source": [
    "from tensorflow.keras import backend as K\n",
    "print(K.epsilon())"
   ]
  },
  {
   "cell_type": "markdown",
   "id": "d5fcb03e-59ad-4b5f-a4dc-107f9e43c23d",
   "metadata": {},
   "source": [
    "# ref"
   ]
  },
  {
   "cell_type": "markdown",
   "id": "2c662e17-2b4e-4d22-8b66-62e326234b9a",
   "metadata": {},
   "source": [
    "[Advanced Deep Learning with TensorFlow 2 and Keras](https://product.kyobobook.co.kr/detail/S000001982273)\n",
    " : 텐서플로우 2와 케라스를 이용한 고급 딥러닝\n",
    "- DL, GAN, VAE 심층 RL, 비지도 학습, 객체 감지 및 분할 등 적용\n",
    "- [git hub](https://github.com/PacktPublishing/Advanced-Deep-Learning-with-Keras)"
   ]
  },
  {
   "cell_type": "markdown",
   "id": "c9f0ce09-6118-470f-95b9-4182b447c3fd",
   "metadata": {
    "tags": []
   },
   "source": [
    "# 1장 Keras를 이용한 고급 심층 학습 소개"
   ]
  },
  {
   "cell_type": "markdown",
   "id": "c5cbfd83-e654-4463-a88f-0929c711f989",
   "metadata": {},
   "source": [
    "## MLP"
   ]
  },
  {
   "cell_type": "markdown",
   "id": "7f81af23-cf41-4d93-ae5e-36717409c480",
   "metadata": {},
   "source": [
    "- 멀티레이어 퍼셉트론(Multilayer Perceptrom)"
   ]
  },
  {
   "cell_type": "markdown",
   "id": "fed27b6f-8233-4b0f-a398-0f822e1c7785",
   "metadata": {},
   "source": [
    ": 완전 연결 네트워크, 심층 피드-포워드망, 피드-포워드 신경망"
   ]
  },
  {
   "cell_type": "markdown",
   "id": "96b77072-19af-41e1-b251-9a64e2ea54c0",
   "metadata": {},
   "source": [
    "## CNN"
   ]
  },
  {
   "cell_type": "markdown",
   "id": "82ca13d2-6cb5-40dd-941f-357ec219df28",
   "metadata": {},
   "source": [
    "## RNN"
   ]
  },
  {
   "cell_type": "markdown",
   "id": "37b242b9-8347-42b3-9583-e4979aca628f",
   "metadata": {},
   "source": [
    "# 3장 오토인코더"
   ]
  },
  {
   "cell_type": "markdown",
   "id": "d455c4ce-c106-4826-801c-e05950c991ca",
   "metadata": {},
   "source": [
    "`-` 인코더: 입력 $x$ 를 낮은 차원의 텐서 벡터 $z=f(x)$로 변환"
   ]
  },
  {
   "cell_type": "markdown",
   "id": "1919c50c-d791-4e38-8277-c563277a5532",
   "metadata": {},
   "source": [
    "- MNIST숫자에서 학습할 특징: 필기 스타일, 기울기 각도, 획의 둥근 정도, 두께 등"
   ]
  },
  {
   "cell_type": "markdown",
   "id": "7f793fed-b63f-4104-a4fd-891cb2906a7f",
   "metadata": {},
   "source": [
    "`-` 디코더: 잠재 벡터, $g(z) = \\tilde{x}$ 로부터 입력 복원\n",
    "\n",
    "- $\\tilde{x}$ 가 $ x $와 가까워지도록 하는것이 목표"
   ]
  },
  {
   "cell_type": "markdown",
   "id": "fb12b73f-3e77-48a6-beeb-98769f6828cb",
   "metadata": {},
   "source": [
    "`-` 인코더와 디코더는 비선형 함수"
   ]
  },
  {
   "cell_type": "markdown",
   "id": "f6411e43-ab2a-46dd-b052-17143d5c76d5",
   "metadata": {},
   "source": [
    "`-` 오토인코더를 MLP또는 CNN으로 구현 가능\n",
    "\n",
    "`-` 역전파를 통한 손실 함수를 최소화하여 훈련\n",
    "\n",
    "\n",
    "- 오토 인코더의 손실 함수\n",
    "\n",
    "$$L = -log p(x|z)$$"
   ]
  },
  {
   "cell_type": "markdown",
   "id": "4f27bfae-0622-47f7-8287-2e39b9d8126f",
   "metadata": {},
   "source": [
    "![](data:image/png;base64,iVBORw0KGgoAAAANSUhEUgAAA1gAAAC5CAIAAAC6DQlFAAAACXBIWXMAAA7EAAAOxAGVKw4bAAAZ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)"
   ]
  },
  {
   "cell_type": "markdown",
   "id": "44b3327b-11e8-49e4-89a0-fdce5e51a3dd",
   "metadata": {},
   "source": [
    "$$ L(x, \\tilde{x}) = MSE = \\frac{1}{m} \\sum _{i=1} ^{i=m} (x _{i} - {\\tilde{x _{i}}} ) ^{2}$$"
   ]
  },
  {
   "cell_type": "markdown",
   "id": "b5fd2209-8d6e-49f1-a226-02d0811568d7",
   "metadata": {},
   "source": [
    "- m: 출력의 차원\n",
    "(MNIST에서 m=폭x높이x채널=28x28x1=784)"
   ]
  },
  {
   "cell_type": "markdown",
   "id": "3da6f578-06f2-49f6-a95b-01c5d3cafdf0",
   "metadata": {},
   "source": [
    "## 오토인코더 구축"
   ]
  },
  {
   "cell_type": "code",
   "execution_count": 4,
   "id": "528cfd2c-ef14-4f6f-9e6d-673135176b44",
   "metadata": {},
   "outputs": [
    {
     "name": "stdout",
     "output_type": "stream",
     "text": [
      "Model: \"encoder\"\n",
      "_________________________________________________________________\n",
      " Layer (type)                Output Shape              Param #   \n",
      "=================================================================\n",
      " encoder_input (InputLayer)  [(None, 28, 28, 1)]       0         \n",
      "                                                                 \n",
      " conv2d (Conv2D)             (None, 14, 14, 32)        320       \n",
      "                                                                 \n",
      " conv2d_1 (Conv2D)           (None, 7, 7, 64)          18496     \n",
      "                                                                 \n",
      " flatten (Flatten)           (None, 3136)              0         \n",
      "                                                                 \n",
      " latent_vector (Dense)       (None, 16)                50192     \n",
      "                                                                 \n",
      "=================================================================\n",
      "Total params: 69,008\n",
      "Trainable params: 69,008\n",
      "Non-trainable params: 0\n",
      "_________________________________________________________________\n",
      "You must install pydot (`pip install pydot`) and install graphviz (see instructions at https://graphviz.gitlab.io/download/) for plot_model to work.\n",
      "Model: \"decoder\"\n",
      "_________________________________________________________________\n",
      " Layer (type)                Output Shape              Param #   \n",
      "=================================================================\n",
      " decoder_input (InputLayer)  [(None, 16)]              0         \n",
      "                                                                 \n",
      " dense (Dense)               (None, 3136)              53312     \n",
      "                                                                 \n",
      " reshape (Reshape)           (None, 7, 7, 64)          0         \n",
      "                                                                 \n",
      " conv2d_transpose (Conv2DTra  (None, 14, 14, 64)       36928     \n",
      " nspose)                                                         \n",
      "                                                                 \n",
      " conv2d_transpose_1 (Conv2DT  (None, 28, 28, 32)       18464     \n",
      " ranspose)                                                       \n",
      "                                                                 \n",
      " decoder_output (Conv2DTrans  (None, 28, 28, 1)        289       \n",
      " pose)                                                           \n",
      "                                                                 \n",
      "=================================================================\n",
      "Total params: 108,993\n",
      "Trainable params: 108,993\n",
      "Non-trainable params: 0\n",
      "_________________________________________________________________\n",
      "You must install pydot (`pip install pydot`) and install graphviz (see instructions at https://graphviz.gitlab.io/download/) for plot_model to work.\n",
      "Model: \"autoencoder\"\n",
      "_________________________________________________________________\n",
      " Layer (type)                Output Shape              Param #   \n",
      "=================================================================\n",
      " encoder_input (InputLayer)  [(None, 28, 28, 1)]       0         \n",
      "                                                                 \n",
      " encoder (Functional)        (None, 16)                69008     \n",
      "                                                                 \n",
      " decoder (Functional)        (None, 28, 28, 1)         108993    \n",
      "                                                                 \n",
      "=================================================================\n",
      "Total params: 178,001\n",
      "Trainable params: 178,001\n",
      "Non-trainable params: 0\n",
      "_________________________________________________________________\n",
      "You must install pydot (`pip install pydot`) and install graphviz (see instructions at https://graphviz.gitlab.io/download/) for plot_model to work.\n",
      "1875/1875 [==============================] - 11s 6ms/step - loss: 0.0212 - val_loss: 0.0104\n",
      "313/313 [==============================] - 1s 2ms/step\n"
     ]
    },
    {
     "data": {
      "image/png": "[encoded data removed]",
      "text/plain": [
       "<Figure size 432x288 with 1 Axes>"
      ]
     },
     "metadata": {
      "needs_background": "light"
     },
     "output_type": "display_data"
    }
   ],
   "source": [
    "'''Example of autoencoder model on MNIST dataset\n",
    "\n",
    "This autoencoder has modular design. The encoder, decoder and autoencoder\n",
    "are 3 models that share weights. For example, after training the\n",
    "autoencoder, the encoder can be used to  generate latent vectors\n",
    "of input data for low-dim visualization like PCA or TSNE.\n",
    "'''\n",
    "\n",
    "from __future__ import absolute_import\n",
    "from __future__ import division\n",
    "from __future__ import print_function\n",
    "\n",
    "from tensorflow.keras.layers import Dense, Input\n",
    "from tensorflow.keras.layers import Conv2D, Flatten\n",
    "from tensorflow.keras.layers import Reshape, Conv2DTranspose\n",
    "from tensorflow.keras.models import Model\n",
    "from tensorflow.keras.datasets import mnist\n",
    "from tensorflow.keras.utils import plot_model\n",
    "from tensorflow.keras import backend as K\n",
    "\n",
    "import numpy as np\n",
    "import matplotlib.pyplot as plt\n",
    "\n",
    "# load MNIST dataset\n",
    "(x_train, _), (x_test, _) = mnist.load_data()\n",
    "\n",
    "# reshape to (28, 28, 1) and normalize input images\n",
    "image_size = x_train.shape[1]\n",
    "x_train = np.reshape(x_train, [-1, image_size, image_size, 1])\n",
    "x_test = np.reshape(x_test, [-1, image_size, image_size, 1])\n",
    "x_train = x_train.astype('float32') / 255\n",
    "x_test = x_test.astype('float32') / 255\n",
    "\n",
    "# network parameters\n",
    "input_shape = (image_size, image_size, 1)\n",
    "batch_size = 32\n",
    "kernel_size = 3\n",
    "latent_dim = 16\n",
    "# encoder/decoder number of CNN layers and filters per layer\n",
    "layer_filters = [32, 64]\n",
    "\n",
    "# build the autoencoder model\n",
    "# first build the encoder model\n",
    "inputs = Input(shape=input_shape, name='encoder_input')\n",
    "x = inputs\n",
    "# stack of Conv2D(32)-Conv2D(64)\n",
    "for filters in layer_filters:\n",
    "    x = Conv2D(filters=filters,\n",
    "               kernel_size=kernel_size,\n",
    "               activation='relu',\n",
    "               strides=2,\n",
    "               padding='same')(x)\n",
    "\n",
    "# shape info needed to build decoder model\n",
    "# so we don't do hand computation\n",
    "# the input to the decoder's first\n",
    "# Conv2DTranspose will have this shape\n",
    "# shape is (7, 7, 64) which is processed by\n",
    "# the decoder back to (28, 28, 1)\n",
    "shape = K.int_shape(x)\n",
    "\n",
    "# generate latent vector\n",
    "x = Flatten()(x)\n",
    "latent = Dense(latent_dim, name='latent_vector')(x)\n",
    "\n",
    "# instantiate encoder model\n",
    "encoder = Model(inputs,\n",
    "                latent,\n",
    "                name='encoder')\n",
    "encoder.summary()\n",
    "plot_model(encoder,\n",
    "           to_file='encoder.png',\n",
    "           show_shapes=True)\n",
    "\n",
    "# build the decoder model\n",
    "latent_inputs = Input(shape=(latent_dim,), name='decoder_input')\n",
    "# use the shape (7, 7, 64) that was earlier saved\n",
    "x = Dense(shape[1] * shape[2] * shape[3])(latent_inputs)\n",
    "# from vector to suitable shape for transposed conv\n",
    "x = Reshape((shape[1], shape[2], shape[3]))(x)\n",
    "\n",
    "# stack of Conv2DTranspose(64)-Conv2DTranspose(32)\n",
    "for filters in layer_filters[::-1]:\n",
    "    x = Conv2DTranspose(filters=filters,\n",
    "                        kernel_size=kernel_size,\n",
    "                        activation='relu',\n",
    "                        strides=2,\n",
    "                        padding='same')(x)\n",
    "\n",
    "# reconstruct the input\n",
    "outputs = Conv2DTranspose(filters=1,\n",
    "                          kernel_size=kernel_size,\n",
    "                          activation='sigmoid',\n",
    "                          padding='same',\n",
    "                          name='decoder_output')(x)\n",
    "\n",
    "# instantiate decoder model\n",
    "decoder = Model(latent_inputs, outputs, name='decoder')\n",
    "decoder.summary()\n",
    "plot_model(decoder, to_file='decoder.png', show_shapes=True)\n",
    "\n",
    "# autoencoder = encoder + decoder\n",
    "# instantiate autoencoder model\n",
    "autoencoder = Model(inputs,\n",
    "                    decoder(encoder(inputs)),\n",
    "                    name='autoencoder')\n",
    "autoencoder.summary()\n",
    "plot_model(autoencoder,\n",
    "           to_file='autoencoder.png',\n",
    "           show_shapes=True)\n",
    "\n",
    "# Mean Square Error (MSE) loss function, Adam optimizer\n",
    "autoencoder.compile(loss='mse', optimizer='adam')\n",
    "\n",
    "# train the autoencoder\n",
    "autoencoder.fit(x_train,\n",
    "                x_train,\n",
    "                validation_data=(x_test, x_test),\n",
    "                epochs=1,\n",
    "                batch_size=batch_size)\n",
    "\n",
    "# predict the autoencoder output from test data\n",
    "x_decoded = autoencoder.predict(x_test)\n",
    "\n",
    "# display the 1st 8 test input and decoded images\n",
    "imgs = np.concatenate([x_test[:8], x_decoded[:8]])\n",
    "imgs = imgs.reshape((4, 4, image_size, image_size))\n",
    "imgs = np.vstack([np.hstack(i) for i in imgs])\n",
    "plt.figure()\n",
    "plt.axis('off')\n",
    "plt.title('Input: 1st 2 rows, Decoded: last 2 rows')\n",
    "plt.imshow(imgs, interpolation='none', cmap='gray')\n",
    "plt.savefig('input_and_decoded.png')\n",
    "plt.show()"
   ]
  },
  {
   "cell_type": "markdown",
   "id": "fed4d10e-2470-48af-9d9b-809e1c8ad907",
   "metadata": {},
   "source": [
    "- 인코더 모델은 낮은 차원의 잠재 벡터를 생성하기 위해서 Conv2D(32)-Conv2D(64)-Dense(16)으로 구성\n",
    "- 디코더 모델은 Dense(16)-Conv2DTranspose(64)-Conv2DTranspose(32)-Conv2DTranspose(1)으로 구성\n",
    "- 입력은 원본 입력을 복원하기 위한 디코딩된 잠재 벡터"
   ]
  },
  {
   "cell_type": "markdown",
   "id": "df798247-9b94-41a3-a45d-f3e01a9ffe54",
   "metadata": {},
   "source": [
    "## 잠재벡터 시각화"
   ]
  },
  {
   "cell_type": "markdown",
   "id": "3487910d-ad93-4236-930d-00cef4ef9a6f",
   "metadata": {},
   "source": [
    "![](https://github.com/PacktPublishing/Advanced-Deep-Learning-with-Keras/raw/master/chapter3-autoencoders/images/digit_latent_codes.png)"
   ]
  },
  {
   "cell_type": "markdown",
   "id": "513a0243-6719-46fc-860c-a018f22bb832",
   "metadata": {},
   "source": [
    "`-` 잠재 코드 차원\n",
    "\n",
    "- 숫자 0: 왼쪽 아래 사분면\n",
    "- 숫자 1: 오른쪽 위 사분면"
   ]
  },
  {
   "cell_type": "markdown",
   "id": "27045e48-e35a-4454-b344-318b25a53b46",
   "metadata": {},
   "source": [
    "## 노이즈 제거 오토인코더(DAE)"
   ]
  },
  {
   "cell_type": "markdown",
   "id": "81be3d15-2f37-4884-8995-0a61fff042c6",
   "metadata": {},
   "source": [
    "노이즈 제거 Denoising "
   ]
  },
  {
   "cell_type": "markdown",
   "id": "25d31de4-c8a2-4164-a1d2-e819662cf32b",
   "metadata": {},
   "source": [
    "$$ x = x_{orig} + noise $$"
   ]
  },
  {
   "cell_type": "markdown",
   "id": "92bc5e9a-d9ff-41c7-83be-8d5b9166ae73",
   "metadata": {},
   "source": [
    "인코더의 목적: 잠재벡터인 $z$를 생성하는 방법을 찾는 것 $\\to$ 잠재 벡터를 디코더가 MSE와 같은 손실 함수의 비 유사성을 최소화하여 $x_{orig}$로 복원"
   ]
  },
  {
   "cell_type": "markdown",
   "id": "daaf4ab7-639f-4667-b55f-3e9047043c01",
   "metadata": {},
   "source": [
    "$$ L(x_{orig}, \\tilde{x}) = MSE = \\frac{1}{m} \\sum _{i=1} ^{i=m} (x _{origi} - {\\tilde{x _{i}}} ) ^{2}$$"
   ]
  },
  {
   "cell_type": "code",
   "execution_count": 7,
   "id": "4c9d6135-7d41-40d8-9b8a-15a7dca50c06",
   "metadata": {},
   "outputs": [
    {
     "name": "stdout",
     "output_type": "stream",
     "text": [
      "Model: \"encoder\"\n",
      "_________________________________________________________________\n",
      " Layer (type)                Output Shape              Param #   \n",
      "=================================================================\n",
      " encoder_input (InputLayer)  [(None, 28, 28, 1)]       0         \n",
      "                                                                 \n",
      " conv2d_4 (Conv2D)           (None, 14, 14, 32)        320       \n",
      "                                                                 \n",
      " conv2d_5 (Conv2D)           (None, 7, 7, 64)          18496     \n",
      "                                                                 \n",
      " flatten_2 (Flatten)         (None, 3136)              0         \n",
      "                                                                 \n",
      " latent_vector (Dense)       (None, 16)                50192     \n",
      "                                                                 \n",
      "=================================================================\n",
      "Total params: 69,008\n",
      "Trainable params: 69,008\n",
      "Non-trainable params: 0\n",
      "_________________________________________________________________\n",
      "Model: \"decoder\"\n",
      "_________________________________________________________________\n",
      " Layer (type)                Output Shape              Param #   \n",
      "=================================================================\n",
      " decoder_input (InputLayer)  [(None, 16)]              0         \n",
      "                                                                 \n",
      " dense_2 (Dense)             (None, 3136)              53312     \n",
      "                                                                 \n",
      " reshape_2 (Reshape)         (None, 7, 7, 64)          0         \n",
      "                                                                 \n",
      " conv2d_transpose_4 (Conv2DT  (None, 14, 14, 64)       36928     \n",
      " ranspose)                                                       \n",
      "                                                                 \n",
      " conv2d_transpose_5 (Conv2DT  (None, 28, 28, 32)       18464     \n",
      " ranspose)                                                       \n",
      "                                                                 \n",
      " decoder_output (Conv2DTrans  (None, 28, 28, 1)        289       \n",
      " pose)                                                           \n",
      "                                                                 \n",
      "=================================================================\n",
      "Total params: 108,993\n",
      "Trainable params: 108,993\n",
      "Non-trainable params: 0\n",
      "_________________________________________________________________\n",
      "Model: \"autoencoder\"\n",
      "_________________________________________________________________\n",
      " Layer (type)                Output Shape              Param #   \n",
      "=================================================================\n",
      " encoder_input (InputLayer)  [(None, 28, 28, 1)]       0         \n",
      "                                                                 \n",
      " encoder (Functional)        (None, 16)                69008     \n",
      "                                                                 \n",
      " decoder (Functional)        (None, 28, 28, 1)         108993    \n",
      "                                                                 \n",
      "=================================================================\n",
      "Total params: 178,001\n",
      "Trainable params: 178,001\n",
      "Non-trainable params: 0\n",
      "_________________________________________________________________\n",
      "Epoch 1/10\n",
      "1875/1875 [==============================] - 11s 6ms/step - loss: 0.0367 - val_loss: 0.0205\n",
      "Epoch 2/10\n",
      "1875/1875 [==============================] - 11s 6ms/step - loss: 0.0193 - val_loss: 0.0180\n",
      "Epoch 3/10\n",
      "1875/1875 [==============================] - 11s 6ms/step - loss: 0.0176 - val_loss: 0.0172\n",
      "Epoch 4/10\n",
      "1875/1875 [==============================] - 11s 6ms/step - loss: 0.0168 - val_loss: 0.0166\n",
      "Epoch 5/10\n",
      "1875/1875 [==============================] - 11s 6ms/step - loss: 0.0163 - val_loss: 0.0163\n",
      "Epoch 6/10\n",
      "1875/1875 [==============================] - 11s 6ms/step - loss: 0.0160 - val_loss: 0.0161\n",
      "Epoch 7/10\n",
      "1875/1875 [==============================] - 11s 6ms/step - loss: 0.0157 - val_loss: 0.0160\n",
      "Epoch 8/10\n",
      "1875/1875 [==============================] - 11s 6ms/step - loss: 0.0154 - val_loss: 0.0160\n",
      "Epoch 9/10\n",
      "1875/1875 [==============================] - 11s 6ms/step - loss: 0.0153 - val_loss: 0.0157\n",
      "Epoch 10/10\n",
      "1875/1875 [==============================] - 11s 6ms/step - loss: 0.0151 - val_loss: 0.0156\n",
      "313/313 [==============================] - 1s 2ms/step\n"
     ]
    },
    {
     "data": {
      "image/png": "[encoded data removed]",
      "text/plain": [
       "<Figure size 432x288 with 1 Axes>"
      ]
     },
     "metadata": {
      "needs_background": "light"
     },
     "output_type": "display_data"
    }
   ],
   "source": [
    "'''Trains a denoising autoencoder on MNIST dataset.\n",
    "\n",
    "Denoising is one of the classic applications of autoencoders.\n",
    "The denoising process removes unwanted noise that corrupted the\n",
    "true data.\n",
    "\n",
    "Noise + Data ---> Denoising Autoencoder ---> Data\n",
    "\n",
    "Given a training dataset of corrupted data as input and\n",
    "true data as output, a denoising autoencoder can recover the\n",
    "hidden structure to generate clean data.\n",
    "\n",
    "This example has modular design. The encoder, decoder and autoencoder\n",
    "are 3 models that share weights. For example, after training the\n",
    "autoencoder, the encoder can be used to  generate latent vectors\n",
    "of input data for low-dim visualization like PCA or TSNE.\n",
    "'''\n",
    "\n",
    "from __future__ import absolute_import\n",
    "from __future__ import division\n",
    "from __future__ import print_function\n",
    "\n",
    "from tensorflow.keras.layers import Dense, Input\n",
    "from tensorflow.keras.layers import Conv2D, Flatten\n",
    "from tensorflow.keras.layers import Reshape, Conv2DTranspose\n",
    "from tensorflow.keras.models import Model\n",
    "from tensorflow.keras import backend as K\n",
    "from tensorflow.keras.datasets import mnist\n",
    "import numpy as np\n",
    "import matplotlib.pyplot as plt\n",
    "from PIL import Image\n",
    "\n",
    "np.random.seed(1337)\n",
    "\n",
    "# load MNIST dataset\n",
    "(x_train, _), (x_test, _) = mnist.load_data()\n",
    "\n",
    "# reshape to (28, 28, 1) and normalize input images\n",
    "image_size = x_train.shape[1]\n",
    "x_train = np.reshape(x_train, [-1, image_size, image_size, 1])\n",
    "x_test = np.reshape(x_test, [-1, image_size, image_size, 1])\n",
    "x_train = x_train.astype('float32') / 255\n",
    "x_test = x_test.astype('float32') / 255\n",
    "\n",
    "# generate corrupted MNIST images by adding noise with normal dist\n",
    "# centered at 0.5 and std=0.5\n",
    "noise = np.random.normal(loc=0.5, scale=0.5, size=x_train.shape)\n",
    "x_train_noisy = x_train + noise\n",
    "noise = np.random.normal(loc=0.5, scale=0.5, size=x_test.shape)\n",
    "x_test_noisy = x_test + noise\n",
    "\n",
    "# adding noise may exceed normalized pixel values>1.0 or <0.0\n",
    "# clip pixel values >1.0 to 1.0 and <0.0 to 0.0\n",
    "x_train_noisy = np.clip(x_train_noisy, 0., 1.)\n",
    "x_test_noisy = np.clip(x_test_noisy, 0., 1.)\n",
    "\n",
    "# network parameters\n",
    "input_shape = (image_size, image_size, 1)\n",
    "batch_size = 32\n",
    "kernel_size = 3\n",
    "latent_dim = 16\n",
    "# encoder/decoder number of CNN layers and filters per layer\n",
    "layer_filters = [32, 64]\n",
    "\n",
    "# build the autoencoder model\n",
    "# first build the encoder model\n",
    "inputs = Input(shape=input_shape, name='encoder_input')\n",
    "x = inputs\n",
    "\n",
    "# stack of Conv2D(32)-Conv2D(64)\n",
    "for filters in layer_filters:\n",
    "    x = Conv2D(filters=filters,\n",
    "               kernel_size=kernel_size,\n",
    "               strides=2,\n",
    "               activation='relu',\n",
    "               padding='same')(x)\n",
    "\n",
    "# shape info needed to build decoder model so we don't do hand computation\n",
    "# the input to the decoder's first Conv2DTranspose will have this shape\n",
    "# shape is (7, 7, 64) which can be processed by the decoder back to (28, 28, 1)\n",
    "shape = K.int_shape(x)\n",
    "\n",
    "# generate the latent vector\n",
    "x = Flatten()(x)\n",
    "latent = Dense(latent_dim, name='latent_vector')(x)\n",
    "\n",
    "# instantiate encoder model\n",
    "encoder = Model(inputs, latent, name='encoder')\n",
    "encoder.summary()\n",
    "\n",
    "# build the decoder model\n",
    "latent_inputs = Input(shape=(latent_dim,), name='decoder_input')\n",
    "# use the shape (7, 7, 64) that was earlier saved\n",
    "x = Dense(shape[1] * shape[2] * shape[3])(latent_inputs)\n",
    "# from vector to suitable shape for transposed conv\n",
    "x = Reshape((shape[1], shape[2], shape[3]))(x)\n",
    "\n",
    "# stack of Conv2DTranspose(64)-Conv2DTranspose(32)\n",
    "for filters in layer_filters[::-1]:\n",
    "    x = Conv2DTranspose(filters=filters,\n",
    "                        kernel_size=kernel_size,\n",
    "                        strides=2,\n",
    "                        activation='relu',\n",
    "                        padding='same')(x)\n",
    "\n",
    "# reconstruct the denoised input\n",
    "outputs = Conv2DTranspose(filters=1,\n",
    "                          kernel_size=kernel_size,\n",
    "                          padding='same',\n",
    "                          activation='sigmoid',\n",
    "                          name='decoder_output')(x)\n",
    "\n",
    "# instantiate decoder model\n",
    "decoder = Model(latent_inputs, outputs, name='decoder')\n",
    "decoder.summary()\n",
    "\n",
    "# autoencoder = encoder + decoder\n",
    "# instantiate autoencoder model\n",
    "autoencoder = Model(inputs, decoder(encoder(inputs)), name='autoencoder')\n",
    "autoencoder.summary()\n",
    "\n",
    "# Mean Square Error (MSE) loss function, Adam optimizer\n",
    "autoencoder.compile(loss='mse', optimizer='adam')\n",
    "\n",
    "# train the autoencoder\n",
    "autoencoder.fit(x_train_noisy,\n",
    "                x_train,\n",
    "                validation_data=(x_test_noisy, x_test),\n",
    "                epochs=10,\n",
    "                batch_size=batch_size)\n",
    "\n",
    "# predict the autoencoder output from corrupted test images\n",
    "x_decoded = autoencoder.predict(x_test_noisy)\n",
    "\n",
    "# 3 sets of images with 9 MNIST digits\n",
    "# 1st rows - original images\n",
    "# 2nd rows - images corrupted by noise\n",
    "# 3rd rows - denoised images\n",
    "rows, cols = 3, 9\n",
    "num = rows * cols\n",
    "imgs = np.concatenate([x_test[:num], x_test_noisy[:num], x_decoded[:num]])\n",
    "imgs = imgs.reshape((rows * 3, cols, image_size, image_size))\n",
    "imgs = np.vstack(np.split(imgs, rows, axis=1))\n",
    "imgs = imgs.reshape((rows * 3, -1, image_size, image_size))\n",
    "imgs = np.vstack([np.hstack(i) for i in imgs])\n",
    "imgs = (imgs * 255).astype(np.uint8)\n",
    "plt.figure()\n",
    "plt.axis('off')\n",
    "plt.title('Original images: top rows, '\n",
    "          'Corrupted Input: middle rows, '\n",
    "          'Denoised Input:  third rows')\n",
    "plt.imshow(imgs, interpolation='none', cmap='gray')\n",
    "Image.fromarray(imgs).save('corrupted_and_denoised.png')\n",
    "plt.show()"
   ]
  },
  {
   "cell_type": "markdown",
   "id": "de01812b-90e6-434d-9043-ba514e926283",
   "metadata": {},
   "source": [
    "## 자동 채색 오토인코더"
   ]
  },
  {
   "cell_type": "markdown",
   "id": "2260a8c7-ce9a-4813-be93-5ca6c9dacb33",
   "metadata": {},
   "source": [
    "- 해당 코딩은 너무 길어서 생략. 자세한 것은 여기 링크 참고 $\\to$ [자동 채색 오토인코더](https://github.com/PacktPublishing/Advanced-Deep-Learning-with-Keras/blob/master/chapter3-autoencoders/colorization-autoencoder-cifar10-3.4.1.py)"
   ]
  },
  {
   "cell_type": "markdown",
   "id": "fc79e7b7-0025-423b-aee4-c5a1c7c166fa",
   "metadata": {},
   "source": [
    "- 입력: 회색도 사진, 출력: 해당하는 채색된 사진들로 오토인코더를 훈련"
   ]
  },
  {
   "cell_type": "markdown",
   "id": "0cad31bb-3b14-4b2b-bf84-47bd477d07b8",
   "metadata": {},
   "source": [
    "![](https://github.com/PacktPublishing/Advanced-Deep-Learning-with-Keras/raw/master/chapter3-autoencoders/images/gray_color_mayon.png)"
   ]
  },
  {
   "cell_type": "markdown",
   "id": "a2dd9193-acfe-4872-91f5-bcfc09252d5e",
   "metadata": {},
   "source": [
    "## 요약"
   ]
  },
  {
   "cell_type": "markdown",
   "id": "e8e3c4d5-96d9-46bc-be18-07d67b03c78c",
   "metadata": {},
   "source": [
    "- 노이즈 제거, 채색 등 구조적인 변환을 효율적으로 하기 위하여 데이터를 낮은 차원의 표현으로 압축하는 신경망"
   ]
  },
  {
   "cell_type": "markdown",
   "id": "1a290492-796f-451f-894a-0787f154f890",
   "metadata": {},
   "source": [
    "# 4장 생성적 적대 신경망(GAN)"
   ]
  },
  {
   "cell_type": "markdown",
   "id": "64e37c7e-a3e3-4986-a026-4c7fae5da20e",
   "metadata": {},
   "source": [
    "`-` 생성자(generator): 판별자를 속일 수 있는 가짜 데이터 신호를 생성하는 방법에 대해 지속적으로 알아내는 것\n",
    "\n",
    "`-` 판별자(discriminator): 가짜와 실제 신호를 구분하도록 훈련"
   ]
  },
  {
   "cell_type": "markdown",
   "id": "c9c54487-baee-43ab-87ff-d2aa71f14cc1",
   "metadata": {},
   "source": [
    "- 유요한 데이터는 1.0으로 레이블링 되고 합성된 데이터는 0.0(진짜일 확률 0%)로 레이블ㄹ이 된다."
   ]
  },
  {
   "cell_type": "markdown",
   "id": "8874a611-da8c-40df-82f9-0dcf58dcd6da",
   "metadata": {},
   "source": [
    "## 생성기 개발을 위한 클래스"
   ]
  },
  {
   "cell_type": "markdown",
   "id": "b96a2adc-f2de-4851-8e10-5394ca039809",
   "metadata": {},
   "source": [
    "```python\n",
    "class Generator:\n",
    "    \n",
    "    def __init__(self):\n",
    "        self.initVariable = 1\n",
    "        \n",
    "    def lossFunction(self):\n",
    "        \n",
    "        return\n",
    "    \n",
    "    def buldModel(self):\n",
    "        \n",
    "        return\n",
    "    \n",
    "    def trainModel(self, inputX, inputY):\n",
    "        \n",
    "        return\n",
    "\n",
    "\n",
    "\n",
    "```"
   ]
  },
  {
   "cell_type": "markdown",
   "id": "ee27770c-59d3-4a01-9cd9-4cc726e38072",
   "metadata": {},
   "source": [
    "## 판별기 개발을 위한 클래스"
   ]
  },
  {
   "cell_type": "markdown",
   "id": "a62f962a-e37c-44a0-b9f4-6255bf29218d",
   "metadata": {},
   "source": [
    "```python\n",
    "\n",
    "class Discriminator:\n",
    "    \n",
    "    def __init__(self):\n",
    "        self.initVariable = 1\n",
    "        \n",
    "    def lossFunction(self):\n",
    "        \n",
    "        return\n",
    "    \n",
    "    def buildModel(self):\n",
    "        \n",
    "        return\n",
    "    \n",
    "    def trainModel(self,inputX,inputY):\n",
    "        \n",
    "        return\n",
    "\n",
    "```"
   ]
  },
  {
   "cell_type": "markdown",
   "id": "ffd5ece6-6e51-476a-95cd-a1da7a870d92",
   "metadata": {},
   "source": [
    "## 손실 함수"
   ]
  },
  {
   "cell_type": "markdown",
   "id": "e277c5b4-7fd4-483c-9254-ad2a5d98da2c",
   "metadata": {},
   "source": [
    "```python\n",
    "\n",
    "class Loss:\n",
    "    \n",
    "    def __init__(self):\n",
    "        self.initVariable = 1\n",
    "        \n",
    "    def lossBaseFunction1(self):\n",
    "        \n",
    "        return\n",
    "    \n",
    "    def lossBaseFunction2(self):\n",
    "        \n",
    "        return\n",
    "    \n",
    "    \n",
    "    def lossBaseFunction3(self):\n",
    "        \n",
    "        return\n",
    "\n",
    "```"
   ]
  },
  {
   "cell_type": "markdown",
   "id": "8cb793f8-e3f2-4d1f-afae-fbf59eccfb5b",
   "metadata": {},
   "source": [
    "`-` 적대적 훈련을 할 때 생성기에서 사용하는 손실함수"
   ]
  },
  {
   "cell_type": "markdown",
   "id": "3ac873dc-eaf5-4e3d-8fe1-7582acc3bc99",
   "metadata": {},
   "source": [
    "$$\\nabla \\theta_g \\sum_{i=1}^{m} log(1-D(G(z^{(i)}))) $$"
   ]
  },
  {
   "cell_type": "markdown",
   "id": "dc4217df-32ff-4f10-816d-f68b25cfe8dd",
   "metadata": {},
   "source": [
    "`-` GAN에서 적용되는 표준 교차 엔트로피 구현"
   ]
  },
  {
   "cell_type": "markdown",
   "id": "253e203e-1e89-44cc-9a70-b0289650ba27",
   "metadata": {},
   "source": [
    "$$ \\nabla \\theta_d \\dfrac{1}{m} \\sum_{i=1}^{m} [logD(x^{(i)})+log(1-D(G(z^{(i)})))] $$"
   ]
  },
  {
   "cell_type": "markdown",
   "id": "9c055299-4f5b-481f-8e5c-c9a7b08a2032",
   "metadata": {},
   "source": [
    "- 굿펠로우 논문에 나오는 함수"
   ]
  },
  {
   "cell_type": "markdown",
   "id": "eb97151c-91fa-470e-b740-e9329dd3fe8f",
   "metadata": {},
   "source": [
    "> note: 교수님이 설명해주신 코드 보는게 더 나을듯 하다. [교수님 코드](https://guebin.github.io/STML2022/posts/VI.%20GAN/2022-12-21-Extra-2.html)"
   ]
  },
  {
   "cell_type": "markdown",
   "id": "2b958724-87bb-4989-81e2-29aa4d410e9a",
   "metadata": {},
   "source": [
    "## DCGAN"
   ]
  },
  {
   "cell_type": "markdown",
   "id": "ccaee25b-fde9-44ec-933f-93d3f6de2b3f",
   "metadata": {},
   "source": [
    "- 심층 CNN을 이용하여 초기 GAN를 성공적으로 구현"
   ]
  },
  {
   "cell_type": "markdown",
   "id": "96913d60-d8e5-47d1-8e48-b51065af6afe",
   "metadata": {},
   "source": [
    "## 조건부(Conditional) GAN"
   ]
  },
  {
   "cell_type": "markdown",
   "id": "ef6cfad9-0a05-4b70-a2dd-bcbfd81040fd",
   "metadata": {},
   "source": [
    "- 원-핫 벡터를 제외하면 DCGAN과 유사\n",
    "- 생성자와 판별자의 출력에 조건을 부여하기 위해 원-핫 벡터 사용"
   ]
  },
  {
   "cell_type": "markdown",
   "id": "be3ad318-329c-4cc6-ba6f-47dd7877d43c",
   "metadata": {},
   "source": [
    "# 5장 향상된 GAN"
   ]
  },
  {
   "cell_type": "markdown",
   "id": "837ca421-730e-4169-9d53-6b948b9d74e7",
   "metadata": {},
   "source": [
    "## Wasserstein GAN"
   ]
  },
  {
   "cell_type": "markdown",
   "id": "0c497914-6932-4cda-aaf8-772fd17f4a1d",
   "metadata": {},
   "source": [
    "- GAN의 불안정성은 Jensen-Shannon (JS) 거리에 기초한 손실함수 때문이라고 주장\n",
    "\n",
    "- GAN의 최적화에 더 알맞게 JS거리 함수를 대체하기에 적합한 것을 찾아야함"
   ]
  },
  {
   "cell_type": "markdown",
   "id": "22ee77fe-7ac2-4917-a29f-2254847bdad7",
   "metadata": {},
   "source": [
    "ref: https://lilianweng.github.io/posts/2017-08-20-gan/"
   ]
  },
  {
   "cell_type": "markdown",
   "id": "34ab4f03-5ffc-4f6f-98ad-7d143fbf8749",
   "metadata": {},
   "source": [
    "\n",
    "\n",
    "- 책 개념이 너무 어렵당.. 관련 수식에 대해 이해하고 싶은뎀 수식에 대한 내용이 자세하진 않음.. 일단 수식에 대한 내용이해 먼저 하고 추후에 다시 책 읽어보는 걸로~~"
   ]
  },
  {
   "cell_type": "code",
   "execution_count": null,
   "id": "2883ea9b-7af5-45c0-9be5-e3bb4f61ddc1",
   "metadata": {},
   "outputs": [],
   "source": []
  }
 ],
 "metadata": {
  "kernelspec": {
   "display_name": "Python 3",
   "language": "python",
   "name": "python3"
  },
  "language_info": {
   "codemirror_mode": {
    "name": "ipython",
    "version": 3
   },
   "file_extension": ".py",
   "mimetype": "text/x-python",
   "name": "python",
   "nbconvert_exporter": "python",
   "pygments_lexer": "ipython3",
   "version": "3.8.16"
  }
 },
 "nbformat": 4,
 "nbformat_minor": 5
}
