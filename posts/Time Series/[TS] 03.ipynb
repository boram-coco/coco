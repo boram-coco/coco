{
 "cells": [
  {
   "cell_type": "code",
   "execution_count": null,
   "id": "9d6420e1-f5d4-4b73-bd80-e23879531ab4",
   "metadata": {},
   "outputs": [],
   "source": []
  },
  {
   "cell_type": "code",
   "execution_count": null,
   "id": "c4e2b633-9801-4771-8576-0dc8a37e7f9f",
   "metadata": {},
   "outputs": [],
   "source": []
  },
  {
   "cell_type": "raw",
   "id": "ab5eea98-c0a4-4d70-8736-45f1f7cadd94",
   "metadata": {},
   "source": [
    "---\n",
    "title: \"[TS] CH03. 평활법 실습\"\n",
    "author: \"김보람\"\n",
    "date: \"10/06/2023\"\n",
    "categories:\n",
    "  - Time Series\n",
    "---"
   ]
  },
  {
   "cell_type": "markdown",
   "id": "e9853e3b-acf7-42ef-86ae-2af55a476988",
   "metadata": {},
   "source": [
    "> 해당 자료는 전북대학교 이영미 교수님 2023고급시계열분석 자료임"
   ]
  },
  {
   "cell_type": "markdown",
   "id": "a91e2c65-577f-4603-9cfb-cdc349b23127",
   "metadata": {},
   "source": [
    "# 패키지"
   ]
  },
  {
   "cell_type": "code",
   "execution_count": null,
   "id": "a2c97011-c576-4412-a7da-871aa87aa76f",
   "metadata": {},
   "outputs": [],
   "source": [
    "############## package\n",
    "library(forecast) #ses\n",
    "library(data.table)\n",
    "library(ggplot2)\n",
    "library(lmtest) #dwtest\n",
    "library(TTR) #SMA\n"
   ]
  },
  {
   "cell_type": "code",
   "execution_count": null,
   "id": "db73d0f8-41f6-4818-99f9-93671659267a",
   "metadata": {},
   "outputs": [],
   "source": [
    "options(repr.plot.width = 15, repr.plot.height = 8)\n"
   ]
  },
  {
   "cell_type": "markdown",
   "id": "983ba9b8-7855-4f52-bc52-3ae6e8dbbdb1",
   "metadata": {},
   "source": [
    "# 이동평균법"
   ]
  },
  {
   "cell_type": "markdown",
   "id": "5c9bdf7d-1883-4229-af77-621e5d41355b",
   "metadata": {},
   "source": [
    "## Kings data"
   ]
  },
  {
   "cell_type": "code",
   "execution_count": null,
   "id": "3804e85b-c5a2-41eb-98a7-88a55aeec73f",
   "metadata": {},
   "outputs": [],
   "source": [
    "kings=scan(\"http://robjhyndman.com/tsdldata/misc/kings.dat\",skip=3)"
   ]
  },
  {
   "cell_type": "code",
   "execution_count": null,
   "id": "b9381940-9fef-48fa-b937-719d28fc1ef1",
   "metadata": {},
   "outputs": [],
   "source": [
    "kingstimeseries = ts(kings)\n",
    "plot(kingstimeseries, lwd=2)\n"
   ]
  },
  {
   "cell_type": "code",
   "execution_count": null,
   "id": "36e2a2cf-14f0-40aa-8aff-5275f804fb62",
   "metadata": {},
   "outputs": [],
   "source": [
    "## window=3\n",
    "kingstimeseriesSMA3 <- SMA(kingstimeseries,n=3)\n",
    "plot.ts(kingstimeseries, lwd=2)\n",
    "lines(kingstimeseriesSMA3, col='red', lty=2, lwd=2)\n",
    "legend(\"topleft\",\n",
    " legend=c(\"original\", expression(m==3)), In [68]: In [2]: In [3]: In [4]: In [5]: In [6]:\n",
    " col=c(\"black\",\"red\"),\n",
    " lty=c(1,2), lwd=2)"
   ]
  },
  {
   "cell_type": "code",
   "execution_count": null,
   "id": "1fba9a03-cba3-414f-a09e-c7a5c6efebda",
   "metadata": {},
   "outputs": [],
   "source": [
    "kingstimeseries"
   ]
  },
  {
   "cell_type": "code",
   "execution_count": null,
   "id": "fc41d2f7-a33e-4b04-81dd-afd6af8b58a0",
   "metadata": {},
   "outputs": [],
   "source": [
    "kingstimeseriesSMA3"
   ]
  },
  {
   "cell_type": "code",
   "execution_count": null,
   "id": "4aa0a971-e4e2-4cbf-806c-f9b119aabfbe",
   "metadata": {},
   "outputs": [],
   "source": [
    "## window=3 vs. 7\n",
    "plot.ts(kingstimeseries, lwd=2)\n",
    "lines(kingstimeseriesSMA3, col='red', lty=2, lwd=2)\n",
    "lines( SMA(kingstimeseries,n=10), col='blue', lty=2, lwd=2)\n",
    "legend(\"topleft\",\n",
    " legend=c(\"original\", expression(m==3), expression(m==10)),\n",
    " col=c(\"black\",\"red\",\"blue\"),\n",
    " lty=c(1,2,2), lwd=2)"
   ]
  },
  {
   "cell_type": "markdown",
   "id": "cda09cb9-a00f-4e95-bd5c-1442bc1f8c74",
   "metadata": {},
   "source": [
    "### 모형 평가"
   ]
  },
  {
   "cell_type": "code",
   "execution_count": null,
   "id": "aef914d7-f523-4b05-8b12-99b46b6310d5",
   "metadata": {},
   "outputs": [],
   "source": [
    "## m=3\n",
    "mean((kings- kingstimeseriesSMA3)^2, na.rm=T) ##MSE\n",
    "mean(abs(kings- kingstimeseriesSMA3), na.rm=T) ##MAE\n",
    "mean(abs(kings- kingstimeseriesSMA3/kings), na.rm=T)*100 ##MAPE"
   ]
  },
  {
   "cell_type": "code",
   "execution_count": null,
   "id": "24f879b5-4f90-490d-8704-b1c14b8f83f4",
   "metadata": {},
   "outputs": [],
   "source": [
    "## m=10\n",
    "mean((kings- SMA(kingstimeseries,n=10))^2, na.rm=T) ##MSE\n",
    "mean(abs(kings- SMA(kingstimeseries,n=10)), na.rm=T) ##MAE\n",
    "mean(abs(kings- SMA(kingstimeseries,n=10)/kings), na.rm=T)*100 ##MAPE"
   ]
  },
  {
   "cell_type": "markdown",
   "id": "0b7e9a76-7222-47bc-8849-98ca47cac98b",
   "metadata": {},
   "source": [
    "## mindex data"
   ]
  },
  {
   "cell_type": "code",
   "execution_count": null,
   "id": "08036026-8af6-4abd-9a61-971bb84af6e6",
   "metadata": {},
   "outputs": [],
   "source": [
    "z <- scan(\"mindex.txt\")\n",
    "mindex <- ts(z, start = c(1986, 1), frequency = 12)\n",
    "mindex"
   ]
  },
  {
   "cell_type": "code",
   "execution_count": null,
   "id": "17aaf27e-c3f0-4a03-802a-de276634bef5",
   "metadata": {},
   "outputs": [],
   "source": [
    "mindex_sma3 <- SMA(mindex,n=3)\n",
    "mindex_sma10 <- SMA(mindex,n=10)"
   ]
  },
  {
   "cell_type": "code",
   "execution_count": null,
   "id": "0d021443-9248-4d3c-8c64-b392e38315fa",
   "metadata": {},
   "outputs": [],
   "source": [
    "plot.ts(mindex, lwd=2)\n",
    "lines(mindex_sma3, col='red', lty=2, lwd=2)\n",
    "lines(mindex_sma10, col='blue', lty=2, lwd=2)\n",
    "legend(\"topright\",\n",
    "     legend=c(\"original\", expression(m==3), expression(m==10)),\n",
    "     col=c(\"black\",\"red\",\"blue\"),\n",
    "     lty=c(1,2,2), lwd=2)"
   ]
  },
  {
   "cell_type": "markdown",
   "id": "6efbf7dc-506e-4151-a4c5-b0d8fe3cd1a0",
   "metadata": {},
   "source": [
    "# 단순지수평활법"
   ]
  },
  {
   "cell_type": "code",
   "execution_count": null,
   "id": "16cd9fcc-1a07-403e-b7ec-d8a336f851b4",
   "metadata": {},
   "outputs": [],
   "source": [
    "z <- scan(\"mindex.txt\")\n",
    "mindex <- ts(z, start = c(1986, 1), frequency = 12)\n"
   ]
  },
  {
   "cell_type": "code",
   "execution_count": null,
   "id": "1c8087dd-6e87-46f6-8312-92146251dfb0",
   "metadata": {},
   "outputs": [],
   "source": [
    "tmp.dat <- data.frame(day = seq.Date(as.Date(\"1986-01-01\"),\n",
    " by='month',\n",
    " length.out=length(z)), \n",
    "              ind = z)\n",
    "head(tmp.dat)\n",
    "                     "
   ]
  },
  {
   "cell_type": "code",
   "execution_count": null,
   "id": "30c6332f-3a7d-4953-ba1c-3ea1450db1dc",
   "metadata": {},
   "outputs": [],
   "source": [
    "ggplot(tmp.dat, aes(day, ind))+geom_line(col='skyblue', lwd=2) +\n",
    " geom_point(col='steelblue', cex=2)+\n",
    " ggtitle(\"중간재 출하지수\")+\n",
    " theme_bw()+\n",
    " theme(plot.title = element_text(size=30),\n",
    " axis.title = element_blank())\n"
   ]
  },
  {
   "cell_type": "markdown",
   "id": "872d2687-80b5-4b0f-988a-20ae2c4061f0",
   "metadata": {},
   "source": [
    "단수지수평활 $\\alpha=0.3$"
   ]
  },
  {
   "cell_type": "code",
   "execution_count": null,
   "id": "e986433d-2c5b-468a-8e6e-f583fbb8bc10",
   "metadata": {},
   "outputs": [],
   "source": [
    "fit0 <- HoltWinters(mindex,\n",
    " alpha=0.3,\n",
    " beta=FALSE,\n",
    " gamma=FALSE)\n"
   ]
  },
  {
   "cell_type": "code",
   "execution_count": null,
   "id": "f577201d-5b44-4c44-8803-10e196abd920",
   "metadata": {},
   "outputs": [],
   "source": [
    "fit0"
   ]
  },
  {
   "cell_type": "code",
   "execution_count": null,
   "id": "45ccf742-fe3d-4ed1-aa36-c009a671d72d",
   "metadata": {},
   "outputs": [],
   "source": [
    "ls(fit0)\n"
   ]
  },
  {
   "cell_type": "code",
   "execution_count": null,
   "id": "5a40efd8-6a8d-4bc7-bfd2-3a9e9305b202",
   "metadata": {},
   "outputs": [],
   "source": [
    "head(fit0$fitted)"
   ]
  },
  {
   "cell_type": "code",
   "execution_count": null,
   "id": "538a3a22-daa1-4c19-9f0f-413a169d0d71",
   "metadata": {},
   "outputs": [],
   "source": [
    "fit0$SSE"
   ]
  },
  {
   "cell_type": "code",
   "execution_count": null,
   "id": "7f695416-f760-4789-af5b-3ff62af3874b",
   "metadata": {},
   "outputs": [],
   "source": [
    "plot(fit0, lwd=3, cex.main = 2)\n",
    "legend(\"topright\", legend=c(\"observed\", \"ses\"), lty=1,lwd=c(1,3), col=1:2)"
   ]
  },
  {
   "cell_type": "code",
   "execution_count": null,
   "id": "992ec08f-cb7d-45fc-a91d-2fb816c38d51",
   "metadata": {},
   "outputs": [],
   "source": [
    "fit01 <- ses(mindex,\n",
    " alpha = 0.3,\n",
    " initial = 'simple',\n",
    " h = 10) ##Exponential smoothing forecasts\n"
   ]
  },
  {
   "cell_type": "code",
   "execution_count": null,
   "id": "e26f09ab-bcc7-4811-804a-e89cb06601f8",
   "metadata": {},
   "outputs": [],
   "source": [
    "fit01"
   ]
  },
  {
   "cell_type": "code",
   "execution_count": null,
   "id": "70c414da-8a60-4c08-ad0b-c40e7431e894",
   "metadata": {},
   "outputs": [],
   "source": [
    "ls(fit01)\n"
   ]
  },
  {
   "cell_type": "code",
   "execution_count": null,
   "id": "8e221326-b555-4835-833a-328d7759ab96",
   "metadata": {},
   "outputs": [],
   "source": [
    "summary(fit01)"
   ]
  },
  {
   "cell_type": "code",
   "execution_count": null,
   "id": "91b4cf29-6a39-410e-ab45-90a20f08fae7",
   "metadata": {},
   "outputs": [],
   "source": [
    "plot(fit01,, cex.main = 2)"
   ]
  },
  {
   "cell_type": "markdown",
   "id": "4f6de726-be40-4f66-a4bd-043af02f31e0",
   "metadata": {},
   "source": [
    "## 여러 평활상수에 따른 변화"
   ]
  },
  {
   "cell_type": "code",
   "execution_count": null,
   "id": "f12f46f4-5f00-4fd1-9dbc-59bd0c3047e2",
   "metadata": {},
   "outputs": [],
   "source": [
    "w <-c(seq(0.1,0.8,0.1), seq(0.81, 0.99, 0.01))"
   ]
  },
  {
   "cell_type": "code",
   "execution_count": null,
   "id": "7d15e187-0cb1-441f-a1f2-7cd61a50ff28",
   "metadata": {},
   "outputs": [],
   "source": [
    "SSE_ses <- sapply(w, function(alpha) HoltWinters(mindex,\n",
    "                 alpha=alpha,\n",
    "                 beta=FALSE,\n",
    "                 gamma=FALSE)$SSE)\n",
    "plot(w,SSE_ses, type=\"o\", xlab=\"weight\", ylab=\"SSE\", pch=16,\n",
    "     main=\"1 시차 후 예측오차의 제곱합\",\n",
    "     cex.main = 2, cex.lab=2)\n"
   ]
  },
  {
   "cell_type": "code",
   "execution_count": null,
   "id": "91beb4dc-4d9f-4953-9c13-4055259a6282",
   "metadata": {},
   "outputs": [],
   "source": [
    "which.min(SSE_ses)"
   ]
  },
  {
   "cell_type": "code",
   "execution_count": null,
   "id": "665fda48-05a1-4e9c-aa7b-47c78701094e",
   "metadata": {},
   "outputs": [],
   "source": [
    "w[which.min(SSE_ses)]"
   ]
  },
  {
   "cell_type": "code",
   "execution_count": null,
   "id": "36e0ee37-48a8-4c93-bbab-862b40672d03",
   "metadata": {},
   "outputs": [],
   "source": [
    "plot(w[-(1:7)],SSE_ses[-(1:7)], type=\"o\", xlab=\"weight\", ylab=\"SSE\", pch=16,\n",
    " main=\"1 시차 후 예측오차의 제곱합\",\n",
    " cex.main = 2, cex.lab=2)\n"
   ]
  },
  {
   "cell_type": "code",
   "execution_count": null,
   "id": "a0f9a3d3-eb83-4629-b72b-328ef5ca14f6",
   "metadata": {},
   "outputs": [],
   "source": [
    "fit1 <- ses(mindex, alpha=w[which.min(SSE_ses)], initial = \"simple\", h=6)"
   ]
  },
  {
   "cell_type": "code",
   "execution_count": null,
   "id": "820f24a7-a407-4f4b-a62a-05b8a7ec58a1",
   "metadata": {},
   "outputs": [],
   "source": [
    "plot(fit1, xlab=\"\", ylab=\"\",\n",
    " main=\"중간재 출하지수와 단순지수평활값 alpha=0.9\",\n",
    " lty=1,col=\"black\",\n",
    " cex.main = 2, cex.lab=2 )\n",
    "lines(fitted(fit1), col=\"red\", lty=2)\n",
    "legend(\"topright\", legend=c(\"Mindex\", expression(alpha==0.9)),\n",
    " lty=1:2,col=c(\"black\",\"red\"))\n"
   ]
  },
  {
   "cell_type": "code",
   "execution_count": null,
   "id": "b121c7a1-65f7-4494-955f-dd3d5c8c717b",
   "metadata": {},
   "outputs": [],
   "source": [
    "fit0_w <- HoltWinters(mindex,\n",
    " beta=FALSE,\n",
    " gamma=FALSE)\n",
    "fit0_w\n"
   ]
  },
  {
   "cell_type": "markdown",
   "id": "f2a0ea75-5f57-4079-b496-1e1194ef42bc",
   "metadata": {},
   "source": [
    "## 잔차"
   ]
  },
  {
   "cell_type": "code",
   "execution_count": null,
   "id": "ea0757c4-392f-407c-8abe-4ba23c1b1fc6",
   "metadata": {},
   "outputs": [],
   "source": [
    "plot(fit1$residuals, ylab=\"residual\",\n",
    " main=\"예측 오차의 시계열그림 : alpha=0.9\",\n",
    " cex.main = 2, cex.lab=2); abline(h=0)\n"
   ]
  },
  {
   "cell_type": "markdown",
   "id": "dc839eb5-c27c-4282-a0f9-69c689069c84",
   "metadata": {},
   "source": [
    "오차의 평균이 0인가?"
   ]
  },
  {
   "cell_type": "code",
   "execution_count": null,
   "id": "9334e697-4ca2-4b4d-b9c1-530b57ae043a",
   "metadata": {},
   "outputs": [],
   "source": [
    "t.test(fit1$residual)\n"
   ]
  },
  {
   "cell_type": "markdown",
   "id": "54d7e6c9-e506-44eb-982d-c6df8009466a",
   "metadata": {},
   "source": [
    "오차가 독립인가?"
   ]
  },
  {
   "cell_type": "code",
   "execution_count": null,
   "id": "d676ec14-f05e-410d-a406-eba103899fdd",
   "metadata": {},
   "outputs": [],
   "source": [
    "dwtest(lm(fit1$residual~1))"
   ]
  },
  {
   "cell_type": "code",
   "execution_count": null,
   "id": "4c934f21-e22d-4b79-b139-b011d4eb9120",
   "metadata": {},
   "outputs": [],
   "source": [
    "fit2 <- ses(mindex, alpha=0.3, h=6)\n",
    "plot(fit2, xlab=\"year\", ylab=\"mindex\",\n",
    " main=expression(\"중간재 출하지수와 단순지수평활값 \"~alpha==0.3),\n",
    " lty=1,col=\"black\",\n",
    " cex.main = 2,\n",
    " cex.lab=2)\n",
    "lines(fitted(fit2), col=\"red\", lty=2)\n",
    "legend(\"topright\",\n",
    " legend=c(\"Mindex\",expression(alpha==0.3)),\n",
    " lty=1:2,\n",
    " col=c(\"black\",\"red\"))\n"
   ]
  },
  {
   "cell_type": "code",
   "execution_count": null,
   "id": "4a554cc2-f374-426d-af0d-a8363c7d1511",
   "metadata": {},
   "outputs": [],
   "source": [
    "plot(fit2$residuals, ylab=\"residual\",\n",
    " main=expression(\"중간재 출하지수와 단순지수평활값 \"~alpha==0.3),\n",
    " cex.main = 2,\n",
    " cex.lab=2); abline(h=0)\n"
   ]
  },
  {
   "cell_type": "markdown",
   "id": "ab25166a-fba2-4d28-9e76-2b6815c0bbe4",
   "metadata": {},
   "source": [
    "오차의 평균이 0인가?\n"
   ]
  },
  {
   "cell_type": "code",
   "execution_count": null,
   "id": "a0c63eb6-f354-4c5c-a6e6-d6e3ef1151c3",
   "metadata": {},
   "outputs": [],
   "source": [
    "t.test(fit2$residual)"
   ]
  },
  {
   "cell_type": "markdown",
   "id": "ffac31e3-e798-4ec3-9df8-4e6ddfc67cea",
   "metadata": {},
   "source": [
    "오차가 독립인가?"
   ]
  },
  {
   "cell_type": "code",
   "execution_count": null,
   "id": "8286f6be-1f7e-498d-8491-ac49ab59f225",
   "metadata": {},
   "outputs": [],
   "source": [
    "dwtest(lm(fit2$residual~1))"
   ]
  },
  {
   "cell_type": "markdown",
   "id": "7a224c8c-ddb3-4248-922c-7b2ef0103d58",
   "metadata": {},
   "source": [
    "# 이중지수평활법"
   ]
  },
  {
   "cell_type": "code",
   "execution_count": null,
   "id": "09b9ceb1-9776-4fd7-9145-7aa60305c7b9",
   "metadata": {},
   "outputs": [],
   "source": [
    "z <- scan(\"stock.txt\")\n",
    "stock <- ts(z, start=c(1984,1), frequency=12)\n"
   ]
  },
  {
   "cell_type": "code",
   "execution_count": null,
   "id": "ac5ae5f4-95aa-4c03-a106-0993b8f3c2cc",
   "metadata": {},
   "outputs": [],
   "source": [
    "plot(stock, main = '월별주가지수', cex.main=2, cex.lab=2)"
   ]
  },
  {
   "cell_type": "markdown",
   "id": "acb548f1-eac0-4815-9ab8-e96cf58d4531",
   "metadata": {},
   "source": [
    "## 1모수 이중지수평활 $(\\alpha = \\beta)$"
   ]
  },
  {
   "cell_type": "code",
   "execution_count": null,
   "id": "952b5e53-22b6-44b3-91e7-2d8efff0d262",
   "metadata": {},
   "outputs": [],
   "source": [
    "fit4 = holt(stock, alpha=0.6, beta=0.6, h=6)\n",
    "fit4$model"
   ]
  },
  {
   "cell_type": "code",
   "execution_count": null,
   "id": "47f21272-1826-4fc9-87f4-ca19afa34723",
   "metadata": {},
   "outputs": [],
   "source": [
    "# plot(fit4, ylab=\"\", xlab=\"\", lty=1, col=\"black\",\n",
    "#  main=\"주가지수와 이중지수평활값 : alpha=beta=0.6\"\n",
    "#  )\n",
    "# lines(fitted(fit4), col=\"red\", lty=2)\n",
    "# legend(\"topleft\", lty=1:2, col=c(\"black\",\"red\"), c(\"Index\", \"Double\"), bty = \"n\""
   ]
  },
  {
   "cell_type": "markdown",
   "id": "3644882b-87bd-4f0c-94ea-2f7a17d2686a",
   "metadata": {},
   "source": [
    "## 이중지수평활 $\\alpha, \\beta$ 추정"
   ]
  },
  {
   "cell_type": "code",
   "execution_count": null,
   "id": "525ca7d4-73c2-49de-b285-9b61bc8fc8be",
   "metadata": {},
   "outputs": [],
   "source": [
    "fit5 = holt(stock, h=6)\n",
    "fit5$model\n"
   ]
  },
  {
   "cell_type": "code",
   "execution_count": null,
   "id": "712acecf-3ff5-4ad6-b7ac-f5612c2ee8f0",
   "metadata": {},
   "outputs": [],
   "source": [
    "# plot(fit5, ylab=\"Index\", xlab=\"year\", lty=1, col=\"black\",\n",
    "#  main=expression(\"중간재 출하지수와 이중지수평활값 : \"~alpha~\",\"~beta~ \" : es\n",
    "#  cex.main=2)\n",
    "# lines(fitted(fit5), col=\"red\", lty=2)\n",
    "# legend(\"topleft\", lty=1:2, col=c(\"black\",\"red\"), c(\"Index\", \"Double\"))\n"
   ]
  },
  {
   "cell_type": "code",
   "execution_count": null,
   "id": "cbc57852-8120-41c4-a5d7-3ca1d9578cae",
   "metadata": {},
   "outputs": [],
   "source": [
    "# plot(resid(fit5), main=expression(\"Residual Plot : \"~alpha~\",\"~beta~ \" : estimat\n",
    "#  cex.main=2)\n",
    "# abline(h=0)"
   ]
  },
  {
   "cell_type": "markdown",
   "id": "c187dd82-40a0-4514-a381-d839348b5434",
   "metadata": {},
   "source": [
    "# 계절지수평활\n"
   ]
  },
  {
   "cell_type": "code",
   "execution_count": null,
   "id": "49879770-2850-45a4-b58c-d8ca6f7f1fa2",
   "metadata": {},
   "outputs": [],
   "source": [
    "z <- scan(\"koreapass.txt\")\n",
    "pass <- ts(z, start=c(1981,1), frequency=12)\n"
   ]
  },
  {
   "cell_type": "code",
   "execution_count": null,
   "id": "39bebef7-5c57-44c9-8b38-50eb766387c3",
   "metadata": {},
   "outputs": [],
   "source": [
    "plot.ts(pass)\n"
   ]
  },
  {
   "cell_type": "markdown",
   "id": "a9252e2b-9630-4524-949e-0f793beae6b1",
   "metadata": {},
   "source": [
    "## Holt Winters additive model"
   ]
  },
  {
   "cell_type": "code",
   "execution_count": null,
   "id": "b23f8885-89f9-4802-ae55-48869eb2fc31",
   "metadata": {},
   "outputs": [],
   "source": [
    "fit_hw <- HoltWinters(pass)"
   ]
  },
  {
   "cell_type": "code",
   "execution_count": null,
   "id": "8e758a4e-fa3e-4d59-b020-c740a75662cd",
   "metadata": {},
   "outputs": [],
   "source": [
    "fit_hw"
   ]
  },
  {
   "cell_type": "code",
   "execution_count": null,
   "id": "99b2fd7d-934e-4f13-9993-17cca44eadc5",
   "metadata": {},
   "outputs": [],
   "source": [
    "plot(fit_hw, lwd=2)\n"
   ]
  },
  {
   "cell_type": "code",
   "execution_count": null,
   "id": "10670a93-5a57-4fe6-ab79-2fbfb6727a20",
   "metadata": {},
   "outputs": [],
   "source": [
    "predict(fit_hw, n.ahead=12, prediction.interval = T, level=0.95)\n"
   ]
  },
  {
   "cell_type": "code",
   "execution_count": null,
   "id": "4ecbaf1d-176f-4535-886e-7b45485485a1",
   "metadata": {},
   "outputs": [],
   "source": [
    "fit6= hw(pass,\n",
    " alpha = fit_hw$alpha,\n",
    " beta = fit_hw$beta,\n",
    " gamma = fit_hw$gamma,\n",
    " seasonal=\"additive\",\n",
    " initial=\"simple\",\n",
    " h=12)\n",
    "fit6$model"
   ]
  },
  {
   "cell_type": "code",
   "execution_count": null,
   "id": "b89e4ead-36fe-4664-92b8-ef49c6144698",
   "metadata": {},
   "outputs": [],
   "source": [
    "fit6\n"
   ]
  },
  {
   "cell_type": "code",
   "execution_count": null,
   "id": "e40be78b-385f-49cb-a6ff-94d8625b4d5c",
   "metadata": {},
   "outputs": [],
   "source": [
    "plot(fit6, ylab=\"passenger\", xlab=\"year\", lty=1, col=\"blue\",\n",
    " main=\"Winters 가법계절지수평활된 자료의 시계열 그림\",\n",
    " cex.main=2)\n"
   ]
  },
  {
   "cell_type": "code",
   "execution_count": null,
   "id": "01bda3e8-8b1b-4395-b579-72a3768688b1",
   "metadata": {},
   "outputs": [],
   "source": [
    "ts.plot(fit6$residual, ylab=\"residual\",\n",
    " main=\"가법모형의 잔차 그림\",\n",
    " cex.main=2); abline(h=0)\n"
   ]
  },
  {
   "cell_type": "code",
   "execution_count": null,
   "id": "6edb3c40-a36e-42bf-80db-47a12e6b0bd9",
   "metadata": {},
   "outputs": [],
   "source": [
    "dwtest(lm(fit6$residual~1), alternative = 'two.sided')"
   ]
  },
  {
   "cell_type": "markdown",
   "id": "7d6e887b-7e74-458d-8b6a-2689b1f890ae",
   "metadata": {},
   "source": [
    "## Holt Winters multiplicative model"
   ]
  },
  {
   "cell_type": "code",
   "execution_count": null,
   "id": "9c8ca1f0-9c96-4825-8f83-bf883eb99d6f",
   "metadata": {},
   "outputs": [],
   "source": [
    "fit_hw_m <- HoltWinters(pass, seasonal=\"multiplicative\")\n",
    "fit_hw_m\n"
   ]
  },
  {
   "cell_type": "code",
   "execution_count": null,
   "id": "03f21301-0c56-4ac6-8ecd-b6ea72bc6d18",
   "metadata": {},
   "outputs": [],
   "source": [
    "predict(fit_hw_m, n.ahead=12, prediction.interval = T, level=0.95)\n"
   ]
  },
  {
   "cell_type": "code",
   "execution_count": null,
   "id": "1fc7155e-b451-49e9-b5d1-1bb7b95a5caf",
   "metadata": {},
   "outputs": [],
   "source": [
    "fit7= hw(pass,\n",
    " alpha = fit_hw_m$alpha,\n",
    " beta = fit_hw_m$beta,\n",
    " gamma = fit_hw_m$gamma,\n",
    " seasonal=\"additive\",\n",
    " initial=\"simple\",\n",
    " h=12)\n",
    "fit7$model\n"
   ]
  },
  {
   "cell_type": "code",
   "execution_count": null,
   "id": "d2fa9492-f9ca-40b7-9f3c-2065c232a71e",
   "metadata": {},
   "outputs": [],
   "source": [
    "plot(fit7, ylab=\"passenger\", xlab=\"year\", lty=1, col=\"blue\",\n",
    " main=\"Winters 승법계절지수평활된 자료의 시계열 그림\",\n",
    " cex.main=2)\n",
    "lines(fit7$fitted, col=\"red\", lty=2)\n",
    "legend(\"topleft\", lty=1:2, col=c(\"blue\",\"red\"), c(\"Pass\", \"Multiplicative\"))"
   ]
  },
  {
   "cell_type": "code",
   "execution_count": null,
   "id": "377a48a9-27d3-4a39-8074-14b1cea49160",
   "metadata": {},
   "outputs": [],
   "source": [
    "ts.plot(fit7$residual, ylab=\"residual\",\n",
    " main=\"승법모형의 잔차 그림\",\n",
    " cex.main=2); abline(h=0)\n"
   ]
  },
  {
   "cell_type": "code",
   "execution_count": null,
   "id": "8bffb6ee-3861-49f2-9b2e-05837f1bc3c4",
   "metadata": {},
   "outputs": [],
   "source": [
    "dwtest(lm(fit7$residual~1), alternative = 'two.sided')"
   ]
  },
  {
   "cell_type": "code",
   "execution_count": null,
   "id": "07df6211-dc9a-400e-980b-3fa1a04f7546",
   "metadata": {},
   "outputs": [],
   "source": []
  }
 ],
 "metadata": {
  "kernelspec": {
   "display_name": "R",
   "language": "R",
   "name": "ir"
  },
  "language_info": {
   "codemirror_mode": "r",
   "file_extension": ".r",
   "mimetype": "text/x-r-source",
   "name": "R",
   "pygments_lexer": "r",
   "version": "4.2.2"
  }
 },
 "nbformat": 4,
 "nbformat_minor": 5
}
