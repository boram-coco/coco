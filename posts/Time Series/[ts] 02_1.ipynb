{
 "cells": [
  {
   "cell_type": "raw",
   "id": "6f7d06f0-a0b6-4ae8-8fa1-01e4215310a6",
   "metadata": {},
   "source": [
    "---\n",
    "title: \"[TS] CH02. 실습1(추세모형)\"\n",
    "author: \"김보람\"\n",
    "date: \"09/28/2023\"\n",
    "categories:\n",
    "  - Time Series\n",
    "---"
   ]
  },
  {
   "cell_type": "markdown",
   "id": "d8a6c303-dad2-4c40-ba1a-9c8baa1fbb14",
   "metadata": {},
   "source": [
    "> 해당 자료는 전북대학교 이영미 교수님 2023고급시계열분석 자료임"
   ]
  },
  {
   "cell_type": "markdown",
   "id": "b36afd06-107b-49b7-97a2-50071b33453d",
   "metadata": {},
   "source": [
    "# 패키지 설치"
   ]
  },
  {
   "cell_type": "code",
   "execution_count": 1,
   "id": "a17d8cf2-fa32-4df9-9acd-7960c8c036d9",
   "metadata": {},
   "outputs": [
    {
     "name": "stderr",
     "output_type": "stream",
     "text": [
      "Loading required package: zoo\n",
      "\n",
      "\n",
      "Attaching package: ‘zoo’\n",
      "\n",
      "\n",
      "The following objects are masked from ‘package:base’:\n",
      "\n",
      "    as.Date, as.Date.numeric\n",
      "\n",
      "\n",
      "\n",
      "Attaching package: ‘lubridate’\n",
      "\n",
      "\n",
      "The following objects are masked from ‘package:base’:\n",
      "\n",
      "    date, intersect, setdiff, union\n",
      "\n",
      "\n"
     ]
    }
   ],
   "source": [
    "library(lmtest) # Dw test\n",
    "library(ggplot2)\n",
    "library(lubridate)"
   ]
  },
  {
   "cell_type": "code",
   "execution_count": 3,
   "id": "de6ca800-788d-4ec1-91bc-dc5f5b9c6714",
   "metadata": {},
   "outputs": [],
   "source": [
    "options(repr.plot.width = 15, repr.plot.height = 8)"
   ]
  },
  {
   "cell_type": "markdown",
   "id": "f89a7379-d6af-4107-8972-0058bb0f131d",
   "metadata": {},
   "source": [
    "# 국내총인구"
   ]
  },
  {
   "cell_type": "code",
   "execution_count": 6,
   "id": "91fe4783-7624-4993-bc98-4605c8d1e88a",
   "metadata": {},
   "outputs": [],
   "source": [
    "# z <- scan(\"population.txt\")\n",
    "# head(z)"
   ]
  },
  {
   "cell_type": "code",
   "execution_count": null,
   "id": "f7d15769-221c-40d0-a564-0ec84e99ce36",
   "metadata": {
    "tags": []
   },
   "outputs": [],
   "source": [
    "pop = round(z/10000)\n",
    "head(pop)"
   ]
  },
  {
   "cell_type": "code",
   "execution_count": null,
   "id": "289870a4-fe6c-47f4-862f-403b0cb1c884",
   "metadata": {},
   "outputs": [],
   "source": [
    "tmp.data <- data.frame(\n",
    " day = seq(ymd(\"1960-01-01\"),by='year', length.out=length(z)),\n",
    " #day = 1959 + 1:length(z),\n",
    " pop = round(z/10000),\n",
    " t = 1:length(z),\n",
    " t2 = (1:length(z))^2\n",
    ")\n",
    "head(tmp.data)"
   ]
  },
  {
   "cell_type": "markdown",
   "id": "ad7f84f8-dcce-4cce-ae51-308f4778d6b3",
   "metadata": {},
   "source": [
    "# 시도표그리기"
   ]
  },
  {
   "cell_type": "code",
   "execution_count": null,
   "id": "3c4a7a9c-d335-469d-847a-15818c15bf30",
   "metadata": {},
   "outputs": [],
   "source": [
    "ggplot(tmp.data, aes(day, pop)) +\n",
    " geom_line(col='skyblue', lwd=3) +\n",
    " geom_point(col='steelblue', cex=3)+\n",
    " theme_bw() +\n",
    " #scale_x_date(date_labels = \"%Y-%m\") +\n",
    " theme(axis.title=element_blank(),\n",
    " axis.text= element_text(size=20))"
   ]
  },
  {
   "cell_type": "code",
   "execution_count": null,
   "id": "9cdf2153-1d2e-4f86-9f69-3c0389bd65de",
   "metadata": {},
   "outputs": [],
   "source": [
    "ggplot(tmp.data, aes(day, pop)) +\n",
    " geom_line(col='skyblue', lwd=3) +\n",
    " geom_point(col='steelblue', cex=3)+\n",
    " xlab(\"time\") + ylab(\"Population\")+\n",
    " theme_bw() +\n",
    " #scale_x_date(date_labels = \"%Y-%m\") +\n",
    " theme(axis.text= element_text(size=20),\n",
    " axis.title= element_text(size=30))"
   ]
  },
  {
   "cell_type": "markdown",
   "id": "f362d43a-1263-44fc-80c3-f897113a2b85",
   "metadata": {},
   "source": [
    "# 1차 선형 추세 모형"
   ]
  },
  {
   "cell_type": "markdown",
   "id": "a0fe3cfc-faaa-4a76-b0f9-5c0bb9ea7df0",
   "metadata": {},
   "source": [
    "$$\\text{모형}: Z_t = \\beta_0 + \\beta_1 t + \\epsilon_t, t=1,\\dots, n$$"
   ]
  },
  {
   "cell_type": "code",
   "execution_count": null,
   "id": "e1d04b7e-9428-4053-b422-85df8a505dca",
   "metadata": {},
   "outputs": [],
   "source": [
    "m1 <- lm(pop~t, data=tmp.data)\n",
    "summary(m1)\n"
   ]
  },
  {
   "cell_type": "code",
   "execution_count": null,
   "id": "8e47d3d1-413f-419f-971f-121331b39ee0",
   "metadata": {},
   "outputs": [],
   "source": [
    "plot(pop~day, tmp.data,\n",
    " main = 'Population : observation vs. fitted value',\n",
    " xlab=\"\", ylab=\"\",\n",
    " type='l',\n",
    " col='skyblue',\n",
    " lwd=2, cex.axis=2, cex.main=2) +\n",
    " points(pop~day, tmp.data, col=\"steelblue\", cex=2, pch=16) +\n",
    " lines(tmp.data$day, fitted(m1), col='red', lty=2, lwd=2)\n"
   ]
  },
  {
   "cell_type": "markdown",
   "id": "011149cf-b955-4be3-a334-0d8920167ee9",
   "metadata": {},
   "source": [
    "## 잔차분석"
   ]
  },
  {
   "cell_type": "code",
   "execution_count": null,
   "id": "096b3ec7-6f7d-4c1e-a3ea-52c9f390f7aa",
   "metadata": {},
   "outputs": [],
   "source": [
    "plot(tmp.data$day, resid(m1),\n",
    "     pch=16, cex=2, xaxt='n',\n",
    "     xlab=\"\", ylab=\"\", main=\"residual plot\", cex.main=2)\n",
    "abline(h=0, lty=2, lwd=2)\n"
   ]
  },
  {
   "cell_type": "markdown",
   "id": "9bdccf2c-81d6-4f66-b45c-11de1c347462",
   "metadata": {},
   "source": [
    "## 독립성검정(DW test)"
   ]
  },
  {
   "cell_type": "code",
   "execution_count": null,
   "id": "b2c3d4e6-58a8-4c46-a31f-df131051d0f1",
   "metadata": {},
   "outputs": [],
   "source": [
    "dwtest(m1)"
   ]
  },
  {
   "cell_type": "code",
   "execution_count": null,
   "id": "006431e0-9be2-4ca5-8d87-a104a2f73c6e",
   "metadata": {},
   "outputs": [],
   "source": [
    "dwtest(m1, alternative=\"two.sided\")"
   ]
  },
  {
   "cell_type": "code",
   "execution_count": null,
   "id": "ce15d158-959d-480c-822c-89e5cf6cbfbc",
   "metadata": {},
   "outputs": [],
   "source": [
    "dwtest(m1, alternative=\"less\")"
   ]
  },
  {
   "cell_type": "markdown",
   "id": "e90596bb-e53f-445e-87db-bbc94cd2a8cd",
   "metadata": {},
   "source": [
    "## 정규분포 검정(shapro-wilk test)"
   ]
  },
  {
   "cell_type": "markdown",
   "id": "1d8470c5-cf22-4eff-ab57-354147c84626",
   "metadata": {},
   "source": [
    "`-` 가설\n",
    "\n",
    "$H_0$: 정규분포를 따른다. VS $H_1$: 정규분포를 따르지 않는다."
   ]
  },
  {
   "cell_type": "code",
   "execution_count": null,
   "id": "b21b012a-ea12-4592-8961-59bea7c76378",
   "metadata": {},
   "outputs": [],
   "source": [
    "hist(resid(m1))\n"
   ]
  },
  {
   "cell_type": "code",
   "execution_count": null,
   "id": "dae4dd0c-c407-4caa-91f3-aa5cbb09225a",
   "metadata": {},
   "outputs": [],
   "source": [
    "shapiro.test(resid(m1)) #H_0 : 정규분포를 따른다.\n"
   ]
  },
  {
   "cell_type": "markdown",
   "id": "bb335579-e4f7-443e-8fa6-2ebdcaf3938e",
   "metadata": {},
   "source": [
    "## 등분산성검정(Breusch–Pagan test)"
   ]
  },
  {
   "cell_type": "markdown",
   "id": "21273cc6-70d8-4c20-acd7-c445ba2b4a4b",
   "metadata": {},
   "source": [
    "`-` 가설\n",
    "\n",
    "$H_0$: 등분산 VS $H_1$: 이분산"
   ]
  },
  {
   "cell_type": "code",
   "execution_count": null,
   "id": "125344aa-1464-4dd6-8cb5-71f60c6b5ca7",
   "metadata": {},
   "outputs": [],
   "source": [
    "bptest(m1)\n"
   ]
  },
  {
   "cell_type": "markdown",
   "id": "704dd157-7e2c-4d28-bcf0-2be9e494be06",
   "metadata": {
    "tags": []
   },
   "source": [
    "# 2차 선형 추세"
   ]
  },
  {
   "cell_type": "markdown",
   "id": "97aa6364-c635-4bc5-bbf5-c7bd76d227d5",
   "metadata": {},
   "source": [
    "$$\\text{모형}: Z_t = \\beta_0 + \\beta_1 t + \\beta_2 t^2 + \\epsilon_t, t=1,\\dots, n$$"
   ]
  },
  {
   "cell_type": "code",
   "execution_count": null,
   "id": "e546397f-0dba-42ba-b283-053af6fae2d4",
   "metadata": {},
   "outputs": [],
   "source": [
    "m2 <- lm(pop~t+t2, data=tmp.data)\n",
    "summary(m2)\n"
   ]
  },
  {
   "cell_type": "code",
   "execution_count": null,
   "id": "1ecf2a4b-eb56-4e69-87c9-891a1357336b",
   "metadata": {},
   "outputs": [],
   "source": [
    "plot(pop~day, tmp.data,\n",
    " main = 'Population : observation vs. fitted value',\n",
    " xlab=\"\", ylab=\"\",\n",
    " type='l',\n",
    " col='skyblue',\n",
    " lwd=2, cex.axis=2, cex.main=2) +\n",
    " points(pop~day, tmp.data, col=\"steelblue\", cex=2, pch=16) +\n",
    " lines(tmp.data$day, fitted(m2), col='red', lty=2, lwd=2)"
   ]
  },
  {
   "cell_type": "markdown",
   "id": "479a96e0-d9d0-4ab8-b2e2-455111ce8c79",
   "metadata": {},
   "source": [
    "## 잔차분석"
   ]
  },
  {
   "cell_type": "code",
   "execution_count": null,
   "id": "97f2913c-f099-42ba-866f-9ffb28b7eeed",
   "metadata": {},
   "outputs": [],
   "source": [
    "plot(tmp.data$day, resid(m2),\n",
    " pch=16, cex=2, xaxt='n',\n",
    " xlab=\"\", ylab=\"\", main=\"residual plot\", cex.main=2)\n",
    "abline(h=0, lty=2, lwd=2)\n"
   ]
  },
  {
   "cell_type": "markdown",
   "id": "24dc00de-3995-4f1d-be00-b9071f5aa8c8",
   "metadata": {},
   "source": [
    "## 독립성 검정(DW test)"
   ]
  },
  {
   "cell_type": "code",
   "execution_count": null,
   "id": "429395a5-7c42-4952-b32e-a0e1dd9d44fe",
   "metadata": {},
   "outputs": [],
   "source": [
    "dwtest(m2,alternative = \"two.sided\")"
   ]
  },
  {
   "cell_type": "code",
   "execution_count": null,
   "id": "e49ad786-af64-459b-8214-b5162ec4af82",
   "metadata": {},
   "outputs": [],
   "source": [
    "dwtest(m2,alternative = \"greater\")\n"
   ]
  },
  {
   "cell_type": "markdown",
   "id": "0b5b5382-5d64-4ee2-a8c7-917b0181056d",
   "metadata": {},
   "source": [
    "## 정규성 검정"
   ]
  },
  {
   "cell_type": "code",
   "execution_count": null,
   "id": "5e6b5349-7a64-40bf-a596-e355ce6454b3",
   "metadata": {},
   "outputs": [],
   "source": [
    "qqnorm(resid(m2), pch=16, cex=2)\n",
    "qqline(resid(m2), col = 2, lwd=2)\n"
   ]
  },
  {
   "cell_type": "code",
   "execution_count": null,
   "id": "6e5e3c4b-8441-4c73-a1ef-f22162df86d3",
   "metadata": {},
   "outputs": [],
   "source": [
    "hist(resid(m2))"
   ]
  },
  {
   "cell_type": "code",
   "execution_count": null,
   "id": "a45c276e-bc30-4fc1-bda2-afee0cbf2a79",
   "metadata": {},
   "outputs": [],
   "source": [
    "shapiro.test(resid(m2)) ##shapiro-wilk test"
   ]
  },
  {
   "cell_type": "markdown",
   "id": "563e2c33-25f0-4928-97d4-f25f9e7abf5a",
   "metadata": {},
   "source": [
    "## 등분산성 검정"
   ]
  },
  {
   "cell_type": "code",
   "execution_count": null,
   "id": "250f42b1-2dc1-4392-87a4-2b333db8e503",
   "metadata": {},
   "outputs": [],
   "source": [
    "bptest(m2)"
   ]
  },
  {
   "cell_type": "markdown",
   "id": "93e83269-2ba1-4228-9658-20324dcd4791",
   "metadata": {},
   "source": [
    "# 로그변환 후 2차 추세"
   ]
  },
  {
   "cell_type": "markdown",
   "id": "26c44951-68d7-496a-b4cc-97683bdfe0a4",
   "metadata": {},
   "source": [
    "$$\\text{모형}: ln(Z_t) = \\beta_0 + \\beta_1 t + \\beta_2 t^2 + \\epsilon_t, t=1,\\dots, n$$"
   ]
  },
  {
   "cell_type": "code",
   "execution_count": null,
   "id": "1181ed5a-f2e5-465a-b17a-75c8e6263ca9",
   "metadata": {},
   "outputs": [],
   "source": [
    "m3 <- lm(log(pop)~t+t2, data=tmp.data)\n",
    "summary(m3)"
   ]
  },
  {
   "cell_type": "code",
   "execution_count": null,
   "id": "17fb2bf4-734b-4a7c-9a08-9d855d1b079f",
   "metadata": {},
   "outputs": [],
   "source": [
    "plot(log(pop)~day, tmp.data,\n",
    " main = 'Population : observation vs. fitted value',\n",
    " xlab=\"\", ylab=\"\",\n",
    " type='l',\n",
    " col='skyblue',\n",
    " lwd=2, cex.axis=2, cex.main=2) +\n",
    " points(log(pop)~day, tmp.data, col=\"steelblue\", cex=2, pch=16) +\n",
    " lines(tmp.data$day, fitted(m3), col='red', lty=2, lwd=2)\n"
   ]
  },
  {
   "cell_type": "code",
   "execution_count": null,
   "id": "79c99551-8bf5-45e7-a7de-417216160a6b",
   "metadata": {},
   "outputs": [],
   "source": [
    "plot(pop~day, tmp.data,\n",
    " main = 'Population : observation vs. fitted value',\n",
    " xlab=\"\", ylab=\"\",\n",
    " type='l',\n",
    " col='skyblue',\n",
    " lwd=2, cex.axis=2, cex.main=2) +\n",
    " points(pop~day, tmp.data, col=\"steelblue\", cex=2, pch=16) +\n",
    " lines(tmp.data$day, exp(fitted(m3)), col='red', lty=2, lwd=2)"
   ]
  },
  {
   "cell_type": "markdown",
   "id": "0b99a38f-0d70-4b1d-8e10-44f6bcbee571",
   "metadata": {},
   "source": [
    "## 잔차분석"
   ]
  },
  {
   "cell_type": "code",
   "execution_count": null,
   "id": "cb024e43-8215-431f-8812-1215318003a9",
   "metadata": {},
   "outputs": [],
   "source": [
    "plot(tmp.data$day, resid(m3),\n",
    " pch=16, cex=2, xaxt='n',\n",
    " xlab=\"\", ylab=\"\", main=\"residual plot\", cex.main=2)\n",
    "abline(h=0, lty=2, lwd=2)"
   ]
  },
  {
   "cell_type": "markdown",
   "id": "ed844a96-bf2e-402c-be29-2b00fe733344",
   "metadata": {},
   "source": [
    "## 독립성 검정"
   ]
  },
  {
   "cell_type": "code",
   "execution_count": null,
   "id": "81ee3db1-01b6-4c20-95f6-f7cf15d8222d",
   "metadata": {},
   "outputs": [],
   "source": [
    "dwtest(m3,alternative = \"two.sided\")\n"
   ]
  },
  {
   "cell_type": "code",
   "execution_count": null,
   "id": "b9e542ec-f5c9-4364-9a00-648b37214da3",
   "metadata": {},
   "outputs": [],
   "source": [
    "dwtest(m3,alternative = \"greater\")\n"
   ]
  },
  {
   "cell_type": "markdown",
   "id": "cb08e37a-acba-4464-a0f9-3858883bab34",
   "metadata": {},
   "source": [
    "## 정규성 검정"
   ]
  },
  {
   "cell_type": "code",
   "execution_count": null,
   "id": "0b236ab4-fb97-4261-a2aa-3276f07056f4",
   "metadata": {},
   "outputs": [],
   "source": [
    "qqnorm(resid(m2), pch=16, cex=2)\n",
    "qqline(resid(m2), col = 2, lwd=2)\n"
   ]
  },
  {
   "cell_type": "code",
   "execution_count": null,
   "id": "79d666be-91d9-4e3d-8cbe-bea4a1e083ad",
   "metadata": {},
   "outputs": [],
   "source": [
    "hist(resid(m3))"
   ]
  },
  {
   "cell_type": "code",
   "execution_count": null,
   "id": "af99d2af-e939-4caa-b942-b8db16a38157",
   "metadata": {},
   "outputs": [],
   "source": [
    "shapiro.test(resid(m3))"
   ]
  },
  {
   "cell_type": "markdown",
   "id": "029d7b26-7336-4d0a-b70e-4df35f7f06b4",
   "metadata": {},
   "source": [
    "## 등분산성 검정"
   ]
  },
  {
   "cell_type": "code",
   "execution_count": null,
   "id": "7485068b-bf29-4960-9839-6e51d5405062",
   "metadata": {},
   "outputs": [],
   "source": [
    "bptest(m3)\n"
   ]
  },
  {
   "cell_type": "code",
   "execution_count": null,
   "id": "c766fac0-e695-4870-b917-528700c3b9e0",
   "metadata": {},
   "outputs": [],
   "source": []
  },
  {
   "cell_type": "code",
   "execution_count": null,
   "id": "3cf955e6-e695-476a-a0f2-cff07b431576",
   "metadata": {},
   "outputs": [],
   "source": []
  },
  {
   "cell_type": "code",
   "execution_count": null,
   "id": "ccebf06c-9b0e-41cf-b7e2-7da4d327538a",
   "metadata": {},
   "outputs": [],
   "source": []
  },
  {
   "cell_type": "code",
   "execution_count": null,
   "id": "b71caa9f-35e0-4be7-979b-221112530259",
   "metadata": {},
   "outputs": [],
   "source": []
  },
  {
   "cell_type": "code",
   "execution_count": null,
   "id": "3da8f0ce-7ee2-40f0-af36-2cd3d07e06d1",
   "metadata": {},
   "outputs": [],
   "source": []
  },
  {
   "cell_type": "code",
   "execution_count": null,
   "id": "780a9d89-fbc4-4f55-ae74-ca3c82ef3810",
   "metadata": {},
   "outputs": [],
   "source": []
  }
 ],
 "metadata": {
  "kernelspec": {
   "display_name": "R",
   "language": "R",
   "name": "ir"
  },
  "language_info": {
   "codemirror_mode": "r",
   "file_extension": ".r",
   "mimetype": "text/x-r-source",
   "name": "R",
   "pygments_lexer": "r",
   "version": "4.2.2"
  }
 },
 "nbformat": 4,
 "nbformat_minor": 5
}
