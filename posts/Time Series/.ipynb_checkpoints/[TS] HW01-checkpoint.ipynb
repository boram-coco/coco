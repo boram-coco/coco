{
 "cells": [
  {
   "cell_type": "code",
   "execution_count": null,
   "id": "cc1b3938-7a2e-4087-858b-8435f92d91b2",
   "metadata": {},
   "outputs": [],
   "source": []
  },
  {
   "cell_type": "raw",
   "id": "db8b0d11-76b4-4e03-81c8-aea4d1491987",
   "metadata": {},
   "source": [
    "---\n",
    "title: \"[TS] HW01\"\n",
    "author: \"김보람\"\n",
    "date: \"09/30/2023\"\n",
    "categories:\n",
    "  - Time Series\n",
    "---"
   ]
  },
  {
   "cell_type": "markdown",
   "id": "8751a9ed-5d81-4604-9811-de0c5f6420e4",
   "metadata": {},
   "source": [
    "> 해당 자료는 전북대학교 이영미 교수님 2023고급시계열분석 자료임"
   ]
  },
  {
   "cell_type": "markdown",
   "id": "53e51ec5-7640-48e5-84e4-d3abded8bfa4",
   "metadata": {},
   "source": [
    "# 1"
   ]
  },
  {
   "cell_type": "markdown",
   "id": "7884b8d3-8b82-4de2-859c-57424674c0d3",
   "metadata": {},
   "source": [
    "다음은 어느 서점에서 최근 10 일동안 판매된 경제 서적의 일별 판매액 (단위 : 만원)을 나타내는\n",
    "시계열 자료이다. 이 자료에 상수평균모형을 적합시키려 한다.\n",
    "\n",
    "|k|1|2|3|4|5|6|7|8|9|10|\n",
    "|-- |-- |-- |-- |-- |-- |-- |-- |-- |-- |--   |\n",
    "|$Z_t$|52|46|46|52|50|50|48|45|41|53|"
   ]
  },
  {
   "cell_type": "markdown",
   "id": "0192dc15-cab2-414e-92ed-272842718caf",
   "metadata": {},
   "source": [
    "## (1)"
   ]
  },
  {
   "cell_type": "markdown",
   "id": "aabf75e9-838b-4989-a20c-15878862b0aa",
   "metadata": {},
   "source": [
    "상수평균모형을 적합하여라."
   ]
  },
  {
   "cell_type": "markdown",
   "id": "05959bf6-f328-471f-8079-6479d504d522",
   "metadata": {},
   "source": [
    "## (2)"
   ]
  },
  {
   "cell_type": "markdown",
   "id": "10a30909-cc9f-4725-8acf-8ef44cfdd973",
   "metadata": {},
   "source": [
    "미래값 $Z_{10+l}$ 에 대한 예측값 $\\hat{Z}_{10}(l)$을 구하시오. $(l = 1, 2, 3, 4, 5)$"
   ]
  },
  {
   "cell_type": "markdown",
   "id": "c6e37cd9-57d8-4bd6-88f2-d32e0ffb0747",
   "metadata": {},
   "source": [
    "## (3)"
   ]
  },
  {
   "cell_type": "markdown",
   "id": "576d6c34-6402-43e4-ad58-5a0f00180ef5",
   "metadata": {},
   "source": [
    "미래값 $Z_{10+l}, l = 1, 2, 3, 4, 5$에 대한 95% 예측구간을 구하고, 예측값 및 예측구간의 하한값과\n",
    "상한값을 관측값 $Z_t$의 시계열과 함께 표시하여라.\n"
   ]
  },
  {
   "cell_type": "markdown",
   "id": "0eafd765-ff7f-40b7-bbb8-c0fc6bbf6df8",
   "metadata": {},
   "source": [
    "# 2"
   ]
  },
  {
   "cell_type": "markdown",
   "id": "1eafda82-5674-44eb-b938-2f8da57944ef",
   "metadata": {},
   "source": [
    " 다음은 신장개업한 어느 편의점의 15 주간 주별 매출액을 나타낸 시계열자료이다. 이 자료에\n",
    "선형추세모형을 적합시키려 한다.\n"
   ]
  },
  {
   "cell_type": "markdown",
   "id": "ae6f7598-d655-40b1-aa3f-a42bcb1df14b",
   "metadata": {},
   "source": [
    "|k|1|2|3|4|5|6|7|8|9|10|11|12|13|14|15|\n",
    "|--|-|-|-|-|-|-|-|-|-|-|-|-|-|-|-|\n",
    "|$Z_t$|303|298|303|314|303|314|310|324|317|327|323|324|331|330|332|"
   ]
  },
  {
   "cell_type": "markdown",
   "id": "f7d31d4c-e899-4165-96f7-14a414993f07",
   "metadata": {},
   "source": [
    "## (1)"
   ]
  },
  {
   "cell_type": "markdown",
   "id": "56a6c838-3d69-4d9a-9ac1-2e1494d128fa",
   "metadata": {},
   "source": [
    "선형추세모형을 쓰시오."
   ]
  },
  {
   "cell_type": "markdown",
   "id": "f51b5493-2c2e-408b-bdbd-54d91ea9b8a0",
   "metadata": {},
   "source": [
    "## (2)"
   ]
  },
  {
   "cell_type": "markdown",
   "id": "684f5849-e7c7-4e8e-b692-423d118ee0fb",
   "metadata": {},
   "source": [
    "최소제곱법에 의하여 구한 $β_0, β_1$의 추정량이 각각 다음과 같아짐을 보여라."
   ]
  },
  {
   "cell_type": "markdown",
   "id": "9f435c55-3606-45ea-9a5f-b71b4650befd",
   "metadata": {},
   "source": [
    "$$\\hat{\\beta_0} = \\frac{2(2n+1)}{n(n-1)} \\sum_{t=1}^n Z_t - \\frac{6}{n(n-1)} \\sum_{t=1}^n t_t$$\n",
    "\n",
    "$$\\hat{\\beta_1} = \\frac{12}{n(n^2-1)} \\sum_{t=1}^n t Z_t - \\frac{6}{n(n-1)} \\sum_{t=1}^n Z_t$$"
   ]
  },
  {
   "cell_type": "markdown",
   "id": "31a911ae-f44f-4ce0-9153-1ed6d936e7d3",
   "metadata": {},
   "source": [
    "## (3)"
   ]
  },
  {
   "cell_type": "markdown",
   "id": "c8baed28-b324-474e-8838-9d2caf3db213",
   "metadata": {},
   "source": [
    " 선형추세모형을 적합하시오. (회귀계수 추정 및 모형 결과 설명)"
   ]
  },
  {
   "cell_type": "markdown",
   "id": "ee036bd7-5766-4c3f-a550-5be89ffbcda2",
   "metadata": {},
   "source": [
    "## (4)"
   ]
  },
  {
   "cell_type": "markdown",
   "id": "7240b1e2-8732-494d-bb55-19bac72cddaf",
   "metadata": {},
   "source": [
    "미래값 $Z_{15+l}$ 에 대한 예측값 $\\hat {Z}_{15}(l)$을 구하시오. $(l = 1, 2, 3, 4, 5)$"
   ]
  },
  {
   "cell_type": "markdown",
   "id": "ba2686a7-d43c-4d49-a534-7386275a5735",
   "metadata": {},
   "source": [
    "# 3"
   ]
  },
  {
   "cell_type": "markdown",
   "id": "19b8940e-5b6d-41d3-9f30-368a6fe70c55",
   "metadata": {},
   "source": [
    "(R 실습) 다음과 같은 시계열모형으로부터 모의시계열자료 $\\{Z_t, t = 1, 2, . . . , 100 \\}$을 생성한 후\n",
    "4개의 시계열그림을 겹쳐 그려보고 비교하여라. 그리고 각 모의시계열자료의 표본평균과 표본분\n",
    "산을 구하고, 이론적인 평균 및 분산과 비료하여라.\n"
   ]
  },
  {
   "cell_type": "markdown",
   "id": "56adbe5b-19a7-4e1c-bea9-b40e20ec2139",
   "metadata": {},
   "source": [
    "## (1)"
   ]
  },
  {
   "cell_type": "markdown",
   "id": "6d593b4e-c66a-4012-926c-5eb8f6ab17b7",
   "metadata": {},
   "source": [
    "$Z_t = 100 + ϵ_t$, 단 $ϵ_t$는 서로 독립이고 $N(0, 1)$ 분포를 따른다."
   ]
  },
  {
   "cell_type": "markdown",
   "id": "b3aefab7-cfd4-4b49-bcdb-b2398f272c8b",
   "metadata": {},
   "source": [
    "## (2)"
   ]
  },
  {
   "cell_type": "markdown",
   "id": "c4a51bdb-7b97-428a-8392-8aec889542c4",
   "metadata": {},
   "source": [
    "$Z_t = 500 + ϵ_t$, 단 $ϵ_t$는 서로 독립이고 $N(0, 1)$ 분포를 따른다."
   ]
  },
  {
   "cell_type": "markdown",
   "id": "79454ecc-891d-4e40-b226-d5642720a966",
   "metadata": {},
   "source": [
    "## (3)"
   ]
  },
  {
   "cell_type": "markdown",
   "id": "580fb414-4e71-4735-9348-69e8eca6dd77",
   "metadata": {},
   "source": [
    "$Z_t = 100 + ϵ_t$, 단 $ϵ_t$는 서로 독립이고 $N(0, 100)$ 분포를 따른다."
   ]
  },
  {
   "cell_type": "markdown",
   "id": "fcb1b2ed-e2ac-46d7-a5d6-30298a3ba10a",
   "metadata": {},
   "source": [
    "## (4)"
   ]
  },
  {
   "cell_type": "markdown",
   "id": "3c1da8af-7ccd-4e55-aa25-7b56c2248d3d",
   "metadata": {},
   "source": [
    "$Z_t = 100 + tϵ_t$, 단 $ϵ_t$는 서로 독립이고 $N(0, 1)$ 분포를 따른다."
   ]
  },
  {
   "cell_type": "markdown",
   "id": "87902a55-b93b-404e-9899-129f97d8ab6f",
   "metadata": {},
   "source": [
    "# 4"
   ]
  },
  {
   "cell_type": "markdown",
   "id": "7c556574-080f-4baf-896b-77a5d5a826ef",
   "metadata": {},
   "source": [
    " (R 실습) 다음과 같은 시계열모형으로부터 모의시계열자료 $\\{Z_t, t = 1, 2, . . . , 100 \\}$을 생성한 후\n",
    "$Z_t$와 $E(Z_t)$의 시계열그림을 겹쳐 그려라. 또한 이 시계열 자료들은 각각 어떤 성분으로 구성되어\n",
    "있는지 설명하여라. 단 오차항 $ϵ_t$는 서로 독립인 $N(0, 1)$ 분포를 가정한다."
   ]
  },
  {
   "cell_type": "markdown",
   "id": "0cd12d7a-11a6-423f-84c1-e73a6d2d36ee",
   "metadata": {},
   "source": [
    "## (1)"
   ]
  },
  {
   "cell_type": "markdown",
   "id": "9a6e66fc-5a46-41ec-91cd-42f56c717cd1",
   "metadata": {},
   "source": [
    "$Z_t = 100 + ϵ_t$"
   ]
  },
  {
   "cell_type": "markdown",
   "id": "00da47e7-4ff1-416f-9621-6eab5ed180bb",
   "metadata": {},
   "source": [
    "## (2)"
   ]
  },
  {
   "cell_type": "markdown",
   "id": "62f7c6c7-792c-427b-9ba8-246607561dad",
   "metadata": {},
   "source": [
    "$Z_t = 100 + t + ϵ_t$"
   ]
  },
  {
   "cell_type": "markdown",
   "id": "c9c42e73-3d9c-4c7a-bd8a-0320396f7bb6",
   "metadata": {},
   "source": [
    "## (3)"
   ]
  },
  {
   "cell_type": "markdown",
   "id": "a28d4513-22a3-48a4-80a2-d5f0b3e09826",
   "metadata": {},
   "source": [
    "$Z_t = 100 + 0.3t + sin \\left( \\frac{2πt}{12} \\right)+ cos \\left(\\frac{2πt}{12} \\right) + ϵ_t$\n"
   ]
  },
  {
   "cell_type": "markdown",
   "id": "7b62178d-65c3-4138-81a4-0f76ce953439",
   "metadata": {},
   "source": [
    "# 5"
   ]
  },
  {
   "cell_type": "markdown",
   "id": "d7c22c2f-8d41-4eb2-aec9-152da7f7aa8e",
   "metadata": {},
   "source": [
    " (R 실습) “book.txt”는 한 서점에서 첫 30일동안 팔린 어느 베스트셀러의 일별 판매 부수(단위 :\n",
    "권) 시계열자료이다."
   ]
  },
  {
   "cell_type": "markdown",
   "id": "c2f13503-6ac4-47b1-b3ad-408f9a4e172f",
   "metadata": {},
   "source": [
    "## (1)"
   ]
  },
  {
   "cell_type": "markdown",
   "id": "51448f71-89ba-4f2a-85e7-38f50d896f26",
   "metadata": {},
   "source": [
    "시계열 그림을 그리시오."
   ]
  },
  {
   "cell_type": "markdown",
   "id": "980bf137-4bcc-4912-befc-7a8ec1928415",
   "metadata": {},
   "source": [
    "## (2)"
   ]
  },
  {
   "cell_type": "markdown",
   "id": "d63f4493-339a-4f09-85fb-8a43de437bca",
   "metadata": {},
   "source": [
    " 이 시계열 자료는 어떤 성분으로 구성되어 있는지 설명하시오.\n"
   ]
  },
  {
   "cell_type": "markdown",
   "id": "db617586-4fca-44c3-8932-ca37f88061ad",
   "metadata": {},
   "source": [
    "## (3)"
   ]
  },
  {
   "cell_type": "markdown",
   "id": "7cbab32f-045c-4cc9-9097-71dfa9e70841",
   "metadata": {},
   "source": [
    " 적절한 추세모형을 적합하여라."
   ]
  },
  {
   "cell_type": "markdown",
   "id": "33d4d5f7-7613-468e-b940-3f9da9d50a4c",
   "metadata": {},
   "source": [
    "## (4)"
   ]
  },
  {
   "cell_type": "markdown",
   "id": "ed12d157-8d23-4c2f-86dd-376d98e4ed3c",
   "metadata": {},
   "source": [
    "마지막 관측값으로 부터 $Z_{n+l}$ 에 대한 예측값 $\\hat{Z}_n (l)$을 구하시오. $(n = 30, l = 1, 2, . . . , 12)$"
   ]
  },
  {
   "cell_type": "markdown",
   "id": "c1fecf4a-ca45-46f6-a7d9-82a944715bdf",
   "metadata": {},
   "source": [
    "## (5)"
   ]
  },
  {
   "cell_type": "markdown",
   "id": "7224ece7-cefb-46d6-b3aa-19cef9d36102",
   "metadata": {},
   "source": [
    "마지막 관측값으로 부터 $Z_{n+l}(n = 30, l = 1, 2, . . . , 12)$에 대한 95% 예측구간을 구하여라"
   ]
  },
  {
   "cell_type": "markdown",
   "id": "f972abf3-c243-41f8-8491-48598b16f8c1",
   "metadata": {},
   "source": [
    "## (6)"
   ]
  },
  {
   "cell_type": "markdown",
   "id": "4211a735-0da4-4989-9ad0-c5a9a77a923e",
   "metadata": {},
   "source": [
    "예측값 및 예측구간의 하한값과 상한값을 관측값 $Z_t$의 시계열과 함께 표시하여라."
   ]
  },
  {
   "cell_type": "markdown",
   "id": "e188df56-5fdf-42cd-85a1-169131caca90",
   "metadata": {},
   "source": [
    "# 6"
   ]
  },
  {
   "cell_type": "markdown",
   "id": "3fe2ff27-6efc-4309-8eb9-def1b5714555",
   "metadata": {},
   "source": [
    "(R 실습) “export.txt”는 월별수출액(단위:억$) 시계열자료이다."
   ]
  },
  {
   "cell_type": "markdown",
   "id": "97a0fd79-19e7-4b2a-bdf7-f6123b5c4821",
   "metadata": {},
   "source": [
    "## (1)"
   ]
  },
  {
   "cell_type": "markdown",
   "id": "a9fd6c33-93b6-4214-aa10-8b19f13d6391",
   "metadata": {},
   "source": [
    "시계열 그림을 그리시오."
   ]
  },
  {
   "cell_type": "markdown",
   "id": "88cb1d36-9631-48d2-bdb0-c98bd6770f6b",
   "metadata": {},
   "source": [
    "## (2)"
   ]
  },
  {
   "cell_type": "markdown",
   "id": "30ec2a9b-dc8c-4ac8-8406-cb36f5facd98",
   "metadata": {},
   "source": [
    " 이 시계열 자료는 어떤 성분으로 구성되어 있는지 설명하시오.\n"
   ]
  },
  {
   "cell_type": "markdown",
   "id": "f8c0ce83-0d0a-4236-ad07-7a0a82ead5ff",
   "metadata": {},
   "source": [
    "## (3)"
   ]
  },
  {
   "cell_type": "markdown",
   "id": "d020dfa8-bf45-4fa1-b53e-1395dd9f82ee",
   "metadata": {},
   "source": [
    " 적절한 추세모형을 적합하여라. (지시함수 사용)"
   ]
  },
  {
   "cell_type": "markdown",
   "id": "2eec6b06-7097-4730-b6f9-b45f639f23e5",
   "metadata": {},
   "source": [
    "## (4)"
   ]
  },
  {
   "cell_type": "markdown",
   "id": "7c3fa4dc-f417-48d9-87b1-dda7ba7e436a",
   "metadata": {},
   "source": [
    "적합 결과를 설명하여라. (회귀계수의 의미 설명)\n"
   ]
  },
  {
   "cell_type": "markdown",
   "id": "36488f34-eeb4-45e5-b803-5474530ae572",
   "metadata": {},
   "source": [
    "## (5)"
   ]
  },
  {
   "cell_type": "markdown",
   "id": "ae51acf0-d34a-4a2f-a8bd-bb9bda0585ee",
   "metadata": {},
   "source": [
    " 마지막 관측값으로 부터 $Z_{n+l}$ 에 대한 예측값 $\\hat{Z}_n(l)$을 구하시오. $(n = 30, l = 1, 2, . . . , 12)$"
   ]
  },
  {
   "cell_type": "markdown",
   "id": "176f50e0-cabc-49a3-9358-047cadd5b827",
   "metadata": {},
   "source": [
    "## (6)"
   ]
  },
  {
   "cell_type": "markdown",
   "id": "fb5ff68a-10db-4129-9646-d5f25f881c6e",
   "metadata": {},
   "source": [
    "마지막 관측값으로 부터 $Z_{n+l}(n = 30, l = 1, 2, . . . , 12)$에 대한 95% 예측구간을 구하여라"
   ]
  },
  {
   "cell_type": "code",
   "execution_count": null,
   "id": "c8e0b81b-668c-44f7-83a0-a76d484dcd76",
   "metadata": {},
   "outputs": [],
   "source": []
  },
  {
   "cell_type": "markdown",
   "id": "a41c7add-5299-4967-9ce3-9694216a61a3",
   "metadata": {},
   "source": [
    "## (7)"
   ]
  },
  {
   "cell_type": "markdown",
   "id": "25f3b69c-c1c4-4e15-a2ef-06a3cf0a05df",
   "metadata": {},
   "source": [
    "예측값 및 예측구간의 하한값과 상한값을 관측값 $Z_t$의 시계열과 함께 표시하여라."
   ]
  },
  {
   "cell_type": "code",
   "execution_count": null,
   "id": "a56efbf1-0af9-467e-a22f-be5acf7511de",
   "metadata": {},
   "outputs": [],
   "source": []
  }
 ],
 "metadata": {
  "kernelspec": {
   "display_name": "R",
   "language": "R",
   "name": "ir"
  },
  "language_info": {
   "codemirror_mode": "r",
   "file_extension": ".r",
   "mimetype": "text/x-r-source",
   "name": "R",
   "pygments_lexer": "r",
   "version": "4.2.2"
  }
 },
 "nbformat": 4,
 "nbformat_minor": 5
}
