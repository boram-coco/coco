{
 "cells": [
  {
   "cell_type": "raw",
   "id": "a0cc9735-4142-4966-9f00-5af2b8e7f688",
   "metadata": {},
   "source": [
    "---\n",
    "title: \"**[CTGAN]** CTGAN ToyEX\"\n",
    "author: \"신록예찬\"\n",
    "date: \"07/19/2023\"\n",
    "---"
   ]
  },
  {
   "cell_type": "markdown",
   "id": "0b6348fa-c676-44b7-af29-7128d5ebf916",
   "metadata": {},
   "source": [
    "# imports "
   ]
  },
  {
   "cell_type": "code",
   "execution_count": 1,
   "id": "1e3f0a47-d588-4cf8-8e4d-6b18cd28d3ac",
   "metadata": {},
   "outputs": [],
   "source": [
    "import numpy as np\n",
    "import pandas as pd\n",
    "import matplotlib.pyplot as plt\n",
    "from ctgan import CTGAN\n",
    "from ctgan import load_demo"
   ]
  },
  {
   "cell_type": "markdown",
   "id": "e24b8b82-a8ee-47f5-aab4-7a647958973e",
   "metadata": {},
   "source": [
    "# data "
   ]
  },
  {
   "cell_type": "code",
   "execution_count": 2,
   "id": "81495179-295a-4a9d-9284-09cb58a7a595",
   "metadata": {},
   "outputs": [],
   "source": [
    "x1 = np.random.randn(1000).tolist()\n",
    "y1 = ['A']*1000\n",
    "x2 = (np.random.randn(100)+5).tolist()\n",
    "y2 = ['B']*100"
   ]
  },
  {
   "cell_type": "code",
   "execution_count": 3,
   "id": "8f7d34d1-3b43-4834-a0ee-10330c6fbbd7",
   "metadata": {},
   "outputs": [
    {
     "data": {
      "text/html": [
       "<div>\n",
       "<style scoped>\n",
       "    .dataframe tbody tr th:only-of-type {\n",
       "        vertical-align: middle;\n",
       "    }\n",
       "\n",
       "    .dataframe tbody tr th {\n",
       "        vertical-align: top;\n",
       "    }\n",
       "\n",
       "    .dataframe thead th {\n",
       "        text-align: right;\n",
       "    }\n",
       "</style>\n",
       "<table border=\"1\" class=\"dataframe\">\n",
       "  <thead>\n",
       "    <tr style=\"text-align: right;\">\n",
       "      <th></th>\n",
       "      <th>x</th>\n",
       "      <th>y</th>\n",
       "    </tr>\n",
       "  </thead>\n",
       "  <tbody>\n",
       "    <tr>\n",
       "      <th>0</th>\n",
       "      <td>-0.557100</td>\n",
       "      <td>A</td>\n",
       "    </tr>\n",
       "    <tr>\n",
       "      <th>1</th>\n",
       "      <td>1.586981</td>\n",
       "      <td>A</td>\n",
       "    </tr>\n",
       "    <tr>\n",
       "      <th>2</th>\n",
       "      <td>1.867204</td>\n",
       "      <td>A</td>\n",
       "    </tr>\n",
       "    <tr>\n",
       "      <th>3</th>\n",
       "      <td>-1.377673</td>\n",
       "      <td>A</td>\n",
       "    </tr>\n",
       "    <tr>\n",
       "      <th>4</th>\n",
       "      <td>-0.013144</td>\n",
       "      <td>A</td>\n",
       "    </tr>\n",
       "    <tr>\n",
       "      <th>...</th>\n",
       "      <td>...</td>\n",
       "      <td>...</td>\n",
       "    </tr>\n",
       "    <tr>\n",
       "      <th>1095</th>\n",
       "      <td>5.758539</td>\n",
       "      <td>B</td>\n",
       "    </tr>\n",
       "    <tr>\n",
       "      <th>1096</th>\n",
       "      <td>7.837548</td>\n",
       "      <td>B</td>\n",
       "    </tr>\n",
       "    <tr>\n",
       "      <th>1097</th>\n",
       "      <td>5.462159</td>\n",
       "      <td>B</td>\n",
       "    </tr>\n",
       "    <tr>\n",
       "      <th>1098</th>\n",
       "      <td>4.565613</td>\n",
       "      <td>B</td>\n",
       "    </tr>\n",
       "    <tr>\n",
       "      <th>1099</th>\n",
       "      <td>2.790882</td>\n",
       "      <td>B</td>\n",
       "    </tr>\n",
       "  </tbody>\n",
       "</table>\n",
       "<p>1100 rows × 2 columns</p>\n",
       "</div>"
      ],
      "text/plain": [
       "             x  y\n",
       "0    -0.557100  A\n",
       "1     1.586981  A\n",
       "2     1.867204  A\n",
       "3    -1.377673  A\n",
       "4    -0.013144  A\n",
       "...        ... ..\n",
       "1095  5.758539  B\n",
       "1096  7.837548  B\n",
       "1097  5.462159  B\n",
       "1098  4.565613  B\n",
       "1099  2.790882  B\n",
       "\n",
       "[1100 rows x 2 columns]"
      ]
     },
     "execution_count": 3,
     "metadata": {},
     "output_type": "execute_result"
    }
   ],
   "source": [
    "df = pd.DataFrame({'x':x1+x2, 'y':y1+y2})\n",
    "df"
   ]
  },
  {
   "cell_type": "code",
   "execution_count": 4,
   "id": "14019e20-d82c-4215-8fdc-36f556db4285",
   "metadata": {},
   "outputs": [
    {
     "data": {
      "text/plain": [
       "(array([ 1.,  0.,  1.,  3.,  2., 12., 19., 32., 44., 30., 63., 66., 85.,\n",
       "        73., 96., 87., 77., 73., 66., 56., 36., 28., 19., 17.,  7.,  3.,\n",
       "         4.,  2.,  2.,  2.,  4.,  5.,  5.,  5., 10.,  9.,  8., 13.,  6.,\n",
       "         6.,  8.,  3.,  4.,  2.,  1.,  0.,  2.,  0.,  0.,  3.]),\n",
       " array([-3.30563479, -3.08115892, -2.85668304, -2.63220717, -2.4077313 ,\n",
       "        -2.18325542, -1.95877955, -1.73430368, -1.5098278 , -1.28535193,\n",
       "        -1.06087606, -0.83640018, -0.61192431, -0.38744844, -0.16297256,\n",
       "         0.06150331,  0.28597918,  0.51045506,  0.73493093,  0.9594068 ,\n",
       "         1.18388268,  1.40835855,  1.63283442,  1.8573103 ,  2.08178617,\n",
       "         2.30626204,  2.53073792,  2.75521379,  2.97968966,  3.20416554,\n",
       "         3.42864141,  3.65311728,  3.87759316,  4.10206903,  4.3265449 ,\n",
       "         4.55102078,  4.77549665,  4.99997252,  5.22444839,  5.44892427,\n",
       "         5.67340014,  5.89787601,  6.12235189,  6.34682776,  6.57130363,\n",
       "         6.79577951,  7.02025538,  7.24473125,  7.46920713,  7.693683  ,\n",
       "         7.91815887]),\n",
       " <BarContainer object of 50 artists>)"
      ]
     },
     "execution_count": 4,
     "metadata": {},
     "output_type": "execute_result"
    },
    {
     "data": {
      "image/png": "[encoded data removed]",
      "text/plain": [
       "<Figure size 640x480 with 1 Axes>"
      ]
     },
     "metadata": {},
     "output_type": "display_data"
    }
   ],
   "source": [
    "plt.hist(df.x,bins=50)"
   ]
  },
  {
   "cell_type": "markdown",
   "id": "672a22f6-8d02-4288-b338-0dfbdd646ac4",
   "metadata": {},
   "source": [
    "# CTGAN"
   ]
  },
  {
   "cell_type": "code",
   "execution_count": 5,
   "id": "3a31c119-5df3-440a-9266-df0a72044dc9",
   "metadata": {},
   "outputs": [
    {
     "name": "stderr",
     "output_type": "stream",
     "text": [
      "Exception ignored on calling ctypes callback function: <function _ThreadpoolInfo._find_modules_with_dl_iterate_phdr.<locals>.match_module_callback at 0x7f37484ab430>\n",
      "Traceback (most recent call last):\n",
      "  File \"/home/coco/anaconda3/envs/py38/lib/python3.8/site-packages/threadpoolctl.py\", line 400, in match_module_callback\n",
      "    self._make_module_from_path(filepath)\n",
      "  File \"/home/coco/anaconda3/envs/py38/lib/python3.8/site-packages/threadpoolctl.py\", line 515, in _make_module_from_path\n",
      "    module = module_class(filepath, prefix, user_api, internal_api)\n",
      "  File \"/home/coco/anaconda3/envs/py38/lib/python3.8/site-packages/threadpoolctl.py\", line 606, in __init__\n",
      "    self.version = self.get_version()\n",
      "  File \"/home/coco/anaconda3/envs/py38/lib/python3.8/site-packages/threadpoolctl.py\", line 646, in get_version\n",
      "    config = get_config().split()\n",
      "AttributeError: 'NoneType' object has no attribute 'split'\n",
      "Exception ignored on calling ctypes callback function: <function _ThreadpoolInfo._find_modules_with_dl_iterate_phdr.<locals>.match_module_callback at 0x7f37484ab430>\n",
      "Traceback (most recent call last):\n",
      "  File \"/home/coco/anaconda3/envs/py38/lib/python3.8/site-packages/threadpoolctl.py\", line 400, in match_module_callback\n",
      "    self._make_module_from_path(filepath)\n",
      "  File \"/home/coco/anaconda3/envs/py38/lib/python3.8/site-packages/threadpoolctl.py\", line 515, in _make_module_from_path\n",
      "    module = module_class(filepath, prefix, user_api, internal_api)\n",
      "  File \"/home/coco/anaconda3/envs/py38/lib/python3.8/site-packages/threadpoolctl.py\", line 606, in __init__\n",
      "    self.version = self.get_version()\n",
      "  File \"/home/coco/anaconda3/envs/py38/lib/python3.8/site-packages/threadpoolctl.py\", line 646, in get_version\n",
      "    config = get_config().split()\n",
      "AttributeError: 'NoneType' object has no attribute 'split'\n"
     ]
    }
   ],
   "source": [
    "# Names of the columns that are discrete\n",
    "discrete_columns = ['y']\n",
    "ctgan = CTGAN(epochs=500) # 겁나많이해야하네?\n",
    "ctgan.fit(df, discrete_columns)\n",
    "\n",
    "# Create synthetic data\n",
    "df2 = ctgan.sample(1000)"
   ]
  },
  {
   "cell_type": "code",
   "execution_count": 6,
   "id": "f8d54a3d-ebd2-4d56-9d62-348b25fa584a",
   "metadata": {},
   "outputs": [
    {
     "data": {
      "text/html": [
       "<div>\n",
       "<style scoped>\n",
       "    .dataframe tbody tr th:only-of-type {\n",
       "        vertical-align: middle;\n",
       "    }\n",
       "\n",
       "    .dataframe tbody tr th {\n",
       "        vertical-align: top;\n",
       "    }\n",
       "\n",
       "    .dataframe thead th {\n",
       "        text-align: right;\n",
       "    }\n",
       "</style>\n",
       "<table border=\"1\" class=\"dataframe\">\n",
       "  <thead>\n",
       "    <tr style=\"text-align: right;\">\n",
       "      <th></th>\n",
       "      <th>x</th>\n",
       "    </tr>\n",
       "    <tr>\n",
       "      <th>y</th>\n",
       "      <th></th>\n",
       "    </tr>\n",
       "  </thead>\n",
       "  <tbody>\n",
       "    <tr>\n",
       "      <th>A</th>\n",
       "      <td>530</td>\n",
       "    </tr>\n",
       "    <tr>\n",
       "      <th>B</th>\n",
       "      <td>470</td>\n",
       "    </tr>\n",
       "  </tbody>\n",
       "</table>\n",
       "</div>"
      ],
      "text/plain": [
       "     x\n",
       "y     \n",
       "A  530\n",
       "B  470"
      ]
     },
     "execution_count": 6,
     "metadata": {},
     "output_type": "execute_result"
    }
   ],
   "source": [
    "df2.groupby('y').count()"
   ]
  },
  {
   "cell_type": "code",
   "execution_count": 7,
   "id": "619f5d72-de09-4511-aa61-c78a0dae8fa1",
   "metadata": {},
   "outputs": [
    {
     "data": {
      "text/plain": [
       "<matplotlib.legend.Legend at 0x7f3730581f70>"
      ]
     },
     "execution_count": 7,
     "metadata": {},
     "output_type": "execute_result"
    },
    {
     "data": {
      "image/png": "[encoded data removed]",
      "text/plain": [
       "<Figure size 640x480 with 1 Axes>"
      ]
     },
     "metadata": {},
     "output_type": "display_data"
    }
   ],
   "source": [
    "plt.hist(df.x,bins=50,alpha=0.5,label='real')\n",
    "plt.hist(df2.x,bins=50,alpha=0.5,label='syn')\n",
    "plt.legend()"
   ]
  },
  {
   "cell_type": "code",
   "execution_count": 8,
   "id": "c9582cbb-5a7e-4d31-91cd-193a93a473c5",
   "metadata": {},
   "outputs": [
    {
     "data": {
      "text/plain": [
       "array([[<Axes: title={'center': 'x'}>]], dtype=object)"
      ]
     },
     "execution_count": 8,
     "metadata": {},
     "output_type": "execute_result"
    },
    {
     "data": {
      "image/png": "[encoded data removed]",
      "text/plain": [
       "<Figure size 640x480 with 1 Axes>"
      ]
     },
     "metadata": {},
     "output_type": "display_data"
    }
   ],
   "source": [
    "df2[df2.y=='A'].hist()"
   ]
  },
  {
   "cell_type": "code",
   "execution_count": 9,
   "id": "a4d5b731-4602-4b7c-8288-e1c930c77fa7",
   "metadata": {},
   "outputs": [
    {
     "data": {
      "text/plain": [
       "array([[<Axes: title={'center': 'x'}>]], dtype=object)"
      ]
     },
     "execution_count": 9,
     "metadata": {},
     "output_type": "execute_result"
    },
    {
     "data": {
      "image/png": "[encoded data removed]",
      "text/plain": [
       "<Figure size 640x480 with 1 Axes>"
      ]
     },
     "metadata": {},
     "output_type": "display_data"
    }
   ],
   "source": [
    "df2[df2.y=='B'].hist()"
   ]
  },
  {
   "cell_type": "code",
   "execution_count": null,
   "id": "e781e91d-5396-4327-9339-d4325e58c2d2",
   "metadata": {},
   "outputs": [],
   "source": []
  }
 ],
 "metadata": {
  "kernelspec": {
   "display_name": "Python 3 (ipykernel)",
   "language": "python",
   "name": "python3"
  },
  "language_info": {
   "codemirror_mode": {
    "name": "ipython",
    "version": 3
   },
   "file_extension": ".py",
   "mimetype": "text/x-python",
   "name": "python",
   "nbconvert_exporter": "python",
   "pygments_lexer": "ipython3",
   "version": "3.8.16"
  }
 },
 "nbformat": 4,
 "nbformat_minor": 5
}
