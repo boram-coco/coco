{
 "cells": [
  {
   "cell_type": "raw",
   "id": "736ec916-f099-4830-a9f9-3266727416da",
   "metadata": {},
   "source": [
    "---\n",
    "title: \"TS HW3\"\n",
    "author: \"김보람\"\n",
    "date: \"03/29/2023\"\n",
    "categories:\n",
    "  - Theoretical statistics\n",
    "  - homework\n",
    "---"
   ]
  },
  {
   "cell_type": "markdown",
   "id": "fa3e0708-e670-4e27-8f47-07ee90597359",
   "metadata": {},
   "source": [
    "> 모든 풀이는 틀릴 수 있움"
   ]
  },
  {
   "cell_type": "markdown",
   "id": "b323a300-2855-47f1-a167-18b0a6cd0103",
   "metadata": {},
   "source": [
    "# 1번"
   ]
  },
  {
   "cell_type": "markdown",
   "id": "5571dcbe-cbce-48fc-9d3a-35de4f2f2cc8",
   "metadata": {},
   "source": [
    "$B(a,b) = \\dfrac{γ(a)γ(b)}{γ(a+b)}$ 임을 보이시오"
   ]
  },
  {
   "cell_type": "markdown",
   "id": "5908844d-809c-4230-b753-cd6e8bf3a558",
   "metadata": {},
   "source": [
    "$γ(a)γ(b)=\\int_0^\\infty x^{a-1}e^{-x} dx \\int_0^\\infty y^{b-1}e^{-y}dy$\n",
    "\n",
    "= $\\int_0^\\infty \\int_0^\\infty x^{a-1}  y^{b-1} e^{-(x+y)} dxdy$"
   ]
  },
  {
   "cell_type": "markdown",
   "id": "6c50f73e-cd13-4f67-9fcc-82afef706e9e",
   "metadata": {},
   "source": [
    "$x+y=g$ 로 치환,  $dy=dg$"
   ]
  },
  {
   "cell_type": "markdown",
   "id": "f08abb64-7a2b-441f-8fd3-99414b6a176c",
   "metadata": {},
   "source": [
    "= $\\int_0^\\infty \\int_0^g x^{a-1} (g-x)^{b-1} e^{-g} dxdg$"
   ]
  },
  {
   "cell_type": "markdown",
   "id": "99c7541a-69a3-4c6c-9521-16b6d4604120",
   "metadata": {},
   "source": [
    "$t=xg$치환, $dt=\\dfrac{1}{g} dx$"
   ]
  },
  {
   "cell_type": "markdown",
   "id": "083b9c7d-a10c-4db4-8138-273ab201ecd6",
   "metadata": {},
   "source": [
    "= $\\int_0^\\infty \\int_0^1 (tg)^{a-1}(g-tg)^{b-1}e^{-g}gdtdy$"
   ]
  },
  {
   "cell_type": "markdown",
   "id": "4f904657-e65f-49df-8689-3a33d995b82f",
   "metadata": {},
   "source": [
    "=$\\int_0^1 t^{a-1}(1-t)^{b-1}dt \\int_0^\\infty g^{(a+b-1)}e^{-g}dg$"
   ]
  },
  {
   "cell_type": "markdown",
   "id": "a6dc9ce7-fbd6-4b8a-88b0-3eee5226751c",
   "metadata": {},
   "source": [
    "=$B(a,b)γ(a+b)$"
   ]
  },
  {
   "cell_type": "markdown",
   "id": "dc07bbfd-9657-4d55-a527-25b21ac58fc1",
   "metadata": {},
   "source": [
    "s.t $B(a,b) = \\dfrac{γ(a)γ(b)}{γ(a+b)}$"
   ]
  },
  {
   "cell_type": "markdown",
   "id": "fb7aa862-2820-4d6f-a557-1d89cba05192",
   "metadata": {},
   "source": [
    "# 2번"
   ]
  },
  {
   "cell_type": "markdown",
   "id": "2ffe5902-b4d7-4892-b909-478c609a6167",
   "metadata": {},
   "source": [
    "확률변수 $X$와 $Y$가 $f(x,y)=(x+y)I(0 \\leq x \\leq 1)I(0 \\leq y \\leq1)$를 따를 때 확률변수 $X$와 $Y$의 상관계수를 구하시오."
   ]
  },
  {
   "cell_type": "markdown",
   "id": "cfff7bff-d0c2-4518-a6a0-f22b61f891c1",
   "metadata": {},
   "source": [
    "$Corr(X,Y)=\\dfrac{Cov(X,Y)}{SD(X)SD(Y)}$"
   ]
  },
  {
   "cell_type": "markdown",
   "id": "74572e16-6ea5-441e-ae68-bffda4b73853",
   "metadata": {},
   "source": [
    "$Cov(X,Y)=E(XY)-E(X)E(Y)$"
   ]
  },
  {
   "cell_type": "markdown",
   "id": "246fd27b-dbe3-487d-9e61-ccc9eae65b52",
   "metadata": {},
   "source": [
    "$E(XY)=\\int\\int xy f(x,y)dxdy = \\int_0^1 \\int_0^1 xy(x+y) dxdy = \\int_0^1 ( \\dfrac{1}{3} y + \\dfrac{1}{2} y^2 ) dy = \\dfrac{1}{3}$"
   ]
  },
  {
   "cell_type": "markdown",
   "id": "bb562ac8-1607-4717-b8d6-148f22927867",
   "metadata": {},
   "source": [
    "$f(x)= \\int f(x,y)dy = x+\\dfrac{1}{2} I(0 \\leq x \\leq 1)$"
   ]
  },
  {
   "cell_type": "markdown",
   "id": "22f0575c-58a2-4072-8cd8-65e33717b0f6",
   "metadata": {},
   "source": [
    "$f(y)=\\int f(x,y)dx = y+\\dfrac{1}{2}  I(0 \\leq y \\leq 1)$"
   ]
  },
  {
   "cell_type": "markdown",
   "id": "eb47cdce-cccc-4742-af80-9bdd516e36eb",
   "metadata": {},
   "source": [
    "$E(X)=\\int xf(x)dx = \\int_0^1 (x^2+\\dfrac{x}{2}) dx=\\dfrac{7}{12}$"
   ]
  },
  {
   "cell_type": "markdown",
   "id": "295ca849-5a65-47df-8cb8-a4fd3fc73ac5",
   "metadata": {},
   "source": [
    "$E(Y)=\\int yf(y)dy = \\int_0^1 (y^2+\\dfrac{y}{2}) dy=\\dfrac{7}{12}$"
   ]
  },
  {
   "cell_type": "markdown",
   "id": "09abff38-a57e-48a1-a7dc-112b27b56350",
   "metadata": {},
   "source": [
    "$Cov(X,Y)=E(XY)-E(X)E(Y)=\\dfrac{1}{3}-(\\dfrac{7}{12})^2=\\dfrac{-1}{144}$"
   ]
  },
  {
   "cell_type": "markdown",
   "id": "4d9bb624-98e9-4a06-9a49-1976c4e9c9e8",
   "metadata": {},
   "source": [
    "$E(X^2)=\\int x^2 f(x)dx = \\int_0^1 (x^3 + \\dfrac{x^2}{2}) dx=\\dfrac{5}{12}$"
   ]
  },
  {
   "cell_type": "markdown",
   "id": "f1642fe4-e00f-4e54-9c77-0be5ece6c0a7",
   "metadata": {},
   "source": [
    "$E(Y^2)=\\int y^2 f(y)dy = \\int_0^1 (y^3 + \\dfrac{y^2}{2}) dy=\\dfrac{5}{12}$"
   ]
  },
  {
   "cell_type": "markdown",
   "id": "6f0b6130-b2eb-49e5-a3ac-57ed8adca399",
   "metadata": {},
   "source": [
    "$Var(X)=E(X^2)-[E(X)]^2=\\dfrac{5}{12} - (\\dfrac{7}{12})^2 = \\dfrac{11}{144},    SD(X)=\\sqrt{Var(X)}=\\sqrt{\\dfrac{11}{144}}$"
   ]
  },
  {
   "cell_type": "markdown",
   "id": "0be93a66-4ca8-4fbb-8c68-52a57a71c165",
   "metadata": {},
   "source": [
    "$Var(Y)=E(Y^2)-[E(Y)]^2=\\dfrac{5}{12} - (\\dfrac{7}{12})^2 = \\dfrac{11}{144},    SD(Y)=\\sqrt{Var(Y)}=\\sqrt{\\dfrac{11}{144}}$"
   ]
  },
  {
   "cell_type": "markdown",
   "id": "656c0430-9fb6-4da7-95db-b4ff1923a65e",
   "metadata": {},
   "source": [
    "$Corr(X,Y)=\\dfrac{Cov(X,Y)}{SD(X)SD(Y)}=\\dfrac{-1}{11}$"
   ]
  },
  {
   "cell_type": "markdown",
   "id": "823f89fc-8095-4b5d-a56f-e2076392e0a3",
   "metadata": {},
   "source": [
    "# 3번"
   ]
  },
  {
   "cell_type": "markdown",
   "id": "bb196c44-96b5-4dcd-9328-b6d7c256ff1a",
   "metadata": {},
   "source": [
    "$E(X_i)= μ, E(X_i^2)= σ^2, i=1,\\dots,n$인 확률 변수 $X_1, \\dots, X_n$과 상수 $a_1, \\dots, a_n$에 대하여 $U= \\sum_{i=1}^n a_i X_i$라 하자."
   ]
  },
  {
   "cell_type": "markdown",
   "id": "42cdb6ae-2fed-4db5-8161-88dcf9c6d3e3",
   "metadata": {},
   "source": [
    "<span style=\"color:red\">문제오류!! $E(X_i^2)=\\sigma^2$이 아니라 $Var(X_i)=\\sigma^2$</span>"
   ]
  },
  {
   "cell_type": "markdown",
   "id": "45cbc568-4152-4751-a9a6-15d49b75ef4b",
   "metadata": {},
   "source": [
    "## (1)"
   ]
  },
  {
   "cell_type": "markdown",
   "id": "01dc9cef-954a-421f-b56f-96131eae0dab",
   "metadata": {},
   "source": [
    "$E(U)= μ$를 만족하기 위한 상수 $a_1, \\dots, a_n$에 대한 조건은?"
   ]
  },
  {
   "cell_type": "markdown",
   "id": "9690f5fb-7a8c-4cfc-a1f7-99cf125dfc0f",
   "metadata": {},
   "source": [
    "$E(U)=E(\\sum_{i=1}^n a_i X_i)= E(a_1X_1)+ \\dots + E(a_nX_n)=  μ(a_1 + \\dots + a_n)=μ$"
   ]
  },
  {
   "cell_type": "markdown",
   "id": "46cae951-8fdf-4725-bde0-d2c1a75bc245",
   "metadata": {},
   "source": [
    "s.t $(a_1 + \\dots + a_n)=1$"
   ]
  },
  {
   "cell_type": "markdown",
   "id": "d5942e84-f897-48f5-b9f5-71552ce0ff9b",
   "metadata": {},
   "source": [
    "## (2)"
   ]
  },
  {
   "cell_type": "markdown",
   "id": "6941b067-b07c-47c6-b038-a74ad77d52ef",
   "metadata": {},
   "source": [
    "$Var(U)=\\sum_{i=1}^n a_i^2 Var(X_i) + 2 \\sum\\sum_{i<j} a_i a_j Cov(X_i, X_j)$임을 보이시오."
   ]
  },
  {
   "cell_type": "markdown",
   "id": "a4a90ef0-d11e-4968-8988-c4f372cdbf8b",
   "metadata": {},
   "source": [
    "만약 $X_i$ 가 랜덤분포라면..\n",
    "\n",
    "$Var(U)=Var(\\sum_{i=1}^n a_i X_i)= Var(a_1X_1)+ \\dots + Var(a_nX_n)= a_1^2Var(X_1)+\\dots+a_n^2Var(X_n)=\\sum a_i^2 Var(X_i)$"
   ]
  },
  {
   "cell_type": "markdown",
   "id": "286f01b9-00c5-44ed-a5a6-74e18dd196b0",
   "metadata": {},
   "source": [
    "$n=2$인 경우를 고려"
   ]
  },
  {
   "cell_type": "markdown",
   "id": "b31fc215-86c5-4d6c-b6bf-7ea6263cf3ff",
   "metadata": {},
   "source": [
    "$Var(a_1X_1+a_2X_2)=E(a_1X_1+a_2X_2)^2 - [E(a_1X_1)+E(a_2X_2)]^2$"
   ]
  },
  {
   "cell_type": "markdown",
   "id": "36801ea7-169e-4576-b26a-0605ba6fba5f",
   "metadata": {},
   "source": [
    "= $E(a_1^2X_1^2+ a_2^2X_2^2 + 2a_1a_2X_1X_2) - [E(a_1X_1)]^2 -[E(a_2X_2)]^2 -2E(a_1X_1)E(a_2X_2)$"
   ]
  },
  {
   "cell_type": "markdown",
   "id": "5af3b151-7b06-447b-bef8-28a1d18cdd8d",
   "metadata": {},
   "source": [
    "= $E(a_1^2X_1^2)+E(a_2^2X_2^2)+ 2a_1a_2E(X_1X_2) - [E(a_1X_1)]^2 -[E(a_2X_2)]^2 -2E(a_1X_1)E(a_2X_2)$"
   ]
  },
  {
   "cell_type": "markdown",
   "id": "a10fd75b-fc92-4d94-a62b-73e254484525",
   "metadata": {},
   "source": [
    "=  $E(a_1^2X_1^2)- [E(a_1X_1)]^2+E(a_2^2X_2^2)-[E(a_2X_2)]^2 + 2a_1a_2E(X_1X_2)-2a_1a_2E(X_1)E(X_2)$"
   ]
  },
  {
   "cell_type": "markdown",
   "id": "28a52fcd-af9b-43e7-9dfc-d791264afafd",
   "metadata": {},
   "source": [
    "=$Var(a_1X_1)+Var(a_2X_2)+2a_1a_2Cov(X_1,X_2)$"
   ]
  },
  {
   "cell_type": "markdown",
   "id": "b19e7d7a-1e5c-493a-8e79-d34ce49844ef",
   "metadata": {},
   "source": [
    "수학적 귀납법을 통해 그 이후도 성립"
   ]
  },
  {
   "cell_type": "markdown",
   "id": "87f55be0-7213-41c5-9c67-a480c56e24ab",
   "metadata": {},
   "source": [
    "<span style=\"color:blue\">교수님 풀이</span>\n",
    "\n",
    "<span style=\"color:blue\">$Var(U)=E[(u-E(u))^2]$</span>\n",
    "    \n",
    "<span style=\"color:blue\">$E(u)=\\sum a_i \\mu$ 이므로</span>\n",
    "    \n",
    "<span style=\"color:blue\">$u-E(u) = \\sum a_iX_i - \\sum a_i \\mu = \\sum a_i(X_i - \\mu)$</span>\n",
    "    \n",
    "<span style=\"color:blue\">$E[(u-E(u))^2] = E(\\sum a_i(X_i - \\mu))^2 = E(\\sum a_i^2(X_i-\\mu)^2 + \\sum \\sum a_i (X_i-\\mu) a_j (X_j-\\mu))$</span>\n",
    "    \n",
    "<span style=\"color:blue\">$=\\sum a_i^2 E(X_i-\\mu)^2 + 2\\sum \\sum a_i a_j E(X_i-\\mu)E(X_j-\\mu)$</span>\n",
    "\n",
    "<span style=\"color:blue\">$= \\sum_{i=1}^n a_i^2 Var(X_i) + 2 \\sum\\sum_{i<j} a_i a_j Cov(X_i, X_j)$</span>"
   ]
  },
  {
   "cell_type": "markdown",
   "id": "c42c984b-8b78-4ec9-8643-bd689f60482d",
   "metadata": {},
   "source": [
    "## (3) 확인해보쟈"
   ]
  },
  {
   "cell_type": "markdown",
   "id": "077a7027-8365-4e61-b488-01b2215797ab",
   "metadata": {},
   "source": [
    "$X_1, \\dots, X_n$이 서로 독립인 확률변수라고 할 때 $E(U)=μ$을 만족하면서 $Var(U)$를 최소로 하는 상수 $a_1,\\dots,a_n$에 대한 조건은?"
   ]
  },
  {
   "cell_type": "markdown",
   "id": "58b2866a-9c47-4108-afd6-8ced0ad46f7a",
   "metadata": {},
   "source": [
    "$X_i$가 서로 독립이면 $Cov(X_i,X_j)=0$이다."
   ]
  },
  {
   "cell_type": "markdown",
   "id": "a80cbbaf-b862-4efa-b2b3-f38c2522cb4a",
   "metadata": {},
   "source": [
    "만약 $X_i$ 가 랜덤분포라면..\n",
    "\n",
    "$Var(U)=Var(\\sum_{i=1}^n a_i X_i)= Var(a_1X_1)+ \\dots + Var(a_nX_n)= a_1^2Var(X_1)+\\dots+a_n^2Var(X_n)=\\sum a_i^2 Var(X_i)$"
   ]
  },
  {
   "cell_type": "markdown",
   "id": "4d8c7480-9bcd-43eb-a381-0342f2a7db29",
   "metadata": {},
   "source": [
    "$(σ^2 - μ^2) \\sum a_i^2$"
   ]
  },
  {
   "cell_type": "markdown",
   "id": "a04bc706-397f-4752-a21c-a42550ac0478",
   "metadata": {},
   "source": [
    "위식이 최소가 되기 위해서는 $\\sum a_i^2$이 최소가 되어야 한다."
   ]
  },
  {
   "cell_type": "markdown",
   "id": "4889bc50-9313-4357-8563-4a55e17a8229",
   "metadata": {},
   "source": [
    "코시 슈바츠르 부등식을 이용하여,"
   ]
  },
  {
   "cell_type": "markdown",
   "id": "b06b7a81-fd29-4181-b842-b0a4a3c71013",
   "metadata": {},
   "source": [
    "> 코시 슈차르츠 부등식: $(a^2+b^2)(x^2+y^2) > (ax+by)^2$"
   ]
  },
  {
   "cell_type": "markdown",
   "id": "cdb8ee82-a11b-4e32-8f55-aff002d6ef26",
   "metadata": {},
   "source": [
    "$(a_1^2 + \\dots + a_n^2)(1^2+ \\dots + 1^2) \\geq (a_1+ \\dots a_n)^2$"
   ]
  },
  {
   "cell_type": "markdown",
   "id": "7dbab952-8139-49c2-ac5e-9cdf441307f0",
   "metadata": {},
   "source": [
    "$n \\sum a_i^2 \\geq  μ^2$"
   ]
  },
  {
   "cell_type": "markdown",
   "id": "4a6bfa68-d7c5-4b33-ae24-1f6867f1619d",
   "metadata": {},
   "source": [
    "$\\sum a_i^2 \\geq \\dfrac{μ^2}{n}$"
   ]
  },
  {
   "cell_type": "markdown",
   "id": "a3ce58c6-9628-434e-8492-607e5c2ad18b",
   "metadata": {},
   "source": [
    "<span style=\"color:red\">문제오류!! $E(X_i^2)=\\sigma^2$이 아니라 $Var(X_i)=\\sigma^2$</span>"
   ]
  },
  {
   "cell_type": "markdown",
   "id": "ed068423-983a-4bc7-b418-a6b0b0701d4e",
   "metadata": {},
   "source": [
    "<span style=\"color:red\">$Var(U)=\\sum a_i^2 \\sigma^2$을 최소로 하는 $a_1, \\dots, a_n$을 구하자.</span>\n",
    "\n",
    "<span style=\"color:blue\">**라그랑쥬(Lagrange)승수법** 이용</span>\n",
    "\n",
    "<span style=\"color:blue\">$g(a_1,\\dots,a_n,\\lambda) = \\sum_{i=1}^n a_i^2 \\sigma^2 + \\lambda(\\sum a_i - 1)$</span>\n",
    "\n",
    "<span style=\"color:blue\">제약조건을 $\\lambda$로 넣는다.</span>\n",
    "\n",
    "<span style=\"color:blue\">$\\begin{cases}\\dfrac{\\partial g}{\\partial a_{i}}=0(i=1,2,\\dots)\\\\ \\dfrac{\\partial g}{\\partial \\lambda}=0\\end{cases}$인 것을 찾자</span>\n",
    "\n",
    "<span style=\"color:red\">$2a_i \\sigma^2 + \\lambda=0  (i=1,\\dots,n)$ </span>\n",
    "\n",
    "<span style=\"color:red\">$a_i=-\\dfrac{\\lambda}{2\\sigma^2}$</span>\n",
    "\n",
    "<span style=\"color:red\">$\\sum a_i - 1 = 0$</span>\n",
    "\n",
    "<span style=\"color:red\">$1=-\\dfrac{\\lambda}{2\\sigma^2}$</span>\n",
    "\n",
    "<span style=\"color:red\">$\\lambda = -\\dfrac{2\\sigma^2}{n}$</span>\n",
    "\n",
    "<span style=\"color:red\">$\\therefore a_i=\\dfrac{1}{n}$</span>"
   ]
  },
  {
   "cell_type": "code",
   "execution_count": null,
   "id": "7b69d6aa-c1ec-47d6-9e4b-d92c2b35a15f",
   "metadata": {},
   "outputs": [],
   "source": []
  },
  {
   "cell_type": "markdown",
   "id": "d83ea968-9dc8-4681-8986-7d78f566977a",
   "metadata": {},
   "source": [
    "# 4번"
   ]
  },
  {
   "cell_type": "markdown",
   "id": "1c83cddc-dccd-4225-99d8-c82f2311f3f4",
   "metadata": {},
   "source": [
    "확률변수 $X$와 $Y$가 서로 독립일 때 다음 중 참인 것은?"
   ]
  },
  {
   "cell_type": "markdown",
   "id": "561a9e3a-a51e-4b22-a3b3-394ea71309c6",
   "metadata": {},
   "source": [
    "## (1)"
   ]
  },
  {
   "cell_type": "markdown",
   "id": "2be985ab-4eb2-441e-9fe6-b016d0a77436",
   "metadata": {},
   "source": [
    "$E(X-Y)=E(X)-E(Y)$"
   ]
  },
  {
   "cell_type": "markdown",
   "id": "1c9efc38-1c19-4662-8f1a-adead4acbe91",
   "metadata": {},
   "source": [
    "T"
   ]
  },
  {
   "cell_type": "markdown",
   "id": "43da1640-ee83-4ce7-8894-cd0dc50cb964",
   "metadata": {},
   "source": [
    "## (2)"
   ]
  },
  {
   "cell_type": "markdown",
   "id": "6188918d-ea48-431b-a234-5a8a4a6a2091",
   "metadata": {},
   "source": [
    "$Var(X-Y) = Var(X) - Var(Y)$"
   ]
  },
  {
   "cell_type": "markdown",
   "id": "c1e55228-ea39-4af2-81e9-70412550ec59",
   "metadata": {},
   "source": [
    "F($Var(X-Y) = Var(X) + Var(Y)$)"
   ]
  },
  {
   "cell_type": "markdown",
   "id": "adf8e8cd-d42e-4aaf-bcb4-7cb6f840f624",
   "metadata": {},
   "source": [
    "## (3)"
   ]
  },
  {
   "cell_type": "markdown",
   "id": "a973807c-081c-4f76-90e1-a0ec0b807a36",
   "metadata": {},
   "source": [
    "$Cov(X+Y,X) = Var(X)$"
   ]
  },
  {
   "cell_type": "markdown",
   "id": "19b121a6-e3a6-4487-8ba9-d87be0f4e707",
   "metadata": {},
   "source": [
    "T"
   ]
  },
  {
   "cell_type": "markdown",
   "id": "8c894d60-2a11-4a50-b3d3-8714599d0b55",
   "metadata": {},
   "source": [
    "$Cov(X+Y,X)=E((X+Y)X)-E(X+Y)E(X)=E(X^2+YX)-(E(X)+E(Y))E(X)=E(X^2)+E(YX)-[E(X)]^2-E(Y)E(X)=E(X^2)-[E(X)]^2=Var(X)$"
   ]
  },
  {
   "cell_type": "markdown",
   "id": "dcb01f07-7ee6-494e-ae55-4e05cee5e44d",
   "metadata": {},
   "source": [
    "## (4)"
   ]
  },
  {
   "cell_type": "markdown",
   "id": "44079d14-81b3-4646-9f6c-c6e7e04852d5",
   "metadata": {},
   "source": [
    "$Cov(X+Y,X-Y) = Var(X)+Var(Y)$"
   ]
  },
  {
   "cell_type": "markdown",
   "id": "7df5737c-09e4-4cad-9b6d-1d9c3c221e43",
   "metadata": {},
   "source": [
    "F($Var(X)-Var(Y)$)"
   ]
  },
  {
   "cell_type": "markdown",
   "id": "4f3f6283-a6aa-4e4e-85c1-dd68b231606f",
   "metadata": {},
   "source": [
    "$Cov(X+Y,X-Y)=E((X+Y)(X-Y))-E(X+Y)E(X-Y)=E(X^2+YX-XY-Y^2)-(E(X)+E(Y))(E(X)-E(Y))=Var(X)-Var(Y)$\n"
   ]
  },
  {
   "cell_type": "markdown",
   "id": "2bc944ad-f493-402b-a566-1e1560398914",
   "metadata": {},
   "source": [
    "## (5)"
   ]
  },
  {
   "cell_type": "markdown",
   "id": "f3040207-e494-490b-84ce-40db198a1756",
   "metadata": {},
   "source": [
    "$Corr(X+Y,Y)=\\dfrac{SD(Y)}{SD(X)}$"
   ]
  },
  {
   "cell_type": "markdown",
   "id": "2af30d28-2f2a-4564-a18d-9a4e124ccf2e",
   "metadata": {},
   "source": [
    "<span style=\"color:red\">F</span>"
   ]
  },
  {
   "cell_type": "markdown",
   "id": "0da1515c-0a29-444a-8c27-e7bb49e36333",
   "metadata": {},
   "source": [
    "<span style=\"color:red\">$Corr(X+Y,Y)=\\dfrac{Cov(X+Y,Y)}{SD(X+Y)SD(Y)}=\\dfrac{Var(Y)}{\\sqrt{Var(X)+Var(Y)}SD(Y)}=\\dfrac{SD(Y)}{\\sqrt{Var(X)+Var(Y)}}$</span>"
   ]
  },
  {
   "cell_type": "markdown",
   "id": "f0bbb321-4b3f-4c99-93ee-35f7e8689bf3",
   "metadata": {},
   "source": [
    "# 5번"
   ]
  },
  {
   "cell_type": "markdown",
   "id": "2f00bca0-26d6-4534-932f-cbca08eaae4b",
   "metadata": {},
   "source": [
    "마코프 부등식: 확률변수 $X$는 함수 $u(x)>0$와 임의의 상수 $c>0$에 대하여 \n",
    "\n",
    "\n",
    "$P[u(X) \\geq c] \\leq \\dfrac{E[u(X)]}{c}$ 가 성립함을 보이시오."
   ]
  },
  {
   "cell_type": "markdown",
   "id": "009c7669-5afc-4916-9864-76734a1bc67e",
   "metadata": {},
   "source": [
    "$A={x:u(x) \\geq c}$ 인 A에 대하여"
   ]
  },
  {
   "cell_type": "markdown",
   "id": "77bb48d5-fadc-40fa-8112-34d01c768e38",
   "metadata": {},
   "source": [
    "$E[u(X)]=\\int_{-\\infty}^{\\infty} u(x)f(x)dx = \\int_A u(x)f(x)dx + \\int_{A^c} u(x)f(x)dx \\geq \\int_A u(x)f(x)dx \\geq \\int_A cf(x)dx = cP[X \\in A] = cP[u(X) \\geq c]$"
   ]
  },
  {
   "cell_type": "markdown",
   "id": "ba7c1425-2354-4b18-9690-a3c8c7ba2926",
   "metadata": {},
   "source": [
    "# 6번"
   ]
  },
  {
   "cell_type": "markdown",
   "id": "089066b5-f927-4a92-a842-1ca7da16243c",
   "metadata": {},
   "source": [
    "Cauchy-Schwarz inequality: $E(X^2) < \\infty, E(Y^2) < \\infty$인 두 확률변수 $X$와 $Y$에 대해서 $[E(XY)]^2 \\leq E(X^2)E(Y^2)$이 성립함을 보이시오."
   ]
  },
  {
   "cell_type": "markdown",
   "id": "07199447-498d-4a19-ba63-1648ce0e7ac9",
   "metadata": {},
   "source": [
    "$h(t)=E[(tX-Y)^2]=E(X^2)t^2-2E(XY)t+E(Y^2) \\geq 0$ 을 만족시키기 위한 판별식 $D$를 구하면,\n",
    "\n",
    "$D=4[E(XY)]^2-4E(X^2)E(Y^2) \\leq 0$\n",
    "\n",
    "s.t $[E(XY)]^2 \\leq E(X^2)E(Y^2)$"
   ]
  },
  {
   "cell_type": "markdown",
   "id": "cb328bd1-3a93-472e-86f9-a7f81ec03052",
   "metadata": {},
   "source": [
    "# 7번"
   ]
  },
  {
   "cell_type": "markdown",
   "id": "7a39b660-292a-4492-8ac5-c29bf0c95cb0",
   "metadata": {},
   "source": [
    "두 확률변수 $X$와 $Y$가 $f_{X,Y}(x,y)=x^2e^{-x(y+1)}I(x>0,y>0)$을 따를 때 $Var(Y|X=x)$을 구하시오."
   ]
  },
  {
   "cell_type": "markdown",
   "id": "d36211cf-912c-4eea-a5c7-6670737d49b1",
   "metadata": {},
   "source": [
    "$f_X(x)=\\int_{-\\infty}^\\infty f_{X,Y}(x,y)dy = \\int_0^\\infty x^2e^{-x(y+1)}I(x>0)dy= x^2e^{-x}I(x>0)\\int_0^\\infty e^{-xy} dy= xe^{-x}I(x>0)$"
   ]
  },
  {
   "cell_type": "markdown",
   "id": "e471c4a6-56ca-4b42-b96b-18e8994e3a25",
   "metadata": {},
   "source": [
    "<span style=\"color:blue\">위식은 $GAM(2,1)$이다.</span>"
   ]
  },
  {
   "cell_type": "markdown",
   "id": "b45d86bf-09b4-44ae-b2c3-7eafec90c54f",
   "metadata": {},
   "source": [
    "$f_{Y|X}(y|x) = \\dfrac{f_{X,Y}(x,y)}{f_{X}(x)}=\\dfrac{x^2e^{-x(y+1)}I(x>0,y>0)}{xe^{-x}I(x>0)}=xe^{-xy}I(y>0)$"
   ]
  },
  {
   "cell_type": "markdown",
   "id": "8335f8eb-0bcc-4648-84ba-de5b9b4917f0",
   "metadata": {},
   "source": [
    "<span style=\"color:blue\">위식은 $GAM(1,\\dfrac{1}{x})=EXP(\\dfrac{1}{x})$이다.</span>"
   ]
  },
  {
   "cell_type": "markdown",
   "id": "e05ebd9e-8e60-42dd-b538-947087f8d398",
   "metadata": {},
   "source": [
    "$E(Y|X=x)=\\int_{-\\infty}^\\infty yf_{Y|X}(y|x)dy=\\int_0^\\infty xye^{-xy}dy=\\dfrac{1}{x}$"
   ]
  },
  {
   "cell_type": "markdown",
   "id": "eaedfb88-e0cf-4786-8e1a-f90303138d18",
   "metadata": {},
   "source": [
    "$E(Y^2|X=x)=\\int_{-\\infty}^\\infty y^2f_{Y|X}(y|x)dy=\\int_0^\\infty xy^2e^{-xy}dy=\\dfrac{2}{x^2}$"
   ]
  },
  {
   "cell_type": "markdown",
   "id": "8be64383-be2c-4b5b-88c1-852beee68ebc",
   "metadata": {},
   "source": [
    "$Var(Y|X)=E(Y^2|X)-[E(Y|X)]^2=\\dfrac{1}{x^2}$"
   ]
  },
  {
   "cell_type": "markdown",
   "id": "fd973f44-ab0d-445c-9b4c-f54c5b4fae1c",
   "metadata": {},
   "source": [
    "# 8번"
   ]
  },
  {
   "cell_type": "markdown",
   "id": "aa9211e7-bdf5-4646-8601-c2279d0bcf3f",
   "metadata": {},
   "source": [
    "확률변수들 $X_i(i=1,\\dots,n)$는 서로 독립이며 동일한 확률밀도함수 $f(x)=xe^{-x}I(x>0)$을 따른다고 하자."
   ]
  },
  {
   "cell_type": "markdown",
   "id": "20178bfd-4e50-4064-b34e-32d4dcd52a4b",
   "metadata": {},
   "source": [
    "<span style=\"color:blue\">위식은 $GAM(2,1)$이다.</span>"
   ]
  },
  {
   "cell_type": "markdown",
   "id": "c6d0e6b7-09f3-4558-9ea0-117012bdef9b",
   "metadata": {},
   "source": [
    "## (1)"
   ]
  },
  {
   "cell_type": "markdown",
   "id": "28a4918c-f56b-4233-b4e5-25c8db767e87",
   "metadata": {},
   "source": [
    "확률변수 $X_i$의 적률생성함수를 구하라."
   ]
  },
  {
   "cell_type": "markdown",
   "id": "88e1cd2f-eccf-4bff-9ffe-f87eff4f2ac8",
   "metadata": {},
   "source": [
    "$M_X(t)=E(e^{tX})=\\int_{-\\infty}^\\infty e^{tx}xe^{-x}I(x>0)dx=\\int_0^\\infty xe^{x(t-1)}dx=\\dfrac{1}{(t-1)^2}$"
   ]
  },
  {
   "cell_type": "markdown",
   "id": "22892d5c-f7ea-4ba6-aa3e-4a6fe595339e",
   "metadata": {},
   "source": [
    "<span style=\"color:red\">$\\dfrac{1}{(1-t)^2} \\ for (1-t)>0$</span>"
   ]
  },
  {
   "cell_type": "markdown",
   "id": "ed54c05a-295b-406c-92ea-5790f78aebdb",
   "metadata": {},
   "source": [
    "## (2)"
   ]
  },
  {
   "cell_type": "markdown",
   "id": "85c67a8e-57a3-4576-9888-4cf2a68958b5",
   "metadata": {},
   "source": [
    "(1)의 결과를 이용하여 확률변수 $X_i$의 분산을 구하라"
   ]
  },
  {
   "cell_type": "markdown",
   "id": "4836c6b3-83f8-4301-a89c-c6d2d88c888b",
   "metadata": {},
   "source": [
    "$Var(X)=E(X^2)-[E(X)]^2$\n",
    "\n",
    "$M_X^{(1)}(t=0)=E(X), M_X^{(2)}(t=0)=E(X^2)$ 이용\n",
    "\n",
    "$M_X^{(1)}(t)=\\dfrac{-2}{(t-1)^3}, M_X^{(1)}(t=0)=2$\n",
    "\n",
    "<span style=\"color:red\">$\\dfrac{-2}{(1-t)^3}$</span>\n",
    "\n",
    "$M_X^{(2)}(t)=\\dfrac{6}{(t-1)^4}, M_X^{(2)}(t=0)=6$\n",
    "\n",
    "$Var(X)=E(X^2)-[E(X)]^2=6-4=2$"
   ]
  },
  {
   "cell_type": "markdown",
   "id": "9768de7d-60a5-414b-8398-b7399a4c75a3",
   "metadata": {},
   "source": [
    "## (3)"
   ]
  },
  {
   "cell_type": "markdown",
   "id": "98f7d500-a8ef-4ecc-8c06-e8d1c2a5e024",
   "metadata": {},
   "source": [
    "(1)의 결과를 이용하여 확률변수 $\\sum_{i=1}^n X_i$의 적률생성함수를 구하라."
   ]
  },
  {
   "cell_type": "markdown",
   "id": "05eb9b1f-7dd8-4709-8037-cbc38226a24b",
   "metadata": {},
   "source": [
    "확률변수 $X_i$가 랜덤분포이므로 $U=\\sum X_i$일때 적률생성함수는\n",
    "\n",
    "$M_U(t)=M_{X_1}(t)M_{X_2}(t) \\dots M_{X_n}(t)$ 이다.\n",
    "\n",
    "$M_U(t)= \\dfrac{1}{(t-1)^{2n}}$"
   ]
  },
  {
   "cell_type": "markdown",
   "id": "72c448b1-e9c8-42bf-8758-e75e763005ca",
   "metadata": {},
   "source": [
    "## (4)"
   ]
  },
  {
   "cell_type": "markdown",
   "id": "afb4b7c6-468b-4cf3-b65d-f4b762ac40c2",
   "metadata": {},
   "source": [
    "(3)의 결과를 이용하여 확률변수 $Y=\\sum_{i=1}^n 2X_i$의 적률생성함수를 구하라."
   ]
  },
  {
   "cell_type": "markdown",
   "id": "9b4b36b4-3503-4bec-9868-2abd92acbf18",
   "metadata": {},
   "source": [
    "<span style=\"color:red\">$M_Y(t)=E(e^{tY})=E(e^{2tu})=M_u(2t)=(\\dfrac{1}{1-2t})^{2n}$ 이다.</span>\n",
    "\n",
    "<span style=\"color:red\">위 결과는 $GAM(2n,2)$의 mgf이다, 즉 $Y$~$GAM(2n,2)$이다.</span>\n",
    "\n",
    "<span style=\"color:red\">$GAM(2n,2)$은 자유도가 4n인 카이제곱을 따른다.</span>"
   ]
  },
  {
   "cell_type": "markdown",
   "id": "3c59be85-ac58-4daa-a5ab-c25b7752e599",
   "metadata": {},
   "source": [
    "# 9번 "
   ]
  },
  {
   "cell_type": "markdown",
   "id": "15f4e3aa-5552-4f7d-8b83-464ae1ce2cbd",
   "metadata": {},
   "source": [
    "어떤 질병을 치료하기 위하여 개발된 신약으로 치료되는 환자의 비율 $X$는 다음과 같은 확률밀도함수를 가지는 확률변수라고 하자.\n",
    "\n",
    "\n",
    "$$ f_X(x) = 6x(1-x)I(0<x<1)$$\n",
    "\n",
    "신약 복용한 총 $n$명의 환자 중 치료 효과를 보인 환자의 수 $Y$는 다음과 같은 확률밀도함수를 가진다고 한다.\n",
    "\n",
    "$$f_{Y|X}(y|x) = \\begin{pmatrix} n \\\\ y  \\end{pmatrix} x^y \\ (1-x)^{n-y}, y=0,1,\\dots,n$$\n",
    "\n",
    "\n",
    "다음을 구하시오.\n"
   ]
  },
  {
   "cell_type": "markdown",
   "id": "56b5cd21-2877-44e6-9aa1-4b2766e20988",
   "metadata": {},
   "source": [
    "$Var(Y)$"
   ]
  },
  {
   "cell_type": "markdown",
   "id": "fedf2847-dbdc-479f-b4cc-560559752918",
   "metadata": {},
   "source": [
    "$Var(Y)=E(Y^2)-[E(Y)]^2$"
   ]
  },
  {
   "cell_type": "markdown",
   "id": "d527c4e1-e319-4f9c-8459-9a009abf0a35",
   "metadata": {
    "tags": []
   },
   "source": [
    "## (2)"
   ]
  },
  {
   "cell_type": "markdown",
   "id": "96093ec4-e191-41e0-adf3-c67b1c449b21",
   "metadata": {},
   "source": [
    "$Var(Y|X=x)$"
   ]
  },
  {
   "cell_type": "markdown",
   "id": "afe8f8e7-423f-429b-9363-8674b3098998",
   "metadata": {},
   "source": [
    "$Var(Y|X=x) = E(Y^2|x)-[E(Y|x)]^2$"
   ]
  },
  {
   "cell_type": "markdown",
   "id": "30b377c6-4bf0-4f4e-b878-6d912b12ae53",
   "metadata": {},
   "source": [
    "$E(Y^2|x)=\\sum y^2 f_{X|Y}(x|y) = \\sum_0^n y^2 \\begin{pmatrix} n \\\\ y  \\end{pmatrix} x^y \\ (1-x)^{n-y}$"
   ]
  },
  {
   "cell_type": "markdown",
   "id": "8fb7ba31-e69a-40fc-bcb8-eb91f13bb323",
   "metadata": {},
   "source": [
    "$f_{X|Y}(x|y)$는 이항분포이며 기댓값은 $nx$, 분산은 $nx(1-x)$이다. "
   ]
  },
  {
   "cell_type": "markdown",
   "id": "02bb4f91-bc81-4c43-b613-beee46f3842a",
   "metadata": {},
   "source": [
    "$E(Y|X)=nx, Var(Y|X)=nx(1-x)$"
   ]
  },
  {
   "cell_type": "markdown",
   "id": "d528fda7-b5b4-43ab-8e28-da5a85df1867",
   "metadata": {},
   "source": [
    "계산이 너무 복잡해.."
   ]
  },
  {
   "cell_type": "markdown",
   "id": "0d226132-f3e5-444b-967c-781efe1367b6",
   "metadata": {},
   "source": [
    "## (1)"
   ]
  },
  {
   "cell_type": "markdown",
   "id": "b5fee021-d4a4-4f7a-8c61-1e3743351fe0",
   "metadata": {},
   "source": [
    "<span style=\"color:red\">이중기댓값 정의를 이용하여 $E(Y)=E[E(Y|X)]$ 풀이</span>\n",
    "\n",
    "<span style=\"color:red\">$Var(Y)=Var(E(Y|X))+E(Var(Y|X))$</span>\n",
    "\n",
    "<span style=\"color:red\">$=Var(nX)+E(nX(1-X))$</span>\n",
    "\n",
    "<span style=\"color:red\">$=n^2 Var(X) + nE(X) - nE(X^2)$</span>\n",
    "\n",
    "<span style=\"color:red\">$=n^2/20 + n/2 - 3n/10$</span>\n",
    "\n",
    "<span style=\"color:red\">$=n^2/20 + n/5$</span>"
   ]
  },
  {
   "cell_type": "code",
   "execution_count": null,
   "id": "66d4858e-c257-4378-bb8b-1305baa827df",
   "metadata": {},
   "outputs": [],
   "source": []
  }
 ],
 "metadata": {
  "kernelspec": {
   "display_name": "Python 3 (ipykernel)",
   "language": "python",
   "name": "python3"
  },
  "language_info": {
   "codemirror_mode": {
    "name": "ipython",
    "version": 3
   },
   "file_extension": ".py",
   "mimetype": "text/x-python",
   "name": "python",
   "nbconvert_exporter": "python",
   "pygments_lexer": "ipython3",
   "version": "3.8.18"
  }
 },
 "nbformat": 4,
 "nbformat_minor": 5
}
