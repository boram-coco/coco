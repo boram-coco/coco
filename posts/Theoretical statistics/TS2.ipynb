{
 "cells": [
  {
   "cell_type": "raw",
   "id": "b27c3541-68e8-4576-ab5a-5a5e788544f8",
   "metadata": {},
   "source": [
    "---\n",
    "title: \"TS HW2\"\n",
    "author: \"김보람\"\n",
    "date: \"03/28/2023\"\n",
    "categories:\n",
    "  - Theoretical statistics\n",
    "  - homework\n",
    "---"
   ]
  },
  {
   "cell_type": "markdown",
   "id": "50a987d6-0839-40dc-92f2-78c954065b25",
   "metadata": {},
   "source": [
    "> 모든 풀이는 틀릴 수 있움..ㅡ"
   ]
  },
  {
   "cell_type": "markdown",
   "id": "111648b9-eac3-4930-9f72-3da0a9411bc8",
   "metadata": {},
   "source": [
    "# 1번"
   ]
  },
  {
   "cell_type": "markdown",
   "id": "062bcadf-73b6-4ec4-9def-8966eceb3cbc",
   "metadata": {},
   "source": [
    "$X_1, X_2, X_3$ 의 결합확률밀도함수 $f(x_1,x_2,x_3)$를 이용하여 "
   ]
  },
  {
   "cell_type": "markdown",
   "id": "e127c601-1c02-464c-8a39-598fb943e7c9",
   "metadata": {},
   "source": [
    "## 1(1)"
   ]
  },
  {
   "cell_type": "markdown",
   "id": "2c78ddd2-dc97-4643-8353-6601401b255c",
   "metadata": {},
   "source": [
    "(1) $X_1$과 $X_2$의 결합확률밀도함수를 구하시오."
   ]
  },
  {
   "cell_type": "markdown",
   "id": "2fedaefd-80a4-49d5-bb0d-b5bc4e9e6d82",
   "metadata": {},
   "source": [
    "$f_{X_1,X_2}(x_1,x_2) = \\sum_{X_3}f_{X_1,X_2,X_3}(x_1,x_2,x_3) = \\int_{-\\infty}^{\\infty} f_{X_1,X_2,X_3}(x_1,x_2,x_3) dx_3$"
   ]
  },
  {
   "cell_type": "markdown",
   "id": "35795578-772b-4ca6-ba6e-cbb19941d485",
   "metadata": {},
   "source": [
    "## 1(2)"
   ]
  },
  {
   "cell_type": "markdown",
   "id": "b815d157-6b82-4775-beb1-bcb65c0cc7fd",
   "metadata": {},
   "source": [
    "(2) $X_3$의 주변확률밀도함수를 구하시오."
   ]
  },
  {
   "cell_type": "markdown",
   "id": "cb4621f6-9670-41f5-a3db-d11e1bdca576",
   "metadata": {},
   "source": [
    "$f_{X_3}(x_3) = \\sum_{X_1} \\sum_{X_2}f_{X_1,X_2,X_3}(x_1,x_2,x_3) = \\int_{-\\infty}^{\\infty}\\int_{-\\infty}^{\\infty} f_{X_1,X_2,X_3}(x_1,x_2,x_3) dx_1 dx_2$"
   ]
  },
  {
   "cell_type": "markdown",
   "id": "8f19b8c9-b501-4744-b5eb-7b1c9292e683",
   "metadata": {},
   "source": [
    "## 1(3)"
   ]
  },
  {
   "cell_type": "markdown",
   "id": "ed541f5b-4e7a-49c7-961c-29ddac6a7d40",
   "metadata": {},
   "source": [
    "(3) $X_3 = x_3$ 으로 주어져 있을 때 $X_1$과 $X_2$의 결합조건부확률밀도함수를 구하시오."
   ]
  },
  {
   "cell_type": "markdown",
   "id": "7db24c0e-6577-4b39-a36b-561501317ee3",
   "metadata": {},
   "source": [
    "$f_{X_1,X_2|X_3=x_3}(x_1,x_2|x_3) = \\dfrac{f_{X_1,X_2,X_3}(x_1,x_2,x_3)}{f_{X_3}(x_3)}$ "
   ]
  },
  {
   "cell_type": "markdown",
   "id": "a1f44b8e-46b7-475b-a899-595c08ab8510",
   "metadata": {},
   "source": [
    "# 2번"
   ]
  },
  {
   "cell_type": "markdown",
   "id": "8acaa442-5b5a-4b61-98c5-0fe7251d2a1f",
   "metadata": {},
   "source": [
    "어떤 질병을 치료하기 위하여 개발된 신약으로 치료되는 환자의 비율 $X$는 다음과 같은 확률밀도함수를 가지는 확률변수라고 하자.\n",
    "\n",
    "\n",
    "$$ f_X(x) = 6x(1-x)I(0<x<1)$$\n",
    "\n",
    "신약 복용한 총 $n$명의 환자 중 치료 효과를 보인 환자의 수 $Y$는 다음과 같은 확률밀도함수를 가진다고 한다.\n",
    "\n",
    "$$f_{Y|X}(y|x) = \\begin{pmatrix} n \\\\ y  \\end{pmatrix} x^y \\ (1-x)^{n-y}, y=0,1,\\dots,n$$\n"
   ]
  },
  {
   "cell_type": "markdown",
   "id": "44f211db-b2a7-4176-bfa8-89294d3fe792",
   "metadata": {},
   "source": [
    "## 2(1)"
   ]
  },
  {
   "cell_type": "markdown",
   "id": "ad47a349-f6c0-49e5-be5b-23aafb39cae7",
   "metadata": {},
   "source": [
    "(1) $Y$의 주변확률밀도함수를 구하시오."
   ]
  },
  {
   "cell_type": "markdown",
   "id": "8e9a895c-9058-4c43-84bc-41446708bc55",
   "metadata": {},
   "source": [
    "$f_X(x)$는 기하분포 $f_{Y|X}(y|x)$는 이항분포이다.\n",
    "\n",
    "$f_Y(y)=\\int_0^1 6\\begin{pmatrix} n \\\\ y  \\end{pmatrix} x^{y+1} \\ (1-x)^{n-y+1}dx, y=0,1,\\dots,n$\n",
    "\n",
    "$B(y+2,n-y+2)=\\int_0^1x^{y+1}(1-x)^{n-y+1}dx=\\dfrac{(y+2-1)!(n-y+2-1)!}{(y+2+n-y+2-1)!}=\\dfrac{(y+1)!(n-y+1)!}{(n+3)!}$\n"
   ]
  },
  {
   "cell_type": "markdown",
   "id": "d1838fd0-18f5-4b69-97f7-8ac25ae3dc2e",
   "metadata": {},
   "source": [
    "\n",
    "$f_Y(y)=6\\begin{pmatrix} n \\\\ y  \\end{pmatrix}\\int_0^1  x^{y+1} \\ (1-x)^{n-y+1}dx, y=0,1,\\dots,n$\n",
    "\n",
    "= $\\dfrac{6n!}{(n-y)!y!}\\dfrac{(y+1)!(n-y+1)!}{(n+3)!},y=0,1,\\dots,n$\n",
    "\n",
    "= $\\dfrac{6(y+1)(n-y+1)}{(n+3)(n+2)(n+1)},y=0,1,\\dots,n$"
   ]
  },
  {
   "cell_type": "markdown",
   "id": "1eef9d85-2efb-4340-bd22-0e0560e4c467",
   "metadata": {},
   "source": [
    "## 2(2)"
   ]
  },
  {
   "cell_type": "markdown",
   "id": "0524d07e-6e53-43fa-b8ec-2d380a7eda94",
   "metadata": {},
   "source": [
    "(2) $Y=y$일때 $X$의 조건부 확률밀도함수를 구하시오."
   ]
  },
  {
   "cell_type": "markdown",
   "id": "c3410edf-bb9d-4261-ac89-8058d3ac89ab",
   "metadata": {},
   "source": [
    "$f_{X|Y}(x|y=y)=\\dfrac{f_{X,Y}(x,y)}{f_Y(y)}=\\dfrac{f_{Y|X}(y|x)f_X(x)}{f_Y(y)}=\\dfrac{(n+3)!}{(y+1)!(n-y+1)!}x^{y+1}(1-x)^{n-y+1}, 단(0<x<1, y=0,1,\\dots, n)$"
   ]
  },
  {
   "cell_type": "markdown",
   "id": "74efd5ad-07eb-41aa-8573-805171ad4d29",
   "metadata": {},
   "source": [
    "## 2(3)"
   ]
  },
  {
   "cell_type": "markdown",
   "id": "024dbde1-8157-4db7-bc16-771b21f7059d",
   "metadata": {},
   "source": [
    "(3) $P(0<X<0.1|Y=n)$을 구하시오."
   ]
  },
  {
   "cell_type": "markdown",
   "id": "e07924bb-3487-4b35-a161-f9e99cbd632d",
   "metadata": {},
   "source": [
    "=$\\dfrac{P(0<X<0.1,Y=n)}{P(Y=n)}=\\dfrac{\\int_0^{0.1}f_{X,Y}(x,y=n)dx}{P(Y=n)}=(n+3)(0.1)^{n+2}-(n+2)(0.1)^{n+3}$"
   ]
  },
  {
   "cell_type": "markdown",
   "id": "4e48f9c8-17b6-4737-87ed-1dcae50cfab2",
   "metadata": {},
   "source": [
    "$\\int_0^{0.1}f_{X,Y}(x,y=n)dx= \\int_0^{0.1} 6x^{n+1}(1-x)dx=6[\\dfrac{(0.1)^{n+2}}{n+2} - \\dfrac{(0.1)^{n+3}}{n+3}]$"
   ]
  },
  {
   "cell_type": "markdown",
   "id": "2f73eb61-f922-4255-822c-c3905a4f23f6",
   "metadata": {},
   "source": [
    "$P(Y=n) = \\dfrac{6}{(n+3)(n+2)}$"
   ]
  },
  {
   "cell_type": "markdown",
   "id": "596a55af-c06f-47a6-9072-591de069bda1",
   "metadata": {},
   "source": [
    "# 3번"
   ]
  },
  {
   "cell_type": "markdown",
   "id": "8529f60d-c123-4827-ad71-87453a3c6ebc",
   "metadata": {},
   "source": [
    "확률벡터 $(X,Y)$는 아래 주어진 결합확률밀도함수를 가진다. $X$와 $Y$는 독립인가?"
   ]
  },
  {
   "cell_type": "markdown",
   "id": "7e281ffb-2d9c-43d9-b347-f628b1a381c1",
   "metadata": {},
   "source": [
    "> note: 인수분해정리: $f_{X,Y}(x,y) = g(x)h(y)$ 로 인수분해 할 수 있으면 $X$,$Y$는 서로 독립이다."
   ]
  },
  {
   "cell_type": "markdown",
   "id": "16b2ef47-2911-4f1c-a565-b16221889bbd",
   "metadata": {},
   "source": [
    "## 3(1)"
   ]
  },
  {
   "cell_type": "markdown",
   "id": "3a1e037d-8abc-4080-b38b-d76b7ecd8578",
   "metadata": {},
   "source": [
    "(1) $f(x,y) = (\\dfrac{1}{α+1} + \\dfrac{1}{β+1})(x^α + y^β)I(0<x<1, 0<y<1)$ "
   ]
  },
  {
   "cell_type": "markdown",
   "id": "422218f9-df95-4de5-8bcf-d3de16132043",
   "metadata": {},
   "source": [
    "쉽게 생각해서 인수분해 안되서 독립아님"
   ]
  },
  {
   "cell_type": "markdown",
   "id": "9c8effda-53e5-4548-8003-fc5832b43f56",
   "metadata": {},
   "source": [
    "$(\\dfrac{1}{α+1} + \\dfrac{1}{β+1}) = A$ 라고 놓고 계산하자."
   ]
  },
  {
   "cell_type": "markdown",
   "id": "c26334cf-3d7c-42a8-939c-825c079e9a02",
   "metadata": {},
   "source": [
    "$f_X(x) = \\int_{0}^{1}(Ax^α + Ay^β)I(0<y<1)dy = Ax^α + \\dfrac{A}{β+1}$"
   ]
  },
  {
   "cell_type": "markdown",
   "id": "b81ca443-67ad-46ab-a30d-4bd3f4cefc95",
   "metadata": {},
   "source": [
    "$f_Y(y) = \\int_{0}^{1}(Ax^α + Ay^β)I(0<x<1)dx =  Ay^β + \\dfrac{A}{α+1}$"
   ]
  },
  {
   "cell_type": "markdown",
   "id": "9d566e49-c9b7-429d-a32b-03a618c7684c",
   "metadata": {},
   "source": [
    "$f_X(x)f_Y(y)  \\neq f(x,y)$"
   ]
  },
  {
   "cell_type": "markdown",
   "id": "99eb7b88-3f9d-4e28-8e58-486bc22adb3c",
   "metadata": {},
   "source": [
    "## 3(2)"
   ]
  },
  {
   "cell_type": "markdown",
   "id": "7582ac14-c769-4180-910f-52dc777c1656",
   "metadata": {},
   "source": [
    "(2) $f(x,y) = 4y(x-y)e^{-(x+y)}I(0 \\leq y \\leq x)$  "
   ]
  },
  {
   "cell_type": "markdown",
   "id": "44639142-7d8e-4b60-95ae-ec1ac1afe0ed",
   "metadata": {},
   "source": [
    "곱으로 분리 안되서 독립아님. 범위도 분리가 안된당.."
   ]
  },
  {
   "cell_type": "markdown",
   "id": "1f9d91d8-ca6e-490a-a3d1-3145bcf7b546",
   "metadata": {},
   "source": [
    "## 3(3)"
   ]
  },
  {
   "cell_type": "markdown",
   "id": "df3f6ea2-ac14-4d2a-aad0-dfb245efdb00",
   "metadata": {},
   "source": [
    "(3) $f(x,y) = \\dfrac{1}{2x^2y} I(1 \\leq x, \\dfrac{1}{x} \\leq y \\leq x)$"
   ]
  },
  {
   "cell_type": "markdown",
   "id": "18d9bd0e-7cba-4f64-9c00-35096d737de7",
   "metadata": {},
   "source": [
    "$f_X(x) = \\int_{-\\infty}^{\\infty} f_{X,Y}(x,y)dy = \\int_{1/x}^{x} \\dfrac{1}{2x^2y} I(1 \\leq x)dy = \\dfrac{1}{2x^2} I(1 \\leq x)  \\int_{1/x}^{x} \\dfrac{1}{y}dy = \\dfrac{lnx}{x^2}I(1 \\leq x)$"
   ]
  },
  {
   "cell_type": "markdown",
   "id": "3ec8dcbe-2a6f-4216-9d4d-4c6bccc5bcba",
   "metadata": {},
   "source": [
    "$f_Y(y) = \\int_{-\\infty}^{\\infty} f_{X,Y}(x,y)dx = \\int_{1}^{\\infty} \\dfrac{1}{2x^2y} I( \\dfrac{1}{x}\\leq y \\leq x)dx = \\dfrac{1}{2y}  I( \\dfrac{1}{x}\\leq y \\leq x)  \\int_{1}^{\\infty} \\dfrac{1}{x^2}dX = \\dfrac{1}{2y}  I( \\dfrac{1}{x}\\leq y \\leq x)$"
   ]
  },
  {
   "cell_type": "markdown",
   "id": "f2cd2be9-3d8d-4699-8b71-eeadc7a35a2d",
   "metadata": {},
   "source": [
    "$f_X(x)f_Y(y) = \\dfrac{lnx}{2x^2y} I(1 \\leq x, \\dfrac{1}{x} \\leq y \\leq x) \\neq f(x,y)$"
   ]
  },
  {
   "cell_type": "markdown",
   "id": "9d893ffd-8272-4272-868a-e1076da457c9",
   "metadata": {},
   "source": [
    "> note: 범위가 나누어지지 않기 때문에 이것도 독립이 아니다."
   ]
  },
  {
   "cell_type": "markdown",
   "id": "63884e91-2fd3-4a82-bc50-4c2fe540f3d1",
   "metadata": {},
   "source": [
    "## 3(4)"
   ]
  },
  {
   "cell_type": "markdown",
   "id": "7dd8f378-247e-4ae5-ad48-381f4528f110",
   "metadata": {},
   "source": [
    " (4) $f(x,y) = xyI(0 \\leq x \\leq 2, 0 \\leq y \\leq 1)$"
   ]
  },
  {
   "cell_type": "markdown",
   "id": "64d5f682-8c0f-4913-b281-aa13bb43be38",
   "metadata": {},
   "source": [
    "쓰기 귀찮으니까 밑에 생략"
   ]
  },
  {
   "cell_type": "markdown",
   "id": "56d64708-ad4d-46e8-9c72-b82894d7608d",
   "metadata": {},
   "source": [
    "$f(x) = \\int f(x,y) dy = \\int_{0}^{1} xyI(0 \\leq x \\leq 2) dy = \\dfrac{x}{2}I(0 \\leq x \\leq 2)$"
   ]
  },
  {
   "cell_type": "markdown",
   "id": "b38ceb32-e0f3-49d8-b6d9-79bcdb545eee",
   "metadata": {},
   "source": [
    "$f(y) = \\int f(x,y) dx = \\int_{0}^{2} xyI(0 \\leq y \\leq 1) dx = 2y I(0 \\leq y \\leq 1)$"
   ]
  },
  {
   "cell_type": "markdown",
   "id": "c98a7cf9-60ab-4864-ac48-8b50143c34df",
   "metadata": {},
   "source": [
    "$f(x)f(y) = f(x,y)$ 이므로 독립이다. "
   ]
  },
  {
   "cell_type": "markdown",
   "id": "801b12d5-4534-4c28-94b9-74674bada99e",
   "metadata": {},
   "source": [
    "# 4번"
   ]
  },
  {
   "cell_type": "markdown",
   "id": "e01c74b7-ff6d-44e7-961e-25b315186e50",
   "metadata": {},
   "source": [
    "확률변수 $X$의 $E(X)$와 $E(X^2)$가 존재하는 경우 그 값을 구하시오."
   ]
  },
  {
   "cell_type": "markdown",
   "id": "e357549e-3e3e-41bf-b253-90ff93803d0d",
   "metadata": {},
   "source": [
    "## 4(1)"
   ]
  },
  {
   "cell_type": "markdown",
   "id": "ed5a6066-6971-46f0-91b2-3d5eebc35112",
   "metadata": {},
   "source": [
    "(1) $f(x) = \\dfrac{1}{λ} e^{-x/λ}I(x>0)$"
   ]
  },
  {
   "cell_type": "markdown",
   "id": "d711150d-20b5-46d0-a091-2364e44ce5f0",
   "metadata": {},
   "source": [
    "$E(X)= \\int_{-\\infty}^{\\infty} xf(x)dx = \\int_{0}^{\\infty}\\dfrac{x}{λ} e^{-x/λ}dx =λ$"
   ]
  },
  {
   "cell_type": "markdown",
   "id": "8dcc4fae-e30b-4fbf-9598-d497a4c26e95",
   "metadata": {},
   "source": [
    "$E(X^2)= \\int_{-\\infty}^{\\infty} x^2f(x)dx = \\int_{0}^{\\infty}\\dfrac{x^2}{λ} e^{-x/λ}dx = 2λ^2$"
   ]
  },
  {
   "cell_type": "markdown",
   "id": "11c1739c-6b45-486c-934a-29fe4797842f",
   "metadata": {},
   "source": [
    "> note: 위는 지수분포이며 GAM(1, λ)로 표현할 수 있다."
   ]
  },
  {
   "cell_type": "markdown",
   "id": "50eb8812-f2b9-482d-99d3-c210d1891e40",
   "metadata": {},
   "source": [
    "## 4(2)"
   ]
  },
  {
   "cell_type": "markdown",
   "id": "f59219e6-f8d4-40e5-944e-44956f36c7e6",
   "metadata": {},
   "source": [
    "(2) $f(x) = \\dfrac{1}{π(1+x^2)}$"
   ]
  },
  {
   "cell_type": "markdown",
   "id": "cce08d7c-4ffd-4e71-a115-7c69b4ffafa4",
   "metadata": {},
   "source": [
    "> note: 위는 cauchy분포라고 한다."
   ]
  },
  {
   "cell_type": "markdown",
   "id": "09f8dc57-2a52-419d-b83c-b0addc53a713",
   "metadata": {},
   "source": [
    "$E(|X|)<\\infty$ 이면 기댓값이 존재한다."
   ]
  },
  {
   "cell_type": "markdown",
   "id": "d0de7db7-c941-4a7d-8969-1ffb93215e9b",
   "metadata": {},
   "source": [
    "코시분포는 기댓값이 존재하지 않는다."
   ]
  },
  {
   "cell_type": "markdown",
   "id": "68f26c30-9fea-414a-9b81-b811b35dd136",
   "metadata": {},
   "source": [
    "## 4(3)"
   ]
  },
  {
   "cell_type": "markdown",
   "id": "8dedbb25-93fe-42c5-a438-e3c7ca769bda",
   "metadata": {
    "tags": []
   },
   "source": [
    "(3) $f(x) = p(1-p)^{x-1}, x=1,2,\\dots, 0<p<1$"
   ]
  },
  {
   "cell_type": "markdown",
   "id": "1eddcd86-aa01-4d50-a798-07671519a6e3",
   "metadata": {},
   "source": [
    "위 식은 기하분포의 확률밀도함수이며 $E(X)= \\dfrac{1}{p}, Var(X)= \\dfrac{1-p}{p^2}$ 임"
   ]
  },
  {
   "cell_type": "markdown",
   "id": "f11f48e4-f86a-4515-b42d-764f09401513",
   "metadata": {},
   "source": [
    "$E(X) = \\sum_{x=1}^{\\infty}xf(x) = \\sum_{x=1}^{\\infty}xp(1-p)^{x-1}$ 는 $(\\sum_{x=0}^{\\infty} (1-p)^x)'$을 이용해서 풀이\n",
    "\n",
    "\n",
    "$E(X)=\\sum_{x=1}^{\\infty}xpq^{x-1}$,단 ($p+q=1$)\n",
    "\n",
    "=$\\sum_{x=1}^{\\infty} p \\dfrac{d}{dq}q^x = p \\dfrac{d}{dq} \\sum_{x=1}^{\\infty} q^x= p \\dfrac{d}{dq} \\dfrac{q}{1-q}= \\dfrac{p}{(1-q)^2} = \\dfrac{1}{p}$\n",
    "\n",
    "\n",
    "$E(X(X+1))=E(X^2+X)=E(X^2)+E(X)$ 를 이용해서 $E(X^2)$을 구하자.\n",
    "\n",
    "\n",
    "$E(X(X+1))=\\sum_{x=1}^{\\infty}x(x+1)pq^{x-1}=p\\sum_{x=1}^{\\infty} \\dfrac{d^2}{dq^2}q^{x+1}=p \\dfrac{d^2}{dq^2} \\sum_{x=1}^{\\infty} q^{x+1} = p \\dfrac{d^2}{dq^2} \\dfrac{q^2}{1-q} = \\dfrac{2}{p^2}$\n",
    "\n",
    "$E(X^2)=E(X(X+1))-E(X)=\\dfrac{1+q}{p^2}$"
   ]
  },
  {
   "cell_type": "markdown",
   "id": "536ba6e5-80c8-4f46-9cb2-981ff389c35b",
   "metadata": {},
   "source": [
    "# 5번"
   ]
  },
  {
   "cell_type": "markdown",
   "id": "e0f5622a-f522-4b54-a06f-5645b7f320b0",
   "metadata": {},
   "source": [
    "$X_1, \\dots, X_n$ 은 확률밀도함수 $f(x) = e^{-x}I(x>0)$ 을 따르는 램덤표본이다. "
   ]
  },
  {
   "cell_type": "markdown",
   "id": "3d8525ca-11ae-44d7-9afb-b67b506935b5",
   "metadata": {},
   "source": [
    "## 5(1)"
   ]
  },
  {
   "cell_type": "markdown",
   "id": "75ab8d3f-56bc-4a1b-be88-edf6ccd8305b",
   "metadata": {},
   "source": [
    "(1) $E(\\sum_{i=1}^{n}X_i)$"
   ]
  },
  {
   "cell_type": "markdown",
   "id": "7fd67635-95a7-406c-ad0a-6ba6dd199a96",
   "metadata": {},
   "source": [
    "$E(\\sum_{i=1}^{n}X_i) = \\sum_{i=1}^{n} E(X_i) =  n$"
   ]
  },
  {
   "cell_type": "markdown",
   "id": "37c83f21-6781-4d8c-9bbf-f41be15c32f1",
   "metadata": {},
   "source": [
    "$E(X) =  \\int_{0}^{\\infty} xe^{-x} dx = 1$"
   ]
  },
  {
   "cell_type": "markdown",
   "id": "853de8e4-052d-4ed5-a41e-753a7fe20aed",
   "metadata": {},
   "source": [
    "$X_i$는 랜덤표본이고 기댓값이 모두 1이다."
   ]
  },
  {
   "cell_type": "markdown",
   "id": "d8240854-29aa-4d5b-bad9-3df98fde8f27",
   "metadata": {},
   "source": [
    "## 5(2)"
   ]
  },
  {
   "cell_type": "markdown",
   "id": "a4bb38c4-9d85-4139-9d9f-bdb0cbd779d5",
   "metadata": {},
   "source": [
    "(2) $P(max_{i=1,\\dots,n} X_i \\leq x)$ \n",
    "\n",
    "\n",
    "(Hint: $(max_{i=1,\\dots,n} X_i \\leq x) = (X_1 \\leq x, \\dots, X_n \\leq x)$"
   ]
  },
  {
   "cell_type": "markdown",
   "id": "1cb380db-ea82-4909-af0a-3f6915917dc7",
   "metadata": {},
   "source": [
    "$P(max_{i=1,\\dots,n} X_i \\leq x)=P(X_1\\leq x, \\dots, X_n \\leq x)$ \n",
    "\n",
    "$X_i$는 랜덤표본이므로,\n",
    "\n",
    "= $P(X_1 \\leq x) \\dots P(X_n \\leq x)= [P(X_i \\leq x)]^n$\n",
    "\n",
    "$P(X_i \\leq x)= \\int_0^x e^{-x}dx=1-e^{-x}$ 이므로\n",
    "\n",
    "=$[P(X_i \\leq x)]^n=(1-e^{-x})^n$"
   ]
  },
  {
   "cell_type": "markdown",
   "id": "a5b0e379-5410-411b-a945-e36b4e221e20",
   "metadata": {},
   "source": [
    "## 5(3)"
   ]
  },
  {
   "cell_type": "markdown",
   "id": "efa72655-302b-4001-9be6-315d4357cf5c",
   "metadata": {},
   "source": [
    "(3) $Y_i$는 $X_i > 1$ 일 때 1, 아니면 0의 값을 가진다고 하자. ($i$=1,$\\dots$,$n$)\n",
    "\n",
    "$E(\\sum_{i=1}^{n}Y_i)$을 구하시오."
   ]
  },
  {
   "cell_type": "markdown",
   "id": "562c65a9-a90c-4179-95b1-d4482165e839",
   "metadata": {},
   "source": [
    "$Y_i=I(X_i>1)$\n",
    "\n",
    "$E(\\sum_{i=1}^{n}Y_i)=\\sum_{i=1}^{n}E(Y_i)$ 이다.\n",
    "\n",
    "$X_i$가 랜덤표본이므로 $Y_i$도 랜덤표본\n",
    "\n",
    "$E(Y_i)=0f_{Y_i}(0)+1f_{Y_i}(1)=\\int_1^{\\infty}e^{-x}dx=\\dfrac{1}{e}$\n",
    "\n",
    "$\\sum_{i=1}^{n}E(Y_i)=\\dfrac{n}{e}$"
   ]
  },
  {
   "cell_type": "markdown",
   "id": "ca17e097-1781-4d81-bb6c-ae69c9a67084",
   "metadata": {},
   "source": [
    "# 6번"
   ]
  },
  {
   "cell_type": "markdown",
   "id": "95b17953-b597-4c91-ae77-9464ae38aa56",
   "metadata": {},
   "source": [
    "두 확률변수 $X$와 $Y$의 결합 확률밀도함수 $f_{X,Y}(x,y)$가 다음과 같이 주어져 있다."
   ]
  },
  {
   "cell_type": "markdown",
   "id": "4182ccb2-74a7-419c-8d9e-716af19a86f6",
   "metadata": {},
   "source": [
    "|   |  x=0  |   x=1 |  x=2 |  x=3 |\n",
    "|---|:-----:|-------|------|------|\n",
    "|y=0| 4/84  | 18/84 | 12/84| 1/84 |\n",
    "|y=1| 0     | 6/84  | 24/84| 12/84|\n",
    "|y=2| 0     | 0     | 3/84 | 4/84 |\n"
   ]
  },
  {
   "cell_type": "markdown",
   "id": "94aeca36-681e-47ef-b9a3-fd077eef0368",
   "metadata": {},
   "source": [
    "## 6(1)"
   ]
  },
  {
   "cell_type": "markdown",
   "id": "fba86717-ba92-4b29-8ead-db999ca2b013",
   "metadata": {},
   "source": [
    "(1) $U$는 $Y=0$일 때 0, 아니면 1의 값을 가지는 확률변수로 정의하자. $U$와 $Y$의 결합확률밀도함수를 구하시오."
   ]
  },
  {
   "cell_type": "markdown",
   "id": "d89ef7e0-4996-4a4e-be15-d1743f7c13f6",
   "metadata": {},
   "source": [
    "$$f_{U,Y}(u,y)$$"
   ]
  },
  {
   "cell_type": "markdown",
   "id": "daf8628b-ce4f-4a07-990c-187357ceec65",
   "metadata": {},
   "source": [
    "|   |  u=0  |   u=1 |\n",
    "|---|:-----:|-------|\n",
    "|y=0| 35/84 |    0  |\n",
    "|y=1| 0     | 42/84 |\n",
    "|y=2| 0     | 7/84  |\n"
   ]
  },
  {
   "cell_type": "markdown",
   "id": "93274418-fbad-4038-a51c-39940231441e",
   "metadata": {},
   "source": [
    "## 6(2)"
   ]
  },
  {
   "cell_type": "markdown",
   "id": "4f272f83-9cac-4fe1-8683-d059709153c6",
   "metadata": {},
   "source": [
    "(2) $P(U=1)$"
   ]
  },
  {
   "cell_type": "markdown",
   "id": "a4eb201c-bb4f-4603-bdb6-14ab25e799f5",
   "metadata": {},
   "source": [
    "$P(U=1) = \\sum_{y}f_{U,Y}(1,y) = f_{U,Y}(1,0) + f_{U,Y}(1,1) + f_{U,Y}(1,2) = \\dfrac{49}{84}$"
   ]
  },
  {
   "cell_type": "markdown",
   "id": "42ec89eb-6c26-4945-8b1a-83188cc636bb",
   "metadata": {},
   "source": [
    "## 6(3)"
   ]
  },
  {
   "cell_type": "markdown",
   "id": "cc00972c-fd02-4b80-a970-19871f01e2fa",
   "metadata": {},
   "source": [
    "(3) $P(X>2|U=1)$"
   ]
  },
  {
   "cell_type": "markdown",
   "id": "3554b623-5f78-4952-8080-845c217d18ce",
   "metadata": {},
   "source": [
    "$P(X>2|U=1) = \\dfrac{f_{X,U}(x>2,u=1)}{f_U(u=1)}$"
   ]
  },
  {
   "cell_type": "markdown",
   "id": "04d9be99-3311-4003-9de1-b759babe6195",
   "metadata": {},
   "source": [
    "$P(X>1, U=1) \\to y \\neq 0$ 일때 $X=3$의 값이므로 $f_{X,Y}(x=3,y=1)+f_{X,Y}(x=3,y=2)= \\dfrac{12}{84} + \\dfrac{4}{84} = \\dfrac{16}{84}$"
   ]
  },
  {
   "cell_type": "markdown",
   "id": "e48ef8e8-b28e-4933-a938-2a6510e2cfe7",
   "metadata": {},
   "source": [
    "즉, $\\dfrac{f_{X,U}(x>2,u=1)}{f_U(u=1)}=\\dfrac{16}{49}$"
   ]
  },
  {
   "cell_type": "markdown",
   "id": "f1209ccc-6704-46ee-825a-e187c5c12e2c",
   "metadata": {},
   "source": [
    "## 6(4)"
   ]
  },
  {
   "cell_type": "markdown",
   "id": "a2c3a549-9018-43ea-9ed1-3af41ab19ff3",
   "metadata": {},
   "source": [
    "(4) $P(X>2|U=0)$"
   ]
  },
  {
   "cell_type": "markdown",
   "id": "0ad99975-0b09-4a98-899f-29c95e7c81b5",
   "metadata": {},
   "source": [
    "$P(X>2|U=0) = \\dfrac{f_{X,U}(x>2,u=0)}{f_U(u=0)}$"
   ]
  },
  {
   "cell_type": "markdown",
   "id": "eee64fcb-de0d-4584-b405-42eb0bee8b73",
   "metadata": {},
   "source": [
    "$P(X>2, U=0) \\to y = 0$ 일때 $X=3$의 값이므로 $f_{X,Y}(x=3,y=0)= \\dfrac{1}{84}$"
   ]
  },
  {
   "cell_type": "markdown",
   "id": "546f2cc4-4297-4acc-8a05-4037e54d2339",
   "metadata": {},
   "source": [
    "즉, $\\dfrac{f_{X,U}(x>2,u=0)}{f_U(u=0)}=\\dfrac{1}{35}$"
   ]
  },
  {
   "cell_type": "code",
   "execution_count": null,
   "id": "1cf124d7-d021-4c2b-93bf-43ebe6fa3a58",
   "metadata": {},
   "outputs": [],
   "source": []
  }
 ],
 "metadata": {
  "kernelspec": {
   "display_name": "Python 3",
   "language": "python",
   "name": "python3"
  },
  "language_info": {
   "codemirror_mode": {
    "name": "ipython",
    "version": 3
   },
   "file_extension": ".py",
   "mimetype": "text/x-python",
   "name": "python",
   "nbconvert_exporter": "python",
   "pygments_lexer": "ipython3",
   "version": "3.8.16"
  }
 },
 "nbformat": 4,
 "nbformat_minor": 5
}
