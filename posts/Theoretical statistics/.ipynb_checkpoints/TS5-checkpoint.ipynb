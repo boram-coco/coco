{
 "cells": [
  {
   "cell_type": "raw",
   "id": "2911fc8e-be63-47d1-813b-cef33e37334e",
   "metadata": {},
   "source": [
    "---\n",
    "title: \"TS HW5\"\n",
    "author: \"김보람\"\n",
    "date: \"04/19/2023\"\n",
    "categories:\n",
    "  - Theoretical statistics\n",
    "  - homework\n",
    "---"
   ]
  },
  {
   "cell_type": "markdown",
   "id": "47b3c18d-2ae8-40e2-a2e9-fb5eccb2b564",
   "metadata": {},
   "source": [
    "# 1번"
   ]
  },
  {
   "cell_type": "markdown",
   "id": "3c6d06a3-4c2d-4be1-810c-28430462e3bf",
   "metadata": {},
   "source": [
    "$(X_1, X_2, X_3)$ ∼ $MULT(n, p_1, p_2, p_3)$일 때 $X_1|X_2 = x_2$의 조건부 확률밀도함수를 구하시오."
   ]
  },
  {
   "cell_type": "markdown",
   "id": "faf5aecc-cb98-4fbe-b58f-768600bdb808",
   "metadata": {},
   "source": [
    "$f_{X_1,X_2,X_3}(x_1,x_2,x_3)=\\begin{pmatrix} n \\\\ x_1 \\ x_2\\  x_3 \\end{pmatrix} p_1^{x_1} p_2^{x_2} p_3^{x_3}$ , 단 $\\begin{pmatrix} 0\\leq x_{1}\\leq 1 & \\\\ 0\\leq x_{2}\\leq 1 & \\\\ 0\\leq x_{3}\\leq 1 & \\\\ x_{1}+x_{2}+x_{3}= & 1 \\end{pmatrix}$\n",
    "\n",
    "\n",
    "$X_1$ ~ $B(n,p_1)$이므로 $E(X_1)=np_1, E(X_2)=np_2$</span>\n",
    "\n",
    "\n",
    "$f_{X_1,X_2}(x_1,x_2)=P(X_1=x_1,X_2=x_2)$ 이고 </span>\n",
    "\n",
    "이 실험에서는,</span>\n",
    "\n",
    "$=P(X_1=x_1,X_2=x_2,X_3=n-x_1-x_2)$</span>\n",
    "\n",
    "$=\\dfrac{n!}{x_1! x_2! (n-x_1 -x_2)!}p_1^{x_1} p_2^{x_2} p_3^{n-x_1-x_2}$</span>\n",
    "\n",
    "분모는, 이항분포를 따르므로</span>\n",
    "\n",
    "$f_{X_2}(x_2) = \\dfrac{n!}{x_2!(n-x_2)!}p_2^{x_2}(1-p_2)^{n-x_2}$</span>\n",
    "\n",
    "$f_{X_1|X_2}(x_1|x_2)=\\dfrac{f_{X_1,X_2}(x_1,x_2)}{f_{X_2}(x_2)}$</span>\n",
    "\n",
    "$=\\dfrac{\\dfrac{n!}{x_1! x_2! (n-x_1 -x_2)!}p_1^{x_1} p_2^{x_2} p_3^{n-x_1-x_2}}{\\dfrac{n!}{x_2!(n-x_2)!}p_2^{x_2}(1-p_2)^{n-x_2}}$</span>\n",
    "\n",
    "$=\\dfrac{(n-x_2)!}{x_1!(n-x_2-x_1)!} \\left( \\dfrac{p_{1}}{1-p_{2}}\\right) ^{x_{1}} \\left( \\dfrac{p_{3}}{1-p_{2}}\\right) ^{n-x_{2}-x_{1}}$</span>\n",
    "\n",
    "$=\\begin{pmatrix} n-x_{2} \\\\ x_{1} \\end{pmatrix}  \\left( \\dfrac{p_{1}}{1-p_{2}}\\right) ^{x_{1}} \\left( 1-\\dfrac{p_{1}}{1-p_{2}}\\right) ^{n-x_{2}-x_{1}}$</span>\n",
    "\n",
    "즉, $B(n-x_2, \\dfrac{p_1}{1-p_2})$를 따른다.</span>\n",
    "\n"
   ]
  },
  {
   "cell_type": "markdown",
   "id": "6f022989-de2e-4220-934f-87018321a7a0",
   "metadata": {},
   "source": [
    "# 2번"
   ]
  },
  {
   "cell_type": "markdown",
   "id": "1679f9f6-82d6-4fea-920e-1bd8078169ae",
   "metadata": {},
   "source": [
    "$X$ ∼ $N(µ, σ^2)$일 때 다음을 구하시오."
   ]
  },
  {
   "cell_type": "markdown",
   "id": "5082adb3-cf46-44d9-a64f-de716a2208c2",
   "metadata": {},
   "source": [
    "## (1)"
   ]
  },
  {
   "cell_type": "markdown",
   "id": "acace495-5095-4f3d-a431-7085b528bd85",
   "metadata": {},
   "source": [
    "$Y = |X − µ|$의 확률밀도함수"
   ]
  },
  {
   "cell_type": "markdown",
   "id": "6cf6dde0-7a22-4e9d-bbaf-6671074dc473",
   "metadata": {},
   "source": [
    "$f_X(x)=\\dfrac{1}{\\sqrt{2\\pi \\sigma^2}}e^ {-\\frac{(x-\\mu)^2}{2\\sigma^2}}$"
   ]
  },
  {
   "cell_type": "markdown",
   "id": "c2c1ea5a-09f1-4085-8c0b-76cbf7435b34",
   "metadata": {},
   "source": [
    "$F_Y(y) = P(Y \\le y) = P(|X-\\mu| \\le y) = P(\\mu-y \\le X \\le \\mu+y) = F_X(\\mu + y) - F_X(\\mu - y)$ 이다.\n",
    "\n",
    "$f_y(y) = \\frac{d}{dy}\\{F_X(\\mu + y) - F_X(\\mu - y) \\} = f_X (\\mu + y) + f_X(\\mu - y) = \\frac{2}{\\sqrt{2\\pi}\\sigma} exp(-\\frac{y^2}{2\\sigma^2}) I(y>0)$"
   ]
  },
  {
   "cell_type": "markdown",
   "id": "838f87d2-1832-413c-b6a7-5186dfb487a8",
   "metadata": {},
   "source": [
    "## (2)"
   ]
  },
  {
   "cell_type": "markdown",
   "id": "5ec5ceda-6df5-470d-88b0-a2c24b5cb712",
   "metadata": {},
   "source": [
    "$Y = exp(X)$의 확률밀도함수"
   ]
  },
  {
   "cell_type": "markdown",
   "id": "66490cda-d6ae-4608-b55d-b9104b0e6947",
   "metadata": {},
   "source": [
    "$g(y) = e^X$ 라 놓자.\n",
    "\n",
    "$g^{-1}(y) = lny$\n",
    "\n",
    "$\\dfrac{d}{dy}(g^{-1}(y))= \\dfrac{1}{y}$\n",
    "\n",
    "$f_Y(y) = f_X(g^{-1}(y))\\left| \\dfrac{d g^{-1}(y) }{dy} \\right| =  \\dfrac{1}{y\\sqrt{2\\pi\\sigma^2}}e^{-\\frac{(lny - \\mu)^2}{2\\sigma^2}}$\n",
    "\n",
    "$= \\dfrac{1}{y\\sqrt{2\\pi\\sigma^2}}e^{-\\frac{(lny - \\mu)^2}{2\\sigma^2}}I(y>0)$"
   ]
  },
  {
   "cell_type": "markdown",
   "id": "1b923a01-3444-45e3-8ef6-ffcf2a17a833",
   "metadata": {},
   "source": [
    "# 3번"
   ]
  },
  {
   "cell_type": "markdown",
   "id": "f68686f8-52f2-4cd3-b6c1-9dfc92b1dcdb",
   "metadata": {},
   "source": [
    "한 개의 전자 시스템에 두 가지 다른 유형의 구성 요소가 각각 하나씩 공동으로 작동하고 있다. $Y_1$과 $Y_2$는 각각 유형 I 및 유형 II의 구성 요소의 수명 길이를 나타낸다고 한다. $Y_1$과 $Y_2$ 의 결합확률밀도함수가\n",
    "$$f_{Y_1,Y_2}(y_1, y_2) = \\dfrac{1}{8}y_1e^{−(y_1+y_2)/2}I(y_1 > 0, y_2 > 0)$$\n",
    "로 주어졌을 때 다음을 구하시오. (측정값은 백 시간 단위)"
   ]
  },
  {
   "cell_type": "markdown",
   "id": "ac8d963f-1cea-48d9-8e31-94c93c0d7b4b",
   "metadata": {},
   "source": [
    "$$f_{Y_1,Y_2}(y_1, y_2) = \\dfrac{1}{8}y_1e^{−y_1/2}e^{-y_2/2}I(y_1 > 0, y_2 > 0)$$"
   ]
  },
  {
   "cell_type": "markdown",
   "id": "4cf9c2c4-4f92-4875-b15b-95ee500cc110",
   "metadata": {},
   "source": [
    "## (1)"
   ]
  },
  {
   "cell_type": "markdown",
   "id": "70451f91-967c-41b4-b264-524f2afdfcd1",
   "metadata": {},
   "source": [
    "$Z = Y_1 + Y_2$의 확률분포"
   ]
  },
  {
   "cell_type": "markdown",
   "id": "16ebea90-e2a1-4ffd-9bb7-1b9518ded0a1",
   "metadata": {},
   "source": [
    "$Y_1$과 $Y_2$는 서로 독립이므로 합성곱 이용해보면, 범위는 $0<y_1<z$이고\n",
    "\n",
    "$f_Z(z)=\\int_{-\\infty}^\\infty f_{Y_2}(z-y_1) f_{Y_1}(y_1) dy_1=\\dfrac{e^{-2/z}}{8}\\int_0^z  y_1 dy_1=\\dfrac{ze^{-2/z}}{8}I(z>0)$"
   ]
  },
  {
   "cell_type": "markdown",
   "id": "05752968-f001-4f4c-b3ac-2f306b29d4df",
   "metadata": {},
   "source": [
    "<span style=\"color:blue\"> 교수님 풀이\n",
    "\n",
    "<span style=\"color:blue\">$f_Z(z) = \\dfrac{d}{dz}F_Z(z)$\n",
    "    \n",
    "<span style=\"color:blue\">$F_Z(z) = P(Z \\leq z) = P(Y_1 + Y_2 \\leq z)$ 이므로 $(Y_1, Y_2)$의 사건\n",
    "\n",
    "<span style=\"color:blue\">$\\int\\int_{y_1+y_2 \\leq z} f_{Y_1,Y_2}(y_1,y_2)dy_1dy_2$\n",
    "    \n",
    "<span style=\"color:blue\">=$\\int\\int_{y_1+y_2 \\leq z} \\dfrac{1}{8}y_1e^{-(y_1+y_2)/2}I(y_1>0)I(y_2>0)dy_1dy_2$\n",
    "    \n",
    "<span style=\"color:blue\">=$\\int_0^z \\dfrac{1}{8}y_1 e^{-\\frac{y_1}{2}}\\int_0^{z-y_1}e^{-\\frac{y_2}{2}}dy_2dy_1$\n",
    "    \n",
    "<span style=\"color:blue\">=$\\int_0^z \\dfrac{1}{8}y_1 e^{-\\frac{y_1}{2}} \\left[ -2e^{-\\frac{y^2}{2}} \\right]_0^{z-y_1}dy_1$\n",
    "    \n",
    "<span style=\"color:blue\">=$\\int_0^z \\dfrac{1}{8}y_1 e^{-\\frac{y_1}{2}} 2(1-e^{-\\frac{z-y_1}{2}})dy_1$\n",
    "    \n",
    "<span style=\"color:blue\">=$\\int_0^z \\dfrac{1}{4}y_1 \\left( e^{-\\frac{y_1}{2}}-e^{-\\frac{z}{2}} \\right)dy_1$"
   ]
  },
  {
   "cell_type": "markdown",
   "id": "21827301-fba6-4f3b-accb-d8747ad83886",
   "metadata": {},
   "source": [
    "## (2)"
   ]
  },
  {
   "cell_type": "markdown",
   "id": "9e8ab2c9-f764-475e-8ba8-d3ba544d0469",
   "metadata": {},
   "source": [
    "$U = Y_2/Y_1$와 $V = Y_1$의 결합확률밀도함수"
   ]
  },
  {
   "cell_type": "markdown",
   "id": "bb258a69-cb4b-42db-b2f8-f3b88adf79cf",
   "metadata": {},
   "source": [
    "$U.V$를 연립하면 $Y_1=V, Y_2=UV$ 이다.\n",
    "\n",
    "$|J|=\\begin{vmatrix} 0 & 1 \\\\ v & u \\end{vmatrix}=|-v|=v$"
   ]
  },
  {
   "cell_type": "markdown",
   "id": "005c53b6-84bb-4c2c-b760-994b17058e4c",
   "metadata": {},
   "source": [
    "$f_{U,V}(u,v) = f_{Y_1,Y_2}(y_1,y_2)|J| = f_{Y_1,Y_2}(v,uv)v =\\dfrac{1}{8} v^2 e^{-(v+uv)/2}I(u>0,v>0)$"
   ]
  },
  {
   "cell_type": "markdown",
   "id": "7d7be2fc-a768-4032-8111-a622180f8cec",
   "metadata": {},
   "source": [
    "## (3)"
   ]
  },
  {
   "cell_type": "markdown",
   "id": "461b8795-bfff-443e-9ac9-65ad6a0db411",
   "metadata": {},
   "source": [
    "$(2)$의 결과를 이용하여 $U$의 주변확률밀도함수"
   ]
  },
  {
   "cell_type": "markdown",
   "id": "52752a65-e93f-4115-a00e-eda8402cb476",
   "metadata": {},
   "source": [
    "$f_U(u)=\\int_{-\\infty}^{\\infty} f_{U,V}(u,v) dv = \\int_{0}^{\\infty} \\dfrac{1}{8} v^2 e^{-(v+uv)/2}I(u>0)dv$"
   ]
  },
  {
   "cell_type": "markdown",
   "id": "48be533b-85b4-41c3-83c6-6e251e9a9e28",
   "metadata": {},
   "source": [
    "<span style=\"color:red\"> $\\dfrac{v(u+1)}{2}=t$치환, $v=\\dfrac{2t}{u+1}, dv=\\dfrac{2}{u+1}dt$\n",
    "    \n",
    "<span style=\"color:red\">=$\\int_{-\\infty}^\\infty \\dfrac{1}{8} (\\dfrac{2}{u+1})^3 t^2 e^{-t} I(u>0)I(t>0)dt$\n",
    "    \n",
    "<span style=\"color:red\">=$\\dfrac{1}{8}(\\dfrac{2}{u+1})^3I(u>0) \\int_0^\\infty t^2e^{-t}dt$\n",
    "    \n",
    "<span style=\"color:red\">$\\because  \\int_0^\\infty t^2e^{-t}dt=\\Gamma(3)=2!=2$\n",
    "    \n",
    "<span style=\"color:red\">=$\\dfrac{2}{(u+1)^3}I(u>0)$"
   ]
  },
  {
   "cell_type": "markdown",
   "id": "b47c32a7-16da-4a7d-808a-bc7b6e8202dc",
   "metadata": {},
   "source": [
    "# 4번"
   ]
  },
  {
   "cell_type": "markdown",
   "id": "7d995e1a-cf3c-44d4-9275-e319a800dc9d",
   "metadata": {
    "tags": []
   },
   "source": [
    "두 명의 경계병이 1마일 길이의 도로를 순찰하도록 지시받았다고 한다. 경계병은 도로 상에서 서로 독립적으로 선택된 지점으로 파견되는데, 경계병이 할당된 위치에 도달할 때 서로 1/2 마일 이내에 있을 확률을 구하시오."
   ]
  },
  {
   "cell_type": "markdown",
   "id": "c33034dd-b0ca-4877-9e16-3c854e8d63be",
   "metadata": {},
   "source": [
    "$f_{X}(x)=I(0<x<1), f_{Y}(y)=I(0<y<1)$\n",
    "\n",
    "$X$ $Y$는 서로 독립이므로, $f_{X,Y}(x,y)=I(0<x<1)I(0<y<1)$이다.\n",
    "\n",
    "$P(|X-Y|<0.5)=P(-0.5<X-Y<0.5)$를 구하자.\n",
    "\n",
    "$Z_1=X-Y, Z_2=Y$로 놓으면 $X=Z_1+Z_2, Y=Z_2$\n",
    "\n",
    "$g(z_1, z_2)=|J|f(x,y)=f_X(z_1+z_2)f_Y(z_2)=1$\n",
    "\n",
    "확률밀도함수 $g(z_1)=\\begin{cases}\\int _{-z_{1}}^{1}dz_{2}=1+z_{1}\\left( -1 <z_{1} <0\\right) \\\\ \\int ^{1-z_{1}}_{0}dz_{2}=1-z_{1}\\left( 0\\leq z_{1} <1\\right) \\end{cases}$\n",
    "\n",
    "$P(|X-Y|<0.5)=P(-0.5<X-Y<0.5)=F_{g(z_1)}(0.5)-F_{g(z_1)}(-0.5)$\n",
    "\n",
    "누적분포함수 $F_{g(z_1)}=\\begin{cases}z_{1}+\\dfrac{1}{2}z_{1}^{2}\\left( -1 <z_{1} <0\\right) \\\\ z_{1}-\\dfrac{1}{2}z_{1}^{2}\\left( 0\\leq z_{1}<1\\right) \\end{cases}$\n",
    "\n",
    "$=F_{g(z_1)}(0.5)-F_{g(z_1)}(-0.5)=1-(0.5)^2=0.75$"
   ]
  },
  {
   "cell_type": "markdown",
   "id": "3695823f-b89a-45f3-8869-92c9ba8befce",
   "metadata": {},
   "source": [
    "# 5번"
   ]
  },
  {
   "cell_type": "markdown",
   "id": "9d0623bb-3552-40f0-91cf-0586cb2fbfec",
   "metadata": {},
   "source": [
    "$X$와 $Y$는 서로 독립이고 동일한 기하분포를 따른다고 할 때 다음을 구하시오."
   ]
  },
  {
   "cell_type": "markdown",
   "id": "3762ccfb-bee7-4ef6-8d9f-85a2fd6a415f",
   "metadata": {},
   "source": [
    "$f_X(x)=p(1-p)^{x-1}$, $f_Y(y)=p(1-p)^{y-1}$"
   ]
  },
  {
   "cell_type": "markdown",
   "id": "81b6d47e-9547-404e-9023-cd5bd1a5c793",
   "metadata": {},
   "source": [
    "## (3)"
   ]
  },
  {
   "cell_type": "markdown",
   "id": "734f36bc-5bc1-4b96-9e4d-fa4b495494a2",
   "metadata": {},
   "source": [
    "$U = X − Y$ 라고 할 때 $U$의 확률밀도함수"
   ]
  },
  {
   "cell_type": "markdown",
   "id": "f7af1d8e-11a0-4fc7-a6cc-20315574b2d2",
   "metadata": {},
   "source": [
    "\n",
    "\n",
    "$U=X-Y, V=Y$이면 $X=U+V, Y=V, |J|=1$\n",
    "\n",
    "$f_{U,V}(u,v)=p^2(1-p)^{u+2v-2}$\n",
    "\n",
    "$f_U(u)=\\sum_v f_{U,V}(u,v) = \\sum_{v=1}^\\infty (1-p)^u [p(1-p)^{v-1}]^2 = \\dfrac{p}{2-p}(1-p)^u$"
   ]
  },
  {
   "cell_type": "markdown",
   "id": "353c132e-2e4a-468c-9f6e-02c612f52126",
   "metadata": {},
   "source": [
    "<span style=\"color:red\"> $u$의 범위가 $(-\\infty, \\infty)$이고, 위 식은 $u>0$인 경우에만 성립한다.\n",
    "\n",
    "<span style=\"color:red\">만약 $u\\leq0$인 경우를 생각하면 \n",
    "    \n",
    "<span style=\"color:red\">$\\begin{aligned}\\sum \\sum \\\\ \\begin{pmatrix} x=y+n \\\\ y=1.2,\\dots \\\\ x\\geq 1 \\end{pmatrix}\\end{aligned} = \\sum_{y=1-u}^\\infty p^2 (1-p)^{2y+u-2} = p^2 \\dfrac{(1-p)^{-u}}{1-(1-p)^2}=\\dfrac{p}{(2-p)(1-p)^u}$\n"
   ]
  },
  {
   "cell_type": "markdown",
   "id": "2b0aa018-0ceb-4620-9db5-22d517538843",
   "metadata": {},
   "source": [
    "## (1)"
   ]
  },
  {
   "cell_type": "markdown",
   "id": "eb1d42ba-f257-412b-8754-8ccb03dc1e9f",
   "metadata": {},
   "source": [
    "$P (X = Y )$"
   ]
  },
  {
   "cell_type": "markdown",
   "id": "ec74cb8f-fabe-49f5-9612-78fa3b844922",
   "metadata": {},
   "source": [
    "$P (X = Y )=P(X-Y=0)=P(U=0)=\\dfrac{p}{2-p}$"
   ]
  },
  {
   "cell_type": "markdown",
   "id": "f504ab3a-de26-4136-a780-2848a28e3402",
   "metadata": {},
   "source": [
    "<span style=\"color:blue\">교수님 풀이\n",
    "    \n",
    "<span style=\"color:blue\">$f_{X,Y}(x,y) = \\sum \\sum_{x=y}f_{X,Y}(x,y)= \\begin{aligned}\\sum \\sum \\\\ \\begin{pmatrix} x=y \\\\ x=1,2,\\dots \\\\ y=1,2,\\dots \\end{pmatrix}\\end{aligned}p^2(1-p)^{x+y-2}=\\sum_{k=1}^\\infty (1-p)^{2k-2}=\\dfrac{p}{2-p}$"
   ]
  },
  {
   "cell_type": "markdown",
   "id": "784fbd58-9628-4a9b-9502-0eb6723533b3",
   "metadata": {},
   "source": [
    "## (2)"
   ]
  },
  {
   "cell_type": "markdown",
   "id": "02276af0-a61c-4ec1-b64c-be0ba198172f",
   "metadata": {},
   "source": [
    "$P (X − Y = 1)$"
   ]
  },
  {
   "cell_type": "markdown",
   "id": "082b7b28-a332-4ed8-a43b-04fe86798694",
   "metadata": {},
   "source": [
    "$P (X − Y = 1)=P(U=1)=\\dfrac{p(1-p)}{2-p}$"
   ]
  },
  {
   "cell_type": "markdown",
   "id": "c5041588-1700-4a32-8dbe-ed7017088e4c",
   "metadata": {},
   "source": [
    "<span style=\"color:blue\">교수님 풀이\n",
    "    \n",
    "<span style=\"color:blue\">$f_{X,Y}(x,y) = \\sum \\sum_{x-y=1}f_{X,Y}(x,y)= \\begin{aligned}\\sum \\sum \\\\ \\begin{pmatrix} x-y=1 \\\\ x=1,2,\\dots \\\\ y=1,2,\\dots \\end{pmatrix}\\end{aligned}p^2(1-p)^{x+y-2}=\\sum_{y=1}^\\infty (1-p)^{2y-1}=\\dfrac{p(1-p)}{2-p}$"
   ]
  },
  {
   "cell_type": "markdown",
   "id": "82c8c5dd-d22d-41bd-89d3-e6ca89d8cd2b",
   "metadata": {},
   "source": [
    "# 6번"
   ]
  },
  {
   "cell_type": "markdown",
   "id": "3d91692e-4a5a-4ba3-93a9-611f55f4844a",
   "metadata": {},
   "source": [
    "어떤 합성물의 알코올 비율 $Y$ 는 다음 확률밀도함수를 따르는 확률변수라고 하자.\n",
    "$$f(y) = 20y^3(1 − y)I(0 < y < 1)$$\n",
    "그 합성물의 판매가는 알코올 함량에 따라 결정된다고 한다. $1/3 < y < 2/3$이면 1갤런 당 $C_1$달러, 그렇지 않으면 $C_2$달러에 판매된다. 생산비가 갤런 당 $C_3$달러라면, 갤런당 판매수익의 확률분포를 구하시오"
   ]
  },
  {
   "cell_type": "markdown",
   "id": "7642fa91-37aa-4822-ad98-ea631f93cc3c",
   "metadata": {},
   "source": [
    "$Y$ ~ $BETA(4,2)$이고 판매수익을 $X$라고 놓으면"
   ]
  },
  {
   "cell_type": "markdown",
   "id": "6f7fd052-7268-4e58-b90f-d5edb04d810c",
   "metadata": {},
   "source": [
    "$P(X=C_1Y-C_3) \\to P(0< y \\leq 1/3) = \\int_0^{1/3} 20y^3(1-y)dy = \\frac{11}{243}$"
   ]
  },
  {
   "cell_type": "markdown",
   "id": "21bcc699-e545-4c4a-a982-e0cae4699f8f",
   "metadata": {},
   "source": [
    "$P(X=C_1Y-C_3) \\to P(2/3 \\leq y < 1) = \\int_{2/3}^1 20y^3(1-y)dy = \\frac{131}{243}$"
   ]
  },
  {
   "cell_type": "markdown",
   "id": "b1e62258-37ba-43f3-8dae-d1705432c4cd",
   "metadata": {},
   "source": [
    "$P(X=C_2Y-C_3) \\to P(1/3 < y < 2/3) = \\int_{1/3}^{3/2} 20y^3(1-y)dy = \\frac{101}{243}$"
   ]
  },
  {
   "cell_type": "markdown",
   "id": "6064c38d-7e23-4ce3-a7bf-8dc8c9e1702e",
   "metadata": {},
   "source": [
    "<span style=\"color:blue\">교수님 풀이\n",
    "\n",
    "<span style=\"color:blue\">$X=\\begin{cases}C_{1}-C_{3},\\frac{1}{3} <y <\\frac{2}{3}\\\\  C_{2}-C_{3},0,w\\end{cases}$\n",
    "    \n",
    "<span style=\"color:blue\">$P(X=C_1-C_3)=P(1/3 < y < 2/3)$\n",
    "    \n",
    "<span style=\"color:blue\">$P(X=C_2-C_3)=1-P(1/3 < y < 2/3)$\n",
    "    "
   ]
  },
  {
   "cell_type": "code",
   "execution_count": null,
   "id": "18ae05e7-d8d9-4cac-aea8-9573b2f77c24",
   "metadata": {},
   "outputs": [],
   "source": []
  },
  {
   "cell_type": "code",
   "execution_count": null,
   "id": "dccde0ac-f3d3-4323-9bf4-aa476a672de4",
   "metadata": {},
   "outputs": [],
   "source": []
  },
  {
   "cell_type": "code",
   "execution_count": null,
   "id": "3363bcca-793c-494c-a0d5-e4049b9ec174",
   "metadata": {},
   "outputs": [],
   "source": []
  },
  {
   "cell_type": "code",
   "execution_count": null,
   "id": "2ba8e105-23a7-40bf-b965-6d486377fb59",
   "metadata": {},
   "outputs": [],
   "source": []
  },
  {
   "cell_type": "code",
   "execution_count": null,
   "id": "409df523-9951-47c4-b6f1-50c8acc9155a",
   "metadata": {},
   "outputs": [],
   "source": []
  }
 ],
 "metadata": {
  "kernelspec": {
   "display_name": "Python 3 (ipykernel)",
   "language": "python",
   "name": "python3"
  },
  "language_info": {
   "codemirror_mode": {
    "name": "ipython",
    "version": 3
   },
   "file_extension": ".py",
   "mimetype": "text/x-python",
   "name": "python",
   "nbconvert_exporter": "python",
   "pygments_lexer": "ipython3",
   "version": "3.8.16"
  }
 },
 "nbformat": 4,
 "nbformat_minor": 5
}
