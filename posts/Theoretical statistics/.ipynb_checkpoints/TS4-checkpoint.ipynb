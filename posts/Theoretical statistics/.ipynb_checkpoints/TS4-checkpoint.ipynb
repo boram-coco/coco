{
 "cells": [
  {
   "cell_type": "raw",
   "id": "bd4d223b-7e0b-4ebf-a075-85ff07c5c216",
   "metadata": {},
   "source": [
    "---\n",
    "title: \"TS HW4\"\n",
    "author: \"김보람\"\n",
    "date: \"04/15/2023\"\n",
    "categories:\n",
    "  - Theoretical statistics\n",
    "  - homework\n",
    "---"
   ]
  },
  {
   "cell_type": "markdown",
   "id": "6f50feff-9112-47f0-a42b-6dd62ba7e940",
   "metadata": {},
   "source": [
    "# 1번"
   ]
  },
  {
   "cell_type": "markdown",
   "id": "729d08c5-ed81-4207-95a6-c53c081447df",
   "metadata": {},
   "source": [
    "음이항분포 $NB(r, p)$의 확률밀도함수 $f(x)$가 $\\sum_{x=r}^\\infty f(x) = 1$을 만족함을 음이항정리를 이용하여 증명하시오"
   ]
  },
  {
   "cell_type": "code",
   "execution_count": null,
   "id": "d359bfb9-a806-4cba-a71c-fc6fe819acaa",
   "metadata": {},
   "outputs": [],
   "source": []
  },
  {
   "cell_type": "markdown",
   "id": "83908043-13e6-4b52-b02b-ada717ef7469",
   "metadata": {},
   "source": [
    "음이항정리\n",
    "\n",
    "$\\dfrac{1}{1-q} = \\sum_{x=0}^{\\infty} \\begin{pmatrix} x+1-1 \\\\ 1-1 \\end{pmatrix} q^x (|x|<1)$\n",
    "\n",
    "\n",
    "$\\dfrac{1}{(1-q)^2} = \\dfrac{d}{dq} (\\dfrac{1}{1-q}) = \\sum_{x=1}^\\infty xq^{x-1} = \\sum_{x=0}^\\infty (x+1)q^x = \\sum_{x=0}^{\\infty} \\begin{pmatrix} x+2-1 \\\\ 2-1 \\end{pmatrix} q^x (|x|<1)$\n",
    "\n",
    "수학적 귀납법을 통해\n",
    "\n",
    "$(1-q)^{-r} = \\sum_{x=0}^\\infty \\begin{pmatrix} x+r-1 \\\\ r-1 \\end{pmatrix} q^x$ 임을 구할 수 있다. -(A)\n",
    "\n",
    "$\\sum_{x=r}^\\infty f(x)$\n",
    "\n",
    "= $\\sum_{x=r}^\\infty \\begin{pmatrix} x-r \\\\ r-1 \\end{pmatrix} p^r (1-p)^{x-r} (x=r, r+1, \\dots)$\n",
    "\n",
    "= $p^r \\sum_{x=r}^\\infty \\begin{pmatrix} x-r \\\\ r-1 \\end{pmatrix} (1-p)^{x-r}$ 이고\n",
    "\n",
    "$x-r=t$로 치환하면\n",
    "\n",
    "= $p^r \\sum_{t=0}^\\infty \\begin{pmatrix} t+r-1 \\\\ r-1 \\end{pmatrix} (1-p)^t$ 이다.\n",
    "\n",
    "(A)식을 이용해\n",
    "\n",
    "= $p^r(1-q)^{-r} = p^r p^{-r} = 1$ 을 증명할 수 있다."
   ]
  },
  {
   "cell_type": "markdown",
   "id": "5dda5a2f-48ab-4573-8d95-7db588c153c4",
   "metadata": {},
   "source": [
    "<span style=\"color:red\">이항정리 $(x+y)^n = \\sum_{k=0}^n \\begin{pmatrix} n \\\\ k \\end{pmatrix} x^k y^{n-k}$</span>\n",
    "\n",
    "<span style=\"color:red\">일반화된 이항정리 $(x+y)^a = \\sum_{k=0}^\\infty \\begin{pmatrix} a \\\\ k \\end{pmatrix} a^k y^{n-k}, a\\in \\mathbb{R}, -1<x<1$</span>\n",
    "\n",
    "<span style=\"color:red\">즉, $(1-w)^{-r}= \\sum_{k=0}^\\infty \\begin{pmatrix} -r \\\\ k \\end{pmatrix} (-w)^k$</span>\n",
    "\n",
    "<span style=\"color:red\">=$\\sum_{k=0}^\\infty \\dfrac{-r \\cdot (-r-1) \\dots \\cdot (-r-k+1) }{k!}(-1)^k w^k$</span>\n",
    "\n",
    "<span style=\"color:red\">=$\\sum_{k=0}^\\infty \\dfrac{r \\cdot (r+1) \\dots \\cdot (r+k-1) }{k!}(-1)^{2k} w^k$</span>\n",
    "\n",
    "<span style=\"color:red\">$\\sum_{k=0}^\\infty \\dfrac{-r \\cdot (-r-1) \\dots \\cdot (-r-k+1) }{k!}(-1)^k w^k$</span>\n",
    "\n",
    "<span style=\"color:red\">$\\sum_{k=0}^\\infty\\begin{pmatrix} r+k-1 \\\\ k \\end{pmatrix} w^k$</span>\n",
    "\n",
    "<span style=\"color:red\">$x=r+k$로 치환하면</span>\n",
    "\n",
    "<span style=\"color:red\">=$\\sum_{x=r}^\\infty \\begin{pmatrix} x-1 \\\\ r-1 \\end{pmatrix} w^{x-r}$</span>\n",
    "\n",
    "<span style=\"color:red\">$s.t \\sum \\begin{pmatrix} x-1 \\\\ r-1 \\end{pmatrix} p^r (1-p)^{x-r} =  p^r \\sum \\begin{pmatrix} x-1 \\\\ r-1 \\end{pmatrix}  (1-p)^{x-r} = p^r {1-(1-p)}^{-r} = 1$</span>"
   ]
  },
  {
   "cell_type": "code",
   "execution_count": null,
   "id": "50d42fc5-4a80-42be-b8ca-d837b15b6dd8",
   "metadata": {},
   "outputs": [],
   "source": []
  },
  {
   "cell_type": "markdown",
   "id": "9d87f82b-efae-44a9-bffe-6e63d42488c1",
   "metadata": {},
   "source": [
    "# 2번"
   ]
  },
  {
   "cell_type": "markdown",
   "id": "ba73d471-250a-4597-9ef9-06a853bfc794",
   "metadata": {},
   "source": [
    "음이항분포 $NB(r, p)$의 적률생성함수를 구하시오\n"
   ]
  },
  {
   "cell_type": "markdown",
   "id": "97f2ac5c-cc63-45d6-beaa-0599c98447df",
   "metadata": {},
   "source": [
    "$Y_i$가 기하분포를 따르면 $\\sum_{i=1}^r Y_i = X~NB(r,p)$이다.\n",
    "\n",
    "$M_X(t)=E(e^{tX})=E(e^{tY_1+\\dots+tY_r})$\n",
    "\n",
    "$Y_i$는 각각 독립이므로,\n",
    "\n",
    "=$E(e^{tY_1}) \\dots E(e^{tY_r})$\n",
    "\n",
    "=$(\\dfrac{pe^t}{1-qe^t})^r$"
   ]
  },
  {
   "cell_type": "markdown",
   "id": "e9149d00-f39c-49c8-9e9e-ab64aaa31fc9",
   "metadata": {},
   "source": [
    "# 3번"
   ]
  },
  {
   "cell_type": "markdown",
   "id": "da93f34b-3ee8-4338-8cbb-69374afdedbe",
   "metadata": {},
   "source": [
    "베타분포 $BETA(a, b)$의 $k$차적률이 $E(X^k) = \\dfrac{Γ(a + k)Γ(a + b)}{Γ(a)Γ(a + b + k)}$임을 보이시오.\n"
   ]
  },
  {
   "cell_type": "markdown",
   "id": "698fe756-a15f-4ae0-a236-d4c9dbdef10f",
   "metadata": {},
   "source": [
    "$E(X^k)=\\int_{-\\infty}^{\\infty}x^k \\dfrac{1}{B(a,b)}x^{a-1}(1-x)^{b-1}I(0<x<1)dx$\n",
    "\n",
    "= $\\dfrac{1}{B(a,b)}\\int_0^1 x^{a+k-1}(1-x)^{b-1}dx$\n",
    "\n",
    "= $\\dfrac{B(a+k,b)}{B(a,b)}= \\dfrac{\\Gamma(a+k)\\Gamma(b)}{\\Gamma(a+k+b)} \\dfrac{\\Gamma(a+B)}{\\Gamma(a)\\Gamma(b)}=\\dfrac{\\Gamma(a+k) \\Gamma(a+b)}{\\Gamma(a) \\Gamma(a+b+k)}$"
   ]
  },
  {
   "cell_type": "markdown",
   "id": "bcf5f9a6-409b-4b3e-8531-43e1d4bcc21b",
   "metadata": {},
   "source": [
    "<span style=\"color:blue\">과제 3의 9번 문제도 이 공식을 이용해 구할 수 있다.</span>"
   ]
  },
  {
   "cell_type": "markdown",
   "id": "d02f5ba8-a401-4b39-b48a-a8b573fc6d01",
   "metadata": {},
   "source": [
    "# 4번"
   ]
  },
  {
   "cell_type": "markdown",
   "id": "a173d8fa-99ee-4d18-914c-60dc3d3912ab",
   "metadata": {},
   "source": [
    "감마분포 $GAM(α, β)$의 평균과 분산의 기댓값 정의를 이용하여 구하시오."
   ]
  },
  {
   "cell_type": "markdown",
   "id": "072adefe-dc82-4a86-aede-4b4e2dd9cb5b",
   "metadata": {},
   "source": [
    "$E(X)=\\dfrac{1}{\\Gamma(\\alpha) \\beta^\\alpha}\\int_0^\\infty x x^{\\alpha -1} e^{-x/\\beta}$"
   ]
  },
  {
   "cell_type": "markdown",
   "id": "701ad8ad-b06b-47da-9769-e5224ae86e29",
   "metadata": {},
   "source": [
    "$=\\dfrac{\\Gamma(\\alpha+1) \\beta^{\\alpha+1}}{\\Gamma(\\alpha) \\beta^\\alpha} \\int_0^\\infty \\dfrac{1}{\\Gamma(\\alpha+1)\\beta^{\\alpha+1}} x^{(a+1)-1}e^{-x/\\beta}$"
   ]
  },
  {
   "cell_type": "markdown",
   "id": "98cc1101-1d95-42c4-bbc9-47389507bc69",
   "metadata": {},
   "source": [
    "$\\because \\int_0^\\infty \\dfrac{1}{\\Gamma(\\alpha+1)\\beta^{\\alpha+1}} x^{(a+1)-1}e^{-x/\\beta} =1$"
   ]
  },
  {
   "cell_type": "markdown",
   "id": "0c0554c6-4606-4727-8967-45a02e116888",
   "metadata": {},
   "source": [
    "$=\\dfrac{\\Gamma(\\alpha+1) \\beta^{\\alpha+1}}{\\Gamma(\\alpha) \\beta^\\alpha} = \\dfrac{\\alpha \\Gamma(\\alpha) \\beta^{\\alpha +1}}{\\Gamma(\\alpha) \\beta^\\alpha} = \\alpha\\beta$"
   ]
  },
  {
   "cell_type": "markdown",
   "id": "a04e73fe-1012-46b5-9eea-d21b6468e850",
   "metadata": {},
   "source": [
    "$E(X^2)=\\dfrac{1}{\\Gamma(\\alpha) \\beta^\\alpha}\\int_0^\\infty x^2 x^{\\alpha -1} e^{-x/\\beta}$"
   ]
  },
  {
   "cell_type": "markdown",
   "id": "12ad3b6b-412c-4c57-a9a8-e93554cdad96",
   "metadata": {},
   "source": [
    "$=\\dfrac{\\Gamma(\\alpha+2) \\beta^{\\alpha+2}}{\\Gamma(\\alpha) \\beta^\\alpha} \\int_0^\\infty \\dfrac{1}{\\Gamma(\\alpha+2)\\beta^{\\alpha+2}} x^{(a+2)-1}e^{-x/\\beta}$"
   ]
  },
  {
   "cell_type": "markdown",
   "id": "fc1d0fff-03e9-40be-a362-7ddd1f328801",
   "metadata": {},
   "source": [
    "$=\\dfrac{\\Gamma(\\alpha+2) \\beta^{\\alpha+2}}{\\Gamma(\\alpha) \\beta^\\alpha} = \\dfrac{\\Gamma(\\alpha+1)\\alpha \\beta^{\\alpha +2} \\Gamma(\\alpha)}{\\Gamma(\\alpha) \\beta^\\alpha} = (\\alpha+1)\\alpha\\beta^2$"
   ]
  },
  {
   "cell_type": "markdown",
   "id": "824d7a24-47c3-46e1-90ea-8429fbe722cf",
   "metadata": {},
   "source": [
    "$Var(X)=E(X^2)-[E(X)]^2= (\\alpha+1)\\alpha\\beta^2 - (\\alpha\\beta)^2 = \\alpha\\beta^2$"
   ]
  },
  {
   "cell_type": "code",
   "execution_count": null,
   "id": "762ecb0f-ab28-4a32-82ca-43241ea54cb2",
   "metadata": {},
   "outputs": [],
   "source": []
  },
  {
   "cell_type": "code",
   "execution_count": null,
   "id": "0c44f9b6-64dc-43ad-b03d-a535a1218600",
   "metadata": {},
   "outputs": [],
   "source": []
  },
  {
   "cell_type": "markdown",
   "id": "9526964e-7f74-4386-b751-fe9f5aea7d4e",
   "metadata": {},
   "source": [
    "# 5번"
   ]
  },
  {
   "cell_type": "markdown",
   "id": "0e58b4ee-692f-4eb2-9976-da5f70e804a4",
   "metadata": {},
   "source": [
    "정규분포 $N(µ, σ^2)$의 적률생성함수를 구하시오."
   ]
  },
  {
   "cell_type": "markdown",
   "id": "a0445d4c-c9f3-4ead-9af9-3113b91aed91",
   "metadata": {},
   "source": [
    "$M_X(t)=E(e^{tX})=\\int_{-\\infty}^\\infty e^{tx} \\dfrac{1}{\\sqrt{2\\pi \\sigma^2}}e^{-\\dfrac{(x-\\mu)^2}{2\\sigma^2}}dx$"
   ]
  },
  {
   "cell_type": "markdown",
   "id": "61ee3c77-353d-4d57-9b69-df314381e00a",
   "metadata": {},
   "source": [
    "($\\dfrac{x-\\mu}{\\sigma}=u$ 치환하면, $dx=\\sigma du$, $x=\\mu+\\sigma u$)"
   ]
  },
  {
   "cell_type": "markdown",
   "id": "7b0ff4b9-f387-42c2-a199-2bb83c9ae4fa",
   "metadata": {},
   "source": [
    "= $\\int_{-\\infty}^\\infty e^{t(\\mu+\\sigma u)} \\dfrac{1}{\\sqrt{2\\pi \\sigma^2}}e^{-u^2/2} \\sigma du$"
   ]
  },
  {
   "cell_type": "markdown",
   "id": "352022a5-fa77-4d44-9147-f9aa77250128",
   "metadata": {},
   "source": [
    "= $\\dfrac{e^{t\\mu}}{\\sqrt{2\\pi}} \\int_{-\\infty}^{\\infty}e^{-\\dfrac{1}{2}(u-t \\mu)^2 + -\\dfrac{1}{2}t^2\\sigma^2}du$"
   ]
  },
  {
   "cell_type": "markdown",
   "id": "a61d3cf1-8264-42bb-ac74-72e519d65b3e",
   "metadata": {},
   "source": [
    "=$\\dfrac{e^{t\\mu+ \\dfrac{1}{2}t^2 \\sigma^2}}{\\sqrt{2\\pi}} \\int_{-\\infty}^\\infty e ^{-\\dfrac{(u-t\\mu)^2}{2}}du$"
   ]
  },
  {
   "cell_type": "markdown",
   "id": "0107a0d4-6a3b-4042-8ea7-97835d5a03ad",
   "metadata": {},
   "source": [
    "($u-t\\sigma=v$로 치환하면, $du=dv, u=v+t\\sigma$)"
   ]
  },
  {
   "cell_type": "markdown",
   "id": "e87bc575-aec8-47aa-87ce-3bcb7b0fa00e",
   "metadata": {},
   "source": [
    "=$\\dfrac{e^{t\\mu+ \\dfrac{1}{2}t^2 \\sigma^2}}{\\sqrt{2\\pi}} \\int_{-\\infty}^\\infty e^{-\\dfrac{v}{2}}dv$"
   ]
  },
  {
   "cell_type": "markdown",
   "id": "a47eef41-0f4b-417c-9979-d944742f2570",
   "metadata": {},
   "source": [
    "$\\because \\int_{-\\infty}^\\infty e^{-\\dfrac{v}{2}}dv = \\sqrt{2\\pi}$"
   ]
  },
  {
   "cell_type": "markdown",
   "id": "c6f94cc9-f2a5-4e8f-a35e-dff3cc3cb2c0",
   "metadata": {},
   "source": [
    "=$e^{t\\mu+ \\dfrac{1}{2}t^2 \\sigma^2}$"
   ]
  },
  {
   "cell_type": "markdown",
   "id": "2e0796d6-03e7-4991-a953-48a114c1fc5c",
   "metadata": {},
   "source": [
    "# 6번"
   ]
  },
  {
   "cell_type": "markdown",
   "id": "1fb0815e-e6e8-4cad-92e7-16c6aa3f54ec",
   "metadata": {},
   "source": [
    "이변량정규분포 $BVN(µ_X, µ_Y , σ_X, σ_Y , ρ)$를 따르는 확률벡터 $(X,Y)$의 확률밀도함수를 다변량정규분포의 확률밀도함수의 2차원형임을 이용하여 구하시오."
   ]
  },
  {
   "cell_type": "markdown",
   "id": "aa47963b-0a64-459a-8148-9a4f23d4c38e",
   "metadata": {},
   "source": [
    "$\\mu =\\begin{pmatrix} \\mu _{x} \\\\ \\mu _{y} \\end{pmatrix}$"
   ]
  },
  {
   "cell_type": "markdown",
   "id": "3d079e33-917d-4a47-b477-a41bd57b4a68",
   "metadata": {},
   "source": [
    "$\\sum =\\begin{pmatrix} \\sigma _{x}^{2} & \\sigma _{xy} \\\\ \\sigma _{xy} & \\sigma _{y}^{2} \\end{pmatrix}= \\begin{pmatrix} \\sigma _{x}^{2} & \\rho \\sigma _{x}\\sigma _{y} \\\\ \\rho \\sigma _{x}\\sigma _{y} & \\sigma _{y}^{2} \\end{pmatrix}$"
   ]
  },
  {
   "cell_type": "markdown",
   "id": "3f924dd5-a063-4b67-9712-553bcd270eb4",
   "metadata": {},
   "source": [
    "$f_{X,Y}(x,y)=\\dfrac{1}{|2\\pi \\sum|^{1/2}} exp\\left[ -\\dfrac{1}{2}\\left( \\begin{pmatrix} x \\\\ y \\end{pmatrix}-\\begin{pmatrix} u_{x} \\\\ u_{y} \\end{pmatrix}\\right) ^{t}\\Sigma ^{-1}\\left( \\begin{pmatrix} x \\\\ y \\end{pmatrix}-\\begin{pmatrix} \\mu _{x} \\\\ \\mu _{y} \\end{pmatrix}\\right) \\right]$"
   ]
  },
  {
   "cell_type": "markdown",
   "id": "28228124-eaff-4412-b2a2-90f6d7c9e3b9",
   "metadata": {},
   "source": [
    "먼저, $\\dfrac{1}{|2\\pi\\sum|^{1/2}}=\\dfrac{1}{2\\pi|\\sum|^{1/2}}=\\dfrac{1}{2\\pi(\\sigma_x^2 \\sigma_y^2 - \\rho^2 \\sigma_x^2 \\sigma_y^2)^{1/2}}=\\dfrac{1}{2\\pi \\sigma_x \\sigma_y \\sqrt{1-\\rho^2}}$"
   ]
  },
  {
   "cell_type": "markdown",
   "id": "672dfcbe-9d18-48e6-8316-25c311582453",
   "metadata": {},
   "source": [
    "$exp\\left[ -\\dfrac{1}{2}\\left( \\begin{pmatrix} x \\\\ y \\end{pmatrix}-\\begin{pmatrix} \\mu_{x} \\\\ \\mu_{y} \\end{pmatrix}\\right) ^{t}\\Sigma ^{-1}\\left( \\begin{pmatrix} x \\\\ y \\end{pmatrix}-\\begin{pmatrix} \\mu _{x} \\\\ \\mu _{y} \\end{pmatrix}\\right) \\right]$"
   ]
  },
  {
   "cell_type": "markdown",
   "id": "ea7386d1-e638-4cb1-a8eb-032bb9d53a0e",
   "metadata": {},
   "source": [
    "= $exp \\left[-\\dfrac{1}{2(\\sigma_x^2 \\sigma_y^2 - \\rho^2 \\sigma_x^2 \\sigma_y^2)} \\begin{pmatrix} x-\\mu_x & y-\\mu_y \\end{pmatrix} \\begin{pmatrix} \\sigma _{y}^{2} & - \\rho \\sigma _{x}\\sigma _{y} \\\\ - \\rho \\sigma _{x}\\sigma _{y} & \\sigma _{x}^{2} \\end{pmatrix} \\begin{pmatrix} x-\\mu_x \\\\ y-\\mu_y \\end{pmatrix} \\right]$"
   ]
  },
  {
   "cell_type": "markdown",
   "id": "4a666e03-3393-43f6-8d1b-cfa5c9d171e3",
   "metadata": {},
   "source": [
    "= $exp \\left[ -\\dfrac{1}{2(\\sigma_x^2 \\sigma_y^2 - \\rho^2 \\sigma_x^2 \\sigma_y^2)} ( (x-\\mu_x)^2 \\sigma_y^2 + (y-\\mu_y)^2 \\sigma_x^2 - 2\\rho \\sigma_x \\sigma_y (x-\\mu_x)(y-\\mu_y)) \\right]$"
   ]
  },
  {
   "cell_type": "markdown",
   "id": "b3cb1365-00e6-4a82-a0f1-11d64867ce56",
   "metadata": {},
   "source": [
    "=$exp \\left[-\\dfrac{\\sigma_x^2 \\sigma_y^2}{2\\sigma_x^2 \\sigma_y^2(1- \\rho^2)} \\left( \\left(\\dfrac{x-\\mu_x}{\\sigma_x}\\right)^2 + \\left(\\dfrac{y-\\mu_y}{\\sigma_y}\\right)^2 - 2\\rho \\left(\\dfrac{x-\\mu_x}{\\sigma_x}\\right) \\left(\\dfrac{y-\\mu_y}{\\sigma_y}\\right) \\right) \\right]$"
   ]
  },
  {
   "cell_type": "markdown",
   "id": "d8e12c05-b8ec-478e-91aa-f77083f9a837",
   "metadata": {},
   "source": [
    "=$exp \\left[-\\dfrac{1}{2(1- \\rho^2)} \\left( \\left(\\dfrac{x-\\mu_x}{\\sigma_x}\\right)^2 + \\left(\\dfrac{y-\\mu_y}{\\sigma_y}\\right)^2 - 2\\rho \\left(\\dfrac{x-\\mu_x}{\\sigma_x}\\right) \\left(\\dfrac{y-\\mu_y}{\\sigma_y}\\right) \\right) \\right]$"
   ]
  },
  {
   "cell_type": "markdown",
   "id": "3135c250-5ea9-4827-860c-34c4c98dd94f",
   "metadata": {},
   "source": [
    "즉, "
   ]
  },
  {
   "cell_type": "markdown",
   "id": "eafae948-760c-4bd6-ab75-3acff723b576",
   "metadata": {},
   "source": [
    "$f_{X,Y}(x,y)=\\dfrac{1}{2\\pi \\sigma_x \\sigma_y \\sqrt{1-\\rho^2}}exp \\left[-\\dfrac{1}{2(1- \\rho^2)} \\left( \\left(\\dfrac{x-\\mu_x}{\\sigma_x}\\right)^2 + \\left(\\dfrac{y-\\mu_y}{\\sigma_y}\\right)^2 - 2\\rho \\left(\\dfrac{x-\\mu_x}{\\sigma_x}\\right) \\left(\\dfrac{y-\\mu_y}{\\sigma_y}\\right) \\right) \\right]$"
   ]
  },
  {
   "cell_type": "code",
   "execution_count": null,
   "id": "bf7c2bb5-e878-4075-923e-3349bee1adb1",
   "metadata": {},
   "outputs": [],
   "source": []
  },
  {
   "cell_type": "code",
   "execution_count": null,
   "id": "5fcabca5-f918-4a06-974a-b38995167ac2",
   "metadata": {},
   "outputs": [],
   "source": []
  },
  {
   "cell_type": "markdown",
   "id": "958585c7-f420-4ad0-84f6-e1bf09d79042",
   "metadata": {},
   "source": [
    "# 7번"
   ]
  },
  {
   "cell_type": "markdown",
   "id": "0639effd-e25c-4c39-8d3a-baccd2fbdd5c",
   "metadata": {},
   "source": [
    "이변량정규분포 $BVN(µ_X, µ_Y , σ_X, σ_Y , ρ)$의 확률밀도함수로부터 $X$의 주변확률밀도함수를 구하시오."
   ]
  },
  {
   "cell_type": "markdown",
   "id": "150036dd-1dae-4447-a464-3b3a93e297f1",
   "metadata": {},
   "source": [
    "$f_X(x)=\\int_{-\\infty}^\\infty f_{X,Y}(x,y)dy$"
   ]
  },
  {
   "cell_type": "markdown",
   "id": "a4758b37-3afc-4d0a-83b8-a71a3b6e3c75",
   "metadata": {},
   "source": [
    "$= \\int_{-\\infty}^\\infty \\dfrac{1}{2\\pi \\sigma_x \\sigma_y \\sqrt{1-\\rho^2}}exp \\left[-\\dfrac{1}{2(1- \\rho^2)} \\left( \\left(\\dfrac{x-\\mu_x}{\\sigma_x}\\right)^2 + \\left(\\dfrac{y-\\mu_y}{\\sigma_y}\\right)^2 - 2\\rho \\left(\\dfrac{x-\\mu_x}{\\sigma_x}\\right) \\left(\\dfrac{y-\\mu_y}{\\sigma_y}\\right) \\right) \\right]dy$"
   ]
  },
  {
   "cell_type": "markdown",
   "id": "4a6f6aa7-0a73-44ea-a848-4ab926f25a92",
   "metadata": {},
   "source": [
    "$v=\\dfrac{y-\\mu_y}{\\sigma_y}$치환하면, $dv=\\dfrac{1}{\\sigma_y}dy$"
   ]
  },
  {
   "cell_type": "markdown",
   "id": "9dbd5dfe-06f9-48c8-8e43-2d0f8675eb55",
   "metadata": {},
   "source": [
    "$=\\int_{-\\infty}^\\infty \\dfrac{1}{2 \\pi \\sigma_x \\sqrt{1-\\rho^2}} exp \\left[ -\\dfrac{1}{2} \\left(\\dfrac{x-\\mu_x}{\\sigma_x}\\right)^2  - \\dfrac{1}{2(1-\\rho^2)} \\left( v-\\rho \\left( \\dfrac{x-\\mu_x}{\\sigma_x}\\right) \\right)^2 \\right]dy$"
   ]
  },
  {
   "cell_type": "markdown",
   "id": "84c35169-199c-47e6-a26a-c2a8faf4f0e2",
   "metadata": {},
   "source": [
    "$u=\\left( v-\\rho \\left( \\dfrac{x-\\mu_x}{\\sigma_x}\\right) \\right)$ 치환하면, $du=\\dfrac{dv}{\\sqrt{1-\\rho^2}}$"
   ]
  },
  {
   "cell_type": "markdown",
   "id": "6068ccc6-d8a9-4201-9986-e54f8a8a27db",
   "metadata": {},
   "source": [
    "$=\\int_{-\\infty}^\\infty \\dfrac{1}{\\sqrt{2\\pi}\\sigma_x} exp \\left[ -\\dfrac{1}{2} \\left( \\dfrac{x-\\mu_x}{\\sigma_x}\\right)^2 - \\dfrac{u^2}{2}\\right]du$"
   ]
  },
  {
   "cell_type": "markdown",
   "id": "86176fbc-7e0d-44e2-9d2f-906496ac8a03",
   "metadata": {},
   "source": [
    "$=\\dfrac{1}{\\sqrt{2\\pi}\\sigma_x} exp \\left[ -\\dfrac{1}{2} \\left( \\dfrac{x-\\mu_x}{\\sigma_x}\\right)^2 \\right] \\int_{-\\infty}^\\infty e^{-u^2/2}du$"
   ]
  },
  {
   "cell_type": "markdown",
   "id": "1826af59-07bc-4e81-a88a-08d9e629248a",
   "metadata": {},
   "source": [
    "$\\because \\int_{-\\infty}^\\infty e^{-u^2/2}du=1$"
   ]
  },
  {
   "cell_type": "markdown",
   "id": "7ba1a73d-ea33-453d-8424-7a820c7e5ae5",
   "metadata": {},
   "source": [
    "$=\\dfrac{1}{\\sqrt{2\\pi}\\sigma_x} exp \\left[ -\\dfrac{1}{2} \\left( \\dfrac{x-\\mu_x}{\\sigma_x}\\right)^2 \\right]$"
   ]
  },
  {
   "cell_type": "markdown",
   "id": "b7d2d18d-2993-477b-a329-9132000a4fbd",
   "metadata": {},
   "source": [
    "# 8번"
   ]
  },
  {
   "cell_type": "markdown",
   "id": "4997def7-4fc3-4e37-8a3a-8f7bb26f56a9",
   "metadata": {},
   "source": [
    "$(X_1, X_2, X_3) ∼ MULT(n, p_1, p_2, p_3)$일 때 $Cov(X_1, X_2)$를 구하시오"
   ]
  },
  {
   "cell_type": "markdown",
   "id": "00f4d6ca-61d2-42bf-a34a-f367ecba764d",
   "metadata": {},
   "source": [
    "\n",
    "1. $Var(X_1+X_2)=n(p_1+p_2)(1-(p_1+p_2))$"
   ]
  },
  {
   "cell_type": "markdown",
   "id": "631d4e8b-2db2-4370-b3e1-44501ab71054",
   "metadata": {},
   "source": [
    "2. $Var(X_1+X_2)=Var(X_1)+Var(X_2)+2Cov(X_1,X_2)=np_1(1-p_1)+np_2(1-p_2)+2Cov(X_1,X_2)$"
   ]
  },
  {
   "cell_type": "markdown",
   "id": "ddcbd36c-f785-468b-a004-92d50baa748a",
   "metadata": {},
   "source": [
    "1과 2를 연립하면,\n",
    "\n",
    "$Cov(X_1,X_2)=-np_1p_2$"
   ]
  },
  {
   "cell_type": "markdown",
   "id": "aaad1076-8269-462d-825f-b36bddeb8a45",
   "metadata": {},
   "source": [
    "<span style=\"color:red\">$f_{X_1,X_2,X_3}(x_1,x_2,x_3)\\begin{pmatrix} n \\\\ x_1 \\ x_2\\  x_3 \\end{pmatrix} p_1^{x_1} p_2^{x_2} p_3^{x_3}$ , 단 $\\begin{pmatrix} 0\\leq x_{1}\\leq 1 & \\\\ 0\\leq x_{2}\\leq 1 & \\\\ 0\\leq x_{3}\\leq 1 & \\\\ x_{1}+x_{2}+x_{3}= & 1 \\end{pmatrix}$\n",
    "\n",
    "<span style=\"color:red\">$Cov(X_1, X_2) = E(X_1X_2) - E(X_1)E(X_2)$</span>\n",
    "\n",
    "<span style=\"color:red\">$X_1$ ~ $B(n,p_1)$이므로 $E(X_1)=np_1, E(X_2)=np_2$</span>\n",
    "\n",
    "<span style=\"color:red\">$E(X_1X_2)=E(E(X_1X_2|X_2))$ 이고 $X_2$가 주어졌을 때의 조건부서식이므로 $X_2$는 밖으로 나갈 수 있다.</span>\n",
    "\n",
    "<span style=\"color:red\">=$E(X_2 E(X_1|X_2))$를 구하자.</span>\n",
    "\n",
    "<span style=\"color:red\">먼저, $E(X_1|X_2=x_2)$는 $f_{X_1|X_2}(x_1|x_2)=\\dfrac{f_{X_1,X_2}(x_1,x_2)}{f_{X_2}(x_2)}$이다.</span>\n",
    "\n",
    "<span style=\"color:red\">분자먼저 구하자! </span>\n",
    "\n",
    "<span style=\"color:red\">$f_{X_1,X_2}(x_1,x_2)=P(X_1=x_1,X_2=x_2)$ 이고 </span>\n",
    "\n",
    "<span style=\"color:red\">이 실험에서는,</span>\n",
    "\n",
    "<span style=\"color:red\">$=P(X_1=x_1,X_2=x_2,X_3=n-x_1-x_2)$</span>\n",
    "\n",
    "<span style=\"color:red\">$=\\dfrac{n!}{x_1! x_2! (n-x_1 -x_2)!}p_1^{x_1} p_2^{x_2} p_3^{n-x_1-x_2}$</span>\n",
    "\n",
    "<span style=\"color:red\">분모는, 이항분포를 따르므로</span>\n",
    "\n",
    "<span style=\"color:red\">$f_{X_2}(x_2) = \\dfrac{n!}{x_2!(n-x_2)!}p_2^{x_2}(1-p_2)^{n-x_2}$</span>\n",
    "\n",
    "<span style=\"color:red\">$f_{X_1|X_2}(x_1|x_2)=\\dfrac{f_{X_1,X_2}(x_1,x_2)}{f_{X_2}(x_2)}$</span>\n",
    "\n",
    "<span style=\"color:red\">$=\\dfrac{\\dfrac{n!}{x_1! x_2! (n-x_1 -x_2)!}p_1^{x_1} p_2^{x_2} p_3^{n-x_1-x_2}}{\\dfrac{n!}{x_2!(n-x_2)!}p_2^{x_2}(1-p_2)^{n-x_2}}$</span>\n",
    "\n",
    "<span style=\"color:red\">$=\\dfrac{(n-x_2)!}{x_1!(n-x_2-x_1)!} \\left( \\dfrac{p_{1}}{1-p_{2}}\\right) ^{x_{1}} \\left( \\dfrac{p_{3}}{1-p_{2}}\\right) ^{n-x_{2}-x_{1}}$</span>\n",
    "\n",
    "<span style=\"color:red\">$=\\begin{pmatrix} n-x_{2} \\\\ x_{1} \\end{pmatrix}  \\left( \\dfrac{p_{1}}{1-p_{2}}\\right) ^{x_{1}} \\left( 1-\\dfrac{p_{1}}{1-p_{2}}\\right) ^{n-x_{2}-x_{1}}$</span>\n",
    "\n",
    "<span style=\"color:red\">즉, $B(n-x_2, \\dfrac{p_1}{1-p_2})$를 따른다.</span>\n",
    "\n",
    "<span style=\"color:red\">즉, $E(X_1X_2)=\\dfrac{(n-x_2)p_1}{1-p_2}$</span>\n",
    "\n",
    "<span style=\"color:red\">다시 이중기댓값 정의로 돌아가서..</span>\n",
    "\n",
    "<span style=\"color:red\">구하려는 값 : $E(X_2 E(X_1|X_2))$</span>\n",
    "\n",
    "<span style=\"color:red\">$E(X_2 E(X_1|X_2))=E(X_2 \\cdot \\dfrac{(n-x_2)p_1}{1-p_2})$</span>\n",
    "\n",
    "<span style=\"color:red\">$=\\dfrac{p_1}{1-p_2}[E(n_2X_2)-E(X_2^2)]$\n",
    "\n",
    "<span style=\"color:red\">$\\because E(X_2^2) = Var(X_2) + [E(X_2)]^2 = np_2(1-p_2) + n^2 p_2^2$\n",
    "\n",
    "<span style=\"color:red\">$=\\dfrac{p_1}{1-p_2}(n^2p_2 - np_2(1-p_2) - n^2 p_2^2)$\n",
    "\n",
    "<span style=\"color:red\">$=\\dfrac{np_1p_2}{1-p_2}(n-1+p_2-np_2)$\n",
    "\n",
    "<span style=\"color:red\">$=\\dfrac{np_1p_2(1-p_2)(n-1)}{1-p_2}$\n",
    "\n",
    "<span style=\"color:red\">$=n(n-1)p_1p_2$\n",
    "\n",
    "<span style=\"color:red\">돌고돌아 구하고자 하는 공분산을 구해보자.\n",
    "\n",
    "<span style=\"color:red\">$Cov(X_1, X_2) = E(X_1X_2) - E(X_1)E(X_2)$\n",
    "\n",
    "<span style=\"color:red\">$=n(n-1)p_1p_2 - n^2p_1p_2$\n",
    "\n",
    "<span style=\"color:red\">$=-np_1p_2$"
   ]
  },
  {
   "cell_type": "code",
   "execution_count": null,
   "id": "41a49050-78bb-4bd0-9f49-80b647f70284",
   "metadata": {},
   "outputs": [],
   "source": []
  }
 ],
 "metadata": {
  "kernelspec": {
   "display_name": "Python 3 (ipykernel)",
   "language": "python",
   "name": "python3"
  },
  "language_info": {
   "codemirror_mode": {
    "name": "ipython",
    "version": 3
   },
   "file_extension": ".py",
   "mimetype": "text/x-python",
   "name": "python",
   "nbconvert_exporter": "python",
   "pygments_lexer": "ipython3",
   "version": "3.8.16"
  }
 },
 "nbformat": 4,
 "nbformat_minor": 5
}
