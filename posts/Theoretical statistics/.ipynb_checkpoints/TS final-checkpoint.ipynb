{
 "cells": [
  {
   "cell_type": "code",
   "execution_count": null,
   "id": "3a91d53a-9f76-4179-811f-f4b06641df58",
   "metadata": {},
   "outputs": [],
   "source": []
  },
  {
   "cell_type": "raw",
   "id": "47c4d771-ec00-49b3-adb2-1411b84704c0",
   "metadata": {},
   "source": [
    "---\n",
    "title: \"TS final\"\n",
    "author: \"김보람\"\n",
    "date: \"06/10/2023\"\n",
    "categories:\n",
    "  - Theoretical statistics\n",
    "  - final exam\n",
    "---"
   ]
  },
  {
   "cell_type": "markdown",
   "id": "025dc9b7-5612-4e69-8f23-f8b3e9e2887c",
   "metadata": {},
   "source": [
    "# 1번"
   ]
  },
  {
   "cell_type": "markdown",
   "id": "a6114404-d6c6-4edd-ad77-7dece928e84a",
   "metadata": {},
   "source": [
    "$X_1, X_2, X_3$는 서로 독립이고 각각 평균이 $λ_1, λ_2, λ_3$인 포아송분포를 따른다고 한다. (평균이 $λ$인 포아송분포의 확률밀도함수는 $f(x) = \\dfrac{e^{−λ}λ^x}{x!}\n",
    ", x = 0, 1, 2, 3, \\dots$ 이다.)"
   ]
  },
  {
   "cell_type": "markdown",
   "id": "41e322a7-b6b9-49fd-af5a-1643b75254a3",
   "metadata": {},
   "source": [
    "## (a)"
   ]
  },
  {
   "cell_type": "markdown",
   "id": "df21bf63-c647-4f8a-b38f-a3252c4dc12a",
   "metadata": {},
   "source": [
    " 모2차 적률을 구하시오.\n"
   ]
  },
  {
   "cell_type": "markdown",
   "id": "a22eee3e-423e-4305-9e93-ec6fbec97410",
   "metadata": {},
   "source": [
    "2차 모적률 $\\mu_2 = E(X^2)=Var(X)+(E(X))^2=\\lambda  + \\lambda^2=\\lambda(1+\\lambda)$"
   ]
  },
  {
   "cell_type": "markdown",
   "id": "d39fedef-3076-4502-978b-af25c4002250",
   "metadata": {},
   "source": [
    "## (b)"
   ]
  },
  {
   "cell_type": "markdown",
   "id": "6466b57d-f7b6-45d8-b3b7-842e7c77f898",
   "metadata": {},
   "source": [
    "적률생성함수를 이용하여 $X_1 + X_2 + X_3$의 분포를 구하시오.|"
   ]
  },
  {
   "cell_type": "markdown",
   "id": "4884b980-3667-4402-93f8-42b42ffcf30a",
   "metadata": {},
   "source": [
    "$Y=X_1+X_2+X_3$\n",
    "\n",
    "$M_Y(t)=E(e^{t \\sum_{i=1}^3 X_i})=E(e^{tX_1+tX_2+tX_3})$"
   ]
  },
  {
   "cell_type": "markdown",
   "id": "b42008e2-b6dc-4fbb-8da9-53fad01d0f0f",
   "metadata": {},
   "source": [
    "서로 독립이므로"
   ]
  },
  {
   "cell_type": "markdown",
   "id": "5b3a5e05-1bd2-44da-9f4f-4a573e0ba5b8",
   "metadata": {},
   "source": [
    "=$E(e^{tX_1}e^{tX_2}e^{tX_2})=E(e^{tX_1})E(e^{tX_2})E(e^{tX_3})=M_{X_1}(t)M_{X_2}(t)M_{X_3}(t)$"
   ]
  },
  {
   "cell_type": "markdown",
   "id": "e0db37be-0bf0-4b40-aa23-42bbca203383",
   "metadata": {},
   "source": [
    "=$e^{\\lambda_1(e^t-1)}e^{\\lambda_2(e^t-1)}e^{\\lambda_3(e^t-1)}=e^{(e^t-1)(\\lambda_1+\\lambda_2+\\lambda_3)}$"
   ]
  },
  {
   "cell_type": "markdown",
   "id": "4e49e9fd-e7e6-48dc-a989-0a31698e9f60",
   "metadata": {},
   "source": [
    "평균이 $\\lambda_1+\\lambda_2+\\lambda_3$인 포아송 분포이다."
   ]
  },
  {
   "cell_type": "markdown",
   "id": "8fde9d13-ccb1-48ad-bc52-1f8d23a1dd17",
   "metadata": {},
   "source": [
    "## (c)"
   ]
  },
  {
   "cell_type": "markdown",
   "id": "6a16d040-b3ed-4f95-9a46-4af675c9dd18",
   "metadata": {},
   "source": [
    "$P(X_1 = x|X_1 + X_2 + X_3 = t)$을 구하시오."
   ]
  },
  {
   "cell_type": "markdown",
   "id": "f7550ef6-8d94-488e-9163-a985c18b350c",
   "metadata": {},
   "source": [
    "$=\\dfrac{P(X_1=x,X_2+X_3=t-x)}{P(X_1+X_2+X_3=t)}$"
   ]
  },
  {
   "cell_type": "markdown",
   "id": "88b4c730-4b34-492e-9b59-95020c9ecab7",
   "metadata": {},
   "source": [
    "$P(X_1=x)=\\dfrac{e^{-\\lambda_1} \\lambda_1^x}{x!}$"
   ]
  },
  {
   "cell_type": "markdown",
   "id": "c3959d97-b493-4b9e-b357-3f3aa86711f8",
   "metadata": {},
   "source": [
    "$P(X_2 + X_3 = t - x) = \\dfrac{e^{-(\\lambda_2 + \\lambda_3)} (\\lambda_2 + \\lambda_3)^{t - x}}{(t - x)!}$"
   ]
  },
  {
   "cell_type": "markdown",
   "id": "a1ceefa5-3cbb-4f06-8e2a-fd7dfa3f1f9a",
   "metadata": {},
   "source": [
    "$P(X_1 + X_2 + X_3 = t) = \\dfrac{e^{-(\\lambda_1 + \\lambda_2 + \\lambda_3)} (\\lambda_1 + \\lambda_2 + \\lambda_3)^t}{t!}$"
   ]
  },
  {
   "cell_type": "markdown",
   "id": "354b34d8-c75e-4304-a71a-f96c6e619327",
   "metadata": {},
   "source": [
    "$P(X_1 = x | X_1 + X_2 + X_3 = t) = \\dfrac{\\dfrac{e^{-\\lambda_1} \\lambda_1^x}{x!} \\cdot \\dfrac{e^{-(\\lambda_2 + \\lambda_3)} (\\lambda_2 + \\lambda_3)^{t - x}}{(t - x)!}}{\\dfrac{e^{-(\\lambda_1 + \\lambda_2 + \\lambda_3)} (\\lambda_1 + \\lambda_2 + \\lambda_3)^t}{t!}}$\n"
   ]
  },
  {
   "cell_type": "markdown",
   "id": "e193472c-f6a6-493d-a48b-722a626b5f68",
   "metadata": {},
   "source": [
    "$P(X_1 = x | X_1 + X_2 + X_3 = t) = \\dfrac{\\lambda_1^x (\\lambda_2 + \\lambda_3)^{t - x} \\cdot t!}{(\\lambda_1 + \\lambda_2 + \\lambda_3)^t \\cdot x! \\cdot (t - x)!}$"
   ]
  },
  {
   "cell_type": "markdown",
   "id": "2a4ea349-0c86-4b7d-866f-0f144fb67b8e",
   "metadata": {},
   "source": [
    "# 2번"
   ]
  },
  {
   "cell_type": "markdown",
   "id": "f01ad4d3-298d-4ad8-9cfb-8d7929f61d87",
   "metadata": {},
   "source": [
    "$(X,Y)$는 다음과 같은 이변량 정규분포를 따를 때\n",
    "\n",
    "$f_{X,Y}(x, y) = \\dfrac{1}{2π \\sqrt{1 − ρ^2}} exp \\left[− \\dfrac{1}{2(1-\\rho^2)} \\left( x^2+y^2-2\\rho xy \\right) \\right]$\n",
    "\n",
    "$U =\\dfrac{X + Y}{2}$와 $V =\\dfrac{X − Y}{2}$에 대하여 다음을 구하시오."
   ]
  },
  {
   "cell_type": "markdown",
   "id": "954a63a5-84a5-4ab5-9dc4-3b0045862292",
   "metadata": {},
   "source": [
    "(풀이)\n",
    "\n",
    "위 식에서 $(X,Y)$가 이변량 정규분포를 따르므로\n",
    "\n",
    "$(X,Y)$~$BVN(\\mu_X, \\mu_Y, \\sigma_X, \\sigma_Y, \\rho)$를 따른다.\n",
    "\n",
    "위 식을 보면 $\\mu_X=\\mu_Y=0$이고, $\\sigma_X=\\sigma_Y=1$이므로 $(X,Y)$~$BVN(0, 0, 1, 1, \\rho)$을 따른다.\n",
    "\n",
    "이변량 확률벡터 $(X,Y)$가 위와 같은 분포를 가지면, $X$와 $Y$의 주변확률분포는\n",
    "\n",
    "$X$ ~ $N(\\mu_X,\\sigma_X^2)$ 이므로, $X$~$N(0,1)$을 따르고,\n",
    "\n",
    "$Y$ ~ $N(\\mu_Y,\\sigma_Y^2)$ 이므로, $Y$~$N(0,1)$을 따른다.,"
   ]
  },
  {
   "cell_type": "markdown",
   "id": "8f925f82-c6f1-4210-9bb6-e321af5b392a",
   "metadata": {},
   "source": [
    "## (a)"
   ]
  },
  {
   "cell_type": "markdown",
   "id": "2d922360-893c-457b-885b-4fdcd37114eb",
   "metadata": {},
   "source": [
    "$Cov(U,V)$"
   ]
  },
  {
   "cell_type": "markdown",
   "id": "ecc841a1-a176-4707-867a-84ae339d8f2d",
   "metadata": {},
   "source": [
    "=$Cov(U,V)=Cov(\\dfrac{X}{2}+\\dfrac{Y}{2},\\dfrac{X}{2}-\\dfrac{Y}{2})=\\dfrac{1}{4}(Cov(X+Y,X-Y))=\\dfrac{1}{4}(Cov(X,X)-Cov(X,Y)+Cov(Y,X)-Cov(Y,Y))=\\dfrac{1}{4}(Var(X)-Var(Y)-Cov(X,Y)+Cov(Y,X))=\\dfrac{1}{4}(1-1+\\rho-\\rho)=0$"
   ]
  },
  {
   "cell_type": "markdown",
   "id": "2038adad-af4a-4f47-97ef-72e2a1b69f8f",
   "metadata": {},
   "source": [
    "$Cov(X,Y)=\\rho \\sigma_x \\sigma_Y = \\rho \\times 1 \\times 1 = \\rho$"
   ]
  },
  {
   "cell_type": "code",
   "execution_count": null,
   "id": "f7e18019-2738-43dc-8ddc-2c2d5ce74ca2",
   "metadata": {},
   "outputs": [],
   "source": []
  },
  {
   "cell_type": "code",
   "execution_count": null,
   "id": "29a1c8e5-91f3-4b83-962d-81d6e2ee007f",
   "metadata": {},
   "outputs": [],
   "source": []
  },
  {
   "cell_type": "markdown",
   "id": "a28a7c07-e386-4e7d-b19b-9890a43fc3f0",
   "metadata": {},
   "source": [
    "## (b)"
   ]
  },
  {
   "cell_type": "markdown",
   "id": "cd48e584-4ec5-42d4-a4d8-9d6fad21a09a",
   "metadata": {},
   "source": [
    "$(U, V)$의 결합확률밀도함수"
   ]
  },
  {
   "cell_type": "markdown",
   "id": "dacb699e-cca3-4fab-9263-9c9135896df3",
   "metadata": {},
   "source": [
    "$J=\\frac{1}{2}, X=U+V, Y=U-V$"
   ]
  },
  {
   "cell_type": "markdown",
   "id": "0084e450-a59c-4a41-a634-0c075fd4d3fc",
   "metadata": {},
   "source": [
    "$f_{U,V}(u,v)=f_{X,Y}(x,y)|J|=f_{X,Y}(u+v,u-v)\\frac{1}{2}= \\dfrac{1}{4π \\sqrt{1 − ρ^2}} exp \\left[− \\dfrac{1}{2(1-\\rho^2)} \\left( (u+v)^2+(u-v)^2-2\\rho (u+v)(u-v) \\right) \\right]=  \\dfrac{1}{4π \\sqrt{1 − ρ^2}}  exp \\left[− \\dfrac{1}{1-\\rho^2} \\left( u^2+v^2-2\\rho (u^2-v^2) \\right) \\right]$"
   ]
  },
  {
   "cell_type": "code",
   "execution_count": null,
   "id": "d2d4dad4-fea3-413b-a854-a2fffc32b3f3",
   "metadata": {},
   "outputs": [],
   "source": []
  },
  {
   "cell_type": "markdown",
   "id": "c7afa465-d739-4442-82d1-36a9cd04a52c",
   "metadata": {},
   "source": [
    "# 3번"
   ]
  },
  {
   "cell_type": "markdown",
   "id": "9737642e-77c1-4909-a19d-5b89b87eee47",
   "metadata": {},
   "source": [
    "$U(0, 1)$, 즉 $f(x) = I(0 < x < 1)$로부터의 랜덤표본 $X_1, . . . , X_n$에 대하여 다음을 구하시오"
   ]
  },
  {
   "cell_type": "markdown",
   "id": "bb7142c6-7ebd-4c87-ae07-92ad901b7b25",
   "metadata": {},
   "source": [
    "## (a)"
   ]
  },
  {
   "cell_type": "markdown",
   "id": "e9ed0b11-0ecf-4032-9747-2434f13735c8",
   "metadata": {},
   "source": [
    "확률변수 $Y = − log(1 − X_1)$의 확률밀도함수"
   ]
  },
  {
   "cell_type": "markdown",
   "id": "ee740451-a6c2-44d2-be7e-ec0adb55913d",
   "metadata": {},
   "source": [
    "$g(X)=-log(1-X_1)$\n",
    "\n",
    "$g^{-1}(Y)=1-e^{-y}$\n",
    "\n",
    "$f_Y(y)=f_X(g^{-1}(y))|\\frac{dg^{-1}(y)}{dy}|=f_x(1-e^{-y})|e^{-y}|=e^{-y}(y>0)$"
   ]
  },
  {
   "cell_type": "code",
   "execution_count": null,
   "id": "24398db9-e342-4c76-a253-63d886065b80",
   "metadata": {},
   "outputs": [],
   "source": []
  },
  {
   "cell_type": "markdown",
   "id": "41ffbfdc-1117-4e69-be5a-1cd17260145f",
   "metadata": {},
   "source": [
    "## (b)"
   ]
  },
  {
   "cell_type": "markdown",
   "id": "ab38c5c9-a05f-4d0c-9e34-be2b269c32b2",
   "metadata": {},
   "source": [
    "$k$번째 순서 통계량 $X_{(k)}$의 확률밀도함수를 구하고, 분포 이름을 명시하시오"
   ]
  },
  {
   "cell_type": "markdown",
   "id": "251c4d7c-4c8d-49de-9639-b04e77963f7d",
   "metadata": {},
   "source": [
    "$f(x)=I(0<x<1, F(x)=x(I(0<x<1))$"
   ]
  },
  {
   "cell_type": "markdown",
   "id": "53e173d3-8d19-411c-8605-5f3060c15654",
   "metadata": {},
   "source": [
    "$f_{X_{n}}(x)=n  \\begin{pmatrix} n-1 \\\\ k-1\\end{pmatrix} f(x) F(x)^{k-1} (1-F(X))^{n-k}$\n",
    "\n",
    "= $n \\begin{pmatrix} n-1 \\\\ k-1 \\end{pmatrix} x^{k-1}(1-x)^{n-k}$"
   ]
  },
  {
   "cell_type": "markdown",
   "id": "bd00944d-5a79-49b7-bc72-4684bc489d76",
   "metadata": {},
   "source": [
    "위식은 베타분포 $B(k, n-k+1)$을 따른다."
   ]
  },
  {
   "cell_type": "markdown",
   "id": "29976169-a11a-4ad5-84a3-e6712ad23e04",
   "metadata": {},
   "source": [
    "## (c)"
   ]
  },
  {
   "cell_type": "markdown",
   "id": "28412b90-b4b6-4573-af84-c7fa3a555dd3",
   "metadata": {},
   "source": [
    " 표본범위 $X_{(n)} − X_{(1)}$의 확률밀도함수와 기댓값을 구하시오."
   ]
  },
  {
   "cell_type": "markdown",
   "id": "e3dfdf43-b8b8-43c7-9d76-3d99b793ed72",
   "metadata": {},
   "source": [
    "$X_{(n)}$ ~ $B(n,1)$을 따르고, $X_{(1)}$ ~ $B(1,n)$을 따른다.\n",
    "\n",
    "$E(X_{(n)}-X_{(1)})=E(X_{(n)})-E(X_{(1)})=\\dfrac{n}{n+1}-\\dfrac{1}{n+1}=\\dfrac{n-1}{n+1}$"
   ]
  },
  {
   "cell_type": "markdown",
   "id": "db7a5dcf-6450-4010-a675-f696f3286da1",
   "metadata": {},
   "source": [
    "결합확률밀도함수"
   ]
  },
  {
   "cell_type": "markdown",
   "id": "12e65123-9729-45af-a048-f1110c641011",
   "metadata": {},
   "source": [
    "$f_{X_{(n)}}(x)=nx^{n-1}$\n",
    "\n",
    "$f_{X_{(1)}}(x)=n(1-x)^{n-1}$"
   ]
  },
  {
   "cell_type": "markdown",
   "id": "a97a7595-b7a2-4f38-8bc8-db4ac766f962",
   "metadata": {},
   "source": [
    "\n",
    "\n",
    "$f_{X_{(n)},X_{(1)}}(x_{(n)},x_{(1)})=\\dfrac{n!}{1!(n-2)!1!}f(x_1) (F(X_n)-F(X_1))^{n-2}f(x_n)$\n",
    "\n",
    "\n",
    "=$n(n-1)\\left( X_n-X_1 \\right)^{n-2}$"
   ]
  },
  {
   "cell_type": "markdown",
   "id": "b81993e3-1ba0-4d61-82c9-ef1a73e22011",
   "metadata": {},
   "source": [
    "표본범위 $X_{(n)} - X_{(1)}$의 확률밀도함수"
   ]
  },
  {
   "cell_type": "markdown",
   "id": "057c3d87-8605-4e7e-af9c-1098b1ddfdbf",
   "metadata": {},
   "source": [
    "$R=X_{(n)}-X_{(1)}, S=X_{(1)}$로 놓으면 $X_{(n)}=R+S, X_{(1)}=S, |J|=1, 0<S<R+S<\\theta$\n",
    "\n",
    "$g(R,S)=f(S,R+S)|J| = n(n-1)\\left( X_n-X_1 \\right)^{n-2}I(0<S<R+S<1)$\n",
    "\n",
    "$g(R)= n(n-1)R^{n-2} \\int_0^{1-R} 1 ds = n(n-1)R^{n-2}(1-R)I(0<R<1)$"
   ]
  },
  {
   "cell_type": "code",
   "execution_count": null,
   "id": "bfd8e4c5-f709-4a00-b2e1-3d16e6567935",
   "metadata": {},
   "outputs": [],
   "source": []
  },
  {
   "cell_type": "code",
   "execution_count": null,
   "id": "7e6eb4db-a39e-4c68-a18f-5b10bff54421",
   "metadata": {},
   "outputs": [],
   "source": []
  },
  {
   "cell_type": "markdown",
   "id": "3586df41-13b4-40e9-a7da-dff8c5e90e8a",
   "metadata": {},
   "source": [
    "# 4번"
   ]
  },
  {
   "cell_type": "markdown",
   "id": "fc07eed7-7462-4dd9-90a5-73d518343501",
   "metadata": {},
   "source": [
    "$X_1, \\dots, X_n$과 $Y_1,\\dots , Y_m$은 각각 $N(0, 1)$과 $N(1, 4)$로부터의 서로 독립인 랜덤표본이라\n",
    "고 한다. 다음에 답하시오. 자유도를 가지고 있는 분포의 경우 자유도도 명시하시오.\n",
    "(확률밀도함수 대신에 정규분포로부터의 표본에 관련된 분포적 사실을 사용할 수 있습\n",
    "니다.)"
   ]
  },
  {
   "cell_type": "markdown",
   "id": "e8942818-13e9-40d8-a9b3-53d9c8eef266",
   "metadata": {
    "tags": []
   },
   "source": [
    "## (a)"
   ]
  },
  {
   "cell_type": "markdown",
   "id": "a18c5840-477f-4c2b-bec0-64951bffab92",
   "metadata": {},
   "source": [
    "$\\bar X + \\bar Y$ 의 분포, 평균과 분산을 구하시오"
   ]
  },
  {
   "cell_type": "markdown",
   "id": "77fb6f42-70bf-4781-92c2-c5e4c9aad9c5",
   "metadata": {},
   "source": [
    "$\\bar X$ ~ $N(0,\\frac{1}{n}), \\bar Y$ ~ $N(1,\\frac{4}{m})$"
   ]
  },
  {
   "cell_type": "markdown",
   "id": "68698395-11df-4a1c-8998-701c9d3203d7",
   "metadata": {},
   "source": [
    "$\\bar X + \\bar Y$ ~ $N(1,\\frac{1}{n}+\\frac{4}{m})$이고 평균은 1, 분산은 $\\frac{1}{n}+\\frac{4}{m}$이다."
   ]
  },
  {
   "cell_type": "markdown",
   "id": "86c36b96-9eb7-4b7f-be90-3b249e61cf2f",
   "metadata": {},
   "source": [
    "## (b)"
   ]
  },
  {
   "cell_type": "markdown",
   "id": "86b77eef-1e29-41d6-869f-d0a37de85347",
   "metadata": {},
   "source": [
    "$\\sum_{i=1}^m(Y_i − \\bar Y )^2$의 분산을 구하시오"
   ]
  },
  {
   "cell_type": "markdown",
   "id": "a5de0723-6c9b-4890-911b-07a6555f99fd",
   "metadata": {},
   "source": [
    "$S_m^2= \\dfrac{\\sum_{i=1}^m(Y_i-\\bar Y)^2}{m-1}$"
   ]
  },
  {
   "cell_type": "markdown",
   "id": "c4fa676d-c0ec-413c-928b-c626d346e7f8",
   "metadata": {},
   "source": [
    "$\\dfrac{(m-1)S_m^2}{4}=\\dfrac{\\sum_{i=1}^m (Y_i-\\bar Y)^2}{4}$ ~ $\\chi^2_{m-1}$"
   ]
  },
  {
   "cell_type": "markdown",
   "id": "352e19a9-ebde-4a69-b1c1-97de79a559ce",
   "metadata": {},
   "source": [
    "$Var(\\sum_{i=1}^m(Y_i − \\bar Y )^2)=Var \\left(\\dfrac{\\sum_{i=1}^m(Y_i − \\bar Y )^2}{4}\\times 4 \\right)=16 Var \\left(\\dfrac{\\sum_{i=1}^m(Y_i − \\bar Y )^2}{4}\\right)=32(m-1)$"
   ]
  },
  {
   "cell_type": "markdown",
   "id": "693ae442-e0e7-441b-9f88-860f529effcb",
   "metadata": {},
   "source": [
    "## (c)"
   ]
  },
  {
   "cell_type": "markdown",
   "id": "e7c2f86b-d5be-4d96-a091-659cbffce3bb",
   "metadata": {},
   "source": [
    "$\\sum_{i=1}^n X_i^2$ 의 분포를 구하시오.\n"
   ]
  },
  {
   "cell_type": "markdown",
   "id": "c615fb35-64fb-4419-870d-58bfd69cd9fa",
   "metadata": {},
   "source": [
    "$\\sum_{i=1}^n \\left( \\dfrac{X_i-\\mu}{\\sigma} \\right)^2 = \\sum_{i=1}^n \\left( \\dfrac{X_i-0}{1} \\right)^2=\\sum_{i=1}^n X_i^2$ ~ $\\chi^2_n$"
   ]
  },
  {
   "cell_type": "markdown",
   "id": "a7cbdbb8-3f3c-4a87-8760-44f1b6f29229",
   "metadata": {},
   "source": [
    "자유도가 n인 카이제곱 분포를 따른다."
   ]
  },
  {
   "cell_type": "markdown",
   "id": "53966f9d-4d9e-46da-8b8a-0be8991ca06e",
   "metadata": {},
   "source": [
    "## (d)"
   ]
  },
  {
   "cell_type": "markdown",
   "id": "7f5d811f-8d49-4a71-86c5-898cbdf6d76b",
   "metadata": {},
   "source": [
    "$C\\dfrac{\\sum_{i=1}^n (X_i^-\\bar X)^2}{\\sum_{i=1}^m(Y_i − \\bar Y )^2}$\n",
    "이 F분포를 따르는 통계량이 되기 위한 상수 C의 값을 구하고,\n",
    "이 F분포의 자유도를 명시하시오."
   ]
  },
  {
   "cell_type": "markdown",
   "id": "dc3a9583-b13f-491d-9b8e-defac79515e6",
   "metadata": {},
   "source": [
    "$\\sum_{i=1}^n X_i^2$ ~ $\\chi^2_{n-1}$"
   ]
  },
  {
   "cell_type": "markdown",
   "id": "534fb05d-b093-4cd4-a4e4-a2bf8659d497",
   "metadata": {},
   "source": [
    "$\\dfrac{\\sum_{i=1}^m (Y_i-\\bar Y)^2}{4}$ ~ $\\chi^2_{m-1}$"
   ]
  },
  {
   "cell_type": "markdown",
   "id": "2cc8f271-d609-466c-b8fd-f6d1e3327ac7",
   "metadata": {},
   "source": [
    "$C \\dfrac{\\dfrac{\\sum_{i=1}^n X_i^2}{1}/ n-1} {\\dfrac{\\sum_{i=1}^m (Y_i-\\bar Y)^2 }{4}/m-1}$"
   ]
  },
  {
   "cell_type": "markdown",
   "id": "992165a6-5519-47d8-9dd4-e8b2de237847",
   "metadata": {},
   "source": [
    "$C=\\dfrac{4(m-1)}{n-1}$이고 위 식은 $F(n-1,m-1)$을 따른다."
   ]
  },
  {
   "cell_type": "markdown",
   "id": "91b16d0f-5572-4d64-a523-1584920992be",
   "metadata": {},
   "source": [
    "## (e)"
   ]
  },
  {
   "cell_type": "markdown",
   "id": "21788f11-1543-4c4d-b71e-857ebfce9174",
   "metadata": {},
   "source": [
    "$2\\sqrt{m − 1}\\dfrac{X_1}{\\sqrt{\\sum_{i=1}^m (Y_i-\\bar Y)^2}}$\n",
    "의 분포를 구하시오."
   ]
  },
  {
   "cell_type": "markdown",
   "id": "cf2dbdb3-8fd9-4d61-997c-aaadc5aeaee1",
   "metadata": {},
   "source": [
    "=$\\dfrac{\\dfrac{X_1}{1}}{\\dfrac{\\sqrt{\\sum_{i=1}^m (Y_i-\\bar Y)^2}}{\\sqrt{4(m-1)}}}=\\dfrac{Z}{\\sqrt{U/m-1}}=T$"
   ]
  },
  {
   "cell_type": "markdown",
   "id": "b8701ec0-49d1-41ac-8193-6bd4d98e601c",
   "metadata": {},
   "source": [
    "단, $Z$ ~ $N(0,1)$이고 $U$ ~ $\\chi_{m-1}^2$이다."
   ]
  },
  {
   "cell_type": "markdown",
   "id": "38ddf201-e7a4-4948-b12a-9d5f9e3535a3",
   "metadata": {},
   "source": [
    "위 분포는 자유도가 m-1인 T분포이다."
   ]
  },
  {
   "cell_type": "code",
   "execution_count": null,
   "id": "bcd5922f-2f81-46c4-b9de-080f8e9c10e9",
   "metadata": {},
   "outputs": [],
   "source": []
  },
  {
   "cell_type": "markdown",
   "id": "33167717-cb3f-42a0-ad0f-56d39747cb46",
   "metadata": {},
   "source": [
    "# 5번"
   ]
  },
  {
   "cell_type": "markdown",
   "id": "ca991681-6d6a-44b4-ab90-dd9c007f8f08",
   "metadata": {},
   "source": [
    "$X_i ∼ N(iθ, 1), i = 1, 2, \\dots, n$이고 서로 독립인 확률변수이다"
   ]
  },
  {
   "cell_type": "markdown",
   "id": "87047e0c-a3b3-4fd7-b9d9-0f2f705e015f",
   "metadata": {
    "tags": []
   },
   "source": [
    "## (a)"
   ]
  },
  {
   "cell_type": "markdown",
   "id": "07eeafab-49d4-4fff-928c-e75b16c9fb26",
   "metadata": {},
   "source": [
    "$θ$의 가능도함수 $L(θ)$를 구하시오"
   ]
  },
  {
   "cell_type": "markdown",
   "id": "1842f131-b32c-43d9-9fbc-ada9723aa093",
   "metadata": {},
   "source": [
    "$L(\\theta: x_1, \\dots, x_n)= f(x_1,\\dots,x_n;\\theta)=\\Pi_{i=1}^n f_i (x_i ; \\theta) = \\Pi_{i=1}^n \\frac{1}{\\sqrt{2\\pi}} e^{-\\frac{(X_i-i\\theta)^2}{2}}=(\\frac{1}{2\\pi})^{n/2}e^{-\\frac{\\sum_{i=1}^n(X_i-i\\theta)^2}{2}}$"
   ]
  },
  {
   "cell_type": "markdown",
   "id": "841024a4-74bf-4aff-8ee5-6239231f68ef",
   "metadata": {},
   "source": [
    "## (b)"
   ]
  },
  {
   "cell_type": "markdown",
   "id": "9e32bb76-cc05-4992-812d-6288a36062da",
   "metadata": {},
   "source": [
    "$θ$의 최대가능도 추정량 $\\hat θ =\\dfrac{\\sum_{i=1}^n iX_i}{\\sum_{i=1}^n i^2}$임을 보이시오."
   ]
  },
  {
   "cell_type": "markdown",
   "id": "fbe28318-365b-4cc3-94cf-da154a48e70f",
   "metadata": {},
   "source": [
    "$l(\\theta)=\\frac{n}{2}log 2\\pi - \\frac{\\sum_{i=1}^n (X_i - i\\theta)^2}{2}$"
   ]
  },
  {
   "cell_type": "markdown",
   "id": "5fb344b2-9f06-46e6-8c5b-feaaff109e7b",
   "metadata": {},
   "source": [
    "$l'(\\theta) = \\sum_{i=1}^n i(X_i - i\\theta) = 0$"
   ]
  },
  {
   "cell_type": "markdown",
   "id": "a0acbcb0-72bc-4e5f-8e1d-e785aa8d755b",
   "metadata": {},
   "source": [
    "$\\hat \\theta^{MLE} = \\dfrac{\\sum_{i=1}^n iX_i}{\\sum_{i=1}^n i^2}$"
   ]
  },
  {
   "cell_type": "markdown",
   "id": "31c31594-25c1-432c-b90c-9ed872eafaee",
   "metadata": {},
   "source": [
    "## (c)"
   ]
  },
  {
   "cell_type": "markdown",
   "id": "c5a0737b-6599-4b4b-81d9-29e273a1563d",
   "metadata": {},
   "source": [
    "$\\hat \\theta$의 평균제곱오차를 구하시오."
   ]
  },
  {
   "cell_type": "markdown",
   "id": "562cbee2-b0be-4efd-b3ba-dea96f729770",
   "metadata": {},
   "source": [
    "$iX_i$ ~ $N(i^2 \\theta, i^2)$\n",
    "\n",
    "$\\sum_{i=1}^n i X_i$ ~ $N(\\sum_{i=1}^n i^2 \\theta, \\sum_{i=1}^n i^2)$"
   ]
  },
  {
   "cell_type": "markdown",
   "id": "4ad7586a-0e4e-4682-982b-98fa0a655995",
   "metadata": {},
   "source": [
    "$E(\\hat \\theta) = E\\left( \\dfrac{\\sum_{i=1}^n iX_i}{\\sum_{i=1}^n i^2} \\right)=\\dfrac{1}{\\sum_{i=1}^n i^2} E(\\sum_{i=1}^n iX_i)=\\dfrac{\\sum_{i=1}^n i^2 \\theta}{\\sum_{i=1}^n i^2}=\\theta$"
   ]
  },
  {
   "cell_type": "markdown",
   "id": "df422e8f-3543-49d8-be49-aa0b631ef394",
   "metadata": {},
   "source": [
    "$E(\\hat \\theta)=\\theta$ 이면 비편향추정량"
   ]
  },
  {
   "cell_type": "markdown",
   "id": "89ffc4dc-af06-442e-b36f-11e5c5ece519",
   "metadata": {},
   "source": [
    "$MSE(\\hat \\theta) = E(\\hat \\theta - \\theta)^2= Var(\\hat \\theta) + Bias^2(\\theta)$"
   ]
  },
  {
   "cell_type": "markdown",
   "id": "74dd88f9-0c74-4390-8782-2e0e3ff3d32d",
   "metadata": {},
   "source": [
    "비편향추정량일 때는 Bias=0이다."
   ]
  },
  {
   "cell_type": "markdown",
   "id": "661bf584-3ae0-4233-b741-05d253b73f8a",
   "metadata": {},
   "source": [
    "즉, $MSE(\\hat \\theta) = Var(\\hat \\theta)$"
   ]
  },
  {
   "cell_type": "markdown",
   "id": "06074227-5b75-4d79-a2c0-c3f89162a811",
   "metadata": {},
   "source": [
    "$Var(\\hat \\theta) = Var \\left(\\dfrac{\\sum_{i=1}^n iX_i}{\\sum_{i=1}^n i^2} \\right)=\\dfrac{1}{(\\sum_{i=1}^n i^2)^2}Var(\\sum_{i=1}^n iX_i)=\\dfrac{\\sum_{i=1}^n i^2}{(\\sum_{i=1}^n i^2)^2}=\\dfrac{1}{\\sum_{i=1}^n i^2}$"
   ]
  },
  {
   "cell_type": "markdown",
   "id": "160cbdb8-ce23-40a9-818e-6c1204eb1636",
   "metadata": {},
   "source": [
    "## (d)"
   ]
  },
  {
   "cell_type": "markdown",
   "id": "746988ab-ad37-41c9-8c24-0214a15d184d",
   "metadata": {},
   "source": [
    "크래머-라오 하한을 구하고 $\\hat θ$의 분산과 비교하시오."
   ]
  },
  {
   "cell_type": "markdown",
   "id": "7ad7d89f-fcfb-4dd5-8870-95d149a713d6",
   "metadata": {},
   "source": [
    "$I(\\theta)=E \\left( (\\dfrac{\\partial}{\\partial \\theta} log f(X;\\theta))^2 \\right)$"
   ]
  },
  {
   "cell_type": "markdown",
   "id": "67f77014-2bd5-43ea-bd6e-3863ba9cfebc",
   "metadata": {},
   "source": [
    "$f(X;\\theta)=\\frac{1}{\\sqrt{2\\pi}}\\exp\\left(-\\frac{(X_i - i\\theta)^2}{2}\\right)$"
   ]
  },
  {
   "cell_type": "markdown",
   "id": "47b5b382-6c54-4433-a0e7-c2e7e72836fc",
   "metadata": {},
   "source": [
    "$logf(X;\\theta) = log \\frac{1}{\\sqrt{2\\pi}}-\\frac{1}{2}(X_i-i\\theta)^2$"
   ]
  },
  {
   "cell_type": "markdown",
   "id": "c1e78678-b909-451f-87cc-c617c34b04e9",
   "metadata": {},
   "source": [
    "$\\dfrac{\\partial}{\\partial \\theta}log f(X;\\theta) = -i(X_i-i\\theta)$"
   ]
  },
  {
   "cell_type": "markdown",
   "id": "835868c8-44d4-4f1b-8297-96c43ba69ea4",
   "metadata": {},
   "source": [
    "$I(\\theta)=E \\left( (\\dfrac{\\partial}{\\partial \\theta} log f(X;\\theta))^2 \\right)=E(i^2(X_i-i\\theta)^2)=i^2E \\left[ (X_i-i\\theta) \\right]^2=i^2$"
   ]
  },
  {
   "cell_type": "markdown",
   "id": "d26d4946-4ee3-478d-9008-f4a2bf539cdb",
   "metadata": {},
   "source": [
    "$ \\because E \\left[ (X_i-i\\theta) \\right]^2 =  Var(X_i)=1$"
   ]
  },
  {
   "cell_type": "markdown",
   "id": "7abb371e-6188-41cd-a063-76d412addde2",
   "metadata": {},
   "source": [
    "CRLB: $\\dfrac{1}{nI(\\theta)}=\\dfrac{1}{\\sum_{i=1}^n I(\\theta)}=\\dfrac{1}{\\sum_{i=1}^n i^2}$"
   ]
  },
  {
   "cell_type": "markdown",
   "id": "8f789917-3ea3-4769-8984-4139e85ed303",
   "metadata": {},
   "source": [
    "# 6번(잘모르겠땅..)"
   ]
  },
  {
   "cell_type": "markdown",
   "id": "d7a0d560-6ab6-4688-9d94-6e946c34db16",
   "metadata": {},
   "source": [
    "$X_1, X_2, \\dots , X_n$이 $POI(λ)$로부터의 랜덤샘플이고, $θ = P(X_1 ≤ 1)$이라고 하자. 다음을구하시오.\n"
   ]
  },
  {
   "cell_type": "markdown",
   "id": "8c971d93-4393-49cf-ab1f-555ed35908cc",
   "metadata": {
    "tags": []
   },
   "source": [
    "## (a)"
   ]
  },
  {
   "cell_type": "markdown",
   "id": "139f6b64-968e-422b-ad2e-22634131a277",
   "metadata": {},
   "source": [
    "$\\bar X_n$의 분포"
   ]
  },
  {
   "cell_type": "markdown",
   "id": "a38c3904-7cbb-41d0-b94b-9906afda8262",
   "metadata": {},
   "source": [
    "$M_{\\bar X_n}(t) = E(e^{t \\bar X_n})=E(e^{\\frac{t}{n}X_1+\\dots+\\frac{t}{n}X_n})=E(e^{\\frac{t}{n}X_1}) \\dots E(e^{\\frac{t}{n}X_n})=M_{X_1}(\\frac{t}{n})\\dots M_{X_n}(\\frac{t}{n})=[exp(\\lambda(e^{\\frac{t}{n}}-1))]^n$"
   ]
  },
  {
   "cell_type": "markdown",
   "id": "92dc047e-f9ce-4648-8b41-65185fd8a4c3",
   "metadata": {},
   "source": [
    "n이 무한히 커지면 정규분포 따르는걸루,,, "
   ]
  },
  {
   "cell_type": "markdown",
   "id": "2ed338cb-c56b-46d2-9671-5345c838836b",
   "metadata": {},
   "source": [
    "## (b)"
   ]
  },
  {
   "cell_type": "markdown",
   "id": "a15e3c92-3988-4cd1-9d3c-9594f8a2ef8c",
   "metadata": {},
   "source": [
    "$θ$의 최대가능도 추정량 "
   ]
  },
  {
   "cell_type": "markdown",
   "id": "2dcbdf25-82f2-41c0-9ddc-f6ba3830f01b",
   "metadata": {},
   "source": [
    "$θ = P(X_1 ≤ 1)$"
   ]
  },
  {
   "cell_type": "markdown",
   "id": "3373d88e-59a5-4f76-9af1-ef9939711401",
   "metadata": {},
   "source": [
    "$θ = P(X_1 = 0) + P(X_1 = 1) = e^{-λ} + λe^{-λ}$"
   ]
  },
  {
   "cell_type": "markdown",
   "id": "09647f78-5153-43bc-9cb3-13c9b10716ee",
   "metadata": {},
   "source": [
    "$\\frac{dθ}{dλ} = -e^{-λ} + e^{-λ} - λe^{-λ} = -λe^{-λ} = 0$"
   ]
  },
  {
   "cell_type": "markdown",
   "id": "86de4569-0986-47f1-b5b2-9219d15332c9",
   "metadata": {},
   "source": [
    "$\\hat \\theta^{MLE}=1$"
   ]
  },
  {
   "cell_type": "markdown",
   "id": "42c9c897-1455-4ce1-8fd5-93a665216f04",
   "metadata": {},
   "source": [
    "문제오류인가 무엇인가..........m"
   ]
  },
  {
   "cell_type": "markdown",
   "id": "658090c5-efd6-4be1-af66-f28bedce9453",
   "metadata": {},
   "source": [
    "$poi(\\theta)$로 풀어보면 나오긴하는데.."
   ]
  },
  {
   "cell_type": "code",
   "execution_count": null,
   "id": "1d55408e-94fd-4324-b080-6adccfef7511",
   "metadata": {},
   "outputs": [],
   "source": []
  },
  {
   "cell_type": "markdown",
   "id": "e89beeaa-a396-4247-92b3-d4f56457d535",
   "metadata": {},
   "source": [
    "## (c)"
   ]
  },
  {
   "cell_type": "markdown",
   "id": "ac8ef566-7c1f-4e5a-9077-46534d804de3",
   "metadata": {},
   "source": [
    "$\\hat \\theta^{MLE}$의 기대값"
   ]
  },
  {
   "cell_type": "markdown",
   "id": "b355c6f4-59b6-44f9-b67e-263040b4170d",
   "metadata": {
    "tags": []
   },
   "source": [
    "## (d)"
   ]
  },
  {
   "cell_type": "markdown",
   "id": "e4024467-88f5-4fbb-923f-9c112b25f749",
   "metadata": {},
   "source": [
    "$\\sqrt{n}(\\hat \\theta^{MLE}-\\theta)$의 점근분포"
   ]
  },
  {
   "cell_type": "markdown",
   "id": "3d4bb08c-8425-47a5-855a-8e156bd31cd1",
   "metadata": {},
   "source": [
    "$N(0,\\frac{1}{I(\\theta)})=N(0,\\theta)$"
   ]
  },
  {
   "cell_type": "code",
   "execution_count": null,
   "id": "8ac69f5e-bcf9-4e24-b2d4-4dc76d0eb1d2",
   "metadata": {},
   "outputs": [],
   "source": []
  },
  {
   "cell_type": "code",
   "execution_count": null,
   "id": "26f5e81a-6b58-4f07-94d6-bfc21d3d3e50",
   "metadata": {},
   "outputs": [],
   "source": []
  },
  {
   "cell_type": "code",
   "execution_count": null,
   "id": "df5454b0-f9cc-4c11-96aa-5208c0db6fb6",
   "metadata": {},
   "outputs": [],
   "source": []
  },
  {
   "cell_type": "code",
   "execution_count": null,
   "id": "84d8e865-f3fc-4b08-a3d2-879b5b664c63",
   "metadata": {},
   "outputs": [],
   "source": []
  },
  {
   "cell_type": "code",
   "execution_count": null,
   "id": "8e0a9678-2a87-458f-835e-2042248200bc",
   "metadata": {},
   "outputs": [],
   "source": []
  },
  {
   "cell_type": "code",
   "execution_count": null,
   "id": "8a71ee5d-bd06-4e3c-a286-93f962ecb73f",
   "metadata": {},
   "outputs": [],
   "source": []
  },
  {
   "cell_type": "markdown",
   "id": "c151fbdc-1bcd-4032-a889-886d84097261",
   "metadata": {},
   "source": [
    "# 7번"
   ]
  },
  {
   "cell_type": "markdown",
   "id": "1dc6337a-c3ba-41bc-8db3-bb122797ac05",
   "metadata": {},
   "source": [
    "어느 보험계리사가 두 그룹의 보험계약자들의 평균 보험료 청구 시간을 비교하고자 다음과 같이 각 그룹으로부터 서로 독립인 두 랜덤샘플을 얻었다고 한다.\n",
    "\n",
    "\n",
    "Group A: $X_1, X_2, \\dots , X_m$ iid∼ $EXP(θ_1)$ (평균:$θ_1$)\n",
    "\n",
    "Group B: $Y_1, Y_2, \\dots , Y_n$ iid∼ $EXP(θ_2)$ (평균:$θ_2$)\n"
   ]
  },
  {
   "cell_type": "markdown",
   "id": "f700b527-91ae-491c-9c0c-a0b02b9ddacf",
   "metadata": {
    "tags": []
   },
   "source": [
    "## (a)"
   ]
  },
  {
   "cell_type": "markdown",
   "id": "0b91f7ef-3a3c-4104-8b1f-9ac1d1c7045e",
   "metadata": {},
   "source": [
    "$Q_1 = \\dfrac{2m \\bar {X_m}}{θ_1}, Q_2 = \\dfrac{2n\\bar {Y_n}}{θ_2}$\n",
    "라고 할 때 $Q_1$과 $Q_2$의 분포를 구하시오"
   ]
  },
  {
   "cell_type": "markdown",
   "id": "8f09be4e-f2ff-4488-a1fa-4a1fdea2f6b2",
   "metadata": {},
   "source": [
    "$X_1 \\sim EXP(\\theta_1)$\n",
    "\n",
    "$\\frac{2X_1}{\\theta_1} \\sim EXP(2)$\n",
    "\n",
    "평균이 2인 지수분포를 m번 더하면 자유도가 2m인 카이제곱 분포가 나온다. \n",
    "\n",
    "$\\frac{2m \\bar X_m}{\\theta_1} \\sim \\chi^2_{2m}$\n",
    "\n",
    "$Y$도 비스하게 하면 $Q_2$는 자유도가 2n인 카이제곱 분포를 따른다."
   ]
  },
  {
   "cell_type": "markdown",
   "id": "a6abce70-10bc-417b-a729-24d0a5373ba4",
   "metadata": {},
   "source": [
    "$Q_1 \\sim \\chi^2(2m), Q_2 \\sim \\chi^2(2n)$"
   ]
  },
  {
   "cell_type": "code",
   "execution_count": null,
   "id": "b3f49811-ea5c-4939-834c-ee05fda4000e",
   "metadata": {},
   "outputs": [],
   "source": []
  },
  {
   "cell_type": "code",
   "execution_count": null,
   "id": "b33a48be-7d09-4f10-95dc-2f57cb44af08",
   "metadata": {},
   "outputs": [],
   "source": []
  },
  {
   "cell_type": "markdown",
   "id": "cd3aab93-d38b-484b-bf1b-a2585376c7f0",
   "metadata": {},
   "source": [
    "## (b)"
   ]
  },
  {
   "cell_type": "markdown",
   "id": "c6de083f-5e11-47e9-bdcf-8b1c4fefd043",
   "metadata": {},
   "source": [
    "$θ_1 = θ_2$일 때 $\\bar X_m/\\bar Y_n$의 분포를 구하시오"
   ]
  },
  {
   "cell_type": "markdown",
   "id": "d5958ddc-2a98-41c7-8898-60f48577bf64",
   "metadata": {},
   "source": [
    "$\\dfrac{Q_1/2m}{Q_2/2n} \\sim F(2m,2n)$"
   ]
  },
  {
   "cell_type": "markdown",
   "id": "22db14db-ff2e-4583-90ba-ea9b91a5f01e",
   "metadata": {},
   "source": [
    "좌변 식을 간단히 해보면,\n",
    "\n",
    "=$\\dfrac{\\dfrac{2m \\bar {X_m}}{θ_1 \\times 2m}}{\\dfrac{2n\\bar {Y_n}}{θ_2 \\times 2n}}=\\dfrac{\\bar X_m}{\\bar Y_n}$이므로 이 식은 F분포를 따른다."
   ]
  },
  {
   "cell_type": "markdown",
   "id": "5e779c46-9e3f-472f-94e9-c736bb110cb6",
   "metadata": {},
   "source": [
    "## (c)"
   ]
  },
  {
   "cell_type": "markdown",
   "id": "143b0caf-46e8-4cc3-ae1a-dc4172f8d396",
   "metadata": {},
   "source": [
    "$θ_1 = θ_2$일 때 가능도함수와 그 함수의 최대값을 구하시오.\n"
   ]
  },
  {
   "cell_type": "code",
   "execution_count": null,
   "id": "c8fd9393-0c1b-4cde-bb99-4393d65c182f",
   "metadata": {},
   "outputs": [],
   "source": []
  },
  {
   "cell_type": "code",
   "execution_count": null,
   "id": "e4da459c-e15d-493b-9aec-16defb7912bb",
   "metadata": {},
   "outputs": [],
   "source": []
  },
  {
   "cell_type": "code",
   "execution_count": null,
   "id": "8e492e67-073d-4c03-af46-f29bd0d618b0",
   "metadata": {},
   "outputs": [],
   "source": []
  },
  {
   "cell_type": "code",
   "execution_count": null,
   "id": "067bf15a-9014-438c-9376-b1f74378b33e",
   "metadata": {},
   "outputs": [],
   "source": []
  },
  {
   "cell_type": "code",
   "execution_count": null,
   "id": "d4efcce6-70ff-4317-9376-7f68a9850175",
   "metadata": {},
   "outputs": [],
   "source": []
  },
  {
   "cell_type": "code",
   "execution_count": null,
   "id": "028bc98c-56b4-4281-b691-2f60a8ba8626",
   "metadata": {},
   "outputs": [],
   "source": []
  },
  {
   "cell_type": "markdown",
   "id": "3d6fc1e2-c91a-41fa-a139-27a650e67a0f",
   "metadata": {
    "tags": []
   },
   "source": [
    "## (d)"
   ]
  },
  {
   "cell_type": "markdown",
   "id": "8b368d52-f6c6-49cf-9ec4-5da80ef304cd",
   "metadata": {},
   "source": [
    "$H_0 : θ_1 = θ_2$ vs $H_1 : θ_1 \\neq θ_2$을 검정하기 위한 유의수준 $α$인 가능도비 검정의\n",
    "기각역을 구하시오"
   ]
  },
  {
   "cell_type": "code",
   "execution_count": null,
   "id": "1b097f5b-cf3f-4777-bde7-2d99dc5563ca",
   "metadata": {},
   "outputs": [],
   "source": []
  },
  {
   "cell_type": "code",
   "execution_count": null,
   "id": "83d51303-c729-4814-ac03-fe02f2ac9531",
   "metadata": {},
   "outputs": [],
   "source": []
  },
  {
   "cell_type": "code",
   "execution_count": null,
   "id": "effd2314-3d3c-4132-96c2-e2b697e41ed9",
   "metadata": {},
   "outputs": [],
   "source": []
  },
  {
   "cell_type": "code",
   "execution_count": null,
   "id": "198dcd8e-800b-4fdb-8533-4690f5522634",
   "metadata": {},
   "outputs": [],
   "source": []
  },
  {
   "cell_type": "code",
   "execution_count": null,
   "id": "d50487f0-3835-4a06-85d4-3c6333b81321",
   "metadata": {},
   "outputs": [],
   "source": []
  },
  {
   "cell_type": "code",
   "execution_count": null,
   "id": "6087cd61-23ba-4984-8361-8ce5533c3ee2",
   "metadata": {},
   "outputs": [],
   "source": []
  },
  {
   "cell_type": "code",
   "execution_count": null,
   "id": "119ecabc-fb3f-4e5f-81df-c8d1dcbdfa9d",
   "metadata": {},
   "outputs": [],
   "source": []
  },
  {
   "cell_type": "code",
   "execution_count": null,
   "id": "827ecd2d-22f7-4a1a-ba57-09987be2ab2c",
   "metadata": {},
   "outputs": [],
   "source": []
  },
  {
   "cell_type": "code",
   "execution_count": null,
   "id": "d54345eb-9d93-4e23-89cb-e24e752f007e",
   "metadata": {},
   "outputs": [],
   "source": []
  },
  {
   "cell_type": "code",
   "execution_count": null,
   "id": "1c3d25aa-cc9c-4260-93f8-c805defcc21f",
   "metadata": {},
   "outputs": [],
   "source": []
  },
  {
   "cell_type": "code",
   "execution_count": null,
   "id": "75ccc755-5049-406a-a919-ae477e662528",
   "metadata": {},
   "outputs": [],
   "source": []
  },
  {
   "cell_type": "code",
   "execution_count": null,
   "id": "fc0cc1f0-1fb2-44d5-a14e-7e0b67f8ea09",
   "metadata": {},
   "outputs": [],
   "source": []
  },
  {
   "cell_type": "code",
   "execution_count": null,
   "id": "526927c6-bf7e-4e9c-9d18-58db4bf31c56",
   "metadata": {},
   "outputs": [],
   "source": []
  },
  {
   "cell_type": "code",
   "execution_count": null,
   "id": "f73157da-e623-4684-8e9f-013f4c571f08",
   "metadata": {},
   "outputs": [],
   "source": []
  },
  {
   "cell_type": "code",
   "execution_count": null,
   "id": "c05cfe6d-a469-4410-b684-e19f17802dcf",
   "metadata": {},
   "outputs": [],
   "source": []
  },
  {
   "cell_type": "code",
   "execution_count": null,
   "id": "35bed382-578c-4140-b1ea-b86d0bf5d9b3",
   "metadata": {},
   "outputs": [],
   "source": []
  },
  {
   "cell_type": "code",
   "execution_count": null,
   "id": "8fc82718-71a8-4738-b5bd-f5788e70563c",
   "metadata": {},
   "outputs": [],
   "source": []
  },
  {
   "cell_type": "code",
   "execution_count": null,
   "id": "fef9c965-78b6-4110-8d39-ed2876774ffd",
   "metadata": {},
   "outputs": [],
   "source": []
  },
  {
   "cell_type": "code",
   "execution_count": null,
   "id": "f311a2d6-e55d-4d46-947e-10a188644773",
   "metadata": {},
   "outputs": [],
   "source": []
  },
  {
   "cell_type": "code",
   "execution_count": null,
   "id": "3f7568ed-c92c-4336-8dde-fdeb03450c8f",
   "metadata": {},
   "outputs": [],
   "source": []
  },
  {
   "cell_type": "code",
   "execution_count": null,
   "id": "832b29a7-096b-4c2e-bba4-129a46056d50",
   "metadata": {},
   "outputs": [],
   "source": []
  },
  {
   "cell_type": "code",
   "execution_count": null,
   "id": "eb08e410-2d15-422e-8ec8-732881955c90",
   "metadata": {},
   "outputs": [],
   "source": []
  },
  {
   "cell_type": "code",
   "execution_count": null,
   "id": "1c3de9ac-d3dc-4385-a468-d93a2add5dd6",
   "metadata": {},
   "outputs": [],
   "source": []
  },
  {
   "cell_type": "code",
   "execution_count": null,
   "id": "db46110f-7760-4df6-8e8c-0d2e2c6ca753",
   "metadata": {},
   "outputs": [],
   "source": []
  },
  {
   "cell_type": "code",
   "execution_count": null,
   "id": "30c525e9-48d5-4156-b327-58162d2fb7cb",
   "metadata": {},
   "outputs": [],
   "source": []
  },
  {
   "cell_type": "code",
   "execution_count": null,
   "id": "3cdd071d-dacc-4e35-8ae7-754829cef777",
   "metadata": {},
   "outputs": [],
   "source": []
  },
  {
   "cell_type": "code",
   "execution_count": null,
   "id": "db094e0f-ddeb-4691-a957-0e047d631ff4",
   "metadata": {},
   "outputs": [],
   "source": []
  },
  {
   "cell_type": "code",
   "execution_count": null,
   "id": "0d70a126-81f7-4bd2-adad-aa8dc88a3bc5",
   "metadata": {},
   "outputs": [],
   "source": []
  },
  {
   "cell_type": "code",
   "execution_count": null,
   "id": "8e79c3df-ba40-49df-879e-805bda50aafc",
   "metadata": {},
   "outputs": [],
   "source": []
  },
  {
   "cell_type": "code",
   "execution_count": null,
   "id": "0f6f00cd-c7d8-44e3-bb8f-1bccee996803",
   "metadata": {},
   "outputs": [],
   "source": []
  },
  {
   "cell_type": "code",
   "execution_count": null,
   "id": "31554fc9-c250-43ef-90bf-f5e8f2689900",
   "metadata": {},
   "outputs": [],
   "source": []
  },
  {
   "cell_type": "code",
   "execution_count": null,
   "id": "e7df4a8d-eab8-4856-99dd-fa460068827a",
   "metadata": {},
   "outputs": [],
   "source": []
  }
 ],
 "metadata": {
  "kernelspec": {
   "display_name": "Python 3 (ipykernel)",
   "language": "python",
   "name": "python3"
  },
  "language_info": {
   "codemirror_mode": {
    "name": "ipython",
    "version": 3
   },
   "file_extension": ".py",
   "mimetype": "text/x-python",
   "name": "python",
   "nbconvert_exporter": "python",
   "pygments_lexer": "ipython3",
   "version": "3.8.16"
  }
 },
 "nbformat": 4,
 "nbformat_minor": 5
}
