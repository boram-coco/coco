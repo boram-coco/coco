{
 "cells": [
  {
   "cell_type": "raw",
   "id": "f7cbd7c8-a541-496e-b266-0c3719d82440",
   "metadata": {},
   "source": [
    "---\n",
    "title: \"TS HW1\"\n",
    "author: \"김보람\"\n",
    "date: \"03/21/2023\"\n",
    "categories:\n",
    "  - Theoretical statistics\n",
    "  - homework\n",
    "---"
   ]
  },
  {
   "cell_type": "markdown",
   "id": "e32b05f6-d3ff-4420-ab15-bea1ca9d1bcf",
   "metadata": {},
   "source": [
    ">  **모든 풀이는 틀릴 수 있음 하하하 ㅇ_<**"
   ]
  },
  {
   "cell_type": "markdown",
   "id": "a7691c57-2871-42f9-977e-65c6f7821287",
   "metadata": {
    "tags": []
   },
   "source": [
    "\n",
    "\n",
    "# 1. $P\\left( A_{1}\\cap A_{2}\\cap A_{3}\\right) >0$ 일 때 다음을 증명하시오.\n",
    "\n",
    "$\\begin{aligned}P\\left( A_{1}\\cap A_{2}\\cap A_{3}\\cap A_{4}\\right) =P\\left( A_{1}\\right) P\\left( A_{2}| A_{1}\\right) P\\left( A_{3}| A_{1}\\cap A_{2}\\right)P\\left( A_{4}| A_{1}\\cap A_{2}\\cap A_{3}\\right) \\end{aligned}$"
   ]
  },
  {
   "cell_type": "markdown",
   "id": "7f82b01a-c43d-48d8-aa9c-e5ba8d1a651b",
   "metadata": {},
   "source": [
    "$P( A_{1}\\cap A_{2}\\cap A_{3}\\cap A_{4})$"
   ]
  },
  {
   "cell_type": "markdown",
   "id": "f0892dab-d70c-44f2-b1b7-cf8044707291",
   "metadata": {},
   "source": [
    "=  $P(A_4 \\cap A_3 \\cap A_2 \\cap A_1)$"
   ]
  },
  {
   "cell_type": "markdown",
   "id": "5ec930fe-a02d-484d-97a9-982cc409775f",
   "metadata": {},
   "source": [
    "= $P(A_4 \\mid A_3 \\cap A_2 \\cap A_1) \\cdot P(A_3 \\cap A_2 \\cap A_1)$\n"
   ]
  },
  {
   "cell_type": "markdown",
   "id": "af035f71-b280-48e7-9fc3-85b92d4d3287",
   "metadata": {},
   "source": [
    "= $P(A_4 \\mid A_3 \\cap A_2 \\cap A_1) \\cdot P(A_3 \\mid A_2 \\cap A_1) \\cdot P(A_2 \\cap A_1)$"
   ]
  },
  {
   "cell_type": "markdown",
   "id": "d34cda24-c4ba-41f2-b530-c3b80b093585",
   "metadata": {},
   "source": [
    "= $P(A_4 \\mid A_3 \\cap A_2 \\cap A_1) \\cdot P(A_3 \\mid A_2 \\cap A_1) \\cdot P(A_2 \\mid A_1) \\cdot P(A_1)$"
   ]
  },
  {
   "cell_type": "markdown",
   "id": "86635ecf-77c9-4116-9828-2e304751f563",
   "metadata": {},
   "source": [
    "# 2. $A_{1}$과 $A_{2}$가 서로 독립사건일 때 다음 사건들도 독립임을 보이시오.\n"
   ]
  },
  {
   "cell_type": "markdown",
   "id": "9a0e5b77-2036-412b-933f-5f82fdcf0441",
   "metadata": {},
   "source": [
    "$A_{1}$과 $A_{2}$가 서로 독립이므로 $P(A_{1} \\cap A_{2}) = P(A_{1}) P(A_{2})$ 가 성립"
   ]
  },
  {
   "cell_type": "markdown",
   "id": "5512006a-0e1c-425f-9561-3adf1fc2f338",
   "metadata": {},
   "source": [
    "## (1) $A_{1}$과 $A_{2}^{c}$"
   ]
  },
  {
   "cell_type": "markdown",
   "id": "217db364-f15a-4f4b-aea4-8cd52d642c34",
   "metadata": {},
   "source": [
    "(1) $P(A_{1} \\cap  A_{2}^c)$"
   ]
  },
  {
   "cell_type": "markdown",
   "id": "d93b9a58-a925-43e5-a8c1-2b891de32e4b",
   "metadata": {},
   "source": [
    "= $P(A_1) - P(A_1 \\cap A_2)$"
   ]
  },
  {
   "cell_type": "markdown",
   "id": "abe05357-ed48-4acc-9aa1-4783fc0108ae",
   "metadata": {},
   "source": [
    "= $P(A_1) - P(A_1) \\cdot P(A_2)$"
   ]
  },
  {
   "cell_type": "markdown",
   "id": "999a309e-a157-41f3-8a60-afecc0d525d2",
   "metadata": {},
   "source": [
    "= $P(A_1) \\cdot (1 - P(A_2))$"
   ]
  },
  {
   "cell_type": "markdown",
   "id": "10c3750b-02c1-4d38-a134-6b968bac81d3",
   "metadata": {},
   "source": [
    "$= P(A_{1})P(A_{2}^c)$"
   ]
  },
  {
   "cell_type": "markdown",
   "id": "ad169b6c-2933-45d0-bf54-2e7dd9f56d8c",
   "metadata": {},
   "source": [
    "## (2) $A_{1}^{c}$과 $A_{2}$"
   ]
  },
  {
   "cell_type": "markdown",
   "id": "9f44737e-80c5-4b1b-b354-99a006ebb78a",
   "metadata": {},
   "source": [
    "(2) $P(A_{2} \\cap  A_{1}^c)$"
   ]
  },
  {
   "cell_type": "markdown",
   "id": "fed8fb27-3e2d-459b-a2a0-aee5c4ae1ad8",
   "metadata": {},
   "source": [
    "= $P(A_2) - P(A_1 \\cap A_2)$"
   ]
  },
  {
   "cell_type": "markdown",
   "id": "b4c9d345-d746-4c1e-b18d-54121b2fcb99",
   "metadata": {},
   "source": [
    "= $P(A_2) - P(A_1) \\cdot P(A_2)$"
   ]
  },
  {
   "cell_type": "markdown",
   "id": "d5ec5cae-b8a2-44ae-b8c4-7c04ce3d35e9",
   "metadata": {},
   "source": [
    "= $P(A_2) \\cdot (1-P(A_1))$"
   ]
  },
  {
   "cell_type": "markdown",
   "id": "c8f3ab25-8499-4c7a-9c5b-91ef1ad30c10",
   "metadata": {},
   "source": [
    "= $P(A_2) \\cdot P(A_1^c)$"
   ]
  },
  {
   "cell_type": "markdown",
   "id": "e000c6fa-af57-48d8-8740-888d5d98cd80",
   "metadata": {},
   "source": [
    "\n",
    "\n",
    "\n",
    "## (3) $A_{1}^{c}$과 $A_{2}^{c}$"
   ]
  },
  {
   "cell_type": "markdown",
   "id": "c096f55d-2140-4ada-b20f-34ea1676c8a6",
   "metadata": {},
   "source": [
    "(3) $P(A_1^c \\cap A_2^c)$"
   ]
  },
  {
   "cell_type": "markdown",
   "id": "28d89a35-9b4e-4912-82f3-549ae771d81f",
   "metadata": {},
   "source": [
    "= $P((A_1 \\cup A_2)^c)$"
   ]
  },
  {
   "cell_type": "markdown",
   "id": "80a6e8fd-d852-4e7b-8896-f03810540b30",
   "metadata": {},
   "source": [
    "= $1-P(A_1 \\cup A_2)$"
   ]
  },
  {
   "cell_type": "markdown",
   "id": "39d13d57-b785-4ae8-af90-900ff9f73b58",
   "metadata": {},
   "source": [
    "= $1 - (P(A_1) + P(A_2) - P(A_1 \\cap A_2))$"
   ]
  },
  {
   "cell_type": "markdown",
   "id": "21a9d23b-d851-4f8c-a1b7-b1f4fa1955af",
   "metadata": {},
   "source": [
    "= $1 - P(A_1) - P(A_2) + P(A_1 \\cap A_2)$"
   ]
  },
  {
   "cell_type": "markdown",
   "id": "7d1fc019-f4bb-482d-8cd3-42542b9f9356",
   "metadata": {},
   "source": [
    "= $1 - P(A_1) - P(A_2) + P(A_1)P(A_2)$"
   ]
  },
  {
   "cell_type": "markdown",
   "id": "941e2d6f-1435-4cd6-a72c-672084fbbcaf",
   "metadata": {},
   "source": [
    "= $1 - P(A_1) - P(A_2)(1-P_{A_1})$"
   ]
  },
  {
   "cell_type": "markdown",
   "id": "9844a52e-d890-4f63-9b23-1981072aa44f",
   "metadata": {},
   "source": [
    "= $(1-P(A_1))(1-P(A_2))$"
   ]
  },
  {
   "cell_type": "markdown",
   "id": "cab97ae1-a29d-4ca4-ab1b-837259b9dbe4",
   "metadata": {},
   "source": [
    "= $P(A_1^c)P(A_2^c)$"
   ]
  },
  {
   "cell_type": "markdown",
   "id": "76e1305b-cf46-41e3-aa44-7f88859fc6cf",
   "metadata": {},
   "source": [
    "# 3. $A_{1}$과 $A_{2}$ 가 서로 독립사건이며 $P(A_{1}) = 0.6$ , $P(A_{2}) = 0.3$ 이라 하자. 다음을 계산하시오.\n",
    "\n",
    "\n",
    "\n"
   ]
  },
  {
   "cell_type": "markdown",
   "id": "3daaddb4-0209-42fa-a0cc-daeaece40640",
   "metadata": {},
   "source": [
    "## (1) $P(A_{1} \\cap A_{2})$"
   ]
  },
  {
   "cell_type": "markdown",
   "id": "b5542159-48c4-4c26-a052-6651b0dcaede",
   "metadata": {},
   "source": [
    "$A_{1}$과 $A_{2}$가 서로 독립이므로 $P(A_{1} \\cap A_{2}) = P(A_{1}) P(A_{2})$ 가 성립 "
   ]
  },
  {
   "cell_type": "markdown",
   "id": "1d7b6bb4-c746-4dde-85ed-bd520d2101c0",
   "metadata": {},
   "source": [
    "$P(A_1 \\cap A_2) = P(A_1)P(A_2) = 0.6 \\times 0.3 = 0.18$"
   ]
  },
  {
   "cell_type": "markdown",
   "id": "8c7ba796-de4f-4dcf-9a6c-0dc89e73ea82",
   "metadata": {},
   "source": [
    "## (2) $P\\left( A_{1}\\cup A_{2}\\right)$\n"
   ]
  },
  {
   "cell_type": "markdown",
   "id": "925a3cdf-5709-4a68-9912-3253c510750b",
   "metadata": {},
   "source": [
    "$P(A_1 \\cup A_2) = P(A_1) + P(A_2) - P(A_1 \\cap A_2) = 0.6 + 0.3 - 0.18 = 0.72$"
   ]
  },
  {
   "cell_type": "markdown",
   "id": "7f2a6600-f61d-4ada-8279-c8ee8be9b533",
   "metadata": {},
   "source": [
    "\n",
    "## (3) $P(A_{1} \\cup A_{2}^{c})$"
   ]
  },
  {
   "cell_type": "markdown",
   "id": "039fc25d-4d20-46b8-a9fe-e0c3352be1d2",
   "metadata": {},
   "source": [
    "$P(A_{1} \\cup A_{2}^c)$\n",
    "\n",
    "= $P(A_1) + P(A_2^c) - P(A_1 \\cap A_2^c)$\n",
    "\n",
    "= $P(A_1) + 1 - P(A_2) - ( P(A_1) - P(A_1 \\cap A_2))$\n",
    "\n",
    "= $1 - P(A_2) + P(A_1 \\cap A_2)$\n",
    "\n",
    "= $1 - 0.3 + 0.18$\n",
    "\n",
    "= $0.88$"
   ]
  },
  {
   "cell_type": "markdown",
   "id": "25d8139f-3258-452f-a711-c30236c569f0",
   "metadata": {},
   "source": [
    "# 4. 트럼프 카드 한 벌에서 한 장의 카드를 선택한다고 하자. 관측값 $c$ 는 카드 52장 중 하나이다. 만약 $c$가 에이스이면 $X(c) = 4$ , $c$가 킹이면 $X(c) = 3$이라 하고, $c$가 퀸이면 $X(c) = 2$, $c$가 잭이면 $X(c) = 1$, 그 외에는 $X(c) = 0$이라 하자. $P$가 각각의 관측값 $c$에 확률  $\\dfrac{1}{52}$를 부여한다고 하자. 확률변수 $X$ 값의 확률밀도함수를 구하시오."
   ]
  },
  {
   "cell_type": "markdown",
   "id": "a20229e5-ec44-4b69-b7ae-adeb2663ac0c",
   "metadata": {},
   "source": [
    "$P(X(c) = 4) = \\dfrac{4}{52} = \\dfrac{1}{13}$"
   ]
  },
  {
   "cell_type": "markdown",
   "id": "60cc56a6-1b97-4138-b290-2403e545a0c8",
   "metadata": {},
   "source": [
    "$P(X(c) = 3) = \\dfrac{4}{52} = \\dfrac{1}{13}$"
   ]
  },
  {
   "cell_type": "markdown",
   "id": "10b88c92-24ed-41df-92ee-722a7823ca6b",
   "metadata": {},
   "source": [
    "$P(X(c) = 2) = \\dfrac{4}{52} = \\dfrac{1}{13}$"
   ]
  },
  {
   "cell_type": "markdown",
   "id": "6447ada0-d86e-4d38-bcb0-29b5e8a05756",
   "metadata": {},
   "source": [
    "$P(X(c) = 1) = \\dfrac{4}{52} = \\dfrac{1}{13}$"
   ]
  },
  {
   "cell_type": "markdown",
   "id": "5eec1e25-4731-4958-8da9-f75d03bc8c46",
   "metadata": {},
   "source": [
    "$P(X(c) = 0) = \\dfrac{36}{52} = \\dfrac{9}{13}$"
   ]
  },
  {
   "cell_type": "markdown",
   "id": "1f58604b-b512-46cc-bf97-07a06c740428",
   "metadata": {},
   "source": [
    "$f_{x}\\left( x\\right) =\\begin{cases}\\dfrac{1}{13}  (x=1,2,3,4)\\\\ \\dfrac{9}{13}  (x=0) \\\\ 0 (o.w) \\end{cases}$"
   ]
  },
  {
   "cell_type": "markdown",
   "id": "7d3dff9e-79ae-4359-b064-acddfe557b1f",
   "metadata": {},
   "source": [
    "# 5. 다음 각 $f\\left( x\\right)$에 대하여 확률밀도함수가 되기위한 상수 $c$를 구하시오.\n",
    "\n"
   ]
  },
  {
   "cell_type": "markdown",
   "id": "c7aa6919-8fd1-47c3-8511-9bdc3b7d6622",
   "metadata": {},
   "source": [
    "## (1) $f\\left( x\\right) = c( \\dfrac{2}{3})^x$ $I\\left( x\\in \\left\\{ 0,1,2,\\ldots \\right\\} \\right)$"
   ]
  },
  {
   "cell_type": "markdown",
   "id": "30606030-bffc-4764-8904-4f580921644b",
   "metadata": {},
   "source": [
    "이럴수가 연속형이 아니라 이산형이였담 두둥\n",
    "이산형인 경우 저렇게 0,1,2,... 표시되고 연속형인 경우에는 $x\\geq0$ 이렇게 표시됨..ㅠㅠ"
   ]
  },
  {
   "cell_type": "markdown",
   "id": "9fa976d2-c437-418d-86b7-22d4e6f4b22c",
   "metadata": {},
   "source": [
    "각 $f(x) \\geq 0$ 이므로 $c \\geq 0$"
   ]
  },
  {
   "cell_type": "markdown",
   "id": "9da65d37-a356-4946-ad4c-4f1f53257a0f",
   "metadata": {},
   "source": [
    "$\\sum _{\\forall x_{i}}f\\left( x_{i}\\right) = 1$ 을 만족하는 상수 c값 찾기"
   ]
  },
  {
   "cell_type": "markdown",
   "id": "cabfc5e9-fa9e-42d3-92e9-cb6409484dc9",
   "metadata": {},
   "source": [
    "$\\sum ^{\\infty}_{0}c( \\dfrac{2}{3})^x =\\dfrac{\\dfrac{2}{3}c}{1-\\dfrac{2}{3}}= 2c = 1$"
   ]
  },
  {
   "cell_type": "markdown",
   "id": "2e3d0e22-a8ca-4576-81bf-7a581fede009",
   "metadata": {},
   "source": [
    "s.t $c= \\dfrac{1}{2}$"
   ]
  },
  {
   "cell_type": "markdown",
   "id": "1de71241-fb74-4f05-9cf7-9573f3b9dfbe",
   "metadata": {
    "tags": []
   },
   "source": [
    "## (2) $f(x) = cx$ $I\\left( x\\in \\left\\{ 1,2,3,4,5,6 \\right\\} \\right)$"
   ]
  },
  {
   "cell_type": "markdown",
   "id": "8a935ed2-c318-4389-b7a9-691de104d81a",
   "metadata": {},
   "source": [
    "각 $f(x) \\geq 0$ 이므로 $c \\geq 0$"
   ]
  },
  {
   "cell_type": "markdown",
   "id": "86632980-c5da-4f9e-ac11-536e5363b52c",
   "metadata": {},
   "source": [
    "$\\sum _{\\forall x_{i}}f\\left( x_{i}\\right) = 1$ 을 만족하는 상수 c값 찾기"
   ]
  },
  {
   "cell_type": "markdown",
   "id": "f7171575-7a07-4fcf-8d17-cf093fa4b99e",
   "metadata": {},
   "source": [
    "$\\sum ^{6}_{x=1}f\\left( x_{i}\\right) = c (1+2+3+4+5+6) = 21 c =1$"
   ]
  },
  {
   "cell_type": "markdown",
   "id": "81cf9879-b30d-4c84-af3e-52fe4626fe44",
   "metadata": {},
   "source": [
    "s.t $c= \\dfrac{1}{21}$"
   ]
  },
  {
   "cell_type": "markdown",
   "id": "7957b160-6fdc-42a3-9353-fbdbe139964a",
   "metadata": {},
   "source": [
    "# 6. 세 개의 상자에는 각각 $1,2,3,4$가 적혀있는 네 장의 카드가 들어 있다. 각 상자에서 임의로 카드를 한 장씩 선택하여 $X$와 $Y$를 다음과 같이 정의할 때, $X$와 $Y$의 결합확률분포를 구하시오.\n",
    "$X$ = 세 장의 카드 중 가장 작은 값, $Y$ = 세 장의 카드 중 가장 큰 값"
   ]
  },
  {
   "cell_type": "markdown",
   "id": "c9ed38d3-4dcd-4cff-8bc9-fb108164c499",
   "metadata": {},
   "source": [
    "전체 경우의 수: $4 \\times 4 \\times 4 = 64$"
   ]
  },
  {
   "cell_type": "markdown",
   "id": "a7010c98-18b5-4c88-b666-672d5819bfce",
   "metadata": {},
   "source": [
    "$X=1, Y=1$ 인 경우: 1가지 $\\to$ $(1,1,1)$\n",
    "\n",
    "$X=1, Y=2$ 인 경우: 6가지 $\\to$$(1,1,2), (1,2,1), (2,1,1), (1,2,2), (2,1,2), (2,2,1)$\n",
    "\n",
    "$X=1, Y=3$ 인 경우: 12가지 $\\to$$(1,1,3), (1,3,1), (3,1,1), (1,2,3), (1,3,2), (2,1,3), (2,3,1), (3,1,2), (3,2,1), (1,3,3), (3,1,3), (3,3,1)$\n",
    "\n",
    "$X=1, Y=4$ 인 경우: 18가지 $\\to$$ (1,1,4), (1,4,1), (4,1,1), (1,2,4), (1,4,2), (2,1,4), (2,4,1), (4,1,2), (4,2,1), (1,3,4), (1,4,3), (3,1,4), (3,4,1), (4,1,3), (4,3,1), (1,4,4), (4,1,4), (4,4,1)$\n",
    "\n",
    "$X=2, Y=2$ 인 경우: 1가지 $\\to$ $(2,2,2)$\n",
    "\n",
    "$X=2, Y=3$ 인 경우: 6가지 $\\to$ $(2,2,3), (2,3,2), (3,2,2), (2,3,3), (3,2,3), (3,3,2)$\n",
    "\n",
    "$X=2, Y=4$ 인 경우: 12가지 $\\to$ $(2,2,4), (2,4,2), (4,2,2), (2,3,4), (2,4,3), (3,2,4), (3,4,2), (4,2,3), (4,3,2),(2,4,4),(4,2,4),(4,4,2)$\n",
    "\n",
    "$X=3, Y=3$ 인 경우: 1가지 $\\to$ $(3,3,3)$\n",
    "\n",
    "$X=3, Y=4$ 인 경우: 6가지 $\\to$ $(3,3,4), (3,4,3), (4,3,3), (3,4,4), (4,3,4), (4,4,3)$\n",
    "\n",
    "$X=4, Y=4$ 인 경우: 1가지 $\\to$ $(4,4,4)$"
   ]
  },
  {
   "cell_type": "markdown",
   "id": "5e6b3ac7-be69-4e34-baea-b6d27bf2e8e9",
   "metadata": {},
   "source": [
    "$X$ 와 $Y$의 결합확률분포 $f_{x,y} (x,y)$ 는 아래 표로 나타낼 수 있다."
   ]
  },
  {
   "cell_type": "markdown",
   "id": "6127ca69-584f-4bb7-99cf-a06cd33727aa",
   "metadata": {},
   "source": [
    "|   |   |   X   |       |      |      |\n",
    "|---|---|:-----:|-------|------|------|\n",
    "|   |   | 1     | 2     | 3    | 4    |\n",
    "|   | 1 | $\\dfrac{1}{64}$  | 0     | 0    | 0    |\n",
    "|   | 2 |$\\dfrac{6}{64}$   | $\\dfrac{1}{64}$   | 0    | 0    |\n",
    "| Y | 3 | $\\dfrac{12}{64}$  | $\\dfrac{6}{64}$   | $\\dfrac{1}{64}$  | 0    |\n",
    "|   | 4 | $\\dfrac{18}{64}$  | $\\dfrac{12}{64}$  | $\\dfrac{6}{64}$  | $\\dfrac{1}{64}$  |"
   ]
  },
  {
   "cell_type": "markdown",
   "id": "b79b5e58-87a2-4eab-9a65-6cec1c65bca4",
   "metadata": {},
   "source": [
    "# 7. 두 확률변수 $X_{1}$과 $X_{2}$의 결합확률밀도함수가 $f(x_{1},x_{2}) = 4x_{1} x_{2}  I( 0 <x_{1} <1,0 <x_{2} < 1)$ 일 때 다음 확률을 구하시오."
   ]
  },
  {
   "cell_type": "markdown",
   "id": "78aa0cfd-4eeb-4505-8494-51756314c374",
   "metadata": {},
   "source": [
    "> 항상 계산이.. 계싼이 어려워.......  이중적분하는거 거의까먹어서 다틀릴수도..!"
   ]
  },
  {
   "cell_type": "markdown",
   "id": "ff6a5fee-0a4a-4269-bdf7-11e066f4a90c",
   "metadata": {},
   "source": [
    "## (1) $P(0 < X_{1} < \\dfrac{1}{2}, \\dfrac{1}{4} < X_{2} < 1)$"
   ]
  },
  {
   "cell_type": "markdown",
   "id": "8da69f61-b69d-4645-b2bc-d03f53db5b84",
   "metadata": {},
   "source": [
    "$\\int \\int _{A}f\\left( x_{1},x_{2}\\right) dx_{1}dx_{2} = \\int _{0}^{1/2}\\int _{1/4}^{1}4x_{1}x_{2}dx_{2}dx_{1} = \\dfrac{15}{64}$"
   ]
  },
  {
   "cell_type": "markdown",
   "id": "a244b9ed-8668-47a9-ba03-2684ab5265e8",
   "metadata": {},
   "source": [
    "## (2) $P(X_{1} = X_{2})$"
   ]
  },
  {
   "cell_type": "markdown",
   "id": "0ad56bbe-e5d9-4210-96b9-ce742d72f3e7",
   "metadata": {},
   "source": [
    "$\\int _{0}^{.1}\\int ^{x_{1}}_{x_{1}}4x_{1}x_{2}dx_{2}dx_{1} = 0$"
   ]
  },
  {
   "cell_type": "markdown",
   "id": "f5da93a8-fff1-46fd-aa73-dd8861470558",
   "metadata": {},
   "source": [
    "## (3) $P(X_{1} < X_{2})$\n",
    "\n",
    "\n",
    "## (4) $P( X_{1}\\leq X_{2})$"
   ]
  },
  {
   "cell_type": "markdown",
   "id": "fb57a6cf-ef42-477d-9e9d-c3d2998d0c5d",
   "metadata": {},
   "source": [
    "(2)에서 $P(X_{1} = X_{2}) = 0$ 이므로 (3)식과 (4)식의 확률값은 동일하다."
   ]
  },
  {
   "cell_type": "markdown",
   "id": "5266088b-4873-4eb2-8035-0691b1969e2b",
   "metadata": {},
   "source": [
    "$\\int \\int _{A}f\\left( x_{1},x_{2}\\right) dx_{1}dx_{2} = \\int _{0}^{1}\\int _{0}^{x_2}4x_{1}x_{2}dx_{1}dx_{2} = \\int _{0}^{1}2x_{2}^{3}dx_{2} = \\dfrac{1}{2}$"
   ]
  },
  {
   "cell_type": "code",
   "execution_count": null,
   "id": "389ea998-4258-4edb-b592-1db037e9e240",
   "metadata": {},
   "outputs": [],
   "source": []
  }
 ],
 "metadata": {
  "kernelspec": {
   "display_name": "Python 3 (ipykernel)",
   "language": "python",
   "name": "python3"
  },
  "language_info": {
   "codemirror_mode": {
    "name": "ipython",
    "version": 3
   },
   "file_extension": ".py",
   "mimetype": "text/x-python",
   "name": "python",
   "nbconvert_exporter": "python",
   "pygments_lexer": "ipython3",
   "version": "3.8.16"
  }
 },
 "nbformat": 4,
 "nbformat_minor": 5
}
