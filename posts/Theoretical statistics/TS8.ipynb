{
 "cells": [
  {
   "cell_type": "code",
   "execution_count": null,
   "id": "854e3903-1314-4a76-816c-c6f092841e6e",
   "metadata": {},
   "outputs": [],
   "source": []
  },
  {
   "cell_type": "raw",
   "id": "cea0c716-1b62-428c-b0c8-24bea4e73056",
   "metadata": {},
   "source": [
    "---\n",
    "title: \"TS HW8\"\n",
    "author: \"김보람\"\n",
    "date: \"06/04/2023\"\n",
    "categories:\n",
    "  - Theoretical statistics\n",
    "  - homework\n",
    "---"
   ]
  },
  {
   "cell_type": "markdown",
   "id": "69876065-d653-4510-819f-8a54fcaea105",
   "metadata": {},
   "source": [
    "# 1번"
   ]
  },
  {
   "cell_type": "markdown",
   "id": "b6f36e0a-b34e-4946-bc95-44855e41fc74",
   "metadata": {},
   "source": [
    "모수 $\\theta$에 대한 서로 독립인 비편향 추정량 $\\hat \\theta_1$과 $\\hat \\theta_2$이 존재하며 $Var(\\hat \\theta_i)=\\sigma_i^2, i=1,2$이라고 한다. 이를 이용하여 새로운 추정량 $\\hat \\theta_{a_1,a_2}=a_1\\hat \\theta_1+ a_2 \\hat \\theta_2$를 정의할 때 다음에 답하시오."
   ]
  },
  {
   "cell_type": "markdown",
   "id": "37bd0bf7-5b90-403b-9d3e-b219809d9d5e",
   "metadata": {},
   "source": [
    "## (1)"
   ]
  },
  {
   "cell_type": "markdown",
   "id": "285b0b9e-80d1-4300-b659-46bd9c599a86",
   "metadata": {},
   "source": [
    "$\\hat \\theta_{a_1,a_2}$이 비편향추정량이 될 $a_1$과 $a_2$의 조건을 구하시오"
   ]
  },
  {
   "cell_type": "markdown",
   "id": "fd0b0f15-c889-4d60-9c9a-ad5a6846241e",
   "metadata": {},
   "source": [
    "$E(a_1\\hat \\theta_1 + a_2 \\hat \\theta_2) = a_1E(\\hat \\theta_1) + a_2 E(\\hat \\theta_2) = \\theta(a_1+a_2)=\\theta$\n",
    "\n",
    "$\\therefore a_1+a_2=1$"
   ]
  },
  {
   "cell_type": "markdown",
   "id": "27a24f29-1d73-49f8-9aa4-808f0de92861",
   "metadata": {},
   "source": [
    "## (2)"
   ]
  },
  {
   "cell_type": "markdown",
   "id": "f5416b6f-e7b7-43b1-8f12-7ffbe1a8b713",
   "metadata": {},
   "source": [
    "비편향추정량인 $\\hat \\theta_{a_1,a_2}$ 중에서 가장 작은 분산을 가지는 추정량을 구하시오."
   ]
  },
  {
   "cell_type": "markdown",
   "id": "f594c2f4-cd1f-4b97-a756-b1094fbe2796",
   "metadata": {},
   "source": [
    "$Var(\\hat \\theta_{a_1,a_2})=Var(a_1\\hat \\theta_1 + a_2\\hat \\theta_2) = a_1^2 \\sigma_1^2 + a_2^2 \\sigma_2^2$"
   ]
  },
  {
   "cell_type": "markdown",
   "id": "f6552abf-ad67-4a33-ac1f-03d6d1ce0204",
   "metadata": {},
   "source": [
    "(1)에서 $a_1+a_2=1$이므로 이를 이용하면\n",
    "\n",
    "$f(a_1) = a_1^2 \\sigma_1^2 + (1-a_1)^2 \\sigma^2_2 = a_1^2(\\sigma_1^2+\\sigma_2^2) -2\\sigma_2^2 a_1 + \\sigma_2^2$\n"
   ]
  },
  {
   "cell_type": "markdown",
   "id": "b261c8b3-0f22-4bc9-9bc6-1b5f5da79c2b",
   "metadata": {},
   "source": [
    "$\\dfrac{df(a_1)}{da_1} \\rightarrow a_1=\\dfrac{\\sigma_2^2}{\\sigma_1^2+\\sigma_2^2}=\\dfrac{\\frac{1}{\\sigma_1^2}}{\\frac{\\sigma_1^2+\\sigma_2^2}{\\sigma_1^2\\sigma_2^2}} = \\dfrac{\\frac{1}{\\sigma_1^2}}{\\frac{1}{\\sigma_1^2} + \\frac{1}{\\sigma_2^2}}$"
   ]
  },
  {
   "cell_type": "markdown",
   "id": "19355971-dcec-4723-abc3-8edc4ccbf67d",
   "metadata": {},
   "source": [
    "(1)에서 $a_1+a_2=1$이므로 이를 이용하면\n",
    "\n",
    "$f(a_2) = a_2^2 \\sigma_1^2 + (1-a_2)^2 \\sigma^2_2 = a_2^2(\\sigma_1^2+\\sigma_2^2) -2\\sigma_1^2 a_2 + \\sigma_1^2$\n"
   ]
  },
  {
   "cell_type": "markdown",
   "id": "a04cc5ae-2b2c-4373-bad2-72a48701890d",
   "metadata": {},
   "source": [
    "$\\dfrac{df(a_2)}{da_2} \\rightarrow a_2=\\dfrac{\\sigma_1^2}{\\sigma_1^2+\\sigma_2^2}=\\dfrac{\\frac{1}{\\sigma_2^2}}{\\frac{\\sigma_1^2+\\sigma_2^2}{\\sigma_1^2\\sigma_2^2}} = \\dfrac{\\frac{1}{\\sigma_2^2}}{\\frac{1}{\\sigma_1^2} + \\frac{1}{\\sigma_2^2}}$"
   ]
  },
  {
   "cell_type": "markdown",
   "id": "096e681e-c034-44bd-a226-7e63753e64f5",
   "metadata": {},
   "source": [
    "즉 $\\hat \\theta_{a_1,a_2}$는 $a_1=\\dfrac{\\sigma_2^2}{\\sigma_1^2+\\sigma_2^2}, a_2=\\dfrac{\\sigma_1^2}{\\sigma_1^2+\\sigma_2^2}$일 때 가장 작은 분산을 가진다. 일반화 하면 $a_i = \\dfrac{\\frac{1}{\\sigma_1}}{\\sum_{j=1}^2\\frac{1}{\\sigma_j^2}}$"
   ]
  },
  {
   "cell_type": "code",
   "execution_count": null,
   "id": "e5db968f-4df6-46df-8b9f-5b45880adec3",
   "metadata": {},
   "outputs": [],
   "source": []
  },
  {
   "cell_type": "markdown",
   "id": "04faab94-7523-41df-9cdd-3fe631b5b566",
   "metadata": {},
   "source": [
    "# 2번"
   ]
  },
  {
   "cell_type": "markdown",
   "id": "cf0c3b53-4b16-401d-a6ed-0e555a9dd659",
   "metadata": {},
   "source": [
    "$X_1,X_2,\\dots,X_n$이 $Ber(p)$로부터의 랜덤표본이라고 하자. 모집단의 분포 $Ber(p)$의 분산인 $p(1-p)$을 추정하고자 한다."
   ]
  },
  {
   "cell_type": "markdown",
   "id": "f0597b9f-95b3-4fce-bf28-b3f2f2bb55e3",
   "metadata": {},
   "source": [
    "## (1)"
   ]
  },
  {
   "cell_type": "markdown",
   "id": "26b79893-b959-4929-8260-6f448056211c",
   "metadata": {},
   "source": [
    "$p(1-p)$에 대한 비편향추정량의 크래며-라오 하한값을 구하시오"
   ]
  },
  {
   "cell_type": "markdown",
   "id": "94a56ff6-687b-4771-a7a8-da46dbb5ff16",
   "metadata": {},
   "source": [
    "$f(x|p)=p^x(1-p)^{1-x}, g(p)=p(1-p)$\n",
    "\n",
    "\n",
    "$I(p) = E\\left(\\left(\\dfrac{d}{dp}log f(x|p)\\right)^2 \\right)=E\\left(\\left(\\dfrac{d}{dp}[xlogp+(1-x)log(1-p)]\\right)^2 \\right)=E\\left(\\left(\\dfrac{x}{p}-\\dfrac{1-x}{1-p}\\right)^2\\right)=E\\left(\\left(\\dfrac{x-p}{p(1-p)}\\right)^2\\right)=\\dfrac{1}{p^2(1-p)^2}E((x-p)^2)$"
   ]
  },
  {
   "cell_type": "markdown",
   "id": "f4ba034a-be19-4017-9528-c23628df7177",
   "metadata": {},
   "source": [
    "$\\because E((x-p)^2)=Var$~$p(1-p)$"
   ]
  },
  {
   "cell_type": "markdown",
   "id": "52bac26c-b7a0-4a7d-a916-b3df76c9727a",
   "metadata": {},
   "source": [
    "$=\\dfrac{p(1-p)}{p^2(1-p)^2}=\\dfrac{1}{p(1-p)}$"
   ]
  },
  {
   "cell_type": "markdown",
   "id": "bee1989c-8219-4b3b-9527-1476dd31f953",
   "metadata": {},
   "source": [
    "$\\therefore CRLB = \\dfrac{g'(p))^2}{nI(p)}=\\dfrac{p(1-p)(1-2p)^2}{n}$"
   ]
  },
  {
   "cell_type": "markdown",
   "id": "26bfe0b0-1e44-4a4b-9351-b16bc00874cd",
   "metadata": {},
   "source": [
    "## (2)"
   ]
  },
  {
   "cell_type": "markdown",
   "id": "038f24e4-43cd-4a92-ae66-533e7ce8df8a",
   "metadata": {},
   "source": [
    "$X_1(1-X_2)$의 기댓값을 구하시오."
   ]
  },
  {
   "cell_type": "markdown",
   "id": "13a08088-4d77-4707-b53b-1e3c2cfdc768",
   "metadata": {},
   "source": [
    "$E(X_1-X_1X_2)=E(X_1)-E(X_1X_2)=E(X_1)-E(X_1)E(X_2)=p-p^2=p(1-p)$"
   ]
  },
  {
   "cell_type": "markdown",
   "id": "86ca3c8e-0ebb-4113-92f2-4dfdb0dd81e0",
   "metadata": {},
   "source": [
    "$X_1,X_2$는 서로 독립"
   ]
  },
  {
   "cell_type": "markdown",
   "id": "1b0b89e4-1f50-4283-8fa4-dcd2b09bbf45",
   "metadata": {},
   "source": [
    "## (3)"
   ]
  },
  {
   "cell_type": "markdown",
   "id": "7a5be13c-6717-452b-b5b9-bc3a32142dfc",
   "metadata": {},
   "source": [
    "$p(1-p)$에 대한 최소분산 비편향추정량을 구하시오."
   ]
  },
  {
   "cell_type": "markdown",
   "id": "04af480f-c278-419a-91e8-4d7a460f7a0b",
   "metadata": {},
   "source": [
    "책 226쪽 참고"
   ]
  },
  {
   "cell_type": "markdown",
   "id": "256fd985-bc10-4ad0-96f8-fc625f75cc0d",
   "metadata": {},
   "source": [
    "$f(x)=p^x(1-p)^{1-x}=(\\frac{p}{1-p})^x(1-p)=e^{xln(\\frac{p}{1-p})}(1-p)$로 나타내면"
   ]
  },
  {
   "cell_type": "markdown",
   "id": "ae33f974-57ab-45e0-b122-d9c46d854a66",
   "metadata": {},
   "source": [
    "$f(x)$는 지수족이고 책 226의 정리를 이용하면 완비충분 통게량이 보장된다."
   ]
  },
  {
   "cell_type": "markdown",
   "id": "809e076a-c275-40c5-99b8-363e268ff333",
   "metadata": {},
   "source": [
    "> **note**\n",
    ">\n",
    "> 지수족에 속하는 확률밀도함수 $f(x;\\theta)=a(\\theta)b(x)exp[\\sum_{i=1}^k c_i(\\theta)t_i(x)]$로부터의 랜덤표본을 얻으면, 통계량 $S_1=\\sum_{i=1}^n t_1(X_i), \\dots, S_k=\\sum_{i=1}^n t_k(X_i)$는 모수 $\\theta_1,\\dots,\\theta_k$에 대한 완비충분통계량이다.\n",
    ">\n",
    "> 위를 통해, $(S_1,\\dots,S_k)$의 함수로 만들어지는 $(\\theta_1,\\dots,\\theta_k)$의 비편향 추정량은 $(\\theta_1,\\dots,\\theta_k)$의 최소분산 비편향 추정량이다."
   ]
  },
  {
   "cell_type": "markdown",
   "id": "34554a83-5b23-4aeb-9b83-d254f9aaeb28",
   "metadata": {},
   "source": [
    "위 식에서 $t(x)=x$"
   ]
  },
  {
   "cell_type": "markdown",
   "id": "e680e82d-26c5-49d4-8395-bbea65c8271d",
   "metadata": {},
   "source": [
    "$E(\\bar X_n(1- \\bar(X_n))=E(\\bar X_n)-E(\\bar X_n^2)= p - (Var(\\bar X_n)+E(\\bar X_n)^2)=p-(\\frac{p(1-p)}{n}+p^2)=p(1-p)(1-\\frac{1}{n})=\\frac{p(1-p)(n-1)}{n}$"
   ]
  },
  {
   "cell_type": "markdown",
   "id": "ec9be6fd-129b-4f17-9808-d7567ec1e2d2",
   "metadata": {},
   "source": [
    "$\\dfrac{n\\bar X_n(1- \\bar X_n)}{n-1}$이 최소분산 추정량이 된다."
   ]
  },
  {
   "cell_type": "code",
   "execution_count": null,
   "id": "ec6c52ef-676c-476b-a0d6-940904bb238b",
   "metadata": {},
   "outputs": [],
   "source": []
  },
  {
   "cell_type": "code",
   "execution_count": null,
   "id": "8ed4fc19-7e75-49d9-b2f3-ecbe9286f50e",
   "metadata": {},
   "outputs": [],
   "source": []
  },
  {
   "cell_type": "code",
   "execution_count": null,
   "id": "40573719-d3e9-4184-a143-350ba17f0f38",
   "metadata": {},
   "outputs": [],
   "source": []
  },
  {
   "cell_type": "markdown",
   "id": "6303537e-d1f4-446a-8b31-7a0a83ed6daf",
   "metadata": {},
   "source": [
    "## (4)"
   ]
  },
  {
   "cell_type": "markdown",
   "id": "d2089ce8-2702-43c0-9602-bd45a736c9ab",
   "metadata": {},
   "source": [
    "$p(1-p)$에 대한 적률추정량을 구하시오."
   ]
  },
  {
   "cell_type": "markdown",
   "id": "1411541c-1378-433d-a35b-1e32bed13938",
   "metadata": {},
   "source": [
    "$M_1 = E(X) = p$\n",
    "\n",
    "$M_2 = E(X^2) = Var(X) + E(X)^2 = p(1-p)+p^2 = p$\n",
    "\n",
    "모적률 $m_k = M_2 - M_1^2 = p- p^2 = p(1-p)$"
   ]
  },
  {
   "cell_type": "code",
   "execution_count": null,
   "id": "980ee1b0-ece2-44e4-8ae6-de93cde37e78",
   "metadata": {},
   "outputs": [],
   "source": []
  },
  {
   "cell_type": "code",
   "execution_count": null,
   "id": "dab52004-fb25-4526-8a9b-ed2ec7e47f3b",
   "metadata": {},
   "outputs": [],
   "source": []
  },
  {
   "cell_type": "code",
   "execution_count": null,
   "id": "32818597-791b-446f-a6a4-47b298ff6d20",
   "metadata": {},
   "outputs": [],
   "source": []
  },
  {
   "cell_type": "markdown",
   "id": "8b3fb025-453e-4cae-9cec-9f171d695b58",
   "metadata": {},
   "source": [
    "## (5)"
   ]
  },
  {
   "cell_type": "markdown",
   "id": "0c7ec073-e736-454d-a501-66105bdd0f73",
   "metadata": {},
   "source": [
    "$p(1-p)$에 대한 최대가능도추정량을 구하시오."
   ]
  },
  {
   "cell_type": "markdown",
   "id": "3beb14b9-dc56-4704-941e-5f95f38ed041",
   "metadata": {},
   "source": [
    "$f(x;p)=p^x(1-p)^{1-x}$\n",
    "\n",
    "$L(p)=p^{\\sum_{i=1}^n x_i} (1-p)^{n-\\sum_{i=1}^nx_i}$\n",
    "\n",
    "$l(p) = \\sum_{i=1}^n x_i  log p + (n-\\sum_{i=1}^n x_i) log (1-p)$\n",
    "\n",
    "$\\dfrac{dl(p)}{dp} = \\dfrac{\\sum_{i=1}^n x_i}{p} - \\dfrac{n-\\sum_{i=1}^n x_i}{1-p}=0$\n",
    "\n",
    "$\\hat p = \\dfrac{\\sum_{i=1}^n x_i}{n}= \\bar X_n$"
   ]
  },
  {
   "cell_type": "markdown",
   "id": "944d377e-6afa-4dbc-8fbe-4e009caa0a44",
   "metadata": {},
   "source": [
    "$[\\hat p (1- \\hat p)]^{MLE} = \\bar X_n(1-\\bar X_n)$"
   ]
  },
  {
   "cell_type": "code",
   "execution_count": null,
   "id": "15a454ec-5ef6-4ae9-bb8b-f6089200b67b",
   "metadata": {},
   "outputs": [],
   "source": []
  },
  {
   "cell_type": "code",
   "execution_count": null,
   "id": "8b8cccd6-6d40-4325-aca0-6c39003df26e",
   "metadata": {},
   "outputs": [],
   "source": []
  },
  {
   "cell_type": "markdown",
   "id": "82761903-97c2-428a-929d-af020cd756ac",
   "metadata": {},
   "source": [
    "# 3번"
   ]
  },
  {
   "cell_type": "markdown",
   "id": "14a906e7-5561-448f-a837-cadf8754388e",
   "metadata": {},
   "source": [
    "$X_1,\\dots,X_n$은 확률밀도함수 $f(x;\\theta)=\\theta exp(-\\theta x) I(x>0)$를 따르는 모집단으로부터의 랜덤표본이라고 하자. 다음에 답하시오."
   ]
  },
  {
   "cell_type": "markdown",
   "id": "95f97b4a-a449-41ce-bbb5-c09c193d4a74",
   "metadata": {},
   "source": [
    "## (1)"
   ]
  },
  {
   "cell_type": "markdown",
   "id": "0c29a96b-9ddd-4c30-acd9-249ee6eeb85d",
   "metadata": {},
   "source": [
    "$\\theta$에 대한 적절한 추축변량을 구하고, 해당 추축변량의 분포를 명시하시오."
   ]
  },
  {
   "cell_type": "markdown",
   "id": "685fb962-63dc-4740-8fcc-b6c5c6fe6d8f",
   "metadata": {},
   "source": [
    "$X_1$ ~ $Exp(\\frac{1}{\\theta})$\n",
    "\n",
    "$2X_1 \\theta$ ~ $Exp(2)$ or $2X_1$ ~ $Gamma(1,2)$\n",
    "\n",
    "$2 \\sum_{i=1}^n X_i \\theta$ ~ $\\chi^2(2n)$\n",
    "\n",
    "$2n \\bar X \\theta$ ~ $\\chi^2(2n)$"
   ]
  },
  {
   "cell_type": "markdown",
   "id": "2f22169f-2f89-434c-8b80-09656aaf42a8",
   "metadata": {},
   "source": [
    "즉 추축변량은 $2n\\bar X \\theta$이고 해당 추축변량은 자유도가 2n인 카이제곱분포를 따른다."
   ]
  },
  {
   "cell_type": "code",
   "execution_count": null,
   "id": "e7652cdd-f8ae-4df1-b713-684c26a90048",
   "metadata": {},
   "outputs": [],
   "source": []
  },
  {
   "cell_type": "code",
   "execution_count": null,
   "id": "357a0e5d-eb42-4465-abee-cc913f8f3709",
   "metadata": {},
   "outputs": [],
   "source": []
  },
  {
   "cell_type": "markdown",
   "id": "79d65ab7-bbe7-42e1-9560-7cb2b9b40dee",
   "metadata": {},
   "source": [
    "## (2)"
   ]
  },
  {
   "cell_type": "markdown",
   "id": "132f421c-77ab-4270-85cf-11b6e4464cd8",
   "metadata": {},
   "source": [
    "$\\theta$에 대한 95% 신뢰구간을 구하시오."
   ]
  },
  {
   "cell_type": "markdown",
   "id": "9a9ca6bb-9387-4b40-a7e9-819c708d1dc9",
   "metadata": {},
   "source": [
    "<span style=\"color:red\"> $P(\\chi^2_{0.975}(2n) \\leq 2n\\bar X \\theta \\leq \\chi^2_{0.025}(2n)) = 0.95$"
   ]
  },
  {
   "cell_type": "markdown",
   "id": "929b748a-4c07-4cfd-9999-3545162bc855",
   "metadata": {},
   "source": [
    "$\\therefore \\theta_{0.95} Ci: (\\dfrac{\\chi^2_{0.975}(2n)}{2n\\bar X},\\dfrac{\\chi^2_{0.025}(2n)}{2n\\bar X})$"
   ]
  },
  {
   "cell_type": "code",
   "execution_count": null,
   "id": "c13355ca-af5e-4464-90e3-e05e88a0ca2e",
   "metadata": {},
   "outputs": [],
   "source": []
  },
  {
   "cell_type": "markdown",
   "id": "1d879c83-0e83-4ba2-8bc2-df88acf55710",
   "metadata": {},
   "source": [
    "## (3)"
   ]
  },
  {
   "cell_type": "markdown",
   "id": "6c17bbad-12e2-411d-8706-03d9ff2f31a8",
   "metadata": {},
   "source": [
    "$P(X>1)$에 대한 95% 신뢰구간을 구하시오."
   ]
  },
  {
   "cell_type": "markdown",
   "id": "48d0f501-d1e2-4d65-9376-05ee0d52b673",
   "metadata": {},
   "source": [
    "$P(X>1) = \\int_1^\\infty \\theta exp(-x \\theta) dx = [e^{-x \\theta}]_1^\\infty = e^{-\\theta}$"
   ]
  },
  {
   "cell_type": "markdown",
   "id": "17e007c1-e820-4805-bf91-44f369916840",
   "metadata": {},
   "source": [
    "$\\therefore P(X>1) CI: (e^{-\\dfrac{\\chi^2_{0.975}(2n)}{2n\\bar X}},e^{-\\dfrac{\\chi^2_{0.025}(2n)}{2n\\bar X}})$"
   ]
  },
  {
   "cell_type": "code",
   "execution_count": null,
   "id": "d0b22426-1cf9-46ef-a52b-79e8eb315d6d",
   "metadata": {},
   "outputs": [],
   "source": []
  },
  {
   "cell_type": "code",
   "execution_count": null,
   "id": "5ab0aa9e-6e1d-45e6-b34e-284311b305be",
   "metadata": {},
   "outputs": [],
   "source": []
  },
  {
   "cell_type": "code",
   "execution_count": null,
   "id": "9269db5a-4281-4ef6-bbcf-ad0f38f6cfcf",
   "metadata": {},
   "outputs": [],
   "source": []
  },
  {
   "cell_type": "code",
   "execution_count": null,
   "id": "2f08d3fa-c3f2-4902-9f88-a8731996a621",
   "metadata": {},
   "outputs": [],
   "source": []
  },
  {
   "cell_type": "code",
   "execution_count": null,
   "id": "5a58316d-0526-4964-be72-a529835b3eae",
   "metadata": {},
   "outputs": [],
   "source": []
  },
  {
   "cell_type": "code",
   "execution_count": null,
   "id": "abe7744e-1f75-4a84-a7d4-786913dd63ef",
   "metadata": {},
   "outputs": [],
   "source": []
  },
  {
   "cell_type": "code",
   "execution_count": null,
   "id": "e7a110b6-6400-42b3-9d99-f0e9614d52f5",
   "metadata": {},
   "outputs": [],
   "source": []
  }
 ],
 "metadata": {
  "kernelspec": {
   "display_name": "Python 3 (ipykernel)",
   "language": "python",
   "name": "python3"
  },
  "language_info": {
   "codemirror_mode": {
    "name": "ipython",
    "version": 3
   },
   "file_extension": ".py",
   "mimetype": "text/x-python",
   "name": "python",
   "nbconvert_exporter": "python",
   "pygments_lexer": "ipython3",
   "version": "3.8.16"
  }
 },
 "nbformat": 4,
 "nbformat_minor": 5
}
