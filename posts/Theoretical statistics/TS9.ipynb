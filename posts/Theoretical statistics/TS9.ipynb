{
 "cells": [
  {
   "cell_type": "raw",
   "id": "981a12e9-2960-407d-941d-15ccbcf02154",
   "metadata": {},
   "source": [
    "---\n",
    "title: \"TS HW9\"\n",
    "author: \"김보람\"\n",
    "date: \"06/10/2023\"\n",
    "categories:\n",
    "  - Theoretical statistics\n",
    "  - homework\n",
    "---"
   ]
  },
  {
   "cell_type": "markdown",
   "id": "55d8ac78-fcec-4e0a-ae5f-f1b0a9673c02",
   "metadata": {},
   "source": [
    "# 1번"
   ]
  },
  {
   "cell_type": "markdown",
   "id": "a7dc6178-8f1f-4677-bc63-6f79c4c6a820",
   "metadata": {},
   "source": [
    "$X_1,X_2,\\dots, X_n$이 $N(\\mu, \\sigma^2)$ (단 $\\mu$:unknown)로부터의 랜덤샘플일 때 다음 가설에 대한 가능도비 검정의 유의수준 $\\alpha$기각역을 구하시오.\n",
    "\n",
    "\n",
    "$$H_0: \\sigma^2 = \\sigma_0^2 \\ vs \\ H_1: \\sigma^2 \\neq \\sigma_0^2$$"
   ]
  },
  {
   "cell_type": "markdown",
   "id": "e65ace3d-20c0-4465-a097-958b03eed0b6",
   "metadata": {},
   "source": [
    "$(\\hat \\mu, \\hat \\sigma^2) = (\\bar X, \\frac{\\sum_{i=1}^n (X_i-\\bar X)^2}{n})$\n",
    "                              \n",
    "$(\\hat \\mu_0, \\hat \\sigma^2_0) = (\\bar X, \\sigma_0^2)$"
   ]
  },
  {
   "cell_type": "markdown",
   "id": "3ba54aab-0f74-43f6-83c0-eef165b7517e",
   "metadata": {},
   "source": [
    "$L(\\mu, \\sigma^2 |x)=\\Pi_{i=1}^n \\frac{1}{\\sqrt{2\\pi \\sigma^2}} e^{-\\frac{(X_i-\\mu)^2}{2\\sigma^2}}$"
   ]
  },
  {
   "cell_type": "markdown",
   "id": "04748dbe-3550-414d-89f4-cc83cc754451",
   "metadata": {},
   "source": [
    "$\\gamma(X)=\\dfrac{(\\frac{1}{2\\pi \\hat \\sigma_0^2})^{2/n} exp(-\\frac{\\sum_{i=1}^n(X_i-\\bar X)^2}{2\\hat \\sigma_0^2})}{(\\frac{1}{2\\pi\\hat \\sigma^2})^{2/n}exp(-\\frac{\\sum_{i=1}^n(X_i-\\bar X)^2}{2\\hat \\sigma^2})}$"
   ]
  },
  {
   "cell_type": "markdown",
   "id": "3f745708-db77-4784-ba2b-2b1316921712",
   "metadata": {},
   "source": [
    "$=(\\frac{\\hat \\sigma^2}{\\sigma_0^2})^{2/n}exp(-\\frac{\\sum_{i=1}^n (X_i-\\bar X)^2}{2\\sigma_0^2}+\\frac{n}{2})$\n",
    "\n",
    "\n",
    "$=(\\frac{\\hat \\sigma^2}{ \\sigma_0^2})^{2/n}exp((-\\frac{n}{2}) (\\frac{\\hat \\sigma^2}{\\sigma_0^2})+\\frac{n}{2})$"
   ]
  },
  {
   "cell_type": "markdown",
   "id": "4d2dcc02-48d1-4058-b0d2-3d05a135150e",
   "metadata": {},
   "source": [
    "$P(\\gamma(X) \\leq C |H_0) = \\alpha$ 를 찾자."
   ]
  },
  {
   "cell_type": "markdown",
   "id": "5380c249-a85f-4e17-9b14-bfbd9b91645f",
   "metadata": {},
   "source": [
    "$e^{n/2}$식은 상수이므로 곱해서 없애주면"
   ]
  },
  {
   "cell_type": "markdown",
   "id": "dc16d11a-e8ec-4dde-b446-26448a957c91",
   "metadata": {},
   "source": [
    "$(\\frac{\\hat \\sigma^2}{\\sigma_0^2})^{2/n} exp(-\\frac{\\hat \\sigma^2}{\\sigma_0^2}) \\leq C$"
   ]
  },
  {
   "cell_type": "markdown",
   "id": "ee4020fd-c28f-419f-a85e-d4fa854c23d9",
   "metadata": {},
   "source": [
    "$\\because \\frac{n\\hat \\sigma^2}{\\sigma_0^2} = \\frac{\\sum_{i=1}^n (X_i-\\bar X)^2}{\\sigma_0^2}$ ~ $\\chi^2(n-1))$"
   ]
  },
  {
   "cell_type": "markdown",
   "id": "160de943-9a84-48dc-894d-cff6d9e659c9",
   "metadata": {},
   "source": [
    "$\\rightarrow P((\\frac{n\\hat \\sigma^2}{\\sigma_0^2})^{2/n} exp(-\\frac{n\\hat \\sigma^2}{\\sigma_0^2}) \\leq C |H_0) = \\alpha$"
   ]
  },
  {
   "cell_type": "markdown",
   "id": "493b1e05-cb22-4293-983b-19de7c935921",
   "metadata": {},
   "source": [
    "$\\therefore \\dfrac{\\sum_{i=1}^n (X_i -\\bar X)^2}{\\sigma_0^2} \\geq \\chi^2_{\\alpha/2}(n-1)$ or $\\dfrac{\\sum_{i=1}^n (X_i -\\bar X)^2}{\\sigma_0^2} \\leq \\chi^2_{1-\\alpha/2}(n-1)$"
   ]
  },
  {
   "cell_type": "code",
   "execution_count": null,
   "id": "431040a4-16d2-4841-8c91-48a0854fba80",
   "metadata": {},
   "outputs": [],
   "source": []
  },
  {
   "cell_type": "code",
   "execution_count": null,
   "id": "3dc3717b-9101-471f-a961-c59dd232daf3",
   "metadata": {},
   "outputs": [],
   "source": []
  },
  {
   "cell_type": "code",
   "execution_count": null,
   "id": "3d2d60bb-2984-4107-ab89-91b12cd1f7ef",
   "metadata": {},
   "outputs": [],
   "source": []
  },
  {
   "cell_type": "code",
   "execution_count": null,
   "id": "c09d7df9-68d9-4150-be10-919bd5206724",
   "metadata": {},
   "outputs": [],
   "source": []
  },
  {
   "cell_type": "markdown",
   "id": "f8cd07c2-c751-42fb-a880-1c7795daca69",
   "metadata": {},
   "source": [
    "# 2번"
   ]
  },
  {
   "cell_type": "markdown",
   "id": "037c3bd7-6c99-4900-9c90-27828c56ce24",
   "metadata": {},
   "source": [
    "$X_k$ ~ $N(k\\theta. 1), k=1,2,\\dots,n$이고 서로 독립인 확률변수이다. 다음 가설에 대한 가능도비 검정의 유의수준 $\\alpha$ 기각역을 구하시오.\n",
    "\n",
    "\n",
    "$$H_0:\\theta=0 \\ vs \\ H_1: \\theta \\neq 0$$"
   ]
  },
  {
   "cell_type": "markdown",
   "id": "29cb6926-dce4-4012-89d9-c68a1c37f60e",
   "metadata": {},
   "source": [
    "위 확률변수는 평균이 다 다르므로 랜덤표본이 아니다."
   ]
  },
  {
   "cell_type": "markdown",
   "id": "e33b97ae-ac56-43ff-8123-09034e24701e",
   "metadata": {},
   "source": [
    "$L(\\theta: x_1, \\dots, x_n)= f(x_1,\\dots,x_n;\\theta)=\\Pi_{k=1}^n f_k (x_k ; \\theta) = \\Pi_{k=1}^n \\frac{1}{\\sqrt{2\\pi}} e^{-\\frac{(X_k-k\\theta)^2}{2}}=(\\frac{1}{2\\pi})^{n/2}e^{-\\frac{\\sum_{i=1}^n(X_k-k\\theta)^2}{2}}$"
   ]
  },
  {
   "cell_type": "markdown",
   "id": "4f53d9e2-5e10-464b-941c-61b0723c0aa0",
   "metadata": {},
   "source": [
    "$h: \\{ \\theta : -\\infty < \\theta < \\infty \\}$\n",
    "\n",
    "$h_0: \\{ \\theta : \\theta=0 \\}$"
   ]
  },
  {
   "cell_type": "markdown",
   "id": "889a4f5b-71b7-4846-b3d7-6a7c2566fb17",
   "metadata": {},
   "source": [
    "$l(\\theta)=\\frac{n}{2}log 2\\pi - \\frac{\\sum_{k=1}^n (X_k - k\\theta)^2}{2}$"
   ]
  },
  {
   "cell_type": "markdown",
   "id": "08d7e839-6005-443d-888e-c40c5264c615",
   "metadata": {},
   "source": [
    "$l'(\\theta) = \\sum_{k=1}^n k(X_k - k\\theta) = 0$"
   ]
  },
  {
   "cell_type": "markdown",
   "id": "0de35a7b-8128-41e7-8605-1e4c4870eda6",
   "metadata": {},
   "source": [
    "$\\hat \\theta^{MLE} = \\dfrac{\\sum_{k=1}^n kX_k}{\\sum_{k=1}^n k^2}$"
   ]
  },
  {
   "cell_type": "markdown",
   "id": "0c2f20f6-a40f-4f9a-b7ed-90a3027e7f65",
   "metadata": {},
   "source": [
    "$\\gamma(X) = \\dfrac{(\\frac{1}{2\\pi})^{2/n} e^{-\\frac{\\sum_{k=1}^n (X_k)^2}{2}}}{(\\frac{1}{2\\pi})^{2/n} e^{-\\frac{\\sum_{k=1}^n (X_k-k\\hat \\theta^{MLE})^2}{2}}}$"
   ]
  },
  {
   "cell_type": "markdown",
   "id": "23d1090a-25b6-41a6-8f15-74bcd36ccdde",
   "metadata": {},
   "source": [
    "$=e^{-\\frac{\\sum X_k^2}{2}+\\frac{\\sum(X_k-k\\hat \\theta^{MLE})^2}{2}}$"
   ]
  },
  {
   "cell_type": "markdown",
   "id": "2bfa3ab9-e096-4fe0-83ed-cbfb01c37336",
   "metadata": {},
   "source": [
    "$=exp(-(\\sum kX_k) \\frac{\\sum kX_k}{\\sum k^2} + \\frac{1}{2}\\sum k^2 \\frac{(\\sum kX_k)^2}{(\\sum k^2)^2})$"
   ]
  },
  {
   "cell_type": "markdown",
   "id": "7a1a867e-e20b-4403-af80-bd65fb867110",
   "metadata": {},
   "source": [
    "$=exp(-\\dfrac{(\\sum kX_k)^2}{2\\sum k^2}) \\leq C$"
   ]
  },
  {
   "cell_type": "markdown",
   "id": "e32d0908-39e8-492c-886a-addefb0a162e",
   "metadata": {},
   "source": [
    "위 식에서 log를 취하면\n",
    "\n",
    "$\\dfrac{(\\sum kX_k)^2}{\\sum k^2} \\geq C$"
   ]
  },
  {
   "cell_type": "markdown",
   "id": "124c5ecf-3126-4132-a8f6-5f7fe1c80380",
   "metadata": {},
   "source": [
    "$kX_k$ ~ $N(k^2 \\theta, k^2)$\n",
    "\n",
    "$\\sum_{k=1}^n k X_k$ ~ $N(\\sum_{k=1}^n k^2 \\theta, \\sum_{k=1}^n k^2)$"
   ]
  },
  {
   "cell_type": "markdown",
   "id": "0125f755-4fa6-47fd-a571-6d03e573f40a",
   "metadata": {},
   "source": [
    "under $H_0$,\n",
    "\n",
    "$\\sum_{k=1}^n k X_k$ ~ $N(0,\\sum_{k=1}^n k^2)$\n",
    "\n",
    "표준화하면,\n",
    "\n",
    "$\\dfrac{\\sum_{k=1}^n k X_k - 0}{\\sqrt{\\sum_{k=1}^n k^2}}$ ~ $N(0,1)$\n",
    "\n",
    "제곱하면,\n",
    "\n",
    "$\\dfrac{(\\sum_{k=1}^n k X_k)^2}{\\sum_{k=1}^n k^2}$ ~ $\\chi^2(1)$"
   ]
  },
  {
   "cell_type": "markdown",
   "id": "c1c7c01c-5650-4b83-b189-86ec610a25c8",
   "metadata": {},
   "source": [
    "즉,\n",
    "\n",
    "$P \\{ (X_1, \\dots, X_n): \\dfrac{(\\sum_{k=1}^n kX_k)^2}{\\sum_{k=1}^n k^2} \\geq C \\} (\\theta_0)=\\alpha$"
   ]
  },
  {
   "cell_type": "markdown",
   "id": "c19fb44f-2edd-414e-85df-18d20f172663",
   "metadata": {},
   "source": [
    "$\\dfrac{(\\sum_{k=1}^n kX_k)^2}{\\sum_{k=1}^n k^2} \\geq \\chi^2_\\alpha(1)$"
   ]
  },
  {
   "cell_type": "code",
   "execution_count": null,
   "id": "8a588f6c-b3fb-498f-9dd6-02c2639f228b",
   "metadata": {},
   "outputs": [],
   "source": []
  }
 ],
 "metadata": {
  "kernelspec": {
   "display_name": "Python 3 (ipykernel)",
   "language": "python",
   "name": "python3"
  },
  "language_info": {
   "codemirror_mode": {
    "name": "ipython",
    "version": 3
   },
   "file_extension": ".py",
   "mimetype": "text/x-python",
   "name": "python",
   "nbconvert_exporter": "python",
   "pygments_lexer": "ipython3",
   "version": "3.8.16"
  }
 },
 "nbformat": 4,
 "nbformat_minor": 5
}
