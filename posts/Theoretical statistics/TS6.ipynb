{
 "cells": [
  {
   "cell_type": "raw",
   "id": "c4661d3d-55bb-480b-86fb-31cda665f164",
   "metadata": {},
   "source": [
    "---\n",
    "title: \"TS HW6\"\n",
    "author: \"김보람\"\n",
    "date: \"05/02/2023\"\n",
    "categories:\n",
    "  - Theoretical statistics\n",
    "  - homework\n",
    "---"
   ]
  },
  {
   "cell_type": "markdown",
   "id": "2c1f9d02-bda5-4e9e-a524-c8d1eea7fb77",
   "metadata": {},
   "source": [
    "# 1번"
   ]
  },
  {
   "cell_type": "markdown",
   "id": "7d2dbde6-4b87-4478-adae-3c936cb4f55d",
   "metadata": {},
   "source": [
    "## (a)"
   ]
  },
  {
   "cell_type": "markdown",
   "id": "eae0ce8a-04e5-46d0-b77c-f2f0758c9520",
   "metadata": {},
   "source": [
    "사건 A와 B가 상호배반일 때 $P(A|A ∪ B) = \\dfrac{P(A)}{P(A) + P(B)}$임을 보이시오"
   ]
  },
  {
   "cell_type": "markdown",
   "id": "b593f7ed-e8d5-4475-b3cd-4bed48676c37",
   "metadata": {},
   "source": [
    "상호배반이라는 것은 $P(A \\cap B)=\\emptyset$이므로,\n",
    "$P(A|A\\cup B)=\\dfrac{P(A)\\cap P(A \\cup B)}{P(A \\cup B)  }=\\dfrac{P(A)}{P(A)+P(B)}$"
   ]
  },
  {
   "cell_type": "markdown",
   "id": "29fa6bb8-6c89-4163-a552-53b6c00b996d",
   "metadata": {},
   "source": [
    "## (b)"
   ]
  },
  {
   "cell_type": "markdown",
   "id": "e101f5f4-7eba-4c6e-ad8d-036cfd25ae42",
   "metadata": {},
   "source": [
    "$A ∪ B = S$이고 $P(A) = 0.8, P(B) = 0.5$일 때 $P(A ∩ B)$를 구하시오."
   ]
  },
  {
   "cell_type": "markdown",
   "id": "ab2f0c18-85e8-41a0-84bd-afd89ddbf1ed",
   "metadata": {},
   "source": [
    "$P(A \\cup B) = P(S) = 1 = P(A) + P(B) - P(A \\cap B)$\n",
    "\n",
    "$P(A \\cap B) = 0.3$"
   ]
  },
  {
   "cell_type": "markdown",
   "id": "592f62b1-5654-43d1-bd0b-0a6d748f73c8",
   "metadata": {},
   "source": [
    "## (c)"
   ]
  },
  {
   "cell_type": "markdown",
   "id": "69db95b7-78d3-43c6-ab1c-d705bc3c4933",
   "metadata": {},
   "source": [
    "$P(A|B) = P(A|B^c)$이면 사건 A와 B는 서로 독립임을 보이시오."
   ]
  },
  {
   "cell_type": "markdown",
   "id": "3ddc638b-b0bb-4c49-aa96-cdfff10ed952",
   "metadata": {},
   "source": [
    "좌변 $P(A|B) = \\dfrac{P(A) \\cap P(B)}{P(B)}$ 이고\n",
    "\n",
    "우변 $P(A|B^c) = \\dfrac{P(A)}{P(A \\cap B^C}$"
   ]
  },
  {
   "cell_type": "markdown",
   "id": "bd0c1dcd-3281-47a9-afbf-d85fa5d5865e",
   "metadata": {},
   "source": [
    "# 2번"
   ]
  },
  {
   "cell_type": "markdown",
   "id": "10dfcb7a-2b75-4b62-9e11-f2ac4fc508a3",
   "metadata": {},
   "source": [
    "앞면이 나올 확률이 $0.2$인 동전을 두 번 앞 면이 나올 때까지 던지는 실험을 하고 있다. 이 실험에서 뒷면이 나온 횟수를 $X$라고 하자. 다음에 답하시오."
   ]
  },
  {
   "cell_type": "markdown",
   "id": "bcfd3630-7300-46f0-9354-5f615a76281e",
   "metadata": {},
   "source": [
    "## (a)"
   ]
  },
  {
   "cell_type": "markdown",
   "id": "fd75b55e-e05a-4fcd-b36b-21c8a84a0cc8",
   "metadata": {},
   "source": [
    "$X$가 $1$의 값을 가지는 사건을 실험 결과들의 집합으로 기술하시오. (단, 앞면은 $H$, 뒷면은 $T$로 나타내시오.)\n"
   ]
  },
  {
   "cell_type": "markdown",
   "id": "609e8196-c519-40e4-8e2b-6528b93cc38b",
   "metadata": {},
   "source": [
    "## (b)"
   ]
  },
  {
   "cell_type": "markdown",
   "id": "3ca874b6-c9c1-4666-bbc9-7fcaee4a9ffc",
   "metadata": {},
   "source": [
    "$X$의 확률밀도함수 $f_X(x)$를 구하시오. (주의: $x$의 범위도 구체적으로 기술 )"
   ]
  },
  {
   "cell_type": "markdown",
   "id": "03ba51dd-0c44-4f2d-afd3-9eba86e8f5cd",
   "metadata": {},
   "source": [
    "# 3번"
   ]
  },
  {
   "cell_type": "markdown",
   "id": "4e4018b8-3184-4323-a237-2c4dc5340fb1",
   "metadata": {},
   "source": [
    "서로 독립인 확률변수 $Y_1, Y_2, Y_3$의 평균과 분산은 다음과 같다고 한다.\n",
    "\n",
    "$$E(Y_k) = −2 + k, Var(Y_k) = 4, k = 1, 2, 3$$"
   ]
  },
  {
   "cell_type": "markdown",
   "id": "fdd8e4f6-e63d-4145-b063-0116c9fbaf87",
   "metadata": {},
   "source": [
    "## (a)"
   ]
  },
  {
   "cell_type": "markdown",
   "id": "8eceed44-71a1-4372-8f86-ff15f33bec72",
   "metadata": {},
   "source": [
    "$E[(Y_2)^2]$을 구하시오."
   ]
  },
  {
   "cell_type": "markdown",
   "id": "f5fcfcbb-9c87-4068-bea0-0198567bc78b",
   "metadata": {},
   "source": [
    "## (b)"
   ]
  },
  {
   "cell_type": "markdown",
   "id": "2bb423c7-260c-42ae-b90d-b92c6deb4510",
   "metadata": {},
   "source": [
    "$Y_1 + 2Y_2 − Y_3$의 기대값과 분산을 구하시오."
   ]
  },
  {
   "cell_type": "markdown",
   "id": "d580c2ff-2faa-42e6-a347-6420ea453e5c",
   "metadata": {},
   "source": [
    "## (c)"
   ]
  },
  {
   "cell_type": "markdown",
   "id": "f37d8035-56f0-484b-b626-a95232202bc0",
   "metadata": {},
   "source": [
    "$Corr(Y_1 + Y_2, Y_1 − Y_2)$을 구하고, 그 값을 해석하시오."
   ]
  },
  {
   "cell_type": "markdown",
   "id": "3c329074-f341-4bea-ad5d-d03ac0d53719",
   "metadata": {},
   "source": [
    "# 4번"
   ]
  },
  {
   "cell_type": "markdown",
   "id": "2b53c2b5-7ebe-4d98-a5fd-2c11f5d239f5",
   "metadata": {},
   "source": [
    "두 확률변수 $X, Y$의 결합 확률밀도함수가 $f_{X,Y}(x, y) = 24xyI(0 < x < 1, 0 < y < 1 − x)$일 때, $P(Y < X, Y < 1/4)$을 구하시오."
   ]
  },
  {
   "cell_type": "markdown",
   "id": "698867a3-395d-4e01-ae74-f1bf45709e17",
   "metadata": {},
   "source": [
    "# 5번"
   ]
  },
  {
   "cell_type": "markdown",
   "id": "f1b13da6-3f10-4e66-bc21-45ae833620f8",
   "metadata": {},
   "source": [
    "두 확률변수 $X$와 $Y$의 결합확률밀도함수가 $f_{X,Y}(x, y) = 2e{−(x+y)}I(0 < x < y, y > 0)$으로 주어져 있다."
   ]
  },
  {
   "cell_type": "markdown",
   "id": "e6a58927-77bb-4405-8c9c-5654f9b9fed9",
   "metadata": {},
   "source": [
    "## (a)"
   ]
  },
  {
   "cell_type": "markdown",
   "id": "3c16e577-10e9-4c01-9c3e-57143fe8245f",
   "metadata": {},
   "source": [
    "$X$의 주변확률밀도함수 $f_X(x)$를 구하시오. (주의 : $x$의 범위도 명확히 기술)"
   ]
  },
  {
   "cell_type": "markdown",
   "id": "998d7617-98d2-49ba-ad9e-265ec0f26282",
   "metadata": {},
   "source": [
    "## (b)"
   ]
  },
  {
   "cell_type": "markdown",
   "id": "fb65c587-97b8-4002-9b1b-eccdfa0e3d1c",
   "metadata": {},
   "source": [
    "$E(X)$를 구하시오."
   ]
  },
  {
   "cell_type": "markdown",
   "id": "28df2936-10cf-41c0-b92d-974cc6cc1532",
   "metadata": {},
   "source": [
    "## (c)"
   ]
  },
  {
   "cell_type": "markdown",
   "id": "10d17fab-8ab9-4ff7-868e-b43d8ebeafb0",
   "metadata": {},
   "source": [
    "$Var(Y|X=2)$을 구하시오."
   ]
  },
  {
   "cell_type": "markdown",
   "id": "821b473e-2405-4328-80a0-30a2e8ac8abb",
   "metadata": {},
   "source": [
    "# 6번"
   ]
  },
  {
   "cell_type": "markdown",
   "id": "dca81bc1-c8ce-41a5-8b1d-05e2c5c3429d",
   "metadata": {},
   "source": [
    "서로 독립인 두 확률변수 $X$와 $Y$의 적률생성함수가 각각 다음과 같을 때 $E(X^2Y)$를 구하시오."
   ]
  },
  {
   "cell_type": "markdown",
   "id": "92dcda2d-4748-47a5-a1a7-11f6d77e7010",
   "metadata": {},
   "source": [
    "$$M_X(t) = \\dfrac{1}{1 − 2t},  M_Y(t) = \\dfrac{1}{1 − 4t + 4t^2}$$"
   ]
  },
  {
   "cell_type": "markdown",
   "id": "63f4420c-f918-4d53-a5c4-adfea3ca5c39",
   "metadata": {},
   "source": [
    "# 7번"
   ]
  },
  {
   "cell_type": "markdown",
   "id": "3df4faf9-8c2e-4255-be5c-86b1bcd5ef3d",
   "metadata": {},
   "source": [
    "$X_1, X_2, . . . , X_5$은 서로 독립이고 ‘성공’ 확률이 $p$인 베르누이 분포를 따른다고 하자. 다음을 구하시오."
   ]
  },
  {
   "cell_type": "markdown",
   "id": "baaa8523-d710-4dc6-8992-b3c3c4d117e9",
   "metadata": {},
   "source": [
    "## (a)"
   ]
  },
  {
   "cell_type": "markdown",
   "id": "96243e88-b8a8-46ac-9342-f9a1a35727a5",
   "metadata": {},
   "source": [
    "$X_1$의 적률생성함수\n"
   ]
  },
  {
   "cell_type": "markdown",
   "id": "5bcd6e74-04c1-4eee-96b0-7aff85422016",
   "metadata": {},
   "source": [
    "## (b)"
   ]
  },
  {
   "cell_type": "markdown",
   "id": "c3eb67f1-05da-430c-a73b-cba8e37a1b89",
   "metadata": {},
   "source": [
    "$P(X_1 + X_2 + · · · + X_5 ≥ 2)$"
   ]
  },
  {
   "cell_type": "markdown",
   "id": "a7cd439a-a7a4-4d32-bc7c-6fdf226d149c",
   "metadata": {},
   "source": [
    "## (c)"
   ]
  },
  {
   "cell_type": "markdown",
   "id": "6707e337-b50b-41f5-b15e-e051a1b523f3",
   "metadata": {},
   "source": [
    "$E(X_1|X_1 + X_2 + · · · + X_5 = 3)$"
   ]
  },
  {
   "cell_type": "markdown",
   "id": "cbbc1ea8-5a7c-4b06-9944-8d7f2bb490d7",
   "metadata": {},
   "source": [
    "# 8번"
   ]
  },
  {
   "cell_type": "markdown",
   "id": "fb51077a-7757-4954-9041-119ce0be65cf",
   "metadata": {},
   "source": [
    "\n",
    "$X_1,X_2,\\dots,X_n$이 $U(0,\\theta)$로부터의 랜덤표본이라고 할 때, 다음을 구하시오."
   ]
  },
  {
   "cell_type": "markdown",
   "id": "a6c8beb7-59eb-447c-9dee-9226be8221b0",
   "metadata": {},
   "source": [
    "## (1)"
   ]
  },
  {
   "cell_type": "markdown",
   "id": "665d451a-bf0f-41c9-885a-dc8324ed7649",
   "metadata": {},
   "source": [
    "$X_{(1)}$과 $X_{(n)}$의 결합확률밀도함수"
   ]
  },
  {
   "cell_type": "markdown",
   "id": "37ffcde8-55aa-4d7c-98db-8a582550805b",
   "metadata": {},
   "source": [
    "## (2)"
   ]
  },
  {
   "cell_type": "markdown",
   "id": "09bfb373-2198-4a10-b141-a14b8ad590b3",
   "metadata": {},
   "source": [
    "표본범위 $X_{(n)} - X_{(1)}$의 확률밀도함수"
   ]
  },
  {
   "cell_type": "markdown",
   "id": "deffd7d3-f99b-427d-aeb9-3bed9c89cc74",
   "metadata": {},
   "source": [
    "# 9번"
   ]
  },
  {
   "cell_type": "markdown",
   "id": "b5cb5703-8d4d-4c0f-8b70-57db2483a0fa",
   "metadata": {},
   "source": [
    "$X_1,X_2,\\dots,X_n$이 $EXP(\\lambda)$, 즉 $f(x) = \\lambda e^{-\\lambda x}I(x>0)$로부터의 랜덤표본이라고 할 때, 다음을 구하시오."
   ]
  },
  {
   "cell_type": "markdown",
   "id": "f60ced75-af6c-49a6-9ef2-fd8ec2825dfc",
   "metadata": {},
   "source": [
    "## (1)"
   ]
  },
  {
   "cell_type": "markdown",
   "id": "26da26cc-6edb-4c06-831f-bd36dad33542",
   "metadata": {},
   "source": [
    "$X_{(1)}$의 확률밀도함수"
   ]
  },
  {
   "cell_type": "markdown",
   "id": "b334c4b9-7e32-42e6-baa4-887283ef87fe",
   "metadata": {},
   "source": [
    "## (2)"
   ]
  },
  {
   "cell_type": "markdown",
   "id": "2763e26c-bbac-4c7a-accf-c7e16ac4c471",
   "metadata": {},
   "source": [
    "$X_{(n)}$의 확률밀도함수"
   ]
  },
  {
   "cell_type": "markdown",
   "id": "65567900-6b4f-43f5-a623-55e7c467a691",
   "metadata": {},
   "source": [
    "## (3)"
   ]
  },
  {
   "cell_type": "markdown",
   "id": "77320c9a-34b8-4c07-8105-2ae2fb14f823",
   "metadata": {},
   "source": [
    "$n=2r+1$이라고 가정하고, 표본중위수 $X_{(r)}$의 확률밀도함수"
   ]
  },
  {
   "cell_type": "code",
   "execution_count": null,
   "id": "f3c602a0-cd1f-43df-a4f6-078236e6c442",
   "metadata": {},
   "outputs": [],
   "source": []
  }
 ],
 "metadata": {
  "kernelspec": {
   "display_name": "Python 3 (ipykernel)",
   "language": "python",
   "name": "python3"
  },
  "language_info": {
   "codemirror_mode": {
    "name": "ipython",
    "version": 3
   },
   "file_extension": ".py",
   "mimetype": "text/x-python",
   "name": "python",
   "nbconvert_exporter": "python",
   "pygments_lexer": "ipython3",
   "version": "3.8.16"
  }
 },
 "nbformat": 4,
 "nbformat_minor": 5
}
