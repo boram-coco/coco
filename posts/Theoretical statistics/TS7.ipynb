{
 "cells": [
  {
   "cell_type": "raw",
   "id": "ee0c3e45-06fd-43b0-b873-71c9bec8c1c9",
   "metadata": {},
   "source": [
    "---\n",
    "title: \"TS HW7\"\n",
    "author: \"김보람\"\n",
    "date: \"05/19/2023\"\n",
    "categories:\n",
    "  - Theoretical statistics\n",
    "  - homework\n",
    "---"
   ]
  },
  {
   "cell_type": "markdown",
   "id": "1cbe9d2c-cd02-4889-905b-e21579aea5aa",
   "metadata": {},
   "source": [
    "# 1번. 다음을 증명하시오."
   ]
  },
  {
   "cell_type": "markdown",
   "id": "2e8c6573-ea5c-4204-8a7e-9d07c2ccf98b",
   "metadata": {},
   "source": [
    "## (1) "
   ]
  },
  {
   "cell_type": "markdown",
   "id": "719497bf-68e5-4093-b17d-d911429c6043",
   "metadata": {},
   "source": [
    "$Z$ ~ $N(0,1)$이면 $Z^2$ ~ $\\chi_1^2$이다."
   ]
  },
  {
   "cell_type": "markdown",
   "id": "7d935c77-a7cd-43c1-aa60-0d6d5db3de21",
   "metadata": {},
   "source": [
    "$Y=Z^2$\n",
    "\n",
    "$F_Y(y) = P(Y \\leq y) = P(Z^2 \\leq y)=P(-\\sqrt{y} \\leq Z \\leq \\sqrt{y})=\\Phi(\\sqrt{y})-\\Phi(-\\sqrt{y})$\n",
    "\n",
    "$f_Y(y) = \\dfrac{d}{dy}F_Y(y) = \\Phi(\\sqrt{y})\\dfrac{1}{2\\sqrt{y}}-\\Phi(-\\sqrt{y}) \\left(-\\dfrac{1}{2\\sqrt{y}} \\right)=\\dfrac{1}{\\sqrt{2\\pi}}e^{-2/y} \\dfrac{1}{\\sqrt{y}}=\\dfrac{1}{\\Gamma{(1/2)}2^{1/2}}y^{-1/2}e^{-2/y}$\n",
    "\n",
    "즉, $r=1$인 카이제곱 분포를 따른다."
   ]
  },
  {
   "cell_type": "markdown",
   "id": "4a0fd7a0-d1e7-4a27-bbb1-e9cca9f050a1",
   "metadata": {},
   "source": [
    "## (2)"
   ]
  },
  {
   "cell_type": "markdown",
   "id": "9ab8170c-c708-48ba-bf8b-422863f4668e",
   "metadata": {},
   "source": [
    "랜덤표본 $X_1, \\dots, X_n$에 대하여 $Cov(\\bar X_n, X_k - \\bar X_n)=0$"
   ]
  },
  {
   "cell_type": "markdown",
   "id": "4436cae0-d054-4716-86ea-546e5093ac4f",
   "metadata": {},
   "source": [
    "$Cov(\\bar X, X_k-\\bar X) = Cov(\\bar X, X_k) - Cov(\\bar X, \\bar X) = Cov(\\bar X, X_k) - Var(\\bar X)$\n",
    "\n",
    "$Cov(\\bar X, X_k) = Cov(\\frac{1}{n}X_1+\\dots+\\frac{1}{n}X_n, X_k)=\\frac{1}{n}Cov(X_1,X_k)+\\dots+\\frac{1}{n}Cov(X_n,X_k)=\\frac{1}{n}Cov(X_k,X_k)=\\frac{1}{n}Var(X_k)=\\frac{1}{n} \\sigma^2$\n",
    "\n",
    "$\\because Cov(X_i, X_k)$ 는 서로 독립이므로 $Cov(X_i, X_k)=0$ (단 $i \\neq k$)\n",
    "\n",
    "$\\therefore Cov(\\bar X, X_k-\\bar X)= Cov(\\bar X, X_k) - Var(\\bar X) = \\frac{1}{n} \\sigma^2 - \\frac{1}{n} \\sigma^2 = 0$"
   ]
  },
  {
   "cell_type": "markdown",
   "id": "ef77e906-5aee-44d1-8106-fbf329edbd62",
   "metadata": {},
   "source": [
    "## 2번"
   ]
  },
  {
   "cell_type": "markdown",
   "id": "9aa4288c-d420-44f5-a910-c28c6c83469c",
   "metadata": {},
   "source": [
    "$GAM(\\alpha, \\beta)$분포로부터의 랜덤표본 $X_1, \\dots, X_n$에 대하여 $\\bar X_n$의 분포를 구하시오."
   ]
  },
  {
   "cell_type": "markdown",
   "id": "b44de19f-76ee-4af1-ae23-dd424d640ae0",
   "metadata": {},
   "source": [
    "$\\bar X_n = \\sum_{i=1}^n X_i/n$"
   ]
  },
  {
   "cell_type": "markdown",
   "id": "dfe72594-bba6-4119-9330-d3d8d7b8a2af",
   "metadata": {},
   "source": [
    "$E(\\bar X_n)=\\dfrac{1}{n} n \\alpha \\beta=\\alpha \\beta$, $Var(\\bar X_n)=\\dfrac{1}{n^2} n\\alpha \\beta^2=\\dfrac{1}{n} \\alpha \\beta^2$"
   ]
  },
  {
   "cell_type": "markdown",
   "id": "3ed16590-fae2-4ac7-99c8-ddc8360e2274",
   "metadata": {},
   "source": [
    "$\\bar X_n$ ~ $GAM\\left( \\alpha \\beta, \\dfrac{1}{n} \\alpha \\beta^2 \\right)$"
   ]
  },
  {
   "cell_type": "markdown",
   "id": "4a93ad32-8480-4851-8cc9-d9f2cad4d87c",
   "metadata": {},
   "source": [
    "# 3번"
   ]
  },
  {
   "cell_type": "markdown",
   "id": "4d063bef-9d76-4e02-a0c2-65df89799778",
   "metadata": {},
   "source": [
    "$N(\\mu, \\sigma^2)$분포로부터의 랜덤표본 Suppose that $X_1, \\dots, X_n$에 대하여 $\\sum_{i=1}^n(X_i-\\bar X_n)^2/n$의 분산을 구하시오"
   ]
  },
  {
   "cell_type": "markdown",
   "id": "443e3f46-fd5c-46d5-9c69-25b4634f9f5b",
   "metadata": {},
   "source": [
    "$S_n^2 = \\dfrac{\\sum_{i=1}^n (X_i-\\bar X_n)^2}{(n-1)}$\n",
    "\n",
    "$\\dfrac{(n-1)S_n^2}{\\sigma^2} = \\dfrac{\\sum_{i=1}^n(X_i-\\bar X)^2}{\\sigma^2}$ ~ $\\chi_{n-1}^2$"
   ]
  },
  {
   "cell_type": "markdown",
   "id": "aeb12601-c4a6-4ca8-b444-1275d77e2fb2",
   "metadata": {},
   "source": [
    "$Var \\left( \\dfrac{\\sum_{i=1}^n(X_i-\\bar X)^2}{n} \\right) = Var \\left( \\dfrac{\\sum_{i=1}^n(X_i-\\bar X)^2}{\\sigma^2} \\dfrac{\\sigma^2}{n} \\right) =  \\dfrac{\\sigma^4}{n^2} Var \\left( \\dfrac{\\sum_{i=1}^n(X_i-\\bar X)^2}{\\sigma^2} \\right)=\\dfrac{2\\sigma^4(n-1)}{n^2}$"
   ]
  },
  {
   "cell_type": "markdown",
   "id": "0677595a-a845-40e4-a2d8-1f9086f2c5f8",
   "metadata": {},
   "source": [
    "# 4번"
   ]
  },
  {
   "cell_type": "markdown",
   "id": "b1d75ccd-1db2-42a6-8a33-10611641ccd1",
   "metadata": {},
   "source": [
    "$X_1,\\dots,X_{16}$과 $Y_1,\\dots,Y_{25}$은 각각 $N(0,9)$와 $N(2,16)$로부터의 서로 독립인 랜덤표본이라고 할 때"
   ]
  },
  {
   "cell_type": "markdown",
   "id": "299ddffe-6b82-48a2-b5f2-ebf58b63dd32",
   "metadata": {},
   "source": [
    "## (1)"
   ]
  },
  {
   "cell_type": "markdown",
   "id": "90e60588-10a4-4c54-8577-494bbc1df753",
   "metadata": {},
   "source": [
    "$\\bar X_{16} - \\bar Y_{25}$의 분포를 구하시오."
   ]
  },
  {
   "cell_type": "markdown",
   "id": "e2c6aea2-214a-4f7d-a0bc-b63d6f3d7d2d",
   "metadata": {},
   "source": [
    "$E(\\bar X_{16} - \\bar Y_{25}) = E(\\bar X_{16}) - E(\\bar Y_{25}) = 0-2 = -2$\n",
    "\n",
    "$Var(\\bar X_{16} - \\bar Y_{25}) = Var(\\bar X_{16})+Var( \\bar Y_{25}) = \\dfrac{9}{16}+\\dfrac{16}{25}=\\dfrac{481}{400}$\n",
    "\n",
    "$\\bar X_{16} - \\bar Y_{25}$ ~ $N(-2,\\dfrac{481}{400})$"
   ]
  },
  {
   "cell_type": "markdown",
   "id": "22dd8e01-dee2-4bd3-b0d0-3b40e9f4395f",
   "metadata": {},
   "source": [
    "## (2)"
   ]
  },
  {
   "cell_type": "markdown",
   "id": "ac734ce2-8259-42b4-8aa2-6455e5f1227a",
   "metadata": {},
   "source": [
    "$\\dfrac{24\\sum_{i=1}^{16} X_i^2}{9 \\sum_{i=1}^{25}(Y_i-\\bar Y)^2}$"
   ]
  },
  {
   "cell_type": "markdown",
   "id": "fdb1034e-7223-4b04-8a89-fb412ad03119",
   "metadata": {},
   "source": [
    "$U=\\left( \\sum_{i=1}^{16}\\dfrac{X_i-0}{3} \\right)^2$ ~ $\\chi_{16}^2$"
   ]
  },
  {
   "cell_type": "markdown",
   "id": "c406c02e-f055-44be-a9ce-0829731b8cdd",
   "metadata": {},
   "source": [
    "$S_{25}^2=\\dfrac{\\sum_{i=1}^{25}(Y_i-\\bar Y)^2}{24}$\n",
    "\n",
    "$V=\\dfrac{24S_{25}^2}{16}$ ~ $\\chi_{24}^2$\n",
    "\n",
    "$\\sum_{i=1}^{25}(Y_i-\\bar Y)^2 = 24 S_{25}^2$"
   ]
  },
  {
   "cell_type": "markdown",
   "id": "ecc6a6b9-fd68-436c-a1d2-996685789fa2",
   "metadata": {},
   "source": [
    "$\\dfrac{24\\sum_{i=1}^{16} X_i^2}{9 \\sum_{i=1}^{25}(Y_i-\\bar Y)^2}=\\dfrac{24}{9} \\dfrac{16 \\times 9}{16 \\times 24} \\dfrac{U/16}{V/24}=F$~$F_{16,24}$"
   ]
  },
  {
   "cell_type": "markdown",
   "id": "4e93f5aa-86e8-4f76-96ab-446c9301ca3f",
   "metadata": {},
   "source": [
    "# 5번"
   ]
  },
  {
   "cell_type": "markdown",
   "id": "a1685804-f2f8-4010-b3fa-ddfa4d2837cb",
   "metadata": {},
   "source": [
    "$X_1,X_2,\\dots$은 평균이 $\\mu$이고 분산이 $\\sigma^2$인 동일한 분포를 따르고 독립이다.\n",
    "\n",
    "$$\\sqrt{n} \\left( \\frac{1}{\\bar {X_n}} - \\frac{1}{\\mu} \\right)\\begin{aligned} d\\\\ \\rightarrow \\end{aligned}$$"
   ]
  },
  {
   "cell_type": "markdown",
   "id": "cccef9af-a002-42a1-8e63-d17fd27e2dbd",
   "metadata": {},
   "source": [
    "> `-` 중심 극한 정리\n",
    ">\n",
    "> $\\bar {X_n}$ ~ $N(\\mu, \\dfrac{\\sigma^2}{n})$\n",
    ">\n",
    "> $\\dfrac{\\bar{X_n}-\\mu}{\\sigma / \\sqrt{n}}$ ~ $N(0,1)$"
   ]
  },
  {
   "cell_type": "markdown",
   "id": "14c30594-0486-48ea-a9ab-9e92bda5640d",
   "metadata": {},
   "source": [
    "> `-` 델타 방법\n",
    ">\n",
    "> 확률변수의 열 $X_1,X_2,\\dots$ 에 대해서\n",
    ">\n",
    "> $\\sqrt{n}(X_n-\\theta) \\rightarrow^d N(0,\\sigma^2)$이라고 하자.\n",
    ">\n",
    "> 이 때, 함수 $g(\\theta)$의 연속인 도함수 $g'(\\theta)$가 존재하고 0이 아니면\n",
    ">\n",
    "> $\\sqrt{n}(g(X_n) - g(\\theta)) \\rightarrow^d N(0,\\sigma^2[g'(\\theta)]^2)$이 성립한다."
   ]
  },
  {
   "cell_type": "markdown",
   "id": "89b61655-794a-494b-b024-c69ddd9e9d6e",
   "metadata": {},
   "source": [
    "중심극한정리에 의해 표본크기 $n$이 커짐에 따라 $\\sqrt{n}(\\bar X_n - \\mu) \\rightarrow^d N(0,\\mu)$가 성립한다."
   ]
  },
  {
   "cell_type": "markdown",
   "id": "b18c713c-41a0-4511-9459-b61d91b40048",
   "metadata": {},
   "source": [
    "$g(x)=\\dfrac{1}{x}$를 고려하면, $g'(x)=-\\dfrac{1}{x^2}, g(\\mu)=\\dfrac{1}{\\mu}, [g'(\\mu)]^2=\\dfrac{1}{\\mu^4}$이 된다."
   ]
  },
  {
   "cell_type": "markdown",
   "id": "44fe4cd5-c093-402d-8ca0-d80c2022f28f",
   "metadata": {},
   "source": [
    "따라서, $\\sqrt{n} \\left( \\frac{1}{\\bar {X_n}} - \\frac{1}{\\mu} \\right)\\begin{aligned} d\\\\ \\rightarrow \\end{aligned} N(0, \\dfrac{\\sigma^2}{\\mu^4})$"
   ]
  },
  {
   "cell_type": "markdown",
   "id": "f474b8bc-f445-4c8a-9d6d-cef74380c591",
   "metadata": {},
   "source": [
    "# 6번"
   ]
  },
  {
   "cell_type": "markdown",
   "id": "0be62d44-7242-42b2-bf66-d8d224cf2fcc",
   "metadata": {},
   "source": [
    "$X_1, X_2,\\dots, X_n$이 다음 분포로부터의 랜덤표본일 때 해당 모수의 적률추정량과 최대가능도 추정량을 구하시오.\n"
   ]
  },
  {
   "cell_type": "markdown",
   "id": "cabaef1b-3a27-48db-b6a3-cbd87586ba64",
   "metadata": {},
   "source": [
    "## (1)"
   ]
  },
  {
   "cell_type": "markdown",
   "id": "3ef88f58-eb53-4a3d-a83a-b20474d1472f",
   "metadata": {},
   "source": [
    "$GAM(2,\\theta)$"
   ]
  },
  {
   "cell_type": "markdown",
   "id": "563240c1-c05c-4736-95e1-b4c1cabfc80e",
   "metadata": {},
   "source": [
    "## (2)"
   ]
  },
  {
   "cell_type": "markdown",
   "id": "c3f767c8-d80d-4102-809a-9f3620c7ed2d",
   "metadata": {},
   "source": [
    "$f(x|\\mu, \\sigma) = \\dfrac{1}{\\sigma} e^{-\\frac{x-\\mu}{\\sigma}}I(x>\\mu)$"
   ]
  },
  {
   "cell_type": "markdown",
   "id": "690a07f6-3044-487d-9170-b3a98713a63e",
   "metadata": {},
   "source": [
    "## (3)"
   ]
  },
  {
   "cell_type": "markdown",
   "id": "7931176f-a428-47c5-a553-daaf380cdd4f",
   "metadata": {},
   "source": [
    "$f(x|\\theta) = \\dfrac{3\\theta^3}{x^4}I(\\theta<x)$"
   ]
  },
  {
   "cell_type": "markdown",
   "id": "21eddab5-d8a1-4f9d-900e-6a852fc675fa",
   "metadata": {},
   "source": [
    "# 7번"
   ]
  },
  {
   "cell_type": "markdown",
   "id": "298f4e37-a205-410a-86e0-ba1589dd2cdb",
   "metadata": {},
   "source": [
    "$X_1, X_2, \\dots , X_n$이 $U(µ − 3 \\sqrt{\\sigma}, µ + 3 \\sqrt{\\sigma})$로부터의 랜덤표본일 때 $µ$와 $σ$의 적률추정량을 구하시오"
   ]
  },
  {
   "cell_type": "markdown",
   "id": "2da92fdf-fe91-4ecf-a716-037da3d03395",
   "metadata": {},
   "source": [
    "# 8번"
   ]
  },
  {
   "cell_type": "markdown",
   "id": "dc86665a-ee14-4e35-990a-952e06c2cb6f",
   "metadata": {},
   "source": [
    "$X_1, X_2, \\dots, X_n$이 $POI(λ)$로부터의 랜덤표본일 때 $g(λ) = 1/λ$ 의 최대가능도 추정량을 구하시오"
   ]
  },
  {
   "cell_type": "markdown",
   "id": "e383d70e-6e26-4737-ad21-b3b678093eaf",
   "metadata": {},
   "source": [
    "# 9번 다시"
   ]
  },
  {
   "cell_type": "markdown",
   "id": "9f0461cb-3091-41a6-92b7-a8e3b26ebf05",
   "metadata": {},
   "source": [
    "확률변수 $X$의 분포가 $P(X = 1) = θ^2, P(X + 2) = 2θ(1 − θ), P(X = 3) = (1 − θ)^2$(단, $0 < θ < 1$) 이라고 하자. 이제 세 개의 관찰값 $2,2,3$을 얻었을 때 모수 $θ$의 최대가능도 추정값은?\n"
   ]
  },
  {
   "cell_type": "markdown",
   "id": "04f25cd9-7aea-4a84-9879-84e161c53e1f",
   "metadata": {},
   "source": [
    "$f(x) = x \\theta^{3-x}(1-\\theta)^{x-1}$\n",
    "\n",
    "$L(\\theta) = 2\\theta(1-\\theta) \\times 2\\theta(1-\\theta) \\times (1-\\theta)^2 = 4\\theta^2(1-\\theta)^4$\n",
    "\n",
    "$L'(\\theta) = 8 \\theta(1-\\theta)^4 - 16\\theta^2(1-\\theta)^3) = 8\\theta(1-\\theta)^3(1-3\\theta)=8\\theta(1-\\theta)^3(1-3\\theta) = 0$\n",
    "\n",
    "$\\theta=\\dfrac{1}{3}$일 때 $L(\\theta)$가 최대"
   ]
  },
  {
   "cell_type": "code",
   "execution_count": null,
   "id": "57a25e39-c96d-45c4-b2fd-6128ebc42553",
   "metadata": {},
   "outputs": [],
   "source": []
  },
  {
   "cell_type": "code",
   "execution_count": null,
   "id": "d6dd43b0-fc6e-4246-9a5d-c976d5dc298c",
   "metadata": {},
   "outputs": [],
   "source": []
  },
  {
   "cell_type": "code",
   "execution_count": null,
   "id": "f83871c3-f99b-4592-ba67-b0f08cb8ab7c",
   "metadata": {},
   "outputs": [],
   "source": []
  },
  {
   "cell_type": "markdown",
   "id": "b866b413-0e26-4367-ac31-bf3d1df8a6a7",
   "metadata": {},
   "source": [
    "# 10번"
   ]
  },
  {
   "cell_type": "markdown",
   "id": "009f516c-1c91-403e-9684-82cf3b1fe4fc",
   "metadata": {},
   "source": [
    "$X_1, X_2,\\dots , X_n$이 평균이 $µ$이고 분산이 $σ^2$인 분포로부터 얻은 랜더표본이라고 할 때 모평균 $µ$가 알려져 있다면, $\\dfrac{1}{n} \\sum_{i=1}^n(X_i − µ)^2$ 이 $σ^2$의 비편향 추정량임을 보이시오."
   ]
  },
  {
   "cell_type": "markdown",
   "id": "69e2cc9f-d2bf-4f66-9d85-e30c30b95574",
   "metadata": {},
   "source": [
    "$E(\\dfrac{1}{n} \\sum_{i=1}(X_i-\\mu)^2) = \\dfrac{n\\sigma^2}{n} = \\sigma^2$"
   ]
  },
  {
   "cell_type": "markdown",
   "id": "ed7addc4-df39-46c2-bddb-934ebe10a72f",
   "metadata": {},
   "source": [
    "## 11번"
   ]
  },
  {
   "cell_type": "markdown",
   "id": "5d6c647a-3bff-4281-9446-efd852190d5b",
   "metadata": {},
   "source": [
    "$X_1, X_2, \\dots, X_n$이 $U(−θ, θ), θ > 0$로부터의 랜덤표본일 때 $c(X_{(n)} − X_{(1)})$이 모수 $θ$의 비편향 추정량이 되기 위한 상수 $c$의 값은?"
   ]
  },
  {
   "cell_type": "code",
   "execution_count": null,
   "id": "a073948f-c71f-4dee-9efd-65648d35aa51",
   "metadata": {},
   "outputs": [],
   "source": []
  }
 ],
 "metadata": {
  "kernelspec": {
   "display_name": "Python 3 (ipykernel)",
   "language": "python",
   "name": "python3"
  },
  "language_info": {
   "codemirror_mode": {
    "name": "ipython",
    "version": 3
   },
   "file_extension": ".py",
   "mimetype": "text/x-python",
   "name": "python",
   "nbconvert_exporter": "python",
   "pygments_lexer": "ipython3",
   "version": "3.8.16"
  }
 },
 "nbformat": 4,
 "nbformat_minor": 5
}
