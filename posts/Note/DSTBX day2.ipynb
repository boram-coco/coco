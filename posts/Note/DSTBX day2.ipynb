{
 "cells": [
  {
   "cell_type": "raw",
   "id": "0d9251c1-c382-4393-9931-507421a09e11",
   "metadata": {},
   "source": [
    "---\n",
    "title: \"[Data Science Tool Box] 2일차 실습\"\n",
    "author: \"김보람\"\n",
    "date: \"01/03/2024\"\n",
    "---"
   ]
  },
  {
   "cell_type": "markdown",
   "id": "c6de9df1-b290-4dfa-91a4-d5893c8aa0be",
   "metadata": {},
   "source": [
    "## 실습13: 숙제검사 "
   ]
  },
  {
   "cell_type": "code",
   "execution_count": 3,
   "id": "291f6655-8c83-4853-aa6f-a358505924bb",
   "metadata": {},
   "outputs": [
    {
     "name": "stdout",
     "output_type": "stream",
     "text": [
      "\u001b[0m\u001b[01;34mGNN\u001b[0m/  _metadata.yml  \u001b[01;34mNote\u001b[0m/  ref.bib  \u001b[01;34mStudy\u001b[0m/  \u001b[01;34mSynthetic\u001b[0m/  untitled.txt\n"
     ]
    }
   ],
   "source": [
    "ls .."
   ]
  },
  {
   "cell_type": "markdown",
   "id": "446e65d5-7a0b-4818-850c-a8ca582665e4",
   "metadata": {},
   "source": [
    "- 상위 폴더에 들어있는 파일들"
   ]
  },
  {
   "cell_type": "code",
   "execution_count": 4,
   "id": "c51aed68-e1cc-41f5-b4a8-3ed2c4c18e71",
   "metadata": {},
   "outputs": [
    {
     "name": "stdout",
     "output_type": "stream",
     "text": [
      "'[DSTBX] day1.ipynb'  '콰트로 블로그 만드는 법.ipynb'\n",
      "'[DSTBX] day2.ipynb'   Ref.ipynb\n"
     ]
    }
   ],
   "source": [
    "ls ."
   ]
  },
  {
   "cell_type": "markdown",
   "id": "d8526461-51c0-4283-a5c9-363a50407376",
   "metadata": {},
   "source": [
    "- 현재 폴더"
   ]
  },
  {
   "cell_type": "code",
   "execution_count": 5,
   "id": "47e21c88-083f-4e9a-b009-7111d696c9fc",
   "metadata": {},
   "outputs": [
    {
     "name": "stdout",
     "output_type": "stream",
     "text": [
      "'An Introduction to Graph Neural Network(GNN) For Analysing Structured Data.ipynb'\n",
      " \u001b[0m\u001b[01;35mDGCN.png\u001b[0m\n",
      " GNN논문.ipynb\n",
      "'Graph basic.ipynb'\n",
      " \u001b[01;35mimage1.png\u001b[0m\n",
      " \u001b[01;35mimage2.png\u001b[0m\n",
      " Laplacian.ipynb\n",
      " \u001b[01;35mLaplacian.png\u001b[0m\n",
      "'Neural Network.ipynb'\n",
      " Untitled1.ipynb\n"
     ]
    }
   ],
   "source": [
    "ls ../GNN"
   ]
  },
  {
   "cell_type": "markdown",
   "id": "c3f52d53-aa37-4dd3-bad1-ae9569dbbe50",
   "metadata": {},
   "source": [
    "- ../폴더명 쓰면 위와 같이 나온다 "
   ]
  },
  {
   "cell_type": "code",
   "execution_count": 7,
   "id": "716d5d6b-2bfe-496a-8de2-85a8b8c1d73b",
   "metadata": {},
   "outputs": [],
   "source": [
    "cat ../GNN/image1.png"
   ]
  },
  {
   "cell_type": "markdown",
   "id": "097ff017-a91f-465f-815b-a7565c8385f7",
   "metadata": {},
   "source": [
    "ls ../GNN > fnames.txt 하면 폴더가 옮겨진다"
   ]
  },
  {
   "cell_type": "markdown",
   "id": "e4b8b5cb-9e3c-42e2-a741-f70dd9ab550f",
   "metadata": {},
   "source": [
    "`-` 이거 클론하세요"
   ]
  },
  {
   "cell_type": "markdown",
   "id": "525d6a5f-8009-435f-b15a-e8eeb48edc0a",
   "metadata": {},
   "source": [
    "`-` 방법1"
   ]
  },
  {
   "cell_type": "markdown",
   "id": "e8f2989e-6efd-414b-9628-880104dd5e6e",
   "metadata": {
    "tags": []
   },
   "source": [
    "```python\n",
    "!ls ../1dayhw \n",
    "```"
   ]
  },
  {
   "cell_type": "markdown",
   "id": "8212c9e0-7334-40ca-ba35-c9faaccb26d9",
   "metadata": {
    "tags": []
   },
   "source": [
    "```python\n",
    "!cat ../1dayhw/coco.txt\n",
    "```"
   ]
  },
  {
   "cell_type": "markdown",
   "id": "e10e4651-a980-481d-8bc5-0f35cb299d97",
   "metadata": {},
   "source": [
    "`-` 방법2"
   ]
  },
  {
   "cell_type": "code",
   "execution_count": 3,
   "id": "2d5c7311-07fb-49f7-b9d9-f8900c63c61a",
   "metadata": {
    "tags": []
   },
   "outputs": [],
   "source": [
    "!ls ../1dayhw > fnames.txt"
   ]
  },
  {
   "cell_type": "code",
   "execution_count": 4,
   "id": "d42296d2-eced-4b44-b06a-9c4b99a9a26e",
   "metadata": {
    "tags": []
   },
   "outputs": [],
   "source": [
    "!chmod +x show.sh"
   ]
  },
  {
   "cell_type": "markdown",
   "id": "fc5e08f3-e8e0-45cf-a910-4909a94d47b0",
   "metadata": {},
   "source": [
    "- 권한을 받기 위해서 `chmod + x show.sh`"
   ]
  },
  {
   "cell_type": "code",
   "execution_count": 27,
   "id": "bd417a4a-fe46-4dd1-8f7a-88b0cd545737",
   "metadata": {
    "tags": []
   },
   "outputs": [],
   "source": [
    "#!./show.sh"
   ]
  },
  {
   "cell_type": "markdown",
   "id": "db0312b7-1be0-46af-8546-154525cc57fc",
   "metadata": {},
   "source": [
    "`-` 방법3: 아래의 파일을 생성하고 출력 "
   ]
  },
  {
   "cell_type": "markdown",
   "id": "235668e3-f379-46a1-9cd9-00e2a21151ba",
   "metadata": {},
   "source": [
    "```{.bash filename=\"show2.sh\"}\n",
    "fnames=(\n",
    "    \"coco.txt\", \"coco2.txt\"\n",
    ")\n",
    "for fname in \"${fnames[@]}\"; do\n",
    "    echo \"File: $fname\"\n",
    "    cat \"../1dayhw/$fname\"\n",
    "    echo \"----------------\"\n",
    "done\n",
    "```"
   ]
  },
  {
   "cell_type": "code",
   "execution_count": 17,
   "id": "2fd489ee-c36f-4b45-801f-ae2de9607131",
   "metadata": {
    "tags": []
   },
   "outputs": [],
   "source": [
    "#!bash show2.sh"
   ]
  },
  {
   "cell_type": "markdown",
   "id": "425a0ae8-97e5-4d72-a48d-f70f8933dbd9",
   "metadata": {
    "tags": []
   },
   "source": [
    "`-` `./show2.sh` 와 `bash show2.sh` 의 차이? \n",
    "\n",
    "- 스크립트의 권한, 셸 지정\n",
    "- 잘 모르겠어요"
   ]
  },
  {
   "cell_type": "markdown",
   "id": "8c4d4fb4-4385-4e51-bbd4-8e07f774e477",
   "metadata": {},
   "source": [
    "---"
   ]
  },
  {
   "cell_type": "markdown",
   "id": "de730a3b-e105-4466-aa4d-c9b0e7ba79f8",
   "metadata": {},
   "source": [
    "저 숙제를 바탕으로 183 컴퓨터에 계정을 생성했습니다. "
   ]
  },
  {
   "cell_type": "markdown",
   "id": "19d5f635-012a-4072-9bc6-009d7e71abde",
   "metadata": {},
   "source": [
    "***그냥 참고용.. 이렇게도 가능함 ㅎㅎ***"
   ]
  },
  {
   "cell_type": "code",
   "execution_count": 10,
   "id": "bea79c20-a251-4efc-a18b-1832982bf938",
   "metadata": {
    "tags": []
   },
   "outputs": [],
   "source": [
    "file_names = [\n",
    "    \"coco\", \"coco_2\"\n",
    "]"
   ]
  },
  {
   "cell_type": "markdown",
   "id": "022c23b1-7130-4284-815c-71fe90d9f624",
   "metadata": {
    "tags": []
   },
   "source": [
    "```python\n",
    "for username in file_names:\n",
    "    print(f'adduser {username} --gecos \"\" --disabled-password && echo \"{username}:jbnu\" | chpasswd && usermod -aG sudo {username}')\n",
    "```"
   ]
  },
  {
   "cell_type": "markdown",
   "id": "daef8e97-1175-4860-9ad5-1ecd308990ac",
   "metadata": {},
   "source": [
    "---"
   ]
  },
  {
   "cell_type": "markdown",
   "id": "223c09d8-0b0c-4261-ba3e-4c095d97f944",
   "metadata": {},
   "source": [
    "## 실습14: 183 컴퓨터 접속 + passwd"
   ]
  },
  {
   "cell_type": "markdown",
   "id": "f2a6ad0b-a517-40df-b298-b7cbd584ae16",
   "metadata": {},
   "source": [
    "- passwd"
   ]
  },
  {
   "cell_type": "markdown",
   "id": "51289c02-22ba-49d0-9771-c3cf8d13a3e8",
   "metadata": {},
   "source": [
    "- 그 이후에 패스워드 잘 바꾸면 뎀 ㅂㄹㅂㄹ"
   ]
  },
  {
   "cell_type": "markdown",
   "id": "6d0383bc-0d50-4149-8ce9-2f517b3cfd37",
   "metadata": {},
   "source": [
    "## 실습15: 183에서 git의 설치 및 연결"
   ]
  },
  {
   "cell_type": "markdown",
   "id": "e0a05239-2dcc-4868-94e0-f2136f8585ef",
   "metadata": {},
   "source": [
    "- which git: git이 어디에 있는지 찾아줘!\n",
    "- sudo apt-get install git\n",
    "- sudo apt-get remove git"
   ]
  },
  {
   "cell_type": "markdown",
   "id": "057d08ba-8372-43be-b106-b7c0e7f03d59",
   "metadata": {},
   "source": [
    "- `ls gi*` 하면 gi~로 시작하는 걸 찾아줌"
   ]
  },
  {
   "cell_type": "markdown",
   "id": "bd913032-58de-4595-88a7-64210e2ff7b9",
   "metadata": {},
   "source": [
    "- 일반유저(권한별로 없는 칭구 sudo로 하려 하면 거부당함)< 슈퍼유저(평소엔 일반 유저인데 가끔 루트유저의 역할을 할 수 있눈..) < 루트유저(사실상없는유저.. 개쎔)"
   ]
  },
  {
   "cell_type": "markdown",
   "id": "505bef9b-a137-485a-8a51-5a30135596e1",
   "metadata": {},
   "source": [
    "- `cd ~` 하면 고향으로 돌아간담.. : `/home/coco/`"
   ]
  },
  {
   "cell_type": "markdown",
   "id": "a13e7dc6-4435-43e7-b363-78e0d19d2248",
   "metadata": {},
   "source": [
    "## 실습16: 183에서 quarto의 설치"
   ]
  },
  {
   "cell_type": "markdown",
   "id": "3d545554-bfd6-44b5-a418-036f336fd1fd",
   "metadata": {},
   "source": [
    "- which quarto \n",
    "- wget https://github.com/quarto-dev/quarto-cli/releases/download/v1.4.533/quarto-1.4.533-linux-amd64.deb\n",
    "- sudo dpkg -i quarto-1.4.533-linux-amd64.deb : ~을 실행해!(설치해! -install)\n",
    "- sudo dpkg -r quarto : remove"
   ]
  },
  {
   "cell_type": "markdown",
   "id": "650ebf5e-08ab-4001-9c31-344bb15f70ea",
   "metadata": {},
   "source": [
    "## 실습17: 183에서 아나콘다 설치"
   ]
  },
  {
   "cell_type": "markdown",
   "id": "3d2c70dd-c3c0-40a1-8096-d7f462a66341",
   "metadata": {},
   "source": [
    "- https://www.anaconda.com/download <- 여기서 다운받을 수 있는 주소 get 하세여\n",
    "- bash Anaconda3-2019.03-Linux-x86_64.sh"
   ]
  },
  {
   "cell_type": "markdown",
   "id": "805c0a17-0abc-4f32-8f8e-77dc6d64ad61",
   "metadata": {},
   "source": [
    "아나콘다와 git/quarto의 차이는? "
   ]
  },
  {
   "cell_type": "markdown",
   "id": "dcb837a1-e3af-4f0d-9454-4a32eb928494",
   "metadata": {},
   "source": [
    "- 확장자가 sh니까! bash를 이용해서 설치하자. more 뭐시기 나오면 그냥 스페이스 누르면 뎀"
   ]
  },
  {
   "cell_type": "markdown",
   "id": "c6dcd695-45f0-4b1f-ac5f-07e49fb0398a",
   "metadata": {},
   "source": [
    "## 실습18: 183에서 주피터랩 설치"
   ]
  },
  {
   "cell_type": "markdown",
   "id": "7f636738-569f-45b0-9a22-b60d7a457dcc",
   "metadata": {
    "tags": []
   },
   "source": [
    "- conda create -n py310 python=3.10\n",
    "- conda activate py310 \n",
    "- conda install -c conda-forge jupyterlab \n",
    "- conda install -c conda-forge notebook "
   ]
  },
  {
   "cell_type": "markdown",
   "id": "9a0403a0-409f-4eba-a217-022c52cf23e9",
   "metadata": {},
   "source": [
    "`-` 접속하는 방법1"
   ]
  },
  {
   "cell_type": "markdown",
   "id": "31ea10d2-67a4-4de9-9bac-9355284475b5",
   "metadata": {},
   "source": [
    "- jupyter lab --ip=\"0.0.0.0\" --port=4자리\n",
    "\n",
    "원래는 저 ip에 이름 써야는데 만약 내컴퓨터 ip있으면 그거 하면 되는겨"
   ]
  },
  {
   "cell_type": "markdown",
   "id": "ba942b69-7f46-4435-8cfc-fdc9b3723a87",
   "metadata": {},
   "source": [
    "- 쭈르륵 뭐 나오는데 그러고 나서 토큰 비밀번호 복사해서 (ip:port4자리) 들어가서 비번에 쳐주기"
   ]
  },
  {
   "cell_type": "markdown",
   "id": "524d2c40-769d-4ef3-ba8e-81463756a494",
   "metadata": {
    "tags": []
   },
   "source": [
    "`-` 접속하는 방법2"
   ]
  },
  {
   "cell_type": "markdown",
   "id": "f8eda2ef-dc2f-428f-a244-ee423528d1e7",
   "metadata": {},
   "source": [
    "- jupyter notebook password"
   ]
  },
  {
   "cell_type": "markdown",
   "id": "df2a653e-7638-4a37-a131-ac56dada0719",
   "metadata": {},
   "source": [
    "## 실습19: 1일차 숙제 쉽게 하는 방법"
   ]
  },
  {
   "cell_type": "markdown",
   "id": "24dc23ae-d3bc-40ed-ab59-7dbc0ec3a928",
   "metadata": {},
   "source": [
    "https://guebin.github.io/IP2022/2022/03/28/(4주차)-3월28일.html"
   ]
  },
  {
   "cell_type": "markdown",
   "id": "cdfd8405-cbe5-4843-9783-855bd4b6932a",
   "metadata": {},
   "source": [
    "`-` 깃헙에서 홈페이지 만들경우 대응하는 레포지토리를 찾으면 쉽게 복사가능."
   ]
  },
  {
   "cell_type": "code",
   "execution_count": 28,
   "id": "fa147df6-a281-4424-bbe6-04406d2888c5",
   "metadata": {
    "tags": []
   },
   "outputs": [],
   "source": [
    "#!wget \"https://raw.githubusercontent.com/guebin/IP2022/master/_notebooks/2022-03-28-(4%EC%A3%BC%EC%B0%A8)%203%EC%9B%9428%EC%9D%BC.ipynb\""
   ]
  },
  {
   "cell_type": "markdown",
   "id": "dfa1a6d6-24d2-4e5a-b7ea-7db7e3e7deef",
   "metadata": {},
   "source": [
    "## 실습20: 블로그 꾸미기"
   ]
  },
  {
   "cell_type": "markdown",
   "id": "8356c6ec-70e6-42b3-adb4-23fcd3bca76c",
   "metadata": {},
   "source": [
    "## 실습21: 이미지 그리기 (슈퍼유저)"
   ]
  },
  {
   "cell_type": "markdown",
   "id": "753e02ec-cb0a-4b76-a8e0-9759ffd05137",
   "metadata": {},
   "source": [
    "`-` 방법1"
   ]
  },
  {
   "cell_type": "code",
   "execution_count": 11,
   "id": "8ea802eb-69b0-46bc-acc7-07044449f692",
   "metadata": {
    "tags": []
   },
   "outputs": [
    {
     "name": "stdout",
     "output_type": "stream",
     "text": [
      "--2024-01-03 19:03:01--  https://imgs.xkcd.com/comics/sandwich.png\n",
      "Resolving imgs.xkcd.com (imgs.xkcd.com)... 146.75.48.67, 2a04:4e42:7c::67\n",
      "Connecting to imgs.xkcd.com (imgs.xkcd.com)|146.75.48.67|:443... connected.\n",
      "HTTP request sent, awaiting response... 200 OK\n",
      "Length: 11828 (12K) [image/png]\n",
      "Saving to: ‘sandwich.png’\n",
      "\n",
      "sandwich.png        100%[===================>]  11.55K  --.-KB/s    in 0s      \n",
      "\n",
      "2024-01-03 19:03:02 (37.9 MB/s) - ‘sandwich.png’ saved [11828/11828]\n",
      "\n"
     ]
    }
   ],
   "source": [
    "# !wget https://imgs.xkcd.com/comics/sandwich.png"
   ]
  },
  {
   "cell_type": "markdown",
   "id": "f830eda8-a5d9-45c5-938f-a09400d4cfdb",
   "metadata": {},
   "source": [
    "`-` 방법2"
   ]
  },
  {
   "cell_type": "markdown",
   "id": "b21614c0-db7b-4d87-a685-172b45cf7dd7",
   "metadata": {
    "tags": []
   },
   "source": [
    "![](https://imgs.xkcd.com/comics/sandwich.png)"
   ]
  },
  {
   "cell_type": "markdown",
   "id": "ca15fc43-8817-4861-8907-c90ecd2b3c48",
   "metadata": {},
   "source": [
    "`-` 방법3: 스크린샷 "
   ]
  },
  {
   "cell_type": "markdown",
   "id": "72a8859a-5899-4841-82fb-9148211d9bdf",
   "metadata": {
    "tags": []
   },
   "source": [
    "## 실습22: 182 ssh우회하기 (배운적X)"
   ]
  },
  {
   "cell_type": "markdown",
   "id": "bee44592-e4b5-4c66-b1ec-3c8fcb580ade",
   "metadata": {},
   "source": [
    "- sudo vi /etc/ssh/sshd_config \n",
    "- sudo systemctl restart ssh.service"
   ]
  },
  {
   "cell_type": "markdown",
   "id": "203895de-c6b5-45ee-a7fc-c1dd5cda779e",
   "metadata": {
    "tags": []
   },
   "source": [
    "## 실습23: 186 컴퓨터 접속"
   ]
  },
  {
   "cell_type": "markdown",
   "id": "f21b0128-9a2c-493a-bd23-c3fb11311d64",
   "metadata": {
    "tags": []
   },
   "source": [
    "## 실습25: 186 컴퓨터 개발환경 셋팅하기"
   ]
  },
  {
   "cell_type": "markdown",
   "id": "0e84b737-46b5-45f2-90b4-c45da16bb6ca",
   "metadata": {},
   "source": [
    "https://guebin.github.io/MP2023/offline/231128.html\n",
    "\n",
    "여기에서 2-E, 2-G 빼고 하기"
   ]
  },
  {
   "cell_type": "code",
   "execution_count": null,
   "id": "920150a2-6a8a-4ca5-8035-1eff6a7dabf5",
   "metadata": {},
   "outputs": [],
   "source": []
  }
 ],
 "metadata": {
  "kernelspec": {
   "display_name": "Python 3 (ipykernel)",
   "language": "python",
   "name": "python3"
  },
  "language_info": {
   "codemirror_mode": {
    "name": "ipython",
    "version": 3
   },
   "file_extension": ".py",
   "mimetype": "text/x-python",
   "name": "python",
   "nbconvert_exporter": "python",
   "pygments_lexer": "ipython3",
   "version": "3.8.18"
  }
 },
 "nbformat": 4,
 "nbformat_minor": 5
}
