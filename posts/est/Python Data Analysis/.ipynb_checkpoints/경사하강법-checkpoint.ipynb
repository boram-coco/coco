{
 "cells": [
  {
   "cell_type": "code",
   "execution_count": null,
   "id": "23cef226-9a3b-4fe2-a1ae-ef4d72963180",
   "metadata": {},
   "outputs": [],
   "source": []
  },
  {
   "cell_type": "raw",
   "id": "5f5c49e1-08cb-4887-bc81-dfd802e8f660",
   "metadata": {},
   "source": [
    "---\n",
    "title: \"경사하강법\"\n",
    "author: \"김보람\"\n",
    "date: \"04/24/2023\"\n",
    "categories:\n",
    "  - 경사하강법\n",
    "---"
   ]
  },
  {
   "cell_type": "markdown",
   "id": "3fd2bb0b-f3fa-4b47-855e-392045786ef1",
   "metadata": {},
   "source": [
    "# ref"
   ]
  },
  {
   "cell_type": "markdown",
   "id": "4dab0da8-3464-45e7-934c-c58f2f2a42cc",
   "metadata": {},
   "source": [
    "- [파이썬 데이터 분석](http://www.yes24.com/Product/Goods/108023856)"
   ]
  },
  {
   "cell_type": "markdown",
   "id": "0b736f43-c1b6-40e0-af82-73817f82abaf",
   "metadata": {},
   "source": [
    "# 경사하강법"
   ]
  },
  {
   "cell_type": "markdown",
   "id": "92a2ed8a-3e0a-4559-b70c-374484725576",
   "metadata": {},
   "source": [
    "$\\widehat y = ax + b$"
   ]
  },
  {
   "cell_type": "markdown",
   "id": "45b78644-047b-473e-8c4e-74b2f75789d0",
   "metadata": {},
   "source": [
    "## 1. 패키지 설정"
   ]
  },
  {
   "cell_type": "code",
   "execution_count": 1,
   "id": "6ec23872-39d7-475f-92bd-2de405f34c86",
   "metadata": {},
   "outputs": [],
   "source": [
    "from sklearn.linear_model import SGDRegressor\n",
    "from sklearn.preprocessing import StandardScaler\n",
    "from sklearn.model_selection import cross_val_score\n",
    "import numpy as np\n",
    "import matplotlib.pyplot as plt"
   ]
  },
  {
   "cell_type": "markdown",
   "id": "7f393cff-42cc-4b48-b1ca-6fdadb1c3cd8",
   "metadata": {},
   "source": [
    "## 2. 데이터 준비"
   ]
  },
  {
   "cell_type": "code",
   "execution_count": 2,
   "id": "3bb61ead-0ec0-474b-b717-c60068e9fc53",
   "metadata": {},
   "outputs": [],
   "source": [
    "X_train = np.array([10,22,30,38,50])\n",
    "y_train = np.array([41,45,62,75,85])"
   ]
  },
  {
   "cell_type": "markdown",
   "id": "9043e87d-8aa7-4c89-8a24-0c2a103b99db",
   "metadata": {},
   "source": [
    "## 3. 탐색적 데이터 분석"
   ]
  },
  {
   "cell_type": "code",
   "execution_count": 3,
   "id": "0e887218-0dba-4fb9-a988-1d7e808fd5f9",
   "metadata": {},
   "outputs": [
    {
     "data": {
      "image/png": "[encoded data removed]",
      "text/plain": [
       "<Figure size 640x480 with 1 Axes>"
      ]
     },
     "metadata": {},
     "output_type": "display_data"
    }
   ],
   "source": [
    "plt.scatter(X_train, y_train, color='b')\n",
    "plt.show()"
   ]
  },
  {
   "cell_type": "code",
   "execution_count": 4,
   "id": "7d75b7c0-adb1-4b24-b87d-1a1b8f0f28d7",
   "metadata": {},
   "outputs": [
    {
     "data": {
      "text/plain": [
       "array([[1.        , 0.97319891],\n",
       "       [0.97319891, 1.        ]])"
      ]
     },
     "execution_count": 4,
     "metadata": {},
     "output_type": "execute_result"
    }
   ],
   "source": [
    "np.corrcoef(X_train, y_train)"
   ]
  },
  {
   "cell_type": "markdown",
   "id": "20ecaf53-c996-44bc-a1b8-16cf9d31ac17",
   "metadata": {},
   "source": [
    "## 4. 피처 스케일링"
   ]
  },
  {
   "cell_type": "code",
   "execution_count": 6,
   "id": "8e3c2b08-0a5a-4222-9fc1-b4578475c092",
   "metadata": {},
   "outputs": [
    {
     "name": "stdout",
     "output_type": "stream",
     "text": [
      "[[10]\n",
      " [22]\n",
      " [30]\n",
      " [38]\n",
      " [50]]\n",
      "[[41]\n",
      " [45]\n",
      " [62]\n",
      " [75]\n",
      " [85]]\n"
     ]
    }
   ],
   "source": [
    "X_train = X_train.reshape(-1,1)   # NX1 매트릭스\n",
    "print(X_train)\n",
    "y_train= y_train.reshape(-1,1)\n",
    "print(y_train)\n"
   ]
  },
  {
   "cell_type": "markdown",
   "id": "5fed9fb0-eb1b-44d2-a7d4-f9fcec5e29b4",
   "metadata": {},
   "source": [
    "`-` 정규화"
   ]
  },
  {
   "cell_type": "code",
   "execution_count": 9,
   "id": "491d28fd-5a90-459e-8769-c5a119eb3c20",
   "metadata": {},
   "outputs": [
    {
     "name": "stdout",
     "output_type": "stream",
     "text": [
      "[[-1.46805055e+00]\n",
      " [-5.87220220e-01]\n",
      " [-8.88178420e-17]\n",
      " [ 5.87220220e-01]\n",
      " [ 1.46805055e+00]]\n"
     ]
    }
   ],
   "source": [
    "scalerX=StandardScaler()\n",
    "scalerX.fit(X_train)\n",
    "X_train=scalerX.transform(X_train)\n",
    "print(X_train)"
   ]
  },
  {
   "cell_type": "code",
   "execution_count": 10,
   "id": "17d24cd1-3e54-483f-8d43-7119a8896661",
   "metadata": {},
   "outputs": [
    {
     "name": "stdout",
     "output_type": "stream",
     "text": [
      "[[-1.21929784]\n",
      " [-0.98254098]\n",
      " [ 0.02367569]\n",
      " [ 0.79313549]\n",
      " [ 1.38502764]]\n"
     ]
    }
   ],
   "source": [
    "scalerY=StandardScaler()\n",
    "scalerY.fit(y_train)\n",
    "y_train=scalerY.transform(y_train)\n",
    "print(y_train)"
   ]
  },
  {
   "cell_type": "markdown",
   "id": "99dab678-a85a-43f0-909e-3ce1dfb3eaaf",
   "metadata": {},
   "source": [
    "## 5. 모형화 및 학습"
   ]
  },
  {
   "cell_type": "code",
   "execution_count": 11,
   "id": "58e6a13a-c52c-48c6-b12a-9d0ca871f85c",
   "metadata": {},
   "outputs": [],
   "source": [
    "model=SGDRegressor(verbose=1)"
   ]
  },
  {
   "cell_type": "code",
   "execution_count": 12,
   "id": "5edc7919-e229-4f6c-802d-de9acba2677e",
   "metadata": {},
   "outputs": [
    {
     "name": "stdout",
     "output_type": "stream",
     "text": [
      "-- Epoch 1\n",
      "Norm: 0.04, NNZs: 1, Bias: -0.001467, T: 5, Avg. loss: 0.489615\n",
      "Total training time: 0.00 seconds.\n",
      "-- Epoch 2\n",
      "Norm: 0.07, NNZs: 1, Bias: -0.002592, T: 10, Avg. loss: 0.454060\n",
      "Total training time: 0.00 seconds.\n",
      "-- Epoch 3\n",
      "Norm: 0.09, NNZs: 1, Bias: -0.002601, T: 15, Avg. loss: 0.429691\n",
      "Total training time: 0.00 seconds.\n",
      "-- Epoch 4\n",
      "Norm: 0.11, NNZs: 1, Bias: -0.002910, T: 20, Avg. loss: 0.408928\n",
      "Total training time: 0.00 seconds.\n",
      "-- Epoch 5\n",
      "Norm: 0.13, NNZs: 1, Bias: -0.002887, T: 25, Avg. loss: 0.390899\n",
      "Total training time: 0.00 seconds.\n",
      "-- Epoch 6\n",
      "Norm: 0.15, NNZs: 1, Bias: -0.003017, T: 30, Avg. loss: 0.374571\n",
      "Total training time: 0.00 seconds.\n",
      "-- Epoch 7\n",
      "Norm: 0.17, NNZs: 1, Bias: -0.002987, T: 35, Avg. loss: 0.359796\n",
      "Total training time: 0.00 seconds.\n",
      "-- Epoch 8\n",
      "Norm: 0.19, NNZs: 1, Bias: -0.003047, T: 40, Avg. loss: 0.346121\n",
      "Total training time: 0.00 seconds.\n",
      "-- Epoch 9\n",
      "Norm: 0.20, NNZs: 1, Bias: -0.003015, T: 45, Avg. loss: 0.333511\n",
      "Total training time: 0.00 seconds.\n",
      "-- Epoch 10\n",
      "Norm: 0.22, NNZs: 1, Bias: -0.003040, T: 50, Avg. loss: 0.321704\n",
      "Total training time: 0.00 seconds.\n",
      "-- Epoch 11\n",
      "Norm: 0.23, NNZs: 1, Bias: -0.003007, T: 55, Avg. loss: 0.310696\n",
      "Total training time: 0.00 seconds.\n",
      "-- Epoch 12\n",
      "Norm: 0.24, NNZs: 1, Bias: -0.003012, T: 60, Avg. loss: 0.300312\n",
      "Total training time: 0.00 seconds.\n",
      "-- Epoch 13\n",
      "Norm: 0.26, NNZs: 1, Bias: -0.002979, T: 65, Avg. loss: 0.290560\n",
      "Total training time: 0.00 seconds.\n",
      "-- Epoch 14\n",
      "Norm: 0.27, NNZs: 1, Bias: -0.002972, T: 70, Avg. loss: 0.281311\n",
      "Total training time: 0.00 seconds.\n",
      "-- Epoch 15\n",
      "Norm: 0.28, NNZs: 1, Bias: -0.002940, T: 75, Avg. loss: 0.272580\n",
      "Total training time: 0.00 seconds.\n",
      "-- Epoch 16\n",
      "Norm: 0.29, NNZs: 1, Bias: -0.002925, T: 80, Avg. loss: 0.264268\n",
      "Total training time: 0.00 seconds.\n",
      "-- Epoch 17\n",
      "Norm: 0.30, NNZs: 1, Bias: -0.002893, T: 85, Avg. loss: 0.256388\n",
      "Total training time: 0.00 seconds.\n",
      "-- Epoch 18\n",
      "Norm: 0.31, NNZs: 1, Bias: -0.002873, T: 90, Avg. loss: 0.248864\n",
      "Total training time: 0.00 seconds.\n",
      "-- Epoch 19\n",
      "Norm: 0.33, NNZs: 1, Bias: -0.002843, T: 95, Avg. loss: 0.241709\n",
      "Total training time: 0.00 seconds.\n",
      "-- Epoch 20\n",
      "Norm: 0.34, NNZs: 1, Bias: -0.002819, T: 100, Avg. loss: 0.234860\n",
      "Total training time: 0.00 seconds.\n",
      "-- Epoch 21\n",
      "Norm: 0.35, NNZs: 1, Bias: -0.002790, T: 105, Avg. loss: 0.228330\n",
      "Total training time: 0.00 seconds.\n",
      "-- Epoch 22\n",
      "Norm: 0.36, NNZs: 1, Bias: -0.002764, T: 110, Avg. loss: 0.222066\n",
      "Total training time: 0.00 seconds.\n",
      "-- Epoch 23\n",
      "Norm: 0.36, NNZs: 1, Bias: -0.002736, T: 115, Avg. loss: 0.216080\n",
      "Total training time: 0.00 seconds.\n",
      "-- Epoch 24\n",
      "Norm: 0.37, NNZs: 1, Bias: -0.002709, T: 120, Avg. loss: 0.210329\n",
      "Total training time: 0.00 seconds.\n",
      "-- Epoch 25\n",
      "Norm: 0.38, NNZs: 1, Bias: -0.002681, T: 125, Avg. loss: 0.204824\n",
      "Total training time: 0.00 seconds.\n",
      "-- Epoch 26\n",
      "Norm: 0.39, NNZs: 1, Bias: -0.002653, T: 130, Avg. loss: 0.199526\n",
      "Total training time: 0.00 seconds.\n",
      "-- Epoch 27\n",
      "Norm: 0.40, NNZs: 1, Bias: -0.002626, T: 135, Avg. loss: 0.194447\n",
      "Total training time: 0.00 seconds.\n",
      "-- Epoch 28\n",
      "Norm: 0.41, NNZs: 1, Bias: -0.002598, T: 140, Avg. loss: 0.189553\n",
      "Total training time: 0.00 seconds.\n",
      "-- Epoch 29\n",
      "Norm: 0.42, NNZs: 1, Bias: -0.002572, T: 145, Avg. loss: 0.184854\n",
      "Total training time: 0.00 seconds.\n",
      "-- Epoch 30\n",
      "Norm: 0.42, NNZs: 1, Bias: -0.002543, T: 150, Avg. loss: 0.180321\n",
      "Total training time: 0.00 seconds.\n",
      "-- Epoch 31\n",
      "Norm: 0.43, NNZs: 1, Bias: -0.002518, T: 155, Avg. loss: 0.175964\n",
      "Total training time: 0.00 seconds.\n",
      "-- Epoch 32\n",
      "Norm: 0.44, NNZs: 1, Bias: -0.002489, T: 160, Avg. loss: 0.171756\n",
      "Total training time: 0.00 seconds.\n",
      "-- Epoch 33\n",
      "Norm: 0.45, NNZs: 1, Bias: -0.002465, T: 165, Avg. loss: 0.167707\n",
      "Total training time: 0.00 seconds.\n",
      "-- Epoch 34\n",
      "Norm: 0.45, NNZs: 1, Bias: -0.002436, T: 170, Avg. loss: 0.163793\n",
      "Total training time: 0.00 seconds.\n",
      "-- Epoch 35\n",
      "Norm: 0.46, NNZs: 1, Bias: -0.002413, T: 175, Avg. loss: 0.160023\n",
      "Total training time: 0.00 seconds.\n",
      "-- Epoch 36\n",
      "Norm: 0.47, NNZs: 1, Bias: -0.002385, T: 180, Avg. loss: 0.156377\n",
      "Total training time: 0.00 seconds.\n",
      "-- Epoch 37\n",
      "Norm: 0.48, NNZs: 1, Bias: -0.002361, T: 185, Avg. loss: 0.152861\n",
      "Total training time: 0.00 seconds.\n",
      "-- Epoch 38\n",
      "Norm: 0.48, NNZs: 1, Bias: -0.002334, T: 190, Avg. loss: 0.149458\n",
      "Total training time: 0.00 seconds.\n",
      "-- Epoch 39\n",
      "Norm: 0.49, NNZs: 1, Bias: -0.002311, T: 195, Avg. loss: 0.146173\n",
      "Total training time: 0.00 seconds.\n",
      "-- Epoch 40\n",
      "Norm: 0.50, NNZs: 1, Bias: -0.002284, T: 200, Avg. loss: 0.142992\n",
      "Total training time: 0.00 seconds.\n",
      "-- Epoch 41\n",
      "Norm: 0.50, NNZs: 1, Bias: -0.002262, T: 205, Avg. loss: 0.139920\n",
      "Total training time: 0.00 seconds.\n",
      "-- Epoch 42\n",
      "Norm: 0.51, NNZs: 1, Bias: -0.002236, T: 210, Avg. loss: 0.136943\n",
      "Total training time: 0.00 seconds.\n",
      "-- Epoch 43\n",
      "Norm: 0.51, NNZs: 1, Bias: -0.002214, T: 215, Avg. loss: 0.134066\n",
      "Total training time: 0.00 seconds.\n",
      "-- Epoch 44\n",
      "Norm: 0.52, NNZs: 1, Bias: -0.002188, T: 220, Avg. loss: 0.131275\n",
      "Total training time: 0.00 seconds.\n",
      "-- Epoch 45\n",
      "Norm: 0.53, NNZs: 1, Bias: -0.002168, T: 225, Avg. loss: 0.128577\n",
      "Total training time: 0.00 seconds.\n",
      "-- Epoch 46\n",
      "Norm: 0.53, NNZs: 1, Bias: -0.002142, T: 230, Avg. loss: 0.125959\n",
      "Total training time: 0.00 seconds.\n",
      "-- Epoch 47\n",
      "Norm: 0.54, NNZs: 1, Bias: -0.002122, T: 235, Avg. loss: 0.123425\n",
      "Total training time: 0.00 seconds.\n",
      "-- Epoch 48\n",
      "Norm: 0.54, NNZs: 1, Bias: -0.002097, T: 240, Avg. loss: 0.120966\n",
      "Total training time: 0.00 seconds.\n",
      "-- Epoch 49\n",
      "Norm: 0.55, NNZs: 1, Bias: -0.002077, T: 245, Avg. loss: 0.118586\n",
      "Total training time: 0.00 seconds.\n",
      "-- Epoch 50\n",
      "Norm: 0.55, NNZs: 1, Bias: -0.002053, T: 250, Avg. loss: 0.116273\n",
      "Total training time: 0.00 seconds.\n",
      "-- Epoch 51\n",
      "Norm: 0.56, NNZs: 1, Bias: -0.002034, T: 255, Avg. loss: 0.114034\n",
      "Total training time: 0.00 seconds.\n",
      "-- Epoch 52\n",
      "Norm: 0.56, NNZs: 1, Bias: -0.002010, T: 260, Avg. loss: 0.111858\n",
      "Total training time: 0.00 seconds.\n",
      "-- Epoch 53\n",
      "Norm: 0.57, NNZs: 1, Bias: -0.001992, T: 265, Avg. loss: 0.109749\n",
      "Total training time: 0.00 seconds.\n",
      "-- Epoch 54\n",
      "Norm: 0.57, NNZs: 1, Bias: -0.001968, T: 270, Avg. loss: 0.107699\n",
      "Total training time: 0.00 seconds.\n",
      "-- Epoch 55\n",
      "Norm: 0.58, NNZs: 1, Bias: -0.001950, T: 275, Avg. loss: 0.105712\n",
      "Total training time: 0.00 seconds.\n",
      "-- Epoch 56\n",
      "Norm: 0.58, NNZs: 1, Bias: -0.001927, T: 280, Avg. loss: 0.103779\n",
      "Total training time: 0.00 seconds.\n",
      "-- Epoch 57\n",
      "Norm: 0.59, NNZs: 1, Bias: -0.001910, T: 285, Avg. loss: 0.101905\n",
      "Total training time: 0.00 seconds.\n",
      "-- Epoch 58\n",
      "Norm: 0.59, NNZs: 1, Bias: -0.001887, T: 290, Avg. loss: 0.100081\n",
      "Total training time: 0.00 seconds.\n",
      "-- Epoch 59\n",
      "Norm: 0.60, NNZs: 1, Bias: -0.001870, T: 295, Avg. loss: 0.098312\n",
      "Total training time: 0.00 seconds.\n",
      "-- Epoch 60\n",
      "Norm: 0.60, NNZs: 1, Bias: -0.001849, T: 300, Avg. loss: 0.096591\n",
      "Total training time: 0.00 seconds.\n",
      "-- Epoch 61\n",
      "Norm: 0.61, NNZs: 1, Bias: -0.001832, T: 305, Avg. loss: 0.094920\n",
      "Total training time: 0.00 seconds.\n",
      "-- Epoch 62\n",
      "Norm: 0.61, NNZs: 1, Bias: -0.001811, T: 310, Avg. loss: 0.093293\n",
      "Total training time: 0.00 seconds.\n",
      "-- Epoch 63\n",
      "Norm: 0.62, NNZs: 1, Bias: -0.001795, T: 315, Avg. loss: 0.091713\n",
      "Total training time: 0.00 seconds.\n",
      "-- Epoch 64\n",
      "Norm: 0.62, NNZs: 1, Bias: -0.001774, T: 320, Avg. loss: 0.090175\n",
      "Total training time: 0.00 seconds.\n",
      "-- Epoch 65\n",
      "Norm: 0.62, NNZs: 1, Bias: -0.001758, T: 325, Avg. loss: 0.088681\n",
      "Total training time: 0.00 seconds.\n",
      "-- Epoch 66\n",
      "Norm: 0.63, NNZs: 1, Bias: -0.001738, T: 330, Avg. loss: 0.087226\n",
      "Total training time: 0.00 seconds.\n",
      "-- Epoch 67\n",
      "Norm: 0.63, NNZs: 1, Bias: -0.001723, T: 335, Avg. loss: 0.085812\n",
      "Total training time: 0.00 seconds.\n",
      "-- Epoch 68\n",
      "Norm: 0.64, NNZs: 1, Bias: -0.001703, T: 340, Avg. loss: 0.084435\n",
      "Total training time: 0.00 seconds.\n",
      "-- Epoch 69\n",
      "Norm: 0.64, NNZs: 1, Bias: -0.001688, T: 345, Avg. loss: 0.083096\n",
      "Total training time: 0.00 seconds.\n",
      "-- Epoch 70\n",
      "Norm: 0.64, NNZs: 1, Bias: -0.001669, T: 350, Avg. loss: 0.081791\n",
      "Total training time: 0.00 seconds.\n",
      "-- Epoch 71\n",
      "Norm: 0.65, NNZs: 1, Bias: -0.001654, T: 355, Avg. loss: 0.080522\n",
      "Total training time: 0.00 seconds.\n",
      "-- Epoch 72\n",
      "Norm: 0.65, NNZs: 1, Bias: -0.001635, T: 360, Avg. loss: 0.079286\n",
      "Total training time: 0.00 seconds.\n",
      "-- Epoch 73\n",
      "Norm: 0.65, NNZs: 1, Bias: -0.001621, T: 365, Avg. loss: 0.078083\n",
      "Total training time: 0.00 seconds.\n",
      "-- Epoch 74\n",
      "Norm: 0.66, NNZs: 1, Bias: -0.001603, T: 370, Avg. loss: 0.076910\n",
      "Total training time: 0.00 seconds.\n",
      "-- Epoch 75\n",
      "Norm: 0.66, NNZs: 1, Bias: -0.001589, T: 375, Avg. loss: 0.075769\n",
      "Total training time: 0.00 seconds.\n",
      "-- Epoch 76\n",
      "Norm: 0.67, NNZs: 1, Bias: -0.001571, T: 380, Avg. loss: 0.074657\n",
      "Total training time: 0.00 seconds.\n",
      "-- Epoch 77\n",
      "Norm: 0.67, NNZs: 1, Bias: -0.001558, T: 385, Avg. loss: 0.073574\n",
      "Total training time: 0.00 seconds.\n",
      "-- Epoch 78\n",
      "Norm: 0.67, NNZs: 1, Bias: -0.001540, T: 390, Avg. loss: 0.072518\n",
      "Total training time: 0.00 seconds.\n",
      "-- Epoch 79\n",
      "Norm: 0.68, NNZs: 1, Bias: -0.001527, T: 395, Avg. loss: 0.071490\n",
      "Total training time: 0.00 seconds.\n",
      "-- Epoch 80\n",
      "Norm: 0.68, NNZs: 1, Bias: -0.001510, T: 400, Avg. loss: 0.070487\n",
      "Total training time: 0.00 seconds.\n",
      "-- Epoch 81\n",
      "Norm: 0.68, NNZs: 1, Bias: -0.001497, T: 405, Avg. loss: 0.069511\n",
      "Total training time: 0.00 seconds.\n",
      "-- Epoch 82\n",
      "Norm: 0.69, NNZs: 1, Bias: -0.001480, T: 410, Avg. loss: 0.068558\n",
      "Total training time: 0.00 seconds.\n",
      "-- Epoch 83\n",
      "Norm: 0.69, NNZs: 1, Bias: -0.001468, T: 415, Avg. loss: 0.067630\n",
      "Total training time: 0.00 seconds.\n",
      "-- Epoch 84\n",
      "Norm: 0.69, NNZs: 1, Bias: -0.001452, T: 420, Avg. loss: 0.066725\n",
      "Total training time: 0.00 seconds.\n",
      "-- Epoch 85\n",
      "Norm: 0.69, NNZs: 1, Bias: -0.001440, T: 425, Avg. loss: 0.065843\n",
      "Total training time: 0.00 seconds.\n",
      "Convergence after 85 epochs took 0.00 seconds\n"
     ]
    },
    {
     "name": "stderr",
     "output_type": "stream",
     "text": [
      "/home/coco/anaconda3/envs/py38/lib/python3.8/site-packages/sklearn/utils/validation.py:1143: DataConversionWarning: A column-vector y was passed when a 1d array was expected. Please change the shape of y to (n_samples, ), for example using ravel().\n",
      "  y = column_or_1d(y, warn=True)\n"
     ]
    },
    {
     "data": {
      "text/html": [
       "<style>#sk-container-id-1 {color: black;background-color: white;}#sk-container-id-1 pre{padding: 0;}#sk-container-id-1 div.sk-toggleable {background-color: white;}#sk-container-id-1 label.sk-toggleable__label {cursor: pointer;display: block;width: 100%;margin-bottom: 0;padding: 0.3em;box-sizing: border-box;text-align: center;}#sk-container-id-1 label.sk-toggleable__label-arrow:before {content: \"▸\";float: left;margin-right: 0.25em;color: #696969;}#sk-container-id-1 label.sk-toggleable__label-arrow:hover:before {color: black;}#sk-container-id-1 div.sk-estimator:hover label.sk-toggleable__label-arrow:before {color: black;}#sk-container-id-1 div.sk-toggleable__content {max-height: 0;max-width: 0;overflow: hidden;text-align: left;background-color: #f0f8ff;}#sk-container-id-1 div.sk-toggleable__content pre {margin: 0.2em;color: black;border-radius: 0.25em;background-color: #f0f8ff;}#sk-container-id-1 input.sk-toggleable__control:checked~div.sk-toggleable__content {max-height: 200px;max-width: 100%;overflow: auto;}#sk-container-id-1 input.sk-toggleable__control:checked~label.sk-toggleable__label-arrow:before {content: \"▾\";}#sk-container-id-1 div.sk-estimator input.sk-toggleable__control:checked~label.sk-toggleable__label {background-color: #d4ebff;}#sk-container-id-1 div.sk-label input.sk-toggleable__control:checked~label.sk-toggleable__label {background-color: #d4ebff;}#sk-container-id-1 input.sk-hidden--visually {border: 0;clip: rect(1px 1px 1px 1px);clip: rect(1px, 1px, 1px, 1px);height: 1px;margin: -1px;overflow: hidden;padding: 0;position: absolute;width: 1px;}#sk-container-id-1 div.sk-estimator {font-family: monospace;background-color: #f0f8ff;border: 1px dotted black;border-radius: 0.25em;box-sizing: border-box;margin-bottom: 0.5em;}#sk-container-id-1 div.sk-estimator:hover {background-color: #d4ebff;}#sk-container-id-1 div.sk-parallel-item::after {content: \"\";width: 100%;border-bottom: 1px solid gray;flex-grow: 1;}#sk-container-id-1 div.sk-label:hover label.sk-toggleable__label {background-color: #d4ebff;}#sk-container-id-1 div.sk-serial::before {content: \"\";position: absolute;border-left: 1px solid gray;box-sizing: border-box;top: 0;bottom: 0;left: 50%;z-index: 0;}#sk-container-id-1 div.sk-serial {display: flex;flex-direction: column;align-items: center;background-color: white;padding-right: 0.2em;padding-left: 0.2em;position: relative;}#sk-container-id-1 div.sk-item {position: relative;z-index: 1;}#sk-container-id-1 div.sk-parallel {display: flex;align-items: stretch;justify-content: center;background-color: white;position: relative;}#sk-container-id-1 div.sk-item::before, #sk-container-id-1 div.sk-parallel-item::before {content: \"\";position: absolute;border-left: 1px solid gray;box-sizing: border-box;top: 0;bottom: 0;left: 50%;z-index: -1;}#sk-container-id-1 div.sk-parallel-item {display: flex;flex-direction: column;z-index: 1;position: relative;background-color: white;}#sk-container-id-1 div.sk-parallel-item:first-child::after {align-self: flex-end;width: 50%;}#sk-container-id-1 div.sk-parallel-item:last-child::after {align-self: flex-start;width: 50%;}#sk-container-id-1 div.sk-parallel-item:only-child::after {width: 0;}#sk-container-id-1 div.sk-dashed-wrapped {border: 1px dashed gray;margin: 0 0.4em 0.5em 0.4em;box-sizing: border-box;padding-bottom: 0.4em;background-color: white;}#sk-container-id-1 div.sk-label label {font-family: monospace;font-weight: bold;display: inline-block;line-height: 1.2em;}#sk-container-id-1 div.sk-label-container {text-align: center;}#sk-container-id-1 div.sk-container {/* jupyter's `normalize.less` sets `[hidden] { display: none; }` but bootstrap.min.css set `[hidden] { display: none !important; }` so we also need the `!important` here to be able to override the default hidden behavior on the sphinx rendered scikit-learn.org. See: https://github.com/scikit-learn/scikit-learn/issues/21755 */display: inline-block !important;position: relative;}#sk-container-id-1 div.sk-text-repr-fallback {display: none;}</style><div id=\"sk-container-id-1\" class=\"sk-top-container\"><div class=\"sk-text-repr-fallback\"><pre>SGDRegressor(verbose=1)</pre><b>In a Jupyter environment, please rerun this cell to show the HTML representation or trust the notebook. <br />On GitHub, the HTML representation is unable to render, please try loading this page with nbviewer.org.</b></div><div class=\"sk-container\" hidden><div class=\"sk-item\"><div class=\"sk-estimator sk-toggleable\"><input class=\"sk-toggleable__control sk-hidden--visually\" id=\"sk-estimator-id-1\" type=\"checkbox\" checked><label for=\"sk-estimator-id-1\" class=\"sk-toggleable__label sk-toggleable__label-arrow\">SGDRegressor</label><div class=\"sk-toggleable__content\"><pre>SGDRegressor(verbose=1)</pre></div></div></div></div></div>"
      ],
      "text/plain": [
       "SGDRegressor(verbose=1)"
      ]
     },
     "execution_count": 12,
     "metadata": {},
     "output_type": "execute_result"
    }
   ],
   "source": [
    "model.fit(X_train, y_train)"
   ]
  },
  {
   "cell_type": "markdown",
   "id": "5c62777e-dca1-4ede-ad84-68d05098b127",
   "metadata": {},
   "source": [
    "## 6.예측"
   ]
  },
  {
   "cell_type": "code",
   "execution_count": 13,
   "id": "ba7d63e8-7928-4a0d-9941-97a60aad99b7",
   "metadata": {},
   "outputs": [
    {
     "data": {
      "text/plain": [
       "array([[45.]])"
      ]
     },
     "execution_count": 13,
     "metadata": {},
     "output_type": "execute_result"
    }
   ],
   "source": [
    "X_test = np.array([45]).reshape(-1,1)\n",
    "X_test=scalerX.transform(X_test)\n",
    "X_test"
   ]
  },
  {
   "cell_type": "code",
   "execution_count": 14,
   "id": "a018a35e-8880-4a73-990e-edfd13a657bb",
   "metadata": {},
   "outputs": [
    {
     "name": "stdout",
     "output_type": "stream",
     "text": [
      "[31.27270054]\n"
     ]
    }
   ],
   "source": [
    "y_pred=model.predict(X_test)\n",
    "print(y_pred)"
   ]
  },
  {
   "cell_type": "markdown",
   "id": "da8be0ad-1eb7-4db3-9575-70cbdcf12a94",
   "metadata": {},
   "source": [
    "```python\n",
    "y_pred_inverse=scalerY.inverse_transform(y_pred)\n",
    "print(y_pred_inverse)\n",
    "```"
   ]
  },
  {
   "cell_type": "markdown",
   "id": "3f5c8437-b79e-41ce-bdf1-654127d0c50c",
   "metadata": {},
   "source": [
    "# 당뇨병 진단"
   ]
  },
  {
   "cell_type": "markdown",
   "id": "aa259fd2-ce06-42cd-8427-fa45a5f4b595",
   "metadata": {},
   "source": [
    "## 1. 패키지 설정"
   ]
  },
  {
   "cell_type": "code",
   "execution_count": 20,
   "id": "95b72b34-66cc-4506-81f2-298c6d3809f3",
   "metadata": {},
   "outputs": [],
   "source": [
    "from sklearn.linear_model import SGDRegressor\n",
    "from sklearn.preprocessing import MinMaxScaler\n",
    "from sklearn.model_selection import cross_val_score\n",
    "from sklearn.metrics import mean_squared_error\n",
    "from sklearn.model_selection import train_test_split\n",
    "from sklearn import datasets\n",
    "import numpy as np\n",
    "import matplotlib.pyplot as plt\n",
    "import pandas as pd"
   ]
  },
  {
   "cell_type": "markdown",
   "id": "3a1819aa-6410-4968-964b-f4b813f2080b",
   "metadata": {},
   "source": [
    "## 2.데이터 준비"
   ]
  },
  {
   "cell_type": "code",
   "execution_count": 21,
   "id": "de991eaf-6338-428d-9dc9-b0c33d80c719",
   "metadata": {},
   "outputs": [],
   "source": [
    "diabetes_X, diabetes_y = datasets.load_diabetes(return_X_y=True)"
   ]
  },
  {
   "cell_type": "code",
   "execution_count": 23,
   "id": "4981a63f-f63e-46c4-bde2-9b5e41d6b78a",
   "metadata": {},
   "outputs": [
    {
     "name": "stdout",
     "output_type": "stream",
     "text": [
      "(442, 10)\n",
      "(442,)\n"
     ]
    }
   ],
   "source": [
    "print(np.shape(diabetes_X))\n",
    "print(np.shape(diabetes_y))"
   ]
  },
  {
   "cell_type": "code",
   "execution_count": 24,
   "id": "43837e5b-0e7c-4e9c-96a8-1f4520a00c0b",
   "metadata": {},
   "outputs": [
    {
     "name": "stdout",
     "output_type": "stream",
     "text": [
      "[[ 0.03807591  0.05068012  0.06169621 ... -0.00259226  0.01990749\n",
      "  -0.01764613]\n",
      " [-0.00188202 -0.04464164 -0.05147406 ... -0.03949338 -0.06833155\n",
      "  -0.09220405]\n",
      " [ 0.08529891  0.05068012  0.04445121 ... -0.00259226  0.00286131\n",
      "  -0.02593034]\n",
      " ...\n",
      " [ 0.04170844  0.05068012 -0.01590626 ... -0.01107952 -0.04688253\n",
      "   0.01549073]\n",
      " [-0.04547248 -0.04464164  0.03906215 ...  0.02655962  0.04452873\n",
      "  -0.02593034]\n",
      " [-0.04547248 -0.04464164 -0.0730303  ... -0.03949338 -0.00422151\n",
      "   0.00306441]]\n"
     ]
    }
   ],
   "source": [
    "print(diabetes_X)"
   ]
  },
  {
   "cell_type": "code",
   "execution_count": 25,
   "id": "3f3ad07c-190a-4ed1-801b-f454fd1632b1",
   "metadata": {},
   "outputs": [
    {
     "name": "stdout",
     "output_type": "stream",
     "text": [
      "[151.  75. 141. 206. 135.  97. 138.  63. 110. 310. 101.  69. 179. 185.\n",
      " 118. 171. 166. 144.  97. 168.  68.  49.  68. 245. 184. 202. 137.  85.\n",
      " 131. 283. 129.  59. 341.  87.  65. 102. 265. 276. 252.  90. 100.  55.\n",
      "  61.  92. 259.  53. 190. 142.  75. 142. 155. 225.  59. 104. 182. 128.\n",
      "  52.  37. 170. 170.  61. 144.  52. 128.  71. 163. 150.  97. 160. 178.\n",
      "  48. 270. 202. 111.  85.  42. 170. 200. 252. 113. 143.  51.  52. 210.\n",
      "  65. 141.  55. 134.  42. 111.  98. 164.  48.  96.  90. 162. 150. 279.\n",
      "  92.  83. 128. 102. 302. 198.  95.  53. 134. 144. 232.  81. 104.  59.\n",
      " 246. 297. 258. 229. 275. 281. 179. 200. 200. 173. 180.  84. 121. 161.\n",
      "  99. 109. 115. 268. 274. 158. 107.  83. 103. 272.  85. 280. 336. 281.\n",
      " 118. 317. 235.  60. 174. 259. 178. 128.  96. 126. 288.  88. 292.  71.\n",
      " 197. 186.  25.  84.  96. 195.  53. 217. 172. 131. 214.  59.  70. 220.\n",
      " 268. 152.  47.  74. 295. 101. 151. 127. 237. 225.  81. 151. 107.  64.\n",
      " 138. 185. 265. 101. 137. 143. 141.  79. 292. 178.  91. 116.  86. 122.\n",
      "  72. 129. 142.  90. 158.  39. 196. 222. 277.  99. 196. 202. 155.  77.\n",
      " 191.  70.  73.  49.  65. 263. 248. 296. 214. 185.  78.  93. 252. 150.\n",
      "  77. 208.  77. 108. 160.  53. 220. 154. 259.  90. 246. 124.  67.  72.\n",
      " 257. 262. 275. 177.  71.  47. 187. 125.  78.  51. 258. 215. 303. 243.\n",
      "  91. 150. 310. 153. 346.  63.  89.  50.  39. 103. 308. 116. 145.  74.\n",
      "  45. 115. 264.  87. 202. 127. 182. 241.  66.  94. 283.  64. 102. 200.\n",
      " 265.  94. 230. 181. 156. 233.  60. 219.  80.  68. 332. 248.  84. 200.\n",
      "  55.  85.  89.  31. 129.  83. 275.  65. 198. 236. 253. 124.  44. 172.\n",
      " 114. 142. 109. 180. 144. 163. 147.  97. 220. 190. 109. 191. 122. 230.\n",
      " 242. 248. 249. 192. 131. 237.  78. 135. 244. 199. 270. 164.  72.  96.\n",
      " 306.  91. 214.  95. 216. 263. 178. 113. 200. 139. 139.  88. 148.  88.\n",
      " 243.  71.  77. 109. 272.  60.  54. 221.  90. 311. 281. 182. 321.  58.\n",
      " 262. 206. 233. 242. 123. 167.  63. 197.  71. 168. 140. 217. 121. 235.\n",
      " 245.  40.  52. 104. 132.  88.  69. 219.  72. 201. 110.  51. 277.  63.\n",
      " 118.  69. 273. 258.  43. 198. 242. 232. 175.  93. 168. 275. 293. 281.\n",
      "  72. 140. 189. 181. 209. 136. 261. 113. 131. 174. 257.  55.  84.  42.\n",
      " 146. 212. 233.  91. 111. 152. 120.  67. 310.  94. 183.  66. 173.  72.\n",
      "  49.  64.  48. 178. 104. 132. 220.  57.]\n"
     ]
    }
   ],
   "source": [
    "print(diabetes_y)"
   ]
  },
  {
   "cell_type": "markdown",
   "id": "51e76b2d-99d9-4011-bc92-59d7ffc63588",
   "metadata": {},
   "source": [
    "`-` 10열(s6-혈당수치) 할당"
   ]
  },
  {
   "cell_type": "code",
   "execution_count": 26,
   "id": "c1b9612a-c49a-4d3b-8557-5b4d3a2c9b84",
   "metadata": {},
   "outputs": [
    {
     "name": "stdout",
     "output_type": "stream",
     "text": [
      "[-0.01764613 -0.09220405 -0.02593034 -0.00936191 -0.04664087 -0.09634616\n",
      " -0.03835666  0.00306441  0.01134862 -0.01350402 -0.03421455 -0.05906719\n",
      " -0.04249877 -0.01350402 -0.07563562 -0.04249877  0.02791705 -0.0010777\n",
      " -0.01764613 -0.05492509  0.01549073 -0.01764613 -0.01350402  0.13561183\n",
      " -0.05492509 -0.03421455 -0.0052198   0.04034337 -0.05492509  0.05276969\n",
      " -0.00936191 -0.04249877  0.02791705  0.00306441 -0.06735141  0.01963284\n",
      " -0.02593034 -0.0052198   0.02377494  0.00306441  0.09419076 -0.00936191\n",
      " -0.03421455  0.07348023 -0.01764613 -0.05078298 -0.08806194 -0.08391984\n",
      " -0.02178823 -0.01350402  0.00720652 -0.02178823 -0.01350402  0.04862759\n",
      "  0.00720652  0.00720652 -0.01764613 -0.06735141 -0.05078298  0.01963284\n",
      " -0.03421455  0.01963284 -0.02593034 -0.07149352  0.01134862  0.01549073\n",
      "  0.01963284  0.00306441  0.00306441  0.01963284  0.04034337  0.06105391\n",
      " -0.01764613 -0.00936191  0.07348023  0.02791705  0.01549073 -0.0010777\n",
      " -0.08391984 -0.02593034 -0.0052198  -0.0010777  -0.07977773 -0.04249877\n",
      " -0.12948301 -0.07149352 -0.03421455 -0.03835666  0.06933812  0.01963284\n",
      "  0.01134862  0.01963284  0.01134862 -0.05492509 -0.09220405 -0.0052198\n",
      "  0.03205916  0.07762233 -0.06735141 -0.05492509 -0.0010777   0.03620126\n",
      " -0.0010777  -0.03007245 -0.0632093   0.01963284 -0.08391984 -0.0052198\n",
      "  0.04034337  0.10661708  0.01549073 -0.04664087  0.00306441  0.09004865\n",
      "  0.02377494  0.00306441  0.02791705  0.13561183  0.0569118   0.02791705\n",
      " -0.02178823  0.01134862  0.04862759  0.07348023 -0.01350402  0.00720652\n",
      " -0.05492509 -0.09634616 -0.07149352  0.1190434   0.07348023 -0.07977773\n",
      "  0.02377494 -0.03007245 -0.04664087  0.0569118  -0.02178823 -0.01350402\n",
      "  0.07348023 -0.0052198   0.01549073  0.13146972 -0.0010777  -0.04249877\n",
      "  0.00720652 -0.05078298  0.00720652  0.04034337 -0.0010777  -0.03835666\n",
      " -0.00936191 -0.01350402  0.07348023  0.01134862  0.00306441  0.04862759\n",
      " -0.03421455  0.02791705 -0.05078298 -0.01764613 -0.04664087  0.08590655\n",
      " -0.0010777   0.06105391 -0.01350402 -0.01350402 -0.10463037  0.10661708\n",
      "  0.12732762  0.01963284 -0.01764613 -0.04664087  0.08590655 -0.05492509\n",
      "  0.00720652  0.00306441  0.01963284  0.03205916 -0.03007245 -0.00936191\n",
      " -0.0010777  -0.0632093  -0.00936191  0.0569118   0.03205916 -0.01764613\n",
      " -0.03835666 -0.10463037 -0.00936191 -0.02593034 -0.0052198  -0.00936191\n",
      " -0.05906719  0.01963284  0.02377494  0.02377494  0.01134862  0.03620126\n",
      " -0.05906719  0.00720652  0.04448548  0.02791705 -0.03007245  0.02791705\n",
      "  0.07762233 -0.02593034  0.00306441  0.03620126  0.1190434  -0.01350402\n",
      " -0.05906719 -0.02178823  0.01963284  0.00720652 -0.05492509  0.10661708\n",
      "  0.04862759  0.04448548 -0.01350402 -0.03007245 -0.06735141 -0.03835666\n",
      "  0.01963284 -0.05078298 -0.00936191  0.00306441 -0.05492509  0.00720652\n",
      " -0.05078298  0.01134862  0.06933812  0.01134862  0.03205916 -0.03835666\n",
      "  0.0569118   0.04862759  0.01134862 -0.0010777  -0.02178823  0.04862759\n",
      "  0.01963284  0.0569118  -0.07149352 -0.04249877 -0.0052198  -0.12948301\n",
      " -0.05906719 -0.09220405  0.04034337  0.00720652  0.03620126  0.04034337\n",
      " -0.03007245  0.06933812  0.09004865  0.00720652  0.01134862 -0.05078298\n",
      "  0.0569118   0.00720652 -0.01764613  0.01549073  0.00306441 -0.01764613\n",
      " -0.02178823  0.04034337  0.00306441  0.02791705  0.07348023 -0.03835666\n",
      "  0.01549073  0.00720652 -0.09220405  0.03620126  0.01549073  0.06933812\n",
      " -0.02178823  0.01549073  0.03205916 -0.02593034 -0.01764613  0.00306441\n",
      "  0.02791705 -0.03007245 -0.05492509 -0.02178823 -0.0052198  -0.0052198\n",
      " -0.01764613 -0.03421455  0.04448548 -0.05906719 -0.03835666 -0.0010777\n",
      " -0.03421455  0.00306441 -0.05906719 -0.05492509 -0.01350402 -0.0010777\n",
      "  0.04448548  0.03620126  0.02791705 -0.02178823 -0.01350402 -0.06735141\n",
      " -0.01350402  0.08176444 -0.07977773  0.08176444  0.03205916  0.02377494\n",
      " -0.03007245 -0.0010777  -0.03835666 -0.0010777   0.04034337  0.06933812\n",
      "  0.03205916  0.06105391  0.00306441  0.06105391  0.08176444  0.0569118\n",
      "  0.01963284  0.04862759  0.02791705 -0.0052198   0.01963284  0.04448548\n",
      "  0.01549073 -0.0052198   0.03620126  0.03205916 -0.05492509 -0.05906719\n",
      "  0.05276969  0.00306441 -0.05906719  0.01549073 -0.03007245 -0.01764613\n",
      "  0.02377494  0.00720652 -0.03007245 -0.0010777   0.01549073 -0.03007245\n",
      " -0.0010777  -0.07149352  0.13561183 -0.04249877 -0.03835666  0.00306441\n",
      "  0.06105391  0.01134862 -0.07563562 -0.05906719 -0.04664087  0.06105391\n",
      "  0.04034337  0.02377494  0.04034337  0.01134862  0.09833287  0.09833287\n",
      "  0.04862759  0.03205916  0.08176444  0.02791705 -0.07563562 -0.01764613\n",
      " -0.02178823 -0.0010777  -0.07977773  0.01963284 -0.0010777  -0.0632093\n",
      " -0.03835666  0.02377494 -0.02593034 -0.05492509  0.03620126  0.00720652\n",
      " -0.03835666 -0.01350402  0.00306441 -0.07563562 -0.03835666 -0.08806194\n",
      "  0.07348023 -0.05078298  0.06519601 -0.02178823  0.00720652 -0.05492509\n",
      " -0.03421455  0.02377494 -0.06735141  0.01963284 -0.00936191  0.04034337\n",
      "  0.04448548  0.04034337 -0.00936191 -0.03007245 -0.13776723  0.01963284\n",
      "  0.04034337 -0.0052198  -0.04249877 -0.02593034  0.08590655  0.01963284\n",
      "  0.00720652  0.00306441  0.03620126  0.00306441  0.00720652 -0.0052198\n",
      "  0.06105391  0.01549073 -0.00936191 -0.04664087  0.02377494 -0.05078298\n",
      "  0.08590655  0.03205916  0.13146972 -0.03835666 -0.01764613 -0.0010777\n",
      "  0.10661708 -0.00936191  0.03205916 -0.03835666 -0.04664087  0.00720652\n",
      "  0.04448548  0.01549073 -0.02593034  0.00306441]\n"
     ]
    }
   ],
   "source": [
    "X_data= diabetes_X[:,9]\n",
    "print(X_data)"
   ]
  },
  {
   "cell_type": "markdown",
   "id": "2684eb2d-5d32-491e-8f65-8764e890aabb",
   "metadata": {},
   "source": [
    "## 3.탐색적 데이터 분석"
   ]
  },
  {
   "cell_type": "code",
   "execution_count": 36,
   "id": "dbd3dfea-4284-4b9a-8f3e-7d540e032168",
   "metadata": {},
   "outputs": [
    {
     "data": {
      "image/png": "[encoded data removed]",
      "text/plain": [
       "<Figure size 640x480 with 2 Axes>"
      ]
     },
     "metadata": {},
     "output_type": "display_data"
    }
   ],
   "source": [
    "#입력데이터의 박스플롯\n",
    "g1=plt.subplot(1,2,1)\n",
    "g1.boxplot(X_data, labels=['s6'])\n",
    "plt.title('Diabetes')\n",
    "plt.xlabel('Features')\n",
    "\n",
    "g2=plt.subplot(1,2,2)\n",
    "g2.boxplot(diabetes_y, labels=['disease progression'])\n",
    "plt.title('Diabetes')\n",
    "plt.xlabel('Target')\n",
    "\n",
    "plt.show()"
   ]
  },
  {
   "cell_type": "code",
   "execution_count": 37,
   "id": "6ea7a219-6f74-4f09-9c32-c5791802f23a",
   "metadata": {},
   "outputs": [
    {
     "data": {
      "image/png": "[encoded data removed]",
      "text/plain": [
       "<Figure size 640x480 with 1 Axes>"
      ]
     },
     "metadata": {},
     "output_type": "display_data"
    }
   ],
   "source": [
    "plt.scatter(X_data, diabetes_y, color='b')\n",
    "plt.title('Diabetes')\n",
    "plt.xlabel('s6')\n",
    "plt.ylabel('Disease progression')\n",
    "plt.show()"
   ]
  },
  {
   "cell_type": "code",
   "execution_count": 38,
   "id": "473a8d87-5b6b-4532-ab9d-bb54a1708b2f",
   "metadata": {},
   "outputs": [
    {
     "data": {
      "text/plain": [
       "array([[1.        , 0.38248348],\n",
       "       [0.38248348, 1.        ]])"
      ]
     },
     "execution_count": 38,
     "metadata": {},
     "output_type": "execute_result"
    }
   ],
   "source": [
    "np.corrcoef(X_data,diabetes_y)"
   ]
  },
  {
   "cell_type": "markdown",
   "id": "8670d39f-06a3-4599-a3da-e95faebedbb4",
   "metadata": {},
   "source": [
    "## 4.데이터 분리"
   ]
  },
  {
   "cell_type": "code",
   "execution_count": 39,
   "id": "10003e91-e55f-4fdc-9db0-551df7df7e0f",
   "metadata": {},
   "outputs": [],
   "source": [
    "X_train, X_test, y_train, y_test = train_test_split(X_data,diabetes_y,\n",
    "                                                    test_size=0.5, random_state=1234)"
   ]
  },
  {
   "cell_type": "markdown",
   "id": "87c521aa-f2d6-4402-a8fd-94b3894e717e",
   "metadata": {},
   "source": [
    "## 5.피처 스케일링"
   ]
  },
  {
   "cell_type": "code",
   "execution_count": 49,
   "id": "f7fca084-d48b-4f94-a253-b83b777f06fb",
   "metadata": {},
   "outputs": [],
   "source": [
    "# 학습 데이터 정규화\n",
    "# 2차원 행렬 변환\n",
    "X_train = X_train.reshape(-1,1)\n",
    "y_train = y_train.reshape(-1,1)\n",
    "\n",
    "# 입력 데이터 정규화\n",
    "scalerX=MinMaxScaler()\n",
    "scalerX.fit(X_train)\n",
    "X_train_scaled = scalerX.transform(X_train)\n",
    "\n",
    "# 목표 데이터 정규화\n",
    "scalerY=MinMaxScaler()\n",
    "scalerY.fit(y_train)\n",
    "y_train_scaled = scalerY.transform(y_train)"
   ]
  },
  {
   "cell_type": "code",
   "execution_count": 60,
   "id": "aaeb78c3-ba0f-4b9f-aa6c-235f18350eb5",
   "metadata": {},
   "outputs": [],
   "source": [
    "# 테스트 데이터 정규화\n",
    "X_test = X_test.reshape(-1,1)\n",
    "y_test = y_test.reshape(-1,1)\n",
    "\n",
    "# 학습용 데이터의 정규화 스케일에 맞추어 입력과 목표 데이터를 정규화\n",
    "X_test_scaled=scalerX.transform(X_test)\n",
    "y_test_scaled=scalerY.transform(y_test)"
   ]
  },
  {
   "cell_type": "markdown",
   "id": "e19e8bb5-2591-427c-9ccb-8e8182ac3384",
   "metadata": {},
   "source": [
    "## 6.모형화 및 학습"
   ]
  },
  {
   "cell_type": "code",
   "execution_count": 51,
   "id": "f09d1799-04cc-4ff6-a56e-e9e4e06c4108",
   "metadata": {},
   "outputs": [],
   "source": [
    "model = SGDRegressor(verbose=1)"
   ]
  },
  {
   "cell_type": "code",
   "execution_count": 52,
   "id": "8ca7441d-fcb7-4755-b00a-b857299d3ed5",
   "metadata": {},
   "outputs": [
    {
     "name": "stdout",
     "output_type": "stream",
     "text": [
      "-- Epoch 1\n",
      "Norm: 0.11, NNZs: 1, Bias: 0.188126, T: 221, Avg. loss: 0.058981\n",
      "Total training time: 0.00 seconds.\n",
      "-- Epoch 2\n",
      "Norm: 0.14, NNZs: 1, Bias: 0.242482, T: 442, Avg. loss: 0.035508\n",
      "Total training time: 0.00 seconds.\n",
      "-- Epoch 3\n",
      "Norm: 0.16, NNZs: 1, Bias: 0.268429, T: 663, Avg. loss: 0.030988\n",
      "Total training time: 0.00 seconds.\n",
      "-- Epoch 4\n",
      "Norm: 0.17, NNZs: 1, Bias: 0.280449, T: 884, Avg. loss: 0.029699\n",
      "Total training time: 0.00 seconds.\n",
      "-- Epoch 5\n",
      "Norm: 0.18, NNZs: 1, Bias: 0.285992, T: 1105, Avg. loss: 0.029280\n",
      "Total training time: 0.00 seconds.\n",
      "-- Epoch 6\n",
      "Norm: 0.18, NNZs: 1, Bias: 0.290268, T: 1326, Avg. loss: 0.029095\n",
      "Total training time: 0.00 seconds.\n",
      "-- Epoch 7\n",
      "Norm: 0.19, NNZs: 1, Bias: 0.291204, T: 1547, Avg. loss: 0.028998\n",
      "Total training time: 0.00 seconds.\n",
      "-- Epoch 8\n",
      "Norm: 0.19, NNZs: 1, Bias: 0.291239, T: 1768, Avg. loss: 0.028947\n",
      "Total training time: 0.00 seconds.\n",
      "-- Epoch 9\n",
      "Norm: 0.19, NNZs: 1, Bias: 0.290878, T: 1989, Avg. loss: 0.028905\n",
      "Total training time: 0.00 seconds.\n",
      "Convergence after 9 epochs took 0.00 seconds\n"
     ]
    },
    {
     "name": "stderr",
     "output_type": "stream",
     "text": [
      "/home/coco/anaconda3/envs/py38/lib/python3.8/site-packages/sklearn/utils/validation.py:1143: DataConversionWarning: A column-vector y was passed when a 1d array was expected. Please change the shape of y to (n_samples, ), for example using ravel().\n",
      "  y = column_or_1d(y, warn=True)\n"
     ]
    },
    {
     "data": {
      "text/html": [
       "<style>#sk-container-id-2 {color: black;background-color: white;}#sk-container-id-2 pre{padding: 0;}#sk-container-id-2 div.sk-toggleable {background-color: white;}#sk-container-id-2 label.sk-toggleable__label {cursor: pointer;display: block;width: 100%;margin-bottom: 0;padding: 0.3em;box-sizing: border-box;text-align: center;}#sk-container-id-2 label.sk-toggleable__label-arrow:before {content: \"▸\";float: left;margin-right: 0.25em;color: #696969;}#sk-container-id-2 label.sk-toggleable__label-arrow:hover:before {color: black;}#sk-container-id-2 div.sk-estimator:hover label.sk-toggleable__label-arrow:before {color: black;}#sk-container-id-2 div.sk-toggleable__content {max-height: 0;max-width: 0;overflow: hidden;text-align: left;background-color: #f0f8ff;}#sk-container-id-2 div.sk-toggleable__content pre {margin: 0.2em;color: black;border-radius: 0.25em;background-color: #f0f8ff;}#sk-container-id-2 input.sk-toggleable__control:checked~div.sk-toggleable__content {max-height: 200px;max-width: 100%;overflow: auto;}#sk-container-id-2 input.sk-toggleable__control:checked~label.sk-toggleable__label-arrow:before {content: \"▾\";}#sk-container-id-2 div.sk-estimator input.sk-toggleable__control:checked~label.sk-toggleable__label {background-color: #d4ebff;}#sk-container-id-2 div.sk-label input.sk-toggleable__control:checked~label.sk-toggleable__label {background-color: #d4ebff;}#sk-container-id-2 input.sk-hidden--visually {border: 0;clip: rect(1px 1px 1px 1px);clip: rect(1px, 1px, 1px, 1px);height: 1px;margin: -1px;overflow: hidden;padding: 0;position: absolute;width: 1px;}#sk-container-id-2 div.sk-estimator {font-family: monospace;background-color: #f0f8ff;border: 1px dotted black;border-radius: 0.25em;box-sizing: border-box;margin-bottom: 0.5em;}#sk-container-id-2 div.sk-estimator:hover {background-color: #d4ebff;}#sk-container-id-2 div.sk-parallel-item::after {content: \"\";width: 100%;border-bottom: 1px solid gray;flex-grow: 1;}#sk-container-id-2 div.sk-label:hover label.sk-toggleable__label {background-color: #d4ebff;}#sk-container-id-2 div.sk-serial::before {content: \"\";position: absolute;border-left: 1px solid gray;box-sizing: border-box;top: 0;bottom: 0;left: 50%;z-index: 0;}#sk-container-id-2 div.sk-serial {display: flex;flex-direction: column;align-items: center;background-color: white;padding-right: 0.2em;padding-left: 0.2em;position: relative;}#sk-container-id-2 div.sk-item {position: relative;z-index: 1;}#sk-container-id-2 div.sk-parallel {display: flex;align-items: stretch;justify-content: center;background-color: white;position: relative;}#sk-container-id-2 div.sk-item::before, #sk-container-id-2 div.sk-parallel-item::before {content: \"\";position: absolute;border-left: 1px solid gray;box-sizing: border-box;top: 0;bottom: 0;left: 50%;z-index: -1;}#sk-container-id-2 div.sk-parallel-item {display: flex;flex-direction: column;z-index: 1;position: relative;background-color: white;}#sk-container-id-2 div.sk-parallel-item:first-child::after {align-self: flex-end;width: 50%;}#sk-container-id-2 div.sk-parallel-item:last-child::after {align-self: flex-start;width: 50%;}#sk-container-id-2 div.sk-parallel-item:only-child::after {width: 0;}#sk-container-id-2 div.sk-dashed-wrapped {border: 1px dashed gray;margin: 0 0.4em 0.5em 0.4em;box-sizing: border-box;padding-bottom: 0.4em;background-color: white;}#sk-container-id-2 div.sk-label label {font-family: monospace;font-weight: bold;display: inline-block;line-height: 1.2em;}#sk-container-id-2 div.sk-label-container {text-align: center;}#sk-container-id-2 div.sk-container {/* jupyter's `normalize.less` sets `[hidden] { display: none; }` but bootstrap.min.css set `[hidden] { display: none !important; }` so we also need the `!important` here to be able to override the default hidden behavior on the sphinx rendered scikit-learn.org. See: https://github.com/scikit-learn/scikit-learn/issues/21755 */display: inline-block !important;position: relative;}#sk-container-id-2 div.sk-text-repr-fallback {display: none;}</style><div id=\"sk-container-id-2\" class=\"sk-top-container\"><div class=\"sk-text-repr-fallback\"><pre>SGDRegressor(verbose=1)</pre><b>In a Jupyter environment, please rerun this cell to show the HTML representation or trust the notebook. <br />On GitHub, the HTML representation is unable to render, please try loading this page with nbviewer.org.</b></div><div class=\"sk-container\" hidden><div class=\"sk-item\"><div class=\"sk-estimator sk-toggleable\"><input class=\"sk-toggleable__control sk-hidden--visually\" id=\"sk-estimator-id-2\" type=\"checkbox\" checked><label for=\"sk-estimator-id-2\" class=\"sk-toggleable__label sk-toggleable__label-arrow\">SGDRegressor</label><div class=\"sk-toggleable__content\"><pre>SGDRegressor(verbose=1)</pre></div></div></div></div></div>"
      ],
      "text/plain": [
       "SGDRegressor(verbose=1)"
      ]
     },
     "execution_count": 52,
     "metadata": {},
     "output_type": "execute_result"
    }
   ],
   "source": [
    "model.fit(X_train_scaled, y_train_scaled)"
   ]
  },
  {
   "cell_type": "code",
   "execution_count": 54,
   "id": "62f0d676-363f-4190-86b8-7445ebc35efa",
   "metadata": {},
   "outputs": [
    {
     "name": "stdout",
     "output_type": "stream",
     "text": [
      "y절편: [0.29087809]\n",
      "기울기: [0.19422995]\n"
     ]
    }
   ],
   "source": [
    "print('y절편:', model.intercept_)\n",
    "print('기울기:', model.coef_)"
   ]
  },
  {
   "cell_type": "code",
   "execution_count": 57,
   "id": "94120d90-f9d1-492f-8215-5b58e2413aa2",
   "metadata": {},
   "outputs": [
    {
     "data": {
      "image/png": "[encoded data removed]",
      "text/plain": [
       "<Figure size 640x480 with 1 Axes>"
      ]
     },
     "metadata": {},
     "output_type": "display_data"
    }
   ],
   "source": [
    "plt.scatter(X_train_scaled, y_train_scaled, color='b')\n",
    "x=np.array([min(X_train_scaled),max(X_train_scaled)])\n",
    "y=model.coef_*x+model.intercept_\n",
    "plt.plot(x,y,c='orange', label='regression line')\n",
    "plt.show()"
   ]
  },
  {
   "cell_type": "markdown",
   "id": "8ac14d28-e53e-4fef-b97d-487d9cd7d568",
   "metadata": {},
   "source": [
    "## 7.예측"
   ]
  },
  {
   "cell_type": "code",
   "execution_count": 61,
   "id": "6b12af4c-7c42-4e93-a72f-b4b419ecb7ce",
   "metadata": {},
   "outputs": [
    {
     "data": {
      "image/png": "[encoded data removed]",
      "text/plain": [
       "<Figure size 640x480 with 1 Axes>"
      ]
     },
     "metadata": {},
     "output_type": "display_data"
    }
   ],
   "source": [
    "# 테스트 데이터 예측\n",
    "y_pred=model.predict(X_test_scaled)\n",
    "\n",
    "# 테스트 데이터 실제 값\n",
    "plt.scatter(X_test_scaled, y_test_scaled, color='g')\n",
    "\n",
    "# 테스트 데이터 예측 값\n",
    "plt.scatter(X_test_scaled, y_pred, color='b')\n",
    "plt.show()"
   ]
  },
  {
   "cell_type": "code",
   "execution_count": 62,
   "id": "dda0430b-3abf-41db-80ab-ff3e6c2e086e",
   "metadata": {},
   "outputs": [],
   "source": [
    "# 예측 값의 역변환(실제 스케일)\n",
    "y_pred = y_pred.reshape(-1,1)\n",
    "y_pred_inverse = scalerY.inverse_transform(y_pred)"
   ]
  },
  {
   "cell_type": "code",
   "execution_count": null,
   "id": "ae210d46-2748-4abe-badf-ec95f2bae83e",
   "metadata": {},
   "outputs": [],
   "source": []
  }
 ],
 "metadata": {
  "kernelspec": {
   "display_name": "Python 3 (ipykernel)",
   "language": "python",
   "name": "python3"
  },
  "language_info": {
   "codemirror_mode": {
    "name": "ipython",
    "version": 3
   },
   "file_extension": ".py",
   "mimetype": "text/x-python",
   "name": "python",
   "nbconvert_exporter": "python",
   "pygments_lexer": "ipython3",
   "version": "3.8.16"
  }
 },
 "nbformat": 4,
 "nbformat_minor": 5
}
