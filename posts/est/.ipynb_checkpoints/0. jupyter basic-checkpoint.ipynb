{
 "cells": [
  {
   "cell_type": "raw",
   "id": "ddabe209-d054-4a6f-9530-ec76c3c93084",
   "metadata": {},
   "source": [
    "---\n",
    "title: \"1. 주피터 노트북 사용법\"\n",
    "author: \"김보람\"\n",
    "date: \"11/24/2022\"\n",
    "categories:\n",
    "  - 부스트코스\n",
    "---"
   ]
  },
  {
   "cell_type": "markdown",
   "id": "c8bb4f01",
   "metadata": {},
   "source": [
    "# 주피터 노트북 사용법\n",
    "* Shift+Enter 키를 누르면 셀이 실행되고 커서가 다음셀로 이동\n",
    "* Enter 키 누르면 편집상태로 돌아온다.\n",
    "* ESC 키를 누르고 \n",
    "  * a 키를 누르면 위에 셀이 추가 된다.\n",
    "  * b 키를 누르면 아래에 셀이 추가 된다.\n",
    "  * dd 키를 누르면 셀이 삭제 된다.\n",
    "  * m 키를 누르면 문서 셀로 변경 된다.\n",
    "  * y 키를 누르면 코드 셀로 변경 된다.\n",
    "* 단축키는 h 버튼 눌러서 확인이 가능하다\n",
    "\n",
    "### 마크다운(Markdown)이란?\n",
    "* 코드와 함께 문서화를 할 수 있다.\n",
    "* 문서화를 할 수 있는 문법\n",
    "``` \n",
    "여러 줄의 설명을\n",
    "줄바꿈으로 쓰고자 할 때\n",
    "```"
   ]
  },
  {
   "cell_type": "code",
   "execution_count": 2,
   "id": "846c54ee",
   "metadata": {},
   "outputs": [
    {
     "name": "stdout",
     "output_type": "stream",
     "text": [
      "Hello World\n"
     ]
    }
   ],
   "source": [
    "print(\"Hello World\")"
   ]
  },
  {
   "cell_type": "code",
   "execution_count": 3,
   "id": "04bde4c5",
   "metadata": {},
   "outputs": [
    {
     "data": {
      "text/plain": [
       "3"
      ]
     },
     "execution_count": 3,
     "metadata": {},
     "output_type": "execute_result"
    }
   ],
   "source": [
    "a=1\n",
    "b=2\n",
    "a+b"
   ]
  },
  {
   "cell_type": "code",
   "execution_count": null,
   "id": "dfba0c82",
   "metadata": {},
   "outputs": [],
   "source": [
    "for i in range(10000000):\n",
    "    print(i)"
   ]
  },
  {
   "cell_type": "code",
   "execution_count": null,
   "id": "8bf8bb1f",
   "metadata": {},
   "outputs": [],
   "source": []
  },
  {
   "cell_type": "code",
   "execution_count": null,
   "id": "cde1d425",
   "metadata": {},
   "outputs": [],
   "source": []
  },
  {
   "cell_type": "code",
   "execution_count": null,
   "id": "bd4973bf",
   "metadata": {},
   "outputs": [],
   "source": []
  },
  {
   "cell_type": "code",
   "execution_count": null,
   "id": "3768ca53",
   "metadata": {},
   "outputs": [],
   "source": []
  },
  {
   "cell_type": "code",
   "execution_count": null,
   "id": "4776de8a",
   "metadata": {},
   "outputs": [],
   "source": []
  }
 ],
 "metadata": {
  "kernelspec": {
   "display_name": "Python 3",
   "language": "python",
   "name": "python3"
  },
  "language_info": {
   "codemirror_mode": {
    "name": "ipython",
    "version": 3
   },
   "file_extension": ".py",
   "mimetype": "text/x-python",
   "name": "python",
   "nbconvert_exporter": "python",
   "pygments_lexer": "ipython3",
   "version": "3.7.16"
  }
 },
 "nbformat": 4,
 "nbformat_minor": 5
}
