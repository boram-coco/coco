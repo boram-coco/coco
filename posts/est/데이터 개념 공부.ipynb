{
 "cells": [
  {
   "cell_type": "raw",
   "id": "7dcdc92a-b369-411a-b012-7cbd39642de1",
   "metadata": {},
   "source": [
    "---\n",
    "title: \"데이터 개념공부\"\n",
    "author: \"김보람\"\n",
    "date: \"04/05/2023\"\n",
    "categories:\n",
    "  - 자격증 공부\n",
    "---"
   ]
  },
  {
   "cell_type": "markdown",
   "id": "32d10fef-5dca-44b0-881c-701c1b77f691",
   "metadata": {},
   "source": [
    "> 자격증 공부하면서 헷갈렸던 개념 공부"
   ]
  },
  {
   "cell_type": "markdown",
   "id": "98553d13-551a-45f2-a1c7-c93d0121a575",
   "metadata": {
    "tags": []
   },
   "source": [
    "# 프라이버시 보호 모델"
   ]
  },
  {
   "cell_type": "markdown",
   "id": "408b69ec-561f-455d-a657-a3fc8336214d",
   "metadata": {},
   "source": [
    "## k-익명성"
   ]
  },
  {
   "cell_type": "markdown",
   "id": "344c1a47-64e8-469c-ad53-9ef33a40d9c8",
   "metadata": {},
   "source": [
    "- 주어진 데이터 집합에서 같은 값이 적어도 k개 이상 존재\n",
    "\n",
    "- 연결 공격 취약점 방어"
   ]
  },
  {
   "cell_type": "markdown",
   "id": "52d91d5a-a16d-4b7b-af50-ba87207f3e77",
   "metadata": {},
   "source": [
    "## l-다양성"
   ]
  },
  {
   "cell_type": "markdown",
   "id": "cc515391-4c0a-46c0-a3bd-bacae107c5d5",
   "metadata": {},
   "source": [
    "- 주어진 데이터 집합에서 비식별 되는 레코드들은 적어도 l개의 서로 다른 민감한 정보를 가짐\n",
    "\n",
    "- k-익명성에 두가지 취약점인 동질성 공격, 배경 지식에 의한 공격 방어"
   ]
  },
  {
   "cell_type": "markdown",
   "id": "40c5ff95-6d74-44d5-be96-57e7928d3de9",
   "metadata": {},
   "source": [
    "## t-근접성"
   ]
  },
  {
   "cell_type": "markdown",
   "id": "50def707-f3a8-4208-9d5c-a1e0a1ee2ab5",
   "metadata": {},
   "source": [
    "- 정보의 분포가 t이하의 차이를 보여야 함\n",
    "\n",
    "- l-다양성의 쏠림 공격, 유사성 공격 보완"
   ]
  },
  {
   "cell_type": "markdown",
   "id": "d261d133-a8dc-43da-bcd0-1ebda1964510",
   "metadata": {},
   "source": [
    "## m-유일성"
   ]
  },
  {
   "cell_type": "markdown",
   "id": "c243a84b-1214-4d0b-85be-be1f10548ed8",
   "metadata": {},
   "source": [
    "- 원본 데이터와 동일한 속성 값의 조합이 비식별 결과 데이터에 최소 m개 이상 존재하여 재식별 가능성 낮춤"
   ]
  },
  {
   "cell_type": "markdown",
   "id": "ad7acb0d-5bab-4dae-a16e-3f20ed20bc96",
   "metadata": {},
   "source": [
    "# 대상별 분석 기획 유형"
   ]
  },
  {
   "cell_type": "markdown",
   "id": "6aa86cfd-ac59-4887-acc2-4ae0d241e356",
   "metadata": {},
   "source": [
    "|          |          |분석의 대상    | (What)    |\n",
    "|----------|----------|--------------|-----------|\n",
    "|          |          | Known        | Un-Known  |\n",
    "|분석의 방법| Known    | Optimization(최적화) | Insight(통찰)   |\n",
    "| (How)    | Un-Known | Solution(솔루션)     | Discovery(발견) |"
   ]
  },
  {
   "cell_type": "markdown",
   "id": "def8ef02-bb4c-4d96-aa43-3983689f12d1",
   "metadata": {},
   "source": [
    "# 분석과제 우선순위 평가"
   ]
  },
  {
   "cell_type": "markdown",
   "id": "a33ae4fc-88d4-4b87-939b-aa8a32ffd5b4",
   "metadata": {},
   "source": [
    "- 시급성: 전략정 중요도/목표가치(KPI)   $\\to$ **비즈니스효과**Value\n",
    " \n",
    "- 난이도: 데이터 획득,저장,가공비용/분석저용비용/분석수준 $\\to$ **투자비용 요소** Volume, Variety, Velocity"
   ]
  },
  {
   "cell_type": "markdown",
   "id": "3f708fd3-081c-4d81-bc6e-02756b7b5865",
   "metadata": {},
   "source": [
    "|                         |                   |                            |               |\n",
    "|:-----------------------:|:-----------------:|:--------------------------:|:-------------:|\n",
    "|  어려움 |         1         |                            |       2       |\n",
    "| **난이도** |         3         |                            |       4       |\n",
    "|    쉬움    | 현재 | **시급성** | 미래 |"
   ]
  },
  {
   "cell_type": "markdown",
   "id": "aa1ae837-a5e0-4b92-b57a-c4a55d92e4c8",
   "metadata": {},
   "source": [
    "- 난이도 기준 우선순위: 3 $\\to$ 1 $\\to$ 2\n",
    "\n",
    "- 시급성 기준 우선순위: 3 $\\to$ 4 $\\to$ 2"
   ]
  },
  {
   "cell_type": "markdown",
   "id": "d820ec23-37db-4961-94d0-96d89c71533a",
   "metadata": {},
   "source": [
    "# 개인정보 익명 처리 "
   ]
  },
  {
   "cell_type": "markdown",
   "id": "965a8dff-4b63-4524-ada0-b89ff7c1175a",
   "metadata": {},
   "source": [
    "- 가명\n",
    "\n",
    "- 일반화 \n",
    "\n",
    "- 섭동: 원래 데이터를 동일한 확률적 정보를 가지는 변형된 값으로 대체\n",
    "\n",
    "- 치환: 특정 컬럼의 데이터를 무작위로 순서 변경"
   ]
  },
  {
   "cell_type": "markdown",
   "id": "17b7211b-5365-4bdf-a015-0496df29eb23",
   "metadata": {},
   "source": [
    "# 데이터 저장 기술"
   ]
  },
  {
   "cell_type": "markdown",
   "id": "493b6e86-8a79-437a-ac5f-4df2679a2087",
   "metadata": {},
   "source": [
    "- 데이터웨어하우스(DW) : 다양한 데이터 소스로부터 데이터 수집하여 ETL과정을 거쳐 DW에 저장\n",
    "\n",
    "- 데이터 마트(DM) : DW로부터 특정 주제별 또는 특정 부서별로 DM생성, 마케팅, 금융 등의 의사결정 지원\n",
    "\n",
    "- 데이터 레이크(DL) : 웹/로그 데이터, 기타 데이터는 DL에 저장되며 저장된 데이터는 사이언스에 활용"
   ]
  },
  {
   "cell_type": "markdown",
   "id": "e5543cde-f2bb-47ec-98b5-9b224b760f46",
   "metadata": {},
   "source": []
  },
  {
   "cell_type": "markdown",
   "id": "6842756a-adc7-4e3b-a534-2c89e49b64c6",
   "metadata": {},
   "source": [
    "# 지도 학습(Supervised Learning)"
   ]
  },
  {
   "cell_type": "markdown",
   "id": "a8e94ef3-614d-4de5-8497-d15cdce66411",
   "metadata": {},
   "source": [
    "- 정답(label)이 있는 데이터로 학습을 시킴"
   ]
  },
  {
   "cell_type": "markdown",
   "id": "46d15df0-7355-4675-ada3-ede206d89b47",
   "metadata": {},
   "source": [
    "## 분류 모델"
   ]
  },
  {
   "cell_type": "markdown",
   "id": "527d195f-0d6f-4673-b1bd-c74ea452f309",
   "metadata": {},
   "source": [
    "## 회귀모델"
   ]
  },
  {
   "cell_type": "markdown",
   "id": "202f2cf1-5f73-4776-9722-16d2955977aa",
   "metadata": {},
   "source": [
    "## SVM"
   ]
  },
  {
   "cell_type": "markdown",
   "id": "f51aca4b-50a5-42bf-9acc-62a4790672e2",
   "metadata": {},
   "source": [
    "- Margin : 서포트 벡터를 지나는 초평면 사이 거리"
   ]
  },
  {
   "cell_type": "markdown",
   "id": "f6c94479-239c-4ce4-815d-bbf56839fa6b",
   "metadata": {},
   "source": [
    "# 비지도 학습 (Unsupervised Learning)"
   ]
  },
  {
   "cell_type": "markdown",
   "id": "9fa66cc8-d482-40d9-b7b3-caf773d181ce",
   "metadata": {},
   "source": [
    "- 정답이 없는 데이터를 컴퓨터가 스스로 학습하여 숨겨진 의미와 패턴을 찾아내고 구조화함"
   ]
  },
  {
   "cell_type": "markdown",
   "id": "7383dfa8-b94e-4a15-be72-a5b858a26b61",
   "metadata": {},
   "source": [
    "## 군집 분석"
   ]
  },
  {
   "cell_type": "markdown",
   "id": "aff467d7-0449-4658-bb1c-0fb68e19ee8a",
   "metadata": {},
   "source": [
    "ex) 미국 주별 강력 범죄율 군집분석: 가까운 거리에 있는 유사 특징을 가진 도시들을 묶어서 보여줌"
   ]
  },
  {
   "cell_type": "markdown",
   "id": "c3261802-6a59-4987-bba4-a464e36ba36d",
   "metadata": {},
   "source": [
    "- 군집내 유사성, 군집간 상이성"
   ]
  },
  {
   "cell_type": "markdown",
   "id": "84b8f7ca-b3a5-4ea3-b8b0-8327a755ee6e",
   "metadata": {},
   "source": [
    "## 연관성분석"
   ]
  },
  {
   "cell_type": "markdown",
   "id": "0c2d3e25-ace6-4b45-bb5b-703571b02e76",
   "metadata": {},
   "source": [
    "- 유사 개체들을 그룹화하여 각 집단의 특성을 파악하고 사건의 연관규칙을 찾는다."
   ]
  },
  {
   "cell_type": "markdown",
   "id": "db39462c-868c-4e95-885b-0654fcb7ba6a",
   "metadata": {},
   "source": [
    "`-` 지지도\n",
    "\n",
    "`-` 신뢰도\n",
    "\n",
    "`-` 향상도"
   ]
  },
  {
   "cell_type": "markdown",
   "id": "98247db1-b489-4928-bff9-bd48c41c8154",
   "metadata": {},
   "source": [
    "## 인공신경망"
   ]
  },
  {
   "cell_type": "markdown",
   "id": "da73934d-4fe9-4666-9403-54ea4c5f0ff2",
   "metadata": {},
   "source": [
    "## 오토인코더"
   ]
  },
  {
   "cell_type": "markdown",
   "id": "d6742b22-bb6b-43f8-a221-65a776df366f",
   "metadata": {},
   "source": [
    "- 다차원데이터를 저차원, 고차원 데이터로 바꾸면서 특징을 찾는다.\n",
    "- 다차원 데이터를 입력하면 encoder 통해 차원을 줄이는 은닉충으로 이동하고 decoder 통해 차원을 늘리는 출력층으로 내보낸 뒤 출력값을 입력값과 비슷하게 만드는 가중치를 찾는다.\n",
    "- 데이터를 압축하고 배경의 잡음을 억제"
   ]
  },
  {
   "cell_type": "markdown",
   "id": "7edf1e9f-7515-4d1c-84a3-bae84fef4559",
   "metadata": {},
   "source": [
    "# 준지도 학습 (Semi-supervised Learning)"
   ]
  },
  {
   "cell_type": "markdown",
   "id": "7d469c4e-766f-4d50-b059-5a7d45680638",
   "metadata": {},
   "source": [
    "- 정답이 있고 없는 데이터를 동시에 학습 시킴"
   ]
  },
  {
   "cell_type": "markdown",
   "id": "521f1032-797b-4e19-9879-aa76329ad6fc",
   "metadata": {},
   "source": [
    "## GAN"
   ]
  },
  {
   "cell_type": "markdown",
   "id": "f20526f4-e947-4cc3-81a3-e8f077551790",
   "metadata": {},
   "source": [
    "- 학습 데이터 패턴과 유사한 것을 만드는 생성자(generator) 네트워크와 패턴 진위 여부를 판별하는 판별자(discriminator) 네트워크로 구성\n",
    "- 기계학습에서 교수님이 설명해주신 내용중에.. 그 경찰이랑 범죄자 관련 내용 참고하자"
   ]
  },
  {
   "cell_type": "markdown",
   "id": "21b069e4-47b4-45bb-a469-104ab6f994e3",
   "metadata": {},
   "source": [
    "# 강화 학습 (Reinforcement Learning)"
   ]
  },
  {
   "cell_type": "markdown",
   "id": "ab36d09f-5eb9-4ea2-9f5b-bfc4f6a2a7b9",
   "metadata": {},
   "source": [
    "- 주어진 환경에서 보상을 최대화하여 에이전트를 학습시킴\n",
    "\n",
    "- 종류: Q-learning, 정책경사(PG:Policy Gradinet)"
   ]
  },
  {
   "cell_type": "markdown",
   "id": "701c86c1-cd14-4949-8cd0-bd6d6d106f3d",
   "metadata": {
    "tags": []
   },
   "source": [
    "# 독립변수와 종속변수의 데이터 유형에 따른 분석 기법"
   ]
  },
  {
   "cell_type": "markdown",
   "id": "d3087f2b-af61-44b0-a58a-e27ab4a3b690",
   "metadata": {},
   "source": [
    "## 독립변수(X:연속형)-종속변수(Y:연속형)"
   ]
  },
  {
   "cell_type": "markdown",
   "id": "7fe6d087-8c9a-4865-aa64-b557264c3f0d",
   "metadata": {},
   "source": [
    "- 회귀 분석\n",
    "\n",
    "- 인공신경망 모델\n",
    "\n",
    "- k-최근접 이웃기법\n",
    "\n",
    "- 의사결정나무(회귀 나무)"
   ]
  },
  {
   "cell_type": "markdown",
   "id": "553d9e67-a486-42dc-a1a5-c88efd20f32c",
   "metadata": {},
   "source": [
    "## 독립변수(X:연속형)-종속변수(Y:이산형/범주형)"
   ]
  },
  {
   "cell_type": "markdown",
   "id": "202e4604-8543-426d-9f4b-732b411c0139",
   "metadata": {},
   "source": [
    "- 로지스틱 회귀 분석\n",
    "\n",
    "- 판별 분석\n",
    "\n",
    "- K-최근접 이웃기법\n",
    "\n",
    "- 의사결정나무(분류나무)"
   ]
  },
  {
   "cell_type": "markdown",
   "id": "c91c29a3-222c-4fe6-b015-470b0bfb8b69",
   "metadata": {},
   "source": [
    "## 독립변수(X:이산형/범주형)-종속변수(Y:연속형)"
   ]
  },
  {
   "cell_type": "markdown",
   "id": "0969fd2a-40e5-473b-a086-18e1377088f3",
   "metadata": {},
   "source": [
    "- 회귀 분석\n",
    "\n",
    "- 인공신경망 모델\n",
    "\n",
    "- 의사결정나무(회귀 나무)"
   ]
  },
  {
   "cell_type": "markdown",
   "id": "abe8e440-20ae-4223-8d56-41e40ea6c7b0",
   "metadata": {},
   "source": [
    "## 독립변수(X:이산형/범주형)-종속변수(Y:이산형/범주형)"
   ]
  },
  {
   "cell_type": "markdown",
   "id": "157ea314-82d7-4c98-828c-08e86f96117d",
   "metadata": {},
   "source": [
    "- 인공신경망 모델\n",
    "\n",
    "- 의사결정나무(분류 나무)\n",
    "\n",
    "- 로지스틱 회귀 분석"
   ]
  },
  {
   "cell_type": "markdown",
   "id": "e6de4b2d-d6d0-4a89-988b-9986078b299a",
   "metadata": {
    "tags": []
   },
   "source": [
    "# 데이터 결측값"
   ]
  },
  {
   "cell_type": "markdown",
   "id": "fcef6551-d8ae-4a5f-9428-356332e399d6",
   "metadata": {},
   "source": [
    "`-` 종류"
   ]
  },
  {
   "cell_type": "markdown",
   "id": "6a186818-2918-480f-909b-581fd6bd5282",
   "metadata": {},
   "source": [
    "`1` 완전무작위결측(MCAR)\n",
    "\n",
    "- 변수상 발생한 결측값이 다른 변수들과 아무런 상관이 없는 경우\n",
    "\n",
    "`2` 무작위 결측(MAR)\n",
    "\n",
    "- 누락된 자료가 특정 변수와 관련되어 일어나지만, 그 변수의 결과는 관계 없음\n",
    "\n",
    "- 누락이 전체 정보가 있는 변수로 설명이 될 수 있음\n",
    "\n",
    "`3` 비 무작위 결측(MNAR)\n",
    "\n",
    "- 누락된 값이 다른 변수와 연관이 있음"
   ]
  },
  {
   "cell_type": "markdown",
   "id": "d8c71444-54e0-47ed-a801-4b032ef68b14",
   "metadata": {
    "tags": []
   },
   "source": [
    "# 변수 선택"
   ]
  },
  {
   "cell_type": "markdown",
   "id": "f3266365-de4a-4dc9-87ae-b71fca121890",
   "metadata": {},
   "source": [
    "## 필터 기법"
   ]
  },
  {
   "cell_type": "markdown",
   "id": "83fab923-d701-4e72-a015-145b7c3e9f46",
   "metadata": {},
   "source": [
    "## 래퍼 기법"
   ]
  },
  {
   "cell_type": "markdown",
   "id": "ee4b4683-d04c-49d2-9530-991d8aad61fe",
   "metadata": {},
   "source": [
    "- 예측 정확도 측면에서 가장 좋은 성능을 보이는 하위집합 선택\n",
    "\n",
    "- 그리디 알고리즘(문제를 해결하는 과정에서 그 순간 최적이라고 생각하는 결정)\n",
    "\n",
    "- 전진 선택법, 후진 소거법, 단계적 방법\n",
    "\n",
    "- 변수의 일부를 모델링에 사용하고 그 결과를 확인하는 작업 반복"
   ]
  },
  {
   "cell_type": "markdown",
   "id": "0ef5fbc9-e138-41f8-b825-eb0bb6910257",
   "metadata": {},
   "source": [
    "## 임베디드 기법"
   ]
  },
  {
   "cell_type": "markdown",
   "id": "de7372d6-751d-4a81-bda7-22b1d9e037bd",
   "metadata": {},
   "source": [
    "- 모델의 정확도에 기여 하는 변수 학습\n",
    "\n",
    "- 좀 더 적은 계수를 가지는 회귀식 찾기\n",
    "\n",
    "`-` 사례\n",
    "\n",
    "- 라쏘(LASSO): 가중치의 절댓값의 합을 최소화, L1-norm을 통해 제약을 줌\n",
    "\n",
    "- 릿지(Ridge): 가중치들의 제곱합을 최소화, L2-norm\n",
    "\n",
    "- 엘라스틱넷: 라쏘 + 릿지\n"
   ]
  },
  {
   "cell_type": "markdown",
   "id": "72d524cb-1c2a-42c9-87a6-004ba20786e8",
   "metadata": {
    "tags": []
   },
   "source": [
    "# 차원축소기법"
   ]
  },
  {
   "cell_type": "markdown",
   "id": "ec2871a9-4bae-4dd0-9224-15b45ff705ad",
   "metadata": {},
   "source": [
    "`-` 주성분 분석(PCA)"
   ]
  },
  {
   "cell_type": "markdown",
   "id": "cc425153-e240-4e65-8dbf-fe2ef8adb95c",
   "metadata": {},
   "source": [
    "- 변수들이 공분산 행렬이나 상관행렬 이용\n",
    "\n",
    "- 고차원 공간의 표본들을 선형 연관성이 없는 저차원 공간으로 변환\n",
    "\n",
    "- 정방행렬에서 이용"
   ]
  },
  {
   "cell_type": "markdown",
   "id": "dbaad79b-2bd5-4d19-813b-9193f6207ecd",
   "metadata": {},
   "source": [
    "`-`. 특이값 분해(SVD)"
   ]
  },
  {
   "cell_type": "markdown",
   "id": "6f9480f8-63c7-4fd0-b764-6fe85bd582e1",
   "metadata": {},
   "source": [
    "- $MXN$차원 행렬데이터에서 특이값 추출"
   ]
  },
  {
   "cell_type": "markdown",
   "id": "81070f5c-7b9f-4643-bdb7-eef18f5240ac",
   "metadata": {
    "tags": []
   },
   "source": [
    "# 시계열 모형"
   ]
  },
  {
   "cell_type": "code",
   "execution_count": null,
   "id": "042edb20-9467-4621-afb1-225a734cc9df",
   "metadata": {},
   "outputs": [],
   "source": []
  },
  {
   "cell_type": "markdown",
   "id": "f98ddc55-a35b-4d74-85e3-7adc16e40644",
   "metadata": {},
   "source": [
    "## 자기회귀모형(AR)"
   ]
  },
  {
   "cell_type": "markdown",
   "id": "0c5da5c3-4b96-4c0e-8880-b22cb849a71b",
   "metadata": {},
   "source": [
    "- 현 시점의 자료가 p시점 전의 유한개의 과거 자료로 설명될 수 있는 모형"
   ]
  },
  {
   "cell_type": "markdown",
   "id": "c775a54c-f43f-447d-9045-893726a19a38",
   "metadata": {},
   "source": [
    "## 이동평균모형(MA)"
   ]
  },
  {
   "cell_type": "markdown",
   "id": "0161ed5a-67ed-41a3-8bf3-a5cfcd0415f3",
   "metadata": {},
   "source": [
    "- 시간이 지날수록 관측치의 평균값이 지속적으로 증가하거나 감소하는 시계열 모형\n",
    "\n",
    "- 유한개의 백색잡음의 선형결합으로 정상성 만족"
   ]
  },
  {
   "cell_type": "markdown",
   "id": "9a8eb6e7-2282-4543-ae60-188106e2aaab",
   "metadata": {},
   "source": [
    "## 자기 회귀 누적 이동평균 모형(ARIMA)"
   ]
  },
  {
   "cell_type": "markdown",
   "id": "805420c6-128b-40de-a173-ac117517d296",
   "metadata": {},
   "source": [
    "- 분기/반기/연간 단위로 다음 지표를 예측하거나 주간/월간 단위로 지표 리뷰\n",
    "\n",
    "- 비정상 시계열 모형. 차분이나 변환으로 AR,MA,ARMA모형으로 정상화\n",
    "\n",
    "- `ARIMA(p,d,q)`\n",
    "\n",
    "- `p`: AR과 관련,  `q`: MA와 관련, `d`:ARIMA에서 ARMA로 정상화 할때 차분 횟수\n",
    "\n",
    "- ARIMA(0,0,0): 백색잡음 모형\n",
    "\n",
    "- ARIMA(p,0,0): AR모형\n",
    "\n",
    "- ARIMA(0,0,q): MA모형"
   ]
  },
  {
   "cell_type": "markdown",
   "id": "8bf9408d-bd52-41c2-b333-b037edeeed7d",
   "metadata": {},
   "source": [
    "# 혼동 행렬"
   ]
  },
  {
   "cell_type": "markdown",
   "id": "9dc8d3c8-8542-47b0-a807-6348e8abd5ad",
   "metadata": {},
   "source": [
    "|   |                   |                    |                   |\n",
    "|:-:|:-----------------:|:------------------:|:-----------------:|\n",
    "|   |                   | Predicted Positive | Prdicted Negative |\n",
    "|   |  Actual Positive  |         TP         |         FN        |\n",
    "|   | Prdicted Negative |         FP         |         TN        |"
   ]
  },
  {
   "cell_type": "markdown",
   "id": "cb4b0d6b-99d9-4c87-af0d-ced62bf06222",
   "metadata": {},
   "source": [
    "- 정확도(Accuracy) = 정분류율 : $\\dfrac{TP+TN}{TP+TN+FP+FN}$ \n",
    "\n",
    "- 참 긍정률(TP Rate) = 재현율(Recall) = 민감도(Sensitivity) : $\\dfrac{TP}{TP+FN}$ 실제로 긍정인 범주 중 긍정\n",
    "\n",
    "- 특이도(Specificity) : $\\dfrac{TN}{TN+FP}$ 실제로 부정인 범주 중 부정\n",
    "\n",
    "- 거짓 긍정률(FP Rate) : $\\dfrac{FP}{TN+FP}$ 실제로 부정인 범주 중 긍정, = 1-특이도\n",
    "\n",
    "- 정밀도(Precision) : $\\dfrac{TP}{TP+FP}$ 긍정 예측 중 긍정\n",
    "\n",
    "- F1-Score : $2 \\dfrac{정밀도 X 재현율}{정밀도+재현율}$ : 0~1사이 범위\n",
    "\n",
    "- ROC곡선의 x축: 거짓 긍정률, y축: 참 긍정률"
   ]
  },
  {
   "cell_type": "markdown",
   "id": "0c81363d-68a8-428b-a29b-a0f9148c850a",
   "metadata": {},
   "source": [
    "- 불균형 데이터에서는 정확도가 높지만 분포가 작은 데이터에 대하여 정밀도와 재현율이 낮아지는 문제가 발생할 수 있다."
   ]
  },
  {
   "cell_type": "markdown",
   "id": "d7b435ff-7412-4dda-8503-9ea07071dcf7",
   "metadata": {},
   "source": [
    "# 단답"
   ]
  },
  {
   "cell_type": "markdown",
   "id": "f3ec49a5-d985-41c0-9250-20efa78f9efe",
   "metadata": {},
   "source": [
    "- EDA: 데이터를 이해하고 의미 있는 관계를 파악하기 위해 데이터의 통계값과 분포 등을 시각화하고 분석하는 것\n",
    "\n",
    "- 로보 어드바이저(Robo Advisor): 인간의 간섭을 가능한 최소화하여 금융 서비스나 투자 관리를 온라인으로 제공하는 투자 자문역할의 일종. 수리적 규칙이나 알고리즘에 기반한 디지털 금융 서비스 제공\n",
    "\n",
    "- EM알고리즘: GMM(Gaussian Mixture Model) 군집분석이 모수를 학습하는 방법\n",
    "\n",
    "- 러스터(Luster): 고성능 컴퓨팅을 위한 대용량 파일 분산 파일 시스템으로, 고속 네트워크로 연결된 클라이언트 파일 시스템, 메타데이터 서버, 객체 저장 서버들로 구성된 시스템. 리눅스와 클러스터의 합성어\n",
    "\n",
    "- K평균군집화: 임의의 개수로 소집단을 나누고 소집단의 중심으로부터 각 개체까지의 거리를 산출하고 나서, 각 개체를 가장 근접한 소집단에 배정한 이후, 해당 소집단의 중심좌표를 업데이트하는 군집화 방식\n",
    "\n",
    "- RDBMS: 관계형  데이터베이스를  SQL을  사용해  CRUD(Create,  Read,  Update,  Delete)를  수행하고 관리할  수  있는  소프트웨어\n",
    "\n",
    "- 데이터 거버넌스: 전사  차원의  모든  데이터에  대해  정책  및  지침,  표준화,  운영  조직  및  책임  등의  표준화된 관리  체계를  수립하고  운영을  위한  프레임워크  및  저장소를  구축하는  것\n",
    "\n",
    "- 스피어만상관계수: 비선형적인 관계도 파악하는 상관계수\n",
    "\n",
    "- 데이터 스케일링: 데이터 전처리 과정 중에 분석 결과가 왜곡되지 않도록 변수들의 범위를 동일하게 만들어주는 처리 기법\n",
    "\n",
    "- 클라우드 컴퓨팅: 빅데이터  분석에  경제성을  제공해준  기술 / 인터넷상의  서버에서  데이터  저장,  처리,  네 트워크,  콘텐츠  사용  등  서로  다른  물리적인  위치에  존재하는  컴퓨팅  자원을  가상화  기술을 통해  IT  관련  서비스를  한번에  제공하는  혁신적인  컴퓨팅  기술\n",
    "\n",
    "- T접근성: 동질  집합에서  민감정보의  분포와  전체  데이터  집합에서의  민감정보  분포가  유사한  차이를 보이게  만드는  기법\n",
    "\n",
    "- 변동계수(CV): 표준편차를 평균으로 나눈 값, 서로 다른 자료의 흩어진 정도를 상대적으로 비교할 때 사용\n",
    "\n",
    "- **다차원 척도법**: 동일한  상대적  거리를  가진  실수  공간의  점들로  대상들을  배 치시키는  방법은,  개체들 사이의  유사성,  비유사성을  측정하여  2차원  또는  3차원  공간상에  점으로  표현하여  개체들 사이의  집단화를  시각적으로  표현하는  분석  방법\n",
    "\n",
    "- SCM(Supply Cahin Management): 기업이  시간과  비용을  최적화  시키기  위해  외부  공급업체와  연계하여  통합한  정보시스템\n",
    "\n",
    "- TCO : 하나의 자산을 획득하려 할 때, 주어진 기간 동안 모든 연관 비용을 고려할 수 있도록 확인하기 위해 사용하는 평가 기법이며, 일반적으로 3년 소유비용, 5년 소유비용 등으로 계산하는 해당 지표\n",
    "\n",
    "- 마할라노비스 거리: 이상값 검출 방법, 데이터 분포를 고려한 거리 측도\n",
    "\n",
    "- 코사인 유사도: 두 벡터 사이의 각도를 이용하여 벡터간의 유사 정도를 측정\n",
    "\n",
    "- KPI(Key Performance Indicator): 기업의 목표를 달성하기 위핸 핵심 성과 지표"
   ]
  },
  {
   "cell_type": "code",
   "execution_count": null,
   "id": "426cd1cc-f4f8-47f2-90dc-fa722992d688",
   "metadata": {},
   "outputs": [],
   "source": []
  }
 ],
 "metadata": {
  "kernelspec": {
   "display_name": "Python 3 (ipykernel)",
   "language": "python",
   "name": "python3"
  },
  "language_info": {
   "codemirror_mode": {
    "name": "ipython",
    "version": 3
   },
   "file_extension": ".py",
   "mimetype": "text/x-python",
   "name": "python",
   "nbconvert_exporter": "python",
   "pygments_lexer": "ipython3",
   "version": "3.8.16"
  }
 },
 "nbformat": 4,
 "nbformat_minor": 5
}
