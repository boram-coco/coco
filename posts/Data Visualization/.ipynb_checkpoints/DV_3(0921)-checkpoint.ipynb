{
 "cells": [
  {
   "cell_type": "raw",
   "id": "b79b164f-a434-4fa6-abb8-555ef0238a22",
   "metadata": {},
   "source": [
    "---\n",
    "title: \"DV 3주차(2)\"\n",
    "author: \"김보람\"\n",
    "date: \"09/21/2022\"\n",
    "categories:\n",
    "  - MATPLOTLIB\n",
    "  - 통계와 시각화\n",
    "---"
   ]
  },
  {
   "cell_type": "code",
   "execution_count": 26,
   "id": "e5ac19cd-084a-423d-99b6-07a9547793c8",
   "metadata": {},
   "outputs": [],
   "source": [
    "import matplotlib.pyplot as plt\n",
    "import numpy as np\n",
    "import plotly.express as px\n",
    "from IPython.display import HTML"
   ]
  },
  {
   "cell_type": "markdown",
   "id": "ae3bf46f-9c21-4672-9e3c-a919120d738d",
   "metadata": {},
   "source": [
    "## 산점도 응용예제1 - 표본상관계수"
   ]
  },
  {
   "cell_type": "markdown",
   "id": "58a5b94a-f6eb-4c7b-9b72-213836a5f92f",
   "metadata": {},
   "source": [
    "### 예제소개"
   ]
  },
  {
   "cell_type": "markdown",
   "id": "5aa6077a-ec16-45bc-9337-5b1eefd1ba8b",
   "metadata": {},
   "source": [
    "`-` 아래와 같은 자료를 수집하였다고 하자.\n",
    "\n",
    "- 몸무게 = [44,48,49,58,62,68,69,70,76,79]\n",
    "- 키 = [159,160,162,165,167,162,165,175,165,172]\n"
   ]
  },
  {
   "cell_type": "code",
   "execution_count": 3,
   "id": "59cc6d4f-105f-4d0a-9464-98cd30ad15b5",
   "metadata": {},
   "outputs": [],
   "source": [
    "x=[44,48,49,58,62,68,69,70,76,79]\n",
    "y=[159,160,162,165,167,162,165,175,165,172]"
   ]
  },
  {
   "cell_type": "code",
   "execution_count": 4,
   "id": "795a5309-dfa2-4a24-b6c8-03723f85a04e",
   "metadata": {},
   "outputs": [
    {
     "data": {
      "text/plain": [
       "[<matplotlib.lines.Line2D at 0x7f6c1ffc8f50>]"
      ]
     },
     "execution_count": 4,
     "metadata": {},
     "output_type": "execute_result"
    },
    {
     "data": {
      "image/png": "[encoded data removed]",
      "text/plain": [
       "<Figure size 432x288 with 1 Axes>"
      ]
     },
     "metadata": {
      "needs_background": "light"
     },
     "output_type": "display_data"
    }
   ],
   "source": [
    "plt.plot(x,y,'o')"
   ]
  },
  {
   "cell_type": "markdown",
   "id": "3d0c84b4-f374-4271-8073-5d0a9ad2f3cc",
   "metadata": {},
   "source": [
    "- 키가 큰 사람일수록 몸무게도 많이 나간다. (반대도 성립)\n",
    "- 키와 몸무게는 관계가 있어 보인다. (정비례)"
   ]
  },
  {
   "cell_type": "markdown",
   "id": "36c33550-e43c-4348-b1e2-72c8eac7b49b",
   "metadata": {},
   "source": [
    "`-` 얼만큼 정비례인가?"
   ]
  },
  {
   "cell_type": "markdown",
   "id": "a96dc9a6-ffe9-4cbb-9818-5bf0d85544c3",
   "metadata": {},
   "source": [
    "- 이 질문에 대답하기 위해서는 상관계수의 개념을 알아야 한다.\n",
    "- 상관계수는 산점도에서 가장 중요한 개념 중 하나"
   ]
  },
  {
   "cell_type": "markdown",
   "id": "b153ea87-9c6d-4800-a2da-1279746b6704",
   "metadata": {},
   "source": [
    "### 상관계수의 정의"
   ]
  },
  {
   "cell_type": "markdown",
   "id": "1100b4d6-e7d0-4d73-90e4-b3191a79d6df",
   "metadata": {},
   "source": [
    "`-` (표본) 상관계수"
   ]
  },
  {
   "cell_type": "markdown",
   "id": "3b69dafa-a469-4fbe-a91a-4f1957b660ec",
   "metadata": {},
   "source": [
    "$$r=\\frac{\\sum_{i=1}^{n}(x_i-\\bar{x})(y_i-\\bar{y}) }{\\sqrt{\\sum_{i=1}^{n}(x_i-\\bar{x})^2\\sum_{i=1}^{n}(y_i-\\bar{y})^2 }}=\\sum_{i=1}^{n}\\tilde{x}_i\\tilde{y}_i $$\n"
   ]
  },
  {
   "cell_type": "markdown",
   "id": "6c5a9012-3db8-401c-bda5-7edc853d4542",
   "metadata": {},
   "source": [
    "- 단, $\\tilde{x}_i=\\frac{(x_i-\\bar{x})}{\\sqrt{\\sum_{i=1}^n(x_i-\\bar{x})^2}}$, $\\tilde{y}_i=\\frac{(y_i-\\bar{y})}{\\sqrt{\\sum_{i=1}^n(y_i-\\bar{y})^2}}$"
   ]
  },
  {
   "cell_type": "markdown",
   "id": "96547a7a-1f2e-4798-9f59-119672bfeb62",
   "metadata": {},
   "source": [
    "`-` $\\tilde{x}_i$와 $\\tilde{y}_i$를 계산하기 위해서 $a=\\sqrt{\\sum_{i=1}^{n}(x_i-\\bar{x})^2}, b=\\sqrt{\\sum_{i=1}^{n}(y_i-\\bar{y})^2}$를 계산하자. "
   ]
  },
  {
   "cell_type": "markdown",
   "id": "4fe97cc6-4a19-4fdb-bbaf-10782d414906",
   "metadata": {},
   "source": [
    "(방법1)"
   ]
  },
  {
   "cell_type": "code",
   "execution_count": 20,
   "id": "cead542f-682e-4bb0-a9b2-d4c02e1d9e99",
   "metadata": {},
   "outputs": [
    {
     "data": {
      "text/plain": [
       "[<matplotlib.lines.Line2D at 0x7f6c1fcd5f50>]"
      ]
     },
     "execution_count": 20,
     "metadata": {},
     "output_type": "execute_result"
    },
    {
     "data": {
      "image/png": "[encoded data removed]",
      "text/plain": [
       "<Figure size 864x288 with 3 Axes>"
      ]
     },
     "metadata": {
      "needs_background": "light"
     },
     "output_type": "display_data"
    }
   ],
   "source": [
    "fig, ax = plt.subplots(1,3, figsize=(12,4))\n",
    "ax[0].plot(x,y,'o')\n",
    "ax[1].plot(np.array(x) - np.mean(x), np.array(y)-np.mean(y), 'o')"
   ]
  },
  {
   "cell_type": "code",
   "execution_count": 21,
   "id": "c96afb39-a76f-4364-b15e-976360c057b7",
   "metadata": {},
   "outputs": [],
   "source": [
    "xx= (np.array(x) - np.mean(x)) / np.sqrt(np.sum((x-np.mean(x))**2))\n",
    "yy= (np.array(y) - np.mean(y)) / np.sqrt(np.sum((y-np.mean(y))**2))"
   ]
  },
  {
   "cell_type": "code",
   "execution_count": 22,
   "id": "3637b77f-c840-4ead-84ce-eea9ab4a27f0",
   "metadata": {},
   "outputs": [
    {
     "data": {
      "text/plain": [
       "[<matplotlib.lines.Line2D at 0x7f6c1fed8350>]"
      ]
     },
     "execution_count": 22,
     "metadata": {},
     "output_type": "execute_result"
    }
   ],
   "source": [
    "ax[2].plot(xx,yy,'o')"
   ]
  },
  {
   "cell_type": "code",
   "execution_count": 23,
   "id": "7ac96f50-7e0e-4a62-a668-9d0fb9ee8ef9",
   "metadata": {},
   "outputs": [
    {
     "data": {
      "image/png": "[encoded data removed]",
      "text/plain": [
       "<Figure size 864x288 with 3 Axes>"
      ]
     },
     "execution_count": 23,
     "metadata": {},
     "output_type": "execute_result"
    }
   ],
   "source": [
    "fig"
   ]
  },
  {
   "cell_type": "markdown",
   "id": "c06aa057-098a-43c4-bb61-9fd572459886",
   "metadata": {},
   "source": [
    "첫번째 그림에서 두번쨰 그림 갈때 0근처로 감\n",
    "\n",
    "두번째 그림에서 세번째 그림은 퍼져있는 정도(분산)이 큰 차이가 없음(1근처로 왔다갔다..)"
   ]
  },
  {
   "cell_type": "markdown",
   "id": "182286ed-616b-470c-bffd-d5edb249406c",
   "metadata": {},
   "source": [
    "(방법2)"
   ]
  },
  {
   "cell_type": "markdown",
   "id": "13e97088-b59d-41d5-89b2-26efc9ed3473",
   "metadata": {},
   "source": [
    "`-` 사실 $a,b$는 아래와 같이 계산할 수 있다.\n",
    "\n",
    "$a=\\sqrt{n}\\times{\\tt np.std(x)}$ \n",
    "\n",
    "$b=\\sqrt{n}\\times{\\tt np.std(y)}$ "
   ]
  },
  {
   "cell_type": "code",
   "execution_count": 29,
   "id": "7b164c6a-05c0-4c50-829a-66ea82bfcd62",
   "metadata": {},
   "outputs": [
    {
     "data": {
      "text/plain": [
       "(36.58004920718397, 15.21840990379744)"
      ]
     },
     "execution_count": 29,
     "metadata": {},
     "output_type": "execute_result"
    }
   ],
   "source": [
    "n=len(x)\n",
    "np.sqrt(n)*np.std(x), np.sqrt(n)*np.std(y)"
   ]
  },
  {
   "cell_type": "markdown",
   "id": "9510b7b0-f8d8-44c3-ab87-80a73c6aa16e",
   "metadata": {},
   "source": [
    "- ${\\tt np.std(x)}=\\sqrt{\\frac{1}{n}\\sum_{i=1}^{n}(x_i-\\bar{x})^2}$\n",
    "- ${\\tt np.std(y)}=\\sqrt{\\frac{1}{n}\\sum_{i=1}^{n}(y_i-\\bar{y})^2}$"
   ]
  },
  {
   "cell_type": "markdown",
   "id": "2cd84b71-d1ce-4d00-bd92-ff5e1debfa72",
   "metadata": {},
   "source": [
    "> note: ${\\tt np.std(x,ddof=1)}=\\sqrt{\\frac{1}{n-1}\\sum_{i=1}^{n}(x_i-\\bar{x})^2}$"
   ]
  },
  {
   "cell_type": "code",
   "execution_count": 30,
   "id": "72ebfc59-2ac1-4633-b859-1cfefab4f484",
   "metadata": {},
   "outputs": [],
   "source": [
    "# xx= (x-np.mean(x))/a\n",
    "# yy= (y-np.mean(y))/b\n",
    "# ax3.plot(xx,yy,'o')"
   ]
  },
  {
   "cell_type": "markdown",
   "id": "eb0c6e76-7167-4a4b-a986-8ec6acefbd94",
   "metadata": {},
   "source": [
    "### 상관계수의 의미"
   ]
  },
  {
   "cell_type": "markdown",
   "id": "97e1f757-63c7-4375-94f9-f1055b1511e4",
   "metadata": {},
   "source": [
    "***질문: r의 값이 양수인가? 음수인가?***"
   ]
  },
  {
   "cell_type": "markdown",
   "id": "bdef3180-7dbd-4360-ae24-4e5d27699153",
   "metadata": {},
   "source": [
    "양수 일 것 같다.."
   ]
  },
  {
   "cell_type": "markdown",
   "id": "4af5c694-5f52-4eb5-8426-9297a4fb95e6",
   "metadata": {},
   "source": [
    "`-` plotly 사용하여 $(\\tilde{x}_i,\\tilde{y}_i)$를 그려보자. "
   ]
  },
  {
   "cell_type": "code",
   "execution_count": 27,
   "id": "8ba6e90d-9e67-4e4e-83db-129e61b9d65c",
   "metadata": {},
   "outputs": [
    {
     "data": {
      "text/html": [
       "<html>\n",
       "<head><meta charset=\"utf-8\" /></head>\n",
       "<body>\n",
       "    <div>                        <script type=\"text/javascript\">window.PlotlyConfig = {MathJaxConfig: 'local'};</script>\n",
       "        <script src=\"https://cdn.plot.ly/plotly-2.18.0.min.js\"></script>                <div id=\"e01cf6cd-4a51-4668-8d1d-a065a9d0c4cb\" class=\"plotly-graph-div\" style=\"height:100%; width:100%;\"></div>            <script type=\"text/javascript\">                                    window.PLOTLYENV=window.PLOTLYENV || {};                                    if (document.getElementById(\"e01cf6cd-4a51-4668-8d1d-a065a9d0c4cb\")) {                    Plotly.newPlot(                        \"e01cf6cd-4a51-4668-8d1d-a065a9d0c4cb\",                        [{\"hovertemplate\":\"x=%{x}<br>y=%{y}<extra></extra>\",\"legendgroup\":\"\",\"marker\":{\"color\":\"#636efa\",\"symbol\":\"circle\"},\"mode\":\"markers\",\"name\":\"\",\"orientation\":\"v\",\"showlegend\":false,\"x\":[-0.5002727004644394,-0.39092347631920676,-0.3635861702828986,-0.11755041595612506,-0.008201191810892374,0.15582264440695665,0.18315995044326483,0.210497256479573,0.374521092697422,0.4565330108063465],\"xaxis\":\"x\",\"y\":[-0.40740130139699465,-0.3416914140748986,-0.21027163943070656,-0.01314197746441846,0.1182777971797736,-0.21027163943070656,-0.01314197746441846,0.6439568957565419,-0.01314197746441846,0.4468272337902538],\"yaxis\":\"y\",\"type\":\"scatter\"}],                        {\"template\":{\"data\":{\"histogram2dcontour\":[{\"type\":\"histogram2dcontour\",\"colorbar\":{\"outlinewidth\":0,\"ticks\":\"\"},\"colorscale\":[[0.0,\"#0d0887\"],[0.1111111111111111,\"#46039f\"],[0.2222222222222222,\"#7201a8\"],[0.3333333333333333,\"#9c179e\"],[0.4444444444444444,\"#bd3786\"],[0.5555555555555556,\"#d8576b\"],[0.6666666666666666,\"#ed7953\"],[0.7777777777777778,\"#fb9f3a\"],[0.8888888888888888,\"#fdca26\"],[1.0,\"#f0f921\"]]}],\"choropleth\":[{\"type\":\"choropleth\",\"colorbar\":{\"outlinewidth\":0,\"ticks\":\"\"}}],\"histogram2d\":[{\"type\":\"histogram2d\",\"colorbar\":{\"outlinewidth\":0,\"ticks\":\"\"},\"colorscale\":[[0.0,\"#0d0887\"],[0.1111111111111111,\"#46039f\"],[0.2222222222222222,\"#7201a8\"],[0.3333333333333333,\"#9c179e\"],[0.4444444444444444,\"#bd3786\"],[0.5555555555555556,\"#d8576b\"],[0.6666666666666666,\"#ed7953\"],[0.7777777777777778,\"#fb9f3a\"],[0.8888888888888888,\"#fdca26\"],[1.0,\"#f0f921\"]]}],\"heatmap\":[{\"type\":\"heatmap\",\"colorbar\":{\"outlinewidth\":0,\"ticks\":\"\"},\"colorscale\":[[0.0,\"#0d0887\"],[0.1111111111111111,\"#46039f\"],[0.2222222222222222,\"#7201a8\"],[0.3333333333333333,\"#9c179e\"],[0.4444444444444444,\"#bd3786\"],[0.5555555555555556,\"#d8576b\"],[0.6666666666666666,\"#ed7953\"],[0.7777777777777778,\"#fb9f3a\"],[0.8888888888888888,\"#fdca26\"],[1.0,\"#f0f921\"]]}],\"heatmapgl\":[{\"type\":\"heatmapgl\",\"colorbar\":{\"outlinewidth\":0,\"ticks\":\"\"},\"colorscale\":[[0.0,\"#0d0887\"],[0.1111111111111111,\"#46039f\"],[0.2222222222222222,\"#7201a8\"],[0.3333333333333333,\"#9c179e\"],[0.4444444444444444,\"#bd3786\"],[0.5555555555555556,\"#d8576b\"],[0.6666666666666666,\"#ed7953\"],[0.7777777777777778,\"#fb9f3a\"],[0.8888888888888888,\"#fdca26\"],[1.0,\"#f0f921\"]]}],\"contourcarpet\":[{\"type\":\"contourcarpet\",\"colorbar\":{\"outlinewidth\":0,\"ticks\":\"\"}}],\"contour\":[{\"type\":\"contour\",\"colorbar\":{\"outlinewidth\":0,\"ticks\":\"\"},\"colorscale\":[[0.0,\"#0d0887\"],[0.1111111111111111,\"#46039f\"],[0.2222222222222222,\"#7201a8\"],[0.3333333333333333,\"#9c179e\"],[0.4444444444444444,\"#bd3786\"],[0.5555555555555556,\"#d8576b\"],[0.6666666666666666,\"#ed7953\"],[0.7777777777777778,\"#fb9f3a\"],[0.8888888888888888,\"#fdca26\"],[1.0,\"#f0f921\"]]}],\"surface\":[{\"type\":\"surface\",\"colorbar\":{\"outlinewidth\":0,\"ticks\":\"\"},\"colorscale\":[[0.0,\"#0d0887\"],[0.1111111111111111,\"#46039f\"],[0.2222222222222222,\"#7201a8\"],[0.3333333333333333,\"#9c179e\"],[0.4444444444444444,\"#bd3786\"],[0.5555555555555556,\"#d8576b\"],[0.6666666666666666,\"#ed7953\"],[0.7777777777777778,\"#fb9f3a\"],[0.8888888888888888,\"#fdca26\"],[1.0,\"#f0f921\"]]}],\"mesh3d\":[{\"type\":\"mesh3d\",\"colorbar\":{\"outlinewidth\":0,\"ticks\":\"\"}}],\"scatter\":[{\"fillpattern\":{\"fillmode\":\"overlay\",\"size\":10,\"solidity\":0.2},\"type\":\"scatter\"}],\"parcoords\":[{\"type\":\"parcoords\",\"line\":{\"colorbar\":{\"outlinewidth\":0,\"ticks\":\"\"}}}],\"scatterpolargl\":[{\"type\":\"scatterpolargl\",\"marker\":{\"colorbar\":{\"outlinewidth\":0,\"ticks\":\"\"}}}],\"bar\":[{\"error_x\":{\"color\":\"#2a3f5f\"},\"error_y\":{\"color\":\"#2a3f5f\"},\"marker\":{\"line\":{\"color\":\"#E5ECF6\",\"width\":0.5},\"pattern\":{\"fillmode\":\"overlay\",\"size\":10,\"solidity\":0.2}},\"type\":\"bar\"}],\"scattergeo\":[{\"type\":\"scattergeo\",\"marker\":{\"colorbar\":{\"outlinewidth\":0,\"ticks\":\"\"}}}],\"scatterpolar\":[{\"type\":\"scatterpolar\",\"marker\":{\"colorbar\":{\"outlinewidth\":0,\"ticks\":\"\"}}}],\"histogram\":[{\"marker\":{\"pattern\":{\"fillmode\":\"overlay\",\"size\":10,\"solidity\":0.2}},\"type\":\"histogram\"}],\"scattergl\":[{\"type\":\"scattergl\",\"marker\":{\"colorbar\":{\"outlinewidth\":0,\"ticks\":\"\"}}}],\"scatter3d\":[{\"type\":\"scatter3d\",\"line\":{\"colorbar\":{\"outlinewidth\":0,\"ticks\":\"\"}},\"marker\":{\"colorbar\":{\"outlinewidth\":0,\"ticks\":\"\"}}}],\"scattermapbox\":[{\"type\":\"scattermapbox\",\"marker\":{\"colorbar\":{\"outlinewidth\":0,\"ticks\":\"\"}}}],\"scatterternary\":[{\"type\":\"scatterternary\",\"marker\":{\"colorbar\":{\"outlinewidth\":0,\"ticks\":\"\"}}}],\"scattercarpet\":[{\"type\":\"scattercarpet\",\"marker\":{\"colorbar\":{\"outlinewidth\":0,\"ticks\":\"\"}}}],\"carpet\":[{\"aaxis\":{\"endlinecolor\":\"#2a3f5f\",\"gridcolor\":\"white\",\"linecolor\":\"white\",\"minorgridcolor\":\"white\",\"startlinecolor\":\"#2a3f5f\"},\"baxis\":{\"endlinecolor\":\"#2a3f5f\",\"gridcolor\":\"white\",\"linecolor\":\"white\",\"minorgridcolor\":\"white\",\"startlinecolor\":\"#2a3f5f\"},\"type\":\"carpet\"}],\"table\":[{\"cells\":{\"fill\":{\"color\":\"#EBF0F8\"},\"line\":{\"color\":\"white\"}},\"header\":{\"fill\":{\"color\":\"#C8D4E3\"},\"line\":{\"color\":\"white\"}},\"type\":\"table\"}],\"barpolar\":[{\"marker\":{\"line\":{\"color\":\"#E5ECF6\",\"width\":0.5},\"pattern\":{\"fillmode\":\"overlay\",\"size\":10,\"solidity\":0.2}},\"type\":\"barpolar\"}],\"pie\":[{\"automargin\":true,\"type\":\"pie\"}]},\"layout\":{\"autotypenumbers\":\"strict\",\"colorway\":[\"#636efa\",\"#EF553B\",\"#00cc96\",\"#ab63fa\",\"#FFA15A\",\"#19d3f3\",\"#FF6692\",\"#B6E880\",\"#FF97FF\",\"#FECB52\"],\"font\":{\"color\":\"#2a3f5f\"},\"hovermode\":\"closest\",\"hoverlabel\":{\"align\":\"left\"},\"paper_bgcolor\":\"white\",\"plot_bgcolor\":\"#E5ECF6\",\"polar\":{\"bgcolor\":\"#E5ECF6\",\"angularaxis\":{\"gridcolor\":\"white\",\"linecolor\":\"white\",\"ticks\":\"\"},\"radialaxis\":{\"gridcolor\":\"white\",\"linecolor\":\"white\",\"ticks\":\"\"}},\"ternary\":{\"bgcolor\":\"#E5ECF6\",\"aaxis\":{\"gridcolor\":\"white\",\"linecolor\":\"white\",\"ticks\":\"\"},\"baxis\":{\"gridcolor\":\"white\",\"linecolor\":\"white\",\"ticks\":\"\"},\"caxis\":{\"gridcolor\":\"white\",\"linecolor\":\"white\",\"ticks\":\"\"}},\"coloraxis\":{\"colorbar\":{\"outlinewidth\":0,\"ticks\":\"\"}},\"colorscale\":{\"sequential\":[[0.0,\"#0d0887\"],[0.1111111111111111,\"#46039f\"],[0.2222222222222222,\"#7201a8\"],[0.3333333333333333,\"#9c179e\"],[0.4444444444444444,\"#bd3786\"],[0.5555555555555556,\"#d8576b\"],[0.6666666666666666,\"#ed7953\"],[0.7777777777777778,\"#fb9f3a\"],[0.8888888888888888,\"#fdca26\"],[1.0,\"#f0f921\"]],\"sequentialminus\":[[0.0,\"#0d0887\"],[0.1111111111111111,\"#46039f\"],[0.2222222222222222,\"#7201a8\"],[0.3333333333333333,\"#9c179e\"],[0.4444444444444444,\"#bd3786\"],[0.5555555555555556,\"#d8576b\"],[0.6666666666666666,\"#ed7953\"],[0.7777777777777778,\"#fb9f3a\"],[0.8888888888888888,\"#fdca26\"],[1.0,\"#f0f921\"]],\"diverging\":[[0,\"#8e0152\"],[0.1,\"#c51b7d\"],[0.2,\"#de77ae\"],[0.3,\"#f1b6da\"],[0.4,\"#fde0ef\"],[0.5,\"#f7f7f7\"],[0.6,\"#e6f5d0\"],[0.7,\"#b8e186\"],[0.8,\"#7fbc41\"],[0.9,\"#4d9221\"],[1,\"#276419\"]]},\"xaxis\":{\"gridcolor\":\"white\",\"linecolor\":\"white\",\"ticks\":\"\",\"title\":{\"standoff\":15},\"zerolinecolor\":\"white\",\"automargin\":true,\"zerolinewidth\":2},\"yaxis\":{\"gridcolor\":\"white\",\"linecolor\":\"white\",\"ticks\":\"\",\"title\":{\"standoff\":15},\"zerolinecolor\":\"white\",\"automargin\":true,\"zerolinewidth\":2},\"scene\":{\"xaxis\":{\"backgroundcolor\":\"#E5ECF6\",\"gridcolor\":\"white\",\"linecolor\":\"white\",\"showbackground\":true,\"ticks\":\"\",\"zerolinecolor\":\"white\",\"gridwidth\":2},\"yaxis\":{\"backgroundcolor\":\"#E5ECF6\",\"gridcolor\":\"white\",\"linecolor\":\"white\",\"showbackground\":true,\"ticks\":\"\",\"zerolinecolor\":\"white\",\"gridwidth\":2},\"zaxis\":{\"backgroundcolor\":\"#E5ECF6\",\"gridcolor\":\"white\",\"linecolor\":\"white\",\"showbackground\":true,\"ticks\":\"\",\"zerolinecolor\":\"white\",\"gridwidth\":2}},\"shapedefaults\":{\"line\":{\"color\":\"#2a3f5f\"}},\"annotationdefaults\":{\"arrowcolor\":\"#2a3f5f\",\"arrowhead\":0,\"arrowwidth\":1},\"geo\":{\"bgcolor\":\"white\",\"landcolor\":\"#E5ECF6\",\"subunitcolor\":\"white\",\"showland\":true,\"showlakes\":true,\"lakecolor\":\"white\"},\"title\":{\"x\":0.05},\"mapbox\":{\"style\":\"light\"}}},\"xaxis\":{\"anchor\":\"y\",\"domain\":[0.0,1.0],\"title\":{\"text\":\"x\"}},\"yaxis\":{\"anchor\":\"x\",\"domain\":[0.0,1.0],\"title\":{\"text\":\"y\"}},\"legend\":{\"tracegroupgap\":0},\"margin\":{\"t\":60}},                        {\"responsive\": true}                    )                };                            </script>        </div>\n",
       "</body>\n",
       "</html>"
      ],
      "text/plain": [
       "<IPython.core.display.HTML object>"
      ]
     },
     "execution_count": 27,
     "metadata": {},
     "output_type": "execute_result"
    }
   ],
   "source": [
    "fig=px.scatter(x=xx, y=yy)\n",
    "HTML(fig.to_html(include_plotlyjs='cdn',include_mathjax=False))"
   ]
  },
  {
   "cell_type": "markdown",
   "id": "8924ad70-3659-4073-b69d-4a25e6c6050d",
   "metadata": {},
   "source": [
    "- $\\tilde{x}_i$, $\\tilde{y}_i$ 를 곱한값이 양수인것과 음수인것을 체크해보자. \n",
    "- 양수인쪽이 많은지 음수인쪽이 많은지 생각해보자. \n",
    "- $r=\\sum_{i=1}^{n}\\tilde{x}_i \\tilde{y}_i$ 의 부호는? "
   ]
  },
  {
   "cell_type": "markdown",
   "id": "67e2faa2-2bbb-4b93-ba8a-5ca553103ded",
   "metadata": {},
   "source": [
    "### 그림을 보고 상관계수의 부호를 알아내는 방법"
   ]
  },
  {
   "cell_type": "markdown",
   "id": "5d5e699e-14bb-41fd-9ed2-a5ed985d666b",
   "metadata": {},
   "source": [
    "`-` $(x_i,y_i)$의 산점도를 보고 $(\\tilde{x}_i, \\tilde{y}_i)$ 의 산점도를 상상 $\\to$ 1,3 분면에 점들이 많으면 양수, 2,4 분면에 점들이 많으면 음수 "
   ]
  },
  {
   "cell_type": "markdown",
   "id": "5486b14f-8d3f-40c5-83b3-775690ea9df7",
   "metadata": {},
   "source": [
    "### 그림을 보고 상관계수의 절대값을 알아내는 방법"
   ]
  },
  {
   "cell_type": "markdown",
   "id": "eb1aaef0-33a2-426a-95d0-cc9ef256cdd0",
   "metadata": {},
   "source": [
    "`-` 예시"
   ]
  },
  {
   "cell_type": "code",
   "execution_count": 47,
   "id": "a8c699f2-3a2a-454d-a54b-b4e334994945",
   "metadata": {},
   "outputs": [],
   "source": [
    "x=np.arange(0,10,0.1)\n",
    "y1=x+np.random.normal(loc=0,scale=1.0,size=len(x)) # 평균0,분산1인 오차항 더하기\n",
    "y2=x+np.random.normal(loc=0,scale=7.0,size=len(x)) # 평균0, 분산7인 오차항 더하기"
   ]
  },
  {
   "cell_type": "code",
   "execution_count": 48,
   "id": "bbe00647-f103-48a0-824e-570407683ad0",
   "metadata": {},
   "outputs": [
    {
     "data": {
      "text/plain": [
       "[<matplotlib.lines.Line2D at 0x7f6c1eab0550>]"
      ]
     },
     "execution_count": 48,
     "metadata": {},
     "output_type": "execute_result"
    },
    {
     "data": {
      "image/png": "[encoded data removed]",
      "text/plain": [
       "<Figure size 432x288 with 1 Axes>"
      ]
     },
     "metadata": {
      "needs_background": "light"
     },
     "output_type": "display_data"
    }
   ],
   "source": [
    "plt.plot(x,y1,'o')\n",
    "plt.plot(x,y2,'x')"
   ]
  },
  {
   "cell_type": "code",
   "execution_count": 49,
   "id": "c1ba7f04-2487-47d2-b531-afacbc5b2d5a",
   "metadata": {},
   "outputs": [],
   "source": [
    "def tilde(x):\n",
    "    n=len(x)\n",
    "    return (np.array(x) - np.mean(x)) / np.sqrt(np.sum((np.array(x) - np.mean(x))**2))"
   ]
  },
  {
   "cell_type": "code",
   "execution_count": 50,
   "id": "0d663507-36d4-4b1d-bce2-8c4a14688785",
   "metadata": {},
   "outputs": [],
   "source": [
    "xx = tilde(x)\n",
    "yy1 = tilde(y1)\n",
    "yy2 = tilde(y2)"
   ]
  },
  {
   "cell_type": "code",
   "execution_count": 51,
   "id": "85eef7a0-cd7c-49e2-8bfe-14bdbdc68191",
   "metadata": {},
   "outputs": [
    {
     "data": {
      "text/plain": [
       "[<matplotlib.lines.Line2D at 0x7f6c1e9900d0>]"
      ]
     },
     "execution_count": 51,
     "metadata": {},
     "output_type": "execute_result"
    },
    {
     "data": {
      "image/png": "[encoded data removed]",
      "text/plain": [
       "<Figure size 432x288 with 2 Axes>"
      ]
     },
     "metadata": {
      "needs_background": "light"
     },
     "output_type": "display_data"
    }
   ],
   "source": [
    "fig, ax = plt.subplots(1,2)\n",
    "ax[0].plot(x,y1,'o');ax[0].plot(x,y2,'x')\n",
    "ax[1].plot(xx,yy1,'o');ax[1].plot(xx,yy2,'x')"
   ]
  },
  {
   "cell_type": "markdown",
   "id": "a36a3cc4-4409-48e9-82aa-ae354d629c1c",
   "metadata": {},
   "source": [
    "## 산점도 응용예제2 -- 앤스콤의 4분할"
   ]
  },
  {
   "cell_type": "markdown",
   "id": "d499c7b9-0f3f-46b8-9ed5-575b75271b4e",
   "metadata": {},
   "source": [
    "`-` Anscombe's quartet: 교과서에 나오는 그림임. "
   ]
  },
  {
   "cell_type": "markdown",
   "id": "412f6264-01df-4578-9e81-0a0b84036b9f",
   "metadata": {},
   "source": [
    "`-` 교훈1: 데이터를 분석하기 전에 항상 시각화를 하라. "
   ]
  },
  {
   "cell_type": "code",
   "execution_count": 52,
   "id": "0696d80f-c03e-4c18-a21f-302fa7fcbdf7",
   "metadata": {},
   "outputs": [],
   "source": [
    "x = [10, 8, 13, 9, 11, 14, 6, 4, 12, 7, 5]\n",
    "y1 = [8.04, 6.95, 7.58, 8.81, 8.33, 9.96, 7.24, 4.26, 10.84, 4.82, 5.68]\n",
    "y2 = [9.14, 8.14, 8.74, 8.77, 9.26, 8.10, 6.13, 3.10, 9.13, 7.26, 4.74]\n",
    "y3 = [7.46, 6.77, 12.74, 7.11, 7.81, 8.84, 6.08, 5.39, 8.15, 6.42, 5.73]\n",
    "x4 = [8, 8, 8, 8, 8, 8, 8, 19, 8, 8, 8]\n",
    "y4 = [6.58, 5.76, 7.71, 8.84, 8.47, 7.04, 5.25, 12.50, 5.56, 7.91, 6.89]"
   ]
  },
  {
   "cell_type": "code",
   "execution_count": 53,
   "id": "36c44148-e1b0-4b34-9402-61cf24b4a256",
   "metadata": {},
   "outputs": [
    {
     "data": {
      "text/plain": [
       "[<matplotlib.lines.Line2D at 0x7f6c1e815410>]"
      ]
     },
     "execution_count": 53,
     "metadata": {},
     "output_type": "execute_result"
    },
    {
     "data": {
      "image/png": "[encoded data removed]",
      "text/plain": [
       "<Figure size 432x288 with 4 Axes>"
      ]
     },
     "metadata": {
      "needs_background": "light"
     },
     "output_type": "display_data"
    }
   ],
   "source": [
    "fig, ((ax1,ax2),(ax3,ax4)) = plt.subplots(2,2)\n",
    "ax1.plot(x,y1,'o') \n",
    "ax2.plot(x,y2,'o') \n",
    "ax3.plot(x,y3,'o')  \n",
    "ax4.plot(x4,y4,'o') "
   ]
  },
  {
   "cell_type": "code",
   "execution_count": 55,
   "id": "ee57c343-32e8-44d3-b4dd-bac5dcda8651",
   "metadata": {},
   "outputs": [],
   "source": [
    "_xx = tilde(x)\n",
    "_yy1 = tilde(y1)"
   ]
  },
  {
   "cell_type": "code",
   "execution_count": 57,
   "id": "a74d286e-a811-46bf-9107-a6bd1cf1f59e",
   "metadata": {},
   "outputs": [
    {
     "data": {
      "text/plain": [
       "0.8164205163448399"
      ]
     },
     "execution_count": 57,
     "metadata": {},
     "output_type": "execute_result"
    }
   ],
   "source": [
    "np.sum(_xx*_yy1) # 상관계수 계싼"
   ]
  },
  {
   "cell_type": "code",
   "execution_count": 60,
   "id": "78fbe474-1bcd-4253-834f-f5be15bbf83a",
   "metadata": {},
   "outputs": [
    {
     "data": {
      "text/plain": [
       "array([[1.        , 0.81642052],\n",
       "       [0.81642052, 1.        ]])"
      ]
     },
     "execution_count": 60,
     "metadata": {},
     "output_type": "execute_result"
    }
   ],
   "source": [
    "np.corrcoef([x,y1]) # 상관계수 계산"
   ]
  },
  {
   "cell_type": "code",
   "execution_count": 61,
   "id": "eab3416d-26e8-489b-93c7-d56ce4943dc2",
   "metadata": {},
   "outputs": [
    {
     "data": {
      "text/plain": [
       "array([[1.        , 0.81623651],\n",
       "       [0.81623651, 1.        ]])"
      ]
     },
     "execution_count": 61,
     "metadata": {},
     "output_type": "execute_result"
    }
   ],
   "source": [
    "np.corrcoef([x,y2])"
   ]
  },
  {
   "cell_type": "code",
   "execution_count": 64,
   "id": "bfb14825-4a51-4777-a76c-b36a584e7958",
   "metadata": {},
   "outputs": [
    {
     "data": {
      "text/plain": [
       "array([[1.        , 0.81642052, 0.81623651, 0.81628674],\n",
       "       [0.81642052, 1.        , 0.7500054 , 0.46871668],\n",
       "       [0.81623651, 0.7500054 , 1.        , 0.58791933],\n",
       "       [0.81628674, 0.46871668, 0.58791933, 1.        ]])"
      ]
     },
     "execution_count": 64,
     "metadata": {},
     "output_type": "execute_result"
    }
   ],
   "source": [
    "np.corrcoef([x,y1,y2,y3])"
   ]
  },
  {
   "cell_type": "code",
   "execution_count": 63,
   "id": "b7da9ffc-91a0-41c8-9a74-5348adde12c7",
   "metadata": {},
   "outputs": [
    {
     "data": {
      "text/plain": [
       "array([[1.        , 0.81652144],\n",
       "       [0.81652144, 1.        ]])"
      ]
     },
     "execution_count": 63,
     "metadata": {},
     "output_type": "execute_result"
    }
   ],
   "source": [
    "np.corrcoef([x4,y4])"
   ]
  },
  {
   "cell_type": "markdown",
   "id": "bd221329-4d53-4518-90ab-3b51da3eeded",
   "metadata": {},
   "source": [
    "- 앤스콤의 4분할중 1,2,3 번째 그림의 상관계수는 0.81642052, 0.81623651, 0.81628674 이라는 의미 \n",
    "- 즉 corr(x,y1)=0.81642052, corr(x,y2)=0.81623651, corr(x,y3)=0.81628674 임 \n",
    "\n",
    "`*` 참고로 np.corrcoef([x,y1,y2,y3])의 계산결과는 정확하게 \n",
    "\n",
    "$$\\begin{bmatrix} corr(x,x) & corr(x,y1) & corr(x,y2) & corr(x,y3) \\\\ corr(y1,x) & corr(y1,y1) & corr(y1,y2) & corr(y1,y3) \\\\ corr(y2,x) & corr(y2,y1) & corr(y2,y2) & corr(y2,y3) \\\\ corr(y3,x) & corr(y3,y1) & corr(y3,y2) & corr(y3,y3)\\end{bmatrix}$$"
   ]
  },
  {
   "cell_type": "markdown",
   "id": "ce15d30f-ba0f-44de-a47c-1bd12dd050c0",
   "metadata": {},
   "source": [
    "를 의미한다."
   ]
  },
  {
   "cell_type": "markdown",
   "id": "6601d9d8-973d-40d1-94c8-569acc9e76ea",
   "metadata": {},
   "source": [
    "`-` 앤스콤플랏의 4개의 그림은 모두 같은 상관계수를 가진다. $\\to$ 하지만 4개의 그림은 느낌이 전혀 다르다. "
   ]
  },
  {
   "cell_type": "markdown",
   "id": "95a76402-2382-41d0-9de4-c40075e66b05",
   "metadata": {},
   "source": [
    "`-` 같은 표본상관계수를 가진다고 하여 같은 관계성을 가지는 것은 아니다. 표본상관계수는 x,y의 비례정도를 측정하는데 그 값이 1에 가깝다고 하여 꼭 정비례의 관계가 있음을 의미하는게 아니다. $(x_i,y_i)$의 산점도가 선형성을 보일때만 \"표본상관계수가 1이므로 정비례의 관계에 있다\" 라는 논리전개가 성립한다. \n",
    "\n",
    "- 앤스콤의 1번째 플랏: 산점도가 선형 $\\to$ 표본상관계수가 0.816 = 정비례의 관계가 0.816 정도 \n",
    "- 앤스콤의 2번째 플랏: 산점도가 선형이 아님 $\\to$ 표본상관계수가 크게 의미없음 \n",
    "- 앤스콤의 3번째 플랏: 산점도가 선형인듯 보이나 하나의 이상치가 있음 $\\to$ 하나의 이상치가 표본상관계수의 값을 무너뜨릴 수 있으므로 표본상관계수값을 신뢰할 수 없음. \n",
    "- 앤스콤의 4번째 플랏: 산점도를 그려보니 이상한그림 $\\to$ 표존상관계수를 계산할수는 있음. 그런데 그게 무슨 의미가 있을지? "
   ]
  },
  {
   "cell_type": "markdown",
   "id": "d28ad232-5d38-4182-bf05-dbfcdb5d4f77",
   "metadata": {},
   "source": [
    "`-` 앤스콤의 3번째 플랏: 하나의 이상치가 상관계수를 무너뜨리는 경우 시각화 "
   ]
  },
  {
   "cell_type": "markdown",
   "id": "c9986c55-fe53-4e27-b7d5-2be6ef6c1594",
   "metadata": {},
   "source": [
    "## 산점도 응용예제3 -- 무상관은 관계가 없다는 뜻? "
   ]
  },
  {
   "cell_type": "code",
   "execution_count": 65,
   "id": "6e07e85d-c007-4edd-9729-f499455b8668",
   "metadata": {},
   "outputs": [],
   "source": [
    "np.random.seed(43052)\n",
    "x=np.linspace(-1,1,100,endpoint=True)\n",
    "y=x**2+np.random.normal(scale=0.1,size=100)"
   ]
  },
  {
   "cell_type": "code",
   "execution_count": 66,
   "id": "cf9a3f50-b712-46a4-b646-bf53c4de7d3e",
   "metadata": {},
   "outputs": [
    {
     "data": {
      "text/plain": [
       "Text(0.5, 1.0, 'y=x**2')"
      ]
     },
     "execution_count": 66,
     "metadata": {},
     "output_type": "execute_result"
    },
    {
     "data": {
      "image/png": "[encoded data removed]",
      "text/plain": [
       "<Figure size 432x288 with 1 Axes>"
      ]
     },
     "metadata": {
      "needs_background": "light"
     },
     "output_type": "display_data"
    }
   ],
   "source": [
    "plt.plot(x,y,'o')\n",
    "plt.title('y=x**2')"
   ]
  },
  {
   "cell_type": "code",
   "execution_count": 67,
   "id": "04809c9f-f266-4b04-a656-1e7dfbd6fb29",
   "metadata": {},
   "outputs": [
    {
     "data": {
      "text/plain": [
       "array([[1.        , 0.00688718],\n",
       "       [0.00688718, 1.        ]])"
      ]
     },
     "execution_count": 67,
     "metadata": {},
     "output_type": "execute_result"
    }
   ],
   "source": [
    "np.corrcoef(x,y)"
   ]
  },
  {
   "cell_type": "markdown",
   "id": "020be933-e284-4d45-be50-39db73b19c26",
   "metadata": {},
   "source": [
    "`-` 표본상관계수의 값이 0에 가까운 것은 두 변수의 직선관계가 약한것을 의미한 것이지 두 변수 사이에 아무런 함수관계가 없다는 것을 의미하는 것은 아니다. "
   ]
  },
  {
   "cell_type": "code",
   "execution_count": null,
   "id": "712d92c9-04b1-4b40-b1bf-99206e3e5200",
   "metadata": {},
   "outputs": [],
   "source": []
  }
 ],
 "metadata": {
  "kernelspec": {
   "display_name": "Python 3",
   "language": "python",
   "name": "python3"
  },
  "language_info": {
   "codemirror_mode": {
    "name": "ipython",
    "version": 3
   },
   "file_extension": ".py",
   "mimetype": "text/x-python",
   "name": "python",
   "nbconvert_exporter": "python",
   "pygments_lexer": "ipython3",
   "version": "3.7.16"
  }
 },
 "nbformat": 4,
 "nbformat_minor": 5
}
