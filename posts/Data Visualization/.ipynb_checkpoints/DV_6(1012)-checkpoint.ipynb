{
 "cells": [
  {
   "cell_type": "raw",
   "id": "28ab9faf-8874-4916-a17a-b282b406fade",
   "metadata": {},
   "source": [
    "---\n",
    "title: \"DV 6주차\"\n",
    "author: \"김보람\"\n",
    "date: \"10/12/2022\"\n",
    "categories:\n",
    "  - pandas\n",
    "---"
   ]
  },
  {
   "cell_type": "code",
   "execution_count": 108,
   "id": "15919f20-01f7-456f-8226-7bf84a4e7bd0",
   "metadata": {},
   "outputs": [],
   "source": [
    "import numpy as np\n",
    "import matplotlib.pyplot as plt\n",
    "import pandas as pd"
   ]
  },
  {
   "cell_type": "markdown",
   "id": "bfe5e03e-2390-4212-b18d-b28d8f452772",
   "metadata": {},
   "source": [
    "# lambda, mpa($\\star\\$)"
   ]
  },
  {
   "cell_type": "markdown",
   "id": "c1cbf3a3-1ea5-4e5f-998a-b66d6e6c4d93",
   "metadata": {},
   "source": [
    "## lambda"
   ]
  },
  {
   "cell_type": "markdown",
   "id": "e15d0d9d-71bb-4bef-92c0-cae6932ccd3e",
   "metadata": {},
   "source": [
    "`-` 예제1: 람다표현식 (lambda expression) 자체가 하나의 오브젝트임"
   ]
  },
  {
   "cell_type": "code",
   "execution_count": 8,
   "id": "04471c79-f15c-4428-9188-f69d54c97ea6",
   "metadata": {},
   "outputs": [
    {
     "data": {
      "text/plain": [
       "<function __main__.<lambda>(x)>"
      ]
     },
     "execution_count": 8,
     "metadata": {},
     "output_type": "execute_result"
    }
   ],
   "source": [
    "(lambda x: (x-2)**2)  # lambda가 실행되는 순간 메모리상에 함수 오브젝트가 저장됨"
   ]
  },
  {
   "cell_type": "markdown",
   "id": "2b8fe12d-01ac-4f4f-a615-0da639b375b8",
   "metadata": {},
   "source": [
    "- `lambda x: (x-2)**2` 는 $lambda(x)=(x-2)^2$ 의 느낌으로 기억하면 쉬움"
   ]
  },
  {
   "cell_type": "markdown",
   "id": "e5f2fbaf-8afe-4bd1-951a-cfc5ac0e68b8",
   "metadata": {},
   "source": [
    "(사용방법)"
   ]
  },
  {
   "cell_type": "code",
   "execution_count": 9,
   "id": "40a4ecc0-e77f-43c9-8236-abbe150f54f1",
   "metadata": {},
   "outputs": [
    {
     "data": {
      "text/plain": [
       "0"
      ]
     },
     "execution_count": 9,
     "metadata": {},
     "output_type": "execute_result"
    }
   ],
   "source": [
    "(lambda x: (x-2)**2)(2)  # 입력 2-> 출력 (2-2)^2 = 0"
   ]
  },
  {
   "cell_type": "code",
   "execution_count": 10,
   "id": "1163edac-3f35-44dc-99d0-d461421e1694",
   "metadata": {},
   "outputs": [
    {
     "data": {
      "text/plain": [
       "4"
      ]
     },
     "execution_count": 10,
     "metadata": {},
     "output_type": "execute_result"
    }
   ],
   "source": [
    "(lambda x: (x-2)**2)(4)  # 입력 4-> 출력 (4-2)^2 = 4"
   ]
  },
  {
   "cell_type": "markdown",
   "id": "349a4247-d2e5-44ab-beb0-57521699a8f8",
   "metadata": {},
   "source": [
    "`-` 예제2: 람다표현식에 이름을 줄 수 있음"
   ]
  },
  {
   "cell_type": "code",
   "execution_count": 11,
   "id": "eca27160-baaf-4840-9f4f-a387cd11ba5f",
   "metadata": {},
   "outputs": [],
   "source": [
    "f = lambda x: (x-2)**2"
   ]
  },
  {
   "cell_type": "code",
   "execution_count": 12,
   "id": "1646e175-8c67-4090-9ff7-854fa43816d2",
   "metadata": {},
   "outputs": [
    {
     "data": {
      "text/plain": [
       "(0, 4)"
      ]
     },
     "execution_count": 12,
     "metadata": {},
     "output_type": "execute_result"
    }
   ],
   "source": [
    "f(2),f(4)"
   ]
  },
  {
   "cell_type": "markdown",
   "id": "04463d93-7524-4a4c-ab46-3aadd5b897b1",
   "metadata": {},
   "source": [
    "위의 코드는 아래와 같다"
   ]
  },
  {
   "cell_type": "code",
   "execution_count": 15,
   "id": "4153cfc4-02d3-455f-a724-c94979642c1c",
   "metadata": {},
   "outputs": [
    {
     "data": {
      "text/plain": [
       "(0, 4)"
      ]
     },
     "execution_count": 15,
     "metadata": {},
     "output_type": "execute_result"
    }
   ],
   "source": [
    "def f(x):\n",
    "    return (x-2)**2\n",
    "f(2), f(4)"
   ]
  },
  {
   "cell_type": "markdown",
   "id": "9f909ba8-f83c-4904-ab75-056f00fdd2cc",
   "metadata": {},
   "source": [
    "`-` 예제3: 조건부 출력"
   ]
  },
  {
   "cell_type": "code",
   "execution_count": 19,
   "id": "3dd1b4c9-828f-421c-885b-d6de35591fac",
   "metadata": {},
   "outputs": [],
   "source": [
    "f = lambda x,y: x if x>y else y  # 큰 값 리턴"
   ]
  },
  {
   "cell_type": "code",
   "execution_count": 21,
   "id": "3752293e-85ba-4681-8aa4-0cca11197db2",
   "metadata": {},
   "outputs": [
    {
     "data": {
      "text/plain": [
       "(2, 3)"
      ]
     },
     "execution_count": 21,
     "metadata": {},
     "output_type": "execute_result"
    }
   ],
   "source": [
    "f(1,2),  f(-4,3)"
   ]
  },
  {
   "cell_type": "markdown",
   "id": "65efbce7-5db1-453f-ab1f-452ced737ed6",
   "metadata": {},
   "source": [
    "`-` 예제4: 람다표현식들의 리스트"
   ]
  },
  {
   "cell_type": "code",
   "execution_count": 31,
   "id": "8d0f07d0-d59e-4a16-8572-00e5fbac5ccc",
   "metadata": {},
   "outputs": [],
   "source": [
    "fl = [lambda x: x, lambda x: x**2, lambda x: x**3]"
   ]
  },
  {
   "cell_type": "code",
   "execution_count": 32,
   "id": "e93ae639-3972-4174-8645-a961c6938b71",
   "metadata": {},
   "outputs": [
    {
     "data": {
      "text/plain": [
       "list"
      ]
     },
     "execution_count": 32,
     "metadata": {},
     "output_type": "execute_result"
    }
   ],
   "source": [
    "type(fl)"
   ]
  },
  {
   "cell_type": "code",
   "execution_count": 33,
   "id": "38a79e16-ae0f-49b9-baaa-5ee95d7247e1",
   "metadata": {},
   "outputs": [
    {
     "data": {
      "text/plain": [
       "(10, 100, 1000)"
      ]
     },
     "execution_count": 33,
     "metadata": {},
     "output_type": "execute_result"
    }
   ],
   "source": [
    "fl[0](10), fl[1](10), fl[2](10)"
   ]
  },
  {
   "cell_type": "code",
   "execution_count": 34,
   "id": "2dc2d09f-9e6e-48a7-8e60-5b8fc9588adc",
   "metadata": {},
   "outputs": [
    {
     "name": "stdout",
     "output_type": "stream",
     "text": [
      "2\n",
      "4\n",
      "8\n"
     ]
    }
   ],
   "source": [
    "for f in fl:\n",
    "    print(f(2))"
   ]
  },
  {
   "cell_type": "code",
   "execution_count": 35,
   "id": "53d0d68b-8155-41ae-8b94-7eee4c5ef5f9",
   "metadata": {},
   "outputs": [
    {
     "name": "stdout",
     "output_type": "stream",
     "text": [
      "a\n",
      "b\n",
      "c\n"
     ]
    }
   ],
   "source": [
    "for s in ['a','b','c']:\n",
    "    print(s)"
   ]
  },
  {
   "cell_type": "code",
   "execution_count": 36,
   "id": "40db73ed-57ea-4375-bf8b-341e6bb8b403",
   "metadata": {},
   "outputs": [
    {
     "name": "stdout",
     "output_type": "stream",
     "text": [
      "a\n",
      "<function <lambda> at 0x7f3ddff33c20>\n",
      "c\n"
     ]
    }
   ],
   "source": [
    "for s in ['a', lambda x:x, 'c']:\n",
    "    print(s)"
   ]
  },
  {
   "cell_type": "code",
   "execution_count": 42,
   "id": "e9b3c98d-6308-4816-baa8-701fc3c26606",
   "metadata": {},
   "outputs": [
    {
     "data": {
      "image/png": "[encoded data removed]",
      "text/plain": [
       "<Figure size 432x288 with 1 Axes>"
      ]
     },
     "metadata": {
      "needs_background": "light"
     },
     "output_type": "display_data"
    }
   ],
   "source": [
    "x = np.linspace(-1,1,100)\n",
    "for f in fl:\n",
    "    plt.plot(x,f(x),'--')"
   ]
  },
  {
   "cell_type": "markdown",
   "id": "ccb0cf88-45ec-4ebd-bbb5-6a983e9b144d",
   "metadata": {},
   "source": [
    "`-` 예제5: 람다표현식들의 딕셔너리"
   ]
  },
  {
   "cell_type": "code",
   "execution_count": 43,
   "id": "141356cb-b0cc-4842-bb5d-07a47daa6e9d",
   "metadata": {},
   "outputs": [
    {
     "data": {
      "text/plain": [
       "{'f1': <function __main__.<lambda>(x)>,\n",
       " 'f2': <function __main__.<lambda>(x)>,\n",
       " 'f3': <function __main__.<lambda>(x)>}"
      ]
     },
     "execution_count": 43,
     "metadata": {},
     "output_type": "execute_result"
    }
   ],
   "source": [
    "fd = {'f1': lambda x:x, 'f2': lambda x: x**2, 'f3':lambda x:x**3}\n",
    "fd"
   ]
  },
  {
   "cell_type": "code",
   "execution_count": 47,
   "id": "5d2eae9f-3101-4735-aef4-ecb74b847b28",
   "metadata": {},
   "outputs": [
    {
     "data": {
      "image/png": "[encoded data removed]",
      "text/plain": [
       "<Figure size 432x288 with 1 Axes>"
      ]
     },
     "metadata": {
      "needs_background": "light"
     },
     "output_type": "display_data"
    }
   ],
   "source": [
    "for k in fd:\n",
    "    plt.plot(x,fd[k](x),'--')"
   ]
  },
  {
   "cell_type": "markdown",
   "id": "4b21e6ff-f292-4601-9135-72844dde5614",
   "metadata": {},
   "source": [
    "`-` 예제6: 람다표현식을 리턴하는 함수(함수를 리턴하는 함수)"
   ]
  },
  {
   "cell_type": "markdown",
   "id": "c3ecc6b1-d6a1-4d09-a9e7-062c05c4c74d",
   "metadata": {},
   "source": [
    "(예비학습) 함수 $g(x)$가 정의되어 있을때 $\\frac{d}{dx}g(x)$의 값을 계산"
   ]
  },
  {
   "cell_type": "code",
   "execution_count": 48,
   "id": "819f4383-d96c-43bd-8569-8077f8f40627",
   "metadata": {},
   "outputs": [],
   "source": [
    "g = lambda x : x**2"
   ]
  },
  {
   "cell_type": "code",
   "execution_count": 49,
   "id": "e2829b4c-5ccb-43d4-ade2-0a1dafad59f8",
   "metadata": {},
   "outputs": [
    {
     "data": {
      "text/plain": [
       "9"
      ]
     },
     "execution_count": 49,
     "metadata": {},
     "output_type": "execute_result"
    }
   ],
   "source": [
    "g(3)"
   ]
  },
  {
   "cell_type": "markdown",
   "id": "a890b774-4d9c-4525-b148-8136ea867ee2",
   "metadata": {},
   "source": [
    "$f'(x)\\approx \\frac{f(x+h)-f(x)}{h}$"
   ]
  },
  {
   "cell_type": "code",
   "execution_count": 50,
   "id": "cedc841d-e4e7-4ae2-8b7a-9b1e43734de7",
   "metadata": {},
   "outputs": [],
   "source": [
    "gg =  lambda x: (g(x+0.001)-g(x))/0.001"
   ]
  },
  {
   "cell_type": "code",
   "execution_count": 51,
   "id": "8d39ff39-e252-4c18-8d27-fa41761b42be",
   "metadata": {},
   "outputs": [
    {
     "data": {
      "text/plain": [
       "6.000999999999479"
      ]
     },
     "execution_count": 51,
     "metadata": {},
     "output_type": "execute_result"
    }
   ],
   "source": [
    "gg(3)"
   ]
  },
  {
   "cell_type": "markdown",
   "id": "bed860f7-ef0f-4c29-82c4-4054303bf558",
   "metadata": {},
   "source": [
    "(예비학습끝)"
   ]
  },
  {
   "cell_type": "markdown",
   "id": "686d7811-d212-421b-a0ff-13e2275fe8e9",
   "metadata": {},
   "source": [
    "(목표) 도함수를 구해주는 `derivate` 함수를 정의. 임의의 함수 g를 입력으로 받으면, g의 도함수 (gg)가 리턴되는 기능을 가진다."
   ]
  },
  {
   "cell_type": "code",
   "execution_count": 53,
   "id": "48a66814-df4f-4f15-86f1-67ba4bb7fb7d",
   "metadata": {},
   "outputs": [],
   "source": [
    "def derivate(g):\n",
    "    gg = lambda x: (g(x+0.001)-g(x))/0.001\n",
    "    return gg"
   ]
  },
  {
   "cell_type": "markdown",
   "id": "40d64239-97c8-4576-9e08-85582330e175",
   "metadata": {},
   "source": [
    "(사용)"
   ]
  },
  {
   "cell_type": "code",
   "execution_count": 54,
   "id": "78ba56fb-d45e-41f3-80f3-bb94e3d0f27f",
   "metadata": {},
   "outputs": [],
   "source": [
    "g = lambda x: np.sin(x)"
   ]
  },
  {
   "cell_type": "code",
   "execution_count": 55,
   "id": "e69f6526-d156-41ee-a2f2-ded3c14b88c8",
   "metadata": {},
   "outputs": [],
   "source": [
    "gg = derivate(g)"
   ]
  },
  {
   "cell_type": "code",
   "execution_count": 56,
   "id": "a6d89dba-9d71-4cf1-92be-551b4e57a918",
   "metadata": {},
   "outputs": [],
   "source": [
    "x = np.linspace(0,6.28,1000)"
   ]
  },
  {
   "cell_type": "code",
   "execution_count": 59,
   "id": "8f4c9273-a1fe-42a5-b26b-9ca66fd37480",
   "metadata": {},
   "outputs": [
    {
     "data": {
      "text/plain": [
       "[<matplotlib.lines.Line2D at 0x7f3ddcc306d0>]"
      ]
     },
     "execution_count": 59,
     "metadata": {},
     "output_type": "execute_result"
    },
    {
     "data": {
      "image/png": "[encoded data removed]",
      "text/plain": [
       "<Figure size 432x288 with 1 Axes>"
      ]
     },
     "metadata": {
      "needs_background": "light"
     },
     "output_type": "display_data"
    }
   ],
   "source": [
    "plt.plot(x,g(x))\n",
    "plt.plot(x,gg(x))"
   ]
  },
  {
   "cell_type": "markdown",
   "id": "f94330d2-a1db-4b1f-b453-977fc4181e6a",
   "metadata": {},
   "source": [
    "(사용2)"
   ]
  },
  {
   "cell_type": "code",
   "execution_count": 60,
   "id": "06863547-d1ff-436a-a1b4-a5e6381554b5",
   "metadata": {},
   "outputs": [],
   "source": [
    "g0 = lambda x: (1/6)*x**3\n",
    "g1 = derivate(g0) # (1/2)x^2\n",
    "g2 = derivate(g1) # x "
   ]
  },
  {
   "cell_type": "code",
   "execution_count": 61,
   "id": "6acbf132-fe65-43ef-b8b9-4b42885f6e6f",
   "metadata": {},
   "outputs": [],
   "source": [
    "x = np.linspace(-1,1,100)"
   ]
  },
  {
   "cell_type": "code",
   "execution_count": 64,
   "id": "04d8753e-8d76-41a5-9d5e-0aaed183c143",
   "metadata": {},
   "outputs": [
    {
     "data": {
      "text/plain": [
       "[<matplotlib.lines.Line2D at 0x7f3ddcacf550>]"
      ]
     },
     "execution_count": 64,
     "metadata": {},
     "output_type": "execute_result"
    },
    {
     "data": {
      "image/png": "[encoded data removed]",
      "text/plain": [
       "<Figure size 432x288 with 1 Axes>"
      ]
     },
     "metadata": {
      "needs_background": "light"
     },
     "output_type": "display_data"
    }
   ],
   "source": [
    "plt.plot(x,g0(x))\n",
    "plt.plot(x,g1(x))\n",
    "plt.plot(x,g2(x))"
   ]
  },
  {
   "cell_type": "markdown",
   "id": "3d1895a7-e6ea-4b9a-9002-386ecbf69777",
   "metadata": {},
   "source": [
    "`-` 예제7: 예제6의 다른표현"
   ]
  },
  {
   "cell_type": "code",
   "execution_count": 66,
   "id": "5b906d68-884b-44f1-bc32-b274569473c7",
   "metadata": {},
   "outputs": [],
   "source": [
    "derivate = lambda g : lambda x: (g(x+0.001)-g(x))/0.001\n",
    "# 위와 같은 코드"
   ]
  },
  {
   "cell_type": "code",
   "execution_count": 54,
   "id": "69e90593-d30b-4f97-996a-16bd075957d6",
   "metadata": {},
   "outputs": [],
   "source": [
    "g = lambda x: np.sin(x)"
   ]
  },
  {
   "cell_type": "code",
   "execution_count": 55,
   "id": "f8a91290-3906-42d0-bff1-470336470366",
   "metadata": {},
   "outputs": [],
   "source": [
    "gg = derivate(g)"
   ]
  },
  {
   "cell_type": "code",
   "execution_count": 56,
   "id": "0f488261-6b3c-495a-9d34-46bd79de9a40",
   "metadata": {},
   "outputs": [],
   "source": [
    "x = np.linspace(0,6.28,1000)"
   ]
  },
  {
   "cell_type": "code",
   "execution_count": 59,
   "id": "9daf8186-dbb7-40f3-b0e3-2be349f0e834",
   "metadata": {},
   "outputs": [
    {
     "data": {
      "text/plain": [
       "[<matplotlib.lines.Line2D at 0x7f3ddcc306d0>]"
      ]
     },
     "execution_count": 59,
     "metadata": {},
     "output_type": "execute_result"
    },
    {
     "data": {
      "image/png": "[encoded data removed]",
      "text/plain": [
       "<Figure size 432x288 with 1 Axes>"
      ]
     },
     "metadata": {
      "needs_background": "light"
     },
     "output_type": "display_data"
    }
   ],
   "source": [
    "plt.plot(x,g(x))\n",
    "plt.plot(x,gg(x))"
   ]
  },
  {
   "cell_type": "markdown",
   "id": "f95631cf-9b74-48b9-8881-d7e476dbfd1c",
   "metadata": {},
   "source": [
    "(사용2)"
   ]
  },
  {
   "cell_type": "code",
   "execution_count": 60,
   "id": "1902798d-5ba2-4c63-9c49-dd8d450e81d1",
   "metadata": {},
   "outputs": [],
   "source": [
    "g0 = lambda x: (1/6)*x**3\n",
    "g1 = derivate(g0) # (1/2)x^2\n",
    "g2 = derivate(g1) # x "
   ]
  },
  {
   "cell_type": "code",
   "execution_count": 61,
   "id": "a520a10b-4146-4282-902e-bebb2a17a542",
   "metadata": {},
   "outputs": [],
   "source": [
    "x = np.linspace(-1,1,100)"
   ]
  },
  {
   "cell_type": "code",
   "execution_count": 64,
   "id": "5a6b105f-3782-43a6-bf87-0688640d9534",
   "metadata": {},
   "outputs": [
    {
     "data": {
      "text/plain": [
       "[<matplotlib.lines.Line2D at 0x7f3ddcacf550>]"
      ]
     },
     "execution_count": 64,
     "metadata": {},
     "output_type": "execute_result"
    },
    {
     "data": {
      "image/png": "[encoded data removed]",
      "text/plain": [
       "<Figure size 432x288 with 1 Axes>"
      ]
     },
     "metadata": {
      "needs_background": "light"
     },
     "output_type": "display_data"
    }
   ],
   "source": [
    "plt.plot(x,g0(x))\n",
    "plt.plot(x,g1(x))\n",
    "plt.plot(x,g2(x))"
   ]
  },
  {
   "cell_type": "markdown",
   "id": "769753ec-24bc-49ed-b855-7ebb8bc0c32e",
   "metadata": {},
   "source": [
    "## map"
   ]
  },
  {
   "cell_type": "markdown",
   "id": "6a95840f-2c83-40ac-9bdd-c262b4b014fb",
   "metadata": {},
   "source": [
    "`-` 개념: $\\text{map}\\left(f,[x_1,x_2,\\dots,x_n] \\right) = \\left[f(x_1),f(x_2),\\dots,f(x_n)\\right]$"
   ]
  },
  {
   "cell_type": "markdown",
   "id": "dc901f2f-2f86-494b-b368-22ce090c3227",
   "metadata": {},
   "source": [
    "`-` 예제1"
   ]
  },
  {
   "cell_type": "code",
   "execution_count": 75,
   "id": "b0cb88c5-dee7-48ad-ba7e-db7ed4eb2832",
   "metadata": {},
   "outputs": [],
   "source": [
    "x=[1,2,3]\n",
    "f = lambda x: x+1\n",
    "y= list(map(f,x))"
   ]
  },
  {
   "cell_type": "code",
   "execution_count": 74,
   "id": "e53491bd-c5f1-41d4-b48a-f7603f3778e9",
   "metadata": {},
   "outputs": [
    {
     "data": {
      "text/plain": [
       "[2, 3, 4]"
      ]
     },
     "execution_count": 74,
     "metadata": {},
     "output_type": "execute_result"
    }
   ],
   "source": [
    "list(map(f,x))"
   ]
  },
  {
   "cell_type": "code",
   "execution_count": 71,
   "id": "8f3ce526-6669-4228-a67d-9f083fe75ea4",
   "metadata": {},
   "outputs": [
    {
     "ename": "TypeError",
     "evalue": "can only concatenate list (not \"int\") to list",
     "output_type": "error",
     "traceback": [
      "\u001b[0;31m---------------------------------------------------------------------------\u001b[0m",
      "\u001b[0;31mTypeError\u001b[0m                                 Traceback (most recent call last)",
      "\u001b[0;32m<ipython-input-71-573e93d3905b>\u001b[0m in \u001b[0;36m<module>\u001b[0;34m\u001b[0m\n\u001b[0;32m----> 1\u001b[0;31m \u001b[0mf\u001b[0m\u001b[0;34m(\u001b[0m\u001b[0mx\u001b[0m\u001b[0;34m)\u001b[0m \u001b[0;31m# 리스트라 오류남\u001b[0m\u001b[0;34m\u001b[0m\u001b[0;34m\u001b[0m\u001b[0m\n\u001b[0m",
      "\u001b[0;32m<ipython-input-69-86afd6236616>\u001b[0m in \u001b[0;36m<lambda>\u001b[0;34m(x)\u001b[0m\n\u001b[1;32m      1\u001b[0m \u001b[0mx\u001b[0m\u001b[0;34m=\u001b[0m\u001b[0;34m[\u001b[0m\u001b[0;36m1\u001b[0m\u001b[0;34m,\u001b[0m\u001b[0;36m2\u001b[0m\u001b[0;34m,\u001b[0m\u001b[0;36m3\u001b[0m\u001b[0;34m]\u001b[0m\u001b[0;34m\u001b[0m\u001b[0;34m\u001b[0m\u001b[0m\n\u001b[0;32m----> 2\u001b[0;31m \u001b[0mf\u001b[0m \u001b[0;34m=\u001b[0m \u001b[0;32mlambda\u001b[0m \u001b[0mx\u001b[0m\u001b[0;34m:\u001b[0m \u001b[0mx\u001b[0m\u001b[0;34m+\u001b[0m\u001b[0;36m1\u001b[0m\u001b[0;34m\u001b[0m\u001b[0;34m\u001b[0m\u001b[0m\n\u001b[0m",
      "\u001b[0;31mTypeError\u001b[0m: can only concatenate list (not \"int\") to list"
     ]
    }
   ],
   "source": [
    "f(x) # 리스트라 오류남"
   ]
  },
  {
   "cell_type": "code",
   "execution_count": 72,
   "id": "8b6ebb8e-2bad-42d2-b0f3-68720b927fc0",
   "metadata": {},
   "outputs": [
    {
     "data": {
      "text/plain": [
       "2"
      ]
     },
     "execution_count": 72,
     "metadata": {},
     "output_type": "execute_result"
    }
   ],
   "source": [
    "f(x[0])"
   ]
  },
  {
   "cell_type": "markdown",
   "id": "564f92c6-9839-4349-ba63-9ec83713429d",
   "metadata": {},
   "source": [
    "(다른구현1)"
   ]
  },
  {
   "cell_type": "code",
   "execution_count": 76,
   "id": "14121d8d-a022-48bc-b599-6b53640708dc",
   "metadata": {},
   "outputs": [
    {
     "data": {
      "text/plain": [
       "[2, 3, 4]"
      ]
     },
     "execution_count": 76,
     "metadata": {},
     "output_type": "execute_result"
    }
   ],
   "source": [
    "list(map(lambda x:x+1, x))"
   ]
  },
  {
   "cell_type": "code",
   "execution_count": 77,
   "id": "8fa963bc-a0f6-40ab-bd6b-5230714e4805",
   "metadata": {},
   "outputs": [
    {
     "data": {
      "text/plain": [
       "[2, 3, 4]"
      ]
     },
     "execution_count": 77,
     "metadata": {},
     "output_type": "execute_result"
    }
   ],
   "source": [
    "list(map(lambda x:x+1, [1,2,3]))"
   ]
  },
  {
   "cell_type": "markdown",
   "id": "a6795c4f-d10d-4681-b4a7-a1b7c7f9c6d5",
   "metadata": {},
   "source": [
    "(다른구현2)"
   ]
  },
  {
   "cell_type": "code",
   "execution_count": 78,
   "id": "3a9b429c-a716-4c8b-966a-f1820da2f405",
   "metadata": {},
   "outputs": [
    {
     "data": {
      "text/plain": [
       "[1, 2, 3]"
      ]
     },
     "execution_count": 78,
     "metadata": {},
     "output_type": "execute_result"
    }
   ],
   "source": [
    "f = lambda x: x+1\n",
    "[xi for xi in [1,2,3]]"
   ]
  },
  {
   "cell_type": "code",
   "execution_count": 79,
   "id": "1f35ea07-9d19-4049-95e8-9b28f23bef1e",
   "metadata": {},
   "outputs": [
    {
     "data": {
      "text/plain": [
       "[2, 3, 4]"
      ]
     },
     "execution_count": 79,
     "metadata": {},
     "output_type": "execute_result"
    }
   ],
   "source": [
    "f = lambda x: x+1\n",
    "[f(xi) for xi in [1,2,3]]"
   ]
  },
  {
   "cell_type": "markdown",
   "id": "ac02aacf-04d9-4db4-949e-6af24663b529",
   "metadata": {},
   "source": [
    "(다른구현3)"
   ]
  },
  {
   "cell_type": "code",
   "execution_count": 80,
   "id": "67e7c0fd-d86c-45fc-b47b-21a17209db77",
   "metadata": {},
   "outputs": [
    {
     "data": {
      "text/plain": [
       "[2, 3, 4]"
      ]
     },
     "execution_count": 80,
     "metadata": {},
     "output_type": "execute_result"
    }
   ],
   "source": [
    "[(lambda x:x+1)(xi) for xi in [1,2,3]]"
   ]
  },
  {
   "cell_type": "markdown",
   "id": "c1560891-7f53-41a9-ab77-b9c31e0a41c6",
   "metadata": {},
   "source": [
    "(다른구현4)-최악"
   ]
  },
  {
   "cell_type": "code",
   "execution_count": 81,
   "id": "f81dd306-0459-4753-ad70-eec4a726496c",
   "metadata": {},
   "outputs": [],
   "source": [
    "y = []\n",
    "x = [1,2,3]\n",
    "f = lambda x: x+1\n",
    "for xi in x:\n",
    "    y.append(f(xi))"
   ]
  },
  {
   "cell_type": "code",
   "execution_count": 82,
   "id": "3a47be3b-d85e-42fc-9096-78994d18cf3c",
   "metadata": {},
   "outputs": [
    {
     "data": {
      "text/plain": [
       "[2, 3, 4]"
      ]
     },
     "execution_count": 82,
     "metadata": {},
     "output_type": "execute_result"
    }
   ],
   "source": [
    "y"
   ]
  },
  {
   "cell_type": "markdown",
   "id": "2315e03b-8b8d-4809-abe6-6fd89eae539e",
   "metadata": {},
   "source": [
    "(다른구현5)-더 최악"
   ]
  },
  {
   "cell_type": "code",
   "execution_count": 85,
   "id": "624dbeb9-1cf0-4783-ba7b-39d5cf6541a2",
   "metadata": {},
   "outputs": [],
   "source": [
    "y = []\n",
    "x = [1,2,3]\n",
    "f = lambda x: x+1\n",
    "for i in range(len(x)):\n",
    "    y.append(f(x[i]))"
   ]
  },
  {
   "cell_type": "code",
   "execution_count": 86,
   "id": "41524368-fffe-43a7-98a9-caa2f03f27b6",
   "metadata": {},
   "outputs": [
    {
     "data": {
      "text/plain": [
       "[2, 3, 4]"
      ]
     },
     "execution_count": 86,
     "metadata": {},
     "output_type": "execute_result"
    }
   ],
   "source": [
    "y"
   ]
  },
  {
   "cell_type": "markdown",
   "id": "124cf2ab-d63f-4c56-b416-49467a3c0634",
   "metadata": {},
   "source": [
    "`-` 예제2: 문자열을 입력으로 받고 대문자이면 True, 소문자이면 False\n",
    "```\n",
    "입력: A,B,C,a,b,c\n",
    "출력: T,T,T,F,F,F\n",
    "```"
   ]
  },
  {
   "cell_type": "code",
   "execution_count": 87,
   "id": "80f6af41-13d1-492d-8924-3f96f93cc837",
   "metadata": {},
   "outputs": [
    {
     "data": {
      "text/plain": [
       "array([2, 3, 4])"
      ]
     },
     "execution_count": 87,
     "metadata": {},
     "output_type": "execute_result"
    }
   ],
   "source": [
    "f(np.array(x))"
   ]
  },
  {
   "cell_type": "code",
   "execution_count": 89,
   "id": "918171e1-4c69-4b03-a490-0c7880bffb71",
   "metadata": {},
   "outputs": [
    {
     "data": {
      "text/plain": [
       "True"
      ]
     },
     "execution_count": 89,
     "metadata": {},
     "output_type": "execute_result"
    }
   ],
   "source": [
    "'A'.isupper()"
   ]
  },
  {
   "cell_type": "code",
   "execution_count": 90,
   "id": "2652c5a6-b420-4019-93e8-2c8da16481cf",
   "metadata": {},
   "outputs": [],
   "source": [
    "#x = ['A', 'B', 'C', 'a', 'b', 'c']\n",
    "x = list('ABCabc')\n",
    "f = lambda s : s.isupper()\n",
    "y = list(map(f,x))"
   ]
  },
  {
   "cell_type": "code",
   "execution_count": 91,
   "id": "46e17752-d56d-4862-9d4c-d393429a5453",
   "metadata": {},
   "outputs": [
    {
     "data": {
      "text/plain": [
       "(['A', 'B', 'C', 'a', 'b', 'c'], [True, True, True, False, False, False])"
      ]
     },
     "execution_count": 91,
     "metadata": {},
     "output_type": "execute_result"
    }
   ],
   "source": [
    "x,y"
   ]
  },
  {
   "cell_type": "markdown",
   "id": "79179f21-2881-4748-bd90-66dacea0581d",
   "metadata": {},
   "source": [
    "`-` 예제3: 두 개의 입력을 받는 함수"
   ]
  },
  {
   "cell_type": "code",
   "execution_count": 92,
   "id": "e8d3dcb9-4c14-402d-9b83-37267bb3c734",
   "metadata": {},
   "outputs": [
    {
     "data": {
      "text/plain": [
       "2"
      ]
     },
     "execution_count": 92,
     "metadata": {},
     "output_type": "execute_result"
    }
   ],
   "source": [
    "(lambda x,y : x+y)(-1,3)"
   ]
  },
  {
   "cell_type": "code",
   "execution_count": 95,
   "id": "6222acb1-630c-4122-bfe1-994324c7abbd",
   "metadata": {},
   "outputs": [
    {
     "data": {
      "text/plain": [
       "[0, 0, 0]"
      ]
     },
     "execution_count": 95,
     "metadata": {},
     "output_type": "execute_result"
    }
   ],
   "source": [
    "list(map(lambda x,y: x+y, [1,2,3],[-1,-2,-3]))"
   ]
  },
  {
   "cell_type": "markdown",
   "id": "d92293ec-d973-4b1e-904a-d093d7123922",
   "metadata": {},
   "source": [
    "(다른 구현) - 리스트컴프리헨션"
   ]
  },
  {
   "cell_type": "code",
   "execution_count": 98,
   "id": "47c7f2fc-84a1-41d7-8b78-2cfa1b02c7a2",
   "metadata": {},
   "outputs": [
    {
     "data": {
      "text/plain": [
       "[0, 0, 0]"
      ]
     },
     "execution_count": 98,
     "metadata": {},
     "output_type": "execute_result"
    }
   ],
   "source": [
    "f = lambda x,y: x+y\n",
    "[f(x,y) for x,y in zip([1,2,3],[-1,-2,-3])]"
   ]
  },
  {
   "cell_type": "markdown",
   "id": "1bcc675b-bc75-4295-ac43-e4e0bff241c2",
   "metadata": {},
   "source": [
    "`-` 예제4: map은 \"하나의 함수에 다양한 입력\"을 적용하는 경우에만 사용가능, 리스트 컴프리헨션은 \"다양한 함수에 다양한 입력\"을 지원한다."
   ]
  },
  {
   "cell_type": "code",
   "execution_count": 99,
   "id": "97b719c1-b344-4a2e-9e09-8072d1f6f5d6",
   "metadata": {},
   "outputs": [],
   "source": [
    "flst = [lambda x: x+1, lambda x: x+2, lambda x: x+3]"
   ]
  },
  {
   "cell_type": "markdown",
   "id": "bfacc050-a3a9-446f-940d-d9ce5d894fb3",
   "metadata": {},
   "source": [
    "(map으로 구현 시도) -> 실패"
   ]
  },
  {
   "cell_type": "code",
   "execution_count": 104,
   "id": "8a00d00a-73f6-4d2b-b1ce-555def9ad6ca",
   "metadata": {},
   "outputs": [
    {
     "ename": "TypeError",
     "evalue": "'list' object is not callable",
     "output_type": "error",
     "traceback": [
      "\u001b[0;31m---------------------------------------------------------------------------\u001b[0m",
      "\u001b[0;31mTypeError\u001b[0m                                 Traceback (most recent call last)",
      "\u001b[0;32m<ipython-input-104-6aa67d6f5b23>\u001b[0m in \u001b[0;36m<module>\u001b[0;34m\u001b[0m\n\u001b[0;32m----> 1\u001b[0;31m \u001b[0mlist\u001b[0m\u001b[0;34m(\u001b[0m\u001b[0mmap\u001b[0m\u001b[0;34m(\u001b[0m\u001b[0mflst\u001b[0m\u001b[0;34m,\u001b[0m\u001b[0;34m[\u001b[0m\u001b[0;34m-\u001b[0m\u001b[0;36m1\u001b[0m\u001b[0;34m,\u001b[0m\u001b[0;34m-\u001b[0m\u001b[0;36m2\u001b[0m\u001b[0;34m,\u001b[0m\u001b[0;34m-\u001b[0m\u001b[0;36m3\u001b[0m\u001b[0;34m]\u001b[0m\u001b[0;34m)\u001b[0m\u001b[0;34m)\u001b[0m \u001b[0;31m# 결과가 0,0,0 나오길 시도\u001b[0m\u001b[0;34m\u001b[0m\u001b[0;34m\u001b[0m\u001b[0m\n\u001b[0m",
      "\u001b[0;31mTypeError\u001b[0m: 'list' object is not callable"
     ]
    }
   ],
   "source": [
    "list(map(flst,[-1,-2,-3])) # 결과가 0,0,0 나오길 시도"
   ]
  },
  {
   "cell_type": "markdown",
   "id": "0530cd66-58db-4637-ba96-2c912830054e",
   "metadata": {},
   "source": [
    "리스트컴프리헨션으로 구현시도 -> 성공"
   ]
  },
  {
   "cell_type": "code",
   "execution_count": 106,
   "id": "3359babf-ed52-4710-814d-3b44cc5ac7c3",
   "metadata": {},
   "outputs": [
    {
     "data": {
      "text/plain": [
       "[0, 0, 0]"
      ]
     },
     "execution_count": 106,
     "metadata": {},
     "output_type": "execute_result"
    }
   ],
   "source": [
    "[f(x) for f,x in zip(flst, [-1,-2,-3])]"
   ]
  },
  {
   "cell_type": "markdown",
   "id": "2764d302-7f34-4527-8391-0545aed27718",
   "metadata": {},
   "source": [
    "`-` 종합: map과 리스트컴프리헨션과 비교\n",
    "- map은 반복인덱스를 쓰지 않지만 리스트컴프리헨션은 반복인덱스가 필요함\n",
    "- map은 좀더 리스트컴프리헨션보다 제약적으로 사용할 수 밖에 없음"
   ]
  },
  {
   "cell_type": "markdown",
   "id": "7e799b17-533e-4cee-a8af-aa832a3af94d",
   "metadata": {},
   "source": [
    "# 판다스: 인덱싱 공부 1단계: 인덱싱의 4가지 컨셉"
   ]
  },
  {
   "cell_type": "markdown",
   "id": "ddf36ab2-1ac6-4a9c-9867-84f114f13cce",
   "metadata": {},
   "source": [
    "## 데이터프레임 준비"
   ]
  },
  {
   "cell_type": "code",
   "execution_count": 110,
   "id": "b7187918-15b1-4690-a086-be93b16fdc09",
   "metadata": {},
   "outputs": [
    {
     "data": {
      "text/html": [
       "<div>\n",
       "<style scoped>\n",
       "    .dataframe tbody tr th:only-of-type {\n",
       "        vertical-align: middle;\n",
       "    }\n",
       "\n",
       "    .dataframe tbody tr th {\n",
       "        vertical-align: top;\n",
       "    }\n",
       "\n",
       "    .dataframe thead th {\n",
       "        text-align: right;\n",
       "    }\n",
       "</style>\n",
       "<table border=\"1\" class=\"dataframe\">\n",
       "  <thead>\n",
       "    <tr style=\"text-align: right;\">\n",
       "      <th></th>\n",
       "      <th>att</th>\n",
       "      <th>rep</th>\n",
       "      <th>mid</th>\n",
       "      <th>fin</th>\n",
       "    </tr>\n",
       "  </thead>\n",
       "  <tbody>\n",
       "    <tr>\n",
       "      <th>0</th>\n",
       "      <td>65</td>\n",
       "      <td>45</td>\n",
       "      <td>0</td>\n",
       "      <td>10</td>\n",
       "    </tr>\n",
       "    <tr>\n",
       "      <th>1</th>\n",
       "      <td>95</td>\n",
       "      <td>30</td>\n",
       "      <td>60</td>\n",
       "      <td>10</td>\n",
       "    </tr>\n",
       "    <tr>\n",
       "      <th>2</th>\n",
       "      <td>65</td>\n",
       "      <td>85</td>\n",
       "      <td>15</td>\n",
       "      <td>20</td>\n",
       "    </tr>\n",
       "    <tr>\n",
       "      <th>3</th>\n",
       "      <td>55</td>\n",
       "      <td>35</td>\n",
       "      <td>35</td>\n",
       "      <td>5</td>\n",
       "    </tr>\n",
       "    <tr>\n",
       "      <th>4</th>\n",
       "      <td>80</td>\n",
       "      <td>60</td>\n",
       "      <td>55</td>\n",
       "      <td>70</td>\n",
       "    </tr>\n",
       "    <tr>\n",
       "      <th>...</th>\n",
       "      <td>...</td>\n",
       "      <td>...</td>\n",
       "      <td>...</td>\n",
       "      <td>...</td>\n",
       "    </tr>\n",
       "    <tr>\n",
       "      <th>195</th>\n",
       "      <td>55</td>\n",
       "      <td>70</td>\n",
       "      <td>40</td>\n",
       "      <td>95</td>\n",
       "    </tr>\n",
       "    <tr>\n",
       "      <th>196</th>\n",
       "      <td>65</td>\n",
       "      <td>85</td>\n",
       "      <td>25</td>\n",
       "      <td>85</td>\n",
       "    </tr>\n",
       "    <tr>\n",
       "      <th>197</th>\n",
       "      <td>85</td>\n",
       "      <td>85</td>\n",
       "      <td>100</td>\n",
       "      <td>10</td>\n",
       "    </tr>\n",
       "    <tr>\n",
       "      <th>198</th>\n",
       "      <td>80</td>\n",
       "      <td>65</td>\n",
       "      <td>35</td>\n",
       "      <td>60</td>\n",
       "    </tr>\n",
       "    <tr>\n",
       "      <th>199</th>\n",
       "      <td>50</td>\n",
       "      <td>95</td>\n",
       "      <td>45</td>\n",
       "      <td>85</td>\n",
       "    </tr>\n",
       "  </tbody>\n",
       "</table>\n",
       "<p>200 rows × 4 columns</p>\n",
       "</div>"
      ],
      "text/plain": [
       "     att  rep  mid  fin\n",
       "0     65   45    0   10\n",
       "1     95   30   60   10\n",
       "2     65   85   15   20\n",
       "3     55   35   35    5\n",
       "4     80   60   55   70\n",
       "..   ...  ...  ...  ...\n",
       "195   55   70   40   95\n",
       "196   65   85   25   85\n",
       "197   85   85  100   10\n",
       "198   80   65   35   60\n",
       "199   50   95   45   85\n",
       "\n",
       "[200 rows x 4 columns]"
      ]
     },
     "execution_count": 110,
     "metadata": {},
     "output_type": "execute_result"
    }
   ],
   "source": [
    "df=pd.read_csv('https://raw.githubusercontent.com/guebin/DV2022/main/posts/dv2022.csv')\n",
    "df"
   ]
  },
  {
   "cell_type": "markdown",
   "id": "b4e58fc9-5bb6-4bc0-b79c-ffeff06bee99",
   "metadata": {},
   "source": [
    "`-` 앞으로는 위와 같은 df형태를 가정할 것이다. 즉 column의 이름은 문자열, row의 이름은 0부터 시작하는 정수로 가정한다."
   ]
  },
  {
   "cell_type": "code",
   "execution_count": 112,
   "id": "999e9983-f547-45f2-85fc-c1b67076a089",
   "metadata": {},
   "outputs": [
    {
     "data": {
      "text/plain": [
       "array([[1, 2, 3],\n",
       "       [1, 2, 5]])"
      ]
     },
     "execution_count": 112,
     "metadata": {},
     "output_type": "execute_result"
    }
   ],
   "source": [
    "np.array([[1,2,3],[1,2,5]])"
   ]
  },
  {
   "cell_type": "markdown",
   "id": "981d5ac1-d429-4f4a-9600-04ba1adaf013",
   "metadata": {},
   "source": [
    "`-` 아래와 같은 형태는 일단 생각 안함"
   ]
  },
  {
   "cell_type": "code",
   "execution_count": 113,
   "id": "252277db-e678-457c-a040-0026b6010d7b",
   "metadata": {},
   "outputs": [
    {
     "data": {
      "text/html": [
       "<div>\n",
       "<style scoped>\n",
       "    .dataframe tbody tr th:only-of-type {\n",
       "        vertical-align: middle;\n",
       "    }\n",
       "\n",
       "    .dataframe tbody tr th {\n",
       "        vertical-align: top;\n",
       "    }\n",
       "\n",
       "    .dataframe thead th {\n",
       "        text-align: right;\n",
       "    }\n",
       "</style>\n",
       "<table border=\"1\" class=\"dataframe\">\n",
       "  <thead>\n",
       "    <tr style=\"text-align: right;\">\n",
       "      <th></th>\n",
       "      <th>att</th>\n",
       "      <th>rep</th>\n",
       "    </tr>\n",
       "  </thead>\n",
       "  <tbody>\n",
       "    <tr>\n",
       "      <th>A</th>\n",
       "      <td>60</td>\n",
       "      <td>50</td>\n",
       "    </tr>\n",
       "    <tr>\n",
       "      <th>B</th>\n",
       "      <td>65</td>\n",
       "      <td>100</td>\n",
       "    </tr>\n",
       "    <tr>\n",
       "      <th>C</th>\n",
       "      <td>80</td>\n",
       "      <td>90</td>\n",
       "    </tr>\n",
       "    <tr>\n",
       "      <th>D</th>\n",
       "      <td>90</td>\n",
       "      <td>100</td>\n",
       "    </tr>\n",
       "  </tbody>\n",
       "</table>\n",
       "</div>"
      ],
      "text/plain": [
       "   att  rep\n",
       "A   60   50\n",
       "B   65  100\n",
       "C   80   90\n",
       "D   90  100"
      ]
     },
     "execution_count": 113,
     "metadata": {},
     "output_type": "execute_result"
    }
   ],
   "source": [
    "pd.DataFrame({'att':[60,65,80,90],'rep':[50,100,90,100]},index=['A','B','C','D'])"
   ]
  },
  {
   "cell_type": "markdown",
   "id": "a9cc3be9-5195-4cdc-b170-aaaae23877b1",
   "metadata": {},
   "source": [
    "## df의 4가지 컨셉"
   ]
  },
  {
   "cell_type": "markdown",
   "id": "453dd526-c1f7-463d-9dda-90b756598063",
   "metadata": {},
   "source": [
    "`-` 원소에 접근하는 4가지 방법: `.`, `[]`, `iloc[]`, `.loc[]`"
   ]
  },
  {
   "cell_type": "markdown",
   "id": "ef70e697-8ce8-4ac6-859b-3e3cc6e3f8bb",
   "metadata": {},
   "source": [
    "### 컨셉1: 클래스느낌"
   ]
  },
  {
   "cell_type": "markdown",
   "id": "2c238d2a-dcb7-4d93-a679-e9fe37c71f7c",
   "metadata": {},
   "source": [
    "`-` 컨셉1: df는 인스턴스이다.  그리고 df.att, df.rep, df.mid, df.fin과 같이 col이름에 대응하는 속성이 있다."
   ]
  },
  {
   "cell_type": "code",
   "execution_count": 115,
   "id": "95c00908-dd49-4c69-abb6-a6063711f88b",
   "metadata": {},
   "outputs": [
    {
     "data": {
      "text/html": [
       "<div>\n",
       "<style scoped>\n",
       "    .dataframe tbody tr th:only-of-type {\n",
       "        vertical-align: middle;\n",
       "    }\n",
       "\n",
       "    .dataframe tbody tr th {\n",
       "        vertical-align: top;\n",
       "    }\n",
       "\n",
       "    .dataframe thead th {\n",
       "        text-align: right;\n",
       "    }\n",
       "</style>\n",
       "<table border=\"1\" class=\"dataframe\">\n",
       "  <thead>\n",
       "    <tr style=\"text-align: right;\">\n",
       "      <th></th>\n",
       "      <th>att</th>\n",
       "      <th>rep</th>\n",
       "      <th>mid</th>\n",
       "      <th>fin</th>\n",
       "    </tr>\n",
       "  </thead>\n",
       "  <tbody>\n",
       "    <tr>\n",
       "      <th>0</th>\n",
       "      <td>65</td>\n",
       "      <td>45</td>\n",
       "      <td>0</td>\n",
       "      <td>10</td>\n",
       "    </tr>\n",
       "    <tr>\n",
       "      <th>1</th>\n",
       "      <td>95</td>\n",
       "      <td>30</td>\n",
       "      <td>60</td>\n",
       "      <td>10</td>\n",
       "    </tr>\n",
       "    <tr>\n",
       "      <th>2</th>\n",
       "      <td>65</td>\n",
       "      <td>85</td>\n",
       "      <td>15</td>\n",
       "      <td>20</td>\n",
       "    </tr>\n",
       "    <tr>\n",
       "      <th>3</th>\n",
       "      <td>55</td>\n",
       "      <td>35</td>\n",
       "      <td>35</td>\n",
       "      <td>5</td>\n",
       "    </tr>\n",
       "    <tr>\n",
       "      <th>4</th>\n",
       "      <td>80</td>\n",
       "      <td>60</td>\n",
       "      <td>55</td>\n",
       "      <td>70</td>\n",
       "    </tr>\n",
       "    <tr>\n",
       "      <th>5</th>\n",
       "      <td>75</td>\n",
       "      <td>40</td>\n",
       "      <td>75</td>\n",
       "      <td>85</td>\n",
       "    </tr>\n",
       "  </tbody>\n",
       "</table>\n",
       "</div>"
      ],
      "text/plain": [
       "   att  rep  mid  fin\n",
       "0   65   45    0   10\n",
       "1   95   30   60   10\n",
       "2   65   85   15   20\n",
       "3   55   35   35    5\n",
       "4   80   60   55   70\n",
       "5   75   40   75   85"
      ]
     },
     "execution_count": 115,
     "metadata": {},
     "output_type": "execute_result"
    }
   ],
   "source": [
    "df.head(6)"
   ]
  },
  {
   "cell_type": "code",
   "execution_count": 114,
   "id": "787c0cef-6ccb-49ad-a6f9-4f9b046c3bf0",
   "metadata": {},
   "outputs": [
    {
     "data": {
      "text/plain": [
       "0      65\n",
       "1      95\n",
       "2      65\n",
       "3      55\n",
       "4      80\n",
       "       ..\n",
       "195    55\n",
       "196    65\n",
       "197    85\n",
       "198    80\n",
       "199    50\n",
       "Name: att, Length: 200, dtype: int64"
      ]
     },
     "execution_count": 114,
     "metadata": {},
     "output_type": "execute_result"
    }
   ],
   "source": [
    "df.att"
   ]
  },
  {
   "cell_type": "code",
   "execution_count": 117,
   "id": "a8ed95ec-c904-4d9f-850f-dd54b31d8b87",
   "metadata": {},
   "outputs": [
    {
     "data": {
      "text/plain": [
       "0      10\n",
       "1      10\n",
       "2      20\n",
       "3       5\n",
       "4      70\n",
       "       ..\n",
       "195    95\n",
       "196    85\n",
       "197    10\n",
       "198    60\n",
       "199    85\n",
       "Name: fin, Length: 200, dtype: int64"
      ]
     },
     "execution_count": 117,
     "metadata": {},
     "output_type": "execute_result"
    }
   ],
   "source": [
    "df.fin"
   ]
  },
  {
   "cell_type": "markdown",
   "id": "8ab20637-148e-4362-93b5-512910074e09",
   "metadata": {},
   "source": [
    "`-` 언제유용? col의 이름을 대충 알고 있을 경우 자동완성으로 쉽게 선택가능"
   ]
  },
  {
   "cell_type": "markdown",
   "id": "83a6838c-b5c5-4c9e-af09-352219a78362",
   "metadata": {},
   "source": [
    "### 컨셉2: 딕셔너리 + $\\alpha$ 느낌"
   ]
  },
  {
   "cell_type": "markdown",
   "id": "b7ccfc8f-0483-4024-8ba9-1a363dda80ad",
   "metadata": {},
   "source": [
    "`-` 컨셉2: df는 컬럼이름이 key, 컬럼의 데이터가 value가 되는 dictionary로 이해가능. 즉 아래의 dct와 같은 딕셔너리로 이해할 수 있다."
   ]
  },
  {
   "cell_type": "markdown",
   "id": "528c06fa-9f1a-42cd-b6b0-86faccf5f5ea",
   "metadata": {},
   "source": [
    "#### col indexing"
   ]
  },
  {
   "cell_type": "markdown",
   "id": "11d0529a-6390-437d-910c-491ad182bf96",
   "metadata": {},
   "source": [
    "`-` 예시1: dct가 가능하면 df도 가능하다."
   ]
  },
  {
   "cell_type": "code",
   "execution_count": 120,
   "id": "7621ec6f-a8a1-4261-91e0-ad94e9942add",
   "metadata": {},
   "outputs": [],
   "source": [
    "dct = dict(df)"
   ]
  },
  {
   "cell_type": "code",
   "execution_count": 121,
   "id": "2506cc72-8baf-423b-9868-f2fc815005fa",
   "metadata": {},
   "outputs": [
    {
     "data": {
      "text/plain": [
       "0      65\n",
       "1      95\n",
       "2      65\n",
       "3      55\n",
       "4      80\n",
       "       ..\n",
       "195    55\n",
       "196    65\n",
       "197    85\n",
       "198    80\n",
       "199    50\n",
       "Name: att, Length: 200, dtype: int64"
      ]
     },
     "execution_count": 121,
     "metadata": {},
     "output_type": "execute_result"
    }
   ],
   "source": [
    "dct['att']"
   ]
  },
  {
   "cell_type": "code",
   "execution_count": 122,
   "id": "b7d86148-1c4e-4d3d-a1de-c48ec480b6a8",
   "metadata": {},
   "outputs": [
    {
     "data": {
      "text/plain": [
       "0      65\n",
       "1      95\n",
       "2      65\n",
       "3      55\n",
       "4      80\n",
       "       ..\n",
       "195    55\n",
       "196    65\n",
       "197    85\n",
       "198    80\n",
       "199    50\n",
       "Name: att, Length: 200, dtype: int64"
      ]
     },
     "execution_count": 122,
     "metadata": {},
     "output_type": "execute_result"
    }
   ],
   "source": [
    "df['att']"
   ]
  },
  {
   "cell_type": "markdown",
   "id": "39b0d714-1a0f-4ee4-bac0-0d5012170209",
   "metadata": {},
   "source": [
    "`-` 예시2: dct가 가능하면 df도 가능하다.(2)"
   ]
  },
  {
   "cell_type": "code",
   "execution_count": 123,
   "id": "6a58973a-81ef-4505-b6bb-f8aeaa9ea8d7",
   "metadata": {},
   "outputs": [
    {
     "data": {
      "text/plain": [
       "0      65\n",
       "1      95\n",
       "2      65\n",
       "3      55\n",
       "4      80\n",
       "       ..\n",
       "195    55\n",
       "196    65\n",
       "197    85\n",
       "198    80\n",
       "199    50\n",
       "Name: att, Length: 200, dtype: int64"
      ]
     },
     "execution_count": 123,
     "metadata": {},
     "output_type": "execute_result"
    }
   ],
   "source": [
    "df.get('att')\n",
    "#dct.get('att')"
   ]
  },
  {
   "cell_type": "markdown",
   "id": "8127d969-5976-409d-8dfa-02df2eeb23d0",
   "metadata": {},
   "source": [
    "`-` 예시3: dct에서는 불가능하지만 df에서 가능한 것도 잇다."
   ]
  },
  {
   "cell_type": "code",
   "execution_count": 125,
   "id": "1ffc922d-2f63-4277-bc75-c2d80a3b302e",
   "metadata": {},
   "outputs": [
    {
     "data": {
      "text/plain": [
       "0      65\n",
       "1      95\n",
       "2      65\n",
       "3      55\n",
       "4      80\n",
       "       ..\n",
       "195    55\n",
       "196    65\n",
       "197    85\n",
       "198    80\n",
       "199    50\n",
       "Name: att, Length: 200, dtype: int64"
      ]
     },
     "execution_count": 125,
     "metadata": {},
     "output_type": "execute_result"
    }
   ],
   "source": [
    "dct.get('att')"
   ]
  },
  {
   "cell_type": "code",
   "execution_count": 126,
   "id": "dec220e5-1dd1-41b8-bc65-7f2b641b1945",
   "metadata": {},
   "outputs": [
    {
     "ename": "TypeError",
     "evalue": "unhashable type: 'list'",
     "output_type": "error",
     "traceback": [
      "\u001b[0;31m---------------------------------------------------------------------------\u001b[0m",
      "\u001b[0;31mTypeError\u001b[0m                                 Traceback (most recent call last)",
      "\u001b[0;32m<ipython-input-126-84c5f18d7742>\u001b[0m in \u001b[0;36m<module>\u001b[0;34m\u001b[0m\n\u001b[0;32m----> 1\u001b[0;31m \u001b[0mdct\u001b[0m\u001b[0;34m.\u001b[0m\u001b[0mget\u001b[0m\u001b[0;34m(\u001b[0m\u001b[0;34m[\u001b[0m\u001b[0;34m'att'\u001b[0m\u001b[0;34m,\u001b[0m\u001b[0;34m'rep'\u001b[0m\u001b[0;34m]\u001b[0m\u001b[0;34m)\u001b[0m \u001b[0;31m#이건 안됨\u001b[0m\u001b[0;34m\u001b[0m\u001b[0;34m\u001b[0m\u001b[0m\n\u001b[0m",
      "\u001b[0;31mTypeError\u001b[0m: unhashable type: 'list'"
     ]
    }
   ],
   "source": [
    "dct.get(['att','rep']) #이건 안됨"
   ]
  },
  {
   "cell_type": "code",
   "execution_count": 127,
   "id": "218ad3a3-e4aa-4e82-8922-5e9e936e8ab9",
   "metadata": {},
   "outputs": [
    {
     "data": {
      "text/html": [
       "<div>\n",
       "<style scoped>\n",
       "    .dataframe tbody tr th:only-of-type {\n",
       "        vertical-align: middle;\n",
       "    }\n",
       "\n",
       "    .dataframe tbody tr th {\n",
       "        vertical-align: top;\n",
       "    }\n",
       "\n",
       "    .dataframe thead th {\n",
       "        text-align: right;\n",
       "    }\n",
       "</style>\n",
       "<table border=\"1\" class=\"dataframe\">\n",
       "  <thead>\n",
       "    <tr style=\"text-align: right;\">\n",
       "      <th></th>\n",
       "      <th>att</th>\n",
       "      <th>rep</th>\n",
       "    </tr>\n",
       "  </thead>\n",
       "  <tbody>\n",
       "    <tr>\n",
       "      <th>0</th>\n",
       "      <td>65</td>\n",
       "      <td>45</td>\n",
       "    </tr>\n",
       "    <tr>\n",
       "      <th>1</th>\n",
       "      <td>95</td>\n",
       "      <td>30</td>\n",
       "    </tr>\n",
       "    <tr>\n",
       "      <th>2</th>\n",
       "      <td>65</td>\n",
       "      <td>85</td>\n",
       "    </tr>\n",
       "    <tr>\n",
       "      <th>3</th>\n",
       "      <td>55</td>\n",
       "      <td>35</td>\n",
       "    </tr>\n",
       "    <tr>\n",
       "      <th>4</th>\n",
       "      <td>80</td>\n",
       "      <td>60</td>\n",
       "    </tr>\n",
       "    <tr>\n",
       "      <th>...</th>\n",
       "      <td>...</td>\n",
       "      <td>...</td>\n",
       "    </tr>\n",
       "    <tr>\n",
       "      <th>195</th>\n",
       "      <td>55</td>\n",
       "      <td>70</td>\n",
       "    </tr>\n",
       "    <tr>\n",
       "      <th>196</th>\n",
       "      <td>65</td>\n",
       "      <td>85</td>\n",
       "    </tr>\n",
       "    <tr>\n",
       "      <th>197</th>\n",
       "      <td>85</td>\n",
       "      <td>85</td>\n",
       "    </tr>\n",
       "    <tr>\n",
       "      <th>198</th>\n",
       "      <td>80</td>\n",
       "      <td>65</td>\n",
       "    </tr>\n",
       "    <tr>\n",
       "      <th>199</th>\n",
       "      <td>50</td>\n",
       "      <td>95</td>\n",
       "    </tr>\n",
       "  </tbody>\n",
       "</table>\n",
       "<p>200 rows × 2 columns</p>\n",
       "</div>"
      ],
      "text/plain": [
       "     att  rep\n",
       "0     65   45\n",
       "1     95   30\n",
       "2     65   85\n",
       "3     55   35\n",
       "4     80   60\n",
       "..   ...  ...\n",
       "195   55   70\n",
       "196   65   85\n",
       "197   85   85\n",
       "198   80   65\n",
       "199   50   95\n",
       "\n",
       "[200 rows x 2 columns]"
      ]
     },
     "execution_count": 127,
     "metadata": {},
     "output_type": "execute_result"
    }
   ],
   "source": [
    "df.get(['att','rep'])"
   ]
  },
  {
   "cell_type": "markdown",
   "id": "c9296a5c-54af-4482-ad48-0e88d9655131",
   "metadata": {},
   "source": [
    "`-` 예시4: dct에서는 불가능하지만 df에서 가능한 것도 잇다.(2)"
   ]
  },
  {
   "cell_type": "code",
   "execution_count": 128,
   "id": "37ccf5d0-1cf7-4651-b24d-47900f808b47",
   "metadata": {},
   "outputs": [
    {
     "data": {
      "text/plain": [
       "0      65\n",
       "1      95\n",
       "2      65\n",
       "3      55\n",
       "4      80\n",
       "       ..\n",
       "195    55\n",
       "196    65\n",
       "197    85\n",
       "198    80\n",
       "199    50\n",
       "Name: att, Length: 200, dtype: int64"
      ]
     },
     "execution_count": 128,
     "metadata": {},
     "output_type": "execute_result"
    }
   ],
   "source": [
    "dct['att']"
   ]
  },
  {
   "cell_type": "code",
   "execution_count": 130,
   "id": "f00ffa09-c1c5-4c6d-9227-c44b320ff2fd",
   "metadata": {},
   "outputs": [
    {
     "ename": "TypeError",
     "evalue": "unhashable type: 'list'",
     "output_type": "error",
     "traceback": [
      "\u001b[0;31m---------------------------------------------------------------------------\u001b[0m",
      "\u001b[0;31mTypeError\u001b[0m                                 Traceback (most recent call last)",
      "\u001b[0;32m<ipython-input-130-bb133407e7e2>\u001b[0m in \u001b[0;36m<module>\u001b[0;34m\u001b[0m\n\u001b[0;32m----> 1\u001b[0;31m \u001b[0mdct\u001b[0m\u001b[0;34m[\u001b[0m\u001b[0;34m[\u001b[0m\u001b[0;34m'att'\u001b[0m\u001b[0;34m,\u001b[0m\u001b[0;34m'rep'\u001b[0m\u001b[0;34m]\u001b[0m\u001b[0;34m]\u001b[0m\u001b[0;34m\u001b[0m\u001b[0;34m\u001b[0m\u001b[0m\n\u001b[0m",
      "\u001b[0;31mTypeError\u001b[0m: unhashable type: 'list'"
     ]
    }
   ],
   "source": [
    "dct[['att','rep']]"
   ]
  },
  {
   "cell_type": "code",
   "execution_count": 132,
   "id": "2d45fa84-9029-4bd2-8897-e63f9641774b",
   "metadata": {},
   "outputs": [
    {
     "data": {
      "text/html": [
       "<div>\n",
       "<style scoped>\n",
       "    .dataframe tbody tr th:only-of-type {\n",
       "        vertical-align: middle;\n",
       "    }\n",
       "\n",
       "    .dataframe tbody tr th {\n",
       "        vertical-align: top;\n",
       "    }\n",
       "\n",
       "    .dataframe thead th {\n",
       "        text-align: right;\n",
       "    }\n",
       "</style>\n",
       "<table border=\"1\" class=\"dataframe\">\n",
       "  <thead>\n",
       "    <tr style=\"text-align: right;\">\n",
       "      <th></th>\n",
       "      <th>att</th>\n",
       "      <th>rep</th>\n",
       "    </tr>\n",
       "  </thead>\n",
       "  <tbody>\n",
       "    <tr>\n",
       "      <th>0</th>\n",
       "      <td>65</td>\n",
       "      <td>45</td>\n",
       "    </tr>\n",
       "    <tr>\n",
       "      <th>1</th>\n",
       "      <td>95</td>\n",
       "      <td>30</td>\n",
       "    </tr>\n",
       "    <tr>\n",
       "      <th>2</th>\n",
       "      <td>65</td>\n",
       "      <td>85</td>\n",
       "    </tr>\n",
       "    <tr>\n",
       "      <th>3</th>\n",
       "      <td>55</td>\n",
       "      <td>35</td>\n",
       "    </tr>\n",
       "    <tr>\n",
       "      <th>4</th>\n",
       "      <td>80</td>\n",
       "      <td>60</td>\n",
       "    </tr>\n",
       "    <tr>\n",
       "      <th>...</th>\n",
       "      <td>...</td>\n",
       "      <td>...</td>\n",
       "    </tr>\n",
       "    <tr>\n",
       "      <th>195</th>\n",
       "      <td>55</td>\n",
       "      <td>70</td>\n",
       "    </tr>\n",
       "    <tr>\n",
       "      <th>196</th>\n",
       "      <td>65</td>\n",
       "      <td>85</td>\n",
       "    </tr>\n",
       "    <tr>\n",
       "      <th>197</th>\n",
       "      <td>85</td>\n",
       "      <td>85</td>\n",
       "    </tr>\n",
       "    <tr>\n",
       "      <th>198</th>\n",
       "      <td>80</td>\n",
       "      <td>65</td>\n",
       "    </tr>\n",
       "    <tr>\n",
       "      <th>199</th>\n",
       "      <td>50</td>\n",
       "      <td>95</td>\n",
       "    </tr>\n",
       "  </tbody>\n",
       "</table>\n",
       "<p>200 rows × 2 columns</p>\n",
       "</div>"
      ],
      "text/plain": [
       "     att  rep\n",
       "0     65   45\n",
       "1     95   30\n",
       "2     65   85\n",
       "3     55   35\n",
       "4     80   60\n",
       "..   ...  ...\n",
       "195   55   70\n",
       "196   65   85\n",
       "197   85   85\n",
       "198   80   65\n",
       "199   50   95\n",
       "\n",
       "[200 rows x 2 columns]"
      ]
     },
     "execution_count": 132,
     "metadata": {},
     "output_type": "execute_result"
    }
   ],
   "source": [
    "df[['att','rep']]"
   ]
  },
  {
   "cell_type": "markdown",
   "id": "f298aeb2-b752-4845-8d5e-159f178ca492",
   "metadata": {},
   "source": [
    "#### low indexing"
   ]
  },
  {
   "cell_type": "markdown",
   "id": "a7086cff-6685-4bed-beaf-b7690da70ac8",
   "metadata": {},
   "source": [
    "`-` 예시5: dct에서는 불가능하지만 df에서 가능한 것도 잇다.(3)"
   ]
  },
  {
   "cell_type": "code",
   "execution_count": 133,
   "id": "d1f11c4e-b071-4c7e-90f7-ecbd0323e494",
   "metadata": {},
   "outputs": [
    {
     "ename": "TypeError",
     "evalue": "unhashable type: 'slice'",
     "output_type": "error",
     "traceback": [
      "\u001b[0;31m---------------------------------------------------------------------------\u001b[0m",
      "\u001b[0;31mTypeError\u001b[0m                                 Traceback (most recent call last)",
      "\u001b[0;32m<ipython-input-133-e655e1854f91>\u001b[0m in \u001b[0;36m<module>\u001b[0;34m\u001b[0m\n\u001b[0;32m----> 1\u001b[0;31m \u001b[0mdct\u001b[0m\u001b[0;34m[\u001b[0m\u001b[0;34m:\u001b[0m\u001b[0;36m5\u001b[0m\u001b[0;34m]\u001b[0m\u001b[0;34m\u001b[0m\u001b[0;34m\u001b[0m\u001b[0m\n\u001b[0m",
      "\u001b[0;31mTypeError\u001b[0m: unhashable type: 'slice'"
     ]
    }
   ],
   "source": [
    "dct[:5]"
   ]
  },
  {
   "cell_type": "code",
   "execution_count": 134,
   "id": "5e3e5fd9-33db-4571-b772-f9fb157366c0",
   "metadata": {},
   "outputs": [
    {
     "data": {
      "text/html": [
       "<div>\n",
       "<style scoped>\n",
       "    .dataframe tbody tr th:only-of-type {\n",
       "        vertical-align: middle;\n",
       "    }\n",
       "\n",
       "    .dataframe tbody tr th {\n",
       "        vertical-align: top;\n",
       "    }\n",
       "\n",
       "    .dataframe thead th {\n",
       "        text-align: right;\n",
       "    }\n",
       "</style>\n",
       "<table border=\"1\" class=\"dataframe\">\n",
       "  <thead>\n",
       "    <tr style=\"text-align: right;\">\n",
       "      <th></th>\n",
       "      <th>att</th>\n",
       "      <th>rep</th>\n",
       "      <th>mid</th>\n",
       "      <th>fin</th>\n",
       "    </tr>\n",
       "  </thead>\n",
       "  <tbody>\n",
       "    <tr>\n",
       "      <th>0</th>\n",
       "      <td>65</td>\n",
       "      <td>45</td>\n",
       "      <td>0</td>\n",
       "      <td>10</td>\n",
       "    </tr>\n",
       "    <tr>\n",
       "      <th>1</th>\n",
       "      <td>95</td>\n",
       "      <td>30</td>\n",
       "      <td>60</td>\n",
       "      <td>10</td>\n",
       "    </tr>\n",
       "    <tr>\n",
       "      <th>2</th>\n",
       "      <td>65</td>\n",
       "      <td>85</td>\n",
       "      <td>15</td>\n",
       "      <td>20</td>\n",
       "    </tr>\n",
       "    <tr>\n",
       "      <th>3</th>\n",
       "      <td>55</td>\n",
       "      <td>35</td>\n",
       "      <td>35</td>\n",
       "      <td>5</td>\n",
       "    </tr>\n",
       "    <tr>\n",
       "      <th>4</th>\n",
       "      <td>80</td>\n",
       "      <td>60</td>\n",
       "      <td>55</td>\n",
       "      <td>70</td>\n",
       "    </tr>\n",
       "  </tbody>\n",
       "</table>\n",
       "</div>"
      ],
      "text/plain": [
       "   att  rep  mid  fin\n",
       "0   65   45    0   10\n",
       "1   95   30   60   10\n",
       "2   65   85   15   20\n",
       "3   55   35   35    5\n",
       "4   80   60   55   70"
      ]
     },
     "execution_count": 134,
     "metadata": {},
     "output_type": "execute_result"
    }
   ],
   "source": [
    "df[:5]"
   ]
  },
  {
   "cell_type": "markdown",
   "id": "3507183f-b01f-4516-8f5a-a543589383ee",
   "metadata": {},
   "source": [
    "### 컨셉3: 넘파이느낌"
   ]
  },
  {
   "cell_type": "markdown",
   "id": "544f949d-9638-49bb-b717-0da05034bb7e",
   "metadata": {},
   "source": [
    "`-` 컨셉3: `df.iloc`은 넘파이어레이처럼 생각 가능하다. 즉 아래와 같은 넘파이 어레이로 생각 가능"
   ]
  },
  {
   "cell_type": "code",
   "execution_count": 137,
   "id": "b933efe0-bacc-4903-966e-7430b3cb04a9",
   "metadata": {},
   "outputs": [
    {
     "data": {
      "text/plain": [
       "array([[ 65,  45,   0,  10],\n",
       "       [ 95,  30,  60,  10],\n",
       "       [ 65,  85,  15,  20],\n",
       "       [ 55,  35,  35,   5],\n",
       "       [ 80,  60,  55,  70],\n",
       "       [ 75,  40,  75,  85],\n",
       "       [ 65,  70,  60,  75],\n",
       "       [ 60,  25,  20,  35],\n",
       "       [ 95,  55,  65,  90],\n",
       "       [ 90,  25,  95,  50],\n",
       "       [ 55,  45,  75,  30],\n",
       "       [ 95,  60,  25,  55],\n",
       "       [ 95,  35,   0,  25],\n",
       "       [ 50,  55,  90,  45],\n",
       "       [ 50,  65,  50,  70],\n",
       "       [ 95, 100,  25,  40],\n",
       "       [ 50,  65,  35,  85],\n",
       "       [ 65,  85,  10,   5],\n",
       "       [ 70,  65,  65,  80],\n",
       "       [ 90,  70, 100,  30],\n",
       "       [ 80,  45,  80,  85],\n",
       "       [ 55,  45,  85,  70],\n",
       "       [ 65,  35,  45,  20],\n",
       "       [ 70,  25,  50,  70],\n",
       "       [ 85,  55,  30,  80],\n",
       "       [ 90,  30,  30,   0],\n",
       "       [100,  65,  50,  70],\n",
       "       [ 80,  70,  50, 100],\n",
       "       [ 80,  35,  25,  65],\n",
       "       [ 55,  75,  20,  25],\n",
       "       [ 75,  75,  85,  95],\n",
       "       [ 80,  95,   5,   5],\n",
       "       [ 95,  60,  65,  10],\n",
       "       [ 95,  60,  90,  75],\n",
       "       [100,  75,  70,  25],\n",
       "       [100,  55,  35,  85],\n",
       "       [ 80,  60,  65,  55],\n",
       "       [ 70,  80,   0,  10],\n",
       "       [ 85,  65,  60,  60],\n",
       "       [100,  95,   0,  25],\n",
       "       [ 95,  60,  15,  45],\n",
       "       [ 75,  40,  30,  10],\n",
       "       [ 70,  80,  50,  25],\n",
       "       [ 50,  45,  10,  10],\n",
       "       [100, 100, 100,  50],\n",
       "       [ 75,  50,  60,   5],\n",
       "       [ 85,  50,  35, 100],\n",
       "       [ 80,  35,  75,  80],\n",
       "       [ 95,  45,  35,  80],\n",
       "       [ 65,  85,  85,  15],\n",
       "       [ 90,  30,  25,   5],\n",
       "       [ 65,  65,  35,  70],\n",
       "       [ 80,  65,  30,  90],\n",
       "       [ 95,  80,  45,  35],\n",
       "       [ 65,  75,  50,  35],\n",
       "       [ 90,  55, 100,  30],\n",
       "       [ 95,  25,  95,  90],\n",
       "       [100,  50,  80,  10],\n",
       "       [ 50,  55,  35,  60],\n",
       "       [ 90,  70,  35,  25],\n",
       "       [ 50,  55,  15,  75],\n",
       "       [ 80,  50,  55,  90],\n",
       "       [ 50,  75,  65,  90],\n",
       "       [ 70,  40,  90,   5],\n",
       "       [ 65,  85,  20,  90],\n",
       "       [ 60,  30,   0,  50],\n",
       "       [ 50,  65,  15,   0],\n",
       "       [ 60,  95,  30,  70],\n",
       "       [ 70,  70,   5,   0],\n",
       "       [ 75,  45,  15,  75],\n",
       "       [ 50,  60,  15,  50],\n",
       "       [ 85,  90,  90,  90],\n",
       "       [ 80,  25,  85,  20],\n",
       "       [ 55,  75,  95,  90],\n",
       "       [ 85,  30,  45,  15],\n",
       "       [ 65,  30,  45,  15],\n",
       "       [ 85,  95,  35,  25],\n",
       "       [ 60,  25,  10,  50],\n",
       "       [ 95,  45,  90,  35],\n",
       "       [ 85,  50,  60,  45],\n",
       "       [ 60,  50, 100,  70],\n",
       "       [100,  75,  60,   0],\n",
       "       [100,  90,  85,  75],\n",
       "       [ 55, 100, 100,  60],\n",
       "       [ 70,  60,  30,  40],\n",
       "       [ 70,  90,  95,  40],\n",
       "       [ 55,  50,   0,   5],\n",
       "       [100, 100,  45,  90],\n",
       "       [ 85,  70,  90,  80],\n",
       "       [100,  85,  65,  85],\n",
       "       [ 60,  65,  35,  15],\n",
       "       [ 65,  75,  75,  85],\n",
       "       [ 65,  25,  40,   0],\n",
       "       [ 75,  75,  50,  40],\n",
       "       [ 50,  55,  80,  55],\n",
       "       [ 75,  30,  20,  50],\n",
       "       [100,  50,  25,  65],\n",
       "       [ 90,  30,  95,  35],\n",
       "       [ 55, 100,  80,   0],\n",
       "       [ 75,  60,  15,  40],\n",
       "       [ 60,  25,  25,  50],\n",
       "       [ 85,  35,  10,  60],\n",
       "       [ 60, 100,  55,  40],\n",
       "       [ 70,  55,  50,  75],\n",
       "       [ 80,  65,  95,  85],\n",
       "       [ 65,  35,  15,  65],\n",
       "       [ 85,  70, 100,   0],\n",
       "       [100,  30,  60,  65],\n",
       "       [ 65,  70,  55,  70],\n",
       "       [ 85,  55,  85,  90],\n",
       "       [ 85,  95,  80,  10],\n",
       "       [ 85,  70,  75,   5],\n",
       "       [100,  35,  70,   0],\n",
       "       [ 95,  45,  55,  65],\n",
       "       [ 95,  85,  40,  65],\n",
       "       [ 55,  50,  30,  85],\n",
       "       [ 85,  50,   5,  65],\n",
       "       [ 75,  90,  85,  85],\n",
       "       [ 95,  70,  10,   5],\n",
       "       [ 85,  35,  80,  95],\n",
       "       [ 95,  50,  80,  90],\n",
       "       [100,  65,  75,  40],\n",
       "       [ 95,  70,  70,   0],\n",
       "       [ 95,  70,  20,  25],\n",
       "       [100,  60,  10,   5],\n",
       "       [ 55,  35,  25,  10],\n",
       "       [ 60,  90,  40,   5],\n",
       "       [ 85,  90,  85,  75],\n",
       "       [ 75,  85,  25,  35],\n",
       "       [ 55,  30,  50,  45],\n",
       "       [ 70,  60,  75,  75],\n",
       "       [ 80,  30,  95,   5],\n",
       "       [ 90,  85,  80,  15],\n",
       "       [ 90,  25,  95,   5],\n",
       "       [ 60,  85,  50,  20],\n",
       "       [ 90,  50,  95,  95],\n",
       "       [ 75,  95,  65,  40],\n",
       "       [ 60,  40,  35,   0],\n",
       "       [ 55, 100,  15,  80],\n",
       "       [ 70,  75,  80,   0],\n",
       "       [ 75,  65,  25,  20],\n",
       "       [ 90,  75,  80,  25],\n",
       "       [ 50,  75,  75,  20],\n",
       "       [ 55,  45,  35,  45],\n",
       "       [ 90,  70,  90,   0],\n",
       "       [ 75,  30, 100,  60],\n",
       "       [ 90,  85,   0,  40],\n",
       "       [ 85,  70,  35,   0],\n",
       "       [100,  75, 100,  85],\n",
       "       [ 55,  35,  20,  10],\n",
       "       [ 70,  75,  90,  90],\n",
       "       [ 90,  90,  55,  55],\n",
       "       [ 55,  60,  40,   0],\n",
       "       [100,  90,   5,  30],\n",
       "       [ 50,  55,  25,  80],\n",
       "       [100, 100,  90,  55],\n",
       "       [ 70,  45,  70,  75],\n",
       "       [ 85,  95,  85,  90],\n",
       "       [ 55,  25,  95,  45],\n",
       "       [ 75,  30,  10,  95],\n",
       "       [ 65,  85,  15,  60],\n",
       "       [ 70,  90,  70,   0],\n",
       "       [ 60,  85,  70,  85],\n",
       "       [100,  25,  10,  20],\n",
       "       [ 75,  25,  80,  25],\n",
       "       [ 90,  95,  40,  80],\n",
       "       [ 95,  90,  50,  50],\n",
       "       [ 90,  90,  65,  85],\n",
       "       [ 95,  75,  50,  40],\n",
       "       [ 55,  60,  70,   5],\n",
       "       [ 95,  85,   0,  15],\n",
       "       [ 65,  60,  35,  20],\n",
       "       [ 65,  50,   5,   5],\n",
       "       [ 90,  25,  60,  25],\n",
       "       [100,  40,  40,  15],\n",
       "       [ 70,  25, 100,  75],\n",
       "       [100,  30,  70,  70],\n",
       "       [ 50,  55,  55,   5],\n",
       "       [ 70,  35,  70, 100],\n",
       "       [ 70,  60,  60,  80],\n",
       "       [ 55,  45,  90,   5],\n",
       "       [ 55,  55,  10,  95],\n",
       "       [ 65,  80,  10,  30],\n",
       "       [ 90,  25,  35,  55],\n",
       "       [100,  30,  30,  85],\n",
       "       [ 70,  85,  70,  65],\n",
       "       [ 60, 100,  45, 100],\n",
       "       [ 70,  25, 100,  15],\n",
       "       [ 70,  35,  80,  25],\n",
       "       [ 65,  60,  30,  35],\n",
       "       [ 95,  35,  40,  95],\n",
       "       [ 50,  80,  65,  90],\n",
       "       [100,  40,  80,  80],\n",
       "       [ 55,  30,  95, 100],\n",
       "       [ 65,  40,  65,  70],\n",
       "       [ 55,  70,  40,  95],\n",
       "       [ 65,  85,  25,  85],\n",
       "       [ 85,  85, 100,  10],\n",
       "       [ 80,  65,  35,  60],\n",
       "       [ 50,  95,  45,  85]])"
      ]
     },
     "execution_count": 137,
     "metadata": {},
     "output_type": "execute_result"
    }
   ],
   "source": [
    "arr=np.array(df)\n",
    "arr"
   ]
  },
  {
   "cell_type": "markdown",
   "id": "6f2a64fe-e61e-4fda-92c1-3c320cea3cbf",
   "metadata": {},
   "source": [
    "#### row indexing"
   ]
  },
  {
   "cell_type": "markdown",
   "id": "433c0721-96db-4ef2-ba1a-a5cb900a2c88",
   "metadata": {},
   "source": [
    "`-` 예시1: 단일레이블"
   ]
  },
  {
   "cell_type": "code",
   "execution_count": 142,
   "id": "e41e89f7-dc73-478e-9ac7-4fda31869e63",
   "metadata": {},
   "outputs": [
    {
     "data": {
      "text/plain": [
       "array([65, 45,  0, 10])"
      ]
     },
     "execution_count": 142,
     "metadata": {},
     "output_type": "execute_result"
    }
   ],
   "source": [
    "arr[0,:] # first row"
   ]
  },
  {
   "cell_type": "code",
   "execution_count": 139,
   "id": "57f6da5d-04e9-446a-ba3c-9128688ddb68",
   "metadata": {},
   "outputs": [
    {
     "data": {
      "text/plain": [
       "array([65, 45,  0, 10])"
      ]
     },
     "execution_count": 139,
     "metadata": {},
     "output_type": "execute_result"
    }
   ],
   "source": [
    "arr[0]"
   ]
  },
  {
   "cell_type": "code",
   "execution_count": 141,
   "id": "aec0fa54-93b2-4fde-9584-e3df9dfcfd17",
   "metadata": {},
   "outputs": [
    {
     "data": {
      "text/plain": [
       "array([65, 45,  0, 10])"
      ]
     },
     "execution_count": 141,
     "metadata": {},
     "output_type": "execute_result"
    }
   ],
   "source": [
    "arr[0,] # R"
   ]
  },
  {
   "cell_type": "code",
   "execution_count": 144,
   "id": "acfa53d4-37d2-4f99-8ee1-66c906563b68",
   "metadata": {},
   "outputs": [
    {
     "data": {
      "text/plain": [
       "att    65\n",
       "rep    45\n",
       "mid     0\n",
       "fin    10\n",
       "Name: 0, dtype: int64"
      ]
     },
     "execution_count": 144,
     "metadata": {},
     "output_type": "execute_result"
    }
   ],
   "source": [
    "df.iloc[0,:]\n",
    "# df.iloc[0,]\n",
    "# df.iloc[0]"
   ]
  },
  {
   "cell_type": "markdown",
   "id": "0a1312db-7f16-47d4-9899-d8e05f0c3127",
   "metadata": {},
   "source": [
    "`-` 예시2: 레이블의 리스트"
   ]
  },
  {
   "cell_type": "code",
   "execution_count": 145,
   "id": "5c672575-3abc-4832-a017-8337cf1d1845",
   "metadata": {},
   "outputs": [
    {
     "data": {
      "text/plain": [
       "array([[65, 45,  0, 10],\n",
       "       [95, 30, 60, 10],\n",
       "       [65, 85, 15, 20]])"
      ]
     },
     "execution_count": 145,
     "metadata": {},
     "output_type": "execute_result"
    }
   ],
   "source": [
    "arr[[0,1,2],:]  # 처음 3개의 row 선택\n",
    "arr[[0,1,2],]\n",
    "arr[[0,1,2]]"
   ]
  },
  {
   "cell_type": "code",
   "execution_count": 146,
   "id": "bff9637c-9214-4877-8370-d77da6c32b05",
   "metadata": {},
   "outputs": [
    {
     "data": {
      "text/html": [
       "<div>\n",
       "<style scoped>\n",
       "    .dataframe tbody tr th:only-of-type {\n",
       "        vertical-align: middle;\n",
       "    }\n",
       "\n",
       "    .dataframe tbody tr th {\n",
       "        vertical-align: top;\n",
       "    }\n",
       "\n",
       "    .dataframe thead th {\n",
       "        text-align: right;\n",
       "    }\n",
       "</style>\n",
       "<table border=\"1\" class=\"dataframe\">\n",
       "  <thead>\n",
       "    <tr style=\"text-align: right;\">\n",
       "      <th></th>\n",
       "      <th>att</th>\n",
       "      <th>rep</th>\n",
       "      <th>mid</th>\n",
       "      <th>fin</th>\n",
       "    </tr>\n",
       "  </thead>\n",
       "  <tbody>\n",
       "    <tr>\n",
       "      <th>0</th>\n",
       "      <td>65</td>\n",
       "      <td>45</td>\n",
       "      <td>0</td>\n",
       "      <td>10</td>\n",
       "    </tr>\n",
       "    <tr>\n",
       "      <th>1</th>\n",
       "      <td>95</td>\n",
       "      <td>30</td>\n",
       "      <td>60</td>\n",
       "      <td>10</td>\n",
       "    </tr>\n",
       "    <tr>\n",
       "      <th>2</th>\n",
       "      <td>65</td>\n",
       "      <td>85</td>\n",
       "      <td>15</td>\n",
       "      <td>20</td>\n",
       "    </tr>\n",
       "  </tbody>\n",
       "</table>\n",
       "</div>"
      ],
      "text/plain": [
       "   att  rep  mid  fin\n",
       "0   65   45    0   10\n",
       "1   95   30   60   10\n",
       "2   65   85   15   20"
      ]
     },
     "execution_count": 146,
     "metadata": {},
     "output_type": "execute_result"
    }
   ],
   "source": [
    "df.iloc[[0,1,2],:]  # 처음 3개의 row 선택\n",
    "df.iloc[[0,1,2],]\n",
    "df.iloc[[0,1,2]]"
   ]
  },
  {
   "cell_type": "markdown",
   "id": "e405e748-5e7f-4bf9-908b-26ad7be78bd4",
   "metadata": {},
   "source": [
    "`-` 예시3: 슬라이싱"
   ]
  },
  {
   "cell_type": "code",
   "execution_count": 149,
   "id": "d56b247f-be6b-414e-86de-8b522c755fe6",
   "metadata": {},
   "outputs": [
    {
     "data": {
      "text/plain": [
       "array([[65, 45,  0, 10],\n",
       "       [95, 30, 60, 10],\n",
       "       [65, 85, 15, 20]])"
      ]
     },
     "execution_count": 149,
     "metadata": {},
     "output_type": "execute_result"
    }
   ],
   "source": [
    "arr[0:3,:]  # 처음 3개의 row 선택, 끝점포함x\n",
    "arr[0:3,]\n",
    "arr[0:3]"
   ]
  },
  {
   "cell_type": "code",
   "execution_count": 150,
   "id": "798ee5ce-29e4-4468-a6eb-82765472406d",
   "metadata": {},
   "outputs": [
    {
     "data": {
      "text/html": [
       "<div>\n",
       "<style scoped>\n",
       "    .dataframe tbody tr th:only-of-type {\n",
       "        vertical-align: middle;\n",
       "    }\n",
       "\n",
       "    .dataframe tbody tr th {\n",
       "        vertical-align: top;\n",
       "    }\n",
       "\n",
       "    .dataframe thead th {\n",
       "        text-align: right;\n",
       "    }\n",
       "</style>\n",
       "<table border=\"1\" class=\"dataframe\">\n",
       "  <thead>\n",
       "    <tr style=\"text-align: right;\">\n",
       "      <th></th>\n",
       "      <th>att</th>\n",
       "      <th>rep</th>\n",
       "      <th>mid</th>\n",
       "      <th>fin</th>\n",
       "    </tr>\n",
       "  </thead>\n",
       "  <tbody>\n",
       "    <tr>\n",
       "      <th>0</th>\n",
       "      <td>65</td>\n",
       "      <td>45</td>\n",
       "      <td>0</td>\n",
       "      <td>10</td>\n",
       "    </tr>\n",
       "    <tr>\n",
       "      <th>1</th>\n",
       "      <td>95</td>\n",
       "      <td>30</td>\n",
       "      <td>60</td>\n",
       "      <td>10</td>\n",
       "    </tr>\n",
       "    <tr>\n",
       "      <th>2</th>\n",
       "      <td>65</td>\n",
       "      <td>85</td>\n",
       "      <td>15</td>\n",
       "      <td>20</td>\n",
       "    </tr>\n",
       "  </tbody>\n",
       "</table>\n",
       "</div>"
      ],
      "text/plain": [
       "   att  rep  mid  fin\n",
       "0   65   45    0   10\n",
       "1   95   30   60   10\n",
       "2   65   85   15   20"
      ]
     },
     "execution_count": 150,
     "metadata": {},
     "output_type": "execute_result"
    }
   ],
   "source": [
    "df.iloc[0:3,:]  # 처음 3개의 row 선택\n",
    "df.iloc[0:3,]\n",
    "df.iloc[0:3]"
   ]
  },
  {
   "cell_type": "markdown",
   "id": "b037f3b1-5461-4605-a275-5108f5e14cda",
   "metadata": {},
   "source": [
    "#### col indexing"
   ]
  },
  {
   "cell_type": "code",
   "execution_count": 153,
   "id": "ebab570d-8441-491c-9ddf-40067306d96d",
   "metadata": {},
   "outputs": [
    {
     "data": {
      "text/html": [
       "<div>\n",
       "<style scoped>\n",
       "    .dataframe tbody tr th:only-of-type {\n",
       "        vertical-align: middle;\n",
       "    }\n",
       "\n",
       "    .dataframe tbody tr th {\n",
       "        vertical-align: top;\n",
       "    }\n",
       "\n",
       "    .dataframe thead th {\n",
       "        text-align: right;\n",
       "    }\n",
       "</style>\n",
       "<table border=\"1\" class=\"dataframe\">\n",
       "  <thead>\n",
       "    <tr style=\"text-align: right;\">\n",
       "      <th></th>\n",
       "      <th>att</th>\n",
       "      <th>rep</th>\n",
       "      <th>mid</th>\n",
       "      <th>fin</th>\n",
       "    </tr>\n",
       "  </thead>\n",
       "  <tbody>\n",
       "    <tr>\n",
       "      <th>0</th>\n",
       "      <td>65</td>\n",
       "      <td>45</td>\n",
       "      <td>0</td>\n",
       "      <td>10</td>\n",
       "    </tr>\n",
       "    <tr>\n",
       "      <th>1</th>\n",
       "      <td>95</td>\n",
       "      <td>30</td>\n",
       "      <td>60</td>\n",
       "      <td>10</td>\n",
       "    </tr>\n",
       "    <tr>\n",
       "      <th>2</th>\n",
       "      <td>65</td>\n",
       "      <td>85</td>\n",
       "      <td>15</td>\n",
       "      <td>20</td>\n",
       "    </tr>\n",
       "    <tr>\n",
       "      <th>3</th>\n",
       "      <td>55</td>\n",
       "      <td>35</td>\n",
       "      <td>35</td>\n",
       "      <td>5</td>\n",
       "    </tr>\n",
       "    <tr>\n",
       "      <th>4</th>\n",
       "      <td>80</td>\n",
       "      <td>60</td>\n",
       "      <td>55</td>\n",
       "      <td>70</td>\n",
       "    </tr>\n",
       "  </tbody>\n",
       "</table>\n",
       "</div>"
      ],
      "text/plain": [
       "   att  rep  mid  fin\n",
       "0   65   45    0   10\n",
       "1   95   30   60   10\n",
       "2   65   85   15   20\n",
       "3   55   35   35    5\n",
       "4   80   60   55   70"
      ]
     },
     "execution_count": 153,
     "metadata": {},
     "output_type": "execute_result"
    }
   ],
   "source": [
    "df.head()"
   ]
  },
  {
   "cell_type": "markdown",
   "id": "ad0483db-69d1-4167-989b-98cd2657c9b4",
   "metadata": {},
   "source": [
    "`-` 예시1: 단일레이블"
   ]
  },
  {
   "cell_type": "code",
   "execution_count": 151,
   "id": "472a6841-9d68-4b76-a61d-f31e14a1f0b2",
   "metadata": {},
   "outputs": [
    {
     "data": {
      "text/plain": [
       "array([ 65,  95,  65,  55,  80,  75,  65,  60,  95,  90,  55,  95,  95,\n",
       "        50,  50,  95,  50,  65,  70,  90,  80,  55,  65,  70,  85,  90,\n",
       "       100,  80,  80,  55,  75,  80,  95,  95, 100, 100,  80,  70,  85,\n",
       "       100,  95,  75,  70,  50, 100,  75,  85,  80,  95,  65,  90,  65,\n",
       "        80,  95,  65,  90,  95, 100,  50,  90,  50,  80,  50,  70,  65,\n",
       "        60,  50,  60,  70,  75,  50,  85,  80,  55,  85,  65,  85,  60,\n",
       "        95,  85,  60, 100, 100,  55,  70,  70,  55, 100,  85, 100,  60,\n",
       "        65,  65,  75,  50,  75, 100,  90,  55,  75,  60,  85,  60,  70,\n",
       "        80,  65,  85, 100,  65,  85,  85,  85, 100,  95,  95,  55,  85,\n",
       "        75,  95,  85,  95, 100,  95,  95, 100,  55,  60,  85,  75,  55,\n",
       "        70,  80,  90,  90,  60,  90,  75,  60,  55,  70,  75,  90,  50,\n",
       "        55,  90,  75,  90,  85, 100,  55,  70,  90,  55, 100,  50, 100,\n",
       "        70,  85,  55,  75,  65,  70,  60, 100,  75,  90,  95,  90,  95,\n",
       "        55,  95,  65,  65,  90, 100,  70, 100,  50,  70,  70,  55,  55,\n",
       "        65,  90, 100,  70,  60,  70,  70,  65,  95,  50, 100,  55,  65,\n",
       "        55,  65,  85,  80,  50])"
      ]
     },
     "execution_count": 151,
     "metadata": {},
     "output_type": "execute_result"
    }
   ],
   "source": [
    "#df.iloc[:,0] # first column \n",
    "arr[:,0] # first column "
   ]
  },
  {
   "cell_type": "code",
   "execution_count": 152,
   "id": "bfa3599a-dbad-4300-b961-3df99bd0bf48",
   "metadata": {},
   "outputs": [
    {
     "data": {
      "text/plain": [
       "0      65\n",
       "1      95\n",
       "2      65\n",
       "3      55\n",
       "4      80\n",
       "       ..\n",
       "195    55\n",
       "196    65\n",
       "197    85\n",
       "198    80\n",
       "199    50\n",
       "Name: att, Length: 200, dtype: int64"
      ]
     },
     "execution_count": 152,
     "metadata": {},
     "output_type": "execute_result"
    }
   ],
   "source": [
    "df.iloc[:,0] # first column"
   ]
  },
  {
   "cell_type": "markdown",
   "id": "30c7bb66-8027-44cd-95e3-d0d09a724e1b",
   "metadata": {},
   "source": [
    "`-` 예시2: 레이블의 리스트"
   ]
  },
  {
   "cell_type": "code",
   "execution_count": 157,
   "id": "d4b4e803-d295-467a-a1cd-47061367549d",
   "metadata": {},
   "outputs": [],
   "source": [
    "#arr[:,[0,2]] # col1, col3 선택"
   ]
  },
  {
   "cell_type": "code",
   "execution_count": 156,
   "id": "9a6a73e5-34d9-48f0-a71c-c236c6bcee4e",
   "metadata": {},
   "outputs": [
    {
     "data": {
      "text/html": [
       "<div>\n",
       "<style scoped>\n",
       "    .dataframe tbody tr th:only-of-type {\n",
       "        vertical-align: middle;\n",
       "    }\n",
       "\n",
       "    .dataframe tbody tr th {\n",
       "        vertical-align: top;\n",
       "    }\n",
       "\n",
       "    .dataframe thead th {\n",
       "        text-align: right;\n",
       "    }\n",
       "</style>\n",
       "<table border=\"1\" class=\"dataframe\">\n",
       "  <thead>\n",
       "    <tr style=\"text-align: right;\">\n",
       "      <th></th>\n",
       "      <th>att</th>\n",
       "      <th>mid</th>\n",
       "    </tr>\n",
       "  </thead>\n",
       "  <tbody>\n",
       "    <tr>\n",
       "      <th>0</th>\n",
       "      <td>65</td>\n",
       "      <td>0</td>\n",
       "    </tr>\n",
       "    <tr>\n",
       "      <th>1</th>\n",
       "      <td>95</td>\n",
       "      <td>60</td>\n",
       "    </tr>\n",
       "    <tr>\n",
       "      <th>2</th>\n",
       "      <td>65</td>\n",
       "      <td>15</td>\n",
       "    </tr>\n",
       "    <tr>\n",
       "      <th>3</th>\n",
       "      <td>55</td>\n",
       "      <td>35</td>\n",
       "    </tr>\n",
       "    <tr>\n",
       "      <th>4</th>\n",
       "      <td>80</td>\n",
       "      <td>55</td>\n",
       "    </tr>\n",
       "    <tr>\n",
       "      <th>...</th>\n",
       "      <td>...</td>\n",
       "      <td>...</td>\n",
       "    </tr>\n",
       "    <tr>\n",
       "      <th>195</th>\n",
       "      <td>55</td>\n",
       "      <td>40</td>\n",
       "    </tr>\n",
       "    <tr>\n",
       "      <th>196</th>\n",
       "      <td>65</td>\n",
       "      <td>25</td>\n",
       "    </tr>\n",
       "    <tr>\n",
       "      <th>197</th>\n",
       "      <td>85</td>\n",
       "      <td>100</td>\n",
       "    </tr>\n",
       "    <tr>\n",
       "      <th>198</th>\n",
       "      <td>80</td>\n",
       "      <td>35</td>\n",
       "    </tr>\n",
       "    <tr>\n",
       "      <th>199</th>\n",
       "      <td>50</td>\n",
       "      <td>45</td>\n",
       "    </tr>\n",
       "  </tbody>\n",
       "</table>\n",
       "<p>200 rows × 2 columns</p>\n",
       "</div>"
      ],
      "text/plain": [
       "     att  mid\n",
       "0     65    0\n",
       "1     95   60\n",
       "2     65   15\n",
       "3     55   35\n",
       "4     80   55\n",
       "..   ...  ...\n",
       "195   55   40\n",
       "196   65   25\n",
       "197   85  100\n",
       "198   80   35\n",
       "199   50   45\n",
       "\n",
       "[200 rows x 2 columns]"
      ]
     },
     "execution_count": 156,
     "metadata": {},
     "output_type": "execute_result"
    }
   ],
   "source": [
    "df.iloc[:,[0,2]] # 처음 3개의 row선택"
   ]
  },
  {
   "cell_type": "markdown",
   "id": "eb321541-2641-4af4-b83a-916831855dc6",
   "metadata": {},
   "source": [
    "`-` 예시3: 슬라이싱"
   ]
  },
  {
   "cell_type": "code",
   "execution_count": 158,
   "id": "a121758d-6f55-4a62-81f9-320b61a71a40",
   "metadata": {},
   "outputs": [
    {
     "data": {
      "text/html": [
       "<div>\n",
       "<style scoped>\n",
       "    .dataframe tbody tr th:only-of-type {\n",
       "        vertical-align: middle;\n",
       "    }\n",
       "\n",
       "    .dataframe tbody tr th {\n",
       "        vertical-align: top;\n",
       "    }\n",
       "\n",
       "    .dataframe thead th {\n",
       "        text-align: right;\n",
       "    }\n",
       "</style>\n",
       "<table border=\"1\" class=\"dataframe\">\n",
       "  <thead>\n",
       "    <tr style=\"text-align: right;\">\n",
       "      <th></th>\n",
       "      <th>att</th>\n",
       "      <th>rep</th>\n",
       "      <th>mid</th>\n",
       "    </tr>\n",
       "  </thead>\n",
       "  <tbody>\n",
       "    <tr>\n",
       "      <th>0</th>\n",
       "      <td>65</td>\n",
       "      <td>45</td>\n",
       "      <td>0</td>\n",
       "    </tr>\n",
       "    <tr>\n",
       "      <th>1</th>\n",
       "      <td>95</td>\n",
       "      <td>30</td>\n",
       "      <td>60</td>\n",
       "    </tr>\n",
       "    <tr>\n",
       "      <th>2</th>\n",
       "      <td>65</td>\n",
       "      <td>85</td>\n",
       "      <td>15</td>\n",
       "    </tr>\n",
       "    <tr>\n",
       "      <th>3</th>\n",
       "      <td>55</td>\n",
       "      <td>35</td>\n",
       "      <td>35</td>\n",
       "    </tr>\n",
       "    <tr>\n",
       "      <th>4</th>\n",
       "      <td>80</td>\n",
       "      <td>60</td>\n",
       "      <td>55</td>\n",
       "    </tr>\n",
       "    <tr>\n",
       "      <th>...</th>\n",
       "      <td>...</td>\n",
       "      <td>...</td>\n",
       "      <td>...</td>\n",
       "    </tr>\n",
       "    <tr>\n",
       "      <th>195</th>\n",
       "      <td>55</td>\n",
       "      <td>70</td>\n",
       "      <td>40</td>\n",
       "    </tr>\n",
       "    <tr>\n",
       "      <th>196</th>\n",
       "      <td>65</td>\n",
       "      <td>85</td>\n",
       "      <td>25</td>\n",
       "    </tr>\n",
       "    <tr>\n",
       "      <th>197</th>\n",
       "      <td>85</td>\n",
       "      <td>85</td>\n",
       "      <td>100</td>\n",
       "    </tr>\n",
       "    <tr>\n",
       "      <th>198</th>\n",
       "      <td>80</td>\n",
       "      <td>65</td>\n",
       "      <td>35</td>\n",
       "    </tr>\n",
       "    <tr>\n",
       "      <th>199</th>\n",
       "      <td>50</td>\n",
       "      <td>95</td>\n",
       "      <td>45</td>\n",
       "    </tr>\n",
       "  </tbody>\n",
       "</table>\n",
       "<p>200 rows × 3 columns</p>\n",
       "</div>"
      ],
      "text/plain": [
       "     att  rep  mid\n",
       "0     65   45    0\n",
       "1     95   30   60\n",
       "2     65   85   15\n",
       "3     55   35   35\n",
       "4     80   60   55\n",
       "..   ...  ...  ...\n",
       "195   55   70   40\n",
       "196   65   85   25\n",
       "197   85   85  100\n",
       "198   80   65   35\n",
       "199   50   95   45\n",
       "\n",
       "[200 rows x 3 columns]"
      ]
     },
     "execution_count": 158,
     "metadata": {},
     "output_type": "execute_result"
    }
   ],
   "source": [
    "df.iloc[:,0:3] # 처음 3개의 col선택, 끝점포함X\n",
    "#arr[:,0:3]"
   ]
  },
  {
   "cell_type": "markdown",
   "id": "0483bb60-727e-4982-8e90-592bf464fb6e",
   "metadata": {
    "tags": []
   },
   "source": [
    "#### row+col indexing"
   ]
  },
  {
   "cell_type": "code",
   "execution_count": 173,
   "id": "7e06422d-a234-4b92-9405-735c4d626a9b",
   "metadata": {},
   "outputs": [
    {
     "data": {
      "text/html": [
       "<div>\n",
       "<style scoped>\n",
       "    .dataframe tbody tr th:only-of-type {\n",
       "        vertical-align: middle;\n",
       "    }\n",
       "\n",
       "    .dataframe tbody tr th {\n",
       "        vertical-align: top;\n",
       "    }\n",
       "\n",
       "    .dataframe thead th {\n",
       "        text-align: right;\n",
       "    }\n",
       "</style>\n",
       "<table border=\"1\" class=\"dataframe\">\n",
       "  <thead>\n",
       "    <tr style=\"text-align: right;\">\n",
       "      <th></th>\n",
       "      <th>att</th>\n",
       "      <th>rep</th>\n",
       "      <th>mid</th>\n",
       "    </tr>\n",
       "  </thead>\n",
       "  <tbody>\n",
       "    <tr>\n",
       "      <th>0</th>\n",
       "      <td>65</td>\n",
       "      <td>45</td>\n",
       "      <td>0</td>\n",
       "    </tr>\n",
       "    <tr>\n",
       "      <th>1</th>\n",
       "      <td>95</td>\n",
       "      <td>30</td>\n",
       "      <td>60</td>\n",
       "    </tr>\n",
       "  </tbody>\n",
       "</table>\n",
       "</div>"
      ],
      "text/plain": [
       "   att  rep  mid\n",
       "0   65   45    0\n",
       "1   95   30   60"
      ]
     },
     "execution_count": 173,
     "metadata": {},
     "output_type": "execute_result"
    }
   ],
   "source": [
    "df.iloc[:2,0:3] "
   ]
  },
  {
   "cell_type": "code",
   "execution_count": 174,
   "id": "f33e2402-d3ec-4e6d-84a4-ce8a99f721ac",
   "metadata": {},
   "outputs": [
    {
     "data": {
      "text/html": [
       "<div>\n",
       "<style scoped>\n",
       "    .dataframe tbody tr th:only-of-type {\n",
       "        vertical-align: middle;\n",
       "    }\n",
       "\n",
       "    .dataframe tbody tr th {\n",
       "        vertical-align: top;\n",
       "    }\n",
       "\n",
       "    .dataframe thead th {\n",
       "        text-align: right;\n",
       "    }\n",
       "</style>\n",
       "<table border=\"1\" class=\"dataframe\">\n",
       "  <thead>\n",
       "    <tr style=\"text-align: right;\">\n",
       "      <th></th>\n",
       "      <th>att</th>\n",
       "      <th>rep</th>\n",
       "      <th>mid</th>\n",
       "    </tr>\n",
       "  </thead>\n",
       "  <tbody>\n",
       "    <tr>\n",
       "      <th>0</th>\n",
       "      <td>65</td>\n",
       "      <td>45</td>\n",
       "      <td>0</td>\n",
       "    </tr>\n",
       "    <tr>\n",
       "      <th>2</th>\n",
       "      <td>65</td>\n",
       "      <td>85</td>\n",
       "      <td>15</td>\n",
       "    </tr>\n",
       "    <tr>\n",
       "      <th>4</th>\n",
       "      <td>80</td>\n",
       "      <td>60</td>\n",
       "      <td>55</td>\n",
       "    </tr>\n",
       "    <tr>\n",
       "      <th>6</th>\n",
       "      <td>65</td>\n",
       "      <td>70</td>\n",
       "      <td>60</td>\n",
       "    </tr>\n",
       "    <tr>\n",
       "      <th>8</th>\n",
       "      <td>95</td>\n",
       "      <td>55</td>\n",
       "      <td>65</td>\n",
       "    </tr>\n",
       "    <tr>\n",
       "      <th>...</th>\n",
       "      <td>...</td>\n",
       "      <td>...</td>\n",
       "      <td>...</td>\n",
       "    </tr>\n",
       "    <tr>\n",
       "      <th>190</th>\n",
       "      <td>95</td>\n",
       "      <td>35</td>\n",
       "      <td>40</td>\n",
       "    </tr>\n",
       "    <tr>\n",
       "      <th>192</th>\n",
       "      <td>100</td>\n",
       "      <td>40</td>\n",
       "      <td>80</td>\n",
       "    </tr>\n",
       "    <tr>\n",
       "      <th>194</th>\n",
       "      <td>65</td>\n",
       "      <td>40</td>\n",
       "      <td>65</td>\n",
       "    </tr>\n",
       "    <tr>\n",
       "      <th>196</th>\n",
       "      <td>65</td>\n",
       "      <td>85</td>\n",
       "      <td>25</td>\n",
       "    </tr>\n",
       "    <tr>\n",
       "      <th>198</th>\n",
       "      <td>80</td>\n",
       "      <td>65</td>\n",
       "      <td>35</td>\n",
       "    </tr>\n",
       "  </tbody>\n",
       "</table>\n",
       "<p>100 rows × 3 columns</p>\n",
       "</div>"
      ],
      "text/plain": [
       "     att  rep  mid\n",
       "0     65   45    0\n",
       "2     65   85   15\n",
       "4     80   60   55\n",
       "6     65   70   60\n",
       "8     95   55   65\n",
       "..   ...  ...  ...\n",
       "190   95   35   40\n",
       "192  100   40   80\n",
       "194   65   40   65\n",
       "196   65   85   25\n",
       "198   80   65   35\n",
       "\n",
       "[100 rows x 3 columns]"
      ]
     },
     "execution_count": 174,
     "metadata": {},
     "output_type": "execute_result"
    }
   ],
   "source": [
    "df.iloc[::2,0:3]"
   ]
  },
  {
   "cell_type": "code",
   "execution_count": null,
   "id": "8b90c420-f311-4ca9-8ca8-26208373f2c3",
   "metadata": {},
   "outputs": [],
   "source": []
  },
  {
   "cell_type": "markdown",
   "id": "7a18ad54-dde9-4e1b-a5f4-2d185e9749fd",
   "metadata": {},
   "source": [
    "### 컨셉4: 데이터프레임 느낌"
   ]
  },
  {
   "cell_type": "markdown",
   "id": "621f3abc-5a9d-4c61-8420-667dee7d568d",
   "metadata": {},
   "source": [
    "`-` 컨셉4: `df.loc`새로운 느낌 (R에 익숙하면 dataframe 혹은 티블느낌이라고 보면 된다.)"
   ]
  },
  {
   "cell_type": "markdown",
   "id": "3a68a91c-29ad-438d-9f33-329eb3c0226b",
   "metadata": {},
   "source": [
    "- R에서.. 교수님꺼 강의노트 참고"
   ]
  },
  {
   "cell_type": "markdown",
   "id": "b642fb67-39b0-407a-8feb-3a6f2bf3dfc1",
   "metadata": {},
   "source": [
    "#### row indexing"
   ]
  },
  {
   "cell_type": "markdown",
   "id": "38dc503c-de96-4ff8-ba0d-f38fac4c8ab8",
   "metadata": {},
   "source": [
    "`-` 예시1: 단일레이블"
   ]
  },
  {
   "cell_type": "code",
   "execution_count": 161,
   "id": "d1b20940-4110-40f9-acf6-9a43fe81b458",
   "metadata": {},
   "outputs": [
    {
     "data": {
      "text/plain": [
       "att    65\n",
       "rep    45\n",
       "mid     0\n",
       "fin    10\n",
       "Name: 0, dtype: int64"
      ]
     },
     "execution_count": 161,
     "metadata": {},
     "output_type": "execute_result"
    }
   ],
   "source": [
    "df.loc[0,:]   # 첫번째 row를 선택\n",
    "df.loc[0,]\n",
    "df.loc[0]"
   ]
  },
  {
   "cell_type": "markdown",
   "id": "77a69470-8b46-4798-9436-9d037852fe2f",
   "metadata": {},
   "source": [
    "`-` 예시2: 레이블의 리스트"
   ]
  },
  {
   "cell_type": "code",
   "execution_count": 163,
   "id": "ddf419e1-0130-40f8-9b6b-06234d7499c8",
   "metadata": {},
   "outputs": [
    {
     "data": {
      "text/html": [
       "<div>\n",
       "<style scoped>\n",
       "    .dataframe tbody tr th:only-of-type {\n",
       "        vertical-align: middle;\n",
       "    }\n",
       "\n",
       "    .dataframe tbody tr th {\n",
       "        vertical-align: top;\n",
       "    }\n",
       "\n",
       "    .dataframe thead th {\n",
       "        text-align: right;\n",
       "    }\n",
       "</style>\n",
       "<table border=\"1\" class=\"dataframe\">\n",
       "  <thead>\n",
       "    <tr style=\"text-align: right;\">\n",
       "      <th></th>\n",
       "      <th>att</th>\n",
       "      <th>rep</th>\n",
       "      <th>mid</th>\n",
       "      <th>fin</th>\n",
       "    </tr>\n",
       "  </thead>\n",
       "  <tbody>\n",
       "    <tr>\n",
       "      <th>0</th>\n",
       "      <td>65</td>\n",
       "      <td>45</td>\n",
       "      <td>0</td>\n",
       "      <td>10</td>\n",
       "    </tr>\n",
       "    <tr>\n",
       "      <th>1</th>\n",
       "      <td>95</td>\n",
       "      <td>30</td>\n",
       "      <td>60</td>\n",
       "      <td>10</td>\n",
       "    </tr>\n",
       "    <tr>\n",
       "      <th>2</th>\n",
       "      <td>65</td>\n",
       "      <td>85</td>\n",
       "      <td>15</td>\n",
       "      <td>20</td>\n",
       "    </tr>\n",
       "  </tbody>\n",
       "</table>\n",
       "</div>"
      ],
      "text/plain": [
       "   att  rep  mid  fin\n",
       "0   65   45    0   10\n",
       "1   95   30   60   10\n",
       "2   65   85   15   20"
      ]
     },
     "execution_count": 163,
     "metadata": {},
     "output_type": "execute_result"
    }
   ],
   "source": [
    "df.loc[[0,1,2],:]   # 처음 3개의 row를 선택\n",
    "df.loc[[0,1,2],]\n",
    "df.loc[[0,1,2]]"
   ]
  },
  {
   "cell_type": "markdown",
   "id": "28929186-fc94-412d-9640-955d56f1b870",
   "metadata": {},
   "source": [
    "`-` 예시3: 슬라이싱(끝점포함 O!!)"
   ]
  },
  {
   "cell_type": "code",
   "execution_count": 165,
   "id": "deb48376-ffe5-40be-bece-7d729f5cb733",
   "metadata": {},
   "outputs": [
    {
     "data": {
      "text/html": [
       "<div>\n",
       "<style scoped>\n",
       "    .dataframe tbody tr th:only-of-type {\n",
       "        vertical-align: middle;\n",
       "    }\n",
       "\n",
       "    .dataframe tbody tr th {\n",
       "        vertical-align: top;\n",
       "    }\n",
       "\n",
       "    .dataframe thead th {\n",
       "        text-align: right;\n",
       "    }\n",
       "</style>\n",
       "<table border=\"1\" class=\"dataframe\">\n",
       "  <thead>\n",
       "    <tr style=\"text-align: right;\">\n",
       "      <th></th>\n",
       "      <th>att</th>\n",
       "      <th>rep</th>\n",
       "      <th>mid</th>\n",
       "      <th>fin</th>\n",
       "    </tr>\n",
       "  </thead>\n",
       "  <tbody>\n",
       "    <tr>\n",
       "      <th>0</th>\n",
       "      <td>65</td>\n",
       "      <td>45</td>\n",
       "      <td>0</td>\n",
       "      <td>10</td>\n",
       "    </tr>\n",
       "    <tr>\n",
       "      <th>1</th>\n",
       "      <td>95</td>\n",
       "      <td>30</td>\n",
       "      <td>60</td>\n",
       "      <td>10</td>\n",
       "    </tr>\n",
       "    <tr>\n",
       "      <th>2</th>\n",
       "      <td>65</td>\n",
       "      <td>85</td>\n",
       "      <td>15</td>\n",
       "      <td>20</td>\n",
       "    </tr>\n",
       "    <tr>\n",
       "      <th>3</th>\n",
       "      <td>55</td>\n",
       "      <td>35</td>\n",
       "      <td>35</td>\n",
       "      <td>5</td>\n",
       "    </tr>\n",
       "  </tbody>\n",
       "</table>\n",
       "</div>"
      ],
      "text/plain": [
       "   att  rep  mid  fin\n",
       "0   65   45    0   10\n",
       "1   95   30   60   10\n",
       "2   65   85   15   20\n",
       "3   55   35   35    5"
      ]
     },
     "execution_count": 165,
     "metadata": {},
     "output_type": "execute_result"
    }
   ],
   "source": [
    "df.loc[0:3,:]   # 처음 4개의 row를 선택\n",
    "df.loc[0:3,]\n",
    "df.loc[0:3]"
   ]
  },
  {
   "cell_type": "markdown",
   "id": "5e12b7b6-b42f-445c-8d46-48af12b7cf15",
   "metadata": {},
   "source": [
    "#### col indexing"
   ]
  },
  {
   "cell_type": "markdown",
   "id": "d36d85c8-4b97-40a5-85b1-952f11ffbd40",
   "metadata": {},
   "source": [
    "`-` 예시1: 단일레이블"
   ]
  },
  {
   "cell_type": "code",
   "execution_count": 167,
   "id": "6545681f-e318-4b9e-8003-c2b4f3c42078",
   "metadata": {},
   "outputs": [
    {
     "data": {
      "text/plain": [
       "0      65\n",
       "1      95\n",
       "2      65\n",
       "3      55\n",
       "4      80\n",
       "       ..\n",
       "195    55\n",
       "196    65\n",
       "197    85\n",
       "198    80\n",
       "199    50\n",
       "Name: att, Length: 200, dtype: int64"
      ]
     },
     "execution_count": 167,
     "metadata": {},
     "output_type": "execute_result"
    }
   ],
   "source": [
    "df.loc[:,'att']"
   ]
  },
  {
   "cell_type": "markdown",
   "id": "f8343943-b49f-404b-a3fb-2b9f6eab6b77",
   "metadata": {},
   "source": [
    "`-` 예시2: 레이블의 리스트"
   ]
  },
  {
   "cell_type": "code",
   "execution_count": 168,
   "id": "141167fa-e224-43ad-ad55-f27a51177e10",
   "metadata": {},
   "outputs": [
    {
     "data": {
      "text/html": [
       "<div>\n",
       "<style scoped>\n",
       "    .dataframe tbody tr th:only-of-type {\n",
       "        vertical-align: middle;\n",
       "    }\n",
       "\n",
       "    .dataframe tbody tr th {\n",
       "        vertical-align: top;\n",
       "    }\n",
       "\n",
       "    .dataframe thead th {\n",
       "        text-align: right;\n",
       "    }\n",
       "</style>\n",
       "<table border=\"1\" class=\"dataframe\">\n",
       "  <thead>\n",
       "    <tr style=\"text-align: right;\">\n",
       "      <th></th>\n",
       "      <th>att</th>\n",
       "      <th>mid</th>\n",
       "    </tr>\n",
       "  </thead>\n",
       "  <tbody>\n",
       "    <tr>\n",
       "      <th>0</th>\n",
       "      <td>65</td>\n",
       "      <td>0</td>\n",
       "    </tr>\n",
       "    <tr>\n",
       "      <th>1</th>\n",
       "      <td>95</td>\n",
       "      <td>60</td>\n",
       "    </tr>\n",
       "    <tr>\n",
       "      <th>2</th>\n",
       "      <td>65</td>\n",
       "      <td>15</td>\n",
       "    </tr>\n",
       "    <tr>\n",
       "      <th>3</th>\n",
       "      <td>55</td>\n",
       "      <td>35</td>\n",
       "    </tr>\n",
       "    <tr>\n",
       "      <th>4</th>\n",
       "      <td>80</td>\n",
       "      <td>55</td>\n",
       "    </tr>\n",
       "    <tr>\n",
       "      <th>...</th>\n",
       "      <td>...</td>\n",
       "      <td>...</td>\n",
       "    </tr>\n",
       "    <tr>\n",
       "      <th>195</th>\n",
       "      <td>55</td>\n",
       "      <td>40</td>\n",
       "    </tr>\n",
       "    <tr>\n",
       "      <th>196</th>\n",
       "      <td>65</td>\n",
       "      <td>25</td>\n",
       "    </tr>\n",
       "    <tr>\n",
       "      <th>197</th>\n",
       "      <td>85</td>\n",
       "      <td>100</td>\n",
       "    </tr>\n",
       "    <tr>\n",
       "      <th>198</th>\n",
       "      <td>80</td>\n",
       "      <td>35</td>\n",
       "    </tr>\n",
       "    <tr>\n",
       "      <th>199</th>\n",
       "      <td>50</td>\n",
       "      <td>45</td>\n",
       "    </tr>\n",
       "  </tbody>\n",
       "</table>\n",
       "<p>200 rows × 2 columns</p>\n",
       "</div>"
      ],
      "text/plain": [
       "     att  mid\n",
       "0     65    0\n",
       "1     95   60\n",
       "2     65   15\n",
       "3     55   35\n",
       "4     80   55\n",
       "..   ...  ...\n",
       "195   55   40\n",
       "196   65   25\n",
       "197   85  100\n",
       "198   80   35\n",
       "199   50   45\n",
       "\n",
       "[200 rows x 2 columns]"
      ]
     },
     "execution_count": 168,
     "metadata": {},
     "output_type": "execute_result"
    }
   ],
   "source": [
    "df.loc[:,['att','mid']]"
   ]
  },
  {
   "cell_type": "markdown",
   "id": "618aa476-4cc9-4cbc-a4c2-ec2f045868b7",
   "metadata": {},
   "source": [
    "`-` 예시3: 슬라이싱 (끝점 포함 O)"
   ]
  },
  {
   "cell_type": "code",
   "execution_count": 171,
   "id": "fd54d887-7fd4-47f3-929d-51805800ac33",
   "metadata": {},
   "outputs": [
    {
     "data": {
      "text/html": [
       "<div>\n",
       "<style scoped>\n",
       "    .dataframe tbody tr th:only-of-type {\n",
       "        vertical-align: middle;\n",
       "    }\n",
       "\n",
       "    .dataframe tbody tr th {\n",
       "        vertical-align: top;\n",
       "    }\n",
       "\n",
       "    .dataframe thead th {\n",
       "        text-align: right;\n",
       "    }\n",
       "</style>\n",
       "<table border=\"1\" class=\"dataframe\">\n",
       "  <thead>\n",
       "    <tr style=\"text-align: right;\">\n",
       "      <th></th>\n",
       "      <th>att</th>\n",
       "      <th>rep</th>\n",
       "      <th>mid</th>\n",
       "    </tr>\n",
       "  </thead>\n",
       "  <tbody>\n",
       "    <tr>\n",
       "      <th>0</th>\n",
       "      <td>65</td>\n",
       "      <td>45</td>\n",
       "      <td>0</td>\n",
       "    </tr>\n",
       "    <tr>\n",
       "      <th>1</th>\n",
       "      <td>95</td>\n",
       "      <td>30</td>\n",
       "      <td>60</td>\n",
       "    </tr>\n",
       "    <tr>\n",
       "      <th>2</th>\n",
       "      <td>65</td>\n",
       "      <td>85</td>\n",
       "      <td>15</td>\n",
       "    </tr>\n",
       "    <tr>\n",
       "      <th>3</th>\n",
       "      <td>55</td>\n",
       "      <td>35</td>\n",
       "      <td>35</td>\n",
       "    </tr>\n",
       "    <tr>\n",
       "      <th>4</th>\n",
       "      <td>80</td>\n",
       "      <td>60</td>\n",
       "      <td>55</td>\n",
       "    </tr>\n",
       "    <tr>\n",
       "      <th>...</th>\n",
       "      <td>...</td>\n",
       "      <td>...</td>\n",
       "      <td>...</td>\n",
       "    </tr>\n",
       "    <tr>\n",
       "      <th>195</th>\n",
       "      <td>55</td>\n",
       "      <td>70</td>\n",
       "      <td>40</td>\n",
       "    </tr>\n",
       "    <tr>\n",
       "      <th>196</th>\n",
       "      <td>65</td>\n",
       "      <td>85</td>\n",
       "      <td>25</td>\n",
       "    </tr>\n",
       "    <tr>\n",
       "      <th>197</th>\n",
       "      <td>85</td>\n",
       "      <td>85</td>\n",
       "      <td>100</td>\n",
       "    </tr>\n",
       "    <tr>\n",
       "      <th>198</th>\n",
       "      <td>80</td>\n",
       "      <td>65</td>\n",
       "      <td>35</td>\n",
       "    </tr>\n",
       "    <tr>\n",
       "      <th>199</th>\n",
       "      <td>50</td>\n",
       "      <td>95</td>\n",
       "      <td>45</td>\n",
       "    </tr>\n",
       "  </tbody>\n",
       "</table>\n",
       "<p>200 rows × 3 columns</p>\n",
       "</div>"
      ],
      "text/plain": [
       "     att  rep  mid\n",
       "0     65   45    0\n",
       "1     95   30   60\n",
       "2     65   85   15\n",
       "3     55   35   35\n",
       "4     80   60   55\n",
       "..   ...  ...  ...\n",
       "195   55   70   40\n",
       "196   65   85   25\n",
       "197   85   85  100\n",
       "198   80   65   35\n",
       "199   50   95   45\n",
       "\n",
       "[200 rows x 3 columns]"
      ]
     },
     "execution_count": 171,
     "metadata": {},
     "output_type": "execute_result"
    }
   ],
   "source": [
    "df.loc[:,'att':'mid']   # R에서는 안됬었고 끝점 포함"
   ]
  },
  {
   "cell_type": "markdown",
   "id": "2085f8a7-e27a-4a65-8385-db7b5466ecdf",
   "metadata": {},
   "source": [
    "#### row+col indexing"
   ]
  },
  {
   "cell_type": "code",
   "execution_count": 176,
   "id": "d9e72a21-6175-411e-bf3a-fd7e3d6ce8d6",
   "metadata": {},
   "outputs": [
    {
     "data": {
      "text/html": [
       "<div>\n",
       "<style scoped>\n",
       "    .dataframe tbody tr th:only-of-type {\n",
       "        vertical-align: middle;\n",
       "    }\n",
       "\n",
       "    .dataframe tbody tr th {\n",
       "        vertical-align: top;\n",
       "    }\n",
       "\n",
       "    .dataframe thead th {\n",
       "        text-align: right;\n",
       "    }\n",
       "</style>\n",
       "<table border=\"1\" class=\"dataframe\">\n",
       "  <thead>\n",
       "    <tr style=\"text-align: right;\">\n",
       "      <th></th>\n",
       "      <th>att</th>\n",
       "      <th>rep</th>\n",
       "      <th>mid</th>\n",
       "    </tr>\n",
       "  </thead>\n",
       "  <tbody>\n",
       "    <tr>\n",
       "      <th>199</th>\n",
       "      <td>50</td>\n",
       "      <td>95</td>\n",
       "      <td>45</td>\n",
       "    </tr>\n",
       "    <tr>\n",
       "      <th>198</th>\n",
       "      <td>80</td>\n",
       "      <td>65</td>\n",
       "      <td>35</td>\n",
       "    </tr>\n",
       "    <tr>\n",
       "      <th>197</th>\n",
       "      <td>85</td>\n",
       "      <td>85</td>\n",
       "      <td>100</td>\n",
       "    </tr>\n",
       "    <tr>\n",
       "      <th>196</th>\n",
       "      <td>65</td>\n",
       "      <td>85</td>\n",
       "      <td>25</td>\n",
       "    </tr>\n",
       "    <tr>\n",
       "      <th>195</th>\n",
       "      <td>55</td>\n",
       "      <td>70</td>\n",
       "      <td>40</td>\n",
       "    </tr>\n",
       "    <tr>\n",
       "      <th>...</th>\n",
       "      <td>...</td>\n",
       "      <td>...</td>\n",
       "      <td>...</td>\n",
       "    </tr>\n",
       "    <tr>\n",
       "      <th>4</th>\n",
       "      <td>80</td>\n",
       "      <td>60</td>\n",
       "      <td>55</td>\n",
       "    </tr>\n",
       "    <tr>\n",
       "      <th>3</th>\n",
       "      <td>55</td>\n",
       "      <td>35</td>\n",
       "      <td>35</td>\n",
       "    </tr>\n",
       "    <tr>\n",
       "      <th>2</th>\n",
       "      <td>65</td>\n",
       "      <td>85</td>\n",
       "      <td>15</td>\n",
       "    </tr>\n",
       "    <tr>\n",
       "      <th>1</th>\n",
       "      <td>95</td>\n",
       "      <td>30</td>\n",
       "      <td>60</td>\n",
       "    </tr>\n",
       "    <tr>\n",
       "      <th>0</th>\n",
       "      <td>65</td>\n",
       "      <td>45</td>\n",
       "      <td>0</td>\n",
       "    </tr>\n",
       "  </tbody>\n",
       "</table>\n",
       "<p>200 rows × 3 columns</p>\n",
       "</div>"
      ],
      "text/plain": [
       "     att  rep  mid\n",
       "199   50   95   45\n",
       "198   80   65   35\n",
       "197   85   85  100\n",
       "196   65   85   25\n",
       "195   55   70   40\n",
       "..   ...  ...  ...\n",
       "4     80   60   55\n",
       "3     55   35   35\n",
       "2     65   85   15\n",
       "1     95   30   60\n",
       "0     65   45    0\n",
       "\n",
       "[200 rows x 3 columns]"
      ]
     },
     "execution_count": 176,
     "metadata": {},
     "output_type": "execute_result"
    }
   ],
   "source": [
    "df.loc[::-1,'att':'mid']   "
   ]
  },
  {
   "cell_type": "markdown",
   "id": "23ddb3df-806c-4a8c-9ed9-d6a8ef6172dd",
   "metadata": {},
   "source": [
    "### 컨셉 1~4 정리"
   ]
  },
  {
   "cell_type": "markdown",
   "id": "19592e4b-9e75-4187-8082-b18e70ddaf85",
   "metadata": {},
   "source": [
    "||`.`| `[]` | `.iloc` | `.loc`| \n",
    "|:-:|:-:|:-:|:-:|:-:|\n",
    "|row/단일레이블|X|X|O|O|\n",
    "|col/단일레이블|O|O|O|O|\n",
    "|row/레이블리스트|X|X|O|O|\n",
    "|col/레이블리스트|X|O|O|O|\n",
    "|row/슬라이싱|X|O|O|O|\n",
    "|col/슬라이싱|X|X|O|O|"
   ]
  },
  {
   "cell_type": "markdown",
   "id": "8272193b-4389-4c9c-ad21-b3c2e72bb2a5",
   "metadata": {},
   "source": [
    "`-` col 이름을 알아야하는 부담감\n",
    "\n",
    "- `.` : 앞글자만 대충 알아도 자동완성 가능 \n",
    "\n",
    "- `[]`: 정확한 col 이름을 알아야 함\n",
    "\n",
    "- `.loc`: 보통 정확한 col 이름을 알아야 하지만 슬라이싱 이용시 양 끝의 컬럼이름만 알면 무방 \n",
    "\n",
    "- `.iloc`: 정확한 col 이름을 몰라도 번호로 인덱싱 가능"
   ]
  },
  {
   "cell_type": "markdown",
   "id": "6475504a-7389-4ac8-a63f-ba1d7ef5493f",
   "metadata": {},
   "source": [
    "`-` 자주하는 실수"
   ]
  },
  {
   "cell_type": "code",
   "execution_count": 180,
   "id": "1985e7d0-90a8-4449-b3d9-7331cf28431d",
   "metadata": {},
   "outputs": [
    {
     "data": {
      "text/plain": [
       "0      65\n",
       "1      95\n",
       "2      65\n",
       "3      55\n",
       "4      80\n",
       "       ..\n",
       "195    55\n",
       "196    65\n",
       "197    85\n",
       "198    80\n",
       "199    50\n",
       "Name: att, Length: 200, dtype: int64"
      ]
     },
     "execution_count": 180,
     "metadata": {},
     "output_type": "execute_result"
    }
   ],
   "source": [
    "# df['att'] # 가능\n",
    "# df.loc['att'] # 불가능\n",
    "df.loc[:,'att'] # 가능\n"
   ]
  },
  {
   "cell_type": "markdown",
   "id": "23d6146c-5a3f-4eda-8083-09022312a530",
   "metadata": {},
   "source": [
    "# 판다스: 인덱싱 공부 2단계: 필터링 (특정조건에 맞는 row를 선택)"
   ]
  },
  {
   "cell_type": "code",
   "execution_count": 181,
   "id": "24700540-c69c-4a0d-b118-ca546fbfd575",
   "metadata": {},
   "outputs": [
    {
     "data": {
      "text/html": [
       "<div>\n",
       "<style scoped>\n",
       "    .dataframe tbody tr th:only-of-type {\n",
       "        vertical-align: middle;\n",
       "    }\n",
       "\n",
       "    .dataframe tbody tr th {\n",
       "        vertical-align: top;\n",
       "    }\n",
       "\n",
       "    .dataframe thead th {\n",
       "        text-align: right;\n",
       "    }\n",
       "</style>\n",
       "<table border=\"1\" class=\"dataframe\">\n",
       "  <thead>\n",
       "    <tr style=\"text-align: right;\">\n",
       "      <th></th>\n",
       "      <th>att</th>\n",
       "      <th>rep</th>\n",
       "      <th>mid</th>\n",
       "      <th>fin</th>\n",
       "    </tr>\n",
       "  </thead>\n",
       "  <tbody>\n",
       "    <tr>\n",
       "      <th>0</th>\n",
       "      <td>65</td>\n",
       "      <td>45</td>\n",
       "      <td>0</td>\n",
       "      <td>10</td>\n",
       "    </tr>\n",
       "    <tr>\n",
       "      <th>1</th>\n",
       "      <td>95</td>\n",
       "      <td>30</td>\n",
       "      <td>60</td>\n",
       "      <td>10</td>\n",
       "    </tr>\n",
       "    <tr>\n",
       "      <th>2</th>\n",
       "      <td>65</td>\n",
       "      <td>85</td>\n",
       "      <td>15</td>\n",
       "      <td>20</td>\n",
       "    </tr>\n",
       "    <tr>\n",
       "      <th>3</th>\n",
       "      <td>55</td>\n",
       "      <td>35</td>\n",
       "      <td>35</td>\n",
       "      <td>5</td>\n",
       "    </tr>\n",
       "    <tr>\n",
       "      <th>4</th>\n",
       "      <td>80</td>\n",
       "      <td>60</td>\n",
       "      <td>55</td>\n",
       "      <td>70</td>\n",
       "    </tr>\n",
       "  </tbody>\n",
       "</table>\n",
       "</div>"
      ],
      "text/plain": [
       "   att  rep  mid  fin\n",
       "0   65   45    0   10\n",
       "1   95   30   60   10\n",
       "2   65   85   15   20\n",
       "3   55   35   35    5\n",
       "4   80   60   55   70"
      ]
     },
     "execution_count": 181,
     "metadata": {},
     "output_type": "execute_result"
    }
   ],
   "source": [
    "df.head()"
   ]
  },
  {
   "cell_type": "markdown",
   "id": "7f3a7f80-dfa7-461e-a426-2841fec25d01",
   "metadata": {},
   "source": [
    "### att > 90 and rep < 50"
   ]
  },
  {
   "cell_type": "markdown",
   "id": "876cbb91-bc84-4110-aa9c-3b161831a92f",
   "metadata": {},
   "source": [
    "`-` 방법1: .query() 를 이용"
   ]
  },
  {
   "cell_type": "code",
   "execution_count": 195,
   "id": "c727b471-cbd2-41c3-a552-5e0240a88975",
   "metadata": {},
   "outputs": [
    {
     "data": {
      "text/html": [
       "<div>\n",
       "<style scoped>\n",
       "    .dataframe tbody tr th:only-of-type {\n",
       "        vertical-align: middle;\n",
       "    }\n",
       "\n",
       "    .dataframe tbody tr th {\n",
       "        vertical-align: top;\n",
       "    }\n",
       "\n",
       "    .dataframe thead th {\n",
       "        text-align: right;\n",
       "    }\n",
       "</style>\n",
       "<table border=\"1\" class=\"dataframe\">\n",
       "  <thead>\n",
       "    <tr style=\"text-align: right;\">\n",
       "      <th></th>\n",
       "      <th>att</th>\n",
       "      <th>rep</th>\n",
       "      <th>mid</th>\n",
       "      <th>fin</th>\n",
       "    </tr>\n",
       "  </thead>\n",
       "  <tbody>\n",
       "    <tr>\n",
       "      <th>1</th>\n",
       "      <td>95</td>\n",
       "      <td>30</td>\n",
       "      <td>60</td>\n",
       "      <td>10</td>\n",
       "    </tr>\n",
       "    <tr>\n",
       "      <th>12</th>\n",
       "      <td>95</td>\n",
       "      <td>35</td>\n",
       "      <td>0</td>\n",
       "      <td>25</td>\n",
       "    </tr>\n",
       "    <tr>\n",
       "      <th>48</th>\n",
       "      <td>95</td>\n",
       "      <td>45</td>\n",
       "      <td>35</td>\n",
       "      <td>80</td>\n",
       "    </tr>\n",
       "    <tr>\n",
       "      <th>56</th>\n",
       "      <td>95</td>\n",
       "      <td>25</td>\n",
       "      <td>95</td>\n",
       "      <td>90</td>\n",
       "    </tr>\n",
       "    <tr>\n",
       "      <th>78</th>\n",
       "      <td>95</td>\n",
       "      <td>45</td>\n",
       "      <td>90</td>\n",
       "      <td>35</td>\n",
       "    </tr>\n",
       "    <tr>\n",
       "      <th>107</th>\n",
       "      <td>100</td>\n",
       "      <td>30</td>\n",
       "      <td>60</td>\n",
       "      <td>65</td>\n",
       "    </tr>\n",
       "    <tr>\n",
       "      <th>112</th>\n",
       "      <td>100</td>\n",
       "      <td>35</td>\n",
       "      <td>70</td>\n",
       "      <td>0</td>\n",
       "    </tr>\n",
       "    <tr>\n",
       "      <th>113</th>\n",
       "      <td>95</td>\n",
       "      <td>45</td>\n",
       "      <td>55</td>\n",
       "      <td>65</td>\n",
       "    </tr>\n",
       "    <tr>\n",
       "      <th>163</th>\n",
       "      <td>100</td>\n",
       "      <td>25</td>\n",
       "      <td>10</td>\n",
       "      <td>20</td>\n",
       "    </tr>\n",
       "    <tr>\n",
       "      <th>174</th>\n",
       "      <td>100</td>\n",
       "      <td>40</td>\n",
       "      <td>40</td>\n",
       "      <td>15</td>\n",
       "    </tr>\n",
       "    <tr>\n",
       "      <th>176</th>\n",
       "      <td>100</td>\n",
       "      <td>30</td>\n",
       "      <td>70</td>\n",
       "      <td>70</td>\n",
       "    </tr>\n",
       "    <tr>\n",
       "      <th>184</th>\n",
       "      <td>100</td>\n",
       "      <td>30</td>\n",
       "      <td>30</td>\n",
       "      <td>85</td>\n",
       "    </tr>\n",
       "    <tr>\n",
       "      <th>190</th>\n",
       "      <td>95</td>\n",
       "      <td>35</td>\n",
       "      <td>40</td>\n",
       "      <td>95</td>\n",
       "    </tr>\n",
       "    <tr>\n",
       "      <th>192</th>\n",
       "      <td>100</td>\n",
       "      <td>40</td>\n",
       "      <td>80</td>\n",
       "      <td>80</td>\n",
       "    </tr>\n",
       "  </tbody>\n",
       "</table>\n",
       "</div>"
      ],
      "text/plain": [
       "     att  rep  mid  fin\n",
       "1     95   30   60   10\n",
       "12    95   35    0   25\n",
       "48    95   45   35   80\n",
       "56    95   25   95   90\n",
       "78    95   45   90   35\n",
       "107  100   30   60   65\n",
       "112  100   35   70    0\n",
       "113   95   45   55   65\n",
       "163  100   25   10   20\n",
       "174  100   40   40   15\n",
       "176  100   30   70   70\n",
       "184  100   30   30   85\n",
       "190   95   35   40   95\n",
       "192  100   40   80   80"
      ]
     },
     "execution_count": 195,
     "metadata": {},
     "output_type": "execute_result"
    }
   ],
   "source": [
    "df.query('att>90 and rep<50')"
   ]
  },
  {
   "cell_type": "code",
   "execution_count": 196,
   "id": "69f13ff1-8be0-4ff6-b45c-65bfe829f675",
   "metadata": {},
   "outputs": [
    {
     "data": {
      "text/html": [
       "<div>\n",
       "<style scoped>\n",
       "    .dataframe tbody tr th:only-of-type {\n",
       "        vertical-align: middle;\n",
       "    }\n",
       "\n",
       "    .dataframe tbody tr th {\n",
       "        vertical-align: top;\n",
       "    }\n",
       "\n",
       "    .dataframe thead th {\n",
       "        text-align: right;\n",
       "    }\n",
       "</style>\n",
       "<table border=\"1\" class=\"dataframe\">\n",
       "  <thead>\n",
       "    <tr style=\"text-align: right;\">\n",
       "      <th></th>\n",
       "      <th>att</th>\n",
       "      <th>rep</th>\n",
       "      <th>mid</th>\n",
       "      <th>fin</th>\n",
       "    </tr>\n",
       "  </thead>\n",
       "  <tbody>\n",
       "    <tr>\n",
       "      <th>1</th>\n",
       "      <td>95</td>\n",
       "      <td>30</td>\n",
       "      <td>60</td>\n",
       "      <td>10</td>\n",
       "    </tr>\n",
       "    <tr>\n",
       "      <th>12</th>\n",
       "      <td>95</td>\n",
       "      <td>35</td>\n",
       "      <td>0</td>\n",
       "      <td>25</td>\n",
       "    </tr>\n",
       "    <tr>\n",
       "      <th>48</th>\n",
       "      <td>95</td>\n",
       "      <td>45</td>\n",
       "      <td>35</td>\n",
       "      <td>80</td>\n",
       "    </tr>\n",
       "    <tr>\n",
       "      <th>56</th>\n",
       "      <td>95</td>\n",
       "      <td>25</td>\n",
       "      <td>95</td>\n",
       "      <td>90</td>\n",
       "    </tr>\n",
       "    <tr>\n",
       "      <th>78</th>\n",
       "      <td>95</td>\n",
       "      <td>45</td>\n",
       "      <td>90</td>\n",
       "      <td>35</td>\n",
       "    </tr>\n",
       "    <tr>\n",
       "      <th>107</th>\n",
       "      <td>100</td>\n",
       "      <td>30</td>\n",
       "      <td>60</td>\n",
       "      <td>65</td>\n",
       "    </tr>\n",
       "    <tr>\n",
       "      <th>112</th>\n",
       "      <td>100</td>\n",
       "      <td>35</td>\n",
       "      <td>70</td>\n",
       "      <td>0</td>\n",
       "    </tr>\n",
       "    <tr>\n",
       "      <th>113</th>\n",
       "      <td>95</td>\n",
       "      <td>45</td>\n",
       "      <td>55</td>\n",
       "      <td>65</td>\n",
       "    </tr>\n",
       "    <tr>\n",
       "      <th>163</th>\n",
       "      <td>100</td>\n",
       "      <td>25</td>\n",
       "      <td>10</td>\n",
       "      <td>20</td>\n",
       "    </tr>\n",
       "    <tr>\n",
       "      <th>174</th>\n",
       "      <td>100</td>\n",
       "      <td>40</td>\n",
       "      <td>40</td>\n",
       "      <td>15</td>\n",
       "    </tr>\n",
       "    <tr>\n",
       "      <th>176</th>\n",
       "      <td>100</td>\n",
       "      <td>30</td>\n",
       "      <td>70</td>\n",
       "      <td>70</td>\n",
       "    </tr>\n",
       "    <tr>\n",
       "      <th>184</th>\n",
       "      <td>100</td>\n",
       "      <td>30</td>\n",
       "      <td>30</td>\n",
       "      <td>85</td>\n",
       "    </tr>\n",
       "    <tr>\n",
       "      <th>190</th>\n",
       "      <td>95</td>\n",
       "      <td>35</td>\n",
       "      <td>40</td>\n",
       "      <td>95</td>\n",
       "    </tr>\n",
       "    <tr>\n",
       "      <th>192</th>\n",
       "      <td>100</td>\n",
       "      <td>40</td>\n",
       "      <td>80</td>\n",
       "      <td>80</td>\n",
       "    </tr>\n",
       "  </tbody>\n",
       "</table>\n",
       "</div>"
      ],
      "text/plain": [
       "     att  rep  mid  fin\n",
       "1     95   30   60   10\n",
       "12    95   35    0   25\n",
       "48    95   45   35   80\n",
       "56    95   25   95   90\n",
       "78    95   45   90   35\n",
       "107  100   30   60   65\n",
       "112  100   35   70    0\n",
       "113   95   45   55   65\n",
       "163  100   25   10   20\n",
       "174  100   40   40   15\n",
       "176  100   30   70   70\n",
       "184  100   30   30   85\n",
       "190   95   35   40   95\n",
       "192  100   40   80   80"
      ]
     },
     "execution_count": 196,
     "metadata": {},
     "output_type": "execute_result"
    }
   ],
   "source": [
    "df.query('(att>90)&(rep<50)')"
   ]
  },
  {
   "cell_type": "code",
   "execution_count": 197,
   "id": "c7abdd91-5918-4e59-82ff-f7ad7eead986",
   "metadata": {},
   "outputs": [
    {
     "data": {
      "text/html": [
       "<div>\n",
       "<style scoped>\n",
       "    .dataframe tbody tr th:only-of-type {\n",
       "        vertical-align: middle;\n",
       "    }\n",
       "\n",
       "    .dataframe tbody tr th {\n",
       "        vertical-align: top;\n",
       "    }\n",
       "\n",
       "    .dataframe thead th {\n",
       "        text-align: right;\n",
       "    }\n",
       "</style>\n",
       "<table border=\"1\" class=\"dataframe\">\n",
       "  <thead>\n",
       "    <tr style=\"text-align: right;\">\n",
       "      <th></th>\n",
       "      <th>att</th>\n",
       "      <th>rep</th>\n",
       "      <th>mid</th>\n",
       "      <th>fin</th>\n",
       "    </tr>\n",
       "  </thead>\n",
       "  <tbody>\n",
       "    <tr>\n",
       "      <th>1</th>\n",
       "      <td>95</td>\n",
       "      <td>30</td>\n",
       "      <td>60</td>\n",
       "      <td>10</td>\n",
       "    </tr>\n",
       "    <tr>\n",
       "      <th>12</th>\n",
       "      <td>95</td>\n",
       "      <td>35</td>\n",
       "      <td>0</td>\n",
       "      <td>25</td>\n",
       "    </tr>\n",
       "    <tr>\n",
       "      <th>48</th>\n",
       "      <td>95</td>\n",
       "      <td>45</td>\n",
       "      <td>35</td>\n",
       "      <td>80</td>\n",
       "    </tr>\n",
       "    <tr>\n",
       "      <th>56</th>\n",
       "      <td>95</td>\n",
       "      <td>25</td>\n",
       "      <td>95</td>\n",
       "      <td>90</td>\n",
       "    </tr>\n",
       "    <tr>\n",
       "      <th>78</th>\n",
       "      <td>95</td>\n",
       "      <td>45</td>\n",
       "      <td>90</td>\n",
       "      <td>35</td>\n",
       "    </tr>\n",
       "    <tr>\n",
       "      <th>107</th>\n",
       "      <td>100</td>\n",
       "      <td>30</td>\n",
       "      <td>60</td>\n",
       "      <td>65</td>\n",
       "    </tr>\n",
       "    <tr>\n",
       "      <th>112</th>\n",
       "      <td>100</td>\n",
       "      <td>35</td>\n",
       "      <td>70</td>\n",
       "      <td>0</td>\n",
       "    </tr>\n",
       "    <tr>\n",
       "      <th>113</th>\n",
       "      <td>95</td>\n",
       "      <td>45</td>\n",
       "      <td>55</td>\n",
       "      <td>65</td>\n",
       "    </tr>\n",
       "    <tr>\n",
       "      <th>163</th>\n",
       "      <td>100</td>\n",
       "      <td>25</td>\n",
       "      <td>10</td>\n",
       "      <td>20</td>\n",
       "    </tr>\n",
       "    <tr>\n",
       "      <th>174</th>\n",
       "      <td>100</td>\n",
       "      <td>40</td>\n",
       "      <td>40</td>\n",
       "      <td>15</td>\n",
       "    </tr>\n",
       "    <tr>\n",
       "      <th>176</th>\n",
       "      <td>100</td>\n",
       "      <td>30</td>\n",
       "      <td>70</td>\n",
       "      <td>70</td>\n",
       "    </tr>\n",
       "    <tr>\n",
       "      <th>184</th>\n",
       "      <td>100</td>\n",
       "      <td>30</td>\n",
       "      <td>30</td>\n",
       "      <td>85</td>\n",
       "    </tr>\n",
       "    <tr>\n",
       "      <th>190</th>\n",
       "      <td>95</td>\n",
       "      <td>35</td>\n",
       "      <td>40</td>\n",
       "      <td>95</td>\n",
       "    </tr>\n",
       "    <tr>\n",
       "      <th>192</th>\n",
       "      <td>100</td>\n",
       "      <td>40</td>\n",
       "      <td>80</td>\n",
       "      <td>80</td>\n",
       "    </tr>\n",
       "  </tbody>\n",
       "</table>\n",
       "</div>"
      ],
      "text/plain": [
       "     att  rep  mid  fin\n",
       "1     95   30   60   10\n",
       "12    95   35    0   25\n",
       "48    95   45   35   80\n",
       "56    95   25   95   90\n",
       "78    95   45   90   35\n",
       "107  100   30   60   65\n",
       "112  100   35   70    0\n",
       "113   95   45   55   65\n",
       "163  100   25   10   20\n",
       "174  100   40   40   15\n",
       "176  100   30   70   70\n",
       "184  100   30   30   85\n",
       "190   95   35   40   95\n",
       "192  100   40   80   80"
      ]
     },
     "execution_count": 197,
     "metadata": {},
     "output_type": "execute_result"
    }
   ],
   "source": [
    "df.query('att>90 & rep<50') "
   ]
  },
  {
   "cell_type": "code",
   "execution_count": null,
   "id": "877001fd-ad86-42c3-95aa-68a992315bb9",
   "metadata": {},
   "outputs": [],
   "source": []
  },
  {
   "cell_type": "markdown",
   "id": "6bef469b-7dd8-43e1-a7f1-18007746f4e9",
   "metadata": {},
   "source": [
    "`-` 방법2:[], .iloc"
   ]
  },
  {
   "cell_type": "code",
   "execution_count": 189,
   "id": "522e7f03-c432-45d1-970b-dec66bdaf7ea",
   "metadata": {},
   "outputs": [
    {
     "data": {
      "text/html": [
       "<div>\n",
       "<style scoped>\n",
       "    .dataframe tbody tr th:only-of-type {\n",
       "        vertical-align: middle;\n",
       "    }\n",
       "\n",
       "    .dataframe tbody tr th {\n",
       "        vertical-align: top;\n",
       "    }\n",
       "\n",
       "    .dataframe thead th {\n",
       "        text-align: right;\n",
       "    }\n",
       "</style>\n",
       "<table border=\"1\" class=\"dataframe\">\n",
       "  <thead>\n",
       "    <tr style=\"text-align: right;\">\n",
       "      <th></th>\n",
       "      <th>att</th>\n",
       "      <th>rep</th>\n",
       "      <th>mid</th>\n",
       "      <th>fin</th>\n",
       "    </tr>\n",
       "  </thead>\n",
       "  <tbody>\n",
       "    <tr>\n",
       "      <th>1</th>\n",
       "      <td>95</td>\n",
       "      <td>30</td>\n",
       "      <td>60</td>\n",
       "      <td>10</td>\n",
       "    </tr>\n",
       "    <tr>\n",
       "      <th>12</th>\n",
       "      <td>95</td>\n",
       "      <td>35</td>\n",
       "      <td>0</td>\n",
       "      <td>25</td>\n",
       "    </tr>\n",
       "    <tr>\n",
       "      <th>48</th>\n",
       "      <td>95</td>\n",
       "      <td>45</td>\n",
       "      <td>35</td>\n",
       "      <td>80</td>\n",
       "    </tr>\n",
       "    <tr>\n",
       "      <th>56</th>\n",
       "      <td>95</td>\n",
       "      <td>25</td>\n",
       "      <td>95</td>\n",
       "      <td>90</td>\n",
       "    </tr>\n",
       "    <tr>\n",
       "      <th>78</th>\n",
       "      <td>95</td>\n",
       "      <td>45</td>\n",
       "      <td>90</td>\n",
       "      <td>35</td>\n",
       "    </tr>\n",
       "    <tr>\n",
       "      <th>107</th>\n",
       "      <td>100</td>\n",
       "      <td>30</td>\n",
       "      <td>60</td>\n",
       "      <td>65</td>\n",
       "    </tr>\n",
       "    <tr>\n",
       "      <th>112</th>\n",
       "      <td>100</td>\n",
       "      <td>35</td>\n",
       "      <td>70</td>\n",
       "      <td>0</td>\n",
       "    </tr>\n",
       "    <tr>\n",
       "      <th>113</th>\n",
       "      <td>95</td>\n",
       "      <td>45</td>\n",
       "      <td>55</td>\n",
       "      <td>65</td>\n",
       "    </tr>\n",
       "    <tr>\n",
       "      <th>163</th>\n",
       "      <td>100</td>\n",
       "      <td>25</td>\n",
       "      <td>10</td>\n",
       "      <td>20</td>\n",
       "    </tr>\n",
       "    <tr>\n",
       "      <th>174</th>\n",
       "      <td>100</td>\n",
       "      <td>40</td>\n",
       "      <td>40</td>\n",
       "      <td>15</td>\n",
       "    </tr>\n",
       "    <tr>\n",
       "      <th>176</th>\n",
       "      <td>100</td>\n",
       "      <td>30</td>\n",
       "      <td>70</td>\n",
       "      <td>70</td>\n",
       "    </tr>\n",
       "    <tr>\n",
       "      <th>184</th>\n",
       "      <td>100</td>\n",
       "      <td>30</td>\n",
       "      <td>30</td>\n",
       "      <td>85</td>\n",
       "    </tr>\n",
       "    <tr>\n",
       "      <th>190</th>\n",
       "      <td>95</td>\n",
       "      <td>35</td>\n",
       "      <td>40</td>\n",
       "      <td>95</td>\n",
       "    </tr>\n",
       "    <tr>\n",
       "      <th>192</th>\n",
       "      <td>100</td>\n",
       "      <td>40</td>\n",
       "      <td>80</td>\n",
       "      <td>80</td>\n",
       "    </tr>\n",
       "  </tbody>\n",
       "</table>\n",
       "</div>"
      ],
      "text/plain": [
       "     att  rep  mid  fin\n",
       "1     95   30   60   10\n",
       "12    95   35    0   25\n",
       "48    95   45   35   80\n",
       "56    95   25   95   90\n",
       "78    95   45   90   35\n",
       "107  100   30   60   65\n",
       "112  100   35   70    0\n",
       "113   95   45   55   65\n",
       "163  100   25   10   20\n",
       "174  100   40   40   15\n",
       "176  100   30   70   70\n",
       "184  100   30   30   85\n",
       "190   95   35   40   95\n",
       "192  100   40   80   80"
      ]
     },
     "execution_count": 189,
     "metadata": {},
     "output_type": "execute_result"
    }
   ],
   "source": [
    "df[(df.att > 90) & (df.rep < 50)]\n"
   ]
  },
  {
   "cell_type": "code",
   "execution_count": 190,
   "id": "b8923cca-a106-4c13-b36a-d0bdd9c8ea4c",
   "metadata": {},
   "outputs": [
    {
     "ename": "NotImplementedError",
     "evalue": "iLocation based boolean indexing on an integer type is not available",
     "output_type": "error",
     "traceback": [
      "\u001b[0;31m---------------------------------------------------------------------------\u001b[0m",
      "\u001b[0;31mNotImplementedError\u001b[0m                       Traceback (most recent call last)",
      "\u001b[0;32m<ipython-input-190-1bd69d83d05c>\u001b[0m in \u001b[0;36m<module>\u001b[0;34m\u001b[0m\n\u001b[0;32m----> 1\u001b[0;31m \u001b[0mdf\u001b[0m\u001b[0;34m.\u001b[0m\u001b[0miloc\u001b[0m\u001b[0;34m[\u001b[0m\u001b[0;34m(\u001b[0m\u001b[0mdf\u001b[0m\u001b[0;34m.\u001b[0m\u001b[0matt\u001b[0m \u001b[0;34m>\u001b[0m \u001b[0;36m90\u001b[0m\u001b[0;34m)\u001b[0m \u001b[0;34m&\u001b[0m \u001b[0;34m(\u001b[0m\u001b[0mdf\u001b[0m\u001b[0;34m.\u001b[0m\u001b[0mrep\u001b[0m \u001b[0;34m<\u001b[0m \u001b[0;36m50\u001b[0m\u001b[0;34m)\u001b[0m\u001b[0;34m]\u001b[0m \u001b[0;31m# 오류남.. ! 리스터ㅡ로 바꿔주기\u001b[0m\u001b[0;34m\u001b[0m\u001b[0;34m\u001b[0m\u001b[0m\n\u001b[0m",
      "\u001b[0;32m~/anaconda3/envs/py37/lib/python3.7/site-packages/pandas/core/indexing.py\u001b[0m in \u001b[0;36m__getitem__\u001b[0;34m(self, key)\u001b[0m\n\u001b[1;32m    929\u001b[0m \u001b[0;34m\u001b[0m\u001b[0m\n\u001b[1;32m    930\u001b[0m             \u001b[0mmaybe_callable\u001b[0m \u001b[0;34m=\u001b[0m \u001b[0mcom\u001b[0m\u001b[0;34m.\u001b[0m\u001b[0mapply_if_callable\u001b[0m\u001b[0;34m(\u001b[0m\u001b[0mkey\u001b[0m\u001b[0;34m,\u001b[0m \u001b[0mself\u001b[0m\u001b[0;34m.\u001b[0m\u001b[0mobj\u001b[0m\u001b[0;34m)\u001b[0m\u001b[0;34m\u001b[0m\u001b[0;34m\u001b[0m\u001b[0m\n\u001b[0;32m--> 931\u001b[0;31m             \u001b[0;32mreturn\u001b[0m \u001b[0mself\u001b[0m\u001b[0;34m.\u001b[0m\u001b[0m_getitem_axis\u001b[0m\u001b[0;34m(\u001b[0m\u001b[0mmaybe_callable\u001b[0m\u001b[0;34m,\u001b[0m \u001b[0maxis\u001b[0m\u001b[0;34m=\u001b[0m\u001b[0maxis\u001b[0m\u001b[0;34m)\u001b[0m\u001b[0;34m\u001b[0m\u001b[0;34m\u001b[0m\u001b[0m\n\u001b[0m\u001b[1;32m    932\u001b[0m \u001b[0;34m\u001b[0m\u001b[0m\n\u001b[1;32m    933\u001b[0m     \u001b[0;32mdef\u001b[0m \u001b[0m_is_scalar_access\u001b[0m\u001b[0;34m(\u001b[0m\u001b[0mself\u001b[0m\u001b[0;34m,\u001b[0m \u001b[0mkey\u001b[0m\u001b[0;34m:\u001b[0m \u001b[0mtuple\u001b[0m\u001b[0;34m)\u001b[0m\u001b[0;34m:\u001b[0m\u001b[0;34m\u001b[0m\u001b[0;34m\u001b[0m\u001b[0m\n",
      "\u001b[0;32m~/anaconda3/envs/py37/lib/python3.7/site-packages/pandas/core/indexing.py\u001b[0m in \u001b[0;36m_getitem_axis\u001b[0;34m(self, key, axis)\u001b[0m\n\u001b[1;32m   1550\u001b[0m \u001b[0;34m\u001b[0m\u001b[0m\n\u001b[1;32m   1551\u001b[0m         \u001b[0;32mif\u001b[0m \u001b[0mcom\u001b[0m\u001b[0;34m.\u001b[0m\u001b[0mis_bool_indexer\u001b[0m\u001b[0;34m(\u001b[0m\u001b[0mkey\u001b[0m\u001b[0;34m)\u001b[0m\u001b[0;34m:\u001b[0m\u001b[0;34m\u001b[0m\u001b[0;34m\u001b[0m\u001b[0m\n\u001b[0;32m-> 1552\u001b[0;31m             \u001b[0mself\u001b[0m\u001b[0;34m.\u001b[0m\u001b[0m_validate_key\u001b[0m\u001b[0;34m(\u001b[0m\u001b[0mkey\u001b[0m\u001b[0;34m,\u001b[0m \u001b[0maxis\u001b[0m\u001b[0;34m)\u001b[0m\u001b[0;34m\u001b[0m\u001b[0;34m\u001b[0m\u001b[0m\n\u001b[0m\u001b[1;32m   1553\u001b[0m             \u001b[0;32mreturn\u001b[0m \u001b[0mself\u001b[0m\u001b[0;34m.\u001b[0m\u001b[0m_getbool_axis\u001b[0m\u001b[0;34m(\u001b[0m\u001b[0mkey\u001b[0m\u001b[0;34m,\u001b[0m \u001b[0maxis\u001b[0m\u001b[0;34m=\u001b[0m\u001b[0maxis\u001b[0m\u001b[0;34m)\u001b[0m\u001b[0;34m\u001b[0m\u001b[0;34m\u001b[0m\u001b[0m\n\u001b[1;32m   1554\u001b[0m \u001b[0;34m\u001b[0m\u001b[0m\n",
      "\u001b[0;32m~/anaconda3/envs/py37/lib/python3.7/site-packages/pandas/core/indexing.py\u001b[0m in \u001b[0;36m_validate_key\u001b[0;34m(self, key, axis)\u001b[0m\n\u001b[1;32m   1394\u001b[0m                 \u001b[0;32mif\u001b[0m \u001b[0mkey\u001b[0m\u001b[0;34m.\u001b[0m\u001b[0mindex\u001b[0m\u001b[0;34m.\u001b[0m\u001b[0minferred_type\u001b[0m \u001b[0;34m==\u001b[0m \u001b[0;34m\"integer\"\u001b[0m\u001b[0;34m:\u001b[0m\u001b[0;34m\u001b[0m\u001b[0;34m\u001b[0m\u001b[0m\n\u001b[1;32m   1395\u001b[0m                     raise NotImplementedError(\n\u001b[0;32m-> 1396\u001b[0;31m                         \u001b[0;34m\"iLocation based boolean \"\u001b[0m\u001b[0;34m\u001b[0m\u001b[0;34m\u001b[0m\u001b[0m\n\u001b[0m\u001b[1;32m   1397\u001b[0m                         \u001b[0;34m\"indexing on an integer type \"\u001b[0m\u001b[0;34m\u001b[0m\u001b[0;34m\u001b[0m\u001b[0m\n\u001b[1;32m   1398\u001b[0m                         \u001b[0;34m\"is not available\"\u001b[0m\u001b[0;34m\u001b[0m\u001b[0;34m\u001b[0m\u001b[0m\n",
      "\u001b[0;31mNotImplementedError\u001b[0m: iLocation based boolean indexing on an integer type is not available"
     ]
    }
   ],
   "source": [
    "df.iloc[(df.att > 90) & (df.rep < 50)] # 오류남.. ! 리스터ㅡ로 바꿔주기"
   ]
  },
  {
   "cell_type": "code",
   "execution_count": 193,
   "id": "d56819de-75d0-489c-b521-5a211c3175de",
   "metadata": {},
   "outputs": [
    {
     "data": {
      "text/html": [
       "<div>\n",
       "<style scoped>\n",
       "    .dataframe tbody tr th:only-of-type {\n",
       "        vertical-align: middle;\n",
       "    }\n",
       "\n",
       "    .dataframe tbody tr th {\n",
       "        vertical-align: top;\n",
       "    }\n",
       "\n",
       "    .dataframe thead th {\n",
       "        text-align: right;\n",
       "    }\n",
       "</style>\n",
       "<table border=\"1\" class=\"dataframe\">\n",
       "  <thead>\n",
       "    <tr style=\"text-align: right;\">\n",
       "      <th></th>\n",
       "      <th>att</th>\n",
       "      <th>rep</th>\n",
       "      <th>mid</th>\n",
       "      <th>fin</th>\n",
       "    </tr>\n",
       "  </thead>\n",
       "  <tbody>\n",
       "    <tr>\n",
       "      <th>1</th>\n",
       "      <td>95</td>\n",
       "      <td>30</td>\n",
       "      <td>60</td>\n",
       "      <td>10</td>\n",
       "    </tr>\n",
       "    <tr>\n",
       "      <th>12</th>\n",
       "      <td>95</td>\n",
       "      <td>35</td>\n",
       "      <td>0</td>\n",
       "      <td>25</td>\n",
       "    </tr>\n",
       "    <tr>\n",
       "      <th>48</th>\n",
       "      <td>95</td>\n",
       "      <td>45</td>\n",
       "      <td>35</td>\n",
       "      <td>80</td>\n",
       "    </tr>\n",
       "    <tr>\n",
       "      <th>56</th>\n",
       "      <td>95</td>\n",
       "      <td>25</td>\n",
       "      <td>95</td>\n",
       "      <td>90</td>\n",
       "    </tr>\n",
       "    <tr>\n",
       "      <th>78</th>\n",
       "      <td>95</td>\n",
       "      <td>45</td>\n",
       "      <td>90</td>\n",
       "      <td>35</td>\n",
       "    </tr>\n",
       "    <tr>\n",
       "      <th>107</th>\n",
       "      <td>100</td>\n",
       "      <td>30</td>\n",
       "      <td>60</td>\n",
       "      <td>65</td>\n",
       "    </tr>\n",
       "    <tr>\n",
       "      <th>112</th>\n",
       "      <td>100</td>\n",
       "      <td>35</td>\n",
       "      <td>70</td>\n",
       "      <td>0</td>\n",
       "    </tr>\n",
       "    <tr>\n",
       "      <th>113</th>\n",
       "      <td>95</td>\n",
       "      <td>45</td>\n",
       "      <td>55</td>\n",
       "      <td>65</td>\n",
       "    </tr>\n",
       "    <tr>\n",
       "      <th>163</th>\n",
       "      <td>100</td>\n",
       "      <td>25</td>\n",
       "      <td>10</td>\n",
       "      <td>20</td>\n",
       "    </tr>\n",
       "    <tr>\n",
       "      <th>174</th>\n",
       "      <td>100</td>\n",
       "      <td>40</td>\n",
       "      <td>40</td>\n",
       "      <td>15</td>\n",
       "    </tr>\n",
       "    <tr>\n",
       "      <th>176</th>\n",
       "      <td>100</td>\n",
       "      <td>30</td>\n",
       "      <td>70</td>\n",
       "      <td>70</td>\n",
       "    </tr>\n",
       "    <tr>\n",
       "      <th>184</th>\n",
       "      <td>100</td>\n",
       "      <td>30</td>\n",
       "      <td>30</td>\n",
       "      <td>85</td>\n",
       "    </tr>\n",
       "    <tr>\n",
       "      <th>190</th>\n",
       "      <td>95</td>\n",
       "      <td>35</td>\n",
       "      <td>40</td>\n",
       "      <td>95</td>\n",
       "    </tr>\n",
       "    <tr>\n",
       "      <th>192</th>\n",
       "      <td>100</td>\n",
       "      <td>40</td>\n",
       "      <td>80</td>\n",
       "      <td>80</td>\n",
       "    </tr>\n",
       "  </tbody>\n",
       "</table>\n",
       "</div>"
      ],
      "text/plain": [
       "     att  rep  mid  fin\n",
       "1     95   30   60   10\n",
       "12    95   35    0   25\n",
       "48    95   45   35   80\n",
       "56    95   25   95   90\n",
       "78    95   45   90   35\n",
       "107  100   30   60   65\n",
       "112  100   35   70    0\n",
       "113   95   45   55   65\n",
       "163  100   25   10   20\n",
       "174  100   40   40   15\n",
       "176  100   30   70   70\n",
       "184  100   30   30   85\n",
       "190   95   35   40   95\n",
       "192  100   40   80   80"
      ]
     },
     "execution_count": 193,
     "metadata": {},
     "output_type": "execute_result"
    }
   ],
   "source": [
    "df.iloc[list((df.att > 90) & (df.rep < 50))]"
   ]
  },
  {
   "cell_type": "markdown",
   "id": "34fd5dc4-2c11-4aea-b9ee-9705f67aa87a",
   "metadata": {},
   "source": [
    "`-` 방법3: [], .iloc, .loc // map, lambda"
   ]
  },
  {
   "cell_type": "code",
   "execution_count": 198,
   "id": "a0e8551c-a3d9-4c1a-a513-811f5210f3a1",
   "metadata": {},
   "outputs": [
    {
     "data": {
      "text/html": [
       "<div>\n",
       "<style scoped>\n",
       "    .dataframe tbody tr th:only-of-type {\n",
       "        vertical-align: middle;\n",
       "    }\n",
       "\n",
       "    .dataframe tbody tr th {\n",
       "        vertical-align: top;\n",
       "    }\n",
       "\n",
       "    .dataframe thead th {\n",
       "        text-align: right;\n",
       "    }\n",
       "</style>\n",
       "<table border=\"1\" class=\"dataframe\">\n",
       "  <thead>\n",
       "    <tr style=\"text-align: right;\">\n",
       "      <th></th>\n",
       "      <th>att</th>\n",
       "      <th>rep</th>\n",
       "      <th>mid</th>\n",
       "      <th>fin</th>\n",
       "    </tr>\n",
       "  </thead>\n",
       "  <tbody>\n",
       "    <tr>\n",
       "      <th>1</th>\n",
       "      <td>95</td>\n",
       "      <td>30</td>\n",
       "      <td>60</td>\n",
       "      <td>10</td>\n",
       "    </tr>\n",
       "    <tr>\n",
       "      <th>12</th>\n",
       "      <td>95</td>\n",
       "      <td>35</td>\n",
       "      <td>0</td>\n",
       "      <td>25</td>\n",
       "    </tr>\n",
       "    <tr>\n",
       "      <th>48</th>\n",
       "      <td>95</td>\n",
       "      <td>45</td>\n",
       "      <td>35</td>\n",
       "      <td>80</td>\n",
       "    </tr>\n",
       "    <tr>\n",
       "      <th>56</th>\n",
       "      <td>95</td>\n",
       "      <td>25</td>\n",
       "      <td>95</td>\n",
       "      <td>90</td>\n",
       "    </tr>\n",
       "    <tr>\n",
       "      <th>78</th>\n",
       "      <td>95</td>\n",
       "      <td>45</td>\n",
       "      <td>90</td>\n",
       "      <td>35</td>\n",
       "    </tr>\n",
       "    <tr>\n",
       "      <th>107</th>\n",
       "      <td>100</td>\n",
       "      <td>30</td>\n",
       "      <td>60</td>\n",
       "      <td>65</td>\n",
       "    </tr>\n",
       "    <tr>\n",
       "      <th>112</th>\n",
       "      <td>100</td>\n",
       "      <td>35</td>\n",
       "      <td>70</td>\n",
       "      <td>0</td>\n",
       "    </tr>\n",
       "    <tr>\n",
       "      <th>113</th>\n",
       "      <td>95</td>\n",
       "      <td>45</td>\n",
       "      <td>55</td>\n",
       "      <td>65</td>\n",
       "    </tr>\n",
       "    <tr>\n",
       "      <th>163</th>\n",
       "      <td>100</td>\n",
       "      <td>25</td>\n",
       "      <td>10</td>\n",
       "      <td>20</td>\n",
       "    </tr>\n",
       "    <tr>\n",
       "      <th>174</th>\n",
       "      <td>100</td>\n",
       "      <td>40</td>\n",
       "      <td>40</td>\n",
       "      <td>15</td>\n",
       "    </tr>\n",
       "    <tr>\n",
       "      <th>176</th>\n",
       "      <td>100</td>\n",
       "      <td>30</td>\n",
       "      <td>70</td>\n",
       "      <td>70</td>\n",
       "    </tr>\n",
       "    <tr>\n",
       "      <th>184</th>\n",
       "      <td>100</td>\n",
       "      <td>30</td>\n",
       "      <td>30</td>\n",
       "      <td>85</td>\n",
       "    </tr>\n",
       "    <tr>\n",
       "      <th>190</th>\n",
       "      <td>95</td>\n",
       "      <td>35</td>\n",
       "      <td>40</td>\n",
       "      <td>95</td>\n",
       "    </tr>\n",
       "    <tr>\n",
       "      <th>192</th>\n",
       "      <td>100</td>\n",
       "      <td>40</td>\n",
       "      <td>80</td>\n",
       "      <td>80</td>\n",
       "    </tr>\n",
       "  </tbody>\n",
       "</table>\n",
       "</div>"
      ],
      "text/plain": [
       "     att  rep  mid  fin\n",
       "1     95   30   60   10\n",
       "12    95   35    0   25\n",
       "48    95   45   35   80\n",
       "56    95   25   95   90\n",
       "78    95   45   90   35\n",
       "107  100   30   60   65\n",
       "112  100   35   70    0\n",
       "113   95   45   55   65\n",
       "163  100   25   10   20\n",
       "174  100   40   40   15\n",
       "176  100   30   70   70\n",
       "184  100   30   30   85\n",
       "190   95   35   40   95\n",
       "192  100   40   80   80"
      ]
     },
     "execution_count": 198,
     "metadata": {},
     "output_type": "execute_result"
    }
   ],
   "source": [
    "df[list(map(lambda x,y: (x>90)&(y<50), df.att, df.rep))]\n",
    "# df[map(lambda x,y: (x>90)&(y<50), df.att, df.rep)] # 이것은 불가능"
   ]
  },
  {
   "cell_type": "code",
   "execution_count": 199,
   "id": "5216959c-a665-4fcb-8242-21ebd527819f",
   "metadata": {},
   "outputs": [
    {
     "data": {
      "text/html": [
       "<div>\n",
       "<style scoped>\n",
       "    .dataframe tbody tr th:only-of-type {\n",
       "        vertical-align: middle;\n",
       "    }\n",
       "\n",
       "    .dataframe tbody tr th {\n",
       "        vertical-align: top;\n",
       "    }\n",
       "\n",
       "    .dataframe thead th {\n",
       "        text-align: right;\n",
       "    }\n",
       "</style>\n",
       "<table border=\"1\" class=\"dataframe\">\n",
       "  <thead>\n",
       "    <tr style=\"text-align: right;\">\n",
       "      <th></th>\n",
       "      <th>att</th>\n",
       "      <th>rep</th>\n",
       "      <th>mid</th>\n",
       "      <th>fin</th>\n",
       "    </tr>\n",
       "  </thead>\n",
       "  <tbody>\n",
       "    <tr>\n",
       "      <th>1</th>\n",
       "      <td>95</td>\n",
       "      <td>30</td>\n",
       "      <td>60</td>\n",
       "      <td>10</td>\n",
       "    </tr>\n",
       "    <tr>\n",
       "      <th>12</th>\n",
       "      <td>95</td>\n",
       "      <td>35</td>\n",
       "      <td>0</td>\n",
       "      <td>25</td>\n",
       "    </tr>\n",
       "    <tr>\n",
       "      <th>48</th>\n",
       "      <td>95</td>\n",
       "      <td>45</td>\n",
       "      <td>35</td>\n",
       "      <td>80</td>\n",
       "    </tr>\n",
       "    <tr>\n",
       "      <th>56</th>\n",
       "      <td>95</td>\n",
       "      <td>25</td>\n",
       "      <td>95</td>\n",
       "      <td>90</td>\n",
       "    </tr>\n",
       "    <tr>\n",
       "      <th>78</th>\n",
       "      <td>95</td>\n",
       "      <td>45</td>\n",
       "      <td>90</td>\n",
       "      <td>35</td>\n",
       "    </tr>\n",
       "    <tr>\n",
       "      <th>107</th>\n",
       "      <td>100</td>\n",
       "      <td>30</td>\n",
       "      <td>60</td>\n",
       "      <td>65</td>\n",
       "    </tr>\n",
       "    <tr>\n",
       "      <th>112</th>\n",
       "      <td>100</td>\n",
       "      <td>35</td>\n",
       "      <td>70</td>\n",
       "      <td>0</td>\n",
       "    </tr>\n",
       "    <tr>\n",
       "      <th>113</th>\n",
       "      <td>95</td>\n",
       "      <td>45</td>\n",
       "      <td>55</td>\n",
       "      <td>65</td>\n",
       "    </tr>\n",
       "    <tr>\n",
       "      <th>163</th>\n",
       "      <td>100</td>\n",
       "      <td>25</td>\n",
       "      <td>10</td>\n",
       "      <td>20</td>\n",
       "    </tr>\n",
       "    <tr>\n",
       "      <th>174</th>\n",
       "      <td>100</td>\n",
       "      <td>40</td>\n",
       "      <td>40</td>\n",
       "      <td>15</td>\n",
       "    </tr>\n",
       "    <tr>\n",
       "      <th>176</th>\n",
       "      <td>100</td>\n",
       "      <td>30</td>\n",
       "      <td>70</td>\n",
       "      <td>70</td>\n",
       "    </tr>\n",
       "    <tr>\n",
       "      <th>184</th>\n",
       "      <td>100</td>\n",
       "      <td>30</td>\n",
       "      <td>30</td>\n",
       "      <td>85</td>\n",
       "    </tr>\n",
       "    <tr>\n",
       "      <th>190</th>\n",
       "      <td>95</td>\n",
       "      <td>35</td>\n",
       "      <td>40</td>\n",
       "      <td>95</td>\n",
       "    </tr>\n",
       "    <tr>\n",
       "      <th>192</th>\n",
       "      <td>100</td>\n",
       "      <td>40</td>\n",
       "      <td>80</td>\n",
       "      <td>80</td>\n",
       "    </tr>\n",
       "  </tbody>\n",
       "</table>\n",
       "</div>"
      ],
      "text/plain": [
       "     att  rep  mid  fin\n",
       "1     95   30   60   10\n",
       "12    95   35    0   25\n",
       "48    95   45   35   80\n",
       "56    95   25   95   90\n",
       "78    95   45   90   35\n",
       "107  100   30   60   65\n",
       "112  100   35   70    0\n",
       "113   95   45   55   65\n",
       "163  100   25   10   20\n",
       "174  100   40   40   15\n",
       "176  100   30   70   70\n",
       "184  100   30   30   85\n",
       "190   95   35   40   95\n",
       "192  100   40   80   80"
      ]
     },
     "execution_count": 199,
     "metadata": {},
     "output_type": "execute_result"
    }
   ],
   "source": [
    "df.iloc[list(map(lambda x,y: (x>90)&(y<50), df.att, df.rep))]\n",
    "df.iloc[map(lambda x,y: (x>90)&(y<50), df.att, df.rep)]"
   ]
  },
  {
   "cell_type": "code",
   "execution_count": 200,
   "id": "8191a1f1-cf8a-40c8-a5d4-b4b3156234eb",
   "metadata": {},
   "outputs": [
    {
     "data": {
      "text/html": [
       "<div>\n",
       "<style scoped>\n",
       "    .dataframe tbody tr th:only-of-type {\n",
       "        vertical-align: middle;\n",
       "    }\n",
       "\n",
       "    .dataframe tbody tr th {\n",
       "        vertical-align: top;\n",
       "    }\n",
       "\n",
       "    .dataframe thead th {\n",
       "        text-align: right;\n",
       "    }\n",
       "</style>\n",
       "<table border=\"1\" class=\"dataframe\">\n",
       "  <thead>\n",
       "    <tr style=\"text-align: right;\">\n",
       "      <th></th>\n",
       "      <th>att</th>\n",
       "      <th>rep</th>\n",
       "      <th>mid</th>\n",
       "      <th>fin</th>\n",
       "    </tr>\n",
       "  </thead>\n",
       "  <tbody>\n",
       "    <tr>\n",
       "      <th>1</th>\n",
       "      <td>95</td>\n",
       "      <td>30</td>\n",
       "      <td>60</td>\n",
       "      <td>10</td>\n",
       "    </tr>\n",
       "    <tr>\n",
       "      <th>12</th>\n",
       "      <td>95</td>\n",
       "      <td>35</td>\n",
       "      <td>0</td>\n",
       "      <td>25</td>\n",
       "    </tr>\n",
       "    <tr>\n",
       "      <th>48</th>\n",
       "      <td>95</td>\n",
       "      <td>45</td>\n",
       "      <td>35</td>\n",
       "      <td>80</td>\n",
       "    </tr>\n",
       "    <tr>\n",
       "      <th>56</th>\n",
       "      <td>95</td>\n",
       "      <td>25</td>\n",
       "      <td>95</td>\n",
       "      <td>90</td>\n",
       "    </tr>\n",
       "    <tr>\n",
       "      <th>78</th>\n",
       "      <td>95</td>\n",
       "      <td>45</td>\n",
       "      <td>90</td>\n",
       "      <td>35</td>\n",
       "    </tr>\n",
       "    <tr>\n",
       "      <th>107</th>\n",
       "      <td>100</td>\n",
       "      <td>30</td>\n",
       "      <td>60</td>\n",
       "      <td>65</td>\n",
       "    </tr>\n",
       "    <tr>\n",
       "      <th>112</th>\n",
       "      <td>100</td>\n",
       "      <td>35</td>\n",
       "      <td>70</td>\n",
       "      <td>0</td>\n",
       "    </tr>\n",
       "    <tr>\n",
       "      <th>113</th>\n",
       "      <td>95</td>\n",
       "      <td>45</td>\n",
       "      <td>55</td>\n",
       "      <td>65</td>\n",
       "    </tr>\n",
       "    <tr>\n",
       "      <th>163</th>\n",
       "      <td>100</td>\n",
       "      <td>25</td>\n",
       "      <td>10</td>\n",
       "      <td>20</td>\n",
       "    </tr>\n",
       "    <tr>\n",
       "      <th>174</th>\n",
       "      <td>100</td>\n",
       "      <td>40</td>\n",
       "      <td>40</td>\n",
       "      <td>15</td>\n",
       "    </tr>\n",
       "    <tr>\n",
       "      <th>176</th>\n",
       "      <td>100</td>\n",
       "      <td>30</td>\n",
       "      <td>70</td>\n",
       "      <td>70</td>\n",
       "    </tr>\n",
       "    <tr>\n",
       "      <th>184</th>\n",
       "      <td>100</td>\n",
       "      <td>30</td>\n",
       "      <td>30</td>\n",
       "      <td>85</td>\n",
       "    </tr>\n",
       "    <tr>\n",
       "      <th>190</th>\n",
       "      <td>95</td>\n",
       "      <td>35</td>\n",
       "      <td>40</td>\n",
       "      <td>95</td>\n",
       "    </tr>\n",
       "    <tr>\n",
       "      <th>192</th>\n",
       "      <td>100</td>\n",
       "      <td>40</td>\n",
       "      <td>80</td>\n",
       "      <td>80</td>\n",
       "    </tr>\n",
       "  </tbody>\n",
       "</table>\n",
       "</div>"
      ],
      "text/plain": [
       "     att  rep  mid  fin\n",
       "1     95   30   60   10\n",
       "12    95   35    0   25\n",
       "48    95   45   35   80\n",
       "56    95   25   95   90\n",
       "78    95   45   90   35\n",
       "107  100   30   60   65\n",
       "112  100   35   70    0\n",
       "113   95   45   55   65\n",
       "163  100   25   10   20\n",
       "174  100   40   40   15\n",
       "176  100   30   70   70\n",
       "184  100   30   30   85\n",
       "190   95   35   40   95\n",
       "192  100   40   80   80"
      ]
     },
     "execution_count": 200,
     "metadata": {},
     "output_type": "execute_result"
    }
   ],
   "source": [
    "df.loc[list(map(lambda x,y: (x>90)&(y<50), df.att, df.rep))]\n",
    "df.loc[map(lambda x,y: (x>90)&(y<50), df.att, df.rep)]"
   ]
  },
  {
   "cell_type": "markdown",
   "id": "2b3d394c-1478-43eb-b6fd-667bd0f0da94",
   "metadata": {},
   "source": [
    "### att > mean(att)"
   ]
  },
  {
   "cell_type": "markdown",
   "id": "5485462d-50e9-41c7-92fd-0de2f9f217c0",
   "metadata": {},
   "source": [
    "`-` 방법1: query"
   ]
  },
  {
   "cell_type": "code",
   "execution_count": 202,
   "id": "52713030-2c1b-4cd3-9474-5c866877ae7c",
   "metadata": {},
   "outputs": [
    {
     "data": {
      "text/html": [
       "<div>\n",
       "<style scoped>\n",
       "    .dataframe tbody tr th:only-of-type {\n",
       "        vertical-align: middle;\n",
       "    }\n",
       "\n",
       "    .dataframe tbody tr th {\n",
       "        vertical-align: top;\n",
       "    }\n",
       "\n",
       "    .dataframe thead th {\n",
       "        text-align: right;\n",
       "    }\n",
       "</style>\n",
       "<table border=\"1\" class=\"dataframe\">\n",
       "  <thead>\n",
       "    <tr style=\"text-align: right;\">\n",
       "      <th></th>\n",
       "      <th>att</th>\n",
       "      <th>rep</th>\n",
       "      <th>mid</th>\n",
       "      <th>fin</th>\n",
       "    </tr>\n",
       "  </thead>\n",
       "  <tbody>\n",
       "    <tr>\n",
       "      <th>1</th>\n",
       "      <td>95</td>\n",
       "      <td>30</td>\n",
       "      <td>60</td>\n",
       "      <td>10</td>\n",
       "    </tr>\n",
       "    <tr>\n",
       "      <th>4</th>\n",
       "      <td>80</td>\n",
       "      <td>60</td>\n",
       "      <td>55</td>\n",
       "      <td>70</td>\n",
       "    </tr>\n",
       "    <tr>\n",
       "      <th>8</th>\n",
       "      <td>95</td>\n",
       "      <td>55</td>\n",
       "      <td>65</td>\n",
       "      <td>90</td>\n",
       "    </tr>\n",
       "    <tr>\n",
       "      <th>9</th>\n",
       "      <td>90</td>\n",
       "      <td>25</td>\n",
       "      <td>95</td>\n",
       "      <td>50</td>\n",
       "    </tr>\n",
       "    <tr>\n",
       "      <th>11</th>\n",
       "      <td>95</td>\n",
       "      <td>60</td>\n",
       "      <td>25</td>\n",
       "      <td>55</td>\n",
       "    </tr>\n",
       "    <tr>\n",
       "      <th>...</th>\n",
       "      <td>...</td>\n",
       "      <td>...</td>\n",
       "      <td>...</td>\n",
       "      <td>...</td>\n",
       "    </tr>\n",
       "    <tr>\n",
       "      <th>184</th>\n",
       "      <td>100</td>\n",
       "      <td>30</td>\n",
       "      <td>30</td>\n",
       "      <td>85</td>\n",
       "    </tr>\n",
       "    <tr>\n",
       "      <th>190</th>\n",
       "      <td>95</td>\n",
       "      <td>35</td>\n",
       "      <td>40</td>\n",
       "      <td>95</td>\n",
       "    </tr>\n",
       "    <tr>\n",
       "      <th>192</th>\n",
       "      <td>100</td>\n",
       "      <td>40</td>\n",
       "      <td>80</td>\n",
       "      <td>80</td>\n",
       "    </tr>\n",
       "    <tr>\n",
       "      <th>197</th>\n",
       "      <td>85</td>\n",
       "      <td>85</td>\n",
       "      <td>100</td>\n",
       "      <td>10</td>\n",
       "    </tr>\n",
       "    <tr>\n",
       "      <th>198</th>\n",
       "      <td>80</td>\n",
       "      <td>65</td>\n",
       "      <td>35</td>\n",
       "      <td>60</td>\n",
       "    </tr>\n",
       "  </tbody>\n",
       "</table>\n",
       "<p>95 rows × 4 columns</p>\n",
       "</div>"
      ],
      "text/plain": [
       "     att  rep  mid  fin\n",
       "1     95   30   60   10\n",
       "4     80   60   55   70\n",
       "8     95   55   65   90\n",
       "9     90   25   95   50\n",
       "11    95   60   25   55\n",
       "..   ...  ...  ...  ...\n",
       "184  100   30   30   85\n",
       "190   95   35   40   95\n",
       "192  100   40   80   80\n",
       "197   85   85  100   10\n",
       "198   80   65   35   60\n",
       "\n",
       "[95 rows x 4 columns]"
      ]
     },
     "execution_count": 202,
     "metadata": {},
     "output_type": "execute_result"
    }
   ],
   "source": [
    "df.query('att> att.mean()') "
   ]
  },
  {
   "cell_type": "markdown",
   "id": "14f3fbab-c90d-4119-bada-c9e7d45cd9cf",
   "metadata": {},
   "source": [
    "`-` 방법2: []. .iloc, .loc"
   ]
  },
  {
   "cell_type": "code",
   "execution_count": 201,
   "id": "7c530f85-4f70-491c-b38b-91c4e524f9e4",
   "metadata": {},
   "outputs": [
    {
     "data": {
      "text/html": [
       "<div>\n",
       "<style scoped>\n",
       "    .dataframe tbody tr th:only-of-type {\n",
       "        vertical-align: middle;\n",
       "    }\n",
       "\n",
       "    .dataframe tbody tr th {\n",
       "        vertical-align: top;\n",
       "    }\n",
       "\n",
       "    .dataframe thead th {\n",
       "        text-align: right;\n",
       "    }\n",
       "</style>\n",
       "<table border=\"1\" class=\"dataframe\">\n",
       "  <thead>\n",
       "    <tr style=\"text-align: right;\">\n",
       "      <th></th>\n",
       "      <th>att</th>\n",
       "      <th>rep</th>\n",
       "      <th>mid</th>\n",
       "      <th>fin</th>\n",
       "    </tr>\n",
       "  </thead>\n",
       "  <tbody>\n",
       "    <tr>\n",
       "      <th>1</th>\n",
       "      <td>95</td>\n",
       "      <td>30</td>\n",
       "      <td>60</td>\n",
       "      <td>10</td>\n",
       "    </tr>\n",
       "    <tr>\n",
       "      <th>4</th>\n",
       "      <td>80</td>\n",
       "      <td>60</td>\n",
       "      <td>55</td>\n",
       "      <td>70</td>\n",
       "    </tr>\n",
       "    <tr>\n",
       "      <th>8</th>\n",
       "      <td>95</td>\n",
       "      <td>55</td>\n",
       "      <td>65</td>\n",
       "      <td>90</td>\n",
       "    </tr>\n",
       "    <tr>\n",
       "      <th>9</th>\n",
       "      <td>90</td>\n",
       "      <td>25</td>\n",
       "      <td>95</td>\n",
       "      <td>50</td>\n",
       "    </tr>\n",
       "    <tr>\n",
       "      <th>11</th>\n",
       "      <td>95</td>\n",
       "      <td>60</td>\n",
       "      <td>25</td>\n",
       "      <td>55</td>\n",
       "    </tr>\n",
       "    <tr>\n",
       "      <th>...</th>\n",
       "      <td>...</td>\n",
       "      <td>...</td>\n",
       "      <td>...</td>\n",
       "      <td>...</td>\n",
       "    </tr>\n",
       "    <tr>\n",
       "      <th>184</th>\n",
       "      <td>100</td>\n",
       "      <td>30</td>\n",
       "      <td>30</td>\n",
       "      <td>85</td>\n",
       "    </tr>\n",
       "    <tr>\n",
       "      <th>190</th>\n",
       "      <td>95</td>\n",
       "      <td>35</td>\n",
       "      <td>40</td>\n",
       "      <td>95</td>\n",
       "    </tr>\n",
       "    <tr>\n",
       "      <th>192</th>\n",
       "      <td>100</td>\n",
       "      <td>40</td>\n",
       "      <td>80</td>\n",
       "      <td>80</td>\n",
       "    </tr>\n",
       "    <tr>\n",
       "      <th>197</th>\n",
       "      <td>85</td>\n",
       "      <td>85</td>\n",
       "      <td>100</td>\n",
       "      <td>10</td>\n",
       "    </tr>\n",
       "    <tr>\n",
       "      <th>198</th>\n",
       "      <td>80</td>\n",
       "      <td>65</td>\n",
       "      <td>35</td>\n",
       "      <td>60</td>\n",
       "    </tr>\n",
       "  </tbody>\n",
       "</table>\n",
       "<p>95 rows × 4 columns</p>\n",
       "</div>"
      ],
      "text/plain": [
       "     att  rep  mid  fin\n",
       "1     95   30   60   10\n",
       "4     80   60   55   70\n",
       "8     95   55   65   90\n",
       "9     90   25   95   50\n",
       "11    95   60   25   55\n",
       "..   ...  ...  ...  ...\n",
       "184  100   30   30   85\n",
       "190   95   35   40   95\n",
       "192  100   40   80   80\n",
       "197   85   85  100   10\n",
       "198   80   65   35   60\n",
       "\n",
       "[95 rows x 4 columns]"
      ]
     },
     "execution_count": 201,
     "metadata": {},
     "output_type": "execute_result"
    }
   ],
   "source": [
    "df[df.att > df.att.mean()]\n",
    "df.loc[df.att > df.att.mean()]\n",
    "df.iloc[list(df.att > df.att.mean())]"
   ]
  },
  {
   "cell_type": "markdown",
   "id": "c67deb6c-17cd-4c8a-8386-453393905aea",
   "metadata": {},
   "source": [
    "`-` 방법3: [], .iloc, .loc // map, lambda"
   ]
  },
  {
   "cell_type": "code",
   "execution_count": 203,
   "id": "4644610e-a636-430c-8efd-4b1a410eb4e0",
   "metadata": {},
   "outputs": [
    {
     "data": {
      "text/html": [
       "<div>\n",
       "<style scoped>\n",
       "    .dataframe tbody tr th:only-of-type {\n",
       "        vertical-align: middle;\n",
       "    }\n",
       "\n",
       "    .dataframe tbody tr th {\n",
       "        vertical-align: top;\n",
       "    }\n",
       "\n",
       "    .dataframe thead th {\n",
       "        text-align: right;\n",
       "    }\n",
       "</style>\n",
       "<table border=\"1\" class=\"dataframe\">\n",
       "  <thead>\n",
       "    <tr style=\"text-align: right;\">\n",
       "      <th></th>\n",
       "      <th>att</th>\n",
       "      <th>rep</th>\n",
       "      <th>mid</th>\n",
       "      <th>fin</th>\n",
       "    </tr>\n",
       "  </thead>\n",
       "  <tbody>\n",
       "    <tr>\n",
       "      <th>1</th>\n",
       "      <td>95</td>\n",
       "      <td>30</td>\n",
       "      <td>60</td>\n",
       "      <td>10</td>\n",
       "    </tr>\n",
       "    <tr>\n",
       "      <th>4</th>\n",
       "      <td>80</td>\n",
       "      <td>60</td>\n",
       "      <td>55</td>\n",
       "      <td>70</td>\n",
       "    </tr>\n",
       "    <tr>\n",
       "      <th>8</th>\n",
       "      <td>95</td>\n",
       "      <td>55</td>\n",
       "      <td>65</td>\n",
       "      <td>90</td>\n",
       "    </tr>\n",
       "    <tr>\n",
       "      <th>9</th>\n",
       "      <td>90</td>\n",
       "      <td>25</td>\n",
       "      <td>95</td>\n",
       "      <td>50</td>\n",
       "    </tr>\n",
       "    <tr>\n",
       "      <th>11</th>\n",
       "      <td>95</td>\n",
       "      <td>60</td>\n",
       "      <td>25</td>\n",
       "      <td>55</td>\n",
       "    </tr>\n",
       "    <tr>\n",
       "      <th>...</th>\n",
       "      <td>...</td>\n",
       "      <td>...</td>\n",
       "      <td>...</td>\n",
       "      <td>...</td>\n",
       "    </tr>\n",
       "    <tr>\n",
       "      <th>184</th>\n",
       "      <td>100</td>\n",
       "      <td>30</td>\n",
       "      <td>30</td>\n",
       "      <td>85</td>\n",
       "    </tr>\n",
       "    <tr>\n",
       "      <th>190</th>\n",
       "      <td>95</td>\n",
       "      <td>35</td>\n",
       "      <td>40</td>\n",
       "      <td>95</td>\n",
       "    </tr>\n",
       "    <tr>\n",
       "      <th>192</th>\n",
       "      <td>100</td>\n",
       "      <td>40</td>\n",
       "      <td>80</td>\n",
       "      <td>80</td>\n",
       "    </tr>\n",
       "    <tr>\n",
       "      <th>197</th>\n",
       "      <td>85</td>\n",
       "      <td>85</td>\n",
       "      <td>100</td>\n",
       "      <td>10</td>\n",
       "    </tr>\n",
       "    <tr>\n",
       "      <th>198</th>\n",
       "      <td>80</td>\n",
       "      <td>65</td>\n",
       "      <td>35</td>\n",
       "      <td>60</td>\n",
       "    </tr>\n",
       "  </tbody>\n",
       "</table>\n",
       "<p>95 rows × 4 columns</p>\n",
       "</div>"
      ],
      "text/plain": [
       "     att  rep  mid  fin\n",
       "1     95   30   60   10\n",
       "4     80   60   55   70\n",
       "8     95   55   65   90\n",
       "9     90   25   95   50\n",
       "11    95   60   25   55\n",
       "..   ...  ...  ...  ...\n",
       "184  100   30   30   85\n",
       "190   95   35   40   95\n",
       "192  100   40   80   80\n",
       "197   85   85  100   10\n",
       "198   80   65   35   60\n",
       "\n",
       "[95 rows x 4 columns]"
      ]
     },
     "execution_count": 203,
     "metadata": {},
     "output_type": "execute_result"
    }
   ],
   "source": [
    "df[list(map(lambda x: x>df.att.mean() , df.att))]\n",
    "# df[map(lambda x: x>df.att.mean() , df.att)] # 이것은 불가능"
   ]
  },
  {
   "cell_type": "code",
   "execution_count": 204,
   "id": "58f43bdf-df0e-4b8c-b469-3820453455eb",
   "metadata": {},
   "outputs": [
    {
     "data": {
      "text/html": [
       "<div>\n",
       "<style scoped>\n",
       "    .dataframe tbody tr th:only-of-type {\n",
       "        vertical-align: middle;\n",
       "    }\n",
       "\n",
       "    .dataframe tbody tr th {\n",
       "        vertical-align: top;\n",
       "    }\n",
       "\n",
       "    .dataframe thead th {\n",
       "        text-align: right;\n",
       "    }\n",
       "</style>\n",
       "<table border=\"1\" class=\"dataframe\">\n",
       "  <thead>\n",
       "    <tr style=\"text-align: right;\">\n",
       "      <th></th>\n",
       "      <th>att</th>\n",
       "      <th>rep</th>\n",
       "      <th>mid</th>\n",
       "      <th>fin</th>\n",
       "    </tr>\n",
       "  </thead>\n",
       "  <tbody>\n",
       "    <tr>\n",
       "      <th>1</th>\n",
       "      <td>95</td>\n",
       "      <td>30</td>\n",
       "      <td>60</td>\n",
       "      <td>10</td>\n",
       "    </tr>\n",
       "    <tr>\n",
       "      <th>4</th>\n",
       "      <td>80</td>\n",
       "      <td>60</td>\n",
       "      <td>55</td>\n",
       "      <td>70</td>\n",
       "    </tr>\n",
       "    <tr>\n",
       "      <th>8</th>\n",
       "      <td>95</td>\n",
       "      <td>55</td>\n",
       "      <td>65</td>\n",
       "      <td>90</td>\n",
       "    </tr>\n",
       "    <tr>\n",
       "      <th>9</th>\n",
       "      <td>90</td>\n",
       "      <td>25</td>\n",
       "      <td>95</td>\n",
       "      <td>50</td>\n",
       "    </tr>\n",
       "    <tr>\n",
       "      <th>11</th>\n",
       "      <td>95</td>\n",
       "      <td>60</td>\n",
       "      <td>25</td>\n",
       "      <td>55</td>\n",
       "    </tr>\n",
       "    <tr>\n",
       "      <th>...</th>\n",
       "      <td>...</td>\n",
       "      <td>...</td>\n",
       "      <td>...</td>\n",
       "      <td>...</td>\n",
       "    </tr>\n",
       "    <tr>\n",
       "      <th>184</th>\n",
       "      <td>100</td>\n",
       "      <td>30</td>\n",
       "      <td>30</td>\n",
       "      <td>85</td>\n",
       "    </tr>\n",
       "    <tr>\n",
       "      <th>190</th>\n",
       "      <td>95</td>\n",
       "      <td>35</td>\n",
       "      <td>40</td>\n",
       "      <td>95</td>\n",
       "    </tr>\n",
       "    <tr>\n",
       "      <th>192</th>\n",
       "      <td>100</td>\n",
       "      <td>40</td>\n",
       "      <td>80</td>\n",
       "      <td>80</td>\n",
       "    </tr>\n",
       "    <tr>\n",
       "      <th>197</th>\n",
       "      <td>85</td>\n",
       "      <td>85</td>\n",
       "      <td>100</td>\n",
       "      <td>10</td>\n",
       "    </tr>\n",
       "    <tr>\n",
       "      <th>198</th>\n",
       "      <td>80</td>\n",
       "      <td>65</td>\n",
       "      <td>35</td>\n",
       "      <td>60</td>\n",
       "    </tr>\n",
       "  </tbody>\n",
       "</table>\n",
       "<p>95 rows × 4 columns</p>\n",
       "</div>"
      ],
      "text/plain": [
       "     att  rep  mid  fin\n",
       "1     95   30   60   10\n",
       "4     80   60   55   70\n",
       "8     95   55   65   90\n",
       "9     90   25   95   50\n",
       "11    95   60   25   55\n",
       "..   ...  ...  ...  ...\n",
       "184  100   30   30   85\n",
       "190   95   35   40   95\n",
       "192  100   40   80   80\n",
       "197   85   85  100   10\n",
       "198   80   65   35   60\n",
       "\n",
       "[95 rows x 4 columns]"
      ]
     },
     "execution_count": 204,
     "metadata": {},
     "output_type": "execute_result"
    }
   ],
   "source": [
    "df.iloc[list(map(lambda x: x>df.att.mean() , df.att))]\n",
    "df.iloc[map(lambda x: x>df.att.mean() , df.att)]"
   ]
  },
  {
   "cell_type": "code",
   "execution_count": 205,
   "id": "0d48adc2-2450-4048-845f-51f65612c1ff",
   "metadata": {},
   "outputs": [
    {
     "data": {
      "text/html": [
       "<div>\n",
       "<style scoped>\n",
       "    .dataframe tbody tr th:only-of-type {\n",
       "        vertical-align: middle;\n",
       "    }\n",
       "\n",
       "    .dataframe tbody tr th {\n",
       "        vertical-align: top;\n",
       "    }\n",
       "\n",
       "    .dataframe thead th {\n",
       "        text-align: right;\n",
       "    }\n",
       "</style>\n",
       "<table border=\"1\" class=\"dataframe\">\n",
       "  <thead>\n",
       "    <tr style=\"text-align: right;\">\n",
       "      <th></th>\n",
       "      <th>att</th>\n",
       "      <th>rep</th>\n",
       "      <th>mid</th>\n",
       "      <th>fin</th>\n",
       "    </tr>\n",
       "  </thead>\n",
       "  <tbody>\n",
       "    <tr>\n",
       "      <th>1</th>\n",
       "      <td>95</td>\n",
       "      <td>30</td>\n",
       "      <td>60</td>\n",
       "      <td>10</td>\n",
       "    </tr>\n",
       "    <tr>\n",
       "      <th>4</th>\n",
       "      <td>80</td>\n",
       "      <td>60</td>\n",
       "      <td>55</td>\n",
       "      <td>70</td>\n",
       "    </tr>\n",
       "    <tr>\n",
       "      <th>8</th>\n",
       "      <td>95</td>\n",
       "      <td>55</td>\n",
       "      <td>65</td>\n",
       "      <td>90</td>\n",
       "    </tr>\n",
       "    <tr>\n",
       "      <th>9</th>\n",
       "      <td>90</td>\n",
       "      <td>25</td>\n",
       "      <td>95</td>\n",
       "      <td>50</td>\n",
       "    </tr>\n",
       "    <tr>\n",
       "      <th>11</th>\n",
       "      <td>95</td>\n",
       "      <td>60</td>\n",
       "      <td>25</td>\n",
       "      <td>55</td>\n",
       "    </tr>\n",
       "    <tr>\n",
       "      <th>...</th>\n",
       "      <td>...</td>\n",
       "      <td>...</td>\n",
       "      <td>...</td>\n",
       "      <td>...</td>\n",
       "    </tr>\n",
       "    <tr>\n",
       "      <th>184</th>\n",
       "      <td>100</td>\n",
       "      <td>30</td>\n",
       "      <td>30</td>\n",
       "      <td>85</td>\n",
       "    </tr>\n",
       "    <tr>\n",
       "      <th>190</th>\n",
       "      <td>95</td>\n",
       "      <td>35</td>\n",
       "      <td>40</td>\n",
       "      <td>95</td>\n",
       "    </tr>\n",
       "    <tr>\n",
       "      <th>192</th>\n",
       "      <td>100</td>\n",
       "      <td>40</td>\n",
       "      <td>80</td>\n",
       "      <td>80</td>\n",
       "    </tr>\n",
       "    <tr>\n",
       "      <th>197</th>\n",
       "      <td>85</td>\n",
       "      <td>85</td>\n",
       "      <td>100</td>\n",
       "      <td>10</td>\n",
       "    </tr>\n",
       "    <tr>\n",
       "      <th>198</th>\n",
       "      <td>80</td>\n",
       "      <td>65</td>\n",
       "      <td>35</td>\n",
       "      <td>60</td>\n",
       "    </tr>\n",
       "  </tbody>\n",
       "</table>\n",
       "<p>95 rows × 4 columns</p>\n",
       "</div>"
      ],
      "text/plain": [
       "     att  rep  mid  fin\n",
       "1     95   30   60   10\n",
       "4     80   60   55   70\n",
       "8     95   55   65   90\n",
       "9     90   25   95   50\n",
       "11    95   60   25   55\n",
       "..   ...  ...  ...  ...\n",
       "184  100   30   30   85\n",
       "190   95   35   40   95\n",
       "192  100   40   80   80\n",
       "197   85   85  100   10\n",
       "198   80   65   35   60\n",
       "\n",
       "[95 rows x 4 columns]"
      ]
     },
     "execution_count": 205,
     "metadata": {},
     "output_type": "execute_result"
    }
   ],
   "source": [
    "df.loc[list(map(lambda x: x>df.att.mean() , df.att))]\n",
    "df.loc[map(lambda x: x>df.att.mean() , df.att)]"
   ]
  },
  {
   "cell_type": "markdown",
   "id": "4620224d-477b-4369-9078-b83c9ed6d017",
   "metadata": {},
   "source": [
    "## 요약"
   ]
  },
  {
   "cell_type": "markdown",
   "id": "27cc3995-45bc-4f5a-8e0a-f0ea6fec1e48",
   "metadata": {},
   "source": [
    "||`.`| `[]` | `.iloc` | `.loc`| \n",
    "|:-:|:-:|:-:|:-:|:-:|\n",
    "|row/단일레이블|X|X|O|O|\n",
    "|col/단일레이블|O|O|O|O|\n",
    "|row/레이블리스트|X|X|O|O|\n",
    "|col/레이블리스트|X|O|O|O|\n",
    "|row/슬라이싱|X|O|O|O|\n",
    "|col/슬라이싱|X|X|O|O|\n",
    "|row/bool,list|X|O|O|O|\n",
    "|row/bool,ser|X|O|X|O|\n",
    "|row/bool,map|X|X|O|O|"
   ]
  },
  {
   "cell_type": "markdown",
   "id": "38ca0bbb-9783-4fa3-83c5-363e24d0c4ad",
   "metadata": {},
   "source": [
    "# 숙제"
   ]
  },
  {
   "cell_type": "markdown",
   "id": "25857bfb-6419-43e5-ae43-d42f5ba70be7",
   "metadata": {},
   "source": [
    "## 숙제1"
   ]
  },
  {
   "cell_type": "markdown",
   "id": "9cc93a00-d260-410b-8cf0-c49ccb667d20",
   "metadata": {},
   "source": [
    "아래와 같이 0~9까지 포함된 리스트를 만들어라 "
   ]
  },
  {
   "cell_type": "code",
   "execution_count": 206,
   "id": "c05a2f14-f277-4e80-865f-1e6b42bb4a0f",
   "metadata": {},
   "outputs": [
    {
     "data": {
      "text/plain": [
       "[0, 1, 2, 3, 4, 5, 6, 7, 8, 9]"
      ]
     },
     "execution_count": 206,
     "metadata": {},
     "output_type": "execute_result"
    }
   ],
   "source": [
    "x=list(range(10))\n",
    "x"
   ]
  },
  {
   "cell_type": "markdown",
   "id": "8d2cd21f-524b-4bfe-bc5a-eed570758124",
   "metadata": {},
   "source": [
    "아래와 동일한 기능을 수행하는 함수를 lambda expression으로 정의하라."
   ]
  },
  {
   "cell_type": "code",
   "execution_count": 208,
   "id": "76d900f4-573d-41c1-a663-5a7642c8e66e",
   "metadata": {},
   "outputs": [],
   "source": [
    "def f(xi):\n",
    "    return '짝' if (xi % 2)==0 else '홀'"
   ]
  },
  {
   "cell_type": "code",
   "execution_count": 215,
   "id": "fd4669f7-7e10-4ee5-acc0-9f3650234316",
   "metadata": {},
   "outputs": [],
   "source": [
    "ff = lambda x: \"짝\" if (x % 2)==0 else \" 홀\" "
   ]
  },
  {
   "cell_type": "code",
   "execution_count": 216,
   "id": "d44397be-c8d5-4c81-b924-f5a739d0801b",
   "metadata": {},
   "outputs": [
    {
     "data": {
      "text/plain": [
       "'짝'"
      ]
     },
     "execution_count": 216,
     "metadata": {},
     "output_type": "execute_result"
    }
   ],
   "source": [
    "ff(2)"
   ]
  },
  {
   "cell_type": "code",
   "execution_count": 217,
   "id": "2006039b-e6fb-4a68-994f-4d6ae7199a09",
   "metadata": {},
   "outputs": [
    {
     "data": {
      "text/plain": [
       "'짝'"
      ]
     },
     "execution_count": 217,
     "metadata": {},
     "output_type": "execute_result"
    }
   ],
   "source": [
    "f(2)"
   ]
  },
  {
   "cell_type": "markdown",
   "id": "d98b50ad-01e7-43dd-a14d-659ada8ab006",
   "metadata": {},
   "source": [
    "map과 lambda expression 을 이용하여 아래와 같은 결과를 만들어라. (리스트컴프리헨션, for문 사용금지) "
   ]
  },
  {
   "cell_type": "code",
   "execution_count": 223,
   "id": "e2cf641a-57e0-439c-9298-2e853a6c1f2c",
   "metadata": {},
   "outputs": [
    {
     "data": {
      "text/plain": [
       "['짝', ' 홀', '짝', ' 홀', '짝', ' 홀', '짝', ' 홀', '짝', ' 홀']"
      ]
     },
     "execution_count": 223,
     "metadata": {},
     "output_type": "execute_result"
    }
   ],
   "source": [
    "x=list(range(10))\n",
    "ff = lambda x: \"짝\" if (x % 2)==0 else \" 홀\" \n",
    "y=list(map(ff,x))\n",
    "y"
   ]
  },
  {
   "cell_type": "markdown",
   "id": "95c3b9f7-a020-466a-b075-f5255b3ca063",
   "metadata": {},
   "source": [
    "## 숙제2"
   ]
  },
  {
   "cell_type": "markdown",
   "id": "0adb816e-c0a7-4595-ab9e-3fadfc7be2fc",
   "metadata": {},
   "source": [
    "다음과 같은 데이터프레임을 불러온 뒤 물음에 답하라 "
   ]
  },
  {
   "cell_type": "code",
   "execution_count": 210,
   "id": "bc0e49fa-b541-4cd0-879b-ba1acaad0af7",
   "metadata": {},
   "outputs": [
    {
     "data": {
      "text/html": [
       "<div>\n",
       "<style scoped>\n",
       "    .dataframe tbody tr th:only-of-type {\n",
       "        vertical-align: middle;\n",
       "    }\n",
       "\n",
       "    .dataframe tbody tr th {\n",
       "        vertical-align: top;\n",
       "    }\n",
       "\n",
       "    .dataframe thead th {\n",
       "        text-align: right;\n",
       "    }\n",
       "</style>\n",
       "<table border=\"1\" class=\"dataframe\">\n",
       "  <thead>\n",
       "    <tr style=\"text-align: right;\">\n",
       "      <th></th>\n",
       "      <th>att</th>\n",
       "      <th>rep</th>\n",
       "      <th>mid</th>\n",
       "      <th>fin</th>\n",
       "    </tr>\n",
       "  </thead>\n",
       "  <tbody>\n",
       "    <tr>\n",
       "      <th>0</th>\n",
       "      <td>65</td>\n",
       "      <td>45</td>\n",
       "      <td>0</td>\n",
       "      <td>10</td>\n",
       "    </tr>\n",
       "    <tr>\n",
       "      <th>1</th>\n",
       "      <td>95</td>\n",
       "      <td>30</td>\n",
       "      <td>60</td>\n",
       "      <td>10</td>\n",
       "    </tr>\n",
       "    <tr>\n",
       "      <th>2</th>\n",
       "      <td>65</td>\n",
       "      <td>85</td>\n",
       "      <td>15</td>\n",
       "      <td>20</td>\n",
       "    </tr>\n",
       "    <tr>\n",
       "      <th>3</th>\n",
       "      <td>55</td>\n",
       "      <td>35</td>\n",
       "      <td>35</td>\n",
       "      <td>5</td>\n",
       "    </tr>\n",
       "    <tr>\n",
       "      <th>4</th>\n",
       "      <td>80</td>\n",
       "      <td>60</td>\n",
       "      <td>55</td>\n",
       "      <td>70</td>\n",
       "    </tr>\n",
       "    <tr>\n",
       "      <th>...</th>\n",
       "      <td>...</td>\n",
       "      <td>...</td>\n",
       "      <td>...</td>\n",
       "      <td>...</td>\n",
       "    </tr>\n",
       "    <tr>\n",
       "      <th>195</th>\n",
       "      <td>55</td>\n",
       "      <td>70</td>\n",
       "      <td>40</td>\n",
       "      <td>95</td>\n",
       "    </tr>\n",
       "    <tr>\n",
       "      <th>196</th>\n",
       "      <td>65</td>\n",
       "      <td>85</td>\n",
       "      <td>25</td>\n",
       "      <td>85</td>\n",
       "    </tr>\n",
       "    <tr>\n",
       "      <th>197</th>\n",
       "      <td>85</td>\n",
       "      <td>85</td>\n",
       "      <td>100</td>\n",
       "      <td>10</td>\n",
       "    </tr>\n",
       "    <tr>\n",
       "      <th>198</th>\n",
       "      <td>80</td>\n",
       "      <td>65</td>\n",
       "      <td>35</td>\n",
       "      <td>60</td>\n",
       "    </tr>\n",
       "    <tr>\n",
       "      <th>199</th>\n",
       "      <td>50</td>\n",
       "      <td>95</td>\n",
       "      <td>45</td>\n",
       "      <td>85</td>\n",
       "    </tr>\n",
       "  </tbody>\n",
       "</table>\n",
       "<p>200 rows × 4 columns</p>\n",
       "</div>"
      ],
      "text/plain": [
       "     att  rep  mid  fin\n",
       "0     65   45    0   10\n",
       "1     95   30   60   10\n",
       "2     65   85   15   20\n",
       "3     55   35   35    5\n",
       "4     80   60   55   70\n",
       "..   ...  ...  ...  ...\n",
       "195   55   70   40   95\n",
       "196   65   85   25   85\n",
       "197   85   85  100   10\n",
       "198   80   65   35   60\n",
       "199   50   95   45   85\n",
       "\n",
       "[200 rows x 4 columns]"
      ]
     },
     "execution_count": 210,
     "metadata": {},
     "output_type": "execute_result"
    }
   ],
   "source": [
    "df=pd.read_csv('https://raw.githubusercontent.com/guebin/DV2022/main/posts/dv2022.csv')\n",
    "df"
   ]
  },
  {
   "cell_type": "markdown",
   "id": "df9330f6-24fb-4c61-879d-282119140ea3",
   "metadata": {},
   "source": [
    "`(1)` 기말고사 성적이 중간고사 성적보다 향상된 학생들을 출력하라. 즉 mid < fin 인 학생들을 출력하라. (다양한 방법으로 연습할 것, 제출은 한 가지 방법으로 구현해도 감점없음) "
   ]
  },
  {
   "cell_type": "code",
   "execution_count": 224,
   "id": "a56bcb5b-7fc2-47b5-85f3-24bc88ccba01",
   "metadata": {},
   "outputs": [
    {
     "data": {
      "text/html": [
       "<div>\n",
       "<style scoped>\n",
       "    .dataframe tbody tr th:only-of-type {\n",
       "        vertical-align: middle;\n",
       "    }\n",
       "\n",
       "    .dataframe tbody tr th {\n",
       "        vertical-align: top;\n",
       "    }\n",
       "\n",
       "    .dataframe thead th {\n",
       "        text-align: right;\n",
       "    }\n",
       "</style>\n",
       "<table border=\"1\" class=\"dataframe\">\n",
       "  <thead>\n",
       "    <tr style=\"text-align: right;\">\n",
       "      <th></th>\n",
       "      <th>att</th>\n",
       "      <th>rep</th>\n",
       "      <th>mid</th>\n",
       "      <th>fin</th>\n",
       "    </tr>\n",
       "  </thead>\n",
       "  <tbody>\n",
       "    <tr>\n",
       "      <th>0</th>\n",
       "      <td>65</td>\n",
       "      <td>45</td>\n",
       "      <td>0</td>\n",
       "      <td>10</td>\n",
       "    </tr>\n",
       "    <tr>\n",
       "      <th>2</th>\n",
       "      <td>65</td>\n",
       "      <td>85</td>\n",
       "      <td>15</td>\n",
       "      <td>20</td>\n",
       "    </tr>\n",
       "    <tr>\n",
       "      <th>4</th>\n",
       "      <td>80</td>\n",
       "      <td>60</td>\n",
       "      <td>55</td>\n",
       "      <td>70</td>\n",
       "    </tr>\n",
       "    <tr>\n",
       "      <th>5</th>\n",
       "      <td>75</td>\n",
       "      <td>40</td>\n",
       "      <td>75</td>\n",
       "      <td>85</td>\n",
       "    </tr>\n",
       "    <tr>\n",
       "      <th>6</th>\n",
       "      <td>65</td>\n",
       "      <td>70</td>\n",
       "      <td>60</td>\n",
       "      <td>75</td>\n",
       "    </tr>\n",
       "    <tr>\n",
       "      <th>...</th>\n",
       "      <td>...</td>\n",
       "      <td>...</td>\n",
       "      <td>...</td>\n",
       "      <td>...</td>\n",
       "    </tr>\n",
       "    <tr>\n",
       "      <th>194</th>\n",
       "      <td>65</td>\n",
       "      <td>40</td>\n",
       "      <td>65</td>\n",
       "      <td>70</td>\n",
       "    </tr>\n",
       "    <tr>\n",
       "      <th>195</th>\n",
       "      <td>55</td>\n",
       "      <td>70</td>\n",
       "      <td>40</td>\n",
       "      <td>95</td>\n",
       "    </tr>\n",
       "    <tr>\n",
       "      <th>196</th>\n",
       "      <td>65</td>\n",
       "      <td>85</td>\n",
       "      <td>25</td>\n",
       "      <td>85</td>\n",
       "    </tr>\n",
       "    <tr>\n",
       "      <th>198</th>\n",
       "      <td>80</td>\n",
       "      <td>65</td>\n",
       "      <td>35</td>\n",
       "      <td>60</td>\n",
       "    </tr>\n",
       "    <tr>\n",
       "      <th>199</th>\n",
       "      <td>50</td>\n",
       "      <td>95</td>\n",
       "      <td>45</td>\n",
       "      <td>85</td>\n",
       "    </tr>\n",
       "  </tbody>\n",
       "</table>\n",
       "<p>93 rows × 4 columns</p>\n",
       "</div>"
      ],
      "text/plain": [
       "     att  rep  mid  fin\n",
       "0     65   45    0   10\n",
       "2     65   85   15   20\n",
       "4     80   60   55   70\n",
       "5     75   40   75   85\n",
       "6     65   70   60   75\n",
       "..   ...  ...  ...  ...\n",
       "194   65   40   65   70\n",
       "195   55   70   40   95\n",
       "196   65   85   25   85\n",
       "198   80   65   35   60\n",
       "199   50   95   45   85\n",
       "\n",
       "[93 rows x 4 columns]"
      ]
     },
     "execution_count": 224,
     "metadata": {},
     "output_type": "execute_result"
    }
   ],
   "source": [
    "df.query('mid<fin')"
   ]
  },
  {
   "cell_type": "code",
   "execution_count": 228,
   "id": "33880d1c-ec56-473a-b9cf-ec127f127036",
   "metadata": {},
   "outputs": [
    {
     "data": {
      "text/html": [
       "<div>\n",
       "<style scoped>\n",
       "    .dataframe tbody tr th:only-of-type {\n",
       "        vertical-align: middle;\n",
       "    }\n",
       "\n",
       "    .dataframe tbody tr th {\n",
       "        vertical-align: top;\n",
       "    }\n",
       "\n",
       "    .dataframe thead th {\n",
       "        text-align: right;\n",
       "    }\n",
       "</style>\n",
       "<table border=\"1\" class=\"dataframe\">\n",
       "  <thead>\n",
       "    <tr style=\"text-align: right;\">\n",
       "      <th></th>\n",
       "      <th>att</th>\n",
       "      <th>rep</th>\n",
       "      <th>mid</th>\n",
       "      <th>fin</th>\n",
       "    </tr>\n",
       "  </thead>\n",
       "  <tbody>\n",
       "    <tr>\n",
       "      <th>0</th>\n",
       "      <td>65</td>\n",
       "      <td>45</td>\n",
       "      <td>0</td>\n",
       "      <td>10</td>\n",
       "    </tr>\n",
       "    <tr>\n",
       "      <th>2</th>\n",
       "      <td>65</td>\n",
       "      <td>85</td>\n",
       "      <td>15</td>\n",
       "      <td>20</td>\n",
       "    </tr>\n",
       "    <tr>\n",
       "      <th>4</th>\n",
       "      <td>80</td>\n",
       "      <td>60</td>\n",
       "      <td>55</td>\n",
       "      <td>70</td>\n",
       "    </tr>\n",
       "    <tr>\n",
       "      <th>5</th>\n",
       "      <td>75</td>\n",
       "      <td>40</td>\n",
       "      <td>75</td>\n",
       "      <td>85</td>\n",
       "    </tr>\n",
       "    <tr>\n",
       "      <th>6</th>\n",
       "      <td>65</td>\n",
       "      <td>70</td>\n",
       "      <td>60</td>\n",
       "      <td>75</td>\n",
       "    </tr>\n",
       "    <tr>\n",
       "      <th>...</th>\n",
       "      <td>...</td>\n",
       "      <td>...</td>\n",
       "      <td>...</td>\n",
       "      <td>...</td>\n",
       "    </tr>\n",
       "    <tr>\n",
       "      <th>194</th>\n",
       "      <td>65</td>\n",
       "      <td>40</td>\n",
       "      <td>65</td>\n",
       "      <td>70</td>\n",
       "    </tr>\n",
       "    <tr>\n",
       "      <th>195</th>\n",
       "      <td>55</td>\n",
       "      <td>70</td>\n",
       "      <td>40</td>\n",
       "      <td>95</td>\n",
       "    </tr>\n",
       "    <tr>\n",
       "      <th>196</th>\n",
       "      <td>65</td>\n",
       "      <td>85</td>\n",
       "      <td>25</td>\n",
       "      <td>85</td>\n",
       "    </tr>\n",
       "    <tr>\n",
       "      <th>198</th>\n",
       "      <td>80</td>\n",
       "      <td>65</td>\n",
       "      <td>35</td>\n",
       "      <td>60</td>\n",
       "    </tr>\n",
       "    <tr>\n",
       "      <th>199</th>\n",
       "      <td>50</td>\n",
       "      <td>95</td>\n",
       "      <td>45</td>\n",
       "      <td>85</td>\n",
       "    </tr>\n",
       "  </tbody>\n",
       "</table>\n",
       "<p>93 rows × 4 columns</p>\n",
       "</div>"
      ],
      "text/plain": [
       "     att  rep  mid  fin\n",
       "0     65   45    0   10\n",
       "2     65   85   15   20\n",
       "4     80   60   55   70\n",
       "5     75   40   75   85\n",
       "6     65   70   60   75\n",
       "..   ...  ...  ...  ...\n",
       "194   65   40   65   70\n",
       "195   55   70   40   95\n",
       "196   65   85   25   85\n",
       "198   80   65   35   60\n",
       "199   50   95   45   85\n",
       "\n",
       "[93 rows x 4 columns]"
      ]
     },
     "execution_count": 228,
     "metadata": {},
     "output_type": "execute_result"
    }
   ],
   "source": [
    "df.loc[(df.mid<df.fin)]"
   ]
  },
  {
   "cell_type": "code",
   "execution_count": 229,
   "id": "fb31dafc-a761-412a-b5df-37052dc2ab97",
   "metadata": {},
   "outputs": [
    {
     "data": {
      "text/html": [
       "<div>\n",
       "<style scoped>\n",
       "    .dataframe tbody tr th:only-of-type {\n",
       "        vertical-align: middle;\n",
       "    }\n",
       "\n",
       "    .dataframe tbody tr th {\n",
       "        vertical-align: top;\n",
       "    }\n",
       "\n",
       "    .dataframe thead th {\n",
       "        text-align: right;\n",
       "    }\n",
       "</style>\n",
       "<table border=\"1\" class=\"dataframe\">\n",
       "  <thead>\n",
       "    <tr style=\"text-align: right;\">\n",
       "      <th></th>\n",
       "      <th>att</th>\n",
       "      <th>rep</th>\n",
       "      <th>mid</th>\n",
       "      <th>fin</th>\n",
       "    </tr>\n",
       "  </thead>\n",
       "  <tbody>\n",
       "    <tr>\n",
       "      <th>0</th>\n",
       "      <td>65</td>\n",
       "      <td>45</td>\n",
       "      <td>0</td>\n",
       "      <td>10</td>\n",
       "    </tr>\n",
       "    <tr>\n",
       "      <th>2</th>\n",
       "      <td>65</td>\n",
       "      <td>85</td>\n",
       "      <td>15</td>\n",
       "      <td>20</td>\n",
       "    </tr>\n",
       "    <tr>\n",
       "      <th>4</th>\n",
       "      <td>80</td>\n",
       "      <td>60</td>\n",
       "      <td>55</td>\n",
       "      <td>70</td>\n",
       "    </tr>\n",
       "    <tr>\n",
       "      <th>5</th>\n",
       "      <td>75</td>\n",
       "      <td>40</td>\n",
       "      <td>75</td>\n",
       "      <td>85</td>\n",
       "    </tr>\n",
       "    <tr>\n",
       "      <th>6</th>\n",
       "      <td>65</td>\n",
       "      <td>70</td>\n",
       "      <td>60</td>\n",
       "      <td>75</td>\n",
       "    </tr>\n",
       "    <tr>\n",
       "      <th>...</th>\n",
       "      <td>...</td>\n",
       "      <td>...</td>\n",
       "      <td>...</td>\n",
       "      <td>...</td>\n",
       "    </tr>\n",
       "    <tr>\n",
       "      <th>194</th>\n",
       "      <td>65</td>\n",
       "      <td>40</td>\n",
       "      <td>65</td>\n",
       "      <td>70</td>\n",
       "    </tr>\n",
       "    <tr>\n",
       "      <th>195</th>\n",
       "      <td>55</td>\n",
       "      <td>70</td>\n",
       "      <td>40</td>\n",
       "      <td>95</td>\n",
       "    </tr>\n",
       "    <tr>\n",
       "      <th>196</th>\n",
       "      <td>65</td>\n",
       "      <td>85</td>\n",
       "      <td>25</td>\n",
       "      <td>85</td>\n",
       "    </tr>\n",
       "    <tr>\n",
       "      <th>198</th>\n",
       "      <td>80</td>\n",
       "      <td>65</td>\n",
       "      <td>35</td>\n",
       "      <td>60</td>\n",
       "    </tr>\n",
       "    <tr>\n",
       "      <th>199</th>\n",
       "      <td>50</td>\n",
       "      <td>95</td>\n",
       "      <td>45</td>\n",
       "      <td>85</td>\n",
       "    </tr>\n",
       "  </tbody>\n",
       "</table>\n",
       "<p>93 rows × 4 columns</p>\n",
       "</div>"
      ],
      "text/plain": [
       "     att  rep  mid  fin\n",
       "0     65   45    0   10\n",
       "2     65   85   15   20\n",
       "4     80   60   55   70\n",
       "5     75   40   75   85\n",
       "6     65   70   60   75\n",
       "..   ...  ...  ...  ...\n",
       "194   65   40   65   70\n",
       "195   55   70   40   95\n",
       "196   65   85   25   85\n",
       "198   80   65   35   60\n",
       "199   50   95   45   85\n",
       "\n",
       "[93 rows x 4 columns]"
      ]
     },
     "execution_count": 229,
     "metadata": {},
     "output_type": "execute_result"
    }
   ],
   "source": [
    "df.iloc[list((df.mid<df.fin))]"
   ]
  },
  {
   "cell_type": "code",
   "execution_count": 230,
   "id": "98d5eb71-cf0d-4b36-ac62-a97cf4443ff0",
   "metadata": {},
   "outputs": [
    {
     "data": {
      "text/html": [
       "<div>\n",
       "<style scoped>\n",
       "    .dataframe tbody tr th:only-of-type {\n",
       "        vertical-align: middle;\n",
       "    }\n",
       "\n",
       "    .dataframe tbody tr th {\n",
       "        vertical-align: top;\n",
       "    }\n",
       "\n",
       "    .dataframe thead th {\n",
       "        text-align: right;\n",
       "    }\n",
       "</style>\n",
       "<table border=\"1\" class=\"dataframe\">\n",
       "  <thead>\n",
       "    <tr style=\"text-align: right;\">\n",
       "      <th></th>\n",
       "      <th>att</th>\n",
       "      <th>rep</th>\n",
       "      <th>mid</th>\n",
       "      <th>fin</th>\n",
       "    </tr>\n",
       "  </thead>\n",
       "  <tbody>\n",
       "    <tr>\n",
       "      <th>0</th>\n",
       "      <td>65</td>\n",
       "      <td>45</td>\n",
       "      <td>0</td>\n",
       "      <td>10</td>\n",
       "    </tr>\n",
       "    <tr>\n",
       "      <th>2</th>\n",
       "      <td>65</td>\n",
       "      <td>85</td>\n",
       "      <td>15</td>\n",
       "      <td>20</td>\n",
       "    </tr>\n",
       "    <tr>\n",
       "      <th>4</th>\n",
       "      <td>80</td>\n",
       "      <td>60</td>\n",
       "      <td>55</td>\n",
       "      <td>70</td>\n",
       "    </tr>\n",
       "    <tr>\n",
       "      <th>5</th>\n",
       "      <td>75</td>\n",
       "      <td>40</td>\n",
       "      <td>75</td>\n",
       "      <td>85</td>\n",
       "    </tr>\n",
       "    <tr>\n",
       "      <th>6</th>\n",
       "      <td>65</td>\n",
       "      <td>70</td>\n",
       "      <td>60</td>\n",
       "      <td>75</td>\n",
       "    </tr>\n",
       "    <tr>\n",
       "      <th>...</th>\n",
       "      <td>...</td>\n",
       "      <td>...</td>\n",
       "      <td>...</td>\n",
       "      <td>...</td>\n",
       "    </tr>\n",
       "    <tr>\n",
       "      <th>194</th>\n",
       "      <td>65</td>\n",
       "      <td>40</td>\n",
       "      <td>65</td>\n",
       "      <td>70</td>\n",
       "    </tr>\n",
       "    <tr>\n",
       "      <th>195</th>\n",
       "      <td>55</td>\n",
       "      <td>70</td>\n",
       "      <td>40</td>\n",
       "      <td>95</td>\n",
       "    </tr>\n",
       "    <tr>\n",
       "      <th>196</th>\n",
       "      <td>65</td>\n",
       "      <td>85</td>\n",
       "      <td>25</td>\n",
       "      <td>85</td>\n",
       "    </tr>\n",
       "    <tr>\n",
       "      <th>198</th>\n",
       "      <td>80</td>\n",
       "      <td>65</td>\n",
       "      <td>35</td>\n",
       "      <td>60</td>\n",
       "    </tr>\n",
       "    <tr>\n",
       "      <th>199</th>\n",
       "      <td>50</td>\n",
       "      <td>95</td>\n",
       "      <td>45</td>\n",
       "      <td>85</td>\n",
       "    </tr>\n",
       "  </tbody>\n",
       "</table>\n",
       "<p>93 rows × 4 columns</p>\n",
       "</div>"
      ],
      "text/plain": [
       "     att  rep  mid  fin\n",
       "0     65   45    0   10\n",
       "2     65   85   15   20\n",
       "4     80   60   55   70\n",
       "5     75   40   75   85\n",
       "6     65   70   60   75\n",
       "..   ...  ...  ...  ...\n",
       "194   65   40   65   70\n",
       "195   55   70   40   95\n",
       "196   65   85   25   85\n",
       "198   80   65   35   60\n",
       "199   50   95   45   85\n",
       "\n",
       "[93 rows x 4 columns]"
      ]
     },
     "execution_count": 230,
     "metadata": {},
     "output_type": "execute_result"
    }
   ],
   "source": [
    "df[list(map(lambda x,y: x<y, df.mid, df.fin))]"
   ]
  },
  {
   "cell_type": "markdown",
   "id": "89b22d05-d075-4633-aff6-03dfb555b013",
   "metadata": {},
   "source": [
    "`(2)` 기말고사 성적이 중간고사 성적보다 향상된 학생들의 출석과 레포트 점수를 출력하라. "
   ]
  },
  {
   "cell_type": "code",
   "execution_count": 245,
   "id": "afdf0347-5bf7-45b5-8fd2-19376e2bacae",
   "metadata": {},
   "outputs": [],
   "source": [
    "df2 = df.query('mid<fin').copy()"
   ]
  },
  {
   "cell_type": "code",
   "execution_count": 253,
   "id": "e697d67c-e54e-47bf-b923-d4d693b3ddc3",
   "metadata": {},
   "outputs": [
    {
     "data": {
      "text/html": [
       "<div>\n",
       "<style scoped>\n",
       "    .dataframe tbody tr th:only-of-type {\n",
       "        vertical-align: middle;\n",
       "    }\n",
       "\n",
       "    .dataframe tbody tr th {\n",
       "        vertical-align: top;\n",
       "    }\n",
       "\n",
       "    .dataframe thead th {\n",
       "        text-align: right;\n",
       "    }\n",
       "</style>\n",
       "<table border=\"1\" class=\"dataframe\">\n",
       "  <thead>\n",
       "    <tr style=\"text-align: right;\">\n",
       "      <th></th>\n",
       "      <th>att</th>\n",
       "      <th>rep</th>\n",
       "      <th>mid</th>\n",
       "      <th>fin</th>\n",
       "    </tr>\n",
       "  </thead>\n",
       "  <tbody>\n",
       "    <tr>\n",
       "      <th>0</th>\n",
       "      <td>65</td>\n",
       "      <td>45</td>\n",
       "      <td>0</td>\n",
       "      <td>10</td>\n",
       "    </tr>\n",
       "    <tr>\n",
       "      <th>2</th>\n",
       "      <td>65</td>\n",
       "      <td>85</td>\n",
       "      <td>15</td>\n",
       "      <td>20</td>\n",
       "    </tr>\n",
       "    <tr>\n",
       "      <th>4</th>\n",
       "      <td>80</td>\n",
       "      <td>60</td>\n",
       "      <td>55</td>\n",
       "      <td>70</td>\n",
       "    </tr>\n",
       "    <tr>\n",
       "      <th>5</th>\n",
       "      <td>75</td>\n",
       "      <td>40</td>\n",
       "      <td>75</td>\n",
       "      <td>85</td>\n",
       "    </tr>\n",
       "    <tr>\n",
       "      <th>6</th>\n",
       "      <td>65</td>\n",
       "      <td>70</td>\n",
       "      <td>60</td>\n",
       "      <td>75</td>\n",
       "    </tr>\n",
       "  </tbody>\n",
       "</table>\n",
       "</div>"
      ],
      "text/plain": [
       "   att  rep  mid  fin\n",
       "0   65   45    0   10\n",
       "2   65   85   15   20\n",
       "4   80   60   55   70\n",
       "5   75   40   75   85\n",
       "6   65   70   60   75"
      ]
     },
     "execution_count": 253,
     "metadata": {},
     "output_type": "execute_result"
    }
   ],
   "source": [
    "df2.head()"
   ]
  },
  {
   "cell_type": "code",
   "execution_count": 256,
   "id": "3d0e29fd-e76d-4c98-8cfa-3d31662c44c3",
   "metadata": {},
   "outputs": [
    {
     "data": {
      "text/html": [
       "<div>\n",
       "<style scoped>\n",
       "    .dataframe tbody tr th:only-of-type {\n",
       "        vertical-align: middle;\n",
       "    }\n",
       "\n",
       "    .dataframe tbody tr th {\n",
       "        vertical-align: top;\n",
       "    }\n",
       "\n",
       "    .dataframe thead th {\n",
       "        text-align: right;\n",
       "    }\n",
       "</style>\n",
       "<table border=\"1\" class=\"dataframe\">\n",
       "  <thead>\n",
       "    <tr style=\"text-align: right;\">\n",
       "      <th></th>\n",
       "      <th>att</th>\n",
       "      <th>rep</th>\n",
       "    </tr>\n",
       "  </thead>\n",
       "  <tbody>\n",
       "    <tr>\n",
       "      <th>0</th>\n",
       "      <td>65</td>\n",
       "      <td>45</td>\n",
       "    </tr>\n",
       "    <tr>\n",
       "      <th>2</th>\n",
       "      <td>65</td>\n",
       "      <td>85</td>\n",
       "    </tr>\n",
       "    <tr>\n",
       "      <th>4</th>\n",
       "      <td>80</td>\n",
       "      <td>60</td>\n",
       "    </tr>\n",
       "    <tr>\n",
       "      <th>5</th>\n",
       "      <td>75</td>\n",
       "      <td>40</td>\n",
       "    </tr>\n",
       "    <tr>\n",
       "      <th>6</th>\n",
       "      <td>65</td>\n",
       "      <td>70</td>\n",
       "    </tr>\n",
       "    <tr>\n",
       "      <th>...</th>\n",
       "      <td>...</td>\n",
       "      <td>...</td>\n",
       "    </tr>\n",
       "    <tr>\n",
       "      <th>194</th>\n",
       "      <td>65</td>\n",
       "      <td>40</td>\n",
       "    </tr>\n",
       "    <tr>\n",
       "      <th>195</th>\n",
       "      <td>55</td>\n",
       "      <td>70</td>\n",
       "    </tr>\n",
       "    <tr>\n",
       "      <th>196</th>\n",
       "      <td>65</td>\n",
       "      <td>85</td>\n",
       "    </tr>\n",
       "    <tr>\n",
       "      <th>198</th>\n",
       "      <td>80</td>\n",
       "      <td>65</td>\n",
       "    </tr>\n",
       "    <tr>\n",
       "      <th>199</th>\n",
       "      <td>50</td>\n",
       "      <td>95</td>\n",
       "    </tr>\n",
       "  </tbody>\n",
       "</table>\n",
       "<p>93 rows × 2 columns</p>\n",
       "</div>"
      ],
      "text/plain": [
       "     att  rep\n",
       "0     65   45\n",
       "2     65   85\n",
       "4     80   60\n",
       "5     75   40\n",
       "6     65   70\n",
       "..   ...  ...\n",
       "194   65   40\n",
       "195   55   70\n",
       "196   65   85\n",
       "198   80   65\n",
       "199   50   95\n",
       "\n",
       "[93 rows x 2 columns]"
      ]
     },
     "execution_count": 256,
     "metadata": {},
     "output_type": "execute_result"
    }
   ],
   "source": [
    "df2.loc[:,['att','rep']]"
   ]
  },
  {
   "cell_type": "markdown",
   "id": "cbeef706-1d1b-4163-b58b-2c92e2f27bbd",
   "metadata": {},
   "source": [
    "- df2로 받는 방법 말고 다른 방법이 또 있을 거 같은뎀,, "
   ]
  }
 ],
 "metadata": {
  "kernelspec": {
   "display_name": "Python 3",
   "language": "python",
   "name": "python3"
  },
  "language_info": {
   "codemirror_mode": {
    "name": "ipython",
    "version": 3
   },
   "file_extension": ".py",
   "mimetype": "text/x-python",
   "name": "python",
   "nbconvert_exporter": "python",
   "pygments_lexer": "ipython3",
   "version": "3.7.16"
  }
 },
 "nbformat": 4,
 "nbformat_minor": 5
}
