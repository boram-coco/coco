{
 "cells": [
  {
   "cell_type": "code",
   "execution_count": null,
   "id": "9b5421ad-eb93-493c-88cc-4e9a3911f4f3",
   "metadata": {},
   "outputs": [],
   "source": []
  },
  {
   "cell_type": "raw",
   "id": "3cf1677f-8339-4ce9-a1a5-40eeb6361227",
   "metadata": {},
   "source": [
    "---\n",
    "title: \"다층 퍼셉트론과 딥러닝\"\n",
    "author: \"김보람\"\n",
    "date: \"04/24/2023\"\n",
    "categories:\n",
    "  - 딥러닝\n",
    "  - 퍼셉트론\n",
    "---"
   ]
  },
  {
   "cell_type": "markdown",
   "id": "9da72937-87bb-41f7-a0c3-7b2b4753deff",
   "metadata": {},
   "source": [
    "# ref"
   ]
  },
  {
   "cell_type": "markdown",
   "id": "1b7e1376-3d9a-4a59-8ac5-e062c011ac2a",
   "metadata": {},
   "source": [
    "- [파이썬 데이터 분석](http://www.yes24.com/Product/Goods/108023856)"
   ]
  },
  {
   "cell_type": "markdown",
   "id": "7a13e33f-17a1-426d-bf88-f039d8c7e759",
   "metadata": {},
   "source": [
    "# XOR연산"
   ]
  },
  {
   "cell_type": "markdown",
   "id": "448e36e0-1ce9-4fd8-beac-d9f5a6f1323b",
   "metadata": {},
   "source": [
    "## 1. 패키지 설정"
   ]
  },
  {
   "cell_type": "code",
   "execution_count": 1,
   "id": "cf38f8a2-d1dc-4cdd-82f4-4ae44218ae17",
   "metadata": {},
   "outputs": [],
   "source": [
    "from sklearn.neural_network import MLPClassifier\n",
    "import numpy as np"
   ]
  },
  {
   "cell_type": "markdown",
   "id": "e81f660f-546f-4c5e-95d2-1fbd6bd01024",
   "metadata": {},
   "source": [
    "## 2. 데이터 작성"
   ]
  },
  {
   "cell_type": "code",
   "execution_count": 2,
   "id": "5e950716-537e-4d2b-bb3d-a566961582c9",
   "metadata": {},
   "outputs": [],
   "source": [
    "X=np.array([[0,0],[0,1],[1,0],[1,1]])\n",
    "y=np.array([0,1,1,0])"
   ]
  },
  {
   "cell_type": "markdown",
   "id": "0cd3f8be-f168-4195-8782-a74b77b8f42e",
   "metadata": {},
   "source": [
    "- 입력 값, 목표 값 작성"
   ]
  },
  {
   "cell_type": "markdown",
   "id": "7f93f263-a2bb-4dee-985b-88df95caf959",
   "metadata": {},
   "source": [
    "## 3. 모형화"
   ]
  },
  {
   "cell_type": "code",
   "execution_count": 4,
   "id": "f8147b42-a4b8-427f-92a4-3aa838232ad6",
   "metadata": {},
   "outputs": [],
   "source": [
    "model=MLPClassifier(hidden_layer_sizes=(2),\n",
    "                    activation='logistic',\n",
    "                    solver='lbfgs',\n",
    "                    max_iter=100)"
   ]
  },
  {
   "cell_type": "markdown",
   "id": "e313c478-36ff-49f5-b8cf-0ea85282e4d8",
   "metadata": {},
   "source": [
    "## 4. 학습"
   ]
  },
  {
   "cell_type": "code",
   "execution_count": 5,
   "id": "8a05b95b-41bc-475e-8510-affd1c2c4315",
   "metadata": {},
   "outputs": [
    {
     "data": {
      "text/html": [
       "<style>#sk-container-id-1 {color: black;background-color: white;}#sk-container-id-1 pre{padding: 0;}#sk-container-id-1 div.sk-toggleable {background-color: white;}#sk-container-id-1 label.sk-toggleable__label {cursor: pointer;display: block;width: 100%;margin-bottom: 0;padding: 0.3em;box-sizing: border-box;text-align: center;}#sk-container-id-1 label.sk-toggleable__label-arrow:before {content: \"▸\";float: left;margin-right: 0.25em;color: #696969;}#sk-container-id-1 label.sk-toggleable__label-arrow:hover:before {color: black;}#sk-container-id-1 div.sk-estimator:hover label.sk-toggleable__label-arrow:before {color: black;}#sk-container-id-1 div.sk-toggleable__content {max-height: 0;max-width: 0;overflow: hidden;text-align: left;background-color: #f0f8ff;}#sk-container-id-1 div.sk-toggleable__content pre {margin: 0.2em;color: black;border-radius: 0.25em;background-color: #f0f8ff;}#sk-container-id-1 input.sk-toggleable__control:checked~div.sk-toggleable__content {max-height: 200px;max-width: 100%;overflow: auto;}#sk-container-id-1 input.sk-toggleable__control:checked~label.sk-toggleable__label-arrow:before {content: \"▾\";}#sk-container-id-1 div.sk-estimator input.sk-toggleable__control:checked~label.sk-toggleable__label {background-color: #d4ebff;}#sk-container-id-1 div.sk-label input.sk-toggleable__control:checked~label.sk-toggleable__label {background-color: #d4ebff;}#sk-container-id-1 input.sk-hidden--visually {border: 0;clip: rect(1px 1px 1px 1px);clip: rect(1px, 1px, 1px, 1px);height: 1px;margin: -1px;overflow: hidden;padding: 0;position: absolute;width: 1px;}#sk-container-id-1 div.sk-estimator {font-family: monospace;background-color: #f0f8ff;border: 1px dotted black;border-radius: 0.25em;box-sizing: border-box;margin-bottom: 0.5em;}#sk-container-id-1 div.sk-estimator:hover {background-color: #d4ebff;}#sk-container-id-1 div.sk-parallel-item::after {content: \"\";width: 100%;border-bottom: 1px solid gray;flex-grow: 1;}#sk-container-id-1 div.sk-label:hover label.sk-toggleable__label {background-color: #d4ebff;}#sk-container-id-1 div.sk-serial::before {content: \"\";position: absolute;border-left: 1px solid gray;box-sizing: border-box;top: 0;bottom: 0;left: 50%;z-index: 0;}#sk-container-id-1 div.sk-serial {display: flex;flex-direction: column;align-items: center;background-color: white;padding-right: 0.2em;padding-left: 0.2em;position: relative;}#sk-container-id-1 div.sk-item {position: relative;z-index: 1;}#sk-container-id-1 div.sk-parallel {display: flex;align-items: stretch;justify-content: center;background-color: white;position: relative;}#sk-container-id-1 div.sk-item::before, #sk-container-id-1 div.sk-parallel-item::before {content: \"\";position: absolute;border-left: 1px solid gray;box-sizing: border-box;top: 0;bottom: 0;left: 50%;z-index: -1;}#sk-container-id-1 div.sk-parallel-item {display: flex;flex-direction: column;z-index: 1;position: relative;background-color: white;}#sk-container-id-1 div.sk-parallel-item:first-child::after {align-self: flex-end;width: 50%;}#sk-container-id-1 div.sk-parallel-item:last-child::after {align-self: flex-start;width: 50%;}#sk-container-id-1 div.sk-parallel-item:only-child::after {width: 0;}#sk-container-id-1 div.sk-dashed-wrapped {border: 1px dashed gray;margin: 0 0.4em 0.5em 0.4em;box-sizing: border-box;padding-bottom: 0.4em;background-color: white;}#sk-container-id-1 div.sk-label label {font-family: monospace;font-weight: bold;display: inline-block;line-height: 1.2em;}#sk-container-id-1 div.sk-label-container {text-align: center;}#sk-container-id-1 div.sk-container {/* jupyter's `normalize.less` sets `[hidden] { display: none; }` but bootstrap.min.css set `[hidden] { display: none !important; }` so we also need the `!important` here to be able to override the default hidden behavior on the sphinx rendered scikit-learn.org. See: https://github.com/scikit-learn/scikit-learn/issues/21755 */display: inline-block !important;position: relative;}#sk-container-id-1 div.sk-text-repr-fallback {display: none;}</style><div id=\"sk-container-id-1\" class=\"sk-top-container\"><div class=\"sk-text-repr-fallback\"><pre>MLPClassifier(activation=&#x27;logistic&#x27;, hidden_layer_sizes=2, max_iter=100,\n",
       "              solver=&#x27;lbfgs&#x27;)</pre><b>In a Jupyter environment, please rerun this cell to show the HTML representation or trust the notebook. <br />On GitHub, the HTML representation is unable to render, please try loading this page with nbviewer.org.</b></div><div class=\"sk-container\" hidden><div class=\"sk-item\"><div class=\"sk-estimator sk-toggleable\"><input class=\"sk-toggleable__control sk-hidden--visually\" id=\"sk-estimator-id-1\" type=\"checkbox\" checked><label for=\"sk-estimator-id-1\" class=\"sk-toggleable__label sk-toggleable__label-arrow\">MLPClassifier</label><div class=\"sk-toggleable__content\"><pre>MLPClassifier(activation=&#x27;logistic&#x27;, hidden_layer_sizes=2, max_iter=100,\n",
       "              solver=&#x27;lbfgs&#x27;)</pre></div></div></div></div></div>"
      ],
      "text/plain": [
       "MLPClassifier(activation='logistic', hidden_layer_sizes=2, max_iter=100,\n",
       "              solver='lbfgs')"
      ]
     },
     "execution_count": 5,
     "metadata": {},
     "output_type": "execute_result"
    }
   ],
   "source": [
    "model.fit(X,y)"
   ]
  },
  {
   "cell_type": "markdown",
   "id": "3a9ee3ef-1d32-4f3f-b04e-56ada71021b2",
   "metadata": {},
   "source": [
    "## 5. 예측"
   ]
  },
  {
   "cell_type": "code",
   "execution_count": 6,
   "id": "59963603-852c-482e-ba6f-0e5ec0c6581b",
   "metadata": {},
   "outputs": [
    {
     "name": "stdout",
     "output_type": "stream",
     "text": [
      "[0 0 1 0]\n"
     ]
    }
   ],
   "source": [
    "print(model.predict(X))"
   ]
  },
  {
   "cell_type": "markdown",
   "id": "97a0909c-4aca-4221-9eb0-52ee10415a8d",
   "metadata": {},
   "source": [
    "# 비선형 함수의 회귀분석"
   ]
  },
  {
   "cell_type": "markdown",
   "id": "6f4926b5-a6f5-4d71-98a5-98c17dd44b45",
   "metadata": {},
   "source": [
    "## 1. 패키지 설정"
   ]
  },
  {
   "cell_type": "code",
   "execution_count": 7,
   "id": "551e7767-7e8a-435b-9905-2667e648d7fd",
   "metadata": {},
   "outputs": [],
   "source": [
    "from sklearn.neural_network import MLPRegressor\n",
    "from sklearn.preprocessing import MinMaxScaler\n",
    "from sklearn.model_selection import train_test_split\n",
    "from sklearn.metrics import mean_absolute_percentage_error\n",
    "import numpy as np\n",
    "import matplotlib.pyplot as plt"
   ]
  },
  {
   "cell_type": "markdown",
   "id": "57c246c0-24b1-45d5-9d0a-989640270d6f",
   "metadata": {},
   "source": [
    "## 2. 데이터 준비"
   ]
  },
  {
   "cell_type": "code",
   "execution_count": 8,
   "id": "39e85a46-1cf2-4af8-98ac-f878e955cbca",
   "metadata": {},
   "outputs": [
    {
     "name": "stdout",
     "output_type": "stream",
     "text": [
      "[  1   2   3   4   5   6   7   8   9  10  11  12  13  14  15  16  17  18\n",
      "  19  20  21  22  23  24  25  26  27  28  29  30  31  32  33  34  35  36\n",
      "  37  38  39  40  41  42  43  44  45  46  47  48  49  50  51  52  53  54\n",
      "  55  56  57  58  59  60  61  62  63  64  65  66  67  68  69  70  71  72\n",
      "  73  74  75  76  77  78  79  80  81  82  83  84  85  86  87  88  89  90\n",
      "  91  92  93  94  95  96  97  98  99 100]\n"
     ]
    }
   ],
   "source": [
    "X=np.array(range(1,101))\n",
    "print(X)"
   ]
  },
  {
   "cell_type": "code",
   "execution_count": 9,
   "id": "7e957d1b-c67a-4563-a6b2-054493382835",
   "metadata": {},
   "outputs": [
    {
     "name": "stdout",
     "output_type": "stream",
     "text": [
      "[ 11175.5         39704.          51421.83333333  58832.\n",
      "  64437.5         69074.66666667  73103.64285714  76706.\n",
      "  79983.94444444  83000.          85795.04545455  88397.33333333\n",
      "  90827.34615385  93100.57142857  95229.16666667  97223.\n",
      "  99090.32352941 100838.22222222 102472.92105263 104000.\n",
      " 105424.54761905 106751.27272727 107984.58695652 109128.66666667\n",
      " 110187.5        111164.92307692 112064.64814815 112890.28571429\n",
      " 113645.36206897 114333.33333333 114957.59677419 115521.5\n",
      " 116028.34848485 116481.41176471 116883.92857143 117239.11111111\n",
      " 117550.14864865 117820.21052632 118052.44871795 118250.\n",
      " 118415.98780488 118553.52380952 118665.70930233 118755.63636364\n",
      " 118826.38888889 118881.04347826 118922.67021277 118954.33333333\n",
      " 118979.09183673 119000.         119020.10784314 119042.46153846\n",
      " 119070.10377358 119106.07407407 119153.40909091 119215.14285714\n",
      " 119294.30701754 119393.93103448 119517.04237288 119666.66666667\n",
      " 119845.82786885 120057.5483871  120304.84920635 120590.75\n",
      " 120918.26923077 121290.42424242 121710.23134328 122180.70588235\n",
      " 122704.86231884 123285.71428571 123926.27464789 124629.55555556\n",
      " 125398.56849315 126236.32432432 127145.83333333 128130.10526316\n",
      " 129192.14935065 130334.97435897 131561.58860759 132875.\n",
      " 134278.21604938 135774.24390244 137366.09036145 139056.76190476\n",
      " 140849.26470588 142746.60465116 144751.78735632 146867.81818182\n",
      " 149097.70224719 151444.44444444 153911.04945055 156500.52173913\n",
      " 159215.8655914  162060.08510638 165036.18421053 168147.16666667\n",
      " 171396.03608247 174785.79591837 178319.44949495 182000.        ]\n"
     ]
    }
   ],
   "source": [
    "y=0.5*(X-50)**3 - 50000/X + 120000\n",
    "print(y)"
   ]
  },
  {
   "cell_type": "markdown",
   "id": "5a7c8f50-6a74-4a8b-aafa-2f3e63b2e733",
   "metadata": {},
   "source": [
    "## 3. 탐색적 데이터 분석"
   ]
  },
  {
   "cell_type": "code",
   "execution_count": 10,
   "id": "e3939cd3-dd45-4fd4-abd4-b52334bf56b0",
   "metadata": {},
   "outputs": [
    {
     "data": {
      "image/png": "[encoded data removed]",
      "text/plain": [
       "<Figure size 640x480 with 1 Axes>"
      ]
     },
     "metadata": {},
     "output_type": "display_data"
    }
   ],
   "source": [
    "plt.scatter(X, y, color='b')\n",
    "plt.title('y=0.5*(X-50)**3 - 50000/X + 120000')\n",
    "plt.xlabel('X')\n",
    "plt.ylabel('y')\n",
    "plt.ylim(0,200000)\n",
    "plt.show()"
   ]
  },
  {
   "cell_type": "markdown",
   "id": "7c2fa0be-b65c-4d34-b601-66b3ebd1d72f",
   "metadata": {},
   "source": [
    "## 4. 데이터 분리"
   ]
  },
  {
   "cell_type": "code",
   "execution_count": 11,
   "id": "8f294f11-18ff-496f-b3a1-fc69b7a43be9",
   "metadata": {},
   "outputs": [],
   "source": [
    "X_train, X_test, y_train, y_test = train_test_split(X,y, test_size=0.3,\n",
    "                                                    random_state=1234)"
   ]
  },
  {
   "cell_type": "code",
   "execution_count": 12,
   "id": "2f2d4173-6d2e-4961-b166-352703af9af3",
   "metadata": {},
   "outputs": [
    {
     "name": "stdout",
     "output_type": "stream",
     "text": [
      "[  5  65  11  94  58  73  37   8  55  78  22  19  71  87  23   7  45   9\n",
      "  42  17  46  21  26  56  79  32  93   6  85  33  53  14  92  18  29  47\n",
      "  61  15  66  13  20   3   4   1  12  68  98  35  38  96  51 100  74  81\n",
      "  70  59  91  90  44  31  27  24  50  16  25  77  54  39  84  48]\n",
      "[41 36 82 62 99 69 86 28 40 43 34 60 64 95 57 88 97  2 72 83 10 52 30 89\n",
      " 76 75 63 67 80 49]\n"
     ]
    }
   ],
   "source": [
    "print(X_train)\n",
    "print(X_test)"
   ]
  },
  {
   "cell_type": "code",
   "execution_count": 13,
   "id": "ac4cd784-07a1-4a15-b647-1449f6bd6a0e",
   "metadata": {},
   "outputs": [
    {
     "name": "stdout",
     "output_type": "stream",
     "text": [
      "[ 64437.5        120918.26923077  85795.04545455 162060.08510638\n",
      " 119393.93103448 125398.56849315 117550.14864865  76706.\n",
      " 119153.40909091 130334.97435897 106751.27272727 102472.92105263\n",
      " 123926.27464789 144751.78735632 107984.58695652  73103.64285714\n",
      " 118826.38888889  79983.94444444 118553.52380952  99090.32352941\n",
      " 118881.04347826 105424.54761905 111164.92307692 119215.14285714\n",
      " 131561.58860759 115521.5        159215.8655914   69074.66666667\n",
      " 140849.26470588 116028.34848485 119070.10377358  93100.57142857\n",
      " 156500.52173913 100838.22222222 113645.36206897 118922.67021277\n",
      " 119845.82786885  95229.16666667 121290.42424242  90827.34615385\n",
      " 104000.          51421.83333333  58832.          11175.5\n",
      "  88397.33333333 122180.70588235 174785.79591837 116883.92857143\n",
      " 117820.21052632 168147.16666667 119020.10784314 182000.\n",
      " 126236.32432432 134278.21604938 123285.71428571 119517.04237288\n",
      " 153911.04945055 151444.44444444 118755.63636364 114957.59677419\n",
      " 112064.64814815 109128.66666667 119000.          97223.\n",
      " 110187.5        129192.14935065 119106.07407407 118052.44871795\n",
      " 139056.76190476 118954.33333333]\n",
      "[118415.98780488 117239.11111111 135774.24390244 120057.5483871\n",
      " 178319.44949495 122704.86231884 142746.60465116 112890.28571429\n",
      " 118250.         118665.70930233 116481.41176471 119666.66666667\n",
      " 120590.75       165036.18421053 119294.30701754 146867.81818182\n",
      " 171396.03608247  39704.         124629.55555556 137366.09036145\n",
      "  83000.         119042.46153846 114333.33333333 149097.70224719\n",
      " 128130.10526316 127145.83333333 120304.84920635 121710.23134328\n",
      " 132875.         118979.09183673]\n"
     ]
    }
   ],
   "source": [
    "print(y_train)\n",
    "print(y_test)"
   ]
  },
  {
   "cell_type": "markdown",
   "id": "5ae66551-5373-428a-a069-90783aa40044",
   "metadata": {},
   "source": [
    "## 5. 피처 스케일링"
   ]
  },
  {
   "cell_type": "code",
   "execution_count": 15,
   "id": "bc5859cb-4c99-48d4-acf2-16c862f62ada",
   "metadata": {},
   "outputs": [
    {
     "name": "stdout",
     "output_type": "stream",
     "text": [
      "[[  5]\n",
      " [ 65]\n",
      " [ 11]\n",
      " [ 94]\n",
      " [ 58]\n",
      " [ 73]\n",
      " [ 37]\n",
      " [  8]\n",
      " [ 55]\n",
      " [ 78]\n",
      " [ 22]\n",
      " [ 19]\n",
      " [ 71]\n",
      " [ 87]\n",
      " [ 23]\n",
      " [  7]\n",
      " [ 45]\n",
      " [  9]\n",
      " [ 42]\n",
      " [ 17]\n",
      " [ 46]\n",
      " [ 21]\n",
      " [ 26]\n",
      " [ 56]\n",
      " [ 79]\n",
      " [ 32]\n",
      " [ 93]\n",
      " [  6]\n",
      " [ 85]\n",
      " [ 33]\n",
      " [ 53]\n",
      " [ 14]\n",
      " [ 92]\n",
      " [ 18]\n",
      " [ 29]\n",
      " [ 47]\n",
      " [ 61]\n",
      " [ 15]\n",
      " [ 66]\n",
      " [ 13]\n",
      " [ 20]\n",
      " [  3]\n",
      " [  4]\n",
      " [  1]\n",
      " [ 12]\n",
      " [ 68]\n",
      " [ 98]\n",
      " [ 35]\n",
      " [ 38]\n",
      " [ 96]\n",
      " [ 51]\n",
      " [100]\n",
      " [ 74]\n",
      " [ 81]\n",
      " [ 70]\n",
      " [ 59]\n",
      " [ 91]\n",
      " [ 90]\n",
      " [ 44]\n",
      " [ 31]\n",
      " [ 27]\n",
      " [ 24]\n",
      " [ 50]\n",
      " [ 16]\n",
      " [ 25]\n",
      " [ 77]\n",
      " [ 54]\n",
      " [ 39]\n",
      " [ 84]\n",
      " [ 48]]\n"
     ]
    }
   ],
   "source": [
    "X_train = X_train.reshape(-1,1)\n",
    "X_test=X_test.reshape(-1,1)\n",
    "y_train=y_train.reshape(-1,1)\n",
    "y_test=y_test.reshape(-1,1)\n",
    "print(X_train)"
   ]
  },
  {
   "cell_type": "code",
   "execution_count": 16,
   "id": "c749f296-de34-4c2c-b991-8ff37116cd99",
   "metadata": {},
   "outputs": [],
   "source": [
    "scalerX=MinMaxScaler()\n",
    "scalerX.fit(X_train)\n",
    "X_train_norm=scalerX.transform(X_train)"
   ]
  },
  {
   "cell_type": "code",
   "execution_count": 17,
   "id": "25170792-0c42-481e-b90c-a8979a630353",
   "metadata": {},
   "outputs": [],
   "source": [
    "scalerY=MinMaxScaler()\n",
    "scalerY.fit(y_train)\n",
    "y_train_norm=scalerY.transform(y_train)"
   ]
  },
  {
   "cell_type": "code",
   "execution_count": 18,
   "id": "10b68d8f-a47a-45cf-a4b3-ff3672718864",
   "metadata": {},
   "outputs": [],
   "source": [
    "X_test_norm=scalerX.transform(X_test)\n",
    "y_test_norm=scalerY.transform(y_test)"
   ]
  },
  {
   "cell_type": "markdown",
   "id": "319d2641-93f0-467a-8011-ec25eb608478",
   "metadata": {},
   "source": [
    "## 6. 모형화 및 학습"
   ]
  },
  {
   "cell_type": "code",
   "execution_count": 20,
   "id": "a237f7ea-ed81-4797-8647-0958d09ea243",
   "metadata": {},
   "outputs": [],
   "source": [
    "model=MLPRegressor(hidden_layer_sizes=(4),\n",
    "                   activation='logistic',\n",
    "                   solver='lbfgs',\n",
    "                   max_iter=500)"
   ]
  },
  {
   "cell_type": "code",
   "execution_count": 21,
   "id": "3ac0ba3a-18d8-4849-bc00-359ee22d754b",
   "metadata": {},
   "outputs": [
    {
     "name": "stderr",
     "output_type": "stream",
     "text": [
      "/home/coco/anaconda3/envs/py38/lib/python3.8/site-packages/sklearn/neural_network/_multilayer_perceptron.py:1623: DataConversionWarning: A column-vector y was passed when a 1d array was expected. Please change the shape of y to (n_samples, ), for example using ravel().\n",
      "  y = column_or_1d(y, warn=True)\n"
     ]
    },
    {
     "data": {
      "text/html": [
       "<style>#sk-container-id-2 {color: black;background-color: white;}#sk-container-id-2 pre{padding: 0;}#sk-container-id-2 div.sk-toggleable {background-color: white;}#sk-container-id-2 label.sk-toggleable__label {cursor: pointer;display: block;width: 100%;margin-bottom: 0;padding: 0.3em;box-sizing: border-box;text-align: center;}#sk-container-id-2 label.sk-toggleable__label-arrow:before {content: \"▸\";float: left;margin-right: 0.25em;color: #696969;}#sk-container-id-2 label.sk-toggleable__label-arrow:hover:before {color: black;}#sk-container-id-2 div.sk-estimator:hover label.sk-toggleable__label-arrow:before {color: black;}#sk-container-id-2 div.sk-toggleable__content {max-height: 0;max-width: 0;overflow: hidden;text-align: left;background-color: #f0f8ff;}#sk-container-id-2 div.sk-toggleable__content pre {margin: 0.2em;color: black;border-radius: 0.25em;background-color: #f0f8ff;}#sk-container-id-2 input.sk-toggleable__control:checked~div.sk-toggleable__content {max-height: 200px;max-width: 100%;overflow: auto;}#sk-container-id-2 input.sk-toggleable__control:checked~label.sk-toggleable__label-arrow:before {content: \"▾\";}#sk-container-id-2 div.sk-estimator input.sk-toggleable__control:checked~label.sk-toggleable__label {background-color: #d4ebff;}#sk-container-id-2 div.sk-label input.sk-toggleable__control:checked~label.sk-toggleable__label {background-color: #d4ebff;}#sk-container-id-2 input.sk-hidden--visually {border: 0;clip: rect(1px 1px 1px 1px);clip: rect(1px, 1px, 1px, 1px);height: 1px;margin: -1px;overflow: hidden;padding: 0;position: absolute;width: 1px;}#sk-container-id-2 div.sk-estimator {font-family: monospace;background-color: #f0f8ff;border: 1px dotted black;border-radius: 0.25em;box-sizing: border-box;margin-bottom: 0.5em;}#sk-container-id-2 div.sk-estimator:hover {background-color: #d4ebff;}#sk-container-id-2 div.sk-parallel-item::after {content: \"\";width: 100%;border-bottom: 1px solid gray;flex-grow: 1;}#sk-container-id-2 div.sk-label:hover label.sk-toggleable__label {background-color: #d4ebff;}#sk-container-id-2 div.sk-serial::before {content: \"\";position: absolute;border-left: 1px solid gray;box-sizing: border-box;top: 0;bottom: 0;left: 50%;z-index: 0;}#sk-container-id-2 div.sk-serial {display: flex;flex-direction: column;align-items: center;background-color: white;padding-right: 0.2em;padding-left: 0.2em;position: relative;}#sk-container-id-2 div.sk-item {position: relative;z-index: 1;}#sk-container-id-2 div.sk-parallel {display: flex;align-items: stretch;justify-content: center;background-color: white;position: relative;}#sk-container-id-2 div.sk-item::before, #sk-container-id-2 div.sk-parallel-item::before {content: \"\";position: absolute;border-left: 1px solid gray;box-sizing: border-box;top: 0;bottom: 0;left: 50%;z-index: -1;}#sk-container-id-2 div.sk-parallel-item {display: flex;flex-direction: column;z-index: 1;position: relative;background-color: white;}#sk-container-id-2 div.sk-parallel-item:first-child::after {align-self: flex-end;width: 50%;}#sk-container-id-2 div.sk-parallel-item:last-child::after {align-self: flex-start;width: 50%;}#sk-container-id-2 div.sk-parallel-item:only-child::after {width: 0;}#sk-container-id-2 div.sk-dashed-wrapped {border: 1px dashed gray;margin: 0 0.4em 0.5em 0.4em;box-sizing: border-box;padding-bottom: 0.4em;background-color: white;}#sk-container-id-2 div.sk-label label {font-family: monospace;font-weight: bold;display: inline-block;line-height: 1.2em;}#sk-container-id-2 div.sk-label-container {text-align: center;}#sk-container-id-2 div.sk-container {/* jupyter's `normalize.less` sets `[hidden] { display: none; }` but bootstrap.min.css set `[hidden] { display: none !important; }` so we also need the `!important` here to be able to override the default hidden behavior on the sphinx rendered scikit-learn.org. See: https://github.com/scikit-learn/scikit-learn/issues/21755 */display: inline-block !important;position: relative;}#sk-container-id-2 div.sk-text-repr-fallback {display: none;}</style><div id=\"sk-container-id-2\" class=\"sk-top-container\"><div class=\"sk-text-repr-fallback\"><pre>MLPRegressor(activation=&#x27;logistic&#x27;, hidden_layer_sizes=4, max_iter=500,\n",
       "             solver=&#x27;lbfgs&#x27;)</pre><b>In a Jupyter environment, please rerun this cell to show the HTML representation or trust the notebook. <br />On GitHub, the HTML representation is unable to render, please try loading this page with nbviewer.org.</b></div><div class=\"sk-container\" hidden><div class=\"sk-item\"><div class=\"sk-estimator sk-toggleable\"><input class=\"sk-toggleable__control sk-hidden--visually\" id=\"sk-estimator-id-2\" type=\"checkbox\" checked><label for=\"sk-estimator-id-2\" class=\"sk-toggleable__label sk-toggleable__label-arrow\">MLPRegressor</label><div class=\"sk-toggleable__content\"><pre>MLPRegressor(activation=&#x27;logistic&#x27;, hidden_layer_sizes=4, max_iter=500,\n",
       "             solver=&#x27;lbfgs&#x27;)</pre></div></div></div></div></div>"
      ],
      "text/plain": [
       "MLPRegressor(activation='logistic', hidden_layer_sizes=4, max_iter=500,\n",
       "             solver='lbfgs')"
      ]
     },
     "execution_count": 21,
     "metadata": {},
     "output_type": "execute_result"
    }
   ],
   "source": [
    "model.fit(X_train_norm,y_train_norm)"
   ]
  },
  {
   "cell_type": "markdown",
   "id": "42d61670-bda6-45e7-a95c-1427cf58fe2d",
   "metadata": {},
   "source": [
    "## 7. 예측"
   ]
  },
  {
   "cell_type": "code",
   "execution_count": 22,
   "id": "a1eb6265-63ed-4f1b-b9aa-64cb88a69691",
   "metadata": {},
   "outputs": [
    {
     "name": "stdout",
     "output_type": "stream",
     "text": [
      "[0.58532633 0.5596793  0.78666172 0.69076416 0.86381245 0.72489815\n",
      " 0.80520178 0.51832425 0.58021083 0.59553508 0.5493746  0.68090896\n",
      " 0.70057482 0.84605491 0.66604552 0.81438502 0.85496516 0.38241064\n",
      " 0.73934651 0.79131812 0.42434114 0.64106953 0.52869543 0.81895453\n",
      " 0.75843272 0.7536807  0.69567514 0.71520447 0.77730687 0.62596952]\n"
     ]
    }
   ],
   "source": [
    "y_pred=model.predict(X_test_norm)\n",
    "print(y_pred)"
   ]
  },
  {
   "cell_type": "code",
   "execution_count": 25,
   "id": "44c63a5a-9f08-4ae1-8213-83b07427497b",
   "metadata": {},
   "outputs": [],
   "source": [
    "# 데이터 구조의 변형\n",
    "y_pred=y_pred.reshape(-1,1)"
   ]
  },
  {
   "cell_type": "code",
   "execution_count": 26,
   "id": "59fcf993-5d99-4731-8c6e-ef3e984da2e4",
   "metadata": {},
   "outputs": [
    {
     "name": "stdout",
     "output_type": "stream",
     "text": [
      "[[111163.57767477]\n",
      " [106782.43697013]\n",
      " [145556.59434008]\n",
      " [129174.94277171]\n",
      " [158735.82920511]\n",
      " [135005.86461054]\n",
      " [148723.69087489]\n",
      " [ 99717.9814556 ]\n",
      " [110289.72571243]\n",
      " [112907.48205149]\n",
      " [105022.14122011]\n",
      " [127491.43180009]\n",
      " [130850.84418785]\n",
      " [155702.4069167 ]\n",
      " [124952.39323735]\n",
      " [150292.41387152]\n",
      " [157224.4958677 ]\n",
      " [ 76500.60587199]\n",
      " [137473.99775244]\n",
      " [146352.02276425]\n",
      " [ 83663.3625764 ]\n",
      " [120685.88219775]\n",
      " [101489.63200544]\n",
      " [151072.99795266]\n",
      " [140734.38957096]\n",
      " [139922.62822513]\n",
      " [130013.85862295]\n",
      " [133349.94535149]\n",
      " [143958.55773291]\n",
      " [118106.43080755]]\n"
     ]
    }
   ],
   "source": [
    "# 예측 값의 역변환\n",
    "y_pred_inverse=scalerY.inverse_transform(y_pred)\n",
    "print(y_pred_inverse)"
   ]
  },
  {
   "cell_type": "code",
   "execution_count": 27,
   "id": "d928cc70-76e1-4902-8318-bffc76ad1b00",
   "metadata": {},
   "outputs": [
    {
     "data": {
      "image/png": "[encoded data removed]",
      "text/plain": [
       "<Figure size 640x480 with 1 Axes>"
      ]
     },
     "metadata": {},
     "output_type": "display_data"
    }
   ],
   "source": [
    "plt.scatter(X,y, color='g')\n",
    "# 원데이터\n",
    "plt.title('y=0.5*(X-50)**3 - 50000/X + 120000')\n",
    "plt.xlabel('X')\n",
    "plt.ylabel('y')\n",
    "plt.ylim(0,200000)\n",
    "\n",
    "# 테스트데이터\n",
    "plt.scatter(X_test, y_pred_inverse, color='r')\n",
    "plt.show()"
   ]
  },
  {
   "cell_type": "code",
   "execution_count": 28,
   "id": "edceadfe-7747-44b7-acc5-ca1f80381de8",
   "metadata": {},
   "outputs": [
    {
     "name": "stdout",
     "output_type": "stream",
     "text": [
      "MAPE:0.10\n"
     ]
    }
   ],
   "source": [
    "print('MAPE:%.2f' % \n",
    "      mean_absolute_percentage_error(y_test,y_pred_inverse))"
   ]
  },
  {
   "cell_type": "code",
   "execution_count": null,
   "id": "86c21650-7f4f-443a-ad6c-6918e6193ca8",
   "metadata": {},
   "outputs": [],
   "source": []
  }
 ],
 "metadata": {
  "kernelspec": {
   "display_name": "Python 3 (ipykernel)",
   "language": "python",
   "name": "python3"
  },
  "language_info": {
   "codemirror_mode": {
    "name": "ipython",
    "version": 3
   },
   "file_extension": ".py",
   "mimetype": "text/x-python",
   "name": "python",
   "nbconvert_exporter": "python",
   "pygments_lexer": "ipython3",
   "version": "3.8.16"
  }
 },
 "nbformat": 4,
 "nbformat_minor": 5
}
