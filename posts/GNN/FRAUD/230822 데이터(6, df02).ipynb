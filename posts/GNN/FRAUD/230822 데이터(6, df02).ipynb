{
 "cells": [
  {
   "cell_type": "raw",
   "id": "7fa01b77-3570-41d4-b54b-97a69097fd8c",
   "metadata": {},
   "source": [
    "---\n",
    "title: \"[FRAUD] 데이터정리 시도(8.22 df02시도)\"\n",
    "author: \"김보람\"\n",
    "date: \"08/22/2023\"\n",
    "---"
   ]
  },
  {
   "cell_type": "markdown",
   "id": "b7967e3d-e46f-4991-af0e-571b295e239a",
   "metadata": {},
   "source": [
    "# imports"
   ]
  },
  {
   "cell_type": "code",
   "execution_count": null,
   "id": "c36d6b17-9b4c-4aea-b111-133e1afce57e",
   "metadata": {},
   "outputs": [],
   "source": [
    "import numpy as np\n",
    "import pandas as pd\n",
    "import matplotlib.pyplot as plt \n",
    "import networkx as nx\n",
    "import sklearn\n",
    "import torch\n",
    "\n",
    "# sklearn\n",
    "from sklearn import model_selection # split함수이용\n",
    "from sklearn import ensemble # RF,GBM\n",
    "from sklearn import metrics \n",
    "\n",
    "# embedding \n",
    "from node2vec import Node2Vec\n",
    "from node2vec.edges import HadamardEmbedder, AverageEmbedder, WeightedL1Embedder, WeightedL2Embedder"
   ]
  },
  {
   "cell_type": "code",
   "execution_count": null,
   "id": "2774d96b-b24a-492b-a587-2815ff6e3ead",
   "metadata": {},
   "outputs": [],
   "source": [
    "def build_graph_bipartite(df_input, graph_type=nx.Graph()):\n",
    "    df=df_input.copy()\n",
    "    mapping={x:node_id for node_id, x in enumerate(set(df[\"cc_num\"].values.tolist()+\\\n",
    "                                                      df[\"merchant\"].values.tolist()))}\n",
    "    \n",
    "    df[\"from\"]=df[\"cc_num\"].apply(lambda x:mapping[x])  #엣지의 출발점\n",
    "    df[\"to\"]=df[\"merchant\"].apply(lambda x:mapping[x])  #엣지의 도착점\n",
    "    \n",
    "    df = df[['from', 'to', \"amt\", \"is_fraud\"]].groupby(['from','to']).agg({\"is_fraud\":\"sum\",\"amt\":\"sum\"}).reset_index()\n",
    "    df[\"is_fraud\"]=df[\"is_fraud\"].apply(lambda x:1 if x>0 else 0)\n",
    "    \n",
    "    G=nx.from_edgelist(df[[\"from\",\"to\"]].values, create_using=graph_type)\n",
    "    \n",
    "    nx.set_edge_attributes(G,{(int(x[\"from\"]),int(x[\"to\"])):x[\"is_fraud\"] for idx, x in df[[\"from\",\"to\",\"is_fraud\"]].iterrows()}, \"label\")  #엣지 속성 설정,각 속성의 사기 여부부     \n",
    "    nx.set_edge_attributes(G,{(int(x[\"from\"]),int(x[\"to\"])):x[\"amt\"] for idx,x in df[[\"from\",\"to\",\"amt\"]].iterrows()}, \"weight\") # 엣지 속성 설정, 각 엣지의 거래 금액\n",
    "\n",
    "    return G\n",
    "\n",
    "\n",
    "def build_graph_tripartite(df_input, graph_type=nx.Graph()):\n",
    "    df=df_input.copy()\n",
    "    mapping={x:node_id for node_id, x in enumerate(set(df.index.values.tolist() + \n",
    "                                                       df[\"cc_num\"].values.tolist() +\n",
    "                                                       df[\"merchant\"].values.tolist()))}\n",
    "    df[\"in_node\"]= df[\"cc_num\"].apply(lambda x: mapping[x])\n",
    "    df[\"out_node\"]=df[\"merchant\"].apply(lambda x:mapping[x])\n",
    "    \n",
    "        \n",
    "    G=nx.from_edgelist([(x[\"in_node\"], mapping[idx]) for idx, x in df.iterrows()] +\\\n",
    "                        [(x[\"out_node\"], mapping[idx]) for idx, x in df.iterrows()], create_using=graph_type)\n",
    "    \n",
    "    nx.set_edge_attributes(G,{(x[\"in_node\"], mapping[idx]):x[\"is_fraud\"] for idx, x in df.iterrows()}, \"label\")     \n",
    "    nx.set_edge_attributes(G,{(x[\"out_node\"], mapping[idx]):x[\"is_fraud\"] for idx, x in df.iterrows()}, \"label\")   \n",
    "    nx.set_edge_attributes(G,{(x[\"in_node\"], mapping[idx]):x[\"amt\"] for idx, x in df.iterrows()}, \"weight\")  \n",
    "    nx.set_edge_attributes(G,{(x[\"out_node\"], mapping[idx]):x[\"amt\"] for idx, x in df.iterrows()}, \"weight\")\n",
    "\n",
    "    return G\n",
    "    \n",
    "    \n",
    "def down_sample_textbook(df):\n",
    "    df_majority = df[df.is_fraud==0].copy()\n",
    "    df_minority = df[df.is_fraud==1].copy()\n",
    "    df_maj_dowsampled = sklearn.utils.resample(df_majority, n_samples=len(df_minority), replace=False, random_state=42)\n",
    "    df_downsampled = pd.concat([df_minority, df_maj_dowsampled])\n",
    "    return df_downsampled\n",
    "\n",
    "def embedding(Graph):\n",
    "    # Graph -> X (feature)\n",
    "    _edgs = list(Graph.edges)\n",
    "    subGraph = Graph.edge_subgraph([_edgs[x] for x in range(len(Graph.edges))]).copy()\n",
    "    subGraph.add_nodes_from(list(set(Graph.nodes) - set(subGraph.nodes)))    \n",
    "    embedded = AverageEmbedder(Node2Vec(subGraph, weight_key='weight').fit(window=10).wv)\n",
    "    X = [embedded[str(_edgs[x][0]), str(_edgs[x][1])] for x in range(len(Graph.edges))]\n",
    "    # Graph -> y (label)\n",
    "    y = np.array(list(nx.get_edge_attributes(Graph, \"label\").values()))\n",
    "    return X,y \n",
    "\n",
    "def anal(df):\n",
    "    Graph = build_graph_bipartite(df)\n",
    "    X,XX,y,yy = embedding(Graph)\n",
    "    lrnr = RandomForestClassifier(n_estimators=100, random_state=42) \n",
    "    lrnr.fit(X,y)\n",
    "    yyhat = lrnr.predict(XX)\n",
    "    df = pd.DataFrame({\n",
    "        'acc':[sklearn.metrics.accuracy_score(yy,yyhat)], \n",
    "        'pre':[sklearn.metrics.precision_score(yy,yyhat)], \n",
    "        'rec':[sklearn.metrics.recall_score(yy,yyhat)],\n",
    "        'f1':[sklearn.metrics.f1_score(yy,yyhat)]}\n",
    "    )    \n",
    "    return df\n",
    "\n",
    "def our_sampling1(df):\n",
    "    cus_list = set(df.query('is_fraud==1').cc_num.tolist())\n",
    "    return df.query(\"cc_num in @ cus_list\")"
   ]
  },
  {
   "cell_type": "code",
   "execution_count": null,
   "id": "7021dc07-8a06-417b-9fb6-c71b2f05e5eb",
   "metadata": {},
   "outputs": [],
   "source": [
    "fraudTrain = pd.read_csv(\"~/Desktop/fraudTrain.csv\").iloc[:,1:]"
   ]
  },
  {
   "cell_type": "code",
   "execution_count": null,
   "id": "eb7a9b2b-f984-4bb0-b14b-e523a00d8d38",
   "metadata": {},
   "outputs": [
    {
     "data": {
      "text/html": [
       "<div>\n",
       "<style scoped>\n",
       "    .dataframe tbody tr th:only-of-type {\n",
       "        vertical-align: middle;\n",
       "    }\n",
       "\n",
       "    .dataframe tbody tr th {\n",
       "        vertical-align: top;\n",
       "    }\n",
       "\n",
       "    .dataframe thead th {\n",
       "        text-align: right;\n",
       "    }\n",
       "</style>\n",
       "<table border=\"1\" class=\"dataframe\">\n",
       "  <thead>\n",
       "    <tr style=\"text-align: right;\">\n",
       "      <th></th>\n",
       "      <th>trans_date_trans_time</th>\n",
       "      <th>cc_num</th>\n",
       "      <th>merchant</th>\n",
       "      <th>category</th>\n",
       "      <th>amt</th>\n",
       "      <th>first</th>\n",
       "      <th>last</th>\n",
       "      <th>gender</th>\n",
       "      <th>street</th>\n",
       "      <th>city</th>\n",
       "      <th>...</th>\n",
       "      <th>lat</th>\n",
       "      <th>long</th>\n",
       "      <th>city_pop</th>\n",
       "      <th>job</th>\n",
       "      <th>dob</th>\n",
       "      <th>trans_num</th>\n",
       "      <th>unix_time</th>\n",
       "      <th>merch_lat</th>\n",
       "      <th>merch_long</th>\n",
       "      <th>is_fraud</th>\n",
       "    </tr>\n",
       "  </thead>\n",
       "  <tbody>\n",
       "    <tr>\n",
       "      <th>0</th>\n",
       "      <td>2019-01-01 00:00:00</td>\n",
       "      <td>2.703190e+15</td>\n",
       "      <td>fraud_Rippin, Kub and Mann</td>\n",
       "      <td>misc_net</td>\n",
       "      <td>4.97</td>\n",
       "      <td>Jennifer</td>\n",
       "      <td>Banks</td>\n",
       "      <td>F</td>\n",
       "      <td>561 Perry Cove</td>\n",
       "      <td>Moravian Falls</td>\n",
       "      <td>...</td>\n",
       "      <td>36.0788</td>\n",
       "      <td>-81.1781</td>\n",
       "      <td>3495</td>\n",
       "      <td>Psychologist, counselling</td>\n",
       "      <td>1988-03-09</td>\n",
       "      <td>0b242abb623afc578575680df30655b9</td>\n",
       "      <td>1325376018</td>\n",
       "      <td>36.011293</td>\n",
       "      <td>-82.048315</td>\n",
       "      <td>0</td>\n",
       "    </tr>\n",
       "    <tr>\n",
       "      <th>1</th>\n",
       "      <td>2019-01-01 00:00:00</td>\n",
       "      <td>6.304230e+11</td>\n",
       "      <td>fraud_Heller, Gutmann and Zieme</td>\n",
       "      <td>grocery_pos</td>\n",
       "      <td>107.23</td>\n",
       "      <td>Stephanie</td>\n",
       "      <td>Gill</td>\n",
       "      <td>F</td>\n",
       "      <td>43039 Riley Greens Suite 393</td>\n",
       "      <td>Orient</td>\n",
       "      <td>...</td>\n",
       "      <td>48.8878</td>\n",
       "      <td>-118.2105</td>\n",
       "      <td>149</td>\n",
       "      <td>Special educational needs teacher</td>\n",
       "      <td>1978-06-21</td>\n",
       "      <td>1f76529f8574734946361c461b024d99</td>\n",
       "      <td>1325376044</td>\n",
       "      <td>49.159047</td>\n",
       "      <td>-118.186462</td>\n",
       "      <td>0</td>\n",
       "    </tr>\n",
       "    <tr>\n",
       "      <th>2</th>\n",
       "      <td>2019-01-01 00:00:00</td>\n",
       "      <td>3.885950e+13</td>\n",
       "      <td>fraud_Lind-Buckridge</td>\n",
       "      <td>entertainment</td>\n",
       "      <td>220.11</td>\n",
       "      <td>Edward</td>\n",
       "      <td>Sanchez</td>\n",
       "      <td>M</td>\n",
       "      <td>594 White Dale Suite 530</td>\n",
       "      <td>Malad City</td>\n",
       "      <td>...</td>\n",
       "      <td>42.1808</td>\n",
       "      <td>-112.2620</td>\n",
       "      <td>4154</td>\n",
       "      <td>Nature conservation officer</td>\n",
       "      <td>1962-01-19</td>\n",
       "      <td>a1a22d70485983eac12b5b88dad1cf95</td>\n",
       "      <td>1325376051</td>\n",
       "      <td>43.150704</td>\n",
       "      <td>-112.154481</td>\n",
       "      <td>0</td>\n",
       "    </tr>\n",
       "    <tr>\n",
       "      <th>3</th>\n",
       "      <td>2019-01-01 00:01:00</td>\n",
       "      <td>3.534090e+15</td>\n",
       "      <td>fraud_Kutch, Hermiston and Farrell</td>\n",
       "      <td>gas_transport</td>\n",
       "      <td>45.00</td>\n",
       "      <td>Jeremy</td>\n",
       "      <td>White</td>\n",
       "      <td>M</td>\n",
       "      <td>9443 Cynthia Court Apt. 038</td>\n",
       "      <td>Boulder</td>\n",
       "      <td>...</td>\n",
       "      <td>46.2306</td>\n",
       "      <td>-112.1138</td>\n",
       "      <td>1939</td>\n",
       "      <td>Patent attorney</td>\n",
       "      <td>1967-01-12</td>\n",
       "      <td>6b849c168bdad6f867558c3793159a81</td>\n",
       "      <td>1325376076</td>\n",
       "      <td>47.034331</td>\n",
       "      <td>-112.561071</td>\n",
       "      <td>0</td>\n",
       "    </tr>\n",
       "    <tr>\n",
       "      <th>4</th>\n",
       "      <td>2019-01-01 00:03:00</td>\n",
       "      <td>3.755340e+14</td>\n",
       "      <td>fraud_Keeling-Crist</td>\n",
       "      <td>misc_pos</td>\n",
       "      <td>41.96</td>\n",
       "      <td>Tyler</td>\n",
       "      <td>Garcia</td>\n",
       "      <td>M</td>\n",
       "      <td>408 Bradley Rest</td>\n",
       "      <td>Doe Hill</td>\n",
       "      <td>...</td>\n",
       "      <td>38.4207</td>\n",
       "      <td>-79.4629</td>\n",
       "      <td>99</td>\n",
       "      <td>Dance movement psychotherapist</td>\n",
       "      <td>1986-03-28</td>\n",
       "      <td>a41d7549acf90789359a9aa5346dcb46</td>\n",
       "      <td>1325376186</td>\n",
       "      <td>38.674999</td>\n",
       "      <td>-78.632459</td>\n",
       "      <td>0</td>\n",
       "    </tr>\n",
       "    <tr>\n",
       "      <th>...</th>\n",
       "      <td>...</td>\n",
       "      <td>...</td>\n",
       "      <td>...</td>\n",
       "      <td>...</td>\n",
       "      <td>...</td>\n",
       "      <td>...</td>\n",
       "      <td>...</td>\n",
       "      <td>...</td>\n",
       "      <td>...</td>\n",
       "      <td>...</td>\n",
       "      <td>...</td>\n",
       "      <td>...</td>\n",
       "      <td>...</td>\n",
       "      <td>...</td>\n",
       "      <td>...</td>\n",
       "      <td>...</td>\n",
       "      <td>...</td>\n",
       "      <td>...</td>\n",
       "      <td>...</td>\n",
       "      <td>...</td>\n",
       "      <td>...</td>\n",
       "    </tr>\n",
       "    <tr>\n",
       "      <th>1048570</th>\n",
       "      <td>2020-03-10 16:07:00</td>\n",
       "      <td>6.011980e+15</td>\n",
       "      <td>fraud_Fadel Inc</td>\n",
       "      <td>health_fitness</td>\n",
       "      <td>77.00</td>\n",
       "      <td>Haley</td>\n",
       "      <td>Wagner</td>\n",
       "      <td>F</td>\n",
       "      <td>05561 Farrell Crescent</td>\n",
       "      <td>Annapolis</td>\n",
       "      <td>...</td>\n",
       "      <td>39.0305</td>\n",
       "      <td>-76.5515</td>\n",
       "      <td>92106</td>\n",
       "      <td>Accountant, chartered certified</td>\n",
       "      <td>1943-05-28</td>\n",
       "      <td>45ecd198c65e81e597db22e8d2ef7361</td>\n",
       "      <td>1362931649</td>\n",
       "      <td>38.779464</td>\n",
       "      <td>-76.317042</td>\n",
       "      <td>0</td>\n",
       "    </tr>\n",
       "    <tr>\n",
       "      <th>1048571</th>\n",
       "      <td>2020-03-10 16:07:00</td>\n",
       "      <td>4.839040e+15</td>\n",
       "      <td>fraud_Cremin, Hamill and Reichel</td>\n",
       "      <td>misc_pos</td>\n",
       "      <td>116.94</td>\n",
       "      <td>Meredith</td>\n",
       "      <td>Campbell</td>\n",
       "      <td>F</td>\n",
       "      <td>043 Hanson Turnpike</td>\n",
       "      <td>Hedrick</td>\n",
       "      <td>...</td>\n",
       "      <td>41.1826</td>\n",
       "      <td>-92.3097</td>\n",
       "      <td>1583</td>\n",
       "      <td>Geochemist</td>\n",
       "      <td>1999-06-28</td>\n",
       "      <td>c00ce51c6ebb7657474a77b9e0b51f34</td>\n",
       "      <td>1362931670</td>\n",
       "      <td>41.400318</td>\n",
       "      <td>-92.726724</td>\n",
       "      <td>0</td>\n",
       "    </tr>\n",
       "    <tr>\n",
       "      <th>1048572</th>\n",
       "      <td>2020-03-10 16:08:00</td>\n",
       "      <td>5.718440e+11</td>\n",
       "      <td>fraud_O'Connell, Botsford and Hand</td>\n",
       "      <td>home</td>\n",
       "      <td>21.27</td>\n",
       "      <td>Susan</td>\n",
       "      <td>Mills</td>\n",
       "      <td>F</td>\n",
       "      <td>005 Cody Estates</td>\n",
       "      <td>Louisville</td>\n",
       "      <td>...</td>\n",
       "      <td>38.2507</td>\n",
       "      <td>-85.7476</td>\n",
       "      <td>736284</td>\n",
       "      <td>Engineering geologist</td>\n",
       "      <td>1952-04-02</td>\n",
       "      <td>17c9dc8b2a6449ca2473726346e58e6c</td>\n",
       "      <td>1362931711</td>\n",
       "      <td>37.293339</td>\n",
       "      <td>-84.798122</td>\n",
       "      <td>0</td>\n",
       "    </tr>\n",
       "    <tr>\n",
       "      <th>1048573</th>\n",
       "      <td>2020-03-10 16:08:00</td>\n",
       "      <td>4.646850e+18</td>\n",
       "      <td>fraud_Thompson-Gleason</td>\n",
       "      <td>health_fitness</td>\n",
       "      <td>9.52</td>\n",
       "      <td>Julia</td>\n",
       "      <td>Bell</td>\n",
       "      <td>F</td>\n",
       "      <td>576 House Crossroad</td>\n",
       "      <td>West Sayville</td>\n",
       "      <td>...</td>\n",
       "      <td>40.7320</td>\n",
       "      <td>-73.1000</td>\n",
       "      <td>4056</td>\n",
       "      <td>Film/video editor</td>\n",
       "      <td>1990-06-25</td>\n",
       "      <td>5ca650881b48a6a38754f841c23b77ab</td>\n",
       "      <td>1362931718</td>\n",
       "      <td>39.773077</td>\n",
       "      <td>-72.213209</td>\n",
       "      <td>0</td>\n",
       "    </tr>\n",
       "    <tr>\n",
       "      <th>1048574</th>\n",
       "      <td>2020-03-10 16:08:00</td>\n",
       "      <td>2.283740e+15</td>\n",
       "      <td>fraud_Buckridge PLC</td>\n",
       "      <td>misc_pos</td>\n",
       "      <td>6.81</td>\n",
       "      <td>Shannon</td>\n",
       "      <td>Williams</td>\n",
       "      <td>F</td>\n",
       "      <td>9345 Spencer Junctions Suite 183</td>\n",
       "      <td>Alpharetta</td>\n",
       "      <td>...</td>\n",
       "      <td>34.0770</td>\n",
       "      <td>-84.3033</td>\n",
       "      <td>165556</td>\n",
       "      <td>Prison officer</td>\n",
       "      <td>1997-12-27</td>\n",
       "      <td>8d0a575fe635bbde12f1a2bffc126731</td>\n",
       "      <td>1362931730</td>\n",
       "      <td>33.601468</td>\n",
       "      <td>-83.891921</td>\n",
       "      <td>0</td>\n",
       "    </tr>\n",
       "  </tbody>\n",
       "</table>\n",
       "<p>1048575 rows × 22 columns</p>\n",
       "</div>"
      ],
      "text/plain": [
       "        trans_date_trans_time        cc_num  \\\n",
       "0         2019-01-01 00:00:00  2.703190e+15   \n",
       "1         2019-01-01 00:00:00  6.304230e+11   \n",
       "2         2019-01-01 00:00:00  3.885950e+13   \n",
       "3         2019-01-01 00:01:00  3.534090e+15   \n",
       "4         2019-01-01 00:03:00  3.755340e+14   \n",
       "...                       ...           ...   \n",
       "1048570   2020-03-10 16:07:00  6.011980e+15   \n",
       "1048571   2020-03-10 16:07:00  4.839040e+15   \n",
       "1048572   2020-03-10 16:08:00  5.718440e+11   \n",
       "1048573   2020-03-10 16:08:00  4.646850e+18   \n",
       "1048574   2020-03-10 16:08:00  2.283740e+15   \n",
       "\n",
       "                                   merchant        category     amt  \\\n",
       "0                fraud_Rippin, Kub and Mann        misc_net    4.97   \n",
       "1           fraud_Heller, Gutmann and Zieme     grocery_pos  107.23   \n",
       "2                      fraud_Lind-Buckridge   entertainment  220.11   \n",
       "3        fraud_Kutch, Hermiston and Farrell   gas_transport   45.00   \n",
       "4                       fraud_Keeling-Crist        misc_pos   41.96   \n",
       "...                                     ...             ...     ...   \n",
       "1048570                     fraud_Fadel Inc  health_fitness   77.00   \n",
       "1048571    fraud_Cremin, Hamill and Reichel        misc_pos  116.94   \n",
       "1048572  fraud_O'Connell, Botsford and Hand            home   21.27   \n",
       "1048573              fraud_Thompson-Gleason  health_fitness    9.52   \n",
       "1048574                 fraud_Buckridge PLC        misc_pos    6.81   \n",
       "\n",
       "             first      last gender                            street  \\\n",
       "0         Jennifer     Banks      F                    561 Perry Cove   \n",
       "1        Stephanie      Gill      F      43039 Riley Greens Suite 393   \n",
       "2           Edward   Sanchez      M          594 White Dale Suite 530   \n",
       "3           Jeremy     White      M       9443 Cynthia Court Apt. 038   \n",
       "4            Tyler    Garcia      M                  408 Bradley Rest   \n",
       "...            ...       ...    ...                               ...   \n",
       "1048570      Haley    Wagner      F            05561 Farrell Crescent   \n",
       "1048571   Meredith  Campbell      F               043 Hanson Turnpike   \n",
       "1048572      Susan     Mills      F                  005 Cody Estates   \n",
       "1048573      Julia      Bell      F               576 House Crossroad   \n",
       "1048574    Shannon  Williams      F  9345 Spencer Junctions Suite 183   \n",
       "\n",
       "                   city  ...      lat      long  city_pop  \\\n",
       "0        Moravian Falls  ...  36.0788  -81.1781      3495   \n",
       "1                Orient  ...  48.8878 -118.2105       149   \n",
       "2            Malad City  ...  42.1808 -112.2620      4154   \n",
       "3               Boulder  ...  46.2306 -112.1138      1939   \n",
       "4              Doe Hill  ...  38.4207  -79.4629        99   \n",
       "...                 ...  ...      ...       ...       ...   \n",
       "1048570       Annapolis  ...  39.0305  -76.5515     92106   \n",
       "1048571         Hedrick  ...  41.1826  -92.3097      1583   \n",
       "1048572      Louisville  ...  38.2507  -85.7476    736284   \n",
       "1048573   West Sayville  ...  40.7320  -73.1000      4056   \n",
       "1048574      Alpharetta  ...  34.0770  -84.3033    165556   \n",
       "\n",
       "                                       job         dob  \\\n",
       "0                Psychologist, counselling  1988-03-09   \n",
       "1        Special educational needs teacher  1978-06-21   \n",
       "2              Nature conservation officer  1962-01-19   \n",
       "3                          Patent attorney  1967-01-12   \n",
       "4           Dance movement psychotherapist  1986-03-28   \n",
       "...                                    ...         ...   \n",
       "1048570    Accountant, chartered certified  1943-05-28   \n",
       "1048571                         Geochemist  1999-06-28   \n",
       "1048572              Engineering geologist  1952-04-02   \n",
       "1048573                  Film/video editor  1990-06-25   \n",
       "1048574                     Prison officer  1997-12-27   \n",
       "\n",
       "                                trans_num   unix_time  merch_lat  merch_long  \\\n",
       "0        0b242abb623afc578575680df30655b9  1325376018  36.011293  -82.048315   \n",
       "1        1f76529f8574734946361c461b024d99  1325376044  49.159047 -118.186462   \n",
       "2        a1a22d70485983eac12b5b88dad1cf95  1325376051  43.150704 -112.154481   \n",
       "3        6b849c168bdad6f867558c3793159a81  1325376076  47.034331 -112.561071   \n",
       "4        a41d7549acf90789359a9aa5346dcb46  1325376186  38.674999  -78.632459   \n",
       "...                                   ...         ...        ...         ...   \n",
       "1048570  45ecd198c65e81e597db22e8d2ef7361  1362931649  38.779464  -76.317042   \n",
       "1048571  c00ce51c6ebb7657474a77b9e0b51f34  1362931670  41.400318  -92.726724   \n",
       "1048572  17c9dc8b2a6449ca2473726346e58e6c  1362931711  37.293339  -84.798122   \n",
       "1048573  5ca650881b48a6a38754f841c23b77ab  1362931718  39.773077  -72.213209   \n",
       "1048574  8d0a575fe635bbde12f1a2bffc126731  1362931730  33.601468  -83.891921   \n",
       "\n",
       "         is_fraud  \n",
       "0               0  \n",
       "1               0  \n",
       "2               0  \n",
       "3               0  \n",
       "4               0  \n",
       "...           ...  \n",
       "1048570         0  \n",
       "1048571         0  \n",
       "1048572         0  \n",
       "1048573         0  \n",
       "1048574         0  \n",
       "\n",
       "[1048575 rows x 22 columns]"
      ]
     },
     "execution_count": 123,
     "metadata": {},
     "output_type": "execute_result"
    }
   ],
   "source": [
    "fraudTrain = fraudTrain.assign(trans_date_trans_time= list(map(lambda x: pd.to_datetime(x), fraudTrain.trans_date_trans_time)))\n",
    "fraudTrain"
   ]
  },
  {
   "cell_type": "markdown",
   "id": "646be7a4-ac5c-4348-86c1-3beb0ed6d988",
   "metadata": {},
   "source": [
    "## 시도"
   ]
  },
  {
   "cell_type": "code",
   "execution_count": null,
   "id": "adec4c87-7a49-41dd-ba04-879643113486",
   "metadata": {},
   "outputs": [
    {
     "data": {
      "text/plain": [
       "(214520, 22)"
      ]
     },
     "execution_count": 124,
     "metadata": {},
     "output_type": "execute_result"
    }
   ],
   "source": [
    "_df1 = fraudTrain[fraudTrain[\"is_fraud\"] == 0].sample(frac=0.20, random_state=42)\n",
    "_df2 = fraudTrain[fraudTrain[\"is_fraud\"] == 1]\n",
    "df02 = pd.concat([_df1,_df2])\n",
    "df02.shape"
   ]
  },
  {
   "cell_type": "code",
   "execution_count": null,
   "id": "e5f7a074-a58e-417c-8f5a-d6a723cdd9f9",
   "metadata": {},
   "outputs": [],
   "source": []
  },
  {
   "cell_type": "code",
   "execution_count": 9,
   "id": "0d8983c1-b6c2-4331-9adf-14d799fb8460",
   "metadata": {},
   "outputs": [
    {
     "data": {
      "text/plain": [
       "46018830400"
      ]
     },
     "execution_count": 9,
     "metadata": {},
     "output_type": "execute_result"
    }
   ],
   "source": [
    "214520*214520"
   ]
  },
  {
   "cell_type": "code",
   "execution_count": 10,
   "id": "692528c5-1700-4670-85d5-392ef57be85d",
   "metadata": {},
   "outputs": [
    {
     "data": {
      "text/plain": [
       "0.028"
      ]
     },
     "execution_count": 10,
     "metadata": {},
     "output_type": "execute_result"
    }
   ],
   "source": [
    "df02.is_fraud.mean().round(5)"
   ]
  },
  {
   "cell_type": "markdown",
   "id": "d68b09bc-23ba-417c-b98c-1e9721781b21",
   "metadata": {},
   "source": [
    "- 사기거래 빈도.."
   ]
  },
  {
   "cell_type": "code",
   "execution_count": null,
   "id": "4f3c12b1-433f-41ac-85c0-c42ae389ba60",
   "metadata": {},
   "outputs": [],
   "source": [
    "df02 = df02.reset_index()"
   ]
  },
  {
   "cell_type": "code",
   "execution_count": null,
   "id": "7cef7094-bd9b-43d1-a1c9-d4b1c9b4241c",
   "metadata": {},
   "outputs": [],
   "source": [
    "N = len(df02)"
   ]
  },
  {
   "cell_type": "markdown",
   "id": "9eafa728-410f-4193-9c7d-be5f8ed7fa24",
   "metadata": {},
   "source": [
    "-------------------"
   ]
  },
  {
   "cell_type": "markdown",
   "id": "6e09a665-3f15-4e43-a2d7-843deb04db4e",
   "metadata": {},
   "source": [
    "### tr/test"
   ]
  },
  {
   "cell_type": "code",
   "execution_count": null,
   "id": "1746ec92-50c0-402d-8297-92cb67c718d5",
   "metadata": {},
   "outputs": [],
   "source": [
    "df02_tr,df02_test = sklearn.model_selection.train_test_split(df02, random_state=42)"
   ]
  },
  {
   "cell_type": "code",
   "execution_count": null,
   "id": "390c18d0-045c-4473-b1b2-3c8314cbdfbc",
   "metadata": {},
   "outputs": [
    {
     "data": {
      "text/plain": [
       "(0.02757, 0.02927)"
      ]
     },
     "execution_count": 128,
     "metadata": {},
     "output_type": "execute_result"
    }
   ],
   "source": [
    "df02_tr.is_fraud.mean().round(5), df02_test.is_fraud.mean().round(5)"
   ]
  },
  {
   "cell_type": "code",
   "execution_count": null,
   "id": "ba8e5c8a-e54e-4982-b4db-4e89f5239dfa",
   "metadata": {},
   "outputs": [
    {
     "data": {
      "text/plain": [
       "((160890, 23), (53630, 23))"
      ]
     },
     "execution_count": 129,
     "metadata": {},
     "output_type": "execute_result"
    }
   ],
   "source": [
    "df02_tr.shape, df02_test.shape"
   ]
  },
  {
   "cell_type": "code",
   "execution_count": null,
   "id": "c7632cdd-a4fb-42dc-8c53-b5d731c5278d",
   "metadata": {},
   "outputs": [
    {
     "name": "stdout",
     "output_type": "stream",
     "text": [
      "Train Mask: [ True  True  True ... False False False]\n",
      "Test Mask: [False False False ...  True  True  True]\n"
     ]
    }
   ],
   "source": [
    "train_mask = np.concatenate((np.full(160890, True), np.full(53630, False)))\n",
    "test_mask = np.concatenate((np.full(160890, False), np.full(53630, True)))\n",
    "print(\"Train Mask:\", train_mask)\n",
    "print(\"Test Mask:\", test_mask)"
   ]
  },
  {
   "cell_type": "code",
   "execution_count": null,
   "id": "1211b810-0238-4256-b14c-00e44833cf9e",
   "metadata": {},
   "outputs": [
    {
     "data": {
      "text/plain": [
       "(160890, 53630)"
      ]
     },
     "execution_count": 142,
     "metadata": {},
     "output_type": "execute_result"
    }
   ],
   "source": [
    "train_mask.sum(), test_mask.sum()"
   ]
  },
  {
   "cell_type": "code",
   "execution_count": null,
   "id": "30478e8f-390a-49f0-88ed-2c7a767df7f0",
   "metadata": {},
   "outputs": [],
   "source": [
    "df02_com = pd.concat([df02_tr, df02_test])"
   ]
  },
  {
   "cell_type": "code",
   "execution_count": null,
   "id": "4ee78777-95c8-40c4-acdd-6a0d539c6454",
   "metadata": {},
   "outputs": [],
   "source": [
    "df02_com = df02_com.reset_index()"
   ]
  },
  {
   "cell_type": "code",
   "execution_count": null,
   "id": "f60fff7c-9398-4e49-a98e-82c491ebd609",
   "metadata": {},
   "outputs": [],
   "source": [
    "np.save('df02_com.npy', df02_com)"
   ]
  },
  {
   "cell_type": "code",
   "execution_count": null,
   "id": "ff940f25-8de3-4e32-b00b-fc7d6b19a093",
   "metadata": {},
   "outputs": [
    {
     "data": {
      "text/html": [
       "<div>\n",
       "<style scoped>\n",
       "    .dataframe tbody tr th:only-of-type {\n",
       "        vertical-align: middle;\n",
       "    }\n",
       "\n",
       "    .dataframe tbody tr th {\n",
       "        vertical-align: top;\n",
       "    }\n",
       "\n",
       "    .dataframe thead th {\n",
       "        text-align: right;\n",
       "    }\n",
       "</style>\n",
       "<table border=\"1\" class=\"dataframe\">\n",
       "  <thead>\n",
       "    <tr style=\"text-align: right;\">\n",
       "      <th></th>\n",
       "      <th>level_0</th>\n",
       "      <th>index</th>\n",
       "      <th>trans_date_trans_time</th>\n",
       "      <th>cc_num</th>\n",
       "      <th>merchant</th>\n",
       "      <th>category</th>\n",
       "      <th>amt</th>\n",
       "      <th>first</th>\n",
       "      <th>last</th>\n",
       "      <th>gender</th>\n",
       "      <th>...</th>\n",
       "      <th>lat</th>\n",
       "      <th>long</th>\n",
       "      <th>city_pop</th>\n",
       "      <th>job</th>\n",
       "      <th>dob</th>\n",
       "      <th>trans_num</th>\n",
       "      <th>unix_time</th>\n",
       "      <th>merch_lat</th>\n",
       "      <th>merch_long</th>\n",
       "      <th>is_fraud</th>\n",
       "    </tr>\n",
       "  </thead>\n",
       "  <tbody>\n",
       "    <tr>\n",
       "      <th>0</th>\n",
       "      <td>176322</td>\n",
       "      <td>944206</td>\n",
       "      <td>2020-01-12 14:26:00</td>\n",
       "      <td>1.800680e+14</td>\n",
       "      <td>fraud_Durgan, Gislason and Spencer</td>\n",
       "      <td>home</td>\n",
       "      <td>83.42</td>\n",
       "      <td>Mary</td>\n",
       "      <td>Juarez</td>\n",
       "      <td>F</td>\n",
       "      <td>...</td>\n",
       "      <td>42.9385</td>\n",
       "      <td>-88.3950</td>\n",
       "      <td>2328</td>\n",
       "      <td>Applications developer</td>\n",
       "      <td>1942-01-06</td>\n",
       "      <td>dac0ad2e6b9956237cdca85beea4b422</td>\n",
       "      <td>1358000819</td>\n",
       "      <td>43.301471</td>\n",
       "      <td>-88.731241</td>\n",
       "      <td>0</td>\n",
       "    </tr>\n",
       "    <tr>\n",
       "      <th>1</th>\n",
       "      <td>57361</td>\n",
       "      <td>305252</td>\n",
       "      <td>2019-05-27 23:22:00</td>\n",
       "      <td>4.158950e+15</td>\n",
       "      <td>fraud_Douglas-White</td>\n",
       "      <td>entertainment</td>\n",
       "      <td>119.90</td>\n",
       "      <td>Justin</td>\n",
       "      <td>Bell</td>\n",
       "      <td>M</td>\n",
       "      <td>...</td>\n",
       "      <td>40.4308</td>\n",
       "      <td>-79.9205</td>\n",
       "      <td>687276</td>\n",
       "      <td>Scientist, marine</td>\n",
       "      <td>1973-10-19</td>\n",
       "      <td>6660431462def289ceb3e176e88f58e5</td>\n",
       "      <td>1338160935</td>\n",
       "      <td>40.673836</td>\n",
       "      <td>-80.710911</td>\n",
       "      <td>0</td>\n",
       "    </tr>\n",
       "    <tr>\n",
       "      <th>2</th>\n",
       "      <td>76922</td>\n",
       "      <td>326443</td>\n",
       "      <td>2019-06-04 19:27:00</td>\n",
       "      <td>3.040770e+13</td>\n",
       "      <td>fraud_Bernier and Sons</td>\n",
       "      <td>kids_pets</td>\n",
       "      <td>47.11</td>\n",
       "      <td>Danielle</td>\n",
       "      <td>Evans</td>\n",
       "      <td>F</td>\n",
       "      <td>...</td>\n",
       "      <td>42.1939</td>\n",
       "      <td>-76.7361</td>\n",
       "      <td>520</td>\n",
       "      <td>Psychotherapist</td>\n",
       "      <td>1991-10-13</td>\n",
       "      <td>3e0fdbbb80e5e068e5873be2a539cc24</td>\n",
       "      <td>1338838050</td>\n",
       "      <td>42.298622</td>\n",
       "      <td>-77.473862</td>\n",
       "      <td>0</td>\n",
       "    </tr>\n",
       "    <tr>\n",
       "      <th>3</th>\n",
       "      <td>73661</td>\n",
       "      <td>515686</td>\n",
       "      <td>2019-08-11 09:04:00</td>\n",
       "      <td>4.319580e+18</td>\n",
       "      <td>fraud_Kutch LLC</td>\n",
       "      <td>gas_transport</td>\n",
       "      <td>56.51</td>\n",
       "      <td>Kathleen</td>\n",
       "      <td>Nash</td>\n",
       "      <td>F</td>\n",
       "      <td>...</td>\n",
       "      <td>37.1788</td>\n",
       "      <td>-82.6950</td>\n",
       "      <td>502</td>\n",
       "      <td>Chief Financial Officer</td>\n",
       "      <td>1960-02-01</td>\n",
       "      <td>66c331ada80949f23b6eb54a2a805b30</td>\n",
       "      <td>1344675872</td>\n",
       "      <td>37.867947</td>\n",
       "      <td>-83.096063</td>\n",
       "      <td>0</td>\n",
       "    </tr>\n",
       "    <tr>\n",
       "      <th>4</th>\n",
       "      <td>149325</td>\n",
       "      <td>217309</td>\n",
       "      <td>2019-04-20 21:16:00</td>\n",
       "      <td>6.041621e+10</td>\n",
       "      <td>fraud_Beer-Jast</td>\n",
       "      <td>kids_pets</td>\n",
       "      <td>1.42</td>\n",
       "      <td>Mary</td>\n",
       "      <td>Diaz</td>\n",
       "      <td>F</td>\n",
       "      <td>...</td>\n",
       "      <td>43.0048</td>\n",
       "      <td>-108.8964</td>\n",
       "      <td>1645</td>\n",
       "      <td>Information systems manager</td>\n",
       "      <td>1986-02-17</td>\n",
       "      <td>73d345383dacf28ddb303df878af6034</td>\n",
       "      <td>1334956594</td>\n",
       "      <td>43.454507</td>\n",
       "      <td>-109.492721</td>\n",
       "      <td>0</td>\n",
       "    </tr>\n",
       "    <tr>\n",
       "      <th>...</th>\n",
       "      <td>...</td>\n",
       "      <td>...</td>\n",
       "      <td>...</td>\n",
       "      <td>...</td>\n",
       "      <td>...</td>\n",
       "      <td>...</td>\n",
       "      <td>...</td>\n",
       "      <td>...</td>\n",
       "      <td>...</td>\n",
       "      <td>...</td>\n",
       "      <td>...</td>\n",
       "      <td>...</td>\n",
       "      <td>...</td>\n",
       "      <td>...</td>\n",
       "      <td>...</td>\n",
       "      <td>...</td>\n",
       "      <td>...</td>\n",
       "      <td>...</td>\n",
       "      <td>...</td>\n",
       "      <td>...</td>\n",
       "      <td>...</td>\n",
       "    </tr>\n",
       "    <tr>\n",
       "      <th>214515</th>\n",
       "      <td>209807</td>\n",
       "      <td>138275</td>\n",
       "      <td>2019-03-16 22:16:00</td>\n",
       "      <td>6.761020e+11</td>\n",
       "      <td>fraud_Crooks and Sons</td>\n",
       "      <td>personal_care</td>\n",
       "      <td>23.07</td>\n",
       "      <td>Natasha</td>\n",
       "      <td>Mclaughlin</td>\n",
       "      <td>F</td>\n",
       "      <td>...</td>\n",
       "      <td>38.4549</td>\n",
       "      <td>-122.2564</td>\n",
       "      <td>94014</td>\n",
       "      <td>Airline pilot</td>\n",
       "      <td>1985-08-21</td>\n",
       "      <td>f5ed056d58e7cafe35201991383d5af7</td>\n",
       "      <td>1331936181</td>\n",
       "      <td>38.440172</td>\n",
       "      <td>-121.930178</td>\n",
       "      <td>1</td>\n",
       "    </tr>\n",
       "    <tr>\n",
       "      <th>214516</th>\n",
       "      <td>116046</td>\n",
       "      <td>108839</td>\n",
       "      <td>2019-03-03 16:55:00</td>\n",
       "      <td>3.453890e+14</td>\n",
       "      <td>fraud_Dooley Inc</td>\n",
       "      <td>shopping_pos</td>\n",
       "      <td>2.57</td>\n",
       "      <td>Justin</td>\n",
       "      <td>Fowler</td>\n",
       "      <td>M</td>\n",
       "      <td>...</td>\n",
       "      <td>33.9215</td>\n",
       "      <td>-89.6782</td>\n",
       "      <td>3451</td>\n",
       "      <td>Financial trader</td>\n",
       "      <td>1984-05-19</td>\n",
       "      <td>617d850e784d23f70bdbf99aec16877d</td>\n",
       "      <td>1330793701</td>\n",
       "      <td>34.248988</td>\n",
       "      <td>-88.691253</td>\n",
       "      <td>0</td>\n",
       "    </tr>\n",
       "    <tr>\n",
       "      <th>214517</th>\n",
       "      <td>84374</td>\n",
       "      <td>244548</td>\n",
       "      <td>2019-05-02 21:02:00</td>\n",
       "      <td>4.170690e+15</td>\n",
       "      <td>fraud_Hettinger, McCullough and Fay</td>\n",
       "      <td>home</td>\n",
       "      <td>15.40</td>\n",
       "      <td>Samuel</td>\n",
       "      <td>Frey</td>\n",
       "      <td>M</td>\n",
       "      <td>...</td>\n",
       "      <td>35.6665</td>\n",
       "      <td>-97.4798</td>\n",
       "      <td>116001</td>\n",
       "      <td>Media buyer</td>\n",
       "      <td>1993-05-10</td>\n",
       "      <td>6e7be41baa4854c8c122124573ab826a</td>\n",
       "      <td>1335992520</td>\n",
       "      <td>34.789935</td>\n",
       "      <td>-96.704044</td>\n",
       "      <td>0</td>\n",
       "    </tr>\n",
       "    <tr>\n",
       "      <th>214518</th>\n",
       "      <td>766</td>\n",
       "      <td>968783</td>\n",
       "      <td>2020-01-26 17:33:00</td>\n",
       "      <td>4.477160e+18</td>\n",
       "      <td>fraud_Jast Ltd</td>\n",
       "      <td>shopping_net</td>\n",
       "      <td>66.19</td>\n",
       "      <td>Angela</td>\n",
       "      <td>Ross</td>\n",
       "      <td>F</td>\n",
       "      <td>...</td>\n",
       "      <td>40.3928</td>\n",
       "      <td>-111.7941</td>\n",
       "      <td>42384</td>\n",
       "      <td>Futures trader</td>\n",
       "      <td>1992-12-29</td>\n",
       "      <td>823cb59773e114b5de50c51ce520f181</td>\n",
       "      <td>1359221619</td>\n",
       "      <td>40.382572</td>\n",
       "      <td>-111.342788</td>\n",
       "      <td>0</td>\n",
       "    </tr>\n",
       "    <tr>\n",
       "      <th>214519</th>\n",
       "      <td>18374</td>\n",
       "      <td>929851</td>\n",
       "      <td>2020-01-04 13:22:00</td>\n",
       "      <td>4.742880e+18</td>\n",
       "      <td>fraud_Kihn-Schuster</td>\n",
       "      <td>food_dining</td>\n",
       "      <td>30.57</td>\n",
       "      <td>Cassandra</td>\n",
       "      <td>Sanders</td>\n",
       "      <td>F</td>\n",
       "      <td>...</td>\n",
       "      <td>20.0271</td>\n",
       "      <td>-155.3697</td>\n",
       "      <td>1490</td>\n",
       "      <td>Scientist, research (maths)</td>\n",
       "      <td>1991-04-13</td>\n",
       "      <td>a0921bbdc96d65bfcfdb78b369233303</td>\n",
       "      <td>1357305750</td>\n",
       "      <td>21.010877</td>\n",
       "      <td>-155.079405</td>\n",
       "      <td>0</td>\n",
       "    </tr>\n",
       "  </tbody>\n",
       "</table>\n",
       "<p>214520 rows × 24 columns</p>\n",
       "</div>"
      ],
      "text/plain": [
       "        level_0   index trans_date_trans_time        cc_num  \\\n",
       "0        176322  944206   2020-01-12 14:26:00  1.800680e+14   \n",
       "1         57361  305252   2019-05-27 23:22:00  4.158950e+15   \n",
       "2         76922  326443   2019-06-04 19:27:00  3.040770e+13   \n",
       "3         73661  515686   2019-08-11 09:04:00  4.319580e+18   \n",
       "4        149325  217309   2019-04-20 21:16:00  6.041621e+10   \n",
       "...         ...     ...                   ...           ...   \n",
       "214515   209807  138275   2019-03-16 22:16:00  6.761020e+11   \n",
       "214516   116046  108839   2019-03-03 16:55:00  3.453890e+14   \n",
       "214517    84374  244548   2019-05-02 21:02:00  4.170690e+15   \n",
       "214518      766  968783   2020-01-26 17:33:00  4.477160e+18   \n",
       "214519    18374  929851   2020-01-04 13:22:00  4.742880e+18   \n",
       "\n",
       "                                   merchant       category     amt      first  \\\n",
       "0        fraud_Durgan, Gislason and Spencer           home   83.42       Mary   \n",
       "1                       fraud_Douglas-White  entertainment  119.90     Justin   \n",
       "2                    fraud_Bernier and Sons      kids_pets   47.11   Danielle   \n",
       "3                           fraud_Kutch LLC  gas_transport   56.51   Kathleen   \n",
       "4                           fraud_Beer-Jast      kids_pets    1.42       Mary   \n",
       "...                                     ...            ...     ...        ...   \n",
       "214515                fraud_Crooks and Sons  personal_care   23.07    Natasha   \n",
       "214516                     fraud_Dooley Inc   shopping_pos    2.57     Justin   \n",
       "214517  fraud_Hettinger, McCullough and Fay           home   15.40     Samuel   \n",
       "214518                       fraud_Jast Ltd   shopping_net   66.19     Angela   \n",
       "214519                  fraud_Kihn-Schuster    food_dining   30.57  Cassandra   \n",
       "\n",
       "              last gender  ...      lat      long city_pop  \\\n",
       "0           Juarez      F  ...  42.9385  -88.3950     2328   \n",
       "1             Bell      M  ...  40.4308  -79.9205   687276   \n",
       "2            Evans      F  ...  42.1939  -76.7361      520   \n",
       "3             Nash      F  ...  37.1788  -82.6950      502   \n",
       "4             Diaz      F  ...  43.0048 -108.8964     1645   \n",
       "...            ...    ...  ...      ...       ...      ...   \n",
       "214515  Mclaughlin      F  ...  38.4549 -122.2564    94014   \n",
       "214516      Fowler      M  ...  33.9215  -89.6782     3451   \n",
       "214517        Frey      M  ...  35.6665  -97.4798   116001   \n",
       "214518        Ross      F  ...  40.3928 -111.7941    42384   \n",
       "214519     Sanders      F  ...  20.0271 -155.3697     1490   \n",
       "\n",
       "                                job         dob  \\\n",
       "0            Applications developer  1942-01-06   \n",
       "1                 Scientist, marine  1973-10-19   \n",
       "2                   Psychotherapist  1991-10-13   \n",
       "3           Chief Financial Officer  1960-02-01   \n",
       "4       Information systems manager  1986-02-17   \n",
       "...                             ...         ...   \n",
       "214515                Airline pilot  1985-08-21   \n",
       "214516             Financial trader  1984-05-19   \n",
       "214517                  Media buyer  1993-05-10   \n",
       "214518               Futures trader  1992-12-29   \n",
       "214519  Scientist, research (maths)  1991-04-13   \n",
       "\n",
       "                               trans_num   unix_time  merch_lat  merch_long  \\\n",
       "0       dac0ad2e6b9956237cdca85beea4b422  1358000819  43.301471  -88.731241   \n",
       "1       6660431462def289ceb3e176e88f58e5  1338160935  40.673836  -80.710911   \n",
       "2       3e0fdbbb80e5e068e5873be2a539cc24  1338838050  42.298622  -77.473862   \n",
       "3       66c331ada80949f23b6eb54a2a805b30  1344675872  37.867947  -83.096063   \n",
       "4       73d345383dacf28ddb303df878af6034  1334956594  43.454507 -109.492721   \n",
       "...                                  ...         ...        ...         ...   \n",
       "214515  f5ed056d58e7cafe35201991383d5af7  1331936181  38.440172 -121.930178   \n",
       "214516  617d850e784d23f70bdbf99aec16877d  1330793701  34.248988  -88.691253   \n",
       "214517  6e7be41baa4854c8c122124573ab826a  1335992520  34.789935  -96.704044   \n",
       "214518  823cb59773e114b5de50c51ce520f181  1359221619  40.382572 -111.342788   \n",
       "214519  a0921bbdc96d65bfcfdb78b369233303  1357305750  21.010877 -155.079405   \n",
       "\n",
       "       is_fraud  \n",
       "0             0  \n",
       "1             0  \n",
       "2             0  \n",
       "3             0  \n",
       "4             0  \n",
       "...         ...  \n",
       "214515        1  \n",
       "214516        0  \n",
       "214517        0  \n",
       "214518        0  \n",
       "214519        0  \n",
       "\n",
       "[214520 rows x 24 columns]"
      ]
     },
     "execution_count": 21,
     "metadata": {},
     "output_type": "execute_result"
    }
   ],
   "source": [
    "df02_com"
   ]
  },
  {
   "cell_type": "markdown",
   "id": "772ec8d5-bfc8-4f1a-8909-9c7c53e66e0d",
   "metadata": {},
   "source": [
    "---"
   ]
  },
  {
   "cell_type": "markdown",
   "id": "12436888-5a23-44a7-a910-53fe0431ac1a",
   "metadata": {},
   "source": [
    "# 데이터 돌아가는중.."
   ]
  },
  {
   "cell_type": "code",
   "execution_count": 109,
   "id": "b1cf6b21-3bf2-4ce8-a220-83a569347596",
   "metadata": {},
   "outputs": [],
   "source": [
    "import time "
   ]
  },
  {
   "cell_type": "code",
   "execution_count": 110,
   "id": "38bc9658-984f-4db7-9e9f-eae4087d0538",
   "metadata": {},
   "outputs": [
    {
     "data": {
      "text/plain": [
       "7.3492796421051025"
      ]
     },
     "execution_count": 110,
     "metadata": {},
     "output_type": "execute_result"
    }
   ],
   "source": [
    "t1= time.time()\n",
    "edge_index_list_plus = []\n",
    "_cc_num = np.array(df02_com['cc_num'])\n",
    "_trans_date_trans_time=np.array(df02_com['trans_date_trans_time'].apply(lambda x: x.value))\n",
    "for i in range(N):\n",
    "    for j in range(N):\n",
    "        if _cc_num[i] != _cc_num[j]:  # cc_num 값이 다르다면\n",
    "            time_difference = 0\n",
    "        else:\n",
    "            time_difference = abs(_trans_date_trans_time[i] - _trans_date_trans_time[j])\n",
    "        edge_index_list_plus.append([i, j, time_difference])\n",
    "edge_index_list_plus_nparr =np.array(edge_index_list_plus)\n",
    "np.save('edge_index_list_plus_02.npy', edge_index_list_plus_nparr)\n",
    "t2= time.time()\n",
    "t2-t1"
   ]
  },
  {
   "cell_type": "markdown",
   "id": "65b67eb4-2675-462e-848b-e57f0368f2b7",
   "metadata": {},
   "source": [
    "# 데이터 돌아가는중...................... 다시다시"
   ]
  },
  {
   "cell_type": "code",
   "execution_count": 24,
   "id": "401e1bf6-6f52-4461-aac1-1e2087a28e99",
   "metadata": {},
   "outputs": [],
   "source": [
    "edge_index = np.array(edge_index_list_plus)"
   ]
  },
  {
   "cell_type": "code",
   "execution_count": 25,
   "id": "dc0d3e59-8e9b-4d87-bb22-bcd5be0eb22d",
   "metadata": {},
   "outputs": [
    {
     "data": {
      "text/plain": [
       "(144288144, 3)"
      ]
     },
     "execution_count": 25,
     "metadata": {},
     "output_type": "execute_result"
    }
   ],
   "source": [
    "edge_index.shape"
   ]
  },
  {
   "cell_type": "code",
   "execution_count": 26,
   "id": "637472d6-f1ab-4e16-97cc-8bee5eff4762",
   "metadata": {},
   "outputs": [
    {
     "data": {
      "text/plain": [
       "array([[0.0000e+00, 0.0000e+00, 0.0000e+00],\n",
       "       [0.0000e+00, 1.0000e+00, 0.0000e+00],\n",
       "       [0.0000e+00, 2.0000e+00, 0.0000e+00],\n",
       "       ...,\n",
       "       [1.2011e+04, 1.2009e+04, 0.0000e+00],\n",
       "       [1.2011e+04, 1.2010e+04, 0.0000e+00],\n",
       "       [1.2011e+04, 1.2011e+04, 0.0000e+00]])"
      ]
     },
     "execution_count": 26,
     "metadata": {},
     "output_type": "execute_result"
    }
   ],
   "source": [
    "edge_index"
   ]
  },
  {
   "cell_type": "code",
   "execution_count": 27,
   "id": "6557147a-6db2-4b52-8e66-5e460b348a21",
   "metadata": {},
   "outputs": [
    {
     "data": {
      "text/plain": [
       "10973.519989002007"
      ]
     },
     "execution_count": 27,
     "metadata": {},
     "output_type": "execute_result"
    }
   ],
   "source": [
    "edge_index[:,2] = np.abs(edge_index[:,2])\n",
    "theta = edge_index[:,2].mean()\n",
    "theta\n"
   ]
  },
  {
   "cell_type": "code",
   "execution_count": 28,
   "id": "06778801-ac68-4851-ab94-41ebafa598a4",
   "metadata": {},
   "outputs": [
    {
     "data": {
      "text/plain": [
       "array([[0.0000e+00, 0.0000e+00, 0.0000e+00],\n",
       "       [0.0000e+00, 1.0000e+00, 0.0000e+00],\n",
       "       [0.0000e+00, 2.0000e+00, 0.0000e+00],\n",
       "       ...,\n",
       "       [1.2011e+04, 1.2009e+04, 0.0000e+00],\n",
       "       [1.2011e+04, 1.2010e+04, 0.0000e+00],\n",
       "       [1.2011e+04, 1.2011e+04, 0.0000e+00]])"
      ]
     },
     "execution_count": 28,
     "metadata": {},
     "output_type": "execute_result"
    }
   ],
   "source": [
    "edge_index[:,2] = (np.exp(-edge_index[:,2]/theta)!=1) * np.exp(-edge_index[:,2]/theta)\n",
    "edge_index"
   ]
  },
  {
   "cell_type": "code",
   "execution_count": 29,
   "id": "9bac15df-0c6b-4ba6-8c6e-fe29c0035f53",
   "metadata": {},
   "outputs": [
    {
     "data": {
      "text/plain": [
       "8.443606280313275e-05"
      ]
     },
     "execution_count": 29,
     "metadata": {},
     "output_type": "execute_result"
    }
   ],
   "source": [
    "edge_index_list_updated = edge_index.tolist()\n",
    "np.array(edge_index_list_updated)[:,2].mean()"
   ]
  },
  {
   "cell_type": "code",
   "execution_count": 30,
   "id": "7476bbf9-f96c-4604-83e4-566be62dd583",
   "metadata": {},
   "outputs": [],
   "source": [
    "mm = np.array(edge_index_list_updated)[:,2].mean()"
   ]
  },
  {
   "cell_type": "markdown",
   "id": "b3a0c40f-0b6e-427b-bf59-61543ffa0d06",
   "metadata": {},
   "source": [
    "> 시간이 평균보다 짧다면? . 음.."
   ]
  },
  {
   "cell_type": "code",
   "execution_count": 31,
   "id": "6ea74dc1-4806-4c52-a132-5911bf2ca25a",
   "metadata": {},
   "outputs": [],
   "source": [
    "selected_edges = [(int(row[0]), int(row[1])) for row in edge_index_list_updated if row[2] > mm]"
   ]
  },
  {
   "cell_type": "code",
   "execution_count": 32,
   "id": "0500a9e6-fd1a-491e-9f69-59af41a4dc3f",
   "metadata": {},
   "outputs": [],
   "source": [
    "edge_index_selected = torch.tensor(selected_edges, dtype=torch.long).t()"
   ]
  },
  {
   "cell_type": "code",
   "execution_count": 33,
   "id": "7f755464-f49f-4855-9cbd-c126d41a7479",
   "metadata": {},
   "outputs": [
    {
     "data": {
      "text/plain": [
       "torch.Size([2, 51392])"
      ]
     },
     "execution_count": 33,
     "metadata": {},
     "output_type": "execute_result"
    }
   ],
   "source": [
    "edge_index_selected.shape"
   ]
  },
  {
   "cell_type": "code",
   "execution_count": null,
   "id": "50bcad5d-2f48-456e-8c6c-a2af48cf91dc",
   "metadata": {},
   "outputs": [],
   "source": []
  },
  {
   "cell_type": "code",
   "execution_count": null,
   "id": "b276afe1-4756-420f-977a-4cecc6577848",
   "metadata": {},
   "outputs": [],
   "source": []
  },
  {
   "cell_type": "code",
   "execution_count": null,
   "id": "8a3d5b08-15ff-43a9-a7af-f1eb74b4f0ac",
   "metadata": {},
   "outputs": [],
   "source": []
  },
  {
   "cell_type": "markdown",
   "id": "90a6f000-da03-4a0f-8c26-3b6eb10d2acc",
   "metadata": {},
   "source": [
    "---"
   ]
  },
  {
   "cell_type": "markdown",
   "id": "c6292543-c350-4177-ac60-3856f4c120d0",
   "metadata": {},
   "source": [
    "### data설정(x, edge_index, y)"
   ]
  },
  {
   "cell_type": "code",
   "execution_count": 34,
   "id": "88504d40-8829-4b6f-93ed-e5bebbf8e508",
   "metadata": {},
   "outputs": [],
   "source": [
    "x = df50_com['amt']"
   ]
  },
  {
   "cell_type": "code",
   "execution_count": 35,
   "id": "7a8d5ba3-9e58-4896-8ce2-62352b1b9175",
   "metadata": {},
   "outputs": [],
   "source": [
    "a = torch.tensor(x, dtype=torch.float)"
   ]
  },
  {
   "cell_type": "code",
   "execution_count": 36,
   "id": "b343eda7-3c52-4db9-9f51-131869d81378",
   "metadata": {},
   "outputs": [
    {
     "data": {
      "text/plain": [
       "tensor([[921.2400],\n",
       "        [698.2800],\n",
       "        [220.5600],\n",
       "        ...,\n",
       "        [ 17.9700],\n",
       "        [  7.5800],\n",
       "        [824.9900]])"
      ]
     },
     "execution_count": 36,
     "metadata": {},
     "output_type": "execute_result"
    }
   ],
   "source": [
    "a = a.reshape(-1,1)\n",
    "a"
   ]
  },
  {
   "cell_type": "code",
   "execution_count": 37,
   "id": "f2d16b59-91b5-4208-af59-6c7d017ab922",
   "metadata": {},
   "outputs": [],
   "source": [
    "y = df50_com['is_fraud']"
   ]
  },
  {
   "cell_type": "code",
   "execution_count": 38,
   "id": "da3d4c18-b449-4720-befe-e2ed89e1300e",
   "metadata": {},
   "outputs": [],
   "source": [
    "b = torch.tensor(y,dtype=torch.int64)"
   ]
  },
  {
   "cell_type": "code",
   "execution_count": 39,
   "id": "8866eb60-6989-46e0-9be9-16b1f3961c44",
   "metadata": {},
   "outputs": [
    {
     "data": {
      "text/plain": [
       "tensor([1, 1, 0,  ..., 1, 0, 1])"
      ]
     },
     "execution_count": 39,
     "metadata": {},
     "output_type": "execute_result"
    }
   ],
   "source": [
    "b"
   ]
  },
  {
   "cell_type": "code",
   "execution_count": 40,
   "id": "1bd32099-d17d-4f16-ad61-8c8d79def338",
   "metadata": {},
   "outputs": [],
   "source": [
    "import torch_geometric"
   ]
  },
  {
   "cell_type": "code",
   "execution_count": 41,
   "id": "5e204f74-b36f-4029-b15d-124dc2d18e24",
   "metadata": {},
   "outputs": [],
   "source": [
    "data = torch_geometric.data.Data(x=a, edge_index = edge_index_selected, y=b, train_mask = train_mask, test_mask = test_mask)"
   ]
  },
  {
   "cell_type": "code",
   "execution_count": 42,
   "id": "1ba154a6-c153-498a-8d49-f8be662eb34f",
   "metadata": {},
   "outputs": [
    {
     "data": {
      "text/plain": [
       "Data(x=[12012, 1], edge_index=[2, 51392], y=[12012], train_mask=[12012], test_mask=[12012])"
      ]
     },
     "execution_count": 42,
     "metadata": {},
     "output_type": "execute_result"
    }
   ],
   "source": [
    "data"
   ]
  },
  {
   "cell_type": "code",
   "execution_count": null,
   "id": "65b1f943-9621-47ae-8bb2-951547a808eb",
   "metadata": {},
   "outputs": [],
   "source": []
  },
  {
   "cell_type": "markdown",
   "id": "0574eb03-47a5-4811-90ba-f1d491e179f9",
   "metadata": {},
   "source": [
    "---"
   ]
  },
  {
   "cell_type": "code",
   "execution_count": null,
   "id": "8028abc6-d178-49e5-8d95-0162794a3957",
   "metadata": {},
   "outputs": [],
   "source": []
  },
  {
   "cell_type": "markdown",
   "id": "67c5ee44-6efc-4b7f-a7d6-a26052d1e687",
   "metadata": {},
   "source": [
    "---"
   ]
  },
  {
   "cell_type": "markdown",
   "id": "3ecfa41f-ad3d-4163-ae4a-4a6aa1bac85d",
   "metadata": {},
   "source": [
    "### gnn"
   ]
  },
  {
   "cell_type": "code",
   "execution_count": 43,
   "id": "a056670c-61d7-4056-ae60-e82896654ca3",
   "metadata": {
    "tags": []
   },
   "outputs": [],
   "source": [
    "\n",
    "\n",
    "import torch\n",
    "import torch.nn.functional as F\n",
    "from torch_geometric.nn import GCNConv\n",
    "\n",
    "class GCN(torch.nn.Module):\n",
    "    def __init__(self):\n",
    "        super().__init__()\n",
    "        self.conv1 = GCNConv(1, 16)\n",
    "        self.conv2 = GCNConv(16,2)\n",
    "\n",
    "    def forward(self, data):\n",
    "        x, edge_index = data.x, data.edge_index\n",
    "\n",
    "        x = self.conv1(x, edge_index)\n",
    "        x = F.relu(x)\n",
    "        x = F.dropout(x, training=self.training)\n",
    "        x = self.conv2(x, edge_index)\n",
    "\n",
    "        return F.log_softmax(x, dim=1)"
   ]
  },
  {
   "cell_type": "code",
   "execution_count": 44,
   "id": "23811540-0624-42f0-a5b0-fd103b022621",
   "metadata": {},
   "outputs": [],
   "source": [
    "model = GCN()"
   ]
  },
  {
   "cell_type": "code",
   "execution_count": 45,
   "id": "46883b47-b447-4bc7-b853-27afb6d4e48a",
   "metadata": {},
   "outputs": [
    {
     "data": {
      "text/plain": [
       "GCN(\n",
       "  (conv1): GCNConv(1, 16)\n",
       "  (conv2): GCNConv(16, 2)\n",
       ")"
      ]
     },
     "execution_count": 45,
     "metadata": {},
     "output_type": "execute_result"
    }
   ],
   "source": [
    "model"
   ]
  },
  {
   "cell_type": "code",
   "execution_count": 46,
   "id": "80f5bb84-a21e-4a54-bb01-e3249488c2d4",
   "metadata": {},
   "outputs": [
    {
     "data": {
      "text/plain": [
       "GCN(\n",
       "  (conv1): GCNConv(1, 16)\n",
       "  (conv2): GCNConv(16, 2)\n",
       ")"
      ]
     },
     "execution_count": 46,
     "metadata": {},
     "output_type": "execute_result"
    }
   ],
   "source": [
    "optimizer = torch.optim.Adam(model.parameters(), lr=0.01, weight_decay=5e-4)\n",
    "model.train()"
   ]
  },
  {
   "cell_type": "markdown",
   "id": "84a1c531-356d-4c7b-9723-1fed45b808d6",
   "metadata": {},
   "source": [
    "------"
   ]
  },
  {
   "cell_type": "code",
   "execution_count": null,
   "id": "8e378bd9-7e80-4423-89f2-ea70689c3f38",
   "metadata": {},
   "outputs": [],
   "source": []
  },
  {
   "cell_type": "code",
   "execution_count": null,
   "id": "68c772a6-7f58-45f7-a4f9-8bfd2ee833a7",
   "metadata": {},
   "outputs": [],
   "source": []
  },
  {
   "cell_type": "code",
   "execution_count": 47,
   "id": "d02dd95d-4c9d-4baa-8e1c-ab2866bba701",
   "metadata": {},
   "outputs": [],
   "source": [
    "for epoch in range(200):\n",
    "    optimizer.zero_grad()\n",
    "    out = model(data)\n",
    "    loss = F.nll_loss(out[data.train_mask], data.y[data.train_mask])\n",
    "    loss.backward()\n",
    "    optimizer.step()"
   ]
  },
  {
   "cell_type": "code",
   "execution_count": 48,
   "id": "00c231c6-cbd8-424c-8b19-d113472a6954",
   "metadata": {},
   "outputs": [
    {
     "name": "stdout",
     "output_type": "stream",
     "text": [
      "Accuracy: 0.9321\n"
     ]
    }
   ],
   "source": [
    "model.eval()\n",
    "pred = model(data).argmax(dim=1)\n",
    "correct = (pred[data.test_mask] == data.y[data.test_mask]).sum()\n",
    "acc = int(correct) / int(data.test_mask.sum())\n",
    "print(f'Accuracy: {acc:.4f}')"
   ]
  },
  {
   "cell_type": "code",
   "execution_count": null,
   "id": "13b52dd6-deb1-4769-86a8-7c334759c0f8",
   "metadata": {},
   "outputs": [],
   "source": [
    "`"
   ]
  },
  {
   "cell_type": "markdown",
   "id": "09081157-22b1-45f1-8ea4-ea37ff01cca1",
   "metadata": {},
   "source": [
    "---"
   ]
  },
  {
   "cell_type": "markdown",
   "id": "17ff70ce-8e2f-410f-a8d6-039d80420c5d",
   "metadata": {},
   "source": [
    "------"
   ]
  },
  {
   "cell_type": "code",
   "execution_count": null,
   "id": "f6ecfdfb-7040-4541-89a4-22b4bd8f2309",
   "metadata": {},
   "outputs": [],
   "source": []
  },
  {
   "cell_type": "code",
   "execution_count": null,
   "id": "0039b19f-777c-4053-978a-98ec63266998",
   "metadata": {},
   "outputs": [],
   "source": []
  },
  {
   "cell_type": "code",
   "execution_count": null,
   "id": "a66926cf-08cb-4cb8-a1cd-f15bcaa22aa3",
   "metadata": {},
   "outputs": [],
   "source": [
    "\n"
   ]
  },
  {
   "cell_type": "code",
   "execution_count": null,
   "id": "a4e6b504-d8d2-4dbe-91fc-4dda994ce501",
   "metadata": {},
   "outputs": [],
   "source": []
  },
  {
   "cell_type": "code",
   "execution_count": null,
   "id": "c17dba3f-6e7e-4235-9c1f-7aa6a2f56c3a",
   "metadata": {},
   "outputs": [],
   "source": []
  },
  {
   "cell_type": "code",
   "execution_count": null,
   "id": "aa64d071-acfb-4fa4-9998-9f9ab80224a6",
   "metadata": {},
   "outputs": [],
   "source": []
  },
  {
   "cell_type": "code",
   "execution_count": null,
   "id": "ea06ac11-0cd0-4038-8994-6fcf7c80aa1f",
   "metadata": {},
   "outputs": [],
   "source": []
  },
  {
   "cell_type": "code",
   "execution_count": null,
   "id": "36e3c701-9f06-450a-b9e0-dfcb45376a56",
   "metadata": {},
   "outputs": [],
   "source": []
  },
  {
   "cell_type": "code",
   "execution_count": null,
   "id": "5e5a71b3-1be7-4196-8f45-e6679297f211",
   "metadata": {},
   "outputs": [],
   "source": []
  },
  {
   "cell_type": "code",
   "execution_count": null,
   "id": "9d59568a-545f-4c1f-9cc7-2b7b2c89087a",
   "metadata": {},
   "outputs": [],
   "source": []
  },
  {
   "cell_type": "code",
   "execution_count": 31,
   "id": "993f6531-37c2-4be2-8eab-cd3481e3b780",
   "metadata": {},
   "outputs": [],
   "source": []
  },
  {
   "cell_type": "code",
   "execution_count": 60,
   "id": "2d44ff88-aa5e-4540-95be-4a1d66c9b927",
   "metadata": {},
   "outputs": [],
   "source": []
  },
  {
   "cell_type": "code",
   "execution_count": null,
   "id": "618fea38-36a7-4051-a5da-a7f2b298aa84",
   "metadata": {},
   "outputs": [],
   "source": []
  },
  {
   "cell_type": "code",
   "execution_count": null,
   "id": "3e7bb5c9-3264-402c-88be-b48b1bdbf038",
   "metadata": {},
   "outputs": [],
   "source": []
  },
  {
   "cell_type": "code",
   "execution_count": null,
   "id": "3c3e6452-3437-4357-b5da-be81d42f7e32",
   "metadata": {},
   "outputs": [],
   "source": []
  },
  {
   "cell_type": "code",
   "execution_count": null,
   "id": "d3bf6a45-b8dd-4074-8b17-478011452e7e",
   "metadata": {},
   "outputs": [],
   "source": []
  },
  {
   "cell_type": "code",
   "execution_count": null,
   "id": "a5c9cebf-fd9e-4c88-8483-d2120e396255",
   "metadata": {},
   "outputs": [],
   "source": []
  },
  {
   "cell_type": "code",
   "execution_count": null,
   "id": "29b079f7-a07a-4f3c-93fb-d92421c0e6ba",
   "metadata": {},
   "outputs": [],
   "source": []
  },
  {
   "cell_type": "code",
   "execution_count": null,
   "id": "cd20a8e6-d38d-4ee0-ae4d-54442c29f7f4",
   "metadata": {},
   "outputs": [],
   "source": []
  }
 ],
 "metadata": {
  "kernelspec": {
   "display_name": "Python 3 (ipykernel)",
   "language": "python",
   "name": "python3"
  },
  "language_info": {
   "codemirror_mode": {
    "name": "ipython",
    "version": 3
   },
   "file_extension": ".py",
   "mimetype": "text/x-python",
   "name": "python",
   "nbconvert_exporter": "python",
   "pygments_lexer": "ipython3",
   "version": "3.8.16"
  }
 },
 "nbformat": 4,
 "nbformat_minor": 5
}
