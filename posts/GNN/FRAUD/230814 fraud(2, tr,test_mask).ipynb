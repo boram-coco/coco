{
 "cells": [
  {
   "cell_type": "raw",
   "id": "7fa01b77-3570-41d4-b54b-97a69097fd8c",
   "metadata": {},
   "source": [
    "---\n",
    "title: \"[FRAUD] 데이터정리 시도(8.14-망함 tr/test_mask 만들어봄)\"\n",
    "author: \"김보람\"\n",
    "date: \"08/14/2023\"\n",
    "---"
   ]
  },
  {
   "cell_type": "markdown",
   "id": "b7967e3d-e46f-4991-af0e-571b295e239a",
   "metadata": {},
   "source": [
    "# imports"
   ]
  },
  {
   "cell_type": "code",
   "execution_count": 1,
   "id": "c36d6b17-9b4c-4aea-b111-133e1afce57e",
   "metadata": {},
   "outputs": [],
   "source": [
    "import numpy as np\n",
    "import pandas as pd\n",
    "import matplotlib.pyplot as plt \n",
    "import networkx as nx\n",
    "import sklearn\n",
    "import torch\n",
    "\n",
    "# sklearn\n",
    "from sklearn import model_selection # split함수이용\n",
    "from sklearn import ensemble # RF,GBM\n",
    "from sklearn import metrics \n",
    "\n",
    "# embedding \n",
    "from node2vec import Node2Vec\n",
    "from node2vec.edges import HadamardEmbedder, AverageEmbedder, WeightedL1Embedder, WeightedL2Embedder"
   ]
  },
  {
   "cell_type": "code",
   "execution_count": 2,
   "id": "2774d96b-b24a-492b-a587-2815ff6e3ead",
   "metadata": {},
   "outputs": [],
   "source": [
    "def build_graph_bipartite(df_input, graph_type=nx.Graph()):\n",
    "    df=df_input.copy()\n",
    "    mapping={x:node_id for node_id, x in enumerate(set(df[\"cc_num\"].values.tolist()+\\\n",
    "                                                      df[\"merchant\"].values.tolist()))}\n",
    "    \n",
    "    df[\"from\"]=df[\"cc_num\"].apply(lambda x:mapping[x])  #엣지의 출발점\n",
    "    df[\"to\"]=df[\"merchant\"].apply(lambda x:mapping[x])  #엣지의 도착점\n",
    "    \n",
    "    df = df[['from', 'to', \"amt\", \"is_fraud\"]].groupby(['from','to']).agg({\"is_fraud\":\"sum\",\"amt\":\"sum\"}).reset_index()\n",
    "    df[\"is_fraud\"]=df[\"is_fraud\"].apply(lambda x:1 if x>0 else 0)\n",
    "    \n",
    "    G=nx.from_edgelist(df[[\"from\",\"to\"]].values, create_using=graph_type)\n",
    "    \n",
    "    nx.set_edge_attributes(G,{(int(x[\"from\"]),int(x[\"to\"])):x[\"is_fraud\"] for idx, x in df[[\"from\",\"to\",\"is_fraud\"]].iterrows()}, \"label\")  #엣지 속성 설정,각 속성의 사기 여부부     \n",
    "    nx.set_edge_attributes(G,{(int(x[\"from\"]),int(x[\"to\"])):x[\"amt\"] for idx,x in df[[\"from\",\"to\",\"amt\"]].iterrows()}, \"weight\") # 엣지 속성 설정, 각 엣지의 거래 금액\n",
    "\n",
    "    return G\n",
    "\n",
    "\n",
    "def build_graph_tripartite(df_input, graph_type=nx.Graph()):\n",
    "    df=df_input.copy()\n",
    "    mapping={x:node_id for node_id, x in enumerate(set(df.index.values.tolist() + \n",
    "                                                       df[\"cc_num\"].values.tolist() +\n",
    "                                                       df[\"merchant\"].values.tolist()))}\n",
    "    df[\"in_node\"]= df[\"cc_num\"].apply(lambda x: mapping[x])\n",
    "    df[\"out_node\"]=df[\"merchant\"].apply(lambda x:mapping[x])\n",
    "    \n",
    "        \n",
    "    G=nx.from_edgelist([(x[\"in_node\"], mapping[idx]) for idx, x in df.iterrows()] +\\\n",
    "                        [(x[\"out_node\"], mapping[idx]) for idx, x in df.iterrows()], create_using=graph_type)\n",
    "    \n",
    "    nx.set_edge_attributes(G,{(x[\"in_node\"], mapping[idx]):x[\"is_fraud\"] for idx, x in df.iterrows()}, \"label\")     \n",
    "    nx.set_edge_attributes(G,{(x[\"out_node\"], mapping[idx]):x[\"is_fraud\"] for idx, x in df.iterrows()}, \"label\")   \n",
    "    nx.set_edge_attributes(G,{(x[\"in_node\"], mapping[idx]):x[\"amt\"] for idx, x in df.iterrows()}, \"weight\")  \n",
    "    nx.set_edge_attributes(G,{(x[\"out_node\"], mapping[idx]):x[\"amt\"] for idx, x in df.iterrows()}, \"weight\")\n",
    "\n",
    "    return G\n",
    "    \n",
    "    \n",
    "def down_sample_textbook(df):\n",
    "    df_majority = df[df.is_fraud==0].copy()\n",
    "    df_minority = df[df.is_fraud==1].copy()\n",
    "    df_maj_dowsampled = sklearn.utils.resample(df_majority, n_samples=len(df_minority), replace=False, random_state=42)\n",
    "    df_downsampled = pd.concat([df_minority, df_maj_dowsampled])\n",
    "    return df_downsampled\n",
    "\n",
    "def embedding(Graph):\n",
    "    # Graph -> X (feature)\n",
    "    _edgs = list(Graph.edges)\n",
    "    subGraph = Graph.edge_subgraph([_edgs[x] for x in range(len(Graph.edges))]).copy()\n",
    "    subGraph.add_nodes_from(list(set(Graph.nodes) - set(subGraph.nodes)))    \n",
    "    embedded = AverageEmbedder(Node2Vec(subGraph, weight_key='weight').fit(window=10).wv)\n",
    "    X = [embedded[str(_edgs[x][0]), str(_edgs[x][1])] for x in range(len(Graph.edges))]\n",
    "    # Graph -> y (label)\n",
    "    y = np.array(list(nx.get_edge_attributes(Graph, \"label\").values()))\n",
    "    return X,y \n",
    "\n",
    "def anal(df):\n",
    "    Graph = build_graph_bipartite(df)\n",
    "    X,XX,y,yy = embedding(Graph)\n",
    "    lrnr = RandomForestClassifier(n_estimators=100, random_state=42) \n",
    "    lrnr.fit(X,y)\n",
    "    yyhat = lrnr.predict(XX)\n",
    "    df = pd.DataFrame({\n",
    "        'acc':[sklearn.metrics.accuracy_score(yy,yyhat)], \n",
    "        'pre':[sklearn.metrics.precision_score(yy,yyhat)], \n",
    "        'rec':[sklearn.metrics.recall_score(yy,yyhat)],\n",
    "        'f1':[sklearn.metrics.f1_score(yy,yyhat)]}\n",
    "    )    \n",
    "    return df\n",
    "\n",
    "def our_sampling1(df):\n",
    "    cus_list = set(df.query('is_fraud==1').cc_num.tolist())\n",
    "    return df.query(\"cc_num in @ cus_list\")"
   ]
  },
  {
   "cell_type": "code",
   "execution_count": 3,
   "id": "7021dc07-8a06-417b-9fb6-c71b2f05e5eb",
   "metadata": {},
   "outputs": [],
   "source": [
    "fraudTrain = pd.read_csv(\"~/Desktop/fraudTrain.csv\").iloc[:,1:]"
   ]
  },
  {
   "cell_type": "code",
   "execution_count": 4,
   "id": "eb7a9b2b-f984-4bb0-b14b-e523a00d8d38",
   "metadata": {},
   "outputs": [
    {
     "data": {
      "text/html": [
       "<div>\n",
       "<style scoped>\n",
       "    .dataframe tbody tr th:only-of-type {\n",
       "        vertical-align: middle;\n",
       "    }\n",
       "\n",
       "    .dataframe tbody tr th {\n",
       "        vertical-align: top;\n",
       "    }\n",
       "\n",
       "    .dataframe thead th {\n",
       "        text-align: right;\n",
       "    }\n",
       "</style>\n",
       "<table border=\"1\" class=\"dataframe\">\n",
       "  <thead>\n",
       "    <tr style=\"text-align: right;\">\n",
       "      <th></th>\n",
       "      <th>trans_date_trans_time</th>\n",
       "      <th>cc_num</th>\n",
       "      <th>merchant</th>\n",
       "      <th>category</th>\n",
       "      <th>amt</th>\n",
       "      <th>first</th>\n",
       "      <th>last</th>\n",
       "      <th>gender</th>\n",
       "      <th>street</th>\n",
       "      <th>city</th>\n",
       "      <th>...</th>\n",
       "      <th>lat</th>\n",
       "      <th>long</th>\n",
       "      <th>city_pop</th>\n",
       "      <th>job</th>\n",
       "      <th>dob</th>\n",
       "      <th>trans_num</th>\n",
       "      <th>unix_time</th>\n",
       "      <th>merch_lat</th>\n",
       "      <th>merch_long</th>\n",
       "      <th>is_fraud</th>\n",
       "    </tr>\n",
       "  </thead>\n",
       "  <tbody>\n",
       "    <tr>\n",
       "      <th>0</th>\n",
       "      <td>2019-01-01 00:00:00</td>\n",
       "      <td>2.703190e+15</td>\n",
       "      <td>fraud_Rippin, Kub and Mann</td>\n",
       "      <td>misc_net</td>\n",
       "      <td>4.97</td>\n",
       "      <td>Jennifer</td>\n",
       "      <td>Banks</td>\n",
       "      <td>F</td>\n",
       "      <td>561 Perry Cove</td>\n",
       "      <td>Moravian Falls</td>\n",
       "      <td>...</td>\n",
       "      <td>36.0788</td>\n",
       "      <td>-81.1781</td>\n",
       "      <td>3495</td>\n",
       "      <td>Psychologist, counselling</td>\n",
       "      <td>1988-03-09</td>\n",
       "      <td>0b242abb623afc578575680df30655b9</td>\n",
       "      <td>1325376018</td>\n",
       "      <td>36.011293</td>\n",
       "      <td>-82.048315</td>\n",
       "      <td>0</td>\n",
       "    </tr>\n",
       "    <tr>\n",
       "      <th>1</th>\n",
       "      <td>2019-01-01 00:00:00</td>\n",
       "      <td>6.304230e+11</td>\n",
       "      <td>fraud_Heller, Gutmann and Zieme</td>\n",
       "      <td>grocery_pos</td>\n",
       "      <td>107.23</td>\n",
       "      <td>Stephanie</td>\n",
       "      <td>Gill</td>\n",
       "      <td>F</td>\n",
       "      <td>43039 Riley Greens Suite 393</td>\n",
       "      <td>Orient</td>\n",
       "      <td>...</td>\n",
       "      <td>48.8878</td>\n",
       "      <td>-118.2105</td>\n",
       "      <td>149</td>\n",
       "      <td>Special educational needs teacher</td>\n",
       "      <td>1978-06-21</td>\n",
       "      <td>1f76529f8574734946361c461b024d99</td>\n",
       "      <td>1325376044</td>\n",
       "      <td>49.159047</td>\n",
       "      <td>-118.186462</td>\n",
       "      <td>0</td>\n",
       "    </tr>\n",
       "    <tr>\n",
       "      <th>2</th>\n",
       "      <td>2019-01-01 00:00:00</td>\n",
       "      <td>3.885950e+13</td>\n",
       "      <td>fraud_Lind-Buckridge</td>\n",
       "      <td>entertainment</td>\n",
       "      <td>220.11</td>\n",
       "      <td>Edward</td>\n",
       "      <td>Sanchez</td>\n",
       "      <td>M</td>\n",
       "      <td>594 White Dale Suite 530</td>\n",
       "      <td>Malad City</td>\n",
       "      <td>...</td>\n",
       "      <td>42.1808</td>\n",
       "      <td>-112.2620</td>\n",
       "      <td>4154</td>\n",
       "      <td>Nature conservation officer</td>\n",
       "      <td>1962-01-19</td>\n",
       "      <td>a1a22d70485983eac12b5b88dad1cf95</td>\n",
       "      <td>1325376051</td>\n",
       "      <td>43.150704</td>\n",
       "      <td>-112.154481</td>\n",
       "      <td>0</td>\n",
       "    </tr>\n",
       "    <tr>\n",
       "      <th>3</th>\n",
       "      <td>2019-01-01 00:01:00</td>\n",
       "      <td>3.534090e+15</td>\n",
       "      <td>fraud_Kutch, Hermiston and Farrell</td>\n",
       "      <td>gas_transport</td>\n",
       "      <td>45.00</td>\n",
       "      <td>Jeremy</td>\n",
       "      <td>White</td>\n",
       "      <td>M</td>\n",
       "      <td>9443 Cynthia Court Apt. 038</td>\n",
       "      <td>Boulder</td>\n",
       "      <td>...</td>\n",
       "      <td>46.2306</td>\n",
       "      <td>-112.1138</td>\n",
       "      <td>1939</td>\n",
       "      <td>Patent attorney</td>\n",
       "      <td>1967-01-12</td>\n",
       "      <td>6b849c168bdad6f867558c3793159a81</td>\n",
       "      <td>1325376076</td>\n",
       "      <td>47.034331</td>\n",
       "      <td>-112.561071</td>\n",
       "      <td>0</td>\n",
       "    </tr>\n",
       "    <tr>\n",
       "      <th>4</th>\n",
       "      <td>2019-01-01 00:03:00</td>\n",
       "      <td>3.755340e+14</td>\n",
       "      <td>fraud_Keeling-Crist</td>\n",
       "      <td>misc_pos</td>\n",
       "      <td>41.96</td>\n",
       "      <td>Tyler</td>\n",
       "      <td>Garcia</td>\n",
       "      <td>M</td>\n",
       "      <td>408 Bradley Rest</td>\n",
       "      <td>Doe Hill</td>\n",
       "      <td>...</td>\n",
       "      <td>38.4207</td>\n",
       "      <td>-79.4629</td>\n",
       "      <td>99</td>\n",
       "      <td>Dance movement psychotherapist</td>\n",
       "      <td>1986-03-28</td>\n",
       "      <td>a41d7549acf90789359a9aa5346dcb46</td>\n",
       "      <td>1325376186</td>\n",
       "      <td>38.674999</td>\n",
       "      <td>-78.632459</td>\n",
       "      <td>0</td>\n",
       "    </tr>\n",
       "    <tr>\n",
       "      <th>...</th>\n",
       "      <td>...</td>\n",
       "      <td>...</td>\n",
       "      <td>...</td>\n",
       "      <td>...</td>\n",
       "      <td>...</td>\n",
       "      <td>...</td>\n",
       "      <td>...</td>\n",
       "      <td>...</td>\n",
       "      <td>...</td>\n",
       "      <td>...</td>\n",
       "      <td>...</td>\n",
       "      <td>...</td>\n",
       "      <td>...</td>\n",
       "      <td>...</td>\n",
       "      <td>...</td>\n",
       "      <td>...</td>\n",
       "      <td>...</td>\n",
       "      <td>...</td>\n",
       "      <td>...</td>\n",
       "      <td>...</td>\n",
       "      <td>...</td>\n",
       "    </tr>\n",
       "    <tr>\n",
       "      <th>1048570</th>\n",
       "      <td>2020-03-10 16:07:00</td>\n",
       "      <td>6.011980e+15</td>\n",
       "      <td>fraud_Fadel Inc</td>\n",
       "      <td>health_fitness</td>\n",
       "      <td>77.00</td>\n",
       "      <td>Haley</td>\n",
       "      <td>Wagner</td>\n",
       "      <td>F</td>\n",
       "      <td>05561 Farrell Crescent</td>\n",
       "      <td>Annapolis</td>\n",
       "      <td>...</td>\n",
       "      <td>39.0305</td>\n",
       "      <td>-76.5515</td>\n",
       "      <td>92106</td>\n",
       "      <td>Accountant, chartered certified</td>\n",
       "      <td>1943-05-28</td>\n",
       "      <td>45ecd198c65e81e597db22e8d2ef7361</td>\n",
       "      <td>1362931649</td>\n",
       "      <td>38.779464</td>\n",
       "      <td>-76.317042</td>\n",
       "      <td>0</td>\n",
       "    </tr>\n",
       "    <tr>\n",
       "      <th>1048571</th>\n",
       "      <td>2020-03-10 16:07:00</td>\n",
       "      <td>4.839040e+15</td>\n",
       "      <td>fraud_Cremin, Hamill and Reichel</td>\n",
       "      <td>misc_pos</td>\n",
       "      <td>116.94</td>\n",
       "      <td>Meredith</td>\n",
       "      <td>Campbell</td>\n",
       "      <td>F</td>\n",
       "      <td>043 Hanson Turnpike</td>\n",
       "      <td>Hedrick</td>\n",
       "      <td>...</td>\n",
       "      <td>41.1826</td>\n",
       "      <td>-92.3097</td>\n",
       "      <td>1583</td>\n",
       "      <td>Geochemist</td>\n",
       "      <td>1999-06-28</td>\n",
       "      <td>c00ce51c6ebb7657474a77b9e0b51f34</td>\n",
       "      <td>1362931670</td>\n",
       "      <td>41.400318</td>\n",
       "      <td>-92.726724</td>\n",
       "      <td>0</td>\n",
       "    </tr>\n",
       "    <tr>\n",
       "      <th>1048572</th>\n",
       "      <td>2020-03-10 16:08:00</td>\n",
       "      <td>5.718440e+11</td>\n",
       "      <td>fraud_O'Connell, Botsford and Hand</td>\n",
       "      <td>home</td>\n",
       "      <td>21.27</td>\n",
       "      <td>Susan</td>\n",
       "      <td>Mills</td>\n",
       "      <td>F</td>\n",
       "      <td>005 Cody Estates</td>\n",
       "      <td>Louisville</td>\n",
       "      <td>...</td>\n",
       "      <td>38.2507</td>\n",
       "      <td>-85.7476</td>\n",
       "      <td>736284</td>\n",
       "      <td>Engineering geologist</td>\n",
       "      <td>1952-04-02</td>\n",
       "      <td>17c9dc8b2a6449ca2473726346e58e6c</td>\n",
       "      <td>1362931711</td>\n",
       "      <td>37.293339</td>\n",
       "      <td>-84.798122</td>\n",
       "      <td>0</td>\n",
       "    </tr>\n",
       "    <tr>\n",
       "      <th>1048573</th>\n",
       "      <td>2020-03-10 16:08:00</td>\n",
       "      <td>4.646850e+18</td>\n",
       "      <td>fraud_Thompson-Gleason</td>\n",
       "      <td>health_fitness</td>\n",
       "      <td>9.52</td>\n",
       "      <td>Julia</td>\n",
       "      <td>Bell</td>\n",
       "      <td>F</td>\n",
       "      <td>576 House Crossroad</td>\n",
       "      <td>West Sayville</td>\n",
       "      <td>...</td>\n",
       "      <td>40.7320</td>\n",
       "      <td>-73.1000</td>\n",
       "      <td>4056</td>\n",
       "      <td>Film/video editor</td>\n",
       "      <td>1990-06-25</td>\n",
       "      <td>5ca650881b48a6a38754f841c23b77ab</td>\n",
       "      <td>1362931718</td>\n",
       "      <td>39.773077</td>\n",
       "      <td>-72.213209</td>\n",
       "      <td>0</td>\n",
       "    </tr>\n",
       "    <tr>\n",
       "      <th>1048574</th>\n",
       "      <td>2020-03-10 16:08:00</td>\n",
       "      <td>2.283740e+15</td>\n",
       "      <td>fraud_Buckridge PLC</td>\n",
       "      <td>misc_pos</td>\n",
       "      <td>6.81</td>\n",
       "      <td>Shannon</td>\n",
       "      <td>Williams</td>\n",
       "      <td>F</td>\n",
       "      <td>9345 Spencer Junctions Suite 183</td>\n",
       "      <td>Alpharetta</td>\n",
       "      <td>...</td>\n",
       "      <td>34.0770</td>\n",
       "      <td>-84.3033</td>\n",
       "      <td>165556</td>\n",
       "      <td>Prison officer</td>\n",
       "      <td>1997-12-27</td>\n",
       "      <td>8d0a575fe635bbde12f1a2bffc126731</td>\n",
       "      <td>1362931730</td>\n",
       "      <td>33.601468</td>\n",
       "      <td>-83.891921</td>\n",
       "      <td>0</td>\n",
       "    </tr>\n",
       "  </tbody>\n",
       "</table>\n",
       "<p>1048575 rows × 22 columns</p>\n",
       "</div>"
      ],
      "text/plain": [
       "        trans_date_trans_time        cc_num  \\\n",
       "0         2019-01-01 00:00:00  2.703190e+15   \n",
       "1         2019-01-01 00:00:00  6.304230e+11   \n",
       "2         2019-01-01 00:00:00  3.885950e+13   \n",
       "3         2019-01-01 00:01:00  3.534090e+15   \n",
       "4         2019-01-01 00:03:00  3.755340e+14   \n",
       "...                       ...           ...   \n",
       "1048570   2020-03-10 16:07:00  6.011980e+15   \n",
       "1048571   2020-03-10 16:07:00  4.839040e+15   \n",
       "1048572   2020-03-10 16:08:00  5.718440e+11   \n",
       "1048573   2020-03-10 16:08:00  4.646850e+18   \n",
       "1048574   2020-03-10 16:08:00  2.283740e+15   \n",
       "\n",
       "                                   merchant        category     amt  \\\n",
       "0                fraud_Rippin, Kub and Mann        misc_net    4.97   \n",
       "1           fraud_Heller, Gutmann and Zieme     grocery_pos  107.23   \n",
       "2                      fraud_Lind-Buckridge   entertainment  220.11   \n",
       "3        fraud_Kutch, Hermiston and Farrell   gas_transport   45.00   \n",
       "4                       fraud_Keeling-Crist        misc_pos   41.96   \n",
       "...                                     ...             ...     ...   \n",
       "1048570                     fraud_Fadel Inc  health_fitness   77.00   \n",
       "1048571    fraud_Cremin, Hamill and Reichel        misc_pos  116.94   \n",
       "1048572  fraud_O'Connell, Botsford and Hand            home   21.27   \n",
       "1048573              fraud_Thompson-Gleason  health_fitness    9.52   \n",
       "1048574                 fraud_Buckridge PLC        misc_pos    6.81   \n",
       "\n",
       "             first      last gender                            street  \\\n",
       "0         Jennifer     Banks      F                    561 Perry Cove   \n",
       "1        Stephanie      Gill      F      43039 Riley Greens Suite 393   \n",
       "2           Edward   Sanchez      M          594 White Dale Suite 530   \n",
       "3           Jeremy     White      M       9443 Cynthia Court Apt. 038   \n",
       "4            Tyler    Garcia      M                  408 Bradley Rest   \n",
       "...            ...       ...    ...                               ...   \n",
       "1048570      Haley    Wagner      F            05561 Farrell Crescent   \n",
       "1048571   Meredith  Campbell      F               043 Hanson Turnpike   \n",
       "1048572      Susan     Mills      F                  005 Cody Estates   \n",
       "1048573      Julia      Bell      F               576 House Crossroad   \n",
       "1048574    Shannon  Williams      F  9345 Spencer Junctions Suite 183   \n",
       "\n",
       "                   city  ...      lat      long  city_pop  \\\n",
       "0        Moravian Falls  ...  36.0788  -81.1781      3495   \n",
       "1                Orient  ...  48.8878 -118.2105       149   \n",
       "2            Malad City  ...  42.1808 -112.2620      4154   \n",
       "3               Boulder  ...  46.2306 -112.1138      1939   \n",
       "4              Doe Hill  ...  38.4207  -79.4629        99   \n",
       "...                 ...  ...      ...       ...       ...   \n",
       "1048570       Annapolis  ...  39.0305  -76.5515     92106   \n",
       "1048571         Hedrick  ...  41.1826  -92.3097      1583   \n",
       "1048572      Louisville  ...  38.2507  -85.7476    736284   \n",
       "1048573   West Sayville  ...  40.7320  -73.1000      4056   \n",
       "1048574      Alpharetta  ...  34.0770  -84.3033    165556   \n",
       "\n",
       "                                       job         dob  \\\n",
       "0                Psychologist, counselling  1988-03-09   \n",
       "1        Special educational needs teacher  1978-06-21   \n",
       "2              Nature conservation officer  1962-01-19   \n",
       "3                          Patent attorney  1967-01-12   \n",
       "4           Dance movement psychotherapist  1986-03-28   \n",
       "...                                    ...         ...   \n",
       "1048570    Accountant, chartered certified  1943-05-28   \n",
       "1048571                         Geochemist  1999-06-28   \n",
       "1048572              Engineering geologist  1952-04-02   \n",
       "1048573                  Film/video editor  1990-06-25   \n",
       "1048574                     Prison officer  1997-12-27   \n",
       "\n",
       "                                trans_num   unix_time  merch_lat  merch_long  \\\n",
       "0        0b242abb623afc578575680df30655b9  1325376018  36.011293  -82.048315   \n",
       "1        1f76529f8574734946361c461b024d99  1325376044  49.159047 -118.186462   \n",
       "2        a1a22d70485983eac12b5b88dad1cf95  1325376051  43.150704 -112.154481   \n",
       "3        6b849c168bdad6f867558c3793159a81  1325376076  47.034331 -112.561071   \n",
       "4        a41d7549acf90789359a9aa5346dcb46  1325376186  38.674999  -78.632459   \n",
       "...                                   ...         ...        ...         ...   \n",
       "1048570  45ecd198c65e81e597db22e8d2ef7361  1362931649  38.779464  -76.317042   \n",
       "1048571  c00ce51c6ebb7657474a77b9e0b51f34  1362931670  41.400318  -92.726724   \n",
       "1048572  17c9dc8b2a6449ca2473726346e58e6c  1362931711  37.293339  -84.798122   \n",
       "1048573  5ca650881b48a6a38754f841c23b77ab  1362931718  39.773077  -72.213209   \n",
       "1048574  8d0a575fe635bbde12f1a2bffc126731  1362931730  33.601468  -83.891921   \n",
       "\n",
       "         is_fraud  \n",
       "0               0  \n",
       "1               0  \n",
       "2               0  \n",
       "3               0  \n",
       "4               0  \n",
       "...           ...  \n",
       "1048570         0  \n",
       "1048571         0  \n",
       "1048572         0  \n",
       "1048573         0  \n",
       "1048574         0  \n",
       "\n",
       "[1048575 rows x 22 columns]"
      ]
     },
     "execution_count": 4,
     "metadata": {},
     "output_type": "execute_result"
    }
   ],
   "source": [
    "fraudTrain = fraudTrain.assign(trans_date_trans_time= list(map(lambda x: pd.to_datetime(x), fraudTrain.trans_date_trans_time)))\n",
    "fraudTrain"
   ]
  },
  {
   "cell_type": "markdown",
   "id": "646be7a4-ac5c-4348-86c1-3beb0ed6d988",
   "metadata": {},
   "source": [
    "## 시도"
   ]
  },
  {
   "cell_type": "code",
   "execution_count": 5,
   "id": "adec4c87-7a49-41dd-ba04-879643113486",
   "metadata": {},
   "outputs": [
    {
     "data": {
      "text/plain": [
       "(214520, 22)"
      ]
     },
     "execution_count": 5,
     "metadata": {},
     "output_type": "execute_result"
    }
   ],
   "source": [
    "_df1 = fraudTrain[fraudTrain[\"is_fraud\"] == 0].sample(frac=0.20, random_state=42)\n",
    "_df2 = fraudTrain[fraudTrain[\"is_fraud\"] == 1]\n",
    "df02 = pd.concat([_df1,_df2])\n",
    "df02.shape"
   ]
  },
  {
   "cell_type": "code",
   "execution_count": 6,
   "id": "b1eab03c-9ee2-45e1-95a5-923642e8ce6f",
   "metadata": {},
   "outputs": [
    {
     "data": {
      "text/plain": [
       "(12012, 22)"
      ]
     },
     "execution_count": 6,
     "metadata": {},
     "output_type": "execute_result"
    }
   ],
   "source": [
    "df50 = down_sample_textbook(df02)\n",
    "df50.shape"
   ]
  },
  {
   "cell_type": "code",
   "execution_count": 15,
   "id": "0d8983c1-b6c2-4331-9adf-14d799fb8460",
   "metadata": {},
   "outputs": [
    {
     "data": {
      "text/plain": [
       "144288144"
      ]
     },
     "execution_count": 15,
     "metadata": {},
     "output_type": "execute_result"
    }
   ],
   "source": [
    "12012*12012"
   ]
  },
  {
   "cell_type": "markdown",
   "id": "f52e03a6-27b3-44ab-aabd-60def530be39",
   "metadata": {},
   "source": [
    "### 고려할 것(230810)"
   ]
  },
  {
   "cell_type": "markdown",
   "id": "c38c4444-7e97-4350-9d19-03e8af315043",
   "metadata": {},
   "source": [
    "- df50 의 shape이 12000개 이므로 9000개의 T, 3000개의 F를 train mask로 만들자.\n",
    "\n",
    "- 고객정보가 동일하면 edge를 1로, 아니면 0으로 놓고 1에대한 weight를 만들자.\n",
    "\n",
    "- g(V,E,W)에서의 weight"
   ]
  },
  {
   "cell_type": "code",
   "execution_count": 7,
   "id": "4f3c12b1-433f-41ac-85c0-c42ae389ba60",
   "metadata": {},
   "outputs": [],
   "source": [
    "df50 = df50.reset_index()"
   ]
  },
  {
   "cell_type": "code",
   "execution_count": 10,
   "id": "7cef7094-bd9b-43d1-a1c9-d4b1c9b4241c",
   "metadata": {},
   "outputs": [],
   "source": [
    "N = len(df50)"
   ]
  },
  {
   "cell_type": "markdown",
   "id": "20181816-bb2c-4920-bcc1-b12ba0d5e125",
   "metadata": {},
   "source": [
    "### 이건 weight?"
   ]
  },
  {
   "cell_type": "code",
   "execution_count": null,
   "id": "acf610d7-7d28-429a-be47-f57879353a9d",
   "metadata": {},
   "outputs": [],
   "source": [
    "edge_index_list = []\n",
    "for i in range(N):\n",
    "    for j in range(N):\n",
    "        time_difference = (df50['trans_date_trans_time'][i] - df50['trans_date_trans_time'][j]).total_seconds()\n",
    "        edge_index_list.append([i, j, time_difference])"
   ]
  },
  {
   "cell_type": "code",
   "execution_count": 14,
   "id": "d1333cbb-002f-4d9c-8864-a8660a541dd0",
   "metadata": {},
   "outputs": [
    {
     "data": {
      "text/plain": [
       "[[0, 0, 0.0],\n",
       " [0, 1, -2460.0],\n",
       " [0, 2, -7140.0],\n",
       " [0, 3, -9120.0],\n",
       " [0, 4, -10140.0]]"
      ]
     },
     "execution_count": 14,
     "metadata": {},
     "output_type": "execute_result"
    }
   ],
   "source": [
    "edge_index_list[:5]"
   ]
  },
  {
   "cell_type": "code",
   "execution_count": 15,
   "id": "22d6f9c3-43c3-4062-bac3-e1431ab0d2f4",
   "metadata": {},
   "outputs": [],
   "source": [
    "np.save('edge_index_list_50.npy', edge_index_list)\n",
    "\n",
    "loaded_data = np.load('edge_index_list_50.npy')"
   ]
  },
  {
   "cell_type": "code",
   "execution_count": 16,
   "id": "be311863-bf55-40a2-ae8d-d3c87e26a164",
   "metadata": {},
   "outputs": [
    {
     "data": {
      "text/plain": [
       "12238996.895508753"
      ]
     },
     "execution_count": 16,
     "metadata": {},
     "output_type": "execute_result"
    }
   ],
   "source": [
    "edge_index = np.array(edge_index_list)\n",
    "edge_index[:,2] = np.abs(edge_index[:,2])\n",
    "theta = edge_index[:,2].mean()\n",
    "theta"
   ]
  },
  {
   "cell_type": "code",
   "execution_count": 20,
   "id": "de4c0f1a-32df-4069-ae72-8ae6c06dbdb8",
   "metadata": {},
   "outputs": [
    {
     "data": {
      "text/plain": [
       "array([[0.00000000e+00, 0.00000000e+00, 0.00000000e+00],\n",
       "       [0.00000000e+00, 1.00000000e+00, 9.99799023e-01],\n",
       "       [0.00000000e+00, 2.00000000e+00, 9.99416789e-01],\n",
       "       ...,\n",
       "       [1.20110000e+04, 1.20090000e+04, 4.19756312e-01],\n",
       "       [1.20110000e+04, 1.20100000e+04, 2.26811434e-01],\n",
       "       [1.20110000e+04, 1.20110000e+04, 0.00000000e+00]])"
      ]
     },
     "execution_count": 20,
     "metadata": {},
     "output_type": "execute_result"
    }
   ],
   "source": [
    "edge_index[:,2] = (np.exp(-edge_index[:,2]/theta)!=1) * np.exp(-edge_index[:,2]/theta)\n",
    "edge_index"
   ]
  },
  {
   "cell_type": "code",
   "execution_count": 22,
   "id": "8e7e9081-f842-45ef-bf33-7120091368ec",
   "metadata": {},
   "outputs": [
    {
     "data": {
      "text/plain": [
       "array([0.        , 0.99979902, 0.99941679, ..., 0.41975631, 0.22681143,\n",
       "       0.        ])"
      ]
     },
     "execution_count": 22,
     "metadata": {},
     "output_type": "execute_result"
    }
   ],
   "source": [
    "edge_index[:,2]"
   ]
  },
  {
   "cell_type": "markdown",
   "id": "062c7ac3-0a98-48cb-8f73-0eac4a62edd1",
   "metadata": {},
   "source": [
    "Q. 그런데 밑에서 random으로 train하고 test로 나누게 되면..  wieght랑 edge를 어떻게 적용시키지?"
   ]
  },
  {
   "cell_type": "code",
   "execution_count": null,
   "id": "f3c5685d-f3ba-492b-b0fa-42962afdd8c7",
   "metadata": {},
   "outputs": [],
   "source": []
  },
  {
   "cell_type": "code",
   "execution_count": null,
   "id": "6a1d9587-4b8a-4340-9496-96a277da725b",
   "metadata": {},
   "outputs": [],
   "source": []
  },
  {
   "cell_type": "code",
   "execution_count": null,
   "id": "004e61f9-c7e3-44b7-a1f1-e44c4be3511f",
   "metadata": {},
   "outputs": [],
   "source": []
  },
  {
   "cell_type": "markdown",
   "id": "531708d7-226d-4e62-833a-19b04686465c",
   "metadata": {},
   "source": [
    "### edge: 같은 cc_num이면 edge=1, 다르면 edge=0"
   ]
  },
  {
   "cell_type": "code",
   "execution_count": 17,
   "id": "a836d0e0-f2f7-4a91-a95b-16db33aeec4b",
   "metadata": {},
   "outputs": [],
   "source": [
    "edge_index_list2 = []\n",
    "for i in range(N):\n",
    "    for j in range(N):\n",
    "        if df50['cc_num'][i] != df50['cc_num'][j]:  \n",
    "            edge = 0\n",
    "        else:\n",
    "            edge = 1\n",
    "        edge_index_list2.append([i, j, edge])"
   ]
  },
  {
   "cell_type": "code",
   "execution_count": 21,
   "id": "b78ca033-4f4a-44b8-91d8-b4e619f2b061",
   "metadata": {},
   "outputs": [],
   "source": [
    "np.save('edge_index_list2_50.npy', edge_index_list2)\n",
    "\n",
    "loaded_data = np.load('edge_index_list2_50.npy')"
   ]
  },
  {
   "cell_type": "code",
   "execution_count": 74,
   "id": "ae0124c8-eea8-4f25-9573-eab9bb09b6d3",
   "metadata": {},
   "outputs": [
    {
     "data": {
      "text/plain": [
       "[[0, 0, 1], [0, 1, 0], [0, 2, 0], [0, 3, 1], [0, 4, 0]]"
      ]
     },
     "execution_count": 74,
     "metadata": {},
     "output_type": "execute_result"
    }
   ],
   "source": [
    "edge_index_list2[:5]"
   ]
  },
  {
   "cell_type": "code",
   "execution_count": 86,
   "id": "c2d19fd1-90ba-4ce3-b9f0-a69474db00c6",
   "metadata": {},
   "outputs": [
    {
     "data": {
      "text/plain": [
       "[(0, 0), (0, 3), (0, 5), (0, 6), (0, 13)]"
      ]
     },
     "execution_count": 86,
     "metadata": {},
     "output_type": "execute_result"
    }
   ],
   "source": [
    "edge_one = [(i, j) for i, j, edge in edge_index_list2 if edge == 1]\n",
    "edge_one[:5]"
   ]
  },
  {
   "cell_type": "code",
   "execution_count": 91,
   "id": "e7bb848d-67a3-4d7b-964b-5924abfedf0a",
   "metadata": {},
   "outputs": [
    {
     "data": {
      "text/plain": [
       "200706"
      ]
     },
     "execution_count": 91,
     "metadata": {},
     "output_type": "execute_result"
    }
   ],
   "source": [
    "len(edge_one)"
   ]
  },
  {
   "cell_type": "code",
   "execution_count": 92,
   "id": "d8686881-6093-4a7e-9913-a1d49cfea34b",
   "metadata": {},
   "outputs": [],
   "source": [
    "edge_one_index = torch.tensor(edge_one, dtype=torch.long).t()"
   ]
  },
  {
   "cell_type": "code",
   "execution_count": 93,
   "id": "dde2c66a-a3af-4df7-b3b1-1dfd2a6ae67e",
   "metadata": {},
   "outputs": [
    {
     "data": {
      "text/plain": [
       "torch.Size([2, 200706])"
      ]
     },
     "execution_count": 93,
     "metadata": {},
     "output_type": "execute_result"
    }
   ],
   "source": [
    "edge_one_index.shape"
   ]
  },
  {
   "cell_type": "markdown",
   "id": "b5d8746f-a33e-41b5-8068-0ea64fff2a86",
   "metadata": {},
   "source": [
    "> edge_list2를 만든다 해도.. 밑에서 다시 적용하려면 index가 달라지면 못하ㅏ는거아닌가?"
   ]
  },
  {
   "cell_type": "markdown",
   "id": "9eafa728-410f-4193-9c7d-be5f8ed7fa24",
   "metadata": {},
   "source": [
    "-------------------"
   ]
  },
  {
   "cell_type": "markdown",
   "id": "6e09a665-3f15-4e43-a2d7-843deb04db4e",
   "metadata": {},
   "source": [
    "### tr/test"
   ]
  },
  {
   "cell_type": "code",
   "execution_count": 57,
   "id": "1746ec92-50c0-402d-8297-92cb67c718d5",
   "metadata": {},
   "outputs": [],
   "source": [
    "df50_tr,df50_test = sklearn.model_selection.train_test_split(df50, random_state=42)"
   ]
  },
  {
   "cell_type": "code",
   "execution_count": 58,
   "id": "390c18d0-045c-4473-b1b2-3c8314cbdfbc",
   "metadata": {},
   "outputs": [
    {
     "data": {
      "text/plain": [
       "(0.49828, 0.50516)"
      ]
     },
     "execution_count": 58,
     "metadata": {},
     "output_type": "execute_result"
    }
   ],
   "source": [
    "df50_tr.is_fraud.mean().round(5), df50_test.is_fraud.mean().round(5)"
   ]
  },
  {
   "cell_type": "code",
   "execution_count": 61,
   "id": "ba8e5c8a-e54e-4982-b4db-4e89f5239dfa",
   "metadata": {},
   "outputs": [
    {
     "data": {
      "text/plain": [
       "((9009, 23), (3003, 23))"
      ]
     },
     "execution_count": 61,
     "metadata": {},
     "output_type": "execute_result"
    }
   ],
   "source": [
    "df50_tr.shape, df50_test.shape"
   ]
  },
  {
   "cell_type": "code",
   "execution_count": 113,
   "id": "c7632cdd-a4fb-42dc-8c53-b5d731c5278d",
   "metadata": {},
   "outputs": [
    {
     "name": "stdout",
     "output_type": "stream",
     "text": [
      "Train Mask: [ True  True  True ... False False False]\n",
      "Test Mask: [False False False ...  True  True  True]\n"
     ]
    }
   ],
   "source": [
    "train_mask = np.concatenate((np.full(9009, True), np.full(3003, False)))\n",
    "test_mask = np.concatenate((np.full(9009, False), np.full(3003, True)))\n",
    "print(\"Train Mask:\", train_mask)\n",
    "print(\"Test Mask:\", test_mask)"
   ]
  },
  {
   "cell_type": "code",
   "execution_count": 204,
   "id": "88aef965-27b8-4007-956b-b40583d8d5ce",
   "metadata": {},
   "outputs": [
    {
     "data": {
      "text/plain": [
       "((12012,), (12012,))"
      ]
     },
     "execution_count": 204,
     "metadata": {},
     "output_type": "execute_result"
    }
   ],
   "source": [
    "train_mask.shape, test_mask.shape"
   ]
  },
  {
   "cell_type": "code",
   "execution_count": 205,
   "id": "1211b810-0238-4256-b14c-00e44833cf9e",
   "metadata": {},
   "outputs": [
    {
     "data": {
      "text/plain": [
       "(9009, 3003)"
      ]
     },
     "execution_count": 205,
     "metadata": {},
     "output_type": "execute_result"
    }
   ],
   "source": [
    "train_mask.sum(), test_mask.sum()"
   ]
  },
  {
   "cell_type": "markdown",
   "id": "b158545a-8565-4abe-b982-73e4412caa7b",
   "metadata": {},
   "source": [
    "> 여기서 tr/test를 나눠서 하는건 안될거같어."
   ]
  },
  {
   "cell_type": "markdown",
   "id": "772ec8d5-bfc8-4f1a-8909-9c7c53e66e0d",
   "metadata": {},
   "source": [
    "---"
   ]
  },
  {
   "cell_type": "markdown",
   "id": "c6292543-c350-4177-ac60-3856f4c120d0",
   "metadata": {},
   "source": [
    "### data설정(x, edge_index, y)"
   ]
  },
  {
   "cell_type": "code",
   "execution_count": 163,
   "id": "88504d40-8829-4b6f-93ed-e5bebbf8e508",
   "metadata": {},
   "outputs": [],
   "source": [
    "x = df50['amt']"
   ]
  },
  {
   "cell_type": "code",
   "execution_count": 63,
   "id": "7a8d5ba3-9e58-4896-8ce2-62352b1b9175",
   "metadata": {},
   "outputs": [],
   "source": [
    "a = torch.tensor(x, dtype=torch.float)"
   ]
  },
  {
   "cell_type": "code",
   "execution_count": 64,
   "id": "b343eda7-3c52-4db9-9f51-131869d81378",
   "metadata": {},
   "outputs": [
    {
     "data": {
      "text/plain": [
       "tensor([[281.0600],\n",
       "        [ 11.5200],\n",
       "        [276.3100],\n",
       "        ...,\n",
       "        [  8.1200],\n",
       "        [  3.5200],\n",
       "        [ 84.1500]])"
      ]
     },
     "execution_count": 64,
     "metadata": {},
     "output_type": "execute_result"
    }
   ],
   "source": [
    "a = a.reshape(-1,1)\n",
    "a"
   ]
  },
  {
   "cell_type": "code",
   "execution_count": 65,
   "id": "f2d16b59-91b5-4208-af59-6c7d017ab922",
   "metadata": {},
   "outputs": [],
   "source": [
    "y = df50['is_fraud']"
   ]
  },
  {
   "cell_type": "code",
   "execution_count": 66,
   "id": "da3d4c18-b449-4720-befe-e2ed89e1300e",
   "metadata": {},
   "outputs": [],
   "source": [
    "b = torch.tensor(y,dtype=torch.int64)"
   ]
  },
  {
   "cell_type": "code",
   "execution_count": 67,
   "id": "8866eb60-6989-46e0-9be9-16b1f3961c44",
   "metadata": {},
   "outputs": [
    {
     "data": {
      "text/plain": [
       "tensor([1, 1, 1,  ..., 0, 0, 0])"
      ]
     },
     "execution_count": 67,
     "metadata": {},
     "output_type": "execute_result"
    }
   ],
   "source": [
    "b"
   ]
  },
  {
   "cell_type": "code",
   "execution_count": 68,
   "id": "1bd32099-d17d-4f16-ad61-8c8d79def338",
   "metadata": {},
   "outputs": [],
   "source": [
    "import torch_geometric"
   ]
  },
  {
   "cell_type": "code",
   "execution_count": 138,
   "id": "5e204f74-b36f-4029-b15d-124dc2d18e24",
   "metadata": {},
   "outputs": [],
   "source": [
    "data = torch_geometric.data.Data(x=a, edge_index = edge_one_index, y=b, train_mask = train_mask, test_mask = test_mask)"
   ]
  },
  {
   "cell_type": "code",
   "execution_count": 139,
   "id": "1ba154a6-c153-498a-8d49-f8be662eb34f",
   "metadata": {},
   "outputs": [
    {
     "data": {
      "text/plain": [
       "Data(x=[12012, 1], edge_index=[2, 200706], y=[12012], train_mask=[12012], test_mask=[12012])"
      ]
     },
     "execution_count": 139,
     "metadata": {},
     "output_type": "execute_result"
    }
   ],
   "source": [
    "data"
   ]
  },
  {
   "cell_type": "markdown",
   "id": "36dd0110-0029-4a57-8ce6-86ea19592b4b",
   "metadata": {},
   "source": [
    "흠 .. 위의 edge_index에서. 각각의 w를 어떻게 연산해주려나"
   ]
  },
  {
   "cell_type": "code",
   "execution_count": null,
   "id": "91eca4dc-f76c-4fca-8313-cd9157018167",
   "metadata": {},
   "outputs": [],
   "source": []
  },
  {
   "cell_type": "code",
   "execution_count": null,
   "id": "65b1f943-9621-47ae-8bb2-951547a808eb",
   "metadata": {},
   "outputs": [],
   "source": []
  },
  {
   "cell_type": "markdown",
   "id": "4b4801cc-854a-41db-ad6b-efd5743fd1ba",
   "metadata": {},
   "source": [
    "x랑 y의 순서를 무작위로 바꿔야하눈뎀. > 음 그럼 일단 edge_one_index이거부터 또 다싷..?"
   ]
  },
  {
   "cell_type": "markdown",
   "id": "0574eb03-47a5-4811-90ba-f1d491e179f9",
   "metadata": {},
   "source": [
    "---"
   ]
  },
  {
   "cell_type": "markdown",
   "id": "c5ff7e71-5085-4d57-a5fe-3c0a1436ce50",
   "metadata": {},
   "source": [
    "### data설정 다시?"
   ]
  },
  {
   "cell_type": "code",
   "execution_count": 178,
   "id": "7f09206f-81a7-4e8d-8d25-8bd33e47dffd",
   "metadata": {},
   "outputs": [],
   "source": [
    "x = np.concatenate((np.array(df50_tr['amt']), np.array(df50_test['amt'])))"
   ]
  },
  {
   "cell_type": "code",
   "execution_count": 179,
   "id": "ce35d9ba-e2a5-48c5-a14f-f3b73010527e",
   "metadata": {},
   "outputs": [],
   "source": [
    "a = torch.tensor(x2, dtype=torch.float)"
   ]
  },
  {
   "cell_type": "code",
   "execution_count": 180,
   "id": "ed28761d-c313-400f-86f1-ed6c71562db4",
   "metadata": {},
   "outputs": [
    {
     "data": {
      "text/plain": [
       "tensor([[921.2400],\n",
       "        [698.2800],\n",
       "        [220.5600],\n",
       "        ...,\n",
       "        [ 17.9700],\n",
       "        [  7.5800],\n",
       "        [824.9900]])"
      ]
     },
     "execution_count": 180,
     "metadata": {},
     "output_type": "execute_result"
    }
   ],
   "source": [
    "a = a.reshape(-1,1)\n",
    "a"
   ]
  },
  {
   "cell_type": "code",
   "execution_count": 181,
   "id": "add51a0e-af63-4073-b15f-971f42bf829b",
   "metadata": {},
   "outputs": [],
   "source": [
    "y = np.concatenate((np.array(df50_tr['is_fraud']), np.array(df50_test['is_fraud'])))"
   ]
  },
  {
   "cell_type": "code",
   "execution_count": 182,
   "id": "4e2a3705-72e2-454d-93d4-dffc47b20b61",
   "metadata": {},
   "outputs": [],
   "source": [
    "b = torch.tensor(y,dtype=torch.int64)"
   ]
  },
  {
   "cell_type": "code",
   "execution_count": 183,
   "id": "0fd6897a-b218-4906-8a01-ef8084b8e846",
   "metadata": {},
   "outputs": [],
   "source": [
    "data = torch_geometric.data.Data(x=a, edge_index = edge_one_index, y=b, train_mask = train_mask, test_mask = test_mask)"
   ]
  },
  {
   "cell_type": "code",
   "execution_count": null,
   "id": "751a4d4f-dcd9-4547-8240-ed16b33c9cb0",
   "metadata": {},
   "outputs": [],
   "source": [
    "바꿔버리면 .."
   ]
  },
  {
   "cell_type": "code",
   "execution_count": null,
   "id": "8028abc6-d178-49e5-8d95-0162794a3957",
   "metadata": {},
   "outputs": [],
   "source": []
  },
  {
   "cell_type": "markdown",
   "id": "67c5ee44-6efc-4b7f-a7d6-a26052d1e687",
   "metadata": {},
   "source": [
    "---"
   ]
  },
  {
   "cell_type": "markdown",
   "id": "3ecfa41f-ad3d-4163-ae4a-4a6aa1bac85d",
   "metadata": {},
   "source": [
    "### gnn"
   ]
  },
  {
   "cell_type": "code",
   "execution_count": 198,
   "id": "a056670c-61d7-4056-ae60-e82896654ca3",
   "metadata": {
    "tags": []
   },
   "outputs": [],
   "source": [
    "\n",
    "\n",
    "import torch\n",
    "import torch.nn.functional as F\n",
    "from torch_geometric.nn import GCNConv\n",
    "\n",
    "class GCN(torch.nn.Module):\n",
    "    def __init__(self):\n",
    "        super().__init__()\n",
    "        self.conv1 = GCNConv(1, 16)\n",
    "        self.conv2 = GCNConv(16,2)\n",
    "\n",
    "    def forward(self, data):\n",
    "        x, edge_index = data.x, data.edge_index\n",
    "\n",
    "        x = self.conv1(x, edge_index)\n",
    "        x = F.relu(x)\n",
    "        x = F.dropout(x, training=self.training)\n",
    "        x = self.conv2(x, edge_index)\n",
    "\n",
    "        return F.log_softmax(x, dim=1)"
   ]
  },
  {
   "cell_type": "code",
   "execution_count": 199,
   "id": "23811540-0624-42f0-a5b0-fd103b022621",
   "metadata": {},
   "outputs": [],
   "source": [
    "model = GCN()"
   ]
  },
  {
   "cell_type": "code",
   "execution_count": 200,
   "id": "46883b47-b447-4bc7-b853-27afb6d4e48a",
   "metadata": {},
   "outputs": [
    {
     "data": {
      "text/plain": [
       "GCN(\n",
       "  (conv1): GCNConv(1, 16)\n",
       "  (conv2): GCNConv(16, 2)\n",
       ")"
      ]
     },
     "execution_count": 200,
     "metadata": {},
     "output_type": "execute_result"
    }
   ],
   "source": [
    "model"
   ]
  },
  {
   "cell_type": "code",
   "execution_count": 201,
   "id": "80f5bb84-a21e-4a54-bb01-e3249488c2d4",
   "metadata": {},
   "outputs": [
    {
     "data": {
      "text/plain": [
       "GCN(\n",
       "  (conv1): GCNConv(1, 16)\n",
       "  (conv2): GCNConv(16, 2)\n",
       ")"
      ]
     },
     "execution_count": 201,
     "metadata": {},
     "output_type": "execute_result"
    }
   ],
   "source": [
    "optimizer = torch.optim.Adam(model.parameters(), lr=0.01, weight_decay=5e-4)\n",
    "model.train()"
   ]
  },
  {
   "cell_type": "markdown",
   "id": "84a1c531-356d-4c7b-9723-1fed45b808d6",
   "metadata": {},
   "source": [
    "------"
   ]
  },
  {
   "cell_type": "code",
   "execution_count": null,
   "id": "8e378bd9-7e80-4423-89f2-ea70689c3f38",
   "metadata": {},
   "outputs": [],
   "source": []
  },
  {
   "cell_type": "code",
   "execution_count": null,
   "id": "68c772a6-7f58-45f7-a4f9-8bfd2ee833a7",
   "metadata": {},
   "outputs": [],
   "source": []
  },
  {
   "cell_type": "code",
   "execution_count": 188,
   "id": "d02dd95d-4c9d-4baa-8e1c-ab2866bba701",
   "metadata": {},
   "outputs": [],
   "source": [
    "for epoch in range(200):\n",
    "    optimizer.zero_grad()\n",
    "    out = model(data)\n",
    "    loss = F.nll_loss(out[data.train_mask], data.y[data.train_mask])\n",
    "    loss.backward()\n",
    "    optimizer.step()"
   ]
  },
  {
   "cell_type": "code",
   "execution_count": 189,
   "id": "00c231c6-cbd8-424c-8b19-d113472a6954",
   "metadata": {},
   "outputs": [
    {
     "name": "stdout",
     "output_type": "stream",
     "text": [
      "Accuracy: 0.5758\n"
     ]
    }
   ],
   "source": [
    "model.eval()\n",
    "pred = model(data).argmax(dim=1)\n",
    "correct = (pred[data.test_mask] == data.y[data.test_mask]).sum()\n",
    "acc = int(correct) / int(data.test_mask.sum())\n",
    "print(f'Accuracy: {acc:.4f}')"
   ]
  },
  {
   "cell_type": "code",
   "execution_count": 191,
   "id": "4376fa3b-fc95-4cbb-99e3-b56506a45f1c",
   "metadata": {},
   "outputs": [
    {
     "data": {
      "text/plain": [
       "tensor([[-0.7724, -0.6197],\n",
       "        [-0.9459, -0.4916],\n",
       "        [-0.9459, -0.4916],\n",
       "        ...,\n",
       "        [-0.7770, -0.6158],\n",
       "        [-0.6621, -0.7252],\n",
       "        [-0.6588, -0.7287]], grad_fn=<IndexBackward0>)"
      ]
     },
     "execution_count": 191,
     "metadata": {},
     "output_type": "execute_result"
    }
   ],
   "source": [
    "out[data.train_mask]"
   ]
  },
  {
   "cell_type": "code",
   "execution_count": 193,
   "id": "db258155-1629-4ed3-b953-ee0753cd0dba",
   "metadata": {},
   "outputs": [
    {
     "data": {
      "text/plain": [
       "tensor(4489)"
      ]
     },
     "execution_count": 193,
     "metadata": {},
     "output_type": "execute_result"
    }
   ],
   "source": [
    "data.y[data.train_mask].sum()"
   ]
  },
  {
   "cell_type": "code",
   "execution_count": 194,
   "id": "a6702353-a71a-4b2f-9f5e-631d468875e7",
   "metadata": {},
   "outputs": [
    {
     "data": {
      "text/plain": [
       "3003"
      ]
     },
     "execution_count": 194,
     "metadata": {},
     "output_type": "execute_result"
    }
   ],
   "source": [
    "data.test_mask.sum()"
   ]
  },
  {
   "cell_type": "code",
   "execution_count": 196,
   "id": "e38c6ac4-5c3f-4ecc-986c-c32334c32fee",
   "metadata": {},
   "outputs": [
    {
     "data": {
      "text/plain": [
       "tensor(0.5758)"
      ]
     },
     "execution_count": 196,
     "metadata": {},
     "output_type": "execute_result"
    }
   ],
   "source": [
    "correct/3003"
   ]
  },
  {
   "cell_type": "code",
   "execution_count": null,
   "id": "13b52dd6-deb1-4769-86a8-7c334759c0f8",
   "metadata": {},
   "outputs": [],
   "source": []
  },
  {
   "cell_type": "markdown",
   "id": "09081157-22b1-45f1-8ea4-ea37ff01cca1",
   "metadata": {},
   "source": [
    "---"
   ]
  },
  {
   "cell_type": "markdown",
   "id": "17ff70ce-8e2f-410f-a8d6-039d80420c5d",
   "metadata": {},
   "source": [
    "------"
   ]
  },
  {
   "cell_type": "code",
   "execution_count": null,
   "id": "f6ecfdfb-7040-4541-89a4-22b4bd8f2309",
   "metadata": {},
   "outputs": [],
   "source": []
  },
  {
   "cell_type": "code",
   "execution_count": null,
   "id": "0039b19f-777c-4053-978a-98ec63266998",
   "metadata": {},
   "outputs": [],
   "source": []
  },
  {
   "cell_type": "code",
   "execution_count": null,
   "id": "a66926cf-08cb-4cb8-a1cd-f15bcaa22aa3",
   "metadata": {},
   "outputs": [],
   "source": [
    "\n"
   ]
  },
  {
   "cell_type": "code",
   "execution_count": 135,
   "id": "b06fad3c-7036-44df-b14e-6ae3f8b83a00",
   "metadata": {},
   "outputs": [
    {
     "name": "stdout",
     "output_type": "stream",
     "text": [
      "Accuracy: 0.9325\n"
     ]
    }
   ],
   "source": [
    "model.eval()\n",
    "pred = model(data).argmax(dim=1)\n",
    "correct = (pred == data.y).sum() # 애큐러시는 test\n",
    "acc = int(correct) / 9009\n",
    "print(f'Accuracy: {acc:.4f}')"
   ]
  },
  {
   "cell_type": "code",
   "execution_count": null,
   "id": "a4e6b504-d8d2-4dbe-91fc-4dda994ce501",
   "metadata": {},
   "outputs": [],
   "source": []
  },
  {
   "cell_type": "code",
   "execution_count": null,
   "id": "c17dba3f-6e7e-4235-9c1f-7aa6a2f56c3a",
   "metadata": {},
   "outputs": [],
   "source": []
  },
  {
   "cell_type": "code",
   "execution_count": null,
   "id": "aa64d071-acfb-4fa4-9998-9f9ab80224a6",
   "metadata": {},
   "outputs": [],
   "source": []
  },
  {
   "cell_type": "markdown",
   "id": "e6ae1d68-f0b2-4f8f-8a01-6d7d6c1e9ae6",
   "metadata": {},
   "source": [
    "### 고려할 것(230810)2"
   ]
  },
  {
   "cell_type": "markdown",
   "id": "1dd064f6-9bb0-4442-9eb1-3771755f1838",
   "metadata": {},
   "source": [
    "- 현재 df50의 fraud 비율은 5:5 인데, 다른 비율을 가진 데이터로도 해보자\n",
    "\n",
    "- GNN으로 돌려본 것과 다른 방법들과 비교를 해보자 \n",
    "\n",
    "- undersampling한 다른 데이터들과 비교해 볼 수 있을 듯(boost, logis, ...)\n",
    "\n",
    "- 9000/3000 데이터를 통해 합성 데이터를 만드는데, 12000개를 그대로 만드는 방법, 고객별로(cc_num) 합성 데이터를 만드는 방법, 똑같은 cc_num로 특이한 데이터가 있다면 normal데이터와 특이 데이터를 생각해서 돌리는 방법 등을 고려하자."
   ]
  },
  {
   "cell_type": "code",
   "execution_count": null,
   "id": "ea06ac11-0cd0-4038-8994-6fcf7c80aa1f",
   "metadata": {},
   "outputs": [],
   "source": []
  },
  {
   "cell_type": "code",
   "execution_count": null,
   "id": "36e3c701-9f06-450a-b9e0-dfcb45376a56",
   "metadata": {},
   "outputs": [],
   "source": []
  },
  {
   "cell_type": "code",
   "execution_count": null,
   "id": "5e5a71b3-1be7-4196-8f45-e6679297f211",
   "metadata": {},
   "outputs": [],
   "source": []
  },
  {
   "cell_type": "code",
   "execution_count": null,
   "id": "9d59568a-545f-4c1f-9cc7-2b7b2c89087a",
   "metadata": {},
   "outputs": [],
   "source": []
  },
  {
   "cell_type": "code",
   "execution_count": 31,
   "id": "993f6531-37c2-4be2-8eab-cd3481e3b780",
   "metadata": {},
   "outputs": [],
   "source": []
  },
  {
   "cell_type": "code",
   "execution_count": 32,
   "id": "3241c7c3-f884-41c2-b6f7-ceabf5ec2db4",
   "metadata": {},
   "outputs": [],
   "source": [
    "edge_index = np.array(edge_index_list)"
   ]
  },
  {
   "cell_type": "code",
   "execution_count": 33,
   "id": "0d9fbf10-bd2a-4f20-b81e-72d3883583f5",
   "metadata": {},
   "outputs": [
    {
     "data": {
      "text/plain": [
       "(81162081, 3)"
      ]
     },
     "execution_count": 33,
     "metadata": {},
     "output_type": "execute_result"
    }
   ],
   "source": [
    "edge_index.shape"
   ]
  },
  {
   "cell_type": "code",
   "execution_count": 34,
   "id": "fb850e8c-c5cc-4448-9bee-90cfed6b7fce",
   "metadata": {},
   "outputs": [],
   "source": [
    "edge_index[:,2] = np.abs(edge_index[:,2])"
   ]
  },
  {
   "cell_type": "code",
   "execution_count": 35,
   "id": "b697e389-0761-4a18-8fde-b316275cb31c",
   "metadata": {},
   "outputs": [
    {
     "data": {
      "text/plain": [
       "12230796.273867842"
      ]
     },
     "execution_count": 35,
     "metadata": {},
     "output_type": "execute_result"
    }
   ],
   "source": [
    "theta = edge_index[:,2].mean()\n",
    "theta"
   ]
  },
  {
   "cell_type": "code",
   "execution_count": 36,
   "id": "041de342-6e42-4147-82e5-db6f26977a73",
   "metadata": {},
   "outputs": [],
   "source": [
    "edge_index[:,2] = (np.exp(-edge_index[:,2]/theta)!=1) * np.exp(-edge_index[:,2]/theta)"
   ]
  },
  {
   "cell_type": "code",
   "execution_count": 37,
   "id": "55ef9411-1e70-4551-a3d1-841810c24a28",
   "metadata": {},
   "outputs": [
    {
     "data": {
      "text/plain": [
       "array([[0.00000000e+00, 0.00000000e+00, 0.00000000e+00],\n",
       "       [0.00000000e+00, 1.00000000e+00, 1.90157975e-01],\n",
       "       [0.00000000e+00, 2.00000000e+00, 9.79646259e-02],\n",
       "       ...,\n",
       "       [9.00800000e+03, 9.00600000e+03, 6.60662164e-01],\n",
       "       [9.00800000e+03, 9.00700000e+03, 1.49150646e-01],\n",
       "       [9.00800000e+03, 9.00800000e+03, 0.00000000e+00]])"
      ]
     },
     "execution_count": 37,
     "metadata": {},
     "output_type": "execute_result"
    }
   ],
   "source": [
    "edge_index"
   ]
  },
  {
   "cell_type": "code",
   "execution_count": 159,
   "id": "d3a56010-e4fb-4d0c-9946-c76bf7f50afd",
   "metadata": {},
   "outputs": [],
   "source": [
    "eee = edge_index[:,:]"
   ]
  },
  {
   "cell_type": "code",
   "execution_count": 161,
   "id": "8a5885b9-b2c7-4352-b288-3658a605d8dc",
   "metadata": {},
   "outputs": [
    {
     "data": {
      "text/plain": [
       "array([0.000e+00, 1.000e+00, 2.000e+00, ..., 9.006e+03, 9.007e+03,\n",
       "       9.008e+03])"
      ]
     },
     "execution_count": 161,
     "metadata": {},
     "output_type": "execute_result"
    }
   ],
   "source": [
    "eee[:,1]"
   ]
  },
  {
   "cell_type": "code",
   "execution_count": 38,
   "id": "6a8bcc96-6de0-4a6a-abba-7862a1271a58",
   "metadata": {},
   "outputs": [],
   "source": [
    "edge_index_list_updated = edge_index.tolist()"
   ]
  },
  {
   "cell_type": "code",
   "execution_count": 39,
   "id": "e6f4bcd2-97e8-4cbf-bddc-8f9f4125960e",
   "metadata": {},
   "outputs": [
    {
     "data": {
      "text/plain": [
       "[[0.0, 0.0, 0.0],\n",
       " [0.0, 1.0, 0.19015797528259762],\n",
       " [0.0, 2.0, 0.09796462590589798],\n",
       " [0.0, 3.0, 0.1424157407389685],\n",
       " [0.0, 4.0, 0.11107338192969567]]"
      ]
     },
     "execution_count": 39,
     "metadata": {},
     "output_type": "execute_result"
    }
   ],
   "source": [
    "edge_index_list_updated[:5]"
   ]
  },
  {
   "cell_type": "markdown",
   "id": "63dc0c49-0ca1-4f97-95eb-0e8693f51caf",
   "metadata": {},
   "source": [
    "- cc_num로 그룹별로 묶자."
   ]
  },
  {
   "cell_type": "code",
   "execution_count": 23,
   "id": "3e030499-3306-4a6b-ae9b-6f143adbf2f2",
   "metadata": {},
   "outputs": [],
   "source": [
    "edge_index = np.array(edge_index_list)"
   ]
  },
  {
   "cell_type": "code",
   "execution_count": 24,
   "id": "c8fa09d1-0195-4545-9045-d4793bd13232",
   "metadata": {},
   "outputs": [
    {
     "data": {
      "text/plain": [
       "(81162081, 3)"
      ]
     },
     "execution_count": 24,
     "metadata": {},
     "output_type": "execute_result"
    }
   ],
   "source": [
    "edge_index.shape"
   ]
  },
  {
   "cell_type": "code",
   "execution_count": 25,
   "id": "e580e97f-74e4-4283-b3fd-96d9f76ec569",
   "metadata": {},
   "outputs": [
    {
     "data": {
      "text/plain": [
       "array([[0.000e+00, 0.000e+00, 0.000e+00],\n",
       "       [0.000e+00, 1.000e+00, 0.000e+00],\n",
       "       [0.000e+00, 2.000e+00, 0.000e+00],\n",
       "       ...,\n",
       "       [9.008e+03, 9.006e+03, 0.000e+00],\n",
       "       [9.008e+03, 9.007e+03, 0.000e+00],\n",
       "       [9.008e+03, 9.008e+03, 0.000e+00]])"
      ]
     },
     "execution_count": 25,
     "metadata": {},
     "output_type": "execute_result"
    }
   ],
   "source": [
    "edge_index"
   ]
  },
  {
   "cell_type": "code",
   "execution_count": 26,
   "id": "f0e843e1-6631-47e6-b336-0a2929b45c72",
   "metadata": {},
   "outputs": [],
   "source": [
    "edge_index[:,2] = np.abs(edge_index[:,2])"
   ]
  },
  {
   "cell_type": "code",
   "execution_count": 27,
   "id": "710d65ef-adac-4519-be26-c155cf3bb1b5",
   "metadata": {},
   "outputs": [
    {
     "data": {
      "text/plain": [
       "10988.585252761077"
      ]
     },
     "execution_count": 27,
     "metadata": {},
     "output_type": "execute_result"
    }
   ],
   "source": [
    "theta = edge_index[:,2].mean()\n",
    "theta"
   ]
  },
  {
   "cell_type": "code",
   "execution_count": 28,
   "id": "e9c57e46-f1c7-4ea3-ad8b-4c022ef6cbc8",
   "metadata": {},
   "outputs": [
    {
     "data": {
      "text/plain": [
       "array([[0.000e+00, 0.000e+00, 0.000e+00],\n",
       "       [0.000e+00, 1.000e+00, 0.000e+00],\n",
       "       [0.000e+00, 2.000e+00, 0.000e+00],\n",
       "       ...,\n",
       "       [9.008e+03, 9.006e+03, 0.000e+00],\n",
       "       [9.008e+03, 9.007e+03, 0.000e+00],\n",
       "       [9.008e+03, 9.008e+03, 0.000e+00]])"
      ]
     },
     "execution_count": 28,
     "metadata": {},
     "output_type": "execute_result"
    }
   ],
   "source": [
    "edge_index"
   ]
  },
  {
   "cell_type": "code",
   "execution_count": 29,
   "id": "74e5c3d5-2ce5-4d4c-90bb-065f5ecfa73e",
   "metadata": {},
   "outputs": [],
   "source": [
    "edge_index[:,2] = (np.exp(-edge_index[:,2]/theta)!=1) * np.exp(-edge_index[:,2]/theta)"
   ]
  },
  {
   "cell_type": "code",
   "execution_count": 30,
   "id": "e3dc891e-744f-4377-b7a9-9cf57422e34b",
   "metadata": {},
   "outputs": [
    {
     "data": {
      "text/plain": [
       "array([[0.000e+00, 0.000e+00, 0.000e+00],\n",
       "       [0.000e+00, 1.000e+00, 0.000e+00],\n",
       "       [0.000e+00, 2.000e+00, 0.000e+00],\n",
       "       ...,\n",
       "       [9.008e+03, 9.006e+03, 0.000e+00],\n",
       "       [9.008e+03, 9.007e+03, 0.000e+00],\n",
       "       [9.008e+03, 9.008e+03, 0.000e+00]])"
      ]
     },
     "execution_count": 30,
     "metadata": {},
     "output_type": "execute_result"
    }
   ],
   "source": [
    "edge_index"
   ]
  },
  {
   "cell_type": "code",
   "execution_count": 31,
   "id": "98d41435-adba-451e-afb8-22f90266b0b4",
   "metadata": {},
   "outputs": [],
   "source": [
    "edge_index_list_updated = edge_index.tolist()"
   ]
  },
  {
   "cell_type": "code",
   "execution_count": 32,
   "id": "57fa2122-0cfe-42c5-864c-abb6dfadffc4",
   "metadata": {},
   "outputs": [
    {
     "data": {
      "text/plain": [
       "8.344409093328692e-05"
      ]
     },
     "execution_count": 32,
     "metadata": {},
     "output_type": "execute_result"
    }
   ],
   "source": [
    "np.array(edge_index_list_updated)[:,2].mean()"
   ]
  },
  {
   "cell_type": "code",
   "execution_count": 33,
   "id": "b9dfb42f-5095-4caa-92ba-8043028893ab",
   "metadata": {},
   "outputs": [],
   "source": [
    "mm = np.array(edge_index_list_updated)[:,2].mean()"
   ]
  },
  {
   "cell_type": "markdown",
   "id": "e4fd8e89-f108-4873-8bfc-2c1561d2f3c4",
   "metadata": {},
   "source": [
    "edge_index_list_updated가 w"
   ]
  },
  {
   "cell_type": "code",
   "execution_count": 34,
   "id": "afaa3794-c769-4869-9e7a-0dcdff9e5f0c",
   "metadata": {},
   "outputs": [],
   "source": [
    "selected_edges = [(int(row[0]), int(row[1])) for row in edge_index_list_updated if row[2] > mm]"
   ]
  },
  {
   "cell_type": "code",
   "execution_count": 35,
   "id": "b6dad5d8-aecf-4395-87e0-253da5b8173e",
   "metadata": {},
   "outputs": [],
   "source": [
    "edge_index_selected = torch.tensor(selected_edges, dtype=torch.long).t()"
   ]
  },
  {
   "cell_type": "code",
   "execution_count": 36,
   "id": "be2be660-58d4-4347-86f3-8ac70453ae3b",
   "metadata": {},
   "outputs": [
    {
     "data": {
      "text/plain": [
       "torch.Size([2, 28472])"
      ]
     },
     "execution_count": 36,
     "metadata": {},
     "output_type": "execute_result"
    }
   ],
   "source": [
    "edge_index_selected.shape"
   ]
  },
  {
   "cell_type": "code",
   "execution_count": 59,
   "id": "f36bafc0-04dd-401e-83d9-1acd70ce9a7f",
   "metadata": {},
   "outputs": [
    {
     "data": {
      "text/plain": [
       "array([[0.000e+00, 0.000e+00, 0.000e+00],\n",
       "       [0.000e+00, 1.000e+00, 0.000e+00],\n",
       "       [0.000e+00, 2.000e+00, 0.000e+00],\n",
       "       ...,\n",
       "       [9.008e+03, 9.006e+03, 0.000e+00],\n",
       "       [9.008e+03, 9.007e+03, 0.000e+00],\n",
       "       [9.008e+03, 9.008e+03, 0.000e+00]])"
      ]
     },
     "execution_count": 59,
     "metadata": {},
     "output_type": "execute_result"
    }
   ],
   "source": [
    "edge_index"
   ]
  },
  {
   "cell_type": "code",
   "execution_count": 60,
   "id": "2d44ff88-aa5e-4540-95be-4a1d66c9b927",
   "metadata": {},
   "outputs": [],
   "source": []
  },
  {
   "cell_type": "code",
   "execution_count": null,
   "id": "618fea38-36a7-4051-a5da-a7f2b298aa84",
   "metadata": {},
   "outputs": [],
   "source": []
  },
  {
   "cell_type": "markdown",
   "id": "f96bbc1b-22c1-421e-9228-c514b12963bf",
   "metadata": {},
   "source": [
    "`-` pyg lesson6"
   ]
  },
  {
   "cell_type": "code",
   "execution_count": 49,
   "id": "ac0dea74-18f7-4de9-a077-9796147193ac",
   "metadata": {},
   "outputs": [
    {
     "data": {
      "text/plain": [
       "GCNConv(1, 4)"
      ]
     },
     "execution_count": 49,
     "metadata": {},
     "output_type": "execute_result"
    }
   ],
   "source": [
    "gconv = torch_geometric.nn.GCNConv(1,4)\n",
    "gconv"
   ]
  },
  {
   "cell_type": "code",
   "execution_count": 50,
   "id": "8f270790-9bbc-4c52-92ac-5f2ed7ec50bc",
   "metadata": {},
   "outputs": [
    {
     "data": {
      "text/plain": [
       "tensor([[ 4.0225e+02,  2.5312e+02, -2.9747e+02, -1.6831e+02],\n",
       "        [ 3.7246e+02,  2.3437e+02, -2.7543e+02, -1.5584e+02],\n",
       "        [ 1.5695e+02,  9.8760e+01, -1.1606e+02, -6.5670e+01],\n",
       "        ...,\n",
       "        [ 2.5448e+02,  1.6013e+02, -1.8818e+02, -1.0648e+02],\n",
       "        [ 5.4738e+02,  3.4444e+02, -4.0478e+02, -2.2903e+02],\n",
       "        [ 1.1670e+00,  7.3434e-01, -8.6299e-01, -4.8830e-01]],\n",
       "       grad_fn=<AddBackward0>)"
      ]
     },
     "execution_count": 50,
     "metadata": {},
     "output_type": "execute_result"
    }
   ],
   "source": [
    "gconv(data.x, data.edge_index)"
   ]
  },
  {
   "cell_type": "code",
   "execution_count": 51,
   "id": "da14fa5d-4ac4-4e7e-9159-a8355a876750",
   "metadata": {},
   "outputs": [
    {
     "data": {
      "text/plain": [
       "[Parameter containing:\n",
       " tensor([0., 0., 0., 0.], requires_grad=True),\n",
       " Parameter containing:\n",
       " tensor([[ 0.7116],\n",
       "         [ 0.4478],\n",
       "         [-0.5262],\n",
       "         [-0.2977]], requires_grad=True)]"
      ]
     },
     "execution_count": 51,
     "metadata": {},
     "output_type": "execute_result"
    }
   ],
   "source": [
    "list(gconv.parameters())"
   ]
  },
  {
   "cell_type": "code",
   "execution_count": 203,
   "id": "47ff23f8-125c-4a6d-abbf-7d176cdbaa89",
   "metadata": {},
   "outputs": [
    {
     "data": {
      "text/plain": [
       "Parameter containing:\n",
       "tensor([[-0.6724],\n",
       "        [ 0.7172],\n",
       "        [-0.3185],\n",
       "        [ 0.5363]], requires_grad=True)"
      ]
     },
     "execution_count": 203,
     "metadata": {},
     "output_type": "execute_result"
    }
   ],
   "source": [
    "_,W = list(gconv.parameters())\n",
    "W"
   ]
  },
  {
   "cell_type": "markdown",
   "id": "bce3d74c-eb80-443e-b202-bd4bc0171fd6",
   "metadata": {},
   "source": [
    "`-` pyg lesson5"
   ]
  },
  {
   "cell_type": "code",
   "execution_count": 53,
   "id": "b471cf53-70de-41a9-a26f-cfc148ae311f",
   "metadata": {},
   "outputs": [],
   "source": [
    "import torch\n",
    "import torch.nn.functional as F\n",
    "from torch_geometric.nn import GCNConv\n",
    "\n",
    "class GCN(torch.nn.Module):\n",
    "    def __init__(self):\n",
    "        super().__init__()\n",
    "        self.conv1 = GCNConv(1, 16)\n",
    "        self.conv2 = GCNConv(16,2)\n",
    "\n",
    "    def forward(self, data):\n",
    "        x, edge_index = data.x, data.edge_index\n",
    "\n",
    "        x = self.conv1(x, edge_index)\n",
    "        x = F.relu(x)\n",
    "        x = F.dropout(x, training=self.training)\n",
    "        x = self.conv2(x, edge_index)\n",
    "\n",
    "        return F.log_softmax(x, dim=1)"
   ]
  },
  {
   "cell_type": "code",
   "execution_count": 54,
   "id": "8adecd9c-d973-44af-b151-db488c47c9c8",
   "metadata": {},
   "outputs": [],
   "source": [
    "model = GCN()"
   ]
  },
  {
   "cell_type": "code",
   "execution_count": 55,
   "id": "171d091b-03a3-420b-851a-209001030dbd",
   "metadata": {},
   "outputs": [
    {
     "data": {
      "text/plain": [
       "GCN(\n",
       "  (conv1): GCNConv(1, 16)\n",
       "  (conv2): GCNConv(16, 2)\n",
       ")"
      ]
     },
     "execution_count": 55,
     "metadata": {},
     "output_type": "execute_result"
    }
   ],
   "source": [
    "model"
   ]
  },
  {
   "cell_type": "code",
   "execution_count": 57,
   "id": "5550ba8c-ab9a-4a4f-ac36-eeaf423439ff",
   "metadata": {},
   "outputs": [
    {
     "data": {
      "text/plain": [
       "GCN(\n",
       "  (conv1): GCNConv(1, 16)\n",
       "  (conv2): GCNConv(16, 2)\n",
       ")"
      ]
     },
     "execution_count": 57,
     "metadata": {},
     "output_type": "execute_result"
    }
   ],
   "source": [
    "optimizer = torch.optim.Adam(model.parameters(), lr=0.01, weight_decay=5e-4)\n",
    "model.train()"
   ]
  },
  {
   "cell_type": "code",
   "execution_count": 61,
   "id": "fff5335f-d971-4fed-8ed7-83ad50beb453",
   "metadata": {},
   "outputs": [
    {
     "data": {
      "text/plain": [
       "tensor([[-1.8963e+02,  0.0000e+00],\n",
       "        [-1.5192e+02,  0.0000e+00],\n",
       "        [-5.3630e+01,  0.0000e+00],\n",
       "        ...,\n",
       "        [-3.0590e+02,  0.0000e+00],\n",
       "        [-3.0298e+02,  0.0000e+00],\n",
       "        [-1.3924e+00, -2.8567e-01]], grad_fn=<LogSoftmaxBackward0>)"
      ]
     },
     "execution_count": 61,
     "metadata": {},
     "output_type": "execute_result"
    }
   ],
   "source": [
    "out"
   ]
  },
  {
   "cell_type": "code",
   "execution_count": 62,
   "id": "4c7449cb-14be-44fc-b93f-bb4e2e6e440f",
   "metadata": {},
   "outputs": [
    {
     "data": {
      "text/plain": [
       "tensor([1, 1, 0,  ..., 1, 1, 0])"
      ]
     },
     "execution_count": 62,
     "metadata": {},
     "output_type": "execute_result"
    }
   ],
   "source": [
    "data.y"
   ]
  },
  {
   "cell_type": "code",
   "execution_count": 64,
   "id": "75e9e922-27dc-4197-b09a-b35a93d0679e",
   "metadata": {},
   "outputs": [],
   "source": [
    "for epoch in range(200):\n",
    "    optimizer.zero_grad()\n",
    "    out = model(data)\n",
    "    loss = F.nll_loss(out, data.y)\n",
    "    loss.backward()\n",
    "    optimizer.step()"
   ]
  },
  {
   "cell_type": "code",
   "execution_count": 66,
   "id": "1f3d107c-d20e-43f2-aa0d-0cc466ffc409",
   "metadata": {},
   "outputs": [
    {
     "name": "stdout",
     "output_type": "stream",
     "text": [
      "Accuracy: 0.9633\n"
     ]
    }
   ],
   "source": [
    "model.eval()\n",
    "pred = model(data).argmax(dim=1)\n",
    "correct = (pred == data.y).sum() # 애큐러시는 test\n",
    "acc = int(correct) / 9009\n",
    "print(f'Accuracy: {acc:.4f}')"
   ]
  },
  {
   "cell_type": "code",
   "execution_count": 73,
   "id": "846a9ce7-7cd0-4019-b7ae-61c4b7c70e9b",
   "metadata": {},
   "outputs": [],
   "source": [
    "fraud_mask = (data.y == 1)"
   ]
  },
  {
   "cell_type": "code",
   "execution_count": 77,
   "id": "b52a5f5e-0156-4b3f-993c-71584f4da4aa",
   "metadata": {},
   "outputs": [
    {
     "name": "stdout",
     "output_type": "stream",
     "text": [
      "recall: 0.9619\n"
     ]
    }
   ],
   "source": [
    "model.eval()\n",
    "pred = model(data).argmax(dim=1)\n",
    "correct = (pred[fraud_mask] == data.y[fraud_mask]).sum() # 애큐러시는 test\n",
    "acc = int(correct) / int(fraud_mask.sum())\n",
    "print(f'recall: {acc:.4f}')"
   ]
  },
  {
   "cell_type": "markdown",
   "id": "9242c17c-a90f-4248-92ec-f65cbb06aff1",
   "metadata": {},
   "source": [
    "- 위의 recall은 test가 없어서 train으로만 했던 거..!"
   ]
  },
  {
   "cell_type": "code",
   "execution_count": null,
   "id": "3e7bb5c9-3264-402c-88be-b48b1bdbf038",
   "metadata": {},
   "outputs": [],
   "source": []
  },
  {
   "cell_type": "code",
   "execution_count": null,
   "id": "3c3e6452-3437-4357-b5da-be81d42f7e32",
   "metadata": {},
   "outputs": [],
   "source": []
  },
  {
   "cell_type": "code",
   "execution_count": null,
   "id": "d3bf6a45-b8dd-4074-8b17-478011452e7e",
   "metadata": {},
   "outputs": [],
   "source": []
  },
  {
   "cell_type": "code",
   "execution_count": null,
   "id": "a5c9cebf-fd9e-4c88-8483-d2120e396255",
   "metadata": {},
   "outputs": [],
   "source": []
  },
  {
   "cell_type": "code",
   "execution_count": null,
   "id": "29b079f7-a07a-4f3c-93fb-d92421c0e6ba",
   "metadata": {},
   "outputs": [],
   "source": []
  },
  {
   "cell_type": "code",
   "execution_count": null,
   "id": "cd20a8e6-d38d-4ee0-ae4d-54442c29f7f4",
   "metadata": {},
   "outputs": [],
   "source": []
  }
 ],
 "metadata": {
  "kernelspec": {
   "display_name": "Python 3 (ipykernel)",
   "language": "python",
   "name": "python3"
  },
  "language_info": {
   "codemirror_mode": {
    "name": "ipython",
    "version": 3
   },
   "file_extension": ".py",
   "mimetype": "text/x-python",
   "name": "python",
   "nbconvert_exporter": "python",
   "pygments_lexer": "ipython3",
   "version": "3.8.18"
  }
 },
 "nbformat": 4,
 "nbformat_minor": 5
}
