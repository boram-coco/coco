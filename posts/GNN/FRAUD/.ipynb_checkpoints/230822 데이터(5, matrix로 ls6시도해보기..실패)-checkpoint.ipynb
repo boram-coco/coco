{
 "cells": [
  {
   "cell_type": "raw",
   "id": "7fa01b77-3570-41d4-b54b-97a69097fd8c",
   "metadata": {},
   "source": [
    "---\n",
    "title: \"[FRAUD] 데이터정리 시도(matrix로 lesson6따라하기 - 실패ㅎ)\"\n",
    "author: \"김보람\"\n",
    "date: \"08/22/2023\"\n",
    "---"
   ]
  },
  {
   "cell_type": "markdown",
   "id": "b7967e3d-e46f-4991-af0e-571b295e239a",
   "metadata": {},
   "source": [
    "# imports"
   ]
  },
  {
   "cell_type": "code",
   "execution_count": 2,
   "id": "c36d6b17-9b4c-4aea-b111-133e1afce57e",
   "metadata": {},
   "outputs": [],
   "source": [
    "import numpy as np\n",
    "import pandas as pd\n",
    "import matplotlib.pyplot as plt \n",
    "import networkx as nx\n",
    "import sklearn\n",
    "import torch\n",
    "\n",
    "# sklearn\n",
    "from sklearn import model_selection # split함수이용\n",
    "from sklearn import ensemble # RF,GBM\n",
    "from sklearn import metrics \n",
    "\n",
    "# embedding \n",
    "from node2vec import Node2Vec\n",
    "from node2vec.edges import HadamardEmbedder, AverageEmbedder, WeightedL1Embedder, WeightedL2Embedder"
   ]
  },
  {
   "cell_type": "code",
   "execution_count": 3,
   "id": "2774d96b-b24a-492b-a587-2815ff6e3ead",
   "metadata": {},
   "outputs": [],
   "source": [
    "def build_graph_bipartite(df_input, graph_type=nx.Graph()):\n",
    "    df=df_input.copy()\n",
    "    mapping={x:node_id for node_id, x in enumerate(set(df[\"cc_num\"].values.tolist()+\\\n",
    "                                                      df[\"merchant\"].values.tolist()))}\n",
    "    \n",
    "    df[\"from\"]=df[\"cc_num\"].apply(lambda x:mapping[x])  #엣지의 출발점\n",
    "    df[\"to\"]=df[\"merchant\"].apply(lambda x:mapping[x])  #엣지의 도착점\n",
    "    \n",
    "    df = df[['from', 'to', \"amt\", \"is_fraud\"]].groupby(['from','to']).agg({\"is_fraud\":\"sum\",\"amt\":\"sum\"}).reset_index()\n",
    "    df[\"is_fraud\"]=df[\"is_fraud\"].apply(lambda x:1 if x>0 else 0)\n",
    "    \n",
    "    G=nx.from_edgelist(df[[\"from\",\"to\"]].values, create_using=graph_type)\n",
    "    \n",
    "    nx.set_edge_attributes(G,{(int(x[\"from\"]),int(x[\"to\"])):x[\"is_fraud\"] for idx, x in df[[\"from\",\"to\",\"is_fraud\"]].iterrows()}, \"label\")  #엣지 속성 설정,각 속성의 사기 여부부     \n",
    "    nx.set_edge_attributes(G,{(int(x[\"from\"]),int(x[\"to\"])):x[\"amt\"] for idx,x in df[[\"from\",\"to\",\"amt\"]].iterrows()}, \"weight\") # 엣지 속성 설정, 각 엣지의 거래 금액\n",
    "\n",
    "    return G\n",
    "\n",
    "\n",
    "def build_graph_tripartite(df_input, graph_type=nx.Graph()):\n",
    "    df=df_input.copy()\n",
    "    mapping={x:node_id for node_id, x in enumerate(set(df.index.values.tolist() + \n",
    "                                                       df[\"cc_num\"].values.tolist() +\n",
    "                                                       df[\"merchant\"].values.tolist()))}\n",
    "    df[\"in_node\"]= df[\"cc_num\"].apply(lambda x: mapping[x])\n",
    "    df[\"out_node\"]=df[\"merchant\"].apply(lambda x:mapping[x])\n",
    "    \n",
    "        \n",
    "    G=nx.from_edgelist([(x[\"in_node\"], mapping[idx]) for idx, x in df.iterrows()] +\\\n",
    "                        [(x[\"out_node\"], mapping[idx]) for idx, x in df.iterrows()], create_using=graph_type)\n",
    "    \n",
    "    nx.set_edge_attributes(G,{(x[\"in_node\"], mapping[idx]):x[\"is_fraud\"] for idx, x in df.iterrows()}, \"label\")     \n",
    "    nx.set_edge_attributes(G,{(x[\"out_node\"], mapping[idx]):x[\"is_fraud\"] for idx, x in df.iterrows()}, \"label\")   \n",
    "    nx.set_edge_attributes(G,{(x[\"in_node\"], mapping[idx]):x[\"amt\"] for idx, x in df.iterrows()}, \"weight\")  \n",
    "    nx.set_edge_attributes(G,{(x[\"out_node\"], mapping[idx]):x[\"amt\"] for idx, x in df.iterrows()}, \"weight\")\n",
    "\n",
    "    return G\n",
    "    \n",
    "    \n",
    "def down_sample_textbook(df):\n",
    "    df_majority = df[df.is_fraud==0].copy()\n",
    "    df_minority = df[df.is_fraud==1].copy()\n",
    "    df_maj_dowsampled = sklearn.utils.resample(df_majority, n_samples=len(df_minority), replace=False, random_state=42)\n",
    "    df_downsampled = pd.concat([df_minority, df_maj_dowsampled])\n",
    "    return df_downsampled\n",
    "\n",
    "def embedding(Graph):\n",
    "    # Graph -> X (feature)\n",
    "    _edgs = list(Graph.edges)\n",
    "    subGraph = Graph.edge_subgraph([_edgs[x] for x in range(len(Graph.edges))]).copy()\n",
    "    subGraph.add_nodes_from(list(set(Graph.nodes) - set(subGraph.nodes)))    \n",
    "    embedded = AverageEmbedder(Node2Vec(subGraph, weight_key='weight').fit(window=10).wv)\n",
    "    X = [embedded[str(_edgs[x][0]), str(_edgs[x][1])] for x in range(len(Graph.edges))]\n",
    "    # Graph -> y (label)\n",
    "    y = np.array(list(nx.get_edge_attributes(Graph, \"label\").values()))\n",
    "    return X,y \n",
    "\n",
    "def anal(df):\n",
    "    Graph = build_graph_bipartite(df)\n",
    "    X,XX,y,yy = embedding(Graph)\n",
    "    lrnr = RandomForestClassifier(n_estimators=100, random_state=42) \n",
    "    lrnr.fit(X,y)\n",
    "    yyhat = lrnr.predict(XX)\n",
    "    df = pd.DataFrame({\n",
    "        'acc':[sklearn.metrics.accuracy_score(yy,yyhat)], \n",
    "        'pre':[sklearn.metrics.precision_score(yy,yyhat)], \n",
    "        'rec':[sklearn.metrics.recall_score(yy,yyhat)],\n",
    "        'f1':[sklearn.metrics.f1_score(yy,yyhat)]}\n",
    "    )    \n",
    "    return df\n",
    "\n",
    "def our_sampling1(df):\n",
    "    cus_list = set(df.query('is_fraud==1').cc_num.tolist())\n",
    "    return df.query(\"cc_num in @ cus_list\")"
   ]
  },
  {
   "cell_type": "code",
   "execution_count": 4,
   "id": "7021dc07-8a06-417b-9fb6-c71b2f05e5eb",
   "metadata": {},
   "outputs": [],
   "source": [
    "fraudTrain = pd.read_csv(\"~/Desktop/fraudTrain.csv\").iloc[:,1:]"
   ]
  },
  {
   "cell_type": "code",
   "execution_count": 5,
   "id": "eb7a9b2b-f984-4bb0-b14b-e523a00d8d38",
   "metadata": {},
   "outputs": [
    {
     "data": {
      "text/html": [
       "<div>\n",
       "<style scoped>\n",
       "    .dataframe tbody tr th:only-of-type {\n",
       "        vertical-align: middle;\n",
       "    }\n",
       "\n",
       "    .dataframe tbody tr th {\n",
       "        vertical-align: top;\n",
       "    }\n",
       "\n",
       "    .dataframe thead th {\n",
       "        text-align: right;\n",
       "    }\n",
       "</style>\n",
       "<table border=\"1\" class=\"dataframe\">\n",
       "  <thead>\n",
       "    <tr style=\"text-align: right;\">\n",
       "      <th></th>\n",
       "      <th>trans_date_trans_time</th>\n",
       "      <th>cc_num</th>\n",
       "      <th>merchant</th>\n",
       "      <th>category</th>\n",
       "      <th>amt</th>\n",
       "      <th>first</th>\n",
       "      <th>last</th>\n",
       "      <th>gender</th>\n",
       "      <th>street</th>\n",
       "      <th>city</th>\n",
       "      <th>...</th>\n",
       "      <th>lat</th>\n",
       "      <th>long</th>\n",
       "      <th>city_pop</th>\n",
       "      <th>job</th>\n",
       "      <th>dob</th>\n",
       "      <th>trans_num</th>\n",
       "      <th>unix_time</th>\n",
       "      <th>merch_lat</th>\n",
       "      <th>merch_long</th>\n",
       "      <th>is_fraud</th>\n",
       "    </tr>\n",
       "  </thead>\n",
       "  <tbody>\n",
       "    <tr>\n",
       "      <th>0</th>\n",
       "      <td>2019-01-01 00:00:00</td>\n",
       "      <td>2.703190e+15</td>\n",
       "      <td>fraud_Rippin, Kub and Mann</td>\n",
       "      <td>misc_net</td>\n",
       "      <td>4.97</td>\n",
       "      <td>Jennifer</td>\n",
       "      <td>Banks</td>\n",
       "      <td>F</td>\n",
       "      <td>561 Perry Cove</td>\n",
       "      <td>Moravian Falls</td>\n",
       "      <td>...</td>\n",
       "      <td>36.0788</td>\n",
       "      <td>-81.1781</td>\n",
       "      <td>3495</td>\n",
       "      <td>Psychologist, counselling</td>\n",
       "      <td>1988-03-09</td>\n",
       "      <td>0b242abb623afc578575680df30655b9</td>\n",
       "      <td>1325376018</td>\n",
       "      <td>36.011293</td>\n",
       "      <td>-82.048315</td>\n",
       "      <td>0</td>\n",
       "    </tr>\n",
       "    <tr>\n",
       "      <th>1</th>\n",
       "      <td>2019-01-01 00:00:00</td>\n",
       "      <td>6.304230e+11</td>\n",
       "      <td>fraud_Heller, Gutmann and Zieme</td>\n",
       "      <td>grocery_pos</td>\n",
       "      <td>107.23</td>\n",
       "      <td>Stephanie</td>\n",
       "      <td>Gill</td>\n",
       "      <td>F</td>\n",
       "      <td>43039 Riley Greens Suite 393</td>\n",
       "      <td>Orient</td>\n",
       "      <td>...</td>\n",
       "      <td>48.8878</td>\n",
       "      <td>-118.2105</td>\n",
       "      <td>149</td>\n",
       "      <td>Special educational needs teacher</td>\n",
       "      <td>1978-06-21</td>\n",
       "      <td>1f76529f8574734946361c461b024d99</td>\n",
       "      <td>1325376044</td>\n",
       "      <td>49.159047</td>\n",
       "      <td>-118.186462</td>\n",
       "      <td>0</td>\n",
       "    </tr>\n",
       "    <tr>\n",
       "      <th>2</th>\n",
       "      <td>2019-01-01 00:00:00</td>\n",
       "      <td>3.885950e+13</td>\n",
       "      <td>fraud_Lind-Buckridge</td>\n",
       "      <td>entertainment</td>\n",
       "      <td>220.11</td>\n",
       "      <td>Edward</td>\n",
       "      <td>Sanchez</td>\n",
       "      <td>M</td>\n",
       "      <td>594 White Dale Suite 530</td>\n",
       "      <td>Malad City</td>\n",
       "      <td>...</td>\n",
       "      <td>42.1808</td>\n",
       "      <td>-112.2620</td>\n",
       "      <td>4154</td>\n",
       "      <td>Nature conservation officer</td>\n",
       "      <td>1962-01-19</td>\n",
       "      <td>a1a22d70485983eac12b5b88dad1cf95</td>\n",
       "      <td>1325376051</td>\n",
       "      <td>43.150704</td>\n",
       "      <td>-112.154481</td>\n",
       "      <td>0</td>\n",
       "    </tr>\n",
       "    <tr>\n",
       "      <th>3</th>\n",
       "      <td>2019-01-01 00:01:00</td>\n",
       "      <td>3.534090e+15</td>\n",
       "      <td>fraud_Kutch, Hermiston and Farrell</td>\n",
       "      <td>gas_transport</td>\n",
       "      <td>45.00</td>\n",
       "      <td>Jeremy</td>\n",
       "      <td>White</td>\n",
       "      <td>M</td>\n",
       "      <td>9443 Cynthia Court Apt. 038</td>\n",
       "      <td>Boulder</td>\n",
       "      <td>...</td>\n",
       "      <td>46.2306</td>\n",
       "      <td>-112.1138</td>\n",
       "      <td>1939</td>\n",
       "      <td>Patent attorney</td>\n",
       "      <td>1967-01-12</td>\n",
       "      <td>6b849c168bdad6f867558c3793159a81</td>\n",
       "      <td>1325376076</td>\n",
       "      <td>47.034331</td>\n",
       "      <td>-112.561071</td>\n",
       "      <td>0</td>\n",
       "    </tr>\n",
       "    <tr>\n",
       "      <th>4</th>\n",
       "      <td>2019-01-01 00:03:00</td>\n",
       "      <td>3.755340e+14</td>\n",
       "      <td>fraud_Keeling-Crist</td>\n",
       "      <td>misc_pos</td>\n",
       "      <td>41.96</td>\n",
       "      <td>Tyler</td>\n",
       "      <td>Garcia</td>\n",
       "      <td>M</td>\n",
       "      <td>408 Bradley Rest</td>\n",
       "      <td>Doe Hill</td>\n",
       "      <td>...</td>\n",
       "      <td>38.4207</td>\n",
       "      <td>-79.4629</td>\n",
       "      <td>99</td>\n",
       "      <td>Dance movement psychotherapist</td>\n",
       "      <td>1986-03-28</td>\n",
       "      <td>a41d7549acf90789359a9aa5346dcb46</td>\n",
       "      <td>1325376186</td>\n",
       "      <td>38.674999</td>\n",
       "      <td>-78.632459</td>\n",
       "      <td>0</td>\n",
       "    </tr>\n",
       "    <tr>\n",
       "      <th>...</th>\n",
       "      <td>...</td>\n",
       "      <td>...</td>\n",
       "      <td>...</td>\n",
       "      <td>...</td>\n",
       "      <td>...</td>\n",
       "      <td>...</td>\n",
       "      <td>...</td>\n",
       "      <td>...</td>\n",
       "      <td>...</td>\n",
       "      <td>...</td>\n",
       "      <td>...</td>\n",
       "      <td>...</td>\n",
       "      <td>...</td>\n",
       "      <td>...</td>\n",
       "      <td>...</td>\n",
       "      <td>...</td>\n",
       "      <td>...</td>\n",
       "      <td>...</td>\n",
       "      <td>...</td>\n",
       "      <td>...</td>\n",
       "      <td>...</td>\n",
       "    </tr>\n",
       "    <tr>\n",
       "      <th>1048570</th>\n",
       "      <td>2020-03-10 16:07:00</td>\n",
       "      <td>6.011980e+15</td>\n",
       "      <td>fraud_Fadel Inc</td>\n",
       "      <td>health_fitness</td>\n",
       "      <td>77.00</td>\n",
       "      <td>Haley</td>\n",
       "      <td>Wagner</td>\n",
       "      <td>F</td>\n",
       "      <td>05561 Farrell Crescent</td>\n",
       "      <td>Annapolis</td>\n",
       "      <td>...</td>\n",
       "      <td>39.0305</td>\n",
       "      <td>-76.5515</td>\n",
       "      <td>92106</td>\n",
       "      <td>Accountant, chartered certified</td>\n",
       "      <td>1943-05-28</td>\n",
       "      <td>45ecd198c65e81e597db22e8d2ef7361</td>\n",
       "      <td>1362931649</td>\n",
       "      <td>38.779464</td>\n",
       "      <td>-76.317042</td>\n",
       "      <td>0</td>\n",
       "    </tr>\n",
       "    <tr>\n",
       "      <th>1048571</th>\n",
       "      <td>2020-03-10 16:07:00</td>\n",
       "      <td>4.839040e+15</td>\n",
       "      <td>fraud_Cremin, Hamill and Reichel</td>\n",
       "      <td>misc_pos</td>\n",
       "      <td>116.94</td>\n",
       "      <td>Meredith</td>\n",
       "      <td>Campbell</td>\n",
       "      <td>F</td>\n",
       "      <td>043 Hanson Turnpike</td>\n",
       "      <td>Hedrick</td>\n",
       "      <td>...</td>\n",
       "      <td>41.1826</td>\n",
       "      <td>-92.3097</td>\n",
       "      <td>1583</td>\n",
       "      <td>Geochemist</td>\n",
       "      <td>1999-06-28</td>\n",
       "      <td>c00ce51c6ebb7657474a77b9e0b51f34</td>\n",
       "      <td>1362931670</td>\n",
       "      <td>41.400318</td>\n",
       "      <td>-92.726724</td>\n",
       "      <td>0</td>\n",
       "    </tr>\n",
       "    <tr>\n",
       "      <th>1048572</th>\n",
       "      <td>2020-03-10 16:08:00</td>\n",
       "      <td>5.718440e+11</td>\n",
       "      <td>fraud_O'Connell, Botsford and Hand</td>\n",
       "      <td>home</td>\n",
       "      <td>21.27</td>\n",
       "      <td>Susan</td>\n",
       "      <td>Mills</td>\n",
       "      <td>F</td>\n",
       "      <td>005 Cody Estates</td>\n",
       "      <td>Louisville</td>\n",
       "      <td>...</td>\n",
       "      <td>38.2507</td>\n",
       "      <td>-85.7476</td>\n",
       "      <td>736284</td>\n",
       "      <td>Engineering geologist</td>\n",
       "      <td>1952-04-02</td>\n",
       "      <td>17c9dc8b2a6449ca2473726346e58e6c</td>\n",
       "      <td>1362931711</td>\n",
       "      <td>37.293339</td>\n",
       "      <td>-84.798122</td>\n",
       "      <td>0</td>\n",
       "    </tr>\n",
       "    <tr>\n",
       "      <th>1048573</th>\n",
       "      <td>2020-03-10 16:08:00</td>\n",
       "      <td>4.646850e+18</td>\n",
       "      <td>fraud_Thompson-Gleason</td>\n",
       "      <td>health_fitness</td>\n",
       "      <td>9.52</td>\n",
       "      <td>Julia</td>\n",
       "      <td>Bell</td>\n",
       "      <td>F</td>\n",
       "      <td>576 House Crossroad</td>\n",
       "      <td>West Sayville</td>\n",
       "      <td>...</td>\n",
       "      <td>40.7320</td>\n",
       "      <td>-73.1000</td>\n",
       "      <td>4056</td>\n",
       "      <td>Film/video editor</td>\n",
       "      <td>1990-06-25</td>\n",
       "      <td>5ca650881b48a6a38754f841c23b77ab</td>\n",
       "      <td>1362931718</td>\n",
       "      <td>39.773077</td>\n",
       "      <td>-72.213209</td>\n",
       "      <td>0</td>\n",
       "    </tr>\n",
       "    <tr>\n",
       "      <th>1048574</th>\n",
       "      <td>2020-03-10 16:08:00</td>\n",
       "      <td>2.283740e+15</td>\n",
       "      <td>fraud_Buckridge PLC</td>\n",
       "      <td>misc_pos</td>\n",
       "      <td>6.81</td>\n",
       "      <td>Shannon</td>\n",
       "      <td>Williams</td>\n",
       "      <td>F</td>\n",
       "      <td>9345 Spencer Junctions Suite 183</td>\n",
       "      <td>Alpharetta</td>\n",
       "      <td>...</td>\n",
       "      <td>34.0770</td>\n",
       "      <td>-84.3033</td>\n",
       "      <td>165556</td>\n",
       "      <td>Prison officer</td>\n",
       "      <td>1997-12-27</td>\n",
       "      <td>8d0a575fe635bbde12f1a2bffc126731</td>\n",
       "      <td>1362931730</td>\n",
       "      <td>33.601468</td>\n",
       "      <td>-83.891921</td>\n",
       "      <td>0</td>\n",
       "    </tr>\n",
       "  </tbody>\n",
       "</table>\n",
       "<p>1048575 rows × 22 columns</p>\n",
       "</div>"
      ],
      "text/plain": [
       "        trans_date_trans_time        cc_num  \\\n",
       "0         2019-01-01 00:00:00  2.703190e+15   \n",
       "1         2019-01-01 00:00:00  6.304230e+11   \n",
       "2         2019-01-01 00:00:00  3.885950e+13   \n",
       "3         2019-01-01 00:01:00  3.534090e+15   \n",
       "4         2019-01-01 00:03:00  3.755340e+14   \n",
       "...                       ...           ...   \n",
       "1048570   2020-03-10 16:07:00  6.011980e+15   \n",
       "1048571   2020-03-10 16:07:00  4.839040e+15   \n",
       "1048572   2020-03-10 16:08:00  5.718440e+11   \n",
       "1048573   2020-03-10 16:08:00  4.646850e+18   \n",
       "1048574   2020-03-10 16:08:00  2.283740e+15   \n",
       "\n",
       "                                   merchant        category     amt  \\\n",
       "0                fraud_Rippin, Kub and Mann        misc_net    4.97   \n",
       "1           fraud_Heller, Gutmann and Zieme     grocery_pos  107.23   \n",
       "2                      fraud_Lind-Buckridge   entertainment  220.11   \n",
       "3        fraud_Kutch, Hermiston and Farrell   gas_transport   45.00   \n",
       "4                       fraud_Keeling-Crist        misc_pos   41.96   \n",
       "...                                     ...             ...     ...   \n",
       "1048570                     fraud_Fadel Inc  health_fitness   77.00   \n",
       "1048571    fraud_Cremin, Hamill and Reichel        misc_pos  116.94   \n",
       "1048572  fraud_O'Connell, Botsford and Hand            home   21.27   \n",
       "1048573              fraud_Thompson-Gleason  health_fitness    9.52   \n",
       "1048574                 fraud_Buckridge PLC        misc_pos    6.81   \n",
       "\n",
       "             first      last gender                            street  \\\n",
       "0         Jennifer     Banks      F                    561 Perry Cove   \n",
       "1        Stephanie      Gill      F      43039 Riley Greens Suite 393   \n",
       "2           Edward   Sanchez      M          594 White Dale Suite 530   \n",
       "3           Jeremy     White      M       9443 Cynthia Court Apt. 038   \n",
       "4            Tyler    Garcia      M                  408 Bradley Rest   \n",
       "...            ...       ...    ...                               ...   \n",
       "1048570      Haley    Wagner      F            05561 Farrell Crescent   \n",
       "1048571   Meredith  Campbell      F               043 Hanson Turnpike   \n",
       "1048572      Susan     Mills      F                  005 Cody Estates   \n",
       "1048573      Julia      Bell      F               576 House Crossroad   \n",
       "1048574    Shannon  Williams      F  9345 Spencer Junctions Suite 183   \n",
       "\n",
       "                   city  ...      lat      long  city_pop  \\\n",
       "0        Moravian Falls  ...  36.0788  -81.1781      3495   \n",
       "1                Orient  ...  48.8878 -118.2105       149   \n",
       "2            Malad City  ...  42.1808 -112.2620      4154   \n",
       "3               Boulder  ...  46.2306 -112.1138      1939   \n",
       "4              Doe Hill  ...  38.4207  -79.4629        99   \n",
       "...                 ...  ...      ...       ...       ...   \n",
       "1048570       Annapolis  ...  39.0305  -76.5515     92106   \n",
       "1048571         Hedrick  ...  41.1826  -92.3097      1583   \n",
       "1048572      Louisville  ...  38.2507  -85.7476    736284   \n",
       "1048573   West Sayville  ...  40.7320  -73.1000      4056   \n",
       "1048574      Alpharetta  ...  34.0770  -84.3033    165556   \n",
       "\n",
       "                                       job         dob  \\\n",
       "0                Psychologist, counselling  1988-03-09   \n",
       "1        Special educational needs teacher  1978-06-21   \n",
       "2              Nature conservation officer  1962-01-19   \n",
       "3                          Patent attorney  1967-01-12   \n",
       "4           Dance movement psychotherapist  1986-03-28   \n",
       "...                                    ...         ...   \n",
       "1048570    Accountant, chartered certified  1943-05-28   \n",
       "1048571                         Geochemist  1999-06-28   \n",
       "1048572              Engineering geologist  1952-04-02   \n",
       "1048573                  Film/video editor  1990-06-25   \n",
       "1048574                     Prison officer  1997-12-27   \n",
       "\n",
       "                                trans_num   unix_time  merch_lat  merch_long  \\\n",
       "0        0b242abb623afc578575680df30655b9  1325376018  36.011293  -82.048315   \n",
       "1        1f76529f8574734946361c461b024d99  1325376044  49.159047 -118.186462   \n",
       "2        a1a22d70485983eac12b5b88dad1cf95  1325376051  43.150704 -112.154481   \n",
       "3        6b849c168bdad6f867558c3793159a81  1325376076  47.034331 -112.561071   \n",
       "4        a41d7549acf90789359a9aa5346dcb46  1325376186  38.674999  -78.632459   \n",
       "...                                   ...         ...        ...         ...   \n",
       "1048570  45ecd198c65e81e597db22e8d2ef7361  1362931649  38.779464  -76.317042   \n",
       "1048571  c00ce51c6ebb7657474a77b9e0b51f34  1362931670  41.400318  -92.726724   \n",
       "1048572  17c9dc8b2a6449ca2473726346e58e6c  1362931711  37.293339  -84.798122   \n",
       "1048573  5ca650881b48a6a38754f841c23b77ab  1362931718  39.773077  -72.213209   \n",
       "1048574  8d0a575fe635bbde12f1a2bffc126731  1362931730  33.601468  -83.891921   \n",
       "\n",
       "         is_fraud  \n",
       "0               0  \n",
       "1               0  \n",
       "2               0  \n",
       "3               0  \n",
       "4               0  \n",
       "...           ...  \n",
       "1048570         0  \n",
       "1048571         0  \n",
       "1048572         0  \n",
       "1048573         0  \n",
       "1048574         0  \n",
       "\n",
       "[1048575 rows x 22 columns]"
      ]
     },
     "execution_count": 5,
     "metadata": {},
     "output_type": "execute_result"
    }
   ],
   "source": [
    "fraudTrain = fraudTrain.assign(trans_date_trans_time= list(map(lambda x: pd.to_datetime(x), fraudTrain.trans_date_trans_time)))\n",
    "fraudTrain"
   ]
  },
  {
   "cell_type": "markdown",
   "id": "646be7a4-ac5c-4348-86c1-3beb0ed6d988",
   "metadata": {},
   "source": [
    "## 시도"
   ]
  },
  {
   "cell_type": "code",
   "execution_count": 6,
   "id": "adec4c87-7a49-41dd-ba04-879643113486",
   "metadata": {},
   "outputs": [
    {
     "data": {
      "text/plain": [
       "(214520, 22)"
      ]
     },
     "execution_count": 6,
     "metadata": {},
     "output_type": "execute_result"
    }
   ],
   "source": [
    "_df1 = fraudTrain[fraudTrain[\"is_fraud\"] == 0].sample(frac=0.20, random_state=42)\n",
    "_df2 = fraudTrain[fraudTrain[\"is_fraud\"] == 1]\n",
    "df02 = pd.concat([_df1,_df2])\n",
    "df02.shape"
   ]
  },
  {
   "cell_type": "code",
   "execution_count": 7,
   "id": "b1eab03c-9ee2-45e1-95a5-923642e8ce6f",
   "metadata": {},
   "outputs": [
    {
     "data": {
      "text/plain": [
       "(12012, 22)"
      ]
     },
     "execution_count": 7,
     "metadata": {},
     "output_type": "execute_result"
    }
   ],
   "source": [
    "df50 = down_sample_textbook(df02)\n",
    "df50.shape"
   ]
  },
  {
   "cell_type": "code",
   "execution_count": 8,
   "id": "0d8983c1-b6c2-4331-9adf-14d799fb8460",
   "metadata": {},
   "outputs": [
    {
     "data": {
      "text/plain": [
       "144288144"
      ]
     },
     "execution_count": 8,
     "metadata": {},
     "output_type": "execute_result"
    }
   ],
   "source": [
    "12012*12012"
   ]
  },
  {
   "cell_type": "code",
   "execution_count": 9,
   "id": "4f3c12b1-433f-41ac-85c0-c42ae389ba60",
   "metadata": {},
   "outputs": [],
   "source": [
    "df50 = df50.reset_index()"
   ]
  },
  {
   "cell_type": "code",
   "execution_count": 10,
   "id": "7cef7094-bd9b-43d1-a1c9-d4b1c9b4241c",
   "metadata": {},
   "outputs": [],
   "source": [
    "N = len(df50)"
   ]
  },
  {
   "cell_type": "markdown",
   "id": "9eafa728-410f-4193-9c7d-be5f8ed7fa24",
   "metadata": {},
   "source": [
    "-------------------"
   ]
  },
  {
   "cell_type": "markdown",
   "id": "6e09a665-3f15-4e43-a2d7-843deb04db4e",
   "metadata": {},
   "source": [
    "### tr/test"
   ]
  },
  {
   "cell_type": "code",
   "execution_count": 11,
   "id": "1746ec92-50c0-402d-8297-92cb67c718d5",
   "metadata": {},
   "outputs": [],
   "source": [
    "df50_tr,df50_test = sklearn.model_selection.train_test_split(df50, random_state=42)"
   ]
  },
  {
   "cell_type": "code",
   "execution_count": 12,
   "id": "390c18d0-045c-4473-b1b2-3c8314cbdfbc",
   "metadata": {},
   "outputs": [
    {
     "data": {
      "text/plain": [
       "(0.49828, 0.50516)"
      ]
     },
     "execution_count": 12,
     "metadata": {},
     "output_type": "execute_result"
    }
   ],
   "source": [
    "df50_tr.is_fraud.mean().round(5), df50_test.is_fraud.mean().round(5)"
   ]
  },
  {
   "cell_type": "code",
   "execution_count": 13,
   "id": "ba8e5c8a-e54e-4982-b4db-4e89f5239dfa",
   "metadata": {},
   "outputs": [
    {
     "data": {
      "text/plain": [
       "((9009, 23), (3003, 23))"
      ]
     },
     "execution_count": 13,
     "metadata": {},
     "output_type": "execute_result"
    }
   ],
   "source": [
    "df50_tr.shape, df50_test.shape"
   ]
  },
  {
   "cell_type": "code",
   "execution_count": 14,
   "id": "c7632cdd-a4fb-42dc-8c53-b5d731c5278d",
   "metadata": {},
   "outputs": [
    {
     "name": "stdout",
     "output_type": "stream",
     "text": [
      "Train Mask: [ True  True  True ... False False False]\n",
      "Test Mask: [False False False ...  True  True  True]\n"
     ]
    }
   ],
   "source": [
    "train_mask = np.concatenate((np.full(9009, True), np.full(3003, False)))\n",
    "test_mask = np.concatenate((np.full(9009, False), np.full(3003, True)))\n",
    "print(\"Train Mask:\", train_mask)\n",
    "print(\"Test Mask:\", test_mask)"
   ]
  },
  {
   "cell_type": "code",
   "execution_count": 15,
   "id": "88aef965-27b8-4007-956b-b40583d8d5ce",
   "metadata": {},
   "outputs": [
    {
     "data": {
      "text/plain": [
       "((12012,), (12012,))"
      ]
     },
     "execution_count": 15,
     "metadata": {},
     "output_type": "execute_result"
    }
   ],
   "source": [
    "train_mask.shape, test_mask.shape"
   ]
  },
  {
   "cell_type": "code",
   "execution_count": 16,
   "id": "1211b810-0238-4256-b14c-00e44833cf9e",
   "metadata": {},
   "outputs": [
    {
     "data": {
      "text/plain": [
       "(9009, 3003)"
      ]
     },
     "execution_count": 16,
     "metadata": {},
     "output_type": "execute_result"
    }
   ],
   "source": [
    "train_mask.sum(), test_mask.sum()"
   ]
  },
  {
   "cell_type": "code",
   "execution_count": 17,
   "id": "30478e8f-390a-49f0-88ed-2c7a767df7f0",
   "metadata": {},
   "outputs": [],
   "source": [
    "df50_com = pd.concat([df50_tr, df50_test])"
   ]
  },
  {
   "cell_type": "code",
   "execution_count": 18,
   "id": "4ee78777-95c8-40c4-acdd-6a0d539c6454",
   "metadata": {},
   "outputs": [],
   "source": [
    "df50_com = df50_com.reset_index()"
   ]
  },
  {
   "cell_type": "markdown",
   "id": "772ec8d5-bfc8-4f1a-8909-9c7c53e66e0d",
   "metadata": {},
   "source": [
    "---"
   ]
  },
  {
   "cell_type": "code",
   "execution_count": null,
   "id": "f3c5685d-f3ba-492b-b0fa-42962afdd8c7",
   "metadata": {},
   "outputs": [],
   "source": []
  },
  {
   "cell_type": "code",
   "execution_count": null,
   "id": "6a1d9587-4b8a-4340-9496-96a277da725b",
   "metadata": {},
   "outputs": [],
   "source": []
  },
  {
   "cell_type": "code",
   "execution_count": null,
   "id": "004e61f9-c7e3-44b7-a1f1-e44c4be3511f",
   "metadata": {},
   "outputs": [],
   "source": []
  },
  {
   "cell_type": "markdown",
   "id": "d733873d-0b79-4709-8848-6b667f141293",
   "metadata": {
    "tags": []
   },
   "source": [
    "### aj_matrix"
   ]
  },
  {
   "cell_type": "code",
   "execution_count": 36,
   "id": "a836d0e0-f2f7-4a91-a95b-16db33aeec4b",
   "metadata": {},
   "outputs": [],
   "source": [
    "# edge_index_list2_com = []\n",
    "# for i in range(N):\n",
    "#     for j in range(N):\n",
    "#         if df50_com['cc_num'][i] != df50_com['cc_num'][j]:  \n",
    "#             edge = 0\n",
    "#         else:\n",
    "#             edge = 1\n",
    "#         edge_index_list2_com.append([i, j, edge])"
   ]
  },
  {
   "cell_type": "code",
   "execution_count": 51,
   "id": "b78ca033-4f4a-44b8-91d8-b4e619f2b061",
   "metadata": {},
   "outputs": [],
   "source": [
    "#np.save('edge_index_list2_50_com.npy', edge_index_list2_com)\n",
    "\n",
    "edge_index_list2_com = np.load('edge_index_list2_50_com.npy')"
   ]
  },
  {
   "cell_type": "code",
   "execution_count": 19,
   "id": "7b00d19a-c5b2-45f7-a38e-ad6962795939",
   "metadata": {},
   "outputs": [
    {
     "data": {
      "text/plain": [
       "array([[    0,     0,     1],\n",
       "       [    0,     1,     0],\n",
       "       [    0,     2,     0],\n",
       "       ...,\n",
       "       [12011, 12009,     0],\n",
       "       [12011, 12010,     0],\n",
       "       [12011, 12011,     1]])"
      ]
     },
     "execution_count": 19,
     "metadata": {},
     "output_type": "execute_result"
    }
   ],
   "source": [
    "# edge_index_list2_com"
   ]
  },
  {
   "cell_type": "code",
   "execution_count": 52,
   "id": "fea3b37b-745c-4d4f-a127-e75ac7be621a",
   "metadata": {},
   "outputs": [
    {
     "data": {
      "text/plain": [
       "(144288144, 3)"
      ]
     },
     "execution_count": 52,
     "metadata": {},
     "output_type": "execute_result"
    }
   ],
   "source": [
    "edge_index_list2_com.shape"
   ]
  },
  {
   "cell_type": "code",
   "execution_count": 53,
   "id": "a65f4763-77a5-4da3-94d7-08f8cfcc0526",
   "metadata": {},
   "outputs": [],
   "source": [
    "num_nodes = 12012"
   ]
  },
  {
   "cell_type": "code",
   "execution_count": 54,
   "id": "799d6d05-12b6-4178-960a-6f5210acd879",
   "metadata": {},
   "outputs": [],
   "source": [
    "aj_matrix = np.zeros((num_nodes, num_nodes))"
   ]
  },
  {
   "cell_type": "code",
   "execution_count": 55,
   "id": "f0de5d64-fe57-4a10-8f28-6aa60b77639d",
   "metadata": {},
   "outputs": [
    {
     "data": {
      "text/plain": [
       "array([[0., 0., 0., ..., 0., 0., 0.],\n",
       "       [0., 0., 0., ..., 0., 0., 0.],\n",
       "       [0., 0., 0., ..., 0., 0., 0.],\n",
       "       ...,\n",
       "       [0., 0., 0., ..., 0., 0., 0.],\n",
       "       [0., 0., 0., ..., 0., 0., 0.],\n",
       "       [0., 0., 0., ..., 0., 0., 0.]])"
      ]
     },
     "execution_count": 55,
     "metadata": {},
     "output_type": "execute_result"
    }
   ],
   "source": [
    "aj_matrix"
   ]
  },
  {
   "cell_type": "code",
   "execution_count": null,
   "id": "4b282d8e-8d30-46c9-b6bd-f2899c5d7653",
   "metadata": {},
   "outputs": [],
   "source": []
  },
  {
   "cell_type": "code",
   "execution_count": 56,
   "id": "4e19d96a-34e3-423c-b09f-171399097297",
   "metadata": {},
   "outputs": [],
   "source": [
    "for i, j ,edge in edge_index_list2_com:\n",
    "    aj_matrix[i][j] = edge"
   ]
  },
  {
   "cell_type": "code",
   "execution_count": 57,
   "id": "32f53216-fda5-439e-a54a-5f8de62ecd1e",
   "metadata": {},
   "outputs": [
    {
     "data": {
      "text/plain": [
       "array([[1., 0., 0., ..., 0., 0., 0.],\n",
       "       [0., 1., 0., ..., 0., 0., 0.],\n",
       "       [0., 0., 1., ..., 0., 0., 0.],\n",
       "       ...,\n",
       "       [0., 0., 0., ..., 1., 0., 0.],\n",
       "       [0., 0., 0., ..., 0., 1., 0.],\n",
       "       [0., 0., 0., ..., 0., 0., 1.]])"
      ]
     },
     "execution_count": 57,
     "metadata": {},
     "output_type": "execute_result"
    }
   ],
   "source": [
    "aj_matrix"
   ]
  },
  {
   "cell_type": "code",
   "execution_count": 37,
   "id": "16c24bc7-4ad2-4734-86b0-9cd517acf3ca",
   "metadata": {},
   "outputs": [
    {
     "data": {
      "text/plain": [
       "(12012, 12012)"
      ]
     },
     "execution_count": 37,
     "metadata": {},
     "output_type": "execute_result"
    }
   ],
   "source": [
    "# aj_matrix.shape"
   ]
  },
  {
   "cell_type": "code",
   "execution_count": 39,
   "id": "7e9f1fc6-a4df-4d4c-bb8a-7e746ea5b543",
   "metadata": {},
   "outputs": [],
   "source": [
    "# np.save('aj_matrix.npy', aj_matrix)"
   ]
  },
  {
   "cell_type": "code",
   "execution_count": 41,
   "id": "45647b54-8dc5-4114-8083-320c755a1071",
   "metadata": {},
   "outputs": [],
   "source": [
    "\n",
    "# aj_matrix = np.load('aj_matrix.npy')"
   ]
  },
  {
   "cell_type": "code",
   "execution_count": 42,
   "id": "617f17e2-9ba7-4cd4-9e59-3ab488292027",
   "metadata": {},
   "outputs": [
    {
     "data": {
      "text/plain": [
       "array([[1., 0., 0., ..., 0., 0., 0.],\n",
       "       [0., 1., 0., ..., 0., 0., 0.],\n",
       "       [0., 0., 1., ..., 0., 0., 0.],\n",
       "       ...,\n",
       "       [0., 0., 0., ..., 1., 0., 0.],\n",
       "       [0., 0., 0., ..., 0., 1., 0.],\n",
       "       [0., 0., 0., ..., 0., 0., 1.]])"
      ]
     },
     "execution_count": 42,
     "metadata": {},
     "output_type": "execute_result"
    }
   ],
   "source": [
    "# aj_matrix"
   ]
  },
  {
   "cell_type": "markdown",
   "id": "3e7538e5-c501-42c3-9b66-27e7e50ce618",
   "metadata": {},
   "source": [
    "---"
   ]
  },
  {
   "cell_type": "code",
   "execution_count": null,
   "id": "43db881d-4cb6-4cb7-96c2-208979b2f6ce",
   "metadata": {},
   "outputs": [],
   "source": []
  },
  {
   "cell_type": "code",
   "execution_count": null,
   "id": "4a496a61-f276-4f26-a79e-e7bcd192ba8f",
   "metadata": {},
   "outputs": [],
   "source": []
  },
  {
   "cell_type": "code",
   "execution_count": null,
   "id": "b7b2f3e0-a1c6-483f-914f-7a78dfd45c20",
   "metadata": {},
   "outputs": [],
   "source": []
  },
  {
   "cell_type": "code",
   "execution_count": null,
   "id": "ed48858d-7ce0-45d0-a9fb-61e8da7742cb",
   "metadata": {},
   "outputs": [],
   "source": []
  },
  {
   "cell_type": "markdown",
   "id": "f2e16845-ba59-4317-9199-225ee9afd7eb",
   "metadata": {},
   "source": [
    "---"
   ]
  },
  {
   "cell_type": "markdown",
   "id": "0d43e374-6fcb-4a4a-ae60-a10f8acc9270",
   "metadata": {
    "tags": []
   },
   "source": [
    "### weigt matirx"
   ]
  },
  {
   "cell_type": "code",
   "execution_count": 25,
   "id": "acf610d7-7d28-429a-be47-f57879353a9d",
   "metadata": {},
   "outputs": [],
   "source": [
    "# edge_index_list = []\n",
    "# for i in range(N):\n",
    "#     for j in range(N):\n",
    "#         time_difference = (df50_com['trans_date_trans_time'][i] - df50_com['trans_date_trans_time'][j]).total_seconds()\n",
    "#         edge_index_list.append([i, j, time_difference])"
   ]
  },
  {
   "cell_type": "code",
   "execution_count": 41,
   "id": "d95b3af4-c6fa-41a5-bbde-92d78c552b46",
   "metadata": {},
   "outputs": [],
   "source": [
    "# np.save('edge_index_list_50_com.npy', edge_index_list)\n",
    "\n",
    "edge_index_list = np.load('edge_index_list_50_com.npy')"
   ]
  },
  {
   "cell_type": "code",
   "execution_count": 43,
   "id": "d1333cbb-002f-4d9c-8864-a8660a541dd0",
   "metadata": {},
   "outputs": [
    {
     "data": {
      "text/plain": [
       "array([[ 0.000000e+00,  0.000000e+00,  0.000000e+00],\n",
       "       [ 0.000000e+00,  1.000000e+00, -2.030190e+07],\n",
       "       [ 0.000000e+00,  2.000000e+00, -2.841396e+07],\n",
       "       [ 0.000000e+00,  3.000000e+00, -2.383788e+07],\n",
       "       [ 0.000000e+00,  4.000000e+00, -2.687796e+07]])"
      ]
     },
     "execution_count": 43,
     "metadata": {},
     "output_type": "execute_result"
    }
   ],
   "source": [
    "edge_index_list[:5]"
   ]
  },
  {
   "cell_type": "code",
   "execution_count": 44,
   "id": "be311863-bf55-40a2-ae8d-d3c87e26a164",
   "metadata": {},
   "outputs": [
    {
     "data": {
      "text/plain": [
       "12238996.895508753"
      ]
     },
     "execution_count": 44,
     "metadata": {},
     "output_type": "execute_result"
    }
   ],
   "source": [
    "edge_index = np.array(edge_index_list)\n",
    "edge_index[:,2] = np.abs(edge_index[:,2])\n",
    "theta = edge_index[:,2].mean()\n",
    "theta"
   ]
  },
  {
   "cell_type": "code",
   "execution_count": null,
   "id": "1b1aad69-c0b9-4dae-a853-6655f16cfc03",
   "metadata": {},
   "outputs": [],
   "source": []
  },
  {
   "cell_type": "code",
   "execution_count": 45,
   "id": "de4c0f1a-32df-4069-ae72-8ae6c06dbdb8",
   "metadata": {},
   "outputs": [
    {
     "data": {
      "text/plain": [
       "array([[0.00000000e+00, 0.00000000e+00, 0.00000000e+00],\n",
       "       [0.00000000e+00, 1.00000000e+00, 1.90369587e-01],\n",
       "       [0.00000000e+00, 2.00000000e+00, 9.81172367e-02],\n",
       "       ...,\n",
       "       [1.20110000e+04, 1.20090000e+04, 9.25720620e-01],\n",
       "       [1.20110000e+04, 1.20100000e+04, 5.15585903e-01],\n",
       "       [1.20110000e+04, 1.20110000e+04, 0.00000000e+00]])"
      ]
     },
     "execution_count": 45,
     "metadata": {},
     "output_type": "execute_result"
    }
   ],
   "source": [
    "edge_index[:,2] = (np.exp(-edge_index[:,2]/theta)!=1) * np.exp(-edge_index[:,2]/theta)\n",
    "edge_index"
   ]
  },
  {
   "cell_type": "markdown",
   "id": "aa148816-efee-4aaf-aba1-a77870ee9a4a",
   "metadata": {},
   "source": [
    "> w_matrix로 바꾸려고 하니까 형식이 [i][j]가 맞지 않는다.!"
   ]
  },
  {
   "cell_type": "code",
   "execution_count": 92,
   "id": "f7cbfdae-e97e-4373-b657-57285ff46460",
   "metadata": {},
   "outputs": [],
   "source": [
    "# # 출력 형식 변경\n",
    "# np.set_printoptions(formatter={'int': '{:d}'.format})"
   ]
  },
  {
   "cell_type": "code",
   "execution_count": 91,
   "id": "72f9a208-e205-465a-b00f-400aa24f7039",
   "metadata": {},
   "outputs": [],
   "source": [
    "# # 원래 출력 형식으로 복원\n",
    "# np.set_printoptions(formatter=None)\n"
   ]
  },
  {
   "cell_type": "code",
   "execution_count": 93,
   "id": "dfc061e3-0907-44f0-82c2-af28f6485b5e",
   "metadata": {},
   "outputs": [],
   "source": [
    "w_matrix = np.zeros((num_nodes, num_nodes))"
   ]
  },
  {
   "cell_type": "code",
   "execution_count": 94,
   "id": "8a65062d-8718-4cbf-a0ba-15c911ef5651",
   "metadata": {},
   "outputs": [
    {
     "data": {
      "text/plain": [
       "array([[0., 0., 0., ..., 0., 0., 0.],\n",
       "       [0., 0., 0., ..., 0., 0., 0.],\n",
       "       [0., 0., 0., ..., 0., 0., 0.],\n",
       "       ...,\n",
       "       [0., 0., 0., ..., 0., 0., 0.],\n",
       "       [0., 0., 0., ..., 0., 0., 0.],\n",
       "       [0., 0., 0., ..., 0., 0., 0.]])"
      ]
     },
     "execution_count": 94,
     "metadata": {},
     "output_type": "execute_result"
    }
   ],
   "source": [
    "w_matrix"
   ]
  },
  {
   "cell_type": "code",
   "execution_count": 97,
   "id": "21e0bffc-4305-4d6a-b41f-1d89e9118272",
   "metadata": {},
   "outputs": [],
   "source": [
    "for i, j ,time_difference in edge_index:\n",
    "    i, j = int(i), int(j)\n",
    "    w_matrix[i][j] = time_difference"
   ]
  },
  {
   "cell_type": "code",
   "execution_count": 98,
   "id": "9e52964e-3d7d-49ad-bf44-3c14c90b96c2",
   "metadata": {},
   "outputs": [
    {
     "data": {
      "text/plain": [
       "array([[0.        , 0.19036959, 0.09811724, ..., 0.29671829, 0.14162023,\n",
       "        0.27467824],\n",
       "       [0.19036959, 0.        , 0.51540395, ..., 0.6415836 , 0.74392254,\n",
       "        0.69306396],\n",
       "       [0.09811724, 0.51540395, 0.        , ..., 0.33067472, 0.69281937,\n",
       "        0.3572079 ],\n",
       "       ...,\n",
       "       [0.29671829, 0.6415836 , 0.33067472, ..., 0.        , 0.4772885 ,\n",
       "        0.92572062],\n",
       "       [0.14162023, 0.74392254, 0.69281937, ..., 0.4772885 , 0.        ,\n",
       "        0.5155859 ],\n",
       "       [0.27467824, 0.69306396, 0.3572079 , ..., 0.92572062, 0.5155859 ,\n",
       "        0.        ]])"
      ]
     },
     "execution_count": 98,
     "metadata": {},
     "output_type": "execute_result"
    }
   ],
   "source": [
    "w_matrix"
   ]
  },
  {
   "cell_type": "code",
   "execution_count": 99,
   "id": "d545e7e7-ffb8-4d89-8f4a-b213fdbe50de",
   "metadata": {},
   "outputs": [
    {
     "data": {
      "text/plain": [
       "(12012, 12012)"
      ]
     },
     "execution_count": 99,
     "metadata": {},
     "output_type": "execute_result"
    }
   ],
   "source": [
    "w_matrix.shape"
   ]
  },
  {
   "cell_type": "code",
   "execution_count": 100,
   "id": "97321137-d36e-4dc8-9208-e525a9944849",
   "metadata": {},
   "outputs": [],
   "source": [
    "np.save('w_matrix.npy', w_matrix)"
   ]
  },
  {
   "cell_type": "markdown",
   "id": "1e6dd743-f2e0-4afb-810a-7f545f77e2a0",
   "metadata": {},
   "source": [
    "---"
   ]
  },
  {
   "cell_type": "code",
   "execution_count": 19,
   "id": "1741d7ed-bacc-43d2-8d7e-7c12b9a748c3",
   "metadata": {},
   "outputs": [],
   "source": [
    "# np.save('edge_index_list_plus.npy', edge_index_list_plus)\n",
    "\n",
    "edge_index_list_plus = np.load('edge_index_list_plus.npy')"
   ]
  },
  {
   "cell_type": "code",
   "execution_count": 20,
   "id": "285f3e63-2131-43a1-be28-aec41509a22b",
   "metadata": {},
   "outputs": [],
   "source": [
    "edge_index = np.array(edge_index_list_plus)"
   ]
  },
  {
   "cell_type": "code",
   "execution_count": 113,
   "id": "9fbc181f-1fd1-4c18-b03e-3cc419aff71f",
   "metadata": {},
   "outputs": [
    {
     "data": {
      "text/plain": [
       "(144288144, 3)"
      ]
     },
     "execution_count": 113,
     "metadata": {},
     "output_type": "execute_result"
    }
   ],
   "source": [
    "edge_index.shape"
   ]
  },
  {
   "cell_type": "code",
   "execution_count": 114,
   "id": "6bbc3d34-a79b-4e76-80c6-f8b5d862cbc3",
   "metadata": {},
   "outputs": [
    {
     "data": {
      "text/plain": [
       "array([[0.0000e+00, 0.0000e+00, 0.0000e+00],\n",
       "       [0.0000e+00, 1.0000e+00, 0.0000e+00],\n",
       "       [0.0000e+00, 2.0000e+00, 0.0000e+00],\n",
       "       ...,\n",
       "       [1.2011e+04, 1.2009e+04, 0.0000e+00],\n",
       "       [1.2011e+04, 1.2010e+04, 0.0000e+00],\n",
       "       [1.2011e+04, 1.2011e+04, 0.0000e+00]])"
      ]
     },
     "execution_count": 114,
     "metadata": {},
     "output_type": "execute_result"
    }
   ],
   "source": [
    "edge_index"
   ]
  },
  {
   "cell_type": "code",
   "execution_count": 21,
   "id": "780dc3ce-ae84-45e5-a365-e710419f2696",
   "metadata": {},
   "outputs": [
    {
     "data": {
      "text/plain": [
       "10973.519989002007"
      ]
     },
     "execution_count": 21,
     "metadata": {},
     "output_type": "execute_result"
    }
   ],
   "source": [
    "edge_index[:,2] = np.abs(edge_index[:,2])\n",
    "theta = edge_index[:,2].mean()\n",
    "theta\n"
   ]
  },
  {
   "cell_type": "code",
   "execution_count": 22,
   "id": "d14948d3-00f2-46d7-af70-8634e616b879",
   "metadata": {},
   "outputs": [
    {
     "data": {
      "text/plain": [
       "array([[0.0000e+00, 0.0000e+00, 0.0000e+00],\n",
       "       [0.0000e+00, 1.0000e+00, 0.0000e+00],\n",
       "       [0.0000e+00, 2.0000e+00, 0.0000e+00],\n",
       "       ...,\n",
       "       [1.2011e+04, 1.2009e+04, 0.0000e+00],\n",
       "       [1.2011e+04, 1.2010e+04, 0.0000e+00],\n",
       "       [1.2011e+04, 1.2011e+04, 0.0000e+00]])"
      ]
     },
     "execution_count": 22,
     "metadata": {},
     "output_type": "execute_result"
    }
   ],
   "source": [
    "edge_index[:,2] = (np.exp(-edge_index[:,2]/theta)!=1) * np.exp(-edge_index[:,2]/theta)\n",
    "edge_index"
   ]
  },
  {
   "cell_type": "code",
   "execution_count": 23,
   "id": "83c5e775-2e54-4fdd-8cc1-48cee28dc96e",
   "metadata": {},
   "outputs": [],
   "source": [
    "edge_index_list_updated = edge_index.tolist()\n",
    "mm = np.array(edge_index_list_updated)[:,2].mean()"
   ]
  },
  {
   "cell_type": "code",
   "execution_count": 24,
   "id": "550ebf0e-3148-4eff-b14c-0004595d0d84",
   "metadata": {},
   "outputs": [],
   "source": [
    "selected_edges = [(int(row[0]), int(row[1])) for row in edge_index_list_updated if row[2] > mm]"
   ]
  },
  {
   "cell_type": "code",
   "execution_count": 25,
   "id": "159e6524-47ea-474a-835a-2f70a34f72da",
   "metadata": {},
   "outputs": [],
   "source": [
    "edge_index_selected = torch.tensor(selected_edges, dtype=torch.long).t()"
   ]
  },
  {
   "cell_type": "code",
   "execution_count": 26,
   "id": "c0095246-e11a-456a-8850-c906c175e506",
   "metadata": {},
   "outputs": [
    {
     "data": {
      "text/plain": [
       "torch.Size([2, 51392])"
      ]
     },
     "execution_count": 26,
     "metadata": {},
     "output_type": "execute_result"
    }
   ],
   "source": [
    "edge_index_selected.shape"
   ]
  },
  {
   "cell_type": "code",
   "execution_count": 27,
   "id": "78a48b36-cb17-4c03-a1aa-14ffb9cbc41c",
   "metadata": {},
   "outputs": [],
   "source": [
    "np.save('edge_index_selected.npy', edge_index_selected)"
   ]
  },
  {
   "cell_type": "markdown",
   "id": "90a6f000-da03-4a0f-8c26-3b6eb10d2acc",
   "metadata": {},
   "source": [
    "---"
   ]
  },
  {
   "cell_type": "markdown",
   "id": "9f9deadc-9561-47e8-8a12-f42d806b9828",
   "metadata": {},
   "source": [
    "# pyg lesson6 따라하기"
   ]
  },
  {
   "cell_type": "markdown",
   "id": "c6292543-c350-4177-ac60-3856f4c120d0",
   "metadata": {},
   "source": [
    "### data설정(x, edge_index, y)"
   ]
  },
  {
   "cell_type": "code",
   "execution_count": 28,
   "id": "88504d40-8829-4b6f-93ed-e5bebbf8e508",
   "metadata": {},
   "outputs": [],
   "source": [
    "x = torch.tensor([df50_com['amt']], dtype=torch.float).reshape(-1,1)"
   ]
  },
  {
   "cell_type": "code",
   "execution_count": 29,
   "id": "7bea7019-b85b-44a7-a9fe-d3bfb63e5f8a",
   "metadata": {},
   "outputs": [
    {
     "data": {
      "text/plain": [
       "tensor([[921.2400],\n",
       "        [698.2800],\n",
       "        [220.5600],\n",
       "        ...,\n",
       "        [ 17.9700],\n",
       "        [  7.5800],\n",
       "        [824.9900]])"
      ]
     },
     "execution_count": 29,
     "metadata": {},
     "output_type": "execute_result"
    }
   ],
   "source": [
    "x"
   ]
  },
  {
   "cell_type": "code",
   "execution_count": 30,
   "id": "f2d16b59-91b5-4208-af59-6c7d017ab922",
   "metadata": {},
   "outputs": [],
   "source": [
    "y = torch.tensor(df50_com['is_fraud'],dtype = torch.int64)"
   ]
  },
  {
   "cell_type": "code",
   "execution_count": 31,
   "id": "8866eb60-6989-46e0-9be9-16b1f3961c44",
   "metadata": {},
   "outputs": [
    {
     "data": {
      "text/plain": [
       "tensor([1, 1, 0,  ..., 1, 0, 1])"
      ]
     },
     "execution_count": 31,
     "metadata": {},
     "output_type": "execute_result"
    }
   ],
   "source": [
    "y"
   ]
  },
  {
   "cell_type": "code",
   "execution_count": 32,
   "id": "1bd32099-d17d-4f16-ad61-8c8d79def338",
   "metadata": {},
   "outputs": [],
   "source": [
    "import torch_geometric"
   ]
  },
  {
   "cell_type": "code",
   "execution_count": 34,
   "id": "5e204f74-b36f-4029-b15d-124dc2d18e24",
   "metadata": {},
   "outputs": [],
   "source": [
    "data = torch_geometric.data.Data(x=x, edge_index = edge_index_selected, y=y)\n",
    "\n",
    "#train_mask = train_mask, test_mask = test_mask"
   ]
  },
  {
   "cell_type": "code",
   "execution_count": 35,
   "id": "1ba154a6-c153-498a-8d49-f8be662eb34f",
   "metadata": {},
   "outputs": [
    {
     "data": {
      "text/plain": [
       "Data(x=[12012, 1], edge_index=[2, 51392], y=[12012])"
      ]
     },
     "execution_count": 35,
     "metadata": {},
     "output_type": "execute_result"
    }
   ],
   "source": [
    "data"
   ]
  },
  {
   "cell_type": "code",
   "execution_count": null,
   "id": "65b1f943-9621-47ae-8bb2-951547a808eb",
   "metadata": {},
   "outputs": [],
   "source": []
  },
  {
   "cell_type": "markdown",
   "id": "0574eb03-47a5-4811-90ba-f1d491e179f9",
   "metadata": {},
   "source": [
    "---"
   ]
  },
  {
   "cell_type": "markdown",
   "id": "241e1684-905b-41d9-bb80-2f7d7daed263",
   "metadata": {},
   "source": [
    "### GCNConv"
   ]
  },
  {
   "cell_type": "code",
   "execution_count": null,
   "id": "f2f3702c-2dbe-4a0d-9928-c1cf229b08b2",
   "metadata": {},
   "outputs": [],
   "source": []
  },
  {
   "cell_type": "code",
   "execution_count": 37,
   "id": "8028abc6-d178-49e5-8d95-0162794a3957",
   "metadata": {},
   "outputs": [
    {
     "data": {
      "text/plain": [
       "GCNConv(1, 4)"
      ]
     },
     "execution_count": 37,
     "metadata": {},
     "output_type": "execute_result"
    }
   ],
   "source": [
    "gconv = torch_geometric.nn.GCNConv(1,4)\n",
    "gconv"
   ]
  },
  {
   "cell_type": "code",
   "execution_count": 38,
   "id": "3fc5cb1d-526f-4ddf-a7c4-98c60aca00b8",
   "metadata": {},
   "outputs": [
    {
     "data": {
      "text/plain": [
       "tensor([[-5.1237e+02,  5.3152e+02, -2.9626e+01,  5.3703e+02],\n",
       "        [-4.2507e+02,  4.4096e+02, -2.4578e+01,  4.4553e+02],\n",
       "        [-1.9991e+02,  2.0738e+02, -1.1559e+01,  2.0953e+02],\n",
       "        ...,\n",
       "        [-3.8459e+02,  3.9897e+02, -2.2238e+01,  4.0310e+02],\n",
       "        [-6.8703e+00,  7.1271e+00, -3.9725e-01,  7.2010e+00],\n",
       "        [-5.2357e+02,  5.4314e+02, -3.0273e+01,  5.4877e+02]],\n",
       "       grad_fn=<AddBackward0>)"
      ]
     },
     "execution_count": 38,
     "metadata": {},
     "output_type": "execute_result"
    }
   ],
   "source": [
    "gconv(data.x, data.edge_index)"
   ]
  },
  {
   "cell_type": "code",
   "execution_count": 39,
   "id": "08366dfe-982c-4129-b201-99eb07320c04",
   "metadata": {},
   "outputs": [
    {
     "data": {
      "text/plain": [
       "[Parameter containing:\n",
       " tensor([0., 0., 0., 0.], requires_grad=True),\n",
       " Parameter containing:\n",
       " tensor([[-0.9064],\n",
       "         [ 0.9403],\n",
       "         [-0.0524],\n",
       "         [ 0.9500]], requires_grad=True)]"
      ]
     },
     "execution_count": 39,
     "metadata": {},
     "output_type": "execute_result"
    }
   ],
   "source": [
    "list(gconv.parameters())"
   ]
  },
  {
   "cell_type": "code",
   "execution_count": 40,
   "id": "3633b15c-bbab-4a97-abe5-b812458c3638",
   "metadata": {},
   "outputs": [
    {
     "data": {
      "text/plain": [
       "Parameter containing:\n",
       "tensor([[-0.9064],\n",
       "        [ 0.9403],\n",
       "        [-0.0524],\n",
       "        [ 0.9500]], requires_grad=True)"
      ]
     },
     "execution_count": 40,
     "metadata": {},
     "output_type": "execute_result"
    }
   ],
   "source": [
    "_,W = list(gconv.parameters())\n",
    "W"
   ]
  },
  {
   "cell_type": "code",
   "execution_count": 58,
   "id": "d2f7985b-2f0f-4eb9-83da-f523443e9284",
   "metadata": {},
   "outputs": [],
   "source": [
    "A = torch.tensor(aj_matrix, dtype=torch.float32)\n",
    "Atilde = A + torch.eye(12012)"
   ]
  },
  {
   "cell_type": "code",
   "execution_count": 59,
   "id": "44971f15-a663-46fb-8038-aaaa721ebf11",
   "metadata": {},
   "outputs": [
    {
     "data": {
      "text/plain": [
       "tensor([[2., 0., 0.,  ..., 0., 0., 0.],\n",
       "        [0., 2., 0.,  ..., 0., 0., 0.],\n",
       "        [0., 0., 2.,  ..., 0., 0., 0.],\n",
       "        ...,\n",
       "        [0., 0., 0.,  ..., 2., 0., 0.],\n",
       "        [0., 0., 0.,  ..., 0., 2., 0.],\n",
       "        [0., 0., 0.,  ..., 0., 0., 2.]])"
      ]
     },
     "execution_count": 59,
     "metadata": {},
     "output_type": "execute_result"
    }
   ],
   "source": [
    "Atilde"
   ]
  },
  {
   "cell_type": "markdown",
   "id": "8a8204eb-230a-4929-a6ff-e6f6098d2a7d",
   "metadata": {},
   "source": [
    "> 엇? 자기자신은 = 0 을 .. 넣는게 여기든가!"
   ]
  },
  {
   "cell_type": "code",
   "execution_count": 60,
   "id": "0b4bfb82-27d5-45f4-8e49-8161381a7aca",
   "metadata": {},
   "outputs": [
    {
     "data": {
      "text/plain": [
       "(tensor([[-2327.1099,  2414.0901,  -134.5556,  2439.1140],\n",
       "         [-2175.9143,  2257.2434,  -125.8134,  2280.6416],\n",
       "         [ -344.8129,   357.7009,   -19.9374,   361.4088],\n",
       "         ...,\n",
       "         [ -647.5668,   671.7708,   -37.4429,   678.7343],\n",
       "         [-2294.9517,  2380.7297,  -132.6962,  2405.4080],\n",
       "         [-3068.6165,  3183.3123,  -177.4302,  3216.3098]],\n",
       "        grad_fn=<DivBackward0>),\n",
       " tensor([[-5.1237e+02,  5.3152e+02, -2.9626e+01,  5.3703e+02],\n",
       "         [-4.2507e+02,  4.4096e+02, -2.4578e+01,  4.4553e+02],\n",
       "         [-1.9991e+02,  2.0738e+02, -1.1559e+01,  2.0953e+02],\n",
       "         ...,\n",
       "         [-3.8459e+02,  3.9897e+02, -2.2238e+01,  4.0310e+02],\n",
       "         [-6.8703e+00,  7.1271e+00, -3.9725e-01,  7.2010e+00],\n",
       "         [-5.2357e+02,  5.4314e+02, -3.0273e+01,  5.4877e+02]],\n",
       "        grad_fn=<AddBackward0>))"
      ]
     },
     "execution_count": 60,
     "metadata": {},
     "output_type": "execute_result"
    }
   ],
   "source": [
    "Atilde@data.x@W.T/3, gconv(data.x,data.edge_index)"
   ]
  },
  {
   "cell_type": "code",
   "execution_count": null,
   "id": "0284346f-e463-401c-9253-b74e7ba6269a",
   "metadata": {},
   "outputs": [],
   "source": []
  },
  {
   "cell_type": "code",
   "execution_count": null,
   "id": "03fb0893-4a4e-4c1d-b805-ee36b9b1f2f9",
   "metadata": {},
   "outputs": [],
   "source": []
  },
  {
   "cell_type": "markdown",
   "id": "67c5ee44-6efc-4b7f-a7d6-a26052d1e687",
   "metadata": {},
   "source": [
    "---"
   ]
  },
  {
   "cell_type": "markdown",
   "id": "549db1d7-0669-4c92-8116-0187fa8bd8e2",
   "metadata": {},
   "source": [
    "> A를 선택하는거에 있어서 생각해보니 ,,,,,,, 잘못했다! 계속 그냥. . edge만 하는데 GConv에서는 weight를 통해서 edge를 골랐는데 ..  그럼 여기서도 그 mm값을 통해서 구해야할거같은데......이건 어떻게 계산하는 거지?"
   ]
  },
  {
   "cell_type": "code",
   "execution_count": null,
   "id": "0039b19f-777c-4053-978a-98ec63266998",
   "metadata": {},
   "outputs": [],
   "source": []
  },
  {
   "cell_type": "code",
   "execution_count": null,
   "id": "a66926cf-08cb-4cb8-a1cd-f15bcaa22aa3",
   "metadata": {},
   "outputs": [],
   "source": [
    "\n"
   ]
  },
  {
   "cell_type": "code",
   "execution_count": null,
   "id": "a4e6b504-d8d2-4dbe-91fc-4dda994ce501",
   "metadata": {},
   "outputs": [],
   "source": []
  },
  {
   "cell_type": "code",
   "execution_count": null,
   "id": "c17dba3f-6e7e-4235-9c1f-7aa6a2f56c3a",
   "metadata": {},
   "outputs": [],
   "source": []
  },
  {
   "cell_type": "code",
   "execution_count": null,
   "id": "aa64d071-acfb-4fa4-9998-9f9ab80224a6",
   "metadata": {},
   "outputs": [],
   "source": []
  },
  {
   "cell_type": "code",
   "execution_count": null,
   "id": "ea06ac11-0cd0-4038-8994-6fcf7c80aa1f",
   "metadata": {},
   "outputs": [],
   "source": []
  },
  {
   "cell_type": "code",
   "execution_count": null,
   "id": "36e3c701-9f06-450a-b9e0-dfcb45376a56",
   "metadata": {},
   "outputs": [],
   "source": []
  },
  {
   "cell_type": "code",
   "execution_count": null,
   "id": "5e5a71b3-1be7-4196-8f45-e6679297f211",
   "metadata": {},
   "outputs": [],
   "source": []
  },
  {
   "cell_type": "code",
   "execution_count": null,
   "id": "9d59568a-545f-4c1f-9cc7-2b7b2c89087a",
   "metadata": {},
   "outputs": [],
   "source": []
  },
  {
   "cell_type": "code",
   "execution_count": 31,
   "id": "993f6531-37c2-4be2-8eab-cd3481e3b780",
   "metadata": {},
   "outputs": [],
   "source": []
  },
  {
   "cell_type": "code",
   "execution_count": 60,
   "id": "2d44ff88-aa5e-4540-95be-4a1d66c9b927",
   "metadata": {},
   "outputs": [],
   "source": []
  },
  {
   "cell_type": "code",
   "execution_count": null,
   "id": "618fea38-36a7-4051-a5da-a7f2b298aa84",
   "metadata": {},
   "outputs": [],
   "source": []
  },
  {
   "cell_type": "code",
   "execution_count": null,
   "id": "3e7bb5c9-3264-402c-88be-b48b1bdbf038",
   "metadata": {},
   "outputs": [],
   "source": []
  },
  {
   "cell_type": "code",
   "execution_count": null,
   "id": "3c3e6452-3437-4357-b5da-be81d42f7e32",
   "metadata": {},
   "outputs": [],
   "source": []
  },
  {
   "cell_type": "code",
   "execution_count": null,
   "id": "d3bf6a45-b8dd-4074-8b17-478011452e7e",
   "metadata": {},
   "outputs": [],
   "source": []
  },
  {
   "cell_type": "code",
   "execution_count": null,
   "id": "a5c9cebf-fd9e-4c88-8483-d2120e396255",
   "metadata": {},
   "outputs": [],
   "source": []
  },
  {
   "cell_type": "code",
   "execution_count": null,
   "id": "29b079f7-a07a-4f3c-93fb-d92421c0e6ba",
   "metadata": {},
   "outputs": [],
   "source": []
  },
  {
   "cell_type": "code",
   "execution_count": null,
   "id": "cd20a8e6-d38d-4ee0-ae4d-54442c29f7f4",
   "metadata": {},
   "outputs": [],
   "source": []
  }
 ],
 "metadata": {
  "kernelspec": {
   "display_name": "Python 3 (ipykernel)",
   "language": "python",
   "name": "python3"
  },
  "language_info": {
   "codemirror_mode": {
    "name": "ipython",
    "version": 3
   },
   "file_extension": ".py",
   "mimetype": "text/x-python",
   "name": "python",
   "nbconvert_exporter": "python",
   "pygments_lexer": "ipython3",
   "version": "3.8.16"
  }
 },
 "nbformat": 4,
 "nbformat_minor": 5
}
