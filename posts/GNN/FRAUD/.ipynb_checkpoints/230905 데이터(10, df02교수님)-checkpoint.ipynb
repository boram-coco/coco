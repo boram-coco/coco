{
 "cells": [
  {
   "cell_type": "raw",
   "id": "ee5c9c96-1f12-4b74-89c2-ab6bf232ce36",
   "metadata": {},
   "source": [
    "---\n",
    "title: \"**[FRAUD]** df02 accuracy 0.9707 그러나 불균형으로 다른 값들은 다 낮음\"\n",
    "author: \"김보람\"\n",
    "date: \"09/05/2023\"\n",
    "---"
   ]
  },
  {
   "cell_type": "code",
   "execution_count": 13,
   "id": "e0e9ca09-65f5-441f-adc7-382e93b97960",
   "metadata": {},
   "outputs": [],
   "source": [
    "import numpy as np\n",
    "import pandas as pd\n",
    "import matplotlib.pyplot as plt \n",
    "import networkx as nx\n",
    "import sklearn\n",
    "import xgboost as xgb\n",
    "\n",
    "# sklearn\n",
    "from sklearn import model_selection # split함수이용\n",
    "from sklearn import ensemble # RF,GBM\n",
    "from sklearn import metrics\n",
    "from sklearn.metrics import precision_score, recall_score, f1_score\n",
    "from sklearn.svm import SVC\n",
    "from sklearn.ensemble import RandomForestClassifier\n",
    "from sklearn.naive_bayes import GaussianNB\n",
    "\n",
    "# embedding \n",
    "from node2vec import Node2Vec\n",
    "from node2vec.edges import HadamardEmbedder, AverageEmbedder, WeightedL1Embedder, WeightedL2Embedder\n",
    "\n",
    "# gnn\n",
    "import torch\n",
    "import torch_geometric\n",
    "import torch.nn.functional as F\n",
    "from torch_geometric.nn import GCNConv"
   ]
  },
  {
   "cell_type": "markdown",
   "id": "fb8ea854-ed0a-4944-b82e-99784955461c",
   "metadata": {},
   "source": [
    "`-` fraudTrain"
   ]
  },
  {
   "cell_type": "code",
   "execution_count": 6,
   "id": "8f7bcc34-1d12-4f8b-908b-ee9a0c7d223a",
   "metadata": {},
   "outputs": [],
   "source": [
    "fraudTrain = pd.read_csv(\"~/Desktop/fraudTrain.csv\").iloc[:,1:]"
   ]
  },
  {
   "cell_type": "code",
   "execution_count": 7,
   "id": "eb7a9b2b-f984-4bb0-b14b-e523a00d8d38",
   "metadata": {},
   "outputs": [
    {
     "data": {
      "text/html": [
       "<div>\n",
       "<style scoped>\n",
       "    .dataframe tbody tr th:only-of-type {\n",
       "        vertical-align: middle;\n",
       "    }\n",
       "\n",
       "    .dataframe tbody tr th {\n",
       "        vertical-align: top;\n",
       "    }\n",
       "\n",
       "    .dataframe thead th {\n",
       "        text-align: right;\n",
       "    }\n",
       "</style>\n",
       "<table border=\"1\" class=\"dataframe\">\n",
       "  <thead>\n",
       "    <tr style=\"text-align: right;\">\n",
       "      <th></th>\n",
       "      <th>trans_date_trans_time</th>\n",
       "      <th>cc_num</th>\n",
       "      <th>merchant</th>\n",
       "      <th>category</th>\n",
       "      <th>amt</th>\n",
       "      <th>first</th>\n",
       "      <th>last</th>\n",
       "      <th>gender</th>\n",
       "      <th>street</th>\n",
       "      <th>city</th>\n",
       "      <th>...</th>\n",
       "      <th>lat</th>\n",
       "      <th>long</th>\n",
       "      <th>city_pop</th>\n",
       "      <th>job</th>\n",
       "      <th>dob</th>\n",
       "      <th>trans_num</th>\n",
       "      <th>unix_time</th>\n",
       "      <th>merch_lat</th>\n",
       "      <th>merch_long</th>\n",
       "      <th>is_fraud</th>\n",
       "    </tr>\n",
       "  </thead>\n",
       "  <tbody>\n",
       "    <tr>\n",
       "      <th>0</th>\n",
       "      <td>2019-01-01 00:00:00</td>\n",
       "      <td>2.703190e+15</td>\n",
       "      <td>fraud_Rippin, Kub and Mann</td>\n",
       "      <td>misc_net</td>\n",
       "      <td>4.97</td>\n",
       "      <td>Jennifer</td>\n",
       "      <td>Banks</td>\n",
       "      <td>F</td>\n",
       "      <td>561 Perry Cove</td>\n",
       "      <td>Moravian Falls</td>\n",
       "      <td>...</td>\n",
       "      <td>36.0788</td>\n",
       "      <td>-81.1781</td>\n",
       "      <td>3495</td>\n",
       "      <td>Psychologist, counselling</td>\n",
       "      <td>1988-03-09</td>\n",
       "      <td>0b242abb623afc578575680df30655b9</td>\n",
       "      <td>1325376018</td>\n",
       "      <td>36.011293</td>\n",
       "      <td>-82.048315</td>\n",
       "      <td>0</td>\n",
       "    </tr>\n",
       "    <tr>\n",
       "      <th>1</th>\n",
       "      <td>2019-01-01 00:00:00</td>\n",
       "      <td>6.304230e+11</td>\n",
       "      <td>fraud_Heller, Gutmann and Zieme</td>\n",
       "      <td>grocery_pos</td>\n",
       "      <td>107.23</td>\n",
       "      <td>Stephanie</td>\n",
       "      <td>Gill</td>\n",
       "      <td>F</td>\n",
       "      <td>43039 Riley Greens Suite 393</td>\n",
       "      <td>Orient</td>\n",
       "      <td>...</td>\n",
       "      <td>48.8878</td>\n",
       "      <td>-118.2105</td>\n",
       "      <td>149</td>\n",
       "      <td>Special educational needs teacher</td>\n",
       "      <td>1978-06-21</td>\n",
       "      <td>1f76529f8574734946361c461b024d99</td>\n",
       "      <td>1325376044</td>\n",
       "      <td>49.159047</td>\n",
       "      <td>-118.186462</td>\n",
       "      <td>0</td>\n",
       "    </tr>\n",
       "    <tr>\n",
       "      <th>2</th>\n",
       "      <td>2019-01-01 00:00:00</td>\n",
       "      <td>3.885950e+13</td>\n",
       "      <td>fraud_Lind-Buckridge</td>\n",
       "      <td>entertainment</td>\n",
       "      <td>220.11</td>\n",
       "      <td>Edward</td>\n",
       "      <td>Sanchez</td>\n",
       "      <td>M</td>\n",
       "      <td>594 White Dale Suite 530</td>\n",
       "      <td>Malad City</td>\n",
       "      <td>...</td>\n",
       "      <td>42.1808</td>\n",
       "      <td>-112.2620</td>\n",
       "      <td>4154</td>\n",
       "      <td>Nature conservation officer</td>\n",
       "      <td>1962-01-19</td>\n",
       "      <td>a1a22d70485983eac12b5b88dad1cf95</td>\n",
       "      <td>1325376051</td>\n",
       "      <td>43.150704</td>\n",
       "      <td>-112.154481</td>\n",
       "      <td>0</td>\n",
       "    </tr>\n",
       "    <tr>\n",
       "      <th>3</th>\n",
       "      <td>2019-01-01 00:01:00</td>\n",
       "      <td>3.534090e+15</td>\n",
       "      <td>fraud_Kutch, Hermiston and Farrell</td>\n",
       "      <td>gas_transport</td>\n",
       "      <td>45.00</td>\n",
       "      <td>Jeremy</td>\n",
       "      <td>White</td>\n",
       "      <td>M</td>\n",
       "      <td>9443 Cynthia Court Apt. 038</td>\n",
       "      <td>Boulder</td>\n",
       "      <td>...</td>\n",
       "      <td>46.2306</td>\n",
       "      <td>-112.1138</td>\n",
       "      <td>1939</td>\n",
       "      <td>Patent attorney</td>\n",
       "      <td>1967-01-12</td>\n",
       "      <td>6b849c168bdad6f867558c3793159a81</td>\n",
       "      <td>1325376076</td>\n",
       "      <td>47.034331</td>\n",
       "      <td>-112.561071</td>\n",
       "      <td>0</td>\n",
       "    </tr>\n",
       "    <tr>\n",
       "      <th>4</th>\n",
       "      <td>2019-01-01 00:03:00</td>\n",
       "      <td>3.755340e+14</td>\n",
       "      <td>fraud_Keeling-Crist</td>\n",
       "      <td>misc_pos</td>\n",
       "      <td>41.96</td>\n",
       "      <td>Tyler</td>\n",
       "      <td>Garcia</td>\n",
       "      <td>M</td>\n",
       "      <td>408 Bradley Rest</td>\n",
       "      <td>Doe Hill</td>\n",
       "      <td>...</td>\n",
       "      <td>38.4207</td>\n",
       "      <td>-79.4629</td>\n",
       "      <td>99</td>\n",
       "      <td>Dance movement psychotherapist</td>\n",
       "      <td>1986-03-28</td>\n",
       "      <td>a41d7549acf90789359a9aa5346dcb46</td>\n",
       "      <td>1325376186</td>\n",
       "      <td>38.674999</td>\n",
       "      <td>-78.632459</td>\n",
       "      <td>0</td>\n",
       "    </tr>\n",
       "    <tr>\n",
       "      <th>...</th>\n",
       "      <td>...</td>\n",
       "      <td>...</td>\n",
       "      <td>...</td>\n",
       "      <td>...</td>\n",
       "      <td>...</td>\n",
       "      <td>...</td>\n",
       "      <td>...</td>\n",
       "      <td>...</td>\n",
       "      <td>...</td>\n",
       "      <td>...</td>\n",
       "      <td>...</td>\n",
       "      <td>...</td>\n",
       "      <td>...</td>\n",
       "      <td>...</td>\n",
       "      <td>...</td>\n",
       "      <td>...</td>\n",
       "      <td>...</td>\n",
       "      <td>...</td>\n",
       "      <td>...</td>\n",
       "      <td>...</td>\n",
       "      <td>...</td>\n",
       "    </tr>\n",
       "    <tr>\n",
       "      <th>1048570</th>\n",
       "      <td>2020-03-10 16:07:00</td>\n",
       "      <td>6.011980e+15</td>\n",
       "      <td>fraud_Fadel Inc</td>\n",
       "      <td>health_fitness</td>\n",
       "      <td>77.00</td>\n",
       "      <td>Haley</td>\n",
       "      <td>Wagner</td>\n",
       "      <td>F</td>\n",
       "      <td>05561 Farrell Crescent</td>\n",
       "      <td>Annapolis</td>\n",
       "      <td>...</td>\n",
       "      <td>39.0305</td>\n",
       "      <td>-76.5515</td>\n",
       "      <td>92106</td>\n",
       "      <td>Accountant, chartered certified</td>\n",
       "      <td>1943-05-28</td>\n",
       "      <td>45ecd198c65e81e597db22e8d2ef7361</td>\n",
       "      <td>1362931649</td>\n",
       "      <td>38.779464</td>\n",
       "      <td>-76.317042</td>\n",
       "      <td>0</td>\n",
       "    </tr>\n",
       "    <tr>\n",
       "      <th>1048571</th>\n",
       "      <td>2020-03-10 16:07:00</td>\n",
       "      <td>4.839040e+15</td>\n",
       "      <td>fraud_Cremin, Hamill and Reichel</td>\n",
       "      <td>misc_pos</td>\n",
       "      <td>116.94</td>\n",
       "      <td>Meredith</td>\n",
       "      <td>Campbell</td>\n",
       "      <td>F</td>\n",
       "      <td>043 Hanson Turnpike</td>\n",
       "      <td>Hedrick</td>\n",
       "      <td>...</td>\n",
       "      <td>41.1826</td>\n",
       "      <td>-92.3097</td>\n",
       "      <td>1583</td>\n",
       "      <td>Geochemist</td>\n",
       "      <td>1999-06-28</td>\n",
       "      <td>c00ce51c6ebb7657474a77b9e0b51f34</td>\n",
       "      <td>1362931670</td>\n",
       "      <td>41.400318</td>\n",
       "      <td>-92.726724</td>\n",
       "      <td>0</td>\n",
       "    </tr>\n",
       "    <tr>\n",
       "      <th>1048572</th>\n",
       "      <td>2020-03-10 16:08:00</td>\n",
       "      <td>5.718440e+11</td>\n",
       "      <td>fraud_O'Connell, Botsford and Hand</td>\n",
       "      <td>home</td>\n",
       "      <td>21.27</td>\n",
       "      <td>Susan</td>\n",
       "      <td>Mills</td>\n",
       "      <td>F</td>\n",
       "      <td>005 Cody Estates</td>\n",
       "      <td>Louisville</td>\n",
       "      <td>...</td>\n",
       "      <td>38.2507</td>\n",
       "      <td>-85.7476</td>\n",
       "      <td>736284</td>\n",
       "      <td>Engineering geologist</td>\n",
       "      <td>1952-04-02</td>\n",
       "      <td>17c9dc8b2a6449ca2473726346e58e6c</td>\n",
       "      <td>1362931711</td>\n",
       "      <td>37.293339</td>\n",
       "      <td>-84.798122</td>\n",
       "      <td>0</td>\n",
       "    </tr>\n",
       "    <tr>\n",
       "      <th>1048573</th>\n",
       "      <td>2020-03-10 16:08:00</td>\n",
       "      <td>4.646850e+18</td>\n",
       "      <td>fraud_Thompson-Gleason</td>\n",
       "      <td>health_fitness</td>\n",
       "      <td>9.52</td>\n",
       "      <td>Julia</td>\n",
       "      <td>Bell</td>\n",
       "      <td>F</td>\n",
       "      <td>576 House Crossroad</td>\n",
       "      <td>West Sayville</td>\n",
       "      <td>...</td>\n",
       "      <td>40.7320</td>\n",
       "      <td>-73.1000</td>\n",
       "      <td>4056</td>\n",
       "      <td>Film/video editor</td>\n",
       "      <td>1990-06-25</td>\n",
       "      <td>5ca650881b48a6a38754f841c23b77ab</td>\n",
       "      <td>1362931718</td>\n",
       "      <td>39.773077</td>\n",
       "      <td>-72.213209</td>\n",
       "      <td>0</td>\n",
       "    </tr>\n",
       "    <tr>\n",
       "      <th>1048574</th>\n",
       "      <td>2020-03-10 16:08:00</td>\n",
       "      <td>2.283740e+15</td>\n",
       "      <td>fraud_Buckridge PLC</td>\n",
       "      <td>misc_pos</td>\n",
       "      <td>6.81</td>\n",
       "      <td>Shannon</td>\n",
       "      <td>Williams</td>\n",
       "      <td>F</td>\n",
       "      <td>9345 Spencer Junctions Suite 183</td>\n",
       "      <td>Alpharetta</td>\n",
       "      <td>...</td>\n",
       "      <td>34.0770</td>\n",
       "      <td>-84.3033</td>\n",
       "      <td>165556</td>\n",
       "      <td>Prison officer</td>\n",
       "      <td>1997-12-27</td>\n",
       "      <td>8d0a575fe635bbde12f1a2bffc126731</td>\n",
       "      <td>1362931730</td>\n",
       "      <td>33.601468</td>\n",
       "      <td>-83.891921</td>\n",
       "      <td>0</td>\n",
       "    </tr>\n",
       "  </tbody>\n",
       "</table>\n",
       "<p>1048575 rows × 22 columns</p>\n",
       "</div>"
      ],
      "text/plain": [
       "        trans_date_trans_time        cc_num  \\\n",
       "0         2019-01-01 00:00:00  2.703190e+15   \n",
       "1         2019-01-01 00:00:00  6.304230e+11   \n",
       "2         2019-01-01 00:00:00  3.885950e+13   \n",
       "3         2019-01-01 00:01:00  3.534090e+15   \n",
       "4         2019-01-01 00:03:00  3.755340e+14   \n",
       "...                       ...           ...   \n",
       "1048570   2020-03-10 16:07:00  6.011980e+15   \n",
       "1048571   2020-03-10 16:07:00  4.839040e+15   \n",
       "1048572   2020-03-10 16:08:00  5.718440e+11   \n",
       "1048573   2020-03-10 16:08:00  4.646850e+18   \n",
       "1048574   2020-03-10 16:08:00  2.283740e+15   \n",
       "\n",
       "                                   merchant        category     amt  \\\n",
       "0                fraud_Rippin, Kub and Mann        misc_net    4.97   \n",
       "1           fraud_Heller, Gutmann and Zieme     grocery_pos  107.23   \n",
       "2                      fraud_Lind-Buckridge   entertainment  220.11   \n",
       "3        fraud_Kutch, Hermiston and Farrell   gas_transport   45.00   \n",
       "4                       fraud_Keeling-Crist        misc_pos   41.96   \n",
       "...                                     ...             ...     ...   \n",
       "1048570                     fraud_Fadel Inc  health_fitness   77.00   \n",
       "1048571    fraud_Cremin, Hamill and Reichel        misc_pos  116.94   \n",
       "1048572  fraud_O'Connell, Botsford and Hand            home   21.27   \n",
       "1048573              fraud_Thompson-Gleason  health_fitness    9.52   \n",
       "1048574                 fraud_Buckridge PLC        misc_pos    6.81   \n",
       "\n",
       "             first      last gender                            street  \\\n",
       "0         Jennifer     Banks      F                    561 Perry Cove   \n",
       "1        Stephanie      Gill      F      43039 Riley Greens Suite 393   \n",
       "2           Edward   Sanchez      M          594 White Dale Suite 530   \n",
       "3           Jeremy     White      M       9443 Cynthia Court Apt. 038   \n",
       "4            Tyler    Garcia      M                  408 Bradley Rest   \n",
       "...            ...       ...    ...                               ...   \n",
       "1048570      Haley    Wagner      F            05561 Farrell Crescent   \n",
       "1048571   Meredith  Campbell      F               043 Hanson Turnpike   \n",
       "1048572      Susan     Mills      F                  005 Cody Estates   \n",
       "1048573      Julia      Bell      F               576 House Crossroad   \n",
       "1048574    Shannon  Williams      F  9345 Spencer Junctions Suite 183   \n",
       "\n",
       "                   city  ...      lat      long  city_pop  \\\n",
       "0        Moravian Falls  ...  36.0788  -81.1781      3495   \n",
       "1                Orient  ...  48.8878 -118.2105       149   \n",
       "2            Malad City  ...  42.1808 -112.2620      4154   \n",
       "3               Boulder  ...  46.2306 -112.1138      1939   \n",
       "4              Doe Hill  ...  38.4207  -79.4629        99   \n",
       "...                 ...  ...      ...       ...       ...   \n",
       "1048570       Annapolis  ...  39.0305  -76.5515     92106   \n",
       "1048571         Hedrick  ...  41.1826  -92.3097      1583   \n",
       "1048572      Louisville  ...  38.2507  -85.7476    736284   \n",
       "1048573   West Sayville  ...  40.7320  -73.1000      4056   \n",
       "1048574      Alpharetta  ...  34.0770  -84.3033    165556   \n",
       "\n",
       "                                       job         dob  \\\n",
       "0                Psychologist, counselling  1988-03-09   \n",
       "1        Special educational needs teacher  1978-06-21   \n",
       "2              Nature conservation officer  1962-01-19   \n",
       "3                          Patent attorney  1967-01-12   \n",
       "4           Dance movement psychotherapist  1986-03-28   \n",
       "...                                    ...         ...   \n",
       "1048570    Accountant, chartered certified  1943-05-28   \n",
       "1048571                         Geochemist  1999-06-28   \n",
       "1048572              Engineering geologist  1952-04-02   \n",
       "1048573                  Film/video editor  1990-06-25   \n",
       "1048574                     Prison officer  1997-12-27   \n",
       "\n",
       "                                trans_num   unix_time  merch_lat  merch_long  \\\n",
       "0        0b242abb623afc578575680df30655b9  1325376018  36.011293  -82.048315   \n",
       "1        1f76529f8574734946361c461b024d99  1325376044  49.159047 -118.186462   \n",
       "2        a1a22d70485983eac12b5b88dad1cf95  1325376051  43.150704 -112.154481   \n",
       "3        6b849c168bdad6f867558c3793159a81  1325376076  47.034331 -112.561071   \n",
       "4        a41d7549acf90789359a9aa5346dcb46  1325376186  38.674999  -78.632459   \n",
       "...                                   ...         ...        ...         ...   \n",
       "1048570  45ecd198c65e81e597db22e8d2ef7361  1362931649  38.779464  -76.317042   \n",
       "1048571  c00ce51c6ebb7657474a77b9e0b51f34  1362931670  41.400318  -92.726724   \n",
       "1048572  17c9dc8b2a6449ca2473726346e58e6c  1362931711  37.293339  -84.798122   \n",
       "1048573  5ca650881b48a6a38754f841c23b77ab  1362931718  39.773077  -72.213209   \n",
       "1048574  8d0a575fe635bbde12f1a2bffc126731  1362931730  33.601468  -83.891921   \n",
       "\n",
       "         is_fraud  \n",
       "0               0  \n",
       "1               0  \n",
       "2               0  \n",
       "3               0  \n",
       "4               0  \n",
       "...           ...  \n",
       "1048570         0  \n",
       "1048571         0  \n",
       "1048572         0  \n",
       "1048573         0  \n",
       "1048574         0  \n",
       "\n",
       "[1048575 rows x 22 columns]"
      ]
     },
     "execution_count": 7,
     "metadata": {},
     "output_type": "execute_result"
    }
   ],
   "source": [
    "fraudTrain = fraudTrain.assign(trans_date_trans_time= list(map(lambda x: pd.to_datetime(x), fraudTrain.trans_date_trans_time)))\n",
    "fraudTrain"
   ]
  },
  {
   "cell_type": "markdown",
   "id": "c69a03f6-de84-4481-9c8b-f0c97dfe1252",
   "metadata": {},
   "source": [
    "`-` df02"
   ]
  },
  {
   "cell_type": "code",
   "execution_count": 12,
   "id": "adec4c87-7a49-41dd-ba04-879643113486",
   "metadata": {},
   "outputs": [],
   "source": [
    "_df1 = fraudTrain[fraudTrain[\"is_fraud\"] == 0].sample(frac=0.20, random_state=42)\n",
    "_df2 = fraudTrain[fraudTrain[\"is_fraud\"] == 1]\n",
    "df02 = pd.concat([_df1,_df2])\n",
    "df02 = df02.reset_index()"
   ]
  },
  {
   "cell_type": "markdown",
   "id": "c9e60260-3ac5-4935-9ab4-1cdf7d5ecffe",
   "metadata": {},
   "source": [
    "`-` df_toy"
   ]
  },
  {
   "cell_type": "code",
   "execution_count": 13,
   "id": "32c86926-0749-4955-914b-9b91ce99d0e0",
   "metadata": {},
   "outputs": [
    {
     "data": {
      "text/html": [
       "<div>\n",
       "<style scoped>\n",
       "    .dataframe tbody tr th:only-of-type {\n",
       "        vertical-align: middle;\n",
       "    }\n",
       "\n",
       "    .dataframe tbody tr th {\n",
       "        vertical-align: top;\n",
       "    }\n",
       "\n",
       "    .dataframe thead th {\n",
       "        text-align: right;\n",
       "    }\n",
       "</style>\n",
       "<table border=\"1\" class=\"dataframe\">\n",
       "  <thead>\n",
       "    <tr style=\"text-align: right;\">\n",
       "      <th></th>\n",
       "      <th>index</th>\n",
       "      <th>trans_date_trans_time</th>\n",
       "      <th>cc_num</th>\n",
       "      <th>merchant</th>\n",
       "      <th>category</th>\n",
       "      <th>amt</th>\n",
       "      <th>first</th>\n",
       "      <th>last</th>\n",
       "      <th>gender</th>\n",
       "      <th>street</th>\n",
       "      <th>...</th>\n",
       "      <th>lat</th>\n",
       "      <th>long</th>\n",
       "      <th>city_pop</th>\n",
       "      <th>job</th>\n",
       "      <th>dob</th>\n",
       "      <th>trans_num</th>\n",
       "      <th>unix_time</th>\n",
       "      <th>merch_lat</th>\n",
       "      <th>merch_long</th>\n",
       "      <th>is_fraud</th>\n",
       "    </tr>\n",
       "  </thead>\n",
       "  <tbody>\n",
       "    <tr>\n",
       "      <th>0</th>\n",
       "      <td>669418</td>\n",
       "      <td>2019-10-12 18:21:00</td>\n",
       "      <td>1</td>\n",
       "      <td>fraud_Haley, Jewess and Bechtelar</td>\n",
       "      <td>shopping_pos</td>\n",
       "      <td>7.53</td>\n",
       "      <td>Debra</td>\n",
       "      <td>Stark</td>\n",
       "      <td>F</td>\n",
       "      <td>686 Linda Rest</td>\n",
       "      <td>...</td>\n",
       "      <td>32.3836</td>\n",
       "      <td>-94.8653</td>\n",
       "      <td>24536</td>\n",
       "      <td>Multimedia programmer</td>\n",
       "      <td>1983-10-14</td>\n",
       "      <td>d313353fa30233e5fab5468e852d22fc</td>\n",
       "      <td>1350066071</td>\n",
       "      <td>32.202008</td>\n",
       "      <td>-94.371865</td>\n",
       "      <td>0</td>\n",
       "    </tr>\n",
       "    <tr>\n",
       "      <th>1</th>\n",
       "      <td>32567</td>\n",
       "      <td>2019-01-20 13:06:00</td>\n",
       "      <td>1</td>\n",
       "      <td>fraud_Turner LLC</td>\n",
       "      <td>travel</td>\n",
       "      <td>3.79</td>\n",
       "      <td>Judith</td>\n",
       "      <td>Moss</td>\n",
       "      <td>F</td>\n",
       "      <td>46297 Benjamin Plains Suite 703</td>\n",
       "      <td>...</td>\n",
       "      <td>39.5370</td>\n",
       "      <td>-83.4550</td>\n",
       "      <td>22305</td>\n",
       "      <td>Television floor manager</td>\n",
       "      <td>1939-03-09</td>\n",
       "      <td>88c65b4e1585934d578511e627fe3589</td>\n",
       "      <td>1327064760</td>\n",
       "      <td>39.156673</td>\n",
       "      <td>-82.930503</td>\n",
       "      <td>0</td>\n",
       "    </tr>\n",
       "    <tr>\n",
       "      <th>2</th>\n",
       "      <td>156587</td>\n",
       "      <td>2019-03-24 18:09:00</td>\n",
       "      <td>1</td>\n",
       "      <td>fraud_Klein Group</td>\n",
       "      <td>entertainment</td>\n",
       "      <td>59.07</td>\n",
       "      <td>Debbie</td>\n",
       "      <td>Payne</td>\n",
       "      <td>F</td>\n",
       "      <td>204 Ashley Neck Apt. 169</td>\n",
       "      <td>...</td>\n",
       "      <td>41.5224</td>\n",
       "      <td>-71.9934</td>\n",
       "      <td>4720</td>\n",
       "      <td>Broadcast presenter</td>\n",
       "      <td>1977-05-18</td>\n",
       "      <td>3bd9ede04b5c093143d5e5292940b670</td>\n",
       "      <td>1332612553</td>\n",
       "      <td>41.657152</td>\n",
       "      <td>-72.595751</td>\n",
       "      <td>0</td>\n",
       "    </tr>\n",
       "    <tr>\n",
       "      <th>3</th>\n",
       "      <td>1020243</td>\n",
       "      <td>2020-02-25 15:12:00</td>\n",
       "      <td>2</td>\n",
       "      <td>fraud_Monahan-Morar</td>\n",
       "      <td>personal_care</td>\n",
       "      <td>25.58</td>\n",
       "      <td>Alan</td>\n",
       "      <td>Parsons</td>\n",
       "      <td>M</td>\n",
       "      <td>0547 Russell Ford Suite 574</td>\n",
       "      <td>...</td>\n",
       "      <td>39.6171</td>\n",
       "      <td>-102.4776</td>\n",
       "      <td>207</td>\n",
       "      <td>Network engineer</td>\n",
       "      <td>1955-12-04</td>\n",
       "      <td>19e16ee7a01d229e750359098365e321</td>\n",
       "      <td>1361805120</td>\n",
       "      <td>39.080346</td>\n",
       "      <td>-103.213452</td>\n",
       "      <td>0</td>\n",
       "    </tr>\n",
       "    <tr>\n",
       "      <th>4</th>\n",
       "      <td>116272</td>\n",
       "      <td>2019-03-06 23:19:00</td>\n",
       "      <td>2</td>\n",
       "      <td>fraud_Kozey-Kuhlman</td>\n",
       "      <td>personal_care</td>\n",
       "      <td>84.96</td>\n",
       "      <td>Jill</td>\n",
       "      <td>Flores</td>\n",
       "      <td>F</td>\n",
       "      <td>639 Cruz Islands</td>\n",
       "      <td>...</td>\n",
       "      <td>41.9488</td>\n",
       "      <td>-86.4913</td>\n",
       "      <td>3104</td>\n",
       "      <td>Horticulturist, commercial</td>\n",
       "      <td>1981-03-29</td>\n",
       "      <td>a0c8641ca1f5d6e243ed5a2246e66176</td>\n",
       "      <td>1331075954</td>\n",
       "      <td>42.502065</td>\n",
       "      <td>-86.732664</td>\n",
       "      <td>0</td>\n",
       "    </tr>\n",
       "  </tbody>\n",
       "</table>\n",
       "<p>5 rows × 23 columns</p>\n",
       "</div>"
      ],
      "text/plain": [
       "     index trans_date_trans_time  cc_num                           merchant  \\\n",
       "0   669418   2019-10-12 18:21:00       1  fraud_Haley, Jewess and Bechtelar   \n",
       "1    32567   2019-01-20 13:06:00       1                   fraud_Turner LLC   \n",
       "2   156587   2019-03-24 18:09:00       1                  fraud_Klein Group   \n",
       "3  1020243   2020-02-25 15:12:00       2                fraud_Monahan-Morar   \n",
       "4   116272   2019-03-06 23:19:00       2                fraud_Kozey-Kuhlman   \n",
       "\n",
       "        category    amt   first     last gender  \\\n",
       "0   shopping_pos   7.53   Debra    Stark      F   \n",
       "1         travel   3.79  Judith     Moss      F   \n",
       "2  entertainment  59.07  Debbie    Payne      F   \n",
       "3  personal_care  25.58    Alan  Parsons      M   \n",
       "4  personal_care  84.96    Jill   Flores      F   \n",
       "\n",
       "                            street  ...      lat      long  city_pop  \\\n",
       "0                   686 Linda Rest  ...  32.3836  -94.8653     24536   \n",
       "1  46297 Benjamin Plains Suite 703  ...  39.5370  -83.4550     22305   \n",
       "2         204 Ashley Neck Apt. 169  ...  41.5224  -71.9934      4720   \n",
       "3      0547 Russell Ford Suite 574  ...  39.6171 -102.4776       207   \n",
       "4                 639 Cruz Islands  ...  41.9488  -86.4913      3104   \n",
       "\n",
       "                          job         dob                         trans_num  \\\n",
       "0       Multimedia programmer  1983-10-14  d313353fa30233e5fab5468e852d22fc   \n",
       "1    Television floor manager  1939-03-09  88c65b4e1585934d578511e627fe3589   \n",
       "2         Broadcast presenter  1977-05-18  3bd9ede04b5c093143d5e5292940b670   \n",
       "3            Network engineer  1955-12-04  19e16ee7a01d229e750359098365e321   \n",
       "4  Horticulturist, commercial  1981-03-29  a0c8641ca1f5d6e243ed5a2246e66176   \n",
       "\n",
       "    unix_time  merch_lat  merch_long  is_fraud  \n",
       "0  1350066071  32.202008  -94.371865         0  \n",
       "1  1327064760  39.156673  -82.930503         0  \n",
       "2  1332612553  41.657152  -72.595751         0  \n",
       "3  1361805120  39.080346 -103.213452         0  \n",
       "4  1331075954  42.502065  -86.732664         0  \n",
       "\n",
       "[5 rows x 23 columns]"
      ]
     },
     "execution_count": 13,
     "metadata": {},
     "output_type": "execute_result"
    }
   ],
   "source": [
    "df_toy=df02[:5].copy()\n",
    "df_toy.cc_num = pd.Series([1,1,1,2,2])\n",
    "df_toy"
   ]
  },
  {
   "cell_type": "markdown",
   "id": "8d881b33-6cbf-4bfb-bd6b-4ce6fec996cb",
   "metadata": {},
   "source": [
    "`-` df_toy 에서 time_difference 구함\n",
    "\n",
    "**고객1**"
   ]
  },
  {
   "cell_type": "code",
   "execution_count": 14,
   "id": "d3242e02-faef-4f4d-8c80-f12da58f4076",
   "metadata": {},
   "outputs": [
    {
     "data": {
      "text/plain": [
       "22914900000000000"
      ]
     },
     "execution_count": 14,
     "metadata": {},
     "output_type": "execute_result"
    }
   ],
   "source": [
    "df_toy.iloc[0].trans_date_trans_time.value - df_toy.iloc[1].trans_date_trans_time.value"
   ]
  },
  {
   "cell_type": "code",
   "execution_count": 15,
   "id": "dad1a45c-c5ba-4edb-ac8f-5e0e6e2de449",
   "metadata": {},
   "outputs": [
    {
     "data": {
      "text/plain": [
       "17453520000000000"
      ]
     },
     "execution_count": 15,
     "metadata": {},
     "output_type": "execute_result"
    }
   ],
   "source": [
    "df_toy.iloc[0].trans_date_trans_time.value - df_toy.iloc[2].trans_date_trans_time.value"
   ]
  },
  {
   "cell_type": "code",
   "execution_count": 16,
   "id": "01f03d72-82a6-4293-99a2-d40899e93652",
   "metadata": {},
   "outputs": [
    {
     "data": {
      "text/plain": [
       "-5461380000000000"
      ]
     },
     "execution_count": 16,
     "metadata": {},
     "output_type": "execute_result"
    }
   ],
   "source": [
    "df_toy.iloc[1].trans_date_trans_time.value - df_toy.iloc[2].trans_date_trans_time.value"
   ]
  },
  {
   "cell_type": "markdown",
   "id": "4ac5a37b-a497-4232-bb10-de8c9870eb2e",
   "metadata": {},
   "source": [
    "**고객2**"
   ]
  },
  {
   "cell_type": "code",
   "execution_count": 17,
   "id": "0606044a-880d-41e9-920f-9c5f8e0a99e9",
   "metadata": {},
   "outputs": [
    {
     "data": {
      "text/plain": [
       "30729180000000000"
      ]
     },
     "execution_count": 17,
     "metadata": {},
     "output_type": "execute_result"
    }
   ],
   "source": [
    "df_toy.iloc[3].trans_date_trans_time.value - df_toy.iloc[4].trans_date_trans_time.value"
   ]
  },
  {
   "cell_type": "markdown",
   "id": "be537ec3-0c49-4847-a7bd-3bd98811a17e",
   "metadata": {},
   "source": [
    "**고객1,2**"
   ]
  },
  {
   "cell_type": "code",
   "execution_count": 18,
   "id": "479dd0e2-6b35-4ac8-904e-ac79ab868c40",
   "metadata": {},
   "outputs": [],
   "source": [
    "def compute_time_difference(group):\n",
    "    n = len(group)\n",
    "    result = []\n",
    "    for i in range(n):\n",
    "        for j in range(n):\n",
    "            time_difference = abs(group.iloc[i].trans_date_trans_time.value - group.iloc[j].trans_date_trans_time.value)\n",
    "            result.append([group.iloc[i].name, group.iloc[j].name, time_difference])\n",
    "    return result"
   ]
  },
  {
   "cell_type": "code",
   "execution_count": 19,
   "id": "5081b897-f57f-42f3-97d2-4a48183b8e4a",
   "metadata": {},
   "outputs": [
    {
     "data": {
      "text/plain": [
       "array([[                0,                 0,                 0],\n",
       "       [                0,                 1, 22914900000000000],\n",
       "       [                0,                 2, 17453520000000000],\n",
       "       [                1,                 0, 22914900000000000],\n",
       "       [                1,                 1,                 0],\n",
       "       [                1,                 2,  5461380000000000],\n",
       "       [                2,                 0, 17453520000000000],\n",
       "       [                2,                 1,  5461380000000000],\n",
       "       [                2,                 2,                 0],\n",
       "       [                3,                 3,                 0],\n",
       "       [                3,                 4, 30729180000000000],\n",
       "       [                4,                 3, 30729180000000000],\n",
       "       [                4,                 4,                 0]])"
      ]
     },
     "execution_count": 19,
     "metadata": {},
     "output_type": "execute_result"
    }
   ],
   "source": [
    "groups = df_toy.groupby('cc_num')\n",
    "edge_index_list_plus = [compute_time_difference(group) for _, group in groups]\n",
    "edge_index_list_plus_flat = [item for sublist in edge_index_list_plus for item in sublist]\n",
    "edge_index_list_plus_nparr = np.array(edge_index_list_plus_flat)\n",
    "edge_index_list_plus_nparr"
   ]
  },
  {
   "cell_type": "markdown",
   "id": "77e6563a-7af9-4fb9-b6f2-058efafd0b02",
   "metadata": {},
   "source": [
    "`-` df02에서 time_difference 구함"
   ]
  },
  {
   "cell_type": "code",
   "execution_count": 20,
   "id": "4f311ec7-ff33-4d53-a0d2-2085caff2b23",
   "metadata": {},
   "outputs": [],
   "source": [
    "# t1 = time.time()\n",
    "# groups = df02.groupby('cc_num')\n",
    "# edge_index_list_plus = [compute_time_difference(group) for _, group in groups]\n",
    "# edge_index_list_plus_flat = [item for sublist in edge_index_list_plus for item in sublist]\n",
    "# edge_index_list_plus_nparr = np.array(edge_index_list_plus_flat)\n",
    "# np.save('edge_index_list_plus02.npy', edge_index_list_plus_nparr)\n",
    "# t2 = time.time()\n",
    "# t2-t1"
   ]
  },
  {
   "cell_type": "code",
   "execution_count": 162,
   "id": "027aeb43-f604-4b0e-9905-22ca430d8c56",
   "metadata": {},
   "outputs": [],
   "source": [
    "groups = df02.groupby(\"cc_num\")"
   ]
  },
  {
   "cell_type": "code",
   "execution_count": 11,
   "id": "119fb60a-4e14-410d-bcdf-a9028e6e2cbc",
   "metadata": {},
   "outputs": [],
   "source": [
    "edge_index_list_plus02[:,2] = (np.exp(-edge_index_list_plus02[:,2]/theta) != 1)*(np.exp(-edge_index_list_plus02[:,2]/theta))"
   ]
  },
  {
   "cell_type": "code",
   "execution_count": 12,
   "id": "f494e3bb-a7e7-48c8-a2c5-7b9cff7d7ad2",
   "metadata": {},
   "outputs": [
    {
     "data": {
      "text/plain": [
       "array([[  2881,   2881,      0],\n",
       "       [  2881,   3061,      0],\n",
       "       [  2881,   4867,      0],\n",
       "       ...,\n",
       "       [212771, 212765,      0],\n",
       "       [212771, 212769,      0],\n",
       "       [212771, 212771,      0]])"
      ]
     },
     "execution_count": 12,
     "metadata": {},
     "output_type": "execute_result"
    }
   ],
   "source": [
    "edge_index_list_plus02"
   ]
  },
  {
   "cell_type": "code",
   "execution_count": null,
   "id": "3e1e8a96-3c93-44b9-9d98-4cc3b8b29809",
   "metadata": {},
   "outputs": [],
   "source": []
  },
  {
   "cell_type": "code",
   "execution_count": 9,
   "id": "8c54d8b3-c2b5-4131-bd86-647cfab7b6f1",
   "metadata": {},
   "outputs": [],
   "source": [
    "theta = edge_index_list_plus02[:,2].mean()"
   ]
  },
  {
   "cell_type": "code",
   "execution_count": 43,
   "id": "fa6edcf9-4d5a-4cb8-bb51-6eed927817ec",
   "metadata": {},
   "outputs": [],
   "source": [
    "edge_index_list_plus02 = np.load('edge_index_list_plus02.npy').astype(np.float128)"
   ]
  },
  {
   "cell_type": "code",
   "execution_count": 35,
   "id": "1fc445cf-fe2a-44d2-bbdf-48fea5d03734",
   "metadata": {},
   "outputs": [],
   "source": [
    "edge_index_list_plus02[:,2] = (np.exp(-edge_index_list_plus02[:,2]/theta) != 1)*(np.exp(-edge_index_list_plus02[:,2]/theta))"
   ]
  },
  {
   "cell_type": "code",
   "execution_count": 39,
   "id": "3b5169d0-12ad-471b-8129-5eb5be38d340",
   "metadata": {},
   "outputs": [
    {
     "data": {
      "text/plain": [
       "array([[  2881.,   2881.,      0.],\n",
       "       [  2881.,   3061.,      0.],\n",
       "       [  2881.,   4867.,      0.],\n",
       "       ...,\n",
       "       [212771., 212765.,      0.],\n",
       "       [212771., 212769.,      0.],\n",
       "       [212771., 212771.,      0.]])"
      ]
     },
     "execution_count": 39,
     "metadata": {},
     "output_type": "execute_result"
    }
   ],
   "source": [
    "edge_index_list_plus02"
   ]
  },
  {
   "cell_type": "markdown",
   "id": "76804eca-98f0-4233-84a9-a20ff3981054",
   "metadata": {},
   "source": [
    "같은 cc_num별로.. 시간 차이를 계산했어."
   ]
  },
  {
   "cell_type": "code",
   "execution_count": 176,
   "id": "e9011971-100d-45d8-8df5-1f7f46e28980",
   "metadata": {},
   "outputs": [],
   "source": [
    "weight = (np.exp(-edge_index_list_plus02[:,2]/theta) != 1)*(np.exp(-edge_index_list_plus02[:,2]/theta))"
   ]
  },
  {
   "cell_type": "code",
   "execution_count": 180,
   "id": "0db8a395-ba0b-428f-b026-c9bdb1b8dbb9",
   "metadata": {},
   "outputs": [
    {
     "data": {
      "text/plain": [
       "array([0.        , 0.19606128, 0.81291817, ..., 0.9977087 , 0.9999232 ,\n",
       "       0.        ])"
      ]
     },
     "execution_count": 180,
     "metadata": {},
     "output_type": "execute_result"
    }
   ],
   "source": [
    "weight"
   ]
  },
  {
   "cell_type": "code",
   "execution_count": null,
   "id": "c34f1eb9-e396-4ce7-9a56-1821b411ad16",
   "metadata": {},
   "outputs": [],
   "source": []
  },
  {
   "cell_type": "markdown",
   "id": "b6b1303c-83a2-4a6a-9789-19e139e76936",
   "metadata": {},
   "source": [
    "자꾸 아래처럼 하면 3열의 값이 다 0나와가지고;; 이상하게 해봄\n",
    "```python\n",
    "edge_index_list_plus02[:,2] = (np.exp(-edge_index_list_plus02[:,2]/theta) != 1)*(np.exp(-edge_index_list_plus02[:,2]/theta))\n",
    "```"
   ]
  },
  {
   "cell_type": "code",
   "execution_count": 178,
   "id": "741adcc0-a7aa-4a32-8dcd-e347eb9e8ff5",
   "metadata": {},
   "outputs": [],
   "source": [
    "edge_index_list_plus02 = np.column_stack((edge_index_list_plus02, weight))"
   ]
  },
  {
   "cell_type": "code",
   "execution_count": 179,
   "id": "b7331af8-907b-421b-b3af-a619e175eaca",
   "metadata": {},
   "outputs": [
    {
     "data": {
      "text/plain": [
       "array([[2.88100000e+03, 2.88100000e+03, 0.00000000e+00, 0.00000000e+00],\n",
       "       [2.88100000e+03, 3.06100000e+03, 1.90922400e+16, 1.96061280e-01],\n",
       "       [2.88100000e+03, 4.86700000e+03, 2.42706000e+15, 8.12918172e-01],\n",
       "       ...,\n",
       "       [2.12771000e+05, 2.12765000e+05, 2.68800000e+13, 9.97708695e-01],\n",
       "       [2.12771000e+05, 2.12769000e+05, 9.00000000e+11, 9.99923197e-01],\n",
       "       [2.12771000e+05, 2.12771000e+05, 0.00000000e+00, 0.00000000e+00]])"
      ]
     },
     "execution_count": 179,
     "metadata": {},
     "output_type": "execute_result"
    }
   ],
   "source": [
    "edge_index_list_plus02"
   ]
  },
  {
   "cell_type": "code",
   "execution_count": 181,
   "id": "107caf3f-c59c-4e92-93e3-0925a70b2c91",
   "metadata": {},
   "outputs": [],
   "source": [
    "edge_index_list_plus02 = np.delete(edge_index_list_plus02, 2, axis=1)"
   ]
  },
  {
   "cell_type": "code",
   "execution_count": 182,
   "id": "f893a1b6-840f-41ca-9475-8ee2072175ed",
   "metadata": {},
   "outputs": [
    {
     "data": {
      "text/plain": [
       "array([[2.88100000e+03, 2.88100000e+03, 0.00000000e+00],\n",
       "       [2.88100000e+03, 3.06100000e+03, 1.96061280e-01],\n",
       "       [2.88100000e+03, 4.86700000e+03, 8.12918172e-01],\n",
       "       ...,\n",
       "       [2.12771000e+05, 2.12765000e+05, 9.97708695e-01],\n",
       "       [2.12771000e+05, 2.12769000e+05, 9.99923197e-01],\n",
       "       [2.12771000e+05, 2.12771000e+05, 0.00000000e+00]])"
      ]
     },
     "execution_count": 182,
     "metadata": {},
     "output_type": "execute_result"
    }
   ],
   "source": [
    "edge_index_list_plus02"
   ]
  },
  {
   "cell_type": "code",
   "execution_count": 183,
   "id": "419e931b-3a24-4b0d-966c-5a2cce92bf1b",
   "metadata": {},
   "outputs": [
    {
     "data": {
      "text/plain": [
       "(65831594, 3)"
      ]
     },
     "execution_count": 183,
     "metadata": {},
     "output_type": "execute_result"
    }
   ],
   "source": [
    "edge_index_list_plus02.shape"
   ]
  },
  {
   "cell_type": "code",
   "execution_count": 184,
   "id": "1f6ceb29-0aaa-4666-a047-fe81d5f7a061",
   "metadata": {},
   "outputs": [],
   "source": [
    "edge_index_list_updated = edge_index_list_plus02.tolist()"
   ]
  },
  {
   "cell_type": "code",
   "execution_count": 186,
   "id": "0fcfa2f7-c524-41ee-9791-57114d1f329c",
   "metadata": {},
   "outputs": [
    {
     "data": {
      "text/plain": [
       "0.4536043999922591"
      ]
     },
     "execution_count": 186,
     "metadata": {},
     "output_type": "execute_result"
    }
   ],
   "source": [
    "np.array(edge_index_list_updated)[:,2].mean()"
   ]
  },
  {
   "cell_type": "code",
   "execution_count": 187,
   "id": "65c2330b-bfd0-410e-ba00-b2ff4e295d5a",
   "metadata": {},
   "outputs": [],
   "source": [
    "mm = np.array(edge_index_list_updated)[:,2].mean()"
   ]
  },
  {
   "cell_type": "code",
   "execution_count": 188,
   "id": "1f1554ee-fb10-4321-9e31-0442e510d2a7",
   "metadata": {},
   "outputs": [
    {
     "data": {
      "text/plain": [
       "torch.Size([2, 29970380])"
      ]
     },
     "execution_count": 188,
     "metadata": {},
     "output_type": "execute_result"
    }
   ],
   "source": [
    "selected_edges = [(int(row[0]), int(row[1])) for row in edge_index_list_updated if row[2] > mm]\n",
    "edge_index_selected = torch.tensor(selected_edges, dtype=torch.long).t()\n",
    "edge_index_selected.shape"
   ]
  },
  {
   "cell_type": "markdown",
   "id": "5bd7546a-1dd6-4feb-bcf4-bbeccaf59762",
   "metadata": {},
   "source": [
    "## tr/test"
   ]
  },
  {
   "cell_type": "code",
   "execution_count": 26,
   "id": "6ae1ac14-2922-4baf-a363-df4dabadd701",
   "metadata": {},
   "outputs": [],
   "source": [
    "df02_tr,df02_test = sklearn.model_selection.train_test_split(df02, random_state=42)"
   ]
  },
  {
   "cell_type": "code",
   "execution_count": 27,
   "id": "73b0e890-d2ed-440d-84c9-d3d2ea4e4452",
   "metadata": {},
   "outputs": [
    {
     "data": {
      "text/plain": [
       "((160890, 23), (53630, 23))"
      ]
     },
     "execution_count": 27,
     "metadata": {},
     "output_type": "execute_result"
    }
   ],
   "source": [
    "df02_tr.shape, df02_test.shape"
   ]
  },
  {
   "cell_type": "code",
   "execution_count": 28,
   "id": "0d0d801e-a51d-491e-9279-b2b230701dc1",
   "metadata": {},
   "outputs": [],
   "source": [
    "N = len(df02)\n",
    "train_mask = [i in df02_tr.index for i in range(N)]\n",
    "test_mask = [i in df02_test.index for i in range(N)]"
   ]
  },
  {
   "cell_type": "code",
   "execution_count": 29,
   "id": "e3038bed-06f9-4275-ac32-0f7d3d206b6c",
   "metadata": {},
   "outputs": [],
   "source": [
    "train_mask = np.array(train_mask)\n",
    "test_mask = np.array(test_mask)"
   ]
  },
  {
   "cell_type": "code",
   "execution_count": 31,
   "id": "6065f9af-e340-451c-bc1a-46a009990c8a",
   "metadata": {},
   "outputs": [
    {
     "data": {
      "text/plain": [
       "((214520,), (214520,))"
      ]
     },
     "execution_count": 31,
     "metadata": {},
     "output_type": "execute_result"
    }
   ],
   "source": [
    "train_mask.shape, test_mask.shape"
   ]
  },
  {
   "cell_type": "markdown",
   "id": "f984c0a6-8097-423b-8ff9-266639425fe1",
   "metadata": {},
   "source": [
    "## data"
   ]
  },
  {
   "cell_type": "code",
   "execution_count": 192,
   "id": "fba9ec7b-afe1-458c-b4a5-4ee43df73d63",
   "metadata": {},
   "outputs": [],
   "source": [
    "x = torch.tensor(df02['amt'], dtype=torch.float).reshape(-1,1)\n",
    "y = torch.tensor(df02['is_fraud'],dtype=torch.int64)\n",
    "data = torch_geometric.data.Data(x=x, edge_index = edge_index_selected, y=y, train_mask = train_mask, test_mask = test_mask)"
   ]
  },
  {
   "cell_type": "code",
   "execution_count": 193,
   "id": "6d134125-c04c-40aa-a1d9-15f07aaafb72",
   "metadata": {},
   "outputs": [
    {
     "data": {
      "text/plain": [
       "Data(x=[214520, 1], edge_index=[2, 29970380], y=[214520], train_mask=[214520], test_mask=[214520])"
      ]
     },
     "execution_count": 193,
     "metadata": {},
     "output_type": "execute_result"
    }
   ],
   "source": [
    "data"
   ]
  },
  {
   "cell_type": "code",
   "execution_count": 194,
   "id": "212ead65-fba8-45c2-af52-081b163f2dce",
   "metadata": {},
   "outputs": [],
   "source": [
    "\n",
    "class GCN(torch.nn.Module):\n",
    "    def __init__(self):\n",
    "        super().__init__()\n",
    "        self.conv1 = GCNConv(1, 16)\n",
    "        self.conv2 = GCNConv(16,2)\n",
    "\n",
    "    def forward(self, data):\n",
    "        x, edge_index = data.x, data.edge_index\n",
    "\n",
    "        x = self.conv1(x, edge_index)\n",
    "        x = F.relu(x)\n",
    "        x = F.dropout(x, training=self.training)\n",
    "        x = self.conv2(x, edge_index)\n",
    "\n",
    "        return F.log_softmax(x, dim=1)"
   ]
  },
  {
   "cell_type": "code",
   "execution_count": 195,
   "id": "6f385c77-6434-4517-8409-a3c886dabd35",
   "metadata": {},
   "outputs": [],
   "source": [
    "model = GCN()\n",
    "optimizer = torch.optim.Adam(model.parameters(), lr=0.01, weight_decay=5e-4)\n",
    "model.train()\n",
    "for epoch in range(400):\n",
    "    optimizer.zero_grad()\n",
    "    out = model(data)\n",
    "    loss = F.nll_loss(out[data.train_mask], data.y[data.train_mask])\n",
    "    loss.backward()\n",
    "    optimizer.step()"
   ]
  },
  {
   "cell_type": "code",
   "execution_count": 220,
   "id": "cffa11f4-4b7b-4ba9-bc95-e27b2e511c59",
   "metadata": {},
   "outputs": [
    {
     "name": "stdout",
     "output_type": "stream",
     "text": [
      "Accuracy: 0.9707\n"
     ]
    }
   ],
   "source": [
    "model.eval()\n",
    "pred = model(data).argmax(dim=1)\n",
    "correct = (pred[data.test_mask] == data.y[data.test_mask]).sum()\n",
    "acc = int(correct) / int(np.array(data.test_mask).sum())\n",
    "print(f'Accuracy: {acc:.4f}')"
   ]
  },
  {
   "cell_type": "code",
   "execution_count": null,
   "id": "a954cadc-9a7c-4a51-8d39-c2f98acf1db8",
   "metadata": {},
   "outputs": [],
   "source": []
  },
  {
   "cell_type": "code",
   "execution_count": 209,
   "id": "958f6175-248f-48cd-8442-7ff7ec349632",
   "metadata": {},
   "outputs": [],
   "source": [
    "predicted_labels = pred[data.test_mask]\n",
    "true_labels = data.y[data.test_mask]"
   ]
  },
  {
   "cell_type": "code",
   "execution_count": 210,
   "id": "e644cb0e-ded5-49a0-b822-05ce07352ed1",
   "metadata": {},
   "outputs": [
    {
     "name": "stdout",
     "output_type": "stream",
     "text": [
      "Precision: 0.4854\n",
      "Recall: 0.5000\n",
      "F1 Score: 0.4926\n"
     ]
    },
    {
     "name": "stderr",
     "output_type": "stream",
     "text": [
      "/home/coco/anaconda3/envs/py38/lib/python3.8/site-packages/sklearn/metrics/_classification.py:1344: UndefinedMetricWarning: Precision is ill-defined and being set to 0.0 in labels with no predicted samples. Use `zero_division` parameter to control this behavior.\n",
      "  _warn_prf(average, modifier, msg_start, len(result))\n"
     ]
    }
   ],
   "source": [
    "precision = precision_score(true_labels, predicted_labels, average='macro')\n",
    "recall = recall_score(true_labels, predicted_labels, average='macro')\n",
    "f1 = f1_score(true_labels, predicted_labels, average='macro')\n",
    "print(f'Precision: {precision:.4f}')\n",
    "print(f'Recall: {recall:.4f}')\n",
    "print(f'F1 Score: {f1:.4f}')"
   ]
  },
  {
   "cell_type": "code",
   "execution_count": null,
   "id": "b603072b-5f74-434b-8d61-eccf6fd57790",
   "metadata": {},
   "outputs": [],
   "source": []
  }
 ],
 "metadata": {
  "kernelspec": {
   "display_name": "Python 3 (ipykernel)",
   "language": "python",
   "name": "python3"
  },
  "language_info": {
   "codemirror_mode": {
    "name": "ipython",
    "version": 3
   },
   "file_extension": ".py",
   "mimetype": "text/x-python",
   "name": "python",
   "nbconvert_exporter": "python",
   "pygments_lexer": "ipython3",
   "version": "3.8.16"
  }
 },
 "nbformat": 4,
 "nbformat_minor": 5
}
