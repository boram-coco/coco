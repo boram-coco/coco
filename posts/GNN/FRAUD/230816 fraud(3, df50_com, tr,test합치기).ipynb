{
 "cells": [
  {
   "cell_type": "raw",
   "id": "7fa01b77-3570-41d4-b54b-97a69097fd8c",
   "metadata": {},
   "source": [
    "---\n",
    "title: \"[FRAUD] 데이터 정리 시도(8.18-망함 df50을 tr/test로 분리했다가 다시 합쳐봄..)\"\n",
    "author: \"김보람\"\n",
    "date: \"08/18/2023\"\n",
    "---"
   ]
  },
  {
   "cell_type": "markdown",
   "id": "b7967e3d-e46f-4991-af0e-571b295e239a",
   "metadata": {},
   "source": [
    "# imports"
   ]
  },
  {
   "cell_type": "code",
   "execution_count": 76,
   "id": "c36d6b17-9b4c-4aea-b111-133e1afce57e",
   "metadata": {},
   "outputs": [],
   "source": [
    "import numpy as np\n",
    "import pandas as pd\n",
    "import matplotlib.pyplot as plt \n",
    "import networkx as nx\n",
    "import sklearn\n",
    "import torch\n",
    "\n",
    "# sklearn\n",
    "from sklearn import model_selection # split함수이용\n",
    "from sklearn import ensemble # RF,GBM\n",
    "from sklearn import metrics \n",
    "\n",
    "# embedding \n",
    "from node2vec import Node2Vec\n",
    "from node2vec.edges import HadamardEmbedder, AverageEmbedder, WeightedL1Embedder, WeightedL2Embedder"
   ]
  },
  {
   "cell_type": "code",
   "execution_count": 77,
   "id": "2774d96b-b24a-492b-a587-2815ff6e3ead",
   "metadata": {},
   "outputs": [],
   "source": [
    "def build_graph_bipartite(df_input, graph_type=nx.Graph()):\n",
    "    df=df_input.copy()\n",
    "    mapping={x:node_id for node_id, x in enumerate(set(df[\"cc_num\"].values.tolist()+\\\n",
    "                                                      df[\"merchant\"].values.tolist()))}\n",
    "    \n",
    "    df[\"from\"]=df[\"cc_num\"].apply(lambda x:mapping[x])  #엣지의 출발점\n",
    "    df[\"to\"]=df[\"merchant\"].apply(lambda x:mapping[x])  #엣지의 도착점\n",
    "    \n",
    "    df = df[['from', 'to', \"amt\", \"is_fraud\"]].groupby(['from','to']).agg({\"is_fraud\":\"sum\",\"amt\":\"sum\"}).reset_index()\n",
    "    df[\"is_fraud\"]=df[\"is_fraud\"].apply(lambda x:1 if x>0 else 0)\n",
    "    \n",
    "    G=nx.from_edgelist(df[[\"from\",\"to\"]].values, create_using=graph_type)\n",
    "    \n",
    "    nx.set_edge_attributes(G,{(int(x[\"from\"]),int(x[\"to\"])):x[\"is_fraud\"] for idx, x in df[[\"from\",\"to\",\"is_fraud\"]].iterrows()}, \"label\")  #엣지 속성 설정,각 속성의 사기 여부부     \n",
    "    nx.set_edge_attributes(G,{(int(x[\"from\"]),int(x[\"to\"])):x[\"amt\"] for idx,x in df[[\"from\",\"to\",\"amt\"]].iterrows()}, \"weight\") # 엣지 속성 설정, 각 엣지의 거래 금액\n",
    "\n",
    "    return G\n",
    "\n",
    "\n",
    "def build_graph_tripartite(df_input, graph_type=nx.Graph()):\n",
    "    df=df_input.copy()\n",
    "    mapping={x:node_id for node_id, x in enumerate(set(df.index.values.tolist() + \n",
    "                                                       df[\"cc_num\"].values.tolist() +\n",
    "                                                       df[\"merchant\"].values.tolist()))}\n",
    "    df[\"in_node\"]= df[\"cc_num\"].apply(lambda x: mapping[x])\n",
    "    df[\"out_node\"]=df[\"merchant\"].apply(lambda x:mapping[x])\n",
    "    \n",
    "        \n",
    "    G=nx.from_edgelist([(x[\"in_node\"], mapping[idx]) for idx, x in df.iterrows()] +\\\n",
    "                        [(x[\"out_node\"], mapping[idx]) for idx, x in df.iterrows()], create_using=graph_type)\n",
    "    \n",
    "    nx.set_edge_attributes(G,{(x[\"in_node\"], mapping[idx]):x[\"is_fraud\"] for idx, x in df.iterrows()}, \"label\")     \n",
    "    nx.set_edge_attributes(G,{(x[\"out_node\"], mapping[idx]):x[\"is_fraud\"] for idx, x in df.iterrows()}, \"label\")   \n",
    "    nx.set_edge_attributes(G,{(x[\"in_node\"], mapping[idx]):x[\"amt\"] for idx, x in df.iterrows()}, \"weight\")  \n",
    "    nx.set_edge_attributes(G,{(x[\"out_node\"], mapping[idx]):x[\"amt\"] for idx, x in df.iterrows()}, \"weight\")\n",
    "\n",
    "    return G\n",
    "    \n",
    "    \n",
    "def down_sample_textbook(df):\n",
    "    df_majority = df[df.is_fraud==0].copy()\n",
    "    df_minority = df[df.is_fraud==1].copy()\n",
    "    df_maj_dowsampled = sklearn.utils.resample(df_majority, n_samples=len(df_minority), replace=False, random_state=42)\n",
    "    df_downsampled = pd.concat([df_minority, df_maj_dowsampled])\n",
    "    return df_downsampled\n",
    "\n",
    "def embedding(Graph):\n",
    "    # Graph -> X (feature)\n",
    "    _edgs = list(Graph.edges)\n",
    "    subGraph = Graph.edge_subgraph([_edgs[x] for x in range(len(Graph.edges))]).copy()\n",
    "    subGraph.add_nodes_from(list(set(Graph.nodes) - set(subGraph.nodes)))    \n",
    "    embedded = AverageEmbedder(Node2Vec(subGraph, weight_key='weight').fit(window=10).wv)\n",
    "    X = [embedded[str(_edgs[x][0]), str(_edgs[x][1])] for x in range(len(Graph.edges))]\n",
    "    # Graph -> y (label)\n",
    "    y = np.array(list(nx.get_edge_attributes(Graph, \"label\").values()))\n",
    "    return X,y \n",
    "\n",
    "def anal(df):\n",
    "    Graph = build_graph_bipartite(df)\n",
    "    X,XX,y,yy = embedding(Graph)\n",
    "    lrnr = RandomForestClassifier(n_estimators=100, random_state=42) \n",
    "    lrnr.fit(X,y)\n",
    "    yyhat = lrnr.predict(XX)\n",
    "    df = pd.DataFrame({\n",
    "        'acc':[sklearn.metrics.accuracy_score(yy,yyhat)], \n",
    "        'pre':[sklearn.metrics.precision_score(yy,yyhat)], \n",
    "        'rec':[sklearn.metrics.recall_score(yy,yyhat)],\n",
    "        'f1':[sklearn.metrics.f1_score(yy,yyhat)]}\n",
    "    )    \n",
    "    return df\n",
    "\n",
    "def our_sampling1(df):\n",
    "    cus_list = set(df.query('is_fraud==1').cc_num.tolist())\n",
    "    return df.query(\"cc_num in @ cus_list\")"
   ]
  },
  {
   "cell_type": "code",
   "execution_count": 78,
   "id": "7021dc07-8a06-417b-9fb6-c71b2f05e5eb",
   "metadata": {},
   "outputs": [],
   "source": [
    "fraudTrain = pd.read_csv(\"~/Desktop/fraudTrain.csv\").iloc[:,1:]"
   ]
  },
  {
   "cell_type": "code",
   "execution_count": 79,
   "id": "eb7a9b2b-f984-4bb0-b14b-e523a00d8d38",
   "metadata": {},
   "outputs": [
    {
     "data": {
      "text/html": [
       "<div>\n",
       "<style scoped>\n",
       "    .dataframe tbody tr th:only-of-type {\n",
       "        vertical-align: middle;\n",
       "    }\n",
       "\n",
       "    .dataframe tbody tr th {\n",
       "        vertical-align: top;\n",
       "    }\n",
       "\n",
       "    .dataframe thead th {\n",
       "        text-align: right;\n",
       "    }\n",
       "</style>\n",
       "<table border=\"1\" class=\"dataframe\">\n",
       "  <thead>\n",
       "    <tr style=\"text-align: right;\">\n",
       "      <th></th>\n",
       "      <th>trans_date_trans_time</th>\n",
       "      <th>cc_num</th>\n",
       "      <th>merchant</th>\n",
       "      <th>category</th>\n",
       "      <th>amt</th>\n",
       "      <th>first</th>\n",
       "      <th>last</th>\n",
       "      <th>gender</th>\n",
       "      <th>street</th>\n",
       "      <th>city</th>\n",
       "      <th>...</th>\n",
       "      <th>lat</th>\n",
       "      <th>long</th>\n",
       "      <th>city_pop</th>\n",
       "      <th>job</th>\n",
       "      <th>dob</th>\n",
       "      <th>trans_num</th>\n",
       "      <th>unix_time</th>\n",
       "      <th>merch_lat</th>\n",
       "      <th>merch_long</th>\n",
       "      <th>is_fraud</th>\n",
       "    </tr>\n",
       "  </thead>\n",
       "  <tbody>\n",
       "    <tr>\n",
       "      <th>0</th>\n",
       "      <td>2019-01-01 00:00:00</td>\n",
       "      <td>2.703190e+15</td>\n",
       "      <td>fraud_Rippin, Kub and Mann</td>\n",
       "      <td>misc_net</td>\n",
       "      <td>4.97</td>\n",
       "      <td>Jennifer</td>\n",
       "      <td>Banks</td>\n",
       "      <td>F</td>\n",
       "      <td>561 Perry Cove</td>\n",
       "      <td>Moravian Falls</td>\n",
       "      <td>...</td>\n",
       "      <td>36.0788</td>\n",
       "      <td>-81.1781</td>\n",
       "      <td>3495</td>\n",
       "      <td>Psychologist, counselling</td>\n",
       "      <td>1988-03-09</td>\n",
       "      <td>0b242abb623afc578575680df30655b9</td>\n",
       "      <td>1325376018</td>\n",
       "      <td>36.011293</td>\n",
       "      <td>-82.048315</td>\n",
       "      <td>0</td>\n",
       "    </tr>\n",
       "    <tr>\n",
       "      <th>1</th>\n",
       "      <td>2019-01-01 00:00:00</td>\n",
       "      <td>6.304230e+11</td>\n",
       "      <td>fraud_Heller, Gutmann and Zieme</td>\n",
       "      <td>grocery_pos</td>\n",
       "      <td>107.23</td>\n",
       "      <td>Stephanie</td>\n",
       "      <td>Gill</td>\n",
       "      <td>F</td>\n",
       "      <td>43039 Riley Greens Suite 393</td>\n",
       "      <td>Orient</td>\n",
       "      <td>...</td>\n",
       "      <td>48.8878</td>\n",
       "      <td>-118.2105</td>\n",
       "      <td>149</td>\n",
       "      <td>Special educational needs teacher</td>\n",
       "      <td>1978-06-21</td>\n",
       "      <td>1f76529f8574734946361c461b024d99</td>\n",
       "      <td>1325376044</td>\n",
       "      <td>49.159047</td>\n",
       "      <td>-118.186462</td>\n",
       "      <td>0</td>\n",
       "    </tr>\n",
       "    <tr>\n",
       "      <th>2</th>\n",
       "      <td>2019-01-01 00:00:00</td>\n",
       "      <td>3.885950e+13</td>\n",
       "      <td>fraud_Lind-Buckridge</td>\n",
       "      <td>entertainment</td>\n",
       "      <td>220.11</td>\n",
       "      <td>Edward</td>\n",
       "      <td>Sanchez</td>\n",
       "      <td>M</td>\n",
       "      <td>594 White Dale Suite 530</td>\n",
       "      <td>Malad City</td>\n",
       "      <td>...</td>\n",
       "      <td>42.1808</td>\n",
       "      <td>-112.2620</td>\n",
       "      <td>4154</td>\n",
       "      <td>Nature conservation officer</td>\n",
       "      <td>1962-01-19</td>\n",
       "      <td>a1a22d70485983eac12b5b88dad1cf95</td>\n",
       "      <td>1325376051</td>\n",
       "      <td>43.150704</td>\n",
       "      <td>-112.154481</td>\n",
       "      <td>0</td>\n",
       "    </tr>\n",
       "    <tr>\n",
       "      <th>3</th>\n",
       "      <td>2019-01-01 00:01:00</td>\n",
       "      <td>3.534090e+15</td>\n",
       "      <td>fraud_Kutch, Hermiston and Farrell</td>\n",
       "      <td>gas_transport</td>\n",
       "      <td>45.00</td>\n",
       "      <td>Jeremy</td>\n",
       "      <td>White</td>\n",
       "      <td>M</td>\n",
       "      <td>9443 Cynthia Court Apt. 038</td>\n",
       "      <td>Boulder</td>\n",
       "      <td>...</td>\n",
       "      <td>46.2306</td>\n",
       "      <td>-112.1138</td>\n",
       "      <td>1939</td>\n",
       "      <td>Patent attorney</td>\n",
       "      <td>1967-01-12</td>\n",
       "      <td>6b849c168bdad6f867558c3793159a81</td>\n",
       "      <td>1325376076</td>\n",
       "      <td>47.034331</td>\n",
       "      <td>-112.561071</td>\n",
       "      <td>0</td>\n",
       "    </tr>\n",
       "    <tr>\n",
       "      <th>4</th>\n",
       "      <td>2019-01-01 00:03:00</td>\n",
       "      <td>3.755340e+14</td>\n",
       "      <td>fraud_Keeling-Crist</td>\n",
       "      <td>misc_pos</td>\n",
       "      <td>41.96</td>\n",
       "      <td>Tyler</td>\n",
       "      <td>Garcia</td>\n",
       "      <td>M</td>\n",
       "      <td>408 Bradley Rest</td>\n",
       "      <td>Doe Hill</td>\n",
       "      <td>...</td>\n",
       "      <td>38.4207</td>\n",
       "      <td>-79.4629</td>\n",
       "      <td>99</td>\n",
       "      <td>Dance movement psychotherapist</td>\n",
       "      <td>1986-03-28</td>\n",
       "      <td>a41d7549acf90789359a9aa5346dcb46</td>\n",
       "      <td>1325376186</td>\n",
       "      <td>38.674999</td>\n",
       "      <td>-78.632459</td>\n",
       "      <td>0</td>\n",
       "    </tr>\n",
       "    <tr>\n",
       "      <th>...</th>\n",
       "      <td>...</td>\n",
       "      <td>...</td>\n",
       "      <td>...</td>\n",
       "      <td>...</td>\n",
       "      <td>...</td>\n",
       "      <td>...</td>\n",
       "      <td>...</td>\n",
       "      <td>...</td>\n",
       "      <td>...</td>\n",
       "      <td>...</td>\n",
       "      <td>...</td>\n",
       "      <td>...</td>\n",
       "      <td>...</td>\n",
       "      <td>...</td>\n",
       "      <td>...</td>\n",
       "      <td>...</td>\n",
       "      <td>...</td>\n",
       "      <td>...</td>\n",
       "      <td>...</td>\n",
       "      <td>...</td>\n",
       "      <td>...</td>\n",
       "    </tr>\n",
       "    <tr>\n",
       "      <th>1048570</th>\n",
       "      <td>2020-03-10 16:07:00</td>\n",
       "      <td>6.011980e+15</td>\n",
       "      <td>fraud_Fadel Inc</td>\n",
       "      <td>health_fitness</td>\n",
       "      <td>77.00</td>\n",
       "      <td>Haley</td>\n",
       "      <td>Wagner</td>\n",
       "      <td>F</td>\n",
       "      <td>05561 Farrell Crescent</td>\n",
       "      <td>Annapolis</td>\n",
       "      <td>...</td>\n",
       "      <td>39.0305</td>\n",
       "      <td>-76.5515</td>\n",
       "      <td>92106</td>\n",
       "      <td>Accountant, chartered certified</td>\n",
       "      <td>1943-05-28</td>\n",
       "      <td>45ecd198c65e81e597db22e8d2ef7361</td>\n",
       "      <td>1362931649</td>\n",
       "      <td>38.779464</td>\n",
       "      <td>-76.317042</td>\n",
       "      <td>0</td>\n",
       "    </tr>\n",
       "    <tr>\n",
       "      <th>1048571</th>\n",
       "      <td>2020-03-10 16:07:00</td>\n",
       "      <td>4.839040e+15</td>\n",
       "      <td>fraud_Cremin, Hamill and Reichel</td>\n",
       "      <td>misc_pos</td>\n",
       "      <td>116.94</td>\n",
       "      <td>Meredith</td>\n",
       "      <td>Campbell</td>\n",
       "      <td>F</td>\n",
       "      <td>043 Hanson Turnpike</td>\n",
       "      <td>Hedrick</td>\n",
       "      <td>...</td>\n",
       "      <td>41.1826</td>\n",
       "      <td>-92.3097</td>\n",
       "      <td>1583</td>\n",
       "      <td>Geochemist</td>\n",
       "      <td>1999-06-28</td>\n",
       "      <td>c00ce51c6ebb7657474a77b9e0b51f34</td>\n",
       "      <td>1362931670</td>\n",
       "      <td>41.400318</td>\n",
       "      <td>-92.726724</td>\n",
       "      <td>0</td>\n",
       "    </tr>\n",
       "    <tr>\n",
       "      <th>1048572</th>\n",
       "      <td>2020-03-10 16:08:00</td>\n",
       "      <td>5.718440e+11</td>\n",
       "      <td>fraud_O'Connell, Botsford and Hand</td>\n",
       "      <td>home</td>\n",
       "      <td>21.27</td>\n",
       "      <td>Susan</td>\n",
       "      <td>Mills</td>\n",
       "      <td>F</td>\n",
       "      <td>005 Cody Estates</td>\n",
       "      <td>Louisville</td>\n",
       "      <td>...</td>\n",
       "      <td>38.2507</td>\n",
       "      <td>-85.7476</td>\n",
       "      <td>736284</td>\n",
       "      <td>Engineering geologist</td>\n",
       "      <td>1952-04-02</td>\n",
       "      <td>17c9dc8b2a6449ca2473726346e58e6c</td>\n",
       "      <td>1362931711</td>\n",
       "      <td>37.293339</td>\n",
       "      <td>-84.798122</td>\n",
       "      <td>0</td>\n",
       "    </tr>\n",
       "    <tr>\n",
       "      <th>1048573</th>\n",
       "      <td>2020-03-10 16:08:00</td>\n",
       "      <td>4.646850e+18</td>\n",
       "      <td>fraud_Thompson-Gleason</td>\n",
       "      <td>health_fitness</td>\n",
       "      <td>9.52</td>\n",
       "      <td>Julia</td>\n",
       "      <td>Bell</td>\n",
       "      <td>F</td>\n",
       "      <td>576 House Crossroad</td>\n",
       "      <td>West Sayville</td>\n",
       "      <td>...</td>\n",
       "      <td>40.7320</td>\n",
       "      <td>-73.1000</td>\n",
       "      <td>4056</td>\n",
       "      <td>Film/video editor</td>\n",
       "      <td>1990-06-25</td>\n",
       "      <td>5ca650881b48a6a38754f841c23b77ab</td>\n",
       "      <td>1362931718</td>\n",
       "      <td>39.773077</td>\n",
       "      <td>-72.213209</td>\n",
       "      <td>0</td>\n",
       "    </tr>\n",
       "    <tr>\n",
       "      <th>1048574</th>\n",
       "      <td>2020-03-10 16:08:00</td>\n",
       "      <td>2.283740e+15</td>\n",
       "      <td>fraud_Buckridge PLC</td>\n",
       "      <td>misc_pos</td>\n",
       "      <td>6.81</td>\n",
       "      <td>Shannon</td>\n",
       "      <td>Williams</td>\n",
       "      <td>F</td>\n",
       "      <td>9345 Spencer Junctions Suite 183</td>\n",
       "      <td>Alpharetta</td>\n",
       "      <td>...</td>\n",
       "      <td>34.0770</td>\n",
       "      <td>-84.3033</td>\n",
       "      <td>165556</td>\n",
       "      <td>Prison officer</td>\n",
       "      <td>1997-12-27</td>\n",
       "      <td>8d0a575fe635bbde12f1a2bffc126731</td>\n",
       "      <td>1362931730</td>\n",
       "      <td>33.601468</td>\n",
       "      <td>-83.891921</td>\n",
       "      <td>0</td>\n",
       "    </tr>\n",
       "  </tbody>\n",
       "</table>\n",
       "<p>1048575 rows × 22 columns</p>\n",
       "</div>"
      ],
      "text/plain": [
       "        trans_date_trans_time        cc_num  \\\n",
       "0         2019-01-01 00:00:00  2.703190e+15   \n",
       "1         2019-01-01 00:00:00  6.304230e+11   \n",
       "2         2019-01-01 00:00:00  3.885950e+13   \n",
       "3         2019-01-01 00:01:00  3.534090e+15   \n",
       "4         2019-01-01 00:03:00  3.755340e+14   \n",
       "...                       ...           ...   \n",
       "1048570   2020-03-10 16:07:00  6.011980e+15   \n",
       "1048571   2020-03-10 16:07:00  4.839040e+15   \n",
       "1048572   2020-03-10 16:08:00  5.718440e+11   \n",
       "1048573   2020-03-10 16:08:00  4.646850e+18   \n",
       "1048574   2020-03-10 16:08:00  2.283740e+15   \n",
       "\n",
       "                                   merchant        category     amt  \\\n",
       "0                fraud_Rippin, Kub and Mann        misc_net    4.97   \n",
       "1           fraud_Heller, Gutmann and Zieme     grocery_pos  107.23   \n",
       "2                      fraud_Lind-Buckridge   entertainment  220.11   \n",
       "3        fraud_Kutch, Hermiston and Farrell   gas_transport   45.00   \n",
       "4                       fraud_Keeling-Crist        misc_pos   41.96   \n",
       "...                                     ...             ...     ...   \n",
       "1048570                     fraud_Fadel Inc  health_fitness   77.00   \n",
       "1048571    fraud_Cremin, Hamill and Reichel        misc_pos  116.94   \n",
       "1048572  fraud_O'Connell, Botsford and Hand            home   21.27   \n",
       "1048573              fraud_Thompson-Gleason  health_fitness    9.52   \n",
       "1048574                 fraud_Buckridge PLC        misc_pos    6.81   \n",
       "\n",
       "             first      last gender                            street  \\\n",
       "0         Jennifer     Banks      F                    561 Perry Cove   \n",
       "1        Stephanie      Gill      F      43039 Riley Greens Suite 393   \n",
       "2           Edward   Sanchez      M          594 White Dale Suite 530   \n",
       "3           Jeremy     White      M       9443 Cynthia Court Apt. 038   \n",
       "4            Tyler    Garcia      M                  408 Bradley Rest   \n",
       "...            ...       ...    ...                               ...   \n",
       "1048570      Haley    Wagner      F            05561 Farrell Crescent   \n",
       "1048571   Meredith  Campbell      F               043 Hanson Turnpike   \n",
       "1048572      Susan     Mills      F                  005 Cody Estates   \n",
       "1048573      Julia      Bell      F               576 House Crossroad   \n",
       "1048574    Shannon  Williams      F  9345 Spencer Junctions Suite 183   \n",
       "\n",
       "                   city  ...      lat      long  city_pop  \\\n",
       "0        Moravian Falls  ...  36.0788  -81.1781      3495   \n",
       "1                Orient  ...  48.8878 -118.2105       149   \n",
       "2            Malad City  ...  42.1808 -112.2620      4154   \n",
       "3               Boulder  ...  46.2306 -112.1138      1939   \n",
       "4              Doe Hill  ...  38.4207  -79.4629        99   \n",
       "...                 ...  ...      ...       ...       ...   \n",
       "1048570       Annapolis  ...  39.0305  -76.5515     92106   \n",
       "1048571         Hedrick  ...  41.1826  -92.3097      1583   \n",
       "1048572      Louisville  ...  38.2507  -85.7476    736284   \n",
       "1048573   West Sayville  ...  40.7320  -73.1000      4056   \n",
       "1048574      Alpharetta  ...  34.0770  -84.3033    165556   \n",
       "\n",
       "                                       job         dob  \\\n",
       "0                Psychologist, counselling  1988-03-09   \n",
       "1        Special educational needs teacher  1978-06-21   \n",
       "2              Nature conservation officer  1962-01-19   \n",
       "3                          Patent attorney  1967-01-12   \n",
       "4           Dance movement psychotherapist  1986-03-28   \n",
       "...                                    ...         ...   \n",
       "1048570    Accountant, chartered certified  1943-05-28   \n",
       "1048571                         Geochemist  1999-06-28   \n",
       "1048572              Engineering geologist  1952-04-02   \n",
       "1048573                  Film/video editor  1990-06-25   \n",
       "1048574                     Prison officer  1997-12-27   \n",
       "\n",
       "                                trans_num   unix_time  merch_lat  merch_long  \\\n",
       "0        0b242abb623afc578575680df30655b9  1325376018  36.011293  -82.048315   \n",
       "1        1f76529f8574734946361c461b024d99  1325376044  49.159047 -118.186462   \n",
       "2        a1a22d70485983eac12b5b88dad1cf95  1325376051  43.150704 -112.154481   \n",
       "3        6b849c168bdad6f867558c3793159a81  1325376076  47.034331 -112.561071   \n",
       "4        a41d7549acf90789359a9aa5346dcb46  1325376186  38.674999  -78.632459   \n",
       "...                                   ...         ...        ...         ...   \n",
       "1048570  45ecd198c65e81e597db22e8d2ef7361  1362931649  38.779464  -76.317042   \n",
       "1048571  c00ce51c6ebb7657474a77b9e0b51f34  1362931670  41.400318  -92.726724   \n",
       "1048572  17c9dc8b2a6449ca2473726346e58e6c  1362931711  37.293339  -84.798122   \n",
       "1048573  5ca650881b48a6a38754f841c23b77ab  1362931718  39.773077  -72.213209   \n",
       "1048574  8d0a575fe635bbde12f1a2bffc126731  1362931730  33.601468  -83.891921   \n",
       "\n",
       "         is_fraud  \n",
       "0               0  \n",
       "1               0  \n",
       "2               0  \n",
       "3               0  \n",
       "4               0  \n",
       "...           ...  \n",
       "1048570         0  \n",
       "1048571         0  \n",
       "1048572         0  \n",
       "1048573         0  \n",
       "1048574         0  \n",
       "\n",
       "[1048575 rows x 22 columns]"
      ]
     },
     "execution_count": 79,
     "metadata": {},
     "output_type": "execute_result"
    }
   ],
   "source": [
    "fraudTrain = fraudTrain.assign(trans_date_trans_time= list(map(lambda x: pd.to_datetime(x), fraudTrain.trans_date_trans_time)))\n",
    "fraudTrain"
   ]
  },
  {
   "cell_type": "markdown",
   "id": "646be7a4-ac5c-4348-86c1-3beb0ed6d988",
   "metadata": {},
   "source": [
    "## 시도"
   ]
  },
  {
   "cell_type": "code",
   "execution_count": 80,
   "id": "adec4c87-7a49-41dd-ba04-879643113486",
   "metadata": {},
   "outputs": [
    {
     "data": {
      "text/plain": [
       "(214520, 22)"
      ]
     },
     "execution_count": 80,
     "metadata": {},
     "output_type": "execute_result"
    }
   ],
   "source": [
    "_df1 = fraudTrain[fraudTrain[\"is_fraud\"] == 0].sample(frac=0.20, random_state=42)\n",
    "_df2 = fraudTrain[fraudTrain[\"is_fraud\"] == 1]\n",
    "df02 = pd.concat([_df1,_df2])\n",
    "df02.shape"
   ]
  },
  {
   "cell_type": "code",
   "execution_count": 81,
   "id": "b1eab03c-9ee2-45e1-95a5-923642e8ce6f",
   "metadata": {},
   "outputs": [
    {
     "data": {
      "text/plain": [
       "(12012, 22)"
      ]
     },
     "execution_count": 81,
     "metadata": {},
     "output_type": "execute_result"
    }
   ],
   "source": [
    "df50 = down_sample_textbook(df02)\n",
    "df50.shape"
   ]
  },
  {
   "cell_type": "code",
   "execution_count": 82,
   "id": "0d8983c1-b6c2-4331-9adf-14d799fb8460",
   "metadata": {},
   "outputs": [
    {
     "data": {
      "text/plain": [
       "144288144"
      ]
     },
     "execution_count": 82,
     "metadata": {},
     "output_type": "execute_result"
    }
   ],
   "source": [
    "12012*12012"
   ]
  },
  {
   "cell_type": "markdown",
   "id": "f52e03a6-27b3-44ab-aabd-60def530be39",
   "metadata": {},
   "source": [
    "### 고려할 것(230810)"
   ]
  },
  {
   "cell_type": "markdown",
   "id": "c38c4444-7e97-4350-9d19-03e8af315043",
   "metadata": {},
   "source": [
    "- df50 의 shape이 12000개 이므로 9000개의 T, 3000개의 F를 train mask로 만들자.\n",
    "\n",
    "- 고객정보가 동일하면 edge를 1로, 아니면 0으로 놓고 1에대한 weight를 만들자.\n",
    "\n",
    "- g(V,E,W)에서의 weight"
   ]
  },
  {
   "cell_type": "code",
   "execution_count": 83,
   "id": "4f3c12b1-433f-41ac-85c0-c42ae389ba60",
   "metadata": {},
   "outputs": [],
   "source": [
    "df50 = df50.reset_index()"
   ]
  },
  {
   "cell_type": "code",
   "execution_count": 84,
   "id": "7cef7094-bd9b-43d1-a1c9-d4b1c9b4241c",
   "metadata": {},
   "outputs": [],
   "source": [
    "N = len(df50)"
   ]
  },
  {
   "cell_type": "markdown",
   "id": "9eafa728-410f-4193-9c7d-be5f8ed7fa24",
   "metadata": {},
   "source": [
    "-------------------"
   ]
  },
  {
   "cell_type": "markdown",
   "id": "6e09a665-3f15-4e43-a2d7-843deb04db4e",
   "metadata": {},
   "source": [
    "### tr/test"
   ]
  },
  {
   "cell_type": "code",
   "execution_count": 11,
   "id": "1746ec92-50c0-402d-8297-92cb67c718d5",
   "metadata": {},
   "outputs": [],
   "source": [
    "df50_tr,df50_test = sklearn.model_selection.train_test_split(df50, random_state=42)"
   ]
  },
  {
   "cell_type": "code",
   "execution_count": 12,
   "id": "390c18d0-045c-4473-b1b2-3c8314cbdfbc",
   "metadata": {},
   "outputs": [
    {
     "data": {
      "text/plain": [
       "(0.49828, 0.50516)"
      ]
     },
     "execution_count": 12,
     "metadata": {},
     "output_type": "execute_result"
    }
   ],
   "source": [
    "df50_tr.is_fraud.mean().round(5), df50_test.is_fraud.mean().round(5)"
   ]
  },
  {
   "cell_type": "code",
   "execution_count": 13,
   "id": "ba8e5c8a-e54e-4982-b4db-4e89f5239dfa",
   "metadata": {},
   "outputs": [
    {
     "data": {
      "text/plain": [
       "((9009, 23), (3003, 23))"
      ]
     },
     "execution_count": 13,
     "metadata": {},
     "output_type": "execute_result"
    }
   ],
   "source": [
    "df50_tr.shape, df50_test.shape"
   ]
  },
  {
   "cell_type": "code",
   "execution_count": 14,
   "id": "c7632cdd-a4fb-42dc-8c53-b5d731c5278d",
   "metadata": {},
   "outputs": [
    {
     "name": "stdout",
     "output_type": "stream",
     "text": [
      "Train Mask: [ True  True  True ... False False False]\n",
      "Test Mask: [False False False ...  True  True  True]\n"
     ]
    }
   ],
   "source": [
    "train_mask = np.concatenate((np.full(9009, True), np.full(3003, False)))\n",
    "test_mask = np.concatenate((np.full(9009, False), np.full(3003, True)))\n",
    "print(\"Train Mask:\", train_mask)\n",
    "print(\"Test Mask:\", test_mask)"
   ]
  },
  {
   "cell_type": "code",
   "execution_count": 15,
   "id": "88aef965-27b8-4007-956b-b40583d8d5ce",
   "metadata": {},
   "outputs": [
    {
     "data": {
      "text/plain": [
       "((12012,), (12012,))"
      ]
     },
     "execution_count": 15,
     "metadata": {},
     "output_type": "execute_result"
    }
   ],
   "source": [
    "train_mask.shape, test_mask.shape"
   ]
  },
  {
   "cell_type": "code",
   "execution_count": 16,
   "id": "1211b810-0238-4256-b14c-00e44833cf9e",
   "metadata": {},
   "outputs": [
    {
     "data": {
      "text/plain": [
       "(9009, 3003)"
      ]
     },
     "execution_count": 16,
     "metadata": {},
     "output_type": "execute_result"
    }
   ],
   "source": [
    "train_mask.sum(), test_mask.sum()"
   ]
  },
  {
   "cell_type": "code",
   "execution_count": 25,
   "id": "30478e8f-390a-49f0-88ed-2c7a767df7f0",
   "metadata": {},
   "outputs": [],
   "source": [
    "df50_com = pd.concat([df50_tr, df50_test])"
   ]
  },
  {
   "cell_type": "code",
   "execution_count": 27,
   "id": "4ee78777-95c8-40c4-acdd-6a0d539c6454",
   "metadata": {},
   "outputs": [],
   "source": [
    "df50_com = df50_com.reset_index()"
   ]
  },
  {
   "cell_type": "code",
   "execution_count": 28,
   "id": "a138d7d2-1bf8-442e-86b5-a8b09d0941e0",
   "metadata": {},
   "outputs": [
    {
     "data": {
      "text/html": [
       "<div>\n",
       "<style scoped>\n",
       "    .dataframe tbody tr th:only-of-type {\n",
       "        vertical-align: middle;\n",
       "    }\n",
       "\n",
       "    .dataframe tbody tr th {\n",
       "        vertical-align: top;\n",
       "    }\n",
       "\n",
       "    .dataframe thead th {\n",
       "        text-align: right;\n",
       "    }\n",
       "</style>\n",
       "<table border=\"1\" class=\"dataframe\">\n",
       "  <thead>\n",
       "    <tr style=\"text-align: right;\">\n",
       "      <th></th>\n",
       "      <th>level_0</th>\n",
       "      <th>index</th>\n",
       "      <th>trans_date_trans_time</th>\n",
       "      <th>cc_num</th>\n",
       "      <th>merchant</th>\n",
       "      <th>category</th>\n",
       "      <th>amt</th>\n",
       "      <th>first</th>\n",
       "      <th>last</th>\n",
       "      <th>gender</th>\n",
       "      <th>...</th>\n",
       "      <th>lat</th>\n",
       "      <th>long</th>\n",
       "      <th>city_pop</th>\n",
       "      <th>job</th>\n",
       "      <th>dob</th>\n",
       "      <th>trans_num</th>\n",
       "      <th>unix_time</th>\n",
       "      <th>merch_lat</th>\n",
       "      <th>merch_long</th>\n",
       "      <th>is_fraud</th>\n",
       "    </tr>\n",
       "  </thead>\n",
       "  <tbody>\n",
       "    <tr>\n",
       "      <th>0</th>\n",
       "      <td>476</td>\n",
       "      <td>51331</td>\n",
       "      <td>2019-01-31 00:44:00</td>\n",
       "      <td>3.543590e+15</td>\n",
       "      <td>fraud_Medhurst PLC</td>\n",
       "      <td>shopping_net</td>\n",
       "      <td>921.24</td>\n",
       "      <td>Margaret</td>\n",
       "      <td>Lam</td>\n",
       "      <td>F</td>\n",
       "      <td>...</td>\n",
       "      <td>40.4603</td>\n",
       "      <td>-79.0097</td>\n",
       "      <td>922</td>\n",
       "      <td>Early years teacher</td>\n",
       "      <td>1972-10-04</td>\n",
       "      <td>c8928ba53be26fdd997b26f7130c757e</td>\n",
       "      <td>1327970678</td>\n",
       "      <td>40.064488</td>\n",
       "      <td>-78.210499</td>\n",
       "      <td>1</td>\n",
       "    </tr>\n",
       "    <tr>\n",
       "      <th>1</th>\n",
       "      <td>3671</td>\n",
       "      <td>625691</td>\n",
       "      <td>2019-09-23 00:09:00</td>\n",
       "      <td>2.610530e+15</td>\n",
       "      <td>fraud_Torphy-Goyette</td>\n",
       "      <td>shopping_pos</td>\n",
       "      <td>698.28</td>\n",
       "      <td>Tanya</td>\n",
       "      <td>Dickerson</td>\n",
       "      <td>F</td>\n",
       "      <td>...</td>\n",
       "      <td>36.2416</td>\n",
       "      <td>-86.6117</td>\n",
       "      <td>22191</td>\n",
       "      <td>Prison officer</td>\n",
       "      <td>1994-07-27</td>\n",
       "      <td>90453290b765904ed1c3426882a6788b</td>\n",
       "      <td>1348358993</td>\n",
       "      <td>35.884288</td>\n",
       "      <td>-87.513318</td>\n",
       "      <td>1</td>\n",
       "    </tr>\n",
       "    <tr>\n",
       "      <th>2</th>\n",
       "      <td>6641</td>\n",
       "      <td>896244</td>\n",
       "      <td>2019-12-25 21:30:00</td>\n",
       "      <td>6.011330e+15</td>\n",
       "      <td>fraud_Monahan-Morar</td>\n",
       "      <td>personal_care</td>\n",
       "      <td>220.56</td>\n",
       "      <td>Lauren</td>\n",
       "      <td>Butler</td>\n",
       "      <td>F</td>\n",
       "      <td>...</td>\n",
       "      <td>36.0557</td>\n",
       "      <td>-96.0602</td>\n",
       "      <td>413574</td>\n",
       "      <td>Teacher, special educational needs</td>\n",
       "      <td>1971-09-01</td>\n",
       "      <td>4072a3effcf51cf7cf88f69d00642cd9</td>\n",
       "      <td>1356471044</td>\n",
       "      <td>35.789798</td>\n",
       "      <td>-95.859736</td>\n",
       "      <td>0</td>\n",
       "    </tr>\n",
       "    <tr>\n",
       "      <th>3</th>\n",
       "      <td>4288</td>\n",
       "      <td>717690</td>\n",
       "      <td>2019-11-02 22:22:00</td>\n",
       "      <td>6.011380e+15</td>\n",
       "      <td>fraud_Daugherty, Pouros and Beahan</td>\n",
       "      <td>shopping_pos</td>\n",
       "      <td>905.43</td>\n",
       "      <td>Martin</td>\n",
       "      <td>Duarte</td>\n",
       "      <td>M</td>\n",
       "      <td>...</td>\n",
       "      <td>44.6001</td>\n",
       "      <td>-84.2931</td>\n",
       "      <td>864</td>\n",
       "      <td>General practice doctor</td>\n",
       "      <td>1942-05-04</td>\n",
       "      <td>f2fa1b25eef2f43fa5c09e3e1bfe7f77</td>\n",
       "      <td>1351894926</td>\n",
       "      <td>44.652759</td>\n",
       "      <td>-84.500359</td>\n",
       "      <td>1</td>\n",
       "    </tr>\n",
       "    <tr>\n",
       "      <th>4</th>\n",
       "      <td>4770</td>\n",
       "      <td>815813</td>\n",
       "      <td>2019-12-08 02:50:00</td>\n",
       "      <td>4.430880e+15</td>\n",
       "      <td>fraud_Hudson-Ratke</td>\n",
       "      <td>grocery_pos</td>\n",
       "      <td>307.98</td>\n",
       "      <td>Alicia</td>\n",
       "      <td>Morales</td>\n",
       "      <td>F</td>\n",
       "      <td>...</td>\n",
       "      <td>39.3199</td>\n",
       "      <td>-106.6596</td>\n",
       "      <td>61</td>\n",
       "      <td>Public relations account executive</td>\n",
       "      <td>1939-11-04</td>\n",
       "      <td>f06eff8da349e36e623cff026de8e970</td>\n",
       "      <td>1354935056</td>\n",
       "      <td>38.389399</td>\n",
       "      <td>-106.111026</td>\n",
       "      <td>1</td>\n",
       "    </tr>\n",
       "    <tr>\n",
       "      <th>...</th>\n",
       "      <td>...</td>\n",
       "      <td>...</td>\n",
       "      <td>...</td>\n",
       "      <td>...</td>\n",
       "      <td>...</td>\n",
       "      <td>...</td>\n",
       "      <td>...</td>\n",
       "      <td>...</td>\n",
       "      <td>...</td>\n",
       "      <td>...</td>\n",
       "      <td>...</td>\n",
       "      <td>...</td>\n",
       "      <td>...</td>\n",
       "      <td>...</td>\n",
       "      <td>...</td>\n",
       "      <td>...</td>\n",
       "      <td>...</td>\n",
       "      <td>...</td>\n",
       "      <td>...</td>\n",
       "      <td>...</td>\n",
       "      <td>...</td>\n",
       "    </tr>\n",
       "    <tr>\n",
       "      <th>12007</th>\n",
       "      <td>56</td>\n",
       "      <td>12246</td>\n",
       "      <td>2019-01-08 01:50:00</td>\n",
       "      <td>4.859530e+15</td>\n",
       "      <td>fraud_Howe Ltd</td>\n",
       "      <td>misc_pos</td>\n",
       "      <td>664.73</td>\n",
       "      <td>Rebecca</td>\n",
       "      <td>Farley</td>\n",
       "      <td>F</td>\n",
       "      <td>...</td>\n",
       "      <td>42.0716</td>\n",
       "      <td>-75.0152</td>\n",
       "      <td>1228</td>\n",
       "      <td>Psychotherapist, child</td>\n",
       "      <td>1990-02-25</td>\n",
       "      <td>61817f427fdb2a54d7c51595026021d2</td>\n",
       "      <td>1325987429</td>\n",
       "      <td>41.124211</td>\n",
       "      <td>-75.954718</td>\n",
       "      <td>1</td>\n",
       "    </tr>\n",
       "    <tr>\n",
       "      <th>12008</th>\n",
       "      <td>3194</td>\n",
       "      <td>538327</td>\n",
       "      <td>2019-08-18 23:37:00</td>\n",
       "      <td>5.020130e+11</td>\n",
       "      <td>fraud_Miller-Harris</td>\n",
       "      <td>misc_net</td>\n",
       "      <td>844.60</td>\n",
       "      <td>Sherry</td>\n",
       "      <td>Martinez</td>\n",
       "      <td>F</td>\n",
       "      <td>...</td>\n",
       "      <td>42.6315</td>\n",
       "      <td>-75.1866</td>\n",
       "      <td>165</td>\n",
       "      <td>Naval architect</td>\n",
       "      <td>1945-09-20</td>\n",
       "      <td>635ba4a5f582514e053e96bf3a4376ac</td>\n",
       "      <td>1345333050</td>\n",
       "      <td>42.207966</td>\n",
       "      <td>-74.695138</td>\n",
       "      <td>1</td>\n",
       "    </tr>\n",
       "    <tr>\n",
       "      <th>12009</th>\n",
       "      <td>2855</td>\n",
       "      <td>459431</td>\n",
       "      <td>2019-07-22 03:18:00</td>\n",
       "      <td>4.917190e+15</td>\n",
       "      <td>fraud_Corwin-Collins</td>\n",
       "      <td>gas_transport</td>\n",
       "      <td>17.97</td>\n",
       "      <td>Joel</td>\n",
       "      <td>Rivera</td>\n",
       "      <td>M</td>\n",
       "      <td>...</td>\n",
       "      <td>35.8759</td>\n",
       "      <td>-96.9623</td>\n",
       "      <td>1165</td>\n",
       "      <td>Psychotherapist, child</td>\n",
       "      <td>1944-11-11</td>\n",
       "      <td>f9526787905f648773a69e1f97faa017</td>\n",
       "      <td>1342927100</td>\n",
       "      <td>34.880538</td>\n",
       "      <td>-96.384044</td>\n",
       "      <td>1</td>\n",
       "    </tr>\n",
       "    <tr>\n",
       "      <th>12010</th>\n",
       "      <td>10690</td>\n",
       "      <td>720826</td>\n",
       "      <td>2019-11-03 21:51:00</td>\n",
       "      <td>4.997730e+15</td>\n",
       "      <td>fraud_Hagenes, Hermann and Stroman</td>\n",
       "      <td>travel</td>\n",
       "      <td>7.58</td>\n",
       "      <td>Stephanie</td>\n",
       "      <td>Taylor</td>\n",
       "      <td>F</td>\n",
       "      <td>...</td>\n",
       "      <td>44.9913</td>\n",
       "      <td>-92.9487</td>\n",
       "      <td>753116</td>\n",
       "      <td>Fisheries officer</td>\n",
       "      <td>1971-08-06</td>\n",
       "      <td>3cd0cc36fa115887dba94c1d5b3fb2df</td>\n",
       "      <td>1351979471</td>\n",
       "      <td>44.177391</td>\n",
       "      <td>-92.998310</td>\n",
       "      <td>0</td>\n",
       "    </tr>\n",
       "    <tr>\n",
       "      <th>12011</th>\n",
       "      <td>2986</td>\n",
       "      <td>489045</td>\n",
       "      <td>2019-08-02 01:42:00</td>\n",
       "      <td>2.450830e+15</td>\n",
       "      <td>fraud_Herman, Treutel and Dickens</td>\n",
       "      <td>misc_net</td>\n",
       "      <td>824.99</td>\n",
       "      <td>Timothy</td>\n",
       "      <td>Kirby</td>\n",
       "      <td>M</td>\n",
       "      <td>...</td>\n",
       "      <td>45.6040</td>\n",
       "      <td>-94.1591</td>\n",
       "      <td>16163</td>\n",
       "      <td>Hydrographic surveyor</td>\n",
       "      <td>1987-02-22</td>\n",
       "      <td>5832beb3af071da9ddd41d9ff8f7a5a1</td>\n",
       "      <td>1343871750</td>\n",
       "      <td>44.785690</td>\n",
       "      <td>-93.624590</td>\n",
       "      <td>1</td>\n",
       "    </tr>\n",
       "  </tbody>\n",
       "</table>\n",
       "<p>12012 rows × 24 columns</p>\n",
       "</div>"
      ],
      "text/plain": [
       "       level_0   index trans_date_trans_time        cc_num  \\\n",
       "0          476   51331   2019-01-31 00:44:00  3.543590e+15   \n",
       "1         3671  625691   2019-09-23 00:09:00  2.610530e+15   \n",
       "2         6641  896244   2019-12-25 21:30:00  6.011330e+15   \n",
       "3         4288  717690   2019-11-02 22:22:00  6.011380e+15   \n",
       "4         4770  815813   2019-12-08 02:50:00  4.430880e+15   \n",
       "...        ...     ...                   ...           ...   \n",
       "12007       56   12246   2019-01-08 01:50:00  4.859530e+15   \n",
       "12008     3194  538327   2019-08-18 23:37:00  5.020130e+11   \n",
       "12009     2855  459431   2019-07-22 03:18:00  4.917190e+15   \n",
       "12010    10690  720826   2019-11-03 21:51:00  4.997730e+15   \n",
       "12011     2986  489045   2019-08-02 01:42:00  2.450830e+15   \n",
       "\n",
       "                                 merchant       category     amt      first  \\\n",
       "0                      fraud_Medhurst PLC   shopping_net  921.24   Margaret   \n",
       "1                    fraud_Torphy-Goyette   shopping_pos  698.28      Tanya   \n",
       "2                     fraud_Monahan-Morar  personal_care  220.56     Lauren   \n",
       "3      fraud_Daugherty, Pouros and Beahan   shopping_pos  905.43     Martin   \n",
       "4                      fraud_Hudson-Ratke    grocery_pos  307.98     Alicia   \n",
       "...                                   ...            ...     ...        ...   \n",
       "12007                      fraud_Howe Ltd       misc_pos  664.73    Rebecca   \n",
       "12008                 fraud_Miller-Harris       misc_net  844.60     Sherry   \n",
       "12009                fraud_Corwin-Collins  gas_transport   17.97       Joel   \n",
       "12010  fraud_Hagenes, Hermann and Stroman         travel    7.58  Stephanie   \n",
       "12011   fraud_Herman, Treutel and Dickens       misc_net  824.99    Timothy   \n",
       "\n",
       "            last gender  ...      lat      long city_pop  \\\n",
       "0            Lam      F  ...  40.4603  -79.0097      922   \n",
       "1      Dickerson      F  ...  36.2416  -86.6117    22191   \n",
       "2         Butler      F  ...  36.0557  -96.0602   413574   \n",
       "3         Duarte      M  ...  44.6001  -84.2931      864   \n",
       "4        Morales      F  ...  39.3199 -106.6596       61   \n",
       "...          ...    ...  ...      ...       ...      ...   \n",
       "12007     Farley      F  ...  42.0716  -75.0152     1228   \n",
       "12008   Martinez      F  ...  42.6315  -75.1866      165   \n",
       "12009     Rivera      M  ...  35.8759  -96.9623     1165   \n",
       "12010     Taylor      F  ...  44.9913  -92.9487   753116   \n",
       "12011      Kirby      M  ...  45.6040  -94.1591    16163   \n",
       "\n",
       "                                      job         dob  \\\n",
       "0                     Early years teacher  1972-10-04   \n",
       "1                          Prison officer  1994-07-27   \n",
       "2      Teacher, special educational needs  1971-09-01   \n",
       "3                 General practice doctor  1942-05-04   \n",
       "4      Public relations account executive  1939-11-04   \n",
       "...                                   ...         ...   \n",
       "12007              Psychotherapist, child  1990-02-25   \n",
       "12008                     Naval architect  1945-09-20   \n",
       "12009              Psychotherapist, child  1944-11-11   \n",
       "12010                   Fisheries officer  1971-08-06   \n",
       "12011               Hydrographic surveyor  1987-02-22   \n",
       "\n",
       "                              trans_num   unix_time  merch_lat  merch_long  \\\n",
       "0      c8928ba53be26fdd997b26f7130c757e  1327970678  40.064488  -78.210499   \n",
       "1      90453290b765904ed1c3426882a6788b  1348358993  35.884288  -87.513318   \n",
       "2      4072a3effcf51cf7cf88f69d00642cd9  1356471044  35.789798  -95.859736   \n",
       "3      f2fa1b25eef2f43fa5c09e3e1bfe7f77  1351894926  44.652759  -84.500359   \n",
       "4      f06eff8da349e36e623cff026de8e970  1354935056  38.389399 -106.111026   \n",
       "...                                 ...         ...        ...         ...   \n",
       "12007  61817f427fdb2a54d7c51595026021d2  1325987429  41.124211  -75.954718   \n",
       "12008  635ba4a5f582514e053e96bf3a4376ac  1345333050  42.207966  -74.695138   \n",
       "12009  f9526787905f648773a69e1f97faa017  1342927100  34.880538  -96.384044   \n",
       "12010  3cd0cc36fa115887dba94c1d5b3fb2df  1351979471  44.177391  -92.998310   \n",
       "12011  5832beb3af071da9ddd41d9ff8f7a5a1  1343871750  44.785690  -93.624590   \n",
       "\n",
       "      is_fraud  \n",
       "0            1  \n",
       "1            1  \n",
       "2            0  \n",
       "3            1  \n",
       "4            1  \n",
       "...        ...  \n",
       "12007        1  \n",
       "12008        1  \n",
       "12009        1  \n",
       "12010        0  \n",
       "12011        1  \n",
       "\n",
       "[12012 rows x 24 columns]"
      ]
     },
     "execution_count": 28,
     "metadata": {},
     "output_type": "execute_result"
    }
   ],
   "source": [
    "df50_com"
   ]
  },
  {
   "cell_type": "markdown",
   "id": "772ec8d5-bfc8-4f1a-8909-9c7c53e66e0d",
   "metadata": {},
   "source": [
    "---"
   ]
  },
  {
   "cell_type": "markdown",
   "id": "9014cff6-d53f-4a29-848f-e93f00b32eca",
   "metadata": {
    "tags": []
   },
   "source": [
    "### 이건 weight?"
   ]
  },
  {
   "cell_type": "code",
   "execution_count": null,
   "id": "acf610d7-7d28-429a-be47-f57879353a9d",
   "metadata": {},
   "outputs": [],
   "source": [
    "# edge_index_list = []\n",
    "# for i in range(N):\n",
    "#     for j in range(N):\n",
    "#         time_difference = (df50['trans_date_trans_time'][i] - df50['trans_date_trans_time'][j]).total_seconds()\n",
    "#         edge_index_list.append([i, j, time_difference])"
   ]
  },
  {
   "cell_type": "code",
   "execution_count": null,
   "id": "d1333cbb-002f-4d9c-8864-a8660a541dd0",
   "metadata": {},
   "outputs": [
    {
     "data": {
      "text/plain": [
       "[[0, 0, 0.0],\n",
       " [0, 1, -2460.0],\n",
       " [0, 2, -7140.0],\n",
       " [0, 3, -9120.0],\n",
       " [0, 4, -10140.0]]"
      ]
     },
     "execution_count": 14,
     "metadata": {},
     "output_type": "execute_result"
    }
   ],
   "source": [
    "# edge_index_list[:5]"
   ]
  },
  {
   "cell_type": "code",
   "execution_count": null,
   "id": "22d6f9c3-43c3-4062-bac3-e1431ab0d2f4",
   "metadata": {},
   "outputs": [],
   "source": [
    "# np.save('edge_index_list_50.npy', edge_index_list)\n",
    "\n",
    "# loaded_data = np.load('edge_index_list_50.npy')"
   ]
  },
  {
   "cell_type": "code",
   "execution_count": null,
   "id": "be311863-bf55-40a2-ae8d-d3c87e26a164",
   "metadata": {},
   "outputs": [
    {
     "data": {
      "text/plain": [
       "12238996.895508753"
      ]
     },
     "execution_count": 16,
     "metadata": {},
     "output_type": "execute_result"
    }
   ],
   "source": [
    "# edge_index = np.array(edge_index_list)\n",
    "# edge_index[:,2] = np.abs(edge_index[:,2])\n",
    "# theta = edge_index[:,2].mean()\n",
    "# theta"
   ]
  },
  {
   "cell_type": "code",
   "execution_count": null,
   "id": "de4c0f1a-32df-4069-ae72-8ae6c06dbdb8",
   "metadata": {},
   "outputs": [
    {
     "data": {
      "text/plain": [
       "array([[0.00000000e+00, 0.00000000e+00, 0.00000000e+00],\n",
       "       [0.00000000e+00, 1.00000000e+00, 9.99799023e-01],\n",
       "       [0.00000000e+00, 2.00000000e+00, 9.99416789e-01],\n",
       "       ...,\n",
       "       [1.20110000e+04, 1.20090000e+04, 4.19756312e-01],\n",
       "       [1.20110000e+04, 1.20100000e+04, 2.26811434e-01],\n",
       "       [1.20110000e+04, 1.20110000e+04, 0.00000000e+00]])"
      ]
     },
     "execution_count": 20,
     "metadata": {},
     "output_type": "execute_result"
    }
   ],
   "source": [
    "# edge_index[:,2] = (np.exp(-edge_index[:,2]/theta)!=1) * np.exp(-edge_index[:,2]/theta)\n",
    "# edge_index"
   ]
  },
  {
   "cell_type": "code",
   "execution_count": null,
   "id": "8e7e9081-f842-45ef-bf33-7120091368ec",
   "metadata": {},
   "outputs": [
    {
     "data": {
      "text/plain": [
       "array([0.        , 0.99979902, 0.99941679, ..., 0.41975631, 0.22681143,\n",
       "       0.        ])"
      ]
     },
     "execution_count": 22,
     "metadata": {},
     "output_type": "execute_result"
    }
   ],
   "source": [
    "# edge_index[:,2]"
   ]
  },
  {
   "cell_type": "markdown",
   "id": "5ff15ac9-f47c-46e8-9369-098bf85ddfc0",
   "metadata": {},
   "source": [
    "Q. 그런데 밑에서 random으로 train하고 test로 나누게 되면..  wieght랑 edge를 어떻게 적용시키지?"
   ]
  },
  {
   "cell_type": "code",
   "execution_count": null,
   "id": "f3c5685d-f3ba-492b-b0fa-42962afdd8c7",
   "metadata": {},
   "outputs": [],
   "source": []
  },
  {
   "cell_type": "code",
   "execution_count": null,
   "id": "6a1d9587-4b8a-4340-9496-96a277da725b",
   "metadata": {},
   "outputs": [],
   "source": []
  },
  {
   "cell_type": "code",
   "execution_count": null,
   "id": "004e61f9-c7e3-44b7-a1f1-e44c4be3511f",
   "metadata": {},
   "outputs": [],
   "source": []
  },
  {
   "cell_type": "markdown",
   "id": "d733873d-0b79-4709-8848-6b667f141293",
   "metadata": {
    "tags": []
   },
   "source": [
    "### edge: 같은 cc_num이면 edge=1, 다르면 edge=0"
   ]
  },
  {
   "cell_type": "code",
   "execution_count": 36,
   "id": "a836d0e0-f2f7-4a91-a95b-16db33aeec4b",
   "metadata": {},
   "outputs": [],
   "source": [
    "edge_index_list2_com = []\n",
    "for i in range(N):\n",
    "    for j in range(N):\n",
    "        if df50_com['cc_num'][i] != df50_com['cc_num'][j]:  \n",
    "            edge = 0\n",
    "        else:\n",
    "            edge = 1\n",
    "        edge_index_list2_com.append([i, j, edge])"
   ]
  },
  {
   "cell_type": "code",
   "execution_count": 40,
   "id": "b78ca033-4f4a-44b8-91d8-b4e619f2b061",
   "metadata": {},
   "outputs": [],
   "source": [
    "np.save('edge_index_list2_50_com.npy', edge_index_list2_com)\n",
    "\n",
    "loaded_data = np.load('edge_index_list2_50_com.npy')"
   ]
  },
  {
   "cell_type": "code",
   "execution_count": 38,
   "id": "ae0124c8-eea8-4f25-9573-eab9bb09b6d3",
   "metadata": {},
   "outputs": [
    {
     "data": {
      "text/plain": [
       "[[0, 0, 1], [0, 1, 0], [0, 2, 0], [0, 3, 0], [0, 4, 0]]"
      ]
     },
     "execution_count": 38,
     "metadata": {},
     "output_type": "execute_result"
    }
   ],
   "source": [
    "edge_index_list2_com[:5]"
   ]
  },
  {
   "cell_type": "code",
   "execution_count": 39,
   "id": "c2d19fd1-90ba-4ce3-b9f0-a69474db00c6",
   "metadata": {},
   "outputs": [
    {
     "data": {
      "text/plain": [
       "[(0, 0), (0, 344), (0, 1377), (0, 1447), (0, 1639)]"
      ]
     },
     "execution_count": 39,
     "metadata": {},
     "output_type": "execute_result"
    }
   ],
   "source": [
    "edge_one_com = [(i, j) for i, j, edge in edge_index_list2_com if edge == 1]\n",
    "edge_one_com[:5]"
   ]
  },
  {
   "cell_type": "code",
   "execution_count": 41,
   "id": "e7bb848d-67a3-4d7b-964b-5924abfedf0a",
   "metadata": {},
   "outputs": [
    {
     "data": {
      "text/plain": [
       "200706"
      ]
     },
     "execution_count": 41,
     "metadata": {},
     "output_type": "execute_result"
    }
   ],
   "source": [
    "len(edge_one_com)"
   ]
  },
  {
   "cell_type": "code",
   "execution_count": 42,
   "id": "d8686881-6093-4a7e-9913-a1d49cfea34b",
   "metadata": {},
   "outputs": [],
   "source": [
    "edge_one_index_com = torch.tensor(edge_one_com, dtype=torch.long).t()"
   ]
  },
  {
   "cell_type": "code",
   "execution_count": 43,
   "id": "dde2c66a-a3af-4df7-b3b1-1dfd2a6ae67e",
   "metadata": {},
   "outputs": [
    {
     "data": {
      "text/plain": [
       "torch.Size([2, 200706])"
      ]
     },
     "execution_count": 43,
     "metadata": {},
     "output_type": "execute_result"
    }
   ],
   "source": [
    "edge_one_index_com.shape"
   ]
  },
  {
   "cell_type": "markdown",
   "id": "f2e16845-ba59-4317-9199-225ee9afd7eb",
   "metadata": {},
   "source": [
    "---"
   ]
  },
  {
   "cell_type": "markdown",
   "id": "c6292543-c350-4177-ac60-3856f4c120d0",
   "metadata": {},
   "source": [
    "### data설정(x, edge_index, y)"
   ]
  },
  {
   "cell_type": "code",
   "execution_count": 44,
   "id": "88504d40-8829-4b6f-93ed-e5bebbf8e508",
   "metadata": {},
   "outputs": [],
   "source": [
    "x = df50_com['amt']"
   ]
  },
  {
   "cell_type": "code",
   "execution_count": 45,
   "id": "7a8d5ba3-9e58-4896-8ce2-62352b1b9175",
   "metadata": {},
   "outputs": [],
   "source": [
    "a = torch.tensor(x, dtype=torch.float)"
   ]
  },
  {
   "cell_type": "code",
   "execution_count": 46,
   "id": "b343eda7-3c52-4db9-9f51-131869d81378",
   "metadata": {},
   "outputs": [
    {
     "data": {
      "text/plain": [
       "tensor([[921.2400],\n",
       "        [698.2800],\n",
       "        [220.5600],\n",
       "        ...,\n",
       "        [ 17.9700],\n",
       "        [  7.5800],\n",
       "        [824.9900]])"
      ]
     },
     "execution_count": 46,
     "metadata": {},
     "output_type": "execute_result"
    }
   ],
   "source": [
    "a = a.reshape(-1,1)\n",
    "a"
   ]
  },
  {
   "cell_type": "code",
   "execution_count": 47,
   "id": "f2d16b59-91b5-4208-af59-6c7d017ab922",
   "metadata": {},
   "outputs": [],
   "source": [
    "y = df50_com['is_fraud']"
   ]
  },
  {
   "cell_type": "code",
   "execution_count": 48,
   "id": "da3d4c18-b449-4720-befe-e2ed89e1300e",
   "metadata": {},
   "outputs": [],
   "source": [
    "b = torch.tensor(y,dtype=torch.int64)"
   ]
  },
  {
   "cell_type": "code",
   "execution_count": 49,
   "id": "8866eb60-6989-46e0-9be9-16b1f3961c44",
   "metadata": {},
   "outputs": [
    {
     "data": {
      "text/plain": [
       "tensor([1, 1, 0,  ..., 1, 0, 1])"
      ]
     },
     "execution_count": 49,
     "metadata": {},
     "output_type": "execute_result"
    }
   ],
   "source": [
    "b"
   ]
  },
  {
   "cell_type": "code",
   "execution_count": 50,
   "id": "1bd32099-d17d-4f16-ad61-8c8d79def338",
   "metadata": {},
   "outputs": [],
   "source": [
    "import torch_geometric"
   ]
  },
  {
   "cell_type": "code",
   "execution_count": 51,
   "id": "5e204f74-b36f-4029-b15d-124dc2d18e24",
   "metadata": {},
   "outputs": [],
   "source": [
    "data = torch_geometric.data.Data(x=a, edge_index = edge_one_index_com, y=b, train_mask = train_mask, test_mask = test_mask)"
   ]
  },
  {
   "cell_type": "code",
   "execution_count": 52,
   "id": "1ba154a6-c153-498a-8d49-f8be662eb34f",
   "metadata": {},
   "outputs": [
    {
     "data": {
      "text/plain": [
       "Data(x=[12012, 1], edge_index=[2, 200706], y=[12012], train_mask=[12012], test_mask=[12012])"
      ]
     },
     "execution_count": 52,
     "metadata": {},
     "output_type": "execute_result"
    }
   ],
   "source": [
    "data"
   ]
  },
  {
   "cell_type": "code",
   "execution_count": null,
   "id": "91eca4dc-f76c-4fca-8313-cd9157018167",
   "metadata": {},
   "outputs": [],
   "source": []
  },
  {
   "cell_type": "code",
   "execution_count": null,
   "id": "65b1f943-9621-47ae-8bb2-951547a808eb",
   "metadata": {},
   "outputs": [],
   "source": []
  },
  {
   "cell_type": "markdown",
   "id": "0574eb03-47a5-4811-90ba-f1d491e179f9",
   "metadata": {},
   "source": [
    "---"
   ]
  },
  {
   "cell_type": "code",
   "execution_count": null,
   "id": "8028abc6-d178-49e5-8d95-0162794a3957",
   "metadata": {},
   "outputs": [],
   "source": []
  },
  {
   "cell_type": "markdown",
   "id": "67c5ee44-6efc-4b7f-a7d6-a26052d1e687",
   "metadata": {},
   "source": [
    "---"
   ]
  },
  {
   "cell_type": "markdown",
   "id": "3ecfa41f-ad3d-4163-ae4a-4a6aa1bac85d",
   "metadata": {},
   "source": [
    "### gnn"
   ]
  },
  {
   "cell_type": "code",
   "execution_count": 53,
   "id": "a056670c-61d7-4056-ae60-e82896654ca3",
   "metadata": {
    "tags": []
   },
   "outputs": [],
   "source": [
    "\n",
    "\n",
    "import torch\n",
    "import torch.nn.functional as F\n",
    "from torch_geometric.nn import GCNConv\n",
    "\n",
    "class GCN(torch.nn.Module):\n",
    "    def __init__(self):\n",
    "        super().__init__()\n",
    "        self.conv1 = GCNConv(1, 16)\n",
    "        self.conv2 = GCNConv(16,2)\n",
    "\n",
    "    def forward(self, data):\n",
    "        x, edge_index = data.x, data.edge_index\n",
    "\n",
    "        x = self.conv1(x, edge_index)\n",
    "        x = F.relu(x)\n",
    "        x = F.dropout(x, training=self.training)\n",
    "        x = self.conv2(x, edge_index)\n",
    "\n",
    "        return F.log_softmax(x, dim=1)"
   ]
  },
  {
   "cell_type": "code",
   "execution_count": 54,
   "id": "23811540-0624-42f0-a5b0-fd103b022621",
   "metadata": {},
   "outputs": [],
   "source": [
    "model = GCN()"
   ]
  },
  {
   "cell_type": "code",
   "execution_count": 55,
   "id": "46883b47-b447-4bc7-b853-27afb6d4e48a",
   "metadata": {},
   "outputs": [
    {
     "data": {
      "text/plain": [
       "GCN(\n",
       "  (conv1): GCNConv(1, 16)\n",
       "  (conv2): GCNConv(16, 2)\n",
       ")"
      ]
     },
     "execution_count": 55,
     "metadata": {},
     "output_type": "execute_result"
    }
   ],
   "source": [
    "model"
   ]
  },
  {
   "cell_type": "code",
   "execution_count": 56,
   "id": "80f5bb84-a21e-4a54-bb01-e3249488c2d4",
   "metadata": {},
   "outputs": [
    {
     "data": {
      "text/plain": [
       "GCN(\n",
       "  (conv1): GCNConv(1, 16)\n",
       "  (conv2): GCNConv(16, 2)\n",
       ")"
      ]
     },
     "execution_count": 56,
     "metadata": {},
     "output_type": "execute_result"
    }
   ],
   "source": [
    "optimizer = torch.optim.Adam(model.parameters(), lr=0.01, weight_decay=5e-4)\n",
    "model.train()"
   ]
  },
  {
   "cell_type": "markdown",
   "id": "84a1c531-356d-4c7b-9723-1fed45b808d6",
   "metadata": {},
   "source": [
    "------"
   ]
  },
  {
   "cell_type": "code",
   "execution_count": null,
   "id": "8e378bd9-7e80-4423-89f2-ea70689c3f38",
   "metadata": {},
   "outputs": [],
   "source": []
  },
  {
   "cell_type": "code",
   "execution_count": null,
   "id": "68c772a6-7f58-45f7-a4f9-8bfd2ee833a7",
   "metadata": {},
   "outputs": [],
   "source": []
  },
  {
   "cell_type": "code",
   "execution_count": 57,
   "id": "d02dd95d-4c9d-4baa-8e1c-ab2866bba701",
   "metadata": {},
   "outputs": [],
   "source": [
    "for epoch in range(200):\n",
    "    optimizer.zero_grad()\n",
    "    out = model(data)\n",
    "    loss = F.nll_loss(out[data.train_mask], data.y[data.train_mask])\n",
    "    loss.backward()\n",
    "    optimizer.step()"
   ]
  },
  {
   "cell_type": "code",
   "execution_count": 58,
   "id": "00c231c6-cbd8-424c-8b19-d113472a6954",
   "metadata": {},
   "outputs": [
    {
     "name": "stdout",
     "output_type": "stream",
     "text": [
      "Accuracy: 0.5012\n"
     ]
    }
   ],
   "source": [
    "model.eval()\n",
    "pred = model(data).argmax(dim=1)\n",
    "correct = (pred[data.test_mask] == data.y[data.test_mask]).sum()\n",
    "acc = int(correct) / int(data.test_mask.sum())\n",
    "print(f'Accuracy: {acc:.4f}')"
   ]
  },
  {
   "cell_type": "markdown",
   "id": "5fed41e6-a62b-4e86-8310-6c2c917a1501",
   "metadata": {},
   "source": [
    "> 왜 자꾸 accuracy가 안좋게 나오노"
   ]
  },
  {
   "cell_type": "code",
   "execution_count": 65,
   "id": "808a6c00-dbaa-481a-a779-59b9b3105e8d",
   "metadata": {},
   "outputs": [
    {
     "data": {
      "text/plain": [
       "tensor(1517)"
      ]
     },
     "execution_count": 65,
     "metadata": {},
     "output_type": "execute_result"
    }
   ],
   "source": [
    "data.y[data.test_mask].sum()"
   ]
  },
  {
   "cell_type": "code",
   "execution_count": 70,
   "id": "df3ced29-6497-4117-9f96-47872ba930b8",
   "metadata": {},
   "outputs": [
    {
     "data": {
      "text/plain": [
       "tensor([[-1.0039, -0.4564],\n",
       "        [-1.6018, -0.2251],\n",
       "        [-0.3896, -1.1311],\n",
       "        ...,\n",
       "        [-1.7755, -0.1856],\n",
       "        [-0.9515, -0.4880],\n",
       "        [-2.3393, -0.1014]], grad_fn=<IndexBackward0>)"
      ]
     },
     "execution_count": 70,
     "metadata": {},
     "output_type": "execute_result"
    }
   ],
   "source": [
    "out[data.train_mask]"
   ]
  },
  {
   "cell_type": "code",
   "execution_count": 71,
   "id": "79c19e92-ebfa-4fac-9ffe-877c7a68c896",
   "metadata": {},
   "outputs": [
    {
     "data": {
      "text/plain": [
       "tensor([0, 1, 0,  ..., 1, 0, 1])"
      ]
     },
     "execution_count": 71,
     "metadata": {},
     "output_type": "execute_result"
    }
   ],
   "source": [
    "data.y[data.test_mask]"
   ]
  },
  {
   "cell_type": "code",
   "execution_count": null,
   "id": "67fb7f58-471c-4e76-90cf-2b70e116d936",
   "metadata": {},
   "outputs": [],
   "source": []
  },
  {
   "cell_type": "markdown",
   "id": "ae51ae75-1d62-4b30-8c63-cf5c9ec4dab4",
   "metadata": {},
   "source": [
    "> 음................ edge_list를 다시 해보자."
   ]
  },
  {
   "cell_type": "code",
   "execution_count": null,
   "id": "3bd20c3a-63d4-4f63-865a-79a57bd3390a",
   "metadata": {},
   "outputs": [],
   "source": []
  },
  {
   "cell_type": "code",
   "execution_count": null,
   "id": "aea887f4-0ed5-4060-9579-348f8dc921a4",
   "metadata": {},
   "outputs": [],
   "source": []
  },
  {
   "cell_type": "code",
   "execution_count": null,
   "id": "5129bac8-2d01-4f90-a1c1-48b80e92fcc9",
   "metadata": {},
   "outputs": [],
   "source": []
  },
  {
   "cell_type": "markdown",
   "id": "cd1a6a90-40ac-4344-b0c7-45aba86717c9",
   "metadata": {},
   "source": [
    "> !!!! 첫번째 시도에서는 edge_list를 무작정 1인걸 고른것이 아니였는데 왜 여기서는 이러고 있엇니................."
   ]
  },
  {
   "cell_type": "code",
   "execution_count": null,
   "id": "30720b8f-9576-49a0-abba-494c09e6bc36",
   "metadata": {},
   "outputs": [],
   "source": []
  }
 ],
 "metadata": {
  "kernelspec": {
   "display_name": "Python 3 (ipykernel)",
   "language": "python",
   "name": "python3"
  },
  "language_info": {
   "codemirror_mode": {
    "name": "ipython",
    "version": 3
   },
   "file_extension": ".py",
   "mimetype": "text/x-python",
   "name": "python",
   "nbconvert_exporter": "python",
   "pygments_lexer": "ipython3",
   "version": "3.8.18"
  }
 },
 "nbformat": 4,
 "nbformat_minor": 5
}
