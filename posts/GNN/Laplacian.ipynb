{
 "cells": [
  {
   "cell_type": "raw",
   "id": "15f7a001-5cb0-4886-b37a-edc2ff0411bd",
   "metadata": {},
   "source": [
    "---\n",
    "title: \"[GNN] Laplacian matrix\"\n",
    "author: \"김보람\"\n",
    "date: \"07/11/2023\"\n",
    "categories:\n",
    "  - Laplacian Matrix\n",
    "  - GNN\n",
    "---"
   ]
  },
  {
   "cell_type": "markdown",
   "id": "ad6b7dc6-e65f-419a-8d38-6b40fefceb3d",
   "metadata": {},
   "source": [
    "# ref"
   ]
  },
  {
   "cell_type": "markdown",
   "id": "7698ba6a-5f50-4f4b-b67c-676cb895818b",
   "metadata": {},
   "source": [
    "https://en.wikipedia.org/wiki/Laplacian_matrix\n",
    "\n",
    "https://process-mining.tistory.com/157\n",
    "\n",
    "https://ok-lab.tistory.com/169"
   ]
  },
  {
   "cell_type": "markdown",
   "id": "7080bc5d-5f08-4a86-8434-93457c4633bb",
   "metadata": {},
   "source": [
    "# Laplacian matrix"
   ]
  },
  {
   "cell_type": "markdown",
   "id": "489f2148-7b46-47f1-a747-3b5f1658a5dd",
   "metadata": {},
   "source": [
    "## unnormalized Laplacian"
   ]
  },
  {
   "cell_type": "markdown",
   "id": "391bbd5e-b830-4f28-a20b-264b7392d457",
   "metadata": {},
   "source": [
    "$$L=D-A$$"
   ]
  },
  {
   "cell_type": "markdown",
   "id": "8d284924-f0d8-4efe-96b8-2f66720012da",
   "metadata": {},
   "source": [
    "$$L^{sym}_{ij}=\\begin{cases} d(v_i), \\ i=j \\\\ -1, \\ {v_i,v_j} \\in E and i \\neq j \\\\ 0, \\ o.w \\end{cases}$$"
   ]
  },
  {
   "cell_type": "markdown",
   "id": "e06862be-fb0a-4a8e-9b71-d395aa9a56a0",
   "metadata": {},
   "source": [
    "D: degree matrix, A: ajacency matrix"
   ]
  },
  {
   "cell_type": "markdown",
   "id": "05d9c622-3fbf-4db6-964e-a0bcb71b3dbf",
   "metadata": {},
   "source": [
    "> <span style=\"color:blue\"> L: 미분,차분, 변동의 느낌.."
   ]
  },
  {
   "cell_type": "markdown",
   "id": "87c688f7-5413-4743-bfdb-27827ed6ceb7",
   "metadata": {},
   "source": [
    "`-` ex"
   ]
  },
  {
   "cell_type": "code",
   "execution_count": null,
   "id": "6ccb0f99-fe4e-4745-97cb-dd878ad54372",
   "metadata": {},
   "outputs": [],
   "source": []
  },
  {
   "cell_type": "markdown",
   "id": "859e51ae-8fe5-44f7-a2ac-75f1a78b98e3",
   "metadata": {},
   "source": [
    "![](Laplacian.png)"
   ]
  },
  {
   "cell_type": "markdown",
   "id": "67534ef7-0eee-472a-802e-1a9384910f1f",
   "metadata": {},
   "source": [
    "`-` 특징"
   ]
  },
  {
   "cell_type": "markdown",
   "id": "7f8d2bb9-03eb-4770-80b1-152812aac401",
   "metadata": {},
   "source": [
    "- symmetric matrix ($L=L^T$)"
   ]
  },
  {
   "cell_type": "markdown",
   "id": "c9c55860-5a55-4c35-bdfa-6b3a7744ee12",
   "metadata": {},
   "source": [
    "- 모든 vector x(dimesion 노드의 크기)에 대해 다음과 같은 특성을 지닌다. \n",
    "$x^TLx=\\frac{1}{2}\\sum_{u \\in {\\cal V}}\\sum_{v \\in {\\cal V}} A[u,v](X[u]-X[v])^2=\\sum_{(u,v)\\in {\\cal \\epsilon}} (X[u] - X[v])^2$"
   ]
  },
  {
   "cell_type": "markdown",
   "id": "944c3acd-5b96-48c2-a9a0-b2fa92df17e7",
   "metadata": {},
   "source": [
    "# symmetric normalized Laplacian"
   ]
  },
  {
   "cell_type": "markdown",
   "id": "70e590cc-e43f-4dc3-86fc-c16bdbcfe0bc",
   "metadata": {},
   "source": [
    "$$L^{sym}=D^{-\\frac{1}{2}}LD^{-\\frac{1}{2}}=I-D^{-\\frac{1}{2}}AD^{-\\frac{1}{2}}$$"
   ]
  },
  {
   "cell_type": "markdown",
   "id": "87728a18-1861-4933-8fa2-f51d4bf528a1",
   "metadata": {},
   "source": [
    "# Random walk Laplacian"
   ]
  },
  {
   "cell_type": "markdown",
   "id": "058f7873-e668-43ca-9892-436553289ba6",
   "metadata": {},
   "source": [
    "$$L^{RW}=D^{-1}L=I-D^{-1}A$$"
   ]
  },
  {
   "cell_type": "markdown",
   "id": "048c4fd1-effd-451f-9cff-0f0e90c9f31c",
   "metadata": {},
   "source": [
    "\n",
    "- $L_{i,j}^{RW}:= \\begin{cases} 1 & \\text{if} i=j \\text{and} \\ deg(v_i) \\neq 0 \\\\ -\\frac{1}{deg(v_i)} & \\text{if}\\ i \\neq j \\ \\text{and} \\ v_j \\text{is adjacent to}\\ v_j \\\\ 0 & \\text{o.w} \\end{cases}$"
   ]
  },
  {
   "cell_type": "code",
   "execution_count": null,
   "id": "3e1abd0d-caa1-40f3-9c80-1b356d82bffc",
   "metadata": {},
   "outputs": [],
   "source": []
  }
 ],
 "metadata": {
  "kernelspec": {
   "display_name": "Python 3 (ipykernel)",
   "language": "python",
   "name": "python3"
  },
  "language_info": {
   "codemirror_mode": {
    "name": "ipython",
    "version": 3
   },
   "file_extension": ".py",
   "mimetype": "text/x-python",
   "name": "python",
   "nbconvert_exporter": "python",
   "pygments_lexer": "ipython3",
   "version": "3.11.7"
  }
 },
 "nbformat": 4,
 "nbformat_minor": 5
}
