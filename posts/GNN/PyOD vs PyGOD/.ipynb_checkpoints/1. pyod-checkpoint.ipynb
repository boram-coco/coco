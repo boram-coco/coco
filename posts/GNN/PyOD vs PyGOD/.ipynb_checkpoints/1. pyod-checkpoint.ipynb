{
 "cells": [
  {
   "cell_type": "code",
   "execution_count": null,
   "id": "864415f1-e08a-461b-8be7-af1b9ea152df",
   "metadata": {},
   "outputs": [],
   "source": []
  },
  {
   "cell_type": "raw",
   "id": "affb6d28-f484-4bea-b3ca-c7293dee0cb9",
   "metadata": {},
   "source": [
    "---\n",
    "title: \"[pyod] tutorial\"\n",
    "author: \"김보람\"\n",
    "date: \"10/04/2023\"\n",
    "---"
   ]
  },
  {
   "cell_type": "markdown",
   "id": "ad83c3c1-257d-493a-8f82-1d1b1bd17ef6",
   "metadata": {},
   "source": [
    "# KNN"
   ]
  },
  {
   "cell_type": "markdown",
   "id": "cb642279-139c-41f0-a2dd-8f1147b266e2",
   "metadata": {},
   "source": [
    "## import"
   ]
  },
  {
   "cell_type": "code",
   "execution_count": null,
   "id": "200af4a0-70c5-48e7-827c-b7fdb95497bc",
   "metadata": {},
   "outputs": [],
   "source": []
  },
  {
   "cell_type": "code",
   "execution_count": 53,
   "id": "742799c4-1e50-4257-8efb-a7363871253f",
   "metadata": {},
   "outputs": [],
   "source": [
    "from pyod.models.knn import KNN   # kNN detector\n",
    "from pyod.utils.data import generate_data\n",
    "from pyod.utils.data import evaluate_print\n",
    "from pyod.utils.example import visualize\n"
   ]
  },
  {
   "cell_type": "markdown",
   "id": "708e911c-18a5-4f10-a322-37a00704cc2c",
   "metadata": {},
   "source": [
    "## data"
   ]
  },
  {
   "cell_type": "code",
   "execution_count": 6,
   "id": "5d3f4759-3313-414a-b1a8-f0f8be9e7020",
   "metadata": {},
   "outputs": [],
   "source": [
    "contamination = 0.1  # 이상치 비율\n",
    "n_train = 200  # number of training points\n",
    "n_test = 100  # number of testing points\n",
    "\n",
    "X_train, X_test, y_train, y_test = generate_data(n_train=n_train, n_test=n_test, contamination=contamination)"
   ]
  },
  {
   "cell_type": "markdown",
   "id": "df29e178-b8c2-4987-85e7-6beaab1cdc5a",
   "metadata": {},
   "source": [
    "## KNN()"
   ]
  },
  {
   "cell_type": "code",
   "execution_count": 9,
   "id": "5bf9628d-0ff8-4554-800b-954e26c2342c",
   "metadata": {},
   "outputs": [
    {
     "data": {
      "text/plain": [
       "KNN(algorithm='auto', contamination=0.1, leaf_size=30, method='largest',\n",
       "  metric='minkowski', metric_params=None, n_jobs=1, n_neighbors=5, p=2,\n",
       "  radius=1.0)"
      ]
     },
     "execution_count": 9,
     "metadata": {},
     "output_type": "execute_result"
    }
   ],
   "source": [
    "# train kNN detector\n",
    "clf_name = 'KNN'\n",
    "clf = KNN()\n",
    "clf.fit(X_train)"
   ]
  },
  {
   "cell_type": "code",
   "execution_count": 10,
   "id": "8902b7a7-7b32-4cec-a84c-d98b8612fa0c",
   "metadata": {},
   "outputs": [],
   "source": [
    "# get the prediction labels and outlier scores of the training data\n",
    "y_train_pred = clf.labels_  # binary labels (0: 정상, 1: outliers)\n",
    "y_train_scores = clf.decision_scores_  # raw outlier scores"
   ]
  },
  {
   "cell_type": "markdown",
   "id": "8421e613-cba9-4c73-9be5-836d844b74a2",
   "metadata": {},
   "source": [
    "`y_train_scores`: 이상치 점수??"
   ]
  },
  {
   "cell_type": "code",
   "execution_count": 40,
   "id": "3f08d8c6-1351-4849-ab98-a2491ae66633",
   "metadata": {},
   "outputs": [
    {
     "data": {
      "text/plain": [
       "(0.03601946023018285, 0.24998172668719837)"
      ]
     },
     "execution_count": 40,
     "metadata": {},
     "output_type": "execute_result"
    }
   ],
   "source": [
    "y_train_scores[:-20].min(),y_train_scores[:-20].max()"
   ]
  },
  {
   "cell_type": "code",
   "execution_count": 41,
   "id": "114ddcf0-3298-40d4-9f70-6de6d31e0afa",
   "metadata": {},
   "outputs": [
    {
     "data": {
      "text/plain": [
       "(0.03601946023018285, 8.466808161375631)"
      ]
     },
     "execution_count": 41,
     "metadata": {},
     "output_type": "execute_result"
    }
   ],
   "source": [
    "y_train_scores[20:].min(),y_train_scores[20:].max()"
   ]
  },
  {
   "cell_type": "code",
   "execution_count": 42,
   "id": "3be34463-3a33-442a-8c55-29b691fc5e28",
   "metadata": {},
   "outputs": [
    {
     "data": {
      "text/plain": [
       "0.5931023147668829"
      ]
     },
     "execution_count": 42,
     "metadata": {},
     "output_type": "execute_result"
    }
   ],
   "source": [
    "y_train_scores.mean()"
   ]
  },
  {
   "cell_type": "code",
   "execution_count": 43,
   "id": "b459f2f8-94e6-4fd7-9036-67a7db653014",
   "metadata": {},
   "outputs": [],
   "source": [
    "# get the prediction on the test data\n",
    "y_test_pred = clf.predict(X_test)  # outlier labels (0 or 1)\n",
    "y_test_scores = clf.decision_function(X_test)  # outlier scores"
   ]
  },
  {
   "cell_type": "code",
   "execution_count": 45,
   "id": "fa6d8cad-6dba-4909-8838-f91370249731",
   "metadata": {},
   "outputs": [
    {
     "data": {
      "text/plain": [
       "array([0.07596833, 0.06548892, 0.14223096, 0.0648817 , 0.08110538,\n",
       "       0.13903062, 0.11933356, 0.27609564, 0.09592706, 0.05969897,\n",
       "       0.06526527, 0.09527875, 0.07843079, 0.08821147, 0.0924287 ,\n",
       "       0.08407862, 0.07033466, 0.10121348, 0.09240315, 0.43302089,\n",
       "       0.07744767, 0.1426861 , 0.29636614, 0.08425805, 0.05578242,\n",
       "       0.07997463, 0.08809574, 0.06809975, 0.08200669, 0.08880808,\n",
       "       0.05404722, 0.08670344, 0.08107308, 0.12695725, 0.0704535 ,\n",
       "       0.06346168, 0.2408697 , 0.08530777, 0.09865668, 0.05699742,\n",
       "       0.0780313 , 0.0866766 , 0.09087891, 0.099062  , 0.07658594,\n",
       "       0.09860119, 0.2906638 , 0.08477446, 0.07609735, 0.07462674,\n",
       "       0.09826173, 0.1055028 , 0.07987414, 0.09541904, 0.06132771,\n",
       "       0.09282978, 0.08194185, 0.08944105, 0.0713885 , 0.07585722,\n",
       "       0.17248325, 0.07529355, 0.10217926, 0.06461119, 0.14716992,\n",
       "       0.08988619, 0.10874821, 0.05922161, 0.04471455, 0.06937379,\n",
       "       0.04624921, 0.19937394, 0.06891198, 0.08756996, 0.16137735,\n",
       "       0.07415598, 0.0614872 , 0.09092217, 0.07894116, 0.05385523,\n",
       "       0.13888024, 0.0788762 , 0.06829848, 0.07961498, 0.07599857,\n",
       "       0.06711298, 0.10029468, 0.14032865, 0.09076495, 0.05387177,\n",
       "       4.88537294, 3.74136422, 5.5773931 , 2.87309984, 5.41316415,\n",
       "       3.44079515, 5.00541908, 5.51433559, 5.92532912, 3.13364191])"
      ]
     },
     "execution_count": 45,
     "metadata": {},
     "output_type": "execute_result"
    }
   ],
   "source": [
    "y_test_scores"
   ]
  },
  {
   "cell_type": "code",
   "execution_count": 46,
   "id": "c1a35313-2f62-408f-9354-d9e30ce1baa4",
   "metadata": {},
   "outputs": [],
   "source": [
    "\n",
    "# it is possible to get the prediction confidence as well\n",
    "y_test_pred, y_test_pred_confidence = clf.predict(X_test, return_confidence=True)  # outlier labels (0 or 1) and confidence in the range of [0,1]"
   ]
  },
  {
   "cell_type": "code",
   "execution_count": 48,
   "id": "7621b6b3-8b93-4093-8c8e-f53268d209d0",
   "metadata": {},
   "outputs": [
    {
     "data": {
      "text/plain": [
       "array([1.        , 1.        , 0.99999983, 1.        , 1.        ,\n",
       "       0.99999999, 1.        , 0.60678873, 1.        , 1.        ,\n",
       "       1.        , 1.        , 1.        , 1.        , 1.        ,\n",
       "       1.        , 1.        , 1.        , 1.        , 0.39321127,\n",
       "       1.        , 0.99999983, 0.60678873, 1.        , 1.        ,\n",
       "       1.        , 1.        , 1.        , 1.        , 1.        ,\n",
       "       1.        , 1.        , 1.        , 1.        , 1.        ,\n",
       "       1.        , 0.68999685, 1.        , 1.        , 1.        ,\n",
       "       1.        , 1.        , 1.        , 1.        , 1.        ,\n",
       "       1.        , 0.60678873, 1.        , 1.        , 1.        ,\n",
       "       1.        , 1.        , 1.        , 1.        , 1.        ,\n",
       "       1.        , 1.        , 1.        , 1.        , 1.        ,\n",
       "       0.99614096, 1.        , 1.        , 1.        , 0.99999827,\n",
       "       1.        , 1.        , 1.        , 1.        , 1.        ,\n",
       "       1.        , 0.97312173, 1.        , 1.        , 0.99960424,\n",
       "       1.        , 1.        , 1.        , 1.        , 1.        ,\n",
       "       0.99999999, 1.        , 1.        , 1.        , 1.        ,\n",
       "       1.        , 1.        , 0.99999997, 1.        , 1.        ,\n",
       "       0.99761967, 0.89191838, 0.99931468, 0.57868597, 0.99931468,\n",
       "       0.83211219, 0.99761967, 0.99931468, 0.99931468, 0.57868597])"
      ]
     },
     "execution_count": 48,
     "metadata": {},
     "output_type": "execute_result"
    }
   ],
   "source": [
    "y_test_pred_confidence"
   ]
  },
  {
   "cell_type": "code",
   "execution_count": 50,
   "id": "55deaec3-6267-4249-8ef5-ef6cca8ed24c",
   "metadata": {},
   "outputs": [
    {
     "name": "stdout",
     "output_type": "stream",
     "text": [
      "\n",
      "On Training Data:\n",
      "KNN ROC:1.0, precision @ rank n:1.0\n",
      "\n",
      "On Test Data:\n",
      "KNN ROC:1.0, precision @ rank n:1.0\n"
     ]
    }
   ],
   "source": [
    "\n",
    "# evaluate and print the results\n",
    "print(\"\\nOn Training Data:\")\n",
    "evaluate_print(clf_name, y_train, y_train_scores)\n",
    "print(\"\\nOn Test Data:\")\n",
    "evaluate_print(clf_name, y_test, y_test_scores)"
   ]
  },
  {
   "cell_type": "markdown",
   "id": "531466bb-6b6d-4e3d-a750-bbd1f7603355",
   "metadata": {},
   "source": [
    "- ROC값이 1인 경우 모델이 이상치 제대로 식별했음\n",
    "\n",
    "- rank n:1.0은 100% precision 값"
   ]
  },
  {
   "cell_type": "code",
   "execution_count": 54,
   "id": "516d01cc-1ace-4ed5-ae70-583a17ec436d",
   "metadata": {},
   "outputs": [
    {
     "data": {
      "image/png": "[encoded data removed]",
      "text/plain": [
       "<Figure size 1200x1000 with 4 Axes>"
      ]
     },
     "metadata": {},
     "output_type": "display_data"
    }
   ],
   "source": [
    "visualize(clf_name, X_train, y_train, X_test, y_test, y_train_pred,\n",
    "          y_test_pred, show_figure=True, save_figure=False)"
   ]
  },
  {
   "cell_type": "markdown",
   "id": "e5c5d818-a8f9-4c39-ac69-bd798fa308d8",
   "metadata": {},
   "source": [
    "# Model Combination Example"
   ]
  },
  {
   "cell_type": "markdown",
   "id": "0f22e414-8047-49da-858e-a0ed1b08e126",
   "metadata": {},
   "source": [
    "## import"
   ]
  },
  {
   "cell_type": "code",
   "execution_count": 57,
   "id": "9e2b3bec-1a67-4653-a121-829d83b4c353",
   "metadata": {},
   "outputs": [],
   "source": [
    "# pip install combo"
   ]
  },
  {
   "cell_type": "code",
   "execution_count": 73,
   "id": "5e18fc10-6d8f-4503-8904-713aa074b633",
   "metadata": {},
   "outputs": [],
   "source": [
    "import numpy as np\n",
    "from sklearn.model_selection import train_test_split\n",
    "from scipy.io import loadmat\n",
    "\n",
    "from pyod.models.knn import KNN\n",
    "from pyod.models.combination import aom, moa, average, maximization, median\n",
    "from pyod.utils.utility import standardizer\n",
    "from pyod.utils.data import generate_data\n",
    "from pyod.utils.data import evaluate_print"
   ]
  },
  {
   "cell_type": "markdown",
   "id": "ded3c4fb-01d0-4734-9669-0a9231f92c40",
   "metadata": {},
   "source": [
    "## data"
   ]
  },
  {
   "cell_type": "code",
   "execution_count": 59,
   "id": "13965f64-046d-4fc2-a9cc-3998e5eea381",
   "metadata": {},
   "outputs": [],
   "source": [
    "X, y= generate_data(train_only=True)  # load data"
   ]
  },
  {
   "cell_type": "code",
   "execution_count": 63,
   "id": "3fe621f2-4485-4272-ad2b-a39833d7fc96",
   "metadata": {},
   "outputs": [
    {
     "data": {
      "text/plain": [
       "((1000, 2), (1000,))"
      ]
     },
     "execution_count": 63,
     "metadata": {},
     "output_type": "execute_result"
    }
   ],
   "source": [
    "X.shape, y.shape"
   ]
  },
  {
   "cell_type": "code",
   "execution_count": 74,
   "id": "f9faf5d4-66a5-40c5-9a87-44d2a1ec6e88",
   "metadata": {},
   "outputs": [],
   "source": [
    "X_train, X_test, y_train, y_test = train_test_split(X, y, test_size=0.4)"
   ]
  },
  {
   "cell_type": "code",
   "execution_count": 75,
   "id": "ea8d9549-09d2-4f08-9a2d-077a4398b708",
   "metadata": {},
   "outputs": [],
   "source": [
    " X_train_norm, X_test_norm = standardizer(X_train, X_test)"
   ]
  },
  {
   "cell_type": "code",
   "execution_count": 76,
   "id": "b2b4f3f0-b463-4d33-ac8e-8057b17940cc",
   "metadata": {},
   "outputs": [],
   "source": [
    "# initialize 20 base detectors for combination\n",
    "k_list = [10, 20, 30, 40, 50, 60, 70, 80, 90, 100, 110, 120, 130, 140,\n",
    "            150, 160, 170, 180, 190, 200]\n",
    "n_clf = len(k_list) # Number of classifiers being trained"
   ]
  },
  {
   "cell_type": "code",
   "execution_count": 77,
   "id": "ec5f14ef-59b7-44cb-8da8-372ad596f02f",
   "metadata": {},
   "outputs": [],
   "source": [
    "train_scores = np.zeros([X_train.shape[0], n_clf])\n",
    "test_scores = np.zeros([X_test.shape[0], n_clf])"
   ]
  },
  {
   "cell_type": "code",
   "execution_count": 78,
   "id": "3e5b69ed-1ad4-415b-8245-784e9bf421bd",
   "metadata": {},
   "outputs": [
    {
     "data": {
      "text/plain": [
       "(600, 400)"
      ]
     },
     "execution_count": 78,
     "metadata": {},
     "output_type": "execute_result"
    }
   ],
   "source": [
    "X_train.shape[0], X_test.shape[0]"
   ]
  },
  {
   "cell_type": "code",
   "execution_count": 79,
   "id": "0c991b0d-0759-4076-9821-5eb95ba6aa36",
   "metadata": {},
   "outputs": [],
   "source": [
    "for i in range(n_clf):\n",
    "    k = k_list[i]\n",
    "\n",
    "    clf = KNN(n_neighbors=k, method='largest')\n",
    "    clf.fit(X_train_norm)\n",
    "\n",
    "    train_scores[:, i] = clf.decision_scores_\n",
    "    test_scores[:, i] = clf.decision_function(X_test_norm)"
   ]
  },
  {
   "cell_type": "code",
   "execution_count": 81,
   "id": "d82804f7-eb11-41c9-a7e0-a85eb4a37a1d",
   "metadata": {},
   "outputs": [],
   "source": [
    " # Decision scores have to be normalized before combination\n",
    "train_scores_norm, test_scores_norm = standardizer(train_scores,test_scores)"
   ]
  },
  {
   "cell_type": "code",
   "execution_count": 86,
   "id": "12aada8c-05e2-4f3d-af11-8e63d9a3c3b9",
   "metadata": {},
   "outputs": [
    {
     "name": "stdout",
     "output_type": "stream",
     "text": [
      "Combination by Average ROC:1.0, precision @ rank n:1.0\n",
      "Combination by Maximization ROC:1.0, precision @ rank n:1.0\n",
      "Combination by Median ROC:1.0, precision @ rank n:1.0\n",
      "Combination by AOM ROC:1.0, precision @ rank n:1.0\n",
      "Combination by MOA ROC:1.0, precision @ rank n:1.0\n"
     ]
    }
   ],
   "source": [
    "# Combination by average\n",
    "y_by_average = average(test_scores_norm)\n",
    "evaluate_print('Combination by Average', y_test, y_by_average)\n",
    "\n",
    "# Combination by max\n",
    "y_by_maximization = maximization(test_scores_norm)\n",
    "evaluate_print('Combination by Maximization', y_test, y_by_maximization)\n",
    "\n",
    "# Combination by median\n",
    "y_by_median = median(test_scores_norm)\n",
    "evaluate_print('Combination by Median', y_test, y_by_median)\n",
    "\n",
    "# Combination by aom\n",
    "y_by_aom = aom(test_scores_norm, n_buckets=5)\n",
    "evaluate_print('Combination by AOM', y_test, y_by_aom)\n",
    "\n",
    "# Combination by moa\n",
    "y_by_moa = moa(test_scores_norm, n_buckets=5)\n",
    "evaluate_print('Combination by MOA', y_test, y_by_moa)"
   ]
  },
  {
   "cell_type": "code",
   "execution_count": null,
   "id": "1f4b77a4-8d44-4a6e-8bcd-a8c9063ef80c",
   "metadata": {},
   "outputs": [],
   "source": []
  }
 ],
 "metadata": {
  "kernelspec": {
   "display_name": "Python 3 (ipykernel)",
   "language": "python",
   "name": "python3"
  },
  "language_info": {
   "codemirror_mode": {
    "name": "ipython",
    "version": 3
   },
   "file_extension": ".py",
   "mimetype": "text/x-python",
   "name": "python",
   "nbconvert_exporter": "python",
   "pygments_lexer": "ipython3",
   "version": "3.8.18"
  }
 },
 "nbformat": 4,
 "nbformat_minor": 5
}
