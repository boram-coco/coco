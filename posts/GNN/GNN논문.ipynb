{
 "cells": [
  {
   "cell_type": "raw",
   "id": "c40d7dbc-f38f-4f9d-bd3e-d289dcbf8112",
   "metadata": {},
   "source": [
    "---\n",
    "title: \"[GNN] 논문 정리 (~ing)\"\n",
    "author: \"김보람\"\n",
    "date: \"07/18/2023\"\n",
    "categories:\n",
    "  - GNN\n",
    "---"
   ]
  },
  {
   "cell_type": "markdown",
   "id": "72e660ad-ed1c-4f30-8762-bda23f5d1718",
   "metadata": {},
   "source": [
    "# GNN으로 할 수 있는 것"
   ]
  },
  {
   "cell_type": "markdown",
   "id": "9ceb1b68-ffa0-42be-aab6-b3b979c4ac9d",
   "metadata": {},
   "source": [
    "1. Node Classification\n",
    "\n",
    "- Node embedding을 통해 점 분류 (인용 네트워크, Reddit게시물, Youtube동영상)\n",
    "\n",
    "2. Link Prediction\n",
    "\n",
    "- 그래프 점들 사이에 관계 파악 및 두 점 사이 연관성 예측\n",
    "\n",
    "3. Graph Classification\n",
    "\n",
    "- 그래프 전체 여러가지 카테고리로 분류"
   ]
  },
  {
   "cell_type": "markdown",
   "id": "ee52cd83-9073-4e23-a2fb-5af970ab0232",
   "metadata": {},
   "source": [
    "# GNN변천사"
   ]
  },
  {
   "cell_type": "markdown",
   "id": "1bae190c-4ac2-496c-b0a0-70df37ec3ecd",
   "metadata": {},
   "source": [
    "![](https://user-images.githubusercontent.com/37654013/106168836-12b7e480-61d2-11eb-8997-178df3effcac.png)"
   ]
  },
  {
   "cell_type": "markdown",
   "id": "a0e22872-6b22-40bb-8b41-d7cac5035a56",
   "metadata": {},
   "source": [
    "출처: https://tootouch.github.io/research/gnn_summary/\n",
    "\n",
    "https://arxiv.org/pdf/1901.00596.pdf"
   ]
  },
  {
   "cell_type": "markdown",
   "id": "8017d6cd-acc4-4c26-8967-987cb50feb12",
   "metadata": {},
   "source": [
    "# GCN"
   ]
  },
  {
   "cell_type": "markdown",
   "id": "2dab1f44-cdf5-4540-a74a-8ae149c27dff",
   "metadata": {},
   "source": [
    "## REF"
   ]
  },
  {
   "cell_type": "markdown",
   "id": "ed541e8d-a596-4220-b156-a71ccd81eb87",
   "metadata": {},
   "source": [
    "https://wonbae.github.io/2021-02-26-Graph9-GNN/\n",
    "\n",
    "https://thejb.ai/comprehensive-gnns-3/ $\\star$\n",
    "\n",
    "https://github.com/heartcored98/Standalone-DeepLearning/tree/master\n",
    "\n",
    "https://ahjeong.tistory.com/15"
   ]
  },
  {
   "cell_type": "markdown",
   "id": "dee83361-23bd-48d9-87d4-bc3ba14ec283",
   "metadata": {},
   "source": [
    "## 논문 종류"
   ]
  },
  {
   "cell_type": "markdown",
   "id": "da2afcc4-0914-44e8-b2e0-a834a13165ca",
   "metadata": {},
   "source": [
    "1. Recurrent Graph Neural Network\n",
    "\n",
    "2. Spatial Convolutional Network\n",
    "\n",
    "3. Spectral Convolutional Network"
   ]
  },
  {
   "cell_type": "code",
   "execution_count": null,
   "id": "914d111c-ff23-4614-9ef8-1c3e818bc207",
   "metadata": {},
   "outputs": [],
   "source": []
  },
  {
   "cell_type": "markdown",
   "id": "6e6f6e9c-3964-4209-9656-be91069716c8",
   "metadata": {},
   "source": [
    "# GCN변천사"
   ]
  },
  {
   "cell_type": "markdown",
   "id": "417e9d65-a3b3-482a-8c9a-110d337d4a66",
   "metadata": {},
   "source": [
    "![](https://img1.daumcdn.net/thumb/R1280x0/?scode=mtistory2&fname=https%3A%2F%2Fblog.kakaocdn.net%2Fdn%2FBzLds%2Fbtrb5oPQ2DJ%2FD8J6eldKhzBJX97LXANkxk%2Fimg.jpg)"
   ]
  },
  {
   "cell_type": "markdown",
   "id": "2d4e3452-9f30-4864-8963-69aa46f878a4",
   "metadata": {},
   "source": [
    "# 1"
   ]
  },
  {
   "cell_type": "markdown",
   "id": "3f15db82-61cb-4ff3-a698-dbde7105c0e7",
   "metadata": {
    "jp-MarkdownHeadingCollapsed": true,
    "tags": []
   },
   "source": [
    "## 1-1"
   ]
  },
  {
   "cell_type": "markdown",
   "id": "75e5560a-99df-4690-91f9-8c251ba80269",
   "metadata": {},
   "source": [
    "https://arxiv.org/ftp/arxiv/papers/1812/1812.08434.pdf"
   ]
  },
  {
   "cell_type": "markdown",
   "id": "94672c5a-0aae-4988-a584-d97e10a440c5",
   "metadata": {},
   "source": [
    "Propagation Modeule - Recurrent Operator - Convergence - GNN"
   ]
  },
  {
   "cell_type": "markdown",
   "id": "db3d0313-ebbb-461d-b1ec-2a05071372c9",
   "metadata": {},
   "source": [
    "Graph neural networks: A review of methods and applications"
   ]
  },
  {
   "cell_type": "markdown",
   "id": "8b8c9712-427b-447b-9a93-f7c5e78df2be",
   "metadata": {},
   "source": [
    "- popular platforms for graph computing\n",
    "|Platform|Link|Reference|\n",
    "|---|---|---|\n",
    "|PyTorch Geometric |https://github.com/rusty1s/pytorch_geometric| Fey and Lenssen (2019)|\n",
    "|Deep Graph Library |https://github.com/dmlc/dgl |Wang et al. (2019b)|\n",
    "|AliGraph |https://github.com/alibaba/aligraph |Zhu et al. (2019a)|\n",
    "|GraphVite |https://github.com/DeepGraphLearning/graphvite |Zhu et al. (2019b)|\n",
    "|Paddle Graph Learning |https://github.com/PaddlePaddle/PGL||\n",
    "|Euler |https://github.com/alibaba/euler||\n",
    "|Plato |https://github.com/tencent/plato||\n",
    "|CogDL |https://github.com/THUDM/cogdl/||\n",
    "|OpenNE h|ttps://github.com/thunlp/OpenNE/tree/pytorch||"
   ]
  },
  {
   "cell_type": "code",
   "execution_count": null,
   "id": "75949d96-b59a-4531-9599-76e86cadf94e",
   "metadata": {},
   "outputs": [],
   "source": []
  },
  {
   "cell_type": "code",
   "execution_count": null,
   "id": "a3ebb7d6-79fb-4d47-8340-c40ffa4b4c15",
   "metadata": {},
   "outputs": [],
   "source": []
  },
  {
   "cell_type": "markdown",
   "id": "d8455229-7221-41b5-a8ff-62ec974aa70a",
   "metadata": {
    "jp-MarkdownHeadingCollapsed": true,
    "tags": []
   },
   "source": [
    "## 1-2"
   ]
  },
  {
   "cell_type": "code",
   "execution_count": null,
   "id": "f4e7cf2e-59f1-4305-b0e9-c9a04d102dcf",
   "metadata": {},
   "outputs": [],
   "source": []
  },
  {
   "cell_type": "markdown",
   "id": "5a88a1ef-7c41-4c6d-9dd4-44cfe0b73ea6",
   "metadata": {},
   "source": [
    "https://ieeexplore.ieee.org/document/4700287"
   ]
  },
  {
   "cell_type": "code",
   "execution_count": null,
   "id": "33c7d5b5-372f-4591-bb14-f4b7cebcf043",
   "metadata": {},
   "outputs": [],
   "source": [
    "@ARTICLE{4700287,\n",
    "  author={Scarselli, Franco and Gori, Marco and Tsoi, Ah Chung and Hagenbuchner, Markus and Monfardini, Gabriele},\n",
    "  journal={IEEE Transactions on Neural Networks}, \n",
    "  title={The Graph Neural Network Model}, \n",
    "  year={2009},\n",
    "  volume={20},\n",
    "  number={1},\n",
    "  pages={61-80},\n",
    "  doi={10.1109/TNN.2008.2005605}}\n"
   ]
  },
  {
   "cell_type": "code",
   "execution_count": null,
   "id": "59ddb6eb-f7bb-42f0-b5f5-095167aae6e8",
   "metadata": {},
   "outputs": [],
   "source": []
  },
  {
   "cell_type": "markdown",
   "id": "f4906201-f9e9-4150-8d94-202270804b48",
   "metadata": {
    "jp-MarkdownHeadingCollapsed": true,
    "tags": []
   },
   "source": [
    "# 2"
   ]
  },
  {
   "cell_type": "markdown",
   "id": "429967aa-d8de-44c5-b3ff-728862d11313",
   "metadata": {},
   "source": [
    "## 2-1"
   ]
  },
  {
   "cell_type": "markdown",
   "id": "d8fd2c9a-c64c-4ea2-b2b1-b66253641025",
   "metadata": {},
   "source": [
    "https://arxiv.org/abs/1609.02907"
   ]
  },
  {
   "cell_type": "markdown",
   "id": "306feac8-28c9-430d-8645-5f30f471da7e",
   "metadata": {},
   "source": [
    "'Semi-Supervised Classification with Graph Convolutional Networks’"
   ]
  },
  {
   "cell_type": "markdown",
   "id": "1690fb1e-51cb-450f-a53a-5a8a97accc7b",
   "metadata": {},
   "source": [
    "## 2-2"
   ]
  },
  {
   "cell_type": "code",
   "execution_count": null,
   "id": "53b7962e-bb55-479c-a202-2b911b5206ea",
   "metadata": {},
   "outputs": [],
   "source": []
  },
  {
   "cell_type": "code",
   "execution_count": null,
   "id": "8cf0ce45-a362-4b7d-bd67-67683688748f",
   "metadata": {},
   "outputs": [],
   "source": []
  },
  {
   "cell_type": "code",
   "execution_count": null,
   "id": "4b836af3-a7ca-497c-b04e-36703dd8f3cf",
   "metadata": {},
   "outputs": [],
   "source": []
  },
  {
   "cell_type": "code",
   "execution_count": null,
   "id": "75cef349-b240-4134-999f-f369fda7c5da",
   "metadata": {},
   "outputs": [],
   "source": []
  },
  {
   "cell_type": "markdown",
   "id": "3a692347-47e2-4d05-97ff-8dde95ea48dd",
   "metadata": {},
   "source": [
    "참고자료\n",
    "\n",
    "1. F. Scarselli, M. Gori, “The graph neural network model,” IEEE Transactions on Neural Networks, 2009\n",
    "- https://ieeexplore.ieee.org/stamp/stamp.jsp?arnumber=4700287\n",
    "\n",
    "\n",
    "2. Z. Wu, S. Pan, F. Chen, G. Long, C. Zhang, Philip S. Yu, “A Comprehensive Survey on Graph Neural Networks”, arXiv:1901.00596\n",
    "- https://ieeexplore.ieee.org/stamp/stamp.jsp?arnumber=9046288\n",
    "\n",
    "3. T. N. Kipf and M. Welling, “Semi-supervised classification with graph convolutional networks,” in Proc. of ICLR, 2017\n",
    "- https://arxiv.org/pdf/1609.02907.pdf%EF%BC%89\n",
    "\n",
    "4. J. Gilmer, S. S. Schoenholz, P. F. Riley, O. Vinyals, and G. E. Dahl, “Neural Message Passing for Quantum Chemistry”, in Proc. of ICML, 2017\n",
    "- http://proceedings.mlr.press/v70/gilmer17a/gilmer17a.pdf\n",
    "- 이건 화학적 분자구조를 뉴럴로 한거같은데,, 약간 참고자료용??\n",
    "\n",
    "5. D. Xu, Y. Zhu, C. B. Choy, and L. Fei-Fei, “Scene graph generation by iterative message passing,” in Proc. of CVPR, 2017\n",
    "- https://openaccess.thecvf.com/content_cvpr_2017/papers/Xu_Scene_Graph_Generation_CVPR_2017_paper.pdf\n",
    "- 시각적 기반이 되는 이미지 그래픽 구조\n",
    "- 입력 이미지로부터 구조화된 장면 표현하는 모델\n",
    "\n",
    "6. J. Johnson, A. Gupta, and L. Fei-Fei, “Image generation from scene graphs,” in Proc. of CVPR, 2018\n",
    "- 그래프 모델을 사용한 이미지 생성\n",
    "\n",
    "7. D. Teney, L. Liu and A. van den Hengel, “Graph-Structured Representations for Visual Question Answering”, in Proc. of CVPR, 2017\n",
    "\n",
    "8. B. Sanchez-Lengeling, J. N. Wei, B. K. Lee, R. C. Gerkin, A. Aspuru-Guzik, and A. B. Wiltschko, “Machine Learning for Scent: Learning Generalizable Perceptual Representations of Small Molecules”, arXiv: 1910.10685\n",
    "\n",
    "9. R. van den Berg, T. N. Kipf, and M. Welling, “Graph Convolutional Matrix Completion”, arXiv:1706.02263"
   ]
  },
  {
   "cell_type": "code",
   "execution_count": null,
   "id": "6e7c985c-1f14-473c-8e16-ba932c2d3444",
   "metadata": {},
   "outputs": [],
   "source": []
  },
  {
   "cell_type": "code",
   "execution_count": null,
   "id": "9474caf2-7eae-4933-838c-8e79d8f7638a",
   "metadata": {},
   "outputs": [],
   "source": []
  },
  {
   "cell_type": "code",
   "execution_count": null,
   "id": "94d5dea2-74c7-49bd-8271-995272bbd401",
   "metadata": {},
   "outputs": [],
   "source": []
  },
  {
   "cell_type": "markdown",
   "id": "964d6b62-e581-46a2-b8f7-1fe636d65252",
   "metadata": {},
   "source": [
    "Alet, Ferran, et al. \"Graph element networks: adaptive, structured computation and memory.\" International Conference on Machine Learning. PMLR, 2019.\n",
    "\n",
    "- spatial processes가 없는 공간"
   ]
  },
  {
   "cell_type": "markdown",
   "id": "47f57f00-ad24-4025-b797-b83a04576a63",
   "metadata": {},
   "source": [
    "Allamanis, Miltiadis, Marc Brockschmidt, and Mahmoud Khademi. \"Learning to represent programs with graphs.\" arXiv preprint arXiv:1711.00740 (2017)."
   ]
  },
  {
   "cell_type": "code",
   "execution_count": null,
   "id": "0849b124-1b0d-495f-8760-bbaa64a8bc07",
   "metadata": {},
   "outputs": [],
   "source": []
  },
  {
   "cell_type": "code",
   "execution_count": null,
   "id": "3e82d332-4e81-4d79-a899-ca10a49f24ff",
   "metadata": {},
   "outputs": [],
   "source": []
  },
  {
   "cell_type": "code",
   "execution_count": null,
   "id": "e4e3a916-946e-419a-8d3a-8cecc9e50752",
   "metadata": {},
   "outputs": [],
   "source": []
  },
  {
   "cell_type": "code",
   "execution_count": null,
   "id": "29442a1e-f714-4825-96b3-a32b418e7a81",
   "metadata": {},
   "outputs": [],
   "source": []
  },
  {
   "cell_type": "code",
   "execution_count": null,
   "id": "df96753e-00db-4573-82d9-ae91cad84996",
   "metadata": {},
   "outputs": [],
   "source": []
  },
  {
   "cell_type": "code",
   "execution_count": null,
   "id": "c2516235-d224-400a-b4c6-1c883c112e05",
   "metadata": {},
   "outputs": [],
   "source": []
  },
  {
   "cell_type": "markdown",
   "id": "e65fab87-e98b-4c7b-8788-14d42c2e77ff",
   "metadata": {},
   "source": [
    "# `그래프 신경망 입문 도서`(Introduction to Graph Neural Networks)\n",
    "\n",
    "- 지은이: 즈위안 리우, 지에 저우\n"
   ]
  },
  {
   "cell_type": "markdown",
   "id": "fe5541b6-5de5-405f-a83c-4c51a76695a2",
   "metadata": {},
   "source": [
    "## 1. 그래프 합성곱 네트워크"
   ]
  },
  {
   "cell_type": "markdown",
   "id": "63c6c725-734f-413f-bf40-a26f2f723143",
   "metadata": {},
   "source": [
    "\n",
    "\n",
    "### `(1)` 스펙트럼 방법(여러 가지 파동들의 집합)\n",
    "\n",
    "![](https://user-images.githubusercontent.com/37654013/106140805-98c43300-61b2-11eb-9393-4fa6f99e2f98.png)\n",
    "\n",
    "출처: https://tootouch.github.io/research/gnn_summary/\n",
    "\n",
    "#### `-` Spectral Convolutional Neural Network (Spectral CNN) 스펙트럼 네트워크\n",
    "\n",
    "(Denton, Emily L., et al. \"Exploiting linear structure within convolutional networks for efficient evaluation.\" Advances in neural information processing systems 27 (2014).)\n",
    "\n",
    "- 푸리에 영역에서 그래프 라플라시안의 고유 분해 계산\n",
    "\n",
    "$$x \\in {\\mathbb R}, \\theta \\in {\\mathbb R}^N, g_\\theta=diah(\\theta)$$\n",
    "\n",
    "$$g_\\theta \\times x = U_{g_\\theta}(\\wedge)U^Tx$$\n",
    "\n",
    "$$L=I_N-D^{-\\frac{1}{2}}AD^{-\\frac{1}{2}}=U \\wedge U^T$$\n",
    "\n",
    "U: L의 고유벡터로 이루어진 행렬, $\\wedge$: L의 고윳값으로 이뤄진 대각행렬"
   ]
  },
  {
   "cell_type": "markdown",
   "id": "a6101d34-7c57-46cf-9d45-987024cba87e",
   "metadata": {},
   "source": [
    "\n",
    "#### `-` Chebyshev Spectral Convolutional Neural Network(ChebNet)\n",
    "\n",
    "- [논문링크](https://proceedings.neurips.cc/paper_files/paper/2016/file/04df4d434d481c5bb723be1b6df1ee65-Paper.pdf)\n",
    "\n",
    "- 거리가 K이하인 범위를 다루는 합성곱을 사용해 합성곱 신경망을 정의함->라플라시안 고유벡터 전부 계산 안해도 된다.\n",
    "\n",
    " $$g_\\theta  = \\sum_{i=0}^K \\theta_i T_i(\\tilde \\wedge)$$\n",
    "\n",
    "- 체비쇼프 다항식 \n",
    "\n",
    "$T_k(x) = 2xT_{k-1}(x) - T_{k-2}(x)$\n",
    "\n",
    "$T_0(x)=1, T_1(x) = x$"
   ]
  },
  {
   "cell_type": "markdown",
   "id": "6a655282-663b-4b62-869c-f203716a6da8",
   "metadata": {},
   "source": [
    "\n",
    "\n",
    "#### `-` Graph Convolutional Network (GCN)\n",
    "\n",
    "- (https://arxiv.org/pdf/1706.02263.pdf)\n",
    "\n",
    "- https://arxiv.org/abs/1609.02907\n",
    "\n",
    "- ChebNet의 식에서 $K=1, \\lambda_{max}=2$로 근사\n",
    "\n",
    "$$g_\\theta' \\times x \\approx \\theta_0' x + \\theta_1'(L-I_N)x = \\theta_0' x - \\theta_1' D^{-\\frac{1}{2}}AD^{-\\frac{1}{2}}x$$\n",
    "\n",
    "- 위 식에서 $\\theta=\\theta_0' = -\\theta_1'$ 이라고 가정(오버피팅 방지)\n",
    "\n",
    "$$g_\\theta \\times x \\approx \\theta(I_N + D^{-\\frac{1}{2}}AD^{-\\frac{1}{2}})x$$"
   ]
  },
  {
   "cell_type": "markdown",
   "id": "5c3f1e2d-3147-45e1-b104-0467c3e78959",
   "metadata": {},
   "source": [
    "#### `-` AGCN\n",
    "\n",
    "- Li, Ruoyu, et al. \"Adaptive graph convolutional neural networks.\" Proceedings of the AAAI conference on artificial intelligence. Vol. 32. No. 1. 2018\n",
    "\n",
    "\n"
   ]
  },
  {
   "cell_type": "markdown",
   "id": "976ff2b7-d317-420c-9b71-b2f9e8363d79",
   "metadata": {},
   "source": [
    "### `(2)` 공간 방법\n",
    "\n",
    "- 공간적으로 가까운 이웃 노드에 직접 적용하는 합성곱 정의"
   ]
  },
  {
   "cell_type": "markdown",
   "id": "19f08d9b-ec8e-4edb-854b-7d1baa19c206",
   "metadata": {},
   "source": [
    "#### `-` 뉴럴 FPS"
   ]
  },
  {
   "cell_type": "markdown",
   "id": "9533811a-3083-4e88-a75e-64765c61ecdc",
   "metadata": {},
   "source": [
    "[논문:Convolutional Networks on Graphs\n",
    "for Learning Molecular Fingerprints](https://proceedings.neurips.cc/paper_files/paper/2015/file/f9be311e65d81a9ad8150a60844bb94c-Paper.pdf)"
   ]
  },
  {
   "cell_type": "markdown",
   "id": "1eb7e1ae-c9b1-44b0-ae9f-8c3ec62972b4",
   "metadata": {},
   "source": [
    "다른 차수의 노드에 다른 가중치 행렬 사용"
   ]
  },
  {
   "cell_type": "markdown",
   "id": "7638d0ca-7cbc-4603-8277-d6a1f5347036",
   "metadata": {},
   "source": [
    "$$x=h_v^{t-1} + \\sum_{i=1}^{|N_v|}h_i^{t-1}$$\n",
    "\n",
    "$$h_v^t = \\sigma (x W_t^{|N_v|})$$"
   ]
  },
  {
   "cell_type": "markdown",
   "id": "f43eaa37-8b67-46d6-84d7-b2b5bd022756",
   "metadata": {},
   "source": [
    "$h_v^t$: t번째 층에서 노드 v의 임베딩\n",
    "\n",
    "$N_v$: 노드 v의 이웃 집합\n",
    "\n",
    "$W_t^{|N_v|}$: t번째 층에서 차수가 $|N_V|$인 노드의 가중치 행렬\n",
    "\n",
    "차수별로 다른 행렬을 사용하므로ㅗ 노드 차수가 많은 큰 규모의 그래프에서 사용할 수 없다."
   ]
  },
  {
   "cell_type": "markdown",
   "id": "abcdce9b-93a1-4a49-ae8e-01fd022c3f56",
   "metadata": {},
   "source": [
    "#### `-` PATCHY-SAN"
   ]
  },
  {
   "cell_type": "markdown",
   "id": "ec4af605-2665-4559-b85e-c01d9dfb6a66",
   "metadata": {},
   "source": [
    "[논문:Learning Convolutional Neural Networks for Graphs](http://proceedings.mlr.press/v48/niepert16.pdf)\n",
    "\n",
    "`1`. 노드 선택\n",
    "\n",
    "- 모든 노드에서 단계 진행하지 않고 그래프 레이블링 통해 노드의 순서를 정하고 그 순서를 기반으로 노드를 W개 선택\n",
    "\n",
    "`2`. 이웃 모으기\n",
    "\n",
    "- 각 단계에서 선택한 노드 각각을 기준으로 수용 영역을 만든다.\n",
    "\n",
    "- 너비 우선 선택(breadth-first search)을 통해 k개를 뽑는다.\n",
    "\n",
    "- 거리가 1인 노드를 고르고 부족하면 거리를 늘려서 가까운 노드 k개를 고른다.\n",
    "\n",
    "`3`. 그래프 정규화\n",
    "\n",
    "- 수용 영역에 있는 노드의 순서를 매겨서 순서가 있는 그래프 공간을 벡터 공간으로 바꾼다.\n",
    "\n",
    "- $\\star$ 구조적으로 비슷한 역할을 하는 노드는 다른 그래프에 있어도 비슷한 위치로 여긴다.\n",
    "\n",
    "`4`. 합성곱 구조\n",
    "\n",
    "-정규화된 이웃을 수용 영역으로 노드와 에지 속성을 채널로 한다.\n",
    "\n"
   ]
  },
  {
   "cell_type": "markdown",
   "id": "44a533dc-f66a-408e-97c2-0151f6ce3aa2",
   "metadata": {},
   "source": [
    "#### `-` Diffusion-Convolutional Neural Network(DCNN:확산 합성곱 신경망)"
   ]
  },
  {
   "cell_type": "markdown",
   "id": "2d041d74-77bc-47c7-9517-27fedf2f0670",
   "metadata": {},
   "source": [
    "[논문: Diffusion-Convolutional Neural Networks](https://proceedings.neurips.cc/paper_files/paper/2016/file/390e982518a50e280d8e2b535462ec1f-Paper.pdf)"
   ]
  },
  {
   "cell_type": "markdown",
   "id": "fc359215-da79-4947-85d8-6d02f212d297",
   "metadata": {},
   "source": [
    "추이행렬(transition matrix) 사용: 노드의 이웃 정의\n",
    "\n",
    "$P$: 그래프 인접행렬 A로부터 얻은 차수 정규화 추이행렬\n",
    "\n",
    "$P*$: 행렬 P의 거듭제곱근수 $\\{P, P^2, \\dots, P^K\\}$로 이뤄진 $N \\times K \\times N$(N은 노드수) 텐서"
   ]
  },
  {
   "cell_type": "markdown",
   "id": "1551345b-07aa-4114-9d46-22d7461adcf3",
   "metadata": {},
   "source": [
    "$$H=\\sigma(W^c \\odot P^*X)$$"
   ]
  },
  {
   "cell_type": "markdown",
   "id": "8cbb199a-0e61-47f7-8c4b-d92c3b25158d",
   "metadata": {},
   "source": [
    "$X$: $N \\times F$입력 특징 텐서"
   ]
  },
  {
   "cell_type": "markdown",
   "id": "0559e59a-3a24-4f79-aa4d-41a41ba92bff",
   "metadata": {},
   "source": [
    "$X$에 $P^*$를 곱해서 각 원소는 K홉 그래프 확산을 뜻하는 $K \\times F$ 행렬인 확산 합성곱 표현으로 바뀜\n"
   ]
  },
  {
   "cell_type": "code",
   "execution_count": null,
   "id": "cf19a971-33ca-4084-9119-750c9b369511",
   "metadata": {},
   "outputs": [],
   "source": []
  },
  {
   "cell_type": "markdown",
   "id": "1be4281a-3a85-4586-835b-a6de8a71c2c0",
   "metadata": {},
   "source": [
    "#### `-` DGCN"
   ]
  },
  {
   "cell_type": "markdown",
   "id": "fcd81bd6-cf35-4653-868b-2298d0a5a7e1",
   "metadata": {},
   "source": [
    "[논문: Dual Graph Convolutional Networks for Graph-Based Semi-Supervised Classification](https://dl.acm.org/doi/pdf/10.1145/3178876.3186116)"
   ]
  },
  {
   "cell_type": "markdown",
   "id": "bba63e6d-e1ef-403c-8060-cb6782334d1d",
   "metadata": {},
   "source": [
    "- 그래프의 부분 일관성과 전체 일관성 모두 고려\n",
    "\n",
    "- 합성곱 그래프 2개와 비지도 손실 함수 2개 사용"
   ]
  },
  {
   "cell_type": "markdown",
   "id": "19caea8e-c03a-48ce-9a84-0c4244b6392b",
   "metadata": {},
   "source": [
    "`-` 첫번째 합성곱 네트워트"
   ]
  },
  {
   "cell_type": "markdown",
   "id": "9f027da8-84dd-4dcd-b87d-621da3d13ad1",
   "metadata": {},
   "source": [
    "$$Z={\\tilde D}^{-\\frac{1}{2}}{\\tilde A}{\\tilde D}^{-\\frac{1}{2}}X \\Theta$$"
   ]
  },
  {
   "cell_type": "markdown",
   "id": "84a47ea4-b107-47e5-8cdb-2b01aba58af2",
   "metadata": {},
   "source": [
    "$\\tilde A= A+I_N$\n",
    "\n",
    "C: 입력 채널 수\n",
    "\n",
    "$X \\in {\\mathbb R}^{N \\times C}$: 신호\n",
    "\n",
    "$\\Theta \\in {\\mathbb R}^{C \\times F}$: 필터 파라미터 행렬\n",
    "\n",
    "$Z \\in {\\mathbb R}^{N \\times C}$: 합성곱 적용한 신호 행렬"
   ]
  },
  {
   "cell_type": "markdown",
   "id": "e7d8e970-f6f6-4df4-bc5b-b371f8a37f19",
   "metadata": {},
   "source": [
    "- 가까운 노드는 비슷한 레이블을 가질 가능성이 높다는 것을 의미하는 부분 일관성: $\\text{Conv}_A$"
   ]
  },
  {
   "cell_type": "markdown",
   "id": "e1f0d93d-af70-45b9-8527-43e2a8f50cd0",
   "metadata": {},
   "source": [
    "`-` 두번째 합성곱 네트워크"
   ]
  },
  {
   "cell_type": "markdown",
   "id": "ec68967a-93a7-427d-9bdc-125b793e7b02",
   "metadata": {},
   "source": [
    "- 인접행렬 대신 양의 점별 상호 정보(PPMI:Positive Pointwise Mutual Information) 행렬"
   ]
  },
  {
   "cell_type": "markdown",
   "id": "07dbeca6-f859-49b8-ac7a-2024c2976780",
   "metadata": {},
   "source": [
    "$$H'=\\sigma(D^{-\\frac{1}{2}}_P X_P D_P^{-\\frac{1}{2}} H \\Theta)$$"
   ]
  },
  {
   "cell_type": "markdown",
   "id": "f28733dd-109c-4758-b4cf-6bf12d55c734",
   "metadata": {},
   "source": [
    "$X_P$: PPMI행렬\n",
    "\n",
    "$D_P$: $X_P$의 대각행렬"
   ]
  },
  {
   "cell_type": "markdown",
   "id": "e8969117-b33d-4f26-9a2b-e4592cfc0a96",
   "metadata": {},
   "source": [
    "- 비슷한 내용을 가진 노드는 비슷한 레이블을 가질 가능성이 높다는 것을 의미하는 전체 일관성: $\\text{Conv}_P$"
   ]
  },
  {
   "cell_type": "markdown",
   "id": "58573ea7-aa2a-4c95-86c2-3de5f731cc62",
   "metadata": {},
   "source": [
    "`-` 손실 함수1"
   ]
  },
  {
   "cell_type": "markdown",
   "id": "1d99ad12-9001-4bff-ae88-0841138e379e",
   "metadata": {},
   "source": [
    "$$L=L_0(\\text{Conv}_A)+\\lambda(t)L_{reg}(\\text{Conv}_A,\\text{Conv}_P)$$"
   ]
  },
  {
   "cell_type": "markdown",
   "id": "be470835-a1d3-4dea-b2c7-0f2e561c7f35",
   "metadata": {},
   "source": [
    "$\\lambda(t)$: 두 손실 함수의 중요성 조절하는 가중치"
   ]
  },
  {
   "cell_type": "markdown",
   "id": "b7207d46-9578-41f4-aac1-15a8434dbd33",
   "metadata": {},
   "source": [
    "$L_0(\\text{Conv}_A)$: 주어진 노드 레이블에 대한 지도 손실 함수"
   ]
  },
  {
   "cell_type": "markdown",
   "id": "f030d3c0-feb8-4664-8d93-9d2a75e1c06b",
   "metadata": {},
   "source": [
    "- 크로스 엔트로피 에러를 사용해 $L_0(\\text{Conv}_A)$ 계산"
   ]
  },
  {
   "cell_type": "markdown",
   "id": "4b726667-b3b9-4493-b93d-cc086efb1c8d",
   "metadata": {},
   "source": [
    "$$L_0(\\text{Conv}_A)= -\\frac{1}{|y_L|} \\sum_{l \\in y_L} \\sum_{i=1}^c Y_{l,i} ln(\\hat Z_{l,i}^A)$$"
   ]
  },
  {
   "cell_type": "markdown",
   "id": "d3f2380d-145b-4724-af4c-3a3ab7e00d28",
   "metadata": {},
   "source": [
    "$y_L$: 학습 데이터의 인덱스 집합\n",
    "\n",
    "$Y$: 정답값"
   ]
  },
  {
   "cell_type": "markdown",
   "id": "83aa41f9-05b8-4397-9b6a-bbe8a789726f",
   "metadata": {},
   "source": [
    "`-` 손실 함수2"
   ]
  },
  {
   "cell_type": "markdown",
   "id": "cfdfd4ca-13f6-4445-bb6c-2a99d4bc2b38",
   "metadata": {},
   "source": [
    "$$L_{reg}(\\text{Conv}_A, \\text{Conv}_P) = \\frac{1}{n} \\sum_{i=1}^n ||\\hat Z_{i,:}^P - \\hat Z_{i,:}^A||^2$$"
   ]
  },
  {
   "cell_type": "markdown",
   "id": "368314df-cb41-4d43-bd36-b5b7d5463b71",
   "metadata": {},
   "source": [
    "`-` 모델 구조"
   ]
  },
  {
   "cell_type": "markdown",
   "id": "aa7dcc95-9637-49ff-abf0-f553e17073ae",
   "metadata": {},
   "source": [
    "![](DGCN.png)"
   ]
  },
  {
   "cell_type": "markdown",
   "id": "b93177bf-69fd-436e-ba25-b5150d136ad9",
   "metadata": {},
   "source": [
    "#### `-` LGCN"
   ]
  },
  {
   "cell_type": "markdown",
   "id": "13e0b7da-65f0-4d18-8a3b-224fe7663a7c",
   "metadata": {},
   "source": [
    "[논문:Large-Scale Learnable Graph Convolutional Networks ](https://dl.acm.org/doi/pdf/10.1145/3219819.3219947)"
   ]
  },
  {
   "cell_type": "markdown",
   "id": "7dcf8abd-7155-4686-be6a-6f0bc44d88c0",
   "metadata": {},
   "source": [
    "Learnable Graph Convolutional Network: 학습 가능한 그래프 합성곱 네트워크\n",
    "\n",
    "https://github.com/HongyangGao/LGCN"
   ]
  },
  {
   "cell_type": "markdown",
   "id": "a9ea8361-d4fd-4e91-ab48-a7f3aaa6b6f4",
   "metadata": {},
   "source": [
    ":학습 가능한 그래프 합성곱 층(LGCL:Learnable Graph Convolutional Layer)+부분 그래프 합성 전략"
   ]
  },
  {
   "cell_type": "markdown",
   "id": "7bf76b30-9c38-4deb-b184-ed77d10172fc",
   "metadata": {},
   "source": [
    "`-` LGCL"
   ]
  },
  {
   "cell_type": "markdown",
   "id": "b50d1c0e-113c-45bc-8fe8-be9279e3043d",
   "metadata": {},
   "source": [
    "- 관련 높은 k개의 특징 요소를 얻기 위해서 노드의 이웃 행렬에 최대 풀링을 적용 후 1차원 CNN을 적용해 은닉 표현 계산\n",
    "\n",
    "- 전파단계\n",
    "\n",
    "$$\\hat H_t = g(H_t, A, k)$$\n",
    "\n",
    "$$H_{t+1}=c (\\hat H_t)$$"
   ]
  },
  {
   "cell_type": "markdown",
   "id": "a119cc58-ab70-4fe6-bcd0-6322bb9a5da4",
   "metadata": {},
   "source": [
    "$A$: 인접행렬\n",
    "\n",
    "$g()$: 가장 큰 노드 k개 뽑는 연산\n",
    "\n",
    "$c()$: 일반적인 1차원 CNN\n",
    "\n"
   ]
  },
  {
   "cell_type": "markdown",
   "id": "9dda8688-2d28-4a4e-85cd-b8f203c8abbb",
   "metadata": {},
   "source": [
    "`-` 예시"
   ]
  },
  {
   "cell_type": "markdown",
   "id": "75ebfcbe-5344-46d0-8730-2c865e0b6767",
   "metadata": {},
   "source": [
    "![](https://www.researchgate.net/publication/359777536/figure/fig4/AS:11431281079634578@1660789319446/An-example-of-the-learnable-graph-convolutional-layer-LGCL-Here-is-a-center-node.png)"
   ]
  },
  {
   "cell_type": "code",
   "execution_count": null,
   "id": "e226ee91-6865-4b82-90cb-0f8a64332394",
   "metadata": {},
   "outputs": [],
   "source": []
  },
  {
   "cell_type": "markdown",
   "id": "3ad32e1b-bbba-4f53-9830-e137431c5ea2",
   "metadata": {},
   "source": [
    "??? 예시를 봐도 잘 모르겠다.. "
   ]
  },
  {
   "cell_type": "markdown",
   "id": "978c83b2-30b4-4148-95b1-f681dcf7e2a6",
   "metadata": {},
   "source": [
    "#### `-` MoNET"
   ]
  },
  {
   "cell_type": "markdown",
   "id": "82b2910b-434c-46ee-b163-f84d7ba5eb85",
   "metadata": {},
   "source": [
    "[논문:Geometric deep learning on graphs and manifolds using mixture model CNNs](https://openaccess.thecvf.com/content_cvpr_2017/papers/Monti_Geometric_Deep_Learning_CVPR_2017_paper.pdf)"
   ]
  },
  {
   "cell_type": "markdown",
   "id": "40f590e9-c59e-4dd7-adaa-fcd607bc9d18",
   "metadata": {},
   "source": [
    ": 과거 결과들을 일반화하는 모델"
   ]
  },
  {
   "cell_type": "markdown",
   "id": "ccf39d3a-5052-4c14-b1d0-487f115e3497",
   "metadata": {},
   "source": [
    "`-` 예시\n",
    "\n",
    "- GCNN(geodesic CNN)\n",
    "\n",
    "- ACNN(anisotropic CNN)\n",
    "\n",
    "- GCN\n",
    "\n",
    "- DCNN"
   ]
  },
  {
   "cell_type": "markdown",
   "id": "2ca0d352-4af8-426d-b16a-8e3c1c7fb196",
   "metadata": {},
   "source": [
    "`-` 가중치 함수\n",
    "\n",
    "$$D_j(x)f = \\sum_{y \\in N_x} w_j(u(x,y))f(y)$$"
   ]
  },
  {
   "cell_type": "markdown",
   "id": "107d04a7-793c-4000-b361-67b07ca6bb34",
   "metadata": {},
   "source": [
    "노드와 이웃 간의 가짜 좌표 $u(x,y)$를 계사나고 이를 이용해 가중치 함수를 정의한다."
   ]
  },
  {
   "cell_type": "markdown",
   "id": "82c9df4a-e4e1-4f58-9ecf-f9461a94d79d",
   "metadata": {},
   "source": [
    "노드의 이웃에 각각 가중치를 두는 방법"
   ]
  },
  {
   "cell_type": "markdown",
   "id": "1eaebc81-b0f6-4910-bb82-c89e12375b42",
   "metadata": {},
   "source": [
    "$u$와 $w(u)$를 어떻게 정의하는지에 따라 모델을 정의할 수 있다."
   ]
  },
  {
   "cell_type": "code",
   "execution_count": null,
   "id": "b17d3657-de14-42cd-b50b-069a4990a37b",
   "metadata": {},
   "outputs": [],
   "source": []
  },
  {
   "cell_type": "markdown",
   "id": "092ee588-5568-46fd-a79c-74cb51ca071a",
   "metadata": {},
   "source": [
    "#### `-` GraphSAGE"
   ]
  },
  {
   "cell_type": "markdown",
   "id": "47de1b6e-a5b6-4416-8167-515e6a83c07d",
   "metadata": {},
   "source": [
    "[논문:Representation learning on graphs: Methods and applications](https://arxiv.org/pdf/1709.05584.pdf)\n",
    "\n",
    "[논문:Inductive representation learning on large graphs](https://proceedings.neurips.cc/paper/2017/file/5dd9db5e033da9c6fb5ba83c7a7ebea9-Paper.pdf)"
   ]
  },
  {
   "cell_type": "markdown",
   "id": "4373dc24-f1c5-4234-b110-f0a1c227d6ae",
   "metadata": {},
   "source": [
    "근처에 있는 노드의 특징을 샘플링하고 모아서 임베딩 계산"
   ]
  },
  {
   "cell_type": "markdown",
   "id": "ae2b9ebb-b9c6-42fa-afba-60be320044a3",
   "metadata": {},
   "source": [
    "`-` 전파 단계\n",
    "\n",
    "$$h_{N_v}^t = \\text{AGGREGATE}_t(\\{h_u^{t-1}, \\forall u \\in N_v \\})$$\n",
    "\n",
    "$$h_v^t = \\sigma(W^t \\cdot [h_v^{t-1}||h_{N_v}^t])$$"
   ]
  },
  {
   "cell_type": "markdown",
   "id": "1a66402d-a701-46aa-8f00-de848d88f050",
   "metadata": {},
   "source": [
    "이웃 노드를 모두 사용하지 않고 정해진 개수만 골고루 샘플링"
   ]
  },
  {
   "cell_type": "code",
   "execution_count": null,
   "id": "9a5e51c9-8060-4ff3-932d-0eded8d6328c",
   "metadata": {},
   "outputs": [],
   "source": []
  },
  {
   "cell_type": "code",
   "execution_count": null,
   "id": "bf1a7797-c485-4070-924b-8186e13e3408",
   "metadata": {},
   "outputs": [],
   "source": []
  },
  {
   "cell_type": "markdown",
   "id": "830c0eb1-5bf4-46a5-b755-5faca15b785b",
   "metadata": {},
   "source": [
    "# GRN"
   ]
  },
  {
   "cell_type": "markdown",
   "id": "16f74457-c12b-4166-af83-ff711a8991ef",
   "metadata": {},
   "source": [
    "## Gated Graph Neural Network(GGNN:게이트 그래프 신경망)"
   ]
  },
  {
   "cell_type": "markdown",
   "id": "fb7ed71d-5d6a-411a-bf51-eb9a5d5abe99",
   "metadata": {},
   "source": [
    "[논문:Gated graph sequence neural networks](https://arxiv.org/pdf/1511.05493.pdf)\n",
    "\n",
    "https://www.cs.toronto.edu/~yujiali/files/talks/iclr16_ggnn_talk.pdf\n",
    "\n",
    "https://github.com/chingyaoc/ggnn.pytorch\n",
    "\n",
    "https://katefvision.github.io/LanguageGrounding/Slides/27.pdf"
   ]
  },
  {
   "cell_type": "markdown",
   "id": "d7f0a60a-091a-4fb9-aea6-4b8f05e06403",
   "metadata": {},
   "source": [
    "정해진 횟수에 대한 순환 신경망을 풀고 시간을 통해 역전파해서 그레이디언트 계산"
   ]
  },
  {
   "cell_type": "markdown",
   "id": "133da5d4-c2d6-4dda-a18c-9aa8ed057cb4",
   "metadata": {},
   "source": [
    "Gated Graph Sequence Neural Network(GGS-NN)"
   ]
  },
  {
   "cell_type": "markdown",
   "id": "2dfaeae8-8fb0-4706-8893-72802d2d6218",
   "metadata": {},
   "source": [
    "## Tree-LSTM"
   ]
  },
  {
   "cell_type": "markdown",
   "id": "6bd9f4b2-174e-4b00-98c8-ac46a363ce69",
   "metadata": {},
   "source": [
    "[논문:Improved semantic representations from tree-structured long short-term memory networks](https://arxiv.org/pdf/1503.00075))"
   ]
  },
  {
   "cell_type": "markdown",
   "id": "97be022d-db45-414e-b121-e8c60fa354c0",
   "metadata": {},
   "source": [
    "### `1`. Child-Sum Tree-LSTM\n",
    "\n",
    "$\\tilde h_v^{t-1} = \\sum_{k \\in  N_v} h_k^{t-1}$\n",
    "\n",
    "입력 게이트 $i_v^t = \\sigma(W^ix_v^t + U^i {\\tilde h_v^{t-1}} + b^i)$\n",
    "\n",
    "망각 게이트 $f^t_{vk} = \\sigma(W^f x_v^t + U^fh_k^{t-1} + b^f)$\n",
    "\n",
    "출력 게이트 $o_v^t = \\sigma(W^ox_v^t + U^o {\\tilde h_v^{t-1}} + b^o)$\n",
    "\n",
    "$u_v^t = tanh(W^ux_v^t + U^u {\\tilde h_v^{t-1}} + b^u)$\n",
    "\n",
    "메모리 셀 $c_v^t = i_v^t \\bigodot u_v^t + \\sum_{k \\in N_v} f_{vk}^t \\bigodot c_k^{t-1}$\n",
    "\n",
    "은닉 상태 $h_v^t = o_v^t \\bigodot tahn(c_v^t)$"
   ]
  },
  {
   "cell_type": "markdown",
   "id": "4cc706af-c20d-45ec-9832-d2c5c0b43464",
   "metadata": {},
   "source": [
    "### `2`. N-ary Tree-LSTM\n",
    "\n",
    "- 트리의 각 노드 자식 수가 K보다 작고 자식들에게 1부터 K까지 순서를 매길 때 사용\n",
    "\n",
    "$i_v^t = \\sigma(W^i x_v^t + \\sum_{l=1}^K U_l^i h_{vl}^{t-1} + b^i)$\n",
    "\n",
    "$f_{vk}^t = \\sigma(W^f x_v^t + \\sum_{l=1}^K U_{kl}^f h_{bl}^{t-1} + b^f)$\n",
    "\n",
    "$o_v^t = \\sigma(W^o x_v^t + \\sum_{l=1}^K U_t^o h_{vt}^{t-1} + b^o)$\n",
    "\n",
    "$u_v^t = tanh(W^ux_v^t + \\sum_{l=1}^K U_l^u h_{vl}^{t-1} + b^u)$\n",
    "\n",
    "$c_v^t = i_v^t  \\bigodot u_v^t + \\sum_{l=1}^K f_{bl}^t \\bigodot c_{vl}^{t-1}$"
   ]
  },
  {
   "cell_type": "markdown",
   "id": "844ec396-a45c-4820-911a-a9636eef77db",
   "metadata": {},
   "source": [
    "## 그래프 LSTM"
   ]
  },
  {
   "cell_type": "markdown",
   "id": "ad03b01e-2490-46bb-afd6-2eedeff72d7b",
   "metadata": {},
   "source": [
    "## Sentence-LSTM(S-LSTM)"
   ]
  },
  {
   "cell_type": "markdown",
   "id": "4a6bf85f-e1b5-44fa-8eb1-8e123bdb974d",
   "metadata": {},
   "source": [
    "텍스트를 그래프로 변환하고 그래프 LSTM을 이용해 학습"
   ]
  },
  {
   "cell_type": "markdown",
   "id": "1304be7c-9620-4011-883f-b0f5ced51de3",
   "metadata": {},
   "source": [
    "[논문:Sentence-state LSTM for text representation](https://arxiv.org/pdf/1805.02474.pdf)"
   ]
  },
  {
   "cell_type": "markdown",
   "id": "35c992e4-6e97-4f91-b24a-757f42bed78b",
   "metadata": {},
   "source": [
    "음.. 이건 약간 자연어 처리 쪽.."
   ]
  },
  {
   "cell_type": "markdown",
   "id": "1b3ad1cc-135f-40a0-843f-a8f9b6a24991",
   "metadata": {},
   "source": [
    "# 그래프 어텐션 네트워크"
   ]
  },
  {
   "cell_type": "markdown",
   "id": "422d6be3-2043-42e4-8197-a27525afb87c",
   "metadata": {},
   "source": [
    "## GAT"
   ]
  },
  {
   "cell_type": "markdown",
   "id": "74388120-b596-4330-ad00-aa8797edc09c",
   "metadata": {},
   "source": [
    "[Graph Attention Networkx](https://personal.utdallas.edu/~fxc190007/courses/20S-7301/GAT-questions.pdf)"
   ]
  },
  {
   "cell_type": "code",
   "execution_count": null,
   "id": "98be634d-970c-4438-bf6b-442473d96119",
   "metadata": {},
   "outputs": [],
   "source": []
  },
  {
   "cell_type": "code",
   "execution_count": null,
   "id": "4c130869-08a2-44f9-add3-6d5bb799d70d",
   "metadata": {},
   "outputs": [],
   "source": []
  },
  {
   "cell_type": "code",
   "execution_count": null,
   "id": "543648f0-ab9e-4842-8b6c-8bcfee6d421e",
   "metadata": {},
   "outputs": [],
   "source": []
  },
  {
   "cell_type": "markdown",
   "id": "c3e46e56-67cb-408f-be5b-f28bbc23318b",
   "metadata": {},
   "source": [
    "## GaAN"
   ]
  },
  {
   "cell_type": "code",
   "execution_count": null,
   "id": "fba31224-13ed-4eff-bb15-ff9952577516",
   "metadata": {},
   "outputs": [],
   "source": []
  }
 ],
 "metadata": {
  "kernelspec": {
   "display_name": "Python 3 (ipykernel)",
   "language": "python",
   "name": "python3"
  },
  "language_info": {
   "codemirror_mode": {
    "name": "ipython",
    "version": 3
   },
   "file_extension": ".py",
   "mimetype": "text/x-python",
   "name": "python",
   "nbconvert_exporter": "python",
   "pygments_lexer": "ipython3",
   "version": "3.8.18"
  }
 },
 "nbformat": 4,
 "nbformat_minor": 5
}
