{
 "cells": [
  {
   "cell_type": "raw",
   "id": "58781170-a6f9-4325-9954-885249f1ce7e",
   "metadata": {},
   "source": [
    "---\n",
    "title: \"[GNN] pyogd examples\"\n",
    "author: \"김보람\"\n",
    "date: \"01/18/2024\"\n",
    "---"
   ]
  },
  {
   "cell_type": "code",
   "execution_count": 1,
   "id": "563eb995-4725-48bf-bc41-591068a9cdc9",
   "metadata": {},
   "outputs": [],
   "source": [
    "\n",
    "# import torch_geometric.transforms as T\n",
    "# from torch_geometric.datasets import Planetoid\n",
    "\n",
    "# data = Planetoid('./data/Cora', 'Cora', transform=T.NormalizeFeatures())[0]"
   ]
  },
  {
   "cell_type": "code",
   "execution_count": 2,
   "id": "d891bff8-9420-4931-97c6-31f99b61c620",
   "metadata": {},
   "outputs": [],
   "source": [
    "# import torch\n",
    "# from pygod.generator import gen_contextual_outlier, gen_structural_outlier"
   ]
  },
  {
   "cell_type": "markdown",
   "id": "8fdc9d6a-4558-4e65-a12a-87e6d463952a",
   "metadata": {},
   "source": [
    "# data"
   ]
  },
  {
   "cell_type": "code",
   "execution_count": 3,
   "id": "bc04b16b-192f-4864-9d8f-3472cc68e571",
   "metadata": {},
   "outputs": [],
   "source": [
    "\n",
    "# data, ya = gen_contextual_outlier(data, n=100, k=50)\n",
    "# data, ys = gen_structural_outlier(data, m=10, n=10)\n",
    "# data.y = torch.logical_or(ys, ya).long()"
   ]
  },
  {
   "cell_type": "code",
   "execution_count": 4,
   "id": "50c84bef-95e8-42ce-a8a1-10253d9d3e76",
   "metadata": {},
   "outputs": [],
   "source": [
    "# data"
   ]
  },
  {
   "cell_type": "code",
   "execution_count": 5,
   "id": "6d7ef352-4935-4f9d-89cc-b4dc4539abf1",
   "metadata": {},
   "outputs": [],
   "source": [
    "# from pygod.utils import load_data\n",
    "\n",
    "# data = load_data('inj_cora')\n",
    "# data.y = data.y.bool()"
   ]
  },
  {
   "cell_type": "code",
   "execution_count": 6,
   "id": "f0592644-e5d9-4397-a620-fa1065c2dbf2",
   "metadata": {},
   "outputs": [],
   "source": [
    "# data"
   ]
  },
  {
   "cell_type": "markdown",
   "id": "e78b1e46-231a-470b-8303-9d6f78966373",
   "metadata": {},
   "source": [
    "# Initialization"
   ]
  },
  {
   "cell_type": "code",
   "execution_count": 7,
   "id": "0891c7c4-d37e-4041-95c3-98be2001bf63",
   "metadata": {},
   "outputs": [],
   "source": [
    "# from pygod.detector import DOMINANT\n",
    "\n",
    "# detector = DOMINANT(hid_dim=64, num_layers=4, epoch=100)"
   ]
  },
  {
   "cell_type": "code",
   "execution_count": 8,
   "id": "72f938f0-8590-4119-9370-17a05a8af973",
   "metadata": {},
   "outputs": [],
   "source": [
    "# detector.fit(data)\n"
   ]
  },
  {
   "cell_type": "code",
   "execution_count": null,
   "id": "c0948ab5-adfd-44c2-a262-6dcc2c9d3119",
   "metadata": {},
   "outputs": [],
   "source": []
  },
  {
   "cell_type": "code",
   "execution_count": null,
   "id": "997b8fb0-fe81-47f9-ad71-e88d2d8c3272",
   "metadata": {},
   "outputs": [],
   "source": []
  }
 ],
 "metadata": {
  "kernelspec": {
   "display_name": "Python 3 (ipykernel)",
   "language": "python",
   "name": "python3"
  },
  "language_info": {
   "codemirror_mode": {
    "name": "ipython",
    "version": 3
   },
   "file_extension": ".py",
   "mimetype": "text/x-python",
   "name": "python",
   "nbconvert_exporter": "python",
   "pygments_lexer": "ipython3",
   "version": "3.11.7"
  }
 },
 "nbformat": 4,
 "nbformat_minor": 5
}
