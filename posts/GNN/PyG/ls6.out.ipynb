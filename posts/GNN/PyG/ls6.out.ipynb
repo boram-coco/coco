{
 "cells": [
  {
   "cell_type": "code",
   "execution_count": null,
   "id": "ca495ca0-b132-45de-9a66-9ad9710e7925",
   "metadata": {},
   "outputs": [],
   "source": []
  },
  {
   "cell_type": "raw",
   "id": "8ec9c1b7-5caf-4988-aed5-2823123fc3dc",
   "metadata": {},
   "source": [
    "---\n",
    "title: \"**[PyG]** lesson6: GCN\"\n",
    "author: \"신록예찬\"\n",
    "date: \"07/19/2023\"\n",
    "---"
   ]
  },
  {
   "cell_type": "markdown",
   "id": "d9642667-67a1-45a0-aefd-1b439bcccbe7",
   "metadata": {},
   "source": [
    "\n",
    "# ref\n",
    "\n",
    "Kipf and Welling (2016): <https://arxiv.org/abs/1609.02907>"
   ]
  },
  {
   "cell_type": "code",
   "execution_count": 1,
   "id": "ddd19a86-eccb-46b9-9421-3a20b08aeda2",
   "metadata": {},
   "outputs": [],
   "source": [
    "import torch\n",
    "import torch_geometric"
   ]
  },
  {
   "cell_type": "markdown",
   "id": "aadf2937-128b-4fbe-817f-bed8038e25f8",
   "metadata": {},
   "source": [
    "# layer-wise progagation rule\n",
    "\n",
    "Kipf and Welling (2016) use following layer-wise propagation rule:\n",
    "\n",
    "$$H^{(l+1)} = \\sigma\\big(\\tilde{D}^{-1/2}\\tilde{A}\\tilde{D}^{-1/2}H^{(l)}W^{(l)}\\big).$$\n",
    "\n",
    "Check followings:\n",
    "\n",
    "-   In Kipf and Welling (2016) research, they suppose ${\\cal G}$ as\n",
    "    undirected graph.\n",
    "-   $\\tilde{A}=A+I_{N}$.\n",
    "-   $\\tilde{D}_{ii}=\\sum_{j}\\tilde{A}_{ij}$.\n",
    "-   $W^{(l)}$ is a trainable weight matrix in $l$-th layer.\n",
    "-   $H^{(l)}$ is output of $l$-th layer; $H^{(0)}=X$.\n",
    "\n",
    "## 예제\n",
    "\n",
    "`-` data"
   ]
  },
  {
   "cell_type": "code",
   "execution_count": 2,
   "id": "81e0fdfb-89ac-4ca7-bd4b-a73ff85ba2a8",
   "metadata": {},
   "outputs": [
    {
     "data": {
      "text/plain": [
       "Data(x=[6, 1], edge_index=[2, 12], y=[6])"
      ]
     },
     "execution_count": 2,
     "metadata": {},
     "output_type": "execute_result"
    }
   ],
   "source": [
    "x = torch.tensor([[20],\n",
    "                  [21],\n",
    "                  [19],\n",
    "                  [1],\n",
    "                  [2],\n",
    "                  [1]], dtype=torch.float)\n",
    "\n",
    "edge_index = torch.tensor([[0, 1, 2, 0, 1, 2, 3, 4, 3, 5, 4, 5],\n",
    "                           [1, 0, 0, 2, 2, 1, 4, 3, 5, 3, 5, 4]], dtype=torch.long)\n",
    "\n",
    "y = torch.tensor([1,1,1,0,0,0], dtype=torch.int64)\n",
    "data = torch_geometric.data.Data(x=x, edge_index=edge_index, y=y) \n",
    "#data.train_mask = torch.tensor([True,False,True,True,False,True])\n",
    "#data.test_mask = torch.tensor([False,True,False,False,True,False])\n",
    "data"
   ]
  },
  {
   "cell_type": "markdown",
   "id": "4fbdf48f-5ad5-4659-993c-448ea2a1dd5f",
   "metadata": {},
   "source": [
    "> <span style=\"color:blue\"> x를 fraud데이터로 생각하면 거래량으로 보고 y를 사기여부로 보자."
   ]
  },
  {
   "cell_type": "markdown",
   "id": "3cc79729-4514-4768-a37f-3463ead11091",
   "metadata": {},
   "source": [
    "`-` GCNConv"
   ]
  },
  {
   "cell_type": "markdown",
   "id": "06635c2d-01f1-4518-b754-6f5ef38d4895",
   "metadata": {},
   "source": [
    "> <span style=\"color:blue\"> 논문에서 (8)식의 Z를 의미.."
   ]
  },
  {
   "cell_type": "code",
   "execution_count": 3,
   "id": "e3937830-f92b-47fd-b931-f34e677101d3",
   "metadata": {},
   "outputs": [
    {
     "data": {
      "text/plain": [
       "GCNConv(1, 4)"
      ]
     },
     "execution_count": 3,
     "metadata": {},
     "output_type": "execute_result"
    }
   ],
   "source": [
    "gconv = torch_geometric.nn.GCNConv(1,4)\n",
    "gconv"
   ]
  },
  {
   "cell_type": "code",
   "execution_count": 4,
   "id": "8bd29433-6870-44e8-99e0-a747a9e629e7",
   "metadata": {},
   "outputs": [
    {
     "data": {
      "text/plain": [
       "tensor([[12.2357, -7.3451, -6.1192, -4.1723],\n",
       "        [12.2357, -7.3451, -6.1192, -4.1723],\n",
       "        [12.2357, -7.3451, -6.1192, -4.1723],\n",
       "        [ 0.8157, -0.4897, -0.4079, -0.2782],\n",
       "        [ 0.8157, -0.4897, -0.4079, -0.2782],\n",
       "        [ 0.8157, -0.4897, -0.4079, -0.2782]], grad_fn=<AddBackward0>)"
      ]
     },
     "execution_count": 4,
     "metadata": {},
     "output_type": "execute_result"
    }
   ],
   "source": [
    "gconv(data.x, data.edge_index)"
   ]
  },
  {
   "cell_type": "markdown",
   "id": "7cd92897-b4d2-4e96-830f-7c19d5d636fc",
   "metadata": {},
   "source": [
    "> <span style=\"color:blue\"> 6X4의 피처, 위 값은 엣지가 비슷해서"
   ]
  },
  {
   "cell_type": "code",
   "execution_count": 6,
   "id": "c9737c0d-eb2b-4f99-a2d6-e7f3b09014ed",
   "metadata": {},
   "outputs": [
    {
     "data": {
      "text/plain": [
       "[Parameter containing:\n",
       " tensor([0., 0., 0., 0.], requires_grad=True),\n",
       " Parameter containing:\n",
       " tensor([[ 0.6118],\n",
       "         [-0.3673],\n",
       "         [-0.3060],\n",
       "         [-0.2086]], requires_grad=True)]"
      ]
     },
     "execution_count": 6,
     "metadata": {},
     "output_type": "execute_result"
    }
   ],
   "source": [
    "list(gconv.parameters())"
   ]
  },
  {
   "cell_type": "markdown",
   "id": "6b66174e-814b-4bd9-9e11-43b4f1d35a2c",
   "metadata": {},
   "source": [
    "> <span style=\"color:blue\"> Bias와 weight"
   ]
  },
  {
   "cell_type": "code",
   "execution_count": 7,
   "id": "da08b577-4c13-49c2-9480-698aefb9e359",
   "metadata": {},
   "outputs": [
    {
     "data": {
      "text/plain": [
       "Parameter containing:\n",
       "tensor([[ 0.6118],\n",
       "        [-0.3673],\n",
       "        [-0.3060],\n",
       "        [-0.2086]], requires_grad=True)"
      ]
     },
     "execution_count": 7,
     "metadata": {},
     "output_type": "execute_result"
    }
   ],
   "source": [
    "_,W = list(gconv.parameters())\n",
    "W"
   ]
  },
  {
   "cell_type": "code",
   "execution_count": 8,
   "id": "6c57b57e-ed85-43b3-b7c4-669921962b8c",
   "metadata": {},
   "outputs": [
    {
     "data": {
      "text/plain": [
       "tensor([[1., 1., 1., 0., 0., 0.],\n",
       "        [1., 1., 1., 0., 0., 0.],\n",
       "        [1., 1., 1., 0., 0., 0.],\n",
       "        [0., 0., 0., 1., 1., 1.],\n",
       "        [0., 0., 0., 1., 1., 1.],\n",
       "        [0., 0., 0., 1., 1., 1.]])"
      ]
     },
     "execution_count": 8,
     "metadata": {},
     "output_type": "execute_result"
    }
   ],
   "source": [
    "A = torch.tensor([[0., 1., 1., 0., 0., 0.],\n",
    "                  [1., 0., 1., 0., 0., 0.],\n",
    "                  [1., 1., 0., 0., 0., 0.],\n",
    "                  [0., 0., 0., 0., 1., 1.],\n",
    "                  [0., 0., 0., 1., 0., 1.],\n",
    "                  [0., 0., 0., 1., 1., 0.]])\n",
    "Atilde = A+torch.eye(6)\n",
    "Atilde"
   ]
  },
  {
   "cell_type": "code",
   "execution_count": null,
   "id": "a552435e-511b-470e-b674-37d791778dcc",
   "metadata": {},
   "outputs": [],
   "source": []
  },
  {
   "cell_type": "code",
   "execution_count": 9,
   "id": "30299ec8-e0f6-47f8-b68b-ae79b8e3cb60",
   "metadata": {},
   "outputs": [
    {
     "data": {
      "text/plain": [
       "(tensor([[12.2357, -7.3451, -6.1192, -4.1723],\n",
       "         [12.2357, -7.3451, -6.1192, -4.1723],\n",
       "         [12.2357, -7.3451, -6.1192, -4.1723],\n",
       "         [ 0.8157, -0.4897, -0.4079, -0.2782],\n",
       "         [ 0.8157, -0.4897, -0.4079, -0.2782],\n",
       "         [ 0.8157, -0.4897, -0.4079, -0.2782]], grad_fn=<DivBackward0>),\n",
       " tensor([[12.2357, -7.3451, -6.1192, -4.1723],\n",
       "         [12.2357, -7.3451, -6.1192, -4.1723],\n",
       "         [12.2357, -7.3451, -6.1192, -4.1723],\n",
       "         [ 0.8157, -0.4897, -0.4079, -0.2782],\n",
       "         [ 0.8157, -0.4897, -0.4079, -0.2782],\n",
       "         [ 0.8157, -0.4897, -0.4079, -0.2782]], grad_fn=<AddBackward0>))"
      ]
     },
     "execution_count": 9,
     "metadata": {},
     "output_type": "execute_result"
    }
   ],
   "source": [
    "Atilde@data.x@W.T/3, gconv(data.x,data.edge_index)"
   ]
  },
  {
   "cell_type": "markdown",
   "id": "c9045408-c4c1-458d-ba8c-ef7b692d6204",
   "metadata": {},
   "source": [
    "> <span style=\"color:blue\"> torch에서는 w를 transfo\n",
    "    \n",
    "> <span style=\"color:blue\"> 3으로 나눈 부분이 $\\tilde D^{-1/2} A \\tilde D^{-1/2} = \\tilde A /3$"
   ]
  },
  {
   "cell_type": "markdown",
   "id": "ee6f4c43-1a98-41b2-922e-365b9fa495c0",
   "metadata": {},
   "source": [
    "`-` 즉 아래의 수식에서\n",
    "\n",
    "$$H^{(l+1)} = \\sigma\\big(\\tilde{D}^{-1/2}\\tilde{A}\\tilde{D}^{-1/2}H^{(l)}W^{(l)}\\big).$$\n",
    "\n",
    "$\\tilde{D}^{-1/2}\\tilde{A}\\tilde{D}^{-1/2}H^{(l)}W^{(l)}$를 계산하는\n",
    "Layer가 `torch_geometric.nn.GCNConv()` 으로 구현되어있음.\n",
    "\n",
    "# Spectral graph convolutions (Section 2.1-2)\n",
    "\n",
    "`-` In this chapter, Kipf and Welling (2016) argues why the calculation\n",
    "\n",
    "$$H^{(l+1)} = \\sigma\\big(\\tilde{D}^{-1/2}\\tilde{A}\\tilde{D}^{-1/2}H^{(l)}W^{(l)}\\big).$$\n",
    "\n",
    "can be considered as graph convolution.\n",
    "\n",
    "`-` The properties of convolution operator $\\star$ in classical spectral\n",
    "analysis are as follows (3):\n",
    "\n",
    "$$g_{\\theta} \\star x = Ug_{\\theta}U^\\top x$$\n",
    "\n",
    "> <span style=\"color:blue\"> $g_{\\theta} \\star x = Conv(x)$라고 생각하자.\n",
    "    \n",
    "> <span style=\"color:blue\"> 위 식은 원래 있떤..    \n",
    "\n",
    "where $g_{\\theta}=\\text{diag}(\\theta)$ and $U$ is eigenvector matrix of\n",
    "$L=I-D^{-1/2}AD^{-1/2}$.\n",
    "\n",
    "> <span style=\"color:blue\"> L을 고유분해 하면 나오는 고유벡터 U\n",
    "    \n",
    "`-` Now let’s examine equation (7):\n",
    "\n",
    "$$g_{\\theta}\\star x \\approx \\theta \\big(I+D^{-1/2}AD^{-1/2}\\big)x. \\cdots (7)$$\n",
    "\n",
    "By expressing equation (7) matrix form, we get equation (8):\n",
    "\n",
    "$$Z = \\tilde{D}^{-1/2}\\tilde{A}\\tilde{D}^{-1/2}X \\Theta. \\cdots (8)$$\n",
    "\n",
    "This can be transfromed to\n",
    "\n",
    "$$H^{(l+1)} = \\sigma\\big(Z\\big)= \\sigma\\big(\\tilde{D}^{-1/2}\\tilde{A}\\tilde{D}^{-1/2}H^{(l)}W^{(l)}\\big).$$\n",
    "\n",
    "where we interpret $H^{(l)}$ as $X$ and $W^{(l)}$ as $\\Theta$.\n",
    "\n",
    "Kipf, Thomas N, and Max Welling. 2016. “Semi-Supervised Classification\n",
    "with Graph Convolutional Networks.” *arXiv Preprint arXiv:1609.02907*."
   ]
  },
  {
   "cell_type": "code",
   "execution_count": null,
   "id": "3140ad41-bea7-4a23-84b9-2c1498b5acb5",
   "metadata": {},
   "outputs": [],
   "source": []
  }
 ],
 "metadata": {
  "kernelspec": {
   "display_name": "Python 3 (ipykernel)",
   "language": "python",
   "name": "python3"
  },
  "language_info": {
   "codemirror_mode": {
    "name": "ipython",
    "version": 3
   },
   "file_extension": ".py",
   "mimetype": "text/x-python",
   "name": "python",
   "nbconvert_exporter": "python",
   "pygments_lexer": "ipython3",
   "version": "3.8.16"
  }
 },
 "nbformat": 4,
 "nbformat_minor": 5
}
