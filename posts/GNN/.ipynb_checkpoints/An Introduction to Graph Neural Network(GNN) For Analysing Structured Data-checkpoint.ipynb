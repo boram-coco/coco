{
 "cells": [
  {
   "cell_type": "raw",
   "id": "327531ec-e94f-4c07-b25c-63f6593dd765",
   "metadata": {},
   "source": [
    "---\n",
    "title: \"[GNN] An Introduction to Graph Neural Network(GNN) For Analysing Structured Data\"\n",
    "author: \"김보람\"\n",
    "date: \"06/02/2023\"\n",
    "categories:\n",
    "  - GNN\n",
    "---"
   ]
  },
  {
   "cell_type": "markdown",
   "id": "981785d9-32e4-4690-aeca-d97576ceda23",
   "metadata": {},
   "source": [
    "# ref"
   ]
  },
  {
   "cell_type": "markdown",
   "id": "115de042-ea30-4ba0-a3b6-1402a1a3d8d7",
   "metadata": {},
   "source": [
    "https://towardsdatascience.com/an-introduction-to-graph-neural-network-gnn-for-analysing-structured-data-afce79f4cfdc"
   ]
  },
  {
   "cell_type": "markdown",
   "id": "d2cc9676-6d97-4482-8820-15ab91fc270c",
   "metadata": {},
   "source": [
    "# GNN"
   ]
  },
  {
   "cell_type": "markdown",
   "id": "6cb742cd-665a-4a44-a926-74e1293c23b9",
   "metadata": {},
   "source": [
    "`-` GNN개념"
   ]
  },
  {
   "cell_type": "markdown",
   "id": "3ff95238-3b2a-4fa5-b06b-028d1a3c12f9",
   "metadata": {},
   "source": [
    "1. Recurrent Graph Neural Network (순환 그래프 신경망)\n",
    "2. Spatial Convolutional Network (공간 컨볼루션 네트워크)\n",
    "3. Spectral Convolutional Network (스펙트럼 컨볼루션 네트워크)"
   ]
  },
  {
   "cell_type": "markdown",
   "id": "8861a6b0-cd47-48e3-bffb-3c700eba9497",
   "metadata": {},
   "source": [
    "`-` GNN 분류"
   ]
  },
  {
   "cell_type": "markdown",
   "id": "006ed3b6-5742-4b08-a2e8-7edb856a9aa9",
   "metadata": {},
   "source": [
    "- 노드 분류: 그래프의 모든 노드에 대한 노드 임베딩 예측\n",
    "- 링크 예측: 그래프에서 개체 간의 관계를 이해하고 두 개체 사이에 연결이 있는지 예측\n",
    "- 그래프 분류: 전체 그래프를 다양한 카테고리로 분류 "
   ]
  },
  {
   "cell_type": "markdown",
   "id": "a33e1605-0258-466f-8e21-01632759f4f4",
   "metadata": {},
   "source": [
    "`-` GNN 사례"
   ]
  },
  {
   "cell_type": "markdown",
   "id": "9035c9ef-a3c6-4110-9460-30bca5ca54de",
   "metadata": {},
   "source": [
    "- 자연어 처리(NLP): 단어나 문서의 내부 관계 활용하여 카테고리 예측\n",
    "\n",
    "- 컴퓨터 비전(Computer Vision)"
   ]
  },
  {
   "cell_type": "code",
   "execution_count": null,
   "id": "e4e6dd59-433c-46e8-8592-260adbbc3191",
   "metadata": {},
   "outputs": [],
   "source": []
  },
  {
   "cell_type": "code",
   "execution_count": null,
   "id": "ba3f084d-919e-47a9-a7b2-3564e851fd77",
   "metadata": {},
   "outputs": [],
   "source": []
  },
  {
   "cell_type": "code",
   "execution_count": null,
   "id": "506a99c3-ccd2-45d4-baa0-a823458be48c",
   "metadata": {},
   "outputs": [],
   "source": []
  },
  {
   "cell_type": "markdown",
   "id": "c0db8204-1b5a-410d-b9e8-3bd7321f7b1b",
   "metadata": {},
   "source": [
    "# RecGNN"
   ]
  },
  {
   "cell_type": "markdown",
   "id": "46d5b625-bc92-4c11-9b46-b4efd3df6e2d",
   "metadata": {},
   "source": [
    "Let (X,d) be a complete metric space.\n",
    "\n",
    "Let (T:X→X) be a contraction mapping. \n",
    "\n",
    "Then T has a unique fixed point (x∗) and for any x∈X the sequence T_n(x) for n→∞ converges to (x∗). \n",
    "\n",
    "This means if I apply the mapping T on x for k times, x^k should be almost equal to x^(k-1)"
   ]
  },
  {
   "cell_type": "markdown",
   "id": "b1b72940-3bfc-486e-95b5-638622c6e75d",
   "metadata": {},
   "source": [
    "![](https://miro.medium.com/v2/resize:fit:640/format:webp/1*sdk_VhgQHQqZKz75kWYX_g.png)"
   ]
  },
  {
   "cell_type": "markdown",
   "id": "95d35b54-1776-4151-8ffa-26e02d6c9e6b",
   "metadata": {},
   "source": [
    "![](https://miro.medium.com/v2/resize:fit:640/format:webp/1*mSHmW58lfL2onzATerldpw.png)"
   ]
  },
  {
   "cell_type": "markdown",
   "id": "13eb4ca4-ff3b-48ed-a4fc-5826fc819c09",
   "metadata": {},
   "source": [
    "- $l_n$ 현재 노드의 특징\n",
    "\n",
    "- $l_{co}$ 노드의 에지\n",
    "\n",
    "- $x_{ne}$ 인접 노드의 상태\n",
    "\n",
    "- $l_{ne}$ 인접 노드의 특징(노드 레이블)"
   ]
  },
  {
   "cell_type": "markdown",
   "id": "52aaab35-9b3d-483a-a20e-b82331be2123",
   "metadata": {},
   "source": [
    "![이웃 노드의 정보를 기반으로 노드 상태 업데이트](https://miro.medium.com/v2/resize:fit:720/format:webp/1*vvPgUpwk17qHGRgUOkH1kQ.png)"
   ]
  },
  {
   "cell_type": "markdown",
   "id": "92678d44-ca54-41f0-9c75-bf20e79034ae",
   "metadata": {},
   "source": [
    "`-` 출력 함수"
   ]
  },
  {
   "cell_type": "markdown",
   "id": "3519230b-904c-4818-a59c-6aacabaac115",
   "metadata": {},
   "source": [
    "![](https://miro.medium.com/v2/resize:fit:560/format:webp/1*Vmo93eMtu9xLpUi8Ex3-Ow.png)"
   ]
  },
  {
   "cell_type": "markdown",
   "id": "f4cfd96b-e51e-4953-901d-2f757fa4d778",
   "metadata": {},
   "source": [
    "# Spatial Convolutional Network"
   ]
  },
  {
   "cell_type": "markdown",
   "id": "e9c36ea0-0257-4ff5-9f1c-d64126f6a037",
   "metadata": {},
   "source": [
    "- CNN과 유사(이미지에서 컨볼루션은 매개변수화된 크기와 학습이 가능한 가중치를 가진 필터로 지정된 중심 픽셀 주변의 인접 픽셀을 합산)\n",
    "\n",
    "- 공간 컨볼루션 네트워크는 인접 노드의 특징을 중심 노드에 합산하여 동일한 아이디어 채택"
   ]
  },
  {
   "cell_type": "markdown",
   "id": "1b5a07a5-4148-42b7-88a5-66762007b7dc",
   "metadata": {},
   "source": [
    "# Spectral Convolutional Network\n"
   ]
  },
  {
   "cell_type": "markdown",
   "id": "1a9a2bf8-efe9-4d6d-8c22-b96ccbefe00c",
   "metadata": {},
   "source": [
    "![](https://miro.medium.com/v2/resize:fit:640/format:webp/1*OMoUnN7C2UmFEXekBeTqLw.png)"
   ]
  },
  {
   "cell_type": "markdown",
   "id": "e05b9af4-2983-4821-a618-d0d6cc283164",
   "metadata": {},
   "source": [
    "- 체비셰프 다항식 근사법"
   ]
  },
  {
   "cell_type": "markdown",
   "id": "97196b1e-6969-492c-bf38-8e571c0b6fae",
   "metadata": {},
   "source": [
    "![](https://miro.medium.com/v2/resize:fit:720/format:webp/1*WkKAzrFJi9AFxj1hTgQgLw.png)"
   ]
  },
  {
   "cell_type": "markdown",
   "id": "bd594c94-35d8-4a2e-bc41-1f47c008b2ff",
   "metadata": {},
   "source": [
    "- 2계층 신경망 구조"
   ]
  },
  {
   "cell_type": "markdown",
   "id": "499e301e-1616-4221-a982-9131ab14c9c9",
   "metadata": {},
   "source": [
    "- $\\hat A$: 그래프 인접 행렬 A의 사전 처리된 라플라스 행렬"
   ]
  },
  {
   "cell_type": "markdown",
   "id": "dde8a61a-091f-4f05-99a2-c7a0aa8f8dd7",
   "metadata": {},
   "source": [
    "`-` 예시"
   ]
  },
  {
   "cell_type": "markdown",
   "id": "18c9c623-ceb9-435a-b619-8372908d4b27",
   "metadata": {},
   "source": [
    "![](https://miro.medium.com/v2/resize:fit:640/format:webp/1*Zgf5j2l_UJmpl8KXmsiw9w.png)"
   ]
  },
  {
   "cell_type": "markdown",
   "id": "372dfe5c-61b2-4613-afb8-2d81a6f5c629",
   "metadata": {},
   "source": [
    "![](https://miro.medium.com/v2/resize:fit:720/format:webp/1*jy7A04FrEoAU4y9p9_2ynA.png)"
   ]
  },
  {
   "cell_type": "markdown",
   "id": "b373d587-8453-4d27-8421-347bebbda000",
   "metadata": {},
   "source": [
    "- 인접행렬의 대각선은 모든 노드에 대한self-loop를 하기 위해 1로 변경\n",
    "\n",
    "- 특정 집계를 수행할 때 모든 노든 자체의 특징 포함\n",
    "\n"
   ]
  },
  {
   "cell_type": "markdown",
   "id": "4e8ead29-aaa0-413e-a4e2-96134fd78eb5",
   "metadata": {},
   "source": [
    "![](https://miro.medium.com/v2/resize:fit:720/format:webp/1*KMZrQGKua0WB_Tmwl2PycQ.png)"
   ]
  },
  {
   "cell_type": "markdown",
   "id": "76f5f186-525d-465a-9942-9c9606de246f",
   "metadata": {},
   "source": [
    "`-` 그래프 신경망"
   ]
  },
  {
   "cell_type": "markdown",
   "id": "43b0ca35-6017-40b3-81eb-1d90793aa1c8",
   "metadata": {},
   "source": [
    "- 메시지 전달 함수\n",
    "\n",
    "- 노드 업데이트 함수\n",
    "\n",
    "- 판독 함수가 있는 메시지 전달 신경망"
   ]
  },
  {
   "cell_type": "markdown",
   "id": "91cd1748-58cf-4ae2-9631-bdaffd789841",
   "metadata": {},
   "source": [
    "# References"
   ]
  },
  {
   "cell_type": "markdown",
   "id": "0e21c938-4328-405d-88df-8dff3e0bbe2d",
   "metadata": {},
   "source": [
    "- F.Scarselli, M.Gori, “The graph neural network model,” IEEE Transactions on Neural Networks, 2009\n",
    "\n",
    "- T. N. Kipf and M. Welling, “Semi-supervised classification with graph convolutional networks,” in Proc. of ICLR, 2017.\n",
    "\n",
    "- Z. Wu, S. Pan, F. Chen, G. Long, C. Zhang, Philip S. Yu, “A Comprehensive Survey on Graph Neural Networks”, arXiv:1901.00596\n",
    "\n",
    "- D. Xu, Y. Zhu, C. B. Choy, and L. Fei-Fei, “Scene graph generation by iterative message passing,” in Proc. of CVPR, vol. 2, 2017\n",
    "\n",
    "- J. Johnson, A. Gupta, and L. Fei-Fei, “Image generation from scene graphs,” in Proc. of CVPR, 2018\n",
    "\n",
    "- X. Wang, Y. Ye, and A. Gupta, “Zero-shot recognition via semantic embeddings and knowledge graphs,” in CVPR 2018"
   ]
  },
  {
   "cell_type": "code",
   "execution_count": null,
   "id": "a8d532e1-04cd-4d06-ad77-ab8c5a33c2f2",
   "metadata": {},
   "outputs": [],
   "source": []
  }
 ],
 "metadata": {
  "kernelspec": {
   "display_name": "Python 3 (ipykernel)",
   "language": "python",
   "name": "python3"
  },
  "language_info": {
   "codemirror_mode": {
    "name": "ipython",
    "version": 3
   },
   "file_extension": ".py",
   "mimetype": "text/x-python",
   "name": "python",
   "nbconvert_exporter": "python",
   "pygments_lexer": "ipython3",
   "version": "3.8.16"
  }
 },
 "nbformat": 4,
 "nbformat_minor": 5
}
