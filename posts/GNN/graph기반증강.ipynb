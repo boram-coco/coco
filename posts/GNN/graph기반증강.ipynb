{
 "cells": [
  {
   "cell_type": "raw",
   "id": "7adc5ba1-0db9-43d6-84c8-8e8801fd585c",
   "metadata": {},
   "source": [
    "---\n",
    "title: \"[GNN] Graph 기반 증강\"\n",
    "author: \"김보람\"\n",
    "date: \"01/01/2024\"\n",
    "categories:\n",
    "  - GNN\n",
    "---"
   ]
  },
  {
   "cell_type": "markdown",
   "id": "a3f7aaf8-ee18-4bff-8496-71465b09d8b0",
   "metadata": {
    "tags": []
   },
   "source": [
    "# Graph 기반 증강"
   ]
  },
  {
   "cell_type": "markdown",
   "id": "c18496c5-5fa2-40ca-ba16-d1e76c181a12",
   "metadata": {},
   "source": [
    "## GRAN"
   ]
  },
  {
   "cell_type": "markdown",
   "id": "c251d2a4-366d-4b8d-9ab1-c96c01cee5cc",
   "metadata": {},
   "source": [
    "GRAN은 그래프 불균형을 해결하기 위해 무작위 그래프 증강을 사용하는 방법"
   ]
  },
  {
   "cell_type": "markdown",
   "id": "72a3f2f0-8b4f-4f61-9b38-7b47af5352ec",
   "metadata": {},
   "source": [
    "```python\n",
    "import torch\n",
    "import torch.nn as nn\n",
    "import torch.optim as optim\n",
    "\n",
    "class GRAN(nn.Module):\n",
    "    def __init__(self, input_dim, hidden_dim, output_dim):\n",
    "        super(GRAN, self).__init__()\n",
    "        self.conv1 = torch.nn.GraphConvolution(input_dim, hidden_dim)\n",
    "        self.conv2 = torch.nn.GraphConvolution(hidden_dim, output_dim)\n",
    "\n",
    "    def forward(self, x, adjacency_matrix):\n",
    "        x = F.relu(self.conv1(x, adjacency_matrix))\n",
    "        x = self.conv2(x, adjacency_matrix)\n",
    "        return x\n",
    "\n",
    "# 데이터 로딩 및 전처리\n",
    "# ...\n",
    "\n",
    "# 모델 초기화\n",
    "model = GRAN(input_dim, hidden_dim, output_dim)\n",
    "criterion = nn.CrossEntropyLoss()\n",
    "optimizer = optim.Adam(model.parameters(), lr=0.001)\n",
    "\n",
    "# 학습 루프\n",
    "for epoch in range(num_epochs):\n",
    "    # 그래프 증강 수행\n",
    "    augmented_data = augment_graph(original_data)\n",
    "    \n",
    "    # 모델 학습\n",
    "    output = model(augmented_data)\n",
    "    loss = criterion(output, labels)\n",
    "    optimizer.zero_grad()\n",
    "    loss.backward()\n",
    "    optimizer.step()\n",
    "```"
   ]
  },
  {
   "cell_type": "markdown",
   "id": "cd8a6ceb-9002-4e07-ad9e-af2dbb3fa23e",
   "metadata": {},
   "source": [
    "## CARE_GNN"
   ]
  },
  {
   "cell_type": "markdown",
   "id": "fb002529-f1b2-4974-931f-890ffd1c92b3",
   "metadata": {},
   "source": [
    "CARE-GNN은 적대적 학습을 사용하여 그래프 데이터를 향상시키는 방법"
   ]
  },
  {
   "cell_type": "markdown",
   "id": "564788c6-c013-4e2d-bd79-02918bbb88b0",
   "metadata": {},
   "source": [
    "```python\n",
    "import torch\n",
    "import torch.nn as nn\n",
    "import torch.optim as optim\n",
    "from torch_geometric.nn import GCNConv\n",
    "\n",
    "class CARE_GNN(nn.Module):\n",
    "    def __init__(self, input_dim, hidden_dim, output_dim):\n",
    "        super(CARE_GNN, self).__init__()\n",
    "        self.conv1 = GCNConv(input_dim, hidden_dim)\n",
    "        self.conv2 = GCNConv(hidden_dim, output_dim)\n",
    "\n",
    "    def forward(self, x, edge_index):\n",
    "        x = F.relu(self.conv1(x, edge_index))\n",
    "        x = self.conv2(x, edge_index)\n",
    "        return x\n",
    "\n",
    "# 데이터 로딩 및 전처리\n",
    "# ...\n",
    "\n",
    "# 모델 초기화\n",
    "model = CARE_GNN(input_dim, hidden_dim, output_dim)\n",
    "criterion = nn.CrossEntropyLoss()\n",
    "optimizer = optim.Adam(model.parameters(), lr=0.001)\n",
    "\n",
    "# 학습 루프\n",
    "for epoch in range(num_epochs):\n",
    "    # 적대적 학습 수행\n",
    "    adversarial_data = adversarial_training(original_data)\n",
    "    \n",
    "    # 모델 학습\n",
    "    output = model(adversarial_data)\n",
    "    loss = criterion(output, labels)\n",
    "    optimizer.zero_grad()\n",
    "    loss.backward()\n",
    "    optimizer.step()\n",
    "\n",
    "```"
   ]
  },
  {
   "cell_type": "code",
   "execution_count": null,
   "id": "a910fe0c-8174-491b-a787-5255ef268e24",
   "metadata": {},
   "outputs": [],
   "source": []
  }
 ],
 "metadata": {
  "kernelspec": {
   "display_name": "Python 3 (ipykernel)",
   "language": "python",
   "name": "python3"
  },
  "language_info": {
   "codemirror_mode": {
    "name": "ipython",
    "version": 3
   },
   "file_extension": ".py",
   "mimetype": "text/x-python",
   "name": "python",
   "nbconvert_exporter": "python",
   "pygments_lexer": "ipython3",
   "version": "3.8.18"
  }
 },
 "nbformat": 4,
 "nbformat_minor": 5
}
