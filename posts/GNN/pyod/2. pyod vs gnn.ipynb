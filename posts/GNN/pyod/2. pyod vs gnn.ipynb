{
 "cells": [
  {
   "cell_type": "code",
   "execution_count": null,
   "id": "c959b8b9-6db1-4f72-8461-94b87d38684f",
   "metadata": {},
   "outputs": [],
   "source": []
  },
  {
   "cell_type": "code",
   "execution_count": null,
   "id": "a3679e64-0c1b-456b-9261-b826f4b1386e",
   "metadata": {},
   "outputs": [],
   "source": []
  },
  {
   "cell_type": "code",
   "execution_count": null,
   "id": "dc704e86-e4a8-4d11-b077-9f41c4e0e493",
   "metadata": {},
   "outputs": [],
   "source": []
  },
  {
   "cell_type": "raw",
   "id": "71c59c45-3280-401c-b2d6-0d11d724dea3",
   "metadata": {},
   "source": [
    "---\n",
    "title: \"[pyod] vs gnn code simple example\"\n",
    "author: \"김보람\"\n",
    "date: \"10/04/2023\"\n",
    "---"
   ]
  },
  {
   "cell_type": "markdown",
   "id": "25231b3c-f3e7-406e-9dfc-fedcb6bdc4cc",
   "metadata": {},
   "source": [
    "# import"
   ]
  },
  {
   "cell_type": "code",
   "execution_count": null,
   "id": "4cb4a576-951a-488e-953c-a6a10d6f9b17",
   "metadata": {},
   "outputs": [],
   "source": []
  },
  {
   "cell_type": "raw",
   "id": "41d6d510-cd37-4a1a-9dde-77cafb78e9d2",
   "metadata": {},
   "source": []
  },
  {
   "cell_type": "code",
   "execution_count": 17,
   "id": "69f3d3a4-489c-43e8-a06f-8735cf7414d8",
   "metadata": {},
   "outputs": [],
   "source": [
    "import pandas as pd\n",
    "import numpy as np\n",
    "\n",
    "# pyod\n",
    "from pyod.models.knn import KNN\n",
    "from pyod.utils.data import generate_data\n",
    "\n",
    "# sklearn\n",
    "import sklearn\n",
    "from sklearn import metrics\n",
    "from sklearn.metrics import f1_score\n",
    "\n",
    "metrics = [sklearn.metrics.accuracy_score,\n",
    "           sklearn.metrics.precision_score,\n",
    "           sklearn.metrics.recall_score,\n",
    "           sklearn.metrics.f1_score]\n",
    "\n",
    "# gcn\n",
    "import torch\n",
    "import torch.nn.functional as F\n",
    "import torch_geometric\n",
    "from torch_geometric.nn import GCNConv\n",
    "from torch_geometric.data import Data, DataLoader\n",
    "\n",
    "class GCN(torch.nn.Module):\n",
    "    def __init__(self):\n",
    "        super().__init__()\n",
    "        self.conv1 = GCNConv(data.num_node_features, 16)\n",
    "        self.conv2 = GCNConv(16,2)\n",
    "\n",
    "    def forward(self, data):\n",
    "        x, edge_index = data.x, data.edge_index\n",
    "\n",
    "        x = self.conv1(x, edge_index)\n",
    "        x = F.relu(x)\n",
    "        x = F.dropout(x, training=self.training)\n",
    "        x = self.conv2(x, edge_index)\n",
    "\n",
    "        return F.log_softmax(x, dim=1)"
   ]
  },
  {
   "cell_type": "markdown",
   "id": "7e2e921e-c2e0-414d-ad55-06d66f7d6d26",
   "metadata": {},
   "source": [
    "# pyod"
   ]
  },
  {
   "cell_type": "code",
   "execution_count": 2,
   "id": "ee4a5112-d679-467c-a81f-0a35ff96d9a6",
   "metadata": {},
   "outputs": [
    {
     "data": {
      "text/html": [
       "<div>\n",
       "<style scoped>\n",
       "    .dataframe tbody tr th:only-of-type {\n",
       "        vertical-align: middle;\n",
       "    }\n",
       "\n",
       "    .dataframe tbody tr th {\n",
       "        vertical-align: top;\n",
       "    }\n",
       "\n",
       "    .dataframe thead th {\n",
       "        text-align: right;\n",
       "    }\n",
       "</style>\n",
       "<table border=\"1\" class=\"dataframe\">\n",
       "  <thead>\n",
       "    <tr style=\"text-align: right;\">\n",
       "      <th></th>\n",
       "      <th>accuracy_score</th>\n",
       "      <th>precision_score</th>\n",
       "      <th>recall_score</th>\n",
       "      <th>f1_score</th>\n",
       "    </tr>\n",
       "  </thead>\n",
       "  <tbody>\n",
       "    <tr>\n",
       "      <th>분석1</th>\n",
       "      <td>0.98</td>\n",
       "      <td>0.833333</td>\n",
       "      <td>1.0</td>\n",
       "      <td>0.909091</td>\n",
       "    </tr>\n",
       "  </tbody>\n",
       "</table>\n",
       "</div>"
      ],
      "text/plain": [
       "     accuracy_score  precision_score  recall_score  f1_score\n",
       "분석1            0.98         0.833333           1.0  0.909091"
      ]
     },
     "execution_count": 2,
     "metadata": {},
     "output_type": "execute_result"
    }
   ],
   "source": [
    "np.random.seed(42)\n",
    "X, XX, y, yy = generate_data(n_train=200, n_test=100, contamination=0.1)\n",
    "clf = KNN()\n",
    "clf.fit(X)\n",
    "yyhat = clf.predict(XX)\n",
    "_results1= pd.DataFrame({m.__name__:[m(yy,yyhat).round(6)] for m in metrics},index=['분석1'])\n",
    "_results1"
   ]
  },
  {
   "cell_type": "markdown",
   "id": "8c0303d0-6547-4b76-b371-f0460b55c9c5",
   "metadata": {},
   "source": [
    "# GCN"
   ]
  },
  {
   "cell_type": "code",
   "execution_count": 22,
   "id": "3e0c5b4e-5ecc-42b6-b201-dcf41b99eff0",
   "metadata": {},
   "outputs": [
    {
     "name": "stderr",
     "output_type": "stream",
     "text": [
      "/home/coco/anaconda3/envs/py38/lib/python3.8/site-packages/torch_geometric/deprecation.py:22: UserWarning: 'data.DataLoader' is deprecated, use 'loader.DataLoader' instead\n",
      "  warnings.warn(out)\n"
     ]
    },
    {
     "name": "stdout",
     "output_type": "stream",
     "text": [
      "Accuracy: 0.9\n",
      "F1 Score: 0.9\n",
      "Precision: 0.9\n",
      "Recall: 0.9\n"
     ]
    }
   ],
   "source": [
    "np.random.seed(42)\n",
    "X, XX, y, yy = generate_data(n_train=200, n_test=100, contamination=0.1)\n",
    "X_combined = np.vstack((X, XX))\n",
    "y_combined = np.hstack((y, yy))\n",
    "\n",
    "num_nodes = data.num_nodes\n",
    "edge_index = torch.tensor([(i, j) for i in range(num_nodes) for j in range(num_nodes) if i != j], dtype=torch.long).t()\n",
    "data = Data(x=torch.tensor(X_combined, dtype=torch.float32), y=torch.tensor(y_combined, dtype=torch.long), edge_index=edge_index)\n",
    "\n",
    "model = GCN()\n",
    "optimizer = torch.optim.Adam(model.parameters(), lr=0.01)\n",
    "criterion = torch.nn.NLLLoss()\n",
    "\n",
    "train_loader = DataLoader([data], batch_size=1, shuffle=True)\n",
    "\n",
    "model.train()\n",
    "for epoch in range(100):\n",
    "    for batch in train_loader:\n",
    "        optimizer.zero_grad()\n",
    "        out = model(batch)\n",
    "        loss = criterion(out, batch.y)\n",
    "        loss.backward()\n",
    "        optimizer.step()\n",
    "\n",
    "model.eval() \n",
    "with torch.no_grad():\n",
    "    out = model(data)\n",
    "    yyhat = out.argmax(dim=1)\n",
    "\n",
    "\n",
    "accuracy = accuracy_score(y_combined, predicted)\n",
    "f1 = f1_score(y_combined, predicted, average='micro')\n",
    "precision = precision_score(y_combined, predicted, average='micro')\n",
    "recall = recall_score(y_combined, predicted, average='micro')\n",
    "\n",
    "\n",
    "print(\"Accuracy:\", accuracy)\n",
    "print(\"F1 Score:\", f1)\n",
    "print(\"Precision:\", precision)\n",
    "print(\"Recall:\", recall)\n",
    "    \n",
    "\n",
    "# _results2= pd.DataFrame({m.__name__:[m(yy,yyhat).round(6)] for m in metrics},index=['분석2'])\n",
    "# _results2\n"
   ]
  }
 ],
 "metadata": {
  "kernelspec": {
   "display_name": "Python 3 (ipykernel)",
   "language": "python",
   "name": "python3"
  },
  "language_info": {
   "codemirror_mode": {
    "name": "ipython",
    "version": 3
   },
   "file_extension": ".py",
   "mimetype": "text/x-python",
   "name": "python",
   "nbconvert_exporter": "python",
   "pygments_lexer": "ipython3",
   "version": "3.8.18"
  }
 },
 "nbformat": 4,
 "nbformat_minor": 5
}
