{
  "cells": [
    {
      "cell_type": "markdown",
      "metadata": {},
      "source": [
        "# \\[Data Science Tool Box\\] 2일차 실습\n",
        "\n",
        "김보람  \n",
        "2024-01-03\n",
        "\n",
        "## 실습13: 숙제검사"
      ],
      "id": "4fece6b1-f8dc-4e4d-91e6-0f63e41be27c"
    },
    {
      "cell_type": "code",
      "execution_count": 3,
      "metadata": {},
      "outputs": [
        {
          "output_type": "stream",
          "name": "stdout",
          "text": [
            "GNN/  _metadata.yml  Note/  ref.bib  Study/  Synthetic/  untitled.txt"
          ]
        }
      ],
      "source": [
        "ls .."
      ],
      "id": "291f6655-8c83-4853-aa6f-a358505924bb"
    },
    {
      "cell_type": "markdown",
      "metadata": {},
      "source": [
        "-   상위 폴더에 들어있는 파일들"
      ],
      "id": "dcb34dcc-8f1a-4b10-a4f5-dbc5ed205a25"
    },
    {
      "cell_type": "code",
      "execution_count": 4,
      "metadata": {},
      "outputs": [
        {
          "output_type": "stream",
          "name": "stdout",
          "text": [
            "'[DSTBX] day1.ipynb'  '콰트로 블로그 만드는 법.ipynb'\n",
            "'[DSTBX] day2.ipynb'   Ref.ipynb"
          ]
        }
      ],
      "source": [
        "ls ."
      ],
      "id": "c51aed68-e1cc-41f5-b4a8-3ed2c4c18e71"
    },
    {
      "cell_type": "markdown",
      "metadata": {},
      "source": [
        "-   현재 폴더"
      ],
      "id": "f2a092a8-db16-4f33-8f6f-44c31c23e2e0"
    },
    {
      "cell_type": "code",
      "execution_count": 5,
      "metadata": {},
      "outputs": [
        {
          "output_type": "stream",
          "name": "stdout",
          "text": [
            "'An Introduction to Graph Neural Network(GNN) For Analysing Structured Data.ipynb'\n",
            " DGCN.png\n",
            " GNN논문.ipynb\n",
            "'Graph basic.ipynb'\n",
            " image1.png\n",
            " image2.png\n",
            " Laplacian.ipynb\n",
            " Laplacian.png\n",
            "'Neural Network.ipynb'\n",
            " Untitled1.ipynb"
          ]
        }
      ],
      "source": [
        "ls ../GNN"
      ],
      "id": "47e21c88-083f-4e9a-b009-7111d696c9fc"
    },
    {
      "cell_type": "markdown",
      "metadata": {},
      "source": [
        "-   ../폴더명 쓰면 위와 같이 나온다"
      ],
      "id": "5257a7c1-12f4-4ccf-9c3c-83c41aa1a1cb"
    },
    {
      "cell_type": "code",
      "execution_count": 7,
      "metadata": {},
      "outputs": [],
      "source": [
        "cat ../GNN/image1.png"
      ],
      "id": "716d5d6b-2bfe-496a-8de2-85a8b8c1d73b"
    },
    {
      "cell_type": "markdown",
      "metadata": {},
      "source": [
        "ls ../GNN \\> fnames.txt 하면 폴더가 옮겨진다\n",
        "\n",
        "`-` 이거 클론하세요\n",
        "\n",
        "`-` 방법1\n",
        "\n",
        "``` python\n",
        "!ls ../1dayhw \n",
        "```\n",
        "\n",
        "``` python\n",
        "!cat ../1dayhw/coco.txt\n",
        "```\n",
        "\n",
        "`-` 방법2"
      ],
      "id": "fde49e95-6472-4433-b15d-68d850c9f496"
    },
    {
      "cell_type": "code",
      "execution_count": 3,
      "metadata": {
        "tags": []
      },
      "outputs": [],
      "source": [
        "!ls ../1dayhw > fnames.txt"
      ],
      "id": "2d5c7311-07fb-49f7-b9d9-f8900c63c61a"
    },
    {
      "cell_type": "code",
      "execution_count": 4,
      "metadata": {
        "tags": []
      },
      "outputs": [],
      "source": [
        "!chmod +x show.sh"
      ],
      "id": "d42296d2-eced-4b44-b06a-9c4b99a9a26e"
    },
    {
      "cell_type": "markdown",
      "metadata": {},
      "source": [
        "-   권한을 받기 위해서 `chmod + x show.sh`"
      ],
      "id": "d7d9000f-d415-4e12-a594-fb3ae382a40b"
    },
    {
      "cell_type": "code",
      "execution_count": 27,
      "metadata": {
        "tags": []
      },
      "outputs": [],
      "source": [
        "#!./show.sh"
      ],
      "id": "bd417a4a-fe46-4dd1-8f7a-88b0cd545737"
    },
    {
      "cell_type": "markdown",
      "metadata": {},
      "source": [
        "`-` 방법3: 아래의 파일을 생성하고 출력\n",
        "\n",
        "``` bash\n",
        "fnames=(\n",
        "    \"coco.txt\", \"coco2.txt\"\n",
        ")\n",
        "for fname in \"${fnames[@]}\"; do\n",
        "    echo \"File: $fname\"\n",
        "    cat \"../1dayhw/$fname\"\n",
        "    echo \"----------------\"\n",
        "done\n",
        "```"
      ],
      "id": "bbaf10d0-bec0-4cde-be29-98409cd59e48"
    },
    {
      "cell_type": "code",
      "execution_count": 17,
      "metadata": {
        "tags": []
      },
      "outputs": [],
      "source": [
        "#!bash show2.sh"
      ],
      "id": "2fd489ee-c36f-4b45-801f-ae2de9607131"
    },
    {
      "cell_type": "markdown",
      "metadata": {},
      "source": [
        "`-` `./show2.sh` 와 `bash show2.sh` 의 차이?\n",
        "\n",
        "-   스크립트의 권한, 셸 지정\n",
        "-   잘 모르겠어요\n",
        "\n",
        "------------------------------------------------------------------------\n",
        "\n",
        "저 숙제를 바탕으로 183 컴퓨터에 계정을 생성했습니다.\n",
        "\n",
        "***그냥 참고용.. 이렇게도 가능함 ㅎㅎ***"
      ],
      "id": "bee81a16-e936-4311-80eb-deb4772682e1"
    },
    {
      "cell_type": "code",
      "execution_count": 10,
      "metadata": {
        "tags": []
      },
      "outputs": [],
      "source": [
        "file_names = [\n",
        "    \"coco\", \"coco_2\"\n",
        "]"
      ],
      "id": "bea79c20-a251-4efc-a18b-1832982bf938"
    },
    {
      "cell_type": "markdown",
      "metadata": {},
      "source": [
        "``` python\n",
        "for username in file_names:\n",
        "    print(f'adduser {username} --gecos \"\" --disabled-password && echo \"{username}:jbnu\" | chpasswd && usermod -aG sudo {username}')\n",
        "```\n",
        "\n",
        "------------------------------------------------------------------------\n",
        "\n",
        "## 실습14: 183 컴퓨터 접속 + passwd\n",
        "\n",
        "-   passwd\n",
        "\n",
        "-   그 이후에 패스워드 잘 바꾸면 뎀 ㅂㄹㅂㄹ\n",
        "\n",
        "## 실습15: 183에서 git의 설치 및 연결\n",
        "\n",
        "-   which git: git이 어디에 있는지 찾아줘!\n",
        "\n",
        "-   sudo apt-get install git\n",
        "\n",
        "-   sudo apt-get remove git\n",
        "\n",
        "-   `ls gi*` 하면 gi~로 시작하는 걸 찾아줌\n",
        "\n",
        "-   일반유저(권한별로 없는 칭구 sudo로 하려 하면 거부당함)\\<\n",
        "    슈퍼유저(평소엔 일반 유저인데 가끔 루트유저의 역할을 할 수 있눈..)\n",
        "    \\< 루트유저(사실상없는유저.. 개쎔)\n",
        "\n",
        "-   `cd ~` 하면 고향으로 돌아간담.. : `/home/coco/`\n",
        "\n",
        "## 실습16: 183에서 quarto의 설치\n",
        "\n",
        "-   which quarto\n",
        "-   wget\n",
        "    https://github.com/quarto-dev/quarto-cli/releases/download/v1.4.533/quarto-1.4.533-linux-amd64.deb\n",
        "-   sudo dpkg -i quarto-1.4.533-linux-amd64.deb : ~을 실행해!(설치해!\n",
        "    -install)\n",
        "-   sudo dpkg -r quarto : remove\n",
        "\n",
        "## 실습17: 183에서 아나콘다 설치\n",
        "\n",
        "-   https://www.anaconda.com/download \\<- 여기서 다운받을 수 있는 주소\n",
        "    get 하세여\n",
        "-   bash Anaconda3-2019.03-Linux-x86_64.sh\n",
        "\n",
        "아나콘다와 git/quarto의 차이는?\n",
        "\n",
        "-   확장자가 sh니까! bash를 이용해서 설치하자. more 뭐시기 나오면 그냥\n",
        "    스페이스 누르면 뎀\n",
        "\n",
        "## 실습18: 183에서 주피터랩 설치\n",
        "\n",
        "-   conda create -n py310 python=3.10\n",
        "-   conda activate py310\n",
        "-   conda install -c conda-forge jupyterlab\n",
        "-   conda install -c conda-forge notebook\n",
        "\n",
        "`-` 접속하는 방법1\n",
        "\n",
        "-   jupyter lab –ip=“0.0.0.0” –port=4자리\n",
        "\n",
        "원래는 저 ip에 이름 써야는데 만약 내컴퓨터 ip있으면 그거 하면 되는겨\n",
        "\n",
        "-   쭈르륵 뭐 나오는데 그러고 나서 토큰 비밀번호 복사해서 (ip:port4자리)\n",
        "    들어가서 비번에 쳐주기\n",
        "\n",
        "`-` 접속하는 방법2\n",
        "\n",
        "-   jupyter notebook password\n",
        "\n",
        "## 실습19: 1일차 숙제 쉽게 하는 방법\n",
        "\n",
        "https://guebin.github.io/IP2022/2022/03/28/(4주차)-3월28일.html\n",
        "\n",
        "`-` 깃헙에서 홈페이지 만들경우 대응하는 레포지토리를 찾으면 쉽게\n",
        "복사가능."
      ],
      "id": "9b71bced-0e25-4ce8-bfdc-2bd5fdbb74e4"
    },
    {
      "cell_type": "code",
      "execution_count": 28,
      "metadata": {
        "tags": []
      },
      "outputs": [],
      "source": [
        "#!wget \"https://raw.githubusercontent.com/guebin/IP2022/master/_notebooks/2022-03-28-(4%EC%A3%BC%EC%B0%A8)%203%EC%9B%9428%EC%9D%BC.ipynb\""
      ],
      "id": "fa147df6-a281-4424-bbe6-04406d2888c5"
    },
    {
      "cell_type": "markdown",
      "metadata": {},
      "source": [
        "## 실습20: 블로그 꾸미기\n",
        "\n",
        "## 실습21: 이미지 그리기 (슈퍼유저)\n",
        "\n",
        "`-` 방법1"
      ],
      "id": "cfe76f56-3ec4-433e-9066-be25596dd6f4"
    },
    {
      "cell_type": "code",
      "execution_count": 11,
      "metadata": {
        "tags": []
      },
      "outputs": [
        {
          "output_type": "stream",
          "name": "stdout",
          "text": [
            "--2024-01-03 19:03:01--  https://imgs.xkcd.com/comics/sandwich.png\n",
            "Resolving imgs.xkcd.com (imgs.xkcd.com)... 146.75.48.67, 2a04:4e42:7c::67\n",
            "Connecting to imgs.xkcd.com (imgs.xkcd.com)|146.75.48.67|:443... connected.\n",
            "HTTP request sent, awaiting response... 200 OK\n",
            "Length: 11828 (12K) [image/png]\n",
            "Saving to: ‘sandwich.png’\n",
            "\n",
            "sandwich.png        100%[===================>]  11.55K  --.-KB/s    in 0s      \n",
            "\n",
            "2024-01-03 19:03:02 (37.9 MB/s) - ‘sandwich.png’ saved [11828/11828]\n"
          ]
        }
      ],
      "source": [
        "# !wget https://imgs.xkcd.com/comics/sandwich.png"
      ],
      "id": "8ea802eb-69b0-46bc-acc7-07044449f692"
    },
    {
      "cell_type": "markdown",
      "metadata": {},
      "source": [
        "`-` 방법2\n",
        "\n",
        "![](https://imgs.xkcd.com/comics/sandwich.png)\n",
        "\n",
        "`-` 방법3: 스크린샷\n",
        "\n",
        "## 실습22: 182 ssh우회하기 (배운적X)\n",
        "\n",
        "-   sudo vi /etc/ssh/sshd_config\n",
        "-   sudo systemctl restart ssh.service\n",
        "\n",
        "## 실습23: 186 컴퓨터 접속\n",
        "\n",
        "## 실습25: 186 컴퓨터 개발환경 셋팅하기\n",
        "\n",
        "https://guebin.github.io/MP2023/offline/231128.html\n",
        "\n",
        "여기에서 2-E, 2-G 빼고 하기"
      ],
      "id": "0e0da293-40ff-48d7-b42f-1dfc23b44626"
    }
  ],
  "nbformat": 4,
  "nbformat_minor": 5,
  "metadata": {
    "kernelspec": {
      "name": "python3",
      "display_name": "Python 3 (ipykernel)",
      "language": "python"
    },
    "language_info": {
      "name": "python",
      "codemirror_mode": {
        "name": "ipython",
        "version": "3"
      },
      "file_extension": ".py",
      "mimetype": "text/x-python",
      "nbconvert_exporter": "python",
      "pygments_lexer": "ipython3",
      "version": "3.8.18"
    }
  }
}