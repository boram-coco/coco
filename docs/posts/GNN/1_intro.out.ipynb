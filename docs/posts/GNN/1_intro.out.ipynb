{
  "cells": [
    {
      "cell_type": "markdown",
      "metadata": {},
      "source": [
        "# \n",
        "\n",
        "# Detector Example\n",
        "\n",
        "In this tutorial, you will learn the basic workflow of PyGOD with an\n",
        "example of DOMINANT. This tutorial assumes that you have basic\n",
        "familiarity with PyTorch and PyTorch Geometric (PyG).\n",
        "\n",
        "(Time estimate: 5 minutes)\n",
        "\n",
        "## Data Loading\n",
        "\n",
        "PyGOD use `torch_geometric.data.Data` to handle the data. Here, we use\n",
        "Cora, a PyG built-in dataset, as an example. To load your own dataset\n",
        "into PyGOD, you can refer to [creating your own datasets\n",
        "tutorial](https://pytorch-geometric.readthedocs.io/en/latest/notes%20/create_dataset.html)\\_\n",
        "in PyG."
      ],
      "id": "93e7be60-5fe2-4bba-b490-7c9cf2dee7fe"
    },
    {
      "cell_type": "code",
      "execution_count": 13,
      "metadata": {
        "jupyter": {
          "outputs_hidden": false
        }
      },
      "outputs": [],
      "source": [
        "import torch_geometric.transforms as T\n",
        "from torch_geometric.datasets import Planetoid\n",
        "\n",
        "data = Planetoid('./data/Cora', 'Cora', transform=T.NormalizeFeatures())[0]"
      ],
      "id": "cell-2"
    },
    {
      "cell_type": "markdown",
      "metadata": {},
      "source": [
        "Because there is no ground truth label of outliers in Cora, we follow\n",
        "the method used by DOMINANT to inject 100 contextual outliers and 100\n",
        "structure outliers into the graph. Note: If your dataset already\n",
        "contains the outliers you want to detect, you don’t have to inject more\n",
        "outliers."
      ],
      "id": "588f8142-229b-4008-a803-fead8b9a6220"
    },
    {
      "cell_type": "code",
      "execution_count": 14,
      "metadata": {
        "jupyter": {
          "outputs_hidden": false
        }
      },
      "outputs": [],
      "source": [
        "import torch\n",
        "from pygod.generator import gen_contextual_outlier, gen_structural_outlier\n",
        "\n",
        "data, ya = gen_contextual_outlier(data, n=100, k=50)\n",
        "data, ys = gen_structural_outlier(data, m=10, n=10)\n",
        "data.y = torch.logical_or(ys, ya).long()"
      ],
      "id": "cell-4"
    },
    {
      "cell_type": "markdown",
      "metadata": {},
      "source": [
        "We also provide various type of built-in datasets. You can load them by\n",
        "passing the name of the dataset to `load_data` function. See [data\n",
        "repository](https://github.com/pygod-team/data)\\_ for more details."
      ],
      "id": "043e5195-20b7-4b90-9fbe-67cb581b1291"
    },
    {
      "cell_type": "code",
      "execution_count": 15,
      "metadata": {
        "jupyter": {
          "outputs_hidden": false
        }
      },
      "outputs": [],
      "source": [
        "from pygod.utils import load_data\n",
        "\n",
        "data = load_data('inj_cora')\n",
        "data.y = data.y.bool()"
      ],
      "id": "cell-6"
    },
    {
      "cell_type": "markdown",
      "metadata": {},
      "source": [
        "## Initialization\n",
        "\n",
        "You can use any detector by simply initializing without passing any\n",
        "arguments. Default hyperparameters are ready for you. Of course, you can\n",
        "also customize the parameters by passing arguments. Here, we use\n",
        "`pygod.detector.DOMINANT` as an example."
      ],
      "id": "90d8697a-9875-47fc-a455-af55848df74d"
    },
    {
      "cell_type": "code",
      "execution_count": 16,
      "metadata": {
        "jupyter": {
          "outputs_hidden": false
        }
      },
      "outputs": [],
      "source": [
        "from pygod.detector import DOMINANT\n",
        "\n",
        "detector = DOMINANT(hid_dim=64, num_layers=4, epoch=100)"
      ],
      "id": "cell-8"
    },
    {
      "cell_type": "markdown",
      "metadata": {},
      "source": [
        "## Training\n",
        "\n",
        "To train the detector with the loaded data, simply feed the\n",
        "`torch_geometric.data.Data` object into the detector via `fit`."
      ],
      "id": "2d77d6cd-75f5-4d9b-9dc5-20d1cf5e70d2"
    },
    {
      "cell_type": "code",
      "execution_count": 17,
      "metadata": {
        "jupyter": {
          "outputs_hidden": false
        }
      },
      "outputs": [],
      "source": [
        "detector.fit(data)"
      ],
      "id": "cell-10"
    },
    {
      "cell_type": "markdown",
      "metadata": {},
      "source": [
        "## Inference\n",
        "\n",
        "After training, the detector is ready to use. You can use the detector\n",
        "to predict the labels, raw outlier scores, probability of the\n",
        "outlierness, and prediction confidence. Here, we use the loaded data as\n",
        "an example."
      ],
      "id": "4a2a5d48-e258-4c4f-914f-3595ca1d9ec0"
    },
    {
      "cell_type": "code",
      "execution_count": 6,
      "metadata": {
        "jupyter": {
          "outputs_hidden": false
        }
      },
      "outputs": [],
      "source": [
        "pred, score, prob, conf = detector.predict(data,\n",
        "                                           return_pred=True,\n",
        "                                           return_score=True,\n",
        "                                           return_prob=True,\n",
        "                                           return_conf=True)\n",
        "print('Labels:')\n",
        "print(pred)\n",
        "\n",
        "print('Raw scores:')\n",
        "print(score)\n",
        "\n",
        "print('Probability:')\n",
        "print(prob)\n",
        "\n",
        "print('Confidence:')\n",
        "print(conf)"
      ],
      "id": "cell-12"
    },
    {
      "cell_type": "markdown",
      "metadata": {},
      "source": [
        "## Evaluation\n",
        "\n",
        "To evaluate the performance outlier detector with AUC score, you can:"
      ],
      "id": "a112133f-f1ce-4a74-9abf-8afdef31b6b5"
    },
    {
      "cell_type": "code",
      "execution_count": 8,
      "metadata": {
        "jupyter": {
          "outputs_hidden": false
        }
      },
      "outputs": [],
      "source": [
        "from pygod.metric import eval_roc_auc\n",
        "\n",
        "auc_score = eval_roc_auc(data.y, score)\n",
        "print('AUC Score:', auc_score)"
      ],
      "id": "cell-14"
    }
  ],
  "nbformat": 4,
  "nbformat_minor": 5,
  "metadata": {
    "kernelspec": {
      "name": "python3",
      "display_name": "Python 3 (ipykernel)",
      "language": "python"
    },
    "language_info": {
      "name": "python",
      "codemirror_mode": {
        "name": "ipython",
        "version": "3"
      },
      "file_extension": ".py",
      "mimetype": "text/x-python",
      "nbconvert_exporter": "python",
      "pygments_lexer": "ipython3",
      "version": "3.8.18"
    }
  }
}