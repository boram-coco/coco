{
  "cells": [
    {
      "cell_type": "markdown",
      "metadata": {},
      "source": [
        "# 2: file-path-setting\n",
        "\n",
        "김보람  \n",
        "2022-11-24"
      ],
      "id": "a422fe88-f897-4b3e-83f7-54021c872f07"
    },
    {
      "cell_type": "code",
      "execution_count": 11,
      "metadata": {},
      "outputs": [
        {
          "output_type": "stream",
          "name": "stdout",
          "text": [
            "        1개 파일을 이동했습니다."
          ]
        }
      ],
      "source": [
        "!move \"C:\\Users\\user\\Downloads\\도로교통공단_사망 교통사고 정보_20211231.csv\" .\n",
        "# mv: 다운로드 받은 파일을 같은 경로로 옮긴다. 근데 이건 맥에서만..\n",
        "# !move: 이게 윈도우즈 환경. 윈도우즈 환경에서는 맥과 다르게 작성하는듯 "
      ],
      "id": "ad9c2bef"
    },
    {
      "cell_type": "code",
      "execution_count": 18,
      "metadata": {},
      "outputs": [],
      "source": [
        "# 주피터 노트북이 있는 폴더의 경로를 출력한다.\n",
        "%pwd"
      ],
      "id": "2db0d43c"
    },
    {
      "cell_type": "code",
      "execution_count": 12,
      "metadata": {},
      "outputs": [
        {
          "output_type": "stream",
          "name": "stdout",
          "text": [
            " C 드라이브의 볼륨: system\n",
            " 볼륨 일련 번호: 0819-B8FC\n",
            "\n",
            " C:\\Users\\user\\Untitled Folder 디렉터리\n",
            "\n",
            "2022-10-27  오전 10:43    <DIR>          .\n",
            "2022-10-27  오전 10:43    <DIR>          ..\n",
            "2022-10-27  오전 10:35    <DIR>          .ipynb_checkpoints\n",
            "2022-10-26  오후 02:24            45,288 2. 데이터 분석 준비하기.ipynb\n",
            "2022-10-27  오전 10:43             1,498 file-path-setting.ipynb\n",
            "2022-10-25  오후 01:57             2,883 jupyter basic.ipynb\n",
            "2022-10-27  오전 10:37           459,343 도로교통공단_사망 교통사고 정보_20211231.csv\n",
            "               4개 파일             509,012 바이트\n",
            "               3개 디렉터리  113,083,060,224 바이트 남음"
          ]
        }
      ],
      "source": [
        "%ls"
      ],
      "id": "8ff0a3d6"
    },
    {
      "cell_type": "code",
      "execution_count": 13,
      "metadata": {},
      "outputs": [],
      "source": [
        "import pandas as pd"
      ],
      "id": "c8241004"
    },
    {
      "cell_type": "code",
      "execution_count": 17,
      "metadata": {},
      "outputs": [],
      "source": [
        "pd.read_csv(\"data/도로교통공단_사망 교통사고 정보_20211231.csv\", encoding=\"cp949\")\n",
        "# UnicodeDecodeError 이파일의 인코딩이 UTF8이 아니라는 뜻이다.\n",
        "# ()안에서 shift+tab키를 누르면 도움말 본다.\n",
        "# 옵션에 encording=None 으로 설정되어 있음. 인코딩 지정을 해줘야 한다. 엑셀은 cp949 \n",
        "\n",
        "# 파일 옮겨주면 FileNotFoundError 가 난다. -> 파일이 속해있는 곳을  적어주기 "
      ],
      "id": "8dcc5c44"
    }
  ],
  "nbformat": 4,
  "nbformat_minor": 5,
  "metadata": {
    "kernelspec": {
      "name": "python3",
      "display_name": "Python 3",
      "language": "python"
    },
    "language_info": {
      "name": "python",
      "codemirror_mode": {
        "name": "ipython",
        "version": "3"
      },
      "file_extension": ".py",
      "mimetype": "text/x-python",
      "nbconvert_exporter": "python",
      "pygments_lexer": "ipython3",
      "version": "3.7.16"
    },
    "toc": {
      "base_numbering": "1",
      "nav_menu": {},
      "number_sections": true,
      "sideBar": true,
      "skip_h1_title": false,
      "title_cell": "Table of Contents",
      "title_sidebar": "Contents",
      "toc_cell": false,
      "toc_position": {},
      "toc_section_display": true,
      "toc_window_display": false
    }
  }
}